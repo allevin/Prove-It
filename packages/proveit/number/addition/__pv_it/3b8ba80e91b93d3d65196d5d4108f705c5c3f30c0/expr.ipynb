{
 "cells": [
  {
   "cell_type": "markdown",
   "metadata": {},
   "source": [
    "Expression of type <a class=\"ProveItLink\" href=\"../../../../../../doc/html/api/proveit.ExprTuple.html\">ExprTuple</a>\n",
    "=======================\n",
    "# from context <a class=\"ProveItLink\" href=\"../../_context_.ipynb\">proveit.number.addition</a>"
   ]
  },
  {
   "cell_type": "code",
   "execution_count": 1,
   "metadata": {},
   "outputs": [],
   "source": [
    "# import Expression classes needed to build the expression\n",
    "from proveit import ExprTuple\n",
    "from proveit._common_ import a, b, c\n",
    "from proveit.number import Add, one, three, two, zero"
   ]
  },
  {
   "cell_type": "code",
   "execution_count": 2,
   "metadata": {},
   "outputs": [
    {
     "data": {
      "text/html": [
       "<strong id=\"expr\">expr:</strong> <a class=\"ProveItLink\" href=\"expr.ipynb\"><img src=\"data:image/png;base64,iVBORw0KGgoAAAANSUhEUgAAAsUAAAAVBAMAAABcRI4tAAAAMFBMVEX////c3NwiIiJERESqqqqY\n",
       "mJh2dnZmZmYQEBDu7u4yMjJUVFTMzMyIiIi6uroAAAAs73DqAAAAAXRSTlMAQObYZgAABJtJREFU\n",
       "WMPtWU2IG2UYfiaZ/Ez+9dLDCs3JCiq7Bz140B289KJsvHiURSEFcTVYuisrUitSVLQ7IkhhDxta\n",
       "i5g9mIPiT1k2IFTBQ0NBq27TBk9FLBu32ZUpW+NMkpnM+70z+TbQHBZ2DpvsM9/7Ps/7zDfvfN8E\n",
       "ODjGf2TqBx6M8XjB/vOz76mwIQCHFp+SZNO+zUsZtbeu1iiy/M7oui8VHxuvMT6inhD+VxbONyVB\n",
       "qeJLOmJ2vV/4ejEteKxUcUOXKEtUpeJDTe0RAVod2QGlhM0x33xM1CemAEwg3ZYEHULmLlAG0kSt\n",
       "lut9XFx3PP6495E0EGoRhAUhqwsAH3IF+EMY0w4K4ln6zNE2svmAc8OQQOEcEEUtXzQF5DtgUhL0\n",
       "mo4t4HkgTias6jh+w4Gf7X3E30fyP4LwoE1DzMKGPGyNyhEkYwYF8Sx9ZtXPY6aKI4HCGcBFpUXk\n",
       "PQPrzeFBM12PzwJ/YU8eJ0zEZB6/CKnH/wKXdYJE8yN7bF/O+lg95qKYx18aONmUVWL3irCOebvB\n",
       "rb16SuKx3UtNimjFRo0ErTa+FrJM/HqTzFplx/K4TsYk1jYKNOjTuWv+gEfLqkjgnhvUwnQGCmeU\n",
       "XFTa53abNCRB3SdUtIQL1tebuXBL7vHlWYr81EzkvUHabWSp9swpTIN5PEvGrExhlwCpMzjnD7jM\n",
       "qZerIoF7blAL0xkknFMyUX4ep3YgCbpkTwW1jDNW5duITck9Pk8R7SOEyXVTTcSpf4cLOC7zeMbA\n",
       "aQKcreNxf8Cj5bemQOCc89TCdAYJ55RMlJ/HCcEzHoS05W7mbVhNNtlCqC712JHuIMmW0MViZWRL\n",
       "JMs68CgkvWKx26RpEPwBj8dxUyDwqHJqYTqDhHNKJsrP4+PSIGDJQKple5ydwop9k8cqlXMfVCrV\n",
       "gceLlcpDlUqv+W2AItme54OgkLVsLZAst6Ht0rz2M4+OOYLMthBE0/YBD7NSQ3i7i/UJqKpuLUzn\n",
       "EOGckonqe0yQqizoAWC6YHv8rnXH1TEDQzKP1RLuI8jhunD1reXxSZJFuQu1pYlrtxm6dmsjZgpB\n",
       "NO0AcJhXzL7HHgKPKqcWpjNIOKNkovzm8VEowyvROobtsdUrrEa0ouN7tSbx+EfgOYJkrflI2pr1\n",
       "wDtNdGhtJMvPkLxX3BWeg+yKTdxyL+IPuMxlhP6xjfQQuP4PamE6g4RzSiaKe5wqIZIbHnTHWnrk\n",
       "ECnjmNW8C+qRqKQfKw8Wj+VpWyshSi5MUo9VaZYLeLpEaUO69iEd8xXepMA3wCv+gMOcLmBzVtsi\n",
       "BO46flAL0xkknFMyUdzj+4vF1yWV/ILMTnft9qe9pLz+w3V6emHp8wJRGup0OtRjzDd+p9N27YSg\n",
       "Y6Lx95N0na7Nb9TomOWrBQrE5hqGP+AyH134DNpSzkvgzoVBLUxnkHBOyUW9cecERSY7nS1JJerC\n",
       "orXfSjQRz+11bzX6dmkkZKR9nr02zo1vn3cvK7H20pHZ4S+Tb0GKsCCeZQ/IHrIQ5sjIOm/dCw0j\n",
       "VzIX9G5zHxyR/SFTK3dfhO7PY5/8fJO0W5py8FvTOI9rwP94jVz435Et0AAAAABJRU5ErkJggg==\n",
       "\" style=\"display:inline;vertical-align:middle;\" /></a><br>"
      ],
      "text/plain": [
       "expr: (a + 1 + 2 + c + b + a + 0 + b + c + c + 3 , a + a + c + c + c + b + 1 + 2 + b + 3)"
      ]
     },
     "execution_count": 2,
     "metadata": {},
     "output_type": "execute_result"
    }
   ],
   "source": [
    "# build up the expression from sub-expressions\n",
    "expr = ExprTuple(Add(a, one, two, c, b, a, zero, b, c, c, three), Add(a, a, c, c, c, b, one, two, b, three))"
   ]
  },
  {
   "cell_type": "code",
   "execution_count": 3,
   "metadata": {},
   "outputs": [
    {
     "name": "stdout",
     "output_type": "stream",
     "text": [
      "Passed sanity check: built 'expr' is the same as the stored Expression.\n"
     ]
    }
   ],
   "source": [
    "# check that the built expression is the same as the stored expression\n",
    "%check_expr"
   ]
  },
  {
   "cell_type": "code",
   "execution_count": 4,
   "metadata": {},
   "outputs": [
    {
     "data": {
      "text/html": [
       "<table><tr><th>&nbsp;</th><th>core type</th><th>sub-expressions</th><th>expression</th></tr>\n",
       "<tr><td>0</td><td>ExprTuple</td><td>1, 2</td><td><a class=\"ProveItLink\" href=\"expr.ipynb\"><img src=\"data:image/png;base64,iVBORw0KGgoAAAANSUhEUgAAAsUAAAAVBAMAAABcRI4tAAAAMFBMVEX////c3NwiIiJERESqqqqY\n",
       "mJh2dnZmZmYQEBDu7u4yMjJUVFTMzMyIiIi6uroAAAAs73DqAAAAAXRSTlMAQObYZgAABJtJREFU\n",
       "WMPtWU2IG2UYfiaZ/Ez+9dLDCs3JCiq7Bz140B289KJsvHiURSEFcTVYuisrUitSVLQ7IkhhDxta\n",
       "i5g9mIPiT1k2IFTBQ0NBq27TBk9FLBu32ZUpW+NMkpnM+70z+TbQHBZ2DpvsM9/7Ps/7zDfvfN8E\n",
       "ODjGf2TqBx6M8XjB/vOz76mwIQCHFp+SZNO+zUsZtbeu1iiy/M7oui8VHxuvMT6inhD+VxbONyVB\n",
       "qeJLOmJ2vV/4ejEteKxUcUOXKEtUpeJDTe0RAVod2QGlhM0x33xM1CemAEwg3ZYEHULmLlAG0kSt\n",
       "lut9XFx3PP6495E0EGoRhAUhqwsAH3IF+EMY0w4K4ln6zNE2svmAc8OQQOEcEEUtXzQF5DtgUhL0\n",
       "mo4t4HkgTias6jh+w4Gf7X3E30fyP4LwoE1DzMKGPGyNyhEkYwYF8Sx9ZtXPY6aKI4HCGcBFpUXk\n",
       "PQPrzeFBM12PzwJ/YU8eJ0zEZB6/CKnH/wKXdYJE8yN7bF/O+lg95qKYx18aONmUVWL3irCOebvB\n",
       "rb16SuKx3UtNimjFRo0ErTa+FrJM/HqTzFplx/K4TsYk1jYKNOjTuWv+gEfLqkjgnhvUwnQGCmeU\n",
       "XFTa53abNCRB3SdUtIQL1tebuXBL7vHlWYr81EzkvUHabWSp9swpTIN5PEvGrExhlwCpMzjnD7jM\n",
       "qZerIoF7blAL0xkknFMyUX4ep3YgCbpkTwW1jDNW5duITck9Pk8R7SOEyXVTTcSpf4cLOC7zeMbA\n",
       "aQKcreNxf8Cj5bemQOCc89TCdAYJ55RMlJ/HCcEzHoS05W7mbVhNNtlCqC712JHuIMmW0MViZWRL\n",
       "JMs68CgkvWKx26RpEPwBj8dxUyDwqHJqYTqDhHNKJsrP4+PSIGDJQKple5ydwop9k8cqlXMfVCrV\n",
       "gceLlcpDlUqv+W2AItme54OgkLVsLZAst6Ht0rz2M4+OOYLMthBE0/YBD7NSQ3i7i/UJqKpuLUzn\n",
       "EOGckonqe0yQqizoAWC6YHv8rnXH1TEDQzKP1RLuI8jhunD1reXxSZJFuQu1pYlrtxm6dmsjZgpB\n",
       "NO0AcJhXzL7HHgKPKqcWpjNIOKNkovzm8VEowyvROobtsdUrrEa0ouN7tSbx+EfgOYJkrflI2pr1\n",
       "wDtNdGhtJMvPkLxX3BWeg+yKTdxyL+IPuMxlhP6xjfQQuP4PamE6g4RzSiaKe5wqIZIbHnTHWnrk\n",
       "ECnjmNW8C+qRqKQfKw8Wj+VpWyshSi5MUo9VaZYLeLpEaUO69iEd8xXepMA3wCv+gMOcLmBzVtsi\n",
       "BO46flAL0xkknFMyUdzj+4vF1yWV/ILMTnft9qe9pLz+w3V6emHp8wJRGup0OtRjzDd+p9N27YSg\n",
       "Y6Lx95N0na7Nb9TomOWrBQrE5hqGP+AyH134DNpSzkvgzoVBLUxnkHBOyUW9cecERSY7nS1JJerC\n",
       "orXfSjQRz+11bzX6dmkkZKR9nr02zo1vn3cvK7H20pHZ4S+Tb0GKsCCeZQ/IHrIQ5sjIOm/dCw0j\n",
       "VzIX9G5zHxyR/SFTK3dfhO7PY5/8fJO0W5py8FvTOI9rwP94jVz435Et0AAAAABJRU5ErkJggg==\n",
       "\" style=\"display:inline;vertical-align:middle;\" /></a></td></tr>\n",
       "<tr><td>1</td><td>Operation</td><td>operator:&nbsp;4<br>operands:&nbsp;3<br></td><td><a class=\"ProveItLink\" href=\"../79482f44f86f0b096ed67e0ee703af511361797c0/expr.ipynb\"><img src=\"data:image/png;base64,iVBORw0KGgoAAAANSUhEUgAAAWkAAAAQBAMAAAAmD5PAAAAAMFBMVEX///8yMjKqqqrMzMzu7u4i\n",
       "IiJmZmaYmJhEREQQEBC6urp2dnaIiIhUVFTc3NwAAAD87Fq/AAAAAXRSTlMAQObYZgAAApJJREFU\n",
       "SMedlcFrE0EUxr+ku2uamqx7qHgJ7B8gJCdRPHSvIrQBQRARk0s9VHD/AslN8FJET1Vsr4LQQKmI\n",
       "KbiiVSgpjRdFqCQg9GgjRFtsIe42OzvzZjedxrls+PG+b7+ZvH0DJKyMI4Gd6kMcv7RvZaiWdvdj\n",
       "aWSRvMYar+1k93kpdb6FLVvhlmopX6gvaddGFslrB9lDAqbD0N/bDiU5B3qXkJgIpo0hFdA6g+c6\n",
       "8I6SSMRATBN70Vsbvwk/z35sOZSMP0Hur1Qji5YdDKlA2hs8b/lVHUIiEQMxTexFxROnTvVgqFKv\n",
       "Qpn6DzBlE7KKkVNj0CH57TfPFamDnuxRojWaJQIKza+0gvuGCfIHfmqPZIpEUcira++TAc9y9DG8\n",
       "6GS66tRTdUouLaXKItD2YdJtcF8xdV0kXMRCji1gMhlEvpcLgdcejJo69TlKtGfIuCJI9zBeF4Hg\n",
       "OzQ1F7GQVzw8SAY8y+kFfz50oXvK1CwAI7mu1G7GGZgVqYL5Du0QLmIh23Jft+N9jUUHZg0zwb9U\n",
       "tawbllUQUotkE5SYNQnoFSy7UsWRr2FZk48sqxV+ja5IQpFQsj/YjQwE3x/AvItdD0U4irNOV/CT\n",
       "kF1POgJ/8t5zpArmK0y+Ipl8XMT+jkPprDkIfbW+E6SesfE5XVKkvgDcpyH9IyJ97X9VT0mF4MtS\n",
       "r0ejjqWORKxkDziVDJjvL+B2Byk3fX1C0df5m41XZdrXFUyQreZso0VnPPdlCXRbe0wIF7GSL8BK\n",
       "MmC+n5A9CMbqxsUNmnp28axLiN7v92lqzDU/0KGyfUfaKfdlCbS5zRIhXMRKjLWmkwyiYTVbtZNv\n",
       "n1GIGiTcc+qr8Ji7UVov/4eoAbKekqgB8f0H6grxbL/afm8AAAAASUVORK5CYII=\n",
       "\" style=\"display:inline;vertical-align:middle;\" /></a></td></tr>\n",
       "<tr><td>2</td><td>Operation</td><td>operator:&nbsp;4<br>operands:&nbsp;5<br></td><td><a class=\"ProveItLink\" href=\"../798ef4bf2a0f4a9899c2318f17942e13447618250/expr.ipynb\"><img src=\"data:image/png;base64,iVBORw0KGgoAAAANSUhEUgAAAUUAAAAQBAMAAABzbnCeAAAAMFBMVEX///8yMjKqqqrMzMzu7u4i\n",
       "IiJmZmaYmJhEREQQEBC6urp2dnaIiIhUVFTc3NwAAAD87Fq/AAAAAXRSTlMAQObYZgAAAiVJREFU\n",
       "SMe1lb9LG2Ecxp9LrjG9xJMbLF1KMzkJOla6vKsUGyehU8zQUCil9ydk6ygdHLRFsxYcBBcxQg8q\n",
       "ChJpKtIpJQGxW0kafxUU0ju517vv+776kiHvEMgHns/73JvvvQEGtGYWJZRm9LtdelzRhJLVzRwG\n",
       "t56IwFwQOv5BtqsJ/YZ1TcBLaR+z1Te4tXQFYP5qMkqOgIJgEUNfczgn9nGpY8LrG3CLdSZpvzNK\n",
       "lhiaFWKRQhMD7ZiZ1XZ8yvCedlSEbn5ru7G1QnlEeNas1iZppRfb39SAW4zGgavp6K8CIxZFyKj7\n",
       "H19a6Q7lEeHZqYoxS0ByGaNqwC35Mk61HZNXdB859Dx4i+xLpMqEx0iYNT8j7RLZtIcPanA7SQyf\n",
       "tB0Nuo8qlF0Ghjt44BEeI2F2uCOOX/NOwC1F4ELb8Y1gUYSwyjBSRj6YtaLjvHKc4GQ5STnO6EfH\n",
       "qd8QEIB/ahCzzMG6JIB3jJFsXbBIoWNgwUXbwwRYvHuMhM/X9oRjs6/vBNzSRepMd45jsFvkHMWQ\n",
       "2WNBx3wOPxKTZNojEmZH/GGk8+g/7ZAacMspHq5rOibnMUQ7SqG//qvfguEm5jL01ogIn8d5ZOjd\n",
       "8xPYUANuOcQ73f14Uq2+pvMohfZgXQWX4f6zffpeR4Rn39Z2KEht15gacMvMrit0LK0+opdfodc7\n",
       "p1oplCgVc4P7n7lPO47+LeFak4jl9Q1ky5p+o/st/wEkw92Rl7ohwAAAAABJRU5ErkJggg==\n",
       "\" style=\"display:inline;vertical-align:middle;\" /></a></td></tr>\n",
       "<tr><td>3</td><td>ExprTuple</td><td>7, 9, 10, 8, 11, 7, 6, 11, 8, 8, 12</td><td><a class=\"ProveItLink\" href=\"../986640b392396363859c2ce01c6622848954e5f70/expr.ipynb\"><img src=\"data:image/png;base64,iVBORw0KGgoAAAANSUhEUgAAANUAAAAVBAMAAAAjhrYEAAAAMFBMVEX////c3NwiIiJERESqqqqY\n",
       "mJh2dnZmZmYQEBDu7u4yMjJUVFTMzMyIiIi6uroAAAAs73DqAAAAAXRSTlMAQObYZgAAAodJREFU\n",
       "SMe9VjFv00AYfUmcOI4TJ0wdQMIDgg26MLCA/0HNwogikNKpkKUFVUiAhJAYoBYMjcSQSIgBdcmC\n",
       "hIBKlpAAiYEsDAhSChNiaVpopVQq4e7su7PvmiEDvcF++d777p2/784OcJDD6R2IzUV6+ZCOnYnv\n",
       "U4tnFbX1wtVmWO7fGE/yUW5c9mCGBD1LxR8No3umi2+eklPqatOcxMNwLMnHFJw9oANUUiV8/Cr2\n",
       "sgNkB0pOVTVHxUWlM44U46qHLeACUAzS2bFX8R7sv0rORqDOku3C2RxHijHDvFrAL+zrVRrCVL0u\n",
       "abNUmyj/GUcm9x+pYc7DAm3O6pXbihdddAytRj/qyUr/edxMrj9aR3kPaVLIBYiaWWjiKYE/a7mB\n",
       "7vWxHt3fr5fYHrN+oxolCz312kGa5HIJ8HaFXIwOHpBlbsOc1r2exOu8j5xPgTFEkdlLvfQSpJAL\n",
       "QGclLs4tkKbYA2R7mhe3t/kjmx3aHyT1soZJUsmjYylAeUC9qtNoh5rXF95//sjZJjb8OBLr6d7Y\n",
       "1kglD0eAcz71ukNW18MMAsXLaOJQtPaePF43gzgS68meNzY1Euk8axRQL1LD00Dbw0sjtIQXQ++A\n",
       "82zCKlmuT0Ok93cZJ/XkLBfcSMVJKecAu8CpGvIdzJId6RsnCmi73IuizPHGrGtt0bo3UQhpyPbM\n",
       "LuMS+mNohZGKk1LOAT7B2WF7/gc9Lmtv1tCixTCv784zlB2NRq61VCOxhf5nFrJW58FAQr889xpM\n",
       "JUghl8C4tkheYKV1FGu8hd+hIUcnJ1RJOXlH5ev8hw8N5fXQhCopn0t+U/6vl0W/B4f5yZLvX4F6\n",
       "WmhClRTZtNCZg/kP8BX4B/u76E4CXZ1WAAAAAElFTkSuQmCC\n",
       "\" style=\"display:inline;vertical-align:middle;\" /></a></td></tr>\n",
       "<tr><td>4</td><td>Literal</td><td></td><td><a class=\"ProveItLink\" href=\"../3e6688136fa3c7aefbebe51301b7c3ebf0b69c440/expr.ipynb\"><img src=\"data:image/png;base64,iVBORw0KGgoAAAANSUhEUgAAAA4AAAAOBAMAAADtZjDiAAAAJFBMVEX///+6urpUVFQQEBAiIiIy\n",
       "MjJmZmaIiIiqqqrc3Nzu7u4AAACgHpL+AAAAAXRSTlMAQObYZgAAAB5JREFUCNdjYGBgWMkAAe2k\n",
       "0Kmhoc6hoUGk6BMHYgAHOwjcado9fwAAAABJRU5ErkJggg==\n",
       "\" style=\"display:inline;vertical-align:middle;\" /></a></td></tr>\n",
       "<tr><td>5</td><td>ExprTuple</td><td>7, 7, 8, 8, 8, 11, 9, 10, 11, 12</td><td><a class=\"ProveItLink\" href=\"../5cd42d7e5ada1470b7c9f505484a09b267a6c09a0/expr.ipynb\"><img src=\"data:image/png;base64,iVBORw0KGgoAAAANSUhEUgAAAMEAAAAVBAMAAAANw5eWAAAAMFBMVEX////c3NwiIiJERESqqqqY\n",
       "mJh2dnZmZmYQEBDu7u4yMjJUVFTMzMyIiIi6uroAAAAs73DqAAAAAXRSTlMAQObYZgAAAh9JREFU\n",
       "SMe1lT9oE1Ecxz+xuSaX3p2Hi4OC3Tomi4OT2Rxzk6MUhLgYLYpW6uAfRJzaA0ECGRIUB3GwgyAq\n",
       "pQHBxSWLOKglOolTjLbS0hrfvfuX3mtiI+SGu0/e9/d733e/37sXGP9ltcY4+Rnv9m7ktNrtCE8E\n",
       "z9T8o3ZCNMpni2Sagp6MvrKnIdzfDOAI5q+EeBhrBxpg/keRwslqr0OHl5BPiBeLdOE0ZN3ROxfO\n",
       "ixnSPZfV9m6xJB2q8H30V5icVhyeudxoJ0RZpYkiV70+rVy4FXQsIh5UPg2A3MpHJ+EgrrybEMkt\n",
       "C8M5Hgv8Zk90/MGYjEUeDoB6gW3FwdggIb71ep5usCgWvk6m4L9CRFRbHB8AJZe7ikMuyItFTDG3\n",
       "dZM/MNXhgL+jYmI1TFVhAX4rDpcVEZZcjI7ncLBAvSmHYuJnGKbCDNZ60sFcTopH4aTjOdyBYy1K\n",
       "yD7FlNoJv1YFxI7PbCYdTpGyd4l6z/UcRJVEaetFXqWbOv2EWIgmzVTYJjvrr8NzkNHGHJotKRK3\n",
       "xPay0RqcE01y0jOT1Kf7iRdwXu/uCc+5jgTpIKMPlcuXfIrE91gbcrd+9T6CtTdrVH/0E5nKZ1df\n",
       "sveC2gcHf+Ta1hU/Ot/rdX2KxPT8QlGsuU3WDkv5BYUs+98wNM87NbTZ8IeDQto+YGgelf7TexwO\n",
       "ekMe7cHOiwJjau0DhuZNeeVKjfNfVByVfwGxA9FZ6yeDvwAAAABJRU5ErkJggg==\n",
       "\" style=\"display:inline;vertical-align:middle;\" /></a></td></tr>\n",
       "<tr><td>6</td><td>Literal</td><td></td><td><a class=\"ProveItLink\" href=\"../../../numeral/__pv_it/ec23fc7a1b4222a5f4948b495002b97d6fa18c3c0/expr.ipynb\"><img src=\"data:image/png;base64,iVBORw0KGgoAAAANSUhEUgAAAAoAAAAOBAMAAADkjZCYAAAALVBMVEX///8QEBCYmJh2dnaqqqrc\n",
       "3NxUVFQyMjK6uroiIiLMzMyIiIhmZmbu7u4AAAAZjyHdAAAAAXRSTlMAQObYZgAAAEpJREFUCNdj\n",
       "YLiz+xQDA8MMhpsLGLgnMHAXMHAmMHA8ZeA7wMD1hCHOgIHrNZh8jES+Bss+AqlkeQrSxTyBgWEK\n",
       "w8UFDAx3rLMYAMCjFldHSx/9AAAAAElFTkSuQmCC\n",
       "\" style=\"display:inline;vertical-align:middle;\" /></a></td></tr>\n",
       "<tr><td>7</td><td>Variable</td><td></td><td><a class=\"ProveItLink\" href=\"../../../../__pv_it/07527342713064c87612d00d8557c53d53d5324a0/expr.ipynb\"><img src=\"data:image/png;base64,iVBORw0KGgoAAAANSUhEUgAAAAsAAAAJBAMAAAAWSsseAAAAMFBMVEX///8yMjKqqqrMzMzu7u4i\n",
       "IiJmZmaYmJhEREQQEBC6urp2dnaIiIhUVFTc3NwAAAD87Fq/AAAAAXRSTlMAQObYZgAAAEhJREFU\n",
       "CNdjYOC7s2seAwPDygccHxgY+L4zsDUwMPB+YGA9wMDA38Dgb8DA8P4Agz6DA4O/AsNFJgMGxgKm\n",
       "MG6gyjunLE4xAAAZTBA5TB6DCwAAAABJRU5ErkJggg==\n",
       "\" style=\"display:inline;vertical-align:middle;\" /></a></td></tr>\n",
       "<tr><td>8</td><td>Variable</td><td></td><td><a class=\"ProveItLink\" href=\"../../../../__pv_it/cbdfda466482236edba0ce44ac7ef39cda0af7a40/expr.ipynb\"><img src=\"data:image/png;base64,iVBORw0KGgoAAAANSUhEUgAAAAkAAAAJBAMAAAASvxsjAAAALVBMVEX///9mZmbc3NxUVFSYmJhE\n",
       "REQiIiIyMjK6uroQEBDMzMyIiIh2dnbu7u4AAABgFDGoAAAAAXRSTlMAQObYZgAAADZJREFUCNdj\n",
       "YOA9s3sBA8PKBvYEBt7ZDKwODMwPGICALwBE6m0Asx0YGIDiAgw8QJUyu/cyAAAmuwmycZ8WfQAA\n",
       "AABJRU5ErkJggg==\n",
       "\" style=\"display:inline;vertical-align:middle;\" /></a></td></tr>\n",
       "<tr><td>9</td><td>Literal</td><td></td><td><a class=\"ProveItLink\" href=\"../../../numeral/__pv_it/9be8badea4c35b9724062cecc501d17a3158d1d20/expr.ipynb\"><img src=\"data:image/png;base64,iVBORw0KGgoAAAANSUhEUgAAAAgAAAAPBAMAAAArJJMAAAAAHlBMVEX///+YmJgyMjIQEBBmZmaI\n",
       "iIhUVFTu7u5EREQAAAAw+MI4AAAAAXRSTlMAQObYZgAAACFJREFUCNdjYGBoZ2BgqJjOwFCWBiQY\n",
       "WEklWJwnOTKAAACjEQo8HvEr3AAAAABJRU5ErkJggg==\n",
       "\" style=\"display:inline;vertical-align:middle;\" /></a></td></tr>\n",
       "<tr><td>10</td><td>Literal</td><td></td><td><a class=\"ProveItLink\" href=\"../../../numeral/__pv_it/77d407a64829263cdc16415becd4c2293f77a4bf0/expr.ipynb\"><img src=\"data:image/png;base64,iVBORw0KGgoAAAANSUhEUgAAAAkAAAAOBAMAAAAPuiubAAAAMFBMVEX///+YmJh2dnbMzMwQEBAi\n",
       "IiLu7u6qqqqIiIhUVFS6urpEREQyMjJmZmbc3NwAAACOMKdoAAAAAXRSTlMAQObYZgAAAFBJREFU\n",
       "CNdj4Lt7egEDw0sGju8MDNMYGOIZGFwSGOYvYDifwHAfKAEUSQASzJ9ATJ4NIPI2iOCYACJrGfge\n",
       "MDBfYGB8wPBUSekqUPH//18ZAIliFhc3zESNAAAAAElFTkSuQmCC\n",
       "\" style=\"display:inline;vertical-align:middle;\" /></a></td></tr>\n",
       "<tr><td>11</td><td>Variable</td><td></td><td><a class=\"ProveItLink\" href=\"../../../../__pv_it/6840a4fa6c106149dc16a131294d0c5e44f1b0480/expr.ipynb\"><img src=\"data:image/png;base64,iVBORw0KGgoAAAANSUhEUgAAAAkAAAAOBAMAAAAPuiubAAAALVBMVEX///9mZmbMzMxERESYmJiI\n",
       "iIh2dna6urqqqqoyMjIiIiIQEBBUVFTu7u4AAAD9S1JeAAAAAXRSTlMAQObYZgAAAE1JREFUCNdj\n",
       "4D29gAEIOA+ASL4GEFl3AURmgQiGOaFHGBh4HzPwKTBwvGXgTmBgnMDAJ8DAJcBQ5wBSLncBJLWN\n",
       "gYGngRFoBO9REQYGAGrcDtUkVqASAAAAAElFTkSuQmCC\n",
       "\" style=\"display:inline;vertical-align:middle;\" /></a></td></tr>\n",
       "<tr><td>12</td><td>Literal</td><td></td><td><a class=\"ProveItLink\" href=\"../../../numeral/__pv_it/9176d93c83afa2c995b614976e3cb49207102fa70/expr.ipynb\"><img src=\"data:image/png;base64,iVBORw0KGgoAAAANSUhEUgAAAAoAAAAOBAMAAADkjZCYAAAAMFBMVEX///+YmJju7u4QEBBUVFQy\n",
       "MjIiIiKIiIi6urpmZmbc3NyqqqpERER2dnbMzMwAAAB0GlNiAAAAAXRSTlMAQObYZgAAAE1JREFU\n",
       "CNdjYHh79zQDA9cEhv4CBt7fDPwJDNxgEgiAIkAQAsR8Vx1ATIbiBhDJ/ImB6wEDz0cG/U8gkj+A\n",
       "ge0XA7sAQ/8FBoadM6MZAEflFACalZ/OAAAAAElFTkSuQmCC\n",
       "\" style=\"display:inline;vertical-align:middle;\" /></a></td></tr>\n",
       "</table>\n"
      ],
      "text/plain": [
       "0. (a + 1 + 2 + c + b + a + 0 + b + c + c + 3 , a + a + c + c + c + b + 1 + 2 + b + 3)\n",
       "   core type: ExprTuple\n",
       "   sub-expressions: 1, 2\n",
       "1. a + 1 + 2 + c + b + a + 0 + b + c + c + 3\n",
       "   core type: Operation\n",
       "   operator: 4\n",
       "   operands: 3\n",
       "2. a + a + c + c + c + b + 1 + 2 + b + 3\n",
       "   core type: Operation\n",
       "   operator: 4\n",
       "   operands: 5\n",
       "3. (a , 1 , 2 , c , b , a , 0 , b , c , c , 3)\n",
       "   core type: ExprTuple\n",
       "   sub-expressions: 7, 9, 10, 8, 11, 7, 6, 11, 8, 8, 12\n",
       "4. +\n",
       "   core type: Literal\n",
       "   sub-expressions: \n",
       "5. (a , a , c , c , c , b , 1 , 2 , b , 3)\n",
       "   core type: ExprTuple\n",
       "   sub-expressions: 7, 7, 8, 8, 8, 11, 9, 10, 11, 12\n",
       "6. 0\n",
       "   core type: Literal\n",
       "   sub-expressions: \n",
       "7. a\n",
       "   core type: Variable\n",
       "   sub-expressions: \n",
       "8. c\n",
       "   core type: Variable\n",
       "   sub-expressions: \n",
       "9. 1\n",
       "   core type: Literal\n",
       "   sub-expressions: \n",
       "10. 2\n",
       "    core type: Literal\n",
       "    sub-expressions: \n",
       "11. b\n",
       "    core type: Variable\n",
       "    sub-expressions: \n",
       "12. 3\n",
       "    core type: Literal\n",
       "    sub-expressions: "
      ]
     },
     "execution_count": 4,
     "metadata": {},
     "output_type": "execute_result"
    }
   ],
   "source": [
    "# display the expression information\n",
    "expr.exprInfo()"
   ]
  },
  {
   "cell_type": "code",
   "execution_count": null,
   "metadata": {},
   "outputs": [],
   "source": []
  }
 ],
 "metadata": {
  "kernelspec": {
   "display_name": "Python 3",
   "language": "python",
   "name": "python3"
  }
 },
 "nbformat": 4,
 "nbformat_minor": 0
}
