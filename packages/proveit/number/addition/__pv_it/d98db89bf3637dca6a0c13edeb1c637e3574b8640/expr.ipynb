{
 "cells": [
  {
   "cell_type": "markdown",
   "metadata": {},
   "source": [
    "Expression of type <a class=\"ProveItLink\" href=\"../../../../../../doc/html/api/proveit.logic.InSet.html\">InSet</a>\n",
    "=======================\n",
    "# from context <a class=\"ProveItLink\" href=\"../../_context_.ipynb\">proveit.number.addition</a>"
   ]
  },
  {
   "cell_type": "code",
   "execution_count": 1,
   "metadata": {},
   "outputs": [],
   "source": [
    "# import Expression classes needed to build the expression\n",
    "from proveit._common_ import B, C, b, c\n",
    "from proveit.logic import InSet\n",
    "from proveit.number import Complexes, Exp, one, seven, three"
   ]
  },
  {
   "cell_type": "code",
   "execution_count": 2,
   "metadata": {},
   "outputs": [
    {
     "data": {
      "text/html": [
       "<strong id=\"expr\">expr:</strong> <a class=\"ProveItLink\" href=\"expr.ipynb\"><img src=\"data:image/png;base64,iVBORw0KGgoAAAANSUhEUgAAAMYAAAAZBAMAAACY3UyUAAAAMFBMVEX////c3NwiIiJERESqqqqY\n",
       "mJh2dnZmZmYQEBDu7u4yMjJUVFTMzMyIiIi6uroAAAAs73DqAAAAAXRSTlMAQObYZgAAAvZJREFU\n",
       "SMe1VU1oE0EUfmn+drPZRPAgWMQQEa0XI1bQg+hFRC/dk6AHzalVLwbFRlSoFPGgaEIPoq2aIpaa\n",
       "FiSiIhikORWhYIIeqkhpFPzBQ+tPqpbUxje/u8manJKFmflm5r33vTfvzSxAaz/PvpvJFlOAVqn8\n",
       "bDnH3NyOVnO4wFWEln9rsAUKzbDkruttBtsUNifP/VC/1JkoZx89EDP19dPTjliNslCCye5OgPM2\n",
       "46/G/qyLgZ9wpNHELiE+LiWUCECfcO6oAYEzRrUJqYTk8wXw1VK8XIbrfzPgjQLoBVCzE4KjJEXy\n",
       "eIT5DMODHdidWFFNIZU8JQiGwB2tOTwNferKQBsOCpGc5eKBRSkziyaPcL37ZPtLraNCyUU51Ats\n",
       "dvtueBMZDyrYeTMQRI6vVnFPSFrYjm0jW/bS6FbV48APzwo6KfKP8NVYOwm2AAqed69V3Pf8nTj1\n",
       "MsBqfnvWDpP+Fj+j7pmcjYOksYeilXxRjX0yvRmxiqcisMSQvzwzvZ6L9Fmz/aLoC9Vw+I+TvO2n\n",
       "eItYi+4xda5ZxbuScIkh/TvAAE/5Zku21avgNGxxvCnyfKkRyfHRVFq2ip8F+M2LH1OoLzBcoT0T\n",
       "0b79Lx8K1kqeFk1/OExzrkYm63BsgAC3G8QY3L8YTtDqYVkIRmwcjhw4FziHPyN205rJcdEqXgIv\n",
       "r948HojGbwu9CF6e/4KNI7VIOdhZycI8oJnBbxPiZLoESpStk+tB6inJryMcQwMkDuQ2VLAqBYeh\n",
       "DbN3iC4+kS/NYdQKdFDcw8XVHzg+hnMMkOvhv8xX3RjPZ+RMoZNaDDy5VMiqpBswHxW1OyDfxuzO\n",
       "5J2tLI4P2OKJUUNNoJWhaQMoOFXJZsfQZTqBqfH4bhxuoLfQO/OWAakEe+P3sGcPqGM0JyrrZOUK\n",
       "J1REYQZswDZ5bwPmtnhLXM/YW1L1dom3zA21wDYxbMDc9jT6DaWbwzHY6A/WzkfpR5VD1oluA5bt\n",
       "h404HE351+q5+nv/AMM25vnNr4TvAAAAAElFTkSuQmCC\n",
       "\" style=\"display:inline;vertical-align:middle;\" /></a><br>"
      ],
      "text/plain": [
       "expr: (1 , b , B , C , c , 1 , 3) in Complexes^{7}"
      ]
     },
     "execution_count": 2,
     "metadata": {},
     "output_type": "execute_result"
    }
   ],
   "source": [
    "# build up the expression from sub-expressions\n",
    "expr = InSet([one, b, B, C, c, one, three], Exp(Complexes, seven))"
   ]
  },
  {
   "cell_type": "code",
   "execution_count": 3,
   "metadata": {},
   "outputs": [
    {
     "name": "stdout",
     "output_type": "stream",
     "text": [
      "Passed sanity check: built 'expr' is the same as the stored Expression.\n"
     ]
    }
   ],
   "source": [
    "# check that the built expression is the same as the stored expression\n",
    "%check_expr"
   ]
  },
  {
   "cell_type": "code",
   "execution_count": 4,
   "metadata": {},
   "outputs": [
    {
     "data": {
      "text/html": [
       "<table><tr><th>&nbsp;</th><th>core type</th><th>sub-expressions</th><th>expression</th></tr>\n",
       "<tr><td>0</td><td>Operation</td><td>operator:&nbsp;1<br>operands:&nbsp;2<br></td><td><a class=\"ProveItLink\" href=\"expr.ipynb\"><img src=\"data:image/png;base64,iVBORw0KGgoAAAANSUhEUgAAAMYAAAAZBAMAAACY3UyUAAAAMFBMVEX////c3NwiIiJERESqqqqY\n",
       "mJh2dnZmZmYQEBDu7u4yMjJUVFTMzMyIiIi6uroAAAAs73DqAAAAAXRSTlMAQObYZgAAAvZJREFU\n",
       "SMe1VU1oE0EUfmn+drPZRPAgWMQQEa0XI1bQg+hFRC/dk6AHzalVLwbFRlSoFPGgaEIPoq2aIpaa\n",
       "FiSiIhikORWhYIIeqkhpFPzBQ+tPqpbUxje/u8manJKFmflm5r33vTfvzSxAaz/PvpvJFlOAVqn8\n",
       "bDnH3NyOVnO4wFWEln9rsAUKzbDkruttBtsUNifP/VC/1JkoZx89EDP19dPTjliNslCCye5OgPM2\n",
       "46/G/qyLgZ9wpNHELiE+LiWUCECfcO6oAYEzRrUJqYTk8wXw1VK8XIbrfzPgjQLoBVCzE4KjJEXy\n",
       "eIT5DMODHdidWFFNIZU8JQiGwB2tOTwNferKQBsOCpGc5eKBRSkziyaPcL37ZPtLraNCyUU51Ats\n",
       "dvtueBMZDyrYeTMQRI6vVnFPSFrYjm0jW/bS6FbV48APzwo6KfKP8NVYOwm2AAqed69V3Pf8nTj1\n",
       "MsBqfnvWDpP+Fj+j7pmcjYOksYeilXxRjX0yvRmxiqcisMSQvzwzvZ6L9Fmz/aLoC9Vw+I+TvO2n\n",
       "eItYi+4xda5ZxbuScIkh/TvAAE/5Zku21avgNGxxvCnyfKkRyfHRVFq2ip8F+M2LH1OoLzBcoT0T\n",
       "0b79Lx8K1kqeFk1/OExzrkYm63BsgAC3G8QY3L8YTtDqYVkIRmwcjhw4FziHPyN205rJcdEqXgIv\n",
       "r948HojGbwu9CF6e/4KNI7VIOdhZycI8oJnBbxPiZLoESpStk+tB6inJryMcQwMkDuQ2VLAqBYeh\n",
       "DbN3iC4+kS/NYdQKdFDcw8XVHzg+hnMMkOvhv8xX3RjPZ+RMoZNaDDy5VMiqpBswHxW1OyDfxuzO\n",
       "5J2tLI4P2OKJUUNNoJWhaQMoOFXJZsfQZTqBqfH4bhxuoLfQO/OWAakEe+P3sGcPqGM0JyrrZOUK\n",
       "J1REYQZswDZ5bwPmtnhLXM/YW1L1dom3zA21wDYxbMDc9jT6DaWbwzHY6A/WzkfpR5VD1oluA5bt\n",
       "h404HE351+q5+nv/AMM25vnNr4TvAAAAAElFTkSuQmCC\n",
       "\" style=\"display:inline;vertical-align:middle;\" /></a></td></tr>\n",
       "<tr><td>1</td><td>Literal</td><td></td><td><a class=\"ProveItLink\" href=\"../../../../logic/set_theory/membership/__pv_it/088cbc857536a28d4119ad9639a84270ccb0545d0/expr.ipynb\"><img src=\"data:image/png;base64,iVBORw0KGgoAAAANSUhEUgAAAAwAAAAMBAMAAACkW0HUAAAALVBMVEX///+qqqpmZmZUVFQQEBC6\n",
       "urpERETc3NyYmJjMzMwiIiIyMjKIiIju7u4AAACYsrA9AAAAAXRSTlMAQObYZgAAADxJREFUCNdj\n",
       "YOA9vWrVBgaG2b0MQMCeCyIZ2ArA1DUwyRCyahVIyWQI7xaEYm4AU7xLIdxqTQgtvGvVBgCkcQ7e\n",
       "geM/tQAAAABJRU5ErkJggg==\n",
       "\" style=\"display:inline;vertical-align:middle;\" /></a></td></tr>\n",
       "<tr><td>2</td><td>ExprTuple</td><td>3, 4</td><td><a class=\"ProveItLink\" href=\"../4912732b1277cac2fb73fb0b248d8e02b8831ddb0/expr.ipynb\"><img src=\"data:image/png;base64,iVBORw0KGgoAAAANSUhEUgAAAMsAAAAcBAMAAAA97laXAAAAMFBMVEX///+qqqp2dnYiIiJERESI\n",
       "iIhmZmYQEBDc3NyYmJgyMjLu7u5UVFTMzMy6uroAAACGxKilAAAAAXRSTlMAQObYZgAAA0VJREFU\n",
       "SMe9Vs1LVFEU/406b+bNm3nOX1BTJEERujKshbYppKCB0oiUIkRRAiU3UaCzqYUQTi1a5kBUEFKP\n",
       "vgQ1NDChGBxx0UoYIftYOalZasp0z7sf781HO8cHc+ece885vznn/M6dB5T02Tc2hl14UtlsgxCX\n",
       "Sggzs7RoldlSaLKEMGHsEQCjVimr5o8CTSR8pOXrjsR8WLgVZJ/yGIPrkYU7LU7Ge6WNntpKTj2X\n",
       "mnF+utN/JS+MdArtPxCGNusceI+96D0JzJPIomvkGGCFe/1XWgwrWx+jSfeCUA7GYXbEc1GU0x2Y\n",
       "a0BCHYQyC0Z1C3CVfh8z8lEUVr3xpIJZVsZpVtm0oMjocbZUx3JQHKfqMFaB++okznrh2QLqSGFL\n",
       "mr5vUWrSw1R4uMyiDkW4/JSo8j2vZspprw0zosptUS+uARuktQEXKHDC7VFWo6KcYp+jnInaMq/N\n",
       "f2BgF60iLBTNTzV4A/SRNgR8os2I2yPwoUV2gGU9IJo8aNf9HVdeVrUWwARY4DLJkLdmxPVjMhbO\n",
       "kEXc7THRgG3Rx62m5jqx2+1qfqgPj/Jh5og4HsmBOY+bK+lZPIGggVNmC9dFkHXglWBAvav5I1E0\n",
       "FmTjZfUxeySM6YYZXEAt+6rMgekCfnOpgnl5N7ictVfep1Sx3qDfQuinJHrIXbSJcBGYWpgidCXL\n",
       "RF8RQWjx8Pn7VQhzFzgbd2AC1mRuNlRSX9jtsQxNiGmWeVBMUYoS0fg9tVYAY2QtglFF0yMEY0iY\n",
       "WUxRcSQF7P1t+CK8OjQ2xDBLTCoOc5klq3ML5bRpd09PyOCNdEt+EbdyJoZzEDwkjwkamfdsrIxV\n",
       "MTahmxZXdJbVtxiXp4Ej3EI5XYS5IgLZenDqkrEoLzw2NxmaLHagdWx2YmSdbpDmOIx+lkhbNpl8\n",
       "xhK1FcwPt4eFrFU1WVxQTp72LnYaoCbbOj7X/5mRpT3E2kxdvSE3fqiZdl9ebkXJzuYPh+l5unge\n",
       "s+yIeerKU2zX3WZ6MdnZdEakKk8X/GDphWrEH8EOwBiJojA6vXWcIIoKlnvVUdRtFy0mK8FxCsZy\n",
       "dfGUU18GSLq9I3/SrcW3H9iTHSnxu5qfv6ndKzGMZmG3nn/WB/01H11HhwAAAABJRU5ErkJggg==\n",
       "\" style=\"display:inline;vertical-align:middle;\" /></a></td></tr>\n",
       "<tr><td>3</td><td>ExprTuple</td><td>9, 5, 6, 7, 8, 9, 10</td><td><a class=\"ProveItLink\" href=\"../4c6e6e91b019364069935a0cf53292268b17d4080/expr.ipynb\"><img src=\"data:image/png;base64,iVBORw0KGgoAAAANSUhEUgAAAJQAAAAVBAMAAABS/tqaAAAAMFBMVEX////c3NwiIiJERESqqqqY\n",
       "mJh2dnZmZmYQEBDu7u4yMjJUVFTMzMyIiIi6uroAAAAs73DqAAAAAXRSTlMAQObYZgAAAjFJREFU\n",
       "OMutVD1oFEEU/vbi3u4mu7fXWdikt43gT+F1glhcnRQ5UkQQAyrGWAgJaIQ0cUEIQZGEqEUIhEsh\n",
       "kRwhV4lgkS0tPIw2BptTY4RLSPTNvJl1dyflLczyvW/m+3jvzdsFuviU4m642Dv0+iDQBSa8t/16\n",
       "b+hvo3FxR0cvLk1UT+flSoR3owPAAwLLtJ52FNtbTw4+BJxjhYvTwLfpnJMWWbfQjtELBFTf84a2\n",
       "Civ6oH9E61AluxSR3c+sUyIq/kbYD7sGl04h0FbtSJ8MSGn/UbnOiJ5O5bLSolPSypvC9zSLkeRg\n",
       "DykLM4wnK1zHyVYiAyptAPcy7ErrjS61Dusl52gdyCqbvDE39smwWqF1Ha/TrLeHUCm2N1t3qgyd\n",
       "/VQu/iyWclb+DXFZVzGbKbsDt8bwcxneWYaFdMPnY5wzsvpIU7OL4zTrLCJULTkv7Dit8IfMmPmt\n",
       "k3rlEtzOWhVoRFRVYg6GOUNXWl1jfs+wspro2RdWj9IsjdUkt9oX/dniKeuTu5ytdWRYLXSk1S4X\n",
       "LlhRAPX8MVcixkrcnKemFcWIN0hkI8qIFmU3B+kOFbtAn19fxalLIMfq/TKzGK6gdFvhdeCm9yst\n",
       "Cqpo18QwfBXdvn8wjnly9jbHIYFz+bCxIeZEBPA31u9q7Iy1Iu9JOSXClYlX9F6FW9a1fzFAPkhw\n",
       "yRTRh2PXdFA1QD5IsG1SxZh/Ml2wekbrjL5b5EE++I9jk1oTk9KVH3LQxD90R7IKHxBKSQAAAABJ\n",
       "RU5ErkJggg==\n",
       "\" style=\"display:inline;vertical-align:middle;\" /></a></td></tr>\n",
       "<tr><td>4</td><td>Operation</td><td>operator:&nbsp;11<br>operands:&nbsp;12<br></td><td><a class=\"ProveItLink\" href=\"../82b56ce75573d5948785f1ad6fc8a5d08b6e7b970/expr.ipynb\"><img src=\"data:image/png;base64,iVBORw0KGgoAAAANSUhEUgAAABcAAAAUBAMAAACUkLs9AAAAMFBMVEX////c3NyqqqqYmJhUVFR2\n",
       "dnbu7u66urrMzMxmZmZEREQQEBAyMjIiIiKIiIgAAAB7fvZ0AAAAAXRSTlMAQObYZgAAAJBJREFU\n",
       "GNNjYICCoLQ0Bjjw//9/AZzjXl6VAOcoMKgjlDEwPkDisIBJvjvn965kYGgBsTnqC9jinzAwTAVx\n",
       "DJwZGJi+MDBcBrKZEzYAySkMDJ+BFCejA5DMY2DYDqQy2QMQJrYyGSBx2JE4WRxIyngSHBAc5gAQ\n",
       "hw3KW1wHJGqhzmfxesZWtQymsPP+b3cICwC25x7Jou5JnAAAAABJRU5ErkJggg==\n",
       "\" style=\"display:inline;vertical-align:middle;\" /></a></td></tr>\n",
       "<tr><td>5</td><td>Variable</td><td></td><td><a class=\"ProveItLink\" href=\"../../../../__pv_it/6840a4fa6c106149dc16a131294d0c5e44f1b0480/expr.ipynb\"><img src=\"data:image/png;base64,iVBORw0KGgoAAAANSUhEUgAAAAkAAAAOBAMAAAAPuiubAAAALVBMVEX///9mZmbMzMxERESYmJiI\n",
       "iIh2dna6urqqqqoyMjIiIiIQEBBUVFTu7u4AAAD9S1JeAAAAAXRSTlMAQObYZgAAAE1JREFUCNdj\n",
       "4D29gAEIOA+ASL4GEFl3AURmgQiGOaFHGBh4HzPwKTBwvGXgTmBgnMDAJ8DAJcBQ5wBSLncBJLWN\n",
       "gYGngRFoBO9REQYGAGrcDtUkVqASAAAAAElFTkSuQmCC\n",
       "\" style=\"display:inline;vertical-align:middle;\" /></a></td></tr>\n",
       "<tr><td>6</td><td>Variable</td><td></td><td><a class=\"ProveItLink\" href=\"../../../../__pv_it/077b2ff79244fb4582cbe22c6e3356fa92a52f2f0/expr.ipynb\"><img src=\"data:image/png;base64,iVBORw0KGgoAAAANSUhEUgAAABAAAAAOBAMAAADUAYG5AAAAMFBMVEX///+qqqru7u4iIiJ2dnbc\n",
       "3NyIiIjMzMxmZmYQEBC6uroyMjJERERUVFSYmJgAAADLUcuvAAAAAXRSTlMAQObYZgAAAGpJREFU\n",
       "CNdjYGB4+//u3dMLGIBgDgMDxy8gzf4NiP8CGWxfGRj4vgAZPBMYGJgnARn8FxhY9ygAGfXX0pof\n",
       "gDTlBzAw2YIYJ0EckBBI53sHoBH/gIz7AhBjWH9DjancBLTl/N+7t/cxMAAA3u4f/5xagjYAAAAA\n",
       "SUVORK5CYII=\n",
       "\" style=\"display:inline;vertical-align:middle;\" /></a></td></tr>\n",
       "<tr><td>7</td><td>Variable</td><td></td><td><a class=\"ProveItLink\" href=\"../../../../__pv_it/985a1bdf1540838275dec15f4ad6de261cca93ce0/expr.ipynb\"><img src=\"data:image/png;base64,iVBORw0KGgoAAAANSUhEUgAAAA8AAAAOBAMAAAACpFvcAAAAMFBMVEX////MzMyqqqoiIiIyMjK6\n",
       "uroQEBB2dnbc3NyYmJhmZmZUVFRERESIiIju7u4AAAB204erAAAAAXRSTlMAQObYZgAAAGZJREFU\n",
       "CNdjYGDgu7NrJccCBgaGsgkMrMsmMDA8sQNy6hsYGNweABlhDAxcn4A0QxcDQ78DiPGQgWH9BAYI\n",
       "sG+AMv6DSaCGfBDNJMDAsB+kmwuI5S8AiTog5gSaEwXWIO29SgFIAQBC+RaDQlidVgAAAABJRU5E\n",
       "rkJggg==\n",
       "\" style=\"display:inline;vertical-align:middle;\" /></a></td></tr>\n",
       "<tr><td>8</td><td>Variable</td><td></td><td><a class=\"ProveItLink\" href=\"../../../../__pv_it/cbdfda466482236edba0ce44ac7ef39cda0af7a40/expr.ipynb\"><img src=\"data:image/png;base64,iVBORw0KGgoAAAANSUhEUgAAAAkAAAAJBAMAAAASvxsjAAAALVBMVEX///9mZmbc3NxUVFSYmJhE\n",
       "REQiIiIyMjK6uroQEBDMzMyIiIh2dnbu7u4AAABgFDGoAAAAAXRSTlMAQObYZgAAADZJREFUCNdj\n",
       "YOA9s3sBA8PKBvYEBt7ZDKwODMwPGICALwBE6m0Asx0YGIDiAgw8QJUyu/cyAAAmuwmycZ8WfQAA\n",
       "AABJRU5ErkJggg==\n",
       "\" style=\"display:inline;vertical-align:middle;\" /></a></td></tr>\n",
       "<tr><td>9</td><td>Literal</td><td></td><td><a class=\"ProveItLink\" href=\"../../../numeral/__pv_it/9be8badea4c35b9724062cecc501d17a3158d1d20/expr.ipynb\"><img src=\"data:image/png;base64,iVBORw0KGgoAAAANSUhEUgAAAAgAAAAPBAMAAAArJJMAAAAAHlBMVEX///+YmJgyMjIQEBBmZmaI\n",
       "iIhUVFTu7u5EREQAAAAw+MI4AAAAAXRSTlMAQObYZgAAACFJREFUCNdjYGBoZ2BgqJjOwFCWBiQY\n",
       "WEklWJwnOTKAAACjEQo8HvEr3AAAAABJRU5ErkJggg==\n",
       "\" style=\"display:inline;vertical-align:middle;\" /></a></td></tr>\n",
       "<tr><td>10</td><td>Literal</td><td></td><td><a class=\"ProveItLink\" href=\"../../../numeral/__pv_it/9176d93c83afa2c995b614976e3cb49207102fa70/expr.ipynb\"><img src=\"data:image/png;base64,iVBORw0KGgoAAAANSUhEUgAAAAoAAAAOBAMAAADkjZCYAAAAMFBMVEX///+YmJju7u4QEBBUVFQy\n",
       "MjIiIiKIiIi6urpmZmbc3NyqqqpERER2dnbMzMwAAAB0GlNiAAAAAXRSTlMAQObYZgAAAE1JREFU\n",
       "CNdjYHh79zQDA9cEhv4CBt7fDPwJDNxgEgiAIkAQAsR8Vx1ATIbiBhDJ/ImB6wEDz0cG/U8gkj+A\n",
       "ge0XA7sAQ/8FBoadM6MZAEflFACalZ/OAAAAAElFTkSuQmCC\n",
       "\" style=\"display:inline;vertical-align:middle;\" /></a></td></tr>\n",
       "<tr><td>11</td><td>Literal</td><td></td><td><a class=\"ProveItLink\" href=\"../../../exponentiation/__pv_it/deb2bf23cbccdd6e6791e1b35b5b9794ce12dbd50/expr.ipynb\"><img src=\"data:image/png;base64,iVBORw0KGgoAAAANSUhEUgAAACgAAAASBAMAAADbMYGVAAAAMFBMVEX///8QEBAiIiKYmJjc3Nzu\n",
       "7u7MzMx2dnZmZma6urpERESqqqoyMjJUVFSIiIgAAAAoDOMTAAAAAXRSTlMAQObYZgAAAOBJREFU\n",
       "GNNjYGB4+//u3Tt/GNAASGAXmhjnPyDBgSbI/g1IxKEJ8nxgYGdgQRPkX8BgDKRY6q7s62OYvmze\n",
       "2wAgb/7ZO1+AVDiDkYEQQ0HTBr4DQF59AgOIKmB4z7CNbcNZBu6vQN55kEACQwDDLQYGVobfDHwg\n",
       "fb8YGBxYHwAZciD3fWXg+gB1JjvQcJZvQIXsCgz8F6DO9GBgMOH7wPCUgaeBwd4B7EwGNjUG7s9c\n",
       "AiwPgO5jkWRgiF3/9+5dfQUG1nWl5Y+B7pv+1gE9bBhqGLCAE1jEWH9jEbT5A3IwAC4sP/1L6Qlu\n",
       "AAAAAElFTkSuQmCC\n",
       "\" style=\"display:inline;vertical-align:middle;\" /></a></td></tr>\n",
       "<tr><td>12</td><td>ExprTuple</td><td>13, 14</td><td><a class=\"ProveItLink\" href=\"../96f5411dae21f5937bb4aeda4878899d044ba2480/expr.ipynb\"><img src=\"data:image/png;base64,iVBORw0KGgoAAAANSUhEUgAAAC8AAAAVBAMAAAAk6KpUAAAAMFBMVEX////c3NwiIiJERESqqqqY\n",
       "mJh2dnZmZmYQEBDu7u4yMjJUVFTMzMyIiIi6uroAAAAs73DqAAAAAXRSTlMAQObYZgAAARlJREFU\n",
       "KM9jYMAJ+C5gisWBiNNAzKu1vskcInaoLC0tgf0AkLWSgYHn/QPO/NsQifj///9vYFgAVAw0KWAr\n",
       "AwPLb4hEJgMDNwNDGAMDxwQG1gkNQJFqiEQCA0MOA8MMBoZXDAzsjBuAInORXcPswFDGwDCdLwHZ\n",
       "SZOBmK2AYSkDwzGWAGSJEiBmWcDQB5TgQ5bg/AAyroHhH1AvD7JRvECnMvB8AElwTdiAJMG0ASLR\n",
       "wsDAmgBic0Il5hdAjDIFUqZvgcSjCRCp9yAJ1gUM6UCKe/NNzseWDPMVQBL+BRDnPgJxjuv/2Af0\n",
       "7kcQ+zzIiVwPGDgEEPY+hLNmgGxGSCC8kwsJdgwJTpBfpBFeg7O4QeYzYonaOwwMAOpwRK3jV2OL\n",
       "AAAAAElFTkSuQmCC\n",
       "\" style=\"display:inline;vertical-align:middle;\" /></a></td></tr>\n",
       "<tr><td>13</td><td>Literal</td><td></td><td><a class=\"ProveItLink\" href=\"../../../sets/complex/__pv_it/c357845f93a5a2d9f649129d299e7ec28dda4b960/expr.ipynb\"><img src=\"data:image/png;base64,iVBORw0KGgoAAAANSUhEUgAAAA8AAAAOBAMAAAACpFvcAAAAMFBMVEX////c3NyqqqqYmJhUVFR2\n",
       "dnbu7u66urrMzMxmZmZEREQQEBAyMjIiIiKIiIgAAAB7fvZ0AAAAAXRSTlMAQObYZgAAAGVJREFU\n",
       "CNdjYGDgu3N+70oGBgaO+gK2+CdAhoEzAwPTFwYG5oQNQN4UBgZORgcgI4+BIZM9gAEMWpkMoAx2\n",
       "KCOLAyrFk+AAYTAHgBhsQLy4DkjUJjAwsHg9Y6taBpLsvP/bnYEBACkBFGQfBv8RAAAAAElFTkSu\n",
       "QmCC\n",
       "\" style=\"display:inline;vertical-align:middle;\" /></a></td></tr>\n",
       "<tr><td>14</td><td>Literal</td><td></td><td><a class=\"ProveItLink\" href=\"../../../numeral/__pv_it/44c347496acc279b31e97f8859fc6a0a1e31c26b0/expr.ipynb\"><img src=\"data:image/png;base64,iVBORw0KGgoAAAANSUhEUgAAAAoAAAAOBAMAAADkjZCYAAAAKlBMVEX///8yMjKqqqpERESIiIi6\n",
       "urru7u5UVFSYmJh2dnZmZmYiIiLMzMwAAACZcOxaAAAAAXRSTlMAQObYZgAAAEVJREFUCNdjOL1y\n",
       "5swJDL13794tYJjGwMDOwDCBgWEOAxCwOoDIZBDBsAhEsF0AkSwCIJK7AETmLgCRsWBSF0yebWBg\n",
       "AAAo0Q9n+lHhAQAAAABJRU5ErkJggg==\n",
       "\" style=\"display:inline;vertical-align:middle;\" /></a></td></tr>\n",
       "</table>\n"
      ],
      "text/plain": [
       "0. (1 , b , B , C , c , 1 , 3) in Complexes^{7}\n",
       "   core type: Operation\n",
       "   operator: 1\n",
       "   operands: 2\n",
       "1. in\n",
       "   core type: Literal\n",
       "   sub-expressions: \n",
       "2. ((1 , b , B , C , c , 1 , 3) , Complexes^{7})\n",
       "   core type: ExprTuple\n",
       "   sub-expressions: 3, 4\n",
       "3. (1 , b , B , C , c , 1 , 3)\n",
       "   core type: ExprTuple\n",
       "   sub-expressions: 9, 5, 6, 7, 8, 9, 10\n",
       "4. Complexes^{7}\n",
       "   core type: Operation\n",
       "   operator: 11\n",
       "   operands: 12\n",
       "5. b\n",
       "   core type: Variable\n",
       "   sub-expressions: \n",
       "6. B\n",
       "   core type: Variable\n",
       "   sub-expressions: \n",
       "7. C\n",
       "   core type: Variable\n",
       "   sub-expressions: \n",
       "8. c\n",
       "   core type: Variable\n",
       "   sub-expressions: \n",
       "9. 1\n",
       "   core type: Literal\n",
       "   sub-expressions: \n",
       "10. 3\n",
       "    core type: Literal\n",
       "    sub-expressions: \n",
       "11. Exp\n",
       "    core type: Literal\n",
       "    sub-expressions: \n",
       "12. (Complexes , 7)\n",
       "    core type: ExprTuple\n",
       "    sub-expressions: 13, 14\n",
       "13. Complexes\n",
       "    core type: Literal\n",
       "    sub-expressions: \n",
       "14. 7\n",
       "    core type: Literal\n",
       "    sub-expressions: "
      ]
     },
     "execution_count": 4,
     "metadata": {},
     "output_type": "execute_result"
    }
   ],
   "source": [
    "# display the expression information\n",
    "expr.exprInfo()"
   ]
  },
  {
   "cell_type": "code",
   "execution_count": null,
   "metadata": {},
   "outputs": [],
   "source": []
  }
 ],
 "metadata": {
  "kernelspec": {
   "display_name": "Python 3",
   "language": "python",
   "name": "python3"
  }
 },
 "nbformat": 4,
 "nbformat_minor": 0
}
