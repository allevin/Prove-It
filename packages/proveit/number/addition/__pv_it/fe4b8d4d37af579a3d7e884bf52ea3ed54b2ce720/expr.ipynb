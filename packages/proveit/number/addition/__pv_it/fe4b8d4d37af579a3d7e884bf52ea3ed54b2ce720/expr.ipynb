{
 "cells": [
  {
   "cell_type": "markdown",
   "metadata": {},
   "source": [
    "Expression of type <a class=\"ProveItLink\" href=\"../../../../../../doc/html/api/proveit.logic.Equals.html\">Equals</a>\n",
    "=======================\n",
    "# from context <a class=\"ProveItLink\" href=\"../../_context_.ipynb\">proveit.number.addition</a>"
   ]
  },
  {
   "cell_type": "code",
   "execution_count": 1,
   "metadata": {},
   "outputs": [],
   "source": [
    "# import Expression classes needed to build the expression\n",
    "from proveit.logic import Equals\n",
    "from proveit.number import Add, one, three"
   ]
  },
  {
   "cell_type": "code",
   "execution_count": 2,
   "metadata": {},
   "outputs": [
    {
     "data": {
      "text/html": [
       "<strong id=\"expr\">expr:</strong> <a class=\"ProveItLink\" href=\"expr.ipynb\"><img src=\"data:image/png;base64,iVBORw0KGgoAAAANSUhEUgAAAOsAAAAVBAMAAABVvASPAAAAMFBMVEX////c3NwiIiJERESqqqqY\n",
       "mJh2dnZmZmYQEBDu7u4yMjJUVFTMzMyIiIi6uroAAAAs73DqAAAAAXRSTlMAQObYZgAAAidJREFU\n",
       "SMfFlj9Iw0AUxl9sNG1tazYHFcTJTQcdnOzmVOzkKAVBQSi6aKWTgosOWnERHBTRwXTp7tLJxSWL\n",
       "4KAgjoL4BxUq+OfuQhLvvbuYzRuS3i/v+77kcrkrwD+1nBu7dFrBHqIspvX0AuB8dgRdoQTGAKwm\n",
       "scg0NBaZ2Zm8SuDbnIKxCI/y/VICuy12OCQu6ZrGohtynwqBb5N1oeMVuvo9uuOdKNk/4/VTJPYG\n",
       "NBYLeXgJBSkb2SRrYIaagneiBLK8fo/EboDGYlLE+gLTRTb3ouePUCHww0TUJ/J4PvJR1FjwQfYF\n",
       "ciyjy6JXBxyLiajvWESxVokdNBbpRiiQYxk94bNuvoE0lIh6U0wRyxGNV6SL7KC2OK8HAhzL6Jbo\n",
       "Xd3ip8VE1OdW0dMmeZXGIrsVCuRYRr88eQvHYiLqM08ototn6Sy2a4FAjmWUaYwmJN5Yr+o4g47D\n",
       "x4aSP2KpoBdgvOgJ2Es52vReSmCzDnDQ8jThrVLye5CtAdGG+SPymaqySH3XeKx2kEfZLR9C27MU\n",
       "QolX345XnQSfUkqLD4AhOxDIsYzOsZ9FeCxJGko0H5AASotLyL1HfEB37DRROUaznxBr5WOJfS+3\n",
       "eLngS5PSwqxU86HAjw1skvZvmwJZ/SRCF8c1/oLtPwWmi2h7Ce+edD8NWplc5mt9hEVZuamXxa4V\n",
       "u6W0G198gU974sd22gQZjSgLhcCnRvw/NdcK1hdlca2jPwSC53n8HZYEAAAAAElFTkSuQmCC\n",
       "\" style=\"display:inline;vertical-align:middle;\" /></a><br>"
      ],
      "text/plain": [
       "expr: (3 + 3 + 1) = ((3 + 3) + 1)"
      ]
     },
     "execution_count": 2,
     "metadata": {},
     "output_type": "execute_result"
    }
   ],
   "source": [
    "# build up the expression from sub-expressions\n",
    "expr = Equals(Add(three, three, one), Add(Add(three, three), one))"
   ]
  },
  {
   "cell_type": "code",
   "execution_count": 3,
   "metadata": {},
   "outputs": [
    {
     "name": "stdout",
     "output_type": "stream",
     "text": [
      "Passed sanity check: built 'expr' is the same as the stored Expression.\n"
     ]
    }
   ],
   "source": [
    "# check that the built expression is the same as the stored expression\n",
    "%check_expr"
   ]
  },
  {
   "cell_type": "code",
   "execution_count": 4,
   "metadata": {},
   "outputs": [
    {
     "data": {
      "text/html": [
       "<table><tr><th>&nbsp;</th><th>core type</th><th>sub-expressions</th><th>expression</th></tr>\n",
       "<tr><td>0</td><td>Operation</td><td>operator:&nbsp;1<br>operands:&nbsp;2<br></td><td><a class=\"ProveItLink\" href=\"expr.ipynb\"><img src=\"data:image/png;base64,iVBORw0KGgoAAAANSUhEUgAAAOsAAAAVBAMAAABVvASPAAAAMFBMVEX////c3NwiIiJERESqqqqY\n",
       "mJh2dnZmZmYQEBDu7u4yMjJUVFTMzMyIiIi6uroAAAAs73DqAAAAAXRSTlMAQObYZgAAAidJREFU\n",
       "SMfFlj9Iw0AUxl9sNG1tazYHFcTJTQcdnOzmVOzkKAVBQSi6aKWTgosOWnERHBTRwXTp7tLJxSWL\n",
       "4KAgjoL4BxUq+OfuQhLvvbuYzRuS3i/v+77kcrkrwD+1nBu7dFrBHqIspvX0AuB8dgRdoQTGAKwm\n",
       "scg0NBaZ2Zm8SuDbnIKxCI/y/VICuy12OCQu6ZrGohtynwqBb5N1oeMVuvo9uuOdKNk/4/VTJPYG\n",
       "NBYLeXgJBSkb2SRrYIaagneiBLK8fo/EboDGYlLE+gLTRTb3ouePUCHww0TUJ/J4PvJR1FjwQfYF\n",
       "ciyjy6JXBxyLiajvWESxVokdNBbpRiiQYxk94bNuvoE0lIh6U0wRyxGNV6SL7KC2OK8HAhzL6Jbo\n",
       "Xd3ip8VE1OdW0dMmeZXGIrsVCuRYRr88eQvHYiLqM08ototn6Sy2a4FAjmWUaYwmJN5Yr+o4g47D\n",
       "x4aSP2KpoBdgvOgJ2Es52vReSmCzDnDQ8jThrVLye5CtAdGG+SPymaqySH3XeKx2kEfZLR9C27MU\n",
       "QolX345XnQSfUkqLD4AhOxDIsYzOsZ9FeCxJGko0H5AASotLyL1HfEB37DRROUaznxBr5WOJfS+3\n",
       "eLngS5PSwqxU86HAjw1skvZvmwJZ/SRCF8c1/oLtPwWmi2h7Ce+edD8NWplc5mt9hEVZuamXxa4V\n",
       "u6W0G198gU974sd22gQZjSgLhcCnRvw/NdcK1hdlca2jPwSC53n8HZYEAAAAAElFTkSuQmCC\n",
       "\" style=\"display:inline;vertical-align:middle;\" /></a></td></tr>\n",
       "<tr><td>1</td><td>Literal</td><td></td><td><a class=\"ProveItLink\" href=\"../../../../logic/equality/__pv_it/2fb26078095930560931daa0500ce419a39ea6cd0/expr.ipynb\"><img src=\"data:image/png;base64,iVBORw0KGgoAAAANSUhEUgAAAA4AAAAFBAMAAACHocAhAAAAFVBMVEX///9EREQiIiJUVFQyMjJm\n",
       "ZmYAAADubVkoAAAAAXRSTlMAQObYZgAAABRJREFUCNdjCHEBAWcGXCBICQQUAUpuAwlgGKrkAAAA\n",
       "AElFTkSuQmCC\n",
       "\" style=\"display:inline;vertical-align:middle;\" /></a></td></tr>\n",
       "<tr><td>2</td><td>ExprTuple</td><td>3, 4</td><td><a class=\"ProveItLink\" href=\"../0335d43ac25db46c5c5d33b5afa7ce6478eb19260/expr.ipynb\"><img src=\"data:image/png;base64,iVBORw0KGgoAAAANSUhEUgAAAMkAAAAVBAMAAAAeFNdiAAAAMFBMVEX////c3NwiIiJERESqqqqY\n",
       "mJh2dnZmZmYQEBDu7u4yMjJUVFTMzMyIiIi6uroAAAAs73DqAAAAAXRSTlMAQObYZgAAAh9JREFU\n",
       "SMe9lT9IHEEUh3+X2/NuL3frdSmMYGlnkxSpvC6VeJVlOAgoBEQbPbGKkCYpvA1phBQ5giK3Ntdb\n",
       "xCpNGhvBQolYBsQ/qHCCmjfzdvZuZnYC12Sb2fne7vtm3s7OAP/nCvYHfePMFXjjpr+An7MvjIhN\n",
       "kA3jm1IHpdm3VT0qSX7PUrwC0zYyizjXJ2QT+JPKUgzxDMG9HmbSMiVfupC0vI+hawyPMf3MjU38\n",
       "3R/KcgwsVHEV8wq3TGag06+7wkK0EMLr5ZzixibAb2X5CEwnFi+eMpMN6BRlYSH6R/ZUfZKcNlGW\n",
       "QJZFVSzJJ0m2mmYhuix7OzAtFlGWfF1+nI5pEWRoMc1CdEsskHcdI6dNEkuxJtbgjlkbSbxWmoXo\n",
       "uuwdnphzsYiyFGSgvG7ORZDgfZqF6AO/2jUtFlGWYdY3Q8MiSOkizUKULJk9ZG+otxpF41EkZm4T\n",
       "3fIcmKTC5aPo+6coEsVlIi19NLF8AL51OWdv5Dbpq1gV/mMoLb1Rx8RZsZc0uhaeXGo5bcIWIcpS\n",
       "+jtgoqLlY5JL/fpE5+i2hvO6ltMm0uJf8brEAYJbPR8T50o+peZ1Y9NYtzZpNLdrfpMmENCm4DVW\n",
       "jf+PSfFEp/mVuyVJC5X+3W3K2lQ1EoiH1/qJp22qGy6aq//76NBIDuhtiSmn07yTtgc4v3Lxzu+4\n",
       "/JaTjgxgkUPMdFzhpxUnzQx8Io+6Akcu+hca0NJltXEmzAAAAABJRU5ErkJggg==\n",
       "\" style=\"display:inline;vertical-align:middle;\" /></a></td></tr>\n",
       "<tr><td>3</td><td>Operation</td><td>operator:&nbsp;9<br>operands:&nbsp;5<br></td><td><a class=\"ProveItLink\" href=\"../6d2cb72bd5421345a2cf090f6cdb3ee353f1e90f0/expr.ipynb\"><img src=\"data:image/png;base64,iVBORw0KGgoAAAANSUhEUgAAAFAAAAAQBAMAAABzZ+XyAAAAMFBMVEX///+YmJju7u4QEBBUVFQy\n",
       "MjIiIiKIiIi6urpmZmbc3NyqqqpERER2dnbMzMwAAAB0GlNiAAAAAXRSTlMAQObYZgAAALhJREFU\n",
       "KM9jYHh79zQDKsAUYTjEwMA1gaG/AEUQU4RB5xMDA+9vBv4ECFcLQmGKqLgAFXIjhLdDKEwRBvZP\n",
       "YApm0Xa4VegiUIUhDOgK0UXACvmuOqAJY4pATSxuQDcRXQSqkPkTukJ0EZBCrgcMPB+B7Kmhocmh\n",
       "oSDHYYqAFep/gggj9GOKgBXyBzCw/UIRxhQBK2QXYOi/gCKMKQLxzM6Z0WiBgSHCOfnrROSo346e\n",
       "ZrCIgEE7PhEAC8JNcc1sdQAAAAAASUVORK5CYII=\n",
       "\" style=\"display:inline;vertical-align:middle;\" /></a></td></tr>\n",
       "<tr><td>4</td><td>Operation</td><td>operator:&nbsp;9<br>operands:&nbsp;6<br></td><td><a class=\"ProveItLink\" href=\"../bb3ee6269371819d7a6ce9b1bbdf8cdd5ef56d430/expr.ipynb\"><img src=\"data:image/png;base64,iVBORw0KGgoAAAANSUhEUgAAAF4AAAAVBAMAAAA9Y0TyAAAAMFBMVEX////c3NwiIiJERESqqqqY\n",
       "mJh2dnZmZmYQEBDu7u4yMjJUVFTMzMyIiIi6uroAAAAs73DqAAAAAXRSTlMAQObYZgAAASJJREFU\n",
       "KM9jYCAV8F3AIcH6AKvwaQaGY2kmaIJgkRoMtZZAvJKBsYDhPaolEBEudOWTfzIw8F5gYPvCwK8A\n",
       "EZkIoSAirAkMKKKzdwPVc0xgYEGo94VQEBHOBgYUUQZeoPpXYBbMPb5wu0EiJljUl4FZqxnQ1YNE\n",
       "0rGoXwqkebI2oMlARLywqO8Ds248QDcfJPICi/p/YBbHT3T1IJHz2NUzHmBg/grkVq1apbFqFcjh\n",
       "UBGweoQoWH0LA8P8nxD1CJOgItjcY8rAwL+AgekjigxUJAqLemCY8QYwvE9AkYGKYAvPR0DavXwJ\n",
       "mgxEZB2qKHvFr1IGDgHkFOWLzMFID+BUnoCs5C0yh+0CNtGVOHPSLKyi0jjVb8QqyogrP/IewCII\n",
       "AP4WZAOoou3AAAAAAElFTkSuQmCC\n",
       "\" style=\"display:inline;vertical-align:middle;\" /></a></td></tr>\n",
       "<tr><td>5</td><td>ExprTuple</td><td>11, 11, 8</td><td><a class=\"ProveItLink\" href=\"../f87de0464c2ce80169785a1c719f425bfba230b10/expr.ipynb\"><img src=\"data:image/png;base64,iVBORw0KGgoAAAANSUhEUgAAAD0AAAAVBAMAAAAHs/uBAAAAMFBMVEX////c3NwiIiJERESqqqqY\n",
       "mJh2dnZmZmYQEBDu7u4yMjJUVFTMzMyIiIi6uroAAAAs73DqAAAAAXRSTlMAQObYZgAAARFJREFU\n",
       "KM+Fki1PxEAQQF+5610L91GP4UeAwOGwKCQ5BQnJJWf4kAg0XIIhQVABgmDwmFMYzEkE4oLEFAiI\n",
       "Igi70+5sE9JQsfNmXna7u7Pw39eb1qotOzzCw/ZyWfHEKrQnJt4QjMiKRTxxlpshhe6U1if9JSl6\n",
       "uri3fhOiMU2teqJr/Tm8SpbpJh2Jb6yxL9mt7tmR+NaIaxM6u3dl1ZP4ZsqJZE8zN9+R+N4RP5JF\n",
       "ufOOxHferA8mNL6K8yupP4bL3FU96for0E+Ze2dMlQofpuwY3CAbxB9USc/3YsL6wRXxaVKl9uH3\n",
       "HszPiBLX54Q/ZO43HJQc6hV6Gkp/a31s+stimfhnpLRgfxTUv69n+AUOo1kRNBhmlQAAAABJRU5E\n",
       "rkJggg==\n",
       "\" style=\"display:inline;vertical-align:middle;\" /></a></td></tr>\n",
       "<tr><td>6</td><td>ExprTuple</td><td>7, 8</td><td><a class=\"ProveItLink\" href=\"../eee72dcf2f74217c8e501411d24c6eb0751ed0db0/expr.ipynb\"><img src=\"data:image/png;base64,iVBORw0KGgoAAAANSUhEUgAAAE0AAAAVBAMAAADx+n4ZAAAAMFBMVEX////c3NwiIiJERESqqqqY\n",
       "mJh2dnZmZmYQEBDu7u4yMjJUVFTMzMyIiIi6uroAAAAs73DqAAAAAXRSTlMAQObYZgAAATJJREFU\n",
       "KM9jYCAW8F0gqCQORJxmYDiWZoImgyRiycDAfgBIr2RgLGB4j2ooksjkn0BiAQMD7wUGti8M/AoQ\n",
       "0YkQCiEyezdIXRgDA8cEBhaEOl8IhSTCC1I3g4HhFZgHs8UXbjVMBKyO2YGhDMxbzYCuDiYCVsdW\n",
       "wLAUSPFkbUBThxABq2NZwNAH5t14gG4eTASsjq+B4R+Yx/ETXR1MBKyO5wNIHeMBBuavQF7VqlUa\n",
       "q1aBHAYTQVLXwsAw/ydcFGoekgjMXlMGBv4FDEwfUdRBRCbA1bEuYEgHMgMY3iegqAOLcH5CDpdH\n",
       "QMq9fAlauIBEOPsFgEmg4lcpAwPXAwYOAeQE4IuS4uBSwHhjTUCWeovMYYWzcsHpCheAq+MEpisG\n",
       "aZzq4GmSG+QARsLp/g4DAwDbRl6oYixX7QAAAABJRU5ErkJggg==\n",
       "\" style=\"display:inline;vertical-align:middle;\" /></a></td></tr>\n",
       "<tr><td>7</td><td>Operation</td><td>operator:&nbsp;9<br>operands:&nbsp;10<br></td><td><a class=\"ProveItLink\" href=\"../699a1d509d4351b084cb142424605f66aca456f80/expr.ipynb\"><img src=\"data:image/png;base64,iVBORw0KGgoAAAANSUhEUgAAAC0AAAAQBAMAAABw0OvaAAAAMFBMVEX///+YmJju7u4QEBBUVFQy\n",
       "MjIiIiKIiIi6urpmZmbc3NyqqqpERER2dnbMzMwAAAB0GlNiAAAAAXRSTlMAQObYZgAAALRJREFU\n",
       "GNNjYHh79zQDCuC7e2cDAwPXBIb+AhTxlQwc3xkYeH8z8CdABLQg1P0NDN8YGLgR4tsh1H6wOBDA\n",
       "zNkOMwlkDhCEMKCJszqArL/qgCb+FqqwuAFNPbsFmGL+hCbOYK/AwPWAgecjkDk1NDQ5NBRkwjoG\n",
       "hvMCDPqfIOJw9Uz/FUDi/AEMbL9QzPnKwJC/gIFdgKH/Aop4IQPHXyC1c2Y0qju5Z07dgBJg2xmw\n",
       "g3YkNgCAPTRKDcxu7AAAAABJRU5ErkJggg==\n",
       "\" style=\"display:inline;vertical-align:middle;\" /></a></td></tr>\n",
       "<tr><td>8</td><td>Literal</td><td></td><td><a class=\"ProveItLink\" href=\"../../../numeral/__pv_it/9be8badea4c35b9724062cecc501d17a3158d1d20/expr.ipynb\"><img src=\"data:image/png;base64,iVBORw0KGgoAAAANSUhEUgAAAAgAAAAPBAMAAAArJJMAAAAAHlBMVEX///+YmJgyMjIQEBBmZmaI\n",
       "iIhUVFTu7u5EREQAAAAw+MI4AAAAAXRSTlMAQObYZgAAACFJREFUCNdjYGBoZ2BgqJjOwFCWBiQY\n",
       "WEklWJwnOTKAAACjEQo8HvEr3AAAAABJRU5ErkJggg==\n",
       "\" style=\"display:inline;vertical-align:middle;\" /></a></td></tr>\n",
       "<tr><td>9</td><td>Literal</td><td></td><td><a class=\"ProveItLink\" href=\"../3e6688136fa3c7aefbebe51301b7c3ebf0b69c440/expr.ipynb\"><img src=\"data:image/png;base64,iVBORw0KGgoAAAANSUhEUgAAAA4AAAAOBAMAAADtZjDiAAAAJFBMVEX///+6urpUVFQQEBAiIiIy\n",
       "MjJmZmaIiIiqqqrc3Nzu7u4AAACgHpL+AAAAAXRSTlMAQObYZgAAAB5JREFUCNdjYGBgWMkAAe2k\n",
       "0Kmhoc6hoUGk6BMHYgAHOwjcado9fwAAAABJRU5ErkJggg==\n",
       "\" style=\"display:inline;vertical-align:middle;\" /></a></td></tr>\n",
       "<tr><td>10</td><td>ExprTuple</td><td>11, 11</td><td><a class=\"ProveItLink\" href=\"../c017262dc935bab7587f0744a3b31563e3ec1f2b0/expr.ipynb\"><img src=\"data:image/png;base64,iVBORw0KGgoAAAANSUhEUgAAACkAAAAVBAMAAAAp9toTAAAAMFBMVEX////c3NwiIiJERESqqqqY\n",
       "mJh2dnZmZmYQEBDu7u4yMjJUVFTMzMyIiIi6uroAAAAs73DqAAAAAXRSTlMAQObYZgAAAQ9JREFU\n",
       "GNNtkS1PA0EQhp+jvXIH7fUcAgT/AAOac0iqkKQJSUlICFU0QSHQ9CSOEyAIpj+hqgZTQ4JANEjM\n",
       "AQGSkvAxO909cWHFZt5nszPvzMD/JxqXwK657mDUWZ+BemcvYX4o0Q1el3z2YYnoGzJojKm901xV\n",
       "epTwBjsQpFQLuq30Ap5V5q6kyVBJOFZx6wwsDKDW5dqUPhhYODLP1YxzVQ8Tixuio1N+VARTl6Kf\n",
       "Un8x1BtS+VC0ApstQ8/gcmpp+JsaKhk2oJkx90oq+AvWYvyMfanQIm+HYp97ok919iRiq3dF2I/F\n",
       "U+8kEc8Tgth15QLTsd+2sV8M+FAnWaKhTJJlK4qVLJpUXnlDj/AHHh5B6Heel5EAAAAASUVORK5C\n",
       "YII=\n",
       "\" style=\"display:inline;vertical-align:middle;\" /></a></td></tr>\n",
       "<tr><td>11</td><td>Literal</td><td></td><td><a class=\"ProveItLink\" href=\"../../../numeral/__pv_it/9176d93c83afa2c995b614976e3cb49207102fa70/expr.ipynb\"><img src=\"data:image/png;base64,iVBORw0KGgoAAAANSUhEUgAAAAoAAAAOBAMAAADkjZCYAAAAMFBMVEX///+YmJju7u4QEBBUVFQy\n",
       "MjIiIiKIiIi6urpmZmbc3NyqqqpERER2dnbMzMwAAAB0GlNiAAAAAXRSTlMAQObYZgAAAE1JREFU\n",
       "CNdjYHh79zQDA9cEhv4CBt7fDPwJDNxgEgiAIkAQAsR8Vx1ATIbiBhDJ/ImB6wEDz0cG/U8gkj+A\n",
       "ge0XA7sAQ/8FBoadM6MZAEflFACalZ/OAAAAAElFTkSuQmCC\n",
       "\" style=\"display:inline;vertical-align:middle;\" /></a></td></tr>\n",
       "</table>\n"
      ],
      "text/plain": [
       "0. (3 + 3 + 1) = ((3 + 3) + 1)\n",
       "   core type: Operation\n",
       "   operator: 1\n",
       "   operands: 2\n",
       "1. =\n",
       "   core type: Literal\n",
       "   sub-expressions: \n",
       "2. (3 + 3 + 1 , (3 + 3) + 1)\n",
       "   core type: ExprTuple\n",
       "   sub-expressions: 3, 4\n",
       "3. 3 + 3 + 1\n",
       "   core type: Operation\n",
       "   operator: 9\n",
       "   operands: 5\n",
       "4. (3 + 3) + 1\n",
       "   core type: Operation\n",
       "   operator: 9\n",
       "   operands: 6\n",
       "5. (3 , 3 , 1)\n",
       "   core type: ExprTuple\n",
       "   sub-expressions: 11, 11, 8\n",
       "6. (3 + 3 , 1)\n",
       "   core type: ExprTuple\n",
       "   sub-expressions: 7, 8\n",
       "7. 3 + 3\n",
       "   core type: Operation\n",
       "   operator: 9\n",
       "   operands: 10\n",
       "8. 1\n",
       "   core type: Literal\n",
       "   sub-expressions: \n",
       "9. +\n",
       "   core type: Literal\n",
       "   sub-expressions: \n",
       "10. (3 , 3)\n",
       "    core type: ExprTuple\n",
       "    sub-expressions: 11, 11\n",
       "11. 3\n",
       "    core type: Literal\n",
       "    sub-expressions: "
      ]
     },
     "execution_count": 4,
     "metadata": {},
     "output_type": "execute_result"
    }
   ],
   "source": [
    "# display the expression information\n",
    "expr.exprInfo()"
   ]
  },
  {
   "cell_type": "code",
   "execution_count": null,
   "metadata": {},
   "outputs": [],
   "source": []
  }
 ],
 "metadata": {
  "kernelspec": {
   "display_name": "Python 3",
   "language": "python",
   "name": "python3"
  }
 },
 "nbformat": 4,
 "nbformat_minor": 0
}
