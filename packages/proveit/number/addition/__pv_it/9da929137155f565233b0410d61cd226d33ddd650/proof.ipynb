{
 "cells": [
  {
   "cell_type": "markdown",
   "metadata": {},
   "source": [
    "Show the Proof\n",
    "========"
   ]
  },
  {
   "cell_type": "code",
   "execution_count": 1,
   "metadata": {},
   "outputs": [
    {
     "data": {
      "text/html": [
       "<table><tr><th>&nbsp;</th><th>step type</th><th>requirements</th><th>statement</th></tr>\n",
       "<tr><td>0</td><td>assumption</td><td></td><td><span style=\"font-size:20px;\"><a class=\"ProveItLink\" href=\"../5b23fab0a039c6862ecf13daaaddef585af6804c0/expr.ipynb\"><img src=\"data:image/png;base64,iVBORw0KGgoAAAANSUhEUgAAAEUAAAAVBAMAAADiLT7tAAAAMFBMVEX///9ERETc3NyqqqpUVFS6\n",
       "urrMzMwyMjIQEBCIiIh2dnYiIiLu7u5mZmaYmJgAAABJJ2g3AAAAAXRSTlMAQObYZgAAASJJREFU\n",
       "KM9jYGDgu8eAE7CtUgBRPLsY8AC2ZhDJ+QGLFF+94PeKShDrOojgasCmn5HJgU24CMhYgU/NBQYZ\n",
       "RexqTlbv3g5Ts4wRqxq2ugMIc9DUqMyKAHtS8QCSXT5wu3gLGBhYmxjkwVJCSO5h3Qdy83sQLyOA\n",
       "gUH/AcNFcFgJINR07y4GMdgvMDCktAEZ/gwMO0ECrN27d8PcfPWCDFi1+AMGhogEBoaPDDzfwE52\n",
       "QLLragqIwb0ASLAUMDD9ZGD+wAOyawOSGvaTD2Du4drAwPMZqNIMxPFDUsPm4Ibs9zoG6wsgMxlO\n",
       "ByD5fTGjApIalZlhkmBZptoEWJx+TGAX/4w1LpjdIf6CAzxxiqqGD78acPrh2Yk3HbZC3LeYQHoG\n",
       "AFXdUQMIkxIhAAAAAElFTkSuQmCC\n",
       "\" style=\"display:inline;vertical-align:middle;\" /></a> <a class=\"ProveItLink\" href=\"proof.ipynb\" style=\"text-decoration: none\">&#x22A2;&nbsp;</a><a class=\"ProveItLink\" href=\"../12e1039409d0a183701ae59c5c952745fb6478810/expr.ipynb\"><img src=\"data:image/png;base64,iVBORw0KGgoAAAANSUhEUgAAADMAAAAPBAMAAAC7N+rPAAAAMFBMVEX///8yMjKqqqrMzMzu7u4i\n",
       "IiJmZmaYmJhEREQQEBC6urp2dnaIiIhUVFTc3NwAAAD87Fq/AAAAAXRSTlMAQObYZgAAAMNJREFU\n",
       "GNNjYMAAhT/6BSceYMAKGt4yWCg+wC71jIHDrwFZhOVgaKgAVIrbAEXKsAShCyLFd2fXPJAAXwuS\n",
       "gbxgA1c+4PgAEuB4gCS1tBDI4/vOwAY21wPhjJehgQpAmvcDAyvYEytDQ+HOWMbhAKT5Gxj8DUAC\n",
       "tkiOZ1t8AUi/P8CgzwBS44rsL5HjQNpfgeEiE0gbbwGSlC0vUIixgCmMG+zjKCQpboU+kLdOWZwC\n",
       "izxMhgdvM4OEvAJycOiKQlwIBQB1/jwDBuYV5wAAAABJRU5ErkJggg==\n",
       "\" style=\"display:inline;vertical-align:middle;\" /></a></span></td></tr>\n",
       "</table>"
      ],
      "text/plain": [
       "<proveit._core_.proof._ShowProof at 0x7f94ead79cc0>"
      ]
     },
     "execution_count": 1,
     "metadata": {},
     "output_type": "execute_result"
    }
   ],
   "source": [
    "import proveit\n",
    "%show_proof"
   ]
  },
  {
   "cell_type": "code",
   "execution_count": null,
   "metadata": {},
   "outputs": [],
   "source": []
  }
 ],
 "metadata": {
  "kernelspec": {
   "display_name": "Python 3",
   "language": "python",
   "name": "python3"
  }
 },
 "nbformat": 4,
 "nbformat_minor": 0
}
