{
 "cells": [
  {
   "cell_type": "markdown",
   "metadata": {},
   "source": [
    "Expression of type <a class=\"ProveItLink\" href=\"../../../../../../doc/html/api/proveit.ExprTuple.html\">ExprTuple</a>\n",
    "=======================\n",
    "# from context <a class=\"ProveItLink\" href=\"../../_context_.ipynb\">proveit.number.addition</a>"
   ]
  },
  {
   "cell_type": "code",
   "execution_count": 1,
   "metadata": {},
   "outputs": [],
   "source": [
    "# import Expression classes needed to build the expression\n",
    "from proveit import ExprTuple\n",
    "from proveit._common_ import a, b, c\n",
    "from proveit.number import Add, one, three, two"
   ]
  },
  {
   "cell_type": "code",
   "execution_count": 2,
   "metadata": {},
   "outputs": [
    {
     "data": {
      "text/html": [
       "<strong id=\"expr\">expr:</strong> <a class=\"ProveItLink\" href=\"expr.ipynb\"><img src=\"data:image/png;base64,iVBORw0KGgoAAAANSUhEUgAAAqEAAAAVBAMAAACESConAAAAMFBMVEX////c3NwiIiJERESqqqqY\n",
       "mJh2dnZmZmYQEBDu7u4yMjJUVFTMzMyIiIi6uroAAAAs73DqAAAAAXRSTlMAQObYZgAABD9JREFU\n",
       "WMPtmU1oXFUUx/8z8+bjzbduXERwVtaNJAtd2gxu3CgZNy4lKExBmnaw2EBc1IoUFWyeGyl0kaFV\n",
       "xMnCWSh+ERIQaqGLzqZVaacdXBVRMm0mlZHU8b40NzPn/l+9RvMWgdzFMPzeuff8z7nvnnvfe8B+\n",
       "2+2Wb+3nYNfay/7PpdCGd78umSjmGeCRuYMSnH3b7HOh+lS4aSCXrIGER2bPdyTJVl8tI7mi/n0W\n",
       "ntR008zxpCmsiZtliRaNPpEaVkNeRotWQMLHkOsZ9wby94A6kBNq3SKNVbQBfPggUChL4H637EmS\n",
       "8RDtyk49Y5RED4WS1SUTu/BtYLokwMK/AcblKEfLuAO8BKRE8h26G4iwyQsPAqueaXHTIKn3kPlL\n",
       "kHzfGMUJyii5ZGIXrgG5JMDC3/Ww3BGjTG1m9AzwK8LL6CtWYek+kjKjiRIPu9oKNaPkMkCDKfxz\n",
       "Dyc6xrD+qo+VcdwvVUtHTkonTPDRzPVgsO2WwGL7S4sw1aJ9meOlaxXTRJe1sau3ivLaUKcmbrW9\n",
       "InQSoEjIZYCGAOHjnpFRf9tI1PCJ+nurGOvK/DHJnsa5YKCdEHDXUFixCrs8LcjCBDakSfa1rQ0u\n",
       "fxKTRvehTk0udtIloZMARUIuWUOA8Oxd45a74E+8U8dpNdHrSE6Iy0xwpoWng4F2QsDpIzVtzeh5\n",
       "SaY8nDJNfrq/vh6r4Jg0HtGpZ/EDxCqjOglwJOQyQAMLT0+YxSSncpl/C6qKZbqItsRlJlg2q8+y\n",
       "WcIIJOso1GzCdEY0mQP+MDOa6msHT0rjEZ1DAjMUWCIhlwEaWPgxLs/zHrJdP6OFCSz4qzPZaJx7\n",
       "v9FoBhGs3Y/fBJhrNJ5oNBaDQFSdJCujQAsbJdeMTgeQXxcgsoLY+qbRGtwNaax1CgIzFFgiIZcE\n",
       "AoTnmsYojwKTFT+j76jV1MIURJllErlnzOwQbE0bAf84esKzTLVTw0OC9JCUW9VCfyujyoHTdcW1\n",
       "EZ1DInUSoEjYJYEA4c8hUhTVZeD5GVWrXpWUhTK+dcR+yAQqqHgw0E4IqG3JWo5+AF4UZEPX3u1R\n",
       "6oje9tPm9pCpPy+zPdSprdWiEGWTAEdCLgmw8GwNcZFR/Kl2/yLidRxSNbbiHEiIaWOCr4DDwUA7\n",
       "IZApJ5sWYZHHq4dKgnyBN6VJroLVaVcdntWx5NmajHREp/ZZQ0LcCgQ4EnJJgIU/XK2+LhN0Bfm7\n",
       "m6enX/xD3Y3vb8iVQQTJmbYXDLY3IhO4S28YwmbnP5UHvehgMJAZPftjxVxfsx/DnVc3xFj7t2c6\n",
       "ckKGOrX18fbPUjgBioRcsgYSPj4Y3JHDOrNz6qE73UGqGN4z004ecSyd8sXwnpn+n3A5inoKjU//\n",
       "88tSImzy+87BvyECxHfc3S78v0Ri8zMT7tu8XWzxvfHG2a1vvunbC22PfGjI+MUpsv9VZPfadeBv\n",
       "wLUdrWuRQh0AAAAASUVORK5CYII=\n",
       "\" style=\"display:inline;vertical-align:middle;\" /></a><br>"
      ],
      "text/plain": [
       "expr: (a + a + c + c + c + b + 1 + 2 + b + 3 , a + a + c + c + c + b + b + 1 + 2 + 3)"
      ]
     },
     "execution_count": 2,
     "metadata": {},
     "output_type": "execute_result"
    }
   ],
   "source": [
    "# build up the expression from sub-expressions\n",
    "expr = ExprTuple(Add(a, a, c, c, c, b, one, two, b, three), Add(a, a, c, c, c, b, b, one, two, three))"
   ]
  },
  {
   "cell_type": "code",
   "execution_count": 3,
   "metadata": {},
   "outputs": [
    {
     "name": "stdout",
     "output_type": "stream",
     "text": [
      "Passed sanity check: built 'expr' is the same as the stored Expression.\n"
     ]
    }
   ],
   "source": [
    "# check that the built expression is the same as the stored expression\n",
    "%check_expr"
   ]
  },
  {
   "cell_type": "code",
   "execution_count": 4,
   "metadata": {},
   "outputs": [
    {
     "data": {
      "text/html": [
       "<table><tr><th>&nbsp;</th><th>core type</th><th>sub-expressions</th><th>expression</th></tr>\n",
       "<tr><td>0</td><td>ExprTuple</td><td>1, 2</td><td><a class=\"ProveItLink\" href=\"expr.ipynb\"><img src=\"data:image/png;base64,iVBORw0KGgoAAAANSUhEUgAAAqEAAAAVBAMAAACESConAAAAMFBMVEX////c3NwiIiJERESqqqqY\n",
       "mJh2dnZmZmYQEBDu7u4yMjJUVFTMzMyIiIi6uroAAAAs73DqAAAAAXRSTlMAQObYZgAABD9JREFU\n",
       "WMPtmU1oXFUUx/8z8+bjzbduXERwVtaNJAtd2gxu3CgZNy4lKExBmnaw2EBc1IoUFWyeGyl0kaFV\n",
       "xMnCWSh+ERIQaqGLzqZVaacdXBVRMm0mlZHU8b40NzPn/l+9RvMWgdzFMPzeuff8z7nvnnvfe8B+\n",
       "2+2Wb+3nYNfay/7PpdCGd78umSjmGeCRuYMSnH3b7HOh+lS4aSCXrIGER2bPdyTJVl8tI7mi/n0W\n",
       "ntR008zxpCmsiZtliRaNPpEaVkNeRotWQMLHkOsZ9wby94A6kBNq3SKNVbQBfPggUChL4H637EmS\n",
       "8RDtyk49Y5RED4WS1SUTu/BtYLokwMK/AcblKEfLuAO8BKRE8h26G4iwyQsPAqueaXHTIKn3kPlL\n",
       "kHzfGMUJyii5ZGIXrgG5JMDC3/Ww3BGjTG1m9AzwK8LL6CtWYek+kjKjiRIPu9oKNaPkMkCDKfxz\n",
       "Dyc6xrD+qo+VcdwvVUtHTkonTPDRzPVgsO2WwGL7S4sw1aJ9meOlaxXTRJe1sau3ivLaUKcmbrW9\n",
       "InQSoEjIZYCGAOHjnpFRf9tI1PCJ+nurGOvK/DHJnsa5YKCdEHDXUFixCrs8LcjCBDakSfa1rQ0u\n",
       "fxKTRvehTk0udtIloZMARUIuWUOA8Oxd45a74E+8U8dpNdHrSE6Iy0xwpoWng4F2QsDpIzVtzeh5\n",
       "SaY8nDJNfrq/vh6r4Jg0HtGpZ/EDxCqjOglwJOQyQAMLT0+YxSSncpl/C6qKZbqItsRlJlg2q8+y\n",
       "WcIIJOso1GzCdEY0mQP+MDOa6msHT0rjEZ1DAjMUWCIhlwEaWPgxLs/zHrJdP6OFCSz4qzPZaJx7\n",
       "v9FoBhGs3Y/fBJhrNJ5oNBaDQFSdJCujQAsbJdeMTgeQXxcgsoLY+qbRGtwNaax1CgIzFFgiIZcE\n",
       "AoTnmsYojwKTFT+j76jV1MIURJllErlnzOwQbE0bAf84esKzTLVTw0OC9JCUW9VCfyujyoHTdcW1\n",
       "EZ1DInUSoEjYJYEA4c8hUhTVZeD5GVWrXpWUhTK+dcR+yAQqqHgw0E4IqG3JWo5+AF4UZEPX3u1R\n",
       "6oje9tPm9pCpPy+zPdSprdWiEGWTAEdCLgmw8GwNcZFR/Kl2/yLidRxSNbbiHEiIaWOCr4DDwUA7\n",
       "IZApJ5sWYZHHq4dKgnyBN6VJroLVaVcdntWx5NmajHREp/ZZQ0LcCgQ4EnJJgIU/XK2+LhN0Bfm7\n",
       "m6enX/xD3Y3vb8iVQQTJmbYXDLY3IhO4S28YwmbnP5UHvehgMJAZPftjxVxfsx/DnVc3xFj7t2c6\n",
       "ckKGOrX18fbPUjgBioRcsgYSPj4Y3JHDOrNz6qE73UGqGN4z004ecSyd8sXwnpn+n3A5inoKjU//\n",
       "88tSImzy+87BvyECxHfc3S78v0Ri8zMT7tu8XWzxvfHG2a1vvunbC22PfGjI+MUpsv9VZPfadeBv\n",
       "wLUdrWuRQh0AAAAASUVORK5CYII=\n",
       "\" style=\"display:inline;vertical-align:middle;\" /></a></td></tr>\n",
       "<tr><td>1</td><td>Operation</td><td>operator:&nbsp;4<br>operands:&nbsp;3<br></td><td><a class=\"ProveItLink\" href=\"../798ef4bf2a0f4a9899c2318f17942e13447618250/expr.ipynb\"><img src=\"data:image/png;base64,iVBORw0KGgoAAAANSUhEUgAAAUUAAAAQBAMAAABzbnCeAAAAMFBMVEX///8yMjKqqqrMzMzu7u4i\n",
       "IiJmZmaYmJhEREQQEBC6urp2dnaIiIhUVFTc3NwAAAD87Fq/AAAAAXRSTlMAQObYZgAAAiVJREFU\n",
       "SMe1lb9LG2Ecxp9LrjG9xJMbLF1KMzkJOla6vKsUGyehU8zQUCil9ydk6ygdHLRFsxYcBBcxQg8q\n",
       "ChJpKtIpJQGxW0kafxUU0ju517vv+776kiHvEMgHns/73JvvvQEGtGYWJZRm9LtdelzRhJLVzRwG\n",
       "t56IwFwQOv5BtqsJ/YZ1TcBLaR+z1Te4tXQFYP5qMkqOgIJgEUNfczgn9nGpY8LrG3CLdSZpvzNK\n",
       "lhiaFWKRQhMD7ZiZ1XZ8yvCedlSEbn5ru7G1QnlEeNas1iZppRfb39SAW4zGgavp6K8CIxZFyKj7\n",
       "H19a6Q7lEeHZqYoxS0ByGaNqwC35Mk61HZNXdB859Dx4i+xLpMqEx0iYNT8j7RLZtIcPanA7SQyf\n",
       "tB0Nuo8qlF0Ghjt44BEeI2F2uCOOX/NOwC1F4ELb8Y1gUYSwyjBSRj6YtaLjvHKc4GQ5STnO6EfH\n",
       "qd8QEIB/ahCzzMG6JIB3jJFsXbBIoWNgwUXbwwRYvHuMhM/X9oRjs6/vBNzSRepMd45jsFvkHMWQ\n",
       "2WNBx3wOPxKTZNojEmZH/GGk8+g/7ZAacMspHq5rOibnMUQ7SqG//qvfguEm5jL01ogIn8d5ZOjd\n",
       "8xPYUANuOcQ73f14Uq2+pvMohfZgXQWX4f6zffpeR4Rn39Z2KEht15gacMvMrit0LK0+opdfodc7\n",
       "p1oplCgVc4P7n7lPO47+LeFak4jl9Q1ky5p+o/st/wEkw92Rl7ohwAAAAABJRU5ErkJggg==\n",
       "\" style=\"display:inline;vertical-align:middle;\" /></a></td></tr>\n",
       "<tr><td>2</td><td>Operation</td><td>operator:&nbsp;4<br>operands:&nbsp;5<br></td><td><a class=\"ProveItLink\" href=\"../b0c45e8a3626642701570a424364f9cd17459fcc0/expr.ipynb\"><img src=\"data:image/png;base64,iVBORw0KGgoAAAANSUhEUgAAAUUAAAAQBAMAAABzbnCeAAAAMFBMVEX///8yMjKqqqrMzMzu7u4i\n",
       "IiJmZmaYmJhEREQQEBC6urp2dnaIiIhUVFTc3NwAAAD87Fq/AAAAAXRSTlMAQObYZgAAAkRJREFU\n",
       "SMe11cFr01AcB/BvsyR2qU3MYeJlkD9AWE+iePBdRWZ7GogH28s8iJi/QHoTvAxBL1OcV0HYQBSx\n",
       "AwMbG4yOVQ+KUFlB2NHVrboxBzWpfe37/ZoRe+g7fgjf9+3LL6/AiNb0Ewb61wJ/Ji0Y7JQeUhir\n",
       "vPMwujXJIVXjredYR7uGLVppB9YxgesD++iNoaGXssfB8Sjo37YFlayA0STywcMvkn5+oKMWDA0y\n",
       "xWrx2EXB99liMv4Y2SMiUyPtmCnw2DdI6phqwTxiz3TetV1//5x6X2QDvVLN0UrXllfiobdffdOn\n",
       "sZPVLwkdw2W0mHSm+GUj3aTeF9ng0otUgcDYPCbiQabky9gnoB/CySV2vLJE5XL06dkHMMvEFek2\n",
       "0J8h7ZNKVwM8iIfeJAk8JaC1ML6U2PEcl9Pz4bfUhBEQV6TbINvk47d9IsiUEvCbgHkGTjGpozwc\n",
       "pfWCgFNGPnoFJde94brRyUoxXXfikevWOgICOIwHJWUG1gEBo4hFXwXZUZVNlvIdmPOxG2AKQu2u\n",
       "SPeUdgN2bPbxiSBT9mDS8Q+vx3si4Ry1In6oordF1DHv4aNGZlmRbgMn/P10HsMjOhUPMmVfTl+v\n",
       "Y44NaEzHC8B9Ij+BWw2kfG0mQ2+Nvsh5LCJD757PwOt4kCmfcJcWyHpmLaGjfbPytkBkHdaf6DLc\n",
       "uLhBn+yLbHCnukrBXK6KeJAp02s+LaDXb7NTm104S69Qo91u047abMkb3f/MMPBf8m+9GhArGBoG\n",
       "U5IhQf4CC0/SfrMx42YAAAAASUVORK5CYII=\n",
       "\" style=\"display:inline;vertical-align:middle;\" /></a></td></tr>\n",
       "<tr><td>3</td><td>ExprTuple</td><td>6, 6, 7, 7, 7, 8, 9, 10, 8, 11</td><td><a class=\"ProveItLink\" href=\"../5cd42d7e5ada1470b7c9f505484a09b267a6c09a0/expr.ipynb\"><img src=\"data:image/png;base64,iVBORw0KGgoAAAANSUhEUgAAAMEAAAAVBAMAAAANw5eWAAAAMFBMVEX////c3NwiIiJERESqqqqY\n",
       "mJh2dnZmZmYQEBDu7u4yMjJUVFTMzMyIiIi6uroAAAAs73DqAAAAAXRSTlMAQObYZgAAAh9JREFU\n",
       "SMe1lT9oE1Ecxz+xuSaX3p2Hi4OC3Tomi4OT2Rxzk6MUhLgYLYpW6uAfRJzaA0ECGRIUB3GwgyAq\n",
       "pQHBxSWLOKglOolTjLbS0hrfvfuX3mtiI+SGu0/e9/d733e/37sXGP9ltcY4+Rnv9m7ktNrtCE8E\n",
       "z9T8o3ZCNMpni2Sagp6MvrKnIdzfDOAI5q+EeBhrBxpg/keRwslqr0OHl5BPiBeLdOE0ZN3ROxfO\n",
       "ixnSPZfV9m6xJB2q8H30V5icVhyeudxoJ0RZpYkiV70+rVy4FXQsIh5UPg2A3MpHJ+EgrrybEMkt\n",
       "C8M5Hgv8Zk90/MGYjEUeDoB6gW3FwdggIb71ep5usCgWvk6m4L9CRFRbHB8AJZe7ikMuyItFTDG3\n",
       "dZM/MNXhgL+jYmI1TFVhAX4rDpcVEZZcjI7ncLBAvSmHYuJnGKbCDNZ60sFcTopH4aTjOdyBYy1K\n",
       "yD7FlNoJv1YFxI7PbCYdTpGyd4l6z/UcRJVEaetFXqWbOv2EWIgmzVTYJjvrr8NzkNHGHJotKRK3\n",
       "xPay0RqcE01y0jOT1Kf7iRdwXu/uCc+5jgTpIKMPlcuXfIrE91gbcrd+9T6CtTdrVH/0E5nKZ1df\n",
       "sveC2gcHf+Ta1hU/Ot/rdX2KxPT8QlGsuU3WDkv5BYUs+98wNM87NbTZ8IeDQto+YGgelf7TexwO\n",
       "ekMe7cHOiwJjau0DhuZNeeVKjfNfVByVfwGxA9FZ6yeDvwAAAABJRU5ErkJggg==\n",
       "\" style=\"display:inline;vertical-align:middle;\" /></a></td></tr>\n",
       "<tr><td>4</td><td>Literal</td><td></td><td><a class=\"ProveItLink\" href=\"../3e6688136fa3c7aefbebe51301b7c3ebf0b69c440/expr.ipynb\"><img src=\"data:image/png;base64,iVBORw0KGgoAAAANSUhEUgAAAA4AAAAOBAMAAADtZjDiAAAAJFBMVEX///+6urpUVFQQEBAiIiIy\n",
       "MjJmZmaIiIiqqqrc3Nzu7u4AAACgHpL+AAAAAXRSTlMAQObYZgAAAB5JREFUCNdjYGBgWMkAAe2k\n",
       "0Kmhoc6hoUGk6BMHYgAHOwjcado9fwAAAABJRU5ErkJggg==\n",
       "\" style=\"display:inline;vertical-align:middle;\" /></a></td></tr>\n",
       "<tr><td>5</td><td>ExprTuple</td><td>6, 6, 7, 7, 7, 8, 8, 9, 10, 11</td><td><a class=\"ProveItLink\" href=\"../44f9a5894b454d57f96f1f72ca92f6f6eaaaebd70/expr.ipynb\"><img src=\"data:image/png;base64,iVBORw0KGgoAAAANSUhEUgAAAMEAAAAVBAMAAAANw5eWAAAAMFBMVEX////c3NwiIiJERESqqqqY\n",
       "mJh2dnZmZmYQEBDu7u4yMjJUVFTMzMyIiIi6uroAAAAs73DqAAAAAXRSTlMAQObYZgAAAh1JREFU\n",
       "SMe11T1oE2Ecx/FvTNLk0uQ8XBwU7NYxWZybzTE3OUpBiIvRomCgDr4g4tTcJIEOCYqIONhBEJWS\n",
       "gODikkUc1BqdxCnGtlJpjc89d5fnuVwznJAbkk8uT/6/5563wOwvszfD4ufcl3exf7Z+exKQdLz3\n",
       "RP1h31O+er5Mpiv0JH7PnkZgLPkJJyhsezqOeQBtKPzHIG1Pwnjd8RNeQtHT5TJDOAtZJ/7M7U0C\n",
       "vvhl7jl0vGGqyIQm/Ij/CHMLk1AJzxxu9IMOiFFKlrnmTs/mpVv+RI3F/dqnKchtfrTDUAniKgbM\n",
       "bYhOrPBI8LuVHHg3lfJrPJiCVon9MPSE/K6Pt+46SLVZEx3fIVPyHmEsmj1OT0HF4W4YekKuFKgg\n",
       "aps3+QvzA454K0qJTtAuilX4HYaecFVNWMMhP3ATjpZodeUtJX4FzaJYxNwJQ0sobPg4CUu2m3AH\n",
       "TvWoIFsoJQ78hlGIXZDZC0NLOEPCkltk5LgJYpTE0LbKvEp1DXQhOpeWYVHsk10Ow0twlV8hbckC\n",
       "f8Sqski3uSDmxk4tztFa0MULuGgMD8VzrhOGTJA6Vq1e8Qq8x9yVq/Wbuwm23mzR/KmLTO2zYzSs\n",
       "w7D+wSYM6o3HtlRxNBp6BVL11bLoc5+sFQzvVyIyrRjQpEqJUyO9HHywiSgdB5pUqZp+es8iwWjL\n",
       "E91fyOPvlXpxoKQKzLsDl5jlv6g4Kv8B+O7UOHfSHiUAAAAASUVORK5CYII=\n",
       "\" style=\"display:inline;vertical-align:middle;\" /></a></td></tr>\n",
       "<tr><td>6</td><td>Variable</td><td></td><td><a class=\"ProveItLink\" href=\"../../../../__pv_it/07527342713064c87612d00d8557c53d53d5324a0/expr.ipynb\"><img src=\"data:image/png;base64,iVBORw0KGgoAAAANSUhEUgAAAAsAAAAJBAMAAAAWSsseAAAAMFBMVEX///8yMjKqqqrMzMzu7u4i\n",
       "IiJmZmaYmJhEREQQEBC6urp2dnaIiIhUVFTc3NwAAAD87Fq/AAAAAXRSTlMAQObYZgAAAEhJREFU\n",
       "CNdjYOC7s2seAwPDygccHxgY+L4zsDUwMPB+YGA9wMDA38Dgb8DA8P4Agz6DA4O/AsNFJgMGxgKm\n",
       "MG6gyjunLE4xAAAZTBA5TB6DCwAAAABJRU5ErkJggg==\n",
       "\" style=\"display:inline;vertical-align:middle;\" /></a></td></tr>\n",
       "<tr><td>7</td><td>Variable</td><td></td><td><a class=\"ProveItLink\" href=\"../../../../__pv_it/cbdfda466482236edba0ce44ac7ef39cda0af7a40/expr.ipynb\"><img src=\"data:image/png;base64,iVBORw0KGgoAAAANSUhEUgAAAAkAAAAJBAMAAAASvxsjAAAALVBMVEX///9mZmbc3NxUVFSYmJhE\n",
       "REQiIiIyMjK6uroQEBDMzMyIiIh2dnbu7u4AAABgFDGoAAAAAXRSTlMAQObYZgAAADZJREFUCNdj\n",
       "YOA9s3sBA8PKBvYEBt7ZDKwODMwPGICALwBE6m0Asx0YGIDiAgw8QJUyu/cyAAAmuwmycZ8WfQAA\n",
       "AABJRU5ErkJggg==\n",
       "\" style=\"display:inline;vertical-align:middle;\" /></a></td></tr>\n",
       "<tr><td>8</td><td>Variable</td><td></td><td><a class=\"ProveItLink\" href=\"../../../../__pv_it/6840a4fa6c106149dc16a131294d0c5e44f1b0480/expr.ipynb\"><img src=\"data:image/png;base64,iVBORw0KGgoAAAANSUhEUgAAAAkAAAAOBAMAAAAPuiubAAAALVBMVEX///9mZmbMzMxERESYmJiI\n",
       "iIh2dna6urqqqqoyMjIiIiIQEBBUVFTu7u4AAAD9S1JeAAAAAXRSTlMAQObYZgAAAE1JREFUCNdj\n",
       "4D29gAEIOA+ASL4GEFl3AURmgQiGOaFHGBh4HzPwKTBwvGXgTmBgnMDAJ8DAJcBQ5wBSLncBJLWN\n",
       "gYGngRFoBO9REQYGAGrcDtUkVqASAAAAAElFTkSuQmCC\n",
       "\" style=\"display:inline;vertical-align:middle;\" /></a></td></tr>\n",
       "<tr><td>9</td><td>Literal</td><td></td><td><a class=\"ProveItLink\" href=\"../../../numeral/__pv_it/9be8badea4c35b9724062cecc501d17a3158d1d20/expr.ipynb\"><img src=\"data:image/png;base64,iVBORw0KGgoAAAANSUhEUgAAAAgAAAAPBAMAAAArJJMAAAAAHlBMVEX///+YmJgyMjIQEBBmZmaI\n",
       "iIhUVFTu7u5EREQAAAAw+MI4AAAAAXRSTlMAQObYZgAAACFJREFUCNdjYGBoZ2BgqJjOwFCWBiQY\n",
       "WEklWJwnOTKAAACjEQo8HvEr3AAAAABJRU5ErkJggg==\n",
       "\" style=\"display:inline;vertical-align:middle;\" /></a></td></tr>\n",
       "<tr><td>10</td><td>Literal</td><td></td><td><a class=\"ProveItLink\" href=\"../../../numeral/__pv_it/77d407a64829263cdc16415becd4c2293f77a4bf0/expr.ipynb\"><img src=\"data:image/png;base64,iVBORw0KGgoAAAANSUhEUgAAAAkAAAAOBAMAAAAPuiubAAAAMFBMVEX///+YmJh2dnbMzMwQEBAi\n",
       "IiLu7u6qqqqIiIhUVFS6urpEREQyMjJmZmbc3NwAAACOMKdoAAAAAXRSTlMAQObYZgAAAFBJREFU\n",
       "CNdj4Lt7egEDw0sGju8MDNMYGOIZGFwSGOYvYDifwHAfKAEUSQASzJ9ATJ4NIPI2iOCYACJrGfge\n",
       "MDBfYGB8wPBUSekqUPH//18ZAIliFhc3zESNAAAAAElFTkSuQmCC\n",
       "\" style=\"display:inline;vertical-align:middle;\" /></a></td></tr>\n",
       "<tr><td>11</td><td>Literal</td><td></td><td><a class=\"ProveItLink\" href=\"../../../numeral/__pv_it/9176d93c83afa2c995b614976e3cb49207102fa70/expr.ipynb\"><img src=\"data:image/png;base64,iVBORw0KGgoAAAANSUhEUgAAAAoAAAAOBAMAAADkjZCYAAAAMFBMVEX///+YmJju7u4QEBBUVFQy\n",
       "MjIiIiKIiIi6urpmZmbc3NyqqqpERER2dnbMzMwAAAB0GlNiAAAAAXRSTlMAQObYZgAAAE1JREFU\n",
       "CNdjYHh79zQDA9cEhv4CBt7fDPwJDNxgEgiAIkAQAsR8Vx1ATIbiBhDJ/ImB6wEDz0cG/U8gkj+A\n",
       "ge0XA7sAQ/8FBoadM6MZAEflFACalZ/OAAAAAElFTkSuQmCC\n",
       "\" style=\"display:inline;vertical-align:middle;\" /></a></td></tr>\n",
       "</table>\n"
      ],
      "text/plain": [
       "0. (a + a + c + c + c + b + 1 + 2 + b + 3 , a + a + c + c + c + b + b + 1 + 2 + 3)\n",
       "   core type: ExprTuple\n",
       "   sub-expressions: 1, 2\n",
       "1. a + a + c + c + c + b + 1 + 2 + b + 3\n",
       "   core type: Operation\n",
       "   operator: 4\n",
       "   operands: 3\n",
       "2. a + a + c + c + c + b + b + 1 + 2 + 3\n",
       "   core type: Operation\n",
       "   operator: 4\n",
       "   operands: 5\n",
       "3. (a , a , c , c , c , b , 1 , 2 , b , 3)\n",
       "   core type: ExprTuple\n",
       "   sub-expressions: 6, 6, 7, 7, 7, 8, 9, 10, 8, 11\n",
       "4. +\n",
       "   core type: Literal\n",
       "   sub-expressions: \n",
       "5. (a , a , c , c , c , b , b , 1 , 2 , 3)\n",
       "   core type: ExprTuple\n",
       "   sub-expressions: 6, 6, 7, 7, 7, 8, 8, 9, 10, 11\n",
       "6. a\n",
       "   core type: Variable\n",
       "   sub-expressions: \n",
       "7. c\n",
       "   core type: Variable\n",
       "   sub-expressions: \n",
       "8. b\n",
       "   core type: Variable\n",
       "   sub-expressions: \n",
       "9. 1\n",
       "   core type: Literal\n",
       "   sub-expressions: \n",
       "10. 2\n",
       "    core type: Literal\n",
       "    sub-expressions: \n",
       "11. 3\n",
       "    core type: Literal\n",
       "    sub-expressions: "
      ]
     },
     "execution_count": 4,
     "metadata": {},
     "output_type": "execute_result"
    }
   ],
   "source": [
    "# display the expression information\n",
    "expr.exprInfo()"
   ]
  },
  {
   "cell_type": "code",
   "execution_count": null,
   "metadata": {},
   "outputs": [],
   "source": []
  }
 ],
 "metadata": {
  "kernelspec": {
   "display_name": "Python 3",
   "language": "python",
   "name": "python3"
  }
 },
 "nbformat": 4,
 "nbformat_minor": 0
}
