{
 "cells": [
  {
   "cell_type": "markdown",
   "metadata": {},
   "source": [
    "Expression of type <a class=\"ProveItLink\" href=\"../../../../../../doc/html/api/proveit.logic.Equals.html\">Equals</a>\n",
    "=======================\n",
    "# from context <a class=\"ProveItLink\" href=\"../../_context_.ipynb\">proveit.number.addition</a>"
   ]
  },
  {
   "cell_type": "code",
   "execution_count": 1,
   "metadata": {},
   "outputs": [],
   "source": [
    "# import Expression classes needed to build the expression\n",
    "from proveit._common_ import c\n",
    "from proveit.logic import Equals\n",
    "from proveit.number import Add, one, three, two"
   ]
  },
  {
   "cell_type": "code",
   "execution_count": 2,
   "metadata": {},
   "outputs": [
    {
     "data": {
      "text/html": [
       "<strong id=\"expr\">expr:</strong> <a class=\"ProveItLink\" href=\"expr.ipynb\"><img src=\"data:image/png;base64,iVBORw0KGgoAAAANSUhEUgAAAfEAAAAVBAMAAACkvspuAAAAMFBMVEX////c3NwiIiJERESqqqqY\n",
       "mJh2dnZmZmYQEBDu7u4yMjJUVFTMzMyIiIi6uroAAAAs73DqAAAAAXRSTlMAQObYZgAAA1BJREFU\n",
       "WMPlWD1oU1EY/V5+muTlVxeHKhYFcWsHO7jYbJ3EuHSUgJCCGAwVG8migoMVbJ8IUnAwtIqYDmYT\n",
       "6ZBOVXAwi6DY0OAolFathVdo401e323ud//SIOnghZbm9DvnnnP/ct8D+H9brNrjDq8IsLXD8PCR\n",
       "/HgtXemxwgWELGfOaTsQ6gaWOChS7sjvefTZyM/XkVDmalLHoh5eA4RGdMmNMqyykkYO1nWrRaJb\n",
       "5BDT6iT4ExsB/RDdRBMEsR0dy/UQrUJoseL2/BhX7AFhCzwbDNK3CfEBNUmmO8b5qLUPV0Ii92zR\n",
       "RiXvAAZZ5EYSfrEIz3I9BJvmVl2HF3Gve0BwCsK7DOLbTy4jyXRnueRTbX/7qjK5qI1KHlhQqTPI\n",
       "JZqcynAs18MP6CS5aUNgF5e4q/2gyb14K8aK3SV/Y8GdOiK5q12TnHiYFDoMZWpLyLLHxiEWtCSx\n",
       "bl8Onzdp8utpdoU16ALy5KQNWggxy7rkroeXQocf6uYAyvkpzZZErpW1JLGurzXFhVKztUbPTBG5\n",
       "aZhjDFJAlTyyhZDlBdAldz1MixyGHoE3hZLPcwv3S11HEuvG7qI5DxKh2SoMMwYpoEpuDmEkOq1J\n",
       "Tj3sihyGN7gtGxjikgdtHUmsG9lAyeMkeQXv84p+nwPc5Nf/jKVOTj20JSfr76yz/uJOzH0A4BtC\n",
       "jCXw/tGRxLrC5L+d8S2V5h6WSs195ADtck6GthKIlhFyHGAkhWoQi3q4L5qbk1U83r4cHGGQ57aT\n",
       "XEWS6DqrfeJUs51uLZ4kGDtozvcBxZyPgpFgVnLDaiVXzTn1MCxyGCdsdsu+B7jMlhTB81NDkuj6\n",
       "8SWueTyQUfQzlikgTx7JgZ9JDtvktE+ok1MP48L9mIM+5gvKOJMZZ+8t0RSsp9UkmS73rdYE3gJc\n",
       "ZyxTQJ78aCYzwSKfIbalOeGoh+/kQ37mVYrtZLL2lQE8jUYD3dhG8y9ATZLpmnV8kyHSgWyNPZoo\n",
       "4JIDt7dvsakGGw10Y/PlC0kW4Vmuh2BCePuSAp0gmhL+9nqvozucouTACPHgTyufk9egC0RTkuX+\n",
       "PaZ8X7Cmf6VwYCTrPKX2toW6fUr91x76e508nBA9/h+CB6PXb6NWBNiJ3nv4C4lHkH5cebOMAAAA\n",
       "AElFTkSuQmCC\n",
       "\" style=\"display:inline;vertical-align:middle;\" /></a><br>"
      ],
      "text/plain": [
       "expr: (1 + c + 2 + 3 + c + 1 + c) = (c + c + 1 + 2 + 3 + 1 + c)"
      ]
     },
     "execution_count": 2,
     "metadata": {},
     "output_type": "execute_result"
    }
   ],
   "source": [
    "# build up the expression from sub-expressions\n",
    "expr = Equals(Add(one, c, two, three, c, one, c), Add(c, c, one, two, three, one, c))"
   ]
  },
  {
   "cell_type": "code",
   "execution_count": 3,
   "metadata": {},
   "outputs": [
    {
     "name": "stdout",
     "output_type": "stream",
     "text": [
      "Passed sanity check: built 'expr' is the same as the stored Expression.\n"
     ]
    }
   ],
   "source": [
    "# check that the built expression is the same as the stored expression\n",
    "%check_expr"
   ]
  },
  {
   "cell_type": "code",
   "execution_count": 4,
   "metadata": {},
   "outputs": [
    {
     "data": {
      "text/html": [
       "<table><tr><th>&nbsp;</th><th>core type</th><th>sub-expressions</th><th>expression</th></tr>\n",
       "<tr><td>0</td><td>Operation</td><td>operator:&nbsp;1<br>operands:&nbsp;2<br></td><td><a class=\"ProveItLink\" href=\"expr.ipynb\"><img src=\"data:image/png;base64,iVBORw0KGgoAAAANSUhEUgAAAfEAAAAVBAMAAACkvspuAAAAMFBMVEX////c3NwiIiJERESqqqqY\n",
       "mJh2dnZmZmYQEBDu7u4yMjJUVFTMzMyIiIi6uroAAAAs73DqAAAAAXRSTlMAQObYZgAAA1BJREFU\n",
       "WMPlWD1oU1EY/V5+muTlVxeHKhYFcWsHO7jYbJ3EuHSUgJCCGAwVG8migoMVbJ8IUnAwtIqYDmYT\n",
       "6ZBOVXAwi6DY0OAolFathVdo401e323ud//SIOnghZbm9DvnnnP/ct8D+H9brNrjDq8IsLXD8PCR\n",
       "/HgtXemxwgWELGfOaTsQ6gaWOChS7sjvefTZyM/XkVDmalLHoh5eA4RGdMmNMqyykkYO1nWrRaJb\n",
       "5BDT6iT4ExsB/RDdRBMEsR0dy/UQrUJoseL2/BhX7AFhCzwbDNK3CfEBNUmmO8b5qLUPV0Ii92zR\n",
       "RiXvAAZZ5EYSfrEIz3I9BJvmVl2HF3Gve0BwCsK7DOLbTy4jyXRnueRTbX/7qjK5qI1KHlhQqTPI\n",
       "JZqcynAs18MP6CS5aUNgF5e4q/2gyb14K8aK3SV/Y8GdOiK5q12TnHiYFDoMZWpLyLLHxiEWtCSx\n",
       "bl8Onzdp8utpdoU16ALy5KQNWggxy7rkroeXQocf6uYAyvkpzZZErpW1JLGurzXFhVKztUbPTBG5\n",
       "aZhjDFJAlTyyhZDlBdAldz1MixyGHoE3hZLPcwv3S11HEuvG7qI5DxKh2SoMMwYpoEpuDmEkOq1J\n",
       "Tj3sihyGN7gtGxjikgdtHUmsG9lAyeMkeQXv84p+nwPc5Nf/jKVOTj20JSfr76yz/uJOzH0A4BtC\n",
       "jCXw/tGRxLrC5L+d8S2V5h6WSs195ADtck6GthKIlhFyHGAkhWoQi3q4L5qbk1U83r4cHGGQ57aT\n",
       "XEWS6DqrfeJUs51uLZ4kGDtozvcBxZyPgpFgVnLDaiVXzTn1MCxyGCdsdsu+B7jMlhTB81NDkuj6\n",
       "8SWueTyQUfQzlikgTx7JgZ9JDtvktE+ok1MP48L9mIM+5gvKOJMZZ+8t0RSsp9UkmS73rdYE3gJc\n",
       "ZyxTQJ78aCYzwSKfIbalOeGoh+/kQ37mVYrtZLL2lQE8jUYD3dhG8y9ATZLpmnV8kyHSgWyNPZoo\n",
       "4JIDt7dvsakGGw10Y/PlC0kW4Vmuh2BCePuSAp0gmhL+9nqvozucouTACPHgTyufk9egC0RTkuX+\n",
       "PaZ8X7Cmf6VwYCTrPKX2toW6fUr91x76e508nBA9/h+CB6PXb6NWBNiJ3nv4C4lHkH5cebOMAAAA\n",
       "AElFTkSuQmCC\n",
       "\" style=\"display:inline;vertical-align:middle;\" /></a></td></tr>\n",
       "<tr><td>1</td><td>Literal</td><td></td><td><a class=\"ProveItLink\" href=\"../../../../logic/equality/__pv_it/2fb26078095930560931daa0500ce419a39ea6cd0/expr.ipynb\"><img src=\"data:image/png;base64,iVBORw0KGgoAAAANSUhEUgAAAA4AAAAFBAMAAACHocAhAAAAFVBMVEX///9EREQiIiJUVFQyMjJm\n",
       "ZmYAAADubVkoAAAAAXRSTlMAQObYZgAAABRJREFUCNdjCHEBAWcGXCBICQQUAUpuAwlgGKrkAAAA\n",
       "AElFTkSuQmCC\n",
       "\" style=\"display:inline;vertical-align:middle;\" /></a></td></tr>\n",
       "<tr><td>2</td><td>ExprTuple</td><td>3, 4</td><td><a class=\"ProveItLink\" href=\"../a6779da3ee081e4d94677b1465b34a732c441df10/expr.ipynb\"><img src=\"data:image/png;base64,iVBORw0KGgoAAAANSUhEUgAAAc8AAAAVBAMAAADShHjlAAAAMFBMVEX////c3NwiIiJERESqqqqY\n",
       "mJh2dnZmZmYQEBDu7u4yMjJUVFTMzMyIiIi6uroAAAAs73DqAAAAAXRSTlMAQObYZgAAAsNJREFU\n",
       "WMPlWD9oE1Ec/s78vfQuCS4OCmZ0i4MdnJqtU/AmRykIJ4jBoNhIFx0cRDA9KUjAoaEq4jmYTaRD\n",
       "MhXBJYugYPB0FEr/WAtXqPGSMzXv3nv3uyJksA+SkN+/7/ve/d7dewccmZHt/v8aLw2+3nufmEWF\n",
       "KrWnDmtZM8+RAHTdsHGe5KCZl0tRIFMd7+sloM6QhE5C32FRq9igeiFC3ZCx5FIccALZ/UiQTUDv\n",
       "Ql1tj7yPOK55//ctUGQsyR3kCuFJYXU5AM7wZNWlOOB6CdsMgAzyIpAeOL6MvOUgj/ifq3bfQtsZ\n",
       "t8T/CpUmhdTlYzmD7lIccOFA6AGAGLIBfEckoa8t3HECzEatOymhIg6j1iWExkqYF3pVs9cJ8iha\n",
       "AcsrMklel499XPlMCBVxyLQooUOkZBXPhd53TqYQKKntsrDa1RaZJK/LxWp1rJBCgxywFpxsCWS8\n",
       "ibrIqz5EzAjO3dkg7EeHSpLW5WMbXUyTQnkOep0Q6iNl7+KXyDu1yS+hm5wl7VJJ0rp8bJteoyIO\n",
       "WLTChfpI2ua40AXbPmPbg2bI+TOXsu2VB7Y9bFG9xVqUDmI/qSRJXVHsDx7RpTjgFDBjjAPIID2h\n",
       "90TTcLrLze8slPy4Zdn1hYYmSetyscp+hCsa5KD2raHQsCvqI3mtOy3y5rxsdglpVSQYkFwTx7aI\n",
       "JHFdVRjrTVqCEMpxwJ53H86HC/WREk1cETZ2FUn27n/cNG8wsLqBjTkiSVx3uSCKfQNcI4RyHPAB\n",
       "2V3iZuQjeY+Xb96f2uILg42f731iSxb7/W3WMlt7BiJJXLexJYpNVXrsMzJ1e+8WxSFeWyixABIp\n",
       "GQdpZq9ZJjcuAkv5kCFfo+2M/o0DtwVMzI0b1unTKm9ZP2SIERobBTECB9ZS8Y9pEx7GxBHV5vCU\n",
       "N+GhT/4Nw9RgfSpH4FWKd1z4Dbkzhsi0JIQTAAAAAElFTkSuQmCC\n",
       "\" style=\"display:inline;vertical-align:middle;\" /></a></td></tr>\n",
       "<tr><td>3</td><td>Operation</td><td>operator:&nbsp;6<br>operands:&nbsp;5<br></td><td><a class=\"ProveItLink\" href=\"../7c4ebe32948f91a2bb66560fce7b4951538416d70/expr.ipynb\"><img src=\"data:image/png;base64,iVBORw0KGgoAAAANSUhEUgAAANwAAAAQBAMAAACPXgx9AAAAMFBMVEX////MzMx2dna6uroiIiKq\n",
       "qqrc3NyYmJgyMjIQEBBmZmaIiIhUVFTu7u5EREQAAACN3imBAAAAAXRSTlMAQObYZgAAAVZJREFU\n",
       "OMtjYGB4y0AAsK3qM0AVYVTSCyCkC4e59/4S0pfDwP0VVSSLgfk3IV3Yzb1zBibMm4Audw1CnWVg\n",
       "8EdVoh/A8IWAJlzmcsOEWTeg64yGUDMvMJw3QFESD7cOpyZc5hK2rv8Cw3oDNCWwwKSCdZe0N6Lq\n",
       "BAbmBTSdHAcIacJhLoYw42SGFjTrGD+h6RTqIagJh7kYwjc3MDxHs47jAXq4cE8mpAmHuRjC5zGi\n",
       "gWEdZjTMv0BAEw5zIcJcHR0tMzo6QDHyDyK7oqPDs6MDHGjcB9CUJDIwvC8gpAm7ueiuYPuN4dAo\n",
       "BrYEZCW8/y+ArcOrCYe5GJ7+zsDAjqKTcQEDO4p1DD+AaTUBvyZc5mIIn2JgUETRmaKktARVyXYG\n",
       "5k8ENOEwl2vlj+Wowlzauy+g6PT//x+tDGFdtSKAgCZ85hIoIPAoIUsTpFzCELYmrIRETQDkVLLx\n",
       "V78j4wAAAABJRU5ErkJggg==\n",
       "\" style=\"display:inline;vertical-align:middle;\" /></a></td></tr>\n",
       "<tr><td>4</td><td>Operation</td><td>operator:&nbsp;6<br>operands:&nbsp;7<br></td><td><a class=\"ProveItLink\" href=\"../a0c8e112f883831ccc8f91902cde254bd4e89cad0/expr.ipynb\"><img src=\"data:image/png;base64,iVBORw0KGgoAAAANSUhEUgAAAN0AAAAQBAMAAABgnGdDAAAAMFBMVEX///+qqqpmZmbc3NxUVFSY\n",
       "mJhEREQiIiIyMjK6uroQEBDMzMyIiIh2dnbu7u4AAAA4MM1YAAAAAXRSTlMAQObYZgAAAYVJREFU\n",
       "OMullE1LAlEUhl+/QhkbpXWQCJUEkUTQokUSrtOf0KZttm4jhOTdNT+gH5AR2DoIZtMqqV2bHBoo\n",
       "WgRBLSoXfmSODp5TekTvaubhvTz33HPvBUYZe+zfFz8yKNGs+ygLTdkYc7w0GVhD+IOSVYTqlOg5\n",
       "wacnB4DndJORbSBPyWMU34To6UzP9/S/z2MOAuEmI2c2MgYhc67PnXXX881O7Du2sWKwSb39lHy6\n",
       "VbmgwbfqjeBrj7zNSDAl+RzTpRHcJ0GthKLo0xqMXBUg+Tom/RxTWRJ8NbEr+oI7nIRLgs8x+d95\n",
       "uzJy/4CFvztctof7HFPEWahXqeKpUr89+OKg6yMkxcgGkMvSjONLKHWgVME1bZqsHF99hPpm4Ev2\n",
       "E71ld3zD6nNMkXaKBj+BgODTYggQH2rtE5sc7nNM/him6X3YAh4E37plLVJyjVBDOC9d03Lllga9\n",
       "1QrtvHepNk8j+VaLvSaeeCJKSbx8mKX3wTVJ78uEZMB7FjIlMCY56fv+AQsgswrl3pwwAAAAAElF\n",
       "TkSuQmCC\n",
       "\" style=\"display:inline;vertical-align:middle;\" /></a></td></tr>\n",
       "<tr><td>5</td><td>ExprTuple</td><td>10, 11, 8, 9, 11, 10, 11</td><td><a class=\"ProveItLink\" href=\"../e4df7873210dd6984adcebc5c684ceeafa4f3d7f0/expr.ipynb\"><img src=\"data:image/png;base64,iVBORw0KGgoAAAANSUhEUgAAAIgAAAAVBAMAAABvbLv8AAAAMFBMVEX////c3NwiIiJERESqqqqY\n",
       "mJh2dnZmZmYQEBDu7u4yMjJUVFTMzMyIiIi6uroAAAAs73DqAAAAAXRSTlMAQObYZgAAAbdJREFU\n",
       "OMutlDFMwkAYhR8IQoESnBh0YHLVQQcXZXYRVycSE1gkuiiGODi4uEATE0N0MNEYY0wMTg4MOOng\n",
       "QBcnNagTcVKJJpBAvV7b6/UwXbDJ9d691/vS63894F+uqDrYfP8Lud2TNqSIUbwwa4hIZjnZN3GG\n",
       "H2yRdg5IcyLEU0HDmBtHtCsy9tr8KATIKqRqTYSEFXg/qFpN4ksID6sOiD+NoD6/IUKCuwj3qFro\n",
       "h0B2QKRtvOMvSKiNQM/68l13CKaw4YDs556syGs9GaqIoQ2hVhanPCRSxLGV19NGf3sBMWQQw5pH\n",
       "kYeUVUxbkBP28kUxZBDDaqLHQ2r2QgOTTJYUIWQQw6o7IS0b8mj2Y8BcSggZpGVCdjiIx66Dbw0j\n",
       "tH6aYkK40IKYVtNYpg7ROd9k61CBO2CRqg4wEZPgCHWIbWGJ1MeASPqWugZWqPCMZ7IJqh4Q/cFR\n",
       "gg8phFl6id+IzpfOUlIpRr5m7lmhwqtpWoIqX76QRPkTXBjY7KzbFnCJYMzamH2CU68uFtn2/rT1\n",
       "H0EUnEq5WMMqPQoGgxyQNmpqdsDZJx1Tspt1pRdiwONRvsEvn6yVh90wGKIAAAAASUVORK5CYII=\n",
       "\" style=\"display:inline;vertical-align:middle;\" /></a></td></tr>\n",
       "<tr><td>6</td><td>Literal</td><td></td><td><a class=\"ProveItLink\" href=\"../3e6688136fa3c7aefbebe51301b7c3ebf0b69c440/expr.ipynb\"><img src=\"data:image/png;base64,iVBORw0KGgoAAAANSUhEUgAAAA4AAAAOBAMAAADtZjDiAAAAJFBMVEX///+6urpUVFQQEBAiIiIy\n",
       "MjJmZmaIiIiqqqrc3Nzu7u4AAACgHpL+AAAAAXRSTlMAQObYZgAAAB5JREFUCNdjYGBgWMkAAe2k\n",
       "0Kmhoc6hoUGk6BMHYgAHOwjcado9fwAAAABJRU5ErkJggg==\n",
       "\" style=\"display:inline;vertical-align:middle;\" /></a></td></tr>\n",
       "<tr><td>7</td><td>ExprTuple</td><td>11, 11, 10, 8, 9, 10, 11</td><td><a class=\"ProveItLink\" href=\"../a083aba5d4fe6a4ee49e191d3b403fb0ee7a2cd30/expr.ipynb\"><img src=\"data:image/png;base64,iVBORw0KGgoAAAANSUhEUgAAAIgAAAAVBAMAAABvbLv8AAAAMFBMVEX////c3NwiIiJERESqqqqY\n",
       "mJh2dnZmZmYQEBDu7u4yMjJUVFTMzMyIiIi6uroAAAAs73DqAAAAAXRSTlMAQObYZgAAAdpJREFU\n",
       "OMutlD1Iw0AUx/+1n0nth1MHBTu56qCDi+3sYlydBKEuil1spTg4uDjYBgQRHQRFRATRycHBTio4\n",
       "mMVBtFSdxKkqCi1ovNxdrmkSHNRAmh/v3f1yr+8R4F+uqPa3/f578nPpmvKqHBKFIQbtmYm0mR20\n",
       "Lp0n956bQ0pxiecQVbY3gegnz67UrWtlIOJWjXRyyiVhFW01SjNpvLLYxkmLxD+OkOpaTpWHQ0sI\n",
       "f1EaERJEWiTSAp7xo0SuI/hltuDTVYJ+5AxXplJmUhOEhFxt5hb50CFZnb4DJrFD8OJeTtKYAKvk\n",
       "apw9z/Zhl7QXsQUMo0jevwyvQg9iQotkW+wt2iVrGgaAJ5CCwzUeE2CVBPtEsKTaJKfsqIYkZi6L\n",
       "9blIbvmzC0gpNskblywC3eaodGtOiS+LDlqqrjokHtauJ6OmGMkpEizAJNRzDoxSagC9cUlIKL2T\n",
       "UQPGSH8QziJQ3kxagEokY7Y8PZnJJKVrRD/AkoaE0jEwZbT4kXCucoO1FyvkS7uKVIqTIdF1PUnJ\n",
       "ly+kWTI415jlNF0hhzxAKM6Lf4AdonEniWSTyNj7+ShBgR38cJLipIDW/BT8WrJO7k7eNjGXYpnm\n",
       "pGaySUfG///Hz2OkjG8CKZY7q/mjXQAAAABJRU5ErkJggg==\n",
       "\" style=\"display:inline;vertical-align:middle;\" /></a></td></tr>\n",
       "<tr><td>8</td><td>Literal</td><td></td><td><a class=\"ProveItLink\" href=\"../../../numeral/__pv_it/77d407a64829263cdc16415becd4c2293f77a4bf0/expr.ipynb\"><img src=\"data:image/png;base64,iVBORw0KGgoAAAANSUhEUgAAAAkAAAAOBAMAAAAPuiubAAAAMFBMVEX///+YmJh2dnbMzMwQEBAi\n",
       "IiLu7u6qqqqIiIhUVFS6urpEREQyMjJmZmbc3NwAAACOMKdoAAAAAXRSTlMAQObYZgAAAFBJREFU\n",
       "CNdj4Lt7egEDw0sGju8MDNMYGOIZGFwSGOYvYDifwHAfKAEUSQASzJ9ATJ4NIPI2iOCYACJrGfge\n",
       "MDBfYGB8wPBUSekqUPH//18ZAIliFhc3zESNAAAAAElFTkSuQmCC\n",
       "\" style=\"display:inline;vertical-align:middle;\" /></a></td></tr>\n",
       "<tr><td>9</td><td>Literal</td><td></td><td><a class=\"ProveItLink\" href=\"../../../numeral/__pv_it/9176d93c83afa2c995b614976e3cb49207102fa70/expr.ipynb\"><img src=\"data:image/png;base64,iVBORw0KGgoAAAANSUhEUgAAAAoAAAAOBAMAAADkjZCYAAAAMFBMVEX///+YmJju7u4QEBBUVFQy\n",
       "MjIiIiKIiIi6urpmZmbc3NyqqqpERER2dnbMzMwAAAB0GlNiAAAAAXRSTlMAQObYZgAAAE1JREFU\n",
       "CNdjYHh79zQDA9cEhv4CBt7fDPwJDNxgEgiAIkAQAsR8Vx1ATIbiBhDJ/ImB6wEDz0cG/U8gkj+A\n",
       "ge0XA7sAQ/8FBoadM6MZAEflFACalZ/OAAAAAElFTkSuQmCC\n",
       "\" style=\"display:inline;vertical-align:middle;\" /></a></td></tr>\n",
       "<tr><td>10</td><td>Literal</td><td></td><td><a class=\"ProveItLink\" href=\"../../../numeral/__pv_it/9be8badea4c35b9724062cecc501d17a3158d1d20/expr.ipynb\"><img src=\"data:image/png;base64,iVBORw0KGgoAAAANSUhEUgAAAAgAAAAPBAMAAAArJJMAAAAAHlBMVEX///+YmJgyMjIQEBBmZmaI\n",
       "iIhUVFTu7u5EREQAAAAw+MI4AAAAAXRSTlMAQObYZgAAACFJREFUCNdjYGBoZ2BgqJjOwFCWBiQY\n",
       "WEklWJwnOTKAAACjEQo8HvEr3AAAAABJRU5ErkJggg==\n",
       "\" style=\"display:inline;vertical-align:middle;\" /></a></td></tr>\n",
       "<tr><td>11</td><td>Variable</td><td></td><td><a class=\"ProveItLink\" href=\"../../../../__pv_it/cbdfda466482236edba0ce44ac7ef39cda0af7a40/expr.ipynb\"><img src=\"data:image/png;base64,iVBORw0KGgoAAAANSUhEUgAAAAkAAAAJBAMAAAASvxsjAAAALVBMVEX///9mZmbc3NxUVFSYmJhE\n",
       "REQiIiIyMjK6uroQEBDMzMyIiIh2dnbu7u4AAABgFDGoAAAAAXRSTlMAQObYZgAAADZJREFUCNdj\n",
       "YOA9s3sBA8PKBvYEBt7ZDKwODMwPGICALwBE6m0Asx0YGIDiAgw8QJUyu/cyAAAmuwmycZ8WfQAA\n",
       "AABJRU5ErkJggg==\n",
       "\" style=\"display:inline;vertical-align:middle;\" /></a></td></tr>\n",
       "</table>\n"
      ],
      "text/plain": [
       "0. (1 + c + 2 + 3 + c + 1 + c) = (c + c + 1 + 2 + 3 + 1 + c)\n",
       "   core type: Operation\n",
       "   operator: 1\n",
       "   operands: 2\n",
       "1. =\n",
       "   core type: Literal\n",
       "   sub-expressions: \n",
       "2. (1 + c + 2 + 3 + c + 1 + c , c + c + 1 + 2 + 3 + 1 + c)\n",
       "   core type: ExprTuple\n",
       "   sub-expressions: 3, 4\n",
       "3. 1 + c + 2 + 3 + c + 1 + c\n",
       "   core type: Operation\n",
       "   operator: 6\n",
       "   operands: 5\n",
       "4. c + c + 1 + 2 + 3 + 1 + c\n",
       "   core type: Operation\n",
       "   operator: 6\n",
       "   operands: 7\n",
       "5. (1 , c , 2 , 3 , c , 1 , c)\n",
       "   core type: ExprTuple\n",
       "   sub-expressions: 10, 11, 8, 9, 11, 10, 11\n",
       "6. +\n",
       "   core type: Literal\n",
       "   sub-expressions: \n",
       "7. (c , c , 1 , 2 , 3 , 1 , c)\n",
       "   core type: ExprTuple\n",
       "   sub-expressions: 11, 11, 10, 8, 9, 10, 11\n",
       "8. 2\n",
       "   core type: Literal\n",
       "   sub-expressions: \n",
       "9. 3\n",
       "   core type: Literal\n",
       "   sub-expressions: \n",
       "10. 1\n",
       "    core type: Literal\n",
       "    sub-expressions: \n",
       "11. c\n",
       "    core type: Variable\n",
       "    sub-expressions: "
      ]
     },
     "execution_count": 4,
     "metadata": {},
     "output_type": "execute_result"
    }
   ],
   "source": [
    "# display the expression information\n",
    "expr.exprInfo()"
   ]
  },
  {
   "cell_type": "code",
   "execution_count": null,
   "metadata": {},
   "outputs": [],
   "source": []
  }
 ],
 "metadata": {
  "kernelspec": {
   "display_name": "Python 3",
   "language": "python",
   "name": "python3"
  }
 },
 "nbformat": 4,
 "nbformat_minor": 0
}
