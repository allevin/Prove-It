{
 "cells": [
  {
   "cell_type": "markdown",
   "metadata": {},
   "source": [
    "Expression of type <a class=\"ProveItLink\" href=\"../../../../../../doc/html/api/proveit.number.Add.html\">Add</a>\n",
    "=======================\n",
    "# from context <a class=\"ProveItLink\" href=\"../../_context_.ipynb\">proveit.number.addition</a>"
   ]
  },
  {
   "cell_type": "code",
   "execution_count": 1,
   "metadata": {},
   "outputs": [],
   "source": [
    "# import Expression classes needed to build the expression\n",
    "from proveit._common_ import a, b, c\n",
    "from proveit.number import Add, one, three, two"
   ]
  },
  {
   "cell_type": "code",
   "execution_count": 2,
   "metadata": {},
   "outputs": [
    {
     "data": {
      "text/html": [
       "<strong id=\"expr\">expr:</strong> <a class=\"ProveItLink\" href=\"expr.ipynb\"><img src=\"data:image/png;base64,iVBORw0KGgoAAAANSUhEUgAAAUUAAAAQBAMAAABzbnCeAAAAMFBMVEX///8yMjKqqqrMzMzu7u4i\n",
       "IiJmZmaYmJhEREQQEBC6urp2dnaIiIhUVFTc3NwAAAD87Fq/AAAAAXRSTlMAQObYZgAAAiVJREFU\n",
       "SMe1lb9LG2Ecxp9LrjG9xJMbLF1KMzkJOla6vKsUGyehU8zQUCil9ydk6ygdHLRFsxYcBBcxQg8q\n",
       "ChJpKtIpJQGxW0kafxUU0ju517vv+776kiHvEMgHns/73JvvvQEGtGYWJZRm9LtdelzRhJLVzRwG\n",
       "t56IwFwQOv5BtqsJ/YZ1TcBLaR+z1Te4tXQFYP5qMkqOgIJgEUNfczgn9nGpY8LrG3CLdSZpvzNK\n",
       "lhiaFWKRQhMD7ZiZ1XZ8yvCedlSEbn5ru7G1QnlEeNas1iZppRfb39SAW4zGgavp6K8CIxZFyKj7\n",
       "H19a6Q7lEeHZqYoxS0ByGaNqwC35Mk61HZNXdB859Dx4i+xLpMqEx0iYNT8j7RLZtIcPanA7SQyf\n",
       "tB0Nuo8qlF0Ghjt44BEeI2F2uCOOX/NOwC1F4ELb8Y1gUYSwyjBSRj6YtaLjvHKc4GQ5STnO6EfH\n",
       "qd8QEIB/ahCzzMG6JIB3jJFsXbBIoWNgwUXbwwRYvHuMhM/X9oRjs6/vBNzSRepMd45jsFvkHMWQ\n",
       "2WNBx3wOPxKTZNojEmZH/GGk8+g/7ZAacMspHq5rOibnMUQ7SqG//qvfguEm5jL01ogIn8d5ZOjd\n",
       "8xPYUANuOcQ73f14Uq2+pvMohfZgXQWX4f6zffpeR4Rn39Z2KEht15gacMvMrit0LK0+opdfodc7\n",
       "p1oplCgVc4P7n7lPO47+LeFak4jl9Q1ky5p+o/st/wEkw92Rl7ohwAAAAABJRU5ErkJggg==\n",
       "\" style=\"display:inline;vertical-align:middle;\" /></a><br>"
      ],
      "text/plain": [
       "expr: a + a + c + c + c + b + 1 + 2 + b + 3"
      ]
     },
     "execution_count": 2,
     "metadata": {},
     "output_type": "execute_result"
    }
   ],
   "source": [
    "# build up the expression from sub-expressions\n",
    "expr = Add(a, a, c, c, c, b, one, two, b, three)"
   ]
  },
  {
   "cell_type": "code",
   "execution_count": 3,
   "metadata": {},
   "outputs": [
    {
     "name": "stdout",
     "output_type": "stream",
     "text": [
      "Passed sanity check: built 'expr' is the same as the stored Expression.\n"
     ]
    }
   ],
   "source": [
    "# check that the built expression is the same as the stored expression\n",
    "%check_expr"
   ]
  },
  {
   "cell_type": "code",
   "execution_count": 4,
   "metadata": {},
   "outputs": [
    {
     "data": {
      "text/html": [
       "<table><tr><th>&nbsp;</th><th>core type</th><th>sub-expressions</th><th>expression</th></tr>\n",
       "<tr><td>0</td><td>Operation</td><td>operator:&nbsp;1<br>operands:&nbsp;2<br></td><td><a class=\"ProveItLink\" href=\"expr.ipynb\"><img src=\"data:image/png;base64,iVBORw0KGgoAAAANSUhEUgAAAUUAAAAQBAMAAABzbnCeAAAAMFBMVEX///8yMjKqqqrMzMzu7u4i\n",
       "IiJmZmaYmJhEREQQEBC6urp2dnaIiIhUVFTc3NwAAAD87Fq/AAAAAXRSTlMAQObYZgAAAiVJREFU\n",
       "SMe1lb9LG2Ecxp9LrjG9xJMbLF1KMzkJOla6vKsUGyehU8zQUCil9ydk6ygdHLRFsxYcBBcxQg8q\n",
       "ChJpKtIpJQGxW0kafxUU0ju517vv+776kiHvEMgHns/73JvvvQEGtGYWJZRm9LtdelzRhJLVzRwG\n",
       "t56IwFwQOv5BtqsJ/YZ1TcBLaR+z1Te4tXQFYP5qMkqOgIJgEUNfczgn9nGpY8LrG3CLdSZpvzNK\n",
       "lhiaFWKRQhMD7ZiZ1XZ8yvCedlSEbn5ru7G1QnlEeNas1iZppRfb39SAW4zGgavp6K8CIxZFyKj7\n",
       "H19a6Q7lEeHZqYoxS0ByGaNqwC35Mk61HZNXdB859Dx4i+xLpMqEx0iYNT8j7RLZtIcPanA7SQyf\n",
       "tB0Nuo8qlF0Ghjt44BEeI2F2uCOOX/NOwC1F4ELb8Y1gUYSwyjBSRj6YtaLjvHKc4GQ5STnO6EfH\n",
       "qd8QEIB/ahCzzMG6JIB3jJFsXbBIoWNgwUXbwwRYvHuMhM/X9oRjs6/vBNzSRepMd45jsFvkHMWQ\n",
       "2WNBx3wOPxKTZNojEmZH/GGk8+g/7ZAacMspHq5rOibnMUQ7SqG//qvfguEm5jL01ogIn8d5ZOjd\n",
       "8xPYUANuOcQ73f14Uq2+pvMohfZgXQWX4f6zffpeR4Rn39Z2KEht15gacMvMrit0LK0+opdfodc7\n",
       "p1oplCgVc4P7n7lPO47+LeFak4jl9Q1ky5p+o/st/wEkw92Rl7ohwAAAAABJRU5ErkJggg==\n",
       "\" style=\"display:inline;vertical-align:middle;\" /></a></td></tr>\n",
       "<tr><td>1</td><td>Literal</td><td></td><td><a class=\"ProveItLink\" href=\"../3e6688136fa3c7aefbebe51301b7c3ebf0b69c440/expr.ipynb\"><img src=\"data:image/png;base64,iVBORw0KGgoAAAANSUhEUgAAAA4AAAAOBAMAAADtZjDiAAAAJFBMVEX///+6urpUVFQQEBAiIiIy\n",
       "MjJmZmaIiIiqqqrc3Nzu7u4AAACgHpL+AAAAAXRSTlMAQObYZgAAAB5JREFUCNdjYGBgWMkAAe2k\n",
       "0Kmhoc6hoUGk6BMHYgAHOwjcado9fwAAAABJRU5ErkJggg==\n",
       "\" style=\"display:inline;vertical-align:middle;\" /></a></td></tr>\n",
       "<tr><td>2</td><td>ExprTuple</td><td>3, 3, 4, 4, 4, 7, 5, 6, 7, 8</td><td><a class=\"ProveItLink\" href=\"../5cd42d7e5ada1470b7c9f505484a09b267a6c09a0/expr.ipynb\"><img src=\"data:image/png;base64,iVBORw0KGgoAAAANSUhEUgAAAMEAAAAVBAMAAAANw5eWAAAAMFBMVEX////c3NwiIiJERESqqqqY\n",
       "mJh2dnZmZmYQEBDu7u4yMjJUVFTMzMyIiIi6uroAAAAs73DqAAAAAXRSTlMAQObYZgAAAh9JREFU\n",
       "SMe1lT9oE1Ecxz+xuSaX3p2Hi4OC3Tomi4OT2Rxzk6MUhLgYLYpW6uAfRJzaA0ECGRIUB3GwgyAq\n",
       "pQHBxSWLOKglOolTjLbS0hrfvfuX3mtiI+SGu0/e9/d733e/37sXGP9ltcY4+Rnv9m7ktNrtCE8E\n",
       "z9T8o3ZCNMpni2Sagp6MvrKnIdzfDOAI5q+EeBhrBxpg/keRwslqr0OHl5BPiBeLdOE0ZN3ROxfO\n",
       "ixnSPZfV9m6xJB2q8H30V5icVhyeudxoJ0RZpYkiV70+rVy4FXQsIh5UPg2A3MpHJ+EgrrybEMkt\n",
       "C8M5Hgv8Zk90/MGYjEUeDoB6gW3FwdggIb71ep5usCgWvk6m4L9CRFRbHB8AJZe7ikMuyItFTDG3\n",
       "dZM/MNXhgL+jYmI1TFVhAX4rDpcVEZZcjI7ncLBAvSmHYuJnGKbCDNZ60sFcTopH4aTjOdyBYy1K\n",
       "yD7FlNoJv1YFxI7PbCYdTpGyd4l6z/UcRJVEaetFXqWbOv2EWIgmzVTYJjvrr8NzkNHGHJotKRK3\n",
       "xPay0RqcE01y0jOT1Kf7iRdwXu/uCc+5jgTpIKMPlcuXfIrE91gbcrd+9T6CtTdrVH/0E5nKZ1df\n",
       "sveC2gcHf+Ta1hU/Ot/rdX2KxPT8QlGsuU3WDkv5BYUs+98wNM87NbTZ8IeDQto+YGgelf7TexwO\n",
       "ekMe7cHOiwJjau0DhuZNeeVKjfNfVByVfwGxA9FZ6yeDvwAAAABJRU5ErkJggg==\n",
       "\" style=\"display:inline;vertical-align:middle;\" /></a></td></tr>\n",
       "<tr><td>3</td><td>Variable</td><td></td><td><a class=\"ProveItLink\" href=\"../../../../__pv_it/07527342713064c87612d00d8557c53d53d5324a0/expr.ipynb\"><img src=\"data:image/png;base64,iVBORw0KGgoAAAANSUhEUgAAAAsAAAAJBAMAAAAWSsseAAAAMFBMVEX///8yMjKqqqrMzMzu7u4i\n",
       "IiJmZmaYmJhEREQQEBC6urp2dnaIiIhUVFTc3NwAAAD87Fq/AAAAAXRSTlMAQObYZgAAAEhJREFU\n",
       "CNdjYOC7s2seAwPDygccHxgY+L4zsDUwMPB+YGA9wMDA38Dgb8DA8P4Agz6DA4O/AsNFJgMGxgKm\n",
       "MG6gyjunLE4xAAAZTBA5TB6DCwAAAABJRU5ErkJggg==\n",
       "\" style=\"display:inline;vertical-align:middle;\" /></a></td></tr>\n",
       "<tr><td>4</td><td>Variable</td><td></td><td><a class=\"ProveItLink\" href=\"../../../../__pv_it/cbdfda466482236edba0ce44ac7ef39cda0af7a40/expr.ipynb\"><img src=\"data:image/png;base64,iVBORw0KGgoAAAANSUhEUgAAAAkAAAAJBAMAAAASvxsjAAAALVBMVEX///9mZmbc3NxUVFSYmJhE\n",
       "REQiIiIyMjK6uroQEBDMzMyIiIh2dnbu7u4AAABgFDGoAAAAAXRSTlMAQObYZgAAADZJREFUCNdj\n",
       "YOA9s3sBA8PKBvYEBt7ZDKwODMwPGICALwBE6m0Asx0YGIDiAgw8QJUyu/cyAAAmuwmycZ8WfQAA\n",
       "AABJRU5ErkJggg==\n",
       "\" style=\"display:inline;vertical-align:middle;\" /></a></td></tr>\n",
       "<tr><td>5</td><td>Literal</td><td></td><td><a class=\"ProveItLink\" href=\"../../../numeral/__pv_it/9be8badea4c35b9724062cecc501d17a3158d1d20/expr.ipynb\"><img src=\"data:image/png;base64,iVBORw0KGgoAAAANSUhEUgAAAAgAAAAPBAMAAAArJJMAAAAAHlBMVEX///+YmJgyMjIQEBBmZmaI\n",
       "iIhUVFTu7u5EREQAAAAw+MI4AAAAAXRSTlMAQObYZgAAACFJREFUCNdjYGBoZ2BgqJjOwFCWBiQY\n",
       "WEklWJwnOTKAAACjEQo8HvEr3AAAAABJRU5ErkJggg==\n",
       "\" style=\"display:inline;vertical-align:middle;\" /></a></td></tr>\n",
       "<tr><td>6</td><td>Literal</td><td></td><td><a class=\"ProveItLink\" href=\"../../../numeral/__pv_it/77d407a64829263cdc16415becd4c2293f77a4bf0/expr.ipynb\"><img src=\"data:image/png;base64,iVBORw0KGgoAAAANSUhEUgAAAAkAAAAOBAMAAAAPuiubAAAAMFBMVEX///+YmJh2dnbMzMwQEBAi\n",
       "IiLu7u6qqqqIiIhUVFS6urpEREQyMjJmZmbc3NwAAACOMKdoAAAAAXRSTlMAQObYZgAAAFBJREFU\n",
       "CNdj4Lt7egEDw0sGju8MDNMYGOIZGFwSGOYvYDifwHAfKAEUSQASzJ9ATJ4NIPI2iOCYACJrGfge\n",
       "MDBfYGB8wPBUSekqUPH//18ZAIliFhc3zESNAAAAAElFTkSuQmCC\n",
       "\" style=\"display:inline;vertical-align:middle;\" /></a></td></tr>\n",
       "<tr><td>7</td><td>Variable</td><td></td><td><a class=\"ProveItLink\" href=\"../../../../__pv_it/6840a4fa6c106149dc16a131294d0c5e44f1b0480/expr.ipynb\"><img src=\"data:image/png;base64,iVBORw0KGgoAAAANSUhEUgAAAAkAAAAOBAMAAAAPuiubAAAALVBMVEX///9mZmbMzMxERESYmJiI\n",
       "iIh2dna6urqqqqoyMjIiIiIQEBBUVFTu7u4AAAD9S1JeAAAAAXRSTlMAQObYZgAAAE1JREFUCNdj\n",
       "4D29gAEIOA+ASL4GEFl3AURmgQiGOaFHGBh4HzPwKTBwvGXgTmBgnMDAJ8DAJcBQ5wBSLncBJLWN\n",
       "gYGngRFoBO9REQYGAGrcDtUkVqASAAAAAElFTkSuQmCC\n",
       "\" style=\"display:inline;vertical-align:middle;\" /></a></td></tr>\n",
       "<tr><td>8</td><td>Literal</td><td></td><td><a class=\"ProveItLink\" href=\"../../../numeral/__pv_it/9176d93c83afa2c995b614976e3cb49207102fa70/expr.ipynb\"><img src=\"data:image/png;base64,iVBORw0KGgoAAAANSUhEUgAAAAoAAAAOBAMAAADkjZCYAAAAMFBMVEX///+YmJju7u4QEBBUVFQy\n",
       "MjIiIiKIiIi6urpmZmbc3NyqqqpERER2dnbMzMwAAAB0GlNiAAAAAXRSTlMAQObYZgAAAE1JREFU\n",
       "CNdjYHh79zQDA9cEhv4CBt7fDPwJDNxgEgiAIkAQAsR8Vx1ATIbiBhDJ/ImB6wEDz0cG/U8gkj+A\n",
       "ge0XA7sAQ/8FBoadM6MZAEflFACalZ/OAAAAAElFTkSuQmCC\n",
       "\" style=\"display:inline;vertical-align:middle;\" /></a></td></tr>\n",
       "</table>\n"
      ],
      "text/plain": [
       "0. a + a + c + c + c + b + 1 + 2 + b + 3\n",
       "   core type: Operation\n",
       "   operator: 1\n",
       "   operands: 2\n",
       "1. +\n",
       "   core type: Literal\n",
       "   sub-expressions: \n",
       "2. (a , a , c , c , c , b , 1 , 2 , b , 3)\n",
       "   core type: ExprTuple\n",
       "   sub-expressions: 3, 3, 4, 4, 4, 7, 5, 6, 7, 8\n",
       "3. a\n",
       "   core type: Variable\n",
       "   sub-expressions: \n",
       "4. c\n",
       "   core type: Variable\n",
       "   sub-expressions: \n",
       "5. 1\n",
       "   core type: Literal\n",
       "   sub-expressions: \n",
       "6. 2\n",
       "   core type: Literal\n",
       "   sub-expressions: \n",
       "7. b\n",
       "   core type: Variable\n",
       "   sub-expressions: \n",
       "8. 3\n",
       "   core type: Literal\n",
       "   sub-expressions: "
      ]
     },
     "execution_count": 4,
     "metadata": {},
     "output_type": "execute_result"
    }
   ],
   "source": [
    "# display the expression information\n",
    "expr.exprInfo()"
   ]
  },
  {
   "cell_type": "code",
   "execution_count": null,
   "metadata": {},
   "outputs": [],
   "source": []
  }
 ],
 "metadata": {
  "kernelspec": {
   "display_name": "Python 3",
   "language": "python",
   "name": "python3"
  }
 },
 "nbformat": 4,
 "nbformat_minor": 0
}
