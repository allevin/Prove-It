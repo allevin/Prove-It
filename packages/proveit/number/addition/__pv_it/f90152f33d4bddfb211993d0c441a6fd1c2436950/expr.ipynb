{
 "cells": [
  {
   "cell_type": "markdown",
   "metadata": {},
   "source": [
    "Expression of type <a class=\"ProveItLink\" href=\"../../../../../../doc/html/api/proveit.ExprTuple.html\">ExprTuple</a>\n",
    "=======================\n",
    "# from context <a class=\"ProveItLink\" href=\"../../_context_.ipynb\">proveit.number.addition</a>"
   ]
  },
  {
   "cell_type": "code",
   "execution_count": 1,
   "metadata": {},
   "outputs": [],
   "source": [
    "# import Expression classes needed to build the expression\n",
    "from proveit import ExprTuple\n",
    "from proveit._common_ import a, b, c\n",
    "from proveit.number import Complexes, Exp, seven"
   ]
  },
  {
   "cell_type": "code",
   "execution_count": 2,
   "metadata": {},
   "outputs": [
    {
     "data": {
      "text/html": [
       "<strong id=\"expr\">expr:</strong> <a class=\"ProveItLink\" href=\"expr.ipynb\"><img src=\"data:image/png;base64,iVBORw0KGgoAAAANSUhEUgAAAL4AAAAcBAMAAAAtjhhLAAAAMFBMVEX///+qqqp2dnYiIiJERESI\n",
       "iIhmZmYQEBDc3NyYmJgyMjLu7u5UVFTMzMy6uroAAACGxKilAAAAAXRSTlMAQObYZgAAAulJREFU\n",
       "SMe1Vk1oE1EQ/pK2m6T5K3hSkQak3pQetAgiRLAHUXCxRC+1LOrFP2zrpQepOehFAo3iSUEKglAr\n",
       "EnoRanEjWLVFsIjHYoMeqoJtiq22lDTOm31vk2xjcij7YHe+983bb3dn5s0u4M7w7nyZgYsjVCwu\n",
       "S7jgiv7CwnHEBApn3dD3wJPDrEDjLsXpNtCkk52iI6JvTSuQ28yJsBwE/L1kZxF81/7/yyeu17vB\n",
       "1TLc9fTvfsMKezegGWRHgeZaaXhWT7+5BL9sYGwlC00k18zAl7PiFG2pcflS3QDFbBRKA61ZNJAR\n",
       "pzkyPkrxYo00R9br6Qd7FXroo5OWRVToa3GcIfOTjt21NmN73QwfUcBIidvpHBcE8pgmc06EODFl\n",
       "LfBP7huQa8fazlrRnexOW0zq1Hyy0iepPepFjK+VL36CzAjxy4jOMDefbMxb3vAgHjMw4yhY6wdw\n",
       "0uGT1A6pGI5tL9MPF/CEzCDtt3X4OEf+NRE1Hi90HGPQmkE/g6E0Ljh8kpq39X+U6fs30EFmgzIx\n",
       "jKjBjSOPBrnbPqpll4A/ijng8ElqTsUn/qk87UtKv8HAIsc4GodpBQqqAdKayJpkggWHT1JKH6Oh\n",
       "yucXW6ePy/8aV+iQjlYw8q+Uyl9bl4wnH6zwKUrFB/dYXxa7v4A3ZCiSlNx+iEvNFkx7ZliEnjnA\n",
       "KwsiNxl+3dDwLqaUT1J4oFQbH1F0I4dk/ayiC1xcoRbaEybVeXPa0+FlhLfA3uBvAq9xBQxGsM2I\n",
       "MbJ9TFn1yXN86My8Oiqfn+p/kcw38k1epKJYFeXf87mHEbS2RCZ4k4p74nQaDFKJX505RraPKeC5\n",
       "0BdzhM8Xb6h26h3mqvfJPYPvdmZsFEk6QTXK6g+luWp7OkKxsu6Utj02CmwC1SivXjmXw0wi3G71\n",
       "563pj6Oq/n3ZmVLWtMl2lJC+CVSj3jvmchym446o0y1+H5tmqn8VREfwxFz7CbrF57uu6V+G6+Mf\n",
       "xcfZf0Hu8Z8AAAAASUVORK5CYII=\n",
       "\" style=\"display:inline;vertical-align:middle;\" /></a><br>"
      ],
      "text/plain": [
       "expr: ((b , a , c , b , a , c , a) , Complexes^{7})"
      ]
     },
     "execution_count": 2,
     "metadata": {},
     "output_type": "execute_result"
    }
   ],
   "source": [
    "# build up the expression from sub-expressions\n",
    "expr = ExprTuple([b, a, c, b, a, c, a], Exp(Complexes, seven))"
   ]
  },
  {
   "cell_type": "code",
   "execution_count": 3,
   "metadata": {},
   "outputs": [
    {
     "name": "stdout",
     "output_type": "stream",
     "text": [
      "Passed sanity check: built 'expr' is the same as the stored Expression.\n"
     ]
    }
   ],
   "source": [
    "# check that the built expression is the same as the stored expression\n",
    "%check_expr"
   ]
  },
  {
   "cell_type": "code",
   "execution_count": 4,
   "metadata": {},
   "outputs": [
    {
     "data": {
      "text/html": [
       "<table><tr><th>&nbsp;</th><th>core type</th><th>sub-expressions</th><th>expression</th></tr>\n",
       "<tr><td>0</td><td>ExprTuple</td><td>1, 2</td><td><a class=\"ProveItLink\" href=\"expr.ipynb\"><img src=\"data:image/png;base64,iVBORw0KGgoAAAANSUhEUgAAAL4AAAAcBAMAAAAtjhhLAAAAMFBMVEX///+qqqp2dnYiIiJERESI\n",
       "iIhmZmYQEBDc3NyYmJgyMjLu7u5UVFTMzMy6uroAAACGxKilAAAAAXRSTlMAQObYZgAAAulJREFU\n",
       "SMe1Vk1oE1EQ/pK2m6T5K3hSkQak3pQetAgiRLAHUXCxRC+1LOrFP2zrpQepOehFAo3iSUEKglAr\n",
       "EnoRanEjWLVFsIjHYoMeqoJtiq22lDTOm31vk2xjcij7YHe+983bb3dn5s0u4M7w7nyZgYsjVCwu\n",
       "S7jgiv7CwnHEBApn3dD3wJPDrEDjLsXpNtCkk52iI6JvTSuQ28yJsBwE/L1kZxF81/7/yyeu17vB\n",
       "1TLc9fTvfsMKezegGWRHgeZaaXhWT7+5BL9sYGwlC00k18zAl7PiFG2pcflS3QDFbBRKA61ZNJAR\n",
       "pzkyPkrxYo00R9br6Qd7FXroo5OWRVToa3GcIfOTjt21NmN73QwfUcBIidvpHBcE8pgmc06EODFl\n",
       "LfBP7huQa8fazlrRnexOW0zq1Hyy0iepPepFjK+VL36CzAjxy4jOMDefbMxb3vAgHjMw4yhY6wdw\n",
       "0uGT1A6pGI5tL9MPF/CEzCDtt3X4OEf+NRE1Hi90HGPQmkE/g6E0Ljh8kpq39X+U6fs30EFmgzIx\n",
       "jKjBjSOPBrnbPqpll4A/ijng8ElqTsUn/qk87UtKv8HAIsc4GodpBQqqAdKayJpkggWHT1JKH6Oh\n",
       "yucXW6ePy/8aV+iQjlYw8q+Uyl9bl4wnH6zwKUrFB/dYXxa7v4A3ZCiSlNx+iEvNFkx7ZliEnjnA\n",
       "KwsiNxl+3dDwLqaUT1J4oFQbH1F0I4dk/ayiC1xcoRbaEybVeXPa0+FlhLfA3uBvAq9xBQxGsM2I\n",
       "MbJ9TFn1yXN86My8Oiqfn+p/kcw38k1epKJYFeXf87mHEbS2RCZ4k4p74nQaDFKJX505RraPKeC5\n",
       "0BdzhM8Xb6h26h3mqvfJPYPvdmZsFEk6QTXK6g+luWp7OkKxsu6Utj02CmwC1SivXjmXw0wi3G71\n",
       "563pj6Oq/n3ZmVLWtMl2lJC+CVSj3jvmchym446o0y1+H5tmqn8VREfwxFz7CbrF57uu6V+G6+Mf\n",
       "xcfZf0Hu8Z8AAAAASUVORK5CYII=\n",
       "\" style=\"display:inline;vertical-align:middle;\" /></a></td></tr>\n",
       "<tr><td>1</td><td>ExprTuple</td><td>3, 5, 4, 3, 5, 4, 5</td><td><a class=\"ProveItLink\" href=\"../34b8f5df8e1943c40885bd0300578c350f69f5740/expr.ipynb\"><img src=\"data:image/png;base64,iVBORw0KGgoAAAANSUhEUgAAAIgAAAAVBAMAAABvbLv8AAAAMFBMVEX////c3NwiIiJERESqqqqY\n",
       "mJh2dnZmZmYQEBDu7u4yMjJUVFTMzMyIiIi6uroAAAAs73DqAAAAAXRSTlMAQObYZgAAAdBJREFU\n",
       "OMutlD9Iw1AQxj9t2jSNMd0d6uYkdNBRLI4imNkpOOhipSA6CSqIm9pJxKUiOIggOogiiAUXwcFO\n",
       "gmBK6yQiWK0dBBXv/WkqmsShBpL3y/vu3eXeXR7wL1d7obn14RI9LqEdd/qaBGnymqV7B4jt+5sE\n",
       "adICMCgbM+VvEqTJfGxEs8BT1t8kSJMZz+OBhtEAk9G/t7YHM/TcdQ7Fa8vp5IJ0P+bkOXhoWEvf\n",
       "Cui4vo8D49imBVWYYsV9PFQR8kUpxsvipbWtYEt0xwL6aRjECqC8IWrzYDWoSfEhywhZDDw0rBfQ\n",
       "yyFhYYq5xyegbsLMsEm9glbReroM6qXhrL4ZBN00XDEnrRk88bBmEjnx7aYM6qWhWndShfbOnSzy\n",
       "VpjjhUwUMIw6uW3yU2v5kBqBUtFYOpQd7dwS6AW5FE6UPCOTolscfmuoUYMxf9or9M0hYITqAz2l\n",
       "7iNHxYhZSleEk55BJM/ht4YjYEJ7IdjGQMZmJb4jj6fTtOXPrBWK50VOmHFuOHhpatrJaqvUIB3O\n",
       "Yx/9w3uIxmWGZbcDy/7QoPb4t7YP25It19DyhwaF3alIgR8FzTnZYP0v0HAnDX/4Ro3z8IBVu8nj\n",
       "0cjjC0ZTll2ihEdTAAAAAElFTkSuQmCC\n",
       "\" style=\"display:inline;vertical-align:middle;\" /></a></td></tr>\n",
       "<tr><td>2</td><td>Operation</td><td>operator:&nbsp;6<br>operands:&nbsp;7<br></td><td><a class=\"ProveItLink\" href=\"../82b56ce75573d5948785f1ad6fc8a5d08b6e7b970/expr.ipynb\"><img src=\"data:image/png;base64,iVBORw0KGgoAAAANSUhEUgAAABcAAAAUBAMAAACUkLs9AAAAMFBMVEX////c3NyqqqqYmJhUVFR2\n",
       "dnbu7u66urrMzMxmZmZEREQQEBAyMjIiIiKIiIgAAAB7fvZ0AAAAAXRSTlMAQObYZgAAAJBJREFU\n",
       "GNNjYICCoLQ0Bjjw//9/AZzjXl6VAOcoMKgjlDEwPkDisIBJvjvn965kYGgBsTnqC9jinzAwTAVx\n",
       "DJwZGJi+MDBcBrKZEzYAySkMDJ+BFCejA5DMY2DYDqQy2QMQJrYyGSBx2JE4WRxIyngSHBAc5gAQ\n",
       "hw3KW1wHJGqhzmfxesZWtQymsPP+b3cICwC25x7Jou5JnAAAAABJRU5ErkJggg==\n",
       "\" style=\"display:inline;vertical-align:middle;\" /></a></td></tr>\n",
       "<tr><td>3</td><td>Variable</td><td></td><td><a class=\"ProveItLink\" href=\"../../../../__pv_it/6840a4fa6c106149dc16a131294d0c5e44f1b0480/expr.ipynb\"><img src=\"data:image/png;base64,iVBORw0KGgoAAAANSUhEUgAAAAkAAAAOBAMAAAAPuiubAAAALVBMVEX///9mZmbMzMxERESYmJiI\n",
       "iIh2dna6urqqqqoyMjIiIiIQEBBUVFTu7u4AAAD9S1JeAAAAAXRSTlMAQObYZgAAAE1JREFUCNdj\n",
       "4D29gAEIOA+ASL4GEFl3AURmgQiGOaFHGBh4HzPwKTBwvGXgTmBgnMDAJ8DAJcBQ5wBSLncBJLWN\n",
       "gYGngRFoBO9REQYGAGrcDtUkVqASAAAAAElFTkSuQmCC\n",
       "\" style=\"display:inline;vertical-align:middle;\" /></a></td></tr>\n",
       "<tr><td>4</td><td>Variable</td><td></td><td><a class=\"ProveItLink\" href=\"../../../../__pv_it/cbdfda466482236edba0ce44ac7ef39cda0af7a40/expr.ipynb\"><img src=\"data:image/png;base64,iVBORw0KGgoAAAANSUhEUgAAAAkAAAAJBAMAAAASvxsjAAAALVBMVEX///9mZmbc3NxUVFSYmJhE\n",
       "REQiIiIyMjK6uroQEBDMzMyIiIh2dnbu7u4AAABgFDGoAAAAAXRSTlMAQObYZgAAADZJREFUCNdj\n",
       "YOA9s3sBA8PKBvYEBt7ZDKwODMwPGICALwBE6m0Asx0YGIDiAgw8QJUyu/cyAAAmuwmycZ8WfQAA\n",
       "AABJRU5ErkJggg==\n",
       "\" style=\"display:inline;vertical-align:middle;\" /></a></td></tr>\n",
       "<tr><td>5</td><td>Variable</td><td></td><td><a class=\"ProveItLink\" href=\"../../../../__pv_it/07527342713064c87612d00d8557c53d53d5324a0/expr.ipynb\"><img src=\"data:image/png;base64,iVBORw0KGgoAAAANSUhEUgAAAAsAAAAJBAMAAAAWSsseAAAAMFBMVEX///8yMjKqqqrMzMzu7u4i\n",
       "IiJmZmaYmJhEREQQEBC6urp2dnaIiIhUVFTc3NwAAAD87Fq/AAAAAXRSTlMAQObYZgAAAEhJREFU\n",
       "CNdjYOC7s2seAwPDygccHxgY+L4zsDUwMPB+YGA9wMDA38Dgb8DA8P4Agz6DA4O/AsNFJgMGxgKm\n",
       "MG6gyjunLE4xAAAZTBA5TB6DCwAAAABJRU5ErkJggg==\n",
       "\" style=\"display:inline;vertical-align:middle;\" /></a></td></tr>\n",
       "<tr><td>6</td><td>Literal</td><td></td><td><a class=\"ProveItLink\" href=\"../../../exponentiation/__pv_it/deb2bf23cbccdd6e6791e1b35b5b9794ce12dbd50/expr.ipynb\"><img src=\"data:image/png;base64,iVBORw0KGgoAAAANSUhEUgAAACgAAAASBAMAAADbMYGVAAAAMFBMVEX///8QEBAiIiKYmJjc3Nzu\n",
       "7u7MzMx2dnZmZma6urpERESqqqoyMjJUVFSIiIgAAAAoDOMTAAAAAXRSTlMAQObYZgAAAOBJREFU\n",
       "GNNjYGB4+//u3Tt/GNAASGAXmhjnPyDBgSbI/g1IxKEJ8nxgYGdgQRPkX8BgDKRY6q7s62OYvmze\n",
       "2wAgb/7ZO1+AVDiDkYEQQ0HTBr4DQF59AgOIKmB4z7CNbcNZBu6vQN55kEACQwDDLQYGVobfDHwg\n",
       "fb8YGBxYHwAZciD3fWXg+gB1JjvQcJZvQIXsCgz8F6DO9GBgMOH7wPCUgaeBwd4B7EwGNjUG7s9c\n",
       "AiwPgO5jkWRgiF3/9+5dfQUG1nWl5Y+B7pv+1gE9bBhqGLCAE1jEWH9jEbT5A3IwAC4sP/1L6Qlu\n",
       "AAAAAElFTkSuQmCC\n",
       "\" style=\"display:inline;vertical-align:middle;\" /></a></td></tr>\n",
       "<tr><td>7</td><td>ExprTuple</td><td>8, 9</td><td><a class=\"ProveItLink\" href=\"../96f5411dae21f5937bb4aeda4878899d044ba2480/expr.ipynb\"><img src=\"data:image/png;base64,iVBORw0KGgoAAAANSUhEUgAAAC8AAAAVBAMAAAAk6KpUAAAAMFBMVEX////c3NwiIiJERESqqqqY\n",
       "mJh2dnZmZmYQEBDu7u4yMjJUVFTMzMyIiIi6uroAAAAs73DqAAAAAXRSTlMAQObYZgAAARlJREFU\n",
       "KM9jYMAJ+C5gisWBiNNAzKu1vskcInaoLC0tgf0AkLWSgYHn/QPO/NsQifj///9vYFgAVAw0KWAr\n",
       "AwPLb4hEJgMDNwNDGAMDxwQG1gkNQJFqiEQCA0MOA8MMBoZXDAzsjBuAInORXcPswFDGwDCdLwHZ\n",
       "SZOBmK2AYSkDwzGWAGSJEiBmWcDQB5TgQ5bg/AAyroHhH1AvD7JRvECnMvB8AElwTdiAJMG0ASLR\n",
       "wsDAmgBic0Il5hdAjDIFUqZvgcSjCRCp9yAJ1gUM6UCKe/NNzseWDPMVQBL+BRDnPgJxjuv/2Af0\n",
       "7kcQ+zzIiVwPGDgEEPY+hLNmgGxGSCC8kwsJdgwJTpBfpBFeg7O4QeYzYonaOwwMAOpwRK3jV2OL\n",
       "AAAAAElFTkSuQmCC\n",
       "\" style=\"display:inline;vertical-align:middle;\" /></a></td></tr>\n",
       "<tr><td>8</td><td>Literal</td><td></td><td><a class=\"ProveItLink\" href=\"../../../sets/complex/__pv_it/c357845f93a5a2d9f649129d299e7ec28dda4b960/expr.ipynb\"><img src=\"data:image/png;base64,iVBORw0KGgoAAAANSUhEUgAAAA8AAAAOBAMAAAACpFvcAAAAMFBMVEX////c3NyqqqqYmJhUVFR2\n",
       "dnbu7u66urrMzMxmZmZEREQQEBAyMjIiIiKIiIgAAAB7fvZ0AAAAAXRSTlMAQObYZgAAAGVJREFU\n",
       "CNdjYGDgu3N+70oGBgaO+gK2+CdAhoEzAwPTFwYG5oQNQN4UBgZORgcgI4+BIZM9gAEMWpkMoAx2\n",
       "KCOLAyrFk+AAYTAHgBhsQLy4DkjUJjAwsHg9Y6taBpLsvP/bnYEBACkBFGQfBv8RAAAAAElFTkSu\n",
       "QmCC\n",
       "\" style=\"display:inline;vertical-align:middle;\" /></a></td></tr>\n",
       "<tr><td>9</td><td>Literal</td><td></td><td><a class=\"ProveItLink\" href=\"../../../numeral/__pv_it/44c347496acc279b31e97f8859fc6a0a1e31c26b0/expr.ipynb\"><img src=\"data:image/png;base64,iVBORw0KGgoAAAANSUhEUgAAAAoAAAAOBAMAAADkjZCYAAAAKlBMVEX///8yMjKqqqpERESIiIi6\n",
       "urru7u5UVFSYmJh2dnZmZmYiIiLMzMwAAACZcOxaAAAAAXRSTlMAQObYZgAAAEVJREFUCNdjOL1y\n",
       "5swJDL13794tYJjGwMDOwDCBgWEOAxCwOoDIZBDBsAhEsF0AkSwCIJK7AETmLgCRsWBSF0yebWBg\n",
       "AAAo0Q9n+lHhAQAAAABJRU5ErkJggg==\n",
       "\" style=\"display:inline;vertical-align:middle;\" /></a></td></tr>\n",
       "</table>\n"
      ],
      "text/plain": [
       "0. ((b , a , c , b , a , c , a) , Complexes^{7})\n",
       "   core type: ExprTuple\n",
       "   sub-expressions: 1, 2\n",
       "1. (b , a , c , b , a , c , a)\n",
       "   core type: ExprTuple\n",
       "   sub-expressions: 3, 5, 4, 3, 5, 4, 5\n",
       "2. Complexes^{7}\n",
       "   core type: Operation\n",
       "   operator: 6\n",
       "   operands: 7\n",
       "3. b\n",
       "   core type: Variable\n",
       "   sub-expressions: \n",
       "4. c\n",
       "   core type: Variable\n",
       "   sub-expressions: \n",
       "5. a\n",
       "   core type: Variable\n",
       "   sub-expressions: \n",
       "6. Exp\n",
       "   core type: Literal\n",
       "   sub-expressions: \n",
       "7. (Complexes , 7)\n",
       "   core type: ExprTuple\n",
       "   sub-expressions: 8, 9\n",
       "8. Complexes\n",
       "   core type: Literal\n",
       "   sub-expressions: \n",
       "9. 7\n",
       "   core type: Literal\n",
       "   sub-expressions: "
      ]
     },
     "execution_count": 4,
     "metadata": {},
     "output_type": "execute_result"
    }
   ],
   "source": [
    "# display the expression information\n",
    "expr.exprInfo()"
   ]
  },
  {
   "cell_type": "code",
   "execution_count": null,
   "metadata": {},
   "outputs": [],
   "source": []
  }
 ],
 "metadata": {
  "kernelspec": {
   "display_name": "Python 3",
   "language": "python",
   "name": "python3"
  }
 },
 "nbformat": 4,
 "nbformat_minor": 0
}
