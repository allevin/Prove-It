{
 "cells": [
  {
   "cell_type": "markdown",
   "metadata": {},
   "source": [
    "Expression of type <a class=\"ProveItLink\" href=\"../../../../../../doc/html/api/proveit.number.Add.html\">Add</a>\n",
    "=======================\n",
    "# from context <a class=\"ProveItLink\" href=\"../../_context_.ipynb\">proveit.number.addition</a>"
   ]
  },
  {
   "cell_type": "code",
   "execution_count": 1,
   "metadata": {},
   "outputs": [],
   "source": [
    "# import Expression classes needed to build the expression\n",
    "from proveit._common_ import A, B, C, a, b, c\n",
    "from proveit.number import Add, one, three"
   ]
  },
  {
   "cell_type": "code",
   "execution_count": 2,
   "metadata": {},
   "outputs": [
    {
     "data": {
      "text/html": [
       "<strong id=\"expr\">expr:</strong> <a class=\"ProveItLink\" href=\"expr.ipynb\"><img src=\"data:image/png;base64,iVBORw0KGgoAAAANSUhEUgAAAWEAAAAQBAMAAAA12NM0AAAAMFBMVEX///8yMjKqqqrMzMzu7u4i\n",
       "IiJmZmaYmJhEREQQEBC6urp2dnaIiIhUVFTc3NwAAAD87Fq/AAAAAXRSTlMAQObYZgAAAs9JREFU\n",
       "SMeVVU1oE0EUftlsNj/N3x4UFKJ78lRIL4IipVtEEEHbgyg9Nb00Fg/Zi+DNHHLpKc1VxeQgQkGo\n",
       "BwW1h+YgKiXQePEHumStIN6SlGiKbY07Sdr0vdlk0oWdTL5575tv37z3BsD5cU87gOc5JIP/yt84\n",
       "N29l3/x6mqLyx8/JcAIET4aKWn2t9TV21RzAsxS42qBuZc7JnwZIFQj4xoDAgiEQzLH/hMAe/nCr\n",
       "N793YH3jSLhmdWx43WwQ14jGcU0U7beMwcmb9rBmcbsK2Nc0+I1MpeLhNHzuX3c22lvfSlnEMNgg\n",
       "ris6x7VhOz14gcFTzGyZ21XEHh+gOBj8yysubhREnK94rkX7ndERqGx3zvi4iqGTFeHNt08436dS\n",
       "k1Mc0OOGiDNW+kK59gG+ZzBYjbLxMgbl1dKYUHG7TpYtX40uyAX3Hqf4WjslB3LKOxAh27r3S+9v\n",
       "k51ThkNILxZc0yLFl2IsxE1Q0lzwIfyHU1yAakKgWGqAn6Rs0C6IK2XsN2vxiuXH4DOEMQ4+BAjV\n",
       "wENDB+OmuUMVu02zkhYoVqIQSWAT35Jt1sR+rfaoIzBUGyaPIa9DJA1T7CAVVT2RU9VyN5yQY79z\n",
       "qjqjqrFu3MEfJYYdzh7iScCKgU0i9ujdxX75tgy8a6QTjUHs8AMga0C1CHHApQwSK28aY7vTepYE\n",
       "UbDbcYpwTdhfENrGfhVmo2DXalEYY7mlM8VTGnySSLVsHbnfDhSHtd5F2F/xGDwiJqwdd3pDD2xX\n",
       "8Evian+ZKI/r7RJwGdKtEdJn2AZZHSueZDnZECgOaQopMtaO3TmcsuC1Y/7MIq4JGBF1tw8Q2GXt\n",
       "eP3COloIL9YtuN86iRT/yp8Bb7aOy0pZqCfxuW0mySZ3WqapGvS8x2PzGk2Cu6V3MJgdpPk5rd+d\n",
       "13tGHTDesP/FdXxwCPbDLuy08HwoQw5x5BoOFLD/B+NjGhMS5jgFAAAAAElFTkSuQmCC\n",
       "\" style=\"display:inline;vertical-align:middle;\" /></a><br>"
      ],
      "text/plain": [
       "expr: a + A + A + 1 + b + B + C + c + 1 + 3"
      ]
     },
     "execution_count": 2,
     "metadata": {},
     "output_type": "execute_result"
    }
   ],
   "source": [
    "# build up the expression from sub-expressions\n",
    "expr = Add(a, A, A, one, b, B, C, c, one, three)"
   ]
  },
  {
   "cell_type": "code",
   "execution_count": 3,
   "metadata": {},
   "outputs": [
    {
     "name": "stdout",
     "output_type": "stream",
     "text": [
      "Passed sanity check: built 'expr' is the same as the stored Expression.\n"
     ]
    }
   ],
   "source": [
    "# check that the built expression is the same as the stored expression\n",
    "%check_expr"
   ]
  },
  {
   "cell_type": "code",
   "execution_count": 4,
   "metadata": {},
   "outputs": [
    {
     "data": {
      "text/html": [
       "<table><tr><th>&nbsp;</th><th>core type</th><th>sub-expressions</th><th>expression</th></tr>\n",
       "<tr><td>0</td><td>Operation</td><td>operator:&nbsp;1<br>operands:&nbsp;2<br></td><td><a class=\"ProveItLink\" href=\"expr.ipynb\"><img src=\"data:image/png;base64,iVBORw0KGgoAAAANSUhEUgAAAWEAAAAQBAMAAAA12NM0AAAAMFBMVEX///8yMjKqqqrMzMzu7u4i\n",
       "IiJmZmaYmJhEREQQEBC6urp2dnaIiIhUVFTc3NwAAAD87Fq/AAAAAXRSTlMAQObYZgAAAs9JREFU\n",
       "SMeVVU1oE0EUftlsNj/N3x4UFKJ78lRIL4IipVtEEEHbgyg9Nb00Fg/Zi+DNHHLpKc1VxeQgQkGo\n",
       "BwW1h+YgKiXQePEHumStIN6SlGiKbY07Sdr0vdlk0oWdTL5575tv37z3BsD5cU87gOc5JIP/yt84\n",
       "N29l3/x6mqLyx8/JcAIET4aKWn2t9TV21RzAsxS42qBuZc7JnwZIFQj4xoDAgiEQzLH/hMAe/nCr\n",
       "N793YH3jSLhmdWx43WwQ14jGcU0U7beMwcmb9rBmcbsK2Nc0+I1MpeLhNHzuX3c22lvfSlnEMNgg\n",
       "ris6x7VhOz14gcFTzGyZ21XEHh+gOBj8yysubhREnK94rkX7ndERqGx3zvi4iqGTFeHNt08436dS\n",
       "k1Mc0OOGiDNW+kK59gG+ZzBYjbLxMgbl1dKYUHG7TpYtX40uyAX3Hqf4WjslB3LKOxAh27r3S+9v\n",
       "k51ThkNILxZc0yLFl2IsxE1Q0lzwIfyHU1yAakKgWGqAn6Rs0C6IK2XsN2vxiuXH4DOEMQ4+BAjV\n",
       "wENDB+OmuUMVu02zkhYoVqIQSWAT35Jt1sR+rfaoIzBUGyaPIa9DJA1T7CAVVT2RU9VyN5yQY79z\n",
       "qjqjqrFu3MEfJYYdzh7iScCKgU0i9ujdxX75tgy8a6QTjUHs8AMga0C1CHHApQwSK28aY7vTepYE\n",
       "UbDbcYpwTdhfENrGfhVmo2DXalEYY7mlM8VTGnySSLVsHbnfDhSHtd5F2F/xGDwiJqwdd3pDD2xX\n",
       "8Evian+ZKI/r7RJwGdKtEdJn2AZZHSueZDnZECgOaQopMtaO3TmcsuC1Y/7MIq4JGBF1tw8Q2GXt\n",
       "eP3COloIL9YtuN86iRT/yp8Bb7aOy0pZqCfxuW0mySZ3WqapGvS8x2PzGk2Cu6V3MJgdpPk5rd+d\n",
       "13tGHTDesP/FdXxwCPbDLuy08HwoQw5x5BoOFLD/B+NjGhMS5jgFAAAAAElFTkSuQmCC\n",
       "\" style=\"display:inline;vertical-align:middle;\" /></a></td></tr>\n",
       "<tr><td>1</td><td>Literal</td><td></td><td><a class=\"ProveItLink\" href=\"../3e6688136fa3c7aefbebe51301b7c3ebf0b69c440/expr.ipynb\"><img src=\"data:image/png;base64,iVBORw0KGgoAAAANSUhEUgAAAA4AAAAOBAMAAADtZjDiAAAAJFBMVEX///+6urpUVFQQEBAiIiIy\n",
       "MjJmZmaIiIiqqqrc3Nzu7u4AAACgHpL+AAAAAXRSTlMAQObYZgAAAB5JREFUCNdjYGBgWMkAAe2k\n",
       "0Kmhoc6hoUGk6BMHYgAHOwjcado9fwAAAABJRU5ErkJggg==\n",
       "\" style=\"display:inline;vertical-align:middle;\" /></a></td></tr>\n",
       "<tr><td>2</td><td>ExprTuple</td><td>3, 4, 4, 9, 5, 6, 7, 8, 9, 10</td><td><a class=\"ProveItLink\" href=\"../b488b83346f35982d635b2cef9a2230f896e86a70/expr.ipynb\"><img src=\"data:image/png;base64,iVBORw0KGgoAAAANSUhEUgAAANkAAAAVBAMAAAA5ulaKAAAAMFBMVEX////c3NwiIiJERESqqqqY\n",
       "mJh2dnZmZmYQEBDu7u4yMjJUVFTMzMyIiIi6uroAAAAs73DqAAAAAXRSTlMAQObYZgAAAxNJREFU\n",
       "SMe9VktoE1EUPWlmkkw+k4AFQYV2I9VVsxHqqrNzmUHBpRaEqgttQPqhLtqKuChoBt2UVmxcSNWC\n",
       "CgqCQ2lQEKGLBkSKaNvUjZ9VrG2lSWt8v5nMvNTubCAv59175553f28C7O1HL+4R0Rm6zMnS1x4c\n",
       "b3XQcfE7cc2RqLNV+/kTZ6e9f9kbyEqugpZw033OQLhA0COZ7akHR8sC3Nl0RNOuMpIGhkpic8GE\n",
       "PmD6PWmdgm0/9G0gDyTkRKrtVn1zUpBM2C7bmqucJ4/OP+N4/ChZelJ+MntWuOoxsAqcJge0JLbm\n",
       "ofozgRM/BUo4bLpLi2VieLaL44fUzTc5TcvCeYaxjQE/ZIvicsnFicQfmS3kVhId5HuE+wuv8YT9\n",
       "gw0sk0EDfTSEmcsjrtjK1LP/XVmX2aIznxx9FTggmqclT9e7IoPdiwWZLUoyHsriAc1AKuh0A+6x\n",
       "cojHSvFtmW0yjS3RaNXFhcNCOuTtj3elaKvE9pb2lpLHLRLaOsJpx7SEFrePdQR+y2wZCzeEiNT0\n",
       "tmiSdk9/aDcRNOXYEoRHHwYpTKyMJieeuG3Pusxztv1LZhsExAmCw0QsMl1jK/cdK+9QN+QsxMuU\n",
       "LZnGZMENB5F8PU6Mymxt0AVDksSlbghfdFG4k2S6ge0Q0GlStuukxEVkxLlgAE3DwlahPSezrSEs\n",
       "4DxJV0xMHxussOiYosym1SzKRjJ5jBTewCuloLEBM/j9waya+cWiOWwMbCHSxdV03GgvWmLQcZHj\n",
       "JDmFqblsVFRhlVXzOE/cm0pbCJO0j8ZpPTahrdIT0YySu4cpKBsDL3CVq+m4xUctvlFJjF9THMey\n",
       "CBWYLWVjog/QN9gEfKHjtvRmCWOkxfbl7kPtrGS1XAqBjkoKp2pTTBEeqPQygIkFE1SNKzXbfkzC\n",
       "YBvMTfcbDu5b/Mht+3NTJhMp/YM0aSVE3N5d8b6GvDfeSgPwqb0bPbWLLbm51C5n4x1Q1Xv/mA3A\n",
       "p1Z3xDvYXvK+cf43G+uDg06P+65mD040AJ/atynuYhujKQ3s1T+Fz8BfJe31G3UDl+sAAAAASUVO\n",
       "RK5CYII=\n",
       "\" style=\"display:inline;vertical-align:middle;\" /></a></td></tr>\n",
       "<tr><td>3</td><td>Variable</td><td></td><td><a class=\"ProveItLink\" href=\"../../../../__pv_it/07527342713064c87612d00d8557c53d53d5324a0/expr.ipynb\"><img src=\"data:image/png;base64,iVBORw0KGgoAAAANSUhEUgAAAAsAAAAJBAMAAAAWSsseAAAAMFBMVEX///8yMjKqqqrMzMzu7u4i\n",
       "IiJmZmaYmJhEREQQEBC6urp2dnaIiIhUVFTc3NwAAAD87Fq/AAAAAXRSTlMAQObYZgAAAEhJREFU\n",
       "CNdjYOC7s2seAwPDygccHxgY+L4zsDUwMPB+YGA9wMDA38Dgb8DA8P4Agz6DA4O/AsNFJgMGxgKm\n",
       "MG6gyjunLE4xAAAZTBA5TB6DCwAAAABJRU5ErkJggg==\n",
       "\" style=\"display:inline;vertical-align:middle;\" /></a></td></tr>\n",
       "<tr><td>4</td><td>Variable</td><td></td><td><a class=\"ProveItLink\" href=\"../../../../__pv_it/2cbe72a7ad6f655694dd697106680215e8489b600/expr.ipynb\"><img src=\"data:image/png;base64,iVBORw0KGgoAAAANSUhEUgAAAA8AAAAOBAMAAAACpFvcAAAALVBMVEX///8QEBBERERUVFS6urqI\n",
       "iIhmZmaqqqrc3Nzu7u6YmJgyMjIiIiLMzMwAAADtIaYWAAAAAXRSTlMAQObYZgAAAFtJREFUCNdj\n",
       "YACBOwxQsA9Kc52bAGG05zVAGAFxDmCaZULdAjBjCsO9ADDDgaEvAUTzGhvbKYCVMDAwbgAxChgY\n",
       "eASANAeQwf0AyJgNxEwvGRia5HYwcOm9TgAA6BoR3jrzwFcAAAAASUVORK5CYII=\n",
       "\" style=\"display:inline;vertical-align:middle;\" /></a></td></tr>\n",
       "<tr><td>5</td><td>Variable</td><td></td><td><a class=\"ProveItLink\" href=\"../../../../__pv_it/6840a4fa6c106149dc16a131294d0c5e44f1b0480/expr.ipynb\"><img src=\"data:image/png;base64,iVBORw0KGgoAAAANSUhEUgAAAAkAAAAOBAMAAAAPuiubAAAALVBMVEX///9mZmbMzMxERESYmJiI\n",
       "iIh2dna6urqqqqoyMjIiIiIQEBBUVFTu7u4AAAD9S1JeAAAAAXRSTlMAQObYZgAAAE1JREFUCNdj\n",
       "4D29gAEIOA+ASL4GEFl3AURmgQiGOaFHGBh4HzPwKTBwvGXgTmBgnMDAJ8DAJcBQ5wBSLncBJLWN\n",
       "gYGngRFoBO9REQYGAGrcDtUkVqASAAAAAElFTkSuQmCC\n",
       "\" style=\"display:inline;vertical-align:middle;\" /></a></td></tr>\n",
       "<tr><td>6</td><td>Variable</td><td></td><td><a class=\"ProveItLink\" href=\"../../../../__pv_it/077b2ff79244fb4582cbe22c6e3356fa92a52f2f0/expr.ipynb\"><img src=\"data:image/png;base64,iVBORw0KGgoAAAANSUhEUgAAABAAAAAOBAMAAADUAYG5AAAAMFBMVEX///+qqqru7u4iIiJ2dnbc\n",
       "3NyIiIjMzMxmZmYQEBC6uroyMjJERERUVFSYmJgAAADLUcuvAAAAAXRSTlMAQObYZgAAAGpJREFU\n",
       "CNdjYGB4+//u3dMLGIBgDgMDxy8gzf4NiP8CGWxfGRj4vgAZPBMYGJgnARn8FxhY9ygAGfXX0pof\n",
       "gDTlBzAw2YIYJ0EckBBI53sHoBH/gIz7AhBjWH9DjancBLTl/N+7t/cxMAAA3u4f/5xagjYAAAAA\n",
       "SUVORK5CYII=\n",
       "\" style=\"display:inline;vertical-align:middle;\" /></a></td></tr>\n",
       "<tr><td>7</td><td>Variable</td><td></td><td><a class=\"ProveItLink\" href=\"../../../../__pv_it/985a1bdf1540838275dec15f4ad6de261cca93ce0/expr.ipynb\"><img src=\"data:image/png;base64,iVBORw0KGgoAAAANSUhEUgAAAA8AAAAOBAMAAAACpFvcAAAAMFBMVEX////MzMyqqqoiIiIyMjK6\n",
       "uroQEBB2dnbc3NyYmJhmZmZUVFRERESIiIju7u4AAAB204erAAAAAXRSTlMAQObYZgAAAGZJREFU\n",
       "CNdjYGDgu7NrJccCBgaGsgkMrMsmMDA8sQNy6hsYGNweABlhDAxcn4A0QxcDQ78DiPGQgWH9BAYI\n",
       "sG+AMv6DSaCGfBDNJMDAsB+kmwuI5S8AiTog5gSaEwXWIO29SgFIAQBC+RaDQlidVgAAAABJRU5E\n",
       "rkJggg==\n",
       "\" style=\"display:inline;vertical-align:middle;\" /></a></td></tr>\n",
       "<tr><td>8</td><td>Variable</td><td></td><td><a class=\"ProveItLink\" href=\"../../../../__pv_it/cbdfda466482236edba0ce44ac7ef39cda0af7a40/expr.ipynb\"><img src=\"data:image/png;base64,iVBORw0KGgoAAAANSUhEUgAAAAkAAAAJBAMAAAASvxsjAAAALVBMVEX///9mZmbc3NxUVFSYmJhE\n",
       "REQiIiIyMjK6uroQEBDMzMyIiIh2dnbu7u4AAABgFDGoAAAAAXRSTlMAQObYZgAAADZJREFUCNdj\n",
       "YOA9s3sBA8PKBvYEBt7ZDKwODMwPGICALwBE6m0Asx0YGIDiAgw8QJUyu/cyAAAmuwmycZ8WfQAA\n",
       "AABJRU5ErkJggg==\n",
       "\" style=\"display:inline;vertical-align:middle;\" /></a></td></tr>\n",
       "<tr><td>9</td><td>Literal</td><td></td><td><a class=\"ProveItLink\" href=\"../../../numeral/__pv_it/9be8badea4c35b9724062cecc501d17a3158d1d20/expr.ipynb\"><img src=\"data:image/png;base64,iVBORw0KGgoAAAANSUhEUgAAAAgAAAAPBAMAAAArJJMAAAAAHlBMVEX///+YmJgyMjIQEBBmZmaI\n",
       "iIhUVFTu7u5EREQAAAAw+MI4AAAAAXRSTlMAQObYZgAAACFJREFUCNdjYGBoZ2BgqJjOwFCWBiQY\n",
       "WEklWJwnOTKAAACjEQo8HvEr3AAAAABJRU5ErkJggg==\n",
       "\" style=\"display:inline;vertical-align:middle;\" /></a></td></tr>\n",
       "<tr><td>10</td><td>Literal</td><td></td><td><a class=\"ProveItLink\" href=\"../../../numeral/__pv_it/9176d93c83afa2c995b614976e3cb49207102fa70/expr.ipynb\"><img src=\"data:image/png;base64,iVBORw0KGgoAAAANSUhEUgAAAAoAAAAOBAMAAADkjZCYAAAAMFBMVEX///+YmJju7u4QEBBUVFQy\n",
       "MjIiIiKIiIi6urpmZmbc3NyqqqpERER2dnbMzMwAAAB0GlNiAAAAAXRSTlMAQObYZgAAAE1JREFU\n",
       "CNdjYHh79zQDA9cEhv4CBt7fDPwJDNxgEgiAIkAQAsR8Vx1ATIbiBhDJ/ImB6wEDz0cG/U8gkj+A\n",
       "ge0XA7sAQ/8FBoadM6MZAEflFACalZ/OAAAAAElFTkSuQmCC\n",
       "\" style=\"display:inline;vertical-align:middle;\" /></a></td></tr>\n",
       "</table>\n"
      ],
      "text/plain": [
       "0. a + A + A + 1 + b + B + C + c + 1 + 3\n",
       "   core type: Operation\n",
       "   operator: 1\n",
       "   operands: 2\n",
       "1. +\n",
       "   core type: Literal\n",
       "   sub-expressions: \n",
       "2. (a , A , A , 1 , b , B , C , c , 1 , 3)\n",
       "   core type: ExprTuple\n",
       "   sub-expressions: 3, 4, 4, 9, 5, 6, 7, 8, 9, 10\n",
       "3. a\n",
       "   core type: Variable\n",
       "   sub-expressions: \n",
       "4. A\n",
       "   core type: Variable\n",
       "   sub-expressions: \n",
       "5. b\n",
       "   core type: Variable\n",
       "   sub-expressions: \n",
       "6. B\n",
       "   core type: Variable\n",
       "   sub-expressions: \n",
       "7. C\n",
       "   core type: Variable\n",
       "   sub-expressions: \n",
       "8. c\n",
       "   core type: Variable\n",
       "   sub-expressions: \n",
       "9. 1\n",
       "   core type: Literal\n",
       "   sub-expressions: \n",
       "10. 3\n",
       "    core type: Literal\n",
       "    sub-expressions: "
      ]
     },
     "execution_count": 4,
     "metadata": {},
     "output_type": "execute_result"
    }
   ],
   "source": [
    "# display the expression information\n",
    "expr.exprInfo()"
   ]
  },
  {
   "cell_type": "code",
   "execution_count": null,
   "metadata": {},
   "outputs": [],
   "source": []
  }
 ],
 "metadata": {
  "kernelspec": {
   "display_name": "Python 3",
   "language": "python",
   "name": "python3"
  }
 },
 "nbformat": 4,
 "nbformat_minor": 0
}
