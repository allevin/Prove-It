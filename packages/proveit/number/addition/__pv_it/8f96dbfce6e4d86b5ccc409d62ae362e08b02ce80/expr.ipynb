{
 "cells": [
  {
   "cell_type": "markdown",
   "metadata": {},
   "source": [
    "Expression of type <a class=\"ProveItLink\" href=\"../../../../../../doc/html/api/proveit.logic.InSet.html\">InSet</a>\n",
    "=======================\n",
    "# from context <a class=\"ProveItLink\" href=\"../../_context_.ipynb\">proveit.number.addition</a>"
   ]
  },
  {
   "cell_type": "code",
   "execution_count": 1,
   "metadata": {},
   "outputs": [],
   "source": [
    "# import Expression classes needed to build the expression\n",
    "from proveit._common_ import a, b\n",
    "from proveit.logic import InSet\n",
    "from proveit.number import Complexes, Exp, six"
   ]
  },
  {
   "cell_type": "code",
   "execution_count": 2,
   "metadata": {},
   "outputs": [
    {
     "data": {
      "text/html": [
       "<strong id=\"expr\">expr:</strong> <a class=\"ProveItLink\" href=\"expr.ipynb\"><img src=\"data:image/png;base64,iVBORw0KGgoAAAANSUhEUgAAAKwAAAAZBAMAAABeGNgtAAAAMFBMVEX////c3NwiIiJERESqqqqY\n",
       "mJh2dnZmZmYQEBDu7u4yMjJUVFTMzMyIiIi6uroAAAAs73DqAAAAAXRSTlMAQObYZgAAAjxJREFU\n",
       "SMe1lUFo01AYx/91aZvXpllgxx4a6mEoCBH1OCyCF5m0J0UP0ttOSlDwoB7cEC8DLR6cOLRDGKMq\n",
       "EkEvk2FA8CJo8eAO4qiCMsRD1Q4drNUvL0lj07cegi3k5ZeX9P++973/+x7w/39zp0tDUMVDpTkE\n",
       "1YTJykOQlQvDSAFyR1c1QK1H/Hu8Ie5/U1Z04FUUyfkZai71db+9/3unmWugBdQihfqArlS483UH\n",
       "N9vWqI02MtFy0HKyEFrweJr8WrRSBXQgV6KoqpvUsMvuw517+d3O/YRMTdKSLFXH12je1J12P2dl\n",
       "0YvMzDpj1XF8qoLzhLGVM9PuGxEh+25dC1Fq5T1NeIrzmKfKzC/BuIt0rWsj3nYTkTqNg2GqGtgC\n",
       "jnDe6ykp5cOB7DUKbANJww1RQMiVcC5MxQqu0tA8SKMr+zmQ7QDpJna4fhARngN7wnQB+EXG51OY\n",
       "yef5kjHjZY/sqIGqzR9EhJ9gW2Eah7rhySqWL1VLB7JXaG51FMHzLqJYG1KT9RLZNrnpJ0H3pY5x\n",
       "WXcBD1D+C1iWbOd7EbEW0guTztcB0XrJtBdOcoWnvuzIKUqbuoszmSRVksYTqOpiIq8cMsvsRw89\n",
       "wUX4BrvRLTnPJip397nRfnIsuvZiDbe+iwnZD98mGuy69i/NrzrnyiPXNEu274Wzf2a9MWTNH+sj\n",
       "BpGq9ZG/eaVld/P21IduvQjONRHF+ykxqErVIsveHlQ1st490+0REer99HiQbCzqoZOxt3/3F7r8\n",
       "uz7pkfRjAAAAAElFTkSuQmCC\n",
       "\" style=\"display:inline;vertical-align:middle;\" /></a><br>"
      ],
      "text/plain": [
       "expr: (a , a , a , a , a , b) in Complexes^{6}"
      ]
     },
     "execution_count": 2,
     "metadata": {},
     "output_type": "execute_result"
    }
   ],
   "source": [
    "# build up the expression from sub-expressions\n",
    "expr = InSet([a, a, a, a, a, b], Exp(Complexes, six))"
   ]
  },
  {
   "cell_type": "code",
   "execution_count": 3,
   "metadata": {},
   "outputs": [
    {
     "name": "stdout",
     "output_type": "stream",
     "text": [
      "Passed sanity check: built 'expr' is the same as the stored Expression.\n"
     ]
    }
   ],
   "source": [
    "# check that the built expression is the same as the stored expression\n",
    "%check_expr"
   ]
  },
  {
   "cell_type": "code",
   "execution_count": 4,
   "metadata": {},
   "outputs": [
    {
     "data": {
      "text/html": [
       "<table><tr><th>&nbsp;</th><th>core type</th><th>sub-expressions</th><th>expression</th></tr>\n",
       "<tr><td>0</td><td>Operation</td><td>operator:&nbsp;1<br>operands:&nbsp;2<br></td><td><a class=\"ProveItLink\" href=\"expr.ipynb\"><img src=\"data:image/png;base64,iVBORw0KGgoAAAANSUhEUgAAAKwAAAAZBAMAAABeGNgtAAAAMFBMVEX////c3NwiIiJERESqqqqY\n",
       "mJh2dnZmZmYQEBDu7u4yMjJUVFTMzMyIiIi6uroAAAAs73DqAAAAAXRSTlMAQObYZgAAAjxJREFU\n",
       "SMe1lUFo01AYx/91aZvXpllgxx4a6mEoCBH1OCyCF5m0J0UP0ttOSlDwoB7cEC8DLR6cOLRDGKMq\n",
       "EkEvk2FA8CJo8eAO4qiCMsRD1Q4drNUvL0lj07cegi3k5ZeX9P++973/+x7w/39zp0tDUMVDpTkE\n",
       "1YTJykOQlQvDSAFyR1c1QK1H/Hu8Ie5/U1Z04FUUyfkZai71db+9/3unmWugBdQihfqArlS483UH\n",
       "N9vWqI02MtFy0HKyEFrweJr8WrRSBXQgV6KoqpvUsMvuw517+d3O/YRMTdKSLFXH12je1J12P2dl\n",
       "0YvMzDpj1XF8qoLzhLGVM9PuGxEh+25dC1Fq5T1NeIrzmKfKzC/BuIt0rWsj3nYTkTqNg2GqGtgC\n",
       "jnDe6ykp5cOB7DUKbANJww1RQMiVcC5MxQqu0tA8SKMr+zmQ7QDpJna4fhARngN7wnQB+EXG51OY\n",
       "yef5kjHjZY/sqIGqzR9EhJ9gW2Eah7rhySqWL1VLB7JXaG51FMHzLqJYG1KT9RLZNrnpJ0H3pY5x\n",
       "WXcBD1D+C1iWbOd7EbEW0guTztcB0XrJtBdOcoWnvuzIKUqbuoszmSRVksYTqOpiIq8cMsvsRw89\n",
       "wUX4BrvRLTnPJip397nRfnIsuvZiDbe+iwnZD98mGuy69i/NrzrnyiPXNEu274Wzf2a9MWTNH+sj\n",
       "BpGq9ZG/eaVld/P21IduvQjONRHF+ykxqErVIsveHlQ1st490+0REer99HiQbCzqoZOxt3/3F7r8\n",
       "uz7pkfRjAAAAAElFTkSuQmCC\n",
       "\" style=\"display:inline;vertical-align:middle;\" /></a></td></tr>\n",
       "<tr><td>1</td><td>Literal</td><td></td><td><a class=\"ProveItLink\" href=\"../../../../logic/set_theory/membership/__pv_it/088cbc857536a28d4119ad9639a84270ccb0545d0/expr.ipynb\"><img src=\"data:image/png;base64,iVBORw0KGgoAAAANSUhEUgAAAAwAAAAMBAMAAACkW0HUAAAALVBMVEX///+qqqpmZmZUVFQQEBC6\n",
       "urpERETc3NyYmJjMzMwiIiIyMjKIiIju7u4AAACYsrA9AAAAAXRSTlMAQObYZgAAADxJREFUCNdj\n",
       "YOA9vWrVBgaG2b0MQMCeCyIZ2ArA1DUwyRCyahVIyWQI7xaEYm4AU7xLIdxqTQgtvGvVBgCkcQ7e\n",
       "geM/tQAAAABJRU5ErkJggg==\n",
       "\" style=\"display:inline;vertical-align:middle;\" /></a></td></tr>\n",
       "<tr><td>2</td><td>ExprTuple</td><td>3, 4</td><td><a class=\"ProveItLink\" href=\"../81ee4d7f6921acf8e9b39f99898e5a8b05a4ced00/expr.ipynb\"><img src=\"data:image/png;base64,iVBORw0KGgoAAAANSUhEUgAAALAAAAAcBAMAAAAzRyj4AAAAMFBMVEX///+qqqp2dnYiIiJERESI\n",
       "iIhmZmYQEBDc3NyYmJgyMjLu7u5UVFTMzMy6uroAAACGxKilAAAAAXRSTlMAQObYZgAAAo1JREFU\n",
       "SMe1lk1oE0EUx/9Jm6/9akA8KEj2Yo+SgwZBhAj2IAguFuullEU9+QFVLz1I3YMnCSSKeFCQngSt\n",
       "SvCgUIqJYEGLYBCPYoMeqoKaoNGWkuibzWxmU7OBLtuBmfm9md1/3rx5OxMg6PJkZwGbUh6qNU7f\n",
       "A9UNm7IOnZFaDlQ4lqTmPaO5YqDC+a1jFiIG0SuqmuFTJlFdP7Kkq2lgLxCfdFzfaJm/SM0518Do\n",
       "/T+7zXwVdWAciJo0NOvL3QdUJWF+aOFxozxUQQMoFRGjxUT8RaLOYqF3oqJQ/qbKUhItYKCAJbaT\n",
       "vvZPW6NGnnTM2zFqouVQWaMYR7M4TuZXfxmbZu0BxzRz7HcM3BwmNxM1LJJ5gmp8YddU+wlByB1d\n",
       "tjxJWhinxQ/zR2XzY/dqDlN3j+qyNcg/RUHaFI54UymLJrCdS6n6Npew2sRd6qbJzVUWF9vhDiFf\n",
       "wClvShVxgdzoCH9xCcdbyFBH26jUMNDODUF4A+zxptPAb9ibb4ci+9YlLNcd4aEsShV7TBB+QW56\n",
       "UwbaqhDGrNLtMcvy87RCAynYWSco3kCoJnsRpXF0TYQC121hnrjxJl5Qd4h2IonFUIW9IYjWo8zs\n",
       "YM/2Itq5GH0dtxy5wTsUQG0f3+IVjMJOGakQyoRRSruJsmWLqcs/Peg5zrbfhW3i9Ujx2UHuMeXx\n",
       "D+o+seSdeDeBpytuQu7Yt5GqfNnqTfNj7A56xISZCfXk30vOYReeAR0aiFlOoD7jf9KsPtT+pMUE\n",
       "L5IBRXefJOIeFJToR2Gje4KXkgV2LItjc8PCc+gpfIOfIjluRzozgmD0o5frJnjZT/UqSzu/V1Ok\n",
       "0vvGYrdHSA/+v8UVu70WvPAZbF75BzCd097g7qTaAAAAAElFTkSuQmCC\n",
       "\" style=\"display:inline;vertical-align:middle;\" /></a></td></tr>\n",
       "<tr><td>3</td><td>ExprTuple</td><td>5, 5, 5, 5, 5, 6</td><td><a class=\"ProveItLink\" href=\"../f98daacae49b329952df83a1b7784e501120bbe70/expr.ipynb\"><img src=\"data:image/png;base64,iVBORw0KGgoAAAANSUhEUgAAAHoAAAAVBAMAAAB71edYAAAAMFBMVEX////c3NwiIiJERESqqqqY\n",
       "mJh2dnZmZmYQEBDu7u4yMjJUVFTMzMyIiIi6uroAAAAs73DqAAAAAXRSTlMAQObYZgAAAV9JREFU\n",
       "OMullD1IQlEUx3+WX0/x5e6Qm1PgUGMUjRH45ia3tgiChmrIiMZyjBxsaYggCJoCSWhsyKmGSKxJ\n",
       "osFKCcGic99Vabra68I9/LiX8/HO/9wH/1t2xaNjoCbmxotnYVvMpuwTT4lPZUcg5q3wpio9Szjv\n",
       "qVltMdYWL55SB5PKTrIm1ldazulTM5G4q8ddiJQeHFjiWLgeH23oazPZOWY0FdN0YJ49Cd4ilNZp\n",
       "jMS4w6qmTJ5dics3RBuM6M6biSuY0LQOn3CrvMfSFMvuoZn4wOpoSmG3lPeOFFQhgyucmXxf+BtW\n",
       "V+5QW1U+JS2Y5dJfVsdmsppEjxbcSB3CWViUrhNx/KkgxeQgEn3mVrLWu9AFGyjFnpWg1esqB2+D\n",
       "iMTj63TN2hfJC/ciN2eE4735eWI4snseMqky6t3lMBwF+uNa+fVC/+x9qD6my7H+tZnoP+lzpaLX\n",
       "P1OszA/VfYxDqiSjOwAAAABJRU5ErkJggg==\n",
       "\" style=\"display:inline;vertical-align:middle;\" /></a></td></tr>\n",
       "<tr><td>4</td><td>Operation</td><td>operator:&nbsp;7<br>operands:&nbsp;8<br></td><td><a class=\"ProveItLink\" href=\"../caa58a6d37528bfa4e8e607325cf0a3bdcd3bb190/expr.ipynb\"><img src=\"data:image/png;base64,iVBORw0KGgoAAAANSUhEUgAAABcAAAAUBAMAAACUkLs9AAAAMFBMVEX////c3NyqqqqYmJhUVFR2\n",
       "dnbu7u66urrMzMxmZmZEREQQEBAyMjIiIiKIiIgAAAB7fvZ0AAAAAXRSTlMAQObYZgAAAJpJREFU\n",
       "GNNjYIACtqmPGeCAp6EfwYlkSEVwNiGYDIyf3k2Eczi+MvSCaL475/euZPzOwK8AFKsvYIt/wvCD\n",
       "gf8BA4OBMwMD0xeGQwz8BQzMCRuASqcwqDDUMjBwMjoAOXkMzFOnMTBksgcgLGhlMkDisCNxsjiQ\n",
       "lPEkOCA4zAEgDhuUt7gOSNQmQDgsXs/YqpbBFHbe/+0OYQEA3N0ih75gypAAAAAASUVORK5CYII=\n",
       "\" style=\"display:inline;vertical-align:middle;\" /></a></td></tr>\n",
       "<tr><td>5</td><td>Variable</td><td></td><td><a class=\"ProveItLink\" href=\"../../../../__pv_it/07527342713064c87612d00d8557c53d53d5324a0/expr.ipynb\"><img src=\"data:image/png;base64,iVBORw0KGgoAAAANSUhEUgAAAAsAAAAJBAMAAAAWSsseAAAAMFBMVEX///8yMjKqqqrMzMzu7u4i\n",
       "IiJmZmaYmJhEREQQEBC6urp2dnaIiIhUVFTc3NwAAAD87Fq/AAAAAXRSTlMAQObYZgAAAEhJREFU\n",
       "CNdjYOC7s2seAwPDygccHxgY+L4zsDUwMPB+YGA9wMDA38Dgb8DA8P4Agz6DA4O/AsNFJgMGxgKm\n",
       "MG6gyjunLE4xAAAZTBA5TB6DCwAAAABJRU5ErkJggg==\n",
       "\" style=\"display:inline;vertical-align:middle;\" /></a></td></tr>\n",
       "<tr><td>6</td><td>Variable</td><td></td><td><a class=\"ProveItLink\" href=\"../../../../__pv_it/6840a4fa6c106149dc16a131294d0c5e44f1b0480/expr.ipynb\"><img src=\"data:image/png;base64,iVBORw0KGgoAAAANSUhEUgAAAAkAAAAOBAMAAAAPuiubAAAALVBMVEX///9mZmbMzMxERESYmJiI\n",
       "iIh2dna6urqqqqoyMjIiIiIQEBBUVFTu7u4AAAD9S1JeAAAAAXRSTlMAQObYZgAAAE1JREFUCNdj\n",
       "4D29gAEIOA+ASL4GEFl3AURmgQiGOaFHGBh4HzPwKTBwvGXgTmBgnMDAJ8DAJcBQ5wBSLncBJLWN\n",
       "gYGngRFoBO9REQYGAGrcDtUkVqASAAAAAElFTkSuQmCC\n",
       "\" style=\"display:inline;vertical-align:middle;\" /></a></td></tr>\n",
       "<tr><td>7</td><td>Literal</td><td></td><td><a class=\"ProveItLink\" href=\"../../../exponentiation/__pv_it/deb2bf23cbccdd6e6791e1b35b5b9794ce12dbd50/expr.ipynb\"><img src=\"data:image/png;base64,iVBORw0KGgoAAAANSUhEUgAAACgAAAASBAMAAADbMYGVAAAAMFBMVEX///8QEBAiIiKYmJjc3Nzu\n",
       "7u7MzMx2dnZmZma6urpERESqqqoyMjJUVFSIiIgAAAAoDOMTAAAAAXRSTlMAQObYZgAAAOBJREFU\n",
       "GNNjYGB4+//u3Tt/GNAASGAXmhjnPyDBgSbI/g1IxKEJ8nxgYGdgQRPkX8BgDKRY6q7s62OYvmze\n",
       "2wAgb/7ZO1+AVDiDkYEQQ0HTBr4DQF59AgOIKmB4z7CNbcNZBu6vQN55kEACQwDDLQYGVobfDHwg\n",
       "fb8YGBxYHwAZciD3fWXg+gB1JjvQcJZvQIXsCgz8F6DO9GBgMOH7wPCUgaeBwd4B7EwGNjUG7s9c\n",
       "AiwPgO5jkWRgiF3/9+5dfQUG1nWl5Y+B7pv+1gE9bBhqGLCAE1jEWH9jEbT5A3IwAC4sP/1L6Qlu\n",
       "AAAAAElFTkSuQmCC\n",
       "\" style=\"display:inline;vertical-align:middle;\" /></a></td></tr>\n",
       "<tr><td>8</td><td>ExprTuple</td><td>9, 10</td><td><a class=\"ProveItLink\" href=\"../e291b8cc1d145060c3954e47279c1a346a2a8f2d0/expr.ipynb\"><img src=\"data:image/png;base64,iVBORw0KGgoAAAANSUhEUgAAAC8AAAAVBAMAAAAk6KpUAAAAMFBMVEX////c3NwiIiJERESqqqqY\n",
       "mJh2dnZmZmYQEBDu7u4yMjJUVFTMzMyIiIi6uroAAAAs73DqAAAAAXRSTlMAQObYZgAAASpJREFU\n",
       "KM91kb9Lw0AUxz/RxjY2De4uLi4iCEIRt/wHZnLUbC5KnbpkKaKrHAjaRcwiqItFcRUnHUToJqJD\n",
       "rZsg/phEQX2XkyRQPbjHu+/n7n3v3cG/w2v3anM6XMqsjB2uTP2Km/VFimeS7IP73HFqt0a3xjmC\n",
       "WDZLpeAECp8G9IUcwCyUFLZqiBIZMK90bMIjFK2W5NsG7CWx36cOW16YXejj6tqHgWV24bwQpLrz\n",
       "FjAqjjHrArwc+IaawmvwBRtumDsh/j7uiwaDqpXzENDWYBXsUAPHgMnkhJSqyqL6JKGrEjSTeNgx\n",
       "C7IoH984D9PsjOgOQmctuW5Xb7uYeD+Vdl91HkUdse1QGsqM79OsqZ0zkLWzZJ69Bzjy7AyneiXN\n",
       "yrq+9cfX3sEPlLVIbOnCRWQAAAAASUVORK5CYII=\n",
       "\" style=\"display:inline;vertical-align:middle;\" /></a></td></tr>\n",
       "<tr><td>9</td><td>Literal</td><td></td><td><a class=\"ProveItLink\" href=\"../../../sets/complex/__pv_it/c357845f93a5a2d9f649129d299e7ec28dda4b960/expr.ipynb\"><img src=\"data:image/png;base64,iVBORw0KGgoAAAANSUhEUgAAAA8AAAAOBAMAAAACpFvcAAAAMFBMVEX////c3NyqqqqYmJhUVFR2\n",
       "dnbu7u66urrMzMxmZmZEREQQEBAyMjIiIiKIiIgAAAB7fvZ0AAAAAXRSTlMAQObYZgAAAGVJREFU\n",
       "CNdjYGDgu3N+70oGBgaO+gK2+CdAhoEzAwPTFwYG5oQNQN4UBgZORgcgI4+BIZM9gAEMWpkMoAx2\n",
       "KCOLAyrFk+AAYTAHgBhsQLy4DkjUJjAwsHg9Y6taBpLsvP/bnYEBACkBFGQfBv8RAAAAAElFTkSu\n",
       "QmCC\n",
       "\" style=\"display:inline;vertical-align:middle;\" /></a></td></tr>\n",
       "<tr><td>10</td><td>Literal</td><td></td><td><a class=\"ProveItLink\" href=\"../../../numeral/__pv_it/09b499e53e24cf89c2513ba78b501f0314edaa680/expr.ipynb\"><img src=\"data:image/png;base64,iVBORw0KGgoAAAANSUhEUgAAAAoAAAAOBAMAAADkjZCYAAAAMFBMVEX///+6urpERESqqqqIiIgQ\n",
       "EBCYmJgyMjJUVFQiIiLc3NzMzMxmZmZ2dnbu7u4AAABf+mkYAAAAAXRSTlMAQObYZgAAAFNJREFU\n",
       "CNdjYOC7c3cDA8PKDRwTGBjmMrAXMLD9YwAC9gAQyV/tcpiB4f00Bs4EhvcfGHj/MbyfwMD2mYEf\n",
       "qOwLAxOYzQwWZ9BleJrAwMDT08gAANMyF0ZGTeKAAAAAAElFTkSuQmCC\n",
       "\" style=\"display:inline;vertical-align:middle;\" /></a></td></tr>\n",
       "</table>\n"
      ],
      "text/plain": [
       "0. (a , a , a , a , a , b) in Complexes^{6}\n",
       "   core type: Operation\n",
       "   operator: 1\n",
       "   operands: 2\n",
       "1. in\n",
       "   core type: Literal\n",
       "   sub-expressions: \n",
       "2. ((a , a , a , a , a , b) , Complexes^{6})\n",
       "   core type: ExprTuple\n",
       "   sub-expressions: 3, 4\n",
       "3. (a , a , a , a , a , b)\n",
       "   core type: ExprTuple\n",
       "   sub-expressions: 5, 5, 5, 5, 5, 6\n",
       "4. Complexes^{6}\n",
       "   core type: Operation\n",
       "   operator: 7\n",
       "   operands: 8\n",
       "5. a\n",
       "   core type: Variable\n",
       "   sub-expressions: \n",
       "6. b\n",
       "   core type: Variable\n",
       "   sub-expressions: \n",
       "7. Exp\n",
       "   core type: Literal\n",
       "   sub-expressions: \n",
       "8. (Complexes , 6)\n",
       "   core type: ExprTuple\n",
       "   sub-expressions: 9, 10\n",
       "9. Complexes\n",
       "   core type: Literal\n",
       "   sub-expressions: \n",
       "10. 6\n",
       "    core type: Literal\n",
       "    sub-expressions: "
      ]
     },
     "execution_count": 4,
     "metadata": {},
     "output_type": "execute_result"
    }
   ],
   "source": [
    "# display the expression information\n",
    "expr.exprInfo()"
   ]
  },
  {
   "cell_type": "code",
   "execution_count": null,
   "metadata": {},
   "outputs": [],
   "source": []
  }
 ],
 "metadata": {
  "kernelspec": {
   "display_name": "Python 3",
   "language": "python",
   "name": "python3"
  }
 },
 "nbformat": 4,
 "nbformat_minor": 0
}
