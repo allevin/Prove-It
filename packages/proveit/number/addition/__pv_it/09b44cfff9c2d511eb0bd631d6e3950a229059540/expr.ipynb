{
 "cells": [
  {
   "cell_type": "markdown",
   "metadata": {},
   "source": [
    "Expression of type <a class=\"ProveItLink\" href=\"../../../../../../doc/html/api/proveit.logic.Equals.html\">Equals</a>\n",
    "=======================\n",
    "# from context <a class=\"ProveItLink\" href=\"../../_context_.ipynb\">proveit.number.addition</a>"
   ]
  },
  {
   "cell_type": "code",
   "execution_count": 1,
   "metadata": {},
   "outputs": [],
   "source": [
    "# import Expression classes needed to build the expression\n",
    "from proveit._common_ import a, b, c\n",
    "from proveit.logic import Equals\n",
    "from proveit.number import Add"
   ]
  },
  {
   "cell_type": "code",
   "execution_count": 2,
   "metadata": {},
   "outputs": [
    {
     "data": {
      "text/html": [
       "<strong id=\"expr\">expr:</strong> <a class=\"ProveItLink\" href=\"expr.ipynb\"><img src=\"data:image/png;base64,iVBORw0KGgoAAAANSUhEUgAAAwwAAAAVBAMAAAAZYHSGAAAAMFBMVEX////c3NwiIiJERESqqqqY\n",
       "mJh2dnZmZmYQEBDu7u4yMjJUVFTMzMyIiIi6uroAAAAs73DqAAAAAXRSTlMAQObYZgAAA8lJREFU\n",
       "aN7tmU1IVFEUx486zpsZ03HvImljm8BFLSNpGYmzbiUuapMxELmwoIxwESTjJiQXiuDCEcKgKIJB\n",
       "oU3golkVUSPSSiJRUAnBojvj/Xjnnnfffd55ShO9hTP8Ofd/zu/dz7kC/H/+iqej3JBlt67/Wyir\n",
       "rq2nH9YfkX7T7Zr+HpVW43s1cZQeGa6KsuBc6mIMEZkl1+wZKi3EOETjKD0qHENpRxN5knZpp1HZ\n",
       "NYZMahHUVwjZPnueYKF1UG9QB4oZLkLpkyYTMxxBSRX8Qj+pPVE2KR37xpB+LYL6CmGrYM1jENIP\n",
       "9AbuKCFwEUrvN5mY4QjKd3CtPdlt6wYZYWYZAtdugPN6A3eUELgIpRu7YSg6ygj721S6NYYdlSIa\n",
       "UCVT+pLDnk+HvyIbGSF909crK0hYrLyy5ZG2Uuj6uMEm9Q2d3h2FOwbBSR8dTpVO4IQJgTOjzLPv\n",
       "G50t29hRKaIBVWZ64QAJpyZgDtnICOn7fj3T7RfSO5BdseSRtnLBGINL7ONK9btXrD21vdAdhTsG\n",
       "wQkfAqdKJ3DchMKZUSbY6NgDrxel8Cm8AVVgoADjSJgqwwVkIyNk6U+gJecXEvuQGrTkkbZCOJ2D\n",
       "29W3qc8GdxTuGAQnfAicKp3AcRMCF4LyG6BtG5rLKIVP4Q2oAqMAP5GwrC+fMsLniyO8WcjmLXmW\n",
       "9QWVCefYxwe9G9xRuGMQnPAhcKp0AsdNCFwICqs92wsz1ckzWiyeLRarB2ahsCk/97g25akCPdCx\n",
       "h4QdTiBtDiOwL45ozsNWzpLn0BYJ6QNDNziicEcC5/MhcLx0AqdMCFwIyiM2M8owAAV/x/oU3m9U\n",
       "YSdrbx9N9l/6gJERPl8cwU7W9y15lK0SEttpvih5Z2pP7Q04owjHIDjuQ+FU6QSOmxC4EBS2Vs30\n",
       "wdsE2m18Cm9AFbaFaSsfGz6tqFIZIUtngwPtDWwLGwdLHmkrdr5daJu9CnBNnw3OKMIxCE74EDhV\n",
       "OoET3aDDhaCwY18ml+hJ4pOmUngDqsBLuIuF1wA3kY2MkMtnHpLoJbX1eUu2PNJWCPNwOT8YcGB1\n",
       "R+GOQXDCh8Cp0gmc2IR0uBCUb9Vz9Nq7NXy8UIqYPkSB6U85LHjDlQKykRHyTDdS+YyPTqU7YMsj\n",
       "bYXQVflxcR3gud4N7ijcMQhO7sg6nCqdwImxrsOFoKQ66/7pafwVfRQhjsuM+lGOicWOgm/INiPc\n",
       "4ROFhmweXThyniRpEAPKMbFEQInzdvgkn2fHe9F90ihdDVr7Cyo1MkpTY/7nsH2Fao2L8geaLnYg\n",
       "1w3+0AAAAABJRU5ErkJggg==\n",
       "\" style=\"display:inline;vertical-align:middle;\" /></a><br>"
      ],
      "text/plain": [
       "expr: (a + a + a + b + c + b + c + b + a + c + a) = (a + a + a + a + b + c + b + c + b + c + a)"
      ]
     },
     "execution_count": 2,
     "metadata": {},
     "output_type": "execute_result"
    }
   ],
   "source": [
    "# build up the expression from sub-expressions\n",
    "expr = Equals(Add(a, a, a, b, c, b, c, b, a, c, a), Add(a, a, a, a, b, c, b, c, b, c, a))"
   ]
  },
  {
   "cell_type": "code",
   "execution_count": 3,
   "metadata": {},
   "outputs": [
    {
     "name": "stdout",
     "output_type": "stream",
     "text": [
      "Passed sanity check: built 'expr' is the same as the stored Expression.\n"
     ]
    }
   ],
   "source": [
    "# check that the built expression is the same as the stored expression\n",
    "%check_expr"
   ]
  },
  {
   "cell_type": "code",
   "execution_count": 4,
   "metadata": {},
   "outputs": [
    {
     "data": {
      "text/html": [
       "<table><tr><th>&nbsp;</th><th>core type</th><th>sub-expressions</th><th>expression</th></tr>\n",
       "<tr><td>0</td><td>Operation</td><td>operator:&nbsp;1<br>operands:&nbsp;2<br></td><td><a class=\"ProveItLink\" href=\"expr.ipynb\"><img src=\"data:image/png;base64,iVBORw0KGgoAAAANSUhEUgAAAwwAAAAVBAMAAAAZYHSGAAAAMFBMVEX////c3NwiIiJERESqqqqY\n",
       "mJh2dnZmZmYQEBDu7u4yMjJUVFTMzMyIiIi6uroAAAAs73DqAAAAAXRSTlMAQObYZgAAA8lJREFU\n",
       "aN7tmU1IVFEUx486zpsZ03HvImljm8BFLSNpGYmzbiUuapMxELmwoIxwESTjJiQXiuDCEcKgKIJB\n",
       "oU3golkVUSPSSiJRUAnBojvj/Xjnnnfffd55ShO9hTP8Ofd/zu/dz7kC/H/+iqej3JBlt67/Wyir\n",
       "rq2nH9YfkX7T7Zr+HpVW43s1cZQeGa6KsuBc6mIMEZkl1+wZKi3EOETjKD0qHENpRxN5knZpp1HZ\n",
       "NYZMahHUVwjZPnueYKF1UG9QB4oZLkLpkyYTMxxBSRX8Qj+pPVE2KR37xpB+LYL6CmGrYM1jENIP\n",
       "9AbuKCFwEUrvN5mY4QjKd3CtPdlt6wYZYWYZAtdugPN6A3eUELgIpRu7YSg6ygj721S6NYYdlSIa\n",
       "UCVT+pLDnk+HvyIbGSF909crK0hYrLyy5ZG2Uuj6uMEm9Q2d3h2FOwbBSR8dTpVO4IQJgTOjzLPv\n",
       "G50t29hRKaIBVWZ64QAJpyZgDtnICOn7fj3T7RfSO5BdseSRtnLBGINL7ONK9btXrD21vdAdhTsG\n",
       "wQkfAqdKJ3DchMKZUSbY6NgDrxel8Cm8AVVgoADjSJgqwwVkIyNk6U+gJecXEvuQGrTkkbZCOJ2D\n",
       "29W3qc8GdxTuGAQnfAicKp3AcRMCF4LyG6BtG5rLKIVP4Q2oAqMAP5GwrC+fMsLniyO8WcjmLXmW\n",
       "9QWVCefYxwe9G9xRuGMQnPAhcKp0AsdNCFwICqs92wsz1ckzWiyeLRarB2ahsCk/97g25akCPdCx\n",
       "h4QdTiBtDiOwL45ozsNWzpLn0BYJ6QNDNziicEcC5/MhcLx0AqdMCFwIyiM2M8owAAV/x/oU3m9U\n",
       "YSdrbx9N9l/6gJERPl8cwU7W9y15lK0SEttpvih5Z2pP7Q04owjHIDjuQ+FU6QSOmxC4EBS2Vs30\n",
       "wdsE2m18Cm9AFbaFaSsfGz6tqFIZIUtngwPtDWwLGwdLHmkrdr5daJu9CnBNnw3OKMIxCE74EDhV\n",
       "OoET3aDDhaCwY18ml+hJ4pOmUngDqsBLuIuF1wA3kY2MkMtnHpLoJbX1eUu2PNJWCPNwOT8YcGB1\n",
       "R+GOQXDCh8Cp0gmc2IR0uBCUb9Vz9Nq7NXy8UIqYPkSB6U85LHjDlQKykRHyTDdS+YyPTqU7YMsj\n",
       "bYXQVflxcR3gud4N7ijcMQhO7sg6nCqdwImxrsOFoKQ66/7pafwVfRQhjsuM+lGOicWOgm/INiPc\n",
       "4ROFhmweXThyniRpEAPKMbFEQInzdvgkn2fHe9F90ihdDVr7Cyo1MkpTY/7nsH2Fao2L8geaLnYg\n",
       "1w3+0AAAAABJRU5ErkJggg==\n",
       "\" style=\"display:inline;vertical-align:middle;\" /></a></td></tr>\n",
       "<tr><td>1</td><td>Literal</td><td></td><td><a class=\"ProveItLink\" href=\"../../../../logic/equality/__pv_it/2fb26078095930560931daa0500ce419a39ea6cd0/expr.ipynb\"><img src=\"data:image/png;base64,iVBORw0KGgoAAAANSUhEUgAAAA4AAAAFBAMAAACHocAhAAAAFVBMVEX///9EREQiIiJUVFQyMjJm\n",
       "ZmYAAADubVkoAAAAAXRSTlMAQObYZgAAABRJREFUCNdjCHEBAWcGXCBICQQUAUpuAwlgGKrkAAAA\n",
       "AElFTkSuQmCC\n",
       "\" style=\"display:inline;vertical-align:middle;\" /></a></td></tr>\n",
       "<tr><td>2</td><td>ExprTuple</td><td>3, 4</td><td><a class=\"ProveItLink\" href=\"../db3589f41627ecf52db5acb53b82aebcb19f08b10/expr.ipynb\"><img src=\"data:image/png;base64,iVBORw0KGgoAAAANSUhEUgAAAukAAAAVBAMAAAAJJW1zAAAAMFBMVEX////c3NwiIiJERESqqqqY\n",
       "mJh2dnZmZmYQEBDu7u4yMjJUVFTMzMyIiIi6uroAAAAs73DqAAAAAXRSTlMAQObYZgAAA6BJREFU\n",
       "WMPtmT9ME1Ecx79A/3Attt0ZZMPFhMXR2Djb0MnREAddxDQxMuCgGMNgIpbFkDDQkDB4LAwajQmB\n",
       "xMXEpZPGSAlxIkZCIxBDosZ34d5797tfr++1YIGEG8rjm+/7vt/n3d271x5wdhzHkamezUFHjxve\n",
       "x8d2e88+PrzDeTtwImaikyzJVfHxsu1SF4/AkVo6GRdgJ1kqwDmywEzzM5iLVHYjLdMhB8+VQjZv\n",
       "Hie6lKaV2yhmFuawYJlujnId6C0HhQKrK1aNUjL7kZZCyMFzpbBdNo7TpJSmldsoZhbmsGApNEeZ\n",
       "Ab6j3VlPDJhmXTmiK72JEzHr0SzMYcFimPWePMbEn67luxPUrxXZgSup5a9FmvlidI3EKIfKdW7V\n",
       "VomwWHttGkfFKqH/02Yu3OKV2yhmFuZQKWFazcJoKVyihAXxz2aup079WpEduDI3hN9E6JvCPIlR\n",
       "DpX7YSM1EBScHWRXDeOoWHWzT+BKuNWgchvFzMIcMoXRahZGS+FiFUyJM7CH5BAJCCh+B65guIxJ\n",
       "IsxUcYnEKIcq7Bl6ikEhto/eEcM4KlYK54u4F241qNxGMbMwh0xhtJqF0VK4zCP8BdJ1dFdJQEDx\n",
       "O3AF48AvIqyEVzrlCORSR7KCbMkwzkp4dRTCxXCrQeU2ipmFOWQKo9UsjJbC9dW9Wc8OYc67NcZd\n",
       "94LrevtSqSRdd/6p6y41UjCIzB4Rdvz6VMyBg+ZSR3cJ20XDOAexRHD8m122eOU2ipmFOQIpjNZn\n",
       "YbQMTsz6E3GfVjGMcvAsBRT/NHFFbGCT++T++RM++8oRyKUOscV9aBhHx2ohVndoq1HlNoqZhTn8\n",
       "FE6rWRgthRMrjFib5vJ4FyPPgYDid+CKeLjQJRniWoiTOpRDFSauBbKui8fPJAzjqFhfcHaRrlzz\n",
       "ps1vRVRuo5hZmEOmMFrNwmgpXLyC22JTVIwNJuiWTyt+B67gFR5Q4Q1wh8Qoh1rpSkiQCUjnk0um\n",
       "cVSsFBZwtTTi/JStqMptFDMLc8gURqtZGC2FEzvHb94ucv39On3Ka0XeckzB7OciFZKjtTKJUQ61\n",
       "lxqrfaGbmuX7MI2jYqXQX/txecN5nvNbUZXbKGYW5lAPzzCtZmG0FC61gd5cu99Nm1gKrQstj5PJ\n",
       "HeF3047CzYi1aSQobFn8/M4UbtlqXWh5nLgh0Eoxs/wHuNFD/dJ7vEf8tL7VcCreKnlKiz+1r8DS\n",
       "3tLYdfYGr7PHGvAPpzpSDEbKaQ8AAAAASUVORK5CYII=\n",
       "\" style=\"display:inline;vertical-align:middle;\" /></a></td></tr>\n",
       "<tr><td>3</td><td>Operation</td><td>operator:&nbsp;6<br>operands:&nbsp;5<br></td><td><a class=\"ProveItLink\" href=\"../901231d90fbac2e4f2c5736b6da06c181da8248c0/expr.ipynb\"><img src=\"data:image/png;base64,iVBORw0KGgoAAAANSUhEUgAAAWoAAAAQBAMAAADNOCjDAAAAMFBMVEX///8yMjKqqqrMzMzu7u4i\n",
       "IiJmZmaYmJhEREQQEBC6urp2dnaIiIhUVFTc3NwAAAD87Fq/AAAAAXRSTlMAQObYZgAAAi1JREFU\n",
       "SMe9lTFLHFEUhc+O40R32axTiJWwEOwELbXbNgSzWwmCxVopSMj8hO1shJAiTSIiWAmCQrBJLAYi\n",
       "FmaE1cIQWNA/IC66xC1S5Inz3rw7dybPHcUpP8495743d+4A2Z6ZT49X2L9reOZn9AkUueYTNPKW\n",
       "38ZFKrlOkzAF95WgVH54Mm8lfMYZsfw0ku+kSZiC+0qwU3l4Mm8lQ9eFmsleKdK73kPmrl+2vq3T\n",
       "2ohIKSe51rFH3d7s/0hWKF/7ezBJwGjwy5SsalTO5c8tMSxbFwNtWhsRKeWk2sANAX2fMZysUL7T\n",
       "G7maDuwuSpOGZFWjBm8dH8TxbuE0iLtGQiknmKjgCwGvfawkK1STaxjwdGB1MLj7/+SoRtpeeVgC\n",
       "im30+8RdI6GUEywAfwg4jw+gUmi+dIydIZTqxuSYrciZF9ungerda1pw3TnXvduxkjiuO/zRdZtJ\n",
       "BLPI3xLQvW8krqC+IKC/jh3PmByz7cIWg3flYwIV/cQaCQ/IiVjGTocM0d/4pSiF5kvvWqzr9+Zk\n",
       "aityrLaNahknFvkmNBJKOREfWjiSEoh7fZGsUE2KeyVzLT5FOvk8J6qRg36N4tAr5DxrtkBqNRJK\n",
       "OcEp3lFwBnxNVqipraNArqdYdpqG5KhG2o5grL4rVuTR1BHdIRGRr4URzBx6FDj7QSVZofbacnBA\n",
       "l0prEYbkqEaCy2BzdSPrv7GXX+9476CHP/o2I3nfSMyA+25nSCbgH/Ne+py4sfjpAAAAAElFTkSu\n",
       "QmCC\n",
       "\" style=\"display:inline;vertical-align:middle;\" /></a></td></tr>\n",
       "<tr><td>4</td><td>Operation</td><td>operator:&nbsp;6<br>operands:&nbsp;7<br></td><td><a class=\"ProveItLink\" href=\"../a8abcd9974c8540b247b99474f6da57319c6f7ae0/expr.ipynb\"><img src=\"data:image/png;base64,iVBORw0KGgoAAAANSUhEUgAAAWoAAAAQBAMAAADNOCjDAAAAMFBMVEX///8yMjKqqqrMzMzu7u4i\n",
       "IiJmZmaYmJhEREQQEBC6urp2dnaIiIhUVFTc3NwAAAD87Fq/AAAAAXRSTlMAQObYZgAAAiZJREFU\n",
       "SMetlbFrE1Ecx7+5Xs+a0KQ3FKdCQNwKzahbVpGaTAXBIZ0URLw/IZuLIA4uKqXgVChUkC61w4Hi\n",
       "UE+IDpZCoPkHSkMSbAcHU3zv7r7v965JbN744ZPv9/fevdwB01qrr0cZ7lH9ysbU19JII9e6uiHW\n",
       "fbn3zgSkl6no4FI5q0kYIkSmqrUsiBOOT/KDTEUH71SzmoQhQmTqVKYu1EdOvYtRU+9izKmL7b0N\n",
       "/mlCtCoJTr5tdYjk2t8DVu7tf+bgpeiQgfspqtgNHRIbRvFWZ67LWQnRqiT5DbxkUmuiT2DmDRYp\n",
       "2D1HiYe8s5mr2w0dEhtcXDyD16TwFFGqJDgN8JjJShVvCdwN8ZyCnQGuf6Ah32EusBsqJDG4eL6L\n",
       "2ZDCU0SpkuAYeMhkHfhtKnxrvQWUGkZTlpE0w1ZcaqJ28VDWff+B71+8czXxfH/xle+3bATncPtM\n",
       "1pA/M5R/u4mDZxvYCYwmq0HNsBWfhlhBNb3hFFEblKT4B07XpUPowRsYinGSw5fxM7Mpy0ia+axV\n",
       "ca2MHw79R1JEqZK4Pcwv3KSp+8aVxPDkr/FMFXXzYzA818BuqJDE4OJc4KwVKCtFlCoJbuBWg4f8\n",
       "iaes/AI+8h+m7LUYNFCo2A19r2ODi4vtg9sH/A5JiH4sguAkev9ik8jq14AVbz+q8puv/cj4qDyJ\n",
       "vmQYOiQ2ZPFUvo2XKMuTg/G/6NuC5MP/IFLZnhxcnvoXSZf5JeTedWkAAAAASUVORK5CYII=\n",
       "\" style=\"display:inline;vertical-align:middle;\" /></a></td></tr>\n",
       "<tr><td>5</td><td>ExprTuple</td><td>10, 10, 10, 8, 9, 8, 9, 8, 10, 9, 10</td><td><a class=\"ProveItLink\" href=\"../5419325ea9231c45ad5ae0c1301d806de094128e0/expr.ipynb\"><img src=\"data:image/png;base64,iVBORw0KGgoAAAANSUhEUgAAANUAAAAVBAMAAAAjhrYEAAAAMFBMVEX////c3NwiIiJERESqqqqY\n",
       "mJh2dnZmZmYQEBDu7u4yMjJUVFTMzMyIiIi6uroAAAAs73DqAAAAAXRSTlMAQObYZgAAAi9JREFU\n",
       "SMe9ljFoE1EYx/9pLrm8XJO73aHZOglZHMXgLPQmRwkOuhg5EDvooBXpZs0khQ45hA6lSwelRQgG\n",
       "XASXTIroldSpiNBoWyRQxe+9u8t7veN4t5gMl//75fi9vO++9xJglq/6cCbT3OCXD7q7Np7oCdtr\n",
       "aCzmgC5b2q+0nYNUd3QWH6jpS3iSg9gtneU6UOlqH+hET3Ck1awD37XLKjf0BDe1mmILy/RW6N9d\n",
       "iciFj4dOIlX7X9wQveh8zSDYDl6HQbrYrWCgoLKHTRocOsVxVJ0VXEmmXhNnIsyv4WUGYcewQ7F0\n",
       "vR9VGwoyfKzRvKcwm+HnCy7uJdNSF6thxYe4lEGMCSptsYapiz1D0VVQ/TH+AtYYc1E3vgUuJtMD\n",
       "4HeMsojpw/Z4kC4rWl6M5sd8LruJXlgAHIOdJdMi6qcRQhaZ83AkFiFddjPeDiGiuZ5SuYZYgujZ\n",
       "wh8YY3Y+0WYyJxGabq8koe31SBikayHeuBGiGlK9ey28MQZczE5g+df4vTJRG9Cj4IHWUsog1Bir\n",
       "4AbpsmmdrkQo+bhNLewai2X0eNNs4qrXZr/OpVd4CBF2gTsZxGqZO8IgXZaH8kAi3vPfeP/vv9vH\n",
       "+k++qYIfl0fsuaOmjU8uRDA7QTeDsP59CIPiWg4+KwjVESpOXPMDeQY5qZQnKIaDNKIzqtSOB+4U\n",
       "l9IpT1AMbhp11N+U/zsX8/kjigY1eUwO0ylPkIZaGlm80oXZ/AegM/ofPdfgHUTZzvcAAAAASUVO\n",
       "RK5CYII=\n",
       "\" style=\"display:inline;vertical-align:middle;\" /></a></td></tr>\n",
       "<tr><td>6</td><td>Literal</td><td></td><td><a class=\"ProveItLink\" href=\"../3e6688136fa3c7aefbebe51301b7c3ebf0b69c440/expr.ipynb\"><img src=\"data:image/png;base64,iVBORw0KGgoAAAANSUhEUgAAAA4AAAAOBAMAAADtZjDiAAAAJFBMVEX///+6urpUVFQQEBAiIiIy\n",
       "MjJmZmaIiIiqqqrc3Nzu7u4AAACgHpL+AAAAAXRSTlMAQObYZgAAAB5JREFUCNdjYGBgWMkAAe2k\n",
       "0Kmhoc6hoUGk6BMHYgAHOwjcado9fwAAAABJRU5ErkJggg==\n",
       "\" style=\"display:inline;vertical-align:middle;\" /></a></td></tr>\n",
       "<tr><td>7</td><td>ExprTuple</td><td>10, 10, 10, 10, 8, 9, 8, 9, 8, 9, 10</td><td><a class=\"ProveItLink\" href=\"../706c317608e9c65e7562a132da234624baaf494a0/expr.ipynb\"><img src=\"data:image/png;base64,iVBORw0KGgoAAAANSUhEUgAAANUAAAAVBAMAAAAjhrYEAAAAMFBMVEX////c3NwiIiJERESqqqqY\n",
       "mJh2dnZmZmYQEBDu7u4yMjJUVFTMzMyIiIi6uroAAAAs73DqAAAAAXRSTlMAQObYZgAAAjFJREFU\n",
       "SMe9ljFIG1EYx/8xl1xezuRu71A3p0IWx9LgLHhTRwkO7dKUg1KHdmgVcatmEsEhR8FBXBwqihB6\n",
       "0KXQJVNLaU/STlIKXqsiAZW+d+9d4ov3LsnQZLj83498/y/f9773EmCUr2JzJGnm2OPT4J/fXOpP\n",
       "yMFEbKzu0cf2EF9uZwCS342PdYHCMC08G4CY5fjYh0CuNsTWtvsTnCgMN4BfQ5SVnehPMK8ITpex\n",
       "QN9SjaeLgtz5fGwpVb7xzeZovfq9h5BHvsd30N/rIdw+62CLLo6tdCB6sogHalUv4TIU46t4KxN8\n",
       "bOXDGskpTE8iwl5zsUrznkMv8Yi7Np6p1WwNK7z3TUzJhLxBOqxQayNXkYiwL77GNWAEGBPT+B64\n",
       "p1YvgIsI9RAjiM6RC9ORiLAfD1gus4Q6LxunIJdqNYniuUDoIaZoDMYcnNgSEfY01zJtUhOzCCc1\n",
       "dQUtICpFD5PeFqhzvDhhHp3j9aomEWFPe0j7Xi/jUPOYHTmD4c6wvHGKjgHdCiZoLRmZmLQWm1nQ\n",
       "wVgBuUm4PTIuHtPBtbXJLOpsaLYw7VTIX4V6h5cIxT7wRCaGg6zHLIyyvht6dQi3ZzP/k83/0Ycj\n",
       "bPxhR8n/fb9F1qx4tfnFRij0ql+TCRb8r6EFaTwH94oIt0e+hZwV9f5H9+axElSC6FrcFuyOylSi\n",
       "hd3BmSSVILoWtwWqN39T/m8u4rItEotC95psJqkEUVALGKzRqdH8B6B39T9X197E1YlhjgAAAABJ\n",
       "RU5ErkJggg==\n",
       "\" style=\"display:inline;vertical-align:middle;\" /></a></td></tr>\n",
       "<tr><td>8</td><td>Variable</td><td></td><td><a class=\"ProveItLink\" href=\"../../../../__pv_it/6840a4fa6c106149dc16a131294d0c5e44f1b0480/expr.ipynb\"><img src=\"data:image/png;base64,iVBORw0KGgoAAAANSUhEUgAAAAkAAAAOBAMAAAAPuiubAAAALVBMVEX///9mZmbMzMxERESYmJiI\n",
       "iIh2dna6urqqqqoyMjIiIiIQEBBUVFTu7u4AAAD9S1JeAAAAAXRSTlMAQObYZgAAAE1JREFUCNdj\n",
       "4D29gAEIOA+ASL4GEFl3AURmgQiGOaFHGBh4HzPwKTBwvGXgTmBgnMDAJ8DAJcBQ5wBSLncBJLWN\n",
       "gYGngRFoBO9REQYGAGrcDtUkVqASAAAAAElFTkSuQmCC\n",
       "\" style=\"display:inline;vertical-align:middle;\" /></a></td></tr>\n",
       "<tr><td>9</td><td>Variable</td><td></td><td><a class=\"ProveItLink\" href=\"../../../../__pv_it/cbdfda466482236edba0ce44ac7ef39cda0af7a40/expr.ipynb\"><img src=\"data:image/png;base64,iVBORw0KGgoAAAANSUhEUgAAAAkAAAAJBAMAAAASvxsjAAAALVBMVEX///9mZmbc3NxUVFSYmJhE\n",
       "REQiIiIyMjK6uroQEBDMzMyIiIh2dnbu7u4AAABgFDGoAAAAAXRSTlMAQObYZgAAADZJREFUCNdj\n",
       "YOA9s3sBA8PKBvYEBt7ZDKwODMwPGICALwBE6m0Asx0YGIDiAgw8QJUyu/cyAAAmuwmycZ8WfQAA\n",
       "AABJRU5ErkJggg==\n",
       "\" style=\"display:inline;vertical-align:middle;\" /></a></td></tr>\n",
       "<tr><td>10</td><td>Variable</td><td></td><td><a class=\"ProveItLink\" href=\"../../../../__pv_it/07527342713064c87612d00d8557c53d53d5324a0/expr.ipynb\"><img src=\"data:image/png;base64,iVBORw0KGgoAAAANSUhEUgAAAAsAAAAJBAMAAAAWSsseAAAAMFBMVEX///8yMjKqqqrMzMzu7u4i\n",
       "IiJmZmaYmJhEREQQEBC6urp2dnaIiIhUVFTc3NwAAAD87Fq/AAAAAXRSTlMAQObYZgAAAEhJREFU\n",
       "CNdjYOC7s2seAwPDygccHxgY+L4zsDUwMPB+YGA9wMDA38Dgb8DA8P4Agz6DA4O/AsNFJgMGxgKm\n",
       "MG6gyjunLE4xAAAZTBA5TB6DCwAAAABJRU5ErkJggg==\n",
       "\" style=\"display:inline;vertical-align:middle;\" /></a></td></tr>\n",
       "</table>\n"
      ],
      "text/plain": [
       "0. (a + a + a + b + c + b + c + b + a + c + a) = (a + a + a + a + b + c + b + c + b + c + a)\n",
       "   core type: Operation\n",
       "   operator: 1\n",
       "   operands: 2\n",
       "1. =\n",
       "   core type: Literal\n",
       "   sub-expressions: \n",
       "2. (a + a + a + b + c + b + c + b + a + c + a , a + a + a + a + b + c + b + c + b + c + a)\n",
       "   core type: ExprTuple\n",
       "   sub-expressions: 3, 4\n",
       "3. a + a + a + b + c + b + c + b + a + c + a\n",
       "   core type: Operation\n",
       "   operator: 6\n",
       "   operands: 5\n",
       "4. a + a + a + a + b + c + b + c + b + c + a\n",
       "   core type: Operation\n",
       "   operator: 6\n",
       "   operands: 7\n",
       "5. (a , a , a , b , c , b , c , b , a , c , a)\n",
       "   core type: ExprTuple\n",
       "   sub-expressions: 10, 10, 10, 8, 9, 8, 9, 8, 10, 9, 10\n",
       "6. +\n",
       "   core type: Literal\n",
       "   sub-expressions: \n",
       "7. (a , a , a , a , b , c , b , c , b , c , a)\n",
       "   core type: ExprTuple\n",
       "   sub-expressions: 10, 10, 10, 10, 8, 9, 8, 9, 8, 9, 10\n",
       "8. b\n",
       "   core type: Variable\n",
       "   sub-expressions: \n",
       "9. c\n",
       "   core type: Variable\n",
       "   sub-expressions: \n",
       "10. a\n",
       "    core type: Variable\n",
       "    sub-expressions: "
      ]
     },
     "execution_count": 4,
     "metadata": {},
     "output_type": "execute_result"
    }
   ],
   "source": [
    "# display the expression information\n",
    "expr.exprInfo()"
   ]
  },
  {
   "cell_type": "code",
   "execution_count": null,
   "metadata": {},
   "outputs": [],
   "source": []
  }
 ],
 "metadata": {
  "kernelspec": {
   "display_name": "Python 3",
   "language": "python",
   "name": "python3"
  }
 },
 "nbformat": 4,
 "nbformat_minor": 0
}
