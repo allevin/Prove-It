{
 "cells": [
  {
   "cell_type": "markdown",
   "metadata": {},
   "source": [
    "Show the Proof\n",
    "========"
   ]
  },
  {
   "cell_type": "code",
   "execution_count": 1,
   "metadata": {},
   "outputs": [
    {
     "data": {
      "text/html": [
       "<table><tr><th>&nbsp;</th><th>step type</th><th>requirements</th><th>statement</th></tr>\n",
       "<tr><td>0</td><td>specialization</td><td>1, 2</td><td><span style=\"font-size:20px;\"><a class=\"ProveItLink\" href=\"../189338e298cf4d57dd9f71333f831f8b4371b93d0/expr.ipynb\"><img src=\"data:image/png;base64,iVBORw0KGgoAAAANSUhEUgAAAEMAAAAVBAMAAADvM06qAAAAMFBMVEX////c3NxERESqqqpUVFS6\n",
       "urrMzMwyMjIQEBCIiIh2dnYiIiLu7u5mZmaYmJgAAABXZE4RAAAAAXRSTlMAQObYZgAAASBJREFU\n",
       "KM9jYGDgu8eAC7CtEgBRPLsYcAO2ZhDJ+QGr5OzyH5suMDBcB7G5GrCpSP3KcOqnAwPDCpxK+Fge\n",
       "MDDYY1Vysnr3dhD9hgNI8GJTwlZ3AMK4IALyyARkJadWTgOxhaAqeC5EQTWBlfAWAHW3MlSD2Iow\n",
       "0xbYQVnvQURGAAPDiQkMeiDNCnAlcVAWO9DjKW1Ahj+Ez9q9ezfYuTwKWTDnqQO9FpHAwPAJqtkB\n",
       "JlHDAmVwLwASLAUMjD+hrtwAU/IKrOQA1C1cQPF/wMACsf1gSpieAj3MugfJ074MDMtA7NMBMDUu\n",
       "mgeOKh1AUsK7ciY4RBhrE2B+uv2/JYABWwQwu0MiAA5wRyOqEj68SsDphWcnvlTXCkkbi/GnXQDb\n",
       "NU35Uq2JoQAAAABJRU5ErkJggg==\n",
       "\" style=\"display:inline;vertical-align:middle;\" /></a> <a class=\"ProveItLink\" href=\"proof.ipynb\" style=\"text-decoration: none\">&#x22A2;&nbsp;</a><a class=\"ProveItLink\" href=\"../b3ef032456ce05ec94dec04a99292e0def0c97c90/expr.ipynb\"><img src=\"data:image/png;base64,iVBORw0KGgoAAAANSUhEUgAAAFUAAAAVBAMAAADFg78FAAAAMFBMVEX////c3NwiIiJERESqqqqY\n",
       "mJh2dnZmZmYQEBDu7u4yMjJUVFTMzMyIiIi6uroAAAAs73DqAAAAAXRSTlMAQObYZgAAAPlJREFU\n",
       "KM9jYCAF8F3AFIvDofY0EDNPQBVjP4Bd7UoGBk57NLUMC7Aq5b3AwLl7P7raMKxqOUDK7qOrnYFV\n",
       "7SsGbGqZHbCpLUNXy5l29wADWwGaMrDoUnS1Jx5wKTCwgDzHvgoMNsBF+xBqOUEkZy8DcwADXwOa\n",
       "sWDRfwi18xWABPcHEJPnA6paiCiS2hkGQILfAJtaiGgLmnvlwVEOdgO7EhgYwEVN0dTyBzAwBDCw\n",
       "okUcRDQdTS13AQMbZphBRB8BWeX9ywMQAX73JgMD1wP0aACJcghgiyHsccyagE00F2eaxACc2NMk\n",
       "gzQWMW4B7GoZseShO1hVAgAY1En4a/6nHwAAAABJRU5ErkJggg==\n",
       "\" style=\"display:inline;vertical-align:middle;\" /></a></span></td></tr>\n",
       "<tr><td>&nbsp;</td><td colspan=4 style=\"text-align:left\"><span style=\"font-size:20px;\"><a class=\"ProveItLink\" href=\"../../../../__pv_it/530be409e3083890784cf1d7b28c9e67e90af9360/expr.ipynb\"><img src=\"data:image/png;base64,iVBORw0KGgoAAAANSUhEUgAAAAsAAAAJBAMAAAAWSsseAAAAKlBMVEX///9ERETMzMwQEBAiIiKY\n",
       "mJju7u5mZmaqqqpUVFSIiIh2dnbc3NwAAAA/vyDhAAAAAXRSTlMAQObYZgAAAENJREFUCNdjYDi9\n",
       "8sTyBQxsG1hdmR0YuBm4LnAoMLAxcAowgADzAjB1VoEhgYH1wFoGrgSG3gBhhlMMDImrs3cFMAAA\n",
       "t0YN+iTRa+sAAAAASUVORK5CYII=\n",
       "\" style=\"display:inline;vertical-align:middle;\" /></a> : <a class=\"ProveItLink\" href=\"../../../../__pv_it/cbdfda466482236edba0ce44ac7ef39cda0af7a40/expr.ipynb\"><img src=\"data:image/png;base64,iVBORw0KGgoAAAANSUhEUgAAAAkAAAAJBAMAAAASvxsjAAAALVBMVEX///9mZmbc3NxUVFSYmJhE\n",
       "REQiIiIyMjK6uroQEBDMzMyIiIh2dnbu7u4AAABgFDGoAAAAAXRSTlMAQObYZgAAADZJREFUCNdj\n",
       "YOA9s3sBA8PKBvYEBt7ZDKwODMwPGICALwBE6m0Asx0YGIDiAgw8QJUyu/cyAAAmuwmycZ8WfQAA\n",
       "AABJRU5ErkJggg==\n",
       "\" style=\"display:inline;vertical-align:middle;\" /></a></span></td></tr><tr><td>1</td><td>theorem</td><td></td><td><span style=\"font-size:20px;\"> <a class=\"ProveItLink\" href=\"../../../multiplication/_proofs_/elimOneLeft.ipynb\" style=\"text-decoration: none\">&#x22A2;&nbsp;</a><a class=\"ProveItLink\" href=\"../dc48467fca55ebb3f643f29cc792ffb0f6f132e90/expr.ipynb\"><img src=\"data:image/png;base64,iVBORw0KGgoAAAANSUhEUgAAAKEAAAAVBAMAAADcJJPmAAAAMFBMVEX///8QEBC6urrMzMxUVFRm\n",
       "ZmZERETc3NwyMjKqqqp2dnaIiIiYmJgiIiLu7u4AAAAU9Wx4AAAAAXRSTlMAQObYZgAAAkJJREFU\n",
       "OMtjYKA6eIBPkmkDBGMAHgXsGg4B8QUQ4zQOE02gmA3D3mDsGlgNGBhWghh9OEzsg2C+fAwTOXDo\n",
       "aGBgKANS7AnYpbk3gDGfiz+GiTwLsGs5BbQMqJh1AnZpxgcQzLAfw0Q+AexaHgItW15eXovDCxpQ\n",
       "jMVEhkzsWtiAjvuWlnYLh4lRUIxiYtWWyq3A0FiKppZ9tfvsaAYGrgAGBmcGhnQcJvZAMbKJfAt4\n",
       "7jACE8gMECeiAwRaQMxXDGcPyDIwcAKjRoWBrwHZmDddvtFQphAUQ03kA5FcDNwfOIFpRBHN9gUM\n",
       "+xkmA1MvMHx5GbgPwOzfGnqA2ewBcxeU/wmKoSa+B6VdPgYWcMqwx8gpbiCK+QMweRzghflpm/q7\n",
       "BzzVDAxa2E18CElkjBuwmcjAIA0zka8BlCtWO20x4AGGKoMy0OnsUDWSUIwa1/UGoKwL9nXsXRC4\n",
       "Bomaz0D3g33NkO4EDJ0HbowTwPlg3zmE3hwoRjaRp2A/AzeQewLNhce5PzDsA0qD4mQqMHiYQHFq\n",
       "hW7iUihGNnH+gUSGagaM1MP5h02AfQMk9UDD5TsDg21aWtoGJWWEMl0oDpVvhUUew7Ndr1aDOE1o\n",
       "eSh73ao9oPwOKpR4QA5gFmBmeAKSYnmNCEfGAgjGAvDkQgiw52rgYmABaWaOKmDYjVQc4CgSuDZg\n",
       "N3E13C87o9cx8CWBE/+1FAW00gwLeIHdQNTMArQYGI4oAiVQjAncsZvIUkCgygDFHjs2/3EbYNew\n",
       "mYEBAPzUnwTFOCb/AAAAAElFTkSuQmCC\n",
       "\" style=\"display:inline;vertical-align:middle;\" /></a></span></td></tr>\n",
       "<tr><td>&nbsp;</td><td colspan=4 style-\"text-align:left\"><a class=\"ProveItLink\" href=\"../../../multiplication/_proofs_/elimOneLeft.ipynb\">proveit.number.multiplication.elimOneLeft</a></td></tr><tr><td>2</td><td>assumption</td><td></td><td><span style=\"font-size:20px;\"><a class=\"ProveItLink\" href=\"../189338e298cf4d57dd9f71333f831f8b4371b93d0/expr.ipynb\"><img src=\"data:image/png;base64,iVBORw0KGgoAAAANSUhEUgAAAEMAAAAVBAMAAADvM06qAAAAMFBMVEX////c3NxERESqqqpUVFS6\n",
       "urrMzMwyMjIQEBCIiIh2dnYiIiLu7u5mZmaYmJgAAABXZE4RAAAAAXRSTlMAQObYZgAAASBJREFU\n",
       "KM9jYGDgu8eAC7CtEgBRPLsYcAO2ZhDJ+QGr5OzyH5suMDBcB7G5GrCpSP3KcOqnAwPDCpxK+Fge\n",
       "MDDYY1Vysnr3dhD9hgNI8GJTwlZ3AMK4IALyyARkJadWTgOxhaAqeC5EQTWBlfAWAHW3MlSD2Iow\n",
       "0xbYQVnvQURGAAPDiQkMeiDNCnAlcVAWO9DjKW1Ahj+Ez9q9ezfYuTwKWTDnqQO9FpHAwPAJqtkB\n",
       "JlHDAmVwLwASLAUMjD+hrtwAU/IKrOQA1C1cQPF/wMACsf1gSpieAj3MugfJ074MDMtA7NMBMDUu\n",
       "mgeOKh1AUsK7ciY4RBhrE2B+uv2/JYABWwQwu0MiAA5wRyOqEj68SsDphWcnvlTXCkkbi/GnXQDb\n",
       "NU35Uq2JoQAAAABJRU5ErkJggg==\n",
       "\" style=\"display:inline;vertical-align:middle;\" /></a> <a class=\"ProveItLink\" href=\"../08a6ab8912b920685011303b094e9e153e831dcb0/proof.ipynb\" style=\"text-decoration: none\">&#x22A2;&nbsp;</a><a class=\"ProveItLink\" href=\"../c13cb7484c5c8cfdbfcfc08314313cc92059f30d0/expr.ipynb\"><img src=\"data:image/png;base64,iVBORw0KGgoAAAANSUhEUgAAADEAAAAPBAMAAAC/wjryAAAAMFBMVEX///+qqqpmZmbc3NxUVFSY\n",
       "mJhEREQiIiIyMjK6uroQEBDMzMyIiIh2dnbu7u4AAAA4MM1YAAAAAXRSTlMAQObYZgAAAMRJREFU\n",
       "GNNjYMAEPBX9y5OwiDNwz5/Ad/8INpkAVwYGxi9IAnwnyssbgDTrgwVAUgVJZkcchGZidgCSb0Bq\n",
       "757ZAKSY86AqHnFegLJ2TeAoAFJsBlD+XsYAqPFrGNhAzGcwU/dyQmVYPkDoWeXlEBc844aaxp8A\n",
       "obfA9HA8cIAw7A9A6OcwGdYLIBk+oB6gqSCDWQJgUqlzgMT0BwwsCgy8IFfzVcJkWNzO8U0D+UH3\n",
       "zDmwgIU2TGpT/S9PlPASaQe7DQYAhwcvp2pfo0QAAAAASUVORK5CYII=\n",
       "\" style=\"display:inline;vertical-align:middle;\" /></a></span></td></tr>\n",
       "</table>"
      ],
      "text/plain": [
       "<proveit._core_.proof._ShowProof at 0x7f94ea031f28>"
      ]
     },
     "execution_count": 1,
     "metadata": {},
     "output_type": "execute_result"
    }
   ],
   "source": [
    "import proveit\n",
    "%show_proof"
   ]
  },
  {
   "cell_type": "code",
   "execution_count": null,
   "metadata": {},
   "outputs": [],
   "source": []
  }
 ],
 "metadata": {
  "kernelspec": {
   "display_name": "Python 3",
   "language": "python",
   "name": "python3"
  }
 },
 "nbformat": 4,
 "nbformat_minor": 0
}
