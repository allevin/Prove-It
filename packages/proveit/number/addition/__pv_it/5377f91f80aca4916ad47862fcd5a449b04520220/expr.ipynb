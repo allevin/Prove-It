{
 "cells": [
  {
   "cell_type": "markdown",
   "metadata": {},
   "source": [
    "Expression of type <a class=\"ProveItLink\" href=\"../../../../../../doc/html/api/proveit.logic.InSet.html\">InSet</a>\n",
    "=======================\n",
    "# from context <a class=\"ProveItLink\" href=\"../../_context_.ipynb\">proveit.number.addition</a>"
   ]
  },
  {
   "cell_type": "code",
   "execution_count": 1,
   "metadata": {},
   "outputs": [],
   "source": [
    "# import Expression classes needed to build the expression\n",
    "from proveit._common_ import b\n",
    "from proveit.logic import InSet\n",
    "from proveit.number import Complexes, Exp, four"
   ]
  },
  {
   "cell_type": "code",
   "execution_count": 2,
   "metadata": {},
   "outputs": [
    {
     "data": {
      "text/html": [
       "<strong id=\"expr\">expr:</strong> <a class=\"ProveItLink\" href=\"expr.ipynb\"><img src=\"data:image/png;base64,iVBORw0KGgoAAAANSUhEUgAAAH4AAAAZBAMAAAAF/IdZAAAAMFBMVEX////c3NwiIiJERESqqqqY\n",
       "mJh2dnZmZmYQEBDu7u4yMjJUVFTMzMyIiIi6uroAAAAs73DqAAAAAXRSTlMAQObYZgAAAedJREFU\n",
       "OMullE0oBGEYx/8+1u5Yu+vMwbYOcpHCwUHtRYqDPSkO2lwcTQqFIslFaaMkGyvlsJRWUUobBzlQ\n",
       "yEWRQpFcJMSWr+eZeWc23v04zBym38z7/mee5/k/7wNYuQph7WoNWZIrPdb0rog1/T7r3afZttmu\n",
       "0ywEWX8EZdsr8pEA4TG6DUvKs9WPctVWzPoo2RAz/JAAa6lsOv7G7FdsAaR3Ufgev3gvA145geC/\n",
       "hJwB8i7WNDDSBweF8GSUUQZ3gtMZ1bO68PmWGNoddLNTiGUhPBJ2GR+WoUArRK3Gh+3ipVrKXzuF\n",
       "bXcT/Zzj1ZZIVoLC+CXF2s2YU2+0jXqfzGWFnl/g2dMWJECkGp9AM2NesZAUBRuT+ikgPwGHViEZ\n",
       "uMMngAfGGZj6u6T+myqxBI/KLAMGgXfghPHB59Prp1Qf/NHnqngKMMuACrjfhP7I1ESdSf24ZvZI\n",
       "SLj+D8h+e0LEP21q2jS9vqEOXKoJKEgFVDwuRAejM2Do8zqp6dyVGpM1Tj/1QsSbCrCJIQj/lCoz\n",
       "gJ2G0GKN/v9bWoj3AXPPqQDhc/7rura1xDxHRb0/k+JQOgxXb5AWRP+iZVnv3z9nwTgbZnYyFGQa\n",
       "EdHs+vlM06VUzDJzqEmAjUz6nKzzy7WXfu0XXaOYW8pmmOwAAAAASUVORK5CYII=\n",
       "\" style=\"display:inline;vertical-align:middle;\" /></a><br>"
      ],
      "text/plain": [
       "expr: (b , b , b , b) in Complexes^{4}"
      ]
     },
     "execution_count": 2,
     "metadata": {},
     "output_type": "execute_result"
    }
   ],
   "source": [
    "# build up the expression from sub-expressions\n",
    "expr = InSet([b, b, b, b], Exp(Complexes, four))"
   ]
  },
  {
   "cell_type": "code",
   "execution_count": 3,
   "metadata": {},
   "outputs": [
    {
     "name": "stdout",
     "output_type": "stream",
     "text": [
      "Passed sanity check: built 'expr' is the same as the stored Expression.\n"
     ]
    }
   ],
   "source": [
    "# check that the built expression is the same as the stored expression\n",
    "%check_expr"
   ]
  },
  {
   "cell_type": "code",
   "execution_count": 4,
   "metadata": {},
   "outputs": [
    {
     "data": {
      "text/html": [
       "<table><tr><th>&nbsp;</th><th>core type</th><th>sub-expressions</th><th>expression</th></tr>\n",
       "<tr><td>0</td><td>Operation</td><td>operator:&nbsp;1<br>operands:&nbsp;2<br></td><td><a class=\"ProveItLink\" href=\"expr.ipynb\"><img src=\"data:image/png;base64,iVBORw0KGgoAAAANSUhEUgAAAH4AAAAZBAMAAAAF/IdZAAAAMFBMVEX////c3NwiIiJERESqqqqY\n",
       "mJh2dnZmZmYQEBDu7u4yMjJUVFTMzMyIiIi6uroAAAAs73DqAAAAAXRSTlMAQObYZgAAAedJREFU\n",
       "OMullE0oBGEYx/8+1u5Yu+vMwbYOcpHCwUHtRYqDPSkO2lwcTQqFIslFaaMkGyvlsJRWUUobBzlQ\n",
       "yEWRQpFcJMSWr+eZeWc23v04zBym38z7/mee5/k/7wNYuQph7WoNWZIrPdb0rog1/T7r3afZttmu\n",
       "0ywEWX8EZdsr8pEA4TG6DUvKs9WPctVWzPoo2RAz/JAAa6lsOv7G7FdsAaR3Ufgev3gvA145geC/\n",
       "hJwB8i7WNDDSBweF8GSUUQZ3gtMZ1bO68PmWGNoddLNTiGUhPBJ2GR+WoUArRK3Gh+3ipVrKXzuF\n",
       "bXcT/Zzj1ZZIVoLC+CXF2s2YU2+0jXqfzGWFnl/g2dMWJECkGp9AM2NesZAUBRuT+ikgPwGHViEZ\n",
       "uMMngAfGGZj6u6T+myqxBI/KLAMGgXfghPHB59Prp1Qf/NHnqngKMMuACrjfhP7I1ESdSf24ZvZI\n",
       "SLj+D8h+e0LEP21q2jS9vqEOXKoJKEgFVDwuRAejM2Do8zqp6dyVGpM1Tj/1QsSbCrCJIQj/lCoz\n",
       "gJ2G0GKN/v9bWoj3AXPPqQDhc/7rura1xDxHRb0/k+JQOgxXb5AWRP+iZVnv3z9nwTgbZnYyFGQa\n",
       "EdHs+vlM06VUzDJzqEmAjUz6nKzzy7WXfu0XXaOYW8pmmOwAAAAASUVORK5CYII=\n",
       "\" style=\"display:inline;vertical-align:middle;\" /></a></td></tr>\n",
       "<tr><td>1</td><td>Literal</td><td></td><td><a class=\"ProveItLink\" href=\"../../../../logic/set_theory/membership/__pv_it/088cbc857536a28d4119ad9639a84270ccb0545d0/expr.ipynb\"><img src=\"data:image/png;base64,iVBORw0KGgoAAAANSUhEUgAAAAwAAAAMBAMAAACkW0HUAAAALVBMVEX///+qqqpmZmZUVFQQEBC6\n",
       "urpERETc3NyYmJjMzMwiIiIyMjKIiIju7u4AAACYsrA9AAAAAXRSTlMAQObYZgAAADxJREFUCNdj\n",
       "YOA9vWrVBgaG2b0MQMCeCyIZ2ArA1DUwyRCyahVIyWQI7xaEYm4AU7xLIdxqTQgtvGvVBgCkcQ7e\n",
       "geM/tQAAAABJRU5ErkJggg==\n",
       "\" style=\"display:inline;vertical-align:middle;\" /></a></td></tr>\n",
       "<tr><td>2</td><td>ExprTuple</td><td>3, 4</td><td><a class=\"ProveItLink\" href=\"../15db23c91b7b6e0f169f447519b13ace08d137890/expr.ipynb\"><img src=\"data:image/png;base64,iVBORw0KGgoAAAANSUhEUgAAAIIAAAAcBAMAAABfQXr9AAAAMFBMVEX///+qqqp2dnYiIiJERESI\n",
       "iIhmZmYQEBDc3NyYmJgyMjLu7u5UVFTMzMy6uroAAACGxKilAAAAAXRSTlMAQObYZgAAAhdJREFU\n",
       "OMutVU1IVFEU/hqbn9f8uBNq01u5zYVIEMEItghcDAi2cTEUBGXi31ZyFq1E8CmuEqJVoIY8ghBE\n",
       "nBESLIS0daTYIm2RipSGzOh377t3eDXvMjDjhfPud8+79+Pcd75zHlD7uIZ6x01XgV81EsRvubAF\n",
       "SBZqZAjnXXwVYMmtkWGLDOEMwUdaKlNtu7VT4bLJgNtAbIALBrM8rF4YQJ/vbNfcSWvWygmGHiCS\n",
       "pWue9la/Dwa+1H0r4d3vwnsIBlqU4cnbHOkNwcCyyxdKOMxkoelx/xOgwcE2fVGSpc7UBgOID2iG\n",
       "mSgfEWZwgsciaTzg8ict1KI2mEC7ZsiOC8IMrM+rDOgQn7h8KO651uN4WjWAZi2k7K7vozK+Tk6z\n",
       "tHwaRekzgRvqTNK+7mNIFvGG03NP5ENa7YHgR5lh38cQK6GNU4n2FPgjfSawrW+R/uIvjqMyQxtS\n",
       "f6XPBDQD5hP/xiDUMihzHjlTyQ8G+haYkgyqmmJFfOB0n1ZE1JZuA8BLEbM4dPUVBZi6o3Jxii54\n",
       "iVrFM8SPjcDblJfK2LjnrnSoGKiHA07fRfl0O4iP5kwAWKAtnspsPDof0aUaeo3GTao6p/VhBp6q\n",
       "9yp6ZQYJ21c1FowgJFuI8z9DPodki6ruKgxLCGSYVhUzrtblVlUJ1mVrrGhUd2ljIqtVu1x4M7j5\n",
       "if50xa7jl/FCPifrYOjFJYwLJByzeQ92rOsAAAAASUVORK5CYII=\n",
       "\" style=\"display:inline;vertical-align:middle;\" /></a></td></tr>\n",
       "<tr><td>3</td><td>ExprTuple</td><td>5, 5, 5, 5</td><td><a class=\"ProveItLink\" href=\"../2ba62e3eb23f89e07b64daca83f78eae52d7d4f00/expr.ipynb\"><img src=\"data:image/png;base64,iVBORw0KGgoAAAANSUhEUgAAAEsAAAAVBAMAAAD85A5eAAAAMFBMVEX////c3NwiIiJERESqqqqY\n",
       "mJh2dnZmZmYQEBDu7u4yMjJUVFTMzMyIiIi6uroAAAAs73DqAAAAAXRSTlMAQObYZgAAAPpJREFU\n",
       "KM+NkqFOA0EQhj/KtXfXo736mr4E/h7hFJJcMKgmZ8AWQZDNSRxrEARTQ4Ihqcf0AUoCSEzboDCE\n",
       "2dutKpPrit1v/53Nzvw7sOfoL5oiTu30Svw8cnsFwrnQA3Rn/p4CBnryZpp5UYETiCpYVV5U4Ba+\n",
       "ZDnbJqvAYcalLI9vT05UoFNyL+V8k87ruhQIDFMIfogKK2rQv+JXfDGkpRU1OFrbsFbJKreiBhJ2\n",
       "XXszqbxJ/4I8eoxN8oYYFWgbziHJwhl3IxWsIZ9S9cuFOL1Rge470cD7/YEK8lntwnOOCmPXSA1h\n",
       "sTQSQ8e97eEuJDavg8YmX8IfHm5n0mx9gwgAAAAASUVORK5CYII=\n",
       "\" style=\"display:inline;vertical-align:middle;\" /></a></td></tr>\n",
       "<tr><td>4</td><td>Operation</td><td>operator:&nbsp;6<br>operands:&nbsp;7<br></td><td><a class=\"ProveItLink\" href=\"../ac094b0dfa02191d356d43d28021b9ef452b8a820/expr.ipynb\"><img src=\"data:image/png;base64,iVBORw0KGgoAAAANSUhEUgAAABcAAAAUBAMAAACUkLs9AAAAMFBMVEX////c3NyqqqqYmJhUVFR2\n",
       "dnbu7u66urrMzMxmZmZEREQQEBAyMjIiIiKIiIgAAAB7fvZ0AAAAAXRSTlMAQObYZgAAAIhJREFU\n",
       "GNNjYICDAwgmA9M3JE4qMucZEodDDYnDygbm8N05v3clgyGYw1FfwBb/hO0BmGPgDDT2C9PMmT8N\n",
       "GJgTNgBFpjAwMAJlOBkdgJw8BgaTLwoMmewBCCNbmQyQOOxInCwOJGU8CQ4IDnMAiMMG5S2uAxK1\n",
       "CRAOi9cztqplMIWd93+7Q1gA8EUjI107FbAAAAAASUVORK5CYII=\n",
       "\" style=\"display:inline;vertical-align:middle;\" /></a></td></tr>\n",
       "<tr><td>5</td><td>Variable</td><td></td><td><a class=\"ProveItLink\" href=\"../../../../__pv_it/6840a4fa6c106149dc16a131294d0c5e44f1b0480/expr.ipynb\"><img src=\"data:image/png;base64,iVBORw0KGgoAAAANSUhEUgAAAAkAAAAOBAMAAAAPuiubAAAALVBMVEX///9mZmbMzMxERESYmJiI\n",
       "iIh2dna6urqqqqoyMjIiIiIQEBBUVFTu7u4AAAD9S1JeAAAAAXRSTlMAQObYZgAAAE1JREFUCNdj\n",
       "4D29gAEIOA+ASL4GEFl3AURmgQiGOaFHGBh4HzPwKTBwvGXgTmBgnMDAJ8DAJcBQ5wBSLncBJLWN\n",
       "gYGngRFoBO9REQYGAGrcDtUkVqASAAAAAElFTkSuQmCC\n",
       "\" style=\"display:inline;vertical-align:middle;\" /></a></td></tr>\n",
       "<tr><td>6</td><td>Literal</td><td></td><td><a class=\"ProveItLink\" href=\"../../../exponentiation/__pv_it/deb2bf23cbccdd6e6791e1b35b5b9794ce12dbd50/expr.ipynb\"><img src=\"data:image/png;base64,iVBORw0KGgoAAAANSUhEUgAAACgAAAASBAMAAADbMYGVAAAAMFBMVEX///8QEBAiIiKYmJjc3Nzu\n",
       "7u7MzMx2dnZmZma6urpERESqqqoyMjJUVFSIiIgAAAAoDOMTAAAAAXRSTlMAQObYZgAAAOBJREFU\n",
       "GNNjYGB4+//u3Tt/GNAASGAXmhjnPyDBgSbI/g1IxKEJ8nxgYGdgQRPkX8BgDKRY6q7s62OYvmze\n",
       "2wAgb/7ZO1+AVDiDkYEQQ0HTBr4DQF59AgOIKmB4z7CNbcNZBu6vQN55kEACQwDDLQYGVobfDHwg\n",
       "fb8YGBxYHwAZciD3fWXg+gB1JjvQcJZvQIXsCgz8F6DO9GBgMOH7wPCUgaeBwd4B7EwGNjUG7s9c\n",
       "AiwPgO5jkWRgiF3/9+5dfQUG1nWl5Y+B7pv+1gE9bBhqGLCAE1jEWH9jEbT5A3IwAC4sP/1L6Qlu\n",
       "AAAAAElFTkSuQmCC\n",
       "\" style=\"display:inline;vertical-align:middle;\" /></a></td></tr>\n",
       "<tr><td>7</td><td>ExprTuple</td><td>8, 9</td><td><a class=\"ProveItLink\" href=\"../15b4a43204f9952d371095f486ed6d4e815af8560/expr.ipynb\"><img src=\"data:image/png;base64,iVBORw0KGgoAAAANSUhEUgAAAC8AAAAVBAMAAAAk6KpUAAAAMFBMVEX////c3NwiIiJERESqqqqY\n",
       "mJh2dnZmZmYQEBDu7u4yMjJUVFTMzMyIiIi6uroAAAAs73DqAAAAAXRSTlMAQObYZgAAARpJREFU\n",
       "KM9jYMAJ+C5gisWBiNNAzKu1vskcJsqzgYH9AJBeCWS+f8CZfxsmwWTAwLAAqBhoUsBWBgaW3zCJ\n",
       "G0CJMAYGjgkMrBMagPxqqDhjFFBiBgPDKwYGdsYNQIG5UAk2LqAEswNDGQPDdL4EJBcFgiTYChiW\n",
       "MjAcYwlAiHNeAEmwLGDoA0rwIUmwMYAk+BoY/jEwTOZBMsoHLMHzASTBNWEDwqQEmEQLAwNrAkiC\n",
       "EyzBsnv3/u4LIKNMgTzTt0Di0QSIFAMHUAfrAoZ0IJN7803Ox5YM8xXgEkDnPgKxj+v/2Af07kew\n",
       "s/Z/D2DgesDAIYBw0UM4awbIZoQEwju5kGDHkOAEBjuDNFycF87iBpnPiCVq7zAwAAA1wEBM4bd1\n",
       "1AAAAABJRU5ErkJggg==\n",
       "\" style=\"display:inline;vertical-align:middle;\" /></a></td></tr>\n",
       "<tr><td>8</td><td>Literal</td><td></td><td><a class=\"ProveItLink\" href=\"../../../sets/complex/__pv_it/c357845f93a5a2d9f649129d299e7ec28dda4b960/expr.ipynb\"><img src=\"data:image/png;base64,iVBORw0KGgoAAAANSUhEUgAAAA8AAAAOBAMAAAACpFvcAAAAMFBMVEX////c3NyqqqqYmJhUVFR2\n",
       "dnbu7u66urrMzMxmZmZEREQQEBAyMjIiIiKIiIgAAAB7fvZ0AAAAAXRSTlMAQObYZgAAAGVJREFU\n",
       "CNdjYGDgu3N+70oGBgaO+gK2+CdAhoEzAwPTFwYG5oQNQN4UBgZORgcgI4+BIZM9gAEMWpkMoAx2\n",
       "KCOLAyrFk+AAYTAHgBhsQLy4DkjUJjAwsHg9Y6taBpLsvP/bnYEBACkBFGQfBv8RAAAAAElFTkSu\n",
       "QmCC\n",
       "\" style=\"display:inline;vertical-align:middle;\" /></a></td></tr>\n",
       "<tr><td>9</td><td>Literal</td><td></td><td><a class=\"ProveItLink\" href=\"../../../numeral/__pv_it/23412ce59ea7e77353d2f9225e02248e73651ca00/expr.ipynb\"><img src=\"data:image/png;base64,iVBORw0KGgoAAAANSUhEUgAAAAoAAAAPBAMAAAAv0UM9AAAALVBMVEX///9mZmaqqqru7u52dnYy\n",
       "MjKYmJjc3NwQEBCIiIhEREQiIiJUVFTMzMwAAACUDTcXAAAAAXRSTlMAQObYZgAAAD5JREFUCNdj\n",
       "YGBguMMAArtABGcXiCyLApEOIJKtAERaMoBIBxDJdAFEmjCASJ0zZ16cBCkF64KQPu/EwBwGACv6\n",
       "DSRgin9qAAAAAElFTkSuQmCC\n",
       "\" style=\"display:inline;vertical-align:middle;\" /></a></td></tr>\n",
       "</table>\n"
      ],
      "text/plain": [
       "0. (b , b , b , b) in Complexes^{4}\n",
       "   core type: Operation\n",
       "   operator: 1\n",
       "   operands: 2\n",
       "1. in\n",
       "   core type: Literal\n",
       "   sub-expressions: \n",
       "2. ((b , b , b , b) , Complexes^{4})\n",
       "   core type: ExprTuple\n",
       "   sub-expressions: 3, 4\n",
       "3. (b , b , b , b)\n",
       "   core type: ExprTuple\n",
       "   sub-expressions: 5, 5, 5, 5\n",
       "4. Complexes^{4}\n",
       "   core type: Operation\n",
       "   operator: 6\n",
       "   operands: 7\n",
       "5. b\n",
       "   core type: Variable\n",
       "   sub-expressions: \n",
       "6. Exp\n",
       "   core type: Literal\n",
       "   sub-expressions: \n",
       "7. (Complexes , 4)\n",
       "   core type: ExprTuple\n",
       "   sub-expressions: 8, 9\n",
       "8. Complexes\n",
       "   core type: Literal\n",
       "   sub-expressions: \n",
       "9. 4\n",
       "   core type: Literal\n",
       "   sub-expressions: "
      ]
     },
     "execution_count": 4,
     "metadata": {},
     "output_type": "execute_result"
    }
   ],
   "source": [
    "# display the expression information\n",
    "expr.exprInfo()"
   ]
  },
  {
   "cell_type": "code",
   "execution_count": null,
   "metadata": {},
   "outputs": [],
   "source": []
  }
 ],
 "metadata": {
  "kernelspec": {
   "display_name": "Python 3",
   "language": "python",
   "name": "python3"
  }
 },
 "nbformat": 4,
 "nbformat_minor": 0
}
