{
 "cells": [
  {
   "cell_type": "markdown",
   "metadata": {},
   "source": [
    "Expression of type <a class=\"ProveItLink\" href=\"../../../../../../doc/html/api/proveit.number.Add.html\">Add</a>\n",
    "=======================\n",
    "# from context <a class=\"ProveItLink\" href=\"../../_context_.ipynb\">proveit.number.addition</a>"
   ]
  },
  {
   "cell_type": "code",
   "execution_count": 1,
   "metadata": {},
   "outputs": [],
   "source": [
    "# import Expression classes needed to build the expression\n",
    "from proveit._common_ import a, b, c\n",
    "from proveit.number import Add, four, three, two"
   ]
  },
  {
   "cell_type": "code",
   "execution_count": 2,
   "metadata": {},
   "outputs": [
    {
     "data": {
      "text/html": [
       "<strong id=\"expr\">expr:</strong> <a class=\"ProveItLink\" href=\"expr.ipynb\"><img src=\"data:image/png;base64,iVBORw0KGgoAAAANSUhEUgAAASQAAAAQBAMAAABNSx/QAAAAMFBMVEX///8yMjKqqqrMzMzu7u4i\n",
       "IiJmZmaYmJhEREQQEBC6urp2dnaIiIhUVFTc3NwAAAD87Fq/AAAAAXRSTlMAQObYZgAAAjJJREFU\n",
       "SMetlM1rE0EYxp/9aNpu0i17KHgpBgRPQnuseNmrSE1PBU9pDpaCiOs/IHvzKB48tH7lKngoeBFT\n",
       "cEFRLBGilJ5SEij2VhrT2goWYrrJJvs+Y2Ikzm1/vPObZ2feGeD/jPlHBOzlc3lJjMLrNE8zSn/R\n",
       "DDOm6Xsfqboke7BOedaI319zXVnHrA4M6mTZArKy5G0aP9jyye+laY1LSiQ9GBRYR2RZdVHJi5KZ\n",
       "TqSOxb7r99IMHym5QJbzLu7kaU50cB2S1Pw/aezym2cyUpdElWahOCtl1zbeCaCVP3v8Y1mXImkl\n",
       "inSPI7U0L6pjNSnrkqjycl5bEMBYw5QAGR+HFMn4RQGuTNPWmgFHCjX2CRK+kMVIu9J8gjFPTL0a\n",
       "4L5sFBePKRIvB6TW6JiUmlAzUcNIIGQx0q6cqHHrVBjkgGOKtKL233N5lBeUSKFm0kfmrE9yjnPD\n",
       "cc62NiIJx5l66DilkEAA/GSwCOtEWJAqUcku8MCLE3O9FYk1BwFm4Mb/L0ba4Q8C2hT7lHepjsSR\n",
       "3KWLsKvi9BtuGKlL9J2dytNA1WTS+KLPxmUx0q6cbJpkLzV3ZFSAQ4yvi0jGEkZFJHxv3sEqHeU4\n",
       "HVyo0Tx9MSlkMRL10hKS8hHYBl4J8BW35bv0rVC4KZf7CIvvoBIp1NjlzblNeeO6JKq8VXwvQWKj\n",
       "KDt1/oMnI2UbDXqr9eVcmp/KyrHXQzP8693HopYMQlrjpUKs4J+BalFL+pPfaafe31X5F18AAAAA\n",
       "SUVORK5CYII=\n",
       "\" style=\"display:inline;vertical-align:middle;\" /></a><br>"
      ],
      "text/plain": [
       "expr: a + a + c + c + b + 2 + 3 + 4 + b"
      ]
     },
     "execution_count": 2,
     "metadata": {},
     "output_type": "execute_result"
    }
   ],
   "source": [
    "# build up the expression from sub-expressions\n",
    "expr = Add(a, a, c, c, b, two, three, four, b)"
   ]
  },
  {
   "cell_type": "code",
   "execution_count": 3,
   "metadata": {},
   "outputs": [
    {
     "name": "stdout",
     "output_type": "stream",
     "text": [
      "Passed sanity check: built 'expr' is the same as the stored Expression.\n"
     ]
    }
   ],
   "source": [
    "# check that the built expression is the same as the stored expression\n",
    "%check_expr"
   ]
  },
  {
   "cell_type": "code",
   "execution_count": 4,
   "metadata": {},
   "outputs": [
    {
     "data": {
      "text/html": [
       "<table><tr><th>&nbsp;</th><th>core type</th><th>sub-expressions</th><th>expression</th></tr>\n",
       "<tr><td>0</td><td>Operation</td><td>operator:&nbsp;1<br>operands:&nbsp;2<br></td><td><a class=\"ProveItLink\" href=\"expr.ipynb\"><img src=\"data:image/png;base64,iVBORw0KGgoAAAANSUhEUgAAASQAAAAQBAMAAABNSx/QAAAAMFBMVEX///8yMjKqqqrMzMzu7u4i\n",
       "IiJmZmaYmJhEREQQEBC6urp2dnaIiIhUVFTc3NwAAAD87Fq/AAAAAXRSTlMAQObYZgAAAjJJREFU\n",
       "SMetlM1rE0EYxp/9aNpu0i17KHgpBgRPQnuseNmrSE1PBU9pDpaCiOs/IHvzKB48tH7lKngoeBFT\n",
       "cEFRLBGilJ5SEij2VhrT2goWYrrJJvs+Y2Ikzm1/vPObZ2feGeD/jPlHBOzlc3lJjMLrNE8zSn/R\n",
       "DDOm6Xsfqboke7BOedaI319zXVnHrA4M6mTZArKy5G0aP9jyye+laY1LSiQ9GBRYR2RZdVHJi5KZ\n",
       "TqSOxb7r99IMHym5QJbzLu7kaU50cB2S1Pw/aezym2cyUpdElWahOCtl1zbeCaCVP3v8Y1mXImkl\n",
       "inSPI7U0L6pjNSnrkqjycl5bEMBYw5QAGR+HFMn4RQGuTNPWmgFHCjX2CRK+kMVIu9J8gjFPTL0a\n",
       "4L5sFBePKRIvB6TW6JiUmlAzUcNIIGQx0q6cqHHrVBjkgGOKtKL233N5lBeUSKFm0kfmrE9yjnPD\n",
       "cc62NiIJx5l66DilkEAA/GSwCOtEWJAqUcku8MCLE3O9FYk1BwFm4Mb/L0ba4Q8C2hT7lHepjsSR\n",
       "3KWLsKvi9BtuGKlL9J2dytNA1WTS+KLPxmUx0q6cbJpkLzV3ZFSAQ4yvi0jGEkZFJHxv3sEqHeU4\n",
       "HVyo0Tx9MSlkMRL10hKS8hHYBl4J8BW35bv0rVC4KZf7CIvvoBIp1NjlzblNeeO6JKq8VXwvQWKj\n",
       "KDt1/oMnI2UbDXqr9eVcmp/KyrHXQzP8693HopYMQlrjpUKs4J+BalFL+pPfaafe31X5F18AAAAA\n",
       "SUVORK5CYII=\n",
       "\" style=\"display:inline;vertical-align:middle;\" /></a></td></tr>\n",
       "<tr><td>1</td><td>Literal</td><td></td><td><a class=\"ProveItLink\" href=\"../3e6688136fa3c7aefbebe51301b7c3ebf0b69c440/expr.ipynb\"><img src=\"data:image/png;base64,iVBORw0KGgoAAAANSUhEUgAAAA4AAAAOBAMAAADtZjDiAAAAJFBMVEX///+6urpUVFQQEBAiIiIy\n",
       "MjJmZmaIiIiqqqrc3Nzu7u4AAACgHpL+AAAAAXRSTlMAQObYZgAAAB5JREFUCNdjYGBgWMkAAe2k\n",
       "0Kmhoc6hoUGk6BMHYgAHOwjcado9fwAAAABJRU5ErkJggg==\n",
       "\" style=\"display:inline;vertical-align:middle;\" /></a></td></tr>\n",
       "<tr><td>2</td><td>ExprTuple</td><td>3, 3, 4, 4, 8, 5, 6, 7, 8</td><td><a class=\"ProveItLink\" href=\"../881daaf112ce2a7c8f96e8512e4e003e342960580/expr.ipynb\"><img src=\"data:image/png;base64,iVBORw0KGgoAAAANSUhEUgAAAK8AAAAVBAMAAADC7aNVAAAAMFBMVEX////c3NwiIiJERESqqqqY\n",
       "mJh2dnZmZmYQEBDu7u4yMjJUVFTMzMyIiIi6uroAAAAs73DqAAAAAXRSTlMAQObYZgAAAnpJREFU\n",
       "OMu1lT1oE2EYx/9pL7m8+cbFQcFunSRZHKXBxaWQc3FwkKAQF6PBooU61IqIIKQ3SaBDDqWDdDCD\n",
       "4kcJCQguLrf4AZoSnYoIjf2kkhjf997n7eVKoDe0Ge5+yT38n+f9v//3AhzZJ2EfvuZlcfnot3rh\n",
       "PkFg+llbUqxwNasex2rOjb0ZA/Qmp+e+51ii+wnENyUdR6Knno5k5D0iGlhA3L8TpIa3QFrSzSzW\n",
       "1dOvJJwUa7gIhE3fm7FL8MhEQ3qRc4UDl0h4TQhWgF++Bw6NEbwwMdtW3ZQVoQgJXxGX0SzuiG71\n",
       "G3PKv8+rKUlPit+9EKl/M1STtFpnpEZwQQkvtV7xNiUscl5NjXZogDlM0CaX8dQL1Qy6KgHbBB/U\n",
       "hjKbhNkGkk1oFsp84C3o1O6UgSlJFRtnvJAz8VDNmVGjx8vkhPpN20U4j8Q9/AOiHYxQNhrA6T3a\n",
       "BzPADuGU6/y8NGVSCesWkiXEOkI4mUG1Kcs2wLqKsA/GkdiiMZWxJ4EJx3eWV8IjJawZQvgBX7+N\n",
       "HJzGgR60DiOiGPXcGOsUuPMIODvM+iYJa8vLjcc2xXjWFFZw/6pZvNOaQo9tImpNOk34cEEvdIV5\n",
       "AmIlBFNO+788H5L4gchAEN85vhNBC9f4VhjaeAhVEdNFnCvlmQj9a+C6F17iLhw4VijckuWfkNiW\n",
       "5AgLimb1mhO3nyLGK+9XUPkjYtz6fbbN5vlC9WLL9MLCFwMOpPv9dVmuTc9kJSHU2DEEsfptEZs2\n",
       "winl4Q/38KYOhoHyIcSPdDCvvuwdK+7pwTBQPoSKg6/NQxRmlvN2pXC6obd9gFs+hKLCsMAR/DXx\n",
       "t9Z/hne8c3+1dFkAAAAASUVORK5CYII=\n",
       "\" style=\"display:inline;vertical-align:middle;\" /></a></td></tr>\n",
       "<tr><td>3</td><td>Variable</td><td></td><td><a class=\"ProveItLink\" href=\"../../../../__pv_it/07527342713064c87612d00d8557c53d53d5324a0/expr.ipynb\"><img src=\"data:image/png;base64,iVBORw0KGgoAAAANSUhEUgAAAAsAAAAJBAMAAAAWSsseAAAAMFBMVEX///8yMjKqqqrMzMzu7u4i\n",
       "IiJmZmaYmJhEREQQEBC6urp2dnaIiIhUVFTc3NwAAAD87Fq/AAAAAXRSTlMAQObYZgAAAEhJREFU\n",
       "CNdjYOC7s2seAwPDygccHxgY+L4zsDUwMPB+YGA9wMDA38Dgb8DA8P4Agz6DA4O/AsNFJgMGxgKm\n",
       "MG6gyjunLE4xAAAZTBA5TB6DCwAAAABJRU5ErkJggg==\n",
       "\" style=\"display:inline;vertical-align:middle;\" /></a></td></tr>\n",
       "<tr><td>4</td><td>Variable</td><td></td><td><a class=\"ProveItLink\" href=\"../../../../__pv_it/cbdfda466482236edba0ce44ac7ef39cda0af7a40/expr.ipynb\"><img src=\"data:image/png;base64,iVBORw0KGgoAAAANSUhEUgAAAAkAAAAJBAMAAAASvxsjAAAALVBMVEX///9mZmbc3NxUVFSYmJhE\n",
       "REQiIiIyMjK6uroQEBDMzMyIiIh2dnbu7u4AAABgFDGoAAAAAXRSTlMAQObYZgAAADZJREFUCNdj\n",
       "YOA9s3sBA8PKBvYEBt7ZDKwODMwPGICALwBE6m0Asx0YGIDiAgw8QJUyu/cyAAAmuwmycZ8WfQAA\n",
       "AABJRU5ErkJggg==\n",
       "\" style=\"display:inline;vertical-align:middle;\" /></a></td></tr>\n",
       "<tr><td>5</td><td>Literal</td><td></td><td><a class=\"ProveItLink\" href=\"../../../numeral/__pv_it/77d407a64829263cdc16415becd4c2293f77a4bf0/expr.ipynb\"><img src=\"data:image/png;base64,iVBORw0KGgoAAAANSUhEUgAAAAkAAAAOBAMAAAAPuiubAAAAMFBMVEX///+YmJh2dnbMzMwQEBAi\n",
       "IiLu7u6qqqqIiIhUVFS6urpEREQyMjJmZmbc3NwAAACOMKdoAAAAAXRSTlMAQObYZgAAAFBJREFU\n",
       "CNdj4Lt7egEDw0sGju8MDNMYGOIZGFwSGOYvYDifwHAfKAEUSQASzJ9ATJ4NIPI2iOCYACJrGfge\n",
       "MDBfYGB8wPBUSekqUPH//18ZAIliFhc3zESNAAAAAElFTkSuQmCC\n",
       "\" style=\"display:inline;vertical-align:middle;\" /></a></td></tr>\n",
       "<tr><td>6</td><td>Literal</td><td></td><td><a class=\"ProveItLink\" href=\"../../../numeral/__pv_it/9176d93c83afa2c995b614976e3cb49207102fa70/expr.ipynb\"><img src=\"data:image/png;base64,iVBORw0KGgoAAAANSUhEUgAAAAoAAAAOBAMAAADkjZCYAAAAMFBMVEX///+YmJju7u4QEBBUVFQy\n",
       "MjIiIiKIiIi6urpmZmbc3NyqqqpERER2dnbMzMwAAAB0GlNiAAAAAXRSTlMAQObYZgAAAE1JREFU\n",
       "CNdjYHh79zQDA9cEhv4CBt7fDPwJDNxgEgiAIkAQAsR8Vx1ATIbiBhDJ/ImB6wEDz0cG/U8gkj+A\n",
       "ge0XA7sAQ/8FBoadM6MZAEflFACalZ/OAAAAAElFTkSuQmCC\n",
       "\" style=\"display:inline;vertical-align:middle;\" /></a></td></tr>\n",
       "<tr><td>7</td><td>Literal</td><td></td><td><a class=\"ProveItLink\" href=\"../../../numeral/__pv_it/23412ce59ea7e77353d2f9225e02248e73651ca00/expr.ipynb\"><img src=\"data:image/png;base64,iVBORw0KGgoAAAANSUhEUgAAAAoAAAAPBAMAAAAv0UM9AAAALVBMVEX///9mZmaqqqru7u52dnYy\n",
       "MjKYmJjc3NwQEBCIiIhEREQiIiJUVFTMzMwAAACUDTcXAAAAAXRSTlMAQObYZgAAAD5JREFUCNdj\n",
       "YGBguMMAArtABGcXiCyLApEOIJKtAERaMoBIBxDJdAFEmjCASJ0zZ16cBCkF64KQPu/EwBwGACv6\n",
       "DSRgin9qAAAAAElFTkSuQmCC\n",
       "\" style=\"display:inline;vertical-align:middle;\" /></a></td></tr>\n",
       "<tr><td>8</td><td>Variable</td><td></td><td><a class=\"ProveItLink\" href=\"../../../../__pv_it/6840a4fa6c106149dc16a131294d0c5e44f1b0480/expr.ipynb\"><img src=\"data:image/png;base64,iVBORw0KGgoAAAANSUhEUgAAAAkAAAAOBAMAAAAPuiubAAAALVBMVEX///9mZmbMzMxERESYmJiI\n",
       "iIh2dna6urqqqqoyMjIiIiIQEBBUVFTu7u4AAAD9S1JeAAAAAXRSTlMAQObYZgAAAE1JREFUCNdj\n",
       "4D29gAEIOA+ASL4GEFl3AURmgQiGOaFHGBh4HzPwKTBwvGXgTmBgnMDAJ8DAJcBQ5wBSLncBJLWN\n",
       "gYGngRFoBO9REQYGAGrcDtUkVqASAAAAAElFTkSuQmCC\n",
       "\" style=\"display:inline;vertical-align:middle;\" /></a></td></tr>\n",
       "</table>\n"
      ],
      "text/plain": [
       "0. a + a + c + c + b + 2 + 3 + 4 + b\n",
       "   core type: Operation\n",
       "   operator: 1\n",
       "   operands: 2\n",
       "1. +\n",
       "   core type: Literal\n",
       "   sub-expressions: \n",
       "2. (a , a , c , c , b , 2 , 3 , 4 , b)\n",
       "   core type: ExprTuple\n",
       "   sub-expressions: 3, 3, 4, 4, 8, 5, 6, 7, 8\n",
       "3. a\n",
       "   core type: Variable\n",
       "   sub-expressions: \n",
       "4. c\n",
       "   core type: Variable\n",
       "   sub-expressions: \n",
       "5. 2\n",
       "   core type: Literal\n",
       "   sub-expressions: \n",
       "6. 3\n",
       "   core type: Literal\n",
       "   sub-expressions: \n",
       "7. 4\n",
       "   core type: Literal\n",
       "   sub-expressions: \n",
       "8. b\n",
       "   core type: Variable\n",
       "   sub-expressions: "
      ]
     },
     "execution_count": 4,
     "metadata": {},
     "output_type": "execute_result"
    }
   ],
   "source": [
    "# display the expression information\n",
    "expr.exprInfo()"
   ]
  },
  {
   "cell_type": "code",
   "execution_count": null,
   "metadata": {},
   "outputs": [],
   "source": []
  }
 ],
 "metadata": {
  "kernelspec": {
   "display_name": "Python 3",
   "language": "python",
   "name": "python3"
  }
 },
 "nbformat": 4,
 "nbformat_minor": 0
}
