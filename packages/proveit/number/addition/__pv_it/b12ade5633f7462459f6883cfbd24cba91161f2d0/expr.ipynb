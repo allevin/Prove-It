{
 "cells": [
  {
   "cell_type": "markdown",
   "metadata": {},
   "source": [
    "Expression of type <a class=\"ProveItLink\" href=\"../../../../../../doc/html/api/proveit.logic.Equals.html\">Equals</a>\n",
    "=======================\n",
    "# from context <a class=\"ProveItLink\" href=\"../../_context_.ipynb\">proveit.number.addition</a>"
   ]
  },
  {
   "cell_type": "code",
   "execution_count": 1,
   "metadata": {},
   "outputs": [],
   "source": [
    "# import Expression classes needed to build the expression\n",
    "from proveit._common_ import c\n",
    "from proveit.logic import Equals\n",
    "from proveit.number import Add, one, three, two"
   ]
  },
  {
   "cell_type": "code",
   "execution_count": 2,
   "metadata": {},
   "outputs": [
    {
     "data": {
      "text/html": [
       "<strong id=\"expr\">expr:</strong> <a class=\"ProveItLink\" href=\"expr.ipynb\"><img src=\"data:image/png;base64,iVBORw0KGgoAAAANSUhEUgAAAfEAAAAVBAMAAACkvspuAAAAMFBMVEX////c3NwiIiJERESqqqqY\n",
       "mJh2dnZmZmYQEBDu7u4yMjJUVFTMzMyIiIi6uroAAAAs73DqAAAAAXRSTlMAQObYZgAAA3ZJREFU\n",
       "WMPlmD9oU1EUxs/LnyZ9+auLQxWLgrjVQQcXm61TMS4dpSCkIAZDxUa6qOBgBdsnghQcLK0ipoPZ\n",
       "RDqkUxUc7CIoNjQ4CqVVayGFNt6X23tfzrl57yZF08E7NO0v5375vnfPfbmvAP/viC93+AMvN2Fr\n",
       "B+HhQ7N3/BYBR8YvELKUOav9AEXGHqFFBUWLLfk9T/428nMVIpS5ktLNkh5eNXmju59YNoqwiiWN\n",
       "HKzrukWR4WNGIabVSvDHVQJ6ILZJFgjiO7pZwkOs0X53kr8slISVR/wlYoFvA5GuTUj0IuKMPaDK\n",
       "8DGk+CirHlS5pwtVUvIWoA+T6yn4iYk6S3gIN17ugLgMq4IO8pfwBER2EQk4yQepVQmoDB/TSvKJ\n",
       "Zh4UuViVlNy3oFRB5KJMLmWUWcLDd2gluVmF0C4NIbq93eR+uhXjM/tL/tqC2xUySXS7JjnzMGb3\n",
       "Qaa86J2cDV+VknlSI2Xck9dLunL0fjPMfjzJrmAPArgnZ6PPIsQs6pILDy/Y7+8rZq82+cdhTKJX\n",
       "i6RGyrgnr5cE6ks8XrBH/eqZaSY3CbPIgwReyaNbhCzNgy658DDJLsJD8Ke1yecU8rmCiCPjmpyX\n",
       "xO+QNQ8zoellOIc8SOCV3DxDSWxSk1x6YLs3sqHd56wjzyjJw7j/HRnX5LwkukGSJ1jyEvVQ0u9z\n",
       "gBtq/09Z3smlB5Y8wUOFCoXZB4VC0bHMGvL0XkPCV8DEWAT/b0T2ZBonURle0jT5L+qBg0Y5nqHR\n",
       "ZqxIyFGA/jSpIbOkh3sAx5f1ax7IwSFEnlV5coc4Mq5rzkt4t4+esMfJevOkwNghHhzgseYDYCRR\n",
       "J9esenKvNZce2F5KsFrdPn8HcAmRxAz4fmAiZVyT85IgPcTZtwd2FYPIgwTuyaM5CKLksM3u9knv\n",
       "5NLDCOv8HHRpvtWMU5kRfG6JpWEd3+0dGfd9Xi9RvtVs8AbgGvIggXvyw5nMKCafIL6lucNJD9/Y\n",
       "H2PlL7g8P/UyjT7VV6vVyIltIP+c9IWUEUCR4SVmhZ5kmHQoW8a3JgnE5NCt7ZvYZl+tRk5sgfx4\n",
       "ChN1lvAQTrZ0fmqLaErU0+vd9jyoJW0T5iE47Pmsvgb7IJqSrPL2UHse1JK2SdblKfWfju79PqX+\n",
       "bQ89nU4eUR5D7cf/A/BgdPq/UStN2LHOe/gDHpGWWmUWthkAAAAASUVORK5CYII=\n",
       "\" style=\"display:inline;vertical-align:middle;\" /></a><br>"
      ],
      "text/plain": [
       "expr: (c + 1 + 2 + 3 + c + 1 + c) = (c + c + 1 + 2 + 3 + 1 + c)"
      ]
     },
     "execution_count": 2,
     "metadata": {},
     "output_type": "execute_result"
    }
   ],
   "source": [
    "# build up the expression from sub-expressions\n",
    "expr = Equals(Add(c, one, two, three, c, one, c), Add(c, c, one, two, three, one, c))"
   ]
  },
  {
   "cell_type": "code",
   "execution_count": 3,
   "metadata": {},
   "outputs": [
    {
     "name": "stdout",
     "output_type": "stream",
     "text": [
      "Passed sanity check: built 'expr' is the same as the stored Expression.\n"
     ]
    }
   ],
   "source": [
    "# check that the built expression is the same as the stored expression\n",
    "%check_expr"
   ]
  },
  {
   "cell_type": "code",
   "execution_count": 4,
   "metadata": {},
   "outputs": [
    {
     "data": {
      "text/html": [
       "<table><tr><th>&nbsp;</th><th>core type</th><th>sub-expressions</th><th>expression</th></tr>\n",
       "<tr><td>0</td><td>Operation</td><td>operator:&nbsp;1<br>operands:&nbsp;2<br></td><td><a class=\"ProveItLink\" href=\"expr.ipynb\"><img src=\"data:image/png;base64,iVBORw0KGgoAAAANSUhEUgAAAfEAAAAVBAMAAACkvspuAAAAMFBMVEX////c3NwiIiJERESqqqqY\n",
       "mJh2dnZmZmYQEBDu7u4yMjJUVFTMzMyIiIi6uroAAAAs73DqAAAAAXRSTlMAQObYZgAAA3ZJREFU\n",
       "WMPlmD9oU1EUxs/LnyZ9+auLQxWLgrjVQQcXm61TMS4dpSCkIAZDxUa6qOBgBdsnghQcLK0ipoPZ\n",
       "RDqkUxUc7CIoNjQ4CqVVayGFNt6X23tfzrl57yZF08E7NO0v5375vnfPfbmvAP/viC93+AMvN2Fr\n",
       "B+HhQ7N3/BYBR8YvELKUOav9AEXGHqFFBUWLLfk9T/428nMVIpS5ktLNkh5eNXmju59YNoqwiiWN\n",
       "HKzrukWR4WNGIabVSvDHVQJ6ILZJFgjiO7pZwkOs0X53kr8slISVR/wlYoFvA5GuTUj0IuKMPaDK\n",
       "8DGk+CirHlS5pwtVUvIWoA+T6yn4iYk6S3gIN17ugLgMq4IO8pfwBER2EQk4yQepVQmoDB/TSvKJ\n",
       "Zh4UuViVlNy3oFRB5KJMLmWUWcLDd2gluVmF0C4NIbq93eR+uhXjM/tL/tqC2xUySXS7JjnzMGb3\n",
       "Qaa86J2cDV+VknlSI2Xck9dLunL0fjPMfjzJrmAPArgnZ6PPIsQs6pILDy/Y7+8rZq82+cdhTKJX\n",
       "i6RGyrgnr5cE6ks8XrBH/eqZaSY3CbPIgwReyaNbhCzNgy658DDJLsJD8Ke1yecU8rmCiCPjmpyX\n",
       "xO+QNQ8zoellOIc8SOCV3DxDSWxSk1x6YLs3sqHd56wjzyjJw7j/HRnX5LwkukGSJ1jyEvVQ0u9z\n",
       "gBtq/09Z3smlB5Y8wUOFCoXZB4VC0bHMGvL0XkPCV8DEWAT/b0T2ZBonURle0jT5L+qBg0Y5nqHR\n",
       "ZqxIyFGA/jSpIbOkh3sAx5f1ax7IwSFEnlV5coc4Mq5rzkt4t4+esMfJevOkwNghHhzgseYDYCRR\n",
       "J9esenKvNZce2F5KsFrdPn8HcAmRxAz4fmAiZVyT85IgPcTZtwd2FYPIgwTuyaM5CKLksM3u9knv\n",
       "5NLDCOv8HHRpvtWMU5kRfG6JpWEd3+0dGfd9Xi9RvtVs8AbgGvIggXvyw5nMKCafIL6lucNJD9/Y\n",
       "H2PlL7g8P/UyjT7VV6vVyIltIP+c9IWUEUCR4SVmhZ5kmHQoW8a3JgnE5NCt7ZvYZl+tRk5sgfx4\n",
       "ChN1lvAQTrZ0fmqLaErU0+vd9jyoJW0T5iE47Pmsvgb7IJqSrPL2UHse1JK2SdblKfWfju79PqX+\n",
       "bQ89nU4eUR5D7cf/A/BgdPq/UStN2LHOe/gDHpGWWmUWthkAAAAASUVORK5CYII=\n",
       "\" style=\"display:inline;vertical-align:middle;\" /></a></td></tr>\n",
       "<tr><td>1</td><td>Literal</td><td></td><td><a class=\"ProveItLink\" href=\"../../../../logic/equality/__pv_it/2fb26078095930560931daa0500ce419a39ea6cd0/expr.ipynb\"><img src=\"data:image/png;base64,iVBORw0KGgoAAAANSUhEUgAAAA4AAAAFBAMAAACHocAhAAAAFVBMVEX///9EREQiIiJUVFQyMjJm\n",
       "ZmYAAADubVkoAAAAAXRSTlMAQObYZgAAABRJREFUCNdjCHEBAWcGXCBICQQUAUpuAwlgGKrkAAAA\n",
       "AElFTkSuQmCC\n",
       "\" style=\"display:inline;vertical-align:middle;\" /></a></td></tr>\n",
       "<tr><td>2</td><td>ExprTuple</td><td>3, 4</td><td><a class=\"ProveItLink\" href=\"../81239583e92d4d6b2a1d6df7d80f846d41761b0e0/expr.ipynb\"><img src=\"data:image/png;base64,iVBORw0KGgoAAAANSUhEUgAAAc8AAAAVBAMAAADShHjlAAAAMFBMVEX////c3NwiIiJERESqqqqY\n",
       "mJh2dnZmZmYQEBDu7u4yMjJUVFTMzMyIiIi6uroAAAAs73DqAAAAAXRSTlMAQObYZgAAAsxJREFU\n",
       "WMPlWD1oE1EA/mJ+L80lwcVBwYxucdDBqdk6BW9ylIIQQQwGxUa66OAggumVghQcGqoinoPZRDok\n",
       "UxFcsggKBk9HQfpjLaRQ47scueT93L27RDPYGy65Lx/fz8t79wccmS3d/v87XrZ274U/XWCOQ9Wn\n",
       "Jo1sls5JDcL6JPHkGVKlKwU/lvEW2b0Ueax0GeAk1D3atYIt2VxQZicpKs+AE0gf+rKsA+poWiVr\n",
       "fz7Z6DLIWyBPIbE9ZHI2sswVtCnKRnPguuw+GFkXwEcG3ChglzJws7wEJEZHIDJorXYZ5IGOpjmK\n",
       "RIZFi2x4R+bLQLzoWjTSdgPkGXDRKeoYiC1Xge/+TF7ruGsyyQZTd1pFRRkGU1dSNFzAgvWHlzot\n",
       "iQnZ8jqDvGIkeRnO1aHw3Mflz2NkSDZkRftOsQqek+/vzGROapLap5HUtQYjyctwrg6F46ZqWA+c\n",
       "AZvsYLtYRuqokc6PENakJsmzLPLRpCQFMqyrQ+G5q22cHyODWpMUtZ3S9/AbmNmWrw/gFockupSk\n",
       "QIZ1dSg8tzleBizp3kVtp9S2VTRjj1PcMNYfGkZjaEIhDRoJtRD+RZBFwzhjGNYMEsjYrhxFxP05\n",
       "RgacAma1UQM3S1L0PnC67WM05xDKjiJrXbvocOwEMuzwOhSOGzocI4PS0/tFvf5R24lMXbIwMoQr\n",
       "W6OpCqKUSaaOYzuUpECGde1TFCGXDFo0aAYckPNw1ruo7RSt4yqZxhXEZJeX46XSTQpRNWzN06uB\n",
       "l+EWjEVZy4m4b4DrQTPgA9L7kpOR7UQuL9/IwULnEy0Qv3Nwm0byvd4ujcxVnzEnck6muvRC4ymr\n",
       "O0LLckcPnCFSXSzQBmJLJE0ksl63Kb6QYkDKV393RpNl4G4Bo/Oez6Z+kB8BKZon9y9loJGy22Pa\n",
       "P920qTsq9f5T3pQ3dfpvGGas9Rk6Aq9SyOPCH4FgiRFSuq3IAAAAAElFTkSuQmCC\n",
       "\" style=\"display:inline;vertical-align:middle;\" /></a></td></tr>\n",
       "<tr><td>3</td><td>Operation</td><td>operator:&nbsp;6<br>operands:&nbsp;5<br></td><td><a class=\"ProveItLink\" href=\"../43ca585de036702331b7dda00733c2b9d0a68c600/expr.ipynb\"><img src=\"data:image/png;base64,iVBORw0KGgoAAAANSUhEUgAAAN0AAAAQBAMAAABgnGdDAAAAMFBMVEX///+qqqpmZmbc3NxUVFSY\n",
       "mJhEREQiIiIyMjK6uroQEBDMzMyIiIh2dnbu7u4AAAA4MM1YAAAAAXRSTlMAQObYZgAAAYlJREFU\n",
       "OMtjYMAC8tD4RhqZaCJ77yYyEAJsDxiIA8/+ofKZHRjOC6CKKDDMP0DAFL58AvbxGUDoJy7/UEVY\n",
       "HjCwf4CIPIZQvB8Z+AtQRDCM4XPxh9n3GLt9jDAX8/xDFeFax8DyEyIiA5VA2CeD05jzMPtkSLSP\n",
       "4x8D0090rbDwJNk+vrtnNuC3DwjY/6FrbUEzDNMYDPsgSnZN4CggaN/+C6hauW84oBmGaQyGfWAl\n",
       "fGsY2AII2teGETSnJqCIYDEG3T6IEpYPBOOPgYEpAcM+LtQQxmIMun0QJfwQo5g6OtpXdHQ4IOxD\n",
       "FjkCVqPR0VHV0QGKOOYNDGxfUUSwGAOxD12J/QHC/mNUYDBGcer7fxD7ECJYjEH3H0QJPzDUCcXf\n",
       "JgaGYBSt/A0M7J9RRTCNQbcPooRFgYGXQH5grr17CTV38wQwzEdNsViMwYg/iBLdM+dQfcOk9UMV\n",
       "RYT9////aKWJkFIjWgrCMEZpfVMADiXoqR+3CGbRJEOOJjDgPEBYZA4DQRH8mgD6YKdhwTvZsgAA\n",
       "AABJRU5ErkJggg==\n",
       "\" style=\"display:inline;vertical-align:middle;\" /></a></td></tr>\n",
       "<tr><td>4</td><td>Operation</td><td>operator:&nbsp;6<br>operands:&nbsp;7<br></td><td><a class=\"ProveItLink\" href=\"../a0c8e112f883831ccc8f91902cde254bd4e89cad0/expr.ipynb\"><img src=\"data:image/png;base64,iVBORw0KGgoAAAANSUhEUgAAAN0AAAAQBAMAAABgnGdDAAAAMFBMVEX///+qqqpmZmbc3NxUVFSY\n",
       "mJhEREQiIiIyMjK6uroQEBDMzMyIiIh2dnbu7u4AAAA4MM1YAAAAAXRSTlMAQObYZgAAAYVJREFU\n",
       "OMullE1LAlEUhl+/QhkbpXWQCJUEkUTQokUSrtOf0KZttm4jhOTdNT+gH5AR2DoIZtMqqV2bHBoo\n",
       "WgRBLSoXfmSODp5TekTvaubhvTz33HPvBUYZe+zfFz8yKNGs+ygLTdkYc7w0GVhD+IOSVYTqlOg5\n",
       "wacnB4DndJORbSBPyWMU34To6UzP9/S/z2MOAuEmI2c2MgYhc67PnXXX881O7Du2sWKwSb39lHy6\n",
       "VbmgwbfqjeBrj7zNSDAl+RzTpRHcJ0GthKLo0xqMXBUg+Tom/RxTWRJ8NbEr+oI7nIRLgs8x+d95\n",
       "uzJy/4CFvztctof7HFPEWahXqeKpUr89+OKg6yMkxcgGkMvSjONLKHWgVME1bZqsHF99hPpm4Ev2\n",
       "E71ld3zD6nNMkXaKBj+BgODTYggQH2rtE5sc7nNM/him6X3YAh4E37plLVJyjVBDOC9d03Lllga9\n",
       "1QrtvHepNk8j+VaLvSaeeCJKSbx8mKX3wTVJ78uEZMB7FjIlMCY56fv+AQsgswrl3pwwAAAAAElF\n",
       "TkSuQmCC\n",
       "\" style=\"display:inline;vertical-align:middle;\" /></a></td></tr>\n",
       "<tr><td>5</td><td>ExprTuple</td><td>11, 10, 8, 9, 11, 10, 11</td><td><a class=\"ProveItLink\" href=\"../7a6a1ba5db1d23201697fd155a883d0f98cd76eb0/expr.ipynb\"><img src=\"data:image/png;base64,iVBORw0KGgoAAAANSUhEUgAAAIgAAAAVBAMAAABvbLv8AAAAMFBMVEX////c3NwiIiJERESqqqqY\n",
       "mJh2dnZmZmYQEBDu7u4yMjJUVFTMzMyIiIi6uroAAAAs73DqAAAAAXRSTlMAQObYZgAAAdhJREFU\n",
       "OMutlDFIAlEYx/+mpnem2eRQkFNrDTW0lHNL19okBLokuaQRDQ0tDelBEFFDUEREEDU1OOhUQYO3\n",
       "NESJ2SRNVhQk6PXuvdd53guH6uDu/d//e+/He+/77gH/8gS0v813P5LPjdVxqlyElieY6InNRYSJ\n",
       "49bOCnmPLX1pkkMcZyizuSEEGnbG5qe1JwN+y26kXJ5DfCq6alQtRPBqY+zm2iDuKLyq1Sjznncd\n",
       "viZV0yIE/jaItIpn/ASRP+Fpfp98ozMEo0gZrFip0A4hT9f3SPmMi63Egx1CrTgOibx+lMMCpBhl\n",
       "7eUJN3oy2LdBmDWFDFnIBpyKADkwF59h7baGMRuEWVWQnftqwpkAnhHTzDIzL54Js4oGpHfkB8g9\n",
       "bweASbbMNxHyxiFrwKAmQlxJ9NH86SqHOBoChFtVY0+9ZJAimRDKuQJmqKoDw0EafCd1xYIGpGVh\n",
       "luQHviS6C3thDpGM2nIMxeJhqm4R+AANXgDz1KIQ0zJS/ER0qnSH7Rci0tkjRcoGSZHouh6mypVe\n",
       "jrCgJ1FSqeVZqi+2LOAU3iDfaMW8G4KiqnSwSNm7eU1BMX8oiErpYHVrravg15Ad8vbztJlRTVT+\n",
       "Tta5kYg/Xo/+Ar4AfW6V4ZVMoZcAAAAASUVORK5CYII=\n",
       "\" style=\"display:inline;vertical-align:middle;\" /></a></td></tr>\n",
       "<tr><td>6</td><td>Literal</td><td></td><td><a class=\"ProveItLink\" href=\"../3e6688136fa3c7aefbebe51301b7c3ebf0b69c440/expr.ipynb\"><img src=\"data:image/png;base64,iVBORw0KGgoAAAANSUhEUgAAAA4AAAAOBAMAAADtZjDiAAAAJFBMVEX///+6urpUVFQQEBAiIiIy\n",
       "MjJmZmaIiIiqqqrc3Nzu7u4AAACgHpL+AAAAAXRSTlMAQObYZgAAAB5JREFUCNdjYGBgWMkAAe2k\n",
       "0Kmhoc6hoUGk6BMHYgAHOwjcado9fwAAAABJRU5ErkJggg==\n",
       "\" style=\"display:inline;vertical-align:middle;\" /></a></td></tr>\n",
       "<tr><td>7</td><td>ExprTuple</td><td>11, 11, 10, 8, 9, 10, 11</td><td><a class=\"ProveItLink\" href=\"../a083aba5d4fe6a4ee49e191d3b403fb0ee7a2cd30/expr.ipynb\"><img src=\"data:image/png;base64,iVBORw0KGgoAAAANSUhEUgAAAIgAAAAVBAMAAABvbLv8AAAAMFBMVEX////c3NwiIiJERESqqqqY\n",
       "mJh2dnZmZmYQEBDu7u4yMjJUVFTMzMyIiIi6uroAAAAs73DqAAAAAXRSTlMAQObYZgAAAdpJREFU\n",
       "OMutlD1Iw0AUx/+1n0nth1MHBTu56qCDi+3sYlydBKEuil1spTg4uDjYBgQRHQRFRATRycHBTio4\n",
       "mMVBtFSdxKkqCi1ovNxdrmkSHNRAmh/v3f1yr+8R4F+uqPa3/f578nPpmvKqHBKFIQbtmYm0mR20\n",
       "Lp0n956bQ0pxiecQVbY3gegnz67UrWtlIOJWjXRyyiVhFW01SjNpvLLYxkmLxD+OkOpaTpWHQ0sI\n",
       "f1EaERJEWiTSAp7xo0SuI/hltuDTVYJ+5AxXplJmUhOEhFxt5hb50CFZnb4DJrFD8OJeTtKYAKvk\n",
       "apw9z/Zhl7QXsQUMo0jevwyvQg9iQotkW+wt2iVrGgaAJ5CCwzUeE2CVBPtEsKTaJKfsqIYkZi6L\n",
       "9blIbvmzC0gpNskblywC3eaodGtOiS+LDlqqrjokHtauJ6OmGMkpEizAJNRzDoxSagC9cUlIKL2T\n",
       "UQPGSH8QziJQ3kxagEokY7Y8PZnJJKVrRD/AkoaE0jEwZbT4kXCucoO1FyvkS7uKVIqTIdF1PUnJ\n",
       "ly+kWTI415jlNF0hhzxAKM6Lf4AdonEniWSTyNj7+ShBgR38cJLipIDW/BT8WrJO7k7eNjGXYpnm\n",
       "pGaySUfG///Hz2OkjG8CKZY7q/mjXQAAAABJRU5ErkJggg==\n",
       "\" style=\"display:inline;vertical-align:middle;\" /></a></td></tr>\n",
       "<tr><td>8</td><td>Literal</td><td></td><td><a class=\"ProveItLink\" href=\"../../../numeral/__pv_it/77d407a64829263cdc16415becd4c2293f77a4bf0/expr.ipynb\"><img src=\"data:image/png;base64,iVBORw0KGgoAAAANSUhEUgAAAAkAAAAOBAMAAAAPuiubAAAAMFBMVEX///+YmJh2dnbMzMwQEBAi\n",
       "IiLu7u6qqqqIiIhUVFS6urpEREQyMjJmZmbc3NwAAACOMKdoAAAAAXRSTlMAQObYZgAAAFBJREFU\n",
       "CNdj4Lt7egEDw0sGju8MDNMYGOIZGFwSGOYvYDifwHAfKAEUSQASzJ9ATJ4NIPI2iOCYACJrGfge\n",
       "MDBfYGB8wPBUSekqUPH//18ZAIliFhc3zESNAAAAAElFTkSuQmCC\n",
       "\" style=\"display:inline;vertical-align:middle;\" /></a></td></tr>\n",
       "<tr><td>9</td><td>Literal</td><td></td><td><a class=\"ProveItLink\" href=\"../../../numeral/__pv_it/9176d93c83afa2c995b614976e3cb49207102fa70/expr.ipynb\"><img src=\"data:image/png;base64,iVBORw0KGgoAAAANSUhEUgAAAAoAAAAOBAMAAADkjZCYAAAAMFBMVEX///+YmJju7u4QEBBUVFQy\n",
       "MjIiIiKIiIi6urpmZmbc3NyqqqpERER2dnbMzMwAAAB0GlNiAAAAAXRSTlMAQObYZgAAAE1JREFU\n",
       "CNdjYHh79zQDA9cEhv4CBt7fDPwJDNxgEgiAIkAQAsR8Vx1ATIbiBhDJ/ImB6wEDz0cG/U8gkj+A\n",
       "ge0XA7sAQ/8FBoadM6MZAEflFACalZ/OAAAAAElFTkSuQmCC\n",
       "\" style=\"display:inline;vertical-align:middle;\" /></a></td></tr>\n",
       "<tr><td>10</td><td>Literal</td><td></td><td><a class=\"ProveItLink\" href=\"../../../numeral/__pv_it/9be8badea4c35b9724062cecc501d17a3158d1d20/expr.ipynb\"><img src=\"data:image/png;base64,iVBORw0KGgoAAAANSUhEUgAAAAgAAAAPBAMAAAArJJMAAAAAHlBMVEX///+YmJgyMjIQEBBmZmaI\n",
       "iIhUVFTu7u5EREQAAAAw+MI4AAAAAXRSTlMAQObYZgAAACFJREFUCNdjYGBoZ2BgqJjOwFCWBiQY\n",
       "WEklWJwnOTKAAACjEQo8HvEr3AAAAABJRU5ErkJggg==\n",
       "\" style=\"display:inline;vertical-align:middle;\" /></a></td></tr>\n",
       "<tr><td>11</td><td>Variable</td><td></td><td><a class=\"ProveItLink\" href=\"../../../../__pv_it/cbdfda466482236edba0ce44ac7ef39cda0af7a40/expr.ipynb\"><img src=\"data:image/png;base64,iVBORw0KGgoAAAANSUhEUgAAAAkAAAAJBAMAAAASvxsjAAAALVBMVEX///9mZmbc3NxUVFSYmJhE\n",
       "REQiIiIyMjK6uroQEBDMzMyIiIh2dnbu7u4AAABgFDGoAAAAAXRSTlMAQObYZgAAADZJREFUCNdj\n",
       "YOA9s3sBA8PKBvYEBt7ZDKwODMwPGICALwBE6m0Asx0YGIDiAgw8QJUyu/cyAAAmuwmycZ8WfQAA\n",
       "AABJRU5ErkJggg==\n",
       "\" style=\"display:inline;vertical-align:middle;\" /></a></td></tr>\n",
       "</table>\n"
      ],
      "text/plain": [
       "0. (c + 1 + 2 + 3 + c + 1 + c) = (c + c + 1 + 2 + 3 + 1 + c)\n",
       "   core type: Operation\n",
       "   operator: 1\n",
       "   operands: 2\n",
       "1. =\n",
       "   core type: Literal\n",
       "   sub-expressions: \n",
       "2. (c + 1 + 2 + 3 + c + 1 + c , c + c + 1 + 2 + 3 + 1 + c)\n",
       "   core type: ExprTuple\n",
       "   sub-expressions: 3, 4\n",
       "3. c + 1 + 2 + 3 + c + 1 + c\n",
       "   core type: Operation\n",
       "   operator: 6\n",
       "   operands: 5\n",
       "4. c + c + 1 + 2 + 3 + 1 + c\n",
       "   core type: Operation\n",
       "   operator: 6\n",
       "   operands: 7\n",
       "5. (c , 1 , 2 , 3 , c , 1 , c)\n",
       "   core type: ExprTuple\n",
       "   sub-expressions: 11, 10, 8, 9, 11, 10, 11\n",
       "6. +\n",
       "   core type: Literal\n",
       "   sub-expressions: \n",
       "7. (c , c , 1 , 2 , 3 , 1 , c)\n",
       "   core type: ExprTuple\n",
       "   sub-expressions: 11, 11, 10, 8, 9, 10, 11\n",
       "8. 2\n",
       "   core type: Literal\n",
       "   sub-expressions: \n",
       "9. 3\n",
       "   core type: Literal\n",
       "   sub-expressions: \n",
       "10. 1\n",
       "    core type: Literal\n",
       "    sub-expressions: \n",
       "11. c\n",
       "    core type: Variable\n",
       "    sub-expressions: "
      ]
     },
     "execution_count": 4,
     "metadata": {},
     "output_type": "execute_result"
    }
   ],
   "source": [
    "# display the expression information\n",
    "expr.exprInfo()"
   ]
  },
  {
   "cell_type": "code",
   "execution_count": null,
   "metadata": {},
   "outputs": [],
   "source": []
  }
 ],
 "metadata": {
  "kernelspec": {
   "display_name": "Python 3",
   "language": "python",
   "name": "python3"
  }
 },
 "nbformat": 4,
 "nbformat_minor": 0
}
