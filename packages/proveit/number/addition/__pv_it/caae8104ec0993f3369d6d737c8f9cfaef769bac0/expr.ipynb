{
 "cells": [
  {
   "cell_type": "markdown",
   "metadata": {},
   "source": [
    "Expression of type <a class=\"ProveItLink\" href=\"../../../../../../doc/html/api/proveit.ExprTuple.html\">ExprTuple</a>\n",
    "=======================\n",
    "# from context <a class=\"ProveItLink\" href=\"../../_context_.ipynb\">proveit.number.addition</a>"
   ]
  },
  {
   "cell_type": "code",
   "execution_count": 1,
   "metadata": {},
   "outputs": [],
   "source": [
    "# import Expression classes needed to build the expression\n",
    "from proveit import ExprTuple\n",
    "from proveit._common_ import b, c\n",
    "from proveit.number import Complexes, Exp, four, one, two"
   ]
  },
  {
   "cell_type": "code",
   "execution_count": 2,
   "metadata": {},
   "outputs": [
    {
     "data": {
      "text/html": [
       "<strong id=\"expr\">expr:</strong> <a class=\"ProveItLink\" href=\"expr.ipynb\"><img src=\"data:image/png;base64,iVBORw0KGgoAAAANSUhEUgAAAIUAAAAcBAMAAAC9nWGEAAAAMFBMVEX///+qqqp2dnYiIiJERESI\n",
       "iIhmZmYQEBDc3NyYmJgyMjLu7u5UVFTMzMy6uroAAACGxKilAAAAAXRSTlMAQObYZgAAAnJJREFU\n",
       "OMutlT2IE0EUx//J3e5tdrPZrWxsloiNjakEbXI2gmhxIMEiCosekQPhDkUUbAJiIweuFmIhuoVa\n",
       "HdwipwERLsWJ+IEuFlpeQAUr4xcq5uCcNztz+5FAIHEgu2/ezPz2fU6AcYaPsUeuJ6UvIzMe9JDn\n",
       "gtkemVHvidOPg1ER5nbmS42k5/T4NPzE7T5N3mCMiSagLUh/DoklrXG3k95sPKsAahgrlH3LZw/g\n",
       "JjEUdlR1mU5n/qzIIC9C+Zb5ot5OJdLsdozdx4wZYtBvir7JnHrySjJeAtUMw7LZ4/rW1GP+5zZy\n",
       "jcYvD9gLrJPyItknGecDvMk406W4t+SsEJD/p5nXdGQWOMpeJT/JWA4wn2HsoMekLWaqRq49BG5t\n",
       "MNUd4AUpnSSDjWqUb6NciwK5VGPW512x+qjkpG08TCHz0gzze/R+39ErnPUTVoicDOrbnJdgrIe4\n",
       "DxHXBEOfjsw4h0lP9MWUg9KCZJSSjKsd7KGwZxiz0av4VQbAh+XClNMVM+nLqj2IoYgOsqaFYsJF\n",
       "14sZetBO27FEvtgpxjZoTb46E5fHfBD7UnCIYUhGiDXKmowp15suCk2SLKb2uBDiDDvqy5MHqb0+\n",
       "iF7tNnEEImvEWKU0XCqXT3Kp6CIfcsFW22IX31FcqxsfZXux+uhSjVFLnfo7h9YfKo7NzR+RdKJW\n",
       "54LxdI7CQFHjeryr/n4tPd/F7QQuSMVn9ElbQiuzQ4x7zC4n2U5x4r0+YWdmh7gXmGFmRfT+MIbh\n",
       "D2QUqAD207UjEq7Et0yfUGymd8jaoVhcIeny8Lvw+GD1Dd4Mzjh/MVpUy9fGYagB/sv4B4EKsZ5Q\n",
       "AE7pAAAAAElFTkSuQmCC\n",
       "\" style=\"display:inline;vertical-align:middle;\" /></a><br>"
      ],
      "text/plain": [
       "expr: ((1 , 2 , c , b) , Complexes^{4})"
      ]
     },
     "execution_count": 2,
     "metadata": {},
     "output_type": "execute_result"
    }
   ],
   "source": [
    "# build up the expression from sub-expressions\n",
    "expr = ExprTuple([one, two, c, b], Exp(Complexes, four))"
   ]
  },
  {
   "cell_type": "code",
   "execution_count": 3,
   "metadata": {},
   "outputs": [
    {
     "name": "stdout",
     "output_type": "stream",
     "text": [
      "Passed sanity check: built 'expr' is the same as the stored Expression.\n"
     ]
    }
   ],
   "source": [
    "# check that the built expression is the same as the stored expression\n",
    "%check_expr"
   ]
  },
  {
   "cell_type": "code",
   "execution_count": 4,
   "metadata": {},
   "outputs": [
    {
     "data": {
      "text/html": [
       "<table><tr><th>&nbsp;</th><th>core type</th><th>sub-expressions</th><th>expression</th></tr>\n",
       "<tr><td>0</td><td>ExprTuple</td><td>1, 2</td><td><a class=\"ProveItLink\" href=\"expr.ipynb\"><img src=\"data:image/png;base64,iVBORw0KGgoAAAANSUhEUgAAAIUAAAAcBAMAAAC9nWGEAAAAMFBMVEX///+qqqp2dnYiIiJERESI\n",
       "iIhmZmYQEBDc3NyYmJgyMjLu7u5UVFTMzMy6uroAAACGxKilAAAAAXRSTlMAQObYZgAAAnJJREFU\n",
       "OMutlT2IE0EUx//J3e5tdrPZrWxsloiNjakEbXI2gmhxIMEiCosekQPhDkUUbAJiIweuFmIhuoVa\n",
       "HdwipwERLsWJ+IEuFlpeQAUr4xcq5uCcNztz+5FAIHEgu2/ezPz2fU6AcYaPsUeuJ6UvIzMe9JDn\n",
       "gtkemVHvidOPg1ER5nbmS42k5/T4NPzE7T5N3mCMiSagLUh/DoklrXG3k95sPKsAahgrlH3LZw/g\n",
       "JjEUdlR1mU5n/qzIIC9C+Zb5ot5OJdLsdozdx4wZYtBvir7JnHrySjJeAtUMw7LZ4/rW1GP+5zZy\n",
       "jcYvD9gLrJPyItknGecDvMk406W4t+SsEJD/p5nXdGQWOMpeJT/JWA4wn2HsoMekLWaqRq49BG5t\n",
       "MNUd4AUpnSSDjWqUb6NciwK5VGPW512x+qjkpG08TCHz0gzze/R+39ErnPUTVoicDOrbnJdgrIe4\n",
       "DxHXBEOfjsw4h0lP9MWUg9KCZJSSjKsd7KGwZxiz0av4VQbAh+XClNMVM+nLqj2IoYgOsqaFYsJF\n",
       "14sZetBO27FEvtgpxjZoTb46E5fHfBD7UnCIYUhGiDXKmowp15suCk2SLKb2uBDiDDvqy5MHqb0+\n",
       "iF7tNnEEImvEWKU0XCqXT3Kp6CIfcsFW22IX31FcqxsfZXux+uhSjVFLnfo7h9YfKo7NzR+RdKJW\n",
       "54LxdI7CQFHjeryr/n4tPd/F7QQuSMVn9ElbQiuzQ4x7zC4n2U5x4r0+YWdmh7gXmGFmRfT+MIbh\n",
       "D2QUqAD207UjEq7Et0yfUGymd8jaoVhcIeny8Lvw+GD1Dd4Mzjh/MVpUy9fGYagB/sv4B4EKsZ5Q\n",
       "AE7pAAAAAElFTkSuQmCC\n",
       "\" style=\"display:inline;vertical-align:middle;\" /></a></td></tr>\n",
       "<tr><td>1</td><td>ExprTuple</td><td>3, 4, 5, 6</td><td><a class=\"ProveItLink\" href=\"../49328a71ad51d55c21d92471996415cd5241c71b0/expr.ipynb\"><img src=\"data:image/png;base64,iVBORw0KGgoAAAANSUhEUgAAAE8AAAAVBAMAAAD1D64kAAAAMFBMVEX////c3NwiIiJERESqqqqY\n",
       "mJh2dnZmZmYQEBDu7u4yMjJUVFTMzMyIiIi6uroAAAAs73DqAAAAAXRSTlMAQObYZgAAAXRJREFU\n",
       "KM+Nk7FPwkAUxr9CoT0qFCcHBzs5szi4GP6Eujga4gCTSReIcdHBmDioJC4kDjYxDsaFxcTEmHTT\n",
       "xEFWo0R0dAF1wgG8V+4qHANc0nfvvv6u9967V2DqkWlMZtbJPJJZFsrc9orCsBsHMALuXfLnpDtQ\n",
       "tTre8gqZqnPjA2l+8umtAK0qYh0FtGnnGmBW+ZwWoHkAq6eAbQJqwCeGwFQXhgpukInnURkG+YgJ\n",
       "lxWbQehcNa+BpIcLBXwqDOaHVsoJN/zADqD7OFLAc/HBQ8RdcvQuzAIyu+iNgkZO5C+TN3zYHmY6\n",
       "Kvgii5KTMXtouwTujYC6h9nQWWj8l3GnSkcvSZCRcw+sggpn8wBdkngm+0DCR0mCZzxJbbFYctg3\n",
       "xeghGZBk5Y16WJ4PCnjrt4zaFw+o3+877DjLtUrzOZTYXZluogUzK/N4jxpvXOJXmCjIhSudBMak\n",
       "TdFmk0DG2wzzYpGOXkctH0kWBaNN8Su8An/s+2DoMe6TxQAAAABJRU5ErkJggg==\n",
       "\" style=\"display:inline;vertical-align:middle;\" /></a></td></tr>\n",
       "<tr><td>2</td><td>Operation</td><td>operator:&nbsp;7<br>operands:&nbsp;8<br></td><td><a class=\"ProveItLink\" href=\"../ac094b0dfa02191d356d43d28021b9ef452b8a820/expr.ipynb\"><img src=\"data:image/png;base64,iVBORw0KGgoAAAANSUhEUgAAABcAAAAUBAMAAACUkLs9AAAAMFBMVEX////c3NyqqqqYmJhUVFR2\n",
       "dnbu7u66urrMzMxmZmZEREQQEBAyMjIiIiKIiIgAAAB7fvZ0AAAAAXRSTlMAQObYZgAAAIhJREFU\n",
       "GNNjYICDAwgmA9M3JE4qMucZEodDDYnDygbm8N05v3clgyGYw1FfwBb/hO0BmGPgDDT2C9PMmT8N\n",
       "GJgTNgBFpjAwMAJlOBkdgJw8BgaTLwoMmewBCCNbmQyQOOxInCwOJGU8CQ4IDnMAiMMG5S2uAxK1\n",
       "CRAOi9cztqplMIWd93+7Q1gA8EUjI107FbAAAAAASUVORK5CYII=\n",
       "\" style=\"display:inline;vertical-align:middle;\" /></a></td></tr>\n",
       "<tr><td>3</td><td>Literal</td><td></td><td><a class=\"ProveItLink\" href=\"../../../numeral/__pv_it/9be8badea4c35b9724062cecc501d17a3158d1d20/expr.ipynb\"><img src=\"data:image/png;base64,iVBORw0KGgoAAAANSUhEUgAAAAgAAAAPBAMAAAArJJMAAAAAHlBMVEX///+YmJgyMjIQEBBmZmaI\n",
       "iIhUVFTu7u5EREQAAAAw+MI4AAAAAXRSTlMAQObYZgAAACFJREFUCNdjYGBoZ2BgqJjOwFCWBiQY\n",
       "WEklWJwnOTKAAACjEQo8HvEr3AAAAABJRU5ErkJggg==\n",
       "\" style=\"display:inline;vertical-align:middle;\" /></a></td></tr>\n",
       "<tr><td>4</td><td>Literal</td><td></td><td><a class=\"ProveItLink\" href=\"../../../numeral/__pv_it/77d407a64829263cdc16415becd4c2293f77a4bf0/expr.ipynb\"><img src=\"data:image/png;base64,iVBORw0KGgoAAAANSUhEUgAAAAkAAAAOBAMAAAAPuiubAAAAMFBMVEX///+YmJh2dnbMzMwQEBAi\n",
       "IiLu7u6qqqqIiIhUVFS6urpEREQyMjJmZmbc3NwAAACOMKdoAAAAAXRSTlMAQObYZgAAAFBJREFU\n",
       "CNdj4Lt7egEDw0sGju8MDNMYGOIZGFwSGOYvYDifwHAfKAEUSQASzJ9ATJ4NIPI2iOCYACJrGfge\n",
       "MDBfYGB8wPBUSekqUPH//18ZAIliFhc3zESNAAAAAElFTkSuQmCC\n",
       "\" style=\"display:inline;vertical-align:middle;\" /></a></td></tr>\n",
       "<tr><td>5</td><td>Variable</td><td></td><td><a class=\"ProveItLink\" href=\"../../../../__pv_it/cbdfda466482236edba0ce44ac7ef39cda0af7a40/expr.ipynb\"><img src=\"data:image/png;base64,iVBORw0KGgoAAAANSUhEUgAAAAkAAAAJBAMAAAASvxsjAAAALVBMVEX///9mZmbc3NxUVFSYmJhE\n",
       "REQiIiIyMjK6uroQEBDMzMyIiIh2dnbu7u4AAABgFDGoAAAAAXRSTlMAQObYZgAAADZJREFUCNdj\n",
       "YOA9s3sBA8PKBvYEBt7ZDKwODMwPGICALwBE6m0Asx0YGIDiAgw8QJUyu/cyAAAmuwmycZ8WfQAA\n",
       "AABJRU5ErkJggg==\n",
       "\" style=\"display:inline;vertical-align:middle;\" /></a></td></tr>\n",
       "<tr><td>6</td><td>Variable</td><td></td><td><a class=\"ProveItLink\" href=\"../../../../__pv_it/6840a4fa6c106149dc16a131294d0c5e44f1b0480/expr.ipynb\"><img src=\"data:image/png;base64,iVBORw0KGgoAAAANSUhEUgAAAAkAAAAOBAMAAAAPuiubAAAALVBMVEX///9mZmbMzMxERESYmJiI\n",
       "iIh2dna6urqqqqoyMjIiIiIQEBBUVFTu7u4AAAD9S1JeAAAAAXRSTlMAQObYZgAAAE1JREFUCNdj\n",
       "4D29gAEIOA+ASL4GEFl3AURmgQiGOaFHGBh4HzPwKTBwvGXgTmBgnMDAJ8DAJcBQ5wBSLncBJLWN\n",
       "gYGngRFoBO9REQYGAGrcDtUkVqASAAAAAElFTkSuQmCC\n",
       "\" style=\"display:inline;vertical-align:middle;\" /></a></td></tr>\n",
       "<tr><td>7</td><td>Literal</td><td></td><td><a class=\"ProveItLink\" href=\"../../../exponentiation/__pv_it/deb2bf23cbccdd6e6791e1b35b5b9794ce12dbd50/expr.ipynb\"><img src=\"data:image/png;base64,iVBORw0KGgoAAAANSUhEUgAAACgAAAASBAMAAADbMYGVAAAAMFBMVEX///8QEBAiIiKYmJjc3Nzu\n",
       "7u7MzMx2dnZmZma6urpERESqqqoyMjJUVFSIiIgAAAAoDOMTAAAAAXRSTlMAQObYZgAAAOBJREFU\n",
       "GNNjYGB4+//u3Tt/GNAASGAXmhjnPyDBgSbI/g1IxKEJ8nxgYGdgQRPkX8BgDKRY6q7s62OYvmze\n",
       "2wAgb/7ZO1+AVDiDkYEQQ0HTBr4DQF59AgOIKmB4z7CNbcNZBu6vQN55kEACQwDDLQYGVobfDHwg\n",
       "fb8YGBxYHwAZciD3fWXg+gB1JjvQcJZvQIXsCgz8F6DO9GBgMOH7wPCUgaeBwd4B7EwGNjUG7s9c\n",
       "AiwPgO5jkWRgiF3/9+5dfQUG1nWl5Y+B7pv+1gE9bBhqGLCAE1jEWH9jEbT5A3IwAC4sP/1L6Qlu\n",
       "AAAAAElFTkSuQmCC\n",
       "\" style=\"display:inline;vertical-align:middle;\" /></a></td></tr>\n",
       "<tr><td>8</td><td>ExprTuple</td><td>9, 10</td><td><a class=\"ProveItLink\" href=\"../15b4a43204f9952d371095f486ed6d4e815af8560/expr.ipynb\"><img src=\"data:image/png;base64,iVBORw0KGgoAAAANSUhEUgAAAC8AAAAVBAMAAAAk6KpUAAAAMFBMVEX////c3NwiIiJERESqqqqY\n",
       "mJh2dnZmZmYQEBDu7u4yMjJUVFTMzMyIiIi6uroAAAAs73DqAAAAAXRSTlMAQObYZgAAARpJREFU\n",
       "KM9jYMAJ+C5gisWBiNNAzKu1vskcJsqzgYH9AJBeCWS+f8CZfxsmwWTAwLAAqBhoUsBWBgaW3zCJ\n",
       "G0CJMAYGjgkMrBMagPxqqDhjFFBiBgPDKwYGdsYNQIG5UAk2LqAEswNDGQPDdL4EJBcFgiTYChiW\n",
       "MjAcYwlAiHNeAEmwLGDoA0rwIUmwMYAk+BoY/jEwTOZBMsoHLMHzASTBNWEDwqQEmEQLAwNrAkiC\n",
       "EyzBsnv3/u4LIKNMgTzTt0Di0QSIFAMHUAfrAoZ0IJN7803Ox5YM8xXgEkDnPgKxj+v/2Af07kew\n",
       "s/Z/D2DgesDAIYBw0UM4awbIZoQEwju5kGDHkOAEBjuDNFycF87iBpnPiCVq7zAwAAA1wEBM4bd1\n",
       "1AAAAABJRU5ErkJggg==\n",
       "\" style=\"display:inline;vertical-align:middle;\" /></a></td></tr>\n",
       "<tr><td>9</td><td>Literal</td><td></td><td><a class=\"ProveItLink\" href=\"../../../sets/complex/__pv_it/c357845f93a5a2d9f649129d299e7ec28dda4b960/expr.ipynb\"><img src=\"data:image/png;base64,iVBORw0KGgoAAAANSUhEUgAAAA8AAAAOBAMAAAACpFvcAAAAMFBMVEX////c3NyqqqqYmJhUVFR2\n",
       "dnbu7u66urrMzMxmZmZEREQQEBAyMjIiIiKIiIgAAAB7fvZ0AAAAAXRSTlMAQObYZgAAAGVJREFU\n",
       "CNdjYGDgu3N+70oGBgaO+gK2+CdAhoEzAwPTFwYG5oQNQN4UBgZORgcgI4+BIZM9gAEMWpkMoAx2\n",
       "KCOLAyrFk+AAYTAHgBhsQLy4DkjUJjAwsHg9Y6taBpLsvP/bnYEBACkBFGQfBv8RAAAAAElFTkSu\n",
       "QmCC\n",
       "\" style=\"display:inline;vertical-align:middle;\" /></a></td></tr>\n",
       "<tr><td>10</td><td>Literal</td><td></td><td><a class=\"ProveItLink\" href=\"../../../numeral/__pv_it/23412ce59ea7e77353d2f9225e02248e73651ca00/expr.ipynb\"><img src=\"data:image/png;base64,iVBORw0KGgoAAAANSUhEUgAAAAoAAAAPBAMAAAAv0UM9AAAALVBMVEX///9mZmaqqqru7u52dnYy\n",
       "MjKYmJjc3NwQEBCIiIhEREQiIiJUVFTMzMwAAACUDTcXAAAAAXRSTlMAQObYZgAAAD5JREFUCNdj\n",
       "YGBguMMAArtABGcXiCyLApEOIJKtAERaMoBIBxDJdAFEmjCASJ0zZ16cBCkF64KQPu/EwBwGACv6\n",
       "DSRgin9qAAAAAElFTkSuQmCC\n",
       "\" style=\"display:inline;vertical-align:middle;\" /></a></td></tr>\n",
       "</table>\n"
      ],
      "text/plain": [
       "0. ((1 , 2 , c , b) , Complexes^{4})\n",
       "   core type: ExprTuple\n",
       "   sub-expressions: 1, 2\n",
       "1. (1 , 2 , c , b)\n",
       "   core type: ExprTuple\n",
       "   sub-expressions: 3, 4, 5, 6\n",
       "2. Complexes^{4}\n",
       "   core type: Operation\n",
       "   operator: 7\n",
       "   operands: 8\n",
       "3. 1\n",
       "   core type: Literal\n",
       "   sub-expressions: \n",
       "4. 2\n",
       "   core type: Literal\n",
       "   sub-expressions: \n",
       "5. c\n",
       "   core type: Variable\n",
       "   sub-expressions: \n",
       "6. b\n",
       "   core type: Variable\n",
       "   sub-expressions: \n",
       "7. Exp\n",
       "   core type: Literal\n",
       "   sub-expressions: \n",
       "8. (Complexes , 4)\n",
       "   core type: ExprTuple\n",
       "   sub-expressions: 9, 10\n",
       "9. Complexes\n",
       "   core type: Literal\n",
       "   sub-expressions: \n",
       "10. 4\n",
       "    core type: Literal\n",
       "    sub-expressions: "
      ]
     },
     "execution_count": 4,
     "metadata": {},
     "output_type": "execute_result"
    }
   ],
   "source": [
    "# display the expression information\n",
    "expr.exprInfo()"
   ]
  },
  {
   "cell_type": "code",
   "execution_count": null,
   "metadata": {},
   "outputs": [],
   "source": []
  }
 ],
 "metadata": {
  "kernelspec": {
   "display_name": "Python 3",
   "language": "python",
   "name": "python3"
  }
 },
 "nbformat": 4,
 "nbformat_minor": 0
}
