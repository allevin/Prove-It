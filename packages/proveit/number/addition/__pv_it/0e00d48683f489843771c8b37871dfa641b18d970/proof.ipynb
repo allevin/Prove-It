{
 "cells": [
  {
   "cell_type": "markdown",
   "metadata": {},
   "source": [
    "Show the Proof\n",
    "========"
   ]
  },
  {
   "cell_type": "code",
   "execution_count": 1,
   "metadata": {},
   "outputs": [
    {
     "data": {
      "text/html": [
       "<table><tr><th>&nbsp;</th><th>step type</th><th>requirements</th><th>statement</th></tr>\n",
       "<tr><td>0</td><td>assumption</td><td></td><td><span style=\"font-size:20px;\"><a class=\"ProveItLink\" href=\"../73637a978e262bba5ec720c2bd2137200542ff520/expr.ipynb\"><img src=\"data:image/png;base64,iVBORw0KGgoAAAANSUhEUgAAAEsAAAAVBAMAAAD85A5eAAAAMFBMVEX////c3NxERESqqqpUVFS6\n",
       "urrMzMwyMjIQEBCIiIh2dnYiIiLu7u5mZmaYmJgAAABXZE4RAAAAAXRSTlMAQObYZgAAAVpJREFU\n",
       "KM9jYGDgu8eAD7CtEgBRPLsY8AO2ZhDJ+QFI8Pl/cXEqRVcwu/zHpgsMDNdBbK4GEMmhwMBwPwBV\n",
       "VepXhlM/HRgYViCU5U8AYgcUVXwsDxgY7FGVzQe68/0CsPTJ6t3bQfQbDiDBi6pMA4h3HAC7uO4A\n",
       "xLQLIiAPTkBR9oWBQVwHLCsEVcVzIQpqO1gZbwHIiC8z5+6DCCrCwmGBHZT1HkRkgPzH+ZGB4TTY\n",
       "BzwKcGVxUBY7MFBS2kAsJqDNnP9ALNbu3bvBXuBRyIL5WR3o5YgEIIMfaBLfL7Ah8FCpYYEyuEEh\n",
       "wAJyWz5QPctnsKUbYMpegZUdgLqNawM02OQLwLJ+MGVMT4GBwboHOUCAwcbWDgmJ0/Aoc9E8cFTp\n",
       "AJKyS/9dXMofQCQZaxNgfr39vyWAASV4kQCzOySy4AC7MgwAVsZHUBk4vfHsJJR6WyHpajHhvAAA\n",
       "xyxd/ZrnZ+sAAAAASUVORK5CYII=\n",
       "\" style=\"display:inline;vertical-align:middle;\" /></a> <a class=\"ProveItLink\" href=\"proof.ipynb\" style=\"text-decoration: none\">&#x22A2;&nbsp;</a><a class=\"ProveItLink\" href=\"../a903e504c7972e34e1d2bbf0406fa5404d7b29120/expr.ipynb\"><img src=\"data:image/png;base64,iVBORw0KGgoAAAANSUhEUgAAADkAAAAPBAMAAACsFXoGAAAAMFBMVEX///+qqqru7u4iIiJ2dnbc\n",
       "3NyIiIjMzMxmZmYQEBC6uroyMjJERERUVFSYmJgAAADLUcuvAAAAAXRSTlMAQObYZgAAAPNJREFU\n",
       "GNNjYGB4+//u3dMLGFABm/X+ySfArDkMDBy/UCXZ1y9g8s8Fs74B8V9U2Qf3GBgYwWJsXxkY+L6A\n",
       "BZmyjY03AGk+hQlAshckxANkMU8Cy1Y/gmjlYL0AJNVATP4LDKx7FEAs1kNQgzW4HGB21F9La34A\n",
       "ZvEEQIVKGB/AZPMDGJhswSwdmFAJF1z2JEgFmLfS2BjiKh12uMkgh78H82phQtwKF2Ae/wck7guA\n",
       "mMowWT4HkCwT1Lusv8GCvHDbzi0DEosVIN6t3AQJDCuYLO+dJKY1QP9xnP979/Y+qGB0O0y6wv7n\n",
       "LQZ0ILsZ7GYYAAB27kFZLJ6d7QAAAABJRU5ErkJggg==\n",
       "\" style=\"display:inline;vertical-align:middle;\" /></a></span></td></tr>\n",
       "</table>"
      ],
      "text/plain": [
       "<proveit._core_.proof._ShowProof at 0x7f94e1c942b0>"
      ]
     },
     "execution_count": 1,
     "metadata": {},
     "output_type": "execute_result"
    }
   ],
   "source": [
    "import proveit\n",
    "%show_proof"
   ]
  },
  {
   "cell_type": "code",
   "execution_count": null,
   "metadata": {},
   "outputs": [],
   "source": []
  }
 ],
 "metadata": {
  "kernelspec": {
   "display_name": "Python 3",
   "language": "python",
   "name": "python3"
  }
 },
 "nbformat": 4,
 "nbformat_minor": 0
}
