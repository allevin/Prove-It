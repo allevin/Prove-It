{
 "cells": [
  {
   "cell_type": "markdown",
   "metadata": {},
   "source": [
    "Expression of type <a class=\"ProveItLink\" href=\"../../../../../../doc/html/api/proveit.logic.Set.html\">Set</a>\n",
    "=======================\n",
    "# from context <a class=\"ProveItLink\" href=\"../../_context_.ipynb\">proveit.number.addition</a>"
   ]
  },
  {
   "cell_type": "code",
   "execution_count": 1,
   "metadata": {},
   "outputs": [],
   "source": [
    "# import Expression classes needed to build the expression\n",
    "from proveit.logic import InSet, Set\n",
    "from proveit.number import Neg, RealsNeg, one"
   ]
  },
  {
   "cell_type": "code",
   "execution_count": 2,
   "metadata": {},
   "outputs": [
    {
     "data": {
      "text/html": [
       "<strong id=\"expr\">expr:</strong> <a class=\"ProveItLink\" href=\"expr.ipynb\"><img src=\"data:image/png;base64,iVBORw0KGgoAAAANSUhEUgAAAHUAAAAaBAMAAAB7iA4AAAAAMFBMVEX///+6urp2dnaqqqoiIiIQ\n",
       "EBBERETu7u6IiIjc3NwyMjJUVFSYmJhmZmbMzMwAAAD0pS5FAAAAAXRSTlMAQObYZgAAAZVJREFU\n",
       "OMtjYGDgu8NAMmC+CKF3TSBdL8O0BBDJ8Z2BHBALIrgXgEjGBhQZHgFCerMQel8jCbMVMDDcQ1N6\n",
       "6lv+qihk83ch9C5HiLLnA/VyoduTMJvhmdUEBrM0IChA0cuBMJJ9936gHI8Cut65DGyVCdjsZS1A\n",
       "UtYP5LAHQE3qcnFZANXL9ACrXikGNL0MyRD2q+MIezH1soEELmHo1QUzOdOR3MyN4WZWkFfXYOi1\n",
       "ggT5BCS9IqeQUtF5oCLO1SBWIIZeUTCzDBFWU128DJAU8a5kYDjyAMT6CDRkiQsICED1vgerEAUJ\n",
       "QcNKlg05QBmmNDAwe0D1otkL0fsaKY545TYgpzxnIFF/AEgE43BzCXL8Lu9BUmQ/ARbOORh6T4GZ\n",
       "3AeQ9L7mfoAtfnVxxBG7I5JeJoNMbHpFkLTejV8LtG0hhDPrHjwv5DEsW2+ALU2i539YmmSwXgIJ\n",
       "Z3SA0IuR9JkaCORf7HkQDKoYiNc7G01qJ1F6mcA+40R1I8cDQnq9waGympyijtcdkrr2kFE+5zBQ\n",
       "BgBr7HgqQ1Fo7wAAAABJRU5ErkJggg==\n",
       "\" style=\"display:inline;vertical-align:middle;\" /></a><br>"
      ],
      "text/plain": [
       "expr: {(-1) in RealsNeg}"
      ]
     },
     "execution_count": 2,
     "metadata": {},
     "output_type": "execute_result"
    }
   ],
   "source": [
    "# build up the expression from sub-expressions\n",
    "expr = Set(InSet(Neg(one), RealsNeg))"
   ]
  },
  {
   "cell_type": "code",
   "execution_count": 3,
   "metadata": {},
   "outputs": [
    {
     "name": "stdout",
     "output_type": "stream",
     "text": [
      "Passed sanity check: built 'expr' is the same as the stored Expression.\n"
     ]
    }
   ],
   "source": [
    "# check that the built expression is the same as the stored expression\n",
    "%check_expr"
   ]
  },
  {
   "cell_type": "code",
   "execution_count": 4,
   "metadata": {},
   "outputs": [
    {
     "data": {
      "text/html": [
       "<table><tr><th>&nbsp;</th><th>core type</th><th>sub-expressions</th><th>expression</th></tr>\n",
       "<tr><td>0</td><td>Operation</td><td>operator:&nbsp;1<br>operands:&nbsp;2<br></td><td><a class=\"ProveItLink\" href=\"expr.ipynb\"><img src=\"data:image/png;base64,iVBORw0KGgoAAAANSUhEUgAAAHUAAAAaBAMAAAB7iA4AAAAAMFBMVEX///+6urp2dnaqqqoiIiIQ\n",
       "EBBERETu7u6IiIjc3NwyMjJUVFSYmJhmZmbMzMwAAAD0pS5FAAAAAXRSTlMAQObYZgAAAZVJREFU\n",
       "OMtjYGDgu8NAMmC+CKF3TSBdL8O0BBDJ8Z2BHBALIrgXgEjGBhQZHgFCerMQel8jCbMVMDDcQ1N6\n",
       "6lv+qihk83ch9C5HiLLnA/VyoduTMJvhmdUEBrM0IChA0cuBMJJ9936gHI8Cut65DGyVCdjsZS1A\n",
       "UtYP5LAHQE3qcnFZANXL9ACrXikGNL0MyRD2q+MIezH1soEELmHo1QUzOdOR3MyN4WZWkFfXYOi1\n",
       "ggT5BCS9IqeQUtF5oCLO1SBWIIZeUTCzDBFWU128DJAU8a5kYDjyAMT6CDRkiQsICED1vgerEAUJ\n",
       "QcNKlg05QBmmNDAwe0D1otkL0fsaKY545TYgpzxnIFF/AEgE43BzCXL8Lu9BUmQ/ARbOORh6T4GZ\n",
       "3AeQ9L7mfoAtfnVxxBG7I5JeJoNMbHpFkLTejV8LtG0hhDPrHjwv5DEsW2+ALU2i539YmmSwXgIJ\n",
       "Z3SA0IuR9JkaCORf7HkQDKoYiNc7G01qJ1F6mcA+40R1I8cDQnq9waGympyijtcdkrr2kFE+5zBQ\n",
       "BgBr7HgqQ1Fo7wAAAABJRU5ErkJggg==\n",
       "\" style=\"display:inline;vertical-align:middle;\" /></a></td></tr>\n",
       "<tr><td>1</td><td>Literal</td><td></td><td><a class=\"ProveItLink\" href=\"../../../../logic/set_theory/enumeration/__pv_it/07381ed5b23806e8d7914b78cb6667769e3708dd0/expr.ipynb\"><img src=\"data:image/png;base64,iVBORw0KGgoAAAANSUhEUgAAAB4AAAAOBAMAAADKyLEKAAAAMFBMVEX///8iIiIQEBCIiIjMzMzc\n",
       "3Nyqqqp2dnZEREQyMjK6urru7u5mZmZUVFSYmJgAAACI6eGPAAAAAXRSTlMAQObYZgAAALRJREFU\n",
       "CNdjYGDgu3Nm3wIGBJjHwN0PZW5yYGDgLWBgyITy8zcwMMQDxZyh/INAvD6BgcEFypcB4vjPDiBm\n",
       "TPFRrhs/LjMwMP//38rAwCbKEMPA9gEkE3fp0waG+AUMRxh4JkC01T9guPTOOICBEWgVH5C//wHD\n",
       "H5D4fqCz9oCMDGD4DLaegRXslLMMDMpAgxlOMmQxHDRgYG5gYLBk4D7KcIe7gOHC2rt9QCXsh40Z\n",
       "GCKMGQDRkC8N/Ph1XAAAAABJRU5ErkJggg==\n",
       "\" style=\"display:inline;vertical-align:middle;\" /></a></td></tr>\n",
       "<tr><td>2</td><td>ExprTuple</td><td>3</td><td><a class=\"ProveItLink\" href=\"../d565eec9787e52214bfecaf0af9f6688ec31fb6a0/expr.ipynb\"><img src=\"data:image/png;base64,iVBORw0KGgoAAAANSUhEUgAAAG4AAAAaBAMAAACkxnQfAAAAMFBMVEX///+qqqp2dnYiIiJERESI\n",
       "iIhmZmYQEBDc3NyYmJgyMjLu7u5UVFTMzMy6uroAAACGxKilAAAAAXRSTlMAQObYZgAAAbdJREFU\n",
       "OMtjYGB4x0AqUAARvAdI1ncHROzaQLI+1gAgcRKI+QJQxDkfENBowcDAUQCzGApYgPbnoqmb9cV/\n",
       "VRWS2TEMDGwJQHo1QojbH6iPC90Chx6GK1INDCIuQACU37+Bgf0B1L1QbWfOA8U5FdD1tTGw7HCA\n",
       "c5knMNwHUuzIQRMP5HAXQE2JMjZeANXHdAGhj82BIRxIvWJA08fgCGHfmo2wD1kf5weGU0AqCUOf\n",
       "GpjJ4Y3kTh4kd/L9ZvABUisx9ElBgrYBSd/jWXAeA+9fhmVAqg5D33MwcwsiXNqNrQQQajj+MZgB\n",
       "qX9A1mJjEHgA1XcfLP0cJAQNl2csSIHH/RGmD82++4h0CHUn29sDKPatAVKFONy5GTn+Vkci6fvL\n",
       "cARIeWLomwVm8kxA0neH5wIiPH8wBMNDHTMeuO2Q9DEJeCDH33sg9RhJW1r9MqAt6yCcrlx4uvZl\n",
       "WLIeHqJMCxj4gbazN6AlR1g6Y5BZDAlPNMAVwMCjgCUZMwXgz3/7Gxh4DVDzERjsIpBvp0CTcA+a\n",
       "+AkC+mxBfgfFB6q7WC/g18YJyuuMCiSXSy1gciLJ+rIZyAYAkgp1sas87zIAAAAASUVORK5CYII=\n",
       "\" style=\"display:inline;vertical-align:middle;\" /></a></td></tr>\n",
       "<tr><td>3</td><td>Operation</td><td>operator:&nbsp;4<br>operands:&nbsp;5<br></td><td><a class=\"ProveItLink\" href=\"../5fa2e897f2b5c27ef654392f28ef8d98ae8eef520/expr.ipynb\"><img src=\"data:image/png;base64,iVBORw0KGgoAAAANSUhEUgAAAF0AAAAVBAMAAADWVP/xAAAAMFBMVEX////c3NwiIiJERESqqqqY\n",
       "mJh2dnZmZmYQEBDu7u4yMjJUVFTMzMyIiIi6uroAAAAs73DqAAAAAXRSTlMAQObYZgAAASpJREFU\n",
       "KM9jYCAV8F1A4bI+IKD+NBKbeQIDQw2afNRn+1VdSGauRDA57YHqudANNJBmOOwlwOBsDAQTGHgR\n",
       "Wjl37weqZ01AVy/OwDzRAMbjmIAkdR/I4WyA6r6lpLQAqp7tAFz9KwY09QwmEPapSIT5SOrLMNSn\n",
       "g5mMlkju4Ua4ZymGei9IUAkgqX8UBef1Yah/AWZORvhXQknLAc77B7R6kRIIPICqPw8WfwESgvr3\n",
       "OfMEZPVo5p9Hi0YDcfY3G+C8FhzumYQc/iuvwnmmGOqjwEzuACT1p7kPwHjpOMKTUw9JPZuDIYz3\n",
       "CEl5ef9yoKnrIBypGnh6s2FYvB4WQhwCaMkFlh4YvBdBwgcVYCQvtgv40/9KNP4sAvlFGo2/kYB6\n",
       "RlT7eQ/gVQ0AMZZRBC4NEyMAAAAASUVORK5CYII=\n",
       "\" style=\"display:inline;vertical-align:middle;\" /></a></td></tr>\n",
       "<tr><td>4</td><td>Literal</td><td></td><td><a class=\"ProveItLink\" href=\"../../../../logic/set_theory/membership/__pv_it/088cbc857536a28d4119ad9639a84270ccb0545d0/expr.ipynb\"><img src=\"data:image/png;base64,iVBORw0KGgoAAAANSUhEUgAAAAwAAAAMBAMAAACkW0HUAAAALVBMVEX///+qqqpmZmZUVFQQEBC6\n",
       "urpERETc3NyYmJjMzMwiIiIyMjKIiIju7u4AAACYsrA9AAAAAXRSTlMAQObYZgAAADxJREFUCNdj\n",
       "YOA9vWrVBgaG2b0MQMCeCyIZ2ArA1DUwyRCyahVIyWQI7xaEYm4AU7xLIdxqTQgtvGvVBgCkcQ7e\n",
       "geM/tQAAAABJRU5ErkJggg==\n",
       "\" style=\"display:inline;vertical-align:middle;\" /></a></td></tr>\n",
       "<tr><td>5</td><td>ExprTuple</td><td>6, 7</td><td><a class=\"ProveItLink\" href=\"../6ef0327b3bf985a4823c0d2427b349948c2c9d8d0/expr.ipynb\"><img src=\"data:image/png;base64,iVBORw0KGgoAAAANSUhEUgAAAE4AAAAaBAMAAADrm3fPAAAAMFBMVEX///+qqqp2dnYiIiJERESI\n",
       "iIhmZmYQEBDc3NyYmJgyMjLu7u5UVFTMzMy6uroAAACGxKilAAAAAXRSTlMAQObYZgAAAStJREFU\n",
       "OMtjYGB4x0AIKIAI3gME1d0BEbs2EFTHGgAkTjIQBhYMDBwFSHwWqNmzvvivqgpAiMcwMLAlILjc\n",
       "/jA3OPQwXJFqYBBxAQKg2P4NDOwPEMrOnIera2Ng2eEAl2GewHAf2R3xSOqYLiDUsTkwhBOjjvMD\n",
       "wylc6niQ7OX7zeCDS93jWQ1wcd6/DMuwq2s3thJAiHP8YzADkouNQeABinnPWJDiifsjSB1We9ne\n",
       "HkAxbw0u962ORFL3l+EIuroNUHV3eC4g/PuDIRhNHfdnWPgJeCCH33skZWn1yyZw1zeA04Evw5L1\n",
       "cB8zLWDgv4CWhvgaMNMVVwADjwKaGCeW9Le/gYHXgAh1U4DYEU0sAIs6WyDuIpzsOUFpmVGBoLoW\n",
       "MDmRoLpsBqIBAEZEV5lAuA6OAAAAAElFTkSuQmCC\n",
       "\" style=\"display:inline;vertical-align:middle;\" /></a></td></tr>\n",
       "<tr><td>6</td><td>Operation</td><td>operator:&nbsp;8<br>operand:&nbsp;9<br></td><td><a class=\"ProveItLink\" href=\"../27bb768acc4707a63c4de5a0b22e13dfe76b5c980/expr.ipynb\"><img src=\"data:image/png;base64,iVBORw0KGgoAAAANSUhEUgAAABgAAAAPBAMAAAAMihLoAAAAJ1BMVEX///+YmJgQEBBmZmaIiIhU\n",
       "VFTu7u5ERES6uroiIiIyMjLc3NwAAAAKCT4sAAAAAXRSTlMAQObYZgAAACpJREFUCNdjYICDMgST\n",
       "If0Ygp0aisRhYCGTs2smCMwg3wAYYDY6ZciADABBShCHMIgXsAAAAABJRU5ErkJggg==\n",
       "\" style=\"display:inline;vertical-align:middle;\" /></a></td></tr>\n",
       "<tr><td>7</td><td>Literal</td><td></td><td><a class=\"ProveItLink\" href=\"../../../sets/real/__pv_it/ae6abf015b290ff2a5b5ccb58f19177a82c6074b0/expr.ipynb\"><img src=\"data:image/png;base64,iVBORw0KGgoAAAANSUhEUgAAABsAAAAOBAMAAAAs4XpOAAAAMFBMVEX///8iIiK6urp2dnbu7u5m\n",
       "ZmaqqqrMzMxUVFTc3NyIiIgQEBBEREQyMjKYmJgAAAA9nvXMAAAAAXRSTlMAQObYZgAAAF1JREFU\n",
       "CNdjePvn/N29Cxjg4MAMhprcCQw5Z4DAAcidysDjeQAhO5WBuQAflwNVseLbCQjubEHZBCSLpqry\n",
       "OCBzWdUbkLkMV9ahcCs4ClDsTTgJ4wG9cJzhzn2o2QB/7ytaZzHgkAAAAABJRU5ErkJggg==\n",
       "\" style=\"display:inline;vertical-align:middle;\" /></a></td></tr>\n",
       "<tr><td>8</td><td>Literal</td><td></td><td><a class=\"ProveItLink\" href=\"../../../negation/__pv_it/3fc7a08bb9735faa20ef8e175f6ea95511acc9c70/expr.ipynb\"><img src=\"data:image/png;base64,iVBORw0KGgoAAAANSUhEUgAAAA4AAAACBAMAAACapPCZAAAAElBMVEX///+6uroiIiIyMjLc3NwA\n",
       "AAA6l9OrAAAAAXRSTlMAQObYZgAAABBJREFUCNdjcFYCAUUGKAAADR4BD8/TF5gAAAAASUVORK5C\n",
       "YII=\n",
       "\" style=\"display:inline;vertical-align:middle;\" /></a></td></tr>\n",
       "<tr><td>9</td><td>Literal</td><td></td><td><a class=\"ProveItLink\" href=\"../../../numeral/__pv_it/9be8badea4c35b9724062cecc501d17a3158d1d20/expr.ipynb\"><img src=\"data:image/png;base64,iVBORw0KGgoAAAANSUhEUgAAAAgAAAAPBAMAAAArJJMAAAAAHlBMVEX///+YmJgyMjIQEBBmZmaI\n",
       "iIhUVFTu7u5EREQAAAAw+MI4AAAAAXRSTlMAQObYZgAAACFJREFUCNdjYGBoZ2BgqJjOwFCWBiQY\n",
       "WEklWJwnOTKAAACjEQo8HvEr3AAAAABJRU5ErkJggg==\n",
       "\" style=\"display:inline;vertical-align:middle;\" /></a></td></tr>\n",
       "</table>\n"
      ],
      "text/plain": [
       "0. {(-1) in RealsNeg}\n",
       "   core type: Operation\n",
       "   operator: 1\n",
       "   operands: 2\n",
       "1. Set\n",
       "   core type: Literal\n",
       "   sub-expressions: \n",
       "2. ((-1) in RealsNeg)\n",
       "   core type: ExprTuple\n",
       "   sub-expressions: 3\n",
       "3. (-1) in RealsNeg\n",
       "   core type: Operation\n",
       "   operator: 4\n",
       "   operands: 5\n",
       "4. in\n",
       "   core type: Literal\n",
       "   sub-expressions: \n",
       "5. (-1 , RealsNeg)\n",
       "   core type: ExprTuple\n",
       "   sub-expressions: 6, 7\n",
       "6. -1\n",
       "   core type: Operation\n",
       "   operator: 8\n",
       "   operand: 9\n",
       "7. RealsNeg\n",
       "   core type: Literal\n",
       "   sub-expressions: \n",
       "8. -\n",
       "   core type: Literal\n",
       "   sub-expressions: \n",
       "9. 1\n",
       "   core type: Literal\n",
       "   sub-expressions: "
      ]
     },
     "execution_count": 4,
     "metadata": {},
     "output_type": "execute_result"
    }
   ],
   "source": [
    "# display the expression information\n",
    "expr.exprInfo()"
   ]
  },
  {
   "cell_type": "code",
   "execution_count": null,
   "metadata": {},
   "outputs": [],
   "source": []
  }
 ],
 "metadata": {
  "kernelspec": {
   "display_name": "Python 3",
   "language": "python",
   "name": "python3"
  }
 },
 "nbformat": 4,
 "nbformat_minor": 0
}
