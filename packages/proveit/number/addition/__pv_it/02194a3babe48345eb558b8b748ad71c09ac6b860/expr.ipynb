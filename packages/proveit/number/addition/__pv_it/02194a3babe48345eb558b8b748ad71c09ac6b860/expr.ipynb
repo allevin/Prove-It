{
 "cells": [
  {
   "cell_type": "markdown",
   "metadata": {},
   "source": [
    "Expression of type <a class=\"ProveItLink\" href=\"../../../../../../doc/html/api/proveit.logic.Set.html\">Set</a>\n",
    "=======================\n",
    "# from context <a class=\"ProveItLink\" href=\"../../_context_.ipynb\">proveit.number.addition</a>"
   ]
  },
  {
   "cell_type": "code",
   "execution_count": 1,
   "metadata": {},
   "outputs": [],
   "source": [
    "# import Expression classes needed to build the expression\n",
    "from proveit._common_ import a, c\n",
    "from proveit.logic import InSet, Set\n",
    "from proveit.number import Reals"
   ]
  },
  {
   "cell_type": "code",
   "execution_count": 2,
   "metadata": {},
   "outputs": [
    {
     "data": {
      "text/html": [
       "<strong id=\"expr\">expr:</strong> <a class=\"ProveItLink\" href=\"expr.ipynb\"><img src=\"data:image/png;base64,iVBORw0KGgoAAAANSUhEUgAAAIEAAAAVBAMAAACTeZA2AAAAMFBMVEX///9ERETc3NyqqqpUVFS6\n",
       "urrMzMwyMjIQEBCIiIh2dnYiIiLu7u5mZmaYmJgAAABJJ2g3AAAAAXRSTlMAQObYZgAAAd5JREFU\n",
       "OMtjYGDgu8dAJmBbpQCieHYxkA3YmkEk5wdscs8/ype3T8Chka9e8HtFJYh1HURwNWBVJaDCkGiu\n",
       "gMMIRiYHNuEiIGMFPhN0GRgPCeA04QKDjCJ2E05W794OM4ErAc0Enum7dxfATFjGiNUEtroDCDdg\n",
       "mJD+BskNaCYweS5tAnEUDyD5ggXmC55VMxNAimSQfeED9wUvyF0RCozgKBFCDofo59CQzAhg3wDS\n",
       "p4BkAus+UEi+h0gDTf/HwAuyjwfhbAGN3dsNoE7oZGB8AKQPIoVk9+5iEIP9AgNDShuQwfKBgRsU\n",
       "+azdu3fDQzKWEeolFmiKiQBKwkLy6gWIl8SBRkcAvcgvwHAe5FM2ByRf8IZBefxQl6Ugx+ZVMI97\n",
       "AcgGoKn6ExjsGYA28mxADoeaeRCmPjRtnkY2gf3kA1g4cAF1nTdgcGcGOcIP2YQUlgQGHpAbgGpB\n",
       "ylkeIJnA5uCGHJvsD5j3coGtCUAygctAiOE80HyWC8CkAQrRrcixuRgUNXATmDynJk4FcZhqE+A5\n",
       "S4yhsN7gxCcg59bMOWBB9WvwnPUxgV38M9ZUzewOjQsYCELmmFRD4gIO8OUsGHiAVxZsAh8lJoDL\n",
       "B56d+JRw4i+jWiHhspiichIACvyDrCmTlugAAAAASUVORK5CYII=\n",
       "\" style=\"display:inline;vertical-align:middle;\" /></a><br>"
      ],
      "text/plain": [
       "expr: {a in Reals , c in Reals}"
      ]
     },
     "execution_count": 2,
     "metadata": {},
     "output_type": "execute_result"
    }
   ],
   "source": [
    "# build up the expression from sub-expressions\n",
    "expr = Set(InSet(a, Reals), InSet(c, Reals))"
   ]
  },
  {
   "cell_type": "code",
   "execution_count": 3,
   "metadata": {},
   "outputs": [
    {
     "name": "stdout",
     "output_type": "stream",
     "text": [
      "Passed sanity check: built 'expr' is the same as the stored Expression.\n"
     ]
    }
   ],
   "source": [
    "# check that the built expression is the same as the stored expression\n",
    "%check_expr"
   ]
  },
  {
   "cell_type": "code",
   "execution_count": 4,
   "metadata": {},
   "outputs": [
    {
     "data": {
      "text/html": [
       "<table><tr><th>&nbsp;</th><th>core type</th><th>sub-expressions</th><th>expression</th></tr>\n",
       "<tr><td>0</td><td>Operation</td><td>operator:&nbsp;1<br>operands:&nbsp;2<br></td><td><a class=\"ProveItLink\" href=\"expr.ipynb\"><img src=\"data:image/png;base64,iVBORw0KGgoAAAANSUhEUgAAAIEAAAAVBAMAAACTeZA2AAAAMFBMVEX///9ERETc3NyqqqpUVFS6\n",
       "urrMzMwyMjIQEBCIiIh2dnYiIiLu7u5mZmaYmJgAAABJJ2g3AAAAAXRSTlMAQObYZgAAAd5JREFU\n",
       "OMtjYGDgu8dAJmBbpQCieHYxkA3YmkEk5wdscs8/ype3T8Chka9e8HtFJYh1HURwNWBVJaDCkGiu\n",
       "gMMIRiYHNuEiIGMFPhN0GRgPCeA04QKDjCJ2E05W794OM4ErAc0Enum7dxfATFjGiNUEtroDCDdg\n",
       "mJD+BskNaCYweS5tAnEUDyD5ggXmC55VMxNAimSQfeED9wUvyF0RCozgKBFCDofo59CQzAhg3wDS\n",
       "p4BkAus+UEi+h0gDTf/HwAuyjwfhbAGN3dsNoE7oZGB8AKQPIoVk9+5iEIP9AgNDShuQwfKBgRsU\n",
       "+azdu3fDQzKWEeolFmiKiQBKwkLy6gWIl8SBRkcAvcgvwHAe5FM2ByRf8IZBefxQl6Ugx+ZVMI97\n",
       "AcgGoKn6ExjsGYA28mxADoeaeRCmPjRtnkY2gf3kA1g4cAF1nTdgcGcGOcIP2YQUlgQGHpAbgGpB\n",
       "ylkeIJnA5uCGHJvsD5j3coGtCUAygctAiOE80HyWC8CkAQrRrcixuRgUNXATmDynJk4FcZhqE+A5\n",
       "S4yhsN7gxCcg59bMOWBB9WvwnPUxgV38M9ZUzewOjQsYCELmmFRD4gIO8OUsGHiAVxZsAh8lJoDL\n",
       "B56d+JRw4i+jWiHhspiichIACvyDrCmTlugAAAAASUVORK5CYII=\n",
       "\" style=\"display:inline;vertical-align:middle;\" /></a></td></tr>\n",
       "<tr><td>1</td><td>Literal</td><td></td><td><a class=\"ProveItLink\" href=\"../../../../logic/set_theory/enumeration/__pv_it/07381ed5b23806e8d7914b78cb6667769e3708dd0/expr.ipynb\"><img src=\"data:image/png;base64,iVBORw0KGgoAAAANSUhEUgAAAB4AAAAOBAMAAADKyLEKAAAAMFBMVEX///8iIiIQEBCIiIjMzMzc\n",
       "3Nyqqqp2dnZEREQyMjK6urru7u5mZmZUVFSYmJgAAACI6eGPAAAAAXRSTlMAQObYZgAAALRJREFU\n",
       "CNdjYGDgu3Nm3wIGBJjHwN0PZW5yYGDgLWBgyITy8zcwMMQDxZyh/INAvD6BgcEFypcB4vjPDiBm\n",
       "TPFRrhs/LjMwMP//38rAwCbKEMPA9gEkE3fp0waG+AUMRxh4JkC01T9guPTOOICBEWgVH5C//wHD\n",
       "H5D4fqCz9oCMDGD4DLaegRXslLMMDMpAgxlOMmQxHDRgYG5gYLBk4D7KcIe7gOHC2rt9QCXsh40Z\n",
       "GCKMGQDRkC8N/Ph1XAAAAABJRU5ErkJggg==\n",
       "\" style=\"display:inline;vertical-align:middle;\" /></a></td></tr>\n",
       "<tr><td>2</td><td>ExprTuple</td><td>3, 4</td><td><a class=\"ProveItLink\" href=\"../529e6c7e04d6533ba238edcb1518849686ced2e70/expr.ipynb\"><img src=\"data:image/png;base64,iVBORw0KGgoAAAANSUhEUgAAAHoAAAAVBAMAAAB71edYAAAAMFBMVEX////c3NwiIiJERESqqqqY\n",
       "mJh2dnZmZmYQEBDu7u4yMjJUVFTMzMyIiIi6uroAAAAs73DqAAAAAXRSTlMAQObYZgAAAe9JREFU\n",
       "OMtjYKAM8F0gUyPrAyBxGotE1Gf7VV24TGVdb/xrxVogowaIV2JTYSDNcNhLAId2ZsYNPCYLGRi4\n",
       "GBh4sVphIM7APNEAp+4CBkthoCMSGDgmIInPXaSkBdPNdgBNN+ctJaUFMN05zECBBoZXSPI8Sycg\n",
       "7MbQfSoSyW6QbgYThjIgybg3rxEkLDwByeXcMJdzpt09AFJkiezynUCXM6QzLAWSLwSYP4CEDZH9\n",
       "/SgKGmonHnApgPQIIOnmUwWGGoMXQx/Q1K8M7CB7OBFONZBQ0nKAWt3LwBwApCcjhVqT0hIQ4wXD\n",
       "PwYG7g8MTKCQ52tSUoKH2nNmqDe4P0DoF0BJWKjVFYC9cR6km9+AYT7IZzwbkFzO/gbK44e66DRy\n",
       "jNWdhuhuYWCQv8DgzwC0iVMB2d8rr0KY8tAEMQlZN9fcALDLTRkY5jsw7GIBWb4VWfdp7gMMnCC7\n",
       "gepASrkDkHTzbNgDStDAUGfgCmBRZwMb/wBJN5uDIcN8oGu4C4BRDwo9PeQYSwFFQTrDI1B03zt8\n",
       "DyTMuPwAPJfYMCxe7zDjI5BTdvcmWFCqBp5LPh/gsvrCwLCOgQM5L7DsgoY5DDxE5ngvgoQ5POk2\n",
       "gJI6HhCAT5LtAo4cSpTuWUAsjUeeF2/hshEUVOSWTLwHGADGtXkN6HTR8wAAAABJRU5ErkJggg==\n",
       "\" style=\"display:inline;vertical-align:middle;\" /></a></td></tr>\n",
       "<tr><td>3</td><td>Operation</td><td>operator:&nbsp;6<br>operands:&nbsp;5<br></td><td><a class=\"ProveItLink\" href=\"../12e1039409d0a183701ae59c5c952745fb6478810/expr.ipynb\"><img src=\"data:image/png;base64,iVBORw0KGgoAAAANSUhEUgAAADMAAAAPBAMAAAC7N+rPAAAAMFBMVEX///8yMjKqqqrMzMzu7u4i\n",
       "IiJmZmaYmJhEREQQEBC6urp2dnaIiIhUVFTc3NwAAAD87Fq/AAAAAXRSTlMAQObYZgAAAMNJREFU\n",
       "GNNjYMAAhT/6BSceYMAKGt4yWCg+wC71jIHDrwFZhOVgaKgAVIrbAEXKsAShCyLFd2fXPJAAXwuS\n",
       "gbxgA1c+4PgAEuB4gCS1tBDI4/vOwAY21wPhjJehgQpAmvcDAyvYEytDQ+HOWMbhAKT5Gxj8DUAC\n",
       "tkiOZ1t8AUi/P8CgzwBS44rsL5HjQNpfgeEiE0gbbwGSlC0vUIixgCmMG+zjKCQpboU+kLdOWZwC\n",
       "izxMhgdvM4OEvAJycOiKQlwIBQB1/jwDBuYV5wAAAABJRU5ErkJggg==\n",
       "\" style=\"display:inline;vertical-align:middle;\" /></a></td></tr>\n",
       "<tr><td>4</td><td>Operation</td><td>operator:&nbsp;6<br>operands:&nbsp;7<br></td><td><a class=\"ProveItLink\" href=\"../b10c95388a44a46aae63ab68515cfd030d8aa7380/expr.ipynb\"><img src=\"data:image/png;base64,iVBORw0KGgoAAAANSUhEUgAAADEAAAAPBAMAAAC/wjryAAAAMFBMVEX///+qqqpmZmbc3NxUVFSY\n",
       "mJhEREQiIiIyMjK6uroQEBDMzMyIiIh2dnbu7u4AAAA4MM1YAAAAAXRSTlMAQObYZgAAALZJREFU\n",
       "GNNjYEAHEd/yO1YcYMAGEkwYtkkYYJUxYmB7nIAkwHeivLwBKsO7AVlmRxxCD0SG7+6ZDUCKOQ/J\n",
       "NBawabsmcBQAKTYDJJnpEUAe3xoGtgAg/xnCBVblFQJAmuUDhD+rvBzugklsD4A0P9QVW5BczTTb\n",
       "AUjbQ737HNk/fUdBeoCWgOxhCUCS2cICdC6LAtD1IMdXIsnwCiQDGbpnzoEFLLThIZrN0NYvgBQI\n",
       "Iu0Qt0EBADmNMo1PEJ+NAAAAAElFTkSuQmCC\n",
       "\" style=\"display:inline;vertical-align:middle;\" /></a></td></tr>\n",
       "<tr><td>5</td><td>ExprTuple</td><td>8, 10</td><td><a class=\"ProveItLink\" href=\"../2aa3c33b979b37cda7b84a5e2308eb5c8291c7180/expr.ipynb\"><img src=\"data:image/png;base64,iVBORw0KGgoAAAANSUhEUgAAAC8AAAAVBAMAAAAk6KpUAAAAMFBMVEX////c3NwiIiJERESqqqqY\n",
       "mJh2dnZmZmYQEBDu7u4yMjJUVFTMzMyIiIi6uroAAAAs73DqAAAAAXRSTlMAQObYZgAAARVJREFU\n",
       "KM9jYMAJ+C5gisWBiNNIAlGf7Vd1ARWyHwByViIrNZBmOOwlwMCwgIGBF8UkA3EG5okGDAxhDAwc\n",
       "E9Ak2A4AJWYwMLxiwCbB7MBQBuQy7s1rhEtwg4xiK2BYCuS+EGD+AJd4FAW0nGUBQx9Qw1cGdgOo\n",
       "hISSlgPIcw0M/xgYuD8wMF2A6XjODHINzweQBL8Bw/wDMAn2NxsgEi0MDPIXGPwZJsDsWHkVYpQp\n",
       "A8N8B4ZdLAc4oRKnuYG6WRcwpDMwcAWwqLMxzFeA+sPBEOzcRyBv3Dt8j2HGR3Ag2jAsXu/AwPWA\n",
       "gUMA5uuHSCEADBLWBBgnAEkiFznYkSQ4gcHOIA3l8CJp4AaZz4glau8wMAAAODBDl6KECvwAAAAA\n",
       "SUVORK5CYII=\n",
       "\" style=\"display:inline;vertical-align:middle;\" /></a></td></tr>\n",
       "<tr><td>6</td><td>Literal</td><td></td><td><a class=\"ProveItLink\" href=\"../../../../logic/set_theory/membership/__pv_it/088cbc857536a28d4119ad9639a84270ccb0545d0/expr.ipynb\"><img src=\"data:image/png;base64,iVBORw0KGgoAAAANSUhEUgAAAAwAAAAMBAMAAACkW0HUAAAALVBMVEX///+qqqpmZmZUVFQQEBC6\n",
       "urpERETc3NyYmJjMzMwiIiIyMjKIiIju7u4AAACYsrA9AAAAAXRSTlMAQObYZgAAADxJREFUCNdj\n",
       "YOA9vWrVBgaG2b0MQMCeCyIZ2ArA1DUwyRCyahVIyWQI7xaEYm4AU7xLIdxqTQgtvGvVBgCkcQ7e\n",
       "geM/tQAAAABJRU5ErkJggg==\n",
       "\" style=\"display:inline;vertical-align:middle;\" /></a></td></tr>\n",
       "<tr><td>7</td><td>ExprTuple</td><td>9, 10</td><td><a class=\"ProveItLink\" href=\"../83cf7012619d6fb694a2c52cbe9376aa4afb595a0/expr.ipynb\"><img src=\"data:image/png;base64,iVBORw0KGgoAAAANSUhEUgAAAC0AAAAVBAMAAAAgHXppAAAAMFBMVEX////c3NwiIiJERESqqqqY\n",
       "mJh2dnZmZmYQEBDu7u4yMjJUVFTMzMyIiIi6uroAAAAs73DqAAAAAXRSTlMAQObYZgAAAQRJREFU\n",
       "GNNjYMAF+C5gCMWBiNMIftRn+1VdQGXsB4CclUgKDaQZDnsJMDAsYGDgRTbGQJyBeaIBA0MYAwPH\n",
       "BFRxtgNA8RkMDK8YsIgzOzCUAbmcaXcPwMS5QeawFTAsBXJPPOBSgIk/igLay7KAoQ+ovJeBOQAi\n",
       "LqGk5QDyUwPDPwYG7g8I858zg9zB8wEkzm+AEGd/swEi3sLAIH8ByT0rr0LMMQWqBxoewAkVP80N\n",
       "dBrrAoZ0oPkFQFfPV4C638EQ7M5HQG7Z3ZsMMz6Cw82GYfF6BwauBwwcAlCzHyL5GxgOrAlQdgCS\n",
       "eC5SOCOJcwLDmUEawuZFUs4NMpsRMx7vMDAAAHdGPoCrhInqAAAAAElFTkSuQmCC\n",
       "\" style=\"display:inline;vertical-align:middle;\" /></a></td></tr>\n",
       "<tr><td>8</td><td>Variable</td><td></td><td><a class=\"ProveItLink\" href=\"../../../../__pv_it/07527342713064c87612d00d8557c53d53d5324a0/expr.ipynb\"><img src=\"data:image/png;base64,iVBORw0KGgoAAAANSUhEUgAAAAsAAAAJBAMAAAAWSsseAAAAMFBMVEX///8yMjKqqqrMzMzu7u4i\n",
       "IiJmZmaYmJhEREQQEBC6urp2dnaIiIhUVFTc3NwAAAD87Fq/AAAAAXRSTlMAQObYZgAAAEhJREFU\n",
       "CNdjYOC7s2seAwPDygccHxgY+L4zsDUwMPB+YGA9wMDA38Dgb8DA8P4Agz6DA4O/AsNFJgMGxgKm\n",
       "MG6gyjunLE4xAAAZTBA5TB6DCwAAAABJRU5ErkJggg==\n",
       "\" style=\"display:inline;vertical-align:middle;\" /></a></td></tr>\n",
       "<tr><td>9</td><td>Variable</td><td></td><td><a class=\"ProveItLink\" href=\"../../../../__pv_it/cbdfda466482236edba0ce44ac7ef39cda0af7a40/expr.ipynb\"><img src=\"data:image/png;base64,iVBORw0KGgoAAAANSUhEUgAAAAkAAAAJBAMAAAASvxsjAAAALVBMVEX///9mZmbc3NxUVFSYmJhE\n",
       "REQiIiIyMjK6uroQEBDMzMyIiIh2dnbu7u4AAABgFDGoAAAAAXRSTlMAQObYZgAAADZJREFUCNdj\n",
       "YOA9s3sBA8PKBvYEBt7ZDKwODMwPGICALwBE6m0Asx0YGIDiAgw8QJUyu/cyAAAmuwmycZ8WfQAA\n",
       "AABJRU5ErkJggg==\n",
       "\" style=\"display:inline;vertical-align:middle;\" /></a></td></tr>\n",
       "<tr><td>10</td><td>Literal</td><td></td><td><a class=\"ProveItLink\" href=\"../../../sets/real/__pv_it/9e7645ee1117062e179dd6264898f99ed95b157c0/expr.ipynb\"><img src=\"data:image/png;base64,iVBORw0KGgoAAAANSUhEUgAAAA8AAAAOBAMAAAACpFvcAAAAMFBMVEX///8iIiK6urp2dnbu7u5m\n",
       "ZmaqqqrMzMxUVFTc3NyIiIgQEBBEREQyMjKYmJgAAAA9nvXMAAAAAXRSTlMAQObYZgAAAFJJREFU\n",
       "CNdjePvn/N29CxiA4MAMhprcCSDGVAYezwMQBnMBOoMDJqX4Fqx4tqBsAlj7VFUeBwiDVb0BwmC4\n",
       "sg7KqOAogJqTcJKBAWjpcYY79xMAyqEnfsw4ApEAAAAASUVORK5CYII=\n",
       "\" style=\"display:inline;vertical-align:middle;\" /></a></td></tr>\n",
       "</table>\n"
      ],
      "text/plain": [
       "0. {a in Reals , c in Reals}\n",
       "   core type: Operation\n",
       "   operator: 1\n",
       "   operands: 2\n",
       "1. Set\n",
       "   core type: Literal\n",
       "   sub-expressions: \n",
       "2. (a in Reals , c in Reals)\n",
       "   core type: ExprTuple\n",
       "   sub-expressions: 3, 4\n",
       "3. a in Reals\n",
       "   core type: Operation\n",
       "   operator: 6\n",
       "   operands: 5\n",
       "4. c in Reals\n",
       "   core type: Operation\n",
       "   operator: 6\n",
       "   operands: 7\n",
       "5. (a , Reals)\n",
       "   core type: ExprTuple\n",
       "   sub-expressions: 8, 10\n",
       "6. in\n",
       "   core type: Literal\n",
       "   sub-expressions: \n",
       "7. (c , Reals)\n",
       "   core type: ExprTuple\n",
       "   sub-expressions: 9, 10\n",
       "8. a\n",
       "   core type: Variable\n",
       "   sub-expressions: \n",
       "9. c\n",
       "   core type: Variable\n",
       "   sub-expressions: \n",
       "10. Reals\n",
       "    core type: Literal\n",
       "    sub-expressions: "
      ]
     },
     "execution_count": 4,
     "metadata": {},
     "output_type": "execute_result"
    }
   ],
   "source": [
    "# display the expression information\n",
    "expr.exprInfo()"
   ]
  },
  {
   "cell_type": "code",
   "execution_count": null,
   "metadata": {},
   "outputs": [],
   "source": []
  }
 ],
 "metadata": {
  "kernelspec": {
   "display_name": "Python 3",
   "language": "python",
   "name": "python3"
  }
 },
 "nbformat": 4,
 "nbformat_minor": 0
}
