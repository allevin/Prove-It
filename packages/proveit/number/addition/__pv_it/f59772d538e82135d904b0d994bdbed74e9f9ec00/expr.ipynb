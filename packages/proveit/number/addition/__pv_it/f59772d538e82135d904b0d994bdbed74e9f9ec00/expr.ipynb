{
 "cells": [
  {
   "cell_type": "markdown",
   "metadata": {},
   "source": [
    "Expression of type <a class=\"ProveItLink\" href=\"../../../../../../doc/html/api/proveit.logic.InSet.html\">InSet</a>\n",
    "=======================\n",
    "# from context <a class=\"ProveItLink\" href=\"../../_context_.ipynb\">proveit.number.addition</a>"
   ]
  },
  {
   "cell_type": "code",
   "execution_count": 1,
   "metadata": {},
   "outputs": [],
   "source": [
    "# import Expression classes needed to build the expression\n",
    "from proveit._common_ import b, c\n",
    "from proveit.logic import InSet\n",
    "from proveit.number import Complexes, Exp, six"
   ]
  },
  {
   "cell_type": "code",
   "execution_count": 2,
   "metadata": {},
   "outputs": [
    {
     "data": {
      "text/html": [
       "<strong id=\"expr\">expr:</strong> <a class=\"ProveItLink\" href=\"expr.ipynb\"><img src=\"data:image/png;base64,iVBORw0KGgoAAAANSUhEUgAAAKIAAAAZBAMAAABA0eieAAAAMFBMVEX////c3NwiIiJERESqqqqY\n",
       "mJh2dnZmZmYQEBDu7u4yMjJUVFTMzMyIiIi6uroAAAAs73DqAAAAAXRSTlMAQObYZgAAAlxJREFU\n",
       "SMetVU1o02AYfur6kzRpUvC4Q0s9iJ4q6lHoxYsg60nRgxQP7mIhCO6ggjJkF3EGD1McOhkMqYpE\n",
       "cCjKMCcRBC1ehmihCop4mTpFB7b65s3fmm9GHMkheb7n433e93t/vgCJPpea9WQFcVv9nKxg1pAb\n",
       "ySpKtYTPjNLexSKgtf/fMtNdm3/RUMvAM8gPypEdkcH0+OrVKUHs5c2fm4xSF9+AFpC3ovsig1sD\n",
       "+9Hd531M9SzdRg8FOrQuJFRkHOerjh0paUahPhyx8jX0IZnAkhk1FxltZSAtZ9zv1dnKVud7QKJX\n",
       "zkpbWhmfCB4WAhKZ7GBmd/BbnfM8G8OOmzb2j5oYc1LUmfdcH+nYbtIEJr/w2huwqeYbYJThRk9Q\n",
       "Nj6EzuZovQzdNXvazXMoIoOZKn65cU1iFtjDeJsnojZ2h4qTQHoFEmdaPo8hDkRkMGJigsHlNnYC\n",
       "H3m3Gii+DxX7lNHr0A0HK/6YiwxOAD8YPHZ7mas1XqlwZeTqkwHFDQaWOBDd9yky2AztO4PlUFEN\n",
       "uralhIpnuflOc4pL7bAdIwy1Y477J9XjpXvqoP77WNGtE+WEijAB2RGiuOoMBIbKQpl1TCjSDHCQ\n",
       "jed9xaFD5FrbwpjaQKnlLMyQP8VA1mYgMLiHk5C/ErgPHPW752JwYzzaZV7b7sb4joJfOE4l/EKL\n",
       "sc4rBiKD6cU65At0V+WaHbK8w8apG7Zf7WO/z3nyUtHj3uLfQCtGpjD90J3CNWc++OXEgEwwk3GX\n",
       "ams9ilfi7uNh91Pw1zEAQWR34xRT6/grFOy/7/0BPAawvSjFV5kAAAAASUVORK5CYII=\n",
       "\" style=\"display:inline;vertical-align:middle;\" /></a><br>"
      ],
      "text/plain": [
       "expr: (b , c , b , c , b , c) in Complexes^{6}"
      ]
     },
     "execution_count": 2,
     "metadata": {},
     "output_type": "execute_result"
    }
   ],
   "source": [
    "# build up the expression from sub-expressions\n",
    "expr = InSet([b, c, b, c, b, c], Exp(Complexes, six))"
   ]
  },
  {
   "cell_type": "code",
   "execution_count": 3,
   "metadata": {},
   "outputs": [
    {
     "name": "stdout",
     "output_type": "stream",
     "text": [
      "Passed sanity check: built 'expr' is the same as the stored Expression.\n"
     ]
    }
   ],
   "source": [
    "# check that the built expression is the same as the stored expression\n",
    "%check_expr"
   ]
  },
  {
   "cell_type": "code",
   "execution_count": 4,
   "metadata": {},
   "outputs": [
    {
     "data": {
      "text/html": [
       "<table><tr><th>&nbsp;</th><th>core type</th><th>sub-expressions</th><th>expression</th></tr>\n",
       "<tr><td>0</td><td>Operation</td><td>operator:&nbsp;1<br>operands:&nbsp;2<br></td><td><a class=\"ProveItLink\" href=\"expr.ipynb\"><img src=\"data:image/png;base64,iVBORw0KGgoAAAANSUhEUgAAAKIAAAAZBAMAAABA0eieAAAAMFBMVEX////c3NwiIiJERESqqqqY\n",
       "mJh2dnZmZmYQEBDu7u4yMjJUVFTMzMyIiIi6uroAAAAs73DqAAAAAXRSTlMAQObYZgAAAlxJREFU\n",
       "SMetVU1o02AYfur6kzRpUvC4Q0s9iJ4q6lHoxYsg60nRgxQP7mIhCO6ggjJkF3EGD1McOhkMqYpE\n",
       "cCjKMCcRBC1ehmihCop4mTpFB7b65s3fmm9GHMkheb7n433e93t/vgCJPpea9WQFcVv9nKxg1pAb\n",
       "ySpKtYTPjNLexSKgtf/fMtNdm3/RUMvAM8gPypEdkcH0+OrVKUHs5c2fm4xSF9+AFpC3ovsig1sD\n",
       "+9Hd531M9SzdRg8FOrQuJFRkHOerjh0paUahPhyx8jX0IZnAkhk1FxltZSAtZ9zv1dnKVud7QKJX\n",
       "zkpbWhmfCB4WAhKZ7GBmd/BbnfM8G8OOmzb2j5oYc1LUmfdcH+nYbtIEJr/w2huwqeYbYJThRk9Q\n",
       "Nj6EzuZovQzdNXvazXMoIoOZKn65cU1iFtjDeJsnojZ2h4qTQHoFEmdaPo8hDkRkMGJigsHlNnYC\n",
       "H3m3Gii+DxX7lNHr0A0HK/6YiwxOAD8YPHZ7mas1XqlwZeTqkwHFDQaWOBDd9yky2AztO4PlUFEN\n",
       "uralhIpnuflOc4pL7bAdIwy1Y477J9XjpXvqoP77WNGtE+WEijAB2RGiuOoMBIbKQpl1TCjSDHCQ\n",
       "jed9xaFD5FrbwpjaQKnlLMyQP8VA1mYgMLiHk5C/ErgPHPW752JwYzzaZV7b7sb4joJfOE4l/EKL\n",
       "sc4rBiKD6cU65At0V+WaHbK8w8apG7Zf7WO/z3nyUtHj3uLfQCtGpjD90J3CNWc++OXEgEwwk3GX\n",
       "ams9ilfi7uNh91Pw1zEAQWR34xRT6/grFOy/7/0BPAawvSjFV5kAAAAASUVORK5CYII=\n",
       "\" style=\"display:inline;vertical-align:middle;\" /></a></td></tr>\n",
       "<tr><td>1</td><td>Literal</td><td></td><td><a class=\"ProveItLink\" href=\"../../../../logic/set_theory/membership/__pv_it/088cbc857536a28d4119ad9639a84270ccb0545d0/expr.ipynb\"><img src=\"data:image/png;base64,iVBORw0KGgoAAAANSUhEUgAAAAwAAAAMBAMAAACkW0HUAAAALVBMVEX///+qqqpmZmZUVFQQEBC6\n",
       "urpERETc3NyYmJjMzMwiIiIyMjKIiIju7u4AAACYsrA9AAAAAXRSTlMAQObYZgAAADxJREFUCNdj\n",
       "YOA9vWrVBgaG2b0MQMCeCyIZ2ArA1DUwyRCyahVIyWQI7xaEYm4AU7xLIdxqTQgtvGvVBgCkcQ7e\n",
       "geM/tQAAAABJRU5ErkJggg==\n",
       "\" style=\"display:inline;vertical-align:middle;\" /></a></td></tr>\n",
       "<tr><td>2</td><td>ExprTuple</td><td>3, 4</td><td><a class=\"ProveItLink\" href=\"../060e42a210861a01159ef463a62219c3b6dac0500/expr.ipynb\"><img src=\"data:image/png;base64,iVBORw0KGgoAAAANSUhEUgAAAKYAAAAcBAMAAAAZ99lXAAAAMFBMVEX///+qqqp2dnYiIiJERESI\n",
       "iIhmZmYQEBDc3NyYmJgyMjLu7u5UVFTMzMy6uroAAACGxKilAAAAAXRSTlMAQObYZgAAAqVJREFU\n",
       "SMe1VUtoE1EUPUmb73ySjQvddFDSnZCFFEGECLoQXAyU1IUVBl35w1pxJzULV1JIFHGhIAVB0KqE\n",
       "LhRKMSNYtSIY3LgRE3ThZ2EabLRSEr3vzbxpJslEKuODmXfumeHMffeeeQ/wcTxMFeD3uK8s2+ib\n",
       "X5JBQ9KgMaSYfmlGknR7x9B80S/N/KaxHEI6oSW6VH3jCrFqJ1PRlDSwE4hO8ISl5+nOVxbO9mdO\n",
       "teHRuz93GPkq6sA4EDaImgXi3WW915+Jr8P3Lcw1zEQZDaBURISWwGqQSHYp1PszMc1BMvlyyIwn\n",
       "0QIGCqiwhlGbal2tUtf6M9KEQDcidAubAVOlAoYzOEjhV7q2ddst/RdmjwDGNPuEjmvDlFhsGS8p\n",
       "PMJKlV2yP781W7bqtThu/2pzqcO9mGGRsPHBvZgDNN0hfgUJS+ptNW6lU8qgyYEyhVu9mC22iqJt\n",
       "btNUmrhN0xQQWEOE11w6h0ErmaEiJjl4pGN/L+aTo/mlTTPawghN1K3wDBLMVZDFNoDjwA8OXnsw\n",
       "FbH2zJv21tWF5oCBGk8vkREPR6D+4mDFgxGamJXdeTIbn+H2PM3dlNfXzRjm3ok2PBixdlzhmrYZ\n",
       "o008pYlqQw2ahMTypGwLDFA7qMLsRcotxoGbwXWhNHiTElF32X1fxSi4KeRk2ESJGi4bCJYZwBOc\n",
       "hPSdwDNgOwcuxvISD/FqX/HxXjtP8meNpo/0bPEYtXOVmTV7yAILYwVIF3LUv1S2yIGLAR4wTRZC\n",
       "Ofr7vNimgjPclZGcHX9GJ1BznsD6N53Q2Vp0yFrbbuAcUQ6IeYOg7grFKOXAtlG2121ccx49Na/a\n",
       "O8G0FYYE7wDo3uCFOxRjN12XmKf+4ewIlXsfKexvDGi+nvEX+f2yr5on8F/GH1faxPQ3Q06dAAAA\n",
       "AElFTkSuQmCC\n",
       "\" style=\"display:inline;vertical-align:middle;\" /></a></td></tr>\n",
       "<tr><td>3</td><td>ExprTuple</td><td>5, 6, 5, 6, 5, 6</td><td><a class=\"ProveItLink\" href=\"../c15ed5133178bc24667e3dd3abed313c3a8b7d5c0/expr.ipynb\"><img src=\"data:image/png;base64,iVBORw0KGgoAAAANSUhEUgAAAHAAAAAVBAMAAABs93eRAAAAMFBMVEX////c3NwiIiJERESqqqqY\n",
       "mJh2dnZmZmYQEBDu7u4yMjJUVFTMzMyIiIi6uroAAAAs73DqAAAAAXRSTlMAQObYZgAAAUxJREFU\n",
       "OMudlD1Lw1AUhh8/0qaJMe4O+hMcdO/slNkpOOhioYudBB3EzdJJxEURHESQOoguYkahg1kFA9Wp\n",
       "uFQpDg6K595GhEgT08C9efOcew7nIwkMfU2G+X2MtmwtStezCUMm2ZB1ClYzGTKLWOBIpm45eSyL\n",
       "GD5mA7qN5LEsUtriRW7Lf6rPJPPUZD+LLuNAK1GgRQphr/IIq5yIsYfbt961Ld28NDJR5xgWqcP4\n",
       "B6avrbuMeUqkEPZDFqDDFxSPcKuK2a9xNimEW73fK8fRKl0d1p2Lj6UQerHjth7Rpm72TPg7tEFk\n",
       "5FM/d1S+UvUOJWWVmJ4WgwnvMn5Ykr5il4tNDqV5dpVCoMVgwhWsqXE8S+tu1qVZbwJr0YMWaaRY\n",
       "iSTnc8ypuIoncgh55Qw/1h45RCHUn1V+xwNZ033p/LD/CC7UYIb4dTgB3yLkf9NLAvJ/AAAAAElF\n",
       "TkSuQmCC\n",
       "\" style=\"display:inline;vertical-align:middle;\" /></a></td></tr>\n",
       "<tr><td>4</td><td>Operation</td><td>operator:&nbsp;7<br>operands:&nbsp;8<br></td><td><a class=\"ProveItLink\" href=\"../caa58a6d37528bfa4e8e607325cf0a3bdcd3bb190/expr.ipynb\"><img src=\"data:image/png;base64,iVBORw0KGgoAAAANSUhEUgAAABcAAAAUBAMAAACUkLs9AAAAMFBMVEX////c3NyqqqqYmJhUVFR2\n",
       "dnbu7u66urrMzMxmZmZEREQQEBAyMjIiIiKIiIgAAAB7fvZ0AAAAAXRSTlMAQObYZgAAAJpJREFU\n",
       "GNNjYIACtqmPGeCAp6EfwYlkSEVwNiGYDIyf3k2Eczi+MvSCaL475/euZPzOwK8AFKsvYIt/wvCD\n",
       "gf8BA4OBMwMD0xeGQwz8BQzMCRuASqcwqDDUMjBwMjoAOXkMzFOnMTBksgcgLGhlMkDisCNxsjiQ\n",
       "lPEkOCA4zAEgDhuUt7gOSNQmQDgsXs/YqpbBFHbe/+0OYQEA3N0ih75gypAAAAAASUVORK5CYII=\n",
       "\" style=\"display:inline;vertical-align:middle;\" /></a></td></tr>\n",
       "<tr><td>5</td><td>Variable</td><td></td><td><a class=\"ProveItLink\" href=\"../../../../__pv_it/6840a4fa6c106149dc16a131294d0c5e44f1b0480/expr.ipynb\"><img src=\"data:image/png;base64,iVBORw0KGgoAAAANSUhEUgAAAAkAAAAOBAMAAAAPuiubAAAALVBMVEX///9mZmbMzMxERESYmJiI\n",
       "iIh2dna6urqqqqoyMjIiIiIQEBBUVFTu7u4AAAD9S1JeAAAAAXRSTlMAQObYZgAAAE1JREFUCNdj\n",
       "4D29gAEIOA+ASL4GEFl3AURmgQiGOaFHGBh4HzPwKTBwvGXgTmBgnMDAJ8DAJcBQ5wBSLncBJLWN\n",
       "gYGngRFoBO9REQYGAGrcDtUkVqASAAAAAElFTkSuQmCC\n",
       "\" style=\"display:inline;vertical-align:middle;\" /></a></td></tr>\n",
       "<tr><td>6</td><td>Variable</td><td></td><td><a class=\"ProveItLink\" href=\"../../../../__pv_it/cbdfda466482236edba0ce44ac7ef39cda0af7a40/expr.ipynb\"><img src=\"data:image/png;base64,iVBORw0KGgoAAAANSUhEUgAAAAkAAAAJBAMAAAASvxsjAAAALVBMVEX///9mZmbc3NxUVFSYmJhE\n",
       "REQiIiIyMjK6uroQEBDMzMyIiIh2dnbu7u4AAABgFDGoAAAAAXRSTlMAQObYZgAAADZJREFUCNdj\n",
       "YOA9s3sBA8PKBvYEBt7ZDKwODMwPGICALwBE6m0Asx0YGIDiAgw8QJUyu/cyAAAmuwmycZ8WfQAA\n",
       "AABJRU5ErkJggg==\n",
       "\" style=\"display:inline;vertical-align:middle;\" /></a></td></tr>\n",
       "<tr><td>7</td><td>Literal</td><td></td><td><a class=\"ProveItLink\" href=\"../../../exponentiation/__pv_it/deb2bf23cbccdd6e6791e1b35b5b9794ce12dbd50/expr.ipynb\"><img src=\"data:image/png;base64,iVBORw0KGgoAAAANSUhEUgAAACgAAAASBAMAAADbMYGVAAAAMFBMVEX///8QEBAiIiKYmJjc3Nzu\n",
       "7u7MzMx2dnZmZma6urpERESqqqoyMjJUVFSIiIgAAAAoDOMTAAAAAXRSTlMAQObYZgAAAOBJREFU\n",
       "GNNjYGB4+//u3Tt/GNAASGAXmhjnPyDBgSbI/g1IxKEJ8nxgYGdgQRPkX8BgDKRY6q7s62OYvmze\n",
       "2wAgb/7ZO1+AVDiDkYEQQ0HTBr4DQF59AgOIKmB4z7CNbcNZBu6vQN55kEACQwDDLQYGVobfDHwg\n",
       "fb8YGBxYHwAZciD3fWXg+gB1JjvQcJZvQIXsCgz8F6DO9GBgMOH7wPCUgaeBwd4B7EwGNjUG7s9c\n",
       "AiwPgO5jkWRgiF3/9+5dfQUG1nWl5Y+B7pv+1gE9bBhqGLCAE1jEWH9jEbT5A3IwAC4sP/1L6Qlu\n",
       "AAAAAElFTkSuQmCC\n",
       "\" style=\"display:inline;vertical-align:middle;\" /></a></td></tr>\n",
       "<tr><td>8</td><td>ExprTuple</td><td>9, 10</td><td><a class=\"ProveItLink\" href=\"../e291b8cc1d145060c3954e47279c1a346a2a8f2d0/expr.ipynb\"><img src=\"data:image/png;base64,iVBORw0KGgoAAAANSUhEUgAAAC8AAAAVBAMAAAAk6KpUAAAAMFBMVEX////c3NwiIiJERESqqqqY\n",
       "mJh2dnZmZmYQEBDu7u4yMjJUVFTMzMyIiIi6uroAAAAs73DqAAAAAXRSTlMAQObYZgAAASpJREFU\n",
       "KM91kb9Lw0AUxz/RxjY2De4uLi4iCEIRt/wHZnLUbC5KnbpkKaKrHAjaRcwiqItFcRUnHUToJqJD\n",
       "rZsg/phEQX2XkyRQPbjHu+/n7n3v3cG/w2v3anM6XMqsjB2uTP2Km/VFimeS7IP73HFqt0a3xjmC\n",
       "WDZLpeAECp8G9IUcwCyUFLZqiBIZMK90bMIjFK2W5NsG7CWx36cOW16YXejj6tqHgWV24bwQpLrz\n",
       "FjAqjjHrArwc+IaawmvwBRtumDsh/j7uiwaDqpXzENDWYBXsUAPHgMnkhJSqyqL6JKGrEjSTeNgx\n",
       "C7IoH984D9PsjOgOQmctuW5Xb7uYeD+Vdl91HkUdse1QGsqM79OsqZ0zkLWzZJ69Bzjy7AyneiXN\n",
       "yrq+9cfX3sEPlLVIbOnCRWQAAAAASUVORK5CYII=\n",
       "\" style=\"display:inline;vertical-align:middle;\" /></a></td></tr>\n",
       "<tr><td>9</td><td>Literal</td><td></td><td><a class=\"ProveItLink\" href=\"../../../sets/complex/__pv_it/c357845f93a5a2d9f649129d299e7ec28dda4b960/expr.ipynb\"><img src=\"data:image/png;base64,iVBORw0KGgoAAAANSUhEUgAAAA8AAAAOBAMAAAACpFvcAAAAMFBMVEX////c3NyqqqqYmJhUVFR2\n",
       "dnbu7u66urrMzMxmZmZEREQQEBAyMjIiIiKIiIgAAAB7fvZ0AAAAAXRSTlMAQObYZgAAAGVJREFU\n",
       "CNdjYGDgu3N+70oGBgaO+gK2+CdAhoEzAwPTFwYG5oQNQN4UBgZORgcgI4+BIZM9gAEMWpkMoAx2\n",
       "KCOLAyrFk+AAYTAHgBhsQLy4DkjUJjAwsHg9Y6taBpLsvP/bnYEBACkBFGQfBv8RAAAAAElFTkSu\n",
       "QmCC\n",
       "\" style=\"display:inline;vertical-align:middle;\" /></a></td></tr>\n",
       "<tr><td>10</td><td>Literal</td><td></td><td><a class=\"ProveItLink\" href=\"../../../numeral/__pv_it/09b499e53e24cf89c2513ba78b501f0314edaa680/expr.ipynb\"><img src=\"data:image/png;base64,iVBORw0KGgoAAAANSUhEUgAAAAoAAAAOBAMAAADkjZCYAAAAMFBMVEX///+6urpERESqqqqIiIgQ\n",
       "EBCYmJgyMjJUVFQiIiLc3NzMzMxmZmZ2dnbu7u4AAABf+mkYAAAAAXRSTlMAQObYZgAAAFNJREFU\n",
       "CNdjYOC7c3cDA8PKDRwTGBjmMrAXMLD9YwAC9gAQyV/tcpiB4f00Bs4EhvcfGHj/MbyfwMD2mYEf\n",
       "qOwLAxOYzQwWZ9BleJrAwMDT08gAANMyF0ZGTeKAAAAAAElFTkSuQmCC\n",
       "\" style=\"display:inline;vertical-align:middle;\" /></a></td></tr>\n",
       "</table>\n"
      ],
      "text/plain": [
       "0. (b , c , b , c , b , c) in Complexes^{6}\n",
       "   core type: Operation\n",
       "   operator: 1\n",
       "   operands: 2\n",
       "1. in\n",
       "   core type: Literal\n",
       "   sub-expressions: \n",
       "2. ((b , c , b , c , b , c) , Complexes^{6})\n",
       "   core type: ExprTuple\n",
       "   sub-expressions: 3, 4\n",
       "3. (b , c , b , c , b , c)\n",
       "   core type: ExprTuple\n",
       "   sub-expressions: 5, 6, 5, 6, 5, 6\n",
       "4. Complexes^{6}\n",
       "   core type: Operation\n",
       "   operator: 7\n",
       "   operands: 8\n",
       "5. b\n",
       "   core type: Variable\n",
       "   sub-expressions: \n",
       "6. c\n",
       "   core type: Variable\n",
       "   sub-expressions: \n",
       "7. Exp\n",
       "   core type: Literal\n",
       "   sub-expressions: \n",
       "8. (Complexes , 6)\n",
       "   core type: ExprTuple\n",
       "   sub-expressions: 9, 10\n",
       "9. Complexes\n",
       "   core type: Literal\n",
       "   sub-expressions: \n",
       "10. 6\n",
       "    core type: Literal\n",
       "    sub-expressions: "
      ]
     },
     "execution_count": 4,
     "metadata": {},
     "output_type": "execute_result"
    }
   ],
   "source": [
    "# display the expression information\n",
    "expr.exprInfo()"
   ]
  },
  {
   "cell_type": "code",
   "execution_count": null,
   "metadata": {},
   "outputs": [],
   "source": []
  }
 ],
 "metadata": {
  "kernelspec": {
   "display_name": "Python 3",
   "language": "python",
   "name": "python3"
  }
 },
 "nbformat": 4,
 "nbformat_minor": 0
}
