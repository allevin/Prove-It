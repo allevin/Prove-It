{
 "cells": [
  {
   "cell_type": "markdown",
   "metadata": {},
   "source": [
    "Axiom <a class=\"ProveItLink\" href=\"../../_axioms_.ipynb#singleAdd\">singleAdd</a> of type <a class=\"ProveItLink\" href=\"../../../../../../doc/html/api/proveit.logic.Forall.html\">Forall</a>\n",
    "=======================\n",
    "# from context <a class=\"ProveItLink\" href=\"../../_context_.ipynb\">proveit.number.addition</a>\n",
    "*** see <a class=\"ProveItLink\" href=\"dependencies.ipynb\">dependencies</a> ***"
   ]
  },
  {
   "cell_type": "code",
   "execution_count": 1,
   "metadata": {},
   "outputs": [],
   "source": [
    "# import the special expression\n",
    "from proveit.number.addition._axioms_ import singleAdd"
   ]
  },
  {
   "cell_type": "code",
   "execution_count": 2,
   "metadata": {},
   "outputs": [
    {
     "name": "stdout",
     "output_type": "stream",
     "text": [
      "Passed sanity check: built 'singleAdd' is the same as the stored Expression.\n"
     ]
    }
   ],
   "source": [
    "# check that the built expression is the same as the stored expression\n",
    "%check_expr singleAdd"
   ]
  },
  {
   "cell_type": "code",
   "execution_count": 3,
   "metadata": {},
   "outputs": [
    {
     "data": {
      "text/html": [
       "<table><tr><th>&nbsp;</th><th>core type</th><th>sub-expressions</th><th>expression</th></tr>\n",
       "<tr><td>0</td><td>Operation</td><td>operator:&nbsp;1<br>operand:&nbsp;2<br></td><td><a class=\"ProveItLink\" href=\"expr.ipynb\"><img src=\"data:image/png;base64,iVBORw0KGgoAAAANSUhEUgAAAJEAAAAVBAMAAAC01xHeAAAAMFBMVEX///8QEBC6urrMzMxUVFRm\n",
       "ZmZERETc3NwyMjKqqqp2dnaIiIiYmJgiIiLu7u4AAAAU9Wx4AAAAAXRSTlMAQObYZgAAAglJREFU\n",
       "OMutlE8oBFEcx3+7a62dmZ02J5KiHPai9uC+otZVuYgUFxKHOciGZJPDHJCSUg42JbGlKRzIn82F\n",
       "SMlBkq112bSnjeLi4Pdm5s0+Oz+1B7+a5s33N+/z3vv9eQD/ZjmX4jVAforaH9cPXDNNaaIpl/jc\n",
       "s8GtqLYBSKUJW1yzrIcm+XHlXTZYFtVlguT8UPPH0ZIAk/gKDAqabNgkVXNIssG9Soom3eAiGCj/\n",
       "iqB5cjYpaDgkjxNNNUyTXnGRnURiVtQi4CZFSu5RmlSNm/kcHn4WtT6CxLTpw6kjVLbLEIF010Y/\n",
       "zugG6AQYEV2LBAk1NaW8eDDR6+y7V2e2wIYFuMs04s8Y8hZQkyKpliChJoFcDGKum8v2lIILWMWC\n",
       "w/iFQM6IrneChJoKVWaGY67KjrOXr4gZzoRybpJf15fqdL3dIWECDYoE0MBJapIVcLrj0G6QemJP\n",
       "TIO5KGst83QDWWaPVsg/cL/m6WCkA6fm4h67qMYJEmqKdgEykq7LdnQlF+Ec3SzWa5gRr5ky07YJ\n",
       "EmqbmSGYAVcVBL+rwwHDqgL7/F/c10qQUMufFNIsM/O/SerY/t4p60c2Q2EB94V9vFs0olu0CrrF\n",
       "spiUlIQeNUneEqnUt5JBk9J8kD/u36/oVnmjQb+Lm9sEQZrgn100qUqjVEyFnOW379kD16zLK0qT\n",
       "DgB+AFhUjV113Sl5AAAAAElFTkSuQmCC\n",
       "\" style=\"display:inline;vertical-align:middle;\" /></a></td></tr>\n",
       "<tr><td>1</td><td>Literal</td><td></td><td><a class=\"ProveItLink\" href=\"../../../../logic/boolean/quantification/universal/__pv_it/265f8c02ac1094d56e0e6410a1c1fd3500dc9f540/expr.ipynb\"><img src=\"data:image/png;base64,iVBORw0KGgoAAAANSUhEUgAAAAwAAAAQBAMAAADQT4M0AAAAMFBMVEX///8QEBC6urrMzMxUVFRm\n",
       "ZmZERETc3NwyMjKqqqp2dnaIiIiYmJgiIiLu7u4AAAAU9Wx4AAAAAXRSTlMAQObYZgAAAFhJREFU\n",
       "CNdjeMAABhdAxGmGlSCqj6EMSLInMHAAJVknMPAsLy+vBYp8S0u7BaScGRjSgZQKA18DkOJl4D4A\n",
       "pLgP8IJM4mswARuX7gSmpoKNZWDcAKZ4gCoAgTQTILaSE58AAAAASUVORK5CYII=\n",
       "\" style=\"display:inline;vertical-align:middle;\" /></a></td></tr>\n",
       "<tr><td>2</td><td>Lambda</td><td>parameter:&nbsp;9<br>body:&nbsp;3<br></td><td><a class=\"ProveItLink\" href=\"../7d3b6b8871bb15a1498b1ae4c32c806d5edd46870/expr.ipynb\"><img src=\"data:image/png;base64,iVBORw0KGgoAAAANSUhEUgAAAJ0AAAAVCAMAAABrGxxRAAAANlBMVEX///+6uroUFBQNDQ0yMjJE\n",
       "RETMzMwQEBAiIiKYmJju7u5mZmaqqqpUVFSIiIh2dnbc3NwAAACltDI1AAAAAXRSTlMAQObYZgAA\n",
       "AZJJREFUSMfdlttyhSAMRaFF7gT8/5+tt6Mx5FTSPnSmPDiOLJItm0uU+l9Nw/IAbyztCMZryuFu\n",
       "LUojxI9my/qs7Fj8dedwS1aUSIjvzcQxdTt3HyrMJBcHQHXExqkDYMyqMm+rWJ2LVEcGTp3rp05F\n",
       "J0olxNelbtSQOs3aMmVRsg1vFUrLkIA3POOQqY6pe3H32DU96OnxuAQKPijnX4y/DynIJBPG1B0c\n",
       "iZ3P/04GtXN3M/j6lzAv7/aNuliude/0mLqDI7H1w0pi8HVmyoShzw9/a24+s86D6g6OxLbzwz7g\n",
       "cXfb/2TuVLmk3NTt9nh32tOpI7Gf1PF4m+2hnFOXGhqbB509txKOfTmbsDfYOIqHtnmt4I06i+d1\n",
       "GtwVB0dih4fjv8fzHNS0iGxXEugWw5U/janbORr74URh8DhBjbVCGDuN/eBpvHE0tvm+7hDi3KJt\n",
       "gzdZ+4Ob7HU1Ix2aVcdd4RVEqYT4LyuoKCuJ4g8qKNUGq8/WVZ+liRIJ8VfavXL3Xem6fNOUw92y\n",
       "WnfDvwADEhNHk+5fbQAAAABJRU5ErkJggg==\n",
       "\" style=\"display:inline;vertical-align:middle;\" /></a></td></tr>\n",
       "<tr><td>3</td><td>Operation</td><td>operator:&nbsp;4<br>operands:&nbsp;5<br></td><td><a class=\"ProveItLink\" href=\"../8b6360461f71175159912c44ca0d53cf983f8dfa0/expr.ipynb\"><img src=\"data:image/png;base64,iVBORw0KGgoAAAANSUhEUgAAAGAAAAAVBAMAAABLWfZ5AAAAMFBMVEX///9ERESYmJhUVFQQEBBm\n",
       "Zmaqqqrc3Nzu7u66urp2dnbMzMwyMjIiIiKIiIgAAAC8mv5nAAAAAXRSTlMAQObYZgAAASxJREFU\n",
       "OMtjYCAVvD0NY+ncBFOcDyBcpgnYNaxEZ26GcaOJ1HACxuXBo4GjAM7kewCTYVqAWwPbAziTpQEm\n",
       "w+FAlIY5CCkxojREAXHV47KnQJGlaErZ15nnxWFoOAR0ywKmSywXGBhyQPyYMyBwGMTsYtBV8MXQ\n",
       "4MnAwMXA94FtAwPDFDQbFjC8Z8jG0PATaAMDswCIuR9NQwODIVgV65kzZ33OnDGAawAG1QNsGhgY\n",
       "/LB42g1E1G8AGgdxUuxdELgI8fVvoO3oGoSAMVbwnoEPqEEHzXx1vg8MLzA0AMMyX0GEoY4BI1jZ\n",
       "PjE6sD/A0DCXgaHxVdc6BSDzJKoGDrkVqx5hSRoFxCQNToQGRJLjekBi8u4hMj8Uw7jmOLLobTgL\n",
       "kkXZoS7h24BVPQCT2WyQeJHptQAAAABJRU5ErkJggg==\n",
       "\" style=\"display:inline;vertical-align:middle;\" /></a></td></tr>\n",
       "<tr><td>4</td><td>Literal</td><td></td><td><a class=\"ProveItLink\" href=\"../../../../logic/equality/__pv_it/2fb26078095930560931daa0500ce419a39ea6cd0/expr.ipynb\"><img src=\"data:image/png;base64,iVBORw0KGgoAAAANSUhEUgAAAA4AAAAFBAMAAACHocAhAAAAFVBMVEX///9EREQiIiJUVFQyMjJm\n",
       "ZmYAAADubVkoAAAAAXRSTlMAQObYZgAAABRJREFUCNdjCHEBAWcGXCBICQQUAUpuAwlgGKrkAAAA\n",
       "AElFTkSuQmCC\n",
       "\" style=\"display:inline;vertical-align:middle;\" /></a></td></tr>\n",
       "<tr><td>5</td><td>ExprTuple</td><td>6, 9</td><td><a class=\"ProveItLink\" href=\"../1cd098c5562a0c2454d423ef63f51139a746375e0/expr.ipynb\"><img src=\"data:image/png;base64,iVBORw0KGgoAAAANSUhEUgAAAGAAAAAVBAMAAABLWfZ5AAAAMFBMVEX////c3NwiIiJERESqqqqY\n",
       "mJh2dnZmZmYQEBDu7u4yMjJUVFTMzMyIiIi6uroAAAAs73DqAAAAAXRSTlMAQObYZgAAAZ1JREFU\n",
       "OMuVk79Lw0AUx7+hv5LUxAziIsUubiIOCi6CsyhWB4cOkklxqDg5KVRxUVALQhGnIjgYRFr8B7o7\n",
       "GAoqolJxEkEogpuILz8uZ++KYCC5e3fvk/fuve8B/35MF41zZuSH/OE9NBcE38Qzfa6AFb7kT7uq\n",
       "oZWqC8Q6vWcyoJeYWREAHTDc0EuzIuApcpgXc7KhlkKvuBsBO5HDkQBoRbxBAkyeSGxCIEawJgMp\n",
       "G1AKtekNILnKPHsfeu7IYwmnMqDngDLmclu0yIJpdmJAzQKT2JcBlapto4kpyq4YAkkYrTgV+RXf\n",
       "MtBNQAmXfkdaLALSw954HQIpxznZdZxqBAB7bQDFdQNgu0NKXmmUL/orTwnor1NYSmlUBmJ06Fmj\n",
       "hXtqlHdor+8JqwmDJnmqkwRQLeOfsaLiBmXVPmhtJjeGDLyyvnRoXBba+PLijVdhOo52QKI5vC0X\n",
       "KDAuoFqyNDbbpWFav6VBcgq8TA5wyRV8xXFlJN2/5a1VBOCY3j4ZUNgFSvvJuHy75u3SFR1kC43g\n",
       "imZC81HQqlHHD9X9b8gU9hFdAAAAAElFTkSuQmCC\n",
       "\" style=\"display:inline;vertical-align:middle;\" /></a></td></tr>\n",
       "<tr><td>6</td><td>Operation</td><td>operator:&nbsp;7<br>operands:&nbsp;8<br></td><td><a class=\"ProveItLink\" href=\"../04c5620a900273c331fa736dcde443e5ed3d45d60/expr.ipynb\"><img src=\"data:image/png;base64,iVBORw0KGgoAAAANSUhEUgAAADcAAAAVBAMAAAAQkWtIAAAAMFBMVEX///9ERESYmJhUVFQQEBBm\n",
       "Zmaqqqrc3Nzu7u66urp2dnbMzMwyMjIiIiKIiIgAAAC8mv5nAAAAAXRSTlMAQObYZgAAAOZJREFU\n",
       "KM9jYMAH3p6GsXRugql5UK4mEK9EqAMzuQ2gPNYNmJI8DTDuAagIRwFc8h1crRZUhO0BXNIDLtmC\n",
       "Icl5AC7JmIAuybqAgYF9nXleHAMDVwC6JI8CA0MXg66CL1DwALokywQGhgUM7xmygTY4oEvyAyUb\n",
       "GAzBPv4AFGE9c+asz5kzBnBJBgY/uCSqsQlAgv03Awc2YxmBDlLn+8DwgoGBCcNBQPezfWJ0YH+A\n",
       "zSucFxg45FasegTy1QSM4HPHCD5OhKQWXHIdnijjOIApyQ6LbGZgNL69DU8wkGRSB+W+ZmAAAPpn\n",
       "UA31NYeUAAAAAElFTkSuQmCC\n",
       "\" style=\"display:inline;vertical-align:middle;\" /></a></td></tr>\n",
       "<tr><td>7</td><td>Literal</td><td></td><td><a class=\"ProveItLink\" href=\"../3e6688136fa3c7aefbebe51301b7c3ebf0b69c440/expr.ipynb\"><img src=\"data:image/png;base64,iVBORw0KGgoAAAANSUhEUgAAAA4AAAAOBAMAAADtZjDiAAAAJFBMVEX///+6urpUVFQQEBAiIiIy\n",
       "MjJmZmaIiIiqqqrc3Nzu7u4AAACgHpL+AAAAAXRSTlMAQObYZgAAAB5JREFUCNdjYGBgWMkAAe2k\n",
       "0Kmhoc6hoUGk6BMHYgAHOwjcado9fwAAAABJRU5ErkJggg==\n",
       "\" style=\"display:inline;vertical-align:middle;\" /></a></td></tr>\n",
       "<tr><td>8</td><td>ExprTuple</td><td>9</td><td><a class=\"ProveItLink\" href=\"../89afe848f9909271372a46da8b9aa311d53c45ae0/expr.ipynb\"><img src=\"data:image/png;base64,iVBORw0KGgoAAAANSUhEUgAAABgAAAAVBAMAAACuxzMVAAAAMFBMVEX////c3NwiIiJERESqqqqY\n",
       "mJh2dnZmZmYQEBDu7u4yMjJUVFTMzMyIiIi6uroAAAAs73DqAAAAAXRSTlMAQObYZgAAAKxJREFU\n",
       "GNNjYEABfBcgNOsDIHEaJloDxCthHC4GBt4LMA5rAgPHBBiHs4HhFcIoE4YyICl2W+Q6UHU6w1Kg\n",
       "fAKrKocCA4MXQx8DAxsD7weWAwwMLxj+AWUYuA1Aes6DOAwMHBcgnBYQJX+AYQJImSnQNoH7DLxA\n",
       "ThTQPAb/AAsGWQaQ0Y8YGCZfm5YbAOSsY+AQQHIO0HlQwHYByQuzgFgaxtkIxIxQD/EeYAAAhW8k\n",
       "93ErH/0AAAAASUVORK5CYII=\n",
       "\" style=\"display:inline;vertical-align:middle;\" /></a></td></tr>\n",
       "<tr><td>9</td><td>Variable</td><td></td><td><a class=\"ProveItLink\" href=\"../../../../__pv_it/530be409e3083890784cf1d7b28c9e67e90af9360/expr.ipynb\"><img src=\"data:image/png;base64,iVBORw0KGgoAAAANSUhEUgAAAAsAAAAJBAMAAAAWSsseAAAAKlBMVEX///9ERETMzMwQEBAiIiKY\n",
       "mJju7u5mZmaqqqpUVFSIiIh2dnbc3NwAAAA/vyDhAAAAAXRSTlMAQObYZgAAAENJREFUCNdjYDi9\n",
       "8sTyBQxsG1hdmR0YuBm4LnAoMLAxcAowgADzAjB1VoEhgYH1wFoGrgSG3gBhhlMMDImrs3cFMAAA\n",
       "t0YN+iTRa+sAAAAASUVORK5CYII=\n",
       "\" style=\"display:inline;vertical-align:middle;\" /></a></td></tr>\n",
       "</table>\n"
      ],
      "text/plain": [
       "0. forall_{x} ([+](x) = x)\n",
       "   core type: Operation\n",
       "   operator: 1\n",
       "   operand: 2\n",
       "1. forall\n",
       "   core type: Literal\n",
       "   sub-expressions: \n",
       "2. x -> ([+](x) = x)\n",
       "   core type: Lambda\n",
       "   parameter: 9\n",
       "   body: 3\n",
       "3. [+](x) = x\n",
       "   core type: Operation\n",
       "   operator: 4\n",
       "   operands: 5\n",
       "4. =\n",
       "   core type: Literal\n",
       "   sub-expressions: \n",
       "5. ([+](x) , x)\n",
       "   core type: ExprTuple\n",
       "   sub-expressions: 6, 9\n",
       "6. [+](x)\n",
       "   core type: Operation\n",
       "   operator: 7\n",
       "   operands: 8\n",
       "7. +\n",
       "   core type: Literal\n",
       "   sub-expressions: \n",
       "8. (x)\n",
       "   core type: ExprTuple\n",
       "   sub-expressions: 9\n",
       "9. x\n",
       "   core type: Variable\n",
       "   sub-expressions: "
      ]
     },
     "execution_count": 3,
     "metadata": {},
     "output_type": "execute_result"
    }
   ],
   "source": [
    "# display the expression information\n",
    "singleAdd.exprInfo()"
   ]
  },
  {
   "cell_type": "code",
   "execution_count": null,
   "metadata": {},
   "outputs": [],
   "source": []
  }
 ],
 "metadata": {
  "kernelspec": {
   "display_name": "Python 3",
   "language": "python",
   "name": "python3"
  }
 },
 "nbformat": 4,
 "nbformat_minor": 0
}
