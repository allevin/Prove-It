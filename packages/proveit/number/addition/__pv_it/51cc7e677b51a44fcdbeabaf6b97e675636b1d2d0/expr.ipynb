{
 "cells": [
  {
   "cell_type": "markdown",
   "metadata": {},
   "source": [
    "Expression of type <a class=\"ProveItLink\" href=\"../../../../../../doc/html/api/proveit.logic.InSet.html\">InSet</a>\n",
    "=======================\n",
    "# from context <a class=\"ProveItLink\" href=\"../../_context_.ipynb\">proveit.number.addition</a>"
   ]
  },
  {
   "cell_type": "code",
   "execution_count": 1,
   "metadata": {},
   "outputs": [],
   "source": [
    "# import Expression classes needed to build the expression\n",
    "from proveit._common_ import a, b, c\n",
    "from proveit.logic import InSet\n",
    "from proveit.number import Complexes, Exp, six"
   ]
  },
  {
   "cell_type": "code",
   "execution_count": 2,
   "metadata": {},
   "outputs": [
    {
     "data": {
      "text/html": [
       "<strong id=\"expr\">expr:</strong> <a class=\"ProveItLink\" href=\"expr.ipynb\"><img src=\"data:image/png;base64,iVBORw0KGgoAAAANSUhEUgAAAKYAAAAZBAMAAABJOkjkAAAAMFBMVEX////c3NwiIiJERESqqqqY\n",
       "mJh2dnZmZmYQEBDu7u4yMjJUVFTMzMyIiIi6uroAAAAs73DqAAAAAXRSTlMAQObYZgAAAk5JREFU\n",
       "SMetlU1o1EAUx/91v5JsNhvw2EPDeih6iqhHYS9eBNk9KXqQPdmLK8FDD+pBi3gR2+ChFosuFIqs\n",
       "iqygCJViQBBB0OCliG5ZBUU8VW3RQnd1MjP52rQLGzKQyS9vkv+8mffeBEi43apXk5bEQ3ktacms\n",
       "IdaS1hTKia8cY8dWVECx43yb6Wxvf1eTNeDN0HrzU6S7FDG/v/93jzHWwTrQHN7JB+SS+o1ve5jt\n",
       "tooWuijEWPq6s/i+8GbyJC8rLamMHgRzaEllk3TiZfZwZ6G0z7mfFEiXa6VbioYfMXJQc/qDlOVF\n",
       "7pMx6kxk48SEiUmCI8vnrrARn8QzbYvRbP1TGKTlj2SdE5R3c0nR+OZPukiu72qKF5RPrzuSxjyZ\n",
       "xkIYGjq2gKOU93MZuXbE15wmzm0gpzM3PRJvIMUOgzkbh8JQMXGNTE9f0z3Nr75mD8ivYReLfoh4\n",
       "exGBC8Afkt00XFOlEo2RqL8KaRZ1NNjehYi33xEYh7LBNeWWa2zmfc2rpEZtVED3OkQ8at1+IOmZ\n",
       "23TXrrnG41STRYxsUaOMpbQlIkhFsplVB0BcytB3PdiCQBL+FP38qauZOk28UPZSJikhVdPjWTS0\n",
       "IOUNZC0H8Aw4K/4KwhNchJtLN72z5Plh8+4B5ucXJylXX65i7meQMNn+wCBXb5vijBqA+RUnIx6x\n",
       "HblnuZE//+86n0BQ3Yk+I0IeKGo/uLWZXmK1Gap97yzw/03VCGQikB109jTjad4edCKM8nvBsxQi\n",
       "ADsCjwdpjsT6dxSsncf+A2x+rqtnq2eIAAAAAElFTkSuQmCC\n",
       "\" style=\"display:inline;vertical-align:middle;\" /></a><br>"
      ],
      "text/plain": [
       "expr: (a , a , c , c , c , b) in Complexes^{6}"
      ]
     },
     "execution_count": 2,
     "metadata": {},
     "output_type": "execute_result"
    }
   ],
   "source": [
    "# build up the expression from sub-expressions\n",
    "expr = InSet([a, a, c, c, c, b], Exp(Complexes, six))"
   ]
  },
  {
   "cell_type": "code",
   "execution_count": 3,
   "metadata": {},
   "outputs": [
    {
     "name": "stdout",
     "output_type": "stream",
     "text": [
      "Passed sanity check: built 'expr' is the same as the stored Expression.\n"
     ]
    }
   ],
   "source": [
    "# check that the built expression is the same as the stored expression\n",
    "%check_expr"
   ]
  },
  {
   "cell_type": "code",
   "execution_count": 4,
   "metadata": {},
   "outputs": [
    {
     "data": {
      "text/html": [
       "<table><tr><th>&nbsp;</th><th>core type</th><th>sub-expressions</th><th>expression</th></tr>\n",
       "<tr><td>0</td><td>Operation</td><td>operator:&nbsp;1<br>operands:&nbsp;2<br></td><td><a class=\"ProveItLink\" href=\"expr.ipynb\"><img src=\"data:image/png;base64,iVBORw0KGgoAAAANSUhEUgAAAKYAAAAZBAMAAABJOkjkAAAAMFBMVEX////c3NwiIiJERESqqqqY\n",
       "mJh2dnZmZmYQEBDu7u4yMjJUVFTMzMyIiIi6uroAAAAs73DqAAAAAXRSTlMAQObYZgAAAk5JREFU\n",
       "SMetlU1o1EAUx/91v5JsNhvw2EPDeih6iqhHYS9eBNk9KXqQPdmLK8FDD+pBi3gR2+ChFosuFIqs\n",
       "iqygCJViQBBB0OCliG5ZBUU8VW3RQnd1MjP52rQLGzKQyS9vkv+8mffeBEi43apXk5bEQ3ktacms\n",
       "IdaS1hTKia8cY8dWVECx43yb6Wxvf1eTNeDN0HrzU6S7FDG/v/93jzHWwTrQHN7JB+SS+o1ve5jt\n",
       "tooWuijEWPq6s/i+8GbyJC8rLamMHgRzaEllk3TiZfZwZ6G0z7mfFEiXa6VbioYfMXJQc/qDlOVF\n",
       "7pMx6kxk48SEiUmCI8vnrrARn8QzbYvRbP1TGKTlj2SdE5R3c0nR+OZPukiu72qKF5RPrzuSxjyZ\n",
       "xkIYGjq2gKOU93MZuXbE15wmzm0gpzM3PRJvIMUOgzkbh8JQMXGNTE9f0z3Nr75mD8ivYReLfoh4\n",
       "exGBC8Afkt00XFOlEo2RqL8KaRZ1NNjehYi33xEYh7LBNeWWa2zmfc2rpEZtVED3OkQ8at1+IOmZ\n",
       "23TXrrnG41STRYxsUaOMpbQlIkhFsplVB0BcytB3PdiCQBL+FP38qauZOk28UPZSJikhVdPjWTS0\n",
       "IOUNZC0H8Aw4K/4KwhNchJtLN72z5Plh8+4B5ucXJylXX65i7meQMNn+wCBXb5vijBqA+RUnIx6x\n",
       "HblnuZE//+86n0BQ3Yk+I0IeKGo/uLWZXmK1Gap97yzw/03VCGQikB109jTjad4edCKM8nvBsxQi\n",
       "ADsCjwdpjsT6dxSsncf+A2x+rqtnq2eIAAAAAElFTkSuQmCC\n",
       "\" style=\"display:inline;vertical-align:middle;\" /></a></td></tr>\n",
       "<tr><td>1</td><td>Literal</td><td></td><td><a class=\"ProveItLink\" href=\"../../../../logic/set_theory/membership/__pv_it/088cbc857536a28d4119ad9639a84270ccb0545d0/expr.ipynb\"><img src=\"data:image/png;base64,iVBORw0KGgoAAAANSUhEUgAAAAwAAAAMBAMAAACkW0HUAAAALVBMVEX///+qqqpmZmZUVFQQEBC6\n",
       "urpERETc3NyYmJjMzMwiIiIyMjKIiIju7u4AAACYsrA9AAAAAXRSTlMAQObYZgAAADxJREFUCNdj\n",
       "YOA9vWrVBgaG2b0MQMCeCyIZ2ArA1DUwyRCyahVIyWQI7xaEYm4AU7xLIdxqTQgtvGvVBgCkcQ7e\n",
       "geM/tQAAAABJRU5ErkJggg==\n",
       "\" style=\"display:inline;vertical-align:middle;\" /></a></td></tr>\n",
       "<tr><td>2</td><td>ExprTuple</td><td>3, 4</td><td><a class=\"ProveItLink\" href=\"../da1b51f0597e08b2f8a00c1ed5864472c75e2a500/expr.ipynb\"><img src=\"data:image/png;base64,iVBORw0KGgoAAAANSUhEUgAAAKoAAAAcBAMAAAADyznZAAAAMFBMVEX///+qqqp2dnYiIiJERESI\n",
       "iIhmZmYQEBDc3NyYmJgyMjLu7u5UVFTMzMy6uroAAACGxKilAAAAAXRSTlMAQObYZgAAAoVJREFU\n",
       "SMe1lk1oE0EUx/9Jm80mm93m4kEv2Ut6U3KQIIgQQQ+Ch4VivdSy6M0PqHrxIHUPnkqhUcSDggiC\n",
       "oFVZerBQihvBihbBIB7FFj34cdAEjbaURN9sdnY2JntIWAdm5vcmk3/evHkzEyDS8jhfRvTloVrz\n",
       "6Ft0onFT0aEzUivRqSaz1LxjtGRHpzq3bdxCwiB6SVUzBtFIrf87sqarBWAPIE9xp/sqy+epORMY\n",
       "GLv/e7c5t446MAFIJg3N9+/oA6ppYb5vYaFRGamiATg2krSMxAABqLMQ6H4wMpSnuUo6ixYwVMYa\n",
       "27r+N0zbokaZ4ubNJDVSJVbRKK5SCUfJ/DpAZhZYu5+b5iz7EQPXR8nBVA2rZB6nKq/sutCeIQgL\n",
       "+WMhkF6ZoDWPevMU80PnOg5Td4/qJ2vYO2yC1GncCQGnhCaww9NR9e0BVbWJu9RNk4ObLByuqz5h\n",
       "0cChEMjZOEcO+KpfAqpyC0XqaN8yNQy1M0EQXvN53XAS+AV3q90IlN4EVJU6Vx0pwam6Y4Lwk8/r\n",
       "hiK0TaGK+Uynryybz9IJNpCDm2CC5Aaf1gWUrtKWiACuuqpegspNPKOOQuVksRqrKggSyJuUO7Ub\n",
       "mkjSEbjBtYZvUdC0vV4ObGAMboKky7FiHE4hSHgO7FR+9ISnON3+IlwTrw7aTw54vlK+fqfuI0vS\n",
       "ybeTWNwIEqT8EVu5ZPWC5XH2lDxiqsyEeuLPRX6FxW+DLgQkLR6fz+gizQqF9on1TV7SBjJ68JYQ\n",
       "b5lPqXCIGx0mL44Fds2Km7A/1SX0VL3m3RCznp3wPxFkhMOLTpOXfVRnWIYN9MIkqr0fHvYOxPSI\n",
       "/xNcdtsrEauewn8qfwGW68IFHc+1+AAAAABJRU5ErkJggg==\n",
       "\" style=\"display:inline;vertical-align:middle;\" /></a></td></tr>\n",
       "<tr><td>3</td><td>ExprTuple</td><td>5, 5, 6, 6, 6, 7</td><td><a class=\"ProveItLink\" href=\"../3d513d35f98b9b467cb57e085984bc20c8c610b00/expr.ipynb\"><img src=\"data:image/png;base64,iVBORw0KGgoAAAANSUhEUgAAAHQAAAAVBAMAAABlHNfrAAAAMFBMVEX////c3NwiIiJERESqqqqY\n",
       "mJh2dnZmZmYQEBDu7u4yMjJUVFTMzMyIiIi6uroAAAAs73DqAAAAAXRSTlMAQObYZgAAAXtJREFU\n",
       "OMul1D1IQlEUwPG/+fk0P/aG3Fodam9u8c1NTrVUNDVUQ0W0VU4hNQhBQwRBEASBJLQEDblFlGJN\n",
       "0WRfRFDRue/1nu8mDc8u3OMP9Xjuvec+4R8jVesmK9yUcO47bWtJwrzMXf8l92TGIdnFel/UigvE\n",
       "iv5P512CscCD/6KRrIqDzEgMVKYW7XfbMsbqVR1sTN5Yr/HKtQnj7IjvM8GW/WlbZ814VkfvGtsW\n",
       "yjk+YIQ1KfVKNGcXdWWsEjQ1UKoxZCFfZEWq8AWJFj32OWtCBycOZuENLlRqOkfZ3o4mdPDsYIDU\n",
       "q0pdhv4aeaweabKHi8Bnu63Rd7VgWX55mONQ1cCrtOzP1IBUClu/+0GsAKNyxsTN0ECEctarxDSR\n",
       "qgaOYMJ4Ehwyh2rOnWpm47RB6dErZupXvxCdrBeN9Yxc/0t15PvEMs4WbulQJ1LO1+UiyjX+GSYd\n",
       "6kTYvY01z0PnL3VTZt+Pk25m8m/gPqIHql9d/cEkq3wDKWp+V3oGrnIAAAAASUVORK5CYII=\n",
       "\" style=\"display:inline;vertical-align:middle;\" /></a></td></tr>\n",
       "<tr><td>4</td><td>Operation</td><td>operator:&nbsp;8<br>operands:&nbsp;9<br></td><td><a class=\"ProveItLink\" href=\"../caa58a6d37528bfa4e8e607325cf0a3bdcd3bb190/expr.ipynb\"><img src=\"data:image/png;base64,iVBORw0KGgoAAAANSUhEUgAAABcAAAAUBAMAAACUkLs9AAAAMFBMVEX////c3NyqqqqYmJhUVFR2\n",
       "dnbu7u66urrMzMxmZmZEREQQEBAyMjIiIiKIiIgAAAB7fvZ0AAAAAXRSTlMAQObYZgAAAJpJREFU\n",
       "GNNjYIACtqmPGeCAp6EfwYlkSEVwNiGYDIyf3k2Eczi+MvSCaL475/euZPzOwK8AFKsvYIt/wvCD\n",
       "gf8BA4OBMwMD0xeGQwz8BQzMCRuASqcwqDDUMjBwMjoAOXkMzFOnMTBksgcgLGhlMkDisCNxsjiQ\n",
       "lPEkOCA4zAEgDhuUt7gOSNQmQDgsXs/YqpbBFHbe/+0OYQEA3N0ih75gypAAAAAASUVORK5CYII=\n",
       "\" style=\"display:inline;vertical-align:middle;\" /></a></td></tr>\n",
       "<tr><td>5</td><td>Variable</td><td></td><td><a class=\"ProveItLink\" href=\"../../../../__pv_it/07527342713064c87612d00d8557c53d53d5324a0/expr.ipynb\"><img src=\"data:image/png;base64,iVBORw0KGgoAAAANSUhEUgAAAAsAAAAJBAMAAAAWSsseAAAAMFBMVEX///8yMjKqqqrMzMzu7u4i\n",
       "IiJmZmaYmJhEREQQEBC6urp2dnaIiIhUVFTc3NwAAAD87Fq/AAAAAXRSTlMAQObYZgAAAEhJREFU\n",
       "CNdjYOC7s2seAwPDygccHxgY+L4zsDUwMPB+YGA9wMDA38Dgb8DA8P4Agz6DA4O/AsNFJgMGxgKm\n",
       "MG6gyjunLE4xAAAZTBA5TB6DCwAAAABJRU5ErkJggg==\n",
       "\" style=\"display:inline;vertical-align:middle;\" /></a></td></tr>\n",
       "<tr><td>6</td><td>Variable</td><td></td><td><a class=\"ProveItLink\" href=\"../../../../__pv_it/cbdfda466482236edba0ce44ac7ef39cda0af7a40/expr.ipynb\"><img src=\"data:image/png;base64,iVBORw0KGgoAAAANSUhEUgAAAAkAAAAJBAMAAAASvxsjAAAALVBMVEX///9mZmbc3NxUVFSYmJhE\n",
       "REQiIiIyMjK6uroQEBDMzMyIiIh2dnbu7u4AAABgFDGoAAAAAXRSTlMAQObYZgAAADZJREFUCNdj\n",
       "YOA9s3sBA8PKBvYEBt7ZDKwODMwPGICALwBE6m0Asx0YGIDiAgw8QJUyu/cyAAAmuwmycZ8WfQAA\n",
       "AABJRU5ErkJggg==\n",
       "\" style=\"display:inline;vertical-align:middle;\" /></a></td></tr>\n",
       "<tr><td>7</td><td>Variable</td><td></td><td><a class=\"ProveItLink\" href=\"../../../../__pv_it/6840a4fa6c106149dc16a131294d0c5e44f1b0480/expr.ipynb\"><img src=\"data:image/png;base64,iVBORw0KGgoAAAANSUhEUgAAAAkAAAAOBAMAAAAPuiubAAAALVBMVEX///9mZmbMzMxERESYmJiI\n",
       "iIh2dna6urqqqqoyMjIiIiIQEBBUVFTu7u4AAAD9S1JeAAAAAXRSTlMAQObYZgAAAE1JREFUCNdj\n",
       "4D29gAEIOA+ASL4GEFl3AURmgQiGOaFHGBh4HzPwKTBwvGXgTmBgnMDAJ8DAJcBQ5wBSLncBJLWN\n",
       "gYGngRFoBO9REQYGAGrcDtUkVqASAAAAAElFTkSuQmCC\n",
       "\" style=\"display:inline;vertical-align:middle;\" /></a></td></tr>\n",
       "<tr><td>8</td><td>Literal</td><td></td><td><a class=\"ProveItLink\" href=\"../../../exponentiation/__pv_it/deb2bf23cbccdd6e6791e1b35b5b9794ce12dbd50/expr.ipynb\"><img src=\"data:image/png;base64,iVBORw0KGgoAAAANSUhEUgAAACgAAAASBAMAAADbMYGVAAAAMFBMVEX///8QEBAiIiKYmJjc3Nzu\n",
       "7u7MzMx2dnZmZma6urpERESqqqoyMjJUVFSIiIgAAAAoDOMTAAAAAXRSTlMAQObYZgAAAOBJREFU\n",
       "GNNjYGB4+//u3Tt/GNAASGAXmhjnPyDBgSbI/g1IxKEJ8nxgYGdgQRPkX8BgDKRY6q7s62OYvmze\n",
       "2wAgb/7ZO1+AVDiDkYEQQ0HTBr4DQF59AgOIKmB4z7CNbcNZBu6vQN55kEACQwDDLQYGVobfDHwg\n",
       "fb8YGBxYHwAZciD3fWXg+gB1JjvQcJZvQIXsCgz8F6DO9GBgMOH7wPCUgaeBwd4B7EwGNjUG7s9c\n",
       "AiwPgO5jkWRgiF3/9+5dfQUG1nWl5Y+B7pv+1gE9bBhqGLCAE1jEWH9jEbT5A3IwAC4sP/1L6Qlu\n",
       "AAAAAElFTkSuQmCC\n",
       "\" style=\"display:inline;vertical-align:middle;\" /></a></td></tr>\n",
       "<tr><td>9</td><td>ExprTuple</td><td>10, 11</td><td><a class=\"ProveItLink\" href=\"../e291b8cc1d145060c3954e47279c1a346a2a8f2d0/expr.ipynb\"><img src=\"data:image/png;base64,iVBORw0KGgoAAAANSUhEUgAAAC8AAAAVBAMAAAAk6KpUAAAAMFBMVEX////c3NwiIiJERESqqqqY\n",
       "mJh2dnZmZmYQEBDu7u4yMjJUVFTMzMyIiIi6uroAAAAs73DqAAAAAXRSTlMAQObYZgAAASpJREFU\n",
       "KM91kb9Lw0AUxz/RxjY2De4uLi4iCEIRt/wHZnLUbC5KnbpkKaKrHAjaRcwiqItFcRUnHUToJqJD\n",
       "rZsg/phEQX2XkyRQPbjHu+/n7n3v3cG/w2v3anM6XMqsjB2uTP2Km/VFimeS7IP73HFqt0a3xjmC\n",
       "WDZLpeAECp8G9IUcwCyUFLZqiBIZMK90bMIjFK2W5NsG7CWx36cOW16YXejj6tqHgWV24bwQpLrz\n",
       "FjAqjjHrArwc+IaawmvwBRtumDsh/j7uiwaDqpXzENDWYBXsUAPHgMnkhJSqyqL6JKGrEjSTeNgx\n",
       "C7IoH984D9PsjOgOQmctuW5Xb7uYeD+Vdl91HkUdse1QGsqM79OsqZ0zkLWzZJ69Bzjy7AyneiXN\n",
       "yrq+9cfX3sEPlLVIbOnCRWQAAAAASUVORK5CYII=\n",
       "\" style=\"display:inline;vertical-align:middle;\" /></a></td></tr>\n",
       "<tr><td>10</td><td>Literal</td><td></td><td><a class=\"ProveItLink\" href=\"../../../sets/complex/__pv_it/c357845f93a5a2d9f649129d299e7ec28dda4b960/expr.ipynb\"><img src=\"data:image/png;base64,iVBORw0KGgoAAAANSUhEUgAAAA8AAAAOBAMAAAACpFvcAAAAMFBMVEX////c3NyqqqqYmJhUVFR2\n",
       "dnbu7u66urrMzMxmZmZEREQQEBAyMjIiIiKIiIgAAAB7fvZ0AAAAAXRSTlMAQObYZgAAAGVJREFU\n",
       "CNdjYGDgu3N+70oGBgaO+gK2+CdAhoEzAwPTFwYG5oQNQN4UBgZORgcgI4+BIZM9gAEMWpkMoAx2\n",
       "KCOLAyrFk+AAYTAHgBhsQLy4DkjUJjAwsHg9Y6taBpLsvP/bnYEBACkBFGQfBv8RAAAAAElFTkSu\n",
       "QmCC\n",
       "\" style=\"display:inline;vertical-align:middle;\" /></a></td></tr>\n",
       "<tr><td>11</td><td>Literal</td><td></td><td><a class=\"ProveItLink\" href=\"../../../numeral/__pv_it/09b499e53e24cf89c2513ba78b501f0314edaa680/expr.ipynb\"><img src=\"data:image/png;base64,iVBORw0KGgoAAAANSUhEUgAAAAoAAAAOBAMAAADkjZCYAAAAMFBMVEX///+6urpERESqqqqIiIgQ\n",
       "EBCYmJgyMjJUVFQiIiLc3NzMzMxmZmZ2dnbu7u4AAABf+mkYAAAAAXRSTlMAQObYZgAAAFNJREFU\n",
       "CNdjYOC7c3cDA8PKDRwTGBjmMrAXMLD9YwAC9gAQyV/tcpiB4f00Bs4EhvcfGHj/MbyfwMD2mYEf\n",
       "qOwLAxOYzQwWZ9BleJrAwMDT08gAANMyF0ZGTeKAAAAAAElFTkSuQmCC\n",
       "\" style=\"display:inline;vertical-align:middle;\" /></a></td></tr>\n",
       "</table>\n"
      ],
      "text/plain": [
       "0. (a , a , c , c , c , b) in Complexes^{6}\n",
       "   core type: Operation\n",
       "   operator: 1\n",
       "   operands: 2\n",
       "1. in\n",
       "   core type: Literal\n",
       "   sub-expressions: \n",
       "2. ((a , a , c , c , c , b) , Complexes^{6})\n",
       "   core type: ExprTuple\n",
       "   sub-expressions: 3, 4\n",
       "3. (a , a , c , c , c , b)\n",
       "   core type: ExprTuple\n",
       "   sub-expressions: 5, 5, 6, 6, 6, 7\n",
       "4. Complexes^{6}\n",
       "   core type: Operation\n",
       "   operator: 8\n",
       "   operands: 9\n",
       "5. a\n",
       "   core type: Variable\n",
       "   sub-expressions: \n",
       "6. c\n",
       "   core type: Variable\n",
       "   sub-expressions: \n",
       "7. b\n",
       "   core type: Variable\n",
       "   sub-expressions: \n",
       "8. Exp\n",
       "   core type: Literal\n",
       "   sub-expressions: \n",
       "9. (Complexes , 6)\n",
       "   core type: ExprTuple\n",
       "   sub-expressions: 10, 11\n",
       "10. Complexes\n",
       "    core type: Literal\n",
       "    sub-expressions: \n",
       "11. 6\n",
       "    core type: Literal\n",
       "    sub-expressions: "
      ]
     },
     "execution_count": 4,
     "metadata": {},
     "output_type": "execute_result"
    }
   ],
   "source": [
    "# display the expression information\n",
    "expr.exprInfo()"
   ]
  },
  {
   "cell_type": "code",
   "execution_count": null,
   "metadata": {},
   "outputs": [],
   "source": []
  }
 ],
 "metadata": {
  "kernelspec": {
   "display_name": "Python 3",
   "language": "python",
   "name": "python3"
  }
 },
 "nbformat": 4,
 "nbformat_minor": 0
}
