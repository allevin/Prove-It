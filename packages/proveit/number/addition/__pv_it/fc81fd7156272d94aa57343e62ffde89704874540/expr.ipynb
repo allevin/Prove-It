{
 "cells": [
  {
   "cell_type": "markdown",
   "metadata": {},
   "source": [
    "Expression of type <a class=\"ProveItLink\" href=\"../../../../../../doc/html/api/proveit.number.Add.html\">Add</a>\n",
    "=======================\n",
    "# from context <a class=\"ProveItLink\" href=\"../../_context_.ipynb\">proveit.number.addition</a>"
   ]
  },
  {
   "cell_type": "code",
   "execution_count": 1,
   "metadata": {},
   "outputs": [],
   "source": [
    "# import Expression classes needed to build the expression\n",
    "from proveit.number import Add, Neg, one, two"
   ]
  },
  {
   "cell_type": "code",
   "execution_count": 2,
   "metadata": {},
   "outputs": [
    {
     "data": {
      "text/html": [
       "<strong id=\"expr\">expr:</strong> <a class=\"ProveItLink\" href=\"expr.ipynb\"><img src=\"data:image/png;base64,iVBORw0KGgoAAAANSUhEUgAAAHQAAAAQBAMAAAA10UZYAAAAMFBMVEX///92dnbMzMyqqqq6uroi\n",
       "IiLc3NyYmJgyMjIQEBBmZmaIiIhUVFTu7u5EREQAAAAHjHnoAAAAAXRSTlMAQObYZgAAAM5JREFU\n",
       "KM9jYGB4y4AO0EWyVjzBKnLvL7pOdBG2Awz7DbCI3DmDrhUhwpsApnguMLB+QFECFeHGsBUuwrwB\n",
       "THHOZeD5gqICKkJYK8dfBi5UrVARwlqBgBVDEUiEKK36AuiKQCJEae3DiMA+uEK21lAQcMCulesB\n",
       "iMwAKwlBiOCylaujo3VGR8cBEHsPhqV7GBiIcjDzAoY0VCUQESK0ajEwlKEqgYgQ1soWKCgVgJoQ\n",
       "wSJcK38sR9WJEIFqZf3//z+qVkwRdICIHJIBC16tAN1QWp/D1T/hAAAAAElFTkSuQmCC\n",
       "\" style=\"display:inline;vertical-align:middle;\" /></a><br>"
      ],
      "text/plain": [
       "expr: 1 - 1 + 2 - 2"
      ]
     },
     "execution_count": 2,
     "metadata": {},
     "output_type": "execute_result"
    }
   ],
   "source": [
    "# build up the expression from sub-expressions\n",
    "expr = Add(one, Neg(one), two, Neg(two))"
   ]
  },
  {
   "cell_type": "code",
   "execution_count": 3,
   "metadata": {},
   "outputs": [
    {
     "name": "stdout",
     "output_type": "stream",
     "text": [
      "Passed sanity check: built 'expr' is the same as the stored Expression.\n"
     ]
    }
   ],
   "source": [
    "# check that the built expression is the same as the stored expression\n",
    "%check_expr"
   ]
  },
  {
   "cell_type": "code",
   "execution_count": 4,
   "metadata": {},
   "outputs": [
    {
     "data": {
      "text/html": [
       "<table><tr><th>&nbsp;</th><th>core type</th><th>sub-expressions</th><th>expression</th></tr>\n",
       "<tr><td>0</td><td>Operation</td><td>operator:&nbsp;1<br>operands:&nbsp;2<br></td><td><a class=\"ProveItLink\" href=\"expr.ipynb\"><img src=\"data:image/png;base64,iVBORw0KGgoAAAANSUhEUgAAAHQAAAAQBAMAAAA10UZYAAAAMFBMVEX///92dnbMzMyqqqq6uroi\n",
       "IiLc3NyYmJgyMjIQEBBmZmaIiIhUVFTu7u5EREQAAAAHjHnoAAAAAXRSTlMAQObYZgAAAM5JREFU\n",
       "KM9jYGB4y4AO0EWyVjzBKnLvL7pOdBG2Awz7DbCI3DmDrhUhwpsApnguMLB+QFECFeHGsBUuwrwB\n",
       "THHOZeD5gqICKkJYK8dfBi5UrVARwlqBgBVDEUiEKK36AuiKQCJEae3DiMA+uEK21lAQcMCulesB\n",
       "iMwAKwlBiOCylaujo3VGR8cBEHsPhqV7GBiIcjDzAoY0VCUQESK0ajEwlKEqgYgQ1soWKCgVgJoQ\n",
       "wSJcK38sR9WJEIFqZf3//z+qVkwRdICIHJIBC16tAN1QWp/D1T/hAAAAAElFTkSuQmCC\n",
       "\" style=\"display:inline;vertical-align:middle;\" /></a></td></tr>\n",
       "<tr><td>1</td><td>Literal</td><td></td><td><a class=\"ProveItLink\" href=\"../3e6688136fa3c7aefbebe51301b7c3ebf0b69c440/expr.ipynb\"><img src=\"data:image/png;base64,iVBORw0KGgoAAAANSUhEUgAAAA4AAAAOBAMAAADtZjDiAAAAJFBMVEX///+6urpUVFQQEBAiIiIy\n",
       "MjJmZmaIiIiqqqrc3Nzu7u4AAACgHpL+AAAAAXRSTlMAQObYZgAAAB5JREFUCNdjYGBgWMkAAe2k\n",
       "0Kmhoc6hoUGk6BMHYgAHOwjcado9fwAAAABJRU5ErkJggg==\n",
       "\" style=\"display:inline;vertical-align:middle;\" /></a></td></tr>\n",
       "<tr><td>2</td><td>ExprTuple</td><td>5, 3, 7, 4</td><td><a class=\"ProveItLink\" href=\"../975f7bdabf95609b0c7a8bf771d700f0cb854a780/expr.ipynb\"><img src=\"data:image/png;base64,iVBORw0KGgoAAAANSUhEUgAAAHEAAAAVBAMAAACDNRyvAAAAMFBMVEX////c3NwiIiJERESqqqqY\n",
       "mJh2dnZmZmYQEBDu7u4yMjJUVFTMzMyIiIi6uroAAAAs73DqAAAAAXRSTlMAQObYZgAAAUxJREFU\n",
       "OMudlC9Pw0AYh3/NKOxG2zRIMIQPQDFocNgpJEENRbJAwiQIBIpVztFACEGBJYjhMfsAJCtIFCwE\n",
       "ybj3ru3uD1lDL2l7fX73pG97vQOqt2BQQdqh0zM/arEZ5cTpXKV6IsjcE+/dAmzDNAuyBP9LjyRJ\n",
       "AH8A9tg3zAl5ACI9k2QbqNOQoVVtTs5i9PVyJekB75hq3sU41k1Japs4mm7yFlkhJ7NtXJeZ3reZ\n",
       "EZlJcF5mNtbMjEhwgh91nHO5Qi1VzcPsuiii1Yx4H7r5xzP9ezMShJunJeYWnFCPBOHVrufjYssk\n",
       "4rXhhkz7PkTgJtjLxrGRaQqy0God4GJZSQShWXnjN53uTZN11aIKEo3HI/Q+1ckkgkaKei4EobX+\n",
       "CvJqLTP+97m7Wd+10glpWtm+XGX/N1ki1pts9tZQEN+K5ulFnCq7yQvwC2cRcN3xiN2tAAAAAElF\n",
       "TkSuQmCC\n",
       "\" style=\"display:inline;vertical-align:middle;\" /></a></td></tr>\n",
       "<tr><td>3</td><td>Operation</td><td>operator:&nbsp;6<br>operand:&nbsp;5<br></td><td><a class=\"ProveItLink\" href=\"../27bb768acc4707a63c4de5a0b22e13dfe76b5c980/expr.ipynb\"><img src=\"data:image/png;base64,iVBORw0KGgoAAAANSUhEUgAAABgAAAAPBAMAAAAMihLoAAAAJ1BMVEX///+YmJgQEBBmZmaIiIhU\n",
       "VFTu7u5ERES6uroiIiIyMjLc3NwAAAAKCT4sAAAAAXRSTlMAQObYZgAAACpJREFUCNdjYICDMgST\n",
       "If0Ygp0aisRhYCGTs2smCMwg3wAYYDY6ZciADABBShCHMIgXsAAAAABJRU5ErkJggg==\n",
       "\" style=\"display:inline;vertical-align:middle;\" /></a></td></tr>\n",
       "<tr><td>4</td><td>Operation</td><td>operator:&nbsp;6<br>operand:&nbsp;7<br></td><td><a class=\"ProveItLink\" href=\"../9cd64560928a3eea5b8bd346c0fe76e791b1ec050/expr.ipynb\"><img src=\"data:image/png;base64,iVBORw0KGgoAAAANSUhEUgAAABkAAAAOBAMAAAAoFKpzAAAAMFBMVEX///+YmJh2dnbMzMwQEBDu\n",
       "7u6qqqqIiIhUVFRERERmZma6uroiIiIyMjLc3NwAAABSazM2AAAAAXRSTlMAQObYZgAAAFtJREFU\n",
       "CNdjYIACvlU3NzDAwQsG9m8IXisDw3kEzyWAoR+h9H4Aw3okjUCVAUgc5k/IUrwTGBjengGB00De\n",
       "SmQp9gZkXhYD3wOEGQsYGBG8N0pKa5As+///DwMAyBMb8hv9jf4AAAAASUVORK5CYII=\n",
       "\" style=\"display:inline;vertical-align:middle;\" /></a></td></tr>\n",
       "<tr><td>5</td><td>Literal</td><td></td><td><a class=\"ProveItLink\" href=\"../../../numeral/__pv_it/9be8badea4c35b9724062cecc501d17a3158d1d20/expr.ipynb\"><img src=\"data:image/png;base64,iVBORw0KGgoAAAANSUhEUgAAAAgAAAAPBAMAAAArJJMAAAAAHlBMVEX///+YmJgyMjIQEBBmZmaI\n",
       "iIhUVFTu7u5EREQAAAAw+MI4AAAAAXRSTlMAQObYZgAAACFJREFUCNdjYGBoZ2BgqJjOwFCWBiQY\n",
       "WEklWJwnOTKAAACjEQo8HvEr3AAAAABJRU5ErkJggg==\n",
       "\" style=\"display:inline;vertical-align:middle;\" /></a></td></tr>\n",
       "<tr><td>6</td><td>Literal</td><td></td><td><a class=\"ProveItLink\" href=\"../../../negation/__pv_it/3fc7a08bb9735faa20ef8e175f6ea95511acc9c70/expr.ipynb\"><img src=\"data:image/png;base64,iVBORw0KGgoAAAANSUhEUgAAAA4AAAACBAMAAACapPCZAAAAElBMVEX///+6uroiIiIyMjLc3NwA\n",
       "AAA6l9OrAAAAAXRSTlMAQObYZgAAABBJREFUCNdjcFYCAUUGKAAADR4BD8/TF5gAAAAASUVORK5C\n",
       "YII=\n",
       "\" style=\"display:inline;vertical-align:middle;\" /></a></td></tr>\n",
       "<tr><td>7</td><td>Literal</td><td></td><td><a class=\"ProveItLink\" href=\"../../../numeral/__pv_it/77d407a64829263cdc16415becd4c2293f77a4bf0/expr.ipynb\"><img src=\"data:image/png;base64,iVBORw0KGgoAAAANSUhEUgAAAAkAAAAOBAMAAAAPuiubAAAAMFBMVEX///+YmJh2dnbMzMwQEBAi\n",
       "IiLu7u6qqqqIiIhUVFS6urpEREQyMjJmZmbc3NwAAACOMKdoAAAAAXRSTlMAQObYZgAAAFBJREFU\n",
       "CNdj4Lt7egEDw0sGju8MDNMYGOIZGFwSGOYvYDifwHAfKAEUSQASzJ9ATJ4NIPI2iOCYACJrGfge\n",
       "MDBfYGB8wPBUSekqUPH//18ZAIliFhc3zESNAAAAAElFTkSuQmCC\n",
       "\" style=\"display:inline;vertical-align:middle;\" /></a></td></tr>\n",
       "</table>\n"
      ],
      "text/plain": [
       "0. 1 - 1 + 2 - 2\n",
       "   core type: Operation\n",
       "   operator: 1\n",
       "   operands: 2\n",
       "1. +\n",
       "   core type: Literal\n",
       "   sub-expressions: \n",
       "2. (1 , -1 , 2 , -2)\n",
       "   core type: ExprTuple\n",
       "   sub-expressions: 5, 3, 7, 4\n",
       "3. -1\n",
       "   core type: Operation\n",
       "   operator: 6\n",
       "   operand: 5\n",
       "4. -2\n",
       "   core type: Operation\n",
       "   operator: 6\n",
       "   operand: 7\n",
       "5. 1\n",
       "   core type: Literal\n",
       "   sub-expressions: \n",
       "6. -\n",
       "   core type: Literal\n",
       "   sub-expressions: \n",
       "7. 2\n",
       "   core type: Literal\n",
       "   sub-expressions: "
      ]
     },
     "execution_count": 4,
     "metadata": {},
     "output_type": "execute_result"
    }
   ],
   "source": [
    "# display the expression information\n",
    "expr.exprInfo()"
   ]
  },
  {
   "cell_type": "code",
   "execution_count": null,
   "metadata": {},
   "outputs": [],
   "source": []
  }
 ],
 "metadata": {
  "kernelspec": {
   "display_name": "Python 3",
   "language": "python",
   "name": "python3"
  }
 },
 "nbformat": 4,
 "nbformat_minor": 0
}
