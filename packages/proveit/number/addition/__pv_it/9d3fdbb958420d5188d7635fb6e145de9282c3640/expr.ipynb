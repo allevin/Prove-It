{
 "cells": [
  {
   "cell_type": "markdown",
   "metadata": {},
   "source": [
    "Expression of type <a class=\"ProveItLink\" href=\"../../../../../../doc/html/api/proveit.logic.InSet.html\">InSet</a>\n",
    "=======================\n",
    "# from context <a class=\"ProveItLink\" href=\"../../_context_.ipynb\">proveit.number.addition</a>"
   ]
  },
  {
   "cell_type": "code",
   "execution_count": 1,
   "metadata": {},
   "outputs": [],
   "source": [
    "# import Expression classes needed to build the expression\n",
    "from proveit.logic import InSet\n",
    "from proveit.number import Exp, Neg, RealsNeg, one, two"
   ]
  },
  {
   "cell_type": "code",
   "execution_count": 2,
   "metadata": {},
   "outputs": [
    {
     "data": {
      "text/html": [
       "<strong id=\"expr\">expr:</strong> <a class=\"ProveItLink\" href=\"expr.ipynb\"><img src=\"data:image/png;base64,iVBORw0KGgoAAAANSUhEUgAAAJoAAAAZBAMAAAA79SpSAAAAMFBMVEX////c3NwiIiJERESqqqqY\n",
       "mJh2dnZmZmYQEBDu7u4yMjJUVFTMzMyIiIi6uroAAAAs73DqAAAAAXRSTlMAQObYZgAAAjJJREFU\n",
       "OMtjYKAaSLeeQD3D2CewL6CeaUwCjH+oZxqHA+c/BioClp8MDHwXCCiKwxR6i8ZnfQAiuRIYGE4j\n",
       "iTKjxQpj+eIHDOwH0A3j2cC63vjXirUIkRoQkQ3EKxFinPZopkkz8H5hYMCIKq4JDMyMG3hMFjKw\n",
       "GAOBJVAE5ECg03gRHuXcvR/NtJ0MDPoMDGHopt0F+oKxgMFSGOFVoEnPGM4wcCAbcB/NtI4JDPsf\n",
       "MMyA8uYuUtICMzohpuUwIxzSwMBj4rKT4RUDHtPWT2Cof8DA7AAJraVQWb4FGKYxmDBw/P//gaEM\n",
       "n2lAoD+Bga0AzBKGSbInQEzbKYyUrSDUUvym8XwDpiNINBjCIyEAbBqf6kKEOi8I1YffNC4DoM8a\n",
       "wEFjAE/1D0CmNSktQVL3AkIBcwPjIiUQeIAwTQosoAdkFYPc9wEcWk1AIXAs8INNqyuwRDLtPNw0\n",
       "PG7j3QA3jWcDTBBiWkHdaUzTWvCa5s7AKADzqQIif4NN45obgOFTU3TTkA3kKWBgFWBghcTCVnj+\n",
       "g8QCz4Y9CJVRKFELN43zExJfKC2tiAGWQiY9gIqC+KAUksIsgJ5CHiFpLu9fHsDZL4CU2P7/BxrO\n",
       "BTGGcTk0+/MpMABz/ecDXFZf4CrXQQNBAC2o+NAF4DmLZRc0ZzVipHHOBkR+RS2rMJTmogtgFAMM\n",
       "bLCyYyUh0zixlUhoYBaiDEMFGEUxN4bXGTegi2yESxEqye9gCsmiJ3Jo/AAAI56JpOUV8FQAAAAA\n",
       "SUVORK5CYII=\n",
       "\" style=\"display:inline;vertical-align:middle;\" /></a><br>"
      ],
      "text/plain": [
       "expr: (-1 , -2) in (RealsNeg)^{2}"
      ]
     },
     "execution_count": 2,
     "metadata": {},
     "output_type": "execute_result"
    }
   ],
   "source": [
    "# build up the expression from sub-expressions\n",
    "expr = InSet([Neg(one), Neg(two)], Exp(RealsNeg, two))"
   ]
  },
  {
   "cell_type": "code",
   "execution_count": 3,
   "metadata": {},
   "outputs": [
    {
     "name": "stdout",
     "output_type": "stream",
     "text": [
      "Passed sanity check: built 'expr' is the same as the stored Expression.\n"
     ]
    }
   ],
   "source": [
    "# check that the built expression is the same as the stored expression\n",
    "%check_expr"
   ]
  },
  {
   "cell_type": "code",
   "execution_count": 4,
   "metadata": {},
   "outputs": [
    {
     "data": {
      "text/html": [
       "<table><tr><th>&nbsp;</th><th>core type</th><th>sub-expressions</th><th>expression</th></tr>\n",
       "<tr><td>0</td><td>Operation</td><td>operator:&nbsp;1<br>operands:&nbsp;2<br></td><td><a class=\"ProveItLink\" href=\"expr.ipynb\"><img src=\"data:image/png;base64,iVBORw0KGgoAAAANSUhEUgAAAJoAAAAZBAMAAAA79SpSAAAAMFBMVEX////c3NwiIiJERESqqqqY\n",
       "mJh2dnZmZmYQEBDu7u4yMjJUVFTMzMyIiIi6uroAAAAs73DqAAAAAXRSTlMAQObYZgAAAjJJREFU\n",
       "OMtjYKAaSLeeQD3D2CewL6CeaUwCjH+oZxqHA+c/BioClp8MDHwXCCiKwxR6i8ZnfQAiuRIYGE4j\n",
       "iTKjxQpj+eIHDOwH0A3j2cC63vjXirUIkRoQkQ3EKxFinPZopkkz8H5hYMCIKq4JDMyMG3hMFjKw\n",
       "GAOBJVAE5ECg03gRHuXcvR/NtJ0MDPoMDGHopt0F+oKxgMFSGOFVoEnPGM4wcCAbcB/NtI4JDPsf\n",
       "MMyA8uYuUtICMzohpuUwIxzSwMBj4rKT4RUDHtPWT2Cof8DA7AAJraVQWb4FGKYxmDBw/P//gaEM\n",
       "n2lAoD+Bga0AzBKGSbInQEzbKYyUrSDUUvym8XwDpiNINBjCIyEAbBqf6kKEOi8I1YffNC4DoM8a\n",
       "wEFjAE/1D0CmNSktQVL3AkIBcwPjIiUQeIAwTQosoAdkFYPc9wEcWk1AIXAs8INNqyuwRDLtPNw0\n",
       "PG7j3QA3jWcDTBBiWkHdaUzTWvCa5s7AKADzqQIif4NN45obgOFTU3TTkA3kKWBgFWBghcTCVnj+\n",
       "g8QCz4Y9CJVRKFELN43zExJfKC2tiAGWQiY9gIqC+KAUksIsgJ5CHiFpLu9fHsDZL4CU2P7/BxrO\n",
       "BTGGcTk0+/MpMABz/ecDXFZf4CrXQQNBAC2o+NAF4DmLZRc0ZzVipHHOBkR+RS2rMJTmogtgFAMM\n",
       "bLCyYyUh0zixlUhoYBaiDEMFGEUxN4bXGTegi2yESxEqye9gCsmiJ3Jo/AAAI56JpOUV8FQAAAAA\n",
       "SUVORK5CYII=\n",
       "\" style=\"display:inline;vertical-align:middle;\" /></a></td></tr>\n",
       "<tr><td>1</td><td>Literal</td><td></td><td><a class=\"ProveItLink\" href=\"../../../../logic/set_theory/membership/__pv_it/088cbc857536a28d4119ad9639a84270ccb0545d0/expr.ipynb\"><img src=\"data:image/png;base64,iVBORw0KGgoAAAANSUhEUgAAAAwAAAAMBAMAAACkW0HUAAAALVBMVEX///+qqqpmZmZUVFQQEBC6\n",
       "urpERETc3NyYmJjMzMwiIiIyMjKIiIju7u4AAACYsrA9AAAAAXRSTlMAQObYZgAAADxJREFUCNdj\n",
       "YOA9vWrVBgaG2b0MQMCeCyIZ2ArA1DUwyRCyahVIyWQI7xaEYm4AU7xLIdxqTQgtvGvVBgCkcQ7e\n",
       "geM/tQAAAABJRU5ErkJggg==\n",
       "\" style=\"display:inline;vertical-align:middle;\" /></a></td></tr>\n",
       "<tr><td>2</td><td>ExprTuple</td><td>3, 4</td><td><a class=\"ProveItLink\" href=\"../988e3e31fecfaa1d488b695a52c30fed62a06c920/expr.ipynb\"><img src=\"data:image/png;base64,iVBORw0KGgoAAAANSUhEUgAAAJ8AAAAcBAMAAACNEXClAAAAMFBMVEX///+qqqp2dnYiIiJERESI\n",
       "iIhmZmYQEBDc3NyYmJgyMjLu7u5UVFTMzMy6uroAAACGxKilAAAAAXRSTlMAQObYZgAAAnhJREFU\n",
       "SMetVUto1FAUPaaTzDfjCOJCBENBF64KBVEXdgQXiooFKeJCGLQo6sJ2pShoQFQoA60uXHShg1RB\n",
       "R2gWwogI04UbP2AWXRYaKIoIOv4WouB4bzJ5eSaZdJMLmbx3zntn7u+9ACmZMv4Gqdo5nPWHX1IR\n",
       "3IFpW3FH+kIqgpNoO57UcyuloDdbGOP3K/55v9rqu9K4PBpL3gcGTCA3EQ77QGh57tScA80OgCXM\n",
       "/jz8+FIg65IKaaj0aDWaFKSwn/4JCdahfgMaAdAEqnUsbjSxfi+Z5ZG36SnS3qxDg7Fg9Yu3YUHq\n",
       "rxFvvWcquVa9gcyzqoCILBs6+bkTWGbgsrRfDQtesPDOQUvMs5YrqNiBIJGL6zYRPg4c5Sw3kgTn\n",
       "LZx3kKn480+ICBJ5tdulwT3gNSfVSBIkG7Gg1PzJCU+wJIUsyI6Fg1yTmWRB/TuwRkTxyBNcmTXF\n",
       "AkEu23iIXmESBAvkS3nCn11hwZvDuypSZ/rktIPt9FpLglPDbLslQYFwqqF/9Xf/dT38kJFaTZDt\n",
       "ihBM8JDbNSKofV6IESQPn3DIlUTBDciZUsiTXg6bx+JCtvGSqx4uSvG/ktSQN5HnvLv4fk9wqRSc\n",
       "xrxflI6JI3LVfcH2kARcGxw82Vvj4lt7fVjZF20b6sMOeyzt107/PoPWL7kJu90fVGnOs4uvgC+H\n",
       "Q5ibF5kq+EXYRgVhxy+G0/Yx0jotgWfNPiTZA6BkQD75PZuJ7Nki8LzRh6QcUwT6UOj6ihcsNgK8\n",
       "2Yek/+LTuIfv0NB3RY34UDIDvB5Pkg1w/qZ4dH21T8Bx+Qof7UfecQ+2kdq3OefdP7dSE9QspG//\n",
       "AC/mr5/4Gkd/AAAAAElFTkSuQmCC\n",
       "\" style=\"display:inline;vertical-align:middle;\" /></a></td></tr>\n",
       "<tr><td>3</td><td>ExprTuple</td><td>5, 6</td><td><a class=\"ProveItLink\" href=\"../54df8b3d573439565acec47f6c29fc5c3b1f2cf70/expr.ipynb\"><img src=\"data:image/png;base64,iVBORw0KGgoAAAANSUhEUgAAAEkAAAAVBAMAAAD4Ed5jAAAAMFBMVEX////c3NwiIiJERESqqqqY\n",
       "mJh2dnZmZmYQEBDu7u4yMjJUVFTMzMyIiIi6uroAAAAs73DqAAAAAXRSTlMAQObYZgAAAQJJREFU\n",
       "KM9jYCAO8F0goCAORJxGEmCegKqAsXzxAwb2A0DWSoQgpz2aKmkG3i8MDAsYGHgRFnLu3o+maicD\n",
       "gz4DQxgDAweyxH00VR0TGPY/YJjBwPCKAY+q9RMY6h8wMDswlOFTBQT6ExjYChiW4lfF842BgWUB\n",
       "Qx9+VVwGwBBtYPgHDJVFSiDwAKFKCiygB2QVg8z7AFKFxyzeDRBVLXhVuTMwCoBsNEVXhayQp4CB\n",
       "VYCBdQFDOpoqzk9IfKG0tCIGUEg8QhIs718ewNkvgBRY//8DNXE9YOAQQE9J6AKgGGJNQBNjxQj+\n",
       "XNSUg10V5wJwGkIFGEmXG+QERkIp+g4DAwAVn0QrQ1R4vAAAAABJRU5ErkJggg==\n",
       "\" style=\"display:inline;vertical-align:middle;\" /></a></td></tr>\n",
       "<tr><td>4</td><td>Operation</td><td>operator:&nbsp;7<br>operands:&nbsp;8<br></td><td><a class=\"ProveItLink\" href=\"../a56959077770aca5ba13153819a0853c4b7e563f0/expr.ipynb\"><img src=\"data:image/png;base64,iVBORw0KGgoAAAANSUhEUgAAADQAAAAZBAMAAACMZBAwAAAAMFBMVEX////c3NwiIiJERESqqqqY\n",
       "mJh2dnZmZmYQEBDu7u4yMjJUVFTMzMyIiIi6uroAAAAs73DqAAAAAXRSTlMAQObYZgAAAP5JREFU\n",
       "KM9jYMAO0q0n4JBhn8C+AIcUkwDjHxxSHA6c/xhwAZafDAx8F9AEWR+ASK4EBobTDFGf7Vd1ISmo\n",
       "ARHZQLySgcFAmuGwlwCDszEQAN3MBdIK1MQLVG4gzsA80QBhIlD4GcMZBo4JYCm2AwgpzgYGHhOX\n",
       "nQyvGDCkGEwYOP7//8BQBpHiRjKQIR1CLYVIPYoSQEh5Qag+kJSEkpYDks9eQKh/YF3PmZED+jyy\n",
       "FPubDZhSLRC7Vl7FNNAUInWa+wBCKgrhUJC/HAwxHP+IARS8NgyL1yPcuA4aaQIYUQUMKHhYogE2\n",
       "WAStxJCaBWNIY0hthDEY0RMAL9QbAMwMPeLaFJzqAAAAAElFTkSuQmCC\n",
       "\" style=\"display:inline;vertical-align:middle;\" /></a></td></tr>\n",
       "<tr><td>5</td><td>Operation</td><td>operator:&nbsp;10<br>operand:&nbsp;9<br></td><td><a class=\"ProveItLink\" href=\"../27bb768acc4707a63c4de5a0b22e13dfe76b5c980/expr.ipynb\"><img src=\"data:image/png;base64,iVBORw0KGgoAAAANSUhEUgAAABgAAAAPBAMAAAAMihLoAAAAJ1BMVEX///+YmJgQEBBmZmaIiIhU\n",
       "VFTu7u5ERES6uroiIiIyMjLc3NwAAAAKCT4sAAAAAXRSTlMAQObYZgAAACpJREFUCNdjYICDMgST\n",
       "If0Ygp0aisRhYCGTs2smCMwg3wAYYDY6ZciADABBShCHMIgXsAAAAABJRU5ErkJggg==\n",
       "\" style=\"display:inline;vertical-align:middle;\" /></a></td></tr>\n",
       "<tr><td>6</td><td>Operation</td><td>operator:&nbsp;10<br>operand:&nbsp;12<br></td><td><a class=\"ProveItLink\" href=\"../9cd64560928a3eea5b8bd346c0fe76e791b1ec050/expr.ipynb\"><img src=\"data:image/png;base64,iVBORw0KGgoAAAANSUhEUgAAABkAAAAOBAMAAAAoFKpzAAAAMFBMVEX///+YmJh2dnbMzMwQEBDu\n",
       "7u6qqqqIiIhUVFRERERmZma6uroiIiIyMjLc3NwAAABSazM2AAAAAXRSTlMAQObYZgAAAFtJREFU\n",
       "CNdjYIACvlU3NzDAwQsG9m8IXisDw3kEzyWAoR+h9H4Aw3okjUCVAUgc5k/IUrwTGBjengGB00De\n",
       "SmQp9gZkXhYD3wOEGQsYGBG8N0pKa5As+///DwMAyBMb8hv9jf4AAAAASUVORK5CYII=\n",
       "\" style=\"display:inline;vertical-align:middle;\" /></a></td></tr>\n",
       "<tr><td>7</td><td>Literal</td><td></td><td><a class=\"ProveItLink\" href=\"../../../exponentiation/__pv_it/deb2bf23cbccdd6e6791e1b35b5b9794ce12dbd50/expr.ipynb\"><img src=\"data:image/png;base64,iVBORw0KGgoAAAANSUhEUgAAACgAAAASBAMAAADbMYGVAAAAMFBMVEX///8QEBAiIiKYmJjc3Nzu\n",
       "7u7MzMx2dnZmZma6urpERESqqqoyMjJUVFSIiIgAAAAoDOMTAAAAAXRSTlMAQObYZgAAAOBJREFU\n",
       "GNNjYGB4+//u3Tt/GNAASGAXmhjnPyDBgSbI/g1IxKEJ8nxgYGdgQRPkX8BgDKRY6q7s62OYvmze\n",
       "2wAgb/7ZO1+AVDiDkYEQQ0HTBr4DQF59AgOIKmB4z7CNbcNZBu6vQN55kEACQwDDLQYGVobfDHwg\n",
       "fb8YGBxYHwAZciD3fWXg+gB1JjvQcJZvQIXsCgz8F6DO9GBgMOH7wPCUgaeBwd4B7EwGNjUG7s9c\n",
       "AiwPgO5jkWRgiF3/9+5dfQUG1nWl5Y+B7pv+1gE9bBhqGLCAE1jEWH9jEbT5A3IwAC4sP/1L6Qlu\n",
       "AAAAAElFTkSuQmCC\n",
       "\" style=\"display:inline;vertical-align:middle;\" /></a></td></tr>\n",
       "<tr><td>8</td><td>ExprTuple</td><td>11, 12</td><td><a class=\"ProveItLink\" href=\"../9d1f01b47ac646477431111d69dd5c0d1d77cfad0/expr.ipynb\"><img src=\"data:image/png;base64,iVBORw0KGgoAAAANSUhEUgAAAD4AAAAaBAMAAAAd0vJXAAAAMFBMVEX///+qqqp2dnYiIiJERESI\n",
       "iIhmZmYQEBDc3NyYmJgyMjLu7u5UVFTMzMy6uroAAACGxKilAAAAAXRSTlMAQObYZgAAAVFJREFU\n",
       "KM9jYGB4x4ALKIAI3gM45e+AiF0bcMqzBgCJkwy4gQUDA0cBw6wv/quqAlBlONKWPGBgiGFgYEtg\n",
       "YHDoYbgi1cAg4gIEUNt6GFg/MjDs38DADlTm0MbAssMBRf9pBgZ7BgbmCQz3GcDyTBdQ5cs3MJx/\n",
       "wMDmwBCOXX79Bob8BwycHxhOQeR50MwHAvsNDHy/GXwg8o9nNaBJ834C4r8My0Dy7cZWAujauYAG\n",
       "cvxjMAPrf8aCEYopQMz9ESrP9hY9FlhBAkD9ayD2r45Ekxdj4Ghg4PjLcAQif4fnAkyGG+y6BAbO\n",
       "Bga+HwzBUP8LeMDk9xsAiWYlpWQGkP/fM4Dix5dhyXqYD7b/AHn+///PDAxMCxj4L2DE6guEHwMY\n",
       "eBQw5CfAWfsbGHgN8MhPAWJHjFSFYNoCcRfu5MUJTDsMjAo45VvA5ESc8tkMBAEApntYqevCi0AA\n",
       "AAAASUVORK5CYII=\n",
       "\" style=\"display:inline;vertical-align:middle;\" /></a></td></tr>\n",
       "<tr><td>9</td><td>Literal</td><td></td><td><a class=\"ProveItLink\" href=\"../../../numeral/__pv_it/9be8badea4c35b9724062cecc501d17a3158d1d20/expr.ipynb\"><img src=\"data:image/png;base64,iVBORw0KGgoAAAANSUhEUgAAAAgAAAAPBAMAAAArJJMAAAAAHlBMVEX///+YmJgyMjIQEBBmZmaI\n",
       "iIhUVFTu7u5EREQAAAAw+MI4AAAAAXRSTlMAQObYZgAAACFJREFUCNdjYGBoZ2BgqJjOwFCWBiQY\n",
       "WEklWJwnOTKAAACjEQo8HvEr3AAAAABJRU5ErkJggg==\n",
       "\" style=\"display:inline;vertical-align:middle;\" /></a></td></tr>\n",
       "<tr><td>10</td><td>Literal</td><td></td><td><a class=\"ProveItLink\" href=\"../../../negation/__pv_it/3fc7a08bb9735faa20ef8e175f6ea95511acc9c70/expr.ipynb\"><img src=\"data:image/png;base64,iVBORw0KGgoAAAANSUhEUgAAAA4AAAACBAMAAACapPCZAAAAElBMVEX///+6uroiIiIyMjLc3NwA\n",
       "AAA6l9OrAAAAAXRSTlMAQObYZgAAABBJREFUCNdjcFYCAUUGKAAADR4BD8/TF5gAAAAASUVORK5C\n",
       "YII=\n",
       "\" style=\"display:inline;vertical-align:middle;\" /></a></td></tr>\n",
       "<tr><td>11</td><td>Literal</td><td></td><td><a class=\"ProveItLink\" href=\"../../../sets/real/__pv_it/ae6abf015b290ff2a5b5ccb58f19177a82c6074b0/expr.ipynb\"><img src=\"data:image/png;base64,iVBORw0KGgoAAAANSUhEUgAAABsAAAAOBAMAAAAs4XpOAAAAMFBMVEX///8iIiK6urp2dnbu7u5m\n",
       "ZmaqqqrMzMxUVFTc3NyIiIgQEBBEREQyMjKYmJgAAAA9nvXMAAAAAXRSTlMAQObYZgAAAF1JREFU\n",
       "CNdjePvn/N29Cxjg4MAMhprcCQw5Z4DAAcidysDjeQAhO5WBuQAflwNVseLbCQjubEHZBCSLpqry\n",
       "OCBzWdUbkLkMV9ahcCs4ClDsTTgJ4wG9cJzhzn2o2QB/7ytaZzHgkAAAAABJRU5ErkJggg==\n",
       "\" style=\"display:inline;vertical-align:middle;\" /></a></td></tr>\n",
       "<tr><td>12</td><td>Literal</td><td></td><td><a class=\"ProveItLink\" href=\"../../../numeral/__pv_it/77d407a64829263cdc16415becd4c2293f77a4bf0/expr.ipynb\"><img src=\"data:image/png;base64,iVBORw0KGgoAAAANSUhEUgAAAAkAAAAOBAMAAAAPuiubAAAAMFBMVEX///+YmJh2dnbMzMwQEBAi\n",
       "IiLu7u6qqqqIiIhUVFS6urpEREQyMjJmZmbc3NwAAACOMKdoAAAAAXRSTlMAQObYZgAAAFBJREFU\n",
       "CNdj4Lt7egEDw0sGju8MDNMYGOIZGFwSGOYvYDifwHAfKAEUSQASzJ9ATJ4NIPI2iOCYACJrGfge\n",
       "MDBfYGB8wPBUSekqUPH//18ZAIliFhc3zESNAAAAAElFTkSuQmCC\n",
       "\" style=\"display:inline;vertical-align:middle;\" /></a></td></tr>\n",
       "</table>\n"
      ],
      "text/plain": [
       "0. (-1 , -2) in (RealsNeg)^{2}\n",
       "   core type: Operation\n",
       "   operator: 1\n",
       "   operands: 2\n",
       "1. in\n",
       "   core type: Literal\n",
       "   sub-expressions: \n",
       "2. ((-1 , -2) , (RealsNeg)^{2})\n",
       "   core type: ExprTuple\n",
       "   sub-expressions: 3, 4\n",
       "3. (-1 , -2)\n",
       "   core type: ExprTuple\n",
       "   sub-expressions: 5, 6\n",
       "4. (RealsNeg)^{2}\n",
       "   core type: Operation\n",
       "   operator: 7\n",
       "   operands: 8\n",
       "5. -1\n",
       "   core type: Operation\n",
       "   operator: 10\n",
       "   operand: 9\n",
       "6. -2\n",
       "   core type: Operation\n",
       "   operator: 10\n",
       "   operand: 12\n",
       "7. Exp\n",
       "   core type: Literal\n",
       "   sub-expressions: \n",
       "8. (RealsNeg , 2)\n",
       "   core type: ExprTuple\n",
       "   sub-expressions: 11, 12\n",
       "9. 1\n",
       "   core type: Literal\n",
       "   sub-expressions: \n",
       "10. -\n",
       "    core type: Literal\n",
       "    sub-expressions: \n",
       "11. RealsNeg\n",
       "    core type: Literal\n",
       "    sub-expressions: \n",
       "12. 2\n",
       "    core type: Literal\n",
       "    sub-expressions: "
      ]
     },
     "execution_count": 4,
     "metadata": {},
     "output_type": "execute_result"
    }
   ],
   "source": [
    "# display the expression information\n",
    "expr.exprInfo()"
   ]
  },
  {
   "cell_type": "code",
   "execution_count": null,
   "metadata": {},
   "outputs": [],
   "source": []
  }
 ],
 "metadata": {
  "kernelspec": {
   "display_name": "Python 3",
   "language": "python",
   "name": "python3"
  }
 },
 "nbformat": 4,
 "nbformat_minor": 0
}
