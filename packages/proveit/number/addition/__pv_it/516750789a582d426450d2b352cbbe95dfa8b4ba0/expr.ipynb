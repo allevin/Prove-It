{
 "cells": [
  {
   "cell_type": "markdown",
   "metadata": {},
   "source": [
    "Expression of type <a class=\"ProveItLink\" href=\"../../../../../../doc/html/api/proveit.number.Add.html\">Add</a>\n",
    "=======================\n",
    "# from context <a class=\"ProveItLink\" href=\"../../_context_.ipynb\">proveit.number.addition</a>"
   ]
  },
  {
   "cell_type": "code",
   "execution_count": 1,
   "metadata": {},
   "outputs": [],
   "source": [
    "# import Expression classes needed to build the expression\n",
    "from proveit import Variable\n",
    "from proveit._common_ import b\n",
    "from proveit.number import Add, Mult, three, two"
   ]
  },
  {
   "cell_type": "code",
   "execution_count": 2,
   "metadata": {},
   "outputs": [
    {
     "data": {
      "text/html": [
       "<strong id=\"expr\">expr:</strong> <a class=\"ProveItLink\" href=\"expr.ipynb\"><img src=\"data:image/png;base64,iVBORw0KGgoAAAANSUhEUgAAAPIAAAAVBAMAAACOB66tAAAAMFBMVEX///+6uroyMjLMzMwQEBAi\n",
       "IiKYmJhmZmZUVFSIiIh2dnbc3Nzu7u5ERESqqqoAAABZrPngAAAAAXRSTlMAQObYZgAAAlBJREFU\n",
       "SMfN1jFo1FAYB/B/20uTa+6SIjg4XQhYbqhym8WlVXBQRG5wcroOLrocHRRdvEEEEeGgIhaEHoKU\n",
       "Hg63KbhkcNKhuggOyoGDdBDuELp4eublPZO873tXSyc/+Cck98v7SPKSHPAf11RbhtaqUZrU6iE7\n",
       "L8mc7n5Jd5Xu1gG7ZpAv1z5wxWRe7VOLSdwmKtkpTbfiRcCl28JmnysidcWq1JPrYjvJ3G/49fRH\n",
       "Xxx4TW28QyqdCNaAKyJ1xcpTZ1iIknha50q8E2/Uxi5SWbgIZ8gVkbqa2PmICvJX+7lYlPt651hN\n",
       "j2APuSJSU+72g91bxs63VYBq9mN14x4w19Q7S2WNuKIyr97iauOcsfOCysyzVjYHfsGvwQv08RaS\n",
       "5XKHKyrzqoNNfDV2PqMCPJoXw4l7541Q6GBqRR9PqhPgikqlkorwcMJ9HqrEE0NcoR0xzewAfhMz\n",
       "A328RNnvwRWVSqk6n29rh+Hxs2HYyjq7NZT3xDQVx1jxw92Q462F4eUwrKadnyTHE0WlUmqK/UDJ\n",
       "eM6XZHZGsvPfB/VOxK6hkF4Tr7miMq+uFwd4auz8UcYPYP1Mx6zhAjBL5o2Qp+KhuKIyp7y98orb\n",
       "Nnbekik2UEnno9O3W/xZiZV7pbtV54pIqb5/jisqfXrRfQy1oXc+qvLt5snsqbp/Q7wQ5vXOsbLG\n",
       "43GdKyI1tc/bsyfDi709Jyoq//1ZFjXbkeG1rdbHkEmzovKAtajCPmaBSZoUlwerVyq0nJ5JmpTT\n",
       "O1xnMeddw/+cdaM0qXXTsH8A0QrT7CK1NT0AAAAASUVORK5CYII=\n",
       "\" style=\"display:inline;vertical-align:middle;\" /></a><br>"
      ],
      "text/plain": [
       "expr: _x_ + ((3 * b) + (2 * b)) + 2"
      ]
     },
     "execution_count": 2,
     "metadata": {},
     "output_type": "execute_result"
    }
   ],
   "source": [
    "# build up the expression from sub-expressions\n",
    "expr = Add(Variable(\"_x_\", latexFormat = r\"{_{-}x_{-}}\"), Add(Mult(three, b), Mult(two, b)), two)"
   ]
  },
  {
   "cell_type": "code",
   "execution_count": 3,
   "metadata": {},
   "outputs": [
    {
     "name": "stdout",
     "output_type": "stream",
     "text": [
      "Passed sanity check: built 'expr' is the same as the stored Expression.\n"
     ]
    }
   ],
   "source": [
    "# check that the built expression is the same as the stored expression\n",
    "%check_expr"
   ]
  },
  {
   "cell_type": "code",
   "execution_count": 4,
   "metadata": {},
   "outputs": [
    {
     "data": {
      "text/html": [
       "<table><tr><th>&nbsp;</th><th>core type</th><th>sub-expressions</th><th>expression</th></tr>\n",
       "<tr><td>0</td><td>Operation</td><td>operator:&nbsp;4<br>operands:&nbsp;1<br></td><td><a class=\"ProveItLink\" href=\"expr.ipynb\"><img src=\"data:image/png;base64,iVBORw0KGgoAAAANSUhEUgAAAPIAAAAVBAMAAACOB66tAAAAMFBMVEX///+6uroyMjLMzMwQEBAi\n",
       "IiKYmJhmZmZUVFSIiIh2dnbc3Nzu7u5ERESqqqoAAABZrPngAAAAAXRSTlMAQObYZgAAAlBJREFU\n",
       "SMfN1jFo1FAYB/B/20uTa+6SIjg4XQhYbqhym8WlVXBQRG5wcroOLrocHRRdvEEEEeGgIhaEHoKU\n",
       "Hg63KbhkcNKhuggOyoGDdBDuELp4eublPZO873tXSyc/+Cck98v7SPKSHPAf11RbhtaqUZrU6iE7\n",
       "L8mc7n5Jd5Xu1gG7ZpAv1z5wxWRe7VOLSdwmKtkpTbfiRcCl28JmnysidcWq1JPrYjvJ3G/49fRH\n",
       "Xxx4TW28QyqdCNaAKyJ1xcpTZ1iIknha50q8E2/Uxi5SWbgIZ8gVkbqa2PmICvJX+7lYlPt651hN\n",
       "j2APuSJSU+72g91bxs63VYBq9mN14x4w19Q7S2WNuKIyr97iauOcsfOCysyzVjYHfsGvwQv08RaS\n",
       "5XKHKyrzqoNNfDV2PqMCPJoXw4l7541Q6GBqRR9PqhPgikqlkorwcMJ9HqrEE0NcoR0xzewAfhMz\n",
       "A328RNnvwRWVSqk6n29rh+Hxs2HYyjq7NZT3xDQVx1jxw92Q462F4eUwrKadnyTHE0WlUmqK/UDJ\n",
       "eM6XZHZGsvPfB/VOxK6hkF4Tr7miMq+uFwd4auz8UcYPYP1Mx6zhAjBL5o2Qp+KhuKIyp7y98orb\n",
       "Nnbekik2UEnno9O3W/xZiZV7pbtV54pIqb5/jisqfXrRfQy1oXc+qvLt5snsqbp/Q7wQ5vXOsbLG\n",
       "43GdKyI1tc/bsyfDi709Jyoq//1ZFjXbkeG1rdbHkEmzovKAtajCPmaBSZoUlwerVyq0nJ5JmpTT\n",
       "O1xnMeddw/+cdaM0qXXTsH8A0QrT7CK1NT0AAAAASUVORK5CYII=\n",
       "\" style=\"display:inline;vertical-align:middle;\" /></a></td></tr>\n",
       "<tr><td>1</td><td>ExprTuple</td><td>2, 3, 12</td><td><a class=\"ProveItLink\" href=\"../53bc78349e55584b8109206571353cb41ac6683f0/expr.ipynb\"><img src=\"data:image/png;base64,iVBORw0KGgoAAAANSUhEUgAAANMAAAAVBAMAAAAumMZDAAAAMFBMVEX////c3NwiIiJERESqqqqY\n",
       "mJh2dnZmZmYQEBDu7u4yMjJUVFTMzMyIiIi6uroAAAAs73DqAAAAAXRSTlMAQObYZgAAAo9JREFU\n",
       "SMe9VUFoE0EUfWuyye6aTYJXEbzpLQXrUSh4KIjF6KEHD9JTRKEQFFqoirFK0YPtepGohwTUQ1PQ\n",
       "FL14EHPy4sFcREXF6EkEaS2NEgjWPzuT3czO7hYvDmR2/3+PeZM3f/YD/3Fk2/8G6h0l9QPbsk6x\n",
       "6VXcPgh8WRr1wnvzNF0MkjJNaLP3O1EsF0u36G05TmoZWhlr/l9boZ8VJFkOdsPeRASLY3XAjvOP\n",
       "wNQmcnu9BFtPnxLBLfH8BDwDCghnCWwSMJwYKQKTw1LZHk1mRUQT4nkDuO7gRSecJbAq8D3OPw76\n",
       "BqZc0VFZKkvePHZwuRPOElhiDDP+wtr06sQlSWrGs16cyvMPReC0LJXmVhWccJbAUmU89BO3caI4\n",
       "L0kxMHO26cW1EfSBI7KUVXTL8FcES2DJOhb9zBQ+46gkxcF3zBqTbfqYgwXgmyxluM5ZI2y+A4Ul\n",
       "sGwFf/yMgyeBs+KgwY65xg5gDvgNvJalcq7UeTaZG1BYAsusD0sBN1UprYVEl16rbNf7kO2KReYa\n",
       "jf2NxspAynZdNq9CZvEr0+RS14ZW1vowJSkCaz0uJS5MuqcaOEbTOLR8OEtgZOBBf+Hj9jre+27S\n",
       "IDBXx46fg2QfBpXbSVkqQWWRKUPPqyx34xzT60M1mewmKtrgCnHXCbSLWPMu/lNcgFLsVMbYVSqd\n",
       "g8pyD5hjxPpKweEDNBzz0JnSGy9YYptk4PjsA/9D+pYV9qPAFab1CltbGyGsKvODY1YHRj6ifbB8\n",
       "KKh8mK4gkvXFi6vDn8VAwwEiwFQ70KYmEckqevF0dBPRRRNRx92QJhLF8qTMuttOQkdb9Bp1rAYT\n",
       "WjOKZXvhTnYUWlzDCgHtlpLag21ZH4G/I6nJfdo7wg4AAAAASUVORK5CYII=\n",
       "\" style=\"display:inline;vertical-align:middle;\" /></a></td></tr>\n",
       "<tr><td>2</td><td>Variable</td><td></td><td><a class=\"ProveItLink\" href=\"../5144cf74ae6a683b49b974f1b9302b432abf7e930/expr.ipynb\"><img src=\"data:image/png;base64,iVBORw0KGgoAAAANSUhEUgAAACUAAAAJBAMAAABH3vh9AAAAKlBMVEX////MzMwQEBAiIiKYmJhm\n",
       "ZmZUVFSIiIh2dnbc3Nzu7u5ERESqqqoAAABwkVEpAAAAAXRSTlMAQObYZgAAAEtJREFUCNdjYIAA\n",
       "zvbM4+EMqGAFg7ODMppYA0Mtw0E0sQUM2QyYQB1TiPMiAxeakCf7BYYqVCGeK9wKnAUw3undQLCA\n",
       "a3tXRwmMAwC3+RVNp6j0GAAAAABJRU5ErkJggg==\n",
       "\" style=\"display:inline;vertical-align:middle;\" /></a></td></tr>\n",
       "<tr><td>3</td><td>Operation</td><td>operator:&nbsp;4<br>operands:&nbsp;5<br></td><td><a class=\"ProveItLink\" href=\"../1da29a7342833f6d87b131da0ce3f69c297f03e30/expr.ipynb\"><img src=\"data:image/png;base64,iVBORw0KGgoAAAANSUhEUgAAAHoAAAAVBAMAAAB71edYAAAAMFBMVEX////c3NwiIiJERESqqqqY\n",
       "mJh2dnZmZmYQEBDu7u4yMjJUVFTMzMyIiIi6uroAAAAs73DqAAAAAXRSTlMAQObYZgAAAblJREFU\n",
       "OMullD9Iw0AUxr9Y2yahSYtrEdx0a4e6uwmC2MnByamCU1GwUAX/IrpI3PwztKAOTUEruDiInVwc\n",
       "7KYgQnASQYqlVQrFepemaXIXJwN54b78vst77+4C/O9SK5zkNzjpA97UPXCXStja8QYJKywZKkHI\n",
       "nBg8VYCQRrWXQJHcMuuWNUSh1MFSSgWBOsJDtk4R/6w12LeeL8A1EANLiRr6nW61SYK0Zo0mrecu\n",
       "sKPh1mCpd3PUyzxgzpNwu9U8cKFh1WCpJbsMq8Kb5yQw53YHO5XENJY6ox2dL9nuXBwtYMLtlpNm\n",
       "4784as8cPdGcJDr1lIZt4M3tFs2U5TiNh3BQP53XtAs5WkwW+AYe3O6w6V6kQarBQRG3UIavQaQD\n",
       "Ovcw1Iblzur6iK4Xu27FLE/ahIPaIt9sdtzWQgabfOZjJIxDiLDUKJk5j77Prt6CSBo843b7SNdC\n",
       "afgjLEXWRkmi2t1cuMIyuBULpIGBVGoBLPVKc8qc9vb/I12dc2a3kH7G2u0aR4kRj1PL7dR1eFP2\n",
       "gXBegQpzrKfxB1Xw0I88Tqg3FfXQL1lBKP1BCfyfSSlz0iC8qF8llIbEd2mJRAAAAABJRU5ErkJg\n",
       "gg==\n",
       "\" style=\"display:inline;vertical-align:middle;\" /></a></td></tr>\n",
       "<tr><td>4</td><td>Literal</td><td></td><td><a class=\"ProveItLink\" href=\"../3e6688136fa3c7aefbebe51301b7c3ebf0b69c440/expr.ipynb\"><img src=\"data:image/png;base64,iVBORw0KGgoAAAANSUhEUgAAAA4AAAAOBAMAAADtZjDiAAAAJFBMVEX///+6urpUVFQQEBAiIiIy\n",
       "MjJmZmaIiIiqqqrc3Nzu7u4AAACgHpL+AAAAAXRSTlMAQObYZgAAAB5JREFUCNdjYGBgWMkAAe2k\n",
       "0Kmhoc6hoUGk6BMHYgAHOwjcado9fwAAAABJRU5ErkJggg==\n",
       "\" style=\"display:inline;vertical-align:middle;\" /></a></td></tr>\n",
       "<tr><td>5</td><td>ExprTuple</td><td>6, 7</td><td><a class=\"ProveItLink\" href=\"../a2e44bf6f9e1f9044863dcfcb408451f9a9abf330/expr.ipynb\"><img src=\"data:image/png;base64,iVBORw0KGgoAAAANSUhEUgAAAFoAAAAVBAMAAAA0iOSIAAAAMFBMVEX////c3NwiIiJERESqqqqY\n",
       "mJh2dnZmZmYQEBDu7u4yMjJUVFTMzMyIiIi6uroAAAAs73DqAAAAAXRSTlMAQObYZgAAAXNJREFU\n",
       "KM+Vk79Lw0AUx79RExNp0uLq4ubYDvVvEFzM7JQpglNRsKCCoiJOmtEfQwV1EMEf4OIgdnJxaDcF\n",
       "l+BUXIqlVQrFei+9S3qaIR7k8u6Tb969e/ce8L9hVRMKVZ9NT8Cjmw/Z0QY3lOKJL9NV9pxDKaAe\n",
       "bXDB32Mwm5DoCGBWoTWRHg+5kNwBWUhUdaB7GOpXW21u7Hh48CVqrOM9WEWRaOK/Kw9rvkzzWJKC\n",
       "ZcHdv9rCznoyncMZs1Pz16G6lEOHm6nPX3Qau8HqhfY0yNWMh23hMEfzAUJaw3fwQadTlCi4ZeCL\n",
       "qxdpMhoIaYXUShmDLYb2ydcErFZPbAbhGZsIaQVbzGe7p+aJHeY5nIKSkWkNk0D6GAMfgnegO6AD\n",
       "pApQMxLFLMsKTBt1R/BbrPRiHXXdBfRTyuAb7Vk8jern2Yaxx5xmu92GRIFL6Jm4Ko6DdPOqE1fK\n",
       "sQWuValik6oPgzr+O+Lb6YZ6JGmnmWX8AI3yaj+7OnUsAAAAAElFTkSuQmCC\n",
       "\" style=\"display:inline;vertical-align:middle;\" /></a></td></tr>\n",
       "<tr><td>6</td><td>Operation</td><td>operator:&nbsp;9<br>operands:&nbsp;8<br></td><td><a class=\"ProveItLink\" href=\"../1e631544db83ce4853cc0a486ec7448a56387f780/expr.ipynb\"><img src=\"data:image/png;base64,iVBORw0KGgoAAAANSUhEUgAAACIAAAAOBAMAAAC4B9O8AAAAMFBMVEX///+YmJju7u4QEBBUVFQy\n",
       "MjIiIiKIiIi6urpmZmbc3NyqqqpERER2dnbMzMwAAAB0GlNiAAAAAXRSTlMAQObYZgAAAJhJREFU\n",
       "CNdjYHh79zQDDKiYAQmuCQz9BXChECDm/c3AnwAX+Q3E3MgiHJ8gNEIXbwJCMwSwupcIMDDwXXWA\n",
       "i+gfYPgHoosbgASTApDYr8BgCxJhBpmnDzJiKgPDTwauBww8H4Ec5QNAIpOB4yOD/ieICNQ5nJ8Y\n",
       "+AMY2H7BRP4xMF9gYBdg6L8AE/FmmAIkd86MRvi0UoABAPL2JMAQl6zyAAAAAElFTkSuQmCC\n",
       "\" style=\"display:inline;vertical-align:middle;\" /></a></td></tr>\n",
       "<tr><td>7</td><td>Operation</td><td>operator:&nbsp;9<br>operands:&nbsp;10<br></td><td><a class=\"ProveItLink\" href=\"../4fa23b01b5b767887c70271cab015f5b5c98d38c0/expr.ipynb\"><img src=\"data:image/png;base64,iVBORw0KGgoAAAANSUhEUgAAACEAAAAOBAMAAABTMGi/AAAAMFBMVEX///+YmJh2dnbMzMwQEBAi\n",
       "IiLu7u6qqqqIiIhUVFS6urpEREQyMjJmZmbc3NwAAACOMKdoAAAAAXRSTlMAQObYZgAAAKBJREFU\n",
       "CNdj4Lt7egEDFLBNCQCSLxk4vsNEGHgmAIlpDAzxcBH+AiDhksAwH65tfQKQOJ/AcB8uogql4xNg\n",
       "Iic7JoIo5k9wu34z8BuALNgA4qUBMfs3BhYFIH0bLP0VSPAeYOC/wMDAMQEs4g0kWC8wrBdgYKhl\n",
       "4HuAcM79BAbmCwyMcBEDBicGhqdKSldhdnEW8AKNiP///yvc9hkXGRgAQ2knSfB0jgcAAAAASUVO\n",
       "RK5CYII=\n",
       "\" style=\"display:inline;vertical-align:middle;\" /></a></td></tr>\n",
       "<tr><td>8</td><td>ExprTuple</td><td>11, 13</td><td><a class=\"ProveItLink\" href=\"../ed5a6ec4c875d8d4dac8f1f17e42c24dc92561870/expr.ipynb\"><img src=\"data:image/png;base64,iVBORw0KGgoAAAANSUhEUgAAACkAAAAVBAMAAAAp9toTAAAAMFBMVEX////c3NwiIiJERESqqqqY\n",
       "mJh2dnZmZmYQEBDu7u4yMjJUVFTMzMyIiIi6uroAAAAs73DqAAAAAXRSTlMAQObYZgAAARBJREFU\n",
       "GNNtka9Pw0AcxT/d2rVlY53H7I8AX4edQpIGAQnJkhpAgiBIqMRRAYLM1JBgSKowmEkEJAtypvya\n",
       "qCF873odScOJd++95L737h38v/rThrGt4Aked9crw78fgpsLu8WKKcyBlUwghdUpnW+CYeUGocAW\n",
       "eAn2n1skApcwr5SZsKOgHXKo1cTcP3m9g07MjfDefmYyfBHk2CnnWj7P9GaXeBH9E3609Eq9uSlB\n",
       "TO9duVZOe6HdliQfKfcUrsralbjHiZqwITyl9YFKKledgZOyJ88bUUT+p7jd0M10sjcRm0fX+BcD\n",
       "SfZwoMqY4Q3qRmuiXuxEhjvLgse6yYbrS5OsGbH8kq4aZTV/6AV+AUvGQYW/r0RJAAAAAElFTkSu\n",
       "QmCC\n",
       "\" style=\"display:inline;vertical-align:middle;\" /></a></td></tr>\n",
       "<tr><td>9</td><td>Literal</td><td></td><td><a class=\"ProveItLink\" href=\"../../../multiplication/__pv_it/21fd2079611555ecce512d99547a00d551e6b86b0/expr.ipynb\"><img src=\"data:image/png;base64,iVBORw0KGgoAAAANSUhEUgAAAAMAAAADBAMAAACkBqiMAAAAElBMVEX///9EREQQEBAiIiLu7u4A\n",
       "AABGBidwAAAAAXRSTlMAQObYZgAAABFJREFUCNdjYHFgcDVgcBIAAASWAQx4jI0xAAAAAElFTkSu\n",
       "QmCC\n",
       "\" style=\"display:inline;vertical-align:middle;\" /></a></td></tr>\n",
       "<tr><td>10</td><td>ExprTuple</td><td>12, 13</td><td><a class=\"ProveItLink\" href=\"../3a7fed3333ef42636d071b31cc212d3a8cbf468e0/expr.ipynb\"><img src=\"data:image/png;base64,iVBORw0KGgoAAAANSUhEUgAAACkAAAAVBAMAAAAp9toTAAAAMFBMVEX////c3NwiIiJERESqqqqY\n",
       "mJh2dnZmZmYQEBDu7u4yMjJUVFTMzMyIiIi6uroAAAAs73DqAAAAAXRSTlMAQObYZgAAARNJREFU\n",
       "GNNtkaFPw0AUxn8tK20prEMhMFVoDJb0TwCDJA2CKZIaEBgQhAQDlcgmBEEwNSQYkjkEgnlGIEjM\n",
       "FqZqKO/u2omGipf3/a737rvv4P+vO2yBXVVeYOV40wD/MQJ3IN0dVsFHbPBCISWHpSFBhj0xNFSr\n",
       "O+BleBcEv4aOMynX8C3bStya7qkyF3OklV0aev/+APMpt1q9JsbDlHBAJ+dSyxvza6fES+ieoge6\n",
       "64a6OWHK4sTQt/padsp4S9EztTFlubF7kqkJGyKeYRvlVI46ByenD9bafj/yf4QGsVtoZ18yraqq\n",
       "yL/qibOnQxXGJ16vSbRp1I2dpO6dWcAHOskW9SVJVmsxe5JAjbLaLzSCP9bMPeBRRV1aAAAAAElF\n",
       "TkSuQmCC\n",
       "\" style=\"display:inline;vertical-align:middle;\" /></a></td></tr>\n",
       "<tr><td>11</td><td>Literal</td><td></td><td><a class=\"ProveItLink\" href=\"../../../numeral/__pv_it/9176d93c83afa2c995b614976e3cb49207102fa70/expr.ipynb\"><img src=\"data:image/png;base64,iVBORw0KGgoAAAANSUhEUgAAAAoAAAAOBAMAAADkjZCYAAAAMFBMVEX///+YmJju7u4QEBBUVFQy\n",
       "MjIiIiKIiIi6urpmZmbc3NyqqqpERER2dnbMzMwAAAB0GlNiAAAAAXRSTlMAQObYZgAAAE1JREFU\n",
       "CNdjYHh79zQDA9cEhv4CBt7fDPwJDNxgEgiAIkAQAsR8Vx1ATIbiBhDJ/ImB6wEDz0cG/U8gkj+A\n",
       "ge0XA7sAQ/8FBoadM6MZAEflFACalZ/OAAAAAElFTkSuQmCC\n",
       "\" style=\"display:inline;vertical-align:middle;\" /></a></td></tr>\n",
       "<tr><td>12</td><td>Literal</td><td></td><td><a class=\"ProveItLink\" href=\"../../../numeral/__pv_it/77d407a64829263cdc16415becd4c2293f77a4bf0/expr.ipynb\"><img src=\"data:image/png;base64,iVBORw0KGgoAAAANSUhEUgAAAAkAAAAOBAMAAAAPuiubAAAAMFBMVEX///+YmJh2dnbMzMwQEBAi\n",
       "IiLu7u6qqqqIiIhUVFS6urpEREQyMjJmZmbc3NwAAACOMKdoAAAAAXRSTlMAQObYZgAAAFBJREFU\n",
       "CNdj4Lt7egEDw0sGju8MDNMYGOIZGFwSGOYvYDifwHAfKAEUSQASzJ9ATJ4NIPI2iOCYACJrGfge\n",
       "MDBfYGB8wPBUSekqUPH//18ZAIliFhc3zESNAAAAAElFTkSuQmCC\n",
       "\" style=\"display:inline;vertical-align:middle;\" /></a></td></tr>\n",
       "<tr><td>13</td><td>Variable</td><td></td><td><a class=\"ProveItLink\" href=\"../../../../__pv_it/6840a4fa6c106149dc16a131294d0c5e44f1b0480/expr.ipynb\"><img src=\"data:image/png;base64,iVBORw0KGgoAAAANSUhEUgAAAAkAAAAOBAMAAAAPuiubAAAALVBMVEX///9mZmbMzMxERESYmJiI\n",
       "iIh2dna6urqqqqoyMjIiIiIQEBBUVFTu7u4AAAD9S1JeAAAAAXRSTlMAQObYZgAAAE1JREFUCNdj\n",
       "4D29gAEIOA+ASL4GEFl3AURmgQiGOaFHGBh4HzPwKTBwvGXgTmBgnMDAJ8DAJcBQ5wBSLncBJLWN\n",
       "gYGngRFoBO9REQYGAGrcDtUkVqASAAAAAElFTkSuQmCC\n",
       "\" style=\"display:inline;vertical-align:middle;\" /></a></td></tr>\n",
       "</table>\n"
      ],
      "text/plain": [
       "0. _x_ + ((3 * b) + (2 * b)) + 2\n",
       "   core type: Operation\n",
       "   operator: 4\n",
       "   operands: 1\n",
       "1. (_x_ , (3 * b) + (2 * b) , 2)\n",
       "   core type: ExprTuple\n",
       "   sub-expressions: 2, 3, 12\n",
       "2. _x_\n",
       "   core type: Variable\n",
       "   sub-expressions: \n",
       "3. (3 * b) + (2 * b)\n",
       "   core type: Operation\n",
       "   operator: 4\n",
       "   operands: 5\n",
       "4. +\n",
       "   core type: Literal\n",
       "   sub-expressions: \n",
       "5. (3 * b , 2 * b)\n",
       "   core type: ExprTuple\n",
       "   sub-expressions: 6, 7\n",
       "6. 3 * b\n",
       "   core type: Operation\n",
       "   operator: 9\n",
       "   operands: 8\n",
       "7. 2 * b\n",
       "   core type: Operation\n",
       "   operator: 9\n",
       "   operands: 10\n",
       "8. (3 , b)\n",
       "   core type: ExprTuple\n",
       "   sub-expressions: 11, 13\n",
       "9. *\n",
       "   core type: Literal\n",
       "   sub-expressions: \n",
       "10. (2 , b)\n",
       "    core type: ExprTuple\n",
       "    sub-expressions: 12, 13\n",
       "11. 3\n",
       "    core type: Literal\n",
       "    sub-expressions: \n",
       "12. 2\n",
       "    core type: Literal\n",
       "    sub-expressions: \n",
       "13. b\n",
       "    core type: Variable\n",
       "    sub-expressions: "
      ]
     },
     "execution_count": 4,
     "metadata": {},
     "output_type": "execute_result"
    }
   ],
   "source": [
    "# display the expression information\n",
    "expr.exprInfo()"
   ]
  },
  {
   "cell_type": "code",
   "execution_count": null,
   "metadata": {},
   "outputs": [],
   "source": []
  }
 ],
 "metadata": {
  "kernelspec": {
   "display_name": "Python 3",
   "language": "python",
   "name": "python3"
  }
 },
 "nbformat": 4,
 "nbformat_minor": 0
}
