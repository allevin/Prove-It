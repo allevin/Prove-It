{
 "cells": [
  {
   "cell_type": "markdown",
   "metadata": {},
   "source": [
    "Expression of type <a class=\"ProveItLink\" href=\"../../../../../../doc/html/api/proveit.logic.Set.html\">Set</a>\n",
    "=======================\n",
    "# from context <a class=\"ProveItLink\" href=\"../../_context_.ipynb\">proveit.number.addition</a>"
   ]
  },
  {
   "cell_type": "code",
   "execution_count": 1,
   "metadata": {},
   "outputs": [],
   "source": [
    "# import Expression classes needed to build the expression\n",
    "from proveit.logic import InSet, Set\n",
    "from proveit.number import Neg, RealsNeg, one, two"
   ]
  },
  {
   "cell_type": "code",
   "execution_count": 2,
   "metadata": {},
   "outputs": [
    {
     "data": {
      "text/html": [
       "<strong id=\"expr\">expr:</strong> <a class=\"ProveItLink\" href=\"expr.ipynb\"><img src=\"data:image/png;base64,iVBORw0KGgoAAAANSUhEUgAAAN8AAAAaBAMAAADF8pQYAAAAMFBMVEX///+6urp2dnaqqqoiIiIQ\n",
       "EBBERETu7u6IiIjc3NwyMjJUVFSYmJhmZmbMzMwAAAD0pS5FAAAAAXRSTlMAQObYZgAAAnJJREFU\n",
       "SMfFlj1oE1EcwP/m4y7Xy4UM7aCgFPdAJod2MNoDpV0UBUEQTwRFKfaGKurSzCo0gwq2FCKEFm2L\n",
       "WY0FMwhiFj9G0XKTg0FqF0On+O7dvXsfdy8fHa7/4eXlf/fL7+X/Pu4AIPcD4onkV++zUYlJCM8t\n",
       "t810ILa44jZ61W0Plbkr2fwg/NDQbSpsM2nFBtgWbm39m3t9uSwkGWjl+7UBoAYVrtGsOoeEI+Lg\n",
       "rGX4NVGBEzdQ2H6OQlodFov9ISrM0HGo796ja9lxkV0B5YHFpRhItyH1tz9EhWmbuW0RfVHPef37\n",
       "NXOasAmHFzJQ+hLouwGkPjLNahREhUdAEMJ13M1t2HSwopCBRjpg7BIIfn+UQFiouIlvIWHB2zk2\n",
       "Ux1dKCkHQapDIO2mDMLCtDsTGyHhBO7eYqdjtMUfERwEO+MEUioy6DP6ZW3d7Z0PCcfwZNDRWc/M\n",
       "6SK/JDgIVgkE96SQ8Qrgg+P2UP21mulG3hfu4J19EWXIojmq2LyQgwyLQDDmpqqR0NMyJM/6rPAP\n",
       "MZurMyU1jtVDQhqPIRC2pVB2CjULTdRckJS0xM7h2hNeyELJL/CClHReCp2skFU6GxK2cHeLZdu6\n",
       "E5wOIEB/AD4RSG9GQ+w+LEi2xXyeYRPFYNEulHhIO328UCIZ9VQ0xApHGd/Pq5toiC+9H9p0gnP4\n",
       "Dqy+IUvu7h4PpbrdbolAsLQdCXFHm/gQJqdUsuGvUiEO94JgsuatUjGoMHTsJsq9n2zN/UCSxxOO\n",
       "h9BfODTECpeFS297kxnYB+QLE7jwGl+NjDPIK8bQ0Aye6fXY3qGMM955sxXXe+ksHED8B8Kv0qwN\n",
       "3sycAAAAAElFTkSuQmCC\n",
       "\" style=\"display:inline;vertical-align:middle;\" /></a><br>"
      ],
      "text/plain": [
       "expr: {(-1) in RealsNeg , (-2) in RealsNeg}"
      ]
     },
     "execution_count": 2,
     "metadata": {},
     "output_type": "execute_result"
    }
   ],
   "source": [
    "# build up the expression from sub-expressions\n",
    "expr = Set(InSet(Neg(one), RealsNeg), InSet(Neg(two), RealsNeg))"
   ]
  },
  {
   "cell_type": "code",
   "execution_count": 3,
   "metadata": {},
   "outputs": [
    {
     "name": "stdout",
     "output_type": "stream",
     "text": [
      "Passed sanity check: built 'expr' is the same as the stored Expression.\n"
     ]
    }
   ],
   "source": [
    "# check that the built expression is the same as the stored expression\n",
    "%check_expr"
   ]
  },
  {
   "cell_type": "code",
   "execution_count": 4,
   "metadata": {},
   "outputs": [
    {
     "data": {
      "text/html": [
       "<table><tr><th>&nbsp;</th><th>core type</th><th>sub-expressions</th><th>expression</th></tr>\n",
       "<tr><td>0</td><td>Operation</td><td>operator:&nbsp;1<br>operands:&nbsp;2<br></td><td><a class=\"ProveItLink\" href=\"expr.ipynb\"><img src=\"data:image/png;base64,iVBORw0KGgoAAAANSUhEUgAAAN8AAAAaBAMAAADF8pQYAAAAMFBMVEX///+6urp2dnaqqqoiIiIQ\n",
       "EBBERETu7u6IiIjc3NwyMjJUVFSYmJhmZmbMzMwAAAD0pS5FAAAAAXRSTlMAQObYZgAAAnJJREFU\n",
       "SMfFlj1oE1EcwP/m4y7Xy4UM7aCgFPdAJod2MNoDpV0UBUEQTwRFKfaGKurSzCo0gwq2FCKEFm2L\n",
       "WY0FMwhiFj9G0XKTg0FqF0On+O7dvXsfdy8fHa7/4eXlf/fL7+X/Pu4AIPcD4onkV++zUYlJCM8t\n",
       "t810ILa44jZ61W0Plbkr2fwg/NDQbSpsM2nFBtgWbm39m3t9uSwkGWjl+7UBoAYVrtGsOoeEI+Lg\n",
       "rGX4NVGBEzdQ2H6OQlodFov9ISrM0HGo796ja9lxkV0B5YHFpRhItyH1tz9EhWmbuW0RfVHPef37\n",
       "NXOasAmHFzJQ+hLouwGkPjLNahREhUdAEMJ13M1t2HSwopCBRjpg7BIIfn+UQFiouIlvIWHB2zk2\n",
       "Ux1dKCkHQapDIO2mDMLCtDsTGyHhBO7eYqdjtMUfERwEO+MEUioy6DP6ZW3d7Z0PCcfwZNDRWc/M\n",
       "6SK/JDgIVgkE96SQ8Qrgg+P2UP21mulG3hfu4J19EWXIojmq2LyQgwyLQDDmpqqR0NMyJM/6rPAP\n",
       "MZurMyU1jtVDQhqPIRC2pVB2CjULTdRckJS0xM7h2hNeyELJL/CClHReCp2skFU6GxK2cHeLZdu6\n",
       "E5wOIEB/AD4RSG9GQ+w+LEi2xXyeYRPFYNEulHhIO328UCIZ9VQ0xApHGd/Pq5toiC+9H9p0gnP4\n",
       "Dqy+IUvu7h4PpbrdbolAsLQdCXFHm/gQJqdUsuGvUiEO94JgsuatUjGoMHTsJsq9n2zN/UCSxxOO\n",
       "h9BfODTECpeFS297kxnYB+QLE7jwGl+NjDPIK8bQ0Aye6fXY3qGMM955sxXXe+ksHED8B8Kv0qwN\n",
       "3sycAAAAAElFTkSuQmCC\n",
       "\" style=\"display:inline;vertical-align:middle;\" /></a></td></tr>\n",
       "<tr><td>1</td><td>Literal</td><td></td><td><a class=\"ProveItLink\" href=\"../../../../logic/set_theory/enumeration/__pv_it/07381ed5b23806e8d7914b78cb6667769e3708dd0/expr.ipynb\"><img src=\"data:image/png;base64,iVBORw0KGgoAAAANSUhEUgAAAB4AAAAOBAMAAADKyLEKAAAAMFBMVEX///8iIiIQEBCIiIjMzMzc\n",
       "3Nyqqqp2dnZEREQyMjK6urru7u5mZmZUVFSYmJgAAACI6eGPAAAAAXRSTlMAQObYZgAAALRJREFU\n",
       "CNdjYGDgu3Nm3wIGBJjHwN0PZW5yYGDgLWBgyITy8zcwMMQDxZyh/INAvD6BgcEFypcB4vjPDiBm\n",
       "TPFRrhs/LjMwMP//38rAwCbKEMPA9gEkE3fp0waG+AUMRxh4JkC01T9guPTOOICBEWgVH5C//wHD\n",
       "H5D4fqCz9oCMDGD4DLaegRXslLMMDMpAgxlOMmQxHDRgYG5gYLBk4D7KcIe7gOHC2rt9QCXsh40Z\n",
       "GCKMGQDRkC8N/Ph1XAAAAABJRU5ErkJggg==\n",
       "\" style=\"display:inline;vertical-align:middle;\" /></a></td></tr>\n",
       "<tr><td>2</td><td>ExprTuple</td><td>3, 4</td><td><a class=\"ProveItLink\" href=\"../ade601b02acc5fc94ae19178dc0b5d3b0c2762c10/expr.ipynb\"><img src=\"data:image/png;base64,iVBORw0KGgoAAAANSUhEUgAAANgAAAAaBAMAAAAnLo9hAAAAMFBMVEX///+qqqp2dnYiIiJERESI\n",
       "iIhmZmYQEBDc3NyYmJgyMjLu7u5UVFTMzMy6uroAAACGxKilAAAAAXRSTlMAQObYZgAAAopJREFU\n",
       "SMe9lk1oE0EUx//5aLLJbmIOnoqH4KHnYECkoKzgQfGjAQ+iCC0ePCiFijcFzaGkIj1U8CDxEkgJ\n",
       "1IoGqii9JAcPtgjmIB4kkEDBiqBW8FAITXz7MZud2d2me9kHmTd55Lf/mTdv3wTAbwRiWW1INYMR\n",
       "a2vDej0YsbECDRv0SRe4eKJ7ENovdAKQ5tgWTYvSTmeF35X/Tb24V3DLi2GlW5dGQ9eB2Az51WFI\n",
       "niKxpLgqdRFfxos4fIaMpX0ISU1MZ0ZCjTriXTOdptanzxRPZEWuhOh71XkGhil1RHZGQpEldMjF\n",
       "7TUyTV/kOWP+tpqfZFy4xYvZoPh9KH0Lkq/l8xUXKKbiCrmfEMRwWp+mVurDRYpiNijZQ6zPIHx7\n",
       "7g4ldrBJ7oZDbEKfztdtGVGENHIQIj0GSec9oHQPF8itOMTG9elZe/q3ykXu8RyETpZB0aIHlNpD\n",
       "jdwDh9i2nvzhqtSF/GSGP34OwjKD8MYLkvo4To7yLVXzmnVNsY6+77sUYQXyPSp0Gg6KqQzCthaq\n",
       "uEDyXyYm7KwjdE21FPvVdIhxLywTa3tBtLOX5O54pDFnP7PVq7yYHQrN4BFL45oXJO3hA7lzDrGy\n",
       "Pt2wc22lZSUEAvQVeMYgZckdQnoXl61Cd5b+WtfGhTNWcTZyPCQdOzqRYxH5lDukvWd/yG3ZtG4+\n",
       "rNHSXhkPqbWsnnoRy69Zab3b5aHIYDDIMQiPZ10hhCs4RM+LF4WuxjpPaNOsRsF+YB8IR6pGNQqW\n",
       "LEDJuvTdcGH/q0k7Ft9Qo4hUjr9idFvHaDHf0FOz5y4K8Y8jbnh99AnhpHaeWiXwGRhrHeRvgU8o\n",
       "od3SoWwwf3jm9fFJMGK3Eaz9B48O0Pu+gGLPAAAAAElFTkSuQmCC\n",
       "\" style=\"display:inline;vertical-align:middle;\" /></a></td></tr>\n",
       "<tr><td>3</td><td>Operation</td><td>operator:&nbsp;6<br>operands:&nbsp;5<br></td><td><a class=\"ProveItLink\" href=\"../5fa2e897f2b5c27ef654392f28ef8d98ae8eef520/expr.ipynb\"><img src=\"data:image/png;base64,iVBORw0KGgoAAAANSUhEUgAAAF0AAAAVBAMAAADWVP/xAAAAMFBMVEX////c3NwiIiJERESqqqqY\n",
       "mJh2dnZmZmYQEBDu7u4yMjJUVFTMzMyIiIi6uroAAAAs73DqAAAAAXRSTlMAQObYZgAAASpJREFU\n",
       "KM9jYCAV8F1A4bI+IKD+NBKbeQIDQw2afNRn+1VdSGauRDA57YHqudANNJBmOOwlwOBsDAQTGHgR\n",
       "Wjl37weqZ01AVy/OwDzRAMbjmIAkdR/I4WyA6r6lpLQAqp7tAFz9KwY09QwmEPapSIT5SOrLMNSn\n",
       "g5mMlkju4Ua4ZymGei9IUAkgqX8UBef1Yah/AWZORvhXQknLAc77B7R6kRIIPICqPw8WfwESgvr3\n",
       "OfMEZPVo5p9Hi0YDcfY3G+C8FhzumYQc/iuvwnmmGOqjwEzuACT1p7kPwHjpOMKTUw9JPZuDIYz3\n",
       "CEl5ef9yoKnrIBypGnh6s2FYvB4WQhwCaMkFlh4YvBdBwgcVYCQvtgv40/9KNP4sAvlFGo2/kYB6\n",
       "RlT7eQ/gVQ0AMZZRBC4NEyMAAAAASUVORK5CYII=\n",
       "\" style=\"display:inline;vertical-align:middle;\" /></a></td></tr>\n",
       "<tr><td>4</td><td>Operation</td><td>operator:&nbsp;6<br>operands:&nbsp;7<br></td><td><a class=\"ProveItLink\" href=\"../ac644326b018894104724dfb5574be66dc509ce40/expr.ipynb\"><img src=\"data:image/png;base64,iVBORw0KGgoAAAANSUhEUgAAAF0AAAAVBAMAAADWVP/xAAAAMFBMVEX////c3NwiIiJERESqqqqY\n",
       "mJh2dnZmZmYQEBDu7u4yMjJUVFTMzMyIiIi6uroAAAAs73DqAAAAAXRSTlMAQObYZgAAAVdJREFU\n",
       "KM9jYCAV8F1A4bI+IKD+NIIpXmXHwFCDJh/12X5VF5KZK+Esxg0M9x0YuNANNJBmOOwlwOBsDAQT\n",
       "GHgRWrknMDB9YGBNQFcvzsA80QDG45gAl+DoZOD+x8DZAOFx3lJSWgBVz3YArv4VwiCunwzs/xgY\n",
       "TCC8U5EI85HUl6HYzfSTgSEd4hlLJPdwI9yzFEX9eaDjvcAsZgEk9Y+i4Lw+FPWLgfgFmDUZ4V8J\n",
       "JS0HOA/oYMZFSiAAjCh2kLXnweIvQEJQ/z5nnoCsHgFuM8DVn0YKT/Y3G+C8FiTlLAUMgjD3TEIO\n",
       "/5VX4TxTJPXHGRgCgQkAEnkBSOpPcx+A8dIRyhnV0tIVYCKcekjq2RwMYbxHSIH///9/oPp1EJ5U\n",
       "DTy92TAsXg8LIQ4BtOQCSw8M3osg4YMKMJIX2wX86X8lGn8WgfwijcbfSEA9I6r9vAfwqgYAf55O\n",
       "sM051vsAAAAASUVORK5CYII=\n",
       "\" style=\"display:inline;vertical-align:middle;\" /></a></td></tr>\n",
       "<tr><td>5</td><td>ExprTuple</td><td>8, 10</td><td><a class=\"ProveItLink\" href=\"../6ef0327b3bf985a4823c0d2427b349948c2c9d8d0/expr.ipynb\"><img src=\"data:image/png;base64,iVBORw0KGgoAAAANSUhEUgAAAE4AAAAaBAMAAADrm3fPAAAAMFBMVEX///+qqqp2dnYiIiJERESI\n",
       "iIhmZmYQEBDc3NyYmJgyMjLu7u5UVFTMzMy6uroAAACGxKilAAAAAXRSTlMAQObYZgAAAStJREFU\n",
       "OMtjYGB4x0AIKIAI3gME1d0BEbs2EFTHGgAkTjIQBhYMDBwFSHwWqNmzvvivqgpAiMcwMLAlILjc\n",
       "/jA3OPQwXJFqYBBxAQKg2P4NDOwPEMrOnIera2Ng2eEAl2GewHAf2R3xSOqYLiDUsTkwhBOjjvMD\n",
       "wylc6niQ7OX7zeCDS93jWQ1wcd6/DMuwq2s3thJAiHP8YzADkouNQeABinnPWJDiifsjSB1We9ne\n",
       "HkAxbw0u962ORFL3l+EIuroNUHV3eC4g/PuDIRhNHfdnWPgJeCCH33skZWn1yyZw1zeA04Evw5L1\n",
       "cB8zLWDgv4CWhvgaMNMVVwADjwKaGCeW9Le/gYHXgAh1U4DYEU0sAIs6WyDuIpzsOUFpmVGBoLoW\n",
       "MDmRoLpsBqIBAEZEV5lAuA6OAAAAAElFTkSuQmCC\n",
       "\" style=\"display:inline;vertical-align:middle;\" /></a></td></tr>\n",
       "<tr><td>6</td><td>Literal</td><td></td><td><a class=\"ProveItLink\" href=\"../../../../logic/set_theory/membership/__pv_it/088cbc857536a28d4119ad9639a84270ccb0545d0/expr.ipynb\"><img src=\"data:image/png;base64,iVBORw0KGgoAAAANSUhEUgAAAAwAAAAMBAMAAACkW0HUAAAALVBMVEX///+qqqpmZmZUVFQQEBC6\n",
       "urpERETc3NyYmJjMzMwiIiIyMjKIiIju7u4AAACYsrA9AAAAAXRSTlMAQObYZgAAADxJREFUCNdj\n",
       "YOA9vWrVBgaG2b0MQMCeCyIZ2ArA1DUwyRCyahVIyWQI7xaEYm4AU7xLIdxqTQgtvGvVBgCkcQ7e\n",
       "geM/tQAAAABJRU5ErkJggg==\n",
       "\" style=\"display:inline;vertical-align:middle;\" /></a></td></tr>\n",
       "<tr><td>7</td><td>ExprTuple</td><td>9, 10</td><td><a class=\"ProveItLink\" href=\"../bdfadc8021bf1a0aea4079424a86c9888019dd010/expr.ipynb\"><img src=\"data:image/png;base64,iVBORw0KGgoAAAANSUhEUgAAAE4AAAAaBAMAAADrm3fPAAAAMFBMVEX///+qqqp2dnYiIiJERESI\n",
       "iIhmZmYQEBDc3NyYmJgyMjLu7u5UVFTMzMy6uroAAACGxKilAAAAAXRSTlMAQObYZgAAAVxJREFU\n",
       "OMtjYGB4x0AIKIAI3gME1d0BEbs2EFTHGgAkTjIQBhYMDBwFCG5blh+EMeuL/6qqAIREDAMDWwKc\n",
       "x3GAIV4AwnToYbgi1cAg4gIEQHft38DA/gCujmcDA/MHqLo2BpYdDnAZ5gkM9xGms1cz8PyDq2O6\n",
       "gFDH5sAQjlDH9ZuBDbs6zg8Mp1A8xvwbro4HyV6+3ww+KOruK8DVPZ7VABfm/cuwDEXdEijt0G5s\n",
       "JYAQ5vjHYAYkFxuDwAOwe2HmPWNBiifujyB1KOEJU8f29gCKeWuQlDEmMHTA3bc6EkndX4YjSOqu\n",
       "MTDMYNgAVXeH5wLCvz8YgpF0GSmpGXB/hoWfgAdy+L1HCrz///8bcNc3gNOBL8OS9XAfMy1g4L+A\n",
       "lob4GjDTFVcAA48CmhgnlvS3v4GB14AIdVOA2BFNLACLOlsg7iKc7DlBaZlRgaC6FjA5kaC6bAai\n",
       "AQCz91gJBINLGgAAAABJRU5ErkJggg==\n",
       "\" style=\"display:inline;vertical-align:middle;\" /></a></td></tr>\n",
       "<tr><td>8</td><td>Operation</td><td>operator:&nbsp;12<br>operand:&nbsp;11<br></td><td><a class=\"ProveItLink\" href=\"../27bb768acc4707a63c4de5a0b22e13dfe76b5c980/expr.ipynb\"><img src=\"data:image/png;base64,iVBORw0KGgoAAAANSUhEUgAAABgAAAAPBAMAAAAMihLoAAAAJ1BMVEX///+YmJgQEBBmZmaIiIhU\n",
       "VFTu7u5ERES6uroiIiIyMjLc3NwAAAAKCT4sAAAAAXRSTlMAQObYZgAAACpJREFUCNdjYICDMgST\n",
       "If0Ygp0aisRhYCGTs2smCMwg3wAYYDY6ZciADABBShCHMIgXsAAAAABJRU5ErkJggg==\n",
       "\" style=\"display:inline;vertical-align:middle;\" /></a></td></tr>\n",
       "<tr><td>9</td><td>Operation</td><td>operator:&nbsp;12<br>operand:&nbsp;13<br></td><td><a class=\"ProveItLink\" href=\"../9cd64560928a3eea5b8bd346c0fe76e791b1ec050/expr.ipynb\"><img src=\"data:image/png;base64,iVBORw0KGgoAAAANSUhEUgAAABkAAAAOBAMAAAAoFKpzAAAAMFBMVEX///+YmJh2dnbMzMwQEBDu\n",
       "7u6qqqqIiIhUVFRERERmZma6uroiIiIyMjLc3NwAAABSazM2AAAAAXRSTlMAQObYZgAAAFtJREFU\n",
       "CNdjYIACvlU3NzDAwQsG9m8IXisDw3kEzyWAoR+h9H4Aw3okjUCVAUgc5k/IUrwTGBjengGB00De\n",
       "SmQp9gZkXhYD3wOEGQsYGBG8N0pKa5As+///DwMAyBMb8hv9jf4AAAAASUVORK5CYII=\n",
       "\" style=\"display:inline;vertical-align:middle;\" /></a></td></tr>\n",
       "<tr><td>10</td><td>Literal</td><td></td><td><a class=\"ProveItLink\" href=\"../../../sets/real/__pv_it/ae6abf015b290ff2a5b5ccb58f19177a82c6074b0/expr.ipynb\"><img src=\"data:image/png;base64,iVBORw0KGgoAAAANSUhEUgAAABsAAAAOBAMAAAAs4XpOAAAAMFBMVEX///8iIiK6urp2dnbu7u5m\n",
       "ZmaqqqrMzMxUVFTc3NyIiIgQEBBEREQyMjKYmJgAAAA9nvXMAAAAAXRSTlMAQObYZgAAAF1JREFU\n",
       "CNdjePvn/N29Cxjg4MAMhprcCQw5Z4DAAcidysDjeQAhO5WBuQAflwNVseLbCQjubEHZBCSLpqry\n",
       "OCBzWdUbkLkMV9ahcCs4ClDsTTgJ4wG9cJzhzn2o2QB/7ytaZzHgkAAAAABJRU5ErkJggg==\n",
       "\" style=\"display:inline;vertical-align:middle;\" /></a></td></tr>\n",
       "<tr><td>11</td><td>Literal</td><td></td><td><a class=\"ProveItLink\" href=\"../../../numeral/__pv_it/9be8badea4c35b9724062cecc501d17a3158d1d20/expr.ipynb\"><img src=\"data:image/png;base64,iVBORw0KGgoAAAANSUhEUgAAAAgAAAAPBAMAAAArJJMAAAAAHlBMVEX///+YmJgyMjIQEBBmZmaI\n",
       "iIhUVFTu7u5EREQAAAAw+MI4AAAAAXRSTlMAQObYZgAAACFJREFUCNdjYGBoZ2BgqJjOwFCWBiQY\n",
       "WEklWJwnOTKAAACjEQo8HvEr3AAAAABJRU5ErkJggg==\n",
       "\" style=\"display:inline;vertical-align:middle;\" /></a></td></tr>\n",
       "<tr><td>12</td><td>Literal</td><td></td><td><a class=\"ProveItLink\" href=\"../../../negation/__pv_it/3fc7a08bb9735faa20ef8e175f6ea95511acc9c70/expr.ipynb\"><img src=\"data:image/png;base64,iVBORw0KGgoAAAANSUhEUgAAAA4AAAACBAMAAACapPCZAAAAElBMVEX///+6uroiIiIyMjLc3NwA\n",
       "AAA6l9OrAAAAAXRSTlMAQObYZgAAABBJREFUCNdjcFYCAUUGKAAADR4BD8/TF5gAAAAASUVORK5C\n",
       "YII=\n",
       "\" style=\"display:inline;vertical-align:middle;\" /></a></td></tr>\n",
       "<tr><td>13</td><td>Literal</td><td></td><td><a class=\"ProveItLink\" href=\"../../../numeral/__pv_it/77d407a64829263cdc16415becd4c2293f77a4bf0/expr.ipynb\"><img src=\"data:image/png;base64,iVBORw0KGgoAAAANSUhEUgAAAAkAAAAOBAMAAAAPuiubAAAAMFBMVEX///+YmJh2dnbMzMwQEBAi\n",
       "IiLu7u6qqqqIiIhUVFS6urpEREQyMjJmZmbc3NwAAACOMKdoAAAAAXRSTlMAQObYZgAAAFBJREFU\n",
       "CNdj4Lt7egEDw0sGju8MDNMYGOIZGFwSGOYvYDifwHAfKAEUSQASzJ9ATJ4NIPI2iOCYACJrGfge\n",
       "MDBfYGB8wPBUSekqUPH//18ZAIliFhc3zESNAAAAAElFTkSuQmCC\n",
       "\" style=\"display:inline;vertical-align:middle;\" /></a></td></tr>\n",
       "</table>\n"
      ],
      "text/plain": [
       "0. {(-1) in RealsNeg , (-2) in RealsNeg}\n",
       "   core type: Operation\n",
       "   operator: 1\n",
       "   operands: 2\n",
       "1. Set\n",
       "   core type: Literal\n",
       "   sub-expressions: \n",
       "2. ((-1) in RealsNeg , (-2) in RealsNeg)\n",
       "   core type: ExprTuple\n",
       "   sub-expressions: 3, 4\n",
       "3. (-1) in RealsNeg\n",
       "   core type: Operation\n",
       "   operator: 6\n",
       "   operands: 5\n",
       "4. (-2) in RealsNeg\n",
       "   core type: Operation\n",
       "   operator: 6\n",
       "   operands: 7\n",
       "5. (-1 , RealsNeg)\n",
       "   core type: ExprTuple\n",
       "   sub-expressions: 8, 10\n",
       "6. in\n",
       "   core type: Literal\n",
       "   sub-expressions: \n",
       "7. (-2 , RealsNeg)\n",
       "   core type: ExprTuple\n",
       "   sub-expressions: 9, 10\n",
       "8. -1\n",
       "   core type: Operation\n",
       "   operator: 12\n",
       "   operand: 11\n",
       "9. -2\n",
       "   core type: Operation\n",
       "   operator: 12\n",
       "   operand: 13\n",
       "10. RealsNeg\n",
       "    core type: Literal\n",
       "    sub-expressions: \n",
       "11. 1\n",
       "    core type: Literal\n",
       "    sub-expressions: \n",
       "12. -\n",
       "    core type: Literal\n",
       "    sub-expressions: \n",
       "13. 2\n",
       "    core type: Literal\n",
       "    sub-expressions: "
      ]
     },
     "execution_count": 4,
     "metadata": {},
     "output_type": "execute_result"
    }
   ],
   "source": [
    "# display the expression information\n",
    "expr.exprInfo()"
   ]
  },
  {
   "cell_type": "code",
   "execution_count": null,
   "metadata": {},
   "outputs": [],
   "source": []
  }
 ],
 "metadata": {
  "kernelspec": {
   "display_name": "Python 3",
   "language": "python",
   "name": "python3"
  }
 },
 "nbformat": 4,
 "nbformat_minor": 0
}
