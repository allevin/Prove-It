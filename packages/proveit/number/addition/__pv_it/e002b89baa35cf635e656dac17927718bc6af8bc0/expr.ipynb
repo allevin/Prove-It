{
 "cells": [
  {
   "cell_type": "markdown",
   "metadata": {},
   "source": [
    "Expression of type <a class=\"ProveItLink\" href=\"../../../../../../doc/html/api/proveit.logic.InSet.html\">InSet</a>\n",
    "=======================\n",
    "# from context <a class=\"ProveItLink\" href=\"../../_context_.ipynb\">proveit.number.addition</a>"
   ]
  },
  {
   "cell_type": "code",
   "execution_count": 1,
   "metadata": {},
   "outputs": [],
   "source": [
    "# import Expression classes needed to build the expression\n",
    "from proveit._common_ import b\n",
    "from proveit.logic import InSet\n",
    "from proveit.number import Complexes, Exp, three"
   ]
  },
  {
   "cell_type": "code",
   "execution_count": 2,
   "metadata": {},
   "outputs": [
    {
     "data": {
      "text/html": [
       "<strong id=\"expr\">expr:</strong> <a class=\"ProveItLink\" href=\"expr.ipynb\"><img src=\"data:image/png;base64,iVBORw0KGgoAAAANSUhEUgAAAGwAAAAZBAMAAAAmp9aMAAAAMFBMVEX////c3NwiIiJERESqqqqY\n",
       "mJh2dnZmZmYQEBDu7u4yMjJUVFTMzMyIiIi6uroAAAAs73DqAAAAAXRSTlMAQObYZgAAAexJREFU\n",
       "OMudk0soRFEYx/+DeVzzXLMwXQvZaMqjLJSNDYuZlRoLycZC6qZYoEhSUpooiZhJWQylUZTS1Kws\n",
       "KCYbRWookg1CTHmdc+45Z8boTs3cxb2/c873v+d7AgU/ykB/qHAVrAFrpAiZXTM/oZjHEilKtpQC\n",
       "XEmDQ3PK4GC1ibyOoex7eY4EYGWSvMb+Cc42P6o1khQfEAXKY3xbArboKld18o3FL2JieoWT+Ohu\n",
       "5fsS8Eq97Mnx2h4A/LGqlOkNNlK6R1E+Ca409XlCd/1CVVnqgjZatdi8xzyDB4K94n8SLCzIBsZH\n",
       "Qb6pVdKfJB1X/R4M00Cu9nhEAsrjl8ShPoqmZtFU2l3G4Q2yfoE7wQ4EIOzDJ9BOsdTDLR09bRnZ\n",
       "HFCWho1FLwH+EKaBe4oLkLLbjOybRBmBW2NNKgAjwDtwSvFeVfWUKL7DP7ISDY8ByhJQA9cblx1L\n",
       "06g9I5ti1RoP8bLpQMpmTXMn56VpJ5PpBo2gaZiGgiwg+aBBdrE5CQhZaTdpDVctY5Jke6s1hrA3\n",
       "C7CLUfACKHXyuoOW0Fq9ftsNOYgPkWF4zgKsnNM7tplFhWxpx+DPLB8LmyjLNXKBNxc61tV/cyn7\n",
       "VYYgwZLMM6pRQ9lyvgmv1D9OsZaAnXwyk5ErzoSx6Bf8wIJqbf8ppwAAAABJRU5ErkJggg==\n",
       "\" style=\"display:inline;vertical-align:middle;\" /></a><br>"
      ],
      "text/plain": [
       "expr: (b , b , b) in Complexes^{3}"
      ]
     },
     "execution_count": 2,
     "metadata": {},
     "output_type": "execute_result"
    }
   ],
   "source": [
    "# build up the expression from sub-expressions\n",
    "expr = InSet([b, b, b], Exp(Complexes, three))"
   ]
  },
  {
   "cell_type": "code",
   "execution_count": 3,
   "metadata": {},
   "outputs": [
    {
     "name": "stdout",
     "output_type": "stream",
     "text": [
      "Passed sanity check: built 'expr' is the same as the stored Expression.\n"
     ]
    }
   ],
   "source": [
    "# check that the built expression is the same as the stored expression\n",
    "%check_expr"
   ]
  },
  {
   "cell_type": "code",
   "execution_count": 4,
   "metadata": {},
   "outputs": [
    {
     "data": {
      "text/html": [
       "<table><tr><th>&nbsp;</th><th>core type</th><th>sub-expressions</th><th>expression</th></tr>\n",
       "<tr><td>0</td><td>Operation</td><td>operator:&nbsp;1<br>operands:&nbsp;2<br></td><td><a class=\"ProveItLink\" href=\"expr.ipynb\"><img src=\"data:image/png;base64,iVBORw0KGgoAAAANSUhEUgAAAGwAAAAZBAMAAAAmp9aMAAAAMFBMVEX////c3NwiIiJERESqqqqY\n",
       "mJh2dnZmZmYQEBDu7u4yMjJUVFTMzMyIiIi6uroAAAAs73DqAAAAAXRSTlMAQObYZgAAAexJREFU\n",
       "OMudk0soRFEYx/+DeVzzXLMwXQvZaMqjLJSNDYuZlRoLycZC6qZYoEhSUpooiZhJWQylUZTS1Kws\n",
       "KCYbRWookg1CTHmdc+45Z8boTs3cxb2/c873v+d7AgU/ykB/qHAVrAFrpAiZXTM/oZjHEilKtpQC\n",
       "XEmDQ3PK4GC1ibyOoex7eY4EYGWSvMb+Cc42P6o1khQfEAXKY3xbArboKld18o3FL2JieoWT+Ohu\n",
       "5fsS8Eq97Mnx2h4A/LGqlOkNNlK6R1E+Ca409XlCd/1CVVnqgjZatdi8xzyDB4K94n8SLCzIBsZH\n",
       "Qb6pVdKfJB1X/R4M00Cu9nhEAsrjl8ShPoqmZtFU2l3G4Q2yfoE7wQ4EIOzDJ9BOsdTDLR09bRnZ\n",
       "HFCWho1FLwH+EKaBe4oLkLLbjOybRBmBW2NNKgAjwDtwSvFeVfWUKL7DP7ISDY8ByhJQA9cblx1L\n",
       "06g9I5ti1RoP8bLpQMpmTXMn56VpJ5PpBo2gaZiGgiwg+aBBdrE5CQhZaTdpDVctY5Jke6s1hrA3\n",
       "C7CLUfACKHXyuoOW0Fq9ftsNOYgPkWF4zgKsnNM7tplFhWxpx+DPLB8LmyjLNXKBNxc61tV/cyn7\n",
       "VYYgwZLMM6pRQ9lyvgmv1D9OsZaAnXwyk5ErzoSx6Bf8wIJqbf8ppwAAAABJRU5ErkJggg==\n",
       "\" style=\"display:inline;vertical-align:middle;\" /></a></td></tr>\n",
       "<tr><td>1</td><td>Literal</td><td></td><td><a class=\"ProveItLink\" href=\"../../../../logic/set_theory/membership/__pv_it/088cbc857536a28d4119ad9639a84270ccb0545d0/expr.ipynb\"><img src=\"data:image/png;base64,iVBORw0KGgoAAAANSUhEUgAAAAwAAAAMBAMAAACkW0HUAAAALVBMVEX///+qqqpmZmZUVFQQEBC6\n",
       "urpERETc3NyYmJjMzMwiIiIyMjKIiIju7u4AAACYsrA9AAAAAXRSTlMAQObYZgAAADxJREFUCNdj\n",
       "YOA9vWrVBgaG2b0MQMCeCyIZ2ArA1DUwyRCyahVIyWQI7xaEYm4AU7xLIdxqTQgtvGvVBgCkcQ7e\n",
       "geM/tQAAAABJRU5ErkJggg==\n",
       "\" style=\"display:inline;vertical-align:middle;\" /></a></td></tr>\n",
       "<tr><td>2</td><td>ExprTuple</td><td>3, 4</td><td><a class=\"ProveItLink\" href=\"../6a6d0965e3abfbc9593a14267a63c09a50c2efed0/expr.ipynb\"><img src=\"data:image/png;base64,iVBORw0KGgoAAAANSUhEUgAAAHAAAAAcBAMAAABL+CZZAAAAMFBMVEX///+qqqp2dnYiIiJERESI\n",
       "iIhmZmYQEBDc3NyYmJgyMjLu7u5UVFTMzMy6uroAAACGxKilAAAAAXRSTlMAQObYZgAAAhlJREFU\n",
       "OMudVD1IW1EU/hpN8vLzkq665C11cnAQEYqQit06BERdHAJurQVpl4KCb7BLKfQpThUkk4NKCYoI\n",
       "IiaCgoqDdBYNhdJ2aQ3SapBoz7m5N753jcPzwbvne+ee792P83MBn0/sSXseD3lCTign4W9fxHg2\n",
       "cgaLkVn0eWYgh2O2G34lr5cQzJDd54/v9wRFSndca720dAPGWE3u5lu54QWvXZT+xYvOLKUnDQyT\n",
       "IYgoyV1W+x4QveWdXGPlLyXEKAOFPMIsZoDesgrwgIhVVx13gFTxU8moAE0OTtk5DiSuZIAXxMYU\n",
       "cS7MVSyu2pFxIXeIQ6ikgQ6VbS94pojZj/yfjDnQbtPxZzjg/5Ce6O6wIwI00KZaLfvNlSdS84JD\n",
       "KKCQRlX4NNAqQ02rxUU0q1ggwwlK5fFG+DTwo0785SIa1+gikyTiS+Cf8GngVElNf3XPSLlO7EKi\n",
       "InwaUEQsxb0ncpXDj7looStZPQ9QUjEjiLKxjSp2yDRTcqoIW8LtBfjMwji2eZ46O/FUZvUS/Vwx\n",
       "arttjCJ2Dg3UylEQFT18nt/qkydSHf8wnzY2Bx3EJm0NAF94kC5FXkduJkq3M5k8IvtO1dXWQa3l\n",
       "fuqzFc0gzl08oxoZOgjwyMLRiQUbZoccq8bEDTQkzsouNuS9k1EbdbDHS/DONdBD7wcG7++5OoJH\n",
       "jW8Unv5Hlv/LdUqs0/6Jr/Dw5z8NOpy8uuHoyAAAAABJRU5ErkJggg==\n",
       "\" style=\"display:inline;vertical-align:middle;\" /></a></td></tr>\n",
       "<tr><td>3</td><td>ExprTuple</td><td>5, 5, 5</td><td><a class=\"ProveItLink\" href=\"../c21a0a21f22a50fe9404b3289ace12ef9be60db90/expr.ipynb\"><img src=\"data:image/png;base64,iVBORw0KGgoAAAANSUhEUgAAADkAAAAVBAMAAAAOWFv7AAAAMFBMVEX////c3NwiIiJERESqqqqY\n",
       "mJh2dnZmZmYQEBDu7u4yMjJUVFTMzMyIiIi6uroAAAAs73DqAAAAAXRSTlMAQObYZgAAAPlJREFU\n",
       "KM9jYMAP+C7gkIgDEacZOHcoQPioDPYDQNZKBgauDVDlqIwFDAy8QIP5HaCCqIwwBgaOCQwM7ydA\n",
       "BVEZMxgYXgGpJJhDUBnMDgxlQGr13a0QQVQGWwHDUqALPzPwHwA7FZXBsoChj4GB5ScDRwJIEI3B\n",
       "18DwD+ixBQz8BSBBNAbPB5AsUwHD+wCQIBoDKNsC9lz9BKgvkRlAk00ZQA5oY+BkQGcwsC5gSGdg\n",
       "4HZg38AwXwGdAfLRI6D795YCA+YjOoOB6wEDhwA0eB4yoDOAIcmaAGUHMKAzciExiF2WExiDDNIQ\n",
       "Ni9MEs7gBtnJiCvl3GFgAACyJ1L0n4kkiAAAAABJRU5ErkJggg==\n",
       "\" style=\"display:inline;vertical-align:middle;\" /></a></td></tr>\n",
       "<tr><td>4</td><td>Operation</td><td>operator:&nbsp;6<br>operands:&nbsp;7<br></td><td><a class=\"ProveItLink\" href=\"../7ef71547f87fa9cc26b3db442466b8307b39b2f00/expr.ipynb\"><img src=\"data:image/png;base64,iVBORw0KGgoAAAANSUhEUgAAABcAAAAUBAMAAACUkLs9AAAAMFBMVEX////c3NyqqqqYmJhUVFR2\n",
       "dnbu7u66urrMzMxmZmZEREQQEBAyMjIiIiKIiIgAAAB7fvZ0AAAAAXRSTlMAQObYZgAAAJJJREFU\n",
       "GNNjYICC1KduDHAwmWEOguPJYM+ABGKQ2GzbkdivAkAU353ze1cC6VlAzFFfwBb/BMiQV2BgMHBm\n",
       "YGD6wvidQd6AgTlhA1B0CttFBusEBk5GByAnj6HvqSMDQyZ7AMLIViYDJA47EieLA0kZT4IDgsMc\n",
       "AOKwQXmL64BEbQKEw+L1jK1qGUxh5/3f7hAWAEuSH0rgFzQbAAAAAElFTkSuQmCC\n",
       "\" style=\"display:inline;vertical-align:middle;\" /></a></td></tr>\n",
       "<tr><td>5</td><td>Variable</td><td></td><td><a class=\"ProveItLink\" href=\"../../../../__pv_it/6840a4fa6c106149dc16a131294d0c5e44f1b0480/expr.ipynb\"><img src=\"data:image/png;base64,iVBORw0KGgoAAAANSUhEUgAAAAkAAAAOBAMAAAAPuiubAAAALVBMVEX///9mZmbMzMxERESYmJiI\n",
       "iIh2dna6urqqqqoyMjIiIiIQEBBUVFTu7u4AAAD9S1JeAAAAAXRSTlMAQObYZgAAAE1JREFUCNdj\n",
       "4D29gAEIOA+ASL4GEFl3AURmgQiGOaFHGBh4HzPwKTBwvGXgTmBgnMDAJ8DAJcBQ5wBSLncBJLWN\n",
       "gYGngRFoBO9REQYGAGrcDtUkVqASAAAAAElFTkSuQmCC\n",
       "\" style=\"display:inline;vertical-align:middle;\" /></a></td></tr>\n",
       "<tr><td>6</td><td>Literal</td><td></td><td><a class=\"ProveItLink\" href=\"../../../exponentiation/__pv_it/deb2bf23cbccdd6e6791e1b35b5b9794ce12dbd50/expr.ipynb\"><img src=\"data:image/png;base64,iVBORw0KGgoAAAANSUhEUgAAACgAAAASBAMAAADbMYGVAAAAMFBMVEX///8QEBAiIiKYmJjc3Nzu\n",
       "7u7MzMx2dnZmZma6urpERESqqqoyMjJUVFSIiIgAAAAoDOMTAAAAAXRSTlMAQObYZgAAAOBJREFU\n",
       "GNNjYGB4+//u3Tt/GNAASGAXmhjnPyDBgSbI/g1IxKEJ8nxgYGdgQRPkX8BgDKRY6q7s62OYvmze\n",
       "2wAgb/7ZO1+AVDiDkYEQQ0HTBr4DQF59AgOIKmB4z7CNbcNZBu6vQN55kEACQwDDLQYGVobfDHwg\n",
       "fb8YGBxYHwAZciD3fWXg+gB1JjvQcJZvQIXsCgz8F6DO9GBgMOH7wPCUgaeBwd4B7EwGNjUG7s9c\n",
       "AiwPgO5jkWRgiF3/9+5dfQUG1nWl5Y+B7pv+1gE9bBhqGLCAE1jEWH9jEbT5A3IwAC4sP/1L6Qlu\n",
       "AAAAAElFTkSuQmCC\n",
       "\" style=\"display:inline;vertical-align:middle;\" /></a></td></tr>\n",
       "<tr><td>7</td><td>ExprTuple</td><td>8, 9</td><td><a class=\"ProveItLink\" href=\"../0736190636db428f8a7c6e653a85d0c03823a4f10/expr.ipynb\"><img src=\"data:image/png;base64,iVBORw0KGgoAAAANSUhEUgAAAC8AAAAVBAMAAAAk6KpUAAAAMFBMVEX////c3NwiIiJERESqqqqY\n",
       "mJh2dnZmZmYQEBDu7u4yMjJUVFTMzMyIiIi6uroAAAAs73DqAAAAAXRSTlMAQObYZgAAAShJREFU\n",
       "KM9jYMAJ+C5gisWBiNNAzKu1vskcIsaTluzAwH4AyFoJ5Lx/wJl/GyIhzsD3l4FhAVAx0KSArQwM\n",
       "LL8hEvkODJ8YGMIYGDgmMLBOaACKVEMk/MESMxgYXjEwsDNuAIrMhbsGaBSzA0MZA8N0vgRkJ3EB\n",
       "lbEVMCxlYDjGEoAkfmw1kGBZwNAHZPIhSzDwAoX4Ghj+MTBM5kExiqF/AgPPB5AE14QNCFEZBgb7\n",
       "AJBECwMDawJIghMszvl/AkgCaJQpkGf6Fkg8mgCW+sXAoC/AwLqAIR3I4d58k/OxJcN8BSD7KgPf\n",
       "N7BzH4GUHdf/sQ/o3Y8gh5ZXOQCtfcDAIYCw+CGcNQNkM0IC4Z1cSLBjSHACg51BGuFlOIsbZD4j\n",
       "lqi9w8AAALbHRdYWLCV8AAAAAElFTkSuQmCC\n",
       "\" style=\"display:inline;vertical-align:middle;\" /></a></td></tr>\n",
       "<tr><td>8</td><td>Literal</td><td></td><td><a class=\"ProveItLink\" href=\"../../../sets/complex/__pv_it/c357845f93a5a2d9f649129d299e7ec28dda4b960/expr.ipynb\"><img src=\"data:image/png;base64,iVBORw0KGgoAAAANSUhEUgAAAA8AAAAOBAMAAAACpFvcAAAAMFBMVEX////c3NyqqqqYmJhUVFR2\n",
       "dnbu7u66urrMzMxmZmZEREQQEBAyMjIiIiKIiIgAAAB7fvZ0AAAAAXRSTlMAQObYZgAAAGVJREFU\n",
       "CNdjYGDgu3N+70oGBgaO+gK2+CdAhoEzAwPTFwYG5oQNQN4UBgZORgcgI4+BIZM9gAEMWpkMoAx2\n",
       "KCOLAyrFk+AAYTAHgBhsQLy4DkjUJjAwsHg9Y6taBpLsvP/bnYEBACkBFGQfBv8RAAAAAElFTkSu\n",
       "QmCC\n",
       "\" style=\"display:inline;vertical-align:middle;\" /></a></td></tr>\n",
       "<tr><td>9</td><td>Literal</td><td></td><td><a class=\"ProveItLink\" href=\"../../../numeral/__pv_it/9176d93c83afa2c995b614976e3cb49207102fa70/expr.ipynb\"><img src=\"data:image/png;base64,iVBORw0KGgoAAAANSUhEUgAAAAoAAAAOBAMAAADkjZCYAAAAMFBMVEX///+YmJju7u4QEBBUVFQy\n",
       "MjIiIiKIiIi6urpmZmbc3NyqqqpERER2dnbMzMwAAAB0GlNiAAAAAXRSTlMAQObYZgAAAE1JREFU\n",
       "CNdjYHh79zQDA9cEhv4CBt7fDPwJDNxgEgiAIkAQAsR8Vx1ATIbiBhDJ/ImB6wEDz0cG/U8gkj+A\n",
       "ge0XA7sAQ/8FBoadM6MZAEflFACalZ/OAAAAAElFTkSuQmCC\n",
       "\" style=\"display:inline;vertical-align:middle;\" /></a></td></tr>\n",
       "</table>\n"
      ],
      "text/plain": [
       "0. (b , b , b) in Complexes^{3}\n",
       "   core type: Operation\n",
       "   operator: 1\n",
       "   operands: 2\n",
       "1. in\n",
       "   core type: Literal\n",
       "   sub-expressions: \n",
       "2. ((b , b , b) , Complexes^{3})\n",
       "   core type: ExprTuple\n",
       "   sub-expressions: 3, 4\n",
       "3. (b , b , b)\n",
       "   core type: ExprTuple\n",
       "   sub-expressions: 5, 5, 5\n",
       "4. Complexes^{3}\n",
       "   core type: Operation\n",
       "   operator: 6\n",
       "   operands: 7\n",
       "5. b\n",
       "   core type: Variable\n",
       "   sub-expressions: \n",
       "6. Exp\n",
       "   core type: Literal\n",
       "   sub-expressions: \n",
       "7. (Complexes , 3)\n",
       "   core type: ExprTuple\n",
       "   sub-expressions: 8, 9\n",
       "8. Complexes\n",
       "   core type: Literal\n",
       "   sub-expressions: \n",
       "9. 3\n",
       "   core type: Literal\n",
       "   sub-expressions: "
      ]
     },
     "execution_count": 4,
     "metadata": {},
     "output_type": "execute_result"
    }
   ],
   "source": [
    "# display the expression information\n",
    "expr.exprInfo()"
   ]
  },
  {
   "cell_type": "code",
   "execution_count": null,
   "metadata": {},
   "outputs": [],
   "source": []
  }
 ],
 "metadata": {
  "kernelspec": {
   "display_name": "Python 3",
   "language": "python",
   "name": "python3"
  }
 },
 "nbformat": 4,
 "nbformat_minor": 0
}
