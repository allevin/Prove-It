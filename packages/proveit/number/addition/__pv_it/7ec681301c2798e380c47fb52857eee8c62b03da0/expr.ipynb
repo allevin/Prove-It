{
 "cells": [
  {
   "cell_type": "markdown",
   "metadata": {},
   "source": [
    "Expression of type <a class=\"ProveItLink\" href=\"../../../../../../doc/html/api/proveit.Lambda.html\">Lambda</a>\n",
    "=======================\n",
    "# from context <a class=\"ProveItLink\" href=\"../../_context_.ipynb\">proveit.number.addition</a>"
   ]
  },
  {
   "cell_type": "code",
   "execution_count": 1,
   "metadata": {},
   "outputs": [],
   "source": [
    "# import Expression classes needed to build the expression\n",
    "from proveit import Lambda\n",
    "from proveit._common_ import a\n",
    "from proveit.logic import Equals, InSet\n",
    "from proveit.number import Add, Complexes, zero"
   ]
  },
  {
   "cell_type": "code",
   "execution_count": 2,
   "metadata": {},
   "outputs": [
    {
     "data": {
      "text/html": [
       "<strong id=\"expr\">expr:</strong> <a class=\"ProveItLink\" href=\"expr.ipynb\"><img src=\"data:image/png;base64,iVBORw0KGgoAAAANSUhEUgAAAOsAAAAVCAMAAACQTOmOAAAANlBMVEX///8UFBQNDQ0yMjKqqqrM\n",
       "zMzu7u4iIiJmZmaYmJhEREQQEBC6urp2dnaIiIhUVFTc3NwAAACAukRkAAAAAXRSTlMAQObYZgAA\n",
       "AlBJREFUWMPVl9lu7CAMhmnZV4f3f9lmURIbMhAmUo4OF3VH+jH+CMaGsf9piOnV5UKidmDY8FQe\n",
       "w5uoErBVJiUjb08ekF7Lv2FNmvPstTPDM7nCVs9rK32fgA8u9pxVhrzEGHOC4U1K2Ca9/qUhqUZO\n",
       "2Th2iuNTVsvAbpmeh1m9wlav80MmdKKRyMoPrVbJe6wqcT2PY/OtYrsLM8oaOLF5zQGZxV1W5sTQ\n",
       "eqW8wyq5VTTj2QTHNqxmghSDn66zRODlTMR2ynFjTU1W7D72b4iWnLIWcbPJqeIzGxZoGqxyl4/f\n",
       "mk4A5IBbbA/W2GIl7sW5kYajAV15zVrGzVx5U8jIhCW7k5efxn1iVXC68AHbW6zUfeglbFuOWau4\n",
       "lWM1ayCssO6MPiP8/dFk+HyssP+Xw+0zTN3L3GFtyzFrFXfwe8T8pJfkO+RlO1SWn74rg3MBynrc\n",
       "TRafSu3JqaTuu6xtOWat4pZw1Q0AOTRpLT/zvGtWg7LAC2K3miNaNadwjw6lwWfHdeUlax230lcF\n",
       "+mBVy84scQNnQl6yShy6s8RuvUSkEyhr4d52OqeOHLHWce9tAyla9ujftdruVKENOw42zTdyje81\n",
       "YLdaLAVfNlgL992a05bjM1zFPX/YuvwCuKSYCm6tR3OVSkG6dKf9CppaZWKCoh0u72HinvdWacvJ\n",
       "PVzHPfH6uSCNztnDF4+GvXL7z03vv+wRmQCOe8RHY+/GG01862Ebxx69lfzd9yt90w0OxR/K32Xd\n",
       "e+kJvpgM00P5u6xsStSOPH7lU3l6xPoH1YIc+nRPnX0AAAAASUVORK5CYII=\n",
       "\" style=\"display:inline;vertical-align:middle;\" /></a><br>"
      ],
      "text/plain": [
       "expr: a -> ((0 + a) = a) | a in Complexes"
      ]
     },
     "execution_count": 2,
     "metadata": {},
     "output_type": "execute_result"
    }
   ],
   "source": [
    "# build up the expression from sub-expressions\n",
    "expr = Lambda(a, Equals(Add(zero, a), a), conditions = [InSet(a, Complexes)])"
   ]
  },
  {
   "cell_type": "code",
   "execution_count": 3,
   "metadata": {},
   "outputs": [
    {
     "name": "stdout",
     "output_type": "stream",
     "text": [
      "Passed sanity check: built 'expr' is the same as the stored Expression.\n"
     ]
    }
   ],
   "source": [
    "# check that the built expression is the same as the stored expression\n",
    "%check_expr"
   ]
  },
  {
   "cell_type": "code",
   "execution_count": 4,
   "metadata": {},
   "outputs": [
    {
     "data": {
      "text/html": [
       "<table><tr><th>&nbsp;</th><th>core type</th><th>sub-expressions</th><th>expression</th></tr>\n",
       "<tr><td>0</td><td>Lambda</td><td>parameter:&nbsp;13<br>body:&nbsp;1<br>conditions:&nbsp;2<br></td><td><a class=\"ProveItLink\" href=\"expr.ipynb\"><img src=\"data:image/png;base64,iVBORw0KGgoAAAANSUhEUgAAAOsAAAAVCAMAAACQTOmOAAAANlBMVEX///8UFBQNDQ0yMjKqqqrM\n",
       "zMzu7u4iIiJmZmaYmJhEREQQEBC6urp2dnaIiIhUVFTc3NwAAACAukRkAAAAAXRSTlMAQObYZgAA\n",
       "AlBJREFUWMPVl9lu7CAMhmnZV4f3f9lmURIbMhAmUo4OF3VH+jH+CMaGsf9piOnV5UKidmDY8FQe\n",
       "w5uoErBVJiUjb08ekF7Lv2FNmvPstTPDM7nCVs9rK32fgA8u9pxVhrzEGHOC4U1K2Ca9/qUhqUZO\n",
       "2Th2iuNTVsvAbpmeh1m9wlav80MmdKKRyMoPrVbJe6wqcT2PY/OtYrsLM8oaOLF5zQGZxV1W5sTQ\n",
       "eqW8wyq5VTTj2QTHNqxmghSDn66zRODlTMR2ynFjTU1W7D72b4iWnLIWcbPJqeIzGxZoGqxyl4/f\n",
       "mk4A5IBbbA/W2GIl7sW5kYajAV15zVrGzVx5U8jIhCW7k5efxn1iVXC68AHbW6zUfeglbFuOWau4\n",
       "lWM1ayCssO6MPiP8/dFk+HyssP+Xw+0zTN3L3GFtyzFrFXfwe8T8pJfkO+RlO1SWn74rg3MBynrc\n",
       "TRafSu3JqaTuu6xtOWat4pZw1Q0AOTRpLT/zvGtWg7LAC2K3miNaNadwjw6lwWfHdeUlax230lcF\n",
       "+mBVy84scQNnQl6yShy6s8RuvUSkEyhr4d52OqeOHLHWce9tAyla9ujftdruVKENOw42zTdyje81\n",
       "YLdaLAVfNlgL992a05bjM1zFPX/YuvwCuKSYCm6tR3OVSkG6dKf9CppaZWKCoh0u72HinvdWacvJ\n",
       "PVzHPfH6uSCNztnDF4+GvXL7z03vv+wRmQCOe8RHY+/GG01862Ebxx69lfzd9yt90w0OxR/K32Xd\n",
       "e+kJvpgM00P5u6xsStSOPH7lU3l6xPoH1YIc+nRPnX0AAAAASUVORK5CYII=\n",
       "\" style=\"display:inline;vertical-align:middle;\" /></a></td></tr>\n",
       "<tr><td>1</td><td>Operation</td><td>operator:&nbsp;3<br>operands:&nbsp;4<br></td><td><a class=\"ProveItLink\" href=\"../ec4db38bb66ff89cb9c75ff66dfebc859d62acae0/expr.ipynb\"><img src=\"data:image/png;base64,iVBORw0KGgoAAAANSUhEUgAAAGMAAAAVBAMAAACgbk16AAAAMFBMVEX////c3NwiIiJERESqqqqY\n",
       "mJh2dnZmZmYQEBDu7u4yMjJUVFTMzMyIiIi6uroAAAAs73DqAAAAAXRSTlMAQObYZgAAATVJREFU\n",
       "OMtjYCAD8F3AJROHS+I0A8P0uzXYZNgP4NCykoFBj2ESVtkF2HXwXmDgVWDghcpORJELw66FYwID\n",
       "0wYGvo8Qni+K3AzsWl4xMPAXMPB8waaF2QGrljIGBvkEBp6/qFoY9+Y1MjCwFaAphggvhWj5hqrl\n",
       "hQDzBwYGFrAPq1aBwGqEcB82LYxfGdgNgFHWgGYJRPgfNodxf2BgAsYwzwdULVDhfxDvf4W4QAPi\n",
       "An4DhvkHMLVAhVsYQIHMghrI8hcY/BkmQB1WpAQCyghhUwZQVLIpoGiZ78Cwi+UAAyta9EOF04FM\n",
       "FYYZB1C0cAWwqLNhBjJU+BGQOT13DwNqiO29d/geUMkD9GgBC3MIIAsSlWBYE5B5b1HkcnEnfhyA\n",
       "E0fiZ5DGqYVbAIcEI86MfAe7MAABcVs5SUEBSwAAAABJRU5ErkJggg==\n",
       "\" style=\"display:inline;vertical-align:middle;\" /></a></td></tr>\n",
       "<tr><td>2</td><td>ExprTuple</td><td>5</td><td><a class=\"ProveItLink\" href=\"../afead37f272fc9265378b5f88330236b423dfc0e0/expr.ipynb\"><img src=\"data:image/png;base64,iVBORw0KGgoAAAANSUhEUgAAAD8AAAAVBAMAAAADRiu8AAAAMFBMVEX////c3NwiIiJERESqqqqY\n",
       "mJh2dnZmZmYQEBDu7u4yMjJUVFTMzMyIiIi6uroAAAAs73DqAAAAAXRSTlMAQObYZgAAAUJJREFU\n",
       "KM9jYCAI+C7glosDEaexSvFqrW8yZ2A/AGSuxCbP8/4BZ/5tBoYFQKVYbQjYysDA8puBIYyBgWMC\n",
       "kjjnLSUloCYG1gkNQLKagWEGA8MrZI2nIiE0O+MGIDmXgYHZgaEMyGLcm9cIEme0hCqczpcAYbAV\n",
       "MCwFUi8EmD+AuMwCUAXHWAIgDJYFDH1AjV8Z2A1A3Mkwq47xQRXwNTD8Y2Dg/sDABPbLCyUliCMn\n",
       "80Ct4PkAUsBvwDD/AEqYcU3YAFfQwsAgf4HBnwHk20kwBawJIAWcYCtMGRjmOzDsYgEZwR0AU2H6\n",
       "Fkg8msDAuoAhHWhgAIs6Gzic9GAKuDff5HxsCfbmI1Aw3Dt8DywuVQNTcVz/xz6QYx4wcAggB6X3\n",
       "IrAv4GAGyD34EksuruiGRR7IOGk8CrhB9jPiSXJ3GBgAGSxKxqwipJkAAAAASUVORK5CYII=\n",
       "\" style=\"display:inline;vertical-align:middle;\" /></a></td></tr>\n",
       "<tr><td>3</td><td>Literal</td><td></td><td><a class=\"ProveItLink\" href=\"../../../../logic/equality/__pv_it/2fb26078095930560931daa0500ce419a39ea6cd0/expr.ipynb\"><img src=\"data:image/png;base64,iVBORw0KGgoAAAANSUhEUgAAAA4AAAAFBAMAAACHocAhAAAAFVBMVEX///9EREQiIiJUVFQyMjJm\n",
       "ZmYAAADubVkoAAAAAXRSTlMAQObYZgAAABRJREFUCNdjCHEBAWcGXCBICQQUAUpuAwlgGKrkAAAA\n",
       "AElFTkSuQmCC\n",
       "\" style=\"display:inline;vertical-align:middle;\" /></a></td></tr>\n",
       "<tr><td>4</td><td>ExprTuple</td><td>6, 13</td><td><a class=\"ProveItLink\" href=\"../f108b588bc2ac2084011a96eab232fc0ae3a5ca80/expr.ipynb\"><img src=\"data:image/png;base64,iVBORw0KGgoAAAANSUhEUgAAAE8AAAAVBAMAAAD1D64kAAAAMFBMVEX////c3NwiIiJERESqqqqY\n",
       "mJh2dnZmZmYQEBDu7u4yMjJUVFTMzMyIiIi6uroAAAAs73DqAAAAAXRSTlMAQObYZgAAATJJREFU\n",
       "KM+Nkz9Lw0AYh5+2afovSbs7tIOgk3Rx7xcQOzlKN6dKJwdxUHCW6tJuzeJgXJzFQsDRJR9AizqJ\n",
       "IKRg3RTviA130MTecDx574HL/d47WHo4wf/OrpweYPB0lC4WfDFdwQYXfrrpgh1gN7DdqHCeIO5A\n",
       "sU/2BmcaFbYSxCG8Q7WH9Zku5locQL2D9a2LmfH+iUpmj8tI/NLFt1ouVMlwOVskZmYUmio5x/ws\n",
       "2roSkg1UskIpysPMRPHQ89Y971pQtckoSvaPhHiKjMfQ46kHbNNXSGy9iQzcbGjiqMWt4ZdiIu+y\n",
       "J75WGfqaWG4bayajxpxkPK+iPujeoZ96PLmfMJzOifIzxZraAb0zL2oL8x116UMT2zF1o2uWNGKx\n",
       "JC/XSqJnx1SR/5dZ4ik8wi9Pelli6MDk9AAAAABJRU5ErkJggg==\n",
       "\" style=\"display:inline;vertical-align:middle;\" /></a></td></tr>\n",
       "<tr><td>5</td><td>Operation</td><td>operator:&nbsp;7<br>operands:&nbsp;8<br></td><td><a class=\"ProveItLink\" href=\"../cd457d59bfd8582be7220a7500a0989802bcb0120/expr.ipynb\"><img src=\"data:image/png;base64,iVBORw0KGgoAAAANSUhEUgAAADMAAAAPBAMAAAC7N+rPAAAAMFBMVEX///8yMjKqqqrMzMzu7u4i\n",
       "IiJmZmaYmJhEREQQEBC6urp2dnaIiIhUVFTc3NwAAAD87Fq/AAAAAXRSTlMAQObYZgAAANRJREFU\n",
       "GNNjYMACeALlp7Zhk2BgXr+AZf9ZrFIF1xkYmP4ii7AcDA0VANLsDhOAZC6ylGEJhGbjuwAkfYCY\n",
       "786ueSARvhaoEjeuDVDWygccH0A0xwOogDVTAYTB952BrQHE8IAZbM0FleL9wMB6AKw7NBTiDA9m\n",
       "qIH8DQz+BiCGLUwXo8MFCOP9AQZ9BgcgwxUmxb4BJMXCwOCvwHCRCaSNtwAm174GSCx1YGAsYArj\n",
       "Bvs4CibFe+MIy4oWkLdOWZwCizxMhsmZxf+8hRp2uqJgF8IAAH82L/mC9qalAAAAAElFTkSuQmCC\n",
       "\" style=\"display:inline;vertical-align:middle;\" /></a></td></tr>\n",
       "<tr><td>6</td><td>Operation</td><td>operator:&nbsp;9<br>operands:&nbsp;10<br></td><td><a class=\"ProveItLink\" href=\"../d9335ebee10f69fb9dd7e42f15ab82a4a9e219bc0/expr.ipynb\"><img src=\"data:image/png;base64,iVBORw0KGgoAAAANSUhEUgAAAC8AAAAQBAMAAAB0JTvnAAAAMFBMVEX///9EREQQEBCYmJh2dnaq\n",
       "qqrc3NxUVFQyMjK6uroiIiLMzMyIiIhmZmbu7u4AAADSWfX9AAAAAXRSTlMAQObYZgAAAKJJREFU\n",
       "GNNjYHh75jYDVrCS4dUGbOI8Cxh4GiDMZygSXAUMnN8gzBgUCf4LDNxfsUnkOzBw/0GVYKvxVINI\n",
       "fEGVmJTA+AGbBNtnBl4BbEaxf2DgOgCx/DOQe6OjY1FHRzvIOQIM7zeAncuK6tz8AwzxDA9AHmRZ\n",
       "gCLxPoChghWoZSnDow0oEhwGrGtZgPRbn2oGVFfVnNx4EsWvMQw4wBxkDgCPYTJKCspNGgAAAABJ\n",
       "RU5ErkJggg==\n",
       "\" style=\"display:inline;vertical-align:middle;\" /></a></td></tr>\n",
       "<tr><td>7</td><td>Literal</td><td></td><td><a class=\"ProveItLink\" href=\"../../../../logic/set_theory/membership/__pv_it/088cbc857536a28d4119ad9639a84270ccb0545d0/expr.ipynb\"><img src=\"data:image/png;base64,iVBORw0KGgoAAAANSUhEUgAAAAwAAAAMBAMAAACkW0HUAAAALVBMVEX///+qqqpmZmZUVFQQEBC6\n",
       "urpERETc3NyYmJjMzMwiIiIyMjKIiIju7u4AAACYsrA9AAAAAXRSTlMAQObYZgAAADxJREFUCNdj\n",
       "YOA9vWrVBgaG2b0MQMCeCyIZ2ArA1DUwyRCyahVIyWQI7xaEYm4AU7xLIdxqTQgtvGvVBgCkcQ7e\n",
       "geM/tQAAAABJRU5ErkJggg==\n",
       "\" style=\"display:inline;vertical-align:middle;\" /></a></td></tr>\n",
       "<tr><td>8</td><td>ExprTuple</td><td>13, 11</td><td><a class=\"ProveItLink\" href=\"../4d7c0ad813ab3197c922864bf572a2de9c4f2e7d0/expr.ipynb\"><img src=\"data:image/png;base64,iVBORw0KGgoAAAANSUhEUgAAAC8AAAAVBAMAAAAk6KpUAAAAMFBMVEX////c3NwiIiJERESqqqqY\n",
       "mJh2dnZmZmYQEBDu7u4yMjJUVFTMzMyIiIi6uroAAAAs73DqAAAAAXRSTlMAQObYZgAAASFJREFU\n",
       "KM9jYMAJ+C5gisWBiNMoQrxa65vMGdgPAJkrkcV53j/gzL/NwLAAqATFpICtDAwsvxkYwhgYOCYg\n",
       "ibNOaACS1QwMMxgYXiFrYGfcACTnMjAwOzCUAVmMe/MawRLT+RIgKtgKGJYCqRcCzB/A/GMsARAJ\n",
       "lgUMfUANXxnYDSASfFAJvgaGfwwM3B8YmCBum8wDNYrnA0iC34Bh/gEwn2vCBrhECwOD/AUGfwaw\n",
       "q1kTQBKcYKNMGRjmOzDsYjnACZIxfQskHk1gYF3AkA40IIBFnY1hvgJQjHvzTc7HlmDnPgJ5497h\n",
       "ewwzPoK0HNf/sQ9k2QMGDgGYtx8iBcEMkH3wAESSyEUOdiQJTmCwM0jDoghJAzfIfEYsUXuHgQEA\n",
       "M61El67l9nMAAAAASUVORK5CYII=\n",
       "\" style=\"display:inline;vertical-align:middle;\" /></a></td></tr>\n",
       "<tr><td>9</td><td>Literal</td><td></td><td><a class=\"ProveItLink\" href=\"../3e6688136fa3c7aefbebe51301b7c3ebf0b69c440/expr.ipynb\"><img src=\"data:image/png;base64,iVBORw0KGgoAAAANSUhEUgAAAA4AAAAOBAMAAADtZjDiAAAAJFBMVEX///+6urpUVFQQEBAiIiIy\n",
       "MjJmZmaIiIiqqqrc3Nzu7u4AAACgHpL+AAAAAXRSTlMAQObYZgAAAB5JREFUCNdjYGBgWMkAAe2k\n",
       "0Kmhoc6hoUGk6BMHYgAHOwjcado9fwAAAABJRU5ErkJggg==\n",
       "\" style=\"display:inline;vertical-align:middle;\" /></a></td></tr>\n",
       "<tr><td>10</td><td>ExprTuple</td><td>12, 13</td><td><a class=\"ProveItLink\" href=\"../c29f24b52f5988bbe7662618b547266c6b4a34780/expr.ipynb\"><img src=\"data:image/png;base64,iVBORw0KGgoAAAANSUhEUgAAACsAAAAVBAMAAAAtAwouAAAAMFBMVEX////c3NwiIiJERESqqqqY\n",
       "mJh2dnZmZmYQEBDu7u4yMjJUVFTMzMyIiIi6uroAAAAs73DqAAAAAXRSTlMAQObYZgAAAQhJREFU\n",
       "GNN1kTFPAkEQhb+Du4OTO7jeAgoTO0Njzz/QitLQUWGorCw0sVZiAx3XWNhZG002sbS5HyDEWBmr\n",
       "g4Cdxp1bDBuMW0zmfZvMvjcL/5xqukmOpDzDcHJq45LS5Rb2uFY2TyBKiRpEiY3bUB5QuKM6s/EI\n",
       "PqDWJ1zYuNjiBOodwi8DnMfjc/D73Bj8afB7XMzATbi0sbOk1NRRzvi2h1QyCjpdmAmWJ5c5rjUZ\n",
       "qxxfIAZdY7CecsBAhuwjcfyGVjBuce8qvISuVjuMVDDXzdahu+vnBt+0GvYeCK5isT19murbV8rx\n",
       "74JjO7zXWfXeOnzPLHYDB7LO7ZVYf1JFxjl/Pu0FfgDZdz/J8XC74AAAAABJRU5ErkJggg==\n",
       "\" style=\"display:inline;vertical-align:middle;\" /></a></td></tr>\n",
       "<tr><td>11</td><td>Literal</td><td></td><td><a class=\"ProveItLink\" href=\"../../../sets/complex/__pv_it/c357845f93a5a2d9f649129d299e7ec28dda4b960/expr.ipynb\"><img src=\"data:image/png;base64,iVBORw0KGgoAAAANSUhEUgAAAA8AAAAOBAMAAAACpFvcAAAAMFBMVEX////c3NyqqqqYmJhUVFR2\n",
       "dnbu7u66urrMzMxmZmZEREQQEBAyMjIiIiKIiIgAAAB7fvZ0AAAAAXRSTlMAQObYZgAAAGVJREFU\n",
       "CNdjYGDgu3N+70oGBgaO+gK2+CdAhoEzAwPTFwYG5oQNQN4UBgZORgcgI4+BIZM9gAEMWpkMoAx2\n",
       "KCOLAyrFk+AAYTAHgBhsQLy4DkjUJjAwsHg9Y6taBpLsvP/bnYEBACkBFGQfBv8RAAAAAElFTkSu\n",
       "QmCC\n",
       "\" style=\"display:inline;vertical-align:middle;\" /></a></td></tr>\n",
       "<tr><td>12</td><td>Literal</td><td></td><td><a class=\"ProveItLink\" href=\"../../../numeral/__pv_it/ec23fc7a1b4222a5f4948b495002b97d6fa18c3c0/expr.ipynb\"><img src=\"data:image/png;base64,iVBORw0KGgoAAAANSUhEUgAAAAoAAAAOBAMAAADkjZCYAAAALVBMVEX///8QEBCYmJh2dnaqqqrc\n",
       "3NxUVFQyMjK6uroiIiLMzMyIiIhmZmbu7u4AAAAZjyHdAAAAAXRSTlMAQObYZgAAAEpJREFUCNdj\n",
       "YLiz+xQDA8MMhpsLGLgnMHAXMHAmMHA8ZeA7wMD1hCHOgIHrNZh8jES+Bss+AqlkeQrSxTyBgWEK\n",
       "w8UFDAx3rLMYAMCjFldHSx/9AAAAAElFTkSuQmCC\n",
       "\" style=\"display:inline;vertical-align:middle;\" /></a></td></tr>\n",
       "<tr><td>13</td><td>Variable</td><td></td><td><a class=\"ProveItLink\" href=\"../../../../__pv_it/07527342713064c87612d00d8557c53d53d5324a0/expr.ipynb\"><img src=\"data:image/png;base64,iVBORw0KGgoAAAANSUhEUgAAAAsAAAAJBAMAAAAWSsseAAAAMFBMVEX///8yMjKqqqrMzMzu7u4i\n",
       "IiJmZmaYmJhEREQQEBC6urp2dnaIiIhUVFTc3NwAAAD87Fq/AAAAAXRSTlMAQObYZgAAAEhJREFU\n",
       "CNdjYOC7s2seAwPDygccHxgY+L4zsDUwMPB+YGA9wMDA38Dgb8DA8P4Agz6DA4O/AsNFJgMGxgKm\n",
       "MG6gyjunLE4xAAAZTBA5TB6DCwAAAABJRU5ErkJggg==\n",
       "\" style=\"display:inline;vertical-align:middle;\" /></a></td></tr>\n",
       "</table>\n"
      ],
      "text/plain": [
       "0. a -> ((0 + a) = a) | a in Complexes\n",
       "   core type: Lambda\n",
       "   parameter: 13\n",
       "   body: 1\n",
       "   conditions: 2\\n1. (0 + a) = a\n",
       "   core type: Operation\n",
       "   operator: 3\n",
       "   operands: 4\n",
       "2. (a in Complexes)\n",
       "   core type: ExprTuple\n",
       "   sub-expressions: 5\n",
       "3. =\n",
       "   core type: Literal\n",
       "   sub-expressions: \n",
       "4. (0 + a , a)\n",
       "   core type: ExprTuple\n",
       "   sub-expressions: 6, 13\n",
       "5. a in Complexes\n",
       "   core type: Operation\n",
       "   operator: 7\n",
       "   operands: 8\n",
       "6. 0 + a\n",
       "   core type: Operation\n",
       "   operator: 9\n",
       "   operands: 10\n",
       "7. in\n",
       "   core type: Literal\n",
       "   sub-expressions: \n",
       "8. (a , Complexes)\n",
       "   core type: ExprTuple\n",
       "   sub-expressions: 13, 11\n",
       "9. +\n",
       "   core type: Literal\n",
       "   sub-expressions: \n",
       "10. (0 , a)\n",
       "    core type: ExprTuple\n",
       "    sub-expressions: 12, 13\n",
       "11. Complexes\n",
       "    core type: Literal\n",
       "    sub-expressions: \n",
       "12. 0\n",
       "    core type: Literal\n",
       "    sub-expressions: \n",
       "13. a\n",
       "    core type: Variable\n",
       "    sub-expressions: "
      ]
     },
     "execution_count": 4,
     "metadata": {},
     "output_type": "execute_result"
    }
   ],
   "source": [
    "# display the expression information\n",
    "expr.exprInfo()"
   ]
  },
  {
   "cell_type": "code",
   "execution_count": null,
   "metadata": {},
   "outputs": [],
   "source": []
  }
 ],
 "metadata": {
  "kernelspec": {
   "display_name": "Python 3",
   "language": "python",
   "name": "python3"
  }
 },
 "nbformat": 4,
 "nbformat_minor": 0
}
