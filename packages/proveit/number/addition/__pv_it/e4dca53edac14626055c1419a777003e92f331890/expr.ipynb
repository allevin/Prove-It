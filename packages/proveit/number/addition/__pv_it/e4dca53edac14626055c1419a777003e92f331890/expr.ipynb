{
 "cells": [
  {
   "cell_type": "markdown",
   "metadata": {},
   "source": [
    "Expression of type <a class=\"ProveItLink\" href=\"../../../../../../doc/html/api/proveit.ExprTuple.html\">ExprTuple</a>\n",
    "=======================\n",
    "# from context <a class=\"ProveItLink\" href=\"../../_context_.ipynb\">proveit.number.addition</a>"
   ]
  },
  {
   "cell_type": "code",
   "execution_count": 1,
   "metadata": {},
   "outputs": [],
   "source": [
    "# import Expression classes needed to build the expression\n",
    "from proveit import ExprTuple\n",
    "from proveit._common_ import b\n",
    "from proveit.number import Complexes, Exp, five, one, three, two"
   ]
  },
  {
   "cell_type": "code",
   "execution_count": 2,
   "metadata": {},
   "outputs": [
    {
     "data": {
      "text/html": [
       "<strong id=\"expr\">expr:</strong> <a class=\"ProveItLink\" href=\"expr.ipynb\"><img src=\"data:image/png;base64,iVBORw0KGgoAAAANSUhEUgAAAJgAAAAcBAMAAABvzWvcAAAAMFBMVEX///+qqqp2dnYiIiJERESI\n",
       "iIhmZmYQEBDc3NyYmJgyMjLu7u5UVFTMzMy6uroAAACGxKilAAAAAXRSTlMAQObYZgAAArpJREFU\n",
       "SMetlU1oE0EUx/9Jmt0ku5vkJOjFEKEHT4uICCK0oAdRJFC0l4JB8aOKNHpVNAcRkR6ieBCFEkEE\n",
       "bZFFBLGI2YOilR5CD57EFD34cTAtKkZjEt/Mzkw2sZeQPNiZ33s7+8/MmzcTYAAWP/E0g0FZvPVX\n",
       "4rf+xWbyQIqR5fYvtkzNO0bzTv9iRw86CLO0LTCvl/xFl7sjkXygCGwnyPEpGq9s74UCsr2iv3xy\n",
       "v6Cl9Chw2qcz9uDX1ix91QAmAI0Qs0BMpk4BHtfFD7s4lPQoi2oGsbbW+yYe/XRjZTSBkgOdJs2W\n",
       "m0iK9wqeLQox00FohVNwFQkb0ZRasVkANrp6OVIDQgVUKKbTHlTlPihAWIjp52A2OQW4mJGTI27r\n",
       "1Ghu0AnTcrQRjJP7lZ5NcoACJRarQ2vKIC0To9LJTrMsZ5A+zKa5gjfUMZw7sOANUKDEyEIK5+gZ\n",
       "FmxkP/gLpI591N2n+A8kynyAhA6xikiTtZltzwYRtVLrfWJWA/eou0DZqEPnHyjoELuraJw27JMS\n",
       "++Kvtia2UUcJ0YpIsCJpg1+McitNp2BFLnNkySdmrEqxEFVQgWdHgl9sQv54GUO/22KYNTtnxhJ6\n",
       "hlfXlCPKbMrpEgtkcYVDqc7F5DJxnYuJ4ZEGXlC3ByzpZ2HAB54Yp7fATf5JoogQlectKTE0Q4US\n",
       "3yF2s4Yxb6vNpOaiZPvAE2MU2ZIeto3vLFJANeWVBvexuNt5vkvMjOqsSt1HevdyEnhS8wG0438m\n",
       "OYVarZZtXKQLEOuO3aH2IRPjvnWkdV5eIsEiLyo9L/zP6IY2xfNq23KdvrwhMjBp2urkFtANbYqq\n",
       "UDDT6Qsr5WHZ3hXUg9g81hS7Ae/UTotaUEcc/1P7Mn7d5QvbSc9VViK9XNvh8tq3OTs3gdRg/jwv\n",
       "8fbaYMROYbD2D7gyx+bzE18mAAAAAElFTkSuQmCC\n",
       "\" style=\"display:inline;vertical-align:middle;\" /></a><br>"
      ],
      "text/plain": [
       "expr: ((b , b , 1 , 2 , 3) , Complexes^{5})"
      ]
     },
     "execution_count": 2,
     "metadata": {},
     "output_type": "execute_result"
    }
   ],
   "source": [
    "# build up the expression from sub-expressions\n",
    "expr = ExprTuple([b, b, one, two, three], Exp(Complexes, five))"
   ]
  },
  {
   "cell_type": "code",
   "execution_count": 3,
   "metadata": {},
   "outputs": [
    {
     "name": "stdout",
     "output_type": "stream",
     "text": [
      "Passed sanity check: built 'expr' is the same as the stored Expression.\n"
     ]
    }
   ],
   "source": [
    "# check that the built expression is the same as the stored expression\n",
    "%check_expr"
   ]
  },
  {
   "cell_type": "code",
   "execution_count": 4,
   "metadata": {},
   "outputs": [
    {
     "data": {
      "text/html": [
       "<table><tr><th>&nbsp;</th><th>core type</th><th>sub-expressions</th><th>expression</th></tr>\n",
       "<tr><td>0</td><td>ExprTuple</td><td>1, 2</td><td><a class=\"ProveItLink\" href=\"expr.ipynb\"><img src=\"data:image/png;base64,iVBORw0KGgoAAAANSUhEUgAAAJgAAAAcBAMAAABvzWvcAAAAMFBMVEX///+qqqp2dnYiIiJERESI\n",
       "iIhmZmYQEBDc3NyYmJgyMjLu7u5UVFTMzMy6uroAAACGxKilAAAAAXRSTlMAQObYZgAAArpJREFU\n",
       "SMetlU1oE0EUx/9Jmt0ku5vkJOjFEKEHT4uICCK0oAdRJFC0l4JB8aOKNHpVNAcRkR6ieBCFEkEE\n",
       "bZFFBLGI2YOilR5CD57EFD34cTAtKkZjEt/Mzkw2sZeQPNiZ33s7+8/MmzcTYAAWP/E0g0FZvPVX\n",
       "4rf+xWbyQIqR5fYvtkzNO0bzTv9iRw86CLO0LTCvl/xFl7sjkXygCGwnyPEpGq9s74UCsr2iv3xy\n",
       "v6Cl9Chw2qcz9uDX1ix91QAmAI0Qs0BMpk4BHtfFD7s4lPQoi2oGsbbW+yYe/XRjZTSBkgOdJs2W\n",
       "m0iK9wqeLQox00FohVNwFQkb0ZRasVkANrp6OVIDQgVUKKbTHlTlPihAWIjp52A2OQW4mJGTI27r\n",
       "1Ghu0AnTcrQRjJP7lZ5NcoACJRarQ2vKIC0To9LJTrMsZ5A+zKa5gjfUMZw7sOANUKDEyEIK5+gZ\n",
       "FmxkP/gLpI591N2n+A8kynyAhA6xikiTtZltzwYRtVLrfWJWA/eou0DZqEPnHyjoELuraJw27JMS\n",
       "++Kvtia2UUcJ0YpIsCJpg1+McitNp2BFLnNkySdmrEqxEFVQgWdHgl9sQv54GUO/22KYNTtnxhJ6\n",
       "hlfXlCPKbMrpEgtkcYVDqc7F5DJxnYuJ4ZEGXlC3ByzpZ2HAB54Yp7fATf5JoogQlectKTE0Q4US\n",
       "3yF2s4Yxb6vNpOaiZPvAE2MU2ZIeto3vLFJANeWVBvexuNt5vkvMjOqsSt1HevdyEnhS8wG0438m\n",
       "OYVarZZtXKQLEOuO3aH2IRPjvnWkdV5eIsEiLyo9L/zP6IY2xfNq23KdvrwhMjBp2urkFtANbYqq\n",
       "UDDT6Qsr5WHZ3hXUg9g81hS7Ae/UTotaUEcc/1P7Mn7d5QvbSc9VViK9XNvh8tq3OTs3gdRg/jwv\n",
       "8fbaYMROYbD2D7gyx+bzE18mAAAAAElFTkSuQmCC\n",
       "\" style=\"display:inline;vertical-align:middle;\" /></a></td></tr>\n",
       "<tr><td>1</td><td>ExprTuple</td><td>3, 3, 4, 5, 6</td><td><a class=\"ProveItLink\" href=\"../4dade05c954880ffd8ac83010a7719cedc388a970/expr.ipynb\"><img src=\"data:image/png;base64,iVBORw0KGgoAAAANSUhEUgAAAGEAAAAVBAMAAACkm51HAAAAMFBMVEX////c3NwiIiJERESqqqqY\n",
       "mJh2dnZmZmYQEBDu7u4yMjJUVFTMzMyIiIi6uroAAAAs73DqAAAAAXRSTlMAQObYZgAAAaBJREFU\n",
       "OMuVkz1Lw1AUht9+maQfaZwcdMjkqourzT+wLo4iCu0kZtFClzqI4GIzuhkQEenSRRBE7KSDg12c\n",
       "VKqOLq0VhAo2nntzc0nbxWa4eXJzHvrenFNg/EtvjlG8ypZ7aJem/ywBiDkCpsqLPqQLGxaUBtE5\n",
       "kKyL1xK0nDAidbQsX4X+C7hAhkJlLVEYgHZ1I4yUg2iH05aFLrACqPSqHUSQgJYg9QCpPqclbhwB\n",
       "H/SwHtRJkEayB6UffCNKFbOwQ1h7ufD3JEiDrmgvdMoJG6eU+gvZBo8fwIDxsObfb2u0xF0c0tqD\n",
       "ynclDBgnAWSoVt8FhVRcZG22JSFsKPPSrTpId5gRtdHO88QBhI0ncZ8Bcnlm7PEuVBzRjoozZMRt\n",
       "TPIzeg4zKNUC2Gn3oSEEvsGlO2CZ0w8wZyDhokh9tZQ6js0QcEPrsimZLRRNTo/Qv/nXfacfvN6m\n",
       "Zn6GAKXqWV6rGnQ0z/NMTvFSmWYo+QrVEIHfMAy6MUo0JQnRAOQxDAmM0qY/7f83NJp2TIuGys7K\n",
       "uuYopVi8yDj/2mfgD+AGfvuJuQwnAAAAAElFTkSuQmCC\n",
       "\" style=\"display:inline;vertical-align:middle;\" /></a></td></tr>\n",
       "<tr><td>2</td><td>Operation</td><td>operator:&nbsp;7<br>operands:&nbsp;8<br></td><td><a class=\"ProveItLink\" href=\"../1d5ca85bb291b50723080d0d449bfc191044913a0/expr.ipynb\"><img src=\"data:image/png;base64,iVBORw0KGgoAAAANSUhEUgAAABcAAAAUBAMAAACUkLs9AAAAMFBMVEX////c3NyqqqqYmJhUVFR2\n",
       "dnbu7u66urrMzMxmZmZEREQQEBAyMjIiIiKIiIgAAAB7fvZ0AAAAAXRSTlMAQObYZgAAAJZJREFU\n",
       "GNNjYICCSjE7Bjio/++A4BQXItgM5Uhshsp30xAcQQYdEMV35/zelUA6v4GBgaO+gC3+CcMJBv4C\n",
       "BgYDZwYGpi8MOxjkBRiYEzYAlUxhCGN4wsDAyQiyLI+BNTKAgSGTPQBhZCuTARKHHYmTxYGkjCcB\n",
       "ybXMASAOG5S3uA5I1CZAOCxez9iqlsEUdt7/7Q5hAQDDzB+JAiNuCgAAAABJRU5ErkJggg==\n",
       "\" style=\"display:inline;vertical-align:middle;\" /></a></td></tr>\n",
       "<tr><td>3</td><td>Variable</td><td></td><td><a class=\"ProveItLink\" href=\"../../../../__pv_it/6840a4fa6c106149dc16a131294d0c5e44f1b0480/expr.ipynb\"><img src=\"data:image/png;base64,iVBORw0KGgoAAAANSUhEUgAAAAkAAAAOBAMAAAAPuiubAAAALVBMVEX///9mZmbMzMxERESYmJiI\n",
       "iIh2dna6urqqqqoyMjIiIiIQEBBUVFTu7u4AAAD9S1JeAAAAAXRSTlMAQObYZgAAAE1JREFUCNdj\n",
       "4D29gAEIOA+ASL4GEFl3AURmgQiGOaFHGBh4HzPwKTBwvGXgTmBgnMDAJ8DAJcBQ5wBSLncBJLWN\n",
       "gYGngRFoBO9REQYGAGrcDtUkVqASAAAAAElFTkSuQmCC\n",
       "\" style=\"display:inline;vertical-align:middle;\" /></a></td></tr>\n",
       "<tr><td>4</td><td>Literal</td><td></td><td><a class=\"ProveItLink\" href=\"../../../numeral/__pv_it/9be8badea4c35b9724062cecc501d17a3158d1d20/expr.ipynb\"><img src=\"data:image/png;base64,iVBORw0KGgoAAAANSUhEUgAAAAgAAAAPBAMAAAArJJMAAAAAHlBMVEX///+YmJgyMjIQEBBmZmaI\n",
       "iIhUVFTu7u5EREQAAAAw+MI4AAAAAXRSTlMAQObYZgAAACFJREFUCNdjYGBoZ2BgqJjOwFCWBiQY\n",
       "WEklWJwnOTKAAACjEQo8HvEr3AAAAABJRU5ErkJggg==\n",
       "\" style=\"display:inline;vertical-align:middle;\" /></a></td></tr>\n",
       "<tr><td>5</td><td>Literal</td><td></td><td><a class=\"ProveItLink\" href=\"../../../numeral/__pv_it/77d407a64829263cdc16415becd4c2293f77a4bf0/expr.ipynb\"><img src=\"data:image/png;base64,iVBORw0KGgoAAAANSUhEUgAAAAkAAAAOBAMAAAAPuiubAAAAMFBMVEX///+YmJh2dnbMzMwQEBAi\n",
       "IiLu7u6qqqqIiIhUVFS6urpEREQyMjJmZmbc3NwAAACOMKdoAAAAAXRSTlMAQObYZgAAAFBJREFU\n",
       "CNdj4Lt7egEDw0sGju8MDNMYGOIZGFwSGOYvYDifwHAfKAEUSQASzJ9ATJ4NIPI2iOCYACJrGfge\n",
       "MDBfYGB8wPBUSekqUPH//18ZAIliFhc3zESNAAAAAElFTkSuQmCC\n",
       "\" style=\"display:inline;vertical-align:middle;\" /></a></td></tr>\n",
       "<tr><td>6</td><td>Literal</td><td></td><td><a class=\"ProveItLink\" href=\"../../../numeral/__pv_it/9176d93c83afa2c995b614976e3cb49207102fa70/expr.ipynb\"><img src=\"data:image/png;base64,iVBORw0KGgoAAAANSUhEUgAAAAoAAAAOBAMAAADkjZCYAAAAMFBMVEX///+YmJju7u4QEBBUVFQy\n",
       "MjIiIiKIiIi6urpmZmbc3NyqqqpERER2dnbMzMwAAAB0GlNiAAAAAXRSTlMAQObYZgAAAE1JREFU\n",
       "CNdjYHh79zQDA9cEhv4CBt7fDPwJDNxgEgiAIkAQAsR8Vx1ATIbiBhDJ/ImB6wEDz0cG/U8gkj+A\n",
       "ge0XA7sAQ/8FBoadM6MZAEflFACalZ/OAAAAAElFTkSuQmCC\n",
       "\" style=\"display:inline;vertical-align:middle;\" /></a></td></tr>\n",
       "<tr><td>7</td><td>Literal</td><td></td><td><a class=\"ProveItLink\" href=\"../../../exponentiation/__pv_it/deb2bf23cbccdd6e6791e1b35b5b9794ce12dbd50/expr.ipynb\"><img src=\"data:image/png;base64,iVBORw0KGgoAAAANSUhEUgAAACgAAAASBAMAAADbMYGVAAAAMFBMVEX///8QEBAiIiKYmJjc3Nzu\n",
       "7u7MzMx2dnZmZma6urpERESqqqoyMjJUVFSIiIgAAAAoDOMTAAAAAXRSTlMAQObYZgAAAOBJREFU\n",
       "GNNjYGB4+//u3Tt/GNAASGAXmhjnPyDBgSbI/g1IxKEJ8nxgYGdgQRPkX8BgDKRY6q7s62OYvmze\n",
       "2wAgb/7ZO1+AVDiDkYEQQ0HTBr4DQF59AgOIKmB4z7CNbcNZBu6vQN55kEACQwDDLQYGVobfDHwg\n",
       "fb8YGBxYHwAZciD3fWXg+gB1JjvQcJZvQIXsCgz8F6DO9GBgMOH7wPCUgaeBwd4B7EwGNjUG7s9c\n",
       "AiwPgO5jkWRgiF3/9+5dfQUG1nWl5Y+B7pv+1gE9bBhqGLCAE1jEWH9jEbT5A3IwAC4sP/1L6Qlu\n",
       "AAAAAElFTkSuQmCC\n",
       "\" style=\"display:inline;vertical-align:middle;\" /></a></td></tr>\n",
       "<tr><td>8</td><td>ExprTuple</td><td>9, 10</td><td><a class=\"ProveItLink\" href=\"../7b5508e04b247401485fb3cbfb9e6c01a4389fb40/expr.ipynb\"><img src=\"data:image/png;base64,iVBORw0KGgoAAAANSUhEUgAAAC8AAAAVBAMAAAAk6KpUAAAAMFBMVEX////c3NwiIiJERESqqqqY\n",
       "mJh2dnZmZmYQEBDu7u4yMjJUVFTMzMyIiIi6uroAAAAs73DqAAAAAXRSTlMAQObYZgAAASRJREFU\n",
       "KM9jYMAJ+C5gisWBiNNAzKu1vskcIsYVyZjCwH4AyFrJwMDz/gFn/m2IBMf//wkMDAuAioEmBWxl\n",
       "YGD5DdVRnQMkw4AqJjCwTmgAsqshEtxgcgYDwysGBnbGDUD2XGQJZgeGMgaG6XwJCAdx3739gIGB\n",
       "rYBhKQPDMZYAhATzBM5/QBsXMPQBJfgCUHyxA+i5Bgag9GSeBBSJ/AMMPB9AElwTNiBEjYASD0AS\n",
       "LQwMrAkgCU6IRBMDQ70AyChTIMf0LZB4NAEsVcDAsAqodgFDOsiJm29yPrZkmK8AZIszsDSCnfsI\n",
       "pOy4/o99QO9+BDJ5yncLAK19wMAhgLD4IZw1A2QzQgLhnVxIsGNIcAKDnUEaLs6LCDCQ+YxYovYO\n",
       "AwMAlNdEY4sgu8kAAAAASUVORK5CYII=\n",
       "\" style=\"display:inline;vertical-align:middle;\" /></a></td></tr>\n",
       "<tr><td>9</td><td>Literal</td><td></td><td><a class=\"ProveItLink\" href=\"../../../sets/complex/__pv_it/c357845f93a5a2d9f649129d299e7ec28dda4b960/expr.ipynb\"><img src=\"data:image/png;base64,iVBORw0KGgoAAAANSUhEUgAAAA8AAAAOBAMAAAACpFvcAAAAMFBMVEX////c3NyqqqqYmJhUVFR2\n",
       "dnbu7u66urrMzMxmZmZEREQQEBAyMjIiIiKIiIgAAAB7fvZ0AAAAAXRSTlMAQObYZgAAAGVJREFU\n",
       "CNdjYGDgu3N+70oGBgaO+gK2+CdAhoEzAwPTFwYG5oQNQN4UBgZORgcgI4+BIZM9gAEMWpkMoAx2\n",
       "KCOLAyrFk+AAYTAHgBhsQLy4DkjUJjAwsHg9Y6taBpLsvP/bnYEBACkBFGQfBv8RAAAAAElFTkSu\n",
       "QmCC\n",
       "\" style=\"display:inline;vertical-align:middle;\" /></a></td></tr>\n",
       "<tr><td>10</td><td>Literal</td><td></td><td><a class=\"ProveItLink\" href=\"../../../numeral/__pv_it/aaeeaca7d86eb2b7cdc49e25c3108b81b52ec5400/expr.ipynb\"><img src=\"data:image/png;base64,iVBORw0KGgoAAAANSUhEUgAAAAkAAAAOBAMAAAAPuiubAAAAMFBMVEX///8iIiJERES6urqIiIjM\n",
       "zMxUVFRmZmYQEBCqqqp2dnbc3Nzu7u6YmJgyMjIAAADYGhJvAAAAAXRSTlMAQObYZgAAAE1JREFU\n",
       "CNdj4LvDvZKBgeP//wUMDHxlSxkYGNgYGBCki5sBAwPTAZ7PYG4GmFwfwKAIJA0YGhkY6jcwFDAw\n",
       "vGNg2M7A2c3AwFqetoEBAKS8EE1WXEJLAAAAAElFTkSuQmCC\n",
       "\" style=\"display:inline;vertical-align:middle;\" /></a></td></tr>\n",
       "</table>\n"
      ],
      "text/plain": [
       "0. ((b , b , 1 , 2 , 3) , Complexes^{5})\n",
       "   core type: ExprTuple\n",
       "   sub-expressions: 1, 2\n",
       "1. (b , b , 1 , 2 , 3)\n",
       "   core type: ExprTuple\n",
       "   sub-expressions: 3, 3, 4, 5, 6\n",
       "2. Complexes^{5}\n",
       "   core type: Operation\n",
       "   operator: 7\n",
       "   operands: 8\n",
       "3. b\n",
       "   core type: Variable\n",
       "   sub-expressions: \n",
       "4. 1\n",
       "   core type: Literal\n",
       "   sub-expressions: \n",
       "5. 2\n",
       "   core type: Literal\n",
       "   sub-expressions: \n",
       "6. 3\n",
       "   core type: Literal\n",
       "   sub-expressions: \n",
       "7. Exp\n",
       "   core type: Literal\n",
       "   sub-expressions: \n",
       "8. (Complexes , 5)\n",
       "   core type: ExprTuple\n",
       "   sub-expressions: 9, 10\n",
       "9. Complexes\n",
       "   core type: Literal\n",
       "   sub-expressions: \n",
       "10. 5\n",
       "    core type: Literal\n",
       "    sub-expressions: "
      ]
     },
     "execution_count": 4,
     "metadata": {},
     "output_type": "execute_result"
    }
   ],
   "source": [
    "# display the expression information\n",
    "expr.exprInfo()"
   ]
  },
  {
   "cell_type": "code",
   "execution_count": null,
   "metadata": {},
   "outputs": [],
   "source": []
  }
 ],
 "metadata": {
  "kernelspec": {
   "display_name": "Python 3",
   "language": "python",
   "name": "python3"
  }
 },
 "nbformat": 4,
 "nbformat_minor": 0
}
