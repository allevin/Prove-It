{
 "cells": [
  {
   "cell_type": "markdown",
   "metadata": {},
   "source": [
    "Expression of type <a class=\"ProveItLink\" href=\"../../../../../../doc/html/api/proveit.ExprTuple.html\">ExprTuple</a>\n",
    "=======================\n",
    "# from context <a class=\"ProveItLink\" href=\"../../_context_.ipynb\">proveit.number.addition</a>"
   ]
  },
  {
   "cell_type": "code",
   "execution_count": 1,
   "metadata": {},
   "outputs": [],
   "source": [
    "# import Expression classes needed to build the expression\n",
    "from proveit import ExprTuple\n",
    "from proveit._common_ import a\n",
    "from proveit.number import Add, Neg, zero"
   ]
  },
  {
   "cell_type": "code",
   "execution_count": 2,
   "metadata": {},
   "outputs": [
    {
     "data": {
      "text/html": [
       "<strong id=\"expr\">expr:</strong> <a class=\"ProveItLink\" href=\"expr.ipynb\"><img src=\"data:image/png;base64,iVBORw0KGgoAAAANSUhEUgAAAF8AAAAVBAMAAADSoS/MAAAAMFBMVEX////c3NwiIiJERESqqqqY\n",
       "mJh2dnZmZmYQEBDu7u4yMjJUVFTMzMyIiIi6uroAAAAs73DqAAAAAXRSTlMAQObYZgAAAWJJREFU\n",
       "OMuVkz9Iw0AUxr+0SdNrNGbvUHBxUKGLoxichWZylODipBSEboIFJxHt6Naj0MFMzoIYcHQwOCj4\n",
       "pwSnIoLBv4uKd4Uml1pI+obwcrzfve/ueweMHLqXvnaFfy7S1ZKtGxeqy7KjdEDGJzMABcaHKiLG\n",
       "4MoVcAssA/nGMED+t8008GLgEHhCOuALuDSRNVETFqXTjfoAULzu9tRJnwzwkKuiLQBdIxvEAb2O\n",
       "BYSADZliX2jwAbUcB0oWNkVA38Yv+2lN8vC1ABkvDpwBsxAkjQUc6MdEGU3ujOo4rV3HOWbpG8h3\n",
       "dGiLAzsRUPJQQUPsIP1ADkj/WisGlzQXAU0TJ7IrAuQdGl3qbcKMWwUUirUIKFjyVC5+hjYWqzZ5\n",
       "5aNhkj3wa30Ubeicd+JA8eF53icHzApSu2PNCz7yRrLTeljDRkOxkx+JEmbr6cY7BAjlMpOBsJ3G\n",
       "tUkjPNF74A/9TGPDPKQ++AAAAABJRU5ErkJggg==\n",
       "\" style=\"display:inline;vertical-align:middle;\" /></a><br>"
      ],
      "text/plain": [
       "expr: (-a + a , 0)"
      ]
     },
     "execution_count": 2,
     "metadata": {},
     "output_type": "execute_result"
    }
   ],
   "source": [
    "# build up the expression from sub-expressions\n",
    "expr = ExprTuple(Add(Neg(a), a), zero)"
   ]
  },
  {
   "cell_type": "code",
   "execution_count": 3,
   "metadata": {},
   "outputs": [
    {
     "name": "stdout",
     "output_type": "stream",
     "text": [
      "Passed sanity check: built 'expr' is the same as the stored Expression.\n"
     ]
    }
   ],
   "source": [
    "# check that the built expression is the same as the stored expression\n",
    "%check_expr"
   ]
  },
  {
   "cell_type": "code",
   "execution_count": 4,
   "metadata": {},
   "outputs": [
    {
     "data": {
      "text/html": [
       "<table><tr><th>&nbsp;</th><th>core type</th><th>sub-expressions</th><th>expression</th></tr>\n",
       "<tr><td>0</td><td>ExprTuple</td><td>1, 2</td><td><a class=\"ProveItLink\" href=\"expr.ipynb\"><img src=\"data:image/png;base64,iVBORw0KGgoAAAANSUhEUgAAAF8AAAAVBAMAAADSoS/MAAAAMFBMVEX////c3NwiIiJERESqqqqY\n",
       "mJh2dnZmZmYQEBDu7u4yMjJUVFTMzMyIiIi6uroAAAAs73DqAAAAAXRSTlMAQObYZgAAAWJJREFU\n",
       "OMuVkz9Iw0AUxr+0SdNrNGbvUHBxUKGLoxichWZylODipBSEboIFJxHt6Naj0MFMzoIYcHQwOCj4\n",
       "pwSnIoLBv4uKd4Uml1pI+obwcrzfve/ueweMHLqXvnaFfy7S1ZKtGxeqy7KjdEDGJzMABcaHKiLG\n",
       "4MoVcAssA/nGMED+t8008GLgEHhCOuALuDSRNVETFqXTjfoAULzu9tRJnwzwkKuiLQBdIxvEAb2O\n",
       "BYSADZliX2jwAbUcB0oWNkVA38Yv+2lN8vC1ABkvDpwBsxAkjQUc6MdEGU3ujOo4rV3HOWbpG8h3\n",
       "dGiLAzsRUPJQQUPsIP1ADkj/WisGlzQXAU0TJ7IrAuQdGl3qbcKMWwUUirUIKFjyVC5+hjYWqzZ5\n",
       "5aNhkj3wa30Ubeicd+JA8eF53icHzApSu2PNCz7yRrLTeljDRkOxkx+JEmbr6cY7BAjlMpOBsJ3G\n",
       "tUkjPNF74A/9TGPDPKQ++AAAAABJRU5ErkJggg==\n",
       "\" style=\"display:inline;vertical-align:middle;\" /></a></td></tr>\n",
       "<tr><td>1</td><td>Operation</td><td>operator:&nbsp;3<br>operands:&nbsp;4<br></td><td><a class=\"ProveItLink\" href=\"../ba5e42e216539a873479184f10ec5ed3cb65df7f0/expr.ipynb\"><img src=\"data:image/png;base64,iVBORw0KGgoAAAANSUhEUgAAAD4AAAAOBAMAAACFlbLaAAAAMFBMVEX///+qqqrMzMzu7u5mZmaY\n",
       "mJhEREQQEBB2dnaIiIhUVFS6uroiIiIyMjLc3NwAAAAxFEmoAAAAAXRSTlMAQObYZgAAAIBJREFU\n",
       "GNNjYMAEdgz4gSRZ8q9mbH+AKo8QAQLuOoZ8VP1IIkDwPoDBDVUeIvL2DAicZljPwHASVR5JBAi+\n",
       "MTB/AtG+d+8ev3v3FpIIGPD9ZGD8wIysH1mEgYH5IwPXBSFkeWQRILjKIOPQgGI/kgjIszM3ZW5A\n",
       "kUcSIS18dyKxAaz1MMf62pMLAAAAAElFTkSuQmCC\n",
       "\" style=\"display:inline;vertical-align:middle;\" /></a></td></tr>\n",
       "<tr><td>2</td><td>Literal</td><td></td><td><a class=\"ProveItLink\" href=\"../../../numeral/__pv_it/ec23fc7a1b4222a5f4948b495002b97d6fa18c3c0/expr.ipynb\"><img src=\"data:image/png;base64,iVBORw0KGgoAAAANSUhEUgAAAAoAAAAOBAMAAADkjZCYAAAALVBMVEX///8QEBCYmJh2dnaqqqrc\n",
       "3NxUVFQyMjK6uroiIiLMzMyIiIhmZmbu7u4AAAAZjyHdAAAAAXRSTlMAQObYZgAAAEpJREFUCNdj\n",
       "YLiz+xQDA8MMhpsLGLgnMHAXMHAmMHA8ZeA7wMD1hCHOgIHrNZh8jES+Bss+AqlkeQrSxTyBgWEK\n",
       "w8UFDAx3rLMYAMCjFldHSx/9AAAAAElFTkSuQmCC\n",
       "\" style=\"display:inline;vertical-align:middle;\" /></a></td></tr>\n",
       "<tr><td>3</td><td>Literal</td><td></td><td><a class=\"ProveItLink\" href=\"../3e6688136fa3c7aefbebe51301b7c3ebf0b69c440/expr.ipynb\"><img src=\"data:image/png;base64,iVBORw0KGgoAAAANSUhEUgAAAA4AAAAOBAMAAADtZjDiAAAAJFBMVEX///+6urpUVFQQEBAiIiIy\n",
       "MjJmZmaIiIiqqqrc3Nzu7u4AAACgHpL+AAAAAXRSTlMAQObYZgAAAB5JREFUCNdjYGBgWMkAAe2k\n",
       "0Kmhoc6hoUGk6BMHYgAHOwjcado9fwAAAABJRU5ErkJggg==\n",
       "\" style=\"display:inline;vertical-align:middle;\" /></a></td></tr>\n",
       "<tr><td>4</td><td>ExprTuple</td><td>5, 7</td><td><a class=\"ProveItLink\" href=\"../3ef5a3e909b34cf7b1d2b9890111664760aa63a70/expr.ipynb\"><img src=\"data:image/png;base64,iVBORw0KGgoAAAANSUhEUgAAADsAAAAVBAMAAAAKrYvGAAAAMFBMVEX////c3NwiIiJERESqqqqY\n",
       "mJh2dnZmZmYQEBDu7u4yMjJUVFTMzMyIiIi6uroAAAAs73DqAAAAAXRSTlMAQObYZgAAAN1JREFU\n",
       "KM9jYCAA+C7gkokDEadxamQ/ACRW4jZ4AQMD7wXc0mEMDBwTcEvPYGB4hcfVzA4MZUhcxr15jcgs\n",
       "tgKGpUjSLwSYPyCzWBYw9CFp/srAboDM4mtg+AfkLFICgQfcHxiYIP6Asng+gKRhgN+AYf4BZBZQ\n",
       "ugUhLX+BwZ9hAhILaLgpQnq+A8MulgOccBYD6wKGdIQ0VwCLOhvDfAUYC+SxR8jevnf4HsOMjzAW\n",
       "A9cDBg4B9LB6iByorAno0gFwVi62CIVLcwIjlEEaTZYXzuIG2cuIM8LvMDAAAF50PosVEU5qAAAA\n",
       "AElFTkSuQmCC\n",
       "\" style=\"display:inline;vertical-align:middle;\" /></a></td></tr>\n",
       "<tr><td>5</td><td>Operation</td><td>operator:&nbsp;6<br>operand:&nbsp;7<br></td><td><a class=\"ProveItLink\" href=\"../5bdd387ae2a10752c3ad16ba6b67c0e39d26b0ee0/expr.ipynb\"><img src=\"data:image/png;base64,iVBORw0KGgoAAAANSUhEUgAAABoAAAAJBAMAAADeJiHIAAAAMFBMVEX///+qqqrMzMzu7u5mZmaY\n",
       "mJhEREQQEBB2dnaIiIhUVFS6uroiIiIyMjLc3NwAAAAxFEmoAAAAAXRSTlMAQObYZgAAAExJREFU\n",
       "CNdjYICBVzO2P4BzuOsY8uEchvcBDG4MDG/PgMBphvUMDCcRct8YmD/BOXw/GRg/MMN4zB8ZuC4I\n",
       "wSWvMsg4NCCsm7kpcwMArzoXiK6Dv2MAAAAASUVORK5CYII=\n",
       "\" style=\"display:inline;vertical-align:middle;\" /></a></td></tr>\n",
       "<tr><td>6</td><td>Literal</td><td></td><td><a class=\"ProveItLink\" href=\"../../../negation/__pv_it/3fc7a08bb9735faa20ef8e175f6ea95511acc9c70/expr.ipynb\"><img src=\"data:image/png;base64,iVBORw0KGgoAAAANSUhEUgAAAA4AAAACBAMAAACapPCZAAAAElBMVEX///+6uroiIiIyMjLc3NwA\n",
       "AAA6l9OrAAAAAXRSTlMAQObYZgAAABBJREFUCNdjcFYCAUUGKAAADR4BD8/TF5gAAAAASUVORK5C\n",
       "YII=\n",
       "\" style=\"display:inline;vertical-align:middle;\" /></a></td></tr>\n",
       "<tr><td>7</td><td>Variable</td><td></td><td><a class=\"ProveItLink\" href=\"../../../../__pv_it/07527342713064c87612d00d8557c53d53d5324a0/expr.ipynb\"><img src=\"data:image/png;base64,iVBORw0KGgoAAAANSUhEUgAAAAsAAAAJBAMAAAAWSsseAAAAMFBMVEX///8yMjKqqqrMzMzu7u4i\n",
       "IiJmZmaYmJhEREQQEBC6urp2dnaIiIhUVFTc3NwAAAD87Fq/AAAAAXRSTlMAQObYZgAAAEhJREFU\n",
       "CNdjYOC7s2seAwPDygccHxgY+L4zsDUwMPB+YGA9wMDA38Dgb8DA8P4Agz6DA4O/AsNFJgMGxgKm\n",
       "MG6gyjunLE4xAAAZTBA5TB6DCwAAAABJRU5ErkJggg==\n",
       "\" style=\"display:inline;vertical-align:middle;\" /></a></td></tr>\n",
       "</table>\n"
      ],
      "text/plain": [
       "0. (-a + a , 0)\n",
       "   core type: ExprTuple\n",
       "   sub-expressions: 1, 2\n",
       "1. -a + a\n",
       "   core type: Operation\n",
       "   operator: 3\n",
       "   operands: 4\n",
       "2. 0\n",
       "   core type: Literal\n",
       "   sub-expressions: \n",
       "3. +\n",
       "   core type: Literal\n",
       "   sub-expressions: \n",
       "4. (-a , a)\n",
       "   core type: ExprTuple\n",
       "   sub-expressions: 5, 7\n",
       "5. -a\n",
       "   core type: Operation\n",
       "   operator: 6\n",
       "   operand: 7\n",
       "6. -\n",
       "   core type: Literal\n",
       "   sub-expressions: \n",
       "7. a\n",
       "   core type: Variable\n",
       "   sub-expressions: "
      ]
     },
     "execution_count": 4,
     "metadata": {},
     "output_type": "execute_result"
    }
   ],
   "source": [
    "# display the expression information\n",
    "expr.exprInfo()"
   ]
  },
  {
   "cell_type": "code",
   "execution_count": null,
   "metadata": {},
   "outputs": [],
   "source": []
  }
 ],
 "metadata": {
  "kernelspec": {
   "display_name": "Python 3",
   "language": "python",
   "name": "python3"
  }
 },
 "nbformat": 4,
 "nbformat_minor": 0
}
