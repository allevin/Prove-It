{
 "cells": [
  {
   "cell_type": "markdown",
   "metadata": {},
   "source": [
    "Expression of type <a class=\"ProveItLink\" href=\"../../../../../../doc/html/api/proveit.ExprTuple.html\">ExprTuple</a>\n",
    "=======================\n",
    "# from context <a class=\"ProveItLink\" href=\"../../_context_.ipynb\">proveit.number.addition</a>"
   ]
  },
  {
   "cell_type": "code",
   "execution_count": 1,
   "metadata": {},
   "outputs": [],
   "source": [
    "# import Expression classes needed to build the expression\n",
    "from proveit import ExprTuple\n",
    "from proveit._common_ import a, c\n",
    "from proveit.number import Complexes, Exp, four, six, three, two"
   ]
  },
  {
   "cell_type": "code",
   "execution_count": 2,
   "metadata": {},
   "outputs": [
    {
     "data": {
      "text/html": [
       "<strong id=\"expr\">expr:</strong> <a class=\"ProveItLink\" href=\"expr.ipynb\"><img src=\"data:image/png;base64,iVBORw0KGgoAAAANSUhEUgAAAK4AAAAcBAMAAAAKIJmjAAAAMFBMVEX///+qqqp2dnYiIiJERESI\n",
       "iIhmZmYQEBDc3NyYmJgyMjLu7u5UVFTMzMy6uroAAACGxKilAAAAAXRSTlMAQObYZgAAAt9JREFU\n",
       "SMe1Vk1oE0EU/rJtkk02PwVRUCguhfQgCEFUBBEi2IMgGiy1l4qLigdFqDfBUnMQEQkkiohUkIgi\n",
       "aFVCDxZ6MDmIqAQaevAkNuihKmhbtFoJSXwzO7O7TSKBkA5k55v3Xr558+bL2wAdHi8iaazHeBZc\n",
       "EuhHJ2kVQ9OhMxTMd5LX20OPDwzNZDvJm9p4LAF3nNBb+oTi7bH4SvWWeT0YBfYA6qiZ+NWzh4Vr\n",
       "rm+/jGpZo/MOPPjkz04jVcIyMAJ4DDJNQs3jRA93qwYWZfpdsRa8fht+rGJqJR8uYgXIZeGlo1A9\n",
       "All0mQJRlhGOitjhVrw+3UIB0u3WvL8HVconjXl2iUR/CYEqD3DZvOpEK15tVKK7Xnp48q58iL7s\n",
       "iWGYlt/oQGV4qjJG1kHxt+KFdRVGkm0Tx+1+0pdvCe9oedIsZlnGPBXzHYs3eXQhUY+mIseBfpm4\n",
       "8cmxW6iMQzQ9FhIRItgmVKDFJW/oIo7Uo+A4HgBbpHL0zQ7eYAWPaBrni4eWediUpQLJm0rjdD2a\n",
       "juMgsGDxfnXwqlXspokX1mPX0mtWpNfinQV2NUHskLIOsTnndS7bvCNyryK6/3KnbvH+glZpRE5e\n",
       "TAbW5svu6AKTl4Fr3JYrC15XoTA7xpWhrsC1pDUgNmQdcJPzil6jVvCKJqoT3tP1c3M4g65VEeCN\n",
       "QTOPFcj0MpuNQHv7gAnJ1n2PUgjtFbe7ikFwsag7+vqj2k9auNNY1DnivLkoF8wGw7TZ6DWw3dSZ\n",
       "GVwYyL48IPIl/S7S9JnEW6vVotplJs1NZ+7DRMrs7/T0KhPt0PeBErfZyBMZIpbnjJcHB0/VxmR7\n",
       "UzKgRgFvQuo5gQb0Bfi/1/wd2w7Zjqjh6I7u4bMbioXSTWwWUuJrHWLkEmBtmPpkm7wzaMp7S3SO\n",
       "pFjbrw0LudFos9GbOocY++hznemtzfeQu9i8K7N3hUvv+H+IK/x5o+O857Bu4x8w8sxrysa6rQAA\n",
       "AABJRU5ErkJggg==\n",
       "\" style=\"display:inline;vertical-align:middle;\" /></a><br>"
      ],
      "text/plain": [
       "expr: ((2 , 3 , 4 , a , a , c) , Complexes^{6})"
      ]
     },
     "execution_count": 2,
     "metadata": {},
     "output_type": "execute_result"
    }
   ],
   "source": [
    "# build up the expression from sub-expressions\n",
    "expr = ExprTuple([two, three, four, a, a, c], Exp(Complexes, six))"
   ]
  },
  {
   "cell_type": "code",
   "execution_count": 3,
   "metadata": {},
   "outputs": [
    {
     "name": "stdout",
     "output_type": "stream",
     "text": [
      "Passed sanity check: built 'expr' is the same as the stored Expression.\n"
     ]
    }
   ],
   "source": [
    "# check that the built expression is the same as the stored expression\n",
    "%check_expr"
   ]
  },
  {
   "cell_type": "code",
   "execution_count": 4,
   "metadata": {},
   "outputs": [
    {
     "data": {
      "text/html": [
       "<table><tr><th>&nbsp;</th><th>core type</th><th>sub-expressions</th><th>expression</th></tr>\n",
       "<tr><td>0</td><td>ExprTuple</td><td>1, 2</td><td><a class=\"ProveItLink\" href=\"expr.ipynb\"><img src=\"data:image/png;base64,iVBORw0KGgoAAAANSUhEUgAAAK4AAAAcBAMAAAAKIJmjAAAAMFBMVEX///+qqqp2dnYiIiJERESI\n",
       "iIhmZmYQEBDc3NyYmJgyMjLu7u5UVFTMzMy6uroAAACGxKilAAAAAXRSTlMAQObYZgAAAt9JREFU\n",
       "SMe1Vk1oE0EU/rJtkk02PwVRUCguhfQgCEFUBBEi2IMgGiy1l4qLigdFqDfBUnMQEQkkiohUkIgi\n",
       "aFVCDxZ6MDmIqAQaevAkNuihKmhbtFoJSXwzO7O7TSKBkA5k55v3Xr558+bL2wAdHi8iaazHeBZc\n",
       "EuhHJ2kVQ9OhMxTMd5LX20OPDwzNZDvJm9p4LAF3nNBb+oTi7bH4SvWWeT0YBfYA6qiZ+NWzh4Vr\n",
       "rm+/jGpZo/MOPPjkz04jVcIyMAJ4DDJNQs3jRA93qwYWZfpdsRa8fht+rGJqJR8uYgXIZeGlo1A9\n",
       "All0mQJRlhGOitjhVrw+3UIB0u3WvL8HVconjXl2iUR/CYEqD3DZvOpEK15tVKK7Xnp48q58iL7s\n",
       "iWGYlt/oQGV4qjJG1kHxt+KFdRVGkm0Tx+1+0pdvCe9oedIsZlnGPBXzHYs3eXQhUY+mIseBfpm4\n",
       "8cmxW6iMQzQ9FhIRItgmVKDFJW/oIo7Uo+A4HgBbpHL0zQ7eYAWPaBrni4eWediUpQLJm0rjdD2a\n",
       "juMgsGDxfnXwqlXspokX1mPX0mtWpNfinQV2NUHskLIOsTnndS7bvCNyryK6/3KnbvH+glZpRE5e\n",
       "TAbW5svu6AKTl4Fr3JYrC15XoTA7xpWhrsC1pDUgNmQdcJPzil6jVvCKJqoT3tP1c3M4g65VEeCN\n",
       "QTOPFcj0MpuNQHv7gAnJ1n2PUgjtFbe7ikFwsag7+vqj2k9auNNY1DnivLkoF8wGw7TZ6DWw3dSZ\n",
       "GVwYyL48IPIl/S7S9JnEW6vVotplJs1NZ+7DRMrs7/T0KhPt0PeBErfZyBMZIpbnjJcHB0/VxmR7\n",
       "UzKgRgFvQuo5gQb0Bfi/1/wd2w7Zjqjh6I7u4bMbioXSTWwWUuJrHWLkEmBtmPpkm7wzaMp7S3SO\n",
       "pFjbrw0LudFos9GbOocY++hznemtzfeQu9i8K7N3hUvv+H+IK/x5o+O857Bu4x8w8sxrysa6rQAA\n",
       "AABJRU5ErkJggg==\n",
       "\" style=\"display:inline;vertical-align:middle;\" /></a></td></tr>\n",
       "<tr><td>1</td><td>ExprTuple</td><td>3, 4, 5, 6, 6, 7</td><td><a class=\"ProveItLink\" href=\"../f739db1407e0ba1fcc06519ad3b0be66798daf7d0/expr.ipynb\"><img src=\"data:image/png;base64,iVBORw0KGgoAAAANSUhEUgAAAHgAAAAVBAMAAAB/IDdlAAAAMFBMVEX////c3NwiIiJERESqqqqY\n",
       "mJh2dnZmZmYQEBDu7u4yMjJUVFTMzMyIiIi6uroAAAAs73DqAAAAAXRSTlMAQObYZgAAAexJREFU\n",
       "OMullDtII1EUhv+Jk8ckJsbKQsFUWsmm0FINliJktrUaELTxBYILsoWCjQgxlQSbiGIhgmglGCSB\n",
       "BS0snEYRfFuJWERdXVzUeF9n0mUgDszkv/ec7855ZYBvXRG7Os57zR6HQMNUl9yoHRxIkLF2y4X+\n",
       "ze51aFu4kkwDIh9k88Rd4CAQthFKw1MU67EEnsh26gZ7LQTSCMwh9CnWyTKs9bvBxjTu2fvf4P+k\n",
       "8lHYvqAbjHZMygTfKBEq00+Ctb3RGbXXeHIXlWpx5BwYwppYHFlyc3+DYrIJvovWFFVUM+hWnUhh\n",
       "BehFSqxWKZRwSkUNBWsv8Ktjmk1MSJWx0cGOhUjWX85vIS1++ggOFeFRY5QH2hzFw5XwmSKbgG5T\n",
       "RG0RXBdHtiCtzzDeSUl4lj31cdQLpJRWsJ7L5efFC5ttJCGi0T6gFw2lRDV47DhgxRUO/4EfUUOe\n",
       "HoiDq2wCu3qBK+MvQst9wu+FjQjQz+oNrWVwKGbw6ThG5BXZGMFcBU291Sf31tAzbgm/HWCYt+qW\n",
       "NblUKsWMBdZC/ddUAplHUe78P5Mrbe/yz6Xca7x46LwWfv6RCxbAJgJRmi0SuEEl5fix8fRaNOeO\n",
       "2ayoHD+fzf+SVcJLPBOlnQ9KGJVU2W+bN63Kz1C4gC8dM4NU8319XQAAAABJRU5ErkJggg==\n",
       "\" style=\"display:inline;vertical-align:middle;\" /></a></td></tr>\n",
       "<tr><td>2</td><td>Operation</td><td>operator:&nbsp;8<br>operands:&nbsp;9<br></td><td><a class=\"ProveItLink\" href=\"../caa58a6d37528bfa4e8e607325cf0a3bdcd3bb190/expr.ipynb\"><img src=\"data:image/png;base64,iVBORw0KGgoAAAANSUhEUgAAABcAAAAUBAMAAACUkLs9AAAAMFBMVEX////c3NyqqqqYmJhUVFR2\n",
       "dnbu7u66urrMzMxmZmZEREQQEBAyMjIiIiKIiIgAAAB7fvZ0AAAAAXRSTlMAQObYZgAAAJpJREFU\n",
       "GNNjYIACtqmPGeCAp6EfwYlkSEVwNiGYDIyf3k2Eczi+MvSCaL475/euZPzOwK8AFKsvYIt/wvCD\n",
       "gf8BA4OBMwMD0xeGQwz8BQzMCRuASqcwqDDUMjBwMjoAOXkMzFOnMTBksgcgLGhlMkDisCNxsjiQ\n",
       "lPEkOCA4zAEgDhuUt7gOSNQmQDgsXs/YqpbBFHbe/+0OYQEA3N0ih75gypAAAAAASUVORK5CYII=\n",
       "\" style=\"display:inline;vertical-align:middle;\" /></a></td></tr>\n",
       "<tr><td>3</td><td>Literal</td><td></td><td><a class=\"ProveItLink\" href=\"../../../numeral/__pv_it/77d407a64829263cdc16415becd4c2293f77a4bf0/expr.ipynb\"><img src=\"data:image/png;base64,iVBORw0KGgoAAAANSUhEUgAAAAkAAAAOBAMAAAAPuiubAAAAMFBMVEX///+YmJh2dnbMzMwQEBAi\n",
       "IiLu7u6qqqqIiIhUVFS6urpEREQyMjJmZmbc3NwAAACOMKdoAAAAAXRSTlMAQObYZgAAAFBJREFU\n",
       "CNdj4Lt7egEDw0sGju8MDNMYGOIZGFwSGOYvYDifwHAfKAEUSQASzJ9ATJ4NIPI2iOCYACJrGfge\n",
       "MDBfYGB8wPBUSekqUPH//18ZAIliFhc3zESNAAAAAElFTkSuQmCC\n",
       "\" style=\"display:inline;vertical-align:middle;\" /></a></td></tr>\n",
       "<tr><td>4</td><td>Literal</td><td></td><td><a class=\"ProveItLink\" href=\"../../../numeral/__pv_it/9176d93c83afa2c995b614976e3cb49207102fa70/expr.ipynb\"><img src=\"data:image/png;base64,iVBORw0KGgoAAAANSUhEUgAAAAoAAAAOBAMAAADkjZCYAAAAMFBMVEX///+YmJju7u4QEBBUVFQy\n",
       "MjIiIiKIiIi6urpmZmbc3NyqqqpERER2dnbMzMwAAAB0GlNiAAAAAXRSTlMAQObYZgAAAE1JREFU\n",
       "CNdjYHh79zQDA9cEhv4CBt7fDPwJDNxgEgiAIkAQAsR8Vx1ATIbiBhDJ/ImB6wEDz0cG/U8gkj+A\n",
       "ge0XA7sAQ/8FBoadM6MZAEflFACalZ/OAAAAAElFTkSuQmCC\n",
       "\" style=\"display:inline;vertical-align:middle;\" /></a></td></tr>\n",
       "<tr><td>5</td><td>Literal</td><td></td><td><a class=\"ProveItLink\" href=\"../../../numeral/__pv_it/23412ce59ea7e77353d2f9225e02248e73651ca00/expr.ipynb\"><img src=\"data:image/png;base64,iVBORw0KGgoAAAANSUhEUgAAAAoAAAAPBAMAAAAv0UM9AAAALVBMVEX///9mZmaqqqru7u52dnYy\n",
       "MjKYmJjc3NwQEBCIiIhEREQiIiJUVFTMzMwAAACUDTcXAAAAAXRSTlMAQObYZgAAAD5JREFUCNdj\n",
       "YGBguMMAArtABGcXiCyLApEOIJKtAERaMoBIBxDJdAFEmjCASJ0zZ16cBCkF64KQPu/EwBwGACv6\n",
       "DSRgin9qAAAAAElFTkSuQmCC\n",
       "\" style=\"display:inline;vertical-align:middle;\" /></a></td></tr>\n",
       "<tr><td>6</td><td>Variable</td><td></td><td><a class=\"ProveItLink\" href=\"../../../../__pv_it/07527342713064c87612d00d8557c53d53d5324a0/expr.ipynb\"><img src=\"data:image/png;base64,iVBORw0KGgoAAAANSUhEUgAAAAsAAAAJBAMAAAAWSsseAAAAMFBMVEX///8yMjKqqqrMzMzu7u4i\n",
       "IiJmZmaYmJhEREQQEBC6urp2dnaIiIhUVFTc3NwAAAD87Fq/AAAAAXRSTlMAQObYZgAAAEhJREFU\n",
       "CNdjYOC7s2seAwPDygccHxgY+L4zsDUwMPB+YGA9wMDA38Dgb8DA8P4Agz6DA4O/AsNFJgMGxgKm\n",
       "MG6gyjunLE4xAAAZTBA5TB6DCwAAAABJRU5ErkJggg==\n",
       "\" style=\"display:inline;vertical-align:middle;\" /></a></td></tr>\n",
       "<tr><td>7</td><td>Variable</td><td></td><td><a class=\"ProveItLink\" href=\"../../../../__pv_it/cbdfda466482236edba0ce44ac7ef39cda0af7a40/expr.ipynb\"><img src=\"data:image/png;base64,iVBORw0KGgoAAAANSUhEUgAAAAkAAAAJBAMAAAASvxsjAAAALVBMVEX///9mZmbc3NxUVFSYmJhE\n",
       "REQiIiIyMjK6uroQEBDMzMyIiIh2dnbu7u4AAABgFDGoAAAAAXRSTlMAQObYZgAAADZJREFUCNdj\n",
       "YOA9s3sBA8PKBvYEBt7ZDKwODMwPGICALwBE6m0Asx0YGIDiAgw8QJUyu/cyAAAmuwmycZ8WfQAA\n",
       "AABJRU5ErkJggg==\n",
       "\" style=\"display:inline;vertical-align:middle;\" /></a></td></tr>\n",
       "<tr><td>8</td><td>Literal</td><td></td><td><a class=\"ProveItLink\" href=\"../../../exponentiation/__pv_it/deb2bf23cbccdd6e6791e1b35b5b9794ce12dbd50/expr.ipynb\"><img src=\"data:image/png;base64,iVBORw0KGgoAAAANSUhEUgAAACgAAAASBAMAAADbMYGVAAAAMFBMVEX///8QEBAiIiKYmJjc3Nzu\n",
       "7u7MzMx2dnZmZma6urpERESqqqoyMjJUVFSIiIgAAAAoDOMTAAAAAXRSTlMAQObYZgAAAOBJREFU\n",
       "GNNjYGB4+//u3Tt/GNAASGAXmhjnPyDBgSbI/g1IxKEJ8nxgYGdgQRPkX8BgDKRY6q7s62OYvmze\n",
       "2wAgb/7ZO1+AVDiDkYEQQ0HTBr4DQF59AgOIKmB4z7CNbcNZBu6vQN55kEACQwDDLQYGVobfDHwg\n",
       "fb8YGBxYHwAZciD3fWXg+gB1JjvQcJZvQIXsCgz8F6DO9GBgMOH7wPCUgaeBwd4B7EwGNjUG7s9c\n",
       "AiwPgO5jkWRgiF3/9+5dfQUG1nWl5Y+B7pv+1gE9bBhqGLCAE1jEWH9jEbT5A3IwAC4sP/1L6Qlu\n",
       "AAAAAElFTkSuQmCC\n",
       "\" style=\"display:inline;vertical-align:middle;\" /></a></td></tr>\n",
       "<tr><td>9</td><td>ExprTuple</td><td>10, 11</td><td><a class=\"ProveItLink\" href=\"../e291b8cc1d145060c3954e47279c1a346a2a8f2d0/expr.ipynb\"><img src=\"data:image/png;base64,iVBORw0KGgoAAAANSUhEUgAAAC8AAAAVBAMAAAAk6KpUAAAAMFBMVEX////c3NwiIiJERESqqqqY\n",
       "mJh2dnZmZmYQEBDu7u4yMjJUVFTMzMyIiIi6uroAAAAs73DqAAAAAXRSTlMAQObYZgAAASpJREFU\n",
       "KM91kb9Lw0AUxz/RxjY2De4uLi4iCEIRt/wHZnLUbC5KnbpkKaKrHAjaRcwiqItFcRUnHUToJqJD\n",
       "rZsg/phEQX2XkyRQPbjHu+/n7n3v3cG/w2v3anM6XMqsjB2uTP2Km/VFimeS7IP73HFqt0a3xjmC\n",
       "WDZLpeAECp8G9IUcwCyUFLZqiBIZMK90bMIjFK2W5NsG7CWx36cOW16YXejj6tqHgWV24bwQpLrz\n",
       "FjAqjjHrArwc+IaawmvwBRtumDsh/j7uiwaDqpXzENDWYBXsUAPHgMnkhJSqyqL6JKGrEjSTeNgx\n",
       "C7IoH984D9PsjOgOQmctuW5Xb7uYeD+Vdl91HkUdse1QGsqM79OsqZ0zkLWzZJ69Bzjy7AyneiXN\n",
       "yrq+9cfX3sEPlLVIbOnCRWQAAAAASUVORK5CYII=\n",
       "\" style=\"display:inline;vertical-align:middle;\" /></a></td></tr>\n",
       "<tr><td>10</td><td>Literal</td><td></td><td><a class=\"ProveItLink\" href=\"../../../sets/complex/__pv_it/c357845f93a5a2d9f649129d299e7ec28dda4b960/expr.ipynb\"><img src=\"data:image/png;base64,iVBORw0KGgoAAAANSUhEUgAAAA8AAAAOBAMAAAACpFvcAAAAMFBMVEX////c3NyqqqqYmJhUVFR2\n",
       "dnbu7u66urrMzMxmZmZEREQQEBAyMjIiIiKIiIgAAAB7fvZ0AAAAAXRSTlMAQObYZgAAAGVJREFU\n",
       "CNdjYGDgu3N+70oGBgaO+gK2+CdAhoEzAwPTFwYG5oQNQN4UBgZORgcgI4+BIZM9gAEMWpkMoAx2\n",
       "KCOLAyrFk+AAYTAHgBhsQLy4DkjUJjAwsHg9Y6taBpLsvP/bnYEBACkBFGQfBv8RAAAAAElFTkSu\n",
       "QmCC\n",
       "\" style=\"display:inline;vertical-align:middle;\" /></a></td></tr>\n",
       "<tr><td>11</td><td>Literal</td><td></td><td><a class=\"ProveItLink\" href=\"../../../numeral/__pv_it/09b499e53e24cf89c2513ba78b501f0314edaa680/expr.ipynb\"><img src=\"data:image/png;base64,iVBORw0KGgoAAAANSUhEUgAAAAoAAAAOBAMAAADkjZCYAAAAMFBMVEX///+6urpERESqqqqIiIgQ\n",
       "EBCYmJgyMjJUVFQiIiLc3NzMzMxmZmZ2dnbu7u4AAABf+mkYAAAAAXRSTlMAQObYZgAAAFNJREFU\n",
       "CNdjYOC7c3cDA8PKDRwTGBjmMrAXMLD9YwAC9gAQyV/tcpiB4f00Bs4EhvcfGHj/MbyfwMD2mYEf\n",
       "qOwLAxOYzQwWZ9BleJrAwMDT08gAANMyF0ZGTeKAAAAAAElFTkSuQmCC\n",
       "\" style=\"display:inline;vertical-align:middle;\" /></a></td></tr>\n",
       "</table>\n"
      ],
      "text/plain": [
       "0. ((2 , 3 , 4 , a , a , c) , Complexes^{6})\n",
       "   core type: ExprTuple\n",
       "   sub-expressions: 1, 2\n",
       "1. (2 , 3 , 4 , a , a , c)\n",
       "   core type: ExprTuple\n",
       "   sub-expressions: 3, 4, 5, 6, 6, 7\n",
       "2. Complexes^{6}\n",
       "   core type: Operation\n",
       "   operator: 8\n",
       "   operands: 9\n",
       "3. 2\n",
       "   core type: Literal\n",
       "   sub-expressions: \n",
       "4. 3\n",
       "   core type: Literal\n",
       "   sub-expressions: \n",
       "5. 4\n",
       "   core type: Literal\n",
       "   sub-expressions: \n",
       "6. a\n",
       "   core type: Variable\n",
       "   sub-expressions: \n",
       "7. c\n",
       "   core type: Variable\n",
       "   sub-expressions: \n",
       "8. Exp\n",
       "   core type: Literal\n",
       "   sub-expressions: \n",
       "9. (Complexes , 6)\n",
       "   core type: ExprTuple\n",
       "   sub-expressions: 10, 11\n",
       "10. Complexes\n",
       "    core type: Literal\n",
       "    sub-expressions: \n",
       "11. 6\n",
       "    core type: Literal\n",
       "    sub-expressions: "
      ]
     },
     "execution_count": 4,
     "metadata": {},
     "output_type": "execute_result"
    }
   ],
   "source": [
    "# display the expression information\n",
    "expr.exprInfo()"
   ]
  },
  {
   "cell_type": "code",
   "execution_count": null,
   "metadata": {},
   "outputs": [],
   "source": []
  }
 ],
 "metadata": {
  "kernelspec": {
   "display_name": "Python 3",
   "language": "python",
   "name": "python3"
  }
 },
 "nbformat": 4,
 "nbformat_minor": 0
}
