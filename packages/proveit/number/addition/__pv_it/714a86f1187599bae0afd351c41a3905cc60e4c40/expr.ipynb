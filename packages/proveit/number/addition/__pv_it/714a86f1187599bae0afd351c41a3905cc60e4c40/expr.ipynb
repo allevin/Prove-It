{
 "cells": [
  {
   "cell_type": "markdown",
   "metadata": {},
   "source": [
    "Expression of type <a class=\"ProveItLink\" href=\"../../../../../../doc/html/api/proveit.logic.InSet.html\">InSet</a>\n",
    "=======================\n",
    "# from context <a class=\"ProveItLink\" href=\"../../_context_.ipynb\">proveit.number.addition</a>"
   ]
  },
  {
   "cell_type": "code",
   "execution_count": 1,
   "metadata": {},
   "outputs": [],
   "source": [
    "# import Expression classes needed to build the expression\n",
    "from proveit._common_ import a, b\n",
    "from proveit.logic import InSet\n",
    "from proveit.number import Complexes, Exp, two"
   ]
  },
  {
   "cell_type": "code",
   "execution_count": 2,
   "metadata": {},
   "outputs": [
    {
     "data": {
      "text/html": [
       "<strong id=\"expr\">expr:</strong> <a class=\"ProveItLink\" href=\"expr.ipynb\"><img src=\"data:image/png;base64,iVBORw0KGgoAAAANSUhEUgAAAFwAAAAZBAMAAABOVFS0AAAAMFBMVEX////c3NwiIiJERESqqqqY\n",
       "mJh2dnZmZmYQEBDu7u4yMjJUVFTMzMyIiIi6uroAAAAs73DqAAAAAXRSTlMAQObYZgAAAcdJREFU\n",
       "OMtjYCAepFtPIEE1+wT2BSQoZxJg/EOCcg4Hzn8MpACWnwwMfBfQBFkf4FLOlcDAcBpZYHYTkKjB\n",
       "UHdp1Q/lAgaGbCBzJYrEapAh6KrP/WOY9ncDAyvQcF5Ut3wBuSYBzXXcAQwM/hsYnjGcYeBACXo+\n",
       "oGcYOBvAbM5bSkrggI7kAIX6Bh4Tl50Mr1AMYlMAkSZg9qlIqGCBNEjzBY7//z8wlAGZjHvzGqF+\n",
       "33sbaHE6iMloCVXNWfAMYd5SIH4hwPwBwptvwACMOS8Qk1kAqoInwRWhvA9ozlcGdgMIz38CQxtQ\n",
       "O4g5mQGu/ClCOTBeuT8wMEHDp4qB4TsDw3kQ84WSEsSrnAbHUJTzGzDMPwDhqTPwfYUqR0TfSm6E\n",
       "8hYGBvkLDP4ME6DBzv4T6phJcCVhYOUQBaZA/zkw7GI5wAni/WHgAMZRFIgJihsIYI4DOpVPE5JF\n",
       "gKEXwKLOxjAfFORbGKoZoAHJqQc3frfthHnGENMfgYL93uF7DDM+gpLYdZCZ68AyUvCkxlP0vxua\n",
       "TDlgwcvwEMaAJgIG70VKGLkNkZ7gbmW7gCeLrMRQPgtfjpKG0rxwkY34lDOiW817ALdiAImQbRWH\n",
       "lmvcAAAAAElFTkSuQmCC\n",
       "\" style=\"display:inline;vertical-align:middle;\" /></a><br>"
      ],
      "text/plain": [
       "expr: (a , b) in Complexes^{2}"
      ]
     },
     "execution_count": 2,
     "metadata": {},
     "output_type": "execute_result"
    }
   ],
   "source": [
    "# build up the expression from sub-expressions\n",
    "expr = InSet([a, b], Exp(Complexes, two))"
   ]
  },
  {
   "cell_type": "code",
   "execution_count": 3,
   "metadata": {},
   "outputs": [
    {
     "name": "stdout",
     "output_type": "stream",
     "text": [
      "Passed sanity check: built 'expr' is the same as the stored Expression.\n"
     ]
    }
   ],
   "source": [
    "# check that the built expression is the same as the stored expression\n",
    "%check_expr"
   ]
  },
  {
   "cell_type": "code",
   "execution_count": 4,
   "metadata": {},
   "outputs": [
    {
     "data": {
      "text/html": [
       "<table><tr><th>&nbsp;</th><th>core type</th><th>sub-expressions</th><th>expression</th></tr>\n",
       "<tr><td>0</td><td>Operation</td><td>operator:&nbsp;1<br>operands:&nbsp;2<br></td><td><a class=\"ProveItLink\" href=\"expr.ipynb\"><img src=\"data:image/png;base64,iVBORw0KGgoAAAANSUhEUgAAAFwAAAAZBAMAAABOVFS0AAAAMFBMVEX////c3NwiIiJERESqqqqY\n",
       "mJh2dnZmZmYQEBDu7u4yMjJUVFTMzMyIiIi6uroAAAAs73DqAAAAAXRSTlMAQObYZgAAAcdJREFU\n",
       "OMtjYCAepFtPIEE1+wT2BSQoZxJg/EOCcg4Hzn8MpACWnwwMfBfQBFkf4FLOlcDAcBpZYHYTkKjB\n",
       "UHdp1Q/lAgaGbCBzJYrEapAh6KrP/WOY9ncDAyvQcF5Ut3wBuSYBzXXcAQwM/hsYnjGcYeBACXo+\n",
       "oGcYOBvAbM5bSkrggI7kAIX6Bh4Tl50Mr1AMYlMAkSZg9qlIqGCBNEjzBY7//z8wlAGZjHvzGqF+\n",
       "33sbaHE6iMloCVXNWfAMYd5SIH4hwPwBwptvwACMOS8Qk1kAqoInwRWhvA9ozlcGdgMIz38CQxtQ\n",
       "O4g5mQGu/ClCOTBeuT8wMEHDp4qB4TsDw3kQ84WSEsSrnAbHUJTzGzDMPwDhqTPwfYUqR0TfSm6E\n",
       "8hYGBvkLDP4ME6DBzv4T6phJcCVhYOUQBaZA/zkw7GI5wAni/WHgAMZRFIgJihsIYI4DOpVPE5JF\n",
       "gKEXwKLOxjAfFORbGKoZoAHJqQc3frfthHnGENMfgYL93uF7DDM+gpLYdZCZ68AyUvCkxlP0vxua\n",
       "TDlgwcvwEMaAJgIG70VKGLkNkZ7gbmW7gCeLrMRQPgtfjpKG0rxwkY34lDOiW817ALdiAImQbRWH\n",
       "lmvcAAAAAElFTkSuQmCC\n",
       "\" style=\"display:inline;vertical-align:middle;\" /></a></td></tr>\n",
       "<tr><td>1</td><td>Literal</td><td></td><td><a class=\"ProveItLink\" href=\"../../../../logic/set_theory/membership/__pv_it/088cbc857536a28d4119ad9639a84270ccb0545d0/expr.ipynb\"><img src=\"data:image/png;base64,iVBORw0KGgoAAAANSUhEUgAAAAwAAAAMBAMAAACkW0HUAAAALVBMVEX///+qqqpmZmZUVFQQEBC6\n",
       "urpERETc3NyYmJjMzMwiIiIyMjKIiIju7u4AAACYsrA9AAAAAXRSTlMAQObYZgAAADxJREFUCNdj\n",
       "YOA9vWrVBgaG2b0MQMCeCyIZ2ArA1DUwyRCyahVIyWQI7xaEYm4AU7xLIdxqTQgtvGvVBgCkcQ7e\n",
       "geM/tQAAAABJRU5ErkJggg==\n",
       "\" style=\"display:inline;vertical-align:middle;\" /></a></td></tr>\n",
       "<tr><td>2</td><td>ExprTuple</td><td>3, 4</td><td><a class=\"ProveItLink\" href=\"../3380663a237310bdc82b7fbae797e225f1809d980/expr.ipynb\"><img src=\"data:image/png;base64,iVBORw0KGgoAAAANSUhEUgAAAGAAAAAcBAMAAABsVqexAAAAMFBMVEX///+qqqp2dnYiIiJERESI\n",
       "iIhmZmYQEBDc3NyYmJgyMjLu7u5UVFTMzMy6uroAAACGxKilAAAAAXRSTlMAQObYZgAAAidJREFU\n",
       "OMuVVE1IG1EQ/mJNdtPNRktPFsQ9eerBQ5VCESLoTTAo1ouHhXqqClIvgoI52IsEuoonBcmp4A+y\n",
       "eBFETAoVbCsoPVsVQWwPrZFqq4RNnNm/bBIP64Od92befMy8mW8W8LsaO3U8ZIX0UMo+/vEFeJQQ\n",
       "DSh8kjO+AEKtlMchnzb9phbIIRin/QsrZ2WX4ZNKwGNK6CUgjpSntTVKYthj6Fn+/0IFntOxn16v\n",
       "MrgkrVW2FNWjPNavMwjzi9M6BA7eWxL7knNS3OwiGtCQwSl+UK00HLNx3OsfzZGQRhx1QeAuZOS2\n",
       "J99oj6GPXVJeQFUTyzZHVZOMjwuFQpbCZfGV8Rw/2X2esKqx009JNNr+knpaGr2TXcghOoYuy5iO\n",
       "wQCe2S6yUucByAY+chfp4R80DFjGBh3vgHMX8MsDEPNooa2GAPtAs2V8C/yDVQxOKfbdA5AuXcAV\n",
       "JMMytiB6WwRgJVIaYdUkFsRrBLKS3YZQrpgSZk2A3Vli7GfaqjWOFUnVm3YDAlVtnhNgn+pFYlz0\n",
       "lV2lG/Rw5YkeS3iqKtJf0j5hCFZZ02ZH9jr07XY7AvXhgnF0kez93XEiTVIrtl5TlbFG38aNWac3\n",
       "hQmHvFUp1BzQPuY2JuGUw6TGzwqKxxHhLs+6THP5waMCrRyQTkBu8tLbBWziXsCczTLRGaC4c7PL\n",
       "Ilgxda30TfPhfdlF8ODesQ7ztAUU/z+nKVPO+AcM4uHrDjo7hMqR78+gAAAAAElFTkSuQmCC\n",
       "\" style=\"display:inline;vertical-align:middle;\" /></a></td></tr>\n",
       "<tr><td>3</td><td>ExprTuple</td><td>5, 6</td><td><a class=\"ProveItLink\" href=\"../359d2ffcad0b096b85ece3bdabdf3ac9ad97321c0/expr.ipynb\"><img src=\"data:image/png;base64,iVBORw0KGgoAAAANSUhEUgAAACkAAAAVBAMAAAAp9toTAAAAMFBMVEX////c3NwiIiJERESqqqqY\n",
       "mJh2dnZmZmYQEBDu7u4yMjJUVFTMzMyIiIi6uroAAAAs73DqAAAAAXRSTlMAQObYZgAAAQxJREFU\n",
       "GNNtkSFPw1AQx3/burWlbJ1HgMPO4PsNqEKSBYOC1IAFEoIklXOtQRDMDAkhWdIEidkHgAVQBLOS\n",
       "ZQJDuGv3km7hiXv/+72Xe/+7B/+vzngF7Gt4rgD3YQvsTNRt9d7aUEIK7aUCfiBhD5y4SqeaDeBr\n",
       "6aUDDY2AU9lqo+OLkt693kMr4kb0Z7eRlx5m+BlWyrVcnWP3Cmr94PTpnPMLXk69dGKn+BHruVK/\n",
       "R5IVtB4xDZVewuaYXeKF3bNYK+xAEvBoZa7SjCtophxKm6G13SKREXiBPSycfajdydOEwbc4G53o\n",
       "MN5wuqavdyOk42bfJKERR9VJGurKJNlYJG1z6mnN2uoPvcAf68w9OrA141UAAAAASUVORK5CYII=\n",
       "\" style=\"display:inline;vertical-align:middle;\" /></a></td></tr>\n",
       "<tr><td>4</td><td>Operation</td><td>operator:&nbsp;7<br>operands:&nbsp;8<br></td><td><a class=\"ProveItLink\" href=\"../e85e9ca78d1a4564103466d9cefc2e310cc417b30/expr.ipynb\"><img src=\"data:image/png;base64,iVBORw0KGgoAAAANSUhEUgAAABcAAAAUBAMAAACUkLs9AAAAMFBMVEX////c3NyqqqqYmJhUVFR2\n",
       "dnbu7u66urrMzMxmZmZEREQQEBAyMjIiIiKIiIgAAAB7fvZ0AAAAAXRSTlMAQObYZgAAAJRJREFU\n",
       "GNNjYIAC1lluDHAwjWEOgnORQb4BztnEkF+AkGLQT0DiHAURfHfO710JNM4ByOaoL2CLf8LAYAqS\n",
       "MHBmYGD6wsAewNHAwJywASgyhaFLSSWBgZMRpDaPYf///wwMmewBCANbmQyQOOxInCwOJGU8CQ4I\n",
       "DnMAiMMG5S2uAxK1UEeyeD1jq1oGU9h5/7c7hAUA0KsgFpNdq2UAAAAASUVORK5CYII=\n",
       "\" style=\"display:inline;vertical-align:middle;\" /></a></td></tr>\n",
       "<tr><td>5</td><td>Variable</td><td></td><td><a class=\"ProveItLink\" href=\"../../../../__pv_it/07527342713064c87612d00d8557c53d53d5324a0/expr.ipynb\"><img src=\"data:image/png;base64,iVBORw0KGgoAAAANSUhEUgAAAAsAAAAJBAMAAAAWSsseAAAAMFBMVEX///8yMjKqqqrMzMzu7u4i\n",
       "IiJmZmaYmJhEREQQEBC6urp2dnaIiIhUVFTc3NwAAAD87Fq/AAAAAXRSTlMAQObYZgAAAEhJREFU\n",
       "CNdjYOC7s2seAwPDygccHxgY+L4zsDUwMPB+YGA9wMDA38Dgb8DA8P4Agz6DA4O/AsNFJgMGxgKm\n",
       "MG6gyjunLE4xAAAZTBA5TB6DCwAAAABJRU5ErkJggg==\n",
       "\" style=\"display:inline;vertical-align:middle;\" /></a></td></tr>\n",
       "<tr><td>6</td><td>Variable</td><td></td><td><a class=\"ProveItLink\" href=\"../../../../__pv_it/6840a4fa6c106149dc16a131294d0c5e44f1b0480/expr.ipynb\"><img src=\"data:image/png;base64,iVBORw0KGgoAAAANSUhEUgAAAAkAAAAOBAMAAAAPuiubAAAALVBMVEX///9mZmbMzMxERESYmJiI\n",
       "iIh2dna6urqqqqoyMjIiIiIQEBBUVFTu7u4AAAD9S1JeAAAAAXRSTlMAQObYZgAAAE1JREFUCNdj\n",
       "4D29gAEIOA+ASL4GEFl3AURmgQiGOaFHGBh4HzPwKTBwvGXgTmBgnMDAJ8DAJcBQ5wBSLncBJLWN\n",
       "gYGngRFoBO9REQYGAGrcDtUkVqASAAAAAElFTkSuQmCC\n",
       "\" style=\"display:inline;vertical-align:middle;\" /></a></td></tr>\n",
       "<tr><td>7</td><td>Literal</td><td></td><td><a class=\"ProveItLink\" href=\"../../../exponentiation/__pv_it/deb2bf23cbccdd6e6791e1b35b5b9794ce12dbd50/expr.ipynb\"><img src=\"data:image/png;base64,iVBORw0KGgoAAAANSUhEUgAAACgAAAASBAMAAADbMYGVAAAAMFBMVEX///8QEBAiIiKYmJjc3Nzu\n",
       "7u7MzMx2dnZmZma6urpERESqqqoyMjJUVFSIiIgAAAAoDOMTAAAAAXRSTlMAQObYZgAAAOBJREFU\n",
       "GNNjYGB4+//u3Tt/GNAASGAXmhjnPyDBgSbI/g1IxKEJ8nxgYGdgQRPkX8BgDKRY6q7s62OYvmze\n",
       "2wAgb/7ZO1+AVDiDkYEQQ0HTBr4DQF59AgOIKmB4z7CNbcNZBu6vQN55kEACQwDDLQYGVobfDHwg\n",
       "fb8YGBxYHwAZciD3fWXg+gB1JjvQcJZvQIXsCgz8F6DO9GBgMOH7wPCUgaeBwd4B7EwGNjUG7s9c\n",
       "AiwPgO5jkWRgiF3/9+5dfQUG1nWl5Y+B7pv+1gE9bBhqGLCAE1jEWH9jEbT5A3IwAC4sP/1L6Qlu\n",
       "AAAAAElFTkSuQmCC\n",
       "\" style=\"display:inline;vertical-align:middle;\" /></a></td></tr>\n",
       "<tr><td>8</td><td>ExprTuple</td><td>9, 10</td><td><a class=\"ProveItLink\" href=\"../2dcb921ccddaae86d4720128269a83fb07af52bb0/expr.ipynb\"><img src=\"data:image/png;base64,iVBORw0KGgoAAAANSUhEUgAAAC8AAAAVBAMAAAAk6KpUAAAAMFBMVEX////c3NwiIiJERESqqqqY\n",
       "mJh2dnZmZmYQEBDu7u4yMjJUVFTMzMyIiIi6uroAAAAs73DqAAAAAXRSTlMAQObYZgAAASlJREFU\n",
       "KM91kT9Iw0AUh79gY5s2KcXVxdklLkXc3Fw7OUqnOolFQQcHizg4yYGDXcSAODg1IA4u2kkHF1fR\n",
       "IdZNEP8gIgjWdz1JGqoHd/zu9717794d/DuK14PenF6uZHrjrY1J41mrBxHZtqgjcJ8jZ/HWgFG8\n",
       "dwgkWDJVTiDzZcAp+DALOYWtGuKsGbClOI9owiNkrVCcPQNaivWIoWlWYLdYTd3JVwzXOYSLTKXf\n",
       "dz+kYsC2gGIK5CekuQbfsOOmUi3rUy8a5FXY53uhAZtgV7V2fsEMVkmnKosuP8nSUT3k1rFL2AHz\n",
       "sikc3zgPU+yPiR6p1ZbQ1+3osEv/8wyar7qJbvdNykbkSknd+1g1deUEJO0smGcfAE7Q+4C4g1gV\n",
       "dH7rj6+9gx9TyUZLshpvbQAAAABJRU5ErkJggg==\n",
       "\" style=\"display:inline;vertical-align:middle;\" /></a></td></tr>\n",
       "<tr><td>9</td><td>Literal</td><td></td><td><a class=\"ProveItLink\" href=\"../../../sets/complex/__pv_it/c357845f93a5a2d9f649129d299e7ec28dda4b960/expr.ipynb\"><img src=\"data:image/png;base64,iVBORw0KGgoAAAANSUhEUgAAAA8AAAAOBAMAAAACpFvcAAAAMFBMVEX////c3NyqqqqYmJhUVFR2\n",
       "dnbu7u66urrMzMxmZmZEREQQEBAyMjIiIiKIiIgAAAB7fvZ0AAAAAXRSTlMAQObYZgAAAGVJREFU\n",
       "CNdjYGDgu3N+70oGBgaO+gK2+CdAhoEzAwPTFwYG5oQNQN4UBgZORgcgI4+BIZM9gAEMWpkMoAx2\n",
       "KCOLAyrFk+AAYTAHgBhsQLy4DkjUJjAwsHg9Y6taBpLsvP/bnYEBACkBFGQfBv8RAAAAAElFTkSu\n",
       "QmCC\n",
       "\" style=\"display:inline;vertical-align:middle;\" /></a></td></tr>\n",
       "<tr><td>10</td><td>Literal</td><td></td><td><a class=\"ProveItLink\" href=\"../../../numeral/__pv_it/77d407a64829263cdc16415becd4c2293f77a4bf0/expr.ipynb\"><img src=\"data:image/png;base64,iVBORw0KGgoAAAANSUhEUgAAAAkAAAAOBAMAAAAPuiubAAAAMFBMVEX///+YmJh2dnbMzMwQEBAi\n",
       "IiLu7u6qqqqIiIhUVFS6urpEREQyMjJmZmbc3NwAAACOMKdoAAAAAXRSTlMAQObYZgAAAFBJREFU\n",
       "CNdj4Lt7egEDw0sGju8MDNMYGOIZGFwSGOYvYDifwHAfKAEUSQASzJ9ATJ4NIPI2iOCYACJrGfge\n",
       "MDBfYGB8wPBUSekqUPH//18ZAIliFhc3zESNAAAAAElFTkSuQmCC\n",
       "\" style=\"display:inline;vertical-align:middle;\" /></a></td></tr>\n",
       "</table>\n"
      ],
      "text/plain": [
       "0. (a , b) in Complexes^{2}\n",
       "   core type: Operation\n",
       "   operator: 1\n",
       "   operands: 2\n",
       "1. in\n",
       "   core type: Literal\n",
       "   sub-expressions: \n",
       "2. ((a , b) , Complexes^{2})\n",
       "   core type: ExprTuple\n",
       "   sub-expressions: 3, 4\n",
       "3. (a , b)\n",
       "   core type: ExprTuple\n",
       "   sub-expressions: 5, 6\n",
       "4. Complexes^{2}\n",
       "   core type: Operation\n",
       "   operator: 7\n",
       "   operands: 8\n",
       "5. a\n",
       "   core type: Variable\n",
       "   sub-expressions: \n",
       "6. b\n",
       "   core type: Variable\n",
       "   sub-expressions: \n",
       "7. Exp\n",
       "   core type: Literal\n",
       "   sub-expressions: \n",
       "8. (Complexes , 2)\n",
       "   core type: ExprTuple\n",
       "   sub-expressions: 9, 10\n",
       "9. Complexes\n",
       "   core type: Literal\n",
       "   sub-expressions: \n",
       "10. 2\n",
       "    core type: Literal\n",
       "    sub-expressions: "
      ]
     },
     "execution_count": 4,
     "metadata": {},
     "output_type": "execute_result"
    }
   ],
   "source": [
    "# display the expression information\n",
    "expr.exprInfo()"
   ]
  },
  {
   "cell_type": "code",
   "execution_count": null,
   "metadata": {},
   "outputs": [],
   "source": []
  }
 ],
 "metadata": {
  "kernelspec": {
   "display_name": "Python 3",
   "language": "python",
   "name": "python3"
  }
 },
 "nbformat": 4,
 "nbformat_minor": 0
}
