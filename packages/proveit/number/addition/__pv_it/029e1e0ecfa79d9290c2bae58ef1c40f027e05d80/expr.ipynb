{
 "cells": [
  {
   "cell_type": "markdown",
   "metadata": {},
   "source": [
    "Expression of type <a class=\"ProveItLink\" href=\"../../../../../../doc/html/api/proveit.ExprTuple.html\">ExprTuple</a>\n",
    "=======================\n",
    "# from context <a class=\"ProveItLink\" href=\"../../_context_.ipynb\">proveit.number.addition</a>"
   ]
  },
  {
   "cell_type": "code",
   "execution_count": 1,
   "metadata": {},
   "outputs": [],
   "source": [
    "# import Expression classes needed to build the expression\n",
    "from proveit import ExprTuple\n",
    "from proveit._common_ import c\n",
    "from proveit.number import Add, one, three, two"
   ]
  },
  {
   "cell_type": "code",
   "execution_count": 2,
   "metadata": {},
   "outputs": [
    {
     "data": {
      "text/html": [
       "<strong id=\"expr\">expr:</strong> <a class=\"ProveItLink\" href=\"expr.ipynb\"><img src=\"data:image/png;base64,iVBORw0KGgoAAAANSUhEUgAAAc8AAAAVBAMAAADShHjlAAAAMFBMVEX////c3NwiIiJERESqqqqY\n",
       "mJh2dnZmZmYQEBDu7u4yMjJUVFTMzMyIiIi6uroAAAAs73DqAAAAAXRSTlMAQObYZgAAAsFJREFU\n",
       "WMPlWD9oE1Ec/mL+XnqXBBcHBTO6xcEOTs3WSXqToxSECGIwKDbSRQcHEUxPChJwaGgV8TqYTaRD\n",
       "MhXBJYugYPB0FEpbrYUUarz8uZj33u/dSzpEsA+Sg4/v+9733b27vAtwbEai8f93vNL5eu9+gpaK\n",
       "GiiuOSyymbugnEDtO9a4qAyl565mCVW07h5fAdqMMtBpGHvsJAVsq9bCCL7jjOWWKhROIXFIqSqA\n",
       "0YC2UfMCPRGypnrHt0CGQSJ7SKb9RX6+wgRywBM/22ipQuFmFj9YpKe6DMQ6Wb54gS7xk4T6V+2h\n",
       "hZozjIT+FpWKfHxFrhQYiI2WKhTmBkUHNl1VGfiOkYq+tnDP4YJ4S/efFaVCeUuXLRrMYoEMpOWa\n",
       "dX7ajMUh60qR3FfkPs1/pgF5USpUvEoVjRTwggz0zomnOQd9n3XQr1eVIrmvwNVLWKUBv6J8KGyu\n",
       "gyoaqqBEBdIeI2jyp+o8P8tHRyWS+orccgPTNOBXVAxllKiiifv4TQWa2hHvmNsCEmupRFJfkVuT\n",
       "An5FxVBYsoii+s5w0UXbPmfbnWuf7J2oqG2vPrLt7hI1qiwSqCP4SyWS+FLcnzQwJO4X9QuFM8CM\n",
       "yXH6RR9QZ/5sQ7g4swikhpGVVq+or0jqK3ADh1LA54ryobS21S1KLd1pKlDSJbN8vYAw45ms4MSu\n",
       "QkT7aiTXPWlhGpAXFULhwH0Op4ii4QqukfdSARH26X8yl7vFzGKY2J5XiGjflTTFfQPcoAF5USEU\n",
       "PiCxL/l5+eYeiksvTdZzofmJ5WfabW7LMVt8DoWI9i3vUtxovmnRgCeO3j24owoVKi5mOd+uKu4g\n",
       "lqI2IT77FPnOZVTK1yPujMYKxSLuFjA8Pwxsqd9WRWRrTIrpyz2SvwrJ917TJjzMic+oVbovdRMe\n",
       "xuT/YZjq3J+BY/BXivt28AeB04lrN0SdVQAAAABJRU5ErkJggg==\n",
       "\" style=\"display:inline;vertical-align:middle;\" /></a><br>"
      ],
      "text/plain": [
       "expr: (1 + c + 2 + 3 + c + 1 + c , c + c + c + 1 + 2 + 3 + 1)"
      ]
     },
     "execution_count": 2,
     "metadata": {},
     "output_type": "execute_result"
    }
   ],
   "source": [
    "# build up the expression from sub-expressions\n",
    "expr = ExprTuple(Add(one, c, two, three, c, one, c), Add(c, c, c, one, two, three, one))"
   ]
  },
  {
   "cell_type": "code",
   "execution_count": 3,
   "metadata": {},
   "outputs": [
    {
     "name": "stdout",
     "output_type": "stream",
     "text": [
      "Passed sanity check: built 'expr' is the same as the stored Expression.\n"
     ]
    }
   ],
   "source": [
    "# check that the built expression is the same as the stored expression\n",
    "%check_expr"
   ]
  },
  {
   "cell_type": "code",
   "execution_count": 4,
   "metadata": {},
   "outputs": [
    {
     "data": {
      "text/html": [
       "<table><tr><th>&nbsp;</th><th>core type</th><th>sub-expressions</th><th>expression</th></tr>\n",
       "<tr><td>0</td><td>ExprTuple</td><td>1, 2</td><td><a class=\"ProveItLink\" href=\"expr.ipynb\"><img src=\"data:image/png;base64,iVBORw0KGgoAAAANSUhEUgAAAc8AAAAVBAMAAADShHjlAAAAMFBMVEX////c3NwiIiJERESqqqqY\n",
       "mJh2dnZmZmYQEBDu7u4yMjJUVFTMzMyIiIi6uroAAAAs73DqAAAAAXRSTlMAQObYZgAAAsFJREFU\n",
       "WMPlWD9oE1Ec/mL+XnqXBBcHBTO6xcEOTs3WSXqToxSECGIwKDbSRQcHEUxPChJwaGgV8TqYTaRD\n",
       "MhXBJYugYPB0FEpbrYUUarz8uZj33u/dSzpEsA+Sg4/v+9733b27vAtwbEai8f93vNL5eu9+gpaK\n",
       "GiiuOSyymbugnEDtO9a4qAyl565mCVW07h5fAdqMMtBpGHvsJAVsq9bCCL7jjOWWKhROIXFIqSqA\n",
       "0YC2UfMCPRGypnrHt0CGQSJ7SKb9RX6+wgRywBM/22ipQuFmFj9YpKe6DMQ6Wb54gS7xk4T6V+2h\n",
       "hZozjIT+FpWKfHxFrhQYiI2WKhTmBkUHNl1VGfiOkYq+tnDP4YJ4S/efFaVCeUuXLRrMYoEMpOWa\n",
       "dX7ajMUh60qR3FfkPs1/pgF5USpUvEoVjRTwggz0zomnOQd9n3XQr1eVIrmvwNVLWKUBv6J8KGyu\n",
       "gyoaqqBEBdIeI2jyp+o8P8tHRyWS+orccgPTNOBXVAxllKiiifv4TQWa2hHvmNsCEmupRFJfkVuT\n",
       "An5FxVBYsoii+s5w0UXbPmfbnWuf7J2oqG2vPrLt7hI1qiwSqCP4SyWS+FLcnzQwJO4X9QuFM8CM\n",
       "yXH6RR9QZ/5sQ7g4swikhpGVVq+or0jqK3ADh1LA54ryobS21S1KLd1pKlDSJbN8vYAw45ms4MSu\n",
       "QkT7aiTXPWlhGpAXFULhwH0Op4ii4QqukfdSARH26X8yl7vFzGKY2J5XiGjflTTFfQPcoAF5USEU\n",
       "PiCxL/l5+eYeiksvTdZzofmJ5WfabW7LMVt8DoWI9i3vUtxovmnRgCeO3j24owoVKi5mOd+uKu4g\n",
       "lqI2IT77FPnOZVTK1yPujMYKxSLuFjA8Pwxsqd9WRWRrTIrpyz2SvwrJ917TJjzMic+oVbovdRMe\n",
       "xuT/YZjq3J+BY/BXivt28AeB04lrN0SdVQAAAABJRU5ErkJggg==\n",
       "\" style=\"display:inline;vertical-align:middle;\" /></a></td></tr>\n",
       "<tr><td>1</td><td>Operation</td><td>operator:&nbsp;4<br>operands:&nbsp;3<br></td><td><a class=\"ProveItLink\" href=\"../7c4ebe32948f91a2bb66560fce7b4951538416d70/expr.ipynb\"><img src=\"data:image/png;base64,iVBORw0KGgoAAAANSUhEUgAAANwAAAAQBAMAAACPXgx9AAAAMFBMVEX////MzMx2dna6uroiIiKq\n",
       "qqrc3NyYmJgyMjIQEBBmZmaIiIhUVFTu7u5EREQAAACN3imBAAAAAXRSTlMAQObYZgAAAVZJREFU\n",
       "OMtjYGB4y0AAsK3qM0AVYVTSCyCkC4e59/4S0pfDwP0VVSSLgfk3IV3Yzb1zBibMm4Audw1CnWVg\n",
       "8EdVoh/A8IWAJlzmcsOEWTeg64yGUDMvMJw3QFESD7cOpyZc5hK2rv8Cw3oDNCWwwKSCdZe0N6Lq\n",
       "BAbmBTSdHAcIacJhLoYw42SGFjTrGD+h6RTqIagJh7kYwjc3MDxHs47jAXq4cE8mpAmHuRjC5zGi\n",
       "gWEdZjTMv0BAEw5zIcJcHR0tMzo6QDHyDyK7oqPDs6MDHGjcB9CUJDIwvC8gpAm7ueiuYPuN4dAo\n",
       "BrYEZCW8/y+ArcOrCYe5GJ7+zsDAjqKTcQEDO4p1DD+AaTUBvyZc5mIIn2JgUETRmaKktARVyXYG\n",
       "5k8ENOEwl2vlj+Wowlzauy+g6PT//x+tDGFdtSKAgCZ85hIoIPAoIUsTpFzCELYmrIRETQDkVLLx\n",
       "V78j4wAAAABJRU5ErkJggg==\n",
       "\" style=\"display:inline;vertical-align:middle;\" /></a></td></tr>\n",
       "<tr><td>2</td><td>Operation</td><td>operator:&nbsp;4<br>operands:&nbsp;5<br></td><td><a class=\"ProveItLink\" href=\"../6a3751b12c827b59eeb5e16c8b6a49c5ec6889090/expr.ipynb\"><img src=\"data:image/png;base64,iVBORw0KGgoAAAANSUhEUgAAANwAAAAQBAMAAACPXgx9AAAAMFBMVEX///+qqqpmZmbc3NxUVFSY\n",
       "mJhEREQiIiIyMjK6uroQEBDMzMyIiIh2dnbu7u4AAAA4MM1YAAAAAXRSTlMAQObYZgAAAYBJREFU\n",
       "OMutlD1Lw0AYx/9trLQkxuIsWApqEcQigoODRZxtP4KLqzq7ZCn2NvMB/ABWBJ0FIYtTi6OLDQYU\n",
       "B0HQQe3QF2NrX54nl6SKtxz55fnfL3eXO+BPbZc9K+lDkxLVvk2GpUZtTy0GVqC9UbKMRCMwpWfZ\n",
       "aw/AQ7d73Gyxki3AoOQ+iU9KBqlOi1hscA/A9E+vtVjJqYO8SchMX9cfRvs33ZGDJZOFeotJdbpd\n",
       "vaD4pVaRA3+d2wyHkXhOprs04/sEq2WU5CBIpzYZuSpCotPPMF4g+NnCjhwE6eLbnGhliW7slW9V\n",
       "3hcE6ea8y3vueHWT3a+KClE6EeJ7uT/kABkhDoQoDnRDJdByjKwBewVW46bWLTYZpeELAmY3BSU7\n",
       "TPS209F5Zucyit+BmBz469QUYkSHuvuvZiV7l8IEPQgbwJ0c+OtWbXuekmskmrKDsFi9oThaqzpy\n",
       "0NNFF+qzNGO02+wOiaQzSTZuP/XbWyWgZBTSvXSsMIDj0EwI+QI3Xq7DKpjWjQAAAABJRU5ErkJg\n",
       "gg==\n",
       "\" style=\"display:inline;vertical-align:middle;\" /></a></td></tr>\n",
       "<tr><td>3</td><td>ExprTuple</td><td>9, 6, 7, 8, 6, 9, 6</td><td><a class=\"ProveItLink\" href=\"../e4df7873210dd6984adcebc5c684ceeafa4f3d7f0/expr.ipynb\"><img src=\"data:image/png;base64,iVBORw0KGgoAAAANSUhEUgAAAIgAAAAVBAMAAABvbLv8AAAAMFBMVEX////c3NwiIiJERESqqqqY\n",
       "mJh2dnZmZmYQEBDu7u4yMjJUVFTMzMyIiIi6uroAAAAs73DqAAAAAXRSTlMAQObYZgAAAbdJREFU\n",
       "OMutlDFMwkAYhR8IQoESnBh0YHLVQQcXZXYRVycSE1gkuiiGODi4uEATE0N0MNEYY0wMTg4MOOng\n",
       "QBcnNagTcVKJJpBAvV7b6/UwXbDJ9d691/vS63894F+uqDrYfP8Lud2TNqSIUbwwa4hIZjnZN3GG\n",
       "H2yRdg5IcyLEU0HDmBtHtCsy9tr8KATIKqRqTYSEFXg/qFpN4ksID6sOiD+NoD6/IUKCuwj3qFro\n",
       "h0B2QKRtvOMvSKiNQM/68l13CKaw4YDs556syGs9GaqIoQ2hVhanPCRSxLGV19NGf3sBMWQQw5pH\n",
       "kYeUVUxbkBP28kUxZBDDaqLHQ2r2QgOTTJYUIWQQw6o7IS0b8mj2Y8BcSggZpGVCdjiIx66Dbw0j\n",
       "tH6aYkK40IKYVtNYpg7ROd9k61CBO2CRqg4wEZPgCHWIbWGJ1MeASPqWugZWqPCMZ7IJqh4Q/cFR\n",
       "gg8phFl6id+IzpfOUlIpRr5m7lmhwqtpWoIqX76QRPkTXBjY7KzbFnCJYMzamH2CU68uFtn2/rT1\n",
       "H0EUnEq5WMMqPQoGgxyQNmpqdsDZJx1Tspt1pRdiwONRvsEvn6yVh90wGKIAAAAASUVORK5CYII=\n",
       "\" style=\"display:inline;vertical-align:middle;\" /></a></td></tr>\n",
       "<tr><td>4</td><td>Literal</td><td></td><td><a class=\"ProveItLink\" href=\"../3e6688136fa3c7aefbebe51301b7c3ebf0b69c440/expr.ipynb\"><img src=\"data:image/png;base64,iVBORw0KGgoAAAANSUhEUgAAAA4AAAAOBAMAAADtZjDiAAAAJFBMVEX///+6urpUVFQQEBAiIiIy\n",
       "MjJmZmaIiIiqqqrc3Nzu7u4AAACgHpL+AAAAAXRSTlMAQObYZgAAAB5JREFUCNdjYGBgWMkAAe2k\n",
       "0Kmhoc6hoUGk6BMHYgAHOwjcado9fwAAAABJRU5ErkJggg==\n",
       "\" style=\"display:inline;vertical-align:middle;\" /></a></td></tr>\n",
       "<tr><td>5</td><td>ExprTuple</td><td>6, 6, 6, 9, 7, 8, 9</td><td><a class=\"ProveItLink\" href=\"../e75dcc13b33ca588e037ffc1cdbf1d9d8fc808240/expr.ipynb\"><img src=\"data:image/png;base64,iVBORw0KGgoAAAANSUhEUgAAAIcAAAAVBAMAAACeZ+BxAAAAMFBMVEX////c3NwiIiJERESqqqqY\n",
       "mJh2dnZmZmYQEBDu7u4yMjJUVFTMzMyIiIi6uroAAAAs73DqAAAAAXRSTlMAQObYZgAAAbBJREFU\n",
       "OMutlC1Mw0AYht+t+2nX/aEQCKrQCBAYmMMWgyRTW0JCUsNGUAgMArYEswSxJkAIwcxPUAUkCCYh\n",
       "sGwgMdsIiCI2rtdrc0u3hjAq+j25a5+7t/1ywL9cycZk729Yt3v/Z4Qyg+ndZUY3uQVndgmIGqRe\n",
       "+jqkFSYJ1NDK2KShw3Z/bJKbDiR800j1ayaRywh2KUU+kVIondQtyToglv3jtNi8eAC5TynkSpCw\n",
       "JBXgHb+TxExE+86gE4dKhAwK1qZzTcPevQdcCbmCpkNX4CQRDeek3LVj9v68wEsesnaNb9Z4SUjH\n",
       "EVn2EIJK1/fAkOTUpcc2J0nugeSUu2zOC7wkOu8OiiYniXctScqZ9QIveWY1YED4GpbsA7NOq3iB\n",
       "k4Q0TFGomsMSEmeRrEviqxJGgS2hnltgjVJKR7Bnj1FJWEeefAENEaOqjAIqkT6sEHO5vEIpoaKT\n",
       "peT+4jdSCs0nVHojoVi6UKVSmjTJYDBQKGG1eAZK0Z3vbdKGbYhplvkVYyGZ9iPS9mHWQVAxFsLw\n",
       "oy3uKPirRCJHAWbY33IGvYCGH8lWrsCEx+ML8AP5e5kpo7P5gAAAAABJRU5ErkJggg==\n",
       "\" style=\"display:inline;vertical-align:middle;\" /></a></td></tr>\n",
       "<tr><td>6</td><td>Variable</td><td></td><td><a class=\"ProveItLink\" href=\"../../../../__pv_it/cbdfda466482236edba0ce44ac7ef39cda0af7a40/expr.ipynb\"><img src=\"data:image/png;base64,iVBORw0KGgoAAAANSUhEUgAAAAkAAAAJBAMAAAASvxsjAAAALVBMVEX///9mZmbc3NxUVFSYmJhE\n",
       "REQiIiIyMjK6uroQEBDMzMyIiIh2dnbu7u4AAABgFDGoAAAAAXRSTlMAQObYZgAAADZJREFUCNdj\n",
       "YOA9s3sBA8PKBvYEBt7ZDKwODMwPGICALwBE6m0Asx0YGIDiAgw8QJUyu/cyAAAmuwmycZ8WfQAA\n",
       "AABJRU5ErkJggg==\n",
       "\" style=\"display:inline;vertical-align:middle;\" /></a></td></tr>\n",
       "<tr><td>7</td><td>Literal</td><td></td><td><a class=\"ProveItLink\" href=\"../../../numeral/__pv_it/77d407a64829263cdc16415becd4c2293f77a4bf0/expr.ipynb\"><img src=\"data:image/png;base64,iVBORw0KGgoAAAANSUhEUgAAAAkAAAAOBAMAAAAPuiubAAAAMFBMVEX///+YmJh2dnbMzMwQEBAi\n",
       "IiLu7u6qqqqIiIhUVFS6urpEREQyMjJmZmbc3NwAAACOMKdoAAAAAXRSTlMAQObYZgAAAFBJREFU\n",
       "CNdj4Lt7egEDw0sGju8MDNMYGOIZGFwSGOYvYDifwHAfKAEUSQASzJ9ATJ4NIPI2iOCYACJrGfge\n",
       "MDBfYGB8wPBUSekqUPH//18ZAIliFhc3zESNAAAAAElFTkSuQmCC\n",
       "\" style=\"display:inline;vertical-align:middle;\" /></a></td></tr>\n",
       "<tr><td>8</td><td>Literal</td><td></td><td><a class=\"ProveItLink\" href=\"../../../numeral/__pv_it/9176d93c83afa2c995b614976e3cb49207102fa70/expr.ipynb\"><img src=\"data:image/png;base64,iVBORw0KGgoAAAANSUhEUgAAAAoAAAAOBAMAAADkjZCYAAAAMFBMVEX///+YmJju7u4QEBBUVFQy\n",
       "MjIiIiKIiIi6urpmZmbc3NyqqqpERER2dnbMzMwAAAB0GlNiAAAAAXRSTlMAQObYZgAAAE1JREFU\n",
       "CNdjYHh79zQDA9cEhv4CBt7fDPwJDNxgEgiAIkAQAsR8Vx1ATIbiBhDJ/ImB6wEDz0cG/U8gkj+A\n",
       "ge0XA7sAQ/8FBoadM6MZAEflFACalZ/OAAAAAElFTkSuQmCC\n",
       "\" style=\"display:inline;vertical-align:middle;\" /></a></td></tr>\n",
       "<tr><td>9</td><td>Literal</td><td></td><td><a class=\"ProveItLink\" href=\"../../../numeral/__pv_it/9be8badea4c35b9724062cecc501d17a3158d1d20/expr.ipynb\"><img src=\"data:image/png;base64,iVBORw0KGgoAAAANSUhEUgAAAAgAAAAPBAMAAAArJJMAAAAAHlBMVEX///+YmJgyMjIQEBBmZmaI\n",
       "iIhUVFTu7u5EREQAAAAw+MI4AAAAAXRSTlMAQObYZgAAACFJREFUCNdjYGBoZ2BgqJjOwFCWBiQY\n",
       "WEklWJwnOTKAAACjEQo8HvEr3AAAAABJRU5ErkJggg==\n",
       "\" style=\"display:inline;vertical-align:middle;\" /></a></td></tr>\n",
       "</table>\n"
      ],
      "text/plain": [
       "0. (1 + c + 2 + 3 + c + 1 + c , c + c + c + 1 + 2 + 3 + 1)\n",
       "   core type: ExprTuple\n",
       "   sub-expressions: 1, 2\n",
       "1. 1 + c + 2 + 3 + c + 1 + c\n",
       "   core type: Operation\n",
       "   operator: 4\n",
       "   operands: 3\n",
       "2. c + c + c + 1 + 2 + 3 + 1\n",
       "   core type: Operation\n",
       "   operator: 4\n",
       "   operands: 5\n",
       "3. (1 , c , 2 , 3 , c , 1 , c)\n",
       "   core type: ExprTuple\n",
       "   sub-expressions: 9, 6, 7, 8, 6, 9, 6\n",
       "4. +\n",
       "   core type: Literal\n",
       "   sub-expressions: \n",
       "5. (c , c , c , 1 , 2 , 3 , 1)\n",
       "   core type: ExprTuple\n",
       "   sub-expressions: 6, 6, 6, 9, 7, 8, 9\n",
       "6. c\n",
       "   core type: Variable\n",
       "   sub-expressions: \n",
       "7. 2\n",
       "   core type: Literal\n",
       "   sub-expressions: \n",
       "8. 3\n",
       "   core type: Literal\n",
       "   sub-expressions: \n",
       "9. 1\n",
       "   core type: Literal\n",
       "   sub-expressions: "
      ]
     },
     "execution_count": 4,
     "metadata": {},
     "output_type": "execute_result"
    }
   ],
   "source": [
    "# display the expression information\n",
    "expr.exprInfo()"
   ]
  },
  {
   "cell_type": "code",
   "execution_count": null,
   "metadata": {},
   "outputs": [],
   "source": []
  }
 ],
 "metadata": {
  "kernelspec": {
   "display_name": "Python 3",
   "language": "python",
   "name": "python3"
  }
 },
 "nbformat": 4,
 "nbformat_minor": 0
}
