{
 "cells": [
  {
   "cell_type": "markdown",
   "metadata": {},
   "source": [
    "Expression of type <a class=\"ProveItLink\" href=\"../../../../../../doc/html/api/proveit.ExprTuple.html\">ExprTuple</a>\n",
    "=======================\n",
    "# from context <a class=\"ProveItLink\" href=\"../../_context_.ipynb\">proveit.number.addition</a>"
   ]
  },
  {
   "cell_type": "code",
   "execution_count": 1,
   "metadata": {},
   "outputs": [],
   "source": [
    "# import Expression classes needed to build the expression\n",
    "from proveit import ExprTuple\n",
    "from proveit.number import Add, one, three, two"
   ]
  },
  {
   "cell_type": "code",
   "execution_count": 2,
   "metadata": {},
   "outputs": [
    {
     "data": {
      "text/html": [
       "<strong id=\"expr\">expr:</strong> <a class=\"ProveItLink\" href=\"expr.ipynb\"><img src=\"data:image/png;base64,iVBORw0KGgoAAAANSUhEUgAAAJUAAAAVBAMAAAC9PLGkAAAAMFBMVEX////c3NwiIiJERESqqqqY\n",
       "mJh2dnZmZmYQEBDu7u4yMjJUVFTMzMyIiIi6uroAAAAs73DqAAAAAXRSTlMAQObYZgAAAcJJREFU\n",
       "OMutlD9IAlEcx7/+S089tamhhqZoq6GGlnRrkq6lMYRAIYhcynBqaGnJixahIaEiuhZ3h5xsaMgl\n",
       "CAq0xiC0qOCEvN7zvMt3f3DQH7x7v/u+9z7v93u89wOGaaHqUDBr9HNHmks0jIxlFw1KJTlnXL7Q\n",
       "7YPJ9Ri8ZeJdAVzUwHIUUYuxShoNQwLHsrYxQr9AAeCr4Eo3GutI7QIinE1GGflCeJJRTkoaayuG\n",
       "T2AV8FFMTWPF1c53gECbUdz/rK4CXmMtd1h54A0WLL8ML8sipuVoYqGToyuGHSsWMadsVK5hy/IX\n",
       "ySmkcWHDuk+wSnCjaMuq0G3cBRzasM5MymPdNi6eUEJ7aFuzvLMmlk+2ZSEnItjsZWUlaVqS1GN5\n",
       "Aqs4ynB9s3N01gQQFShr3zIudxqjjHIqqyyLuDhFpCyS47wl6xZYYZRwAc4PM4ujTguYicBTQMqK\n",
       "5ZhKptibyQtoJMysUzrrAaGfzp14JT+Z3KXAzHMqimK45UuZc3Y/725rG3kaqzuTJY/XX4cv0vte\n",
       "46Za0kd50T3yhjyJ3qF308o+iqB7m2rNGcB0FkdqDsYHQfG6F6Bn5RhOjX4G/gBYp5JuyzUg0QAA\n",
       "AABJRU5ErkJggg==\n",
       "\" style=\"display:inline;vertical-align:middle;\" /></a><br>"
      ],
      "text/plain": [
       "expr: (1 + 2 + 3 + 1 , 3)"
      ]
     },
     "execution_count": 2,
     "metadata": {},
     "output_type": "execute_result"
    }
   ],
   "source": [
    "# build up the expression from sub-expressions\n",
    "expr = ExprTuple(Add(one, two, three, one), three)"
   ]
  },
  {
   "cell_type": "code",
   "execution_count": 3,
   "metadata": {},
   "outputs": [
    {
     "name": "stdout",
     "output_type": "stream",
     "text": [
      "Passed sanity check: built 'expr' is the same as the stored Expression.\n"
     ]
    }
   ],
   "source": [
    "# check that the built expression is the same as the stored expression\n",
    "%check_expr"
   ]
  },
  {
   "cell_type": "code",
   "execution_count": 4,
   "metadata": {},
   "outputs": [
    {
     "data": {
      "text/html": [
       "<table><tr><th>&nbsp;</th><th>core type</th><th>sub-expressions</th><th>expression</th></tr>\n",
       "<tr><td>0</td><td>ExprTuple</td><td>1, 5</td><td><a class=\"ProveItLink\" href=\"expr.ipynb\"><img src=\"data:image/png;base64,iVBORw0KGgoAAAANSUhEUgAAAJUAAAAVBAMAAAC9PLGkAAAAMFBMVEX////c3NwiIiJERESqqqqY\n",
       "mJh2dnZmZmYQEBDu7u4yMjJUVFTMzMyIiIi6uroAAAAs73DqAAAAAXRSTlMAQObYZgAAAcJJREFU\n",
       "OMutlD9IAlEcx7/+S089tamhhqZoq6GGlnRrkq6lMYRAIYhcynBqaGnJixahIaEiuhZ3h5xsaMgl\n",
       "CAq0xiC0qOCEvN7zvMt3f3DQH7x7v/u+9z7v93u89wOGaaHqUDBr9HNHmks0jIxlFw1KJTlnXL7Q\n",
       "7YPJ9Ri8ZeJdAVzUwHIUUYuxShoNQwLHsrYxQr9AAeCr4Eo3GutI7QIinE1GGflCeJJRTkoaayuG\n",
       "T2AV8FFMTWPF1c53gECbUdz/rK4CXmMtd1h54A0WLL8ML8sipuVoYqGToyuGHSsWMadsVK5hy/IX\n",
       "ySmkcWHDuk+wSnCjaMuq0G3cBRzasM5MymPdNi6eUEJ7aFuzvLMmlk+2ZSEnItjsZWUlaVqS1GN5\n",
       "Aqs4ynB9s3N01gQQFShr3zIudxqjjHIqqyyLuDhFpCyS47wl6xZYYZRwAc4PM4ujTguYicBTQMqK\n",
       "5ZhKptibyQtoJMysUzrrAaGfzp14JT+Z3KXAzHMqimK45UuZc3Y/725rG3kaqzuTJY/XX4cv0vte\n",
       "46Za0kd50T3yhjyJ3qF308o+iqB7m2rNGcB0FkdqDsYHQfG6F6Bn5RhOjX4G/gBYp5JuyzUg0QAA\n",
       "AABJRU5ErkJggg==\n",
       "\" style=\"display:inline;vertical-align:middle;\" /></a></td></tr>\n",
       "<tr><td>1</td><td>Operation</td><td>operator:&nbsp;2<br>operands:&nbsp;3<br></td><td><a class=\"ProveItLink\" href=\"../0d8c22bd9a6186cc03f8946f1a2b6e722ff15d980/expr.ipynb\"><img src=\"data:image/png;base64,iVBORw0KGgoAAAANSUhEUgAAAHMAAAAQBAMAAADXDV0hAAAAMFBMVEX///92dnbMzMy6uroiIiKq\n",
       "qqrc3NyYmJgyMjIQEBBmZmaIiIhUVFTu7u5EREQAAADaqMZ6AAAAAXRSTlMAQObYZgAAAQhJREFU\n",
       "KM9jYGB4y4AK2Fb1GaCKKAo+RVPDwHcBSNz7iyaaw8D9FdWsBQz2G1DV8L4Har1zBqaVNwFCn2Vg\n",
       "8EcRYfzKwO8AEbkGlThzHmQrN0wrK9TkmRcYzhsgi7AitEbDrN2PVWv/BYb1KFqBAOZgAlqBwP8C\n",
       "mkgPA5FamT6iijBJHCBWK8cDdJGdBkRqXYchwvkXt1aujo6WGR0dYIdxH0AVYVNg4PsOFFnR0eHZ\n",
       "0dGDz9YoBrYEZJH7fyFaCTuYaQEDO4pW/gYGlm9EaU0RFFyCIsJdwGAvgEUr18ofy1G1+v///wVV\n",
       "JGpVK1rkrJrfVYCUpFk3oGcPTJFoBqyAeQNhEWskNgDB1nAlS+D6+QAAAABJRU5ErkJggg==\n",
       "\" style=\"display:inline;vertical-align:middle;\" /></a></td></tr>\n",
       "<tr><td>2</td><td>Literal</td><td></td><td><a class=\"ProveItLink\" href=\"../3e6688136fa3c7aefbebe51301b7c3ebf0b69c440/expr.ipynb\"><img src=\"data:image/png;base64,iVBORw0KGgoAAAANSUhEUgAAAA4AAAAOBAMAAADtZjDiAAAAJFBMVEX///+6urpUVFQQEBAiIiIy\n",
       "MjJmZmaIiIiqqqrc3Nzu7u4AAACgHpL+AAAAAXRSTlMAQObYZgAAAB5JREFUCNdjYGBgWMkAAe2k\n",
       "0Kmhoc6hoUGk6BMHYgAHOwjcado9fwAAAABJRU5ErkJggg==\n",
       "\" style=\"display:inline;vertical-align:middle;\" /></a></td></tr>\n",
       "<tr><td>3</td><td>ExprTuple</td><td>6, 4, 5, 6</td><td><a class=\"ProveItLink\" href=\"../0a3582afc22049f27c7d5cd6dbf4696e6621121f0/expr.ipynb\"><img src=\"data:image/png;base64,iVBORw0KGgoAAAANSUhEUgAAAFEAAAAVBAMAAADMaB9/AAAAMFBMVEX////c3NwiIiJERESqqqqY\n",
       "mJh2dnZmZmYQEBDu7u4yMjJUVFTMzMyIiIi6uroAAAAs73DqAAAAAXRSTlMAQObYZgAAAWRJREFU\n",
       "KM+N061Pw0AYBvBnX3S3rk1REyCmsGAQGNb/gGKQhIRkU4QZGJlCYDBrE8wSBEsIIQQzPzEUCAQz\n",
       "KEgGSNRAkGzJVu7a6/VaBL2kfZ9efk3b965A8qEPEqBtdnqkR8bhM6Xmuh+K1V0zYGuAckfrDUAq\n",
       "XKa6GPqgBH3K4dmYnjqANgDp9blUHaRHXto38e3PnfeY3ALyDA25zJ9CnXlpQ0hoTLaBT0iyMIYy\n",
       "C750KsuMiUNZ0pEe81DoynKujquYfNrx6/0tZJntoBWTlwK0ZKkfYxaVyoq4x3YkWRzF5Quvi0DF\n",
       "isqTiMzWMc8qcZ2opE9fDaSHH4BNL02AZYOEMtdBjUvCGp1aqtbKXnqG/oOLstylD1oa9rVFbIM2\n",
       "03XdspeyjaaJ9hf7xqPJAe3uG/JGsCYG/qR30Qi6mjneaeTEbJgskfb8Xfe/JHTXYYFfhFtfJE1M\n",
       "qeyFUkn+jlfgFxSLaVyxKrEHAAAAAElFTkSuQmCC\n",
       "\" style=\"display:inline;vertical-align:middle;\" /></a></td></tr>\n",
       "<tr><td>4</td><td>Literal</td><td></td><td><a class=\"ProveItLink\" href=\"../../../numeral/__pv_it/77d407a64829263cdc16415becd4c2293f77a4bf0/expr.ipynb\"><img src=\"data:image/png;base64,iVBORw0KGgoAAAANSUhEUgAAAAkAAAAOBAMAAAAPuiubAAAAMFBMVEX///+YmJh2dnbMzMwQEBAi\n",
       "IiLu7u6qqqqIiIhUVFS6urpEREQyMjJmZmbc3NwAAACOMKdoAAAAAXRSTlMAQObYZgAAAFBJREFU\n",
       "CNdj4Lt7egEDw0sGju8MDNMYGOIZGFwSGOYvYDifwHAfKAEUSQASzJ9ATJ4NIPI2iOCYACJrGfge\n",
       "MDBfYGB8wPBUSekqUPH//18ZAIliFhc3zESNAAAAAElFTkSuQmCC\n",
       "\" style=\"display:inline;vertical-align:middle;\" /></a></td></tr>\n",
       "<tr><td>5</td><td>Literal</td><td></td><td><a class=\"ProveItLink\" href=\"../../../numeral/__pv_it/9176d93c83afa2c995b614976e3cb49207102fa70/expr.ipynb\"><img src=\"data:image/png;base64,iVBORw0KGgoAAAANSUhEUgAAAAoAAAAOBAMAAADkjZCYAAAAMFBMVEX///+YmJju7u4QEBBUVFQy\n",
       "MjIiIiKIiIi6urpmZmbc3NyqqqpERER2dnbMzMwAAAB0GlNiAAAAAXRSTlMAQObYZgAAAE1JREFU\n",
       "CNdjYHh79zQDA9cEhv4CBt7fDPwJDNxgEgiAIkAQAsR8Vx1ATIbiBhDJ/ImB6wEDz0cG/U8gkj+A\n",
       "ge0XA7sAQ/8FBoadM6MZAEflFACalZ/OAAAAAElFTkSuQmCC\n",
       "\" style=\"display:inline;vertical-align:middle;\" /></a></td></tr>\n",
       "<tr><td>6</td><td>Literal</td><td></td><td><a class=\"ProveItLink\" href=\"../../../numeral/__pv_it/9be8badea4c35b9724062cecc501d17a3158d1d20/expr.ipynb\"><img src=\"data:image/png;base64,iVBORw0KGgoAAAANSUhEUgAAAAgAAAAPBAMAAAArJJMAAAAAHlBMVEX///+YmJgyMjIQEBBmZmaI\n",
       "iIhUVFTu7u5EREQAAAAw+MI4AAAAAXRSTlMAQObYZgAAACFJREFUCNdjYGBoZ2BgqJjOwFCWBiQY\n",
       "WEklWJwnOTKAAACjEQo8HvEr3AAAAABJRU5ErkJggg==\n",
       "\" style=\"display:inline;vertical-align:middle;\" /></a></td></tr>\n",
       "</table>\n"
      ],
      "text/plain": [
       "0. (1 + 2 + 3 + 1 , 3)\n",
       "   core type: ExprTuple\n",
       "   sub-expressions: 1, 5\n",
       "1. 1 + 2 + 3 + 1\n",
       "   core type: Operation\n",
       "   operator: 2\n",
       "   operands: 3\n",
       "2. +\n",
       "   core type: Literal\n",
       "   sub-expressions: \n",
       "3. (1 , 2 , 3 , 1)\n",
       "   core type: ExprTuple\n",
       "   sub-expressions: 6, 4, 5, 6\n",
       "4. 2\n",
       "   core type: Literal\n",
       "   sub-expressions: \n",
       "5. 3\n",
       "   core type: Literal\n",
       "   sub-expressions: \n",
       "6. 1\n",
       "   core type: Literal\n",
       "   sub-expressions: "
      ]
     },
     "execution_count": 4,
     "metadata": {},
     "output_type": "execute_result"
    }
   ],
   "source": [
    "# display the expression information\n",
    "expr.exprInfo()"
   ]
  },
  {
   "cell_type": "code",
   "execution_count": null,
   "metadata": {},
   "outputs": [],
   "source": []
  }
 ],
 "metadata": {
  "kernelspec": {
   "display_name": "Python 3",
   "language": "python",
   "name": "python3"
  }
 },
 "nbformat": 4,
 "nbformat_minor": 0
}
