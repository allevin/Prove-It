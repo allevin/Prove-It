{
 "cells": [
  {
   "cell_type": "markdown",
   "metadata": {},
   "source": [
    "Expression of type <a class=\"ProveItLink\" href=\"../../../../../../doc/html/api/proveit.Lambda.html\">Lambda</a>\n",
    "=======================\n",
    "# from context <a class=\"ProveItLink\" href=\"../../_context_.ipynb\">proveit.number.addition</a>"
   ]
  },
  {
   "cell_type": "code",
   "execution_count": 1,
   "metadata": {},
   "outputs": [],
   "source": [
    "# import Expression classes needed to build the expression\n",
    "from proveit import Lambda\n",
    "from proveit._common_ import a, b\n",
    "from proveit.logic import InSet\n",
    "from proveit.number import Add, Integers"
   ]
  },
  {
   "cell_type": "code",
   "execution_count": 2,
   "metadata": {},
   "outputs": [
    {
     "data": {
      "text/html": [
       "<strong id=\"expr\">expr:</strong> <a class=\"ProveItLink\" href=\"expr.ipynb\"><img src=\"data:image/png;base64,iVBORw0KGgoAAAANSUhEUgAAAOUAAAAVCAMAAACOhdk9AAAANlBMVEX///8UFBQNDQ3c3NxmZmbM\n",
       "zMxERESYmJiIiIh2dna6urqqqqoyMjIiIiIQEBBUVFTu7u4AAABebULIAAAAAXRSTlMAQObYZgAA\n",
       "AnBJREFUWMPVVwvP2yAMZIPwinn9/z+7hC2JTSgmX6RKQ5VctZfLHTYGhPhvxiq/9SZvaZwfxr+F\n",
       "O/9CeE4xzGKXROMTdrUwqQqlBIAYIJouHLvkRTd0QsC0Zsg0Tj1zsMMYZ0Hlvyjdh9NccqJbOlHW\n",
       "ScHW0thNXrt6TnbjhuSq/u3Ww80NTl1yols6X2YzEzON3UppZuBiz5FOh4WwjTNlacfJdK6GBt64\n",
       "vInm6NzssvRA45RLxK7x9C9gOnOl8/7pwFuXrWiWDpK1yYju6lnXWxFccZsq63yUQ5eI3anrZ6l7\n",
       "9WCsMKcSDL+5pKJ5ulz25VmOltbMUUJPg6GxGtRlmEvMvqIZ1L3NL+v9czLBoMdS0TzdWis8ur7L\n",
       "nK7noydRltrx9dAlZvcRC+iMtAj0Oh8/u2xE83SqTlk5yuP3r0BGLCf58e1fTDWLwQ5dYvalIAcH\n",
       "P0qYV8KjxrqUzy4b0TxdULVlmX4uRbq4G5e1aPJVNQr2EWINqcOOZHePFXB0BSc5l41onq5uPOps\n",
       "zI1LhQo+rjjKYmvpbE4HucTsuGI7ff3a2wJbsY1onq4mI16ppQ0aa9YGx1zflECsy8glYjeonFB/\n",
       "PBv2kRIXb/CbSyqap0ubWHVlvGmR5DWKxL3VrlvpuNG6xOx4a8ihPXtvbbJuB1k5ze4kjWieLier\n",
       "zNypIJC47ZbWL9r64U6C2AEjJdDzuI8aotYaStTqDr+d1hvRPN30OA4AUc6ffZCyZp2tCWhTHMO5\n",
       "mxdD9+DS5/hz9+ebp3t2J73BX90vn4yf3LzO3MBL+NdcykTjk5HkS/jXXAppaZwfdnkLtz93+QcJ\n",
       "eCA49gAkGAAAAABJRU5ErkJggg==\n",
       "\" style=\"display:inline;vertical-align:middle;\" /></a><br>"
      ],
      "text/plain": [
       "expr: b -> ((a + b) in Integers) | b in Integers"
      ]
     },
     "execution_count": 2,
     "metadata": {},
     "output_type": "execute_result"
    }
   ],
   "source": [
    "# build up the expression from sub-expressions\n",
    "expr = Lambda(b, InSet(Add(a, b), Integers), conditions = [InSet(b, Integers)])"
   ]
  },
  {
   "cell_type": "code",
   "execution_count": 3,
   "metadata": {},
   "outputs": [
    {
     "name": "stdout",
     "output_type": "stream",
     "text": [
      "Passed sanity check: built 'expr' is the same as the stored Expression.\n"
     ]
    }
   ],
   "source": [
    "# check that the built expression is the same as the stored expression\n",
    "%check_expr"
   ]
  },
  {
   "cell_type": "code",
   "execution_count": 4,
   "metadata": {},
   "outputs": [
    {
     "data": {
      "text/html": [
       "<table><tr><th>&nbsp;</th><th>core type</th><th>sub-expressions</th><th>expression</th></tr>\n",
       "<tr><td>0</td><td>Lambda</td><td>parameter:&nbsp;12<br>body:&nbsp;1<br>conditions:&nbsp;2<br></td><td><a class=\"ProveItLink\" href=\"expr.ipynb\"><img src=\"data:image/png;base64,iVBORw0KGgoAAAANSUhEUgAAAOUAAAAVCAMAAACOhdk9AAAANlBMVEX///8UFBQNDQ3c3NxmZmbM\n",
       "zMxERESYmJiIiIh2dna6urqqqqoyMjIiIiIQEBBUVFTu7u4AAABebULIAAAAAXRSTlMAQObYZgAA\n",
       "AnBJREFUWMPVVwvP2yAMZIPwinn9/z+7hC2JTSgmX6RKQ5VctZfLHTYGhPhvxiq/9SZvaZwfxr+F\n",
       "O/9CeE4xzGKXROMTdrUwqQqlBIAYIJouHLvkRTd0QsC0Zsg0Tj1zsMMYZ0Hlvyjdh9NccqJbOlHW\n",
       "ScHW0thNXrt6TnbjhuSq/u3Ww80NTl1yols6X2YzEzON3UppZuBiz5FOh4WwjTNlacfJdK6GBt64\n",
       "vInm6NzssvRA45RLxK7x9C9gOnOl8/7pwFuXrWiWDpK1yYju6lnXWxFccZsq63yUQ5eI3anrZ6l7\n",
       "9WCsMKcSDL+5pKJ5ulz25VmOltbMUUJPg6GxGtRlmEvMvqIZ1L3NL+v9czLBoMdS0TzdWis8ur7L\n",
       "nK7noydRltrx9dAlZvcRC+iMtAj0Oh8/u2xE83SqTlk5yuP3r0BGLCf58e1fTDWLwQ5dYvalIAcH\n",
       "P0qYV8KjxrqUzy4b0TxdULVlmX4uRbq4G5e1aPJVNQr2EWINqcOOZHePFXB0BSc5l41onq5uPOps\n",
       "zI1LhQo+rjjKYmvpbE4HucTsuGI7ff3a2wJbsY1onq4mI16ppQ0aa9YGx1zflECsy8glYjeonFB/\n",
       "PBv2kRIXb/CbSyqap0ubWHVlvGmR5DWKxL3VrlvpuNG6xOx4a8ihPXtvbbJuB1k5ze4kjWieLier\n",
       "zNypIJC47ZbWL9r64U6C2AEjJdDzuI8aotYaStTqDr+d1hvRPN30OA4AUc6ffZCyZp2tCWhTHMO5\n",
       "mxdD9+DS5/hz9+ebp3t2J73BX90vn4yf3LzO3MBL+NdcykTjk5HkS/jXXAppaZwfdnkLtz93+QcJ\n",
       "eCA49gAkGAAAAABJRU5ErkJggg==\n",
       "\" style=\"display:inline;vertical-align:middle;\" /></a></td></tr>\n",
       "<tr><td>1</td><td>Operation</td><td>operator:&nbsp;6<br>operands:&nbsp;3<br></td><td><a class=\"ProveItLink\" href=\"../b2112633707fd99f7751805c095cb992812de4070/expr.ipynb\"><img src=\"data:image/png;base64,iVBORw0KGgoAAAANSUhEUgAAAGMAAAAVBAMAAACgbk16AAAAMFBMVEX////c3NwiIiJERESqqqqY\n",
       "mJh2dnZmZmYQEBDu7u4yMjJUVFTMzMyIiIi6uroAAAAs73DqAAAAAXRSTlMAQObYZgAAAaJJREFU\n",
       "OMtjYCAD8F3AIcH6AJeW09gEZzcBiRo0Qaf/Wiu0WoGMlVgNWg3EXGhityqBQgYMDLwo7uIUgDK+\n",
       "gFyWgKqljIEhhQ3oWo4JyKIsUAP4foL0N0A4cxcpaYHonQyMG0DeeMWATQubAog0AbN5lsJNZZ5g\n",
       "CbGNgXFvXiOqFq69twMYGNLBbGGEO2JZgaIMS4H4hQDzB1Qt8w0Y/jAweIHZhgifGkwGUX1AS74y\n",
       "sBugavGfwNAGNAqiDq6F+8BGEPUPyPrAwHQBVUsVA8N3Bobz4JBoUlKCeJ/hOV8CVAu/AcP8A0Am\n",
       "+6pVi7pWrdoAZKoz8H2FauHZALdlATCm2AQYWhgY5C8w+DNMQLHlCwP7T5jDFGA62BzyGBiYGBhM\n",
       "gX51YNjFcgBFyx8GDqAbosDsrTAt0iALM8AByRXAos6G6pctDNUMsECeBEuehswTGKYnMzA8AkXL\n",
       "vcP3ULXMvg6KgHVgNuNyiAv4mlcYW/0wByYYAWyxD4kGaIJh2QUNMViuSMCZedhw5aSVODPfLFwS\n",
       "0ji1bMQlwYjLet4D2MUBkyJny8uxCL8AAAAASUVORK5CYII=\n",
       "\" style=\"display:inline;vertical-align:middle;\" /></a></td></tr>\n",
       "<tr><td>2</td><td>ExprTuple</td><td>4</td><td><a class=\"ProveItLink\" href=\"../95d3fa045c21175e569e9fe1b17ef7f6367b24c30/expr.ipynb\"><img src=\"data:image/png;base64,iVBORw0KGgoAAAANSUhEUgAAADwAAAAVBAMAAADocZC/AAAAMFBMVEX////c3NwiIiJERESqqqqY\n",
       "mJh2dnZmZmYQEBDu7u4yMjJUVFTMzMyIiIi6uroAAAAs73DqAAAAAXRSTlMAQObYZgAAAUlJREFU\n",
       "KM9jYCAA+C7gkmF9ACROM3DuUEAVZ9H/tKppRQBDDZC9koGBawOqNO/yCQwLmIHiQCbQbH4HVGn2\n",
       "BAY2hzyg6QkMHBMYGN5PgAjPXaSkBaK5JzBI8wBN5GxgeAXkJkFkeZZOgBtgyQximzCUAcnVd7eC\n",
       "hIQRsqwXQkFUOsNSoBmfGfgPADmGCNsncxqAKC+GPqA/fjJwJABVGSCk93ALgKgXDP+ADl3AwF8A\n",
       "DJ8mJSWI0xj4Cp6B6fMgaaYChvcBQJchfM/FsICBIREk3QL2dj3QVZyIsEthA4anAshwUwaQu9pA\n",
       "glthsowbTjMwsDUwMEQB3c7A7cAONnfSA6g0s4AlA2eZAchjj4Cm7i2FaFp+ACL9wqrZeH0z0LXr\n",
       "GDgEkGJqF9TlUAAMVGCw4wRsF8ARigvMAmJp3NIbQQ7CmZh4DzAAANzrSRlgH7E8AAAAAElFTkSu\n",
       "QmCC\n",
       "\" style=\"display:inline;vertical-align:middle;\" /></a></td></tr>\n",
       "<tr><td>3</td><td>ExprTuple</td><td>5, 10</td><td><a class=\"ProveItLink\" href=\"../f03b15c90e9c8f52db56d6955e315438279af7b90/expr.ipynb\"><img src=\"data:image/png;base64,iVBORw0KGgoAAAANSUhEUgAAAFEAAAAVBAMAAADMaB9/AAAAMFBMVEX////c3NwiIiJERESqqqqY\n",
       "mJh2dnZmZmYQEBDu7u4yMjJUVFTMzMyIiIi6uroAAAAs73DqAAAAAXRSTlMAQObYZgAAAX5JREFU\n",
       "KM+Nkz1Iw0AUx/+1TdK0NWTvoJtQECoioiCWzoKd3JSAgi5KQRDUxe/BQQMdFDoYhEKNSwUXB7G7\n",
       "i5OCH1BcFHEoWlGhftxLDslJCs1w75+73733590d0PynXTQBjdFw7reSX+Ei/ZMoJtahlJk+8E1y\n",
       "yOP1PCJIAhbQKhRXdS5qPM4BE3IFGAHCppcM8X3aJ584QaBE/naBJ/iRcvvfVNDsozFF6YH45aMu\n",
       "kJHTmwwnRyVSchYFqrWMQTHnXhJ17jyZcxYsbLHQlsGsSA6b2HBVtHzkGF/CNwtnQKdILgDvrnrQ\n",
       "DAqxqkO+QqVaim3vb9p2ickOaG8uaUWYSZ3INSDwhVBVFXLWoLh9klMzQItTvYeZriFqDQlkHWED\n",
       "1Ol4jJWYAiQLk+y3gHTWEMhjLEJ9YaIraGJn3OnSPW28ex6oCGT+KgN1W4e2Wuzu/+hlDa4grPud\n",
       "kXukniV2mpLR8LJKHj3d8Nb9I1WLTDYkPfmjZCTQzOu4BX4BOD1fvPmj8OIAAAAASUVORK5CYII=\n",
       "\" style=\"display:inline;vertical-align:middle;\" /></a></td></tr>\n",
       "<tr><td>4</td><td>Operation</td><td>operator:&nbsp;6<br>operands:&nbsp;7<br></td><td><a class=\"ProveItLink\" href=\"../51c67a7d63d0ef51371e0f6bbf4607dc0d1bbaf10/expr.ipynb\"><img src=\"data:image/png;base64,iVBORw0KGgoAAAANSUhEUgAAADAAAAAPBAMAAABQAFHMAAAAMFBMVEX////c3NxmZmbMzMxERESY\n",
       "mJiIiIh2dna6urqqqqoyMjIiIiIQEBBUVFTu7u4AAAAiO1wTAAAAAXRSTlMAQObYZgAAAOJJREFU\n",
       "GNNj4LuzgQEFcO7/ver0mgAGBq4LqBJsix4wLGABMvgnoEowFTCwT6gAMvofQASerd69C0TzPmCQ\n",
       "ZQaZUg0RZ176AK7JjwXEXpt2FcQRQYizJoQCSb4vDPwGQNoRYcsTPgeQ6/4x8BQA5R0QEpd5BUCO\n",
       "WMDAr8DAwHF6926I5QwcCu0giluBoR/oG2aEb7gYFjAwFIK8oQ+0lw/h/0r2BgaGDSCbj4O4V2Hi\n",
       "jBdsGRjYDzDwTmACm/K6ASrBIuDHwKfuwMB3TRWicJEBRKLH64jL+iMKSKF6C+oqCAAAiJc438f0\n",
       "fH8AAAAASUVORK5CYII=\n",
       "\" style=\"display:inline;vertical-align:middle;\" /></a></td></tr>\n",
       "<tr><td>5</td><td>Operation</td><td>operator:&nbsp;8<br>operands:&nbsp;9<br></td><td><a class=\"ProveItLink\" href=\"../386b7a40c68df8528c863ef964cdcc89a0bef7920/expr.ipynb\"><img src=\"data:image/png;base64,iVBORw0KGgoAAAANSUhEUgAAAC0AAAAQBAMAAABw0OvaAAAAMFBMVEX///8yMjKqqqrMzMzu7u4i\n",
       "IiJmZmaYmJhEREQQEBC6urp2dnaIiIhUVFTc3NwAAAD87Fq/AAAAAXRSTlMAQObYZgAAAKVJREFU\n",
       "GNNjYMAALDcDGLACxgtoCh9AaH4FVHGmAxB6vQN28a1gku/Ornmo4rJnrgPJlQ84PqCIs/xg4Ddg\n",
       "4PvOwNaAIs70hYFzAwPvBwbWAyjibAIM/AkM/A0M/gYgnqCg6ERBQaDTWRMY1hcwvD/AoM/ggKwe\n",
       "6Px8BwZ/BYaLTAYo4gYMs4GeLmAK40Yxn1eB7QLI+acsTqG68046dv+iAy4kcQCzmyqD9t3CDAAA\n",
       "AABJRU5ErkJggg==\n",
       "\" style=\"display:inline;vertical-align:middle;\" /></a></td></tr>\n",
       "<tr><td>6</td><td>Literal</td><td></td><td><a class=\"ProveItLink\" href=\"../../../../logic/set_theory/membership/__pv_it/088cbc857536a28d4119ad9639a84270ccb0545d0/expr.ipynb\"><img src=\"data:image/png;base64,iVBORw0KGgoAAAANSUhEUgAAAAwAAAAMBAMAAACkW0HUAAAALVBMVEX///+qqqpmZmZUVFQQEBC6\n",
       "urpERETc3NyYmJjMzMwiIiIyMjKIiIju7u4AAACYsrA9AAAAAXRSTlMAQObYZgAAADxJREFUCNdj\n",
       "YOA9vWrVBgaG2b0MQMCeCyIZ2ArA1DUwyRCyahVIyWQI7xaEYm4AU7xLIdxqTQgtvGvVBgCkcQ7e\n",
       "geM/tQAAAABJRU5ErkJggg==\n",
       "\" style=\"display:inline;vertical-align:middle;\" /></a></td></tr>\n",
       "<tr><td>7</td><td>ExprTuple</td><td>12, 10</td><td><a class=\"ProveItLink\" href=\"../3284c4c0abf842a90cd48246d8a0360c78123df80/expr.ipynb\"><img src=\"data:image/png;base64,iVBORw0KGgoAAAANSUhEUgAAACwAAAAVBAMAAADP3xFXAAAAMFBMVEX////c3NwiIiJERESqqqqY\n",
       "mJh2dnZmZmYQEBDu7u4yMjJUVFTMzMyIiIi6uroAAAAs73DqAAAAAXRSTlMAQObYZgAAASZJREFU\n",
       "GNNjYMAB+C6gi7A+ABKnGTh3KED4LPqfVjWtCGCoAbJXMjBwbYAI8y6fwLCAGcgHMoFm8DtAhNkT\n",
       "GNgc8oCmJDBwTGBgeD8BIsw9gUGaB6iTs4HhFZCbhLDOkhmkxIShDEiuvrsV5ogLoSAqnWEpUM9n\n",
       "Bv4DEOHJnAYgyouhD+iunwwcCRDhPdwCIOoFwz+gAxYw8BdAvFbwDEyfBwkzFTC8DwBzuRgWMDAk\n",
       "goRbwM6uhzgxhQ3obwWQIaYMIPvaGDiBoowbTjMwsDUwMEQB3cLA7cC+gWE+UBGzgCUDZ5kByIGP\n",
       "gA7cW8rAMOMjUK9Vs/H6ZqDt6xg4BKA+eYjwKtDzrFAXMwQghNkugAMWXXgWEEtDwxopejaCXIUR\n",
       "abwHGABefEKB34/mbQAAAABJRU5ErkJggg==\n",
       "\" style=\"display:inline;vertical-align:middle;\" /></a></td></tr>\n",
       "<tr><td>8</td><td>Literal</td><td></td><td><a class=\"ProveItLink\" href=\"../3e6688136fa3c7aefbebe51301b7c3ebf0b69c440/expr.ipynb\"><img src=\"data:image/png;base64,iVBORw0KGgoAAAANSUhEUgAAAA4AAAAOBAMAAADtZjDiAAAAJFBMVEX///+6urpUVFQQEBAiIiIy\n",
       "MjJmZmaIiIiqqqrc3Nzu7u4AAACgHpL+AAAAAXRSTlMAQObYZgAAAB5JREFUCNdjYGBgWMkAAe2k\n",
       "0Kmhoc6hoUGk6BMHYgAHOwjcado9fwAAAABJRU5ErkJggg==\n",
       "\" style=\"display:inline;vertical-align:middle;\" /></a></td></tr>\n",
       "<tr><td>9</td><td>ExprTuple</td><td>11, 12</td><td><a class=\"ProveItLink\" href=\"../359d2ffcad0b096b85ece3bdabdf3ac9ad97321c0/expr.ipynb\"><img src=\"data:image/png;base64,iVBORw0KGgoAAAANSUhEUgAAACkAAAAVBAMAAAAp9toTAAAAMFBMVEX////c3NwiIiJERESqqqqY\n",
       "mJh2dnZmZmYQEBDu7u4yMjJUVFTMzMyIiIi6uroAAAAs73DqAAAAAXRSTlMAQObYZgAAAQxJREFU\n",
       "GNNtkSFPw1AQx3/burWlbJ1HgMPO4PsNqEKSBYOC1IAFEoIklXOtQRDMDAkhWdIEidkHgAVQBLOS\n",
       "ZQJDuGv3km7hiXv/+72Xe/+7B/+vzngF7Gt4rgD3YQvsTNRt9d7aUEIK7aUCfiBhD5y4SqeaDeBr\n",
       "6aUDDY2AU9lqo+OLkt693kMr4kb0Z7eRlx5m+BlWyrVcnWP3Cmr94PTpnPMLXk69dGKn+BHruVK/\n",
       "R5IVtB4xDZVewuaYXeKF3bNYK+xAEvBoZa7SjCtophxKm6G13SKREXiBPSycfajdydOEwbc4G53o\n",
       "MN5wuqavdyOk42bfJKERR9VJGurKJNlYJG1z6mnN2uoPvcAf68w9OrA141UAAAAASUVORK5CYII=\n",
       "\" style=\"display:inline;vertical-align:middle;\" /></a></td></tr>\n",
       "<tr><td>10</td><td>Literal</td><td></td><td><a class=\"ProveItLink\" href=\"../../../sets/integer/__pv_it/7b9e51516f347f625fa636d7bb440e96498977000/expr.ipynb\"><img src=\"data:image/png;base64,iVBORw0KGgoAAAANSUhEUgAAAA4AAAAOBAMAAADtZjDiAAAAMFBMVEX////MzMzc3NxUVFS6urp2\n",
       "dnZERETu7u5mZmaIiIiYmJgQEBAyMjIiIiKqqqoAAAAf68ZqAAAAAXRSTlMAQObYZgAAAGlJREFU\n",
       "CNdj4Lv/98ze0wsYOE8UMBxgY2DgCGBgfRDCwMBcwKDMaMAAAulsBSCKa8IqMLeMPQFMGzIrgCiW\n",
       "Blcwl4fhAANDEANDHKsDA8MFBiYDYQYG1g0MbArpDOytCQzeOdvSzm9rAAAm6xY1AUf+1AAAAABJ\n",
       "RU5ErkJggg==\n",
       "\" style=\"display:inline;vertical-align:middle;\" /></a></td></tr>\n",
       "<tr><td>11</td><td>Variable</td><td></td><td><a class=\"ProveItLink\" href=\"../../../../__pv_it/07527342713064c87612d00d8557c53d53d5324a0/expr.ipynb\"><img src=\"data:image/png;base64,iVBORw0KGgoAAAANSUhEUgAAAAsAAAAJBAMAAAAWSsseAAAAMFBMVEX///8yMjKqqqrMzMzu7u4i\n",
       "IiJmZmaYmJhEREQQEBC6urp2dnaIiIhUVFTc3NwAAAD87Fq/AAAAAXRSTlMAQObYZgAAAEhJREFU\n",
       "CNdjYOC7s2seAwPDygccHxgY+L4zsDUwMPB+YGA9wMDA38Dgb8DA8P4Agz6DA4O/AsNFJgMGxgKm\n",
       "MG6gyjunLE4xAAAZTBA5TB6DCwAAAABJRU5ErkJggg==\n",
       "\" style=\"display:inline;vertical-align:middle;\" /></a></td></tr>\n",
       "<tr><td>12</td><td>Variable</td><td></td><td><a class=\"ProveItLink\" href=\"../../../../__pv_it/6840a4fa6c106149dc16a131294d0c5e44f1b0480/expr.ipynb\"><img src=\"data:image/png;base64,iVBORw0KGgoAAAANSUhEUgAAAAkAAAAOBAMAAAAPuiubAAAALVBMVEX///9mZmbMzMxERESYmJiI\n",
       "iIh2dna6urqqqqoyMjIiIiIQEBBUVFTu7u4AAAD9S1JeAAAAAXRSTlMAQObYZgAAAE1JREFUCNdj\n",
       "4D29gAEIOA+ASL4GEFl3AURmgQiGOaFHGBh4HzPwKTBwvGXgTmBgnMDAJ8DAJcBQ5wBSLncBJLWN\n",
       "gYGngRFoBO9REQYGAGrcDtUkVqASAAAAAElFTkSuQmCC\n",
       "\" style=\"display:inline;vertical-align:middle;\" /></a></td></tr>\n",
       "</table>\n"
      ],
      "text/plain": [
       "0. b -> ((a + b) in Integers) | b in Integers\n",
       "   core type: Lambda\n",
       "   parameter: 12\n",
       "   body: 1\n",
       "   conditions: 2\\n1. (a + b) in Integers\n",
       "   core type: Operation\n",
       "   operator: 6\n",
       "   operands: 3\n",
       "2. (b in Integers)\n",
       "   core type: ExprTuple\n",
       "   sub-expressions: 4\n",
       "3. (a + b , Integers)\n",
       "   core type: ExprTuple\n",
       "   sub-expressions: 5, 10\n",
       "4. b in Integers\n",
       "   core type: Operation\n",
       "   operator: 6\n",
       "   operands: 7\n",
       "5. a + b\n",
       "   core type: Operation\n",
       "   operator: 8\n",
       "   operands: 9\n",
       "6. in\n",
       "   core type: Literal\n",
       "   sub-expressions: \n",
       "7. (b , Integers)\n",
       "   core type: ExprTuple\n",
       "   sub-expressions: 12, 10\n",
       "8. +\n",
       "   core type: Literal\n",
       "   sub-expressions: \n",
       "9. (a , b)\n",
       "   core type: ExprTuple\n",
       "   sub-expressions: 11, 12\n",
       "10. Integers\n",
       "    core type: Literal\n",
       "    sub-expressions: \n",
       "11. a\n",
       "    core type: Variable\n",
       "    sub-expressions: \n",
       "12. b\n",
       "    core type: Variable\n",
       "    sub-expressions: "
      ]
     },
     "execution_count": 4,
     "metadata": {},
     "output_type": "execute_result"
    }
   ],
   "source": [
    "# display the expression information\n",
    "expr.exprInfo()"
   ]
  },
  {
   "cell_type": "code",
   "execution_count": null,
   "metadata": {},
   "outputs": [],
   "source": []
  }
 ],
 "metadata": {
  "kernelspec": {
   "display_name": "Python 3",
   "language": "python",
   "name": "python3"
  }
 },
 "nbformat": 4,
 "nbformat_minor": 0
}
