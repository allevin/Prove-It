{
 "cells": [
  {
   "cell_type": "markdown",
   "metadata": {},
   "source": [
    "Expression of type <a class=\"ProveItLink\" href=\"../../../../../../doc/html/api/proveit.ExprTuple.html\">ExprTuple</a>\n",
    "=======================\n",
    "# from context <a class=\"ProveItLink\" href=\"../../_context_.ipynb\">proveit.number.addition</a>"
   ]
  },
  {
   "cell_type": "code",
   "execution_count": 1,
   "metadata": {},
   "outputs": [],
   "source": [
    "# import Expression classes needed to build the expression\n",
    "from proveit import ExprTuple\n",
    "from proveit._common_ import B\n",
    "from proveit.logic import InSet\n",
    "from proveit.number import Reals"
   ]
  },
  {
   "cell_type": "code",
   "execution_count": 2,
   "metadata": {},
   "outputs": [
    {
     "data": {
      "text/html": [
       "<strong id=\"expr\">expr:</strong> <a class=\"ProveItLink\" href=\"expr.ipynb\"><img src=\"data:image/png;base64,iVBORw0KGgoAAAANSUhEUgAAAEUAAAAVBAMAAADiLT7tAAAAMFBMVEX////c3NwiIiJERESqqqqY\n",
       "mJh2dnZmZmYQEBDu7u4yMjJUVFTMzMyIiIi6uroAAAAs73DqAAAAAXRSTlMAQObYZgAAAVhJREFU\n",
       "KM9jYCAG8F3AKx0HIk4DcfT/3butHqDIRX22X9UF1M5+AMhZCRJpBnL+oRpgIM1w2EuAgWEBAwMv\n",
       "yCqev0D8G02NOAPzRAMGhjAGBo4JQD7vRwYG1m9gKc5bSkoLoGrYDgDVzGBgeAXiMzcwMDB1gtWc\n",
       "ikSYA1bD7MBQBuLzb2BgXAwykIHREskubpBdbAUMS0H883vvFgWAZZgFkNQ8igLyWBYw9IH49wUY\n",
       "OLXBMpMRbpZQ0nIAhV8DA9jHFiB1YINeKCnB3fycGWQ9zweIGpC34xNgIQqzi/3NBoiaFhD1FUjs\n",
       "BxnMMAk5fFZehdhlCg0exl9gGe4AJDWnuYERwbqAIR0aPCdWQoJQD0kNm4Mh2O+PgDFl/3v3rqVQ\n",
       "KakaeJzaMCxe78DA9YCBQwAtMXgvgvgLBoBxwZpAIH3lwtIGbsAJMlQavxpukFsY8afVOwwMAOUP\n",
       "VtZoGe8KAAAAAElFTkSuQmCC\n",
       "\" style=\"display:inline;vertical-align:middle;\" /></a><br>"
      ],
      "text/plain": [
       "expr: (B in Reals)"
      ]
     },
     "execution_count": 2,
     "metadata": {},
     "output_type": "execute_result"
    }
   ],
   "source": [
    "# build up the expression from sub-expressions\n",
    "expr = ExprTuple(InSet(B, Reals))"
   ]
  },
  {
   "cell_type": "code",
   "execution_count": 3,
   "metadata": {},
   "outputs": [
    {
     "name": "stdout",
     "output_type": "stream",
     "text": [
      "Passed sanity check: built 'expr' is the same as the stored Expression.\n"
     ]
    }
   ],
   "source": [
    "# check that the built expression is the same as the stored expression\n",
    "%check_expr"
   ]
  },
  {
   "cell_type": "code",
   "execution_count": 4,
   "metadata": {},
   "outputs": [
    {
     "data": {
      "text/html": [
       "<table><tr><th>&nbsp;</th><th>core type</th><th>sub-expressions</th><th>expression</th></tr>\n",
       "<tr><td>0</td><td>ExprTuple</td><td>1</td><td><a class=\"ProveItLink\" href=\"expr.ipynb\"><img src=\"data:image/png;base64,iVBORw0KGgoAAAANSUhEUgAAAEUAAAAVBAMAAADiLT7tAAAAMFBMVEX////c3NwiIiJERESqqqqY\n",
       "mJh2dnZmZmYQEBDu7u4yMjJUVFTMzMyIiIi6uroAAAAs73DqAAAAAXRSTlMAQObYZgAAAVhJREFU\n",
       "KM9jYCAG8F3AKx0HIk4DcfT/3butHqDIRX22X9UF1M5+AMhZCRJpBnL+oRpgIM1w2EuAgWEBAwMv\n",
       "yCqev0D8G02NOAPzRAMGhjAGBo4JQD7vRwYG1m9gKc5bSkoLoGrYDgDVzGBgeAXiMzcwMDB1gtWc\n",
       "ikSYA1bD7MBQBuLzb2BgXAwykIHREskubpBdbAUMS0H883vvFgWAZZgFkNQ8igLyWBYw9IH49wUY\n",
       "OLXBMpMRbpZQ0nIAhV8DA9jHFiB1YINeKCnB3fycGWQ9zweIGpC34xNgIQqzi/3NBoiaFhD1FUjs\n",
       "BxnMMAk5fFZehdhlCg0exl9gGe4AJDWnuYERwbqAIR0aPCdWQoJQD0kNm4Mh2O+PgDFl/3v3rqVQ\n",
       "KakaeJzaMCxe78DA9YCBQwAtMXgvgvgLBoBxwZpAIH3lwtIGbsAJMlQavxpukFsY8afVOwwMAOUP\n",
       "VtZoGe8KAAAAAElFTkSuQmCC\n",
       "\" style=\"display:inline;vertical-align:middle;\" /></a></td></tr>\n",
       "<tr><td>1</td><td>Operation</td><td>operator:&nbsp;2<br>operands:&nbsp;3<br></td><td><a class=\"ProveItLink\" href=\"../f106cf112aaf48a758227d3b6eb7aced89c5fc2d0/expr.ipynb\"><img src=\"data:image/png;base64,iVBORw0KGgoAAAANSUhEUgAAADkAAAAPBAMAAACsFXoGAAAAMFBMVEX///+qqqru7u4iIiJ2dnbc\n",
       "3NyIiIjMzMxmZmYQEBC6uroyMjJERERUVFSYmJgAAADLUcuvAAAAAXRSTlMAQObYZgAAAOtJREFU\n",
       "GNNjYGB4+//u3dMLGJDB6z/nd89OgLDnMDBw/EKRZTgQy1AjHQBisX8D4r9oshEMPKoHQCy2rwwM\n",
       "fF/AgkzZxsYboLIsBWBZngkMDMyTwLLVjxB6obL8FxhY9yiAWKyHkEzmhZhcfy2t+QFYjCcASXbx\n",
       "azAvP4CByRYspoNwVaSxtQCYdRKkAqx5pbEx3FUreMCWMYA8894BxKpF8hHH8gtg7/4DEvfBxigj\n",
       "+3dTHsy7rL/BYrwPkGRreQug3q3cBAkMKyRZFoGjwBA+//fu7X1Qweh2eCwcZ9izXwA1eBlkN0Pc\n",
       "DAUAyOlOH69kqioAAAAASUVORK5CYII=\n",
       "\" style=\"display:inline;vertical-align:middle;\" /></a></td></tr>\n",
       "<tr><td>2</td><td>Literal</td><td></td><td><a class=\"ProveItLink\" href=\"../../../../logic/set_theory/membership/__pv_it/088cbc857536a28d4119ad9639a84270ccb0545d0/expr.ipynb\"><img src=\"data:image/png;base64,iVBORw0KGgoAAAANSUhEUgAAAAwAAAAMBAMAAACkW0HUAAAALVBMVEX///+qqqpmZmZUVFQQEBC6\n",
       "urpERETc3NyYmJjMzMwiIiIyMjKIiIju7u4AAACYsrA9AAAAAXRSTlMAQObYZgAAADxJREFUCNdj\n",
       "YOA9vWrVBgaG2b0MQMCeCyIZ2ArA1DUwyRCyahVIyWQI7xaEYm4AU7xLIdxqTQgtvGvVBgCkcQ7e\n",
       "geM/tQAAAABJRU5ErkJggg==\n",
       "\" style=\"display:inline;vertical-align:middle;\" /></a></td></tr>\n",
       "<tr><td>3</td><td>ExprTuple</td><td>4, 5</td><td><a class=\"ProveItLink\" href=\"../e5fab2dac593db4772ea1cf2b5a5c561022422b30/expr.ipynb\"><img src=\"data:image/png;base64,iVBORw0KGgoAAAANSUhEUgAAADUAAAAVBAMAAAAUZLt1AAAAMFBMVEX////c3NwiIiJERESqqqqY\n",
       "mJh2dnZmZmYQEBDu7u4yMjJUVFTMzMyIiIi6uroAAAAs73DqAAAAAXRSTlMAQObYZgAAATRJREFU\n",
       "KM9jYMAH+C5gFY4DEaeBOPr/7t1WD8BiUZ/tV3UBlbMfAHJWgkSagZx/EA0G0gyHvQQYGBYwMPCC\n",
       "jOT5C8S/oXLiDMwTDRgYwhgYOCYA+bwfGRhYv8Hl2A4A5WYwMLwC8ZkbGBiYOlHlmB0YykB8/g0M\n",
       "jIsnwOW4QWayFTAsBfHP771bFMAAl3sUBXQLywKGPhD/vgADpzZMTkJJywHk7wYGsMstQPIBMH3P\n",
       "mUHG83yAyIGcH58Ak2N/swEi1wKivgKJ/Q5w+1ZehZhpCvUe4y8GBk6o3GluYICxLmBIh3rvBDDs\n",
       "5itA/edgCPbDI2BI2v/evQvklxkfwWFtw7B4vQMD1wMGDgGkiHmIxAaGGWsCEj8AiZ0LiyNMOU5g\n",
       "HDFII/i8SMq4QXYxYk8TdxgYAMYaUKdbfr13AAAAAElFTkSuQmCC\n",
       "\" style=\"display:inline;vertical-align:middle;\" /></a></td></tr>\n",
       "<tr><td>4</td><td>Variable</td><td></td><td><a class=\"ProveItLink\" href=\"../../../../__pv_it/077b2ff79244fb4582cbe22c6e3356fa92a52f2f0/expr.ipynb\"><img src=\"data:image/png;base64,iVBORw0KGgoAAAANSUhEUgAAABAAAAAOBAMAAADUAYG5AAAAMFBMVEX///+qqqru7u4iIiJ2dnbc\n",
       "3NyIiIjMzMxmZmYQEBC6uroyMjJERERUVFSYmJgAAADLUcuvAAAAAXRSTlMAQObYZgAAAGpJREFU\n",
       "CNdjYGB4+//u3dMLGIBgDgMDxy8gzf4NiP8CGWxfGRj4vgAZPBMYGJgnARn8FxhY9ygAGfXX0pof\n",
       "gDTlBzAw2YIYJ0EckBBI53sHoBH/gIz7AhBjWH9DjancBLTl/N+7t/cxMAAA3u4f/5xagjYAAAAA\n",
       "SUVORK5CYII=\n",
       "\" style=\"display:inline;vertical-align:middle;\" /></a></td></tr>\n",
       "<tr><td>5</td><td>Literal</td><td></td><td><a class=\"ProveItLink\" href=\"../../../sets/real/__pv_it/9e7645ee1117062e179dd6264898f99ed95b157c0/expr.ipynb\"><img src=\"data:image/png;base64,iVBORw0KGgoAAAANSUhEUgAAAA8AAAAOBAMAAAACpFvcAAAAMFBMVEX///8iIiK6urp2dnbu7u5m\n",
       "ZmaqqqrMzMxUVFTc3NyIiIgQEBBEREQyMjKYmJgAAAA9nvXMAAAAAXRSTlMAQObYZgAAAFJJREFU\n",
       "CNdjePvn/N29CxiA4MAMhprcCSDGVAYezwMQBnMBOoMDJqX4Fqx4tqBsAlj7VFUeBwiDVb0BwmC4\n",
       "sg7KqOAogJqTcJKBAWjpcYY79xMAyqEnfsw4ApEAAAAASUVORK5CYII=\n",
       "\" style=\"display:inline;vertical-align:middle;\" /></a></td></tr>\n",
       "</table>\n"
      ],
      "text/plain": [
       "0. (B in Reals)\n",
       "   core type: ExprTuple\n",
       "   sub-expressions: 1\n",
       "1. B in Reals\n",
       "   core type: Operation\n",
       "   operator: 2\n",
       "   operands: 3\n",
       "2. in\n",
       "   core type: Literal\n",
       "   sub-expressions: \n",
       "3. (B , Reals)\n",
       "   core type: ExprTuple\n",
       "   sub-expressions: 4, 5\n",
       "4. B\n",
       "   core type: Variable\n",
       "   sub-expressions: \n",
       "5. Reals\n",
       "   core type: Literal\n",
       "   sub-expressions: "
      ]
     },
     "execution_count": 4,
     "metadata": {},
     "output_type": "execute_result"
    }
   ],
   "source": [
    "# display the expression information\n",
    "expr.exprInfo()"
   ]
  },
  {
   "cell_type": "code",
   "execution_count": null,
   "metadata": {},
   "outputs": [],
   "source": []
  }
 ],
 "metadata": {
  "kernelspec": {
   "display_name": "Python 3",
   "language": "python",
   "name": "python3"
  }
 },
 "nbformat": 4,
 "nbformat_minor": 0
}
