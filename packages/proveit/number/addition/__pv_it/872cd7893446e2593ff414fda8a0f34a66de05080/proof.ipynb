{
 "cells": [
  {
   "cell_type": "markdown",
   "metadata": {},
   "source": [
    "Show the Proof\n",
    "========"
   ]
  },
  {
   "cell_type": "code",
   "execution_count": 1,
   "metadata": {},
   "outputs": [
    {
     "data": {
      "text/html": [
       "<table><tr><th>&nbsp;</th><th>step type</th><th>requirements</th><th>statement</th></tr>\n",
       "<tr><td>0</td><td>assumption</td><td></td><td><span style=\"font-size:20px;\"><a class=\"ProveItLink\" href=\"../fadd9209082107c11c6b5c80f68ea4e1589cc8350/expr.ipynb\"><img src=\"data:image/png;base64,iVBORw0KGgoAAAANSUhEUgAAAEUAAAAVBAMAAADiLT7tAAAAMFBMVEX////c3NxERESqqqpUVFS6\n",
       "urrMzMwyMjIQEBCIiIh2dnYiIiLu7u5mZmaYmJgAAABXZE4RAAAAAXRSTlMAQObYZgAAATFJREFU\n",
       "KM9jYGDgu8eAE7CtEgBRPLsY8AC2ZhDJ+QGLFF+90veKShDrOojgasCmn4nRgU25EMhYgU/NBQYd\n",
       "IexqTlbv3g5Ts4wJqxq2ugMIc9DU8N1cpwDiCB1AsssHbhdvAZC4wiB/AcRRRHIP6z6Qm9+DeBkB\n",
       "QGP+MPAbgMJKAaGme3cxiMEO1JvSBmRwODDkgwKUtXv3bpibr17QAatWf8DAEJHAwGBvwDAb7GQH\n",
       "JLuupoAY3AuABAvQPfMFGHTB8bIBSQ37yQcw93BtADM+g6X8kNSwObgh+/38AZaPYKnTAUh+X8wk\n",
       "gKSG1XMuxBbG2gRYnH5KYFf/jBLOTBcg+pndIf6CA7iaAIbzBjgSEFgNXwMD70cGF1yJDJx+eHYy\n",
       "MGvOfYArHbZC3LeYQHoGAIIdVbRgX/9NAAAAAElFTkSuQmCC\n",
       "\" style=\"display:inline;vertical-align:middle;\" /></a> <a class=\"ProveItLink\" href=\"proof.ipynb\" style=\"text-decoration: none\">&#x22A2;&nbsp;</a><a class=\"ProveItLink\" href=\"../dac58cc511316415102ffebb7a0709219f45a3c10/expr.ipynb\"><img src=\"data:image/png;base64,iVBORw0KGgoAAAANSUhEUgAAADMAAAASBAMAAAAEf/uKAAAAMFBMVEX///8yMjK6uroiIiLMzMwQ\n",
       "EBCqqqru7u7c3NxUVFRERER2dnaIiIhmZmaYmJgAAAAgbmjVAAAAAXRSTlMAQObYZgAAANZJREFU\n",
       "GNNjYMAAD3+tFww8wIAVLOhk8EpswC7Vy8BVsQBZhP2gsbEAVIrbAUXK8TlCF1Tq7elXIIpjOZKB\n",
       "nGADeSdw/AUJcDUgSSk/BPHeFzB8AwlUIZzRamyYAGJEMrD8ANGqxsZwZ+hyFQBptm8MPAYgAU8k\n",
       "x/OqTADSPD8YuC6ABIqR/SV+DkjzfWDgBxvM+QBJypPTAejR7wzzwW5jN0KS4k5YAWRonrkMEWm8\n",
       "Ag/eJQxS8mCj1kJVZwpDXAgDTAzs37BHAMP9Bs4JOKSyztzDIQMAaPdAHEfurEkAAAAASUVORK5C\n",
       "YII=\n",
       "\" style=\"display:inline;vertical-align:middle;\" /></a></span></td></tr>\n",
       "</table>"
      ],
      "text/plain": [
       "<proveit._core_.proof._ShowProof at 0x7f94eb32f3c8>"
      ]
     },
     "execution_count": 1,
     "metadata": {},
     "output_type": "execute_result"
    }
   ],
   "source": [
    "import proveit\n",
    "%show_proof"
   ]
  },
  {
   "cell_type": "code",
   "execution_count": null,
   "metadata": {},
   "outputs": [],
   "source": []
  }
 ],
 "metadata": {
  "kernelspec": {
   "display_name": "Python 3",
   "language": "python",
   "name": "python3"
  }
 },
 "nbformat": 4,
 "nbformat_minor": 0
}
