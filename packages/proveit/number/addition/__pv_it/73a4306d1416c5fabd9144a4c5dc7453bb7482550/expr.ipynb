{
 "cells": [
  {
   "cell_type": "markdown",
   "metadata": {},
   "source": [
    "Expression of type <a class=\"ProveItLink\" href=\"../../../../../../doc/html/api/proveit.ExprTuple.html\">ExprTuple</a>\n",
    "=======================\n",
    "# from context <a class=\"ProveItLink\" href=\"../../_context_.ipynb\">proveit.number.addition</a>"
   ]
  },
  {
   "cell_type": "code",
   "execution_count": 1,
   "metadata": {},
   "outputs": [],
   "source": [
    "# import Expression classes needed to build the expression\n",
    "from proveit import ExprTuple\n",
    "from proveit.number import Add, one, three, two, zero"
   ]
  },
  {
   "cell_type": "code",
   "execution_count": 2,
   "metadata": {},
   "outputs": [
    {
     "data": {
      "text/html": [
       "<strong id=\"expr\">expr:</strong> <a class=\"ProveItLink\" href=\"expr.ipynb\"><img src=\"data:image/png;base64,iVBORw0KGgoAAAANSUhEUgAAALkAAAAVBAMAAADoXVL6AAAAMFBMVEX////c3NwiIiJERESqqqqY\n",
       "mJh2dnZmZmYQEBDu7u4yMjJUVFTMzMyIiIi6uroAAAAs73DqAAAAAXRSTlMAQObYZgAAAdxJREFU\n",
       "OMu1lTFIw0AUhv/a1Da1icHFQcEODk7WxdluTsVOjlIQ6lQsChZE0MFBHDS62M2giJgOdhWFdnJx\n",
       "6eKmWB0FQUt1ELRecmnMXaIBpQdpru9/9+X47+UF6OyQax0Czxg/V+QKqpyyd7vCJ/M5sexsks4C\n",
       "hcO6hxauktkJIE7w9FHsVtmIK6cf8gedDUBqemkaINUgnlfaK3foTYpD0piIO2c+iQadnQEJK0tx\n",
       "atNAxFh0116ZoreuMuQXJuLOmbLpGyoq1Bqh5tSKwKPXyt48Yk0fOmxnTlWssnSqBZNY8lo5lEHs\n",
       "w5ceLdtGJ1SObmjdeRz9RH/zo1+WvmvESrbppiZo2PozHdKWvdMxjm5q8ho+/+4MttuhRfB0Q4s9\n",
       "O+nLuj6i6yXrVF+ZiDtnEJhIWxs1DyCs6webul62NUJfh3dFCj4VKbZUmz6JgOLcu6URZ8a96ORt\n",
       "6o77OPNOKkURzTPNI8TQqYaQhjlPT4dRrPrQryG/Yd/YQ182u8D6bmpGRT6QP4Xt4zTL2stdcM9z\n",
       "5QiF5SSKhn+JVqvB0k0N0ToiirP9pFx91Cdyz0gC081JJwhlnIEnF8snkv7lW5GjHfgfI/2zJGpm\n",
       "d/7HkH7RegzPA5368t0AXxLatXv8RxY9AAAAAElFTkSuQmCC\n",
       "\" style=\"display:inline;vertical-align:middle;\" /></a><br>"
      ],
      "text/plain": [
       "expr: (1 + 0 + 1 + 3 , 2 + 3)"
      ]
     },
     "execution_count": 2,
     "metadata": {},
     "output_type": "execute_result"
    }
   ],
   "source": [
    "# build up the expression from sub-expressions\n",
    "expr = ExprTuple(Add(one, zero, one, three), Add(two, three))"
   ]
  },
  {
   "cell_type": "code",
   "execution_count": 3,
   "metadata": {},
   "outputs": [
    {
     "name": "stdout",
     "output_type": "stream",
     "text": [
      "Passed sanity check: built 'expr' is the same as the stored Expression.\n"
     ]
    }
   ],
   "source": [
    "# check that the built expression is the same as the stored expression\n",
    "%check_expr"
   ]
  },
  {
   "cell_type": "code",
   "execution_count": 4,
   "metadata": {},
   "outputs": [
    {
     "data": {
      "text/html": [
       "<table><tr><th>&nbsp;</th><th>core type</th><th>sub-expressions</th><th>expression</th></tr>\n",
       "<tr><td>0</td><td>ExprTuple</td><td>1, 2</td><td><a class=\"ProveItLink\" href=\"expr.ipynb\"><img src=\"data:image/png;base64,iVBORw0KGgoAAAANSUhEUgAAALkAAAAVBAMAAADoXVL6AAAAMFBMVEX////c3NwiIiJERESqqqqY\n",
       "mJh2dnZmZmYQEBDu7u4yMjJUVFTMzMyIiIi6uroAAAAs73DqAAAAAXRSTlMAQObYZgAAAdxJREFU\n",
       "OMu1lTFIw0AUhv/a1Da1icHFQcEODk7WxdluTsVOjlIQ6lQsChZE0MFBHDS62M2giJgOdhWFdnJx\n",
       "6eKmWB0FQUt1ELRecmnMXaIBpQdpru9/9+X47+UF6OyQax0Czxg/V+QKqpyyd7vCJ/M5sexsks4C\n",
       "hcO6hxauktkJIE7w9FHsVtmIK6cf8gedDUBqemkaINUgnlfaK3foTYpD0piIO2c+iQadnQEJK0tx\n",
       "atNAxFh0116ZoreuMuQXJuLOmbLpGyoq1Bqh5tSKwKPXyt48Yk0fOmxnTlWssnSqBZNY8lo5lEHs\n",
       "w5ceLdtGJ1SObmjdeRz9RH/zo1+WvmvESrbppiZo2PozHdKWvdMxjm5q8ho+/+4MttuhRfB0Q4s9\n",
       "O+nLuj6i6yXrVF+ZiDtnEJhIWxs1DyCs6webul62NUJfh3dFCj4VKbZUmz6JgOLcu6URZ8a96ORt\n",
       "6o77OPNOKkURzTPNI8TQqYaQhjlPT4dRrPrQryG/Yd/YQ182u8D6bmpGRT6QP4Xt4zTL2stdcM9z\n",
       "5QiF5SSKhn+JVqvB0k0N0ToiirP9pFx91Cdyz0gC081JJwhlnIEnF8snkv7lW5GjHfgfI/2zJGpm\n",
       "d/7HkH7RegzPA5368t0AXxLatXv8RxY9AAAAAElFTkSuQmCC\n",
       "\" style=\"display:inline;vertical-align:middle;\" /></a></td></tr>\n",
       "<tr><td>1</td><td>Operation</td><td>operator:&nbsp;4<br>operands:&nbsp;3<br></td><td><a class=\"ProveItLink\" href=\"../45abd3f584a7e45a239184d4468461f8cab3204f0/expr.ipynb\"><img src=\"data:image/png;base64,iVBORw0KGgoAAAANSUhEUgAAAHQAAAAQBAMAAAA10UZYAAAAMFBMVEX///92dnbMzMy6uroiIiKq\n",
       "qqrc3NyYmJgyMjIQEBBmZmaIiIhUVFTu7u5EREQAAADaqMZ6AAAAAXRSTlMAQObYZgAAAP1JREFU\n",
       "KM9jYGB4y4AKeFfvUkAT4ruAJqAo+BRI3vuLJsxiwOuEZth7NK1sCxjsNzDcOQPTypsAobcwMOxA\n",
       "EeE9cx6m9RqEYvzKwO/AwMAN08q6AUL7MDDYJ6CIMOyHaY2GKsWh9RcDg34Afq1AAHQwhla2j0Ct\n",
       "Gwhq7WHAoVWAgFYmiQPkamVg2GlAtoM5/8K0cnV0tMzo6DgADaYCFBGo1hUdHZ4dHSBPsikw8H3H\n",
       "HjnxBCLn/l/sWoFJQoQBv1b+BgaWb1i0sgTwTiKglbuAwV6AgWvlj+WoCnkX7lFAFVk1v6sANZii\n",
       "VrUip2m4HXhEohmwAuYNhEWskdgAStxuyFkhgtwAAAAASUVORK5CYII=\n",
       "\" style=\"display:inline;vertical-align:middle;\" /></a></td></tr>\n",
       "<tr><td>2</td><td>Operation</td><td>operator:&nbsp;4<br>operands:&nbsp;5<br></td><td><a class=\"ProveItLink\" href=\"../b3da72475f2e5820f90b445dc3397d522d6d2e280/expr.ipynb\"><img src=\"data:image/png;base64,iVBORw0KGgoAAAANSUhEUgAAACwAAAAQBAMAAACfEoDkAAAAMFBMVEX///+YmJh2dnbMzMwQEBAi\n",
       "IiLu7u6qqqqIiIhUVFS6urpEREQyMjJmZmbc3NwAAACOMKdoAAAAAXRSTlMAQObYZgAAALNJREFU\n",
       "GNNj4Lt7egEDCjBS2s7A8JKB4zuKKN8FhvUNDNMYGOIhfLYHYIrpOwN/AINLAsN8iCnsDRAKLHw+\n",
       "geE+ijAQrAez4hPQhE+CCOZPDCjCzDoTQBTPBgY01S0gU28zoAuzfGNg4ABr4T1z5qjPmTNANp8B\n",
       "A/dHBoZaBr4HyKrzv4GEmS8wMKII8x9gYP3H8FRJ6SqK2RwCDOsVGOL///+KamXt3ePIYYRwCQrg\n",
       "QhIGAAaPNUmGC4MkAAAAAElFTkSuQmCC\n",
       "\" style=\"display:inline;vertical-align:middle;\" /></a></td></tr>\n",
       "<tr><td>3</td><td>ExprTuple</td><td>7, 6, 7, 9</td><td><a class=\"ProveItLink\" href=\"../14d0974da24fde13b45b4c4518911eb968c510f20/expr.ipynb\"><img src=\"data:image/png;base64,iVBORw0KGgoAAAANSUhEUgAAAFEAAAAVBAMAAADMaB9/AAAAMFBMVEX////c3NwiIiJERESqqqqY\n",
       "mJh2dnZmZmYQEBDu7u4yMjJUVFTMzMyIiIi6uroAAAAs73DqAAAAAXRSTlMAQObYZgAAAVxJREFU\n",
       "KM+Nk79Lw0AUx7/apO1pErM5KJjBWScHp+Y/sJOjFASdil20Ig4OziboYMDBLCLi0r2CmVxcurgp\n",
       "/hidtGjBQtV7l0vapkMSyOVzL5/w7t69ANkvo5VBWqPhnt85V0ZOn/ajl8vyqW2s2ygEnK4AVorM\n",
       "BRwHIZ38yNA0jB7gA3oLrHkrTd2C7gs6a0bmlo02sAoUSXqW5ngDxqf8KDJXhOkB7xgwp2rQvhIm\n",
       "RPacjZ1Bc64CrTdiTjSAfA0XSbOTNO+u+aD4OEo1oXPHOMBvenY4LrSPYZN29J0wZ4FSmcxDDFdJ\n",
       "SVSJ/blk8uxLkemGlc9bgoTJCLrAognVx6Y0WZtgHl4QEpnnFocHGB1RpTc+qTuXZeaY1CHVGwgq\n",
       "7Ha34dFKlPqezWv6gqIZnYSJEXqNt89PU61IVuNon8oxVcOuSzcZddiMnPRbPyY9Dk3Sgsay/B2P\n",
       "wD9FxmwhlXYVGgAAAABJRU5ErkJggg==\n",
       "\" style=\"display:inline;vertical-align:middle;\" /></a></td></tr>\n",
       "<tr><td>4</td><td>Literal</td><td></td><td><a class=\"ProveItLink\" href=\"../3e6688136fa3c7aefbebe51301b7c3ebf0b69c440/expr.ipynb\"><img src=\"data:image/png;base64,iVBORw0KGgoAAAANSUhEUgAAAA4AAAAOBAMAAADtZjDiAAAAJFBMVEX///+6urpUVFQQEBAiIiIy\n",
       "MjJmZmaIiIiqqqrc3Nzu7u4AAACgHpL+AAAAAXRSTlMAQObYZgAAAB5JREFUCNdjYGBgWMkAAe2k\n",
       "0Kmhoc6hoUGk6BMHYgAHOwjcado9fwAAAABJRU5ErkJggg==\n",
       "\" style=\"display:inline;vertical-align:middle;\" /></a></td></tr>\n",
       "<tr><td>5</td><td>ExprTuple</td><td>8, 9</td><td><a class=\"ProveItLink\" href=\"../9333281ed4be3d0d1796509ff962cccc430da5be0/expr.ipynb\"><img src=\"data:image/png;base64,iVBORw0KGgoAAAANSUhEUgAAACkAAAAVBAMAAAAp9toTAAAAMFBMVEX////c3NwiIiJERESqqqqY\n",
       "mJh2dnZmZmYQEBDu7u4yMjJUVFTMzMyIiIi6uroAAAAs73DqAAAAAXRSTlMAQObYZgAAARBJREFU\n",
       "GNNtkStPA1EQhb8tLPtqN4uqAFGFBYOF/QeAQRISklYRqiCpQmAwdCVyE4IgmP4EFAgENShIIEhU\n",
       "gyApCV3mzj7Ehismcz5x7pkZ+P+F4xrYM+UR2oONHDS7BzHOnXQ3WCPeYqVtwl9IoTUmSGhMlB7F\n",
       "fMEuuAnuOcFM6ZbSS/gEf4ozK/8Wh7mYYxWNaUH9ESz0uVbxtJ/D+1sp8ykXqq7KsC3R4Slq6KxV\n",
       "MwwTmpOcvhRoGTa3DT0zRn0WDfSyxFBxWBf1ADsk0vzAaoSd0gNrpdvreBKfZ8JvTfYhYbMs63jD\n",
       "SKxOBrIQ/x03KqcqGzOxXeTHrsId6iZr1JNNslSI6iSBsbLqF3qFP6kkPkM9+LMtAAAAAElFTkSu\n",
       "QmCC\n",
       "\" style=\"display:inline;vertical-align:middle;\" /></a></td></tr>\n",
       "<tr><td>6</td><td>Literal</td><td></td><td><a class=\"ProveItLink\" href=\"../../../numeral/__pv_it/ec23fc7a1b4222a5f4948b495002b97d6fa18c3c0/expr.ipynb\"><img src=\"data:image/png;base64,iVBORw0KGgoAAAANSUhEUgAAAAoAAAAOBAMAAADkjZCYAAAALVBMVEX///8QEBCYmJh2dnaqqqrc\n",
       "3NxUVFQyMjK6uroiIiLMzMyIiIhmZmbu7u4AAAAZjyHdAAAAAXRSTlMAQObYZgAAAEpJREFUCNdj\n",
       "YLiz+xQDA8MMhpsLGLgnMHAXMHAmMHA8ZeA7wMD1hCHOgIHrNZh8jES+Bss+AqlkeQrSxTyBgWEK\n",
       "w8UFDAx3rLMYAMCjFldHSx/9AAAAAElFTkSuQmCC\n",
       "\" style=\"display:inline;vertical-align:middle;\" /></a></td></tr>\n",
       "<tr><td>7</td><td>Literal</td><td></td><td><a class=\"ProveItLink\" href=\"../../../numeral/__pv_it/9be8badea4c35b9724062cecc501d17a3158d1d20/expr.ipynb\"><img src=\"data:image/png;base64,iVBORw0KGgoAAAANSUhEUgAAAAgAAAAPBAMAAAArJJMAAAAAHlBMVEX///+YmJgyMjIQEBBmZmaI\n",
       "iIhUVFTu7u5EREQAAAAw+MI4AAAAAXRSTlMAQObYZgAAACFJREFUCNdjYGBoZ2BgqJjOwFCWBiQY\n",
       "WEklWJwnOTKAAACjEQo8HvEr3AAAAABJRU5ErkJggg==\n",
       "\" style=\"display:inline;vertical-align:middle;\" /></a></td></tr>\n",
       "<tr><td>8</td><td>Literal</td><td></td><td><a class=\"ProveItLink\" href=\"../../../numeral/__pv_it/77d407a64829263cdc16415becd4c2293f77a4bf0/expr.ipynb\"><img src=\"data:image/png;base64,iVBORw0KGgoAAAANSUhEUgAAAAkAAAAOBAMAAAAPuiubAAAAMFBMVEX///+YmJh2dnbMzMwQEBAi\n",
       "IiLu7u6qqqqIiIhUVFS6urpEREQyMjJmZmbc3NwAAACOMKdoAAAAAXRSTlMAQObYZgAAAFBJREFU\n",
       "CNdj4Lt7egEDw0sGju8MDNMYGOIZGFwSGOYvYDifwHAfKAEUSQASzJ9ATJ4NIPI2iOCYACJrGfge\n",
       "MDBfYGB8wPBUSekqUPH//18ZAIliFhc3zESNAAAAAElFTkSuQmCC\n",
       "\" style=\"display:inline;vertical-align:middle;\" /></a></td></tr>\n",
       "<tr><td>9</td><td>Literal</td><td></td><td><a class=\"ProveItLink\" href=\"../../../numeral/__pv_it/9176d93c83afa2c995b614976e3cb49207102fa70/expr.ipynb\"><img src=\"data:image/png;base64,iVBORw0KGgoAAAANSUhEUgAAAAoAAAAOBAMAAADkjZCYAAAAMFBMVEX///+YmJju7u4QEBBUVFQy\n",
       "MjIiIiKIiIi6urpmZmbc3NyqqqpERER2dnbMzMwAAAB0GlNiAAAAAXRSTlMAQObYZgAAAE1JREFU\n",
       "CNdjYHh79zQDA9cEhv4CBt7fDPwJDNxgEgiAIkAQAsR8Vx1ATIbiBhDJ/ImB6wEDz0cG/U8gkj+A\n",
       "ge0XA7sAQ/8FBoadM6MZAEflFACalZ/OAAAAAElFTkSuQmCC\n",
       "\" style=\"display:inline;vertical-align:middle;\" /></a></td></tr>\n",
       "</table>\n"
      ],
      "text/plain": [
       "0. (1 + 0 + 1 + 3 , 2 + 3)\n",
       "   core type: ExprTuple\n",
       "   sub-expressions: 1, 2\n",
       "1. 1 + 0 + 1 + 3\n",
       "   core type: Operation\n",
       "   operator: 4\n",
       "   operands: 3\n",
       "2. 2 + 3\n",
       "   core type: Operation\n",
       "   operator: 4\n",
       "   operands: 5\n",
       "3. (1 , 0 , 1 , 3)\n",
       "   core type: ExprTuple\n",
       "   sub-expressions: 7, 6, 7, 9\n",
       "4. +\n",
       "   core type: Literal\n",
       "   sub-expressions: \n",
       "5. (2 , 3)\n",
       "   core type: ExprTuple\n",
       "   sub-expressions: 8, 9\n",
       "6. 0\n",
       "   core type: Literal\n",
       "   sub-expressions: \n",
       "7. 1\n",
       "   core type: Literal\n",
       "   sub-expressions: \n",
       "8. 2\n",
       "   core type: Literal\n",
       "   sub-expressions: \n",
       "9. 3\n",
       "   core type: Literal\n",
       "   sub-expressions: "
      ]
     },
     "execution_count": 4,
     "metadata": {},
     "output_type": "execute_result"
    }
   ],
   "source": [
    "# display the expression information\n",
    "expr.exprInfo()"
   ]
  },
  {
   "cell_type": "code",
   "execution_count": null,
   "metadata": {},
   "outputs": [],
   "source": []
  }
 ],
 "metadata": {
  "kernelspec": {
   "display_name": "Python 3",
   "language": "python",
   "name": "python3"
  }
 },
 "nbformat": 4,
 "nbformat_minor": 0
}
