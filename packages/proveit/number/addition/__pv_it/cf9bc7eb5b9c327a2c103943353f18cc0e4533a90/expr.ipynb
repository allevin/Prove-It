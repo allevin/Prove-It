{
 "cells": [
  {
   "cell_type": "markdown",
   "metadata": {},
   "source": [
    "Expression of type <a class=\"ProveItLink\" href=\"../../../../../../doc/html/api/proveit.logic.InSet.html\">InSet</a>\n",
    "=======================\n",
    "# from context <a class=\"ProveItLink\" href=\"../../_context_.ipynb\">proveit.number.addition</a>"
   ]
  },
  {
   "cell_type": "code",
   "execution_count": 1,
   "metadata": {},
   "outputs": [],
   "source": [
    "# import Expression classes needed to build the expression\n",
    "from proveit.logic import InSet\n",
    "from proveit.number import Complexes, Exp, one, zero"
   ]
  },
  {
   "cell_type": "code",
   "execution_count": 2,
   "metadata": {},
   "outputs": [
    {
     "data": {
      "text/html": [
       "<strong id=\"expr\">expr:</strong> <a class=\"ProveItLink\" href=\"expr.ipynb\"><img src=\"data:image/png;base64,iVBORw0KGgoAAAANSUhEUgAAAEcAAAAZBAMAAACRGi6rAAAAMFBMVEX////c3NwiIiJERESqqqqY\n",
       "mJh2dnZmZmYQEBDu7u4yMjJUVFTMzMyIiIi6uroAAAAs73DqAAAAAXRSTlMAQObYZgAAAV1JREFU\n",
       "KM9jYCAEeAwYCKupViCsiIGFuor4LoDZrA/wKTrNwDD9bg0DQw2G9KVVP5QLIIpWMjDoMUw6wMCF\n",
       "rubcP4ZpfzeAFfFeYOBVYOBdwMCagKqGlTuAgcEfoohjAgPTBga+jwycDRDJuYuUtEB0JAeQYIco\n",
       "esXAwF/AwPOFgcEEEnhLJ0AUF0gDCc4LjFnfLzCUMTDIJzDw/GVgSAfLCUPVcBY8Q1i9FKLoGwOD\n",
       "F5hvCIuOBFeEoj64ohdgAwzgip4iFP2DW3cexOVrUlICO5zT4BiKIpDDv0IV8WyASazkRihqYQAF\n",
       "ActHmHXw6AwDK4J4w5QBFJhsQLkoMH8rTBFzHDBS+TTBbJDHVRhmHIAFwSR4RO+2nTDPGGLSIyCe\n",
       "nrsHSK4D8xmXH4D5r+h/N1QHhwBUDBYtLLsg0YISj7B4ZbuAJ+WthNKz8CVPaSi9EZ8iRog1vAdw\n",
       "KwEAqThTGo9P/VQAAAAASUVORK5CYII=\n",
       "\" style=\"display:inline;vertical-align:middle;\" /></a><br>"
      ],
      "text/plain": [
       "expr: (0) in Complexes^{1}"
      ]
     },
     "execution_count": 2,
     "metadata": {},
     "output_type": "execute_result"
    }
   ],
   "source": [
    "# build up the expression from sub-expressions\n",
    "expr = InSet([zero], Exp(Complexes, one))"
   ]
  },
  {
   "cell_type": "code",
   "execution_count": 3,
   "metadata": {},
   "outputs": [
    {
     "name": "stdout",
     "output_type": "stream",
     "text": [
      "Passed sanity check: built 'expr' is the same as the stored Expression.\n"
     ]
    }
   ],
   "source": [
    "# check that the built expression is the same as the stored expression\n",
    "%check_expr"
   ]
  },
  {
   "cell_type": "code",
   "execution_count": 4,
   "metadata": {},
   "outputs": [
    {
     "data": {
      "text/html": [
       "<table><tr><th>&nbsp;</th><th>core type</th><th>sub-expressions</th><th>expression</th></tr>\n",
       "<tr><td>0</td><td>Operation</td><td>operator:&nbsp;1<br>operands:&nbsp;2<br></td><td><a class=\"ProveItLink\" href=\"expr.ipynb\"><img src=\"data:image/png;base64,iVBORw0KGgoAAAANSUhEUgAAAEcAAAAZBAMAAACRGi6rAAAAMFBMVEX////c3NwiIiJERESqqqqY\n",
       "mJh2dnZmZmYQEBDu7u4yMjJUVFTMzMyIiIi6uroAAAAs73DqAAAAAXRSTlMAQObYZgAAAV1JREFU\n",
       "KM9jYCAEeAwYCKupViCsiIGFuor4LoDZrA/wKTrNwDD9bg0DQw2G9KVVP5QLIIpWMjDoMUw6wMCF\n",
       "rubcP4ZpfzeAFfFeYOBVYOBdwMCagKqGlTuAgcEfoohjAgPTBga+jwycDRDJuYuUtEB0JAeQYIco\n",
       "esXAwF/AwPOFgcEEEnhLJ0AUF0gDCc4LjFnfLzCUMTDIJzDw/GVgSAfLCUPVcBY8Q1i9FKLoGwOD\n",
       "F5hvCIuOBFeEoj64ohdgAwzgip4iFP2DW3cexOVrUlICO5zT4BiKIpDDv0IV8WyASazkRihqYQAF\n",
       "ActHmHXw6AwDK4J4w5QBFJhsQLkoMH8rTBFzHDBS+TTBbJDHVRhmHIAFwSR4RO+2nTDPGGLSIyCe\n",
       "nrsHSK4D8xmXH4D5r+h/N1QHhwBUDBYtLLsg0YISj7B4ZbuAJ+WthNKz8CVPaSi9EZ8iRog1vAdw\n",
       "KwEAqThTGo9P/VQAAAAASUVORK5CYII=\n",
       "\" style=\"display:inline;vertical-align:middle;\" /></a></td></tr>\n",
       "<tr><td>1</td><td>Literal</td><td></td><td><a class=\"ProveItLink\" href=\"../../../../logic/set_theory/membership/__pv_it/088cbc857536a28d4119ad9639a84270ccb0545d0/expr.ipynb\"><img src=\"data:image/png;base64,iVBORw0KGgoAAAANSUhEUgAAAAwAAAAMBAMAAACkW0HUAAAALVBMVEX///+qqqpmZmZUVFQQEBC6\n",
       "urpERETc3NyYmJjMzMwiIiIyMjKIiIju7u4AAACYsrA9AAAAAXRSTlMAQObYZgAAADxJREFUCNdj\n",
       "YOA9vWrVBgaG2b0MQMCeCyIZ2ArA1DUwyRCyahVIyWQI7xaEYm4AU7xLIdxqTQgtvGvVBgCkcQ7e\n",
       "geM/tQAAAABJRU5ErkJggg==\n",
       "\" style=\"display:inline;vertical-align:middle;\" /></a></td></tr>\n",
       "<tr><td>2</td><td>ExprTuple</td><td>3, 4</td><td><a class=\"ProveItLink\" href=\"../7a439fea141237970803b1fb988b5dfbaf01a6540/expr.ipynb\"><img src=\"data:image/png;base64,iVBORw0KGgoAAAANSUhEUgAAAE0AAAAcBAMAAADW9S/RAAAAMFBMVEX///+qqqp2dnYiIiJERESI\n",
       "iIhmZmYQEBDc3NyYmJgyMjLu7u5UVFTMzMy6uroAAACGxKilAAAAAXRSTlMAQObYZgAAAcNJREFU\n",
       "OMuNk88rRFEUx78zY8abufPGK3+AV7KxYaWIjI0SCyWUHyWxs1A2SmpSNjYeC0tmw0p5Cz/KhmLD\n",
       "QpNk6xXKysgCxcI59747M6bJm1vvntM5n3fPj3suELDuUNW6vyior/+C9UBYKuZ5EKeIUzeIwzAr\n",
       "V7w9K+N2ZS6SAYx5FVvMjuQQyxWBaMfBQq/iohQ4NkVKwkXEE11AtoCZeU+0TChOfAO1nkpgCBgD\n",
       "NgucQ/mEfhSHduCB5RLQCeQzONFY3OV85nxuBhglkaJwH/SLhRrL52IGN+MIKwezJHeAazbaMN6J\n",
       "G0R4yueOU3ZJ0XkXA1yGozgbIV3Ibcgp4R5y2IOsxedS85pLlXLrHtpI1Hk6rvnmew7N0rhnluZk\n",
       "HU6RS7jnf8/b57iW7EtDphg3bjMnNJfDJYkaR/a5kdxZ7e3jK3/0Z4Q6S37ZjYgllpWGs1bakpfj\n",
       "4qnfP4/6l+c+k0NMT9AQJPgWT77kJHd/3uj8mqkGHpFFbVD39lI+XLt0PtdfuP4mNQNlmKAAZqua\n",
       "K2XIVuTiadp66DP8ZiUzckLLw0Y4tzXWVpVhsvIb2eItZAe9YSMtxUYQF3NR9foFqu9wxdEjx48A\n",
       "AAAASUVORK5CYII=\n",
       "\" style=\"display:inline;vertical-align:middle;\" /></a></td></tr>\n",
       "<tr><td>3</td><td>ExprTuple</td><td>5</td><td><a class=\"ProveItLink\" href=\"../8cde6ffe899144c6848d9a2077064e6c1a6a14e60/expr.ipynb\"><img src=\"data:image/png;base64,iVBORw0KGgoAAAANSUhEUgAAABcAAAAVBAMAAABfzGiYAAAAMFBMVEX////c3NwiIiJERESqqqqY\n",
       "mJh2dnZmZmYQEBDu7u4yMjJUVFTMzMyIiIi6uroAAAAs73DqAAAAAXRSTlMAQObYZgAAALZJREFU\n",
       "GNNVjy0LwlAUhp+p010/xro/Qat9/0CTUYbFJJjWBINRxGhcMfgv1g0Oi6CGYbRo0iaeuy/whHN5\n",
       "4OG954W/saP0Hel1ADU/h9RCgT2UYtWFAFpineACQ7A20IGnwxYeYn7g6FJ28cF4C0RUZ+wy8KgE\n",
       "rAuwF3wLrfnSkAQMNCxJovuO1nokn47BDJgIlFy1QkffBZR/lSvrMZaTd5FzTC+HaVohGSUVaGfQ\n",
       "0L6R1b7BD+zrMIbuJsDxAAAAAElFTkSuQmCC\n",
       "\" style=\"display:inline;vertical-align:middle;\" /></a></td></tr>\n",
       "<tr><td>4</td><td>Operation</td><td>operator:&nbsp;6<br>operands:&nbsp;7<br></td><td><a class=\"ProveItLink\" href=\"../258bfe2c95b21fe7e6c974300f5eeb5e80b551a00/expr.ipynb\"><img src=\"data:image/png;base64,iVBORw0KGgoAAAANSUhEUgAAABYAAAAUBAMAAAB7UtADAAAAMFBMVEX////c3NyqqqqYmJhUVFR2\n",
       "dnbu7u66urrMzMxmZmZEREQQEBAyMjIiIiKIiIgAAAB7fvZ0AAAAAXRSTlMAQObYZgAAAHJJREFU\n",
       "CNdjYICBLjiLodMXwWbQJZbNd+f83pUQNkd9AVv8EwjbwJmBgekLmM2csAEoMAXM5mR0ALLzGETP\n",
       "z2PIZA+AG9XKZIBgsyPYWRwINTwJDnA2cwCIzQbhLK4DErUJYDaL1zO2qmUwH93/7Q5mAAC91Biu\n",
       "spEWKgAAAABJRU5ErkJggg==\n",
       "\" style=\"display:inline;vertical-align:middle;\" /></a></td></tr>\n",
       "<tr><td>5</td><td>Literal</td><td></td><td><a class=\"ProveItLink\" href=\"../../../numeral/__pv_it/ec23fc7a1b4222a5f4948b495002b97d6fa18c3c0/expr.ipynb\"><img src=\"data:image/png;base64,iVBORw0KGgoAAAANSUhEUgAAAAoAAAAOBAMAAADkjZCYAAAALVBMVEX///8QEBCYmJh2dnaqqqrc\n",
       "3NxUVFQyMjK6uroiIiLMzMyIiIhmZmbu7u4AAAAZjyHdAAAAAXRSTlMAQObYZgAAAEpJREFUCNdj\n",
       "YLiz+xQDA8MMhpsLGLgnMHAXMHAmMHA8ZeA7wMD1hCHOgIHrNZh8jES+Bss+AqlkeQrSxTyBgWEK\n",
       "w8UFDAx3rLMYAMCjFldHSx/9AAAAAElFTkSuQmCC\n",
       "\" style=\"display:inline;vertical-align:middle;\" /></a></td></tr>\n",
       "<tr><td>6</td><td>Literal</td><td></td><td><a class=\"ProveItLink\" href=\"../../../exponentiation/__pv_it/deb2bf23cbccdd6e6791e1b35b5b9794ce12dbd50/expr.ipynb\"><img src=\"data:image/png;base64,iVBORw0KGgoAAAANSUhEUgAAACgAAAASBAMAAADbMYGVAAAAMFBMVEX///8QEBAiIiKYmJjc3Nzu\n",
       "7u7MzMx2dnZmZma6urpERESqqqoyMjJUVFSIiIgAAAAoDOMTAAAAAXRSTlMAQObYZgAAAOBJREFU\n",
       "GNNjYGB4+//u3Tt/GNAASGAXmhjnPyDBgSbI/g1IxKEJ8nxgYGdgQRPkX8BgDKRY6q7s62OYvmze\n",
       "2wAgb/7ZO1+AVDiDkYEQQ0HTBr4DQF59AgOIKmB4z7CNbcNZBu6vQN55kEACQwDDLQYGVobfDHwg\n",
       "fb8YGBxYHwAZciD3fWXg+gB1JjvQcJZvQIXsCgz8F6DO9GBgMOH7wPCUgaeBwd4B7EwGNjUG7s9c\n",
       "AiwPgO5jkWRgiF3/9+5dfQUG1nWl5Y+B7pv+1gE9bBhqGLCAE1jEWH9jEbT5A3IwAC4sP/1L6Qlu\n",
       "AAAAAElFTkSuQmCC\n",
       "\" style=\"display:inline;vertical-align:middle;\" /></a></td></tr>\n",
       "<tr><td>7</td><td>ExprTuple</td><td>8, 9</td><td><a class=\"ProveItLink\" href=\"../dc6a806b281884ba9cc862b3f30fd524bc9587a80/expr.ipynb\"><img src=\"data:image/png;base64,iVBORw0KGgoAAAANSUhEUgAAAC8AAAAVBAMAAAAk6KpUAAAAMFBMVEX////c3NwiIiJERESqqqqY\n",
       "mJh2dnZmZmYQEBDu7u4yMjJUVFTMzMyIiIi6uroAAAAs73DqAAAAAXRSTlMAQObYZgAAAPlJREFU\n",
       "KM9jYMAJ+C5gisWBiNNAzKu1vskcJmrJwMB+AEivZGDgef+AM/82VHzyTyCxAKgYaFLAVgYGlt8Q\n",
       "8dm7QRJhDAwcExhYJzQA2dVQHbwgiRkMDK+AJjJuALLnIkswOzCUMTBM50tAchFYgq2AYSkDwzGW\n",
       "AHQJlgUMfUAJPgwJvgaGf0AH8mAYxfMBJME1YQMWiRYGBtYEkAQnmlGmQMr0LZB4NIETIcG6gCEd\n",
       "SHFvvsn52JJhvgKycx+BOMf1f+wDevcjkMle8asUaO0DBg4BhL0P4awZIJsREgjv5EKCHUOCExjs\n",
       "DNIIH8BZ3CDzGbFE7R0GBgCcoESyRy4QrgAAAABJRU5ErkJggg==\n",
       "\" style=\"display:inline;vertical-align:middle;\" /></a></td></tr>\n",
       "<tr><td>8</td><td>Literal</td><td></td><td><a class=\"ProveItLink\" href=\"../../../sets/complex/__pv_it/c357845f93a5a2d9f649129d299e7ec28dda4b960/expr.ipynb\"><img src=\"data:image/png;base64,iVBORw0KGgoAAAANSUhEUgAAAA8AAAAOBAMAAAACpFvcAAAAMFBMVEX////c3NyqqqqYmJhUVFR2\n",
       "dnbu7u66urrMzMxmZmZEREQQEBAyMjIiIiKIiIgAAAB7fvZ0AAAAAXRSTlMAQObYZgAAAGVJREFU\n",
       "CNdjYGDgu3N+70oGBgaO+gK2+CdAhoEzAwPTFwYG5oQNQN4UBgZORgcgI4+BIZM9gAEMWpkMoAx2\n",
       "KCOLAyrFk+AAYTAHgBhsQLy4DkjUJjAwsHg9Y6taBpLsvP/bnYEBACkBFGQfBv8RAAAAAElFTkSu\n",
       "QmCC\n",
       "\" style=\"display:inline;vertical-align:middle;\" /></a></td></tr>\n",
       "<tr><td>9</td><td>Literal</td><td></td><td><a class=\"ProveItLink\" href=\"../../../numeral/__pv_it/9be8badea4c35b9724062cecc501d17a3158d1d20/expr.ipynb\"><img src=\"data:image/png;base64,iVBORw0KGgoAAAANSUhEUgAAAAgAAAAPBAMAAAArJJMAAAAAHlBMVEX///+YmJgyMjIQEBBmZmaI\n",
       "iIhUVFTu7u5EREQAAAAw+MI4AAAAAXRSTlMAQObYZgAAACFJREFUCNdjYGBoZ2BgqJjOwFCWBiQY\n",
       "WEklWJwnOTKAAACjEQo8HvEr3AAAAABJRU5ErkJggg==\n",
       "\" style=\"display:inline;vertical-align:middle;\" /></a></td></tr>\n",
       "</table>\n"
      ],
      "text/plain": [
       "0. (0) in Complexes^{1}\n",
       "   core type: Operation\n",
       "   operator: 1\n",
       "   operands: 2\n",
       "1. in\n",
       "   core type: Literal\n",
       "   sub-expressions: \n",
       "2. ((0) , Complexes^{1})\n",
       "   core type: ExprTuple\n",
       "   sub-expressions: 3, 4\n",
       "3. (0)\n",
       "   core type: ExprTuple\n",
       "   sub-expressions: 5\n",
       "4. Complexes^{1}\n",
       "   core type: Operation\n",
       "   operator: 6\n",
       "   operands: 7\n",
       "5. 0\n",
       "   core type: Literal\n",
       "   sub-expressions: \n",
       "6. Exp\n",
       "   core type: Literal\n",
       "   sub-expressions: \n",
       "7. (Complexes , 1)\n",
       "   core type: ExprTuple\n",
       "   sub-expressions: 8, 9\n",
       "8. Complexes\n",
       "   core type: Literal\n",
       "   sub-expressions: \n",
       "9. 1\n",
       "   core type: Literal\n",
       "   sub-expressions: "
      ]
     },
     "execution_count": 4,
     "metadata": {},
     "output_type": "execute_result"
    }
   ],
   "source": [
    "# display the expression information\n",
    "expr.exprInfo()"
   ]
  },
  {
   "cell_type": "code",
   "execution_count": null,
   "metadata": {},
   "outputs": [],
   "source": []
  }
 ],
 "metadata": {
  "kernelspec": {
   "display_name": "Python 3",
   "language": "python",
   "name": "python3"
  }
 },
 "nbformat": 4,
 "nbformat_minor": 0
}
