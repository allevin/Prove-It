{
 "cells": [
  {
   "cell_type": "markdown",
   "metadata": {},
   "source": [
    "Expression of type <a class=\"ProveItLink\" href=\"../../../../../../doc/html/api/proveit.logic.InSet.html\">InSet</a>\n",
    "=======================\n",
    "# from context <a class=\"ProveItLink\" href=\"../../_context_.ipynb\">proveit.number.addition</a>"
   ]
  },
  {
   "cell_type": "code",
   "execution_count": 1,
   "metadata": {},
   "outputs": [],
   "source": [
    "# import Expression classes needed to build the expression\n",
    "from proveit._common_ import b, c\n",
    "from proveit.logic import InSet\n",
    "from proveit.number import Complexes, Exp, four"
   ]
  },
  {
   "cell_type": "code",
   "execution_count": 2,
   "metadata": {},
   "outputs": [
    {
     "data": {
      "text/html": [
       "<strong id=\"expr\">expr:</strong> <a class=\"ProveItLink\" href=\"expr.ipynb\"><img src=\"data:image/png;base64,iVBORw0KGgoAAAANSUhEUgAAAH4AAAAZBAMAAAAF/IdZAAAAMFBMVEX////c3NwiIiJERESqqqqY\n",
       "mJh2dnZmZmYQEBDu7u4yMjJUVFTMzMyIiIi6uroAAAAs73DqAAAAAXRSTlMAQObYZgAAAgFJREFU\n",
       "OMtjYKAEcDFQBvwnUKSdM58y/bzzKdN/BKSf7wIhZawPcEgkgPSfZuDcoQD1D4yBBmowRC6t+qFc\n",
       "wCoA0r8SGA0bYPGxgbhoOvePYdrfDXMZgPp5gc7nd4CKwxloHkhA43MHAONug3t5fSkDB9AJ72HB\n",
       "+B57eHI2QKhbSkoLQIxIDiDBDnSr/ASGV0BmEkxhEo6AMgGTpyKh3AJpkGkXGFj3b2EoAzJX390K\n",
       "kYAzONPuHoCwpuXeYWBIB7EYLWHOKXiGMHopkP+ZgR+sGs5gOPGACxIVPH0MixgYvEBMZgGoFp4E\n",
       "V4T+PgYGlp8MHOAQgjM4exmYA8DSMy4wmDIwvAAxJzPA9T9F6P8HDIkFDPwFIDacwf0BJr0fTJ4H\n",
       "ES+UlCDhx2lwDEU/UwHDe7BtcAa/AUz6M0L/abieldwI/S3gWK+fAI1+CEMelqYZ/4IpsPsnwfWE\n",
       "gfVD4hroO2CYtTFwMiAzgK4IADEYvgJTCwNDFNhTATD9zHFA8/k0wWxg1HA7ANPCfAVkRgED2wEQ\n",
       "g2E7A0MONP449eAO2G07YZ4xxP5HQIm9pcCA/ojEYCi7exPCYM+9C1S3DqxUCp6PeIr+d0MzJQcs\n",
       "Vh8y4GRA0y+D9yJI+sWaN+C+w2Sw4SsiVhLWPwtf6SINLcvghRoGg2EjPv2MBMsv3gO45QBJG4vf\n",
       "k+9gMAAAAABJRU5ErkJggg==\n",
       "\" style=\"display:inline;vertical-align:middle;\" /></a><br>"
      ],
      "text/plain": [
       "expr: (b , b , c , c) in Complexes^{4}"
      ]
     },
     "execution_count": 2,
     "metadata": {},
     "output_type": "execute_result"
    }
   ],
   "source": [
    "# build up the expression from sub-expressions\n",
    "expr = InSet([b, b, c, c], Exp(Complexes, four))"
   ]
  },
  {
   "cell_type": "code",
   "execution_count": 3,
   "metadata": {},
   "outputs": [
    {
     "name": "stdout",
     "output_type": "stream",
     "text": [
      "Passed sanity check: built 'expr' is the same as the stored Expression.\n"
     ]
    }
   ],
   "source": [
    "# check that the built expression is the same as the stored expression\n",
    "%check_expr"
   ]
  },
  {
   "cell_type": "code",
   "execution_count": 4,
   "metadata": {},
   "outputs": [
    {
     "data": {
      "text/html": [
       "<table><tr><th>&nbsp;</th><th>core type</th><th>sub-expressions</th><th>expression</th></tr>\n",
       "<tr><td>0</td><td>Operation</td><td>operator:&nbsp;1<br>operands:&nbsp;2<br></td><td><a class=\"ProveItLink\" href=\"expr.ipynb\"><img src=\"data:image/png;base64,iVBORw0KGgoAAAANSUhEUgAAAH4AAAAZBAMAAAAF/IdZAAAAMFBMVEX////c3NwiIiJERESqqqqY\n",
       "mJh2dnZmZmYQEBDu7u4yMjJUVFTMzMyIiIi6uroAAAAs73DqAAAAAXRSTlMAQObYZgAAAgFJREFU\n",
       "OMtjYKAEcDFQBvwnUKSdM58y/bzzKdN/BKSf7wIhZawPcEgkgPSfZuDcoQD1D4yBBmowRC6t+qFc\n",
       "wCoA0r8SGA0bYPGxgbhoOvePYdrfDXMZgPp5gc7nd4CKwxloHkhA43MHAONug3t5fSkDB9AJ72HB\n",
       "+B57eHI2QKhbSkoLQIxIDiDBDnSr/ASGV0BmEkxhEo6AMgGTpyKh3AJpkGkXGFj3b2EoAzJX390K\n",
       "kYAzONPuHoCwpuXeYWBIB7EYLWHOKXiGMHopkP+ZgR+sGs5gOPGACxIVPH0MixgYvEBMZgGoFp4E\n",
       "V4T+PgYGlp8MHOAQgjM4exmYA8DSMy4wmDIwvAAxJzPA9T9F6P8HDIkFDPwFIDacwf0BJr0fTJ4H\n",
       "ES+UlCDhx2lwDEU/UwHDe7BtcAa/AUz6M0L/abieldwI/S3gWK+fAI1+CEMelqYZ/4IpsPsnwfWE\n",
       "gfVD4hroO2CYtTFwMiAzgK4IADEYvgJTCwNDFNhTATD9zHFA8/k0wWxg1HA7ANPCfAVkRgED2wEQ\n",
       "g2E7A0MONP449eAO2G07YZ4xxP5HQIm9pcCA/ojEYCi7exPCYM+9C1S3DqxUCp6PeIr+d0MzJQcs\n",
       "Vh8y4GRA0y+D9yJI+sWaN+C+w2Sw4SsiVhLWPwtf6SINLcvghRoGg2EjPv2MBMsv3gO45QBJG4vf\n",
       "k+9gMAAAAABJRU5ErkJggg==\n",
       "\" style=\"display:inline;vertical-align:middle;\" /></a></td></tr>\n",
       "<tr><td>1</td><td>Literal</td><td></td><td><a class=\"ProveItLink\" href=\"../../../../logic/set_theory/membership/__pv_it/088cbc857536a28d4119ad9639a84270ccb0545d0/expr.ipynb\"><img src=\"data:image/png;base64,iVBORw0KGgoAAAANSUhEUgAAAAwAAAAMBAMAAACkW0HUAAAALVBMVEX///+qqqpmZmZUVFQQEBC6\n",
       "urpERETc3NyYmJjMzMwiIiIyMjKIiIju7u4AAACYsrA9AAAAAXRSTlMAQObYZgAAADxJREFUCNdj\n",
       "YOA9vWrVBgaG2b0MQMCeCyIZ2ArA1DUwyRCyahVIyWQI7xaEYm4AU7xLIdxqTQgtvGvVBgCkcQ7e\n",
       "geM/tQAAAABJRU5ErkJggg==\n",
       "\" style=\"display:inline;vertical-align:middle;\" /></a></td></tr>\n",
       "<tr><td>2</td><td>ExprTuple</td><td>3, 4</td><td><a class=\"ProveItLink\" href=\"../978ba25bcc6aae305b942a20b204f50e1077541c0/expr.ipynb\"><img src=\"data:image/png;base64,iVBORw0KGgoAAAANSUhEUgAAAIIAAAAcBAMAAABfQXr9AAAAMFBMVEX///+qqqp2dnYiIiJERESI\n",
       "iIhmZmYQEBDc3NyYmJgyMjLu7u5UVFTMzMy6uroAAACGxKilAAAAAXRSTlMAQObYZgAAAmRJREFU\n",
       "OMutVU1oE0EYfU3Nn5tNehL04oLUm5iDFEGECHoQPCyU6qXCoiD4R2u9St2DJymYiicFKQiCVmQp\n",
       "SKGIScGqFaHVc7GiB6sHYzHVSkn0zezMumkWAokDk3nz7beP7+d9G6D9tRWdrp2eAt/aJDD2erAE\n",
       "MMttMsRLHpYEmPHaZHhLhrhNMM+dtVu5pz80mSwyYD+QGuZlCcbLvHrw9HIkxcUQ7n/4a5+TdgXD\n",
       "IJBwaJpka4JyPGrVuvd1TK2Vn0AwcCcZnsgm16MdVqPTsAKUKbKT5W1nhs4C3UUs05YkWUUXNLsR\n",
       "3bthje4k+ZNgyDf4SqKAE7x+5d6lHWL56Foe0sAZE4Q20guzDOg7XvN6SmQ/MK8Snhss+miq92QI\n",
       "7NbBOB9DvIz4GI8HtFeRW5S2UgE1CcxR3AuBHeod09oeYjBruM9jFOjaQNLSah+RYNrG0RD4HDB8\n",
       "CTGk6ujjUWdFJpBzpO0c8FOCBe3lg2WdReFduMCrmqHbQcVPvw/Z3xJUtVe1gQGTmcYYhH4uSTkM\n",
       "eUoOCdnP1Jp28oHOAjclg2p+qobnPJglyzgCQ9hqoiDiOSNJ/wO4LWIWDlvuUoDZA6oX6+iHbFSm\n",
       "hxopCSnM4gKMHwQvgD0B8LspHfDmiPfssIqBeqjw+ET2OUp0el1M1vEijKsui9s74AUAeAzlAPP0\n",
       "nyt6VGMTUgVJV91XAqG4m4Gv6pWmgbORsUJTUwympwnE7AYHvUouzLw/3a0YZhDJcEtNzJj68gUP\n",
       "7CbwqtFBr4Pc10VXW37l4ovRXw2h4y6rg7+Ma/J3vAOG8/gP6y/N+6NLlQBY+AAAAABJRU5ErkJg\n",
       "gg==\n",
       "\" style=\"display:inline;vertical-align:middle;\" /></a></td></tr>\n",
       "<tr><td>3</td><td>ExprTuple</td><td>5, 5, 6, 6</td><td><a class=\"ProveItLink\" href=\"../f0c790223d7579a672f0ce99c7b06ecebb2759f10/expr.ipynb\"><img src=\"data:image/png;base64,iVBORw0KGgoAAAANSUhEUgAAAEsAAAAVBAMAAAD85A5eAAAAMFBMVEX////c3NwiIiJERESqqqqY\n",
       "mJh2dnZmZmYQEBDu7u4yMjJUVFTMzMyIiIi6uroAAAAs73DqAAAAAXRSTlMAQObYZgAAASxJREFU\n",
       "KM+N0q9Pw0AUwPEv7FfbsRWPoH/CDL5/QhWSLBOgSGqYBUFwkEocNQiCmSHBkFSSYLAkNBlIzLag\n",
       "MITX3vXaBpbxxPXzrtfe6+vBP6P/vGrFXjY8Yd97KjeoRyeR4QaciZ4wqEcMPdnT9XVuUI9dsCKY\n",
       "RTo3qMclfMhlVOSjv7+h4TOWy216p3IDez9NSrRDroWfuPmkAY9TxyvRjLmA5hfWMJszsM9pBCX6\n",
       "J3xLX2LcMG9Qge5cV6WwMc+WrYfM8mcN3EHRoYFedpp36zjSbVPYLn6ggmy6Q1b2GTZVyDsDA1ox\n",
       "B1KA35lw5VUR0k4Msoa8y+c8HEmnFxUwTl9K4EyxNnUZbyyF/KzWUDtgKQ7VQVqxzJaDxJZyr7j5\n",
       "G92srrWVh/wVfgC+wFvs/4iviwAAAABJRU5ErkJggg==\n",
       "\" style=\"display:inline;vertical-align:middle;\" /></a></td></tr>\n",
       "<tr><td>4</td><td>Operation</td><td>operator:&nbsp;7<br>operands:&nbsp;8<br></td><td><a class=\"ProveItLink\" href=\"../ac094b0dfa02191d356d43d28021b9ef452b8a820/expr.ipynb\"><img src=\"data:image/png;base64,iVBORw0KGgoAAAANSUhEUgAAABcAAAAUBAMAAACUkLs9AAAAMFBMVEX////c3NyqqqqYmJhUVFR2\n",
       "dnbu7u66urrMzMxmZmZEREQQEBAyMjIiIiKIiIgAAAB7fvZ0AAAAAXRSTlMAQObYZgAAAIhJREFU\n",
       "GNNjYICDAwgmA9M3JE4qMucZEodDDYnDygbm8N05v3clgyGYw1FfwBb/hO0BmGPgDDT2C9PMmT8N\n",
       "GJgTNgBFpjAwMAJlOBkdgJw8BgaTLwoMmewBCCNbmQyQOOxInCwOJGU8CQ4IDnMAiMMG5S2uAxK1\n",
       "CRAOi9cztqplMIWd93+7Q1gA8EUjI107FbAAAAAASUVORK5CYII=\n",
       "\" style=\"display:inline;vertical-align:middle;\" /></a></td></tr>\n",
       "<tr><td>5</td><td>Variable</td><td></td><td><a class=\"ProveItLink\" href=\"../../../../__pv_it/6840a4fa6c106149dc16a131294d0c5e44f1b0480/expr.ipynb\"><img src=\"data:image/png;base64,iVBORw0KGgoAAAANSUhEUgAAAAkAAAAOBAMAAAAPuiubAAAALVBMVEX///9mZmbMzMxERESYmJiI\n",
       "iIh2dna6urqqqqoyMjIiIiIQEBBUVFTu7u4AAAD9S1JeAAAAAXRSTlMAQObYZgAAAE1JREFUCNdj\n",
       "4D29gAEIOA+ASL4GEFl3AURmgQiGOaFHGBh4HzPwKTBwvGXgTmBgnMDAJ8DAJcBQ5wBSLncBJLWN\n",
       "gYGngRFoBO9REQYGAGrcDtUkVqASAAAAAElFTkSuQmCC\n",
       "\" style=\"display:inline;vertical-align:middle;\" /></a></td></tr>\n",
       "<tr><td>6</td><td>Variable</td><td></td><td><a class=\"ProveItLink\" href=\"../../../../__pv_it/cbdfda466482236edba0ce44ac7ef39cda0af7a40/expr.ipynb\"><img src=\"data:image/png;base64,iVBORw0KGgoAAAANSUhEUgAAAAkAAAAJBAMAAAASvxsjAAAALVBMVEX///9mZmbc3NxUVFSYmJhE\n",
       "REQiIiIyMjK6uroQEBDMzMyIiIh2dnbu7u4AAABgFDGoAAAAAXRSTlMAQObYZgAAADZJREFUCNdj\n",
       "YOA9s3sBA8PKBvYEBt7ZDKwODMwPGICALwBE6m0Asx0YGIDiAgw8QJUyu/cyAAAmuwmycZ8WfQAA\n",
       "AABJRU5ErkJggg==\n",
       "\" style=\"display:inline;vertical-align:middle;\" /></a></td></tr>\n",
       "<tr><td>7</td><td>Literal</td><td></td><td><a class=\"ProveItLink\" href=\"../../../exponentiation/__pv_it/deb2bf23cbccdd6e6791e1b35b5b9794ce12dbd50/expr.ipynb\"><img src=\"data:image/png;base64,iVBORw0KGgoAAAANSUhEUgAAACgAAAASBAMAAADbMYGVAAAAMFBMVEX///8QEBAiIiKYmJjc3Nzu\n",
       "7u7MzMx2dnZmZma6urpERESqqqoyMjJUVFSIiIgAAAAoDOMTAAAAAXRSTlMAQObYZgAAAOBJREFU\n",
       "GNNjYGB4+//u3Tt/GNAASGAXmhjnPyDBgSbI/g1IxKEJ8nxgYGdgQRPkX8BgDKRY6q7s62OYvmze\n",
       "2wAgb/7ZO1+AVDiDkYEQQ0HTBr4DQF59AgOIKmB4z7CNbcNZBu6vQN55kEACQwDDLQYGVobfDHwg\n",
       "fb8YGBxYHwAZciD3fWXg+gB1JjvQcJZvQIXsCgz8F6DO9GBgMOH7wPCUgaeBwd4B7EwGNjUG7s9c\n",
       "AiwPgO5jkWRgiF3/9+5dfQUG1nWl5Y+B7pv+1gE9bBhqGLCAE1jEWH9jEbT5A3IwAC4sP/1L6Qlu\n",
       "AAAAAElFTkSuQmCC\n",
       "\" style=\"display:inline;vertical-align:middle;\" /></a></td></tr>\n",
       "<tr><td>8</td><td>ExprTuple</td><td>9, 10</td><td><a class=\"ProveItLink\" href=\"../15b4a43204f9952d371095f486ed6d4e815af8560/expr.ipynb\"><img src=\"data:image/png;base64,iVBORw0KGgoAAAANSUhEUgAAAC8AAAAVBAMAAAAk6KpUAAAAMFBMVEX////c3NwiIiJERESqqqqY\n",
       "mJh2dnZmZmYQEBDu7u4yMjJUVFTMzMyIiIi6uroAAAAs73DqAAAAAXRSTlMAQObYZgAAARpJREFU\n",
       "KM9jYMAJ+C5gisWBiNNAzKu1vskcJsqzgYH9AJBeCWS+f8CZfxsmwWTAwLAAqBhoUsBWBgaW3zCJ\n",
       "G0CJMAYGjgkMrBMagPxqqDhjFFBiBgPDKwYGdsYNQIG5UAk2LqAEswNDGQPDdL4EJBcFgiTYChiW\n",
       "MjAcYwlAiHNeAEmwLGDoA0rwIUmwMYAk+BoY/jEwTOZBMsoHLMHzASTBNWEDwqQEmEQLAwNrAkiC\n",
       "EyzBsnv3/u4LIKNMgTzTt0Di0QSIFAMHUAfrAoZ0IJN7803Ox5YM8xXgEkDnPgKxj+v/2Af07kew\n",
       "s/Z/D2DgesDAIYBw0UM4awbIZoQEwju5kGDHkOAEBjuDNFycF87iBpnPiCVq7zAwAAA1wEBM4bd1\n",
       "1AAAAABJRU5ErkJggg==\n",
       "\" style=\"display:inline;vertical-align:middle;\" /></a></td></tr>\n",
       "<tr><td>9</td><td>Literal</td><td></td><td><a class=\"ProveItLink\" href=\"../../../sets/complex/__pv_it/c357845f93a5a2d9f649129d299e7ec28dda4b960/expr.ipynb\"><img src=\"data:image/png;base64,iVBORw0KGgoAAAANSUhEUgAAAA8AAAAOBAMAAAACpFvcAAAAMFBMVEX////c3NyqqqqYmJhUVFR2\n",
       "dnbu7u66urrMzMxmZmZEREQQEBAyMjIiIiKIiIgAAAB7fvZ0AAAAAXRSTlMAQObYZgAAAGVJREFU\n",
       "CNdjYGDgu3N+70oGBgaO+gK2+CdAhoEzAwPTFwYG5oQNQN4UBgZORgcgI4+BIZM9gAEMWpkMoAx2\n",
       "KCOLAyrFk+AAYTAHgBhsQLy4DkjUJjAwsHg9Y6taBpLsvP/bnYEBACkBFGQfBv8RAAAAAElFTkSu\n",
       "QmCC\n",
       "\" style=\"display:inline;vertical-align:middle;\" /></a></td></tr>\n",
       "<tr><td>10</td><td>Literal</td><td></td><td><a class=\"ProveItLink\" href=\"../../../numeral/__pv_it/23412ce59ea7e77353d2f9225e02248e73651ca00/expr.ipynb\"><img src=\"data:image/png;base64,iVBORw0KGgoAAAANSUhEUgAAAAoAAAAPBAMAAAAv0UM9AAAALVBMVEX///9mZmaqqqru7u52dnYy\n",
       "MjKYmJjc3NwQEBCIiIhEREQiIiJUVFTMzMwAAACUDTcXAAAAAXRSTlMAQObYZgAAAD5JREFUCNdj\n",
       "YGBguMMAArtABGcXiCyLApEOIJKtAERaMoBIBxDJdAFEmjCASJ0zZ16cBCkF64KQPu/EwBwGACv6\n",
       "DSRgin9qAAAAAElFTkSuQmCC\n",
       "\" style=\"display:inline;vertical-align:middle;\" /></a></td></tr>\n",
       "</table>\n"
      ],
      "text/plain": [
       "0. (b , b , c , c) in Complexes^{4}\n",
       "   core type: Operation\n",
       "   operator: 1\n",
       "   operands: 2\n",
       "1. in\n",
       "   core type: Literal\n",
       "   sub-expressions: \n",
       "2. ((b , b , c , c) , Complexes^{4})\n",
       "   core type: ExprTuple\n",
       "   sub-expressions: 3, 4\n",
       "3. (b , b , c , c)\n",
       "   core type: ExprTuple\n",
       "   sub-expressions: 5, 5, 6, 6\n",
       "4. Complexes^{4}\n",
       "   core type: Operation\n",
       "   operator: 7\n",
       "   operands: 8\n",
       "5. b\n",
       "   core type: Variable\n",
       "   sub-expressions: \n",
       "6. c\n",
       "   core type: Variable\n",
       "   sub-expressions: \n",
       "7. Exp\n",
       "   core type: Literal\n",
       "   sub-expressions: \n",
       "8. (Complexes , 4)\n",
       "   core type: ExprTuple\n",
       "   sub-expressions: 9, 10\n",
       "9. Complexes\n",
       "   core type: Literal\n",
       "   sub-expressions: \n",
       "10. 4\n",
       "    core type: Literal\n",
       "    sub-expressions: "
      ]
     },
     "execution_count": 4,
     "metadata": {},
     "output_type": "execute_result"
    }
   ],
   "source": [
    "# display the expression information\n",
    "expr.exprInfo()"
   ]
  },
  {
   "cell_type": "code",
   "execution_count": null,
   "metadata": {},
   "outputs": [],
   "source": []
  }
 ],
 "metadata": {
  "kernelspec": {
   "display_name": "Python 3",
   "language": "python",
   "name": "python3"
  }
 },
 "nbformat": 4,
 "nbformat_minor": 0
}
