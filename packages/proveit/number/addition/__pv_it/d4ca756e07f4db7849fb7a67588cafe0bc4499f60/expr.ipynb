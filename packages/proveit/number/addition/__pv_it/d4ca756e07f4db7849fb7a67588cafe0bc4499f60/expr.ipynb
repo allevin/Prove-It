{
 "cells": [
  {
   "cell_type": "markdown",
   "metadata": {},
   "source": [
    "Expression of type <a class=\"ProveItLink\" href=\"../../../../../../doc/html/api/proveit.ExprTuple.html\">ExprTuple</a>\n",
    "=======================\n",
    "# from context <a class=\"ProveItLink\" href=\"../../_context_.ipynb\">proveit.number.addition</a>"
   ]
  },
  {
   "cell_type": "code",
   "execution_count": 1,
   "metadata": {},
   "outputs": [],
   "source": [
    "# import Expression classes needed to build the expression\n",
    "from proveit import ExprTuple\n",
    "from proveit._common_ import a, c\n",
    "from proveit.number import Add"
   ]
  },
  {
   "cell_type": "code",
   "execution_count": 2,
   "metadata": {},
   "outputs": [
    {
     "data": {
      "text/html": [
       "<strong id=\"expr\">expr:</strong> <a class=\"ProveItLink\" href=\"expr.ipynb\"><img src=\"data:image/png;base64,iVBORw0KGgoAAAANSUhEUgAAAJIAAAAVBAMAAABf4KrdAAAAMFBMVEX////c3NwiIiJERESqqqqY\n",
       "mJh2dnZmZmYQEBDu7u4yMjJUVFTMzMyIiIi6uroAAAAs73DqAAAAAXRSTlMAQObYZgAAAXpJREFU\n",
       "OMutlD9Iw0AUxr/av2mMdneom44ddHcWxMxOTrpYceogDgpOgqUuUlwCBQdPEJ0EQSy4CA7eKphS\n",
       "nUQQItJR8V0qJK9ngoUc3HH8Lvfl3XfvHpBcG5MJiGS7NNwnEs8W9ZNElIqAxQ53EP2tUYoD2WUU\n",
       "GuHVhWiljIwDxjbekIgSZlCjMXW9vsOVAmKsuG22UQM4rD4Bqzim6Wsp7XGlgNx1i5NsowZG62gB\n",
       "86hTAD3kK0wpIMY+0nZ4owbQlJilf+MbMD2MSKYUENMbsEUDuPHHB6U0XoGjjr4pxLQQpwiIP1Mt\n",
       "L0RrT4jzPwA+f5V2gbLEIhrhmAJSlgMhaCD11XdWHdGZw1WmHVbqE0PFRJ4wWzSAHuUlsES3h6Kd\n",
       "mcoxn/rEoTsyN5Bjl64BXAJrKgteVPJ0bjv87nzS/KBpzX3kBmsgX3XJiDMUStE5/jzUa6GnF2rv\n",
       "7Fs7to4xkJOxVcX+f1U5oj4RuWoNUZ8ulLtJVF+rjR8zsoOehYVpCgAAAABJRU5ErkJggg==\n",
       "\" style=\"display:inline;vertical-align:middle;\" /></a><br>"
      ],
      "text/plain": [
       "expr: (a + a , c + c + c)"
      ]
     },
     "execution_count": 2,
     "metadata": {},
     "output_type": "execute_result"
    }
   ],
   "source": [
    "# build up the expression from sub-expressions\n",
    "expr = ExprTuple(Add(a, a), Add(c, c, c))"
   ]
  },
  {
   "cell_type": "code",
   "execution_count": 3,
   "metadata": {},
   "outputs": [
    {
     "name": "stdout",
     "output_type": "stream",
     "text": [
      "Passed sanity check: built 'expr' is the same as the stored Expression.\n"
     ]
    }
   ],
   "source": [
    "# check that the built expression is the same as the stored expression\n",
    "%check_expr"
   ]
  },
  {
   "cell_type": "code",
   "execution_count": 4,
   "metadata": {},
   "outputs": [
    {
     "data": {
      "text/html": [
       "<table><tr><th>&nbsp;</th><th>core type</th><th>sub-expressions</th><th>expression</th></tr>\n",
       "<tr><td>0</td><td>ExprTuple</td><td>1, 2</td><td><a class=\"ProveItLink\" href=\"expr.ipynb\"><img src=\"data:image/png;base64,iVBORw0KGgoAAAANSUhEUgAAAJIAAAAVBAMAAABf4KrdAAAAMFBMVEX////c3NwiIiJERESqqqqY\n",
       "mJh2dnZmZmYQEBDu7u4yMjJUVFTMzMyIiIi6uroAAAAs73DqAAAAAXRSTlMAQObYZgAAAXpJREFU\n",
       "OMutlD9Iw0AUxr/av2mMdneom44ddHcWxMxOTrpYceogDgpOgqUuUlwCBQdPEJ0EQSy4CA7eKphS\n",
       "nUQQItJR8V0qJK9ngoUc3HH8Lvfl3XfvHpBcG5MJiGS7NNwnEs8W9ZNElIqAxQ53EP2tUYoD2WUU\n",
       "GuHVhWiljIwDxjbekIgSZlCjMXW9vsOVAmKsuG22UQM4rD4Bqzim6Wsp7XGlgNx1i5NsowZG62gB\n",
       "86hTAD3kK0wpIMY+0nZ4owbQlJilf+MbMD2MSKYUENMbsEUDuPHHB6U0XoGjjr4pxLQQpwiIP1Mt\n",
       "L0RrT4jzPwA+f5V2gbLEIhrhmAJSlgMhaCD11XdWHdGZw1WmHVbqE0PFRJ4wWzSAHuUlsES3h6Kd\n",
       "mcoxn/rEoTsyN5Bjl64BXAJrKgteVPJ0bjv87nzS/KBpzX3kBmsgX3XJiDMUStE5/jzUa6GnF2rv\n",
       "7Fs7to4xkJOxVcX+f1U5oj4RuWoNUZ8ulLtJVF+rjR8zsoOehYVpCgAAAABJRU5ErkJggg==\n",
       "\" style=\"display:inline;vertical-align:middle;\" /></a></td></tr>\n",
       "<tr><td>1</td><td>Operation</td><td>operator:&nbsp;4<br>operands:&nbsp;3<br></td><td><a class=\"ProveItLink\" href=\"../b80ee1f7a9870caeb12beba2eb78d298813e0b720/expr.ipynb\"><img src=\"data:image/png;base64,iVBORw0KGgoAAAANSUhEUgAAAC8AAAAOBAMAAABN+VgMAAAAMFBMVEX///8yMjKqqqrMzMzu7u4i\n",
       "IiJmZmaYmJhEREQQEBC6urp2dnaIiIhUVFTc3NwAAAD87Fq/AAAAAXRSTlMAQObYZgAAAHVJREFU\n",
       "GNNjYEAAlgcM2AHTAeIk+O7smocqARVZ+YDjA6oERITvOwNbA4oEVIT3AwPrARQJqAh/A4O/AZDL\n",
       "JigoOlFQ8AJc5P0BBn0GB2QdUBF/BYaLTAbIElARxgKmMG4UO6AifHdOWZxCdRVChFCQcCFLAABD\n",
       "Siw1qMdh/wAAAABJRU5ErkJggg==\n",
       "\" style=\"display:inline;vertical-align:middle;\" /></a></td></tr>\n",
       "<tr><td>2</td><td>Operation</td><td>operator:&nbsp;4<br>operands:&nbsp;5<br></td><td><a class=\"ProveItLink\" href=\"../794b7170b8a2a7f3a9488eaf29c486ed5d13a4530/expr.ipynb\"><img src=\"data:image/png;base64,iVBORw0KGgoAAAANSUhEUgAAAE4AAAAOBAMAAABz3DdCAAAAMFBMVEX///+qqqpmZmbc3NxUVFSY\n",
       "mJhEREQiIiIyMjK6uroQEBDMzMyIiIh2dnbu7u4AAAA4MM1YAAAAAXRSTlMAQObYZgAAALFJREFU\n",
       "KM9jYICDxwxogM+AARuQQRdgPECOOr67ZzagqIMLwNW9vXOagWHXBI4CFHVwAZg67pUM7Qx8axjY\n",
       "ApDVIQRg6l4dYEhlYPmA5j6EAEydP4jgTwCzNTo6qjo6WhACTB0d7Ss6OhyAzG8gvv0BNPMQAlDz\n",
       "mP+AzQO6BcV9CAGYvV8ZGFgZWBQYeFHCBSEAU+fEwHCbgUH3zDnUcIYLwNQx3TnzgIx4m4MuwImk\n",
       "DgDaMTWEahh+dwAAAABJRU5ErkJggg==\n",
       "\" style=\"display:inline;vertical-align:middle;\" /></a></td></tr>\n",
       "<tr><td>3</td><td>ExprTuple</td><td>6, 6</td><td><a class=\"ProveItLink\" href=\"../8d3c5434f530489588a15a4b183ce46d1affa7650/expr.ipynb\"><img src=\"data:image/png;base64,iVBORw0KGgoAAAANSUhEUgAAACsAAAAVBAMAAAAtAwouAAAAMFBMVEX////c3NwiIiJERESqqqqY\n",
       "mJh2dnZmZmYQEBDu7u4yMjJUVFTMzMyIiIi6uroAAAAs73DqAAAAAXRSTlMAQObYZgAAANtJREFU\n",
       "GNN1kL0OAUEURg/W/2+voNNq9N6ASik6FVGpSdSi1O02Cq8gkWyi1OwDiKAS1Sq0YsbsbMQwxcy5\n",
       "Jzc331z4cwret+nKa280Jl1xrc0BDuQ9U3cgtTD1Em4/UsSajMUT2Q6nSihKjFiJ4lqK+Uorshzm\n",
       "ouVBsq6aFRUmPCHrE1V5Asr5Uhfr2O5bByT0DCoeLd45AxJDGmA32VhuGk3EHfqQaVu1BHZVkwx4\n",
       "kWGPuyPLuyYyJ1Il/bfz5+fjPV20Qz34XGyo02KxlIMiHzZn5dyIsfADvABGHTxeG7dbswAAAABJ\n",
       "RU5ErkJggg==\n",
       "\" style=\"display:inline;vertical-align:middle;\" /></a></td></tr>\n",
       "<tr><td>4</td><td>Literal</td><td></td><td><a class=\"ProveItLink\" href=\"../3e6688136fa3c7aefbebe51301b7c3ebf0b69c440/expr.ipynb\"><img src=\"data:image/png;base64,iVBORw0KGgoAAAANSUhEUgAAAA4AAAAOBAMAAADtZjDiAAAAJFBMVEX///+6urpUVFQQEBAiIiIy\n",
       "MjJmZmaIiIiqqqrc3Nzu7u4AAACgHpL+AAAAAXRSTlMAQObYZgAAAB5JREFUCNdjYGBgWMkAAe2k\n",
       "0Kmhoc6hoUGk6BMHYgAHOwjcado9fwAAAABJRU5ErkJggg==\n",
       "\" style=\"display:inline;vertical-align:middle;\" /></a></td></tr>\n",
       "<tr><td>5</td><td>ExprTuple</td><td>7, 7, 7</td><td><a class=\"ProveItLink\" href=\"../86a607d788a57bb994e75964e5003873eaa726b10/expr.ipynb\"><img src=\"data:image/png;base64,iVBORw0KGgoAAAANSUhEUgAAADkAAAAVBAMAAAAOWFv7AAAAMFBMVEX////c3NwiIiJERESqqqqY\n",
       "mJh2dnZmZmYQEBDu7u4yMjJUVFTMzMyIiIi6uroAAAAs73DqAAAAAXRSTlMAQObYZgAAANZJREFU\n",
       "KM9jYMAP+C7gkIgDEadxaWM/ACRW4jR1AQMD7wWcsmEMDBwTcMrOYGB4hdu9zA4MZUCKM+3uATAf\n",
       "lcFWwLAUyD7xgEsBLIjKYFnA0AdU2MvAHADWgcrga2D4x8DA/QFqERqD5wNIlt8AKojGAMq2MDDI\n",
       "w7yMxgCabApUCbQrgJMBncHAuoAhHWhLAQPbgfkK6AyQjx4BlZbdvckw4yM6g4HrAQOHANSuhwzo\n",
       "DGBIsiZA2QEM6IxcpBjEkOUExiCDNITNC5OEM7hBdjLiiuA7DAwAx3NBG0TfR+4AAAAASUVORK5C\n",
       "YII=\n",
       "\" style=\"display:inline;vertical-align:middle;\" /></a></td></tr>\n",
       "<tr><td>6</td><td>Variable</td><td></td><td><a class=\"ProveItLink\" href=\"../../../../__pv_it/07527342713064c87612d00d8557c53d53d5324a0/expr.ipynb\"><img src=\"data:image/png;base64,iVBORw0KGgoAAAANSUhEUgAAAAsAAAAJBAMAAAAWSsseAAAAMFBMVEX///8yMjKqqqrMzMzu7u4i\n",
       "IiJmZmaYmJhEREQQEBC6urp2dnaIiIhUVFTc3NwAAAD87Fq/AAAAAXRSTlMAQObYZgAAAEhJREFU\n",
       "CNdjYOC7s2seAwPDygccHxgY+L4zsDUwMPB+YGA9wMDA38Dgb8DA8P4Agz6DA4O/AsNFJgMGxgKm\n",
       "MG6gyjunLE4xAAAZTBA5TB6DCwAAAABJRU5ErkJggg==\n",
       "\" style=\"display:inline;vertical-align:middle;\" /></a></td></tr>\n",
       "<tr><td>7</td><td>Variable</td><td></td><td><a class=\"ProveItLink\" href=\"../../../../__pv_it/cbdfda466482236edba0ce44ac7ef39cda0af7a40/expr.ipynb\"><img src=\"data:image/png;base64,iVBORw0KGgoAAAANSUhEUgAAAAkAAAAJBAMAAAASvxsjAAAALVBMVEX///9mZmbc3NxUVFSYmJhE\n",
       "REQiIiIyMjK6uroQEBDMzMyIiIh2dnbu7u4AAABgFDGoAAAAAXRSTlMAQObYZgAAADZJREFUCNdj\n",
       "YOA9s3sBA8PKBvYEBt7ZDKwODMwPGICALwBE6m0Asx0YGIDiAgw8QJUyu/cyAAAmuwmycZ8WfQAA\n",
       "AABJRU5ErkJggg==\n",
       "\" style=\"display:inline;vertical-align:middle;\" /></a></td></tr>\n",
       "</table>\n"
      ],
      "text/plain": [
       "0. (a + a , c + c + c)\n",
       "   core type: ExprTuple\n",
       "   sub-expressions: 1, 2\n",
       "1. a + a\n",
       "   core type: Operation\n",
       "   operator: 4\n",
       "   operands: 3\n",
       "2. c + c + c\n",
       "   core type: Operation\n",
       "   operator: 4\n",
       "   operands: 5\n",
       "3. (a , a)\n",
       "   core type: ExprTuple\n",
       "   sub-expressions: 6, 6\n",
       "4. +\n",
       "   core type: Literal\n",
       "   sub-expressions: \n",
       "5. (c , c , c)\n",
       "   core type: ExprTuple\n",
       "   sub-expressions: 7, 7, 7\n",
       "6. a\n",
       "   core type: Variable\n",
       "   sub-expressions: \n",
       "7. c\n",
       "   core type: Variable\n",
       "   sub-expressions: "
      ]
     },
     "execution_count": 4,
     "metadata": {},
     "output_type": "execute_result"
    }
   ],
   "source": [
    "# display the expression information\n",
    "expr.exprInfo()"
   ]
  },
  {
   "cell_type": "code",
   "execution_count": null,
   "metadata": {},
   "outputs": [],
   "source": []
  }
 ],
 "metadata": {
  "kernelspec": {
   "display_name": "Python 3",
   "language": "python",
   "name": "python3"
  }
 },
 "nbformat": 4,
 "nbformat_minor": 0
}
