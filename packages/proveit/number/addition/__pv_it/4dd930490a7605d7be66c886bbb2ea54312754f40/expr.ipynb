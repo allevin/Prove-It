{
 "cells": [
  {
   "cell_type": "markdown",
   "metadata": {},
   "source": [
    "Expression of type <a class=\"ProveItLink\" href=\"../../../../../../doc/html/api/proveit.logic.Set.html\">Set</a>\n",
    "=======================\n",
    "# from context <a class=\"ProveItLink\" href=\"../../_context_.ipynb\">proveit.number.addition</a>"
   ]
  },
  {
   "cell_type": "code",
   "execution_count": 1,
   "metadata": {},
   "outputs": [],
   "source": [
    "# import Expression classes needed to build the expression\n",
    "from proveit._common_ import f, g\n",
    "from proveit.logic import InSet, Set\n",
    "from proveit.number import Reals"
   ]
  },
  {
   "cell_type": "code",
   "execution_count": 2,
   "metadata": {},
   "outputs": [
    {
     "data": {
      "text/html": [
       "<strong id=\"expr\">expr:</strong> <a class=\"ProveItLink\" href=\"expr.ipynb\"><img src=\"data:image/png;base64,iVBORw0KGgoAAAANSUhEUgAAAIMAAAAVBAMAAACXjEALAAAAMFBMVEX///9ERETc3NyqqqpUVFS6\n",
       "urrMzMwyMjIQEBCIiIh2dnYiIiLu7u5mZmaYmJgAAABJJ2g3AAAAAXRSTlMAQObYZgAAAdRJREFU\n",
       "OMtjYGDgu8dALmBbpQCieHYxkA/YmkEk5wcw58gUBWQ5vnrB7xWVuHQiZK+DCK4GsKiU/QMUVYxM\n",
       "DmzCRbjMgMuuQBjB8/UwuqILDDKKuI2AyiIZwQzxDgPP9N27C2CKljGiaz1ZvXs7iiySEbwbIGrS\n",
       "3yDZg2EEW90BNFmEEXweWy6AOEwyyE71gXmE7+Y6ARCteABdFmwEL9jd/BMgUgpIRrDugwXnFQZ9\n",
       "sA1CGLLvQbyMABCpnwCWOogUYN27i2GO+MPAbwAKKAEMWXag0SltYDF7iFTE7t3w4Lx6AeYrDgeG\n",
       "fJDzWLuBsttRZcWBaSECbP9qiOIU5Gi7CuPZGzDMBoemA4Ys9wIgwQK2VAQidRrZCPaT0NQ2X4FB\n",
       "FhzjGzBkwWHBBRbvhEixPEBSxObgxsBwAKLuM1jQD10WKVJ5vkJT1lbkSF3MqMDzG8g+f4DlE8SR\n",
       "AaiyyEaw/oHKqV+DZ6SPCezin3n6gepYPedCvMBUm4Aii2wEZwHMdpPq3QXICZIVnFIYL0B4zO6Q\n",
       "GIEDuBFPGB/gzNdAHMBw3gCHNNgIPqAR7acZ8BjB+4nBBZc0uLzg2cnA8OoSTiOACZ9Zci4uR7K1\n",
       "QuxZTFnZCQBRp5G1Ncj83QAAAABJRU5ErkJggg==\n",
       "\" style=\"display:inline;vertical-align:middle;\" /></a><br>"
      ],
      "text/plain": [
       "expr: {f in Reals , g in Reals}"
      ]
     },
     "execution_count": 2,
     "metadata": {},
     "output_type": "execute_result"
    }
   ],
   "source": [
    "# build up the expression from sub-expressions\n",
    "expr = Set(InSet(f, Reals), InSet(g, Reals))"
   ]
  },
  {
   "cell_type": "code",
   "execution_count": 3,
   "metadata": {},
   "outputs": [
    {
     "name": "stdout",
     "output_type": "stream",
     "text": [
      "Passed sanity check: built 'expr' is the same as the stored Expression.\n"
     ]
    }
   ],
   "source": [
    "# check that the built expression is the same as the stored expression\n",
    "%check_expr"
   ]
  },
  {
   "cell_type": "code",
   "execution_count": 4,
   "metadata": {},
   "outputs": [
    {
     "data": {
      "text/html": [
       "<table><tr><th>&nbsp;</th><th>core type</th><th>sub-expressions</th><th>expression</th></tr>\n",
       "<tr><td>0</td><td>Operation</td><td>operator:&nbsp;1<br>operands:&nbsp;2<br></td><td><a class=\"ProveItLink\" href=\"expr.ipynb\"><img src=\"data:image/png;base64,iVBORw0KGgoAAAANSUhEUgAAAIMAAAAVBAMAAACXjEALAAAAMFBMVEX///9ERETc3NyqqqpUVFS6\n",
       "urrMzMwyMjIQEBCIiIh2dnYiIiLu7u5mZmaYmJgAAABJJ2g3AAAAAXRSTlMAQObYZgAAAdRJREFU\n",
       "OMtjYGDgu8dALmBbpQCieHYxkA/YmkEk5wcw58gUBWQ5vnrB7xWVuHQiZK+DCK4GsKiU/QMUVYxM\n",
       "DmzCRbjMgMuuQBjB8/UwuqILDDKKuI2AyiIZwQzxDgPP9N27C2CKljGiaz1ZvXs7iiySEbwbIGrS\n",
       "3yDZg2EEW90BNFmEEXweWy6AOEwyyE71gXmE7+Y6ARCteABdFmwEL9jd/BMgUgpIRrDugwXnFQZ9\n",
       "sA1CGLLvQbyMABCpnwCWOogUYN27i2GO+MPAbwAKKAEMWXag0SltYDF7iFTE7t3w4Lx6AeYrDgeG\n",
       "fJDzWLuBsttRZcWBaSECbP9qiOIU5Gi7CuPZGzDMBoemA4Ys9wIgwQK2VAQidRrZCPaT0NQ2X4FB\n",
       "FhzjGzBkwWHBBRbvhEixPEBSxObgxsBwAKLuM1jQD10WKVJ5vkJT1lbkSF3MqMDzG8g+f4DlE8SR\n",
       "AaiyyEaw/oHKqV+DZ6SPCezin3n6gepYPedCvMBUm4Aii2wEZwHMdpPq3QXICZIVnFIYL0B4zO6Q\n",
       "GIEDuBFPGB/gzNdAHMBw3gCHNNgIPqAR7acZ8BjB+4nBBZc0uLzg2cnA8OoSTiOACZ9Zci4uR7K1\n",
       "QuxZTFnZCQBRp5G1Ncj83QAAAABJRU5ErkJggg==\n",
       "\" style=\"display:inline;vertical-align:middle;\" /></a></td></tr>\n",
       "<tr><td>1</td><td>Literal</td><td></td><td><a class=\"ProveItLink\" href=\"../../../../logic/set_theory/enumeration/__pv_it/07381ed5b23806e8d7914b78cb6667769e3708dd0/expr.ipynb\"><img src=\"data:image/png;base64,iVBORw0KGgoAAAANSUhEUgAAAB4AAAAOBAMAAADKyLEKAAAAMFBMVEX///8iIiIQEBCIiIjMzMzc\n",
       "3Nyqqqp2dnZEREQyMjK6urru7u5mZmZUVFSYmJgAAACI6eGPAAAAAXRSTlMAQObYZgAAALRJREFU\n",
       "CNdjYGDgu3Nm3wIGBJjHwN0PZW5yYGDgLWBgyITy8zcwMMQDxZyh/INAvD6BgcEFypcB4vjPDiBm\n",
       "TPFRrhs/LjMwMP//38rAwCbKEMPA9gEkE3fp0waG+AUMRxh4JkC01T9guPTOOICBEWgVH5C//wHD\n",
       "H5D4fqCz9oCMDGD4DLaegRXslLMMDMpAgxlOMmQxHDRgYG5gYLBk4D7KcIe7gOHC2rt9QCXsh40Z\n",
       "GCKMGQDRkC8N/Ph1XAAAAABJRU5ErkJggg==\n",
       "\" style=\"display:inline;vertical-align:middle;\" /></a></td></tr>\n",
       "<tr><td>2</td><td>ExprTuple</td><td>3, 4</td><td><a class=\"ProveItLink\" href=\"../75c02d4e4de955f19c1dbf17a3ab3139511c71b70/expr.ipynb\"><img src=\"data:image/png;base64,iVBORw0KGgoAAAANSUhEUgAAAH0AAAAVBAMAAACZCfwhAAAAMFBMVEX////c3NwiIiJERESqqqqY\n",
       "mJh2dnZmZmYQEBDu7u4yMjJUVFTMzMyIiIi6uroAAAAs73DqAAAAAXRSTlMAQObYZgAAAd5JREFU\n",
       "OMtjYKAU8F0gW2sciDgNIjj3bkSRifpsv6oLp8EwWfYDQM5KkAhzyldUJQbSDIe9BHAZAJNdwMDA\n",
       "C7Zl/ksHNBXiDMwTDXDqh8qGMTBwTAAJ+EMl5i5S0oKpYDuArp/zlpLSAmTZGQwMr8AyRRAFPEsn\n",
       "IGzA1H8qEk2W2YGhDMSPbtoOFheegORCbrj7w68FgyhGS3RZtgKGpWCBvxBxQ2QfPoqChh/7Bsbv\n",
       "4EAWQJdlWcDQBzb5D8R/CAcbSChpwYI0fgLDFxA9GUOWr4HhH4jP8gGSlJqUlODh95wZ5pluBp6P\n",
       "IPoFUBYWfhBZng8Q/WwKkODbgOR+9jdQHssXBl4FeEpDkQXqbwH7DKKUUwHZ/yuvQpi8HxmYC0CM\n",
       "SRiyQPebgvgc0KS6FVnFae4DDJxAJusHBn5wUHAHoMkysC5gSAcnvwcQ8UkPkFSwORgyzAe6iPMn\n",
       "w35wyHPqocmC4u8RiP8eGlSMyw/Ac4gNw+L1DjNAAff6LjR5SdWgyjJwPWDgABl9C2Ywyy5o+MPA\n",
       "QzBpDuV5L4KEPwwA0y9rAgPrBlOcWRzoZT4Gzi84ZHPB+ZdjpQI+/fUC3BuwS3KCHCPNwJqOM6Pz\n",
       "ArHz3VIcstwgfYzkl193GBgA1eWDk1BGZB4AAAAASUVORK5CYII=\n",
       "\" style=\"display:inline;vertical-align:middle;\" /></a></td></tr>\n",
       "<tr><td>3</td><td>Operation</td><td>operator:&nbsp;6<br>operands:&nbsp;5<br></td><td><a class=\"ProveItLink\" href=\"../7a95c6b4093a5474182cfcdae777590b5e86f4870/expr.ipynb\"><img src=\"data:image/png;base64,iVBORw0KGgoAAAANSUhEUgAAADQAAAASBAMAAADmo+DzAAAAMFBMVEX///8yMjLMzMwQEBAiIiJm\n",
       "Zma6urqYmJiqqqp2dnZERETc3NyIiIhUVFTu7u4AAAAe+HC4AAAAAXRSTlMAQObYZgAAANFJREFU\n",
       "GNNjYGBgeHt2AwMSYJdf9VFYBsJe2V+ALMXAxX2BaYU0iMX37QUDmlQAw7pdIBbHB4gI30EXFwGY\n",
       "1CQuEIvVASKlWIekCyzFftk3ACTAvQ7ZwHtgA/kPQAQ2IEmxuYOdsV8BLPAKyRkmLhJgVj9EINnF\n",
       "Be6MsACI6VMgUrrIjg+D8NZCBJ4gSzG+AYeCDUSAtwBJiunCJXBgQH3shuz4GSAHs/2DimwMggfv\n",
       "LwXGhT8YGHgEYKp7RVwEkMOylgs12JGA4RNcMgyV0bhkAHivMWCnbbyBAAAAAElFTkSuQmCC\n",
       "\" style=\"display:inline;vertical-align:middle;\" /></a></td></tr>\n",
       "<tr><td>4</td><td>Operation</td><td>operator:&nbsp;6<br>operands:&nbsp;7<br></td><td><a class=\"ProveItLink\" href=\"../dac58cc511316415102ffebb7a0709219f45a3c10/expr.ipynb\"><img src=\"data:image/png;base64,iVBORw0KGgoAAAANSUhEUgAAADMAAAASBAMAAAAEf/uKAAAAMFBMVEX///8yMjK6uroiIiLMzMwQ\n",
       "EBCqqqru7u7c3NxUVFRERER2dnaIiIhmZmaYmJgAAAAgbmjVAAAAAXRSTlMAQObYZgAAANZJREFU\n",
       "GNNjYMAAD3+tFww8wIAVLOhk8EpswC7Vy8BVsQBZhP2gsbEAVIrbAUXK8TlCF1Tq7elXIIpjOZKB\n",
       "nGADeSdw/AUJcDUgSSk/BPHeFzB8AwlUIZzRamyYAGJEMrD8ANGqxsZwZ+hyFQBptm8MPAYgAU8k\n",
       "x/OqTADSPD8YuC6ABIqR/SV+DkjzfWDgBxvM+QBJypPTAejR7wzzwW5jN0KS4k5YAWRonrkMEWm8\n",
       "Ag/eJQxS8mCj1kJVZwpDXAgDTAzs37BHAMP9Bs4JOKSyztzDIQMAaPdAHEfurEkAAAAASUVORK5C\n",
       "YII=\n",
       "\" style=\"display:inline;vertical-align:middle;\" /></a></td></tr>\n",
       "<tr><td>5</td><td>ExprTuple</td><td>8, 10</td><td><a class=\"ProveItLink\" href=\"../c9693c4d10f54af882c858f1b13487c75320822d0/expr.ipynb\"><img src=\"data:image/png;base64,iVBORw0KGgoAAAANSUhEUgAAAC8AAAAVBAMAAAAk6KpUAAAAMFBMVEX////c3NwiIiJERESqqqqY\n",
       "mJh2dnZmZmYQEBDu7u4yMjJUVFTMzMyIiIi6uroAAAAs73DqAAAAAXRSTlMAQObYZgAAARtJREFU\n",
       "KM9jYMAJ+C5gisWBiNMggnPvRhAV9dl+VRdQIfsBIGclSIQ55StYqYE0w2EvAQaGBQwMvGCT5r90\n",
       "gEiIMzBPNGBgCGNg4JgAEvCHGg6UYDsAlJjBwPAKLFCEJsHswFAG4kc3bYdLcIOMYitgWAoW+IvQ\n",
       "8SgKaDnLAoY+EJ/xD0xCQkkL5Ay+BoZ/ID7LB7iO58wg1/B8gEiwKcAl2N9sgEi0gP23AWHHyqsQ\n",
       "o0xBfA6gLzmhEqe5geHBuoAhHezxB0CsAPWHgyHYuY9AEu+BFs74CA5EG4bF6x0YuB4wcABdzXAL\n",
       "JPsQKdyBQcKawMC6AWxRAJJELjjYOVYqoElwAoOdQZqBNR1kHC+SBm6QACOWqL3DwAAADNxFEg3b\n",
       "Bo0AAAAASUVORK5CYII=\n",
       "\" style=\"display:inline;vertical-align:middle;\" /></a></td></tr>\n",
       "<tr><td>6</td><td>Literal</td><td></td><td><a class=\"ProveItLink\" href=\"../../../../logic/set_theory/membership/__pv_it/088cbc857536a28d4119ad9639a84270ccb0545d0/expr.ipynb\"><img src=\"data:image/png;base64,iVBORw0KGgoAAAANSUhEUgAAAAwAAAAMBAMAAACkW0HUAAAALVBMVEX///+qqqpmZmZUVFQQEBC6\n",
       "urpERETc3NyYmJjMzMwiIiIyMjKIiIju7u4AAACYsrA9AAAAAXRSTlMAQObYZgAAADxJREFUCNdj\n",
       "YOA9vWrVBgaG2b0MQMCeCyIZ2ArA1DUwyRCyahVIyWQI7xaEYm4AU7xLIdxqTQgtvGvVBgCkcQ7e\n",
       "geM/tQAAAABJRU5ErkJggg==\n",
       "\" style=\"display:inline;vertical-align:middle;\" /></a></td></tr>\n",
       "<tr><td>7</td><td>ExprTuple</td><td>9, 10</td><td><a class=\"ProveItLink\" href=\"../9fda967cec214962472d834c26e25c64101125d50/expr.ipynb\"><img src=\"data:image/png;base64,iVBORw0KGgoAAAANSUhEUgAAAC8AAAAVBAMAAAAk6KpUAAAAMFBMVEX////c3NwiIiJERESqqqqY\n",
       "mJh2dnZmZmYQEBDu7u4yMjJUVFTMzMyIiIi6uroAAAAs73DqAAAAAXRSTlMAQObYZgAAAR9JREFU\n",
       "KM9jYMAJ+C5gisWBiNNIAlGf7Vd1ARWyHwByViIrNZBmOOwlwMCwgIGBF8UkA3EG5okGDAxhDAwc\n",
       "E9Ak2A4AJWYwMLxiwCbB7MBQBuKHXwuGS3CDjGIrYFgK5LJvYPwOl3gUBbScZQFDH5AbP4HhC1RC\n",
       "QknLAeS5BoZ/QKqbgecjTMdzZpBreD6AJFi+MPAqwCTY32yASLQAvfKRgbkAbsfKqxCjTBkYWD8w\n",
       "8DswcEIlTnMDw4N1AUM6AwPnT4b9AgzzFaD+cDAEO/cRkPv6bhHQsx/BgWjDsHi9AwPXAwYOAZAR\n",
       "5kD8ECkEgEHCmsDAx8AJ8kYAkkQuONjrBbg3oEpwAoOdQZrB+W4pkOZF0sANMp8RS9TeYWAAAAXl\n",
       "RhSVhjAgAAAAAElFTkSuQmCC\n",
       "\" style=\"display:inline;vertical-align:middle;\" /></a></td></tr>\n",
       "<tr><td>8</td><td>Variable</td><td></td><td><a class=\"ProveItLink\" href=\"../../../../__pv_it/4d51ee1e62d011d06d4528b97697bf3da60c9de60/expr.ipynb\"><img src=\"data:image/png;base64,iVBORw0KGgoAAAANSUhEUgAAAAsAAAASBAMAAAB/WzlGAAAAMFBMVEX///8yMjLMzMwQEBAiIiJm\n",
       "Zma6urqYmJiqqqp2dnZERETc3NyIiIhUVFTu7u4AAAAe+HC4AAAAAXRSTlMAQObYZgAAAFVJREFU\n",
       "CNdjYGBgeHt2A5BkWNlfACT5vr0AcTg+gEgGVgcQyX7ZNwBE8x8AC+5XAFP9YJJhCoRaC6FswCTf\n",
       "NzDF9g9M8QiAyFoukPEMhk/AYpXRIBIAEwsRcZ82juYAAAAASUVORK5CYII=\n",
       "\" style=\"display:inline;vertical-align:middle;\" /></a></td></tr>\n",
       "<tr><td>9</td><td>Variable</td><td></td><td><a class=\"ProveItLink\" href=\"../../../../__pv_it/b5004dd09038f1a7d88dab9010b943185ce1d3ea0/expr.ipynb\"><img src=\"data:image/png;base64,iVBORw0KGgoAAAANSUhEUgAAAAoAAAANBAMAAABiGeI2AAAALVBMVEX///+6uroiIiLMzMwQEBCq\n",
       "qqru7u7c3NxUVFRERER2dnaIiIhmZmaYmJgAAABs7E5IAAAAAXRSTlMAQObYZgAAAFRJREFUCNdj\n",
       "YGC4s+smAwNPA/sbBoZ7CQxPGRg8GJifM7A+ZeBWYOB+zsB5gIH3AQNfAAPbM4a+AgYGid2HGEBg\n",
       "DgMDIwMbUPm5Ao4GBobI3WcZGAA0kxQNEIuRVgAAAABJRU5ErkJggg==\n",
       "\" style=\"display:inline;vertical-align:middle;\" /></a></td></tr>\n",
       "<tr><td>10</td><td>Literal</td><td></td><td><a class=\"ProveItLink\" href=\"../../../sets/real/__pv_it/9e7645ee1117062e179dd6264898f99ed95b157c0/expr.ipynb\"><img src=\"data:image/png;base64,iVBORw0KGgoAAAANSUhEUgAAAA8AAAAOBAMAAAACpFvcAAAAMFBMVEX///8iIiK6urp2dnbu7u5m\n",
       "ZmaqqqrMzMxUVFTc3NyIiIgQEBBEREQyMjKYmJgAAAA9nvXMAAAAAXRSTlMAQObYZgAAAFJJREFU\n",
       "CNdjePvn/N29CxiA4MAMhprcCSDGVAYezwMQBnMBOoMDJqX4Fqx4tqBsAlj7VFUeBwiDVb0BwmC4\n",
       "sg7KqOAogJqTcJKBAWjpcYY79xMAyqEnfsw4ApEAAAAASUVORK5CYII=\n",
       "\" style=\"display:inline;vertical-align:middle;\" /></a></td></tr>\n",
       "</table>\n"
      ],
      "text/plain": [
       "0. {f in Reals , g in Reals}\n",
       "   core type: Operation\n",
       "   operator: 1\n",
       "   operands: 2\n",
       "1. Set\n",
       "   core type: Literal\n",
       "   sub-expressions: \n",
       "2. (f in Reals , g in Reals)\n",
       "   core type: ExprTuple\n",
       "   sub-expressions: 3, 4\n",
       "3. f in Reals\n",
       "   core type: Operation\n",
       "   operator: 6\n",
       "   operands: 5\n",
       "4. g in Reals\n",
       "   core type: Operation\n",
       "   operator: 6\n",
       "   operands: 7\n",
       "5. (f , Reals)\n",
       "   core type: ExprTuple\n",
       "   sub-expressions: 8, 10\n",
       "6. in\n",
       "   core type: Literal\n",
       "   sub-expressions: \n",
       "7. (g , Reals)\n",
       "   core type: ExprTuple\n",
       "   sub-expressions: 9, 10\n",
       "8. f\n",
       "   core type: Variable\n",
       "   sub-expressions: \n",
       "9. g\n",
       "   core type: Variable\n",
       "   sub-expressions: \n",
       "10. Reals\n",
       "    core type: Literal\n",
       "    sub-expressions: "
      ]
     },
     "execution_count": 4,
     "metadata": {},
     "output_type": "execute_result"
    }
   ],
   "source": [
    "# display the expression information\n",
    "expr.exprInfo()"
   ]
  },
  {
   "cell_type": "code",
   "execution_count": null,
   "metadata": {},
   "outputs": [],
   "source": []
  }
 ],
 "metadata": {
  "kernelspec": {
   "display_name": "Python 3",
   "language": "python",
   "name": "python3"
  }
 },
 "nbformat": 4,
 "nbformat_minor": 0
}
