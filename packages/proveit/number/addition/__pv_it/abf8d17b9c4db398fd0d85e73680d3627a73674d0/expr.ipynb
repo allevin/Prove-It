{
 "cells": [
  {
   "cell_type": "markdown",
   "metadata": {},
   "source": [
    "Expression of type <a class=\"ProveItLink\" href=\"../../../../../../doc/html/api/proveit.ExprTuple.html\">ExprTuple</a>\n",
    "=======================\n",
    "# from context <a class=\"ProveItLink\" href=\"../../_context_.ipynb\">proveit.number.addition</a>"
   ]
  },
  {
   "cell_type": "code",
   "execution_count": 1,
   "metadata": {},
   "outputs": [],
   "source": [
    "# import Expression classes needed to build the expression\n",
    "from proveit import ExprTuple\n",
    "from proveit._common_ import b, c\n",
    "from proveit.number import Add, Mult, three, two"
   ]
  },
  {
   "cell_type": "code",
   "execution_count": 2,
   "metadata": {},
   "outputs": [
    {
     "data": {
      "text/html": [
       "<strong id=\"expr\">expr:</strong> <a class=\"ProveItLink\" href=\"expr.ipynb\"><img src=\"data:image/png;base64,iVBORw0KGgoAAAANSUhEUgAAAOcAAAAVBAMAAABPgOQBAAAAMFBMVEX////c3NwiIiJERESqqqqY\n",
       "mJh2dnZmZmYQEBDu7u4yMjJUVFTMzMyIiIi6uroAAAAs73DqAAAAAXRSTlMAQObYZgAAArpJREFU\n",
       "SMfFlj9oE3EUx7+XJrlc/uvi4JJJ3ZqhrtJNEMS6ODhIcEhBDATFFqLQIlJ0ieciRYcc1g5NQSMo\n",
       "6lCaSYcOZlOoxdBJCpJqU+WgNr7f3eWuvz/aP4sP8rt37z733v3e+/3eL8B/kXRrb8ZI+4CUIJfY\n",
       "sATjTU58sgS8Kw75t49v03ALCupI5dRuVCDa+EwbepO0OSDeEB/PQSujE0xknn5xKKgGvgzvQgVy\n",
       "FKkuYAEp8pzpv/fAu5Ix2kUmSECXZa4gUwkToXU1pZC3wCBwAYiZQMf0rGe9KxnDO4OmbRqMSZmK\n",
       "3UNiW00p5K6JxTamgTW6uQzB3ZozBumNOuGHZCpuQ99WUwp5bmKijYFhjLFarLzi3Y35JXIlvrA8\n",
       "AoxCRYVsNQU8LH0WFEqviWgZs5SRDWSanDsyInklWF61PLaAM0LQWWf8UFBTSFbxhFdI/QmELVRp\n",
       "tBErcO6qzviJ7TmD1fuciSngqxDUpWagpjDdwkleoWTkqfSToIroFjJlzp1bphhLXI0VqgL8ojkJ\n",
       "QR1Kz0NNYVFSgOtstuvszRBtSSpGpV4/Ua/Pe+60JgY22Wcyp8eR3vTc8RSw7E5GoJhsSApSDTfo\n",
       "HWebTpjcHMhYs92g3gbUbTm9RCFcxiE1pf0WFeA0tCxLL2WbVtEU744ZLYS+9+Etp+gXIVF4D5xX\n",
       "UGwO9MkRXkmWEckiYrEVnhjWG7w7MqZG0PHX5UvchLxl6F47VhzNyZTxg4bXwFVeOVwsXgPbMquE\n",
       "LNwQ3K2yVIw/DVr5R6o5nslUqNfr5WTKuJ+lJVZaMXllsNej2PE2YtkdLcNvcFlFP5Hb4N+pdP+R\n",
       "rLA2yDXob/1TUdW1o629UxH/fJUUlNyjDYpDS5ZH+6D+EdSwnENOefLJ8mIflH9UyEqC5VlT/V1R\n",
       "GFPNA1KCUO//A2G065WwK2ZuAAAAAElFTkSuQmCC\n",
       "\" style=\"display:inline;vertical-align:middle;\" /></a><br>"
      ],
      "text/plain": [
       "expr: (b + (3 * b) + (2 * b) , c , c , 2)"
      ]
     },
     "execution_count": 2,
     "metadata": {},
     "output_type": "execute_result"
    }
   ],
   "source": [
    "# build up the expression from sub-expressions\n",
    "expr = ExprTuple(Add(b, Mult(three, b), Mult(two, b)), c, c, two)"
   ]
  },
  {
   "cell_type": "code",
   "execution_count": 3,
   "metadata": {},
   "outputs": [
    {
     "name": "stdout",
     "output_type": "stream",
     "text": [
      "Passed sanity check: built 'expr' is the same as the stored Expression.\n"
     ]
    }
   ],
   "source": [
    "# check that the built expression is the same as the stored expression\n",
    "%check_expr"
   ]
  },
  {
   "cell_type": "code",
   "execution_count": 4,
   "metadata": {},
   "outputs": [
    {
     "data": {
      "text/html": [
       "<table><tr><th>&nbsp;</th><th>core type</th><th>sub-expressions</th><th>expression</th></tr>\n",
       "<tr><td>0</td><td>ExprTuple</td><td>1, 2, 2, 11</td><td><a class=\"ProveItLink\" href=\"expr.ipynb\"><img src=\"data:image/png;base64,iVBORw0KGgoAAAANSUhEUgAAAOcAAAAVBAMAAABPgOQBAAAAMFBMVEX////c3NwiIiJERESqqqqY\n",
       "mJh2dnZmZmYQEBDu7u4yMjJUVFTMzMyIiIi6uroAAAAs73DqAAAAAXRSTlMAQObYZgAAArpJREFU\n",
       "SMfFlj9oE3EUx7+XJrlc/uvi4JJJ3ZqhrtJNEMS6ODhIcEhBDATFFqLQIlJ0ieciRYcc1g5NQSMo\n",
       "6lCaSYcOZlOoxdBJCpJqU+WgNr7f3eWuvz/aP4sP8rt37z733v3e+/3eL8B/kXRrb8ZI+4CUIJfY\n",
       "sATjTU58sgS8Kw75t49v03ALCupI5dRuVCDa+EwbepO0OSDeEB/PQSujE0xknn5xKKgGvgzvQgVy\n",
       "FKkuYAEp8pzpv/fAu5Ix2kUmSECXZa4gUwkToXU1pZC3wCBwAYiZQMf0rGe9KxnDO4OmbRqMSZmK\n",
       "3UNiW00p5K6JxTamgTW6uQzB3ZozBumNOuGHZCpuQ99WUwp5bmKijYFhjLFarLzi3Y35JXIlvrA8\n",
       "AoxCRYVsNQU8LH0WFEqviWgZs5SRDWSanDsyInklWF61PLaAM0LQWWf8UFBTSFbxhFdI/QmELVRp\n",
       "tBErcO6qzviJ7TmD1fuciSngqxDUpWagpjDdwkleoWTkqfSToIroFjJlzp1bphhLXI0VqgL8ojkJ\n",
       "QR1Kz0NNYVFSgOtstuvszRBtSSpGpV4/Ua/Pe+60JgY22Wcyp8eR3vTc8RSw7E5GoJhsSApSDTfo\n",
       "HWebTpjcHMhYs92g3gbUbTm9RCFcxiE1pf0WFeA0tCxLL2WbVtEU744ZLYS+9+Etp+gXIVF4D5xX\n",
       "UGwO9MkRXkmWEckiYrEVnhjWG7w7MqZG0PHX5UvchLxl6F47VhzNyZTxg4bXwFVeOVwsXgPbMquE\n",
       "LNwQ3K2yVIw/DVr5R6o5nslUqNfr5WTKuJ+lJVZaMXllsNej2PE2YtkdLcNvcFlFP5Hb4N+pdP+R\n",
       "rLA2yDXob/1TUdW1o629UxH/fJUUlNyjDYpDS5ZH+6D+EdSwnENOefLJ8mIflH9UyEqC5VlT/V1R\n",
       "GFPNA1KCUO//A2G065WwK2ZuAAAAAElFTkSuQmCC\n",
       "\" style=\"display:inline;vertical-align:middle;\" /></a></td></tr>\n",
       "<tr><td>1</td><td>Operation</td><td>operator:&nbsp;3<br>operands:&nbsp;4<br></td><td><a class=\"ProveItLink\" href=\"../378c4d6f9f55edd45f21d7b3785c030adc5be92b0/expr.ipynb\"><img src=\"data:image/png;base64,iVBORw0KGgoAAAANSUhEUgAAAJ8AAAAVBAMAAACqHiFtAAAAMFBMVEX////c3NxmZmbMzMxERESY\n",
       "mJiIiIh2dna6urqqqqoyMjIiIiIQEBBUVFTu7u4AAAAiO1wTAAAAAXRSTlMAQObYZgAAAa9JREFU\n",
       "OMu91DFLw0AUB/B/k7amsU2KgosIpeiiQ7u5+g10q6Mgdu4gdnAwk2uDX8AMTpWi36AKgiKiWXQS\n",
       "zQco4iCKFqyXS5P28m5oO3hDyD1+vNy7ezngP8YhDW2OrIzn83hYdaHWd+1wyoVSlqhE8cSiSnfj\n",
       "VPcwA+1zMPeFI1ELSH9TZYZLMfL9lypwYKMbUS4qEvUCtKlqeP1IZqv/cg8cDyfkoiNRdx5eLaL2\n",
       "EaMar26oZC6SNlVnHkoWUa3qo0iVGsSt5WKqIFNoe3FlfMAsC1TfYI/VVpQvEBkHVEH9Iirzi2xN\n",
       "oFleRfrGf775cS60C0iUvkaU4sAsCNQMtuWBFWP4JxMI9R0StcgXJ6jpAhps9UqzeXrbbLp9Ogus\n",
       "s6hxxeaB4AljCmm+0aJi7VPyxGJsGD2PJwwbjAlSsn/qR0jk44rt5LVIkyzTDzu/iHKRcqhSC0gR\n",
       "lbMVV6R+g+xAi84vEPG28efz9foKUcbTUryx2V+eKS4PLgcudIuqdq/XlSvxp7qUXWmdsVTwzZBW\n",
       "ZHRvLEUuJjIMZzLFR8KlsVx+MhWMORraHlX9AWljnr8/9OO3AAAAAElFTkSuQmCC\n",
       "\" style=\"display:inline;vertical-align:middle;\" /></a></td></tr>\n",
       "<tr><td>2</td><td>Variable</td><td></td><td><a class=\"ProveItLink\" href=\"../../../../__pv_it/cbdfda466482236edba0ce44ac7ef39cda0af7a40/expr.ipynb\"><img src=\"data:image/png;base64,iVBORw0KGgoAAAANSUhEUgAAAAkAAAAJBAMAAAASvxsjAAAALVBMVEX///9mZmbc3NxUVFSYmJhE\n",
       "REQiIiIyMjK6uroQEBDMzMyIiIh2dnbu7u4AAABgFDGoAAAAAXRSTlMAQObYZgAAADZJREFUCNdj\n",
       "YOA9s3sBA8PKBvYEBt7ZDKwODMwPGICALwBE6m0Asx0YGIDiAgw8QJUyu/cyAAAmuwmycZ8WfQAA\n",
       "AABJRU5ErkJggg==\n",
       "\" style=\"display:inline;vertical-align:middle;\" /></a></td></tr>\n",
       "<tr><td>3</td><td>Literal</td><td></td><td><a class=\"ProveItLink\" href=\"../3e6688136fa3c7aefbebe51301b7c3ebf0b69c440/expr.ipynb\"><img src=\"data:image/png;base64,iVBORw0KGgoAAAANSUhEUgAAAA4AAAAOBAMAAADtZjDiAAAAJFBMVEX///+6urpUVFQQEBAiIiIy\n",
       "MjJmZmaIiIiqqqrc3Nzu7u4AAACgHpL+AAAAAXRSTlMAQObYZgAAAB5JREFUCNdjYGBgWMkAAe2k\n",
       "0Kmhoc6hoUGk6BMHYgAHOwjcado9fwAAAABJRU5ErkJggg==\n",
       "\" style=\"display:inline;vertical-align:middle;\" /></a></td></tr>\n",
       "<tr><td>4</td><td>ExprTuple</td><td>12, 5, 6</td><td><a class=\"ProveItLink\" href=\"../98bb555298bf794d439a22d67ef341e3cea651d90/expr.ipynb\"><img src=\"data:image/png;base64,iVBORw0KGgoAAAANSUhEUgAAAGwAAAAVBAMAAABRZRb3AAAAMFBMVEX////c3NwiIiJERESqqqqY\n",
       "mJh2dnZmZmYQEBDu7u4yMjJUVFTMzMyIiIi6uroAAAAs73DqAAAAAXRSTlMAQObYZgAAAblJREFU\n",
       "OMudlD9IAlEcx79ap3fmedLa4taog+1uQks3N0mDQZMUJVRgVEhT3difQaEaIiiDghokp5YG3Qoi\n",
       "uJqkRTItBMneu3t355Nb7MD3Hp/7/fu+3/0E/vmEasN6CDpZHiHdRhh4SMftl0eb7ODJHus8XSe/\n",
       "MyBQYgYZNJzc52yfgNwCRwOATOyUhIl8LSgR28CyvQOi4KiQgqgBDc1Eo/1uoQ477Gi41zkqbeCD\n",
       "bHNOMKdInxXgUkNO52kcK7Te15tBQURA+UW1zlGNp/M4JTm/oFQMGFwo2W6FGLrsGPweoNPYJZI6\n",
       "EFMMP9NyJBp8RkPeShGj6wFsWscv4C9CyTALkUouUAGrwA+DS3SRmrBplbp5SbsMGZ4KRtpk36fR\n",
       "JxFqm16yUbm0BZtWsW20LWdoLnRMN9YgP2tBEp4wT+uYAr2PPCTClCK8n5ZBlwqm0YIZCGGOYpbc\n",
       "JcYS/pKhR1bRsO4G11gz9Yyn04vop7QB76Tq8jLRQ9MksyfOR/ukQtojaaK9XpOjwAVEK/+b61SF\n",
       "3Sj5uASrKtV1tFwHzlczBmdYt0NjnMzmuBq4T/4V7fHQfwpyBX8pyn8dDQm2jQAAAABJRU5ErkJg\n",
       "gg==\n",
       "\" style=\"display:inline;vertical-align:middle;\" /></a></td></tr>\n",
       "<tr><td>5</td><td>Operation</td><td>operator:&nbsp;8<br>operands:&nbsp;7<br></td><td><a class=\"ProveItLink\" href=\"../1e631544db83ce4853cc0a486ec7448a56387f780/expr.ipynb\"><img src=\"data:image/png;base64,iVBORw0KGgoAAAANSUhEUgAAACIAAAAOBAMAAAC4B9O8AAAAMFBMVEX///+YmJju7u4QEBBUVFQy\n",
       "MjIiIiKIiIi6urpmZmbc3NyqqqpERER2dnbMzMwAAAB0GlNiAAAAAXRSTlMAQObYZgAAAJhJREFU\n",
       "CNdjYHh79zQDDKiYAQmuCQz9BXChECDm/c3AnwAX+Q3E3MgiHJ8gNEIXbwJCMwSwupcIMDDwXXWA\n",
       "i+gfYPgHoosbgASTApDYr8BgCxJhBpmnDzJiKgPDTwauBww8H4Ec5QNAIpOB4yOD/ieICNQ5nJ8Y\n",
       "+AMY2H7BRP4xMF9gYBdg6L8AE/FmmAIkd86MRvi0UoABAPL2JMAQl6zyAAAAAElFTkSuQmCC\n",
       "\" style=\"display:inline;vertical-align:middle;\" /></a></td></tr>\n",
       "<tr><td>6</td><td>Operation</td><td>operator:&nbsp;8<br>operands:&nbsp;9<br></td><td><a class=\"ProveItLink\" href=\"../4fa23b01b5b767887c70271cab015f5b5c98d38c0/expr.ipynb\"><img src=\"data:image/png;base64,iVBORw0KGgoAAAANSUhEUgAAACEAAAAOBAMAAABTMGi/AAAAMFBMVEX///+YmJh2dnbMzMwQEBAi\n",
       "IiLu7u6qqqqIiIhUVFS6urpEREQyMjJmZmbc3NwAAACOMKdoAAAAAXRSTlMAQObYZgAAAKBJREFU\n",
       "CNdj4Lt7egEDFLBNCQCSLxk4vsNEGHgmAIlpDAzxcBH+AiDhksAwH65tfQKQOJ/AcB8uogql4xNg\n",
       "Iic7JoIo5k9wu34z8BuALNgA4qUBMfs3BhYFIH0bLP0VSPAeYOC/wMDAMQEs4g0kWC8wrBdgYKhl\n",
       "4HuAcM79BAbmCwyMcBEDBicGhqdKSldhdnEW8AKNiP///yvc9hkXGRgAQ2knSfB0jgcAAAAASUVO\n",
       "RK5CYII=\n",
       "\" style=\"display:inline;vertical-align:middle;\" /></a></td></tr>\n",
       "<tr><td>7</td><td>ExprTuple</td><td>10, 12</td><td><a class=\"ProveItLink\" href=\"../ed5a6ec4c875d8d4dac8f1f17e42c24dc92561870/expr.ipynb\"><img src=\"data:image/png;base64,iVBORw0KGgoAAAANSUhEUgAAACkAAAAVBAMAAAAp9toTAAAAMFBMVEX////c3NwiIiJERESqqqqY\n",
       "mJh2dnZmZmYQEBDu7u4yMjJUVFTMzMyIiIi6uroAAAAs73DqAAAAAXRSTlMAQObYZgAAARBJREFU\n",
       "GNNtka9Pw0AcxT/d2rVlY53H7I8AX4edQpIGAQnJkhpAgiBIqMRRAYLM1JBgSKowmEkEJAtypvya\n",
       "qCF873odScOJd++95L737h38v/rThrGt4Aked9crw78fgpsLu8WKKcyBlUwghdUpnW+CYeUGocAW\n",
       "eAn2n1skApcwr5SZsKOgHXKo1cTcP3m9g07MjfDefmYyfBHk2CnnWj7P9GaXeBH9E3609Eq9uSlB\n",
       "TO9duVZOe6HdliQfKfcUrsralbjHiZqwITyl9YFKKledgZOyJ88bUUT+p7jd0M10sjcRm0fX+BcD\n",
       "SfZwoMqY4Q3qRmuiXuxEhjvLgse6yYbrS5OsGbH8kq4aZTV/6AV+AUvGQYW/r0RJAAAAAElFTkSu\n",
       "QmCC\n",
       "\" style=\"display:inline;vertical-align:middle;\" /></a></td></tr>\n",
       "<tr><td>8</td><td>Literal</td><td></td><td><a class=\"ProveItLink\" href=\"../../../multiplication/__pv_it/21fd2079611555ecce512d99547a00d551e6b86b0/expr.ipynb\"><img src=\"data:image/png;base64,iVBORw0KGgoAAAANSUhEUgAAAAMAAAADBAMAAACkBqiMAAAAElBMVEX///9EREQQEBAiIiLu7u4A\n",
       "AABGBidwAAAAAXRSTlMAQObYZgAAABFJREFUCNdjYHFgcDVgcBIAAASWAQx4jI0xAAAAAElFTkSu\n",
       "QmCC\n",
       "\" style=\"display:inline;vertical-align:middle;\" /></a></td></tr>\n",
       "<tr><td>9</td><td>ExprTuple</td><td>11, 12</td><td><a class=\"ProveItLink\" href=\"../3a7fed3333ef42636d071b31cc212d3a8cbf468e0/expr.ipynb\"><img src=\"data:image/png;base64,iVBORw0KGgoAAAANSUhEUgAAACkAAAAVBAMAAAAp9toTAAAAMFBMVEX////c3NwiIiJERESqqqqY\n",
       "mJh2dnZmZmYQEBDu7u4yMjJUVFTMzMyIiIi6uroAAAAs73DqAAAAAXRSTlMAQObYZgAAARNJREFU\n",
       "GNNtkaFPw0AUxn8tK20prEMhMFVoDJb0TwCDJA2CKZIaEBgQhAQDlcgmBEEwNSQYkjkEgnlGIEjM\n",
       "FqZqKO/u2omGipf3/a737rvv4P+vO2yBXVVeYOV40wD/MQJ3IN0dVsFHbPBCISWHpSFBhj0xNFSr\n",
       "O+BleBcEv4aOMynX8C3bStya7qkyF3OklV0aev/+APMpt1q9JsbDlHBAJ+dSyxvza6fES+ieoge6\n",
       "64a6OWHK4sTQt/padsp4S9EztTFlubF7kqkJGyKeYRvlVI46ByenD9bafj/yf4QGsVtoZ18yraqq\n",
       "yL/qibOnQxXGJ16vSbRp1I2dpO6dWcAHOskW9SVJVmsxe5JAjbLaLzSCP9bMPeBRRV1aAAAAAElF\n",
       "TkSuQmCC\n",
       "\" style=\"display:inline;vertical-align:middle;\" /></a></td></tr>\n",
       "<tr><td>10</td><td>Literal</td><td></td><td><a class=\"ProveItLink\" href=\"../../../numeral/__pv_it/9176d93c83afa2c995b614976e3cb49207102fa70/expr.ipynb\"><img src=\"data:image/png;base64,iVBORw0KGgoAAAANSUhEUgAAAAoAAAAOBAMAAADkjZCYAAAAMFBMVEX///+YmJju7u4QEBBUVFQy\n",
       "MjIiIiKIiIi6urpmZmbc3NyqqqpERER2dnbMzMwAAAB0GlNiAAAAAXRSTlMAQObYZgAAAE1JREFU\n",
       "CNdjYHh79zQDA9cEhv4CBt7fDPwJDNxgEgiAIkAQAsR8Vx1ATIbiBhDJ/ImB6wEDz0cG/U8gkj+A\n",
       "ge0XA7sAQ/8FBoadM6MZAEflFACalZ/OAAAAAElFTkSuQmCC\n",
       "\" style=\"display:inline;vertical-align:middle;\" /></a></td></tr>\n",
       "<tr><td>11</td><td>Literal</td><td></td><td><a class=\"ProveItLink\" href=\"../../../numeral/__pv_it/77d407a64829263cdc16415becd4c2293f77a4bf0/expr.ipynb\"><img src=\"data:image/png;base64,iVBORw0KGgoAAAANSUhEUgAAAAkAAAAOBAMAAAAPuiubAAAAMFBMVEX///+YmJh2dnbMzMwQEBAi\n",
       "IiLu7u6qqqqIiIhUVFS6urpEREQyMjJmZmbc3NwAAACOMKdoAAAAAXRSTlMAQObYZgAAAFBJREFU\n",
       "CNdj4Lt7egEDw0sGju8MDNMYGOIZGFwSGOYvYDifwHAfKAEUSQASzJ9ATJ4NIPI2iOCYACJrGfge\n",
       "MDBfYGB8wPBUSekqUPH//18ZAIliFhc3zESNAAAAAElFTkSuQmCC\n",
       "\" style=\"display:inline;vertical-align:middle;\" /></a></td></tr>\n",
       "<tr><td>12</td><td>Variable</td><td></td><td><a class=\"ProveItLink\" href=\"../../../../__pv_it/6840a4fa6c106149dc16a131294d0c5e44f1b0480/expr.ipynb\"><img src=\"data:image/png;base64,iVBORw0KGgoAAAANSUhEUgAAAAkAAAAOBAMAAAAPuiubAAAALVBMVEX///9mZmbMzMxERESYmJiI\n",
       "iIh2dna6urqqqqoyMjIiIiIQEBBUVFTu7u4AAAD9S1JeAAAAAXRSTlMAQObYZgAAAE1JREFUCNdj\n",
       "4D29gAEIOA+ASL4GEFl3AURmgQiGOaFHGBh4HzPwKTBwvGXgTmBgnMDAJ8DAJcBQ5wBSLncBJLWN\n",
       "gYGngRFoBO9REQYGAGrcDtUkVqASAAAAAElFTkSuQmCC\n",
       "\" style=\"display:inline;vertical-align:middle;\" /></a></td></tr>\n",
       "</table>\n"
      ],
      "text/plain": [
       "0. (b + (3 * b) + (2 * b) , c , c , 2)\n",
       "   core type: ExprTuple\n",
       "   sub-expressions: 1, 2, 2, 11\n",
       "1. b + (3 * b) + (2 * b)\n",
       "   core type: Operation\n",
       "   operator: 3\n",
       "   operands: 4\n",
       "2. c\n",
       "   core type: Variable\n",
       "   sub-expressions: \n",
       "3. +\n",
       "   core type: Literal\n",
       "   sub-expressions: \n",
       "4. (b , 3 * b , 2 * b)\n",
       "   core type: ExprTuple\n",
       "   sub-expressions: 12, 5, 6\n",
       "5. 3 * b\n",
       "   core type: Operation\n",
       "   operator: 8\n",
       "   operands: 7\n",
       "6. 2 * b\n",
       "   core type: Operation\n",
       "   operator: 8\n",
       "   operands: 9\n",
       "7. (3 , b)\n",
       "   core type: ExprTuple\n",
       "   sub-expressions: 10, 12\n",
       "8. *\n",
       "   core type: Literal\n",
       "   sub-expressions: \n",
       "9. (2 , b)\n",
       "   core type: ExprTuple\n",
       "   sub-expressions: 11, 12\n",
       "10. 3\n",
       "    core type: Literal\n",
       "    sub-expressions: \n",
       "11. 2\n",
       "    core type: Literal\n",
       "    sub-expressions: \n",
       "12. b\n",
       "    core type: Variable\n",
       "    sub-expressions: "
      ]
     },
     "execution_count": 4,
     "metadata": {},
     "output_type": "execute_result"
    }
   ],
   "source": [
    "# display the expression information\n",
    "expr.exprInfo()"
   ]
  },
  {
   "cell_type": "code",
   "execution_count": null,
   "metadata": {},
   "outputs": [],
   "source": []
  }
 ],
 "metadata": {
  "kernelspec": {
   "display_name": "Python 3",
   "language": "python",
   "name": "python3"
  }
 },
 "nbformat": 4,
 "nbformat_minor": 0
}
