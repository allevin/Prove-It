{
 "cells": [
  {
   "cell_type": "markdown",
   "metadata": {},
   "source": [
    "Expression of type <a class=\"ProveItLink\" href=\"../../../../../../doc/html/api/proveit.number.Add.html\">Add</a>\n",
    "=======================\n",
    "# from context <a class=\"ProveItLink\" href=\"../../_context_.ipynb\">proveit.number.addition</a>"
   ]
  },
  {
   "cell_type": "code",
   "execution_count": 1,
   "metadata": {},
   "outputs": [],
   "source": [
    "# import Expression classes needed to build the expression\n",
    "from proveit._common_ import a, b, c\n",
    "from proveit.number import Add, one, three, two"
   ]
  },
  {
   "cell_type": "code",
   "execution_count": 2,
   "metadata": {},
   "outputs": [
    {
     "data": {
      "text/html": [
       "<strong id=\"expr\">expr:</strong> <a class=\"ProveItLink\" href=\"expr.ipynb\"><img src=\"data:image/png;base64,iVBORw0KGgoAAAANSUhEUgAAAWUAAAAVBAMAAABs/uL9AAAAMFBMVEX////c3NwiIiJERESqqqqY\n",
       "mJh2dnZmZmYQEBDu7u4yMjJUVFTMzMyIiIi6uroAAAAs73DqAAAAAXRSTlMAQObYZgAAAuRJREFU\n",
       "SMfVlz9oE2EUwF9okstdLmdwcajSbrpIOujgIA0uglh6UwcHKQhxMRgsthIFWxFRwXpFkGIGQ6WD\n",
       "V9AIgohIM4ngYBYVsYHDqYhCaKOS0hq/u37avPfdPwsZDIRLfo+875fvXt73AvA/PrSaVyRmCehb\n",
       "2Kwnu+r8xjt0iQK1EjarVCWgdCUIABwi7yMTD8i2qblTWXZ56L2wIgAj9FaUKVgIBHdaBPRCqonJ\n",
       "LtA2AFKoNOQ0Ko5R/mKGX+ud0Rm6JgIjNGMzCJRetAh5DpDB5GwWVgASaOui+BtM8hdD/HqjMzpE\n",
       "nRGYJRm1VhCAFCXXDVi0EBl2nL+AtzMcwDZaObxzTxZnjPdDABCdHxtw2SJedm2MO4XzfjmNY5vk\n",
       "NLaR7Fq5m1/CinKuXhVBvIDXV15+0v2B6MweGYMQhbWBedt9CgbJjdskx7CzwhZRp2EOO7+2lH4R\n",
       "RMs44/0BWPcHbs7qD0Je2b/cafbs02EMxzhZxs4JdqNma3AQQfkW9Ogi0CZxxmEDrvkDN2dlgJIU\n",
       "E/7FrosA+3GMk7fYeYflRDBMNlyB2sAZiwA//YGb85hYLbcNx3kVZPs2SaY5d9M0K1vEcS6a5j7T\n",
       "XODOq3zFLTjgChznjox7QfvuD7gzIhVCdgMM6nCVHTcbEG3Ind/nD6G1kbUjZFv7aq6A1kYTpJY/\n",
       "cNnnoxBBvUFuG7YzK065CcnycRTj5AS2seuW7U0MFwyDughi5De4DolRfyA6qwWI4X62xjpJ2mln\n",
       "83CkgD/PCel1dv96BnAGl28B4lUR0F73FC4GANF5Zy53DpN3oLFO8tluxvWvh3Hv5uQROVNYT5Py\n",
       "dQP3uvH6RxegWHi10gc9AEgX1s5jkmm3VzCJThTZWZVI/8PZPbX9s9vrqHUBgeTvHOQyTMdrZGwe\n",
       "8Z2lEch7jefBIJj4zKL3tj+LyuVuzvy93qEnFERCz/zJdDedI57/rVJVAe0Jm3Wpi8a/AWL7OEsj\n",
       "nV+lAAAAAElFTkSuQmCC\n",
       "\" style=\"display:inline;vertical-align:middle;\" /></a><br>"
      ],
      "text/plain": [
       "expr: (a + a) + (c + c + c) + b + b + 1 + 2 + 3"
      ]
     },
     "execution_count": 2,
     "metadata": {},
     "output_type": "execute_result"
    }
   ],
   "source": [
    "# build up the expression from sub-expressions\n",
    "expr = Add(Add(a, a), Add(c, c, c), b, b, one, two, three)"
   ]
  },
  {
   "cell_type": "code",
   "execution_count": 3,
   "metadata": {},
   "outputs": [
    {
     "name": "stdout",
     "output_type": "stream",
     "text": [
      "Passed sanity check: built 'expr' is the same as the stored Expression.\n"
     ]
    }
   ],
   "source": [
    "# check that the built expression is the same as the stored expression\n",
    "%check_expr"
   ]
  },
  {
   "cell_type": "code",
   "execution_count": 4,
   "metadata": {},
   "outputs": [
    {
     "data": {
      "text/html": [
       "<table><tr><th>&nbsp;</th><th>core type</th><th>sub-expressions</th><th>expression</th></tr>\n",
       "<tr><td>0</td><td>Operation</td><td>operator:&nbsp;9<br>operands:&nbsp;1<br></td><td><a class=\"ProveItLink\" href=\"expr.ipynb\"><img src=\"data:image/png;base64,iVBORw0KGgoAAAANSUhEUgAAAWUAAAAVBAMAAABs/uL9AAAAMFBMVEX////c3NwiIiJERESqqqqY\n",
       "mJh2dnZmZmYQEBDu7u4yMjJUVFTMzMyIiIi6uroAAAAs73DqAAAAAXRSTlMAQObYZgAAAuRJREFU\n",
       "SMfVlz9oE2EUwF9okstdLmdwcajSbrpIOujgIA0uglh6UwcHKQhxMRgsthIFWxFRwXpFkGIGQ6WD\n",
       "V9AIgohIM4ngYBYVsYHDqYhCaKOS0hq/u37avPfdPwsZDIRLfo+875fvXt73AvA/PrSaVyRmCehb\n",
       "2Kwnu+r8xjt0iQK1EjarVCWgdCUIABwi7yMTD8i2qblTWXZ56L2wIgAj9FaUKVgIBHdaBPRCqonJ\n",
       "LtA2AFKoNOQ0Ko5R/mKGX+ud0Rm6JgIjNGMzCJRetAh5DpDB5GwWVgASaOui+BtM8hdD/HqjMzpE\n",
       "nRGYJRm1VhCAFCXXDVi0EBl2nL+AtzMcwDZaObxzTxZnjPdDABCdHxtw2SJedm2MO4XzfjmNY5vk\n",
       "NLaR7Fq5m1/CinKuXhVBvIDXV15+0v2B6MweGYMQhbWBedt9CgbJjdskx7CzwhZRp2EOO7+2lH4R\n",
       "RMs44/0BWPcHbs7qD0Je2b/cafbs02EMxzhZxs4JdqNma3AQQfkW9Ogi0CZxxmEDrvkDN2dlgJIU\n",
       "E/7FrosA+3GMk7fYeYflRDBMNlyB2sAZiwA//YGb85hYLbcNx3kVZPs2SaY5d9M0K1vEcS6a5j7T\n",
       "XODOq3zFLTjgChznjox7QfvuD7gzIhVCdgMM6nCVHTcbEG3Ind/nD6G1kbUjZFv7aq6A1kYTpJY/\n",
       "cNnnoxBBvUFuG7YzK065CcnycRTj5AS2seuW7U0MFwyDughi5De4DolRfyA6qwWI4X62xjpJ2mln\n",
       "83CkgD/PCel1dv96BnAGl28B4lUR0F73FC4GANF5Zy53DpN3oLFO8tluxvWvh3Hv5uQROVNYT5Py\n",
       "dQP3uvH6RxegWHi10gc9AEgX1s5jkmm3VzCJThTZWZVI/8PZPbX9s9vrqHUBgeTvHOQyTMdrZGwe\n",
       "8Z2lEch7jefBIJj4zKL3tj+LyuVuzvy93qEnFERCz/zJdDedI57/rVJVAe0Jm3Wpi8a/AWL7OEsj\n",
       "nV+lAAAAAElFTkSuQmCC\n",
       "\" style=\"display:inline;vertical-align:middle;\" /></a></td></tr>\n",
       "<tr><td>1</td><td>ExprTuple</td><td>2, 3, 4, 4, 5, 6, 7</td><td><a class=\"ProveItLink\" href=\"../b5693d691005590119c204fc3fba396271b56fd80/expr.ipynb\"><img src=\"data:image/png;base64,iVBORw0KGgoAAAANSUhEUgAAAPEAAAAVBAMAAABlMBWuAAAAMFBMVEX////c3NwiIiJERESqqqqY\n",
       "mJh2dnZmZmYQEBDu7u4yMjJUVFTMzMyIiIi6uroAAAAs73DqAAAAAXRSTlMAQObYZgAAAotJREFU\n",
       "SMfFlj+IE0EUxr9ckksml00WGwsF7bRLGuvbzkpuK0s5FGJjNCgauOYURMTisjaSLuFExE1hGvEf\n",
       "RwKCjU0aO+/MWYkgF3PegcIZ58/u7MwuCXcQyBTJx/cy82Pem5kXYHYj15sB9BL7+DS15cib0yEB\n",
       "xB3xHas+7QuVLV2xkOpS9WJ6O8m0w4IseuQTMH4LdRy5A6AJGFqyiTl+R5HQ47CRt0KCvO945LdA\n",
       "QagbFobARSDtqHMT44seDV0IGztOWOCrpx466Ih0L3FyHfiB6ZEvR4Qkv3Sw2vfPNM123MIdVv6N\n",
       "6/f05QMHT8pfdLJvSLI0WpuvQkKS6Sg4yimYr+AZld/N+EAnB052DetaSBo+WRpkF/muJlRydt8T\n",
       "H1tstSbW6Ab3kCpqZMWp93BOI0vDJwe/+IP0siZUcqboK4Myc3fxD1gYYK6nkRWnE65zJ1xnaaSa\n",
       "yFc0oZJvBeeh5iA7YOR8EQ2WnJTrrj9y3Xbg0LErFpUhz8CK65513VZgAHMV7NiaUMiGf8VPAos2\n",
       "I98HTvWwBEfdWODEDkJ7Dgxvz4FBb/GqowmFfB4x/iCQkcPINNu0RA0L7xJddXnhECb3gKSWbWn4\n",
       "2eYGA9BT9QBEFYLMYtkKkia3/tJTbiLZxFVaeztxZl7bmHAa7PV9DVzTyNLwycwgQ3Y6rFSbT5KC\n",
       "k3nsWKl0U1ifkdvnt+obu7xbH7b0lHKn/otVuLypFSIwfDIzSI2mkmzcBp8kBaq15zaPFUajobAS\n",
       "1RX6tmb6SJvjH6rtw79hOTMyaXtCjL2eyeXxzdqe3Md/KjoZnWRPiKE8uUvah2+QRySTJu+c44Zx\n",
       "hNbci0wyJsSwwAoQm8W/Idpi/gPNge+JAXTutQAAAABJRU5ErkJggg==\n",
       "\" style=\"display:inline;vertical-align:middle;\" /></a></td></tr>\n",
       "<tr><td>2</td><td>Operation</td><td>operator:&nbsp;9<br>operands:&nbsp;8<br></td><td><a class=\"ProveItLink\" href=\"../b80ee1f7a9870caeb12beba2eb78d298813e0b720/expr.ipynb\"><img src=\"data:image/png;base64,iVBORw0KGgoAAAANSUhEUgAAAC8AAAAOBAMAAABN+VgMAAAAMFBMVEX///8yMjKqqqrMzMzu7u4i\n",
       "IiJmZmaYmJhEREQQEBC6urp2dnaIiIhUVFTc3NwAAAD87Fq/AAAAAXRSTlMAQObYZgAAAHVJREFU\n",
       "GNNjYEAAlgcM2AHTAeIk+O7smocqARVZ+YDjA6oERITvOwNbA4oEVIT3AwPrARQJqAh/A4O/AZDL\n",
       "JigoOlFQ8AJc5P0BBn0GB2QdUBF/BYaLTAbIElARxgKmMG4UO6AifHdOWZxCdRVChFCQcCFLAABD\n",
       "Siw1qMdh/wAAAABJRU5ErkJggg==\n",
       "\" style=\"display:inline;vertical-align:middle;\" /></a></td></tr>\n",
       "<tr><td>3</td><td>Operation</td><td>operator:&nbsp;9<br>operands:&nbsp;10<br></td><td><a class=\"ProveItLink\" href=\"../794b7170b8a2a7f3a9488eaf29c486ed5d13a4530/expr.ipynb\"><img src=\"data:image/png;base64,iVBORw0KGgoAAAANSUhEUgAAAE4AAAAOBAMAAABz3DdCAAAAMFBMVEX///+qqqpmZmbc3NxUVFSY\n",
       "mJhEREQiIiIyMjK6uroQEBDMzMyIiIh2dnbu7u4AAAA4MM1YAAAAAXRSTlMAQObYZgAAALFJREFU\n",
       "KM9jYICDxwxogM+AARuQQRdgPECOOr67ZzagqIMLwNW9vXOagWHXBI4CFHVwAZg67pUM7Qx8axjY\n",
       "ApDVIQRg6l4dYEhlYPmA5j6EAEydP4jgTwCzNTo6qjo6WhACTB0d7Ss6OhyAzG8gvv0BNPMQAlDz\n",
       "mP+AzQO6BcV9CAGYvV8ZGFgZWBQYeFHCBSEAU+fEwHCbgUH3zDnUcIYLwNQx3TnzgIx4m4MuwImk\n",
       "DgDaMTWEahh+dwAAAABJRU5ErkJggg==\n",
       "\" style=\"display:inline;vertical-align:middle;\" /></a></td></tr>\n",
       "<tr><td>4</td><td>Variable</td><td></td><td><a class=\"ProveItLink\" href=\"../../../../__pv_it/6840a4fa6c106149dc16a131294d0c5e44f1b0480/expr.ipynb\"><img src=\"data:image/png;base64,iVBORw0KGgoAAAANSUhEUgAAAAkAAAAOBAMAAAAPuiubAAAALVBMVEX///9mZmbMzMxERESYmJiI\n",
       "iIh2dna6urqqqqoyMjIiIiIQEBBUVFTu7u4AAAD9S1JeAAAAAXRSTlMAQObYZgAAAE1JREFUCNdj\n",
       "4D29gAEIOA+ASL4GEFl3AURmgQiGOaFHGBh4HzPwKTBwvGXgTmBgnMDAJ8DAJcBQ5wBSLncBJLWN\n",
       "gYGngRFoBO9REQYGAGrcDtUkVqASAAAAAElFTkSuQmCC\n",
       "\" style=\"display:inline;vertical-align:middle;\" /></a></td></tr>\n",
       "<tr><td>5</td><td>Literal</td><td></td><td><a class=\"ProveItLink\" href=\"../../../numeral/__pv_it/9be8badea4c35b9724062cecc501d17a3158d1d20/expr.ipynb\"><img src=\"data:image/png;base64,iVBORw0KGgoAAAANSUhEUgAAAAgAAAAPBAMAAAArJJMAAAAAHlBMVEX///+YmJgyMjIQEBBmZmaI\n",
       "iIhUVFTu7u5EREQAAAAw+MI4AAAAAXRSTlMAQObYZgAAACFJREFUCNdjYGBoZ2BgqJjOwFCWBiQY\n",
       "WEklWJwnOTKAAACjEQo8HvEr3AAAAABJRU5ErkJggg==\n",
       "\" style=\"display:inline;vertical-align:middle;\" /></a></td></tr>\n",
       "<tr><td>6</td><td>Literal</td><td></td><td><a class=\"ProveItLink\" href=\"../../../numeral/__pv_it/77d407a64829263cdc16415becd4c2293f77a4bf0/expr.ipynb\"><img src=\"data:image/png;base64,iVBORw0KGgoAAAANSUhEUgAAAAkAAAAOBAMAAAAPuiubAAAAMFBMVEX///+YmJh2dnbMzMwQEBAi\n",
       "IiLu7u6qqqqIiIhUVFS6urpEREQyMjJmZmbc3NwAAACOMKdoAAAAAXRSTlMAQObYZgAAAFBJREFU\n",
       "CNdj4Lt7egEDw0sGju8MDNMYGOIZGFwSGOYvYDifwHAfKAEUSQASzJ9ATJ4NIPI2iOCYACJrGfge\n",
       "MDBfYGB8wPBUSekqUPH//18ZAIliFhc3zESNAAAAAElFTkSuQmCC\n",
       "\" style=\"display:inline;vertical-align:middle;\" /></a></td></tr>\n",
       "<tr><td>7</td><td>Literal</td><td></td><td><a class=\"ProveItLink\" href=\"../../../numeral/__pv_it/9176d93c83afa2c995b614976e3cb49207102fa70/expr.ipynb\"><img src=\"data:image/png;base64,iVBORw0KGgoAAAANSUhEUgAAAAoAAAAOBAMAAADkjZCYAAAAMFBMVEX///+YmJju7u4QEBBUVFQy\n",
       "MjIiIiKIiIi6urpmZmbc3NyqqqpERER2dnbMzMwAAAB0GlNiAAAAAXRSTlMAQObYZgAAAE1JREFU\n",
       "CNdjYHh79zQDA9cEhv4CBt7fDPwJDNxgEgiAIkAQAsR8Vx1ATIbiBhDJ/ImB6wEDz0cG/U8gkj+A\n",
       "ge0XA7sAQ/8FBoadM6MZAEflFACalZ/OAAAAAElFTkSuQmCC\n",
       "\" style=\"display:inline;vertical-align:middle;\" /></a></td></tr>\n",
       "<tr><td>8</td><td>ExprTuple</td><td>11, 11</td><td><a class=\"ProveItLink\" href=\"../8d3c5434f530489588a15a4b183ce46d1affa7650/expr.ipynb\"><img src=\"data:image/png;base64,iVBORw0KGgoAAAANSUhEUgAAACsAAAAVBAMAAAAtAwouAAAAMFBMVEX////c3NwiIiJERESqqqqY\n",
       "mJh2dnZmZmYQEBDu7u4yMjJUVFTMzMyIiIi6uroAAAAs73DqAAAAAXRSTlMAQObYZgAAANtJREFU\n",
       "GNN1kL0OAUEURg/W/2+voNNq9N6ASik6FVGpSdSi1O02Cq8gkWyi1OwDiKAS1Sq0YsbsbMQwxcy5\n",
       "Jzc331z4cwret+nKa280Jl1xrc0BDuQ9U3cgtTD1Em4/UsSajMUT2Q6nSihKjFiJ4lqK+Uorshzm\n",
       "ouVBsq6aFRUmPCHrE1V5Asr5Uhfr2O5bByT0DCoeLd45AxJDGmA32VhuGk3EHfqQaVu1BHZVkwx4\n",
       "kWGPuyPLuyYyJ1Il/bfz5+fjPV20Qz34XGyo02KxlIMiHzZn5dyIsfADvABGHTxeG7dbswAAAABJ\n",
       "RU5ErkJggg==\n",
       "\" style=\"display:inline;vertical-align:middle;\" /></a></td></tr>\n",
       "<tr><td>9</td><td>Literal</td><td></td><td><a class=\"ProveItLink\" href=\"../3e6688136fa3c7aefbebe51301b7c3ebf0b69c440/expr.ipynb\"><img src=\"data:image/png;base64,iVBORw0KGgoAAAANSUhEUgAAAA4AAAAOBAMAAADtZjDiAAAAJFBMVEX///+6urpUVFQQEBAiIiIy\n",
       "MjJmZmaIiIiqqqrc3Nzu7u4AAACgHpL+AAAAAXRSTlMAQObYZgAAAB5JREFUCNdjYGBgWMkAAe2k\n",
       "0Kmhoc6hoUGk6BMHYgAHOwjcado9fwAAAABJRU5ErkJggg==\n",
       "\" style=\"display:inline;vertical-align:middle;\" /></a></td></tr>\n",
       "<tr><td>10</td><td>ExprTuple</td><td>12, 12, 12</td><td><a class=\"ProveItLink\" href=\"../86a607d788a57bb994e75964e5003873eaa726b10/expr.ipynb\"><img src=\"data:image/png;base64,iVBORw0KGgoAAAANSUhEUgAAADkAAAAVBAMAAAAOWFv7AAAAMFBMVEX////c3NwiIiJERESqqqqY\n",
       "mJh2dnZmZmYQEBDu7u4yMjJUVFTMzMyIiIi6uroAAAAs73DqAAAAAXRSTlMAQObYZgAAANZJREFU\n",
       "KM9jYMAP+C7gkIgDEadxaWM/ACRW4jR1AQMD7wWcsmEMDBwTcMrOYGB4hdu9zA4MZUCKM+3uATAf\n",
       "lcFWwLAUyD7xgEsBLIjKYFnA0AdU2MvAHADWgcrga2D4x8DA/QFqERqD5wNIlt8AKojGAMq2MDDI\n",
       "w7yMxgCabApUCbQrgJMBncHAuoAhHWhLAQPbgfkK6AyQjx4BlZbdvckw4yM6g4HrAQOHANSuhwzo\n",
       "DGBIsiZA2QEM6IxcpBjEkOUExiCDNITNC5OEM7hBdjLiiuA7DAwAx3NBG0TfR+4AAAAASUVORK5C\n",
       "YII=\n",
       "\" style=\"display:inline;vertical-align:middle;\" /></a></td></tr>\n",
       "<tr><td>11</td><td>Variable</td><td></td><td><a class=\"ProveItLink\" href=\"../../../../__pv_it/07527342713064c87612d00d8557c53d53d5324a0/expr.ipynb\"><img src=\"data:image/png;base64,iVBORw0KGgoAAAANSUhEUgAAAAsAAAAJBAMAAAAWSsseAAAAMFBMVEX///8yMjKqqqrMzMzu7u4i\n",
       "IiJmZmaYmJhEREQQEBC6urp2dnaIiIhUVFTc3NwAAAD87Fq/AAAAAXRSTlMAQObYZgAAAEhJREFU\n",
       "CNdjYOC7s2seAwPDygccHxgY+L4zsDUwMPB+YGA9wMDA38Dgb8DA8P4Agz6DA4O/AsNFJgMGxgKm\n",
       "MG6gyjunLE4xAAAZTBA5TB6DCwAAAABJRU5ErkJggg==\n",
       "\" style=\"display:inline;vertical-align:middle;\" /></a></td></tr>\n",
       "<tr><td>12</td><td>Variable</td><td></td><td><a class=\"ProveItLink\" href=\"../../../../__pv_it/cbdfda466482236edba0ce44ac7ef39cda0af7a40/expr.ipynb\"><img src=\"data:image/png;base64,iVBORw0KGgoAAAANSUhEUgAAAAkAAAAJBAMAAAASvxsjAAAALVBMVEX///9mZmbc3NxUVFSYmJhE\n",
       "REQiIiIyMjK6uroQEBDMzMyIiIh2dnbu7u4AAABgFDGoAAAAAXRSTlMAQObYZgAAADZJREFUCNdj\n",
       "YOA9s3sBA8PKBvYEBt7ZDKwODMwPGICALwBE6m0Asx0YGIDiAgw8QJUyu/cyAAAmuwmycZ8WfQAA\n",
       "AABJRU5ErkJggg==\n",
       "\" style=\"display:inline;vertical-align:middle;\" /></a></td></tr>\n",
       "</table>\n"
      ],
      "text/plain": [
       "0. (a + a) + (c + c + c) + b + b + 1 + 2 + 3\n",
       "   core type: Operation\n",
       "   operator: 9\n",
       "   operands: 1\n",
       "1. (a + a , c + c + c , b , b , 1 , 2 , 3)\n",
       "   core type: ExprTuple\n",
       "   sub-expressions: 2, 3, 4, 4, 5, 6, 7\n",
       "2. a + a\n",
       "   core type: Operation\n",
       "   operator: 9\n",
       "   operands: 8\n",
       "3. c + c + c\n",
       "   core type: Operation\n",
       "   operator: 9\n",
       "   operands: 10\n",
       "4. b\n",
       "   core type: Variable\n",
       "   sub-expressions: \n",
       "5. 1\n",
       "   core type: Literal\n",
       "   sub-expressions: \n",
       "6. 2\n",
       "   core type: Literal\n",
       "   sub-expressions: \n",
       "7. 3\n",
       "   core type: Literal\n",
       "   sub-expressions: \n",
       "8. (a , a)\n",
       "   core type: ExprTuple\n",
       "   sub-expressions: 11, 11\n",
       "9. +\n",
       "   core type: Literal\n",
       "   sub-expressions: \n",
       "10. (c , c , c)\n",
       "    core type: ExprTuple\n",
       "    sub-expressions: 12, 12, 12\n",
       "11. a\n",
       "    core type: Variable\n",
       "    sub-expressions: \n",
       "12. c\n",
       "    core type: Variable\n",
       "    sub-expressions: "
      ]
     },
     "execution_count": 4,
     "metadata": {},
     "output_type": "execute_result"
    }
   ],
   "source": [
    "# display the expression information\n",
    "expr.exprInfo()"
   ]
  },
  {
   "cell_type": "code",
   "execution_count": null,
   "metadata": {},
   "outputs": [],
   "source": []
  }
 ],
 "metadata": {
  "kernelspec": {
   "display_name": "Python 3",
   "language": "python",
   "name": "python3"
  }
 },
 "nbformat": 4,
 "nbformat_minor": 0
}
