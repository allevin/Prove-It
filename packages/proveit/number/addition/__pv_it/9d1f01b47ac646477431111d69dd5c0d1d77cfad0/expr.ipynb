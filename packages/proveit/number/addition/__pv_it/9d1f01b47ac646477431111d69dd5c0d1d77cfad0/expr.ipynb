{
 "cells": [
  {
   "cell_type": "markdown",
   "metadata": {},
   "source": [
    "Expression of type <a class=\"ProveItLink\" href=\"../../../../../../doc/html/api/proveit.ExprTuple.html\">ExprTuple</a>\n",
    "=======================\n",
    "# from context <a class=\"ProveItLink\" href=\"../../_context_.ipynb\">proveit.number.addition</a>"
   ]
  },
  {
   "cell_type": "code",
   "execution_count": 1,
   "metadata": {},
   "outputs": [],
   "source": [
    "# import Expression classes needed to build the expression\n",
    "from proveit import ExprTuple\n",
    "from proveit.number import RealsNeg, two"
   ]
  },
  {
   "cell_type": "code",
   "execution_count": 2,
   "metadata": {},
   "outputs": [
    {
     "data": {
      "text/html": [
       "<strong id=\"expr\">expr:</strong> <a class=\"ProveItLink\" href=\"expr.ipynb\"><img src=\"data:image/png;base64,iVBORw0KGgoAAAANSUhEUgAAAD4AAAAaBAMAAAAd0vJXAAAAMFBMVEX///+qqqp2dnYiIiJERESI\n",
       "iIhmZmYQEBDc3NyYmJgyMjLu7u5UVFTMzMy6uroAAACGxKilAAAAAXRSTlMAQObYZgAAAVFJREFU\n",
       "KM9jYGB4x4ALKIAI3gM45e+AiF0bcMqzBgCJkwy4gQUDA0cBw6wv/quqAlBlONKWPGBgiGFgYEtg\n",
       "YHDoYbgi1cAg4gIEUNt6GFg/MjDs38DADlTm0MbAssMBRf9pBgZ7BgbmCQz3GcDyTBdQ5cs3MJx/\n",
       "wMDmwBCOXX79Bob8BwycHxhOQeR50MwHAvsNDHy/GXwg8o9nNaBJ834C4r8My0Dy7cZWAujauYAG\n",
       "cvxjMAPrf8aCEYopQMz9ESrP9hY9FlhBAkD9ayD2r45Ekxdj4Ghg4PjLcAQif4fnAkyGG+y6BAbO\n",
       "Bga+HwzBUP8LeMDk9xsAiWYlpWQGkP/fM4Dix5dhyXqYD7b/AHn+///PDAxMCxj4L2DE6guEHwMY\n",
       "eBQw5CfAWfsbGHgN8MhPAWJHjFSFYNoCcRfu5MUJTDsMjAo45VvA5ESc8tkMBAEApntYqevCi0AA\n",
       "AAAASUVORK5CYII=\n",
       "\" style=\"display:inline;vertical-align:middle;\" /></a><br>"
      ],
      "text/plain": [
       "expr: (RealsNeg , 2)"
      ]
     },
     "execution_count": 2,
     "metadata": {},
     "output_type": "execute_result"
    }
   ],
   "source": [
    "# build up the expression from sub-expressions\n",
    "expr = ExprTuple(RealsNeg, two)"
   ]
  },
  {
   "cell_type": "code",
   "execution_count": 3,
   "metadata": {},
   "outputs": [
    {
     "name": "stdout",
     "output_type": "stream",
     "text": [
      "Passed sanity check: built 'expr' is the same as the stored Expression.\n"
     ]
    }
   ],
   "source": [
    "# check that the built expression is the same as the stored expression\n",
    "%check_expr"
   ]
  },
  {
   "cell_type": "code",
   "execution_count": 4,
   "metadata": {},
   "outputs": [
    {
     "data": {
      "text/html": [
       "<table><tr><th>&nbsp;</th><th>core type</th><th>sub-expressions</th><th>expression</th></tr>\n",
       "<tr><td>0</td><td>ExprTuple</td><td>1, 2</td><td><a class=\"ProveItLink\" href=\"expr.ipynb\"><img src=\"data:image/png;base64,iVBORw0KGgoAAAANSUhEUgAAAD4AAAAaBAMAAAAd0vJXAAAAMFBMVEX///+qqqp2dnYiIiJERESI\n",
       "iIhmZmYQEBDc3NyYmJgyMjLu7u5UVFTMzMy6uroAAACGxKilAAAAAXRSTlMAQObYZgAAAVFJREFU\n",
       "KM9jYGB4x4ALKIAI3gM45e+AiF0bcMqzBgCJkwy4gQUDA0cBw6wv/quqAlBlONKWPGBgiGFgYEtg\n",
       "YHDoYbgi1cAg4gIEUNt6GFg/MjDs38DADlTm0MbAssMBRf9pBgZ7BgbmCQz3GcDyTBdQ5cs3MJx/\n",
       "wMDmwBCOXX79Bob8BwycHxhOQeR50MwHAvsNDHy/GXwg8o9nNaBJ834C4r8My0Dy7cZWAujauYAG\n",
       "cvxjMAPrf8aCEYopQMz9ESrP9hY9FlhBAkD9ayD2r45Ekxdj4Ghg4PjLcAQif4fnAkyGG+y6BAbO\n",
       "Bga+HwzBUP8LeMDk9xsAiWYlpWQGkP/fM4Dix5dhyXqYD7b/AHn+///PDAxMCxj4L2DE6guEHwMY\n",
       "eBQw5CfAWfsbGHgN8MhPAWJHjFSFYNoCcRfu5MUJTDsMjAo45VvA5ESc8tkMBAEApntYqevCi0AA\n",
       "AAAASUVORK5CYII=\n",
       "\" style=\"display:inline;vertical-align:middle;\" /></a></td></tr>\n",
       "<tr><td>1</td><td>Literal</td><td></td><td><a class=\"ProveItLink\" href=\"../../../sets/real/__pv_it/ae6abf015b290ff2a5b5ccb58f19177a82c6074b0/expr.ipynb\"><img src=\"data:image/png;base64,iVBORw0KGgoAAAANSUhEUgAAABsAAAAOBAMAAAAs4XpOAAAAMFBMVEX///8iIiK6urp2dnbu7u5m\n",
       "ZmaqqqrMzMxUVFTc3NyIiIgQEBBEREQyMjKYmJgAAAA9nvXMAAAAAXRSTlMAQObYZgAAAF1JREFU\n",
       "CNdjePvn/N29Cxjg4MAMhprcCQw5Z4DAAcidysDjeQAhO5WBuQAflwNVseLbCQjubEHZBCSLpqry\n",
       "OCBzWdUbkLkMV9ahcCs4ClDsTTgJ4wG9cJzhzn2o2QB/7ytaZzHgkAAAAABJRU5ErkJggg==\n",
       "\" style=\"display:inline;vertical-align:middle;\" /></a></td></tr>\n",
       "<tr><td>2</td><td>Literal</td><td></td><td><a class=\"ProveItLink\" href=\"../../../numeral/__pv_it/77d407a64829263cdc16415becd4c2293f77a4bf0/expr.ipynb\"><img src=\"data:image/png;base64,iVBORw0KGgoAAAANSUhEUgAAAAkAAAAOBAMAAAAPuiubAAAAMFBMVEX///+YmJh2dnbMzMwQEBAi\n",
       "IiLu7u6qqqqIiIhUVFS6urpEREQyMjJmZmbc3NwAAACOMKdoAAAAAXRSTlMAQObYZgAAAFBJREFU\n",
       "CNdj4Lt7egEDw0sGju8MDNMYGOIZGFwSGOYvYDifwHAfKAEUSQASzJ9ATJ4NIPI2iOCYACJrGfge\n",
       "MDBfYGB8wPBUSekqUPH//18ZAIliFhc3zESNAAAAAElFTkSuQmCC\n",
       "\" style=\"display:inline;vertical-align:middle;\" /></a></td></tr>\n",
       "</table>\n"
      ],
      "text/plain": [
       "0. (RealsNeg , 2)\n",
       "   core type: ExprTuple\n",
       "   sub-expressions: 1, 2\n",
       "1. RealsNeg\n",
       "   core type: Literal\n",
       "   sub-expressions: \n",
       "2. 2\n",
       "   core type: Literal\n",
       "   sub-expressions: "
      ]
     },
     "execution_count": 4,
     "metadata": {},
     "output_type": "execute_result"
    }
   ],
   "source": [
    "# display the expression information\n",
    "expr.exprInfo()"
   ]
  },
  {
   "cell_type": "code",
   "execution_count": null,
   "metadata": {},
   "outputs": [],
   "source": []
  }
 ],
 "metadata": {
  "kernelspec": {
   "display_name": "Python 3",
   "language": "python",
   "name": "python3"
  }
 },
 "nbformat": 4,
 "nbformat_minor": 0
}
