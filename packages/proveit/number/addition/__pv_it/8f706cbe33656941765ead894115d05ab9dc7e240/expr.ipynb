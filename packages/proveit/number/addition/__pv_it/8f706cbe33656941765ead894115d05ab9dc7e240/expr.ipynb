{
 "cells": [
  {
   "cell_type": "markdown",
   "metadata": {},
   "source": [
    "Expression of type <a class=\"ProveItLink\" href=\"../../../../../../doc/html/api/proveit.Lambda.html\">Lambda</a>\n",
    "=======================\n",
    "# from context <a class=\"ProveItLink\" href=\"../../_context_.ipynb\">proveit.number.addition</a>"
   ]
  },
  {
   "cell_type": "code",
   "execution_count": 1,
   "metadata": {},
   "outputs": [],
   "source": [
    "# import Expression classes needed to build the expression\n",
    "from proveit import Lambda\n",
    "from proveit._common_ import a\n",
    "from proveit.logic import Equals, InSet\n",
    "from proveit.number import Add, Complexes, zero"
   ]
  },
  {
   "cell_type": "code",
   "execution_count": 2,
   "metadata": {},
   "outputs": [
    {
     "data": {
      "text/html": [
       "<strong id=\"expr\">expr:</strong> <a class=\"ProveItLink\" href=\"expr.ipynb\"><img src=\"data:image/png;base64,iVBORw0KGgoAAAANSUhEUgAAAOsAAAAVCAMAAACQTOmOAAAANlBMVEX///8UFBQNDQ0yMjKqqqrM\n",
       "zMzu7u4iIiJmZmaYmJhEREQQEBC6urp2dnaIiIhUVFTc3NwAAACAukRkAAAAAXRSTlMAQObYZgAA\n",
       "AmNJREFUWMPVV9mS7CAIdcZ9Rf//ZycxnUTULHZuper60HR3AYeDKEjI/7RYfBXOBSwHlnZP1b17\n",
       "kyoHLG8soUJQfP62fN5erfo3XIOkNFlp1LAlFVjeWHIKUMgcNx0Ee86VuzTD+xRgOEkBy+4+xiqv\n",
       "+TPHrf1YFfunXDUBvZz0NMzVCiy7FwjOg8wgLs0ZEHYIrVG/4ioCldPa6kELsrpQo1wdxfIO15QP\n",
       "Ck9sFoYN4dXqF1w51XgPFImwpSGLCME7G/unhJVwymNZm3a4xuQXrvlff31DlC5rdcy1Bo9G1Lci\n",
       "cfgYZHWT9qLDBlA4oBrL2vSMaxZsT6SixYJ+NIyecG3ATd19uSdM42Dmn8occRWwu7AOycb0kqu7\n",
       "OrDYZa1ecm3AhSEtV4e4Qs6M3AP8/ZFo2bQhrN8+sjG9rGGeLrhil7V6ybUBd3aNmO7sOarhNKdD\n",
       "JH60rwR2gIprbbqUpbSoLNe7Sd/iil2ecW3i7ow30xQAKO8ht5/Jrs9VFafAslK2psc9h+WeUxal\n",
       "KmvH9KM5qeEWXMheg964ijkzc9xACeNdrryM3OhStqY9rsss4Rev+mJyqlzq47upAw66bVp6m9+l\n",
       "WO5UJhXZChuHirZs7QEf2Zj2uBLJ5qmAk1s9B7s86zktuJBt+wUwQRDhTO5HU5cKjptwZ/xyEsm+\n",
       "ac1VKB/gk3x6hYJd1uroHm7BI22fC1zJlCx88WhYO7eNt+em06HvH8+IhAEtZ8RHa53Gz4b4k5et\n",
       "H3v0Nurvvl+/eNMV+0Qfqr/LdZ2lI3xhDPGh+rtcSQxYjjx++VP18IjrH7OpHPoZpCV0AAAAAElF\n",
       "TkSuQmCC\n",
       "\" style=\"display:inline;vertical-align:middle;\" /></a><br>"
      ],
      "text/plain": [
       "expr: a -> ((a + 0) = a) | a in Complexes"
      ]
     },
     "execution_count": 2,
     "metadata": {},
     "output_type": "execute_result"
    }
   ],
   "source": [
    "# build up the expression from sub-expressions\n",
    "expr = Lambda(a, Equals(Add(a, zero), a), conditions = [InSet(a, Complexes)])"
   ]
  },
  {
   "cell_type": "code",
   "execution_count": 3,
   "metadata": {},
   "outputs": [
    {
     "name": "stdout",
     "output_type": "stream",
     "text": [
      "Passed sanity check: built 'expr' is the same as the stored Expression.\n"
     ]
    }
   ],
   "source": [
    "# check that the built expression is the same as the stored expression\n",
    "%check_expr"
   ]
  },
  {
   "cell_type": "code",
   "execution_count": 4,
   "metadata": {},
   "outputs": [
    {
     "data": {
      "text/html": [
       "<table><tr><th>&nbsp;</th><th>core type</th><th>sub-expressions</th><th>expression</th></tr>\n",
       "<tr><td>0</td><td>Lambda</td><td>parameter:&nbsp;12<br>body:&nbsp;1<br>conditions:&nbsp;2<br></td><td><a class=\"ProveItLink\" href=\"expr.ipynb\"><img src=\"data:image/png;base64,iVBORw0KGgoAAAANSUhEUgAAAOsAAAAVCAMAAACQTOmOAAAANlBMVEX///8UFBQNDQ0yMjKqqqrM\n",
       "zMzu7u4iIiJmZmaYmJhEREQQEBC6urp2dnaIiIhUVFTc3NwAAACAukRkAAAAAXRSTlMAQObYZgAA\n",
       "AmNJREFUWMPVV9mS7CAIdcZ9Rf//ZycxnUTULHZuper60HR3AYeDKEjI/7RYfBXOBSwHlnZP1b17\n",
       "kyoHLG8soUJQfP62fN5erfo3XIOkNFlp1LAlFVjeWHIKUMgcNx0Ee86VuzTD+xRgOEkBy+4+xiqv\n",
       "+TPHrf1YFfunXDUBvZz0NMzVCiy7FwjOg8wgLs0ZEHYIrVG/4ioCldPa6kELsrpQo1wdxfIO15QP\n",
       "Ck9sFoYN4dXqF1w51XgPFImwpSGLCME7G/unhJVwymNZm3a4xuQXrvlff31DlC5rdcy1Bo9G1Lci\n",
       "cfgYZHWT9qLDBlA4oBrL2vSMaxZsT6SixYJ+NIyecG3ATd19uSdM42Dmn8occRWwu7AOycb0kqu7\n",
       "OrDYZa1ecm3AhSEtV4e4Qs6M3AP8/ZFo2bQhrN8+sjG9rGGeLrhil7V6ybUBd3aNmO7sOarhNKdD\n",
       "JH60rwR2gIprbbqUpbSoLNe7Sd/iil2ecW3i7ow30xQAKO8ht5/Jrs9VFafAslK2psc9h+WeUxal\n",
       "KmvH9KM5qeEWXMheg964ijkzc9xACeNdrryM3OhStqY9rsss4Rev+mJyqlzq47upAw66bVp6m9+l\n",
       "WO5UJhXZChuHirZs7QEf2Zj2uBLJ5qmAk1s9B7s86zktuJBt+wUwQRDhTO5HU5cKjptwZ/xyEsm+\n",
       "ac1VKB/gk3x6hYJd1uroHm7BI22fC1zJlCx88WhYO7eNt+em06HvH8+IhAEtZ8RHa53Gz4b4k5et\n",
       "H3v0Nurvvl+/eNMV+0Qfqr/LdZ2lI3xhDPGh+rtcSQxYjjx++VP18IjrH7OpHPoZpCV0AAAAAElF\n",
       "TkSuQmCC\n",
       "\" style=\"display:inline;vertical-align:middle;\" /></a></td></tr>\n",
       "<tr><td>1</td><td>Operation</td><td>operator:&nbsp;3<br>operands:&nbsp;4<br></td><td><a class=\"ProveItLink\" href=\"../d49a8db5183c2ab0378ba4b600bcb86676ac94b10/expr.ipynb\"><img src=\"data:image/png;base64,iVBORw0KGgoAAAANSUhEUgAAAGMAAAAVBAMAAACgbk16AAAAMFBMVEX////c3NwiIiJERESqqqqY\n",
       "mJh2dnZmZmYQEBDu7u4yMjJUVFTMzMyIiIi6uroAAAAs73DqAAAAAXRSTlMAQObYZgAAAT1JREFU\n",
       "OMtjYCAD8F3AIcH6AJeW09gEp9+tYWCowaVlJTZBPYZJBxi4cOjgRXEXpwBEUIGBdwEDawJ2LRwT\n",
       "kHksEAOYNjDwfWTgbMCu5RUDFi38BQw8XxgYTLBrKQNixr15jSha5BMYeP4yMKSjK4YoXApkvRBg\n",
       "/oCh5RsDgxeYU7UKBFYzwBX2AfV+ZWA3wKblBbolEIX/GBi4PzAwXcDmsPNoWqAKgVr4DRjmHwCK\n",
       "sK9atahr1aoNEO9/xdQCVdgCNPMCgz/DBLRAZvkIc1iREggoM8AVmjIwzHdg2MVyAFkLMCrZFBgY\n",
       "otBsgSoEBiRXAIs6G4pfGFQYZhzADGSowkeg0L53+B6qlum5e4DkOoxoASvkEMAS+9AEhyPBoKY9\n",
       "lMzDdoGUxA8Gs3BJSOPUshGXBCMu63kPYBcHAB2jYNmH5F0dAAAAAElFTkSuQmCC\n",
       "\" style=\"display:inline;vertical-align:middle;\" /></a></td></tr>\n",
       "<tr><td>2</td><td>ExprTuple</td><td>5</td><td><a class=\"ProveItLink\" href=\"../afead37f272fc9265378b5f88330236b423dfc0e0/expr.ipynb\"><img src=\"data:image/png;base64,iVBORw0KGgoAAAANSUhEUgAAAD8AAAAVBAMAAAADRiu8AAAAMFBMVEX////c3NwiIiJERESqqqqY\n",
       "mJh2dnZmZmYQEBDu7u4yMjJUVFTMzMyIiIi6uroAAAAs73DqAAAAAXRSTlMAQObYZgAAAUJJREFU\n",
       "KM9jYCAI+C7glosDEaexSvFqrW8yZ2A/AGSuxCbP8/4BZ/5tBoYFQKVYbQjYysDA8puBIYyBgWMC\n",
       "kjjnLSUloCYG1gkNQLKagWEGA8MrZI2nIiE0O+MGIDmXgYHZgaEMyGLcm9cIEme0hCqczpcAYbAV\n",
       "MCwFUi8EmD+AuMwCUAXHWAIgDJYFDH1AjV8Z2A1A3Mkwq47xQRXwNTD8Y2Dg/sDABPbLCyUliCMn\n",
       "80Ct4PkAUsBvwDD/AEqYcU3YAFfQwsAgf4HBnwHk20kwBawJIAWcYCtMGRjmOzDsYgEZwR0AU2H6\n",
       "Fkg8msDAuoAhHWhgAIs6Gzic9GAKuDff5HxsCfbmI1Aw3Dt8DywuVQNTcVz/xz6QYx4wcAggB6X3\n",
       "IrAv4GAGyD34EksuruiGRR7IOGk8CrhB9jPiSXJ3GBgAGSxKxqwipJkAAAAASUVORK5CYII=\n",
       "\" style=\"display:inline;vertical-align:middle;\" /></a></td></tr>\n",
       "<tr><td>3</td><td>Literal</td><td></td><td><a class=\"ProveItLink\" href=\"../../../../logic/equality/__pv_it/2fb26078095930560931daa0500ce419a39ea6cd0/expr.ipynb\"><img src=\"data:image/png;base64,iVBORw0KGgoAAAANSUhEUgAAAA4AAAAFBAMAAACHocAhAAAAFVBMVEX///9EREQiIiJUVFQyMjJm\n",
       "ZmYAAADubVkoAAAAAXRSTlMAQObYZgAAABRJREFUCNdjCHEBAWcGXCBICQQUAUpuAwlgGKrkAAAA\n",
       "AElFTkSuQmCC\n",
       "\" style=\"display:inline;vertical-align:middle;\" /></a></td></tr>\n",
       "<tr><td>4</td><td>ExprTuple</td><td>6, 12</td><td><a class=\"ProveItLink\" href=\"../ca5d18785499e2f56e1ae17c00902288d330a2fb0/expr.ipynb\"><img src=\"data:image/png;base64,iVBORw0KGgoAAAANSUhEUgAAAE8AAAAVBAMAAAD1D64kAAAAMFBMVEX////c3NwiIiJERESqqqqY\n",
       "mJh2dnZmZmYQEBDu7u4yMjJUVFTMzMyIiIi6uroAAAAs73DqAAAAAXRSTlMAQObYZgAAAThJREFU\n",
       "KM9jYCAa8F0grCYORJzGJsNZe/0AEpcdxFmJTSHTA04dZP4CBgZeFJs5BSD0JQaGW8jiYQwMHBOQ\n",
       "BVig2rQZGN4LIInPYGB4xYBN4XcGhvMOSOLMDgxlQIpxb14jikLGb0CFUCZYjq2AYSmQ80KA+QOm\n",
       "wgQwEyLHsoChDyj8lYHdAIdCqBxfA8M/BgbuDwxMF3BYDZXj+QBSyG/AMB8UouyrVi3qWrVqA9Qz\n",
       "ASCFUDmgwhYGBvkLDP4ME9CDxx8cPFA5oNWmDAzzHRh2sRxAUQgM8CQGTga4HOsChnQGBq4AFnU2\n",
       "1HBkcuDsYZivAJcDBs8jUFDdO3wPVSFn2e0DDDM+wuW4HjBwCGCLGQh4iByFrAm4E2cAnJWLK5mh\n",
       "KeQEJjMGaZzqeOEsbpD7GInICncYGAAGa2NJafEWNwAAAABJRU5ErkJggg==\n",
       "\" style=\"display:inline;vertical-align:middle;\" /></a></td></tr>\n",
       "<tr><td>5</td><td>Operation</td><td>operator:&nbsp;7<br>operands:&nbsp;8<br></td><td><a class=\"ProveItLink\" href=\"../cd457d59bfd8582be7220a7500a0989802bcb0120/expr.ipynb\"><img src=\"data:image/png;base64,iVBORw0KGgoAAAANSUhEUgAAADMAAAAPBAMAAAC7N+rPAAAAMFBMVEX///8yMjKqqqrMzMzu7u4i\n",
       "IiJmZmaYmJhEREQQEBC6urp2dnaIiIhUVFTc3NwAAAD87Fq/AAAAAXRSTlMAQObYZgAAANRJREFU\n",
       "GNNjYMACeALlp7Zhk2BgXr+AZf9ZrFIF1xkYmP4ii7AcDA0VANLsDhOAZC6ylGEJhGbjuwAkfYCY\n",
       "786ueSARvhaoEjeuDVDWygccH0A0xwOogDVTAYTB952BrQHE8IAZbM0FleL9wMB6AKw7NBTiDA9m\n",
       "qIH8DQz+BiCGLUwXo8MFCOP9AQZ9BgcgwxUmxb4BJMXCwOCvwHCRCaSNtwAm174GSCx1YGAsYArj\n",
       "Bvs4CibFe+MIy4oWkLdOWZwCizxMhsmZxf+8hRp2uqJgF8IAAH82L/mC9qalAAAAAElFTkSuQmCC\n",
       "\" style=\"display:inline;vertical-align:middle;\" /></a></td></tr>\n",
       "<tr><td>6</td><td>Operation</td><td>operator:&nbsp;9<br>operands:&nbsp;10<br></td><td><a class=\"ProveItLink\" href=\"../0cd10e50d05b8249f7c7002571c32b82d086d6c00/expr.ipynb\"><img src=\"data:image/png;base64,iVBORw0KGgoAAAANSUhEUgAAAC8AAAAQBAMAAAB0JTvnAAAAMFBMVEX///8yMjKqqqrMzMzu7u4i\n",
       "IiJmZmaYmJhEREQQEBC6urp2dnaIiIhUVFTc3NwAAAD87Fq/AAAAAXRSTlMAQObYZgAAAKFJREFU\n",
       "GNNjYMAELDnHDBiwAdYFLMGoKh9A6KMMDAdRJJgOQOhYBob1D7BJfGNgsFdgYOC7s2seigTfb6AE\n",
       "kLnyAccHTIkNDHzfGdgasEnwfmBgPYDNKP4GBn+Qd9gEBUUnCgpegFpewPD+AIM+gwO6c/UfMPgr\n",
       "MFxkMkCRAHpwKwMDYwFTGDeqP1gVWCaDvHHK4hSqBEv2WQOsQYIBuJAlAN9TMdkBSGseAAAAAElF\n",
       "TkSuQmCC\n",
       "\" style=\"display:inline;vertical-align:middle;\" /></a></td></tr>\n",
       "<tr><td>7</td><td>Literal</td><td></td><td><a class=\"ProveItLink\" href=\"../../../../logic/set_theory/membership/__pv_it/088cbc857536a28d4119ad9639a84270ccb0545d0/expr.ipynb\"><img src=\"data:image/png;base64,iVBORw0KGgoAAAANSUhEUgAAAAwAAAAMBAMAAACkW0HUAAAALVBMVEX///+qqqpmZmZUVFQQEBC6\n",
       "urpERETc3NyYmJjMzMwiIiIyMjKIiIju7u4AAACYsrA9AAAAAXRSTlMAQObYZgAAADxJREFUCNdj\n",
       "YOA9vWrVBgaG2b0MQMCeCyIZ2ArA1DUwyRCyahVIyWQI7xaEYm4AU7xLIdxqTQgtvGvVBgCkcQ7e\n",
       "geM/tQAAAABJRU5ErkJggg==\n",
       "\" style=\"display:inline;vertical-align:middle;\" /></a></td></tr>\n",
       "<tr><td>8</td><td>ExprTuple</td><td>12, 11</td><td><a class=\"ProveItLink\" href=\"../4d7c0ad813ab3197c922864bf572a2de9c4f2e7d0/expr.ipynb\"><img src=\"data:image/png;base64,iVBORw0KGgoAAAANSUhEUgAAAC8AAAAVBAMAAAAk6KpUAAAAMFBMVEX////c3NwiIiJERESqqqqY\n",
       "mJh2dnZmZmYQEBDu7u4yMjJUVFTMzMyIiIi6uroAAAAs73DqAAAAAXRSTlMAQObYZgAAASFJREFU\n",
       "KM9jYMAJ+C5gisWBiNMoQrxa65vMGdgPAJkrkcV53j/gzL/NwLAAqATFpICtDAwsvxkYwhgYOCYg\n",
       "ibNOaACS1QwMMxgYXiFrYGfcACTnMjAwOzCUAVmMe/MawRLT+RIgKtgKGJYCqRcCzB/A/GMsARAJ\n",
       "lgUMfUANXxnYDSASfFAJvgaGfwwM3B8YmCBum8wDNYrnA0iC34Bh/gEwn2vCBrhECwOD/AUGfwaw\n",
       "q1kTQBKcYKNMGRjmOzDsYjnACZIxfQskHk1gYF3AkA40IIBFnY1hvgJQjHvzTc7HlmDnPgJ5497h\n",
       "ewwzPoK0HNf/sQ9k2QMGDgGYtx8iBcEMkH3wAESSyEUOdiQJTmCwM0jDoghJAzfIfEYsUXuHgQEA\n",
       "M61El67l9nMAAAAASUVORK5CYII=\n",
       "\" style=\"display:inline;vertical-align:middle;\" /></a></td></tr>\n",
       "<tr><td>9</td><td>Literal</td><td></td><td><a class=\"ProveItLink\" href=\"../3e6688136fa3c7aefbebe51301b7c3ebf0b69c440/expr.ipynb\"><img src=\"data:image/png;base64,iVBORw0KGgoAAAANSUhEUgAAAA4AAAAOBAMAAADtZjDiAAAAJFBMVEX///+6urpUVFQQEBAiIiIy\n",
       "MjJmZmaIiIiqqqrc3Nzu7u4AAACgHpL+AAAAAXRSTlMAQObYZgAAAB5JREFUCNdjYGBgWMkAAe2k\n",
       "0Kmhoc6hoUGk6BMHYgAHOwjcado9fwAAAABJRU5ErkJggg==\n",
       "\" style=\"display:inline;vertical-align:middle;\" /></a></td></tr>\n",
       "<tr><td>10</td><td>ExprTuple</td><td>12, 13</td><td><a class=\"ProveItLink\" href=\"../0fd9d36c4b3c7aeb3d44da3149e6af22e27515840/expr.ipynb\"><img src=\"data:image/png;base64,iVBORw0KGgoAAAANSUhEUgAAACsAAAAVBAMAAAAtAwouAAAAMFBMVEX////c3NwiIiJERESqqqqY\n",
       "mJh2dnZmZmYQEBDu7u4yMjJUVFTMzMyIiIi6uroAAAAs73DqAAAAAXRSTlMAQObYZgAAAQdJREFU\n",
       "GNN1kT1PAkEURc/C8jEguL2FdhZa0NDvP2ArS0NorCRUdCaaWBJDSbfbWPgXTEw2oaRgY2OihgAV\n",
       "oXEt1M44z7DLoGGKl7knk/vefQNbTjX6S06ljEyiLp5CCqG+3Zk4M1XHEEBlw+MRnuEEin0TH8Gb\n",
       "wwCWG92+YOySdelqYT20r36p9alxRL7DrVYLJxuvcRM74EaLDwo1E1cv+YZyTCYyTXZiwbs1/HDd\n",
       "0hN8DfsRDfrJgA1HTOrgu9zboVrFaUEu4AxKnn2Yxz+Q8K7qIQPOZezJcMLgXVbVfdFdSlOKTpJw\n",
       "lmbV4XPNRHgpPjcXm2KlF8veSlTSx2Xxtf592iv8AGmYRIg8+9vnAAAAAElFTkSuQmCC\n",
       "\" style=\"display:inline;vertical-align:middle;\" /></a></td></tr>\n",
       "<tr><td>11</td><td>Literal</td><td></td><td><a class=\"ProveItLink\" href=\"../../../sets/complex/__pv_it/c357845f93a5a2d9f649129d299e7ec28dda4b960/expr.ipynb\"><img src=\"data:image/png;base64,iVBORw0KGgoAAAANSUhEUgAAAA8AAAAOBAMAAAACpFvcAAAAMFBMVEX////c3NyqqqqYmJhUVFR2\n",
       "dnbu7u66urrMzMxmZmZEREQQEBAyMjIiIiKIiIgAAAB7fvZ0AAAAAXRSTlMAQObYZgAAAGVJREFU\n",
       "CNdjYGDgu3N+70oGBgaO+gK2+CdAhoEzAwPTFwYG5oQNQN4UBgZORgcgI4+BIZM9gAEMWpkMoAx2\n",
       "KCOLAyrFk+AAYTAHgBhsQLy4DkjUJjAwsHg9Y6taBpLsvP/bnYEBACkBFGQfBv8RAAAAAElFTkSu\n",
       "QmCC\n",
       "\" style=\"display:inline;vertical-align:middle;\" /></a></td></tr>\n",
       "<tr><td>12</td><td>Variable</td><td></td><td><a class=\"ProveItLink\" href=\"../../../../__pv_it/07527342713064c87612d00d8557c53d53d5324a0/expr.ipynb\"><img src=\"data:image/png;base64,iVBORw0KGgoAAAANSUhEUgAAAAsAAAAJBAMAAAAWSsseAAAAMFBMVEX///8yMjKqqqrMzMzu7u4i\n",
       "IiJmZmaYmJhEREQQEBC6urp2dnaIiIhUVFTc3NwAAAD87Fq/AAAAAXRSTlMAQObYZgAAAEhJREFU\n",
       "CNdjYOC7s2seAwPDygccHxgY+L4zsDUwMPB+YGA9wMDA38Dgb8DA8P4Agz6DA4O/AsNFJgMGxgKm\n",
       "MG6gyjunLE4xAAAZTBA5TB6DCwAAAABJRU5ErkJggg==\n",
       "\" style=\"display:inline;vertical-align:middle;\" /></a></td></tr>\n",
       "<tr><td>13</td><td>Literal</td><td></td><td><a class=\"ProveItLink\" href=\"../../../numeral/__pv_it/ec23fc7a1b4222a5f4948b495002b97d6fa18c3c0/expr.ipynb\"><img src=\"data:image/png;base64,iVBORw0KGgoAAAANSUhEUgAAAAoAAAAOBAMAAADkjZCYAAAALVBMVEX///8QEBCYmJh2dnaqqqrc\n",
       "3NxUVFQyMjK6uroiIiLMzMyIiIhmZmbu7u4AAAAZjyHdAAAAAXRSTlMAQObYZgAAAEpJREFUCNdj\n",
       "YLiz+xQDA8MMhpsLGLgnMHAXMHAmMHA8ZeA7wMD1hCHOgIHrNZh8jES+Bss+AqlkeQrSxTyBgWEK\n",
       "w8UFDAx3rLMYAMCjFldHSx/9AAAAAElFTkSuQmCC\n",
       "\" style=\"display:inline;vertical-align:middle;\" /></a></td></tr>\n",
       "</table>\n"
      ],
      "text/plain": [
       "0. a -> ((a + 0) = a) | a in Complexes\n",
       "   core type: Lambda\n",
       "   parameter: 12\n",
       "   body: 1\n",
       "   conditions: 2\\n1. (a + 0) = a\n",
       "   core type: Operation\n",
       "   operator: 3\n",
       "   operands: 4\n",
       "2. (a in Complexes)\n",
       "   core type: ExprTuple\n",
       "   sub-expressions: 5\n",
       "3. =\n",
       "   core type: Literal\n",
       "   sub-expressions: \n",
       "4. (a + 0 , a)\n",
       "   core type: ExprTuple\n",
       "   sub-expressions: 6, 12\n",
       "5. a in Complexes\n",
       "   core type: Operation\n",
       "   operator: 7\n",
       "   operands: 8\n",
       "6. a + 0\n",
       "   core type: Operation\n",
       "   operator: 9\n",
       "   operands: 10\n",
       "7. in\n",
       "   core type: Literal\n",
       "   sub-expressions: \n",
       "8. (a , Complexes)\n",
       "   core type: ExprTuple\n",
       "   sub-expressions: 12, 11\n",
       "9. +\n",
       "   core type: Literal\n",
       "   sub-expressions: \n",
       "10. (a , 0)\n",
       "    core type: ExprTuple\n",
       "    sub-expressions: 12, 13\n",
       "11. Complexes\n",
       "    core type: Literal\n",
       "    sub-expressions: \n",
       "12. a\n",
       "    core type: Variable\n",
       "    sub-expressions: \n",
       "13. 0\n",
       "    core type: Literal\n",
       "    sub-expressions: "
      ]
     },
     "execution_count": 4,
     "metadata": {},
     "output_type": "execute_result"
    }
   ],
   "source": [
    "# display the expression information\n",
    "expr.exprInfo()"
   ]
  },
  {
   "cell_type": "code",
   "execution_count": null,
   "metadata": {},
   "outputs": [],
   "source": []
  }
 ],
 "metadata": {
  "kernelspec": {
   "display_name": "Python 3",
   "language": "python",
   "name": "python3"
  }
 },
 "nbformat": 4,
 "nbformat_minor": 0
}
