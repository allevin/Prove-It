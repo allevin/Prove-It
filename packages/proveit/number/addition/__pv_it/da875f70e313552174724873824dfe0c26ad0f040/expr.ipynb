{
 "cells": [
  {
   "cell_type": "markdown",
   "metadata": {},
   "source": [
    "Expression of type <a class=\"ProveItLink\" href=\"../../../../../../doc/html/api/proveit.number.Add.html\">Add</a>\n",
    "=======================\n",
    "# from context <a class=\"ProveItLink\" href=\"../../_context_.ipynb\">proveit.number.addition</a>"
   ]
  },
  {
   "cell_type": "code",
   "execution_count": 1,
   "metadata": {},
   "outputs": [],
   "source": [
    "# import Expression classes needed to build the expression\n",
    "from proveit import Variable\n",
    "from proveit._common_ import a, c\n",
    "from proveit.number import Add, Mult, three"
   ]
  },
  {
   "cell_type": "code",
   "execution_count": 2,
   "metadata": {},
   "outputs": [
    {
     "data": {
      "text/html": [
       "<strong id=\"expr\">expr:</strong> <a class=\"ProveItLink\" href=\"expr.ipynb\"><img src=\"data:image/png;base64,iVBORw0KGgoAAAANSUhEUgAAAMcAAAAVBAMAAAAA3efRAAAAMFBMVEX////c3NwiIiJERESqqqqY\n",
       "mJh2dnZmZmYQEBDu7u4yMjJUVFTMzMyIiIi6uroAAAAs73DqAAAAAXRSTlMAQObYZgAAAhBJREFU\n",
       "SMe9lT1Iw0AUx19smjbW2gziImIX0bGggm5uTmImR8mkICidFJwUOglKRRC3FtGhcXEWhIAggksm\n",
       "P/CrOIkgVtChS/HdJam99MUSKN6Qu/s/7vdP3ru7APxL67YJca5NHA91BXAxP+qLxKzQJlcBOkeV\n",
       "QMrCh/81iqFNSkEBRCVtUL4glfZFZt1e1Vqwd9w+aROih4rnQSZM9t1etluYTLs9cppFD/XGB03p\n",
       "ikyGNHmDIBNErfDB8a8mnS1vAChZ0qT3vufGJk0YR51/tASRC4g6wnHX4snvqlctUkF4kTJRjehg\n",
       "PE2aMM5luTMtiFxA1Daf3ZYZgqVV+oZYBnf9OmWiQLIiW6QJctQtiOiNoiMgquaUrYqPAnuNRAU6\n",
       "ENxVIb8EEpmAmtT4UlF0BERhULIg8s22AQOkMlCwXJOYaR5smmZDLiEumK6Z5rBpHrsmqYxPdARE\n",
       "5fALqo4JbwM2zEA+IF0YtiBPfkmOLxVFR0DUGBoWoePTixcm4RTTHiULH9WeIUmbMA4WRKiJIyBq\n",
       "AQ+rDh+Gt6hTl4eUoC08o49DP10T5CSyoAhb2BEQ9YKTqdXDhmPydP6EXmXBRB7BNgG713tLujcR\n",
       "TRhn5fHOd3iYgKg4fTmFv1a0P66VqEGuXWrxl6i3d69cBiHWUeQVrbbvqueoPiqS0EKb9AXoHCVR\n",
       "CXkI//uVAhKLqB8gpp0ci+/DwAAAAABJRU5ErkJggg==\n",
       "\" style=\"display:inline;vertical-align:middle;\" /></a><br>"
      ],
      "text/plain": [
       "expr: (3 * a) + _x_ + (c + c)"
      ]
     },
     "execution_count": 2,
     "metadata": {},
     "output_type": "execute_result"
    }
   ],
   "source": [
    "# build up the expression from sub-expressions\n",
    "expr = Add(Mult(three, a), Variable(\"_x_\", latexFormat = r\"{_{-}x_{-}}\"), Add(c, c))"
   ]
  },
  {
   "cell_type": "code",
   "execution_count": 3,
   "metadata": {},
   "outputs": [
    {
     "name": "stdout",
     "output_type": "stream",
     "text": [
      "Passed sanity check: built 'expr' is the same as the stored Expression.\n"
     ]
    }
   ],
   "source": [
    "# check that the built expression is the same as the stored expression\n",
    "%check_expr"
   ]
  },
  {
   "cell_type": "code",
   "execution_count": 4,
   "metadata": {},
   "outputs": [
    {
     "data": {
      "text/html": [
       "<table><tr><th>&nbsp;</th><th>core type</th><th>sub-expressions</th><th>expression</th></tr>\n",
       "<tr><td>0</td><td>Operation</td><td>operator:&nbsp;7<br>operands:&nbsp;1<br></td><td><a class=\"ProveItLink\" href=\"expr.ipynb\"><img src=\"data:image/png;base64,iVBORw0KGgoAAAANSUhEUgAAAMcAAAAVBAMAAAAA3efRAAAAMFBMVEX////c3NwiIiJERESqqqqY\n",
       "mJh2dnZmZmYQEBDu7u4yMjJUVFTMzMyIiIi6uroAAAAs73DqAAAAAXRSTlMAQObYZgAAAhBJREFU\n",
       "SMe9lT1Iw0AUx19smjbW2gziImIX0bGggm5uTmImR8mkICidFJwUOglKRRC3FtGhcXEWhIAggksm\n",
       "P/CrOIkgVtChS/HdJam99MUSKN6Qu/s/7vdP3ru7APxL67YJca5NHA91BXAxP+qLxKzQJlcBOkeV\n",
       "QMrCh/81iqFNSkEBRCVtUL4glfZFZt1e1Vqwd9w+aROih4rnQSZM9t1etluYTLs9cppFD/XGB03p\n",
       "ikyGNHmDIBNErfDB8a8mnS1vAChZ0qT3vufGJk0YR51/tASRC4g6wnHX4snvqlctUkF4kTJRjehg\n",
       "PE2aMM5luTMtiFxA1Daf3ZYZgqVV+oZYBnf9OmWiQLIiW6QJctQtiOiNoiMgquaUrYqPAnuNRAU6\n",
       "ENxVIb8EEpmAmtT4UlF0BERhULIg8s22AQOkMlCwXJOYaR5smmZDLiEumK6Z5rBpHrsmqYxPdARE\n",
       "5fALqo4JbwM2zEA+IF0YtiBPfkmOLxVFR0DUGBoWoePTixcm4RTTHiULH9WeIUmbMA4WRKiJIyBq\n",
       "AQ+rDh+Gt6hTl4eUoC08o49DP10T5CSyoAhb2BEQ9YKTqdXDhmPydP6EXmXBRB7BNgG713tLujcR\n",
       "TRhn5fHOd3iYgKg4fTmFv1a0P66VqEGuXWrxl6i3d69cBiHWUeQVrbbvqueoPiqS0EKb9AXoHCVR\n",
       "CXkI//uVAhKLqB8gpp0ci+/DwAAAAABJRU5ErkJggg==\n",
       "\" style=\"display:inline;vertical-align:middle;\" /></a></td></tr>\n",
       "<tr><td>1</td><td>ExprTuple</td><td>2, 3, 4</td><td><a class=\"ProveItLink\" href=\"../c167316290ea53f91f5e18da4519d073150c66280/expr.ipynb\"><img src=\"data:image/png;base64,iVBORw0KGgoAAAANSUhEUgAAAJYAAAAVBAMAAABWCwqnAAAAMFBMVEX////c3NwiIiJERESqqqqY\n",
       "mJh2dnZmZmYQEBDu7u4yMjJUVFTMzMyIiIi6uroAAAAs73DqAAAAAXRSTlMAQObYZgAAAdFJREFU\n",
       "OMutVL9LAmEYfi5/5GWX7g36DwRCNUpQQxAGV2PTTUaRIAS1FFg0BdlNIi2J5NAFUTQ05hRBQ7cU\n",
       "CUnWJBFkpYNg0fdd2PmK16B+cO9933f3Pve8zz3fC3RzDOhdgXEUWLgGLsMjnYOtsesQQhRvnZPr\n",
       "AyQdzjI8/nbSRW9jkQpcKuztYtkbqxFjeDEm7dVIsDCCFeN+ZG4N3hUbqUOInE6v09LC+SzFSkQe\n",
       "gHlk2LR/8cS0yAbGSGYCs/Im2bkq9PkJVn8caWAKcWN1z90hqiz4ZCyTTAWPCBFaO7DJBCupYxQo\n",
       "4ttYuaos7POvXQBDBEvFGVXJXWrW68KINxxLyMJW4fABFj4h1pok3qFLT8C49WpaelvTToycX6wt\n",
       "xqf6i2Uo/QV7SSS5Qg1kw6c38WI5fBR5oZ4Uet7rYpThToWgmqkzUgm5P604LyYW1YsRcQBz7E9C\n",
       "kvGm1N/OYDyqiB+mhyq2mPDHhEvqjsJJPXEOLHFPPLP55OqBaa/8a7Ag7jKLTQyzoYrBhfBtfYEk\n",
       "57+Sz1HteyN5VsgxXN6WjchrYfWn/86QQ2nZjayOjWzZ+pw67zltY5GxxwVq9cDqqEvWB/2Uu6M7\n",
       "PVrK4gc7AHwdfcwohAAAAABJRU5ErkJggg==\n",
       "\" style=\"display:inline;vertical-align:middle;\" /></a></td></tr>\n",
       "<tr><td>2</td><td>Operation</td><td>operator:&nbsp;5<br>operands:&nbsp;6<br></td><td><a class=\"ProveItLink\" href=\"../7aee2b6e503c8f908ef2cdd0071f19aa9707ce430/expr.ipynb\"><img src=\"data:image/png;base64,iVBORw0KGgoAAAANSUhEUgAAACQAAAAOBAMAAAC1GaP7AAAAMFBMVEX///+YmJju7u4QEBBUVFQy\n",
       "MjIiIiKIiIi6urpmZmbc3NyqqqpERER2dnbMzMwAAAB0GlNiAAAAAXRSTlMAQObYZgAAAJVJREFU\n",
       "GNNjYHh79zQDKuCawNBfgCrE+5uBPwFViBtTCAjQNQJBCIK5pLZ5AQMD31UHuAiHFcN5MKO4AUgw\n",
       "KQCJ9QIMc8BCzJ+AhD7IDn8GhnSgux4w8HwE8pQPAIk/DEz/gLKfIEJgZ39n4P7AxMAfwMD2CyrE\n",
       "9JuBJWAfA7sAQ/8FmI2BDNsmADk7Z0YjnFXed7wBAA1QJloXxtArAAAAAElFTkSuQmCC\n",
       "\" style=\"display:inline;vertical-align:middle;\" /></a></td></tr>\n",
       "<tr><td>3</td><td>Variable</td><td></td><td><a class=\"ProveItLink\" href=\"../5144cf74ae6a683b49b974f1b9302b432abf7e930/expr.ipynb\"><img src=\"data:image/png;base64,iVBORw0KGgoAAAANSUhEUgAAACUAAAAJBAMAAABH3vh9AAAAKlBMVEX////MzMwQEBAiIiKYmJhm\n",
       "ZmZUVFSIiIh2dnbc3Nzu7u5ERESqqqoAAABwkVEpAAAAAXRSTlMAQObYZgAAAEtJREFUCNdjYIAA\n",
       "zvbM4+EMqGAFg7ODMppYA0Mtw0E0sQUM2QyYQB1TiPMiAxeakCf7BYYqVCGeK9wKnAUw3undQLCA\n",
       "a3tXRwmMAwC3+RVNp6j0GAAAAABJRU5ErkJggg==\n",
       "\" style=\"display:inline;vertical-align:middle;\" /></a></td></tr>\n",
       "<tr><td>4</td><td>Operation</td><td>operator:&nbsp;7<br>operands:&nbsp;8<br></td><td><a class=\"ProveItLink\" href=\"../835f51cc5f7c025f46a68077697f0e2a3c40db810/expr.ipynb\"><img src=\"data:image/png;base64,iVBORw0KGgoAAAANSUhEUgAAACsAAAAOBAMAAABEEvh2AAAAMFBMVEX///+qqqpmZmbc3NxUVFSY\n",
       "mJhEREQiIiIyMjK6uroQEBDMzMyIiIh2dnbu7u4AAAA4MM1YAAAAAXRSTlMAQObYZgAAAGRJREFU\n",
       "GNNjYIADPgMGbIDxABHCfHfPbEARhgjsmsBRgCIMFuBbw8AWgCwMEWD5gGY2RIA/Acxh6uhoX9HR\n",
       "4QATsD+AphoiwA80GMVsiACLAgMvigOhArpnzqF6By6A1/OcSMIAeQEiyOGBraQAAAAASUVORK5C\n",
       "YII=\n",
       "\" style=\"display:inline;vertical-align:middle;\" /></a></td></tr>\n",
       "<tr><td>5</td><td>Literal</td><td></td><td><a class=\"ProveItLink\" href=\"../../../multiplication/__pv_it/21fd2079611555ecce512d99547a00d551e6b86b0/expr.ipynb\"><img src=\"data:image/png;base64,iVBORw0KGgoAAAANSUhEUgAAAAMAAAADBAMAAACkBqiMAAAAElBMVEX///9EREQQEBAiIiLu7u4A\n",
       "AABGBidwAAAAAXRSTlMAQObYZgAAABFJREFUCNdjYHFgcDVgcBIAAASWAQx4jI0xAAAAAElFTkSu\n",
       "QmCC\n",
       "\" style=\"display:inline;vertical-align:middle;\" /></a></td></tr>\n",
       "<tr><td>6</td><td>ExprTuple</td><td>9, 10</td><td><a class=\"ProveItLink\" href=\"../0a7bc1f02b1a1289d815ad2d8102ad7ea9add3540/expr.ipynb\"><img src=\"data:image/png;base64,iVBORw0KGgoAAAANSUhEUgAAACsAAAAVBAMAAAAtAwouAAAAMFBMVEX////c3NwiIiJERESqqqqY\n",
       "mJh2dnZmZmYQEBDu7u4yMjJUVFTMzMyIiIi6uroAAAAs73DqAAAAAXRSTlMAQObYZgAAAQhJREFU\n",
       "GNNjYMAB+C6gi8SBiNMMDMfSTJCF2Q8AiZUMjAUM71G0LGBg4L3AwPaFgV8BWTiMgYFjAgMLuvAM\n",
       "BoZXYAaqIcwODGVgxmqoAOPevEYGBrYChqVADk/WBqjwCwHmDwwMLAsY+sDcGw8gir8ysBsAvdLA\n",
       "8A/M5/gJprg/MDABbeH5ABJmPMDA/BUszG/AMP8AWLiFgWH+T5iw/AUGf4YJIENMgWoWMDB9BPKA\n",
       "ChwYdrEcYGBdwJAO9GgAw/sEzk9AYa4AFnU2sAMfAXnu5UsYOPsFQM6+d/geUPYBA4cALIAFkD3P\n",
       "mgBlsyI8nwsOWHRhTmDAMkhDOYjA4gYZx4gRaXcYGAAIoUCpTBPJKQAAAABJRU5ErkJggg==\n",
       "\" style=\"display:inline;vertical-align:middle;\" /></a></td></tr>\n",
       "<tr><td>7</td><td>Literal</td><td></td><td><a class=\"ProveItLink\" href=\"../3e6688136fa3c7aefbebe51301b7c3ebf0b69c440/expr.ipynb\"><img src=\"data:image/png;base64,iVBORw0KGgoAAAANSUhEUgAAAA4AAAAOBAMAAADtZjDiAAAAJFBMVEX///+6urpUVFQQEBAiIiIy\n",
       "MjJmZmaIiIiqqqrc3Nzu7u4AAACgHpL+AAAAAXRSTlMAQObYZgAAAB5JREFUCNdjYGBgWMkAAe2k\n",
       "0Kmhoc6hoUGk6BMHYgAHOwjcado9fwAAAABJRU5ErkJggg==\n",
       "\" style=\"display:inline;vertical-align:middle;\" /></a></td></tr>\n",
       "<tr><td>8</td><td>ExprTuple</td><td>11, 11</td><td><a class=\"ProveItLink\" href=\"../1c0bb617114f3df6312252662a222f4d927730940/expr.ipynb\"><img src=\"data:image/png;base64,iVBORw0KGgoAAAANSUhEUgAAACcAAAAVBAMAAAA3P+qgAAAAMFBMVEX////c3NwiIiJERESqqqqY\n",
       "mJh2dnZmZmYQEBDu7u4yMjJUVFTMzMyIiIi6uroAAAAs73DqAAAAAXRSTlMAQObYZgAAAM5JREFU\n",
       "GNNjYMAK+C6g8uNAxGk0RewHgMRKdK0LGBh4L6ALhjEwcExAF5zBwPAKw2ZmB4YyIMWZdvcAmA9m\n",
       "sBUwLAWyTzzgUgALghksCxj6gPK9DMwBYIVgBl8Dwz8GBu4PUNMgDJ4PIEF+A6gghAEUbGFgkIc5\n",
       "FcIAajcFKgAaGMDJAGUwsC5gSAcaVcDAdmC+ApQBctIjoIqyuzcZZnyEMhi4HjBwCEANfIjkTdYE\n",
       "KDsAJpiLFHQwQU5g0DFIQ9i8MIXcIPMY0QL0DgMDAOR2MjAvKGjTAAAAAElFTkSuQmCC\n",
       "\" style=\"display:inline;vertical-align:middle;\" /></a></td></tr>\n",
       "<tr><td>9</td><td>Literal</td><td></td><td><a class=\"ProveItLink\" href=\"../../../numeral/__pv_it/9176d93c83afa2c995b614976e3cb49207102fa70/expr.ipynb\"><img src=\"data:image/png;base64,iVBORw0KGgoAAAANSUhEUgAAAAoAAAAOBAMAAADkjZCYAAAAMFBMVEX///+YmJju7u4QEBBUVFQy\n",
       "MjIiIiKIiIi6urpmZmbc3NyqqqpERER2dnbMzMwAAAB0GlNiAAAAAXRSTlMAQObYZgAAAE1JREFU\n",
       "CNdjYHh79zQDA9cEhv4CBt7fDPwJDNxgEgiAIkAQAsR8Vx1ATIbiBhDJ/ImB6wEDz0cG/U8gkj+A\n",
       "ge0XA7sAQ/8FBoadM6MZAEflFACalZ/OAAAAAElFTkSuQmCC\n",
       "\" style=\"display:inline;vertical-align:middle;\" /></a></td></tr>\n",
       "<tr><td>10</td><td>Variable</td><td></td><td><a class=\"ProveItLink\" href=\"../../../../__pv_it/07527342713064c87612d00d8557c53d53d5324a0/expr.ipynb\"><img src=\"data:image/png;base64,iVBORw0KGgoAAAANSUhEUgAAAAsAAAAJBAMAAAAWSsseAAAAMFBMVEX///8yMjKqqqrMzMzu7u4i\n",
       "IiJmZmaYmJhEREQQEBC6urp2dnaIiIhUVFTc3NwAAAD87Fq/AAAAAXRSTlMAQObYZgAAAEhJREFU\n",
       "CNdjYOC7s2seAwPDygccHxgY+L4zsDUwMPB+YGA9wMDA38Dgb8DA8P4Agz6DA4O/AsNFJgMGxgKm\n",
       "MG6gyjunLE4xAAAZTBA5TB6DCwAAAABJRU5ErkJggg==\n",
       "\" style=\"display:inline;vertical-align:middle;\" /></a></td></tr>\n",
       "<tr><td>11</td><td>Variable</td><td></td><td><a class=\"ProveItLink\" href=\"../../../../__pv_it/cbdfda466482236edba0ce44ac7ef39cda0af7a40/expr.ipynb\"><img src=\"data:image/png;base64,iVBORw0KGgoAAAANSUhEUgAAAAkAAAAJBAMAAAASvxsjAAAALVBMVEX///9mZmbc3NxUVFSYmJhE\n",
       "REQiIiIyMjK6uroQEBDMzMyIiIh2dnbu7u4AAABgFDGoAAAAAXRSTlMAQObYZgAAADZJREFUCNdj\n",
       "YOA9s3sBA8PKBvYEBt7ZDKwODMwPGICALwBE6m0Asx0YGIDiAgw8QJUyu/cyAAAmuwmycZ8WfQAA\n",
       "AABJRU5ErkJggg==\n",
       "\" style=\"display:inline;vertical-align:middle;\" /></a></td></tr>\n",
       "</table>\n"
      ],
      "text/plain": [
       "0. (3 * a) + _x_ + (c + c)\n",
       "   core type: Operation\n",
       "   operator: 7\n",
       "   operands: 1\n",
       "1. (3 * a , _x_ , c + c)\n",
       "   core type: ExprTuple\n",
       "   sub-expressions: 2, 3, 4\n",
       "2. 3 * a\n",
       "   core type: Operation\n",
       "   operator: 5\n",
       "   operands: 6\n",
       "3. _x_\n",
       "   core type: Variable\n",
       "   sub-expressions: \n",
       "4. c + c\n",
       "   core type: Operation\n",
       "   operator: 7\n",
       "   operands: 8\n",
       "5. *\n",
       "   core type: Literal\n",
       "   sub-expressions: \n",
       "6. (3 , a)\n",
       "   core type: ExprTuple\n",
       "   sub-expressions: 9, 10\n",
       "7. +\n",
       "   core type: Literal\n",
       "   sub-expressions: \n",
       "8. (c , c)\n",
       "   core type: ExprTuple\n",
       "   sub-expressions: 11, 11\n",
       "9. 3\n",
       "   core type: Literal\n",
       "   sub-expressions: \n",
       "10. a\n",
       "    core type: Variable\n",
       "    sub-expressions: \n",
       "11. c\n",
       "    core type: Variable\n",
       "    sub-expressions: "
      ]
     },
     "execution_count": 4,
     "metadata": {},
     "output_type": "execute_result"
    }
   ],
   "source": [
    "# display the expression information\n",
    "expr.exprInfo()"
   ]
  },
  {
   "cell_type": "code",
   "execution_count": null,
   "metadata": {},
   "outputs": [],
   "source": []
  }
 ],
 "metadata": {
  "kernelspec": {
   "display_name": "Python 3",
   "language": "python",
   "name": "python3"
  }
 },
 "nbformat": 4,
 "nbformat_minor": 0
}
