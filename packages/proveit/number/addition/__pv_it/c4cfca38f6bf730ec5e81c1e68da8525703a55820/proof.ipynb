{
 "cells": [
  {
   "cell_type": "markdown",
   "metadata": {},
   "source": [
    "Show the Proof\n",
    "========"
   ]
  },
  {
   "cell_type": "code",
   "execution_count": 1,
   "metadata": {},
   "outputs": [
    {
     "data": {
      "text/html": [
       "<table><tr><th>&nbsp;</th><th>step type</th><th>requirements</th><th>statement</th></tr>\n",
       "<tr><td>0</td><td>specialization</td><td>1, 2</td><td><span style=\"font-size:20px;\"><a class=\"ProveItLink\" href=\"../85f85b29ffe644bf5770f5334ca8f98ddc6a6b250/expr.ipynb\"><img src=\"data:image/png;base64,iVBORw0KGgoAAAANSUhEUgAAAEMAAAAVBAMAAADvM06qAAAAMFBMVEX////c3NxERESqqqpUVFS6\n",
       "urrMzMwyMjIQEBCIiIh2dnYiIiLu7u5mZmaYmJgAAABXZE4RAAAAAXRSTlMAQObYZgAAATpJREFU\n",
       "KM9jYGDgu8eAC7CtEgBRPLsYcAO2ZhDJ+YGB4Ug3huTs8h+bLjAwXAexuRqARAm6itSvDKd+OjAw\n",
       "rIAr+Yymgo/lAQODPbIS1j9QqZPVu7eD6DccQIIXWQnXBqjr6g5AGBdEQB6ZgKSE3XPKAxBbCKqC\n",
       "50IU1FiwEt4CBobzCgzfQGxFmF8X2EFZ70FERgDQYQcYukCaFeBK4qAsdqDHU9oYwL7/C6RYu3fv\n",
       "BjuXRyEL5jd1oAsiEhgY9jKw/gNpdoBJ1LBAGdwLgARLAShYeEHe5tkAU/IKrOQA1C0gD39j4ACp\n",
       "ZvCDKWF6CvQw6x4kTzszXAHLnA6AqXHRPHBU6QCSkiNzwcHCwFibAPPT7f8tAQzIcQQDzO6QCIAD\n",
       "TCUYAKyED68ScHrh2Ykv1bVC0sZi/GkXAJYdV0QwVHUkAAAAAElFTkSuQmCC\n",
       "\" style=\"display:inline;vertical-align:middle;\" /></a> <a class=\"ProveItLink\" href=\"proof.ipynb\" style=\"text-decoration: none\">&#x22A2;&nbsp;</a><a class=\"ProveItLink\" href=\"../5471c48d1dc311c576b19b64e0097725e1d6053d0/expr.ipynb\"><img src=\"data:image/png;base64,iVBORw0KGgoAAAANSUhEUgAAAG8AAAAVBAMAAAC6Uq30AAAAMFBMVEX////c3NwiIiJERESqqqqY\n",
       "mJh2dnZmZmYQEBDu7u4yMjJUVFTMzMyIiIi6uroAAAAs73DqAAAAAXRSTlMAQObYZgAAAVxJREFU\n",
       "OMtjYCAb8F3ALx+HS+I0nMW5QwFVCizAfgBdB2ftdZDYSoQI1wY0JWCBBegamR5w6jAw8CK5lN8B\n",
       "ZqYAkkAYusZLDAy3GBg4JiBE3sPYLBeQBGaga9QGSggwvEISSWJA0wgWYHZA0/idgeG8A0MZksjq\n",
       "u1tRNYIF2ApQ9TF+A2q8wLAUKbQ+M/AfQNYIEWABh07VKhBYDdOYwNCH0Mjyk4EjAVkjRICvAYuN\n",
       "CQz/gKxFSiDwgH0BA38BskaIAM8HrE79hxQ/BQzvA4DKV61a1LVq1QaYALpGcOAEMLSgRGP9BGQb\n",
       "IQIQpxaBXaUMjQ5/AQZTJI0HGNpQQhUiwLoAMwEA4ykdIcDtwL4BRSNEAD06GJgcOHsYGB4hRcfe\n",
       "UtQEABHgeoCeyMtuA2ONQwBLjmFBzmozsOcq1gRCeTQXR35cSSCjcy7AISFNQCO3AA4JRgJFxx3s\n",
       "wgCf5GkFcdHOCgAAAABJRU5ErkJggg==\n",
       "\" style=\"display:inline;vertical-align:middle;\" /></a></span></td></tr>\n",
       "<tr><td>&nbsp;</td><td colspan=4 style=\"text-align:left\"><span style=\"font-size:20px;\"><a class=\"ProveItLink\" href=\"../../../../__pv_it/07527342713064c87612d00d8557c53d53d5324a0/expr.ipynb\"><img src=\"data:image/png;base64,iVBORw0KGgoAAAANSUhEUgAAAAsAAAAJBAMAAAAWSsseAAAAMFBMVEX///8yMjKqqqrMzMzu7u4i\n",
       "IiJmZmaYmJhEREQQEBC6urp2dnaIiIhUVFTc3NwAAAD87Fq/AAAAAXRSTlMAQObYZgAAAEhJREFU\n",
       "CNdjYOC7s2seAwPDygccHxgY+L4zsDUwMPB+YGA9wMDA38Dgb8DA8P4Agz6DA4O/AsNFJgMGxgKm\n",
       "MG6gyjunLE4xAAAZTBA5TB6DCwAAAABJRU5ErkJggg==\n",
       "\" style=\"display:inline;vertical-align:middle;\" /></a> : <a class=\"ProveItLink\" href=\"../../../../__pv_it/6840a4fa6c106149dc16a131294d0c5e44f1b0480/expr.ipynb\"><img src=\"data:image/png;base64,iVBORw0KGgoAAAANSUhEUgAAAAkAAAAOBAMAAAAPuiubAAAALVBMVEX///9mZmbMzMxERESYmJiI\n",
       "iIh2dna6urqqqqoyMjIiIiIQEBBUVFTu7u4AAAD9S1JeAAAAAXRSTlMAQObYZgAAAE1JREFUCNdj\n",
       "4D29gAEIOA+ASL4GEFl3AURmgQiGOaFHGBh4HzPwKTBwvGXgTmBgnMDAJ8DAJcBQ5wBSLncBJLWN\n",
       "gYGngRFoBO9REQYGAGrcDtUkVqASAAAAAElFTkSuQmCC\n",
       "\" style=\"display:inline;vertical-align:middle;\" /></a></span></td></tr><tr><td>1</td><td>theorem</td><td></td><td><span style=\"font-size:20px;\"> <a class=\"ProveItLink\" href=\"../../subtraction/_proofs_/addCancelReverse.ipynb\" style=\"text-decoration: none\">&#x22A2;&nbsp;</a><a class=\"ProveItLink\" href=\"../44738dc3e0a6afa12143a8b0d04679cb8c633d7b0/expr.ipynb\"><img src=\"data:image/png;base64,iVBORw0KGgoAAAANSUhEUgAAALkAAAAVBAMAAADoXVL6AAAAMFBMVEX///8QEBC6urrMzMxUVFRm\n",
       "ZmZERETc3NwyMjKqqqp2dnaIiIiYmJgiIiLu7u4AAAAU9Wx4AAAAAXRSTlMAQObYZgAAAjlJREFU\n",
       "OMtjYKApeIBPkmkDBOMHh3ALXwAxTuPQZwLF+AGrAboIX/RWA7DwShCvD4e+PjxySKABXYBXge8y\n",
       "WLgMyGFPwK6LewMEY4LnKLxT6NJ7GRh2gIU5gAHPOgG76YwPIBgTzEbhPUSXvsLAoF8AEuZZXl5e\n",
       "i8PHGlBMyHQ2dNd9ZWCwnwAW/paWdguH6VFQDAPs3ovEUU2HiHAFoOpj/wU0fQNY2JmBIR2H6T1Q\n",
       "DAOKBWwfUE2HiHCCozWiAwRaYKYvAAurMPChxPmbLt9oKFMIimFO+sPAmoBiOlSESQCL2xeAhXkZ\n",
       "uA/AkunW0APMZg+Yu6D8TxDM3nsXBBRYPjDwbkAxHSrC/AFryICEuQ/wwpLFNvV3D3iqGRi0UE2H\n",
       "Af4EhvcGkCC4CAkCqAi66eBYPQAW5msA5cbSXckMPKDIUZ4MtBuqSBKKoaB+A8N8aMkxG0UEEjKx\n",
       "YB9eg6bI+QUQ4XQnoBXX2f8xcIAk9p1DGJcDxVDwfgKDB6cBsulQEZ4GzNy0lgEiPBVY1LAEMF9g\n",
       "sEI3fSkUQwHHAc6rXCjhDhVBT5EMvBP4hKHCjMB44VfgdmCwTUtL26CkjFCkC8XwxL3JbBNqmoGI\n",
       "cCigl2JRWwygwjzAoHz/gO1cwRNwMniNCHfGAggmuSRAE2Z8YG/zgAVkEHNUAcNuqCjPAgjGBNoo\n",
       "vNXYTYcLM0WfjmHgSwIxX11LUSCtBOZrIEqYCxjuKAIlUIwfsBSQIowUjxsgGD/YjFMYAM9hr+eB\n",
       "a8aBAAAAAElFTkSuQmCC\n",
       "\" style=\"display:inline;vertical-align:middle;\" /></a></span></td></tr>\n",
       "<tr><td>&nbsp;</td><td colspan=4 style-\"text-align:left\"><a class=\"ProveItLink\" href=\"../../subtraction/_proofs_/addCancelReverse.ipynb\">proveit.number.addition.subtraction.addCancelReverse</a></td></tr><tr><td>2</td><td>assumption</td><td></td><td><span style=\"font-size:20px;\"><a class=\"ProveItLink\" href=\"../85f85b29ffe644bf5770f5334ca8f98ddc6a6b250/expr.ipynb\"><img src=\"data:image/png;base64,iVBORw0KGgoAAAANSUhEUgAAAEMAAAAVBAMAAADvM06qAAAAMFBMVEX////c3NxERESqqqpUVFS6\n",
       "urrMzMwyMjIQEBCIiIh2dnYiIiLu7u5mZmaYmJgAAABXZE4RAAAAAXRSTlMAQObYZgAAATpJREFU\n",
       "KM9jYGDgu8eAC7CtEgBRPLsYcAO2ZhDJ+YGB4Ug3huTs8h+bLjAwXAexuRqARAm6itSvDKd+OjAw\n",
       "rIAr+Yymgo/lAQODPbIS1j9QqZPVu7eD6DccQIIXWQnXBqjr6g5AGBdEQB6ZgKSE3XPKAxBbCKqC\n",
       "50IU1FiwEt4CBobzCgzfQGxFmF8X2EFZ70FERgDQYQcYukCaFeBK4qAsdqDHU9oYwL7/C6RYu3fv\n",
       "BjuXRyEL5jd1oAsiEhgY9jKw/gNpdoBJ1LBAGdwLgARLAShYeEHe5tkAU/IKrOQA1C0gD39j4ACp\n",
       "ZvCDKWF6CvQw6x4kTzszXAHLnA6AqXHRPHBU6QCSkiNzwcHCwFibAPPT7f8tAQzIcQQDzO6QCIAD\n",
       "TCUYAKyED68ScHrh2Ykv1bVC0sZi/GkXAJYdV0QwVHUkAAAAAElFTkSuQmCC\n",
       "\" style=\"display:inline;vertical-align:middle;\" /></a> <a class=\"ProveItLink\" href=\"../f4deafc65a9df2e80503981b100fd47b19fe45070/proof.ipynb\" style=\"text-decoration: none\">&#x22A2;&nbsp;</a><a class=\"ProveItLink\" href=\"../56e4bf9d0dc4ab15750dbfaaa220f8ca1295f3ab0/expr.ipynb\"><img src=\"data:image/png;base64,iVBORw0KGgoAAAANSUhEUgAAADEAAAAPBAMAAAC/wjryAAAAMFBMVEX////c3NxmZmbMzMxERESY\n",
       "mJiIiIh2dna6urqqqqoyMjIiIiIQEBBUVFTu7u4AAAAiO1wTAAAAAXRSTlMAQObYZgAAANpJREFU\n",
       "GNNj4LuzgQENsO1af9oJSHNdQJNg7m/gq88FMvgnoMkEXGVg4PwLZPQ/gAjwZe3evQBIsz44ACR1\n",
       "gbgaqtQqDkIzMYKMfwbEa9OuggQY/aAqHnEUQA35wsBvAKRZBKAy5pwBEAbnPwYekKInMAeYc0Bl\n",
       "mBYw8CsA6Z7duyEueMIMNY1bgaEfpMgWpofrAdSDQO/og9z9GibDWgCS4WMAWX8cJMAbAJNybQMS\n",
       "3Q8YeCcwgXXz7YDJ8F7J42sB+oHvmipEQEoZJmW0/88NlPCauxrsNhgAAF6vNqYvGVTbAAAAAElF\n",
       "TkSuQmCC\n",
       "\" style=\"display:inline;vertical-align:middle;\" /></a></span></td></tr>\n",
       "</table>"
      ],
      "text/plain": [
       "<proveit._core_.proof._ShowProof at 0x7f94e4e318d0>"
      ]
     },
     "execution_count": 1,
     "metadata": {},
     "output_type": "execute_result"
    }
   ],
   "source": [
    "import proveit\n",
    "%show_proof"
   ]
  },
  {
   "cell_type": "code",
   "execution_count": null,
   "metadata": {},
   "outputs": [],
   "source": []
  }
 ],
 "metadata": {
  "kernelspec": {
   "display_name": "Python 3",
   "language": "python",
   "name": "python3"
  }
 },
 "nbformat": 4,
 "nbformat_minor": 0
}
