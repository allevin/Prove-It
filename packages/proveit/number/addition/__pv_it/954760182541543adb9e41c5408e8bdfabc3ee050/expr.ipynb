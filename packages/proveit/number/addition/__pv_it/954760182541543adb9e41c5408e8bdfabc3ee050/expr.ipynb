{
 "cells": [
  {
   "cell_type": "markdown",
   "metadata": {},
   "source": [
    "Expression of type <a class=\"ProveItLink\" href=\"../../../../../../doc/html/api/proveit.logic.InSet.html\">InSet</a>\n",
    "=======================\n",
    "# from context <a class=\"ProveItLink\" href=\"../../_context_.ipynb\">proveit.number.addition</a>"
   ]
  },
  {
   "cell_type": "code",
   "execution_count": 1,
   "metadata": {},
   "outputs": [],
   "source": [
    "# import Expression classes needed to build the expression\n",
    "from proveit.logic import InSet\n",
    "from proveit.number import Complexes, Exp, three, two"
   ]
  },
  {
   "cell_type": "code",
   "execution_count": 2,
   "metadata": {},
   "outputs": [
    {
     "data": {
      "text/html": [
       "<strong id=\"expr\">expr:</strong> <a class=\"ProveItLink\" href=\"expr.ipynb\"><img src=\"data:image/png;base64,iVBORw0KGgoAAAANSUhEUgAAAFwAAAAZBAMAAABOVFS0AAAAMFBMVEX////c3NwiIiJERESqqqqY\n",
       "mJh2dnZmZmYQEBDu7u4yMjJUVFTMzMyIiIi6uroAAAAs73DqAAAAAXRSTlMAQObYZgAAAcpJREFU\n",
       "OMuVk08oBFEcx7+DNTNmTCOHPXDYVikuVjgJe+CMy5aLthQHyeRAOUkuUnZykAuJNi2XuTjg4rQO\n",
       "xKacKFIcnOQgK4w3789sRjY7Ne/9fq/PvPl9f3+A/z9jnXYJtGzLmyXgZab0UQKuxNUvlPJU5AEj\n",
       "Fzgc/hOvSgKnQHi2m/n66Egc8vEv7nL3rcECxomZgeTgNk6PwzA+gV/6z7+w+ukgRC6vzkGzUfZM\n",
       "zyfjeAESATqkDQD9Dh5xBsWGsgiNae6n+BrH1reizd4+pHhZd/T23gM8EQV5yCJFXjDlLDI9zYto\n",
       "1ZFFzSmu+4xpVoK8EO8AlRY1azmtWo+FwNJ0vUgyL7vnpZdpbeWEnuwr4Mt03RZuNfGNOXppzMcf\n",
       "CjgNWo75fsqGTtNkzEejVKoaywbwa+7UAz0DHNcdgWS0Ar7gBWuhhv7ftT2cBxMRSILiTHgHeU+A\n",
       "Qeq+Ay0mQkzqvsDLh0lbGU1sRACpcXQsopL64ArGq5/IlTvBH3XZG23s9nuSdNd1I2rKJFHNzJIS\n",
       "VTFO2hG9pk+5S/xbxRT1FIbfBBWHrAl+9E9SGP7RRLERyQRxtegA1/HdHyrNLIZLweG7KQJ/A0JH\n",
       "bdNpdpTNAAAAAElFTkSuQmCC\n",
       "\" style=\"display:inline;vertical-align:middle;\" /></a><br>"
      ],
      "text/plain": [
       "expr: (2 , 3) in Complexes^{2}"
      ]
     },
     "execution_count": 2,
     "metadata": {},
     "output_type": "execute_result"
    }
   ],
   "source": [
    "# build up the expression from sub-expressions\n",
    "expr = InSet([two, three], Exp(Complexes, two))"
   ]
  },
  {
   "cell_type": "code",
   "execution_count": 3,
   "metadata": {},
   "outputs": [
    {
     "name": "stdout",
     "output_type": "stream",
     "text": [
      "Passed sanity check: built 'expr' is the same as the stored Expression.\n"
     ]
    }
   ],
   "source": [
    "# check that the built expression is the same as the stored expression\n",
    "%check_expr"
   ]
  },
  {
   "cell_type": "code",
   "execution_count": 4,
   "metadata": {},
   "outputs": [
    {
     "data": {
      "text/html": [
       "<table><tr><th>&nbsp;</th><th>core type</th><th>sub-expressions</th><th>expression</th></tr>\n",
       "<tr><td>0</td><td>Operation</td><td>operator:&nbsp;1<br>operands:&nbsp;2<br></td><td><a class=\"ProveItLink\" href=\"expr.ipynb\"><img src=\"data:image/png;base64,iVBORw0KGgoAAAANSUhEUgAAAFwAAAAZBAMAAABOVFS0AAAAMFBMVEX////c3NwiIiJERESqqqqY\n",
       "mJh2dnZmZmYQEBDu7u4yMjJUVFTMzMyIiIi6uroAAAAs73DqAAAAAXRSTlMAQObYZgAAAcpJREFU\n",
       "OMuVk08oBFEcx7+DNTNmTCOHPXDYVikuVjgJe+CMy5aLthQHyeRAOUkuUnZykAuJNi2XuTjg4rQO\n",
       "xKacKFIcnOQgK4w3789sRjY7Ne/9fq/PvPl9f3+A/z9jnXYJtGzLmyXgZab0UQKuxNUvlPJU5AEj\n",
       "Fzgc/hOvSgKnQHi2m/n66Egc8vEv7nL3rcECxomZgeTgNk6PwzA+gV/6z7+w+ukgRC6vzkGzUfZM\n",
       "zyfjeAESATqkDQD9Dh5xBsWGsgiNae6n+BrH1reizd4+pHhZd/T23gM8EQV5yCJFXjDlLDI9zYto\n",
       "1ZFFzSmu+4xpVoK8EO8AlRY1azmtWo+FwNJ0vUgyL7vnpZdpbeWEnuwr4Mt03RZuNfGNOXppzMcf\n",
       "CjgNWo75fsqGTtNkzEejVKoaywbwa+7UAz0DHNcdgWS0Ar7gBWuhhv7ftT2cBxMRSILiTHgHeU+A\n",
       "Qeq+Ay0mQkzqvsDLh0lbGU1sRACpcXQsopL64ArGq5/IlTvBH3XZG23s9nuSdNd1I2rKJFHNzJIS\n",
       "VTFO2hG9pk+5S/xbxRT1FIbfBBWHrAl+9E9SGP7RRLERyQRxtegA1/HdHyrNLIZLweG7KQJ/A0JH\n",
       "bdNpdpTNAAAAAElFTkSuQmCC\n",
       "\" style=\"display:inline;vertical-align:middle;\" /></a></td></tr>\n",
       "<tr><td>1</td><td>Literal</td><td></td><td><a class=\"ProveItLink\" href=\"../../../../logic/set_theory/membership/__pv_it/088cbc857536a28d4119ad9639a84270ccb0545d0/expr.ipynb\"><img src=\"data:image/png;base64,iVBORw0KGgoAAAANSUhEUgAAAAwAAAAMBAMAAACkW0HUAAAALVBMVEX///+qqqpmZmZUVFQQEBC6\n",
       "urpERETc3NyYmJjMzMwiIiIyMjKIiIju7u4AAACYsrA9AAAAAXRSTlMAQObYZgAAADxJREFUCNdj\n",
       "YOA9vWrVBgaG2b0MQMCeCyIZ2ArA1DUwyRCyahVIyWQI7xaEYm4AU7xLIdxqTQgtvGvVBgCkcQ7e\n",
       "geM/tQAAAABJRU5ErkJggg==\n",
       "\" style=\"display:inline;vertical-align:middle;\" /></a></td></tr>\n",
       "<tr><td>2</td><td>ExprTuple</td><td>3, 4</td><td><a class=\"ProveItLink\" href=\"../8f6edc3da727c6939cba45ee77300cf66a04ddc70/expr.ipynb\"><img src=\"data:image/png;base64,iVBORw0KGgoAAAANSUhEUgAAAGAAAAAcBAMAAABsVqexAAAAMFBMVEX///+qqqp2dnYiIiJERESI\n",
       "iIhmZmYQEBDc3NyYmJgyMjLu7u5UVFTMzMy6uroAAACGxKilAAAAAXRSTlMAQObYZgAAAixJREFU\n",
       "OMuVVD9oE1EY/zVpkrteLqmLoIuhQwdxCCIiiNCADkKRgw5dCgYFB0WIs6I3iEjpEMVBFCSCCFqR\n",
       "w7GDucHBf0Po4KRG6iA6mBYRK0dz/t679y6X2OH64N33/d73/fK+fy9A2jU962EnK+/lW0r9mYqQ\n",
       "dY0tVIRm+6kIhUmrj49CW0kb2liAnEP5hrvkjBjNL/8TJhjQEcBoUOdVN86fUobVqRpwMeE59/TP\n",
       "oTpwgOoCs6eKZRg+Tk9Ks1FHz8HEwP9zHy9++zBFxm0PBV7O0IoesuvSntlAuRqZo+iKTWCfjzV8\n",
       "Yq2a6IoKkHcZxX6UmyRYDU24XxBd8O3arneUM5gn/MGMAuT72ochoaZBfYkfyymEISMw1/GW8EzU\n",
       "mkD7PBOToHSrvpbIvxRgluKJBF0Vtr1ftHKvcrErexIEewuPKa5K8Cg+nmchvsWE7wmC0cdhChk8\n",
       "84nHgMF1dUgzqwmCtTEgLOgf6WD874CA5eLwDSLBS6KaddyUZ+1AEnRIuC0JauA4sa8oTnJ/AO7K\n",
       "43IL2U3gnnYbf8Ail46qKm1iLiqhcXBqumr9Isg10atEZZUY7094L4+rG9iHHsVXNiEMw6p1zSXa\n",
       "fe4hv88FQWL7bHhFD2+mhXKHVXF1X9y4HI1hrEecU8fr40kzY0vGGcZqtV3YVTneo4QVbEu4g2jK\n",
       "lhQePLzXI1itY9yLoryjllxn22dtitc2Vkn/53Rdfm+lJ1zAztc/eaeGzviAcfcAAAAASUVORK5C\n",
       "YII=\n",
       "\" style=\"display:inline;vertical-align:middle;\" /></a></td></tr>\n",
       "<tr><td>3</td><td>ExprTuple</td><td>9, 5</td><td><a class=\"ProveItLink\" href=\"../9333281ed4be3d0d1796509ff962cccc430da5be0/expr.ipynb\"><img src=\"data:image/png;base64,iVBORw0KGgoAAAANSUhEUgAAACkAAAAVBAMAAAAp9toTAAAAMFBMVEX////c3NwiIiJERESqqqqY\n",
       "mJh2dnZmZmYQEBDu7u4yMjJUVFTMzMyIiIi6uroAAAAs73DqAAAAAXRSTlMAQObYZgAAARBJREFU\n",
       "GNNtkStPA1EQhb8tLPtqN4uqAFGFBYOF/QeAQRISklYRqiCpQmAwdCVyE4IgmP4EFAgENShIIEhU\n",
       "gyApCV3mzj7Ehismcz5x7pkZ+P+F4xrYM+UR2oONHDS7BzHOnXQ3WCPeYqVtwl9IoTUmSGhMlB7F\n",
       "fMEuuAnuOcFM6ZbSS/gEf4ozK/8Wh7mYYxWNaUH9ESz0uVbxtJ/D+1sp8ykXqq7KsC3R4Slq6KxV\n",
       "MwwTmpOcvhRoGTa3DT0zRn0WDfSyxFBxWBf1ADsk0vzAaoSd0gNrpdvreBKfZ8JvTfYhYbMs63jD\n",
       "SKxOBrIQ/x03KqcqGzOxXeTHrsId6iZr1JNNslSI6iSBsbLqF3qFP6kkPkM9+LMtAAAAAElFTkSu\n",
       "QmCC\n",
       "\" style=\"display:inline;vertical-align:middle;\" /></a></td></tr>\n",
       "<tr><td>4</td><td>Operation</td><td>operator:&nbsp;6<br>operands:&nbsp;7<br></td><td><a class=\"ProveItLink\" href=\"../e85e9ca78d1a4564103466d9cefc2e310cc417b30/expr.ipynb\"><img src=\"data:image/png;base64,iVBORw0KGgoAAAANSUhEUgAAABcAAAAUBAMAAACUkLs9AAAAMFBMVEX////c3NyqqqqYmJhUVFR2\n",
       "dnbu7u66urrMzMxmZmZEREQQEBAyMjIiIiKIiIgAAAB7fvZ0AAAAAXRSTlMAQObYZgAAAJRJREFU\n",
       "GNNjYIAC1lluDHAwjWEOgnORQb4BztnEkF+AkGLQT0DiHAURfHfO710JNM4ByOaoL2CLf8LAYAqS\n",
       "MHBmYGD6wsAewNHAwJywASgyhaFLSSWBgZMRpDaPYf///wwMmewBCANbmQyQOOxInCwOJGU8CQ4I\n",
       "DnMAiMMG5S2uAxK1UEeyeD1jq1oGU9h5/7c7hAUA0KsgFpNdq2UAAAAASUVORK5CYII=\n",
       "\" style=\"display:inline;vertical-align:middle;\" /></a></td></tr>\n",
       "<tr><td>5</td><td>Literal</td><td></td><td><a class=\"ProveItLink\" href=\"../../../numeral/__pv_it/9176d93c83afa2c995b614976e3cb49207102fa70/expr.ipynb\"><img src=\"data:image/png;base64,iVBORw0KGgoAAAANSUhEUgAAAAoAAAAOBAMAAADkjZCYAAAAMFBMVEX///+YmJju7u4QEBBUVFQy\n",
       "MjIiIiKIiIi6urpmZmbc3NyqqqpERER2dnbMzMwAAAB0GlNiAAAAAXRSTlMAQObYZgAAAE1JREFU\n",
       "CNdjYHh79zQDA9cEhv4CBt7fDPwJDNxgEgiAIkAQAsR8Vx1ATIbiBhDJ/ImB6wEDz0cG/U8gkj+A\n",
       "ge0XA7sAQ/8FBoadM6MZAEflFACalZ/OAAAAAElFTkSuQmCC\n",
       "\" style=\"display:inline;vertical-align:middle;\" /></a></td></tr>\n",
       "<tr><td>6</td><td>Literal</td><td></td><td><a class=\"ProveItLink\" href=\"../../../exponentiation/__pv_it/deb2bf23cbccdd6e6791e1b35b5b9794ce12dbd50/expr.ipynb\"><img src=\"data:image/png;base64,iVBORw0KGgoAAAANSUhEUgAAACgAAAASBAMAAADbMYGVAAAAMFBMVEX///8QEBAiIiKYmJjc3Nzu\n",
       "7u7MzMx2dnZmZma6urpERESqqqoyMjJUVFSIiIgAAAAoDOMTAAAAAXRSTlMAQObYZgAAAOBJREFU\n",
       "GNNjYGB4+//u3Tt/GNAASGAXmhjnPyDBgSbI/g1IxKEJ8nxgYGdgQRPkX8BgDKRY6q7s62OYvmze\n",
       "2wAgb/7ZO1+AVDiDkYEQQ0HTBr4DQF59AgOIKmB4z7CNbcNZBu6vQN55kEACQwDDLQYGVobfDHwg\n",
       "fb8YGBxYHwAZciD3fWXg+gB1JjvQcJZvQIXsCgz8F6DO9GBgMOH7wPCUgaeBwd4B7EwGNjUG7s9c\n",
       "AiwPgO5jkWRgiF3/9+5dfQUG1nWl5Y+B7pv+1gE9bBhqGLCAE1jEWH9jEbT5A3IwAC4sP/1L6Qlu\n",
       "AAAAAElFTkSuQmCC\n",
       "\" style=\"display:inline;vertical-align:middle;\" /></a></td></tr>\n",
       "<tr><td>7</td><td>ExprTuple</td><td>8, 9</td><td><a class=\"ProveItLink\" href=\"../2dcb921ccddaae86d4720128269a83fb07af52bb0/expr.ipynb\"><img src=\"data:image/png;base64,iVBORw0KGgoAAAANSUhEUgAAAC8AAAAVBAMAAAAk6KpUAAAAMFBMVEX////c3NwiIiJERESqqqqY\n",
       "mJh2dnZmZmYQEBDu7u4yMjJUVFTMzMyIiIi6uroAAAAs73DqAAAAAXRSTlMAQObYZgAAASlJREFU\n",
       "KM91kT9Iw0AUh79gY5s2KcXVxdklLkXc3Fw7OUqnOolFQQcHizg4yYGDXcSAODg1IA4u2kkHF1fR\n",
       "IdZNEP8gIgjWdz1JGqoHd/zu9717794d/DuK14PenF6uZHrjrY1J41mrBxHZtqgjcJ8jZ/HWgFG8\n",
       "dwgkWDJVTiDzZcAp+DALOYWtGuKsGbClOI9owiNkrVCcPQNaivWIoWlWYLdYTd3JVwzXOYSLTKXf\n",
       "dz+kYsC2gGIK5CekuQbfsOOmUi3rUy8a5FXY53uhAZtgV7V2fsEMVkmnKosuP8nSUT3k1rFL2AHz\n",
       "sikc3zgPU+yPiR6p1ZbQ1+3osEv/8wyar7qJbvdNykbkSknd+1g1deUEJO0smGcfAE7Q+4C4g1gV\n",
       "dH7rj6+9gx9TyUZLshpvbQAAAABJRU5ErkJggg==\n",
       "\" style=\"display:inline;vertical-align:middle;\" /></a></td></tr>\n",
       "<tr><td>8</td><td>Literal</td><td></td><td><a class=\"ProveItLink\" href=\"../../../sets/complex/__pv_it/c357845f93a5a2d9f649129d299e7ec28dda4b960/expr.ipynb\"><img src=\"data:image/png;base64,iVBORw0KGgoAAAANSUhEUgAAAA8AAAAOBAMAAAACpFvcAAAAMFBMVEX////c3NyqqqqYmJhUVFR2\n",
       "dnbu7u66urrMzMxmZmZEREQQEBAyMjIiIiKIiIgAAAB7fvZ0AAAAAXRSTlMAQObYZgAAAGVJREFU\n",
       "CNdjYGDgu3N+70oGBgaO+gK2+CdAhoEzAwPTFwYG5oQNQN4UBgZORgcgI4+BIZM9gAEMWpkMoAx2\n",
       "KCOLAyrFk+AAYTAHgBhsQLy4DkjUJjAwsHg9Y6taBpLsvP/bnYEBACkBFGQfBv8RAAAAAElFTkSu\n",
       "QmCC\n",
       "\" style=\"display:inline;vertical-align:middle;\" /></a></td></tr>\n",
       "<tr><td>9</td><td>Literal</td><td></td><td><a class=\"ProveItLink\" href=\"../../../numeral/__pv_it/77d407a64829263cdc16415becd4c2293f77a4bf0/expr.ipynb\"><img src=\"data:image/png;base64,iVBORw0KGgoAAAANSUhEUgAAAAkAAAAOBAMAAAAPuiubAAAAMFBMVEX///+YmJh2dnbMzMwQEBAi\n",
       "IiLu7u6qqqqIiIhUVFS6urpEREQyMjJmZmbc3NwAAACOMKdoAAAAAXRSTlMAQObYZgAAAFBJREFU\n",
       "CNdj4Lt7egEDw0sGju8MDNMYGOIZGFwSGOYvYDifwHAfKAEUSQASzJ9ATJ4NIPI2iOCYACJrGfge\n",
       "MDBfYGB8wPBUSekqUPH//18ZAIliFhc3zESNAAAAAElFTkSuQmCC\n",
       "\" style=\"display:inline;vertical-align:middle;\" /></a></td></tr>\n",
       "</table>\n"
      ],
      "text/plain": [
       "0. (2 , 3) in Complexes^{2}\n",
       "   core type: Operation\n",
       "   operator: 1\n",
       "   operands: 2\n",
       "1. in\n",
       "   core type: Literal\n",
       "   sub-expressions: \n",
       "2. ((2 , 3) , Complexes^{2})\n",
       "   core type: ExprTuple\n",
       "   sub-expressions: 3, 4\n",
       "3. (2 , 3)\n",
       "   core type: ExprTuple\n",
       "   sub-expressions: 9, 5\n",
       "4. Complexes^{2}\n",
       "   core type: Operation\n",
       "   operator: 6\n",
       "   operands: 7\n",
       "5. 3\n",
       "   core type: Literal\n",
       "   sub-expressions: \n",
       "6. Exp\n",
       "   core type: Literal\n",
       "   sub-expressions: \n",
       "7. (Complexes , 2)\n",
       "   core type: ExprTuple\n",
       "   sub-expressions: 8, 9\n",
       "8. Complexes\n",
       "   core type: Literal\n",
       "   sub-expressions: \n",
       "9. 2\n",
       "   core type: Literal\n",
       "   sub-expressions: "
      ]
     },
     "execution_count": 4,
     "metadata": {},
     "output_type": "execute_result"
    }
   ],
   "source": [
    "# display the expression information\n",
    "expr.exprInfo()"
   ]
  },
  {
   "cell_type": "code",
   "execution_count": null,
   "metadata": {},
   "outputs": [],
   "source": []
  }
 ],
 "metadata": {
  "kernelspec": {
   "display_name": "Python 3",
   "language": "python",
   "name": "python3"
  }
 },
 "nbformat": 4,
 "nbformat_minor": 0
}
