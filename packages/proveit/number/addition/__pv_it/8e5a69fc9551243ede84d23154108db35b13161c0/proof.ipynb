{
 "cells": [
  {
   "cell_type": "markdown",
   "metadata": {},
   "source": [
    "Show the Proof\n",
    "========"
   ]
  },
  {
   "cell_type": "code",
   "execution_count": 1,
   "metadata": {},
   "outputs": [
    {
     "data": {
      "text/html": [
       "<table><tr><th>&nbsp;</th><th>step type</th><th>requirements</th><th>statement</th></tr>\n",
       "<tr><td>0</td><td>specialization</td><td>1, 2</td><td><span style=\"font-size:20px;\"> <a class=\"ProveItLink\" href=\"proof.ipynb\" style=\"text-decoration: none\">&#x22A2;&nbsp;</a><a class=\"ProveItLink\" href=\"../2381324feb31266b124236899586d18a98c9ac900/expr.ipynb\"><img src=\"data:image/png;base64,iVBORw0KGgoAAAANSUhEUgAAAsYAAAAVBAMAAAC3czUuAAAAMFBMVEX////c3NwiIiJERESqqqqY\n",
       "mJh2dnZmZmYQEBDu7u4yMjJUVFTMzMyIiIi6uroAAAAs73DqAAAAAXRSTlMAQObYZgAABVhJREFU\n",
       "WMPtmE9oXEUcx3+b7f7fza5ePBRxUVBvySE9eNHcCgVxveSQQ8lpF8TA0mIisWCjRYxgfCLImhyy\n",
       "tBbpFuIWBJEiyUkFD7s3lSZ08RQKpVVTZaVmnZnfe/PezG9eZxLizYF5u2/2O7/f5/vb3XnzHsD/\n",
       "7b9v433sejt7lGB36VBqcHyqs2alSers3Q7ipooxJZQ/+j3pyc8Si1cGkNnWZqy/Y2UudgG+q0+p\n",
       "Uy4YVCKDVQXwgjommC6ALaArLvdtx+WqJ5ZePAKuUPF+DXvupbDGJ6G0D9DWw1y3Muc9SDThXl+Z\n",
       "kjeoMINNBZ8MtcG2SUkDOuIy3w64XNWF29NHwM1jL/VFz93cCmv8DcAEwIx/lqv4b/b1Adk+9l93\n",
       "AdL7UK7KD/iU1BxVYQaTSgZnqvWbOvRMNJ5sSkCCK/MSXObbAZepCh6M3beaorhcxXqWlZZ3uB3W\n",
       "+H0PtgbQ8s9O+N/z+FAbCNvL/usK+zAKLabkLlIVZjCpZPAVbk+HbkXjyaYEJLgyL8Flvh1wmSq7\n",
       "AoUDqymKy1Ws32FveY/W+EsP3h5Aclp1na7aajyOy0v458MpU1SFGUwqWaK2CVowTenXJCUgwY2v\n",
       "8R0XXK7KDyFzYDVFcYVqChbYcUGrMWsTHqSbquv8t7dqao0/nd9REmXmtIUQpzTApJrwjKoguFBF\n",
       "oXP13W1kamhG1IAEVxZLx0XfNlxfNTa0m1JqLLI1BO5VdrxKalz8k8G2Vdcbk/BQGSiuwmUlUZ6b\n",
       "Kr7WlWFwyhmgKpHBpJIlqmnQPwzyVWQSyqUOb9dpQIIb5CW4wrcVF6sDvTm7qSguZjsjcFfZcTWs\n",
       "cQ4rnZ9kP39thXzFg/eUgVYfTimJsvhv/XkQBMIpe2BQ8QwAn4GuCoILlQ/NVbkPIVlDpj3tdxwN\n",
       "aMAN8hJc9G3D9VVXwG4qgutn2xO4fJk5CGu8gavYef5N3FehlwD+Uga29AWujDXODoNAOKVnUp0X\n",
       "zL+DrgqCl0NooSoIGsHU02ocCWjCDfISXPRtw0VVZhLspiK4frae6FqNWyJWqRv4yXQ6lz/odPj5\n",
       "czD+QBn4wzfT6TyP/1qeKLENyQdBIJzSoyrMALl3QVFFgkehuao8+egaY0CCG8lLcLlvOy5W5xaA\n",
       "g6kQ18+GNb7Ejpf09fg0JCpkrdiHzDA6kPhH/2Fk2VV/Y4jQkSl7VIUZTCq5VkyrC9xTYjxcK849\n",
       "zdszNCDB9fNSXO7bjiuqc6IJj9lNRXD9bLhW8CXqlFbjYhNSFUhp17yHkJ1TBhhbSknEFkwot2Hs\n",
       "tyAQTpkFosIMJlUQPKldRMrsvIZMs/qGTglIcIO8BJf7tuOK6nwP8KrVlHLNw2yzArcRbIYiNX68\n",
       "Xj8HZO/2FbylDnwN8LqSiM8o1eCevATjFG2bw1WYwaSS29umCl1oQjpm76YGJLhBXoLLA9lx+Xni\n",
       "2XqjajWl1BizYXV/ZUfeFz/6oiY3x6MRW7fzAxV6/aeatoWd3/XUjTjnOL34efj4REzZBKLCDCaV\n",
       "vAdhqsybf78hVQu7v/hMm/o9iBKQ4MotrI4rfFtxuWpsNBpVraYUXMy2KZRZ9g/LVkwPTFpxt3Xx\n",
       "99LLpjjktvORKhl8OY6J3ksvu9HRe+mKC66bKtYU6/5jC0Obj3t8Sp+n3o08siEt3T+MSgafiWNK\n",
       "k/QzbnRkwOib4LqpYk3x7j/bpN9B+/DPvPOeYXDt+FSCac0trUu75gLipoo1tSYeFmPXW6FyeOZE\n",
       "1zB44/hUgumGW1qXdtIFxE0Va4r3RB+73naOAv0kHSptH59qx6w0Sd1+E30XEDdVjCnW/wUNYJUy\n",
       "9YZvWQAAAABJRU5ErkJggg==\n",
       "\" style=\"display:inline;vertical-align:middle;\" /></a></span></td></tr>\n",
       "<tr><td>&nbsp;</td><td colspan=4 style=\"text-align:left\"><span style=\"font-size:20px;\"><a class=\"ProveItLink\" href=\"../25f6941e01c3f1a53c460cab763c2f3bbf4f84e30/expr.ipynb\"><img src=\"data:image/png;base64,iVBORw0KGgoAAAANSUhEUgAAAEUAAAAVBAMAAADiLT7tAAAAMFBMVEX///8yMjLMzMwQEBAiIiJm\n",
       "Zma6urqYmJiqqqp2dnZERETc3NyIiIhUVFTu7u4AAAAe+HC4AAAAAXRSTlMAQObYZgAAAQVJREFU\n",
       "KM9jYCAJ5GAVLYNQb89uAJJMF7CqYVUAUyv7C4Ak4wPsxguACL5vL0DUGRxOqAQRHB/AbDscah6D\n",
       "bXQAkWwCONRwNTAwsF/2DQCpnAAX5Z5zuycGzuMEyfIfADEZC+CiLxlKCkzgPA6QBfvBvmNOgItO\n",
       "YDjP0ATnsRkAiX4wkx+h5gHDLST3MIG8NAVdDQODDbqatWAmcwNCmPsTAx+qXRBNXAg3V/N8YDgH\n",
       "57ELgIIZ4UWIR75zGXAfQPE72z+IkcCQ7FoFBA/41sybeRzGAQYK0KE80AC2xh0XtTCHVOJQM4eB\n",
       "wfAJlI0jbfABramMhnkYexrj3YDM24NVzSEGBgDorz1wDkvJZwAAAABJRU5ErkJggg==\n",
       "\" style=\"display:inline;vertical-align:middle;\" /></a> : <a class=\"ProveItLink\" href=\"../eaa4ff206d3b52b2f04eb36d28a0b0b49d16a4890/expr.ipynb\"><img src=\"data:image/png;base64,iVBORw0KGgoAAAANSUhEUgAAAU0AAAAVBAMAAAAwdKHZAAAAMFBMVEX///+6uroyMjLMzMwQEBAi\n",
       "IiKYmJhmZmZUVFSIiIh2dnbc3Nzu7u5ERESqqqoAAABZrPngAAAAAXRSTlMAQObYZgAAAxNJREFU\n",
       "SMfllj9oE1Ecx7/510ubyyUUHJwaDqwdFDIIiout4FCtbQYnF+PgUpeQwWIWMxRRRAwIxUAhWSQ0\n",
       "KBYcqjh4QycVjEvBQXrg1EFMlApKJL5713d3793jrrTZfNCX9pfP732/fb/fvXvA/zSO+kPXfZFI\n",
       "bXiUf6jLhVAmVkWs/dzkUpS8SJ0BNsqfEE4hbfAxPyUZ0Wo4YmADkd98Sk6kTiBVRcMMpaBuCz79\n",
       "lGe83/vMsJXVdXGrWaAOvDCx63xBUxYFarSGpIFEV04xNUKp9x6JPhcDfO7sfU6wJE3sHCcwB3z3\n",
       "+qQpmwIVNxCfQ7Inp5ha3Ao2RJ+b+/D5FGE+I7QsnrrTlLTJU+Ok0n0oPTnF1MYh85l2uiW19mDn\n",
       "ttTnVP0uL6i263kuoDSFPqYpYyU+rULnRF9OMbWK6JOqMQp4hxvFCzKf6l9keFunstECF4gWyXR2\n",
       "yl2apmg53ucknc815RTzOSn6pGqa8yA10cBXmU+tj3jTK6jOIl3kOy9Ln4AZa/7gpESmeZ/0a5yk\n",
       "Sxg+ivmccX1SylZjFGDgobw/lRwyJa9gsiv2Z4b6xAJZV911UmJdnqKNqXSs+WPBRzGfPdcnpWy1\n",
       "mHtKYNZrsqzrV3TdKmWihAmyfYquHzuv66QHMx3bvxOgPl8C2wRTLzspdG0PRR08sR/fDk+5al6f\n",
       "lLLVPD5TP6HK9pOccncM78a8rYn7GTehDgzq05Mi1n3e+r2EN5BSbD/nhf601dy63xztYlXqM4+L\n",
       "nGCG2OH702rXH8A1duzbKSPCc7RFfk4TIUgp5nNL8GmrMQrar/R0qibzmTSVKieYLGGMPwCsU2MF\n",
       "kT8s004Rz6UWqdnVdqsgp5jPluDTViPUty9kGOrnZ+0V7P3Bn0v3bwllrtRXhXOeaGtLZfceQlOi\n",
       "WZ46QlpyMBgU5BTzSSgsLRwvOkapGqOC3kcIfR/hkizf995cD6Kc92Ygta87pe9m6ASk14Q1gRpp\n",
       "BlFMLZg65Igaknur7MY2NOpgIyW5oiZ9BXyF4VEHHK/9ocf+/6Z2COofqpcOWbneqfkAAAAASUVO\n",
       "RK5CYII=\n",
       "\" style=\"display:inline;vertical-align:middle;\" /></a>, <a class=\"ProveItLink\" href=\"../../../../__pv_it/530be409e3083890784cf1d7b28c9e67e90af9360/expr.ipynb\"><img src=\"data:image/png;base64,iVBORw0KGgoAAAANSUhEUgAAAAsAAAAJBAMAAAAWSsseAAAAKlBMVEX///9ERETMzMwQEBAiIiKY\n",
       "mJju7u5mZmaqqqpUVFSIiIh2dnbc3NwAAAA/vyDhAAAAAXRSTlMAQObYZgAAAENJREFUCNdjYDi9\n",
       "8sTyBQxsG1hdmR0YuBm4LnAoMLAxcAowgADzAjB1VoEhgYH1wFoGrgSG3gBhhlMMDImrs3cFMAAA\n",
       "t0YN+iTRa+sAAAAASUVORK5CYII=\n",
       "\" style=\"display:inline;vertical-align:middle;\" /></a> : <a class=\"ProveItLink\" href=\"../659e18478bae3085d8de164ba18217f8e918b5df0/expr.ipynb\"><img src=\"data:image/png;base64,iVBORw0KGgoAAAANSUhEUgAAACIAAAAPBAMAAABzWwAZAAAAMFBMVEX///92dnbMzMyqqqq6urrc\n",
       "3NwiIiKYmJgyMjIQEBBmZmaIiIhUVFTu7u5EREQAAAARlLgAAAAAAXRSTlMAQObYZgAAAHpJREFU\n",
       "GNNjYGB4ywAHUSueAMl7f+ECrAcY9hsw3DmDEOG5wMD2gYGBGyHCOZeB5wuKCMdfBi5UESBg+4su\n",
       "oi8AF7kLEeljgInwfgMLcD1AiMwDi+xhYEA1h3kBQyiqiBYDQymKCGuioFQCA9fKH8vhjvn//38C\n",
       "AwYAAEUsJxGvo1tAAAAAAElFTkSuQmCC\n",
       "\" style=\"display:inline;vertical-align:middle;\" /></a>, <a class=\"ProveItLink\" href=\"../../../../__pv_it/f8b9edf8e16034727f0aad55bb83e392c3db40d40/expr.ipynb\"><img src=\"data:image/png;base64,iVBORw0KGgoAAAANSUhEUgAAAAsAAAANBAMAAACN24kIAAAAMFBMVEX///+YmJhUVFQyMjIQEBBE\n",
       "REQiIiKqqqrMzMyIiIi6urrc3NxmZmZ2dnbu7u4AAADXeCicAAAAAXRSTlMAQObYZgAAAFhJREFU\n",
       "CNdj4LtzgWH/AwZerg8M8xkY2nkSGEIZGB6wTGD4ycDAUP+A4weQOszA6QCkbBhYFYDUIYb1AkDq\n",
       "6czzGxhA4BoQMyXwuQMptgusF4AU+8xTQBIAUqMVoSp/SLMAAAAASUVORK5CYII=\n",
       "\" style=\"display:inline;vertical-align:middle;\" /></a> : <a class=\"ProveItLink\" href=\"../../../numeral/__pv_it/77d407a64829263cdc16415becd4c2293f77a4bf0/expr.ipynb\"><img src=\"data:image/png;base64,iVBORw0KGgoAAAANSUhEUgAAAAkAAAAOBAMAAAAPuiubAAAAMFBMVEX///+YmJh2dnbMzMwQEBAi\n",
       "IiLu7u6qqqqIiIhUVFS6urpEREQyMjJmZmbc3NwAAACOMKdoAAAAAXRSTlMAQObYZgAAAFBJREFU\n",
       "CNdj4Lt7egEDw0sGju8MDNMYGOIZGFwSGOYvYDifwHAfKAEUSQASzJ9ATJ4NIPI2iOCYACJrGfge\n",
       "MDBfYGB8wPBUSekqUPH//18ZAIliFhc3zESNAAAAAElFTkSuQmCC\n",
       "\" style=\"display:inline;vertical-align:middle;\" /></a></span></td></tr><tr><td>1</td><td>axiom</td><td></td><td><span style=\"font-size:20px;\"> <a class=\"ProveItLink\" href=\"../../../../logic/equality/_axioms_.ipynb#substitution\" style=\"text-decoration: none\">&#x22A2;&nbsp;</a><a class=\"ProveItLink\" href=\"../398f54eae8bb3b5e6faf9c5a7a2ed97d055770700/expr.ipynb\"><img src=\"data:image/png;base64,iVBORw0KGgoAAAANSUhEUgAAAO8AAAAXBAMAAAARnwX+AAAAMFBMVEX///8QEBC6urrMzMxUVFRm\n",
       "ZmZERETc3NwyMjKqqqp2dnaIiIiYmJgiIiLu7u4AAAAU9Wx4AAAAAXRSTlMAQObYZgAAAvdJREFU\n",
       "SMfFVj1oFEEUfvef293bHKayECJYpIk5wcYqRyRGTBPUQgyiNonCgVuI8QfNIggWEq5QsLttDglB\n",
       "OTAemhRZJIVoc7UorE0QLXIYMIUiznszO7O3uznJQfDBm/123jfzZt+99+YA/pd4vS5MNqLYGPw3\n",
       "/63QFr586MHxURzMyQmJUc7EEEOcTInrIr4s9OCY1mQXf3es74shhjk21xvskbu0e786RW7zcFVi\n",
       "irUTZYY577n2sR85U9294wQlRy2AKazFKDPM+cLVeDY3d7eHSA/ReCGASa5GmWFOtsr158zMxx4c\n",
       "n8dh/cC4j28v33rFolmPEBXHrDsw74E2BaTHAWYxSOON6O5dquMRjb98bDrGpwSrkKeUuA9JytDJ\n",
       "0ZJtWAPI21wPgYl5llmZiu7eJen24ZDb8rEGejvPiuRghKg4xzItmGEFXeRaAN1lhkLc13Vx/AOH\n",
       "fNvHJqSJPBohKo6XaODnp9pcdbeACdfv9eBYaymcaMQ7DnBqXmpLOTZt7CnGtWk0L40ts3glmyL7\n",
       "uWM+SW2vKctiPyVoWeH5ErZfCnXmMwlfHeCcA72oQg2zY2h4R6fzTiRYon/vt46oL6bJk5gtDWkA\n",
       "qKivRGxYa6B7YpvOgpcceECnMGyu8IRiQXWQ5Ml6bxiayrGY7DAI/uagj2vuZbgDceWkOHAWRlyQ\n",
       "5SSOVOG0bRpPwWTwN96Wu/gGgGEcRjwfb6x8W8IcvR9xrDiwsXrRYr1ykCsYniwPSBVT/GUg4Bgn\n",
       "r1CopYEdl20BrwN4p5bZwXmuWqa/4g/ATWtUszX2gIFkWzmmSSG+ga4Do1wJXw1auAsFOemWiSm2\n",
       "JBTEVzEP7sab6RfsAY+btnJMk0J8A11ziYVW8IpE+RpJrQCn4GQdoHZl2upk+Gu7HLs5K92IrWNp\n",
       "YHIdjLolsZCJsOMgJ796mj3TFldxga+zSk3x15SVdYbiG4g04CECUfWxXtq54/icl0LF/xEMuiEO\n",
       "yY7mxDuWhr2W8t5t/RfNBeNeS11EOAAAAABJRU5ErkJggg==\n",
       "\" style=\"display:inline;vertical-align:middle;\" /></a></span></td></tr>\n",
       "<tr><td>&nbsp;</td><td colspan=4 style-\"text-align:left\"><a class=\"ProveItLink\" href=\"../../../../logic/equality/_axioms_.ipynb#substitution\">proveit.logic.equality.substitution</a></td></tr><tr><td>2</td><td>theorem</td><td></td><td><span style=\"font-size:20px;\"> <a class=\"ProveItLink\" href=\"../../../numeral/deci/_proofs_/mult_1_2.ipynb\" style=\"text-decoration: none\">&#x22A2;&nbsp;</a><a class=\"ProveItLink\" href=\"../../../numeral/deci/__pv_it/fa57aacdebccac68bd6a2c4c50f2eb8e7102aaa60/expr.ipynb\"><img src=\"data:image/png;base64,iVBORw0KGgoAAAANSUhEUgAAAFcAAAAVBAMAAADBdm84AAAAMFBMVEX////c3NwiIiJERESqqqqY\n",
       "mJh2dnZmZmYQEBDu7u4yMjJUVFTMzMyIiIi6uroAAAAs73DqAAAAAXRSTlMAQObYZgAAAR9JREFU\n",
       "KM9jYCAJ8F3AFIvDpfg0EDNPgHMZyxc/YGA/gK4KLMzAsJKBgdMeoViagfcLA8MCdMUQYd4LDJy7\n",
       "9yMU72Rg0GdgCENXDBHmAKm7j1DcMYFh/wOGGeiKIcKvGFAVr5/AUP+AgdkBTTFEuAxNMRDoT2Bg\n",
       "K8AMCaDwUgzFPN8YGFjAPqxaBQKrEcJ9CMWcEC1cBsDAb8AwGCT8D6F4vgJYtBhkzAcMxSBhJMUz\n",
       "DEAk7wasisHCLehudmdgFIA6o0gJBJQRwqZoinkKGFgFGFjRoxAinI6mWCgtrYgBM+ggwo+ArPL+\n",
       "5QHw0Pz//xPQ6w/QAxkszCGALSnOwJ5CWROwiebiSM8rsYhxLsChWBqLGLcADsWMWLLVHexKAdfT\n",
       "V45jFfkQAAAAAElFTkSuQmCC\n",
       "\" style=\"display:inline;vertical-align:middle;\" /></a></span></td></tr>\n",
       "<tr><td>&nbsp;</td><td colspan=4 style-\"text-align:left\"><a class=\"ProveItLink\" href=\"../../../numeral/deci/_proofs_/mult_1_2.ipynb\">proveit.number.numeral.deci.mult_1_2</a></td></tr></table>"
      ],
      "text/plain": [
       "<proveit._core_.proof._ShowProof at 0x7f95000bad30>"
      ]
     },
     "execution_count": 1,
     "metadata": {},
     "output_type": "execute_result"
    }
   ],
   "source": [
    "import proveit\n",
    "%show_proof"
   ]
  },
  {
   "cell_type": "code",
   "execution_count": null,
   "metadata": {},
   "outputs": [],
   "source": []
  }
 ],
 "metadata": {
  "kernelspec": {
   "display_name": "Python 3",
   "language": "python",
   "name": "python3"
  }
 },
 "nbformat": 4,
 "nbformat_minor": 0
}
