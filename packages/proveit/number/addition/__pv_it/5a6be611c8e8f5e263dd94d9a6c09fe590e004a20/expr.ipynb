{
 "cells": [
  {
   "cell_type": "markdown",
   "metadata": {},
   "source": [
    "Expression of type <a class=\"ProveItLink\" href=\"../../../../../../doc/html/api/proveit.logic.InSet.html\">InSet</a>\n",
    "=======================\n",
    "# from context <a class=\"ProveItLink\" href=\"../../_context_.ipynb\">proveit.number.addition</a>"
   ]
  },
  {
   "cell_type": "code",
   "execution_count": 1,
   "metadata": {},
   "outputs": [],
   "source": [
    "# import Expression classes needed to build the expression\n",
    "from proveit._common_ import b, c\n",
    "from proveit.logic import InSet\n",
    "from proveit.number import Complexes, Exp, three"
   ]
  },
  {
   "cell_type": "code",
   "execution_count": 2,
   "metadata": {},
   "outputs": [
    {
     "data": {
      "text/html": [
       "<strong id=\"expr\">expr:</strong> <a class=\"ProveItLink\" href=\"expr.ipynb\"><img src=\"data:image/png;base64,iVBORw0KGgoAAAANSUhEUgAAAGwAAAAZBAMAAAAmp9aMAAAAMFBMVEX////c3NwiIiJERESqqqqY\n",
       "mJh2dnZmZmYQEBDu7u4yMjJUVFTMzMyIiIi6uroAAAAs73DqAAAAAXRSTlMAQObYZgAAAgJJREFU\n",
       "OMtjYCAZcOZmTyBdFwN7APsCMrRxF7B+YCAHsC0gS9uMBwwMfBdwSLI+wCEx1wxInEYKox0KUNbs\n",
       "JiBRg6Hh0qofygXAQDFgYFiJJMy1AcZaDeKh6zr3j2HaX6ASxi8MvMhu5HeAsb6AXJmA5mruAAYG\n",
       "/w3yDxi/MnAgR917GIfvJ8jNDRCn31JSAgddJAco1jZMEmDtZHiFbF4SPIjBnjQBs09FQgULpEGG\n",
       "XOC5my3AUAZipt09APHR3a1QT+69DXRQOojJaAkLsIJnCAuWAvGJB1xg0zk/M/BD9M83YPjDwOAF\n",
       "YjILQFXyJLgitPUBVfcyMAeA2Cw/GTggweA/gaGNgeEFiDmZAa7tKULbP2AigyUxYBLlLwCzqhgY\n",
       "vjMwnAcxXygpQYKE0+AYijZ+AyibqYDhPdhaBnUGvq9QbYjksJIboa2FgUH+AiLa6idAo439J9SR\n",
       "k+BKw8DaIApMgaqBNgRwgrQdAPoIxACGB8iTUeB8EgDTxhwHNJ9PE8xOB2UgBrYD84Fhye3AvoEB\n",
       "xGDYwlDNAI0ATj24dbttJ8wzhtj2CIjL7t5kmPERqGJvKQOYwTD7OsiOdWAVUvAkzVP0vxuaLThg\n",
       "0fKQAZ0BTVwM3ouUMPIlPL3CvQBnsF3Ak1VX4tQ2C18Ol4ZQvDA+nMGwEZ82RlxO4T2AWxMAmPt8\n",
       "d/thBAgAAAAASUVORK5CYII=\n",
       "\" style=\"display:inline;vertical-align:middle;\" /></a><br>"
      ],
      "text/plain": [
       "expr: (c , b , b) in Complexes^{3}"
      ]
     },
     "execution_count": 2,
     "metadata": {},
     "output_type": "execute_result"
    }
   ],
   "source": [
    "# build up the expression from sub-expressions\n",
    "expr = InSet([c, b, b], Exp(Complexes, three))"
   ]
  },
  {
   "cell_type": "code",
   "execution_count": 3,
   "metadata": {},
   "outputs": [
    {
     "name": "stdout",
     "output_type": "stream",
     "text": [
      "Passed sanity check: built 'expr' is the same as the stored Expression.\n"
     ]
    }
   ],
   "source": [
    "# check that the built expression is the same as the stored expression\n",
    "%check_expr"
   ]
  },
  {
   "cell_type": "code",
   "execution_count": 4,
   "metadata": {},
   "outputs": [
    {
     "data": {
      "text/html": [
       "<table><tr><th>&nbsp;</th><th>core type</th><th>sub-expressions</th><th>expression</th></tr>\n",
       "<tr><td>0</td><td>Operation</td><td>operator:&nbsp;1<br>operands:&nbsp;2<br></td><td><a class=\"ProveItLink\" href=\"expr.ipynb\"><img src=\"data:image/png;base64,iVBORw0KGgoAAAANSUhEUgAAAGwAAAAZBAMAAAAmp9aMAAAAMFBMVEX////c3NwiIiJERESqqqqY\n",
       "mJh2dnZmZmYQEBDu7u4yMjJUVFTMzMyIiIi6uroAAAAs73DqAAAAAXRSTlMAQObYZgAAAgJJREFU\n",
       "OMtjYCAZcOZmTyBdFwN7APsCMrRxF7B+YCAHsC0gS9uMBwwMfBdwSLI+wCEx1wxInEYKox0KUNbs\n",
       "JiBRg6Hh0qofygXAQDFgYFiJJMy1AcZaDeKh6zr3j2HaX6ASxi8MvMhu5HeAsb6AXJmA5mruAAYG\n",
       "/w3yDxi/MnAgR917GIfvJ8jNDRCn31JSAgddJAco1jZMEmDtZHiFbF4SPIjBnjQBs09FQgULpEGG\n",
       "XOC5my3AUAZipt09APHR3a1QT+69DXRQOojJaAkLsIJnCAuWAvGJB1xg0zk/M/BD9M83YPjDwOAF\n",
       "YjILQFXyJLgitPUBVfcyMAeA2Cw/GTggweA/gaGNgeEFiDmZAa7tKULbP2AigyUxYBLlLwCzqhgY\n",
       "vjMwnAcxXygpQYKE0+AYijZ+AyibqYDhPdhaBnUGvq9QbYjksJIboa2FgUH+AiLa6idAo439J9SR\n",
       "k+BKw8DaIApMgaqBNgRwgrQdAPoIxACGB8iTUeB8EgDTxhwHNJ9PE8xOB2UgBrYD84Fhye3AvoEB\n",
       "xGDYwlDNAI0ATj24dbttJ8wzhtj2CIjL7t5kmPERqGJvKQOYwTD7OsiOdWAVUvAkzVP0vxuaLThg\n",
       "0fKQAZ0BTVwM3ouUMPIlPL3CvQBnsF3Ak1VX4tQ2C18Ol4ZQvDA+nMGwEZ82RlxO4T2AWxMAmPt8\n",
       "d/thBAgAAAAASUVORK5CYII=\n",
       "\" style=\"display:inline;vertical-align:middle;\" /></a></td></tr>\n",
       "<tr><td>1</td><td>Literal</td><td></td><td><a class=\"ProveItLink\" href=\"../../../../logic/set_theory/membership/__pv_it/088cbc857536a28d4119ad9639a84270ccb0545d0/expr.ipynb\"><img src=\"data:image/png;base64,iVBORw0KGgoAAAANSUhEUgAAAAwAAAAMBAMAAACkW0HUAAAALVBMVEX///+qqqpmZmZUVFQQEBC6\n",
       "urpERETc3NyYmJjMzMwiIiIyMjKIiIju7u4AAACYsrA9AAAAAXRSTlMAQObYZgAAADxJREFUCNdj\n",
       "YOA9vWrVBgaG2b0MQMCeCyIZ2ArA1DUwyRCyahVIyWQI7xaEYm4AU7xLIdxqTQgtvGvVBgCkcQ7e\n",
       "geM/tQAAAABJRU5ErkJggg==\n",
       "\" style=\"display:inline;vertical-align:middle;\" /></a></td></tr>\n",
       "<tr><td>2</td><td>ExprTuple</td><td>3, 4</td><td><a class=\"ProveItLink\" href=\"../16f354e26e6754e237dff3b5b9fa1b96b54caed40/expr.ipynb\"><img src=\"data:image/png;base64,iVBORw0KGgoAAAANSUhEUgAAAHAAAAAcBAMAAABL+CZZAAAAMFBMVEX///+qqqp2dnYiIiJERESI\n",
       "iIhmZmYQEBDc3NyYmJgyMjLu7u5UVFTMzMy6uroAAACGxKilAAAAAXRSTlMAQObYZgAAAipJREFU\n",
       "OMudVE9IFGEU/2nu7szuztq1Ls5lPRl4EAki2KIOQYcB2boYLHgrA8lLoNQe6hJCk3QqiIWgQ0UM\n",
       "Rggi7QYVJUHiWXQJIr2Yi1qKrPXe53yzb2f1MH4w837z5v2+78f78wERVyrb4+EoK+7GSz5ci0RM\n",
       "F8x12IysSsQz20tYZDsTVfJ0FTGH7Ff++HlIkFltcb07T6/TgDESkjs7KsFNQRl4+bevQOnJAYNk\n",
       "CCIp5b6WINnwL+1haotOMGpA2UOCxeSllpoEph2oTrtAV+Vh1dgBjrlYZueY4GV2JUiNaP/TBFex\n",
       "8rZojim5VzmkJLPd2wTOaX9hgvdxrHxPkY5fxxzvw3qmstdUQPLToCtAt261wo9mWZc5hAKsO3iu\n",
       "fOUc6gKc9EMt+4QgWnW8IMMJmnZwSfm6PNwS4FdAXBVEYw/9ZDqJ+F37rgN/BFjWUnMLckZqAXFT\n",
       "+/qR2RFAE/Eq3XwiVzlxHMZWo3rxXQG0VEwqot8pRh0fyXRQcmhzU7nrSNgNgCcsjGM7nlFnZ874\n",
       "Wd3GAFeM2u4zcCq1QR8fMIwA7JejrCr67aL3/oJ/ItXxN/PpRzyb91J3qbazV1wEAHjDg7St8jr0\n",
       "b7zamMnOebK3dV2LYbDfcivh2Uo6SHPXTOpGRhi088jCDRPLRVi9YqxaiTM4kPjY72LDH2RH/wjA\n",
       "F37FWq6Bs/Q8YHD/kKsjNn/wjcLT32ZHv1zvqfej6MQbOPr6D4wxlNKqqku9AAAAAElFTkSuQmCC\n",
       "\" style=\"display:inline;vertical-align:middle;\" /></a></td></tr>\n",
       "<tr><td>3</td><td>ExprTuple</td><td>5, 6, 6</td><td><a class=\"ProveItLink\" href=\"../30217ad8341ec0871974c51a226d179985840d820/expr.ipynb\"><img src=\"data:image/png;base64,iVBORw0KGgoAAAANSUhEUgAAADkAAAAVBAMAAAAOWFv7AAAAMFBMVEX////c3NwiIiJERESqqqqY\n",
       "mJh2dnZmZmYQEBDu7u4yMjJUVFTMzMyIiIi6uroAAAAs73DqAAAAAXRSTlMAQObYZgAAAQ9JREFU\n",
       "KM990q1Pw0AYx/Ev7KVvbMUj4E/A4PsnVCHJggBFUsMsCIKDVM5RgyCYGRIMyUkSzCwJTQYSsxEU\n",
       "hvDcKH2OkVHRfO5+l3ue6xX+f7qjBcGOfT3oOLjdcOAZ0ZWzPBy6KKDjbhwnLrbBz510krsYwKvb\n",
       "yO4vNBL6tom90swmr8sbFO2MS/H9OJw1G7wTG0Wz4Fx8RiO1k80P/J6ie8wnRNOqmlcQZ4qVqU3j\n",
       "zSpdzpikCklPYH2kpzzKFbLzlljWp4GdNJxSg1bBvtTNaJsL6TpKvCE17IleZGm/fGTwJs3fHaIg\n",
       "HOOvVkWfmYd8yVavcso8Dpwb/JMGcoOsfbvzE9aIbM2lRX/OE3wBLmVNAZyMr0QAAAAASUVORK5C\n",
       "YII=\n",
       "\" style=\"display:inline;vertical-align:middle;\" /></a></td></tr>\n",
       "<tr><td>4</td><td>Operation</td><td>operator:&nbsp;7<br>operands:&nbsp;8<br></td><td><a class=\"ProveItLink\" href=\"../7ef71547f87fa9cc26b3db442466b8307b39b2f00/expr.ipynb\"><img src=\"data:image/png;base64,iVBORw0KGgoAAAANSUhEUgAAABcAAAAUBAMAAACUkLs9AAAAMFBMVEX////c3NyqqqqYmJhUVFR2\n",
       "dnbu7u66urrMzMxmZmZEREQQEBAyMjIiIiKIiIgAAAB7fvZ0AAAAAXRSTlMAQObYZgAAAJJJREFU\n",
       "GNNjYICC1KduDHAwmWEOguPJYM+ABGKQ2GzbkdivAkAU353ze1cC6VlAzFFfwBb/BMiQV2BgMHBm\n",
       "YGD6wvidQd6AgTlhA1B0CttFBusEBk5GByAnj6HvqSMDQyZ7AMLIViYDJA47EieLA0kZT4IDgsMc\n",
       "AOKwQXmL64BEbQKEw+L1jK1qGUxh5/3f7hAWAEuSH0rgFzQbAAAAAElFTkSuQmCC\n",
       "\" style=\"display:inline;vertical-align:middle;\" /></a></td></tr>\n",
       "<tr><td>5</td><td>Variable</td><td></td><td><a class=\"ProveItLink\" href=\"../../../../__pv_it/cbdfda466482236edba0ce44ac7ef39cda0af7a40/expr.ipynb\"><img src=\"data:image/png;base64,iVBORw0KGgoAAAANSUhEUgAAAAkAAAAJBAMAAAASvxsjAAAALVBMVEX///9mZmbc3NxUVFSYmJhE\n",
       "REQiIiIyMjK6uroQEBDMzMyIiIh2dnbu7u4AAABgFDGoAAAAAXRSTlMAQObYZgAAADZJREFUCNdj\n",
       "YOA9s3sBA8PKBvYEBt7ZDKwODMwPGICALwBE6m0Asx0YGIDiAgw8QJUyu/cyAAAmuwmycZ8WfQAA\n",
       "AABJRU5ErkJggg==\n",
       "\" style=\"display:inline;vertical-align:middle;\" /></a></td></tr>\n",
       "<tr><td>6</td><td>Variable</td><td></td><td><a class=\"ProveItLink\" href=\"../../../../__pv_it/6840a4fa6c106149dc16a131294d0c5e44f1b0480/expr.ipynb\"><img src=\"data:image/png;base64,iVBORw0KGgoAAAANSUhEUgAAAAkAAAAOBAMAAAAPuiubAAAALVBMVEX///9mZmbMzMxERESYmJiI\n",
       "iIh2dna6urqqqqoyMjIiIiIQEBBUVFTu7u4AAAD9S1JeAAAAAXRSTlMAQObYZgAAAE1JREFUCNdj\n",
       "4D29gAEIOA+ASL4GEFl3AURmgQiGOaFHGBh4HzPwKTBwvGXgTmBgnMDAJ8DAJcBQ5wBSLncBJLWN\n",
       "gYGngRFoBO9REQYGAGrcDtUkVqASAAAAAElFTkSuQmCC\n",
       "\" style=\"display:inline;vertical-align:middle;\" /></a></td></tr>\n",
       "<tr><td>7</td><td>Literal</td><td></td><td><a class=\"ProveItLink\" href=\"../../../exponentiation/__pv_it/deb2bf23cbccdd6e6791e1b35b5b9794ce12dbd50/expr.ipynb\"><img src=\"data:image/png;base64,iVBORw0KGgoAAAANSUhEUgAAACgAAAASBAMAAADbMYGVAAAAMFBMVEX///8QEBAiIiKYmJjc3Nzu\n",
       "7u7MzMx2dnZmZma6urpERESqqqoyMjJUVFSIiIgAAAAoDOMTAAAAAXRSTlMAQObYZgAAAOBJREFU\n",
       "GNNjYGB4+//u3Tt/GNAASGAXmhjnPyDBgSbI/g1IxKEJ8nxgYGdgQRPkX8BgDKRY6q7s62OYvmze\n",
       "2wAgb/7ZO1+AVDiDkYEQQ0HTBr4DQF59AgOIKmB4z7CNbcNZBu6vQN55kEACQwDDLQYGVobfDHwg\n",
       "fb8YGBxYHwAZciD3fWXg+gB1JjvQcJZvQIXsCgz8F6DO9GBgMOH7wPCUgaeBwd4B7EwGNjUG7s9c\n",
       "AiwPgO5jkWRgiF3/9+5dfQUG1nWl5Y+B7pv+1gE9bBhqGLCAE1jEWH9jEbT5A3IwAC4sP/1L6Qlu\n",
       "AAAAAElFTkSuQmCC\n",
       "\" style=\"display:inline;vertical-align:middle;\" /></a></td></tr>\n",
       "<tr><td>8</td><td>ExprTuple</td><td>9, 10</td><td><a class=\"ProveItLink\" href=\"../0736190636db428f8a7c6e653a85d0c03823a4f10/expr.ipynb\"><img src=\"data:image/png;base64,iVBORw0KGgoAAAANSUhEUgAAAC8AAAAVBAMAAAAk6KpUAAAAMFBMVEX////c3NwiIiJERESqqqqY\n",
       "mJh2dnZmZmYQEBDu7u4yMjJUVFTMzMyIiIi6uroAAAAs73DqAAAAAXRSTlMAQObYZgAAAShJREFU\n",
       "KM9jYMAJ+C5gisWBiNNAzKu1vskcIsaTluzAwH4AyFoJ5Lx/wJl/GyIhzsD3l4FhAVAx0KSArQwM\n",
       "LL8hEvkODJ8YGMIYGDgmMLBOaACKVEMk/MESMxgYXjEwsDNuAIrMhbsGaBSzA0MZA8N0vgRkJ3EB\n",
       "lbEVMCxlYDjGEoAkfmw1kGBZwNAHZPIhSzDwAoX4Ghj+MTBM5kExiqF/AgPPB5AE14QNCFEZBgb7\n",
       "AJBECwMDawJIghMszvl/AkgCaJQpkGf6Fkg8mgCW+sXAoC/AwLqAIR3I4d58k/OxJcN8BSD7KgPf\n",
       "N7BzH4GUHdf/sQ/o3Y8gh5ZXOQCtfcDAIYCw+CGcNQNkM0IC4Z1cSLBjSHACg51BGuFlOIsbZD4j\n",
       "lqi9w8AAALbHRdYWLCV8AAAAAElFTkSuQmCC\n",
       "\" style=\"display:inline;vertical-align:middle;\" /></a></td></tr>\n",
       "<tr><td>9</td><td>Literal</td><td></td><td><a class=\"ProveItLink\" href=\"../../../sets/complex/__pv_it/c357845f93a5a2d9f649129d299e7ec28dda4b960/expr.ipynb\"><img src=\"data:image/png;base64,iVBORw0KGgoAAAANSUhEUgAAAA8AAAAOBAMAAAACpFvcAAAAMFBMVEX////c3NyqqqqYmJhUVFR2\n",
       "dnbu7u66urrMzMxmZmZEREQQEBAyMjIiIiKIiIgAAAB7fvZ0AAAAAXRSTlMAQObYZgAAAGVJREFU\n",
       "CNdjYGDgu3N+70oGBgaO+gK2+CdAhoEzAwPTFwYG5oQNQN4UBgZORgcgI4+BIZM9gAEMWpkMoAx2\n",
       "KCOLAyrFk+AAYTAHgBhsQLy4DkjUJjAwsHg9Y6taBpLsvP/bnYEBACkBFGQfBv8RAAAAAElFTkSu\n",
       "QmCC\n",
       "\" style=\"display:inline;vertical-align:middle;\" /></a></td></tr>\n",
       "<tr><td>10</td><td>Literal</td><td></td><td><a class=\"ProveItLink\" href=\"../../../numeral/__pv_it/9176d93c83afa2c995b614976e3cb49207102fa70/expr.ipynb\"><img src=\"data:image/png;base64,iVBORw0KGgoAAAANSUhEUgAAAAoAAAAOBAMAAADkjZCYAAAAMFBMVEX///+YmJju7u4QEBBUVFQy\n",
       "MjIiIiKIiIi6urpmZmbc3NyqqqpERER2dnbMzMwAAAB0GlNiAAAAAXRSTlMAQObYZgAAAE1JREFU\n",
       "CNdjYHh79zQDA9cEhv4CBt7fDPwJDNxgEgiAIkAQAsR8Vx1ATIbiBhDJ/ImB6wEDz0cG/U8gkj+A\n",
       "ge0XA7sAQ/8FBoadM6MZAEflFACalZ/OAAAAAElFTkSuQmCC\n",
       "\" style=\"display:inline;vertical-align:middle;\" /></a></td></tr>\n",
       "</table>\n"
      ],
      "text/plain": [
       "0. (c , b , b) in Complexes^{3}\n",
       "   core type: Operation\n",
       "   operator: 1\n",
       "   operands: 2\n",
       "1. in\n",
       "   core type: Literal\n",
       "   sub-expressions: \n",
       "2. ((c , b , b) , Complexes^{3})\n",
       "   core type: ExprTuple\n",
       "   sub-expressions: 3, 4\n",
       "3. (c , b , b)\n",
       "   core type: ExprTuple\n",
       "   sub-expressions: 5, 6, 6\n",
       "4. Complexes^{3}\n",
       "   core type: Operation\n",
       "   operator: 7\n",
       "   operands: 8\n",
       "5. c\n",
       "   core type: Variable\n",
       "   sub-expressions: \n",
       "6. b\n",
       "   core type: Variable\n",
       "   sub-expressions: \n",
       "7. Exp\n",
       "   core type: Literal\n",
       "   sub-expressions: \n",
       "8. (Complexes , 3)\n",
       "   core type: ExprTuple\n",
       "   sub-expressions: 9, 10\n",
       "9. Complexes\n",
       "   core type: Literal\n",
       "   sub-expressions: \n",
       "10. 3\n",
       "    core type: Literal\n",
       "    sub-expressions: "
      ]
     },
     "execution_count": 4,
     "metadata": {},
     "output_type": "execute_result"
    }
   ],
   "source": [
    "# display the expression information\n",
    "expr.exprInfo()"
   ]
  },
  {
   "cell_type": "code",
   "execution_count": null,
   "metadata": {},
   "outputs": [],
   "source": []
  }
 ],
 "metadata": {
  "kernelspec": {
   "display_name": "Python 3",
   "language": "python",
   "name": "python3"
  }
 },
 "nbformat": 4,
 "nbformat_minor": 0
}
