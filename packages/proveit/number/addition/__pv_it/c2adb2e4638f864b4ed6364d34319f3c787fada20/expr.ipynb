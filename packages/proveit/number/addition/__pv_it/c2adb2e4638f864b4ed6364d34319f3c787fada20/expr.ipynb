{
 "cells": [
  {
   "cell_type": "markdown",
   "metadata": {},
   "source": [
    "Expression of type <a class=\"ProveItLink\" href=\"../../../../../../doc/html/api/proveit.logic.InSet.html\">InSet</a>\n",
    "=======================\n",
    "# from context <a class=\"ProveItLink\" href=\"../../_context_.ipynb\">proveit.number.addition</a>"
   ]
  },
  {
   "cell_type": "code",
   "execution_count": 1,
   "metadata": {},
   "outputs": [],
   "source": [
    "# import Expression classes needed to build the expression\n",
    "from proveit._common_ import b, c\n",
    "from proveit.logic import InSet\n",
    "from proveit.number import Complexes, Exp, eight, one, three, two"
   ]
  },
  {
   "cell_type": "code",
   "execution_count": 2,
   "metadata": {},
   "outputs": [
    {
     "data": {
      "text/html": [
       "<strong id=\"expr\">expr:</strong> <a class=\"ProveItLink\" href=\"expr.ipynb\"><img src=\"data:image/png;base64,iVBORw0KGgoAAAANSUhEUgAAAMsAAAAZBAMAAABtI8ckAAAAMFBMVEX////c3NwiIiJERESqqqqY\n",
       "mJh2dnZmZmYQEBDu7u4yMjJUVFTMzMyIiIi6uroAAAAs73DqAAAAAXRSTlMAQObYZgAAAqBJREFU\n",
       "SMe9lU1oE0EUx/9JN9nsJpuNeFDwYMjBQxFaoUW8aG6Cp/XqKXpIwYsRbP0EpYjgQV3MoaKUxo8i\n",
       "paBRCYii7KkVPLTeLCUY60UESesHGoXG2ZndyU42LhViBnb2lzfZ+b99781b4L+PSPU4ejDeoNgL\n",
       "mT1QeyHz2NrWC5mtP06TObnYpUzX/rKg7dtJ5tdBzypP021Ag83GljN7HZrLDwHn/AL9D8d340Ri\n",
       "wARmAn1Uy+2AYoPdQ2W8yzIqoL7oT3SiXlOOLSslqAa04Jjp2Xa49dyRiZsIr1KKfoOeRiTX9qxR\n",
       "AaTfoUFoBmJmoEzdbAdojkzsMuLrlCQqo1xg9sk7mX6aLNM2nMVt26FPwYk94gMuozYgr3N3SFCG\n",
       "WKimHYfkkB3nSUzkDwNjdn7zVYsl2gez1QpE4DJkhDnOkmuE0mb3tSeSnihOk+tVTWV15APlK3RL\n",
       "AEFmwdkocdR2/ADlXe7inGS0ZK6SLa6gj1r8IDUQywkgyNzl9Jacmo/00UEuk/TIkOjGVx32g1yC\n",
       "XhDAKyPzLREjxgUbkuOZDCuBYiInyOjuv/0QJifCEMArs+zcQxb6vjsyCX6+VLPckrkIbHePjh/I\n",
       "aTlvCuCRkQrYRGGqQWVY0Hi3iORsGYX9GCZbEDcN+2cHsHAJAjAZSvPAQdjaegnhNeAQXa7wNxj+\n",
       "TKYV5hypwngBUWsq3RGychkCMBmbQjvyI2nli20xUM+5BX2dt9D4kyXlg9MAV8g1Vl3CjbVOoLwY\n",
       "hQiQT/0apRRuNptp5VqK2PafvEfmByxR9y1XZ37g50u3RFIOvMc/QIuSKd7NnWYjPWOVJn4m3Krj\n",
       "Rb4RaFGEm6KBTXimWzI3A5uj86HWeGfcAHio9QqPAmVCXfpIa1bA4h/YyNslxKPjawAAAABJRU5E\n",
       "rkJggg==\n",
       "\" style=\"display:inline;vertical-align:middle;\" /></a><br>"
      ],
      "text/plain": [
       "expr: (c , c , c , b , b , 1 , 2 , 3) in Complexes^{8}"
      ]
     },
     "execution_count": 2,
     "metadata": {},
     "output_type": "execute_result"
    }
   ],
   "source": [
    "# build up the expression from sub-expressions\n",
    "expr = InSet([c, c, c, b, b, one, two, three], Exp(Complexes, eight))"
   ]
  },
  {
   "cell_type": "code",
   "execution_count": 3,
   "metadata": {},
   "outputs": [
    {
     "name": "stdout",
     "output_type": "stream",
     "text": [
      "Passed sanity check: built 'expr' is the same as the stored Expression.\n"
     ]
    }
   ],
   "source": [
    "# check that the built expression is the same as the stored expression\n",
    "%check_expr"
   ]
  },
  {
   "cell_type": "code",
   "execution_count": 4,
   "metadata": {},
   "outputs": [
    {
     "data": {
      "text/html": [
       "<table><tr><th>&nbsp;</th><th>core type</th><th>sub-expressions</th><th>expression</th></tr>\n",
       "<tr><td>0</td><td>Operation</td><td>operator:&nbsp;1<br>operands:&nbsp;2<br></td><td><a class=\"ProveItLink\" href=\"expr.ipynb\"><img src=\"data:image/png;base64,iVBORw0KGgoAAAANSUhEUgAAAMsAAAAZBAMAAABtI8ckAAAAMFBMVEX////c3NwiIiJERESqqqqY\n",
       "mJh2dnZmZmYQEBDu7u4yMjJUVFTMzMyIiIi6uroAAAAs73DqAAAAAXRSTlMAQObYZgAAAqBJREFU\n",
       "SMe9lU1oE0EUx/9JN9nsJpuNeFDwYMjBQxFaoUW8aG6Cp/XqKXpIwYsRbP0EpYjgQV3MoaKUxo8i\n",
       "paBRCYii7KkVPLTeLCUY60UESesHGoXG2ZndyU42LhViBnb2lzfZ+b99781b4L+PSPU4ejDeoNgL\n",
       "mT1QeyHz2NrWC5mtP06TObnYpUzX/rKg7dtJ5tdBzypP021Ag83GljN7HZrLDwHn/AL9D8d340Ri\n",
       "wARmAn1Uy+2AYoPdQ2W8yzIqoL7oT3SiXlOOLSslqAa04Jjp2Xa49dyRiZsIr1KKfoOeRiTX9qxR\n",
       "AaTfoUFoBmJmoEzdbAdojkzsMuLrlCQqo1xg9sk7mX6aLNM2nMVt26FPwYk94gMuozYgr3N3SFCG\n",
       "WKimHYfkkB3nSUzkDwNjdn7zVYsl2gez1QpE4DJkhDnOkmuE0mb3tSeSnihOk+tVTWV15APlK3RL\n",
       "AEFmwdkocdR2/ADlXe7inGS0ZK6SLa6gj1r8IDUQywkgyNzl9Jacmo/00UEuk/TIkOjGVx32g1yC\n",
       "XhDAKyPzLREjxgUbkuOZDCuBYiInyOjuv/0QJifCEMArs+zcQxb6vjsyCX6+VLPckrkIbHePjh/I\n",
       "aTlvCuCRkQrYRGGqQWVY0Hi3iORsGYX9GCZbEDcN+2cHsHAJAjAZSvPAQdjaegnhNeAQXa7wNxj+\n",
       "TKYV5hypwngBUWsq3RGychkCMBmbQjvyI2nli20xUM+5BX2dt9D4kyXlg9MAV8g1Vl3CjbVOoLwY\n",
       "hQiQT/0apRRuNptp5VqK2PafvEfmByxR9y1XZ37g50u3RFIOvMc/QIuSKd7NnWYjPWOVJn4m3Krj\n",
       "Rb4RaFGEm6KBTXimWzI3A5uj86HWeGfcAHio9QqPAmVCXfpIa1bA4h/YyNslxKPjawAAAABJRU5E\n",
       "rkJggg==\n",
       "\" style=\"display:inline;vertical-align:middle;\" /></a></td></tr>\n",
       "<tr><td>1</td><td>Literal</td><td></td><td><a class=\"ProveItLink\" href=\"../../../../logic/set_theory/membership/__pv_it/088cbc857536a28d4119ad9639a84270ccb0545d0/expr.ipynb\"><img src=\"data:image/png;base64,iVBORw0KGgoAAAANSUhEUgAAAAwAAAAMBAMAAACkW0HUAAAALVBMVEX///+qqqpmZmZUVFQQEBC6\n",
       "urpERETc3NyYmJjMzMwiIiIyMjKIiIju7u4AAACYsrA9AAAAAXRSTlMAQObYZgAAADxJREFUCNdj\n",
       "YOA9vWrVBgaG2b0MQMCeCyIZ2ArA1DUwyRCyahVIyWQI7xaEYm4AU7xLIdxqTQgtvGvVBgCkcQ7e\n",
       "geM/tQAAAABJRU5ErkJggg==\n",
       "\" style=\"display:inline;vertical-align:middle;\" /></a></td></tr>\n",
       "<tr><td>2</td><td>ExprTuple</td><td>3, 4</td><td><a class=\"ProveItLink\" href=\"../3cb5d559bbbf5ca223bf739c822c38f79154ccb10/expr.ipynb\"><img src=\"data:image/png;base64,iVBORw0KGgoAAAANSUhEUgAAANAAAAAcBAMAAADioCyIAAAAMFBMVEX///+qqqp2dnYiIiJERESI\n",
       "iIhmZmYQEBDc3NyYmJgyMjLu7u5UVFTMzMy6uroAAACGxKilAAAAAXRSTlMAQObYZgAAAvtJREFU\n",
       "SMe9lk9IFFEcx7+r7jg7szPuqWvLltAl9BQRxNolEAMXYqlIaaOQykCpQ0GgA/2DMJiicwwU0kFw\n",
       "CFPo4kJWWJHioVOQUIGn1r9lmdn7zcwb3+zsbodcH+zs5/1+7833ze/9fm8GqHKLZc9hW9pxjHD8\n",
       "VlWhNihAkkjLV1XoxfQA8JHouV1Vodvfu4FohtEkdb9u0W0fhizR9oPsuh+Qe/8ZPvV1cxEAdV4c\n",
       "5K7Hsy5pqd0JSNOCxIHhy4dxWkuzoR2AlGM2pXL4lHwxqO3ejAFEF1y6BX0FsPxJWmFWbepQLSgm\n",
       "MG6jnhaUrRyQhkQRqO+mPKG3QNqlpgSWgPv+JJPtSeS33IIoE6o18YmM1yoLFexiwCmPrtiYcmO3\n",
       "0xEa8wvVpj25iCeIs6FSC46xrm5VFtoVAl9o2EaPt0lO6Or4w0syhfkZRlN7SHYeb8hIBfW0sdMd\n",
       "Eoah7GQR+EKspW1hB2tyXmdUTwpL1ddwhEawKGp9eORuYgjUZTRMB0AU0hY9mBlilwgPzkzEFIS0\n",
       "dQyyP0qIsQxaHVsYImuoTwZAFFJa/HzuY0vv5UK6KCT/wT5KJiY0xW1hkCw05AIgCp3dvF2/DW3e\n",
       "4xFNDJ264Astc1sYanMomAEQhKK8tO4C7eamkGLng09Ega1PQF7hphBQ9fTYARCEdkA2nDVv2CTk\n",
       "hy6WJCGV32wdE3SesGX+ZD7Q7DCwBLjkTPHBFSKflkPMcEy/WP4ZiFn89q10fn721qOv4ijcnHwF\n",
       "7FVZxZWAeELKY7xZAEfI8V1Ppc64phPQF730dvrxiZPqlzb+fPMokB5zSI1ZW+03SoH68jzLwVUB\n",
       "0NU/aDq+9MbGkmuKdF1gxapQ9Tp9fEj/eM+jX2O5hXGV15VRFjAXghI+7wiaCx3LGcQpC/lRGENZ\n",
       "gBmCEj40FvW9Nm5AaxZeE/8tpFqlhR6w3yHKPi/nM9wRhmgISvgQN4J93ugte4fg5ha9yjvLfNxR\n",
       "LkaS1f+4u+Fc71VfqBvb1/4CQXvwtYDDtuoAAAAASUVORK5CYII=\n",
       "\" style=\"display:inline;vertical-align:middle;\" /></a></td></tr>\n",
       "<tr><td>3</td><td>ExprTuple</td><td>5, 5, 5, 6, 6, 7, 8, 9</td><td><a class=\"ProveItLink\" href=\"../7934af84894d3d26a6ebe26fd2756c96ecd2b84d0/expr.ipynb\"><img src=\"data:image/png;base64,iVBORw0KGgoAAAANSUhEUgAAAJkAAAAVBAMAAACnAFEqAAAAMFBMVEX////c3NwiIiJERESqqqqY\n",
       "mJh2dnZmZmYQEBDu7u4yMjJUVFTMzMyIiIi6uroAAAAs73DqAAAAAXRSTlMAQObYZgAAAfpJREFU\n",
       "OMut1DFIG1EYB/D/oZfk4uVyuDhUsFvHuDh0MptjbuoogpAuBkNLtdihpZTSxeRAkEAGQ8VBHHQQ\n",
       "RIqYqRS6ZBEpNnDt2MmmaUpEG7937y733gUSwWTI/fLy8f/uvXf3gOF+jNqQgubZ19e+JeW3YQCP\n",
       "vauyuu1w6dnFNKJV0m7/jns92Gh7eIBEk2sCxg1QARIDJtoMo/zJTzsGUlzLaTSAJ0DM7r+q7TCQ\n",
       "8PXBximfasZNKwG/+t9a5GEYQdq+jdeO34xmOpLGClHL1qt8cDP3XUb85MKSEaTRJ+XPLH5ADfPY\n",
       "IX5x4ryzXsBHGVvTuJYhpuktD5/ZHo1WUKBbW8cI71uqYUZGxsZ7GWJafLo7fcox3uA/MHbpj532\n",
       "YA34J0NMex7MuWhDv2RpyW6HPz14BOOvDCEtceBhEpi1WNo7YMp/5JSbMOgpi7ZlCGlzUEx21To2\n",
       "S6OZ0vIkadEsjQ1TdxW2iGvEFmS4aW61nodqurqi3TWhVvCU1i2PSHWL7eoRsKQ1RBziFWS4aW71\n",
       "eDb7jOsMRst9Qn7Sj5X6N5R+E6K5uq0VTQHlcwsyoi+vXvDqVKfT4BpdXUvTDjuImd4i/Oi+TOZg\n",
       "BNWC6M1SFzxb/qB6BwTVgnLCiXTvNK3inlJ837t/1+6AoDrQGFsGZVgnOR0Tt5iXqa8JTdUfAAAA\n",
       "AElFTkSuQmCC\n",
       "\" style=\"display:inline;vertical-align:middle;\" /></a></td></tr>\n",
       "<tr><td>4</td><td>Operation</td><td>operator:&nbsp;10<br>operands:&nbsp;11<br></td><td><a class=\"ProveItLink\" href=\"../b2044584d206c92c78e503f276272b652231f9750/expr.ipynb\"><img src=\"data:image/png;base64,iVBORw0KGgoAAAANSUhEUgAAABcAAAAUBAMAAACUkLs9AAAAMFBMVEX////c3NyqqqqYmJhUVFR2\n",
       "dnbu7u66urrMzMxmZmZEREQQEBAyMjIiIiKIiIgAAAB7fvZ0AAAAAXRSTlMAQObYZgAAAJlJREFU\n",
       "GNNjYIAC5ncTGeDgIUMWgrOMgQfB8W0QQXCkf05DcPjW3wBTd87vXckwieN+AgMDR30BW/wTtgMM\n",
       "PAYMDAbODAxMXxgXMPAZMDAnbAAqncJwkIElgYGT0QHIyWPIDA1kYMhkD0AY2cpkgMRhR+JkcSAp\n",
       "40lwQHCYA0AcNihvcR2QqE2AcFi8nrFVLYMp7Lz/2x3CAgB+ciHxr6/q/gAAAABJRU5ErkJggg==\n",
       "\" style=\"display:inline;vertical-align:middle;\" /></a></td></tr>\n",
       "<tr><td>5</td><td>Variable</td><td></td><td><a class=\"ProveItLink\" href=\"../../../../__pv_it/cbdfda466482236edba0ce44ac7ef39cda0af7a40/expr.ipynb\"><img src=\"data:image/png;base64,iVBORw0KGgoAAAANSUhEUgAAAAkAAAAJBAMAAAASvxsjAAAALVBMVEX///9mZmbc3NxUVFSYmJhE\n",
       "REQiIiIyMjK6uroQEBDMzMyIiIh2dnbu7u4AAABgFDGoAAAAAXRSTlMAQObYZgAAADZJREFUCNdj\n",
       "YOA9s3sBA8PKBvYEBt7ZDKwODMwPGICALwBE6m0Asx0YGIDiAgw8QJUyu/cyAAAmuwmycZ8WfQAA\n",
       "AABJRU5ErkJggg==\n",
       "\" style=\"display:inline;vertical-align:middle;\" /></a></td></tr>\n",
       "<tr><td>6</td><td>Variable</td><td></td><td><a class=\"ProveItLink\" href=\"../../../../__pv_it/6840a4fa6c106149dc16a131294d0c5e44f1b0480/expr.ipynb\"><img src=\"data:image/png;base64,iVBORw0KGgoAAAANSUhEUgAAAAkAAAAOBAMAAAAPuiubAAAALVBMVEX///9mZmbMzMxERESYmJiI\n",
       "iIh2dna6urqqqqoyMjIiIiIQEBBUVFTu7u4AAAD9S1JeAAAAAXRSTlMAQObYZgAAAE1JREFUCNdj\n",
       "4D29gAEIOA+ASL4GEFl3AURmgQiGOaFHGBh4HzPwKTBwvGXgTmBgnMDAJ8DAJcBQ5wBSLncBJLWN\n",
       "gYGngRFoBO9REQYGAGrcDtUkVqASAAAAAElFTkSuQmCC\n",
       "\" style=\"display:inline;vertical-align:middle;\" /></a></td></tr>\n",
       "<tr><td>7</td><td>Literal</td><td></td><td><a class=\"ProveItLink\" href=\"../../../numeral/__pv_it/9be8badea4c35b9724062cecc501d17a3158d1d20/expr.ipynb\"><img src=\"data:image/png;base64,iVBORw0KGgoAAAANSUhEUgAAAAgAAAAPBAMAAAArJJMAAAAAHlBMVEX///+YmJgyMjIQEBBmZmaI\n",
       "iIhUVFTu7u5EREQAAAAw+MI4AAAAAXRSTlMAQObYZgAAACFJREFUCNdjYGBoZ2BgqJjOwFCWBiQY\n",
       "WEklWJwnOTKAAACjEQo8HvEr3AAAAABJRU5ErkJggg==\n",
       "\" style=\"display:inline;vertical-align:middle;\" /></a></td></tr>\n",
       "<tr><td>8</td><td>Literal</td><td></td><td><a class=\"ProveItLink\" href=\"../../../numeral/__pv_it/77d407a64829263cdc16415becd4c2293f77a4bf0/expr.ipynb\"><img src=\"data:image/png;base64,iVBORw0KGgoAAAANSUhEUgAAAAkAAAAOBAMAAAAPuiubAAAAMFBMVEX///+YmJh2dnbMzMwQEBAi\n",
       "IiLu7u6qqqqIiIhUVFS6urpEREQyMjJmZmbc3NwAAACOMKdoAAAAAXRSTlMAQObYZgAAAFBJREFU\n",
       "CNdj4Lt7egEDw0sGju8MDNMYGOIZGFwSGOYvYDifwHAfKAEUSQASzJ9ATJ4NIPI2iOCYACJrGfge\n",
       "MDBfYGB8wPBUSekqUPH//18ZAIliFhc3zESNAAAAAElFTkSuQmCC\n",
       "\" style=\"display:inline;vertical-align:middle;\" /></a></td></tr>\n",
       "<tr><td>9</td><td>Literal</td><td></td><td><a class=\"ProveItLink\" href=\"../../../numeral/__pv_it/9176d93c83afa2c995b614976e3cb49207102fa70/expr.ipynb\"><img src=\"data:image/png;base64,iVBORw0KGgoAAAANSUhEUgAAAAoAAAAOBAMAAADkjZCYAAAAMFBMVEX///+YmJju7u4QEBBUVFQy\n",
       "MjIiIiKIiIi6urpmZmbc3NyqqqpERER2dnbMzMwAAAB0GlNiAAAAAXRSTlMAQObYZgAAAE1JREFU\n",
       "CNdjYHh79zQDA9cEhv4CBt7fDPwJDNxgEgiAIkAQAsR8Vx1ATIbiBhDJ/ImB6wEDz0cG/U8gkj+A\n",
       "ge0XA7sAQ/8FBoadM6MZAEflFACalZ/OAAAAAElFTkSuQmCC\n",
       "\" style=\"display:inline;vertical-align:middle;\" /></a></td></tr>\n",
       "<tr><td>10</td><td>Literal</td><td></td><td><a class=\"ProveItLink\" href=\"../../../exponentiation/__pv_it/deb2bf23cbccdd6e6791e1b35b5b9794ce12dbd50/expr.ipynb\"><img src=\"data:image/png;base64,iVBORw0KGgoAAAANSUhEUgAAACgAAAASBAMAAADbMYGVAAAAMFBMVEX///8QEBAiIiKYmJjc3Nzu\n",
       "7u7MzMx2dnZmZma6urpERESqqqoyMjJUVFSIiIgAAAAoDOMTAAAAAXRSTlMAQObYZgAAAOBJREFU\n",
       "GNNjYGB4+//u3Tt/GNAASGAXmhjnPyDBgSbI/g1IxKEJ8nxgYGdgQRPkX8BgDKRY6q7s62OYvmze\n",
       "2wAgb/7ZO1+AVDiDkYEQQ0HTBr4DQF59AgOIKmB4z7CNbcNZBu6vQN55kEACQwDDLQYGVobfDHwg\n",
       "fb8YGBxYHwAZciD3fWXg+gB1JjvQcJZvQIXsCgz8F6DO9GBgMOH7wPCUgaeBwd4B7EwGNjUG7s9c\n",
       "AiwPgO5jkWRgiF3/9+5dfQUG1nWl5Y+B7pv+1gE9bBhqGLCAE1jEWH9jEbT5A3IwAC4sP/1L6Qlu\n",
       "AAAAAElFTkSuQmCC\n",
       "\" style=\"display:inline;vertical-align:middle;\" /></a></td></tr>\n",
       "<tr><td>11</td><td>ExprTuple</td><td>12, 13</td><td><a class=\"ProveItLink\" href=\"../590eed5fe43ac3b3b5e0856f5d422feedc22c8ac0/expr.ipynb\"><img src=\"data:image/png;base64,iVBORw0KGgoAAAANSUhEUgAAAC8AAAAVBAMAAAAk6KpUAAAAMFBMVEX////c3NwiIiJERESqqqqY\n",
       "mJh2dnZmZmYQEBDu7u4yMjJUVFTMzMyIiIi6uroAAAAs73DqAAAAAXRSTlMAQObYZgAAATFJREFU\n",
       "KM9jYMAJ+C5gisWBiNNAzKu1vskcIsaZlu7AwH4AyFrJwMDz/gFn/m2IBDsDQykDwwKgYqBJAVsZ\n",
       "GFh+QyRCGRgmMTCEMTBwTGBgndAAFKmGSGSDJWYwMLwC6mbcABSZC5Hw38mQy8DA7MBQxsAwnS8B\n",
       "4SDm/7FAHlsBw1IGhmMsAUhOrf8kALRxAUMfUIIPSYK1Zv0XoOcaGP4xMEzmQTIqnIH1/wQGng8g\n",
       "Ca4JGxASnQwM8gEgiRag7gSQBCfE40CXs18AGWUK5Jm+BRKPJoClGhkYuAUYWBcwpAM53Jtvcj62\n",
       "ZJivAGR7TWBwAzv3EUjZcf0f+4De/QgK7O3lDkBrHzBwCCAsfghnzQDZjJBAeCcXEuwYEpzAYGeQ\n",
       "hovzwlncIPMZsUTtHQYGABVCRj4GJBsNAAAAAElFTkSuQmCC\n",
       "\" style=\"display:inline;vertical-align:middle;\" /></a></td></tr>\n",
       "<tr><td>12</td><td>Literal</td><td></td><td><a class=\"ProveItLink\" href=\"../../../sets/complex/__pv_it/c357845f93a5a2d9f649129d299e7ec28dda4b960/expr.ipynb\"><img src=\"data:image/png;base64,iVBORw0KGgoAAAANSUhEUgAAAA8AAAAOBAMAAAACpFvcAAAAMFBMVEX////c3NyqqqqYmJhUVFR2\n",
       "dnbu7u66urrMzMxmZmZEREQQEBAyMjIiIiKIiIgAAAB7fvZ0AAAAAXRSTlMAQObYZgAAAGVJREFU\n",
       "CNdjYGDgu3N+70oGBgaO+gK2+CdAhoEzAwPTFwYG5oQNQN4UBgZORgcgI4+BIZM9gAEMWpkMoAx2\n",
       "KCOLAyrFk+AAYTAHgBhsQLy4DkjUJjAwsHg9Y6taBpLsvP/bnYEBACkBFGQfBv8RAAAAAElFTkSu\n",
       "QmCC\n",
       "\" style=\"display:inline;vertical-align:middle;\" /></a></td></tr>\n",
       "<tr><td>13</td><td>Literal</td><td></td><td><a class=\"ProveItLink\" href=\"../../../numeral/__pv_it/7ca36d8558dd5f18c1e16b5e877a0b7e314926450/expr.ipynb\"><img src=\"data:image/png;base64,iVBORw0KGgoAAAANSUhEUgAAAAoAAAAOBAMAAADkjZCYAAAAMFBMVEX///+6uroQEBAyMjLMzMzc\n",
       "3NxERESIiIhUVFQiIiKYmJiqqqpmZmZ2dnbu7u4AAAACo3QQAAAAAXRSTlMAQObYZgAAAFlJREFU\n",
       "CNdjYHh79zQDA8MBBp4FDFwLGPgmMPA2gEjuHw94CxgY8n/VAmV5/k8Fkmuc/29g4DrAsP4fA9MD\n",
       "BtZfDI+AgscZmAIYGFoZuO0YuC8wMEicOc0AAC98GKTiu3IvAAAAAElFTkSuQmCC\n",
       "\" style=\"display:inline;vertical-align:middle;\" /></a></td></tr>\n",
       "</table>\n"
      ],
      "text/plain": [
       "0. (c , c , c , b , b , 1 , 2 , 3) in Complexes^{8}\n",
       "   core type: Operation\n",
       "   operator: 1\n",
       "   operands: 2\n",
       "1. in\n",
       "   core type: Literal\n",
       "   sub-expressions: \n",
       "2. ((c , c , c , b , b , 1 , 2 , 3) , Complexes^{8})\n",
       "   core type: ExprTuple\n",
       "   sub-expressions: 3, 4\n",
       "3. (c , c , c , b , b , 1 , 2 , 3)\n",
       "   core type: ExprTuple\n",
       "   sub-expressions: 5, 5, 5, 6, 6, 7, 8, 9\n",
       "4. Complexes^{8}\n",
       "   core type: Operation\n",
       "   operator: 10\n",
       "   operands: 11\n",
       "5. c\n",
       "   core type: Variable\n",
       "   sub-expressions: \n",
       "6. b\n",
       "   core type: Variable\n",
       "   sub-expressions: \n",
       "7. 1\n",
       "   core type: Literal\n",
       "   sub-expressions: \n",
       "8. 2\n",
       "   core type: Literal\n",
       "   sub-expressions: \n",
       "9. 3\n",
       "   core type: Literal\n",
       "   sub-expressions: \n",
       "10. Exp\n",
       "    core type: Literal\n",
       "    sub-expressions: \n",
       "11. (Complexes , 8)\n",
       "    core type: ExprTuple\n",
       "    sub-expressions: 12, 13\n",
       "12. Complexes\n",
       "    core type: Literal\n",
       "    sub-expressions: \n",
       "13. 8\n",
       "    core type: Literal\n",
       "    sub-expressions: "
      ]
     },
     "execution_count": 4,
     "metadata": {},
     "output_type": "execute_result"
    }
   ],
   "source": [
    "# display the expression information\n",
    "expr.exprInfo()"
   ]
  },
  {
   "cell_type": "code",
   "execution_count": null,
   "metadata": {},
   "outputs": [],
   "source": []
  }
 ],
 "metadata": {
  "kernelspec": {
   "display_name": "Python 3",
   "language": "python",
   "name": "python3"
  }
 },
 "nbformat": 4,
 "nbformat_minor": 0
}
