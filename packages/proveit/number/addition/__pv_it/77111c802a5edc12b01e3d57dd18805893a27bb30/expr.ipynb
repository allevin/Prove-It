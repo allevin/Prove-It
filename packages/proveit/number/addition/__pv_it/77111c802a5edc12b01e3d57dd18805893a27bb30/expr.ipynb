{
 "cells": [
  {
   "cell_type": "markdown",
   "metadata": {},
   "source": [
    "Expression of type <a class=\"ProveItLink\" href=\"../../../../../../doc/html/api/proveit.logic.InSet.html\">InSet</a>\n",
    "=======================\n",
    "# from context <a class=\"ProveItLink\" href=\"../../_context_.ipynb\">proveit.number.addition</a>"
   ]
  },
  {
   "cell_type": "code",
   "execution_count": 1,
   "metadata": {},
   "outputs": [],
   "source": [
    "# import Expression classes needed to build the expression\n",
    "from proveit._common_ import b, c\n",
    "from proveit.logic import InSet\n",
    "from proveit.number import Complexes, Exp, four, seven, three, two"
   ]
  },
  {
   "cell_type": "code",
   "execution_count": 2,
   "metadata": {},
   "outputs": [
    {
     "data": {
      "text/html": [
       "<strong id=\"expr\">expr:</strong> <a class=\"ProveItLink\" href=\"expr.ipynb\"><img src=\"data:image/png;base64,iVBORw0KGgoAAAANSUhEUgAAALgAAAAZBAMAAABwXfm/AAAAMFBMVEX////c3NwiIiJERESqqqqY\n",
       "mJh2dnZmZmYQEBDu7u4yMjJUVFTMzMyIiIi6uroAAAAs73DqAAAAAXRSTlMAQObYZgAAAp9JREFU\n",
       "SMe1lUFoE0EUhv8k22Q3u8lGRDwUMaQg6KmiHjwouYioB+NF0IMsHlLQyyJYQQRFRRBRg4eiQm2x\n",
       "FokFiQdBDIU9VUGwwZMiwSoo4qFprUJzMOvbmZ1NdpOmh5CByX6ZmffPzHtvZoA+leihB4V+aUO1\n",
       "7ZX+iS8u7u2buARpAf0rW6gmKz1JDKy5vhLVdx3alVfpAGDzxf0uzeV3ewPJ+FKb9Ydnq0MmNEe8\n",
       "2GnWeCkAoRK+ZDmZqHmbHaIRQdv3DYz9KyFmAImOXtGzAVALCC/xBP4DXWwncY38YgT8pOaAoyWE\n",
       "6SN3TPVaIQDyTagNngYt4pumyHNXOI8/zuxwvidk+omVoJP4r47BOB2EeB2xhje12K1B4uAR0Kbd\n",
       "ZZiDTqwqkCnSow7mqxaPn4CZ6kv4AQjXBc0ID6Qc8RHGG11txfzRXOM01bcLcb5RAcoKdMsHVOZd\n",
       "52pnRLTH4YgfZrzTbdOMA03xO6RwG5EckxIg1SEbPqAy5dl8dHPbYG0/memwJ/69KU6OVJfEfSAg\n",
       "Ngnd9AHhsGcjcwdJFhOfdzh5NZNhAVWG53ziujDzIEy5nPMB8NntC1mI/GU0hqa4JlyFotoUvw5s\n",
       "FcH3gLL7csEHkExsYDBRF+JHyuXVWeEWkZ04zsS50R6wjMwpaAULN+ADvAGOMRN9EuFl1xh0iHCS\n",
       "kZdUkVO0xOR2xpRIqomoNZFuhSydAh+EtuVH0spv51TmUDMYueI8Fe95F1h5X+HRLj75N6qj1U+4\n",
       "v9wCyux5+CFs23ZauZuiQQcvPAEnnLWp+zkPxVORsto5+5Y7k5xy275ifUim2kkcf+k1P/6+e0ak\n",
       "cQ7rwwDaKdrtPSj2KP6w21My6N6e4n8XQKUDvegmHurtmUtYa/f9BwIxyV6OBJNmAAAAAElFTkSu\n",
       "QmCC\n",
       "\" style=\"display:inline;vertical-align:middle;\" /></a><br>"
      ],
      "text/plain": [
       "expr: (c , c , b , b , 2 , 3 , 4) in Complexes^{7}"
      ]
     },
     "execution_count": 2,
     "metadata": {},
     "output_type": "execute_result"
    }
   ],
   "source": [
    "# build up the expression from sub-expressions\n",
    "expr = InSet([c, c, b, b, two, three, four], Exp(Complexes, seven))"
   ]
  },
  {
   "cell_type": "code",
   "execution_count": 3,
   "metadata": {},
   "outputs": [
    {
     "name": "stdout",
     "output_type": "stream",
     "text": [
      "Passed sanity check: built 'expr' is the same as the stored Expression.\n"
     ]
    }
   ],
   "source": [
    "# check that the built expression is the same as the stored expression\n",
    "%check_expr"
   ]
  },
  {
   "cell_type": "code",
   "execution_count": 4,
   "metadata": {},
   "outputs": [
    {
     "data": {
      "text/html": [
       "<table><tr><th>&nbsp;</th><th>core type</th><th>sub-expressions</th><th>expression</th></tr>\n",
       "<tr><td>0</td><td>Operation</td><td>operator:&nbsp;1<br>operands:&nbsp;2<br></td><td><a class=\"ProveItLink\" href=\"expr.ipynb\"><img src=\"data:image/png;base64,iVBORw0KGgoAAAANSUhEUgAAALgAAAAZBAMAAABwXfm/AAAAMFBMVEX////c3NwiIiJERESqqqqY\n",
       "mJh2dnZmZmYQEBDu7u4yMjJUVFTMzMyIiIi6uroAAAAs73DqAAAAAXRSTlMAQObYZgAAAp9JREFU\n",
       "SMe1lUFoE0EUhv8k22Q3u8lGRDwUMaQg6KmiHjwouYioB+NF0IMsHlLQyyJYQQRFRRBRg4eiQm2x\n",
       "FokFiQdBDIU9VUGwwZMiwSoo4qFprUJzMOvbmZ1NdpOmh5CByX6ZmffPzHtvZoA+leihB4V+aUO1\n",
       "7ZX+iS8u7u2buARpAf0rW6gmKz1JDKy5vhLVdx3alVfpAGDzxf0uzeV3ewPJ+FKb9Ydnq0MmNEe8\n",
       "2GnWeCkAoRK+ZDmZqHmbHaIRQdv3DYz9KyFmAImOXtGzAVALCC/xBP4DXWwncY38YgT8pOaAoyWE\n",
       "6SN3TPVaIQDyTagNngYt4pumyHNXOI8/zuxwvidk+omVoJP4r47BOB2EeB2xhje12K1B4uAR0Kbd\n",
       "ZZiDTqwqkCnSow7mqxaPn4CZ6kv4AQjXBc0ID6Qc8RHGG11txfzRXOM01bcLcb5RAcoKdMsHVOZd\n",
       "52pnRLTH4YgfZrzTbdOMA03xO6RwG5EckxIg1SEbPqAy5dl8dHPbYG0/memwJ/69KU6OVJfEfSAg\n",
       "Ngnd9AHhsGcjcwdJFhOfdzh5NZNhAVWG53ziujDzIEy5nPMB8NntC1mI/GU0hqa4JlyFotoUvw5s\n",
       "FcH3gLL7csEHkExsYDBRF+JHyuXVWeEWkZ04zsS50R6wjMwpaAULN+ADvAGOMRN9EuFl1xh0iHCS\n",
       "kZdUkVO0xOR2xpRIqomoNZFuhSydAh+EtuVH0spv51TmUDMYueI8Fe95F1h5X+HRLj75N6qj1U+4\n",
       "v9wCyux5+CFs23ZauZuiQQcvPAEnnLWp+zkPxVORsto5+5Y7k5xy275ifUim2kkcf+k1P/6+e0ak\n",
       "cQ7rwwDaKdrtPSj2KP6w21My6N6e4n8XQKUDvegmHurtmUtYa/f9BwIxyV6OBJNmAAAAAElFTkSu\n",
       "QmCC\n",
       "\" style=\"display:inline;vertical-align:middle;\" /></a></td></tr>\n",
       "<tr><td>1</td><td>Literal</td><td></td><td><a class=\"ProveItLink\" href=\"../../../../logic/set_theory/membership/__pv_it/088cbc857536a28d4119ad9639a84270ccb0545d0/expr.ipynb\"><img src=\"data:image/png;base64,iVBORw0KGgoAAAANSUhEUgAAAAwAAAAMBAMAAACkW0HUAAAALVBMVEX///+qqqpmZmZUVFQQEBC6\n",
       "urpERETc3NyYmJjMzMwiIiIyMjKIiIju7u4AAACYsrA9AAAAAXRSTlMAQObYZgAAADxJREFUCNdj\n",
       "YOA9vWrVBgaG2b0MQMCeCyIZ2ArA1DUwyRCyahVIyWQI7xaEYm4AU7xLIdxqTQgtvGvVBgCkcQ7e\n",
       "geM/tQAAAABJRU5ErkJggg==\n",
       "\" style=\"display:inline;vertical-align:middle;\" /></a></td></tr>\n",
       "<tr><td>2</td><td>ExprTuple</td><td>3, 4</td><td><a class=\"ProveItLink\" href=\"../b020f6a95c001a42506d726171ed9cc05e21eb810/expr.ipynb\"><img src=\"data:image/png;base64,iVBORw0KGgoAAAANSUhEUgAAAL0AAAAcBAMAAADGuaNIAAAAMFBMVEX///+qqqp2dnYiIiJERESI\n",
       "iIhmZmYQEBDc3NyYmJgyMjLu7u5UVFTMzMy6uroAAACGxKilAAAAAXRSTlMAQObYZgAAAyNJREFU\n",
       "SMe1Vs9LVFEU/mbUNz/evHH+gXKybBGEQwuhNtomkKIGwiJSGiKCJEh0Exg6mySCaGoR0aIG+rEK\n",
       "ekQlpOAEWhjiiAtXgUIGrhwzs2zS6Z5773mOOuMieRfmzXfPvfd7537nxwzgztgzMAA3R7ZQaNJw\n",
       "3g3+8flZ2yuRlXGDP4Ldmvm97YpA/jjQQmCUHt92RvZ4qykkPhVJ8Z6OchoNdmlgfopp1Nd+UgGr\n",
       "dl+E94nDxsT6saojr7qOAV8IClojIUCwpEYvGQT16/0ZXFC0fQj/5NUKkShp55CVmzHrW4GL5Fge\n",
       "8M1AC7VlfGdQrX0N2ahYkKg+gh+8elbw33cOpYTenr/AYZqIxzR9d5eiD+cZ5fT1fN0IrUlUs87v\n",
       "fyT4+3lrwCa9rwIrNLsk3k5M6VL8XlYde1mnPIw1fjvr4w0K/kqOhuEnLd8CPTR7AnwmY1Q8Xte1\n",
       "qS0MgiOtKR2IllFH7PymmOAh8XsTevYuHC1yUVz8BO0VPFYPnqoAMRhqwqrKnyVUc4JM6+OTHHwz\n",
       "TvweVmDSkyrin57AC6gY98fRLG0OqLHRKYEnDx979cxJwx4tD4g/3MH84WL+uzNooPwQ/FmnMzFo\n",
       "B5aVpmlU6/sbTc7ZXhX0XZLfWtDWN1axPkMRh3+JbQ5oQHhFaZ5ATnvVqtfuAKekyYxu5A/amY3+\n",
       "k46+CPycDg4Q6W/kOf2vKWc9CdySrAVb83vGxrI34uv6BKLEbzL/BIbFV2VK5msAxOKAVVKdgAhu\n",
       "pzoyJdJFmv4AjUnN4hP+B9LM2kyt7KsumFwSp6Gy6yNw0KSaccAHUSYShCJGBkOiGvyHavfHpOkc\n",
       "wovSpPllfsp5aPi8OXtc+y/yP0e1IhaMuhbb7E0WgcEzKUhgjlwRafVbBKJQKMSkyXO5PSJNgjq7\n",
       "nEKQuoyaTzX+GmeJD0Bl9nUuymRZgDmUN+n+MLe5BTwX96F84vYUQFmA1DYm1G2a69oTF7JiRf35\n",
       "f/nNdEn+AFXLUdXY5YjzylZQhW1MoeTGOTcr0v42oZs7+31sK21+ICsk6tZ/IL9qJvfc4jdsuD7+\n",
       "AV5n3U0rHMqKAAAAAElFTkSuQmCC\n",
       "\" style=\"display:inline;vertical-align:middle;\" /></a></td></tr>\n",
       "<tr><td>3</td><td>ExprTuple</td><td>5, 5, 6, 6, 7, 8, 9</td><td><a class=\"ProveItLink\" href=\"../b2fd365cdb93799ca6a371f52c4daffc87543d120/expr.ipynb\"><img src=\"data:image/png;base64,iVBORw0KGgoAAAANSUhEUgAAAIUAAAAVBAMAAACakjBMAAAAMFBMVEX////c3NwiIiJERESqqqqY\n",
       "mJh2dnZmZmYQEBDu7u4yMjJUVFTMzMyIiIi6uroAAAAs73DqAAAAAXRSTlMAQObYZgAAAelJREFU\n",
       "OMut1D1M20AYBuDXjuPYDonTiaEDmTozlBVlY2FwFwaGKmIIElIlLwWJpQwIqUK0GdmwBAyIJUsl\n",
       "JITw1FZiaEZQG5F27JLwJ5SF8J3vzuQcC6TSG+JHvvPr++7OAf5HKzaf9fhb9nOS0mEflBPA6PKk\n",
       "0NfaazlupIFcSNe9tHSnkYDWwHmFy0dHTl0fBwKgkFqKW0kgX4fejWRew5WTO6WMGcCqp2V06glY\n",
       "H5G/i2Q8ZGizlLEJ/E1dqbkknB5yd/EbxNxNhzIyFSyylau1Qr6EEvutL1BBxfek9sX1DcswfeyS\n",
       "v7cdPjsJ+wpuqIDaj6rYjAWxznaTZRgBPpE3kPGimxJGD1ZVAbXtuNLTNi8FLKO4Aioy3xV9MXIB\n",
       "XF8BcTzOsHhV01HGSJdluLI3hk5nwFMA/BR9WojMTTTrqsxYBcbkEYlBp+JDXQEMHy8ibPVEhnF4\n",
       "eLzeZLVM0EB6k2djECHWoADfaBvA4twA+gV4sEXzyAaYp2XwYYZb5UFUcg0o0F7V5sv2JT1X8NCp\n",
       "RuIZtLd/iIutM2xeDMA+eg8Ver/fL9ufSzRoamkHXObxrQenDask1uA3nkaxNCw661m5/R6eRhbD\n",
       "ejfw7f9jhk3fPl5yF+TNR4DmsPKsKO15/4W/gHs2/piYsTowZwAAAABJRU5ErkJggg==\n",
       "\" style=\"display:inline;vertical-align:middle;\" /></a></td></tr>\n",
       "<tr><td>4</td><td>Operation</td><td>operator:&nbsp;10<br>operands:&nbsp;11<br></td><td><a class=\"ProveItLink\" href=\"../82b56ce75573d5948785f1ad6fc8a5d08b6e7b970/expr.ipynb\"><img src=\"data:image/png;base64,iVBORw0KGgoAAAANSUhEUgAAABcAAAAUBAMAAACUkLs9AAAAMFBMVEX////c3NyqqqqYmJhUVFR2\n",
       "dnbu7u66urrMzMxmZmZEREQQEBAyMjIiIiKIiIgAAAB7fvZ0AAAAAXRSTlMAQObYZgAAAJBJREFU\n",
       "GNNjYICCoLQ0Bjjw//9/AZzjXl6VAOcoMKgjlDEwPkDisIBJvjvn965kYGgBsTnqC9jinzAwTAVx\n",
       "DJwZGJi+MDBcBrKZEzYAySkMDJ+BFCejA5DMY2DYDqQy2QMQJrYyGSBx2JE4WRxIyngSHBAc5gAQ\n",
       "hw3KW1wHJGqhzmfxesZWtQymsPP+b3cICwC25x7Jou5JnAAAAABJRU5ErkJggg==\n",
       "\" style=\"display:inline;vertical-align:middle;\" /></a></td></tr>\n",
       "<tr><td>5</td><td>Variable</td><td></td><td><a class=\"ProveItLink\" href=\"../../../../__pv_it/cbdfda466482236edba0ce44ac7ef39cda0af7a40/expr.ipynb\"><img src=\"data:image/png;base64,iVBORw0KGgoAAAANSUhEUgAAAAkAAAAJBAMAAAASvxsjAAAALVBMVEX///9mZmbc3NxUVFSYmJhE\n",
       "REQiIiIyMjK6uroQEBDMzMyIiIh2dnbu7u4AAABgFDGoAAAAAXRSTlMAQObYZgAAADZJREFUCNdj\n",
       "YOA9s3sBA8PKBvYEBt7ZDKwODMwPGICALwBE6m0Asx0YGIDiAgw8QJUyu/cyAAAmuwmycZ8WfQAA\n",
       "AABJRU5ErkJggg==\n",
       "\" style=\"display:inline;vertical-align:middle;\" /></a></td></tr>\n",
       "<tr><td>6</td><td>Variable</td><td></td><td><a class=\"ProveItLink\" href=\"../../../../__pv_it/6840a4fa6c106149dc16a131294d0c5e44f1b0480/expr.ipynb\"><img src=\"data:image/png;base64,iVBORw0KGgoAAAANSUhEUgAAAAkAAAAOBAMAAAAPuiubAAAALVBMVEX///9mZmbMzMxERESYmJiI\n",
       "iIh2dna6urqqqqoyMjIiIiIQEBBUVFTu7u4AAAD9S1JeAAAAAXRSTlMAQObYZgAAAE1JREFUCNdj\n",
       "4D29gAEIOA+ASL4GEFl3AURmgQiGOaFHGBh4HzPwKTBwvGXgTmBgnMDAJ8DAJcBQ5wBSLncBJLWN\n",
       "gYGngRFoBO9REQYGAGrcDtUkVqASAAAAAElFTkSuQmCC\n",
       "\" style=\"display:inline;vertical-align:middle;\" /></a></td></tr>\n",
       "<tr><td>7</td><td>Literal</td><td></td><td><a class=\"ProveItLink\" href=\"../../../numeral/__pv_it/77d407a64829263cdc16415becd4c2293f77a4bf0/expr.ipynb\"><img src=\"data:image/png;base64,iVBORw0KGgoAAAANSUhEUgAAAAkAAAAOBAMAAAAPuiubAAAAMFBMVEX///+YmJh2dnbMzMwQEBAi\n",
       "IiLu7u6qqqqIiIhUVFS6urpEREQyMjJmZmbc3NwAAACOMKdoAAAAAXRSTlMAQObYZgAAAFBJREFU\n",
       "CNdj4Lt7egEDw0sGju8MDNMYGOIZGFwSGOYvYDifwHAfKAEUSQASzJ9ATJ4NIPI2iOCYACJrGfge\n",
       "MDBfYGB8wPBUSekqUPH//18ZAIliFhc3zESNAAAAAElFTkSuQmCC\n",
       "\" style=\"display:inline;vertical-align:middle;\" /></a></td></tr>\n",
       "<tr><td>8</td><td>Literal</td><td></td><td><a class=\"ProveItLink\" href=\"../../../numeral/__pv_it/9176d93c83afa2c995b614976e3cb49207102fa70/expr.ipynb\"><img src=\"data:image/png;base64,iVBORw0KGgoAAAANSUhEUgAAAAoAAAAOBAMAAADkjZCYAAAAMFBMVEX///+YmJju7u4QEBBUVFQy\n",
       "MjIiIiKIiIi6urpmZmbc3NyqqqpERER2dnbMzMwAAAB0GlNiAAAAAXRSTlMAQObYZgAAAE1JREFU\n",
       "CNdjYHh79zQDA9cEhv4CBt7fDPwJDNxgEgiAIkAQAsR8Vx1ATIbiBhDJ/ImB6wEDz0cG/U8gkj+A\n",
       "ge0XA7sAQ/8FBoadM6MZAEflFACalZ/OAAAAAElFTkSuQmCC\n",
       "\" style=\"display:inline;vertical-align:middle;\" /></a></td></tr>\n",
       "<tr><td>9</td><td>Literal</td><td></td><td><a class=\"ProveItLink\" href=\"../../../numeral/__pv_it/23412ce59ea7e77353d2f9225e02248e73651ca00/expr.ipynb\"><img src=\"data:image/png;base64,iVBORw0KGgoAAAANSUhEUgAAAAoAAAAPBAMAAAAv0UM9AAAALVBMVEX///9mZmaqqqru7u52dnYy\n",
       "MjKYmJjc3NwQEBCIiIhEREQiIiJUVFTMzMwAAACUDTcXAAAAAXRSTlMAQObYZgAAAD5JREFUCNdj\n",
       "YGBguMMAArtABGcXiCyLApEOIJKtAERaMoBIBxDJdAFEmjCASJ0zZ16cBCkF64KQPu/EwBwGACv6\n",
       "DSRgin9qAAAAAElFTkSuQmCC\n",
       "\" style=\"display:inline;vertical-align:middle;\" /></a></td></tr>\n",
       "<tr><td>10</td><td>Literal</td><td></td><td><a class=\"ProveItLink\" href=\"../../../exponentiation/__pv_it/deb2bf23cbccdd6e6791e1b35b5b9794ce12dbd50/expr.ipynb\"><img src=\"data:image/png;base64,iVBORw0KGgoAAAANSUhEUgAAACgAAAASBAMAAADbMYGVAAAAMFBMVEX///8QEBAiIiKYmJjc3Nzu\n",
       "7u7MzMx2dnZmZma6urpERESqqqoyMjJUVFSIiIgAAAAoDOMTAAAAAXRSTlMAQObYZgAAAOBJREFU\n",
       "GNNjYGB4+//u3Tt/GNAASGAXmhjnPyDBgSbI/g1IxKEJ8nxgYGdgQRPkX8BgDKRY6q7s62OYvmze\n",
       "2wAgb/7ZO1+AVDiDkYEQQ0HTBr4DQF59AgOIKmB4z7CNbcNZBu6vQN55kEACQwDDLQYGVobfDHwg\n",
       "fb8YGBxYHwAZciD3fWXg+gB1JjvQcJZvQIXsCgz8F6DO9GBgMOH7wPCUgaeBwd4B7EwGNjUG7s9c\n",
       "AiwPgO5jkWRgiF3/9+5dfQUG1nWl5Y+B7pv+1gE9bBhqGLCAE1jEWH9jEbT5A3IwAC4sP/1L6Qlu\n",
       "AAAAAElFTkSuQmCC\n",
       "\" style=\"display:inline;vertical-align:middle;\" /></a></td></tr>\n",
       "<tr><td>11</td><td>ExprTuple</td><td>12, 13</td><td><a class=\"ProveItLink\" href=\"../96f5411dae21f5937bb4aeda4878899d044ba2480/expr.ipynb\"><img src=\"data:image/png;base64,iVBORw0KGgoAAAANSUhEUgAAAC8AAAAVBAMAAAAk6KpUAAAAMFBMVEX////c3NwiIiJERESqqqqY\n",
       "mJh2dnZmZmYQEBDu7u4yMjJUVFTMzMyIiIi6uroAAAAs73DqAAAAAXRSTlMAQObYZgAAARlJREFU\n",
       "KM9jYMAJ+C5gisWBiNNAzKu1vskcInaoLC0tgf0AkLWSgYHn/QPO/NsQifj///9vYFgAVAw0KWAr\n",
       "AwPLb4hEJgMDNwNDGAMDxwQG1gkNQJFqiEQCA0MOA8MMBoZXDAzsjBuAInORXcPswFDGwDCdLwHZ\n",
       "SZOBmK2AYSkDwzGWAGSJEiBmWcDQB5TgQ5bg/AAyroHhH1AvD7JRvECnMvB8AElwTdiAJMG0ASLR\n",
       "wsDAmgBic0Il5hdAjDIFUqZvgcSjCRCp9yAJ1gUM6UCKe/NNzseWDPMVQBL+BRDnPgJxjuv/2Af0\n",
       "7kcQ+zzIiVwPGDgEEPY+hLNmgGxGSCC8kwsJdgwJTpBfpBFeg7O4QeYzYonaOwwMAOpwRK3jV2OL\n",
       "AAAAAElFTkSuQmCC\n",
       "\" style=\"display:inline;vertical-align:middle;\" /></a></td></tr>\n",
       "<tr><td>12</td><td>Literal</td><td></td><td><a class=\"ProveItLink\" href=\"../../../sets/complex/__pv_it/c357845f93a5a2d9f649129d299e7ec28dda4b960/expr.ipynb\"><img src=\"data:image/png;base64,iVBORw0KGgoAAAANSUhEUgAAAA8AAAAOBAMAAAACpFvcAAAAMFBMVEX////c3NyqqqqYmJhUVFR2\n",
       "dnbu7u66urrMzMxmZmZEREQQEBAyMjIiIiKIiIgAAAB7fvZ0AAAAAXRSTlMAQObYZgAAAGVJREFU\n",
       "CNdjYGDgu3N+70oGBgaO+gK2+CdAhoEzAwPTFwYG5oQNQN4UBgZORgcgI4+BIZM9gAEMWpkMoAx2\n",
       "KCOLAyrFk+AAYTAHgBhsQLy4DkjUJjAwsHg9Y6taBpLsvP/bnYEBACkBFGQfBv8RAAAAAElFTkSu\n",
       "QmCC\n",
       "\" style=\"display:inline;vertical-align:middle;\" /></a></td></tr>\n",
       "<tr><td>13</td><td>Literal</td><td></td><td><a class=\"ProveItLink\" href=\"../../../numeral/__pv_it/44c347496acc279b31e97f8859fc6a0a1e31c26b0/expr.ipynb\"><img src=\"data:image/png;base64,iVBORw0KGgoAAAANSUhEUgAAAAoAAAAOBAMAAADkjZCYAAAAKlBMVEX///8yMjKqqqpERESIiIi6\n",
       "urru7u5UVFSYmJh2dnZmZmYiIiLMzMwAAACZcOxaAAAAAXRSTlMAQObYZgAAAEVJREFUCNdjOL1y\n",
       "5swJDL13794tYJjGwMDOwDCBgWEOAxCwOoDIZBDBsAhEsF0AkSwCIJK7AETmLgCRsWBSF0yebWBg\n",
       "AAAo0Q9n+lHhAQAAAABJRU5ErkJggg==\n",
       "\" style=\"display:inline;vertical-align:middle;\" /></a></td></tr>\n",
       "</table>\n"
      ],
      "text/plain": [
       "0. (c , c , b , b , 2 , 3 , 4) in Complexes^{7}\n",
       "   core type: Operation\n",
       "   operator: 1\n",
       "   operands: 2\n",
       "1. in\n",
       "   core type: Literal\n",
       "   sub-expressions: \n",
       "2. ((c , c , b , b , 2 , 3 , 4) , Complexes^{7})\n",
       "   core type: ExprTuple\n",
       "   sub-expressions: 3, 4\n",
       "3. (c , c , b , b , 2 , 3 , 4)\n",
       "   core type: ExprTuple\n",
       "   sub-expressions: 5, 5, 6, 6, 7, 8, 9\n",
       "4. Complexes^{7}\n",
       "   core type: Operation\n",
       "   operator: 10\n",
       "   operands: 11\n",
       "5. c\n",
       "   core type: Variable\n",
       "   sub-expressions: \n",
       "6. b\n",
       "   core type: Variable\n",
       "   sub-expressions: \n",
       "7. 2\n",
       "   core type: Literal\n",
       "   sub-expressions: \n",
       "8. 3\n",
       "   core type: Literal\n",
       "   sub-expressions: \n",
       "9. 4\n",
       "   core type: Literal\n",
       "   sub-expressions: \n",
       "10. Exp\n",
       "    core type: Literal\n",
       "    sub-expressions: \n",
       "11. (Complexes , 7)\n",
       "    core type: ExprTuple\n",
       "    sub-expressions: 12, 13\n",
       "12. Complexes\n",
       "    core type: Literal\n",
       "    sub-expressions: \n",
       "13. 7\n",
       "    core type: Literal\n",
       "    sub-expressions: "
      ]
     },
     "execution_count": 4,
     "metadata": {},
     "output_type": "execute_result"
    }
   ],
   "source": [
    "# display the expression information\n",
    "expr.exprInfo()"
   ]
  },
  {
   "cell_type": "code",
   "execution_count": null,
   "metadata": {},
   "outputs": [],
   "source": []
  }
 ],
 "metadata": {
  "kernelspec": {
   "display_name": "Python 3",
   "language": "python",
   "name": "python3"
  }
 },
 "nbformat": 4,
 "nbformat_minor": 0
}
