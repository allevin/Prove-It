{
 "cells": [
  {
   "cell_type": "markdown",
   "metadata": {},
   "source": [
    "Expression of type <a class=\"ProveItLink\" href=\"../../../../../../doc/html/api/proveit.number.Add.html\">Add</a>\n",
    "=======================\n",
    "# from context <a class=\"ProveItLink\" href=\"../../_context_.ipynb\">proveit.number.addition</a>"
   ]
  },
  {
   "cell_type": "code",
   "execution_count": 1,
   "metadata": {},
   "outputs": [],
   "source": [
    "# import Expression classes needed to build the expression\n",
    "from proveit._common_ import A, B, C, a, b, c\n",
    "from proveit.number import Add, one, three, zero"
   ]
  },
  {
   "cell_type": "code",
   "execution_count": 2,
   "metadata": {},
   "outputs": [
    {
     "data": {
      "text/html": [
       "<strong id=\"expr\">expr:</strong> <a class=\"ProveItLink\" href=\"expr.ipynb\"><img src=\"data:image/png;base64,iVBORw0KGgoAAAANSUhEUgAAAYIAAAAQBAMAAADpDWVGAAAAMFBMVEX////MzMx2dna6uroiIiKq\n",
       "qqrc3NyYmJgyMjIQEBBmZmaIiIhUVFTu7u5EREQAAACN3imBAAAAAXRSTlMAQObYZgAAAwNJREFU\n",
       "SMeVlU1oE0EUx1823W26202CN0G06kXIJVct0oB4aPEQr91Dc/HipTl4FNtDxaVEKyq2l2oEP4tg\n",
       "pCeNYD0IpVlIEBFag+lFtKC0tSQpbWOd/Wr3vU2ZdWBJ+DFv3v8/8+YNAPyGICOUImCp+AiD6j1f\n",
       "0NVdw/iZpPTrr5nsZV6+aIWAQye+H6DqWyuQg8gaAefgcxyTnD/qAYC8QZgwCXBmkpNOXSUOpDz0\n",
       "FdqqqhquAzXjW8ZDrrjTvtg/SgqUUUSgDngK26Jt9u1gqI4xbUKDzCShqlGuYCLUIZbyBVmqFFea\n",
       "6LPoIdKgkxM0+6djDsINRMJ7h6m5fxQ2o/MPhpFpc+5tMtMX+r6CibjvQCOqgjlQlA28YiwPoToi\n",
       "QsonI8qEdkxj+Cpt18R/OmDDrSKNqPI5kEon7/scnBWbeMXhHqtGPCRSepclKWJzIN2qIChtWlUS\n",
       "xzM/JV7zHeR8xFblc3A6E12jDtSkK9frANdHbRnWSYpjpeLjLI6Tm222PHQXxngOQqfmqANHFXUg\n",
       "NUFepg7CIG3xHAxV4A6VkQH1Ark/jTYOFgvwg38Gb5KEOKqog+416ChQB0cM4y+vip4DbJEUK6YU\n",
       "XFox63xVvFg50D3oahHiqLIdyLo+NqXr7KBiy1CLI8IGcz9lqdT1fl3POTe5icgAhDEAMBvpSA+C\n",
       "XZaDi3gxZ3e8obaDfSLFIUqXd1TRMxguwBBU8BmI7Ov3dVMRd9M6yGSTLIvlNILd1pw8Wkza5p9B\n",
       "rWU78MxxVVEHtTTMi3Hs4BL7JvCK7EUTcH9eh64enMJ8Duze47m0plqByGPSOjkOYqN7V0gjqqiD\n",
       "SFYcEPA9UM3HdxV3RTgPi7glfoSXZCPN5+DwTQJH0hB+SrZ8AeA4x4GShT68Qa4q+cXmM9yLSrNH\n",
       "ZzFZ2czAtd1xnGMp8QHnqL6ljXN1x5i/QesjNL/whBaNnCiS/Zl5OE4el8GZ67j0kCr+m9zm1TyY\n",
       "aBAoLlioFmwlq7sW+ISNXj7phUBxwUJ55B/xgToq73iBrQAAAABJRU5ErkJggg==\n",
       "\" style=\"display:inline;vertical-align:middle;\" /></a><br>"
      ],
      "text/plain": [
       "expr: 1 + a + A + 0 + b + B + C + c + 1 + 3 + A"
      ]
     },
     "execution_count": 2,
     "metadata": {},
     "output_type": "execute_result"
    }
   ],
   "source": [
    "# build up the expression from sub-expressions\n",
    "expr = Add(one, a, A, zero, b, B, C, c, one, three, A)"
   ]
  },
  {
   "cell_type": "code",
   "execution_count": 3,
   "metadata": {},
   "outputs": [
    {
     "name": "stdout",
     "output_type": "stream",
     "text": [
      "Passed sanity check: built 'expr' is the same as the stored Expression.\n"
     ]
    }
   ],
   "source": [
    "# check that the built expression is the same as the stored expression\n",
    "%check_expr"
   ]
  },
  {
   "cell_type": "code",
   "execution_count": 4,
   "metadata": {},
   "outputs": [
    {
     "data": {
      "text/html": [
       "<table><tr><th>&nbsp;</th><th>core type</th><th>sub-expressions</th><th>expression</th></tr>\n",
       "<tr><td>0</td><td>Operation</td><td>operator:&nbsp;1<br>operands:&nbsp;2<br></td><td><a class=\"ProveItLink\" href=\"expr.ipynb\"><img src=\"data:image/png;base64,iVBORw0KGgoAAAANSUhEUgAAAYIAAAAQBAMAAADpDWVGAAAAMFBMVEX////MzMx2dna6uroiIiKq\n",
       "qqrc3NyYmJgyMjIQEBBmZmaIiIhUVFTu7u5EREQAAACN3imBAAAAAXRSTlMAQObYZgAAAwNJREFU\n",
       "SMeVlU1oE0EUx1823W26202CN0G06kXIJVct0oB4aPEQr91Dc/HipTl4FNtDxaVEKyq2l2oEP4tg\n",
       "pCeNYD0IpVlIEBFag+lFtKC0tSQpbWOd/Wr3vU2ZdWBJ+DFv3v8/8+YNAPyGICOUImCp+AiD6j1f\n",
       "0NVdw/iZpPTrr5nsZV6+aIWAQye+H6DqWyuQg8gaAefgcxyTnD/qAYC8QZgwCXBmkpNOXSUOpDz0\n",
       "FdqqqhquAzXjW8ZDrrjTvtg/SgqUUUSgDngK26Jt9u1gqI4xbUKDzCShqlGuYCLUIZbyBVmqFFea\n",
       "6LPoIdKgkxM0+6djDsINRMJ7h6m5fxQ2o/MPhpFpc+5tMtMX+r6CibjvQCOqgjlQlA28YiwPoToi\n",
       "QsonI8qEdkxj+Cpt18R/OmDDrSKNqPI5kEon7/scnBWbeMXhHqtGPCRSepclKWJzIN2qIChtWlUS\n",
       "xzM/JV7zHeR8xFblc3A6E12jDtSkK9frANdHbRnWSYpjpeLjLI6Tm222PHQXxngOQqfmqANHFXUg\n",
       "NUFepg7CIG3xHAxV4A6VkQH1Ark/jTYOFgvwg38Gb5KEOKqog+416ChQB0cM4y+vip4DbJEUK6YU\n",
       "XFox63xVvFg50D3oahHiqLIdyLo+NqXr7KBiy1CLI8IGcz9lqdT1fl3POTe5icgAhDEAMBvpSA+C\n",
       "XZaDi3gxZ3e8obaDfSLFIUqXd1TRMxguwBBU8BmI7Ov3dVMRd9M6yGSTLIvlNILd1pw8Wkza5p9B\n",
       "rWU78MxxVVEHtTTMi3Hs4BL7JvCK7EUTcH9eh64enMJ8Duze47m0plqByGPSOjkOYqN7V0gjqqiD\n",
       "SFYcEPA9UM3HdxV3RTgPi7glfoSXZCPN5+DwTQJH0hB+SrZ8AeA4x4GShT68Qa4q+cXmM9yLSrNH\n",
       "ZzFZ2czAtd1xnGMp8QHnqL6ljXN1x5i/QesjNL/whBaNnCiS/Zl5OE4el8GZ67j0kCr+m9zm1TyY\n",
       "aBAoLlioFmwlq7sW+ISNXj7phUBxwUJ55B/xgToq73iBrQAAAABJRU5ErkJggg==\n",
       "\" style=\"display:inline;vertical-align:middle;\" /></a></td></tr>\n",
       "<tr><td>1</td><td>Literal</td><td></td><td><a class=\"ProveItLink\" href=\"../3e6688136fa3c7aefbebe51301b7c3ebf0b69c440/expr.ipynb\"><img src=\"data:image/png;base64,iVBORw0KGgoAAAANSUhEUgAAAA4AAAAOBAMAAADtZjDiAAAAJFBMVEX///+6urpUVFQQEBAiIiIy\n",
       "MjJmZmaIiIiqqqrc3Nzu7u4AAACgHpL+AAAAAXRSTlMAQObYZgAAAB5JREFUCNdjYGBgWMkAAe2k\n",
       "0Kmhoc6hoUGk6BMHYgAHOwjcado9fwAAAABJRU5ErkJggg==\n",
       "\" style=\"display:inline;vertical-align:middle;\" /></a></td></tr>\n",
       "<tr><td>2</td><td>ExprTuple</td><td>9, 3, 11, 4, 5, 6, 7, 8, 9, 10, 11</td><td><a class=\"ProveItLink\" href=\"../4d87185a9eb8ce8b52b665f7b521588ab45fd2be0/expr.ipynb\"><img src=\"data:image/png;base64,iVBORw0KGgoAAAANSUhEUgAAAO4AAAAVBAMAAACzlc/LAAAAMFBMVEX////c3NwiIiJERESqqqqY\n",
       "mJh2dnZmZmYQEBDu7u4yMjJUVFTMzMyIiIi6uroAAAAs73DqAAAAAXRSTlMAQObYZgAAAy5JREFU\n",
       "SMfFVk1oE1EQ/pJms9k2mw0oeOihOXgTfw4V/EESvAhScM96aPCgIBbiT62HQitaoZc2KNiiaGO1\n",
       "iBQ0HqTSWBI8iOAhexIPhqZeLCK0ta2Q1lbf3252X9Ye65LdNzsz7/vemzczG+B/XTFr2ymVKnl8\n",
       "JHdT1tf+TowjlV4uaG8Stu3Mn0LhSNV+e3i0x9wlTz8sxvfn2iVQCvecwCX9eV+KcR/ulLjUnHeM\n",
       "NwF1U8jhAeDbgDT7bo2PgQwWLC9oM6Bb0ApFX15lP1frCeg5rjJStjG6Qe51EYZx4hhe8s5+UBC8\n",
       "4RUYCS+okkaEYs/68u7si7MxmEdMgC44jjrRKL9EFAZpnvRL03XBG/LwMlCtH9/xT15rlp+fkUF0\n",
       "havOOsYmQhMc5HJfiofTn5cu15JA23HNw9v6aT7uJHr2lMmEtjSLKr0mK6+F1cgj8IRPC6yxYIsU\n",
       "uNf1pYF3EhLoeUy4eWM3kHRcHqFsObw8otoyDAFfnqlc5suCuuraZXQI4xJv9EJeBj2JITdvm4kr\n",
       "jksVbRmJN1RDJM2ts3Foe7gYdGfUqIWDDfv9XJVA57Hp5i0Ce52FFwrFA1Kc1Rw9bHYdotP4ho1F\n",
       "FgsHovF8IzUJtOzlXYb22zkJ4p5z8oqHMkhKUQSXllAn33uE8XbYEDJvoISmVQm0jFsu3sAGQoti\n",
       "3SA5Guy36yi0ZJdvH3dlCynyam5hBBkbQuYdq9V5bdB5fhiUl/y0FbTkOsCQA8SleZGpSd8IJ5iW\n",
       "JNVtHlBavjSPNdFCEM5yA2FQOALlpSojRzPAA4rTJKM5r/aTjBM4nkkzCfdpjda4ejdGS0xoSal5\n",
       "jCVE+X4gLZa9dKYQuyTkKeAiR6C8VKWbWPCC0jr6Sp49w89MbZgUbmvlx7Eqk3YMP4aSXMuwl5Gu\n",
       "t2CCNtNNMpZsVU2uF6ZpCdIXRKenrtqy2lXJMl/1+lo3V53oeQoPKPACEbtPxOoNI+7+TDba59xd\n",
       "ac5P9vH1gJI+qaTthl1v3Z6PQ6PWdNtNP1nZSkWTwWLfwW3npefcajfseuv2fBwaBN3T/H1lawsV\n",
       "vV7R3N7+/zl6CX8Bi+QNAE98JbgAAAAASUVORK5CYII=\n",
       "\" style=\"display:inline;vertical-align:middle;\" /></a></td></tr>\n",
       "<tr><td>3</td><td>Variable</td><td></td><td><a class=\"ProveItLink\" href=\"../../../../__pv_it/07527342713064c87612d00d8557c53d53d5324a0/expr.ipynb\"><img src=\"data:image/png;base64,iVBORw0KGgoAAAANSUhEUgAAAAsAAAAJBAMAAAAWSsseAAAAMFBMVEX///8yMjKqqqrMzMzu7u4i\n",
       "IiJmZmaYmJhEREQQEBC6urp2dnaIiIhUVFTc3NwAAAD87Fq/AAAAAXRSTlMAQObYZgAAAEhJREFU\n",
       "CNdjYOC7s2seAwPDygccHxgY+L4zsDUwMPB+YGA9wMDA38Dgb8DA8P4Agz6DA4O/AsNFJgMGxgKm\n",
       "MG6gyjunLE4xAAAZTBA5TB6DCwAAAABJRU5ErkJggg==\n",
       "\" style=\"display:inline;vertical-align:middle;\" /></a></td></tr>\n",
       "<tr><td>4</td><td>Literal</td><td></td><td><a class=\"ProveItLink\" href=\"../../../numeral/__pv_it/ec23fc7a1b4222a5f4948b495002b97d6fa18c3c0/expr.ipynb\"><img src=\"data:image/png;base64,iVBORw0KGgoAAAANSUhEUgAAAAoAAAAOBAMAAADkjZCYAAAALVBMVEX///8QEBCYmJh2dnaqqqrc\n",
       "3NxUVFQyMjK6uroiIiLMzMyIiIhmZmbu7u4AAAAZjyHdAAAAAXRSTlMAQObYZgAAAEpJREFUCNdj\n",
       "YLiz+xQDA8MMhpsLGLgnMHAXMHAmMHA8ZeA7wMD1hCHOgIHrNZh8jES+Bss+AqlkeQrSxTyBgWEK\n",
       "w8UFDAx3rLMYAMCjFldHSx/9AAAAAElFTkSuQmCC\n",
       "\" style=\"display:inline;vertical-align:middle;\" /></a></td></tr>\n",
       "<tr><td>5</td><td>Variable</td><td></td><td><a class=\"ProveItLink\" href=\"../../../../__pv_it/6840a4fa6c106149dc16a131294d0c5e44f1b0480/expr.ipynb\"><img src=\"data:image/png;base64,iVBORw0KGgoAAAANSUhEUgAAAAkAAAAOBAMAAAAPuiubAAAALVBMVEX///9mZmbMzMxERESYmJiI\n",
       "iIh2dna6urqqqqoyMjIiIiIQEBBUVFTu7u4AAAD9S1JeAAAAAXRSTlMAQObYZgAAAE1JREFUCNdj\n",
       "4D29gAEIOA+ASL4GEFl3AURmgQiGOaFHGBh4HzPwKTBwvGXgTmBgnMDAJ8DAJcBQ5wBSLncBJLWN\n",
       "gYGngRFoBO9REQYGAGrcDtUkVqASAAAAAElFTkSuQmCC\n",
       "\" style=\"display:inline;vertical-align:middle;\" /></a></td></tr>\n",
       "<tr><td>6</td><td>Variable</td><td></td><td><a class=\"ProveItLink\" href=\"../../../../__pv_it/077b2ff79244fb4582cbe22c6e3356fa92a52f2f0/expr.ipynb\"><img src=\"data:image/png;base64,iVBORw0KGgoAAAANSUhEUgAAABAAAAAOBAMAAADUAYG5AAAAMFBMVEX///+qqqru7u4iIiJ2dnbc\n",
       "3NyIiIjMzMxmZmYQEBC6uroyMjJERERUVFSYmJgAAADLUcuvAAAAAXRSTlMAQObYZgAAAGpJREFU\n",
       "CNdjYGB4+//u3dMLGIBgDgMDxy8gzf4NiP8CGWxfGRj4vgAZPBMYGJgnARn8FxhY9ygAGfXX0pof\n",
       "gDTlBzAw2YIYJ0EckBBI53sHoBH/gIz7AhBjWH9DjancBLTl/N+7t/cxMAAA3u4f/5xagjYAAAAA\n",
       "SUVORK5CYII=\n",
       "\" style=\"display:inline;vertical-align:middle;\" /></a></td></tr>\n",
       "<tr><td>7</td><td>Variable</td><td></td><td><a class=\"ProveItLink\" href=\"../../../../__pv_it/985a1bdf1540838275dec15f4ad6de261cca93ce0/expr.ipynb\"><img src=\"data:image/png;base64,iVBORw0KGgoAAAANSUhEUgAAAA8AAAAOBAMAAAACpFvcAAAAMFBMVEX////MzMyqqqoiIiIyMjK6\n",
       "uroQEBB2dnbc3NyYmJhmZmZUVFRERESIiIju7u4AAAB204erAAAAAXRSTlMAQObYZgAAAGZJREFU\n",
       "CNdjYGDgu7NrJccCBgaGsgkMrMsmMDA8sQNy6hsYGNweABlhDAxcn4A0QxcDQ78DiPGQgWH9BAYI\n",
       "sG+AMv6DSaCGfBDNJMDAsB+kmwuI5S8AiTog5gSaEwXWIO29SgFIAQBC+RaDQlidVgAAAABJRU5E\n",
       "rkJggg==\n",
       "\" style=\"display:inline;vertical-align:middle;\" /></a></td></tr>\n",
       "<tr><td>8</td><td>Variable</td><td></td><td><a class=\"ProveItLink\" href=\"../../../../__pv_it/cbdfda466482236edba0ce44ac7ef39cda0af7a40/expr.ipynb\"><img src=\"data:image/png;base64,iVBORw0KGgoAAAANSUhEUgAAAAkAAAAJBAMAAAASvxsjAAAALVBMVEX///9mZmbc3NxUVFSYmJhE\n",
       "REQiIiIyMjK6uroQEBDMzMyIiIh2dnbu7u4AAABgFDGoAAAAAXRSTlMAQObYZgAAADZJREFUCNdj\n",
       "YOA9s3sBA8PKBvYEBt7ZDKwODMwPGICALwBE6m0Asx0YGIDiAgw8QJUyu/cyAAAmuwmycZ8WfQAA\n",
       "AABJRU5ErkJggg==\n",
       "\" style=\"display:inline;vertical-align:middle;\" /></a></td></tr>\n",
       "<tr><td>9</td><td>Literal</td><td></td><td><a class=\"ProveItLink\" href=\"../../../numeral/__pv_it/9be8badea4c35b9724062cecc501d17a3158d1d20/expr.ipynb\"><img src=\"data:image/png;base64,iVBORw0KGgoAAAANSUhEUgAAAAgAAAAPBAMAAAArJJMAAAAAHlBMVEX///+YmJgyMjIQEBBmZmaI\n",
       "iIhUVFTu7u5EREQAAAAw+MI4AAAAAXRSTlMAQObYZgAAACFJREFUCNdjYGBoZ2BgqJjOwFCWBiQY\n",
       "WEklWJwnOTKAAACjEQo8HvEr3AAAAABJRU5ErkJggg==\n",
       "\" style=\"display:inline;vertical-align:middle;\" /></a></td></tr>\n",
       "<tr><td>10</td><td>Literal</td><td></td><td><a class=\"ProveItLink\" href=\"../../../numeral/__pv_it/9176d93c83afa2c995b614976e3cb49207102fa70/expr.ipynb\"><img src=\"data:image/png;base64,iVBORw0KGgoAAAANSUhEUgAAAAoAAAAOBAMAAADkjZCYAAAAMFBMVEX///+YmJju7u4QEBBUVFQy\n",
       "MjIiIiKIiIi6urpmZmbc3NyqqqpERER2dnbMzMwAAAB0GlNiAAAAAXRSTlMAQObYZgAAAE1JREFU\n",
       "CNdjYHh79zQDA9cEhv4CBt7fDPwJDNxgEgiAIkAQAsR8Vx1ATIbiBhDJ/ImB6wEDz0cG/U8gkj+A\n",
       "ge0XA7sAQ/8FBoadM6MZAEflFACalZ/OAAAAAElFTkSuQmCC\n",
       "\" style=\"display:inline;vertical-align:middle;\" /></a></td></tr>\n",
       "<tr><td>11</td><td>Variable</td><td></td><td><a class=\"ProveItLink\" href=\"../../../../__pv_it/2cbe72a7ad6f655694dd697106680215e8489b600/expr.ipynb\"><img src=\"data:image/png;base64,iVBORw0KGgoAAAANSUhEUgAAAA8AAAAOBAMAAAACpFvcAAAALVBMVEX///8QEBBERERUVFS6urqI\n",
       "iIhmZmaqqqrc3Nzu7u6YmJgyMjIiIiLMzMwAAADtIaYWAAAAAXRSTlMAQObYZgAAAFtJREFUCNdj\n",
       "YACBOwxQsA9Kc52bAGG05zVAGAFxDmCaZULdAjBjCsO9ADDDgaEvAUTzGhvbKYCVMDAwbgAxChgY\n",
       "eASANAeQwf0AyJgNxEwvGRia5HYwcOm9TgAA6BoR3jrzwFcAAAAASUVORK5CYII=\n",
       "\" style=\"display:inline;vertical-align:middle;\" /></a></td></tr>\n",
       "</table>\n"
      ],
      "text/plain": [
       "0. 1 + a + A + 0 + b + B + C + c + 1 + 3 + A\n",
       "   core type: Operation\n",
       "   operator: 1\n",
       "   operands: 2\n",
       "1. +\n",
       "   core type: Literal\n",
       "   sub-expressions: \n",
       "2. (1 , a , A , 0 , b , B , C , c , 1 , 3 , A)\n",
       "   core type: ExprTuple\n",
       "   sub-expressions: 9, 3, 11, 4, 5, 6, 7, 8, 9, 10, 11\n",
       "3. a\n",
       "   core type: Variable\n",
       "   sub-expressions: \n",
       "4. 0\n",
       "   core type: Literal\n",
       "   sub-expressions: \n",
       "5. b\n",
       "   core type: Variable\n",
       "   sub-expressions: \n",
       "6. B\n",
       "   core type: Variable\n",
       "   sub-expressions: \n",
       "7. C\n",
       "   core type: Variable\n",
       "   sub-expressions: \n",
       "8. c\n",
       "   core type: Variable\n",
       "   sub-expressions: \n",
       "9. 1\n",
       "   core type: Literal\n",
       "   sub-expressions: \n",
       "10. 3\n",
       "    core type: Literal\n",
       "    sub-expressions: \n",
       "11. A\n",
       "    core type: Variable\n",
       "    sub-expressions: "
      ]
     },
     "execution_count": 4,
     "metadata": {},
     "output_type": "execute_result"
    }
   ],
   "source": [
    "# display the expression information\n",
    "expr.exprInfo()"
   ]
  },
  {
   "cell_type": "code",
   "execution_count": null,
   "metadata": {},
   "outputs": [],
   "source": []
  }
 ],
 "metadata": {
  "kernelspec": {
   "display_name": "Python 3",
   "language": "python",
   "name": "python3"
  }
 },
 "nbformat": 4,
 "nbformat_minor": 0
}
