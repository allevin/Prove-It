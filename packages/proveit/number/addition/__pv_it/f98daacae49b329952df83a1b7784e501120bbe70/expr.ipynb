{
 "cells": [
  {
   "cell_type": "markdown",
   "metadata": {},
   "source": [
    "Expression of type <a class=\"ProveItLink\" href=\"../../../../../../doc/html/api/proveit.ExprTuple.html\">ExprTuple</a>\n",
    "=======================\n",
    "# from context <a class=\"ProveItLink\" href=\"../../_context_.ipynb\">proveit.number.addition</a>"
   ]
  },
  {
   "cell_type": "code",
   "execution_count": 1,
   "metadata": {},
   "outputs": [],
   "source": [
    "# import Expression classes needed to build the expression\n",
    "from proveit import ExprTuple\n",
    "from proveit._common_ import a, b"
   ]
  },
  {
   "cell_type": "code",
   "execution_count": 2,
   "metadata": {},
   "outputs": [
    {
     "data": {
      "text/html": [
       "<strong id=\"expr\">expr:</strong> <a class=\"ProveItLink\" href=\"expr.ipynb\"><img src=\"data:image/png;base64,iVBORw0KGgoAAAANSUhEUgAAAHoAAAAVBAMAAAB71edYAAAAMFBMVEX////c3NwiIiJERESqqqqY\n",
       "mJh2dnZmZmYQEBDu7u4yMjJUVFTMzMyIiIi6uroAAAAs73DqAAAAAXRSTlMAQObYZgAAAV9JREFU\n",
       "OMullD1IQlEUx3+WX0/x5e6Qm1PgUGMUjRH45ia3tgiChmrIiMZyjBxsaYggCJoCSWhsyKmGSKxJ\n",
       "osFKCcGic99Vabra68I9/LiX8/HO/9wH/1t2xaNjoCbmxotnYVvMpuwTT4lPZUcg5q3wpio9Szjv\n",
       "qVltMdYWL55SB5PKTrIm1ldazulTM5G4q8ddiJQeHFjiWLgeH23oazPZOWY0FdN0YJ49Cd4ilNZp\n",
       "jMS4w6qmTJ5dics3RBuM6M6biSuY0LQOn3CrvMfSFMvuoZn4wOpoSmG3lPeOFFQhgyucmXxf+BtW\n",
       "V+5QW1U+JS2Y5dJfVsdmsppEjxbcSB3CWViUrhNx/KkgxeQgEn3mVrLWu9AFGyjFnpWg1esqB2+D\n",
       "iMTj63TN2hfJC/ciN2eE4735eWI4snseMqky6t3lMBwF+uNa+fVC/+x9qD6my7H+tZnoP+lzpaLX\n",
       "P1OszA/VfYxDqiSjOwAAAABJRU5ErkJggg==\n",
       "\" style=\"display:inline;vertical-align:middle;\" /></a><br>"
      ],
      "text/plain": [
       "expr: (a , a , a , a , a , b)"
      ]
     },
     "execution_count": 2,
     "metadata": {},
     "output_type": "execute_result"
    }
   ],
   "source": [
    "# build up the expression from sub-expressions\n",
    "expr = ExprTuple(a, a, a, a, a, b)"
   ]
  },
  {
   "cell_type": "code",
   "execution_count": 3,
   "metadata": {},
   "outputs": [
    {
     "name": "stdout",
     "output_type": "stream",
     "text": [
      "Passed sanity check: built 'expr' is the same as the stored Expression.\n"
     ]
    }
   ],
   "source": [
    "# check that the built expression is the same as the stored expression\n",
    "%check_expr"
   ]
  },
  {
   "cell_type": "code",
   "execution_count": 4,
   "metadata": {},
   "outputs": [
    {
     "data": {
      "text/html": [
       "<table><tr><th>&nbsp;</th><th>core type</th><th>sub-expressions</th><th>expression</th></tr>\n",
       "<tr><td>0</td><td>ExprTuple</td><td>1, 1, 1, 1, 1, 2</td><td><a class=\"ProveItLink\" href=\"expr.ipynb\"><img src=\"data:image/png;base64,iVBORw0KGgoAAAANSUhEUgAAAHoAAAAVBAMAAAB71edYAAAAMFBMVEX////c3NwiIiJERESqqqqY\n",
       "mJh2dnZmZmYQEBDu7u4yMjJUVFTMzMyIiIi6uroAAAAs73DqAAAAAXRSTlMAQObYZgAAAV9JREFU\n",
       "OMullD1IQlEUx3+WX0/x5e6Qm1PgUGMUjRH45ia3tgiChmrIiMZyjBxsaYggCJoCSWhsyKmGSKxJ\n",
       "osFKCcGic99Vabra68I9/LiX8/HO/9wH/1t2xaNjoCbmxotnYVvMpuwTT4lPZUcg5q3wpio9Szjv\n",
       "qVltMdYWL55SB5PKTrIm1ldazulTM5G4q8ddiJQeHFjiWLgeH23oazPZOWY0FdN0YJ49Cd4ilNZp\n",
       "jMS4w6qmTJ5dics3RBuM6M6biSuY0LQOn3CrvMfSFMvuoZn4wOpoSmG3lPeOFFQhgyucmXxf+BtW\n",
       "V+5QW1U+JS2Y5dJfVsdmsppEjxbcSB3CWViUrhNx/KkgxeQgEn3mVrLWu9AFGyjFnpWg1esqB2+D\n",
       "iMTj63TN2hfJC/ciN2eE4735eWI4snseMqky6t3lMBwF+uNa+fVC/+x9qD6my7H+tZnoP+lzpaLX\n",
       "P1OszA/VfYxDqiSjOwAAAABJRU5ErkJggg==\n",
       "\" style=\"display:inline;vertical-align:middle;\" /></a></td></tr>\n",
       "<tr><td>1</td><td>Variable</td><td></td><td><a class=\"ProveItLink\" href=\"../../../../__pv_it/07527342713064c87612d00d8557c53d53d5324a0/expr.ipynb\"><img src=\"data:image/png;base64,iVBORw0KGgoAAAANSUhEUgAAAAsAAAAJBAMAAAAWSsseAAAAMFBMVEX///8yMjKqqqrMzMzu7u4i\n",
       "IiJmZmaYmJhEREQQEBC6urp2dnaIiIhUVFTc3NwAAAD87Fq/AAAAAXRSTlMAQObYZgAAAEhJREFU\n",
       "CNdjYOC7s2seAwPDygccHxgY+L4zsDUwMPB+YGA9wMDA38Dgb8DA8P4Agz6DA4O/AsNFJgMGxgKm\n",
       "MG6gyjunLE4xAAAZTBA5TB6DCwAAAABJRU5ErkJggg==\n",
       "\" style=\"display:inline;vertical-align:middle;\" /></a></td></tr>\n",
       "<tr><td>2</td><td>Variable</td><td></td><td><a class=\"ProveItLink\" href=\"../../../../__pv_it/6840a4fa6c106149dc16a131294d0c5e44f1b0480/expr.ipynb\"><img src=\"data:image/png;base64,iVBORw0KGgoAAAANSUhEUgAAAAkAAAAOBAMAAAAPuiubAAAALVBMVEX///9mZmbMzMxERESYmJiI\n",
       "iIh2dna6urqqqqoyMjIiIiIQEBBUVFTu7u4AAAD9S1JeAAAAAXRSTlMAQObYZgAAAE1JREFUCNdj\n",
       "4D29gAEIOA+ASL4GEFl3AURmgQiGOaFHGBh4HzPwKTBwvGXgTmBgnMDAJ8DAJcBQ5wBSLncBJLWN\n",
       "gYGngRFoBO9REQYGAGrcDtUkVqASAAAAAElFTkSuQmCC\n",
       "\" style=\"display:inline;vertical-align:middle;\" /></a></td></tr>\n",
       "</table>\n"
      ],
      "text/plain": [
       "0. (a , a , a , a , a , b)\n",
       "   core type: ExprTuple\n",
       "   sub-expressions: 1, 1, 1, 1, 1, 2\n",
       "1. a\n",
       "   core type: Variable\n",
       "   sub-expressions: \n",
       "2. b\n",
       "   core type: Variable\n",
       "   sub-expressions: "
      ]
     },
     "execution_count": 4,
     "metadata": {},
     "output_type": "execute_result"
    }
   ],
   "source": [
    "# display the expression information\n",
    "expr.exprInfo()"
   ]
  },
  {
   "cell_type": "code",
   "execution_count": null,
   "metadata": {},
   "outputs": [],
   "source": []
  }
 ],
 "metadata": {
  "kernelspec": {
   "display_name": "Python 3",
   "language": "python",
   "name": "python3"
  }
 },
 "nbformat": 4,
 "nbformat_minor": 0
}
