{
 "cells": [
  {
   "cell_type": "markdown",
   "metadata": {},
   "source": [
    "Expression of type <a class=\"ProveItLink\" href=\"../../../../../../doc/html/api/proveit.number.Add.html\">Add</a>\n",
    "=======================\n",
    "# from context <a class=\"ProveItLink\" href=\"../../_context_.ipynb\">proveit.number.addition</a>"
   ]
  },
  {
   "cell_type": "code",
   "execution_count": 1,
   "metadata": {},
   "outputs": [],
   "source": [
    "# import Expression classes needed to build the expression\n",
    "from proveit import Variable\n",
    "from proveit._common_ import b, c\n",
    "from proveit.number import Add, four, three, two"
   ]
  },
  {
   "cell_type": "code",
   "execution_count": 2,
   "metadata": {},
   "outputs": [
    {
     "data": {
      "text/html": [
       "<strong id=\"expr\">expr:</strong> <a class=\"ProveItLink\" href=\"../c668d8ea3ed9eb593fb2b87651c653ce5eda77120/expr.ipynb\"><img src=\"data:image/png;base64,iVBORw0KGgoAAAANSUhEUgAAAUoAAAAVBAMAAADSqLqgAAAAMFBMVEX///+6uroyMjLMzMwQEBAi\n",
       "IiKYmJhmZmZUVFSIiIh2dnbc3Nzu7u5ERESqqqoAAABZrPngAAAAAXRSTlMAQObYZgAAAz5JREFU\n",
       "SMfdlztoFFEUhv/N7mYfs48gWqTKOhDZwsh2ik0SIYUaJYUgCMIq2MRmSSA+GrcQTQjqQkQTELIo\n",
       "EjdYbOUDmyGkiLFIbAQLwxILtRATIhFxk/Xe2decM3eWsfUWw+Tb/875594z554A/8voVOP2DrdK\n",
       "XLART851eEUcxfBmHX4YVSiXBhiL3BwCAikuPQK8HHnP4NH5NSiEo25cthlOP6iUSRuUL5ng9CC0\n",
       "LGZLhGkZdNmW+LwijnURirWbGRU0tyJfu3lnUe6Cwbi0MsxgKIegAf8GoeFdxIeoDqFTljiKEau/\n",
       "1qAKmpb7ajffmkpPGQx2ya1YZNBnwDeI4CahsabLug4veixxWrj0JJxcYo3GlsrwEHf5VF6iJQr3\n",
       "iH0sI7DJPDV2vEHyPZY40AqT364pXQbkei8XpqhLE8xRQ1LZNjGdpoGSM7eE+QyF182rv8xdJtkr\n",
       "thely3ocLONSekDpsk1E9fajm8AqWKfPlMqVVWwRGNlBPIVYgkY/YF5785R6H2eZy7eQLtcbK4tZ\n",
       "fFa69IlytZjDBwKrYC99plT+MHCCJlsZvjw8fTR6v3ntAV/L+x2U5E1NPQ4M3HHIy7iYeI/DKuil\n",
       "UaRyBPhF0yCBeAbeDRrdTMjAqs2lj+ZALGW67G26Om61GND17mO6nq3F3uFwp+lyRNfP6HqypjwL\n",
       "zzaBflEE01WXTVh1OQ06X0shSicvg7nUthBR73gJ2m8Ga4DveEmWywBdDlEubxi2HT8tn5XBG0JX\n",
       "ylWXTfJ1fPznhGXHL4c28EjpMiq+CTG3ncAquEhdSuWWzELiMiUTtZ19PTLLD4uoVJqA/w/PAVHV\n",
       "G3Fi29E+Lad0KYvIbeAJgVXAKpFU3sVVCoOlQNZeicRM7dz8HK3hoTS68iqXc/j+SQwj8vH5/APU\n",
       "/mBVXXYLhRmDFlET7GdVXSiXHqYpjEyMySLFvt19ImErlQo7ab5cOcS/p2eVsWacVifkSdcnpFVp\n",
       "WQ7VCVl0lNpJqxOy0QEOO7WF4RxrK4cde80Cg7SB6GzdqIbd9KKOnduCa2VE0bm5HwtuRJpTFzzp\n",
       "WhkscvLqH1xOulK9VuNQyq0SU/ZXd/8fhYjzF6BUCfqfDWaJAAAAAElFTkSuQmCC\n",
       "\" style=\"display:inline;vertical-align:middle;\" /></a><br>"
      ],
      "text/plain": [
       "expr: _x_ + (c + c) + (b + b) + (2 + 3 + 4)"
      ]
     },
     "execution_count": 2,
     "metadata": {},
     "output_type": "execute_result"
    }
   ],
   "source": [
    "# build up the expression from sub-expressions\n",
    "expr = Add(Variable(\"_x_\", latexFormat = r\"{_{-}x_{-}}\"), Add(c, c), Add(b, b), Add(two, three, four))"
   ]
  },
  {
   "cell_type": "code",
   "execution_count": 3,
   "metadata": {},
   "outputs": [
    {
     "name": "stdout",
     "output_type": "stream",
     "text": [
      "Passed sanity check: built 'expr' is the same as the stored Expression.\n"
     ]
    }
   ],
   "source": [
    "# check that the built expression is the same as the stored expression\n",
    "%check_expr"
   ]
  },
  {
   "cell_type": "code",
   "execution_count": 4,
   "metadata": {},
   "outputs": [
    {
     "data": {
      "text/html": [
       "<table><tr><th>&nbsp;</th><th>core type</th><th>sub-expressions</th><th>expression</th></tr>\n",
       "<tr><td>0</td><td>Operation</td><td>operator:&nbsp;8<br>operands:&nbsp;1<br></td><td><a class=\"ProveItLink\" href=\"../c668d8ea3ed9eb593fb2b87651c653ce5eda77120/expr.ipynb\"><img src=\"data:image/png;base64,iVBORw0KGgoAAAANSUhEUgAAAUoAAAAVBAMAAADSqLqgAAAAMFBMVEX///+6uroyMjLMzMwQEBAi\n",
       "IiKYmJhmZmZUVFSIiIh2dnbc3Nzu7u5ERESqqqoAAABZrPngAAAAAXRSTlMAQObYZgAAAz5JREFU\n",
       "SMfdlztoFFEUhv/N7mYfs48gWqTKOhDZwsh2ik0SIYUaJYUgCMIq2MRmSSA+GrcQTQjqQkQTELIo\n",
       "EjdYbOUDmyGkiLFIbAQLwxILtRATIhFxk/Xe2decM3eWsfUWw+Tb/875594z554A/8voVOP2DrdK\n",
       "XLART851eEUcxfBmHX4YVSiXBhiL3BwCAikuPQK8HHnP4NH5NSiEo25cthlOP6iUSRuUL5ng9CC0\n",
       "LGZLhGkZdNmW+LwijnURirWbGRU0tyJfu3lnUe6Cwbi0MsxgKIegAf8GoeFdxIeoDqFTljiKEau/\n",
       "1qAKmpb7ajffmkpPGQx2ya1YZNBnwDeI4CahsabLug4veixxWrj0JJxcYo3GlsrwEHf5VF6iJQr3\n",
       "iH0sI7DJPDV2vEHyPZY40AqT364pXQbkei8XpqhLE8xRQ1LZNjGdpoGSM7eE+QyF182rv8xdJtkr\n",
       "thely3ocLONSekDpsk1E9fajm8AqWKfPlMqVVWwRGNlBPIVYgkY/YF5785R6H2eZy7eQLtcbK4tZ\n",
       "fFa69IlytZjDBwKrYC99plT+MHCCJlsZvjw8fTR6v3ntAV/L+x2U5E1NPQ4M3HHIy7iYeI/DKuil\n",
       "UaRyBPhF0yCBeAbeDRrdTMjAqs2lj+ZALGW67G26Om61GND17mO6nq3F3uFwp+lyRNfP6HqypjwL\n",
       "zzaBflEE01WXTVh1OQ06X0shSicvg7nUthBR73gJ2m8Ga4DveEmWywBdDlEubxi2HT8tn5XBG0JX\n",
       "ylWXTfJ1fPznhGXHL4c28EjpMiq+CTG3ncAquEhdSuWWzELiMiUTtZ19PTLLD4uoVJqA/w/PAVHV\n",
       "G3Fi29E+Lad0KYvIbeAJgVXAKpFU3sVVCoOlQNZeicRM7dz8HK3hoTS68iqXc/j+SQwj8vH5/APU\n",
       "/mBVXXYLhRmDFlET7GdVXSiXHqYpjEyMySLFvt19ImErlQo7ab5cOcS/p2eVsWacVifkSdcnpFVp\n",
       "WQ7VCVl0lNpJqxOy0QEOO7WF4RxrK4cde80Cg7SB6GzdqIbd9KKOnduCa2VE0bm5HwtuRJpTFzzp\n",
       "WhkscvLqH1xOulK9VuNQyq0SU/ZXd/8fhYjzF6BUCfqfDWaJAAAAAElFTkSuQmCC\n",
       "\" style=\"display:inline;vertical-align:middle;\" /></a></td></tr>\n",
       "<tr><td>1</td><td>ExprTuple</td><td>2, 3, 4, 5</td><td><a class=\"ProveItLink\" href=\"../7046eb528584be247d288d820c09dc719d4db38f0/expr.ipynb\"><img src=\"data:image/png;base64,iVBORw0KGgoAAAANSUhEUgAAAPcAAAAVBAMAAABoLmXpAAAAMFBMVEX////c3NwiIiJERESqqqqY\n",
       "mJh2dnZmZmYQEBDu7u4yMjJUVFTMzMyIiIi6uroAAAAs73DqAAAAAXRSTlMAQObYZgAAArdJREFU\n",
       "SMfFlktoE0Ecxr9Ns6+8BdGDiLn4OAa0oBfJzYvS9eLBgwQPLYiBXFSoB0VEUKFGhFLoIaHqwc1l\n",
       "D4pCKdmTHjyYky3E0upRkEQbKYHaOJPsI/9JFmsumcPu7PfNzG9m/vNYYKwpURsP9wp/fByl5uI9\n",
       "QdDfpZ3cwdmzgvd++pRYP2ZBtdn71Uj9rohCxOq9JQsbWeJIBTTE2Q1lgDIQ38us6ylRabmZp847\n",
       "6RCjRYSaxFJaSKZpYawx+CVAK+4BHhZ7mGi7uQvOu+G0oz1EdJdYYR/uFpYuM/gC8B2jwJW0CL/q\n",
       "Tn8bKoXzntWookQYfCKLm36LB+r7VyllPv+Fwl0hslI3aHuV9TdeQNsivCL09CKHKwW89AObk49q\n",
       "abIm57BE4J5QymCHtKdvIWk71T7lKCp2zaJwvcbh4TLm/KlEvBm2++ELNUwSuCdMFfGABrYNzWHi\n",
       "OcSRr20SRQGHJ+5i1x85ohka2aoYc0+YBbZJe2oZyYKTzQzANRqI8114rNkHZ2WEdbXVa8w0lx6Z\n",
       "puUJLB1H4jfvg2meME0e0RDbzM4qqPe651mSjQlSWM+58Pt9sCM2+jee9EcYuS+0oNLBsG1+p1c3\n",
       "XMA+YpXaPbinhJeXq49rfNonPZac2kDcg/MMqyKTae8K3NnxIuzCbbYIdJ77wBYztcoI/RQCobGR\n",
       "y2XMePAp4zQOewvgF3u8Ba4TOBe6zmvcpoGNZlULJbZXpGPTM/RIiRto5IbA2Vb7xpo+ydIZPPs8\n",
       "nzfcD/0JO1HV/HqRwLnQdRZXDWH3rNxgm4ENMNTpdITz7NytF8ISVKrbBiKb0FIBN20q6IQjTt+S\n",
       "ZukrAq1BhR2vcm44XA6884mDH/0fRrA1qOSDr1Q58KAPdgT4P25KdqXi0HAv+KYNduL/80cQ5dGT\n",
       "xvQbxW6ov/qRxo9TSyPFAAAAAElFTkSuQmCC\n",
       "\" style=\"display:inline;vertical-align:middle;\" /></a></td></tr>\n",
       "<tr><td>2</td><td>Variable</td><td></td><td><a class=\"ProveItLink\" href=\"../../../../logic/__pv_it/5144cf74ae6a683b49b974f1b9302b432abf7e930/expr.ipynb\"><img src=\"data:image/png;base64,iVBORw0KGgoAAAANSUhEUgAAACUAAAAJBAMAAABH3vh9AAAAKlBMVEX////MzMwQEBAiIiKYmJhm\n",
       "ZmZUVFSIiIh2dnbc3Nzu7u5ERESqqqoAAABwkVEpAAAAAXRSTlMAQObYZgAAAEtJREFUCNdjYIAA\n",
       "zvbM4+EMqGAFg7ODMppYA0Mtw0E0sQUM2QyYQB1TiPMiAxeakCf7BYYqVCGeK9wKnAUw3undQLCA\n",
       "a3tXRwmMAwC3+RVNp6j0GAAAAABJRU5ErkJggg==\n",
       "\" style=\"display:inline;vertical-align:middle;\" /></a></td></tr>\n",
       "<tr><td>3</td><td>Operation</td><td>operator:&nbsp;8<br>operands:&nbsp;6<br></td><td><a class=\"ProveItLink\" href=\"../835f51cc5f7c025f46a68077697f0e2a3c40db810/expr.ipynb\"><img src=\"data:image/png;base64,iVBORw0KGgoAAAANSUhEUgAAACsAAAAOBAMAAABEEvh2AAAAMFBMVEX///+qqqpmZmbc3NxUVFSY\n",
       "mJhEREQiIiIyMjK6uroQEBDMzMyIiIh2dnbu7u4AAAA4MM1YAAAAAXRSTlMAQObYZgAAAGRJREFU\n",
       "GNNjYIADPgMGbIDxABHCfHfPbEARhgjsmsBRgCIMFuBbw8AWgCwMEWD5gGY2RIA/Acxh6uhoX9HR\n",
       "4QATsD+AphoiwA80GMVsiACLAgMvigOhArpnzqF6By6A1/OcSMIAeQEiyOGBraQAAAAASUVORK5C\n",
       "YII=\n",
       "\" style=\"display:inline;vertical-align:middle;\" /></a></td></tr>\n",
       "<tr><td>4</td><td>Operation</td><td>operator:&nbsp;8<br>operands:&nbsp;7<br></td><td><a class=\"ProveItLink\" href=\"../732aa98f927c988b9bfe1416d01ed36546be51dc0/expr.ipynb\"><img src=\"data:image/png;base64,iVBORw0KGgoAAAANSUhEUgAAACsAAAAQBAMAAAB9zpudAAAAMFBMVEX////c3NxmZmbMzMxERESY\n",
       "mJiIiIh2dna6urqqqqoyMjIiIiIQEBBUVFTu7u4AAAAiO1wTAAAAAXRSTlMAQObYZgAAAIlJREFU\n",
       "GNNj4LuzgQEFQAW4LqAKQwX4J8CUCUBoiED/A6gwZwKEhghUM6AJQwTWpl1FFQYL8H1h4DdAFoYI\n",
       "cP5j4ClAFoYIMC1g4FdAFoYIcCsw9AcAOatWrT61ahXQyRABoCv1HyCrhggAjT+O4hKIAO8Epgso\n",
       "whABvmuqqN5BCKB6Bw1wIAkDAINGK1mj6vv8AAAAAElFTkSuQmCC\n",
       "\" style=\"display:inline;vertical-align:middle;\" /></a></td></tr>\n",
       "<tr><td>5</td><td>Operation</td><td>operator:&nbsp;8<br>operands:&nbsp;9<br></td><td><a class=\"ProveItLink\" href=\"../b384a36784fa78888d1b559f9410904a6e04c8e90/expr.ipynb\"><img src=\"data:image/png;base64,iVBORw0KGgoAAAANSUhEUgAAAFAAAAAQBAMAAABzZ+XyAAAAMFBMVEX///+YmJh2dnbMzMwQEBAi\n",
       "IiLu7u6qqqqIiIhUVFS6urpEREQyMjJmZmbc3NwAAACOMKdoAAAAAXRSTlMAQObYZgAAAPlJREFU\n",
       "KM9j4Lt7egEDCmBW0i5gQAOWDAwvGTi+owq+ZeD6ga4wmoFhGgNDPITD9gBC6xcwfEUVYeDwZmBw\n",
       "SWCYD7GbvQEiWg9XCBNheHiageF8AsN9VIUMcKvhIgqnwVR8AppCngmoChkfgBUyf0LTb3SSAVUk\n",
       "gwGskGcDmkIGDi9UEQWIwtsM6AoZ/FEcw24AVsgBdhDvmTNHfc6cAbEfMzDsF0AWSWIAK6xl4HuA\n",
       "rJ/tfwJYIUKkcubMLzMYmC8APYVi9R9gODxAcwwwwJ8qKV1FdWMjAxd6OIAUxv//jxYP7HfvFKAp\n",
       "1Px/ESnikXyNUwQScQ34RACBpVEZou4rGgAAAABJRU5ErkJggg==\n",
       "\" style=\"display:inline;vertical-align:middle;\" /></a></td></tr>\n",
       "<tr><td>6</td><td>ExprTuple</td><td>10, 10</td><td><a class=\"ProveItLink\" href=\"../1c0bb617114f3df6312252662a222f4d927730940/expr.ipynb\"><img src=\"data:image/png;base64,iVBORw0KGgoAAAANSUhEUgAAACcAAAAVBAMAAAA3P+qgAAAAMFBMVEX////c3NwiIiJERESqqqqY\n",
       "mJh2dnZmZmYQEBDu7u4yMjJUVFTMzMyIiIi6uroAAAAs73DqAAAAAXRSTlMAQObYZgAAAM5JREFU\n",
       "GNNjYMAK+C6g8uNAxGk0RewHgMRKdK0LGBh4L6ALhjEwcExAF5zBwPAKw2ZmB4YyIMWZdvcAmA9m\n",
       "sBUwLAWyTzzgUgALghksCxj6gPK9DMwBYIVgBl8Dwz8GBu4PUNMgDJ4PIEF+A6gghAEUbGFgkIc5\n",
       "FcIAajcFKgAaGMDJAGUwsC5gSAcaVcDAdmC+ApQBctIjoIqyuzcZZnyEMhi4HjBwCEANfIjkTdYE\n",
       "KDsAJpiLFHQwQU5g0DFIQ9i8MIXcIPMY0QL0DgMDAOR2MjAvKGjTAAAAAElFTkSuQmCC\n",
       "\" style=\"display:inline;vertical-align:middle;\" /></a></td></tr>\n",
       "<tr><td>7</td><td>ExprTuple</td><td>11, 11</td><td><a class=\"ProveItLink\" href=\"../612e99e6fd74ee3c032efd8d15bfddfb9fc0af9e0/expr.ipynb\"><img src=\"data:image/png;base64,iVBORw0KGgoAAAANSUhEUgAAACcAAAAVBAMAAAA3P+qgAAAAMFBMVEX////c3NwiIiJERESqqqqY\n",
       "mJh2dnZmZmYQEBDu7u4yMjJUVFTMzMyIiIi6uroAAAAs73DqAAAAAXRSTlMAQObYZgAAAO5JREFU\n",
       "GNNtkaFuAkEQhr8WKHdQuHoML4G/R0BVElKDIjlDbStIJTmJ4wyCYDAkGBI8pg9QEoqsgaYK03R2\n",
       "dk5AemL32y+7O//swb9f/f1y3XHDlnDV9GuF8kZoBpWF7VLIoCano9ikwiMEKRxTkwpj+JLpKS+i\n",
       "UIh5lmm+W3qpcJcwlaI/RButrlDMGEHxTNB10kP9lV9JlhElTnq4Pzl5m3BsO+lB5FDTvaQWU0CO\n",
       "t3CXvxFiQCmjB9W4vGDSNHCRDpJkPZA+vg2o7AkerJvPvC1ps9Q1buey75/uQobydDQ81/KNVXff\n",
       "zdXv+IA/Uqw+FpHnSdwAAAAASUVORK5CYII=\n",
       "\" style=\"display:inline;vertical-align:middle;\" /></a></td></tr>\n",
       "<tr><td>8</td><td>Literal</td><td></td><td><a class=\"ProveItLink\" href=\"../3e6688136fa3c7aefbebe51301b7c3ebf0b69c440/expr.ipynb\"><img src=\"data:image/png;base64,iVBORw0KGgoAAAANSUhEUgAAAA4AAAAOBAMAAADtZjDiAAAAJFBMVEX///+6urpUVFQQEBAiIiIy\n",
       "MjJmZmaIiIiqqqrc3Nzu7u4AAACgHpL+AAAAAXRSTlMAQObYZgAAAB5JREFUCNdjYGBgWMkAAe2k\n",
       "0Kmhoc6hoUGk6BMHYgAHOwjcado9fwAAAABJRU5ErkJggg==\n",
       "\" style=\"display:inline;vertical-align:middle;\" /></a></td></tr>\n",
       "<tr><td>9</td><td>ExprTuple</td><td>12, 13, 14</td><td><a class=\"ProveItLink\" href=\"../fd479056cc2ee7215be10058a7ebcbd9e086ea210/expr.ipynb\"><img src=\"data:image/png;base64,iVBORw0KGgoAAAANSUhEUgAAAD0AAAAVBAMAAAAHs/uBAAAAMFBMVEX////c3NwiIiJERESqqqqY\n",
       "mJh2dnZmZmYQEBDu7u4yMjJUVFTMzMyIiIi6uroAAAAs73DqAAAAAXRSTlMAQObYZgAAAVFJREFU\n",
       "KM+Fki9Mw0AUxr92W9eu+4dCYKbQE2DJHAYxDAJBqraEhGQKEhQCQ0igEkcTQBDM/MSmQCCoXAIJ\n",
       "CxKzQSCkZuXdu7tWkIaK3vfeL/e9e/cO+O+rhploR/wegcXDNZW576xoWO6jOKL1FkYfry3OGT1M\n",
       "tZ3ZBAKgEsL1Yc44Z32h1lB8THwLsH3YJ3DnnMun3NgmfgG8A6UIxbkuq/2tEvFcC/uyWKT5nVo3\n",
       "Bbd6uOHoyVOH3u1L4YSC5wOccXiV9DyeSHsIXj0CFy42E27LShvMyzPJnxU0Rsh9s72n+bFoq4cF\n",
       "5peR4vnBYHgaCv9Vih7ouPBJ1AKYH6yoEO0vBOiS63Kn23A+KVdpY+qxkpz6e6Pm4zhuOOd1Sq4f\n",
       "XEMqa/jTRmkCu67nXMcfRfdbUDeDQtJiqvZ4vpncofliSQXpM0qUKwoZ2e/rBfgF0xZRBsRkoUUA\n",
       "AAAASUVORK5CYII=\n",
       "\" style=\"display:inline;vertical-align:middle;\" /></a></td></tr>\n",
       "<tr><td>10</td><td>Variable</td><td></td><td><a class=\"ProveItLink\" href=\"../../../../__pv_it/cbdfda466482236edba0ce44ac7ef39cda0af7a40/expr.ipynb\"><img src=\"data:image/png;base64,iVBORw0KGgoAAAANSUhEUgAAAAkAAAAJBAMAAAASvxsjAAAALVBMVEX///9mZmbc3NxUVFSYmJhE\n",
       "REQiIiIyMjK6uroQEBDMzMyIiIh2dnbu7u4AAABgFDGoAAAAAXRSTlMAQObYZgAAADZJREFUCNdj\n",
       "YOA9s3sBA8PKBvYEBt7ZDKwODMwPGICALwBE6m0Asx0YGIDiAgw8QJUyu/cyAAAmuwmycZ8WfQAA\n",
       "AABJRU5ErkJggg==\n",
       "\" style=\"display:inline;vertical-align:middle;\" /></a></td></tr>\n",
       "<tr><td>11</td><td>Variable</td><td></td><td><a class=\"ProveItLink\" href=\"../../../../__pv_it/6840a4fa6c106149dc16a131294d0c5e44f1b0480/expr.ipynb\"><img src=\"data:image/png;base64,iVBORw0KGgoAAAANSUhEUgAAAAkAAAAOBAMAAAAPuiubAAAALVBMVEX///9mZmbMzMxERESYmJiI\n",
       "iIh2dna6urqqqqoyMjIiIiIQEBBUVFTu7u4AAAD9S1JeAAAAAXRSTlMAQObYZgAAAE1JREFUCNdj\n",
       "4D29gAEIOA+ASL4GEFl3AURmgQiGOaFHGBh4HzPwKTBwvGXgTmBgnMDAJ8DAJcBQ5wBSLncBJLWN\n",
       "gYGngRFoBO9REQYGAGrcDtUkVqASAAAAAElFTkSuQmCC\n",
       "\" style=\"display:inline;vertical-align:middle;\" /></a></td></tr>\n",
       "<tr><td>12</td><td>Literal</td><td></td><td><a class=\"ProveItLink\" href=\"../../../numeral/__pv_it/77d407a64829263cdc16415becd4c2293f77a4bf0/expr.ipynb\"><img src=\"data:image/png;base64,iVBORw0KGgoAAAANSUhEUgAAAAkAAAAOBAMAAAAPuiubAAAAMFBMVEX///+YmJh2dnbMzMwQEBAi\n",
       "IiLu7u6qqqqIiIhUVFS6urpEREQyMjJmZmbc3NwAAACOMKdoAAAAAXRSTlMAQObYZgAAAFBJREFU\n",
       "CNdj4Lt7egEDw0sGju8MDNMYGOIZGFwSGOYvYDifwHAfKAEUSQASzJ9ATJ4NIPI2iOCYACJrGfge\n",
       "MDBfYGB8wPBUSekqUPH//18ZAIliFhc3zESNAAAAAElFTkSuQmCC\n",
       "\" style=\"display:inline;vertical-align:middle;\" /></a></td></tr>\n",
       "<tr><td>13</td><td>Literal</td><td></td><td><a class=\"ProveItLink\" href=\"../../../numeral/__pv_it/9176d93c83afa2c995b614976e3cb49207102fa70/expr.ipynb\"><img src=\"data:image/png;base64,iVBORw0KGgoAAAANSUhEUgAAAAoAAAAOBAMAAADkjZCYAAAAMFBMVEX///+YmJju7u4QEBBUVFQy\n",
       "MjIiIiKIiIi6urpmZmbc3NyqqqpERER2dnbMzMwAAAB0GlNiAAAAAXRSTlMAQObYZgAAAE1JREFU\n",
       "CNdjYHh79zQDA9cEhv4CBt7fDPwJDNxgEgiAIkAQAsR8Vx1ATIbiBhDJ/ImB6wEDz0cG/U8gkj+A\n",
       "ge0XA7sAQ/8FBoadM6MZAEflFACalZ/OAAAAAElFTkSuQmCC\n",
       "\" style=\"display:inline;vertical-align:middle;\" /></a></td></tr>\n",
       "<tr><td>14</td><td>Literal</td><td></td><td><a class=\"ProveItLink\" href=\"../../../numeral/__pv_it/23412ce59ea7e77353d2f9225e02248e73651ca00/expr.ipynb\"><img src=\"data:image/png;base64,iVBORw0KGgoAAAANSUhEUgAAAAoAAAAPBAMAAAAv0UM9AAAALVBMVEX///9mZmaqqqru7u52dnYy\n",
       "MjKYmJjc3NwQEBCIiIhEREQiIiJUVFTMzMwAAACUDTcXAAAAAXRSTlMAQObYZgAAAD5JREFUCNdj\n",
       "YGBguMMAArtABGcXiCyLApEOIJKtAERaMoBIBxDJdAFEmjCASJ0zZ16cBCkF64KQPu/EwBwGACv6\n",
       "DSRgin9qAAAAAElFTkSuQmCC\n",
       "\" style=\"display:inline;vertical-align:middle;\" /></a></td></tr>\n",
       "</table>\n"
      ],
      "text/plain": [
       "0. _x_ + (c + c) + (b + b) + (2 + 3 + 4)\n",
       "   core type: Operation\n",
       "   operator: 8\n",
       "   operands: 1\n",
       "1. (_x_ , c + c , b + b , 2 + 3 + 4)\n",
       "   core type: ExprTuple\n",
       "   sub-expressions: 2, 3, 4, 5\n",
       "2. _x_\n",
       "   core type: Variable\n",
       "   sub-expressions: \n",
       "3. c + c\n",
       "   core type: Operation\n",
       "   operator: 8\n",
       "   operands: 6\n",
       "4. b + b\n",
       "   core type: Operation\n",
       "   operator: 8\n",
       "   operands: 7\n",
       "5. 2 + 3 + 4\n",
       "   core type: Operation\n",
       "   operator: 8\n",
       "   operands: 9\n",
       "6. (c , c)\n",
       "   core type: ExprTuple\n",
       "   sub-expressions: 10, 10\n",
       "7. (b , b)\n",
       "   core type: ExprTuple\n",
       "   sub-expressions: 11, 11\n",
       "8. +\n",
       "   core type: Literal\n",
       "   sub-expressions: \n",
       "9. (2 , 3 , 4)\n",
       "   core type: ExprTuple\n",
       "   sub-expressions: 12, 13, 14\n",
       "10. c\n",
       "    core type: Variable\n",
       "    sub-expressions: \n",
       "11. b\n",
       "    core type: Variable\n",
       "    sub-expressions: \n",
       "12. 2\n",
       "    core type: Literal\n",
       "    sub-expressions: \n",
       "13. 3\n",
       "    core type: Literal\n",
       "    sub-expressions: \n",
       "14. 4\n",
       "    core type: Literal\n",
       "    sub-expressions: "
      ]
     },
     "execution_count": 4,
     "metadata": {},
     "output_type": "execute_result"
    }
   ],
   "source": [
    "# display the expression information\n",
    "expr.exprInfo()"
   ]
  },
  {
   "cell_type": "code",
   "execution_count": null,
   "metadata": {},
   "outputs": [],
   "source": []
  }
 ],
 "metadata": {
  "kernelspec": {
   "display_name": "Python 3",
   "language": "python",
   "name": "python3"
  }
 },
 "nbformat": 4,
 "nbformat_minor": 0
}
