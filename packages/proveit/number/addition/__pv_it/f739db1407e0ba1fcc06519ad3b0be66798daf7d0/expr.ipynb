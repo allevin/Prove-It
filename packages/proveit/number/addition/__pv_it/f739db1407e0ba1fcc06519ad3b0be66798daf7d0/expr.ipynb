{
 "cells": [
  {
   "cell_type": "markdown",
   "metadata": {},
   "source": [
    "Expression of type <a class=\"ProveItLink\" href=\"../../../../../../doc/html/api/proveit.ExprTuple.html\">ExprTuple</a>\n",
    "=======================\n",
    "# from context <a class=\"ProveItLink\" href=\"../../_context_.ipynb\">proveit.number.addition</a>"
   ]
  },
  {
   "cell_type": "code",
   "execution_count": 1,
   "metadata": {},
   "outputs": [],
   "source": [
    "# import Expression classes needed to build the expression\n",
    "from proveit import ExprTuple\n",
    "from proveit._common_ import a, c\n",
    "from proveit.number import four, three, two"
   ]
  },
  {
   "cell_type": "code",
   "execution_count": 2,
   "metadata": {},
   "outputs": [
    {
     "data": {
      "text/html": [
       "<strong id=\"expr\">expr:</strong> <a class=\"ProveItLink\" href=\"expr.ipynb\"><img src=\"data:image/png;base64,iVBORw0KGgoAAAANSUhEUgAAAHgAAAAVBAMAAAB/IDdlAAAAMFBMVEX////c3NwiIiJERESqqqqY\n",
       "mJh2dnZmZmYQEBDu7u4yMjJUVFTMzMyIiIi6uroAAAAs73DqAAAAAXRSTlMAQObYZgAAAexJREFU\n",
       "OMullDtII1EUhv+Jk8ckJsbKQsFUWsmm0FINliJktrUaELTxBYILsoWCjQgxlQSbiGIhgmglGCSB\n",
       "BS0snEYRfFuJWERdXVzUeF9n0mUgDszkv/ec7855ZYBvXRG7Os57zR6HQMNUl9yoHRxIkLF2y4X+\n",
       "ze51aFu4kkwDIh9k88Rd4CAQthFKw1MU67EEnsh26gZ7LQTSCMwh9CnWyTKs9bvBxjTu2fvf4P+k\n",
       "8lHYvqAbjHZMygTfKBEq00+Ctb3RGbXXeHIXlWpx5BwYwppYHFlyc3+DYrIJvovWFFVUM+hWnUhh\n",
       "BehFSqxWKZRwSkUNBWsv8Ktjmk1MSJWx0cGOhUjWX85vIS1++ggOFeFRY5QH2hzFw5XwmSKbgG5T\n",
       "RG0RXBdHtiCtzzDeSUl4lj31cdQLpJRWsJ7L5efFC5ttJCGi0T6gFw2lRDV47DhgxRUO/4EfUUOe\n",
       "HoiDq2wCu3qBK+MvQst9wu+FjQjQz+oNrWVwKGbw6ThG5BXZGMFcBU291Sf31tAzbgm/HWCYt+qW\n",
       "NblUKsWMBdZC/ddUAplHUe78P5Mrbe/yz6Xca7x46LwWfv6RCxbAJgJRmi0SuEEl5fix8fRaNOeO\n",
       "2ayoHD+fzf+SVcJLPBOlnQ9KGJVU2W+bN63Kz1C4gC8dM4NU8319XQAAAABJRU5ErkJggg==\n",
       "\" style=\"display:inline;vertical-align:middle;\" /></a><br>"
      ],
      "text/plain": [
       "expr: (2 , 3 , 4 , a , a , c)"
      ]
     },
     "execution_count": 2,
     "metadata": {},
     "output_type": "execute_result"
    }
   ],
   "source": [
    "# build up the expression from sub-expressions\n",
    "expr = ExprTuple(two, three, four, a, a, c)"
   ]
  },
  {
   "cell_type": "code",
   "execution_count": 3,
   "metadata": {},
   "outputs": [
    {
     "name": "stdout",
     "output_type": "stream",
     "text": [
      "Passed sanity check: built 'expr' is the same as the stored Expression.\n"
     ]
    }
   ],
   "source": [
    "# check that the built expression is the same as the stored expression\n",
    "%check_expr"
   ]
  },
  {
   "cell_type": "code",
   "execution_count": 4,
   "metadata": {},
   "outputs": [
    {
     "data": {
      "text/html": [
       "<table><tr><th>&nbsp;</th><th>core type</th><th>sub-expressions</th><th>expression</th></tr>\n",
       "<tr><td>0</td><td>ExprTuple</td><td>1, 2, 3, 4, 4, 5</td><td><a class=\"ProveItLink\" href=\"expr.ipynb\"><img src=\"data:image/png;base64,iVBORw0KGgoAAAANSUhEUgAAAHgAAAAVBAMAAAB/IDdlAAAAMFBMVEX////c3NwiIiJERESqqqqY\n",
       "mJh2dnZmZmYQEBDu7u4yMjJUVFTMzMyIiIi6uroAAAAs73DqAAAAAXRSTlMAQObYZgAAAexJREFU\n",
       "OMullDtII1EUhv+Jk8ckJsbKQsFUWsmm0FINliJktrUaELTxBYILsoWCjQgxlQSbiGIhgmglGCSB\n",
       "BS0snEYRfFuJWERdXVzUeF9n0mUgDszkv/ec7855ZYBvXRG7Os57zR6HQMNUl9yoHRxIkLF2y4X+\n",
       "ze51aFu4kkwDIh9k88Rd4CAQthFKw1MU67EEnsh26gZ7LQTSCMwh9CnWyTKs9bvBxjTu2fvf4P+k\n",
       "8lHYvqAbjHZMygTfKBEq00+Ctb3RGbXXeHIXlWpx5BwYwppYHFlyc3+DYrIJvovWFFVUM+hWnUhh\n",
       "BehFSqxWKZRwSkUNBWsv8Ktjmk1MSJWx0cGOhUjWX85vIS1++ggOFeFRY5QH2hzFw5XwmSKbgG5T\n",
       "RG0RXBdHtiCtzzDeSUl4lj31cdQLpJRWsJ7L5efFC5ttJCGi0T6gFw2lRDV47DhgxRUO/4EfUUOe\n",
       "HoiDq2wCu3qBK+MvQst9wu+FjQjQz+oNrWVwKGbw6ThG5BXZGMFcBU291Sf31tAzbgm/HWCYt+qW\n",
       "NblUKsWMBdZC/ddUAplHUe78P5Mrbe/yz6Xca7x46LwWfv6RCxbAJgJRmi0SuEEl5fix8fRaNOeO\n",
       "2ayoHD+fzf+SVcJLPBOlnQ9KGJVU2W+bN63Kz1C4gC8dM4NU8319XQAAAABJRU5ErkJggg==\n",
       "\" style=\"display:inline;vertical-align:middle;\" /></a></td></tr>\n",
       "<tr><td>1</td><td>Literal</td><td></td><td><a class=\"ProveItLink\" href=\"../../../numeral/__pv_it/77d407a64829263cdc16415becd4c2293f77a4bf0/expr.ipynb\"><img src=\"data:image/png;base64,iVBORw0KGgoAAAANSUhEUgAAAAkAAAAOBAMAAAAPuiubAAAAMFBMVEX///+YmJh2dnbMzMwQEBAi\n",
       "IiLu7u6qqqqIiIhUVFS6urpEREQyMjJmZmbc3NwAAACOMKdoAAAAAXRSTlMAQObYZgAAAFBJREFU\n",
       "CNdj4Lt7egEDw0sGju8MDNMYGOIZGFwSGOYvYDifwHAfKAEUSQASzJ9ATJ4NIPI2iOCYACJrGfge\n",
       "MDBfYGB8wPBUSekqUPH//18ZAIliFhc3zESNAAAAAElFTkSuQmCC\n",
       "\" style=\"display:inline;vertical-align:middle;\" /></a></td></tr>\n",
       "<tr><td>2</td><td>Literal</td><td></td><td><a class=\"ProveItLink\" href=\"../../../numeral/__pv_it/9176d93c83afa2c995b614976e3cb49207102fa70/expr.ipynb\"><img src=\"data:image/png;base64,iVBORw0KGgoAAAANSUhEUgAAAAoAAAAOBAMAAADkjZCYAAAAMFBMVEX///+YmJju7u4QEBBUVFQy\n",
       "MjIiIiKIiIi6urpmZmbc3NyqqqpERER2dnbMzMwAAAB0GlNiAAAAAXRSTlMAQObYZgAAAE1JREFU\n",
       "CNdjYHh79zQDA9cEhv4CBt7fDPwJDNxgEgiAIkAQAsR8Vx1ATIbiBhDJ/ImB6wEDz0cG/U8gkj+A\n",
       "ge0XA7sAQ/8FBoadM6MZAEflFACalZ/OAAAAAElFTkSuQmCC\n",
       "\" style=\"display:inline;vertical-align:middle;\" /></a></td></tr>\n",
       "<tr><td>3</td><td>Literal</td><td></td><td><a class=\"ProveItLink\" href=\"../../../numeral/__pv_it/23412ce59ea7e77353d2f9225e02248e73651ca00/expr.ipynb\"><img src=\"data:image/png;base64,iVBORw0KGgoAAAANSUhEUgAAAAoAAAAPBAMAAAAv0UM9AAAALVBMVEX///9mZmaqqqru7u52dnYy\n",
       "MjKYmJjc3NwQEBCIiIhEREQiIiJUVFTMzMwAAACUDTcXAAAAAXRSTlMAQObYZgAAAD5JREFUCNdj\n",
       "YGBguMMAArtABGcXiCyLApEOIJKtAERaMoBIBxDJdAFEmjCASJ0zZ16cBCkF64KQPu/EwBwGACv6\n",
       "DSRgin9qAAAAAElFTkSuQmCC\n",
       "\" style=\"display:inline;vertical-align:middle;\" /></a></td></tr>\n",
       "<tr><td>4</td><td>Variable</td><td></td><td><a class=\"ProveItLink\" href=\"../../../../__pv_it/07527342713064c87612d00d8557c53d53d5324a0/expr.ipynb\"><img src=\"data:image/png;base64,iVBORw0KGgoAAAANSUhEUgAAAAsAAAAJBAMAAAAWSsseAAAAMFBMVEX///8yMjKqqqrMzMzu7u4i\n",
       "IiJmZmaYmJhEREQQEBC6urp2dnaIiIhUVFTc3NwAAAD87Fq/AAAAAXRSTlMAQObYZgAAAEhJREFU\n",
       "CNdjYOC7s2seAwPDygccHxgY+L4zsDUwMPB+YGA9wMDA38Dgb8DA8P4Agz6DA4O/AsNFJgMGxgKm\n",
       "MG6gyjunLE4xAAAZTBA5TB6DCwAAAABJRU5ErkJggg==\n",
       "\" style=\"display:inline;vertical-align:middle;\" /></a></td></tr>\n",
       "<tr><td>5</td><td>Variable</td><td></td><td><a class=\"ProveItLink\" href=\"../../../../__pv_it/cbdfda466482236edba0ce44ac7ef39cda0af7a40/expr.ipynb\"><img src=\"data:image/png;base64,iVBORw0KGgoAAAANSUhEUgAAAAkAAAAJBAMAAAASvxsjAAAALVBMVEX///9mZmbc3NxUVFSYmJhE\n",
       "REQiIiIyMjK6uroQEBDMzMyIiIh2dnbu7u4AAABgFDGoAAAAAXRSTlMAQObYZgAAADZJREFUCNdj\n",
       "YOA9s3sBA8PKBvYEBt7ZDKwODMwPGICALwBE6m0Asx0YGIDiAgw8QJUyu/cyAAAmuwmycZ8WfQAA\n",
       "AABJRU5ErkJggg==\n",
       "\" style=\"display:inline;vertical-align:middle;\" /></a></td></tr>\n",
       "</table>\n"
      ],
      "text/plain": [
       "0. (2 , 3 , 4 , a , a , c)\n",
       "   core type: ExprTuple\n",
       "   sub-expressions: 1, 2, 3, 4, 4, 5\n",
       "1. 2\n",
       "   core type: Literal\n",
       "   sub-expressions: \n",
       "2. 3\n",
       "   core type: Literal\n",
       "   sub-expressions: \n",
       "3. 4\n",
       "   core type: Literal\n",
       "   sub-expressions: \n",
       "4. a\n",
       "   core type: Variable\n",
       "   sub-expressions: \n",
       "5. c\n",
       "   core type: Variable\n",
       "   sub-expressions: "
      ]
     },
     "execution_count": 4,
     "metadata": {},
     "output_type": "execute_result"
    }
   ],
   "source": [
    "# display the expression information\n",
    "expr.exprInfo()"
   ]
  },
  {
   "cell_type": "code",
   "execution_count": null,
   "metadata": {},
   "outputs": [],
   "source": []
  }
 ],
 "metadata": {
  "kernelspec": {
   "display_name": "Python 3",
   "language": "python",
   "name": "python3"
  }
 },
 "nbformat": 4,
 "nbformat_minor": 0
}
