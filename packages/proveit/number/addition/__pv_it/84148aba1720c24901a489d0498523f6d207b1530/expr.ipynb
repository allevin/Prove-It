{
 "cells": [
  {
   "cell_type": "markdown",
   "metadata": {},
   "source": [
    "Expression of type <a class=\"ProveItLink\" href=\"../../../../../../doc/html/api/proveit.ExprTuple.html\">ExprTuple</a>\n",
    "=======================\n",
    "# from context <a class=\"ProveItLink\" href=\"../../_context_.ipynb\">proveit.number.addition</a>"
   ]
  },
  {
   "cell_type": "code",
   "execution_count": 1,
   "metadata": {},
   "outputs": [],
   "source": [
    "# import Expression classes needed to build the expression\n",
    "from proveit import ExprTuple\n",
    "from proveit._common_ import a, b, c\n",
    "from proveit.number import Add, four, three, two, zero"
   ]
  },
  {
   "cell_type": "code",
   "execution_count": 2,
   "metadata": {},
   "outputs": [
    {
     "data": {
      "text/html": [
       "<strong id=\"expr\">expr:</strong> <a class=\"ProveItLink\" href=\"expr.ipynb\"><img src=\"data:image/png;base64,iVBORw0KGgoAAAANSUhEUgAAAoEAAAAVBAMAAADLFSn3AAAAMFBMVEX////c3NwiIiJERESqqqqY\n",
       "mJh2dnZmZmYQEBDu7u4yMjJUVFTMzMyIiIi6uroAAAAs73DqAAAAAXRSTlMAQObYZgAAA9dJREFU\n",
       "WMPtmE1oE0EYht/8Z5M2iQfx0EMDghVU6EGPavDiQUvjxaMEDy2olYC0QkW0VgRFa3ophSIJ1R5M\n",
       "LzkoiiV0QVChh4YerNqmBk9FlEabqoHaOPnZbGdmf5pNDhY6h6Z58u433/vt7LezC+yMeocntVMD\n",
       "w+Nc8c8MsKf/GPPLm67DnHqmEVMK1+dFHcnYLT1Q22iMO+GlXwE4imaewpTA5wD1qymMFW5p7m1E\n",
       "Bc0Z4aCeZlIX1DIa5c6VUAIxoDkFdwTmbJkOlz/sOXj9FCHCQTCkOngi+FTAHPBJR4KcGtCcclgF\n",
       "1OtOAt6AEjgLOCNw3oV7o0w7yh9WeY4OKdLux2BIdfDEmlIBB4AVn7bEk1cDmlN2qIB63UlgJaIE\n",
       "RoGvZDnm4dhgj5fWeZWEGlLB38BsQFti96sBQxWs150EzisCSwB95faUZ4+fZPQ2HzuHKXl5QI1I\n",
       "5oWutLgZmH6RCqY0JXAlF4LKAC3vl316SVTjyV6MuBvpWaTBZPq5ArCHMVH6Nhuif226kGAiPgI7\n",
       "x7LPklUjkvl3GZefq2BIU4JoO9aVgWcAx3WTqMaT62XAXdMQxikgrMIr8sAaw1DpK7+GP2RoEmI1\n",
       "pjU42tVIxbzwAJagdgU5CTojuKMMWoO4opeEHE/2YsDdaApH6OaZhzPEA89NlFqElMWmOZz0yreK\n",
       "7BzuLMwpNVIx784yTY6/ijkJ+kvdUglMA4e2kATrxYi7abYPOmLwhnnQlC1XcKGcaTy+Px4vtgiT\n",
       "CMsaRUYqZ1Im3nZERUXiiMfH78XjiRIBBUp3kqC2pA2eNQVAxiqE9S0kQUuMuVsFc5CZbCKDPCAV\n",
       "vF08BWHsogoezZfnkMmpqak/SYq0ptCJiAqpLJ/WlMJuptOnLcnBkVcEpr+wZgX9JJgVZ8QdmYoJ\n",
       "Q3Z/NyI8IFdx8Wp/C5yh5TGYf7Arf5AOGQ3glVVUIRXzXnLW6CY3V90WqErWpYZDAZK9kIM7dlon\n",
       "CTmelLkhd6TCNvogsdKMaWCLoZsUfF9XN73DbA5iJaQzhytobbOrEanJhWGntyrmgHBfR/IM18AB\n",
       "4Sf5ZwInwiGdJOR40s3GkLsXwCU6bsCRUABkN/OFuCoUCswe/eTVJ2z3vVjopW+DyaXXS2pEMt+X\n",
       "/shsEPsWRB3J2HyQB8JDcu23pL8dzegkIcerAGPuHD3pCH2PT/ZCAbgycPpq3OrX90xSi4QCHp/B\n",
       "Z5J6iTYgT3W20GbwnYtojHAvHfm3kPoSCthqTqJBXrRBT+nt1rYYtv8yKyFWfNbcHhX8P9+ku4u9\n",
       "xbTzlt/4WAT+AZK5A4xfGmQtAAAAAElFTkSuQmCC\n",
       "\" style=\"display:inline;vertical-align:middle;\" /></a><br>"
      ],
      "text/plain": [
       "expr: (2 + 3 + 4 + a + a + c + 0 + c + b + b , a + a + c + 2 + 3 + 4 + c + b + b)"
      ]
     },
     "execution_count": 2,
     "metadata": {},
     "output_type": "execute_result"
    }
   ],
   "source": [
    "# build up the expression from sub-expressions\n",
    "expr = ExprTuple(Add(two, three, four, a, a, c, zero, c, b, b), Add(a, a, c, two, three, four, c, b, b))"
   ]
  },
  {
   "cell_type": "code",
   "execution_count": 3,
   "metadata": {},
   "outputs": [
    {
     "name": "stdout",
     "output_type": "stream",
     "text": [
      "Passed sanity check: built 'expr' is the same as the stored Expression.\n"
     ]
    }
   ],
   "source": [
    "# check that the built expression is the same as the stored expression\n",
    "%check_expr"
   ]
  },
  {
   "cell_type": "code",
   "execution_count": 4,
   "metadata": {},
   "outputs": [
    {
     "data": {
      "text/html": [
       "<table><tr><th>&nbsp;</th><th>core type</th><th>sub-expressions</th><th>expression</th></tr>\n",
       "<tr><td>0</td><td>ExprTuple</td><td>1, 2</td><td><a class=\"ProveItLink\" href=\"expr.ipynb\"><img src=\"data:image/png;base64,iVBORw0KGgoAAAANSUhEUgAAAoEAAAAVBAMAAADLFSn3AAAAMFBMVEX////c3NwiIiJERESqqqqY\n",
       "mJh2dnZmZmYQEBDu7u4yMjJUVFTMzMyIiIi6uroAAAAs73DqAAAAAXRSTlMAQObYZgAAA9dJREFU\n",
       "WMPtmE1oE0EYht/8Z5M2iQfx0EMDghVU6EGPavDiQUvjxaMEDy2olYC0QkW0VgRFa3ophSIJ1R5M\n",
       "LzkoiiV0QVChh4YerNqmBk9FlEabqoHaOPnZbGdmf5pNDhY6h6Z58u433/vt7LezC+yMeocntVMD\n",
       "w+Nc8c8MsKf/GPPLm67DnHqmEVMK1+dFHcnYLT1Q22iMO+GlXwE4imaewpTA5wD1qymMFW5p7m1E\n",
       "Bc0Z4aCeZlIX1DIa5c6VUAIxoDkFdwTmbJkOlz/sOXj9FCHCQTCkOngi+FTAHPBJR4KcGtCcclgF\n",
       "1OtOAt6AEjgLOCNw3oV7o0w7yh9WeY4OKdLux2BIdfDEmlIBB4AVn7bEk1cDmlN2qIB63UlgJaIE\n",
       "RoGvZDnm4dhgj5fWeZWEGlLB38BsQFti96sBQxWs150EzisCSwB95faUZ4+fZPQ2HzuHKXl5QI1I\n",
       "5oWutLgZmH6RCqY0JXAlF4LKAC3vl316SVTjyV6MuBvpWaTBZPq5ArCHMVH6Nhuif226kGAiPgI7\n",
       "x7LPklUjkvl3GZefq2BIU4JoO9aVgWcAx3WTqMaT62XAXdMQxikgrMIr8sAaw1DpK7+GP2RoEmI1\n",
       "pjU42tVIxbzwAJagdgU5CTojuKMMWoO4opeEHE/2YsDdaApH6OaZhzPEA89NlFqElMWmOZz0yreK\n",
       "7BzuLMwpNVIx784yTY6/ijkJ+kvdUglMA4e2kATrxYi7abYPOmLwhnnQlC1XcKGcaTy+Px4vtgiT\n",
       "CMsaRUYqZ1Im3nZERUXiiMfH78XjiRIBBUp3kqC2pA2eNQVAxiqE9S0kQUuMuVsFc5CZbCKDPCAV\n",
       "vF08BWHsogoezZfnkMmpqak/SYq0ptCJiAqpLJ/WlMJuptOnLcnBkVcEpr+wZgX9JJgVZ8QdmYoJ\n",
       "Q3Z/NyI8IFdx8Wp/C5yh5TGYf7Arf5AOGQ3glVVUIRXzXnLW6CY3V90WqErWpYZDAZK9kIM7dlon\n",
       "CTmelLkhd6TCNvogsdKMaWCLoZsUfF9XN73DbA5iJaQzhytobbOrEanJhWGntyrmgHBfR/IM18AB\n",
       "4Sf5ZwInwiGdJOR40s3GkLsXwCU6bsCRUABkN/OFuCoUCswe/eTVJ2z3vVjopW+DyaXXS2pEMt+X\n",
       "/shsEPsWRB3J2HyQB8JDcu23pL8dzegkIcerAGPuHD3pCH2PT/ZCAbgycPpq3OrX90xSi4QCHp/B\n",
       "Z5J6iTYgT3W20GbwnYtojHAvHfm3kPoSCthqTqJBXrRBT+nt1rYYtv8yKyFWfNbcHhX8P9+ku4u9\n",
       "xbTzlt/4WAT+AZK5A4xfGmQtAAAAAElFTkSuQmCC\n",
       "\" style=\"display:inline;vertical-align:middle;\" /></a></td></tr>\n",
       "<tr><td>1</td><td>Operation</td><td>operator:&nbsp;4<br>operands:&nbsp;3<br></td><td><a class=\"ProveItLink\" href=\"../9ae8443876a8b637f9f9b8d28032566b1182ad4e0/expr.ipynb\"><img src=\"data:image/png;base64,iVBORw0KGgoAAAANSUhEUgAAAUcAAAAQBAMAAAB3m6CjAAAAMFBMVEX///+YmJh2dnbMzMwQEBAi\n",
       "IiLu7u6qqqqIiIhUVFS6urpEREQyMjJmZmbc3NwAAACOMKdoAAAAAXRSTlMAQObYZgAAAqhJREFU\n",
       "SMetls9r02AYx79bbdLFNu2fUCrC1IPBm3gQ/HHZZA70oMhoGB7cxQZEmAdppwy64UBBtAOlBXfw\n",
       "1nrztnnYoSxgJwjKOlYRDz3IulXXwZSatE3N8yS1bDaHNHx4vt98877P+76FvL6SAbk8kRMa2HUa\n",
       "PbiET3NKl5KJi1zzdNS4l+GrUf4d0i4X3+hFSG9GuNKtJs+B/7FxewZEW6FLzd+TGn5SAt9w6+G2\n",
       "c3hKXYkFpoFHnUSWcY2DoDmrF1Skm/MtJpo43g5pEXxZaT1MOkK2azoTC1wHsqUOopaxtMMAsqpx\n",
       "e69iI8OU1nS3SbgnIX8DZ7V/h+wf5SGPtn6jKlM2+sBG+ko8pJw6PsIilR8ssGEaH3xoB/K2ETLh\n",
       "XmIZ+1MzIfqmfPJJYzVvs9edyrMhuAUecqF0uEJrpBEsUuIZwrIjZNi9xDKO5VAlQNhD0NwS/Dk+\n",
       "Tb4hSsI8pLyFAFNthrBGyc0E3nQJ2S6xjOMqzhEg7uCQqVlz9tJl0gCiwkMOVOBNUFUauOYg6DLd\n",
       "ad6TxUbn2kBgCcGCMWyNBgzo+vIlXTefvwKLITsZRzNkUdev6rrZC8EcYgpV7UGocsKMzYUTcimx\n",
       "GY9B2iLAW0DW0NyHTBpeqKuNkH/Jvfn5HynyfZsJxEFGW96FWBEYcW5B8ZJ7iWVcQ2CHAGOb3FDh\n",
       "KRiLl3j9MtY7386GqVdMwwtRIZ9Ww8DSHaIyhqSPgOn2huIosYyrzQ60hVTMJv0WiXykyilIfL3z\n",
       "kP6QONZPa97hboGuipfAEQK8mnAe7iWW8XN8Zt2vBYy+iNbr7HwR14saC3msvkpXd2r2zCytKSdf\n",
       "vaWHQmAwSTdg4cOMAvcSy3hiLkRDCqnV/Z4d/3fi7Mt40v0PiJToTl4fRHUgYzv4A6tcCzMqg+7v\n",
       "AAAAAElFTkSuQmCC\n",
       "\" style=\"display:inline;vertical-align:middle;\" /></a></td></tr>\n",
       "<tr><td>2</td><td>Operation</td><td>operator:&nbsp;4<br>operands:&nbsp;5<br></td><td><a class=\"ProveItLink\" href=\"../851546d27263cf742922f4bfd519f741c835ccb50/expr.ipynb\"><img src=\"data:image/png;base64,iVBORw0KGgoAAAANSUhEUgAAASQAAAAQBAMAAABNSx/QAAAAMFBMVEX///8yMjKqqqrMzMzu7u4i\n",
       "IiJmZmaYmJhEREQQEBC6urp2dnaIiIhUVFTc3NwAAAD87Fq/AAAAAXRSTlMAQObYZgAAAjxJREFU\n",
       "SMedlM1LG1EUxU8mcbSTL2chuAmdlSvFLFtKYfZ+xJXYVZJFVSjF+RPyH4gLwdbSZisIZiOIQZyF\n",
       "KEiEWAqlEOlAabsqppr6gUKcRF8y9z5C6rzd/LjnzHn33fcAXys2O5inJFjcMnjVyy4uoW9TjEws\n",
       "w+/6g8gZJb+g3fKqmW42gTInCfo5KW/D6QC+AGlKdg38Y6LISidjURI3+I/YRoelSIrdAbwz8T1P\n",
       "yGgrUkv0e7CTsSjZMBnQar4jPTWxkGcl4uBapNA10iYH4eZwxSrbH6myTURlqFhK8oxpkxExGIL0\n",
       "OjySZJMofaWaQOXIAtacvipVtomofJ4PTLEAwRvWkxcJtuNx8EjcJnSFOM2YyuEcsUuoOaL0ECH9\n",
       "gD6L9yTHzzbynpICjyTZKDU8KdCJNLGKaBU9NlF6yENltCoP17w8bp/IUSpJHkmyUfsRzxCXLHCB\n",
       "eA6pRvOyuv5K1xvNF0TV9YElXS83CQhwW1Jm5AewaHnJGO4jEWMq6slgg2gwDe0SpzZGYXo34yEP\n",
       "4U9tqUtDiDnkbOtmM1KbjJycXFfAjKmN+ywt0EtyBrWGlIFjJelVeoiQuv+isxTMuBeKkL/uHXTY\n",
       "Ua7Qg5Ns3NlepVs9bwxXwFKmw0TpIWKWMgjTm/GzWHxNzQ6g8TvII0k2UUNlD8dnvG08QofPDumN\n",
       "axNR+aa0R0G6XmdvtTKbNViknfocfQS4TagyxwZiYt/y+3o/jgz78L1f6xLR7G7gv8j6o3zvALv+\n",
       "2G1XjYz1AAAAAElFTkSuQmCC\n",
       "\" style=\"display:inline;vertical-align:middle;\" /></a></td></tr>\n",
       "<tr><td>3</td><td>ExprTuple</td><td>8, 9, 10, 7, 7, 11, 6, 11, 12, 12</td><td><a class=\"ProveItLink\" href=\"../2aee08c71e4836febe9f8e3e6ec9fb29471d433c0/expr.ipynb\"><img src=\"data:image/png;base64,iVBORw0KGgoAAAANSUhEUgAAAMIAAAAVBAMAAADm9CyVAAAAMFBMVEX////c3NwiIiJERESqqqqY\n",
       "mJh2dnZmZmYQEBDu7u4yMjJUVFTMzMyIiIi6uroAAAAs73DqAAAAAXRSTlMAQObYZgAAAo5JREFU\n",
       "SMe1lU9oE0EUxr+Nmz+TNGs89VChOdmDijnoUbt4lELWa0+LQnuxWhAqRAUrIoiS7kmKPUSUHkSQ\n",
       "CoJgCQkIevCQRdCKsTV6CiIYNW2JpI2zszP7LxpySSDJb7/3dr6dN29mgcF/FHOAg4dr9OcNMJw7\n",
       "YQtDU2dVERxa6WMEcnWtHJCWrnvhCv0+grSCz/bAw1B2RGYo04dDqEYOBbXHXogDSRMJA6EG0y6o\n",
       "+CXiH/pxeAt8DGpNL4R1xAzEbiGxy7Ss6yBN9uNwEPiRCqxrywvkGr7RmbQQ3RWyqFIk3o/DNlBR\n",
       "/VIk7YOjmLPrKYzjYn1PCwepeH6eayPv6/yB7858YrEt6mD6JMSLVc0D01hmVxXdTnsllomYwqGe\n",
       "2tPg85vHOO+zPB44DrpPQiGDtgdOIc+uHoo5JvN8iuAO0iai3GtUw0WbFk0cCzgICVkDNz1QB1uA\n",
       "qFvzBYP9TQiHRAMhXocScNghBKokJOTY6jhQsR2qPLofGGdFJLpw2JtBgW+q3yBtQZ6V1vzSGJRN\n",
       "D1Rwg7I8i31s3I7BHeTV1dJt9nCjJrJg85J2IDcIJ7dbsym/1ES05YE6K95r2jpslD/AkRSxM2MZ\n",
       "WFRQ8UIuW0SaSNyfYHn02cIM6I47w9JcqY2Y7gImaTdBOjA1nSbWVnsHZQuFtHCwKK7JYxFbW8bJ\n",
       "WZ3lPQfOMQip5I4ddKRnuAwHrG79StM6nU6aLNDZypdyKhZ/smYqbWsWScWNlxu2NrL+/XiN5UVn\n",
       "1g0GZK5atoOOtLSmwQHgCWJi0yvO7v+CXqT0uKE7Rk+NsC6OcmcMrSeF8f8bumMR0zq9B+lwz6ou\n",
       "Z+dVl0QvcvP+cUN37KnVyYN8iybL+AtZidhFqlj0IgAAAABJRU5ErkJggg==\n",
       "\" style=\"display:inline;vertical-align:middle;\" /></a></td></tr>\n",
       "<tr><td>4</td><td>Literal</td><td></td><td><a class=\"ProveItLink\" href=\"../3e6688136fa3c7aefbebe51301b7c3ebf0b69c440/expr.ipynb\"><img src=\"data:image/png;base64,iVBORw0KGgoAAAANSUhEUgAAAA4AAAAOBAMAAADtZjDiAAAAJFBMVEX///+6urpUVFQQEBAiIiIy\n",
       "MjJmZmaIiIiqqqrc3Nzu7u4AAACgHpL+AAAAAXRSTlMAQObYZgAAAB5JREFUCNdjYGBgWMkAAe2k\n",
       "0Kmhoc6hoUGk6BMHYgAHOwjcado9fwAAAABJRU5ErkJggg==\n",
       "\" style=\"display:inline;vertical-align:middle;\" /></a></td></tr>\n",
       "<tr><td>5</td><td>ExprTuple</td><td>7, 7, 11, 8, 9, 10, 11, 12, 12</td><td><a class=\"ProveItLink\" href=\"../ac75dcd042159212dfec8305293ff6598cf614980/expr.ipynb\"><img src=\"data:image/png;base64,iVBORw0KGgoAAAANSUhEUgAAAK8AAAAVBAMAAADC7aNVAAAAMFBMVEX////c3NwiIiJERESqqqqY\n",
       "mJh2dnZmZmYQEBDu7u4yMjJUVFTMzMyIiIi6uroAAAAs73DqAAAAAXRSTlMAQObYZgAAAnpJREFU\n",
       "OMu1lT9oE1Ecx79pLn9eLskFQRwUFBycJFkcpYeLg0JvcpSgEAeNHpa24FKLIi6mN5UskmDpIB3s\n",
       "Iv4ppQeCCC5ZFARTUqciQmP/oWKN7++980LN0t4QPnm/9773e9/f770DDuzJt/Zf8zL7eT9gUmxi\n",
       "tiMoW7lqq9HoKvLyRAhSPqWnA4SPIrcl6Ajyu2r0ZHRaZiEMTSA3yIlXQFHQLRsbcjB3LzrNssNw\n",
       "CUh7A4QfelgWXoxo4cOz0WnrXhjqwNdBhXjmYbKjCq2sKPcJX/kH4jbGWX2Wbk4pRz+uFQTNVD+r\n",
       "uUUvYmSioIRJpe1zmG8/h4akiznKa4V4V6Y0hWHZAjU8kYuzOxLezkt4DCX8rpPh7UA2YfkajCZq\n",
       "NOFtpEpi3nEHo4LqLZxReZZU6rmadEIJk0eIOwyMn0iXNeTv4g9gdjEke2MZOB2QekY1TnNTDF8J\n",
       "m3KnSDVhuRqyXSZsldAQRmET5LeiIE3VoceAYZ7eDJSwpTYz5GLd0UCF79P9tzACnkpsF0aXSFLP\n",
       "ecR4PUnPk8IXFhd/LAnrWrp7Jz0N1ApqZMPGa8NnemQLZvMif8k2rT2HrEubgL/sF+0PQQA9ICxo\n",
       "0Rc5bIgW7AECQKKJa7Q4jnEqiQar7hzOuWXCjsEL4AaHQ5XKbRH8gPyOICbMg6aLpM+GTDu1gABY\n",
       "u31hbbzyZgX176yN29/Odsg03Xqq2vY4FHu9DRE0Ju7YgnC9N8aDGG9/4kNkaQwakOkgXVBeruqb\n",
       "tBCFUHAVewcDoEc6UVZ/nGBtog9CQec/wQCq4WtzH4VJk9+3sl31MWj1gQ7msHcwAJO5FDuATxO9\n",
       "vv4C2IG/NPp1Q+0AAAAASUVORK5CYII=\n",
       "\" style=\"display:inline;vertical-align:middle;\" /></a></td></tr>\n",
       "<tr><td>6</td><td>Literal</td><td></td><td><a class=\"ProveItLink\" href=\"../../../numeral/__pv_it/ec23fc7a1b4222a5f4948b495002b97d6fa18c3c0/expr.ipynb\"><img src=\"data:image/png;base64,iVBORw0KGgoAAAANSUhEUgAAAAoAAAAOBAMAAADkjZCYAAAALVBMVEX///8QEBCYmJh2dnaqqqrc\n",
       "3NxUVFQyMjK6uroiIiLMzMyIiIhmZmbu7u4AAAAZjyHdAAAAAXRSTlMAQObYZgAAAEpJREFUCNdj\n",
       "YLiz+xQDA8MMhpsLGLgnMHAXMHAmMHA8ZeA7wMD1hCHOgIHrNZh8jES+Bss+AqlkeQrSxTyBgWEK\n",
       "w8UFDAx3rLMYAMCjFldHSx/9AAAAAElFTkSuQmCC\n",
       "\" style=\"display:inline;vertical-align:middle;\" /></a></td></tr>\n",
       "<tr><td>7</td><td>Variable</td><td></td><td><a class=\"ProveItLink\" href=\"../../../../__pv_it/07527342713064c87612d00d8557c53d53d5324a0/expr.ipynb\"><img src=\"data:image/png;base64,iVBORw0KGgoAAAANSUhEUgAAAAsAAAAJBAMAAAAWSsseAAAAMFBMVEX///8yMjKqqqrMzMzu7u4i\n",
       "IiJmZmaYmJhEREQQEBC6urp2dnaIiIhUVFTc3NwAAAD87Fq/AAAAAXRSTlMAQObYZgAAAEhJREFU\n",
       "CNdjYOC7s2seAwPDygccHxgY+L4zsDUwMPB+YGA9wMDA38Dgb8DA8P4Agz6DA4O/AsNFJgMGxgKm\n",
       "MG6gyjunLE4xAAAZTBA5TB6DCwAAAABJRU5ErkJggg==\n",
       "\" style=\"display:inline;vertical-align:middle;\" /></a></td></tr>\n",
       "<tr><td>8</td><td>Literal</td><td></td><td><a class=\"ProveItLink\" href=\"../../../numeral/__pv_it/77d407a64829263cdc16415becd4c2293f77a4bf0/expr.ipynb\"><img src=\"data:image/png;base64,iVBORw0KGgoAAAANSUhEUgAAAAkAAAAOBAMAAAAPuiubAAAAMFBMVEX///+YmJh2dnbMzMwQEBAi\n",
       "IiLu7u6qqqqIiIhUVFS6urpEREQyMjJmZmbc3NwAAACOMKdoAAAAAXRSTlMAQObYZgAAAFBJREFU\n",
       "CNdj4Lt7egEDw0sGju8MDNMYGOIZGFwSGOYvYDifwHAfKAEUSQASzJ9ATJ4NIPI2iOCYACJrGfge\n",
       "MDBfYGB8wPBUSekqUPH//18ZAIliFhc3zESNAAAAAElFTkSuQmCC\n",
       "\" style=\"display:inline;vertical-align:middle;\" /></a></td></tr>\n",
       "<tr><td>9</td><td>Literal</td><td></td><td><a class=\"ProveItLink\" href=\"../../../numeral/__pv_it/9176d93c83afa2c995b614976e3cb49207102fa70/expr.ipynb\"><img src=\"data:image/png;base64,iVBORw0KGgoAAAANSUhEUgAAAAoAAAAOBAMAAADkjZCYAAAAMFBMVEX///+YmJju7u4QEBBUVFQy\n",
       "MjIiIiKIiIi6urpmZmbc3NyqqqpERER2dnbMzMwAAAB0GlNiAAAAAXRSTlMAQObYZgAAAE1JREFU\n",
       "CNdjYHh79zQDA9cEhv4CBt7fDPwJDNxgEgiAIkAQAsR8Vx1ATIbiBhDJ/ImB6wEDz0cG/U8gkj+A\n",
       "ge0XA7sAQ/8FBoadM6MZAEflFACalZ/OAAAAAElFTkSuQmCC\n",
       "\" style=\"display:inline;vertical-align:middle;\" /></a></td></tr>\n",
       "<tr><td>10</td><td>Literal</td><td></td><td><a class=\"ProveItLink\" href=\"../../../numeral/__pv_it/23412ce59ea7e77353d2f9225e02248e73651ca00/expr.ipynb\"><img src=\"data:image/png;base64,iVBORw0KGgoAAAANSUhEUgAAAAoAAAAPBAMAAAAv0UM9AAAALVBMVEX///9mZmaqqqru7u52dnYy\n",
       "MjKYmJjc3NwQEBCIiIhEREQiIiJUVFTMzMwAAACUDTcXAAAAAXRSTlMAQObYZgAAAD5JREFUCNdj\n",
       "YGBguMMAArtABGcXiCyLApEOIJKtAERaMoBIBxDJdAFEmjCASJ0zZ16cBCkF64KQPu/EwBwGACv6\n",
       "DSRgin9qAAAAAElFTkSuQmCC\n",
       "\" style=\"display:inline;vertical-align:middle;\" /></a></td></tr>\n",
       "<tr><td>11</td><td>Variable</td><td></td><td><a class=\"ProveItLink\" href=\"../../../../__pv_it/cbdfda466482236edba0ce44ac7ef39cda0af7a40/expr.ipynb\"><img src=\"data:image/png;base64,iVBORw0KGgoAAAANSUhEUgAAAAkAAAAJBAMAAAASvxsjAAAALVBMVEX///9mZmbc3NxUVFSYmJhE\n",
       "REQiIiIyMjK6uroQEBDMzMyIiIh2dnbu7u4AAABgFDGoAAAAAXRSTlMAQObYZgAAADZJREFUCNdj\n",
       "YOA9s3sBA8PKBvYEBt7ZDKwODMwPGICALwBE6m0Asx0YGIDiAgw8QJUyu/cyAAAmuwmycZ8WfQAA\n",
       "AABJRU5ErkJggg==\n",
       "\" style=\"display:inline;vertical-align:middle;\" /></a></td></tr>\n",
       "<tr><td>12</td><td>Variable</td><td></td><td><a class=\"ProveItLink\" href=\"../../../../__pv_it/6840a4fa6c106149dc16a131294d0c5e44f1b0480/expr.ipynb\"><img src=\"data:image/png;base64,iVBORw0KGgoAAAANSUhEUgAAAAkAAAAOBAMAAAAPuiubAAAALVBMVEX///9mZmbMzMxERESYmJiI\n",
       "iIh2dna6urqqqqoyMjIiIiIQEBBUVFTu7u4AAAD9S1JeAAAAAXRSTlMAQObYZgAAAE1JREFUCNdj\n",
       "4D29gAEIOA+ASL4GEFl3AURmgQiGOaFHGBh4HzPwKTBwvGXgTmBgnMDAJ8DAJcBQ5wBSLncBJLWN\n",
       "gYGngRFoBO9REQYGAGrcDtUkVqASAAAAAElFTkSuQmCC\n",
       "\" style=\"display:inline;vertical-align:middle;\" /></a></td></tr>\n",
       "</table>\n"
      ],
      "text/plain": [
       "0. (2 + 3 + 4 + a + a + c + 0 + c + b + b , a + a + c + 2 + 3 + 4 + c + b + b)\n",
       "   core type: ExprTuple\n",
       "   sub-expressions: 1, 2\n",
       "1. 2 + 3 + 4 + a + a + c + 0 + c + b + b\n",
       "   core type: Operation\n",
       "   operator: 4\n",
       "   operands: 3\n",
       "2. a + a + c + 2 + 3 + 4 + c + b + b\n",
       "   core type: Operation\n",
       "   operator: 4\n",
       "   operands: 5\n",
       "3. (2 , 3 , 4 , a , a , c , 0 , c , b , b)\n",
       "   core type: ExprTuple\n",
       "   sub-expressions: 8, 9, 10, 7, 7, 11, 6, 11, 12, 12\n",
       "4. +\n",
       "   core type: Literal\n",
       "   sub-expressions: \n",
       "5. (a , a , c , 2 , 3 , 4 , c , b , b)\n",
       "   core type: ExprTuple\n",
       "   sub-expressions: 7, 7, 11, 8, 9, 10, 11, 12, 12\n",
       "6. 0\n",
       "   core type: Literal\n",
       "   sub-expressions: \n",
       "7. a\n",
       "   core type: Variable\n",
       "   sub-expressions: \n",
       "8. 2\n",
       "   core type: Literal\n",
       "   sub-expressions: \n",
       "9. 3\n",
       "   core type: Literal\n",
       "   sub-expressions: \n",
       "10. 4\n",
       "    core type: Literal\n",
       "    sub-expressions: \n",
       "11. c\n",
       "    core type: Variable\n",
       "    sub-expressions: \n",
       "12. b\n",
       "    core type: Variable\n",
       "    sub-expressions: "
      ]
     },
     "execution_count": 4,
     "metadata": {},
     "output_type": "execute_result"
    }
   ],
   "source": [
    "# display the expression information\n",
    "expr.exprInfo()"
   ]
  },
  {
   "cell_type": "code",
   "execution_count": null,
   "metadata": {},
   "outputs": [],
   "source": []
  }
 ],
 "metadata": {
  "kernelspec": {
   "display_name": "Python 3",
   "language": "python",
   "name": "python3"
  }
 },
 "nbformat": 4,
 "nbformat_minor": 0
}
