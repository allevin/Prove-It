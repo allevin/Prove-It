{
 "cells": [
  {
   "cell_type": "markdown",
   "metadata": {},
   "source": [
    "Expression of type <a class=\"ProveItLink\" href=\"../../../../../../doc/html/api/proveit.ExprTuple.html\">ExprTuple</a>\n",
    "=======================\n",
    "# from context <a class=\"ProveItLink\" href=\"../../_context_.ipynb\">proveit.number.addition</a>"
   ]
  },
  {
   "cell_type": "code",
   "execution_count": 1,
   "metadata": {},
   "outputs": [],
   "source": [
    "# import Expression classes needed to build the expression\n",
    "from proveit import ExprTuple\n",
    "from proveit._common_ import A, B, C, a, b, c\n",
    "from proveit.number import Add, one, three"
   ]
  },
  {
   "cell_type": "code",
   "execution_count": 2,
   "metadata": {},
   "outputs": [
    {
     "data": {
      "text/html": [
       "<strong id=\"expr\">expr:</strong> <a class=\"ProveItLink\" href=\"expr.ipynb\"><img src=\"data:image/png;base64,iVBORw0KGgoAAAANSUhEUgAAAQsAAAAVBAMAAACj0NY+AAAAMFBMVEX////c3NwiIiJERESqqqqY\n",
       "mJh2dnZmZmYQEBDu7u4yMjJUVFTMzMyIiIi6uroAAAAs73DqAAAAAXRSTlMAQObYZgAAA0BJREFU\n",
       "SMfNVk1oE0EU/pLudrM2f6DgQaHerHhoL0L1ktw8lQYFL4IWBX/A2iDUll5SUQR7aCKChCo2VkTd\n",
       "HMxFKl1KgoIIPTQg3mybevEHpNXaSlPaOLMzu83ObknjpQayO+/bb2a+ee/NmwH+k1+wuNMKztDH\n",
       "lIj6D7hQ37CX+tr6eLqi68dKpqV+GO/1xIVORx3DiIj/wvkolAJpvRCpuxZdZLw0P+Ys6CagbJjG\n",
       "pRiC/TF7n3ur4igOZC+C60AGCDhicsLk3t3E5NYUa4Si1kJIf/8aN0YOkUdP2DbOA90cSA1vhfRE\n",
       "8Qs4BfhSggrP8Z+81bEJ7knwfgsWPUBo8go3nlP4qzBSwJxUKm6FdBoy0sB30RmBwIZTRnGOZ8E5\n",
       "C2oYBLx3WFv5zTxctwwYQWmI4jp1wOTVG1bnb9KyQ0Yw1cnjnp15xbFQDp4n3DfNGfp8yIz73Z/q\n",
       "kEGTrTGOp9Sb4QYrLdUSDbog4xGmWT91CaECw6YnZ66ZOZmoSk7/MMa2L+NdlloZDBNnLENpsxYO\n",
       "zx+HjBKa2WaUVuHrYthcGOph/r21KjnTRRypwxsBIiA4CJIITYvwWvCUri+JMvy6nmc6lQxCvDq0\n",
       "UyncCxXjySKUry83kEzBv0hlhNowWthcOIboe0DTWjQtyz0EnxF9eONY4FPTvXqWeyZpDM3GWBJk\n",
       "KJo2NqRpOVdkPxCJURm3SIIV0cmXAon8W0RvkFrhHTTLRoIx/TSR87yK5CmmsP2+Xoc31EqKyiBB\n",
       "IXEcjWJCKqisQFRVTFOGJ8pKK5mL5OdtqGbZ8JTBDCOBL7OwEHkyW9Q2glI28krO4CKZIiYdbMQo\n",
       "PS1U6vtIyi5jhFaJVaik0DRFlRxj0rLxnhwEhiGTuvElbDAwDlwxGtuR8RHBFWPDfqZlY/btLNJ0\n",
       "ee3lME5Wntlk7E4+hhwpx9UkmWiyFwZTiazpE3Szp42aO5XtIy6jDCjdMynW6C/32id1IlLfAHV1\n",
       "CT5rr82L9bRDvBKE3Zjzboyg7XiRHOeWHSHFXO4yjZjI/SHYsisz5saQa1xp7Eh39UEfq3U9+WcZ\n",
       "NX5GQu4z06cmvejGDLgxUNeNrolG0LPjl0ByEv4FC4AMFp6/X94AAAAASUVORK5CYII=\n",
       "\" style=\"display:inline;vertical-align:middle;\" /></a><br>"
      ],
      "text/plain": [
       "expr: (a , A + A , b , B , C , c , 1 + 1 + 3)"
      ]
     },
     "execution_count": 2,
     "metadata": {},
     "output_type": "execute_result"
    }
   ],
   "source": [
    "# build up the expression from sub-expressions\n",
    "expr = ExprTuple(a, Add(A, A), b, B, C, c, Add(one, one, three))"
   ]
  },
  {
   "cell_type": "code",
   "execution_count": 3,
   "metadata": {},
   "outputs": [
    {
     "name": "stdout",
     "output_type": "stream",
     "text": [
      "Passed sanity check: built 'expr' is the same as the stored Expression.\n"
     ]
    }
   ],
   "source": [
    "# check that the built expression is the same as the stored expression\n",
    "%check_expr"
   ]
  },
  {
   "cell_type": "code",
   "execution_count": 4,
   "metadata": {},
   "outputs": [
    {
     "data": {
      "text/html": [
       "<table><tr><th>&nbsp;</th><th>core type</th><th>sub-expressions</th><th>expression</th></tr>\n",
       "<tr><td>0</td><td>ExprTuple</td><td>1, 2, 3, 4, 5, 6, 7</td><td><a class=\"ProveItLink\" href=\"expr.ipynb\"><img src=\"data:image/png;base64,iVBORw0KGgoAAAANSUhEUgAAAQsAAAAVBAMAAACj0NY+AAAAMFBMVEX////c3NwiIiJERESqqqqY\n",
       "mJh2dnZmZmYQEBDu7u4yMjJUVFTMzMyIiIi6uroAAAAs73DqAAAAAXRSTlMAQObYZgAAA0BJREFU\n",
       "SMfNVk1oE0EU/pLudrM2f6DgQaHerHhoL0L1ktw8lQYFL4IWBX/A2iDUll5SUQR7aCKChCo2VkTd\n",
       "HMxFKl1KgoIIPTQg3mybevEHpNXaSlPaOLMzu83ObknjpQayO+/bb2a+ee/NmwH+k1+wuNMKztDH\n",
       "lIj6D7hQ37CX+tr6eLqi68dKpqV+GO/1xIVORx3DiIj/wvkolAJpvRCpuxZdZLw0P+Ys6CagbJjG\n",
       "pRiC/TF7n3ur4igOZC+C60AGCDhicsLk3t3E5NYUa4Si1kJIf/8aN0YOkUdP2DbOA90cSA1vhfRE\n",
       "8Qs4BfhSggrP8Z+81bEJ7knwfgsWPUBo8go3nlP4qzBSwJxUKm6FdBoy0sB30RmBwIZTRnGOZ8E5\n",
       "C2oYBLx3WFv5zTxctwwYQWmI4jp1wOTVG1bnb9KyQ0Yw1cnjnp15xbFQDp4n3DfNGfp8yIz73Z/q\n",
       "kEGTrTGOp9Sb4QYrLdUSDbog4xGmWT91CaECw6YnZ66ZOZmoSk7/MMa2L+NdlloZDBNnLENpsxYO\n",
       "zx+HjBKa2WaUVuHrYthcGOph/r21KjnTRRypwxsBIiA4CJIITYvwWvCUri+JMvy6nmc6lQxCvDq0\n",
       "UyncCxXjySKUry83kEzBv0hlhNowWthcOIboe0DTWjQtyz0EnxF9eONY4FPTvXqWeyZpDM3GWBJk\n",
       "KJo2NqRpOVdkPxCJURm3SIIV0cmXAon8W0RvkFrhHTTLRoIx/TSR87yK5CmmsP2+Xoc31EqKyiBB\n",
       "IXEcjWJCKqisQFRVTFOGJ8pKK5mL5OdtqGbZ8JTBDCOBL7OwEHkyW9Q2glI28krO4CKZIiYdbMQo\n",
       "PS1U6vtIyi5jhFaJVaik0DRFlRxj0rLxnhwEhiGTuvElbDAwDlwxGtuR8RHBFWPDfqZlY/btLNJ0\n",
       "ee3lME5Wntlk7E4+hhwpx9UkmWiyFwZTiazpE3Szp42aO5XtIy6jDCjdMynW6C/32id1IlLfAHV1\n",
       "CT5rr82L9bRDvBKE3Zjzboyg7XiRHOeWHSHFXO4yjZjI/SHYsisz5saQa1xp7Eh39UEfq3U9+WcZ\n",
       "NX5GQu4z06cmvejGDLgxUNeNrolG0LPjl0ByEv4FC4AMFp6/X94AAAAASUVORK5CYII=\n",
       "\" style=\"display:inline;vertical-align:middle;\" /></a></td></tr>\n",
       "<tr><td>1</td><td>Variable</td><td></td><td><a class=\"ProveItLink\" href=\"../../../../__pv_it/07527342713064c87612d00d8557c53d53d5324a0/expr.ipynb\"><img src=\"data:image/png;base64,iVBORw0KGgoAAAANSUhEUgAAAAsAAAAJBAMAAAAWSsseAAAAMFBMVEX///8yMjKqqqrMzMzu7u4i\n",
       "IiJmZmaYmJhEREQQEBC6urp2dnaIiIhUVFTc3NwAAAD87Fq/AAAAAXRSTlMAQObYZgAAAEhJREFU\n",
       "CNdjYOC7s2seAwPDygccHxgY+L4zsDUwMPB+YGA9wMDA38Dgb8DA8P4Agz6DA4O/AsNFJgMGxgKm\n",
       "MG6gyjunLE4xAAAZTBA5TB6DCwAAAABJRU5ErkJggg==\n",
       "\" style=\"display:inline;vertical-align:middle;\" /></a></td></tr>\n",
       "<tr><td>2</td><td>Operation</td><td>operator:&nbsp;9<br>operands:&nbsp;8<br></td><td><a class=\"ProveItLink\" href=\"../f0be581c6e6d918ea595a01b8fec4841ff7467570/expr.ipynb\"><img src=\"data:image/png;base64,iVBORw0KGgoAAAANSUhEUgAAADgAAAAQBAMAAACxV6F2AAAALVBMVEX///8QEBBERERUVFS6urqI\n",
       "iIhmZmaqqqrc3Nzu7u6YmJgyMjIiIiLMzMwAAADtIaYWAAAAAXRSTlMAQObYZgAAAL1JREFUGNNj\n",
       "YACBOwyYgPcAlLEPiyT3AwjNdW4CVGQGQnLNSwjdntcAFSmFy3GUvYAwAuIcMCRZWZ+AaZYJdQsw\n",
       "JD3ZX4HpKQz3AtAlOR14n4IZDgx9CeiSLAwcz8AeMja2U0CXvGxs/AiiiIFxA4iRvXv3wd27N0NN\n",
       "Y5AG0QUMDDwCaDrZgfggyEMFiNCAS7ZDg202EDO9RJXkBFmjN4GhSW4HA5fe6wRkSQ7F1w0Mi95t\n",
       "QwvtUgY8wBWFBwArpC9pNjgDvAAAAABJRU5ErkJggg==\n",
       "\" style=\"display:inline;vertical-align:middle;\" /></a></td></tr>\n",
       "<tr><td>3</td><td>Variable</td><td></td><td><a class=\"ProveItLink\" href=\"../../../../__pv_it/6840a4fa6c106149dc16a131294d0c5e44f1b0480/expr.ipynb\"><img src=\"data:image/png;base64,iVBORw0KGgoAAAANSUhEUgAAAAkAAAAOBAMAAAAPuiubAAAALVBMVEX///9mZmbMzMxERESYmJiI\n",
       "iIh2dna6urqqqqoyMjIiIiIQEBBUVFTu7u4AAAD9S1JeAAAAAXRSTlMAQObYZgAAAE1JREFUCNdj\n",
       "4D29gAEIOA+ASL4GEFl3AURmgQiGOaFHGBh4HzPwKTBwvGXgTmBgnMDAJ8DAJcBQ5wBSLncBJLWN\n",
       "gYGngRFoBO9REQYGAGrcDtUkVqASAAAAAElFTkSuQmCC\n",
       "\" style=\"display:inline;vertical-align:middle;\" /></a></td></tr>\n",
       "<tr><td>4</td><td>Variable</td><td></td><td><a class=\"ProveItLink\" href=\"../../../../__pv_it/077b2ff79244fb4582cbe22c6e3356fa92a52f2f0/expr.ipynb\"><img src=\"data:image/png;base64,iVBORw0KGgoAAAANSUhEUgAAABAAAAAOBAMAAADUAYG5AAAAMFBMVEX///+qqqru7u4iIiJ2dnbc\n",
       "3NyIiIjMzMxmZmYQEBC6uroyMjJERERUVFSYmJgAAADLUcuvAAAAAXRSTlMAQObYZgAAAGpJREFU\n",
       "CNdjYGB4+//u3dMLGIBgDgMDxy8gzf4NiP8CGWxfGRj4vgAZPBMYGJgnARn8FxhY9ygAGfXX0pof\n",
       "gDTlBzAw2YIYJ0EckBBI53sHoBH/gIz7AhBjWH9DjancBLTl/N+7t/cxMAAA3u4f/5xagjYAAAAA\n",
       "SUVORK5CYII=\n",
       "\" style=\"display:inline;vertical-align:middle;\" /></a></td></tr>\n",
       "<tr><td>5</td><td>Variable</td><td></td><td><a class=\"ProveItLink\" href=\"../../../../__pv_it/985a1bdf1540838275dec15f4ad6de261cca93ce0/expr.ipynb\"><img src=\"data:image/png;base64,iVBORw0KGgoAAAANSUhEUgAAAA8AAAAOBAMAAAACpFvcAAAAMFBMVEX////MzMyqqqoiIiIyMjK6\n",
       "uroQEBB2dnbc3NyYmJhmZmZUVFRERESIiIju7u4AAAB204erAAAAAXRSTlMAQObYZgAAAGZJREFU\n",
       "CNdjYGDgu7NrJccCBgaGsgkMrMsmMDA8sQNy6hsYGNweABlhDAxcn4A0QxcDQ78DiPGQgWH9BAYI\n",
       "sG+AMv6DSaCGfBDNJMDAsB+kmwuI5S8AiTog5gSaEwXWIO29SgFIAQBC+RaDQlidVgAAAABJRU5E\n",
       "rkJggg==\n",
       "\" style=\"display:inline;vertical-align:middle;\" /></a></td></tr>\n",
       "<tr><td>6</td><td>Variable</td><td></td><td><a class=\"ProveItLink\" href=\"../../../../__pv_it/cbdfda466482236edba0ce44ac7ef39cda0af7a40/expr.ipynb\"><img src=\"data:image/png;base64,iVBORw0KGgoAAAANSUhEUgAAAAkAAAAJBAMAAAASvxsjAAAALVBMVEX///9mZmbc3NxUVFSYmJhE\n",
       "REQiIiIyMjK6uroQEBDMzMyIiIh2dnbu7u4AAABgFDGoAAAAAXRSTlMAQObYZgAAADZJREFUCNdj\n",
       "YOA9s3sBA8PKBvYEBt7ZDKwODMwPGICALwBE6m0Asx0YGIDiAgw8QJUyu/cyAAAmuwmycZ8WfQAA\n",
       "AABJRU5ErkJggg==\n",
       "\" style=\"display:inline;vertical-align:middle;\" /></a></td></tr>\n",
       "<tr><td>7</td><td>Operation</td><td>operator:&nbsp;9<br>operands:&nbsp;10<br></td><td><a class=\"ProveItLink\" href=\"../46607f0c120fde56305f47811ff1fd5cf39c9d5f0/expr.ipynb\"><img src=\"data:image/png;base64,iVBORw0KGgoAAAANSUhEUgAAAFAAAAAQBAMAAABzZ+XyAAAAMFBMVEX///92dnbMzMy6uroiIiKq\n",
       "qqrc3NyYmJgyMjIQEBBmZmaIiIhUVFTu7u5EREQAAADaqMZ6AAAAAXRSTlMAQObYZgAAAJZJREFU\n",
       "KM9jYGB4y4AO0EUUBZ8CyXt/0dWhi7AtYLDfwHDnDEyYNwFCY4gwfmXgd2Bg4IYJs26AMtBFWIlV\n",
       "CARAq4lT2MNAlEImiQMMRJq404BIhZx/YcJcHR0tMzo6DiAUIkTYFBj4vhNj4v2/RCrkb2Bg+UaM\n",
       "Qu4CBnsBBq6VP5ajKsQUiVrVihz3CD/iFgED5g34RADQ3U9fwaTGEQAAAABJRU5ErkJggg==\n",
       "\" style=\"display:inline;vertical-align:middle;\" /></a></td></tr>\n",
       "<tr><td>8</td><td>ExprTuple</td><td>11, 11</td><td><a class=\"ProveItLink\" href=\"../28adaa1d2294f84e02699b4685e77bbb787705a40/expr.ipynb\"><img src=\"data:image/png;base64,iVBORw0KGgoAAAANSUhEUgAAADUAAAAVBAMAAAAUZLt1AAAAMFBMVEX////c3NwiIiJERESqqqqY\n",
       "mJh2dnZmZmYQEBDu7u4yMjJUVFTMzMyIiIi6uroAAAAs73DqAAAAAXRSTlMAQObYZgAAAPdJREFU\n",
       "KM9jYMAH+C5gFY4DEachbB4FhDiIzX4AyFgJ4XN9QMiB2QsYGHihRgb9RMiB2WEMDBwTwFxG949w\n",
       "KQh7BgPDKwifl/cfXA7CZnZgKIPwX7J8hctB2GwFDEvBXM4HPH9hUlA2ywKGPognGRi/wz0MYfM1\n",
       "MECsOb1792eYHJTN8wEq94CBoQsmB2UD5VpAXBYg1oBKwdhAM01BfBEgXg90BRKbgXUBQzrIZcDw\n",
       "YbCfwDBfAcEG+eERMBwsfgkwBP9fzjDjI4LNwPWAgUMAKWIeIrGBYcaagMQPQGLnIuIIXQ5srzSC\n",
       "z4ukjBtkFyP2NHGHgQEAuPBD0qeALkIAAAAASUVORK5CYII=\n",
       "\" style=\"display:inline;vertical-align:middle;\" /></a></td></tr>\n",
       "<tr><td>9</td><td>Literal</td><td></td><td><a class=\"ProveItLink\" href=\"../3e6688136fa3c7aefbebe51301b7c3ebf0b69c440/expr.ipynb\"><img src=\"data:image/png;base64,iVBORw0KGgoAAAANSUhEUgAAAA4AAAAOBAMAAADtZjDiAAAAJFBMVEX///+6urpUVFQQEBAiIiIy\n",
       "MjJmZmaIiIiqqqrc3Nzu7u4AAACgHpL+AAAAAXRSTlMAQObYZgAAAB5JREFUCNdjYGBgWMkAAe2k\n",
       "0Kmhoc6hoUGk6BMHYgAHOwjcado9fwAAAABJRU5ErkJggg==\n",
       "\" style=\"display:inline;vertical-align:middle;\" /></a></td></tr>\n",
       "<tr><td>10</td><td>ExprTuple</td><td>12, 12, 13</td><td><a class=\"ProveItLink\" href=\"../fd889ee7e03cc2b9a48cfaca3abd4ef8b27e362e0/expr.ipynb\"><img src=\"data:image/png;base64,iVBORw0KGgoAAAANSUhEUgAAAD0AAAAVBAMAAAAHs/uBAAAAMFBMVEX////c3NwiIiJERESqqqqY\n",
       "mJh2dnZmZmYQEBDu7u4yMjJUVFTMzMyIiIi6uroAAAAs73DqAAAAAXRSTlMAQObYZgAAAP1JREFU\n",
       "KM9jYCAE+C7glIoDEaeBmHkCTAjG4klLdmBgPwBkrWRg4LSHycNZ4gx8fxkYFjAw8F5g4Ny9HyqK\n",
       "YOU7MHxiYAhjYOAACdyHmw9j+YPlZzAwvGLAKs8ANp/ZgaEMlzzXBgYGtgKGpTjkj60GEiwLGPpw\n",
       "6ecFyvA1MPzDJc/QP4GB5wMueRkGBvsAkHwLVnnO/xNA8kDzTWGiExiQWb8YGPQFGFgXMKRDRTk/\n",
       "MSCzrjLwfQP77xGQU96/PICzXwCZxVJe5QAMgwcMHAKw8BJgwGABw5c1AcpmhXsMwcqFxC8ueU5g\n",
       "/DJIQzmIZARncYMsYsSdvu4wMAAAXVRXk7Z367QAAAAASUVORK5CYII=\n",
       "\" style=\"display:inline;vertical-align:middle;\" /></a></td></tr>\n",
       "<tr><td>11</td><td>Variable</td><td></td><td><a class=\"ProveItLink\" href=\"../../../../__pv_it/2cbe72a7ad6f655694dd697106680215e8489b600/expr.ipynb\"><img src=\"data:image/png;base64,iVBORw0KGgoAAAANSUhEUgAAAA8AAAAOBAMAAAACpFvcAAAALVBMVEX///8QEBBERERUVFS6urqI\n",
       "iIhmZmaqqqrc3Nzu7u6YmJgyMjIiIiLMzMwAAADtIaYWAAAAAXRSTlMAQObYZgAAAFtJREFUCNdj\n",
       "YACBOwxQsA9Kc52bAGG05zVAGAFxDmCaZULdAjBjCsO9ADDDgaEvAUTzGhvbKYCVMDAwbgAxChgY\n",
       "eASANAeQwf0AyJgNxEwvGRia5HYwcOm9TgAA6BoR3jrzwFcAAAAASUVORK5CYII=\n",
       "\" style=\"display:inline;vertical-align:middle;\" /></a></td></tr>\n",
       "<tr><td>12</td><td>Literal</td><td></td><td><a class=\"ProveItLink\" href=\"../../../numeral/__pv_it/9be8badea4c35b9724062cecc501d17a3158d1d20/expr.ipynb\"><img src=\"data:image/png;base64,iVBORw0KGgoAAAANSUhEUgAAAAgAAAAPBAMAAAArJJMAAAAAHlBMVEX///+YmJgyMjIQEBBmZmaI\n",
       "iIhUVFTu7u5EREQAAAAw+MI4AAAAAXRSTlMAQObYZgAAACFJREFUCNdjYGBoZ2BgqJjOwFCWBiQY\n",
       "WEklWJwnOTKAAACjEQo8HvEr3AAAAABJRU5ErkJggg==\n",
       "\" style=\"display:inline;vertical-align:middle;\" /></a></td></tr>\n",
       "<tr><td>13</td><td>Literal</td><td></td><td><a class=\"ProveItLink\" href=\"../../../numeral/__pv_it/9176d93c83afa2c995b614976e3cb49207102fa70/expr.ipynb\"><img src=\"data:image/png;base64,iVBORw0KGgoAAAANSUhEUgAAAAoAAAAOBAMAAADkjZCYAAAAMFBMVEX///+YmJju7u4QEBBUVFQy\n",
       "MjIiIiKIiIi6urpmZmbc3NyqqqpERER2dnbMzMwAAAB0GlNiAAAAAXRSTlMAQObYZgAAAE1JREFU\n",
       "CNdjYHh79zQDA9cEhv4CBt7fDPwJDNxgEgiAIkAQAsR8Vx1ATIbiBhDJ/ImB6wEDz0cG/U8gkj+A\n",
       "ge0XA7sAQ/8FBoadM6MZAEflFACalZ/OAAAAAElFTkSuQmCC\n",
       "\" style=\"display:inline;vertical-align:middle;\" /></a></td></tr>\n",
       "</table>\n"
      ],
      "text/plain": [
       "0. (a , A + A , b , B , C , c , 1 + 1 + 3)\n",
       "   core type: ExprTuple\n",
       "   sub-expressions: 1, 2, 3, 4, 5, 6, 7\n",
       "1. a\n",
       "   core type: Variable\n",
       "   sub-expressions: \n",
       "2. A + A\n",
       "   core type: Operation\n",
       "   operator: 9\n",
       "   operands: 8\n",
       "3. b\n",
       "   core type: Variable\n",
       "   sub-expressions: \n",
       "4. B\n",
       "   core type: Variable\n",
       "   sub-expressions: \n",
       "5. C\n",
       "   core type: Variable\n",
       "   sub-expressions: \n",
       "6. c\n",
       "   core type: Variable\n",
       "   sub-expressions: \n",
       "7. 1 + 1 + 3\n",
       "   core type: Operation\n",
       "   operator: 9\n",
       "   operands: 10\n",
       "8. (A , A)\n",
       "   core type: ExprTuple\n",
       "   sub-expressions: 11, 11\n",
       "9. +\n",
       "   core type: Literal\n",
       "   sub-expressions: \n",
       "10. (1 , 1 , 3)\n",
       "    core type: ExprTuple\n",
       "    sub-expressions: 12, 12, 13\n",
       "11. A\n",
       "    core type: Variable\n",
       "    sub-expressions: \n",
       "12. 1\n",
       "    core type: Literal\n",
       "    sub-expressions: \n",
       "13. 3\n",
       "    core type: Literal\n",
       "    sub-expressions: "
      ]
     },
     "execution_count": 4,
     "metadata": {},
     "output_type": "execute_result"
    }
   ],
   "source": [
    "# display the expression information\n",
    "expr.exprInfo()"
   ]
  },
  {
   "cell_type": "code",
   "execution_count": null,
   "metadata": {},
   "outputs": [],
   "source": []
  }
 ],
 "metadata": {
  "kernelspec": {
   "display_name": "Python 3",
   "language": "python",
   "name": "python3"
  }
 },
 "nbformat": 4,
 "nbformat_minor": 0
}
