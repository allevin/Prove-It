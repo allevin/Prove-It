{
 "cells": [
  {
   "cell_type": "markdown",
   "metadata": {},
   "source": [
    "Expression of type <a class=\"ProveItLink\" href=\"../../../../../../doc/html/api/proveit.ExprTuple.html\">ExprTuple</a>\n",
    "=======================\n",
    "# from context <a class=\"ProveItLink\" href=\"../../_context_.ipynb\">proveit.number.addition</a>"
   ]
  },
  {
   "cell_type": "code",
   "execution_count": 1,
   "metadata": {},
   "outputs": [],
   "source": [
    "# import Expression classes needed to build the expression\n",
    "from proveit import ExprTuple\n",
    "from proveit._common_ import A\n",
    "from proveit.number import Add, Mult, two"
   ]
  },
  {
   "cell_type": "code",
   "execution_count": 2,
   "metadata": {},
   "outputs": [
    {
     "data": {
      "text/html": [
       "<strong id=\"expr\">expr:</strong> <a class=\"ProveItLink\" href=\"expr.ipynb\"><img src=\"data:image/png;base64,iVBORw0KGgoAAAANSUhEUgAAAHcAAAAVBAMAAACOK2zoAAAAMFBMVEX////c3NwiIiJERESqqqqY\n",
       "mJh2dnZmZmYQEBDu7u4yMjJUVFTMzMyIiIi6uroAAAAs73DqAAAAAXRSTlMAQObYZgAAAa9JREFU\n",
       "OMullD9IAlEcx79nmn9PjISGhpzCLZegqdyaJCtoDKecAqcGlxxaaqhrk4YyIqJrqN2haGlw0L3A\n",
       "q60gMCLihLL35+7ddec12IH3fj8/74Pv997vCfzribcG81bpq8Hj2z48ljKCsfKsCwRvSHDO88s+\n",
       "cqTDR+kK7awL1ACZrzowpRhg35qzpPMxqsDXscsMrAAhLiU3EwbIiSnS/BsPQtuIfttcDqrAC89b\n",
       "bc0ly7JhRHQE7TIHQ1ls8C1XFvIu+dn/IWKfbpM5GC7hlKWHaLaccliLfYn5zYLlGsBfwy7LNUyU\n",
       "nHIc0qcQTpil2EG8AlZLrF6/zjjlRr3+bsZBRo9SdhDrcDlOdrRGg7KqplX1wlgNdkz5nr2rGTsg\n",
       "8hZNSQf4Ko5f9pNP2oxLGBEVmIAse5qeW9bqJiEneduFaXwHLArZAAjUUCTDAT01/bccpmXMKaxO\n",
       "aXKtmBJ7bQB6VE/A6N4xAnPdkl2WZroJLPfOUCXN5Ov1eqYsACIaQgnHbcg58kevO0naM1BwfPfq\n",
       "yPNe8rp1JT0fL5nVPv63K3uBKK1XGvBv6AH4AQbSdCz8CjXSAAAAAElFTkSuQmCC\n",
       "\" style=\"display:inline;vertical-align:middle;\" /></a><br>"
      ],
      "text/plain": [
       "expr: (A + A , 2 * A)"
      ]
     },
     "execution_count": 2,
     "metadata": {},
     "output_type": "execute_result"
    }
   ],
   "source": [
    "# build up the expression from sub-expressions\n",
    "expr = ExprTuple(Add(A, A), Mult(two, A))"
   ]
  },
  {
   "cell_type": "code",
   "execution_count": 3,
   "metadata": {},
   "outputs": [
    {
     "name": "stdout",
     "output_type": "stream",
     "text": [
      "Passed sanity check: built 'expr' is the same as the stored Expression.\n"
     ]
    }
   ],
   "source": [
    "# check that the built expression is the same as the stored expression\n",
    "%check_expr"
   ]
  },
  {
   "cell_type": "code",
   "execution_count": 4,
   "metadata": {},
   "outputs": [
    {
     "data": {
      "text/html": [
       "<table><tr><th>&nbsp;</th><th>core type</th><th>sub-expressions</th><th>expression</th></tr>\n",
       "<tr><td>0</td><td>ExprTuple</td><td>1, 2</td><td><a class=\"ProveItLink\" href=\"expr.ipynb\"><img src=\"data:image/png;base64,iVBORw0KGgoAAAANSUhEUgAAAHcAAAAVBAMAAACOK2zoAAAAMFBMVEX////c3NwiIiJERESqqqqY\n",
       "mJh2dnZmZmYQEBDu7u4yMjJUVFTMzMyIiIi6uroAAAAs73DqAAAAAXRSTlMAQObYZgAAAa9JREFU\n",
       "OMullD9IAlEcx79nmn9PjISGhpzCLZegqdyaJCtoDKecAqcGlxxaaqhrk4YyIqJrqN2haGlw0L3A\n",
       "q60gMCLihLL35+7ddec12IH3fj8/74Pv997vCfzribcG81bpq8Hj2z48ljKCsfKsCwRvSHDO88s+\n",
       "cqTDR+kK7awL1ACZrzowpRhg35qzpPMxqsDXscsMrAAhLiU3EwbIiSnS/BsPQtuIfttcDqrAC89b\n",
       "bc0ly7JhRHQE7TIHQ1ls8C1XFvIu+dn/IWKfbpM5GC7hlKWHaLaccliLfYn5zYLlGsBfwy7LNUyU\n",
       "nHIc0qcQTpil2EG8AlZLrF6/zjjlRr3+bsZBRo9SdhDrcDlOdrRGg7KqplX1wlgNdkz5nr2rGTsg\n",
       "8hZNSQf4Ko5f9pNP2oxLGBEVmIAse5qeW9bqJiEneduFaXwHLArZAAjUUCTDAT01/bccpmXMKaxO\n",
       "aXKtmBJ7bQB6VE/A6N4xAnPdkl2WZroJLPfOUCXN5Ov1eqYsACIaQgnHbcg58kevO0naM1BwfPfq\n",
       "yPNe8rp1JT0fL5nVPv63K3uBKK1XGvBv6AH4AQbSdCz8CjXSAAAAAElFTkSuQmCC\n",
       "\" style=\"display:inline;vertical-align:middle;\" /></a></td></tr>\n",
       "<tr><td>1</td><td>Operation</td><td>operator:&nbsp;3<br>operands:&nbsp;4<br></td><td><a class=\"ProveItLink\" href=\"../f0be581c6e6d918ea595a01b8fec4841ff7467570/expr.ipynb\"><img src=\"data:image/png;base64,iVBORw0KGgoAAAANSUhEUgAAADgAAAAQBAMAAACxV6F2AAAALVBMVEX///8QEBBERERUVFS6urqI\n",
       "iIhmZmaqqqrc3Nzu7u6YmJgyMjIiIiLMzMwAAADtIaYWAAAAAXRSTlMAQObYZgAAAL1JREFUGNNj\n",
       "YACBOwyYgPcAlLEPiyT3AwjNdW4CVGQGQnLNSwjdntcAFSmFy3GUvYAwAuIcMCRZWZ+AaZYJdQsw\n",
       "JD3ZX4HpKQz3AtAlOR14n4IZDgx9CeiSLAwcz8AeMja2U0CXvGxs/AiiiIFxA4iRvXv3wd27N0NN\n",
       "Y5AG0QUMDDwCaDrZgfggyEMFiNCAS7ZDg202EDO9RJXkBFmjN4GhSW4HA5fe6wRkSQ7F1w0Mi95t\n",
       "QwvtUgY8wBWFBwArpC9pNjgDvAAAAABJRU5ErkJggg==\n",
       "\" style=\"display:inline;vertical-align:middle;\" /></a></td></tr>\n",
       "<tr><td>2</td><td>Operation</td><td>operator:&nbsp;5<br>operands:&nbsp;6<br></td><td><a class=\"ProveItLink\" href=\"../a8bfb4d28f783ce3dcf3052606176f6526e1de4b0/expr.ipynb\"><img src=\"data:image/png;base64,iVBORw0KGgoAAAANSUhEUgAAACgAAAAOBAMAAACvJUN1AAAAMFBMVEX///+YmJh2dnbMzMwQEBAi\n",
       "IiLu7u6qqqqIiIhUVFS6urpEREQyMjJmZmbc3NwAAACOMKdoAAAAAXRSTlMAQObYZgAAAKVJREFU\n",
       "GNNj4Lt7egEDMmAOYGB4ycDxHUWQ5wMDwzQGhngUQdFvDAwuCQzzkfXz1f5jYDifwHAfWZCD4xeY\n",
       "jk9AElzG/hFs3SckMbYFzD/A1m0AkWkQQS4Gvr8g+jZYxVeIoOXMmb9BJk8AC3pDBIF2+gCpWga+\n",
       "B3Aj2YE4BGjNBQZGhOBzID7PwPBUSekqwu4DQGJ/AkP8//9f4b7Z8ucBg/T/swC2DCzXRPftOwAA\n",
       "AABJRU5ErkJggg==\n",
       "\" style=\"display:inline;vertical-align:middle;\" /></a></td></tr>\n",
       "<tr><td>3</td><td>Literal</td><td></td><td><a class=\"ProveItLink\" href=\"../3e6688136fa3c7aefbebe51301b7c3ebf0b69c440/expr.ipynb\"><img src=\"data:image/png;base64,iVBORw0KGgoAAAANSUhEUgAAAA4AAAAOBAMAAADtZjDiAAAAJFBMVEX///+6urpUVFQQEBAiIiIy\n",
       "MjJmZmaIiIiqqqrc3Nzu7u4AAACgHpL+AAAAAXRSTlMAQObYZgAAAB5JREFUCNdjYGBgWMkAAe2k\n",
       "0Kmhoc6hoUGk6BMHYgAHOwjcado9fwAAAABJRU5ErkJggg==\n",
       "\" style=\"display:inline;vertical-align:middle;\" /></a></td></tr>\n",
       "<tr><td>4</td><td>ExprTuple</td><td>8, 8</td><td><a class=\"ProveItLink\" href=\"../28adaa1d2294f84e02699b4685e77bbb787705a40/expr.ipynb\"><img src=\"data:image/png;base64,iVBORw0KGgoAAAANSUhEUgAAADUAAAAVBAMAAAAUZLt1AAAAMFBMVEX////c3NwiIiJERESqqqqY\n",
       "mJh2dnZmZmYQEBDu7u4yMjJUVFTMzMyIiIi6uroAAAAs73DqAAAAAXRSTlMAQObYZgAAAPdJREFU\n",
       "KM9jYMAH+C5gFY4DEachbB4FhDiIzX4AyFgJ4XN9QMiB2QsYGHihRgb9RMiB2WEMDBwTwFxG949w\n",
       "KQh7BgPDKwifl/cfXA7CZnZgKIPwX7J8hctB2GwFDEvBXM4HPH9hUlA2ywKGPognGRi/wz0MYfM1\n",
       "MECsOb1792eYHJTN8wEq94CBoQsmB2UD5VpAXBYg1oBKwdhAM01BfBEgXg90BRKbgXUBQzrIZcDw\n",
       "YbCfwDBfAcEG+eERMBwsfgkwBP9fzjDjI4LNwPWAgUMAKWIeIrGBYcaagMQPQGLnIuIIXQ5srzSC\n",
       "z4ukjBtkFyP2NHGHgQEAuPBD0qeALkIAAAAASUVORK5CYII=\n",
       "\" style=\"display:inline;vertical-align:middle;\" /></a></td></tr>\n",
       "<tr><td>5</td><td>Literal</td><td></td><td><a class=\"ProveItLink\" href=\"../../../multiplication/__pv_it/21fd2079611555ecce512d99547a00d551e6b86b0/expr.ipynb\"><img src=\"data:image/png;base64,iVBORw0KGgoAAAANSUhEUgAAAAMAAAADBAMAAACkBqiMAAAAElBMVEX///9EREQQEBAiIiLu7u4A\n",
       "AABGBidwAAAAAXRSTlMAQObYZgAAABFJREFUCNdjYHFgcDVgcBIAAASWAQx4jI0xAAAAAElFTkSu\n",
       "QmCC\n",
       "\" style=\"display:inline;vertical-align:middle;\" /></a></td></tr>\n",
       "<tr><td>6</td><td>ExprTuple</td><td>7, 8</td><td><a class=\"ProveItLink\" href=\"../b812e337269b73b87b29ca662f191e6a0b4f00470/expr.ipynb\"><img src=\"data:image/png;base64,iVBORw0KGgoAAAANSUhEUgAAADAAAAAVBAMAAADyTXAxAAAAMFBMVEX////c3NwiIiJERESqqqqY\n",
       "mJh2dnZmZmYQEBDu7u4yMjJUVFTMzMyIiIi6uroAAAAs73DqAAAAAXRSTlMAQObYZgAAARZJREFU\n",
       "KM9jYMAJ+C5girE+ABKnGRjEq+yQRA8BcQ0Qr2Rg3MBw3wEhsR6IuRgYeC8wcE9gYPqAMEZ/ApBI\n",
       "YOCYwMDRycD9Dy4hUi/AwMDZwPAKqO8nAztC4sJ9kM0mDGVgHtNPuCMn+AcAqXSGpWDu+QSYxDyG\n",
       "8yD3ezH0gbmL4SY9YJAvAFIvGMCGsxvAxHl2794P4pyHSNxGhAMDA8cCsEQLkGQpYBCESgA9ytQA\n",
       "NsoUSB5nYAhkmAASZwRKcIE8GwV0FwOjWlq6AucnkMQsIGb+CXbuI6De////K3D2Az0s3L+QgdX+\n",
       "F9BZ6xg4BGDWCiCFMDBIWGFeY0WOELYLoGDHIgGySxoWeMgSG0EuxBK1vAcYAFrtQKDSxP4BAAAA\n",
       "AElFTkSuQmCC\n",
       "\" style=\"display:inline;vertical-align:middle;\" /></a></td></tr>\n",
       "<tr><td>7</td><td>Literal</td><td></td><td><a class=\"ProveItLink\" href=\"../../../numeral/__pv_it/77d407a64829263cdc16415becd4c2293f77a4bf0/expr.ipynb\"><img src=\"data:image/png;base64,iVBORw0KGgoAAAANSUhEUgAAAAkAAAAOBAMAAAAPuiubAAAAMFBMVEX///+YmJh2dnbMzMwQEBAi\n",
       "IiLu7u6qqqqIiIhUVFS6urpEREQyMjJmZmbc3NwAAACOMKdoAAAAAXRSTlMAQObYZgAAAFBJREFU\n",
       "CNdj4Lt7egEDw0sGju8MDNMYGOIZGFwSGOYvYDifwHAfKAEUSQASzJ9ATJ4NIPI2iOCYACJrGfge\n",
       "MDBfYGB8wPBUSekqUPH//18ZAIliFhc3zESNAAAAAElFTkSuQmCC\n",
       "\" style=\"display:inline;vertical-align:middle;\" /></a></td></tr>\n",
       "<tr><td>8</td><td>Variable</td><td></td><td><a class=\"ProveItLink\" href=\"../../../../__pv_it/2cbe72a7ad6f655694dd697106680215e8489b600/expr.ipynb\"><img src=\"data:image/png;base64,iVBORw0KGgoAAAANSUhEUgAAAA8AAAAOBAMAAAACpFvcAAAALVBMVEX///8QEBBERERUVFS6urqI\n",
       "iIhmZmaqqqrc3Nzu7u6YmJgyMjIiIiLMzMwAAADtIaYWAAAAAXRSTlMAQObYZgAAAFtJREFUCNdj\n",
       "YACBOwxQsA9Kc52bAGG05zVAGAFxDmCaZULdAjBjCsO9ADDDgaEvAUTzGhvbKYCVMDAwbgAxChgY\n",
       "eASANAeQwf0AyJgNxEwvGRia5HYwcOm9TgAA6BoR3jrzwFcAAAAASUVORK5CYII=\n",
       "\" style=\"display:inline;vertical-align:middle;\" /></a></td></tr>\n",
       "</table>\n"
      ],
      "text/plain": [
       "0. (A + A , 2 * A)\n",
       "   core type: ExprTuple\n",
       "   sub-expressions: 1, 2\n",
       "1. A + A\n",
       "   core type: Operation\n",
       "   operator: 3\n",
       "   operands: 4\n",
       "2. 2 * A\n",
       "   core type: Operation\n",
       "   operator: 5\n",
       "   operands: 6\n",
       "3. +\n",
       "   core type: Literal\n",
       "   sub-expressions: \n",
       "4. (A , A)\n",
       "   core type: ExprTuple\n",
       "   sub-expressions: 8, 8\n",
       "5. *\n",
       "   core type: Literal\n",
       "   sub-expressions: \n",
       "6. (2 , A)\n",
       "   core type: ExprTuple\n",
       "   sub-expressions: 7, 8\n",
       "7. 2\n",
       "   core type: Literal\n",
       "   sub-expressions: \n",
       "8. A\n",
       "   core type: Variable\n",
       "   sub-expressions: "
      ]
     },
     "execution_count": 4,
     "metadata": {},
     "output_type": "execute_result"
    }
   ],
   "source": [
    "# display the expression information\n",
    "expr.exprInfo()"
   ]
  },
  {
   "cell_type": "code",
   "execution_count": null,
   "metadata": {},
   "outputs": [],
   "source": []
  }
 ],
 "metadata": {
  "kernelspec": {
   "display_name": "Python 3",
   "language": "python",
   "name": "python3"
  }
 },
 "nbformat": 4,
 "nbformat_minor": 0
}
