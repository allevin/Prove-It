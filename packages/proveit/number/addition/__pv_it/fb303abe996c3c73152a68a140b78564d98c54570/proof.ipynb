{
 "cells": [
  {
   "cell_type": "markdown",
   "metadata": {},
   "source": [
    "Show the Proof\n",
    "========"
   ]
  },
  {
   "cell_type": "code",
   "execution_count": 1,
   "metadata": {},
   "outputs": [
    {
     "data": {
      "text/html": [
       "<table><tr><th>&nbsp;</th><th>step type</th><th>requirements</th><th>statement</th></tr>\n",
       "<tr><td>0</td><td>specialization</td><td>1, 2</td><td><span style=\"font-size:20px;\"><a class=\"ProveItLink\" href=\"../85f85b29ffe644bf5770f5334ca8f98ddc6a6b250/expr.ipynb\"><img src=\"data:image/png;base64,iVBORw0KGgoAAAANSUhEUgAAAEMAAAAVBAMAAADvM06qAAAAMFBMVEX////c3NxERESqqqpUVFS6\n",
       "urrMzMwyMjIQEBCIiIh2dnYiIiLu7u5mZmaYmJgAAABXZE4RAAAAAXRSTlMAQObYZgAAATpJREFU\n",
       "KM9jYGDgu8eAC7CtEgBRPLsYcAO2ZhDJ+YGB4Ug3huTs8h+bLjAwXAexuRqARAm6itSvDKd+OjAw\n",
       "rIAr+Yymgo/lAQODPbIS1j9QqZPVu7eD6DccQIIXWQnXBqjr6g5AGBdEQB6ZgKSE3XPKAxBbCKqC\n",
       "50IU1FiwEt4CBobzCgzfQGxFmF8X2EFZ70FERgDQYQcYukCaFeBK4qAsdqDHU9oYwL7/C6RYu3fv\n",
       "BjuXRyEL5jd1oAsiEhgY9jKw/gNpdoBJ1LBAGdwLgARLAShYeEHe5tkAU/IKrOQA1C0gD39j4ACp\n",
       "ZvCDKWF6CvQw6x4kTzszXAHLnA6AqXHRPHBU6QCSkiNzwcHCwFibAPPT7f8tAQzIcQQDzO6QCIAD\n",
       "TCUYAKyED68ScHrh2Ykv1bVC0sZi/GkXAJYdV0QwVHUkAAAAAElFTkSuQmCC\n",
       "\" style=\"display:inline;vertical-align:middle;\" /></a> <a class=\"ProveItLink\" href=\"proof.ipynb\" style=\"text-decoration: none\">&#x22A2;&nbsp;</a><a class=\"ProveItLink\" href=\"../de7087dda2d255730dab088de567d900406b38ad0/expr.ipynb\"><img src=\"data:image/png;base64,iVBORw0KGgoAAAANSUhEUgAAAGIAAAAVBAMAAABPrCZEAAAAMFBMVEX////c3NwiIiJERESqqqqY\n",
       "mJh2dnZmZmYQEBDu7u4yMjJUVFTMzMyIiIi6uroAAAAs73DqAAAAAXRSTlMAQObYZgAAAYpJREFU\n",
       "OMtjYCAd8F3ALh6HU8dpBs4dCqhCYAH2AxhKL636oVzAwLCSgYFrA5oUWGABuoZz/xim/d3AwAt0\n",
       "FL8DVGwilAYLhKFpYOUOYGDw38DAMYGB4f0EqKAvlAYLzIA68ZaSEti6SA4gwb6B4RWQSmJA0wEW\n",
       "YIbYfCoSKlggDdJ/gaEMSK2+uxVVB1iArQDEZLSEBUfBMwhjKZD9mYH/ALIOiAAL2C3MAlAdPAmu\n",
       "EEYfAwPLTwaOBGQdEAG+BhB7MgNcx1MI4x/QNwsY+AuQdUAEeD6A2C+UlCA+5zQ4BtfBVMDwHhhw\n",
       "VatWaaxatZoBJgDRcRoeuiu5IXQLOPTrJyDbARGAuGoSXEcYWMcEBlMGkC/bUMIKIsAK9jko2iCA\n",
       "OQ4Y2XyaDOlAQQf2DSg6IAKQ0OXUg1uy23bCPOMJDI+AgntLUWMQIsD1AMyRqoGHVtH/bqAYhwBS\n",
       "0vFFTkfQVMLgvUgJJVGyJiBx3iLL5OLKHytxiHMuwKVDGoc4twAuHYw4cu0dHOoB8MdlNumwFFcA\n",
       "AAAASUVORK5CYII=\n",
       "\" style=\"display:inline;vertical-align:middle;\" /></a></span></td></tr>\n",
       "<tr><td>&nbsp;</td><td colspan=4 style=\"text-align:left\"><span style=\"font-size:20px;\"><a class=\"ProveItLink\" href=\"../../../../__pv_it/07527342713064c87612d00d8557c53d53d5324a0/expr.ipynb\"><img src=\"data:image/png;base64,iVBORw0KGgoAAAANSUhEUgAAAAsAAAAJBAMAAAAWSsseAAAAMFBMVEX///8yMjKqqqrMzMzu7u4i\n",
       "IiJmZmaYmJhEREQQEBC6urp2dnaIiIhUVFTc3NwAAAD87Fq/AAAAAXRSTlMAQObYZgAAAEhJREFU\n",
       "CNdjYOC7s2seAwPDygccHxgY+L4zsDUwMPB+YGA9wMDA38Dgb8DA8P4Agz6DA4O/AsNFJgMGxgKm\n",
       "MG6gyjunLE4xAAAZTBA5TB6DCwAAAABJRU5ErkJggg==\n",
       "\" style=\"display:inline;vertical-align:middle;\" /></a> : <a class=\"ProveItLink\" href=\"../../../../__pv_it/6840a4fa6c106149dc16a131294d0c5e44f1b0480/expr.ipynb\"><img src=\"data:image/png;base64,iVBORw0KGgoAAAANSUhEUgAAAAkAAAAOBAMAAAAPuiubAAAALVBMVEX///9mZmbMzMxERESYmJiI\n",
       "iIh2dna6urqqqqoyMjIiIiIQEBBUVFTu7u4AAAD9S1JeAAAAAXRSTlMAQObYZgAAAE1JREFUCNdj\n",
       "4D29gAEIOA+ASL4GEFl3AURmgQiGOaFHGBh4HzPwKTBwvGXgTmBgnMDAJ8DAJcBQ5wBSLncBJLWN\n",
       "gYGngRFoBO9REQYGAGrcDtUkVqASAAAAAElFTkSuQmCC\n",
       "\" style=\"display:inline;vertical-align:middle;\" /></a>, <a class=\"ProveItLink\" href=\"../../../../__pv_it/6840a4fa6c106149dc16a131294d0c5e44f1b0480/expr.ipynb\"><img src=\"data:image/png;base64,iVBORw0KGgoAAAANSUhEUgAAAAkAAAAOBAMAAAAPuiubAAAALVBMVEX///9mZmbMzMxERESYmJiI\n",
       "iIh2dna6urqqqqoyMjIiIiIQEBBUVFTu7u4AAAD9S1JeAAAAAXRSTlMAQObYZgAAAE1JREFUCNdj\n",
       "4D29gAEIOA+ASL4GEFl3AURmgQiGOaFHGBh4HzPwKTBwvGXgTmBgnMDAJ8DAJcBQ5wBSLncBJLWN\n",
       "gYGngRFoBO9REQYGAGrcDtUkVqASAAAAAElFTkSuQmCC\n",
       "\" style=\"display:inline;vertical-align:middle;\" /></a> : <a class=\"ProveItLink\" href=\"../../../../__pv_it/6840a4fa6c106149dc16a131294d0c5e44f1b0480/expr.ipynb\"><img src=\"data:image/png;base64,iVBORw0KGgoAAAANSUhEUgAAAAkAAAAOBAMAAAAPuiubAAAALVBMVEX///9mZmbMzMxERESYmJiI\n",
       "iIh2dna6urqqqqoyMjIiIiIQEBBUVFTu7u4AAAD9S1JeAAAAAXRSTlMAQObYZgAAAE1JREFUCNdj\n",
       "4D29gAEIOA+ASL4GEFl3AURmgQiGOaFHGBh4HzPwKTBwvGXgTmBgnMDAJ8DAJcBQ5wBSLncBJLWN\n",
       "gYGngRFoBO9REQYGAGrcDtUkVqASAAAAAElFTkSuQmCC\n",
       "\" style=\"display:inline;vertical-align:middle;\" /></a></span></td></tr><tr><td>1</td><td>theorem</td><td></td><td><span style=\"font-size:20px;\"> <a class=\"ProveItLink\" href=\"../../_proofs_/addComplexClosureBin.ipynb\" style=\"text-decoration: none\">&#x22A2;&nbsp;</a><a class=\"ProveItLink\" href=\"../67897d4fffe99ec8bc86fcb9fe6bf9b0c34cb3ec0/expr.ipynb\"><img src=\"data:image/png;base64,iVBORw0KGgoAAAANSUhEUgAAALYAAAAWBAMAAACfwnvZAAAAMFBMVEX///8QEBC6urrMzMxUVFRm\n",
       "ZmZERETc3NwyMjKqqqp2dnaIiIiYmJgiIiLu7u4AAAAU9Wx4AAAAAXRSTlMAQObYZgAAAuZJREFU\n",
       "OMu1VVto01AY/tqkTdul6RBB9KlzgjKVFZEhQ2m9gMIUAkOQbWJR6RBF+jDdQMQie6hDS0EFYcKK\n",
       "MERECPOCOJSwJ9mgTMEJQiWKqMzL5h7mw2R6Ts5pYrqme9EfvpP//OfkOyf/LcB/FGP5LV6NoaqM\n",
       "udjlKDBJlYma3Fs5KkXZSV72xZbYn2Z/TKloB+7QWa4md85tRyBBhkyldcscphcSCABnyUxK1qKu\n",
       "0xhs+cSfkTwZxiudIerAUAJyAQHicF++FrfHYLBlkD+bqfUdd9DjUsn8hKKHDL4ElHrIt3t7z9d0\n",
       "yQaOpdz36OBnF9tW5Ea1h55EvvMEMJ9KvanJ3cEhtd1a5eTuH90PhFSqSqfLAVabuDYM7Aa6rWzL\n",
       "VuG+zNGQ9s86uJV5RGIImp7wp/luoXCTazeAdVDsUA+Xla8DBzq5uoJB+gVf0sEdXISnAG891T/C\n",
       "4t7EtQYgjDrd4r5Er/PwoC60GMIAt80xiLMIaw5uXwYRFYL5MQ2lEoulkmzl78VJeulhOwl+Ejxa\n",
       "/92QzwFNTu5IEjO0Tg5lsy+y2X6ihVU065zbrq2caHMrGWo/8+QY9ffCA0OmsWm8SpzA96xmuKBh\n",
       "iHeIQSu9jxjcJ98s7nGRtxLiE3TvIge8lhZpmUzKiQBdela0Y3mKYSaPfcGYgzuGNaRWzGiJll/9\n",
       "Y7T9vAWek8l10hVEVaCNxa/Jk62V3MMMAT34KuTwt5gnJcJzUHlp7d9z0nifMth7HnJOJFpHe4Mn\n",
       "5kvuSKVS2tpGm3szg9Q20jLizMG2LtpUouakr93KlMO/V1LbRdoAyBkzhr9IMjSCsP7BvNIX29+e\n",
       "NMPSujSF1zyuXSk52pZSb/WM+HajLx0mCS9SGqEjjdFy8ykw2LLx78ldl3IOldubt3OiC3Hd21mA\n",
       "cpQapqeOR5ftseb1Mi4Ln51TFusQ8bfD3MNRVcS0y8Jex0xw2SZpDFXlvlvXd/6P5H/8K/4Dmmu9\n",
       "vLXtqa4AAAAASUVORK5CYII=\n",
       "\" style=\"display:inline;vertical-align:middle;\" /></a></span></td></tr>\n",
       "<tr><td>&nbsp;</td><td colspan=4 style-\"text-align:left\"><a class=\"ProveItLink\" href=\"../../_proofs_/addComplexClosureBin.ipynb\">proveit.number.addition.addComplexClosureBin</a></td></tr><tr><td>2</td><td>assumption</td><td></td><td><span style=\"font-size:20px;\"><a class=\"ProveItLink\" href=\"../85f85b29ffe644bf5770f5334ca8f98ddc6a6b250/expr.ipynb\"><img src=\"data:image/png;base64,iVBORw0KGgoAAAANSUhEUgAAAEMAAAAVBAMAAADvM06qAAAAMFBMVEX////c3NxERESqqqpUVFS6\n",
       "urrMzMwyMjIQEBCIiIh2dnYiIiLu7u5mZmaYmJgAAABXZE4RAAAAAXRSTlMAQObYZgAAATpJREFU\n",
       "KM9jYGDgu8eAC7CtEgBRPLsYcAO2ZhDJ+YGB4Ug3huTs8h+bLjAwXAexuRqARAm6itSvDKd+OjAw\n",
       "rIAr+Yymgo/lAQODPbIS1j9QqZPVu7eD6DccQIIXWQnXBqjr6g5AGBdEQB6ZgKSE3XPKAxBbCKqC\n",
       "50IU1FiwEt4CBobzCgzfQGxFmF8X2EFZ70FERgDQYQcYukCaFeBK4qAsdqDHU9oYwL7/C6RYu3fv\n",
       "BjuXRyEL5jd1oAsiEhgY9jKw/gNpdoBJ1LBAGdwLgARLAShYeEHe5tkAU/IKrOQA1C0gD39j4ACp\n",
       "ZvCDKWF6CvQw6x4kTzszXAHLnA6AqXHRPHBU6QCSkiNzwcHCwFibAPPT7f8tAQzIcQQDzO6QCIAD\n",
       "TCUYAKyED68ScHrh2Ykv1bVC0sZi/GkXAJYdV0QwVHUkAAAAAElFTkSuQmCC\n",
       "\" style=\"display:inline;vertical-align:middle;\" /></a> <a class=\"ProveItLink\" href=\"../f4deafc65a9df2e80503981b100fd47b19fe45070/proof.ipynb\" style=\"text-decoration: none\">&#x22A2;&nbsp;</a><a class=\"ProveItLink\" href=\"../56e4bf9d0dc4ab15750dbfaaa220f8ca1295f3ab0/expr.ipynb\"><img src=\"data:image/png;base64,iVBORw0KGgoAAAANSUhEUgAAADEAAAAPBAMAAAC/wjryAAAAMFBMVEX////c3NxmZmbMzMxERESY\n",
       "mJiIiIh2dna6urqqqqoyMjIiIiIQEBBUVFTu7u4AAAAiO1wTAAAAAXRSTlMAQObYZgAAANpJREFU\n",
       "GNNj4LuzgQENsO1af9oJSHNdQJNg7m/gq88FMvgnoMkEXGVg4PwLZPQ/gAjwZe3evQBIsz44ACR1\n",
       "gbgaqtQqDkIzMYKMfwbEa9OuggQY/aAqHnEUQA35wsBvAKRZBKAy5pwBEAbnPwYekKInMAeYc0Bl\n",
       "mBYw8CsA6Z7duyEueMIMNY1bgaEfpMgWpofrAdSDQO/og9z9GibDWgCS4WMAWX8cJMAbAJNybQMS\n",
       "3Q8YeCcwgXXz7YDJ8F7J42sB+oHvmipEQEoZJmW0/88NlPCauxrsNhgAAF6vNqYvGVTbAAAAAElF\n",
       "TkSuQmCC\n",
       "\" style=\"display:inline;vertical-align:middle;\" /></a></span></td></tr>\n",
       "</table>"
      ],
      "text/plain": [
       "<proveit._core_.proof._ShowProof at 0x7f94eba81240>"
      ]
     },
     "execution_count": 1,
     "metadata": {},
     "output_type": "execute_result"
    }
   ],
   "source": [
    "import proveit\n",
    "%show_proof"
   ]
  },
  {
   "cell_type": "code",
   "execution_count": null,
   "metadata": {},
   "outputs": [],
   "source": []
  }
 ],
 "metadata": {
  "kernelspec": {
   "display_name": "Python 3",
   "language": "python",
   "name": "python3"
  }
 },
 "nbformat": 4,
 "nbformat_minor": 0
}
