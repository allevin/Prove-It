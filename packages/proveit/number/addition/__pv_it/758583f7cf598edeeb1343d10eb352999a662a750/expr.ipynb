{
 "cells": [
  {
   "cell_type": "markdown",
   "metadata": {},
   "source": [
    "Expression of type <a class=\"ProveItLink\" href=\"../../../../../../doc/html/api/proveit.logic.InSet.html\">InSet</a>\n",
    "=======================\n",
    "# from context <a class=\"ProveItLink\" href=\"../../_context_.ipynb\">proveit.number.addition</a>"
   ]
  },
  {
   "cell_type": "code",
   "execution_count": 1,
   "metadata": {},
   "outputs": [],
   "source": [
    "# import Expression classes needed to build the expression\n",
    "from proveit._common_ import a, c\n",
    "from proveit.logic import InSet\n",
    "from proveit.number import Complexes, Exp, five"
   ]
  },
  {
   "cell_type": "code",
   "execution_count": 2,
   "metadata": {},
   "outputs": [
    {
     "data": {
      "text/html": [
       "<strong id=\"expr\">expr:</strong> <a class=\"ProveItLink\" href=\"expr.ipynb\"><img src=\"data:image/png;base64,iVBORw0KGgoAAAANSUhEUgAAAJQAAAAZBAMAAAAlPBrhAAAAMFBMVEX////c3NwiIiJERESqqqqY\n",
       "mJh2dnZmZmYQEBDu7u4yMjJUVFTMzMyIiIi6uroAAAAs73DqAAAAAXRSTlMAQObYZgAAAgxJREFU\n",
       "OMutlE1IG0EYht+Y30myccGjh4b0UNpTxHoUvPTixT0J9iCe9FJL7CGnFlR6E3UpKEFoUwSReJD1\n",
       "IIKluCCUglCDl1IwYgst0pNWBMEanZ2Znd1NNLCwAzvz7MzOO998PwsE0jITC1UEJHVzhaCkhtXA\n",
       "pI4RmNSb7zrt/fgres/pITXyEdjzdfzrppmDtcuHBYD8Byq+pJKNE9/qWLw2kibqUPzlQ3Sk4T2l\n",
       "AQNGwgydIaH7kiKTfHy/nHtijUMJ2sWNmK4Y+OszVk9Zn14RFhQ6Lf0qRotA0fL/55dTIhKSyGjN\n",
       "5LQ4fuiCMYYdQokU/jinrNDnRA2f8jeHvh4ns9yAOSy7oJ9xl9idHnnmSM1RUy4Qz3OjJJFZhDVG\n",
       "pSp6XHDCVvNS6rcjVQdSp2jjcfSQaDte2GfJPZ3LMbeT/BePVHseZe4XD4l27gUmlTbsyUrKkXoL\n",
       "PKhiAMyPHhKBuPYCv2DW3j7IpHgQ6PXLfdiOmARuaqeO0izABc1D9i0DPGe7Nm2p8DA9M/OYMQ1u\n",
       "Uos8iqGcdVOqgJhpAbaAF+SfADsZ3smy/tSrf+jmVv2ykulo9wilMzehWPvBIT5e08m8ygFY57dd\n",
       "Ne0YvrqZEboJ+fv7iSaSkFEbCieyzQvn7vrU0EQSojbEWlV/xZfUUqv67BSjImeUJoC0ZaOVVMjP\n",
       "D0sx71+7BcMQmjzDi/xxAAAAAElFTkSuQmCC\n",
       "\" style=\"display:inline;vertical-align:middle;\" /></a><br>"
      ],
      "text/plain": [
       "expr: (a , a , c , c , c) in Complexes^{5}"
      ]
     },
     "execution_count": 2,
     "metadata": {},
     "output_type": "execute_result"
    }
   ],
   "source": [
    "# build up the expression from sub-expressions\n",
    "expr = InSet([a, a, c, c, c], Exp(Complexes, five))"
   ]
  },
  {
   "cell_type": "code",
   "execution_count": 3,
   "metadata": {},
   "outputs": [
    {
     "name": "stdout",
     "output_type": "stream",
     "text": [
      "Passed sanity check: built 'expr' is the same as the stored Expression.\n"
     ]
    }
   ],
   "source": [
    "# check that the built expression is the same as the stored expression\n",
    "%check_expr"
   ]
  },
  {
   "cell_type": "code",
   "execution_count": 4,
   "metadata": {},
   "outputs": [
    {
     "data": {
      "text/html": [
       "<table><tr><th>&nbsp;</th><th>core type</th><th>sub-expressions</th><th>expression</th></tr>\n",
       "<tr><td>0</td><td>Operation</td><td>operator:&nbsp;1<br>operands:&nbsp;2<br></td><td><a class=\"ProveItLink\" href=\"expr.ipynb\"><img src=\"data:image/png;base64,iVBORw0KGgoAAAANSUhEUgAAAJQAAAAZBAMAAAAlPBrhAAAAMFBMVEX////c3NwiIiJERESqqqqY\n",
       "mJh2dnZmZmYQEBDu7u4yMjJUVFTMzMyIiIi6uroAAAAs73DqAAAAAXRSTlMAQObYZgAAAgxJREFU\n",
       "OMutlE1IG0EYht+Y30myccGjh4b0UNpTxHoUvPTixT0J9iCe9FJL7CGnFlR6E3UpKEFoUwSReJD1\n",
       "IIKluCCUglCDl1IwYgst0pNWBMEanZ2Znd1NNLCwAzvz7MzOO998PwsE0jITC1UEJHVzhaCkhtXA\n",
       "pI4RmNSb7zrt/fgres/pITXyEdjzdfzrppmDtcuHBYD8Byq+pJKNE9/qWLw2kibqUPzlQ3Sk4T2l\n",
       "AQNGwgydIaH7kiKTfHy/nHtijUMJ2sWNmK4Y+OszVk9Zn14RFhQ6Lf0qRotA0fL/55dTIhKSyGjN\n",
       "5LQ4fuiCMYYdQokU/jinrNDnRA2f8jeHvh4ns9yAOSy7oJ9xl9idHnnmSM1RUy4Qz3OjJJFZhDVG\n",
       "pSp6XHDCVvNS6rcjVQdSp2jjcfSQaDte2GfJPZ3LMbeT/BePVHseZe4XD4l27gUmlTbsyUrKkXoL\n",
       "PKhiAMyPHhKBuPYCv2DW3j7IpHgQ6PXLfdiOmARuaqeO0izABc1D9i0DPGe7Nm2p8DA9M/OYMQ1u\n",
       "Uos8iqGcdVOqgJhpAbaAF+SfADsZ3smy/tSrf+jmVv2ykulo9wilMzehWPvBIT5e08m8ygFY57dd\n",
       "Ne0YvrqZEboJ+fv7iSaSkFEbCieyzQvn7vrU0EQSojbEWlV/xZfUUqv67BSjImeUJoC0ZaOVVMjP\n",
       "D0sx71+7BcMQmjzDi/xxAAAAAElFTkSuQmCC\n",
       "\" style=\"display:inline;vertical-align:middle;\" /></a></td></tr>\n",
       "<tr><td>1</td><td>Literal</td><td></td><td><a class=\"ProveItLink\" href=\"../../../../logic/set_theory/membership/__pv_it/088cbc857536a28d4119ad9639a84270ccb0545d0/expr.ipynb\"><img src=\"data:image/png;base64,iVBORw0KGgoAAAANSUhEUgAAAAwAAAAMBAMAAACkW0HUAAAALVBMVEX///+qqqpmZmZUVFQQEBC6\n",
       "urpERETc3NyYmJjMzMwiIiIyMjKIiIju7u4AAACYsrA9AAAAAXRSTlMAQObYZgAAADxJREFUCNdj\n",
       "YOA9vWrVBgaG2b0MQMCeCyIZ2ArA1DUwyRCyahVIyWQI7xaEYm4AU7xLIdxqTQgtvGvVBgCkcQ7e\n",
       "geM/tQAAAABJRU5ErkJggg==\n",
       "\" style=\"display:inline;vertical-align:middle;\" /></a></td></tr>\n",
       "<tr><td>2</td><td>ExprTuple</td><td>3, 4</td><td><a class=\"ProveItLink\" href=\"../42ee8a45b5889bd3257e886bbd83f94418ebed7a0/expr.ipynb\"><img src=\"data:image/png;base64,iVBORw0KGgoAAAANSUhEUgAAAJgAAAAcBAMAAABvzWvcAAAAMFBMVEX///+qqqp2dnYiIiJERESI\n",
       "iIhmZmYQEBDc3NyYmJgyMjLu7u5UVFTMzMy6uroAAACGxKilAAAAAXRSTlMAQObYZgAAAl1JREFU\n",
       "SMetlU9o01Acx7/pljZrkk7wpCALwrwpO+gQRKjgDoJgcEwvOop/QBBh3naQmYMnKVjFk8IoCIJO\n",
       "JOwy3MH0oKJDMIhHcUUPVUGt6LBD2/l7yXtpuqWw0Dxofp/fa/rl997v+16BBEbuwhMTSY3c2j+B\n",
       "33sXm7UAg5Fe6V2sSo/3jBbt3sXOn7Ahs217xbI4+zdQXT+jWFIZ2E8wJUrc9LgU4vGHf/YWALUJ\n",
       "nALShJiLJZZt44cW5lcqWRctwLGRoaLleC4ZMALSSsBQJeMqDaCvhGWay8TrgTol6G6GHulKypbJ\n",
       "Euk8TlL6NWb3DgkoFJm2iZ1nWJl1LFFgqDzfM81fKR6vWT7ND5+Ogl2ixMLHsEH+4iiFB/SpWf11\n",
       "PjmNYz7pM7gXBdv5z3VjW0hMb+I+hRkqbJWt2Rs3Sjjn04KJI1FQC8S+hN3WwigF6qtWRx/v6Rtg\n",
       "X0CRsCyWmX8b7stPITaYh+P6k789C/qESBBimNM6K3tE4TKtzcQQPIcoK5DqKif+2joQy8QtT4wb\n",
       "S2niGQXaBmcLliRX9avVyju8N1ap3xGAO0Kif5a2JneAN66BcXitzpak0RScEa+3WwuG+ovoBbB7\n",
       "I/jW8FK8HrOfHuaVkc9+UPjEbDb5bhILDWaziW9jVfUqWS09PGFvBOAxE2Mp9LNrV8QlkipjkLY9\n",
       "Y4lN+Ny2oNUV/OMUpMH5N6EZ4ZNbap/m7pAyO1IxHAv6SPgK2pTYIiLFbvNTW+S53P7K7A4vO1Mx\n",
       "DtLnOrNInAtNdqNvOXbLSkYyf57XvOfNZMQuItnxH1fDrJ4rc3eDAAAAAElFTkSuQmCC\n",
       "\" style=\"display:inline;vertical-align:middle;\" /></a></td></tr>\n",
       "<tr><td>3</td><td>ExprTuple</td><td>5, 5, 6, 6, 6</td><td><a class=\"ProveItLink\" href=\"../0ec3a72e5dc852d1f32cf0eac5154af07cd1c1210/expr.ipynb\"><img src=\"data:image/png;base64,iVBORw0KGgoAAAANSUhEUgAAAGIAAAAVBAMAAABPrCZEAAAAMFBMVEX////c3NwiIiJERESqqqqY\n",
       "mJh2dnZmZmYQEBDu7u4yMjJUVFTMzMyIiIi6uroAAAAs73DqAAAAAXRSTlMAQObYZgAAATRJREFU\n",
       "OMuVkzFIw0AUhr/aNm1SY7s72M21g+7OLmZ2ctLFilMnBwVXi5MUl4Dg4CI4CYIYcBEczCqYUp3E\n",
       "qSIdFV96Mc0ZBO/BPb6E/C/v/nsH5jETGnxcHki6N6q/I+vMSOGAGxopymtUD40U9i5vhkYt0JFc\n",
       "uN7aU88TstejQAeO2k+wwanga6M4VC8ndDdwmjpMdzmBZbpSeESlpX6Rkn1A0dOAXsii1OQLakOm\n",
       "lGMaoQM34/wQK+otfNWqRujAR6LYh7mQFcYma6QihcKn2mncmr/EVSmwyVJdevc0YCTnB6viFo5X\n",
       "mrfwm1mqbWMFGnAJm7G7L/Eh9G/79N6zRCd6/AWVdiQNn1Nt/OzsmRzlQaZERisJjxzlwQoz0/4v\n",
       "xbGs2YTdVOD+DVzEPptcEDfgG2HMaT0lIlu0AAAAAElFTkSuQmCC\n",
       "\" style=\"display:inline;vertical-align:middle;\" /></a></td></tr>\n",
       "<tr><td>4</td><td>Operation</td><td>operator:&nbsp;7<br>operands:&nbsp;8<br></td><td><a class=\"ProveItLink\" href=\"../1d5ca85bb291b50723080d0d449bfc191044913a0/expr.ipynb\"><img src=\"data:image/png;base64,iVBORw0KGgoAAAANSUhEUgAAABcAAAAUBAMAAACUkLs9AAAAMFBMVEX////c3NyqqqqYmJhUVFR2\n",
       "dnbu7u66urrMzMxmZmZEREQQEBAyMjIiIiKIiIgAAAB7fvZ0AAAAAXRSTlMAQObYZgAAAJZJREFU\n",
       "GNNjYICCSjE7Bjio/++A4BQXItgM5Uhshsp30xAcQQYdEMV35/zelUA6v4GBgaO+gC3+CcMJBv4C\n",
       "BgYDZwYGpi8MOxjkBRiYEzYAlUxhCGN4wsDAyQiyLI+BNTKAgSGTPQBhZCuTARKHHYmTxYGkjCcB\n",
       "ybXMASAOG5S3uA5I1CZAOCxez9iqlsEUdt7/7Q5hAQDDzB+JAiNuCgAAAABJRU5ErkJggg==\n",
       "\" style=\"display:inline;vertical-align:middle;\" /></a></td></tr>\n",
       "<tr><td>5</td><td>Variable</td><td></td><td><a class=\"ProveItLink\" href=\"../../../../__pv_it/07527342713064c87612d00d8557c53d53d5324a0/expr.ipynb\"><img src=\"data:image/png;base64,iVBORw0KGgoAAAANSUhEUgAAAAsAAAAJBAMAAAAWSsseAAAAMFBMVEX///8yMjKqqqrMzMzu7u4i\n",
       "IiJmZmaYmJhEREQQEBC6urp2dnaIiIhUVFTc3NwAAAD87Fq/AAAAAXRSTlMAQObYZgAAAEhJREFU\n",
       "CNdjYOC7s2seAwPDygccHxgY+L4zsDUwMPB+YGA9wMDA38Dgb8DA8P4Agz6DA4O/AsNFJgMGxgKm\n",
       "MG6gyjunLE4xAAAZTBA5TB6DCwAAAABJRU5ErkJggg==\n",
       "\" style=\"display:inline;vertical-align:middle;\" /></a></td></tr>\n",
       "<tr><td>6</td><td>Variable</td><td></td><td><a class=\"ProveItLink\" href=\"../../../../__pv_it/cbdfda466482236edba0ce44ac7ef39cda0af7a40/expr.ipynb\"><img src=\"data:image/png;base64,iVBORw0KGgoAAAANSUhEUgAAAAkAAAAJBAMAAAASvxsjAAAALVBMVEX///9mZmbc3NxUVFSYmJhE\n",
       "REQiIiIyMjK6uroQEBDMzMyIiIh2dnbu7u4AAABgFDGoAAAAAXRSTlMAQObYZgAAADZJREFUCNdj\n",
       "YOA9s3sBA8PKBvYEBt7ZDKwODMwPGICALwBE6m0Asx0YGIDiAgw8QJUyu/cyAAAmuwmycZ8WfQAA\n",
       "AABJRU5ErkJggg==\n",
       "\" style=\"display:inline;vertical-align:middle;\" /></a></td></tr>\n",
       "<tr><td>7</td><td>Literal</td><td></td><td><a class=\"ProveItLink\" href=\"../../../exponentiation/__pv_it/deb2bf23cbccdd6e6791e1b35b5b9794ce12dbd50/expr.ipynb\"><img src=\"data:image/png;base64,iVBORw0KGgoAAAANSUhEUgAAACgAAAASBAMAAADbMYGVAAAAMFBMVEX///8QEBAiIiKYmJjc3Nzu\n",
       "7u7MzMx2dnZmZma6urpERESqqqoyMjJUVFSIiIgAAAAoDOMTAAAAAXRSTlMAQObYZgAAAOBJREFU\n",
       "GNNjYGB4+//u3Tt/GNAASGAXmhjnPyDBgSbI/g1IxKEJ8nxgYGdgQRPkX8BgDKRY6q7s62OYvmze\n",
       "2wAgb/7ZO1+AVDiDkYEQQ0HTBr4DQF59AgOIKmB4z7CNbcNZBu6vQN55kEACQwDDLQYGVobfDHwg\n",
       "fb8YGBxYHwAZciD3fWXg+gB1JjvQcJZvQIXsCgz8F6DO9GBgMOH7wPCUgaeBwd4B7EwGNjUG7s9c\n",
       "AiwPgO5jkWRgiF3/9+5dfQUG1nWl5Y+B7pv+1gE9bBhqGLCAE1jEWH9jEbT5A3IwAC4sP/1L6Qlu\n",
       "AAAAAElFTkSuQmCC\n",
       "\" style=\"display:inline;vertical-align:middle;\" /></a></td></tr>\n",
       "<tr><td>8</td><td>ExprTuple</td><td>9, 10</td><td><a class=\"ProveItLink\" href=\"../7b5508e04b247401485fb3cbfb9e6c01a4389fb40/expr.ipynb\"><img src=\"data:image/png;base64,iVBORw0KGgoAAAANSUhEUgAAAC8AAAAVBAMAAAAk6KpUAAAAMFBMVEX////c3NwiIiJERESqqqqY\n",
       "mJh2dnZmZmYQEBDu7u4yMjJUVFTMzMyIiIi6uroAAAAs73DqAAAAAXRSTlMAQObYZgAAASRJREFU\n",
       "KM9jYMAJ+C5gisWBiNNAzKu1vskcIsYVyZjCwH4AyFrJwMDz/gFn/m2IBMf//wkMDAuAioEmBWxl\n",
       "YGD5DdVRnQMkw4AqJjCwTmgAsqshEtxgcgYDwysGBnbGDUD2XGQJZgeGMgaG6XwJCAdx3739gIGB\n",
       "rYBhKQPDMZYAhATzBM5/QBsXMPQBJfgCUHyxA+i5Bgag9GSeBBSJ/AMMPB9AElwTNiBEjYASD0AS\n",
       "LQwMrAkgCU6IRBMDQ70AyChTIMf0LZB4NAEsVcDAsAqodgFDOsiJm29yPrZkmK8AZIszsDSCnfsI\n",
       "pOy4/o99QO9+BDJ5yncLAK19wMAhgLD4IZw1A2QzQgLhnVxIsGNIcAKDnUEaLs6LCDCQ+YxYovYO\n",
       "AwMAlNdEY4sgu8kAAAAASUVORK5CYII=\n",
       "\" style=\"display:inline;vertical-align:middle;\" /></a></td></tr>\n",
       "<tr><td>9</td><td>Literal</td><td></td><td><a class=\"ProveItLink\" href=\"../../../sets/complex/__pv_it/c357845f93a5a2d9f649129d299e7ec28dda4b960/expr.ipynb\"><img src=\"data:image/png;base64,iVBORw0KGgoAAAANSUhEUgAAAA8AAAAOBAMAAAACpFvcAAAAMFBMVEX////c3NyqqqqYmJhUVFR2\n",
       "dnbu7u66urrMzMxmZmZEREQQEBAyMjIiIiKIiIgAAAB7fvZ0AAAAAXRSTlMAQObYZgAAAGVJREFU\n",
       "CNdjYGDgu3N+70oGBgaO+gK2+CdAhoEzAwPTFwYG5oQNQN4UBgZORgcgI4+BIZM9gAEMWpkMoAx2\n",
       "KCOLAyrFk+AAYTAHgBhsQLy4DkjUJjAwsHg9Y6taBpLsvP/bnYEBACkBFGQfBv8RAAAAAElFTkSu\n",
       "QmCC\n",
       "\" style=\"display:inline;vertical-align:middle;\" /></a></td></tr>\n",
       "<tr><td>10</td><td>Literal</td><td></td><td><a class=\"ProveItLink\" href=\"../../../numeral/__pv_it/aaeeaca7d86eb2b7cdc49e25c3108b81b52ec5400/expr.ipynb\"><img src=\"data:image/png;base64,iVBORw0KGgoAAAANSUhEUgAAAAkAAAAOBAMAAAAPuiubAAAAMFBMVEX///8iIiJERES6urqIiIjM\n",
       "zMxUVFRmZmYQEBCqqqp2dnbc3Nzu7u6YmJgyMjIAAADYGhJvAAAAAXRSTlMAQObYZgAAAE1JREFU\n",
       "CNdj4LvDvZKBgeP//wUMDHxlSxkYGNgYGBCki5sBAwPTAZ7PYG4GmFwfwKAIJA0YGhkY6jcwFDAw\n",
       "vGNg2M7A2c3AwFqetoEBAKS8EE1WXEJLAAAAAElFTkSuQmCC\n",
       "\" style=\"display:inline;vertical-align:middle;\" /></a></td></tr>\n",
       "</table>\n"
      ],
      "text/plain": [
       "0. (a , a , c , c , c) in Complexes^{5}\n",
       "   core type: Operation\n",
       "   operator: 1\n",
       "   operands: 2\n",
       "1. in\n",
       "   core type: Literal\n",
       "   sub-expressions: \n",
       "2. ((a , a , c , c , c) , Complexes^{5})\n",
       "   core type: ExprTuple\n",
       "   sub-expressions: 3, 4\n",
       "3. (a , a , c , c , c)\n",
       "   core type: ExprTuple\n",
       "   sub-expressions: 5, 5, 6, 6, 6\n",
       "4. Complexes^{5}\n",
       "   core type: Operation\n",
       "   operator: 7\n",
       "   operands: 8\n",
       "5. a\n",
       "   core type: Variable\n",
       "   sub-expressions: \n",
       "6. c\n",
       "   core type: Variable\n",
       "   sub-expressions: \n",
       "7. Exp\n",
       "   core type: Literal\n",
       "   sub-expressions: \n",
       "8. (Complexes , 5)\n",
       "   core type: ExprTuple\n",
       "   sub-expressions: 9, 10\n",
       "9. Complexes\n",
       "   core type: Literal\n",
       "   sub-expressions: \n",
       "10. 5\n",
       "    core type: Literal\n",
       "    sub-expressions: "
      ]
     },
     "execution_count": 4,
     "metadata": {},
     "output_type": "execute_result"
    }
   ],
   "source": [
    "# display the expression information\n",
    "expr.exprInfo()"
   ]
  },
  {
   "cell_type": "code",
   "execution_count": null,
   "metadata": {},
   "outputs": [],
   "source": []
  }
 ],
 "metadata": {
  "kernelspec": {
   "display_name": "Python 3",
   "language": "python",
   "name": "python3"
  }
 },
 "nbformat": 4,
 "nbformat_minor": 0
}
