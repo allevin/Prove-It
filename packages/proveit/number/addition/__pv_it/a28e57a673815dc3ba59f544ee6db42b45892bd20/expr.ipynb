{
 "cells": [
  {
   "cell_type": "markdown",
   "metadata": {},
   "source": [
    "Expression of type <a class=\"ProveItLink\" href=\"../../../../../../doc/html/api/proveit.number.Add.html\">Add</a>\n",
    "=======================\n",
    "# from context <a class=\"ProveItLink\" href=\"../../_context_.ipynb\">proveit.number.addition</a>"
   ]
  },
  {
   "cell_type": "code",
   "execution_count": 1,
   "metadata": {},
   "outputs": [],
   "source": [
    "# import Expression classes needed to build the expression\n",
    "from proveit._common_ import b, c\n",
    "from proveit.number import Add, Mult, one, three, two"
   ]
  },
  {
   "cell_type": "code",
   "execution_count": 2,
   "metadata": {},
   "outputs": [
    {
     "data": {
      "text/html": [
       "<strong id=\"expr\">expr:</strong> <a class=\"ProveItLink\" href=\"expr.ipynb\"><img src=\"data:image/png;base64,iVBORw0KGgoAAAANSUhEUgAAATAAAAAVBAMAAAAzw6/xAAAAMFBMVEX///+YmJh2dnbMzMwQEBAi\n",
       "IiLu7u6qqqqIiIhUVFS6urpEREQyMjJmZmbc3NwAAACOMKdoAAAAAXRSTlMAQObYZgAAAt5JREFU\n",
       "SMfdlktoE0EYx/95v3Y3wbNIiJceLBTx4kEqolWqSBCv0kWKUBTboweLAUXSg5iTj4M2hwg9CI0X\n",
       "C57aQyvaBePrILbYi2AParU0lfqIMzvNJt/sZhJzdCCT7Le//8x/vv12JsD/1eI5V8hX7JKagidl\n",
       "LC9K7MiR9sb2A3szM1Ty2ov6vPSkDRUosO6xFGTUKqKbUvRZe2MLMCqYzhGJ5kUVcHNMTWkmcL4q\n",
       "B4FbwJC4CK9sRx2jF+VB6oFoDv5NJLPODS7xpd1UzERoTU3lWSrvysYYddjEpHiWke0ExB3qkmys\n",
       "HgiaiDQbsyXhg24qOIDYlpoa4EuQjTHqhYkP1Jg/29bYQ7tvPEohmXFTWhX6lpKKz3oZE9SQSYxp\n",
       "dyZSdIZwJt9HAq+kWhSSXsmYoEJVJaWnZWNne64KKvAdxNhoGet0hn1FLUsCc1y2p+CMJSSXJWNz\n",
       "dt+fVlJaSjIWGMS8oLQyNXbFxCGiDR9DIkWmHLT7a7wEwqYjKUnGBLUIJRUsNoyd491wDo8E9R7U\n",
       "2BLwm2hja3KNibIJ8uFGs46k34vS7WW3ppINY+EN3k+KPLOg/UR0y5o/YVn89xnEv/FhLOu0ZfE6\n",
       "SoqUNgJ8SqMPCY4Nlx1Jv5sCJmxta6rZ2HHe/6wbG4exQjK2Cb1KFvU1J2fsKMtBVRhrkpTcFCIV\n",
       "fFFSwTFaY8YP+6uEQAU+amwdwTTNNiswWmOsCJKzCP2pjyYkOyVjjMIBYJeSSsjFz1br49THTOYt\n",
       "rbHbeEe1sQr8dLtgL3M0hWnnfRMSebtg18apTG9WSfkrkrF7wG5ODdVqG9TYyI2UvCHlr9PAA/YZ\n",
       "X37aOJ5tyXO4qFCtVssqqTi7rb/59dIZS+/Jmw2q2Zh7o3cfSSseB7v7SOqIOgkV5f3vaapVwDmJ\n",
       "m5s/1xW1AyrqX9uCR+xCd5RmdjRWh23VI3a/O8oodDRWh81wpzra1yX1CV7UX8OKCxfB6Z1SAAAA\n",
       "AElFTkSuQmCC\n",
       "\" style=\"display:inline;vertical-align:middle;\" /></a><br>"
      ],
      "text/plain": [
       "expr: 2 + b + c + (3 * b) + (2 * b) + (1 * c)"
      ]
     },
     "execution_count": 2,
     "metadata": {},
     "output_type": "execute_result"
    }
   ],
   "source": [
    "# build up the expression from sub-expressions\n",
    "expr = Add(two, b, c, Mult(three, b), Mult(two, b), Mult(one, c))"
   ]
  },
  {
   "cell_type": "code",
   "execution_count": 3,
   "metadata": {},
   "outputs": [
    {
     "name": "stdout",
     "output_type": "stream",
     "text": [
      "Passed sanity check: built 'expr' is the same as the stored Expression.\n"
     ]
    }
   ],
   "source": [
    "# check that the built expression is the same as the stored expression\n",
    "%check_expr"
   ]
  },
  {
   "cell_type": "code",
   "execution_count": 4,
   "metadata": {},
   "outputs": [
    {
     "data": {
      "text/html": [
       "<table><tr><th>&nbsp;</th><th>core type</th><th>sub-expressions</th><th>expression</th></tr>\n",
       "<tr><td>0</td><td>Operation</td><td>operator:&nbsp;1<br>operands:&nbsp;2<br></td><td><a class=\"ProveItLink\" href=\"expr.ipynb\"><img src=\"data:image/png;base64,iVBORw0KGgoAAAANSUhEUgAAATAAAAAVBAMAAAAzw6/xAAAAMFBMVEX///+YmJh2dnbMzMwQEBAi\n",
       "IiLu7u6qqqqIiIhUVFS6urpEREQyMjJmZmbc3NwAAACOMKdoAAAAAXRSTlMAQObYZgAAAt5JREFU\n",
       "SMfdlktoE0EYx/95v3Y3wbNIiJceLBTx4kEqolWqSBCv0kWKUBTboweLAUXSg5iTj4M2hwg9CI0X\n",
       "C57aQyvaBePrILbYi2AParU0lfqIMzvNJt/sZhJzdCCT7Le//8x/vv12JsD/1eI5V8hX7JKagidl\n",
       "LC9K7MiR9sb2A3szM1Ty2ov6vPSkDRUosO6xFGTUKqKbUvRZe2MLMCqYzhGJ5kUVcHNMTWkmcL4q\n",
       "B4FbwJC4CK9sRx2jF+VB6oFoDv5NJLPODS7xpd1UzERoTU3lWSrvysYYddjEpHiWke0ExB3qkmys\n",
       "HgiaiDQbsyXhg24qOIDYlpoa4EuQjTHqhYkP1Jg/29bYQ7tvPEohmXFTWhX6lpKKz3oZE9SQSYxp\n",
       "dyZSdIZwJt9HAq+kWhSSXsmYoEJVJaWnZWNne64KKvAdxNhoGet0hn1FLUsCc1y2p+CMJSSXJWNz\n",
       "dt+fVlJaSjIWGMS8oLQyNXbFxCGiDR9DIkWmHLT7a7wEwqYjKUnGBLUIJRUsNoyd491wDo8E9R7U\n",
       "2BLwm2hja3KNibIJ8uFGs46k34vS7WW3ppINY+EN3k+KPLOg/UR0y5o/YVn89xnEv/FhLOu0ZfE6\n",
       "SoqUNgJ8SqMPCY4Nlx1Jv5sCJmxta6rZ2HHe/6wbG4exQjK2Cb1KFvU1J2fsKMtBVRhrkpTcFCIV\n",
       "fFFSwTFaY8YP+6uEQAU+amwdwTTNNiswWmOsCJKzCP2pjyYkOyVjjMIBYJeSSsjFz1br49THTOYt\n",
       "rbHbeEe1sQr8dLtgL3M0hWnnfRMSebtg18apTG9WSfkrkrF7wG5ODdVqG9TYyI2UvCHlr9PAA/YZ\n",
       "X37aOJ5tyXO4qFCtVssqqTi7rb/59dIZS+/Jmw2q2Zh7o3cfSSseB7v7SOqIOgkV5f3vaapVwDmJ\n",
       "m5s/1xW1AyrqX9uCR+xCd5RmdjRWh23VI3a/O8oodDRWh81wpzra1yX1CV7UX8OKCxfB6Z1SAAAA\n",
       "AElFTkSuQmCC\n",
       "\" style=\"display:inline;vertical-align:middle;\" /></a></td></tr>\n",
       "<tr><td>1</td><td>Literal</td><td></td><td><a class=\"ProveItLink\" href=\"../3e6688136fa3c7aefbebe51301b7c3ebf0b69c440/expr.ipynb\"><img src=\"data:image/png;base64,iVBORw0KGgoAAAANSUhEUgAAAA4AAAAOBAMAAADtZjDiAAAAJFBMVEX///+6urpUVFQQEBAiIiIy\n",
       "MjJmZmaIiIiqqqrc3Nzu7u4AAACgHpL+AAAAAXRSTlMAQObYZgAAAB5JREFUCNdjYGBgWMkAAe2k\n",
       "0Kmhoc6hoUGk6BMHYgAHOwjcado9fwAAAABJRU5ErkJggg==\n",
       "\" style=\"display:inline;vertical-align:middle;\" /></a></td></tr>\n",
       "<tr><td>2</td><td>ExprTuple</td><td>11, 12, 14, 3, 4, 5</td><td><a class=\"ProveItLink\" href=\"../8516687104c509107b935ac494bc851b9730fc3a0/expr.ipynb\"><img src=\"data:image/png;base64,iVBORw0KGgoAAAANSUhEUgAAAL0AAAAVBAMAAADhtvKAAAAAMFBMVEX////c3NwiIiJERESqqqqY\n",
       "mJh2dnZmZmYQEBDu7u4yMjJUVFTMzMyIiIi6uroAAAAs73DqAAAAAXRSTlMAQObYZgAAAl9JREFU\n",
       "OMu1lT9oE1Ecx79Jmtxd0uTi1MHBTLpm0MFFsjn2XBxFOqQgCLe0Sh0UKwUHNeBi6ZADdZAuGRSE\n",
       "UshUBQezqdRgdHRJ1RY5Kcb3fu/PvXfnkCU3XH73yft+773v++UFmPVVG8zM+gq/vQMW1i4I4L1u\n",
       "pMfstc/qeuuuqrTCojhva50+u71ArocvLUHKvZR9LsQ4WeC2oonCoHgcp9QRUB2g0kH+QAC/lRpR\n",
       "OoSfrOlQfhoKg27tpP0vA24H7n1U/gow7qRGzJn+NaU3FAZFNe3/BPjOQonhyNFL/9mlJJ+SepOh\n",
       "MGjWv9DCKhV5+c328JXc6fawn44X5d39QNX5OEtNfzIohXhOT++vCvgLvrB9OyqLac1fS7a828Sx\n",
       "qqXCoqY/GcxFeEhPT2XaMVzSeQ9QUFP9OOKAb8xiBxtKT4pNWFT6b2qD2h1QjE5TNmwEP6QGSboD\n",
       "Lld1+WrWgN+qtbnC+wmLCn+iwmD+QPjvq1BZt9O0/abq9D4KR7wTODiD2pHkpPDWYVHpv64NmP89\n",
       "HkuIE6r9b1OHnlI9042Fv2x0RyasFRY18hcGLJ9z7OMNcAncl23uBjxesFUEVETI/1CiY7479H5S\n",
       "ZKjhTwYoRlhmGZxuLzdEai2nR1FXQpT6vKgGGOtOeYlbIl1SZKjpTwa8P7+x1CeTScN7VGfR7a6w\n",
       "qPl8V4efRHHxxrPkJPsQgMaRIkOdm39W9FhugPIIbl39zFWBr5nCOs/r01N2PhTV6ouaBpnCvIqY\n",
       "nl6n83lm/h47n3FSPuhTrJoprGswPa3w0HKz+3/8DPwDGAzDJyr3Pf8AAAAASUVORK5CYII=\n",
       "\" style=\"display:inline;vertical-align:middle;\" /></a></td></tr>\n",
       "<tr><td>3</td><td>Operation</td><td>operator:&nbsp;8<br>operands:&nbsp;6<br></td><td><a class=\"ProveItLink\" href=\"../1e631544db83ce4853cc0a486ec7448a56387f780/expr.ipynb\"><img src=\"data:image/png;base64,iVBORw0KGgoAAAANSUhEUgAAACIAAAAOBAMAAAC4B9O8AAAAMFBMVEX///+YmJju7u4QEBBUVFQy\n",
       "MjIiIiKIiIi6urpmZmbc3NyqqqpERER2dnbMzMwAAAB0GlNiAAAAAXRSTlMAQObYZgAAAJhJREFU\n",
       "CNdjYHh79zQDDKiYAQmuCQz9BXChECDm/c3AnwAX+Q3E3MgiHJ8gNEIXbwJCMwSwupcIMDDwXXWA\n",
       "i+gfYPgHoosbgASTApDYr8BgCxJhBpmnDzJiKgPDTwauBww8H4Ec5QNAIpOB4yOD/ieICNQ5nJ8Y\n",
       "+AMY2H7BRP4xMF9gYBdg6L8AE/FmmAIkd86MRvi0UoABAPL2JMAQl6zyAAAAAElFTkSuQmCC\n",
       "\" style=\"display:inline;vertical-align:middle;\" /></a></td></tr>\n",
       "<tr><td>4</td><td>Operation</td><td>operator:&nbsp;8<br>operands:&nbsp;7<br></td><td><a class=\"ProveItLink\" href=\"../4fa23b01b5b767887c70271cab015f5b5c98d38c0/expr.ipynb\"><img src=\"data:image/png;base64,iVBORw0KGgoAAAANSUhEUgAAACEAAAAOBAMAAABTMGi/AAAAMFBMVEX///+YmJh2dnbMzMwQEBAi\n",
       "IiLu7u6qqqqIiIhUVFS6urpEREQyMjJmZmbc3NwAAACOMKdoAAAAAXRSTlMAQObYZgAAAKBJREFU\n",
       "CNdj4Lt7egEDFLBNCQCSLxk4vsNEGHgmAIlpDAzxcBH+AiDhksAwH65tfQKQOJ/AcB8uogql4xNg\n",
       "Iic7JoIo5k9wu34z8BuALNgA4qUBMfs3BhYFIH0bLP0VSPAeYOC/wMDAMQEs4g0kWC8wrBdgYKhl\n",
       "4HuAcM79BAbmCwyMcBEDBicGhqdKSldhdnEW8AKNiP///yvc9hkXGRgAQ2knSfB0jgcAAAAASUVO\n",
       "RK5CYII=\n",
       "\" style=\"display:inline;vertical-align:middle;\" /></a></td></tr>\n",
       "<tr><td>5</td><td>Operation</td><td>operator:&nbsp;8<br>operands:&nbsp;9<br></td><td><a class=\"ProveItLink\" href=\"../0e878f9c71a2efd1c9106f5963590ee158259e4f0/expr.ipynb\"><img src=\"data:image/png;base64,iVBORw0KGgoAAAANSUhEUgAAACEAAAAPBAMAAACYbLsaAAAALVBMVEX////c3Ny6urrMzMx2dnYi\n",
       "IiKYmJgyMjIQEBBmZmaIiIhUVFTu7u5EREQAAACQChhGAAAAAXRSTlMAQObYZgAAAF1JREFUGNNj\n",
       "YGC4w4AGzr5BEzi9G12EgYtEER6XVQaoIhYK7AFwkTMgJV0MvAkwEZ6nQIL7AZI5PL1Agu8Cusly\n",
       "C9BF+ICGJKCIcE9gYDFg4JzxfBpcaMqqNQyYAAAn7xwCwhWVrQAAAABJRU5ErkJggg==\n",
       "\" style=\"display:inline;vertical-align:middle;\" /></a></td></tr>\n",
       "<tr><td>6</td><td>ExprTuple</td><td>10, 12</td><td><a class=\"ProveItLink\" href=\"../ed5a6ec4c875d8d4dac8f1f17e42c24dc92561870/expr.ipynb\"><img src=\"data:image/png;base64,iVBORw0KGgoAAAANSUhEUgAAACkAAAAVBAMAAAAp9toTAAAAMFBMVEX////c3NwiIiJERESqqqqY\n",
       "mJh2dnZmZmYQEBDu7u4yMjJUVFTMzMyIiIi6uroAAAAs73DqAAAAAXRSTlMAQObYZgAAARBJREFU\n",
       "GNNtka9Pw0AcxT/d2rVlY53H7I8AX4edQpIGAQnJkhpAgiBIqMRRAYLM1JBgSKowmEkEJAtypvya\n",
       "qCF873odScOJd++95L737h38v/rThrGt4Aked9crw78fgpsLu8WKKcyBlUwghdUpnW+CYeUGocAW\n",
       "eAn2n1skApcwr5SZsKOgHXKo1cTcP3m9g07MjfDefmYyfBHk2CnnWj7P9GaXeBH9E3609Eq9uSlB\n",
       "TO9duVZOe6HdliQfKfcUrsralbjHiZqwITyl9YFKKledgZOyJ88bUUT+p7jd0M10sjcRm0fX+BcD\n",
       "SfZwoMqY4Q3qRmuiXuxEhjvLgse6yYbrS5OsGbH8kq4aZTV/6AV+AUvGQYW/r0RJAAAAAElFTkSu\n",
       "QmCC\n",
       "\" style=\"display:inline;vertical-align:middle;\" /></a></td></tr>\n",
       "<tr><td>7</td><td>ExprTuple</td><td>11, 12</td><td><a class=\"ProveItLink\" href=\"../3a7fed3333ef42636d071b31cc212d3a8cbf468e0/expr.ipynb\"><img src=\"data:image/png;base64,iVBORw0KGgoAAAANSUhEUgAAACkAAAAVBAMAAAAp9toTAAAAMFBMVEX////c3NwiIiJERESqqqqY\n",
       "mJh2dnZmZmYQEBDu7u4yMjJUVFTMzMyIiIi6uroAAAAs73DqAAAAAXRSTlMAQObYZgAAARNJREFU\n",
       "GNNtkaFPw0AUxn8tK20prEMhMFVoDJb0TwCDJA2CKZIaEBgQhAQDlcgmBEEwNSQYkjkEgnlGIEjM\n",
       "FqZqKO/u2omGipf3/a737rvv4P+vO2yBXVVeYOV40wD/MQJ3IN0dVsFHbPBCISWHpSFBhj0xNFSr\n",
       "O+BleBcEv4aOMynX8C3bStya7qkyF3OklV0aev/+APMpt1q9JsbDlHBAJ+dSyxvza6fES+ieoge6\n",
       "64a6OWHK4sTQt/padsp4S9EztTFlubF7kqkJGyKeYRvlVI46ByenD9bafj/yf4QGsVtoZ18yraqq\n",
       "yL/qibOnQxXGJ16vSbRp1I2dpO6dWcAHOskW9SVJVmsxe5JAjbLaLzSCP9bMPeBRRV1aAAAAAElF\n",
       "TkSuQmCC\n",
       "\" style=\"display:inline;vertical-align:middle;\" /></a></td></tr>\n",
       "<tr><td>8</td><td>Literal</td><td></td><td><a class=\"ProveItLink\" href=\"../../../multiplication/__pv_it/21fd2079611555ecce512d99547a00d551e6b86b0/expr.ipynb\"><img src=\"data:image/png;base64,iVBORw0KGgoAAAANSUhEUgAAAAMAAAADBAMAAACkBqiMAAAAElBMVEX///9EREQQEBAiIiLu7u4A\n",
       "AABGBidwAAAAAXRSTlMAQObYZgAAABFJREFUCNdjYHFgcDVgcBIAAASWAQx4jI0xAAAAAElFTkSu\n",
       "QmCC\n",
       "\" style=\"display:inline;vertical-align:middle;\" /></a></td></tr>\n",
       "<tr><td>9</td><td>ExprTuple</td><td>13, 14</td><td><a class=\"ProveItLink\" href=\"../deda2a103a56807cc467e42546c498e67ce9ee270/expr.ipynb\"><img src=\"data:image/png;base64,iVBORw0KGgoAAAANSUhEUgAAACkAAAAVBAMAAAAp9toTAAAAMFBMVEX////c3NwiIiJERESqqqqY\n",
       "mJh2dnZmZmYQEBDu7u4yMjJUVFTMzMyIiIi6uroAAAAs73DqAAAAAXRSTlMAQObYZgAAANNJREFU\n",
       "GNNjYMAO+C6gCcSBiNNAzDwBSZT9AJBYycDAaY8syrCAgYH3AgPn7v0oomEMDBwggfsoojMYGF4x\n",
       "YIgyOzCUoYhypt09wMBWwLAURfTEAy4FBpYFDH3Iopy9DMwBDHwNDP+QRbk/gEieD6ii/AZQ0RZk\n",
       "UXmw74EmmMJEQRL8AQwMAQysCxjSoaKcn0DmFjCwgV32CMgp718ewNkvAGSV3b3JwMD1gIFDABai\n",
       "Akg+Zk2AslnhPs6FhCSqKCcwJBmkoRx4lHCDjGJEj6E7DAwAGVM6QVouTMMAAAAASUVORK5CYII=\n",
       "\" style=\"display:inline;vertical-align:middle;\" /></a></td></tr>\n",
       "<tr><td>10</td><td>Literal</td><td></td><td><a class=\"ProveItLink\" href=\"../../../numeral/__pv_it/9176d93c83afa2c995b614976e3cb49207102fa70/expr.ipynb\"><img src=\"data:image/png;base64,iVBORw0KGgoAAAANSUhEUgAAAAoAAAAOBAMAAADkjZCYAAAAMFBMVEX///+YmJju7u4QEBBUVFQy\n",
       "MjIiIiKIiIi6urpmZmbc3NyqqqpERER2dnbMzMwAAAB0GlNiAAAAAXRSTlMAQObYZgAAAE1JREFU\n",
       "CNdjYHh79zQDA9cEhv4CBt7fDPwJDNxgEgiAIkAQAsR8Vx1ATIbiBhDJ/ImB6wEDz0cG/U8gkj+A\n",
       "ge0XA7sAQ/8FBoadM6MZAEflFACalZ/OAAAAAElFTkSuQmCC\n",
       "\" style=\"display:inline;vertical-align:middle;\" /></a></td></tr>\n",
       "<tr><td>11</td><td>Literal</td><td></td><td><a class=\"ProveItLink\" href=\"../../../numeral/__pv_it/77d407a64829263cdc16415becd4c2293f77a4bf0/expr.ipynb\"><img src=\"data:image/png;base64,iVBORw0KGgoAAAANSUhEUgAAAAkAAAAOBAMAAAAPuiubAAAAMFBMVEX///+YmJh2dnbMzMwQEBAi\n",
       "IiLu7u6qqqqIiIhUVFS6urpEREQyMjJmZmbc3NwAAACOMKdoAAAAAXRSTlMAQObYZgAAAFBJREFU\n",
       "CNdj4Lt7egEDw0sGju8MDNMYGOIZGFwSGOYvYDifwHAfKAEUSQASzJ9ATJ4NIPI2iOCYACJrGfge\n",
       "MDBfYGB8wPBUSekqUPH//18ZAIliFhc3zESNAAAAAElFTkSuQmCC\n",
       "\" style=\"display:inline;vertical-align:middle;\" /></a></td></tr>\n",
       "<tr><td>12</td><td>Variable</td><td></td><td><a class=\"ProveItLink\" href=\"../../../../__pv_it/6840a4fa6c106149dc16a131294d0c5e44f1b0480/expr.ipynb\"><img src=\"data:image/png;base64,iVBORw0KGgoAAAANSUhEUgAAAAkAAAAOBAMAAAAPuiubAAAALVBMVEX///9mZmbMzMxERESYmJiI\n",
       "iIh2dna6urqqqqoyMjIiIiIQEBBUVFTu7u4AAAD9S1JeAAAAAXRSTlMAQObYZgAAAE1JREFUCNdj\n",
       "4D29gAEIOA+ASL4GEFl3AURmgQiGOaFHGBh4HzPwKTBwvGXgTmBgnMDAJ8DAJcBQ5wBSLncBJLWN\n",
       "gYGngRFoBO9REQYGAGrcDtUkVqASAAAAAElFTkSuQmCC\n",
       "\" style=\"display:inline;vertical-align:middle;\" /></a></td></tr>\n",
       "<tr><td>13</td><td>Literal</td><td></td><td><a class=\"ProveItLink\" href=\"../../../numeral/__pv_it/9be8badea4c35b9724062cecc501d17a3158d1d20/expr.ipynb\"><img src=\"data:image/png;base64,iVBORw0KGgoAAAANSUhEUgAAAAgAAAAPBAMAAAArJJMAAAAAHlBMVEX///+YmJgyMjIQEBBmZmaI\n",
       "iIhUVFTu7u5EREQAAAAw+MI4AAAAAXRSTlMAQObYZgAAACFJREFUCNdjYGBoZ2BgqJjOwFCWBiQY\n",
       "WEklWJwnOTKAAACjEQo8HvEr3AAAAABJRU5ErkJggg==\n",
       "\" style=\"display:inline;vertical-align:middle;\" /></a></td></tr>\n",
       "<tr><td>14</td><td>Variable</td><td></td><td><a class=\"ProveItLink\" href=\"../../../../__pv_it/cbdfda466482236edba0ce44ac7ef39cda0af7a40/expr.ipynb\"><img src=\"data:image/png;base64,iVBORw0KGgoAAAANSUhEUgAAAAkAAAAJBAMAAAASvxsjAAAALVBMVEX///9mZmbc3NxUVFSYmJhE\n",
       "REQiIiIyMjK6uroQEBDMzMyIiIh2dnbu7u4AAABgFDGoAAAAAXRSTlMAQObYZgAAADZJREFUCNdj\n",
       "YOA9s3sBA8PKBvYEBt7ZDKwODMwPGICALwBE6m0Asx0YGIDiAgw8QJUyu/cyAAAmuwmycZ8WfQAA\n",
       "AABJRU5ErkJggg==\n",
       "\" style=\"display:inline;vertical-align:middle;\" /></a></td></tr>\n",
       "</table>\n"
      ],
      "text/plain": [
       "0. 2 + b + c + (3 * b) + (2 * b) + (1 * c)\n",
       "   core type: Operation\n",
       "   operator: 1\n",
       "   operands: 2\n",
       "1. +\n",
       "   core type: Literal\n",
       "   sub-expressions: \n",
       "2. (2 , b , c , 3 * b , 2 * b , 1 * c)\n",
       "   core type: ExprTuple\n",
       "   sub-expressions: 11, 12, 14, 3, 4, 5\n",
       "3. 3 * b\n",
       "   core type: Operation\n",
       "   operator: 8\n",
       "   operands: 6\n",
       "4. 2 * b\n",
       "   core type: Operation\n",
       "   operator: 8\n",
       "   operands: 7\n",
       "5. 1 * c\n",
       "   core type: Operation\n",
       "   operator: 8\n",
       "   operands: 9\n",
       "6. (3 , b)\n",
       "   core type: ExprTuple\n",
       "   sub-expressions: 10, 12\n",
       "7. (2 , b)\n",
       "   core type: ExprTuple\n",
       "   sub-expressions: 11, 12\n",
       "8. *\n",
       "   core type: Literal\n",
       "   sub-expressions: \n",
       "9. (1 , c)\n",
       "   core type: ExprTuple\n",
       "   sub-expressions: 13, 14\n",
       "10. 3\n",
       "    core type: Literal\n",
       "    sub-expressions: \n",
       "11. 2\n",
       "    core type: Literal\n",
       "    sub-expressions: \n",
       "12. b\n",
       "    core type: Variable\n",
       "    sub-expressions: \n",
       "13. 1\n",
       "    core type: Literal\n",
       "    sub-expressions: \n",
       "14. c\n",
       "    core type: Variable\n",
       "    sub-expressions: "
      ]
     },
     "execution_count": 4,
     "metadata": {},
     "output_type": "execute_result"
    }
   ],
   "source": [
    "# display the expression information\n",
    "expr.exprInfo()"
   ]
  },
  {
   "cell_type": "code",
   "execution_count": null,
   "metadata": {},
   "outputs": [],
   "source": []
  }
 ],
 "metadata": {
  "kernelspec": {
   "display_name": "Python 3",
   "language": "python",
   "name": "python3"
  }
 },
 "nbformat": 4,
 "nbformat_minor": 0
}
