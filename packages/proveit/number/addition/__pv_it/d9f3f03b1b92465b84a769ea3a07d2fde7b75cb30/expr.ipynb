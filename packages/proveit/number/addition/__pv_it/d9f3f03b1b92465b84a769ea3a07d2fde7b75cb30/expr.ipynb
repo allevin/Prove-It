{
 "cells": [
  {
   "cell_type": "markdown",
   "metadata": {},
   "source": [
    "Expression of type <a class=\"ProveItLink\" href=\"../../../../../../doc/html/api/proveit.logic.Equals.html\">Equals</a>\n",
    "=======================\n",
    "# from context <a class=\"ProveItLink\" href=\"../../_context_.ipynb\">proveit.number.addition</a>"
   ]
  },
  {
   "cell_type": "code",
   "execution_count": 1,
   "metadata": {},
   "outputs": [],
   "source": [
    "# import Expression classes needed to build the expression\n",
    "from proveit.logic import Equals\n",
    "from proveit.number import Add, five, one, three, zero"
   ]
  },
  {
   "cell_type": "code",
   "execution_count": 2,
   "metadata": {},
   "outputs": [
    {
     "data": {
      "text/html": [
       "<strong id=\"expr\">expr:</strong> <a class=\"ProveItLink\" href=\"expr.ipynb\"><img src=\"data:image/png;base64,iVBORw0KGgoAAAANSUhEUgAAAKkAAAAVBAMAAADP89MSAAAAMFBMVEX////c3NwiIiJERESqqqqY\n",
       "mJh2dnZmZmYQEBDu7u4yMjJUVFTMzMyIiIi6uroAAAAs73DqAAAAAXRSTlMAQObYZgAAAc1JREFU\n",
       "OMu1lb9Lw0AUx7+16Y+0TczWQcGiDk4KgoOT/QeKnQQXKSi6WCqCVqrgD5wctOrQgksRRBqXjkIF\n",
       "O7m4uDhpsTgKBRUVFNp617TQXC4GWjxI3t177z5J3r33AvzPkO862DxjZrgllz3JKFPFDdZvnFn7\n",
       "5meDcBVYN8+0bY6ILCBOsNRhHDH+x9+Mix9yBciwVHetFgGkO4j56yb1UBNSAFJGpznJN6mioslY\n",
       "EO/AlOFd1xcpmwKfmtSQJrpykN90GkhNqtA4h8k6Nc1SvfX7CzjU7iX4PiyoqEfAHuRSV3nUvgh8\n",
       "FUuqJwc4l1hq8aEEnJlRv6yoNxd0VQ9/QqWDrkk6iVVgv20qJLJX3jLm6iVQbT8COEjC92qkxgqt\n",
       "VPIdQ9p30NP61GkaVJeqnu6pKgkoeoGJsJE6Sqgl7IKfWYJFZom1JKVqEVjup2OATneATQVjPCqp\n",
       "AmfAIgI/wIgCB1tcJCdUYIFHxSDSBQvqPeQvTmb5IWwDz2QWPzgP6xmp6JX+Oa61nxU9VYgnSAV4\n",
       "SmzTiedJSbuVVl3IcKAGjaDrnGl+I3REWldlg738dz+OmvTXbCctX8yYGHo6oXoVE4Otkz/MI1/9\n",
       "C63+l7OVjFDiAAAAAElFTkSuQmCC\n",
       "\" style=\"display:inline;vertical-align:middle;\" /></a><br>"
      ],
      "text/plain": [
       "expr: (1 + 0 + 1 + 3) = 5"
      ]
     },
     "execution_count": 2,
     "metadata": {},
     "output_type": "execute_result"
    }
   ],
   "source": [
    "# build up the expression from sub-expressions\n",
    "expr = Equals(Add(one, zero, one, three), five)"
   ]
  },
  {
   "cell_type": "code",
   "execution_count": 3,
   "metadata": {},
   "outputs": [
    {
     "name": "stdout",
     "output_type": "stream",
     "text": [
      "Passed sanity check: built 'expr' is the same as the stored Expression.\n"
     ]
    }
   ],
   "source": [
    "# check that the built expression is the same as the stored expression\n",
    "%check_expr"
   ]
  },
  {
   "cell_type": "code",
   "execution_count": 4,
   "metadata": {},
   "outputs": [
    {
     "data": {
      "text/html": [
       "<table><tr><th>&nbsp;</th><th>core type</th><th>sub-expressions</th><th>expression</th></tr>\n",
       "<tr><td>0</td><td>Operation</td><td>operator:&nbsp;1<br>operands:&nbsp;2<br></td><td><a class=\"ProveItLink\" href=\"expr.ipynb\"><img src=\"data:image/png;base64,iVBORw0KGgoAAAANSUhEUgAAAKkAAAAVBAMAAADP89MSAAAAMFBMVEX////c3NwiIiJERESqqqqY\n",
       "mJh2dnZmZmYQEBDu7u4yMjJUVFTMzMyIiIi6uroAAAAs73DqAAAAAXRSTlMAQObYZgAAAc1JREFU\n",
       "OMu1lb9Lw0AUx7+16Y+0TczWQcGiDk4KgoOT/QeKnQQXKSi6WCqCVqrgD5wctOrQgksRRBqXjkIF\n",
       "O7m4uDhpsTgKBRUVFNp617TQXC4GWjxI3t177z5J3r33AvzPkO862DxjZrgllz3JKFPFDdZvnFn7\n",
       "5meDcBVYN8+0bY6ILCBOsNRhHDH+x9+Mix9yBciwVHetFgGkO4j56yb1UBNSAFJGpznJN6mioslY\n",
       "EO/AlOFd1xcpmwKfmtSQJrpykN90GkhNqtA4h8k6Nc1SvfX7CzjU7iX4PiyoqEfAHuRSV3nUvgh8\n",
       "FUuqJwc4l1hq8aEEnJlRv6yoNxd0VQ9/QqWDrkk6iVVgv20qJLJX3jLm6iVQbT8COEjC92qkxgqt\n",
       "VPIdQ9p30NP61GkaVJeqnu6pKgkoeoGJsJE6Sqgl7IKfWYJFZom1JKVqEVjup2OATneATQVjPCqp\n",
       "AmfAIgI/wIgCB1tcJCdUYIFHxSDSBQvqPeQvTmb5IWwDz2QWPzgP6xmp6JX+Oa61nxU9VYgnSAV4\n",
       "SmzTiedJSbuVVl3IcKAGjaDrnGl+I3REWldlg738dz+OmvTXbCctX8yYGHo6oXoVE4Otkz/MI1/9\n",
       "C63+l7OVjFDiAAAAAElFTkSuQmCC\n",
       "\" style=\"display:inline;vertical-align:middle;\" /></a></td></tr>\n",
       "<tr><td>1</td><td>Literal</td><td></td><td><a class=\"ProveItLink\" href=\"../../../../logic/equality/__pv_it/2fb26078095930560931daa0500ce419a39ea6cd0/expr.ipynb\"><img src=\"data:image/png;base64,iVBORw0KGgoAAAANSUhEUgAAAA4AAAAFBAMAAACHocAhAAAAFVBMVEX///9EREQiIiJUVFQyMjJm\n",
       "ZmYAAADubVkoAAAAAXRSTlMAQObYZgAAABRJREFUCNdjCHEBAWcGXCBICQQUAUpuAwlgGKrkAAAA\n",
       "AElFTkSuQmCC\n",
       "\" style=\"display:inline;vertical-align:middle;\" /></a></td></tr>\n",
       "<tr><td>2</td><td>ExprTuple</td><td>3, 4</td><td><a class=\"ProveItLink\" href=\"../cd54238d792b567d0972dbe9b8a00b710c1e5b340/expr.ipynb\"><img src=\"data:image/png;base64,iVBORw0KGgoAAAANSUhEUgAAAJUAAAAVBAMAAAC9PLGkAAAAMFBMVEX////c3NwiIiJERESqqqqY\n",
       "mJh2dnZmZmYQEBDu7u4yMjJUVFTMzMyIiIi6uroAAAAs73DqAAAAAXRSTlMAQObYZgAAAaVJREFU\n",
       "OMutlL9Lw0AUx7+1aW3aJGZzULCDg5OC4Nz8A2InwUUKii6WdrJQBX/g3FaXdjOLiOnSUahgJheX\n",
       "Lk5arI6CoKIdhLZekvZofshB24Pcvbz73oe8l3cPGOWQaiPBrBvTPXn8BcdOsb7vFDs1wtaGYlnh\n",
       "Nd8mxnViXQF8zMmax5lu97g0k5BalhXqdBKACog18NXbnu7UWsQoRNXmcWtSCr6637W3Q+ZVAjUk\n",
       "zz3dsrWMVSB92jxuzQplRcy5BLx56SbSEL4ZLNAYLZZfwa6XbiYBocVkhStdVv2xAQTTuPiP1WSx\n",
       "7sr0D/NtgFORG5gFMUd/6jWJ+BDtwWNEnpZJSofw0c/KatqcppW7uf+xedyaaSAWN3cWCathsE7g\n",
       "XRMcoyb4TqHHOgYOZCPGJS8WqdVglBHjL7Ag84aVBjQgoGLbMxezKOkM1gOkJs6j5m3ijsyaeCUv\n",
       "mfxl3H6ymLxx0F0aLpNVUDIyIWSqMqm2BkJy/4VddvUShueFWuQOBRL9W++ukwxPnFpJq+cMMSiL\n",
       "N/rK1DAokVoRI1e+0fToJ+APt4uTk4WAJY4AAAAASUVORK5CYII=\n",
       "\" style=\"display:inline;vertical-align:middle;\" /></a></td></tr>\n",
       "<tr><td>3</td><td>Operation</td><td>operator:&nbsp;5<br>operands:&nbsp;6<br></td><td><a class=\"ProveItLink\" href=\"../45abd3f584a7e45a239184d4468461f8cab3204f0/expr.ipynb\"><img src=\"data:image/png;base64,iVBORw0KGgoAAAANSUhEUgAAAHQAAAAQBAMAAAA10UZYAAAAMFBMVEX///92dnbMzMy6uroiIiKq\n",
       "qqrc3NyYmJgyMjIQEBBmZmaIiIhUVFTu7u5EREQAAADaqMZ6AAAAAXRSTlMAQObYZgAAAP1JREFU\n",
       "KM9jYGB4y4AKeFfvUkAT4ruAJqAo+BRI3vuLJsxiwOuEZth7NK1sCxjsNzDcOQPTypsAobcwMOxA\n",
       "EeE9cx6m9RqEYvzKwO/AwMAN08q6AUL7MDDYJ6CIMOyHaY2GKsWh9RcDg34Afq1AAHQwhla2j0Ct\n",
       "Gwhq7WHAoVWAgFYmiQPkamVg2GlAtoM5/8K0cnV0tMzo6DgADaYCFBGo1hUdHZ4dHSBPsikw8H3H\n",
       "HjnxBCLn/l/sWoFJQoQBv1b+BgaWb1i0sgTwTiKglbuAwV6AgWvlj+WoCnkX7lFAFVk1v6sANZii\n",
       "VrUip2m4HXhEohmwAuYNhEWskdgAStxuyFkhgtwAAAAASUVORK5CYII=\n",
       "\" style=\"display:inline;vertical-align:middle;\" /></a></td></tr>\n",
       "<tr><td>4</td><td>Literal</td><td></td><td><a class=\"ProveItLink\" href=\"../../../numeral/__pv_it/aaeeaca7d86eb2b7cdc49e25c3108b81b52ec5400/expr.ipynb\"><img src=\"data:image/png;base64,iVBORw0KGgoAAAANSUhEUgAAAAkAAAAOBAMAAAAPuiubAAAAMFBMVEX///8iIiJERES6urqIiIjM\n",
       "zMxUVFRmZmYQEBCqqqp2dnbc3Nzu7u6YmJgyMjIAAADYGhJvAAAAAXRSTlMAQObYZgAAAE1JREFU\n",
       "CNdj4LvDvZKBgeP//wUMDHxlSxkYGNgYGBCki5sBAwPTAZ7PYG4GmFwfwKAIJA0YGhkY6jcwFDAw\n",
       "vGNg2M7A2c3AwFqetoEBAKS8EE1WXEJLAAAAAElFTkSuQmCC\n",
       "\" style=\"display:inline;vertical-align:middle;\" /></a></td></tr>\n",
       "<tr><td>5</td><td>Literal</td><td></td><td><a class=\"ProveItLink\" href=\"../3e6688136fa3c7aefbebe51301b7c3ebf0b69c440/expr.ipynb\"><img src=\"data:image/png;base64,iVBORw0KGgoAAAANSUhEUgAAAA4AAAAOBAMAAADtZjDiAAAAJFBMVEX///+6urpUVFQQEBAiIiIy\n",
       "MjJmZmaIiIiqqqrc3Nzu7u4AAACgHpL+AAAAAXRSTlMAQObYZgAAAB5JREFUCNdjYGBgWMkAAe2k\n",
       "0Kmhoc6hoUGk6BMHYgAHOwjcado9fwAAAABJRU5ErkJggg==\n",
       "\" style=\"display:inline;vertical-align:middle;\" /></a></td></tr>\n",
       "<tr><td>6</td><td>ExprTuple</td><td>8, 7, 8, 9</td><td><a class=\"ProveItLink\" href=\"../14d0974da24fde13b45b4c4518911eb968c510f20/expr.ipynb\"><img src=\"data:image/png;base64,iVBORw0KGgoAAAANSUhEUgAAAFEAAAAVBAMAAADMaB9/AAAAMFBMVEX////c3NwiIiJERESqqqqY\n",
       "mJh2dnZmZmYQEBDu7u4yMjJUVFTMzMyIiIi6uroAAAAs73DqAAAAAXRSTlMAQObYZgAAAVxJREFU\n",
       "KM+Nk79Lw0AUx7/apO1pErM5KJjBWScHp+Y/sJOjFASdil20Ig4OziboYMDBLCLi0r2CmVxcurgp\n",
       "/hidtGjBQtV7l0vapkMSyOVzL5/w7t69ANkvo5VBWqPhnt85V0ZOn/ajl8vyqW2s2ygEnK4AVorM\n",
       "BRwHIZ38yNA0jB7gA3oLrHkrTd2C7gs6a0bmlo02sAoUSXqW5ngDxqf8KDJXhOkB7xgwp2rQvhIm\n",
       "RPacjZ1Bc64CrTdiTjSAfA0XSbOTNO+u+aD4OEo1oXPHOMBvenY4LrSPYZN29J0wZ4FSmcxDDFdJ\n",
       "SVSJ/blk8uxLkemGlc9bgoTJCLrAognVx6Y0WZtgHl4QEpnnFocHGB1RpTc+qTuXZeaY1CHVGwgq\n",
       "7Ha34dFKlPqezWv6gqIZnYSJEXqNt89PU61IVuNon8oxVcOuSzcZddiMnPRbPyY9Dk3Sgsay/B2P\n",
       "wD9FxmwhlXYVGgAAAABJRU5ErkJggg==\n",
       "\" style=\"display:inline;vertical-align:middle;\" /></a></td></tr>\n",
       "<tr><td>7</td><td>Literal</td><td></td><td><a class=\"ProveItLink\" href=\"../../../numeral/__pv_it/ec23fc7a1b4222a5f4948b495002b97d6fa18c3c0/expr.ipynb\"><img src=\"data:image/png;base64,iVBORw0KGgoAAAANSUhEUgAAAAoAAAAOBAMAAADkjZCYAAAALVBMVEX///8QEBCYmJh2dnaqqqrc\n",
       "3NxUVFQyMjK6uroiIiLMzMyIiIhmZmbu7u4AAAAZjyHdAAAAAXRSTlMAQObYZgAAAEpJREFUCNdj\n",
       "YLiz+xQDA8MMhpsLGLgnMHAXMHAmMHA8ZeA7wMD1hCHOgIHrNZh8jES+Bss+AqlkeQrSxTyBgWEK\n",
       "w8UFDAx3rLMYAMCjFldHSx/9AAAAAElFTkSuQmCC\n",
       "\" style=\"display:inline;vertical-align:middle;\" /></a></td></tr>\n",
       "<tr><td>8</td><td>Literal</td><td></td><td><a class=\"ProveItLink\" href=\"../../../numeral/__pv_it/9be8badea4c35b9724062cecc501d17a3158d1d20/expr.ipynb\"><img src=\"data:image/png;base64,iVBORw0KGgoAAAANSUhEUgAAAAgAAAAPBAMAAAArJJMAAAAAHlBMVEX///+YmJgyMjIQEBBmZmaI\n",
       "iIhUVFTu7u5EREQAAAAw+MI4AAAAAXRSTlMAQObYZgAAACFJREFUCNdjYGBoZ2BgqJjOwFCWBiQY\n",
       "WEklWJwnOTKAAACjEQo8HvEr3AAAAABJRU5ErkJggg==\n",
       "\" style=\"display:inline;vertical-align:middle;\" /></a></td></tr>\n",
       "<tr><td>9</td><td>Literal</td><td></td><td><a class=\"ProveItLink\" href=\"../../../numeral/__pv_it/9176d93c83afa2c995b614976e3cb49207102fa70/expr.ipynb\"><img src=\"data:image/png;base64,iVBORw0KGgoAAAANSUhEUgAAAAoAAAAOBAMAAADkjZCYAAAAMFBMVEX///+YmJju7u4QEBBUVFQy\n",
       "MjIiIiKIiIi6urpmZmbc3NyqqqpERER2dnbMzMwAAAB0GlNiAAAAAXRSTlMAQObYZgAAAE1JREFU\n",
       "CNdjYHh79zQDA9cEhv4CBt7fDPwJDNxgEgiAIkAQAsR8Vx1ATIbiBhDJ/ImB6wEDz0cG/U8gkj+A\n",
       "ge0XA7sAQ/8FBoadM6MZAEflFACalZ/OAAAAAElFTkSuQmCC\n",
       "\" style=\"display:inline;vertical-align:middle;\" /></a></td></tr>\n",
       "</table>\n"
      ],
      "text/plain": [
       "0. (1 + 0 + 1 + 3) = 5\n",
       "   core type: Operation\n",
       "   operator: 1\n",
       "   operands: 2\n",
       "1. =\n",
       "   core type: Literal\n",
       "   sub-expressions: \n",
       "2. (1 + 0 + 1 + 3 , 5)\n",
       "   core type: ExprTuple\n",
       "   sub-expressions: 3, 4\n",
       "3. 1 + 0 + 1 + 3\n",
       "   core type: Operation\n",
       "   operator: 5\n",
       "   operands: 6\n",
       "4. 5\n",
       "   core type: Literal\n",
       "   sub-expressions: \n",
       "5. +\n",
       "   core type: Literal\n",
       "   sub-expressions: \n",
       "6. (1 , 0 , 1 , 3)\n",
       "   core type: ExprTuple\n",
       "   sub-expressions: 8, 7, 8, 9\n",
       "7. 0\n",
       "   core type: Literal\n",
       "   sub-expressions: \n",
       "8. 1\n",
       "   core type: Literal\n",
       "   sub-expressions: \n",
       "9. 3\n",
       "   core type: Literal\n",
       "   sub-expressions: "
      ]
     },
     "execution_count": 4,
     "metadata": {},
     "output_type": "execute_result"
    }
   ],
   "source": [
    "# display the expression information\n",
    "expr.exprInfo()"
   ]
  },
  {
   "cell_type": "code",
   "execution_count": null,
   "metadata": {},
   "outputs": [],
   "source": []
  }
 ],
 "metadata": {
  "kernelspec": {
   "display_name": "Python 3",
   "language": "python",
   "name": "python3"
  }
 },
 "nbformat": 4,
 "nbformat_minor": 0
}
