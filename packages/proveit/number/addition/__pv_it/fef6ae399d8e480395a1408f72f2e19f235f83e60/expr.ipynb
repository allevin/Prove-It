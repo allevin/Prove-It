{
 "cells": [
  {
   "cell_type": "markdown",
   "metadata": {},
   "source": [
    "Expression of type <a class=\"ProveItLink\" href=\"../../../../../../doc/html/api/proveit.ExprTuple.html\">ExprTuple</a>\n",
    "=======================\n",
    "# from context <a class=\"ProveItLink\" href=\"../../_context_.ipynb\">proveit.number.addition</a>"
   ]
  },
  {
   "cell_type": "code",
   "execution_count": 1,
   "metadata": {},
   "outputs": [],
   "source": [
    "# import Expression classes needed to build the expression\n",
    "from proveit import ExprTuple\n",
    "from proveit._common_ import c\n",
    "from proveit.number import Add, one, three, two"
   ]
  },
  {
   "cell_type": "code",
   "execution_count": 2,
   "metadata": {},
   "outputs": [
    {
     "data": {
      "text/html": [
       "<strong id=\"expr\">expr:</strong> <a class=\"ProveItLink\" href=\"expr.ipynb\"><img src=\"data:image/png;base64,iVBORw0KGgoAAAANSUhEUgAAAd8AAAAVBAMAAAD1KvkNAAAAMFBMVEX////c3NwiIiJERESqqqqY\n",
       "mJh2dnZmZmYQEBDu7u4yMjJUVFTMzMyIiIi6uroAAAAs73DqAAAAAXRSTlMAQObYZgAAAopJREFU\n",
       "WMPlmD2IE0EUx//h8nGb7OaCjYWClnax0MLKdIIgl8rCQgQhNgaDoieH4BUWIhj3ECRoceHEwj3Q\n",
       "sxKxuFQiWFwaC8HAanUIwvl1kIMzztyZ3M7szGYn91DBKTKb/7w3v32T+XoB/ruSb//b2JRPBz3N\n",
       "P96M6HxE+p6Yeii9ml05W9J6xcdeo0NnWqx+PFq8d7uSsAfOd1HZjfyG1is+NkuIbgJOcGpZBckq\n",
       "JGB2q3rwsiuZvACKonKhhK+isu1lgE2doUOfBMbdQN9JeWGFBJzov3FXMrnpYskXlMkBddDNwMsA\n",
       "a83QoRvAJxAF/NTFdV9y6s+rcMAm2EN06LESrvAxrHRaYuu96nu1oKeyUnQlJbuoC9gEew5k6HQN\n",
       "j1j12s/uF1rtOubVQhTVXpOUVwvQBWyCPQ4ydLKJOhvp2xgrC62NNg6rhShq9qCsOHVdwCbYFZCh\n",
       "8zP4CeRW5bWzpBWiqJfCM+2OqwnYBLtMh7ZXOXlia3gynjd/y/P43P+mFjDteQc8b2GbGjCBsygp\n",
       "e4GjZckmEHBs7DIdmgV8A9jXlkY2saEVIob5GBKFoGL13E2q8hc2wa7QodmUZmtkgjWJrT/Yca8W\n",
       "9FS7hpRAxTrbPAthqsUfTLCnQIVGqsn3/FwNafF8eA6cVwt66q5K5aKovEV+TbFzzPGt2QQ79FiK\n",
       "jebH0kd+KHbeia2ZasdVC31q5ur6ZdGn2OtJl5vk1HRJ6pd7Nb6wJxPsE1ChkfUxXhjtphVhMkz5\n",
       "wK+W8bGhq+UO0I3A1VyZpIaz1s/DE9thShlG2HSbDl0dPT3cQSmbpYf36chWczOZ/MPF+Z3Dxi3P\n",
       "6NA5vpASf+cvnthYp0UHZZnIL584ou29oHAHAAAAAElFTkSuQmCC\n",
       "\" style=\"display:inline;vertical-align:middle;\" /></a><br>"
      ],
      "text/plain": [
       "expr: (c + c + c + 1 + 2 + 3 + 1 , (c + c + c) + 1 + 2 + 3 + 1)"
      ]
     },
     "execution_count": 2,
     "metadata": {},
     "output_type": "execute_result"
    }
   ],
   "source": [
    "# build up the expression from sub-expressions\n",
    "expr = ExprTuple(Add(c, c, c, one, two, three, one), Add(Add(c, c, c), one, two, three, one))"
   ]
  },
  {
   "cell_type": "code",
   "execution_count": 3,
   "metadata": {},
   "outputs": [
    {
     "name": "stdout",
     "output_type": "stream",
     "text": [
      "Passed sanity check: built 'expr' is the same as the stored Expression.\n"
     ]
    }
   ],
   "source": [
    "# check that the built expression is the same as the stored expression\n",
    "%check_expr"
   ]
  },
  {
   "cell_type": "code",
   "execution_count": 4,
   "metadata": {},
   "outputs": [
    {
     "data": {
      "text/html": [
       "<table><tr><th>&nbsp;</th><th>core type</th><th>sub-expressions</th><th>expression</th></tr>\n",
       "<tr><td>0</td><td>ExprTuple</td><td>1, 2</td><td><a class=\"ProveItLink\" href=\"expr.ipynb\"><img src=\"data:image/png;base64,iVBORw0KGgoAAAANSUhEUgAAAd8AAAAVBAMAAAD1KvkNAAAAMFBMVEX////c3NwiIiJERESqqqqY\n",
       "mJh2dnZmZmYQEBDu7u4yMjJUVFTMzMyIiIi6uroAAAAs73DqAAAAAXRSTlMAQObYZgAAAopJREFU\n",
       "WMPlmD2IE0EUx//h8nGb7OaCjYWClnax0MLKdIIgl8rCQgQhNgaDoieH4BUWIhj3ECRoceHEwj3Q\n",
       "sxKxuFQiWFwaC8HAanUIwvl1kIMzztyZ3M7szGYn91DBKTKb/7w3v32T+XoB/ruSb//b2JRPBz3N\n",
       "P96M6HxE+p6Yeii9ml05W9J6xcdeo0NnWqx+PFq8d7uSsAfOd1HZjfyG1is+NkuIbgJOcGpZBckq\n",
       "JGB2q3rwsiuZvACKonKhhK+isu1lgE2doUOfBMbdQN9JeWGFBJzov3FXMrnpYskXlMkBddDNwMsA\n",
       "a83QoRvAJxAF/NTFdV9y6s+rcMAm2EN06LESrvAxrHRaYuu96nu1oKeyUnQlJbuoC9gEew5k6HQN\n",
       "j1j12s/uF1rtOubVQhTVXpOUVwvQBWyCPQ4ydLKJOhvp2xgrC62NNg6rhShq9qCsOHVdwCbYFZCh\n",
       "8zP4CeRW5bWzpBWiqJfCM+2OqwnYBLtMh7ZXOXlia3gynjd/y/P43P+mFjDteQc8b2GbGjCBsygp\n",
       "e4GjZckmEHBs7DIdmgV8A9jXlkY2saEVIob5GBKFoGL13E2q8hc2wa7QodmUZmtkgjWJrT/Yca8W\n",
       "9FS7hpRAxTrbPAthqsUfTLCnQIVGqsn3/FwNafF8eA6cVwt66q5K5aKovEV+TbFzzPGt2QQ79FiK\n",
       "jebH0kd+KHbeia2ZasdVC31q5ur6ZdGn2OtJl5vk1HRJ6pd7Nb6wJxPsE1ChkfUxXhjtphVhMkz5\n",
       "wK+W8bGhq+UO0I3A1VyZpIaz1s/DE9thShlG2HSbDl0dPT3cQSmbpYf36chWczOZ/MPF+Z3Dxi3P\n",
       "6NA5vpASf+cvnthYp0UHZZnIL584ou29oHAHAAAAAElFTkSuQmCC\n",
       "\" style=\"display:inline;vertical-align:middle;\" /></a></td></tr>\n",
       "<tr><td>1</td><td>Operation</td><td>operator:&nbsp;9<br>operands:&nbsp;3<br></td><td><a class=\"ProveItLink\" href=\"../6a3751b12c827b59eeb5e16c8b6a49c5ec6889090/expr.ipynb\"><img src=\"data:image/png;base64,iVBORw0KGgoAAAANSUhEUgAAANwAAAAQBAMAAACPXgx9AAAAMFBMVEX///+qqqpmZmbc3NxUVFSY\n",
       "mJhEREQiIiIyMjK6uroQEBDMzMyIiIh2dnbu7u4AAAA4MM1YAAAAAXRSTlMAQObYZgAAAYBJREFU\n",
       "OMutlD1Lw0AYx/9trLQkxuIsWApqEcQigoODRZxtP4KLqzq7ZCn2NvMB/ABWBJ0FIYtTi6OLDQYU\n",
       "B0HQQe3QF2NrX54nl6SKtxz55fnfL3eXO+BPbZc9K+lDkxLVvk2GpUZtTy0GVqC9UbKMRCMwpWfZ\n",
       "aw/AQ7d73Gyxki3AoOQ+iU9KBqlOi1hscA/A9E+vtVjJqYO8SchMX9cfRvs33ZGDJZOFeotJdbpd\n",
       "vaD4pVaRA3+d2wyHkXhOprs04/sEq2WU5CBIpzYZuSpCotPPMF4g+NnCjhwE6eLbnGhliW7slW9V\n",
       "3hcE6ea8y3vueHWT3a+KClE6EeJ7uT/kABkhDoQoDnRDJdByjKwBewVW46bWLTYZpeELAmY3BSU7\n",
       "TPS209F5Zucyit+BmBz469QUYkSHuvuvZiV7l8IEPQgbwJ0c+OtWbXuekmskmrKDsFi9oThaqzpy\n",
       "0NNFF+qzNGO02+wOiaQzSTZuP/XbWyWgZBTSvXSsMIDj0EwI+QI3Xq7DKpjWjQAAAABJRU5ErkJg\n",
       "gg==\n",
       "\" style=\"display:inline;vertical-align:middle;\" /></a></td></tr>\n",
       "<tr><td>2</td><td>Operation</td><td>operator:&nbsp;9<br>operands:&nbsp;4<br></td><td><a class=\"ProveItLink\" href=\"../b66bc4852007f37fee3d0c108ee15a74858c58600/expr.ipynb\"><img src=\"data:image/png;base64,iVBORw0KGgoAAAANSUhEUgAAAOoAAAAVBAMAAAC6fm+xAAAAMFBMVEX////c3NwiIiJERESqqqqY\n",
       "mJh2dnZmZmYQEBDu7u4yMjJUVFTMzMyIiIi6uroAAAAs73DqAAAAAXRSTlMAQObYZgAAAeVJREFU\n",
       "SMdjYBgYwHeBSIWsD6ho62miVdZgiFii8RnLF6M5jSct2QGbrpVE28qFLjD5J5qANAPvF1QRcQa+\n",
       "v1h08SIHMKcAmgoUAdYEKGMihJq9+yeasp0MDPqoIvkODJ9QRcC6OCYgmcuCHscoApwNUIYvlOb9\n",
       "iaasYwLD/gcoIv5wW+FGgXS9YiDaVgYTQraun8BQ/wBNIyyEUWwtA3ki7e4BVJlpuXewCKQTshUI\n",
       "9CegiXBtwGLrUiB94gGXAooMTx/DIiwCXoRt5fmGJnJsNQMWW/uAXu1lYA5AkZlxgcEUi8ALwrZy\n",
       "GaCL8PZhsfUfAwP3B/Ro3I9d4DxhW4sxw7x/AlZb+SHuY1+1alHXqlWgaPiMXQBsa9WqVRqrVq1G\n",
       "2IqkjIF3A5qIDAODfQCaGqCuFgYG+QtoXmP8i12AcAi7MzAKIItw/p8AthXdr8Do4gcKo8p8BRYJ\n",
       "WASiCNnKU8DAimIrwy9gqhbAtBWYG7gLGNhQc852BoYcLAIEc45QWloRqshVBr5vWFLTIyBddvcm\n",
       "qgx77t0JWATWodrKXvGrFFWf/v//aCURS3mVA5rZIF0cAuSXiLj1ERKBF+lY61oUATYY5y3hOpqQ\n",
       "CPE13Swq1urSRKvcSEVbGYltwfAeoJqdAMzkz2Kqpo8dAAAAAElFTkSuQmCC\n",
       "\" style=\"display:inline;vertical-align:middle;\" /></a></td></tr>\n",
       "<tr><td>3</td><td>ExprTuple</td><td>11, 11, 11, 8, 6, 7, 8</td><td><a class=\"ProveItLink\" href=\"../e75dcc13b33ca588e037ffc1cdbf1d9d8fc808240/expr.ipynb\"><img src=\"data:image/png;base64,iVBORw0KGgoAAAANSUhEUgAAAIcAAAAVBAMAAACeZ+BxAAAAMFBMVEX////c3NwiIiJERESqqqqY\n",
       "mJh2dnZmZmYQEBDu7u4yMjJUVFTMzMyIiIi6uroAAAAs73DqAAAAAXRSTlMAQObYZgAAAbBJREFU\n",
       "OMutlC1Mw0AYht+t+2nX/aEQCKrQCBAYmMMWgyRTW0JCUsNGUAgMArYEswSxJkAIwcxPUAUkCCYh\n",
       "sGwgMdsIiCI2rtdrc0u3hjAq+j25a5+7t/1ywL9cycZk729Yt3v/Z4Qyg+ndZUY3uQVndgmIGqRe\n",
       "+jqkFSYJ1NDK2KShw3Z/bJKbDiR800j1ayaRywh2KUU+kVIondQtyToglv3jtNi8eAC5TynkSpCw\n",
       "JBXgHb+TxExE+86gE4dKhAwK1qZzTcPevQdcCbmCpkNX4CQRDeek3LVj9v68wEsesnaNb9Z4SUjH\n",
       "EVn2EIJK1/fAkOTUpcc2J0nugeSUu2zOC7wkOu8OiiYniXctScqZ9QIveWY1YED4GpbsA7NOq3iB\n",
       "k4Q0TFGomsMSEmeRrEviqxJGgS2hnltgjVJKR7Bnj1FJWEeefAENEaOqjAIqkT6sEHO5vEIpoaKT\n",
       "peT+4jdSCs0nVHojoVi6UKVSmjTJYDBQKGG1eAZK0Z3vbdKGbYhplvkVYyGZ9iPS9mHWQVAxFsLw\n",
       "oy3uKPirRCJHAWbY33IGvYCGH8lWrsCEx+ML8AP5e5kpo7P5gAAAAABJRU5ErkJggg==\n",
       "\" style=\"display:inline;vertical-align:middle;\" /></a></td></tr>\n",
       "<tr><td>4</td><td>ExprTuple</td><td>5, 8, 6, 7, 8</td><td><a class=\"ProveItLink\" href=\"../ccae8a6c71d7183b517610dadd1916296e9477190/expr.ipynb\"><img src=\"data:image/png;base64,iVBORw0KGgoAAAANSUhEUgAAAKcAAAAVBAMAAADROuOhAAAAMFBMVEX////c3NwiIiJERESqqqqY\n",
       "mJh2dnZmZmYQEBDu7u4yMjJUVFTMzMyIiIi6uroAAAAs73DqAAAAAXRSTlMAQObYZgAAAelJREFU\n",
       "OMu1lTlIA0EUhv+cm03MYWVh4VZiaaGFjdhZCbGxlFQJCEIaD1JZ2Ch4YSNYGDwK1ya9TSoVLEyp\n",
       "aDBaCmIiWsTCODM7OzO7K5KIbrHv53/7vsw83kyAf3kSlb/lTdPXZYdFIzz2FEa5OssOKUmtTOJx\n",
       "Z8ztphV9JdyPWSqPl4qSLAJxdfdbboSechm7pxwa24S/zlT4DUlDSU4BkU2lZMINDXoaHufQyApi\n",
       "n9Y3Amold4An/A4abUL7tE17+ywZGMM83WS2WnZAhWFDhSGg5PELeaL+YjiPIxIualHDARWGDRWG\n",
       "Cr3KWLFrpqRCg0Wsk2WsIZBWodLgUGmo0AOhrmtKMrEE0pdY3dVTaXCoNBSoNijMSFNJdtUpNGll\n",
       "C6Y5YJq0PdzQTHN/1TRLwnBCb3n0lRF4d0KXgb6Ka6XS4CuVhoQG8+hmYq/phJLtD5N1kHY5eioN\n",
       "DmWGLuqYOgcmQYc8WYS/wZQFDRWRIx3LI+wYKWnYPaXGnmHXUeXrz+YM/ZU6abxkmBIj9UjCfPXG\n",
       "OfzCsEeKGjsN2ufFjzmm/K1Wy9A36DEeXzgEUyyJaA2RVNsn6sGrEimvIsc0lFHKnn+8bNNeFYJX\n",
       "zXZ09bUH1cnVh952mfFvVMWrYrQPvj/+O7kDvgDrAaXsDJZ9gQAAAABJRU5ErkJggg==\n",
       "\" style=\"display:inline;vertical-align:middle;\" /></a></td></tr>\n",
       "<tr><td>5</td><td>Operation</td><td>operator:&nbsp;9<br>operands:&nbsp;10<br></td><td><a class=\"ProveItLink\" href=\"../794b7170b8a2a7f3a9488eaf29c486ed5d13a4530/expr.ipynb\"><img src=\"data:image/png;base64,iVBORw0KGgoAAAANSUhEUgAAAE4AAAAOBAMAAABz3DdCAAAAMFBMVEX///+qqqpmZmbc3NxUVFSY\n",
       "mJhEREQiIiIyMjK6uroQEBDMzMyIiIh2dnbu7u4AAAA4MM1YAAAAAXRSTlMAQObYZgAAALFJREFU\n",
       "KM9jYICDxwxogM+AARuQQRdgPECOOr67ZzagqIMLwNW9vXOagWHXBI4CFHVwAZg67pUM7Qx8axjY\n",
       "ApDVIQRg6l4dYEhlYPmA5j6EAEydP4jgTwCzNTo6qjo6WhACTB0d7Ss6OhyAzG8gvv0BNPMQAlDz\n",
       "mP+AzQO6BcV9CAGYvV8ZGFgZWBQYeFHCBSEAU+fEwHCbgUH3zDnUcIYLwNQx3TnzgIx4m4MuwImk\n",
       "DgDaMTWEahh+dwAAAABJRU5ErkJggg==\n",
       "\" style=\"display:inline;vertical-align:middle;\" /></a></td></tr>\n",
       "<tr><td>6</td><td>Literal</td><td></td><td><a class=\"ProveItLink\" href=\"../../../numeral/__pv_it/77d407a64829263cdc16415becd4c2293f77a4bf0/expr.ipynb\"><img src=\"data:image/png;base64,iVBORw0KGgoAAAANSUhEUgAAAAkAAAAOBAMAAAAPuiubAAAAMFBMVEX///+YmJh2dnbMzMwQEBAi\n",
       "IiLu7u6qqqqIiIhUVFS6urpEREQyMjJmZmbc3NwAAACOMKdoAAAAAXRSTlMAQObYZgAAAFBJREFU\n",
       "CNdj4Lt7egEDw0sGju8MDNMYGOIZGFwSGOYvYDifwHAfKAEUSQASzJ9ATJ4NIPI2iOCYACJrGfge\n",
       "MDBfYGB8wPBUSekqUPH//18ZAIliFhc3zESNAAAAAElFTkSuQmCC\n",
       "\" style=\"display:inline;vertical-align:middle;\" /></a></td></tr>\n",
       "<tr><td>7</td><td>Literal</td><td></td><td><a class=\"ProveItLink\" href=\"../../../numeral/__pv_it/9176d93c83afa2c995b614976e3cb49207102fa70/expr.ipynb\"><img src=\"data:image/png;base64,iVBORw0KGgoAAAANSUhEUgAAAAoAAAAOBAMAAADkjZCYAAAAMFBMVEX///+YmJju7u4QEBBUVFQy\n",
       "MjIiIiKIiIi6urpmZmbc3NyqqqpERER2dnbMzMwAAAB0GlNiAAAAAXRSTlMAQObYZgAAAE1JREFU\n",
       "CNdjYHh79zQDA9cEhv4CBt7fDPwJDNxgEgiAIkAQAsR8Vx1ATIbiBhDJ/ImB6wEDz0cG/U8gkj+A\n",
       "ge0XA7sAQ/8FBoadM6MZAEflFACalZ/OAAAAAElFTkSuQmCC\n",
       "\" style=\"display:inline;vertical-align:middle;\" /></a></td></tr>\n",
       "<tr><td>8</td><td>Literal</td><td></td><td><a class=\"ProveItLink\" href=\"../../../numeral/__pv_it/9be8badea4c35b9724062cecc501d17a3158d1d20/expr.ipynb\"><img src=\"data:image/png;base64,iVBORw0KGgoAAAANSUhEUgAAAAgAAAAPBAMAAAArJJMAAAAAHlBMVEX///+YmJgyMjIQEBBmZmaI\n",
       "iIhUVFTu7u5EREQAAAAw+MI4AAAAAXRSTlMAQObYZgAAACFJREFUCNdjYGBoZ2BgqJjOwFCWBiQY\n",
       "WEklWJwnOTKAAACjEQo8HvEr3AAAAABJRU5ErkJggg==\n",
       "\" style=\"display:inline;vertical-align:middle;\" /></a></td></tr>\n",
       "<tr><td>9</td><td>Literal</td><td></td><td><a class=\"ProveItLink\" href=\"../3e6688136fa3c7aefbebe51301b7c3ebf0b69c440/expr.ipynb\"><img src=\"data:image/png;base64,iVBORw0KGgoAAAANSUhEUgAAAA4AAAAOBAMAAADtZjDiAAAAJFBMVEX///+6urpUVFQQEBAiIiIy\n",
       "MjJmZmaIiIiqqqrc3Nzu7u4AAACgHpL+AAAAAXRSTlMAQObYZgAAAB5JREFUCNdjYGBgWMkAAe2k\n",
       "0Kmhoc6hoUGk6BMHYgAHOwjcado9fwAAAABJRU5ErkJggg==\n",
       "\" style=\"display:inline;vertical-align:middle;\" /></a></td></tr>\n",
       "<tr><td>10</td><td>ExprTuple</td><td>11, 11, 11</td><td><a class=\"ProveItLink\" href=\"../86a607d788a57bb994e75964e5003873eaa726b10/expr.ipynb\"><img src=\"data:image/png;base64,iVBORw0KGgoAAAANSUhEUgAAADkAAAAVBAMAAAAOWFv7AAAAMFBMVEX////c3NwiIiJERESqqqqY\n",
       "mJh2dnZmZmYQEBDu7u4yMjJUVFTMzMyIiIi6uroAAAAs73DqAAAAAXRSTlMAQObYZgAAANZJREFU\n",
       "KM9jYMAP+C7gkIgDEadxaWM/ACRW4jR1AQMD7wWcsmEMDBwTcMrOYGB4hdu9zA4MZUCKM+3uATAf\n",
       "lcFWwLAUyD7xgEsBLIjKYFnA0AdU2MvAHADWgcrga2D4x8DA/QFqERqD5wNIlt8AKojGAMq2MDDI\n",
       "w7yMxgCabApUCbQrgJMBncHAuoAhHWhLAQPbgfkK6AyQjx4BlZbdvckw4yM6g4HrAQOHANSuhwzo\n",
       "DGBIsiZA2QEM6IxcpBjEkOUExiCDNITNC5OEM7hBdjLiiuA7DAwAx3NBG0TfR+4AAAAASUVORK5C\n",
       "YII=\n",
       "\" style=\"display:inline;vertical-align:middle;\" /></a></td></tr>\n",
       "<tr><td>11</td><td>Variable</td><td></td><td><a class=\"ProveItLink\" href=\"../../../../__pv_it/cbdfda466482236edba0ce44ac7ef39cda0af7a40/expr.ipynb\"><img src=\"data:image/png;base64,iVBORw0KGgoAAAANSUhEUgAAAAkAAAAJBAMAAAASvxsjAAAALVBMVEX///9mZmbc3NxUVFSYmJhE\n",
       "REQiIiIyMjK6uroQEBDMzMyIiIh2dnbu7u4AAABgFDGoAAAAAXRSTlMAQObYZgAAADZJREFUCNdj\n",
       "YOA9s3sBA8PKBvYEBt7ZDKwODMwPGICALwBE6m0Asx0YGIDiAgw8QJUyu/cyAAAmuwmycZ8WfQAA\n",
       "AABJRU5ErkJggg==\n",
       "\" style=\"display:inline;vertical-align:middle;\" /></a></td></tr>\n",
       "</table>\n"
      ],
      "text/plain": [
       "0. (c + c + c + 1 + 2 + 3 + 1 , (c + c + c) + 1 + 2 + 3 + 1)\n",
       "   core type: ExprTuple\n",
       "   sub-expressions: 1, 2\n",
       "1. c + c + c + 1 + 2 + 3 + 1\n",
       "   core type: Operation\n",
       "   operator: 9\n",
       "   operands: 3\n",
       "2. (c + c + c) + 1 + 2 + 3 + 1\n",
       "   core type: Operation\n",
       "   operator: 9\n",
       "   operands: 4\n",
       "3. (c , c , c , 1 , 2 , 3 , 1)\n",
       "   core type: ExprTuple\n",
       "   sub-expressions: 11, 11, 11, 8, 6, 7, 8\n",
       "4. (c + c + c , 1 , 2 , 3 , 1)\n",
       "   core type: ExprTuple\n",
       "   sub-expressions: 5, 8, 6, 7, 8\n",
       "5. c + c + c\n",
       "   core type: Operation\n",
       "   operator: 9\n",
       "   operands: 10\n",
       "6. 2\n",
       "   core type: Literal\n",
       "   sub-expressions: \n",
       "7. 3\n",
       "   core type: Literal\n",
       "   sub-expressions: \n",
       "8. 1\n",
       "   core type: Literal\n",
       "   sub-expressions: \n",
       "9. +\n",
       "   core type: Literal\n",
       "   sub-expressions: \n",
       "10. (c , c , c)\n",
       "    core type: ExprTuple\n",
       "    sub-expressions: 11, 11, 11\n",
       "11. c\n",
       "    core type: Variable\n",
       "    sub-expressions: "
      ]
     },
     "execution_count": 4,
     "metadata": {},
     "output_type": "execute_result"
    }
   ],
   "source": [
    "# display the expression information\n",
    "expr.exprInfo()"
   ]
  },
  {
   "cell_type": "code",
   "execution_count": null,
   "metadata": {},
   "outputs": [],
   "source": []
  }
 ],
 "metadata": {
  "kernelspec": {
   "display_name": "Python 3",
   "language": "python",
   "name": "python3"
  }
 },
 "nbformat": 4,
 "nbformat_minor": 0
}
