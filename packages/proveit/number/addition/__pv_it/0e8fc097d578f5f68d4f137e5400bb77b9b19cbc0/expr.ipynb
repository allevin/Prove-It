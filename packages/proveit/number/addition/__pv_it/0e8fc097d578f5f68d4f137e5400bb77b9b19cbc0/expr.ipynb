{
 "cells": [
  {
   "cell_type": "markdown",
   "metadata": {},
   "source": [
    "Expression of type <a class=\"ProveItLink\" href=\"../../../../../../doc/html/api/proveit.number.Add.html\">Add</a>\n",
    "=======================\n",
    "# from context <a class=\"ProveItLink\" href=\"../../_context_.ipynb\">proveit.number.addition</a>"
   ]
  },
  {
   "cell_type": "code",
   "execution_count": 1,
   "metadata": {},
   "outputs": [],
   "source": [
    "# import Expression classes needed to build the expression\n",
    "from proveit._common_ import a, b, c\n",
    "from proveit.number import Add, Mult, three, two"
   ]
  },
  {
   "cell_type": "code",
   "execution_count": 2,
   "metadata": {},
   "outputs": [
    {
     "data": {
      "text/html": [
       "<strong id=\"expr\">expr:</strong> <a class=\"ProveItLink\" href=\"expr.ipynb\"><img src=\"data:image/png;base64,iVBORw0KGgoAAAANSUhEUgAAAMgAAAAVBAMAAADx1rxcAAAAMFBMVEX////c3NwiIiJERESqqqqY\n",
       "mJh2dnZmZmYQEBDu7u4yMjJUVFTMzMyIiIi6uroAAAAs73DqAAAAAXRSTlMAQObYZgAAAmxJREFU\n",
       "SMe9lT9oE1Ecx7+X5s/lzyXRxSGIndRF0qGOtuIiiGJcHJwypSAWDgsWoqCtInYp5yJqhwZrh6ag\n",
       "EQRxkHbSwcFMKtRgcCqitNZUCUTj+73LvePevZsOfMO9u3ef3/f33vd+7x3wX1q26R+LtX1D30NR\n",
       "b4HXlVHpzTUZzTSAfdUx8bwwG0Bp00ttv9YKNBNb0nJScnjKgtbA5+NiYDWAKsDo+LSMJuId5Ial\n",
       "NZYHN3cHfQtIW4hsC6ITQL0Eij4t3ULUnyR5Y3BzZtDPAfoc0n/Fl+wGUHcsrLVlra/8RrYLo97w\n",
       "bI0tu4uESBIfDqCeWrjelrWuCIcHrfB+Mw9MeMMTtjGRrjD61UYpiCpaQuze5CeilqkoLjbcip7B\n",
       "OOtOecNTJd69cz4CFkfQC6Ayv9xqm8cjoub500daYZJmcKCEKdZtesN124ElONhZC7cDqNQIXR/Q\n",
       "5X4TR4myXdbJh0XyeQ04QnP2hud4eIKHc6wK/A6gpvhMdmCLcS2WRFvH0C7lJY2fSPacJNV6/XC9\n",
       "virCN3gMxw4hu6umDG598ia4mJ3kFpta105CTfuD6HbSbwTtwqiJPe42SXTV1EloeVcM3HrmWa6G\n",
       "yA+nqDtI104DF7zhQ/RJ3wDnnCQ96GUllTERc5KATT1GFKtCo4QtUTbLOGGWfcUZN9m8DlYmxJ59\n",
       "jqtQUnsrlcuiul4Al4j6Qiucfuxuk9a3Y8zaJ9I2Y+qRfr8vkix8oLUpqGK/vyPEEpMtiyg9rzr/\n",
       "fQfGTChKHHKeFm9KP4jz4agV1YuHikM8DFVQJXkmD2iNUJSm+P0a676h/SGof/C+wqwMt6plAAAA\n",
       "AElFTkSuQmCC\n",
       "\" style=\"display:inline;vertical-align:middle;\" /></a><br>"
      ],
      "text/plain": [
       "expr: (3 * a) + (2 * b) + (2 * c)"
      ]
     },
     "execution_count": 2,
     "metadata": {},
     "output_type": "execute_result"
    }
   ],
   "source": [
    "# build up the expression from sub-expressions\n",
    "expr = Add(Mult(three, a), Mult(two, b), Mult(two, c))"
   ]
  },
  {
   "cell_type": "code",
   "execution_count": 3,
   "metadata": {},
   "outputs": [
    {
     "name": "stdout",
     "output_type": "stream",
     "text": [
      "Passed sanity check: built 'expr' is the same as the stored Expression.\n"
     ]
    }
   ],
   "source": [
    "# check that the built expression is the same as the stored expression\n",
    "%check_expr"
   ]
  },
  {
   "cell_type": "code",
   "execution_count": 4,
   "metadata": {},
   "outputs": [
    {
     "data": {
      "text/html": [
       "<table><tr><th>&nbsp;</th><th>core type</th><th>sub-expressions</th><th>expression</th></tr>\n",
       "<tr><td>0</td><td>Operation</td><td>operator:&nbsp;1<br>operands:&nbsp;2<br></td><td><a class=\"ProveItLink\" href=\"expr.ipynb\"><img src=\"data:image/png;base64,iVBORw0KGgoAAAANSUhEUgAAAMgAAAAVBAMAAADx1rxcAAAAMFBMVEX////c3NwiIiJERESqqqqY\n",
       "mJh2dnZmZmYQEBDu7u4yMjJUVFTMzMyIiIi6uroAAAAs73DqAAAAAXRSTlMAQObYZgAAAmxJREFU\n",
       "SMe9lT9oE1Ecx7+X5s/lzyXRxSGIndRF0qGOtuIiiGJcHJwypSAWDgsWoqCtInYp5yJqhwZrh6ag\n",
       "EQRxkHbSwcFMKtRgcCqitNZUCUTj+73LvePevZsOfMO9u3ef3/f33vd+7x3wX1q26R+LtX1D30NR\n",
       "b4HXlVHpzTUZzTSAfdUx8bwwG0Bp00ttv9YKNBNb0nJScnjKgtbA5+NiYDWAKsDo+LSMJuId5Ial\n",
       "NZYHN3cHfQtIW4hsC6ITQL0Eij4t3ULUnyR5Y3BzZtDPAfoc0n/Fl+wGUHcsrLVlra/8RrYLo97w\n",
       "bI0tu4uESBIfDqCeWrjelrWuCIcHrfB+Mw9MeMMTtjGRrjD61UYpiCpaQuze5CeilqkoLjbcip7B\n",
       "OOtOecNTJd69cz4CFkfQC6Ayv9xqm8cjoub500daYZJmcKCEKdZtesN124ElONhZC7cDqNQIXR/Q\n",
       "5X4TR4myXdbJh0XyeQ04QnP2hud4eIKHc6wK/A6gpvhMdmCLcS2WRFvH0C7lJY2fSPacJNV6/XC9\n",
       "virCN3gMxw4hu6umDG598ia4mJ3kFpta105CTfuD6HbSbwTtwqiJPe42SXTV1EloeVcM3HrmWa6G\n",
       "yA+nqDtI104DF7zhQ/RJ3wDnnCQ96GUllTERc5KATT1GFKtCo4QtUTbLOGGWfcUZN9m8DlYmxJ59\n",
       "jqtQUnsrlcuiul4Al4j6Qiucfuxuk9a3Y8zaJ9I2Y+qRfr8vkix8oLUpqGK/vyPEEpMtiyg9rzr/\n",
       "fQfGTChKHHKeFm9KP4jz4agV1YuHikM8DFVQJXkmD2iNUJSm+P0a676h/SGof/C+wqwMt6plAAAA\n",
       "AElFTkSuQmCC\n",
       "\" style=\"display:inline;vertical-align:middle;\" /></a></td></tr>\n",
       "<tr><td>1</td><td>Literal</td><td></td><td><a class=\"ProveItLink\" href=\"../3e6688136fa3c7aefbebe51301b7c3ebf0b69c440/expr.ipynb\"><img src=\"data:image/png;base64,iVBORw0KGgoAAAANSUhEUgAAAA4AAAAOBAMAAADtZjDiAAAAJFBMVEX///+6urpUVFQQEBAiIiIy\n",
       "MjJmZmaIiIiqqqrc3Nzu7u4AAACgHpL+AAAAAXRSTlMAQObYZgAAAB5JREFUCNdjYGBgWMkAAe2k\n",
       "0Kmhoc6hoUGk6BMHYgAHOwjcado9fwAAAABJRU5ErkJggg==\n",
       "\" style=\"display:inline;vertical-align:middle;\" /></a></td></tr>\n",
       "<tr><td>2</td><td>ExprTuple</td><td>3, 4, 5</td><td><a class=\"ProveItLink\" href=\"../eb2a1b6ba6cda921044743e93f57ddef645e4e220/expr.ipynb\"><img src=\"data:image/png;base64,iVBORw0KGgoAAAANSUhEUgAAAIcAAAAVBAMAAACeZ+BxAAAAMFBMVEX////c3NwiIiJERESqqqqY\n",
       "mJh2dnZmZmYQEBDu7u4yMjJUVFTMzMyIiIi6uroAAAAs73DqAAAAAXRSTlMAQObYZgAAAhBJREFU\n",
       "OMutVDtI5EAY/rLPxH2pjcUVWmklu4WWPrCxEYzNlbJVhIODoKCghU8OLdSUioUBtRALLWwsDrfS\n",
       "gyvO6h54yy1WIoKrrsqCGmcmmVmCU3isKSbffPPPN/+LH3iXL3lS3f1BunwHjow22XHDeKfAazMe\n",
       "UMY2Cj6raI4s21BMXEncUfbwr1vsdrz/ByRKfjsbSJwgUkKq6bVIzEKgKHb85gGQ9tt9BFQLIbmI\n",
       "uoDYs8hc2QPzFg798awAFwzIwqkpIypEIvyVXQuTfpFgN0Z9EdOgf57XchwoC8WvpzrHaYsjzcjn\n",
       "EDGxRXD8016l4tPoEpsfWY7WM3j0YPxenH8r1DQhZGOJ7X5TDzX6QqOOEWG0AU73W/jCncrQdZWe\n",
       "LCKoIzkFN2qV+r1O4z4EWkULMHNGjwMPHsve0G5o/Vjx4kUqouQQvKNppnduoXG/cepmn9ItSN65\n",
       "ZIKFrs2SJZXxRObIU2VXhHXYE0JFzcUhE3WVNol6Se6FwhPfyGpKwmkngjYC1zzfJcTsPrD8HwMD\n",
       "XOQRapaxcRNhLpIiBdMRtjFEHNRxJcqwhR4zyyJWmo0h0YP7mHDzUG8Yw6KnTURYic+oh2OblTbJ\n",
       "X3YUtGXyWMBxHCGy9ksHY9OOcyOMR/N/SLUKUGul8+E/WNL24azsIIy3s5/ZKKhORLPZgJB88mkn\n",
       "ZWM0RqXK8fgXeAGezomEGz5V/wAAAABJRU5ErkJggg==\n",
       "\" style=\"display:inline;vertical-align:middle;\" /></a></td></tr>\n",
       "<tr><td>3</td><td>Operation</td><td>operator:&nbsp;8<br>operands:&nbsp;6<br></td><td><a class=\"ProveItLink\" href=\"../7aee2b6e503c8f908ef2cdd0071f19aa9707ce430/expr.ipynb\"><img src=\"data:image/png;base64,iVBORw0KGgoAAAANSUhEUgAAACQAAAAOBAMAAAC1GaP7AAAAMFBMVEX///+YmJju7u4QEBBUVFQy\n",
       "MjIiIiKIiIi6urpmZmbc3NyqqqpERER2dnbMzMwAAAB0GlNiAAAAAXRSTlMAQObYZgAAAJVJREFU\n",
       "GNNjYHh79zQDKuCawNBfgCrE+5uBPwFViBtTCAjQNQJBCIK5pLZ5AQMD31UHuAiHFcN5MKO4AUgw\n",
       "KQCJ9QIMc8BCzJ+AhD7IDn8GhnSgux4w8HwE8pQPAIk/DEz/gLKfIEJgZ39n4P7AxMAfwMD2CyrE\n",
       "9JuBJWAfA7sAQ/8FmI2BDNsmADk7Z0YjnFXed7wBAA1QJloXxtArAAAAAElFTkSuQmCC\n",
       "\" style=\"display:inline;vertical-align:middle;\" /></a></td></tr>\n",
       "<tr><td>4</td><td>Operation</td><td>operator:&nbsp;8<br>operands:&nbsp;7<br></td><td><a class=\"ProveItLink\" href=\"../4fa23b01b5b767887c70271cab015f5b5c98d38c0/expr.ipynb\"><img src=\"data:image/png;base64,iVBORw0KGgoAAAANSUhEUgAAACEAAAAOBAMAAABTMGi/AAAAMFBMVEX///+YmJh2dnbMzMwQEBAi\n",
       "IiLu7u6qqqqIiIhUVFS6urpEREQyMjJmZmbc3NwAAACOMKdoAAAAAXRSTlMAQObYZgAAAKBJREFU\n",
       "CNdj4Lt7egEDFLBNCQCSLxk4vsNEGHgmAIlpDAzxcBH+AiDhksAwH65tfQKQOJ/AcB8uogql4xNg\n",
       "Iic7JoIo5k9wu34z8BuALNgA4qUBMfs3BhYFIH0bLP0VSPAeYOC/wMDAMQEs4g0kWC8wrBdgYKhl\n",
       "4HuAcM79BAbmCwyMcBEDBicGhqdKSldhdnEW8AKNiP///yvc9hkXGRgAQ2knSfB0jgcAAAAASUVO\n",
       "RK5CYII=\n",
       "\" style=\"display:inline;vertical-align:middle;\" /></a></td></tr>\n",
       "<tr><td>5</td><td>Operation</td><td>operator:&nbsp;8<br>operands:&nbsp;9<br></td><td><a class=\"ProveItLink\" href=\"../5be3868bb652285659d239e550ad3564fe4429650/expr.ipynb\"><img src=\"data:image/png;base64,iVBORw0KGgoAAAANSUhEUgAAACEAAAAOBAMAAABTMGi/AAAAMFBMVEX///+YmJh2dnbMzMwQEBAi\n",
       "IiLu7u6qqqqIiIhUVFS6urpEREQyMjJmZmbc3NwAAACOMKdoAAAAAXRSTlMAQObYZgAAAIpJREFU\n",
       "CNdj4Lt7egEDCnjJwPEdVWQaA0M8qohLAsN8VG3nExjuoxkE1JUAY7EpdRgAKeZPcDmTBTwBQIpn\n",
       "A4iTBlLiwcAtAKRvg9V/BRKcH8AqOSaARbyBBD9YNUMtA98DqDHvG0Ak8wUGRpgIP9AQAYanSkpX\n",
       "YVZxXmBgMmCI////K9z2Sx1tDAAgqiCDYUwELQAAAABJRU5ErkJggg==\n",
       "\" style=\"display:inline;vertical-align:middle;\" /></a></td></tr>\n",
       "<tr><td>6</td><td>ExprTuple</td><td>10, 11</td><td><a class=\"ProveItLink\" href=\"../0a7bc1f02b1a1289d815ad2d8102ad7ea9add3540/expr.ipynb\"><img src=\"data:image/png;base64,iVBORw0KGgoAAAANSUhEUgAAACsAAAAVBAMAAAAtAwouAAAAMFBMVEX////c3NwiIiJERESqqqqY\n",
       "mJh2dnZmZmYQEBDu7u4yMjJUVFTMzMyIiIi6uroAAAAs73DqAAAAAXRSTlMAQObYZgAAAQhJREFU\n",
       "GNNjYMAB+C6gi8SBiNMMDMfSTJCF2Q8AiZUMjAUM71G0LGBg4L3AwPaFgV8BWTiMgYFjAgMLuvAM\n",
       "BoZXYAaqIcwODGVgxmqoAOPevEYGBrYChqVADk/WBqjwCwHmDwwMLAsY+sDcGw8gir8ysBsAvdLA\n",
       "8A/M5/gJprg/MDABbeH5ABJmPMDA/BUszG/AMP8AWLiFgWH+T5iw/AUGf4YJIENMgWoWMDB9BPKA\n",
       "ChwYdrEcYGBdwJAO9GgAw/sEzk9AYa4AFnU2sAMfAXnu5UsYOPsFQM6+d/geUPYBA4cALIAFkD3P\n",
       "mgBlsyI8nwsOWHRhTmDAMkhDOYjA4gYZx4gRaXcYGAAIoUCpTBPJKQAAAABJRU5ErkJggg==\n",
       "\" style=\"display:inline;vertical-align:middle;\" /></a></td></tr>\n",
       "<tr><td>7</td><td>ExprTuple</td><td>13, 12</td><td><a class=\"ProveItLink\" href=\"../3a7fed3333ef42636d071b31cc212d3a8cbf468e0/expr.ipynb\"><img src=\"data:image/png;base64,iVBORw0KGgoAAAANSUhEUgAAACkAAAAVBAMAAAAp9toTAAAAMFBMVEX////c3NwiIiJERESqqqqY\n",
       "mJh2dnZmZmYQEBDu7u4yMjJUVFTMzMyIiIi6uroAAAAs73DqAAAAAXRSTlMAQObYZgAAARNJREFU\n",
       "GNNtkaFPw0AUxn8tK20prEMhMFVoDJb0TwCDJA2CKZIaEBgQhAQDlcgmBEEwNSQYkjkEgnlGIEjM\n",
       "FqZqKO/u2omGipf3/a737rvv4P+vO2yBXVVeYOV40wD/MQJ3IN0dVsFHbPBCISWHpSFBhj0xNFSr\n",
       "O+BleBcEv4aOMynX8C3bStya7qkyF3OklV0aev/+APMpt1q9JsbDlHBAJ+dSyxvza6fES+ieoge6\n",
       "64a6OWHK4sTQt/padsp4S9EztTFlubF7kqkJGyKeYRvlVI46ByenD9bafj/yf4QGsVtoZ18yraqq\n",
       "yL/qibOnQxXGJ16vSbRp1I2dpO6dWcAHOskW9SVJVmsxe5JAjbLaLzSCP9bMPeBRRV1aAAAAAElF\n",
       "TkSuQmCC\n",
       "\" style=\"display:inline;vertical-align:middle;\" /></a></td></tr>\n",
       "<tr><td>8</td><td>Literal</td><td></td><td><a class=\"ProveItLink\" href=\"../../../multiplication/__pv_it/21fd2079611555ecce512d99547a00d551e6b86b0/expr.ipynb\"><img src=\"data:image/png;base64,iVBORw0KGgoAAAANSUhEUgAAAAMAAAADBAMAAACkBqiMAAAAElBMVEX///9EREQQEBAiIiLu7u4A\n",
       "AABGBidwAAAAAXRSTlMAQObYZgAAABFJREFUCNdjYHFgcDVgcBIAAASWAQx4jI0xAAAAAElFTkSu\n",
       "QmCC\n",
       "\" style=\"display:inline;vertical-align:middle;\" /></a></td></tr>\n",
       "<tr><td>9</td><td>ExprTuple</td><td>13, 14</td><td><a class=\"ProveItLink\" href=\"../c82be1b543fff98ad9274deef79c26222d55e1960/expr.ipynb\"><img src=\"data:image/png;base64,iVBORw0KGgoAAAANSUhEUgAAACkAAAAVBAMAAAAp9toTAAAAMFBMVEX////c3NwiIiJERESqqqqY\n",
       "mJh2dnZmZmYQEBDu7u4yMjJUVFTMzMyIiIi6uroAAAAs73DqAAAAAXRSTlMAQObYZgAAAQFJREFU\n",
       "GNNjYMAO+C6gCcSBiNMMDOJVdkii7AeAxEoGxg0M9x2QhBcwMPBeYOCewMD0AUk0jIGBYwIDRycD\n",
       "9z8k0RkMDK8YGLh+MrAjizI7MJSBGUw/IQKcaXcPMLAVMCwF884nQERPPOBSYGBZwNAH5i2GKu1l\n",
       "YA5g4GtgABvIbgAR5QY7hecDRPQ21B5+A6hoC5BiKWAQBIvKg30PNMEUSB1nYAhkmABSG8DAEMDA\n",
       "uoAhnYGBUS0tXYHzE8jcAgY2sMseAR37//9/Bc5+AaBw2d2bQF89YOAQgIWoAJKPWaHuZ2CF+zgX\n",
       "HJJoopzAkGSQhnLgUcINMooRPYbuMDAAAGWVN+1zxG0tAAAAAElFTkSuQmCC\n",
       "\" style=\"display:inline;vertical-align:middle;\" /></a></td></tr>\n",
       "<tr><td>10</td><td>Literal</td><td></td><td><a class=\"ProveItLink\" href=\"../../../numeral/__pv_it/9176d93c83afa2c995b614976e3cb49207102fa70/expr.ipynb\"><img src=\"data:image/png;base64,iVBORw0KGgoAAAANSUhEUgAAAAoAAAAOBAMAAADkjZCYAAAAMFBMVEX///+YmJju7u4QEBBUVFQy\n",
       "MjIiIiKIiIi6urpmZmbc3NyqqqpERER2dnbMzMwAAAB0GlNiAAAAAXRSTlMAQObYZgAAAE1JREFU\n",
       "CNdjYHh79zQDA9cEhv4CBt7fDPwJDNxgEgiAIkAQAsR8Vx1ATIbiBhDJ/ImB6wEDz0cG/U8gkj+A\n",
       "ge0XA7sAQ/8FBoadM6MZAEflFACalZ/OAAAAAElFTkSuQmCC\n",
       "\" style=\"display:inline;vertical-align:middle;\" /></a></td></tr>\n",
       "<tr><td>11</td><td>Variable</td><td></td><td><a class=\"ProveItLink\" href=\"../../../../__pv_it/07527342713064c87612d00d8557c53d53d5324a0/expr.ipynb\"><img src=\"data:image/png;base64,iVBORw0KGgoAAAANSUhEUgAAAAsAAAAJBAMAAAAWSsseAAAAMFBMVEX///8yMjKqqqrMzMzu7u4i\n",
       "IiJmZmaYmJhEREQQEBC6urp2dnaIiIhUVFTc3NwAAAD87Fq/AAAAAXRSTlMAQObYZgAAAEhJREFU\n",
       "CNdjYOC7s2seAwPDygccHxgY+L4zsDUwMPB+YGA9wMDA38Dgb8DA8P4Agz6DA4O/AsNFJgMGxgKm\n",
       "MG6gyjunLE4xAAAZTBA5TB6DCwAAAABJRU5ErkJggg==\n",
       "\" style=\"display:inline;vertical-align:middle;\" /></a></td></tr>\n",
       "<tr><td>12</td><td>Variable</td><td></td><td><a class=\"ProveItLink\" href=\"../../../../__pv_it/6840a4fa6c106149dc16a131294d0c5e44f1b0480/expr.ipynb\"><img src=\"data:image/png;base64,iVBORw0KGgoAAAANSUhEUgAAAAkAAAAOBAMAAAAPuiubAAAALVBMVEX///9mZmbMzMxERESYmJiI\n",
       "iIh2dna6urqqqqoyMjIiIiIQEBBUVFTu7u4AAAD9S1JeAAAAAXRSTlMAQObYZgAAAE1JREFUCNdj\n",
       "4D29gAEIOA+ASL4GEFl3AURmgQiGOaFHGBh4HzPwKTBwvGXgTmBgnMDAJ8DAJcBQ5wBSLncBJLWN\n",
       "gYGngRFoBO9REQYGAGrcDtUkVqASAAAAAElFTkSuQmCC\n",
       "\" style=\"display:inline;vertical-align:middle;\" /></a></td></tr>\n",
       "<tr><td>13</td><td>Literal</td><td></td><td><a class=\"ProveItLink\" href=\"../../../numeral/__pv_it/77d407a64829263cdc16415becd4c2293f77a4bf0/expr.ipynb\"><img src=\"data:image/png;base64,iVBORw0KGgoAAAANSUhEUgAAAAkAAAAOBAMAAAAPuiubAAAAMFBMVEX///+YmJh2dnbMzMwQEBAi\n",
       "IiLu7u6qqqqIiIhUVFS6urpEREQyMjJmZmbc3NwAAACOMKdoAAAAAXRSTlMAQObYZgAAAFBJREFU\n",
       "CNdj4Lt7egEDw0sGju8MDNMYGOIZGFwSGOYvYDifwHAfKAEUSQASzJ9ATJ4NIPI2iOCYACJrGfge\n",
       "MDBfYGB8wPBUSekqUPH//18ZAIliFhc3zESNAAAAAElFTkSuQmCC\n",
       "\" style=\"display:inline;vertical-align:middle;\" /></a></td></tr>\n",
       "<tr><td>14</td><td>Variable</td><td></td><td><a class=\"ProveItLink\" href=\"../../../../__pv_it/cbdfda466482236edba0ce44ac7ef39cda0af7a40/expr.ipynb\"><img src=\"data:image/png;base64,iVBORw0KGgoAAAANSUhEUgAAAAkAAAAJBAMAAAASvxsjAAAALVBMVEX///9mZmbc3NxUVFSYmJhE\n",
       "REQiIiIyMjK6uroQEBDMzMyIiIh2dnbu7u4AAABgFDGoAAAAAXRSTlMAQObYZgAAADZJREFUCNdj\n",
       "YOA9s3sBA8PKBvYEBt7ZDKwODMwPGICALwBE6m0Asx0YGIDiAgw8QJUyu/cyAAAmuwmycZ8WfQAA\n",
       "AABJRU5ErkJggg==\n",
       "\" style=\"display:inline;vertical-align:middle;\" /></a></td></tr>\n",
       "</table>\n"
      ],
      "text/plain": [
       "0. (3 * a) + (2 * b) + (2 * c)\n",
       "   core type: Operation\n",
       "   operator: 1\n",
       "   operands: 2\n",
       "1. +\n",
       "   core type: Literal\n",
       "   sub-expressions: \n",
       "2. (3 * a , 2 * b , 2 * c)\n",
       "   core type: ExprTuple\n",
       "   sub-expressions: 3, 4, 5\n",
       "3. 3 * a\n",
       "   core type: Operation\n",
       "   operator: 8\n",
       "   operands: 6\n",
       "4. 2 * b\n",
       "   core type: Operation\n",
       "   operator: 8\n",
       "   operands: 7\n",
       "5. 2 * c\n",
       "   core type: Operation\n",
       "   operator: 8\n",
       "   operands: 9\n",
       "6. (3 , a)\n",
       "   core type: ExprTuple\n",
       "   sub-expressions: 10, 11\n",
       "7. (2 , b)\n",
       "   core type: ExprTuple\n",
       "   sub-expressions: 13, 12\n",
       "8. *\n",
       "   core type: Literal\n",
       "   sub-expressions: \n",
       "9. (2 , c)\n",
       "   core type: ExprTuple\n",
       "   sub-expressions: 13, 14\n",
       "10. 3\n",
       "    core type: Literal\n",
       "    sub-expressions: \n",
       "11. a\n",
       "    core type: Variable\n",
       "    sub-expressions: \n",
       "12. b\n",
       "    core type: Variable\n",
       "    sub-expressions: \n",
       "13. 2\n",
       "    core type: Literal\n",
       "    sub-expressions: \n",
       "14. c\n",
       "    core type: Variable\n",
       "    sub-expressions: "
      ]
     },
     "execution_count": 4,
     "metadata": {},
     "output_type": "execute_result"
    }
   ],
   "source": [
    "# display the expression information\n",
    "expr.exprInfo()"
   ]
  },
  {
   "cell_type": "code",
   "execution_count": null,
   "metadata": {},
   "outputs": [],
   "source": []
  }
 ],
 "metadata": {
  "kernelspec": {
   "display_name": "Python 3",
   "language": "python",
   "name": "python3"
  }
 },
 "nbformat": 4,
 "nbformat_minor": 0
}
