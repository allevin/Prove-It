{
 "cells": [
  {
   "cell_type": "markdown",
   "metadata": {},
   "source": [
    "Expression of type <a class=\"ProveItLink\" href=\"../../../../../../doc/html/api/proveit.logic.Equals.html\">Equals</a>\n",
    "=======================\n",
    "# from context <a class=\"ProveItLink\" href=\"../../_context_.ipynb\">proveit.number.addition</a>"
   ]
  },
  {
   "cell_type": "code",
   "execution_count": 1,
   "metadata": {},
   "outputs": [],
   "source": [
    "# import Expression classes needed to build the expression\n",
    "from proveit._common_ import a, b, c\n",
    "from proveit.logic import Equals\n",
    "from proveit.number import Add"
   ]
  },
  {
   "cell_type": "code",
   "execution_count": 2,
   "metadata": {},
   "outputs": [
    {
     "data": {
      "text/html": [
       "<strong id=\"expr\">expr:</strong> <a class=\"ProveItLink\" href=\"expr.ipynb\"><img src=\"data:image/png;base64,iVBORw0KGgoAAAANSUhEUgAAAwwAAAAVBAMAAAAZYHSGAAAAMFBMVEX////c3NwiIiJERESqqqqY\n",
       "mJh2dnZmZmYQEBDu7u4yMjJUVFTMzMyIiIi6uroAAAAs73DqAAAAAXRSTlMAQObYZgAABBlJREFU\n",
       "aN7tmUFIFFEYxz913XXWdPfuQeliF8GDHSPpKIl79iQe8pKxEHmwoIzwECTrJSIPhuDBXRCDoggk\n",
       "oUvgwT0VUSvSaZHEBVdCsGhmdue9973vezO7kxttNIfd5dv3/v//7715b2dmAf4ff8XRnW/K2O17\n",
       "/xbKNvOF9bqvfrWl+/X3CWVUOe7Q0nYjB4vghcnOj5GDssZ9Ed8IETQXok8oo0pPWlpr6EmbO4vs\n",
       "OQNKF1rIi9X3xLA35Un9HEiCqVLWVahuHUZB1u0TegcepaboPhUhVDZmX6w9eplrYaN0ZNTmo9X3\n",
       "Q68a0bdbUhCV7hNdherWYRRkbd3TO/AotUT3q3hCFE9kH605uhBBLWyUfXZ0JqH+aYj2hZiGSQg7\n",
       "DTCkd9iHRk4DxZuEuqdBiOAWQzBjv7Zs3pjDgrnCS9zculbYwv17PhSTqBLf/JzCKqKJqAgZo5HM\n",
       "IpweT3/hrKd0eB6FCjIWBIZmp3giO6EzjpoQwXBTsGp/LCbbSkjQOoIE7v9+L96Hl9ccXMYsy4Nw\n",
       "ipexaCKCChmjkcziVc4twApnPeJ8jmXdw/2xZFEYQVqhMDQ7wZPZCZ1x1IQIhhuBBfvsOIbYIHKI\n",
       "nEDHhNrcegRteBp7U3ATJx/LwDxSkU1EciFjMlKyeLpP8nCRsy7qq4FFoYKMBYWh2QmezE7ojKMm\n",
       "RDBcEX4CdJagNY8cYs8gkVabd5b0Xe4twACuzAJ8RyqyiVeRMj5GXhbFibXe0aeBRaGCvMWAqeIJ\n",
       "ETyZndAZR02IYLgdJ3tiEJad1TWbzV7IZp0r29Y0HKbcFb/y0F3xicrpIwtwBNYprvRD9zFSqTZR\n",
       "KlUZfyM3C3LirblpoChUkLXQYWh2glfNTuj8Rq0iQuB24IG9APMwBhl1Xu0r4rsZddZ689q8tvyA\n",
       "SMlCE1uG2Il6uihNxDaV11YDZ+RlkU68tbspxc67h8vLolBB1kKDYbLreEp2QmcaNSmC4YrOzrQ8\n",
       "DG8i6MfG/umZR/0T9rTjba8Mnc+uIotTb6usqihNhK6QMRkpWTxd+/Rp56zH9dXAolBBWqEwTHYd\n",
       "T8lO6EyjJkUw3Lhz2RdPRfqjeEMdjm3gXS4NUTw4q3AljRVfwG18qssmQlfImIyULJ7uK4DrnDW5\n",
       "YGVRqCBjQWFodoInsxM646gJEQw3BV+d6+jdd7v4imbzlraaZgqfcKGn8O3SHqosfUzhnLKJuKQT\n",
       "MiYjJYunG5suZDjrdX0aWBQqyFhQGJqd4MnshM44akIEw61DR9L31rOOu2i/G9jRwMJZPMxINvIu\n",
       "+rdg/As2Cn5CdhD4CJ8+06cVokIrwUZB1lHSIQClpujMXxYHZwDjX3BQGvt0uHHH0z/9oLuxKD1N\n",
       "mv05LTUzSktz/nPYtUVrzYvyCy0Wc243ZzaSAAAAAElFTkSuQmCC\n",
       "\" style=\"display:inline;vertical-align:middle;\" /></a><br>"
      ],
      "text/plain": [
       "expr: (a + b + c + a + b + a + c + b + a + c + a) = (a + a + a + a + a + b + b + c + c + b + c)"
      ]
     },
     "execution_count": 2,
     "metadata": {},
     "output_type": "execute_result"
    }
   ],
   "source": [
    "# build up the expression from sub-expressions\n",
    "expr = Equals(Add(a, b, c, a, b, a, c, b, a, c, a), Add(a, a, a, a, a, b, b, c, c, b, c))"
   ]
  },
  {
   "cell_type": "code",
   "execution_count": 3,
   "metadata": {},
   "outputs": [
    {
     "name": "stdout",
     "output_type": "stream",
     "text": [
      "Passed sanity check: built 'expr' is the same as the stored Expression.\n"
     ]
    }
   ],
   "source": [
    "# check that the built expression is the same as the stored expression\n",
    "%check_expr"
   ]
  },
  {
   "cell_type": "code",
   "execution_count": 4,
   "metadata": {},
   "outputs": [
    {
     "data": {
      "text/html": [
       "<table><tr><th>&nbsp;</th><th>core type</th><th>sub-expressions</th><th>expression</th></tr>\n",
       "<tr><td>0</td><td>Operation</td><td>operator:&nbsp;1<br>operands:&nbsp;2<br></td><td><a class=\"ProveItLink\" href=\"expr.ipynb\"><img src=\"data:image/png;base64,iVBORw0KGgoAAAANSUhEUgAAAwwAAAAVBAMAAAAZYHSGAAAAMFBMVEX////c3NwiIiJERESqqqqY\n",
       "mJh2dnZmZmYQEBDu7u4yMjJUVFTMzMyIiIi6uroAAAAs73DqAAAAAXRSTlMAQObYZgAABBlJREFU\n",
       "aN7tmUFIFFEYxz913XXWdPfuQeliF8GDHSPpKIl79iQe8pKxEHmwoIzwECTrJSIPhuDBXRCDoggk\n",
       "oUvgwT0VUSvSaZHEBVdCsGhmdue9973vezO7kxttNIfd5dv3/v//7715b2dmAf4ff8XRnW/K2O17\n",
       "/xbKNvOF9bqvfrWl+/X3CWVUOe7Q0nYjB4vghcnOj5GDssZ9Ed8IETQXok8oo0pPWlpr6EmbO4vs\n",
       "OQNKF1rIi9X3xLA35Un9HEiCqVLWVahuHUZB1u0TegcepaboPhUhVDZmX6w9eplrYaN0ZNTmo9X3\n",
       "Q68a0bdbUhCV7hNdherWYRRkbd3TO/AotUT3q3hCFE9kH605uhBBLWyUfXZ0JqH+aYj2hZiGSQg7\n",
       "DTCkd9iHRk4DxZuEuqdBiOAWQzBjv7Zs3pjDgrnCS9zculbYwv17PhSTqBLf/JzCKqKJqAgZo5HM\n",
       "IpweT3/hrKd0eB6FCjIWBIZmp3giO6EzjpoQwXBTsGp/LCbbSkjQOoIE7v9+L96Hl9ccXMYsy4Nw\n",
       "ipexaCKCChmjkcziVc4twApnPeJ8jmXdw/2xZFEYQVqhMDQ7wZPZCZ1x1IQIhhuBBfvsOIbYIHKI\n",
       "nEDHhNrcegRteBp7U3ATJx/LwDxSkU1EciFjMlKyeLpP8nCRsy7qq4FFoYKMBYWh2QmezE7ojKMm\n",
       "RDBcEX4CdJagNY8cYs8gkVabd5b0Xe4twACuzAJ8RyqyiVeRMj5GXhbFibXe0aeBRaGCvMWAqeIJ\n",
       "ETyZndAZR02IYLgdJ3tiEJad1TWbzV7IZp0r29Y0HKbcFb/y0F3xicrpIwtwBNYprvRD9zFSqTZR\n",
       "KlUZfyM3C3LirblpoChUkLXQYWh2glfNTuj8Rq0iQuB24IG9APMwBhl1Xu0r4rsZddZ689q8tvyA\n",
       "SMlCE1uG2Il6uihNxDaV11YDZ+RlkU68tbspxc67h8vLolBB1kKDYbLreEp2QmcaNSmC4YrOzrQ8\n",
       "DG8i6MfG/umZR/0T9rTjba8Mnc+uIotTb6usqihNhK6QMRkpWTxd+/Rp56zH9dXAolBBWqEwTHYd\n",
       "T8lO6EyjJkUw3Lhz2RdPRfqjeEMdjm3gXS4NUTw4q3AljRVfwG18qssmQlfImIyULJ7uK4DrnDW5\n",
       "YGVRqCBjQWFodoInsxM646gJEQw3BV+d6+jdd7v4imbzlraaZgqfcKGn8O3SHqosfUzhnLKJuKQT\n",
       "MiYjJYunG5suZDjrdX0aWBQqyFhQGJqd4MnshM44akIEw61DR9L31rOOu2i/G9jRwMJZPMxINvIu\n",
       "+rdg/As2Cn5CdhD4CJ8+06cVokIrwUZB1lHSIQClpujMXxYHZwDjX3BQGvt0uHHH0z/9oLuxKD1N\n",
       "mv05LTUzSktz/nPYtUVrzYvyCy0Wc243ZzaSAAAAAElFTkSuQmCC\n",
       "\" style=\"display:inline;vertical-align:middle;\" /></a></td></tr>\n",
       "<tr><td>1</td><td>Literal</td><td></td><td><a class=\"ProveItLink\" href=\"../../../../logic/equality/__pv_it/2fb26078095930560931daa0500ce419a39ea6cd0/expr.ipynb\"><img src=\"data:image/png;base64,iVBORw0KGgoAAAANSUhEUgAAAA4AAAAFBAMAAACHocAhAAAAFVBMVEX///9EREQiIiJUVFQyMjJm\n",
       "ZmYAAADubVkoAAAAAXRSTlMAQObYZgAAABRJREFUCNdjCHEBAWcGXCBICQQUAUpuAwlgGKrkAAAA\n",
       "AElFTkSuQmCC\n",
       "\" style=\"display:inline;vertical-align:middle;\" /></a></td></tr>\n",
       "<tr><td>2</td><td>ExprTuple</td><td>3, 4</td><td><a class=\"ProveItLink\" href=\"../19ed8419878ac68656a51b6199afad267ff5344d0/expr.ipynb\"><img src=\"data:image/png;base64,iVBORw0KGgoAAAANSUhEUgAAAukAAAAVBAMAAAAJJW1zAAAAMFBMVEX////c3NwiIiJERESqqqqY\n",
       "mJh2dnZmZmYQEBDu7u4yMjJUVFTMzMyIiIi6uroAAAAs73DqAAAAAXRSTlMAQObYZgAAA6FJREFU\n",
       "WMPtmT9oE1Ecx79t86eXaJK9Q7vVRejiKAZnpZkcpXTQxUpA7FAHW5EOgjUuUujQUOjgdemgKEKx\n",
       "4CK4ZFLEphSnIkqDbZFCFe+S3Lv3u/cn7x0aDfSGJHzzu+/393nv7t1dApxs/2LL1U7GoKvbVf/l\n",
       "neQL5+WIvdvSPft9YgV1ZRNoYuDJ6dKb3stTWX1mPUajazH2iRXUlW3tD+DJ6arAabLAPG6/54vB\n",
       "dBWi81eASjmIuoi+FkEm0boEI8WAxgDPku4KMFjhyy+33/cCNRFd9QWBKbmjqIvoaxFkEq1LMFIM\n",
       "aAzwLOkWgS/S8knYj3pqJMaoT+I/HXVGY4BnSTdQxLT31rdxc46Wr9Wf03LnWn2T7j/0frdAlMzG\n",
       "pxJ1YSVMYTbKoLAXlvRkaksRLUkQWXSKAY0aL+jLgq5ZkSpj1fu8WxhokP2dfeTpIL/dyYzQE24O\n",
       "F6jj8hiOiUtYwtpgNsqgsJdAObWAFUW0JEFg0SoGNEo81pcFXbMiUcWCN/WHSI+R/RNHGJzgy52H\n",
       "GKBTP1zCLdrneAXzxCUsYW0wG1UQ10vgu1jDOUW0mCCyaBUDGiUe68ucrlWRm8UvINtAf43sn64i\n",
       "X+bLs43oCvUaOEuVGeAHcQlLAiW00QQFvXBJqmhpQoRFqxjQ6PBi0PknScMf9fwYlv0TYcZ1z7iu\n",
       "f1vaX8aeN2tp11154LrrzZKmDROwD+eYKqPIHRKXdgmntG30Qc1eSJI8WpUQYVErBjR6PMSga436\n",
       "fe/0qmEcFX6SvPvMuxV+koZrkQOu7ycSDYccDAdIH/FTzZWwNacWORpkQUEvYZIqWp4QYdEqBjQa\n",
       "vAiMEZ1/EZn1l6blIl4lyMXXuwbME9K8N2VkXXcOkK1eIm0dB4tY24UrYb7MRhXE9RL4ekdYUhJd\n",
       "kSaILFrFgEaFF/ZlTteqSFZx3bsnKiVGU3SFKqbXSXm2jBQdi1VcLNO2nuEOneqwhPkyG1UQ10vg\n",
       "+wK4IUY736UJIotWMaBR4rG+zOlaFd6d42f/9nX7zTa9Gm/cjlzBpusfqTBU/3p+hyhLH0q0rbCE\n",
       "3VsxG1UQ10vgm56qV8Ro51FBliCyaBUDGiUe68ucrlWR2cFgQfuUZfFsavVU2DmoU3Su8FefTW3w\n",
       "LOkWvaVpgv/2W8df38Wf40VFcBGVzkGdopPWmRLFOtUMRk83pfqltwe2ZK/+q+FU/SWtR5vv2b/A\n",
       "sv7S2HfyD153ty3gN8e/TWuC4xLnAAAAAElFTkSuQmCC\n",
       "\" style=\"display:inline;vertical-align:middle;\" /></a></td></tr>\n",
       "<tr><td>3</td><td>Operation</td><td>operator:&nbsp;6<br>operands:&nbsp;5<br></td><td><a class=\"ProveItLink\" href=\"../bab95727a9575eabd6aee6afba3a9ae6970e66760/expr.ipynb\"><img src=\"data:image/png;base64,iVBORw0KGgoAAAANSUhEUgAAAWoAAAAQBAMAAADNOCjDAAAAMFBMVEX///8yMjKqqqrMzMzu7u4i\n",
       "IiJmZmaYmJhEREQQEBC6urp2dnaIiIhUVFTc3NwAAAD87Fq/AAAAAXRSTlMAQObYZgAAAgdJREFU\n",
       "SMe9lb9Kw1AUxr+GNGhLGzOIU6EgbkIddesLaDsVBId2UhAxj9AHEMTBSRHBSRB0cdElgzhoheoi\n",
       "QsG+QGlpi+3gYKuJzcnpSUwHzxL4OPf3fffm/gFYqW95hK7Vw/BjJjISK1KdYFDqv4y8tWZ/9bRH\n",
       "GK1OXVTaYgvHBBtxzBjuTy3a38usR/gtxZKUWFds4ZhgI44Zw6VjrxE+dTw/QWrZKDB1snZzQsem\n",
       "Kq9UUG8rS3Ro4/G8TpRI7ckUWjhGNBplcTCS9Xl9qkXGqn3olL5yGsnT/XCCfUrPldERWjhGNBpl\n",
       "cTCCdbIHrUzoShfTV4R+jCm6kE0TW5SeyeJIaOEYyciVxcZI1okWohahazPQi24h0fJurndggyol\n",
       "4ENo4RgfIyeLjZGs9TJyw99UMox1wxjeutEiLk23oP/MXzOM2QPDGN6xfagdqhQQ641r4Rh/o+8s\n",
       "I4xk3bSQQdY948EtukuEpuWZcPITSkslS9CG1hVaOMbHyMliYyTrXBrPCjkTgxNyROmDBSGbS20j\n",
       "MTNPUnecLcpbOEYycmWxMZJ1xFQKcbr/0lqVCkXE6fUzh4UiCYkX7EBo4RjJyJXF2deCdbL2sPxA\n",
       "z3pt03NlbVfuaKRG5WzvlCir96bUwjGSkSuLg/GxDnrD/vA2+r28i+GFEC/6RaAQswIV3vIHLhMC\n",
       "uF8uh/IdBFSamgAAAABJRU5ErkJggg==\n",
       "\" style=\"display:inline;vertical-align:middle;\" /></a></td></tr>\n",
       "<tr><td>4</td><td>Operation</td><td>operator:&nbsp;6<br>operands:&nbsp;7<br></td><td><a class=\"ProveItLink\" href=\"../5312e445a56bbed44a74837ca6bab74c7688d6860/expr.ipynb\"><img src=\"data:image/png;base64,iVBORw0KGgoAAAANSUhEUgAAAWoAAAAQBAMAAADNOCjDAAAAMFBMVEX///8yMjKqqqrMzMzu7u4i\n",
       "IiJmZmaYmJhEREQQEBC6urp2dnaIiIhUVFTc3NwAAAD87Fq/AAAAAXRSTlMAQObYZgAAAidJREFU\n",
       "SMe11b9LG2Ecx/FPzvOqCSbeIE6BgHQTzNhuWUuJZhIKDnFSEPH+hGxdCsXBpS0idBIKCsXFOhy0\n",
       "dLBXiA6KEDD/gBiSoA4demnv+9zzfX4Mjc2NL568v8/9yB0wuqO6o4B7VXt8ZORHUYVM8z9ElGNR\n",
       "E7c9jIhQV4VCyTZq0Zrt2uf8OeY1ccJhhELZvlo+qNhGzduyImKYM5Jd52pq+Qj/vGsR4XPyreNd\n",
       "/stUaKUuuPmx37YIhTKtnwEvF6NLDu6XqGwGyoqImPPy5Cuw357o8FQqtFKX7C7e2oRCSw30GLgP\n",
       "KPBNPt/L1MxAWREhGHuHGeTv4TVYW5JkpS64DbBuEwotVPCegdPH5CE7jQ+YCMxAWREheBHiNaY6\n",
       "GA9ZW5JkpS64BlZsQqFV4I6BN41CXRkFmIGyIiLNiV9GDSwN7tqq77/y/aIknu/PbPt+0yR4gNsz\n",
       "ihRaRvaewXgdB4EyCjCAlP0bYXMGNzbEAiry+UqSnJ8u+V9wOq5FKNSF12cQv6631FH8WqdAl1ZE\n",
       "0jmDp72EM4f9RSRJVuridjE1PWcRCvXoKRa7LisPeiG+8oEZaNciQhBf+SfIBM5yjr+wUklW6oJZ\n",
       "PK0fWoRC59hUntqS1+RQR65sBsqKCMEF8Dl+FZ8+O+XvkFTormiCm+jjmz2LUKj6PeC7dltrykdl\n",
       "I/pmAcqKCIF3ElVG+W18FGhZ2xf9kybZcBjRQ0OAlpXhN9bQ9AzNxNcDAAAAAElFTkSuQmCC\n",
       "\" style=\"display:inline;vertical-align:middle;\" /></a></td></tr>\n",
       "<tr><td>5</td><td>ExprTuple</td><td>8, 9, 10, 8, 9, 8, 10, 9, 8, 10, 8</td><td><a class=\"ProveItLink\" href=\"../98c02e530816a511bab2e4a805a7e6d438df201a0/expr.ipynb\"><img src=\"data:image/png;base64,iVBORw0KGgoAAAANSUhEUgAAANUAAAAVBAMAAAAjhrYEAAAAMFBMVEX////c3NwiIiJERESqqqqY\n",
       "mJh2dnZmZmYQEBDu7u4yMjJUVFTMzMyIiIi6uroAAAAs73DqAAAAAXRSTlMAQObYZgAAAlVJREFU\n",
       "SMe9Vj9oE1Ec/tJccnm5Jpe9Q7t1KmRxFIOz0JscJTjoYuRA7KCDVqSb9SYpOOQQOpQuHZQWIRhw\n",
       "EVwyKaJXUqciQqNpkUIU3597790fvMtiMly++74v34/3u997F2CWn/pgJmWuscv7KPP80b/dWRo5\n",
       "WMqpZfbpZSdG7WbYs7TqXt7CfKAWb+FphjtLs1t5ta4CFS/28M4zHmyGhhMvr9YW8C1GlDPanqXh\n",
       "eu5wFFtYo1+F3u31sO29z45AzzpfBFj4cNxIaIrSrt3glQA6i9wI+hGq7GKb3hw3iiOhd5uYcDC/\n",
       "iReic+u4lNA0pVxkDFsE66x3w+pShDJ8bNK6ZzCbQl/1sCG6O8AFDhYd3ElomlIu4xyVNl+DyiJP\n",
       "UHQiVP0h/gDWCHPhNN4DfnHwRraZgpW0toK4y/RhuwzoLCtcnqTmR6yW3URXNADLqJ9xMJYpY5BJ\n",
       "SpOUcs25OOGL0Fl2U24HQdFaj2lPBliFF24hk0924XdopMAYkaQWUsrFttcDnqCzFuXGDSnaQ9rv\n",
       "bguvjT7/9YS1nVnpCkoMkFNY/hVOSS1CSRcbjA2wBJ1l03U6mkLJx006zI6xXEaXDc1L3Af5ScE+\n",
       "cIuDbVx22xwpTVPKZbXMPZ6gsywX5b6m2Mx/ZfN/+PYQWz/Y+frRAXlKN4/ZCTwOFoLvF4ccKU1T\n",
       "ykV6d8ETIllrwacIheoQlYbs+ZE6jBpJMCWlEjQ6ip5Rpba8cSQopcCUlJNGmupE3yn/txbx2eEW\n",
       "3tSUcZAC01E6oZamLNbpwmz+A9Az+i+iVOAdG9M4OgAAAABJRU5ErkJggg==\n",
       "\" style=\"display:inline;vertical-align:middle;\" /></a></td></tr>\n",
       "<tr><td>6</td><td>Literal</td><td></td><td><a class=\"ProveItLink\" href=\"../3e6688136fa3c7aefbebe51301b7c3ebf0b69c440/expr.ipynb\"><img src=\"data:image/png;base64,iVBORw0KGgoAAAANSUhEUgAAAA4AAAAOBAMAAADtZjDiAAAAJFBMVEX///+6urpUVFQQEBAiIiIy\n",
       "MjJmZmaIiIiqqqrc3Nzu7u4AAACgHpL+AAAAAXRSTlMAQObYZgAAAB5JREFUCNdjYGBgWMkAAe2k\n",
       "0Kmhoc6hoUGk6BMHYgAHOwjcado9fwAAAABJRU5ErkJggg==\n",
       "\" style=\"display:inline;vertical-align:middle;\" /></a></td></tr>\n",
       "<tr><td>7</td><td>ExprTuple</td><td>8, 8, 8, 8, 8, 9, 9, 10, 10, 9, 10</td><td><a class=\"ProveItLink\" href=\"../6a0057c0bb560e3974fc2eeddf16dd37cda3893d0/expr.ipynb\"><img src=\"data:image/png;base64,iVBORw0KGgoAAAANSUhEUgAAANUAAAAVBAMAAAAjhrYEAAAAMFBMVEX////c3NwiIiJERESqqqqY\n",
       "mJh2dnZmZmYQEBDu7u4yMjJUVFTMzMyIiIi6uroAAAAs73DqAAAAAXRSTlMAQObYZgAAAgBJREFU\n",
       "SMe9lj9I41Acx7+1adPX2Ca7g906CV1uFIuzYKYbj+KgkxKQc9DB8xA3taPg0CwO4uLgwXFQLuBy\n",
       "cEsnj0Mr9aYigvVPOQpVfM8mfXl9akPA/obk8/uF9/vl/f68BBikpCsDCfOJXX6HWbn7tRdkId8z\n",
       "Pk116GU/1GseSCBL8tCv2UAqXArvJZBFz/u1j0CiGKrIrV54Qa4F1zvAZahtxTO98ILMCFo0jyV6\n",
       "i5QX1lzLyEndCEDJ8qkpAshs1RHhoPrN9yhuYY9y3Yg23JSsYSIIlXJoi4BftWRGAHIH3eEWxcYW\n",
       "3VYTaq6zYNTEYhCaLmJDBLKJqCmA0kKiwC3pL3gEtAaG3G78CYwFoWXgvwiamxkOqg3d4pbhBoul\n",
       "51DqbBZ3IO0glEW6KYKe8zrdgyEL1ya30FjrNDUVTOO5PyMPUBqkP9GpUlsijHpz2gU6XqtFbqE5\n",
       "/EDrm8cPxWFOyD00e4rFfZtoP9BSCKDTLZhEAIeWsmtBzMYc7VtTycZRYs2zh0mrQG770hFWIIJm\n",
       "Ie4wHxzy6iG6Ftbz/9h4nR+fY+eGDVD1arxGto1+tPvHhAhYqv7t+PCAlD+DW5CsIWF4g33BTyAj\n",
       "EMnAfchAz6hYwVPMbqxYMJKB+5Bh3v9Ned9YxGYlcpUUPyYrwUiG1OugsTxHBvMPcAY8Adis3Wt9\n",
       "F1zOAAAAAElFTkSuQmCC\n",
       "\" style=\"display:inline;vertical-align:middle;\" /></a></td></tr>\n",
       "<tr><td>8</td><td>Variable</td><td></td><td><a class=\"ProveItLink\" href=\"../../../../__pv_it/07527342713064c87612d00d8557c53d53d5324a0/expr.ipynb\"><img src=\"data:image/png;base64,iVBORw0KGgoAAAANSUhEUgAAAAsAAAAJBAMAAAAWSsseAAAAMFBMVEX///8yMjKqqqrMzMzu7u4i\n",
       "IiJmZmaYmJhEREQQEBC6urp2dnaIiIhUVFTc3NwAAAD87Fq/AAAAAXRSTlMAQObYZgAAAEhJREFU\n",
       "CNdjYOC7s2seAwPDygccHxgY+L4zsDUwMPB+YGA9wMDA38Dgb8DA8P4Agz6DA4O/AsNFJgMGxgKm\n",
       "MG6gyjunLE4xAAAZTBA5TB6DCwAAAABJRU5ErkJggg==\n",
       "\" style=\"display:inline;vertical-align:middle;\" /></a></td></tr>\n",
       "<tr><td>9</td><td>Variable</td><td></td><td><a class=\"ProveItLink\" href=\"../../../../__pv_it/6840a4fa6c106149dc16a131294d0c5e44f1b0480/expr.ipynb\"><img src=\"data:image/png;base64,iVBORw0KGgoAAAANSUhEUgAAAAkAAAAOBAMAAAAPuiubAAAALVBMVEX///9mZmbMzMxERESYmJiI\n",
       "iIh2dna6urqqqqoyMjIiIiIQEBBUVFTu7u4AAAD9S1JeAAAAAXRSTlMAQObYZgAAAE1JREFUCNdj\n",
       "4D29gAEIOA+ASL4GEFl3AURmgQiGOaFHGBh4HzPwKTBwvGXgTmBgnMDAJ8DAJcBQ5wBSLncBJLWN\n",
       "gYGngRFoBO9REQYGAGrcDtUkVqASAAAAAElFTkSuQmCC\n",
       "\" style=\"display:inline;vertical-align:middle;\" /></a></td></tr>\n",
       "<tr><td>10</td><td>Variable</td><td></td><td><a class=\"ProveItLink\" href=\"../../../../__pv_it/cbdfda466482236edba0ce44ac7ef39cda0af7a40/expr.ipynb\"><img src=\"data:image/png;base64,iVBORw0KGgoAAAANSUhEUgAAAAkAAAAJBAMAAAASvxsjAAAALVBMVEX///9mZmbc3NxUVFSYmJhE\n",
       "REQiIiIyMjK6uroQEBDMzMyIiIh2dnbu7u4AAABgFDGoAAAAAXRSTlMAQObYZgAAADZJREFUCNdj\n",
       "YOA9s3sBA8PKBvYEBt7ZDKwODMwPGICALwBE6m0Asx0YGIDiAgw8QJUyu/cyAAAmuwmycZ8WfQAA\n",
       "AABJRU5ErkJggg==\n",
       "\" style=\"display:inline;vertical-align:middle;\" /></a></td></tr>\n",
       "</table>\n"
      ],
      "text/plain": [
       "0. (a + b + c + a + b + a + c + b + a + c + a) = (a + a + a + a + a + b + b + c + c + b + c)\n",
       "   core type: Operation\n",
       "   operator: 1\n",
       "   operands: 2\n",
       "1. =\n",
       "   core type: Literal\n",
       "   sub-expressions: \n",
       "2. (a + b + c + a + b + a + c + b + a + c + a , a + a + a + a + a + b + b + c + c + b + c)\n",
       "   core type: ExprTuple\n",
       "   sub-expressions: 3, 4\n",
       "3. a + b + c + a + b + a + c + b + a + c + a\n",
       "   core type: Operation\n",
       "   operator: 6\n",
       "   operands: 5\n",
       "4. a + a + a + a + a + b + b + c + c + b + c\n",
       "   core type: Operation\n",
       "   operator: 6\n",
       "   operands: 7\n",
       "5. (a , b , c , a , b , a , c , b , a , c , a)\n",
       "   core type: ExprTuple\n",
       "   sub-expressions: 8, 9, 10, 8, 9, 8, 10, 9, 8, 10, 8\n",
       "6. +\n",
       "   core type: Literal\n",
       "   sub-expressions: \n",
       "7. (a , a , a , a , a , b , b , c , c , b , c)\n",
       "   core type: ExprTuple\n",
       "   sub-expressions: 8, 8, 8, 8, 8, 9, 9, 10, 10, 9, 10\n",
       "8. a\n",
       "   core type: Variable\n",
       "   sub-expressions: \n",
       "9. b\n",
       "   core type: Variable\n",
       "   sub-expressions: \n",
       "10. c\n",
       "    core type: Variable\n",
       "    sub-expressions: "
      ]
     },
     "execution_count": 4,
     "metadata": {},
     "output_type": "execute_result"
    }
   ],
   "source": [
    "# display the expression information\n",
    "expr.exprInfo()"
   ]
  },
  {
   "cell_type": "code",
   "execution_count": null,
   "metadata": {},
   "outputs": [],
   "source": []
  }
 ],
 "metadata": {
  "kernelspec": {
   "display_name": "Python 3",
   "language": "python",
   "name": "python3"
  }
 },
 "nbformat": 4,
 "nbformat_minor": 0
}
