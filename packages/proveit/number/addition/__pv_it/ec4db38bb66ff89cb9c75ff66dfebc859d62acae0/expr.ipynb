{
 "cells": [
  {
   "cell_type": "markdown",
   "metadata": {},
   "source": [
    "Expression of type <a class=\"ProveItLink\" href=\"../../../../../../doc/html/api/proveit.logic.Equals.html\">Equals</a>\n",
    "=======================\n",
    "# from context <a class=\"ProveItLink\" href=\"../../_context_.ipynb\">proveit.number.addition</a>"
   ]
  },
  {
   "cell_type": "code",
   "execution_count": 1,
   "metadata": {},
   "outputs": [],
   "source": [
    "# import Expression classes needed to build the expression\n",
    "from proveit._common_ import a\n",
    "from proveit.logic import Equals\n",
    "from proveit.number import Add, zero"
   ]
  },
  {
   "cell_type": "code",
   "execution_count": 2,
   "metadata": {},
   "outputs": [
    {
     "data": {
      "text/html": [
       "<strong id=\"expr\">expr:</strong> <a class=\"ProveItLink\" href=\"expr.ipynb\"><img src=\"data:image/png;base64,iVBORw0KGgoAAAANSUhEUgAAAGMAAAAVBAMAAACgbk16AAAAMFBMVEX////c3NwiIiJERESqqqqY\n",
       "mJh2dnZmZmYQEBDu7u4yMjJUVFTMzMyIiIi6uroAAAAs73DqAAAAAXRSTlMAQObYZgAAATVJREFU\n",
       "OMtjYCAD8F3AJROHS+I0A8P0uzXYZNgP4NCykoFBj2ESVtkF2HXwXmDgVWDghcpORJELw66FYwID\n",
       "0wYGvo8Qni+K3AzsWl4xMPAXMPB8waaF2QGrljIGBvkEBp6/qFoY9+Y1MjCwFaAphggvhWj5hqrl\n",
       "hQDzBwYGFrAPq1aBwGqEcB82LYxfGdgNgFHWgGYJRPgfNodxf2BgAsYwzwdULVDhfxDvf4W4QAPi\n",
       "An4DhvkHMLVAhVsYQIHMghrI8hcY/BkmQB1WpAQCyghhUwZQVLIpoGiZ78Cwi+UAAyta9EOF04FM\n",
       "FYYZB1C0cAWwqLNhBjJU+BGQOT13DwNqiO29d/geUMkD9GgBC3MIIAsSlWBYE5B5b1HkcnEnfhyA\n",
       "E0fiZ5DGqYVbAIcEI86MfAe7MAABcVs5SUEBSwAAAABJRU5ErkJggg==\n",
       "\" style=\"display:inline;vertical-align:middle;\" /></a><br>"
      ],
      "text/plain": [
       "expr: (0 + a) = a"
      ]
     },
     "execution_count": 2,
     "metadata": {},
     "output_type": "execute_result"
    }
   ],
   "source": [
    "# build up the expression from sub-expressions\n",
    "expr = Equals(Add(zero, a), a)"
   ]
  },
  {
   "cell_type": "code",
   "execution_count": 3,
   "metadata": {},
   "outputs": [
    {
     "name": "stdout",
     "output_type": "stream",
     "text": [
      "Passed sanity check: built 'expr' is the same as the stored Expression.\n"
     ]
    }
   ],
   "source": [
    "# check that the built expression is the same as the stored expression\n",
    "%check_expr"
   ]
  },
  {
   "cell_type": "code",
   "execution_count": 4,
   "metadata": {},
   "outputs": [
    {
     "data": {
      "text/html": [
       "<table><tr><th>&nbsp;</th><th>core type</th><th>sub-expressions</th><th>expression</th></tr>\n",
       "<tr><td>0</td><td>Operation</td><td>operator:&nbsp;1<br>operands:&nbsp;2<br></td><td><a class=\"ProveItLink\" href=\"expr.ipynb\"><img src=\"data:image/png;base64,iVBORw0KGgoAAAANSUhEUgAAAGMAAAAVBAMAAACgbk16AAAAMFBMVEX////c3NwiIiJERESqqqqY\n",
       "mJh2dnZmZmYQEBDu7u4yMjJUVFTMzMyIiIi6uroAAAAs73DqAAAAAXRSTlMAQObYZgAAATVJREFU\n",
       "OMtjYCAD8F3AJROHS+I0A8P0uzXYZNgP4NCykoFBj2ESVtkF2HXwXmDgVWDghcpORJELw66FYwID\n",
       "0wYGvo8Qni+K3AzsWl4xMPAXMPB8waaF2QGrljIGBvkEBp6/qFoY9+Y1MjCwFaAphggvhWj5hqrl\n",
       "hQDzBwYGFrAPq1aBwGqEcB82LYxfGdgNgFHWgGYJRPgfNodxf2BgAsYwzwdULVDhfxDvf4W4QAPi\n",
       "An4DhvkHMLVAhVsYQIHMghrI8hcY/BkmQB1WpAQCyghhUwZQVLIpoGiZ78Cwi+UAAyta9EOF04FM\n",
       "FYYZB1C0cAWwqLNhBjJU+BGQOT13DwNqiO29d/geUMkD9GgBC3MIIAsSlWBYE5B5b1HkcnEnfhyA\n",
       "E0fiZ5DGqYVbAIcEI86MfAe7MAABcVs5SUEBSwAAAABJRU5ErkJggg==\n",
       "\" style=\"display:inline;vertical-align:middle;\" /></a></td></tr>\n",
       "<tr><td>1</td><td>Literal</td><td></td><td><a class=\"ProveItLink\" href=\"../../../../logic/equality/__pv_it/2fb26078095930560931daa0500ce419a39ea6cd0/expr.ipynb\"><img src=\"data:image/png;base64,iVBORw0KGgoAAAANSUhEUgAAAA4AAAAFBAMAAACHocAhAAAAFVBMVEX///9EREQiIiJUVFQyMjJm\n",
       "ZmYAAADubVkoAAAAAXRSTlMAQObYZgAAABRJREFUCNdjCHEBAWcGXCBICQQUAUpuAwlgGKrkAAAA\n",
       "AElFTkSuQmCC\n",
       "\" style=\"display:inline;vertical-align:middle;\" /></a></td></tr>\n",
       "<tr><td>2</td><td>ExprTuple</td><td>3, 7</td><td><a class=\"ProveItLink\" href=\"../f108b588bc2ac2084011a96eab232fc0ae3a5ca80/expr.ipynb\"><img src=\"data:image/png;base64,iVBORw0KGgoAAAANSUhEUgAAAE8AAAAVBAMAAAD1D64kAAAAMFBMVEX////c3NwiIiJERESqqqqY\n",
       "mJh2dnZmZmYQEBDu7u4yMjJUVFTMzMyIiIi6uroAAAAs73DqAAAAAXRSTlMAQObYZgAAATJJREFU\n",
       "KM+Nkz9Lw0AYh5+2afovSbs7tIOgk3Rx7xcQOzlKN6dKJwdxUHCW6tJuzeJgXJzFQsDRJR9AizqJ\n",
       "IKRg3RTviA130MTecDx574HL/d47WHo4wf/OrpweYPB0lC4WfDFdwQYXfrrpgh1gN7DdqHCeIO5A\n",
       "sU/2BmcaFbYSxCG8Q7WH9Zku5locQL2D9a2LmfH+iUpmj8tI/NLFt1ouVMlwOVskZmYUmio5x/ws\n",
       "2roSkg1UskIpysPMRPHQ89Y971pQtckoSvaPhHiKjMfQ46kHbNNXSGy9iQzcbGjiqMWt4ZdiIu+y\n",
       "J75WGfqaWG4bayajxpxkPK+iPujeoZ96PLmfMJzOifIzxZraAb0zL2oL8x116UMT2zF1o2uWNGKx\n",
       "JC/XSqJnx1SR/5dZ4ik8wi9Pelli6MDk9AAAAABJRU5ErkJggg==\n",
       "\" style=\"display:inline;vertical-align:middle;\" /></a></td></tr>\n",
       "<tr><td>3</td><td>Operation</td><td>operator:&nbsp;4<br>operands:&nbsp;5<br></td><td><a class=\"ProveItLink\" href=\"../d9335ebee10f69fb9dd7e42f15ab82a4a9e219bc0/expr.ipynb\"><img src=\"data:image/png;base64,iVBORw0KGgoAAAANSUhEUgAAAC8AAAAQBAMAAAB0JTvnAAAAMFBMVEX///9EREQQEBCYmJh2dnaq\n",
       "qqrc3NxUVFQyMjK6uroiIiLMzMyIiIhmZmbu7u4AAADSWfX9AAAAAXRSTlMAQObYZgAAAKJJREFU\n",
       "GNNjYHh75jYDVrCS4dUGbOI8Cxh4GiDMZygSXAUMnN8gzBgUCf4LDNxfsUnkOzBw/0GVYKvxVINI\n",
       "fEGVmJTA+AGbBNtnBl4BbEaxf2DgOgCx/DOQe6OjY1FHRzvIOQIM7zeAncuK6tz8AwzxDA9AHmRZ\n",
       "gCLxPoChghWoZSnDow0oEhwGrGtZgPRbn2oGVFfVnNx4EsWvMQw4wBxkDgCPYTJKCspNGgAAAABJ\n",
       "RU5ErkJggg==\n",
       "\" style=\"display:inline;vertical-align:middle;\" /></a></td></tr>\n",
       "<tr><td>4</td><td>Literal</td><td></td><td><a class=\"ProveItLink\" href=\"../3e6688136fa3c7aefbebe51301b7c3ebf0b69c440/expr.ipynb\"><img src=\"data:image/png;base64,iVBORw0KGgoAAAANSUhEUgAAAA4AAAAOBAMAAADtZjDiAAAAJFBMVEX///+6urpUVFQQEBAiIiIy\n",
       "MjJmZmaIiIiqqqrc3Nzu7u4AAACgHpL+AAAAAXRSTlMAQObYZgAAAB5JREFUCNdjYGBgWMkAAe2k\n",
       "0Kmhoc6hoUGk6BMHYgAHOwjcado9fwAAAABJRU5ErkJggg==\n",
       "\" style=\"display:inline;vertical-align:middle;\" /></a></td></tr>\n",
       "<tr><td>5</td><td>ExprTuple</td><td>6, 7</td><td><a class=\"ProveItLink\" href=\"../c29f24b52f5988bbe7662618b547266c6b4a34780/expr.ipynb\"><img src=\"data:image/png;base64,iVBORw0KGgoAAAANSUhEUgAAACsAAAAVBAMAAAAtAwouAAAAMFBMVEX////c3NwiIiJERESqqqqY\n",
       "mJh2dnZmZmYQEBDu7u4yMjJUVFTMzMyIiIi6uroAAAAs73DqAAAAAXRSTlMAQObYZgAAAQhJREFU\n",
       "GNN1kTFPAkEQhb+Du4OTO7jeAgoTO0Njzz/QitLQUWGorCw0sVZiAx3XWNhZG002sbS5HyDEWBmr\n",
       "g4Cdxp1bDBuMW0zmfZvMvjcL/5xqukmOpDzDcHJq45LS5Rb2uFY2TyBKiRpEiY3bUB5QuKM6s/EI\n",
       "PqDWJ1zYuNjiBOodwi8DnMfjc/D73Bj8afB7XMzATbi0sbOk1NRRzvi2h1QyCjpdmAmWJ5c5rjUZ\n",
       "qxxfIAZdY7CecsBAhuwjcfyGVjBuce8qvISuVjuMVDDXzdahu+vnBt+0GvYeCK5isT19murbV8rx\n",
       "74JjO7zXWfXeOnzPLHYDB7LO7ZVYf1JFxjl/Pu0FfgDZdz/J8XC74AAAAABJRU5ErkJggg==\n",
       "\" style=\"display:inline;vertical-align:middle;\" /></a></td></tr>\n",
       "<tr><td>6</td><td>Literal</td><td></td><td><a class=\"ProveItLink\" href=\"../../../numeral/__pv_it/ec23fc7a1b4222a5f4948b495002b97d6fa18c3c0/expr.ipynb\"><img src=\"data:image/png;base64,iVBORw0KGgoAAAANSUhEUgAAAAoAAAAOBAMAAADkjZCYAAAALVBMVEX///8QEBCYmJh2dnaqqqrc\n",
       "3NxUVFQyMjK6uroiIiLMzMyIiIhmZmbu7u4AAAAZjyHdAAAAAXRSTlMAQObYZgAAAEpJREFUCNdj\n",
       "YLiz+xQDA8MMhpsLGLgnMHAXMHAmMHA8ZeA7wMD1hCHOgIHrNZh8jES+Bss+AqlkeQrSxTyBgWEK\n",
       "w8UFDAx3rLMYAMCjFldHSx/9AAAAAElFTkSuQmCC\n",
       "\" style=\"display:inline;vertical-align:middle;\" /></a></td></tr>\n",
       "<tr><td>7</td><td>Variable</td><td></td><td><a class=\"ProveItLink\" href=\"../../../../__pv_it/07527342713064c87612d00d8557c53d53d5324a0/expr.ipynb\"><img src=\"data:image/png;base64,iVBORw0KGgoAAAANSUhEUgAAAAsAAAAJBAMAAAAWSsseAAAAMFBMVEX///8yMjKqqqrMzMzu7u4i\n",
       "IiJmZmaYmJhEREQQEBC6urp2dnaIiIhUVFTc3NwAAAD87Fq/AAAAAXRSTlMAQObYZgAAAEhJREFU\n",
       "CNdjYOC7s2seAwPDygccHxgY+L4zsDUwMPB+YGA9wMDA38Dgb8DA8P4Agz6DA4O/AsNFJgMGxgKm\n",
       "MG6gyjunLE4xAAAZTBA5TB6DCwAAAABJRU5ErkJggg==\n",
       "\" style=\"display:inline;vertical-align:middle;\" /></a></td></tr>\n",
       "</table>\n"
      ],
      "text/plain": [
       "0. (0 + a) = a\n",
       "   core type: Operation\n",
       "   operator: 1\n",
       "   operands: 2\n",
       "1. =\n",
       "   core type: Literal\n",
       "   sub-expressions: \n",
       "2. (0 + a , a)\n",
       "   core type: ExprTuple\n",
       "   sub-expressions: 3, 7\n",
       "3. 0 + a\n",
       "   core type: Operation\n",
       "   operator: 4\n",
       "   operands: 5\n",
       "4. +\n",
       "   core type: Literal\n",
       "   sub-expressions: \n",
       "5. (0 , a)\n",
       "   core type: ExprTuple\n",
       "   sub-expressions: 6, 7\n",
       "6. 0\n",
       "   core type: Literal\n",
       "   sub-expressions: \n",
       "7. a\n",
       "   core type: Variable\n",
       "   sub-expressions: "
      ]
     },
     "execution_count": 4,
     "metadata": {},
     "output_type": "execute_result"
    }
   ],
   "source": [
    "# display the expression information\n",
    "expr.exprInfo()"
   ]
  },
  {
   "cell_type": "code",
   "execution_count": null,
   "metadata": {},
   "outputs": [],
   "source": []
  }
 ],
 "metadata": {
  "kernelspec": {
   "display_name": "Python 3",
   "language": "python",
   "name": "python3"
  }
 },
 "nbformat": 4,
 "nbformat_minor": 0
}
