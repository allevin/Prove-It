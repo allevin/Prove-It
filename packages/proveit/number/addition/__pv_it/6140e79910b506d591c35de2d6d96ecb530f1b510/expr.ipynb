{
 "cells": [
  {
   "cell_type": "markdown",
   "metadata": {},
   "source": [
    "Expression of type <a class=\"ProveItLink\" href=\"../../../../../../doc/html/api/proveit.ExprTuple.html\">ExprTuple</a>\n",
    "=======================\n",
    "# from context <a class=\"ProveItLink\" href=\"../../_context_.ipynb\">proveit.number.addition</a>"
   ]
  },
  {
   "cell_type": "code",
   "execution_count": 1,
   "metadata": {},
   "outputs": [],
   "source": [
    "# import Expression classes needed to build the expression\n",
    "from proveit import ExprTuple\n",
    "from proveit._common_ import c\n",
    "from proveit.number import Add, one, three, two"
   ]
  },
  {
   "cell_type": "code",
   "execution_count": 2,
   "metadata": {},
   "outputs": [
    {
     "data": {
      "text/html": [
       "<strong id=\"expr\">expr:</strong> <a class=\"ProveItLink\" href=\"expr.ipynb\"><img src=\"data:image/png;base64,iVBORw0KGgoAAAANSUhEUgAAAd8AAAAVBAMAAAD1KvkNAAAAMFBMVEX////c3NwiIiJERESqqqqY\n",
       "mJh2dnZmZmYQEBDu7u4yMjJUVFTMzMyIiIi6uroAAAAs73DqAAAAAXRSTlMAQObYZgAAAz5JREFU\n",
       "WMPlWD9oE1Ec/i7/L8ml0cVBwU7i1g7t4GKzFQQxLg4OUhBSEItBsZEi2KFDFUxPBAk6NLQW6RU0\n",
       "TiIdmqkKHZpFULQ0dpKCtGotXKGJd0lT89797t6lBBV80Fzz8X3f7/fdvbt7L8B/N2Klf7usv9y+\n",
       "opfMjyXjz6uKqEdGTnPIYqpHWMDBd8l1l7ctyCnuu5SZ5s5KNHU5QaiCReM4C8h9osBSAausg5TG\n",
       "hugiOfnOug4c5oGHOgcchbLFXR/EdilVHlBKkOcXGo09sPQcrx0iKjybDCWwhY5OZ5GTr1Ky8m0A\n",
       "/wBr8mRe52ivgS4WuZbAdxapqy4AIbOn1UZjZ/nGfPXGQncRqTAU3+/AdiIn35BK8UlAHuVMFJ2j\n",
       "jatYKDPIuf3A+1Y1VQ5Yh5vAYR3BCk9pTOmDBF6H68DoEQV+oeJOmRM2pjQb2JvAMNmYnFopcg4e\n",
       "ne99Tiiy9x0m+Y+GPhHAoCiwMbpUDgkXqMCBNGbIxt6Ww52cw/IAS4leKQhF9r4zFD+axRQBnBEH\n",
       "jm5zyOIcqMC+PLJUY/J9eJOc57Rldr4vi0T2vlmKnyuhlwC+iAOHu3lEyVKBY6OoUI1FNi13U7Db\n",
       "Ejiki0T2vhWKv0ADy+LAN6yTfEIlAkc3mwOPaNpJTTPnQkc9XVDTpu5pWm3qfgRLkYrw/hSJbHzr\n",
       "ga38HzSwzJrsBW6uoxQ45BjQl+Q4e4HHqCtxvMSfa18ahxjKpF4P7CRy8B0j+NIuDYindD+keDMi\n",
       "V9VaYGpK91KNdRhklv8GOM9S8vB8E4hoX9n8r5fiGyfQTwAXRYGjafiZwNgxnttxIrA/X3/mW+61\n",
       "NALMG0M6kRpklxlKEhsDziIb30nTaJDivwKuEoDwtXQ4lbrOIu8Q27Z5La0Zh8zEsyTrObzygeF7\n",
       "qtUqt67qzzyFs8jGN2dOjDWKHxxaUQngOVsneGvnJqvrqla5dZUvM5LgvGuqcBkhZh1rv2iyp7Qs\n",
       "+mw+4eMHX1o61BEhuaaleW18FW9bLZSWRUlwZS18BgiU3NcRIUMt7dPaNZKtbQ8ft6+ynK9tJv/w\n",
       "UPb2sG7Hy/aVjpg3kvR3fuJxXVYptq+osRP5BWqWmzF06Zq7AAAAAElFTkSuQmCC\n",
       "\" style=\"display:inline;vertical-align:middle;\" /></a><br>"
      ],
      "text/plain": [
       "expr: (1 + c + 2 + 3 + c + 1 + c , (c + c + c) + 1 + 2 + 3 + 1)"
      ]
     },
     "execution_count": 2,
     "metadata": {},
     "output_type": "execute_result"
    }
   ],
   "source": [
    "# build up the expression from sub-expressions\n",
    "expr = ExprTuple(Add(one, c, two, three, c, one, c), Add(Add(c, c, c), one, two, three, one))"
   ]
  },
  {
   "cell_type": "code",
   "execution_count": 3,
   "metadata": {},
   "outputs": [
    {
     "name": "stdout",
     "output_type": "stream",
     "text": [
      "Passed sanity check: built 'expr' is the same as the stored Expression.\n"
     ]
    }
   ],
   "source": [
    "# check that the built expression is the same as the stored expression\n",
    "%check_expr"
   ]
  },
  {
   "cell_type": "code",
   "execution_count": 4,
   "metadata": {},
   "outputs": [
    {
     "data": {
      "text/html": [
       "<table><tr><th>&nbsp;</th><th>core type</th><th>sub-expressions</th><th>expression</th></tr>\n",
       "<tr><td>0</td><td>ExprTuple</td><td>1, 2</td><td><a class=\"ProveItLink\" href=\"expr.ipynb\"><img src=\"data:image/png;base64,iVBORw0KGgoAAAANSUhEUgAAAd8AAAAVBAMAAAD1KvkNAAAAMFBMVEX////c3NwiIiJERESqqqqY\n",
       "mJh2dnZmZmYQEBDu7u4yMjJUVFTMzMyIiIi6uroAAAAs73DqAAAAAXRSTlMAQObYZgAAAz5JREFU\n",
       "WMPlWD9oE1Ec/i7/L8ml0cVBwU7i1g7t4GKzFQQxLg4OUhBSEItBsZEi2KFDFUxPBAk6NLQW6RU0\n",
       "TiIdmqkKHZpFULQ0dpKCtGotXKGJd0lT89797t6lBBV80Fzz8X3f7/fdvbt7L8B/N2Klf7usv9y+\n",
       "opfMjyXjz6uKqEdGTnPIYqpHWMDBd8l1l7ctyCnuu5SZ5s5KNHU5QaiCReM4C8h9osBSAausg5TG\n",
       "hugiOfnOug4c5oGHOgcchbLFXR/EdilVHlBKkOcXGo09sPQcrx0iKjybDCWwhY5OZ5GTr1Ky8m0A\n",
       "/wBr8mRe52ivgS4WuZbAdxapqy4AIbOn1UZjZ/nGfPXGQncRqTAU3+/AdiIn35BK8UlAHuVMFJ2j\n",
       "jatYKDPIuf3A+1Y1VQ5Yh5vAYR3BCk9pTOmDBF6H68DoEQV+oeJOmRM2pjQb2JvAMNmYnFopcg4e\n",
       "ne99Tiiy9x0m+Y+GPhHAoCiwMbpUDgkXqMCBNGbIxt6Ww52cw/IAS4leKQhF9r4zFD+axRQBnBEH\n",
       "jm5zyOIcqMC+PLJUY/J9eJOc57Rldr4vi0T2vlmKnyuhlwC+iAOHu3lEyVKBY6OoUI1FNi13U7Db\n",
       "Ejiki0T2vhWKv0ADy+LAN6yTfEIlAkc3mwOPaNpJTTPnQkc9XVDTpu5pWm3qfgRLkYrw/hSJbHzr\n",
       "ga38HzSwzJrsBW6uoxQ45BjQl+Q4e4HHqCtxvMSfa18ahxjKpF4P7CRy8B0j+NIuDYindD+keDMi\n",
       "V9VaYGpK91KNdRhklv8GOM9S8vB8E4hoX9n8r5fiGyfQTwAXRYGjafiZwNgxnttxIrA/X3/mW+61\n",
       "NALMG0M6kRpklxlKEhsDziIb30nTaJDivwKuEoDwtXQ4lbrOIu8Q27Z5La0Zh8zEsyTrObzygeF7\n",
       "qtUqt67qzzyFs8jGN2dOjDWKHxxaUQngOVsneGvnJqvrqla5dZUvM5LgvGuqcBkhZh1rv2iyp7Qs\n",
       "+mw+4eMHX1o61BEhuaaleW18FW9bLZSWRUlwZS18BgiU3NcRIUMt7dPaNZKtbQ8ft6+ynK9tJv/w\n",
       "UPb2sG7Hy/aVjpg3kvR3fuJxXVYptq+osRP5BWqWmzF06Zq7AAAAAElFTkSuQmCC\n",
       "\" style=\"display:inline;vertical-align:middle;\" /></a></td></tr>\n",
       "<tr><td>1</td><td>Operation</td><td>operator:&nbsp;9<br>operands:&nbsp;3<br></td><td><a class=\"ProveItLink\" href=\"../7c4ebe32948f91a2bb66560fce7b4951538416d70/expr.ipynb\"><img src=\"data:image/png;base64,iVBORw0KGgoAAAANSUhEUgAAANwAAAAQBAMAAACPXgx9AAAAMFBMVEX////MzMx2dna6uroiIiKq\n",
       "qqrc3NyYmJgyMjIQEBBmZmaIiIhUVFTu7u5EREQAAACN3imBAAAAAXRSTlMAQObYZgAAAVZJREFU\n",
       "OMtjYGB4y0AAsK3qM0AVYVTSCyCkC4e59/4S0pfDwP0VVSSLgfk3IV3Yzb1zBibMm4Audw1CnWVg\n",
       "8EdVoh/A8IWAJlzmcsOEWTeg64yGUDMvMJw3QFESD7cOpyZc5hK2rv8Cw3oDNCWwwKSCdZe0N6Lq\n",
       "BAbmBTSdHAcIacJhLoYw42SGFjTrGD+h6RTqIagJh7kYwjc3MDxHs47jAXq4cE8mpAmHuRjC5zGi\n",
       "gWEdZjTMv0BAEw5zIcJcHR0tMzo6QDHyDyK7oqPDs6MDHGjcB9CUJDIwvC8gpAm7ueiuYPuN4dAo\n",
       "BrYEZCW8/y+ArcOrCYe5GJ7+zsDAjqKTcQEDO4p1DD+AaTUBvyZc5mIIn2JgUETRmaKktARVyXYG\n",
       "5k8ENOEwl2vlj+Wowlzauy+g6PT//x+tDGFdtSKAgCZ85hIoIPAoIUsTpFzCELYmrIRETQDkVLLx\n",
       "V78j4wAAAABJRU5ErkJggg==\n",
       "\" style=\"display:inline;vertical-align:middle;\" /></a></td></tr>\n",
       "<tr><td>2</td><td>Operation</td><td>operator:&nbsp;9<br>operands:&nbsp;4<br></td><td><a class=\"ProveItLink\" href=\"../b66bc4852007f37fee3d0c108ee15a74858c58600/expr.ipynb\"><img src=\"data:image/png;base64,iVBORw0KGgoAAAANSUhEUgAAAOoAAAAVBAMAAAC6fm+xAAAAMFBMVEX////c3NwiIiJERESqqqqY\n",
       "mJh2dnZmZmYQEBDu7u4yMjJUVFTMzMyIiIi6uroAAAAs73DqAAAAAXRSTlMAQObYZgAAAeVJREFU\n",
       "SMdjYBgYwHeBSIWsD6ho62miVdZgiFii8RnLF6M5jSct2QGbrpVE28qFLjD5J5qANAPvF1QRcQa+\n",
       "v1h08SIHMKcAmgoUAdYEKGMihJq9+yeasp0MDPqoIvkODJ9QRcC6OCYgmcuCHscoApwNUIYvlOb9\n",
       "iaasYwLD/gcoIv5wW+FGgXS9YiDaVgYTQraun8BQ/wBNIyyEUWwtA3ki7e4BVJlpuXewCKQTshUI\n",
       "9CegiXBtwGLrUiB94gGXAooMTx/DIiwCXoRt5fmGJnJsNQMWW/uAXu1lYA5AkZlxgcEUi8ALwrZy\n",
       "GaCL8PZhsfUfAwP3B/Ro3I9d4DxhW4sxw7x/AlZb+SHuY1+1alHXqlWgaPiMXQBsa9WqVRqrVq1G\n",
       "2IqkjIF3A5qIDAODfQCaGqCuFgYG+QtoXmP8i12AcAi7MzAKIItw/p8AthXdr8Do4gcKo8p8BRYJ\n",
       "WASiCNnKU8DAimIrwy9gqhbAtBWYG7gLGNhQc852BoYcLAIEc45QWloRqshVBr5vWFLTIyBddvcm\n",
       "qgx77t0JWATWodrKXvGrFFWf/v//aCURS3mVA5rZIF0cAuSXiLj1ERKBF+lY61oUATYY5y3hOpqQ\n",
       "CPE13Swq1urSRKvcSEVbGYltwfAeoJqdAMzkz2Kqpo8dAAAAAElFTkSuQmCC\n",
       "\" style=\"display:inline;vertical-align:middle;\" /></a></td></tr>\n",
       "<tr><td>3</td><td>ExprTuple</td><td>8, 11, 6, 7, 11, 8, 11</td><td><a class=\"ProveItLink\" href=\"../e4df7873210dd6984adcebc5c684ceeafa4f3d7f0/expr.ipynb\"><img src=\"data:image/png;base64,iVBORw0KGgoAAAANSUhEUgAAAIgAAAAVBAMAAABvbLv8AAAAMFBMVEX////c3NwiIiJERESqqqqY\n",
       "mJh2dnZmZmYQEBDu7u4yMjJUVFTMzMyIiIi6uroAAAAs73DqAAAAAXRSTlMAQObYZgAAAbdJREFU\n",
       "OMutlDFMwkAYhR8IQoESnBh0YHLVQQcXZXYRVycSE1gkuiiGODi4uEATE0N0MNEYY0wMTg4MOOng\n",
       "QBcnNagTcVKJJpBAvV7b6/UwXbDJ9d691/vS63894F+uqDrYfP8Lud2TNqSIUbwwa4hIZjnZN3GG\n",
       "H2yRdg5IcyLEU0HDmBtHtCsy9tr8KATIKqRqTYSEFXg/qFpN4ksID6sOiD+NoD6/IUKCuwj3qFro\n",
       "h0B2QKRtvOMvSKiNQM/68l13CKaw4YDs556syGs9GaqIoQ2hVhanPCRSxLGV19NGf3sBMWQQw5pH\n",
       "kYeUVUxbkBP28kUxZBDDaqLHQ2r2QgOTTJYUIWQQw6o7IS0b8mj2Y8BcSggZpGVCdjiIx66Dbw0j\n",
       "tH6aYkK40IKYVtNYpg7ROd9k61CBO2CRqg4wEZPgCHWIbWGJ1MeASPqWugZWqPCMZ7IJqh4Q/cFR\n",
       "gg8phFl6id+IzpfOUlIpRr5m7lmhwqtpWoIqX76QRPkTXBjY7KzbFnCJYMzamH2CU68uFtn2/rT1\n",
       "H0EUnEq5WMMqPQoGgxyQNmpqdsDZJx1Tspt1pRdiwONRvsEvn6yVh90wGKIAAAAASUVORK5CYII=\n",
       "\" style=\"display:inline;vertical-align:middle;\" /></a></td></tr>\n",
       "<tr><td>4</td><td>ExprTuple</td><td>5, 8, 6, 7, 8</td><td><a class=\"ProveItLink\" href=\"../ccae8a6c71d7183b517610dadd1916296e9477190/expr.ipynb\"><img src=\"data:image/png;base64,iVBORw0KGgoAAAANSUhEUgAAAKcAAAAVBAMAAADROuOhAAAAMFBMVEX////c3NwiIiJERESqqqqY\n",
       "mJh2dnZmZmYQEBDu7u4yMjJUVFTMzMyIiIi6uroAAAAs73DqAAAAAXRSTlMAQObYZgAAAelJREFU\n",
       "OMu1lTlIA0EUhv+cm03MYWVh4VZiaaGFjdhZCbGxlFQJCEIaD1JZ2Ch4YSNYGDwK1ya9TSoVLEyp\n",
       "aDBaCmIiWsTCODM7OzO7K5KIbrHv53/7vsw83kyAf3kSlb/lTdPXZYdFIzz2FEa5OssOKUmtTOJx\n",
       "Z8ztphV9JdyPWSqPl4qSLAJxdfdbboSechm7pxwa24S/zlT4DUlDSU4BkU2lZMINDXoaHufQyApi\n",
       "n9Y3Amold4An/A4abUL7tE17+ywZGMM83WS2WnZAhWFDhSGg5PELeaL+YjiPIxIualHDARWGDRWG\n",
       "Cr3KWLFrpqRCg0Wsk2WsIZBWodLgUGmo0AOhrmtKMrEE0pdY3dVTaXCoNBSoNijMSFNJdtUpNGll\n",
       "C6Y5YJq0PdzQTHN/1TRLwnBCb3n0lRF4d0KXgb6Ka6XS4CuVhoQG8+hmYq/phJLtD5N1kHY5eioN\n",
       "DmWGLuqYOgcmQYc8WYS/wZQFDRWRIx3LI+wYKWnYPaXGnmHXUeXrz+YM/ZU6abxkmBIj9UjCfPXG\n",
       "OfzCsEeKGjsN2ufFjzmm/K1Wy9A36DEeXzgEUyyJaA2RVNsn6sGrEimvIsc0lFHKnn+8bNNeFYJX\n",
       "zXZ09bUH1cnVh952mfFvVMWrYrQPvj/+O7kDvgDrAaXsDJZ9gQAAAABJRU5ErkJggg==\n",
       "\" style=\"display:inline;vertical-align:middle;\" /></a></td></tr>\n",
       "<tr><td>5</td><td>Operation</td><td>operator:&nbsp;9<br>operands:&nbsp;10<br></td><td><a class=\"ProveItLink\" href=\"../794b7170b8a2a7f3a9488eaf29c486ed5d13a4530/expr.ipynb\"><img src=\"data:image/png;base64,iVBORw0KGgoAAAANSUhEUgAAAE4AAAAOBAMAAABz3DdCAAAAMFBMVEX///+qqqpmZmbc3NxUVFSY\n",
       "mJhEREQiIiIyMjK6uroQEBDMzMyIiIh2dnbu7u4AAAA4MM1YAAAAAXRSTlMAQObYZgAAALFJREFU\n",
       "KM9jYICDxwxogM+AARuQQRdgPECOOr67ZzagqIMLwNW9vXOagWHXBI4CFHVwAZg67pUM7Qx8axjY\n",
       "ApDVIQRg6l4dYEhlYPmA5j6EAEydP4jgTwCzNTo6qjo6WhACTB0d7Ss6OhyAzG8gvv0BNPMQAlDz\n",
       "mP+AzQO6BcV9CAGYvV8ZGFgZWBQYeFHCBSEAU+fEwHCbgUH3zDnUcIYLwNQx3TnzgIx4m4MuwImk\n",
       "DgDaMTWEahh+dwAAAABJRU5ErkJggg==\n",
       "\" style=\"display:inline;vertical-align:middle;\" /></a></td></tr>\n",
       "<tr><td>6</td><td>Literal</td><td></td><td><a class=\"ProveItLink\" href=\"../../../numeral/__pv_it/77d407a64829263cdc16415becd4c2293f77a4bf0/expr.ipynb\"><img src=\"data:image/png;base64,iVBORw0KGgoAAAANSUhEUgAAAAkAAAAOBAMAAAAPuiubAAAAMFBMVEX///+YmJh2dnbMzMwQEBAi\n",
       "IiLu7u6qqqqIiIhUVFS6urpEREQyMjJmZmbc3NwAAACOMKdoAAAAAXRSTlMAQObYZgAAAFBJREFU\n",
       "CNdj4Lt7egEDw0sGju8MDNMYGOIZGFwSGOYvYDifwHAfKAEUSQASzJ9ATJ4NIPI2iOCYACJrGfge\n",
       "MDBfYGB8wPBUSekqUPH//18ZAIliFhc3zESNAAAAAElFTkSuQmCC\n",
       "\" style=\"display:inline;vertical-align:middle;\" /></a></td></tr>\n",
       "<tr><td>7</td><td>Literal</td><td></td><td><a class=\"ProveItLink\" href=\"../../../numeral/__pv_it/9176d93c83afa2c995b614976e3cb49207102fa70/expr.ipynb\"><img src=\"data:image/png;base64,iVBORw0KGgoAAAANSUhEUgAAAAoAAAAOBAMAAADkjZCYAAAAMFBMVEX///+YmJju7u4QEBBUVFQy\n",
       "MjIiIiKIiIi6urpmZmbc3NyqqqpERER2dnbMzMwAAAB0GlNiAAAAAXRSTlMAQObYZgAAAE1JREFU\n",
       "CNdjYHh79zQDA9cEhv4CBt7fDPwJDNxgEgiAIkAQAsR8Vx1ATIbiBhDJ/ImB6wEDz0cG/U8gkj+A\n",
       "ge0XA7sAQ/8FBoadM6MZAEflFACalZ/OAAAAAElFTkSuQmCC\n",
       "\" style=\"display:inline;vertical-align:middle;\" /></a></td></tr>\n",
       "<tr><td>8</td><td>Literal</td><td></td><td><a class=\"ProveItLink\" href=\"../../../numeral/__pv_it/9be8badea4c35b9724062cecc501d17a3158d1d20/expr.ipynb\"><img src=\"data:image/png;base64,iVBORw0KGgoAAAANSUhEUgAAAAgAAAAPBAMAAAArJJMAAAAAHlBMVEX///+YmJgyMjIQEBBmZmaI\n",
       "iIhUVFTu7u5EREQAAAAw+MI4AAAAAXRSTlMAQObYZgAAACFJREFUCNdjYGBoZ2BgqJjOwFCWBiQY\n",
       "WEklWJwnOTKAAACjEQo8HvEr3AAAAABJRU5ErkJggg==\n",
       "\" style=\"display:inline;vertical-align:middle;\" /></a></td></tr>\n",
       "<tr><td>9</td><td>Literal</td><td></td><td><a class=\"ProveItLink\" href=\"../3e6688136fa3c7aefbebe51301b7c3ebf0b69c440/expr.ipynb\"><img src=\"data:image/png;base64,iVBORw0KGgoAAAANSUhEUgAAAA4AAAAOBAMAAADtZjDiAAAAJFBMVEX///+6urpUVFQQEBAiIiIy\n",
       "MjJmZmaIiIiqqqrc3Nzu7u4AAACgHpL+AAAAAXRSTlMAQObYZgAAAB5JREFUCNdjYGBgWMkAAe2k\n",
       "0Kmhoc6hoUGk6BMHYgAHOwjcado9fwAAAABJRU5ErkJggg==\n",
       "\" style=\"display:inline;vertical-align:middle;\" /></a></td></tr>\n",
       "<tr><td>10</td><td>ExprTuple</td><td>11, 11, 11</td><td><a class=\"ProveItLink\" href=\"../86a607d788a57bb994e75964e5003873eaa726b10/expr.ipynb\"><img src=\"data:image/png;base64,iVBORw0KGgoAAAANSUhEUgAAADkAAAAVBAMAAAAOWFv7AAAAMFBMVEX////c3NwiIiJERESqqqqY\n",
       "mJh2dnZmZmYQEBDu7u4yMjJUVFTMzMyIiIi6uroAAAAs73DqAAAAAXRSTlMAQObYZgAAANZJREFU\n",
       "KM9jYMAP+C7gkIgDEadxaWM/ACRW4jR1AQMD7wWcsmEMDBwTcMrOYGB4hdu9zA4MZUCKM+3uATAf\n",
       "lcFWwLAUyD7xgEsBLIjKYFnA0AdU2MvAHADWgcrga2D4x8DA/QFqERqD5wNIlt8AKojGAMq2MDDI\n",
       "w7yMxgCabApUCbQrgJMBncHAuoAhHWhLAQPbgfkK6AyQjx4BlZbdvckw4yM6g4HrAQOHANSuhwzo\n",
       "DGBIsiZA2QEM6IxcpBjEkOUExiCDNITNC5OEM7hBdjLiiuA7DAwAx3NBG0TfR+4AAAAASUVORK5C\n",
       "YII=\n",
       "\" style=\"display:inline;vertical-align:middle;\" /></a></td></tr>\n",
       "<tr><td>11</td><td>Variable</td><td></td><td><a class=\"ProveItLink\" href=\"../../../../__pv_it/cbdfda466482236edba0ce44ac7ef39cda0af7a40/expr.ipynb\"><img src=\"data:image/png;base64,iVBORw0KGgoAAAANSUhEUgAAAAkAAAAJBAMAAAASvxsjAAAALVBMVEX///9mZmbc3NxUVFSYmJhE\n",
       "REQiIiIyMjK6uroQEBDMzMyIiIh2dnbu7u4AAABgFDGoAAAAAXRSTlMAQObYZgAAADZJREFUCNdj\n",
       "YOA9s3sBA8PKBvYEBt7ZDKwODMwPGICALwBE6m0Asx0YGIDiAgw8QJUyu/cyAAAmuwmycZ8WfQAA\n",
       "AABJRU5ErkJggg==\n",
       "\" style=\"display:inline;vertical-align:middle;\" /></a></td></tr>\n",
       "</table>\n"
      ],
      "text/plain": [
       "0. (1 + c + 2 + 3 + c + 1 + c , (c + c + c) + 1 + 2 + 3 + 1)\n",
       "   core type: ExprTuple\n",
       "   sub-expressions: 1, 2\n",
       "1. 1 + c + 2 + 3 + c + 1 + c\n",
       "   core type: Operation\n",
       "   operator: 9\n",
       "   operands: 3\n",
       "2. (c + c + c) + 1 + 2 + 3 + 1\n",
       "   core type: Operation\n",
       "   operator: 9\n",
       "   operands: 4\n",
       "3. (1 , c , 2 , 3 , c , 1 , c)\n",
       "   core type: ExprTuple\n",
       "   sub-expressions: 8, 11, 6, 7, 11, 8, 11\n",
       "4. (c + c + c , 1 , 2 , 3 , 1)\n",
       "   core type: ExprTuple\n",
       "   sub-expressions: 5, 8, 6, 7, 8\n",
       "5. c + c + c\n",
       "   core type: Operation\n",
       "   operator: 9\n",
       "   operands: 10\n",
       "6. 2\n",
       "   core type: Literal\n",
       "   sub-expressions: \n",
       "7. 3\n",
       "   core type: Literal\n",
       "   sub-expressions: \n",
       "8. 1\n",
       "   core type: Literal\n",
       "   sub-expressions: \n",
       "9. +\n",
       "   core type: Literal\n",
       "   sub-expressions: \n",
       "10. (c , c , c)\n",
       "    core type: ExprTuple\n",
       "    sub-expressions: 11, 11, 11\n",
       "11. c\n",
       "    core type: Variable\n",
       "    sub-expressions: "
      ]
     },
     "execution_count": 4,
     "metadata": {},
     "output_type": "execute_result"
    }
   ],
   "source": [
    "# display the expression information\n",
    "expr.exprInfo()"
   ]
  },
  {
   "cell_type": "code",
   "execution_count": null,
   "metadata": {},
   "outputs": [],
   "source": []
  }
 ],
 "metadata": {
  "kernelspec": {
   "display_name": "Python 3",
   "language": "python",
   "name": "python3"
  }
 },
 "nbformat": 4,
 "nbformat_minor": 0
}
