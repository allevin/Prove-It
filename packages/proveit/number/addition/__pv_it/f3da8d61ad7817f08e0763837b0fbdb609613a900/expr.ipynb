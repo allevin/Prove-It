{
 "cells": [
  {
   "cell_type": "markdown",
   "metadata": {},
   "source": [
    "Expression of type <a class=\"ProveItLink\" href=\"../../../../../../doc/html/api/proveit.ExprTuple.html\">ExprTuple</a>\n",
    "=======================\n",
    "# from context <a class=\"ProveItLink\" href=\"../../_context_.ipynb\">proveit.number.addition</a>"
   ]
  },
  {
   "cell_type": "code",
   "execution_count": 1,
   "metadata": {},
   "outputs": [],
   "source": [
    "# import Expression classes needed to build the expression\n",
    "from proveit import ExprTuple\n",
    "from proveit._common_ import b\n",
    "from proveit.number import Add, zero"
   ]
  },
  {
   "cell_type": "code",
   "execution_count": 2,
   "metadata": {},
   "outputs": [
    {
     "data": {
      "text/html": [
       "<strong id=\"expr\">expr:</strong> <a class=\"ProveItLink\" href=\"expr.ipynb\"><img src=\"data:image/png;base64,iVBORw0KGgoAAAANSUhEUgAAAEsAAAAVBAMAAAD85A5eAAAAMFBMVEX////c3NwiIiJERESqqqqY\n",
       "mJh2dnZmZmYQEBDu7u4yMjJUVFTMzMyIiIi6uroAAAAs73DqAAAAAXRSTlMAQObYZgAAAT1JREFU\n",
       "KM+Nkr9Lw0AUx7/WtEnaJHV3MIODk5t7/oFCJ0cJLk6FLDqIoIM4SnRpN29xMF2yCA4Kt7v0D7Cg\n",
       "joLU4g9wUHxHkuYdtNQbwue99wl3fO+Afy5vMM/YUp97oDs80Af2jc/AlERXwDrOpe7VUw4CcAdw\n",
       "fbgi657l02bAYROwYlRSeOOs28qno5hDD3ihPyI4H7q2DQ6LAfaAlRDOj671h9cMahEuM+1L0+x3\n",
       "NGUJhsDpNM34hhWW4B3hd9qmplAHnoDzpjQFn9TbT5K1JOkTVSKM2pgAacdQgRh6IJTWYVwCbboB\n",
       "FW/N1zWJE9gFoCqwQ8UqelLTGoGZ4sLPQQXyTN1u5xZ6IHe7lP04B9QfYS3xK2/x4qkAuqxqyCev\n",
       "vGgX0Mke0oxVaLZ6PsuzLLeAhjrXwtxH/gD8AQmZWxpyxKKEAAAAAElFTkSuQmCC\n",
       "\" style=\"display:inline;vertical-align:middle;\" /></a><br>"
      ],
      "text/plain": [
       "expr: (0 + b , b)"
      ]
     },
     "execution_count": 2,
     "metadata": {},
     "output_type": "execute_result"
    }
   ],
   "source": [
    "# build up the expression from sub-expressions\n",
    "expr = ExprTuple(Add(zero, b), b)"
   ]
  },
  {
   "cell_type": "code",
   "execution_count": 3,
   "metadata": {},
   "outputs": [
    {
     "name": "stdout",
     "output_type": "stream",
     "text": [
      "Passed sanity check: built 'expr' is the same as the stored Expression.\n"
     ]
    }
   ],
   "source": [
    "# check that the built expression is the same as the stored expression\n",
    "%check_expr"
   ]
  },
  {
   "cell_type": "code",
   "execution_count": 4,
   "metadata": {},
   "outputs": [
    {
     "data": {
      "text/html": [
       "<table><tr><th>&nbsp;</th><th>core type</th><th>sub-expressions</th><th>expression</th></tr>\n",
       "<tr><td>0</td><td>ExprTuple</td><td>1, 5</td><td><a class=\"ProveItLink\" href=\"expr.ipynb\"><img src=\"data:image/png;base64,iVBORw0KGgoAAAANSUhEUgAAAEsAAAAVBAMAAAD85A5eAAAAMFBMVEX////c3NwiIiJERESqqqqY\n",
       "mJh2dnZmZmYQEBDu7u4yMjJUVFTMzMyIiIi6uroAAAAs73DqAAAAAXRSTlMAQObYZgAAAT1JREFU\n",
       "KM+Nkr9Lw0AUx7/WtEnaJHV3MIODk5t7/oFCJ0cJLk6FLDqIoIM4SnRpN29xMF2yCA4Kt7v0D7Cg\n",
       "joLU4g9wUHxHkuYdtNQbwue99wl3fO+Afy5vMM/YUp97oDs80Af2jc/AlERXwDrOpe7VUw4CcAdw\n",
       "fbgi657l02bAYROwYlRSeOOs28qno5hDD3ihPyI4H7q2DQ6LAfaAlRDOj671h9cMahEuM+1L0+x3\n",
       "NGUJhsDpNM34hhWW4B3hd9qmplAHnoDzpjQFn9TbT5K1JOkTVSKM2pgAacdQgRh6IJTWYVwCbboB\n",
       "FW/N1zWJE9gFoCqwQ8UqelLTGoGZ4sLPQQXyTN1u5xZ6IHe7lP04B9QfYS3xK2/x4qkAuqxqyCev\n",
       "vGgX0Mke0oxVaLZ6PsuzLLeAhjrXwtxH/gD8AQmZWxpyxKKEAAAAAElFTkSuQmCC\n",
       "\" style=\"display:inline;vertical-align:middle;\" /></a></td></tr>\n",
       "<tr><td>1</td><td>Operation</td><td>operator:&nbsp;2<br>operands:&nbsp;3<br></td><td><a class=\"ProveItLink\" href=\"../e971d3ab0e42821517884b0dfda5544f37a00ac00/expr.ipynb\"><img src=\"data:image/png;base64,iVBORw0KGgoAAAANSUhEUgAAAC0AAAAQBAMAAABw0OvaAAAAMFBMVEX///9EREQQEBCYmJh2dnaq\n",
       "qqrc3NxUVFQyMjK6uroiIiLMzMyIiIhmZmbu7u4AAADSWfX9AAAAAXRSTlMAQObYZgAAAKtJREFU\n",
       "GNNjYHh75jYDCuArWgCiVjK82oAqwVEAJHgWMPA0QPjPoOL8AUCCq4CB8xuEHwMVn/8AJHmBgfsr\n",
       "qrgXiMh3YOD+gyrefqYYIv4FRZzvIwP/BizirP8YmBywmMPbALIUZO9nIO9GR8eijo52kAsvMMw3\n",
       "ALmTFdWdQOfffwDyF8sCVPENDCpAainDow0o4uwBvKCAeOtTzYDqzprLqOEVw4AdzEFiAwAeyTMk\n",
       "bMbipQAAAABJRU5ErkJggg==\n",
       "\" style=\"display:inline;vertical-align:middle;\" /></a></td></tr>\n",
       "<tr><td>2</td><td>Literal</td><td></td><td><a class=\"ProveItLink\" href=\"../3e6688136fa3c7aefbebe51301b7c3ebf0b69c440/expr.ipynb\"><img src=\"data:image/png;base64,iVBORw0KGgoAAAANSUhEUgAAAA4AAAAOBAMAAADtZjDiAAAAJFBMVEX///+6urpUVFQQEBAiIiIy\n",
       "MjJmZmaIiIiqqqrc3Nzu7u4AAACgHpL+AAAAAXRSTlMAQObYZgAAAB5JREFUCNdjYGBgWMkAAe2k\n",
       "0Kmhoc6hoUGk6BMHYgAHOwjcado9fwAAAABJRU5ErkJggg==\n",
       "\" style=\"display:inline;vertical-align:middle;\" /></a></td></tr>\n",
       "<tr><td>3</td><td>ExprTuple</td><td>4, 5</td><td><a class=\"ProveItLink\" href=\"../33c6f7d849f43e3aaaefc06502585c400e8a52840/expr.ipynb\"><img src=\"data:image/png;base64,iVBORw0KGgoAAAANSUhEUgAAACkAAAAVBAMAAAAp9toTAAAAMFBMVEX////c3NwiIiJERESqqqqY\n",
       "mJh2dnZmZmYQEBDu7u4yMjJUVFTMzMyIiIi6uroAAAAs73DqAAAAAXRSTlMAQObYZgAAAQxJREFU\n",
       "GNNtka9Pw1AUhT9Gu7Zs7eYRVKBx+P4JKCRpMKglNaCWgCBIaDCbrEEQTA0JApJ6zP4AlhAkZhu/\n",
       "kgkI9/aty1ioODn3S3PfeefB/18wWAJ7Ko/QG3YN8O5CcApx17DFZWHwWi6SgT/AD/EzQ1uRyC64\n",
       "KbWcYGLoKBXpw6v8kND8MHRfZTXiCDZimt+G3gxvoZ5wZeiXyfBOq8DKOF+k1hQ3JjjhZ3GDk5WH\n",
       "jJWq+SxpLWG0o/QUTWZNqrjHqW7YRm9RD9GkctQZ2BkHMmzSL7w3MY3IyctkLzL0Ovd4F21J9nCo\n",
       "ZTzjtqtGK6M3tuOZt+cFd0yTf6mn/a3PhvmTNHTVyvILPcEvHstApWYt94YAAAAASUVORK5CYII=\n",
       "\" style=\"display:inline;vertical-align:middle;\" /></a></td></tr>\n",
       "<tr><td>4</td><td>Literal</td><td></td><td><a class=\"ProveItLink\" href=\"../../../numeral/__pv_it/ec23fc7a1b4222a5f4948b495002b97d6fa18c3c0/expr.ipynb\"><img src=\"data:image/png;base64,iVBORw0KGgoAAAANSUhEUgAAAAoAAAAOBAMAAADkjZCYAAAALVBMVEX///8QEBCYmJh2dnaqqqrc\n",
       "3NxUVFQyMjK6uroiIiLMzMyIiIhmZmbu7u4AAAAZjyHdAAAAAXRSTlMAQObYZgAAAEpJREFUCNdj\n",
       "YLiz+xQDA8MMhpsLGLgnMHAXMHAmMHA8ZeA7wMD1hCHOgIHrNZh8jES+Bss+AqlkeQrSxTyBgWEK\n",
       "w8UFDAx3rLMYAMCjFldHSx/9AAAAAElFTkSuQmCC\n",
       "\" style=\"display:inline;vertical-align:middle;\" /></a></td></tr>\n",
       "<tr><td>5</td><td>Variable</td><td></td><td><a class=\"ProveItLink\" href=\"../../../../__pv_it/6840a4fa6c106149dc16a131294d0c5e44f1b0480/expr.ipynb\"><img src=\"data:image/png;base64,iVBORw0KGgoAAAANSUhEUgAAAAkAAAAOBAMAAAAPuiubAAAALVBMVEX///9mZmbMzMxERESYmJiI\n",
       "iIh2dna6urqqqqoyMjIiIiIQEBBUVFTu7u4AAAD9S1JeAAAAAXRSTlMAQObYZgAAAE1JREFUCNdj\n",
       "4D29gAEIOA+ASL4GEFl3AURmgQiGOaFHGBh4HzPwKTBwvGXgTmBgnMDAJ8DAJcBQ5wBSLncBJLWN\n",
       "gYGngRFoBO9REQYGAGrcDtUkVqASAAAAAElFTkSuQmCC\n",
       "\" style=\"display:inline;vertical-align:middle;\" /></a></td></tr>\n",
       "</table>\n"
      ],
      "text/plain": [
       "0. (0 + b , b)\n",
       "   core type: ExprTuple\n",
       "   sub-expressions: 1, 5\n",
       "1. 0 + b\n",
       "   core type: Operation\n",
       "   operator: 2\n",
       "   operands: 3\n",
       "2. +\n",
       "   core type: Literal\n",
       "   sub-expressions: \n",
       "3. (0 , b)\n",
       "   core type: ExprTuple\n",
       "   sub-expressions: 4, 5\n",
       "4. 0\n",
       "   core type: Literal\n",
       "   sub-expressions: \n",
       "5. b\n",
       "   core type: Variable\n",
       "   sub-expressions: "
      ]
     },
     "execution_count": 4,
     "metadata": {},
     "output_type": "execute_result"
    }
   ],
   "source": [
    "# display the expression information\n",
    "expr.exprInfo()"
   ]
  },
  {
   "cell_type": "code",
   "execution_count": null,
   "metadata": {},
   "outputs": [],
   "source": []
  }
 ],
 "metadata": {
  "kernelspec": {
   "display_name": "Python 3",
   "language": "python",
   "name": "python3"
  }
 },
 "nbformat": 4,
 "nbformat_minor": 0
}
