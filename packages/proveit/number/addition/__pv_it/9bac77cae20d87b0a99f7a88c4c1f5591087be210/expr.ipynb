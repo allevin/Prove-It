{
 "cells": [
  {
   "cell_type": "markdown",
   "metadata": {},
   "source": [
    "Expression of type <a class=\"ProveItLink\" href=\"../../../../../../doc/html/api/proveit.ExprTuple.html\">ExprTuple</a>\n",
    "=======================\n",
    "# from context <a class=\"ProveItLink\" href=\"../../_context_.ipynb\">proveit.number.addition</a>"
   ]
  },
  {
   "cell_type": "code",
   "execution_count": 1,
   "metadata": {},
   "outputs": [],
   "source": [
    "# import Expression classes needed to build the expression\n",
    "from proveit import ExprTuple\n",
    "from proveit._common_ import A, B, a, b\n",
    "from proveit.number import Complexes, Exp, five"
   ]
  },
  {
   "cell_type": "code",
   "execution_count": 2,
   "metadata": {},
   "outputs": [
    {
     "data": {
      "text/html": [
       "<strong id=\"expr\">expr:</strong> <a class=\"ProveItLink\" href=\"expr.ipynb\"><img src=\"data:image/png;base64,iVBORw0KGgoAAAANSUhEUgAAAKwAAAAcBAMAAAAO1UmeAAAAMFBMVEX///+qqqp2dnYiIiJERESI\n",
       "iIhmZmYQEBDc3NyYmJgyMjLu7u5UVFTMzMy6uroAAACGxKilAAAAAXRSTlMAQObYZgAAAyNJREFU\n",
       "SMe1Vk1oE0EU/hJNsskmaUHwUJDuqRcPerH+gDQetEiFBiX1YKE59GSVFnspFekWKkgtJGq9eLGn\n",
       "oqJ2wT8oxUSooBJsUfBUSMCfVkSbaqu1TVrn7c7sjjEXSzqwO2/efPnm/c3bABUdny5fxyaM+fW0\n",
       "EL9VkPbzHHtpJIXSFaQ1TZyh17hRydjGOgBPlEkvaflxQyT+XKnmEmrYex+gdJULRGi3tHjL54lu\n",
       "m2+qkJm8D5x1QJ4DY91H2JyaBloBb5zJgdJABPLSYkwId22VLwJ05hBw7JjPqbtacQ9VzIOUAR85\n",
       "Eit15tqq5GqDOHTB1mVZ+LJp+DWhSLJYugq4gIQObEkiS8rzJazK9mVn0d+pW0LYOauNqW5qULvE\n",
       "0QZJZ7CTAgBvBCcJP1JC6/GsOYtoG8+M2wl4I3v2MicO8bVXoew8gruO7Pfn8YqUJA8dn9XFr764\n",
       "ftsMYaM2yQP+vJVLKACDTWyu4+vHYU2yirl1jPAMHe5Bs1CrudCSjXlqBpJGKoIiT1Ah1rKfhBoO\n",
       "euNKynVUxCjllXmZSKLdPg3KTxuTQyJuSbUGzvEgsdA/ILdnBW1YplXWUM8mKoopYI9Qz2Qyi/bJ\n",
       "mcxUxBJPA/y0rSxBHopTlqMehuQgqAs27SLUomMgeh3L4eMZrUeYh7yKWer/LtEGjPTf1lKJ+6qh\n",
       "LMGVVy2ti9IsINWsDLtE2Xp5iWWZy8EFKQh+jWhVQVvEJPmUJLuDIztgFn6/dbNMkFJtXTnaKMKn\n",
       "WQgq2wT5cEOQHaWu8p7fm/AyTlBBspzcxra4pv4gGOGbDaSoTMfp1FWYG89YvZsClW2o1+AFZuKC\n",
       "k6fUD03C9jzmiZ1tDMW+Hs6pfTqUxhUdw+ujeMLSPdB3C/7mlThtYKKFeUVC+3omc8dMPWs3Jg54\n",
       "1/DrtQicewRVrOOgx06QLkV+Tq5wvRzCurxzpR0lEEWQKuOq3VbkXbkU/WUR7mgpzro3utVZ7cb4\n",
       "n7TjKEs7DKtbKKLqonK/kZFRlEHgxT84cxxkzyAJFzf00fFMl/8W0WV3aZX+szBgvq9UmrYDmzX+\n",
       "ABT+3QP1PyiyAAAAAElFTkSuQmCC\n",
       "\" style=\"display:inline;vertical-align:middle;\" /></a><br>"
      ],
      "text/plain": [
       "expr: ((a , A , A , b , B) , Complexes^{5})"
      ]
     },
     "execution_count": 2,
     "metadata": {},
     "output_type": "execute_result"
    }
   ],
   "source": [
    "# build up the expression from sub-expressions\n",
    "expr = ExprTuple([a, A, A, b, B], Exp(Complexes, five))"
   ]
  },
  {
   "cell_type": "code",
   "execution_count": 3,
   "metadata": {},
   "outputs": [
    {
     "name": "stdout",
     "output_type": "stream",
     "text": [
      "Passed sanity check: built 'expr' is the same as the stored Expression.\n"
     ]
    }
   ],
   "source": [
    "# check that the built expression is the same as the stored expression\n",
    "%check_expr"
   ]
  },
  {
   "cell_type": "code",
   "execution_count": 4,
   "metadata": {},
   "outputs": [
    {
     "data": {
      "text/html": [
       "<table><tr><th>&nbsp;</th><th>core type</th><th>sub-expressions</th><th>expression</th></tr>\n",
       "<tr><td>0</td><td>ExprTuple</td><td>1, 2</td><td><a class=\"ProveItLink\" href=\"expr.ipynb\"><img src=\"data:image/png;base64,iVBORw0KGgoAAAANSUhEUgAAAKwAAAAcBAMAAAAO1UmeAAAAMFBMVEX///+qqqp2dnYiIiJERESI\n",
       "iIhmZmYQEBDc3NyYmJgyMjLu7u5UVFTMzMy6uroAAACGxKilAAAAAXRSTlMAQObYZgAAAyNJREFU\n",
       "SMe1Vk1oE0EU/hJNsskmaUHwUJDuqRcPerH+gDQetEiFBiX1YKE59GSVFnspFekWKkgtJGq9eLGn\n",
       "oqJ2wT8oxUSooBJsUfBUSMCfVkSbaqu1TVrn7c7sjjEXSzqwO2/efPnm/c3bABUdny5fxyaM+fW0\n",
       "EL9VkPbzHHtpJIXSFaQ1TZyh17hRydjGOgBPlEkvaflxQyT+XKnmEmrYex+gdJULRGi3tHjL54lu\n",
       "m2+qkJm8D5x1QJ4DY91H2JyaBloBb5zJgdJABPLSYkwId22VLwJ05hBw7JjPqbtacQ9VzIOUAR85\n",
       "Eit15tqq5GqDOHTB1mVZ+LJp+DWhSLJYugq4gIQObEkiS8rzJazK9mVn0d+pW0LYOauNqW5qULvE\n",
       "0QZJZ7CTAgBvBCcJP1JC6/GsOYtoG8+M2wl4I3v2MicO8bVXoew8gruO7Pfn8YqUJA8dn9XFr764\n",
       "ftsMYaM2yQP+vJVLKACDTWyu4+vHYU2yirl1jPAMHe5Bs1CrudCSjXlqBpJGKoIiT1Ah1rKfhBoO\n",
       "euNKynVUxCjllXmZSKLdPg3KTxuTQyJuSbUGzvEgsdA/ILdnBW1YplXWUM8mKoopYI9Qz2Qyi/bJ\n",
       "mcxUxBJPA/y0rSxBHopTlqMehuQgqAs27SLUomMgeh3L4eMZrUeYh7yKWer/LtEGjPTf1lKJ+6qh\n",
       "LMGVVy2ti9IsINWsDLtE2Xp5iWWZy8EFKQh+jWhVQVvEJPmUJLuDIztgFn6/dbNMkFJtXTnaKMKn\n",
       "WQgq2wT5cEOQHaWu8p7fm/AyTlBBspzcxra4pv4gGOGbDaSoTMfp1FWYG89YvZsClW2o1+AFZuKC\n",
       "k6fUD03C9jzmiZ1tDMW+Hs6pfTqUxhUdw+ujeMLSPdB3C/7mlThtYKKFeUVC+3omc8dMPWs3Jg54\n",
       "1/DrtQicewRVrOOgx06QLkV+Tq5wvRzCurxzpR0lEEWQKuOq3VbkXbkU/WUR7mgpzro3utVZ7cb4\n",
       "n7TjKEs7DKtbKKLqonK/kZFRlEHgxT84cxxkzyAJFzf00fFMl/8W0WV3aZX+szBgvq9UmrYDmzX+\n",
       "ABT+3QP1PyiyAAAAAElFTkSuQmCC\n",
       "\" style=\"display:inline;vertical-align:middle;\" /></a></td></tr>\n",
       "<tr><td>1</td><td>ExprTuple</td><td>3, 4, 4, 5, 6</td><td><a class=\"ProveItLink\" href=\"../bcb6dd369830b2a78ac04bf9c4bbec2248d198600/expr.ipynb\"><img src=\"data:image/png;base64,iVBORw0KGgoAAAANSUhEUgAAAHUAAAAVBAMAAACK3rzVAAAAMFBMVEX////c3NwiIiJERESqqqqY\n",
       "mJh2dnZmZmYQEBDu7u4yMjJUVFTMzMyIiIi6uroAAAAs73DqAAAAAXRSTlMAQObYZgAAAcxJREFU\n",
       "OMullL9Lw0AUx7+padPYxnZwc9BNwaWLUFzM5mhQcBG0uDgpRdDViiLoII5uLUgRcbCLIA3FgovQ\n",
       "Qf8Af0QndbEiKrb4411ijjS5RQ1c7nPvR+7de+8C/OfpOP+T2yR71fzSeE+Q1SMunPgyzUELSpV4\n",
       "z+/bXhdwe4nLVgDlEygAWiDk0XcBJ3QeygeNJjAORLd8rtLwk4AfuZlGovArsA08+LfVtE8BT3NZ\n",
       "Ww4IrdOsY5F9vjK3zHX38ouA9y8P3ehLkHYoikgWRVreJdt4flSLHcjP6jMSVQfPKpfzBs1yAZu0\n",
       "7QuUFC83pLcgy++IZhy8TkLtZ8oc6ECxOkI82zXTfA6yUkAi62Ca+dPG8TrzTaSQr7r2FrAR5FAW\n",
       "j4aDVB5MZWzfVaD7HCP4qYFMow8BpvIuORZxlr1j3Y55AMjrKMtV1VZ10jig3PiYErXmCFl5pQZB\n",
       "uIAZ6jdD7o0gzzpWpU7D0Ja98HJMV0qOBSvvKetjqtEtK+/VyRW22QfTjSTGvnbZwstQKwuwQRlq\n",
       "muWi3eEWokk3Mzfe7roRcYsF9WQ44y4Mr8YQcYvFrPcO/s7XzkaX2/ctF0LELRYxdlbpb/+cC+Ab\n",
       "q6WNxJxLo+gAAAAASUVORK5CYII=\n",
       "\" style=\"display:inline;vertical-align:middle;\" /></a></td></tr>\n",
       "<tr><td>2</td><td>Operation</td><td>operator:&nbsp;7<br>operands:&nbsp;8<br></td><td><a class=\"ProveItLink\" href=\"../1d5ca85bb291b50723080d0d449bfc191044913a0/expr.ipynb\"><img src=\"data:image/png;base64,iVBORw0KGgoAAAANSUhEUgAAABcAAAAUBAMAAACUkLs9AAAAMFBMVEX////c3NyqqqqYmJhUVFR2\n",
       "dnbu7u66urrMzMxmZmZEREQQEBAyMjIiIiKIiIgAAAB7fvZ0AAAAAXRSTlMAQObYZgAAAJZJREFU\n",
       "GNNjYICCSjE7Bjio/++A4BQXItgM5Uhshsp30xAcQQYdEMV35/zelUA6v4GBgaO+gC3+CcMJBv4C\n",
       "BgYDZwYGpi8MOxjkBRiYEzYAlUxhCGN4wsDAyQiyLI+BNTKAgSGTPQBhZCuTARKHHYmTxYGkjCcB\n",
       "ybXMASAOG5S3uA5I1CZAOCxez9iqlsEUdt7/7Q5hAQDDzB+JAiNuCgAAAABJRU5ErkJggg==\n",
       "\" style=\"display:inline;vertical-align:middle;\" /></a></td></tr>\n",
       "<tr><td>3</td><td>Variable</td><td></td><td><a class=\"ProveItLink\" href=\"../../../../__pv_it/07527342713064c87612d00d8557c53d53d5324a0/expr.ipynb\"><img src=\"data:image/png;base64,iVBORw0KGgoAAAANSUhEUgAAAAsAAAAJBAMAAAAWSsseAAAAMFBMVEX///8yMjKqqqrMzMzu7u4i\n",
       "IiJmZmaYmJhEREQQEBC6urp2dnaIiIhUVFTc3NwAAAD87Fq/AAAAAXRSTlMAQObYZgAAAEhJREFU\n",
       "CNdjYOC7s2seAwPDygccHxgY+L4zsDUwMPB+YGA9wMDA38Dgb8DA8P4Agz6DA4O/AsNFJgMGxgKm\n",
       "MG6gyjunLE4xAAAZTBA5TB6DCwAAAABJRU5ErkJggg==\n",
       "\" style=\"display:inline;vertical-align:middle;\" /></a></td></tr>\n",
       "<tr><td>4</td><td>Variable</td><td></td><td><a class=\"ProveItLink\" href=\"../../../../__pv_it/2cbe72a7ad6f655694dd697106680215e8489b600/expr.ipynb\"><img src=\"data:image/png;base64,iVBORw0KGgoAAAANSUhEUgAAAA8AAAAOBAMAAAACpFvcAAAALVBMVEX///8QEBBERERUVFS6urqI\n",
       "iIhmZmaqqqrc3Nzu7u6YmJgyMjIiIiLMzMwAAADtIaYWAAAAAXRSTlMAQObYZgAAAFtJREFUCNdj\n",
       "YACBOwxQsA9Kc52bAGG05zVAGAFxDmCaZULdAjBjCsO9ADDDgaEvAUTzGhvbKYCVMDAwbgAxChgY\n",
       "eASANAeQwf0AyJgNxEwvGRia5HYwcOm9TgAA6BoR3jrzwFcAAAAASUVORK5CYII=\n",
       "\" style=\"display:inline;vertical-align:middle;\" /></a></td></tr>\n",
       "<tr><td>5</td><td>Variable</td><td></td><td><a class=\"ProveItLink\" href=\"../../../../__pv_it/6840a4fa6c106149dc16a131294d0c5e44f1b0480/expr.ipynb\"><img src=\"data:image/png;base64,iVBORw0KGgoAAAANSUhEUgAAAAkAAAAOBAMAAAAPuiubAAAALVBMVEX///9mZmbMzMxERESYmJiI\n",
       "iIh2dna6urqqqqoyMjIiIiIQEBBUVFTu7u4AAAD9S1JeAAAAAXRSTlMAQObYZgAAAE1JREFUCNdj\n",
       "4D29gAEIOA+ASL4GEFl3AURmgQiGOaFHGBh4HzPwKTBwvGXgTmBgnMDAJ8DAJcBQ5wBSLncBJLWN\n",
       "gYGngRFoBO9REQYGAGrcDtUkVqASAAAAAElFTkSuQmCC\n",
       "\" style=\"display:inline;vertical-align:middle;\" /></a></td></tr>\n",
       "<tr><td>6</td><td>Variable</td><td></td><td><a class=\"ProveItLink\" href=\"../../../../__pv_it/077b2ff79244fb4582cbe22c6e3356fa92a52f2f0/expr.ipynb\"><img src=\"data:image/png;base64,iVBORw0KGgoAAAANSUhEUgAAABAAAAAOBAMAAADUAYG5AAAAMFBMVEX///+qqqru7u4iIiJ2dnbc\n",
       "3NyIiIjMzMxmZmYQEBC6uroyMjJERERUVFSYmJgAAADLUcuvAAAAAXRSTlMAQObYZgAAAGpJREFU\n",
       "CNdjYGB4+//u3dMLGIBgDgMDxy8gzf4NiP8CGWxfGRj4vgAZPBMYGJgnARn8FxhY9ygAGfXX0pof\n",
       "gDTlBzAw2YIYJ0EckBBI53sHoBH/gIz7AhBjWH9DjancBLTl/N+7t/cxMAAA3u4f/5xagjYAAAAA\n",
       "SUVORK5CYII=\n",
       "\" style=\"display:inline;vertical-align:middle;\" /></a></td></tr>\n",
       "<tr><td>7</td><td>Literal</td><td></td><td><a class=\"ProveItLink\" href=\"../../../exponentiation/__pv_it/deb2bf23cbccdd6e6791e1b35b5b9794ce12dbd50/expr.ipynb\"><img src=\"data:image/png;base64,iVBORw0KGgoAAAANSUhEUgAAACgAAAASBAMAAADbMYGVAAAAMFBMVEX///8QEBAiIiKYmJjc3Nzu\n",
       "7u7MzMx2dnZmZma6urpERESqqqoyMjJUVFSIiIgAAAAoDOMTAAAAAXRSTlMAQObYZgAAAOBJREFU\n",
       "GNNjYGB4+//u3Tt/GNAASGAXmhjnPyDBgSbI/g1IxKEJ8nxgYGdgQRPkX8BgDKRY6q7s62OYvmze\n",
       "2wAgb/7ZO1+AVDiDkYEQQ0HTBr4DQF59AgOIKmB4z7CNbcNZBu6vQN55kEACQwDDLQYGVobfDHwg\n",
       "fb8YGBxYHwAZciD3fWXg+gB1JjvQcJZvQIXsCgz8F6DO9GBgMOH7wPCUgaeBwd4B7EwGNjUG7s9c\n",
       "AiwPgO5jkWRgiF3/9+5dfQUG1nWl5Y+B7pv+1gE9bBhqGLCAE1jEWH9jEbT5A3IwAC4sP/1L6Qlu\n",
       "AAAAAElFTkSuQmCC\n",
       "\" style=\"display:inline;vertical-align:middle;\" /></a></td></tr>\n",
       "<tr><td>8</td><td>ExprTuple</td><td>9, 10</td><td><a class=\"ProveItLink\" href=\"../7b5508e04b247401485fb3cbfb9e6c01a4389fb40/expr.ipynb\"><img src=\"data:image/png;base64,iVBORw0KGgoAAAANSUhEUgAAAC8AAAAVBAMAAAAk6KpUAAAAMFBMVEX////c3NwiIiJERESqqqqY\n",
       "mJh2dnZmZmYQEBDu7u4yMjJUVFTMzMyIiIi6uroAAAAs73DqAAAAAXRSTlMAQObYZgAAASRJREFU\n",
       "KM9jYMAJ+C5gisWBiNNAzKu1vskcIsYVyZjCwH4AyFrJwMDz/gFn/m2IBMf//wkMDAuAioEmBWxl\n",
       "YGD5DdVRnQMkw4AqJjCwTmgAsqshEtxgcgYDwysGBnbGDUD2XGQJZgeGMgaG6XwJCAdx3739gIGB\n",
       "rYBhKQPDMZYAhATzBM5/QBsXMPQBJfgCUHyxA+i5Bgag9GSeBBSJ/AMMPB9AElwTNiBEjYASD0AS\n",
       "LQwMrAkgCU6IRBMDQ70AyChTIMf0LZB4NAEsVcDAsAqodgFDOsiJm29yPrZkmK8AZIszsDSCnfsI\n",
       "pOy4/o99QO9+BDJ5yncLAK19wMAhgLD4IZw1A2QzQgLhnVxIsGNIcAKDnUEaLs6LCDCQ+YxYovYO\n",
       "AwMAlNdEY4sgu8kAAAAASUVORK5CYII=\n",
       "\" style=\"display:inline;vertical-align:middle;\" /></a></td></tr>\n",
       "<tr><td>9</td><td>Literal</td><td></td><td><a class=\"ProveItLink\" href=\"../../../sets/complex/__pv_it/c357845f93a5a2d9f649129d299e7ec28dda4b960/expr.ipynb\"><img src=\"data:image/png;base64,iVBORw0KGgoAAAANSUhEUgAAAA8AAAAOBAMAAAACpFvcAAAAMFBMVEX////c3NyqqqqYmJhUVFR2\n",
       "dnbu7u66urrMzMxmZmZEREQQEBAyMjIiIiKIiIgAAAB7fvZ0AAAAAXRSTlMAQObYZgAAAGVJREFU\n",
       "CNdjYGDgu3N+70oGBgaO+gK2+CdAhoEzAwPTFwYG5oQNQN4UBgZORgcgI4+BIZM9gAEMWpkMoAx2\n",
       "KCOLAyrFk+AAYTAHgBhsQLy4DkjUJjAwsHg9Y6taBpLsvP/bnYEBACkBFGQfBv8RAAAAAElFTkSu\n",
       "QmCC\n",
       "\" style=\"display:inline;vertical-align:middle;\" /></a></td></tr>\n",
       "<tr><td>10</td><td>Literal</td><td></td><td><a class=\"ProveItLink\" href=\"../../../numeral/__pv_it/aaeeaca7d86eb2b7cdc49e25c3108b81b52ec5400/expr.ipynb\"><img src=\"data:image/png;base64,iVBORw0KGgoAAAANSUhEUgAAAAkAAAAOBAMAAAAPuiubAAAAMFBMVEX///8iIiJERES6urqIiIjM\n",
       "zMxUVFRmZmYQEBCqqqp2dnbc3Nzu7u6YmJgyMjIAAADYGhJvAAAAAXRSTlMAQObYZgAAAE1JREFU\n",
       "CNdj4LvDvZKBgeP//wUMDHxlSxkYGNgYGBCki5sBAwPTAZ7PYG4GmFwfwKAIJA0YGhkY6jcwFDAw\n",
       "vGNg2M7A2c3AwFqetoEBAKS8EE1WXEJLAAAAAElFTkSuQmCC\n",
       "\" style=\"display:inline;vertical-align:middle;\" /></a></td></tr>\n",
       "</table>\n"
      ],
      "text/plain": [
       "0. ((a , A , A , b , B) , Complexes^{5})\n",
       "   core type: ExprTuple\n",
       "   sub-expressions: 1, 2\n",
       "1. (a , A , A , b , B)\n",
       "   core type: ExprTuple\n",
       "   sub-expressions: 3, 4, 4, 5, 6\n",
       "2. Complexes^{5}\n",
       "   core type: Operation\n",
       "   operator: 7\n",
       "   operands: 8\n",
       "3. a\n",
       "   core type: Variable\n",
       "   sub-expressions: \n",
       "4. A\n",
       "   core type: Variable\n",
       "   sub-expressions: \n",
       "5. b\n",
       "   core type: Variable\n",
       "   sub-expressions: \n",
       "6. B\n",
       "   core type: Variable\n",
       "   sub-expressions: \n",
       "7. Exp\n",
       "   core type: Literal\n",
       "   sub-expressions: \n",
       "8. (Complexes , 5)\n",
       "   core type: ExprTuple\n",
       "   sub-expressions: 9, 10\n",
       "9. Complexes\n",
       "   core type: Literal\n",
       "   sub-expressions: \n",
       "10. 5\n",
       "    core type: Literal\n",
       "    sub-expressions: "
      ]
     },
     "execution_count": 4,
     "metadata": {},
     "output_type": "execute_result"
    }
   ],
   "source": [
    "# display the expression information\n",
    "expr.exprInfo()"
   ]
  },
  {
   "cell_type": "code",
   "execution_count": null,
   "metadata": {},
   "outputs": [],
   "source": []
  }
 ],
 "metadata": {
  "kernelspec": {
   "display_name": "Python 3",
   "language": "python",
   "name": "python3"
  }
 },
 "nbformat": 4,
 "nbformat_minor": 0
}
