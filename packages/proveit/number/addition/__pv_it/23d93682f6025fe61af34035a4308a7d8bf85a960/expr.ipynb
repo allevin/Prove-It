{
 "cells": [
  {
   "cell_type": "markdown",
   "metadata": {},
   "source": [
    "Expression of type <a class=\"ProveItLink\" href=\"../../../../../../doc/html/api/proveit.logic.Forall.html\">Forall</a>\n",
    "=======================\n",
    "# from context <a class=\"ProveItLink\" href=\"../../_context_.ipynb\">proveit.number.addition</a>"
   ]
  },
  {
   "cell_type": "code",
   "execution_count": 1,
   "metadata": {},
   "outputs": [],
   "source": [
    "# import Expression classes needed to build the expression\n",
    "from proveit._common_ import S, x\n",
    "from proveit.logic import Forall, InSet\n",
    "from proveit.number import Exp, zero"
   ]
  },
  {
   "cell_type": "code",
   "execution_count": 2,
   "metadata": {},
   "outputs": [
    {
     "data": {
      "text/html": [
       "<strong id=\"expr\">expr:</strong> <a class=\"ProveItLink\" href=\"expr.ipynb\"><img src=\"data:image/png;base64,iVBORw0KGgoAAAANSUhEUgAAAG8AAAAcBAMAAACdXfw8AAAAMFBMVEX///8QEBC6urrMzMxUVFRm\n",
       "ZmZERETc3NwyMjKqqqp2dnaIiIiYmJgiIiLu7u4AAAAU9Wx4AAAAAXRSTlMAQObYZgAAAiJJREFU\n",
       "OMtjYCARcK0OYCAL7GJQwS3JpIBb7jID/wMuXJImuPXx/WPgncDsgEOyD7dGZqDGDQy7gawHmJIs\n",
       "B/D4AqyRt4CB4QKIexpFshCHJh7X0DfKYI3cQLeuBAmhui0Uh8YeBr58vu8MjBNAPmUoA4qwJ6Ao\n",
       "EMKuj2UBA8MMBmEGfqA77zAwcAA9yToBxf8fUEJqx927DWBWvQEDgzUwHtWA7DCgw5eXl9eimMwt\n",
       "gMyzOAdj6QONN2bg3h0HZJ8H4m9pabdQnQS0gH21++xoEIc9Dy5e/9sAztYHutOZgSEdyDRdtQcq\n",
       "zgYMslcMZw/IgjkFCJf8/58OY9sD1aow8AGtYApg0IcKcgBT8QKG/QyTQZxnSE6pcfwIi/V6YKLk\n",
       "ZeA+ACIZ2KCCvAGgZOEG4SjevQsLHCBYD0sa74H+5T7ACzTn/QMGHiSNDAzS6MkWJP3+AJKNfA0g\n",
       "SV4peI7gACVh9s8MfCDOW7jGpyD1MB+DooYh3QkUXYH/YZHJAkwOx7k/MOxDTbczgDgEHqogE6aC\n",
       "kytDCSz6uC8wcP5hE2DfAI7/SzC1scAkCk9hoHhkYASq4FNg4IMlGKYPDHzZ61btgfAqgqHCDiou\n",
       "OXB3rwD7Ghg2nBMYmOHGfUZJD1N6EaEKB90wBmsCUlR7ESx4gHkEptE0NBwubEtQI08CVmG2CYQ0\n",
       "8hpgFWZvIKTxKA7xWQT0sSfg8gIBt7I+YCAfAACqo30cpUwg4wAAAABJRU5ErkJggg==\n",
       "\" style=\"display:inline;vertical-align:middle;\" /></a><br>"
      ],
      "text/plain": [
       "expr: forall_{S} (x in S^{0})"
      ]
     },
     "execution_count": 2,
     "metadata": {},
     "output_type": "execute_result"
    }
   ],
   "source": [
    "# build up the expression from sub-expressions\n",
    "expr = Forall([S], InSet(x, Exp(S, zero)), conditions = [])"
   ]
  },
  {
   "cell_type": "code",
   "execution_count": 3,
   "metadata": {},
   "outputs": [
    {
     "name": "stdout",
     "output_type": "stream",
     "text": [
      "Passed sanity check: built 'expr' is the same as the stored Expression.\n"
     ]
    }
   ],
   "source": [
    "# check that the built expression is the same as the stored expression\n",
    "%check_expr"
   ]
  },
  {
   "cell_type": "code",
   "execution_count": 4,
   "metadata": {},
   "outputs": [
    {
     "data": {
      "text/html": [
       "<table><tr><th>&nbsp;</th><th>core type</th><th>sub-expressions</th><th>expression</th></tr>\n",
       "<tr><td>0</td><td>Operation</td><td>operator:&nbsp;1<br>operand:&nbsp;2<br></td><td><a class=\"ProveItLink\" href=\"expr.ipynb\"><img src=\"data:image/png;base64,iVBORw0KGgoAAAANSUhEUgAAAG8AAAAcBAMAAACdXfw8AAAAMFBMVEX///8QEBC6urrMzMxUVFRm\n",
       "ZmZERETc3NwyMjKqqqp2dnaIiIiYmJgiIiLu7u4AAAAU9Wx4AAAAAXRSTlMAQObYZgAAAiJJREFU\n",
       "OMtjYCARcK0OYCAL7GJQwS3JpIBb7jID/wMuXJImuPXx/WPgncDsgEOyD7dGZqDGDQy7gawHmJIs\n",
       "B/D4AqyRt4CB4QKIexpFshCHJh7X0DfKYI3cQLeuBAmhui0Uh8YeBr58vu8MjBNAPmUoA4qwJ6Ao\n",
       "EMKuj2UBA8MMBmEGfqA77zAwcAA9yToBxf8fUEJqx927DWBWvQEDgzUwHtWA7DCgw5eXl9eimMwt\n",
       "gMyzOAdj6QONN2bg3h0HZJ8H4m9pabdQnQS0gH21++xoEIc9Dy5e/9sAztYHutOZgSEdyDRdtQcq\n",
       "zgYMslcMZw/IgjkFCJf8/58OY9sD1aow8AGtYApg0IcKcgBT8QKG/QyTQZxnSE6pcfwIi/V6YKLk\n",
       "ZeA+ACIZ2KCCvAGgZOEG4SjevQsLHCBYD0sa74H+5T7ACzTn/QMGHiSNDAzS6MkWJP3+AJKNfA0g\n",
       "SV4peI7gACVh9s8MfCDOW7jGpyD1MB+DooYh3QkUXYH/YZHJAkwOx7k/MOxDTbczgDgEHqogE6aC\n",
       "kytDCSz6uC8wcP5hE2DfAI7/SzC1scAkCk9hoHhkYASq4FNg4IMlGKYPDHzZ61btgfAqgqHCDiou\n",
       "OXB3rwD7Ghg2nBMYmOHGfUZJD1N6EaEKB90wBmsCUlR7ESx4gHkEptE0NBwubEtQI08CVmG2CYQ0\n",
       "8hpgFWZvIKTxKA7xWQT0sSfg8gIBt7I+YCAfAACqo30cpUwg4wAAAABJRU5ErkJggg==\n",
       "\" style=\"display:inline;vertical-align:middle;\" /></a></td></tr>\n",
       "<tr><td>1</td><td>Literal</td><td></td><td><a class=\"ProveItLink\" href=\"../../../../logic/boolean/quantification/universal/__pv_it/265f8c02ac1094d56e0e6410a1c1fd3500dc9f540/expr.ipynb\"><img src=\"data:image/png;base64,iVBORw0KGgoAAAANSUhEUgAAAAwAAAAQBAMAAADQT4M0AAAAMFBMVEX///8QEBC6urrMzMxUVFRm\n",
       "ZmZERETc3NwyMjKqqqp2dnaIiIiYmJgiIiLu7u4AAAAU9Wx4AAAAAXRSTlMAQObYZgAAAFhJREFU\n",
       "CNdjeMAABhdAxGmGlSCqj6EMSLInMHAAJVknMPAsLy+vBYp8S0u7BaScGRjSgZQKA18DkOJl4D4A\n",
       "pLgP8IJM4mswARuX7gSmpoKNZWDcAKZ4gCoAgTQTILaSE58AAAAASUVORK5CYII=\n",
       "\" style=\"display:inline;vertical-align:middle;\" /></a></td></tr>\n",
       "<tr><td>2</td><td>Lambda</td><td>parameter:&nbsp;10<br>body:&nbsp;3<br></td><td><a class=\"ProveItLink\" href=\"../5b5a57a5953a5162e149cee01ccbb0042cfc8d640/expr.ipynb\"><img src=\"data:image/png;base64,iVBORw0KGgoAAAANSUhEUgAAAHoAAAAcCAMAAACZKluRAAAANlBMVEX///8UFBQNDQ0iIiIQEBCI\n",
       "iIjMzMzc3Nyqqqp2dnZEREQyMjK6urru7u5mZmZUVFSYmJgAAAD0v/9UAAAAAXRSTlMAQObYZgAA\n",
       "AdxJREFUSMfFVtt2hCAMpIUYLobL//9sUWSNilvFnm4e9nhWmJCZSUSIfwxjwIuPBBghxvAMYxy7\n",
       "tskh/yTK1XdnHvpOTlNWIXU3QIZw1Hfikhom6qEvdYidMq2phcT6bwzee4qXJER1M2UFZ1ULqJS7\n",
       "qQ6y6RKSv9kfL3BKU6lKr7pnBovjtLsEpe7Zm4Gr2eGFajmrhmkoNoBrZnljQHAyBy+Bg899bRfu\n",
       "bJFfl7fDpblwLvXgIh29xcABwC8rYioHS7DNumVe6w2B9SUaCKjBv7hC22i6Izi3u4CUwyIbOzu5\n",
       "OKRdvEmZvZgVU6/FHIGxtAevupUDYQwqKTpLTYHtdIvBzQybOak1kT1pxh14ZWN1q0nrpPj+kptQ\n",
       "bJ1cUk9YgWcbVV1+7BQOXqdqljHW53hWtQisnyRrawW/TfYG+Fo1+fqMZ6k9V8qFXeNUKkk2uq0B\n",
       "vu6tg8SHM5tt+72SHHGWWgC9me0t8OpwFH4Zqly27WzZOgTKuXSm0OYWx3UtycOca4GvfR3yxSEE\n",
       "e/lrNKbFz2AoX3j4PnR+18Ln4MaJ+5HeDD0dXNPhjY9Kzxc79F9veG9hz2VD/kHqaLu2Wf08tRy6\n",
       "tqF7XnTvdVw/VRtt/6EfUu5JfDZ+AEmOEdfaH1waAAAAAElFTkSuQmCC\n",
       "\" style=\"display:inline;vertical-align:middle;\" /></a></td></tr>\n",
       "<tr><td>3</td><td>Operation</td><td>operator:&nbsp;4<br>operands:&nbsp;5<br></td><td><a class=\"ProveItLink\" href=\"../a0aad1bd742d14c3f1a7b74fd52f3ae309d84b440/expr.ipynb\"><img src=\"data:image/png;base64,iVBORw0KGgoAAAANSUhEUgAAADwAAAAVBAMAAADocZC/AAAAMFBMVEX///+6uroyMjJERETMzMwQ\n",
       "EBAiIiKYmJju7u5mZmaqqqpUVFSIiIh2dnbc3NwAAAAWgogoAAAAAXRSTlMAQObYZgAAAQJJREFU\n",
       "KM9jYMAN7p7EI8nAc4FxAx5pNgeGH3ik+xsYsvBI+zcw5OCRlsctXT1zRiFu3UwFDM0f+h8wRGGX\n",
       "3svAwKXA6sDwD1mwRy0tCczg+8LAwHIA6G8DJFkW9QYoi/EXkOfAcOYkUODt6VcnD4AEH8NkGfj+\n",
       "H4ExOS6wp7MmgFh2CIPO///8AMLiZeD5wOUAUodkEV91fARUNwM3RJwxLC0N6jSQru8wFusBiMsQ\n",
       "0VMA1AWXfu/AAHIURwLcOROAxkO9zP7gPAMP2M3bYdJcCgwMnFCz1heYMrwBs9oEoNKcwKA+DGU3\n",
       "n+29UwBxrqYDRIibcffmAsyQ5tqEcDkUAADrP0IuKhyluAAAAABJRU5ErkJggg==\n",
       "\" style=\"display:inline;vertical-align:middle;\" /></a></td></tr>\n",
       "<tr><td>4</td><td>Literal</td><td></td><td><a class=\"ProveItLink\" href=\"../../../../logic/set_theory/membership/__pv_it/088cbc857536a28d4119ad9639a84270ccb0545d0/expr.ipynb\"><img src=\"data:image/png;base64,iVBORw0KGgoAAAANSUhEUgAAAAwAAAAMBAMAAACkW0HUAAAALVBMVEX///+qqqpmZmZUVFQQEBC6\n",
       "urpERETc3NyYmJjMzMwiIiIyMjKIiIju7u4AAACYsrA9AAAAAXRSTlMAQObYZgAAADxJREFUCNdj\n",
       "YOA9vWrVBgaG2b0MQMCeCyIZ2ArA1DUwyRCyahVIyWQI7xaEYm4AU7xLIdxqTQgtvGvVBgCkcQ7e\n",
       "geM/tQAAAABJRU5ErkJggg==\n",
       "\" style=\"display:inline;vertical-align:middle;\" /></a></td></tr>\n",
       "<tr><td>5</td><td>ExprTuple</td><td>6, 7</td><td><a class=\"ProveItLink\" href=\"../815c72e52cfcdd6c06f1b72cce092c237e47e4680/expr.ipynb\"><img src=\"data:image/png;base64,iVBORw0KGgoAAAANSUhEUgAAADoAAAAcBAMAAADCYLEwAAAAMFBMVEX///+qqqp2dnYiIiJERESI\n",
       "iIhmZmYQEBDc3NyYmJgyMjLu7u5UVFTMzMy6uroAAACGxKilAAAAAXRSTlMAQObYZgAAAWhJREFU\n",
       "KM9jYMAKlMIYcANWBb4DUOY7TFnmCwy/GRRALN4DmLL7NzAYMtwBsXZtwJS9v4HBlIE1AMg6icXe\n",
       "9yBZBgsGBo4CNJk5adnzwHoZYhgY2BJQJbkmMGz5sL+BoRBsO/sDVNlDDAyMC9gvMPwAunwCw31U\n",
       "SY6/QF8EAP3rADTWgSEcVZbvI1D2AkNoGNAnnB8YToE0qJ4QTYXq/R+LUPmbwQdIbWKYPKEYKhT/\n",
       "/0sDlMn7l2EZkFJgiGeQhVk8p74axvzHYAakNjAcQbKa6SeUwf0RLMvAUAqTmgAU/InQuwbqD26I\n",
       "cmDYcPxA+A5k5gzWDwzRYHnGBUBvwiKN7wdDMFDoJ0sBRwDDfgOgDDB4Q2C2AP37Hmicq7ZSJAPD\n",
       "dqCJPHxnjkyAO28BA/8FuGNfoMUWVwADjwIDkntRU0gDA68BTtkpQOwIT4joKcQWiLtwJVtOULpg\n",
       "VMAh2wImJ+KQzWYgAACMWFdCvwGw1wAAAABJRU5ErkJggg==\n",
       "\" style=\"display:inline;vertical-align:middle;\" /></a></td></tr>\n",
       "<tr><td>6</td><td>Variable</td><td></td><td><a class=\"ProveItLink\" href=\"../../../../__pv_it/530be409e3083890784cf1d7b28c9e67e90af9360/expr.ipynb\"><img src=\"data:image/png;base64,iVBORw0KGgoAAAANSUhEUgAAAAsAAAAJBAMAAAAWSsseAAAAKlBMVEX///9ERETMzMwQEBAiIiKY\n",
       "mJju7u5mZmaqqqpUVFSIiIh2dnbc3NwAAAA/vyDhAAAAAXRSTlMAQObYZgAAAENJREFUCNdjYDi9\n",
       "8sTyBQxsG1hdmR0YuBm4LnAoMLAxcAowgADzAjB1VoEhgYH1wFoGrgSG3gBhhlMMDImrs3cFMAAA\n",
       "t0YN+iTRa+sAAAAASUVORK5CYII=\n",
       "\" style=\"display:inline;vertical-align:middle;\" /></a></td></tr>\n",
       "<tr><td>7</td><td>Operation</td><td>operator:&nbsp;8<br>operands:&nbsp;9<br></td><td><a class=\"ProveItLink\" href=\"../bfb5392490de1a203b8848ec91ac758555d35bd80/expr.ipynb\"><img src=\"data:image/png;base64,iVBORw0KGgoAAAANSUhEUgAAABUAAAAUBAMAAACQZWsAAAAAMFBMVEX///8iIiIQEBCIiIjMzMzc\n",
       "3Nyqqqp2dnZEREQyMjK6urru7u5mZmZUVFSYmJgAAACI6eGPAAAAAXRSTlMAQObYZgAAAJBJREFU\n",
       "CNdjYIAA9uIDDDBgzrAWzhZh4N8AZXL/ZmBMgLJZgGwDKJsLyua7c2bfEih7HgN3P/dXBiaget4C\n",
       "BoZMBhUG/gAGhngHBgZnoPkrgErWA+VcGJiNTwPZ8Z8d4DYy///fCufEXfq0Ac5hqH8AofmAeD+U\n",
       "vQekPQDCzgTis1C1Bw0YmBug7Atr7/ZBmQDnjiQOx+wj+wAAAABJRU5ErkJggg==\n",
       "\" style=\"display:inline;vertical-align:middle;\" /></a></td></tr>\n",
       "<tr><td>8</td><td>Literal</td><td></td><td><a class=\"ProveItLink\" href=\"../../../exponentiation/__pv_it/deb2bf23cbccdd6e6791e1b35b5b9794ce12dbd50/expr.ipynb\"><img src=\"data:image/png;base64,iVBORw0KGgoAAAANSUhEUgAAACgAAAASBAMAAADbMYGVAAAAMFBMVEX///8QEBAiIiKYmJjc3Nzu\n",
       "7u7MzMx2dnZmZma6urpERESqqqoyMjJUVFSIiIgAAAAoDOMTAAAAAXRSTlMAQObYZgAAAOBJREFU\n",
       "GNNjYGB4+//u3Tt/GNAASGAXmhjnPyDBgSbI/g1IxKEJ8nxgYGdgQRPkX8BgDKRY6q7s62OYvmze\n",
       "2wAgb/7ZO1+AVDiDkYEQQ0HTBr4DQF59AgOIKmB4z7CNbcNZBu6vQN55kEACQwDDLQYGVobfDHwg\n",
       "fb8YGBxYHwAZciD3fWXg+gB1JjvQcJZvQIXsCgz8F6DO9GBgMOH7wPCUgaeBwd4B7EwGNjUG7s9c\n",
       "AiwPgO5jkWRgiF3/9+5dfQUG1nWl5Y+B7pv+1gE9bBhqGLCAE1jEWH9jEbT5A3IwAC4sP/1L6Qlu\n",
       "AAAAAElFTkSuQmCC\n",
       "\" style=\"display:inline;vertical-align:middle;\" /></a></td></tr>\n",
       "<tr><td>9</td><td>ExprTuple</td><td>10, 11</td><td><a class=\"ProveItLink\" href=\"../ab4a496c55b626ab9a84c97653037d00753a67410/expr.ipynb\"><img src=\"data:image/png;base64,iVBORw0KGgoAAAANSUhEUgAAAC0AAAAVBAMAAAAgHXppAAAAMFBMVEX////c3NwiIiJERESqqqqY\n",
       "mJh2dnZmZmYQEBDu7u4yMjJUVFTMzMyIiIi6uroAAAAs73DqAAAAAXRSTlMAQObYZgAAAR5JREFU\n",
       "GNN1kT8sBEEUh7/DcuPsZRuV4vQUFGpba2yllI1GJURxCpEolCLXiOtuG4VOR6LZHrmNRoJiKSmO\n",
       "Bg3nvbnbdXIxyUze98vM+/Mb+G+Vkz5pWY9LPZyzrcNUA7NzGzMSS3SieIyZt1cHUjMNEbiaphTC\n",
       "gtVv4A6WoFgTqsjDa6tPQcujDs9KLR+urP4BTZ9Bn6pS5SvudFJ4Fz1heEMqynLb7dlfPWQo4sDy\n",
       "+PlnrUcv7/LdnWU96Mkz9mp1R3YjyOsGqu8JHGlpL+tz0dM8c3RG2sZ051qRBBGrApsJ7gyNSfXB\n",
       "N/ton08Cpy8X8qz+pr5V72WU0ZSil9v7mEfigxPmFOTRWubzX92Iz0xk5OYXSpq70P+PD/ADC49K\n",
       "CzsTSOoAAAAASUVORK5CYII=\n",
       "\" style=\"display:inline;vertical-align:middle;\" /></a></td></tr>\n",
       "<tr><td>10</td><td>Variable</td><td></td><td><a class=\"ProveItLink\" href=\"../../../../__pv_it/abeee18594afe51bfb1be95d9591fbba24ac53f30/expr.ipynb\"><img src=\"data:image/png;base64,iVBORw0KGgoAAAANSUhEUgAAAA0AAAAOBAMAAAAGUYvhAAAAMFBMVEX///8iIiIQEBCIiIjMzMzc\n",
       "3Nyqqqp2dnZEREQyMjK6urru7u5mZmZUVFSYmJgAAACI6eGPAAAAAXRSTlMAQObYZgAAAF1JREFU\n",
       "CNdjYGDgu3Nm3wIGBoZ5DNz9QIq3gIEhE0jHOzAwOAPp9QkMDC4g/megABAw///fCmbEXfq0Acxg\n",
       "qH8ANAVI7wfSe0BKAyBGnAXigwYMzA1A+sLau31ACgAz0hhbkhGHbwAAAABJRU5ErkJggg==\n",
       "\" style=\"display:inline;vertical-align:middle;\" /></a></td></tr>\n",
       "<tr><td>11</td><td>Literal</td><td></td><td><a class=\"ProveItLink\" href=\"../../../numeral/__pv_it/ec23fc7a1b4222a5f4948b495002b97d6fa18c3c0/expr.ipynb\"><img src=\"data:image/png;base64,iVBORw0KGgoAAAANSUhEUgAAAAoAAAAOBAMAAADkjZCYAAAALVBMVEX///8QEBCYmJh2dnaqqqrc\n",
       "3NxUVFQyMjK6uroiIiLMzMyIiIhmZmbu7u4AAAAZjyHdAAAAAXRSTlMAQObYZgAAAEpJREFUCNdj\n",
       "YLiz+xQDA8MMhpsLGLgnMHAXMHAmMHA8ZeA7wMD1hCHOgIHrNZh8jES+Bss+AqlkeQrSxTyBgWEK\n",
       "w8UFDAx3rLMYAMCjFldHSx/9AAAAAElFTkSuQmCC\n",
       "\" style=\"display:inline;vertical-align:middle;\" /></a></td></tr>\n",
       "</table>\n"
      ],
      "text/plain": [
       "0. forall_{S} (x in S^{0})\n",
       "   core type: Operation\n",
       "   operator: 1\n",
       "   operand: 2\n",
       "1. forall\n",
       "   core type: Literal\n",
       "   sub-expressions: \n",
       "2. S -> (x in S^{0})\n",
       "   core type: Lambda\n",
       "   parameter: 10\n",
       "   body: 3\n",
       "3. x in S^{0}\n",
       "   core type: Operation\n",
       "   operator: 4\n",
       "   operands: 5\n",
       "4. in\n",
       "   core type: Literal\n",
       "   sub-expressions: \n",
       "5. (x , S^{0})\n",
       "   core type: ExprTuple\n",
       "   sub-expressions: 6, 7\n",
       "6. x\n",
       "   core type: Variable\n",
       "   sub-expressions: \n",
       "7. S^{0}\n",
       "   core type: Operation\n",
       "   operator: 8\n",
       "   operands: 9\n",
       "8. Exp\n",
       "   core type: Literal\n",
       "   sub-expressions: \n",
       "9. (S , 0)\n",
       "   core type: ExprTuple\n",
       "   sub-expressions: 10, 11\n",
       "10. S\n",
       "    core type: Variable\n",
       "    sub-expressions: \n",
       "11. 0\n",
       "    core type: Literal\n",
       "    sub-expressions: "
      ]
     },
     "execution_count": 4,
     "metadata": {},
     "output_type": "execute_result"
    }
   ],
   "source": [
    "# display the expression information\n",
    "expr.exprInfo()"
   ]
  },
  {
   "cell_type": "code",
   "execution_count": null,
   "metadata": {},
   "outputs": [],
   "source": []
  }
 ],
 "metadata": {
  "kernelspec": {
   "display_name": "Python 3",
   "language": "python",
   "name": "python3"
  }
 },
 "nbformat": 4,
 "nbformat_minor": 0
}
