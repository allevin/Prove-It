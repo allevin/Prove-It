{
 "cells": [
  {
   "cell_type": "markdown",
   "metadata": {},
   "source": [
    "Expression of type <a class=\"ProveItLink\" href=\"../../../../../../doc/html/api/proveit.ExprTuple.html\">ExprTuple</a>\n",
    "=======================\n",
    "# from context <a class=\"ProveItLink\" href=\"../../_context_.ipynb\">proveit.number.addition</a>"
   ]
  },
  {
   "cell_type": "code",
   "execution_count": 1,
   "metadata": {},
   "outputs": [],
   "source": [
    "# import Expression classes needed to build the expression\n",
    "from proveit import ExprTuple\n",
    "from proveit._common_ import CC, n\n",
    "from proveit.logic import InSet\n",
    "from proveit.number import Exp, Naturals"
   ]
  },
  {
   "cell_type": "code",
   "execution_count": 2,
   "metadata": {},
   "outputs": [
    {
     "data": {
      "text/html": [
       "<strong id=\"expr\">expr:</strong> <a class=\"ProveItLink\" href=\"expr.ipynb\"><img src=\"data:image/png;base64,iVBORw0KGgoAAAANSUhEUgAAAFIAAAAVBAMAAAAnX6R8AAAAMFBMVEX////c3NwiIiJERESqqqqY\n",
       "mJh2dnZmZmYQEBDu7u4yMjJUVFTMzMyIiIi6uroAAAAs73DqAAAAAXRSTlMAQObYZgAAAZhJREFU\n",
       "KM9jYCAAWGvfZkOZfBdARNH/boFobCqnvg9gOsDA+gDIPA1SqL9UYGrzX2QVnOuNVzKw66tI3mLg\n",
       "F2BgqAEKrQTi/C9A4v0fFMOYAw4zMPAzMOxleAHkcTEw8AItZ/sPMpzrA4pKbh2gFAcDQw9DOR/Q\n",
       "uQkMHBMYGPy/g6TYDcAq5i5S0gKrfDVhD1Al4weGnjdAxzQwvAIK9n8ESfE6gEiepROgZp7ZMGsC\n",
       "BwOfAUNZAJBrwlDGwMDy3wBhqfAEmO0HfHkMOODi6QxLgWL/AxAqDeHuPMD+IBah0ouhD+iV/wcQ\n",
       "gWOAUMmwk/sEXOIFwz8GBqb/YBsfguOhSUkJ6qMDDLM5V8BVngep5PoPZjeCPbQByUyehBNIKluA\n",
       "ngbbzgZWw6mApJIhhBnJdlOgbD/IcbcgIluRVbIJw1VGAX3PwCD0y5MxqAAiMukBLDZBjCqkUHoE\n",
       "ooL7PxVCRRiXQwKCb30zkJwFV7mOgUMALZmx7IL4HRUAYxMY9cQAtguQVEcYgJwhTZTKjSAvXCBC\n",
       "Ie8BBgB1HGYtTwj4zwAAAABJRU5ErkJggg==\n",
       "\" style=\"display:inline;vertical-align:middle;\" /></a><br>"
      ],
      "text/plain": [
       "expr: (C in Naturals^{n})"
      ]
     },
     "execution_count": 2,
     "metadata": {},
     "output_type": "execute_result"
    }
   ],
   "source": [
    "# build up the expression from sub-expressions\n",
    "expr = ExprTuple(InSet(CC, Exp(Naturals, n)))"
   ]
  },
  {
   "cell_type": "code",
   "execution_count": 3,
   "metadata": {},
   "outputs": [
    {
     "name": "stdout",
     "output_type": "stream",
     "text": [
      "Passed sanity check: built 'expr' is the same as the stored Expression.\n"
     ]
    }
   ],
   "source": [
    "# check that the built expression is the same as the stored expression\n",
    "%check_expr"
   ]
  },
  {
   "cell_type": "code",
   "execution_count": 4,
   "metadata": {},
   "outputs": [
    {
     "data": {
      "text/html": [
       "<table><tr><th>&nbsp;</th><th>core type</th><th>sub-expressions</th><th>expression</th></tr>\n",
       "<tr><td>0</td><td>ExprTuple</td><td>1</td><td><a class=\"ProveItLink\" href=\"expr.ipynb\"><img src=\"data:image/png;base64,iVBORw0KGgoAAAANSUhEUgAAAFIAAAAVBAMAAAAnX6R8AAAAMFBMVEX////c3NwiIiJERESqqqqY\n",
       "mJh2dnZmZmYQEBDu7u4yMjJUVFTMzMyIiIi6uroAAAAs73DqAAAAAXRSTlMAQObYZgAAAZhJREFU\n",
       "KM9jYCAAWGvfZkOZfBdARNH/boFobCqnvg9gOsDA+gDIPA1SqL9UYGrzX2QVnOuNVzKw66tI3mLg\n",
       "F2BgqAEKrQTi/C9A4v0fFMOYAw4zMPAzMOxleAHkcTEw8AItZ/sPMpzrA4pKbh2gFAcDQw9DOR/Q\n",
       "uQkMHBMYGPy/g6TYDcAq5i5S0gKrfDVhD1Al4weGnjdAxzQwvAIK9n8ESfE6gEiepROgZp7ZMGsC\n",
       "BwOfAUNZAJBrwlDGwMDy3wBhqfAEmO0HfHkMOODi6QxLgWL/AxAqDeHuPMD+IBah0ouhD+iV/wcQ\n",
       "gWOAUMmwk/sEXOIFwz8GBqb/YBsfguOhSUkJ6qMDDLM5V8BVngep5PoPZjeCPbQByUyehBNIKluA\n",
       "ngbbzgZWw6mApJIhhBnJdlOgbD/IcbcgIluRVbIJw1VGAX3PwCD0y5MxqAAiMukBLDZBjCqkUHoE\n",
       "ooL7PxVCRRiXQwKCb30zkJwFV7mOgUMALZmx7IL4HRUAYxMY9cQAtguQVEcYgJwhTZTKjSAvXCBC\n",
       "Ie8BBgB1HGYtTwj4zwAAAABJRU5ErkJggg==\n",
       "\" style=\"display:inline;vertical-align:middle;\" /></a></td></tr>\n",
       "<tr><td>1</td><td>Operation</td><td>operator:&nbsp;2<br>operands:&nbsp;3<br></td><td><a class=\"ProveItLink\" href=\"../f560c9b4abbd5ffb8e26dd595e1683a9387b2c330/expr.ipynb\"><img src=\"data:image/png;base64,iVBORw0KGgoAAAANSUhEUgAAAEMAAAARBAMAAAB0ogy8AAAAMFBMVEX////MzMyqqqp2dnaIiIhE\n",
       "RETu7u4yMjKYmJjc3NxUVFQQEBAiIiJmZma6uroAAACABxMuAAAAAXRSTlMAQObYZgAAAS5JREFU\n",
       "KM9jYMAHev2cF4AZb8//XsmxAIsKtr4fDAdBjDffO9m64x2Q5dK/hicw3PmjmVLA8BPIZf6vwMDA\n",
       "918ARX8EYwADwwcGLge+DUCe/T+QWD2qFWsEXBgYNjBwC/BeeMDA9P8CSOwqxHL3M2cKQIx1ZVwC\n",
       "QCXzGbjlBBi4/08AiTmBlYi3QU1ZKMVWBlTylIHXgoFB/yvCeM4wGGshk4MowwYoZ/0PhBLWCXAl\n",
       "DPc4HGBK6j8ilKQyIJRwJSyEKTn/DUTygfW/PnMG6tyFDGwL0uGmfACR3GAlUkimMAgzwpT4gy2y\n",
       "ArNzkJVwKARAOdkgH7GATWfgakBSwmAJU8J5vihhxllotJ2DKYkDYt4CGI8j+v9ZmGenX4TQz38D\n",
       "TWArwJpAtGrOYEgAAEcdVdpgWPfmAAAAAElFTkSuQmCC\n",
       "\" style=\"display:inline;vertical-align:middle;\" /></a></td></tr>\n",
       "<tr><td>2</td><td>Literal</td><td></td><td><a class=\"ProveItLink\" href=\"../../../../logic/set_theory/membership/__pv_it/088cbc857536a28d4119ad9639a84270ccb0545d0/expr.ipynb\"><img src=\"data:image/png;base64,iVBORw0KGgoAAAANSUhEUgAAAAwAAAAMBAMAAACkW0HUAAAALVBMVEX///+qqqpmZmZUVFQQEBC6\n",
       "urpERETc3NyYmJjMzMwiIiIyMjKIiIju7u4AAACYsrA9AAAAAXRSTlMAQObYZgAAADxJREFUCNdj\n",
       "YOA9vWrVBgaG2b0MQMCeCyIZ2ArA1DUwyRCyahVIyWQI7xaEYm4AU7xLIdxqTQgtvGvVBgCkcQ7e\n",
       "geM/tQAAAABJRU5ErkJggg==\n",
       "\" style=\"display:inline;vertical-align:middle;\" /></a></td></tr>\n",
       "<tr><td>3</td><td>ExprTuple</td><td>4, 5</td><td><a class=\"ProveItLink\" href=\"../fedc251a1b3ef8edb3c635e51cd9a120e602eaf40/expr.ipynb\"><img src=\"data:image/png;base64,iVBORw0KGgoAAAANSUhEUgAAAEIAAAAVBAMAAAAA8SWUAAAAMFBMVEX////c3NwiIiJERESqqqqY\n",
       "mJh2dnZmZmYQEBDu7u4yMjJUVFTMzMyIiIi6uroAAAAs73DqAAAAAXRSTlMAQObYZgAAAXNJREFU\n",
       "KM91kj1Iw0AUx/9tbZp+pUEncXUUGlB3VwUxqJMidHNw8GOoIApK3SwmS5d2LtjF1lFQCLgUFMzc\n",
       "qTqVorQWQRD1fJeW82rpwbt7790vefe/d8CQETx63eq5msunPXamr8tErmX6HQTr5N5zIFnUc5lv\n",
       "vhMuT5cQSk6O15DQgUNKlci232lqfXkfB8w7IAHcokFRBIhTEYXxn0XaHhGdopQKZLGv0XFSUG1g\n",
       "6YNvhYwu0bRviPC1kX2hosdoUtJ641vxuS7xUMnbKjQDaZPCGaSBEWZIIqLOYsxQRbiJIuWY2UeE\n",
       "6ht/xALO6YjM6SNwHa2KsIEfwM9s7j8JohC+EMQjJyLM808EEUtVJeKURHhVlIogsBqQqsySZotr\n",
       "qZHZPUIZE8QaqQFGP+d9yzuEdvit8/s9kNQ+82XF6uzyrlk6tHKGvLwgLqHqklJN//9M6NapNdKz\n",
       "GXhIitvt/nCCl5uQYneAuCLzuRg+4g5+AXhdXuHcNBouAAAAAElFTkSuQmCC\n",
       "\" style=\"display:inline;vertical-align:middle;\" /></a></td></tr>\n",
       "<tr><td>4</td><td>Variable</td><td></td><td><a class=\"ProveItLink\" href=\"../../../../__pv_it/9242e69d4f2c65d04fc0527b82418c7c22c6da370/expr.ipynb\"><img src=\"data:image/png;base64,iVBORw0KGgoAAAANSUhEUgAAABEAAAAPBAMAAADwnzkiAAAAMFBMVEX////MzMyqqqp2dnaIiIhE\n",
       "RETu7u4yMjKYmJjc3NxUVFQQEBAiIiJmZma6uroAAACABxMuAAAAAXRSTlMAQObYZgAAAHRJREFU\n",
       "CNdjYGBgeHv+90qOBUDGm++dbN3xDgwMzP8VGBj4/gswMNj/A4oz1DMwMP2/AGJdZWDg/j8BxHJi\n",
       "YND/ygAF63/AWPUfYazz30AkH1Bx/QcQixvI8gfLWgFxNkgvSwGQ4DxflDDjLFgLR/T/syDDAbB9\n",
       "IeZrCwgeAAAAAElFTkSuQmCC\n",
       "\" style=\"display:inline;vertical-align:middle;\" /></a></td></tr>\n",
       "<tr><td>5</td><td>Operation</td><td>operator:&nbsp;6<br>operands:&nbsp;7<br></td><td><a class=\"ProveItLink\" href=\"../69a2b2e6932bfd3741383d64b25310d63e30101e0/expr.ipynb\"><img src=\"data:image/png;base64,iVBORw0KGgoAAAANSUhEUgAAABkAAAAQBAMAAAARyMmYAAAAMFBMVEX////c3Nx2dna6uroQEBCI\n",
       "iIhUVFTMzMyYmJiqqqoiIiJmZmZEREQyMjLu7u4AAADjlg78AAAAAXRSTlMAQObYZgAAAJBJREFU\n",
       "CNdjYICC7uCgBBibga/5B8NyBoa3f84+YNj1a+LTCwwfgaIn2A8wMHxgYAtgdgDysgpCGRgcGFgK\n",
       "uDcYMDAk32MrAPLkGViKCxgY0sv47gF5NgzcGkCV6ZwBNQwOMLPTGTZzBCDx2B6kI/H4Et4i8RiK\n",
       "2JF5HBMOIPEYFOG8w0DMfQHKsf0CFOeD8gAPnCdVZiuEKQAAAABJRU5ErkJggg==\n",
       "\" style=\"display:inline;vertical-align:middle;\" /></a></td></tr>\n",
       "<tr><td>6</td><td>Literal</td><td></td><td><a class=\"ProveItLink\" href=\"../../../exponentiation/__pv_it/deb2bf23cbccdd6e6791e1b35b5b9794ce12dbd50/expr.ipynb\"><img src=\"data:image/png;base64,iVBORw0KGgoAAAANSUhEUgAAACgAAAASBAMAAADbMYGVAAAAMFBMVEX///8QEBAiIiKYmJjc3Nzu\n",
       "7u7MzMx2dnZmZma6urpERESqqqoyMjJUVFSIiIgAAAAoDOMTAAAAAXRSTlMAQObYZgAAAOBJREFU\n",
       "GNNjYGB4+//u3Tt/GNAASGAXmhjnPyDBgSbI/g1IxKEJ8nxgYGdgQRPkX8BgDKRY6q7s62OYvmze\n",
       "2wAgb/7ZO1+AVDiDkYEQQ0HTBr4DQF59AgOIKmB4z7CNbcNZBu6vQN55kEACQwDDLQYGVobfDHwg\n",
       "fb8YGBxYHwAZciD3fWXg+gB1JjvQcJZvQIXsCgz8F6DO9GBgMOH7wPCUgaeBwd4B7EwGNjUG7s9c\n",
       "AiwPgO5jkWRgiF3/9+5dfQUG1nWl5Y+B7pv+1gE9bBhqGLCAE1jEWH9jEbT5A3IwAC4sP/1L6Qlu\n",
       "AAAAAElFTkSuQmCC\n",
       "\" style=\"display:inline;vertical-align:middle;\" /></a></td></tr>\n",
       "<tr><td>7</td><td>ExprTuple</td><td>8, 9</td><td><a class=\"ProveItLink\" href=\"../5ca840b572809572b0219fecbc4a1900d66c35200/expr.ipynb\"><img src=\"data:image/png;base64,iVBORw0KGgoAAAANSUhEUgAAADEAAAAVBAMAAAAdjxsPAAAAMFBMVEX////c3NwiIiJERESqqqqY\n",
       "mJh2dnZmZmYQEBDu7u4yMjJUVFTMzMyIiIi6uroAAAAs73DqAAAAAXRSTlMAQObYZgAAAR9JREFU\n",
       "KM910TFLw0AUwPG/mGjOpFVwFFHwC8Shi4PkI3Ry1IiDkyAOjtLBWTKWLt7ikE0cpUhAcOmSwU2F\n",
       "6CSCUHVRkOJdLhpTa4Z7ee93ecnLwf9XPR1RXNdLj87bSsTea/BLJhO1xNDwfOhXHpJQU83Okjto\n",
       "VWQNnAguYjcZkjY8qdDtiXhIxgP2tVjp5bc8L8/fhDCxy4kWDuy0kPA8FZ9gSY5ycaOukXq2hBio\n",
       "2GKQizjtGBGqbH2A1y+EK6/opsquzOXQiB34xfSS6WakuzWMsOkjtDghG1GILdlW2arZe7yo4kLG\n",
       "lpXor35Qw76rTkLSflHyCLPXMJXhzJSD31f+jh2WabO83TGn8FdUb5j7SWvlHle/Y2zUad/CF00A\n",
       "TtKGQKKeAAAAAElFTkSuQmCC\n",
       "\" style=\"display:inline;vertical-align:middle;\" /></a></td></tr>\n",
       "<tr><td>8</td><td>Literal</td><td></td><td><a class=\"ProveItLink\" href=\"../../../sets/integer/__pv_it/e5d9bd86b06b357eee742ad868997123619e09700/expr.ipynb\"><img src=\"data:image/png;base64,iVBORw0KGgoAAAANSUhEUgAAAA8AAAAOBAMAAAACpFvcAAAAMFBMVEX////c3Nx2dna6uroQEBCI\n",
       "iIhUVFTMzMyYmJiqqqoiIiJmZmZEREQyMjLu7u4AAADjlg78AAAAAXRSTlMAQObYZgAAAGBJREFU\n",
       "CNdjePvn7AOGXb8mMDCcYD/AwPCBgYEhqyCUgcEByEi+x1YAZqSX8d2DMDgDaiAMhs0cARAG24N0\n",
       "CIMv4S2EwVDEDmVwTDgAYTAoghiHgZj7AgOD7Rcgj+8CAwA9oh2B0HK+MAAAAABJRU5ErkJggg==\n",
       "\" style=\"display:inline;vertical-align:middle;\" /></a></td></tr>\n",
       "<tr><td>9</td><td>Variable</td><td></td><td><a class=\"ProveItLink\" href=\"../../../../__pv_it/39dbcd3ca0390345b51c6ef7785756419e2c14390/expr.ipynb\"><img src=\"data:image/png;base64,iVBORw0KGgoAAAANSUhEUgAAAAwAAAAJBAMAAAD0ltBnAAAAMFBMVEX///8QEBCYmJhmZmaqqqoi\n",
       "IiLMzMzu7u4yMjJ2dnZUVFTc3NxERESIiIi6uroAAABbPXqjAAAAAXRSTlMAQObYZgAAAERJREFU\n",
       "CNdj4Luz++5KBgZOrl6G+gSGd6wHGOofMBQAsX8BAwivYGBgsGBg+MTOwCDJwPSdk4H7HwPnATcG\n",
       "PgEG7rMOAGtQEUwHZIDZAAAAAElFTkSuQmCC\n",
       "\" style=\"display:inline;vertical-align:middle;\" /></a></td></tr>\n",
       "</table>\n"
      ],
      "text/plain": [
       "0. (C in Naturals^{n})\n",
       "   core type: ExprTuple\n",
       "   sub-expressions: 1\n",
       "1. C in Naturals^{n}\n",
       "   core type: Operation\n",
       "   operator: 2\n",
       "   operands: 3\n",
       "2. in\n",
       "   core type: Literal\n",
       "   sub-expressions: \n",
       "3. (C , Naturals^{n})\n",
       "   core type: ExprTuple\n",
       "   sub-expressions: 4, 5\n",
       "4. C\n",
       "   core type: Variable\n",
       "   sub-expressions: \n",
       "5. Naturals^{n}\n",
       "   core type: Operation\n",
       "   operator: 6\n",
       "   operands: 7\n",
       "6. Exp\n",
       "   core type: Literal\n",
       "   sub-expressions: \n",
       "7. (Naturals , n)\n",
       "   core type: ExprTuple\n",
       "   sub-expressions: 8, 9\n",
       "8. Naturals\n",
       "   core type: Literal\n",
       "   sub-expressions: \n",
       "9. n\n",
       "   core type: Variable\n",
       "   sub-expressions: "
      ]
     },
     "execution_count": 4,
     "metadata": {},
     "output_type": "execute_result"
    }
   ],
   "source": [
    "# display the expression information\n",
    "expr.exprInfo()"
   ]
  },
  {
   "cell_type": "code",
   "execution_count": null,
   "metadata": {},
   "outputs": [],
   "source": []
  }
 ],
 "metadata": {
  "kernelspec": {
   "display_name": "Python 3",
   "language": "python",
   "name": "python3"
  }
 },
 "nbformat": 4,
 "nbformat_minor": 0
}
