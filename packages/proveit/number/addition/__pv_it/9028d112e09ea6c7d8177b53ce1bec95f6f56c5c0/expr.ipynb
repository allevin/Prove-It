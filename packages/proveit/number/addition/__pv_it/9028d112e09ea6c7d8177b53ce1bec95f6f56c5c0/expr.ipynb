{
 "cells": [
  {
   "cell_type": "markdown",
   "metadata": {},
   "source": [
    "Expression of type <a class=\"ProveItLink\" href=\"../../../../../../doc/html/api/proveit.ExprTuple.html\">ExprTuple</a>\n",
    "=======================\n",
    "# from context <a class=\"ProveItLink\" href=\"../../_context_.ipynb\">proveit.number.addition</a>"
   ]
  },
  {
   "cell_type": "code",
   "execution_count": 1,
   "metadata": {},
   "outputs": [],
   "source": [
    "# import Expression classes needed to build the expression\n",
    "from proveit import ExprTuple, Variable\n",
    "from proveit._common_ import b, c\n",
    "from proveit.number import Mult, Neg, three, two"
   ]
  },
  {
   "cell_type": "code",
   "execution_count": 2,
   "metadata": {},
   "outputs": [
    {
     "data": {
      "text/html": [
       "<strong id=\"expr\">expr:</strong> <a class=\"ProveItLink\" href=\"expr.ipynb\"><img src=\"data:image/png;base64,iVBORw0KGgoAAAANSUhEUgAAAOUAAAAVBAMAAABLdTQ8AAAAMFBMVEX////c3NwiIiJERESqqqqY\n",
       "mJh2dnZmZmYQEBDu7u4yMjJUVFTMzMyIiIi6uroAAAAs73DqAAAAAXRSTlMAQObYZgAAAotJREFU\n",
       "SMfFlj2IE0EUx/+bz93kkj0rQQuDhXYSUEslYGGjuGdhKYdFDoWDNJ5wIh4iBxanW4lgkYBayDUR\n",
       "FWwOUqlgYRrR4wwXLW0S9YIEgnHmzczu7G4WUsVXbN788t6+mfexu8D/kGJ7puEu88sHYP/qaQGs\n",
       "N6WwzdvqCU9/fEdpnkeAxgFdsi12eQ6jid2KILlmyMSooecnYlNR30Oj8UCXBlBoI+8i0RfAroQs\n",
       "Mnuw/bPvyV/NQ6PxQJdLgOnCvIf8XwF6bsgipccsDqWieWg0FgTkEfCDJXSIrLzDlQlGfm4zKrrm\n",
       "odFYEJBkBSukJOTWNjuvZTdVO61IdXJbO47SE8NJdCIwll+cv+XvqIZnpHxcFJF+wxah3ndzYrdz\n",
       "1/y2qpcxUrr0CNGJ4CEuOn4rpxq4T8oTuR7CpHtZG0iqvX7pcsALfcHFunIljwglCYNF7OKcX+01\n",
       "UFmyZTk8Ddg1aky/K2HyLNb5qVeBP2rMyCNIDxzmckw3I3HxUlvN9UXMHVUkNo10PLusatFCcsC7\n",
       "jYOjKA4kFx5hKiQCsBGMeZentIZ9ajxv07QcUr1aH4qYcu6ysnM8jwCNA8YIlp7bk+znHbAAHos1\n",
       "0Dr9bbPTOqQ0kPipzEe82rQn8ojQGLBQ6GPbW6UbWGLbOFJdKlm/eBkr2SYVKV9DpsWVgoOe16Gv\n",
       "cBNkRx4RGgNSg+Sa0dZn5Tur4ng8LlkP5lkfbl1nReLnWulsC+Xsjaf+w/uzA7IjjwiNgDPHmbjW\n",
       "qavVT2rBprcLUxkXPa9vESXwZJufik42E8++tMpc2qNORNEljaloOu7Zt0zvspnGtNi7DAflwqty\n",
       "IaIEpD0djfv6yPOcG7P9NvkK/AOMgs1pCdiraAAAAABJRU5ErkJggg==\n",
       "\" style=\"display:inline;vertical-align:middle;\" /></a><br>"
      ],
      "text/plain": [
       "expr: (2 , b , c , 3 * b , 2 * b , -b , _x_)"
      ]
     },
     "execution_count": 2,
     "metadata": {},
     "output_type": "execute_result"
    }
   ],
   "source": [
    "# build up the expression from sub-expressions\n",
    "expr = ExprTuple(two, b, c, Mult(three, b), Mult(two, b), Neg(b), Variable(\"_x_\", latexFormat = r\"{_{-}x_{-}}\"))"
   ]
  },
  {
   "cell_type": "code",
   "execution_count": 3,
   "metadata": {},
   "outputs": [
    {
     "name": "stdout",
     "output_type": "stream",
     "text": [
      "Passed sanity check: built 'expr' is the same as the stored Expression.\n"
     ]
    }
   ],
   "source": [
    "# check that the built expression is the same as the stored expression\n",
    "%check_expr"
   ]
  },
  {
   "cell_type": "code",
   "execution_count": 4,
   "metadata": {},
   "outputs": [
    {
     "data": {
      "text/html": [
       "<table><tr><th>&nbsp;</th><th>core type</th><th>sub-expressions</th><th>expression</th></tr>\n",
       "<tr><td>0</td><td>ExprTuple</td><td>11, 12, 1, 2, 3, 4, 5</td><td><a class=\"ProveItLink\" href=\"expr.ipynb\"><img src=\"data:image/png;base64,iVBORw0KGgoAAAANSUhEUgAAAOUAAAAVBAMAAABLdTQ8AAAAMFBMVEX////c3NwiIiJERESqqqqY\n",
       "mJh2dnZmZmYQEBDu7u4yMjJUVFTMzMyIiIi6uroAAAAs73DqAAAAAXRSTlMAQObYZgAAAotJREFU\n",
       "SMfFlj2IE0EUx/+bz93kkj0rQQuDhXYSUEslYGGjuGdhKYdFDoWDNJ5wIh4iBxanW4lgkYBayDUR\n",
       "FWwOUqlgYRrR4wwXLW0S9YIEgnHmzczu7G4WUsVXbN788t6+mfexu8D/kGJ7puEu88sHYP/qaQGs\n",
       "N6WwzdvqCU9/fEdpnkeAxgFdsi12eQ6jid2KILlmyMSooecnYlNR30Oj8UCXBlBoI+8i0RfAroQs\n",
       "Mnuw/bPvyV/NQ6PxQJdLgOnCvIf8XwF6bsgipccsDqWieWg0FgTkEfCDJXSIrLzDlQlGfm4zKrrm\n",
       "odFYEJBkBSukJOTWNjuvZTdVO61IdXJbO47SE8NJdCIwll+cv+XvqIZnpHxcFJF+wxah3ndzYrdz\n",
       "1/y2qpcxUrr0CNGJ4CEuOn4rpxq4T8oTuR7CpHtZG0iqvX7pcsALfcHFunIljwglCYNF7OKcX+01\n",
       "UFmyZTk8Ddg1aky/K2HyLNb5qVeBP2rMyCNIDxzmckw3I3HxUlvN9UXMHVUkNo10PLusatFCcsC7\n",
       "jYOjKA4kFx5hKiQCsBGMeZentIZ9ajxv07QcUr1aH4qYcu6ysnM8jwCNA8YIlp7bk+znHbAAHos1\n",
       "0Dr9bbPTOqQ0kPipzEe82rQn8ojQGLBQ6GPbW6UbWGLbOFJdKlm/eBkr2SYVKV9DpsWVgoOe16Gv\n",
       "cBNkRx4RGgNSg+Sa0dZn5Tur4ng8LlkP5lkfbl1nReLnWulsC+Xsjaf+w/uzA7IjjwiNgDPHmbjW\n",
       "qavVT2rBprcLUxkXPa9vESXwZJufik42E8++tMpc2qNORNEljaloOu7Zt0zvspnGtNi7DAflwqty\n",
       "IaIEpD0djfv6yPOcG7P9NvkK/AOMgs1pCdiraAAAAABJRU5ErkJggg==\n",
       "\" style=\"display:inline;vertical-align:middle;\" /></a></td></tr>\n",
       "<tr><td>1</td><td>Variable</td><td></td><td><a class=\"ProveItLink\" href=\"../../../../__pv_it/cbdfda466482236edba0ce44ac7ef39cda0af7a40/expr.ipynb\"><img src=\"data:image/png;base64,iVBORw0KGgoAAAANSUhEUgAAAAkAAAAJBAMAAAASvxsjAAAALVBMVEX///9mZmbc3NxUVFSYmJhE\n",
       "REQiIiIyMjK6uroQEBDMzMyIiIh2dnbu7u4AAABgFDGoAAAAAXRSTlMAQObYZgAAADZJREFUCNdj\n",
       "YOA9s3sBA8PKBvYEBt7ZDKwODMwPGICALwBE6m0Asx0YGIDiAgw8QJUyu/cyAAAmuwmycZ8WfQAA\n",
       "AABJRU5ErkJggg==\n",
       "\" style=\"display:inline;vertical-align:middle;\" /></a></td></tr>\n",
       "<tr><td>2</td><td>Operation</td><td>operator:&nbsp;7<br>operands:&nbsp;6<br></td><td><a class=\"ProveItLink\" href=\"../1e631544db83ce4853cc0a486ec7448a56387f780/expr.ipynb\"><img src=\"data:image/png;base64,iVBORw0KGgoAAAANSUhEUgAAACIAAAAOBAMAAAC4B9O8AAAAMFBMVEX///+YmJju7u4QEBBUVFQy\n",
       "MjIiIiKIiIi6urpmZmbc3NyqqqpERER2dnbMzMwAAAB0GlNiAAAAAXRSTlMAQObYZgAAAJhJREFU\n",
       "CNdjYHh79zQDDKiYAQmuCQz9BXChECDm/c3AnwAX+Q3E3MgiHJ8gNEIXbwJCMwSwupcIMDDwXXWA\n",
       "i+gfYPgHoosbgASTApDYr8BgCxJhBpmnDzJiKgPDTwauBww8H4Ec5QNAIpOB4yOD/ieICNQ5nJ8Y\n",
       "+AMY2H7BRP4xMF9gYBdg6L8AE/FmmAIkd86MRvi0UoABAPL2JMAQl6zyAAAAAElFTkSuQmCC\n",
       "\" style=\"display:inline;vertical-align:middle;\" /></a></td></tr>\n",
       "<tr><td>3</td><td>Operation</td><td>operator:&nbsp;7<br>operands:&nbsp;8<br></td><td><a class=\"ProveItLink\" href=\"../4fa23b01b5b767887c70271cab015f5b5c98d38c0/expr.ipynb\"><img src=\"data:image/png;base64,iVBORw0KGgoAAAANSUhEUgAAACEAAAAOBAMAAABTMGi/AAAAMFBMVEX///+YmJh2dnbMzMwQEBAi\n",
       "IiLu7u6qqqqIiIhUVFS6urpEREQyMjJmZmbc3NwAAACOMKdoAAAAAXRSTlMAQObYZgAAAKBJREFU\n",
       "CNdj4Lt7egEDFLBNCQCSLxk4vsNEGHgmAIlpDAzxcBH+AiDhksAwH65tfQKQOJ/AcB8uogql4xNg\n",
       "Iic7JoIo5k9wu34z8BuALNgA4qUBMfs3BhYFIH0bLP0VSPAeYOC/wMDAMQEs4g0kWC8wrBdgYKhl\n",
       "4HuAcM79BAbmCwyMcBEDBicGhqdKSldhdnEW8AKNiP///yvc9hkXGRgAQ2knSfB0jgcAAAAASUVO\n",
       "RK5CYII=\n",
       "\" style=\"display:inline;vertical-align:middle;\" /></a></td></tr>\n",
       "<tr><td>4</td><td>Operation</td><td>operator:&nbsp;9<br>operand:&nbsp;12<br></td><td><a class=\"ProveItLink\" href=\"../74752f37113c2f2a910a8022bc04ee9e9dd06cc10/expr.ipynb\"><img src=\"data:image/png;base64,iVBORw0KGgoAAAANSUhEUgAAABgAAAAOBAMAAADH1sFNAAAAMFBMVEX///9mZmbMzMxERESYmJiI\n",
       "iIh2dnaqqqoQEBBUVFTu7u66uroiIiIyMjLc3NwAAABYXk/VAAAAAXRSTlMAQObYZgAAAFRJREFU\n",
       "CNdjYICClT0MSOAmMuc7Epv7FxKH7QASh3dqpAOcs96A4ROcU7+AoY3h7RkQOM0gy8DwES5zkIH7\n",
       "C5I1jAjDPzFwJMA50xkkEfasDHRgAABNpxc6/bk9/gAAAABJRU5ErkJggg==\n",
       "\" style=\"display:inline;vertical-align:middle;\" /></a></td></tr>\n",
       "<tr><td>5</td><td>Variable</td><td></td><td><a class=\"ProveItLink\" href=\"../5144cf74ae6a683b49b974f1b9302b432abf7e930/expr.ipynb\"><img src=\"data:image/png;base64,iVBORw0KGgoAAAANSUhEUgAAACUAAAAJBAMAAABH3vh9AAAAKlBMVEX////MzMwQEBAiIiKYmJhm\n",
       "ZmZUVFSIiIh2dnbc3Nzu7u5ERESqqqoAAABwkVEpAAAAAXRSTlMAQObYZgAAAEtJREFUCNdjYIAA\n",
       "zvbM4+EMqGAFg7ODMppYA0Mtw0E0sQUM2QyYQB1TiPMiAxeakCf7BYYqVCGeK9wKnAUw3undQLCA\n",
       "a3tXRwmMAwC3+RVNp6j0GAAAAABJRU5ErkJggg==\n",
       "\" style=\"display:inline;vertical-align:middle;\" /></a></td></tr>\n",
       "<tr><td>6</td><td>ExprTuple</td><td>10, 12</td><td><a class=\"ProveItLink\" href=\"../ed5a6ec4c875d8d4dac8f1f17e42c24dc92561870/expr.ipynb\"><img src=\"data:image/png;base64,iVBORw0KGgoAAAANSUhEUgAAACkAAAAVBAMAAAAp9toTAAAAMFBMVEX////c3NwiIiJERESqqqqY\n",
       "mJh2dnZmZmYQEBDu7u4yMjJUVFTMzMyIiIi6uroAAAAs73DqAAAAAXRSTlMAQObYZgAAARBJREFU\n",
       "GNNtka9Pw0AcxT/d2rVlY53H7I8AX4edQpIGAQnJkhpAgiBIqMRRAYLM1JBgSKowmEkEJAtypvya\n",
       "qCF873odScOJd++95L737h38v/rThrGt4Aked9crw78fgpsLu8WKKcyBlUwghdUpnW+CYeUGocAW\n",
       "eAn2n1skApcwr5SZsKOgHXKo1cTcP3m9g07MjfDefmYyfBHk2CnnWj7P9GaXeBH9E3609Eq9uSlB\n",
       "TO9duVZOe6HdliQfKfcUrsralbjHiZqwITyl9YFKKledgZOyJ88bUUT+p7jd0M10sjcRm0fX+BcD\n",
       "SfZwoMqY4Q3qRmuiXuxEhjvLgse6yYbrS5OsGbH8kq4aZTV/6AV+AUvGQYW/r0RJAAAAAElFTkSu\n",
       "QmCC\n",
       "\" style=\"display:inline;vertical-align:middle;\" /></a></td></tr>\n",
       "<tr><td>7</td><td>Literal</td><td></td><td><a class=\"ProveItLink\" href=\"../../../multiplication/__pv_it/21fd2079611555ecce512d99547a00d551e6b86b0/expr.ipynb\"><img src=\"data:image/png;base64,iVBORw0KGgoAAAANSUhEUgAAAAMAAAADBAMAAACkBqiMAAAAElBMVEX///9EREQQEBAiIiLu7u4A\n",
       "AABGBidwAAAAAXRSTlMAQObYZgAAABFJREFUCNdjYHFgcDVgcBIAAASWAQx4jI0xAAAAAElFTkSu\n",
       "QmCC\n",
       "\" style=\"display:inline;vertical-align:middle;\" /></a></td></tr>\n",
       "<tr><td>8</td><td>ExprTuple</td><td>11, 12</td><td><a class=\"ProveItLink\" href=\"../3a7fed3333ef42636d071b31cc212d3a8cbf468e0/expr.ipynb\"><img src=\"data:image/png;base64,iVBORw0KGgoAAAANSUhEUgAAACkAAAAVBAMAAAAp9toTAAAAMFBMVEX////c3NwiIiJERESqqqqY\n",
       "mJh2dnZmZmYQEBDu7u4yMjJUVFTMzMyIiIi6uroAAAAs73DqAAAAAXRSTlMAQObYZgAAARNJREFU\n",
       "GNNtkaFPw0AUxn8tK20prEMhMFVoDJb0TwCDJA2CKZIaEBgQhAQDlcgmBEEwNSQYkjkEgnlGIEjM\n",
       "FqZqKO/u2omGipf3/a737rvv4P+vO2yBXVVeYOV40wD/MQJ3IN0dVsFHbPBCISWHpSFBhj0xNFSr\n",
       "O+BleBcEv4aOMynX8C3bStya7qkyF3OklV0aev/+APMpt1q9JsbDlHBAJ+dSyxvza6fES+ieoge6\n",
       "64a6OWHK4sTQt/padsp4S9EztTFlubF7kqkJGyKeYRvlVI46ByenD9bafj/yf4QGsVtoZ18yraqq\n",
       "yL/qibOnQxXGJ16vSbRp1I2dpO6dWcAHOskW9SVJVmsxe5JAjbLaLzSCP9bMPeBRRV1aAAAAAElF\n",
       "TkSuQmCC\n",
       "\" style=\"display:inline;vertical-align:middle;\" /></a></td></tr>\n",
       "<tr><td>9</td><td>Literal</td><td></td><td><a class=\"ProveItLink\" href=\"../../../negation/__pv_it/3fc7a08bb9735faa20ef8e175f6ea95511acc9c70/expr.ipynb\"><img src=\"data:image/png;base64,iVBORw0KGgoAAAANSUhEUgAAAA4AAAACBAMAAACapPCZAAAAElBMVEX///+6uroiIiIyMjLc3NwA\n",
       "AAA6l9OrAAAAAXRSTlMAQObYZgAAABBJREFUCNdjcFYCAUUGKAAADR4BD8/TF5gAAAAASUVORK5C\n",
       "YII=\n",
       "\" style=\"display:inline;vertical-align:middle;\" /></a></td></tr>\n",
       "<tr><td>10</td><td>Literal</td><td></td><td><a class=\"ProveItLink\" href=\"../../../numeral/__pv_it/9176d93c83afa2c995b614976e3cb49207102fa70/expr.ipynb\"><img src=\"data:image/png;base64,iVBORw0KGgoAAAANSUhEUgAAAAoAAAAOBAMAAADkjZCYAAAAMFBMVEX///+YmJju7u4QEBBUVFQy\n",
       "MjIiIiKIiIi6urpmZmbc3NyqqqpERER2dnbMzMwAAAB0GlNiAAAAAXRSTlMAQObYZgAAAE1JREFU\n",
       "CNdjYHh79zQDA9cEhv4CBt7fDPwJDNxgEgiAIkAQAsR8Vx1ATIbiBhDJ/ImB6wEDz0cG/U8gkj+A\n",
       "ge0XA7sAQ/8FBoadM6MZAEflFACalZ/OAAAAAElFTkSuQmCC\n",
       "\" style=\"display:inline;vertical-align:middle;\" /></a></td></tr>\n",
       "<tr><td>11</td><td>Literal</td><td></td><td><a class=\"ProveItLink\" href=\"../../../numeral/__pv_it/77d407a64829263cdc16415becd4c2293f77a4bf0/expr.ipynb\"><img src=\"data:image/png;base64,iVBORw0KGgoAAAANSUhEUgAAAAkAAAAOBAMAAAAPuiubAAAAMFBMVEX///+YmJh2dnbMzMwQEBAi\n",
       "IiLu7u6qqqqIiIhUVFS6urpEREQyMjJmZmbc3NwAAACOMKdoAAAAAXRSTlMAQObYZgAAAFBJREFU\n",
       "CNdj4Lt7egEDw0sGju8MDNMYGOIZGFwSGOYvYDifwHAfKAEUSQASzJ9ATJ4NIPI2iOCYACJrGfge\n",
       "MDBfYGB8wPBUSekqUPH//18ZAIliFhc3zESNAAAAAElFTkSuQmCC\n",
       "\" style=\"display:inline;vertical-align:middle;\" /></a></td></tr>\n",
       "<tr><td>12</td><td>Variable</td><td></td><td><a class=\"ProveItLink\" href=\"../../../../__pv_it/6840a4fa6c106149dc16a131294d0c5e44f1b0480/expr.ipynb\"><img src=\"data:image/png;base64,iVBORw0KGgoAAAANSUhEUgAAAAkAAAAOBAMAAAAPuiubAAAALVBMVEX///9mZmbMzMxERESYmJiI\n",
       "iIh2dna6urqqqqoyMjIiIiIQEBBUVFTu7u4AAAD9S1JeAAAAAXRSTlMAQObYZgAAAE1JREFUCNdj\n",
       "4D29gAEIOA+ASL4GEFl3AURmgQiGOaFHGBh4HzPwKTBwvGXgTmBgnMDAJ8DAJcBQ5wBSLncBJLWN\n",
       "gYGngRFoBO9REQYGAGrcDtUkVqASAAAAAElFTkSuQmCC\n",
       "\" style=\"display:inline;vertical-align:middle;\" /></a></td></tr>\n",
       "</table>\n"
      ],
      "text/plain": [
       "0. (2 , b , c , 3 * b , 2 * b , -b , _x_)\n",
       "   core type: ExprTuple\n",
       "   sub-expressions: 11, 12, 1, 2, 3, 4, 5\n",
       "1. c\n",
       "   core type: Variable\n",
       "   sub-expressions: \n",
       "2. 3 * b\n",
       "   core type: Operation\n",
       "   operator: 7\n",
       "   operands: 6\n",
       "3. 2 * b\n",
       "   core type: Operation\n",
       "   operator: 7\n",
       "   operands: 8\n",
       "4. -b\n",
       "   core type: Operation\n",
       "   operator: 9\n",
       "   operand: 12\n",
       "5. _x_\n",
       "   core type: Variable\n",
       "   sub-expressions: \n",
       "6. (3 , b)\n",
       "   core type: ExprTuple\n",
       "   sub-expressions: 10, 12\n",
       "7. *\n",
       "   core type: Literal\n",
       "   sub-expressions: \n",
       "8. (2 , b)\n",
       "   core type: ExprTuple\n",
       "   sub-expressions: 11, 12\n",
       "9. -\n",
       "   core type: Literal\n",
       "   sub-expressions: \n",
       "10. 3\n",
       "    core type: Literal\n",
       "    sub-expressions: \n",
       "11. 2\n",
       "    core type: Literal\n",
       "    sub-expressions: \n",
       "12. b\n",
       "    core type: Variable\n",
       "    sub-expressions: "
      ]
     },
     "execution_count": 4,
     "metadata": {},
     "output_type": "execute_result"
    }
   ],
   "source": [
    "# display the expression information\n",
    "expr.exprInfo()"
   ]
  },
  {
   "cell_type": "code",
   "execution_count": null,
   "metadata": {},
   "outputs": [],
   "source": []
  }
 ],
 "metadata": {
  "kernelspec": {
   "display_name": "Python 3",
   "language": "python",
   "name": "python3"
  }
 },
 "nbformat": 4,
 "nbformat_minor": 0
}
