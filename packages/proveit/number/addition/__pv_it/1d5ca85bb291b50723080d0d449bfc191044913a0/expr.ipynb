{
 "cells": [
  {
   "cell_type": "markdown",
   "metadata": {},
   "source": [
    "Expression of type <a class=\"ProveItLink\" href=\"../../../../../../doc/html/api/proveit.number.Exp.html\">Exp</a>\n",
    "=======================\n",
    "# from context <a class=\"ProveItLink\" href=\"../../_context_.ipynb\">proveit.number.addition</a>"
   ]
  },
  {
   "cell_type": "code",
   "execution_count": 1,
   "metadata": {},
   "outputs": [],
   "source": [
    "# import Expression classes needed to build the expression\n",
    "from proveit.number import Complexes, Exp, five"
   ]
  },
  {
   "cell_type": "code",
   "execution_count": 2,
   "metadata": {},
   "outputs": [
    {
     "data": {
      "text/html": [
       "<strong id=\"expr\">expr:</strong> <a class=\"ProveItLink\" href=\"expr.ipynb\"><img src=\"data:image/png;base64,iVBORw0KGgoAAAANSUhEUgAAABcAAAAUBAMAAACUkLs9AAAAMFBMVEX////c3NyqqqqYmJhUVFR2\n",
       "dnbu7u66urrMzMxmZmZEREQQEBAyMjIiIiKIiIgAAAB7fvZ0AAAAAXRSTlMAQObYZgAAAJZJREFU\n",
       "GNNjYICCSjE7Bjio/++A4BQXItgM5Uhshsp30xAcQQYdEMV35/zelUA6v4GBgaO+gC3+CcMJBv4C\n",
       "BgYDZwYGpi8MOxjkBRiYEzYAlUxhCGN4wsDAyQiyLI+BNTKAgSGTPQBhZCuTARKHHYmTxYGkjCcB\n",
       "ybXMASAOG5S3uA5I1CZAOCxez9iqlsEUdt7/7Q5hAQDDzB+JAiNuCgAAAABJRU5ErkJggg==\n",
       "\" style=\"display:inline;vertical-align:middle;\" /></a><br>"
      ],
      "text/plain": [
       "expr: Complexes^{5}"
      ]
     },
     "execution_count": 2,
     "metadata": {},
     "output_type": "execute_result"
    }
   ],
   "source": [
    "# build up the expression from sub-expressions\n",
    "expr = Exp(Complexes, five)"
   ]
  },
  {
   "cell_type": "code",
   "execution_count": 3,
   "metadata": {},
   "outputs": [
    {
     "name": "stdout",
     "output_type": "stream",
     "text": [
      "Passed sanity check: built 'expr' is the same as the stored Expression.\n"
     ]
    }
   ],
   "source": [
    "# check that the built expression is the same as the stored expression\n",
    "%check_expr"
   ]
  },
  {
   "cell_type": "code",
   "execution_count": 4,
   "metadata": {},
   "outputs": [
    {
     "data": {
      "text/html": [
       "<table><tr><th>&nbsp;</th><th>core type</th><th>sub-expressions</th><th>expression</th></tr>\n",
       "<tr><td>0</td><td>Operation</td><td>operator:&nbsp;1<br>operands:&nbsp;2<br></td><td><a class=\"ProveItLink\" href=\"expr.ipynb\"><img src=\"data:image/png;base64,iVBORw0KGgoAAAANSUhEUgAAABcAAAAUBAMAAACUkLs9AAAAMFBMVEX////c3NyqqqqYmJhUVFR2\n",
       "dnbu7u66urrMzMxmZmZEREQQEBAyMjIiIiKIiIgAAAB7fvZ0AAAAAXRSTlMAQObYZgAAAJZJREFU\n",
       "GNNjYICCSjE7Bjio/++A4BQXItgM5Uhshsp30xAcQQYdEMV35/zelUA6v4GBgaO+gC3+CcMJBv4C\n",
       "BgYDZwYGpi8MOxjkBRiYEzYAlUxhCGN4wsDAyQiyLI+BNTKAgSGTPQBhZCuTARKHHYmTxYGkjCcB\n",
       "ybXMASAOG5S3uA5I1CZAOCxez9iqlsEUdt7/7Q5hAQDDzB+JAiNuCgAAAABJRU5ErkJggg==\n",
       "\" style=\"display:inline;vertical-align:middle;\" /></a></td></tr>\n",
       "<tr><td>1</td><td>Literal</td><td></td><td><a class=\"ProveItLink\" href=\"../../../exponentiation/__pv_it/deb2bf23cbccdd6e6791e1b35b5b9794ce12dbd50/expr.ipynb\"><img src=\"data:image/png;base64,iVBORw0KGgoAAAANSUhEUgAAACgAAAASBAMAAADbMYGVAAAAMFBMVEX///8QEBAiIiKYmJjc3Nzu\n",
       "7u7MzMx2dnZmZma6urpERESqqqoyMjJUVFSIiIgAAAAoDOMTAAAAAXRSTlMAQObYZgAAAOBJREFU\n",
       "GNNjYGB4+//u3Tt/GNAASGAXmhjnPyDBgSbI/g1IxKEJ8nxgYGdgQRPkX8BgDKRY6q7s62OYvmze\n",
       "2wAgb/7ZO1+AVDiDkYEQQ0HTBr4DQF59AgOIKmB4z7CNbcNZBu6vQN55kEACQwDDLQYGVobfDHwg\n",
       "fb8YGBxYHwAZciD3fWXg+gB1JjvQcJZvQIXsCgz8F6DO9GBgMOH7wPCUgaeBwd4B7EwGNjUG7s9c\n",
       "AiwPgO5jkWRgiF3/9+5dfQUG1nWl5Y+B7pv+1gE9bBhqGLCAE1jEWH9jEbT5A3IwAC4sP/1L6Qlu\n",
       "AAAAAElFTkSuQmCC\n",
       "\" style=\"display:inline;vertical-align:middle;\" /></a></td></tr>\n",
       "<tr><td>2</td><td>ExprTuple</td><td>3, 4</td><td><a class=\"ProveItLink\" href=\"../7b5508e04b247401485fb3cbfb9e6c01a4389fb40/expr.ipynb\"><img src=\"data:image/png;base64,iVBORw0KGgoAAAANSUhEUgAAAC8AAAAVBAMAAAAk6KpUAAAAMFBMVEX////c3NwiIiJERESqqqqY\n",
       "mJh2dnZmZmYQEBDu7u4yMjJUVFTMzMyIiIi6uroAAAAs73DqAAAAAXRSTlMAQObYZgAAASRJREFU\n",
       "KM9jYMAJ+C5gisWBiNNAzKu1vskcIsYVyZjCwH4AyFrJwMDz/gFn/m2IBMf//wkMDAuAioEmBWxl\n",
       "YGD5DdVRnQMkw4AqJjCwTmgAsqshEtxgcgYDwysGBnbGDUD2XGQJZgeGMgaG6XwJCAdx3739gIGB\n",
       "rYBhKQPDMZYAhATzBM5/QBsXMPQBJfgCUHyxA+i5Bgag9GSeBBSJ/AMMPB9AElwTNiBEjYASD0AS\n",
       "LQwMrAkgCU6IRBMDQ70AyChTIMf0LZB4NAEsVcDAsAqodgFDOsiJm29yPrZkmK8AZIszsDSCnfsI\n",
       "pOy4/o99QO9+BDJ5yncLAK19wMAhgLD4IZw1A2QzQgLhnVxIsGNIcAKDnUEaLs6LCDCQ+YxYovYO\n",
       "AwMAlNdEY4sgu8kAAAAASUVORK5CYII=\n",
       "\" style=\"display:inline;vertical-align:middle;\" /></a></td></tr>\n",
       "<tr><td>3</td><td>Literal</td><td></td><td><a class=\"ProveItLink\" href=\"../../../sets/complex/__pv_it/c357845f93a5a2d9f649129d299e7ec28dda4b960/expr.ipynb\"><img src=\"data:image/png;base64,iVBORw0KGgoAAAANSUhEUgAAAA8AAAAOBAMAAAACpFvcAAAAMFBMVEX////c3NyqqqqYmJhUVFR2\n",
       "dnbu7u66urrMzMxmZmZEREQQEBAyMjIiIiKIiIgAAAB7fvZ0AAAAAXRSTlMAQObYZgAAAGVJREFU\n",
       "CNdjYGDgu3N+70oGBgaO+gK2+CdAhoEzAwPTFwYG5oQNQN4UBgZORgcgI4+BIZM9gAEMWpkMoAx2\n",
       "KCOLAyrFk+AAYTAHgBhsQLy4DkjUJjAwsHg9Y6taBpLsvP/bnYEBACkBFGQfBv8RAAAAAElFTkSu\n",
       "QmCC\n",
       "\" style=\"display:inline;vertical-align:middle;\" /></a></td></tr>\n",
       "<tr><td>4</td><td>Literal</td><td></td><td><a class=\"ProveItLink\" href=\"../../../numeral/__pv_it/aaeeaca7d86eb2b7cdc49e25c3108b81b52ec5400/expr.ipynb\"><img src=\"data:image/png;base64,iVBORw0KGgoAAAANSUhEUgAAAAkAAAAOBAMAAAAPuiubAAAAMFBMVEX///8iIiJERES6urqIiIjM\n",
       "zMxUVFRmZmYQEBCqqqp2dnbc3Nzu7u6YmJgyMjIAAADYGhJvAAAAAXRSTlMAQObYZgAAAE1JREFU\n",
       "CNdj4LvDvZKBgeP//wUMDHxlSxkYGNgYGBCki5sBAwPTAZ7PYG4GmFwfwKAIJA0YGhkY6jcwFDAw\n",
       "vGNg2M7A2c3AwFqetoEBAKS8EE1WXEJLAAAAAElFTkSuQmCC\n",
       "\" style=\"display:inline;vertical-align:middle;\" /></a></td></tr>\n",
       "</table>\n"
      ],
      "text/plain": [
       "0. Complexes^{5}\n",
       "   core type: Operation\n",
       "   operator: 1\n",
       "   operands: 2\n",
       "1. Exp\n",
       "   core type: Literal\n",
       "   sub-expressions: \n",
       "2. (Complexes , 5)\n",
       "   core type: ExprTuple\n",
       "   sub-expressions: 3, 4\n",
       "3. Complexes\n",
       "   core type: Literal\n",
       "   sub-expressions: \n",
       "4. 5\n",
       "   core type: Literal\n",
       "   sub-expressions: "
      ]
     },
     "execution_count": 4,
     "metadata": {},
     "output_type": "execute_result"
    }
   ],
   "source": [
    "# display the expression information\n",
    "expr.exprInfo()"
   ]
  },
  {
   "cell_type": "code",
   "execution_count": null,
   "metadata": {},
   "outputs": [],
   "source": []
  }
 ],
 "metadata": {
  "kernelspec": {
   "display_name": "Python 3",
   "language": "python",
   "name": "python3"
  }
 },
 "nbformat": 4,
 "nbformat_minor": 0
}
