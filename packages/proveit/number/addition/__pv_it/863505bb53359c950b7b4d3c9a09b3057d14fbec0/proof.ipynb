{
 "cells": [
  {
   "cell_type": "markdown",
   "metadata": {},
   "source": [
    "Show the Proof\n",
    "========"
   ]
  },
  {
   "cell_type": "code",
   "execution_count": 1,
   "metadata": {},
   "outputs": [
    {
     "data": {
      "text/html": [
       "<table><tr><th>&nbsp;</th><th>step type</th><th>requirements</th><th>statement</th></tr>\n",
       "<tr><td>0</td><td>assumption</td><td></td><td><span style=\"font-size:20px;\"><a class=\"ProveItLink\" href=\"../1a2af5c8ee7cc3f1751134ec779bb7d75bd714940/expr.ipynb\"><img src=\"data:image/png;base64,iVBORw0KGgoAAAANSUhEUgAAAEUAAAAVBAMAAADiLT7tAAAAMFBMVEX////c3NxERESqqqpUVFS6\n",
       "urrMzMwyMjIQEBCIiIh2dnYiIiLu7u5mZmaYmJgAAABXZE4RAAAAAXRSTlMAQObYZgAAAT1JREFU\n",
       "KM9jYGDgu8eAE7CtEgBRPLsY8AC2ZhDJ+QHMCepFluKpV6ph4N2/mYHhOojL1QAR/oyin+lBEgMD\n",
       "P5CxAkkN6x8UNSzbOCcwcKCp4doApk5W794OVhN+wA1DDfsFsBPrDkDNSXM4fgBVjciseAMQR+gA\n",
       "zK4ESzYFuBreAqBjGhn0wbKKcPck8Aa8BKl5D+JlBDAwyD+A+JFHAaGGwYclA+qGlDYgw5+BARyS\n",
       "rN27d0PdnMBwhKcCxFJ/wMAQkcDA8ImB5yvYyQ5I5rAtAJnDvQDEK2Bg/MnA/IEHZNcGJDUMj5lg\n",
       "7gEGDM9noEozEMcPWQ2XELLf6xisL4DMZDgdAIsLEOM6shqRmWGaYFnG2gRIzNQ3AcnjaOEMBczu\n",
       "EH/BARY1GACshg+/GkjY7sSbDlvBFN9iAukZAN02UftXE2xQAAAAAElFTkSuQmCC\n",
       "\" style=\"display:inline;vertical-align:middle;\" /></a> <a class=\"ProveItLink\" href=\"proof.ipynb\" style=\"text-decoration: none\">&#x22A2;&nbsp;</a><a class=\"ProveItLink\" href=\"../5dcd385c02903bd789468bc09167af53928cacae0/expr.ipynb\"><img src=\"data:image/png;base64,iVBORw0KGgoAAAANSUhEUgAAADMAAAAPBAMAAAC7N+rPAAAAMFBMVEX////MzMyYmJiIiIhUVFTc\n",
       "3NwyMjIiIiJ2dnbu7u6qqqpmZmYQEBBERES6uroAAABkyy6XAAAAAXRSTlMAQObYZgAAAOpJREFU\n",
       "GNNjYGBg4LuzgQEJTPt7bQLD9u8LwBz+BchSDJcYLzAwfICw309AkXIXMGZgOABht4NJTrPy8gQQ\n",
       "wy+TRQAmlQ0mxTShuhxFODPBUqzOfb9AAqw3YQY6chnIgqXeBPD+BAnwBsClGPYxGQClWD8xcINt\n",
       "mMuAkGKZ4AiUYvnAwN4AEnhTXg51hiMDp8M0oBT/BYb5D0ACIki6GCQYgVLxBgzrGUD+mo4sxbQA\n",
       "6Ov5CxjcuASAAiwKSFIMrUApNgWuag6wj+tgUveAGOQ0Vmc7WTuwSNhGiMyzP0AdnAkoYbckvRxZ\n",
       "AADWtToQy/OLFQAAAABJRU5ErkJggg==\n",
       "\" style=\"display:inline;vertical-align:middle;\" /></a></span></td></tr>\n",
       "</table>"
      ],
      "text/plain": [
       "<proveit._core_.proof._ShowProof at 0x7f94eae41320>"
      ]
     },
     "execution_count": 1,
     "metadata": {},
     "output_type": "execute_result"
    }
   ],
   "source": [
    "import proveit\n",
    "%show_proof"
   ]
  },
  {
   "cell_type": "code",
   "execution_count": null,
   "metadata": {},
   "outputs": [],
   "source": []
  }
 ],
 "metadata": {
  "kernelspec": {
   "display_name": "Python 3",
   "language": "python",
   "name": "python3"
  }
 },
 "nbformat": 4,
 "nbformat_minor": 0
}
