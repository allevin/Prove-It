{
 "cells": [
  {
   "cell_type": "markdown",
   "metadata": {},
   "source": [
    "Expression of type <a class=\"ProveItLink\" href=\"../../../../../../doc/html/api/proveit.ExprTuple.html\">ExprTuple</a>\n",
    "=======================\n",
    "# from context <a class=\"ProveItLink\" href=\"../../_context_.ipynb\">proveit.number.addition</a>"
   ]
  },
  {
   "cell_type": "code",
   "execution_count": 1,
   "metadata": {},
   "outputs": [],
   "source": [
    "# import Expression classes needed to build the expression\n",
    "from proveit import ExprTuple\n",
    "from proveit._common_ import a, b, c\n",
    "from proveit.number import Add, one, three, two"
   ]
  },
  {
   "cell_type": "code",
   "execution_count": 2,
   "metadata": {},
   "outputs": [
    {
     "data": {
      "text/html": [
       "<strong id=\"expr\">expr:</strong> <a class=\"ProveItLink\" href=\"expr.ipynb\"><img src=\"data:image/png;base64,iVBORw0KGgoAAAANSUhEUgAAAqEAAAAVBAMAAACESConAAAAMFBMVEX////c3NwiIiJERESqqqqY\n",
       "mJh2dnZmZmYQEBDu7u4yMjJUVFTMzMyIiIi6uroAAAAs73DqAAAAAXRSTlMAQObYZgAABFlJREFU\n",
       "WMPtmU1oE2kYx/9JJ5lMvvXSQwVz2u5laQ/rwcNugxcvSuPFo5QupLBsd8Mu2qUeqossKlhHBCn0\n",
       "0NDqwfRgDor7QWlhobuwh81lv9Bo8CSiNLapy0jd+E6aSfK8z6STtFEo9D2U9Pc+87z/55+ZZ96Z\n",
       "AHuj0yOc2/OgY+OU+ef3bR9+WPrfNTZXIED7ISaFTH/X/jLLyY87XLcsvHv8U2wtnFfCRjD5WRzq\n",
       "kvh0e7u6rhsS6EGoRIk/Kx803/YyrhRWOnsZycJdWTyOOwjnlcijG+E3QBoIEbVaVA5kxALTPxsS\n",
       "+RHooyQSl7OUmi50rQnwlhCJOQZz0rrwgA53kWZhwnklctqv4lgFTgI+vXFaYWcDIzUQMiRyUcdi\n",
       "gZAVXQoJG00XOt4EKHaOsmBOWhfuu4TA/zQLE84ASztYcXQKeIaOOXpHxwR1dFg+yBtr21GznNw7\n",
       "ddRvQJUcZcKHndNWrvquOM6YjWThy/N0mhPcGH3o4KgYfToh8/l7NMS/8CBhn7ZWDAP15tvz19Mo\n",
       "navrtIiWzC+RFRiwE+42aBYmnAHuR6XXelO4JT4+jXYVaTwnwUnMOgoLviJEW0OEVjPTjw37tFYx\n",
       "DCD4efWuED6PAemMrOu0yG8Ff4yswICd8D+GSBYmnFfC/Vg2v3gljUnxRa9D7SdrcIKpHA45CvPT\n",
       "gxQDviHabHR8b5/WKoYBMf7Z7CUHE/iGOtqg0/LiCrrIVcCArfA5qXfLwnkl3A+EhJfhcxANJFCE\n",
       "O0fW4ASLzn0UtYKrRE0jkiIh48B/9mmtYhZtOqPPsKY+onMNOusEcinOwq2vxcrChPNKFm0a61Ud\n",
       "waLpaKQfM+YprWYys5czmawdwdpm5jqoCiMkS4lbbCUTJKQX4XWbtBjPZD7MZObtgGsJXesVtgZt\n",
       "g85ZOgmBXIqz8AfSmkw4r4T5cQAYSJiOXhBXUw6DILcUTlxvWviqj8IVbSRiEzdBb1UlqIZ92urp\n",
       "wQBmjKqjYkopamSuQWedUFUM2AhXUthH8jLhDDA/tLJuOiquetEMZuL4SSF9lxOIojwOwoIpeKij\n",
       "S9WuWQvZkNtRLa1VDAORNNwvTdu0EgLpY9Ttuk4rWpxJpG0yYCP8V+AEXVMWzithfrwWO50oPGmM\n",
       "iPtJQun10h0aI7gPfOEgbH8y+TXtYXE1S0Pu4myTtFYxDIQSWBnSxOZZbEuOpOg9uUGn1UdT8JJT\n",
       "gQEu3PVBciRGs8jCeSXMjz8RflXZPT0xN3WPfnlE12AE6mieXsDqt69P05C+cnmVXgkLpyXTp/9O\n",
       "NElbuynIAEfHbkK7Kk7+nvzzTwr0Xl/XaUWfyf9LV2CACXeXy2XqKBPOK2F+KGPj4knVX4Avut1n\n",
       "ph0d1NYzk7kXjXbumakdEe1WIp5CPUNbvyxlpIWQFg7ix7zYEngcgjnZlvAXO61kdCdv897r8OyO\n",
       "N85auvJWczeMXfJDQ8BsTq69X0U6Nx4CbwGvFzfPuo4ETQAAAABJRU5ErkJggg==\n",
       "\" style=\"display:inline;vertical-align:middle;\" /></a><br>"
      ],
      "text/plain": [
       "expr: (a + a + c + 1 + 2 + b + b + c + c + 3 , a + a + c + c + 1 + 2 + b + b + c + 3)"
      ]
     },
     "execution_count": 2,
     "metadata": {},
     "output_type": "execute_result"
    }
   ],
   "source": [
    "# build up the expression from sub-expressions\n",
    "expr = ExprTuple(Add(a, a, c, one, two, b, b, c, c, three), Add(a, a, c, c, one, two, b, b, c, three))"
   ]
  },
  {
   "cell_type": "code",
   "execution_count": 3,
   "metadata": {},
   "outputs": [
    {
     "name": "stdout",
     "output_type": "stream",
     "text": [
      "Passed sanity check: built 'expr' is the same as the stored Expression.\n"
     ]
    }
   ],
   "source": [
    "# check that the built expression is the same as the stored expression\n",
    "%check_expr"
   ]
  },
  {
   "cell_type": "code",
   "execution_count": 4,
   "metadata": {},
   "outputs": [
    {
     "data": {
      "text/html": [
       "<table><tr><th>&nbsp;</th><th>core type</th><th>sub-expressions</th><th>expression</th></tr>\n",
       "<tr><td>0</td><td>ExprTuple</td><td>1, 2</td><td><a class=\"ProveItLink\" href=\"expr.ipynb\"><img src=\"data:image/png;base64,iVBORw0KGgoAAAANSUhEUgAAAqEAAAAVBAMAAACESConAAAAMFBMVEX////c3NwiIiJERESqqqqY\n",
       "mJh2dnZmZmYQEBDu7u4yMjJUVFTMzMyIiIi6uroAAAAs73DqAAAAAXRSTlMAQObYZgAABFlJREFU\n",
       "WMPtmU1oE2kYx/9JJ5lMvvXSQwVz2u5laQ/rwcNugxcvSuPFo5QupLBsd8Mu2qUeqossKlhHBCn0\n",
       "0NDqwfRgDor7QWlhobuwh81lv9Bo8CSiNLapy0jd+E6aSfK8z6STtFEo9D2U9Pc+87z/55+ZZ96Z\n",
       "AHuj0yOc2/OgY+OU+ef3bR9+WPrfNTZXIED7ISaFTH/X/jLLyY87XLcsvHv8U2wtnFfCRjD5WRzq\n",
       "kvh0e7u6rhsS6EGoRIk/Kx803/YyrhRWOnsZycJdWTyOOwjnlcijG+E3QBoIEbVaVA5kxALTPxsS\n",
       "+RHooyQSl7OUmi50rQnwlhCJOQZz0rrwgA53kWZhwnklctqv4lgFTgI+vXFaYWcDIzUQMiRyUcdi\n",
       "gZAVXQoJG00XOt4EKHaOsmBOWhfuu4TA/zQLE84ASztYcXQKeIaOOXpHxwR1dFg+yBtr21GznNw7\n",
       "ddRvQJUcZcKHndNWrvquOM6YjWThy/N0mhPcGH3o4KgYfToh8/l7NMS/8CBhn7ZWDAP15tvz19Mo\n",
       "navrtIiWzC+RFRiwE+42aBYmnAHuR6XXelO4JT4+jXYVaTwnwUnMOgoLviJEW0OEVjPTjw37tFYx\n",
       "DCD4efWuED6PAemMrOu0yG8Ff4yswICd8D+GSBYmnFfC/Vg2v3gljUnxRa9D7SdrcIKpHA45CvPT\n",
       "gxQDviHabHR8b5/WKoYBMf7Z7CUHE/iGOtqg0/LiCrrIVcCArfA5qXfLwnkl3A+EhJfhcxANJFCE\n",
       "O0fW4ASLzn0UtYKrRE0jkiIh48B/9mmtYhZtOqPPsKY+onMNOusEcinOwq2vxcrChPNKFm0a61Ud\n",
       "waLpaKQfM+YprWYys5czmawdwdpm5jqoCiMkS4lbbCUTJKQX4XWbtBjPZD7MZObtgGsJXesVtgZt\n",
       "g85ZOgmBXIqz8AfSmkw4r4T5cQAYSJiOXhBXUw6DILcUTlxvWviqj8IVbSRiEzdBb1UlqIZ92urp\n",
       "wQBmjKqjYkopamSuQWedUFUM2AhXUthH8jLhDDA/tLJuOiquetEMZuL4SSF9lxOIojwOwoIpeKij\n",
       "S9WuWQvZkNtRLa1VDAORNNwvTdu0EgLpY9Ttuk4rWpxJpG0yYCP8V+AEXVMWzithfrwWO50oPGmM\n",
       "iPtJQun10h0aI7gPfOEgbH8y+TXtYXE1S0Pu4myTtFYxDIQSWBnSxOZZbEuOpOg9uUGn1UdT8JJT\n",
       "gQEu3PVBciRGs8jCeSXMjz8RflXZPT0xN3WPfnlE12AE6mieXsDqt69P05C+cnmVXgkLpyXTp/9O\n",
       "NElbuynIAEfHbkK7Kk7+nvzzTwr0Xl/XaUWfyf9LV2CACXeXy2XqKBPOK2F+KGPj4knVX4Avut1n\n",
       "ph0d1NYzk7kXjXbumakdEe1WIp5CPUNbvyxlpIWQFg7ix7zYEngcgjnZlvAXO61kdCdv897r8OyO\n",
       "N85auvJWczeMXfJDQ8BsTq69X0U6Nx4CbwGvFzfPuo4ETQAAAABJRU5ErkJggg==\n",
       "\" style=\"display:inline;vertical-align:middle;\" /></a></td></tr>\n",
       "<tr><td>1</td><td>Operation</td><td>operator:&nbsp;4<br>operands:&nbsp;3<br></td><td><a class=\"ProveItLink\" href=\"../160858c43cc3240e22e36722ab21bddec91163680/expr.ipynb\"><img src=\"data:image/png;base64,iVBORw0KGgoAAAANSUhEUgAAAUUAAAAQBAMAAABzbnCeAAAAMFBMVEX///8yMjKqqqrMzMzu7u4i\n",
       "IiJmZmaYmJhEREQQEBC6urp2dnaIiIhUVFTc3NwAAAD87Fq/AAAAAXRSTlMAQObYZgAAAjlJREFU\n",
       "SMetlU9LG0EYh39Zd1eNJukeBC/CfgDBnEpLD91jS2nNSRAPTS6KeDCfoHgQBC+l0JMtrdeCoFAs\n",
       "0gguKAgSMb20FFISEDyaBFaUKqTZmMnOO7NxYujc9uF9n/3Nn50FehzLwvNZZpUC/XdKAboYfbkd\n",
       "u9eEeObR53gBJ4ItUoACqMcZojcEvJJK9HIH8PKPR0nMgVGlmoQtNEmg83uYZM/GBeHjUkbN7QSG\n",
       "PUoG3yP2l2o2HaFJAp3fwyQT/zNjxIMpZNwWm7Zx74y43et48fsnygPCevVcPnl3xsYwPKoZy/+i\n",
       "JRLAi939cBBkbB7iL+WBKuUBYb2P1yMpZcanW0SjXyFBJiYB9K1hJBy0szwZ8xftEuYS4Rxh9o8Y\n",
       "yCozjtJt0jwMbvElEsBzFyvhIFjH4bXGB1mF4RLOkVZvrKo8j2jPi2nMB0ik+RIJoCRqSyHfxmcH\n",
       "iSVM+juQsaxpy/JXlhHTskbeWVahSUAAy8iT42ZNoDHS2MzyJRLAlai9BZzkFHibRcXFBBw+O0da\n",
       "86u46nXU0jgnS9C4DReJRQLxG0EbgJZErzt+xkkbP7QkL+cIszemrzqPD4E3NGMSH0iJBHAJ9IcD\n",
       "JqkBr8uIZLWpIcI5ws5jGkOKuyc+k/uWosfaNgvUIgL8BL6GAyY5RPTavwyPHh3R7zogrHchf0CB\n",
       "OV+bI8So1+s0o16co9OQAMzdvBMO2pfDbMbu+T/TzS+ie0sXktbYkEjUVYEQsnF/y92Sf5WK55bj\n",
       "tzo3AAAAAElFTkSuQmCC\n",
       "\" style=\"display:inline;vertical-align:middle;\" /></a></td></tr>\n",
       "<tr><td>2</td><td>Operation</td><td>operator:&nbsp;4<br>operands:&nbsp;5<br></td><td><a class=\"ProveItLink\" href=\"../2900334a633f1744745a6fb65dc9a667e98a3b780/expr.ipynb\"><img src=\"data:image/png;base64,iVBORw0KGgoAAAANSUhEUgAAAUUAAAAQBAMAAABzbnCeAAAAMFBMVEX///8yMjKqqqrMzMzu7u4i\n",
       "IiJmZmaYmJhEREQQEBC6urp2dnaIiIhUVFTc3NwAAAD87Fq/AAAAAXRSTlMAQObYZgAAAk9JREFU\n",
       "SMe1lsFr01Acx79Js2ymXWoOAy/DnDwN2qPiJUdFuvY08NT24KaILH9CD4JH8eDBKdqrIEwQQexg\n",
       "AWWDUaGKKEJlBdGbrOsyN9igJjOveb/XlGRQc8uH3/vy+b383muBcT13hXd98VydAOVbSSgpPIwL\n",
       "TTXemGMzxBVXAL+R6VEitcRFs3Gpv6AdEzA/VKJ0koLCd1cgn4EyJVlTTOmNimUu6yb2CZ8bcpSd\n",
       "xCDjCuSRhe06IauWUKK5o2KZS+7/Op63sEwdX4uL0qU4R/z71nr77VPKQ8LWKo1mnoZdW3sX4+g9\n",
       "ZYuQ2eZXWiK1P9jRsaHjyRA/70x1KQ8JW3upLpUISK1gJtYxdUSIcogs7bRYw1507MDlsn+s9AOo\n",
       "NcI5wtKfYIo2fNXBvVhHiabILs68JCU5C4+jY8N9zKwA011MOIRzJFg73RUnaTt+HoGblKhnka2Q\n",
       "kirwJzqWOxvPLGRrKPpfoGoY1w3D31lGVMOYeWAYrRMCAnAogsCRkBYlExWs2qRkAdpBRCzn8gO4\n",
       "b2PHQQ4W786RoL8dR9g2/TjBPl6A3uGJdz0u00PUg+pGxwYuSt/yHYsmPsp53pEjLN1rn86j1/5k\n",
       "jGOqgknqmA+mb1CyJw7oIJa57HqXQweSLS+kCecIm8cK0vREfgFexTj+bDRu0BRTbdGST7iD6Fjm\n",
       "sgntyL8Mty5u0XMdErb2dvM9Bepak3429dbuEi0p9/v79HZoLwltFDbsEbHMRV6smuP7nTkNSZAy\n",
       "N+JPxoshojmnBklIghTe5S8L+vKp7SNkFwAAAABJRU5ErkJggg==\n",
       "\" style=\"display:inline;vertical-align:middle;\" /></a></td></tr>\n",
       "<tr><td>3</td><td>ExprTuple</td><td>6, 6, 10, 7, 8, 9, 9, 10, 10, 11</td><td><a class=\"ProveItLink\" href=\"../821494c459365264d6bfb19ac949fcf41509a7a80/expr.ipynb\"><img src=\"data:image/png;base64,iVBORw0KGgoAAAANSUhEUgAAAMEAAAAVBAMAAAANw5eWAAAAMFBMVEX////c3NwiIiJERESqqqqY\n",
       "mJh2dnZmZmYQEBDu7u4yMjJUVFTMzMyIiIi6uroAAAAs73DqAAAAAXRSTlMAQObYZgAAAlRJREFU\n",
       "SMe1lb9rE2EYx79JLrlcLrm7Th0UepOOZnFw0fsPel0cJbSQLkZvaZUuKojgYHsgSMAhQekgXbJI\n",
       "xVJ6IKjgYBYH0dTWSVwSWyqkUON773vv/WyTLHmHu0++eZ73m/d5n/cNMPmhtCc4+Q338Wlk2BXv\n",
       "Pb1ylYH0Ro/BKaNYXTAgOoRejTJ42mfvVAs/DIaFFmKQHNNQToAmUBpVpOdbnoNsI91jqHpOASTH\n",
       "bQMHwHUgb49aQ8lzyD+G/I9hlyd1z86epQ514DfGdSj0IXoO8/y7+aE9RKqUMbDsVnj71gOv1j7h\n",
       "We171IGMtIcbndcxkKodJ5ZHNylnYZ3gLy3jFTig4ipeJBw+V9h0h1CdCODjXkGP5b3fIA+hiVXy\n",
       "w48gltkSfEK9jcsJh5fsJfSRr0RAeoKMGctDicyt3AeprNxDmnVUQNhJ7AN8d7EJ1YqA3OMxO6GN\n",
       "WLNR7LkOahkNttaAcHiKwze+HRa6ZgTUMo/x884D10zX4SEw08YsaNsFlDpJOggWpvgpuGdHYIaf\n",
       "Kj9PGtiuA6kSKVrDwFvBkRAmHAFZZuY6UOkDMEclsruPqBQAWYkZzTsGLmnINrFIusoULubQ0MOE\n",
       "TeCmdMAdXCl1obqoU0k2xBaVArCQc6J5X6D8pd360z0Eu+92Uf8TJoi1ji2taQTuHi9RKT0YDHQq\n",
       "SdtLoJIPWO58jeUJd1bIlVLYQ17j9d5HghRtHGl/SBC5NbIV/sFEgrJjSeaQoFr49p6Eg0Rub5zj\n",
       "TRm0p0/tcaTSkCDZLVdqkv+i5BL8D91W0C02TcqBAAAAAElFTkSuQmCC\n",
       "\" style=\"display:inline;vertical-align:middle;\" /></a></td></tr>\n",
       "<tr><td>4</td><td>Literal</td><td></td><td><a class=\"ProveItLink\" href=\"../3e6688136fa3c7aefbebe51301b7c3ebf0b69c440/expr.ipynb\"><img src=\"data:image/png;base64,iVBORw0KGgoAAAANSUhEUgAAAA4AAAAOBAMAAADtZjDiAAAAJFBMVEX///+6urpUVFQQEBAiIiIy\n",
       "MjJmZmaIiIiqqqrc3Nzu7u4AAACgHpL+AAAAAXRSTlMAQObYZgAAAB5JREFUCNdjYGBgWMkAAe2k\n",
       "0Kmhoc6hoUGk6BMHYgAHOwjcado9fwAAAABJRU5ErkJggg==\n",
       "\" style=\"display:inline;vertical-align:middle;\" /></a></td></tr>\n",
       "<tr><td>5</td><td>ExprTuple</td><td>6, 6, 10, 10, 7, 8, 9, 9, 10, 11</td><td><a class=\"ProveItLink\" href=\"../d159dec76c19a232ef36d4e9f61fc94b175cb79e0/expr.ipynb\"><img src=\"data:image/png;base64,iVBORw0KGgoAAAANSUhEUgAAAMEAAAAVBAMAAAANw5eWAAAAMFBMVEX////c3NwiIiJERESqqqqY\n",
       "mJh2dnZmZmYQEBDu7u4yMjJUVFTMzMyIiIi6uroAAAAs73DqAAAAAXRSTlMAQObYZgAAAkBJREFU\n",
       "SMe1lT1s00AYht+0dh0ntmOxMIBEN8Z0YWDCG2M9MaKqSGEhEIFKEUtBQoiptYSEInWIBWJAHdql\n",
       "4k9VIiGxsGRho1XLhFgSElqplUK4H9t3F7soDLnBfux7717f9313BibfnPYEJ79OL1/G11+O7rnl\n",
       "V/sMzHezUEE0q3LDg9Ei9GZsg+fHEZyD/ZtTYQsjkLSzcAZACNhjB2n9Y+zwHihzKnkYgaTd8dAD\n",
       "rgH5YOw12LHDswBNHqZOPLqTmmaeOdSBn/h/h80AK9xhMe5bzKohEqVpD/dp5nZuP45ymBBeVL+N\n",
       "QOJAWpl/88buNlQQcpabmRpeE/zhTnf5S0HWKl6qIDtYR7yE+ii1FJDknzfIRQuxSj78EMYcX0JC\n",
       "qLdxSQXZocBV2jHyCwpIcthkbucR/gDFLqZ4RQlCM56smc4DcI/fjBClmgKSHFgLYHWpQ2kODb5E\n",
       "QejHsn6Ggx1V/1QNHV8BIT8PXPGpwxPgQhvzYJkTlBvE+3eQ4XAVOTfaBSuBAoncHAbUgUSJBK3h\n",
       "4YPWMiETDgGdmSXAHFifVYPuUiLZfQoFhPyEFJwLPcRNkjZfuziDxqxMeAvcMnsyMAfWd6ZSucuo\n",
       "6BlbKgj5VzhHrFq/002w92kP9V8ywajuBuaaK8ODkyXeVx4Oe4zMnSWoIOTa8kNykhT2kXfj4B4g\n",
       "RY47Clmqg9PH0VNDX4gffKRIT0GWyj99HKry6T0JBzNkh31Ui6IqE2qnIENl/2NckYYrN8m/KDkE\n",
       "/wK7jdDh778LTgAAAABJRU5ErkJggg==\n",
       "\" style=\"display:inline;vertical-align:middle;\" /></a></td></tr>\n",
       "<tr><td>6</td><td>Variable</td><td></td><td><a class=\"ProveItLink\" href=\"../../../../__pv_it/07527342713064c87612d00d8557c53d53d5324a0/expr.ipynb\"><img src=\"data:image/png;base64,iVBORw0KGgoAAAANSUhEUgAAAAsAAAAJBAMAAAAWSsseAAAAMFBMVEX///8yMjKqqqrMzMzu7u4i\n",
       "IiJmZmaYmJhEREQQEBC6urp2dnaIiIhUVFTc3NwAAAD87Fq/AAAAAXRSTlMAQObYZgAAAEhJREFU\n",
       "CNdjYOC7s2seAwPDygccHxgY+L4zsDUwMPB+YGA9wMDA38Dgb8DA8P4Agz6DA4O/AsNFJgMGxgKm\n",
       "MG6gyjunLE4xAAAZTBA5TB6DCwAAAABJRU5ErkJggg==\n",
       "\" style=\"display:inline;vertical-align:middle;\" /></a></td></tr>\n",
       "<tr><td>7</td><td>Literal</td><td></td><td><a class=\"ProveItLink\" href=\"../../../numeral/__pv_it/9be8badea4c35b9724062cecc501d17a3158d1d20/expr.ipynb\"><img src=\"data:image/png;base64,iVBORw0KGgoAAAANSUhEUgAAAAgAAAAPBAMAAAArJJMAAAAAHlBMVEX///+YmJgyMjIQEBBmZmaI\n",
       "iIhUVFTu7u5EREQAAAAw+MI4AAAAAXRSTlMAQObYZgAAACFJREFUCNdjYGBoZ2BgqJjOwFCWBiQY\n",
       "WEklWJwnOTKAAACjEQo8HvEr3AAAAABJRU5ErkJggg==\n",
       "\" style=\"display:inline;vertical-align:middle;\" /></a></td></tr>\n",
       "<tr><td>8</td><td>Literal</td><td></td><td><a class=\"ProveItLink\" href=\"../../../numeral/__pv_it/77d407a64829263cdc16415becd4c2293f77a4bf0/expr.ipynb\"><img src=\"data:image/png;base64,iVBORw0KGgoAAAANSUhEUgAAAAkAAAAOBAMAAAAPuiubAAAAMFBMVEX///+YmJh2dnbMzMwQEBAi\n",
       "IiLu7u6qqqqIiIhUVFS6urpEREQyMjJmZmbc3NwAAACOMKdoAAAAAXRSTlMAQObYZgAAAFBJREFU\n",
       "CNdj4Lt7egEDw0sGju8MDNMYGOIZGFwSGOYvYDifwHAfKAEUSQASzJ9ATJ4NIPI2iOCYACJrGfge\n",
       "MDBfYGB8wPBUSekqUPH//18ZAIliFhc3zESNAAAAAElFTkSuQmCC\n",
       "\" style=\"display:inline;vertical-align:middle;\" /></a></td></tr>\n",
       "<tr><td>9</td><td>Variable</td><td></td><td><a class=\"ProveItLink\" href=\"../../../../__pv_it/6840a4fa6c106149dc16a131294d0c5e44f1b0480/expr.ipynb\"><img src=\"data:image/png;base64,iVBORw0KGgoAAAANSUhEUgAAAAkAAAAOBAMAAAAPuiubAAAALVBMVEX///9mZmbMzMxERESYmJiI\n",
       "iIh2dna6urqqqqoyMjIiIiIQEBBUVFTu7u4AAAD9S1JeAAAAAXRSTlMAQObYZgAAAE1JREFUCNdj\n",
       "4D29gAEIOA+ASL4GEFl3AURmgQiGOaFHGBh4HzPwKTBwvGXgTmBgnMDAJ8DAJcBQ5wBSLncBJLWN\n",
       "gYGngRFoBO9REQYGAGrcDtUkVqASAAAAAElFTkSuQmCC\n",
       "\" style=\"display:inline;vertical-align:middle;\" /></a></td></tr>\n",
       "<tr><td>10</td><td>Variable</td><td></td><td><a class=\"ProveItLink\" href=\"../../../../__pv_it/cbdfda466482236edba0ce44ac7ef39cda0af7a40/expr.ipynb\"><img src=\"data:image/png;base64,iVBORw0KGgoAAAANSUhEUgAAAAkAAAAJBAMAAAASvxsjAAAALVBMVEX///9mZmbc3NxUVFSYmJhE\n",
       "REQiIiIyMjK6uroQEBDMzMyIiIh2dnbu7u4AAABgFDGoAAAAAXRSTlMAQObYZgAAADZJREFUCNdj\n",
       "YOA9s3sBA8PKBvYEBt7ZDKwODMwPGICALwBE6m0Asx0YGIDiAgw8QJUyu/cyAAAmuwmycZ8WfQAA\n",
       "AABJRU5ErkJggg==\n",
       "\" style=\"display:inline;vertical-align:middle;\" /></a></td></tr>\n",
       "<tr><td>11</td><td>Literal</td><td></td><td><a class=\"ProveItLink\" href=\"../../../numeral/__pv_it/9176d93c83afa2c995b614976e3cb49207102fa70/expr.ipynb\"><img src=\"data:image/png;base64,iVBORw0KGgoAAAANSUhEUgAAAAoAAAAOBAMAAADkjZCYAAAAMFBMVEX///+YmJju7u4QEBBUVFQy\n",
       "MjIiIiKIiIi6urpmZmbc3NyqqqpERER2dnbMzMwAAAB0GlNiAAAAAXRSTlMAQObYZgAAAE1JREFU\n",
       "CNdjYHh79zQDA9cEhv4CBt7fDPwJDNxgEgiAIkAQAsR8Vx1ATIbiBhDJ/ImB6wEDz0cG/U8gkj+A\n",
       "ge0XA7sAQ/8FBoadM6MZAEflFACalZ/OAAAAAElFTkSuQmCC\n",
       "\" style=\"display:inline;vertical-align:middle;\" /></a></td></tr>\n",
       "</table>\n"
      ],
      "text/plain": [
       "0. (a + a + c + 1 + 2 + b + b + c + c + 3 , a + a + c + c + 1 + 2 + b + b + c + 3)\n",
       "   core type: ExprTuple\n",
       "   sub-expressions: 1, 2\n",
       "1. a + a + c + 1 + 2 + b + b + c + c + 3\n",
       "   core type: Operation\n",
       "   operator: 4\n",
       "   operands: 3\n",
       "2. a + a + c + c + 1 + 2 + b + b + c + 3\n",
       "   core type: Operation\n",
       "   operator: 4\n",
       "   operands: 5\n",
       "3. (a , a , c , 1 , 2 , b , b , c , c , 3)\n",
       "   core type: ExprTuple\n",
       "   sub-expressions: 6, 6, 10, 7, 8, 9, 9, 10, 10, 11\n",
       "4. +\n",
       "   core type: Literal\n",
       "   sub-expressions: \n",
       "5. (a , a , c , c , 1 , 2 , b , b , c , 3)\n",
       "   core type: ExprTuple\n",
       "   sub-expressions: 6, 6, 10, 10, 7, 8, 9, 9, 10, 11\n",
       "6. a\n",
       "   core type: Variable\n",
       "   sub-expressions: \n",
       "7. 1\n",
       "   core type: Literal\n",
       "   sub-expressions: \n",
       "8. 2\n",
       "   core type: Literal\n",
       "   sub-expressions: \n",
       "9. b\n",
       "   core type: Variable\n",
       "   sub-expressions: \n",
       "10. c\n",
       "    core type: Variable\n",
       "    sub-expressions: \n",
       "11. 3\n",
       "    core type: Literal\n",
       "    sub-expressions: "
      ]
     },
     "execution_count": 4,
     "metadata": {},
     "output_type": "execute_result"
    }
   ],
   "source": [
    "# display the expression information\n",
    "expr.exprInfo()"
   ]
  },
  {
   "cell_type": "code",
   "execution_count": null,
   "metadata": {},
   "outputs": [],
   "source": []
  }
 ],
 "metadata": {
  "kernelspec": {
   "display_name": "Python 3",
   "language": "python",
   "name": "python3"
  }
 },
 "nbformat": 4,
 "nbformat_minor": 0
}
