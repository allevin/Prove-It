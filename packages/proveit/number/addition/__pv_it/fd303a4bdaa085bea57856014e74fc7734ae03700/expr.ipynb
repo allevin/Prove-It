{
 "cells": [
  {
   "cell_type": "markdown",
   "metadata": {},
   "source": [
    "Expression of type <a class=\"ProveItLink\" href=\"../../../../../../doc/html/api/proveit.ExprTuple.html\">ExprTuple</a>\n",
    "=======================\n",
    "# from context <a class=\"ProveItLink\" href=\"../../_context_.ipynb\">proveit.number.addition</a>"
   ]
  },
  {
   "cell_type": "code",
   "execution_count": 1,
   "metadata": {},
   "outputs": [],
   "source": [
    "# import Expression classes needed to build the expression\n",
    "from proveit import ExprTuple\n",
    "from proveit.number import Neg, Reals, one"
   ]
  },
  {
   "cell_type": "code",
   "execution_count": 2,
   "metadata": {},
   "outputs": [
    {
     "data": {
      "text/html": [
       "<strong id=\"expr\">expr:</strong> <a class=\"ProveItLink\" href=\"expr.ipynb\"><img src=\"data:image/png;base64,iVBORw0KGgoAAAANSUhEUgAAAD8AAAAVBAMAAAADRiu8AAAAMFBMVEX////c3NwiIiJERESqqqqY\n",
       "mJh2dnZmZmYQEBDu7u4yMjJUVFTMzMyIiIi6uroAAAAs73DqAAAAAXRSTlMAQObYZgAAAPxJREFU\n",
       "KM9jYCAI+C7glosDEaeRBJgnQOioz/aruoAa2Q8AOSsR8pz2UAUMBtIMh70EGBgWMDDwImzg3L0f\n",
       "rkCcgXmiAQNDGAMDxwQkK+4jKWA7AFQwg4HhFQM+BcwODGW4FHCDrGArYFiKS8GjKKAjWRYw9GFX\n",
       "IKGk5QAKpAaGfwwMjIuUQOABignPwWHC8wGkAKsV7G82QBS04HLDyqsQK0zRFUyAKjjNDQxn1gUM\n",
       "6WgKOD/BwsHBEOzNR0jy5f3LAzj7BcCRZcOweL0DA9cDBg4B9OhHFgAGNWsCmgJWZE4uanRjKOAE\n",
       "RjeDNJoC5ATGDbKOEU+Su8PAAABFAki+Zfzi1gAAAABJRU5ErkJggg==\n",
       "\" style=\"display:inline;vertical-align:middle;\" /></a><br>"
      ],
      "text/plain": [
       "expr: (-1 , Reals)"
      ]
     },
     "execution_count": 2,
     "metadata": {},
     "output_type": "execute_result"
    }
   ],
   "source": [
    "# build up the expression from sub-expressions\n",
    "expr = ExprTuple(Neg(one), Reals)"
   ]
  },
  {
   "cell_type": "code",
   "execution_count": 3,
   "metadata": {},
   "outputs": [
    {
     "name": "stdout",
     "output_type": "stream",
     "text": [
      "Passed sanity check: built 'expr' is the same as the stored Expression.\n"
     ]
    }
   ],
   "source": [
    "# check that the built expression is the same as the stored expression\n",
    "%check_expr"
   ]
  },
  {
   "cell_type": "code",
   "execution_count": 4,
   "metadata": {},
   "outputs": [
    {
     "data": {
      "text/html": [
       "<table><tr><th>&nbsp;</th><th>core type</th><th>sub-expressions</th><th>expression</th></tr>\n",
       "<tr><td>0</td><td>ExprTuple</td><td>1, 2</td><td><a class=\"ProveItLink\" href=\"expr.ipynb\"><img src=\"data:image/png;base64,iVBORw0KGgoAAAANSUhEUgAAAD8AAAAVBAMAAAADRiu8AAAAMFBMVEX////c3NwiIiJERESqqqqY\n",
       "mJh2dnZmZmYQEBDu7u4yMjJUVFTMzMyIiIi6uroAAAAs73DqAAAAAXRSTlMAQObYZgAAAPxJREFU\n",
       "KM9jYCAI+C7glosDEaeRBJgnQOioz/aruoAa2Q8AOSsR8pz2UAUMBtIMh70EGBgWMDDwImzg3L0f\n",
       "rkCcgXmiAQNDGAMDxwQkK+4jKWA7AFQwg4HhFQM+BcwODGW4FHCDrGArYFiKS8GjKKAjWRYw9GFX\n",
       "IKGk5QAKpAaGfwwMjIuUQOABignPwWHC8wGkAKsV7G82QBS04HLDyqsQK0zRFUyAKjjNDQxn1gUM\n",
       "6WgKOD/BwsHBEOzNR0jy5f3LAzj7BcCRZcOweL0DA9cDBg4B9OhHFgAGNWsCmgJWZE4uanRjKOAE\n",
       "RjeDNJoC5ATGDbKOEU+Su8PAAABFAki+Zfzi1gAAAABJRU5ErkJggg==\n",
       "\" style=\"display:inline;vertical-align:middle;\" /></a></td></tr>\n",
       "<tr><td>1</td><td>Operation</td><td>operator:&nbsp;3<br>operand:&nbsp;4<br></td><td><a class=\"ProveItLink\" href=\"../27bb768acc4707a63c4de5a0b22e13dfe76b5c980/expr.ipynb\"><img src=\"data:image/png;base64,iVBORw0KGgoAAAANSUhEUgAAABgAAAAPBAMAAAAMihLoAAAAJ1BMVEX///+YmJgQEBBmZmaIiIhU\n",
       "VFTu7u5ERES6uroiIiIyMjLc3NwAAAAKCT4sAAAAAXRSTlMAQObYZgAAACpJREFUCNdjYICDMgST\n",
       "If0Ygp0aisRhYCGTs2smCMwg3wAYYDY6ZciADABBShCHMIgXsAAAAABJRU5ErkJggg==\n",
       "\" style=\"display:inline;vertical-align:middle;\" /></a></td></tr>\n",
       "<tr><td>2</td><td>Literal</td><td></td><td><a class=\"ProveItLink\" href=\"../../../sets/real/__pv_it/9e7645ee1117062e179dd6264898f99ed95b157c0/expr.ipynb\"><img src=\"data:image/png;base64,iVBORw0KGgoAAAANSUhEUgAAAA8AAAAOBAMAAAACpFvcAAAAMFBMVEX///8iIiK6urp2dnbu7u5m\n",
       "ZmaqqqrMzMxUVFTc3NyIiIgQEBBEREQyMjKYmJgAAAA9nvXMAAAAAXRSTlMAQObYZgAAAFJJREFU\n",
       "CNdjePvn/N29CxiA4MAMhprcCSDGVAYezwMQBnMBOoMDJqX4Fqx4tqBsAlj7VFUeBwiDVb0BwmC4\n",
       "sg7KqOAogJqTcJKBAWjpcYY79xMAyqEnfsw4ApEAAAAASUVORK5CYII=\n",
       "\" style=\"display:inline;vertical-align:middle;\" /></a></td></tr>\n",
       "<tr><td>3</td><td>Literal</td><td></td><td><a class=\"ProveItLink\" href=\"../../../negation/__pv_it/3fc7a08bb9735faa20ef8e175f6ea95511acc9c70/expr.ipynb\"><img src=\"data:image/png;base64,iVBORw0KGgoAAAANSUhEUgAAAA4AAAACBAMAAACapPCZAAAAElBMVEX///+6uroiIiIyMjLc3NwA\n",
       "AAA6l9OrAAAAAXRSTlMAQObYZgAAABBJREFUCNdjcFYCAUUGKAAADR4BD8/TF5gAAAAASUVORK5C\n",
       "YII=\n",
       "\" style=\"display:inline;vertical-align:middle;\" /></a></td></tr>\n",
       "<tr><td>4</td><td>Literal</td><td></td><td><a class=\"ProveItLink\" href=\"../../../numeral/__pv_it/9be8badea4c35b9724062cecc501d17a3158d1d20/expr.ipynb\"><img src=\"data:image/png;base64,iVBORw0KGgoAAAANSUhEUgAAAAgAAAAPBAMAAAArJJMAAAAAHlBMVEX///+YmJgyMjIQEBBmZmaI\n",
       "iIhUVFTu7u5EREQAAAAw+MI4AAAAAXRSTlMAQObYZgAAACFJREFUCNdjYGBoZ2BgqJjOwFCWBiQY\n",
       "WEklWJwnOTKAAACjEQo8HvEr3AAAAABJRU5ErkJggg==\n",
       "\" style=\"display:inline;vertical-align:middle;\" /></a></td></tr>\n",
       "</table>\n"
      ],
      "text/plain": [
       "0. (-1 , Reals)\n",
       "   core type: ExprTuple\n",
       "   sub-expressions: 1, 2\n",
       "1. -1\n",
       "   core type: Operation\n",
       "   operator: 3\n",
       "   operand: 4\n",
       "2. Reals\n",
       "   core type: Literal\n",
       "   sub-expressions: \n",
       "3. -\n",
       "   core type: Literal\n",
       "   sub-expressions: \n",
       "4. 1\n",
       "   core type: Literal\n",
       "   sub-expressions: "
      ]
     },
     "execution_count": 4,
     "metadata": {},
     "output_type": "execute_result"
    }
   ],
   "source": [
    "# display the expression information\n",
    "expr.exprInfo()"
   ]
  },
  {
   "cell_type": "code",
   "execution_count": null,
   "metadata": {},
   "outputs": [],
   "source": []
  }
 ],
 "metadata": {
  "kernelspec": {
   "display_name": "Python 3",
   "language": "python",
   "name": "python3"
  }
 },
 "nbformat": 4,
 "nbformat_minor": 0
}
