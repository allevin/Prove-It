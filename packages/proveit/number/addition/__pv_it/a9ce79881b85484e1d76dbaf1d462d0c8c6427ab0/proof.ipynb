{
 "cells": [
  {
   "cell_type": "markdown",
   "metadata": {},
   "source": [
    "Show the Proof\n",
    "========"
   ]
  },
  {
   "cell_type": "code",
   "execution_count": 1,
   "metadata": {},
   "outputs": [
    {
     "data": {
      "text/html": [
       "<table><tr><th>&nbsp;</th><th>step type</th><th>requirements</th><th>statement</th></tr>\n",
       "<tr><td>0</td><td>specialization</td><td>1, 2</td><td><span style=\"font-size:20px;\"><a class=\"ProveItLink\" href=\"../1a2af5c8ee7cc3f1751134ec779bb7d75bd714940/expr.ipynb\"><img src=\"data:image/png;base64,iVBORw0KGgoAAAANSUhEUgAAAEUAAAAVBAMAAADiLT7tAAAAMFBMVEX////c3NxERESqqqpUVFS6\n",
       "urrMzMwyMjIQEBCIiIh2dnYiIiLu7u5mZmaYmJgAAABXZE4RAAAAAXRSTlMAQObYZgAAAT1JREFU\n",
       "KM9jYGDgu8eAE7CtEgBRPLsY8AC2ZhDJ+QHMCepFluKpV6ph4N2/mYHhOojL1QAR/oyin+lBEgMD\n",
       "P5CxAkkN6x8UNSzbOCcwcKCp4doApk5W794OVhN+wA1DDfsFsBPrDkDNSXM4fgBVjciseAMQR+gA\n",
       "zK4ESzYFuBreAqBjGhn0wbKKcPck8Aa8BKl5D+JlBDAwyD+A+JFHAaGGwYclA+qGlDYgw5+BARyS\n",
       "rN27d0PdnMBwhKcCxFJ/wMAQkcDA8ImB5yvYyQ5I5rAtAJnDvQDEK2Bg/MnA/IEHZNcGJDUMj5lg\n",
       "7gEGDM9noEozEMcPWQ2XELLf6xisL4DMZDgdAIsLEOM6shqRmWGaYFnG2gRIzNQ3AcnjaOEMBczu\n",
       "EH/BARY1GACshg+/GkjY7sSbDlvBFN9iAukZAN02UftXE2xQAAAAAElFTkSuQmCC\n",
       "\" style=\"display:inline;vertical-align:middle;\" /></a> <a class=\"ProveItLink\" href=\"proof.ipynb\" style=\"text-decoration: none\">&#x22A2;&nbsp;</a><a class=\"ProveItLink\" href=\"../7c323e79ec50af7c2272d01e97da2d875825f6fc0/expr.ipynb\"><img src=\"data:image/png;base64,iVBORw0KGgoAAAANSUhEUgAAAEkAAAAZBAMAAACP0x4YAAAAMFBMVEX////c3NwiIiJERESqqqqY\n",
       "mJh2dnZmZmYQEBDu7u4yMjJUVFTMzMyIiIi6uroAAAAs73DqAAAAAXRSTlMAQObYZgAAAWxJREFU\n",
       "KM9jYCAIeAwYiFBUrUCEKgYWaqviuwDhxOFVdRrE4rMoYD+AKsm53nglA7u+CkTVSrAYvwPDAjQz\n",
       "mAMOA8UhZvFCLHw/gSEMTRW3DlCOA6KKYwJYKImBYQbUpltKSmBjuV9N2ANT9QoitxxogwOYdSoS\n",
       "ZtaZDbMmcDAwZn2/wFAG5DPuzfvCwMBWAJJjtITbeMCXx4ADwl4KxC8EmH8CTQbbwyyAUMX+IBaq\n",
       "qg+o/SsDO1AFXwOIPxnh+gMMO7lPQNj/gNwPDEwJwGj9AOK/UFKCuf4Aw2zOFXBV/AYM8x/AVJ1G\n",
       "NosnAWpWCwOD/AUGf4YJUBsnIatiCGGGsE0ZGOY7MOxiOcDACrEnAFkVmzCEnc7AwBXAos4GCwlO\n",
       "PXgMAV3BUAVhPwIF173D94CKH4AFpGogEnzrm4HkLAiHAx4+0Bhi8F6khB7xDKwJMFYuvqS4Epae\n",
       "FuBTJQ3zkgA+VYzQFH0HjxoA68lTFqZHwNMAAAAASUVORK5CYII=\n",
       "\" style=\"display:inline;vertical-align:middle;\" /></a></span></td></tr>\n",
       "<tr><td>&nbsp;</td><td colspan=4 style=\"text-align:left\"><span style=\"font-size:20px;\"><a class=\"ProveItLink\" href=\"../../../../__pv_it/abeee18594afe51bfb1be95d9591fbba24ac53f30/expr.ipynb\"><img src=\"data:image/png;base64,iVBORw0KGgoAAAANSUhEUgAAAA0AAAAOBAMAAAAGUYvhAAAAMFBMVEX///8iIiIQEBCIiIjMzMzc\n",
       "3Nyqqqp2dnZEREQyMjK6urru7u5mZmZUVFSYmJgAAACI6eGPAAAAAXRSTlMAQObYZgAAAF1JREFU\n",
       "CNdjYGDgu3Nm3wIGBoZ5DNz9QIq3gIEhE0jHOzAwOAPp9QkMDC4g/megABAw///fCmbEXfq0Acxg\n",
       "qH8ANAVI7wfSe0BKAyBGnAXigwYMzA1A+sLau31ACgAz0hhbkhGHbwAAAABJRU5ErkJggg==\n",
       "\" style=\"display:inline;vertical-align:middle;\" /></a> : <a class=\"ProveItLink\" href=\"../../../sets/integer/__pv_it/e5d9bd86b06b357eee742ad868997123619e09700/expr.ipynb\"><img src=\"data:image/png;base64,iVBORw0KGgoAAAANSUhEUgAAAA8AAAAOBAMAAAACpFvcAAAAMFBMVEX////c3Nx2dna6uroQEBCI\n",
       "iIhUVFTMzMyYmJiqqqoiIiJmZmZEREQyMjLu7u4AAADjlg78AAAAAXRSTlMAQObYZgAAAGBJREFU\n",
       "CNdjePvn7AOGXb8mMDCcYD/AwPCBgYEhqyCUgcEByEi+x1YAZqSX8d2DMDgDaiAMhs0cARAG24N0\n",
       "CIMv4S2EwVDEDmVwTDgAYTAoghiHgZj7AgOD7Rcgj+8CAwA9oh2B0HK+MAAAAABJRU5ErkJggg==\n",
       "\" style=\"display:inline;vertical-align:middle;\" /></a>, <a class=\"ProveItLink\" href=\"../../../../__pv_it/07527342713064c87612d00d8557c53d53d5324a0/expr.ipynb\"><img src=\"data:image/png;base64,iVBORw0KGgoAAAANSUhEUgAAAAsAAAAJBAMAAAAWSsseAAAAMFBMVEX///8yMjKqqqrMzMzu7u4i\n",
       "IiJmZmaYmJhEREQQEBC6urp2dnaIiIhUVFTc3NwAAAD87Fq/AAAAAXRSTlMAQObYZgAAAEhJREFU\n",
       "CNdjYOC7s2seAwPDygccHxgY+L4zsDUwMPB+YGA9wMDA38Dgb8DA8P4Agz6DA4O/AsNFJgMGxgKm\n",
       "MG6gyjunLE4xAAAZTBA5TB6DCwAAAABJRU5ErkJggg==\n",
       "\" style=\"display:inline;vertical-align:middle;\" /></a> : <a class=\"ProveItLink\" href=\"../../../../__pv_it/3a5de44ed6135dbbdbbeec6704c741e238f127300/expr.ipynb\"><img src=\"data:image/png;base64,iVBORw0KGgoAAAANSUhEUgAAAAsAAAAOBAMAAAALT/umAAAAMFBMVEX////MzMyYmJiIiIhUVFTc\n",
       "3NwyMjIiIiJ2dnbu7u6qqqpmZmYQEBBERES6uroAAABkyy6XAAAAAXRSTlMAQObYZgAAAFhJREFU\n",
       "CNdjYGBg4LuzgQEE+BeAqfcTwFQ7mGTIBmJW575fQOpNAO9PIOcTA3cCAwPLBwb2BqCeCwzzHzAw\n",
       "xBswrGeYwDB/AYMblwADmwJXNQdIm52sHQMAfyoTCZukXIEAAAAASUVORK5CYII=\n",
       "\" style=\"display:inline;vertical-align:middle;\" /></a></span></td></tr><tr><td>1</td><td>theorem</td><td></td><td><span style=\"font-size:20px;\"> <a class=\"ProveItLink\" href=\"../../../../logic/set_theory/membership/_proofs_/exp_set_1.ipynb\" style=\"text-decoration: none\">&#x22A2;&nbsp;</a><a class=\"ProveItLink\" href=\"../2fc389a433bb83a671e140a8140fb192c963fabe0/expr.ipynb\"><img src=\"data:image/png;base64,iVBORw0KGgoAAAANSUhEUgAAAMQAAAAcBAMAAADM5Q0aAAAAMFBMVEX///8QEBC6urrMzMxUVFRm\n",
       "ZmZERETc3NwyMjKqqqp2dnaIiIiYmJgiIiLu7u4AAAAU9Wx4AAAAAXRSTlMAQObYZgAAAyBJREFU\n",
       "SMe1lk1oE0EUx1/ztfnY3RYvogdNQdCLdA9WRCwtKiL1EtEoqEhQSC9VVqjWi5i7WnLQixdFEKte\n",
       "QosiKhhKvVioQRShurCC9KYJFluE0vrezO7OdLNsQqEPsuy8/0x+M+/NvFmAjbFoATbYoidrofol\n",
       "ywzVI9nWjBQi0tTXmguSay2G74H2ENEBehtZB0IfaxMBbzjCDkLYYaNjVQpAhTemwhCayRBsyjM+\n",
       "RIBT2BU5WHGjSZ/On5/iiMwAQzwl75gPEeAUll8jlvxysgrzDY7QVxjiGj6Vgg8R4BS2ieZXcVsf\n",
       "/PIgRqnEEfCdIZIY93jZhwhwii3fwEeHl60fzh54ZVlsQcoCdqk4iFMMoT4ZHb3hT3eA07NMFz52\n",
       "ec0En8m+WffQ/EOEoYz/pXV+5Jt2sVica9q0zU6xoWiyZ2i+xx5txvOVY3O/7MrK6qTo22MzxCGA\n",
       "IWz1PntrCITjFCbkBG2T2/jrNhMNFndyinrwbnXRa/QbDLEDdOwVyUGPtArulGqGkJM5nnJlGeK4\n",
       "IyIUN5gXXZXp7dvc95tZhtAgU6UnJCQEd/JEvshXZVkjxB8MWAO0ipN96LYsJ91o6WX3n+plhshU\n",
       "NYxY3QZVQnAns5c7f9uy7CI6C1A3XIQoWzgzfdm3Cr1EurY1K6ebO6++vggqS6ckJykXW3B4BR5g\n",
       "peGB+uUVMOyuLHkIngsYOkjS8dWyXAbJqX9VViDJRwo5RkdymAXhaMoAteTVLVabsBkf8HaUyRH3\n",
       "eGUd6ZIR5IzlojXY7zg9OUPyYyoUqS9pd9Pqn9ya9Q1D68XDORfQgUnTs6A3ZAQ5O7NYx/qKxWJF\n",
       "liP0spuOxcTeCSTxCF4/4awxcvhI1UOMOwgVE5sqS7dtzXHW7cSs+ZMtX5YXaAamr4DA3TtWU0WE\n",
       "W9KVhDtcnB73Suqw+w/YMdMvD9IMHrqt52GX15KM6M2fbrr1ImdnzoF+wS/3ycVcL4Ug1EJ7F2sa\n",
       "c7HGwQqfOzAW9iWhGeu8uxWauOJgJ8N6vl/v5wHcb/Njil9qgQirxXeUWm4PEbfpO+ozbLz9ByvB\n",
       "6Gh44qK9AAAAAElFTkSuQmCC\n",
       "\" style=\"display:inline;vertical-align:middle;\" /></a></span></td></tr>\n",
       "<tr><td>&nbsp;</td><td colspan=4 style-\"text-align:left\"><a class=\"ProveItLink\" href=\"../../../../logic/set_theory/membership/_proofs_/exp_set_1.ipynb\">proveit.logic.set_theory.membership.exp_set_1</a></td></tr><tr><td>2</td><td>assumption</td><td></td><td><span style=\"font-size:20px;\"><a class=\"ProveItLink\" href=\"../1a2af5c8ee7cc3f1751134ec779bb7d75bd714940/expr.ipynb\"><img src=\"data:image/png;base64,iVBORw0KGgoAAAANSUhEUgAAAEUAAAAVBAMAAADiLT7tAAAAMFBMVEX////c3NxERESqqqpUVFS6\n",
       "urrMzMwyMjIQEBCIiIh2dnYiIiLu7u5mZmaYmJgAAABXZE4RAAAAAXRSTlMAQObYZgAAAT1JREFU\n",
       "KM9jYGDgu8eAE7CtEgBRPLsY8AC2ZhDJ+QHMCepFluKpV6ph4N2/mYHhOojL1QAR/oyin+lBEgMD\n",
       "P5CxAkkN6x8UNSzbOCcwcKCp4doApk5W794OVhN+wA1DDfsFsBPrDkDNSXM4fgBVjciseAMQR+gA\n",
       "zK4ESzYFuBreAqBjGhn0wbKKcPck8Aa8BKl5D+JlBDAwyD+A+JFHAaGGwYclA+qGlDYgw5+BARyS\n",
       "rN27d0PdnMBwhKcCxFJ/wMAQkcDA8ImB5yvYyQ5I5rAtAJnDvQDEK2Bg/MnA/IEHZNcGJDUMj5lg\n",
       "7gEGDM9noEozEMcPWQ2XELLf6xisL4DMZDgdAIsLEOM6shqRmWGaYFnG2gRIzNQ3AcnjaOEMBczu\n",
       "EH/BARY1GACshg+/GkjY7sSbDlvBFN9iAukZAN02UftXE2xQAAAAAElFTkSuQmCC\n",
       "\" style=\"display:inline;vertical-align:middle;\" /></a> <a class=\"ProveItLink\" href=\"../863505bb53359c950b7b4d3c9a09b3057d14fbec0/proof.ipynb\" style=\"text-decoration: none\">&#x22A2;&nbsp;</a><a class=\"ProveItLink\" href=\"../5dcd385c02903bd789468bc09167af53928cacae0/expr.ipynb\"><img src=\"data:image/png;base64,iVBORw0KGgoAAAANSUhEUgAAADMAAAAPBAMAAAC7N+rPAAAAMFBMVEX////MzMyYmJiIiIhUVFTc\n",
       "3NwyMjIiIiJ2dnbu7u6qqqpmZmYQEBBERES6uroAAABkyy6XAAAAAXRSTlMAQObYZgAAAOpJREFU\n",
       "GNNjYGBg4LuzgQEJTPt7bQLD9u8LwBz+BchSDJcYLzAwfICw309AkXIXMGZgOABht4NJTrPy8gQQ\n",
       "wy+TRQAmlQ0mxTShuhxFODPBUqzOfb9AAqw3YQY6chnIgqXeBPD+BAnwBsClGPYxGQClWD8xcINt\n",
       "mMuAkGKZ4AiUYvnAwN4AEnhTXg51hiMDp8M0oBT/BYb5D0ACIki6GCQYgVLxBgzrGUD+mo4sxbQA\n",
       "6Ov5CxjcuASAAiwKSFIMrUApNgWuag6wj+tgUveAGOQ0Vmc7WTuwSNhGiMyzP0AdnAkoYbckvRxZ\n",
       "AADWtToQy/OLFQAAAABJRU5ErkJggg==\n",
       "\" style=\"display:inline;vertical-align:middle;\" /></a></span></td></tr>\n",
       "</table>"
      ],
      "text/plain": [
       "<proveit._core_.proof._ShowProof at 0x7f94ebb359b0>"
      ]
     },
     "execution_count": 1,
     "metadata": {},
     "output_type": "execute_result"
    }
   ],
   "source": [
    "import proveit\n",
    "%show_proof"
   ]
  },
  {
   "cell_type": "code",
   "execution_count": null,
   "metadata": {},
   "outputs": [],
   "source": []
  }
 ],
 "metadata": {
  "kernelspec": {
   "display_name": "Python 3",
   "language": "python",
   "name": "python3"
  }
 },
 "nbformat": 4,
 "nbformat_minor": 0
}
