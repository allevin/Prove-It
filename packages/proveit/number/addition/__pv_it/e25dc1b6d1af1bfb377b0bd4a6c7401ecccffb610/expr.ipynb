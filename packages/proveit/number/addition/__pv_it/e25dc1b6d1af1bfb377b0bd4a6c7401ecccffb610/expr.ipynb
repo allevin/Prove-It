{
 "cells": [
  {
   "cell_type": "markdown",
   "metadata": {},
   "source": [
    "Expression of type <a class=\"ProveItLink\" href=\"../../../../../../doc/html/api/proveit.logic.Equals.html\">Equals</a>\n",
    "=======================\n",
    "# from context <a class=\"ProveItLink\" href=\"../../_context_.ipynb\">proveit.number.addition</a>"
   ]
  },
  {
   "cell_type": "code",
   "execution_count": 1,
   "metadata": {},
   "outputs": [],
   "source": [
    "# import Expression classes needed to build the expression\n",
    "from proveit.logic import Equals\n",
    "from proveit.number import Add, one, six, three"
   ]
  },
  {
   "cell_type": "code",
   "execution_count": 2,
   "metadata": {},
   "outputs": [
    {
     "data": {
      "text/html": [
       "<strong id=\"expr\">expr:</strong> <a class=\"ProveItLink\" href=\"expr.ipynb\"><img src=\"data:image/png;base64,iVBORw0KGgoAAAANSUhEUgAAAMcAAAAVBAMAAAAA3efRAAAAMFBMVEX////c3NwiIiJERESqqqqY\n",
       "mJh2dnZmZmYQEBDu7u4yMjJUVFTMzMyIiIi6uroAAAAs73DqAAAAAXRSTlMAQObYZgAAAhZJREFU\n",
       "SMe9lTtIA0EQhifmccmZh9iKIIJiaaGCnZ0gCKksLMTKgCCk8IVYRLCxEcVGtEgKLTxFYmUhyFU2\n",
       "Fqa0UBArESQRYnGC4uzsceF2Z8XKgckkX/7d//Z2bw7gXyJbk8lG/ImjMwx7M81P4luZN3NDyr9E\n",
       "1rVBowCWq9F0FSBVmHMN4hPKSBHq4eVIYquz7Xn4UdFM7B2ATre9hxdnapSJJuR8xa4sksRnIUQP\n",
       "r8S4Kc3kEbMf7AovTu5Qxlomk7JIkipBiEJGjNvXTLZw/7zglyp+BZkQ3K7JQCvIEDcuOqaeHlyC\n",
       "XeJNULyMZZnIKagmghS4cYmiYmLhXc2dPS4axMdYRKbnq4pCkgluXIzuveVQCJWdByj3QVueF29j\n",
       "2SZy/6SuRJAXziRbUlaSRGW5AQmPF39j+ZZCTzUR5I4zSTcUk5wwwbPY5MW+ScSF6Ad+XXOcAccR\n",
       "m+ETMmnRX0xyFYh/8eJNLJhlT5q0LsMnv9wuq5diUKwZj1vUsBIUD2MZpstoew8pfDLNmcTVRz6K\n",
       "Ox4z7AmKC/KYZvJQnw0pfPK3I0xgBPbzvPgZi8jxlSNlOknOw9Ra/VzCE6s256zoFtbltUGc7ABK\n",
       "0B5XCq2tUOhtZQOMU6BYdMCgC+pvhkSNowuayZT55bIQtHpTHHAwxbd6Pkjc5ScfFxxs79BQpGqa\n",
       "gcSRmkw2Mi5HHxjWbTJB8Q9HxMXIXZFriQAAAABJRU5ErkJggg==\n",
       "\" style=\"display:inline;vertical-align:middle;\" /></a><br>"
      ],
      "text/plain": [
       "expr: ((3 + 3) + 1) = (6 + 1)"
      ]
     },
     "execution_count": 2,
     "metadata": {},
     "output_type": "execute_result"
    }
   ],
   "source": [
    "# build up the expression from sub-expressions\n",
    "expr = Equals(Add(Add(three, three), one), Add(six, one))"
   ]
  },
  {
   "cell_type": "code",
   "execution_count": 3,
   "metadata": {},
   "outputs": [
    {
     "name": "stdout",
     "output_type": "stream",
     "text": [
      "Passed sanity check: built 'expr' is the same as the stored Expression.\n"
     ]
    }
   ],
   "source": [
    "# check that the built expression is the same as the stored expression\n",
    "%check_expr"
   ]
  },
  {
   "cell_type": "code",
   "execution_count": 4,
   "metadata": {},
   "outputs": [
    {
     "data": {
      "text/html": [
       "<table><tr><th>&nbsp;</th><th>core type</th><th>sub-expressions</th><th>expression</th></tr>\n",
       "<tr><td>0</td><td>Operation</td><td>operator:&nbsp;1<br>operands:&nbsp;2<br></td><td><a class=\"ProveItLink\" href=\"expr.ipynb\"><img src=\"data:image/png;base64,iVBORw0KGgoAAAANSUhEUgAAAMcAAAAVBAMAAAAA3efRAAAAMFBMVEX////c3NwiIiJERESqqqqY\n",
       "mJh2dnZmZmYQEBDu7u4yMjJUVFTMzMyIiIi6uroAAAAs73DqAAAAAXRSTlMAQObYZgAAAhZJREFU\n",
       "SMe9lTtIA0EQhifmccmZh9iKIIJiaaGCnZ0gCKksLMTKgCCk8IVYRLCxEcVGtEgKLTxFYmUhyFU2\n",
       "Fqa0UBArESQRYnGC4uzsceF2Z8XKgckkX/7d//Z2bw7gXyJbk8lG/ImjMwx7M81P4luZN3NDyr9E\n",
       "1rVBowCWq9F0FSBVmHMN4hPKSBHq4eVIYquz7Xn4UdFM7B2ATre9hxdnapSJJuR8xa4sksRnIUQP\n",
       "r8S4Kc3kEbMf7AovTu5Qxlomk7JIkipBiEJGjNvXTLZw/7zglyp+BZkQ3K7JQCvIEDcuOqaeHlyC\n",
       "XeJNULyMZZnIKagmghS4cYmiYmLhXc2dPS4axMdYRKbnq4pCkgluXIzuveVQCJWdByj3QVueF29j\n",
       "2SZy/6SuRJAXziRbUlaSRGW5AQmPF39j+ZZCTzUR5I4zSTcUk5wwwbPY5MW+ScSF6Ad+XXOcAccR\n",
       "m+ETMmnRX0xyFYh/8eJNLJhlT5q0LsMnv9wuq5diUKwZj1vUsBIUD2MZpstoew8pfDLNmcTVRz6K\n",
       "Ox4z7AmKC/KYZvJQnw0pfPK3I0xgBPbzvPgZi8jxlSNlOknOw9Ra/VzCE6s256zoFtbltUGc7ABK\n",
       "0B5XCq2tUOhtZQOMU6BYdMCgC+pvhkSNowuayZT55bIQtHpTHHAwxbd6Pkjc5ScfFxxs79BQpGqa\n",
       "gcSRmkw2Mi5HHxjWbTJB8Q9HxMXIXZFriQAAAABJRU5ErkJggg==\n",
       "\" style=\"display:inline;vertical-align:middle;\" /></a></td></tr>\n",
       "<tr><td>1</td><td>Literal</td><td></td><td><a class=\"ProveItLink\" href=\"../../../../logic/equality/__pv_it/2fb26078095930560931daa0500ce419a39ea6cd0/expr.ipynb\"><img src=\"data:image/png;base64,iVBORw0KGgoAAAANSUhEUgAAAA4AAAAFBAMAAACHocAhAAAAFVBMVEX///9EREQiIiJUVFQyMjJm\n",
       "ZmYAAADubVkoAAAAAXRSTlMAQObYZgAAABRJREFUCNdjCHEBAWcGXCBICQQUAUpuAwlgGKrkAAAA\n",
       "AElFTkSuQmCC\n",
       "\" style=\"display:inline;vertical-align:middle;\" /></a></td></tr>\n",
       "<tr><td>2</td><td>ExprTuple</td><td>3, 4</td><td><a class=\"ProveItLink\" href=\"../e3a5e9fecede5cf9c12227e778b2f291c98952050/expr.ipynb\"><img src=\"data:image/png;base64,iVBORw0KGgoAAAANSUhEUgAAAKUAAAAVBAMAAADVzzOcAAAAMFBMVEX////c3NwiIiJERESqqqqY\n",
       "mJh2dnZmZmYQEBDu7u4yMjJUVFTMzMyIiIi6uroAAAAs73DqAAAAAXRSTlMAQObYZgAAAf9JREFU\n",
       "OMu1lT1IW1EUx//5zktNdHfpInRwEjs4mU0ohGZycNBMFsTSLEbRDhl0cUhSCiLt0CCKeoViXR2a\n",
       "qUspvq0dCgYnEcQP7BAH9dyPfNybe4cMPfB/5+V/OT/uPXnvPOB/RMqXskak3ituml9+Sv2YHTVW\n",
       "hfO+qyhUUTcbhXlzbQyI1SjvCwXyuNI3K52EWeaNK2ZgGEfG2scGXapA0heK3qH/uVz5IJN0Ijlo\n",
       "rnf8XTGDOTDlDcj8+ZgzJ4F4RSjcZmZkko5XhOYCp4o50+wBws0DJjlzE7iAFFpnb1ULZ9TF3IOd\n",
       "GUqjQKkgnAOzWjhvXMz7X7/TNmY0jx1KXH1zh0a1dF45mN5tFkM2ZriKEqWScP7UzX1y59zFfATe\n",
       "VSzMVBEPlB6EE2+YTO6cOPdJf1Pawuy7bjIDNYT+0e0yYy8Y441UjmC23Y5+EpNgMca21hk77GSu\n",
       "UiJ9aUhme0fKcZ0dI4590tlfUiL1VxG80aqVM2VjcuxrRz8jVfGskJJZXOW0auXYniXeS4Ry3prj\n",
       "WTqjxDWxuG1US+er4S6Wd7Nemb+NKyt1nRlbul8AEnXEaTk+0DkJMtrIKNrclFYQ1oYPvZt8SLQG\n",
       "hYjLzh9R3+ZGuiZwO962Zp0rPtlHtXsmezTrMKhkj29W13czn/G2BHwpayRrvX47/gJPfcy1zTG8\n",
       "+hIAAAAASUVORK5CYII=\n",
       "\" style=\"display:inline;vertical-align:middle;\" /></a></td></tr>\n",
       "<tr><td>3</td><td>Operation</td><td>operator:&nbsp;10<br>operands:&nbsp;5<br></td><td><a class=\"ProveItLink\" href=\"../bb3ee6269371819d7a6ce9b1bbdf8cdd5ef56d430/expr.ipynb\"><img src=\"data:image/png;base64,iVBORw0KGgoAAAANSUhEUgAAAF4AAAAVBAMAAAA9Y0TyAAAAMFBMVEX////c3NwiIiJERESqqqqY\n",
       "mJh2dnZmZmYQEBDu7u4yMjJUVFTMzMyIiIi6uroAAAAs73DqAAAAAXRSTlMAQObYZgAAASJJREFU\n",
       "KM9jYCAV8F3AIcH6AKvwaQaGY2kmaIJgkRoMtZZAvJKBsYDhPaolEBEudOWTfzIw8F5gYPvCwK8A\n",
       "EZkIoSAirAkMKKKzdwPVc0xgYEGo94VQEBHOBgYUUQZeoPpXYBbMPb5wu0EiJljUl4FZqxnQ1YNE\n",
       "0rGoXwqkebI2oMlARLywqO8Ds248QDcfJPICi/p/YBbHT3T1IJHz2NUzHmBg/grkVq1apbFqFcjh\n",
       "UBGweoQoWH0LA8P8nxD1CJOgItjcY8rAwL+AgekjigxUJAqLemCY8QYwvE9AkYGKYAvPR0DavXwJ\n",
       "mgxEZB2qKHvFr1IGDgHkFOWLzMFID+BUnoCs5C0yh+0CNtGVOHPSLKyi0jjVb8QqyogrP/IewCII\n",
       "AP4WZAOoou3AAAAAAElFTkSuQmCC\n",
       "\" style=\"display:inline;vertical-align:middle;\" /></a></td></tr>\n",
       "<tr><td>4</td><td>Operation</td><td>operator:&nbsp;10<br>operands:&nbsp;6<br></td><td><a class=\"ProveItLink\" href=\"../3f5d097d76ddca7a60acd853944b537df43722ef0/expr.ipynb\"><img src=\"data:image/png;base64,iVBORw0KGgoAAAANSUhEUgAAACwAAAAQBAMAAACfEoDkAAAAMFBMVEX///+6urpERESqqqqIiIgQ\n",
       "EBCYmJgyMjJUVFQiIiLc3NzMzMxmZmZ2dnbu7u4AAABf+mkYAAAAAXRSTlMAQObYZgAAAIJJREFU\n",
       "GNNjYOC7c3cDAyrQA+KVGzgmoIo++gck5jKwF0C4ryDUiw6gMNs/uCoTKM0CFGIPwCrMX+1yGIvw\n",
       "+2kMnAlYhD8w8P7DIjyBge0zFrMLGNi+ANnHy8unlpdXwISZsKtmxm42gy7DUywuYeDpaUR1N8/R\n",
       "78eQg8iEASsQQTABLaYvTviNmyIAAAAASUVORK5CYII=\n",
       "\" style=\"display:inline;vertical-align:middle;\" /></a></td></tr>\n",
       "<tr><td>5</td><td>ExprTuple</td><td>7, 9</td><td><a class=\"ProveItLink\" href=\"../eee72dcf2f74217c8e501411d24c6eb0751ed0db0/expr.ipynb\"><img src=\"data:image/png;base64,iVBORw0KGgoAAAANSUhEUgAAAE0AAAAVBAMAAADx+n4ZAAAAMFBMVEX////c3NwiIiJERESqqqqY\n",
       "mJh2dnZmZmYQEBDu7u4yMjJUVFTMzMyIiIi6uroAAAAs73DqAAAAAXRSTlMAQObYZgAAATJJREFU\n",
       "KM9jYCAW8F0gqCQORJxmYDiWZoImgyRiycDAfgBIr2RgLGB4j2ooksjkn0BiAQMD7wUGti8M/AoQ\n",
       "0YkQCiEyezdIXRgDA8cEBhaEOl8IhSTCC1I3g4HhFZgHs8UXbjVMBKyO2YGhDMxbzYCuDiYCVsdW\n",
       "wLAUSPFkbUBThxABq2NZwNAH5t14gG4eTASsjq+B4R+Yx/ETXR1MBKyO5wNIHeMBBuavQF7VqlUa\n",
       "q1aBHAYTQVLXwsAw/ydcFGoekgjMXlMGBv4FDEwfUdRBRCbA1bEuYEgHMgMY3iegqAOLcH5CDpdH\n",
       "QMq9fAlauIBEOPsFgEmg4lcpAwPXAwYOAeQE4IuS4uBSwHhjTUCWeovMYYWzcsHpCheAq+MEpisG\n",
       "aZzq4GmSG+QARsLp/g4DAwDbRl6oYixX7QAAAABJRU5ErkJggg==\n",
       "\" style=\"display:inline;vertical-align:middle;\" /></a></td></tr>\n",
       "<tr><td>6</td><td>ExprTuple</td><td>8, 9</td><td><a class=\"ProveItLink\" href=\"../238492a629f4ffa734b35a1a5c578e267a8f92520/expr.ipynb\"><img src=\"data:image/png;base64,iVBORw0KGgoAAAANSUhEUgAAACkAAAAVBAMAAAAp9toTAAAAMFBMVEX////c3NwiIiJERESqqqqY\n",
       "mJh2dnZmZmYQEBDu7u4yMjJUVFTMzMyIiIi6uroAAAAs73DqAAAAAXRSTlMAQObYZgAAAOtJREFU\n",
       "GNNjYMAO+C6gCcSBiNMMDJzpaQegQpYMDOwg9koGBqED3AoQwck/gcQCBgZeoAFqDFwLwIKzd4NE\n",
       "wxgYOCYwsP6Em8kLYs5gYHjFwMDVgCrK7MBQxsDAv+ZuCbIoWwHDUgaG+aoMTAFIoiwLGPqAoh8Y\n",
       "2H4iifI1MPwDiiowsH5BEuX5ABLlX8DA+hdVtAVoJ5paoAmmQNPB5k6Ai7IuYEgHUmYMMwI4PyG7\n",
       "7BGQYt++j4GzXwDIqPhVCvTVAwYOAViIwhggH7MmQNmscG/nQkISVZQTFH7SUA48SrhBRjGix9Ad\n",
       "BgYAUcA/TwCWCZcAAAAASUVORK5CYII=\n",
       "\" style=\"display:inline;vertical-align:middle;\" /></a></td></tr>\n",
       "<tr><td>7</td><td>Operation</td><td>operator:&nbsp;10<br>operands:&nbsp;11<br></td><td><a class=\"ProveItLink\" href=\"../699a1d509d4351b084cb142424605f66aca456f80/expr.ipynb\"><img src=\"data:image/png;base64,iVBORw0KGgoAAAANSUhEUgAAAC0AAAAQBAMAAABw0OvaAAAAMFBMVEX///+YmJju7u4QEBBUVFQy\n",
       "MjIiIiKIiIi6urpmZmbc3NyqqqpERER2dnbMzMwAAAB0GlNiAAAAAXRSTlMAQObYZgAAALRJREFU\n",
       "GNNjYHh79zQDCuC7e2cDAwPXBIb+AhTxlQwc3xkYeH8z8CdABLQg1P0NDN8YGLgR4tsh1H6wOBDA\n",
       "zNkOMwlkDhCEMKCJszqArL/qgCb+FqqwuAFNPbsFmGL+hCbOYK/AwPWAgecjkDk1NDQ5NBRkwjoG\n",
       "hvMCDPqfIOJw9Uz/FUDi/AEMbL9QzPnKwJC/gIFdgKH/Aop4IQPHXyC1c2Y0qju5Z07dgBJg2xmw\n",
       "g3YkNgCAPTRKDcxu7AAAAABJRU5ErkJggg==\n",
       "\" style=\"display:inline;vertical-align:middle;\" /></a></td></tr>\n",
       "<tr><td>8</td><td>Literal</td><td></td><td><a class=\"ProveItLink\" href=\"../../../numeral/__pv_it/09b499e53e24cf89c2513ba78b501f0314edaa680/expr.ipynb\"><img src=\"data:image/png;base64,iVBORw0KGgoAAAANSUhEUgAAAAoAAAAOBAMAAADkjZCYAAAAMFBMVEX///+6urpERESqqqqIiIgQ\n",
       "EBCYmJgyMjJUVFQiIiLc3NzMzMxmZmZ2dnbu7u4AAABf+mkYAAAAAXRSTlMAQObYZgAAAFNJREFU\n",
       "CNdjYOC7c3cDA8PKDRwTGBjmMrAXMLD9YwAC9gAQyV/tcpiB4f00Bs4EhvcfGHj/MbyfwMD2mYEf\n",
       "qOwLAxOYzQwWZ9BleJrAwMDT08gAANMyF0ZGTeKAAAAAAElFTkSuQmCC\n",
       "\" style=\"display:inline;vertical-align:middle;\" /></a></td></tr>\n",
       "<tr><td>9</td><td>Literal</td><td></td><td><a class=\"ProveItLink\" href=\"../../../numeral/__pv_it/9be8badea4c35b9724062cecc501d17a3158d1d20/expr.ipynb\"><img src=\"data:image/png;base64,iVBORw0KGgoAAAANSUhEUgAAAAgAAAAPBAMAAAArJJMAAAAAHlBMVEX///+YmJgyMjIQEBBmZmaI\n",
       "iIhUVFTu7u5EREQAAAAw+MI4AAAAAXRSTlMAQObYZgAAACFJREFUCNdjYGBoZ2BgqJjOwFCWBiQY\n",
       "WEklWJwnOTKAAACjEQo8HvEr3AAAAABJRU5ErkJggg==\n",
       "\" style=\"display:inline;vertical-align:middle;\" /></a></td></tr>\n",
       "<tr><td>10</td><td>Literal</td><td></td><td><a class=\"ProveItLink\" href=\"../3e6688136fa3c7aefbebe51301b7c3ebf0b69c440/expr.ipynb\"><img src=\"data:image/png;base64,iVBORw0KGgoAAAANSUhEUgAAAA4AAAAOBAMAAADtZjDiAAAAJFBMVEX///+6urpUVFQQEBAiIiIy\n",
       "MjJmZmaIiIiqqqrc3Nzu7u4AAACgHpL+AAAAAXRSTlMAQObYZgAAAB5JREFUCNdjYGBgWMkAAe2k\n",
       "0Kmhoc6hoUGk6BMHYgAHOwjcado9fwAAAABJRU5ErkJggg==\n",
       "\" style=\"display:inline;vertical-align:middle;\" /></a></td></tr>\n",
       "<tr><td>11</td><td>ExprTuple</td><td>12, 12</td><td><a class=\"ProveItLink\" href=\"../c017262dc935bab7587f0744a3b31563e3ec1f2b0/expr.ipynb\"><img src=\"data:image/png;base64,iVBORw0KGgoAAAANSUhEUgAAACkAAAAVBAMAAAAp9toTAAAAMFBMVEX////c3NwiIiJERESqqqqY\n",
       "mJh2dnZmZmYQEBDu7u4yMjJUVFTMzMyIiIi6uroAAAAs73DqAAAAAXRSTlMAQObYZgAAAQ9JREFU\n",
       "GNNtkS1PA0EQhp+jvXIH7fUcAgT/AAOac0iqkKQJSUlICFU0QSHQ9CSOEyAIpj+hqgZTQ4JANEjM\n",
       "AQGSkvAxO909cWHFZt5nszPvzMD/JxqXwK657mDUWZ+BemcvYX4o0Q1el3z2YYnoGzJojKm901xV\n",
       "epTwBjsQpFQLuq30Ap5V5q6kyVBJOFZx6wwsDKDW5dqUPhhYODLP1YxzVQ8Tixuio1N+VARTl6Kf\n",
       "Un8x1BtS+VC0ApstQ8/gcmpp+JsaKhk2oJkx90oq+AvWYvyMfanQIm+HYp97ok919iRiq3dF2I/F\n",
       "U+8kEc8Tgth15QLTsd+2sV8M+FAnWaKhTJJlK4qVLJpUXnlDj/AHHh5B6Heel5EAAAAASUVORK5C\n",
       "YII=\n",
       "\" style=\"display:inline;vertical-align:middle;\" /></a></td></tr>\n",
       "<tr><td>12</td><td>Literal</td><td></td><td><a class=\"ProveItLink\" href=\"../../../numeral/__pv_it/9176d93c83afa2c995b614976e3cb49207102fa70/expr.ipynb\"><img src=\"data:image/png;base64,iVBORw0KGgoAAAANSUhEUgAAAAoAAAAOBAMAAADkjZCYAAAAMFBMVEX///+YmJju7u4QEBBUVFQy\n",
       "MjIiIiKIiIi6urpmZmbc3NyqqqpERER2dnbMzMwAAAB0GlNiAAAAAXRSTlMAQObYZgAAAE1JREFU\n",
       "CNdjYHh79zQDA9cEhv4CBt7fDPwJDNxgEgiAIkAQAsR8Vx1ATIbiBhDJ/ImB6wEDz0cG/U8gkj+A\n",
       "ge0XA7sAQ/8FBoadM6MZAEflFACalZ/OAAAAAElFTkSuQmCC\n",
       "\" style=\"display:inline;vertical-align:middle;\" /></a></td></tr>\n",
       "</table>\n"
      ],
      "text/plain": [
       "0. ((3 + 3) + 1) = (6 + 1)\n",
       "   core type: Operation\n",
       "   operator: 1\n",
       "   operands: 2\n",
       "1. =\n",
       "   core type: Literal\n",
       "   sub-expressions: \n",
       "2. ((3 + 3) + 1 , 6 + 1)\n",
       "   core type: ExprTuple\n",
       "   sub-expressions: 3, 4\n",
       "3. (3 + 3) + 1\n",
       "   core type: Operation\n",
       "   operator: 10\n",
       "   operands: 5\n",
       "4. 6 + 1\n",
       "   core type: Operation\n",
       "   operator: 10\n",
       "   operands: 6\n",
       "5. (3 + 3 , 1)\n",
       "   core type: ExprTuple\n",
       "   sub-expressions: 7, 9\n",
       "6. (6 , 1)\n",
       "   core type: ExprTuple\n",
       "   sub-expressions: 8, 9\n",
       "7. 3 + 3\n",
       "   core type: Operation\n",
       "   operator: 10\n",
       "   operands: 11\n",
       "8. 6\n",
       "   core type: Literal\n",
       "   sub-expressions: \n",
       "9. 1\n",
       "   core type: Literal\n",
       "   sub-expressions: \n",
       "10. +\n",
       "    core type: Literal\n",
       "    sub-expressions: \n",
       "11. (3 , 3)\n",
       "    core type: ExprTuple\n",
       "    sub-expressions: 12, 12\n",
       "12. 3\n",
       "    core type: Literal\n",
       "    sub-expressions: "
      ]
     },
     "execution_count": 4,
     "metadata": {},
     "output_type": "execute_result"
    }
   ],
   "source": [
    "# display the expression information\n",
    "expr.exprInfo()"
   ]
  },
  {
   "cell_type": "code",
   "execution_count": null,
   "metadata": {},
   "outputs": [],
   "source": []
  }
 ],
 "metadata": {
  "kernelspec": {
   "display_name": "Python 3",
   "language": "python",
   "name": "python3"
  }
 },
 "nbformat": 4,
 "nbformat_minor": 0
}
