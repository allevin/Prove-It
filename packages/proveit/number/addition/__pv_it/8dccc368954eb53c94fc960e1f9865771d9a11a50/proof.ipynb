{
 "cells": [
  {
   "cell_type": "markdown",
   "metadata": {},
   "source": [
    "Show the Proof\n",
    "========"
   ]
  },
  {
   "cell_type": "code",
   "execution_count": 1,
   "metadata": {},
   "outputs": [
    {
     "data": {
      "text/html": [
       "<table><tr><th>&nbsp;</th><th>step type</th><th>requirements</th><th>statement</th></tr>\n",
       "<tr><td>0</td><td>specialization</td><td>1, 2, 3</td><td><span style=\"font-size:20px;\"><a class=\"ProveItLink\" href=\"../f1629f1f60523e7b1e5acd78bbb06e5aa758a3ca0/expr.ipynb\"><img src=\"data:image/png;base64,iVBORw0KGgoAAAANSUhEUgAAAIEAAAAVBAMAAACTeZA2AAAAMFBMVEX///9ERETc3NyqqqpUVFS6\n",
       "urrMzMwyMjIQEBCIiIh2dnYiIiLu7u5mZmaYmJgAAABJJ2g3AAAAAXRSTlMAQObYZgAAAfVJREFU\n",
       "OMullD1IHEEUx/97N67e3eyHRbARuVQps4WNlddkzaGIpNHOPTgSSWWRIuCBRkkKq20k2IlBEG0E\n",
       "UUiOkBWEEyzumiRFIFlIFQhEUwUSQubt7lxujnMLnWLn4zf89u2bfQPA/IxrNn2vSB1/g2s3fY2e\n",
       "uYterHE5FODTbyd6x/0DFfLlwRqMd4fAR5rmV3rqR3QbSOT9pS6ohRXAEoPdFMOktwkkyHK6IDvO\n",
       "+RjobeAv6/VFGtyrMU8a5oMuyGYD9yrDo+/JwK3ymjTsd0P2sNQIVEOmvLNKk8ywVLlZvyINTzan\n",
       "Vci8Md1uGwyKa66oRVnTim0D3pt+bOCXsDwFMs+Y+UaGHzRbmBH2vzBsmpzgv4EFbmzI/sHAlgJF\n",
       "iqbYAp1SC6i+oJULFHxCc/V6kiwXvNSIDSJKq6VAYTjlT2k0FIp1EaBlo0lxotoRAx7rsaHQwnyo\n",
       "QGHQtyiGAsXGhPWuj3HQkZ13GkzHlr/DFxUKA75qMg958cs2HUxkKQgWdhiwbYOTwcM6FEiG/O3O\n",
       "0+wPs2/zUdqP5KZbcQKaws8co6RCTWQ/qom2IVPeqGxE7M6HeM/sL/EFfBFnP0VXTupfwr7lZ1R8\n",
       "V9TF6FKcbtkepMHUypItTKWRwbyJIbof+Ou0Lbn0O+p51JmvbnRP/gN6tYgqBZPLwgAAAABJRU5E\n",
       "rkJggg==\n",
       "\" style=\"display:inline;vertical-align:middle;\" /></a> <a class=\"ProveItLink\" href=\"proof.ipynb\" style=\"text-decoration: none\">&#x22A2;&nbsp;</a><a class=\"ProveItLink\" href=\"../d1863e9a23a3664572c0edf6ad4b2753322135bc0/expr.ipynb\"><img src=\"data:image/png;base64,iVBORw0KGgoAAAANSUhEUgAAAGQAAAAVBAMAAABCslYDAAAAMFBMVEX////c3NwiIiJERESqqqqY\n",
       "mJh2dnZmZmYQEBDu7u4yMjJUVFTMzMyIiIi6uroAAAAs73DqAAAAAXRSTlMAQObYZgAAAapJREFU\n",
       "OMudkzFIw0AUhv82adOY2gTcdFCCoINoQRzcsksxgwgOSnFxUrroIIKK4ihRF6lDiyDYdGgXQcVC\n",
       "oItYh86ipTiVgrQgDi7iJaZtrvQWb7i8ey/fvf/uvQP+MSJlRmCFiZR6+MTbEUCwupy56QyEqVEg\n",
       "02ufvjyZ0l1OTi8CMtBP6Tpxv7JGpsUuRJogP4eAkOH1xtxvw/aeu4JeVNVJKNWNBxupoxey6gjR\n",
       "HPtpqZXlOZ80CLJFbF9hY59Gsm83QDBhm77ZtjArFo4S5IrYNYVrUoj4CdkC78jhlA4iVJcJckz2\n",
       "+YIQpRD+G6E4Inu2fdY5voU76RH4IWYT/jKFCGnICYSd1DVVbR3fwoV47SByFCm7bNumOW6aWWL5\n",
       "E2joLlLyZgnHSZZDYLiMeRjeLKQsu4Yr7NSLYIEDZoCUhnveohALR0DgT47uRYIDwBrpDp0fC1Jn\n",
       "kTQh37pkcbLdMFVbPfBul6VSrNCXXNi0G63qLAZ33JbPHZA5SRpG6VV9Z7gNg7lLlerQQNy7+vAu\n",
       "1lnvJcMKiGlWZIgVkBRWxMd6yK8M/y993GR5saDtrgAAAABJRU5ErkJggg==\n",
       "\" style=\"display:inline;vertical-align:middle;\" /></a></span></td></tr>\n",
       "<tr><td>&nbsp;</td><td colspan=4 style=\"text-align:left\"><span style=\"font-size:20px;\"><a class=\"ProveItLink\" href=\"../../../../__pv_it/07527342713064c87612d00d8557c53d53d5324a0/expr.ipynb\"><img src=\"data:image/png;base64,iVBORw0KGgoAAAANSUhEUgAAAAsAAAAJBAMAAAAWSsseAAAAMFBMVEX///8yMjKqqqrMzMzu7u4i\n",
       "IiJmZmaYmJhEREQQEBC6urp2dnaIiIhUVFTc3NwAAAD87Fq/AAAAAXRSTlMAQObYZgAAAEhJREFU\n",
       "CNdjYOC7s2seAwPDygccHxgY+L4zsDUwMPB+YGA9wMDA38Dgb8DA8P4Agz6DA4O/AsNFJgMGxgKm\n",
       "MG6gyjunLE4xAAAZTBA5TB6DCwAAAABJRU5ErkJggg==\n",
       "\" style=\"display:inline;vertical-align:middle;\" /></a> : <a class=\"ProveItLink\" href=\"../../../../__pv_it/07527342713064c87612d00d8557c53d53d5324a0/expr.ipynb\"><img src=\"data:image/png;base64,iVBORw0KGgoAAAANSUhEUgAAAAsAAAAJBAMAAAAWSsseAAAAMFBMVEX///8yMjKqqqrMzMzu7u4i\n",
       "IiJmZmaYmJhEREQQEBC6urp2dnaIiIhUVFTc3NwAAAD87Fq/AAAAAXRSTlMAQObYZgAAAEhJREFU\n",
       "CNdjYOC7s2seAwPDygccHxgY+L4zsDUwMPB+YGA9wMDA38Dgb8DA8P4Agz6DA4O/AsNFJgMGxgKm\n",
       "MG6gyjunLE4xAAAZTBA5TB6DCwAAAABJRU5ErkJggg==\n",
       "\" style=\"display:inline;vertical-align:middle;\" /></a>, <a class=\"ProveItLink\" href=\"../../../../__pv_it/6840a4fa6c106149dc16a131294d0c5e44f1b0480/expr.ipynb\"><img src=\"data:image/png;base64,iVBORw0KGgoAAAANSUhEUgAAAAkAAAAOBAMAAAAPuiubAAAALVBMVEX///9mZmbMzMxERESYmJiI\n",
       "iIh2dna6urqqqqoyMjIiIiIQEBBUVFTu7u4AAAD9S1JeAAAAAXRSTlMAQObYZgAAAE1JREFUCNdj\n",
       "4D29gAEIOA+ASL4GEFl3AURmgQiGOaFHGBh4HzPwKTBwvGXgTmBgnMDAJ8DAJcBQ5wBSLncBJLWN\n",
       "gYGngRFoBO9REQYGAGrcDtUkVqASAAAAAElFTkSuQmCC\n",
       "\" style=\"display:inline;vertical-align:middle;\" /></a> : <a class=\"ProveItLink\" href=\"../../../../__pv_it/6840a4fa6c106149dc16a131294d0c5e44f1b0480/expr.ipynb\"><img src=\"data:image/png;base64,iVBORw0KGgoAAAANSUhEUgAAAAkAAAAOBAMAAAAPuiubAAAALVBMVEX///9mZmbMzMxERESYmJiI\n",
       "iIh2dna6urqqqqoyMjIiIiIQEBBUVFTu7u4AAAD9S1JeAAAAAXRSTlMAQObYZgAAAE1JREFUCNdj\n",
       "4D29gAEIOA+ASL4GEFl3AURmgQiGOaFHGBh4HzPwKTBwvGXgTmBgnMDAJ8DAJcBQ5wBSLncBJLWN\n",
       "gYGngRFoBO9REQYGAGrcDtUkVqASAAAAAElFTkSuQmCC\n",
       "\" style=\"display:inline;vertical-align:middle;\" /></a></span></td></tr><tr><td>1</td><td>theorem</td><td></td><td><span style=\"font-size:20px;\"> <a class=\"ProveItLink\" href=\"../../_proofs_/addNatClosureBin.ipynb\" style=\"text-decoration: none\">&#x22A2;&nbsp;</a><a class=\"ProveItLink\" href=\"../dcca30abf75b1b44d154a4beffceb4d7955138550/expr.ipynb\"><img src=\"data:image/png;base64,iVBORw0KGgoAAAANSUhEUgAAALYAAAAWBAMAAACfwnvZAAAAMFBMVEX///8QEBC6urrMzMxUVFRm\n",
       "ZmZERETc3NwyMjKqqqp2dnaIiIiYmJgiIiLu7u4AAAAU9Wx4AAAAAXRSTlMAQObYZgAAAutJREFU\n",
       "OMu1VU1oE0EU/pLsZpPNZlMEFT2lKFgQ6RZLraI02oNCpQRKQWzBYCFFENmD2l7EKD1E0DYHBaEH\n",
       "g1BExLLUH0RBFr2ogVIVEYXoCkV70RYP9aAUZ3Zms9k0m170wTc782b2y8s3770F/qNZax8JGgx1\n",
       "7ZmPX0kCc3RSasjdzlFr6n7ysqjVOCey4xA/f0AfcJs6xhtyj/udiKTIkKtxhs0OIEE2gbNkKWUa\n",
       "UccMBte+8WeiQIZXNceFt+RwgIhSRIQILhYacQcsBtcm+bOVer9wLR6Vy/ZfEFqsbsqtNkG5NTJy\n",
       "rqEkLRyrue/aGrDAOmeduHemFizCjRPAcjb7sSH3UQ6p5+ZGL/fYk8OAnKZT6VRFE20ylKHcU0A3\n",
       "MFzJtnwd7ssczXp4ycOtLiOhIWorEdZdbjFZotzXga1Q3aue4s/O/mRsPdd4HYP0B2LGwx1dQaCI\n",
       "YBOdf3XvUkOv0EZjAeKImZWNSzScB/2mkpnGNPf9ZBCWEDc83GIOiTRC9p9pLpedu9Qwr14gky6S\n",
       "XmbcTYJfBA+3/bCUkljLnchgkdbJkXz+dT4/RmbxNFpNzt1eHXeo2Ma41Rz1n3k8RPX+fd9S6N0o\n",
       "u3cZDvcmhvMGbvAOMVlJ72MW1+R7NTdehpkmGD5AfuC9tELLZE5JRexuoE0/d7hPMiwWcCiqebg1\n",
       "bCZHmRJmNbdMK/IFwTXSFYR0iDaWsKHM7WHcstxbdb8EETP6TvboLRTElJOD6ptKzSepcPy9ALmh\n",
       "RDJGe0NAEzP7stmsoWjS7Cd+eAeD1DPTMePNwZ5B2lSS9mK0j6fxxAYyLhBcpDESERet8KxOW0zc\n",
       "nGdxY8tTp+Z1htV1aRuveVy9Uva0LbWp0jO69lqjepwkvKAzbsXRmzQdG65tr17c8Sln2WlvwYHS\n",
       "ILrM4EAR6nHaP8iQWrPH2uHlfDYWvEt21zLR2+M+zVHXBN1n46BnFfI5JhkMde2eX9f3fo+Uf/wp\n",
       "/gtM77n9I8cAagAAAABJRU5ErkJggg==\n",
       "\" style=\"display:inline;vertical-align:middle;\" /></a></span></td></tr>\n",
       "<tr><td>&nbsp;</td><td colspan=4 style-\"text-align:left\"><a class=\"ProveItLink\" href=\"../../_proofs_/addNatClosureBin.ipynb\">proveit.number.addition.addNatClosureBin</a></td></tr><tr><td>2</td><td>assumption</td><td></td><td><span style=\"font-size:20px;\"><a class=\"ProveItLink\" href=\"../a04268c578c396fe32883ea436f612b93474a7140/expr.ipynb\"><img src=\"data:image/png;base64,iVBORw0KGgoAAAANSUhEUgAAAEUAAAAVBAMAAADiLT7tAAAAMFBMVEX///9ERETc3NyqqqpUVFS6\n",
       "urrMzMwyMjIQEBCIiIh2dnYiIiLu7u5mZmaYmJgAAABJJ2g3AAAAAXRSTlMAQObYZgAAATFJREFU\n",
       "KM9jYGDgu8eAE7CtUgBRPLsY8AC2ZhDJ+QGLFE+9YA0D7/7NDAzXQVyuBmz6GR8kMjDwAxkrcKth\n",
       "2cY5gYEDu5qT1bu3g9WEH3DDoYat7gDUnDSH4wdQ1ajMigB7UvEAzK4ESzYBuBreAgYG1iYGebCU\n",
       "ENw9CbwBL0Fq3oN4GQEMDPoPGC6CvSyAUMPgw5IBZLBfYGBIaQMy/BkYdoJkWLt374a6OYHhCE8F\n",
       "iCX+gIEhIoGB4SMDzzewkx2QzGFbADKHewGIV8DA9JOB+QMPyK4NSGoYHjPC3MO1gYHnM1ClGYjj\n",
       "h6yGSxHZ73UM1hdAZjKcDoDFBYhxHVmNyswwSbAsU20CWAlrfSOQPI49LpjdIf6CAzxxiqqGD78a\n",
       "cPrh2Yk3HbaCKb7FBNIzAM0oTLXN6YWcAAAAAElFTkSuQmCC\n",
       "\" style=\"display:inline;vertical-align:middle;\" /></a> <a class=\"ProveItLink\" href=\"../25d6c4774e37bd311fe318ec6d3e64caa8f0c5000/proof.ipynb\" style=\"text-decoration: none\">&#x22A2;&nbsp;</a><a class=\"ProveItLink\" href=\"../c5b98dacd8c1b1e4a3f9e1e77adaf1edce8539550/expr.ipynb\"><img src=\"data:image/png;base64,iVBORw0KGgoAAAANSUhEUgAAADMAAAAPBAMAAAC7N+rPAAAAMFBMVEX///8yMjKqqqrMzMzu7u4i\n",
       "IiJmZmaYmJhEREQQEBC6urp2dnaIiIhUVFTc3NwAAAD87Fq/AAAAAXRSTlMAQObYZgAAANdJREFU\n",
       "GNNjYMAAjj8aHRhSvyowYAHtzA0MDB+wyTBcNTjDwDABWYTlYGioAIhxS4TXAFXKsATKuGzLIgKW\n",
       "4ruzax5IgK8FpuYy0wELsNTKBxxgKzkewKUYstgPAKX4vjOwNYAEPBgQUrwOl4FSvB8YWA+ABFaG\n",
       "hkKdcZmB5YIjUIq/gcHfACRgi6SLwZoZKPX+AIM+gwNQwBVZil0BaIm/AsNFJpA23gIkKYZ9QCnG\n",
       "AqYwbrCPo2BSXUDMJgDy1imLU2CRh8kQmYU/gTpYBFDCTlc0FFkAAE78NpyYZbUWAAAAAElFTkSu\n",
       "QmCC\n",
       "\" style=\"display:inline;vertical-align:middle;\" /></a></span></td></tr>\n",
       "<tr><td>3</td><td>assumption</td><td></td><td><span style=\"font-size:20px;\"><a class=\"ProveItLink\" href=\"../12c4359c6776cc652e17867a64225eb310fd84500/expr.ipynb\"><img src=\"data:image/png;base64,iVBORw0KGgoAAAANSUhEUgAAAEMAAAAVBAMAAADvM06qAAAAMFBMVEX////c3NxERESqqqpUVFS6\n",
       "urrMzMwyMjIQEBCIiIh2dnYiIiLu7u5mZmaYmJgAAABXZE4RAAAAAXRSTlMAQObYZgAAATtJREFU\n",
       "KM9jYGDgu8eAC7CtEgBRPLsYcAO2ZhDJ+YGB4Ug3qgxPvVINA+/+zQwM10FcrgYgUYKmm+lBEgMD\n",
       "P5CxAq7kM5oSlm2cExg4kJWw/oFKnazevR2sJPyAG6oSrg1Q19UdgJqS5nD8AIoSds8pD0BsoQMw\n",
       "ixIs2RTgSngLGBjOKzB8A7EV4W5J4A14CVLyHsTLCGBgsD/A0AXyqwJCCYMPSwaQwX6BgSGljQHs\n",
       "+79AirV7926ocxMYjvBUgFjqQBdEJDAw7GVg/QdyrQOSKWwLQKZwLwDxCkDBwgvyNs8GJCUMj5lg\n",
       "bgF5+BsDB0g1gx+yEi4hZE87M1wBy5wOgEVAAMSFCCVH5oKDhYGxNgFMs9Y3AcnjKHEEA8zuEB/B\n",
       "AaYSDABWwodXCTi98OzEl+pawRTfYvxpFwBRGFL1dEH1yQAAAABJRU5ErkJggg==\n",
       "\" style=\"display:inline;vertical-align:middle;\" /></a> <a class=\"ProveItLink\" href=\"../7bfd2db5791dd68874ae592500ae39a558f139ab0/proof.ipynb\" style=\"text-decoration: none\">&#x22A2;&nbsp;</a><a class=\"ProveItLink\" href=\"../84b571b826355ca0e99ef28b2931c0a568576dec0/expr.ipynb\"><img src=\"data:image/png;base64,iVBORw0KGgoAAAANSUhEUgAAADEAAAAPBAMAAAC/wjryAAAAMFBMVEX////c3NxmZmbMzMxERESY\n",
       "mJiIiIh2dna6urqqqqoyMjIiIiIQEBBUVFTu7u4AAAAiO1wTAAAAAXRSTlMAQObYZgAAAOFJREFU\n",
       "GNNj4LuzgQEFvPri9YBB+/cEBgauC6gyDK7MDgwMH4AM/gloMrcN0hgYDgAZ/Q8gAnxZu3cvADFu\n",
       "rOM1AMtUQ5VaxUEZl2351oFl1qZdBfEZ/WCmXeZMMAHJ8H1h4DcA8lkE4DIMGqwJQBnOfww8BUD+\n",
       "EwaEDO+Dy0AZpgUM/ApAfs/u3VAXXGbgu/AKKMOtwNAfAOTbIulhMGc+APaOPsjdr5FlWCcAPQu0\n",
       "/jiIzxuAJMNQCJThncAEDh6+HTAZDwaw7Qx811QhAlLKELrrD1A93wLk8Jq7ejcyHwB5hj8sFLbi\n",
       "XAAAAABJRU5ErkJggg==\n",
       "\" style=\"display:inline;vertical-align:middle;\" /></a></span></td></tr>\n",
       "</table>"
      ],
      "text/plain": [
       "<proveit._core_.proof._ShowProof at 0x7f94ebd06e48>"
      ]
     },
     "execution_count": 1,
     "metadata": {},
     "output_type": "execute_result"
    }
   ],
   "source": [
    "import proveit\n",
    "%show_proof"
   ]
  },
  {
   "cell_type": "code",
   "execution_count": null,
   "metadata": {},
   "outputs": [],
   "source": []
  }
 ],
 "metadata": {
  "kernelspec": {
   "display_name": "Python 3",
   "language": "python",
   "name": "python3"
  }
 },
 "nbformat": 4,
 "nbformat_minor": 0
}
