{
 "cells": [
  {
   "cell_type": "markdown",
   "metadata": {},
   "source": [
    "Expression of type <a class=\"ProveItLink\" href=\"../../../../../../doc/html/api/proveit.logic.Equals.html\">Equals</a>\n",
    "=======================\n",
    "# from context <a class=\"ProveItLink\" href=\"../../_context_.ipynb\">proveit.number.addition</a>"
   ]
  },
  {
   "cell_type": "code",
   "execution_count": 1,
   "metadata": {},
   "outputs": [],
   "source": [
    "# import Expression classes needed to build the expression\n",
    "from proveit.logic import Equals\n",
    "from proveit.number import Add, one, three, zero"
   ]
  },
  {
   "cell_type": "code",
   "execution_count": 2,
   "metadata": {},
   "outputs": [
    {
     "data": {
      "text/html": [
       "<strong id=\"expr\">expr:</strong> <a class=\"ProveItLink\" href=\"expr.ipynb\"><img src=\"data:image/png;base64,iVBORw0KGgoAAAANSUhEUgAAAQ8AAAAVBAMAAACqO3ZEAAAAMFBMVEX////c3NwiIiJERESqqqqY\n",
       "mJh2dnZmZmYQEBDu7u4yMjJUVFTMzMyIiIi6uroAAAAs73DqAAAAAXRSTlMAQObYZgAAAjpJREFU\n",
       "SMfNlrFLG1Ecx7+ai8mld2c2h7YYrINTOzk4mX9AzJRRAoV2EqXQWsRBwcUOGnUw4HIIIp5LdgWd\n",
       "unRx6VZp6FgoaGkDDVh7d797mnu/97zDLD34ctw3+X7z4b13Lw/4by7nvIfwjML7ESl1IHI/+crU\n",
       "pU92LpbkL09Iz9arl2Xkzlip1SSxQOiwwF3NIWBOyiDPsSUltv9IXxmCcw247NcKdRILkOPqauxz\n",
       "mMenAmSTbnYJthtzdo9Fr1mk+1wZP4EqA7kg8QA5VV1NPmD4KkCm6NbfhHMVc2CLXiNaU9NhQ4OB\n",
       "rEViAXIauprvUIAMzsP6lQCCcEwzZXntuyQdiAiwmncqkOEarOtEkIK/JAfmJZBcjaQDEQFWs68D\n",
       "aSeBfDwKnsKltOgF11FYWyHpQAxXU7P+YBDYftZZlkYk3yLpQESA1fx9+NRgow7rUgIZbJF0ICLA\n",
       "arpA/AEeowEOFuvvmBP15jxv74PnBfvVE2CykgjSFegCUdWsQv36Ggmvr3lTDxpopN+MBNezcGrK\n",
       "pJRTc1czrgLxN7SBUsLUdIAXRWTlnTJTIelAsq6m5rUKBKNonCWAfIbTVry+gRGaKV/f25pv/sPC\n",
       "xkEl/rM7sydxtNz7ztt4g7Gw6M9AoSVvaCUSD5AjAqwmX+yumWI7NnOM2LGBb/ErkRICzM3W5LME\n",
       "P13cc36ZZYEqpL9CdYC7h72cqkz9MSB1QLiPewF5VGRWX5OUOiDcvl6Oil8U3tNIqQOh+w8kMwVB\n",
       "eRti8gAAAABJRU5ErkJggg==\n",
       "\" style=\"display:inline;vertical-align:middle;\" /></a><br>"
      ],
      "text/plain": [
       "expr: (1 + 0 + 1 + 3) = ((1 + 1) + 3)"
      ]
     },
     "execution_count": 2,
     "metadata": {},
     "output_type": "execute_result"
    }
   ],
   "source": [
    "# build up the expression from sub-expressions\n",
    "expr = Equals(Add(one, zero, one, three), Add(Add(one, one), three))"
   ]
  },
  {
   "cell_type": "code",
   "execution_count": 3,
   "metadata": {},
   "outputs": [
    {
     "name": "stdout",
     "output_type": "stream",
     "text": [
      "Passed sanity check: built 'expr' is the same as the stored Expression.\n"
     ]
    }
   ],
   "source": [
    "# check that the built expression is the same as the stored expression\n",
    "%check_expr"
   ]
  },
  {
   "cell_type": "code",
   "execution_count": 4,
   "metadata": {},
   "outputs": [
    {
     "data": {
      "text/html": [
       "<table><tr><th>&nbsp;</th><th>core type</th><th>sub-expressions</th><th>expression</th></tr>\n",
       "<tr><td>0</td><td>Operation</td><td>operator:&nbsp;1<br>operands:&nbsp;2<br></td><td><a class=\"ProveItLink\" href=\"expr.ipynb\"><img src=\"data:image/png;base64,iVBORw0KGgoAAAANSUhEUgAAAQ8AAAAVBAMAAACqO3ZEAAAAMFBMVEX////c3NwiIiJERESqqqqY\n",
       "mJh2dnZmZmYQEBDu7u4yMjJUVFTMzMyIiIi6uroAAAAs73DqAAAAAXRSTlMAQObYZgAAAjpJREFU\n",
       "SMfNlrFLG1Ecx7+ai8mld2c2h7YYrINTOzk4mX9AzJRRAoV2EqXQWsRBwcUOGnUw4HIIIp5LdgWd\n",
       "unRx6VZp6FgoaGkDDVh7d797mnu/97zDLD34ctw3+X7z4b13Lw/4by7nvIfwjML7ESl1IHI/+crU\n",
       "pU92LpbkL09Iz9arl2Xkzlip1SSxQOiwwF3NIWBOyiDPsSUltv9IXxmCcw247NcKdRILkOPqauxz\n",
       "mMenAmSTbnYJthtzdo9Fr1mk+1wZP4EqA7kg8QA5VV1NPmD4KkCm6NbfhHMVc2CLXiNaU9NhQ4OB\n",
       "rEViAXIauprvUIAMzsP6lQCCcEwzZXntuyQdiAiwmncqkOEarOtEkIK/JAfmJZBcjaQDEQFWs68D\n",
       "aSeBfDwKnsKltOgF11FYWyHpQAxXU7P+YBDYftZZlkYk3yLpQESA1fx9+NRgow7rUgIZbJF0ICLA\n",
       "arpA/AEeowEOFuvvmBP15jxv74PnBfvVE2CykgjSFegCUdWsQv36Ggmvr3lTDxpopN+MBNezcGrK\n",
       "pJRTc1czrgLxN7SBUsLUdIAXRWTlnTJTIelAsq6m5rUKBKNonCWAfIbTVry+gRGaKV/f25pv/sPC\n",
       "xkEl/rM7sydxtNz7ztt4g7Gw6M9AoSVvaCUSD5AjAqwmX+yumWI7NnOM2LGBb/ErkRICzM3W5LME\n",
       "P13cc36ZZYEqpL9CdYC7h72cqkz9MSB1QLiPewF5VGRWX5OUOiDcvl6Oil8U3tNIqQOh+w8kMwVB\n",
       "eRti8gAAAABJRU5ErkJggg==\n",
       "\" style=\"display:inline;vertical-align:middle;\" /></a></td></tr>\n",
       "<tr><td>1</td><td>Literal</td><td></td><td><a class=\"ProveItLink\" href=\"../../../../logic/equality/__pv_it/2fb26078095930560931daa0500ce419a39ea6cd0/expr.ipynb\"><img src=\"data:image/png;base64,iVBORw0KGgoAAAANSUhEUgAAAA4AAAAFBAMAAACHocAhAAAAFVBMVEX///9EREQiIiJUVFQyMjJm\n",
       "ZmYAAADubVkoAAAAAXRSTlMAQObYZgAAABRJREFUCNdjCHEBAWcGXCBICQQUAUpuAwlgGKrkAAAA\n",
       "AElFTkSuQmCC\n",
       "\" style=\"display:inline;vertical-align:middle;\" /></a></td></tr>\n",
       "<tr><td>2</td><td>ExprTuple</td><td>3, 4</td><td><a class=\"ProveItLink\" href=\"../39491ee845aad95b17ee7282c80ad00a31b3c0610/expr.ipynb\"><img src=\"data:image/png;base64,iVBORw0KGgoAAAANSUhEUgAAAO0AAAAVBAMAAABYonTIAAAAMFBMVEX////c3NwiIiJERESqqqqY\n",
       "mJh2dnZmZmYQEBDu7u4yMjJUVFTMzMyIiIi6uroAAAAs73DqAAAAAXRSTlMAQObYZgAAAjJJREFU\n",
       "SMfFlj9I41AYwL/atE16SdrN4TzscMNNupyDk9mcxE6OUjiocCDXxavIDSe4eIOtOlhwMIgiTZfs\n",
       "FezUxaWL4GCxOB6If1BBwT8v7yWYfMlrxB5coH3p7335fsnLe+8rwP861FbvOc55HdN8ekg+0TLq\n",
       "2Wj/wsG+mGb+q30mm+Rr1JeekEQDMTn/TWO0CiCN4ZxDsIau8MVECnBhD1WSdK3fYy0lOoL9oD5S\n",
       "qrRAqh84OVdZo2RA0T3EHxO/gVSGnbYBNuuOV0qzlpEpRH9ocE2paKU7dXJOsKbPBPXKQ/wxwqt3\n",
       "2bpVxys484WSCqKT1Evo36CcqQLINyFectjjrOp8b1RDlI4zoT+Dcg7mQH4M99ZYk8jxvfEC9iZN\n",
       "Snd53rswr/zdtDNl+V5BR7RZY3Tl3V6A4w5txA7fq/7Gz6usUPrUwziLzJXq4pUvsRdKZYu6vAuG\n",
       "8cUwava8uvUQf0ykAdFb7E0YxvYfwzC9XhcdABjLWnQJgteRELaOtu4dr6i9eZyl57LlJXQkKCfZ\n",
       "N+KZEG9Kh74rsGC0y7yKoXn1ADCctuhM4Lv7DJVGiFfJwkVOunbWyhvX0RGod5SekR/F0l7Wa9mY\n",
       "3Ud34o8ZL+6AVCL7n0qGJjH/MOc1MJLseKlQXNAoFdPubXvCV1RCiGpdvugmgqeuVng0luteSENI\n",
       "DFybf0A9n+XSak8VP+bUweBD0rn0Y09e+hgRk9f9Ic2lkX/wP+cTr+OER18Ah1js9DKfgfEAAAAA\n",
       "SUVORK5CYII=\n",
       "\" style=\"display:inline;vertical-align:middle;\" /></a></td></tr>\n",
       "<tr><td>3</td><td>Operation</td><td>operator:&nbsp;10<br>operands:&nbsp;5<br></td><td><a class=\"ProveItLink\" href=\"../45abd3f584a7e45a239184d4468461f8cab3204f0/expr.ipynb\"><img src=\"data:image/png;base64,iVBORw0KGgoAAAANSUhEUgAAAHQAAAAQBAMAAAA10UZYAAAAMFBMVEX///92dnbMzMy6uroiIiKq\n",
       "qqrc3NyYmJgyMjIQEBBmZmaIiIhUVFTu7u5EREQAAADaqMZ6AAAAAXRSTlMAQObYZgAAAP1JREFU\n",
       "KM9jYGB4y4AKeFfvUkAT4ruAJqAo+BRI3vuLJsxiwOuEZth7NK1sCxjsNzDcOQPTypsAobcwMOxA\n",
       "EeE9cx6m9RqEYvzKwO/AwMAN08q6AUL7MDDYJ6CIMOyHaY2GKsWh9RcDg34Afq1AAHQwhla2j0Ct\n",
       "Gwhq7WHAoVWAgFYmiQPkamVg2GlAtoM5/8K0cnV0tMzo6DgADaYCFBGo1hUdHZ4dHSBPsikw8H3H\n",
       "HjnxBCLn/l/sWoFJQoQBv1b+BgaWb1i0sgTwTiKglbuAwV6AgWvlj+WoCnkX7lFAFVk1v6sANZii\n",
       "VrUip2m4HXhEohmwAuYNhEWskdgAStxuyFkhgtwAAAAASUVORK5CYII=\n",
       "\" style=\"display:inline;vertical-align:middle;\" /></a></td></tr>\n",
       "<tr><td>4</td><td>Operation</td><td>operator:&nbsp;10<br>operands:&nbsp;6<br></td><td><a class=\"ProveItLink\" href=\"../40676108ab9a654f5191b107c53a7c87a10f08eb0/expr.ipynb\"><img src=\"data:image/png;base64,iVBORw0KGgoAAAANSUhEUgAAAF8AAAAVBAMAAADSoS/MAAAAMFBMVEX////c3NwiIiJERESqqqqY\n",
       "mJh2dnZmZmYQEBDu7u4yMjJUVFTMzMyIiIi6uroAAAAs73DqAAAAAXRSTlMAQObYZgAAAQdJREFU\n",
       "OMtjYCAZ8F3AIcH6ALv4aSBmnoAuChKpQRPjSUt2AFIrGRg47dE1gEW40ATFGfj+MjDwXmDg3L0f\n",
       "pmEiVD1YhDUBVTTfgeETAwMHSO19mAZfmGkgEc4GVFF/sIZXDDg1MJigi4KcVIZHQzq6KNcGBoal\n",
       "eDR4oYkeWw0k+vBoeIEuygtU/Q+PhvPoogz9E5A1VK1apbFq1Wo0DQhRGQYG+wCGFqKdxPl/AkiD\n",
       "KR4NUaiivxgY9AUgQUdcsF5l4PvGwPAIyCrvXx6AqgEisg5VA0t5FTDxcQggpy9flBTYgE0UnsLA\n",
       "4C0yh+0CNlFQ8sYBZmEXlsapYSN2YUZcWZT3ADZRAMUFYoWVJavvAAAAAElFTkSuQmCC\n",
       "\" style=\"display:inline;vertical-align:middle;\" /></a></td></tr>\n",
       "<tr><td>5</td><td>ExprTuple</td><td>12, 7, 12, 9</td><td><a class=\"ProveItLink\" href=\"../14d0974da24fde13b45b4c4518911eb968c510f20/expr.ipynb\"><img src=\"data:image/png;base64,iVBORw0KGgoAAAANSUhEUgAAAFEAAAAVBAMAAADMaB9/AAAAMFBMVEX////c3NwiIiJERESqqqqY\n",
       "mJh2dnZmZmYQEBDu7u4yMjJUVFTMzMyIiIi6uroAAAAs73DqAAAAAXRSTlMAQObYZgAAAVxJREFU\n",
       "KM+Nk79Lw0AUx7/apO1pErM5KJjBWScHp+Y/sJOjFASdil20Ig4OziboYMDBLCLi0r2CmVxcurgp\n",
       "/hidtGjBQtV7l0vapkMSyOVzL5/w7t69ANkvo5VBWqPhnt85V0ZOn/ajl8vyqW2s2ygEnK4AVorM\n",
       "BRwHIZ38yNA0jB7gA3oLrHkrTd2C7gs6a0bmlo02sAoUSXqW5ngDxqf8KDJXhOkB7xgwp2rQvhIm\n",
       "RPacjZ1Bc64CrTdiTjSAfA0XSbOTNO+u+aD4OEo1oXPHOMBvenY4LrSPYZN29J0wZ4FSmcxDDFdJ\n",
       "SVSJ/blk8uxLkemGlc9bgoTJCLrAognVx6Y0WZtgHl4QEpnnFocHGB1RpTc+qTuXZeaY1CHVGwgq\n",
       "7Ha34dFKlPqezWv6gqIZnYSJEXqNt89PU61IVuNon8oxVcOuSzcZddiMnPRbPyY9Dk3Sgsay/B2P\n",
       "wD9FxmwhlXYVGgAAAABJRU5ErkJggg==\n",
       "\" style=\"display:inline;vertical-align:middle;\" /></a></td></tr>\n",
       "<tr><td>6</td><td>ExprTuple</td><td>8, 9</td><td><a class=\"ProveItLink\" href=\"../0082af803057536c94be963f43014ffe83b90fbb0/expr.ipynb\"><img src=\"data:image/png;base64,iVBORw0KGgoAAAANSUhEUgAAAE0AAAAVBAMAAADx+n4ZAAAAMFBMVEX////c3NwiIiJERESqqqqY\n",
       "mJh2dnZmZmYQEBDu7u4yMjJUVFTMzMyIiIi6uroAAAAs73DqAAAAAXRSTlMAQObYZgAAARRJREFU\n",
       "KM9jYCAW8F0gqCQORJwGYuYJ6FIwEZ60ZAcG9gNA1koGBk57dHVwEXEGvr8MDAsYGHgvMHDu3g9T\n",
       "NxGqDC6S78DwiYEhjIGBAyRwH6bOF2YgTMQfrG4GA8MrBrzqGMD2MjswlBFSx7WBgYGtgGEpAXXH\n",
       "VgMJlgUMfYTM4wWq4Gtg+EdIHUP/BAaeD8jqqlat0li1ajWKOhkGBvsAkLoWvOZx/p8AUge01xS3\n",
       "OpDgLwYGfQEG1gUM6TjVcQIDmOEqA983cLg8AnLK+5cHoKoDiXD2CwBDpLzKARiGDxg4BJDj3xcl\n",
       "xcGlgPHGmoAs9RaZwwpn5ULSFQ4AV8cJTFcM0jjVwRM6N8gBjITT/R0GBgA9h10qg7pY4gAAAABJ\n",
       "RU5ErkJggg==\n",
       "\" style=\"display:inline;vertical-align:middle;\" /></a></td></tr>\n",
       "<tr><td>7</td><td>Literal</td><td></td><td><a class=\"ProveItLink\" href=\"../../../numeral/__pv_it/ec23fc7a1b4222a5f4948b495002b97d6fa18c3c0/expr.ipynb\"><img src=\"data:image/png;base64,iVBORw0KGgoAAAANSUhEUgAAAAoAAAAOBAMAAADkjZCYAAAALVBMVEX///8QEBCYmJh2dnaqqqrc\n",
       "3NxUVFQyMjK6uroiIiLMzMyIiIhmZmbu7u4AAAAZjyHdAAAAAXRSTlMAQObYZgAAAEpJREFUCNdj\n",
       "YLiz+xQDA8MMhpsLGLgnMHAXMHAmMHA8ZeA7wMD1hCHOgIHrNZh8jES+Bss+AqlkeQrSxTyBgWEK\n",
       "w8UFDAx3rLMYAMCjFldHSx/9AAAAAElFTkSuQmCC\n",
       "\" style=\"display:inline;vertical-align:middle;\" /></a></td></tr>\n",
       "<tr><td>8</td><td>Operation</td><td>operator:&nbsp;10<br>operands:&nbsp;11<br></td><td><a class=\"ProveItLink\" href=\"../2d86c629ba17e16ade8deb174f23e70e439554b90/expr.ipynb\"><img src=\"data:image/png;base64,iVBORw0KGgoAAAANSUhEUgAAACsAAAAQBAMAAAB9zpudAAAAKlBMVEX///+6uroiIiKqqqrc3NyY\n",
       "mJgyMjIQEBBmZmaIiIhUVFTu7u5EREQAAACV7Se0AAAAAXRSTlMAQObYZgAAAE9JREFUGNNjYGA4\n",
       "zYAGeDYAiT230US5zwKFd62CCXM7QKhVa0GqOWHCzBOgjLkDKsyRlpZUlpa2gKpmc7Rfa0UV7qjN\n",
       "CEAKIrhqVMCIJAwACQQszoJput4AAAAASUVORK5CYII=\n",
       "\" style=\"display:inline;vertical-align:middle;\" /></a></td></tr>\n",
       "<tr><td>9</td><td>Literal</td><td></td><td><a class=\"ProveItLink\" href=\"../../../numeral/__pv_it/9176d93c83afa2c995b614976e3cb49207102fa70/expr.ipynb\"><img src=\"data:image/png;base64,iVBORw0KGgoAAAANSUhEUgAAAAoAAAAOBAMAAADkjZCYAAAAMFBMVEX///+YmJju7u4QEBBUVFQy\n",
       "MjIiIiKIiIi6urpmZmbc3NyqqqpERER2dnbMzMwAAAB0GlNiAAAAAXRSTlMAQObYZgAAAE1JREFU\n",
       "CNdjYHh79zQDA9cEhv4CBt7fDPwJDNxgEgiAIkAQAsR8Vx1ATIbiBhDJ/ImB6wEDz0cG/U8gkj+A\n",
       "ge0XA7sAQ/8FBoadM6MZAEflFACalZ/OAAAAAElFTkSuQmCC\n",
       "\" style=\"display:inline;vertical-align:middle;\" /></a></td></tr>\n",
       "<tr><td>10</td><td>Literal</td><td></td><td><a class=\"ProveItLink\" href=\"../3e6688136fa3c7aefbebe51301b7c3ebf0b69c440/expr.ipynb\"><img src=\"data:image/png;base64,iVBORw0KGgoAAAANSUhEUgAAAA4AAAAOBAMAAADtZjDiAAAAJFBMVEX///+6urpUVFQQEBAiIiIy\n",
       "MjJmZmaIiIiqqqrc3Nzu7u4AAACgHpL+AAAAAXRSTlMAQObYZgAAAB5JREFUCNdjYGBgWMkAAe2k\n",
       "0Kmhoc6hoUGk6BMHYgAHOwjcado9fwAAAABJRU5ErkJggg==\n",
       "\" style=\"display:inline;vertical-align:middle;\" /></a></td></tr>\n",
       "<tr><td>11</td><td>ExprTuple</td><td>12, 12</td><td><a class=\"ProveItLink\" href=\"../71c9c782a9b8c913a0129f505682fe99210fc82a0/expr.ipynb\"><img src=\"data:image/png;base64,iVBORw0KGgoAAAANSUhEUgAAACkAAAAVBAMAAAAp9toTAAAAMFBMVEX////c3NwiIiJERESqqqqY\n",
       "mJh2dnZmZmYQEBDu7u4yMjJUVFTMzMyIiIi6uroAAAAs73DqAAAAAXRSTlMAQObYZgAAALpJREFU\n",
       "GNNjYMAO+C6gCcSBiNNAzDwBJmTJwMB+AEivZGDgtIeJTv4JJBYwMPBeYODcvR8qOns3SDSMgYED\n",
       "JHAfppYXJDqDgeEVA4YoswNDGaYoWwHDUkxRlgUMfZiifA0M/zBFeT7gEG3BaoIpTHQCXJR1AUM6\n",
       "VJTzE7LLHgGp8v7lAZz9AsCAqfhVysDA9YCBQwAWojAGyMesCVA2KzyAcyEhiSrKCQxJBmkoBx4l\n",
       "3CCjGNFj6A4DAwBkHj9zZVlc6AAAAABJRU5ErkJggg==\n",
       "\" style=\"display:inline;vertical-align:middle;\" /></a></td></tr>\n",
       "<tr><td>12</td><td>Literal</td><td></td><td><a class=\"ProveItLink\" href=\"../../../numeral/__pv_it/9be8badea4c35b9724062cecc501d17a3158d1d20/expr.ipynb\"><img src=\"data:image/png;base64,iVBORw0KGgoAAAANSUhEUgAAAAgAAAAPBAMAAAArJJMAAAAAHlBMVEX///+YmJgyMjIQEBBmZmaI\n",
       "iIhUVFTu7u5EREQAAAAw+MI4AAAAAXRSTlMAQObYZgAAACFJREFUCNdjYGBoZ2BgqJjOwFCWBiQY\n",
       "WEklWJwnOTKAAACjEQo8HvEr3AAAAABJRU5ErkJggg==\n",
       "\" style=\"display:inline;vertical-align:middle;\" /></a></td></tr>\n",
       "</table>\n"
      ],
      "text/plain": [
       "0. (1 + 0 + 1 + 3) = ((1 + 1) + 3)\n",
       "   core type: Operation\n",
       "   operator: 1\n",
       "   operands: 2\n",
       "1. =\n",
       "   core type: Literal\n",
       "   sub-expressions: \n",
       "2. (1 + 0 + 1 + 3 , (1 + 1) + 3)\n",
       "   core type: ExprTuple\n",
       "   sub-expressions: 3, 4\n",
       "3. 1 + 0 + 1 + 3\n",
       "   core type: Operation\n",
       "   operator: 10\n",
       "   operands: 5\n",
       "4. (1 + 1) + 3\n",
       "   core type: Operation\n",
       "   operator: 10\n",
       "   operands: 6\n",
       "5. (1 , 0 , 1 , 3)\n",
       "   core type: ExprTuple\n",
       "   sub-expressions: 12, 7, 12, 9\n",
       "6. (1 + 1 , 3)\n",
       "   core type: ExprTuple\n",
       "   sub-expressions: 8, 9\n",
       "7. 0\n",
       "   core type: Literal\n",
       "   sub-expressions: \n",
       "8. 1 + 1\n",
       "   core type: Operation\n",
       "   operator: 10\n",
       "   operands: 11\n",
       "9. 3\n",
       "   core type: Literal\n",
       "   sub-expressions: \n",
       "10. +\n",
       "    core type: Literal\n",
       "    sub-expressions: \n",
       "11. (1 , 1)\n",
       "    core type: ExprTuple\n",
       "    sub-expressions: 12, 12\n",
       "12. 1\n",
       "    core type: Literal\n",
       "    sub-expressions: "
      ]
     },
     "execution_count": 4,
     "metadata": {},
     "output_type": "execute_result"
    }
   ],
   "source": [
    "# display the expression information\n",
    "expr.exprInfo()"
   ]
  },
  {
   "cell_type": "code",
   "execution_count": null,
   "metadata": {},
   "outputs": [],
   "source": []
  }
 ],
 "metadata": {
  "kernelspec": {
   "display_name": "Python 3",
   "language": "python",
   "name": "python3"
  }
 },
 "nbformat": 4,
 "nbformat_minor": 0
}
