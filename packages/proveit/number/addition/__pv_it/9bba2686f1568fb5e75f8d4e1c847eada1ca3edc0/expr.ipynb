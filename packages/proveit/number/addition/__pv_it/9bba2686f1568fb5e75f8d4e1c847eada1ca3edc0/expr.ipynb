{
 "cells": [
  {
   "cell_type": "markdown",
   "metadata": {},
   "source": [
    "Expression of type <a class=\"ProveItLink\" href=\"../../../../../../doc/html/api/proveit.logic.Equals.html\">Equals</a>\n",
    "=======================\n",
    "# from context <a class=\"ProveItLink\" href=\"../../_context_.ipynb\">proveit.number.addition</a>"
   ]
  },
  {
   "cell_type": "code",
   "execution_count": 1,
   "metadata": {},
   "outputs": [],
   "source": [
    "# import Expression classes needed to build the expression\n",
    "from proveit._common_ import a\n",
    "from proveit.logic import Equals\n",
    "from proveit.number import Add, Mult, three"
   ]
  },
  {
   "cell_type": "code",
   "execution_count": 2,
   "metadata": {},
   "outputs": [
    {
     "data": {
      "text/html": [
       "<strong id=\"expr\">expr:</strong> <a class=\"ProveItLink\" href=\"expr.ipynb\"><img src=\"data:image/png;base64,iVBORw0KGgoAAAANSUhEUgAAALAAAAAVBAMAAAAUSHkwAAAAMFBMVEX////c3NwiIiJERESqqqqY\n",
       "mJh2dnZmZmYQEBDu7u4yMjJUVFTMzMyIiIi6uroAAAAs73DqAAAAAXRSTlMAQObYZgAAAhlJREFU\n",
       "OMu1lT1IHEEYhl9zez/j3a3XWZiQEAvThFgkpXhYiqKVRYpwIJgqURQSkBQeSRMLvXRJGkWwcAU5\n",
       "WyF4IKRJkWuSKoqkkqBw5K8Q/76ZnXXnj5AlZGBn956Zfe+bd75vFvhvzW/+/dwHDnbkYOl96j4k\n",
       "CCLbsFChjsLEeNmgz+haS7K8ZYu019AJ/9SkQFFz4pX1Iiupv8as8V1gsozvphcV5GoqGLZe9LQ/\n",
       "fm2NvwRGbGE2h29IIpwyzfSFOZYVuIsn1Le9e1zVhWMSCYckM2VuZ0VYWo9J1+cDcu8hVun5oJRq\n",
       "6cIxiYRD4okAZwPe1oXkKHXv15UlVNFPt0EsUDC/kO3VhBUihSXx54yIczxjUVzg/RveXR/FDI8D\n",
       "Z0C+hStNTVghUliSQssQ7hDCWKQUYGIHt4HbdPvIhTt6sdQIV3grXGFEskGwMh8E9UviFL4K9JMj\n",
       "7DkHP8BOhPALir6JEdTUiBUiI5YktGL6Jm/dwooy2HlNCIeWncJrMW7FPWCpjC2voQorRApLkjZL\n",
       "L0WKx8CdqIzYT+SXh4D7lBe0s15PRvNYIVJYEivdOPgE//clWMXAVIWn21eeons7e3pWxCTKipC0\n",
       "75sFcoOmPJ2N66Zr97CPJm0gV/q3kq46Dysq6XTlz4erflw/ssbHnMKZZrJjkzmPTUd7y01JIJwv\n",
       "Wait7pq4yUcSfJq+ONg1Bys2cAE7zJ9M+AmlHgAAAABJRU5ErkJggg==\n",
       "\" style=\"display:inline;vertical-align:middle;\" /></a><br>"
      ],
      "text/plain": [
       "expr: (a + a + a) = (3 * a)"
      ]
     },
     "execution_count": 2,
     "metadata": {},
     "output_type": "execute_result"
    }
   ],
   "source": [
    "# build up the expression from sub-expressions\n",
    "expr = Equals(Add(a, a, a), Mult(three, a))"
   ]
  },
  {
   "cell_type": "code",
   "execution_count": 3,
   "metadata": {},
   "outputs": [
    {
     "name": "stdout",
     "output_type": "stream",
     "text": [
      "Passed sanity check: built 'expr' is the same as the stored Expression.\n"
     ]
    }
   ],
   "source": [
    "# check that the built expression is the same as the stored expression\n",
    "%check_expr"
   ]
  },
  {
   "cell_type": "code",
   "execution_count": 4,
   "metadata": {},
   "outputs": [
    {
     "data": {
      "text/html": [
       "<table><tr><th>&nbsp;</th><th>core type</th><th>sub-expressions</th><th>expression</th></tr>\n",
       "<tr><td>0</td><td>Operation</td><td>operator:&nbsp;1<br>operands:&nbsp;2<br></td><td><a class=\"ProveItLink\" href=\"expr.ipynb\"><img src=\"data:image/png;base64,iVBORw0KGgoAAAANSUhEUgAAALAAAAAVBAMAAAAUSHkwAAAAMFBMVEX////c3NwiIiJERESqqqqY\n",
       "mJh2dnZmZmYQEBDu7u4yMjJUVFTMzMyIiIi6uroAAAAs73DqAAAAAXRSTlMAQObYZgAAAhlJREFU\n",
       "OMu1lT1IHEEYhl9zez/j3a3XWZiQEAvThFgkpXhYiqKVRYpwIJgqURQSkBQeSRMLvXRJGkWwcAU5\n",
       "WyF4IKRJkWuSKoqkkqBw5K8Q/76ZnXXnj5AlZGBn956Zfe+bd75vFvhvzW/+/dwHDnbkYOl96j4k\n",
       "CCLbsFChjsLEeNmgz+haS7K8ZYu019AJ/9SkQFFz4pX1Iiupv8as8V1gsozvphcV5GoqGLZe9LQ/\n",
       "fm2NvwRGbGE2h29IIpwyzfSFOZYVuIsn1Le9e1zVhWMSCYckM2VuZ0VYWo9J1+cDcu8hVun5oJRq\n",
       "6cIxiYRD4okAZwPe1oXkKHXv15UlVNFPt0EsUDC/kO3VhBUihSXx54yIczxjUVzg/RveXR/FDI8D\n",
       "Z0C+hStNTVghUliSQssQ7hDCWKQUYGIHt4HbdPvIhTt6sdQIV3grXGFEskGwMh8E9UviFL4K9JMj\n",
       "7DkHP8BOhPALir6JEdTUiBUiI5YktGL6Jm/dwooy2HlNCIeWncJrMW7FPWCpjC2voQorRApLkjZL\n",
       "L0WKx8CdqIzYT+SXh4D7lBe0s15PRvNYIVJYEivdOPgE//clWMXAVIWn21eeons7e3pWxCTKipC0\n",
       "75sFcoOmPJ2N66Zr97CPJm0gV/q3kq46Dysq6XTlz4erflw/ssbHnMKZZrJjkzmPTUd7y01JIJwv\n",
       "Wait7pq4yUcSfJq+ONg1Bys2cAE7zJ9M+AmlHgAAAABJRU5ErkJggg==\n",
       "\" style=\"display:inline;vertical-align:middle;\" /></a></td></tr>\n",
       "<tr><td>1</td><td>Literal</td><td></td><td><a class=\"ProveItLink\" href=\"../../../../logic/equality/__pv_it/2fb26078095930560931daa0500ce419a39ea6cd0/expr.ipynb\"><img src=\"data:image/png;base64,iVBORw0KGgoAAAANSUhEUgAAAA4AAAAFBAMAAACHocAhAAAAFVBMVEX///9EREQiIiJUVFQyMjJm\n",
       "ZmYAAADubVkoAAAAAXRSTlMAQObYZgAAABRJREFUCNdjCHEBAWcGXCBICQQUAUpuAwlgGKrkAAAA\n",
       "AElFTkSuQmCC\n",
       "\" style=\"display:inline;vertical-align:middle;\" /></a></td></tr>\n",
       "<tr><td>2</td><td>ExprTuple</td><td>3, 4</td><td><a class=\"ProveItLink\" href=\"../88f3ada8fb30051bc8ac104fc2fc7cb64497b4560/expr.ipynb\"><img src=\"data:image/png;base64,iVBORw0KGgoAAAANSUhEUgAAAI0AAAAVBAMAAACJRXC4AAAAMFBMVEX////c3NwiIiJERESqqqqY\n",
       "mJh2dnZmZmYQEBDu7u4yMjJUVFTMzMyIiIi6uroAAAAs73DqAAAAAXRSTlMAQObYZgAAAZxJREFU\n",
       "OMutVDtIw1AUPbXp5/UTszlUcHQSuzhKg7PQTo5SEHRSC4KCk0Unh7ajTg2Cg3HpLIgFwcWli05a\n",
       "ilMRh1A/g1j1Jm2avL4ghJrhhRzOObm/d4H/euTGyBbL5nHrV5VYXVF5JFKn48yvzwTk7hCkAUku\n",
       "LaYMq0RkU0VnCFoCohU3IAnFEpGs6HMEPMOvD8S8giq26RW43CjyKhFB6r5tpxirDRx6xHABp/TR\n",
       "VoIGrxIRuYhMX3tz7kTSI0oaSuT5jkiaU4kIpnLYssXJknkeO0R5D99A3MBYg1OJCK6AmUEUZWoO\n",
       "6zjEhGH6jKdRNScpousnh7pe80LwCvbVM5kEMjny2ceASD4HFHIDWVTcfxeRQBeSwayB+qlYPm4i\n",
       "5TUHVFVcSHW3SkTYG+LaouX9CczanesTQxrWqI05aTrMVUNEqK8LhbxVkzvIH3ah+kTq+5M5A83r\n",
       "Jt8vAUHq8WW+xcoUiLSzqzrjYxFjLUQVP/MsK55Xl+5FKP/3MuKRkPcKWPe7N7x9mGYm7sfHe3fG\n",
       "zWwDo+/VB+AXJ6+Lr33ex8YAAAAASUVORK5CYII=\n",
       "\" style=\"display:inline;vertical-align:middle;\" /></a></td></tr>\n",
       "<tr><td>3</td><td>Operation</td><td>operator:&nbsp;5<br>operands:&nbsp;6<br></td><td><a class=\"ProveItLink\" href=\"../8b02a79cc69ba0e06d7974414b19accbdafb48490/expr.ipynb\"><img src=\"data:image/png;base64,iVBORw0KGgoAAAANSUhEUgAAAFQAAAAOBAMAAABDUCZjAAAAMFBMVEX///8yMjKqqqrMzMzu7u4i\n",
       "IiJmZmaYmJhEREQQEBC6urp2dnaIiIhUVFTc3NwAAAD87Fq/AAAAAXRSTlMAQObYZgAAANBJREFU\n",
       "KM9jYEAAPwZ0wPKAATvQwRBhOkCuUr47u+ahKkWIwJW+Pb0S6JaVDzg+oCpFiMCUcs1j6Aca8Z2B\n",
       "rQFFKZIITOn7AoYMBgbeDwysB1CUIonAlN5nYIhhYOBvYPA3APISBQUjBQVlGRAibIKCohMFBS8A\n",
       "mT8YWD4DzT7AoM/ggGwqkgjUVL4/DEwfWBj8FRguMhkgK0USgSpl+cTAK6DMwFjAFMaN4lYkEZhb\n",
       "xRlUEzYAA/GUxSnUEECIwJS+PbO4ZwGZEbsGQ4QLWSkAC35BoQnyJ2sAAAAASUVORK5CYII=\n",
       "\" style=\"display:inline;vertical-align:middle;\" /></a></td></tr>\n",
       "<tr><td>4</td><td>Operation</td><td>operator:&nbsp;7<br>operands:&nbsp;8<br></td><td><a class=\"ProveItLink\" href=\"../7aee2b6e503c8f908ef2cdd0071f19aa9707ce430/expr.ipynb\"><img src=\"data:image/png;base64,iVBORw0KGgoAAAANSUhEUgAAACQAAAAOBAMAAAC1GaP7AAAAMFBMVEX///+YmJju7u4QEBBUVFQy\n",
       "MjIiIiKIiIi6urpmZmbc3NyqqqpERER2dnbMzMwAAAB0GlNiAAAAAXRSTlMAQObYZgAAAJVJREFU\n",
       "GNNjYHh79zQDKuCawNBfgCrE+5uBPwFViBtTCAjQNQJBCIK5pLZ5AQMD31UHuAiHFcN5MKO4AUgw\n",
       "KQCJ9QIMc8BCzJ+AhD7IDn8GhnSgux4w8HwE8pQPAIk/DEz/gLKfIEJgZ39n4P7AxMAfwMD2CyrE\n",
       "9JuBJWAfA7sAQ/8FmI2BDNsmADk7Z0YjnFXed7wBAA1QJloXxtArAAAAAElFTkSuQmCC\n",
       "\" style=\"display:inline;vertical-align:middle;\" /></a></td></tr>\n",
       "<tr><td>5</td><td>Literal</td><td></td><td><a class=\"ProveItLink\" href=\"../3e6688136fa3c7aefbebe51301b7c3ebf0b69c440/expr.ipynb\"><img src=\"data:image/png;base64,iVBORw0KGgoAAAANSUhEUgAAAA4AAAAOBAMAAADtZjDiAAAAJFBMVEX///+6urpUVFQQEBAiIiIy\n",
       "MjJmZmaIiIiqqqrc3Nzu7u4AAACgHpL+AAAAAXRSTlMAQObYZgAAAB5JREFUCNdjYGBgWMkAAe2k\n",
       "0Kmhoc6hoUGk6BMHYgAHOwjcado9fwAAAABJRU5ErkJggg==\n",
       "\" style=\"display:inline;vertical-align:middle;\" /></a></td></tr>\n",
       "<tr><td>6</td><td>ExprTuple</td><td>10, 10, 10</td><td><a class=\"ProveItLink\" href=\"../edfb82f8668947a0fcc19434b7739192318390e30/expr.ipynb\"><img src=\"data:image/png;base64,iVBORw0KGgoAAAANSUhEUgAAAD8AAAAVBAMAAAADRiu8AAAAMFBMVEX////c3NwiIiJERESqqqqY\n",
       "mJh2dnZmZmYQEBDu7u4yMjJUVFTMzMyIiIi6uroAAAAs73DqAAAAAXRSTlMAQObYZgAAAOVJREFU\n",
       "KM+FkrsOAUEUhj+s+7VX0Gk1em9ApRSdiqjUJGpR6nYbhVeQSDZRavYBRFCJahVaMWPdssOY4sx3\n",
       "zvwzk//MwN+RcX6vNWVYazZHbRHmuuMtSDs6QQNiE51gCietg1CVvpgCy+7QK/gp0mMmkmMu5Hpl\n",
       "PxkWYyG+EC172/yUGXCFpEvQ86JQypWCbBnTvpcVEoIRFBxq3N0qJK6ogFllYdhxVCJs0YZE3ShF\n",
       "MIsqSZsHaXm72jI9q0RiRyz37NoelUSrw61nUkelzudzfxHExXOTfyTp1/qbkvL+gOZDbOAGRR1Q\n",
       "YNKXtD8AAAAASUVORK5CYII=\n",
       "\" style=\"display:inline;vertical-align:middle;\" /></a></td></tr>\n",
       "<tr><td>7</td><td>Literal</td><td></td><td><a class=\"ProveItLink\" href=\"../../../multiplication/__pv_it/21fd2079611555ecce512d99547a00d551e6b86b0/expr.ipynb\"><img src=\"data:image/png;base64,iVBORw0KGgoAAAANSUhEUgAAAAMAAAADBAMAAACkBqiMAAAAElBMVEX///9EREQQEBAiIiLu7u4A\n",
       "AABGBidwAAAAAXRSTlMAQObYZgAAABFJREFUCNdjYHFgcDVgcBIAAASWAQx4jI0xAAAAAElFTkSu\n",
       "QmCC\n",
       "\" style=\"display:inline;vertical-align:middle;\" /></a></td></tr>\n",
       "<tr><td>8</td><td>ExprTuple</td><td>9, 10</td><td><a class=\"ProveItLink\" href=\"../0a7bc1f02b1a1289d815ad2d8102ad7ea9add3540/expr.ipynb\"><img src=\"data:image/png;base64,iVBORw0KGgoAAAANSUhEUgAAACsAAAAVBAMAAAAtAwouAAAAMFBMVEX////c3NwiIiJERESqqqqY\n",
       "mJh2dnZmZmYQEBDu7u4yMjJUVFTMzMyIiIi6uroAAAAs73DqAAAAAXRSTlMAQObYZgAAAQhJREFU\n",
       "GNNjYMAB+C6gi8SBiNMMDMfSTJCF2Q8AiZUMjAUM71G0LGBg4L3AwPaFgV8BWTiMgYFjAgMLuvAM\n",
       "BoZXYAaqIcwODGVgxmqoAOPevEYGBrYChqVADk/WBqjwCwHmDwwMLAsY+sDcGw8gir8ysBsAvdLA\n",
       "8A/M5/gJprg/MDABbeH5ABJmPMDA/BUszG/AMP8AWLiFgWH+T5iw/AUGf4YJIENMgWoWMDB9BPKA\n",
       "ChwYdrEcYGBdwJAO9GgAw/sEzk9AYa4AFnU2sAMfAXnu5UsYOPsFQM6+d/geUPYBA4cALIAFkD3P\n",
       "mgBlsyI8nwsOWHRhTmDAMkhDOYjA4gYZx4gRaXcYGAAIoUCpTBPJKQAAAABJRU5ErkJggg==\n",
       "\" style=\"display:inline;vertical-align:middle;\" /></a></td></tr>\n",
       "<tr><td>9</td><td>Literal</td><td></td><td><a class=\"ProveItLink\" href=\"../../../numeral/__pv_it/9176d93c83afa2c995b614976e3cb49207102fa70/expr.ipynb\"><img src=\"data:image/png;base64,iVBORw0KGgoAAAANSUhEUgAAAAoAAAAOBAMAAADkjZCYAAAAMFBMVEX///+YmJju7u4QEBBUVFQy\n",
       "MjIiIiKIiIi6urpmZmbc3NyqqqpERER2dnbMzMwAAAB0GlNiAAAAAXRSTlMAQObYZgAAAE1JREFU\n",
       "CNdjYHh79zQDA9cEhv4CBt7fDPwJDNxgEgiAIkAQAsR8Vx1ATIbiBhDJ/ImB6wEDz0cG/U8gkj+A\n",
       "ge0XA7sAQ/8FBoadM6MZAEflFACalZ/OAAAAAElFTkSuQmCC\n",
       "\" style=\"display:inline;vertical-align:middle;\" /></a></td></tr>\n",
       "<tr><td>10</td><td>Variable</td><td></td><td><a class=\"ProveItLink\" href=\"../../../../__pv_it/07527342713064c87612d00d8557c53d53d5324a0/expr.ipynb\"><img src=\"data:image/png;base64,iVBORw0KGgoAAAANSUhEUgAAAAsAAAAJBAMAAAAWSsseAAAAMFBMVEX///8yMjKqqqrMzMzu7u4i\n",
       "IiJmZmaYmJhEREQQEBC6urp2dnaIiIhUVFTc3NwAAAD87Fq/AAAAAXRSTlMAQObYZgAAAEhJREFU\n",
       "CNdjYOC7s2seAwPDygccHxgY+L4zsDUwMPB+YGA9wMDA38Dgb8DA8P4Agz6DA4O/AsNFJgMGxgKm\n",
       "MG6gyjunLE4xAAAZTBA5TB6DCwAAAABJRU5ErkJggg==\n",
       "\" style=\"display:inline;vertical-align:middle;\" /></a></td></tr>\n",
       "</table>\n"
      ],
      "text/plain": [
       "0. (a + a + a) = (3 * a)\n",
       "   core type: Operation\n",
       "   operator: 1\n",
       "   operands: 2\n",
       "1. =\n",
       "   core type: Literal\n",
       "   sub-expressions: \n",
       "2. (a + a + a , 3 * a)\n",
       "   core type: ExprTuple\n",
       "   sub-expressions: 3, 4\n",
       "3. a + a + a\n",
       "   core type: Operation\n",
       "   operator: 5\n",
       "   operands: 6\n",
       "4. 3 * a\n",
       "   core type: Operation\n",
       "   operator: 7\n",
       "   operands: 8\n",
       "5. +\n",
       "   core type: Literal\n",
       "   sub-expressions: \n",
       "6. (a , a , a)\n",
       "   core type: ExprTuple\n",
       "   sub-expressions: 10, 10, 10\n",
       "7. *\n",
       "   core type: Literal\n",
       "   sub-expressions: \n",
       "8. (3 , a)\n",
       "   core type: ExprTuple\n",
       "   sub-expressions: 9, 10\n",
       "9. 3\n",
       "   core type: Literal\n",
       "   sub-expressions: \n",
       "10. a\n",
       "    core type: Variable\n",
       "    sub-expressions: "
      ]
     },
     "execution_count": 4,
     "metadata": {},
     "output_type": "execute_result"
    }
   ],
   "source": [
    "# display the expression information\n",
    "expr.exprInfo()"
   ]
  },
  {
   "cell_type": "code",
   "execution_count": null,
   "metadata": {},
   "outputs": [],
   "source": []
  }
 ],
 "metadata": {
  "kernelspec": {
   "display_name": "Python 3",
   "language": "python",
   "name": "python3"
  }
 },
 "nbformat": 4,
 "nbformat_minor": 0
}
