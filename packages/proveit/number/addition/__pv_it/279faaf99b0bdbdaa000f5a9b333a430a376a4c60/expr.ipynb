{
 "cells": [
  {
   "cell_type": "markdown",
   "metadata": {},
   "source": [
    "Expression of type <a class=\"ProveItLink\" href=\"../../../../../../doc/html/api/proveit.ExprTuple.html\">ExprTuple</a>\n",
    "=======================\n",
    "# from context <a class=\"ProveItLink\" href=\"../../_context_.ipynb\">proveit.number.addition</a>"
   ]
  },
  {
   "cell_type": "code",
   "execution_count": 1,
   "metadata": {},
   "outputs": [],
   "source": [
    "# import Expression classes needed to build the expression\n",
    "from proveit import ExprTuple\n",
    "from proveit._common_ import b, c\n",
    "from proveit.number import Complexes, Exp, six"
   ]
  },
  {
   "cell_type": "code",
   "execution_count": 2,
   "metadata": {},
   "outputs": [
    {
     "data": {
      "text/html": [
       "<strong id=\"expr\">expr:</strong> <a class=\"ProveItLink\" href=\"expr.ipynb\"><img src=\"data:image/png;base64,iVBORw0KGgoAAAANSUhEUgAAAKYAAAAcBAMAAAAZ99lXAAAAMFBMVEX///+qqqp2dnYiIiJERESI\n",
       "iIhmZmYQEBDc3NyYmJgyMjLu7u5UVFTMzMy6uroAAACGxKilAAAAAXRSTlMAQObYZgAAApNJREFU\n",
       "SMe1lU1oE0EUx/9JzeZjs5tcPOilC5LehBxEBBEi6EHwsFBaLxUWPfmFtV6l5uBJCo1SelCQgiBo\n",
       "VZYeFEoxK1i1Ilg8iyl68ONgWmy0UhJ9M5mZbtJNpLIO7M7vzQz/nXnvzVsgxPYoV0LY7YGxLOhb\n",
       "WJJRR7dgMTK8sDTjWXq9YzTrhqU5vn2wiJhNtECPaW9dIbnUPlKxjDywD0gM8w3rL/LNCQWYu9hd\n",
       "9JyP++/93OOML2EFGAI0h4amgZR0qwLc766Z2sD3DczUvMwiakDZRZyOwHyQyYp5BeyjXQ9vKUpT\n",
       "XvZ6qSwaQE8JFRYwClNVhkqBud5dUx+WdDNOL82LeCb5TSvgGJlf6dklFyiI5v8SpYMSnDH2CRuT\n",
       "fbSf5DJekXmCOW9gQXhRQmp+SFy1mdzxIOiTG3Y++L5ExztK3V0aXwW5GD5AuYA6B2MUt4Ngp1Ax\n",
       "rB0+TaOOO9SNApF1xLnPFaDXxQiHxzaOBMEnpfnFp5loYC91FC1tChmWVRuA08APDm/k8jaoyLMX\n",
       "3vpDtyI1exxUufcU0Iz5i8OqXN4GUhPT6dZ9ssS+wLPyvCvSswmUnhrPpkRNrm4DeXZc55oiBxN1\n",
       "PKOOfENxGYEOH1CAyLFsIe02GQC4IZW23aJLY+4XcV9DP3hSpLOah3LeB3iKs9C/EzwHdm+GZi5x\n",
       "E68Pu08OiX1Sflap+0hz86conGs+wNxgCfrlIoUtN+BuBuAh02QmjJO/L8kyFZ3iyRgvCvsz2sEs\n",
       "doTm3VSmKi020pavGqhflIJkZ4jaLaZs5SJYGWW1buuaswjUnBCVYKxpxuS4Atid4WWrKdsBeq6y\n",
       "nPqHf0dsMbiqsksYsUL9x1/h72uhap7Bf2l/AK8fwyOKDZ+rAAAAAElFTkSuQmCC\n",
       "\" style=\"display:inline;vertical-align:middle;\" /></a><br>"
      ],
      "text/plain": [
       "expr: ((b , b , b , c , c , c) , Complexes^{6})"
      ]
     },
     "execution_count": 2,
     "metadata": {},
     "output_type": "execute_result"
    }
   ],
   "source": [
    "# build up the expression from sub-expressions\n",
    "expr = ExprTuple([b, b, b, c, c, c], Exp(Complexes, six))"
   ]
  },
  {
   "cell_type": "code",
   "execution_count": 3,
   "metadata": {},
   "outputs": [
    {
     "name": "stdout",
     "output_type": "stream",
     "text": [
      "Passed sanity check: built 'expr' is the same as the stored Expression.\n"
     ]
    }
   ],
   "source": [
    "# check that the built expression is the same as the stored expression\n",
    "%check_expr"
   ]
  },
  {
   "cell_type": "code",
   "execution_count": 4,
   "metadata": {},
   "outputs": [
    {
     "data": {
      "text/html": [
       "<table><tr><th>&nbsp;</th><th>core type</th><th>sub-expressions</th><th>expression</th></tr>\n",
       "<tr><td>0</td><td>ExprTuple</td><td>1, 2</td><td><a class=\"ProveItLink\" href=\"expr.ipynb\"><img src=\"data:image/png;base64,iVBORw0KGgoAAAANSUhEUgAAAKYAAAAcBAMAAAAZ99lXAAAAMFBMVEX///+qqqp2dnYiIiJERESI\n",
       "iIhmZmYQEBDc3NyYmJgyMjLu7u5UVFTMzMy6uroAAACGxKilAAAAAXRSTlMAQObYZgAAApNJREFU\n",
       "SMe1lU1oE0EUx/9JzeZjs5tcPOilC5LehBxEBBEi6EHwsFBaLxUWPfmFtV6l5uBJCo1SelCQgiBo\n",
       "VZYeFEoxK1i1Ilg8iyl68ONgWmy0UhJ9M5mZbtJNpLIO7M7vzQz/nXnvzVsgxPYoV0LY7YGxLOhb\n",
       "WJJRR7dgMTK8sDTjWXq9YzTrhqU5vn2wiJhNtECPaW9dIbnUPlKxjDywD0gM8w3rL/LNCQWYu9hd\n",
       "9JyP++/93OOML2EFGAI0h4amgZR0qwLc766Z2sD3DczUvMwiakDZRZyOwHyQyYp5BeyjXQ9vKUpT\n",
       "XvZ6qSwaQE8JFRYwClNVhkqBud5dUx+WdDNOL82LeCb5TSvgGJlf6dklFyiI5v8SpYMSnDH2CRuT\n",
       "fbSf5DJekXmCOW9gQXhRQmp+SFy1mdzxIOiTG3Y++L5ExztK3V0aXwW5GD5AuYA6B2MUt4Ngp1Ax\n",
       "rB0+TaOOO9SNApF1xLnPFaDXxQiHxzaOBMEnpfnFp5loYC91FC1tChmWVRuA08APDm/k8jaoyLMX\n",
       "3vpDtyI1exxUufcU0Iz5i8OqXN4GUhPT6dZ9ssS+wLPyvCvSswmUnhrPpkRNrm4DeXZc55oiBxN1\n",
       "PKOOfENxGYEOH1CAyLFsIe02GQC4IZW23aJLY+4XcV9DP3hSpLOah3LeB3iKs9C/EzwHdm+GZi5x\n",
       "E68Pu08OiX1Sflap+0hz86conGs+wNxgCfrlIoUtN+BuBuAh02QmjJO/L8kyFZ3iyRgvCvsz2sEs\n",
       "doTm3VSmKi020pavGqhflIJkZ4jaLaZs5SJYGWW1buuaswjUnBCVYKxpxuS4Atid4WWrKdsBeq6y\n",
       "nPqHf0dsMbiqsksYsUL9x1/h72uhap7Bf2l/AK8fwyOKDZ+rAAAAAElFTkSuQmCC\n",
       "\" style=\"display:inline;vertical-align:middle;\" /></a></td></tr>\n",
       "<tr><td>1</td><td>ExprTuple</td><td>3, 3, 3, 4, 4, 4</td><td><a class=\"ProveItLink\" href=\"../2f37c96cb6aa0f72fde4a0c86f1eb198088d10780/expr.ipynb\"><img src=\"data:image/png;base64,iVBORw0KGgoAAAANSUhEUgAAAHAAAAAVBAMAAABs93eRAAAAMFBMVEX////c3NwiIiJERESqqqqY\n",
       "mJh2dnZmZmYQEBDu7u4yMjJUVFTMzMyIiIi6uroAAAAs73DqAAAAAXRSTlMAQObYZgAAAVFJREFU\n",
       "OMudlL9Lw1AQxz/+aNO0xrg72D/BQffOTpmdgoMuFrLYSdBB3CydRFwUwUEEqYPoInYUOthVMFCd\n",
       "ikuV4uCgeElfCulrwPTg3fvcwSX37vsSGNtmW+lrMm1xTcy7Yj/WIcm2ZV1Avq5iHRIsD5Z0apdU\n",
       "rENSry65GnRrKtYhwcxd3mVbi2IdkmyJivhL/6Yf6mCu+404cFh+gQ3OJdfDDpM68NjOF+MwU+UM\n",
       "VqjC9Dc5N8jpYB4w5cSAoxbL0OEXjFNsL8jpUPhQZxoAD6F/CgonPbrh03SwFyN9IqCnCvdC0XZq\n",
       "Sr0hWIju4wAmfsKtE/Qrc9jHZCTIe50Y8CXyw6rMlULJqHNSHAke2UYMuIXNQI43mdj9lgzrcxRQ\n",
       "8Z+HwCj7coorcnOq+VdSgFy5jKvYIQVkW+Fnlb7wWNZ8H60o9x/gOhBmjF+H1eAPw4V/0yoJwjsA\n",
       "AAAASUVORK5CYII=\n",
       "\" style=\"display:inline;vertical-align:middle;\" /></a></td></tr>\n",
       "<tr><td>2</td><td>Operation</td><td>operator:&nbsp;5<br>operands:&nbsp;6<br></td><td><a class=\"ProveItLink\" href=\"../caa58a6d37528bfa4e8e607325cf0a3bdcd3bb190/expr.ipynb\"><img src=\"data:image/png;base64,iVBORw0KGgoAAAANSUhEUgAAABcAAAAUBAMAAACUkLs9AAAAMFBMVEX////c3NyqqqqYmJhUVFR2\n",
       "dnbu7u66urrMzMxmZmZEREQQEBAyMjIiIiKIiIgAAAB7fvZ0AAAAAXRSTlMAQObYZgAAAJpJREFU\n",
       "GNNjYIACtqmPGeCAp6EfwYlkSEVwNiGYDIyf3k2Eczi+MvSCaL475/euZPzOwK8AFKsvYIt/wvCD\n",
       "gf8BA4OBMwMD0xeGQwz8BQzMCRuASqcwqDDUMjBwMjoAOXkMzFOnMTBksgcgLGhlMkDisCNxsjiQ\n",
       "lPEkOCA4zAEgDhuUt7gOSNQmQDgsXs/YqpbBFHbe/+0OYQEA3N0ih75gypAAAAAASUVORK5CYII=\n",
       "\" style=\"display:inline;vertical-align:middle;\" /></a></td></tr>\n",
       "<tr><td>3</td><td>Variable</td><td></td><td><a class=\"ProveItLink\" href=\"../../../../__pv_it/6840a4fa6c106149dc16a131294d0c5e44f1b0480/expr.ipynb\"><img src=\"data:image/png;base64,iVBORw0KGgoAAAANSUhEUgAAAAkAAAAOBAMAAAAPuiubAAAALVBMVEX///9mZmbMzMxERESYmJiI\n",
       "iIh2dna6urqqqqoyMjIiIiIQEBBUVFTu7u4AAAD9S1JeAAAAAXRSTlMAQObYZgAAAE1JREFUCNdj\n",
       "4D29gAEIOA+ASL4GEFl3AURmgQiGOaFHGBh4HzPwKTBwvGXgTmBgnMDAJ8DAJcBQ5wBSLncBJLWN\n",
       "gYGngRFoBO9REQYGAGrcDtUkVqASAAAAAElFTkSuQmCC\n",
       "\" style=\"display:inline;vertical-align:middle;\" /></a></td></tr>\n",
       "<tr><td>4</td><td>Variable</td><td></td><td><a class=\"ProveItLink\" href=\"../../../../__pv_it/cbdfda466482236edba0ce44ac7ef39cda0af7a40/expr.ipynb\"><img src=\"data:image/png;base64,iVBORw0KGgoAAAANSUhEUgAAAAkAAAAJBAMAAAASvxsjAAAALVBMVEX///9mZmbc3NxUVFSYmJhE\n",
       "REQiIiIyMjK6uroQEBDMzMyIiIh2dnbu7u4AAABgFDGoAAAAAXRSTlMAQObYZgAAADZJREFUCNdj\n",
       "YOA9s3sBA8PKBvYEBt7ZDKwODMwPGICALwBE6m0Asx0YGIDiAgw8QJUyu/cyAAAmuwmycZ8WfQAA\n",
       "AABJRU5ErkJggg==\n",
       "\" style=\"display:inline;vertical-align:middle;\" /></a></td></tr>\n",
       "<tr><td>5</td><td>Literal</td><td></td><td><a class=\"ProveItLink\" href=\"../../../exponentiation/__pv_it/deb2bf23cbccdd6e6791e1b35b5b9794ce12dbd50/expr.ipynb\"><img src=\"data:image/png;base64,iVBORw0KGgoAAAANSUhEUgAAACgAAAASBAMAAADbMYGVAAAAMFBMVEX///8QEBAiIiKYmJjc3Nzu\n",
       "7u7MzMx2dnZmZma6urpERESqqqoyMjJUVFSIiIgAAAAoDOMTAAAAAXRSTlMAQObYZgAAAOBJREFU\n",
       "GNNjYGB4+//u3Tt/GNAASGAXmhjnPyDBgSbI/g1IxKEJ8nxgYGdgQRPkX8BgDKRY6q7s62OYvmze\n",
       "2wAgb/7ZO1+AVDiDkYEQQ0HTBr4DQF59AgOIKmB4z7CNbcNZBu6vQN55kEACQwDDLQYGVobfDHwg\n",
       "fb8YGBxYHwAZciD3fWXg+gB1JjvQcJZvQIXsCgz8F6DO9GBgMOH7wPCUgaeBwd4B7EwGNjUG7s9c\n",
       "AiwPgO5jkWRgiF3/9+5dfQUG1nWl5Y+B7pv+1gE9bBhqGLCAE1jEWH9jEbT5A3IwAC4sP/1L6Qlu\n",
       "AAAAAElFTkSuQmCC\n",
       "\" style=\"display:inline;vertical-align:middle;\" /></a></td></tr>\n",
       "<tr><td>6</td><td>ExprTuple</td><td>7, 8</td><td><a class=\"ProveItLink\" href=\"../e291b8cc1d145060c3954e47279c1a346a2a8f2d0/expr.ipynb\"><img src=\"data:image/png;base64,iVBORw0KGgoAAAANSUhEUgAAAC8AAAAVBAMAAAAk6KpUAAAAMFBMVEX////c3NwiIiJERESqqqqY\n",
       "mJh2dnZmZmYQEBDu7u4yMjJUVFTMzMyIiIi6uroAAAAs73DqAAAAAXRSTlMAQObYZgAAASpJREFU\n",
       "KM91kb9Lw0AUxz/RxjY2De4uLi4iCEIRt/wHZnLUbC5KnbpkKaKrHAjaRcwiqItFcRUnHUToJqJD\n",
       "rZsg/phEQX2XkyRQPbjHu+/n7n3v3cG/w2v3anM6XMqsjB2uTP2Km/VFimeS7IP73HFqt0a3xjmC\n",
       "WDZLpeAECp8G9IUcwCyUFLZqiBIZMK90bMIjFK2W5NsG7CWx36cOW16YXejj6tqHgWV24bwQpLrz\n",
       "FjAqjjHrArwc+IaawmvwBRtumDsh/j7uiwaDqpXzENDWYBXsUAPHgMnkhJSqyqL6JKGrEjSTeNgx\n",
       "C7IoH984D9PsjOgOQmctuW5Xb7uYeD+Vdl91HkUdse1QGsqM79OsqZ0zkLWzZJ69Bzjy7AyneiXN\n",
       "yrq+9cfX3sEPlLVIbOnCRWQAAAAASUVORK5CYII=\n",
       "\" style=\"display:inline;vertical-align:middle;\" /></a></td></tr>\n",
       "<tr><td>7</td><td>Literal</td><td></td><td><a class=\"ProveItLink\" href=\"../../../sets/complex/__pv_it/c357845f93a5a2d9f649129d299e7ec28dda4b960/expr.ipynb\"><img src=\"data:image/png;base64,iVBORw0KGgoAAAANSUhEUgAAAA8AAAAOBAMAAAACpFvcAAAAMFBMVEX////c3NyqqqqYmJhUVFR2\n",
       "dnbu7u66urrMzMxmZmZEREQQEBAyMjIiIiKIiIgAAAB7fvZ0AAAAAXRSTlMAQObYZgAAAGVJREFU\n",
       "CNdjYGDgu3N+70oGBgaO+gK2+CdAhoEzAwPTFwYG5oQNQN4UBgZORgcgI4+BIZM9gAEMWpkMoAx2\n",
       "KCOLAyrFk+AAYTAHgBhsQLy4DkjUJjAwsHg9Y6taBpLsvP/bnYEBACkBFGQfBv8RAAAAAElFTkSu\n",
       "QmCC\n",
       "\" style=\"display:inline;vertical-align:middle;\" /></a></td></tr>\n",
       "<tr><td>8</td><td>Literal</td><td></td><td><a class=\"ProveItLink\" href=\"../../../numeral/__pv_it/09b499e53e24cf89c2513ba78b501f0314edaa680/expr.ipynb\"><img src=\"data:image/png;base64,iVBORw0KGgoAAAANSUhEUgAAAAoAAAAOBAMAAADkjZCYAAAAMFBMVEX///+6urpERESqqqqIiIgQ\n",
       "EBCYmJgyMjJUVFQiIiLc3NzMzMxmZmZ2dnbu7u4AAABf+mkYAAAAAXRSTlMAQObYZgAAAFNJREFU\n",
       "CNdjYOC7c3cDA8PKDRwTGBjmMrAXMLD9YwAC9gAQyV/tcpiB4f00Bs4EhvcfGHj/MbyfwMD2mYEf\n",
       "qOwLAxOYzQwWZ9BleJrAwMDT08gAANMyF0ZGTeKAAAAAAElFTkSuQmCC\n",
       "\" style=\"display:inline;vertical-align:middle;\" /></a></td></tr>\n",
       "</table>\n"
      ],
      "text/plain": [
       "0. ((b , b , b , c , c , c) , Complexes^{6})\n",
       "   core type: ExprTuple\n",
       "   sub-expressions: 1, 2\n",
       "1. (b , b , b , c , c , c)\n",
       "   core type: ExprTuple\n",
       "   sub-expressions: 3, 3, 3, 4, 4, 4\n",
       "2. Complexes^{6}\n",
       "   core type: Operation\n",
       "   operator: 5\n",
       "   operands: 6\n",
       "3. b\n",
       "   core type: Variable\n",
       "   sub-expressions: \n",
       "4. c\n",
       "   core type: Variable\n",
       "   sub-expressions: \n",
       "5. Exp\n",
       "   core type: Literal\n",
       "   sub-expressions: \n",
       "6. (Complexes , 6)\n",
       "   core type: ExprTuple\n",
       "   sub-expressions: 7, 8\n",
       "7. Complexes\n",
       "   core type: Literal\n",
       "   sub-expressions: \n",
       "8. 6\n",
       "   core type: Literal\n",
       "   sub-expressions: "
      ]
     },
     "execution_count": 4,
     "metadata": {},
     "output_type": "execute_result"
    }
   ],
   "source": [
    "# display the expression information\n",
    "expr.exprInfo()"
   ]
  },
  {
   "cell_type": "code",
   "execution_count": null,
   "metadata": {},
   "outputs": [],
   "source": []
  }
 ],
 "metadata": {
  "kernelspec": {
   "display_name": "Python 3",
   "language": "python",
   "name": "python3"
  }
 },
 "nbformat": 4,
 "nbformat_minor": 0
}
