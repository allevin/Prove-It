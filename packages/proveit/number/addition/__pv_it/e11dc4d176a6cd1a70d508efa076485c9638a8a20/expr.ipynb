{
 "cells": [
  {
   "cell_type": "markdown",
   "metadata": {},
   "source": [
    "Expression of type <a class=\"ProveItLink\" href=\"../../../../../../doc/html/api/proveit.ExprTuple.html\">ExprTuple</a>\n",
    "=======================\n",
    "# from context <a class=\"ProveItLink\" href=\"../../_context_.ipynb\">proveit.number.addition</a>"
   ]
  },
  {
   "cell_type": "code",
   "execution_count": 1,
   "metadata": {},
   "outputs": [],
   "source": [
    "# import Expression classes needed to build the expression\n",
    "from proveit import ExprTuple\n",
    "from proveit.number import Add, one, six, three, two"
   ]
  },
  {
   "cell_type": "code",
   "execution_count": 2,
   "metadata": {},
   "outputs": [
    {
     "data": {
      "text/html": [
       "<strong id=\"expr\">expr:</strong> <a class=\"ProveItLink\" href=\"expr.ipynb\"><img src=\"data:image/png;base64,iVBORw0KGgoAAAANSUhEUgAAALkAAAAVBAMAAADoXVL6AAAAMFBMVEX////c3NwiIiJERESqqqqY\n",
       "mJh2dnZmZmYQEBDu7u4yMjJUVFTMzMyIiIi6uroAAAAs73DqAAAAAXRSTlMAQObYZgAAAeRJREFU\n",
       "OMu1lT0sBEEYht+7XfbWOU6l0GiIQiFCoeE61cVqlGxFIsQ1nJxGQUHBiUQkitv4CUZz0SqoKERc\n",
       "R0LiKCXiJxR7hTNrLTu7MxRyk+zO5H1nnnzz7c43QGlbVa5E4H7rdUofKe1xalOdHuV4sM27vMMZ\n",
       "rEyMcDzliPa7gNrloQeyuImxSgKPnk0um47XjH1wPAOI5KAeHDr0JbsLpxF8YpTyV1TXM8ragUMP\n",
       "6iD2SI26vT4gZIFvHHrc7kJzCL8zivxD/1IQcegD3zuXc25vFbgHh15hQmHptDmZ8dF3wKdLMUzw\n",
       "6NZ2Ta+yBwG9cHYR49HLE9gS0M91Vqkczgro6ouGBh5dNrAgoG/4lMu8gF4ExtIcetU03vl0pcVH\n",
       "D5mi2OmHjXHolU9ueoqQJkLs9F6BVQJHkN7YOT95p3SKVQhZnyck66bPcGOXE6hhlIxp03lftVUQ\n",
       "O81MO5d+AvQySrWB4LOfrlqDHkHeywwM8eiBxsEh9uxENDzqfnrGmiXp6qzgj7yjXXJxW2NWBovF\n",
       "oudkdic32QiUycI4Vj/3MzWVZ+mfHiryCEXd1Sfuq6N/KLeMJTOFjlaCMt0tPPhYfyjaL3fFqF2B\n",
       "/9E0saXSCoy6/8Ajv3hhK+eBUt1818AHvDiz4MhndpsAAAAASUVORK5CYII=\n",
       "\" style=\"display:inline;vertical-align:middle;\" /></a><br>"
      ],
      "text/plain": [
       "expr: (1 + 2 + 3 + 1 , 6 + 1)"
      ]
     },
     "execution_count": 2,
     "metadata": {},
     "output_type": "execute_result"
    }
   ],
   "source": [
    "# build up the expression from sub-expressions\n",
    "expr = ExprTuple(Add(one, two, three, one), Add(six, one))"
   ]
  },
  {
   "cell_type": "code",
   "execution_count": 3,
   "metadata": {},
   "outputs": [
    {
     "name": "stdout",
     "output_type": "stream",
     "text": [
      "Passed sanity check: built 'expr' is the same as the stored Expression.\n"
     ]
    }
   ],
   "source": [
    "# check that the built expression is the same as the stored expression\n",
    "%check_expr"
   ]
  },
  {
   "cell_type": "code",
   "execution_count": 4,
   "metadata": {},
   "outputs": [
    {
     "data": {
      "text/html": [
       "<table><tr><th>&nbsp;</th><th>core type</th><th>sub-expressions</th><th>expression</th></tr>\n",
       "<tr><td>0</td><td>ExprTuple</td><td>1, 2</td><td><a class=\"ProveItLink\" href=\"expr.ipynb\"><img src=\"data:image/png;base64,iVBORw0KGgoAAAANSUhEUgAAALkAAAAVBAMAAADoXVL6AAAAMFBMVEX////c3NwiIiJERESqqqqY\n",
       "mJh2dnZmZmYQEBDu7u4yMjJUVFTMzMyIiIi6uroAAAAs73DqAAAAAXRSTlMAQObYZgAAAeRJREFU\n",
       "OMu1lT0sBEEYht+7XfbWOU6l0GiIQiFCoeE61cVqlGxFIsQ1nJxGQUHBiUQkitv4CUZz0SqoKERc\n",
       "R0LiKCXiJxR7hTNrLTu7MxRyk+zO5H1nnnzz7c43QGlbVa5E4H7rdUofKe1xalOdHuV4sM27vMMZ\n",
       "rEyMcDzliPa7gNrloQeyuImxSgKPnk0um47XjH1wPAOI5KAeHDr0JbsLpxF8YpTyV1TXM8ragUMP\n",
       "6iD2SI26vT4gZIFvHHrc7kJzCL8zivxD/1IQcegD3zuXc25vFbgHh15hQmHptDmZ8dF3wKdLMUzw\n",
       "6NZ2Ta+yBwG9cHYR49HLE9gS0M91Vqkczgro6ouGBh5dNrAgoG/4lMu8gF4ExtIcetU03vl0pcVH\n",
       "D5mi2OmHjXHolU9ueoqQJkLs9F6BVQJHkN7YOT95p3SKVQhZnyck66bPcGOXE6hhlIxp03lftVUQ\n",
       "O81MO5d+AvQySrWB4LOfrlqDHkHeywwM8eiBxsEh9uxENDzqfnrGmiXp6qzgj7yjXXJxW2NWBovF\n",
       "oudkdic32QiUycI4Vj/3MzWVZ+mfHiryCEXd1Sfuq6N/KLeMJTOFjlaCMt0tPPhYfyjaL3fFqF2B\n",
       "/9E0saXSCoy6/8Ajv3hhK+eBUt1818AHvDiz4MhndpsAAAAASUVORK5CYII=\n",
       "\" style=\"display:inline;vertical-align:middle;\" /></a></td></tr>\n",
       "<tr><td>1</td><td>Operation</td><td>operator:&nbsp;4<br>operands:&nbsp;3<br></td><td><a class=\"ProveItLink\" href=\"../0d8c22bd9a6186cc03f8946f1a2b6e722ff15d980/expr.ipynb\"><img src=\"data:image/png;base64,iVBORw0KGgoAAAANSUhEUgAAAHMAAAAQBAMAAADXDV0hAAAAMFBMVEX///92dnbMzMy6uroiIiKq\n",
       "qqrc3NyYmJgyMjIQEBBmZmaIiIhUVFTu7u5EREQAAADaqMZ6AAAAAXRSTlMAQObYZgAAAQhJREFU\n",
       "KM9jYGB4y4AK2Fb1GaCKKAo+RVPDwHcBSNz7iyaaw8D9FdWsBQz2G1DV8L4Har1zBqaVNwFCn2Vg\n",
       "8EcRYfzKwO8AEbkGlThzHmQrN0wrK9TkmRcYzhsgi7AitEbDrN2PVWv/BYb1KFqBAOZgAlqBwP8C\n",
       "mkgPA5FamT6iijBJHCBWK8cDdJGdBkRqXYchwvkXt1aujo6WGR0dYIdxH0AVYVNg4PsOFFnR0eHZ\n",
       "0dGDz9YoBrYEZJH7fyFaCTuYaQEDO4pW/gYGlm9EaU0RFFyCIsJdwGAvgEUr18ofy1G1+v///wVV\n",
       "JGpVK1rkrJrfVYCUpFk3oGcPTJFoBqyAeQNhEWskNgDB1nAlS+D6+QAAAABJRU5ErkJggg==\n",
       "\" style=\"display:inline;vertical-align:middle;\" /></a></td></tr>\n",
       "<tr><td>2</td><td>Operation</td><td>operator:&nbsp;4<br>operands:&nbsp;5<br></td><td><a class=\"ProveItLink\" href=\"../3f5d097d76ddca7a60acd853944b537df43722ef0/expr.ipynb\"><img src=\"data:image/png;base64,iVBORw0KGgoAAAANSUhEUgAAACwAAAAQBAMAAACfEoDkAAAAMFBMVEX///+6urpERESqqqqIiIgQ\n",
       "EBCYmJgyMjJUVFQiIiLc3NzMzMxmZmZ2dnbu7u4AAABf+mkYAAAAAXRSTlMAQObYZgAAAIJJREFU\n",
       "GNNjYOC7c3cDAyrQA+KVGzgmoIo++gck5jKwF0C4ryDUiw6gMNs/uCoTKM0CFGIPwCrMX+1yGIvw\n",
       "+2kMnAlYhD8w8P7DIjyBge0zFrMLGNi+ANnHy8unlpdXwISZsKtmxm42gy7DUywuYeDpaUR1N8/R\n",
       "78eQg8iEASsQQTABLaYvTviNmyIAAAAASUVORK5CYII=\n",
       "\" style=\"display:inline;vertical-align:middle;\" /></a></td></tr>\n",
       "<tr><td>3</td><td>ExprTuple</td><td>9, 6, 7, 9</td><td><a class=\"ProveItLink\" href=\"../0a3582afc22049f27c7d5cd6dbf4696e6621121f0/expr.ipynb\"><img src=\"data:image/png;base64,iVBORw0KGgoAAAANSUhEUgAAAFEAAAAVBAMAAADMaB9/AAAAMFBMVEX////c3NwiIiJERESqqqqY\n",
       "mJh2dnZmZmYQEBDu7u4yMjJUVFTMzMyIiIi6uroAAAAs73DqAAAAAXRSTlMAQObYZgAAAWRJREFU\n",
       "KM+N061Pw0AYBvBnX3S3rk1REyCmsGAQGNb/gGKQhIRkU4QZGJlCYDBrE8wSBEsIIQQzPzEUCAQz\n",
       "KEgGSNRAkGzJVu7a6/VaBL2kfZ9efk3b965A8qEPEqBtdnqkR8bhM6Xmuh+K1V0zYGuAckfrDUAq\n",
       "XKa6GPqgBH3K4dmYnjqANgDp9blUHaRHXto38e3PnfeY3ALyDA25zJ9CnXlpQ0hoTLaBT0iyMIYy\n",
       "C750KsuMiUNZ0pEe81DoynKujquYfNrx6/0tZJntoBWTlwK0ZKkfYxaVyoq4x3YkWRzF5Quvi0DF\n",
       "isqTiMzWMc8qcZ2opE9fDaSHH4BNL02AZYOEMtdBjUvCGp1aqtbKXnqG/oOLstylD1oa9rVFbIM2\n",
       "03XdspeyjaaJ9hf7xqPJAe3uG/JGsCYG/qR30Qi6mjneaeTEbJgskfb8Xfe/JHTXYYFfhFtfJE1M\n",
       "qeyFUkn+jlfgFxSLaVyxKrEHAAAAAElFTkSuQmCC\n",
       "\" style=\"display:inline;vertical-align:middle;\" /></a></td></tr>\n",
       "<tr><td>4</td><td>Literal</td><td></td><td><a class=\"ProveItLink\" href=\"../3e6688136fa3c7aefbebe51301b7c3ebf0b69c440/expr.ipynb\"><img src=\"data:image/png;base64,iVBORw0KGgoAAAANSUhEUgAAAA4AAAAOBAMAAADtZjDiAAAAJFBMVEX///+6urpUVFQQEBAiIiIy\n",
       "MjJmZmaIiIiqqqrc3Nzu7u4AAACgHpL+AAAAAXRSTlMAQObYZgAAAB5JREFUCNdjYGBgWMkAAe2k\n",
       "0Kmhoc6hoUGk6BMHYgAHOwjcado9fwAAAABJRU5ErkJggg==\n",
       "\" style=\"display:inline;vertical-align:middle;\" /></a></td></tr>\n",
       "<tr><td>5</td><td>ExprTuple</td><td>8, 9</td><td><a class=\"ProveItLink\" href=\"../238492a629f4ffa734b35a1a5c578e267a8f92520/expr.ipynb\"><img src=\"data:image/png;base64,iVBORw0KGgoAAAANSUhEUgAAACkAAAAVBAMAAAAp9toTAAAAMFBMVEX////c3NwiIiJERESqqqqY\n",
       "mJh2dnZmZmYQEBDu7u4yMjJUVFTMzMyIiIi6uroAAAAs73DqAAAAAXRSTlMAQObYZgAAAOtJREFU\n",
       "GNNjYMAO+C6gCcSBiNMMDJzpaQegQpYMDOwg9koGBqED3AoQwck/gcQCBgZeoAFqDFwLwIKzd4NE\n",
       "wxgYOCYwsP6Em8kLYs5gYHjFwMDVgCrK7MBQxsDAv+ZuCbIoWwHDUgaG+aoMTAFIoiwLGPqAoh8Y\n",
       "2H4iifI1MPwDiiowsH5BEuX5ABLlX8DA+hdVtAVoJ5paoAmmQNPB5k6Ai7IuYEgHUmYMMwI4PyG7\n",
       "7BGQYt++j4GzXwDIqPhVCvTVAwYOAViIwhggH7MmQNmscG/nQkISVZQTFH7SUA48SrhBRjGix9Ad\n",
       "BgYAUcA/TwCWCZcAAAAASUVORK5CYII=\n",
       "\" style=\"display:inline;vertical-align:middle;\" /></a></td></tr>\n",
       "<tr><td>6</td><td>Literal</td><td></td><td><a class=\"ProveItLink\" href=\"../../../numeral/__pv_it/77d407a64829263cdc16415becd4c2293f77a4bf0/expr.ipynb\"><img src=\"data:image/png;base64,iVBORw0KGgoAAAANSUhEUgAAAAkAAAAOBAMAAAAPuiubAAAAMFBMVEX///+YmJh2dnbMzMwQEBAi\n",
       "IiLu7u6qqqqIiIhUVFS6urpEREQyMjJmZmbc3NwAAACOMKdoAAAAAXRSTlMAQObYZgAAAFBJREFU\n",
       "CNdj4Lt7egEDw0sGju8MDNMYGOIZGFwSGOYvYDifwHAfKAEUSQASzJ9ATJ4NIPI2iOCYACJrGfge\n",
       "MDBfYGB8wPBUSekqUPH//18ZAIliFhc3zESNAAAAAElFTkSuQmCC\n",
       "\" style=\"display:inline;vertical-align:middle;\" /></a></td></tr>\n",
       "<tr><td>7</td><td>Literal</td><td></td><td><a class=\"ProveItLink\" href=\"../../../numeral/__pv_it/9176d93c83afa2c995b614976e3cb49207102fa70/expr.ipynb\"><img src=\"data:image/png;base64,iVBORw0KGgoAAAANSUhEUgAAAAoAAAAOBAMAAADkjZCYAAAAMFBMVEX///+YmJju7u4QEBBUVFQy\n",
       "MjIiIiKIiIi6urpmZmbc3NyqqqpERER2dnbMzMwAAAB0GlNiAAAAAXRSTlMAQObYZgAAAE1JREFU\n",
       "CNdjYHh79zQDA9cEhv4CBt7fDPwJDNxgEgiAIkAQAsR8Vx1ATIbiBhDJ/ImB6wEDz0cG/U8gkj+A\n",
       "ge0XA7sAQ/8FBoadM6MZAEflFACalZ/OAAAAAElFTkSuQmCC\n",
       "\" style=\"display:inline;vertical-align:middle;\" /></a></td></tr>\n",
       "<tr><td>8</td><td>Literal</td><td></td><td><a class=\"ProveItLink\" href=\"../../../numeral/__pv_it/09b499e53e24cf89c2513ba78b501f0314edaa680/expr.ipynb\"><img src=\"data:image/png;base64,iVBORw0KGgoAAAANSUhEUgAAAAoAAAAOBAMAAADkjZCYAAAAMFBMVEX///+6urpERESqqqqIiIgQ\n",
       "EBCYmJgyMjJUVFQiIiLc3NzMzMxmZmZ2dnbu7u4AAABf+mkYAAAAAXRSTlMAQObYZgAAAFNJREFU\n",
       "CNdjYOC7c3cDA8PKDRwTGBjmMrAXMLD9YwAC9gAQyV/tcpiB4f00Bs4EhvcfGHj/MbyfwMD2mYEf\n",
       "qOwLAxOYzQwWZ9BleJrAwMDT08gAANMyF0ZGTeKAAAAAAElFTkSuQmCC\n",
       "\" style=\"display:inline;vertical-align:middle;\" /></a></td></tr>\n",
       "<tr><td>9</td><td>Literal</td><td></td><td><a class=\"ProveItLink\" href=\"../../../numeral/__pv_it/9be8badea4c35b9724062cecc501d17a3158d1d20/expr.ipynb\"><img src=\"data:image/png;base64,iVBORw0KGgoAAAANSUhEUgAAAAgAAAAPBAMAAAArJJMAAAAAHlBMVEX///+YmJgyMjIQEBBmZmaI\n",
       "iIhUVFTu7u5EREQAAAAw+MI4AAAAAXRSTlMAQObYZgAAACFJREFUCNdjYGBoZ2BgqJjOwFCWBiQY\n",
       "WEklWJwnOTKAAACjEQo8HvEr3AAAAABJRU5ErkJggg==\n",
       "\" style=\"display:inline;vertical-align:middle;\" /></a></td></tr>\n",
       "</table>\n"
      ],
      "text/plain": [
       "0. (1 + 2 + 3 + 1 , 6 + 1)\n",
       "   core type: ExprTuple\n",
       "   sub-expressions: 1, 2\n",
       "1. 1 + 2 + 3 + 1\n",
       "   core type: Operation\n",
       "   operator: 4\n",
       "   operands: 3\n",
       "2. 6 + 1\n",
       "   core type: Operation\n",
       "   operator: 4\n",
       "   operands: 5\n",
       "3. (1 , 2 , 3 , 1)\n",
       "   core type: ExprTuple\n",
       "   sub-expressions: 9, 6, 7, 9\n",
       "4. +\n",
       "   core type: Literal\n",
       "   sub-expressions: \n",
       "5. (6 , 1)\n",
       "   core type: ExprTuple\n",
       "   sub-expressions: 8, 9\n",
       "6. 2\n",
       "   core type: Literal\n",
       "   sub-expressions: \n",
       "7. 3\n",
       "   core type: Literal\n",
       "   sub-expressions: \n",
       "8. 6\n",
       "   core type: Literal\n",
       "   sub-expressions: \n",
       "9. 1\n",
       "   core type: Literal\n",
       "   sub-expressions: "
      ]
     },
     "execution_count": 4,
     "metadata": {},
     "output_type": "execute_result"
    }
   ],
   "source": [
    "# display the expression information\n",
    "expr.exprInfo()"
   ]
  },
  {
   "cell_type": "code",
   "execution_count": null,
   "metadata": {},
   "outputs": [],
   "source": []
  }
 ],
 "metadata": {
  "kernelspec": {
   "display_name": "Python 3",
   "language": "python",
   "name": "python3"
  }
 },
 "nbformat": 4,
 "nbformat_minor": 0
}
