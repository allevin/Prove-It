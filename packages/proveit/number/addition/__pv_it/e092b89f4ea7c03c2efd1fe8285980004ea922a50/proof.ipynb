{
 "cells": [
  {
   "cell_type": "markdown",
   "metadata": {},
   "source": [
    "Show the Proof\n",
    "========"
   ]
  },
  {
   "cell_type": "code",
   "execution_count": 1,
   "metadata": {},
   "outputs": [
    {
     "data": {
      "text/html": [
       "<table><tr><th>&nbsp;</th><th>step type</th><th>requirements</th><th>statement</th></tr>\n",
       "<tr><td>0</td><td>specialization</td><td>1, 2</td><td><span style=\"font-size:20px;\"><a class=\"ProveItLink\" href=\"../85f85b29ffe644bf5770f5334ca8f98ddc6a6b250/expr.ipynb\"><img src=\"data:image/png;base64,iVBORw0KGgoAAAANSUhEUgAAAEMAAAAVBAMAAADvM06qAAAAMFBMVEX////c3NxERESqqqpUVFS6\n",
       "urrMzMwyMjIQEBCIiIh2dnYiIiLu7u5mZmaYmJgAAABXZE4RAAAAAXRSTlMAQObYZgAAATpJREFU\n",
       "KM9jYGDgu8eAC7CtEgBRPLsYcAO2ZhDJ+YGB4Ug3huTs8h+bLjAwXAexuRqARAm6itSvDKd+OjAw\n",
       "rIAr+Yymgo/lAQODPbIS1j9QqZPVu7eD6DccQIIXWQnXBqjr6g5AGBdEQB6ZgKSE3XPKAxBbCKqC\n",
       "50IU1FiwEt4CBobzCgzfQGxFmF8X2EFZ70FERgDQYQcYukCaFeBK4qAsdqDHU9oYwL7/C6RYu3fv\n",
       "BjuXRyEL5jd1oAsiEhgY9jKw/gNpdoBJ1LBAGdwLgARLAShYeEHe5tkAU/IKrOQA1C0gD39j4ACp\n",
       "ZvCDKWF6CvQw6x4kTzszXAHLnA6AqXHRPHBU6QCSkiNzwcHCwFibAPPT7f8tAQzIcQQDzO6QCIAD\n",
       "TCUYAKyED68ScHrh2Ykv1bVC0sZi/GkXAJYdV0QwVHUkAAAAAElFTkSuQmCC\n",
       "\" style=\"display:inline;vertical-align:middle;\" /></a> <a class=\"ProveItLink\" href=\"proof.ipynb\" style=\"text-decoration: none\">&#x22A2;&nbsp;</a><a class=\"ProveItLink\" href=\"../bfcb7f5731f0e5ad6bca3e27685cb2c98943d61d0/expr.ipynb\"><img src=\"data:image/png;base64,iVBORw0KGgoAAAANSUhEUgAAAEcAAAAZBAMAAACRGi6rAAAAMFBMVEX////c3NwiIiJERESqqqqY\n",
       "mJh2dnZmZmYQEBDu7u4yMjJUVFTMzMyIiIi6uroAAAAs73DqAAAAAXRSTlMAQObYZgAAAWFJREFU\n",
       "KM9jYCAEeAwYCKupViCsiIGFuor4LoDZcXgVnWbg3AGk2Q9gSF9a9UO5AKJoJQMD1wYgvQBdzbl/\n",
       "DNP+bgAr4gXaxu8AFAtDU8PKHcDA4A9RxDGBgeE9EDPMgMhx3lJSAhsayQEk2CGKXgGZSSBBZgew\n",
       "olORUJMKpEFaLjBmfb/AUAZkrr67lYGBrQAkxWgJVcNZ8Axh9VIg/zMD/wEGFrAlzAKw6EhwRSjq\n",
       "A4bETwaOBAa+BhB3MjzOEp4iFP0Dum4BA38BA88HEPeFkhLE4ZwGx1AUMRUwvA+AKjoNl1jJjVDU\n",
       "Ag6m+glQ6ybBJcLAiiaA2aYMIFe3AQMP7HBQCEIAcxwwmPk0wex0oIQDMMygQcCpBzdqt+2EecYQ\n",
       "kx4BJfaWAhlcD8B8qRq4/4r+d0PEGDhgAQONFgbvRUoYcc2aAGXk4kt5K6HRsACfImkIxS2ATxEj\n",
       "JPnewaMEAIgaT6pZv+4aAAAAAElFTkSuQmCC\n",
       "\" style=\"display:inline;vertical-align:middle;\" /></a></span></td></tr>\n",
       "<tr><td>&nbsp;</td><td colspan=4 style=\"text-align:left\"><span style=\"font-size:20px;\"><a class=\"ProveItLink\" href=\"../../../../__pv_it/abeee18594afe51bfb1be95d9591fbba24ac53f30/expr.ipynb\"><img src=\"data:image/png;base64,iVBORw0KGgoAAAANSUhEUgAAAA0AAAAOBAMAAAAGUYvhAAAAMFBMVEX///8iIiIQEBCIiIjMzMzc\n",
       "3Nyqqqp2dnZEREQyMjK6urru7u5mZmZUVFSYmJgAAACI6eGPAAAAAXRSTlMAQObYZgAAAF1JREFU\n",
       "CNdjYGDgu3Nm3wIGBoZ5DNz9QIq3gIEhE0jHOzAwOAPp9QkMDC4g/megABAw///fCmbEXfq0Acxg\n",
       "qH8ANAVI7wfSe0BKAyBGnAXigwYMzA1A+sLau31ACgAz0hhbkhGHbwAAAABJRU5ErkJggg==\n",
       "\" style=\"display:inline;vertical-align:middle;\" /></a> : <a class=\"ProveItLink\" href=\"../../../sets/complex/__pv_it/c357845f93a5a2d9f649129d299e7ec28dda4b960/expr.ipynb\"><img src=\"data:image/png;base64,iVBORw0KGgoAAAANSUhEUgAAAA8AAAAOBAMAAAACpFvcAAAAMFBMVEX////c3NyqqqqYmJhUVFR2\n",
       "dnbu7u66urrMzMxmZmZEREQQEBAyMjIiIiKIiIgAAAB7fvZ0AAAAAXRSTlMAQObYZgAAAGVJREFU\n",
       "CNdjYGDgu3N+70oGBgaO+gK2+CdAhoEzAwPTFwYG5oQNQN4UBgZORgcgI4+BIZM9gAEMWpkMoAx2\n",
       "KCOLAyrFk+AAYTAHgBhsQLy4DkjUJjAwsHg9Y6taBpLsvP/bnYEBACkBFGQfBv8RAAAAAElFTkSu\n",
       "QmCC\n",
       "\" style=\"display:inline;vertical-align:middle;\" /></a>, <a class=\"ProveItLink\" href=\"../../../../__pv_it/07527342713064c87612d00d8557c53d53d5324a0/expr.ipynb\"><img src=\"data:image/png;base64,iVBORw0KGgoAAAANSUhEUgAAAAsAAAAJBAMAAAAWSsseAAAAMFBMVEX///8yMjKqqqrMzMzu7u4i\n",
       "IiJmZmaYmJhEREQQEBC6urp2dnaIiIhUVFTc3NwAAAD87Fq/AAAAAXRSTlMAQObYZgAAAEhJREFU\n",
       "CNdjYOC7s2seAwPDygccHxgY+L4zsDUwMPB+YGA9wMDA38Dgb8DA8P4Agz6DA4O/AsNFJgMGxgKm\n",
       "MG6gyjunLE4xAAAZTBA5TB6DCwAAAABJRU5ErkJggg==\n",
       "\" style=\"display:inline;vertical-align:middle;\" /></a> : <a class=\"ProveItLink\" href=\"../../../../__pv_it/6840a4fa6c106149dc16a131294d0c5e44f1b0480/expr.ipynb\"><img src=\"data:image/png;base64,iVBORw0KGgoAAAANSUhEUgAAAAkAAAAOBAMAAAAPuiubAAAALVBMVEX///9mZmbMzMxERESYmJiI\n",
       "iIh2dna6urqqqqoyMjIiIiIQEBBUVFTu7u4AAAD9S1JeAAAAAXRSTlMAQObYZgAAAE1JREFUCNdj\n",
       "4D29gAEIOA+ASL4GEFl3AURmgQiGOaFHGBh4HzPwKTBwvGXgTmBgnMDAJ8DAJcBQ5wBSLncBJLWN\n",
       "gYGngRFoBO9REQYGAGrcDtUkVqASAAAAAElFTkSuQmCC\n",
       "\" style=\"display:inline;vertical-align:middle;\" /></a></span></td></tr><tr><td>1</td><td>theorem</td><td></td><td><span style=\"font-size:20px;\"> <a class=\"ProveItLink\" href=\"../../../../logic/set_theory/membership/_proofs_/exp_set_1.ipynb\" style=\"text-decoration: none\">&#x22A2;&nbsp;</a><a class=\"ProveItLink\" href=\"../2fc389a433bb83a671e140a8140fb192c963fabe0/expr.ipynb\"><img src=\"data:image/png;base64,iVBORw0KGgoAAAANSUhEUgAAAMQAAAAcBAMAAADM5Q0aAAAAMFBMVEX///8QEBC6urrMzMxUVFRm\n",
       "ZmZERETc3NwyMjKqqqp2dnaIiIiYmJgiIiLu7u4AAAAU9Wx4AAAAAXRSTlMAQObYZgAAAyBJREFU\n",
       "SMe1lk1oE0EUx1/ztfnY3RYvogdNQdCLdA9WRCwtKiL1EtEoqEhQSC9VVqjWi5i7WnLQixdFEKte\n",
       "QosiKhhKvVioQRShurCC9KYJFluE0vrezO7OdLNsQqEPsuy8/0x+M+/NvFmAjbFoATbYoidrofol\n",
       "ywzVI9nWjBQi0tTXmguSay2G74H2ENEBehtZB0IfaxMBbzjCDkLYYaNjVQpAhTemwhCayRBsyjM+\n",
       "RIBT2BU5WHGjSZ/On5/iiMwAQzwl75gPEeAUll8jlvxysgrzDY7QVxjiGj6Vgg8R4BS2ieZXcVsf\n",
       "/PIgRqnEEfCdIZIY93jZhwhwii3fwEeHl60fzh54ZVlsQcoCdqk4iFMMoT4ZHb3hT3eA07NMFz52\n",
       "ec0En8m+WffQ/EOEoYz/pXV+5Jt2sVica9q0zU6xoWiyZ2i+xx5txvOVY3O/7MrK6qTo22MzxCGA\n",
       "IWz1PntrCITjFCbkBG2T2/jrNhMNFndyinrwbnXRa/QbDLEDdOwVyUGPtArulGqGkJM5nnJlGeK4\n",
       "IyIUN5gXXZXp7dvc95tZhtAgU6UnJCQEd/JEvshXZVkjxB8MWAO0ipN96LYsJ91o6WX3n+plhshU\n",
       "NYxY3QZVQnAns5c7f9uy7CI6C1A3XIQoWzgzfdm3Cr1EurY1K6ebO6++vggqS6ckJykXW3B4BR5g\n",
       "peGB+uUVMOyuLHkIngsYOkjS8dWyXAbJqX9VViDJRwo5RkdymAXhaMoAteTVLVabsBkf8HaUyRH3\n",
       "eGUd6ZIR5IzlojXY7zg9OUPyYyoUqS9pd9Pqn9ya9Q1D68XDORfQgUnTs6A3ZAQ5O7NYx/qKxWJF\n",
       "liP0spuOxcTeCSTxCF4/4awxcvhI1UOMOwgVE5sqS7dtzXHW7cSs+ZMtX5YXaAamr4DA3TtWU0WE\n",
       "W9KVhDtcnB73Suqw+w/YMdMvD9IMHrqt52GX15KM6M2fbrr1ImdnzoF+wS/3ycVcL4Ug1EJ7F2sa\n",
       "c7HGwQqfOzAW9iWhGeu8uxWauOJgJ8N6vl/v5wHcb/Njil9qgQirxXeUWm4PEbfpO+ozbLz9ByvB\n",
       "6Gh44qK9AAAAAElFTkSuQmCC\n",
       "\" style=\"display:inline;vertical-align:middle;\" /></a></span></td></tr>\n",
       "<tr><td>&nbsp;</td><td colspan=4 style-\"text-align:left\"><a class=\"ProveItLink\" href=\"../../../../logic/set_theory/membership/_proofs_/exp_set_1.ipynb\">proveit.logic.set_theory.membership.exp_set_1</a></td></tr><tr><td>2</td><td>assumption</td><td></td><td><span style=\"font-size:20px;\"><a class=\"ProveItLink\" href=\"../85f85b29ffe644bf5770f5334ca8f98ddc6a6b250/expr.ipynb\"><img src=\"data:image/png;base64,iVBORw0KGgoAAAANSUhEUgAAAEMAAAAVBAMAAADvM06qAAAAMFBMVEX////c3NxERESqqqpUVFS6\n",
       "urrMzMwyMjIQEBCIiIh2dnYiIiLu7u5mZmaYmJgAAABXZE4RAAAAAXRSTlMAQObYZgAAATpJREFU\n",
       "KM9jYGDgu8eAC7CtEgBRPLsYcAO2ZhDJ+YGB4Ug3huTs8h+bLjAwXAexuRqARAm6itSvDKd+OjAw\n",
       "rIAr+Yymgo/lAQODPbIS1j9QqZPVu7eD6DccQIIXWQnXBqjr6g5AGBdEQB6ZgKSE3XPKAxBbCKqC\n",
       "50IU1FiwEt4CBobzCgzfQGxFmF8X2EFZ70FERgDQYQcYukCaFeBK4qAsdqDHU9oYwL7/C6RYu3fv\n",
       "BjuXRyEL5jd1oAsiEhgY9jKw/gNpdoBJ1LBAGdwLgARLAShYeEHe5tkAU/IKrOQA1C0gD39j4ACp\n",
       "ZvCDKWF6CvQw6x4kTzszXAHLnA6AqXHRPHBU6QCSkiNzwcHCwFibAPPT7f8tAQzIcQQDzO6QCIAD\n",
       "TCUYAKyED68ScHrh2Ykv1bVC0sZi/GkXAJYdV0QwVHUkAAAAAElFTkSuQmCC\n",
       "\" style=\"display:inline;vertical-align:middle;\" /></a> <a class=\"ProveItLink\" href=\"../f4deafc65a9df2e80503981b100fd47b19fe45070/proof.ipynb\" style=\"text-decoration: none\">&#x22A2;&nbsp;</a><a class=\"ProveItLink\" href=\"../56e4bf9d0dc4ab15750dbfaaa220f8ca1295f3ab0/expr.ipynb\"><img src=\"data:image/png;base64,iVBORw0KGgoAAAANSUhEUgAAADEAAAAPBAMAAAC/wjryAAAAMFBMVEX////c3NxmZmbMzMxERESY\n",
       "mJiIiIh2dna6urqqqqoyMjIiIiIQEBBUVFTu7u4AAAAiO1wTAAAAAXRSTlMAQObYZgAAANpJREFU\n",
       "GNNj4LuzgQENsO1af9oJSHNdQJNg7m/gq88FMvgnoMkEXGVg4PwLZPQ/gAjwZe3evQBIsz44ACR1\n",
       "gbgaqtQqDkIzMYKMfwbEa9OuggQY/aAqHnEUQA35wsBvAKRZBKAy5pwBEAbnPwYekKInMAeYc0Bl\n",
       "mBYw8CsA6Z7duyEueMIMNY1bgaEfpMgWpofrAdSDQO/og9z9GibDWgCS4WMAWX8cJMAbAJNybQMS\n",
       "3Q8YeCcwgXXz7YDJ8F7J42sB+oHvmipEQEoZJmW0/88NlPCauxrsNhgAAF6vNqYvGVTbAAAAAElF\n",
       "TkSuQmCC\n",
       "\" style=\"display:inline;vertical-align:middle;\" /></a></span></td></tr>\n",
       "</table>"
      ],
      "text/plain": [
       "<proveit._core_.proof._ShowProof at 0x7f94eb45d9b0>"
      ]
     },
     "execution_count": 1,
     "metadata": {},
     "output_type": "execute_result"
    }
   ],
   "source": [
    "import proveit\n",
    "%show_proof"
   ]
  },
  {
   "cell_type": "code",
   "execution_count": null,
   "metadata": {},
   "outputs": [],
   "source": []
  }
 ],
 "metadata": {
  "kernelspec": {
   "display_name": "Python 3",
   "language": "python",
   "name": "python3"
  }
 },
 "nbformat": 4,
 "nbformat_minor": 0
}
