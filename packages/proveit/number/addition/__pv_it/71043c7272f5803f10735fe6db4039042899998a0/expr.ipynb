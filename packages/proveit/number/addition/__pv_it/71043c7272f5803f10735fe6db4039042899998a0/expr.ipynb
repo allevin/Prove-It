{
 "cells": [
  {
   "cell_type": "markdown",
   "metadata": {},
   "source": [
    "Expression of type <a class=\"ProveItLink\" href=\"../../../../../../doc/html/api/proveit.ExprTuple.html\">ExprTuple</a>\n",
    "=======================\n",
    "# from context <a class=\"ProveItLink\" href=\"../../_context_.ipynb\">proveit.number.addition</a>"
   ]
  },
  {
   "cell_type": "code",
   "execution_count": 1,
   "metadata": {},
   "outputs": [],
   "source": [
    "# import Expression classes needed to build the expression\n",
    "from proveit import ExprTuple\n",
    "from proveit._common_ import a, b, c\n",
    "from proveit.number import four, three, two"
   ]
  },
  {
   "cell_type": "code",
   "execution_count": 2,
   "metadata": {},
   "outputs": [
    {
     "data": {
      "text/html": [
       "<strong id=\"expr\">expr:</strong> <a class=\"ProveItLink\" href=\"expr.ipynb\"><img src=\"data:image/png;base64,iVBORw0KGgoAAAANSUhEUgAAAK8AAAAVBAMAAADC7aNVAAAAMFBMVEX////c3NwiIiJERESqqqqY\n",
       "mJh2dnZmZmYQEBDu7u4yMjJUVFTMzMyIiIi6uroAAAAs73DqAAAAAXRSTlMAQObYZgAAAldJREFU\n",
       "OMu1lT9oE1Ecx79JLn9eLpc7BKcMFhw6STvoKAaXDgre5CiHQwRFOSxtx1oUcdHeJF0kB7WDdLCL\n",
       "oJbQA0GELplEwZSrUylC0jYVA2p89+69d3eUxAxthrzP/d6773u/3+97d8CJ/crN49e8EfxtxiOp\n",
       "uWU/pI+18zK6+X8p8nYsBnmP0qv4fAVaN9zBRlumcnaEQxbX4uACWqIS74AJBrkudH4GaA9HENar\n",
       "cbgOFJz49BMHG6wWSkz49PIIwm0nDkvAbmL6tYN5X6wQuVijCN9MQKaK2aCgjXsLcsWE2HqVj1lD\n",
       "CFc+7xi8RbWWl4TV1htEkLOxQnnHyHSEbuknH2+LbrwAFy4v4BKPffKLYwkgB9C9CBQXz+iBD5Gf\n",
       "lN2V9IXXxBLCZ0xM8wM/RcZMgNJDwYqg/AB/AbWDtPTGtKxJoccGxRPCG8C5kFSRoIS8C92OoNQJ\n",
       "hPVJ1D1hLV6AlIfMIaPnEMIHIL+5pURaEtLU92YEVPgRTbGJa+Atm0KK9afeE8JX1td/Ndhef6B0\n",
       "SFgUkaAE6t55JwJaigtUpIr3isduKdnUBAHpLtJ7Yjf6gFAiXajuVRbT6eFMkgAPjyEBWRe3aL9M\n",
       "ZTyHetDdU7XafUaaibZF9oUwoxVctsOYaiPnBcsiqObXICGw2/fAxlsftrC0F5i4398PaWruJcgi\n",
       "K8ud/gyjSuvHRT+Mzba+hssEkMYMIkDRR8EQLtjGESobw2h7MNBHOmuJCxNHKIthZA6Gu/HX5jEK\n",
       "E5e9grmD5Q0RNYeRNhjUoFypE/g0fQP+AUhswppjDohyAAAAAElFTkSuQmCC\n",
       "\" style=\"display:inline;vertical-align:middle;\" /></a><br>"
      ],
      "text/plain": [
       "expr: (a , 2 , 3 , 4 , a , c , c , b , b)"
      ]
     },
     "execution_count": 2,
     "metadata": {},
     "output_type": "execute_result"
    }
   ],
   "source": [
    "# build up the expression from sub-expressions\n",
    "expr = ExprTuple(a, two, three, four, a, c, c, b, b)"
   ]
  },
  {
   "cell_type": "code",
   "execution_count": 3,
   "metadata": {},
   "outputs": [
    {
     "name": "stdout",
     "output_type": "stream",
     "text": [
      "Passed sanity check: built 'expr' is the same as the stored Expression.\n"
     ]
    }
   ],
   "source": [
    "# check that the built expression is the same as the stored expression\n",
    "%check_expr"
   ]
  },
  {
   "cell_type": "code",
   "execution_count": 4,
   "metadata": {},
   "outputs": [
    {
     "data": {
      "text/html": [
       "<table><tr><th>&nbsp;</th><th>core type</th><th>sub-expressions</th><th>expression</th></tr>\n",
       "<tr><td>0</td><td>ExprTuple</td><td>4, 1, 2, 3, 4, 5, 5, 6, 6</td><td><a class=\"ProveItLink\" href=\"expr.ipynb\"><img src=\"data:image/png;base64,iVBORw0KGgoAAAANSUhEUgAAAK8AAAAVBAMAAADC7aNVAAAAMFBMVEX////c3NwiIiJERESqqqqY\n",
       "mJh2dnZmZmYQEBDu7u4yMjJUVFTMzMyIiIi6uroAAAAs73DqAAAAAXRSTlMAQObYZgAAAldJREFU\n",
       "OMu1lT9oE1Ecx79JLn9eLpc7BKcMFhw6STvoKAaXDgre5CiHQwRFOSxtx1oUcdHeJF0kB7WDdLCL\n",
       "oJbQA0GELplEwZSrUylC0jYVA2p89+69d3eUxAxthrzP/d6773u/3+97d8CJ/crN49e8EfxtxiOp\n",
       "uWU/pI+18zK6+X8p8nYsBnmP0qv4fAVaN9zBRlumcnaEQxbX4uACWqIS74AJBrkudH4GaA9HENar\n",
       "cbgOFJz49BMHG6wWSkz49PIIwm0nDkvAbmL6tYN5X6wQuVijCN9MQKaK2aCgjXsLcsWE2HqVj1lD\n",
       "CFc+7xi8RbWWl4TV1htEkLOxQnnHyHSEbuknH2+LbrwAFy4v4BKPffKLYwkgB9C9CBQXz+iBD5Gf\n",
       "lN2V9IXXxBLCZ0xM8wM/RcZMgNJDwYqg/AB/AbWDtPTGtKxJoccGxRPCG8C5kFSRoIS8C92OoNQJ\n",
       "hPVJ1D1hLV6AlIfMIaPnEMIHIL+5pURaEtLU92YEVPgRTbGJa+Atm0KK9afeE8JX1td/Ndhef6B0\n",
       "SFgUkaAE6t55JwJaigtUpIr3isduKdnUBAHpLtJ7Yjf6gFAiXajuVRbT6eFMkgAPjyEBWRe3aL9M\n",
       "ZTyHetDdU7XafUaaibZF9oUwoxVctsOYaiPnBcsiqObXICGw2/fAxlsftrC0F5i4398PaWruJcgi\n",
       "K8ud/gyjSuvHRT+Mzba+hssEkMYMIkDRR8EQLtjGESobw2h7MNBHOmuJCxNHKIthZA6Gu/HX5jEK\n",
       "E5e9grmD5Q0RNYeRNhjUoFypE/g0fQP+AUhswppjDohyAAAAAElFTkSuQmCC\n",
       "\" style=\"display:inline;vertical-align:middle;\" /></a></td></tr>\n",
       "<tr><td>1</td><td>Literal</td><td></td><td><a class=\"ProveItLink\" href=\"../../../numeral/__pv_it/77d407a64829263cdc16415becd4c2293f77a4bf0/expr.ipynb\"><img src=\"data:image/png;base64,iVBORw0KGgoAAAANSUhEUgAAAAkAAAAOBAMAAAAPuiubAAAAMFBMVEX///+YmJh2dnbMzMwQEBAi\n",
       "IiLu7u6qqqqIiIhUVFS6urpEREQyMjJmZmbc3NwAAACOMKdoAAAAAXRSTlMAQObYZgAAAFBJREFU\n",
       "CNdj4Lt7egEDw0sGju8MDNMYGOIZGFwSGOYvYDifwHAfKAEUSQASzJ9ATJ4NIPI2iOCYACJrGfge\n",
       "MDBfYGB8wPBUSekqUPH//18ZAIliFhc3zESNAAAAAElFTkSuQmCC\n",
       "\" style=\"display:inline;vertical-align:middle;\" /></a></td></tr>\n",
       "<tr><td>2</td><td>Literal</td><td></td><td><a class=\"ProveItLink\" href=\"../../../numeral/__pv_it/9176d93c83afa2c995b614976e3cb49207102fa70/expr.ipynb\"><img src=\"data:image/png;base64,iVBORw0KGgoAAAANSUhEUgAAAAoAAAAOBAMAAADkjZCYAAAAMFBMVEX///+YmJju7u4QEBBUVFQy\n",
       "MjIiIiKIiIi6urpmZmbc3NyqqqpERER2dnbMzMwAAAB0GlNiAAAAAXRSTlMAQObYZgAAAE1JREFU\n",
       "CNdjYHh79zQDA9cEhv4CBt7fDPwJDNxgEgiAIkAQAsR8Vx1ATIbiBhDJ/ImB6wEDz0cG/U8gkj+A\n",
       "ge0XA7sAQ/8FBoadM6MZAEflFACalZ/OAAAAAElFTkSuQmCC\n",
       "\" style=\"display:inline;vertical-align:middle;\" /></a></td></tr>\n",
       "<tr><td>3</td><td>Literal</td><td></td><td><a class=\"ProveItLink\" href=\"../../../numeral/__pv_it/23412ce59ea7e77353d2f9225e02248e73651ca00/expr.ipynb\"><img src=\"data:image/png;base64,iVBORw0KGgoAAAANSUhEUgAAAAoAAAAPBAMAAAAv0UM9AAAALVBMVEX///9mZmaqqqru7u52dnYy\n",
       "MjKYmJjc3NwQEBCIiIhEREQiIiJUVFTMzMwAAACUDTcXAAAAAXRSTlMAQObYZgAAAD5JREFUCNdj\n",
       "YGBguMMAArtABGcXiCyLApEOIJKtAERaMoBIBxDJdAFEmjCASJ0zZ16cBCkF64KQPu/EwBwGACv6\n",
       "DSRgin9qAAAAAElFTkSuQmCC\n",
       "\" style=\"display:inline;vertical-align:middle;\" /></a></td></tr>\n",
       "<tr><td>4</td><td>Variable</td><td></td><td><a class=\"ProveItLink\" href=\"../../../../__pv_it/07527342713064c87612d00d8557c53d53d5324a0/expr.ipynb\"><img src=\"data:image/png;base64,iVBORw0KGgoAAAANSUhEUgAAAAsAAAAJBAMAAAAWSsseAAAAMFBMVEX///8yMjKqqqrMzMzu7u4i\n",
       "IiJmZmaYmJhEREQQEBC6urp2dnaIiIhUVFTc3NwAAAD87Fq/AAAAAXRSTlMAQObYZgAAAEhJREFU\n",
       "CNdjYOC7s2seAwPDygccHxgY+L4zsDUwMPB+YGA9wMDA38Dgb8DA8P4Agz6DA4O/AsNFJgMGxgKm\n",
       "MG6gyjunLE4xAAAZTBA5TB6DCwAAAABJRU5ErkJggg==\n",
       "\" style=\"display:inline;vertical-align:middle;\" /></a></td></tr>\n",
       "<tr><td>5</td><td>Variable</td><td></td><td><a class=\"ProveItLink\" href=\"../../../../__pv_it/cbdfda466482236edba0ce44ac7ef39cda0af7a40/expr.ipynb\"><img src=\"data:image/png;base64,iVBORw0KGgoAAAANSUhEUgAAAAkAAAAJBAMAAAASvxsjAAAALVBMVEX///9mZmbc3NxUVFSYmJhE\n",
       "REQiIiIyMjK6uroQEBDMzMyIiIh2dnbu7u4AAABgFDGoAAAAAXRSTlMAQObYZgAAADZJREFUCNdj\n",
       "YOA9s3sBA8PKBvYEBt7ZDKwODMwPGICALwBE6m0Asx0YGIDiAgw8QJUyu/cyAAAmuwmycZ8WfQAA\n",
       "AABJRU5ErkJggg==\n",
       "\" style=\"display:inline;vertical-align:middle;\" /></a></td></tr>\n",
       "<tr><td>6</td><td>Variable</td><td></td><td><a class=\"ProveItLink\" href=\"../../../../__pv_it/6840a4fa6c106149dc16a131294d0c5e44f1b0480/expr.ipynb\"><img src=\"data:image/png;base64,iVBORw0KGgoAAAANSUhEUgAAAAkAAAAOBAMAAAAPuiubAAAALVBMVEX///9mZmbMzMxERESYmJiI\n",
       "iIh2dna6urqqqqoyMjIiIiIQEBBUVFTu7u4AAAD9S1JeAAAAAXRSTlMAQObYZgAAAE1JREFUCNdj\n",
       "4D29gAEIOA+ASL4GEFl3AURmgQiGOaFHGBh4HzPwKTBwvGXgTmBgnMDAJ8DAJcBQ5wBSLncBJLWN\n",
       "gYGngRFoBO9REQYGAGrcDtUkVqASAAAAAElFTkSuQmCC\n",
       "\" style=\"display:inline;vertical-align:middle;\" /></a></td></tr>\n",
       "</table>\n"
      ],
      "text/plain": [
       "0. (a , 2 , 3 , 4 , a , c , c , b , b)\n",
       "   core type: ExprTuple\n",
       "   sub-expressions: 4, 1, 2, 3, 4, 5, 5, 6, 6\n",
       "1. 2\n",
       "   core type: Literal\n",
       "   sub-expressions: \n",
       "2. 3\n",
       "   core type: Literal\n",
       "   sub-expressions: \n",
       "3. 4\n",
       "   core type: Literal\n",
       "   sub-expressions: \n",
       "4. a\n",
       "   core type: Variable\n",
       "   sub-expressions: \n",
       "5. c\n",
       "   core type: Variable\n",
       "   sub-expressions: \n",
       "6. b\n",
       "   core type: Variable\n",
       "   sub-expressions: "
      ]
     },
     "execution_count": 4,
     "metadata": {},
     "output_type": "execute_result"
    }
   ],
   "source": [
    "# display the expression information\n",
    "expr.exprInfo()"
   ]
  },
  {
   "cell_type": "code",
   "execution_count": null,
   "metadata": {},
   "outputs": [],
   "source": []
  }
 ],
 "metadata": {
  "kernelspec": {
   "display_name": "Python 3",
   "language": "python",
   "name": "python3"
  }
 },
 "nbformat": 4,
 "nbformat_minor": 0
}
