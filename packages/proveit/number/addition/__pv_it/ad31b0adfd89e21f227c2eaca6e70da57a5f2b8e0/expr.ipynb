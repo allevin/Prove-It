{
 "cells": [
  {
   "cell_type": "markdown",
   "metadata": {},
   "source": [
    "Expression of type <a class=\"ProveItLink\" href=\"../../../../../../doc/html/api/proveit.logic.InSet.html\">InSet</a>\n",
    "=======================\n",
    "# from context <a class=\"ProveItLink\" href=\"../../_context_.ipynb\">proveit.number.addition</a>"
   ]
  },
  {
   "cell_type": "code",
   "execution_count": 1,
   "metadata": {},
   "outputs": [],
   "source": [
    "# import Expression classes needed to build the expression\n",
    "from proveit._common_ import b, c\n",
    "from proveit.logic import InSet\n",
    "from proveit.number import Complexes, Exp, five"
   ]
  },
  {
   "cell_type": "code",
   "execution_count": 2,
   "metadata": {},
   "outputs": [
    {
     "data": {
      "text/html": [
       "<strong id=\"expr\">expr:</strong> <a class=\"ProveItLink\" href=\"expr.ipynb\"><img src=\"data:image/png;base64,iVBORw0KGgoAAAANSUhEUgAAAJAAAAAZBAMAAAAs17qbAAAAMFBMVEX////c3NwiIiJERESqqqqY\n",
       "mJh2dnZmZmYQEBDu7u4yMjJUVFTMzMyIiIi6uroAAAAs73DqAAAAAXRSTlMAQObYZgAAAlZJREFU\n",
       "OMutVE1oE0EU/mKan80mm57tQYkH8SIB9eBB6KUXPTQnoR5K8VAvFlbBHPxBEelFrIvSIhZsKHiI\n",
       "gqygKEhxTyIWNHgp/gSqoBQvtVbRYJv65s3OLN0locLmsPnmm3nfvPe9mQFi+FmnJhuIRWjjL+IR\n",
       "Gu6NSWgRMQldWHDou3WfUh12TvT21IB5GE93hmaiDKYv0+d8ROPtvT+7bApYA+pAzg3PRxncF3SY\n",
       "fN3G1Lqb89BGgSor9ocXRBn8FLWNhGo1K8Cgm/USK8iSTctOOCrKWC1R8iVZ+ftSqSbAUJY+GTft\n",
       "FFx8I3g8sn2USbNr+xm/GvJJu0/INjBaBaqi/OZj3+TRpicNUQymxj5K1+Y+UBknuEkHVU/sr8FO\n",
       "d2m8iqKMf7mY440DJj+BWQYzZVBnDguYVOc4PzIQCE0APS1k2UXjGpIVATSDWw0cYDDoYBxYEvAm\n",
       "tNCXQKhNbtVQtAU2v/ukZvBcrTsL/AbeCLhUKkmzjfKLTULbbCxzIsWyT2oGq2rdbli/fKF5HVw3\n",
       "A6ErfGgucrt3NIJjJJnEenCMMi2/tBs6+CgLyaNCDpCv4zBEPGVRYaAYUBYpXrnGrh1jBypKKDlM\n",
       "W1t7GFNDzf6Mixlql2kj7TFQDJ4AJ40fBB7hHPz2G3t1Ss8OOXf2yYw+08TcGWrPCg2qzXcMAiYz\n",
       "1nSM69Tv6QWRxwOO2a4vb/70xlX/SciqQ/EJHYGl1vhXBEdm5RXZdO/UPdSFR0FK35Nub1f9P4Ru\n",
       "d3v2+uRfQY2jADqPh92EElt/agte57l/p4SiFEG7Q/AAAAAASUVORK5CYII=\n",
       "\" style=\"display:inline;vertical-align:middle;\" /></a><br>"
      ],
      "text/plain": [
       "expr: (b , c , b , c , b) in Complexes^{5}"
      ]
     },
     "execution_count": 2,
     "metadata": {},
     "output_type": "execute_result"
    }
   ],
   "source": [
    "# build up the expression from sub-expressions\n",
    "expr = InSet([b, c, b, c, b], Exp(Complexes, five))"
   ]
  },
  {
   "cell_type": "code",
   "execution_count": 3,
   "metadata": {},
   "outputs": [
    {
     "name": "stdout",
     "output_type": "stream",
     "text": [
      "Passed sanity check: built 'expr' is the same as the stored Expression.\n"
     ]
    }
   ],
   "source": [
    "# check that the built expression is the same as the stored expression\n",
    "%check_expr"
   ]
  },
  {
   "cell_type": "code",
   "execution_count": 4,
   "metadata": {},
   "outputs": [
    {
     "data": {
      "text/html": [
       "<table><tr><th>&nbsp;</th><th>core type</th><th>sub-expressions</th><th>expression</th></tr>\n",
       "<tr><td>0</td><td>Operation</td><td>operator:&nbsp;1<br>operands:&nbsp;2<br></td><td><a class=\"ProveItLink\" href=\"expr.ipynb\"><img src=\"data:image/png;base64,iVBORw0KGgoAAAANSUhEUgAAAJAAAAAZBAMAAAAs17qbAAAAMFBMVEX////c3NwiIiJERESqqqqY\n",
       "mJh2dnZmZmYQEBDu7u4yMjJUVFTMzMyIiIi6uroAAAAs73DqAAAAAXRSTlMAQObYZgAAAlZJREFU\n",
       "OMutVE1oE0EU/mKan80mm57tQYkH8SIB9eBB6KUXPTQnoR5K8VAvFlbBHPxBEelFrIvSIhZsKHiI\n",
       "gqygKEhxTyIWNHgp/gSqoBQvtVbRYJv65s3OLN0locLmsPnmm3nfvPe9mQFi+FmnJhuIRWjjL+IR\n",
       "Gu6NSWgRMQldWHDou3WfUh12TvT21IB5GE93hmaiDKYv0+d8ROPtvT+7bApYA+pAzg3PRxncF3SY\n",
       "fN3G1Lqb89BGgSor9ocXRBn8FLWNhGo1K8Cgm/USK8iSTctOOCrKWC1R8iVZ+ftSqSbAUJY+GTft\n",
       "FFx8I3g8sn2USbNr+xm/GvJJu0/INjBaBaqi/OZj3+TRpicNUQymxj5K1+Y+UBknuEkHVU/sr8FO\n",
       "d2m8iqKMf7mY440DJj+BWQYzZVBnDguYVOc4PzIQCE0APS1k2UXjGpIVATSDWw0cYDDoYBxYEvAm\n",
       "tNCXQKhNbtVQtAU2v/ukZvBcrTsL/AbeCLhUKkmzjfKLTULbbCxzIsWyT2oGq2rdbli/fKF5HVw3\n",
       "A6ErfGgucrt3NIJjJJnEenCMMi2/tBs6+CgLyaNCDpCv4zBEPGVRYaAYUBYpXrnGrh1jBypKKDlM\n",
       "W1t7GFNDzf6Mixlql2kj7TFQDJ4AJ40fBB7hHPz2G3t1Ss8OOXf2yYw+08TcGWrPCg2qzXcMAiYz\n",
       "1nSM69Tv6QWRxwOO2a4vb/70xlX/SciqQ/EJHYGl1vhXBEdm5RXZdO/UPdSFR0FK35Nub1f9P4Ru\n",
       "d3v2+uRfQY2jADqPh92EElt/agte57l/p4SiFEG7Q/AAAAAASUVORK5CYII=\n",
       "\" style=\"display:inline;vertical-align:middle;\" /></a></td></tr>\n",
       "<tr><td>1</td><td>Literal</td><td></td><td><a class=\"ProveItLink\" href=\"../../../../logic/set_theory/membership/__pv_it/088cbc857536a28d4119ad9639a84270ccb0545d0/expr.ipynb\"><img src=\"data:image/png;base64,iVBORw0KGgoAAAANSUhEUgAAAAwAAAAMBAMAAACkW0HUAAAALVBMVEX///+qqqpmZmZUVFQQEBC6\n",
       "urpERETc3NyYmJjMzMwiIiIyMjKIiIju7u4AAACYsrA9AAAAAXRSTlMAQObYZgAAADxJREFUCNdj\n",
       "YOA9vWrVBgaG2b0MQMCeCyIZ2ArA1DUwyRCyahVIyWQI7xaEYm4AU7xLIdxqTQgtvGvVBgCkcQ7e\n",
       "geM/tQAAAABJRU5ErkJggg==\n",
       "\" style=\"display:inline;vertical-align:middle;\" /></a></td></tr>\n",
       "<tr><td>2</td><td>ExprTuple</td><td>3, 4</td><td><a class=\"ProveItLink\" href=\"../25f78a0b9a4bd5b0c24822579775e8a16677a2720/expr.ipynb\"><img src=\"data:image/png;base64,iVBORw0KGgoAAAANSUhEUgAAAJQAAAAcBAMAAAB18YtSAAAAMFBMVEX///+qqqp2dnYiIiJERESI\n",
       "iIhmZmYQEBDc3NyYmJgyMjLu7u5UVFTMzMy6uroAAACGxKilAAAAAXRSTlMAQObYZgAAAnJJREFU\n",
       "SMetVU1oE0EYfUnNbrKbTXrVSxel3oQcpAgiRKgHwcNCab1UCIrgL9Z6lboHT9LDKj0plIAgaIss\n",
       "vYilmAhWrQgGz2KLHvw5GIutRmJSv5nd2Wa7EwgkA7vf+97Mvsx882YCdN0y555a6E3LbP0T8Ee3\n",
       "UrM2YDJklLuVWqPXB4YW3W6lzo65SLByrbCs87ql1nYySTtWBA4RmODT01/ldg5ZuiZlLrcQI4/+\n",
       "HCwAegMYBxSCmAO0aMnmpYy2nX5sYmGzrFXQBEouVJowW2i2P/LhupRJmcFa0w4wUFYryRrQ52CV\n",
       "OJUqX41UP1OXMvqESO+p9FLKcTdBK1LyOEnpd3r2RaYQz8mZoyItTDNlC3tPsyn+xBsKDM6Prvgj\n",
       "FgZP8agtjzsyZr8/Ti98Cs/4BIWHxG8gW+GcMYX7HJTyaMiYPf7Hhrm7Rcpo4AGFKSBWh+rV84mF\n",
       "4xwMuJiUMV8CqW+t7mpiiALtpVJEtsC5d6LzAvBbxqyKBebft0jp60Kqr4CqV5kN0TmEzF8ZI6Qw\n",
       "lw7PirnuKrfVFW6H5Oa2iZS6jBELxB0u5Zso2cALClQJqvkkdMbR76Z4f4NVz40wuCsEds2StTOH\n",
       "/R2sYQR8e9P9Shkl5puXwAH9F4HnuAQOQoxnBp7i7TH32bA/K/JVlcJn6ls+T1tVY/YdHHX1G3Sb\n",
       "LY054CDEAI+ZFEthnNm6Li6KeJG7SbX9/GtgOLst8A5OkIqmWUibLSfUCU5qexC3QqloJRtGzrtk\n",
       "OpZahFRqxj+d016aCDqs9uB1OBXtCD23mCk6v5ATFfk9zY5KzOzFn+FN/r7dC6mL6GX7D+kItw7x\n",
       "OdP9AAAAAElFTkSuQmCC\n",
       "\" style=\"display:inline;vertical-align:middle;\" /></a></td></tr>\n",
       "<tr><td>3</td><td>ExprTuple</td><td>6, 5, 6, 5, 6</td><td><a class=\"ProveItLink\" href=\"../0e04416b1fda941538e804eaac58fc0080e9de8b0/expr.ipynb\"><img src=\"data:image/png;base64,iVBORw0KGgoAAAANSUhEUgAAAF4AAAAVBAMAAAA9Y0TyAAAAMFBMVEX////c3NwiIiJERESqqqqY\n",
       "mJh2dnZmZmYQEBDu7u4yMjJUVFTMzMyIiIi6uroAAAAs73DqAAAAAXRSTlMAQObYZgAAAVRJREFU\n",
       "KM+Vkz1IA0EQhT9/8k9y9hba2abQPrWNV1sFC23TmEIFRSSdklJMERsLESSCgk0gpZDCdCISiFZi\n",
       "E0VFAiLObE6EGzDxYPfefTMsbx578N8n0xq6NdKRrUnicjpUsITKtmwbso4hWQtXLeFEMaTFjpcL\n",
       "Fy3hTQ3liZehWw4XLcn01OcWT/JaModZEnUTzVJUa+2LYM7ldqNv1pBk/c6HFY6EveL14VUn6Y6x\n",
       "hGqWT5hnD8Z7xPOubZcxX4UlLJQpwSNfEDvEKyhLPQdmLWENPuBa+0cLdN0hXjYoWsIMmXft33Fh\n",
       "b7r8plq/8YeIxB/rqZ85dLQSCW2TM30nDJFhdaJFSYhULlajKjGkCkQbThjCOetong8SQn0V9l/k\n",
       "s9i+dcISKjc60CnxicDgPYOF3IdIPtA+g0W05e7z0P0Hsib7Mv3D/hCcyRoZ/n9MN/gG+Zlxfll0\n",
       "bSoAAAAASUVORK5CYII=\n",
       "\" style=\"display:inline;vertical-align:middle;\" /></a></td></tr>\n",
       "<tr><td>4</td><td>Operation</td><td>operator:&nbsp;7<br>operands:&nbsp;8<br></td><td><a class=\"ProveItLink\" href=\"../1d5ca85bb291b50723080d0d449bfc191044913a0/expr.ipynb\"><img src=\"data:image/png;base64,iVBORw0KGgoAAAANSUhEUgAAABcAAAAUBAMAAACUkLs9AAAAMFBMVEX////c3NyqqqqYmJhUVFR2\n",
       "dnbu7u66urrMzMxmZmZEREQQEBAyMjIiIiKIiIgAAAB7fvZ0AAAAAXRSTlMAQObYZgAAAJZJREFU\n",
       "GNNjYICCSjE7Bjio/++A4BQXItgM5Uhshsp30xAcQQYdEMV35/zelUA6v4GBgaO+gC3+CcMJBv4C\n",
       "BgYDZwYGpi8MOxjkBRiYEzYAlUxhCGN4wsDAyQiyLI+BNTKAgSGTPQBhZCuTARKHHYmTxYGkjCcB\n",
       "ybXMASAOG5S3uA5I1CZAOCxez9iqlsEUdt7/7Q5hAQDDzB+JAiNuCgAAAABJRU5ErkJggg==\n",
       "\" style=\"display:inline;vertical-align:middle;\" /></a></td></tr>\n",
       "<tr><td>5</td><td>Variable</td><td></td><td><a class=\"ProveItLink\" href=\"../../../../__pv_it/cbdfda466482236edba0ce44ac7ef39cda0af7a40/expr.ipynb\"><img src=\"data:image/png;base64,iVBORw0KGgoAAAANSUhEUgAAAAkAAAAJBAMAAAASvxsjAAAALVBMVEX///9mZmbc3NxUVFSYmJhE\n",
       "REQiIiIyMjK6uroQEBDMzMyIiIh2dnbu7u4AAABgFDGoAAAAAXRSTlMAQObYZgAAADZJREFUCNdj\n",
       "YOA9s3sBA8PKBvYEBt7ZDKwODMwPGICALwBE6m0Asx0YGIDiAgw8QJUyu/cyAAAmuwmycZ8WfQAA\n",
       "AABJRU5ErkJggg==\n",
       "\" style=\"display:inline;vertical-align:middle;\" /></a></td></tr>\n",
       "<tr><td>6</td><td>Variable</td><td></td><td><a class=\"ProveItLink\" href=\"../../../../__pv_it/6840a4fa6c106149dc16a131294d0c5e44f1b0480/expr.ipynb\"><img src=\"data:image/png;base64,iVBORw0KGgoAAAANSUhEUgAAAAkAAAAOBAMAAAAPuiubAAAALVBMVEX///9mZmbMzMxERESYmJiI\n",
       "iIh2dna6urqqqqoyMjIiIiIQEBBUVFTu7u4AAAD9S1JeAAAAAXRSTlMAQObYZgAAAE1JREFUCNdj\n",
       "4D29gAEIOA+ASL4GEFl3AURmgQiGOaFHGBh4HzPwKTBwvGXgTmBgnMDAJ8DAJcBQ5wBSLncBJLWN\n",
       "gYGngRFoBO9REQYGAGrcDtUkVqASAAAAAElFTkSuQmCC\n",
       "\" style=\"display:inline;vertical-align:middle;\" /></a></td></tr>\n",
       "<tr><td>7</td><td>Literal</td><td></td><td><a class=\"ProveItLink\" href=\"../../../exponentiation/__pv_it/deb2bf23cbccdd6e6791e1b35b5b9794ce12dbd50/expr.ipynb\"><img src=\"data:image/png;base64,iVBORw0KGgoAAAANSUhEUgAAACgAAAASBAMAAADbMYGVAAAAMFBMVEX///8QEBAiIiKYmJjc3Nzu\n",
       "7u7MzMx2dnZmZma6urpERESqqqoyMjJUVFSIiIgAAAAoDOMTAAAAAXRSTlMAQObYZgAAAOBJREFU\n",
       "GNNjYGB4+//u3Tt/GNAASGAXmhjnPyDBgSbI/g1IxKEJ8nxgYGdgQRPkX8BgDKRY6q7s62OYvmze\n",
       "2wAgb/7ZO1+AVDiDkYEQQ0HTBr4DQF59AgOIKmB4z7CNbcNZBu6vQN55kEACQwDDLQYGVobfDHwg\n",
       "fb8YGBxYHwAZciD3fWXg+gB1JjvQcJZvQIXsCgz8F6DO9GBgMOH7wPCUgaeBwd4B7EwGNjUG7s9c\n",
       "AiwPgO5jkWRgiF3/9+5dfQUG1nWl5Y+B7pv+1gE9bBhqGLCAE1jEWH9jEbT5A3IwAC4sP/1L6Qlu\n",
       "AAAAAElFTkSuQmCC\n",
       "\" style=\"display:inline;vertical-align:middle;\" /></a></td></tr>\n",
       "<tr><td>8</td><td>ExprTuple</td><td>9, 10</td><td><a class=\"ProveItLink\" href=\"../7b5508e04b247401485fb3cbfb9e6c01a4389fb40/expr.ipynb\"><img src=\"data:image/png;base64,iVBORw0KGgoAAAANSUhEUgAAAC8AAAAVBAMAAAAk6KpUAAAAMFBMVEX////c3NwiIiJERESqqqqY\n",
       "mJh2dnZmZmYQEBDu7u4yMjJUVFTMzMyIiIi6uroAAAAs73DqAAAAAXRSTlMAQObYZgAAASRJREFU\n",
       "KM9jYMAJ+C5gisWBiNNAzKu1vskcIsYVyZjCwH4AyFrJwMDz/gFn/m2IBMf//wkMDAuAioEmBWxl\n",
       "YGD5DdVRnQMkw4AqJjCwTmgAsqshEtxgcgYDwysGBnbGDUD2XGQJZgeGMgaG6XwJCAdx3739gIGB\n",
       "rYBhKQPDMZYAhATzBM5/QBsXMPQBJfgCUHyxA+i5Bgag9GSeBBSJ/AMMPB9AElwTNiBEjYASD0AS\n",
       "LQwMrAkgCU6IRBMDQ70AyChTIMf0LZB4NAEsVcDAsAqodgFDOsiJm29yPrZkmK8AZIszsDSCnfsI\n",
       "pOy4/o99QO9+BDJ5yncLAK19wMAhgLD4IZw1A2QzQgLhnVxIsGNIcAKDnUEaLs6LCDCQ+YxYovYO\n",
       "AwMAlNdEY4sgu8kAAAAASUVORK5CYII=\n",
       "\" style=\"display:inline;vertical-align:middle;\" /></a></td></tr>\n",
       "<tr><td>9</td><td>Literal</td><td></td><td><a class=\"ProveItLink\" href=\"../../../sets/complex/__pv_it/c357845f93a5a2d9f649129d299e7ec28dda4b960/expr.ipynb\"><img src=\"data:image/png;base64,iVBORw0KGgoAAAANSUhEUgAAAA8AAAAOBAMAAAACpFvcAAAAMFBMVEX////c3NyqqqqYmJhUVFR2\n",
       "dnbu7u66urrMzMxmZmZEREQQEBAyMjIiIiKIiIgAAAB7fvZ0AAAAAXRSTlMAQObYZgAAAGVJREFU\n",
       "CNdjYGDgu3N+70oGBgaO+gK2+CdAhoEzAwPTFwYG5oQNQN4UBgZORgcgI4+BIZM9gAEMWpkMoAx2\n",
       "KCOLAyrFk+AAYTAHgBhsQLy4DkjUJjAwsHg9Y6taBpLsvP/bnYEBACkBFGQfBv8RAAAAAElFTkSu\n",
       "QmCC\n",
       "\" style=\"display:inline;vertical-align:middle;\" /></a></td></tr>\n",
       "<tr><td>10</td><td>Literal</td><td></td><td><a class=\"ProveItLink\" href=\"../../../numeral/__pv_it/aaeeaca7d86eb2b7cdc49e25c3108b81b52ec5400/expr.ipynb\"><img src=\"data:image/png;base64,iVBORw0KGgoAAAANSUhEUgAAAAkAAAAOBAMAAAAPuiubAAAAMFBMVEX///8iIiJERES6urqIiIjM\n",
       "zMxUVFRmZmYQEBCqqqp2dnbc3Nzu7u6YmJgyMjIAAADYGhJvAAAAAXRSTlMAQObYZgAAAE1JREFU\n",
       "CNdj4LvDvZKBgeP//wUMDHxlSxkYGNgYGBCki5sBAwPTAZ7PYG4GmFwfwKAIJA0YGhkY6jcwFDAw\n",
       "vGNg2M7A2c3AwFqetoEBAKS8EE1WXEJLAAAAAElFTkSuQmCC\n",
       "\" style=\"display:inline;vertical-align:middle;\" /></a></td></tr>\n",
       "</table>\n"
      ],
      "text/plain": [
       "0. (b , c , b , c , b) in Complexes^{5}\n",
       "   core type: Operation\n",
       "   operator: 1\n",
       "   operands: 2\n",
       "1. in\n",
       "   core type: Literal\n",
       "   sub-expressions: \n",
       "2. ((b , c , b , c , b) , Complexes^{5})\n",
       "   core type: ExprTuple\n",
       "   sub-expressions: 3, 4\n",
       "3. (b , c , b , c , b)\n",
       "   core type: ExprTuple\n",
       "   sub-expressions: 6, 5, 6, 5, 6\n",
       "4. Complexes^{5}\n",
       "   core type: Operation\n",
       "   operator: 7\n",
       "   operands: 8\n",
       "5. c\n",
       "   core type: Variable\n",
       "   sub-expressions: \n",
       "6. b\n",
       "   core type: Variable\n",
       "   sub-expressions: \n",
       "7. Exp\n",
       "   core type: Literal\n",
       "   sub-expressions: \n",
       "8. (Complexes , 5)\n",
       "   core type: ExprTuple\n",
       "   sub-expressions: 9, 10\n",
       "9. Complexes\n",
       "   core type: Literal\n",
       "   sub-expressions: \n",
       "10. 5\n",
       "    core type: Literal\n",
       "    sub-expressions: "
      ]
     },
     "execution_count": 4,
     "metadata": {},
     "output_type": "execute_result"
    }
   ],
   "source": [
    "# display the expression information\n",
    "expr.exprInfo()"
   ]
  },
  {
   "cell_type": "code",
   "execution_count": null,
   "metadata": {},
   "outputs": [],
   "source": []
  }
 ],
 "metadata": {
  "kernelspec": {
   "display_name": "Python 3",
   "language": "python",
   "name": "python3"
  }
 },
 "nbformat": 4,
 "nbformat_minor": 0
}
