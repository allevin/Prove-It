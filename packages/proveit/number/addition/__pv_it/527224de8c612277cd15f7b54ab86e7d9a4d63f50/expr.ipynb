{
 "cells": [
  {
   "cell_type": "markdown",
   "metadata": {},
   "source": [
    "Expression of type <a class=\"ProveItLink\" href=\"../../../../../../doc/html/api/proveit.ExprTuple.html\">ExprTuple</a>\n",
    "=======================\n",
    "# from context <a class=\"ProveItLink\" href=\"../../_context_.ipynb\">proveit.number.addition</a>"
   ]
  },
  {
   "cell_type": "code",
   "execution_count": 1,
   "metadata": {},
   "outputs": [],
   "source": [
    "# import Expression classes needed to build the expression\n",
    "from proveit import ExprTuple\n",
    "from proveit._common_ import a, b, c\n",
    "from proveit.number import Add"
   ]
  },
  {
   "cell_type": "code",
   "execution_count": 2,
   "metadata": {},
   "outputs": [
    {
     "data": {
      "text/html": [
       "<strong id=\"expr\">expr:</strong> <a class=\"ProveItLink\" href=\"expr.ipynb\"><img src=\"data:image/png;base64,iVBORw0KGgoAAAANSUhEUgAAAd8AAAAVBAMAAAD1KvkNAAAAMFBMVEX////c3NwiIiJERESqqqqY\n",
       "mJh2dnZmZmYQEBDu7u4yMjJUVFTMzMyIiIi6uroAAAAs73DqAAAAAXRSTlMAQObYZgAAAvJJREFU\n",
       "WMPlmD9oE1Ecx79p/l5i/uwdmq0uQgY7isFRlN7k4CDBwUxKQMyggqkUB8ESt2KHBKGDF5AICiIE\n",
       "Ay6CQzMpoimxUxClkaZIIBbvkjvT3/3uz7sYVPANl+Nzud8nv3fv9967AP9dS7T+eW2wMyPpBe3w\n",
       "Ztq7N267AafmSXvTzSQ9T4vECTfVw6Op+6vmChyaJ23U1RStCwWqAnEytKSU+SsOpG+Q+3YAtsCb\n",
       "NphzMyWzdiYS6RwQKR++GmCVZU8SA4OctQGTxoA3rVRyM+2W7Uwk0jrwGdMmHEqbrAw4JOxRe9zN\n",
       "dBFCCfuzKKofvsaVFXqVE8y/7aYIiTY+yETCAKRL7aY1KApKdJKHi6nWfmajNiKNQKiATfW8m/L3\n",
       "qJmTxApOUlLJYEgkDOB1J5q2BpuCEp2chrNJ2kOyaW0yIo1AoIo1taf3Ec4QDydYkHGVkuUy7hAr\n",
       "A9I9+GVrsCYo0UkXzqbAAJGctUmPNAaJEg6AWA9zLeLhBC+BY5RcB74TKwOxnqmyJuBAUKKTLTib\n",
       "wlUkC9amSUpqO9LTzMkMKtp4CCvKw7uKUrci2IM0pGQRiX1NrihHFaVmBZLjB8jAOGEhiU624Gya\n",
       "K2BXtjCRlMYJr6rDpoVllA93Bye+Hwj0JNL5fYQHpJsZWGiZnvAErIpJDGIa0sykLsO3ytamSUra\n",
       "lFDCkjoFZPEiQKY0TqQ+YtUzJOGhUTaGhIGk2ukyA6OMlsQkBjkPF1PTVNQTtR5pDIJVbcKPyoHF\n",
       "EOkOTtRp9VQhR8hT3KA/g4FYAaEmAxVt9swLSnSSdzNlw3UbtVHDI6AuSzvaerj9apvO0oxgvv3l\n",
       "RIeQjXcytTKAYvs9B+vf1JMdQYlOHruYpMY1O7URaQSiHURS0+60HPZRzuCTtrX0pDVvLb2ozVvL\n",
       "X/tym7dUEfLVG5DhVRtqTWdikS7/1uvhtE32/Hr4YEZmqapVyZ/ONz4uTi+3PJmROqYVku/v/MXj\n",
       "RRtvzkj6EfgJTBGRNGi9DUUAAAAASUVORK5CYII=\n",
       "\" style=\"display:inline;vertical-align:middle;\" /></a><br>"
      ],
      "text/plain": [
       "expr: (a + a + a + b + b + c + c , (a + a + a) + b + b + c + c)"
      ]
     },
     "execution_count": 2,
     "metadata": {},
     "output_type": "execute_result"
    }
   ],
   "source": [
    "# build up the expression from sub-expressions\n",
    "expr = ExprTuple(Add(a, a, a, b, b, c, c), Add(Add(a, a, a), b, b, c, c))"
   ]
  },
  {
   "cell_type": "code",
   "execution_count": 3,
   "metadata": {},
   "outputs": [
    {
     "name": "stdout",
     "output_type": "stream",
     "text": [
      "Passed sanity check: built 'expr' is the same as the stored Expression.\n"
     ]
    }
   ],
   "source": [
    "# check that the built expression is the same as the stored expression\n",
    "%check_expr"
   ]
  },
  {
   "cell_type": "code",
   "execution_count": 4,
   "metadata": {},
   "outputs": [
    {
     "data": {
      "text/html": [
       "<table><tr><th>&nbsp;</th><th>core type</th><th>sub-expressions</th><th>expression</th></tr>\n",
       "<tr><td>0</td><td>ExprTuple</td><td>1, 2</td><td><a class=\"ProveItLink\" href=\"expr.ipynb\"><img src=\"data:image/png;base64,iVBORw0KGgoAAAANSUhEUgAAAd8AAAAVBAMAAAD1KvkNAAAAMFBMVEX////c3NwiIiJERESqqqqY\n",
       "mJh2dnZmZmYQEBDu7u4yMjJUVFTMzMyIiIi6uroAAAAs73DqAAAAAXRSTlMAQObYZgAAAvJJREFU\n",
       "WMPlmD9oE1Ecx79p/l5i/uwdmq0uQgY7isFRlN7k4CDBwUxKQMyggqkUB8ESt2KHBKGDF5AICiIE\n",
       "Ay6CQzMpoimxUxClkaZIIBbvkjvT3/3uz7sYVPANl+Nzud8nv3fv9967AP9dS7T+eW2wMyPpBe3w\n",
       "Ztq7N267AafmSXvTzSQ9T4vECTfVw6Op+6vmChyaJ23U1RStCwWqAnEytKSU+SsOpG+Q+3YAtsCb\n",
       "NphzMyWzdiYS6RwQKR++GmCVZU8SA4OctQGTxoA3rVRyM+2W7Uwk0jrwGdMmHEqbrAw4JOxRe9zN\n",
       "dBFCCfuzKKofvsaVFXqVE8y/7aYIiTY+yETCAKRL7aY1KApKdJKHi6nWfmajNiKNQKiATfW8m/L3\n",
       "qJmTxApOUlLJYEgkDOB1J5q2BpuCEp2chrNJ2kOyaW0yIo1AoIo1taf3Ec4QDydYkHGVkuUy7hAr\n",
       "A9I9+GVrsCYo0UkXzqbAAJGctUmPNAaJEg6AWA9zLeLhBC+BY5RcB74TKwOxnqmyJuBAUKKTLTib\n",
       "wlUkC9amSUpqO9LTzMkMKtp4CCvKw7uKUrci2IM0pGQRiX1NrihHFaVmBZLjB8jAOGEhiU624Gya\n",
       "K2BXtjCRlMYJr6rDpoVllA93Bye+Hwj0JNL5fYQHpJsZWGiZnvAErIpJDGIa0sykLsO3ytamSUra\n",
       "lFDCkjoFZPEiQKY0TqQ+YtUzJOGhUTaGhIGk2ukyA6OMlsQkBjkPF1PTVNQTtR5pDIJVbcKPyoHF\n",
       "EOkOTtRp9VQhR8hT3KA/g4FYAaEmAxVt9swLSnSSdzNlw3UbtVHDI6AuSzvaerj9apvO0oxgvv3l\n",
       "RIeQjXcytTKAYvs9B+vf1JMdQYlOHruYpMY1O7URaQSiHURS0+60HPZRzuCTtrX0pDVvLb2ozVvL\n",
       "X/tym7dUEfLVG5DhVRtqTWdikS7/1uvhtE32/Hr4YEZmqapVyZ/ONz4uTi+3PJmROqYVku/v/MXj\n",
       "RRtvzkj6EfgJTBGRNGi9DUUAAAAASUVORK5CYII=\n",
       "\" style=\"display:inline;vertical-align:middle;\" /></a></td></tr>\n",
       "<tr><td>1</td><td>Operation</td><td>operator:&nbsp;8<br>operands:&nbsp;3<br></td><td><a class=\"ProveItLink\" href=\"../b2d61e9f0f76329ae0e04b0459fb2224298444390/expr.ipynb\"><img src=\"data:image/png;base64,iVBORw0KGgoAAAANSUhEUgAAAN0AAAAQBAMAAABgnGdDAAAAMFBMVEX///8yMjKqqqrMzMzu7u4i\n",
       "IiJmZmaYmJhEREQQEBC6urp2dnaIiIhUVFTc3NwAAAD87Fq/AAAAAXRSTlMAQObYZgAAAZhJREFU\n",
       "OMu11LFKw0AYB/B/QhpqSpPeIE6FgrgJzahbXqC2U0FwSCcFEfMIfQBBHJyUUnAqCO3ioksGcdAI\n",
       "1UWEgH2B0tIW28HBlvQkd+lRbfGWgx/8vy93HxdgsZU750B5L+A/V5oHqfnXEkprvmBnuvd4MDIc\n",
       "RCL8kt35gs1g0wYcoG5xwEeW6pco8NVu8Lt+un9b4aq3n2otgdCw5D87bLW098aCcueZM6DWinfZ\n",
       "floFpyKh4XwZfQaUEQy2/HZVKkRBH0Its9U7Dg5EQsNZCxcMyAOsNJgPuETciUKyi5jLVv8A9kRC\n",
       "wyXgkwE1BcMOQ7LLzS8Ao4z85B5UQlbPCJk8ohGU/kxBiZBdQiZPrwhtyEDMRt0JgxHcGg8dF1lY\n",
       "4dPoX5C7ikDox/agDhgYP79jKwwdlztfAPkMXmQzXF3pIZlaFwgN9+m0fvqZ3ECN8WmdKEiOXEyw\n",
       "01rDht0QCA2/4oibTkZtsmAjYUZB9x+3Htl+be/qpCoQGs49OGw/xd/nnvehdy+ABf4vS8F0ae58\n",
       "wfVy8A06eo/dWEdoHgAAAABJRU5ErkJggg==\n",
       "\" style=\"display:inline;vertical-align:middle;\" /></a></td></tr>\n",
       "<tr><td>2</td><td>Operation</td><td>operator:&nbsp;8<br>operands:&nbsp;4<br></td><td><a class=\"ProveItLink\" href=\"../e03750380b5d42aeb4d49a4cda23fd0079cee38d0/expr.ipynb\"><img src=\"data:image/png;base64,iVBORw0KGgoAAAANSUhEUgAAAOsAAAAVBAMAAABVvASPAAAAMFBMVEX////c3NwiIiJERESqqqqY\n",
       "mJh2dnZmZmYQEBDu7u4yMjJUVFTMzMyIiIi6uroAAAAs73DqAAAAAXRSTlMAQObYZgAAAgtJREFU\n",
       "SMfFljFIG1EYx/8xl1xegrnsGcwWFyGDHaWhY2nx5k7Bod0kUHSwgqYUB6FyrnVQCg49QRQqiBB6\n",
       "0KXQwUxKkUhwClIxkAQJpKUvJob7vnuhORpoIOS9Xz6+X9777nsvwH96xUvDx4YqI9N+9xO8zOZb\n",
       "bxkQx6nhMn3yo41ysOeJOBgq0TjZY5Hg31MSyvUGm73PBhgwsgwAKhCx3DPNU2hKxGpv8Lz3YLRA\n",
       "AW4tBgAVuIYfLaZpjnCKJ53DUNpF+Q4U5wtMkjyrJlTkFc0RLV6YNOle+YgC8bLseMGuHFQTwRrV\n",
       "xgt4rCRPqXY7gzYBog6DWr5Voikv2JCLbULPUMmEiddKUqXaWQtrBGgtRHLkd7xH0PSC30CshrES\n",
       "lXwBppTklGqXgDsC9B0YeTeI1Vhtu0BqjQy2Oxuj2/bHddvuNF4doq0k99ol25607U7LphFvEjCW\n",
       "x63pBkZ3Hzl4J/evhFlY7rUFfkGrCRVhm9yA3iJAtu2K5QYTJbbaLngkn4ssTjTHLRENxHaeqcgL\n",
       "mqP9UMm+1mHFNuTaTS+QHRE1tXSYVnIXT/I5FWEN9BlvWOWy+gEFeYQdL7jqtO3l10uqTZZ/zlRU\n",
       "ZJ9ats5NCkRxgZ0Oi+UfChBJ/MvhOOAM+jvoH+4DLl9Kwg+zGx7nF/i6+D6M7JpP+gk+HJk24ONP\n",
       "zbgzIukfDu6/sqm810YAAAAASUVORK5CYII=\n",
       "\" style=\"display:inline;vertical-align:middle;\" /></a></td></tr>\n",
       "<tr><td>3</td><td>ExprTuple</td><td>10, 10, 10, 6, 6, 7, 7</td><td><a class=\"ProveItLink\" href=\"../21d328a7b1f29d8544bbc8619513c01c1fa433440/expr.ipynb\"><img src=\"data:image/png;base64,iVBORw0KGgoAAAANSUhEUgAAAIgAAAAVBAMAAABvbLv8AAAAMFBMVEX////c3NwiIiJERESqqqqY\n",
       "mJh2dnZmZmYQEBDu7u4yMjJUVFTMzMyIiIi6uroAAAAs73DqAAAAAXRSTlMAQObYZgAAAXdJREFU\n",
       "OMut1DFLw0AYBuC3tWmS1jTZHezm2kH3zi5mdgouLla66CSoII61kxSXiuAggtRBFKEYcHQwP8AW\n",
       "dSourYYODoqXXFJzl6MB68EdTy6573L3HQf8Syk4k42XnknzkPCRelPkwJUtUs+Spsq1eHDvAS1x\n",
       "NXqZB7ceC0o9KUi/zoNb7w7eEnduJQauzGOTtKn2+i59Fum8c8UBh5WnCFZxStgzpga0UyDVhW4z\n",
       "wHQNJxEsokYmHUIu0ekFynxCsRig4WAhgh6+gfwAaZojkeRj6FUGuAt3g+LRC6KX0KT/KVK6ir7J\n",
       "AG4YxA2C7AGzDpbgp08kcjq2WaS+ghgBet6ammXcZmwVYpHN3AcDDMkJ82fwgWWSH+TMzFwWzaJY\n",
       "+bLcYoFrYE39COCl+NU7Et37LhrvYqntDbCAXOnU1QODAriAYoS79IIxiqNg/B57yQp7TYxRHFKI\n",
       "rBO5Cv4a5IjUmcDaaKRAcWB0hVx6yZ7wetRs/AAPmpe2vWp2AgAAAABJRU5ErkJggg==\n",
       "\" style=\"display:inline;vertical-align:middle;\" /></a></td></tr>\n",
       "<tr><td>4</td><td>ExprTuple</td><td>5, 6, 6, 7, 7</td><td><a class=\"ProveItLink\" href=\"../ff9f107c2e783512aaf10171b91a277fb3fe566e0/expr.ipynb\"><img src=\"data:image/png;base64,iVBORw0KGgoAAAANSUhEUgAAAKkAAAAVBAMAAADP89MSAAAAMFBMVEX////c3NwiIiJERESqqqqY\n",
       "mJh2dnZmZmYQEBDu7u4yMjJUVFTMzMyIiIi6uroAAAAs73DqAAAAAXRSTlMAQObYZgAAAdRJREFU\n",
       "OMu1lTtIw1AYhU/tI01ik+4O7eYkdHEUi7NgJkcpDjoJAbGDDj6QDoLaUejQIDgYlw4KLsWOgksn\n",
       "RbRQnUSEVluRQhXvzaNtmjQYqBmSL+cmJ3/O/W8C/M8mlIdsuEB3N17vyu0YwF7GncaZEtmdei7m\n",
       "zASu4DiuABFLAGy0/xK7gqYJYtLRdR4IZ3uFgC1kuyK0TKplHV2PgFd4dQ110lx0TsifRJoex25f\n",
       "olYPF4UrPkhGwJULI6alSqkLIRkn9J22MW2tzE3JJ9DWLRoQdbPrKhfvQkDBAeGYhFWrh5syl0VG\n",
       "H2ohnNLs9+GXuiBs4YecXAETVg83ZR340htTgShT4OtGSjqM1jXXBlj6ToyqHu+pasFNIds4hE8N\n",
       "RmTUtBLFhNlqCcN1F/B9I1BneytzVZpgWma7bmq9FTNnVAeSwCRJowleme31GKhQkzZNkwKZqgzo\n",
       "k0RSsdQBBBUsk5MTzMgpS4oDFPaD0Dk2oAGfZArIk8nnZYRKHaCd9UxbsfI2VbV4DFDYQ9KyuTsJ\n",
       "GrDFNbKQ3slgunLfBXBVhKNe1pYQ7Qc82YCs2GDK/WNrVYI2gGSDFa9fwr+4sgoNzItr2QYRG/A0\n",
       "HN+w/zCPwC96z6n7RsTHzQAAAABJRU5ErkJggg==\n",
       "\" style=\"display:inline;vertical-align:middle;\" /></a></td></tr>\n",
       "<tr><td>5</td><td>Operation</td><td>operator:&nbsp;8<br>operands:&nbsp;9<br></td><td><a class=\"ProveItLink\" href=\"../8b02a79cc69ba0e06d7974414b19accbdafb48490/expr.ipynb\"><img src=\"data:image/png;base64,iVBORw0KGgoAAAANSUhEUgAAAFQAAAAOBAMAAABDUCZjAAAAMFBMVEX///8yMjKqqqrMzMzu7u4i\n",
       "IiJmZmaYmJhEREQQEBC6urp2dnaIiIhUVFTc3NwAAAD87Fq/AAAAAXRSTlMAQObYZgAAANBJREFU\n",
       "KM9jYEAAPwZ0wPKAATvQwRBhOkCuUr47u+ahKkWIwJW+Pb0S6JaVDzg+oCpFiMCUcs1j6Aca8Z2B\n",
       "rQFFKZIITOn7AoYMBgbeDwysB1CUIonAlN5nYIhhYOBvYPA3APISBQUjBQVlGRAibIKCohMFBS8A\n",
       "mT8YWD4DzT7AoM/ggGwqkgjUVL4/DEwfWBj8FRguMhkgK0USgSpl+cTAK6DMwFjAFMaN4lYkEZhb\n",
       "xRlUEzYAA/GUxSnUEECIwJS+PbO4ZwGZEbsGQ4QLWSkAC35BoQnyJ2sAAAAASUVORK5CYII=\n",
       "\" style=\"display:inline;vertical-align:middle;\" /></a></td></tr>\n",
       "<tr><td>6</td><td>Variable</td><td></td><td><a class=\"ProveItLink\" href=\"../../../../__pv_it/6840a4fa6c106149dc16a131294d0c5e44f1b0480/expr.ipynb\"><img src=\"data:image/png;base64,iVBORw0KGgoAAAANSUhEUgAAAAkAAAAOBAMAAAAPuiubAAAALVBMVEX///9mZmbMzMxERESYmJiI\n",
       "iIh2dna6urqqqqoyMjIiIiIQEBBUVFTu7u4AAAD9S1JeAAAAAXRSTlMAQObYZgAAAE1JREFUCNdj\n",
       "4D29gAEIOA+ASL4GEFl3AURmgQiGOaFHGBh4HzPwKTBwvGXgTmBgnMDAJ8DAJcBQ5wBSLncBJLWN\n",
       "gYGngRFoBO9REQYGAGrcDtUkVqASAAAAAElFTkSuQmCC\n",
       "\" style=\"display:inline;vertical-align:middle;\" /></a></td></tr>\n",
       "<tr><td>7</td><td>Variable</td><td></td><td><a class=\"ProveItLink\" href=\"../../../../__pv_it/cbdfda466482236edba0ce44ac7ef39cda0af7a40/expr.ipynb\"><img src=\"data:image/png;base64,iVBORw0KGgoAAAANSUhEUgAAAAkAAAAJBAMAAAASvxsjAAAALVBMVEX///9mZmbc3NxUVFSYmJhE\n",
       "REQiIiIyMjK6uroQEBDMzMyIiIh2dnbu7u4AAABgFDGoAAAAAXRSTlMAQObYZgAAADZJREFUCNdj\n",
       "YOA9s3sBA8PKBvYEBt7ZDKwODMwPGICALwBE6m0Asx0YGIDiAgw8QJUyu/cyAAAmuwmycZ8WfQAA\n",
       "AABJRU5ErkJggg==\n",
       "\" style=\"display:inline;vertical-align:middle;\" /></a></td></tr>\n",
       "<tr><td>8</td><td>Literal</td><td></td><td><a class=\"ProveItLink\" href=\"../3e6688136fa3c7aefbebe51301b7c3ebf0b69c440/expr.ipynb\"><img src=\"data:image/png;base64,iVBORw0KGgoAAAANSUhEUgAAAA4AAAAOBAMAAADtZjDiAAAAJFBMVEX///+6urpUVFQQEBAiIiIy\n",
       "MjJmZmaIiIiqqqrc3Nzu7u4AAACgHpL+AAAAAXRSTlMAQObYZgAAAB5JREFUCNdjYGBgWMkAAe2k\n",
       "0Kmhoc6hoUGk6BMHYgAHOwjcado9fwAAAABJRU5ErkJggg==\n",
       "\" style=\"display:inline;vertical-align:middle;\" /></a></td></tr>\n",
       "<tr><td>9</td><td>ExprTuple</td><td>10, 10, 10</td><td><a class=\"ProveItLink\" href=\"../edfb82f8668947a0fcc19434b7739192318390e30/expr.ipynb\"><img src=\"data:image/png;base64,iVBORw0KGgoAAAANSUhEUgAAAD8AAAAVBAMAAAADRiu8AAAAMFBMVEX////c3NwiIiJERESqqqqY\n",
       "mJh2dnZmZmYQEBDu7u4yMjJUVFTMzMyIiIi6uroAAAAs73DqAAAAAXRSTlMAQObYZgAAAOVJREFU\n",
       "KM+FkrsOAUEUhj+s+7VX0Gk1em9ApRSdiqjUJGpR6nYbhVeQSDZRavYBRFCJahVaMWPdssOY4sx3\n",
       "zvwzk//MwN+RcX6vNWVYazZHbRHmuuMtSDs6QQNiE51gCietg1CVvpgCy+7QK/gp0mMmkmMu5Hpl\n",
       "PxkWYyG+EC172/yUGXCFpEvQ86JQypWCbBnTvpcVEoIRFBxq3N0qJK6ogFllYdhxVCJs0YZE3ShF\n",
       "MIsqSZsHaXm72jI9q0RiRyz37NoelUSrw61nUkelzudzfxHExXOTfyTp1/qbkvL+gOZDbOAGRR1Q\n",
       "YNKXtD8AAAAASUVORK5CYII=\n",
       "\" style=\"display:inline;vertical-align:middle;\" /></a></td></tr>\n",
       "<tr><td>10</td><td>Variable</td><td></td><td><a class=\"ProveItLink\" href=\"../../../../__pv_it/07527342713064c87612d00d8557c53d53d5324a0/expr.ipynb\"><img src=\"data:image/png;base64,iVBORw0KGgoAAAANSUhEUgAAAAsAAAAJBAMAAAAWSsseAAAAMFBMVEX///8yMjKqqqrMzMzu7u4i\n",
       "IiJmZmaYmJhEREQQEBC6urp2dnaIiIhUVFTc3NwAAAD87Fq/AAAAAXRSTlMAQObYZgAAAEhJREFU\n",
       "CNdjYOC7s2seAwPDygccHxgY+L4zsDUwMPB+YGA9wMDA38Dgb8DA8P4Agz6DA4O/AsNFJgMGxgKm\n",
       "MG6gyjunLE4xAAAZTBA5TB6DCwAAAABJRU5ErkJggg==\n",
       "\" style=\"display:inline;vertical-align:middle;\" /></a></td></tr>\n",
       "</table>\n"
      ],
      "text/plain": [
       "0. (a + a + a + b + b + c + c , (a + a + a) + b + b + c + c)\n",
       "   core type: ExprTuple\n",
       "   sub-expressions: 1, 2\n",
       "1. a + a + a + b + b + c + c\n",
       "   core type: Operation\n",
       "   operator: 8\n",
       "   operands: 3\n",
       "2. (a + a + a) + b + b + c + c\n",
       "   core type: Operation\n",
       "   operator: 8\n",
       "   operands: 4\n",
       "3. (a , a , a , b , b , c , c)\n",
       "   core type: ExprTuple\n",
       "   sub-expressions: 10, 10, 10, 6, 6, 7, 7\n",
       "4. (a + a + a , b , b , c , c)\n",
       "   core type: ExprTuple\n",
       "   sub-expressions: 5, 6, 6, 7, 7\n",
       "5. a + a + a\n",
       "   core type: Operation\n",
       "   operator: 8\n",
       "   operands: 9\n",
       "6. b\n",
       "   core type: Variable\n",
       "   sub-expressions: \n",
       "7. c\n",
       "   core type: Variable\n",
       "   sub-expressions: \n",
       "8. +\n",
       "   core type: Literal\n",
       "   sub-expressions: \n",
       "9. (a , a , a)\n",
       "   core type: ExprTuple\n",
       "   sub-expressions: 10, 10, 10\n",
       "10. a\n",
       "    core type: Variable\n",
       "    sub-expressions: "
      ]
     },
     "execution_count": 4,
     "metadata": {},
     "output_type": "execute_result"
    }
   ],
   "source": [
    "# display the expression information\n",
    "expr.exprInfo()"
   ]
  },
  {
   "cell_type": "code",
   "execution_count": null,
   "metadata": {},
   "outputs": [],
   "source": []
  }
 ],
 "metadata": {
  "kernelspec": {
   "display_name": "Python 3",
   "language": "python",
   "name": "python3"
  }
 },
 "nbformat": 4,
 "nbformat_minor": 0
}
