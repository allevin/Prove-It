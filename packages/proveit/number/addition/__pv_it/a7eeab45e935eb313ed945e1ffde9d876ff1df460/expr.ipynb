{
 "cells": [
  {
   "cell_type": "markdown",
   "metadata": {},
   "source": [
    "Expression of type <a class=\"ProveItLink\" href=\"../../../../../../doc/html/api/proveit.logic.Set.html\">Set</a>\n",
    "=======================\n",
    "# from context <a class=\"ProveItLink\" href=\"../../_context_.ipynb\">proveit.number.addition</a>"
   ]
  },
  {
   "cell_type": "code",
   "execution_count": 1,
   "metadata": {},
   "outputs": [],
   "source": [
    "# import Expression classes needed to build the expression\n",
    "from proveit._common_ import B, C, c\n",
    "from proveit.logic import InSet, Set\n",
    "from proveit.number import Complexes"
   ]
  },
  {
   "cell_type": "code",
   "execution_count": 2,
   "metadata": {},
   "outputs": [
    {
     "data": {
      "text/html": [
       "<strong id=\"expr\">expr:</strong> <a class=\"ProveItLink\" href=\"expr.ipynb\"><img src=\"data:image/png;base64,iVBORw0KGgoAAAANSUhEUgAAAMgAAAAVBAMAAADx1rxcAAAAMFBMVEX////c3NxERESqqqpUVFS6\n",
       "urrMzMwyMjIQEBCIiIh2dnYiIiLu7u5mZmaYmJgAAABXZE4RAAAAAXRSTlMAQObYZgAAAqhJREFU\n",
       "SMdjYGDgu8dAQ5C1EETy7GKgKcgwABKcH4AEn/8XF6dSdPnZ5T82XcClmXN7fbcujHNS5e4DWewK\n",
       "eAuAbK4GkAiHAgPD/QBUValfGU79dMBhB1t8AM/6KVAOVx8DQ2wfdgVg8yGW5E8AYlQD+VgeMDDY\n",
       "47LkgR8DA/MXCJun+gDQnI/YFSBZMl+AgeH9ArCO6bt3g3zI8IYDSPCiWXKyevd2sAsOgLRdgQiy\n",
       "9wAJ1gbsCpAs0QDiHQdArPQ3UPMuiICsnIAaBnUHIAxeRpDtJyGc+6C4ZbyAXQGSJUB/ieuAGIw6\n",
       "UPN4LkQhmX5q5TQQJQQ1guEs6wK4HON3sPoE7ArA5oNjn+3LzLn7wGJMAjBHL7BD8kErQzWIVoQn\n",
       "f+YHcEnefwiFmAr4QKk3A5SmOIGxdhoc/Ifg5i6IQ+g9MYFBD+RaBbgZrAhLuBFRjk1BLQNDShvY\n",
       "/UA/cYIdFLF7NyTieRSyEJb4QyjWbqAkOF4PsSGCi/8D2HxcCpjqgKaCwpIf6Au+XyChFLjeGhaE\n",
       "JZ+gvoOnNfYDiGTHAbbEDJcCUInCAnJ2PtBvLJ9BQqfhel+BLQFHJONPaGhsgGeiBQ4w1zOw/AEn\n",
       "RhwKwHHCtQGaTeTBuYMFHtZMT4HJl3UP2BpgSPKBxPzgTtCLBBLRB0DWsIGcwAVJVhgKkJIwMJuw\n",
       "tYOV8WyFK3PRPHBU6QDPbyDTl4FhGdif8JKHxWkOT5AOw3mQE98bMLBehAhjKEBYcum/i0s51Avi\n",
       "1+Dp6/b/lgAGnn6gL3lXzoSEW20CTDZ3/w9XYLIDpSw2d9/LsDyDrgA5MyIBk2pIsQIDrAJIHGZ3\n",
       "SOKBg0A03RgKsFuCDvjwyj4gVJ+AzeejsSXgEoVnJwFVE/BJchKuGcFJgW8xret4AJ6Nzh2EYdeX\n",
       "AAAAAElFTkSuQmCC\n",
       "\" style=\"display:inline;vertical-align:middle;\" /></a><br>"
      ],
      "text/plain": [
       "expr: {B in Complexes , c in Complexes , C in Complexes}"
      ]
     },
     "execution_count": 2,
     "metadata": {},
     "output_type": "execute_result"
    }
   ],
   "source": [
    "# build up the expression from sub-expressions\n",
    "expr = Set(InSet(B, Complexes), InSet(c, Complexes), InSet(C, Complexes))"
   ]
  },
  {
   "cell_type": "code",
   "execution_count": 3,
   "metadata": {},
   "outputs": [
    {
     "name": "stdout",
     "output_type": "stream",
     "text": [
      "Passed sanity check: built 'expr' is the same as the stored Expression.\n"
     ]
    }
   ],
   "source": [
    "# check that the built expression is the same as the stored expression\n",
    "%check_expr"
   ]
  },
  {
   "cell_type": "code",
   "execution_count": 4,
   "metadata": {},
   "outputs": [
    {
     "data": {
      "text/html": [
       "<table><tr><th>&nbsp;</th><th>core type</th><th>sub-expressions</th><th>expression</th></tr>\n",
       "<tr><td>0</td><td>Operation</td><td>operator:&nbsp;1<br>operands:&nbsp;2<br></td><td><a class=\"ProveItLink\" href=\"expr.ipynb\"><img src=\"data:image/png;base64,iVBORw0KGgoAAAANSUhEUgAAAMgAAAAVBAMAAADx1rxcAAAAMFBMVEX////c3NxERESqqqpUVFS6\n",
       "urrMzMwyMjIQEBCIiIh2dnYiIiLu7u5mZmaYmJgAAABXZE4RAAAAAXRSTlMAQObYZgAAAqhJREFU\n",
       "SMdjYGDgu8dAQ5C1EETy7GKgKcgwABKcH4AEn/8XF6dSdPnZ5T82XcClmXN7fbcujHNS5e4DWewK\n",
       "eAuAbK4GkAiHAgPD/QBUValfGU79dMBhB1t8AM/6KVAOVx8DQ2wfdgVg8yGW5E8AYlQD+VgeMDDY\n",
       "47LkgR8DA/MXCJun+gDQnI/YFSBZMl+AgeH9ArCO6bt3g3zI8IYDSPCiWXKyevd2sAsOgLRdgQiy\n",
       "9wAJ1gbsCpAs0QDiHQdArPQ3UPMuiICsnIAaBnUHIAxeRpDtJyGc+6C4ZbyAXQGSJUB/ieuAGIw6\n",
       "UPN4LkQhmX5q5TQQJQQ1guEs6wK4HON3sPoE7ArA5oNjn+3LzLn7wGJMAjBHL7BD8kErQzWIVoQn\n",
       "f+YHcEnefwiFmAr4QKk3A5SmOIGxdhoc/Ifg5i6IQ+g9MYFBD+RaBbgZrAhLuBFRjk1BLQNDShvY\n",
       "/UA/cYIdFLF7NyTieRSyEJb4QyjWbqAkOF4PsSGCi/8D2HxcCpjqgKaCwpIf6Au+XyChFLjeGhaE\n",
       "JZ+gvoOnNfYDiGTHAbbEDJcCUInCAnJ2PtBvLJ9BQqfhel+BLQFHJONPaGhsgGeiBQ4w1zOw/AEn\n",
       "RhwKwHHCtQGaTeTBuYMFHtZMT4HJl3UP2BpgSPKBxPzgTtCLBBLRB0DWsIGcwAVJVhgKkJIwMJuw\n",
       "tYOV8WyFK3PRPHBU6QDPbyDTl4FhGdif8JKHxWkOT5AOw3mQE98bMLBehAhjKEBYcum/i0s51Avi\n",
       "1+Dp6/b/lgAGnn6gL3lXzoSEW20CTDZ3/w9XYLIDpSw2d9/LsDyDrgA5MyIBk2pIsQIDrAJIHGZ3\n",
       "SOKBg0A03RgKsFuCDvjwyj4gVJ+AzeejsSXgEoVnJwFVE/BJchKuGcFJgW8xret4AJ6Nzh2EYdeX\n",
       "AAAAAElFTkSuQmCC\n",
       "\" style=\"display:inline;vertical-align:middle;\" /></a></td></tr>\n",
       "<tr><td>1</td><td>Literal</td><td></td><td><a class=\"ProveItLink\" href=\"../../../../logic/set_theory/enumeration/__pv_it/07381ed5b23806e8d7914b78cb6667769e3708dd0/expr.ipynb\"><img src=\"data:image/png;base64,iVBORw0KGgoAAAANSUhEUgAAAB4AAAAOBAMAAADKyLEKAAAAMFBMVEX///8iIiIQEBCIiIjMzMzc\n",
       "3Nyqqqp2dnZEREQyMjK6urru7u5mZmZUVFSYmJgAAACI6eGPAAAAAXRSTlMAQObYZgAAALRJREFU\n",
       "CNdjYGDgu3Nm3wIGBJjHwN0PZW5yYGDgLWBgyITy8zcwMMQDxZyh/INAvD6BgcEFypcB4vjPDiBm\n",
       "TPFRrhs/LjMwMP//38rAwCbKEMPA9gEkE3fp0waG+AUMRxh4JkC01T9guPTOOICBEWgVH5C//wHD\n",
       "H5D4fqCz9oCMDGD4DLaegRXslLMMDMpAgxlOMmQxHDRgYG5gYLBk4D7KcIe7gOHC2rt9QCXsh40Z\n",
       "GCKMGQDRkC8N/Ph1XAAAAABJRU5ErkJggg==\n",
       "\" style=\"display:inline;vertical-align:middle;\" /></a></td></tr>\n",
       "<tr><td>2</td><td>ExprTuple</td><td>3, 4, 5</td><td><a class=\"ProveItLink\" href=\"../19967aa5c46018480934f9f06807fb65481d57420/expr.ipynb\"><img src=\"data:image/png;base64,iVBORw0KGgoAAAANSUhEUgAAAMIAAAAVBAMAAADm9CyVAAAAMFBMVEX////c3NwiIiJERESqqqqY\n",
       "mJh2dnZmZmYQEBDu7u4yMjJUVFTMzMyIiIi6uroAAAAs73DqAAAAAXRSTlMAQObYZgAAAqlJREFU\n",
       "SMdjYKA94LtAQ8NZHwCJ00Ac/X/3bqsHaLK8WuubzHHqvbTqh3IBlM15eXspYwFWBTVA1koQt5mB\n",
       "gf0fqgqe9w8482/jsuDcP4ZpfzdAORkBDHwVAVgVcAFdCgoknr9A/BtVScBWBgaW37h8zw000B9q\n",
       "wyxNIJEvgFUBawIDxwRQgHwEin0DS81dpKQFVjKhAUhWoxrMeUtJaQGIEckBJNihNqwAGfECuwLO\n",
       "BoZXID4z0DSmTnDYLJ0A0cbOCNI/F9WGU5FQRoE0yDhIGmH/AiLFcSgwYSgD8fk3MDAuBhstDLWA\n",
       "YTpfApLb0+4eAFKMljB+wTOEpDzY0XMYsCtIZ1gKos7vvVsEiSlDmL5jLEhRd+IBlwLIq7Cw5klw\n",
       "RUjWIxRiUeDF0Aei7gswcGqD7TaA28CH0MjZy8AM4k2Gp7OEpwgb9BFxjEXBCwZwGrUA2QIyg69J\n",
       "SQkS05N5EKHE/QGqGigJjkhOg2MIG/6DyQk4FJyH2ABKlPEgE3lgSZyBawKcycAP9dlpuMhKboQN\n",
       "/SCC5QAOBecZWkDmfgUS+x1AdivAE3QCyAZOSFxCC5ZJcAPCuOHuZtgPothxKXjBYArNDoy/wDJb\n",
       "4WpM3wKJRxNAdvADAxAUhtzwqGGOA1rKpwm24zzI/kxIcGIoYIgCpiZIdjixEuIKeOnEvfkm52NL\n",
       "hvlAX3EXMLCBQoFTD27/btsJ84wncH4C+RaYH55DYhtDASi1PgL60P737l1LIRKMyw/A1BzX/7GP\n",
       "gWEG0H8MZXdvgoWkauCJpeh/9wMGzn6QyadXlztAhdEVMDCsY+BALU8YWHZB0hIcPETmeC+CFArw\n",
       "oh9NN4YCYKnBmkCgiA/AW/4TqiDYLkBLb5rZMAuIpfEr4cUrS7B+3AiKW1rWorwHGAB9WMPUhPpw\n",
       "uwAAAABJRU5ErkJggg==\n",
       "\" style=\"display:inline;vertical-align:middle;\" /></a></td></tr>\n",
       "<tr><td>3</td><td>Operation</td><td>operator:&nbsp;8<br>operands:&nbsp;6<br></td><td><a class=\"ProveItLink\" href=\"../a903e504c7972e34e1d2bbf0406fa5404d7b29120/expr.ipynb\"><img src=\"data:image/png;base64,iVBORw0KGgoAAAANSUhEUgAAADkAAAAPBAMAAACsFXoGAAAAMFBMVEX///+qqqru7u4iIiJ2dnbc\n",
       "3NyIiIjMzMxmZmYQEBC6uroyMjJERERUVFSYmJgAAADLUcuvAAAAAXRSTlMAQObYZgAAAPNJREFU\n",
       "GNNjYGB4+//u3dMLGFABm/X+ySfArDkMDBy/UCXZ1y9g8s8Fs74B8V9U2Qf3GBgYwWJsXxkY+L6A\n",
       "BZmyjY03AGk+hQlAshckxANkMU8Cy1Y/gmjlYL0AJNVATP4LDKx7FEAs1kNQgzW4HGB21F9La34A\n",
       "ZvEEQIVKGB/AZPMDGJhswSwdmFAJF1z2JEgFmLfS2BjiKh12uMkgh78H82phQtwKF2Ae/wck7guA\n",
       "mMowWT4HkCwT1Lusv8GCvHDbzi0DEosVIN6t3AQJDCuYLO+dJKY1QP9xnP979/Y+qGB0O0y6wv7n\n",
       "LQZ0ILsZ7GYYAAB27kFZLJ6d7QAAAABJRU5ErkJggg==\n",
       "\" style=\"display:inline;vertical-align:middle;\" /></a></td></tr>\n",
       "<tr><td>4</td><td>Operation</td><td>operator:&nbsp;8<br>operands:&nbsp;7<br></td><td><a class=\"ProveItLink\" href=\"../c13cb7484c5c8cfdbfcfc08314313cc92059f30d0/expr.ipynb\"><img src=\"data:image/png;base64,iVBORw0KGgoAAAANSUhEUgAAADEAAAAPBAMAAAC/wjryAAAAMFBMVEX///+qqqpmZmbc3NxUVFSY\n",
       "mJhEREQiIiIyMjK6uroQEBDMzMyIiIh2dnbu7u4AAAA4MM1YAAAAAXRSTlMAQObYZgAAAMRJREFU\n",
       "GNNjYMAEPBX9y5OwiDNwz5/Ad/8INpkAVwYGxi9IAnwnyssbgDTrgwVAUgVJZkcchGZidgCSb0Bq\n",
       "757ZAKSY86AqHnFegLJ2TeAoAFJsBlD+XsYAqPFrGNhAzGcwU/dyQmVYPkDoWeXlEBc844aaxp8A\n",
       "obfA9HA8cIAw7A9A6OcwGdYLIBk+oB6gqSCDWQJgUqlzgMT0BwwsCgy8IFfzVcJkWNzO8U0D+UH3\n",
       "zDmwgIU2TGpT/S9PlPASaQe7DQYAhwcvp2pfo0QAAAAASUVORK5CYII=\n",
       "\" style=\"display:inline;vertical-align:middle;\" /></a></td></tr>\n",
       "<tr><td>5</td><td>Operation</td><td>operator:&nbsp;8<br>operands:&nbsp;9<br></td><td><a class=\"ProveItLink\" href=\"../855d9527ffc0c8a7617618867554f5dfd2bf28d00/expr.ipynb\"><img src=\"data:image/png;base64,iVBORw0KGgoAAAANSUhEUgAAADgAAAAPBAMAAABD1xE4AAAAMFBMVEX////MzMyqqqoiIiIyMjK6\n",
       "uroQEBB2dnbc3NyYmJhmZmZUVFRERESIiIju7u4AAAB204erAAAAAXRSTlMAQObYZgAAAOhJREFU\n",
       "GNNjYGDgu7NrJccCBlRw2eWbDUisbAID67IJqHKiXxme/93AwPDEDsipb0CR4+QGKtYHSro9APLC\n",
       "wGJ8V4yNHUCMeWxAgmsDA9cnEK8LLCkyD6pzQTdI6QWGfrDShyCC4xxUjm9BOISxHuEUHpjFjAWa\n",
       "EIY9wilvGOCSkRDGfzAJchRDmLExxEF8B8QhkvkggkkARErDzfDjhtD7QZq4wMzHcMnp3BDj5C8A\n",
       "qTqwEDfcbTxTgaKsdgycQH9GQRzFZwrXuvvsg6dngGZKe69SgAq1LIS7d/H/7AC0uNB2hgQfFAAA\n",
       "uj859LfS99oAAAAASUVORK5CYII=\n",
       "\" style=\"display:inline;vertical-align:middle;\" /></a></td></tr>\n",
       "<tr><td>6</td><td>ExprTuple</td><td>10, 13</td><td><a class=\"ProveItLink\" href=\"../c5c69ae2d46162dfa375a6a8bd66a58ef67e78c50/expr.ipynb\"><img src=\"data:image/png;base64,iVBORw0KGgoAAAANSUhEUgAAADUAAAAVBAMAAAAUZLt1AAAAMFBMVEX////c3NwiIiJERESqqqqY\n",
       "mJh2dnZmZmYQEBDu7u4yMjJUVFTMzMyIiIi6uroAAAAs73DqAAAAAXRSTlMAQObYZgAAAT1JREFU\n",
       "KM9jYMAH+C5gFY4DEaeBOPr/7t1WD6CivFrrm8wZ2A8AmStB/GYGBvZ/ECme9w84828zMCwAqgIZ\n",
       "yfMXiH9D5AK2MjCwANlhDAwcE0DGfGRgYP0GlmKd0AAkqxkYZjAwvAIJMAP5TJ1gOXbGDUByLlDM\n",
       "gaEMJMC/gYFx8QSw3HS+BIjZbAUMS0H0+b13iwIgQsdYoAyWBQx9IPq+AAOnNlSODyrH18AAdrkF\n",
       "SB4iNpkHaibPB4gcyPnxEDGuCRvgci0g6iuQ2O8A8UMCSI4TbKYp1HuMv8AiDAymb4HEowkMrAsY\n",
       "0qHeOwEMu/kKQA735pucjy3BfngE9K797927QH6Z8RGk8bj+j30gix8wcAggRcxDJPYMkN1I/AAk\n",
       "di4sjjDlOIFxxCCN4PMiKeMG2cWIPU3cYWAAANz9UadCoBoTAAAAAElFTkSuQmCC\n",
       "\" style=\"display:inline;vertical-align:middle;\" /></a></td></tr>\n",
       "<tr><td>7</td><td>ExprTuple</td><td>11, 13</td><td><a class=\"ProveItLink\" href=\"../abce21c686dae58084decd9daf4aa671823af84e0/expr.ipynb\"><img src=\"data:image/png;base64,iVBORw0KGgoAAAANSUhEUgAAAC0AAAAVBAMAAAAgHXppAAAAMFBMVEX////c3NwiIiJERESqqqqY\n",
       "mJh2dnZmZmYQEBDu7u4yMjJUVFTMzMyIiIi6uroAAAAs73DqAAAAAXRSTlMAQObYZgAAARJJREFU\n",
       "GNNjYMAF+C5gCMWBiNPIIrxa65vMGdgPAJkrkYR53j/gzL/NwLAAqALZmICtDAwsvxkYwhgYOCYg\n",
       "hFknNADJagaGGQwMr5CUszNuAJJzGRiYHRjKgCzOtLsgmxim8yVAFLAVMCwFUicecCmAuMdYAiDi\n",
       "LAsY+oDKexmYwQLH+KDifA0M/xgYuD9AzZ/MAzWH5wNInN8AKs41YQNcvIWBQR7mBdYEkDgn2BxT\n",
       "oHqgqQGcIAnTt0Di0QQG1gUM6UDzCxjYDswHuYh7803Ox5Zgdz4Ccsvu3mSY8RGk4bj+j30gix4w\n",
       "cAhADX+I5PEZILtgYYYknosUzkjinMBwZpCGxgiScm6Q2YyY8XiHgQEAaaE/gGyRZnYAAAAASUVO\n",
       "RK5CYII=\n",
       "\" style=\"display:inline;vertical-align:middle;\" /></a></td></tr>\n",
       "<tr><td>8</td><td>Literal</td><td></td><td><a class=\"ProveItLink\" href=\"../../../../logic/set_theory/membership/__pv_it/088cbc857536a28d4119ad9639a84270ccb0545d0/expr.ipynb\"><img src=\"data:image/png;base64,iVBORw0KGgoAAAANSUhEUgAAAAwAAAAMBAMAAACkW0HUAAAALVBMVEX///+qqqpmZmZUVFQQEBC6\n",
       "urpERETc3NyYmJjMzMwiIiIyMjKIiIju7u4AAACYsrA9AAAAAXRSTlMAQObYZgAAADxJREFUCNdj\n",
       "YOA9vWrVBgaG2b0MQMCeCyIZ2ArA1DUwyRCyahVIyWQI7xaEYm4AU7xLIdxqTQgtvGvVBgCkcQ7e\n",
       "geM/tQAAAABJRU5ErkJggg==\n",
       "\" style=\"display:inline;vertical-align:middle;\" /></a></td></tr>\n",
       "<tr><td>9</td><td>ExprTuple</td><td>12, 13</td><td><a class=\"ProveItLink\" href=\"../16e2c8bacf93516b2c623c129da426a6672798d40/expr.ipynb\"><img src=\"data:image/png;base64,iVBORw0KGgoAAAANSUhEUgAAADMAAAAVBAMAAAAZessyAAAAMFBMVEX////c3NwiIiJERESqqqqY\n",
       "mJh2dnZmZmYQEBDu7u4yMjJUVFTMzMyIiIi6uroAAAAs73DqAAAAAXRSTlMAQObYZgAAAT1JREFU\n",
       "KM9jYMAD+C5gE40DEadBxFzr8gBxiCCv1vomcwb2A0DmSiBma2VgeN4KluF5/4Az/zYDwwKgIqB5\n",
       "nIsmAKU/gqUCtjIwsPxmYAhjYOAAinJ1guxsAMmwTgBR1QwMMxgYXgFZ9Q5AgrEAJMXOuAFkNQMD\n",
       "swNDGVDwF0iQE2Qxw3S+BIhr2AoYlgJVfkU4+hhLAITBsoChj4GB6SOSFB9UCmj1PwYG/g9gA8Ei\n",
       "k3mgBvJ8AElxgKV8wCJcEzbApVoYGLh/gthgBzKwJmyAmAA00BSo4C/IRRMgRpq+BRKPJjCwLmBI\n",
       "B7LiHRj4ChkY5isA2dybb3I+tgQ7/hHI3F3bS4DUDLBLj+v/2Aey9AEDhwDC5Q+RYmUGyF4ENwBJ\n",
       "KhcaKZhSnMBIYZCGc3mRNHGD7GHEmgDuMDAAAFriSMVpEJmpAAAAAElFTkSuQmCC\n",
       "\" style=\"display:inline;vertical-align:middle;\" /></a></td></tr>\n",
       "<tr><td>10</td><td>Variable</td><td></td><td><a class=\"ProveItLink\" href=\"../../../../__pv_it/077b2ff79244fb4582cbe22c6e3356fa92a52f2f0/expr.ipynb\"><img src=\"data:image/png;base64,iVBORw0KGgoAAAANSUhEUgAAABAAAAAOBAMAAADUAYG5AAAAMFBMVEX///+qqqru7u4iIiJ2dnbc\n",
       "3NyIiIjMzMxmZmYQEBC6uroyMjJERERUVFSYmJgAAADLUcuvAAAAAXRSTlMAQObYZgAAAGpJREFU\n",
       "CNdjYGB4+//u3dMLGIBgDgMDxy8gzf4NiP8CGWxfGRj4vgAZPBMYGJgnARn8FxhY9ygAGfXX0pof\n",
       "gDTlBzAw2YIYJ0EckBBI53sHoBH/gIz7AhBjWH9DjancBLTl/N+7t/cxMAAA3u4f/5xagjYAAAAA\n",
       "SUVORK5CYII=\n",
       "\" style=\"display:inline;vertical-align:middle;\" /></a></td></tr>\n",
       "<tr><td>11</td><td>Variable</td><td></td><td><a class=\"ProveItLink\" href=\"../../../../__pv_it/cbdfda466482236edba0ce44ac7ef39cda0af7a40/expr.ipynb\"><img src=\"data:image/png;base64,iVBORw0KGgoAAAANSUhEUgAAAAkAAAAJBAMAAAASvxsjAAAALVBMVEX///9mZmbc3NxUVFSYmJhE\n",
       "REQiIiIyMjK6uroQEBDMzMyIiIh2dnbu7u4AAABgFDGoAAAAAXRSTlMAQObYZgAAADZJREFUCNdj\n",
       "YOA9s3sBA8PKBvYEBt7ZDKwODMwPGICALwBE6m0Asx0YGIDiAgw8QJUyu/cyAAAmuwmycZ8WfQAA\n",
       "AABJRU5ErkJggg==\n",
       "\" style=\"display:inline;vertical-align:middle;\" /></a></td></tr>\n",
       "<tr><td>12</td><td>Variable</td><td></td><td><a class=\"ProveItLink\" href=\"../../../../__pv_it/985a1bdf1540838275dec15f4ad6de261cca93ce0/expr.ipynb\"><img src=\"data:image/png;base64,iVBORw0KGgoAAAANSUhEUgAAAA8AAAAOBAMAAAACpFvcAAAAMFBMVEX////MzMyqqqoiIiIyMjK6\n",
       "uroQEBB2dnbc3NyYmJhmZmZUVFRERESIiIju7u4AAAB204erAAAAAXRSTlMAQObYZgAAAGZJREFU\n",
       "CNdjYGDgu7NrJccCBgaGsgkMrMsmMDA8sQNy6hsYGNweABlhDAxcn4A0QxcDQ78DiPGQgWH9BAYI\n",
       "sG+AMv6DSaCGfBDNJMDAsB+kmwuI5S8AiTog5gSaEwXWIO29SgFIAQBC+RaDQlidVgAAAABJRU5E\n",
       "rkJggg==\n",
       "\" style=\"display:inline;vertical-align:middle;\" /></a></td></tr>\n",
       "<tr><td>13</td><td>Literal</td><td></td><td><a class=\"ProveItLink\" href=\"../../../sets/complex/__pv_it/c357845f93a5a2d9f649129d299e7ec28dda4b960/expr.ipynb\"><img src=\"data:image/png;base64,iVBORw0KGgoAAAANSUhEUgAAAA8AAAAOBAMAAAACpFvcAAAAMFBMVEX////c3NyqqqqYmJhUVFR2\n",
       "dnbu7u66urrMzMxmZmZEREQQEBAyMjIiIiKIiIgAAAB7fvZ0AAAAAXRSTlMAQObYZgAAAGVJREFU\n",
       "CNdjYGDgu3N+70oGBgaO+gK2+CdAhoEzAwPTFwYG5oQNQN4UBgZORgcgI4+BIZM9gAEMWpkMoAx2\n",
       "KCOLAyrFk+AAYTAHgBhsQLy4DkjUJjAwsHg9Y6taBpLsvP/bnYEBACkBFGQfBv8RAAAAAElFTkSu\n",
       "QmCC\n",
       "\" style=\"display:inline;vertical-align:middle;\" /></a></td></tr>\n",
       "</table>\n"
      ],
      "text/plain": [
       "0. {B in Complexes , c in Complexes , C in Complexes}\n",
       "   core type: Operation\n",
       "   operator: 1\n",
       "   operands: 2\n",
       "1. Set\n",
       "   core type: Literal\n",
       "   sub-expressions: \n",
       "2. (B in Complexes , c in Complexes , C in Complexes)\n",
       "   core type: ExprTuple\n",
       "   sub-expressions: 3, 4, 5\n",
       "3. B in Complexes\n",
       "   core type: Operation\n",
       "   operator: 8\n",
       "   operands: 6\n",
       "4. c in Complexes\n",
       "   core type: Operation\n",
       "   operator: 8\n",
       "   operands: 7\n",
       "5. C in Complexes\n",
       "   core type: Operation\n",
       "   operator: 8\n",
       "   operands: 9\n",
       "6. (B , Complexes)\n",
       "   core type: ExprTuple\n",
       "   sub-expressions: 10, 13\n",
       "7. (c , Complexes)\n",
       "   core type: ExprTuple\n",
       "   sub-expressions: 11, 13\n",
       "8. in\n",
       "   core type: Literal\n",
       "   sub-expressions: \n",
       "9. (C , Complexes)\n",
       "   core type: ExprTuple\n",
       "   sub-expressions: 12, 13\n",
       "10. B\n",
       "    core type: Variable\n",
       "    sub-expressions: \n",
       "11. c\n",
       "    core type: Variable\n",
       "    sub-expressions: \n",
       "12. C\n",
       "    core type: Variable\n",
       "    sub-expressions: \n",
       "13. Complexes\n",
       "    core type: Literal\n",
       "    sub-expressions: "
      ]
     },
     "execution_count": 4,
     "metadata": {},
     "output_type": "execute_result"
    }
   ],
   "source": [
    "# display the expression information\n",
    "expr.exprInfo()"
   ]
  },
  {
   "cell_type": "code",
   "execution_count": null,
   "metadata": {},
   "outputs": [],
   "source": []
  }
 ],
 "metadata": {
  "kernelspec": {
   "display_name": "Python 3",
   "language": "python",
   "name": "python3"
  }
 },
 "nbformat": 4,
 "nbformat_minor": 0
}
