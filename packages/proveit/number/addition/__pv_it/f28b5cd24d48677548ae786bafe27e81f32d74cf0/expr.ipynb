{
 "cells": [
  {
   "cell_type": "markdown",
   "metadata": {},
   "source": [
    "Expression of type <a class=\"ProveItLink\" href=\"../../../../../../doc/html/api/proveit.ExprTuple.html\">ExprTuple</a>\n",
    "=======================\n",
    "# from context <a class=\"ProveItLink\" href=\"../../_context_.ipynb\">proveit.number.addition</a>"
   ]
  },
  {
   "cell_type": "code",
   "execution_count": 1,
   "metadata": {},
   "outputs": [],
   "source": [
    "# import Expression classes needed to build the expression\n",
    "from proveit import ExprTuple\n",
    "from proveit.number import Add, five, three, two, zero"
   ]
  },
  {
   "cell_type": "code",
   "execution_count": 2,
   "metadata": {},
   "outputs": [
    {
     "data": {
      "text/html": [
       "<strong id=\"expr\">expr:</strong> <a class=\"ProveItLink\" href=\"expr.ipynb\"><img src=\"data:image/png;base64,iVBORw0KGgoAAAANSUhEUgAAAKUAAAAVBAMAAADVzzOcAAAAMFBMVEX////c3NwiIiJERESqqqqY\n",
       "mJh2dnZmZmYQEBDu7u4yMjJUVFTMzMyIiIi6uroAAAAs73DqAAAAAXRSTlMAQObYZgAAAmdJREFU\n",
       "OMu1lT1oFFEQx/+7t/exd3uXtUph4RUigiIisZXrBCEYG0ELOUQSEINXXSAqnsFGkXjaJNh4qClc\n",
       "Qc5O0GIrLSxusVE8g4dVEOSiJJErzDrvvU0usx9FCgdm35uZfb83b9/cHPA/pOQpjZV0b7e4C+Lx\n",
       "Qeno7IlQ9N3kGHA9vGZhOXDlz2mXeMi88clF1qXZc6laG98q7A2thr6HfJh5BA9dOcn5fpWH9J55\n",
       "GGgBRU9qoQl9VYUeqCGzhpEy0lvrAm+xjGJL5XntylZ+tho/Al+As7RdU2ruDgqbKjSuBkMyzQaY\n",
       "V2+j9EvOCtv5GcFtHAL6NhaBH5CaHyDLmSR0doxx5kgN1loC8w/QqSBVQZ2MukphEGa+IJ3izH1V\n",
       "WH8Vc7nbY0xtg5geMjUskbUkfZ0qZ1qX2/Q8FWVuyFmqaW5GmVUYLcyTNS99TxHO8zMlspLEJHkd\n",
       "xyw1IPaS+2WPRpg5+hqdpLOTXHVjzm6tDpldGZh1nIOOIz6k5iK1HjCHXnFH6/LNY8Skc2Qd58ld\n",
       "x2kHdzQhmLfJEGrUsIdl9HggmSuRWjJULc0BN+1wLZ22xdmPkyH0PXCGV00LOq0+z5lU85kyqKZR\n",
       "AxxeS1TzF6lFtGStkGoHJqfKfPUE+tVILWE/Fl3zN01GYdziTL1i3oOope9kkOq+73MmTs48o+fL\n",
       "EHNh+i3M+3Roa+aNzZlmvUuXlu8hR4GcvbMVjLNe04jzltgCg3VK+m2KJpFmDebnTiPjxXnTkQ48\n",
       "lOntXpckj+JbdXJPNkXX2htovLyK9XrJzIL4LJqnNFaK7m7/O74C/wD4rrafSR3+YgAAAABJRU5E\n",
       "rkJggg==\n",
       "\" style=\"display:inline;vertical-align:middle;\" /></a><br>"
      ],
      "text/plain": [
       "expr: ((2 + 3) + 0 , 5 + 0)"
      ]
     },
     "execution_count": 2,
     "metadata": {},
     "output_type": "execute_result"
    }
   ],
   "source": [
    "# build up the expression from sub-expressions\n",
    "expr = ExprTuple(Add(Add(two, three), zero), Add(five, zero))"
   ]
  },
  {
   "cell_type": "code",
   "execution_count": 3,
   "metadata": {},
   "outputs": [
    {
     "name": "stdout",
     "output_type": "stream",
     "text": [
      "Passed sanity check: built 'expr' is the same as the stored Expression.\n"
     ]
    }
   ],
   "source": [
    "# check that the built expression is the same as the stored expression\n",
    "%check_expr"
   ]
  },
  {
   "cell_type": "code",
   "execution_count": 4,
   "metadata": {},
   "outputs": [
    {
     "data": {
      "text/html": [
       "<table><tr><th>&nbsp;</th><th>core type</th><th>sub-expressions</th><th>expression</th></tr>\n",
       "<tr><td>0</td><td>ExprTuple</td><td>1, 2</td><td><a class=\"ProveItLink\" href=\"expr.ipynb\"><img src=\"data:image/png;base64,iVBORw0KGgoAAAANSUhEUgAAAKUAAAAVBAMAAADVzzOcAAAAMFBMVEX////c3NwiIiJERESqqqqY\n",
       "mJh2dnZmZmYQEBDu7u4yMjJUVFTMzMyIiIi6uroAAAAs73DqAAAAAXRSTlMAQObYZgAAAmdJREFU\n",
       "OMu1lT1oFFEQx/+7t/exd3uXtUph4RUigiIisZXrBCEYG0ELOUQSEINXXSAqnsFGkXjaJNh4qClc\n",
       "Qc5O0GIrLSxusVE8g4dVEOSiJJErzDrvvU0usx9FCgdm35uZfb83b9/cHPA/pOQpjZV0b7e4C+Lx\n",
       "Qeno7IlQ9N3kGHA9vGZhOXDlz2mXeMi88clF1qXZc6laG98q7A2thr6HfJh5BA9dOcn5fpWH9J55\n",
       "GGgBRU9qoQl9VYUeqCGzhpEy0lvrAm+xjGJL5XntylZ+tho/Al+As7RdU2ruDgqbKjSuBkMyzQaY\n",
       "V2+j9EvOCtv5GcFtHAL6NhaBH5CaHyDLmSR0doxx5kgN1loC8w/QqSBVQZ2MukphEGa+IJ3izH1V\n",
       "WH8Vc7nbY0xtg5geMjUskbUkfZ0qZ1qX2/Q8FWVuyFmqaW5GmVUYLcyTNS99TxHO8zMlspLEJHkd\n",
       "xyw1IPaS+2WPRpg5+hqdpLOTXHVjzm6tDpldGZh1nIOOIz6k5iK1HjCHXnFH6/LNY8Skc2Qd58ld\n",
       "x2kHdzQhmLfJEGrUsIdl9HggmSuRWjJULc0BN+1wLZ22xdmPkyH0PXCGV00LOq0+z5lU85kyqKZR\n",
       "AxxeS1TzF6lFtGStkGoHJqfKfPUE+tVILWE/Fl3zN01GYdziTL1i3oOope9kkOq+73MmTs48o+fL\n",
       "EHNh+i3M+3Roa+aNzZlmvUuXlu8hR4GcvbMVjLNe04jzltgCg3VK+m2KJpFmDebnTiPjxXnTkQ48\n",
       "lOntXpckj+JbdXJPNkXX2htovLyK9XrJzIL4LJqnNFaK7m7/O74C/wD4rrafSR3+YgAAAABJRU5E\n",
       "rkJggg==\n",
       "\" style=\"display:inline;vertical-align:middle;\" /></a></td></tr>\n",
       "<tr><td>1</td><td>Operation</td><td>operator:&nbsp;8<br>operands:&nbsp;3<br></td><td><a class=\"ProveItLink\" href=\"../561c290885c54ffacc0033bb1756291be3ff01fe0/expr.ipynb\"><img src=\"data:image/png;base64,iVBORw0KGgoAAAANSUhEUgAAAF8AAAAVBAMAAADSoS/MAAAAMFBMVEX////c3NwiIiJERESqqqqY\n",
       "mJh2dnZmZmYQEBDu7u4yMjJUVFTMzMyIiIi6uroAAAAs73DqAAAAAXRSTlMAQObYZgAAAW5JREFU\n",
       "OMuVkz1Lw1AUht9E2yatsXFycOkkgg4OdZVuglCsq1NwaMGpU4Wi0MFFEKmri4I6GEHqP8ikg0OD\n",
       "i2IHi1MRJAp+0MV6eiPak9wMXsj9eA4P9+TkBPj3GHUjArG2nF8D49X5ALwsZoGNANQ3bx1aTqE0\n",
       "8JBjIaUMz0UyIKhtfQYwXKTqUF98tucv8TekM4hZYPQGuAe0OrRtpL58lveXYSHoNTA6DXgmnoBk\n",
       "Fwku0KCUkOXCJ9DMoeKn1w0KZ/SUmKB8kODiRByaFhdG1ho0L4YFC7vicITgDXf0FToyQSSfmA0J\n",
       "GiXZlKUkhJYgVduesu1+8oqDofcf4Y/2X7qArX4VyxhjNxx0hdAJlXXJxBztroBlFkofQn0FVrhA\n",
       "H25VlE6ZLJYyLGQU4FnBskLN6TvAI216vR4XsLB+TPM5F/RKi5pPMwf7K8+6syajvx0mxvPgIe7K\n",
       "KLV31NiX44lI4UKOlahf1HBk9BsJgWhtt2K4zgAAAABJRU5ErkJggg==\n",
       "\" style=\"display:inline;vertical-align:middle;\" /></a></td></tr>\n",
       "<tr><td>2</td><td>Operation</td><td>operator:&nbsp;8<br>operands:&nbsp;4<br></td><td><a class=\"ProveItLink\" href=\"../8240cf9ab654d083a57934117333fd9ebbc5b1930/expr.ipynb\"><img src=\"data:image/png;base64,iVBORw0KGgoAAAANSUhEUgAAACwAAAAQBAMAAACfEoDkAAAAMFBMVEX///8iIiJERES6urqIiIjM\n",
       "zMxUVFRmZmYQEBCqqqp2dnbc3Nzu7u6YmJgyMjIAAADYGhJvAAAAAXRSTlMAQObYZgAAAKdJREFU\n",
       "GNNj4LvDvZIBBRx3KWVg4Pj/fwGqsDDDwQAGvrKlUC7PBjDFIsDA8oCBDa6K0wFMMSYwMP/GFOYv\n",
       "YGD9ycDm4maAIrx/AQPrFwamAzyfMYR/gRgZ2IXXB2AaoggUBhrO/u7dw7537xIgVv5laGRgqN+A\n",
       "5kDO3wwFDAzvUMwGeodLgGE7A2c3ijCDJMOJAAbW8rQNqMLHl6QiBxFMGA0wIwkDANlwL/bm24rs\n",
       "AAAAAElFTkSuQmCC\n",
       "\" style=\"display:inline;vertical-align:middle;\" /></a></td></tr>\n",
       "<tr><td>3</td><td>ExprTuple</td><td>5, 7</td><td><a class=\"ProveItLink\" href=\"../093c0a5052383eb4757bd3f645231198f7429f2b0/expr.ipynb\"><img src=\"data:image/png;base64,iVBORw0KGgoAAAANSUhEUgAAAE0AAAAVBAMAAADx+n4ZAAAAMFBMVEX////c3NwiIiJERESqqqqY\n",
       "mJh2dnZmZmYQEBDu7u4yMjJUVFTMzMyIiIi6uroAAAAs73DqAAAAAXRSTlMAQObYZgAAAWxJREFU\n",
       "KM+Nkj1Lw1AUhp/0M+m3k4NLJxF0cNBVujkV6+IowaEFQehUoSA4uAiidXOzoA7GpT+hkw4OLS6K\n",
       "FSyOgrSKH2Sx3uRqTCqlniH3PZyHe849eeG/kWgORZatzyWMluf6Kuf5GSm0jes64bpQpyg17jMe\n",
       "TCnSkW18bW0KqhBvEq3g60pgXx6hV5JpW13BLSyBWkHdJvopgaw8Ag43CZ0UB/AIEZOwlxPx3fcD\n",
       "Ghn8GUpyDLOfO5ODvguuSajIiZ03dC8XW639cjqBKrt2fkT/fTdtF5fYxB4sPP2HU01X31hXci27\n",
       "VDaMCcOwBlPq+N+cd+QsbstaQ5ERz32H5g8n9rKQsvrOiuQCFj1csorvmYrc8woEqxREl/F8Ie3h\n",
       "4jk6uvZiLSyj7WDt5UHoXq/n5ZhfP0bbSwkflFrCBJE2asptgKzHcU5J/Leg7i49uZOgo9ZsXw0K\n",
       "h9OErxgbyDlGj1oDKMN9fwdfamxjEmfmaZIAAAAASUVORK5CYII=\n",
       "\" style=\"display:inline;vertical-align:middle;\" /></a></td></tr>\n",
       "<tr><td>4</td><td>ExprTuple</td><td>6, 7</td><td><a class=\"ProveItLink\" href=\"../7728172d518bc2979febbd810d57a089e2ce03470/expr.ipynb\"><img src=\"data:image/png;base64,iVBORw0KGgoAAAANSUhEUgAAACkAAAAVBAMAAAAp9toTAAAAMFBMVEX////c3NwiIiJERESqqqqY\n",
       "mJh2dnZmZmYQEBDu7u4yMjJUVFTMzMyIiIi6uroAAAAs73DqAAAAAXRSTlMAQObYZgAAAQ5JREFU\n",
       "GNNtkSFMw0AUhr8x2u42WE5hMPPMTsxV4oZCkgWDIpmaISQTSMIqcdQsBAdmbksdArEFQwIjaZAz\n",
       "AwSYZfCuXZuycOLy/i+X/977H/x/yuMVcGCuB+h5W24E1OlTgBNIdQPdn6/42VqoquDDphhc94OY\n",
       "PsIz7EPBg9vEcgdmmkuYkqHfMHLJu7RFDF6HEcyJ/WiM3aInqs5VmNIm6z4X0atSJ0PLHRYRtecZ\n",
       "h413Q/MV7EX6256hZ9JcBecj6ayhjUMNHCj6ePEUh2D5HIldi12tPs3ErjrHdPYm4v7kDtXVkk77\n",
       "RWYvhhR0kmhSmImt5rK20oCP4yT/UiVJsr0U6UpKxiq3uqEJ/AItaEaOz2+YQgAAAABJRU5ErkJg\n",
       "gg==\n",
       "\" style=\"display:inline;vertical-align:middle;\" /></a></td></tr>\n",
       "<tr><td>5</td><td>Operation</td><td>operator:&nbsp;8<br>operands:&nbsp;9<br></td><td><a class=\"ProveItLink\" href=\"../b3da72475f2e5820f90b445dc3397d522d6d2e280/expr.ipynb\"><img src=\"data:image/png;base64,iVBORw0KGgoAAAANSUhEUgAAACwAAAAQBAMAAACfEoDkAAAAMFBMVEX///+YmJh2dnbMzMwQEBAi\n",
       "IiLu7u6qqqqIiIhUVFS6urpEREQyMjJmZmbc3NwAAACOMKdoAAAAAXRSTlMAQObYZgAAALNJREFU\n",
       "GNNj4Lt7egEDCjBS2s7A8JKB4zuKKN8FhvUNDNMYGOIhfLYHYIrpOwN/AINLAsN8iCnsDRAKLHw+\n",
       "geE+ijAQrAez4hPQhE+CCOZPDCjCzDoTQBTPBgY01S0gU28zoAuzfGNg4ABr4T1z5qjPmTNANp8B\n",
       "A/dHBoZaBr4HyKrzv4GEmS8wMKII8x9gYP3H8FRJ6SqK2RwCDOsVGOL///+KamXt3ePIYYRwCQrg\n",
       "QhIGAAaPNUmGC4MkAAAAAElFTkSuQmCC\n",
       "\" style=\"display:inline;vertical-align:middle;\" /></a></td></tr>\n",
       "<tr><td>6</td><td>Literal</td><td></td><td><a class=\"ProveItLink\" href=\"../../../numeral/__pv_it/aaeeaca7d86eb2b7cdc49e25c3108b81b52ec5400/expr.ipynb\"><img src=\"data:image/png;base64,iVBORw0KGgoAAAANSUhEUgAAAAkAAAAOBAMAAAAPuiubAAAAMFBMVEX///8iIiJERES6urqIiIjM\n",
       "zMxUVFRmZmYQEBCqqqp2dnbc3Nzu7u6YmJgyMjIAAADYGhJvAAAAAXRSTlMAQObYZgAAAE1JREFU\n",
       "CNdj4LvDvZKBgeP//wUMDHxlSxkYGNgYGBCki5sBAwPTAZ7PYG4GmFwfwKAIJA0YGhkY6jcwFDAw\n",
       "vGNg2M7A2c3AwFqetoEBAKS8EE1WXEJLAAAAAElFTkSuQmCC\n",
       "\" style=\"display:inline;vertical-align:middle;\" /></a></td></tr>\n",
       "<tr><td>7</td><td>Literal</td><td></td><td><a class=\"ProveItLink\" href=\"../../../numeral/__pv_it/ec23fc7a1b4222a5f4948b495002b97d6fa18c3c0/expr.ipynb\"><img src=\"data:image/png;base64,iVBORw0KGgoAAAANSUhEUgAAAAoAAAAOBAMAAADkjZCYAAAALVBMVEX///8QEBCYmJh2dnaqqqrc\n",
       "3NxUVFQyMjK6uroiIiLMzMyIiIhmZmbu7u4AAAAZjyHdAAAAAXRSTlMAQObYZgAAAEpJREFUCNdj\n",
       "YLiz+xQDA8MMhpsLGLgnMHAXMHAmMHA8ZeA7wMD1hCHOgIHrNZh8jES+Bss+AqlkeQrSxTyBgWEK\n",
       "w8UFDAx3rLMYAMCjFldHSx/9AAAAAElFTkSuQmCC\n",
       "\" style=\"display:inline;vertical-align:middle;\" /></a></td></tr>\n",
       "<tr><td>8</td><td>Literal</td><td></td><td><a class=\"ProveItLink\" href=\"../3e6688136fa3c7aefbebe51301b7c3ebf0b69c440/expr.ipynb\"><img src=\"data:image/png;base64,iVBORw0KGgoAAAANSUhEUgAAAA4AAAAOBAMAAADtZjDiAAAAJFBMVEX///+6urpUVFQQEBAiIiIy\n",
       "MjJmZmaIiIiqqqrc3Nzu7u4AAACgHpL+AAAAAXRSTlMAQObYZgAAAB5JREFUCNdjYGBgWMkAAe2k\n",
       "0Kmhoc6hoUGk6BMHYgAHOwjcado9fwAAAABJRU5ErkJggg==\n",
       "\" style=\"display:inline;vertical-align:middle;\" /></a></td></tr>\n",
       "<tr><td>9</td><td>ExprTuple</td><td>10, 11</td><td><a class=\"ProveItLink\" href=\"../9333281ed4be3d0d1796509ff962cccc430da5be0/expr.ipynb\"><img src=\"data:image/png;base64,iVBORw0KGgoAAAANSUhEUgAAACkAAAAVBAMAAAAp9toTAAAAMFBMVEX////c3NwiIiJERESqqqqY\n",
       "mJh2dnZmZmYQEBDu7u4yMjJUVFTMzMyIiIi6uroAAAAs73DqAAAAAXRSTlMAQObYZgAAARBJREFU\n",
       "GNNtkStPA1EQhb8tLPtqN4uqAFGFBYOF/QeAQRISklYRqiCpQmAwdCVyE4IgmP4EFAgENShIIEhU\n",
       "gyApCV3mzj7Ehismcz5x7pkZ+P+F4xrYM+UR2oONHDS7BzHOnXQ3WCPeYqVtwl9IoTUmSGhMlB7F\n",
       "fMEuuAnuOcFM6ZbSS/gEf4ozK/8Wh7mYYxWNaUH9ESz0uVbxtJ/D+1sp8ykXqq7KsC3R4Slq6KxV\n",
       "MwwTmpOcvhRoGTa3DT0zRn0WDfSyxFBxWBf1ADsk0vzAaoSd0gNrpdvreBKfZ8JvTfYhYbMs63jD\n",
       "SKxOBrIQ/x03KqcqGzOxXeTHrsId6iZr1JNNslSI6iSBsbLqF3qFP6kkPkM9+LMtAAAAAElFTkSu\n",
       "QmCC\n",
       "\" style=\"display:inline;vertical-align:middle;\" /></a></td></tr>\n",
       "<tr><td>10</td><td>Literal</td><td></td><td><a class=\"ProveItLink\" href=\"../../../numeral/__pv_it/77d407a64829263cdc16415becd4c2293f77a4bf0/expr.ipynb\"><img src=\"data:image/png;base64,iVBORw0KGgoAAAANSUhEUgAAAAkAAAAOBAMAAAAPuiubAAAAMFBMVEX///+YmJh2dnbMzMwQEBAi\n",
       "IiLu7u6qqqqIiIhUVFS6urpEREQyMjJmZmbc3NwAAACOMKdoAAAAAXRSTlMAQObYZgAAAFBJREFU\n",
       "CNdj4Lt7egEDw0sGju8MDNMYGOIZGFwSGOYvYDifwHAfKAEUSQASzJ9ATJ4NIPI2iOCYACJrGfge\n",
       "MDBfYGB8wPBUSekqUPH//18ZAIliFhc3zESNAAAAAElFTkSuQmCC\n",
       "\" style=\"display:inline;vertical-align:middle;\" /></a></td></tr>\n",
       "<tr><td>11</td><td>Literal</td><td></td><td><a class=\"ProveItLink\" href=\"../../../numeral/__pv_it/9176d93c83afa2c995b614976e3cb49207102fa70/expr.ipynb\"><img src=\"data:image/png;base64,iVBORw0KGgoAAAANSUhEUgAAAAoAAAAOBAMAAADkjZCYAAAAMFBMVEX///+YmJju7u4QEBBUVFQy\n",
       "MjIiIiKIiIi6urpmZmbc3NyqqqpERER2dnbMzMwAAAB0GlNiAAAAAXRSTlMAQObYZgAAAE1JREFU\n",
       "CNdjYHh79zQDA9cEhv4CBt7fDPwJDNxgEgiAIkAQAsR8Vx1ATIbiBhDJ/ImB6wEDz0cG/U8gkj+A\n",
       "ge0XA7sAQ/8FBoadM6MZAEflFACalZ/OAAAAAElFTkSuQmCC\n",
       "\" style=\"display:inline;vertical-align:middle;\" /></a></td></tr>\n",
       "</table>\n"
      ],
      "text/plain": [
       "0. ((2 + 3) + 0 , 5 + 0)\n",
       "   core type: ExprTuple\n",
       "   sub-expressions: 1, 2\n",
       "1. (2 + 3) + 0\n",
       "   core type: Operation\n",
       "   operator: 8\n",
       "   operands: 3\n",
       "2. 5 + 0\n",
       "   core type: Operation\n",
       "   operator: 8\n",
       "   operands: 4\n",
       "3. (2 + 3 , 0)\n",
       "   core type: ExprTuple\n",
       "   sub-expressions: 5, 7\n",
       "4. (5 , 0)\n",
       "   core type: ExprTuple\n",
       "   sub-expressions: 6, 7\n",
       "5. 2 + 3\n",
       "   core type: Operation\n",
       "   operator: 8\n",
       "   operands: 9\n",
       "6. 5\n",
       "   core type: Literal\n",
       "   sub-expressions: \n",
       "7. 0\n",
       "   core type: Literal\n",
       "   sub-expressions: \n",
       "8. +\n",
       "   core type: Literal\n",
       "   sub-expressions: \n",
       "9. (2 , 3)\n",
       "   core type: ExprTuple\n",
       "   sub-expressions: 10, 11\n",
       "10. 2\n",
       "    core type: Literal\n",
       "    sub-expressions: \n",
       "11. 3\n",
       "    core type: Literal\n",
       "    sub-expressions: "
      ]
     },
     "execution_count": 4,
     "metadata": {},
     "output_type": "execute_result"
    }
   ],
   "source": [
    "# display the expression information\n",
    "expr.exprInfo()"
   ]
  },
  {
   "cell_type": "code",
   "execution_count": null,
   "metadata": {},
   "outputs": [],
   "source": []
  }
 ],
 "metadata": {
  "kernelspec": {
   "display_name": "Python 3",
   "language": "python",
   "name": "python3"
  }
 },
 "nbformat": 4,
 "nbformat_minor": 0
}
