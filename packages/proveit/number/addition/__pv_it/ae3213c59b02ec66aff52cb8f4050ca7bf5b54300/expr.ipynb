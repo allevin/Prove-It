{
 "cells": [
  {
   "cell_type": "markdown",
   "metadata": {},
   "source": [
    "Expression of type <a class=\"ProveItLink\" href=\"../../../../../../doc/html/api/proveit.ExprTuple.html\">ExprTuple</a>\n",
    "=======================\n",
    "# from context <a class=\"ProveItLink\" href=\"../../_context_.ipynb\">proveit.number.addition</a>"
   ]
  },
  {
   "cell_type": "code",
   "execution_count": 1,
   "metadata": {},
   "outputs": [],
   "source": [
    "# import Expression classes needed to build the expression\n",
    "from proveit import ExprTuple\n",
    "from proveit._common_ import S, a, b, c\n",
    "from proveit.number import Exp, three"
   ]
  },
  {
   "cell_type": "code",
   "execution_count": 2,
   "metadata": {},
   "outputs": [
    {
     "data": {
      "text/html": [
       "<strong id=\"expr\">expr:</strong> <a class=\"ProveItLink\" href=\"expr.ipynb\"><img src=\"data:image/png;base64,iVBORw0KGgoAAAANSUhEUgAAAHAAAAAcBAMAAABL+CZZAAAAMFBMVEX///+qqqp2dnYiIiJERESI\n",
       "iIhmZmYQEBDc3NyYmJgyMjLu7u5UVFTMzMy6uroAAACGxKilAAAAAXRSTlMAQObYZgAAAkRJREFU\n",
       "OMudVL9rFFEQ/vbucj+yP+7+Aw8lVkGuMdgIp51gsaCHhSYuKQRJYRQEIaBbWIlwq1gGuUoQUxyo\n",
       "HNicSIIkWFwh2ARcsFAsvAukyBGS+L23P+5tLik2A2/nm9k38+bNN7tAStGnpts4ieS9fCuE/1IF\n",
       "Gk5pgKpA5ueUZ2Za2BT6U9qSOz4mbOp1Lss+btfrMc/Hy3xcAIqL1Jtq277W1F70FGP5zgIT5evA\n",
       "LSqHnndqysnEpVvKCw8fBjxqC+i2UfARlBxLuaJaL0fwC6C1mn5xCGQ9/KSnkOhPP2F1YlTcIwX2\n",
       "e7e0JMu9QdffxO3PJKxcfL7FEs2e2Zh2AXK5Qde8yLd27lGwYaWxHrbpdKOHjBOfeDAbp7N2cZXq\n",
       "LddvNzcItm+jHLTyhz9Z463i3bcPtt0Qmnt4Q/WY6YayzRRtFwU5UvpD5DxYi6NLLj9ZiuA+Zqj2\n",
       "OYIDZIPecobLsjxDVmAO1GkbRmRvRYHlOrpBgVkHfU/SUk8G0qkPRyeuUN0HmjZOoR3SeE+Cpqwg\n",
       "LlVnGcWdETWrVFc4ChVsaD1dBPbwABJ44pSSaI4wRZfy0VBZO7hGdVaMkzaTQZdjalT4WgIHmZAO\n",
       "YebPA9ejssljn+qXoHHu+xw6LEVfuwsJMN+4yYw+AtOwvq16yjcpOCtE9ODPGOgkzWjebRjkrFRV\n",
       "OncITCXNULouzJr6WY0F6q0jA19xXeJ6HtoTOAwMN2FGcpHrmaDl2F/H7JHekmi1Vk3/c30qny/S\n",
       "By7g5PIfSZqTYXcSBYgAAAAASUVORK5CYII=\n",
       "\" style=\"display:inline;vertical-align:middle;\" /></a><br>"
      ],
      "text/plain": [
       "expr: ((a , b , c) , S^{3})"
      ]
     },
     "execution_count": 2,
     "metadata": {},
     "output_type": "execute_result"
    }
   ],
   "source": [
    "# build up the expression from sub-expressions\n",
    "expr = ExprTuple([a, b, c], Exp(S, three))"
   ]
  },
  {
   "cell_type": "code",
   "execution_count": 3,
   "metadata": {},
   "outputs": [
    {
     "name": "stdout",
     "output_type": "stream",
     "text": [
      "Passed sanity check: built 'expr' is the same as the stored Expression.\n"
     ]
    }
   ],
   "source": [
    "# check that the built expression is the same as the stored expression\n",
    "%check_expr"
   ]
  },
  {
   "cell_type": "code",
   "execution_count": 4,
   "metadata": {},
   "outputs": [
    {
     "data": {
      "text/html": [
       "<table><tr><th>&nbsp;</th><th>core type</th><th>sub-expressions</th><th>expression</th></tr>\n",
       "<tr><td>0</td><td>ExprTuple</td><td>1, 2</td><td><a class=\"ProveItLink\" href=\"expr.ipynb\"><img src=\"data:image/png;base64,iVBORw0KGgoAAAANSUhEUgAAAHAAAAAcBAMAAABL+CZZAAAAMFBMVEX///+qqqp2dnYiIiJERESI\n",
       "iIhmZmYQEBDc3NyYmJgyMjLu7u5UVFTMzMy6uroAAACGxKilAAAAAXRSTlMAQObYZgAAAkRJREFU\n",
       "OMudVL9rFFEQ/vbucj+yP+7+Aw8lVkGuMdgIp51gsaCHhSYuKQRJYRQEIaBbWIlwq1gGuUoQUxyo\n",
       "HNicSIIkWFwh2ARcsFAsvAukyBGS+L23P+5tLik2A2/nm9k38+bNN7tAStGnpts4ieS9fCuE/1IF\n",
       "Gk5pgKpA5ueUZ2Za2BT6U9qSOz4mbOp1Lss+btfrMc/Hy3xcAIqL1Jtq277W1F70FGP5zgIT5evA\n",
       "LSqHnndqysnEpVvKCw8fBjxqC+i2UfARlBxLuaJaL0fwC6C1mn5xCGQ9/KSnkOhPP2F1YlTcIwX2\n",
       "e7e0JMu9QdffxO3PJKxcfL7FEs2e2Zh2AXK5Qde8yLd27lGwYaWxHrbpdKOHjBOfeDAbp7N2cZXq\n",
       "LddvNzcItm+jHLTyhz9Z463i3bcPtt0Qmnt4Q/WY6YayzRRtFwU5UvpD5DxYi6NLLj9ZiuA+Zqj2\n",
       "OYIDZIPecobLsjxDVmAO1GkbRmRvRYHlOrpBgVkHfU/SUk8G0qkPRyeuUN0HmjZOoR3SeE+Cpqwg\n",
       "LlVnGcWdETWrVFc4ChVsaD1dBPbwABJ44pSSaI4wRZfy0VBZO7hGdVaMkzaTQZdjalT4WgIHmZAO\n",
       "YebPA9ejssljn+qXoHHu+xw6LEVfuwsJMN+4yYw+AtOwvq16yjcpOCtE9ODPGOgkzWjebRjkrFRV\n",
       "OncITCXNULouzJr6WY0F6q0jA19xXeJ6HtoTOAwMN2FGcpHrmaDl2F/H7JHekmi1Vk3/c30qny/S\n",
       "By7g5PIfSZqTYXcSBYgAAAAASUVORK5CYII=\n",
       "\" style=\"display:inline;vertical-align:middle;\" /></a></td></tr>\n",
       "<tr><td>1</td><td>ExprTuple</td><td>3, 4, 5</td><td><a class=\"ProveItLink\" href=\"../d49e900d23804978f563e8d96d3cdab866f378630/expr.ipynb\"><img src=\"data:image/png;base64,iVBORw0KGgoAAAANSUhEUgAAADsAAAAVBAMAAAAKrYvGAAAAMFBMVEX////c3NwiIiJERESqqqqY\n",
       "mJh2dnZmZmYQEBDu7u4yMjJUVFTMzMyIiIi6uroAAAAs73DqAAAAAXRSTlMAQObYZgAAAThJREFU\n",
       "KM+FkrFLw0AUxn9t0qZpbNPdod1cs7jnPzCToxQHOylZ7KqCuCkduyWLg7h0EUQoBFwEl66CKdVJ\n",
       "XBoRBxfxcknhYinecPd978v78t67g39Wc7JK2Um3RyVg3nYUZkRiu1IT6iOVhdAoeNuuyrahNlAD\n",
       "8wIbwnuhmt0C01z64iiND06ywHV8kxe5F0dUfS4FfmtpSRb8xI4kepjVO+ghFyL5C8ORQf2bWld+\n",
       "d47m0TzmB6yEcla/EWL7KbCk21qSyrZDkFmWfeaebNDJ5VNoT9hikLd9JEFbugnzTQhc7vTITOWI\n",
       "MyQQHh6VkJ6YpKdvVAnEuC3XGGXApyobe03bnt5PGX6IgseHSEA/fhJ5M2qtxYxeloAYaqW7IN4S\n",
       "2FcvdEk2xYWynpMGf4GV/re08jE9wy8Jx0wlkMlGlgAAAABJRU5ErkJggg==\n",
       "\" style=\"display:inline;vertical-align:middle;\" /></a></td></tr>\n",
       "<tr><td>2</td><td>Operation</td><td>operator:&nbsp;6<br>operands:&nbsp;7<br></td><td><a class=\"ProveItLink\" href=\"../243f3443270ac59b881a41e1e6bffbb0a35cc9500/expr.ipynb\"><img src=\"data:image/png;base64,iVBORw0KGgoAAAANSUhEUgAAABUAAAAUBAMAAACQZWsAAAAAMFBMVEX///8iIiIQEBCIiIjMzMzc\n",
       "3Nyqqqp2dnZEREQyMjK6urru7u5mZmZUVFSYmJgAAACI6eGPAAAAAXRSTlMAQObYZgAAAI1JREFU\n",
       "CNdjYICA7ea3GWDgHMNJOPsOw3sGBKhEMLm1EEyLAhDFd+fMvgUMDCdA7HkM3P1AKj6BgYEXKJnJ\n",
       "+osh/gGQ78DA4MwtyvBoAwPDeqCcC4Oz+VWQus8OcNOY//9vhXPiLn3agLCz/gGE5gPi/VD2HpD2\n",
       "AAg7E4jPQtUeNGBgboCyL6y92wdlAgDXlCWtjOBqCgAAAABJRU5ErkJggg==\n",
       "\" style=\"display:inline;vertical-align:middle;\" /></a></td></tr>\n",
       "<tr><td>3</td><td>Variable</td><td></td><td><a class=\"ProveItLink\" href=\"../../../../__pv_it/07527342713064c87612d00d8557c53d53d5324a0/expr.ipynb\"><img src=\"data:image/png;base64,iVBORw0KGgoAAAANSUhEUgAAAAsAAAAJBAMAAAAWSsseAAAAMFBMVEX///8yMjKqqqrMzMzu7u4i\n",
       "IiJmZmaYmJhEREQQEBC6urp2dnaIiIhUVFTc3NwAAAD87Fq/AAAAAXRSTlMAQObYZgAAAEhJREFU\n",
       "CNdjYOC7s2seAwPDygccHxgY+L4zsDUwMPB+YGA9wMDA38Dgb8DA8P4Agz6DA4O/AsNFJgMGxgKm\n",
       "MG6gyjunLE4xAAAZTBA5TB6DCwAAAABJRU5ErkJggg==\n",
       "\" style=\"display:inline;vertical-align:middle;\" /></a></td></tr>\n",
       "<tr><td>4</td><td>Variable</td><td></td><td><a class=\"ProveItLink\" href=\"../../../../__pv_it/6840a4fa6c106149dc16a131294d0c5e44f1b0480/expr.ipynb\"><img src=\"data:image/png;base64,iVBORw0KGgoAAAANSUhEUgAAAAkAAAAOBAMAAAAPuiubAAAALVBMVEX///9mZmbMzMxERESYmJiI\n",
       "iIh2dna6urqqqqoyMjIiIiIQEBBUVFTu7u4AAAD9S1JeAAAAAXRSTlMAQObYZgAAAE1JREFUCNdj\n",
       "4D29gAEIOA+ASL4GEFl3AURmgQiGOaFHGBh4HzPwKTBwvGXgTmBgnMDAJ8DAJcBQ5wBSLncBJLWN\n",
       "gYGngRFoBO9REQYGAGrcDtUkVqASAAAAAElFTkSuQmCC\n",
       "\" style=\"display:inline;vertical-align:middle;\" /></a></td></tr>\n",
       "<tr><td>5</td><td>Variable</td><td></td><td><a class=\"ProveItLink\" href=\"../../../../__pv_it/cbdfda466482236edba0ce44ac7ef39cda0af7a40/expr.ipynb\"><img src=\"data:image/png;base64,iVBORw0KGgoAAAANSUhEUgAAAAkAAAAJBAMAAAASvxsjAAAALVBMVEX///9mZmbc3NxUVFSYmJhE\n",
       "REQiIiIyMjK6uroQEBDMzMyIiIh2dnbu7u4AAABgFDGoAAAAAXRSTlMAQObYZgAAADZJREFUCNdj\n",
       "YOA9s3sBA8PKBvYEBt7ZDKwODMwPGICALwBE6m0Asx0YGIDiAgw8QJUyu/cyAAAmuwmycZ8WfQAA\n",
       "AABJRU5ErkJggg==\n",
       "\" style=\"display:inline;vertical-align:middle;\" /></a></td></tr>\n",
       "<tr><td>6</td><td>Literal</td><td></td><td><a class=\"ProveItLink\" href=\"../../../exponentiation/__pv_it/deb2bf23cbccdd6e6791e1b35b5b9794ce12dbd50/expr.ipynb\"><img src=\"data:image/png;base64,iVBORw0KGgoAAAANSUhEUgAAACgAAAASBAMAAADbMYGVAAAAMFBMVEX///8QEBAiIiKYmJjc3Nzu\n",
       "7u7MzMx2dnZmZma6urpERESqqqoyMjJUVFSIiIgAAAAoDOMTAAAAAXRSTlMAQObYZgAAAOBJREFU\n",
       "GNNjYGB4+//u3Tt/GNAASGAXmhjnPyDBgSbI/g1IxKEJ8nxgYGdgQRPkX8BgDKRY6q7s62OYvmze\n",
       "2wAgb/7ZO1+AVDiDkYEQQ0HTBr4DQF59AgOIKmB4z7CNbcNZBu6vQN55kEACQwDDLQYGVobfDHwg\n",
       "fb8YGBxYHwAZciD3fWXg+gB1JjvQcJZvQIXsCgz8F6DO9GBgMOH7wPCUgaeBwd4B7EwGNjUG7s9c\n",
       "AiwPgO5jkWRgiF3/9+5dfQUG1nWl5Y+B7pv+1gE9bBhqGLCAE1jEWH9jEbT5A3IwAC4sP/1L6Qlu\n",
       "AAAAAElFTkSuQmCC\n",
       "\" style=\"display:inline;vertical-align:middle;\" /></a></td></tr>\n",
       "<tr><td>7</td><td>ExprTuple</td><td>8, 9</td><td><a class=\"ProveItLink\" href=\"../a3c0282ccaeb2bfb970a380d24ebfbac073b6fc00/expr.ipynb\"><img src=\"data:image/png;base64,iVBORw0KGgoAAAANSUhEUgAAAC0AAAAVBAMAAAAgHXppAAAAMFBMVEX////c3NwiIiJERESqqqqY\n",
       "mJh2dnZmZmYQEBDu7u4yMjJUVFTMzMyIiIi6uroAAAAs73DqAAAAAXRSTlMAQObYZgAAASZJREFU\n",
       "GNNjYMAF+C5gCMWBiNMggnV7+dQHIAZPWrIDA/sBIGsliLuUgdMerFScge8vA8MCBgZekDHcCQwM\n",
       "XmDxfAeGTwwMYQwMHBOAPHmgxrNgcX+w+AwGhlcg3nsHBoYzMHcAzWF2YCgDseX/HoA7hmsDAwNb\n",
       "AdBGIOD9/98QKnxsNZBgWcDQB+aJ7vgxASrBCxTha2D4B+XmB8AM6p/AwPMBLM4KxPMh4jIMDPYB\n",
       "IPEWIGc6yGoBkDDn/wkgcaA5pgwQL1UzcIIkfjEw6AswsC5gSAdyii4w8BowzFcAMq8y8H0Du/MR\n",
       "kLPh9W6gthkfQS4srwL6kesBA4cA3EcP4SxgOLAmwHlwlzLkwsIZVZwTGM4M0jAeL1wBN8hsRsx4\n",
       "vMPAAAB51UMgS+BHcAAAAABJRU5ErkJggg==\n",
       "\" style=\"display:inline;vertical-align:middle;\" /></a></td></tr>\n",
       "<tr><td>8</td><td>Variable</td><td></td><td><a class=\"ProveItLink\" href=\"../../../../__pv_it/abeee18594afe51bfb1be95d9591fbba24ac53f30/expr.ipynb\"><img src=\"data:image/png;base64,iVBORw0KGgoAAAANSUhEUgAAAA0AAAAOBAMAAAAGUYvhAAAAMFBMVEX///8iIiIQEBCIiIjMzMzc\n",
       "3Nyqqqp2dnZEREQyMjK6urru7u5mZmZUVFSYmJgAAACI6eGPAAAAAXRSTlMAQObYZgAAAF1JREFU\n",
       "CNdjYGDgu3Nm3wIGBoZ5DNz9QIq3gIEhE0jHOzAwOAPp9QkMDC4g/megABAw///fCmbEXfq0Acxg\n",
       "qH8ANAVI7wfSe0BKAyBGnAXigwYMzA1A+sLau31ACgAz0hhbkhGHbwAAAABJRU5ErkJggg==\n",
       "\" style=\"display:inline;vertical-align:middle;\" /></a></td></tr>\n",
       "<tr><td>9</td><td>Literal</td><td></td><td><a class=\"ProveItLink\" href=\"../../../numeral/__pv_it/9176d93c83afa2c995b614976e3cb49207102fa70/expr.ipynb\"><img src=\"data:image/png;base64,iVBORw0KGgoAAAANSUhEUgAAAAoAAAAOBAMAAADkjZCYAAAAMFBMVEX///+YmJju7u4QEBBUVFQy\n",
       "MjIiIiKIiIi6urpmZmbc3NyqqqpERER2dnbMzMwAAAB0GlNiAAAAAXRSTlMAQObYZgAAAE1JREFU\n",
       "CNdjYHh79zQDA9cEhv4CBt7fDPwJDNxgEgiAIkAQAsR8Vx1ATIbiBhDJ/ImB6wEDz0cG/U8gkj+A\n",
       "ge0XA7sAQ/8FBoadM6MZAEflFACalZ/OAAAAAElFTkSuQmCC\n",
       "\" style=\"display:inline;vertical-align:middle;\" /></a></td></tr>\n",
       "</table>\n"
      ],
      "text/plain": [
       "0. ((a , b , c) , S^{3})\n",
       "   core type: ExprTuple\n",
       "   sub-expressions: 1, 2\n",
       "1. (a , b , c)\n",
       "   core type: ExprTuple\n",
       "   sub-expressions: 3, 4, 5\n",
       "2. S^{3}\n",
       "   core type: Operation\n",
       "   operator: 6\n",
       "   operands: 7\n",
       "3. a\n",
       "   core type: Variable\n",
       "   sub-expressions: \n",
       "4. b\n",
       "   core type: Variable\n",
       "   sub-expressions: \n",
       "5. c\n",
       "   core type: Variable\n",
       "   sub-expressions: \n",
       "6. Exp\n",
       "   core type: Literal\n",
       "   sub-expressions: \n",
       "7. (S , 3)\n",
       "   core type: ExprTuple\n",
       "   sub-expressions: 8, 9\n",
       "8. S\n",
       "   core type: Variable\n",
       "   sub-expressions: \n",
       "9. 3\n",
       "   core type: Literal\n",
       "   sub-expressions: "
      ]
     },
     "execution_count": 4,
     "metadata": {},
     "output_type": "execute_result"
    }
   ],
   "source": [
    "# display the expression information\n",
    "expr.exprInfo()"
   ]
  },
  {
   "cell_type": "code",
   "execution_count": null,
   "metadata": {},
   "outputs": [],
   "source": []
  }
 ],
 "metadata": {
  "kernelspec": {
   "display_name": "Python 3",
   "language": "python",
   "name": "python3"
  }
 },
 "nbformat": 4,
 "nbformat_minor": 0
}
