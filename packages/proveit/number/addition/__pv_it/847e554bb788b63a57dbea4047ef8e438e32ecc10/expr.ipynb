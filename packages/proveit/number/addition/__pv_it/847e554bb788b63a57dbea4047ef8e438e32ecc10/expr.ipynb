{
 "cells": [
  {
   "cell_type": "markdown",
   "metadata": {},
   "source": [
    "Expression of type <a class=\"ProveItLink\" href=\"../../../../../../doc/html/api/proveit.ExprTuple.html\">ExprTuple</a>\n",
    "=======================\n",
    "# from context <a class=\"ProveItLink\" href=\"../../_context_.ipynb\">proveit.number.addition</a>"
   ]
  },
  {
   "cell_type": "code",
   "execution_count": 1,
   "metadata": {},
   "outputs": [],
   "source": [
    "# import Expression classes needed to build the expression\n",
    "from proveit import ExprTuple\n",
    "from proveit.number import Add, five, three, two, zero"
   ]
  },
  {
   "cell_type": "code",
   "execution_count": 2,
   "metadata": {},
   "outputs": [
    {
     "data": {
      "text/html": [
       "<strong id=\"expr\">expr:</strong> <a class=\"ProveItLink\" href=\"expr.ipynb\"><img src=\"data:image/png;base64,iVBORw0KGgoAAAANSUhEUgAAALkAAAAVBAMAAADoXVL6AAAAMFBMVEX////c3NwiIiJERESqqqqY\n",
       "mJh2dnZmZmYQEBDu7u4yMjJUVFTMzMyIiIi6uroAAAAs73DqAAAAAXRSTlMAQObYZgAAAjxJREFU\n",
       "OMu1lT1MFEEYht/dW+5ub3fvzorCQgpiTDTGGG3JdVbEoyGxIRdiIDESt4IENP7ERmMI0HAdG38K\n",
       "h+ZKEi22woKCiw2Ek3hampjDBDFXcOvMzgL37Q8U5KbYnX3f2WdnvvnmW6C3LV/vEXhMXDaA5d3H\n",
       "Iad/diikrE/cooL+ZMuVvdw95X6MlxH2R+A6llziKjV8L1HFRosuUm3q12Qv63kVxHgOYNVhDcBy\n",
       "pLwob8YC1D2ipPdRGCDKV2AnmPvcw6M5F7u9Uf5hDqoh/0fKw8FsXsHoEEU7oQfKVaAlYcbxnLV6\n",
       "t1cFfgEFG+Y+eTPXRobSeTuKTKD8AzZLCXTppUqYBi5VYB6GWWo7rKyiW1EOOEHCjN1Gk9ADL23j\n",
       "g6QfhFmbFaqYD2pRuhyTWtA7UXoFmoP5BPo7hJXtZgKdt7U4ev4ZOvGRydyI0LPthMjw9siNiYy5\n",
       "J+hiV/9ycZaxK4zJ8Db864miuEjRMWLnyv6om5zO15Vh7O1rxmrHHqe/hMhIjWYkNBsXiLLSlnSS\n",
       "kXdlRr4AnhbDGck9HpnbEKcpTXMZX4ARohQcqHQG/MSMQxc9G2A0I30PfQ4m+cMgqi55U7k8MUm/\n",
       "Z5XRolmklvQ3WBGj+qE9p3TfExn5kz8sT32me6h6nhdazZ2Z93SMPt1wURXrMWc+FSnd95BrIlvs\n",
       "Lj/DkTp6hvKDWBopdLwS9JHy9jvCOkMpn/KvmJIV+BytnGzpou5ePA/cOsUzRMyVXv35vgH/AeEF\n",
       "wGar8ohJAAAAAElFTkSuQmCC\n",
       "\" style=\"display:inline;vertical-align:middle;\" /></a><br>"
      ],
      "text/plain": [
       "expr: (0 + 2 + 3 + 0 , 5 + 0)"
      ]
     },
     "execution_count": 2,
     "metadata": {},
     "output_type": "execute_result"
    }
   ],
   "source": [
    "# build up the expression from sub-expressions\n",
    "expr = ExprTuple(Add(zero, two, three, zero), Add(five, zero))"
   ]
  },
  {
   "cell_type": "code",
   "execution_count": 3,
   "metadata": {},
   "outputs": [
    {
     "name": "stdout",
     "output_type": "stream",
     "text": [
      "Passed sanity check: built 'expr' is the same as the stored Expression.\n"
     ]
    }
   ],
   "source": [
    "# check that the built expression is the same as the stored expression\n",
    "%check_expr"
   ]
  },
  {
   "cell_type": "code",
   "execution_count": 4,
   "metadata": {},
   "outputs": [
    {
     "data": {
      "text/html": [
       "<table><tr><th>&nbsp;</th><th>core type</th><th>sub-expressions</th><th>expression</th></tr>\n",
       "<tr><td>0</td><td>ExprTuple</td><td>1, 2</td><td><a class=\"ProveItLink\" href=\"expr.ipynb\"><img src=\"data:image/png;base64,iVBORw0KGgoAAAANSUhEUgAAALkAAAAVBAMAAADoXVL6AAAAMFBMVEX////c3NwiIiJERESqqqqY\n",
       "mJh2dnZmZmYQEBDu7u4yMjJUVFTMzMyIiIi6uroAAAAs73DqAAAAAXRSTlMAQObYZgAAAjxJREFU\n",
       "OMu1lT1MFEEYht/dW+5ub3fvzorCQgpiTDTGGG3JdVbEoyGxIRdiIDESt4IENP7ERmMI0HAdG38K\n",
       "h+ZKEi22woKCiw2Ek3hampjDBDFXcOvMzgL37Q8U5KbYnX3f2WdnvvnmW6C3LV/vEXhMXDaA5d3H\n",
       "Iad/diikrE/cooL+ZMuVvdw95X6MlxH2R+A6llziKjV8L1HFRosuUm3q12Qv63kVxHgOYNVhDcBy\n",
       "pLwob8YC1D2ipPdRGCDKV2AnmPvcw6M5F7u9Uf5hDqoh/0fKw8FsXsHoEEU7oQfKVaAlYcbxnLV6\n",
       "t1cFfgEFG+Y+eTPXRobSeTuKTKD8AzZLCXTppUqYBi5VYB6GWWo7rKyiW1EOOEHCjN1Gk9ADL23j\n",
       "g6QfhFmbFaqYD2pRuhyTWtA7UXoFmoP5BPo7hJXtZgKdt7U4ev4ZOvGRydyI0LPthMjw9siNiYy5\n",
       "J+hiV/9ycZaxK4zJ8Db864miuEjRMWLnyv6om5zO15Vh7O1rxmrHHqe/hMhIjWYkNBsXiLLSlnSS\n",
       "kXdlRr4AnhbDGck9HpnbEKcpTXMZX4ARohQcqHQG/MSMQxc9G2A0I30PfQ4m+cMgqi55U7k8MUm/\n",
       "Z5XRolmklvQ3WBGj+qE9p3TfExn5kz8sT32me6h6nhdazZ2Z93SMPt1wURXrMWc+FSnd95BrIlvs\n",
       "Lj/DkTp6hvKDWBopdLwS9JHy9jvCOkMpn/KvmJIV+BytnGzpou5ePA/cOsUzRMyVXv35vgH/AeEF\n",
       "wGar8ohJAAAAAElFTkSuQmCC\n",
       "\" style=\"display:inline;vertical-align:middle;\" /></a></td></tr>\n",
       "<tr><td>1</td><td>Operation</td><td>operator:&nbsp;4<br>operands:&nbsp;3<br></td><td><a class=\"ProveItLink\" href=\"../d2b99dc3fe5bdacd00240e904a0b3bd83a0915960/expr.ipynb\"><img src=\"data:image/png;base64,iVBORw0KGgoAAAANSUhEUgAAAHUAAAAQBAMAAADaEy1mAAAAMFBMVEX///9EREQQEBCYmJh2dnaq\n",
       "qqrc3NxUVFQyMjK6uroiIiLMzMyIiIhmZmbu7u4AAADSWfX9AAAAAXRSTlMAQObYZgAAAVxJREFU\n",
       "KM+FkzFLw0AYhl/EpE2aRlcnV0XQTs4ROolifkChmVykmN1FJw8nf4BgEUXEwQyu0oJDRRQ7OBRU\n",
       "CA4OQkEwikptvOTa2u9S8Ya85OF7Lh/3XYDm1R3oKjXGKMjk52xKzPtrj8cRnj3CVRc3tLQErUVd\n",
       "fds8BowyjHUBnkSkfOgvhCzZ+Op8zxF5CVzwHVxo7wIURAxNI/VJSLHnKlWRh8Cug5E6Mm+kMt1G\n",
       "lrro9dx1v4GKjVULmZZUCb0tkbRLXDXgbjV2A9mtWJScbiLpWoPdDUjEmPzLlXvOjsouZvwBPUdn\n",
       "9cpfG4ztMSZ6q8XPX7ICjOf4loxtTTDmds4qF81IoTOCUsdyPzFDP3bpjIpOdDeGy9Q9A2YJ+QBO\n",
       "HOLyuzHP4wCPHqlU9/OLdLdzaAGdr26bUzyaC2v0ZPQwDKmrPDRs6pq3NfoTFCCvBOm6ibXzP9H6\n",
       "3R+LaXefNDRXJAAAAABJRU5ErkJggg==\n",
       "\" style=\"display:inline;vertical-align:middle;\" /></a></td></tr>\n",
       "<tr><td>2</td><td>Operation</td><td>operator:&nbsp;4<br>operands:&nbsp;5<br></td><td><a class=\"ProveItLink\" href=\"../8240cf9ab654d083a57934117333fd9ebbc5b1930/expr.ipynb\"><img src=\"data:image/png;base64,iVBORw0KGgoAAAANSUhEUgAAACwAAAAQBAMAAACfEoDkAAAAMFBMVEX///8iIiJERES6urqIiIjM\n",
       "zMxUVFRmZmYQEBCqqqp2dnbc3Nzu7u6YmJgyMjIAAADYGhJvAAAAAXRSTlMAQObYZgAAAKdJREFU\n",
       "GNNj4LvDvZIBBRx3KWVg4Pj/fwGqsDDDwQAGvrKlUC7PBjDFIsDA8oCBDa6K0wFMMSYwMP/GFOYv\n",
       "YGD9ycDm4maAIrx/AQPrFwamAzyfMYR/gRgZ2IXXB2AaoggUBhrO/u7dw7537xIgVv5laGRgqN+A\n",
       "5kDO3wwFDAzvUMwGeodLgGE7A2c3ijCDJMOJAAbW8rQNqMLHl6QiBxFMGA0wIwkDANlwL/bm24rs\n",
       "AAAAAElFTkSuQmCC\n",
       "\" style=\"display:inline;vertical-align:middle;\" /></a></td></tr>\n",
       "<tr><td>3</td><td>ExprTuple</td><td>9, 6, 7, 9</td><td><a class=\"ProveItLink\" href=\"../0ca2a64168abc23945e3bc947d5f1d2a3f9aa2c50/expr.ipynb\"><img src=\"data:image/png;base64,iVBORw0KGgoAAAANSUhEUgAAAFEAAAAVBAMAAADMaB9/AAAAMFBMVEX////c3NwiIiJERESqqqqY\n",
       "mJh2dnZmZmYQEBDu7u4yMjJUVFTMzMyIiIi6uroAAAAs73DqAAAAAXRSTlMAQObYZgAAAaNJREFU\n",
       "KM+NkztLI1EYhp/ExGSSzDhWFgpOITaK2ti68w8Smy0lKGglpoogChY2gmiwMZ0BsVhs8gMsUmlh\n",
       "YVhYFjYrXkobL2hEwcRzmZl4KcwUc97zzgPf+d7zDbT/WNU2oCn5OoGds2XP6Vma0CI1O+NqZaz8\n",
       "rRCrCPULRtiuKDdU5lwDPVivmgxfGMNQArOK6WCWlJssEL5VasHlXpO/4R/8hLj4WMa6U258nWRD\n",
       "qXRADsGNTRGuoStH6kG5iWdiDb9Tr/oTnLp0uOShP0vq1e8y/OyJRFkfvS7IKp059jVZ98nTrF6P\n",
       "DmiRWSIlNj+Re74wN9+T1iqNj9VjY0HaW4V31VO3kpQdPXqfa97aBz8yQUcZSa4hU4rolIjk6FYX\n",
       "0yz4pEgpbcvq48jkOx1UrWOYVOoFRm3DS34aoiXmxGaAYsWQQYcGZ+ccpf5g1dl1ZGyusYFM6Ups\n",
       "duYPMbZs4TabTUepyOKSS1GeycjXxFAkLojb/p3YfFGXQRDiNqNe0kQDt6UygZrXU/c9achZ6/U2\n",
       "rdEPlBlYSXmgUDt/x394A9gLcdxmBSofAAAAAElFTkSuQmCC\n",
       "\" style=\"display:inline;vertical-align:middle;\" /></a></td></tr>\n",
       "<tr><td>4</td><td>Literal</td><td></td><td><a class=\"ProveItLink\" href=\"../3e6688136fa3c7aefbebe51301b7c3ebf0b69c440/expr.ipynb\"><img src=\"data:image/png;base64,iVBORw0KGgoAAAANSUhEUgAAAA4AAAAOBAMAAADtZjDiAAAAJFBMVEX///+6urpUVFQQEBAiIiIy\n",
       "MjJmZmaIiIiqqqrc3Nzu7u4AAACgHpL+AAAAAXRSTlMAQObYZgAAAB5JREFUCNdjYGBgWMkAAe2k\n",
       "0Kmhoc6hoUGk6BMHYgAHOwjcado9fwAAAABJRU5ErkJggg==\n",
       "\" style=\"display:inline;vertical-align:middle;\" /></a></td></tr>\n",
       "<tr><td>5</td><td>ExprTuple</td><td>8, 9</td><td><a class=\"ProveItLink\" href=\"../7728172d518bc2979febbd810d57a089e2ce03470/expr.ipynb\"><img src=\"data:image/png;base64,iVBORw0KGgoAAAANSUhEUgAAACkAAAAVBAMAAAAp9toTAAAAMFBMVEX////c3NwiIiJERESqqqqY\n",
       "mJh2dnZmZmYQEBDu7u4yMjJUVFTMzMyIiIi6uroAAAAs73DqAAAAAXRSTlMAQObYZgAAAQ5JREFU\n",
       "GNNtkSFMw0AUhr8x2u42WE5hMPPMTsxV4oZCkgWDIpmaISQTSMIqcdQsBAdmbksdArEFQwIjaZAz\n",
       "AwSYZfCuXZuycOLy/i+X/977H/x/yuMVcGCuB+h5W24E1OlTgBNIdQPdn6/42VqoquDDphhc94OY\n",
       "PsIz7EPBg9vEcgdmmkuYkqHfMHLJu7RFDF6HEcyJ/WiM3aInqs5VmNIm6z4X0atSJ0PLHRYRtecZ\n",
       "h413Q/MV7EX6256hZ9JcBecj6ayhjUMNHCj6ePEUh2D5HIldi12tPs3ErjrHdPYm4v7kDtXVkk77\n",
       "RWYvhhR0kmhSmImt5rK20oCP4yT/UiVJsr0U6UpKxiq3uqEJ/AItaEaOz2+YQgAAAABJRU5ErkJg\n",
       "gg==\n",
       "\" style=\"display:inline;vertical-align:middle;\" /></a></td></tr>\n",
       "<tr><td>6</td><td>Literal</td><td></td><td><a class=\"ProveItLink\" href=\"../../../numeral/__pv_it/77d407a64829263cdc16415becd4c2293f77a4bf0/expr.ipynb\"><img src=\"data:image/png;base64,iVBORw0KGgoAAAANSUhEUgAAAAkAAAAOBAMAAAAPuiubAAAAMFBMVEX///+YmJh2dnbMzMwQEBAi\n",
       "IiLu7u6qqqqIiIhUVFS6urpEREQyMjJmZmbc3NwAAACOMKdoAAAAAXRSTlMAQObYZgAAAFBJREFU\n",
       "CNdj4Lt7egEDw0sGju8MDNMYGOIZGFwSGOYvYDifwHAfKAEUSQASzJ9ATJ4NIPI2iOCYACJrGfge\n",
       "MDBfYGB8wPBUSekqUPH//18ZAIliFhc3zESNAAAAAElFTkSuQmCC\n",
       "\" style=\"display:inline;vertical-align:middle;\" /></a></td></tr>\n",
       "<tr><td>7</td><td>Literal</td><td></td><td><a class=\"ProveItLink\" href=\"../../../numeral/__pv_it/9176d93c83afa2c995b614976e3cb49207102fa70/expr.ipynb\"><img src=\"data:image/png;base64,iVBORw0KGgoAAAANSUhEUgAAAAoAAAAOBAMAAADkjZCYAAAAMFBMVEX///+YmJju7u4QEBBUVFQy\n",
       "MjIiIiKIiIi6urpmZmbc3NyqqqpERER2dnbMzMwAAAB0GlNiAAAAAXRSTlMAQObYZgAAAE1JREFU\n",
       "CNdjYHh79zQDA9cEhv4CBt7fDPwJDNxgEgiAIkAQAsR8Vx1ATIbiBhDJ/ImB6wEDz0cG/U8gkj+A\n",
       "ge0XA7sAQ/8FBoadM6MZAEflFACalZ/OAAAAAElFTkSuQmCC\n",
       "\" style=\"display:inline;vertical-align:middle;\" /></a></td></tr>\n",
       "<tr><td>8</td><td>Literal</td><td></td><td><a class=\"ProveItLink\" href=\"../../../numeral/__pv_it/aaeeaca7d86eb2b7cdc49e25c3108b81b52ec5400/expr.ipynb\"><img src=\"data:image/png;base64,iVBORw0KGgoAAAANSUhEUgAAAAkAAAAOBAMAAAAPuiubAAAAMFBMVEX///8iIiJERES6urqIiIjM\n",
       "zMxUVFRmZmYQEBCqqqp2dnbc3Nzu7u6YmJgyMjIAAADYGhJvAAAAAXRSTlMAQObYZgAAAE1JREFU\n",
       "CNdj4LvDvZKBgeP//wUMDHxlSxkYGNgYGBCki5sBAwPTAZ7PYG4GmFwfwKAIJA0YGhkY6jcwFDAw\n",
       "vGNg2M7A2c3AwFqetoEBAKS8EE1WXEJLAAAAAElFTkSuQmCC\n",
       "\" style=\"display:inline;vertical-align:middle;\" /></a></td></tr>\n",
       "<tr><td>9</td><td>Literal</td><td></td><td><a class=\"ProveItLink\" href=\"../../../numeral/__pv_it/ec23fc7a1b4222a5f4948b495002b97d6fa18c3c0/expr.ipynb\"><img src=\"data:image/png;base64,iVBORw0KGgoAAAANSUhEUgAAAAoAAAAOBAMAAADkjZCYAAAALVBMVEX///8QEBCYmJh2dnaqqqrc\n",
       "3NxUVFQyMjK6uroiIiLMzMyIiIhmZmbu7u4AAAAZjyHdAAAAAXRSTlMAQObYZgAAAEpJREFUCNdj\n",
       "YLiz+xQDA8MMhpsLGLgnMHAXMHAmMHA8ZeA7wMD1hCHOgIHrNZh8jES+Bss+AqlkeQrSxTyBgWEK\n",
       "w8UFDAx3rLMYAMCjFldHSx/9AAAAAElFTkSuQmCC\n",
       "\" style=\"display:inline;vertical-align:middle;\" /></a></td></tr>\n",
       "</table>\n"
      ],
      "text/plain": [
       "0. (0 + 2 + 3 + 0 , 5 + 0)\n",
       "   core type: ExprTuple\n",
       "   sub-expressions: 1, 2\n",
       "1. 0 + 2 + 3 + 0\n",
       "   core type: Operation\n",
       "   operator: 4\n",
       "   operands: 3\n",
       "2. 5 + 0\n",
       "   core type: Operation\n",
       "   operator: 4\n",
       "   operands: 5\n",
       "3. (0 , 2 , 3 , 0)\n",
       "   core type: ExprTuple\n",
       "   sub-expressions: 9, 6, 7, 9\n",
       "4. +\n",
       "   core type: Literal\n",
       "   sub-expressions: \n",
       "5. (5 , 0)\n",
       "   core type: ExprTuple\n",
       "   sub-expressions: 8, 9\n",
       "6. 2\n",
       "   core type: Literal\n",
       "   sub-expressions: \n",
       "7. 3\n",
       "   core type: Literal\n",
       "   sub-expressions: \n",
       "8. 5\n",
       "   core type: Literal\n",
       "   sub-expressions: \n",
       "9. 0\n",
       "   core type: Literal\n",
       "   sub-expressions: "
      ]
     },
     "execution_count": 4,
     "metadata": {},
     "output_type": "execute_result"
    }
   ],
   "source": [
    "# display the expression information\n",
    "expr.exprInfo()"
   ]
  },
  {
   "cell_type": "code",
   "execution_count": null,
   "metadata": {},
   "outputs": [],
   "source": []
  }
 ],
 "metadata": {
  "kernelspec": {
   "display_name": "Python 3",
   "language": "python",
   "name": "python3"
  }
 },
 "nbformat": 4,
 "nbformat_minor": 0
}
