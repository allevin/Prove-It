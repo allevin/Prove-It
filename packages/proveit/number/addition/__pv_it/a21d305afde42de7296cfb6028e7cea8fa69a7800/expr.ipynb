{
 "cells": [
  {
   "cell_type": "markdown",
   "metadata": {},
   "source": [
    "Expression of type <a class=\"ProveItLink\" href=\"../../../../../../doc/html/api/proveit.ExprTuple.html\">ExprTuple</a>\n",
    "=======================\n",
    "# from context <a class=\"ProveItLink\" href=\"../../_context_.ipynb\">proveit.number.addition</a>"
   ]
  },
  {
   "cell_type": "code",
   "execution_count": 1,
   "metadata": {},
   "outputs": [],
   "source": [
    "# import Expression classes needed to build the expression\n",
    "from proveit import ExprTuple\n",
    "from proveit._common_ import A, B, C, a, b, c\n",
    "from proveit.number import one, three"
   ]
  },
  {
   "cell_type": "code",
   "execution_count": 2,
   "metadata": {},
   "outputs": [
    {
     "data": {
      "text/html": [
       "<strong id=\"expr\">expr:</strong> <a class=\"ProveItLink\" href=\"expr.ipynb\"><img src=\"data:image/png;base64,iVBORw0KGgoAAAANSUhEUgAAANkAAAAVBAMAAAA5ulaKAAAAMFBMVEX////c3NwiIiJERESqqqqY\n",
       "mJh2dnZmZmYQEBDu7u4yMjJUVFTMzMyIiIi6uroAAAAs73DqAAAAAXRSTlMAQObYZgAAAwJJREFU\n",
       "SMe9Vk1IFGEYfmb/x52dHUjwUKA3gw7uJZA67Ny6BA4FXYIUAjtVW4SCHSzLwCB3jpKUWxEiHfIQ\n",
       "BA7iUhCCB/cSEaWuXfo5bZaGP2Xf33wzO8zaKRd29/ne9533+d7ne99vF9jfl17ZJ6Jz9GMhaH3l\n",
       "w1ob/x4fkqazu45zrOquHhzvt1oCCaJ2EGm9500kywRNBdme+3BTTYBnnu0WkPwjcGIY+Dxc/7ya\n",
       "t4OoBfpvoARkgkLGO2xvcWpTgJ9eueQ5bVuke0xiE9/ryZw5O4gum1gDzgApO8DWPGhIrJwQmfRN\n",
       "acsQU3xDlD5CfTcCGVbsIOpibGPAt6CQlZWqlzkjJEu0eadCkkdGOB406ZYK/2QDUzJqoo/Gz166\n",
       "Kc12lyWf+xpbF0XMfnCt2WkoT3gWZYsJVua69S6VG7M1TZMtF/CUwC9G1O0GPMSiPEm1Sg+JviZy\n",
       "2BHGxdmlq4I5ue6raL7a1NaQ7Q3tslgJo2SL60jm3IAqWqUyOpRfQngbd9wMBtQjHEZ8/aHeQ9Rq\n",
       "XFtmlB0wOZh0DRG3Hs1x5iTzguP84GgAELzopFl43ixTRGU4Xdvz3FC0odUoWzaHibIsB6mSVyfu\n",
       "ctQO3VWNNn93D4MpxnCSM+f2YDsE5C3KdhtoraALwk6aLOJ2dIy8D7vjlhQzoFHWOZPXw2xc+NZK\n",
       "YzZ116ZsRMmjpAVMzMTKTBDF5PcHi2rmFwt17CDVw4103Ggv2mLQkbBZRJaIa6mSw65DJL7DQLyE\n",
       "CyS9FWtPYIJ21H06UJtQ1+iOqKLk7qGOF7jOjWzc5qfEotuEfgUsIl1AosxyUA7ulugt9A02AZ/o\n",
       "uC2/XsYY2fSB4iPE81sFtWhA6dwycHp3kjnG31mgRiTz284MmRq2gDbz8hr5ohHoW3rPQX9x0uJu\n",
       "iWL9A1S0KlLynlr1/wwZvsVqmDE0wgOe20Pk5or3uAvLfzX7byIrzBga4YF4SOBF/y/O/2ZjfXDQ\n",
       "nfa6q9mHM2HG8IhMiFuiNJVU2a9/Ch+Bv+8N9wrNcpqmAAAAAElFTkSuQmCC\n",
       "\" style=\"display:inline;vertical-align:middle;\" /></a><br>"
      ],
      "text/plain": [
       "expr: (a , A , A , b , B , C , c , 1 , 1 , 3)"
      ]
     },
     "execution_count": 2,
     "metadata": {},
     "output_type": "execute_result"
    }
   ],
   "source": [
    "# build up the expression from sub-expressions\n",
    "expr = ExprTuple(a, A, A, b, B, C, c, one, one, three)"
   ]
  },
  {
   "cell_type": "code",
   "execution_count": 3,
   "metadata": {},
   "outputs": [
    {
     "name": "stdout",
     "output_type": "stream",
     "text": [
      "Passed sanity check: built 'expr' is the same as the stored Expression.\n"
     ]
    }
   ],
   "source": [
    "# check that the built expression is the same as the stored expression\n",
    "%check_expr"
   ]
  },
  {
   "cell_type": "code",
   "execution_count": 4,
   "metadata": {},
   "outputs": [
    {
     "data": {
      "text/html": [
       "<table><tr><th>&nbsp;</th><th>core type</th><th>sub-expressions</th><th>expression</th></tr>\n",
       "<tr><td>0</td><td>ExprTuple</td><td>1, 2, 2, 3, 4, 5, 6, 7, 7, 8</td><td><a class=\"ProveItLink\" href=\"expr.ipynb\"><img src=\"data:image/png;base64,iVBORw0KGgoAAAANSUhEUgAAANkAAAAVBAMAAAA5ulaKAAAAMFBMVEX////c3NwiIiJERESqqqqY\n",
       "mJh2dnZmZmYQEBDu7u4yMjJUVFTMzMyIiIi6uroAAAAs73DqAAAAAXRSTlMAQObYZgAAAwJJREFU\n",
       "SMe9Vk1IFGEYfmb/x52dHUjwUKA3gw7uJZA67Ny6BA4FXYIUAjtVW4SCHSzLwCB3jpKUWxEiHfIQ\n",
       "BA7iUhCCB/cSEaWuXfo5bZaGP2Xf33wzO8zaKRd29/ne9533+d7ne99vF9jfl17ZJ6Jz9GMhaH3l\n",
       "w1ob/x4fkqazu45zrOquHhzvt1oCCaJ2EGm9500kywRNBdme+3BTTYBnnu0WkPwjcGIY+Dxc/7ya\n",
       "t4OoBfpvoARkgkLGO2xvcWpTgJ9eueQ5bVuke0xiE9/ryZw5O4gum1gDzgApO8DWPGhIrJwQmfRN\n",
       "acsQU3xDlD5CfTcCGVbsIOpibGPAt6CQlZWqlzkjJEu0eadCkkdGOB406ZYK/2QDUzJqoo/Gz166\n",
       "Kc12lyWf+xpbF0XMfnCt2WkoT3gWZYsJVua69S6VG7M1TZMtF/CUwC9G1O0GPMSiPEm1Sg+JviZy\n",
       "2BHGxdmlq4I5ue6raL7a1NaQ7Q3tslgJo2SL60jm3IAqWqUyOpRfQngbd9wMBtQjHEZ8/aHeQ9Rq\n",
       "XFtmlB0wOZh0DRG3Hs1x5iTzguP84GgAELzopFl43ixTRGU4Xdvz3FC0odUoWzaHibIsB6mSVyfu\n",
       "ctQO3VWNNn93D4MpxnCSM+f2YDsE5C3KdhtoraALwk6aLOJ2dIy8D7vjlhQzoFHWOZPXw2xc+NZK\n",
       "YzZ116ZsRMmjpAVMzMTKTBDF5PcHi2rmFwt17CDVw4103Ggv2mLQkbBZRJaIa6mSw65DJL7DQLyE\n",
       "CyS9FWtPYIJ21H06UJtQ1+iOqKLk7qGOF7jOjWzc5qfEotuEfgUsIl1AosxyUA7ulugt9A02AZ/o\n",
       "uC2/XsYY2fSB4iPE81sFtWhA6dwycHp3kjnG31mgRiTz284MmRq2gDbz8hr5ohHoW3rPQX9x0uJu\n",
       "iWL9A1S0KlLynlr1/wwZvsVqmDE0wgOe20Pk5or3uAvLfzX7byIrzBga4YF4SOBF/y/O/2ZjfXDQ\n",
       "nfa6q9mHM2HG8IhMiFuiNJVU2a9/Ch+Bv+8N9wrNcpqmAAAAAElFTkSuQmCC\n",
       "\" style=\"display:inline;vertical-align:middle;\" /></a></td></tr>\n",
       "<tr><td>1</td><td>Variable</td><td></td><td><a class=\"ProveItLink\" href=\"../../../../__pv_it/07527342713064c87612d00d8557c53d53d5324a0/expr.ipynb\"><img src=\"data:image/png;base64,iVBORw0KGgoAAAANSUhEUgAAAAsAAAAJBAMAAAAWSsseAAAAMFBMVEX///8yMjKqqqrMzMzu7u4i\n",
       "IiJmZmaYmJhEREQQEBC6urp2dnaIiIhUVFTc3NwAAAD87Fq/AAAAAXRSTlMAQObYZgAAAEhJREFU\n",
       "CNdjYOC7s2seAwPDygccHxgY+L4zsDUwMPB+YGA9wMDA38Dgb8DA8P4Agz6DA4O/AsNFJgMGxgKm\n",
       "MG6gyjunLE4xAAAZTBA5TB6DCwAAAABJRU5ErkJggg==\n",
       "\" style=\"display:inline;vertical-align:middle;\" /></a></td></tr>\n",
       "<tr><td>2</td><td>Variable</td><td></td><td><a class=\"ProveItLink\" href=\"../../../../__pv_it/2cbe72a7ad6f655694dd697106680215e8489b600/expr.ipynb\"><img src=\"data:image/png;base64,iVBORw0KGgoAAAANSUhEUgAAAA8AAAAOBAMAAAACpFvcAAAALVBMVEX///8QEBBERERUVFS6urqI\n",
       "iIhmZmaqqqrc3Nzu7u6YmJgyMjIiIiLMzMwAAADtIaYWAAAAAXRSTlMAQObYZgAAAFtJREFUCNdj\n",
       "YACBOwxQsA9Kc52bAGG05zVAGAFxDmCaZULdAjBjCsO9ADDDgaEvAUTzGhvbKYCVMDAwbgAxChgY\n",
       "eASANAeQwf0AyJgNxEwvGRia5HYwcOm9TgAA6BoR3jrzwFcAAAAASUVORK5CYII=\n",
       "\" style=\"display:inline;vertical-align:middle;\" /></a></td></tr>\n",
       "<tr><td>3</td><td>Variable</td><td></td><td><a class=\"ProveItLink\" href=\"../../../../__pv_it/6840a4fa6c106149dc16a131294d0c5e44f1b0480/expr.ipynb\"><img src=\"data:image/png;base64,iVBORw0KGgoAAAANSUhEUgAAAAkAAAAOBAMAAAAPuiubAAAALVBMVEX///9mZmbMzMxERESYmJiI\n",
       "iIh2dna6urqqqqoyMjIiIiIQEBBUVFTu7u4AAAD9S1JeAAAAAXRSTlMAQObYZgAAAE1JREFUCNdj\n",
       "4D29gAEIOA+ASL4GEFl3AURmgQiGOaFHGBh4HzPwKTBwvGXgTmBgnMDAJ8DAJcBQ5wBSLncBJLWN\n",
       "gYGngRFoBO9REQYGAGrcDtUkVqASAAAAAElFTkSuQmCC\n",
       "\" style=\"display:inline;vertical-align:middle;\" /></a></td></tr>\n",
       "<tr><td>4</td><td>Variable</td><td></td><td><a class=\"ProveItLink\" href=\"../../../../__pv_it/077b2ff79244fb4582cbe22c6e3356fa92a52f2f0/expr.ipynb\"><img src=\"data:image/png;base64,iVBORw0KGgoAAAANSUhEUgAAABAAAAAOBAMAAADUAYG5AAAAMFBMVEX///+qqqru7u4iIiJ2dnbc\n",
       "3NyIiIjMzMxmZmYQEBC6uroyMjJERERUVFSYmJgAAADLUcuvAAAAAXRSTlMAQObYZgAAAGpJREFU\n",
       "CNdjYGB4+//u3dMLGIBgDgMDxy8gzf4NiP8CGWxfGRj4vgAZPBMYGJgnARn8FxhY9ygAGfXX0pof\n",
       "gDTlBzAw2YIYJ0EckBBI53sHoBH/gIz7AhBjWH9DjancBLTl/N+7t/cxMAAA3u4f/5xagjYAAAAA\n",
       "SUVORK5CYII=\n",
       "\" style=\"display:inline;vertical-align:middle;\" /></a></td></tr>\n",
       "<tr><td>5</td><td>Variable</td><td></td><td><a class=\"ProveItLink\" href=\"../../../../__pv_it/985a1bdf1540838275dec15f4ad6de261cca93ce0/expr.ipynb\"><img src=\"data:image/png;base64,iVBORw0KGgoAAAANSUhEUgAAAA8AAAAOBAMAAAACpFvcAAAAMFBMVEX////MzMyqqqoiIiIyMjK6\n",
       "uroQEBB2dnbc3NyYmJhmZmZUVFRERESIiIju7u4AAAB204erAAAAAXRSTlMAQObYZgAAAGZJREFU\n",
       "CNdjYGDgu7NrJccCBgaGsgkMrMsmMDA8sQNy6hsYGNweABlhDAxcn4A0QxcDQ78DiPGQgWH9BAYI\n",
       "sG+AMv6DSaCGfBDNJMDAsB+kmwuI5S8AiTog5gSaEwXWIO29SgFIAQBC+RaDQlidVgAAAABJRU5E\n",
       "rkJggg==\n",
       "\" style=\"display:inline;vertical-align:middle;\" /></a></td></tr>\n",
       "<tr><td>6</td><td>Variable</td><td></td><td><a class=\"ProveItLink\" href=\"../../../../__pv_it/cbdfda466482236edba0ce44ac7ef39cda0af7a40/expr.ipynb\"><img src=\"data:image/png;base64,iVBORw0KGgoAAAANSUhEUgAAAAkAAAAJBAMAAAASvxsjAAAALVBMVEX///9mZmbc3NxUVFSYmJhE\n",
       "REQiIiIyMjK6uroQEBDMzMyIiIh2dnbu7u4AAABgFDGoAAAAAXRSTlMAQObYZgAAADZJREFUCNdj\n",
       "YOA9s3sBA8PKBvYEBt7ZDKwODMwPGICALwBE6m0Asx0YGIDiAgw8QJUyu/cyAAAmuwmycZ8WfQAA\n",
       "AABJRU5ErkJggg==\n",
       "\" style=\"display:inline;vertical-align:middle;\" /></a></td></tr>\n",
       "<tr><td>7</td><td>Literal</td><td></td><td><a class=\"ProveItLink\" href=\"../../../numeral/__pv_it/9be8badea4c35b9724062cecc501d17a3158d1d20/expr.ipynb\"><img src=\"data:image/png;base64,iVBORw0KGgoAAAANSUhEUgAAAAgAAAAPBAMAAAArJJMAAAAAHlBMVEX///+YmJgyMjIQEBBmZmaI\n",
       "iIhUVFTu7u5EREQAAAAw+MI4AAAAAXRSTlMAQObYZgAAACFJREFUCNdjYGBoZ2BgqJjOwFCWBiQY\n",
       "WEklWJwnOTKAAACjEQo8HvEr3AAAAABJRU5ErkJggg==\n",
       "\" style=\"display:inline;vertical-align:middle;\" /></a></td></tr>\n",
       "<tr><td>8</td><td>Literal</td><td></td><td><a class=\"ProveItLink\" href=\"../../../numeral/__pv_it/9176d93c83afa2c995b614976e3cb49207102fa70/expr.ipynb\"><img src=\"data:image/png;base64,iVBORw0KGgoAAAANSUhEUgAAAAoAAAAOBAMAAADkjZCYAAAAMFBMVEX///+YmJju7u4QEBBUVFQy\n",
       "MjIiIiKIiIi6urpmZmbc3NyqqqpERER2dnbMzMwAAAB0GlNiAAAAAXRSTlMAQObYZgAAAE1JREFU\n",
       "CNdjYHh79zQDA9cEhv4CBt7fDPwJDNxgEgiAIkAQAsR8Vx1ATIbiBhDJ/ImB6wEDz0cG/U8gkj+A\n",
       "ge0XA7sAQ/8FBoadM6MZAEflFACalZ/OAAAAAElFTkSuQmCC\n",
       "\" style=\"display:inline;vertical-align:middle;\" /></a></td></tr>\n",
       "</table>\n"
      ],
      "text/plain": [
       "0. (a , A , A , b , B , C , c , 1 , 1 , 3)\n",
       "   core type: ExprTuple\n",
       "   sub-expressions: 1, 2, 2, 3, 4, 5, 6, 7, 7, 8\n",
       "1. a\n",
       "   core type: Variable\n",
       "   sub-expressions: \n",
       "2. A\n",
       "   core type: Variable\n",
       "   sub-expressions: \n",
       "3. b\n",
       "   core type: Variable\n",
       "   sub-expressions: \n",
       "4. B\n",
       "   core type: Variable\n",
       "   sub-expressions: \n",
       "5. C\n",
       "   core type: Variable\n",
       "   sub-expressions: \n",
       "6. c\n",
       "   core type: Variable\n",
       "   sub-expressions: \n",
       "7. 1\n",
       "   core type: Literal\n",
       "   sub-expressions: \n",
       "8. 3\n",
       "   core type: Literal\n",
       "   sub-expressions: "
      ]
     },
     "execution_count": 4,
     "metadata": {},
     "output_type": "execute_result"
    }
   ],
   "source": [
    "# display the expression information\n",
    "expr.exprInfo()"
   ]
  },
  {
   "cell_type": "code",
   "execution_count": null,
   "metadata": {},
   "outputs": [],
   "source": []
  }
 ],
 "metadata": {
  "kernelspec": {
   "display_name": "Python 3",
   "language": "python",
   "name": "python3"
  }
 },
 "nbformat": 4,
 "nbformat_minor": 0
}
