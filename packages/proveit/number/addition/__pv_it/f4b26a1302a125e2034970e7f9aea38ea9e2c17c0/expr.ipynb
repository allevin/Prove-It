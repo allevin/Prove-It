{
 "cells": [
  {
   "cell_type": "markdown",
   "metadata": {},
   "source": [
    "Expression of type <a class=\"ProveItLink\" href=\"../../../../../../doc/html/api/proveit.logic.Equals.html\">Equals</a>\n",
    "=======================\n",
    "# from context <a class=\"ProveItLink\" href=\"../../_context_.ipynb\">proveit.number.addition</a>"
   ]
  },
  {
   "cell_type": "code",
   "execution_count": 1,
   "metadata": {},
   "outputs": [],
   "source": [
    "# import Expression classes needed to build the expression\n",
    "from proveit._common_ import b\n",
    "from proveit.logic import Equals\n",
    "from proveit.number import Add, Mult, four"
   ]
  },
  {
   "cell_type": "code",
   "execution_count": 2,
   "metadata": {},
   "outputs": [
    {
     "data": {
      "text/html": [
       "<strong id=\"expr\">expr:</strong> <a class=\"ProveItLink\" href=\"expr.ipynb\"><img src=\"data:image/png;base64,iVBORw0KGgoAAAANSUhEUgAAAMoAAAAVBAMAAAD1I2xhAAAAMFBMVEX////c3NwiIiJERESqqqqY\n",
       "mJh2dnZmZmYQEBDu7u4yMjJUVFTMzMyIiIi6uroAAAAs73DqAAAAAXRSTlMAQObYZgAAAh5JREFU\n",
       "SMe9lT9IG1Ecx79J4yUXzZ+9CFIHHTPonlkMjUuHTKGLaxDaQYXWVgIqSBzbDErBwQuUK7RQCCHu\n",
       "HbzNQhFKpyJIQCshUEp/7/LevXfvXRrI0IPchU++9/vk/Qf+z5X1Jn1z6rvJbkbEvsD+PBfm4wGa\n",
       "r+i2bVScccVNi50BaVcLjwdoMWpY0g26xQtGLEMdlitydsSfAbDzIwB+sb6o6pYrdvuqWHgsRfZe\n",
       "g7MSfwYg4Y0A2QFTvtQte/SJVaRFxK7p8RSaJQCiqAEsf6CW9Jl0wn5KS4uIPWedd/UpbAmAKGqA\n",
       "dOdbGVjXLEnWhWuKRcROqUV3yJ2rFgl4UQPguIDfwAr7uumwq+UXpZK2p1hE7JDeHCBVVS0S8KIG\n",
       "wOMG6sBPrS0pWhoWhpY3auwPtfMEuZpqkYAXNQA2gT5woVlyZFkdWuxbNUaWeA29st/yxWHLOUg6\n",
       "zrt9x3EjABaQvY+02FVueQ0ltusvhhcNtS0S8L9uAFoHyQHvsY1H7Jr3e6yIRLvdPfDkchnGlsEG\n",
       "th6aYxIIiw5oTNlAVbS2PCj7Ljn6IkaTcbqYdEMWCXhRA+AjtmDOZKumWUTsB3Vh51l4VUogZrIO\n",
       "0Lxkf/u9virZIrS6/XKwW/JYKq+kSvqOkfD+BcwdZifqhKBYaMe7GXv4hIBlHE1Poiwsdjb5Afg2\n",
       "euePij2c3PLBIDF3RCw28YmcOTfZbGTsL6F8v3KH+ckAAAAAAElFTkSuQmCC\n",
       "\" style=\"display:inline;vertical-align:middle;\" /></a><br>"
      ],
      "text/plain": [
       "expr: (b + b + b + b) = (4 * b)"
      ]
     },
     "execution_count": 2,
     "metadata": {},
     "output_type": "execute_result"
    }
   ],
   "source": [
    "# build up the expression from sub-expressions\n",
    "expr = Equals(Add(b, b, b, b), Mult(four, b))"
   ]
  },
  {
   "cell_type": "code",
   "execution_count": 3,
   "metadata": {},
   "outputs": [
    {
     "name": "stdout",
     "output_type": "stream",
     "text": [
      "Passed sanity check: built 'expr' is the same as the stored Expression.\n"
     ]
    }
   ],
   "source": [
    "# check that the built expression is the same as the stored expression\n",
    "%check_expr"
   ]
  },
  {
   "cell_type": "code",
   "execution_count": 4,
   "metadata": {},
   "outputs": [
    {
     "data": {
      "text/html": [
       "<table><tr><th>&nbsp;</th><th>core type</th><th>sub-expressions</th><th>expression</th></tr>\n",
       "<tr><td>0</td><td>Operation</td><td>operator:&nbsp;1<br>operands:&nbsp;2<br></td><td><a class=\"ProveItLink\" href=\"expr.ipynb\"><img src=\"data:image/png;base64,iVBORw0KGgoAAAANSUhEUgAAAMoAAAAVBAMAAAD1I2xhAAAAMFBMVEX////c3NwiIiJERESqqqqY\n",
       "mJh2dnZmZmYQEBDu7u4yMjJUVFTMzMyIiIi6uroAAAAs73DqAAAAAXRSTlMAQObYZgAAAh5JREFU\n",
       "SMe9lT9IG1Ecx79J4yUXzZ+9CFIHHTPonlkMjUuHTKGLaxDaQYXWVgIqSBzbDErBwQuUK7RQCCHu\n",
       "HbzNQhFKpyJIQCshUEp/7/LevXfvXRrI0IPchU++9/vk/Qf+z5X1Jn1z6rvJbkbEvsD+PBfm4wGa\n",
       "r+i2bVScccVNi50BaVcLjwdoMWpY0g26xQtGLEMdlitydsSfAbDzIwB+sb6o6pYrdvuqWHgsRfZe\n",
       "g7MSfwYg4Y0A2QFTvtQte/SJVaRFxK7p8RSaJQCiqAEsf6CW9Jl0wn5KS4uIPWedd/UpbAmAKGqA\n",
       "dOdbGVjXLEnWhWuKRcROqUV3yJ2rFgl4UQPguIDfwAr7uumwq+UXpZK2p1hE7JDeHCBVVS0S8KIG\n",
       "wOMG6sBPrS0pWhoWhpY3auwPtfMEuZpqkYAXNQA2gT5woVlyZFkdWuxbNUaWeA29st/yxWHLOUg6\n",
       "zrt9x3EjABaQvY+02FVueQ0ltusvhhcNtS0S8L9uAFoHyQHvsY1H7Jr3e6yIRLvdPfDkchnGlsEG\n",
       "th6aYxIIiw5oTNlAVbS2PCj7Ljn6IkaTcbqYdEMWCXhRA+AjtmDOZKumWUTsB3Vh51l4VUogZrIO\n",
       "0Lxkf/u9virZIrS6/XKwW/JYKq+kSvqOkfD+BcwdZifqhKBYaMe7GXv4hIBlHE1Poiwsdjb5Afg2\n",
       "euePij2c3PLBIDF3RCw28YmcOTfZbGTsL6F8v3KH+ckAAAAAAElFTkSuQmCC\n",
       "\" style=\"display:inline;vertical-align:middle;\" /></a></td></tr>\n",
       "<tr><td>1</td><td>Literal</td><td></td><td><a class=\"ProveItLink\" href=\"../../../../logic/equality/__pv_it/2fb26078095930560931daa0500ce419a39ea6cd0/expr.ipynb\"><img src=\"data:image/png;base64,iVBORw0KGgoAAAANSUhEUgAAAA4AAAAFBAMAAACHocAhAAAAFVBMVEX///9EREQiIiJUVFQyMjJm\n",
       "ZmYAAADubVkoAAAAAXRSTlMAQObYZgAAABRJREFUCNdjCHEBAWcGXCBICQQUAUpuAwlgGKrkAAAA\n",
       "AElFTkSuQmCC\n",
       "\" style=\"display:inline;vertical-align:middle;\" /></a></td></tr>\n",
       "<tr><td>2</td><td>ExprTuple</td><td>3, 4</td><td><a class=\"ProveItLink\" href=\"../2cd7c8a87886151771bc4bf60c1a7d55f42e97860/expr.ipynb\"><img src=\"data:image/png;base64,iVBORw0KGgoAAAANSUhEUgAAAKcAAAAVBAMAAADROuOhAAAAMFBMVEX////c3NwiIiJERESqqqqY\n",
       "mJh2dnZmZmYQEBDu7u4yMjJUVFTMzMyIiIi6uroAAAAs73DqAAAAAXRSTlMAQObYZgAAAbtJREFU\n",
       "OMu1lT1Lw1AUht9qmq/WtLtLN9cu7v0BgnVxcJDi4iR00UEHRaWDgmZUOhgEB+OSQUEopd1duimo\n",
       "II4uFT8oBRFPbtrm4950KDVDEh7yvEnOPTkB/mUzWuPNW3Z3d9Buc2HOAVR340HaCXlKk84uAd2J\n",
       "KBzAVTyYyIc9C5iit88U+rfKekcO4CsOAA9+KPMWAdUE2mYPSr36csDoxgEklvxQ5p0Ab3RYQUTh\n",
       "gJyLA5B1P5R5kwVsuPV5vgkrHNDrj0UxwEIglHlyGRdUp09kmkGFAzjL40cMtJYf6nmShSO6sAu1\n",
       "FFQ4gHkTFTGQ4YWeDjxjB7/UWRYy5aDCAWwCHTGY80K1j4GXfndDJ8poU4EU2z4/sG1HADAD41sA\n",
       "KKzUC91D36PQfdZd22bwOThAXal0hUCq1RqHLb9NyaPXn4Vb3EposTlAixIpMgPejdXBQnle0sIq\n",
       "kCooTiiDA7jGFg9YHYOhnkct9Ur1qK+HW5sDqN4XeaAdu9+s3OgU+y3FPP0FajYwJaToGBwOjKxo\n",
       "9tFnmiwNm63DQVI4UNe80TfqJgzVaPRhevRQ4T8j5dYkMebfyRPwB7lzrBFuFwdqAAAAAElFTkSu\n",
       "QmCC\n",
       "\" style=\"display:inline;vertical-align:middle;\" /></a></td></tr>\n",
       "<tr><td>3</td><td>Operation</td><td>operator:&nbsp;5<br>operands:&nbsp;6<br></td><td><a class=\"ProveItLink\" href=\"../d2b70c5dcd579633860820f72be60c0f3cc36d3b0/expr.ipynb\"><img src=\"data:image/png;base64,iVBORw0KGgoAAAANSUhEUgAAAHAAAAAQBAMAAAA8OuYiAAAAMFBMVEX////c3NxmZmbMzMxERESY\n",
       "mJiIiIh2dna6urqqqqoyMjIiIiIQEBBUVFTu7u4AAAAiO1wTAAAAAXRSTlMAQObYZgAAAQ5JREFU\n",
       "KM+F0r1OwzAQB/C/spCEkvQRsrAgVe0j8Ah5hIqhW6Xu7KzJ1JXORpUQc/dKsGQhEhJD+gBRpZYO\n",
       "XSJsOMdfhHg42z/dybLPiD6fYYx+QP0mYlhY3A9YixDntNvR3EI07ACcRcgq2i1pbiGYdoDfiHgP\n",
       "q7AFmefAxc+l17N3s7AFmedAWM5TRF+IJ3qhAspzAPtbHBE0GCz0QgWU5wAeK2zhrRAneqECynMA\n",
       "N8ABlwmylK8Z2zAm+kPgMfb0yljxB+AF/kk0aVzpJyqgAxzgbfQace+t8aoKZKEN/GX4pa9yrzAK\n",
       "FVCeA/jAiD92eW1+AAWyHTagvkv1n7u0v7LM64bf8WCDP/0HvgEUv2YNvSAbzwAAAABJRU5ErkJg\n",
       "gg==\n",
       "\" style=\"display:inline;vertical-align:middle;\" /></a></td></tr>\n",
       "<tr><td>4</td><td>Operation</td><td>operator:&nbsp;7<br>operands:&nbsp;8<br></td><td><a class=\"ProveItLink\" href=\"../aee2056b24e254f30481e972df70edc4d67ed13a0/expr.ipynb\"><img src=\"data:image/png;base64,iVBORw0KGgoAAAANSUhEUgAAACIAAAAPBAMAAABzWwAZAAAAMFBMVEX///+6urpmZmaqqqru7u52\n",
       "dnYyMjKYmJjc3NwQEBCIiIhEREQiIiJUVFTMzMwAAACQ7J58AAAAAXRSTlMAQObYZgAAAIlJREFU\n",
       "GNNjYGBgeMsAA75zIPRpuAhDLpjkmo0Q+Qwm27PhAoxfwFQAQoT1AIhkb0CIsN1aW8DA4MWAEPHf\n",
       "wPAPqAkiwuIAJOwdGKYyMD+AiPiDjFBjYPjE4MoAEfHcACQOMTB+Z7C9e/fnLYRzmMD2I1z4j4Ez\n",
       "AFXkMoMuiIr9rw736aICBkwAAGJMIrw+o9KRAAAAAElFTkSuQmCC\n",
       "\" style=\"display:inline;vertical-align:middle;\" /></a></td></tr>\n",
       "<tr><td>5</td><td>Literal</td><td></td><td><a class=\"ProveItLink\" href=\"../3e6688136fa3c7aefbebe51301b7c3ebf0b69c440/expr.ipynb\"><img src=\"data:image/png;base64,iVBORw0KGgoAAAANSUhEUgAAAA4AAAAOBAMAAADtZjDiAAAAJFBMVEX///+6urpUVFQQEBAiIiIy\n",
       "MjJmZmaIiIiqqqrc3Nzu7u4AAACgHpL+AAAAAXRSTlMAQObYZgAAAB5JREFUCNdjYGBgWMkAAe2k\n",
       "0Kmhoc6hoUGk6BMHYgAHOwjcado9fwAAAABJRU5ErkJggg==\n",
       "\" style=\"display:inline;vertical-align:middle;\" /></a></td></tr>\n",
       "<tr><td>6</td><td>ExprTuple</td><td>10, 10, 10, 10</td><td><a class=\"ProveItLink\" href=\"../2ba62e3eb23f89e07b64daca83f78eae52d7d4f00/expr.ipynb\"><img src=\"data:image/png;base64,iVBORw0KGgoAAAANSUhEUgAAAEsAAAAVBAMAAAD85A5eAAAAMFBMVEX////c3NwiIiJERESqqqqY\n",
       "mJh2dnZmZmYQEBDu7u4yMjJUVFTMzMyIiIi6uroAAAAs73DqAAAAAXRSTlMAQObYZgAAAPpJREFU\n",
       "KM+NkqFOA0EQhj/KtXfXo736mr4E/h7hFJJcMKgmZ8AWQZDNSRxrEARTQ4Ihqcf0AUoCSEzboDCE\n",
       "2dutKpPrit1v/53Nzvw7sOfoL5oiTu30Svw8cnsFwrnQA3Rn/p4CBnryZpp5UYETiCpYVV5U4Ba+\n",
       "ZDnbJqvAYcalLI9vT05UoFNyL+V8k87ruhQIDFMIfogKK2rQv+JXfDGkpRU1OFrbsFbJKreiBhJ2\n",
       "XXszqbxJ/4I8eoxN8oYYFWgbziHJwhl3IxWsIZ9S9cuFOL1Rge470cD7/YEK8lntwnOOCmPXSA1h\n",
       "sTQSQ8e97eEuJDavg8YmX8IfHm5n0mx9gwgAAAAASUVORK5CYII=\n",
       "\" style=\"display:inline;vertical-align:middle;\" /></a></td></tr>\n",
       "<tr><td>7</td><td>Literal</td><td></td><td><a class=\"ProveItLink\" href=\"../../../multiplication/__pv_it/21fd2079611555ecce512d99547a00d551e6b86b0/expr.ipynb\"><img src=\"data:image/png;base64,iVBORw0KGgoAAAANSUhEUgAAAAMAAAADBAMAAACkBqiMAAAAElBMVEX///9EREQQEBAiIiLu7u4A\n",
       "AABGBidwAAAAAXRSTlMAQObYZgAAABFJREFUCNdjYHFgcDVgcBIAAASWAQx4jI0xAAAAAElFTkSu\n",
       "QmCC\n",
       "\" style=\"display:inline;vertical-align:middle;\" /></a></td></tr>\n",
       "<tr><td>8</td><td>ExprTuple</td><td>9, 10</td><td><a class=\"ProveItLink\" href=\"../d77f9df58b5fee05e3aa9959522e0c366016f8bb0/expr.ipynb\"><img src=\"data:image/png;base64,iVBORw0KGgoAAAANSUhEUgAAACkAAAAVBAMAAAAp9toTAAAAMFBMVEX////c3NwiIiJERESqqqqY\n",
       "mJh2dnZmZmYQEBDu7u4yMjJUVFTMzMyIiIi6uroAAAAs73DqAAAAAXRSTlMAQObYZgAAAQFJREFU\n",
       "GNNjYMAO+C6gCcSBiNNwgoGBc4cCAwP7ASBrJYirDFXHtQFILGBg4AUZwNsMFeV3ABJhDAwcE4C0\n",
       "6GKo6HsQbwYDwysQJwEmmgQimB0YyoAUqwBMdPXdrQwMbAUMS4HsuQxQUc7PDPwHGFgWMPSBDICJ\n",
       "svxk4Ehg4Gtg+AdkH4CJsi9g4C9g4PkAEp3GABNlKmB4HwASbWFg8N69+8demHPrJ4BMMAVzgb4A\n",
       "uRRoVRvQSQsY0qGinJ+AFLcD+wawyx6BBLP/l3L2CwBdtrcUFBgPGDgEYCEKY4B8zJoAZbPCAzgX\n",
       "FpLIopzAkGSQhnLgUcINMooRPYbuMDAAAMk0O5L6FGfWAAAAAElFTkSuQmCC\n",
       "\" style=\"display:inline;vertical-align:middle;\" /></a></td></tr>\n",
       "<tr><td>9</td><td>Literal</td><td></td><td><a class=\"ProveItLink\" href=\"../../../numeral/__pv_it/23412ce59ea7e77353d2f9225e02248e73651ca00/expr.ipynb\"><img src=\"data:image/png;base64,iVBORw0KGgoAAAANSUhEUgAAAAoAAAAPBAMAAAAv0UM9AAAALVBMVEX///9mZmaqqqru7u52dnYy\n",
       "MjKYmJjc3NwQEBCIiIhEREQiIiJUVFTMzMwAAACUDTcXAAAAAXRSTlMAQObYZgAAAD5JREFUCNdj\n",
       "YGBguMMAArtABGcXiCyLApEOIJKtAERaMoBIBxDJdAFEmjCASJ0zZ16cBCkF64KQPu/EwBwGACv6\n",
       "DSRgin9qAAAAAElFTkSuQmCC\n",
       "\" style=\"display:inline;vertical-align:middle;\" /></a></td></tr>\n",
       "<tr><td>10</td><td>Variable</td><td></td><td><a class=\"ProveItLink\" href=\"../../../../__pv_it/6840a4fa6c106149dc16a131294d0c5e44f1b0480/expr.ipynb\"><img src=\"data:image/png;base64,iVBORw0KGgoAAAANSUhEUgAAAAkAAAAOBAMAAAAPuiubAAAALVBMVEX///9mZmbMzMxERESYmJiI\n",
       "iIh2dna6urqqqqoyMjIiIiIQEBBUVFTu7u4AAAD9S1JeAAAAAXRSTlMAQObYZgAAAE1JREFUCNdj\n",
       "4D29gAEIOA+ASL4GEFl3AURmgQiGOaFHGBh4HzPwKTBwvGXgTmBgnMDAJ8DAJcBQ5wBSLncBJLWN\n",
       "gYGngRFoBO9REQYGAGrcDtUkVqASAAAAAElFTkSuQmCC\n",
       "\" style=\"display:inline;vertical-align:middle;\" /></a></td></tr>\n",
       "</table>\n"
      ],
      "text/plain": [
       "0. (b + b + b + b) = (4 * b)\n",
       "   core type: Operation\n",
       "   operator: 1\n",
       "   operands: 2\n",
       "1. =\n",
       "   core type: Literal\n",
       "   sub-expressions: \n",
       "2. (b + b + b + b , 4 * b)\n",
       "   core type: ExprTuple\n",
       "   sub-expressions: 3, 4\n",
       "3. b + b + b + b\n",
       "   core type: Operation\n",
       "   operator: 5\n",
       "   operands: 6\n",
       "4. 4 * b\n",
       "   core type: Operation\n",
       "   operator: 7\n",
       "   operands: 8\n",
       "5. +\n",
       "   core type: Literal\n",
       "   sub-expressions: \n",
       "6. (b , b , b , b)\n",
       "   core type: ExprTuple\n",
       "   sub-expressions: 10, 10, 10, 10\n",
       "7. *\n",
       "   core type: Literal\n",
       "   sub-expressions: \n",
       "8. (4 , b)\n",
       "   core type: ExprTuple\n",
       "   sub-expressions: 9, 10\n",
       "9. 4\n",
       "   core type: Literal\n",
       "   sub-expressions: \n",
       "10. b\n",
       "    core type: Variable\n",
       "    sub-expressions: "
      ]
     },
     "execution_count": 4,
     "metadata": {},
     "output_type": "execute_result"
    }
   ],
   "source": [
    "# display the expression information\n",
    "expr.exprInfo()"
   ]
  },
  {
   "cell_type": "code",
   "execution_count": null,
   "metadata": {},
   "outputs": [],
   "source": []
  }
 ],
 "metadata": {
  "kernelspec": {
   "display_name": "Python 3",
   "language": "python",
   "name": "python3"
  }
 },
 "nbformat": 4,
 "nbformat_minor": 0
}
