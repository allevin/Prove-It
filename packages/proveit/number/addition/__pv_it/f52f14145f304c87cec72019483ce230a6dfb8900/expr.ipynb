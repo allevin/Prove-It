{
 "cells": [
  {
   "cell_type": "markdown",
   "metadata": {},
   "source": [
    "Expression of type <a class=\"ProveItLink\" href=\"../../../../../../doc/html/api/proveit.ExprTuple.html\">ExprTuple</a>\n",
    "=======================\n",
    "# from context <a class=\"ProveItLink\" href=\"../../_context_.ipynb\">proveit.number.addition</a>"
   ]
  },
  {
   "cell_type": "code",
   "execution_count": 1,
   "metadata": {},
   "outputs": [],
   "source": [
    "# import Expression classes needed to build the expression\n",
    "from proveit import ExprTuple\n",
    "from proveit._common_ import a, b, d\n",
    "from proveit.logic import InSet\n",
    "from proveit.number import Naturals"
   ]
  },
  {
   "cell_type": "code",
   "execution_count": 2,
   "metadata": {},
   "outputs": [
    {
     "data": {
      "text/html": [
       "<strong id=\"expr\">expr:</strong> <a class=\"ProveItLink\" href=\"expr.ipynb\"><img src=\"data:image/png;base64,iVBORw0KGgoAAAANSUhEUgAAALYAAAAVBAMAAAAZVgl3AAAAMFBMVEX////c3NwiIiJERESqqqqY\n",
       "mJh2dnZmZmYQEBDu7u4yMjJUVFTMzMyIiIi6uroAAAAs73DqAAAAAXRSTlMAQObYZgAAAoJJREFU\n",
       "OMu1lU1oE0EUx/9pPqebL+jNHAxBFER0RXtQUBePfmAOXhSE6MWbBEEPpWirojdZ6kUiklAoGgQb\n",
       "hYKWVBcCUqxgTh6ElKiXEoREW8EeLL63my0zdptDMQOZr9++/8y892YC9LPE632RDTapWvAAheXD\n",
       "Jq7+NLgvXqU3h1y+3ZOpmD5QRnjfDozSoOy16nBUBzpOf7DSA3JZUag/WwMSZAbEPF3y0moAY04/\n",
       "YfSA7NRVhWp7SDJCTskhYkrzjyczu+3Om7Jmuebt7hficyZT+hdSCaUVqrXMKmuLMbQk6eiUu1B1\n",
       "QZRd80vduffnPCD7LK9Q7UOlYJI2DuI61b65K+M8PbR+hmqgXnPNnzVmuPEd8oJIfWobCtWs01Gd\n",
       "tS9jiuqlpN8Ozf71vVRxI1h3zMUyEhbHKOkBER/HMVOhmhVuXmDtE7hPa/5CWGcVXdLWzKpjHlhF\n",
       "JEftAy+I7VmMQKEUi9faPO8YazTqYICzJX4rk+nGsgpRKTjm4RIS7NElgk60JIi3wE4olLQfiafU\n",
       "+cjaCR1FPnW0Im0N76KO+UAe7axyxySIZYg1KJS0o7l5W/sOnauOMyCnibRsHjR0N71vskcnvKDv\n",
       "DwIdoVDSxlm/7ZNhoGhgNsAbn5HNcVEHW1Eg79o2WQ8oVqCVTimUtUND1DlPmYLBbGBXiKcnmu4H\n",
       "Rx1HF+kkmhG2fSX2ekBKs+P5nEL9LDJi5+BXTu/F2qJ9wieWw1u/6ciihIc/qJm75kxuG90IkWp8\n",
       "P9KUaXz6Nr9n9HuOSFK6mIHZbp645Ys8ODnpZIIn3EDpzgdzvV7h7JYhQvVN3tj/oM1uSfXgMWwV\n",
       "Ai84gP35T4tZ+AuO+cw8i/xIbAAAAABJRU5ErkJggg==\n",
       "\" style=\"display:inline;vertical-align:middle;\" /></a><br>"
      ],
      "text/plain": [
       "expr: (a in Naturals , b in Naturals , d in Naturals)"
      ]
     },
     "execution_count": 2,
     "metadata": {},
     "output_type": "execute_result"
    }
   ],
   "source": [
    "# build up the expression from sub-expressions\n",
    "expr = ExprTuple(InSet(a, Naturals), InSet(b, Naturals), InSet(d, Naturals))"
   ]
  },
  {
   "cell_type": "code",
   "execution_count": 3,
   "metadata": {},
   "outputs": [
    {
     "name": "stdout",
     "output_type": "stream",
     "text": [
      "Passed sanity check: built 'expr' is the same as the stored Expression.\n"
     ]
    }
   ],
   "source": [
    "# check that the built expression is the same as the stored expression\n",
    "%check_expr"
   ]
  },
  {
   "cell_type": "code",
   "execution_count": 4,
   "metadata": {},
   "outputs": [
    {
     "data": {
      "text/html": [
       "<table><tr><th>&nbsp;</th><th>core type</th><th>sub-expressions</th><th>expression</th></tr>\n",
       "<tr><td>0</td><td>ExprTuple</td><td>1, 2, 3</td><td><a class=\"ProveItLink\" href=\"expr.ipynb\"><img src=\"data:image/png;base64,iVBORw0KGgoAAAANSUhEUgAAALYAAAAVBAMAAAAZVgl3AAAAMFBMVEX////c3NwiIiJERESqqqqY\n",
       "mJh2dnZmZmYQEBDu7u4yMjJUVFTMzMyIiIi6uroAAAAs73DqAAAAAXRSTlMAQObYZgAAAoJJREFU\n",
       "OMu1lU1oE0EUx/9pPqebL+jNHAxBFER0RXtQUBePfmAOXhSE6MWbBEEPpWirojdZ6kUiklAoGgQb\n",
       "hYKWVBcCUqxgTh6ElKiXEoREW8EeLL63my0zdptDMQOZr9++/8y892YC9LPE632RDTapWvAAheXD\n",
       "Jq7+NLgvXqU3h1y+3ZOpmD5QRnjfDozSoOy16nBUBzpOf7DSA3JZUag/WwMSZAbEPF3y0moAY04/\n",
       "YfSA7NRVhWp7SDJCTskhYkrzjyczu+3Om7Jmuebt7hficyZT+hdSCaUVqrXMKmuLMbQk6eiUu1B1\n",
       "QZRd80vduffnPCD7LK9Q7UOlYJI2DuI61b65K+M8PbR+hmqgXnPNnzVmuPEd8oJIfWobCtWs01Gd\n",
       "tS9jiuqlpN8Ozf71vVRxI1h3zMUyEhbHKOkBER/HMVOhmhVuXmDtE7hPa/5CWGcVXdLWzKpjHlhF\n",
       "JEftAy+I7VmMQKEUi9faPO8YazTqYICzJX4rk+nGsgpRKTjm4RIS7NElgk60JIi3wE4olLQfiafU\n",
       "+cjaCR1FPnW0Im0N76KO+UAe7axyxySIZYg1KJS0o7l5W/sOnauOMyCnibRsHjR0N71vskcnvKDv\n",
       "DwIdoVDSxlm/7ZNhoGhgNsAbn5HNcVEHW1Eg79o2WQ8oVqCVTimUtUND1DlPmYLBbGBXiKcnmu4H\n",
       "Rx1HF+kkmhG2fSX2ekBKs+P5nEL9LDJi5+BXTu/F2qJ9wieWw1u/6ciihIc/qJm75kxuG90IkWp8\n",
       "P9KUaXz6Nr9n9HuOSFK6mIHZbp645Ys8ODnpZIIn3EDpzgdzvV7h7JYhQvVN3tj/oM1uSfXgMWwV\n",
       "Ai84gP35T4tZ+AuO+cw8i/xIbAAAAABJRU5ErkJggg==\n",
       "\" style=\"display:inline;vertical-align:middle;\" /></a></td></tr>\n",
       "<tr><td>1</td><td>Operation</td><td>operator:&nbsp;6<br>operands:&nbsp;4<br></td><td><a class=\"ProveItLink\" href=\"../c5b98dacd8c1b1e4a3f9e1e77adaf1edce8539550/expr.ipynb\"><img src=\"data:image/png;base64,iVBORw0KGgoAAAANSUhEUgAAADMAAAAPBAMAAAC7N+rPAAAAMFBMVEX///8yMjKqqqrMzMzu7u4i\n",
       "IiJmZmaYmJhEREQQEBC6urp2dnaIiIhUVFTc3NwAAAD87Fq/AAAAAXRSTlMAQObYZgAAANdJREFU\n",
       "GNNjYMAAjj8aHRhSvyowYAHtzA0MDB+wyTBcNTjDwDABWYTlYGioAIhxS4TXAFXKsATKuGzLIgKW\n",
       "4ruzax5IgK8FpuYy0wELsNTKBxxgKzkewKUYstgPAKX4vjOwNYAEPBgQUrwOl4FSvB8YWA+ABFaG\n",
       "hkKdcZmB5YIjUIq/gcHfACRgi6SLwZoZKPX+AIM+gwNQwBVZil0BaIm/AsNFJpA23gIkKYZ9QCnG\n",
       "AqYwbrCPo2BSXUDMJgDy1imLU2CRh8kQmYU/gTpYBFDCTlc0FFkAAE78NpyYZbUWAAAAAElFTkSu\n",
       "QmCC\n",
       "\" style=\"display:inline;vertical-align:middle;\" /></a></td></tr>\n",
       "<tr><td>2</td><td>Operation</td><td>operator:&nbsp;6<br>operands:&nbsp;5<br></td><td><a class=\"ProveItLink\" href=\"../84b571b826355ca0e99ef28b2931c0a568576dec0/expr.ipynb\"><img src=\"data:image/png;base64,iVBORw0KGgoAAAANSUhEUgAAADEAAAAPBAMAAAC/wjryAAAAMFBMVEX////c3NxmZmbMzMxERESY\n",
       "mJiIiIh2dna6urqqqqoyMjIiIiIQEBBUVFTu7u4AAAAiO1wTAAAAAXRSTlMAQObYZgAAAOFJREFU\n",
       "GNNj4LuzgQEFvPri9YBB+/cEBgauC6gyDK7MDgwMH4AM/gloMrcN0hgYDgAZ/Q8gAnxZu3cvADFu\n",
       "rOM1AMtUQ5VaxUEZl2351oFl1qZdBfEZ/WCmXeZMMAHJ8H1h4DcA8lkE4DIMGqwJQBnOfww8BUD+\n",
       "EwaEDO+Dy0AZpgUM/ApAfs/u3VAXXGbgu/AKKMOtwNAfAOTbIulhMGc+APaOPsjdr5FlWCcAPQu0\n",
       "/jiIzxuAJMNQCJThncAEDh6+HTAZDwaw7Qx811QhAlLKELrrD1A93wLk8Jq7ejcyHwB5hj8sFLbi\n",
       "XAAAAABJRU5ErkJggg==\n",
       "\" style=\"display:inline;vertical-align:middle;\" /></a></td></tr>\n",
       "<tr><td>3</td><td>Operation</td><td>operator:&nbsp;6<br>operands:&nbsp;7<br></td><td><a class=\"ProveItLink\" href=\"../5dcd385c02903bd789468bc09167af53928cacae0/expr.ipynb\"><img src=\"data:image/png;base64,iVBORw0KGgoAAAANSUhEUgAAADMAAAAPBAMAAAC7N+rPAAAAMFBMVEX////MzMyYmJiIiIhUVFTc\n",
       "3NwyMjIiIiJ2dnbu7u6qqqpmZmYQEBBERES6uroAAABkyy6XAAAAAXRSTlMAQObYZgAAAOpJREFU\n",
       "GNNjYGBg4LuzgQEJTPt7bQLD9u8LwBz+BchSDJcYLzAwfICw309AkXIXMGZgOABht4NJTrPy8gQQ\n",
       "wy+TRQAmlQ0mxTShuhxFODPBUqzOfb9AAqw3YQY6chnIgqXeBPD+BAnwBsClGPYxGQClWD8xcINt\n",
       "mMuAkGKZ4AiUYvnAwN4AEnhTXg51hiMDp8M0oBT/BYb5D0ACIki6GCQYgVLxBgzrGUD+mo4sxbQA\n",
       "6Ov5CxjcuASAAiwKSFIMrUApNgWuag6wj+tgUveAGOQ0Vmc7WTuwSNhGiMyzP0AdnAkoYbckvRxZ\n",
       "AADWtToQy/OLFQAAAABJRU5ErkJggg==\n",
       "\" style=\"display:inline;vertical-align:middle;\" /></a></td></tr>\n",
       "<tr><td>4</td><td>ExprTuple</td><td>8, 11</td><td><a class=\"ProveItLink\" href=\"../37f56ee771ba6201c5baf4eb487a364ca8db203f0/expr.ipynb\"><img src=\"data:image/png;base64,iVBORw0KGgoAAAANSUhEUgAAAC8AAAAVBAMAAAAk6KpUAAAAMFBMVEX////c3NwiIiJERESqqqqY\n",
       "mJh2dnZmZmYQEBDu7u4yMjJUVFTMzMyIiIi6uroAAAAs73DqAAAAAXRSTlMAQObYZgAAARpJREFU\n",
       "KM910b9Lw0AUwPFvbdI0Tfpjd9DNNUsXB8l/YCdH0amTIg6OUsFZMpYuyeKQTRylSqDg0iV/gBZ1\n",
       "EqeoCE7iu5qDK2rgAu997l7y3sG/Tyv/ndtWr6mRGL2vRxy+hU4mQWpu7foBFJBAc6HSZXYPA9iC\n",
       "emTCTeplCobwsvDV8dRNFVRDjiSsXO+flGDlEwW1A84lfO5UixI4tnMBK+FMDnzgBBq8aCzQGvAF\n",
       "XsFSrsG9GAn4hYJ2QJxp4Nb/gVNYydkk0mCHwbxUF+KQKytzS2BXwE7oQ6NnrdWIVyW5IctJ5r/7\n",
       "pNqYTWYMX6XbT9ntCjQeqHd014/GBGQk9o4OegbsmWM3QFVjuQyaxgFP1a/8cbV38A1BUkyB6e2h\n",
       "TwAAAABJRU5ErkJggg==\n",
       "\" style=\"display:inline;vertical-align:middle;\" /></a></td></tr>\n",
       "<tr><td>5</td><td>ExprTuple</td><td>9, 11</td><td><a class=\"ProveItLink\" href=\"../5257f48b5571ac3af0a4b4971ebe0c45ebdc20030/expr.ipynb\"><img src=\"data:image/png;base64,iVBORw0KGgoAAAANSUhEUgAAAC0AAAAVBAMAAAAgHXppAAAAMFBMVEX////c3NwiIiJERESqqqqY\n",
       "mJh2dnZmZmYQEBDu7u4yMjJUVFTMzMyIiIi6uroAAAAs73DqAAAAAXRSTlMAQObYZgAAAR1JREFU\n",
       "GNN10b1Kw1AUwPG/2pjcJm3cXXyELl0cJI/QyVGqi5MQBB21gzhKRuliFofgEgTBoUpAcOmSB7BQ\n",
       "HV1a7aKLeG5yC8Fihss9Py7nK/Df18wXaEcfQ9T9Rhn3Z5sRh5+BnUmQQD01D9teC6YQQ0PS+IHx\n",
       "22wEPdgGJ4JJZPwxcTPtl/Au4d684GCoEu0rAccS3ozujNfyJ+2rIdegZvhZ6ZxYuXgt5kLOb5yu\n",
       "cTcaiDd7/IAd44fGVdoX96bal0MmHeM8e6WfFe2fRnO3glaRp40ueo4yzq64FbMPbmCnXOkdbVFU\n",
       "032+SZ8PRzLih8z4JW+VeH2Ms2Zmfa0sWvZgdc29U/GDcs9/Xadivbw3Ks9dnXtp8T++wC9gnk1d\n",
       "CXGchwAAAABJRU5ErkJggg==\n",
       "\" style=\"display:inline;vertical-align:middle;\" /></a></td></tr>\n",
       "<tr><td>6</td><td>Literal</td><td></td><td><a class=\"ProveItLink\" href=\"../../../../logic/set_theory/membership/__pv_it/088cbc857536a28d4119ad9639a84270ccb0545d0/expr.ipynb\"><img src=\"data:image/png;base64,iVBORw0KGgoAAAANSUhEUgAAAAwAAAAMBAMAAACkW0HUAAAALVBMVEX///+qqqpmZmZUVFQQEBC6\n",
       "urpERETc3NyYmJjMzMwiIiIyMjKIiIju7u4AAACYsrA9AAAAAXRSTlMAQObYZgAAADxJREFUCNdj\n",
       "YOA9vWrVBgaG2b0MQMCeCyIZ2ArA1DUwyRCyahVIyWQI7xaEYm4AU7xLIdxqTQgtvGvVBgCkcQ7e\n",
       "geM/tQAAAABJRU5ErkJggg==\n",
       "\" style=\"display:inline;vertical-align:middle;\" /></a></td></tr>\n",
       "<tr><td>7</td><td>ExprTuple</td><td>10, 11</td><td><a class=\"ProveItLink\" href=\"../4a8fc2f879416c2ca5b2b1b2f021a44a1857d1dc0/expr.ipynb\"><img src=\"data:image/png;base64,iVBORw0KGgoAAAANSUhEUgAAAC8AAAAVBAMAAAAk6KpUAAAAMFBMVEX////c3NwiIiJERESqqqqY\n",
       "mJh2dnZmZmYQEBDu7u4yMjJUVFTMzMyIiIi6uroAAAAs73DqAAAAAXRSTlMAQObYZgAAASpJREFU\n",
       "KM910TtLw1AUwPF/bdI2TV+7g26uWQriIPkGdnKU6uKkFAdH6eAsGUuXZBHJJo5SJVBw6ZIPoKU6\n",
       "iYvxBbqI5+YhETWQHM753Xu49wT+fRrh79qG+kxiXe6pMHxZcdh7tsuBJH68pmnHoV2zIAIP6kmn\n",
       "RycOZ8EN9GEdKkllK2l+6ZuBggE8JJWTJIwmhq+gaLMvaeFi9zUFLRwrKPU4lvS+VfxIgQM9FNA8\n",
       "jmTDG2UvA9MZCTT6fIIZMdfNwDgdCtQiBU0Ld5YBV7UEDmEhZA0nA9224lZtcG3OtcBIgU0B3WMb\n",
       "qh1tqYS7KMVVedVB5Lh36hrT8ZTBk9z2XVYbAtUZlVY269vc3GUkejdLOjnY+R77T1DdmE+Tem6D\n",
       "qfoX/vi11/AF2DFQquFWleAAAAAASUVORK5CYII=\n",
       "\" style=\"display:inline;vertical-align:middle;\" /></a></td></tr>\n",
       "<tr><td>8</td><td>Variable</td><td></td><td><a class=\"ProveItLink\" href=\"../../../../__pv_it/07527342713064c87612d00d8557c53d53d5324a0/expr.ipynb\"><img src=\"data:image/png;base64,iVBORw0KGgoAAAANSUhEUgAAAAsAAAAJBAMAAAAWSsseAAAAMFBMVEX///8yMjKqqqrMzMzu7u4i\n",
       "IiJmZmaYmJhEREQQEBC6urp2dnaIiIhUVFTc3NwAAAD87Fq/AAAAAXRSTlMAQObYZgAAAEhJREFU\n",
       "CNdjYOC7s2seAwPDygccHxgY+L4zsDUwMPB+YGA9wMDA38Dgb8DA8P4Agz6DA4O/AsNFJgMGxgKm\n",
       "MG6gyjunLE4xAAAZTBA5TB6DCwAAAABJRU5ErkJggg==\n",
       "\" style=\"display:inline;vertical-align:middle;\" /></a></td></tr>\n",
       "<tr><td>9</td><td>Variable</td><td></td><td><a class=\"ProveItLink\" href=\"../../../../__pv_it/6840a4fa6c106149dc16a131294d0c5e44f1b0480/expr.ipynb\"><img src=\"data:image/png;base64,iVBORw0KGgoAAAANSUhEUgAAAAkAAAAOBAMAAAAPuiubAAAALVBMVEX///9mZmbMzMxERESYmJiI\n",
       "iIh2dna6urqqqqoyMjIiIiIQEBBUVFTu7u4AAAD9S1JeAAAAAXRSTlMAQObYZgAAAE1JREFUCNdj\n",
       "4D29gAEIOA+ASL4GEFl3AURmgQiGOaFHGBh4HzPwKTBwvGXgTmBgnMDAJ8DAJcBQ5wBSLncBJLWN\n",
       "gYGngRFoBO9REQYGAGrcDtUkVqASAAAAAElFTkSuQmCC\n",
       "\" style=\"display:inline;vertical-align:middle;\" /></a></td></tr>\n",
       "<tr><td>10</td><td>Variable</td><td></td><td><a class=\"ProveItLink\" href=\"../../../../__pv_it/3a5de44ed6135dbbdbbeec6704c741e238f127300/expr.ipynb\"><img src=\"data:image/png;base64,iVBORw0KGgoAAAANSUhEUgAAAAsAAAAOBAMAAAALT/umAAAAMFBMVEX////MzMyYmJiIiIhUVFTc\n",
       "3NwyMjIiIiJ2dnbu7u6qqqpmZmYQEBBERES6uroAAABkyy6XAAAAAXRSTlMAQObYZgAAAFhJREFU\n",
       "CNdjYGBg4LuzgQEE+BeAqfcTwFQ7mGTIBmJW575fQOpNAO9PIOcTA3cCAwPLBwb2BqCeCwzzHzAw\n",
       "xBswrGeYwDB/AYMblwADmwJXNQdIm52sHQMAfyoTCZukXIEAAAAASUVORK5CYII=\n",
       "\" style=\"display:inline;vertical-align:middle;\" /></a></td></tr>\n",
       "<tr><td>11</td><td>Literal</td><td></td><td><a class=\"ProveItLink\" href=\"../../../sets/integer/__pv_it/e5d9bd86b06b357eee742ad868997123619e09700/expr.ipynb\"><img src=\"data:image/png;base64,iVBORw0KGgoAAAANSUhEUgAAAA8AAAAOBAMAAAACpFvcAAAAMFBMVEX////c3Nx2dna6uroQEBCI\n",
       "iIhUVFTMzMyYmJiqqqoiIiJmZmZEREQyMjLu7u4AAADjlg78AAAAAXRSTlMAQObYZgAAAGBJREFU\n",
       "CNdjePvn7AOGXb8mMDCcYD/AwPCBgYEhqyCUgcEByEi+x1YAZqSX8d2DMDgDaiAMhs0cARAG24N0\n",
       "CIMv4S2EwVDEDmVwTDgAYTAoghiHgZj7AgOD7Rcgj+8CAwA9oh2B0HK+MAAAAABJRU5ErkJggg==\n",
       "\" style=\"display:inline;vertical-align:middle;\" /></a></td></tr>\n",
       "</table>\n"
      ],
      "text/plain": [
       "0. (a in Naturals , b in Naturals , d in Naturals)\n",
       "   core type: ExprTuple\n",
       "   sub-expressions: 1, 2, 3\n",
       "1. a in Naturals\n",
       "   core type: Operation\n",
       "   operator: 6\n",
       "   operands: 4\n",
       "2. b in Naturals\n",
       "   core type: Operation\n",
       "   operator: 6\n",
       "   operands: 5\n",
       "3. d in Naturals\n",
       "   core type: Operation\n",
       "   operator: 6\n",
       "   operands: 7\n",
       "4. (a , Naturals)\n",
       "   core type: ExprTuple\n",
       "   sub-expressions: 8, 11\n",
       "5. (b , Naturals)\n",
       "   core type: ExprTuple\n",
       "   sub-expressions: 9, 11\n",
       "6. in\n",
       "   core type: Literal\n",
       "   sub-expressions: \n",
       "7. (d , Naturals)\n",
       "   core type: ExprTuple\n",
       "   sub-expressions: 10, 11\n",
       "8. a\n",
       "   core type: Variable\n",
       "   sub-expressions: \n",
       "9. b\n",
       "   core type: Variable\n",
       "   sub-expressions: \n",
       "10. d\n",
       "    core type: Variable\n",
       "    sub-expressions: \n",
       "11. Naturals\n",
       "    core type: Literal\n",
       "    sub-expressions: "
      ]
     },
     "execution_count": 4,
     "metadata": {},
     "output_type": "execute_result"
    }
   ],
   "source": [
    "# display the expression information\n",
    "expr.exprInfo()"
   ]
  },
  {
   "cell_type": "code",
   "execution_count": null,
   "metadata": {},
   "outputs": [],
   "source": []
  }
 ],
 "metadata": {
  "kernelspec": {
   "display_name": "Python 3",
   "language": "python",
   "name": "python3"
  }
 },
 "nbformat": 4,
 "nbformat_minor": 0
}
