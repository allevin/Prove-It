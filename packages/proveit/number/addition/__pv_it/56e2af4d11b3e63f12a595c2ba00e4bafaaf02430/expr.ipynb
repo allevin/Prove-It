{
 "cells": [
  {
   "cell_type": "markdown",
   "metadata": {},
   "source": [
    "Expression of type <a class=\"ProveItLink\" href=\"../../../../../../doc/html/api/proveit.logic.InSet.html\">InSet</a>\n",
    "=======================\n",
    "# from context <a class=\"ProveItLink\" href=\"../../_context_.ipynb\">proveit.number.addition</a>"
   ]
  },
  {
   "cell_type": "code",
   "execution_count": 1,
   "metadata": {},
   "outputs": [],
   "source": [
    "# import Expression classes needed to build the expression\n",
    "from proveit._common_ import b\n",
    "from proveit.logic import InSet\n",
    "from proveit.number import Complexes, Exp, five, four, three, two"
   ]
  },
  {
   "cell_type": "code",
   "execution_count": 2,
   "metadata": {},
   "outputs": [
    {
     "data": {
      "text/html": [
       "<strong id=\"expr\">expr:</strong> <a class=\"ProveItLink\" href=\"expr.ipynb\"><img src=\"data:image/png;base64,iVBORw0KGgoAAAANSUhEUgAAAJQAAAAZBAMAAAAlPBrhAAAAMFBMVEX////c3NwiIiJERESqqqqY\n",
       "mJh2dnZmZmYQEBDu7u4yMjJUVFTMzMyIiIi6uroAAAAs73DqAAAAAXRSTlMAQObYZgAAAnVJREFU\n",
       "OMutlT2IE0EUx/+bbDa7+RYLi2tCBEGriFoqacRGMDYHWoRgkQNBWAUVBFFEDuRAF0Gx0QvqIfGa\n",
       "bQQxyKU6C0GDjQcqfoAWNjF+oEFNfDszb5JLMBDIEnZ/OzP725n33k6AqRyp49eamJKq9xvTUpUy\n",
       "U1O9w9RUZ196dJ4kXqX/tBsZswo8hfMwKxs0YNOZPYpWKzt5fMJHtDFieXH/12aXnv0D1ICYr5oZ\n",
       "DB9vC5JctHjaoTxQHTY96+L6Xz/WQBdJGpguqHaGuIfQF0HWd6R5qmukmh0yReJF4IBvN4w2bApX\n",
       "y1MdDPYlxLuCzL7KOEyqG2rkzdu5bcH1kE2nqG95SR+fCY/wOxhiHUS73MgLtGKkCst5J5bUS92Z\n",
       "IMZNVE4B9MPymweyQwMFpsO0rK4HA5XlCt6oTI77qb/YJbr/hrTIjAY6npdV2o6qVDjNQGXKuG/n\n",
       "pJb39lWXqbsDWzyogY47esSarGQLgSp1XmjzWvWxr6KQRKtIi3lrIMzrEbZc6n6hSojEpi7kciLs\n",
       "Tn51nSpEtVMU8WEAXnEZNxD+ISZSHlAluBBRi/dVF0U1nfNUWUmA6WKDgMWOUpn1+spCkxfIpYZZ\n",
       "oZIP7UIQ6nk4GAA8oYSJAekqQm011KZZRWTYdaLDJSqV1FbBc1TbhaiPxewAGFsqc1nnK3Uni2iV\n",
       "BUmVKoarelOp7/Zu7ZCv+kDTfXySyrg9AKFer5d1rgTb2b7TdyHJWvlZREw6jHtcNIkTvQXltXn7\n",
       "e49hSGVGiT8c85H8cNZ9j1xIRQxDBKN0bNxuVptE5VTHqWbkJcn3GtAcpfjYfwNjkg359Zi+f+Wj\n",
       "rBvD9EFyAAAAAElFTkSuQmCC\n",
       "\" style=\"display:inline;vertical-align:middle;\" /></a><br>"
      ],
      "text/plain": [
       "expr: (b , b , 2 , 3 , 4) in Complexes^{5}"
      ]
     },
     "execution_count": 2,
     "metadata": {},
     "output_type": "execute_result"
    }
   ],
   "source": [
    "# build up the expression from sub-expressions\n",
    "expr = InSet([b, b, two, three, four], Exp(Complexes, five))"
   ]
  },
  {
   "cell_type": "code",
   "execution_count": 3,
   "metadata": {},
   "outputs": [
    {
     "name": "stdout",
     "output_type": "stream",
     "text": [
      "Passed sanity check: built 'expr' is the same as the stored Expression.\n"
     ]
    }
   ],
   "source": [
    "# check that the built expression is the same as the stored expression\n",
    "%check_expr"
   ]
  },
  {
   "cell_type": "code",
   "execution_count": 4,
   "metadata": {},
   "outputs": [
    {
     "data": {
      "text/html": [
       "<table><tr><th>&nbsp;</th><th>core type</th><th>sub-expressions</th><th>expression</th></tr>\n",
       "<tr><td>0</td><td>Operation</td><td>operator:&nbsp;1<br>operands:&nbsp;2<br></td><td><a class=\"ProveItLink\" href=\"expr.ipynb\"><img src=\"data:image/png;base64,iVBORw0KGgoAAAANSUhEUgAAAJQAAAAZBAMAAAAlPBrhAAAAMFBMVEX////c3NwiIiJERESqqqqY\n",
       "mJh2dnZmZmYQEBDu7u4yMjJUVFTMzMyIiIi6uroAAAAs73DqAAAAAXRSTlMAQObYZgAAAnVJREFU\n",
       "OMutlT2IE0EUx/+bbDa7+RYLi2tCBEGriFoqacRGMDYHWoRgkQNBWAUVBFFEDuRAF0Gx0QvqIfGa\n",
       "bQQxyKU6C0GDjQcqfoAWNjF+oEFNfDszb5JLMBDIEnZ/OzP725n33k6AqRyp49eamJKq9xvTUpUy\n",
       "U1O9w9RUZ196dJ4kXqX/tBsZswo8hfMwKxs0YNOZPYpWKzt5fMJHtDFieXH/12aXnv0D1ICYr5oZ\n",
       "DB9vC5JctHjaoTxQHTY96+L6Xz/WQBdJGpguqHaGuIfQF0HWd6R5qmukmh0yReJF4IBvN4w2bApX\n",
       "y1MdDPYlxLuCzL7KOEyqG2rkzdu5bcH1kE2nqG95SR+fCY/wOxhiHUS73MgLtGKkCst5J5bUS92Z\n",
       "IMZNVE4B9MPymweyQwMFpsO0rK4HA5XlCt6oTI77qb/YJbr/hrTIjAY6npdV2o6qVDjNQGXKuG/n\n",
       "pJb39lWXqbsDWzyogY47esSarGQLgSp1XmjzWvWxr6KQRKtIi3lrIMzrEbZc6n6hSojEpi7kciLs\n",
       "Tn51nSpEtVMU8WEAXnEZNxD+ISZSHlAluBBRi/dVF0U1nfNUWUmA6WKDgMWOUpn1+spCkxfIpYZZ\n",
       "oZIP7UIQ6nk4GAA8oYSJAekqQm011KZZRWTYdaLDJSqV1FbBc1TbhaiPxewAGFsqc1nnK3Uni2iV\n",
       "BUmVKoarelOp7/Zu7ZCv+kDTfXySyrg9AKFer5d1rgTb2b7TdyHJWvlZREw6jHtcNIkTvQXltXn7\n",
       "e49hSGVGiT8c85H8cNZ9j1xIRQxDBKN0bNxuVptE5VTHqWbkJcn3GtAcpfjYfwNjkg359Zi+f+Wj\n",
       "rBvD9EFyAAAAAElFTkSuQmCC\n",
       "\" style=\"display:inline;vertical-align:middle;\" /></a></td></tr>\n",
       "<tr><td>1</td><td>Literal</td><td></td><td><a class=\"ProveItLink\" href=\"../../../../logic/set_theory/membership/__pv_it/088cbc857536a28d4119ad9639a84270ccb0545d0/expr.ipynb\"><img src=\"data:image/png;base64,iVBORw0KGgoAAAANSUhEUgAAAAwAAAAMBAMAAACkW0HUAAAALVBMVEX///+qqqpmZmZUVFQQEBC6\n",
       "urpERETc3NyYmJjMzMwiIiIyMjKIiIju7u4AAACYsrA9AAAAAXRSTlMAQObYZgAAADxJREFUCNdj\n",
       "YOA9vWrVBgaG2b0MQMCeCyIZ2ArA1DUwyRCyahVIyWQI7xaEYm4AU7xLIdxqTQgtvGvVBgCkcQ7e\n",
       "geM/tQAAAABJRU5ErkJggg==\n",
       "\" style=\"display:inline;vertical-align:middle;\" /></a></td></tr>\n",
       "<tr><td>2</td><td>ExprTuple</td><td>3, 4</td><td><a class=\"ProveItLink\" href=\"../9328da5e089b998a266ef8d610893395a08d506e0/expr.ipynb\"><img src=\"data:image/png;base64,iVBORw0KGgoAAAANSUhEUgAAAJgAAAAcBAMAAABvzWvcAAAAMFBMVEX///+qqqp2dnYiIiJERESI\n",
       "iIhmZmYQEBDc3NyYmJgyMjLu7u5UVFTMzMy6uroAAACGxKilAAAAAXRSTlMAQObYZgAAAsFJREFU\n",
       "SMetVU1oE0EU/pJ0s2nz11NBEVwieBAPORQRRBJBD4KHQNFePASrRRFJFMFL0YBelByieFIoEYqg\n",
       "LboUROzB5GDRasClZ7FFD/4cjLFKIzGJb2ZnZjehl5AM7L7vzc+38977ZhYYQIucfZHCoFqk/U/C\n",
       "H/2TzeYAg6FwuX+ydXp9YGjJ7J/szAkTGkvbCvN6yd/wendPIOcpAvsJZPkWg6/j9oACCEzPiWWr\n",
       "sUNqIUVzwcUz8XhzPE2rmsBJwE8Q88CITJ0CeWg1mzWNqtr6OM1wuD62sPinPGKhBZRM6PR1Fm50\n",
       "VIwr8A5IcOCtISq3q12mOA0VcagA7CzrVqAO+ApYoz6dalCVdVDgion3PE6Pi+zmHMWUlWT3dXr5\n",
       "y15To3D8SUyS+52eXXKCAk9NZGSuVZgGkUFlMJ1nWU4hdopt8yfekmFw4fiKPUEBagm5ywUZV46R\n",
       "7RZeMP3JLZAGjpF5RP2/EbX4BAmYnn8Ju0cW5RkY2XY5bmxzkYWbeEjmKuWlAZ3nVQFW2KScOCni\n",
       "NTjZF0X2za22FvaRobr6i4gykTiA2mk1UW9w47E42ZoMM7nqIgvWJJmPtFRgXQqQDERwAQtDfzla\n",
       "RAcZ5kOdO2OpvcjVlTGFzDIi7WN0TpgtNSTZjkplc9kJE3c4mZgeaOIVmaNgSb+EIFwA4TQVj3cV\n",
       "4avLJSRa3JMUQ7MkmcgBUc06JuxSh0b9ZZTiLoDrsdgUR1oBVSO44ZAxadh+5Yj58rD4DOmsSuYz\n",
       "jS2fA57XXQCJdnvDRmPTDxC8xkPe26bhJ4yM++Gp9owUtrfIRaXnhP8V3cBBkZwqW7bTl0JKIWS4\n",
       "Tm4B3cBBw6rLm+r0RSvlEI7bV1APZEvYkuyuOLV5ISzZr4ALOZfxmy5ftIP03GIS6eXa1qytb3N2\n",
       "bjzGYH6eN/j79mDIzmOw7T+XZckwTW8lcAAAAABJRU5ErkJggg==\n",
       "\" style=\"display:inline;vertical-align:middle;\" /></a></td></tr>\n",
       "<tr><td>3</td><td>ExprTuple</td><td>5, 5, 6, 7, 8</td><td><a class=\"ProveItLink\" href=\"../3587188385f052a0f12d90165eb1c097a2cccc720/expr.ipynb\"><img src=\"data:image/png;base64,iVBORw0KGgoAAAANSUhEUgAAAGEAAAAVBAMAAACkm51HAAAAMFBMVEX////c3NwiIiJERESqqqqY\n",
       "mJh2dnZmZmYQEBDu7u4yMjJUVFTMzMyIiIi6uroAAAAs73DqAAAAAXRSTlMAQObYZgAAAbRJREFU\n",
       "OMuVkztIw1AUhv+kaZr0lTo5uHRy7qCrZHNxqIuDgxSHFgShiwouOogggmZ0a0AdxKWLIBRpJx0c\n",
       "7FhQsTq6tPWBdGk99xVLu9g73Hz35Py5/z3nBhh/JOtjJK+w6R72dVqsA8Dk9pyk2/yMSo+XEanR\n",
       "8wKIlmVMgVbGiyuoiJYyoWcAH0jQ2nFlTEHMg97mZH7BURs3SLEEWB7Q8mRMgXWAWI+T8afQlklx\n",
       "ArwTryqnCqJdRHoqqFyZUVKEXGwSXz5fiWAAZLqr6FI+F5nCLOKcSvQJp8ZrpYDGQ04WaE1Ww64z\n",
       "heHjiOYuLP4+ABqnQQ8aTWEKTJHcBdmN+HCKLBgAYSZQWMLfAlfE20yhU82z3LsC4FGmazWEvrmp\n",
       "nFLs8S7seLIdAmAUMcGh1JUKo1KpHtaZq1mw0+7DxgDgjkoDJnZ86B2Iz1i0R9hHgTrsRsoopQdA\n",
       "m84X0vYHZSWyaOU4CQVV940s3mxQMzsDoPf7/bR9nKK0+a0zCDKrP1lEm7BS8oyvGIZkapToloRV\n",
       "A7IYhjBGaV3c9v8rbLrtmBKcUMEAUB+lGLOnjfPXPgG/0f96wgyfgkIAAAAASUVORK5CYII=\n",
       "\" style=\"display:inline;vertical-align:middle;\" /></a></td></tr>\n",
       "<tr><td>4</td><td>Operation</td><td>operator:&nbsp;9<br>operands:&nbsp;10<br></td><td><a class=\"ProveItLink\" href=\"../1d5ca85bb291b50723080d0d449bfc191044913a0/expr.ipynb\"><img src=\"data:image/png;base64,iVBORw0KGgoAAAANSUhEUgAAABcAAAAUBAMAAACUkLs9AAAAMFBMVEX////c3NyqqqqYmJhUVFR2\n",
       "dnbu7u66urrMzMxmZmZEREQQEBAyMjIiIiKIiIgAAAB7fvZ0AAAAAXRSTlMAQObYZgAAAJZJREFU\n",
       "GNNjYICCSjE7Bjio/++A4BQXItgM5Uhshsp30xAcQQYdEMV35/zelUA6v4GBgaO+gC3+CcMJBv4C\n",
       "BgYDZwYGpi8MOxjkBRiYEzYAlUxhCGN4wsDAyQiyLI+BNTKAgSGTPQBhZCuTARKHHYmTxYGkjCcB\n",
       "ybXMASAOG5S3uA5I1CZAOCxez9iqlsEUdt7/7Q5hAQDDzB+JAiNuCgAAAABJRU5ErkJggg==\n",
       "\" style=\"display:inline;vertical-align:middle;\" /></a></td></tr>\n",
       "<tr><td>5</td><td>Variable</td><td></td><td><a class=\"ProveItLink\" href=\"../../../../__pv_it/6840a4fa6c106149dc16a131294d0c5e44f1b0480/expr.ipynb\"><img src=\"data:image/png;base64,iVBORw0KGgoAAAANSUhEUgAAAAkAAAAOBAMAAAAPuiubAAAALVBMVEX///9mZmbMzMxERESYmJiI\n",
       "iIh2dna6urqqqqoyMjIiIiIQEBBUVFTu7u4AAAD9S1JeAAAAAXRSTlMAQObYZgAAAE1JREFUCNdj\n",
       "4D29gAEIOA+ASL4GEFl3AURmgQiGOaFHGBh4HzPwKTBwvGXgTmBgnMDAJ8DAJcBQ5wBSLncBJLWN\n",
       "gYGngRFoBO9REQYGAGrcDtUkVqASAAAAAElFTkSuQmCC\n",
       "\" style=\"display:inline;vertical-align:middle;\" /></a></td></tr>\n",
       "<tr><td>6</td><td>Literal</td><td></td><td><a class=\"ProveItLink\" href=\"../../../numeral/__pv_it/77d407a64829263cdc16415becd4c2293f77a4bf0/expr.ipynb\"><img src=\"data:image/png;base64,iVBORw0KGgoAAAANSUhEUgAAAAkAAAAOBAMAAAAPuiubAAAAMFBMVEX///+YmJh2dnbMzMwQEBAi\n",
       "IiLu7u6qqqqIiIhUVFS6urpEREQyMjJmZmbc3NwAAACOMKdoAAAAAXRSTlMAQObYZgAAAFBJREFU\n",
       "CNdj4Lt7egEDw0sGju8MDNMYGOIZGFwSGOYvYDifwHAfKAEUSQASzJ9ATJ4NIPI2iOCYACJrGfge\n",
       "MDBfYGB8wPBUSekqUPH//18ZAIliFhc3zESNAAAAAElFTkSuQmCC\n",
       "\" style=\"display:inline;vertical-align:middle;\" /></a></td></tr>\n",
       "<tr><td>7</td><td>Literal</td><td></td><td><a class=\"ProveItLink\" href=\"../../../numeral/__pv_it/9176d93c83afa2c995b614976e3cb49207102fa70/expr.ipynb\"><img src=\"data:image/png;base64,iVBORw0KGgoAAAANSUhEUgAAAAoAAAAOBAMAAADkjZCYAAAAMFBMVEX///+YmJju7u4QEBBUVFQy\n",
       "MjIiIiKIiIi6urpmZmbc3NyqqqpERER2dnbMzMwAAAB0GlNiAAAAAXRSTlMAQObYZgAAAE1JREFU\n",
       "CNdjYHh79zQDA9cEhv4CBt7fDPwJDNxgEgiAIkAQAsR8Vx1ATIbiBhDJ/ImB6wEDz0cG/U8gkj+A\n",
       "ge0XA7sAQ/8FBoadM6MZAEflFACalZ/OAAAAAElFTkSuQmCC\n",
       "\" style=\"display:inline;vertical-align:middle;\" /></a></td></tr>\n",
       "<tr><td>8</td><td>Literal</td><td></td><td><a class=\"ProveItLink\" href=\"../../../numeral/__pv_it/23412ce59ea7e77353d2f9225e02248e73651ca00/expr.ipynb\"><img src=\"data:image/png;base64,iVBORw0KGgoAAAANSUhEUgAAAAoAAAAPBAMAAAAv0UM9AAAALVBMVEX///9mZmaqqqru7u52dnYy\n",
       "MjKYmJjc3NwQEBCIiIhEREQiIiJUVFTMzMwAAACUDTcXAAAAAXRSTlMAQObYZgAAAD5JREFUCNdj\n",
       "YGBguMMAArtABGcXiCyLApEOIJKtAERaMoBIBxDJdAFEmjCASJ0zZ16cBCkF64KQPu/EwBwGACv6\n",
       "DSRgin9qAAAAAElFTkSuQmCC\n",
       "\" style=\"display:inline;vertical-align:middle;\" /></a></td></tr>\n",
       "<tr><td>9</td><td>Literal</td><td></td><td><a class=\"ProveItLink\" href=\"../../../exponentiation/__pv_it/deb2bf23cbccdd6e6791e1b35b5b9794ce12dbd50/expr.ipynb\"><img src=\"data:image/png;base64,iVBORw0KGgoAAAANSUhEUgAAACgAAAASBAMAAADbMYGVAAAAMFBMVEX///8QEBAiIiKYmJjc3Nzu\n",
       "7u7MzMx2dnZmZma6urpERESqqqoyMjJUVFSIiIgAAAAoDOMTAAAAAXRSTlMAQObYZgAAAOBJREFU\n",
       "GNNjYGB4+//u3Tt/GNAASGAXmhjnPyDBgSbI/g1IxKEJ8nxgYGdgQRPkX8BgDKRY6q7s62OYvmze\n",
       "2wAgb/7ZO1+AVDiDkYEQQ0HTBr4DQF59AgOIKmB4z7CNbcNZBu6vQN55kEACQwDDLQYGVobfDHwg\n",
       "fb8YGBxYHwAZciD3fWXg+gB1JjvQcJZvQIXsCgz8F6DO9GBgMOH7wPCUgaeBwd4B7EwGNjUG7s9c\n",
       "AiwPgO5jkWRgiF3/9+5dfQUG1nWl5Y+B7pv+1gE9bBhqGLCAE1jEWH9jEbT5A3IwAC4sP/1L6Qlu\n",
       "AAAAAElFTkSuQmCC\n",
       "\" style=\"display:inline;vertical-align:middle;\" /></a></td></tr>\n",
       "<tr><td>10</td><td>ExprTuple</td><td>11, 12</td><td><a class=\"ProveItLink\" href=\"../7b5508e04b247401485fb3cbfb9e6c01a4389fb40/expr.ipynb\"><img src=\"data:image/png;base64,iVBORw0KGgoAAAANSUhEUgAAAC8AAAAVBAMAAAAk6KpUAAAAMFBMVEX////c3NwiIiJERESqqqqY\n",
       "mJh2dnZmZmYQEBDu7u4yMjJUVFTMzMyIiIi6uroAAAAs73DqAAAAAXRSTlMAQObYZgAAASRJREFU\n",
       "KM9jYMAJ+C5gisWBiNNAzKu1vskcIsYVyZjCwH4AyFrJwMDz/gFn/m2IBMf//wkMDAuAioEmBWxl\n",
       "YGD5DdVRnQMkw4AqJjCwTmgAsqshEtxgcgYDwysGBnbGDUD2XGQJZgeGMgaG6XwJCAdx3739gIGB\n",
       "rYBhKQPDMZYAhATzBM5/QBsXMPQBJfgCUHyxA+i5Bgag9GSeBBSJ/AMMPB9AElwTNiBEjYASD0AS\n",
       "LQwMrAkgCU6IRBMDQ70AyChTIMf0LZB4NAEsVcDAsAqodgFDOsiJm29yPrZkmK8AZIszsDSCnfsI\n",
       "pOy4/o99QO9+BDJ5yncLAK19wMAhgLD4IZw1A2QzQgLhnVxIsGNIcAKDnUEaLs6LCDCQ+YxYovYO\n",
       "AwMAlNdEY4sgu8kAAAAASUVORK5CYII=\n",
       "\" style=\"display:inline;vertical-align:middle;\" /></a></td></tr>\n",
       "<tr><td>11</td><td>Literal</td><td></td><td><a class=\"ProveItLink\" href=\"../../../sets/complex/__pv_it/c357845f93a5a2d9f649129d299e7ec28dda4b960/expr.ipynb\"><img src=\"data:image/png;base64,iVBORw0KGgoAAAANSUhEUgAAAA8AAAAOBAMAAAACpFvcAAAAMFBMVEX////c3NyqqqqYmJhUVFR2\n",
       "dnbu7u66urrMzMxmZmZEREQQEBAyMjIiIiKIiIgAAAB7fvZ0AAAAAXRSTlMAQObYZgAAAGVJREFU\n",
       "CNdjYGDgu3N+70oGBgaO+gK2+CdAhoEzAwPTFwYG5oQNQN4UBgZORgcgI4+BIZM9gAEMWpkMoAx2\n",
       "KCOLAyrFk+AAYTAHgBhsQLy4DkjUJjAwsHg9Y6taBpLsvP/bnYEBACkBFGQfBv8RAAAAAElFTkSu\n",
       "QmCC\n",
       "\" style=\"display:inline;vertical-align:middle;\" /></a></td></tr>\n",
       "<tr><td>12</td><td>Literal</td><td></td><td><a class=\"ProveItLink\" href=\"../../../numeral/__pv_it/aaeeaca7d86eb2b7cdc49e25c3108b81b52ec5400/expr.ipynb\"><img src=\"data:image/png;base64,iVBORw0KGgoAAAANSUhEUgAAAAkAAAAOBAMAAAAPuiubAAAAMFBMVEX///8iIiJERES6urqIiIjM\n",
       "zMxUVFRmZmYQEBCqqqp2dnbc3Nzu7u6YmJgyMjIAAADYGhJvAAAAAXRSTlMAQObYZgAAAE1JREFU\n",
       "CNdj4LvDvZKBgeP//wUMDHxlSxkYGNgYGBCki5sBAwPTAZ7PYG4GmFwfwKAIJA0YGhkY6jcwFDAw\n",
       "vGNg2M7A2c3AwFqetoEBAKS8EE1WXEJLAAAAAElFTkSuQmCC\n",
       "\" style=\"display:inline;vertical-align:middle;\" /></a></td></tr>\n",
       "</table>\n"
      ],
      "text/plain": [
       "0. (b , b , 2 , 3 , 4) in Complexes^{5}\n",
       "   core type: Operation\n",
       "   operator: 1\n",
       "   operands: 2\n",
       "1. in\n",
       "   core type: Literal\n",
       "   sub-expressions: \n",
       "2. ((b , b , 2 , 3 , 4) , Complexes^{5})\n",
       "   core type: ExprTuple\n",
       "   sub-expressions: 3, 4\n",
       "3. (b , b , 2 , 3 , 4)\n",
       "   core type: ExprTuple\n",
       "   sub-expressions: 5, 5, 6, 7, 8\n",
       "4. Complexes^{5}\n",
       "   core type: Operation\n",
       "   operator: 9\n",
       "   operands: 10\n",
       "5. b\n",
       "   core type: Variable\n",
       "   sub-expressions: \n",
       "6. 2\n",
       "   core type: Literal\n",
       "   sub-expressions: \n",
       "7. 3\n",
       "   core type: Literal\n",
       "   sub-expressions: \n",
       "8. 4\n",
       "   core type: Literal\n",
       "   sub-expressions: \n",
       "9. Exp\n",
       "   core type: Literal\n",
       "   sub-expressions: \n",
       "10. (Complexes , 5)\n",
       "    core type: ExprTuple\n",
       "    sub-expressions: 11, 12\n",
       "11. Complexes\n",
       "    core type: Literal\n",
       "    sub-expressions: \n",
       "12. 5\n",
       "    core type: Literal\n",
       "    sub-expressions: "
      ]
     },
     "execution_count": 4,
     "metadata": {},
     "output_type": "execute_result"
    }
   ],
   "source": [
    "# display the expression information\n",
    "expr.exprInfo()"
   ]
  },
  {
   "cell_type": "code",
   "execution_count": null,
   "metadata": {},
   "outputs": [],
   "source": []
  }
 ],
 "metadata": {
  "kernelspec": {
   "display_name": "Python 3",
   "language": "python",
   "name": "python3"
  }
 },
 "nbformat": 4,
 "nbformat_minor": 0
}
