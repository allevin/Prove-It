{
 "cells": [
  {
   "cell_type": "markdown",
   "metadata": {},
   "source": [
    "Show the Proof\n",
    "========"
   ]
  },
  {
   "cell_type": "code",
   "execution_count": 1,
   "metadata": {},
   "outputs": [
    {
     "data": {
      "text/html": [
       "<table><tr><th>&nbsp;</th><th>step type</th><th>requirements</th><th>statement</th></tr>\n",
       "<tr><td>0</td><td>assumption</td><td></td><td><span style=\"font-size:20px;\"><a class=\"ProveItLink\" href=\"../f4fb7d3548f79405987f5eff8bd7abded1177c6e0/expr.ipynb\"><img src=\"data:image/png;base64,iVBORw0KGgoAAAANSUhEUgAAAEUAAAAVBAMAAADiLT7tAAAAMFBMVEX////c3NxERESqqqpUVFS6\n",
       "urrMzMwyMjIQEBCIiIh2dnYiIiLu7u5mZmaYmJgAAABXZE4RAAAAAXRSTlMAQObYZgAAAShJREFU\n",
       "KM9jYGDgu8eAE7CtEgBRPLsY8AC2ZhDJ+QGkfJEBihRfvdL3ikoQ6zqI4GpgYJBlYP2Jqp+J0YFN\n",
       "uRDIWAFTs96A4Te6mgsMOkLIauxhanim795dAFOzjAlZDQPMrvQ3SOagq2F3AJGMOsh2+cDt4gWZ\n",
       "nVUCkRFAUsO6D+Tm9yBeRgA4BFpB5CEkN3fvLgZbcIGBIaUNIth/AEhE7N4Nd/PVCxCL1R8AxRMY\n",
       "GMQYGPSBTIYUZL9fBfO4FwAJlgIGnv8HIGpOI6thP/kA5h6uDQwM3xkY9oOcy/IASQ2bgxuy3+cx\n",
       "sP4CB+FWZL8vBnkTrob57nVInIpfg8fppwR29c8oYQgDJtUQf8EBFjUYAKyGD78acPrh2Yk3HbZC\n",
       "3LeYQHoGABxBVvkqnM6SAAAAAElFTkSuQmCC\n",
       "\" style=\"display:inline;vertical-align:middle;\" /></a> <a class=\"ProveItLink\" href=\"proof.ipynb\" style=\"text-decoration: none\">&#x22A2;&nbsp;</a><a class=\"ProveItLink\" href=\"../1d52e6f9d16737e5d2e6664f4d269e702156c1af0/expr.ipynb\"><img src=\"data:image/png;base64,iVBORw0KGgoAAAANSUhEUgAAADMAAAAPBAMAAAC7N+rPAAAAMFBMVEX///+YmJju7u4QEBBUVFQy\n",
       "MjIiIiKIiIi6urpmZmbc3NyqqqpERER2dnbMzMwAAAB0GlNiAAAAAXRSTlMAQObYZgAAANJJREFU\n",
       "GNNjYHh79zQDChD9cz7UtADI4JrA0F+AKndgCcObrQsYGHh/M/AnoEmtZODROsDAwA2XUg9LS4VJ\n",
       "8T44AGZCDOQLVEDogkmFgMk1CkgGsoAMZOC76gAWOIVsV5voAjCzuAFIMB1ASC1OS90AYTJ/AhIc\n",
       "ZmlpcGd08oBM53rAwPMRZK4DkoGcfSCe/ieIFFMCsl1BhUCaP4CB7RdIwBFZ6gnLAwYGdgGG/gsg\n",
       "AbUGJCneDSAH75wZDRbginwAD95zDDHxG5CCjtsV6kIoAAAixUWQF/k7CQAAAABJRU5ErkJggg==\n",
       "\" style=\"display:inline;vertical-align:middle;\" /></a></span></td></tr>\n",
       "</table>"
      ],
      "text/plain": [
       "<proveit._core_.proof._ShowProof at 0x7f94eaeed630>"
      ]
     },
     "execution_count": 1,
     "metadata": {},
     "output_type": "execute_result"
    }
   ],
   "source": [
    "import proveit\n",
    "%show_proof"
   ]
  },
  {
   "cell_type": "code",
   "execution_count": null,
   "metadata": {},
   "outputs": [],
   "source": []
  }
 ],
 "metadata": {
  "kernelspec": {
   "display_name": "Python 3",
   "language": "python",
   "name": "python3"
  }
 },
 "nbformat": 4,
 "nbformat_minor": 0
}
