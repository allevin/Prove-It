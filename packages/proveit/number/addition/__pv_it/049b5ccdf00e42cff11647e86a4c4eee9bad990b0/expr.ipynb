{
 "cells": [
  {
   "cell_type": "markdown",
   "metadata": {},
   "source": [
    "Expression of type <a class=\"ProveItLink\" href=\"../../../../../../doc/html/api/proveit.ExprTuple.html\">ExprTuple</a>\n",
    "=======================\n",
    "# from context <a class=\"ProveItLink\" href=\"../../_context_.ipynb\">proveit.number.addition</a>"
   ]
  },
  {
   "cell_type": "code",
   "execution_count": 1,
   "metadata": {},
   "outputs": [],
   "source": [
    "# import Expression classes needed to build the expression\n",
    "from proveit import ExprTuple\n",
    "from proveit._common_ import a, b, c\n",
    "from proveit.number import Add, four, three, two"
   ]
  },
  {
   "cell_type": "code",
   "execution_count": 2,
   "metadata": {},
   "outputs": [
    {
     "data": {
      "text/html": [
       "<strong id=\"expr\">expr:</strong> <a class=\"ProveItLink\" href=\"expr.ipynb\"><img src=\"data:image/png;base64,iVBORw0KGgoAAAANSUhEUgAAAL8AAAAVBAMAAADlQyK9AAAAMFBMVEX////c3NwiIiJERESqqqqY\n",
       "mJh2dnZmZmYQEBDu7u4yMjJUVFTMzMyIiIi6uroAAAAs73DqAAAAAXRSTlMAQObYZgAAAltJREFU\n",
       "OMu1lT9oE1Ecx79JL7lc/pzn1KGCmewkZnHUBudC4uLgIAGhXYwGBIW4WBFBhfQmCXRIqHQwLhkE\n",
       "wVJSEHRw8Bb/QG2tTkUcTttaIm3j773cXe93kNJD8oZ7H+547/Pe7/1+74ChN90a3txXxONd2FFz\n",
       "94KA0er5PqSnrubdl+k21GXqn4Ve1/MgRNr42p93FPqe+zWaA5pAhkVIM44g2ApCykTUlnQjj9/u\n",
       "188kuAQkTP9Y5QgHoneDkHiI1L6kwoEgcpkEdeAHwgri2SAku1D3XasboniSBCN53BKypeszAcHY\n",
       "xw0nWk/KXzgkl1aKHETA3d0k2w5cFIJ4BQvEG8aIzQX6DCacXKhhnkMjh10O1N6X+v0b9+A1SwiU\n",
       "Jmq0gW2oOS44WcTNPtUtnOVQMPGAA7WnLmRqToQgBPpdUOxSNqIWF3SA0x4FoArscIC3QGqz/ayZ\n",
       "lIK0LQTHcmiIilBbrflHrZYI4iY0Z/eb7kAPxqFvcwBWnP4EMCHPRSu5gvsUDwsFmP4dRPag2JpD\n",
       "AAPKfrXLAUoFx+W0PdMRKIuLnceWCBHFtZHHK2XZL9C2kGpOSimtMcZhF4kSB7ylpJH0FzhjaE51\n",
       "0A5iTUxTZhWV8Tg/gwVcqJQ0UTMvgWscXuAOOEROTU1nJX2A/geNrCegNP0uymDt9RoXjK3+PLeu\n",
       "zVIpqOVVk8PcpyI4RHu9XlaScruaR/2XTKPOThHJdSSMwZWsGyHAR9+8GeiqiJUG/xxiYcBHXn2j\n",
       "fPh1/d8CrSnCPVhghYEDynivUiJqkSH+Mul2/AfjPsZgGPYqQgAAAABJRU5ErkJggg==\n",
       "\" style=\"display:inline;vertical-align:middle;\" /></a><br>"
      ],
      "text/plain": [
       "expr: (a + a , c , c , b , b , 2 , 3 , 4)"
      ]
     },
     "execution_count": 2,
     "metadata": {},
     "output_type": "execute_result"
    }
   ],
   "source": [
    "# build up the expression from sub-expressions\n",
    "expr = ExprTuple(Add(a, a), c, c, b, b, two, three, four)"
   ]
  },
  {
   "cell_type": "code",
   "execution_count": 3,
   "metadata": {},
   "outputs": [
    {
     "name": "stdout",
     "output_type": "stream",
     "text": [
      "Passed sanity check: built 'expr' is the same as the stored Expression.\n"
     ]
    }
   ],
   "source": [
    "# check that the built expression is the same as the stored expression\n",
    "%check_expr"
   ]
  },
  {
   "cell_type": "code",
   "execution_count": 4,
   "metadata": {},
   "outputs": [
    {
     "data": {
      "text/html": [
       "<table><tr><th>&nbsp;</th><th>core type</th><th>sub-expressions</th><th>expression</th></tr>\n",
       "<tr><td>0</td><td>ExprTuple</td><td>1, 2, 2, 3, 3, 4, 5, 6</td><td><a class=\"ProveItLink\" href=\"expr.ipynb\"><img src=\"data:image/png;base64,iVBORw0KGgoAAAANSUhEUgAAAL8AAAAVBAMAAADlQyK9AAAAMFBMVEX////c3NwiIiJERESqqqqY\n",
       "mJh2dnZmZmYQEBDu7u4yMjJUVFTMzMyIiIi6uroAAAAs73DqAAAAAXRSTlMAQObYZgAAAltJREFU\n",
       "OMu1lT9oE1Ecx79JL7lc/pzn1KGCmewkZnHUBudC4uLgIAGhXYwGBIW4WBFBhfQmCXRIqHQwLhkE\n",
       "wVJSEHRw8Bb/QG2tTkUcTttaIm3j773cXe93kNJD8oZ7H+547/Pe7/1+74ChN90a3txXxONd2FFz\n",
       "94KA0er5PqSnrubdl+k21GXqn4Ve1/MgRNr42p93FPqe+zWaA5pAhkVIM44g2ApCykTUlnQjj9/u\n",
       "188kuAQkTP9Y5QgHoneDkHiI1L6kwoEgcpkEdeAHwgri2SAku1D3XasboniSBCN53BKypeszAcHY\n",
       "xw0nWk/KXzgkl1aKHETA3d0k2w5cFIJ4BQvEG8aIzQX6DCacXKhhnkMjh10O1N6X+v0b9+A1SwiU\n",
       "Jmq0gW2oOS44WcTNPtUtnOVQMPGAA7WnLmRqToQgBPpdUOxSNqIWF3SA0x4FoArscIC3QGqz/ayZ\n",
       "lIK0LQTHcmiIilBbrflHrZYI4iY0Z/eb7kAPxqFvcwBWnP4EMCHPRSu5gvsUDwsFmP4dRPag2JpD\n",
       "AAPKfrXLAUoFx+W0PdMRKIuLnceWCBHFtZHHK2XZL9C2kGpOSimtMcZhF4kSB7ylpJH0FzhjaE51\n",
       "0A5iTUxTZhWV8Tg/gwVcqJQ0UTMvgWscXuAOOEROTU1nJX2A/geNrCegNP0uymDt9RoXjK3+PLeu\n",
       "zVIpqOVVk8PcpyI4RHu9XlaScruaR/2XTKPOThHJdSSMwZWsGyHAR9+8GeiqiJUG/xxiYcBHXn2j\n",
       "fPh1/d8CrSnCPVhghYEDynivUiJqkSH+Mul2/AfjPsZgGPYqQgAAAABJRU5ErkJggg==\n",
       "\" style=\"display:inline;vertical-align:middle;\" /></a></td></tr>\n",
       "<tr><td>1</td><td>Operation</td><td>operator:&nbsp;7<br>operands:&nbsp;8<br></td><td><a class=\"ProveItLink\" href=\"../b80ee1f7a9870caeb12beba2eb78d298813e0b720/expr.ipynb\"><img src=\"data:image/png;base64,iVBORw0KGgoAAAANSUhEUgAAAC8AAAAOBAMAAABN+VgMAAAAMFBMVEX///8yMjKqqqrMzMzu7u4i\n",
       "IiJmZmaYmJhEREQQEBC6urp2dnaIiIhUVFTc3NwAAAD87Fq/AAAAAXRSTlMAQObYZgAAAHVJREFU\n",
       "GNNjYEAAlgcM2AHTAeIk+O7smocqARVZ+YDjA6oERITvOwNbA4oEVIT3AwPrARQJqAh/A4O/AZDL\n",
       "JigoOlFQ8AJc5P0BBn0GB2QdUBF/BYaLTAbIElARxgKmMG4UO6AifHdOWZxCdRVChFCQcCFLAABD\n",
       "Siw1qMdh/wAAAABJRU5ErkJggg==\n",
       "\" style=\"display:inline;vertical-align:middle;\" /></a></td></tr>\n",
       "<tr><td>2</td><td>Variable</td><td></td><td><a class=\"ProveItLink\" href=\"../../../../__pv_it/cbdfda466482236edba0ce44ac7ef39cda0af7a40/expr.ipynb\"><img src=\"data:image/png;base64,iVBORw0KGgoAAAANSUhEUgAAAAkAAAAJBAMAAAASvxsjAAAALVBMVEX///9mZmbc3NxUVFSYmJhE\n",
       "REQiIiIyMjK6uroQEBDMzMyIiIh2dnbu7u4AAABgFDGoAAAAAXRSTlMAQObYZgAAADZJREFUCNdj\n",
       "YOA9s3sBA8PKBvYEBt7ZDKwODMwPGICALwBE6m0Asx0YGIDiAgw8QJUyu/cyAAAmuwmycZ8WfQAA\n",
       "AABJRU5ErkJggg==\n",
       "\" style=\"display:inline;vertical-align:middle;\" /></a></td></tr>\n",
       "<tr><td>3</td><td>Variable</td><td></td><td><a class=\"ProveItLink\" href=\"../../../../__pv_it/6840a4fa6c106149dc16a131294d0c5e44f1b0480/expr.ipynb\"><img src=\"data:image/png;base64,iVBORw0KGgoAAAANSUhEUgAAAAkAAAAOBAMAAAAPuiubAAAALVBMVEX///9mZmbMzMxERESYmJiI\n",
       "iIh2dna6urqqqqoyMjIiIiIQEBBUVFTu7u4AAAD9S1JeAAAAAXRSTlMAQObYZgAAAE1JREFUCNdj\n",
       "4D29gAEIOA+ASL4GEFl3AURmgQiGOaFHGBh4HzPwKTBwvGXgTmBgnMDAJ8DAJcBQ5wBSLncBJLWN\n",
       "gYGngRFoBO9REQYGAGrcDtUkVqASAAAAAElFTkSuQmCC\n",
       "\" style=\"display:inline;vertical-align:middle;\" /></a></td></tr>\n",
       "<tr><td>4</td><td>Literal</td><td></td><td><a class=\"ProveItLink\" href=\"../../../numeral/__pv_it/77d407a64829263cdc16415becd4c2293f77a4bf0/expr.ipynb\"><img src=\"data:image/png;base64,iVBORw0KGgoAAAANSUhEUgAAAAkAAAAOBAMAAAAPuiubAAAAMFBMVEX///+YmJh2dnbMzMwQEBAi\n",
       "IiLu7u6qqqqIiIhUVFS6urpEREQyMjJmZmbc3NwAAACOMKdoAAAAAXRSTlMAQObYZgAAAFBJREFU\n",
       "CNdj4Lt7egEDw0sGju8MDNMYGOIZGFwSGOYvYDifwHAfKAEUSQASzJ9ATJ4NIPI2iOCYACJrGfge\n",
       "MDBfYGB8wPBUSekqUPH//18ZAIliFhc3zESNAAAAAElFTkSuQmCC\n",
       "\" style=\"display:inline;vertical-align:middle;\" /></a></td></tr>\n",
       "<tr><td>5</td><td>Literal</td><td></td><td><a class=\"ProveItLink\" href=\"../../../numeral/__pv_it/9176d93c83afa2c995b614976e3cb49207102fa70/expr.ipynb\"><img src=\"data:image/png;base64,iVBORw0KGgoAAAANSUhEUgAAAAoAAAAOBAMAAADkjZCYAAAAMFBMVEX///+YmJju7u4QEBBUVFQy\n",
       "MjIiIiKIiIi6urpmZmbc3NyqqqpERER2dnbMzMwAAAB0GlNiAAAAAXRSTlMAQObYZgAAAE1JREFU\n",
       "CNdjYHh79zQDA9cEhv4CBt7fDPwJDNxgEgiAIkAQAsR8Vx1ATIbiBhDJ/ImB6wEDz0cG/U8gkj+A\n",
       "ge0XA7sAQ/8FBoadM6MZAEflFACalZ/OAAAAAElFTkSuQmCC\n",
       "\" style=\"display:inline;vertical-align:middle;\" /></a></td></tr>\n",
       "<tr><td>6</td><td>Literal</td><td></td><td><a class=\"ProveItLink\" href=\"../../../numeral/__pv_it/23412ce59ea7e77353d2f9225e02248e73651ca00/expr.ipynb\"><img src=\"data:image/png;base64,iVBORw0KGgoAAAANSUhEUgAAAAoAAAAPBAMAAAAv0UM9AAAALVBMVEX///9mZmaqqqru7u52dnYy\n",
       "MjKYmJjc3NwQEBCIiIhEREQiIiJUVFTMzMwAAACUDTcXAAAAAXRSTlMAQObYZgAAAD5JREFUCNdj\n",
       "YGBguMMAArtABGcXiCyLApEOIJKtAERaMoBIBxDJdAFEmjCASJ0zZ16cBCkF64KQPu/EwBwGACv6\n",
       "DSRgin9qAAAAAElFTkSuQmCC\n",
       "\" style=\"display:inline;vertical-align:middle;\" /></a></td></tr>\n",
       "<tr><td>7</td><td>Literal</td><td></td><td><a class=\"ProveItLink\" href=\"../3e6688136fa3c7aefbebe51301b7c3ebf0b69c440/expr.ipynb\"><img src=\"data:image/png;base64,iVBORw0KGgoAAAANSUhEUgAAAA4AAAAOBAMAAADtZjDiAAAAJFBMVEX///+6urpUVFQQEBAiIiIy\n",
       "MjJmZmaIiIiqqqrc3Nzu7u4AAACgHpL+AAAAAXRSTlMAQObYZgAAAB5JREFUCNdjYGBgWMkAAe2k\n",
       "0Kmhoc6hoUGk6BMHYgAHOwjcado9fwAAAABJRU5ErkJggg==\n",
       "\" style=\"display:inline;vertical-align:middle;\" /></a></td></tr>\n",
       "<tr><td>8</td><td>ExprTuple</td><td>9, 9</td><td><a class=\"ProveItLink\" href=\"../8d3c5434f530489588a15a4b183ce46d1affa7650/expr.ipynb\"><img src=\"data:image/png;base64,iVBORw0KGgoAAAANSUhEUgAAACsAAAAVBAMAAAAtAwouAAAAMFBMVEX////c3NwiIiJERESqqqqY\n",
       "mJh2dnZmZmYQEBDu7u4yMjJUVFTMzMyIiIi6uroAAAAs73DqAAAAAXRSTlMAQObYZgAAANtJREFU\n",
       "GNN1kL0OAUEURg/W/2+voNNq9N6ASik6FVGpSdSi1O02Cq8gkWyi1OwDiKAS1Sq0YsbsbMQwxcy5\n",
       "Jzc331z4cwret+nKa280Jl1xrc0BDuQ9U3cgtTD1Em4/UsSajMUT2Q6nSihKjFiJ4lqK+Uorshzm\n",
       "ouVBsq6aFRUmPCHrE1V5Asr5Uhfr2O5bByT0DCoeLd45AxJDGmA32VhuGk3EHfqQaVu1BHZVkwx4\n",
       "kWGPuyPLuyYyJ1Il/bfz5+fjPV20Qz34XGyo02KxlIMiHzZn5dyIsfADvABGHTxeG7dbswAAAABJ\n",
       "RU5ErkJggg==\n",
       "\" style=\"display:inline;vertical-align:middle;\" /></a></td></tr>\n",
       "<tr><td>9</td><td>Variable</td><td></td><td><a class=\"ProveItLink\" href=\"../../../../__pv_it/07527342713064c87612d00d8557c53d53d5324a0/expr.ipynb\"><img src=\"data:image/png;base64,iVBORw0KGgoAAAANSUhEUgAAAAsAAAAJBAMAAAAWSsseAAAAMFBMVEX///8yMjKqqqrMzMzu7u4i\n",
       "IiJmZmaYmJhEREQQEBC6urp2dnaIiIhUVFTc3NwAAAD87Fq/AAAAAXRSTlMAQObYZgAAAEhJREFU\n",
       "CNdjYOC7s2seAwPDygccHxgY+L4zsDUwMPB+YGA9wMDA38Dgb8DA8P4Agz6DA4O/AsNFJgMGxgKm\n",
       "MG6gyjunLE4xAAAZTBA5TB6DCwAAAABJRU5ErkJggg==\n",
       "\" style=\"display:inline;vertical-align:middle;\" /></a></td></tr>\n",
       "</table>\n"
      ],
      "text/plain": [
       "0. (a + a , c , c , b , b , 2 , 3 , 4)\n",
       "   core type: ExprTuple\n",
       "   sub-expressions: 1, 2, 2, 3, 3, 4, 5, 6\n",
       "1. a + a\n",
       "   core type: Operation\n",
       "   operator: 7\n",
       "   operands: 8\n",
       "2. c\n",
       "   core type: Variable\n",
       "   sub-expressions: \n",
       "3. b\n",
       "   core type: Variable\n",
       "   sub-expressions: \n",
       "4. 2\n",
       "   core type: Literal\n",
       "   sub-expressions: \n",
       "5. 3\n",
       "   core type: Literal\n",
       "   sub-expressions: \n",
       "6. 4\n",
       "   core type: Literal\n",
       "   sub-expressions: \n",
       "7. +\n",
       "   core type: Literal\n",
       "   sub-expressions: \n",
       "8. (a , a)\n",
       "   core type: ExprTuple\n",
       "   sub-expressions: 9, 9\n",
       "9. a\n",
       "   core type: Variable\n",
       "   sub-expressions: "
      ]
     },
     "execution_count": 4,
     "metadata": {},
     "output_type": "execute_result"
    }
   ],
   "source": [
    "# display the expression information\n",
    "expr.exprInfo()"
   ]
  },
  {
   "cell_type": "code",
   "execution_count": null,
   "metadata": {},
   "outputs": [],
   "source": []
  }
 ],
 "metadata": {
  "kernelspec": {
   "display_name": "Python 3",
   "language": "python",
   "name": "python3"
  }
 },
 "nbformat": 4,
 "nbformat_minor": 0
}
