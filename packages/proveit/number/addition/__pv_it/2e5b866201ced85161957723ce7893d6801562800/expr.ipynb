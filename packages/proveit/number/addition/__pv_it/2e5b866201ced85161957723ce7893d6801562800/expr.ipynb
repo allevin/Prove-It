{
 "cells": [
  {
   "cell_type": "markdown",
   "metadata": {},
   "source": [
    "Expression of type <a class=\"ProveItLink\" href=\"../../../../../../doc/html/api/proveit.ExprTuple.html\">ExprTuple</a>\n",
    "=======================\n",
    "# from context <a class=\"ProveItLink\" href=\"../../_context_.ipynb\">proveit.number.addition</a>"
   ]
  },
  {
   "cell_type": "code",
   "execution_count": 1,
   "metadata": {},
   "outputs": [],
   "source": [
    "# import Expression classes needed to build the expression\n",
    "from proveit import ExprTuple\n",
    "from proveit._common_ import a, b, c\n",
    "from proveit.number import Add, one, three, two"
   ]
  },
  {
   "cell_type": "code",
   "execution_count": 2,
   "metadata": {},
   "outputs": [
    {
     "data": {
      "text/html": [
       "<strong id=\"expr\">expr:</strong> <a class=\"ProveItLink\" href=\"expr.ipynb\"><img src=\"data:image/png;base64,iVBORw0KGgoAAAANSUhEUgAAAqEAAAAVBAMAAACESConAAAAMFBMVEX////c3NwiIiJERESqqqqY\n",
       "mJh2dnZmZmYQEBDu7u4yMjJUVFTMzMyIiIi6uroAAAAs73DqAAAAAXRSTlMAQObYZgAABAlJREFU\n",
       "WMPtmT9oG2cYxh9FkuWzJVl06eBAvCVLsIdm6BAssmRpsaaMwRBQodSJSKkd3KFJCCUEEl8IBIMH\n",
       "C7chRBniIRDSEGQohEIWLflHYld0MqXBbiKnKNh1v1P0+e79njsdaq2Cwd9g5J/ee9/nfe67V3cS\n",
       "sLu2e6Urux5s2zru/HncwQJRW/4fmfihKsnMeYQAPMp/0lkbuCQ+RdvCk/kTWSQW1KtbnZNqDRuO\n",
       "9iNVM2JuIwRECljp8GVEGq7V0bbwj5HeAIpASqi1MuRKJgzgagCwHpRtSe4Dg0aWmpnFBF019A2E\n",
       "lmQSLjxQw8yDuhHSQrgGp7J4AxwDusU2itFuIMIhnweCX21JLtooV0WWdN04iEDMz1EqySRceKAG\n",
       "pOpGSAvhGow0HJ0Gfsf/6OgdG99JYV0DxkEE1FqpdNRRLkmOthDupnWu+mgW486oenjynHybCa6P\n",
       "vfIHWzoIkKNqDdoiS8/DlzkRQsAzsvqfLmfke65OTaz84oKoQIA64ZLkaAvhbkjPvDK6gBvq5XIm\n",
       "uiozMElewZw/0DoI+DmafCfTzg5hXYQQQPLL+eYeOIdhI5+rU5Nfqj0DogIB6oRL+jgaKHwr5JFz\n",
       "4mNFXFEneg2JIRHPBNMVHPIHWgcBP0d7jLQjNr4XIQTUev7hgtuXw9cyn0dnk1iXERV7hwB3wiV9\n",
       "HA0U7oaklJfps/gb6F3FnoqIZ4KyOX3K5ggrh89RbFmis0wCf4kQAmp113WBgzKfR6dLYLaCkE64\n",
       "pI+jgcI9g2HKRnLVcbRvCLPOqEmUSnOXSqV5P4K3jWMIYLJUOlAq3fYD2lEPSc0bWfYjvSZCCEQW\n",
       "EF1rZHsLa13m0zoFgdkKQjqhkk1HPSFBwj1gLzCccxy9oK6mCkYg5i6TyIZxZl3QPLME/PboUUQy\n",
       "4szWkKiLEAKz9aajqkBs1RLveXS6ROokQJ1wSZ89GixcT5dN23FUXfVqpMxm8VNMfB4ygWoq7g+0\n",
       "DgLsaLKAuBS2ju5REUKgr4g9fzq2WTX0Fj+Tbrs6dbSamWJsEuBOqCQ72kK4Bu/V7UAG8SK+UEM3\n",
       "F9vfJTIwwT3gK3+gdRBgRz/K50/LtHfxrQwhkMphZdRSN8/qtuRIQbbu0annaAFdYisQ4E6oJDva\n",
       "QrgGT5B+17h7+s25qVv6eUleGUSQGFu0/YHWQQATUzfljd7g5uYbmXbmWU52QwBHJ36ENaV2SP/i\n",
       "H4er8rPe1amjxxdfyAoEqBMqmTjz/ht5TAvhGsQmJrPqHFfRnengM1MbTzQhWdKZzj0ztSUzJIt6\n",
       "Co2Ptv6ylAiHvA4FTNrNEv/vFf5NJ237MdbZb/O2ccV3xjfOVrHx1d9OWDvkh4ZeZzhFdn8V2b71\n",
       "CvgHtHMs+Ga0lesAAAAASUVORK5CYII=\n",
       "\" style=\"display:inline;vertical-align:middle;\" /></a><br>"
      ],
      "text/plain": [
       "expr: (a + a + c + c + c + 1 + 2 + b + b + 3 , a + a + c + c + c + b + 1 + 2 + b + 3)"
      ]
     },
     "execution_count": 2,
     "metadata": {},
     "output_type": "execute_result"
    }
   ],
   "source": [
    "# build up the expression from sub-expressions\n",
    "expr = ExprTuple(Add(a, a, c, c, c, one, two, b, b, three), Add(a, a, c, c, c, b, one, two, b, three))"
   ]
  },
  {
   "cell_type": "code",
   "execution_count": 3,
   "metadata": {},
   "outputs": [
    {
     "name": "stdout",
     "output_type": "stream",
     "text": [
      "Passed sanity check: built 'expr' is the same as the stored Expression.\n"
     ]
    }
   ],
   "source": [
    "# check that the built expression is the same as the stored expression\n",
    "%check_expr"
   ]
  },
  {
   "cell_type": "code",
   "execution_count": 4,
   "metadata": {},
   "outputs": [
    {
     "data": {
      "text/html": [
       "<table><tr><th>&nbsp;</th><th>core type</th><th>sub-expressions</th><th>expression</th></tr>\n",
       "<tr><td>0</td><td>ExprTuple</td><td>1, 2</td><td><a class=\"ProveItLink\" href=\"expr.ipynb\"><img src=\"data:image/png;base64,iVBORw0KGgoAAAANSUhEUgAAAqEAAAAVBAMAAACESConAAAAMFBMVEX////c3NwiIiJERESqqqqY\n",
       "mJh2dnZmZmYQEBDu7u4yMjJUVFTMzMyIiIi6uroAAAAs73DqAAAAAXRSTlMAQObYZgAABAlJREFU\n",
       "WMPtmT9oG2cYxh9FkuWzJVl06eBAvCVLsIdm6BAssmRpsaaMwRBQodSJSKkd3KFJCCUEEl8IBIMH\n",
       "C7chRBniIRDSEGQohEIWLflHYld0MqXBbiKnKNh1v1P0+e79njsdaq2Cwd9g5J/ee9/nfe67V3cS\n",
       "sLu2e6Urux5s2zru/HncwQJRW/4fmfihKsnMeYQAPMp/0lkbuCQ+RdvCk/kTWSQW1KtbnZNqDRuO\n",
       "9iNVM2JuIwRECljp8GVEGq7V0bbwj5HeAIpASqi1MuRKJgzgagCwHpRtSe4Dg0aWmpnFBF019A2E\n",
       "lmQSLjxQw8yDuhHSQrgGp7J4AxwDusU2itFuIMIhnweCX21JLtooV0WWdN04iEDMz1EqySRceKAG\n",
       "pOpGSAvhGow0HJ0Gfsf/6OgdG99JYV0DxkEE1FqpdNRRLkmOthDupnWu+mgW486oenjynHybCa6P\n",
       "vfIHWzoIkKNqDdoiS8/DlzkRQsAzsvqfLmfke65OTaz84oKoQIA64ZLkaAvhbkjPvDK6gBvq5XIm\n",
       "uiozMElewZw/0DoI+DmafCfTzg5hXYQQQPLL+eYeOIdhI5+rU5Nfqj0DogIB6oRL+jgaKHwr5JFz\n",
       "4mNFXFEneg2JIRHPBNMVHPIHWgcBP0d7jLQjNr4XIQTUev7hgtuXw9cyn0dnk1iXERV7hwB3wiV9\n",
       "HA0U7oaklJfps/gb6F3FnoqIZ4KyOX3K5ggrh89RbFmis0wCf4kQAmp113WBgzKfR6dLYLaCkE64\n",
       "pI+jgcI9g2HKRnLVcbRvCLPOqEmUSnOXSqV5P4K3jWMIYLJUOlAq3fYD2lEPSc0bWfYjvSZCCEQW\n",
       "EF1rZHsLa13m0zoFgdkKQjqhkk1HPSFBwj1gLzCccxy9oK6mCkYg5i6TyIZxZl3QPLME/PboUUQy\n",
       "4szWkKiLEAKz9aajqkBs1RLveXS6ROokQJ1wSZ89GixcT5dN23FUXfVqpMxm8VNMfB4ygWoq7g+0\n",
       "DgLsaLKAuBS2ju5REUKgr4g9fzq2WTX0Fj+Tbrs6dbSamWJsEuBOqCQ72kK4Bu/V7UAG8SK+UEM3\n",
       "F9vfJTIwwT3gK3+gdRBgRz/K50/LtHfxrQwhkMphZdRSN8/qtuRIQbbu0annaAFdYisQ4E6oJDva\n",
       "QrgGT5B+17h7+s25qVv6eUleGUSQGFu0/YHWQQATUzfljd7g5uYbmXbmWU52QwBHJ36ENaV2SP/i\n",
       "H4er8rPe1amjxxdfyAoEqBMqmTjz/ht5TAvhGsQmJrPqHFfRnengM1MbTzQhWdKZzj0ztSUzJIt6\n",
       "Co2Ptv6ylAiHvA4FTNrNEv/vFf5NJ237MdbZb/O2ccV3xjfOVrHx1d9OWDvkh4ZeZzhFdn8V2b71\n",
       "CvgHtHMs+Ga0lesAAAAASUVORK5CYII=\n",
       "\" style=\"display:inline;vertical-align:middle;\" /></a></td></tr>\n",
       "<tr><td>1</td><td>Operation</td><td>operator:&nbsp;4<br>operands:&nbsp;3<br></td><td><a class=\"ProveItLink\" href=\"../2d7411bdc7dcb8c014d6667b578b9c43f7e81cd60/expr.ipynb\"><img src=\"data:image/png;base64,iVBORw0KGgoAAAANSUhEUgAAAUUAAAAQBAMAAABzbnCeAAAAMFBMVEX///8yMjKqqqrMzMzu7u4i\n",
       "IiJmZmaYmJhEREQQEBC6urp2dnaIiIhUVFTc3NwAAAD87Fq/AAAAAXRSTlMAQObYZgAAAiFJREFU\n",
       "SMe91b9LG2EcBvDnkvTUSzy5QegizeQkxLGly42KxDgJnWKGaqUU8ydkKDiKg0NtqVkFB8FFjOBB\n",
       "i4KkkIo4KQZEt2KM8QcopHdyb+79vvfeSQrpDUI+vN/H5968dwE6dn0WPuvTL4tU0kt4BqKlzWTn\n",
       "GmKkIcAfJOoCDeAZuID2SGDc939i1baBpaRPGsKSQyArDNURACxlJ4kbkj7k6xix2oZWSqIhLPli\n",
       "4rRIRBOXtIClpP5zx1cm5mjH+ISwpAVel6fvWj/e+k7dEzYbK5WHaaWx7R9yCO5oX1mTiHL8Ky8H\n",
       "r6NSsf+sVrtr1D1hs2+KygSB6DL65RDWMfpAJVPAtRxaKW+dp0i/g1ogzok7G/uGbnrDoxbm5RDW\n",
       "UaGxSJn4KgdvHxPLQG8NLyzinLizvTXx+J0GQljHD4LkgFs5cM/Giom+AjLOWcsZxjvDcHaWiWoY\n",
       "/YuGUXkSEMC9HLgUtyO3BImKIJPQ7iTApZwBC3lcWkjB5Ltz4t7fpSVsm/4YCCH7OAi9SqQOtSEH\n",
       "NyXWNJ2OmSR+R4b5dE7c2T77MNLzaN9tlxyCO0an0EU7XqNnXQ4s5cp+F1Sh5COTceKcsPM4hTh9\n",
       "9xwBG3II7nheKr2ncoBPAcBS9qA9OC/D/df79Ln2hM1+LP+koG6XTTmwFHX2aobOZJvNGyrp3XwA\n",
       "sJTIdC7Zwd+ZkCX/kuJeaz7RrLbBn+Jf0mbKX6nU7ZCSpdGRAAAAAElFTkSuQmCC\n",
       "\" style=\"display:inline;vertical-align:middle;\" /></a></td></tr>\n",
       "<tr><td>2</td><td>Operation</td><td>operator:&nbsp;4<br>operands:&nbsp;5<br></td><td><a class=\"ProveItLink\" href=\"../798ef4bf2a0f4a9899c2318f17942e13447618250/expr.ipynb\"><img src=\"data:image/png;base64,iVBORw0KGgoAAAANSUhEUgAAAUUAAAAQBAMAAABzbnCeAAAAMFBMVEX///8yMjKqqqrMzMzu7u4i\n",
       "IiJmZmaYmJhEREQQEBC6urp2dnaIiIhUVFTc3NwAAAD87Fq/AAAAAXRSTlMAQObYZgAAAiVJREFU\n",
       "SMe1lb9LG2Ecxp9LrjG9xJMbLF1KMzkJOla6vKsUGyehU8zQUCil9ydk6ygdHLRFsxYcBBcxQg8q\n",
       "ChJpKtIpJQGxW0kafxUU0ju517vv+776kiHvEMgHns/73JvvvQEGtGYWJZRm9LtdelzRhJLVzRwG\n",
       "t56IwFwQOv5BtqsJ/YZ1TcBLaR+z1Te4tXQFYP5qMkqOgIJgEUNfczgn9nGpY8LrG3CLdSZpvzNK\n",
       "lhiaFWKRQhMD7ZiZ1XZ8yvCedlSEbn5ru7G1QnlEeNas1iZppRfb39SAW4zGgavp6K8CIxZFyKj7\n",
       "H19a6Q7lEeHZqYoxS0ByGaNqwC35Mk61HZNXdB859Dx4i+xLpMqEx0iYNT8j7RLZtIcPanA7SQyf\n",
       "tB0Nuo8qlF0Ghjt44BEeI2F2uCOOX/NOwC1F4ELb8Y1gUYSwyjBSRj6YtaLjvHKc4GQ5STnO6EfH\n",
       "qd8QEIB/ahCzzMG6JIB3jJFsXbBIoWNgwUXbwwRYvHuMhM/X9oRjs6/vBNzSRepMd45jsFvkHMWQ\n",
       "2WNBx3wOPxKTZNojEmZH/GGk8+g/7ZAacMspHq5rOibnMUQ7SqG//qvfguEm5jL01ogIn8d5ZOjd\n",
       "8xPYUANuOcQ73f14Uq2+pvMohfZgXQWX4f6zffpeR4Rn39Z2KEht15gacMvMrit0LK0+opdfodc7\n",
       "p1oplCgVc4P7n7lPO47+LeFak4jl9Q1ky5p+o/st/wEkw92Rl7ohwAAAAABJRU5ErkJggg==\n",
       "\" style=\"display:inline;vertical-align:middle;\" /></a></td></tr>\n",
       "<tr><td>3</td><td>ExprTuple</td><td>6, 6, 7, 7, 7, 8, 9, 10, 10, 11</td><td><a class=\"ProveItLink\" href=\"../25404e58ca3e92e8b70f30be84d73e342ddc4fff0/expr.ipynb\"><img src=\"data:image/png;base64,iVBORw0KGgoAAAANSUhEUgAAAMEAAAAVBAMAAAANw5eWAAAAMFBMVEX////c3NwiIiJERESqqqqY\n",
       "mJh2dnZmZmYQEBDu7u4yMjJUVFTMzMyIiIi6uroAAAAs73DqAAAAAXRSTlMAQObYZgAAAllJREFU\n",
       "SMe1lT9s00AUxr+0dhwnjmOxMIBEto7JwsCEN8ZmYkQVSGEhEIFKURkKCFVMraVKKFKGWCAG1IEO\n",
       "IP4paiQkFpYsiAFaFSbE0pDSolYt4e7eXWzJ9hBQPPh+vvfuvrv33p2B8T92d4yTX+CvD/8w8Ixs\n",
       "U3OPtwSYr4qyq3lPglW95MLoMHo6usDKvoQTyP8iyq4p46psj8M+AnwgP3qQmm+VwmugRFRwlVVK\n",
       "4pqLPnAeyHij7yGvFB54WKcwbatpbGWbFgoN4Af+Q+GZhwVSuKhs6WJQQyxKky5u8oS1r96VqRsS\n",
       "Hta+JMFQgT0lWvzqxguZkPbnCoLcpOt4wvC7M9mjzoCsJTxKgLCCtUe1tINCR1CrjEMyvec513ws\n",
       "sYXvwijTFoaERhenEyCskCV3bR+ZGQq/h0UVTDa3fQd/gFwPE1RRAWFdzRGFsMINagwfhbqgeeC3\n",
       "Mi57sHpcoVBGi7YYEHaUWxRCCnl5DCbq2KbwT8HeFXASOFvhCveBU11MQyQsoNSROrYRCCucQ8qR\n",
       "x2HBk8fBEFZz4HEFFiUW2paLN1rHRJjAFqILsSgIBeFk1aE7nFiaF6nrkCeEex2wOnOg+7jMslXR\n",
       "ptJoFcOEl8AVsx8LQkE4HatWrwvKucYadT3HbQivj7D3RLV+44dg890mGj/DBKO24ZnLTizcOpgl\n",
       "p9Jg0BdktmdBXc1PFQgvbW6e3STZLWQcFdOviJDtJEKce3QcvzX0GfVRQYT0ZIhzj45DLXx7j0PB\n",
       "9MUdL0swKMYhdZMhxj1mXI6HKzXOvyi7Kv8COyvRHWx4FroAAAAASUVORK5CYII=\n",
       "\" style=\"display:inline;vertical-align:middle;\" /></a></td></tr>\n",
       "<tr><td>4</td><td>Literal</td><td></td><td><a class=\"ProveItLink\" href=\"../3e6688136fa3c7aefbebe51301b7c3ebf0b69c440/expr.ipynb\"><img src=\"data:image/png;base64,iVBORw0KGgoAAAANSUhEUgAAAA4AAAAOBAMAAADtZjDiAAAAJFBMVEX///+6urpUVFQQEBAiIiIy\n",
       "MjJmZmaIiIiqqqrc3Nzu7u4AAACgHpL+AAAAAXRSTlMAQObYZgAAAB5JREFUCNdjYGBgWMkAAe2k\n",
       "0Kmhoc6hoUGk6BMHYgAHOwjcado9fwAAAABJRU5ErkJggg==\n",
       "\" style=\"display:inline;vertical-align:middle;\" /></a></td></tr>\n",
       "<tr><td>5</td><td>ExprTuple</td><td>6, 6, 7, 7, 7, 10, 8, 9, 10, 11</td><td><a class=\"ProveItLink\" href=\"../5cd42d7e5ada1470b7c9f505484a09b267a6c09a0/expr.ipynb\"><img src=\"data:image/png;base64,iVBORw0KGgoAAAANSUhEUgAAAMEAAAAVBAMAAAANw5eWAAAAMFBMVEX////c3NwiIiJERESqqqqY\n",
       "mJh2dnZmZmYQEBDu7u4yMjJUVFTMzMyIiIi6uroAAAAs73DqAAAAAXRSTlMAQObYZgAAAh9JREFU\n",
       "SMe1lT9oE1Ecxz+xuSaX3p2Hi4OC3Tomi4OT2Rxzk6MUhLgYLYpW6uAfRJzaA0ECGRIUB3GwgyAq\n",
       "pQHBxSWLOKglOolTjLbS0hrfvfuX3mtiI+SGu0/e9/d733e/37sXGP9ltcY4+Rnv9m7ktNrtCE8E\n",
       "z9T8o3ZCNMpni2Sagp6MvrKnIdzfDOAI5q+EeBhrBxpg/keRwslqr0OHl5BPiBeLdOE0ZN3ROxfO\n",
       "ixnSPZfV9m6xJB2q8H30V5icVhyeudxoJ0RZpYkiV70+rVy4FXQsIh5UPg2A3MpHJ+EgrrybEMkt\n",
       "C8M5Hgv8Zk90/MGYjEUeDoB6gW3FwdggIb71ep5usCgWvk6m4L9CRFRbHB8AJZe7ikMuyItFTDG3\n",
       "dZM/MNXhgL+jYmI1TFVhAX4rDpcVEZZcjI7ncLBAvSmHYuJnGKbCDNZ60sFcTopH4aTjOdyBYy1K\n",
       "yD7FlNoJv1YFxI7PbCYdTpGyd4l6z/UcRJVEaetFXqWbOv2EWIgmzVTYJjvrr8NzkNHGHJotKRK3\n",
       "xPay0RqcE01y0jOT1Kf7iRdwXu/uCc+5jgTpIKMPlcuXfIrE91gbcrd+9T6CtTdrVH/0E5nKZ1df\n",
       "sveC2gcHf+Ta1hU/Ot/rdX2KxPT8QlGsuU3WDkv5BYUs+98wNM87NbTZ8IeDQto+YGgelf7TexwO\n",
       "ekMe7cHOiwJjau0DhuZNeeVKjfNfVByVfwGxA9FZ6yeDvwAAAABJRU5ErkJggg==\n",
       "\" style=\"display:inline;vertical-align:middle;\" /></a></td></tr>\n",
       "<tr><td>6</td><td>Variable</td><td></td><td><a class=\"ProveItLink\" href=\"../../../../__pv_it/07527342713064c87612d00d8557c53d53d5324a0/expr.ipynb\"><img src=\"data:image/png;base64,iVBORw0KGgoAAAANSUhEUgAAAAsAAAAJBAMAAAAWSsseAAAAMFBMVEX///8yMjKqqqrMzMzu7u4i\n",
       "IiJmZmaYmJhEREQQEBC6urp2dnaIiIhUVFTc3NwAAAD87Fq/AAAAAXRSTlMAQObYZgAAAEhJREFU\n",
       "CNdjYOC7s2seAwPDygccHxgY+L4zsDUwMPB+YGA9wMDA38Dgb8DA8P4Agz6DA4O/AsNFJgMGxgKm\n",
       "MG6gyjunLE4xAAAZTBA5TB6DCwAAAABJRU5ErkJggg==\n",
       "\" style=\"display:inline;vertical-align:middle;\" /></a></td></tr>\n",
       "<tr><td>7</td><td>Variable</td><td></td><td><a class=\"ProveItLink\" href=\"../../../../__pv_it/cbdfda466482236edba0ce44ac7ef39cda0af7a40/expr.ipynb\"><img src=\"data:image/png;base64,iVBORw0KGgoAAAANSUhEUgAAAAkAAAAJBAMAAAASvxsjAAAALVBMVEX///9mZmbc3NxUVFSYmJhE\n",
       "REQiIiIyMjK6uroQEBDMzMyIiIh2dnbu7u4AAABgFDGoAAAAAXRSTlMAQObYZgAAADZJREFUCNdj\n",
       "YOA9s3sBA8PKBvYEBt7ZDKwODMwPGICALwBE6m0Asx0YGIDiAgw8QJUyu/cyAAAmuwmycZ8WfQAA\n",
       "AABJRU5ErkJggg==\n",
       "\" style=\"display:inline;vertical-align:middle;\" /></a></td></tr>\n",
       "<tr><td>8</td><td>Literal</td><td></td><td><a class=\"ProveItLink\" href=\"../../../numeral/__pv_it/9be8badea4c35b9724062cecc501d17a3158d1d20/expr.ipynb\"><img src=\"data:image/png;base64,iVBORw0KGgoAAAANSUhEUgAAAAgAAAAPBAMAAAArJJMAAAAAHlBMVEX///+YmJgyMjIQEBBmZmaI\n",
       "iIhUVFTu7u5EREQAAAAw+MI4AAAAAXRSTlMAQObYZgAAACFJREFUCNdjYGBoZ2BgqJjOwFCWBiQY\n",
       "WEklWJwnOTKAAACjEQo8HvEr3AAAAABJRU5ErkJggg==\n",
       "\" style=\"display:inline;vertical-align:middle;\" /></a></td></tr>\n",
       "<tr><td>9</td><td>Literal</td><td></td><td><a class=\"ProveItLink\" href=\"../../../numeral/__pv_it/77d407a64829263cdc16415becd4c2293f77a4bf0/expr.ipynb\"><img src=\"data:image/png;base64,iVBORw0KGgoAAAANSUhEUgAAAAkAAAAOBAMAAAAPuiubAAAAMFBMVEX///+YmJh2dnbMzMwQEBAi\n",
       "IiLu7u6qqqqIiIhUVFS6urpEREQyMjJmZmbc3NwAAACOMKdoAAAAAXRSTlMAQObYZgAAAFBJREFU\n",
       "CNdj4Lt7egEDw0sGju8MDNMYGOIZGFwSGOYvYDifwHAfKAEUSQASzJ9ATJ4NIPI2iOCYACJrGfge\n",
       "MDBfYGB8wPBUSekqUPH//18ZAIliFhc3zESNAAAAAElFTkSuQmCC\n",
       "\" style=\"display:inline;vertical-align:middle;\" /></a></td></tr>\n",
       "<tr><td>10</td><td>Variable</td><td></td><td><a class=\"ProveItLink\" href=\"../../../../__pv_it/6840a4fa6c106149dc16a131294d0c5e44f1b0480/expr.ipynb\"><img src=\"data:image/png;base64,iVBORw0KGgoAAAANSUhEUgAAAAkAAAAOBAMAAAAPuiubAAAALVBMVEX///9mZmbMzMxERESYmJiI\n",
       "iIh2dna6urqqqqoyMjIiIiIQEBBUVFTu7u4AAAD9S1JeAAAAAXRSTlMAQObYZgAAAE1JREFUCNdj\n",
       "4D29gAEIOA+ASL4GEFl3AURmgQiGOaFHGBh4HzPwKTBwvGXgTmBgnMDAJ8DAJcBQ5wBSLncBJLWN\n",
       "gYGngRFoBO9REQYGAGrcDtUkVqASAAAAAElFTkSuQmCC\n",
       "\" style=\"display:inline;vertical-align:middle;\" /></a></td></tr>\n",
       "<tr><td>11</td><td>Literal</td><td></td><td><a class=\"ProveItLink\" href=\"../../../numeral/__pv_it/9176d93c83afa2c995b614976e3cb49207102fa70/expr.ipynb\"><img src=\"data:image/png;base64,iVBORw0KGgoAAAANSUhEUgAAAAoAAAAOBAMAAADkjZCYAAAAMFBMVEX///+YmJju7u4QEBBUVFQy\n",
       "MjIiIiKIiIi6urpmZmbc3NyqqqpERER2dnbMzMwAAAB0GlNiAAAAAXRSTlMAQObYZgAAAE1JREFU\n",
       "CNdjYHh79zQDA9cEhv4CBt7fDPwJDNxgEgiAIkAQAsR8Vx1ATIbiBhDJ/ImB6wEDz0cG/U8gkj+A\n",
       "ge0XA7sAQ/8FBoadM6MZAEflFACalZ/OAAAAAElFTkSuQmCC\n",
       "\" style=\"display:inline;vertical-align:middle;\" /></a></td></tr>\n",
       "</table>\n"
      ],
      "text/plain": [
       "0. (a + a + c + c + c + 1 + 2 + b + b + 3 , a + a + c + c + c + b + 1 + 2 + b + 3)\n",
       "   core type: ExprTuple\n",
       "   sub-expressions: 1, 2\n",
       "1. a + a + c + c + c + 1 + 2 + b + b + 3\n",
       "   core type: Operation\n",
       "   operator: 4\n",
       "   operands: 3\n",
       "2. a + a + c + c + c + b + 1 + 2 + b + 3\n",
       "   core type: Operation\n",
       "   operator: 4\n",
       "   operands: 5\n",
       "3. (a , a , c , c , c , 1 , 2 , b , b , 3)\n",
       "   core type: ExprTuple\n",
       "   sub-expressions: 6, 6, 7, 7, 7, 8, 9, 10, 10, 11\n",
       "4. +\n",
       "   core type: Literal\n",
       "   sub-expressions: \n",
       "5. (a , a , c , c , c , b , 1 , 2 , b , 3)\n",
       "   core type: ExprTuple\n",
       "   sub-expressions: 6, 6, 7, 7, 7, 10, 8, 9, 10, 11\n",
       "6. a\n",
       "   core type: Variable\n",
       "   sub-expressions: \n",
       "7. c\n",
       "   core type: Variable\n",
       "   sub-expressions: \n",
       "8. 1\n",
       "   core type: Literal\n",
       "   sub-expressions: \n",
       "9. 2\n",
       "   core type: Literal\n",
       "   sub-expressions: \n",
       "10. b\n",
       "    core type: Variable\n",
       "    sub-expressions: \n",
       "11. 3\n",
       "    core type: Literal\n",
       "    sub-expressions: "
      ]
     },
     "execution_count": 4,
     "metadata": {},
     "output_type": "execute_result"
    }
   ],
   "source": [
    "# display the expression information\n",
    "expr.exprInfo()"
   ]
  },
  {
   "cell_type": "code",
   "execution_count": null,
   "metadata": {},
   "outputs": [],
   "source": []
  }
 ],
 "metadata": {
  "kernelspec": {
   "display_name": "Python 3",
   "language": "python",
   "name": "python3"
  }
 },
 "nbformat": 4,
 "nbformat_minor": 0
}
