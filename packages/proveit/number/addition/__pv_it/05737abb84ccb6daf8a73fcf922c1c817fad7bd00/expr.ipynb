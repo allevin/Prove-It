{
 "cells": [
  {
   "cell_type": "markdown",
   "metadata": {},
   "source": [
    "Expression of type <a class=\"ProveItLink\" href=\"../../../../../../doc/html/api/proveit.number.Add.html\">Add</a>\n",
    "=======================\n",
    "# from context <a class=\"ProveItLink\" href=\"../../_context_.ipynb\">proveit.number.addition</a>"
   ]
  },
  {
   "cell_type": "code",
   "execution_count": 1,
   "metadata": {},
   "outputs": [],
   "source": [
    "# import Expression classes needed to build the expression\n",
    "from proveit._common_ import a, b, c\n",
    "from proveit.number import Add"
   ]
  },
  {
   "cell_type": "code",
   "execution_count": 2,
   "metadata": {},
   "outputs": [
    {
     "data": {
      "text/html": [
       "<strong id=\"expr\">expr:</strong> <a class=\"ProveItLink\" href=\"expr.ipynb\"><img src=\"data:image/png;base64,iVBORw0KGgoAAAANSUhEUgAAAPsAAAAVBAMAAAByEoVnAAAAMFBMVEX////c3NwiIiJERESqqqqY\n",
       "mJh2dnZmZmYQEBDu7u4yMjJUVFTMzMyIiIi6uroAAAAs73DqAAAAAXRSTlMAQObYZgAAAndJREFU\n",
       "SMfFlj+I01Acx7+9pk1fc5dkL3LdzkXooKMYHEW5Tjc4SHHwJqUg3nAKXkUEBSVu4g1XhBtMQSoo\n",
       "iFAsuAgOZlJEexSnIsoF7g4pVPG9Jmh/Ly+Q4GAgf/i8x+/78vvzfg/4z5fpp59bGMbQ94Sp51Ka\n",
       "fJtlrddkMN/F5g2JsRdVQO+ns/g4i3w5BlygE4Nd/minMrhAfM9seZySQiP6uB+9B/zehwQthz9W\n",
       "JKi2WHJnh7RYIlDCNqKPM9H7Nk+eMSS4K2w+kKDa4ldkkcdRatTkLi5WZfnz4pF30siv8TvXu9SS\n",
       "hirvR7aKrFIlnQej3PtUp0qdwXO+qiaF7MKgTyxOwTb/GNn5gMqbLZxQklNUvsyFt2qYEMj2YPWh\n",
       "tan8m2G5SixOwT3+8wfQa1RssY7LSjKi8iW+ESy7uEWgNkapAXODruku8vVZiyH4BRgB5nwq9go4\n",
       "oiTvqLzF5deBHzQibVhNzAcEGoEU+xBweauGLREW3fMe3fE8UbR7YBMlmcqve95hz+tE8kswDwic\n",
       "a2K3HsrPzAz9+9diCG5yv/pYhju7stxPaAFTEdn5jih7fUxd4uC6Kzt/0Zf+PgTHeO44eKmRrGT7\n",
       "MNqnVeQslRfhnIhIE/m+SIYCTT2LzySxD8GqSF9tqUgjvY2TzYaKSIUnqusZrlJoOHo3VnhGE0Xy\n",
       "iyH4Isp+5/UOla8Mvh0fqsgTadvhtbT5oU4h610RNTmkhbc2+Eg1pqBk/9Om25odJRtcuk33TxNJ\n",
       "aP6UFH2pza8k9v6LSQcCajFTw32oarjKi6VruKhkkX8qg1w3YaZhp7OYy3DYWogfYQ4lTP2cyuBv\n",
       "B7LcuFmASuEAAAAASUVORK5CYII=\n",
       "\" style=\"display:inline;vertical-align:middle;\" /></a><br>"
      ],
      "text/plain": [
       "expr: (a + a + a) + (b + b) + c + c"
      ]
     },
     "execution_count": 2,
     "metadata": {},
     "output_type": "execute_result"
    }
   ],
   "source": [
    "# build up the expression from sub-expressions\n",
    "expr = Add(Add(a, a, a), Add(b, b), c, c)"
   ]
  },
  {
   "cell_type": "code",
   "execution_count": 3,
   "metadata": {},
   "outputs": [
    {
     "name": "stdout",
     "output_type": "stream",
     "text": [
      "Passed sanity check: built 'expr' is the same as the stored Expression.\n"
     ]
    }
   ],
   "source": [
    "# check that the built expression is the same as the stored expression\n",
    "%check_expr"
   ]
  },
  {
   "cell_type": "code",
   "execution_count": 4,
   "metadata": {},
   "outputs": [
    {
     "data": {
      "text/html": [
       "<table><tr><th>&nbsp;</th><th>core type</th><th>sub-expressions</th><th>expression</th></tr>\n",
       "<tr><td>0</td><td>Operation</td><td>operator:&nbsp;6<br>operands:&nbsp;1<br></td><td><a class=\"ProveItLink\" href=\"expr.ipynb\"><img src=\"data:image/png;base64,iVBORw0KGgoAAAANSUhEUgAAAPsAAAAVBAMAAAByEoVnAAAAMFBMVEX////c3NwiIiJERESqqqqY\n",
       "mJh2dnZmZmYQEBDu7u4yMjJUVFTMzMyIiIi6uroAAAAs73DqAAAAAXRSTlMAQObYZgAAAndJREFU\n",
       "SMfFlj+I01Acx7+9pk1fc5dkL3LdzkXooKMYHEW5Tjc4SHHwJqUg3nAKXkUEBSVu4g1XhBtMQSoo\n",
       "iFAsuAgOZlJEexSnIsoF7g4pVPG9Jmh/Ly+Q4GAgf/i8x+/78vvzfg/4z5fpp59bGMbQ94Sp51Ka\n",
       "fJtlrddkMN/F5g2JsRdVQO+ns/g4i3w5BlygE4Nd/minMrhAfM9seZySQiP6uB+9B/zehwQthz9W\n",
       "JKi2WHJnh7RYIlDCNqKPM9H7Nk+eMSS4K2w+kKDa4ldkkcdRatTkLi5WZfnz4pF30siv8TvXu9SS\n",
       "hirvR7aKrFIlnQej3PtUp0qdwXO+qiaF7MKgTyxOwTb/GNn5gMqbLZxQklNUvsyFt2qYEMj2YPWh\n",
       "tan8m2G5SixOwT3+8wfQa1RssY7LSjKi8iW+ESy7uEWgNkapAXODruku8vVZiyH4BRgB5nwq9go4\n",
       "oiTvqLzF5deBHzQibVhNzAcEGoEU+xBweauGLREW3fMe3fE8UbR7YBMlmcqve95hz+tE8kswDwic\n",
       "a2K3HsrPzAz9+9diCG5yv/pYhju7stxPaAFTEdn5jih7fUxd4uC6Kzt/0Zf+PgTHeO44eKmRrGT7\n",
       "MNqnVeQslRfhnIhIE/m+SIYCTT2LzySxD8GqSF9tqUgjvY2TzYaKSIUnqusZrlJoOHo3VnhGE0Xy\n",
       "iyH4Isp+5/UOla8Mvh0fqsgTadvhtbT5oU4h610RNTmkhbc2+Eg1pqBk/9Om25odJRtcuk33TxNJ\n",
       "aP6UFH2pza8k9v6LSQcCajFTw32oarjKi6VruKhkkX8qg1w3YaZhp7OYy3DYWogfYQ4lTP2cyuBv\n",
       "B7LcuFmASuEAAAAASUVORK5CYII=\n",
       "\" style=\"display:inline;vertical-align:middle;\" /></a></td></tr>\n",
       "<tr><td>1</td><td>ExprTuple</td><td>2, 3, 4, 4</td><td><a class=\"ProveItLink\" href=\"../fbfd07ce1676805b2a6237a192b687d871e2f21e0/expr.ipynb\"><img src=\"data:image/png;base64,iVBORw0KGgoAAAANSUhEUgAAALkAAAAVBAMAAADoXVL6AAAAMFBMVEX////c3NwiIiJERESqqqqY\n",
       "mJh2dnZmZmYQEBDu7u4yMjJUVFTMzMyIiIi6uroAAAAs73DqAAAAAXRSTlMAQObYZgAAAhxJREFU\n",
       "OMu1lTFo20AYhZ9j2fJZjeQ9Q7wlS0BLxlLTuSGaOgbToZ0aBKUZmqFNKB0Kbd2tkMEikKHKkiGB\n",
       "EDARdCl08dRSUgc3UwgpcRuHYHBK/3PkSKeTChqsQXp6On1399/TCRjtoTdHBF7gpy9p31pbjRhs\n",
       "txzXTvXo9DH1oDajRnErtp0DjAuFYaVoE9lBdyje+1ejEku/DxRqYUORFkF29N5QzfnXs1os/QNw\n",
       "grT0fDlKfxBfwWwFS3TJNBZXIqyJr8elBKfYOLBE+mZrxy/jw5YXiLyNDdLHpWxHpOsruJPk1E30\n",
       "BTo7h3EN/dwulgOhOHhLQ7+AaoqsSQtPkpz5Gl4JdKWHQnXQzRtkrUDoL/AX0DoYa4qsfWAmyXkG\n",
       "XAp01YFhc6H5FfDFrQ6nGybqfGaq666/dl0e3nOwfqxDxxT0C96J6067Ls/+mI2zwZANcxhR06e/\n",
       "pEk3MY9aeKSZKygdluB0ofaEsVPcnw9enxwm4FpQZWZpmSrYU7wwi3WhOfdiHA7p+1UO6B4tBO/Z\n",
       "oBlYNwI5B48oYpYylRervIG7dlV22B9S21gW865V1C3UKSyajbx3I3gij3jcDz8divSJ1unttuyw\n",
       "dxT5tW+WSGeNp/Rh/ia11PoeCBTbKJTSfKu60HoufPNTErQT5Kr/3+xFJyc8+xW+sSTxOO0OnEt+\n",
       "JNGZwwuahp78HxuXhMarmBnVn+8H8A/bObCR00iMwQAAAABJRU5ErkJggg==\n",
       "\" style=\"display:inline;vertical-align:middle;\" /></a></td></tr>\n",
       "<tr><td>2</td><td>Operation</td><td>operator:&nbsp;6<br>operands:&nbsp;5<br></td><td><a class=\"ProveItLink\" href=\"../8b02a79cc69ba0e06d7974414b19accbdafb48490/expr.ipynb\"><img src=\"data:image/png;base64,iVBORw0KGgoAAAANSUhEUgAAAFQAAAAOBAMAAABDUCZjAAAAMFBMVEX///8yMjKqqqrMzMzu7u4i\n",
       "IiJmZmaYmJhEREQQEBC6urp2dnaIiIhUVFTc3NwAAAD87Fq/AAAAAXRSTlMAQObYZgAAANBJREFU\n",
       "KM9jYEAAPwZ0wPKAATvQwRBhOkCuUr47u+ahKkWIwJW+Pb0S6JaVDzg+oCpFiMCUcs1j6Aca8Z2B\n",
       "rQFFKZIITOn7AoYMBgbeDwysB1CUIonAlN5nYIhhYOBvYPA3APISBQUjBQVlGRAibIKCohMFBS8A\n",
       "mT8YWD4DzT7AoM/ggGwqkgjUVL4/DEwfWBj8FRguMhkgK0USgSpl+cTAK6DMwFjAFMaN4lYkEZhb\n",
       "xRlUEzYAA/GUxSnUEECIwJS+PbO4ZwGZEbsGQ4QLWSkAC35BoQnyJ2sAAAAASUVORK5CYII=\n",
       "\" style=\"display:inline;vertical-align:middle;\" /></a></td></tr>\n",
       "<tr><td>3</td><td>Operation</td><td>operator:&nbsp;6<br>operands:&nbsp;7<br></td><td><a class=\"ProveItLink\" href=\"../732aa98f927c988b9bfe1416d01ed36546be51dc0/expr.ipynb\"><img src=\"data:image/png;base64,iVBORw0KGgoAAAANSUhEUgAAACsAAAAQBAMAAAB9zpudAAAAMFBMVEX////c3NxmZmbMzMxERESY\n",
       "mJiIiIh2dna6urqqqqoyMjIiIiIQEBBUVFTu7u4AAAAiO1wTAAAAAXRSTlMAQObYZgAAAIlJREFU\n",
       "GNNj4LuzgQEFQAW4LqAKQwX4J8CUCUBoiED/A6gwZwKEhghUM6AJQwTWpl1FFQYL8H1h4DdAFoYI\n",
       "cP5j4ClAFoYIMC1g4FdAFoYIcCsw9AcAOatWrT61ahXQyRABoCv1HyCrhggAjT+O4hKIAO8Epgso\n",
       "whABvmuqqN5BCKB6Bw1wIAkDAINGK1mj6vv8AAAAAElFTkSuQmCC\n",
       "\" style=\"display:inline;vertical-align:middle;\" /></a></td></tr>\n",
       "<tr><td>4</td><td>Variable</td><td></td><td><a class=\"ProveItLink\" href=\"../../../../__pv_it/cbdfda466482236edba0ce44ac7ef39cda0af7a40/expr.ipynb\"><img src=\"data:image/png;base64,iVBORw0KGgoAAAANSUhEUgAAAAkAAAAJBAMAAAASvxsjAAAALVBMVEX///9mZmbc3NxUVFSYmJhE\n",
       "REQiIiIyMjK6uroQEBDMzMyIiIh2dnbu7u4AAABgFDGoAAAAAXRSTlMAQObYZgAAADZJREFUCNdj\n",
       "YOA9s3sBA8PKBvYEBt7ZDKwODMwPGICALwBE6m0Asx0YGIDiAgw8QJUyu/cyAAAmuwmycZ8WfQAA\n",
       "AABJRU5ErkJggg==\n",
       "\" style=\"display:inline;vertical-align:middle;\" /></a></td></tr>\n",
       "<tr><td>5</td><td>ExprTuple</td><td>8, 8, 8</td><td><a class=\"ProveItLink\" href=\"../edfb82f8668947a0fcc19434b7739192318390e30/expr.ipynb\"><img src=\"data:image/png;base64,iVBORw0KGgoAAAANSUhEUgAAAD8AAAAVBAMAAAADRiu8AAAAMFBMVEX////c3NwiIiJERESqqqqY\n",
       "mJh2dnZmZmYQEBDu7u4yMjJUVFTMzMyIiIi6uroAAAAs73DqAAAAAXRSTlMAQObYZgAAAOVJREFU\n",
       "KM+FkrsOAUEUhj+s+7VX0Gk1em9ApRSdiqjUJGpR6nYbhVeQSDZRavYBRFCJahVaMWPdssOY4sx3\n",
       "zvwzk//MwN+RcX6vNWVYazZHbRHmuuMtSDs6QQNiE51gCietg1CVvpgCy+7QK/gp0mMmkmMu5Hpl\n",
       "PxkWYyG+EC172/yUGXCFpEvQ86JQypWCbBnTvpcVEoIRFBxq3N0qJK6ogFllYdhxVCJs0YZE3ShF\n",
       "MIsqSZsHaXm72jI9q0RiRyz37NoelUSrw61nUkelzudzfxHExXOTfyTp1/qbkvL+gOZDbOAGRR1Q\n",
       "YNKXtD8AAAAASUVORK5CYII=\n",
       "\" style=\"display:inline;vertical-align:middle;\" /></a></td></tr>\n",
       "<tr><td>6</td><td>Literal</td><td></td><td><a class=\"ProveItLink\" href=\"../3e6688136fa3c7aefbebe51301b7c3ebf0b69c440/expr.ipynb\"><img src=\"data:image/png;base64,iVBORw0KGgoAAAANSUhEUgAAAA4AAAAOBAMAAADtZjDiAAAAJFBMVEX///+6urpUVFQQEBAiIiIy\n",
       "MjJmZmaIiIiqqqrc3Nzu7u4AAACgHpL+AAAAAXRSTlMAQObYZgAAAB5JREFUCNdjYGBgWMkAAe2k\n",
       "0Kmhoc6hoUGk6BMHYgAHOwjcado9fwAAAABJRU5ErkJggg==\n",
       "\" style=\"display:inline;vertical-align:middle;\" /></a></td></tr>\n",
       "<tr><td>7</td><td>ExprTuple</td><td>9, 9</td><td><a class=\"ProveItLink\" href=\"../612e99e6fd74ee3c032efd8d15bfddfb9fc0af9e0/expr.ipynb\"><img src=\"data:image/png;base64,iVBORw0KGgoAAAANSUhEUgAAACcAAAAVBAMAAAA3P+qgAAAAMFBMVEX////c3NwiIiJERESqqqqY\n",
       "mJh2dnZmZmYQEBDu7u4yMjJUVFTMzMyIiIi6uroAAAAs73DqAAAAAXRSTlMAQObYZgAAAO5JREFU\n",
       "GNNtkaFuAkEQhr8WKHdQuHoML4G/R0BVElKDIjlDbStIJTmJ4wyCYDAkGBI8pg9QEoqsgaYK03R2\n",
       "dk5AemL32y+7O//swb9f/f1y3XHDlnDV9GuF8kZoBpWF7VLIoCano9ikwiMEKRxTkwpj+JLpKS+i\n",
       "UIh5lmm+W3qpcJcwlaI/RButrlDMGEHxTNB10kP9lV9JlhElTnq4Pzl5m3BsO+lB5FDTvaQWU0CO\n",
       "t3CXvxFiQCmjB9W4vGDSNHCRDpJkPZA+vg2o7AkerJvPvC1ps9Q1buey75/uQobydDQ81/KNVXff\n",
       "zdXv+IA/Uqw+FpHnSdwAAAAASUVORK5CYII=\n",
       "\" style=\"display:inline;vertical-align:middle;\" /></a></td></tr>\n",
       "<tr><td>8</td><td>Variable</td><td></td><td><a class=\"ProveItLink\" href=\"../../../../__pv_it/07527342713064c87612d00d8557c53d53d5324a0/expr.ipynb\"><img src=\"data:image/png;base64,iVBORw0KGgoAAAANSUhEUgAAAAsAAAAJBAMAAAAWSsseAAAAMFBMVEX///8yMjKqqqrMzMzu7u4i\n",
       "IiJmZmaYmJhEREQQEBC6urp2dnaIiIhUVFTc3NwAAAD87Fq/AAAAAXRSTlMAQObYZgAAAEhJREFU\n",
       "CNdjYOC7s2seAwPDygccHxgY+L4zsDUwMPB+YGA9wMDA38Dgb8DA8P4Agz6DA4O/AsNFJgMGxgKm\n",
       "MG6gyjunLE4xAAAZTBA5TB6DCwAAAABJRU5ErkJggg==\n",
       "\" style=\"display:inline;vertical-align:middle;\" /></a></td></tr>\n",
       "<tr><td>9</td><td>Variable</td><td></td><td><a class=\"ProveItLink\" href=\"../../../../__pv_it/6840a4fa6c106149dc16a131294d0c5e44f1b0480/expr.ipynb\"><img src=\"data:image/png;base64,iVBORw0KGgoAAAANSUhEUgAAAAkAAAAOBAMAAAAPuiubAAAALVBMVEX///9mZmbMzMxERESYmJiI\n",
       "iIh2dna6urqqqqoyMjIiIiIQEBBUVFTu7u4AAAD9S1JeAAAAAXRSTlMAQObYZgAAAE1JREFUCNdj\n",
       "4D29gAEIOA+ASL4GEFl3AURmgQiGOaFHGBh4HzPwKTBwvGXgTmBgnMDAJ8DAJcBQ5wBSLncBJLWN\n",
       "gYGngRFoBO9REQYGAGrcDtUkVqASAAAAAElFTkSuQmCC\n",
       "\" style=\"display:inline;vertical-align:middle;\" /></a></td></tr>\n",
       "</table>\n"
      ],
      "text/plain": [
       "0. (a + a + a) + (b + b) + c + c\n",
       "   core type: Operation\n",
       "   operator: 6\n",
       "   operands: 1\n",
       "1. (a + a + a , b + b , c , c)\n",
       "   core type: ExprTuple\n",
       "   sub-expressions: 2, 3, 4, 4\n",
       "2. a + a + a\n",
       "   core type: Operation\n",
       "   operator: 6\n",
       "   operands: 5\n",
       "3. b + b\n",
       "   core type: Operation\n",
       "   operator: 6\n",
       "   operands: 7\n",
       "4. c\n",
       "   core type: Variable\n",
       "   sub-expressions: \n",
       "5. (a , a , a)\n",
       "   core type: ExprTuple\n",
       "   sub-expressions: 8, 8, 8\n",
       "6. +\n",
       "   core type: Literal\n",
       "   sub-expressions: \n",
       "7. (b , b)\n",
       "   core type: ExprTuple\n",
       "   sub-expressions: 9, 9\n",
       "8. a\n",
       "   core type: Variable\n",
       "   sub-expressions: \n",
       "9. b\n",
       "   core type: Variable\n",
       "   sub-expressions: "
      ]
     },
     "execution_count": 4,
     "metadata": {},
     "output_type": "execute_result"
    }
   ],
   "source": [
    "# display the expression information\n",
    "expr.exprInfo()"
   ]
  },
  {
   "cell_type": "code",
   "execution_count": null,
   "metadata": {},
   "outputs": [],
   "source": []
  }
 ],
 "metadata": {
  "kernelspec": {
   "display_name": "Python 3",
   "language": "python",
   "name": "python3"
  }
 },
 "nbformat": 4,
 "nbformat_minor": 0
}
