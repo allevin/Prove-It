{
 "cells": [
  {
   "cell_type": "markdown",
   "metadata": {},
   "source": [
    "Expression of type <a class=\"ProveItLink\" href=\"../../../../../../doc/html/api/proveit.ExprTuple.html\">ExprTuple</a>\n",
    "=======================\n",
    "# from context <a class=\"ProveItLink\" href=\"../../_context_.ipynb\">proveit.number.addition</a>"
   ]
  },
  {
   "cell_type": "code",
   "execution_count": 1,
   "metadata": {},
   "outputs": [],
   "source": [
    "# import Expression classes needed to build the expression\n",
    "from proveit import ExprTuple\n",
    "from proveit._common_ import c, d\n",
    "from proveit.logic import InSet\n",
    "from proveit.number import Reals"
   ]
  },
  {
   "cell_type": "code",
   "execution_count": 2,
   "metadata": {},
   "outputs": [
    {
     "data": {
      "text/html": [
       "<strong id=\"expr\">expr:</strong> <a class=\"ProveItLink\" href=\"expr.ipynb\"><img src=\"data:image/png;base64,iVBORw0KGgoAAAANSUhEUgAAAHoAAAAVBAMAAAB71edYAAAAMFBMVEX////c3NwiIiJERESqqqqY\n",
       "mJh2dnZmZmYQEBDu7u4yMjJUVFTMzMyIiIi6uroAAAAs73DqAAAAAXRSTlMAQObYZgAAAeRJREFU\n",
       "OMulVE0oRFEU/p43ZnjPjCkLYkGvpCw0Mgopsx4Lb8tqkthIs7KSJCtFg42Uxm+MwlgS9cpGZmE2\n",
       "FhQNG5JCWLCQc9+8mbmXMYlb97177td37rnnO+cC/xuu+B+J+Qn6xL7vdz23bYxnnLqaggJru+F9\n",
       "fZMWQzQjWdx6KnDod6fNYp+AylK0yLsIKIAzW+CeUshTnrT5EPrCDqK5hIIIoIBDCs81bcFi240M\n",
       "u1tEGbtfpo0R3HFOjzszZ/PsNRFNseHFIPPae2HQT2rmIldTkUsHAy8QUMbepcjRh1X6HiWUKrbr\n",
       "5tjXXZZ165bfIKDEdlVT1uDHJB09AVknYyaTtTKt1sqz9AqHedsZLmuj2orpGB+A+midomnprN3I\n",
       "VjYJzAuIqCwNB81rnDB2sXXDGKeY4z5qae1BOCGiFPlwLMkeAyotyad5vSOnySWBHQgJKLGVed2M\n",
       "vJHc04oZqs6xY6qBQlqGfdizGQJK7KLoPqtoyjrUIKnLhKvj2HZfPcKkhKLbauwQUKZYD5OgD9dk\n",
       "Dl6cmdvlQ+kuacXytm/2icl9eXgpoNQlz4bSQkWwhQI3V2ztS8mspsaVUN9fUarU/ECOFtZzNrg9\n",
       "nr1Df8eeo1nxM+zM/bjssFL868vkNPAJjHZ8zbvIQyAAAAAASUVORK5CYII=\n",
       "\" style=\"display:inline;vertical-align:middle;\" /></a><br>"
      ],
      "text/plain": [
       "expr: (c in Reals , d in Reals)"
      ]
     },
     "execution_count": 2,
     "metadata": {},
     "output_type": "execute_result"
    }
   ],
   "source": [
    "# build up the expression from sub-expressions\n",
    "expr = ExprTuple(InSet(c, Reals), InSet(d, Reals))"
   ]
  },
  {
   "cell_type": "code",
   "execution_count": 3,
   "metadata": {},
   "outputs": [
    {
     "name": "stdout",
     "output_type": "stream",
     "text": [
      "Passed sanity check: built 'expr' is the same as the stored Expression.\n"
     ]
    }
   ],
   "source": [
    "# check that the built expression is the same as the stored expression\n",
    "%check_expr"
   ]
  },
  {
   "cell_type": "code",
   "execution_count": 4,
   "metadata": {},
   "outputs": [
    {
     "data": {
      "text/html": [
       "<table><tr><th>&nbsp;</th><th>core type</th><th>sub-expressions</th><th>expression</th></tr>\n",
       "<tr><td>0</td><td>ExprTuple</td><td>1, 2</td><td><a class=\"ProveItLink\" href=\"expr.ipynb\"><img src=\"data:image/png;base64,iVBORw0KGgoAAAANSUhEUgAAAHoAAAAVBAMAAAB71edYAAAAMFBMVEX////c3NwiIiJERESqqqqY\n",
       "mJh2dnZmZmYQEBDu7u4yMjJUVFTMzMyIiIi6uroAAAAs73DqAAAAAXRSTlMAQObYZgAAAeRJREFU\n",
       "OMulVE0oRFEU/p43ZnjPjCkLYkGvpCw0Mgopsx4Lb8tqkthIs7KSJCtFg42Uxm+MwlgS9cpGZmE2\n",
       "FhQNG5JCWLCQc9+8mbmXMYlb97177td37rnnO+cC/xuu+B+J+Qn6xL7vdz23bYxnnLqaggJru+F9\n",
       "fZMWQzQjWdx6KnDod6fNYp+AylK0yLsIKIAzW+CeUshTnrT5EPrCDqK5hIIIoIBDCs81bcFi240M\n",
       "u1tEGbtfpo0R3HFOjzszZ/PsNRFNseHFIPPae2HQT2rmIldTkUsHAy8QUMbepcjRh1X6HiWUKrbr\n",
       "5tjXXZZ165bfIKDEdlVT1uDHJB09AVknYyaTtTKt1sqz9AqHedsZLmuj2orpGB+A+midomnprN3I\n",
       "VjYJzAuIqCwNB81rnDB2sXXDGKeY4z5qae1BOCGiFPlwLMkeAyotyad5vSOnySWBHQgJKLGVed2M\n",
       "vJHc04oZqs6xY6qBQlqGfdizGQJK7KLoPqtoyjrUIKnLhKvj2HZfPcKkhKLbauwQUKZYD5OgD9dk\n",
       "Dl6cmdvlQ+kuacXytm/2icl9eXgpoNQlz4bSQkWwhQI3V2ztS8mspsaVUN9fUarU/ECOFtZzNrg9\n",
       "nr1Df8eeo1nxM+zM/bjssFL868vkNPAJjHZ8zbvIQyAAAAAASUVORK5CYII=\n",
       "\" style=\"display:inline;vertical-align:middle;\" /></a></td></tr>\n",
       "<tr><td>1</td><td>Operation</td><td>operator:&nbsp;4<br>operands:&nbsp;3<br></td><td><a class=\"ProveItLink\" href=\"../b10c95388a44a46aae63ab68515cfd030d8aa7380/expr.ipynb\"><img src=\"data:image/png;base64,iVBORw0KGgoAAAANSUhEUgAAADEAAAAPBAMAAAC/wjryAAAAMFBMVEX///+qqqpmZmbc3NxUVFSY\n",
       "mJhEREQiIiIyMjK6uroQEBDMzMyIiIh2dnbu7u4AAAA4MM1YAAAAAXRSTlMAQObYZgAAALZJREFU\n",
       "GNNjYEAHEd/yO1YcYMAGEkwYtkkYYJUxYmB7nIAkwHeivLwBKsO7AVlmRxxCD0SG7+6ZDUCKOQ/J\n",
       "NBawabsmcBQAKTYDJJnpEUAe3xoGtgAg/xnCBVblFQJAmuUDhD+rvBzugklsD4A0P9QVW5BczTTb\n",
       "AUjbQ737HNk/fUdBeoCWgOxhCUCS2cICdC6LAtD1IMdXIsnwCiQDGbpnzoEFLLThIZrN0NYvgBQI\n",
       "Iu0Qt0EBADmNMo1PEJ+NAAAAAElFTkSuQmCC\n",
       "\" style=\"display:inline;vertical-align:middle;\" /></a></td></tr>\n",
       "<tr><td>2</td><td>Operation</td><td>operator:&nbsp;4<br>operands:&nbsp;5<br></td><td><a class=\"ProveItLink\" href=\"../714f20798ff0fb8b803aa839e922edd909d0aae10/expr.ipynb\"><img src=\"data:image/png;base64,iVBORw0KGgoAAAANSUhEUgAAADMAAAAPBAMAAAC7N+rPAAAAMFBMVEX////MzMyYmJiIiIhUVFTc\n",
       "3NwyMjIiIiJ2dnbu7u6qqqpmZmYQEBBERES6uroAAABkyy6XAAAAAXRSTlMAQObYZgAAANZJREFU\n",
       "GNNjYGBg4LuzgQEJqP29n3bMAMrhX4AsxXAhhEF2WQCE/X4CqlQ0A+/UCxB2O5jkNCsvT4BKcQhA\n",
       "pbLBpJgmQhdEitW57xdIgPUmkoEsYAPfBPD+BAnwBiBJPVcD8lg/MXCDbZiLcEZMeRnIzSwfGNgb\n",
       "QAJvysvhznjNC3Iz/wWG+Q9AAiJIjud+6ACk4w0Y1jOA1ExH9lemEZCev4DBjUsAZLICkpQIC1CI\n",
       "TYGrmgPs4zokKY4FV0HespO1A4uEbYQH70WG3HyUcF2SDnEhFAAAeqxBW4KlCKcAAAAASUVORK5C\n",
       "YII=\n",
       "\" style=\"display:inline;vertical-align:middle;\" /></a></td></tr>\n",
       "<tr><td>3</td><td>ExprTuple</td><td>6, 8</td><td><a class=\"ProveItLink\" href=\"../83cf7012619d6fb694a2c52cbe9376aa4afb595a0/expr.ipynb\"><img src=\"data:image/png;base64,iVBORw0KGgoAAAANSUhEUgAAAC0AAAAVBAMAAAAgHXppAAAAMFBMVEX////c3NwiIiJERESqqqqY\n",
       "mJh2dnZmZmYQEBDu7u4yMjJUVFTMzMyIiIi6uroAAAAs73DqAAAAAXRSTlMAQObYZgAAAQRJREFU\n",
       "GNNjYMAF+C5gCMWBiNMIftRn+1VdQGXsB4CclUgKDaQZDnsJMDAsYGDgRTbGQJyBeaIBA0MYAwPH\n",
       "BFRxtgNA8RkMDK8YsIgzOzCUAbmcaXcPwMS5QeawFTAsBXJPPOBSgIk/igLay7KAoQ+ovJeBOQAi\n",
       "LqGk5QDyUwPDPwYG7g8I858zg9zB8wEkzm+AEGd/swEi3sLAIH8ByT0rr0LMMQWqBxoewAkVP80N\n",
       "dBrrAoZ0oPkFQFfPV4C638EQ7M5HQG7Z3ZsMMz6Cw82GYfF6BwauBwwcAlCzHyL5GxgOrAlQdgCS\n",
       "eC5SOCOJcwLDmUEawuZFUs4NMpsRMx7vMDAAAHdGPoCrhInqAAAAAElFTkSuQmCC\n",
       "\" style=\"display:inline;vertical-align:middle;\" /></a></td></tr>\n",
       "<tr><td>4</td><td>Literal</td><td></td><td><a class=\"ProveItLink\" href=\"../../../../logic/set_theory/membership/__pv_it/088cbc857536a28d4119ad9639a84270ccb0545d0/expr.ipynb\"><img src=\"data:image/png;base64,iVBORw0KGgoAAAANSUhEUgAAAAwAAAAMBAMAAACkW0HUAAAALVBMVEX///+qqqpmZmZUVFQQEBC6\n",
       "urpERETc3NyYmJjMzMwiIiIyMjKIiIju7u4AAACYsrA9AAAAAXRSTlMAQObYZgAAADxJREFUCNdj\n",
       "YOA9vWrVBgaG2b0MQMCeCyIZ2ArA1DUwyRCyahVIyWQI7xaEYm4AU7xLIdxqTQgtvGvVBgCkcQ7e\n",
       "geM/tQAAAABJRU5ErkJggg==\n",
       "\" style=\"display:inline;vertical-align:middle;\" /></a></td></tr>\n",
       "<tr><td>5</td><td>ExprTuple</td><td>7, 8</td><td><a class=\"ProveItLink\" href=\"../ce3f1d4f5f0a6bbcaff814df02491308fe5c5c140/expr.ipynb\"><img src=\"data:image/png;base64,iVBORw0KGgoAAAANSUhEUgAAAC8AAAAVBAMAAAAk6KpUAAAAMFBMVEX////c3NwiIiJERESqqqqY\n",
       "mJh2dnZmZmYQEBDu7u4yMjJUVFTMzMyIiIi6uroAAAAs73DqAAAAAXRSTlMAQObYZgAAASFJREFU\n",
       "KM9jYMAJ+C5gisWBiNNgWYsCEBX12X5VF1Ah+wEgZyVYDb8DmDKQZjjsJcDAsICBgRdi0vsJEAlx\n",
       "BuaJBgwMYQwMHBCRJAaYBNsBoMQMBoZXEJHlqBLMDgxlQC7j3rwvcAlukFFsBQxLgdwXAsw/4RKP\n",
       "ooCWsyxg6ANq+MrAvgAqIaGkBXIfXwPDPwYG7g8MTAkwHc+ZQa7h+QCS4DdgmP8AJsH+ZgNEooWB\n",
       "Qf4Cgz8D3B8rr0KMMmVgmO/AsIvlACdU4jQ3MDxYFzCkMzBwBbCoszHMV4D6w8EQ7NxHIG/cO3yP\n",
       "YcZHcCDaMCxe78DA9YCBQwAW1g+Rwh0YJKwJME4AkkQuPNhRJThB/pWGcniRNHCDzGfEErV3GBgA\n",
       "zw9HwKhYSLoAAAAASUVORK5CYII=\n",
       "\" style=\"display:inline;vertical-align:middle;\" /></a></td></tr>\n",
       "<tr><td>6</td><td>Variable</td><td></td><td><a class=\"ProveItLink\" href=\"../../../../__pv_it/cbdfda466482236edba0ce44ac7ef39cda0af7a40/expr.ipynb\"><img src=\"data:image/png;base64,iVBORw0KGgoAAAANSUhEUgAAAAkAAAAJBAMAAAASvxsjAAAALVBMVEX///9mZmbc3NxUVFSYmJhE\n",
       "REQiIiIyMjK6uroQEBDMzMyIiIh2dnbu7u4AAABgFDGoAAAAAXRSTlMAQObYZgAAADZJREFUCNdj\n",
       "YOA9s3sBA8PKBvYEBt7ZDKwODMwPGICALwBE6m0Asx0YGIDiAgw8QJUyu/cyAAAmuwmycZ8WfQAA\n",
       "AABJRU5ErkJggg==\n",
       "\" style=\"display:inline;vertical-align:middle;\" /></a></td></tr>\n",
       "<tr><td>7</td><td>Variable</td><td></td><td><a class=\"ProveItLink\" href=\"../../../../__pv_it/3a5de44ed6135dbbdbbeec6704c741e238f127300/expr.ipynb\"><img src=\"data:image/png;base64,iVBORw0KGgoAAAANSUhEUgAAAAsAAAAOBAMAAAALT/umAAAAMFBMVEX////MzMyYmJiIiIhUVFTc\n",
       "3NwyMjIiIiJ2dnbu7u6qqqpmZmYQEBBERES6uroAAABkyy6XAAAAAXRSTlMAQObYZgAAAFhJREFU\n",
       "CNdjYGBg4LuzgQEE+BeAqfcTwFQ7mGTIBmJW575fQOpNAO9PIOcTA3cCAwPLBwb2BqCeCwzzHzAw\n",
       "xBswrGeYwDB/AYMblwADmwJXNQdIm52sHQMAfyoTCZukXIEAAAAASUVORK5CYII=\n",
       "\" style=\"display:inline;vertical-align:middle;\" /></a></td></tr>\n",
       "<tr><td>8</td><td>Literal</td><td></td><td><a class=\"ProveItLink\" href=\"../../../sets/real/__pv_it/9e7645ee1117062e179dd6264898f99ed95b157c0/expr.ipynb\"><img src=\"data:image/png;base64,iVBORw0KGgoAAAANSUhEUgAAAA8AAAAOBAMAAAACpFvcAAAAMFBMVEX///8iIiK6urp2dnbu7u5m\n",
       "ZmaqqqrMzMxUVFTc3NyIiIgQEBBEREQyMjKYmJgAAAA9nvXMAAAAAXRSTlMAQObYZgAAAFJJREFU\n",
       "CNdjePvn/N29CxiA4MAMhprcCSDGVAYezwMQBnMBOoMDJqX4Fqx4tqBsAlj7VFUeBwiDVb0BwmC4\n",
       "sg7KqOAogJqTcJKBAWjpcYY79xMAyqEnfsw4ApEAAAAASUVORK5CYII=\n",
       "\" style=\"display:inline;vertical-align:middle;\" /></a></td></tr>\n",
       "</table>\n"
      ],
      "text/plain": [
       "0. (c in Reals , d in Reals)\n",
       "   core type: ExprTuple\n",
       "   sub-expressions: 1, 2\n",
       "1. c in Reals\n",
       "   core type: Operation\n",
       "   operator: 4\n",
       "   operands: 3\n",
       "2. d in Reals\n",
       "   core type: Operation\n",
       "   operator: 4\n",
       "   operands: 5\n",
       "3. (c , Reals)\n",
       "   core type: ExprTuple\n",
       "   sub-expressions: 6, 8\n",
       "4. in\n",
       "   core type: Literal\n",
       "   sub-expressions: \n",
       "5. (d , Reals)\n",
       "   core type: ExprTuple\n",
       "   sub-expressions: 7, 8\n",
       "6. c\n",
       "   core type: Variable\n",
       "   sub-expressions: \n",
       "7. d\n",
       "   core type: Variable\n",
       "   sub-expressions: \n",
       "8. Reals\n",
       "   core type: Literal\n",
       "   sub-expressions: "
      ]
     },
     "execution_count": 4,
     "metadata": {},
     "output_type": "execute_result"
    }
   ],
   "source": [
    "# display the expression information\n",
    "expr.exprInfo()"
   ]
  },
  {
   "cell_type": "code",
   "execution_count": null,
   "metadata": {},
   "outputs": [],
   "source": []
  }
 ],
 "metadata": {
  "kernelspec": {
   "display_name": "Python 3",
   "language": "python",
   "name": "python3"
  }
 },
 "nbformat": 4,
 "nbformat_minor": 0
}
