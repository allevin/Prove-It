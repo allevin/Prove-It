{
 "cells": [
  {
   "cell_type": "markdown",
   "metadata": {},
   "source": [
    "Expression of type <a class=\"ProveItLink\" href=\"../../../../../../doc/html/api/proveit.number.Add.html\">Add</a>\n",
    "=======================\n",
    "# from context <a class=\"ProveItLink\" href=\"../../_context_.ipynb\">proveit.number.addition</a>"
   ]
  },
  {
   "cell_type": "code",
   "execution_count": 1,
   "metadata": {},
   "outputs": [],
   "source": [
    "# import Expression classes needed to build the expression\n",
    "from proveit._common_ import a, b, c\n",
    "from proveit.number import Add, one, three, two"
   ]
  },
  {
   "cell_type": "code",
   "execution_count": 2,
   "metadata": {},
   "outputs": [
    {
     "data": {
      "text/html": [
       "<strong id=\"expr\">expr:</strong> <a class=\"ProveItLink\" href=\"expr.ipynb\"><img src=\"data:image/png;base64,iVBORw0KGgoAAAANSUhEUgAAAVMAAAAVBAMAAAAJExCCAAAAMFBMVEX////c3NwiIiJERESqqqqY\n",
       "mJh2dnZmZmYQEBDu7u4yMjJUVFTMzMyIiIi6uroAAAAs73DqAAAAAXRSTlMAQObYZgAAArdJREFU\n",
       "SMfVl89r02AYx79t06ZpurSePCisJ+fNXry6/AOyePEoRaG7WO3FDerBH4ig4JZdZLBDy0TE7NKD\n",
       "oihlBUEFD/YiIlu34UkEWXGbUtlW37RJyfOS8CqrUHMJ/bwv3/eTJ0/epMB/dGiNoJFzw6b6LnBE\n",
       "rh88feEmB5TnGX5OxOTA4dIpCpL5Czo7PQ5epzKASizxIFHl5cc51VAV6zp1h7YHjJD7P0dmnHXD\n",
       "0ny6EPSTtnmQ0ilQXi6blKgmwi1CLuv4DsTJJZ0my807Z4lvZzFwk7Q2H71p8mutcyR+B+o+IRNd\n",
       "1a8IVo3oB1aNZfjo8xCpJtqQ97k5dgNM2c1Ru3SDDvVIrEhFlHyzTs3uF1b9QX/Z2opBo5eaTwWq\n",
       "7Ai3OWJ3+EN2/pKOtOhQj0gVqvp2I5EhIDmDRX/gJpWz2CVA2UKqLlR9n6Pktf10zrAS7kDOkiGH\n",
       "aNeJqnIPEYOYzTdw0h/0u8zEbQKkNuI5oeoDnowwT9YUagvhBhlySLJFVNUW35rLgcBNKgE/CZAr\n",
       "SBVFqm7lPPKzpq2ayqJs35OSZR23LLvUDumqypa1eNeyql0KArDlDzxJY9B2CAgXsWl4gavqJStc\n",
       "ylFg3MAtYLSBCZjeq3AI1wCjDa6Iob1A4CZtQ6ZPCNtWr5mCqkpFHPISpWPaqqy1yjpeSKTVHRKl\n",
       "j1WKVYP2KitY1B+4SbtuZ/ZV61zz+qi+Ac4Q8gs4kcYk2wgMaSxGt5ge4TYrtYgY3ayeARf9gZv0\n",
       "BFeph6rLVYFq6Fh+MkPIB2g/gM/2Jrr2ao1O7pHEBn1oppqfKJALTdMfuEkLHw3qodSucDWcnn1E\n",
       "t95wp9OhqtJ0ib2N4ul/+mL9GyAi0Zz31zcysRD0SSsGXNIfASEJ/ghUBvEROMjjSOCImh4y1VDg\n",
       "H5bV4RL9DWh8FGpCBqvmAAAAAElFTkSuQmCC\n",
       "\" style=\"display:inline;vertical-align:middle;\" /></a><br>"
      ],
      "text/plain": [
       "expr: (a + a) + c + c + c + b + b + 1 + 2 + 3"
      ]
     },
     "execution_count": 2,
     "metadata": {},
     "output_type": "execute_result"
    }
   ],
   "source": [
    "# build up the expression from sub-expressions\n",
    "expr = Add(Add(a, a), c, c, c, b, b, one, two, three)"
   ]
  },
  {
   "cell_type": "code",
   "execution_count": 3,
   "metadata": {},
   "outputs": [
    {
     "name": "stdout",
     "output_type": "stream",
     "text": [
      "Passed sanity check: built 'expr' is the same as the stored Expression.\n"
     ]
    }
   ],
   "source": [
    "# check that the built expression is the same as the stored expression\n",
    "%check_expr"
   ]
  },
  {
   "cell_type": "code",
   "execution_count": 4,
   "metadata": {},
   "outputs": [
    {
     "data": {
      "text/html": [
       "<table><tr><th>&nbsp;</th><th>core type</th><th>sub-expressions</th><th>expression</th></tr>\n",
       "<tr><td>0</td><td>Operation</td><td>operator:&nbsp;8<br>operands:&nbsp;1<br></td><td><a class=\"ProveItLink\" href=\"expr.ipynb\"><img src=\"data:image/png;base64,iVBORw0KGgoAAAANSUhEUgAAAVMAAAAVBAMAAAAJExCCAAAAMFBMVEX////c3NwiIiJERESqqqqY\n",
       "mJh2dnZmZmYQEBDu7u4yMjJUVFTMzMyIiIi6uroAAAAs73DqAAAAAXRSTlMAQObYZgAAArdJREFU\n",
       "SMfVl89r02AYx79t06ZpurSePCisJ+fNXry6/AOyePEoRaG7WO3FDerBH4ig4JZdZLBDy0TE7NKD\n",
       "oihlBUEFD/YiIlu34UkEWXGbUtlW37RJyfOS8CqrUHMJ/bwv3/eTJ0/epMB/dGiNoJFzw6b6LnBE\n",
       "rh88feEmB5TnGX5OxOTA4dIpCpL5Czo7PQ5epzKASizxIFHl5cc51VAV6zp1h7YHjJD7P0dmnHXD\n",
       "0ny6EPSTtnmQ0ilQXi6blKgmwi1CLuv4DsTJJZ0my807Z4lvZzFwk7Q2H71p8mutcyR+B+o+IRNd\n",
       "1a8IVo3oB1aNZfjo8xCpJtqQ97k5dgNM2c1Ru3SDDvVIrEhFlHyzTs3uF1b9QX/Z2opBo5eaTwWq\n",
       "7Ai3OWJ3+EN2/pKOtOhQj0gVqvp2I5EhIDmDRX/gJpWz2CVA2UKqLlR9n6Pktf10zrAS7kDOkiGH\n",
       "aNeJqnIPEYOYzTdw0h/0u8zEbQKkNuI5oeoDnowwT9YUagvhBhlySLJFVNUW35rLgcBNKgE/CZAr\n",
       "SBVFqm7lPPKzpq2ayqJs35OSZR23LLvUDumqypa1eNeyql0KArDlDzxJY9B2CAgXsWl4gavqJStc\n",
       "ylFg3MAtYLSBCZjeq3AI1wCjDa6Iob1A4CZtQ6ZPCNtWr5mCqkpFHPISpWPaqqy1yjpeSKTVHRKl\n",
       "j1WKVYP2KitY1B+4SbtuZ/ZV61zz+qi+Ac4Q8gs4kcYk2wgMaSxGt5ge4TYrtYgY3ayeARf9gZv0\n",
       "BFeph6rLVYFq6Fh+MkPIB2g/gM/2Jrr2ao1O7pHEBn1oppqfKJALTdMfuEkLHw3qodSucDWcnn1E\n",
       "t95wp9OhqtJ0ib2N4ul/+mL9GyAi0Zz31zcysRD0SSsGXNIfASEJ/ghUBvEROMjjSOCImh4y1VDg\n",
       "H5bV4RL9DWh8FGpCBqvmAAAAAElFTkSuQmCC\n",
       "\" style=\"display:inline;vertical-align:middle;\" /></a></td></tr>\n",
       "<tr><td>1</td><td>ExprTuple</td><td>2, 3, 3, 3, 4, 4, 5, 6, 7</td><td><a class=\"ProveItLink\" href=\"../0965959969080fe785f231d0ae5808ffc481fed40/expr.ipynb\"><img src=\"data:image/png;base64,iVBORw0KGgoAAAANSUhEUgAAANEAAAAVBAMAAAAqbRZ+AAAAMFBMVEX////c3NwiIiJERESqqqqY\n",
       "mJh2dnZmZmYQEBDu7u4yMjJUVFTMzMyIiIi6uroAAAAs73DqAAAAAXRSTlMAQObYZgAAAk1JREFU\n",
       "SMe9lTFoE1EYx/8xd01ekjsPF4cIunWSZHGUHC4uhdzkKAEhLkaDBQN10IqIODQ3SaBDjkoR42AH\n",
       "QVRKCoKLyy3qoK3RqYhDbNNKpTW+d3dJ3rv6hB4lb8j9CHfv973ve997wPiG7o5BcpH9vIv8+fyd\n",
       "MABx23/Gao86PmXKl0wkVig9iR7p031ACoEpC63n03Hoe4ADaELyiHEQUy8M5HU7ML0Ecj5dM7EB\n",
       "XACSNv+tcpCi6TthAL4E09230fbTV/RMDeA7IpsmToVhZHpm41ZnEAjNXtzEDVa+5auzIVP2w3qQ\n",
       "yIeVzxJILX+yRBiZ6MgNMLVEg6likeK6Ee+KJn0WhWDrzGFBAs08dkXgTZntAN6y/aI4mKNL2kIi\n",
       "L5pOWpj2qeHijASKNu6JwJtS+QFp1KHfxh8g3cURVzS1gdNDksEM8EsE3jQ9KmjdRqbLTEfzaLLO\n",
       "SrRaCw9aLZpVbIIE+dgcvL4fJqFvicCZtKUATgAFi5nu0lS5KMLm1xTbg9IlAQH/BtpFiR0RONN5\n",
       "xLwtRfo2M9Hs0ZQ3TbxSVngT6SHtTHl2GqwqgV0kSyL4JkaZKlTDi/U33YUGVAeXae0sZXJCrNMi\n",
       "zlVLhHYcXgBXJPAcNyGCZ/LoWLl8HU3WZ++hb3u7/Btrp7U3a6Ipu/rjbIfU6foTlVVbAvMfLYiA\n",
       "Wv2x5VGu399A4yebsjZj0tV0kDTkZ4RuRAGOvg6noqeRWpJfVmok4MgaUuX/t8bhmYjj3STS4UaC\n",
       "EWnDv9IsobFx3O70SP4LMBndRBjJrNkAAAAASUVORK5CYII=\n",
       "\" style=\"display:inline;vertical-align:middle;\" /></a></td></tr>\n",
       "<tr><td>2</td><td>Operation</td><td>operator:&nbsp;8<br>operands:&nbsp;9<br></td><td><a class=\"ProveItLink\" href=\"../b80ee1f7a9870caeb12beba2eb78d298813e0b720/expr.ipynb\"><img src=\"data:image/png;base64,iVBORw0KGgoAAAANSUhEUgAAAC8AAAAOBAMAAABN+VgMAAAAMFBMVEX///8yMjKqqqrMzMzu7u4i\n",
       "IiJmZmaYmJhEREQQEBC6urp2dnaIiIhUVFTc3NwAAAD87Fq/AAAAAXRSTlMAQObYZgAAAHVJREFU\n",
       "GNNjYEAAlgcM2AHTAeIk+O7smocqARVZ+YDjA6oERITvOwNbA4oEVIT3AwPrARQJqAh/A4O/AZDL\n",
       "JigoOlFQ8AJc5P0BBn0GB2QdUBF/BYaLTAbIElARxgKmMG4UO6AifHdOWZxCdRVChFCQcCFLAABD\n",
       "Siw1qMdh/wAAAABJRU5ErkJggg==\n",
       "\" style=\"display:inline;vertical-align:middle;\" /></a></td></tr>\n",
       "<tr><td>3</td><td>Variable</td><td></td><td><a class=\"ProveItLink\" href=\"../../../../__pv_it/cbdfda466482236edba0ce44ac7ef39cda0af7a40/expr.ipynb\"><img src=\"data:image/png;base64,iVBORw0KGgoAAAANSUhEUgAAAAkAAAAJBAMAAAASvxsjAAAALVBMVEX///9mZmbc3NxUVFSYmJhE\n",
       "REQiIiIyMjK6uroQEBDMzMyIiIh2dnbu7u4AAABgFDGoAAAAAXRSTlMAQObYZgAAADZJREFUCNdj\n",
       "YOA9s3sBA8PKBvYEBt7ZDKwODMwPGICALwBE6m0Asx0YGIDiAgw8QJUyu/cyAAAmuwmycZ8WfQAA\n",
       "AABJRU5ErkJggg==\n",
       "\" style=\"display:inline;vertical-align:middle;\" /></a></td></tr>\n",
       "<tr><td>4</td><td>Variable</td><td></td><td><a class=\"ProveItLink\" href=\"../../../../__pv_it/6840a4fa6c106149dc16a131294d0c5e44f1b0480/expr.ipynb\"><img src=\"data:image/png;base64,iVBORw0KGgoAAAANSUhEUgAAAAkAAAAOBAMAAAAPuiubAAAALVBMVEX///9mZmbMzMxERESYmJiI\n",
       "iIh2dna6urqqqqoyMjIiIiIQEBBUVFTu7u4AAAD9S1JeAAAAAXRSTlMAQObYZgAAAE1JREFUCNdj\n",
       "4D29gAEIOA+ASL4GEFl3AURmgQiGOaFHGBh4HzPwKTBwvGXgTmBgnMDAJ8DAJcBQ5wBSLncBJLWN\n",
       "gYGngRFoBO9REQYGAGrcDtUkVqASAAAAAElFTkSuQmCC\n",
       "\" style=\"display:inline;vertical-align:middle;\" /></a></td></tr>\n",
       "<tr><td>5</td><td>Literal</td><td></td><td><a class=\"ProveItLink\" href=\"../../../numeral/__pv_it/9be8badea4c35b9724062cecc501d17a3158d1d20/expr.ipynb\"><img src=\"data:image/png;base64,iVBORw0KGgoAAAANSUhEUgAAAAgAAAAPBAMAAAArJJMAAAAAHlBMVEX///+YmJgyMjIQEBBmZmaI\n",
       "iIhUVFTu7u5EREQAAAAw+MI4AAAAAXRSTlMAQObYZgAAACFJREFUCNdjYGBoZ2BgqJjOwFCWBiQY\n",
       "WEklWJwnOTKAAACjEQo8HvEr3AAAAABJRU5ErkJggg==\n",
       "\" style=\"display:inline;vertical-align:middle;\" /></a></td></tr>\n",
       "<tr><td>6</td><td>Literal</td><td></td><td><a class=\"ProveItLink\" href=\"../../../numeral/__pv_it/77d407a64829263cdc16415becd4c2293f77a4bf0/expr.ipynb\"><img src=\"data:image/png;base64,iVBORw0KGgoAAAANSUhEUgAAAAkAAAAOBAMAAAAPuiubAAAAMFBMVEX///+YmJh2dnbMzMwQEBAi\n",
       "IiLu7u6qqqqIiIhUVFS6urpEREQyMjJmZmbc3NwAAACOMKdoAAAAAXRSTlMAQObYZgAAAFBJREFU\n",
       "CNdj4Lt7egEDw0sGju8MDNMYGOIZGFwSGOYvYDifwHAfKAEUSQASzJ9ATJ4NIPI2iOCYACJrGfge\n",
       "MDBfYGB8wPBUSekqUPH//18ZAIliFhc3zESNAAAAAElFTkSuQmCC\n",
       "\" style=\"display:inline;vertical-align:middle;\" /></a></td></tr>\n",
       "<tr><td>7</td><td>Literal</td><td></td><td><a class=\"ProveItLink\" href=\"../../../numeral/__pv_it/9176d93c83afa2c995b614976e3cb49207102fa70/expr.ipynb\"><img src=\"data:image/png;base64,iVBORw0KGgoAAAANSUhEUgAAAAoAAAAOBAMAAADkjZCYAAAAMFBMVEX///+YmJju7u4QEBBUVFQy\n",
       "MjIiIiKIiIi6urpmZmbc3NyqqqpERER2dnbMzMwAAAB0GlNiAAAAAXRSTlMAQObYZgAAAE1JREFU\n",
       "CNdjYHh79zQDA9cEhv4CBt7fDPwJDNxgEgiAIkAQAsR8Vx1ATIbiBhDJ/ImB6wEDz0cG/U8gkj+A\n",
       "ge0XA7sAQ/8FBoadM6MZAEflFACalZ/OAAAAAElFTkSuQmCC\n",
       "\" style=\"display:inline;vertical-align:middle;\" /></a></td></tr>\n",
       "<tr><td>8</td><td>Literal</td><td></td><td><a class=\"ProveItLink\" href=\"../3e6688136fa3c7aefbebe51301b7c3ebf0b69c440/expr.ipynb\"><img src=\"data:image/png;base64,iVBORw0KGgoAAAANSUhEUgAAAA4AAAAOBAMAAADtZjDiAAAAJFBMVEX///+6urpUVFQQEBAiIiIy\n",
       "MjJmZmaIiIiqqqrc3Nzu7u4AAACgHpL+AAAAAXRSTlMAQObYZgAAAB5JREFUCNdjYGBgWMkAAe2k\n",
       "0Kmhoc6hoUGk6BMHYgAHOwjcado9fwAAAABJRU5ErkJggg==\n",
       "\" style=\"display:inline;vertical-align:middle;\" /></a></td></tr>\n",
       "<tr><td>9</td><td>ExprTuple</td><td>10, 10</td><td><a class=\"ProveItLink\" href=\"../8d3c5434f530489588a15a4b183ce46d1affa7650/expr.ipynb\"><img src=\"data:image/png;base64,iVBORw0KGgoAAAANSUhEUgAAACsAAAAVBAMAAAAtAwouAAAAMFBMVEX////c3NwiIiJERESqqqqY\n",
       "mJh2dnZmZmYQEBDu7u4yMjJUVFTMzMyIiIi6uroAAAAs73DqAAAAAXRSTlMAQObYZgAAANtJREFU\n",
       "GNN1kL0OAUEURg/W/2+voNNq9N6ASik6FVGpSdSi1O02Cq8gkWyi1OwDiKAS1Sq0YsbsbMQwxcy5\n",
       "Jzc331z4cwret+nKa280Jl1xrc0BDuQ9U3cgtTD1Em4/UsSajMUT2Q6nSihKjFiJ4lqK+Uorshzm\n",
       "ouVBsq6aFRUmPCHrE1V5Asr5Uhfr2O5bByT0DCoeLd45AxJDGmA32VhuGk3EHfqQaVu1BHZVkwx4\n",
       "kWGPuyPLuyYyJ1Il/bfz5+fjPV20Qz34XGyo02KxlIMiHzZn5dyIsfADvABGHTxeG7dbswAAAABJ\n",
       "RU5ErkJggg==\n",
       "\" style=\"display:inline;vertical-align:middle;\" /></a></td></tr>\n",
       "<tr><td>10</td><td>Variable</td><td></td><td><a class=\"ProveItLink\" href=\"../../../../__pv_it/07527342713064c87612d00d8557c53d53d5324a0/expr.ipynb\"><img src=\"data:image/png;base64,iVBORw0KGgoAAAANSUhEUgAAAAsAAAAJBAMAAAAWSsseAAAAMFBMVEX///8yMjKqqqrMzMzu7u4i\n",
       "IiJmZmaYmJhEREQQEBC6urp2dnaIiIhUVFTc3NwAAAD87Fq/AAAAAXRSTlMAQObYZgAAAEhJREFU\n",
       "CNdjYOC7s2seAwPDygccHxgY+L4zsDUwMPB+YGA9wMDA38Dgb8DA8P4Agz6DA4O/AsNFJgMGxgKm\n",
       "MG6gyjunLE4xAAAZTBA5TB6DCwAAAABJRU5ErkJggg==\n",
       "\" style=\"display:inline;vertical-align:middle;\" /></a></td></tr>\n",
       "</table>\n"
      ],
      "text/plain": [
       "0. (a + a) + c + c + c + b + b + 1 + 2 + 3\n",
       "   core type: Operation\n",
       "   operator: 8\n",
       "   operands: 1\n",
       "1. (a + a , c , c , c , b , b , 1 , 2 , 3)\n",
       "   core type: ExprTuple\n",
       "   sub-expressions: 2, 3, 3, 3, 4, 4, 5, 6, 7\n",
       "2. a + a\n",
       "   core type: Operation\n",
       "   operator: 8\n",
       "   operands: 9\n",
       "3. c\n",
       "   core type: Variable\n",
       "   sub-expressions: \n",
       "4. b\n",
       "   core type: Variable\n",
       "   sub-expressions: \n",
       "5. 1\n",
       "   core type: Literal\n",
       "   sub-expressions: \n",
       "6. 2\n",
       "   core type: Literal\n",
       "   sub-expressions: \n",
       "7. 3\n",
       "   core type: Literal\n",
       "   sub-expressions: \n",
       "8. +\n",
       "   core type: Literal\n",
       "   sub-expressions: \n",
       "9. (a , a)\n",
       "   core type: ExprTuple\n",
       "   sub-expressions: 10, 10\n",
       "10. a\n",
       "    core type: Variable\n",
       "    sub-expressions: "
      ]
     },
     "execution_count": 4,
     "metadata": {},
     "output_type": "execute_result"
    }
   ],
   "source": [
    "# display the expression information\n",
    "expr.exprInfo()"
   ]
  },
  {
   "cell_type": "code",
   "execution_count": null,
   "metadata": {},
   "outputs": [],
   "source": []
  }
 ],
 "metadata": {
  "kernelspec": {
   "display_name": "Python 3",
   "language": "python",
   "name": "python3"
  }
 },
 "nbformat": 4,
 "nbformat_minor": 0
}
