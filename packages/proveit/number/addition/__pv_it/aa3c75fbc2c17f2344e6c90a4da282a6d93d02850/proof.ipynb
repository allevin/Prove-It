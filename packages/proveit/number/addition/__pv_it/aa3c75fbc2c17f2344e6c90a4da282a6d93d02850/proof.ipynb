{
 "cells": [
  {
   "cell_type": "markdown",
   "metadata": {},
   "source": [
    "Show the Proof\n",
    "========"
   ]
  },
  {
   "cell_type": "code",
   "execution_count": 1,
   "metadata": {},
   "outputs": [
    {
     "data": {
      "text/html": [
       "<table><tr><th>&nbsp;</th><th>step type</th><th>requirements</th><th>statement</th></tr>\n",
       "<tr><td>0</td><td>specialization</td><td>1, 2</td><td><span style=\"font-size:20px;\"> <a class=\"ProveItLink\" href=\"proof.ipynb\" style=\"text-decoration: none\">&#x22A2;&nbsp;</a><a class=\"ProveItLink\" href=\"../d0617b63d9073770ea909002d37ddfe497fff39e0/expr.ipynb\"><img src=\"data:image/png;base64,iVBORw0KGgoAAAANSUhEUgAAAEcAAAAWBAMAAABgTJx+AAAAMFBMVEX////c3Nx2dna6uroQEBCI\n",
       "iIhUVFTMzMyYmJiqqqoiIiJmZmZEREQyMjLu7u4AAADjlg78AAAAAXRSTlMAQObYZgAAAQdJREFU\n",
       "KM9jYIADTgYiAM+gUfT2z9kHDLt+TcCmqPfP+bu+ASDWCfYDDAwfGHLvXrl7NwAiGbtq1arFIMYB\n",
       "MYaauQJARlZBKAODA7J1VXEw1gFpBp6HQDMYku+xFaAoYlzIgKSIqQCkKL2M7x6KIjYDLIo4A2pQ\n",
       "FL1lQFbEBrYunWEzRwBIERtUpgxFkVWvAFgR24N0BySPIysSWbV2AgNYEV/CW2RFXMgmWfM8gChi\n",
       "KGJHVsQ9AUkRt3kCVBHHhANIivgWI7vpXgRUEYPiAZSY2o6kqAwYigwMh0E2XECJM7NbsGgBhtOE\n",
       "gwwMtl+ApvBdwBr5wAg+znDn/gQGWgLuVatgSQUKAFRuVP3hMJSUAAAAAElFTkSuQmCC\n",
       "\" style=\"display:inline;vertical-align:middle;\" /></a></span></td></tr>\n",
       "<tr><td>&nbsp;</td><td colspan=4 style=\"text-align:left\"><span style=\"font-size:20px;\"><a class=\"ProveItLink\" href=\"../../../../__pv_it/2cbe72a7ad6f655694dd697106680215e8489b600/expr.ipynb\"><img src=\"data:image/png;base64,iVBORw0KGgoAAAANSUhEUgAAAA8AAAAOBAMAAAACpFvcAAAALVBMVEX///8QEBBERERUVFS6urqI\n",
       "iIhmZmaqqqrc3Nzu7u6YmJgyMjIiIiLMzMwAAADtIaYWAAAAAXRSTlMAQObYZgAAAFtJREFUCNdj\n",
       "YACBOwxQsA9Kc52bAGG05zVAGAFxDmCaZULdAjBjCsO9ADDDgaEvAUTzGhvbKYCVMDAwbgAxChgY\n",
       "eASANAeQwf0AyJgNxEwvGRia5HYwcOm9TgAA6BoR3jrzwFcAAAAASUVORK5CYII=\n",
       "\" style=\"display:inline;vertical-align:middle;\" /></a> : <a class=\"ProveItLink\" href=\"../../../sets/integer/__pv_it/42d4bc2e45d5054d807f2641a228c1b440fb8de30/expr.ipynb\"><img src=\"data:image/png;base64,iVBORw0KGgoAAAANSUhEUgAAABsAAAATBAMAAACTqWsLAAAAMFBMVEX////c3Nx2dna6uroQEBCI\n",
       "iIhUVFTMzMyYmJiqqqoiIiJmZmZEREQyMjLu7u4AAADjlg78AAAAAXRSTlMAQObYZgAAAHZJREFU\n",
       "GNNjYIADTgYUwEMy9+2fsw8Ydv2aAJM9wX6AgeEDQ+7dK3fvBjAwZBWEMjA4wPUm32MrQOKml/Hd\n",
       "Q+ZyBtQgcxk2cwSAuGxQLtuDdAe47ekMfAlvkbkMRewoXI4JB5C5DIoI7mEg5r4A49l+AcrwwbgA\n",
       "axoiJO4Xc9gAAAAASUVORK5CYII=\n",
       "\" style=\"display:inline;vertical-align:middle;\" /></a>, <a class=\"ProveItLink\" href=\"../../../../__pv_it/077b2ff79244fb4582cbe22c6e3356fa92a52f2f0/expr.ipynb\"><img src=\"data:image/png;base64,iVBORw0KGgoAAAANSUhEUgAAABAAAAAOBAMAAADUAYG5AAAAMFBMVEX///+qqqru7u4iIiJ2dnbc\n",
       "3NyIiIjMzMxmZmYQEBC6uroyMjJERERUVFSYmJgAAADLUcuvAAAAAXRSTlMAQObYZgAAAGpJREFU\n",
       "CNdjYGB4+//u3dMLGIBgDgMDxy8gzf4NiP8CGWxfGRj4vgAZPBMYGJgnARn8FxhY9ygAGfXX0pof\n",
       "gDTlBzAw2YIYJ0EckBBI53sHoBH/gIz7AhBjWH9DjancBLTl/N+7t/cxMAAA3u4f/5xagjYAAAAA\n",
       "SUVORK5CYII=\n",
       "\" style=\"display:inline;vertical-align:middle;\" /></a> : <a class=\"ProveItLink\" href=\"../../../sets/real/__pv_it/9e7645ee1117062e179dd6264898f99ed95b157c0/expr.ipynb\"><img src=\"data:image/png;base64,iVBORw0KGgoAAAANSUhEUgAAAA8AAAAOBAMAAAACpFvcAAAAMFBMVEX///8iIiK6urp2dnbu7u5m\n",
       "ZmaqqqrMzMxUVFTc3NyIiIgQEBBEREQyMjKYmJgAAAA9nvXMAAAAAXRSTlMAQObYZgAAAFJJREFU\n",
       "CNdjePvn/N29CxiA4MAMhprcCSDGVAYezwMQBnMBOoMDJqX4Fqx4tqBsAlj7VFUeBwiDVb0BwmC4\n",
       "sg7KqOAogJqTcJKBAWjpcYY79xMAyqEnfsw4ApEAAAAASUVORK5CYII=\n",
       "\" style=\"display:inline;vertical-align:middle;\" /></a></span></td></tr><tr><td>1</td><td>theorem</td><td></td><td><span style=\"font-size:20px;\"> <a class=\"ProveItLink\" href=\"../../../../logic/set_theory/containment/_proofs_/relaxSubset.ipynb\" style=\"text-decoration: none\">&#x22A2;&nbsp;</a><a class=\"ProveItLink\" href=\"../../../../logic/set_theory/containment/__pv_it/22661b9d2146c6f839082ce4fba5b3001adb3f020/expr.ipynb\"><img src=\"data:image/png;base64,iVBORw0KGgoAAAANSUhEUgAAALkAAAAXBAMAAACllfPxAAAAMFBMVEX///8QEBC6urrMzMxUVFRm\n",
       "ZmZERETc3NwyMjKqqqp2dnaIiIiYmJgiIiLu7u4AAAAU9Wx4AAAAAXRSTlMAQObYZgAAAtpJREFU\n",
       "SMe1VU1oE0EU/pp0s02z2faknkoOvSkmQsCDaIOGUhBswK49FVPEVDzYHMQiUsxFi6BtLvXipRex\n",
       "Ikj9OQgBG0VEK2IsBkENpKDSS3/oT1ptTX0zs9sdUiW46sDsezNv5pv3vvdmFvivreh4584q9qfU\n",
       "c0x55QDcHREit8XybCMaPRWAEgJus/GgA/Q6EXXdvDl+VCgUJoW6DVAWgBRwjkZq3AF6RojXZSH3\n",
       "P7ajWqO+BEwIF5S0A/Qm/lWHV4R8b1t8NKV9B6ZI3Orr63cA7koJJN8Cl7UB2+RpBPx0uIecLiUS\n",
       "HxygKyNc7PauczktmRoiUC8TJfUx4BDQwycH+Pf6stEa4s5tpi9pad5eo+OENZtlXz3ASKYWltBb\n",
       "Dme6mNVL4TVD50FqIkStEb5GHp+1+I0d9BPgnqnWBIQL6vIW9PEk9HfMyBiCj7vxRYSoROBakdH1\n",
       "42R23TQMirUDCJqRNHD0cDRa4kO/hN7NTqBNbipWX9bPK/duXiwbg5KT0etnYtBPH5idJf0j0AUZ\n",
       "nT47hFNS2S2xgEcEup7iUbnHEtw0F8KLpIy+zxOHJyTCWIQ2YDHD4LzU3wrTpF3ujIT2tGAGPQd5\n",
       "SZleBTMPz0BGj1AoN8wqXMu0Wu+Sh9F5nvqQGE8flctdXWUpZPkc5kS8xDi3jVLuihK6lvbNo9Mk\n",
       "KQWtySIsBlEOveZ5zdfMl4CV+55BcwlqxlhkeUMsO0nkpCX0GeNYGUdMfykD36zblIPavZrE841L\n",
       "FRehdynadpUXLUuNxlCVJFo4ubQ7GJLQO+FexH0zk2m4Fi2U7VUv3NSmtov2ZtUBqGWoeYl3F9G7\n",
       "jq9i0cUi+mPWjomq6Hcs5XMJavsnyvbostGWttH19jjO/sh6eaLrh4yOK5UvsMVHoWC/wOZFSVWc\n",
       "pkm6RzaEE4lExV9MjVRxvTZZMbH3d+i/aheq2B9UTmT/BP2vWu0/wPgJiQC5CXpIO1gAAAAASUVO\n",
       "RK5CYII=\n",
       "\" style=\"display:inline;vertical-align:middle;\" /></a></span></td></tr>\n",
       "<tr><td>&nbsp;</td><td colspan=4 style-\"text-align:left\"><a class=\"ProveItLink\" href=\"../../../../logic/set_theory/containment/_proofs_/relaxSubset.ipynb\">proveit.logic.set_theory.containment.relaxSubset</a></td></tr><tr><td>2</td><td>theorem</td><td></td><td><span style=\"font-size:20px;\"> <a class=\"ProveItLink\" href=\"../../../sets/real/_proofs_/natsPosInReals.ipynb\" style=\"text-decoration: none\">&#x22A2;&nbsp;</a><a class=\"ProveItLink\" href=\"../../../sets/real/__pv_it/a4336478336c60be48c1b2c91bf57d300828b20b0/expr.ipynb\"><img src=\"data:image/png;base64,iVBORw0KGgoAAAANSUhEUgAAAEcAAAAUBAMAAAAthD11AAAAMFBMVEX////c3Nx2dna6uroQEBCI\n",
       "iIhUVFTMzMyYmJiqqqoiIiJmZmZEREQyMjLu7u4AAADjlg78AAAAAXRSTlMAQObYZgAAAPpJREFU\n",
       "KM9jYIADTgYiAM+gUfT2z9kHDLt+TcCmqPfP+bu+ASDWCfYDDAwfGHLvXrl7NwBN1QExhpq5AkBG\n",
       "VkEoA4MDdusOSDPwPASawZB8j60ATVHsqlWrFkMVMRWAFKWX8d1DVVQVh2QSVBFnQA2KIsaFyNax\n",
       "ga1LZ9jMEQBSxAaVYTNAVmTVKwBWxPYg3QE5UJAcLrJq7QQGsCK+hLfIisqQfWfN8wCiiKGIHaci\n",
       "bvMEqCKOCQeQFHGhhNO9CKgiBkVkRdwTkBWVAUORgeEwSPwCkiK+xciKmCYcZGCw/QI0he8CSpxv\n",
       "R0TwcYY79ydgTRlmt6DRAgUAEC9Q/bK2b3wAAAAASUVORK5CYII=\n",
       "\" style=\"display:inline;vertical-align:middle;\" /></a></span></td></tr>\n",
       "<tr><td>&nbsp;</td><td colspan=4 style-\"text-align:left\"><a class=\"ProveItLink\" href=\"../../../sets/real/_proofs_/natsPosInReals.ipynb\">proveit.number.sets.real.natsPosInReals</a></td></tr></table>"
      ],
      "text/plain": [
       "<proveit._core_.proof._ShowProof at 0x7f94ea993d30>"
      ]
     },
     "execution_count": 1,
     "metadata": {},
     "output_type": "execute_result"
    }
   ],
   "source": [
    "import proveit\n",
    "%show_proof"
   ]
  },
  {
   "cell_type": "code",
   "execution_count": null,
   "metadata": {},
   "outputs": [],
   "source": []
  }
 ],
 "metadata": {
  "kernelspec": {
   "display_name": "Python 3",
   "language": "python",
   "name": "python3"
  }
 },
 "nbformat": 4,
 "nbformat_minor": 0
}
