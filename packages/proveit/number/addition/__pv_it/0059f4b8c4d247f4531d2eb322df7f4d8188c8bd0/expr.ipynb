{
 "cells": [
  {
   "cell_type": "markdown",
   "metadata": {},
   "source": [
    "Expression of type <a class=\"ProveItLink\" href=\"../../../../../../doc/html/api/proveit.ExprTuple.html\">ExprTuple</a>\n",
    "=======================\n",
    "# from context <a class=\"ProveItLink\" href=\"../../_context_.ipynb\">proveit.number.addition</a>"
   ]
  },
  {
   "cell_type": "code",
   "execution_count": 1,
   "metadata": {},
   "outputs": [],
   "source": [
    "# import Expression classes needed to build the expression\n",
    "from proveit import ExprTuple\n",
    "from proveit.number import Add, one, three, zero"
   ]
  },
  {
   "cell_type": "code",
   "execution_count": 2,
   "metadata": {},
   "outputs": [
    {
     "data": {
      "text/html": [
       "<strong id=\"expr\">expr:</strong> <a class=\"ProveItLink\" href=\"expr.ipynb\"><img src=\"data:image/png;base64,iVBORw0KGgoAAAANSUhEUgAAAGEAAAAVBAMAAACkm51HAAAAMFBMVEX////c3NwiIiJERESqqqqY\n",
       "mJh2dnZmZmYQEBDu7u4yMjJUVFTMzMyIiIi6uroAAAAs73DqAAAAAXRSTlMAQObYZgAAAXFJREFU\n",
       "OMuVk79Lw0AUx7/a9MdpErs5KJjBwUknB6fmHyh2cpSCoFOxi1aKg4OziTo04GAWkaZL9wp2cnHp\n",
       "4qb4YxQELVqwUPUuyYU0JtAc5N733r0PvLx7D4i/5E6M4HW23dIvoQduag/7XK64VtzcUJFuU1UH\n",
       "SC5ILOKk7ajTb9c1DXkAmIDUAWldc+LYMZICybTVWYsT2yq6wBqQYcGPnMg7ZrwJ+cOFObFqEwbw\n",
       "ihBiqgzxM0DAziqhYjeMmCtCHPwjJppAqoyLKKIXJG4adBNMHI1MQKKx8gF+Rs8Kmg7x3U9ULWvB\n",
       "shrun38FiFkgV2DEIcKrKwSqS351RtCslsMI+oIpBTonCBN9YCmLpImtMALzMNqky4lzhYo7yD27\n",
       "ui/0UNEuC8NErXQFomWB9F5/BwbLUKhUVfomT8hk/R2YH5oD7+rZ89EuSRb9QW/+Q9JTBU+VnG6P\n",
       "WCEEYR09E0l4wyl5rkmW6Ficqb0H/gDGcnG44u+txwAAAABJRU5ErkJggg==\n",
       "\" style=\"display:inline;vertical-align:middle;\" /></a><br>"
      ],
      "text/plain": [
       "expr: (1 + 0 , 1 , 3)"
      ]
     },
     "execution_count": 2,
     "metadata": {},
     "output_type": "execute_result"
    }
   ],
   "source": [
    "# build up the expression from sub-expressions\n",
    "expr = ExprTuple(Add(one, zero), one, three)"
   ]
  },
  {
   "cell_type": "code",
   "execution_count": 3,
   "metadata": {},
   "outputs": [
    {
     "name": "stdout",
     "output_type": "stream",
     "text": [
      "Passed sanity check: built 'expr' is the same as the stored Expression.\n"
     ]
    }
   ],
   "source": [
    "# check that the built expression is the same as the stored expression\n",
    "%check_expr"
   ]
  },
  {
   "cell_type": "code",
   "execution_count": 4,
   "metadata": {},
   "outputs": [
    {
     "data": {
      "text/html": [
       "<table><tr><th>&nbsp;</th><th>core type</th><th>sub-expressions</th><th>expression</th></tr>\n",
       "<tr><td>0</td><td>ExprTuple</td><td>1, 5, 2</td><td><a class=\"ProveItLink\" href=\"expr.ipynb\"><img src=\"data:image/png;base64,iVBORw0KGgoAAAANSUhEUgAAAGEAAAAVBAMAAACkm51HAAAAMFBMVEX////c3NwiIiJERESqqqqY\n",
       "mJh2dnZmZmYQEBDu7u4yMjJUVFTMzMyIiIi6uroAAAAs73DqAAAAAXRSTlMAQObYZgAAAXFJREFU\n",
       "OMuVk79Lw0AUx7/a9MdpErs5KJjBwUknB6fmHyh2cpSCoFOxi1aKg4OziTo04GAWkaZL9wp2cnHp\n",
       "4qb4YxQELVqwUPUuyYU0JtAc5N733r0PvLx7D4i/5E6M4HW23dIvoQduag/7XK64VtzcUJFuU1UH\n",
       "SC5ILOKk7ajTb9c1DXkAmIDUAWldc+LYMZICybTVWYsT2yq6wBqQYcGPnMg7ZrwJ+cOFObFqEwbw\n",
       "ihBiqgzxM0DAziqhYjeMmCtCHPwjJppAqoyLKKIXJG4adBNMHI1MQKKx8gF+Rs8Kmg7x3U9ULWvB\n",
       "shrun38FiFkgV2DEIcKrKwSqS351RtCslsMI+oIpBTonCBN9YCmLpImtMALzMNqky4lzhYo7yD27\n",
       "ui/0UNEuC8NErXQFomWB9F5/BwbLUKhUVfomT8hk/R2YH5oD7+rZ89EuSRb9QW/+Q9JTBU+VnG6P\n",
       "WCEEYR09E0l4wyl5rkmW6Ficqb0H/gDGcnG44u+txwAAAABJRU5ErkJggg==\n",
       "\" style=\"display:inline;vertical-align:middle;\" /></a></td></tr>\n",
       "<tr><td>1</td><td>Operation</td><td>operator:&nbsp;3<br>operands:&nbsp;4<br></td><td><a class=\"ProveItLink\" href=\"../f03fb019aa9c765a2589a4cf1993dde735141e480/expr.ipynb\"><img src=\"data:image/png;base64,iVBORw0KGgoAAAANSUhEUgAAACwAAAAQBAMAAACfEoDkAAAAMFBMVEX///92dnbMzMy6uroiIiKq\n",
       "qqrc3NyYmJgyMjIQEBBmZmaIiIhUVFTu7u5EREQAAADaqMZ6AAAAAXRSTlMAQObYZgAAAH1JREFU\n",
       "GNNjYGB4y4AKbu1eBCTv/UUTdma4osBw5wxMmDcBTHE7MHA3ACmYMOsGMMVygIH5G6Yw/wIGpq+Y\n",
       "wvkCDEy/sQt/JEkYbghXR0fLjI6OAxArv2N1ICsWBwK9w+iAKczgynBTgYFr5Y/lqMK3pA8hBxFM\n",
       "GA0wIwkDAHOKM2gkwxPnAAAAAElFTkSuQmCC\n",
       "\" style=\"display:inline;vertical-align:middle;\" /></a></td></tr>\n",
       "<tr><td>2</td><td>Literal</td><td></td><td><a class=\"ProveItLink\" href=\"../../../numeral/__pv_it/9176d93c83afa2c995b614976e3cb49207102fa70/expr.ipynb\"><img src=\"data:image/png;base64,iVBORw0KGgoAAAANSUhEUgAAAAoAAAAOBAMAAADkjZCYAAAAMFBMVEX///+YmJju7u4QEBBUVFQy\n",
       "MjIiIiKIiIi6urpmZmbc3NyqqqpERER2dnbMzMwAAAB0GlNiAAAAAXRSTlMAQObYZgAAAE1JREFU\n",
       "CNdjYHh79zQDA9cEhv4CBt7fDPwJDNxgEgiAIkAQAsR8Vx1ATIbiBhDJ/ImB6wEDz0cG/U8gkj+A\n",
       "ge0XA7sAQ/8FBoadM6MZAEflFACalZ/OAAAAAElFTkSuQmCC\n",
       "\" style=\"display:inline;vertical-align:middle;\" /></a></td></tr>\n",
       "<tr><td>3</td><td>Literal</td><td></td><td><a class=\"ProveItLink\" href=\"../3e6688136fa3c7aefbebe51301b7c3ebf0b69c440/expr.ipynb\"><img src=\"data:image/png;base64,iVBORw0KGgoAAAANSUhEUgAAAA4AAAAOBAMAAADtZjDiAAAAJFBMVEX///+6urpUVFQQEBAiIiIy\n",
       "MjJmZmaIiIiqqqrc3Nzu7u4AAACgHpL+AAAAAXRSTlMAQObYZgAAAB5JREFUCNdjYGBgWMkAAe2k\n",
       "0Kmhoc6hoUGk6BMHYgAHOwjcado9fwAAAABJRU5ErkJggg==\n",
       "\" style=\"display:inline;vertical-align:middle;\" /></a></td></tr>\n",
       "<tr><td>4</td><td>ExprTuple</td><td>5, 6</td><td><a class=\"ProveItLink\" href=\"../c36f3d09113341b3142bc662288ad6b85b3a940a0/expr.ipynb\"><img src=\"data:image/png;base64,iVBORw0KGgoAAAANSUhEUgAAACkAAAAVBAMAAAAp9toTAAAAMFBMVEX////c3NwiIiJERESqqqqY\n",
       "mJh2dnZmZmYQEBDu7u4yMjJUVFTMzMyIiIi6uroAAAAs73DqAAAAAXRSTlMAQObYZgAAAORJREFU\n",
       "GNNjYMAO+C6gCcSBiNNAzDwBIsBZe/0AA/sBIGslkGMPFWV6wKnDwLCAgYH3AgPn7v1Q0UsMDLcY\n",
       "GMIYGDhAAvehotoMDO8FGGYwMLxiQBL9zsBw3oGB2YGhDEmU8RtQ9AIDWwHDUnTRBAaWBQx9mKJ8\n",
       "DQz/ME3g+YAiCrYtACTawoDqMn8BkAmmMNEJEF8kMTCwLmBIh4pyfgL52IGzhwHkskdATnn/8gDO\n",
       "fgFggJTdBgYN1wMGDgFYiMIYIB+zJkDZrPAAzoWEJKooJzAkGaShHHiUcIOMYkSPoTsMDAA7aUeC\n",
       "nMq5UgAAAABJRU5ErkJggg==\n",
       "\" style=\"display:inline;vertical-align:middle;\" /></a></td></tr>\n",
       "<tr><td>5</td><td>Literal</td><td></td><td><a class=\"ProveItLink\" href=\"../../../numeral/__pv_it/9be8badea4c35b9724062cecc501d17a3158d1d20/expr.ipynb\"><img src=\"data:image/png;base64,iVBORw0KGgoAAAANSUhEUgAAAAgAAAAPBAMAAAArJJMAAAAAHlBMVEX///+YmJgyMjIQEBBmZmaI\n",
       "iIhUVFTu7u5EREQAAAAw+MI4AAAAAXRSTlMAQObYZgAAACFJREFUCNdjYGBoZ2BgqJjOwFCWBiQY\n",
       "WEklWJwnOTKAAACjEQo8HvEr3AAAAABJRU5ErkJggg==\n",
       "\" style=\"display:inline;vertical-align:middle;\" /></a></td></tr>\n",
       "<tr><td>6</td><td>Literal</td><td></td><td><a class=\"ProveItLink\" href=\"../../../numeral/__pv_it/ec23fc7a1b4222a5f4948b495002b97d6fa18c3c0/expr.ipynb\"><img src=\"data:image/png;base64,iVBORw0KGgoAAAANSUhEUgAAAAoAAAAOBAMAAADkjZCYAAAALVBMVEX///8QEBCYmJh2dnaqqqrc\n",
       "3NxUVFQyMjK6uroiIiLMzMyIiIhmZmbu7u4AAAAZjyHdAAAAAXRSTlMAQObYZgAAAEpJREFUCNdj\n",
       "YLiz+xQDA8MMhpsLGLgnMHAXMHAmMHA8ZeA7wMD1hCHOgIHrNZh8jES+Bss+AqlkeQrSxTyBgWEK\n",
       "w8UFDAx3rLMYAMCjFldHSx/9AAAAAElFTkSuQmCC\n",
       "\" style=\"display:inline;vertical-align:middle;\" /></a></td></tr>\n",
       "</table>\n"
      ],
      "text/plain": [
       "0. (1 + 0 , 1 , 3)\n",
       "   core type: ExprTuple\n",
       "   sub-expressions: 1, 5, 2\n",
       "1. 1 + 0\n",
       "   core type: Operation\n",
       "   operator: 3\n",
       "   operands: 4\n",
       "2. 3\n",
       "   core type: Literal\n",
       "   sub-expressions: \n",
       "3. +\n",
       "   core type: Literal\n",
       "   sub-expressions: \n",
       "4. (1 , 0)\n",
       "   core type: ExprTuple\n",
       "   sub-expressions: 5, 6\n",
       "5. 1\n",
       "   core type: Literal\n",
       "   sub-expressions: \n",
       "6. 0\n",
       "   core type: Literal\n",
       "   sub-expressions: "
      ]
     },
     "execution_count": 4,
     "metadata": {},
     "output_type": "execute_result"
    }
   ],
   "source": [
    "# display the expression information\n",
    "expr.exprInfo()"
   ]
  },
  {
   "cell_type": "code",
   "execution_count": null,
   "metadata": {},
   "outputs": [],
   "source": []
  }
 ],
 "metadata": {
  "kernelspec": {
   "display_name": "Python 3",
   "language": "python",
   "name": "python3"
  }
 },
 "nbformat": 4,
 "nbformat_minor": 0
}
