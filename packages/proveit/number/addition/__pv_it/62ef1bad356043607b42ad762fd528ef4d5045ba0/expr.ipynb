{
 "cells": [
  {
   "cell_type": "markdown",
   "metadata": {},
   "source": [
    "Expression of type <a class=\"ProveItLink\" href=\"../../../../../../doc/html/api/proveit.ExprTuple.html\">ExprTuple</a>\n",
    "=======================\n",
    "# from context <a class=\"ProveItLink\" href=\"../../_context_.ipynb\">proveit.number.addition</a>"
   ]
  },
  {
   "cell_type": "code",
   "execution_count": 1,
   "metadata": {},
   "outputs": [],
   "source": [
    "# import Expression classes needed to build the expression\n",
    "from proveit import ExprTuple\n",
    "from proveit.number import Add, one, three, two"
   ]
  },
  {
   "cell_type": "code",
   "execution_count": 2,
   "metadata": {},
   "outputs": [
    {
     "data": {
      "text/html": [
       "<strong id=\"expr\">expr:</strong> <a class=\"ProveItLink\" href=\"expr.ipynb\"><img src=\"data:image/png;base64,iVBORw0KGgoAAAANSUhEUgAAAREAAAAVBAMAAACTXMcfAAAAMFBMVEX////c3NwiIiJERESqqqqY\n",
       "mJh2dnZmZmYQEBDu7u4yMjJUVFTMzMyIiIi6uroAAAAs73DqAAAAAXRSTlMAQObYZgAAAqxJREFU\n",
       "SMfNlj9oE1Ecx3+XP73c5e5yujhUwUnc0kEHF5utUzAujhIQUhDEoGgkiwoO1qE5cSk4GKwivQ5m\n",
       "lQ7tVAcHswiCSg9HQVpLLaRgzl/uckne736vDcTBB8lLvvf9/d7n3u/evQfw/zSrPXmOn7ILV8dM\n",
       "EPg+4CfpkCsn6heJslk5R8MHUUYLvy6Qq0pt2QN1g6hG5VqB5sHIwLcCoM0SEqUFW2KAUoVtMnnD\n",
       "KB1/POuQ/NNg7gE06S2C9YdIQST6zDZoa+tRzqdhl3UgsSMoU3uQOy0oI1HfAJ6vRSSaHfbvAPIA\n",
       "V4h6swC7ohJGoi/TS7cV5SyGXWYBsl1BSQ1JitHNDKIW8GNGJKn+1D12YN2DJaJeGpBEShiJvh/A\n",
       "kOgdULtk3EF1YiRWkyN568B9D5IFMu6gOiIJ+u5yJNgSHaqsgoRELXMk2PIOTFWpqrc4EvS9lpB8\n",
       "LIuKcb0lI9FLPImxj/+aRN1cBY4EfYsSkuWY8tmTkGQ8nkSfwVo8oKq5yJGgr8uTqDMxkkxHQpKT\n",
       "kNzuzctOrGYNhyFB3whJ3XXPum44e19AVJQNSP4mHoZEdd2XT1w3KKTZikhG1JMAsyXi65M8Yuck\n",
       "VYVjgvKiE5Kw1SmwczIHik2ro/lOQMJV5zxL8h7gsqDkmpD4xZD0ApPsE2tUIW1DmjyxB7iibIYE\n",
       "ffMciXKmMi++x8wSbJfjJNpuuAIZkuOVyi2IreJPYO1LVvF37GqNNyVhlITv++SNOld7ReatF6U1\n",
       "8AYttKr3Du6II+R9HzF1T1RTtTp514WR6MvYo7tRMbZfH6FYvfCHo0pK2CiXWJX1pcuHHzSOUNIA\n",
       "w22OOe/ckJ6C4r6Vic5I6ehUwDetOV6awDc9EUm7f5yRtKw9XprAp/yD0+Mp2YWvYyZA31/mXwqz\n",
       "Tlei+QAAAABJRU5ErkJggg==\n",
       "\" style=\"display:inline;vertical-align:middle;\" /></a><br>"
      ],
      "text/plain": [
       "expr: (1 + 2 + 3 + 1 , (1 + 2) + 3 + 1)"
      ]
     },
     "execution_count": 2,
     "metadata": {},
     "output_type": "execute_result"
    }
   ],
   "source": [
    "# build up the expression from sub-expressions\n",
    "expr = ExprTuple(Add(one, two, three, one), Add(Add(one, two), three, one))"
   ]
  },
  {
   "cell_type": "code",
   "execution_count": 3,
   "metadata": {},
   "outputs": [
    {
     "name": "stdout",
     "output_type": "stream",
     "text": [
      "Passed sanity check: built 'expr' is the same as the stored Expression.\n"
     ]
    }
   ],
   "source": [
    "# check that the built expression is the same as the stored expression\n",
    "%check_expr"
   ]
  },
  {
   "cell_type": "code",
   "execution_count": 4,
   "metadata": {},
   "outputs": [
    {
     "data": {
      "text/html": [
       "<table><tr><th>&nbsp;</th><th>core type</th><th>sub-expressions</th><th>expression</th></tr>\n",
       "<tr><td>0</td><td>ExprTuple</td><td>1, 2</td><td><a class=\"ProveItLink\" href=\"expr.ipynb\"><img src=\"data:image/png;base64,iVBORw0KGgoAAAANSUhEUgAAAREAAAAVBAMAAACTXMcfAAAAMFBMVEX////c3NwiIiJERESqqqqY\n",
       "mJh2dnZmZmYQEBDu7u4yMjJUVFTMzMyIiIi6uroAAAAs73DqAAAAAXRSTlMAQObYZgAAAqxJREFU\n",
       "SMfNlj9oE1Ecx3+XP73c5e5yujhUwUnc0kEHF5utUzAujhIQUhDEoGgkiwoO1qE5cSk4GKwivQ5m\n",
       "lQ7tVAcHswiCSg9HQVpLLaRgzl/uckne736vDcTBB8lLvvf9/d7n3u/evQfw/zSrPXmOn7ILV8dM\n",
       "EPg+4CfpkCsn6heJslk5R8MHUUYLvy6Qq0pt2QN1g6hG5VqB5sHIwLcCoM0SEqUFW2KAUoVtMnnD\n",
       "KB1/POuQ/NNg7gE06S2C9YdIQST6zDZoa+tRzqdhl3UgsSMoU3uQOy0oI1HfAJ6vRSSaHfbvAPIA\n",
       "V4h6swC7ohJGoi/TS7cV5SyGXWYBsl1BSQ1JitHNDKIW8GNGJKn+1D12YN2DJaJeGpBEShiJvh/A\n",
       "kOgdULtk3EF1YiRWkyN568B9D5IFMu6gOiIJ+u5yJNgSHaqsgoRELXMk2PIOTFWpqrc4EvS9lpB8\n",
       "LIuKcb0lI9FLPImxj/+aRN1cBY4EfYsSkuWY8tmTkGQ8nkSfwVo8oKq5yJGgr8uTqDMxkkxHQpKT\n",
       "kNzuzctOrGYNhyFB3whJ3XXPum44e19AVJQNSP4mHoZEdd2XT1w3KKTZikhG1JMAsyXi65M8Yuck\n",
       "VYVjgvKiE5Kw1SmwczIHik2ro/lOQMJV5zxL8h7gsqDkmpD4xZD0ApPsE2tUIW1DmjyxB7iibIYE\n",
       "ffMciXKmMi++x8wSbJfjJNpuuAIZkuOVyi2IreJPYO1LVvF37GqNNyVhlITv++SNOld7ReatF6U1\n",
       "8AYttKr3Du6II+R9HzF1T1RTtTp514WR6MvYo7tRMbZfH6FYvfCHo0pK2CiXWJX1pcuHHzSOUNIA\n",
       "w22OOe/ckJ6C4r6Vic5I6ehUwDetOV6awDc9EUm7f5yRtKw9XprAp/yD0+Mp2YWvYyZA31/mXwqz\n",
       "Tlei+QAAAABJRU5ErkJggg==\n",
       "\" style=\"display:inline;vertical-align:middle;\" /></a></td></tr>\n",
       "<tr><td>1</td><td>Operation</td><td>operator:&nbsp;7<br>operands:&nbsp;3<br></td><td><a class=\"ProveItLink\" href=\"../0d8c22bd9a6186cc03f8946f1a2b6e722ff15d980/expr.ipynb\"><img src=\"data:image/png;base64,iVBORw0KGgoAAAANSUhEUgAAAHMAAAAQBAMAAADXDV0hAAAAMFBMVEX///92dnbMzMy6uroiIiKq\n",
       "qqrc3NyYmJgyMjIQEBBmZmaIiIhUVFTu7u5EREQAAADaqMZ6AAAAAXRSTlMAQObYZgAAAQhJREFU\n",
       "KM9jYGB4y4AK2Fb1GaCKKAo+RVPDwHcBSNz7iyaaw8D9FdWsBQz2G1DV8L4Har1zBqaVNwFCn2Vg\n",
       "8EcRYfzKwO8AEbkGlThzHmQrN0wrK9TkmRcYzhsgi7AitEbDrN2PVWv/BYb1KFqBAOZgAlqBwP8C\n",
       "mkgPA5FamT6iijBJHCBWK8cDdJGdBkRqXYchwvkXt1aujo6WGR0dYIdxH0AVYVNg4PsOFFnR0eHZ\n",
       "0dGDz9YoBrYEZJH7fyFaCTuYaQEDO4pW/gYGlm9EaU0RFFyCIsJdwGAvgEUr18ofy1G1+v///wVV\n",
       "JGpVK1rkrJrfVYCUpFk3oGcPTJFoBqyAeQNhEWskNgDB1nAlS+D6+QAAAABJRU5ErkJggg==\n",
       "\" style=\"display:inline;vertical-align:middle;\" /></a></td></tr>\n",
       "<tr><td>2</td><td>Operation</td><td>operator:&nbsp;7<br>operands:&nbsp;4<br></td><td><a class=\"ProveItLink\" href=\"../37280389925177a29fd388ad6b247070f24535020/expr.ipynb\"><img src=\"data:image/png;base64,iVBORw0KGgoAAAANSUhEUgAAAIIAAAAVBAMAAAB4Tis1AAAAMFBMVEX////c3NwiIiJERESqqqqY\n",
       "mJh2dnZmZmYQEBDu7u4yMjJUVFTMzMyIiIi6uroAAAAs73DqAAAAAXRSTlMAQObYZgAAAX9JREFU\n",
       "OMtjYKAc8F3AIcH6gEgTTgMx8wQ0QfEqOwaGGjRBnrRkB3TdlkC8koGB0x7NBMYNDPcdGLjQjWXg\n",
       "+4smNPknAwPvBQbO3fthJkyEUNwTGJg+MLAmoIrmOzB8grA4BSD07N1AEzhAmu/DTPCFUBydDNz/\n",
       "GDgbUEX94SawwMKOF2jCKwYsJnD9ZGD/x8BggirKAPcFigll2EwAAiagXDq6KNcGLCYsxWHCeWAg\n",
       "eKGJHlvNgMWEPhwmLAbiF+iivH1YTPiH3QR2A5A7MMztn4DXhKpVqzRWrYK49DYDzASEqAwDg30A\n",
       "0PBVqxZ1rVq1AWZCC1Y3sBQwCKL7gvP/BLAJ6G4wxWrCcQaGQAaGKFTRXwwM+gKYJqRjM4FRLS1d\n",
       "ASM2rzLwfcMSko+AdHn/8gAUtUz///8HmrAO1QSW8ioHVBPYK36VMnAIIOcUX2QOeqpGABbkEgGe\n",
       "fcDgLTKH7QI2UcwyZSXOkmMWkSWMNE6ZjUSawIirlOM9QJR+AHoefw1GOIb1AAAAAElFTkSuQmCC\n",
       "\" style=\"display:inline;vertical-align:middle;\" /></a></td></tr>\n",
       "<tr><td>3</td><td>ExprTuple</td><td>9, 10, 6, 9</td><td><a class=\"ProveItLink\" href=\"../0a3582afc22049f27c7d5cd6dbf4696e6621121f0/expr.ipynb\"><img src=\"data:image/png;base64,iVBORw0KGgoAAAANSUhEUgAAAFEAAAAVBAMAAADMaB9/AAAAMFBMVEX////c3NwiIiJERESqqqqY\n",
       "mJh2dnZmZmYQEBDu7u4yMjJUVFTMzMyIiIi6uroAAAAs73DqAAAAAXRSTlMAQObYZgAAAWRJREFU\n",
       "KM+N061Pw0AYBvBnX3S3rk1REyCmsGAQGNb/gGKQhIRkU4QZGJlCYDBrE8wSBEsIIQQzPzEUCAQz\n",
       "KEgGSNRAkGzJVu7a6/VaBL2kfZ9efk3b965A8qEPEqBtdnqkR8bhM6Xmuh+K1V0zYGuAckfrDUAq\n",
       "XKa6GPqgBH3K4dmYnjqANgDp9blUHaRHXto38e3PnfeY3ALyDA25zJ9CnXlpQ0hoTLaBT0iyMIYy\n",
       "C750KsuMiUNZ0pEe81DoynKujquYfNrx6/0tZJntoBWTlwK0ZKkfYxaVyoq4x3YkWRzF5Quvi0DF\n",
       "isqTiMzWMc8qcZ2opE9fDaSHH4BNL02AZYOEMtdBjUvCGp1aqtbKXnqG/oOLstylD1oa9rVFbIM2\n",
       "03XdspeyjaaJ9hf7xqPJAe3uG/JGsCYG/qR30Qi6mjneaeTEbJgskfb8Xfe/JHTXYYFfhFtfJE1M\n",
       "qeyFUkn+jlfgFxSLaVyxKrEHAAAAAElFTkSuQmCC\n",
       "\" style=\"display:inline;vertical-align:middle;\" /></a></td></tr>\n",
       "<tr><td>4</td><td>ExprTuple</td><td>5, 6, 9</td><td><a class=\"ProveItLink\" href=\"../6d3e8f5a7eccc8ca13e3c829d16ce8ea110d67a30/expr.ipynb\"><img src=\"data:image/png;base64,iVBORw0KGgoAAAANSUhEUgAAAGEAAAAVBAMAAACkm51HAAAAMFBMVEX////c3NwiIiJERESqqqqY\n",
       "mJh2dnZmZmYQEBDu7u4yMjJUVFTMzMyIiIi6uroAAAAs73DqAAAAAXRSTlMAQObYZgAAAXpJREFU\n",
       "OMtjYCAd8F0gQXEciDgNxMwT0GTEq+wgDJ60ZAeYoCUDA/sBIL2SgYHTHk0H4waG+xCF4gx8f6GC\n",
       "k38CiQUMDLwXGDh374fpmAihuCcwMH0As/IdGD5BxGbvBukIY2DgACm+D9PhC6E4Ohm4/4FZ/nAd\n",
       "DLwgHTMYGF4xYNHB9ZOB/R8sZP4i62B2YCjDpgMImH5CGVwbkHWwFTAsxaHjfAKEPraaAVkHywKG\n",
       "Phw6FsMV9iHr4Gtg+IddB7sBXG//BCQdPB+QdVStWqWxahXEFbehymUYGOwDUHW0YLWDpYBBEERz\n",
       "/p+AqgPoKlOsOo4zMAQygAR/MTDoC3AidLAuYEjHpoNRLS1dgRMUdVcZ+L4xzFdADt1HQKq8f3kA\n",
       "ig6m////K3D2CwCdV17lwDDjIygsKn6VAmPnAQOHAHIS9EXJB3Cph3AxYCphTUBW9BaZwwpnBcBZ\n",
       "uZDUjgNg0cEJTO0M0jh1wDMnL1yIG+RQRlJy7R0GBgBxoG7zKsD6EwAAAABJRU5ErkJggg==\n",
       "\" style=\"display:inline;vertical-align:middle;\" /></a></td></tr>\n",
       "<tr><td>5</td><td>Operation</td><td>operator:&nbsp;7<br>operands:&nbsp;8<br></td><td><a class=\"ProveItLink\" href=\"../ad2bc678c5d08c4efa59158842cce49a130372c40/expr.ipynb\"><img src=\"data:image/png;base64,iVBORw0KGgoAAAANSUhEUgAAACwAAAAQBAMAAACfEoDkAAAAMFBMVEX///92dnbMzMy6uroiIiKq\n",
       "qqrc3NyYmJgyMjIQEBBmZmaIiIhUVFTu7u5EREQAAADaqMZ6AAAAAXRSTlMAQObYZgAAAIlJREFU\n",
       "GNNjYGB4y4AKslY8BpL3/qKKsh1g2B/AcOcMTJg3AUzxXGBg+cDAwA0TZt0ApjjnMvB8xhTm+MvA\n",
       "hUUYCFj+YhXWF8Aq3MeATZjrAVyYq6OjZUZHxwEQew8DNtWsCxjSsAhrMTCUYQqzOQpKOTBwrfyx\n",
       "HEWY5f///w5IYYRwIApgRhIGADJwMVDOY1gjAAAAAElFTkSuQmCC\n",
       "\" style=\"display:inline;vertical-align:middle;\" /></a></td></tr>\n",
       "<tr><td>6</td><td>Literal</td><td></td><td><a class=\"ProveItLink\" href=\"../../../numeral/__pv_it/9176d93c83afa2c995b614976e3cb49207102fa70/expr.ipynb\"><img src=\"data:image/png;base64,iVBORw0KGgoAAAANSUhEUgAAAAoAAAAOBAMAAADkjZCYAAAAMFBMVEX///+YmJju7u4QEBBUVFQy\n",
       "MjIiIiKIiIi6urpmZmbc3NyqqqpERER2dnbMzMwAAAB0GlNiAAAAAXRSTlMAQObYZgAAAE1JREFU\n",
       "CNdjYHh79zQDA9cEhv4CBt7fDPwJDNxgEgiAIkAQAsR8Vx1ATIbiBhDJ/ImB6wEDz0cG/U8gkj+A\n",
       "ge0XA7sAQ/8FBoadM6MZAEflFACalZ/OAAAAAElFTkSuQmCC\n",
       "\" style=\"display:inline;vertical-align:middle;\" /></a></td></tr>\n",
       "<tr><td>7</td><td>Literal</td><td></td><td><a class=\"ProveItLink\" href=\"../3e6688136fa3c7aefbebe51301b7c3ebf0b69c440/expr.ipynb\"><img src=\"data:image/png;base64,iVBORw0KGgoAAAANSUhEUgAAAA4AAAAOBAMAAADtZjDiAAAAJFBMVEX///+6urpUVFQQEBAiIiIy\n",
       "MjJmZmaIiIiqqqrc3Nzu7u4AAACgHpL+AAAAAXRSTlMAQObYZgAAAB5JREFUCNdjYGBgWMkAAe2k\n",
       "0Kmhoc6hoUGk6BMHYgAHOwjcado9fwAAAABJRU5ErkJggg==\n",
       "\" style=\"display:inline;vertical-align:middle;\" /></a></td></tr>\n",
       "<tr><td>8</td><td>ExprTuple</td><td>9, 10</td><td><a class=\"ProveItLink\" href=\"../ae02dd48deb37365fce54e88fb6bdda021f4c6730/expr.ipynb\"><img src=\"data:image/png;base64,iVBORw0KGgoAAAANSUhEUgAAACkAAAAVBAMAAAAp9toTAAAAMFBMVEX////c3NwiIiJERESqqqqY\n",
       "mJh2dnZmZmYQEBDu7u4yMjJUVFTMzMyIiIi6uroAAAAs73DqAAAAAXRSTlMAQObYZgAAAOtJREFU\n",
       "GNNjYMAO+C6gCcSBiNNAzDwBIsBYvvgBA/sBIGslAwOnPVRUmoH3CwPDAgYG3gsMnLv3Q0V3MjDo\n",
       "MzCEMTBwgATuQ0U7JjDsf8Awg4HhFQOS6PoJDPUPGJgdGMqQRYFAfwIDWwHDUlRRnm8MDCwLGPpQ\n",
       "RbkMgD5oYPiHKloMUv8BTZR3A0S0BUXUnYFRAGSCKUwUJMFTwMAqwMC6gCEdKsr5CUgLpaUVMYBc\n",
       "9gjIKe9fHsDZLwB07P//QEmuBwwcArAQhTFAPmZNgLJZ4d7LhYQkqijnAnCYQgA8SrhBRjGix9Ad\n",
       "BgYAyE9BDPXceaYAAAAASUVORK5CYII=\n",
       "\" style=\"display:inline;vertical-align:middle;\" /></a></td></tr>\n",
       "<tr><td>9</td><td>Literal</td><td></td><td><a class=\"ProveItLink\" href=\"../../../numeral/__pv_it/9be8badea4c35b9724062cecc501d17a3158d1d20/expr.ipynb\"><img src=\"data:image/png;base64,iVBORw0KGgoAAAANSUhEUgAAAAgAAAAPBAMAAAArJJMAAAAAHlBMVEX///+YmJgyMjIQEBBmZmaI\n",
       "iIhUVFTu7u5EREQAAAAw+MI4AAAAAXRSTlMAQObYZgAAACFJREFUCNdjYGBoZ2BgqJjOwFCWBiQY\n",
       "WEklWJwnOTKAAACjEQo8HvEr3AAAAABJRU5ErkJggg==\n",
       "\" style=\"display:inline;vertical-align:middle;\" /></a></td></tr>\n",
       "<tr><td>10</td><td>Literal</td><td></td><td><a class=\"ProveItLink\" href=\"../../../numeral/__pv_it/77d407a64829263cdc16415becd4c2293f77a4bf0/expr.ipynb\"><img src=\"data:image/png;base64,iVBORw0KGgoAAAANSUhEUgAAAAkAAAAOBAMAAAAPuiubAAAAMFBMVEX///+YmJh2dnbMzMwQEBAi\n",
       "IiLu7u6qqqqIiIhUVFS6urpEREQyMjJmZmbc3NwAAACOMKdoAAAAAXRSTlMAQObYZgAAAFBJREFU\n",
       "CNdj4Lt7egEDw0sGju8MDNMYGOIZGFwSGOYvYDifwHAfKAEUSQASzJ9ATJ4NIPI2iOCYACJrGfge\n",
       "MDBfYGB8wPBUSekqUPH//18ZAIliFhc3zESNAAAAAElFTkSuQmCC\n",
       "\" style=\"display:inline;vertical-align:middle;\" /></a></td></tr>\n",
       "</table>\n"
      ],
      "text/plain": [
       "0. (1 + 2 + 3 + 1 , (1 + 2) + 3 + 1)\n",
       "   core type: ExprTuple\n",
       "   sub-expressions: 1, 2\n",
       "1. 1 + 2 + 3 + 1\n",
       "   core type: Operation\n",
       "   operator: 7\n",
       "   operands: 3\n",
       "2. (1 + 2) + 3 + 1\n",
       "   core type: Operation\n",
       "   operator: 7\n",
       "   operands: 4\n",
       "3. (1 , 2 , 3 , 1)\n",
       "   core type: ExprTuple\n",
       "   sub-expressions: 9, 10, 6, 9\n",
       "4. (1 + 2 , 3 , 1)\n",
       "   core type: ExprTuple\n",
       "   sub-expressions: 5, 6, 9\n",
       "5. 1 + 2\n",
       "   core type: Operation\n",
       "   operator: 7\n",
       "   operands: 8\n",
       "6. 3\n",
       "   core type: Literal\n",
       "   sub-expressions: \n",
       "7. +\n",
       "   core type: Literal\n",
       "   sub-expressions: \n",
       "8. (1 , 2)\n",
       "   core type: ExprTuple\n",
       "   sub-expressions: 9, 10\n",
       "9. 1\n",
       "   core type: Literal\n",
       "   sub-expressions: \n",
       "10. 2\n",
       "    core type: Literal\n",
       "    sub-expressions: "
      ]
     },
     "execution_count": 4,
     "metadata": {},
     "output_type": "execute_result"
    }
   ],
   "source": [
    "# display the expression information\n",
    "expr.exprInfo()"
   ]
  },
  {
   "cell_type": "code",
   "execution_count": null,
   "metadata": {},
   "outputs": [],
   "source": []
  }
 ],
 "metadata": {
  "kernelspec": {
   "display_name": "Python 3",
   "language": "python",
   "name": "python3"
  }
 },
 "nbformat": 4,
 "nbformat_minor": 0
}
