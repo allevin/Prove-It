{
 "cells": [
  {
   "cell_type": "markdown",
   "metadata": {},
   "source": [
    "Expression of type <a class=\"ProveItLink\" href=\"../../../../../../doc/html/api/proveit.number.Add.html\">Add</a>\n",
    "=======================\n",
    "# from context <a class=\"ProveItLink\" href=\"../../_context_.ipynb\">proveit.number.addition</a>"
   ]
  },
  {
   "cell_type": "code",
   "execution_count": 1,
   "metadata": {},
   "outputs": [],
   "source": [
    "# import Expression classes needed to build the expression\n",
    "from proveit import Variable\n",
    "from proveit._common_ import a, b, c\n",
    "from proveit.number import Add, Mult, three, two"
   ]
  },
  {
   "cell_type": "code",
   "execution_count": 2,
   "metadata": {},
   "outputs": [
    {
     "data": {
      "text/html": [
       "<strong id=\"expr\">expr:</strong> <a class=\"ProveItLink\" href=\"../b1b511e638c080858f30c044e89fde8b254841600/expr.ipynb\"><img src=\"data:image/png;base64,iVBORw0KGgoAAAANSUhEUgAAAQoAAAAVBAMAAABMEr0AAAAAMFBMVEX////c3NwiIiJERESqqqqY\n",
       "mJh2dnZmZmYQEBDu7u4yMjJUVFTMzMyIiIi6uroAAAAs73DqAAAAAXRSTlMAQObYZgAAAoBJREFU\n",
       "SMfNlk9oE0EUxr+NSbNpumkE0UMQe/HPRQjYgh78gxdBlMarpz21IAYCQoXoQUUEL2VFKMUeWtQe\n",
       "TEEqCJ7EnPTgwZxaIZYWT6UojZgiC9U42czM7s68tGHx4AeZnXn83sfsvJnZAP+HMjU9lljrBYtM\n",
       "EfoIHCifUYK3Kez92HAPVNBs5h5JEXoBYxGr58LBfgorYbO2OxUyWyApXVYNaQexhrKMNu888rG+\n",
       "JgaHdqXCZk2KImQ6MB8i/SccTd3hncs+FtdmQVEhs4xLUYQ22JK5SCqzwLCSueG1SkUoKmTWN0RR\n",
       "hCa8NubKQG5pPQuMK5kTssxcU8Uv3SjfrP9tvaBTXPvr+5bFW8177SdbLuJdnGWPi0pmGxu4tigt\n",
       "BibxlKaCZrN5bOsUL6edOGyKCk967TMv7rDmUAE32GNdyexgn9cENl3DSDfKNxt18ECneLVgNeJV\n",
       "PvBqmMx7M2/P7B1wvP0+Sman1KYbwLpRAbMy8Eun+FognZcDL7Hudafb0Z9IbQv/cqVyrFJZ4JhR\n",
       "xZ4tHwNNhcyOIrOlU/J4+nv9PvvFS9jLh8ZvxBspfRUZNut2ZsExgKSCZuy6SLrdKsKKX4XDu6y6\n",
       "+ABcEevURHruEnBVyWTY4BxiP4QDm06CpIJmbGuatk7xKy+7CkvMgh0j48jYuLyO5nG+ZOuni42t\n",
       "Ajbl7n8DXCepkNlr3EK3kzpaOImDYvCVne9WqyUTcyvfTrOT8FLJZBgu3HwuPZLFFYekQmYzy+y6\n",
       "UKn4CaZTeLw0VSyIgZml7jL9bs7+O4qQ/NaED7PYvt93wiJS9Jed0JOesKgUoRwVfNUTFpUiZBD/\n",
       "+KxqL1hkStNfmpzcPCZw6bIAAAAASUVORK5CYII=\n",
       "\" style=\"display:inline;vertical-align:middle;\" /></a><br>"
      ],
      "text/plain": [
       "expr: (2 * a) + (3 * c) + (2 * b) + _x_"
      ]
     },
     "execution_count": 2,
     "metadata": {},
     "output_type": "execute_result"
    }
   ],
   "source": [
    "# build up the expression from sub-expressions\n",
    "expr = Add(Mult(two, a), Mult(three, c), Mult(two, b), Variable(\"_x_\", latexFormat = r\"{_{-}x_{-}}\"))"
   ]
  },
  {
   "cell_type": "code",
   "execution_count": 3,
   "metadata": {},
   "outputs": [
    {
     "name": "stdout",
     "output_type": "stream",
     "text": [
      "Passed sanity check: built 'expr' is the same as the stored Expression.\n"
     ]
    }
   ],
   "source": [
    "# check that the built expression is the same as the stored expression\n",
    "%check_expr"
   ]
  },
  {
   "cell_type": "code",
   "execution_count": 4,
   "metadata": {},
   "outputs": [
    {
     "data": {
      "text/html": [
       "<table><tr><th>&nbsp;</th><th>core type</th><th>sub-expressions</th><th>expression</th></tr>\n",
       "<tr><td>0</td><td>Operation</td><td>operator:&nbsp;1<br>operands:&nbsp;2<br></td><td><a class=\"ProveItLink\" href=\"../b1b511e638c080858f30c044e89fde8b254841600/expr.ipynb\"><img src=\"data:image/png;base64,iVBORw0KGgoAAAANSUhEUgAAAQoAAAAVBAMAAABMEr0AAAAAMFBMVEX////c3NwiIiJERESqqqqY\n",
       "mJh2dnZmZmYQEBDu7u4yMjJUVFTMzMyIiIi6uroAAAAs73DqAAAAAXRSTlMAQObYZgAAAoBJREFU\n",
       "SMfNlk9oE0EUxr+NSbNpumkE0UMQe/HPRQjYgh78gxdBlMarpz21IAYCQoXoQUUEL2VFKMUeWtQe\n",
       "TEEqCJ7EnPTgwZxaIZYWT6UojZgiC9U42czM7s68tGHx4AeZnXn83sfsvJnZAP+HMjU9lljrBYtM\n",
       "EfoIHCifUYK3Kez92HAPVNBs5h5JEXoBYxGr58LBfgorYbO2OxUyWyApXVYNaQexhrKMNu888rG+\n",
       "JgaHdqXCZk2KImQ6MB8i/SccTd3hncs+FtdmQVEhs4xLUYQ22JK5SCqzwLCSueG1SkUoKmTWN0RR\n",
       "hCa8NubKQG5pPQuMK5kTssxcU8Uv3SjfrP9tvaBTXPvr+5bFW8177SdbLuJdnGWPi0pmGxu4tigt\n",
       "BibxlKaCZrN5bOsUL6edOGyKCk967TMv7rDmUAE32GNdyexgn9cENl3DSDfKNxt18ECneLVgNeJV\n",
       "PvBqmMx7M2/P7B1wvP0+Sman1KYbwLpRAbMy8Eun+FognZcDL7Hudafb0Z9IbQv/cqVyrFJZ4JhR\n",
       "xZ4tHwNNhcyOIrOlU/J4+nv9PvvFS9jLh8ZvxBspfRUZNut2ZsExgKSCZuy6SLrdKsKKX4XDu6y6\n",
       "+ABcEevURHruEnBVyWTY4BxiP4QDm06CpIJmbGuatk7xKy+7CkvMgh0j48jYuLyO5nG+ZOuni42t\n",
       "Ajbl7n8DXCepkNlr3EK3kzpaOImDYvCVne9WqyUTcyvfTrOT8FLJZBgu3HwuPZLFFYekQmYzy+y6\n",
       "UKn4CaZTeLw0VSyIgZml7jL9bs7+O4qQ/NaED7PYvt93wiJS9Jed0JOesKgUoRwVfNUTFpUiZBD/\n",
       "+KxqL1hkStNfmpzcPCZw6bIAAAAASUVORK5CYII=\n",
       "\" style=\"display:inline;vertical-align:middle;\" /></a></td></tr>\n",
       "<tr><td>1</td><td>Literal</td><td></td><td><a class=\"ProveItLink\" href=\"../3e6688136fa3c7aefbebe51301b7c3ebf0b69c440/expr.ipynb\"><img src=\"data:image/png;base64,iVBORw0KGgoAAAANSUhEUgAAAA4AAAAOBAMAAADtZjDiAAAAJFBMVEX///+6urpUVFQQEBAiIiIy\n",
       "MjJmZmaIiIiqqqrc3Nzu7u4AAACgHpL+AAAAAXRSTlMAQObYZgAAAB5JREFUCNdjYGBgWMkAAe2k\n",
       "0Kmhoc6hoUGk6BMHYgAHOwjcado9fwAAAABJRU5ErkJggg==\n",
       "\" style=\"display:inline;vertical-align:middle;\" /></a></td></tr>\n",
       "<tr><td>2</td><td>ExprTuple</td><td>3, 4, 5, 6</td><td><a class=\"ProveItLink\" href=\"../70bcbf2315a994acb5b6288234caddee10f711310/expr.ipynb\"><img src=\"data:image/png;base64,iVBORw0KGgoAAAANSUhEUgAAALkAAAAVBAMAAADoXVL6AAAAMFBMVEX////c3NwiIiJERESqqqqY\n",
       "mJh2dnZmZmYQEBDu7u4yMjJUVFTMzMyIiIi6uroAAAAs73DqAAAAAXRSTlMAQObYZgAAAjpJREFU\n",
       "OMu1VT1oFEEYfXu/u/dvZWHhVaY9UEvlwMLGkI2FpVx1IcGTqxQiQhQRLIxbhYMUdxgtxCaiIAjB\n",
       "A0GLFNkmJCGaRCuxyal3yMGZc34yO7PZYYnFTTHMvO/Nm9k333wLjLbl3BEJX6fdKnBy9qIu/LF6\n",
       "ToOq5MX7IerJNulewFjGbjkYNerYD36Xn/wy7PAtIOsi7SDSCQYTXeSLAdRP7oapXwNMB+YjpA+C\n",
       "wZhW3UfO9cPUG8APINVH8kAb1zjjIyeKYerRMm6xQUQewli5eU9j60LtsxhKcmpl2/ZdSu3V+F1p\n",
       "bR3P2WCt4mHfC9FDXzMzyx6amcdTMZbkZgkDVX0BV22ZRrEW5tlgiXaWQ7fvIVkS8c09ATdcnBeo\n",
       "JE84eKiqV7CLK/IlzYF5yPWa1MV0BxHPbbMv4PdKHkvyLPBHVXfwWpllOlx9m98xXZYvodnmJrYR\n",
       "7Qn4t1ykkMeQ6/lv8rFf/QE1qI4TAjrtYgIOO12fq7Od/ko3FXIXSX9OGgNYqjPUzU/ApHdRZbyL\n",
       "tSkl30Lkp4DJNnG+qUoewKxwlLfJbAdb3izewhTZ8Ex1ykvclB0bSzBXszb2vex4C9ywfuEI+Q3u\n",
       "gKGHn9WLzhmumpHfSP4Oh8OiTPedDzto0ENfvv1MXmXti2M9KRwhL27YYOils6Q51oXp6rqYkIPu\n",
       "wSxo39lXbbEuHB/llSBe0UZsHRjH8VHSaqwCj0jdIhUYp3SRrJbv/gdK3iV1zBjVn49UvX/At6AC\n",
       "q4z9lQAAAABJRU5ErkJggg==\n",
       "\" style=\"display:inline;vertical-align:middle;\" /></a></td></tr>\n",
       "<tr><td>3</td><td>Operation</td><td>operator:&nbsp;9<br>operands:&nbsp;7<br></td><td><a class=\"ProveItLink\" href=\"../bcb109db2c8fde300a6e6bc5d9744dc20415a7630/expr.ipynb\"><img src=\"data:image/png;base64,iVBORw0KGgoAAAANSUhEUgAAACMAAAAOBAMAAABXxbiCAAAAMFBMVEX///+YmJh2dnbMzMwQEBAi\n",
       "IiLu7u6qqqqIiIhUVFS6urpEREQyMjJmZmbc3NwAAACOMKdoAAAAAXRSTlMAQObYZgAAAJVJREFU\n",
       "GNNj4Lt7egEDKnjJwPEdTWgaA0M8mpBLAsN8NJ3nExjuoxsG1JgAY/HN0PID0cyf4JJLHnB/ANE8\n",
       "G0BkGkjRRwZeMOc2iGD7CiQ4PzCwNgBpjglgIW8gwb+BId8ASNcy8D2AGvW+gaGeIYGB+QIDI0wo\n",
       "v4BhDrsBw1MlpaswC3kE2GOZgI76//8rwlld1l0MADJIJnXb25zTAAAAAElFTkSuQmCC\n",
       "\" style=\"display:inline;vertical-align:middle;\" /></a></td></tr>\n",
       "<tr><td>4</td><td>Operation</td><td>operator:&nbsp;9<br>operands:&nbsp;8<br></td><td><a class=\"ProveItLink\" href=\"../6ea99038828acf4f95344c36471089d895e211420/expr.ipynb\"><img src=\"data:image/png;base64,iVBORw0KGgoAAAANSUhEUgAAACIAAAAOBAMAAAC4B9O8AAAAMFBMVEX///+YmJju7u4QEBBUVFQy\n",
       "MjIiIiKIiIi6urpmZmbc3NyqqqpERER2dnbMzMwAAAB0GlNiAAAAAXRSTlMAQObYZgAAAIZJREFU\n",
       "CNdjYHh79zQDCuCawNBfgCLC+5uBPwFFhBtDBAjQdAFBCIKpe72OgYHvqgNcgM+CIQxEFzcACSYF\n",
       "IKFcwHAQJML8CUjog4z3B7vnAQPPR5D0ASDxBySi/wkiApb9DiL5AxjYfsFMBkoxMrALMPRfgIl4\n",
       "MjDcY2DYOTMabjvn9XIFAJAVHuIpDSmpAAAAAElFTkSuQmCC\n",
       "\" style=\"display:inline;vertical-align:middle;\" /></a></td></tr>\n",
       "<tr><td>5</td><td>Operation</td><td>operator:&nbsp;9<br>operands:&nbsp;10<br></td><td><a class=\"ProveItLink\" href=\"../4fa23b01b5b767887c70271cab015f5b5c98d38c0/expr.ipynb\"><img src=\"data:image/png;base64,iVBORw0KGgoAAAANSUhEUgAAACEAAAAOBAMAAABTMGi/AAAAMFBMVEX///+YmJh2dnbMzMwQEBAi\n",
       "IiLu7u6qqqqIiIhUVFS6urpEREQyMjJmZmbc3NwAAACOMKdoAAAAAXRSTlMAQObYZgAAAKBJREFU\n",
       "CNdj4Lt7egEDFLBNCQCSLxk4vsNEGHgmAIlpDAzxcBH+AiDhksAwH65tfQKQOJ/AcB8uogql4xNg\n",
       "Iic7JoIo5k9wu34z8BuALNgA4qUBMfs3BhYFIH0bLP0VSPAeYOC/wMDAMQEs4g0kWC8wrBdgYKhl\n",
       "4HuAcM79BAbmCwyMcBEDBicGhqdKSldhdnEW8AKNiP///yvc9hkXGRgAQ2knSfB0jgcAAAAASUVO\n",
       "RK5CYII=\n",
       "\" style=\"display:inline;vertical-align:middle;\" /></a></td></tr>\n",
       "<tr><td>6</td><td>Variable</td><td></td><td><a class=\"ProveItLink\" href=\"../../../../logic/__pv_it/5144cf74ae6a683b49b974f1b9302b432abf7e930/expr.ipynb\"><img src=\"data:image/png;base64,iVBORw0KGgoAAAANSUhEUgAAACUAAAAJBAMAAABH3vh9AAAAKlBMVEX////MzMwQEBAiIiKYmJhm\n",
       "ZmZUVFSIiIh2dnbc3Nzu7u5ERESqqqoAAABwkVEpAAAAAXRSTlMAQObYZgAAAEtJREFUCNdjYIAA\n",
       "zvbM4+EMqGAFg7ODMppYA0Mtw0E0sQUM2QyYQB1TiPMiAxeakCf7BYYqVCGeK9wKnAUw3undQLCA\n",
       "a3tXRwmMAwC3+RVNp6j0GAAAAABJRU5ErkJggg==\n",
       "\" style=\"display:inline;vertical-align:middle;\" /></a></td></tr>\n",
       "<tr><td>7</td><td>ExprTuple</td><td>14, 11</td><td><a class=\"ProveItLink\" href=\"../b5379faab47abff4b5f281502db718a96e183d9f0/expr.ipynb\"><img src=\"data:image/png;base64,iVBORw0KGgoAAAANSUhEUgAAACsAAAAVBAMAAAAtAwouAAAAMFBMVEX////c3NwiIiJERESqqqqY\n",
       "mJh2dnZmZmYQEBDu7u4yMjJUVFTMzMyIiIi6uroAAAAs73DqAAAAAXRSTlMAQObYZgAAAQ5JREFU\n",
       "GNNjYMAB+C6gi8SBiNMMDOJVdsjC7AeAxEoGxg0M9x2QxRcwMPBeYOCewMD0AVk4jIGBYwIDRycD\n",
       "9z9k4RkMDK8YGLh+MrCjCDM7MJSBGUw/IQKMe/MaGRjYChiWgrnnEyDCLwSYgbawLGDoA3MXQxV/\n",
       "ZWA3AHqlgQFsKIgNAtwfGJiAvuP5ABG+DbWL34Bh/gGwcAuQx1LAIAgWlr/A4M8wAWSIKZB3nIEh\n",
       "EMhjYJjvwLCL5QAD6wKGdKBFamnpCpyfgMJcASzqbGAHPgI6+v///wqc/QIgZ987fA8o+4CBQwAW\n",
       "wALInmeFeoSBFeH5XHDAogtzAgOWQRrKQUQSN8g4RoxIu8PAAABqUT0EX21vWwAAAABJRU5ErkJg\n",
       "gg==\n",
       "\" style=\"display:inline;vertical-align:middle;\" /></a></td></tr>\n",
       "<tr><td>8</td><td>ExprTuple</td><td>12, 13</td><td><a class=\"ProveItLink\" href=\"../6006dd3ab434da37f2d3692f39e9e2b651e1a4720/expr.ipynb\"><img src=\"data:image/png;base64,iVBORw0KGgoAAAANSUhEUgAAACkAAAAVBAMAAAAp9toTAAAAMFBMVEX////c3NwiIiJERESqqqqY\n",
       "mJh2dnZmZmYQEBDu7u4yMjJUVFTMzMyIiIi6uroAAAAs73DqAAAAAXRSTlMAQObYZgAAAPtJREFU\n",
       "GNNjYMAO+C6gCcSBiNMMDMfSTJBE2Q8AiZUMjAUM75E1LGBg4L3AwPaFgV8BSTSMgYFjAgMLmugM\n",
       "BoZXYAaKCcwODGVgxmqoAGfa3QMMbAUMS4FsnqwNUNETD7gUGFgWMPSBeTceQJT2MjAHMPA1MPwD\n",
       "czl+ginuDyCS5wNIlPEAA/NXsCi/AVS0hYFh/k+YqDzYKUATTIEqFjAwfWSYAFIbwMAQwMC6gCEd\n",
       "6L0AhvcJnJ9A5hYwsIFd9gjIcS9fwsDZLwBkld29ycDA9YCBQwAWogJIPmZNgLJZ4T7OBYckmign\n",
       "MCQZpKEcePhwg4xiRI+hOwwMANqAO5LCdo8qAAAAAElFTkSuQmCC\n",
       "\" style=\"display:inline;vertical-align:middle;\" /></a></td></tr>\n",
       "<tr><td>9</td><td>Literal</td><td></td><td><a class=\"ProveItLink\" href=\"../../../multiplication/__pv_it/21fd2079611555ecce512d99547a00d551e6b86b0/expr.ipynb\"><img src=\"data:image/png;base64,iVBORw0KGgoAAAANSUhEUgAAAAMAAAADBAMAAACkBqiMAAAAElBMVEX///9EREQQEBAiIiLu7u4A\n",
       "AABGBidwAAAAAXRSTlMAQObYZgAAABFJREFUCNdjYHFgcDVgcBIAAASWAQx4jI0xAAAAAElFTkSu\n",
       "QmCC\n",
       "\" style=\"display:inline;vertical-align:middle;\" /></a></td></tr>\n",
       "<tr><td>10</td><td>ExprTuple</td><td>14, 15</td><td><a class=\"ProveItLink\" href=\"../3a7fed3333ef42636d071b31cc212d3a8cbf468e0/expr.ipynb\"><img src=\"data:image/png;base64,iVBORw0KGgoAAAANSUhEUgAAACkAAAAVBAMAAAAp9toTAAAAMFBMVEX////c3NwiIiJERESqqqqY\n",
       "mJh2dnZmZmYQEBDu7u4yMjJUVFTMzMyIiIi6uroAAAAs73DqAAAAAXRSTlMAQObYZgAAARNJREFU\n",
       "GNNtkaFPw0AUxn8tK20prEMhMFVoDJb0TwCDJA2CKZIaEBgQhAQDlcgmBEEwNSQYkjkEgnlGIEjM\n",
       "FqZqKO/u2omGipf3/a737rvv4P+vO2yBXVVeYOV40wD/MQJ3IN0dVsFHbPBCISWHpSFBhj0xNFSr\n",
       "O+BleBcEv4aOMynX8C3bStya7qkyF3OklV0aev/+APMpt1q9JsbDlHBAJ+dSyxvza6fES+ieoge6\n",
       "64a6OWHK4sTQt/padsp4S9EztTFlubF7kqkJGyKeYRvlVI46ByenD9bafj/yf4QGsVtoZ18yraqq\n",
       "yL/qibOnQxXGJ16vSbRp1I2dpO6dWcAHOskW9SVJVmsxe5JAjbLaLzSCP9bMPeBRRV1aAAAAAElF\n",
       "TkSuQmCC\n",
       "\" style=\"display:inline;vertical-align:middle;\" /></a></td></tr>\n",
       "<tr><td>11</td><td>Variable</td><td></td><td><a class=\"ProveItLink\" href=\"../../../../__pv_it/07527342713064c87612d00d8557c53d53d5324a0/expr.ipynb\"><img src=\"data:image/png;base64,iVBORw0KGgoAAAANSUhEUgAAAAsAAAAJBAMAAAAWSsseAAAAMFBMVEX///8yMjKqqqrMzMzu7u4i\n",
       "IiJmZmaYmJhEREQQEBC6urp2dnaIiIhUVFTc3NwAAAD87Fq/AAAAAXRSTlMAQObYZgAAAEhJREFU\n",
       "CNdjYOC7s2seAwPDygccHxgY+L4zsDUwMPB+YGA9wMDA38Dgb8DA8P4Agz6DA4O/AsNFJgMGxgKm\n",
       "MG6gyjunLE4xAAAZTBA5TB6DCwAAAABJRU5ErkJggg==\n",
       "\" style=\"display:inline;vertical-align:middle;\" /></a></td></tr>\n",
       "<tr><td>12</td><td>Literal</td><td></td><td><a class=\"ProveItLink\" href=\"../../../numeral/__pv_it/9176d93c83afa2c995b614976e3cb49207102fa70/expr.ipynb\"><img src=\"data:image/png;base64,iVBORw0KGgoAAAANSUhEUgAAAAoAAAAOBAMAAADkjZCYAAAAMFBMVEX///+YmJju7u4QEBBUVFQy\n",
       "MjIiIiKIiIi6urpmZmbc3NyqqqpERER2dnbMzMwAAAB0GlNiAAAAAXRSTlMAQObYZgAAAE1JREFU\n",
       "CNdjYHh79zQDA9cEhv4CBt7fDPwJDNxgEgiAIkAQAsR8Vx1ATIbiBhDJ/ImB6wEDz0cG/U8gkj+A\n",
       "ge0XA7sAQ/8FBoadM6MZAEflFACalZ/OAAAAAElFTkSuQmCC\n",
       "\" style=\"display:inline;vertical-align:middle;\" /></a></td></tr>\n",
       "<tr><td>13</td><td>Variable</td><td></td><td><a class=\"ProveItLink\" href=\"../../../../__pv_it/cbdfda466482236edba0ce44ac7ef39cda0af7a40/expr.ipynb\"><img src=\"data:image/png;base64,iVBORw0KGgoAAAANSUhEUgAAAAkAAAAJBAMAAAASvxsjAAAALVBMVEX///9mZmbc3NxUVFSYmJhE\n",
       "REQiIiIyMjK6uroQEBDMzMyIiIh2dnbu7u4AAABgFDGoAAAAAXRSTlMAQObYZgAAADZJREFUCNdj\n",
       "YOA9s3sBA8PKBvYEBt7ZDKwODMwPGICALwBE6m0Asx0YGIDiAgw8QJUyu/cyAAAmuwmycZ8WfQAA\n",
       "AABJRU5ErkJggg==\n",
       "\" style=\"display:inline;vertical-align:middle;\" /></a></td></tr>\n",
       "<tr><td>14</td><td>Literal</td><td></td><td><a class=\"ProveItLink\" href=\"../../../numeral/__pv_it/77d407a64829263cdc16415becd4c2293f77a4bf0/expr.ipynb\"><img src=\"data:image/png;base64,iVBORw0KGgoAAAANSUhEUgAAAAkAAAAOBAMAAAAPuiubAAAAMFBMVEX///+YmJh2dnbMzMwQEBAi\n",
       "IiLu7u6qqqqIiIhUVFS6urpEREQyMjJmZmbc3NwAAACOMKdoAAAAAXRSTlMAQObYZgAAAFBJREFU\n",
       "CNdj4Lt7egEDw0sGju8MDNMYGOIZGFwSGOYvYDifwHAfKAEUSQASzJ9ATJ4NIPI2iOCYACJrGfge\n",
       "MDBfYGB8wPBUSekqUPH//18ZAIliFhc3zESNAAAAAElFTkSuQmCC\n",
       "\" style=\"display:inline;vertical-align:middle;\" /></a></td></tr>\n",
       "<tr><td>15</td><td>Variable</td><td></td><td><a class=\"ProveItLink\" href=\"../../../../__pv_it/6840a4fa6c106149dc16a131294d0c5e44f1b0480/expr.ipynb\"><img src=\"data:image/png;base64,iVBORw0KGgoAAAANSUhEUgAAAAkAAAAOBAMAAAAPuiubAAAALVBMVEX///9mZmbMzMxERESYmJiI\n",
       "iIh2dna6urqqqqoyMjIiIiIQEBBUVFTu7u4AAAD9S1JeAAAAAXRSTlMAQObYZgAAAE1JREFUCNdj\n",
       "4D29gAEIOA+ASL4GEFl3AURmgQiGOaFHGBh4HzPwKTBwvGXgTmBgnMDAJ8DAJcBQ5wBSLncBJLWN\n",
       "gYGngRFoBO9REQYGAGrcDtUkVqASAAAAAElFTkSuQmCC\n",
       "\" style=\"display:inline;vertical-align:middle;\" /></a></td></tr>\n",
       "</table>\n"
      ],
      "text/plain": [
       "0. (2 * a) + (3 * c) + (2 * b) + _x_\n",
       "   core type: Operation\n",
       "   operator: 1\n",
       "   operands: 2\n",
       "1. +\n",
       "   core type: Literal\n",
       "   sub-expressions: \n",
       "2. (2 * a , 3 * c , 2 * b , _x_)\n",
       "   core type: ExprTuple\n",
       "   sub-expressions: 3, 4, 5, 6\n",
       "3. 2 * a\n",
       "   core type: Operation\n",
       "   operator: 9\n",
       "   operands: 7\n",
       "4. 3 * c\n",
       "   core type: Operation\n",
       "   operator: 9\n",
       "   operands: 8\n",
       "5. 2 * b\n",
       "   core type: Operation\n",
       "   operator: 9\n",
       "   operands: 10\n",
       "6. _x_\n",
       "   core type: Variable\n",
       "   sub-expressions: \n",
       "7. (2 , a)\n",
       "   core type: ExprTuple\n",
       "   sub-expressions: 14, 11\n",
       "8. (3 , c)\n",
       "   core type: ExprTuple\n",
       "   sub-expressions: 12, 13\n",
       "9. *\n",
       "   core type: Literal\n",
       "   sub-expressions: \n",
       "10. (2 , b)\n",
       "    core type: ExprTuple\n",
       "    sub-expressions: 14, 15\n",
       "11. a\n",
       "    core type: Variable\n",
       "    sub-expressions: \n",
       "12. 3\n",
       "    core type: Literal\n",
       "    sub-expressions: \n",
       "13. c\n",
       "    core type: Variable\n",
       "    sub-expressions: \n",
       "14. 2\n",
       "    core type: Literal\n",
       "    sub-expressions: \n",
       "15. b\n",
       "    core type: Variable\n",
       "    sub-expressions: "
      ]
     },
     "execution_count": 4,
     "metadata": {},
     "output_type": "execute_result"
    }
   ],
   "source": [
    "# display the expression information\n",
    "expr.exprInfo()"
   ]
  },
  {
   "cell_type": "code",
   "execution_count": null,
   "metadata": {},
   "outputs": [],
   "source": []
  }
 ],
 "metadata": {
  "kernelspec": {
   "display_name": "Python 3",
   "language": "python",
   "name": "python3"
  }
 },
 "nbformat": 4,
 "nbformat_minor": 0
}
