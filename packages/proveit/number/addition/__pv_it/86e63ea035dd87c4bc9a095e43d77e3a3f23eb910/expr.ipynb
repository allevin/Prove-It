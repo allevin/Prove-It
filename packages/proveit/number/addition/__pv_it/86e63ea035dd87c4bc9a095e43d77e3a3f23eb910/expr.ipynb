{
 "cells": [
  {
   "cell_type": "markdown",
   "metadata": {},
   "source": [
    "Expression of type <a class=\"ProveItLink\" href=\"../../../../../../doc/html/api/proveit.ExprTuple.html\">ExprTuple</a>\n",
    "=======================\n",
    "# from context <a class=\"ProveItLink\" href=\"../../_context_.ipynb\">proveit.number.addition</a>"
   ]
  },
  {
   "cell_type": "code",
   "execution_count": 1,
   "metadata": {},
   "outputs": [],
   "source": [
    "# import Expression classes needed to build the expression\n",
    "from proveit import ExprTuple\n",
    "from proveit.number import Add, one, three, zero"
   ]
  },
  {
   "cell_type": "code",
   "execution_count": 2,
   "metadata": {},
   "outputs": [
    {
     "data": {
      "text/html": [
       "<strong id=\"expr\">expr:</strong> <a class=\"ProveItLink\" href=\"expr.ipynb\"><img src=\"data:image/png;base64,iVBORw0KGgoAAAANSUhEUgAAAN0AAAAVBAMAAAAwUfbwAAAAMFBMVEX////c3NwiIiJERESqqqqY\n",
       "mJh2dnZmZmYQEBDu7u4yMjJUVFTMzMyIiIi6uroAAAAs73DqAAAAAXRSTlMAQObYZgAAAe5JREFU\n",
       "SMe9lj1Iw0AYht+26U80Sbs5KNjBwUkXHZzazanYyVEKgoIgdtGKODg4OdiqQwUHgyhiunSvYKcu\n",
       "Ll0EB0VxFERb2kIL/lxaI71c9BoLPUhyefPlfZLv8t0F6HVTij1Dzem7a7K5UqYr6ftNczATU1iY\n",
       "MLpTjLVZkRbmw/DmSe8CEENmrzHs52mFiXHE8fqdmoO6GccoA1DeARWQixBzV4bXXusgByGrlMLG\n",
       "eCrwB5u9o5zhLgbwi7ISRhmYBXy6zYPhFWkdnFkoJUphY4QfHmTDXTC+BUaZafIOgWcrL38cUoXD\n",
       "I83IZwc8NPPpCmPNyms4Bumdz8vABq8vS8YgjrPfeDUeT1rK2uAV9IcTVOz+mwfcPtp4P5mQlC18\n",
       "dJFPX90GD8kUpLd23oamjWpa5vt7qVIKG+PIw1Vtd/dq2smOpmUtlSEgFNV527CuB4FXD8d1E++v\n",
       "9xM/UzqP5HPSyovUuyfI4flVOEtIdZjPBjAegFvFouXYjOAwz+HJUbzGxHKHvBsotWY9PJGTRPI8\n",
       "Srunly9NT8DGTCdOISbJfOVdb6zS7qwiJDbCpAYf4Qu0T6sRZqLnKAp1u8CsbbRC5jN3rF14Ydw5\n",
       "ipuzltLKcms96qK57QSL+poz2BXP1s9Bv558R+/+J+6ALwv/1coroYQQAAAAAElFTkSuQmCC\n",
       "\" style=\"display:inline;vertical-align:middle;\" /></a><br>"
      ],
      "text/plain": [
       "expr: (1 + 0 + 1 + 3 , 1 + 1 + 3)"
      ]
     },
     "execution_count": 2,
     "metadata": {},
     "output_type": "execute_result"
    }
   ],
   "source": [
    "# build up the expression from sub-expressions\n",
    "expr = ExprTuple(Add(one, zero, one, three), Add(one, one, three))"
   ]
  },
  {
   "cell_type": "code",
   "execution_count": 3,
   "metadata": {},
   "outputs": [
    {
     "name": "stdout",
     "output_type": "stream",
     "text": [
      "Passed sanity check: built 'expr' is the same as the stored Expression.\n"
     ]
    }
   ],
   "source": [
    "# check that the built expression is the same as the stored expression\n",
    "%check_expr"
   ]
  },
  {
   "cell_type": "code",
   "execution_count": 4,
   "metadata": {},
   "outputs": [
    {
     "data": {
      "text/html": [
       "<table><tr><th>&nbsp;</th><th>core type</th><th>sub-expressions</th><th>expression</th></tr>\n",
       "<tr><td>0</td><td>ExprTuple</td><td>1, 2</td><td><a class=\"ProveItLink\" href=\"expr.ipynb\"><img src=\"data:image/png;base64,iVBORw0KGgoAAAANSUhEUgAAAN0AAAAVBAMAAAAwUfbwAAAAMFBMVEX////c3NwiIiJERESqqqqY\n",
       "mJh2dnZmZmYQEBDu7u4yMjJUVFTMzMyIiIi6uroAAAAs73DqAAAAAXRSTlMAQObYZgAAAe5JREFU\n",
       "SMe9lj1Iw0AYht+26U80Sbs5KNjBwUkXHZzazanYyVEKgoIgdtGKODg4OdiqQwUHgyhiunSvYKcu\n",
       "Ll0EB0VxFERb2kIL/lxaI71c9BoLPUhyefPlfZLv8t0F6HVTij1Dzem7a7K5UqYr6ftNczATU1iY\n",
       "MLpTjLVZkRbmw/DmSe8CEENmrzHs52mFiXHE8fqdmoO6GccoA1DeARWQixBzV4bXXusgByGrlMLG\n",
       "eCrwB5u9o5zhLgbwi7ISRhmYBXy6zYPhFWkdnFkoJUphY4QfHmTDXTC+BUaZafIOgWcrL38cUoXD\n",
       "I83IZwc8NPPpCmPNyms4Bumdz8vABq8vS8YgjrPfeDUeT1rK2uAV9IcTVOz+mwfcPtp4P5mQlC18\n",
       "dJFPX90GD8kUpLd23oamjWpa5vt7qVIKG+PIw1Vtd/dq2smOpmUtlSEgFNV527CuB4FXD8d1E++v\n",
       "9xM/UzqP5HPSyovUuyfI4flVOEtIdZjPBjAegFvFouXYjOAwz+HJUbzGxHKHvBsotWY9PJGTRPI8\n",
       "Srunly9NT8DGTCdOISbJfOVdb6zS7qwiJDbCpAYf4Qu0T6sRZqLnKAp1u8CsbbRC5jN3rF14Ydw5\n",
       "ipuzltLKcms96qK57QSL+poz2BXP1s9Bv558R+/+J+6ALwv/1coroYQQAAAAAElFTkSuQmCC\n",
       "\" style=\"display:inline;vertical-align:middle;\" /></a></td></tr>\n",
       "<tr><td>1</td><td>Operation</td><td>operator:&nbsp;4<br>operands:&nbsp;3<br></td><td><a class=\"ProveItLink\" href=\"../45abd3f584a7e45a239184d4468461f8cab3204f0/expr.ipynb\"><img src=\"data:image/png;base64,iVBORw0KGgoAAAANSUhEUgAAAHQAAAAQBAMAAAA10UZYAAAAMFBMVEX///92dnbMzMy6uroiIiKq\n",
       "qqrc3NyYmJgyMjIQEBBmZmaIiIhUVFTu7u5EREQAAADaqMZ6AAAAAXRSTlMAQObYZgAAAP1JREFU\n",
       "KM9jYGB4y4AKeFfvUkAT4ruAJqAo+BRI3vuLJsxiwOuEZth7NK1sCxjsNzDcOQPTypsAobcwMOxA\n",
       "EeE9cx6m9RqEYvzKwO/AwMAN08q6AUL7MDDYJ6CIMOyHaY2GKsWh9RcDg34Afq1AAHQwhla2j0Ct\n",
       "Gwhq7WHAoVWAgFYmiQPkamVg2GlAtoM5/8K0cnV0tMzo6DgADaYCFBGo1hUdHZ4dHSBPsikw8H3H\n",
       "HjnxBCLn/l/sWoFJQoQBv1b+BgaWb1i0sgTwTiKglbuAwV6AgWvlj+WoCnkX7lFAFVk1v6sANZii\n",
       "VrUip2m4HXhEohmwAuYNhEWskdgAStxuyFkhgtwAAAAASUVORK5CYII=\n",
       "\" style=\"display:inline;vertical-align:middle;\" /></a></td></tr>\n",
       "<tr><td>2</td><td>Operation</td><td>operator:&nbsp;4<br>operands:&nbsp;5<br></td><td><a class=\"ProveItLink\" href=\"../46607f0c120fde56305f47811ff1fd5cf39c9d5f0/expr.ipynb\"><img src=\"data:image/png;base64,iVBORw0KGgoAAAANSUhEUgAAAFAAAAAQBAMAAABzZ+XyAAAAMFBMVEX///92dnbMzMy6uroiIiKq\n",
       "qqrc3NyYmJgyMjIQEBBmZmaIiIhUVFTu7u5EREQAAADaqMZ6AAAAAXRSTlMAQObYZgAAAJZJREFU\n",
       "KM9jYGB4y4AO0EUUBZ8CyXt/0dWhi7AtYLDfwHDnDEyYNwFCY4gwfmXgd2Bg4IYJs26AMtBFWIlV\n",
       "CARAq4lT2MNAlEImiQMMRJq404BIhZx/YcJcHR0tMzo6DiAUIkTYFBj4vhNj4v2/RCrkb2Bg+UaM\n",
       "Qu4CBnsBBq6VP5ajKsQUiVrVihz3CD/iFgED5g34RADQ3U9fwaTGEQAAAABJRU5ErkJggg==\n",
       "\" style=\"display:inline;vertical-align:middle;\" /></a></td></tr>\n",
       "<tr><td>3</td><td>ExprTuple</td><td>7, 6, 7, 8</td><td><a class=\"ProveItLink\" href=\"../14d0974da24fde13b45b4c4518911eb968c510f20/expr.ipynb\"><img src=\"data:image/png;base64,iVBORw0KGgoAAAANSUhEUgAAAFEAAAAVBAMAAADMaB9/AAAAMFBMVEX////c3NwiIiJERESqqqqY\n",
       "mJh2dnZmZmYQEBDu7u4yMjJUVFTMzMyIiIi6uroAAAAs73DqAAAAAXRSTlMAQObYZgAAAVxJREFU\n",
       "KM+Nk79Lw0AUx7/apO1pErM5KJjBWScHp+Y/sJOjFASdil20Ig4OziboYMDBLCLi0r2CmVxcurgp\n",
       "/hidtGjBQtV7l0vapkMSyOVzL5/w7t69ANkvo5VBWqPhnt85V0ZOn/ajl8vyqW2s2ygEnK4AVorM\n",
       "BRwHIZ38yNA0jB7gA3oLrHkrTd2C7gs6a0bmlo02sAoUSXqW5ngDxqf8KDJXhOkB7xgwp2rQvhIm\n",
       "RPacjZ1Bc64CrTdiTjSAfA0XSbOTNO+u+aD4OEo1oXPHOMBvenY4LrSPYZN29J0wZ4FSmcxDDFdJ\n",
       "SVSJ/blk8uxLkemGlc9bgoTJCLrAognVx6Y0WZtgHl4QEpnnFocHGB1RpTc+qTuXZeaY1CHVGwgq\n",
       "7Ha34dFKlPqezWv6gqIZnYSJEXqNt89PU61IVuNon8oxVcOuSzcZddiMnPRbPyY9Dk3Sgsay/B2P\n",
       "wD9FxmwhlXYVGgAAAABJRU5ErkJggg==\n",
       "\" style=\"display:inline;vertical-align:middle;\" /></a></td></tr>\n",
       "<tr><td>4</td><td>Literal</td><td></td><td><a class=\"ProveItLink\" href=\"../3e6688136fa3c7aefbebe51301b7c3ebf0b69c440/expr.ipynb\"><img src=\"data:image/png;base64,iVBORw0KGgoAAAANSUhEUgAAAA4AAAAOBAMAAADtZjDiAAAAJFBMVEX///+6urpUVFQQEBAiIiIy\n",
       "MjJmZmaIiIiqqqrc3Nzu7u4AAACgHpL+AAAAAXRSTlMAQObYZgAAAB5JREFUCNdjYGBgWMkAAe2k\n",
       "0Kmhoc6hoUGk6BMHYgAHOwjcado9fwAAAABJRU5ErkJggg==\n",
       "\" style=\"display:inline;vertical-align:middle;\" /></a></td></tr>\n",
       "<tr><td>5</td><td>ExprTuple</td><td>7, 7, 8</td><td><a class=\"ProveItLink\" href=\"../fd889ee7e03cc2b9a48cfaca3abd4ef8b27e362e0/expr.ipynb\"><img src=\"data:image/png;base64,iVBORw0KGgoAAAANSUhEUgAAAD0AAAAVBAMAAAAHs/uBAAAAMFBMVEX////c3NwiIiJERESqqqqY\n",
       "mJh2dnZmZmYQEBDu7u4yMjJUVFTMzMyIiIi6uroAAAAs73DqAAAAAXRSTlMAQObYZgAAAP1JREFU\n",
       "KM9jYCAE+C7glIoDEaeBmHkCTAjG4klLdmBgPwBkrWRg4LSHycNZ4gx8fxkYFjAw8F5g4Ny9HyqK\n",
       "YOU7MHxiYAhjYOAACdyHmw9j+YPlZzAwvGLAKs8ANp/ZgaEMlzzXBgYGtgKGpTjkj60GEiwLGPpw\n",
       "6ecFyvA1MPzDJc/QP4GB5wMueRkGBvsAkHwLVnnO/xNA8kDzTWGiExiQWb8YGPQFGFgXMKRDRTk/\n",
       "MSCzrjLwfQP77xGQU96/PICzXwCZxVJe5QAMgwcMHAKw8BJgwGABw5c1AcpmhXsMwcqFxC8ueU5g\n",
       "/DJIQzmIZARncYMsYsSdvu4wMAAAXVRXk7Z367QAAAAASUVORK5CYII=\n",
       "\" style=\"display:inline;vertical-align:middle;\" /></a></td></tr>\n",
       "<tr><td>6</td><td>Literal</td><td></td><td><a class=\"ProveItLink\" href=\"../../../numeral/__pv_it/ec23fc7a1b4222a5f4948b495002b97d6fa18c3c0/expr.ipynb\"><img src=\"data:image/png;base64,iVBORw0KGgoAAAANSUhEUgAAAAoAAAAOBAMAAADkjZCYAAAALVBMVEX///8QEBCYmJh2dnaqqqrc\n",
       "3NxUVFQyMjK6uroiIiLMzMyIiIhmZmbu7u4AAAAZjyHdAAAAAXRSTlMAQObYZgAAAEpJREFUCNdj\n",
       "YLiz+xQDA8MMhpsLGLgnMHAXMHAmMHA8ZeA7wMD1hCHOgIHrNZh8jES+Bss+AqlkeQrSxTyBgWEK\n",
       "w8UFDAx3rLMYAMCjFldHSx/9AAAAAElFTkSuQmCC\n",
       "\" style=\"display:inline;vertical-align:middle;\" /></a></td></tr>\n",
       "<tr><td>7</td><td>Literal</td><td></td><td><a class=\"ProveItLink\" href=\"../../../numeral/__pv_it/9be8badea4c35b9724062cecc501d17a3158d1d20/expr.ipynb\"><img src=\"data:image/png;base64,iVBORw0KGgoAAAANSUhEUgAAAAgAAAAPBAMAAAArJJMAAAAAHlBMVEX///+YmJgyMjIQEBBmZmaI\n",
       "iIhUVFTu7u5EREQAAAAw+MI4AAAAAXRSTlMAQObYZgAAACFJREFUCNdjYGBoZ2BgqJjOwFCWBiQY\n",
       "WEklWJwnOTKAAACjEQo8HvEr3AAAAABJRU5ErkJggg==\n",
       "\" style=\"display:inline;vertical-align:middle;\" /></a></td></tr>\n",
       "<tr><td>8</td><td>Literal</td><td></td><td><a class=\"ProveItLink\" href=\"../../../numeral/__pv_it/9176d93c83afa2c995b614976e3cb49207102fa70/expr.ipynb\"><img src=\"data:image/png;base64,iVBORw0KGgoAAAANSUhEUgAAAAoAAAAOBAMAAADkjZCYAAAAMFBMVEX///+YmJju7u4QEBBUVFQy\n",
       "MjIiIiKIiIi6urpmZmbc3NyqqqpERER2dnbMzMwAAAB0GlNiAAAAAXRSTlMAQObYZgAAAE1JREFU\n",
       "CNdjYHh79zQDA9cEhv4CBt7fDPwJDNxgEgiAIkAQAsR8Vx1ATIbiBhDJ/ImB6wEDz0cG/U8gkj+A\n",
       "ge0XA7sAQ/8FBoadM6MZAEflFACalZ/OAAAAAElFTkSuQmCC\n",
       "\" style=\"display:inline;vertical-align:middle;\" /></a></td></tr>\n",
       "</table>\n"
      ],
      "text/plain": [
       "0. (1 + 0 + 1 + 3 , 1 + 1 + 3)\n",
       "   core type: ExprTuple\n",
       "   sub-expressions: 1, 2\n",
       "1. 1 + 0 + 1 + 3\n",
       "   core type: Operation\n",
       "   operator: 4\n",
       "   operands: 3\n",
       "2. 1 + 1 + 3\n",
       "   core type: Operation\n",
       "   operator: 4\n",
       "   operands: 5\n",
       "3. (1 , 0 , 1 , 3)\n",
       "   core type: ExprTuple\n",
       "   sub-expressions: 7, 6, 7, 8\n",
       "4. +\n",
       "   core type: Literal\n",
       "   sub-expressions: \n",
       "5. (1 , 1 , 3)\n",
       "   core type: ExprTuple\n",
       "   sub-expressions: 7, 7, 8\n",
       "6. 0\n",
       "   core type: Literal\n",
       "   sub-expressions: \n",
       "7. 1\n",
       "   core type: Literal\n",
       "   sub-expressions: \n",
       "8. 3\n",
       "   core type: Literal\n",
       "   sub-expressions: "
      ]
     },
     "execution_count": 4,
     "metadata": {},
     "output_type": "execute_result"
    }
   ],
   "source": [
    "# display the expression information\n",
    "expr.exprInfo()"
   ]
  },
  {
   "cell_type": "code",
   "execution_count": null,
   "metadata": {},
   "outputs": [],
   "source": []
  }
 ],
 "metadata": {
  "kernelspec": {
   "display_name": "Python 3",
   "language": "python",
   "name": "python3"
  }
 },
 "nbformat": 4,
 "nbformat_minor": 0
}
