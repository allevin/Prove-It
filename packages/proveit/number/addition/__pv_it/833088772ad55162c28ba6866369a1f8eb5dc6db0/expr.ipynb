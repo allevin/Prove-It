{
 "cells": [
  {
   "cell_type": "markdown",
   "metadata": {},
   "source": [
    "Expression of type <a class=\"ProveItLink\" href=\"../../../../../../doc/html/api/proveit.ExprTuple.html\">ExprTuple</a>\n",
    "=======================\n",
    "# from context <a class=\"ProveItLink\" href=\"../../_context_.ipynb\">proveit.number.addition</a>"
   ]
  },
  {
   "cell_type": "code",
   "execution_count": 1,
   "metadata": {},
   "outputs": [],
   "source": [
    "# import Expression classes needed to build the expression\n",
    "from proveit import ExprTuple\n",
    "from proveit._common_ import a, b\n",
    "from proveit.number import Complexes, Exp, seven"
   ]
  },
  {
   "cell_type": "code",
   "execution_count": 2,
   "metadata": {},
   "outputs": [
    {
     "data": {
      "text/html": [
       "<strong id=\"expr\">expr:</strong> <a class=\"ProveItLink\" href=\"expr.ipynb\"><img src=\"data:image/png;base64,iVBORw0KGgoAAAANSUhEUgAAAMIAAAAcBAMAAADB+31dAAAAMFBMVEX///+qqqp2dnYiIiJERESI\n",
       "iIhmZmYQEBDc3NyYmJgyMjLu7u5UVFTMzMy6uroAAACGxKilAAAAAXRSTlMAQObYZgAAAo5JREFU\n",
       "SMe9lk9oE0EUxr9Nm2STTTaCJxXJnjxKDhoEESLYgyi4WNRLKUE9+QeqXnoQ3YNeJOAqnhSkJ0Er\n",
       "ErwItZgIFrQIBvFYbNBDVDCm2GpLSeKb3dndickGTFkfzL7fzs7Ot/PmzcwCQVlo2/MiArVEu73M\n",
       "sR6QQr1+CBqjZDkYBQlSFQuMZgKL1nUgrJN/Q0XVN9pbrNpdx4KzB5AnyC8M0unsJRHOC09GH/3e\n",
       "lbfDPwZE8uSnB/ruxyLEvfqPLTxdKSPCprlURLTKo/XvtiRCTHMDljCBdBlD5NhlkVx0oMlW10VQ\n",
       "Jpz6e1G6RMpIMYVIDifIfRts0WY6YL9Tny8wQd2KDmINzJM7SUWe2zlpt/AIhaM1w5fic2OmADv4\n",
       "O0r+U+dAD5N7SKVmDDfsSo/USRzxp1IOTQG28j6T2hZBIdnEA3JX6MPXWMisIbiEmyZO+1O6iIsC\n",
       "1FyFr4KC3EKWXIt2kQaG7IzyCO+A3f50BvglwKITpdx7QUFZchRSOZQqVp1HWIbS9Kcs1DUBHAVM\n",
       "JzrHwFbLBRq8jjSspPVIXoHUUPyIVkFkXQAnSrhtKfAFIDfxitxBmq1NmJcq7FWPaISJqe2sbS+i\n",
       "2Y1qHuCu0+/wfQqyupcnxipGYSVa3JSyIZQyIlGObc5ryk8feolzcMHOVusWb0eKLw7wMdB6+EHu\n",
       "M1sE4x/G8WxVJBSOfR+pKleN3jR73IQLwBOmwG6RPNW+7Gy1oSmkaFajhhPDL+gm1ehDLti7hteC\n",
       "W1xHQhN3LRPdFOtHLoT0zhbcSgaSGXH3HlxhBj0V7vAdq8Dvw+4Tj6D3Ixde/9WC2z4qN1jWbvgU\n",
       "DVd6H67sfJO0AH+arlnXWwEqnMV/sD8tXObNUgcclAAAAABJRU5ErkJggg==\n",
       "\" style=\"display:inline;vertical-align:middle;\" /></a><br>"
      ],
      "text/plain": [
       "expr: ((a , a , a , a , a , b , b) , Complexes^{7})"
      ]
     },
     "execution_count": 2,
     "metadata": {},
     "output_type": "execute_result"
    }
   ],
   "source": [
    "# build up the expression from sub-expressions\n",
    "expr = ExprTuple([a, a, a, a, a, b, b], Exp(Complexes, seven))"
   ]
  },
  {
   "cell_type": "code",
   "execution_count": 3,
   "metadata": {},
   "outputs": [
    {
     "name": "stdout",
     "output_type": "stream",
     "text": [
      "Passed sanity check: built 'expr' is the same as the stored Expression.\n"
     ]
    }
   ],
   "source": [
    "# check that the built expression is the same as the stored expression\n",
    "%check_expr"
   ]
  },
  {
   "cell_type": "code",
   "execution_count": 4,
   "metadata": {},
   "outputs": [
    {
     "data": {
      "text/html": [
       "<table><tr><th>&nbsp;</th><th>core type</th><th>sub-expressions</th><th>expression</th></tr>\n",
       "<tr><td>0</td><td>ExprTuple</td><td>1, 2</td><td><a class=\"ProveItLink\" href=\"expr.ipynb\"><img src=\"data:image/png;base64,iVBORw0KGgoAAAANSUhEUgAAAMIAAAAcBAMAAADB+31dAAAAMFBMVEX///+qqqp2dnYiIiJERESI\n",
       "iIhmZmYQEBDc3NyYmJgyMjLu7u5UVFTMzMy6uroAAACGxKilAAAAAXRSTlMAQObYZgAAAo5JREFU\n",
       "SMe9lk9oE0EUxr9Nm2STTTaCJxXJnjxKDhoEESLYgyi4WNRLKUE9+QeqXnoQ3YNeJOAqnhSkJ0Er\n",
       "ErwItZgIFrQIBvFYbNBDVDCm2GpLSeKb3dndickGTFkfzL7fzs7Ot/PmzcwCQVlo2/MiArVEu73M\n",
       "sR6QQr1+CBqjZDkYBQlSFQuMZgKL1nUgrJN/Q0XVN9pbrNpdx4KzB5AnyC8M0unsJRHOC09GH/3e\n",
       "lbfDPwZE8uSnB/ruxyLEvfqPLTxdKSPCprlURLTKo/XvtiRCTHMDljCBdBlD5NhlkVx0oMlW10VQ\n",
       "Jpz6e1G6RMpIMYVIDifIfRts0WY6YL9Tny8wQd2KDmINzJM7SUWe2zlpt/AIhaM1w5fic2OmADv4\n",
       "O0r+U+dAD5N7SKVmDDfsSo/USRzxp1IOTQG28j6T2hZBIdnEA3JX6MPXWMisIbiEmyZO+1O6iIsC\n",
       "1FyFr4KC3EKWXIt2kQaG7IzyCO+A3f50BvglwKITpdx7QUFZchRSOZQqVp1HWIbS9Kcs1DUBHAVM\n",
       "JzrHwFbLBRq8jjSspPVIXoHUUPyIVkFkXQAnSrhtKfAFIDfxitxBmq1NmJcq7FWPaISJqe2sbS+i\n",
       "2Y1qHuCu0+/wfQqyupcnxipGYSVa3JSyIZQyIlGObc5ryk8feolzcMHOVusWb0eKLw7wMdB6+EHu\n",
       "M1sE4x/G8WxVJBSOfR+pKleN3jR73IQLwBOmwG6RPNW+7Gy1oSmkaFajhhPDL+gm1ehDLti7hteC\n",
       "W1xHQhN3LRPdFOtHLoT0zhbcSgaSGXH3HlxhBj0V7vAdq8Dvw+4Tj6D3Ixde/9WC2z4qN1jWbvgU\n",
       "DVd6H67sfJO0AH+arlnXWwEqnMV/sD8tXObNUgcclAAAAABJRU5ErkJggg==\n",
       "\" style=\"display:inline;vertical-align:middle;\" /></a></td></tr>\n",
       "<tr><td>1</td><td>ExprTuple</td><td>3, 3, 3, 3, 3, 4, 4</td><td><a class=\"ProveItLink\" href=\"../865a94bd25a9ada55778a43d77b820087671e5d10/expr.ipynb\"><img src=\"data:image/png;base64,iVBORw0KGgoAAAANSUhEUgAAAIwAAAAVBAMAAABmhxuGAAAAMFBMVEX////c3NwiIiJERESqqqqY\n",
       "mJh2dnZmZmYQEBDu7u4yMjJUVFTMzMyIiIi6uroAAAAs73DqAAAAAXRSTlMAQObYZgAAATpJREFU\n",
       "OMut1D1Iw0AYgOFXbdokkpjdwW5dM+ju7NLMTt3cHB3UQUUctaPYIZODCILgJBQCjg7N5iCU6hSc\n",
       "qlikIOLlp+HcrlcPLjxcct9d7rs7+KfixrNGMAbi8ajTs3MkY1/UK60ZXMuwwdH7p08ZRguzrbWg\n",
       "YxnWAW9ak6nW/2CVHfGc624f5q2qsrvPgYQtLoUTb2GYv1ZV6PMtYYNTMciImp8PpyiabU4kJPzA\n",
       "4pD5PF+qYhe+JPTSMEs+YZQ1qooG7khCj2NYiWmS5V1VYrfUxhIS1sQyrXNfiSzUJZbVbGURM7Ap\n",
       "coUdVBpVwrq6uGMP66NAmvDXdDv0H/qcv6uLzlOAdeblgBtMb7IzX5hS7qSrOAziWBUlYEoZ5dGI\n",
       "pYtCP8yFqMuFnfI7VZVXzG26xWe+RJ2IX3+OoxA2AcG9AAAAAElFTkSuQmCC\n",
       "\" style=\"display:inline;vertical-align:middle;\" /></a></td></tr>\n",
       "<tr><td>2</td><td>Operation</td><td>operator:&nbsp;5<br>operands:&nbsp;6<br></td><td><a class=\"ProveItLink\" href=\"../82b56ce75573d5948785f1ad6fc8a5d08b6e7b970/expr.ipynb\"><img src=\"data:image/png;base64,iVBORw0KGgoAAAANSUhEUgAAABcAAAAUBAMAAACUkLs9AAAAMFBMVEX////c3NyqqqqYmJhUVFR2\n",
       "dnbu7u66urrMzMxmZmZEREQQEBAyMjIiIiKIiIgAAAB7fvZ0AAAAAXRSTlMAQObYZgAAAJBJREFU\n",
       "GNNjYICCoLQ0Bjjw//9/AZzjXl6VAOcoMKgjlDEwPkDisIBJvjvn965kYGgBsTnqC9jinzAwTAVx\n",
       "DJwZGJi+MDBcBrKZEzYAySkMDJ+BFCejA5DMY2DYDqQy2QMQJrYyGSBx2JE4WRxIyngSHBAc5gAQ\n",
       "hw3KW1wHJGqhzmfxesZWtQymsPP+b3cICwC25x7Jou5JnAAAAABJRU5ErkJggg==\n",
       "\" style=\"display:inline;vertical-align:middle;\" /></a></td></tr>\n",
       "<tr><td>3</td><td>Variable</td><td></td><td><a class=\"ProveItLink\" href=\"../../../../__pv_it/07527342713064c87612d00d8557c53d53d5324a0/expr.ipynb\"><img src=\"data:image/png;base64,iVBORw0KGgoAAAANSUhEUgAAAAsAAAAJBAMAAAAWSsseAAAAMFBMVEX///8yMjKqqqrMzMzu7u4i\n",
       "IiJmZmaYmJhEREQQEBC6urp2dnaIiIhUVFTc3NwAAAD87Fq/AAAAAXRSTlMAQObYZgAAAEhJREFU\n",
       "CNdjYOC7s2seAwPDygccHxgY+L4zsDUwMPB+YGA9wMDA38Dgb8DA8P4Agz6DA4O/AsNFJgMGxgKm\n",
       "MG6gyjunLE4xAAAZTBA5TB6DCwAAAABJRU5ErkJggg==\n",
       "\" style=\"display:inline;vertical-align:middle;\" /></a></td></tr>\n",
       "<tr><td>4</td><td>Variable</td><td></td><td><a class=\"ProveItLink\" href=\"../../../../__pv_it/6840a4fa6c106149dc16a131294d0c5e44f1b0480/expr.ipynb\"><img src=\"data:image/png;base64,iVBORw0KGgoAAAANSUhEUgAAAAkAAAAOBAMAAAAPuiubAAAALVBMVEX///9mZmbMzMxERESYmJiI\n",
       "iIh2dna6urqqqqoyMjIiIiIQEBBUVFTu7u4AAAD9S1JeAAAAAXRSTlMAQObYZgAAAE1JREFUCNdj\n",
       "4D29gAEIOA+ASL4GEFl3AURmgQiGOaFHGBh4HzPwKTBwvGXgTmBgnMDAJ8DAJcBQ5wBSLncBJLWN\n",
       "gYGngRFoBO9REQYGAGrcDtUkVqASAAAAAElFTkSuQmCC\n",
       "\" style=\"display:inline;vertical-align:middle;\" /></a></td></tr>\n",
       "<tr><td>5</td><td>Literal</td><td></td><td><a class=\"ProveItLink\" href=\"../../../exponentiation/__pv_it/deb2bf23cbccdd6e6791e1b35b5b9794ce12dbd50/expr.ipynb\"><img src=\"data:image/png;base64,iVBORw0KGgoAAAANSUhEUgAAACgAAAASBAMAAADbMYGVAAAAMFBMVEX///8QEBAiIiKYmJjc3Nzu\n",
       "7u7MzMx2dnZmZma6urpERESqqqoyMjJUVFSIiIgAAAAoDOMTAAAAAXRSTlMAQObYZgAAAOBJREFU\n",
       "GNNjYGB4+//u3Tt/GNAASGAXmhjnPyDBgSbI/g1IxKEJ8nxgYGdgQRPkX8BgDKRY6q7s62OYvmze\n",
       "2wAgb/7ZO1+AVDiDkYEQQ0HTBr4DQF59AgOIKmB4z7CNbcNZBu6vQN55kEACQwDDLQYGVobfDHwg\n",
       "fb8YGBxYHwAZciD3fWXg+gB1JjvQcJZvQIXsCgz8F6DO9GBgMOH7wPCUgaeBwd4B7EwGNjUG7s9c\n",
       "AiwPgO5jkWRgiF3/9+5dfQUG1nWl5Y+B7pv+1gE9bBhqGLCAE1jEWH9jEbT5A3IwAC4sP/1L6Qlu\n",
       "AAAAAElFTkSuQmCC\n",
       "\" style=\"display:inline;vertical-align:middle;\" /></a></td></tr>\n",
       "<tr><td>6</td><td>ExprTuple</td><td>7, 8</td><td><a class=\"ProveItLink\" href=\"../96f5411dae21f5937bb4aeda4878899d044ba2480/expr.ipynb\"><img src=\"data:image/png;base64,iVBORw0KGgoAAAANSUhEUgAAAC8AAAAVBAMAAAAk6KpUAAAAMFBMVEX////c3NwiIiJERESqqqqY\n",
       "mJh2dnZmZmYQEBDu7u4yMjJUVFTMzMyIiIi6uroAAAAs73DqAAAAAXRSTlMAQObYZgAAARlJREFU\n",
       "KM9jYMAJ+C5gisWBiNNAzKu1vskcInaoLC0tgf0AkLWSgYHn/QPO/NsQifj///9vYFgAVAw0KWAr\n",
       "AwPLb4hEJgMDNwNDGAMDxwQG1gkNQJFqiEQCA0MOA8MMBoZXDAzsjBuAInORXcPswFDGwDCdLwHZ\n",
       "SZOBmK2AYSkDwzGWAGSJEiBmWcDQB5TgQ5bg/AAyroHhH1AvD7JRvECnMvB8AElwTdiAJMG0ASLR\n",
       "wsDAmgBic0Il5hdAjDIFUqZvgcSjCRCp9yAJ1gUM6UCKe/NNzseWDPMVQBL+BRDnPgJxjuv/2Af0\n",
       "7kcQ+zzIiVwPGDgEEPY+hLNmgGxGSCC8kwsJdgwJTpBfpBFeg7O4QeYzYonaOwwMAOpwRK3jV2OL\n",
       "AAAAAElFTkSuQmCC\n",
       "\" style=\"display:inline;vertical-align:middle;\" /></a></td></tr>\n",
       "<tr><td>7</td><td>Literal</td><td></td><td><a class=\"ProveItLink\" href=\"../../../sets/complex/__pv_it/c357845f93a5a2d9f649129d299e7ec28dda4b960/expr.ipynb\"><img src=\"data:image/png;base64,iVBORw0KGgoAAAANSUhEUgAAAA8AAAAOBAMAAAACpFvcAAAAMFBMVEX////c3NyqqqqYmJhUVFR2\n",
       "dnbu7u66urrMzMxmZmZEREQQEBAyMjIiIiKIiIgAAAB7fvZ0AAAAAXRSTlMAQObYZgAAAGVJREFU\n",
       "CNdjYGDgu3N+70oGBgaO+gK2+CdAhoEzAwPTFwYG5oQNQN4UBgZORgcgI4+BIZM9gAEMWpkMoAx2\n",
       "KCOLAyrFk+AAYTAHgBhsQLy4DkjUJjAwsHg9Y6taBpLsvP/bnYEBACkBFGQfBv8RAAAAAElFTkSu\n",
       "QmCC\n",
       "\" style=\"display:inline;vertical-align:middle;\" /></a></td></tr>\n",
       "<tr><td>8</td><td>Literal</td><td></td><td><a class=\"ProveItLink\" href=\"../../../numeral/__pv_it/44c347496acc279b31e97f8859fc6a0a1e31c26b0/expr.ipynb\"><img src=\"data:image/png;base64,iVBORw0KGgoAAAANSUhEUgAAAAoAAAAOBAMAAADkjZCYAAAAKlBMVEX///8yMjKqqqpERESIiIi6\n",
       "urru7u5UVFSYmJh2dnZmZmYiIiLMzMwAAACZcOxaAAAAAXRSTlMAQObYZgAAAEVJREFUCNdjOL1y\n",
       "5swJDL13794tYJjGwMDOwDCBgWEOAxCwOoDIZBDBsAhEsF0AkSwCIJK7AETmLgCRsWBSF0yebWBg\n",
       "AAAo0Q9n+lHhAQAAAABJRU5ErkJggg==\n",
       "\" style=\"display:inline;vertical-align:middle;\" /></a></td></tr>\n",
       "</table>\n"
      ],
      "text/plain": [
       "0. ((a , a , a , a , a , b , b) , Complexes^{7})\n",
       "   core type: ExprTuple\n",
       "   sub-expressions: 1, 2\n",
       "1. (a , a , a , a , a , b , b)\n",
       "   core type: ExprTuple\n",
       "   sub-expressions: 3, 3, 3, 3, 3, 4, 4\n",
       "2. Complexes^{7}\n",
       "   core type: Operation\n",
       "   operator: 5\n",
       "   operands: 6\n",
       "3. a\n",
       "   core type: Variable\n",
       "   sub-expressions: \n",
       "4. b\n",
       "   core type: Variable\n",
       "   sub-expressions: \n",
       "5. Exp\n",
       "   core type: Literal\n",
       "   sub-expressions: \n",
       "6. (Complexes , 7)\n",
       "   core type: ExprTuple\n",
       "   sub-expressions: 7, 8\n",
       "7. Complexes\n",
       "   core type: Literal\n",
       "   sub-expressions: \n",
       "8. 7\n",
       "   core type: Literal\n",
       "   sub-expressions: "
      ]
     },
     "execution_count": 4,
     "metadata": {},
     "output_type": "execute_result"
    }
   ],
   "source": [
    "# display the expression information\n",
    "expr.exprInfo()"
   ]
  },
  {
   "cell_type": "code",
   "execution_count": null,
   "metadata": {},
   "outputs": [],
   "source": []
  }
 ],
 "metadata": {
  "kernelspec": {
   "display_name": "Python 3",
   "language": "python",
   "name": "python3"
  }
 },
 "nbformat": 4,
 "nbformat_minor": 0
}
