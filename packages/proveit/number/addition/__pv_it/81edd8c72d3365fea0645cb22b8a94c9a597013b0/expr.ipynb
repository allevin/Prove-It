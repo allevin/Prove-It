{
 "cells": [
  {
   "cell_type": "markdown",
   "metadata": {},
   "source": [
    "Expression of type <a class=\"ProveItLink\" href=\"../../../../../../doc/html/api/proveit.ExprTuple.html\">ExprTuple</a>\n",
    "=======================\n",
    "# from context <a class=\"ProveItLink\" href=\"../../_context_.ipynb\">proveit.number.addition</a>"
   ]
  },
  {
   "cell_type": "code",
   "execution_count": 1,
   "metadata": {},
   "outputs": [],
   "source": [
    "# import Expression classes needed to build the expression\n",
    "from proveit import ExprTuple\n",
    "from proveit.number import Add, one, three, two"
   ]
  },
  {
   "cell_type": "code",
   "execution_count": 2,
   "metadata": {},
   "outputs": [
    {
     "data": {
      "text/html": [
       "<strong id=\"expr\">expr:</strong> <a class=\"ProveItLink\" href=\"expr.ipynb\"><img src=\"data:image/png;base64,iVBORw0KGgoAAAANSUhEUgAAAN0AAAAVBAMAAAAwUfbwAAAAMFBMVEX////c3NwiIiJERESqqqqY\n",
       "mJh2dnZmZmYQEBDu7u4yMjJUVFTMzMyIiIi6uroAAAAs73DqAAAAAXRSTlMAQObYZgAAAhxJREFU\n",
       "SMe9lj9IG1Ecx7+XXEzOJGecHHRwEjc76NClZusUGhdHCQgRBDFLTcnUoYsOJqVLoYOhrUjPJbuD\n",
       "Tjo4NEuhUEFxFMQ/aOGEJr67613ye793BBFykHvwufv9Pu/3I++9A/p9mc2+qRac27H4RWvSk5HK\n",
       "K4kcFqflcD8qVVzM0iecAC+B+IEYfwDGrOTTGjilAVoJV1IjgqgRmP+k6TKCT7a41YF0E8bevu/7\n",
       "6A3JGiLXhAzcYWickE7Uaha3/1kmjHzZc3zzQMIJOvV9OW9IrCPZIkTv+HL+lP2oN0F2vRlGkHZ8\n",
       "n4ELKHyDNuItKXvQT+ZD0L0gOyeuL5rFmsonrogtk12E+gYbso8R1zdQwnaI72eBktRyI9R36E8l\n",
       "yM6J69Pr2AzxfWPk91lofelNuT5GXJ/5Hi21L/6C+RJ2qA/VmuRjxPWlrrt9FcuatCyvE39AiXaA\n",
       "6L30ju8bA2bzYoqW9XXDshpKEvg+KOvTSxgmZMv2fIr6jHbNzd6phpNOP2eUviNgjpChOiI3Cp8T\n",
       "+ABMZUh2TjxfrI4llU+bKC7R1Z3O46rAfYazrH/B/Ev/HZwE6+FcDOXqTp7kirTbbWk3eV3+LvXA\n",
       "iTKqogy9XMnS7JzE3z28FavyDIlM966aY2dID2KScJ2dbZSI/SxW6AaXLHsPEutxllKy4p1Hz7hi\n",
       "T3nZEOcRRp/le9LHQdJpvta/74kT4BFj/9QpRkVTfwAAAABJRU5ErkJggg==\n",
       "\" style=\"display:inline;vertical-align:middle;\" /></a><br>"
      ],
      "text/plain": [
       "expr: (1 + 2 + 3 + 1 , 3 + 3 + 1)"
      ]
     },
     "execution_count": 2,
     "metadata": {},
     "output_type": "execute_result"
    }
   ],
   "source": [
    "# build up the expression from sub-expressions\n",
    "expr = ExprTuple(Add(one, two, three, one), Add(three, three, one))"
   ]
  },
  {
   "cell_type": "code",
   "execution_count": 3,
   "metadata": {},
   "outputs": [
    {
     "name": "stdout",
     "output_type": "stream",
     "text": [
      "Passed sanity check: built 'expr' is the same as the stored Expression.\n"
     ]
    }
   ],
   "source": [
    "# check that the built expression is the same as the stored expression\n",
    "%check_expr"
   ]
  },
  {
   "cell_type": "code",
   "execution_count": 4,
   "metadata": {},
   "outputs": [
    {
     "data": {
      "text/html": [
       "<table><tr><th>&nbsp;</th><th>core type</th><th>sub-expressions</th><th>expression</th></tr>\n",
       "<tr><td>0</td><td>ExprTuple</td><td>1, 2</td><td><a class=\"ProveItLink\" href=\"expr.ipynb\"><img src=\"data:image/png;base64,iVBORw0KGgoAAAANSUhEUgAAAN0AAAAVBAMAAAAwUfbwAAAAMFBMVEX////c3NwiIiJERESqqqqY\n",
       "mJh2dnZmZmYQEBDu7u4yMjJUVFTMzMyIiIi6uroAAAAs73DqAAAAAXRSTlMAQObYZgAAAhxJREFU\n",
       "SMe9lj9IG1Ecx7+XXEzOJGecHHRwEjc76NClZusUGhdHCQgRBDFLTcnUoYsOJqVLoYOhrUjPJbuD\n",
       "Tjo4NEuhUEFxFMQ/aOGEJr67613ye793BBFykHvwufv9Pu/3I++9A/p9mc2+qRac27H4RWvSk5HK\n",
       "K4kcFqflcD8qVVzM0iecAC+B+IEYfwDGrOTTGjilAVoJV1IjgqgRmP+k6TKCT7a41YF0E8bevu/7\n",
       "6A3JGiLXhAzcYWickE7Uaha3/1kmjHzZc3zzQMIJOvV9OW9IrCPZIkTv+HL+lP2oN0F2vRlGkHZ8\n",
       "n4ELKHyDNuItKXvQT+ZD0L0gOyeuL5rFmsonrogtk12E+gYbso8R1zdQwnaI72eBktRyI9R36E8l\n",
       "yM6J69Pr2AzxfWPk91lofelNuT5GXJ/5Hi21L/6C+RJ2qA/VmuRjxPWlrrt9FcuatCyvE39AiXaA\n",
       "6L30ju8bA2bzYoqW9XXDshpKEvg+KOvTSxgmZMv2fIr6jHbNzd6phpNOP2eUviNgjpChOiI3Cp8T\n",
       "+ABMZUh2TjxfrI4llU+bKC7R1Z3O46rAfYazrH/B/Ev/HZwE6+FcDOXqTp7kirTbbWk3eV3+LvXA\n",
       "iTKqogy9XMnS7JzE3z28FavyDIlM966aY2dID2KScJ2dbZSI/SxW6AaXLHsPEutxllKy4p1Hz7hi\n",
       "T3nZEOcRRp/le9LHQdJpvta/74kT4BFj/9QpRkVTfwAAAABJRU5ErkJggg==\n",
       "\" style=\"display:inline;vertical-align:middle;\" /></a></td></tr>\n",
       "<tr><td>1</td><td>Operation</td><td>operator:&nbsp;4<br>operands:&nbsp;3<br></td><td><a class=\"ProveItLink\" href=\"../0d8c22bd9a6186cc03f8946f1a2b6e722ff15d980/expr.ipynb\"><img src=\"data:image/png;base64,iVBORw0KGgoAAAANSUhEUgAAAHMAAAAQBAMAAADXDV0hAAAAMFBMVEX///92dnbMzMy6uroiIiKq\n",
       "qqrc3NyYmJgyMjIQEBBmZmaIiIhUVFTu7u5EREQAAADaqMZ6AAAAAXRSTlMAQObYZgAAAQhJREFU\n",
       "KM9jYGB4y4AK2Fb1GaCKKAo+RVPDwHcBSNz7iyaaw8D9FdWsBQz2G1DV8L4Har1zBqaVNwFCn2Vg\n",
       "8EcRYfzKwO8AEbkGlThzHmQrN0wrK9TkmRcYzhsgi7AitEbDrN2PVWv/BYb1KFqBAOZgAlqBwP8C\n",
       "mkgPA5FamT6iijBJHCBWK8cDdJGdBkRqXYchwvkXt1aujo6WGR0dYIdxH0AVYVNg4PsOFFnR0eHZ\n",
       "0dGDz9YoBrYEZJH7fyFaCTuYaQEDO4pW/gYGlm9EaU0RFFyCIsJdwGAvgEUr18ofy1G1+v///wVV\n",
       "JGpVK1rkrJrfVYCUpFk3oGcPTJFoBqyAeQNhEWskNgDB1nAlS+D6+QAAAABJRU5ErkJggg==\n",
       "\" style=\"display:inline;vertical-align:middle;\" /></a></td></tr>\n",
       "<tr><td>2</td><td>Operation</td><td>operator:&nbsp;4<br>operands:&nbsp;5<br></td><td><a class=\"ProveItLink\" href=\"../6d2cb72bd5421345a2cf090f6cdb3ee353f1e90f0/expr.ipynb\"><img src=\"data:image/png;base64,iVBORw0KGgoAAAANSUhEUgAAAFAAAAAQBAMAAABzZ+XyAAAAMFBMVEX///+YmJju7u4QEBBUVFQy\n",
       "MjIiIiKIiIi6urpmZmbc3NyqqqpERER2dnbMzMwAAAB0GlNiAAAAAXRSTlMAQObYZgAAALhJREFU\n",
       "KM9jYHh79zQDKsAUYTjEwMA1gaG/AEUQU4RB5xMDA+9vBv4ECFcLQmGKqLgAFXIjhLdDKEwRBvZP\n",
       "YApm0Xa4VegiUIUhDOgK0UXACvmuOqAJY4pATSxuQDcRXQSqkPkTukJ0EZBCrgcMPB+B7Kmhocmh\n",
       "oSDHYYqAFep/gggj9GOKgBXyBzCw/UIRxhQBK2QXYOi/gCKMKQLxzM6Z0WiBgSHCOfnrROSo346e\n",
       "ZrCIgEE7PhEAC8JNcc1sdQAAAAAASUVORK5CYII=\n",
       "\" style=\"display:inline;vertical-align:middle;\" /></a></td></tr>\n",
       "<tr><td>3</td><td>ExprTuple</td><td>8, 6, 7, 8</td><td><a class=\"ProveItLink\" href=\"../0a3582afc22049f27c7d5cd6dbf4696e6621121f0/expr.ipynb\"><img src=\"data:image/png;base64,iVBORw0KGgoAAAANSUhEUgAAAFEAAAAVBAMAAADMaB9/AAAAMFBMVEX////c3NwiIiJERESqqqqY\n",
       "mJh2dnZmZmYQEBDu7u4yMjJUVFTMzMyIiIi6uroAAAAs73DqAAAAAXRSTlMAQObYZgAAAWRJREFU\n",
       "KM+N061Pw0AYBvBnX3S3rk1REyCmsGAQGNb/gGKQhIRkU4QZGJlCYDBrE8wSBEsIIQQzPzEUCAQz\n",
       "KEgGSNRAkGzJVu7a6/VaBL2kfZ9efk3b965A8qEPEqBtdnqkR8bhM6Xmuh+K1V0zYGuAckfrDUAq\n",
       "XKa6GPqgBH3K4dmYnjqANgDp9blUHaRHXto38e3PnfeY3ALyDA25zJ9CnXlpQ0hoTLaBT0iyMIYy\n",
       "C750KsuMiUNZ0pEe81DoynKujquYfNrx6/0tZJntoBWTlwK0ZKkfYxaVyoq4x3YkWRzF5Quvi0DF\n",
       "isqTiMzWMc8qcZ2opE9fDaSHH4BNL02AZYOEMtdBjUvCGp1aqtbKXnqG/oOLstylD1oa9rVFbIM2\n",
       "03XdspeyjaaJ9hf7xqPJAe3uG/JGsCYG/qR30Qi6mjneaeTEbJgskfb8Xfe/JHTXYYFfhFtfJE1M\n",
       "qeyFUkn+jlfgFxSLaVyxKrEHAAAAAElFTkSuQmCC\n",
       "\" style=\"display:inline;vertical-align:middle;\" /></a></td></tr>\n",
       "<tr><td>4</td><td>Literal</td><td></td><td><a class=\"ProveItLink\" href=\"../3e6688136fa3c7aefbebe51301b7c3ebf0b69c440/expr.ipynb\"><img src=\"data:image/png;base64,iVBORw0KGgoAAAANSUhEUgAAAA4AAAAOBAMAAADtZjDiAAAAJFBMVEX///+6urpUVFQQEBAiIiIy\n",
       "MjJmZmaIiIiqqqrc3Nzu7u4AAACgHpL+AAAAAXRSTlMAQObYZgAAAB5JREFUCNdjYGBgWMkAAe2k\n",
       "0Kmhoc6hoUGk6BMHYgAHOwjcado9fwAAAABJRU5ErkJggg==\n",
       "\" style=\"display:inline;vertical-align:middle;\" /></a></td></tr>\n",
       "<tr><td>5</td><td>ExprTuple</td><td>7, 7, 8</td><td><a class=\"ProveItLink\" href=\"../f87de0464c2ce80169785a1c719f425bfba230b10/expr.ipynb\"><img src=\"data:image/png;base64,iVBORw0KGgoAAAANSUhEUgAAAD0AAAAVBAMAAAAHs/uBAAAAMFBMVEX////c3NwiIiJERESqqqqY\n",
       "mJh2dnZmZmYQEBDu7u4yMjJUVFTMzMyIiIi6uroAAAAs73DqAAAAAXRSTlMAQObYZgAAARFJREFU\n",
       "KM+Fki1PxEAQQF+5610L91GP4UeAwOGwKCQ5BQnJJWf4kAg0XIIhQVABgmDwmFMYzEkE4oLEFAiI\n",
       "Igi70+5sE9JQsfNmXna7u7Pw39eb1qotOzzCw/ZyWfHEKrQnJt4QjMiKRTxxlpshhe6U1if9JSl6\n",
       "uri3fhOiMU2teqJr/Tm8SpbpJh2Jb6yxL9mt7tmR+NaIaxM6u3dl1ZP4ZsqJZE8zN9+R+N4RP5JF\n",
       "ufOOxHferA8mNL6K8yupP4bL3FU96for0E+Ze2dMlQofpuwY3CAbxB9USc/3YsL6wRXxaVKl9uH3\n",
       "HszPiBLX54Q/ZO43HJQc6hV6Gkp/a31s+stimfhnpLRgfxTUv69n+AUOo1kRNBhmlQAAAABJRU5E\n",
       "rkJggg==\n",
       "\" style=\"display:inline;vertical-align:middle;\" /></a></td></tr>\n",
       "<tr><td>6</td><td>Literal</td><td></td><td><a class=\"ProveItLink\" href=\"../../../numeral/__pv_it/77d407a64829263cdc16415becd4c2293f77a4bf0/expr.ipynb\"><img src=\"data:image/png;base64,iVBORw0KGgoAAAANSUhEUgAAAAkAAAAOBAMAAAAPuiubAAAAMFBMVEX///+YmJh2dnbMzMwQEBAi\n",
       "IiLu7u6qqqqIiIhUVFS6urpEREQyMjJmZmbc3NwAAACOMKdoAAAAAXRSTlMAQObYZgAAAFBJREFU\n",
       "CNdj4Lt7egEDw0sGju8MDNMYGOIZGFwSGOYvYDifwHAfKAEUSQASzJ9ATJ4NIPI2iOCYACJrGfge\n",
       "MDBfYGB8wPBUSekqUPH//18ZAIliFhc3zESNAAAAAElFTkSuQmCC\n",
       "\" style=\"display:inline;vertical-align:middle;\" /></a></td></tr>\n",
       "<tr><td>7</td><td>Literal</td><td></td><td><a class=\"ProveItLink\" href=\"../../../numeral/__pv_it/9176d93c83afa2c995b614976e3cb49207102fa70/expr.ipynb\"><img src=\"data:image/png;base64,iVBORw0KGgoAAAANSUhEUgAAAAoAAAAOBAMAAADkjZCYAAAAMFBMVEX///+YmJju7u4QEBBUVFQy\n",
       "MjIiIiKIiIi6urpmZmbc3NyqqqpERER2dnbMzMwAAAB0GlNiAAAAAXRSTlMAQObYZgAAAE1JREFU\n",
       "CNdjYHh79zQDA9cEhv4CBt7fDPwJDNxgEgiAIkAQAsR8Vx1ATIbiBhDJ/ImB6wEDz0cG/U8gkj+A\n",
       "ge0XA7sAQ/8FBoadM6MZAEflFACalZ/OAAAAAElFTkSuQmCC\n",
       "\" style=\"display:inline;vertical-align:middle;\" /></a></td></tr>\n",
       "<tr><td>8</td><td>Literal</td><td></td><td><a class=\"ProveItLink\" href=\"../../../numeral/__pv_it/9be8badea4c35b9724062cecc501d17a3158d1d20/expr.ipynb\"><img src=\"data:image/png;base64,iVBORw0KGgoAAAANSUhEUgAAAAgAAAAPBAMAAAArJJMAAAAAHlBMVEX///+YmJgyMjIQEBBmZmaI\n",
       "iIhUVFTu7u5EREQAAAAw+MI4AAAAAXRSTlMAQObYZgAAACFJREFUCNdjYGBoZ2BgqJjOwFCWBiQY\n",
       "WEklWJwnOTKAAACjEQo8HvEr3AAAAABJRU5ErkJggg==\n",
       "\" style=\"display:inline;vertical-align:middle;\" /></a></td></tr>\n",
       "</table>\n"
      ],
      "text/plain": [
       "0. (1 + 2 + 3 + 1 , 3 + 3 + 1)\n",
       "   core type: ExprTuple\n",
       "   sub-expressions: 1, 2\n",
       "1. 1 + 2 + 3 + 1\n",
       "   core type: Operation\n",
       "   operator: 4\n",
       "   operands: 3\n",
       "2. 3 + 3 + 1\n",
       "   core type: Operation\n",
       "   operator: 4\n",
       "   operands: 5\n",
       "3. (1 , 2 , 3 , 1)\n",
       "   core type: ExprTuple\n",
       "   sub-expressions: 8, 6, 7, 8\n",
       "4. +\n",
       "   core type: Literal\n",
       "   sub-expressions: \n",
       "5. (3 , 3 , 1)\n",
       "   core type: ExprTuple\n",
       "   sub-expressions: 7, 7, 8\n",
       "6. 2\n",
       "   core type: Literal\n",
       "   sub-expressions: \n",
       "7. 3\n",
       "   core type: Literal\n",
       "   sub-expressions: \n",
       "8. 1\n",
       "   core type: Literal\n",
       "   sub-expressions: "
      ]
     },
     "execution_count": 4,
     "metadata": {},
     "output_type": "execute_result"
    }
   ],
   "source": [
    "# display the expression information\n",
    "expr.exprInfo()"
   ]
  },
  {
   "cell_type": "code",
   "execution_count": null,
   "metadata": {},
   "outputs": [],
   "source": []
  }
 ],
 "metadata": {
  "kernelspec": {
   "display_name": "Python 3",
   "language": "python",
   "name": "python3"
  }
 },
 "nbformat": 4,
 "nbformat_minor": 0
}
