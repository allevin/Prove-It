{
 "cells": [
  {
   "cell_type": "markdown",
   "metadata": {},
   "source": [
    "Expression of type <a class=\"ProveItLink\" href=\"../../../../../../doc/html/api/proveit.logic.Set.html\">Set</a>\n",
    "=======================\n",
    "# from context <a class=\"ProveItLink\" href=\"../../_context_.ipynb\">proveit.number.addition</a>"
   ]
  },
  {
   "cell_type": "code",
   "execution_count": 1,
   "metadata": {},
   "outputs": [],
   "source": [
    "# import Expression classes needed to build the expression\n",
    "from proveit.logic import InSet, Set\n",
    "from proveit.number import RealsPos, one"
   ]
  },
  {
   "cell_type": "code",
   "execution_count": 2,
   "metadata": {},
   "outputs": [
    {
     "data": {
      "text/html": [
       "<strong id=\"expr\">expr:</strong> <a class=\"ProveItLink\" href=\"expr.ipynb\"><img src=\"data:image/png;base64,iVBORw0KGgoAAAANSUhEUgAAAFUAAAAbBAMAAAD/id51AAAAMFBMVEX///+6urp2dnaqqqoiIiIQ\n",
       "EBBERETu7u6IiIjc3NwyMjJUVFSYmJhmZmbMzMwAAAD0pS5FAAAAAXRSTlMAQObYZgAAASpJREFU\n",
       "OMtjYCAEmJE5fHfwqmUDa7gI4eyaQFgtw7QEEMnxnYEItQyxIIJ7AVFqsxBq2QpQVZz6lr8qqgFJ\n",
       "7S64WvZ8NLUMCbMZnllNYNi1aumqVQ3Iatl378dQO5eBrTIBm7kM/VC17F0uLgugapke4Ff76jjC\n",
       "XEy1bAlIajnTkdzAjeEG1gYktWwTkNSKnALxuCH880AFnKsZkNSWIfw21cXLAMmvvCsZGI48QFYr\n",
       "6uIC95ssaphPaWBg9kBW+xopzHjlNiAp5XEGEvUHkNSWIIfv8h4ktfYT0MOB+wCS2tfcDxBqMcOX\n",
       "3RFJLZNBJja1d+PXQkycdQ+edvIYlq03wGYuHFgvccGaSHcRk37poZYpgCi13uBgWk2MUl53SOzt\n",
       "IayUOYeBNAAAP+dksAuv93AAAAAASUVORK5CYII=\n",
       "\" style=\"display:inline;vertical-align:middle;\" /></a><br>"
      ],
      "text/plain": [
       "expr: {1 in RealsPos}"
      ]
     },
     "execution_count": 2,
     "metadata": {},
     "output_type": "execute_result"
    }
   ],
   "source": [
    "# build up the expression from sub-expressions\n",
    "expr = Set(InSet(one, RealsPos))"
   ]
  },
  {
   "cell_type": "code",
   "execution_count": 3,
   "metadata": {},
   "outputs": [
    {
     "name": "stdout",
     "output_type": "stream",
     "text": [
      "Passed sanity check: built 'expr' is the same as the stored Expression.\n"
     ]
    }
   ],
   "source": [
    "# check that the built expression is the same as the stored expression\n",
    "%check_expr"
   ]
  },
  {
   "cell_type": "code",
   "execution_count": 4,
   "metadata": {},
   "outputs": [
    {
     "data": {
      "text/html": [
       "<table><tr><th>&nbsp;</th><th>core type</th><th>sub-expressions</th><th>expression</th></tr>\n",
       "<tr><td>0</td><td>Operation</td><td>operator:&nbsp;1<br>operands:&nbsp;2<br></td><td><a class=\"ProveItLink\" href=\"expr.ipynb\"><img src=\"data:image/png;base64,iVBORw0KGgoAAAANSUhEUgAAAFUAAAAbBAMAAAD/id51AAAAMFBMVEX///+6urp2dnaqqqoiIiIQ\n",
       "EBBERETu7u6IiIjc3NwyMjJUVFSYmJhmZmbMzMwAAAD0pS5FAAAAAXRSTlMAQObYZgAAASpJREFU\n",
       "OMtjYCAEmJE5fHfwqmUDa7gI4eyaQFgtw7QEEMnxnYEItQyxIIJ7AVFqsxBq2QpQVZz6lr8qqgFJ\n",
       "7S64WvZ8NLUMCbMZnllNYNi1aumqVQ3Iatl378dQO5eBrTIBm7kM/VC17F0uLgugapke4Ff76jjC\n",
       "XEy1bAlIajnTkdzAjeEG1gYktWwTkNSKnALxuCH880AFnKsZkNSWIfw21cXLAMmvvCsZGI48QFYr\n",
       "6uIC95ssaphPaWBg9kBW+xopzHjlNiAp5XEGEvUHkNSWIIfv8h4ktfYT0MOB+wCS2tfcDxBqMcOX\n",
       "3RFJLZNBJja1d+PXQkycdQ+edvIYlq03wGYuHFgvccGaSHcRk37poZYpgCi13uBgWk2MUl53SOzt\n",
       "IayUOYeBNAAAP+dksAuv93AAAAAASUVORK5CYII=\n",
       "\" style=\"display:inline;vertical-align:middle;\" /></a></td></tr>\n",
       "<tr><td>1</td><td>Literal</td><td></td><td><a class=\"ProveItLink\" href=\"../../../../logic/set_theory/enumeration/__pv_it/07381ed5b23806e8d7914b78cb6667769e3708dd0/expr.ipynb\"><img src=\"data:image/png;base64,iVBORw0KGgoAAAANSUhEUgAAAB4AAAAOBAMAAADKyLEKAAAAMFBMVEX///8iIiIQEBCIiIjMzMzc\n",
       "3Nyqqqp2dnZEREQyMjK6urru7u5mZmZUVFSYmJgAAACI6eGPAAAAAXRSTlMAQObYZgAAALRJREFU\n",
       "CNdjYGDgu3Nm3wIGBJjHwN0PZW5yYGDgLWBgyITy8zcwMMQDxZyh/INAvD6BgcEFypcB4vjPDiBm\n",
       "TPFRrhs/LjMwMP//38rAwCbKEMPA9gEkE3fp0waG+AUMRxh4JkC01T9guPTOOICBEWgVH5C//wHD\n",
       "H5D4fqCz9oCMDGD4DLaegRXslLMMDMpAgxlOMmQxHDRgYG5gYLBk4D7KcIe7gOHC2rt9QCXsh40Z\n",
       "GCKMGQDRkC8N/Ph1XAAAAABJRU5ErkJggg==\n",
       "\" style=\"display:inline;vertical-align:middle;\" /></a></td></tr>\n",
       "<tr><td>2</td><td>ExprTuple</td><td>3</td><td><a class=\"ProveItLink\" href=\"../53a259b98dada6100bdddbae1b87ef6650076ce70/expr.ipynb\"><img src=\"data:image/png;base64,iVBORw0KGgoAAAANSUhEUgAAAE4AAAAbBAMAAAAgx6RqAAAAMFBMVEX///+qqqp2dnYiIiJERESI\n",
       "iIhmZmYQEBDc3NyYmJgyMjLu7u5UVFTMzMy6uroAAACGxKilAAAAAXRSTlMAQObYZgAAAU5JREFU\n",
       "OMtjYMAPGBHMd/jUsYAIBRDBe4CgujsgYtcGgupYA4DESQaC6hgsGBg4CkA8NDNnffFfVRWAUBfD\n",
       "wMCWwMDA7Y9ut0MPwxWpBoZTq5avWgVUv38DA/sDBu4z5zHUtTGw7HCAm8c8geE+iI6HquOOMjZe\n",
       "AFXHdAGhjs2BIRxZ3a3ZCPOQ1XF+YDiFpI7DG8leHiR7+X4z+CCpY2lAUvd4FojHA+by/mVYhqRu\n",
       "C8If7cZWAghvcfxjMENS99zYGO6PZ8hhyv0RRd0dpHBhe3sAxbw1SOo2I4ff6kgkdX8ZjiCp45mA\n",
       "pO4OzwW4Or4fDMFI6rjtkNQxCXjA1QHD7z2QSqtfBjGpKxeeDnwZlqyH+5hpAQP/BeR4lVkM8S8a\n",
       "4Apg4FFgIAz2NzDwGhChbgoQOxKhzhbkdsLKOBNAOZSwA1vA5ESC6rIZiAYAadVfPnKhowYAAAAA\n",
       "SUVORK5CYII=\n",
       "\" style=\"display:inline;vertical-align:middle;\" /></a></td></tr>\n",
       "<tr><td>3</td><td>Operation</td><td>operator:&nbsp;4<br>operands:&nbsp;5<br></td><td><a class=\"ProveItLink\" href=\"../0f4aece75b041ade2d3169e147e9e8b2580edac30/expr.ipynb\"><img src=\"data:image/png;base64,iVBORw0KGgoAAAANSUhEUgAAAD4AAAAUBAMAAAAn2JMnAAAAMFBMVEX///92dnaqqqq6urrc3NzM\n",
       "zMwiIiKYmJgyMjIQEBBmZmaIiIhUVFTu7u5EREQAAACNWUPNAAAAAXRSTlMAQObYZgAAALdJREFU\n",
       "KM9jYMADFBjwgwd0kX+LKsje/+5HZzdC/t5fNF18LAdYH7Uw8HR0zOjoZrhzBlN+AcNbP7h+bpj8\n",
       "7ba0DJi8KB+GPGv7BYR+LPJ+F5DMP4tp/hMk+5nTW0CsA0jyvA8Q8tPSmhDOhcozT0tLg7lv8YK3\n",
       "GPKsB5DMXxyDIc+bgCTPcbsAXZ7hOJI864GjGPLXDJD8J8TnAOVxrfyxHMxg6QqAxc+/AI4XnzBi\n",
       "k+kExP0oAAC6t0gUtIuGiAAAAABJRU5ErkJggg==\n",
       "\" style=\"display:inline;vertical-align:middle;\" /></a></td></tr>\n",
       "<tr><td>4</td><td>Literal</td><td></td><td><a class=\"ProveItLink\" href=\"../../../../logic/set_theory/membership/__pv_it/088cbc857536a28d4119ad9639a84270ccb0545d0/expr.ipynb\"><img src=\"data:image/png;base64,iVBORw0KGgoAAAANSUhEUgAAAAwAAAAMBAMAAACkW0HUAAAALVBMVEX///+qqqpmZmZUVFQQEBC6\n",
       "urpERETc3NyYmJjMzMwiIiIyMjKIiIju7u4AAACYsrA9AAAAAXRSTlMAQObYZgAAADxJREFUCNdj\n",
       "YOA9vWrVBgaG2b0MQMCeCyIZ2ArA1DUwyRCyahVIyWQI7xaEYm4AU7xLIdxqTQgtvGvVBgCkcQ7e\n",
       "geM/tQAAAABJRU5ErkJggg==\n",
       "\" style=\"display:inline;vertical-align:middle;\" /></a></td></tr>\n",
       "<tr><td>5</td><td>ExprTuple</td><td>6, 7</td><td><a class=\"ProveItLink\" href=\"../da1605f537b3d7c3081c25dd05766d3bd2cc7c1a0/expr.ipynb\"><img src=\"data:image/png;base64,iVBORw0KGgoAAAANSUhEUgAAAD4AAAAbBAMAAADWjiHyAAAAMFBMVEX///+qqqp2dnYiIiJERESI\n",
       "iIhmZmYQEBDc3NyYmJgyMjLu7u5UVFTMzMy6uroAAACGxKilAAAAAXRSTlMAQObYZgAAAShJREFU\n",
       "KM9jYMAOGBHMd9jkWUCEAojgPYBT/g6I2LUBpzxrAJA4yYBTnsGCgYGjAMTwhojO+uK/qioAIR/D\n",
       "wMCWAKS3/IZqc+hhuCLVwHBq1fJVq4Dq9m9gYH/AwLDnDFy+jYFlhwNcP/MEhvtghyDJM11AyLM5\n",
       "MITjk+f8wHAKXZ4HyXy+3ww+6PKPZzUAGTxgLu9fhmWo8u3GVgKIUOD4x2CGpv8ZC1J4cn/EkGd7\n",
       "ewBF/xp0+1dHIsn/ZTgCk+eGyt/huQCX5/vBEAyT328A9b+AB1we6P/3oGBK/5XJsP0HOH58GZas\n",
       "h/uAaQEDP9y0F5ixzBXAwKMA40zAlN/fwMBrgEd+ChA7QtmsWFKRLRB3MeAEnKC0w6iAU74FTE7E\n",
       "KZ/NQBAAAK1hV8G42XkcAAAAAElFTkSuQmCC\n",
       "\" style=\"display:inline;vertical-align:middle;\" /></a></td></tr>\n",
       "<tr><td>6</td><td>Literal</td><td></td><td><a class=\"ProveItLink\" href=\"../../../numeral/__pv_it/9be8badea4c35b9724062cecc501d17a3158d1d20/expr.ipynb\"><img src=\"data:image/png;base64,iVBORw0KGgoAAAANSUhEUgAAAAgAAAAPBAMAAAArJJMAAAAAHlBMVEX///+YmJgyMjIQEBBmZmaI\n",
       "iIhUVFTu7u5EREQAAAAw+MI4AAAAAXRSTlMAQObYZgAAACFJREFUCNdjYGBoZ2BgqJjOwFCWBiQY\n",
       "WEklWJwnOTKAAACjEQo8HvEr3AAAAABJRU5ErkJggg==\n",
       "\" style=\"display:inline;vertical-align:middle;\" /></a></td></tr>\n",
       "<tr><td>7</td><td>Literal</td><td></td><td><a class=\"ProveItLink\" href=\"../../../sets/real/__pv_it/399ccec6a6e90df280e82734a8711cdb89199bc00/expr.ipynb\"><img src=\"data:image/png;base64,iVBORw0KGgoAAAANSUhEUgAAABsAAAATBAMAAACTqWsLAAAAMFBMVEX///8iIiK6urp2dnbu7u5m\n",
       "ZmaqqqrMzMxUVFTc3NyIiIgQEBBEREQyMjKYmJgAAAA9nvXMAAAAAXRSTlMAQObYZgAAAGxJREFU\n",
       "GNNjYIADNgYUwEMy9+2f83f3LkDIHpjBUJM7gaH37u27d4HCB6Yy8HgeQMhOZWAuwMflQFWs+HYC\n",
       "kMEB4c4WlE1A2H5gqiqPAzKXVb0BmctwZR0Kt4KjAJnLnHASxgN64TjDnftQswFmaSyXIBgH2QAA\n",
       "AABJRU5ErkJggg==\n",
       "\" style=\"display:inline;vertical-align:middle;\" /></a></td></tr>\n",
       "</table>\n"
      ],
      "text/plain": [
       "0. {1 in RealsPos}\n",
       "   core type: Operation\n",
       "   operator: 1\n",
       "   operands: 2\n",
       "1. Set\n",
       "   core type: Literal\n",
       "   sub-expressions: \n",
       "2. (1 in RealsPos)\n",
       "   core type: ExprTuple\n",
       "   sub-expressions: 3\n",
       "3. 1 in RealsPos\n",
       "   core type: Operation\n",
       "   operator: 4\n",
       "   operands: 5\n",
       "4. in\n",
       "   core type: Literal\n",
       "   sub-expressions: \n",
       "5. (1 , RealsPos)\n",
       "   core type: ExprTuple\n",
       "   sub-expressions: 6, 7\n",
       "6. 1\n",
       "   core type: Literal\n",
       "   sub-expressions: \n",
       "7. RealsPos\n",
       "   core type: Literal\n",
       "   sub-expressions: "
      ]
     },
     "execution_count": 4,
     "metadata": {},
     "output_type": "execute_result"
    }
   ],
   "source": [
    "# display the expression information\n",
    "expr.exprInfo()"
   ]
  },
  {
   "cell_type": "code",
   "execution_count": null,
   "metadata": {},
   "outputs": [],
   "source": []
  }
 ],
 "metadata": {
  "kernelspec": {
   "display_name": "Python 3",
   "language": "python",
   "name": "python3"
  }
 },
 "nbformat": 4,
 "nbformat_minor": 0
}
