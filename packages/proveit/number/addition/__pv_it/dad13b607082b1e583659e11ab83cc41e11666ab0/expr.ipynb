{
 "cells": [
  {
   "cell_type": "markdown",
   "metadata": {},
   "source": [
    "Expression of type <a class=\"ProveItLink\" href=\"../../../../../../doc/html/api/proveit.number.Add.html\">Add</a>\n",
    "=======================\n",
    "# from context <a class=\"ProveItLink\" href=\"../../_context_.ipynb\">proveit.number.addition</a>"
   ]
  },
  {
   "cell_type": "code",
   "execution_count": 1,
   "metadata": {},
   "outputs": [],
   "source": [
    "# import Expression classes needed to build the expression\n",
    "from proveit._common_ import a\n",
    "from proveit.number import Add, Mult, one, two"
   ]
  },
  {
   "cell_type": "code",
   "execution_count": 2,
   "metadata": {},
   "outputs": [
    {
     "data": {
      "text/html": [
       "<strong id=\"expr\">expr:</strong> <a class=\"ProveItLink\" href=\"expr.ipynb\"><img src=\"data:image/png;base64,iVBORw0KGgoAAAANSUhEUgAAAFQAAAAVBAMAAAAqQdQ7AAAAMFBMVEX////c3NwiIiJERESqqqqY\n",
       "mJh2dnZmZmYQEBDu7u4yMjJUVFTMzMyIiIi6uroAAAAs73DqAAAAAXRSTlMAQObYZgAAAThJREFU\n",
       "KM9jYCAB8F3AFGN9gFXpaQYG8So7NMEaDGWWQLySgXEDw30HVAkudJWTfzIw8F5g4J7AwPQBzQUJ\n",
       "UMZECDV7N1ApxwQGjk4G7n+oSjkboAxfKM0LVPoKaNtPBnY0pQwmWJSWgVlMP+GKpK+9EGBgSMei\n",
       "dCmYdT4BHnaNDPZAyguL0j4wazHYgROAhHwAQzGQeoFFKdiR7AYgcr4CkNjPwKALsgaX0ttg7gyQ\n",
       "hs8MnH9gSqtWrdJYtWo1TGkLkGYpYBCE6mb8y8DygRO7A0yB9HEGhkBYgH5h4F7gw8AQhUUpMFQY\n",
       "1dLSFWAhsJTBqSABe2A9Agbq////4Uql776xBaardahK2St+lTJwCGBLbhgRi5IwUAAbLBG/RRZd\n",
       "iU3pLKxJWxqb4EasShmxZBjeA1gUAgAKBFO+TNRHZAAAAABJRU5ErkJggg==\n",
       "\" style=\"display:inline;vertical-align:middle;\" /></a><br>"
      ],
      "text/plain": [
       "expr: (2 * a) + 1"
      ]
     },
     "execution_count": 2,
     "metadata": {},
     "output_type": "execute_result"
    }
   ],
   "source": [
    "# build up the expression from sub-expressions\n",
    "expr = Add(Mult(two, a), one)"
   ]
  },
  {
   "cell_type": "code",
   "execution_count": 3,
   "metadata": {},
   "outputs": [
    {
     "name": "stdout",
     "output_type": "stream",
     "text": [
      "Passed sanity check: built 'expr' is the same as the stored Expression.\n"
     ]
    }
   ],
   "source": [
    "# check that the built expression is the same as the stored expression\n",
    "%check_expr"
   ]
  },
  {
   "cell_type": "code",
   "execution_count": 4,
   "metadata": {},
   "outputs": [
    {
     "data": {
      "text/html": [
       "<table><tr><th>&nbsp;</th><th>core type</th><th>sub-expressions</th><th>expression</th></tr>\n",
       "<tr><td>0</td><td>Operation</td><td>operator:&nbsp;1<br>operands:&nbsp;2<br></td><td><a class=\"ProveItLink\" href=\"expr.ipynb\"><img src=\"data:image/png;base64,iVBORw0KGgoAAAANSUhEUgAAAFQAAAAVBAMAAAAqQdQ7AAAAMFBMVEX////c3NwiIiJERESqqqqY\n",
       "mJh2dnZmZmYQEBDu7u4yMjJUVFTMzMyIiIi6uroAAAAs73DqAAAAAXRSTlMAQObYZgAAAThJREFU\n",
       "KM9jYCAB8F3AFGN9gFXpaQYG8So7NMEaDGWWQLySgXEDw30HVAkudJWTfzIw8F5g4J7AwPQBzQUJ\n",
       "UMZECDV7N1ApxwQGjk4G7n+oSjkboAxfKM0LVPoKaNtPBnY0pQwmWJSWgVlMP+GKpK+9EGBgSMei\n",
       "dCmYdT4BHnaNDPZAyguL0j4wazHYgROAhHwAQzGQeoFFKdiR7AYgcr4CkNjPwKALsgaX0ttg7gyQ\n",
       "hs8MnH9gSqtWrdJYtWo1TGkLkGYpYBCE6mb8y8DygRO7A0yB9HEGhkBYgH5h4F7gw8AQhUUpMFQY\n",
       "1dLSFWAhsJTBqSABe2A9Agbq////4Uql776xBaardahK2St+lTJwCGBLbhgRi5IwUAAbLBG/RRZd\n",
       "iU3pLKxJWxqb4EasShmxZBjeA1gUAgAKBFO+TNRHZAAAAABJRU5ErkJggg==\n",
       "\" style=\"display:inline;vertical-align:middle;\" /></a></td></tr>\n",
       "<tr><td>1</td><td>Literal</td><td></td><td><a class=\"ProveItLink\" href=\"../3e6688136fa3c7aefbebe51301b7c3ebf0b69c440/expr.ipynb\"><img src=\"data:image/png;base64,iVBORw0KGgoAAAANSUhEUgAAAA4AAAAOBAMAAADtZjDiAAAAJFBMVEX///+6urpUVFQQEBAiIiIy\n",
       "MjJmZmaIiIiqqqrc3Nzu7u4AAACgHpL+AAAAAXRSTlMAQObYZgAAAB5JREFUCNdjYGBgWMkAAe2k\n",
       "0Kmhoc6hoUGk6BMHYgAHOwjcado9fwAAAABJRU5ErkJggg==\n",
       "\" style=\"display:inline;vertical-align:middle;\" /></a></td></tr>\n",
       "<tr><td>2</td><td>ExprTuple</td><td>3, 4</td><td><a class=\"ProveItLink\" href=\"../a2e0379e3c629a2849a1e87c36a3398b45f79f190/expr.ipynb\"><img src=\"data:image/png;base64,iVBORw0KGgoAAAANSUhEUgAAAEMAAAAVBAMAAADvM06qAAAAMFBMVEX////c3NwiIiJERESqqqqY\n",
       "mJh2dnZmZmYQEBDu7u4yMjJUVFTMzMyIiIi6uroAAAAs73DqAAAAAXRSTlMAQObYZgAAATFJREFU\n",
       "KM9jYCAC8F3AJxsHIk4zMIhX2WGVt2RgYD8ApFcyMG5guO+ARcXkn0BiAQMD7wUG7gkMTB8wVcze\n",
       "DVISxsDAMYGBo5OB+x8WU3hBSmYwMLxiYOD6ycCOUwmzA0MZmMf0Ey4hfe2FAJIStgKGpWDe+QR4\n",
       "GDQy2CObwrKAoQ/MWwwiOCcACfkAhmJkJXwNDGBHsBuAyPkKQGI/A4MushKeDxAlt8FCM0AKPzNw\n",
       "/kFT0gKyr4BBECrM+JeB5QMnqkWmQOo4A0MgVAnnFwbuBT4ME+BKWBcwpAN1qqWlK8B8tJTBqSCB\n",
       "8xOypx8BA+X///9wJdJ339g+4OwHBg17xa9SYLg+YOAQwJpC4KLACGBNwKaEFc7KBScGfEo4F4As\n",
       "x6YEnhK5QTYy4k2YdxgYAPmpTmNDrBOVAAAAAElFTkSuQmCC\n",
       "\" style=\"display:inline;vertical-align:middle;\" /></a></td></tr>\n",
       "<tr><td>3</td><td>Operation</td><td>operator:&nbsp;5<br>operands:&nbsp;6<br></td><td><a class=\"ProveItLink\" href=\"../bcb109db2c8fde300a6e6bc5d9744dc20415a7630/expr.ipynb\"><img src=\"data:image/png;base64,iVBORw0KGgoAAAANSUhEUgAAACMAAAAOBAMAAABXxbiCAAAAMFBMVEX///+YmJh2dnbMzMwQEBAi\n",
       "IiLu7u6qqqqIiIhUVFS6urpEREQyMjJmZmbc3NwAAACOMKdoAAAAAXRSTlMAQObYZgAAAJVJREFU\n",
       "GNNj4Lt7egEDKnjJwPEdTWgaA0M8mpBLAsN8NJ3nExjuoxsG1JgAY/HN0PID0cyf4JJLHnB/ANE8\n",
       "G0BkGkjRRwZeMOc2iGD7CiQ4PzCwNgBpjglgIW8gwb+BId8ASNcy8D2AGvW+gaGeIYGB+QIDI0wo\n",
       "v4BhDrsBw1MlpaswC3kE2GOZgI76//8rwlld1l0MADJIJnXb25zTAAAAAElFTkSuQmCC\n",
       "\" style=\"display:inline;vertical-align:middle;\" /></a></td></tr>\n",
       "<tr><td>4</td><td>Literal</td><td></td><td><a class=\"ProveItLink\" href=\"../../../numeral/__pv_it/9be8badea4c35b9724062cecc501d17a3158d1d20/expr.ipynb\"><img src=\"data:image/png;base64,iVBORw0KGgoAAAANSUhEUgAAAAgAAAAPBAMAAAArJJMAAAAAHlBMVEX///+YmJgyMjIQEBBmZmaI\n",
       "iIhUVFTu7u5EREQAAAAw+MI4AAAAAXRSTlMAQObYZgAAACFJREFUCNdjYGBoZ2BgqJjOwFCWBiQY\n",
       "WEklWJwnOTKAAACjEQo8HvEr3AAAAABJRU5ErkJggg==\n",
       "\" style=\"display:inline;vertical-align:middle;\" /></a></td></tr>\n",
       "<tr><td>5</td><td>Literal</td><td></td><td><a class=\"ProveItLink\" href=\"../../../multiplication/__pv_it/21fd2079611555ecce512d99547a00d551e6b86b0/expr.ipynb\"><img src=\"data:image/png;base64,iVBORw0KGgoAAAANSUhEUgAAAAMAAAADBAMAAACkBqiMAAAAElBMVEX///9EREQQEBAiIiLu7u4A\n",
       "AABGBidwAAAAAXRSTlMAQObYZgAAABFJREFUCNdjYHFgcDVgcBIAAASWAQx4jI0xAAAAAElFTkSu\n",
       "QmCC\n",
       "\" style=\"display:inline;vertical-align:middle;\" /></a></td></tr>\n",
       "<tr><td>6</td><td>ExprTuple</td><td>7, 8</td><td><a class=\"ProveItLink\" href=\"../b5379faab47abff4b5f281502db718a96e183d9f0/expr.ipynb\"><img src=\"data:image/png;base64,iVBORw0KGgoAAAANSUhEUgAAACsAAAAVBAMAAAAtAwouAAAAMFBMVEX////c3NwiIiJERESqqqqY\n",
       "mJh2dnZmZmYQEBDu7u4yMjJUVFTMzMyIiIi6uroAAAAs73DqAAAAAXRSTlMAQObYZgAAAQ5JREFU\n",
       "GNNjYMAB+C6gi8SBiNMMDOJVdsjC7AeAxEoGxg0M9x2QxRcwMPBeYOCewMD0AVk4jIGBYwIDRycD\n",
       "9z9k4RkMDK8YGLh+MrCjCDM7MJSBGUw/IQKMe/MaGRjYChiWgrnnEyDCLwSYgbawLGDoA3MXQxV/\n",
       "ZWA3AHqlgQFsKIgNAtwfGJiAvuP5ABG+DbWL34Bh/gGwcAuQx1LAIAgWlr/A4M8wAWSIKZB3nIEh\n",
       "EMhjYJjvwLCL5QAD6wKGdKBFamnpCpyfgMJcASzqbGAHPgI6+v///wqc/QIgZ987fA8o+4CBQwAW\n",
       "wALInmeFeoSBFeH5XHDAogtzAgOWQRrKQUQSN8g4RoxIu8PAAABqUT0EX21vWwAAAABJRU5ErkJg\n",
       "gg==\n",
       "\" style=\"display:inline;vertical-align:middle;\" /></a></td></tr>\n",
       "<tr><td>7</td><td>Literal</td><td></td><td><a class=\"ProveItLink\" href=\"../../../numeral/__pv_it/77d407a64829263cdc16415becd4c2293f77a4bf0/expr.ipynb\"><img src=\"data:image/png;base64,iVBORw0KGgoAAAANSUhEUgAAAAkAAAAOBAMAAAAPuiubAAAAMFBMVEX///+YmJh2dnbMzMwQEBAi\n",
       "IiLu7u6qqqqIiIhUVFS6urpEREQyMjJmZmbc3NwAAACOMKdoAAAAAXRSTlMAQObYZgAAAFBJREFU\n",
       "CNdj4Lt7egEDw0sGju8MDNMYGOIZGFwSGOYvYDifwHAfKAEUSQASzJ9ATJ4NIPI2iOCYACJrGfge\n",
       "MDBfYGB8wPBUSekqUPH//18ZAIliFhc3zESNAAAAAElFTkSuQmCC\n",
       "\" style=\"display:inline;vertical-align:middle;\" /></a></td></tr>\n",
       "<tr><td>8</td><td>Variable</td><td></td><td><a class=\"ProveItLink\" href=\"../../../../__pv_it/07527342713064c87612d00d8557c53d53d5324a0/expr.ipynb\"><img src=\"data:image/png;base64,iVBORw0KGgoAAAANSUhEUgAAAAsAAAAJBAMAAAAWSsseAAAAMFBMVEX///8yMjKqqqrMzMzu7u4i\n",
       "IiJmZmaYmJhEREQQEBC6urp2dnaIiIhUVFTc3NwAAAD87Fq/AAAAAXRSTlMAQObYZgAAAEhJREFU\n",
       "CNdjYOC7s2seAwPDygccHxgY+L4zsDUwMPB+YGA9wMDA38Dgb8DA8P4Agz6DA4O/AsNFJgMGxgKm\n",
       "MG6gyjunLE4xAAAZTBA5TB6DCwAAAABJRU5ErkJggg==\n",
       "\" style=\"display:inline;vertical-align:middle;\" /></a></td></tr>\n",
       "</table>\n"
      ],
      "text/plain": [
       "0. (2 * a) + 1\n",
       "   core type: Operation\n",
       "   operator: 1\n",
       "   operands: 2\n",
       "1. +\n",
       "   core type: Literal\n",
       "   sub-expressions: \n",
       "2. (2 * a , 1)\n",
       "   core type: ExprTuple\n",
       "   sub-expressions: 3, 4\n",
       "3. 2 * a\n",
       "   core type: Operation\n",
       "   operator: 5\n",
       "   operands: 6\n",
       "4. 1\n",
       "   core type: Literal\n",
       "   sub-expressions: \n",
       "5. *\n",
       "   core type: Literal\n",
       "   sub-expressions: \n",
       "6. (2 , a)\n",
       "   core type: ExprTuple\n",
       "   sub-expressions: 7, 8\n",
       "7. 2\n",
       "   core type: Literal\n",
       "   sub-expressions: \n",
       "8. a\n",
       "   core type: Variable\n",
       "   sub-expressions: "
      ]
     },
     "execution_count": 4,
     "metadata": {},
     "output_type": "execute_result"
    }
   ],
   "source": [
    "# display the expression information\n",
    "expr.exprInfo()"
   ]
  },
  {
   "cell_type": "code",
   "execution_count": null,
   "metadata": {},
   "outputs": [],
   "source": []
  }
 ],
 "metadata": {
  "kernelspec": {
   "display_name": "Python 3",
   "language": "python",
   "name": "python3"
  }
 },
 "nbformat": 4,
 "nbformat_minor": 0
}
