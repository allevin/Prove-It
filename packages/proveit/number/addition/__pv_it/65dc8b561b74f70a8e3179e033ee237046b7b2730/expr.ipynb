{
 "cells": [
  {
   "cell_type": "markdown",
   "metadata": {},
   "source": [
    "Expression of type <a class=\"ProveItLink\" href=\"../../../../../../doc/html/api/proveit.logic.Set.html\">Set</a>\n",
    "=======================\n",
    "# from context <a class=\"ProveItLink\" href=\"../../_context_.ipynb\">proveit.number.addition</a>"
   ]
  },
  {
   "cell_type": "code",
   "execution_count": 1,
   "metadata": {},
   "outputs": [],
   "source": [
    "# import Expression classes needed to build the expression\n",
    "from proveit._common_ import b, c\n",
    "from proveit.logic import InSet, Set\n",
    "from proveit.number import Reals"
   ]
  },
  {
   "cell_type": "code",
   "execution_count": 2,
   "metadata": {},
   "outputs": [
    {
     "data": {
      "text/html": [
       "<strong id=\"expr\">expr:</strong> <a class=\"ProveItLink\" href=\"expr.ipynb\"><img src=\"data:image/png;base64,iVBORw0KGgoAAAANSUhEUgAAAH8AAAAVBAMAAACd/CwcAAAAMFBMVEX////c3NxERESqqqpUVFS6\n",
       "urrMzMwyMjIQEBCIiIh2dnYiIiLu7u5mZmaYmJgAAABXZE4RAAAAAXRSTlMAQObYZgAAAedJREFU\n",
       "OMtjYGDgu8dAHmBbJQCieHYxkAvYmkEk5wegIR4bUKWef9Ivb5+AQx9fvdL3ikoQ6zqI4GoAEuwO\n",
       "aIoURBiSzAVwmMDE6MCmXAhkrIAbwG+AboAsA9NBBZwGXGDQEUIxIP4AROpk9e7tMAO4EtAM4Jm+\n",
       "e3cBzIBlTCgGrIaGSt0BhAswDEh/g+QCNANKZvqB2EIHkLzAAvMCz6qZCUCKUQfZCz5wL/ACXcXz\n",
       "iYEfpEYROQyin0MDMSOAHRRJTAJIBrDuAwXie4g0AwPzHwaOBUBzEG5WkNi9HRqwPJ0MTA+A9CGk\n",
       "QOzeXQxisF9gYEhpg7iCH8hm7d69Gx6IsUxQ/7B8gNARQElYIF69APGPOtDkCKDbuS8wxAOZbA5I\n",
       "XuANg/L4oe5KQY7Gq2Ae9wKQBQXgZHAfaB/PBuQwqJkHYcpDU+RpZAPYTz6AhQEXUBcwBLtAbD9k\n",
       "A1JYEhh4QC4AKgWpZnmAZACbgxtyNLIY8ILdezoAyQAuA0WG80DTWS4AkwQoMLciR+NiUKTADeDx\n",
       "hGRpxtoEeGZSYyiqNzjxEci5NXMOWFD8GjwzfUpgV/+MnJBggNkdGgswEIjMMamGxAIcYBqAAR7g\n",
       "LRDABvBRYAC4PODZiUcFJ/4SqRUSJospKRMBdAKGNStbDhwAAAAASUVORK5CYII=\n",
       "\" style=\"display:inline;vertical-align:middle;\" /></a><br>"
      ],
      "text/plain": [
       "expr: {b in Reals , c in Reals}"
      ]
     },
     "execution_count": 2,
     "metadata": {},
     "output_type": "execute_result"
    }
   ],
   "source": [
    "# build up the expression from sub-expressions\n",
    "expr = Set(InSet(b, Reals), InSet(c, Reals))"
   ]
  },
  {
   "cell_type": "code",
   "execution_count": 3,
   "metadata": {},
   "outputs": [
    {
     "name": "stdout",
     "output_type": "stream",
     "text": [
      "Passed sanity check: built 'expr' is the same as the stored Expression.\n"
     ]
    }
   ],
   "source": [
    "# check that the built expression is the same as the stored expression\n",
    "%check_expr"
   ]
  },
  {
   "cell_type": "code",
   "execution_count": 4,
   "metadata": {},
   "outputs": [
    {
     "data": {
      "text/html": [
       "<table><tr><th>&nbsp;</th><th>core type</th><th>sub-expressions</th><th>expression</th></tr>\n",
       "<tr><td>0</td><td>Operation</td><td>operator:&nbsp;1<br>operands:&nbsp;2<br></td><td><a class=\"ProveItLink\" href=\"expr.ipynb\"><img src=\"data:image/png;base64,iVBORw0KGgoAAAANSUhEUgAAAH8AAAAVBAMAAACd/CwcAAAAMFBMVEX////c3NxERESqqqpUVFS6\n",
       "urrMzMwyMjIQEBCIiIh2dnYiIiLu7u5mZmaYmJgAAABXZE4RAAAAAXRSTlMAQObYZgAAAedJREFU\n",
       "OMtjYGDgu8dAHmBbJQCieHYxkAvYmkEk5wegIR4bUKWef9Ivb5+AQx9fvdL3ikoQ6zqI4GoAEuwO\n",
       "aIoURBiSzAVwmMDE6MCmXAhkrIAbwG+AboAsA9NBBZwGXGDQEUIxIP4AROpk9e7tMAO4EtAM4Jm+\n",
       "e3cBzIBlTCgGrIaGSt0BhAswDEh/g+QCNANKZvqB2EIHkLzAAvMCz6qZCUCKUQfZCz5wL/ACXcXz\n",
       "iYEfpEYROQyin0MDMSOAHRRJTAJIBrDuAwXie4g0AwPzHwaOBUBzEG5WkNi9HRqwPJ0MTA+A9CGk\n",
       "QOzeXQxisF9gYEhpg7iCH8hm7d69Gx6IsUxQ/7B8gNARQElYIF69APGPOtDkCKDbuS8wxAOZbA5I\n",
       "XuANg/L4oe5KQY7Gq2Ae9wKQBQXgZHAfaB/PBuQwqJkHYcpDU+RpZAPYTz6AhQEXUBcwBLtAbD9k\n",
       "A1JYEhh4QC4AKgWpZnmAZACbgxtyNLIY8ILdezoAyQAuA0WG80DTWS4AkwQoMLciR+NiUKTADeDx\n",
       "hGRpxtoEeGZSYyiqNzjxEci5NXMOWFD8GjwzfUpgV/+MnJBggNkdGgswEIjMMamGxAIcYBqAAR7g\n",
       "LRDABvBRYAC4PODZiUcFJ/4SqRUSJospKRMBdAKGNStbDhwAAAAASUVORK5CYII=\n",
       "\" style=\"display:inline;vertical-align:middle;\" /></a></td></tr>\n",
       "<tr><td>1</td><td>Literal</td><td></td><td><a class=\"ProveItLink\" href=\"../../../../logic/set_theory/enumeration/__pv_it/07381ed5b23806e8d7914b78cb6667769e3708dd0/expr.ipynb\"><img src=\"data:image/png;base64,iVBORw0KGgoAAAANSUhEUgAAAB4AAAAOBAMAAADKyLEKAAAAMFBMVEX///8iIiIQEBCIiIjMzMzc\n",
       "3Nyqqqp2dnZEREQyMjK6urru7u5mZmZUVFSYmJgAAACI6eGPAAAAAXRSTlMAQObYZgAAALRJREFU\n",
       "CNdjYGDgu3Nm3wIGBJjHwN0PZW5yYGDgLWBgyITy8zcwMMQDxZyh/INAvD6BgcEFypcB4vjPDiBm\n",
       "TPFRrhs/LjMwMP//38rAwCbKEMPA9gEkE3fp0waG+AUMRxh4JkC01T9guPTOOICBEWgVH5C//wHD\n",
       "H5D4fqCz9oCMDGD4DLaegRXslLMMDMpAgxlOMmQxHDRgYG5gYLBk4D7KcIe7gOHC2rt9QCXsh40Z\n",
       "GCKMGQDRkC8N/Ph1XAAAAABJRU5ErkJggg==\n",
       "\" style=\"display:inline;vertical-align:middle;\" /></a></td></tr>\n",
       "<tr><td>2</td><td>ExprTuple</td><td>3, 4</td><td><a class=\"ProveItLink\" href=\"../9bbca8c6703b9a930bd7da167c7ddc62c130223d0/expr.ipynb\"><img src=\"data:image/png;base64,iVBORw0KGgoAAAANSUhEUgAAAHgAAAAVBAMAAAB/IDdlAAAAMFBMVEX////c3NwiIiJERESqqqqY\n",
       "mJh2dnZmZmYQEBDu7u4yMjJUVFTMzMyIiIi6uroAAAAs73DqAAAAAXRSTlMAQObYZgAAAfZJREFU\n",
       "OMulVDtIA0EQffHM53KJESwULQwHNhYSUQtFMLU2aU0lIqaxuEYriSGIhaBEbUQQ//hDjUVAReHA\n",
       "RkyhjYVCINooIqjERgtx9j5xjZxFXLjb3Zl9O2/fzC7wr1Z2WRzOnqVfGuKB/6c9nOvYGrfa077X\n",
       "9LGxQ4Nh+jYBd7JgQaAGp53lFmjBlvQ0LxEK8FIEX7AQXAlhKmAJVtBaQRR64EoAzwndPL8s15tg\n",
       "h1oAFm9kedEEDwhkiOGRpr2627OW+I78C3zezUVmYDRjiP7bmRSzViQ42pJJW+zPqNTZWnnah0Qb\n",
       "EayROwcf8zfyZ74LG4KdZd0sGUI5By6rI8HQiUmg9B2uHtrjm2egSq43RBQnIISon+EEi8urbPCA\n",
       "T8C5CJ9C1RKX5bxg94JxBulF7x/IaQoWVbQzXDBwiYJn2tyT5Gg7n4yZz+CT5lMVTevgUS3NIxRH\n",
       "9PNn3rzSh7VGpU3zYPd8SKPdAqbWGLOmeHBaUiGyyLSMrZRCHNiTPGZVTHpDCjo1jtNZDuwINmKB\n",
       "uEgKpZwJ18Cnqo+JH8Ed2U8GNattXc1fjHas7AVnX2kylLnWjNXD+YuRU91tb8AuXFz9lx4Zapvt\n",
       "lp90Letq5+s1xsrbuoX+utCOS+1KFgeeo6/G2u398ynZZzIV+Qx5VXwBAB156cDtdwUAAAAASUVO\n",
       "RK5CYII=\n",
       "\" style=\"display:inline;vertical-align:middle;\" /></a></td></tr>\n",
       "<tr><td>3</td><td>Operation</td><td>operator:&nbsp;6<br>operands:&nbsp;5<br></td><td><a class=\"ProveItLink\" href=\"../15fb2bb12930eb9e83d19f307ca8613a31e6e8120/expr.ipynb\"><img src=\"data:image/png;base64,iVBORw0KGgoAAAANSUhEUgAAADEAAAAPBAMAAAC/wjryAAAAMFBMVEX////c3NxmZmbMzMxERESY\n",
       "mJiIiIh2dna6urqqqqoyMjIiIiIQEBBUVFTu7u4AAAAiO1wTAAAAAXRSTlMAQObYZgAAAM1JREFU\n",
       "GNNj4LuzgQEFRH3xX3UqAcTiuoAqw+Agy2AySwDI4J+ALiPEwPLQAcjofwAR4MvavXsBVIbdACRT\n",
       "DVVqFYfQA5FZm3YVxGf0QzKNF2Qa3xcGfgMgn0UASaY7Csjj/MfAUwDkP0G4QGb3LpCrmBYw8CsA\n",
       "6Z7du+EuaGIBuYpbgaE/AEjbIrmaqfkCxDv6IBWvkf2zLhUkY8BwHMTnDUCSseUFOop3AhM4ePh2\n",
       "IMmwT3AEilxThQhIKcND1JlhyXrkMJu7GuI2KAAAUFI1u0jGT1kAAAAASUVORK5CYII=\n",
       "\" style=\"display:inline;vertical-align:middle;\" /></a></td></tr>\n",
       "<tr><td>4</td><td>Operation</td><td>operator:&nbsp;6<br>operands:&nbsp;7<br></td><td><a class=\"ProveItLink\" href=\"../b10c95388a44a46aae63ab68515cfd030d8aa7380/expr.ipynb\"><img src=\"data:image/png;base64,iVBORw0KGgoAAAANSUhEUgAAADEAAAAPBAMAAAC/wjryAAAAMFBMVEX///+qqqpmZmbc3NxUVFSY\n",
       "mJhEREQiIiIyMjK6uroQEBDMzMyIiIh2dnbu7u4AAAA4MM1YAAAAAXRSTlMAQObYZgAAALZJREFU\n",
       "GNNjYEAHEd/yO1YcYMAGEkwYtkkYYJUxYmB7nIAkwHeivLwBKsO7AVlmRxxCD0SG7+6ZDUCKOQ/J\n",
       "NBawabsmcBQAKTYDJJnpEUAe3xoGtgAg/xnCBVblFQJAmuUDhD+rvBzugklsD4A0P9QVW5BczTTb\n",
       "AUjbQ737HNk/fUdBeoCWgOxhCUCS2cICdC6LAtD1IMdXIsnwCiQDGbpnzoEFLLThIZrN0NYvgBQI\n",
       "Iu0Qt0EBADmNMo1PEJ+NAAAAAElFTkSuQmCC\n",
       "\" style=\"display:inline;vertical-align:middle;\" /></a></td></tr>\n",
       "<tr><td>5</td><td>ExprTuple</td><td>8, 10</td><td><a class=\"ProveItLink\" href=\"../0a147b031711051fe3792dda0aa2f38c2fa47ff90/expr.ipynb\"><img src=\"data:image/png;base64,iVBORw0KGgoAAAANSUhEUgAAAC0AAAAVBAMAAAAgHXppAAAAMFBMVEX////c3NwiIiJERESqqqqY\n",
       "mJh2dnZmZmYQEBDu7u4yMjJUVFTMzMyIiIi6uroAAAAs73DqAAAAAXRSTlMAQObYZgAAARxJREFU\n",
       "GNNjYMAF+C5gCMWBiNMMnDsUIPyoz/aruoDK2A8AOSsZGLg2QBUaSDMc9hJgYFjAwMALlOd3gImL\n",
       "MzBPNGBgCGNg4JjAwPB+AkKc7QBQfAYDwysgN4kBTZzZgaEMyF19dytcnBtkDlsBw1IGBs7PDPwH\n",
       "YOKPooD2sixg6AOSPxk4EiDiEkpaIDfwNTD8Azp3AQN/AVT9c2aQG3g+gMSZChjeB0DF2d9sgIi3\n",
       "gJ1fPwFm/sqrEHNMGUCWtjFwQsVPcwOdwLqAIZ2BgduBfQPDfAWo+x0Mwe58BHTn3lKgFz+Cw82G\n",
       "YfF6BwauBwwcAlC/PkQKaGA4sCZA2QFI4rmQcEYX5wSGM4M0hM2LpJwbZDYjZjzeYWAAANnCRHNE\n",
       "83/GAAAAAElFTkSuQmCC\n",
       "\" style=\"display:inline;vertical-align:middle;\" /></a></td></tr>\n",
       "<tr><td>6</td><td>Literal</td><td></td><td><a class=\"ProveItLink\" href=\"../../../../logic/set_theory/membership/__pv_it/088cbc857536a28d4119ad9639a84270ccb0545d0/expr.ipynb\"><img src=\"data:image/png;base64,iVBORw0KGgoAAAANSUhEUgAAAAwAAAAMBAMAAACkW0HUAAAALVBMVEX///+qqqpmZmZUVFQQEBC6\n",
       "urpERETc3NyYmJjMzMwiIiIyMjKIiIju7u4AAACYsrA9AAAAAXRSTlMAQObYZgAAADxJREFUCNdj\n",
       "YOA9vWrVBgaG2b0MQMCeCyIZ2ArA1DUwyRCyahVIyWQI7xaEYm4AU7xLIdxqTQgtvGvVBgCkcQ7e\n",
       "geM/tQAAAABJRU5ErkJggg==\n",
       "\" style=\"display:inline;vertical-align:middle;\" /></a></td></tr>\n",
       "<tr><td>7</td><td>ExprTuple</td><td>9, 10</td><td><a class=\"ProveItLink\" href=\"../83cf7012619d6fb694a2c52cbe9376aa4afb595a0/expr.ipynb\"><img src=\"data:image/png;base64,iVBORw0KGgoAAAANSUhEUgAAAC0AAAAVBAMAAAAgHXppAAAAMFBMVEX////c3NwiIiJERESqqqqY\n",
       "mJh2dnZmZmYQEBDu7u4yMjJUVFTMzMyIiIi6uroAAAAs73DqAAAAAXRSTlMAQObYZgAAAQRJREFU\n",
       "GNNjYMAF+C5gCMWBiNMIftRn+1VdQGXsB4CclUgKDaQZDnsJMDAsYGDgRTbGQJyBeaIBA0MYAwPH\n",
       "BFRxtgNA8RkMDK8YsIgzOzCUAbmcaXcPwMS5QeawFTAsBXJPPOBSgIk/igLay7KAoQ+ovJeBOQAi\n",
       "LqGk5QDyUwPDPwYG7g8I858zg9zB8wEkzm+AEGd/swEi3sLAIH8ByT0rr0LMMQWqBxoewAkVP80N\n",
       "dBrrAoZ0oPkFQFfPV4C638EQ7M5HQG7Z3ZsMMz6Cw82GYfF6BwauBwwcAlCzHyL5GxgOrAlQdgCS\n",
       "eC5SOCOJcwLDmUEawuZFUs4NMpsRMx7vMDAAAHdGPoCrhInqAAAAAElFTkSuQmCC\n",
       "\" style=\"display:inline;vertical-align:middle;\" /></a></td></tr>\n",
       "<tr><td>8</td><td>Variable</td><td></td><td><a class=\"ProveItLink\" href=\"../../../../__pv_it/6840a4fa6c106149dc16a131294d0c5e44f1b0480/expr.ipynb\"><img src=\"data:image/png;base64,iVBORw0KGgoAAAANSUhEUgAAAAkAAAAOBAMAAAAPuiubAAAALVBMVEX///9mZmbMzMxERESYmJiI\n",
       "iIh2dna6urqqqqoyMjIiIiIQEBBUVFTu7u4AAAD9S1JeAAAAAXRSTlMAQObYZgAAAE1JREFUCNdj\n",
       "4D29gAEIOA+ASL4GEFl3AURmgQiGOaFHGBh4HzPwKTBwvGXgTmBgnMDAJ8DAJcBQ5wBSLncBJLWN\n",
       "gYGngRFoBO9REQYGAGrcDtUkVqASAAAAAElFTkSuQmCC\n",
       "\" style=\"display:inline;vertical-align:middle;\" /></a></td></tr>\n",
       "<tr><td>9</td><td>Variable</td><td></td><td><a class=\"ProveItLink\" href=\"../../../../__pv_it/cbdfda466482236edba0ce44ac7ef39cda0af7a40/expr.ipynb\"><img src=\"data:image/png;base64,iVBORw0KGgoAAAANSUhEUgAAAAkAAAAJBAMAAAASvxsjAAAALVBMVEX///9mZmbc3NxUVFSYmJhE\n",
       "REQiIiIyMjK6uroQEBDMzMyIiIh2dnbu7u4AAABgFDGoAAAAAXRSTlMAQObYZgAAADZJREFUCNdj\n",
       "YOA9s3sBA8PKBvYEBt7ZDKwODMwPGICALwBE6m0Asx0YGIDiAgw8QJUyu/cyAAAmuwmycZ8WfQAA\n",
       "AABJRU5ErkJggg==\n",
       "\" style=\"display:inline;vertical-align:middle;\" /></a></td></tr>\n",
       "<tr><td>10</td><td>Literal</td><td></td><td><a class=\"ProveItLink\" href=\"../../../sets/real/__pv_it/9e7645ee1117062e179dd6264898f99ed95b157c0/expr.ipynb\"><img src=\"data:image/png;base64,iVBORw0KGgoAAAANSUhEUgAAAA8AAAAOBAMAAAACpFvcAAAAMFBMVEX///8iIiK6urp2dnbu7u5m\n",
       "ZmaqqqrMzMxUVFTc3NyIiIgQEBBEREQyMjKYmJgAAAA9nvXMAAAAAXRSTlMAQObYZgAAAFJJREFU\n",
       "CNdjePvn/N29CxiA4MAMhprcCSDGVAYezwMQBnMBOoMDJqX4Fqx4tqBsAlj7VFUeBwiDVb0BwmC4\n",
       "sg7KqOAogJqTcJKBAWjpcYY79xMAyqEnfsw4ApEAAAAASUVORK5CYII=\n",
       "\" style=\"display:inline;vertical-align:middle;\" /></a></td></tr>\n",
       "</table>\n"
      ],
      "text/plain": [
       "0. {b in Reals , c in Reals}\n",
       "   core type: Operation\n",
       "   operator: 1\n",
       "   operands: 2\n",
       "1. Set\n",
       "   core type: Literal\n",
       "   sub-expressions: \n",
       "2. (b in Reals , c in Reals)\n",
       "   core type: ExprTuple\n",
       "   sub-expressions: 3, 4\n",
       "3. b in Reals\n",
       "   core type: Operation\n",
       "   operator: 6\n",
       "   operands: 5\n",
       "4. c in Reals\n",
       "   core type: Operation\n",
       "   operator: 6\n",
       "   operands: 7\n",
       "5. (b , Reals)\n",
       "   core type: ExprTuple\n",
       "   sub-expressions: 8, 10\n",
       "6. in\n",
       "   core type: Literal\n",
       "   sub-expressions: \n",
       "7. (c , Reals)\n",
       "   core type: ExprTuple\n",
       "   sub-expressions: 9, 10\n",
       "8. b\n",
       "   core type: Variable\n",
       "   sub-expressions: \n",
       "9. c\n",
       "   core type: Variable\n",
       "   sub-expressions: \n",
       "10. Reals\n",
       "    core type: Literal\n",
       "    sub-expressions: "
      ]
     },
     "execution_count": 4,
     "metadata": {},
     "output_type": "execute_result"
    }
   ],
   "source": [
    "# display the expression information\n",
    "expr.exprInfo()"
   ]
  },
  {
   "cell_type": "code",
   "execution_count": null,
   "metadata": {},
   "outputs": [],
   "source": []
  }
 ],
 "metadata": {
  "kernelspec": {
   "display_name": "Python 3",
   "language": "python",
   "name": "python3"
  }
 },
 "nbformat": 4,
 "nbformat_minor": 0
}
