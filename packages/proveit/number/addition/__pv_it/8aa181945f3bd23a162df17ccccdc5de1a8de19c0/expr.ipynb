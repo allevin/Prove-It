{
 "cells": [
  {
   "cell_type": "markdown",
   "metadata": {},
   "source": [
    "Expression of type <a class=\"ProveItLink\" href=\"../../../../../../doc/html/api/proveit.logic.Equals.html\">Equals</a>\n",
    "=======================\n",
    "# from context <a class=\"ProveItLink\" href=\"../../_context_.ipynb\">proveit.number.addition</a>"
   ]
  },
  {
   "cell_type": "code",
   "execution_count": 1,
   "metadata": {},
   "outputs": [],
   "source": [
    "# import Expression classes needed to build the expression\n",
    "from proveit._common_ import a, b, c\n",
    "from proveit.logic import Equals\n",
    "from proveit.number import Add"
   ]
  },
  {
   "cell_type": "code",
   "execution_count": 2,
   "metadata": {},
   "outputs": [
    {
     "data": {
      "text/html": [
       "<strong id=\"expr\">expr:</strong> <a class=\"ProveItLink\" href=\"expr.ipynb\"><img src=\"data:image/png;base64,iVBORw0KGgoAAAANSUhEUgAAAfIAAAAVBAMAAABPiXFtAAAAMFBMVEX////c3NwiIiJERESqqqqY\n",
       "mJh2dnZmZmYQEBDu7u4yMjJUVFTMzMyIiIi6uroAAAAs73DqAAAAAXRSTlMAQObYZgAAA2xJREFU\n",
       "WMPlWE1oE0EUfm022WzSJrkXadBDvQg56FEMHkVpTj14kNCDvVgJij1UwVakoGCJFyn2kFDowRSk\n",
       "gqIIxYAXwUP3pIhNCZ6CWBpoiwSiOLubzO6bN7P5QXNxoEn55s33vjfz5s1MAP7fFjMH7PCKBNsb\n",
       "sIZglX18lHQYb5K9s63e685OLxNoZLPPCIjQbpXfYX/PZB2RfqRsdGlXpO7y/S4eEdql8gjAKEr2\n",
       "x63veLo9hwlxlhOgQg5FFsprtynSXfH34EPIhSoBOW8wC2E03Zda3/ttVBOrAAE4EmuILJTXbiuk\n",
       "+4G/Bx9CLlQJyHmNBfguJZyG3iMPJbuMPJAWi2yx78inOwIK3tMwxz6Htq4vYvONyivB/MnsDgbG\n",
       "PtUSCIlsfc1gFm7CEeNqpQyhnFjzsjI+yXCKcKFKwHZJQ5mBdfZvLRGoI3PjAOLYfGQZ1nBuL8I5\n",
       "PDmFFDQRi2vCZXyoRpKg2Us8X7KaXRUjGRkfHU4RV6gKcFzSUC7AMlvyI9BTiFBrQDiLzFdMOIOA\n",
       "8QzcxEon87CEWFwTrusRBDIQWxDWPFyV8dHhFHGFqgDHJQ2lBr8BonUYNhGhXoR4Dpm/E3cLA05h\n",
       "ZB7gJ2JxTdpI1E6tkboQebwq46PDKeIKVQHRukQ5a9tW5PEUFMpO/p108m84B/tsovRSae1hqWSd\n",
       "kAcOrxcwmhiZgNgRYmmZeJB4Shk55aPDKdIS6gM4Lmko23CfJZEJk5D3ThQ7FO/mvRM19EuYOQZo\n",
       "dQPN5SHoDe+CeEx4utqmTrbfOG61E3a2pyV8dLiE0BWqAsZNqtxqNSvlC2l4q6GywIrEEk4RtppB\n",
       "L2AcQrR4EZk02zusxeIx4bxsOTIQFC9xbCNSPjpcRlgWagsFbJc0lMusurPSqk2E8H5M65s48tcA\n",
       "1xCwDudzuAi+hNt4E7omnDcHIcmpZgGUjw6XEHKhSsB2SUOZgW/Wcb77fhfX4K1bQlnQZyso/WGs\n",
       "8uNsFSGrnzM4cteEHzFzlS9spqviTSYp46PDKeIKVQGOSxrKcwgnfC9LPdzhurlyKW6vi33f4XoA\n",
       "xNtrMOv7Tiavd/qcp8ie//t7lnRPdfjBYK8z0hlAvCFT8Ur9l834m6/UfttTa/MM2mmUvkKHNgct\n",
       "4oXlddC/Ru1IsGMD1jBahj8n/Ij3YoUQSgAAAABJRU5ErkJggg==\n",
       "\" style=\"display:inline;vertical-align:middle;\" /></a><br>"
      ],
      "text/plain": [
       "expr: (a + b + c + a + b + a + c) = (a + a + a + b + b + c + c)"
      ]
     },
     "execution_count": 2,
     "metadata": {},
     "output_type": "execute_result"
    }
   ],
   "source": [
    "# build up the expression from sub-expressions\n",
    "expr = Equals(Add(a, b, c, a, b, a, c), Add(a, a, a, b, b, c, c))"
   ]
  },
  {
   "cell_type": "code",
   "execution_count": 3,
   "metadata": {},
   "outputs": [
    {
     "name": "stdout",
     "output_type": "stream",
     "text": [
      "Passed sanity check: built 'expr' is the same as the stored Expression.\n"
     ]
    }
   ],
   "source": [
    "# check that the built expression is the same as the stored expression\n",
    "%check_expr"
   ]
  },
  {
   "cell_type": "code",
   "execution_count": 4,
   "metadata": {},
   "outputs": [
    {
     "data": {
      "text/html": [
       "<table><tr><th>&nbsp;</th><th>core type</th><th>sub-expressions</th><th>expression</th></tr>\n",
       "<tr><td>0</td><td>Operation</td><td>operator:&nbsp;1<br>operands:&nbsp;2<br></td><td><a class=\"ProveItLink\" href=\"expr.ipynb\"><img src=\"data:image/png;base64,iVBORw0KGgoAAAANSUhEUgAAAfIAAAAVBAMAAABPiXFtAAAAMFBMVEX////c3NwiIiJERESqqqqY\n",
       "mJh2dnZmZmYQEBDu7u4yMjJUVFTMzMyIiIi6uroAAAAs73DqAAAAAXRSTlMAQObYZgAAA2xJREFU\n",
       "WMPlWE1oE0EUfm022WzSJrkXadBDvQg56FEMHkVpTj14kNCDvVgJij1UwVakoGCJFyn2kFDowRSk\n",
       "gqIIxYAXwUP3pIhNCZ6CWBpoiwSiOLubzO6bN7P5QXNxoEn55s33vjfz5s1MAP7fFjMH7PCKBNsb\n",
       "sIZglX18lHQYb5K9s63e685OLxNoZLPPCIjQbpXfYX/PZB2RfqRsdGlXpO7y/S4eEdql8gjAKEr2\n",
       "x63veLo9hwlxlhOgQg5FFsprtynSXfH34EPIhSoBOW8wC2E03Zda3/ttVBOrAAE4EmuILJTXbiuk\n",
       "+4G/Bx9CLlQJyHmNBfguJZyG3iMPJbuMPJAWi2yx78inOwIK3tMwxz6Htq4vYvONyivB/MnsDgbG\n",
       "PtUSCIlsfc1gFm7CEeNqpQyhnFjzsjI+yXCKcKFKwHZJQ5mBdfZvLRGoI3PjAOLYfGQZ1nBuL8I5\n",
       "PDmFFDQRi2vCZXyoRpKg2Us8X7KaXRUjGRkfHU4RV6gKcFzSUC7AMlvyI9BTiFBrQDiLzFdMOIOA\n",
       "8QzcxEon87CEWFwTrusRBDIQWxDWPFyV8dHhFHGFqgDHJQ2lBr8BonUYNhGhXoR4Dpm/E3cLA05h\n",
       "ZB7gJ2JxTdpI1E6tkboQebwq46PDKeIKVQHRukQ5a9tW5PEUFMpO/p108m84B/tsovRSae1hqWSd\n",
       "kAcOrxcwmhiZgNgRYmmZeJB4Shk55aPDKdIS6gM4Lmko23CfJZEJk5D3ThQ7FO/mvRM19EuYOQZo\n",
       "dQPN5SHoDe+CeEx4utqmTrbfOG61E3a2pyV8dLiE0BWqAsZNqtxqNSvlC2l4q6GywIrEEk4RtppB\n",
       "L2AcQrR4EZk02zusxeIx4bxsOTIQFC9xbCNSPjpcRlgWagsFbJc0lMusurPSqk2E8H5M65s48tcA\n",
       "1xCwDudzuAi+hNt4E7omnDcHIcmpZgGUjw6XEHKhSsB2SUOZgW/Wcb77fhfX4K1bQlnQZyso/WGs\n",
       "8uNsFSGrnzM4cteEHzFzlS9spqviTSYp46PDKeIKVQGOSxrKcwgnfC9LPdzhurlyKW6vi33f4XoA\n",
       "xNtrMOv7Tiavd/qcp8ie//t7lnRPdfjBYK8z0hlAvCFT8Ur9l834m6/UfttTa/MM2mmUvkKHNgct\n",
       "4oXlddC/Ru1IsGMD1jBahj8n/Ij3YoUQSgAAAABJRU5ErkJggg==\n",
       "\" style=\"display:inline;vertical-align:middle;\" /></a></td></tr>\n",
       "<tr><td>1</td><td>Literal</td><td></td><td><a class=\"ProveItLink\" href=\"../../../../logic/equality/__pv_it/2fb26078095930560931daa0500ce419a39ea6cd0/expr.ipynb\"><img src=\"data:image/png;base64,iVBORw0KGgoAAAANSUhEUgAAAA4AAAAFBAMAAACHocAhAAAAFVBMVEX///9EREQiIiJUVFQyMjJm\n",
       "ZmYAAADubVkoAAAAAXRSTlMAQObYZgAAABRJREFUCNdjCHEBAWcGXCBICQQUAUpuAwlgGKrkAAAA\n",
       "AElFTkSuQmCC\n",
       "\" style=\"display:inline;vertical-align:middle;\" /></a></td></tr>\n",
       "<tr><td>2</td><td>ExprTuple</td><td>3, 4</td><td><a class=\"ProveItLink\" href=\"../cc41ca8d2e97a0bf2ea37380c5f17fe56cc3ee760/expr.ipynb\"><img src=\"data:image/png;base64,iVBORw0KGgoAAAANSUhEUgAAAc8AAAAVBAMAAADShHjlAAAAMFBMVEX////c3NwiIiJERESqqqqY\n",
       "mJh2dnZmZmYQEBDu7u4yMjJUVFTMzMyIiIi6uroAAAAs73DqAAAAAXRSTlMAQObYZgAAAuJJREFU\n",
       "WMPlmDFoE1EYx/9pLrlc0ibZO5itLkIWRzE4K73JUYqDLkYCYoc6aEUcBEtcJNAhR6GDl6WDogjB\n",
       "gIvgkkkRTYlORZRGmiKBKr6ree/uu/eS9EWSwd6QhN+77/+7d/fevbsAx2ZLN///Pl7yPt6qWtbv\n",
       "6qeNU/OvCutF7ih1ZoN9PFE21cY4jNrkL42kSG4dqc4B5sjItbL9H90wwCAAPArVCCDvotjkQB1F\n",
       "pjDIQMBFIFEOAqPf7XQvBKQ9AtuFUA0H8i6qTQ7UUeyWBxkIqABflY54Tr+jomZyHZUVl3GkjkYL\n",
       "WGZfkfr1VepI1j/aVPq4+ImC+Xc7WRIpaoTDz+XEutJqhJrkQB1FrfVsgIGAeAmb7PdONtqh1moe\n",
       "BwTMrmGDDu5VnKXnTtQIh5/LyZt2MhdqkgM1FNYeMg21gQDDwRo7u/sw89SxWMZ9AipNnCbghI0b\n",
       "9ChEDQeBXH5cDxG1Q01yoIbC6CGxpDRQkL6D30Cqg5kmdawAPwl4FZ5ADJyiRyFqOAjk+kRqkgM1\n",
       "FKaDTElpoGC243U0k0fVu/6m6248cF1vZVpAep+Avb+5QWAdjqIV1z3pujVREwA8l5D+qiAr+4F6\n",
       "ipkSdm2FIQxYR++xIdLEIsrkZHZh9oIg8it0RRkwOhY5d6KGg0CuT6QmOVBDwZbR22oDBWzosplX\n",
       "LeCl0SAdPeBDnwN2ImNBYHWRcs6TSFEjbh1+Lj8udvZtCyplIFBDwe5EdNIeGmQQc3CV3bRtYyFO\n",
       "p8dT3KLgOXCNgE2cK1GpqBGLgZ/LJ0wJ8UY1p1T6gRqKVMHckg0yYMvLF29N2369Ta3r720KzGKL\n",
       "Du751rczbeIQNeKu6+fye/1y6wMqP5RKP1BDYdVvQjbIINlGIjv0oUTjyWjYcxAhn8d+MhobsEfA\n",
       "2NLQl9PRAPg+ElBijwgcSzEcFAe+pk1ys6dutBxvJkzbOjf9fxhS3vyMHIO/Utj7yB8YV3O25wTO\n",
       "5AAAAABJRU5ErkJggg==\n",
       "\" style=\"display:inline;vertical-align:middle;\" /></a></td></tr>\n",
       "<tr><td>3</td><td>Operation</td><td>operator:&nbsp;6<br>operands:&nbsp;5<br></td><td><a class=\"ProveItLink\" href=\"../9388f4cb52022d13aef71d5cfb1f6e9130e470570/expr.ipynb\"><img src=\"data:image/png;base64,iVBORw0KGgoAAAANSUhEUgAAAN0AAAAQBAMAAABgnGdDAAAAMFBMVEX///8yMjKqqqrMzMzu7u4i\n",
       "IiJmZmaYmJhEREQQEBC6urp2dnaIiIhUVFTc3NwAAAD87Fq/AAAAAXRSTlMAQObYZgAAAclJREFU\n",
       "OMudlD9Lw1AUxU9jGmuLbTOIk1AQN6EZdesqUu0kCA51UhAxH6GbiyAOLipFcBIEBXHRDgHFQSNU\n",
       "B0Uo2C9QLG2xHRxMbB99J8U/6V1e+HFzzn33vfuA3kjvwneorxn0HWN9/BMo+q+x3PmoeQF+AsBc\n",
       "Z40lPKA3xRuK1V7DDQ/oyZBisrOepjygN+Unv0imD78L/NMvWrrMs1qg9GCy/GzhmkHl/rjMYmP2\n",
       "C4OuriDqlW0Ax+VQlf3mc6gTGNjDCHc8j20uXm0hZpB6V1eQ6cNABtEmtBz7JVPYJzBjYZPAu4lV\n",
       "9lMaGDqTgaQrSjpAyMRwFUGL/ZaBDwJv3vNzwBL7aXHEsjKQdLvEvcc5zLuN0HR9ZEfX3SlaQLhJ\n",
       "oNWWlIH63fFlXV/UdXdcg1mcmjIQukTc1lhIIkXV16A1ZBD99OzPAUpVpeKd8dtIyUDS7RL3ciTw\n",
       "qBjkVxdHIYCz20EZqDUMx8fZz+icuQCSrkhx9m8iYCoLET6dJ6wzeAbOCYxiInvGh5PQigQkXZGS\n",
       "RcRwxuRu6o7l07cmA61gc8cr9tHWIV++0gpfIElXzMOaffP76+HnfQF8v2dhyzcATv4ERL4AvdOW\n",
       "5fw63AIAAAAASUVORK5CYII=\n",
       "\" style=\"display:inline;vertical-align:middle;\" /></a></td></tr>\n",
       "<tr><td>4</td><td>Operation</td><td>operator:&nbsp;6<br>operands:&nbsp;7<br></td><td><a class=\"ProveItLink\" href=\"../b2d61e9f0f76329ae0e04b0459fb2224298444390/expr.ipynb\"><img src=\"data:image/png;base64,iVBORw0KGgoAAAANSUhEUgAAAN0AAAAQBAMAAABgnGdDAAAAMFBMVEX///8yMjKqqqrMzMzu7u4i\n",
       "IiJmZmaYmJhEREQQEBC6urp2dnaIiIhUVFTc3NwAAAD87Fq/AAAAAXRSTlMAQObYZgAAAZhJREFU\n",
       "OMu11LFKw0AYB/B/QhpqSpPeIE6FgrgJzahbXqC2U0FwSCcFEfMIfQBBHJyUUnAqCO3ioksGcdAI\n",
       "1UWEgH2B0tIW28HBlvQkd+lRbfGWgx/8vy93HxdgsZU750B5L+A/V5oHqfnXEkprvmBnuvd4MDIc\n",
       "RCL8kt35gs1g0wYcoG5xwEeW6pco8NVu8Lt+un9b4aq3n2otgdCw5D87bLW098aCcueZM6DWinfZ\n",
       "floFpyKh4XwZfQaUEQy2/HZVKkRBH0Its9U7Dg5EQsNZCxcMyAOsNJgPuETciUKyi5jLVv8A9kRC\n",
       "wyXgkwE1BcMOQ7LLzS8Ao4z85B5UQlbPCJk8ohGU/kxBiZBdQiZPrwhtyEDMRt0JgxHcGg8dF1lY\n",
       "4dPoX5C7ikDox/agDhgYP79jKwwdlztfAPkMXmQzXF3pIZlaFwgN9+m0fvqZ3ECN8WmdKEiOXEyw\n",
       "01rDht0QCA2/4oibTkZtsmAjYUZB9x+3Htl+be/qpCoQGs49OGw/xd/nnvehdy+ABf4vS8F0ae58\n",
       "wfVy8A06eo/dWEdoHgAAAABJRU5ErkJggg==\n",
       "\" style=\"display:inline;vertical-align:middle;\" /></a></td></tr>\n",
       "<tr><td>5</td><td>ExprTuple</td><td>8, 9, 10, 8, 9, 8, 10</td><td><a class=\"ProveItLink\" href=\"../43099df92963bcddbe2ab81d55c2d24d891905a90/expr.ipynb\"><img src=\"data:image/png;base64,iVBORw0KGgoAAAANSUhEUgAAAIgAAAAVBAMAAABvbLv8AAAAMFBMVEX////c3NwiIiJERESqqqqY\n",
       "mJh2dnZmZmYQEBDu7u4yMjJUVFTMzMyIiIi6uroAAAAs73DqAAAAAXRSTlMAQObYZgAAAcVJREFU\n",
       "OMutlD9Iw0AUxr/apGla22R3qJuT0EFHsTiKYGan4qCLSkF0ElQQN7WTiEtFcBBB6iCKIBZcBAcz\n",
       "CYKR6iQiNP4bBBXf3SVa8c5BDTT8+n25997dexzwL0/a/dt6vUqv4zrB3G1Wfqz0Jui3Xi8kyuqU\n",
       "Ki8BpL7sxsqpg6g8PY94sV6oFdVBVJ45hZsvQv8PJ6j02jBO78j+yLT4v+FtB+EHvAoHiYem02tb\n",
       "0OLwOTCINcJrO+qLpQ+wxNqjakI0Q+Klp9EpYjTOYxXoxjwle4KR5aL2jHier5hD1OGFfPeQcTAq\n",
       "giy5aKc8eAOSPhpEj4wVWAUGST+oXOLhAGhFSPScsCBWFiVRaEMBNV6AlQ37+t3DA8wXBCSCzFB5\n",
       "LnpRDEZhkkMmnB6JF3mF5psB8WNjeyrlsKdVmEwnNwsOlNNhIPHMRyRXenjkJxo1oI/6g4SjtcRQ\n",
       "om4kc0ZZQAGxCgOJRw3tKuTNe6IdYIi1+IqNwsXhBZbuKMn+GDhg3DvjIPOavNuOqrlAo2IMe1TQ\n",
       "JuJ2OHiXapBJaftz7PV8qDpqkEl6CDG37ir4bZBltsOAU1CCTMLHFbLFmv3H6zFVwTsgPJZdl+BU\n",
       "EAAAAABJRU5ErkJggg==\n",
       "\" style=\"display:inline;vertical-align:middle;\" /></a></td></tr>\n",
       "<tr><td>6</td><td>Literal</td><td></td><td><a class=\"ProveItLink\" href=\"../3e6688136fa3c7aefbebe51301b7c3ebf0b69c440/expr.ipynb\"><img src=\"data:image/png;base64,iVBORw0KGgoAAAANSUhEUgAAAA4AAAAOBAMAAADtZjDiAAAAJFBMVEX///+6urpUVFQQEBAiIiIy\n",
       "MjJmZmaIiIiqqqrc3Nzu7u4AAACgHpL+AAAAAXRSTlMAQObYZgAAAB5JREFUCNdjYGBgWMkAAe2k\n",
       "0Kmhoc6hoUGk6BMHYgAHOwjcado9fwAAAABJRU5ErkJggg==\n",
       "\" style=\"display:inline;vertical-align:middle;\" /></a></td></tr>\n",
       "<tr><td>7</td><td>ExprTuple</td><td>8, 8, 8, 9, 9, 10, 10</td><td><a class=\"ProveItLink\" href=\"../21d328a7b1f29d8544bbc8619513c01c1fa433440/expr.ipynb\"><img src=\"data:image/png;base64,iVBORw0KGgoAAAANSUhEUgAAAIgAAAAVBAMAAABvbLv8AAAAMFBMVEX////c3NwiIiJERESqqqqY\n",
       "mJh2dnZmZmYQEBDu7u4yMjJUVFTMzMyIiIi6uroAAAAs73DqAAAAAXRSTlMAQObYZgAAAXdJREFU\n",
       "OMut1DFLw0AYBuC3tWmS1jTZHezm2kH3zi5mdgouLla66CSoII61kxSXiuAggtRBFKEYcHQwP8AW\n",
       "dSourYYODoqXXFJzl6MB68EdTy6573L3HQf8Syk4k42XnknzkPCRelPkwJUtUs+Spsq1eHDvAS1x\n",
       "NXqZB7ceC0o9KUi/zoNb7w7eEnduJQauzGOTtKn2+i59Fum8c8UBh5WnCFZxStgzpga0UyDVhW4z\n",
       "wHQNJxEsokYmHUIu0ekFynxCsRig4WAhgh6+gfwAaZojkeRj6FUGuAt3g+LRC6KX0KT/KVK6ir7J\n",
       "AG4YxA2C7AGzDpbgp08kcjq2WaS+ghgBet6ammXcZmwVYpHN3AcDDMkJ82fwgWWSH+TMzFwWzaJY\n",
       "+bLcYoFrYE39COCl+NU7Et37LhrvYqntDbCAXOnU1QODAriAYoS79IIxiqNg/B57yQp7TYxRHFKI\n",
       "rBO5Cv4a5IjUmcDaaKRAcWB0hVx6yZ7wetRs/AAPmpe2vWp2AgAAAABJRU5ErkJggg==\n",
       "\" style=\"display:inline;vertical-align:middle;\" /></a></td></tr>\n",
       "<tr><td>8</td><td>Variable</td><td></td><td><a class=\"ProveItLink\" href=\"../../../../__pv_it/07527342713064c87612d00d8557c53d53d5324a0/expr.ipynb\"><img src=\"data:image/png;base64,iVBORw0KGgoAAAANSUhEUgAAAAsAAAAJBAMAAAAWSsseAAAAMFBMVEX///8yMjKqqqrMzMzu7u4i\n",
       "IiJmZmaYmJhEREQQEBC6urp2dnaIiIhUVFTc3NwAAAD87Fq/AAAAAXRSTlMAQObYZgAAAEhJREFU\n",
       "CNdjYOC7s2seAwPDygccHxgY+L4zsDUwMPB+YGA9wMDA38Dgb8DA8P4Agz6DA4O/AsNFJgMGxgKm\n",
       "MG6gyjunLE4xAAAZTBA5TB6DCwAAAABJRU5ErkJggg==\n",
       "\" style=\"display:inline;vertical-align:middle;\" /></a></td></tr>\n",
       "<tr><td>9</td><td>Variable</td><td></td><td><a class=\"ProveItLink\" href=\"../../../../__pv_it/6840a4fa6c106149dc16a131294d0c5e44f1b0480/expr.ipynb\"><img src=\"data:image/png;base64,iVBORw0KGgoAAAANSUhEUgAAAAkAAAAOBAMAAAAPuiubAAAALVBMVEX///9mZmbMzMxERESYmJiI\n",
       "iIh2dna6urqqqqoyMjIiIiIQEBBUVFTu7u4AAAD9S1JeAAAAAXRSTlMAQObYZgAAAE1JREFUCNdj\n",
       "4D29gAEIOA+ASL4GEFl3AURmgQiGOaFHGBh4HzPwKTBwvGXgTmBgnMDAJ8DAJcBQ5wBSLncBJLWN\n",
       "gYGngRFoBO9REQYGAGrcDtUkVqASAAAAAElFTkSuQmCC\n",
       "\" style=\"display:inline;vertical-align:middle;\" /></a></td></tr>\n",
       "<tr><td>10</td><td>Variable</td><td></td><td><a class=\"ProveItLink\" href=\"../../../../__pv_it/cbdfda466482236edba0ce44ac7ef39cda0af7a40/expr.ipynb\"><img src=\"data:image/png;base64,iVBORw0KGgoAAAANSUhEUgAAAAkAAAAJBAMAAAASvxsjAAAALVBMVEX///9mZmbc3NxUVFSYmJhE\n",
       "REQiIiIyMjK6uroQEBDMzMyIiIh2dnbu7u4AAABgFDGoAAAAAXRSTlMAQObYZgAAADZJREFUCNdj\n",
       "YOA9s3sBA8PKBvYEBt7ZDKwODMwPGICALwBE6m0Asx0YGIDiAgw8QJUyu/cyAAAmuwmycZ8WfQAA\n",
       "AABJRU5ErkJggg==\n",
       "\" style=\"display:inline;vertical-align:middle;\" /></a></td></tr>\n",
       "</table>\n"
      ],
      "text/plain": [
       "0. (a + b + c + a + b + a + c) = (a + a + a + b + b + c + c)\n",
       "   core type: Operation\n",
       "   operator: 1\n",
       "   operands: 2\n",
       "1. =\n",
       "   core type: Literal\n",
       "   sub-expressions: \n",
       "2. (a + b + c + a + b + a + c , a + a + a + b + b + c + c)\n",
       "   core type: ExprTuple\n",
       "   sub-expressions: 3, 4\n",
       "3. a + b + c + a + b + a + c\n",
       "   core type: Operation\n",
       "   operator: 6\n",
       "   operands: 5\n",
       "4. a + a + a + b + b + c + c\n",
       "   core type: Operation\n",
       "   operator: 6\n",
       "   operands: 7\n",
       "5. (a , b , c , a , b , a , c)\n",
       "   core type: ExprTuple\n",
       "   sub-expressions: 8, 9, 10, 8, 9, 8, 10\n",
       "6. +\n",
       "   core type: Literal\n",
       "   sub-expressions: \n",
       "7. (a , a , a , b , b , c , c)\n",
       "   core type: ExprTuple\n",
       "   sub-expressions: 8, 8, 8, 9, 9, 10, 10\n",
       "8. a\n",
       "   core type: Variable\n",
       "   sub-expressions: \n",
       "9. b\n",
       "   core type: Variable\n",
       "   sub-expressions: \n",
       "10. c\n",
       "    core type: Variable\n",
       "    sub-expressions: "
      ]
     },
     "execution_count": 4,
     "metadata": {},
     "output_type": "execute_result"
    }
   ],
   "source": [
    "# display the expression information\n",
    "expr.exprInfo()"
   ]
  },
  {
   "cell_type": "code",
   "execution_count": null,
   "metadata": {},
   "outputs": [],
   "source": []
  }
 ],
 "metadata": {
  "kernelspec": {
   "display_name": "Python 3",
   "language": "python",
   "name": "python3"
  }
 },
 "nbformat": 4,
 "nbformat_minor": 0
}
