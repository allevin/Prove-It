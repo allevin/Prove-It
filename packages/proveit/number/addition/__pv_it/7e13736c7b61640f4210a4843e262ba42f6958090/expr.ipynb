{
 "cells": [
  {
   "cell_type": "markdown",
   "metadata": {},
   "source": [
    "Expression of type <a class=\"ProveItLink\" href=\"../../../../../../doc/html/api/proveit.ExprTuple.html\">ExprTuple</a>\n",
    "=======================\n",
    "# from context <a class=\"ProveItLink\" href=\"../../_context_.ipynb\">proveit.number.addition</a>"
   ]
  },
  {
   "cell_type": "code",
   "execution_count": 1,
   "metadata": {},
   "outputs": [],
   "source": [
    "# import Expression classes needed to build the expression\n",
    "from proveit import ExprTuple\n",
    "from proveit._common_ import a, b, c\n",
    "from proveit.number import Add"
   ]
  },
  {
   "cell_type": "code",
   "execution_count": 2,
   "metadata": {},
   "outputs": [
    {
     "data": {
      "text/html": [
       "<strong id=\"expr\">expr:</strong> <a class=\"ProveItLink\" href=\"expr.ipynb\"><img src=\"data:image/png;base64,iVBORw0KGgoAAAANSUhEUgAAATYAAAAVBAMAAAA+3d+2AAAAMFBMVEX////c3NwiIiJERESqqqqY\n",
       "mJh2dnZmZmYQEBDu7u4yMjJUVFTMzMyIiIi6uroAAAAs73DqAAAAAXRSTlMAQObYZgAAAnJJREFU\n",
       "SMfNljFoE1EYx/9tL7m8xOSyd2i2uggZdBSDoyi92Sk46GIlIHaoglbEQbCeixQ7pBQ6eAWpoChC\n",
       "MOAiOHiTIpoSnYoojTZFAlH8Xswl913uktfSQB7k+PPL3f/77nvvffeAUR4pZyTTilTp8nYYzss3\n",
       "fUC8yAwA/nGNfo+G8trrfhDfGAT8/wNJNqX3e24R6f0Q1P2ORi4MhE1qHjHLC8703KI5+yGpht9x\n",
       "2woDIUPcwDcMI7doxu94LhSEjaOYo+tY6dICf7BLOnEn32+llUm89MnkjuuVZyFAnK+UucCD2c/A\n",
       "BayR3EpP1PiDXeLGTS3ghDopZtFkjmIHRjkYvKnGM1wcWsQqcAqLVKRd6Fnm5CFu3CkTl9XJjIXb\n",
       "zFFrIJYPBOIuJkwmsOTgGNUHf4FEDeMOc/IQN+4r4Ig6mQd+M0d9BUYhECTaE9QV0ofGO5mbkUVR\n",
       "lnfetg/btuxMLtFte/WObctOtAPRVCQ0ppHaZY7jBWybAaAVq91UXEE+/3O7RVPhYAaW96U8pF2T\n",
       "sT/QakKZ1KE3WN2om123AsGUu5E6gnxaa15ObDGHlxpbqB7SjivqSKycViIyYtNdXZ1Uyr4F2ALy\n",
       "RQyqnskEqOQR4CztVMRNbTrKHvQQdy2t4WQhr0LEL1JPcZW3s0RO3+gFRdqXiQKiZSbwHLgoe8hX\n",
       "2cw2X2/yfdolbtzJyvfjVRUi7lGLW/5g8txE6UoAWPpJaq7y0Sf02QoV/zFi6YP+LqT6OzLwJVzQ\n",
       "NyuS9977Q+F4N4hE0NeRATNcRJ0hnJEie7i3T24P5SI56Nz2cI5Ohgs8ket+NM/kyTL+AYe7EBHs\n",
       "KFvKAAAAAElFTkSuQmCC\n",
       "\" style=\"display:inline;vertical-align:middle;\" /></a><br>"
      ],
      "text/plain": [
       "expr: (a + a + a + a + a , b + b + b , c , c , c)"
      ]
     },
     "execution_count": 2,
     "metadata": {},
     "output_type": "execute_result"
    }
   ],
   "source": [
    "# build up the expression from sub-expressions\n",
    "expr = ExprTuple(Add(a, a, a, a, a), Add(b, b, b), c, c, c)"
   ]
  },
  {
   "cell_type": "code",
   "execution_count": 3,
   "metadata": {},
   "outputs": [
    {
     "name": "stdout",
     "output_type": "stream",
     "text": [
      "Passed sanity check: built 'expr' is the same as the stored Expression.\n"
     ]
    }
   ],
   "source": [
    "# check that the built expression is the same as the stored expression\n",
    "%check_expr"
   ]
  },
  {
   "cell_type": "code",
   "execution_count": 4,
   "metadata": {},
   "outputs": [
    {
     "data": {
      "text/html": [
       "<table><tr><th>&nbsp;</th><th>core type</th><th>sub-expressions</th><th>expression</th></tr>\n",
       "<tr><td>0</td><td>ExprTuple</td><td>1, 2, 3, 3, 3</td><td><a class=\"ProveItLink\" href=\"expr.ipynb\"><img src=\"data:image/png;base64,iVBORw0KGgoAAAANSUhEUgAAATYAAAAVBAMAAAA+3d+2AAAAMFBMVEX////c3NwiIiJERESqqqqY\n",
       "mJh2dnZmZmYQEBDu7u4yMjJUVFTMzMyIiIi6uroAAAAs73DqAAAAAXRSTlMAQObYZgAAAnJJREFU\n",
       "SMfNljFoE1EYx/9tL7m8xOSyd2i2uggZdBSDoyi92Sk46GIlIHaoglbEQbCeixQ7pBQ6eAWpoChC\n",
       "MOAiOHiTIpoSnYoojTZFAlH8Xswl913uktfSQB7k+PPL3f/77nvvffeAUR4pZyTTilTp8nYYzss3\n",
       "fUC8yAwA/nGNfo+G8trrfhDfGAT8/wNJNqX3e24R6f0Q1P2ORi4MhE1qHjHLC8703KI5+yGpht9x\n",
       "2woDIUPcwDcMI7doxu94LhSEjaOYo+tY6dICf7BLOnEn32+llUm89MnkjuuVZyFAnK+UucCD2c/A\n",
       "BayR3EpP1PiDXeLGTS3ghDopZtFkjmIHRjkYvKnGM1wcWsQqcAqLVKRd6Fnm5CFu3CkTl9XJjIXb\n",
       "zFFrIJYPBOIuJkwmsOTgGNUHf4FEDeMOc/IQN+4r4Ig6mQd+M0d9BUYhECTaE9QV0ofGO5mbkUVR\n",
       "lnfetg/btuxMLtFte/WObctOtAPRVCQ0ppHaZY7jBWybAaAVq91UXEE+/3O7RVPhYAaW96U8pF2T\n",
       "sT/QakKZ1KE3WN2om123AsGUu5E6gnxaa15ObDGHlxpbqB7SjivqSKycViIyYtNdXZ1Uyr4F2ALy\n",
       "RQyqnskEqOQR4CztVMRNbTrKHvQQdy2t4WQhr0LEL1JPcZW3s0RO3+gFRdqXiQKiZSbwHLgoe8hX\n",
       "2cw2X2/yfdolbtzJyvfjVRUi7lGLW/5g8txE6UoAWPpJaq7y0Sf02QoV/zFi6YP+LqT6OzLwJVzQ\n",
       "NyuS9977Q+F4N4hE0NeRATNcRJ0hnJEie7i3T24P5SI56Nz2cI5Ohgs8ket+NM/kyTL+AYe7EBHs\n",
       "KFvKAAAAAElFTkSuQmCC\n",
       "\" style=\"display:inline;vertical-align:middle;\" /></a></td></tr>\n",
       "<tr><td>1</td><td>Operation</td><td>operator:&nbsp;5<br>operands:&nbsp;4<br></td><td><a class=\"ProveItLink\" href=\"../9229b91a5a32f43646dbad418ecba6f0710bb2640/expr.ipynb\"><img src=\"data:image/png;base64,iVBORw0KGgoAAAANSUhEUgAAAJwAAAAOBAMAAAAoOGg2AAAAMFBMVEX///8yMjKqqqrMzMzu7u4i\n",
       "IiJmZmaYmJhEREQQEBC6urp2dnaIiIhUVFTc3NwAAAD87Fq/AAAAAXRSTlMAQObYZgAAAONJREFU\n",
       "OMtjYEAAPwZ0gCnC8oCwCBToECHCdICwCDWN47uzax6qZnwicM1vT698gE1k5QOOD6ia8YnANHPN\n",
       "Y+jHJsL3nYGtAUUzXhGY5vcFDBnYRHg/MLAeQNGMVwSm+T4DQww2Ef4GBn8DIC9RUDBSUFCWAZ8I\n",
       "m6Cg6ERBwQtA5g8Gls/YRN4fYNBncEB2C14RqFv4/jAwfWDBIuKvwHCRyQBZM14RqGaWTwy8AspY\n",
       "RBgLmMK4UUIKrwgspMQZVBM2YBHhu3PK4hRqPOITgWl+e2ZxzwIcIrTJZGuIEOE6gFcEANifcwk6\n",
       "B+xgAAAAAElFTkSuQmCC\n",
       "\" style=\"display:inline;vertical-align:middle;\" /></a></td></tr>\n",
       "<tr><td>2</td><td>Operation</td><td>operator:&nbsp;5<br>operands:&nbsp;6<br></td><td><a class=\"ProveItLink\" href=\"../336a4b1a600d4796004751577b8948b03b87d7190/expr.ipynb\"><img src=\"data:image/png;base64,iVBORw0KGgoAAAANSUhEUgAAAE4AAAAQBAMAAABKAFSpAAAAMFBMVEX////c3NxmZmbMzMxERESY\n",
       "mJiIiIh2dna6urqqqqoyMjIiIiIQEBBUVFTu7u4AAAAiO1wTAAAAAXRSTlMAQObYZgAAAO1JREFU\n",
       "KM9lkTsKwkAQhn/SGKMmHsHGRhA9gkfIEcTCTrC3t42VrdYrgljbC9rYKAgW8QAi+CjSBDO6k324\n",
       "xczux8cy+y/8ywrG+gO47al6Bwv/ASypBBN5usqeA78qNwmVKJanqew5KHZ/3U2pjmB5OWCv8B14\n",
       "2T+aXg7Y806DEP4LQVv3FGDv3sETxRTloe4pwN4sxhbOHEFN9xRgrwE8UKohCrO9EBshKCgJHCEW\n",
       "OyEoyzXcN6XVivX7FOD7Ejgpzbw13qsAe08auDJxDoanAHtnNLMYTnUzZwXYu/VC/ben9vezZ62x\n",
       "DVzN+wB3W0tlHU5/FgAAAABJRU5ErkJggg==\n",
       "\" style=\"display:inline;vertical-align:middle;\" /></a></td></tr>\n",
       "<tr><td>3</td><td>Variable</td><td></td><td><a class=\"ProveItLink\" href=\"../../../../__pv_it/cbdfda466482236edba0ce44ac7ef39cda0af7a40/expr.ipynb\"><img src=\"data:image/png;base64,iVBORw0KGgoAAAANSUhEUgAAAAkAAAAJBAMAAAASvxsjAAAALVBMVEX///9mZmbc3NxUVFSYmJhE\n",
       "REQiIiIyMjK6uroQEBDMzMyIiIh2dnbu7u4AAABgFDGoAAAAAXRSTlMAQObYZgAAADZJREFUCNdj\n",
       "YOA9s3sBA8PKBvYEBt7ZDKwODMwPGICALwBE6m0Asx0YGIDiAgw8QJUyu/cyAAAmuwmycZ8WfQAA\n",
       "AABJRU5ErkJggg==\n",
       "\" style=\"display:inline;vertical-align:middle;\" /></a></td></tr>\n",
       "<tr><td>4</td><td>ExprTuple</td><td>7, 7, 7, 7, 7</td><td><a class=\"ProveItLink\" href=\"../bd8b0c96bb43208ba58e7ac98902471d1fa576b90/expr.ipynb\"><img src=\"data:image/png;base64,iVBORw0KGgoAAAANSUhEUgAAAGgAAAAVBAMAAABYjraNAAAAMFBMVEX////c3NwiIiJERESqqqqY\n",
       "mJh2dnZmZmYQEBDu7u4yMjJUVFTMzMyIiIi6uroAAAAs73DqAAAAAXRSTlMAQObYZgAAARpJREFU\n",
       "OMtjYCAL8F0gTT3rAyBxmlRbaoB4JamauBgYeC+Qqok1gYFjAqmaOBsYXpEedCYMZUCScW9eI4SP\n",
       "n8Ugfe2FAANDOsNSIPuFAPMHiCh+Fl8jgz2Q8mLoAxr1lYHdAGIoXhaDfABDMcgUhn8MDNwfGJgg\n",
       "YYifxbCfgUEXSJ0HaeI3YJh/ACyKn8XwmYHzD1hTC9DWCwz+DOCQx89i/MvA8oET5DxTBob5Dgy7\n",
       "WA4AeQRYnF8YuBf4MDBEAcOPgSuARZ2NYb4CIRYwpJ0KEkBB/ggUEfcO32OY8ZEQi0H67htbYBpf\n",
       "x8AhAIvohwzEsYDJCJj8oCCAgTgW2wWkrEGsplkgh0LZvHBR/CyGjaDQJzFD8R5gAACT23cpa4ld\n",
       "/QAAAABJRU5ErkJggg==\n",
       "\" style=\"display:inline;vertical-align:middle;\" /></a></td></tr>\n",
       "<tr><td>5</td><td>Literal</td><td></td><td><a class=\"ProveItLink\" href=\"../3e6688136fa3c7aefbebe51301b7c3ebf0b69c440/expr.ipynb\"><img src=\"data:image/png;base64,iVBORw0KGgoAAAANSUhEUgAAAA4AAAAOBAMAAADtZjDiAAAAJFBMVEX///+6urpUVFQQEBAiIiIy\n",
       "MjJmZmaIiIiqqqrc3Nzu7u4AAACgHpL+AAAAAXRSTlMAQObYZgAAAB5JREFUCNdjYGBgWMkAAe2k\n",
       "0Kmhoc6hoUGk6BMHYgAHOwjcado9fwAAAABJRU5ErkJggg==\n",
       "\" style=\"display:inline;vertical-align:middle;\" /></a></td></tr>\n",
       "<tr><td>6</td><td>ExprTuple</td><td>8, 8, 8</td><td><a class=\"ProveItLink\" href=\"../c21a0a21f22a50fe9404b3289ace12ef9be60db90/expr.ipynb\"><img src=\"data:image/png;base64,iVBORw0KGgoAAAANSUhEUgAAADkAAAAVBAMAAAAOWFv7AAAAMFBMVEX////c3NwiIiJERESqqqqY\n",
       "mJh2dnZmZmYQEBDu7u4yMjJUVFTMzMyIiIi6uroAAAAs73DqAAAAAXRSTlMAQObYZgAAAPlJREFU\n",
       "KM9jYMAP+C7gkIgDEacZOHcoQPioDPYDQNZKBgauDVDlqIwFDAy8QIP5HaCCqIwwBgaOCQwM7ydA\n",
       "BVEZMxgYXgGpJJhDUBnMDgxlQGr13a0QQVQGWwHDUqALPzPwHwA7FZXBsoChj4GB5ScDRwJIEI3B\n",
       "18DwD+ixBQz8BSBBNAbPB5AsUwHD+wCQIBoDKNsC9lz9BKgvkRlAk00ZQA5oY+BkQGcwsC5gSGdg\n",
       "4HZg38AwXwGdAfLRI6D795YCA+YjOoOB6wEDhwA0eB4yoDOAIcmaAGUHMKAzciExiF2WExiDDNIQ\n",
       "Ni9MEs7gBtnJiCvl3GFgAACyJ1L0n4kkiAAAAABJRU5ErkJggg==\n",
       "\" style=\"display:inline;vertical-align:middle;\" /></a></td></tr>\n",
       "<tr><td>7</td><td>Variable</td><td></td><td><a class=\"ProveItLink\" href=\"../../../../__pv_it/07527342713064c87612d00d8557c53d53d5324a0/expr.ipynb\"><img src=\"data:image/png;base64,iVBORw0KGgoAAAANSUhEUgAAAAsAAAAJBAMAAAAWSsseAAAAMFBMVEX///8yMjKqqqrMzMzu7u4i\n",
       "IiJmZmaYmJhEREQQEBC6urp2dnaIiIhUVFTc3NwAAAD87Fq/AAAAAXRSTlMAQObYZgAAAEhJREFU\n",
       "CNdjYOC7s2seAwPDygccHxgY+L4zsDUwMPB+YGA9wMDA38Dgb8DA8P4Agz6DA4O/AsNFJgMGxgKm\n",
       "MG6gyjunLE4xAAAZTBA5TB6DCwAAAABJRU5ErkJggg==\n",
       "\" style=\"display:inline;vertical-align:middle;\" /></a></td></tr>\n",
       "<tr><td>8</td><td>Variable</td><td></td><td><a class=\"ProveItLink\" href=\"../../../../__pv_it/6840a4fa6c106149dc16a131294d0c5e44f1b0480/expr.ipynb\"><img src=\"data:image/png;base64,iVBORw0KGgoAAAANSUhEUgAAAAkAAAAOBAMAAAAPuiubAAAALVBMVEX///9mZmbMzMxERESYmJiI\n",
       "iIh2dna6urqqqqoyMjIiIiIQEBBUVFTu7u4AAAD9S1JeAAAAAXRSTlMAQObYZgAAAE1JREFUCNdj\n",
       "4D29gAEIOA+ASL4GEFl3AURmgQiGOaFHGBh4HzPwKTBwvGXgTmBgnMDAJ8DAJcBQ5wBSLncBJLWN\n",
       "gYGngRFoBO9REQYGAGrcDtUkVqASAAAAAElFTkSuQmCC\n",
       "\" style=\"display:inline;vertical-align:middle;\" /></a></td></tr>\n",
       "</table>\n"
      ],
      "text/plain": [
       "0. (a + a + a + a + a , b + b + b , c , c , c)\n",
       "   core type: ExprTuple\n",
       "   sub-expressions: 1, 2, 3, 3, 3\n",
       "1. a + a + a + a + a\n",
       "   core type: Operation\n",
       "   operator: 5\n",
       "   operands: 4\n",
       "2. b + b + b\n",
       "   core type: Operation\n",
       "   operator: 5\n",
       "   operands: 6\n",
       "3. c\n",
       "   core type: Variable\n",
       "   sub-expressions: \n",
       "4. (a , a , a , a , a)\n",
       "   core type: ExprTuple\n",
       "   sub-expressions: 7, 7, 7, 7, 7\n",
       "5. +\n",
       "   core type: Literal\n",
       "   sub-expressions: \n",
       "6. (b , b , b)\n",
       "   core type: ExprTuple\n",
       "   sub-expressions: 8, 8, 8\n",
       "7. a\n",
       "   core type: Variable\n",
       "   sub-expressions: \n",
       "8. b\n",
       "   core type: Variable\n",
       "   sub-expressions: "
      ]
     },
     "execution_count": 4,
     "metadata": {},
     "output_type": "execute_result"
    }
   ],
   "source": [
    "# display the expression information\n",
    "expr.exprInfo()"
   ]
  },
  {
   "cell_type": "code",
   "execution_count": null,
   "metadata": {},
   "outputs": [],
   "source": []
  }
 ],
 "metadata": {
  "kernelspec": {
   "display_name": "Python 3",
   "language": "python",
   "name": "python3"
  }
 },
 "nbformat": 4,
 "nbformat_minor": 0
}
