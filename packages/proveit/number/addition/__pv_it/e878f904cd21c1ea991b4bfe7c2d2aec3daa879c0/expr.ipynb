{
 "cells": [
  {
   "cell_type": "markdown",
   "metadata": {},
   "source": [
    "Expression of type <a class=\"ProveItLink\" href=\"../../../../../../doc/html/api/proveit.logic.InSet.html\">InSet</a>\n",
    "=======================\n",
    "# from context <a class=\"ProveItLink\" href=\"../../_context_.ipynb\">proveit.number.addition</a>"
   ]
  },
  {
   "cell_type": "code",
   "execution_count": 1,
   "metadata": {},
   "outputs": [],
   "source": [
    "# import Expression classes needed to build the expression\n",
    "from proveit._common_ import A, a\n",
    "from proveit.logic import InSet\n",
    "from proveit.number import Complexes, Exp, three"
   ]
  },
  {
   "cell_type": "code",
   "execution_count": 2,
   "metadata": {},
   "outputs": [
    {
     "data": {
      "text/html": [
       "<strong id=\"expr\">expr:</strong> <a class=\"ProveItLink\" href=\"expr.ipynb\"><img src=\"data:image/png;base64,iVBORw0KGgoAAAANSUhEUgAAAHsAAAAZBAMAAADj1UwdAAAAMFBMVEX////c3NwiIiJERESqqqqY\n",
       "mJh2dnZmZmYQEBDu7u4yMjJUVFTMzMyIiIi6uroAAAAs73DqAAAAAXRSTlMAQObYZgAAAipJREFU\n",
       "OMtjYCAbTLu2k4ECUMpQRYn27QzxDBSBLIp0c/YBCb4LBFTF4dJ9OQFInkYXPoTE5lFgYGA/gK6C\n",
       "V2t9kzmQLgbileiS65HYXB+AxAI0BTzvH3Dm3wYy5B0YeNHdzqo/AcEJ+gkkwtBUBGxlYGD5zfiP\n",
       "QT6AgWMCmqRIvQCczej+EUjOgHDmLlLSAps/oQFIVnMqMkRMYHiF7vYL9x8gPMn7D0gyO4CdvBRq\n",
       "ETvjBpBhDGevbWRgKANZsjevEaaDb4J/AFz7S5avQJKtAMQWhjlzOl8CwrKlQPxCgPkDjD+P4Tw8\n",
       "NDgf8PwFUizgsDOEiR5jQZjPAIx6xq8M7AYw/gMG+QK4SxgYv4MokF854SqO8SFpB3qO+wMDE8xG\n",
       "nt2798MVnt69+zNIDOQ0viYlJUjQTeZJQNHOb8Aw/wDcQgaOBQiXMHTBtPNsgKeFCRsQ2luAsX+B\n",
       "wZ8BGjDAQGZqgEqxALEG3PEK8ISRANLOCeGYMjDMd2DYxXIAzGd0gKQ0sGEi0CTICnbOVriNpm+B\n",
       "xCOIfelA9QEs6mwM80HGzwJF808Gzk8g80G67CfAIm4SPDlwb77J+dgSwn4EivZ7h+8xzAAmMOH+\n",
       "hQys9r8KOPsFGBgtfgkwBP9fDjQerJFxOTzrHNf/sQ/K5IAn0YdISY9PAIkDTbQsuyAhj5pD4LEQ\n",
       "gCyKrCQXX2mwkpB2zgX4tEvDsgdKvkFicwvg085IqLC6g0cOAMCOhh5EVq9xAAAAAElFTkSuQmCC\n",
       "\" style=\"display:inline;vertical-align:middle;\" /></a><br>"
      ],
      "text/plain": [
       "expr: (a , A , A) in Complexes^{3}"
      ]
     },
     "execution_count": 2,
     "metadata": {},
     "output_type": "execute_result"
    }
   ],
   "source": [
    "# build up the expression from sub-expressions\n",
    "expr = InSet([a, A, A], Exp(Complexes, three))"
   ]
  },
  {
   "cell_type": "code",
   "execution_count": 3,
   "metadata": {},
   "outputs": [
    {
     "name": "stdout",
     "output_type": "stream",
     "text": [
      "Passed sanity check: built 'expr' is the same as the stored Expression.\n"
     ]
    }
   ],
   "source": [
    "# check that the built expression is the same as the stored expression\n",
    "%check_expr"
   ]
  },
  {
   "cell_type": "code",
   "execution_count": 4,
   "metadata": {},
   "outputs": [
    {
     "data": {
      "text/html": [
       "<table><tr><th>&nbsp;</th><th>core type</th><th>sub-expressions</th><th>expression</th></tr>\n",
       "<tr><td>0</td><td>Operation</td><td>operator:&nbsp;1<br>operands:&nbsp;2<br></td><td><a class=\"ProveItLink\" href=\"expr.ipynb\"><img src=\"data:image/png;base64,iVBORw0KGgoAAAANSUhEUgAAAHsAAAAZBAMAAADj1UwdAAAAMFBMVEX////c3NwiIiJERESqqqqY\n",
       "mJh2dnZmZmYQEBDu7u4yMjJUVFTMzMyIiIi6uroAAAAs73DqAAAAAXRSTlMAQObYZgAAAipJREFU\n",
       "OMtjYCAbTLu2k4ECUMpQRYn27QzxDBSBLIp0c/YBCb4LBFTF4dJ9OQFInkYXPoTE5lFgYGA/gK6C\n",
       "V2t9kzmQLgbileiS65HYXB+AxAI0BTzvH3Dm3wYy5B0YeNHdzqo/AcEJ+gkkwtBUBGxlYGD5zfiP\n",
       "QT6AgWMCmqRIvQCczej+EUjOgHDmLlLSAps/oQFIVnMqMkRMYHiF7vYL9x8gPMn7D0gyO4CdvBRq\n",
       "ETvjBpBhDGevbWRgKANZsjevEaaDb4J/AFz7S5avQJKtAMQWhjlzOl8CwrKlQPxCgPkDjD+P4Tw8\n",
       "NDgf8PwFUizgsDOEiR5jQZjPAIx6xq8M7AYw/gMG+QK4SxgYv4MokF854SqO8SFpB3qO+wMDE8xG\n",
       "nt2798MVnt69+zNIDOQ0viYlJUjQTeZJQNHOb8Aw/wDcQgaOBQiXMHTBtPNsgKeFCRsQ2luAsX+B\n",
       "wZ8BGjDAQGZqgEqxALEG3PEK8ISRANLOCeGYMjDMd2DYxXIAzGd0gKQ0sGEi0CTICnbOVriNpm+B\n",
       "xCOIfelA9QEs6mwM80HGzwJF808Gzk8g80G67CfAIm4SPDlwb77J+dgSwn4EivZ7h+8xzAAmMOH+\n",
       "hQys9r8KOPsFGBgtfgkwBP9fDjQerJFxOTzrHNf/sQ/K5IAn0YdISY9PAIkDTbQsuyAhj5pD4LEQ\n",
       "gCyKrCQXX2mwkpB2zgX4tEvDsgdKvkFicwvg085IqLC6g0cOAMCOhh5EVq9xAAAAAElFTkSuQmCC\n",
       "\" style=\"display:inline;vertical-align:middle;\" /></a></td></tr>\n",
       "<tr><td>1</td><td>Literal</td><td></td><td><a class=\"ProveItLink\" href=\"../../../../logic/set_theory/membership/__pv_it/088cbc857536a28d4119ad9639a84270ccb0545d0/expr.ipynb\"><img src=\"data:image/png;base64,iVBORw0KGgoAAAANSUhEUgAAAAwAAAAMBAMAAACkW0HUAAAALVBMVEX///+qqqpmZmZUVFQQEBC6\n",
       "urpERETc3NyYmJjMzMwiIiIyMjKIiIju7u4AAACYsrA9AAAAAXRSTlMAQObYZgAAADxJREFUCNdj\n",
       "YOA9vWrVBgaG2b0MQMCeCyIZ2ArA1DUwyRCyahVIyWQI7xaEYm4AU7xLIdxqTQgtvGvVBgCkcQ7e\n",
       "geM/tQAAAABJRU5ErkJggg==\n",
       "\" style=\"display:inline;vertical-align:middle;\" /></a></td></tr>\n",
       "<tr><td>2</td><td>ExprTuple</td><td>3, 4</td><td><a class=\"ProveItLink\" href=\"../ba30580bdae8547d937b13829a8c01d48e77e7a90/expr.ipynb\"><img src=\"data:image/png;base64,iVBORw0KGgoAAAANSUhEUgAAAIAAAAAcBAMAAABbtKrAAAAAMFBMVEX///+qqqp2dnYiIiJERESI\n",
       "iIhmZmYQEBDc3NyYmJgyMjLu7u5UVFTMzMy6uroAAACGxKilAAAAAXRSTlMAQObYZgAAAoJJREFU\n",
       "OMulVU1oE1EQ/rY16SabbAOCB0HckwcvelGLIK0HFVFIiBYPCvbQi38Y8FIq2C3UixQStSB4Maei\n",
       "IHYRtZCD6aFI1WCLoqdCAioVRBux1dqY6sxm3+5zGylsH7ydN7Mz35vfXSDgeph+iXWtMzgrjl8D\n",
       "ATzDHcDgU3wioA/bgVmmBSuYvXYFCKXo8Jy5j2toRyqr7I+z/x2AmmkWRnynxLyhfcFjQ3vHLh0k\n",
       "2kv7FBDuIRr1hxGtSswYCzzs+Yq2gwyRTQBFC23sXLffwZs1yf1Ogo8Ygs1RzMpvdQXZHNCaQ5mF\n",
       "l3326qYljxm8aFLIGQFn8em81oFbhBvuwgli9bwPIBRa8ZjUaXZyv8OFVc7XY7xNTzFcFS9YyP4N\n",
       "p+dMYfNZ+eXa69ZW8hXbHPaJbkg36TUc5QyRht6HpFuiSnzR1XmKMld7s8O+VnJyteoYJcKJpJT0\n",
       "urhQf7g6FWS5UHMCQJcBKJe7ibQTwDSwS4hnS6UF945SabqLaNnhH8XlELRvLsACtLp3Kfo9b9CW\n",
       "lwCi1sS/HtznEBJQF6FUtYZUob1HqFC3tGakECIGA2gCoI5JIhty7EssvwV2Rw42us9WUhNOW94W\n",
       "Zod5bt47rasv4RiRFsrSPWzsMbTvrMYeJy0UeR4KjF9zymhLYpMntQ9HhD9VzDMOvRju/nKgog2Y\n",
       "UA8tmxj5M4px6sahgbuIJJfpggekN27357vOn69EgC15tM8Q7XNTZkoZ+iSnO+OXNFKaQoyrcsMd\n",
       "HPmtXPCWlF9ir6LZmHx3nP8LUEBTgBFnSlRR25Q8UbLm1CqJvfbRvsaHq2t80kIzzb903OSKEfzn\n",
       "MGQ/rwcHOIf1r78t7KHyCeqgUAAAAABJRU5ErkJggg==\n",
       "\" style=\"display:inline;vertical-align:middle;\" /></a></td></tr>\n",
       "<tr><td>3</td><td>ExprTuple</td><td>5, 6, 6</td><td><a class=\"ProveItLink\" href=\"../f52bac775532496028381430e1f88963bf87a9090/expr.ipynb\"><img src=\"data:image/png;base64,iVBORw0KGgoAAAANSUhEUgAAAEkAAAAVBAMAAAD4Ed5jAAAAMFBMVEX////c3NwiIiJERESqqqqY\n",
       "mJh2dnZmZmYQEBDu7u4yMjJUVFTMzMyIiIi6uroAAAAs73DqAAAAAXRSTlMAQObYZgAAAS1JREFU\n",
       "KM9jYCAO8F0goCAORJxGF+VRQGWzHwAyVqKr4vqAxl7AwMCLYWHQTzR2GAMDxwQ0RYzuH9HYMxgY\n",
       "XqEbxcv7D43N7MBQBtKyN68RLvOS5Ssam62AYSmQeiHADHcx5wOev2hslgUMfUCjvjKwG8CDj4Hx\n",
       "Oxqbr4EBaDH3BwYmuE9P7979GY3N8wGkit+AYf4BmMwDBoYuNDZQVQsDg/wFBn8GaICwALEGAyob\n",
       "aKMpA8N8B4ZdLAc4wTIiQLwe6G4kNgPrAoZ0YDQEsKizMcwHRR8nMDYY7CeAOTA2KCQegYLr3uF7\n",
       "DDOAwcxo8UuAIfj/chAHzmbgesDAIQBz60PkGEDmAGOINQHGCUBWhczJRU45uFSB3ScNi1mUKEdi\n",
       "c4PcxEgoRd9hYAAAlH5X1IKa7XQAAAAASUVORK5CYII=\n",
       "\" style=\"display:inline;vertical-align:middle;\" /></a></td></tr>\n",
       "<tr><td>4</td><td>Operation</td><td>operator:&nbsp;7<br>operands:&nbsp;8<br></td><td><a class=\"ProveItLink\" href=\"../7ef71547f87fa9cc26b3db442466b8307b39b2f00/expr.ipynb\"><img src=\"data:image/png;base64,iVBORw0KGgoAAAANSUhEUgAAABcAAAAUBAMAAACUkLs9AAAAMFBMVEX////c3NyqqqqYmJhUVFR2\n",
       "dnbu7u66urrMzMxmZmZEREQQEBAyMjIiIiKIiIgAAAB7fvZ0AAAAAXRSTlMAQObYZgAAAJJJREFU\n",
       "GNNjYICC1KduDHAwmWEOguPJYM+ABGKQ2GzbkdivAkAU353ze1cC6VlAzFFfwBb/BMiQV2BgMHBm\n",
       "YGD6wvidQd6AgTlhA1B0CttFBusEBk5GByAnj6HvqSMDQyZ7AMLIViYDJA47EieLA0kZT4IDgsMc\n",
       "AOKwQXmL64BEbQKEw+L1jK1qGUxh5/3f7hAWAEuSH0rgFzQbAAAAAElFTkSuQmCC\n",
       "\" style=\"display:inline;vertical-align:middle;\" /></a></td></tr>\n",
       "<tr><td>5</td><td>Variable</td><td></td><td><a class=\"ProveItLink\" href=\"../../../../__pv_it/07527342713064c87612d00d8557c53d53d5324a0/expr.ipynb\"><img src=\"data:image/png;base64,iVBORw0KGgoAAAANSUhEUgAAAAsAAAAJBAMAAAAWSsseAAAAMFBMVEX///8yMjKqqqrMzMzu7u4i\n",
       "IiJmZmaYmJhEREQQEBC6urp2dnaIiIhUVFTc3NwAAAD87Fq/AAAAAXRSTlMAQObYZgAAAEhJREFU\n",
       "CNdjYOC7s2seAwPDygccHxgY+L4zsDUwMPB+YGA9wMDA38Dgb8DA8P4Agz6DA4O/AsNFJgMGxgKm\n",
       "MG6gyjunLE4xAAAZTBA5TB6DCwAAAABJRU5ErkJggg==\n",
       "\" style=\"display:inline;vertical-align:middle;\" /></a></td></tr>\n",
       "<tr><td>6</td><td>Variable</td><td></td><td><a class=\"ProveItLink\" href=\"../../../../__pv_it/2cbe72a7ad6f655694dd697106680215e8489b600/expr.ipynb\"><img src=\"data:image/png;base64,iVBORw0KGgoAAAANSUhEUgAAAA8AAAAOBAMAAAACpFvcAAAALVBMVEX///8QEBBERERUVFS6urqI\n",
       "iIhmZmaqqqrc3Nzu7u6YmJgyMjIiIiLMzMwAAADtIaYWAAAAAXRSTlMAQObYZgAAAFtJREFUCNdj\n",
       "YACBOwxQsA9Kc52bAGG05zVAGAFxDmCaZULdAjBjCsO9ADDDgaEvAUTzGhvbKYCVMDAwbgAxChgY\n",
       "eASANAeQwf0AyJgNxEwvGRia5HYwcOm9TgAA6BoR3jrzwFcAAAAASUVORK5CYII=\n",
       "\" style=\"display:inline;vertical-align:middle;\" /></a></td></tr>\n",
       "<tr><td>7</td><td>Literal</td><td></td><td><a class=\"ProveItLink\" href=\"../../../exponentiation/__pv_it/deb2bf23cbccdd6e6791e1b35b5b9794ce12dbd50/expr.ipynb\"><img src=\"data:image/png;base64,iVBORw0KGgoAAAANSUhEUgAAACgAAAASBAMAAADbMYGVAAAAMFBMVEX///8QEBAiIiKYmJjc3Nzu\n",
       "7u7MzMx2dnZmZma6urpERESqqqoyMjJUVFSIiIgAAAAoDOMTAAAAAXRSTlMAQObYZgAAAOBJREFU\n",
       "GNNjYGB4+//u3Tt/GNAASGAXmhjnPyDBgSbI/g1IxKEJ8nxgYGdgQRPkX8BgDKRY6q7s62OYvmze\n",
       "2wAgb/7ZO1+AVDiDkYEQQ0HTBr4DQF59AgOIKmB4z7CNbcNZBu6vQN55kEACQwDDLQYGVobfDHwg\n",
       "fb8YGBxYHwAZciD3fWXg+gB1JjvQcJZvQIXsCgz8F6DO9GBgMOH7wPCUgaeBwd4B7EwGNjUG7s9c\n",
       "AiwPgO5jkWRgiF3/9+5dfQUG1nWl5Y+B7pv+1gE9bBhqGLCAE1jEWH9jEbT5A3IwAC4sP/1L6Qlu\n",
       "AAAAAElFTkSuQmCC\n",
       "\" style=\"display:inline;vertical-align:middle;\" /></a></td></tr>\n",
       "<tr><td>8</td><td>ExprTuple</td><td>9, 10</td><td><a class=\"ProveItLink\" href=\"../0736190636db428f8a7c6e653a85d0c03823a4f10/expr.ipynb\"><img src=\"data:image/png;base64,iVBORw0KGgoAAAANSUhEUgAAAC8AAAAVBAMAAAAk6KpUAAAAMFBMVEX////c3NwiIiJERESqqqqY\n",
       "mJh2dnZmZmYQEBDu7u4yMjJUVFTMzMyIiIi6uroAAAAs73DqAAAAAXRSTlMAQObYZgAAAShJREFU\n",
       "KM9jYMAJ+C5gisWBiNNAzKu1vskcIsaTluzAwH4AyFoJ5Lx/wJl/GyIhzsD3l4FhAVAx0KSArQwM\n",
       "LL8hEvkODJ8YGMIYGDgmMLBOaACKVEMk/MESMxgYXjEwsDNuAIrMhbsGaBSzA0MZA8N0vgRkJ3EB\n",
       "lbEVMCxlYDjGEoAkfmw1kGBZwNAHZPIhSzDwAoX4Ghj+MTBM5kExiqF/AgPPB5AE14QNCFEZBgb7\n",
       "AJBECwMDawJIghMszvl/AkgCaJQpkGf6Fkg8mgCW+sXAoC/AwLqAIR3I4d58k/OxJcN8BSD7KgPf\n",
       "N7BzH4GUHdf/sQ/o3Y8gh5ZXOQCtfcDAIYCw+CGcNQNkM0IC4Z1cSLBjSHACg51BGuFlOIsbZD4j\n",
       "lqi9w8AAALbHRdYWLCV8AAAAAElFTkSuQmCC\n",
       "\" style=\"display:inline;vertical-align:middle;\" /></a></td></tr>\n",
       "<tr><td>9</td><td>Literal</td><td></td><td><a class=\"ProveItLink\" href=\"../../../sets/complex/__pv_it/c357845f93a5a2d9f649129d299e7ec28dda4b960/expr.ipynb\"><img src=\"data:image/png;base64,iVBORw0KGgoAAAANSUhEUgAAAA8AAAAOBAMAAAACpFvcAAAAMFBMVEX////c3NyqqqqYmJhUVFR2\n",
       "dnbu7u66urrMzMxmZmZEREQQEBAyMjIiIiKIiIgAAAB7fvZ0AAAAAXRSTlMAQObYZgAAAGVJREFU\n",
       "CNdjYGDgu3N+70oGBgaO+gK2+CdAhoEzAwPTFwYG5oQNQN4UBgZORgcgI4+BIZM9gAEMWpkMoAx2\n",
       "KCOLAyrFk+AAYTAHgBhsQLy4DkjUJjAwsHg9Y6taBpLsvP/bnYEBACkBFGQfBv8RAAAAAElFTkSu\n",
       "QmCC\n",
       "\" style=\"display:inline;vertical-align:middle;\" /></a></td></tr>\n",
       "<tr><td>10</td><td>Literal</td><td></td><td><a class=\"ProveItLink\" href=\"../../../numeral/__pv_it/9176d93c83afa2c995b614976e3cb49207102fa70/expr.ipynb\"><img src=\"data:image/png;base64,iVBORw0KGgoAAAANSUhEUgAAAAoAAAAOBAMAAADkjZCYAAAAMFBMVEX///+YmJju7u4QEBBUVFQy\n",
       "MjIiIiKIiIi6urpmZmbc3NyqqqpERER2dnbMzMwAAAB0GlNiAAAAAXRSTlMAQObYZgAAAE1JREFU\n",
       "CNdjYHh79zQDA9cEhv4CBt7fDPwJDNxgEgiAIkAQAsR8Vx1ATIbiBhDJ/ImB6wEDz0cG/U8gkj+A\n",
       "ge0XA7sAQ/8FBoadM6MZAEflFACalZ/OAAAAAElFTkSuQmCC\n",
       "\" style=\"display:inline;vertical-align:middle;\" /></a></td></tr>\n",
       "</table>\n"
      ],
      "text/plain": [
       "0. (a , A , A) in Complexes^{3}\n",
       "   core type: Operation\n",
       "   operator: 1\n",
       "   operands: 2\n",
       "1. in\n",
       "   core type: Literal\n",
       "   sub-expressions: \n",
       "2. ((a , A , A) , Complexes^{3})\n",
       "   core type: ExprTuple\n",
       "   sub-expressions: 3, 4\n",
       "3. (a , A , A)\n",
       "   core type: ExprTuple\n",
       "   sub-expressions: 5, 6, 6\n",
       "4. Complexes^{3}\n",
       "   core type: Operation\n",
       "   operator: 7\n",
       "   operands: 8\n",
       "5. a\n",
       "   core type: Variable\n",
       "   sub-expressions: \n",
       "6. A\n",
       "   core type: Variable\n",
       "   sub-expressions: \n",
       "7. Exp\n",
       "   core type: Literal\n",
       "   sub-expressions: \n",
       "8. (Complexes , 3)\n",
       "   core type: ExprTuple\n",
       "   sub-expressions: 9, 10\n",
       "9. Complexes\n",
       "   core type: Literal\n",
       "   sub-expressions: \n",
       "10. 3\n",
       "    core type: Literal\n",
       "    sub-expressions: "
      ]
     },
     "execution_count": 4,
     "metadata": {},
     "output_type": "execute_result"
    }
   ],
   "source": [
    "# display the expression information\n",
    "expr.exprInfo()"
   ]
  },
  {
   "cell_type": "code",
   "execution_count": null,
   "metadata": {},
   "outputs": [],
   "source": []
  }
 ],
 "metadata": {
  "kernelspec": {
   "display_name": "Python 3",
   "language": "python",
   "name": "python3"
  }
 },
 "nbformat": 4,
 "nbformat_minor": 0
}
