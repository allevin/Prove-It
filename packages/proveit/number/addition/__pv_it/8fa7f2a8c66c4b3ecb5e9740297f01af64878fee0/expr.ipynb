{
 "cells": [
  {
   "cell_type": "markdown",
   "metadata": {},
   "source": [
    "Expression of type <a class=\"ProveItLink\" href=\"../../../../../../doc/html/api/proveit.ExprTuple.html\">ExprTuple</a>\n",
    "=======================\n",
    "# from context <a class=\"ProveItLink\" href=\"../../_context_.ipynb\">proveit.number.addition</a>"
   ]
  },
  {
   "cell_type": "code",
   "execution_count": 1,
   "metadata": {},
   "outputs": [],
   "source": [
    "# import Expression classes needed to build the expression\n",
    "from proveit import ExprTuple\n",
    "from proveit._common_ import a, b, c, d\n",
    "from proveit.logic import InSet\n",
    "from proveit.number import Integers"
   ]
  },
  {
   "cell_type": "code",
   "execution_count": 2,
   "metadata": {},
   "outputs": [
    {
     "data": {
      "text/html": [
       "<strong id=\"expr\">expr:</strong> <a class=\"ProveItLink\" href=\"expr.ipynb\"><img src=\"data:image/png;base64,iVBORw0KGgoAAAANSUhEUgAAAOwAAAAVBAMAAAC3YB/2AAAAMFBMVEX////c3NwiIiJERESqqqqY\n",
       "mJh2dnZmZmYQEBDu7u4yMjJUVFTMzMyIiIi6uroAAAAs73DqAAAAAXRSTlMAQObYZgAAAqhJREFU\n",
       "SMfFlk1oE0EUx//JJpts0mwC3vTQkEshB91SRdNT8KiH7sWDghA/UE8lp4LaQ020t2owB8UiCYWS\n",
       "qKAV9GCxEPAiemhuYqUletDgxVhatCDqzGSm+5HZHArWHDZv97fzf/PmvTezwH/66c3d9hhskctb\n",
       "CQgcWH9YqJvMni244NE/6Xr6hoekE+pH8jLZSWI/kAyO1UqoKvzmkQuuXEYEhodbF4xnZbIRYsrW\n",
       "OJSDmh3nNxsuOAGcV1sebl3wW0kmG8whbAf351Jp+h8tYd/AAl+oLRd8Ad+COzPaSipVlcCzUllt\n",
       "Cl9tgwfmrTlkFG6ryR6olDIut29OQgprctmDdFXgWxq/Rp/tsXCweYJbkaUPpgueDpoiygurDSpg\n",
       "82RBIrshl72IeXJtJ5QOvRu2Bpc1URcVA7+cUDPKwnzditDFUBIySGS35LLHcJPMahMhg42w+Muo\n",
       "UBorYdoJo42nwscMFBpbGRJIZaty2TZ+kzc78NN61gupVDf30POfxZtXgB9O+EXPCR8dHhdh3ZJy\n",
       "Qn9OLrtM3cYNVGiGRO3ShIKInGHmEPRNJ6ySvlPZrOM8EFvtOmClJZddxnVgsIkxkLRryW3Oei/J\n",
       "2zZEM2RB1np+Zg7ypr8NOfSSbeMQKZosFgM03OcCs95Tp+ggUk9htmzbkLXeJWg0IJJYmtuoKYHe\n",
       "sjhFahkRMzCkskmL7UVJZKBNGNo6sZ/hKhxwmLTenXOokFlH81CpsLYfvdBTljbQJ9pfa6/W2Gxq\n",
       "DV4io8WRJ8W8doskafZdNxQB9WJ9ZPTnYdz9TvfC1ffs4d5J9EBPWeAxwgn7EbHIS06cIP3gR/vN\n",
       "8TleyTLoHkk2x2Cu38nY79g0dwzVpvzg+8du79Ha68P7fXjEsFMIuo/5dv2jJtbAXx0S4l0LBSDs\n",
       "AAAAAElFTkSuQmCC\n",
       "\" style=\"display:inline;vertical-align:middle;\" /></a><br>"
      ],
      "text/plain": [
       "expr: (a in Integers , b in Integers , c in Integers , d in Integers)"
      ]
     },
     "execution_count": 2,
     "metadata": {},
     "output_type": "execute_result"
    }
   ],
   "source": [
    "# build up the expression from sub-expressions\n",
    "expr = ExprTuple(InSet(a, Integers), InSet(b, Integers), InSet(c, Integers), InSet(d, Integers))"
   ]
  },
  {
   "cell_type": "code",
   "execution_count": 3,
   "metadata": {},
   "outputs": [
    {
     "name": "stdout",
     "output_type": "stream",
     "text": [
      "Passed sanity check: built 'expr' is the same as the stored Expression.\n"
     ]
    }
   ],
   "source": [
    "# check that the built expression is the same as the stored expression\n",
    "%check_expr"
   ]
  },
  {
   "cell_type": "code",
   "execution_count": 4,
   "metadata": {},
   "outputs": [
    {
     "data": {
      "text/html": [
       "<table><tr><th>&nbsp;</th><th>core type</th><th>sub-expressions</th><th>expression</th></tr>\n",
       "<tr><td>0</td><td>ExprTuple</td><td>1, 2, 3, 4</td><td><a class=\"ProveItLink\" href=\"expr.ipynb\"><img src=\"data:image/png;base64,iVBORw0KGgoAAAANSUhEUgAAAOwAAAAVBAMAAAC3YB/2AAAAMFBMVEX////c3NwiIiJERESqqqqY\n",
       "mJh2dnZmZmYQEBDu7u4yMjJUVFTMzMyIiIi6uroAAAAs73DqAAAAAXRSTlMAQObYZgAAAqhJREFU\n",
       "SMfFlk1oE0EUx//JJpts0mwC3vTQkEshB91SRdNT8KiH7sWDghA/UE8lp4LaQ020t2owB8UiCYWS\n",
       "qKAV9GCxEPAiemhuYqUletDgxVhatCDqzGSm+5HZHArWHDZv97fzf/PmvTezwH/66c3d9hhskctb\n",
       "CQgcWH9YqJvMni244NE/6Xr6hoekE+pH8jLZSWI/kAyO1UqoKvzmkQuuXEYEhodbF4xnZbIRYsrW\n",
       "OJSDmh3nNxsuOAGcV1sebl3wW0kmG8whbAf351Jp+h8tYd/AAl+oLRd8Ad+COzPaSipVlcCzUllt\n",
       "Cl9tgwfmrTlkFG6ryR6olDIut29OQgprctmDdFXgWxq/Rp/tsXCweYJbkaUPpgueDpoiygurDSpg\n",
       "82RBIrshl72IeXJtJ5QOvRu2Bpc1URcVA7+cUDPKwnzditDFUBIySGS35LLHcJPMahMhg42w+Muo\n",
       "UBorYdoJo42nwscMFBpbGRJIZaty2TZ+kzc78NN61gupVDf30POfxZtXgB9O+EXPCR8dHhdh3ZJy\n",
       "Qn9OLrtM3cYNVGiGRO3ShIKInGHmEPRNJ6ySvlPZrOM8EFvtOmClJZddxnVgsIkxkLRryW3Oei/J\n",
       "2zZEM2RB1np+Zg7ypr8NOfSSbeMQKZosFgM03OcCs95Tp+ggUk9htmzbkLXeJWg0IJJYmtuoKYHe\n",
       "sjhFahkRMzCkskmL7UVJZKBNGNo6sZ/hKhxwmLTenXOokFlH81CpsLYfvdBTljbQJ9pfa6/W2Gxq\n",
       "DV4io8WRJ8W8doskafZdNxQB9WJ9ZPTnYdz9TvfC1ffs4d5J9EBPWeAxwgn7EbHIS06cIP3gR/vN\n",
       "8TleyTLoHkk2x2Cu38nY79g0dwzVpvzg+8du79Ha68P7fXjEsFMIuo/5dv2jJtbAXx0S4l0LBSDs\n",
       "AAAAAElFTkSuQmCC\n",
       "\" style=\"display:inline;vertical-align:middle;\" /></a></td></tr>\n",
       "<tr><td>1</td><td>Operation</td><td>operator:&nbsp;8<br>operands:&nbsp;5<br></td><td><a class=\"ProveItLink\" href=\"../e52c7680f4f53012348eb0170b3bcb1877ce6f460/expr.ipynb\"><img src=\"data:image/png;base64,iVBORw0KGgoAAAANSUhEUgAAADIAAAAPBAMAAABU9YHxAAAAMFBMVEX///8yMjKqqqrMzMzu7u4i\n",
       "IiJmZmaYmJhEREQQEBC6urp2dnaIiIhUVFTc3NwAAAD87Fq/AAAAAXRSTlMAQObYZgAAANpJREFU\n",
       "GNNjYMAATPFfBadKFmBKMPCIOTAIcGCRYGDbwMCtsAtZxEc0NBBE8zowvGW+gCTBLO4AZ7dwgNh8\n",
       "d3bNA/FeICTYD5SDqJUPOD6A6D6Edg+WBpCW7wxsIBrMgYLLvA9A9n1gYD0ApLmmhoZCXMDAlbAa\n",
       "RPE3MPgbgByAcA0jgwADwz6G9wcY9BmAlrMEwGU2cS9gYAhg8FdguMgE0nQdJsF3wZaBgXsCA2MB\n",
       "Uxg3SMB1AVSG40ELA0t2A9A7pyxOgZWKGUBkVjbO6JCfkYAcxhehboMAAOemMLNTwnkhAAAAAElF\n",
       "TkSuQmCC\n",
       "\" style=\"display:inline;vertical-align:middle;\" /></a></td></tr>\n",
       "<tr><td>2</td><td>Operation</td><td>operator:&nbsp;8<br>operands:&nbsp;6<br></td><td><a class=\"ProveItLink\" href=\"../51c67a7d63d0ef51371e0f6bbf4607dc0d1bbaf10/expr.ipynb\"><img src=\"data:image/png;base64,iVBORw0KGgoAAAANSUhEUgAAADAAAAAPBAMAAABQAFHMAAAAMFBMVEX////c3NxmZmbMzMxERESY\n",
       "mJiIiIh2dna6urqqqqoyMjIiIiIQEBBUVFTu7u4AAAAiO1wTAAAAAXRSTlMAQObYZgAAAOJJREFU\n",
       "GNNj4LuzgQEFcO7/ver0mgAGBq4LqBJsix4wLGABMvgnoEowFTCwT6gAMvofQASerd69C0TzPmCQ\n",
       "ZQaZUg0RZ176AK7JjwXEXpt2FcQRQYizJoQCSb4vDPwGQNoRYcsTPgeQ6/4x8BQA5R0QEpd5BUCO\n",
       "WMDAr8DAwHF6926I5QwcCu0giluBoR/oG2aEb7gYFjAwFIK8oQ+0lw/h/0r2BgaGDSCbj4O4V2Hi\n",
       "jBdsGRjYDzDwTmACm/K6ASrBIuDHwKfuwMB3TRWicJEBRKLH64jL+iMKSKF6C+oqCAAAiJc438f0\n",
       "fH8AAAAASUVORK5CYII=\n",
       "\" style=\"display:inline;vertical-align:middle;\" /></a></td></tr>\n",
       "<tr><td>3</td><td>Operation</td><td>operator:&nbsp;8<br>operands:&nbsp;7<br></td><td><a class=\"ProveItLink\" href=\"../3f798d5be9a78678bd6b3d46f4fa53830eb88cf50/expr.ipynb\"><img src=\"data:image/png;base64,iVBORw0KGgoAAAANSUhEUgAAADAAAAAPBAMAAABQAFHMAAAAMFBMVEX///+qqqpmZmbc3NxUVFSY\n",
       "mJhEREQiIiIyMjK6uroQEBDMzMyIiIh2dnbu7u4AAAA4MM1YAAAAAXRSTlMAQObYZgAAAMxJREFU\n",
       "GNNjYEAHjPXfO5Z3BWCIM/A0PWBoYMMUZ2C6wMArcBNJ4E17eQWIZnnAYMLtgBDnbn0AZ+exgdh8\n",
       "d89sAFJmCHHWA6EgatcEjgIglYzQ/IwvAaRhDQMb0G1gNhR4sxiA7PoA5nAuLy+HWM7AqTAXRPFD\n",
       "lCK5g4OhgYHhMoP9ATCPrwAucZF3AgNDAQM/0AKQ/11h4swOWxgYeBcwsCgw8IKc+3wCVILNII+B\n",
       "Txdoge6Zc2CFTRsgErMylqX1L1NAClUPqKsgAAAt6C9QaLEFtwAAAABJRU5ErkJggg==\n",
       "\" style=\"display:inline;vertical-align:middle;\" /></a></td></tr>\n",
       "<tr><td>4</td><td>Operation</td><td>operator:&nbsp;8<br>operands:&nbsp;9<br></td><td><a class=\"ProveItLink\" href=\"../5427ad2f07cb5652b81d8908f2b5e3f360155a150/expr.ipynb\"><img src=\"data:image/png;base64,iVBORw0KGgoAAAANSUhEUgAAADIAAAAPBAMAAABU9YHxAAAAMFBMVEX////MzMyYmJiIiIhUVFTc\n",
       "3NwyMjIiIiJ2dnbu7u6qqqpmZmYQEBBERES6uroAAABkyy6XAAAAAXRSTlMAQObYZgAAAOpJREFU\n",
       "GNNjYGBg4LuzgQEJcNV/TzueowBm8y9AlmHOnsCQwAthv5+ALMPdwMCxoA/CbgeTk9PLy0A0ywSG\n",
       "EEYHiEw2iGBMQui8yQtiszr3/QLxYhESTAZKIOpNAO9PEH0VYdNczgsgLZ8YuBOANJgDBY4sASD7\n",
       "PjCwN4A8dby8HOICBr4NL8B+ucAw/wHIAQ5wLWwMQENaGeINGNYzAC3nLIDLdHEAlRYwzF/A4MYl\n",
       "AOQ7wSRYHUQYGDgOMLApcFVzgASmP4DK8AbcZODccQHoHTtZO7DSbAGIzJtrZ+/mn0UOZC43qNsg\n",
       "AABahDh0K0FjhQAAAABJRU5ErkJggg==\n",
       "\" style=\"display:inline;vertical-align:middle;\" /></a></td></tr>\n",
       "<tr><td>5</td><td>ExprTuple</td><td>10, 14</td><td><a class=\"ProveItLink\" href=\"../fd4dcad9558b1c0858078438f4330f7eb1678eba0/expr.ipynb\"><img src=\"data:image/png;base64,iVBORw0KGgoAAAANSUhEUgAAAC4AAAAVBAMAAADLKsFqAAAAMFBMVEX////c3NwiIiJERESqqqqY\n",
       "mJh2dnZmZmYQEBDu7u4yMjJUVFTMzMyIiIi6uroAAAAs73DqAAAAAXRSTlMAQObYZgAAAR5JREFU\n",
       "GNNjYMAF+C5gCLE+ABKnkQRY9D+taloRwFADZK9EEuddPoFhATMDAxeQiWwMewIDm0Me0KAEBo4J\n",
       "SOLcExikeTYwMHA2MLxCs9OSGaTQhKEMSDLuzWuEOeVCKIhKZ1gKJF8IMH+Aik/mNABRXgx9QOVf\n",
       "GdgNoOJ7uAVA1AuGf0DbPjAwQV3FV/AMTJ8HifMbMMw/ABHnYljAwJAIEm9hYJC/wODPAHFuChsw\n",
       "CBRA5pgyMMx3YNjFcoAT5LANwFBha2BgiAK6iIErgEWdjWE+UBmzgCUDZ5kByJ2PQM6/d/gew4yP\n",
       "QO1WzcbrmwsYGNYxcAjAfPoQ4WlgOACDCAoCEOJsF5DCGUl8FhBLw8IeKfA2gtyGGY+8BxgAz2FB\n",
       "pcJZQS4AAAAASUVORK5CYII=\n",
       "\" style=\"display:inline;vertical-align:middle;\" /></a></td></tr>\n",
       "<tr><td>6</td><td>ExprTuple</td><td>11, 14</td><td><a class=\"ProveItLink\" href=\"../3284c4c0abf842a90cd48246d8a0360c78123df80/expr.ipynb\"><img src=\"data:image/png;base64,iVBORw0KGgoAAAANSUhEUgAAACwAAAAVBAMAAADP3xFXAAAAMFBMVEX////c3NwiIiJERESqqqqY\n",
       "mJh2dnZmZmYQEBDu7u4yMjJUVFTMzMyIiIi6uroAAAAs73DqAAAAAXRSTlMAQObYZgAAASZJREFU\n",
       "GNNjYMAB+C6gi7A+ABKnGTh3KED4LPqfVjWtCGCoAbJXMjBwbYAI8y6fwLCAGcgHMoFm8DtAhNkT\n",
       "GNgc8oCmJDBwTGBgeD8BIsw9gUGaB6iTs4HhFZCbhLDOkhmkxIShDEiuvrsV5ogLoSAqnWEpUM9n\n",
       "Bv4DEOHJnAYgyouhD+iunwwcCRDhPdwCIOoFwz+gAxYw8BdAvFbwDEyfBwkzFTC8DwBzuRgWMDAk\n",
       "goRbwM6uhzgxhQ3obwWQIaYMIPvaGDiBoowbTjMwsDUwMEQB3cLA7cC+gWE+UBGzgCUDZ5kByIGP\n",
       "gA7cW8rAMOMjUK9Vs/H6ZqDt6xg4BKA+eYjwKtDzrFAXMwQghNkugAMWXXgWEEtDwxopejaCXIUR\n",
       "abwHGABefEKB34/mbQAAAABJRU5ErkJggg==\n",
       "\" style=\"display:inline;vertical-align:middle;\" /></a></td></tr>\n",
       "<tr><td>7</td><td>ExprTuple</td><td>12, 14</td><td><a class=\"ProveItLink\" href=\"../f293ccfd6427aaae27979ddb0022a88d10211cbd0/expr.ipynb\"><img src=\"data:image/png;base64,iVBORw0KGgoAAAANSUhEUgAAACwAAAAVBAMAAADP3xFXAAAAMFBMVEX////c3NwiIiJERESqqqqY\n",
       "mJh2dnZmZmYQEBDu7u4yMjJUVFTMzMyIiIi6uroAAAAs73DqAAAAAXRSTlMAQObYZgAAAQ9JREFU\n",
       "GNNjYMAB+C6gi7A+ABKnEXwW/U+rmlYEMNQA2SsRwrzLJzAsYGZg4AIykcxgT2Bgc8gDmpLAwDEB\n",
       "Icw9gUGaZwMDA2cDwytU6yyZQcpMGMqAJGfa3QNQR1wIBVHpDEuB5IkHXAoQ4cmcBiDKi6EPqLiX\n",
       "gTkAIryHWwBEvWD4B7TpA9xrBc/A9HmQML8BTJiLYQEDQyJIuIWBQR7u9BQ2oL8VQIaYAlUDDQ7g\n",
       "BIoybgCGBFsDA0MU0C0M3AUMbAfmAxUxC1gycJYZgBz4CKiq7O5NhhkfgXqtmo3XNxcwMKxj4BCA\n",
       "mvsQ4VWg54HBAgEBCGG2C4iARRKeBcTS0LBGCq+NIFdhRBrvAQYAVtw8joa81lAAAAAASUVORK5C\n",
       "YII=\n",
       "\" style=\"display:inline;vertical-align:middle;\" /></a></td></tr>\n",
       "<tr><td>8</td><td>Literal</td><td></td><td><a class=\"ProveItLink\" href=\"../../../../logic/set_theory/membership/__pv_it/088cbc857536a28d4119ad9639a84270ccb0545d0/expr.ipynb\"><img src=\"data:image/png;base64,iVBORw0KGgoAAAANSUhEUgAAAAwAAAAMBAMAAACkW0HUAAAALVBMVEX///+qqqpmZmZUVFQQEBC6\n",
       "urpERETc3NyYmJjMzMwiIiIyMjKIiIju7u4AAACYsrA9AAAAAXRSTlMAQObYZgAAADxJREFUCNdj\n",
       "YOA9vWrVBgaG2b0MQMCeCyIZ2ArA1DUwyRCyahVIyWQI7xaEYm4AU7xLIdxqTQgtvGvVBgCkcQ7e\n",
       "geM/tQAAAABJRU5ErkJggg==\n",
       "\" style=\"display:inline;vertical-align:middle;\" /></a></td></tr>\n",
       "<tr><td>9</td><td>ExprTuple</td><td>13, 14</td><td><a class=\"ProveItLink\" href=\"../c2b98f679cb37cb59170054a105a6671c859e6170/expr.ipynb\"><img src=\"data:image/png;base64,iVBORw0KGgoAAAANSUhEUgAAAC4AAAAVBAMAAADLKsFqAAAAMFBMVEX////c3NwiIiJERESqqqqY\n",
       "mJh2dnZmZmYQEBDu7u4yMjJUVFTMzMyIiIi6uroAAAAs73DqAAAAAXRSTlMAQObYZgAAAS1JREFU\n",
       "GNNjYMAF+C5gCLE+ABKnwZIWBSCKRf/TqqYVAQw1QPZKsBJ+BxDJu3wCwwJmBgYuIBNizPsJIJI9\n",
       "gYHNIQ9oUAIDB1iAIQlMck9gkObZwMDA2cDwCmLVcpidlswghSYMZUCScW/eF5hTLoSCqHSGpUDy\n",
       "hQDzT6j4ZE4DEOXF0AdU/pWBfQFUfA+3AIh6wfAPaNsHBqYEqCcLnoHp8yBxfgOG+Q8g4lwMQI2J\n",
       "IPEWBgb5Cwz+DBDnprABFSiAzDFlYJjvwLCL5QAnyGEbgKHC1sDAEAV0EQNXAIs6G8N8oDJmAUsG\n",
       "zjIDkDsfgZx/7/A9hhkfgdqtmo3XNwODcB0DhwDMpw8RAQ0MB9YEGCcAIc52ARbOqOKzgFgayuZF\n",
       "irCNILdhxiPvAQYAIXhFzpGvegsAAAAASUVORK5CYII=\n",
       "\" style=\"display:inline;vertical-align:middle;\" /></a></td></tr>\n",
       "<tr><td>10</td><td>Variable</td><td></td><td><a class=\"ProveItLink\" href=\"../../../../__pv_it/07527342713064c87612d00d8557c53d53d5324a0/expr.ipynb\"><img src=\"data:image/png;base64,iVBORw0KGgoAAAANSUhEUgAAAAsAAAAJBAMAAAAWSsseAAAAMFBMVEX///8yMjKqqqrMzMzu7u4i\n",
       "IiJmZmaYmJhEREQQEBC6urp2dnaIiIhUVFTc3NwAAAD87Fq/AAAAAXRSTlMAQObYZgAAAEhJREFU\n",
       "CNdjYOC7s2seAwPDygccHxgY+L4zsDUwMPB+YGA9wMDA38Dgb8DA8P4Agz6DA4O/AsNFJgMGxgKm\n",
       "MG6gyjunLE4xAAAZTBA5TB6DCwAAAABJRU5ErkJggg==\n",
       "\" style=\"display:inline;vertical-align:middle;\" /></a></td></tr>\n",
       "<tr><td>11</td><td>Variable</td><td></td><td><a class=\"ProveItLink\" href=\"../../../../__pv_it/6840a4fa6c106149dc16a131294d0c5e44f1b0480/expr.ipynb\"><img src=\"data:image/png;base64,iVBORw0KGgoAAAANSUhEUgAAAAkAAAAOBAMAAAAPuiubAAAALVBMVEX///9mZmbMzMxERESYmJiI\n",
       "iIh2dna6urqqqqoyMjIiIiIQEBBUVFTu7u4AAAD9S1JeAAAAAXRSTlMAQObYZgAAAE1JREFUCNdj\n",
       "4D29gAEIOA+ASL4GEFl3AURmgQiGOaFHGBh4HzPwKTBwvGXgTmBgnMDAJ8DAJcBQ5wBSLncBJLWN\n",
       "gYGngRFoBO9REQYGAGrcDtUkVqASAAAAAElFTkSuQmCC\n",
       "\" style=\"display:inline;vertical-align:middle;\" /></a></td></tr>\n",
       "<tr><td>12</td><td>Variable</td><td></td><td><a class=\"ProveItLink\" href=\"../../../../__pv_it/cbdfda466482236edba0ce44ac7ef39cda0af7a40/expr.ipynb\"><img src=\"data:image/png;base64,iVBORw0KGgoAAAANSUhEUgAAAAkAAAAJBAMAAAASvxsjAAAALVBMVEX///9mZmbc3NxUVFSYmJhE\n",
       "REQiIiIyMjK6uroQEBDMzMyIiIh2dnbu7u4AAABgFDGoAAAAAXRSTlMAQObYZgAAADZJREFUCNdj\n",
       "YOA9s3sBA8PKBvYEBt7ZDKwODMwPGICALwBE6m0Asx0YGIDiAgw8QJUyu/cyAAAmuwmycZ8WfQAA\n",
       "AABJRU5ErkJggg==\n",
       "\" style=\"display:inline;vertical-align:middle;\" /></a></td></tr>\n",
       "<tr><td>13</td><td>Variable</td><td></td><td><a class=\"ProveItLink\" href=\"../../../../__pv_it/3a5de44ed6135dbbdbbeec6704c741e238f127300/expr.ipynb\"><img src=\"data:image/png;base64,iVBORw0KGgoAAAANSUhEUgAAAAsAAAAOBAMAAAALT/umAAAAMFBMVEX////MzMyYmJiIiIhUVFTc\n",
       "3NwyMjIiIiJ2dnbu7u6qqqpmZmYQEBBERES6uroAAABkyy6XAAAAAXRSTlMAQObYZgAAAFhJREFU\n",
       "CNdjYGBg4LuzgQEE+BeAqfcTwFQ7mGTIBmJW575fQOpNAO9PIOcTA3cCAwPLBwb2BqCeCwzzHzAw\n",
       "xBswrGeYwDB/AYMblwADmwJXNQdIm52sHQMAfyoTCZukXIEAAAAASUVORK5CYII=\n",
       "\" style=\"display:inline;vertical-align:middle;\" /></a></td></tr>\n",
       "<tr><td>14</td><td>Literal</td><td></td><td><a class=\"ProveItLink\" href=\"../../../sets/integer/__pv_it/7b9e51516f347f625fa636d7bb440e96498977000/expr.ipynb\"><img src=\"data:image/png;base64,iVBORw0KGgoAAAANSUhEUgAAAA4AAAAOBAMAAADtZjDiAAAAMFBMVEX////MzMzc3NxUVFS6urp2\n",
       "dnZERETu7u5mZmaIiIiYmJgQEBAyMjIiIiKqqqoAAAAf68ZqAAAAAXRSTlMAQObYZgAAAGlJREFU\n",
       "CNdj4Lv/98ze0wsYOE8UMBxgY2DgCGBgfRDCwMBcwKDMaMAAAulsBSCKa8IqMLeMPQFMGzIrgCiW\n",
       "Blcwl4fhAANDEANDHKsDA8MFBiYDYQYG1g0MbArpDOytCQzeOdvSzm9rAAAm6xY1AUf+1AAAAABJ\n",
       "RU5ErkJggg==\n",
       "\" style=\"display:inline;vertical-align:middle;\" /></a></td></tr>\n",
       "</table>\n"
      ],
      "text/plain": [
       "0. (a in Integers , b in Integers , c in Integers , d in Integers)\n",
       "   core type: ExprTuple\n",
       "   sub-expressions: 1, 2, 3, 4\n",
       "1. a in Integers\n",
       "   core type: Operation\n",
       "   operator: 8\n",
       "   operands: 5\n",
       "2. b in Integers\n",
       "   core type: Operation\n",
       "   operator: 8\n",
       "   operands: 6\n",
       "3. c in Integers\n",
       "   core type: Operation\n",
       "   operator: 8\n",
       "   operands: 7\n",
       "4. d in Integers\n",
       "   core type: Operation\n",
       "   operator: 8\n",
       "   operands: 9\n",
       "5. (a , Integers)\n",
       "   core type: ExprTuple\n",
       "   sub-expressions: 10, 14\n",
       "6. (b , Integers)\n",
       "   core type: ExprTuple\n",
       "   sub-expressions: 11, 14\n",
       "7. (c , Integers)\n",
       "   core type: ExprTuple\n",
       "   sub-expressions: 12, 14\n",
       "8. in\n",
       "   core type: Literal\n",
       "   sub-expressions: \n",
       "9. (d , Integers)\n",
       "   core type: ExprTuple\n",
       "   sub-expressions: 13, 14\n",
       "10. a\n",
       "    core type: Variable\n",
       "    sub-expressions: \n",
       "11. b\n",
       "    core type: Variable\n",
       "    sub-expressions: \n",
       "12. c\n",
       "    core type: Variable\n",
       "    sub-expressions: \n",
       "13. d\n",
       "    core type: Variable\n",
       "    sub-expressions: \n",
       "14. Integers\n",
       "    core type: Literal\n",
       "    sub-expressions: "
      ]
     },
     "execution_count": 4,
     "metadata": {},
     "output_type": "execute_result"
    }
   ],
   "source": [
    "# display the expression information\n",
    "expr.exprInfo()"
   ]
  },
  {
   "cell_type": "code",
   "execution_count": null,
   "metadata": {},
   "outputs": [],
   "source": []
  }
 ],
 "metadata": {
  "kernelspec": {
   "display_name": "Python 3",
   "language": "python",
   "name": "python3"
  }
 },
 "nbformat": 4,
 "nbformat_minor": 0
}
