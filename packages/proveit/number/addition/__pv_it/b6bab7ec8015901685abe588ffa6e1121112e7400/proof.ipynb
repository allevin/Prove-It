{
 "cells": [
  {
   "cell_type": "markdown",
   "metadata": {},
   "source": [
    "Show the Proof\n",
    "========"
   ]
  },
  {
   "cell_type": "code",
   "execution_count": 1,
   "metadata": {},
   "outputs": [
    {
     "data": {
      "text/html": [
       "<table><tr><th>&nbsp;</th><th>step type</th><th>requirements</th><th>statement</th></tr>\n",
       "<tr><td>0</td><td>assumption</td><td></td><td><span style=\"font-size:20px;\"><a class=\"ProveItLink\" href=\"../64148fd127ae8464b7751f74330a4db8c683eeff0/expr.ipynb\"><img src=\"data:image/png;base64,iVBORw0KGgoAAAANSUhEUgAAAEUAAAAVBAMAAADiLT7tAAAAMFBMVEX///9ERETc3NyqqqpUVFS6\n",
       "urrMzMwyMjIQEBCIiIh2dnYiIiLu7u5mZmaYmJgAAABJJ2g3AAAAAXRSTlMAQObYZgAAARFJREFU\n",
       "KM9jYGDgu8eAE7CtUgBRPLsY8AC2ZhDJ+QGLFF+94PeKShDrOojgasCmn5HJgU24CMhYgU/NBQYZ\n",
       "RaxqeKbv3l0AU7OMEaua9DdI5qCpYbo1F+RJJhlku3zgdvGCzLZWAIoBZRSQ1LDuA7n5PYiXEQDU\n",
       "/5WBNwHIPojk5u7dxSAGO1BvShuQwdL3chJIIGL3bribr16AWCz+ACgONID/AkR3CrLfr4J53AtA\n",
       "ZgD18U+AyJxGVsN+8gHMPVwbGBg4gGpAylgeIKlhc3BD9jtnAcNZkJd4tiL7fTHIm4jwWTsTYpv6\n",
       "NXicfkxgF/+MNb5MqiH+ggM8cYqqhg+/GnD64dmJNx22Qty3mEB6BgAed0/ReMSnbwAAAABJRU5E\n",
       "rkJggg==\n",
       "\" style=\"display:inline;vertical-align:middle;\" /></a> <a class=\"ProveItLink\" href=\"proof.ipynb\" style=\"text-decoration: none\">&#x22A2;&nbsp;</a><a class=\"ProveItLink\" href=\"../6e6429eaf306421576a51ad7adc9b1201573d9e00/expr.ipynb\"><img src=\"data:image/png;base64,iVBORw0KGgoAAAANSUhEUgAAADIAAAAPBAMAAABU9YHxAAAAMFBMVEX///9ERETu7u4yMjKYmJgQ\n",
       "EBBUVFTMzMy6uroiIiKqqqqIiIh2dnZmZmbc3NwAAAD5WabrAAAAAXRSTlMAQObYZgAAALVJREFU\n",
       "GNNjYEAHLPaCn02tGbABRr4Edik77DIXGIQeIgkwbZ450wAmc5wRSabYCUkPWIbvzt4HIEoI2bQk\n",
       "kGkrHwBZQP4DJBmOKUAX8P1g4C0A8hWRXBA50wpIs4V47wPxW2fOhLvgxgWQ0fwXICrLkF19A8Tj\n",
       "3wDhayLLMGs7MDCwAmVAkmwOSDLsCekMDNwGDLogZzHNQHb1KZBTz+6GmPf4OjxEPxYwC/9CCoRl\n",
       "lhC3QQEAPNwzOtm06wcAAAAASUVORK5CYII=\n",
       "\" style=\"display:inline;vertical-align:middle;\" /></a></span></td></tr>\n",
       "</table>"
      ],
      "text/plain": [
       "<proveit._core_.proof._ShowProof at 0x7f94ebf9b860>"
      ]
     },
     "execution_count": 1,
     "metadata": {},
     "output_type": "execute_result"
    }
   ],
   "source": [
    "import proveit\n",
    "%show_proof"
   ]
  },
  {
   "cell_type": "code",
   "execution_count": null,
   "metadata": {},
   "outputs": [],
   "source": []
  }
 ],
 "metadata": {
  "kernelspec": {
   "display_name": "Python 3",
   "language": "python",
   "name": "python3"
  }
 },
 "nbformat": 4,
 "nbformat_minor": 0
}
