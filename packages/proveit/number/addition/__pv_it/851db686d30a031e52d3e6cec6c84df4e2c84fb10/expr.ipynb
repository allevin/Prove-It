{
 "cells": [
  {
   "cell_type": "markdown",
   "metadata": {},
   "source": [
    "Expression of type <a class=\"ProveItLink\" href=\"../../../../../../doc/html/api/proveit.logic.Equals.html\">Equals</a>\n",
    "=======================\n",
    "# from context <a class=\"ProveItLink\" href=\"../../_context_.ipynb\">proveit.number.addition</a>"
   ]
  },
  {
   "cell_type": "code",
   "execution_count": 1,
   "metadata": {},
   "outputs": [],
   "source": [
    "# import Expression classes needed to build the expression\n",
    "from proveit.logic import Equals\n",
    "from proveit.number import Add, one, three, two"
   ]
  },
  {
   "cell_type": "code",
   "execution_count": 2,
   "metadata": {},
   "outputs": [
    {
     "data": {
      "text/html": [
       "<strong id=\"expr\">expr:</strong> <a class=\"ProveItLink\" href=\"expr.ipynb\"><img src=\"data:image/png;base64,iVBORw0KGgoAAAANSUhEUgAAAMcAAAAVBAMAAAAA3efRAAAAMFBMVEX////c3NwiIiJERESqqqqY\n",
       "mJh2dnZmZmYQEBDu7u4yMjJUVFTMzMyIiIi6uroAAAAs73DqAAAAAXRSTlMAQObYZgAAAgRJREFU\n",
       "SMe9lT9II1EQxr/8c7ObZC9WFqcgFmKnhbaaWhBjY2EhgmAq0UohWESwsdG1EytBRG4FibWFVlpY\n",
       "mMZKD8XqOBDkigMFE9+fxLCz8xYrBybZ/e238yXz3s4C3xJuTScbqUeOzjLs2VRfia+bmfDoZUnW\n",
       "CMsuzBdgXYRKZatAV3nUJP6l0x6jJoo4BHbBfQf2QyaOh1gVDwVenKuptM/OWyY7TQ9FUnNBulTA\n",
       "P2A6ZPIbyHiIv/DitKcTDy2TidaNktiVIJ1U9+2GTDZFlU1k6rz4L3QaTDBMqexAokB3j+iJ8wqr\n",
       "zotXxOFKhEmJUkcscccyMbF0V+OvvPhQHB5GmIwTenksPpJq5S1fRVUWK6qLN3O8eEt8bUWY/KE0\n",
       "J9RuhfyTtH6eDgxi2cV6hMkNpdj2kH0hJj+UiTVkEBOTsu8P+P4xMWnTbmCsaDK5g0G8IU42vtwu\n",
       "u+HJ+3S7rD4V8uen5XZLLqOTF4+Is5EIk5kgfQMG80jRRz4hF/4KmOLFpdY2/doWvoX7n9nCEsT6\n",
       "F0q9vPhJnMhc3T4qBk00OQmaJFfLojMOHc6uqB5vNBq9vDidh8p2TASmZIWj4bGyDmOJXT0BP6dg\n",
       "+M3QUePoYshk2vxyWWyPekPscdBmR70hlPhnM/k45WAmH0KxqqmCEsdqOtnIXXD0nmE9JhMh/gDu\n",
       "ysM+KdkLpwAAAABJRU5ErkJggg==\n",
       "\" style=\"display:inline;vertical-align:middle;\" /></a><br>"
      ],
      "text/plain": [
       "expr: ((1 + 1) + 3) = (2 + 3)"
      ]
     },
     "execution_count": 2,
     "metadata": {},
     "output_type": "execute_result"
    }
   ],
   "source": [
    "# build up the expression from sub-expressions\n",
    "expr = Equals(Add(Add(one, one), three), Add(two, three))"
   ]
  },
  {
   "cell_type": "code",
   "execution_count": 3,
   "metadata": {},
   "outputs": [
    {
     "name": "stdout",
     "output_type": "stream",
     "text": [
      "Passed sanity check: built 'expr' is the same as the stored Expression.\n"
     ]
    }
   ],
   "source": [
    "# check that the built expression is the same as the stored expression\n",
    "%check_expr"
   ]
  },
  {
   "cell_type": "code",
   "execution_count": 4,
   "metadata": {},
   "outputs": [
    {
     "data": {
      "text/html": [
       "<table><tr><th>&nbsp;</th><th>core type</th><th>sub-expressions</th><th>expression</th></tr>\n",
       "<tr><td>0</td><td>Operation</td><td>operator:&nbsp;1<br>operands:&nbsp;2<br></td><td><a class=\"ProveItLink\" href=\"expr.ipynb\"><img src=\"data:image/png;base64,iVBORw0KGgoAAAANSUhEUgAAAMcAAAAVBAMAAAAA3efRAAAAMFBMVEX////c3NwiIiJERESqqqqY\n",
       "mJh2dnZmZmYQEBDu7u4yMjJUVFTMzMyIiIi6uroAAAAs73DqAAAAAXRSTlMAQObYZgAAAgRJREFU\n",
       "SMe9lT9II1EQxr/8c7ObZC9WFqcgFmKnhbaaWhBjY2EhgmAq0UohWESwsdG1EytBRG4FibWFVlpY\n",
       "mMZKD8XqOBDkigMFE9+fxLCz8xYrBybZ/e238yXz3s4C3xJuTScbqUeOzjLs2VRfia+bmfDoZUnW\n",
       "CMsuzBdgXYRKZatAV3nUJP6l0x6jJoo4BHbBfQf2QyaOh1gVDwVenKuptM/OWyY7TQ9FUnNBulTA\n",
       "P2A6ZPIbyHiIv/DitKcTDy2TidaNktiVIJ1U9+2GTDZFlU1k6rz4L3QaTDBMqexAokB3j+iJ8wqr\n",
       "zotXxOFKhEmJUkcscccyMbF0V+OvvPhQHB5GmIwTenksPpJq5S1fRVUWK6qLN3O8eEt8bUWY/KE0\n",
       "J9RuhfyTtH6eDgxi2cV6hMkNpdj2kH0hJj+UiTVkEBOTsu8P+P4xMWnTbmCsaDK5g0G8IU42vtwu\n",
       "u+HJ+3S7rD4V8uen5XZLLqOTF4+Is5EIk5kgfQMG80jRRz4hF/4KmOLFpdY2/doWvoX7n9nCEsT6\n",
       "F0q9vPhJnMhc3T4qBk00OQmaJFfLojMOHc6uqB5vNBq9vDidh8p2TASmZIWj4bGyDmOJXT0BP6dg\n",
       "+M3QUePoYshk2vxyWWyPekPscdBmR70hlPhnM/k45WAmH0KxqqmCEsdqOtnIXXD0nmE9JhMh/gDu\n",
       "ysM+KdkLpwAAAABJRU5ErkJggg==\n",
       "\" style=\"display:inline;vertical-align:middle;\" /></a></td></tr>\n",
       "<tr><td>1</td><td>Literal</td><td></td><td><a class=\"ProveItLink\" href=\"../../../../logic/equality/__pv_it/2fb26078095930560931daa0500ce419a39ea6cd0/expr.ipynb\"><img src=\"data:image/png;base64,iVBORw0KGgoAAAANSUhEUgAAAA4AAAAFBAMAAACHocAhAAAAFVBMVEX///9EREQiIiJUVFQyMjJm\n",
       "ZmYAAADubVkoAAAAAXRSTlMAQObYZgAAABRJREFUCNdjCHEBAWcGXCBICQQUAUpuAwlgGKrkAAAA\n",
       "AElFTkSuQmCC\n",
       "\" style=\"display:inline;vertical-align:middle;\" /></a></td></tr>\n",
       "<tr><td>2</td><td>ExprTuple</td><td>3, 4</td><td><a class=\"ProveItLink\" href=\"../7f3d92884850396c22b3cc6dcd53c454ac842d370/expr.ipynb\"><img src=\"data:image/png;base64,iVBORw0KGgoAAAANSUhEUgAAAKUAAAAVBAMAAADVzzOcAAAAMFBMVEX////c3NwiIiJERESqqqqY\n",
       "mJh2dnZmZmYQEBDu7u4yMjJUVFTMzMyIiIi6uroAAAAs73DqAAAAAXRSTlMAQObYZgAAAhdJREFU\n",
       "OMu1lT9IG1Ecx79n7jQX787QpUM7OHaLg85mCwihmRw6lIBwQqEYKhgQoRkcSgdz3aRLj7ZSeoKN\n",
       "oziYyaVDbyk4CEqnIhStxICCpu/P3SXv5XKYoT/43f3e99193vu9+/E74H+Y5XOPNe10WNxzevke\n",
       "eMqRp6myJouH9jQPlOonaUHDXshjrEmir9z1WZnJlIwkKhWc86QewWyJcw9h3QIuYPrM9f2DkPku\n",
       "QDJFK4vqaAsTkyzaA3LBk1l+X8rjEpgH0g53nITMYrguVfSaqKoR842DA568GnyNp4y5CZyB+wAm\n",
       "pmU1zP2bg9ciEyz3VB4rJFxJYC72MbejKOdIzEyDnE4FWyTcSmDOSarxohF95zZE5iFdTnWxQW4b\n",
       "Cczfffs8CksoMyUxYRKSVcMdCe8SmD/6mOnrIFiGzETdgXEhM1c974nnbUvMrqo0kboKNsUOYczz\n",
       "Pr71PBo/BmZLlLlOBuv3z/3DdcQsQMn27lPvOJRJcp8ho5kE5jNRnXAx8hd0wqhAE5i4IZWQheay\n",
       "Wlm8fy2ZJZyXdVLaeGDbr8Tz/AmrzWrpFxlQr9a/lEQmV3aklQrVz9DrZIO5TudSZKrV1TyphlOk\n",
       "yXQ629sKikIjqcWplvCCKnTKTd4kokbB7E/vYNSPU7W+Dty1l91eN8Dex7fqwT1Zd1kf5B5vu7Gq\n",
       "P5g5To9F8bnHmtkc9t9xDPwDD7SzfwIJvRIAAAAASUVORK5CYII=\n",
       "\" style=\"display:inline;vertical-align:middle;\" /></a></td></tr>\n",
       "<tr><td>3</td><td>Operation</td><td>operator:&nbsp;10<br>operands:&nbsp;5<br></td><td><a class=\"ProveItLink\" href=\"../40676108ab9a654f5191b107c53a7c87a10f08eb0/expr.ipynb\"><img src=\"data:image/png;base64,iVBORw0KGgoAAAANSUhEUgAAAF8AAAAVBAMAAADSoS/MAAAAMFBMVEX////c3NwiIiJERESqqqqY\n",
       "mJh2dnZmZmYQEBDu7u4yMjJUVFTMzMyIiIi6uroAAAAs73DqAAAAAXRSTlMAQObYZgAAAQdJREFU\n",
       "OMtjYCAZ8F3AIcH6ALv4aSBmnoAuChKpQRPjSUt2AFIrGRg47dE1gEW40ATFGfj+MjDwXmDg3L0f\n",
       "pmEiVD1YhDUBVTTfgeETAwMHSO19mAZfmGkgEc4GVFF/sIZXDDg1MJigi4KcVIZHQzq6KNcGBoal\n",
       "eDR4oYkeWw0k+vBoeIEuygtU/Q+PhvPoogz9E5A1VK1apbFq1Wo0DQhRGQYG+wCGFqKdxPl/AkiD\n",
       "KR4NUaiivxgY9AUgQUdcsF5l4PvGwPAIyCrvXx6AqgEisg5VA0t5FTDxcQggpy9flBTYgE0UnsLA\n",
       "4C0yh+0CNlFQ8sYBZmEXlsapYSN2YUZcWZT3ADZRAMUFYoWVJavvAAAAAElFTkSuQmCC\n",
       "\" style=\"display:inline;vertical-align:middle;\" /></a></td></tr>\n",
       "<tr><td>4</td><td>Operation</td><td>operator:&nbsp;10<br>operands:&nbsp;6<br></td><td><a class=\"ProveItLink\" href=\"../b3da72475f2e5820f90b445dc3397d522d6d2e280/expr.ipynb\"><img src=\"data:image/png;base64,iVBORw0KGgoAAAANSUhEUgAAACwAAAAQBAMAAACfEoDkAAAAMFBMVEX///+YmJh2dnbMzMwQEBAi\n",
       "IiLu7u6qqqqIiIhUVFS6urpEREQyMjJmZmbc3NwAAACOMKdoAAAAAXRSTlMAQObYZgAAALNJREFU\n",
       "GNNj4Lt7egEDCjBS2s7A8JKB4zuKKN8FhvUNDNMYGOIhfLYHYIrpOwN/AINLAsN8iCnsDRAKLHw+\n",
       "geE+ijAQrAez4hPQhE+CCOZPDCjCzDoTQBTPBgY01S0gU28zoAuzfGNg4ABr4T1z5qjPmTNANp8B\n",
       "A/dHBoZaBr4HyKrzv4GEmS8wMKII8x9gYP3H8FRJ6SqK2RwCDOsVGOL///+KamXt3ePIYYRwCQrg\n",
       "QhIGAAaPNUmGC4MkAAAAAElFTkSuQmCC\n",
       "\" style=\"display:inline;vertical-align:middle;\" /></a></td></tr>\n",
       "<tr><td>5</td><td>ExprTuple</td><td>7, 9</td><td><a class=\"ProveItLink\" href=\"../0082af803057536c94be963f43014ffe83b90fbb0/expr.ipynb\"><img src=\"data:image/png;base64,iVBORw0KGgoAAAANSUhEUgAAAE0AAAAVBAMAAADx+n4ZAAAAMFBMVEX////c3NwiIiJERESqqqqY\n",
       "mJh2dnZmZmYQEBDu7u4yMjJUVFTMzMyIiIi6uroAAAAs73DqAAAAAXRSTlMAQObYZgAAARRJREFU\n",
       "KM9jYCAW8F0gqCQORJwGYuYJ6FIwEZ60ZAcG9gNA1koGBk57dHVwEXEGvr8MDAsYGHgvMHDu3g9T\n",
       "NxGqDC6S78DwiYEhjIGBAyRwH6bOF2YgTMQfrG4GA8MrBrzqGMD2MjswlBFSx7WBgYGtgGEpAXXH\n",
       "VgMJlgUMfYTM4wWq4Gtg+EdIHUP/BAaeD8jqqlat0li1ajWKOhkGBvsAkLoWvOZx/p8AUge01xS3\n",
       "OpDgLwYGfQEG1gUM6TjVcQIDmOEqA983cLg8AnLK+5cHoKoDiXD2CwBDpLzKARiGDxg4BJDj3xcl\n",
       "xcGlgPHGmoAs9RaZwwpn5ULSFQ4AV8cJTFcM0jjVwRM6N8gBjITT/R0GBgA9h10qg7pY4gAAAABJ\n",
       "RU5ErkJggg==\n",
       "\" style=\"display:inline;vertical-align:middle;\" /></a></td></tr>\n",
       "<tr><td>6</td><td>ExprTuple</td><td>8, 9</td><td><a class=\"ProveItLink\" href=\"../9333281ed4be3d0d1796509ff962cccc430da5be0/expr.ipynb\"><img src=\"data:image/png;base64,iVBORw0KGgoAAAANSUhEUgAAACkAAAAVBAMAAAAp9toTAAAAMFBMVEX////c3NwiIiJERESqqqqY\n",
       "mJh2dnZmZmYQEBDu7u4yMjJUVFTMzMyIiIi6uroAAAAs73DqAAAAAXRSTlMAQObYZgAAARBJREFU\n",
       "GNNtkStPA1EQhb8tLPtqN4uqAFGFBYOF/QeAQRISklYRqiCpQmAwdCVyE4IgmP4EFAgENShIIEhU\n",
       "gyApCV3mzj7Ehismcz5x7pkZ+P+F4xrYM+UR2oONHDS7BzHOnXQ3WCPeYqVtwl9IoTUmSGhMlB7F\n",
       "fMEuuAnuOcFM6ZbSS/gEf4ozK/8Wh7mYYxWNaUH9ESz0uVbxtJ/D+1sp8ykXqq7KsC3R4Slq6KxV\n",
       "MwwTmpOcvhRoGTa3DT0zRn0WDfSyxFBxWBf1ADsk0vzAaoSd0gNrpdvreBKfZ8JvTfYhYbMs63jD\n",
       "SKxOBrIQ/x03KqcqGzOxXeTHrsId6iZr1JNNslSI6iSBsbLqF3qFP6kkPkM9+LMtAAAAAElFTkSu\n",
       "QmCC\n",
       "\" style=\"display:inline;vertical-align:middle;\" /></a></td></tr>\n",
       "<tr><td>7</td><td>Operation</td><td>operator:&nbsp;10<br>operands:&nbsp;11<br></td><td><a class=\"ProveItLink\" href=\"../2d86c629ba17e16ade8deb174f23e70e439554b90/expr.ipynb\"><img src=\"data:image/png;base64,iVBORw0KGgoAAAANSUhEUgAAACsAAAAQBAMAAAB9zpudAAAAKlBMVEX///+6uroiIiKqqqrc3NyY\n",
       "mJgyMjIQEBBmZmaIiIhUVFTu7u5EREQAAACV7Se0AAAAAXRSTlMAQObYZgAAAE9JREFUGNNjYGA4\n",
       "zYAGeDYAiT230US5zwKFd62CCXM7QKhVa0GqOWHCzBOgjLkDKsyRlpZUlpa2gKpmc7Rfa0UV7qjN\n",
       "CEAKIrhqVMCIJAwACQQszoJput4AAAAASUVORK5CYII=\n",
       "\" style=\"display:inline;vertical-align:middle;\" /></a></td></tr>\n",
       "<tr><td>8</td><td>Literal</td><td></td><td><a class=\"ProveItLink\" href=\"../../../numeral/__pv_it/77d407a64829263cdc16415becd4c2293f77a4bf0/expr.ipynb\"><img src=\"data:image/png;base64,iVBORw0KGgoAAAANSUhEUgAAAAkAAAAOBAMAAAAPuiubAAAAMFBMVEX///+YmJh2dnbMzMwQEBAi\n",
       "IiLu7u6qqqqIiIhUVFS6urpEREQyMjJmZmbc3NwAAACOMKdoAAAAAXRSTlMAQObYZgAAAFBJREFU\n",
       "CNdj4Lt7egEDw0sGju8MDNMYGOIZGFwSGOYvYDifwHAfKAEUSQASzJ9ATJ4NIPI2iOCYACJrGfge\n",
       "MDBfYGB8wPBUSekqUPH//18ZAIliFhc3zESNAAAAAElFTkSuQmCC\n",
       "\" style=\"display:inline;vertical-align:middle;\" /></a></td></tr>\n",
       "<tr><td>9</td><td>Literal</td><td></td><td><a class=\"ProveItLink\" href=\"../../../numeral/__pv_it/9176d93c83afa2c995b614976e3cb49207102fa70/expr.ipynb\"><img src=\"data:image/png;base64,iVBORw0KGgoAAAANSUhEUgAAAAoAAAAOBAMAAADkjZCYAAAAMFBMVEX///+YmJju7u4QEBBUVFQy\n",
       "MjIiIiKIiIi6urpmZmbc3NyqqqpERER2dnbMzMwAAAB0GlNiAAAAAXRSTlMAQObYZgAAAE1JREFU\n",
       "CNdjYHh79zQDA9cEhv4CBt7fDPwJDNxgEgiAIkAQAsR8Vx1ATIbiBhDJ/ImB6wEDz0cG/U8gkj+A\n",
       "ge0XA7sAQ/8FBoadM6MZAEflFACalZ/OAAAAAElFTkSuQmCC\n",
       "\" style=\"display:inline;vertical-align:middle;\" /></a></td></tr>\n",
       "<tr><td>10</td><td>Literal</td><td></td><td><a class=\"ProveItLink\" href=\"../3e6688136fa3c7aefbebe51301b7c3ebf0b69c440/expr.ipynb\"><img src=\"data:image/png;base64,iVBORw0KGgoAAAANSUhEUgAAAA4AAAAOBAMAAADtZjDiAAAAJFBMVEX///+6urpUVFQQEBAiIiIy\n",
       "MjJmZmaIiIiqqqrc3Nzu7u4AAACgHpL+AAAAAXRSTlMAQObYZgAAAB5JREFUCNdjYGBgWMkAAe2k\n",
       "0Kmhoc6hoUGk6BMHYgAHOwjcado9fwAAAABJRU5ErkJggg==\n",
       "\" style=\"display:inline;vertical-align:middle;\" /></a></td></tr>\n",
       "<tr><td>11</td><td>ExprTuple</td><td>12, 12</td><td><a class=\"ProveItLink\" href=\"../71c9c782a9b8c913a0129f505682fe99210fc82a0/expr.ipynb\"><img src=\"data:image/png;base64,iVBORw0KGgoAAAANSUhEUgAAACkAAAAVBAMAAAAp9toTAAAAMFBMVEX////c3NwiIiJERESqqqqY\n",
       "mJh2dnZmZmYQEBDu7u4yMjJUVFTMzMyIiIi6uroAAAAs73DqAAAAAXRSTlMAQObYZgAAALpJREFU\n",
       "GNNjYMAO+C6gCcSBiNNAzDwBJmTJwMB+AEivZGDgtIeJTv4JJBYwMPBeYODcvR8qOns3SDSMgYED\n",
       "JHAfppYXJDqDgeEVA4YoswNDGaYoWwHDUkxRlgUMfZiifA0M/zBFeT7gEG3BaoIpTHQCXJR1AUM6\n",
       "VJTzE7LLHgGp8v7lAZz9AsCAqfhVysDA9YCBQwAWojAGyMesCVA2KzyAcyEhiSrKCQxJBmkoBx4l\n",
       "3CCjGNFj6A4DAwBkHj9zZVlc6AAAAABJRU5ErkJggg==\n",
       "\" style=\"display:inline;vertical-align:middle;\" /></a></td></tr>\n",
       "<tr><td>12</td><td>Literal</td><td></td><td><a class=\"ProveItLink\" href=\"../../../numeral/__pv_it/9be8badea4c35b9724062cecc501d17a3158d1d20/expr.ipynb\"><img src=\"data:image/png;base64,iVBORw0KGgoAAAANSUhEUgAAAAgAAAAPBAMAAAArJJMAAAAAHlBMVEX///+YmJgyMjIQEBBmZmaI\n",
       "iIhUVFTu7u5EREQAAAAw+MI4AAAAAXRSTlMAQObYZgAAACFJREFUCNdjYGBoZ2BgqJjOwFCWBiQY\n",
       "WEklWJwnOTKAAACjEQo8HvEr3AAAAABJRU5ErkJggg==\n",
       "\" style=\"display:inline;vertical-align:middle;\" /></a></td></tr>\n",
       "</table>\n"
      ],
      "text/plain": [
       "0. ((1 + 1) + 3) = (2 + 3)\n",
       "   core type: Operation\n",
       "   operator: 1\n",
       "   operands: 2\n",
       "1. =\n",
       "   core type: Literal\n",
       "   sub-expressions: \n",
       "2. ((1 + 1) + 3 , 2 + 3)\n",
       "   core type: ExprTuple\n",
       "   sub-expressions: 3, 4\n",
       "3. (1 + 1) + 3\n",
       "   core type: Operation\n",
       "   operator: 10\n",
       "   operands: 5\n",
       "4. 2 + 3\n",
       "   core type: Operation\n",
       "   operator: 10\n",
       "   operands: 6\n",
       "5. (1 + 1 , 3)\n",
       "   core type: ExprTuple\n",
       "   sub-expressions: 7, 9\n",
       "6. (2 , 3)\n",
       "   core type: ExprTuple\n",
       "   sub-expressions: 8, 9\n",
       "7. 1 + 1\n",
       "   core type: Operation\n",
       "   operator: 10\n",
       "   operands: 11\n",
       "8. 2\n",
       "   core type: Literal\n",
       "   sub-expressions: \n",
       "9. 3\n",
       "   core type: Literal\n",
       "   sub-expressions: \n",
       "10. +\n",
       "    core type: Literal\n",
       "    sub-expressions: \n",
       "11. (1 , 1)\n",
       "    core type: ExprTuple\n",
       "    sub-expressions: 12, 12\n",
       "12. 1\n",
       "    core type: Literal\n",
       "    sub-expressions: "
      ]
     },
     "execution_count": 4,
     "metadata": {},
     "output_type": "execute_result"
    }
   ],
   "source": [
    "# display the expression information\n",
    "expr.exprInfo()"
   ]
  },
  {
   "cell_type": "code",
   "execution_count": null,
   "metadata": {},
   "outputs": [],
   "source": []
  }
 ],
 "metadata": {
  "kernelspec": {
   "display_name": "Python 3",
   "language": "python",
   "name": "python3"
  }
 },
 "nbformat": 4,
 "nbformat_minor": 0
}
