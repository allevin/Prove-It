{
 "cells": [
  {
   "cell_type": "markdown",
   "metadata": {},
   "source": [
    "Expression of type <a class=\"ProveItLink\" href=\"../../../../../../doc/html/api/proveit.ExprTuple.html\">ExprTuple</a>\n",
    "=======================\n",
    "# from context <a class=\"ProveItLink\" href=\"../../_context_.ipynb\">proveit.number.addition</a>"
   ]
  },
  {
   "cell_type": "code",
   "execution_count": 1,
   "metadata": {},
   "outputs": [],
   "source": [
    "# import Expression classes needed to build the expression\n",
    "from proveit import ExprTuple\n",
    "from proveit._common_ import a, b, c\n",
    "from proveit.number import Add, one, three, two"
   ]
  },
  {
   "cell_type": "code",
   "execution_count": 2,
   "metadata": {},
   "outputs": [
    {
     "data": {
      "text/html": [
       "<strong id=\"expr\">expr:</strong> <a class=\"ProveItLink\" href=\"expr.ipynb\"><img src=\"data:image/png;base64,iVBORw0KGgoAAAANSUhEUgAAAqEAAAAVBAMAAACESConAAAAMFBMVEX////c3NwiIiJERESqqqqY\n",
       "mJh2dnZmZmYQEBDu7u4yMjJUVFTMzMyIiIi6uroAAAAs73DqAAAAAXRSTlMAQObYZgAABGxJREFU\n",
       "WMPtmU9oVEccx7/7f99usruePCi4p+pFzKE9eGiz9OLF4HrpUUIKEUqjC6Ip6cFaiqBQ80QQIYcs\n",
       "aildLzlYWiohgYIt9OBe/Ieuhp6ktGTbJJUnsem8TebN/uY3k7drAhLIHJLd7/vNbz7zffN+b95b\n",
       "YLttdsvVtz3YtHbM//Nbp9EHte87xz4I6eH8WNSUiS+7p7w7/O6GZhlzw8AZJwcPbz3DH5eQmhWf\n",
       "vuuwxxWPfo9M4XkppE9mSldudU0aqWB+I5eR0++GgjNODh7adiL3GqgCvYTWKTCgNWXijkeVrIto\n",
       "c1W5bOuUL+l5F60DXbYIyUXki6HBVgbnzoxLQwzgAScTGKdVOFnCP8BHQJqcwThbDYHS61ElfQHZ\n",
       "/1aVAVuneVcTcp51oAGLEDc5yoLtDHju0hAD+LwWwsHtDknhSMvRa8AfeENHMx5SYY4O6UKy2LWj\n",
       "/vzqm+moAXxIzzKErh1F66qPlXDGryzTJ87Rw1xhjooW9SiHM9yYJSG3Gt/TPpnpJ2Wa5OrIU5qE\n",
       "Car47nrwokCPKU4rA3PUAB5wMkFm4Wklp7LDL77JCr4RH18UYk2agCsmR+8NUo5f5zLF9hBnAXnK\n",
       "MdmHZSL0XMJ1koQJ6Plk7TaRO4d+zRzFaWMwOqqBK04myCwsbcAZjHPXP/HxKi6JE72EVB9xiytG\n",
       "R29QVOdrxMgKjHtID9Ji4+I8Ea7V8R5JwgTRHs21/u0p4xQdsY3TxmB0VANXnEyQa4OlDTiVHb3C\n",
       "y9wXEBUl20S0TtziislRORnJkW1qtSVVRb5C+owBL4kwoxfCGUNlTHvy0H42ouS0MZgc1cEVJxOU\n",
       "IVraGUNhHXfR0/Qdzfdh0l/jqVrt+sVabcqkSEfblSerJtVq+2o1f8XnV0FVSFRsJcukz17kloiw\n",
       "AC0JEyKziC21tAU4y2zEFuc6DNJRFcLB1ziZQAzR0i7owm6gv+w7+pW4muo4ArfdcK4Y1mi8gh3k\n",
       "VO+pa+dN7OrO0iyLSHmkvLzWliQTMOmtOSoOxZuOPqLktDEY1igDV5xMUIbQtIpT1oUV13dUXPWi\n",
       "GEyW8FOcFGKuGBz9BThKwcRpJcVGVPfztM+yXliFVwmShAn5KqJ/+7Y5i8hWD1O3FaeNweAoBw84\n",
       "mSBnwtIGnFJ4BRwoIFHFcXHXL8f3Julekync0cg7w8eLtIZVkCSnIVtKTdEst/E5FX4APiVJmNBb\n",
       "xvygIzbPYlvyYYXepNs4bQzcUQN4wMkEOROWNuCUwn3k/m3tnn73N3XPfn5G3WIKUp+9Ok2U6MrK\n",
       "CgXDmcZjeiVMn9bW9cTDspZ2pOHSu4Qu4NDoTTjjYiO6q/Hn+3PUHMVpY8Do+LdlEsLBFScTZBaW\n",
       "NuAMiuDomHh0zcwhXejwmWkdZSA0JFxY75nJ34sW3viZqZtOG56JeApNDK7/srQT5a/QkHCBJyFC\n",
       "IiS4A4ZOOm14JiNdvM17uy2xNd44O1X/YXlLoG6RHxqyfnGKbP8qsnntKfA/NRgpGocPC4YAAAAA\n",
       "SUVORK5CYII=\n",
       "\" style=\"display:inline;vertical-align:middle;\" /></a><br>"
      ],
      "text/plain": [
       "expr: (a + a + 1 + 2 + c + b + b + c + c + 3 , a + a + c + 1 + 2 + b + b + c + c + 3)"
      ]
     },
     "execution_count": 2,
     "metadata": {},
     "output_type": "execute_result"
    }
   ],
   "source": [
    "# build up the expression from sub-expressions\n",
    "expr = ExprTuple(Add(a, a, one, two, c, b, b, c, c, three), Add(a, a, c, one, two, b, b, c, c, three))"
   ]
  },
  {
   "cell_type": "code",
   "execution_count": 3,
   "metadata": {},
   "outputs": [
    {
     "name": "stdout",
     "output_type": "stream",
     "text": [
      "Passed sanity check: built 'expr' is the same as the stored Expression.\n"
     ]
    }
   ],
   "source": [
    "# check that the built expression is the same as the stored expression\n",
    "%check_expr"
   ]
  },
  {
   "cell_type": "code",
   "execution_count": 4,
   "metadata": {},
   "outputs": [
    {
     "data": {
      "text/html": [
       "<table><tr><th>&nbsp;</th><th>core type</th><th>sub-expressions</th><th>expression</th></tr>\n",
       "<tr><td>0</td><td>ExprTuple</td><td>1, 2</td><td><a class=\"ProveItLink\" href=\"expr.ipynb\"><img src=\"data:image/png;base64,iVBORw0KGgoAAAANSUhEUgAAAqEAAAAVBAMAAACESConAAAAMFBMVEX////c3NwiIiJERESqqqqY\n",
       "mJh2dnZmZmYQEBDu7u4yMjJUVFTMzMyIiIi6uroAAAAs73DqAAAAAXRSTlMAQObYZgAABGxJREFU\n",
       "WMPtmU9oVEccx7/7f99usruePCi4p+pFzKE9eGiz9OLF4HrpUUIKEUqjC6Ip6cFaiqBQ80QQIYcs\n",
       "aildLzlYWiohgYIt9OBe/Ieuhp6ktGTbJJUnsem8TebN/uY3k7drAhLIHJLd7/vNbz7zffN+b95b\n",
       "YLttdsvVtz3YtHbM//Nbp9EHte87xz4I6eH8WNSUiS+7p7w7/O6GZhlzw8AZJwcPbz3DH5eQmhWf\n",
       "vuuwxxWPfo9M4XkppE9mSldudU0aqWB+I5eR0++GgjNODh7adiL3GqgCvYTWKTCgNWXijkeVrIto\n",
       "c1W5bOuUL+l5F60DXbYIyUXki6HBVgbnzoxLQwzgAScTGKdVOFnCP8BHQJqcwThbDYHS61ElfQHZ\n",
       "/1aVAVuneVcTcp51oAGLEDc5yoLtDHju0hAD+LwWwsHtDknhSMvRa8AfeENHMx5SYY4O6UKy2LWj\n",
       "/vzqm+moAXxIzzKErh1F66qPlXDGryzTJ87Rw1xhjooW9SiHM9yYJSG3Gt/TPpnpJ2Wa5OrIU5qE\n",
       "Car47nrwokCPKU4rA3PUAB5wMkFm4Wklp7LDL77JCr4RH18UYk2agCsmR+8NUo5f5zLF9hBnAXnK\n",
       "MdmHZSL0XMJ1koQJ6Plk7TaRO4d+zRzFaWMwOqqBK04myCwsbcAZjHPXP/HxKi6JE72EVB9xiytG\n",
       "R29QVOdrxMgKjHtID9Ji4+I8Ea7V8R5JwgTRHs21/u0p4xQdsY3TxmB0VANXnEyQa4OlDTiVHb3C\n",
       "y9wXEBUl20S0TtziislRORnJkW1qtSVVRb5C+owBL4kwoxfCGUNlTHvy0H42ouS0MZgc1cEVJxOU\n",
       "IVraGUNhHXfR0/Qdzfdh0l/jqVrt+sVabcqkSEfblSerJtVq+2o1f8XnV0FVSFRsJcukz17kloiw\n",
       "AC0JEyKziC21tAU4y2zEFuc6DNJRFcLB1ziZQAzR0i7owm6gv+w7+pW4muo4ArfdcK4Y1mi8gh3k\n",
       "VO+pa+dN7OrO0iyLSHmkvLzWliQTMOmtOSoOxZuOPqLktDEY1igDV5xMUIbQtIpT1oUV13dUXPWi\n",
       "GEyW8FOcFGKuGBz9BThKwcRpJcVGVPfztM+yXliFVwmShAn5KqJ/+7Y5i8hWD1O3FaeNweAoBw84\n",
       "mSBnwtIGnFJ4BRwoIFHFcXHXL8f3Julekync0cg7w8eLtIZVkCSnIVtKTdEst/E5FX4APiVJmNBb\n",
       "xvygIzbPYlvyYYXepNs4bQzcUQN4wMkEOROWNuCUwn3k/m3tnn73N3XPfn5G3WIKUp+9Ok2U6MrK\n",
       "CgXDmcZjeiVMn9bW9cTDspZ2pOHSu4Qu4NDoTTjjYiO6q/Hn+3PUHMVpY8Do+LdlEsLBFScTZBaW\n",
       "NuAMiuDomHh0zcwhXejwmWkdZSA0JFxY75nJ34sW3viZqZtOG56JeApNDK7/srQT5a/QkHCBJyFC\n",
       "IiS4A4ZOOm14JiNdvM17uy2xNd44O1X/YXlLoG6RHxqyfnGKbP8qsnntKfA/NRgpGocPC4YAAAAA\n",
       "SUVORK5CYII=\n",
       "\" style=\"display:inline;vertical-align:middle;\" /></a></td></tr>\n",
       "<tr><td>1</td><td>Operation</td><td>operator:&nbsp;4<br>operands:&nbsp;3<br></td><td><a class=\"ProveItLink\" href=\"../7bf4236760eb03d9afcdfe9c25ff0b637829e0540/expr.ipynb\"><img src=\"data:image/png;base64,iVBORw0KGgoAAAANSUhEUgAAAUUAAAAQBAMAAABzbnCeAAAAMFBMVEX///8yMjKqqqrMzMzu7u4i\n",
       "IiJmZmaYmJhEREQQEBC6urp2dnaIiIhUVFTc3NwAAAD87Fq/AAAAAXRSTlMAQObYZgAAAjtJREFU\n",
       "SMellU9rE1EUxU+mM2OamsRZVNwU5gMU2pUoLnxbKdisCsWFyaYuXDifQLoT3BTBVRXrVii0UCrF\n",
       "FBxQEEqkcaMIlQSELjVCpEULccZ0+t59dyZvxLuZ4ce95565788AuaIoNHDYeGgosT/XDCBHjDV3\n",
       "/Jyp9ormsdLGvqm40DYBcxyidELATe6tO3x86QiaUxZwehlVCaj6VIUDvQ8Xee3jJ+HTzKMVnr7s\n",
       "C5oz/hjlXxlVCdgQmgoDvI8uMvMfHgt9uCaP27rKNv7ZI4ZrXTl49YxySTI9RuH0KbGbrVkCplqf\n",
       "qAoDmNt9kw5kn7+b+EW32KNcklEer29ScvV5oaYC+xjVWVWFAYytYjIdnKlem4qHdgR3mXCFjPJ4\n",
       "iRL7KYqBCqw+xjdVFQZwI8SDdCD7nF+NTmgPTki4QkZ4TD5DqaLAvYBqXVVhAB19P3ZSzsaaQHUZ\n",
       "8/EKNDxv0fPiySbE9bzJR57Xlh5lDvAe0KsocOrYCFQVBnA89K4DReQrsBLge4gZCNW7QrLnaNXx\n",
       "DVoVTYluw3tEhYHKiTZHCU5F7IGIPc77+GCRA6mQbI+XgfvUUjQish+j8/GEOGAAR8C5dJCI/ABu\n",
       "d1EIrIUJevdJkumxcqv5skb3Yx0T5FPLvtsmKgzgI7CVDhKRdyj9ji/DvSt7tL8kSe3S2sWA5DiD\n",
       "wYB6xN3WW3rQD+7QlWQA7m5LpIOzy2Gp4ef9z4zImTYC828lT59hrDNSCs0560bAVMyAiPwBjurX\n",
       "l+RXFqcAAAAASUVORK5CYII=\n",
       "\" style=\"display:inline;vertical-align:middle;\" /></a></td></tr>\n",
       "<tr><td>2</td><td>Operation</td><td>operator:&nbsp;4<br>operands:&nbsp;5<br></td><td><a class=\"ProveItLink\" href=\"../160858c43cc3240e22e36722ab21bddec91163680/expr.ipynb\"><img src=\"data:image/png;base64,iVBORw0KGgoAAAANSUhEUgAAAUUAAAAQBAMAAABzbnCeAAAAMFBMVEX///8yMjKqqqrMzMzu7u4i\n",
       "IiJmZmaYmJhEREQQEBC6urp2dnaIiIhUVFTc3NwAAAD87Fq/AAAAAXRSTlMAQObYZgAAAjlJREFU\n",
       "SMetlU9LG0EYh39Zd1eNJukeBC/CfgDBnEpLD91jS2nNSRAPTS6KeDCfoHgQBC+l0JMtrdeCoFAs\n",
       "0gguKAgSMb20FFISEDyaBFaUKqTZmMnOO7NxYujc9uF9n/3Nn50FehzLwvNZZpUC/XdKAboYfbkd\n",
       "u9eEeObR53gBJ4ItUoACqMcZojcEvJJK9HIH8PKPR0nMgVGlmoQtNEmg83uYZM/GBeHjUkbN7QSG\n",
       "PUoG3yP2l2o2HaFJAp3fwyQT/zNjxIMpZNwWm7Zx74y43et48fsnygPCevVcPnl3xsYwPKoZy/+i\n",
       "JRLAi939cBBkbB7iL+WBKuUBYb2P1yMpZcanW0SjXyFBJiYB9K1hJBy0szwZ8xftEuYS4Rxh9o8Y\n",
       "yCozjtJt0jwMbvElEsBzFyvhIFjH4bXGB1mF4RLOkVZvrKo8j2jPi2nMB0ik+RIJoCRqSyHfxmcH\n",
       "iSVM+juQsaxpy/JXlhHTskbeWVahSUAAy8iT42ZNoDHS2MzyJRLAlai9BZzkFHibRcXFBBw+O0da\n",
       "86u46nXU0jgnS9C4DReJRQLxG0EbgJZErzt+xkkbP7QkL+cIszemrzqPD4E3NGMSH0iJBHAJ9IcD\n",
       "JqkBr8uIZLWpIcI5ws5jGkOKuyc+k/uWosfaNgvUIgL8BL6GAyY5RPTavwyPHh3R7zogrHchf0CB\n",
       "OV+bI8So1+s0o16co9OQAMzdvBMO2pfDbMbu+T/TzS+ie0sXktbYkEjUVYEQsnF/y92Sf5WK55bj\n",
       "tzo3AAAAAElFTkSuQmCC\n",
       "\" style=\"display:inline;vertical-align:middle;\" /></a></td></tr>\n",
       "<tr><td>3</td><td>ExprTuple</td><td>6, 6, 7, 8, 10, 9, 9, 10, 10, 11</td><td><a class=\"ProveItLink\" href=\"../49711e5622edcd997dccb54c7ef84913555743f60/expr.ipynb\"><img src=\"data:image/png;base64,iVBORw0KGgoAAAANSUhEUgAAAMEAAAAVBAMAAAANw5eWAAAAMFBMVEX////c3NwiIiJERESqqqqY\n",
       "mJh2dnZmZmYQEBDu7u4yMjJUVFTMzMyIiIi6uroAAAAs73DqAAAAAXRSTlMAQObYZgAAAllJREFU\n",
       "SMe1lbFv00AUxr84ThzHqR2mDiCRCUa6MLCA/4O6CyOKQEoXAl5aUBdAQkgMtJaQqkgMiUAdUJcs\n",
       "CASqsIQESAxkYUCQUpgQS0OrIqVSCXdn3/lsJ2bKDb5f7nu67+7duwsw/Wb2pjj5Jfr5MEk9F/az\n",
       "K+cTiv6iloAxrdK4YkPzCT2dEPFwGPS5Lr7ZCa3cTUK6zcI8AjrAzIQkPXoVOhgelEFCtOwkpNt1\n",
       "G3vARaDkTYiYCR1K92H8TWi7XhLSbZ45tIBf+I9DeQgt6XA5BWNriGQpb2OZpnrr2p0w6YKEA2lK\n",
       "iHqj7zPY7D9DHISE9eZX6ZCKLjYI/qzmw0xHJDt8rAf9+50yqx19H5YfAyGhsorHQfTbTfJRO1gl\n",
       "Cz+ANhdsQVDM4Um4zgfIOxTUIUr1GAgJrR7O8hnI3OZtkBQbAyhBRUUkO3BTg29P68ByYyAkvJYO\n",
       "Ys1DZUAdrDm0g71GJDt84aXJt6e42HViICTsczgBXHCow13gZA/zYGUXkeSgujiGUBW34JYXAyHl\n",
       "jvi9H3nUgWSJJK1t46Xq65ApcGD0DlhgthZZrkOHyOneQxy4hAOgwKIPgTNVFDpYJFXlqKeLaNdk\n",
       "Chwo5U41Fmv6Hk22i6JPhwxb6yIOXMJz4CqL/gTzD6vWH/QSbL/ZRuu3TNBuHi4xUkajUU1fq5Kx\n",
       "5f5nNqRvLSEOQoLW7HssWr2xQp6U8g5KVX4035FBZjosA6Jo8moU6vyHgwwqpIcyIIpuyq/3NBx0\n",
       "8nrjOK//6M0bQ73UUAZE0QZNV26a/6LkEfwHVyTQh+28UaEAAAAASUVORK5CYII=\n",
       "\" style=\"display:inline;vertical-align:middle;\" /></a></td></tr>\n",
       "<tr><td>4</td><td>Literal</td><td></td><td><a class=\"ProveItLink\" href=\"../3e6688136fa3c7aefbebe51301b7c3ebf0b69c440/expr.ipynb\"><img src=\"data:image/png;base64,iVBORw0KGgoAAAANSUhEUgAAAA4AAAAOBAMAAADtZjDiAAAAJFBMVEX///+6urpUVFQQEBAiIiIy\n",
       "MjJmZmaIiIiqqqrc3Nzu7u4AAACgHpL+AAAAAXRSTlMAQObYZgAAAB5JREFUCNdjYGBgWMkAAe2k\n",
       "0Kmhoc6hoUGk6BMHYgAHOwjcado9fwAAAABJRU5ErkJggg==\n",
       "\" style=\"display:inline;vertical-align:middle;\" /></a></td></tr>\n",
       "<tr><td>5</td><td>ExprTuple</td><td>6, 6, 10, 7, 8, 9, 9, 10, 10, 11</td><td><a class=\"ProveItLink\" href=\"../821494c459365264d6bfb19ac949fcf41509a7a80/expr.ipynb\"><img src=\"data:image/png;base64,iVBORw0KGgoAAAANSUhEUgAAAMEAAAAVBAMAAAANw5eWAAAAMFBMVEX////c3NwiIiJERESqqqqY\n",
       "mJh2dnZmZmYQEBDu7u4yMjJUVFTMzMyIiIi6uroAAAAs73DqAAAAAXRSTlMAQObYZgAAAlRJREFU\n",
       "SMe1lb9rE2EYx79JLrlcLrm7Th0UepOOZnFw0fsPel0cJbSQLkZvaZUuKojgYHsgSMAhQekgXbJI\n",
       "xVJ6IKjgYBYH0dTWSVwSWyqkUON773vv/WyTLHmHu0++eZ73m/d5n/cNMPmhtCc4+Q338Wlk2BXv\n",
       "Pb1ylYH0Ro/BKaNYXTAgOoRejTJ42mfvVAs/DIaFFmKQHNNQToAmUBpVpOdbnoNsI91jqHpOASTH\n",
       "bQMHwHUgb49aQ8lzyD+G/I9hlyd1z86epQ514DfGdSj0IXoO8/y7+aE9RKqUMbDsVnj71gOv1j7h\n",
       "We171IGMtIcbndcxkKodJ5ZHNylnYZ3gLy3jFTig4ipeJBw+V9h0h1CdCODjXkGP5b3fIA+hiVXy\n",
       "w48gltkSfEK9jcsJh5fsJfSRr0RAeoKMGctDicyt3AeprNxDmnVUQNhJ7AN8d7EJ1YqA3OMxO6GN\n",
       "WLNR7LkOahkNttaAcHiKwze+HRa6ZgTUMo/x884D10zX4SEw08YsaNsFlDpJOggWpvgpuGdHYIaf\n",
       "Kj9PGtiuA6kSKVrDwFvBkRAmHAFZZuY6UOkDMEclsruPqBQAWYkZzTsGLmnINrFIusoULubQ0MOE\n",
       "TeCmdMAdXCl1obqoU0k2xBaVArCQc6J5X6D8pd360z0Eu+92Uf8TJoi1ji2taQTuHi9RKT0YDHQq\n",
       "SdtLoJIPWO58jeUJd1bIlVLYQ17j9d5HghRtHGl/SBC5NbIV/sFEgrJjSeaQoFr49p6Eg0Rub5zj\n",
       "TRm0p0/tcaTSkCDZLVdqkv+i5BL8D91W0C02TcqBAAAAAElFTkSuQmCC\n",
       "\" style=\"display:inline;vertical-align:middle;\" /></a></td></tr>\n",
       "<tr><td>6</td><td>Variable</td><td></td><td><a class=\"ProveItLink\" href=\"../../../../__pv_it/07527342713064c87612d00d8557c53d53d5324a0/expr.ipynb\"><img src=\"data:image/png;base64,iVBORw0KGgoAAAANSUhEUgAAAAsAAAAJBAMAAAAWSsseAAAAMFBMVEX///8yMjKqqqrMzMzu7u4i\n",
       "IiJmZmaYmJhEREQQEBC6urp2dnaIiIhUVFTc3NwAAAD87Fq/AAAAAXRSTlMAQObYZgAAAEhJREFU\n",
       "CNdjYOC7s2seAwPDygccHxgY+L4zsDUwMPB+YGA9wMDA38Dgb8DA8P4Agz6DA4O/AsNFJgMGxgKm\n",
       "MG6gyjunLE4xAAAZTBA5TB6DCwAAAABJRU5ErkJggg==\n",
       "\" style=\"display:inline;vertical-align:middle;\" /></a></td></tr>\n",
       "<tr><td>7</td><td>Literal</td><td></td><td><a class=\"ProveItLink\" href=\"../../../numeral/__pv_it/9be8badea4c35b9724062cecc501d17a3158d1d20/expr.ipynb\"><img src=\"data:image/png;base64,iVBORw0KGgoAAAANSUhEUgAAAAgAAAAPBAMAAAArJJMAAAAAHlBMVEX///+YmJgyMjIQEBBmZmaI\n",
       "iIhUVFTu7u5EREQAAAAw+MI4AAAAAXRSTlMAQObYZgAAACFJREFUCNdjYGBoZ2BgqJjOwFCWBiQY\n",
       "WEklWJwnOTKAAACjEQo8HvEr3AAAAABJRU5ErkJggg==\n",
       "\" style=\"display:inline;vertical-align:middle;\" /></a></td></tr>\n",
       "<tr><td>8</td><td>Literal</td><td></td><td><a class=\"ProveItLink\" href=\"../../../numeral/__pv_it/77d407a64829263cdc16415becd4c2293f77a4bf0/expr.ipynb\"><img src=\"data:image/png;base64,iVBORw0KGgoAAAANSUhEUgAAAAkAAAAOBAMAAAAPuiubAAAAMFBMVEX///+YmJh2dnbMzMwQEBAi\n",
       "IiLu7u6qqqqIiIhUVFS6urpEREQyMjJmZmbc3NwAAACOMKdoAAAAAXRSTlMAQObYZgAAAFBJREFU\n",
       "CNdj4Lt7egEDw0sGju8MDNMYGOIZGFwSGOYvYDifwHAfKAEUSQASzJ9ATJ4NIPI2iOCYACJrGfge\n",
       "MDBfYGB8wPBUSekqUPH//18ZAIliFhc3zESNAAAAAElFTkSuQmCC\n",
       "\" style=\"display:inline;vertical-align:middle;\" /></a></td></tr>\n",
       "<tr><td>9</td><td>Variable</td><td></td><td><a class=\"ProveItLink\" href=\"../../../../__pv_it/6840a4fa6c106149dc16a131294d0c5e44f1b0480/expr.ipynb\"><img src=\"data:image/png;base64,iVBORw0KGgoAAAANSUhEUgAAAAkAAAAOBAMAAAAPuiubAAAALVBMVEX///9mZmbMzMxERESYmJiI\n",
       "iIh2dna6urqqqqoyMjIiIiIQEBBUVFTu7u4AAAD9S1JeAAAAAXRSTlMAQObYZgAAAE1JREFUCNdj\n",
       "4D29gAEIOA+ASL4GEFl3AURmgQiGOaFHGBh4HzPwKTBwvGXgTmBgnMDAJ8DAJcBQ5wBSLncBJLWN\n",
       "gYGngRFoBO9REQYGAGrcDtUkVqASAAAAAElFTkSuQmCC\n",
       "\" style=\"display:inline;vertical-align:middle;\" /></a></td></tr>\n",
       "<tr><td>10</td><td>Variable</td><td></td><td><a class=\"ProveItLink\" href=\"../../../../__pv_it/cbdfda466482236edba0ce44ac7ef39cda0af7a40/expr.ipynb\"><img src=\"data:image/png;base64,iVBORw0KGgoAAAANSUhEUgAAAAkAAAAJBAMAAAASvxsjAAAALVBMVEX///9mZmbc3NxUVFSYmJhE\n",
       "REQiIiIyMjK6uroQEBDMzMyIiIh2dnbu7u4AAABgFDGoAAAAAXRSTlMAQObYZgAAADZJREFUCNdj\n",
       "YOA9s3sBA8PKBvYEBt7ZDKwODMwPGICALwBE6m0Asx0YGIDiAgw8QJUyu/cyAAAmuwmycZ8WfQAA\n",
       "AABJRU5ErkJggg==\n",
       "\" style=\"display:inline;vertical-align:middle;\" /></a></td></tr>\n",
       "<tr><td>11</td><td>Literal</td><td></td><td><a class=\"ProveItLink\" href=\"../../../numeral/__pv_it/9176d93c83afa2c995b614976e3cb49207102fa70/expr.ipynb\"><img src=\"data:image/png;base64,iVBORw0KGgoAAAANSUhEUgAAAAoAAAAOBAMAAADkjZCYAAAAMFBMVEX///+YmJju7u4QEBBUVFQy\n",
       "MjIiIiKIiIi6urpmZmbc3NyqqqpERER2dnbMzMwAAAB0GlNiAAAAAXRSTlMAQObYZgAAAE1JREFU\n",
       "CNdjYHh79zQDA9cEhv4CBt7fDPwJDNxgEgiAIkAQAsR8Vx1ATIbiBhDJ/ImB6wEDz0cG/U8gkj+A\n",
       "ge0XA7sAQ/8FBoadM6MZAEflFACalZ/OAAAAAElFTkSuQmCC\n",
       "\" style=\"display:inline;vertical-align:middle;\" /></a></td></tr>\n",
       "</table>\n"
      ],
      "text/plain": [
       "0. (a + a + 1 + 2 + c + b + b + c + c + 3 , a + a + c + 1 + 2 + b + b + c + c + 3)\n",
       "   core type: ExprTuple\n",
       "   sub-expressions: 1, 2\n",
       "1. a + a + 1 + 2 + c + b + b + c + c + 3\n",
       "   core type: Operation\n",
       "   operator: 4\n",
       "   operands: 3\n",
       "2. a + a + c + 1 + 2 + b + b + c + c + 3\n",
       "   core type: Operation\n",
       "   operator: 4\n",
       "   operands: 5\n",
       "3. (a , a , 1 , 2 , c , b , b , c , c , 3)\n",
       "   core type: ExprTuple\n",
       "   sub-expressions: 6, 6, 7, 8, 10, 9, 9, 10, 10, 11\n",
       "4. +\n",
       "   core type: Literal\n",
       "   sub-expressions: \n",
       "5. (a , a , c , 1 , 2 , b , b , c , c , 3)\n",
       "   core type: ExprTuple\n",
       "   sub-expressions: 6, 6, 10, 7, 8, 9, 9, 10, 10, 11\n",
       "6. a\n",
       "   core type: Variable\n",
       "   sub-expressions: \n",
       "7. 1\n",
       "   core type: Literal\n",
       "   sub-expressions: \n",
       "8. 2\n",
       "   core type: Literal\n",
       "   sub-expressions: \n",
       "9. b\n",
       "   core type: Variable\n",
       "   sub-expressions: \n",
       "10. c\n",
       "    core type: Variable\n",
       "    sub-expressions: \n",
       "11. 3\n",
       "    core type: Literal\n",
       "    sub-expressions: "
      ]
     },
     "execution_count": 4,
     "metadata": {},
     "output_type": "execute_result"
    }
   ],
   "source": [
    "# display the expression information\n",
    "expr.exprInfo()"
   ]
  },
  {
   "cell_type": "code",
   "execution_count": null,
   "metadata": {},
   "outputs": [],
   "source": []
  }
 ],
 "metadata": {
  "kernelspec": {
   "display_name": "Python 3",
   "language": "python",
   "name": "python3"
  }
 },
 "nbformat": 4,
 "nbformat_minor": 0
}
