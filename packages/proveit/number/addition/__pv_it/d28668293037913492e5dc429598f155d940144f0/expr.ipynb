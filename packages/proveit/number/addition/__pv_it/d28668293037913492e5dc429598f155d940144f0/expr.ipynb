{
 "cells": [
  {
   "cell_type": "markdown",
   "metadata": {},
   "source": [
    "Expression of type <a class=\"ProveItLink\" href=\"../../../../../../doc/html/api/proveit.number.Add.html\">Add</a>\n",
    "=======================\n",
    "# from context <a class=\"ProveItLink\" href=\"../../_context_.ipynb\">proveit.number.addition</a>"
   ]
  },
  {
   "cell_type": "code",
   "execution_count": 1,
   "metadata": {},
   "outputs": [],
   "source": [
    "# import Expression classes needed to build the expression\n",
    "from proveit._common_ import a, b, c\n",
    "from proveit.number import Add"
   ]
  },
  {
   "cell_type": "code",
   "execution_count": 2,
   "metadata": {},
   "outputs": [
    {
     "data": {
      "text/html": [
       "<strong id=\"expr\">expr:</strong> <a class=\"ProveItLink\" href=\"expr.ipynb\"><img src=\"data:image/png;base64,iVBORw0KGgoAAAANSUhEUgAAAXgAAAAVBAMAAAC+ruilAAAAMFBMVEX////c3NwiIiJERESqqqqY\n",
       "mJh2dnZmZmYQEBDu7u4yMjJUVFTMzMyIiIi6uroAAAAs73DqAAAAAXRSTlMAQObYZgAAAnNJREFU\n",
       "SMfV1zFoE1EYB/B/2ksul9gke4Zmq4uQQUcxOIrSm52Cgy5WAmKHKmhFHATLuYjYIaXg4BUkgqII\n",
       "oQEXwcGbFNErwSmI0kBTJBDFl3rXu++9l3upnAEPQsgv7/73Je/dlxfgvz5yTrx5yfYEi38bd+A1\n",
       "7vXqTQ6MlyUFjH08jrv4DA8bwoiGCsY8ZsiquSe8bxQOKskqF9bj0/MVFYy+GIG0FX7rjFC85hxU\n",
       "jBs0LNfn07ctFYy+GIGviLt4HKVhqRKffk4JYxa/yB6J5qVlenIg/mBRUHzfKcjkAq0k0/xk0vQN\n",
       "97kCjPNui0bfX/gswiP23ClMd+nJgfiDRckt44RUTtHi62UMCBg7yLciAW/amRKJPrSCdRFW2Je6\n",
       "C71M4kPiDRYFsyYuS6VDi5+3cJuA1ke6GgnGXUybJPqBg2Mi/AKyXUw5JD4k3mBRsAkckco7WvwS\n",
       "8IOAvoZ8LRKyXX6Jb0qBFZ8voz6ctSXbPmzbw67si27b63dsuyET7MAYSGWv+CBsDrldAlM1bJuR\n",
       "kP8zySRaBrfYbDuYhxX+5CHxPqkoiZ/QuoZMuGXTg94nwLr6dSsSZh3ui2bRMmArqV7BK43cMCHx\n",
       "Boti9JBdOy2Ts7T4gb+g92ttcTeBCGwe6Jpnc5cUgfW1jKnNpWh3C8QbLArrUydrVZlwrfIZrlLI\n",
       "VvSGAmpI0Vb5ArgowpdhC996vUW7TSD+NAmCovvteFsmT2itqx9MCkbzigKw6H6kF9MXXEuEdOFf\n",
       "bw8i0tUQ/Qu7v43aO76Psd1XScoZFfYXIFyMQuxb4ocT/DNSjDvw6QSLT8T8N3CmNbHSfwNXkDFi\n",
       "/y85UQAAAABJRU5ErkJggg==\n",
       "\" style=\"display:inline;vertical-align:middle;\" /></a><br>"
      ],
      "text/plain": [
       "expr: (a + a + a + a + a) + b + b + b + c + c + c"
      ]
     },
     "execution_count": 2,
     "metadata": {},
     "output_type": "execute_result"
    }
   ],
   "source": [
    "# build up the expression from sub-expressions\n",
    "expr = Add(Add(a, a, a, a, a), b, b, b, c, c, c)"
   ]
  },
  {
   "cell_type": "code",
   "execution_count": 3,
   "metadata": {},
   "outputs": [
    {
     "name": "stdout",
     "output_type": "stream",
     "text": [
      "Passed sanity check: built 'expr' is the same as the stored Expression.\n"
     ]
    }
   ],
   "source": [
    "# check that the built expression is the same as the stored expression\n",
    "%check_expr"
   ]
  },
  {
   "cell_type": "code",
   "execution_count": 4,
   "metadata": {},
   "outputs": [
    {
     "data": {
      "text/html": [
       "<table><tr><th>&nbsp;</th><th>core type</th><th>sub-expressions</th><th>expression</th></tr>\n",
       "<tr><td>0</td><td>Operation</td><td>operator:&nbsp;5<br>operands:&nbsp;1<br></td><td><a class=\"ProveItLink\" href=\"expr.ipynb\"><img src=\"data:image/png;base64,iVBORw0KGgoAAAANSUhEUgAAAXgAAAAVBAMAAAC+ruilAAAAMFBMVEX////c3NwiIiJERESqqqqY\n",
       "mJh2dnZmZmYQEBDu7u4yMjJUVFTMzMyIiIi6uroAAAAs73DqAAAAAXRSTlMAQObYZgAAAnNJREFU\n",
       "SMfV1zFoE1EYB/B/2ksul9gke4Zmq4uQQUcxOIrSm52Cgy5WAmKHKmhFHATLuYjYIaXg4BUkgqII\n",
       "oQEXwcGbFNErwSmI0kBTJBDFl3rXu++9l3upnAEPQsgv7/73Je/dlxfgvz5yTrx5yfYEi38bd+A1\n",
       "7vXqTQ6MlyUFjH08jrv4DA8bwoiGCsY8ZsiquSe8bxQOKskqF9bj0/MVFYy+GIG0FX7rjFC85hxU\n",
       "jBs0LNfn07ctFYy+GIGviLt4HKVhqRKffk4JYxa/yB6J5qVlenIg/mBRUHzfKcjkAq0k0/xk0vQN\n",
       "97kCjPNui0bfX/gswiP23ClMd+nJgfiDRckt44RUTtHi62UMCBg7yLciAW/amRKJPrSCdRFW2Je6\n",
       "C71M4kPiDRYFsyYuS6VDi5+3cJuA1ke6GgnGXUybJPqBg2Mi/AKyXUw5JD4k3mBRsAkckco7WvwS\n",
       "8IOAvoZ8LRKyXX6Jb0qBFZ8voz6ctSXbPmzbw67si27b63dsuyET7MAYSGWv+CBsDrldAlM1bJuR\n",
       "kP8zySRaBrfYbDuYhxX+5CHxPqkoiZ/QuoZMuGXTg94nwLr6dSsSZh3ui2bRMmArqV7BK43cMCHx\n",
       "Boti9JBdOy2Ts7T4gb+g92ttcTeBCGwe6Jpnc5cUgfW1jKnNpWh3C8QbLArrUydrVZlwrfIZrlLI\n",
       "VvSGAmpI0Vb5ArgowpdhC996vUW7TSD+NAmCovvteFsmT2itqx9MCkbzigKw6H6kF9MXXEuEdOFf\n",
       "bw8i0tUQ/Qu7v43aO76Psd1XScoZFfYXIFyMQuxb4ocT/DNSjDvw6QSLT8T8N3CmNbHSfwNXkDFi\n",
       "/y85UQAAAABJRU5ErkJggg==\n",
       "\" style=\"display:inline;vertical-align:middle;\" /></a></td></tr>\n",
       "<tr><td>1</td><td>ExprTuple</td><td>2, 3, 3, 3, 4, 4, 4</td><td><a class=\"ProveItLink\" href=\"../9339505b3f7fe8f32079f149a667e4bdd56d0cad0/expr.ipynb\"><img src=\"data:image/png;base64,iVBORw0KGgoAAAANSUhEUgAAARUAAAAVBAMAAACat2dlAAAAMFBMVEX////c3NwiIiJERESqqqqY\n",
       "mJh2dnZmZmYQEBDu7u4yMjJUVFTMzMyIiIi6uroAAAAs73DqAAAAAXRSTlMAQObYZgAAAhVJREFU\n",
       "SMfNlj9IG1Ecx79JLrm8pOayZzBbXYQsjqWhc0tvcpTg0E7KQTGDiw2Ig1CNW7cchQ49lywFEYIH\n",
       "LoJLJqHQSHSSUjGadhCs+F7IJXe+95OkJJDfcPnkQ7jf7/3enzxgkiJVn4gyFsTjeBxvZntZCojQ\n",
       "Xf74NpZhJqokEGEDU4EpYmlphAMY7EjGyJNAxDwQL/uFJi2eQQzeSOaqTAIRn4FfGEstizQQEcmj\n",
       "yD9CteVSMI9skDm5SBOmV0vf7Da+U8DeNVwFxCx85XyRjrSCmWWTKuElZbxa+oa1YbhqwFEzkVWA\n",
       "ZmOLN+Ev9Fwgj2wwbeIDZbxafL+5RbygBvYJEVMBqY+4B5IthOuBPLLBATBLGa+WvtFtGJYakt2G\n",
       "P4ZnLVGLkUNFtE93nC+bjlNVGbTB7pQGq44z4zi7PgOELVyZajBy3iYPAq9lnbe2jrco+8csm9A/\n",
       "aC1GmG5ffIYfJmtlNUx7S/8R8DmaAyp57GuuP49s2B8k7deE6dbSNSIjX6YbYGrg3TFlQNTGe346\n",
       "m9rzWGAtyIbvt1dWgTDeeukYdiOWQF6vopJVgoWYK4PY0+fiMDk9PA3uI8kg0/j9okkYr5aOYdv8\n",
       "iGG1FX6SXqsAxcYPBSDRRDw96nM31Xvj2TDA/wOihacvM4MYXPq/RHtkDgNL47gz/F8tzBaTPOpa\n",
       "em2bGgaSYmZDk3HH/Ak8ALztBT3HW7rnAAAAAElFTkSuQmCC\n",
       "\" style=\"display:inline;vertical-align:middle;\" /></a></td></tr>\n",
       "<tr><td>2</td><td>Operation</td><td>operator:&nbsp;5<br>operands:&nbsp;6<br></td><td><a class=\"ProveItLink\" href=\"../9229b91a5a32f43646dbad418ecba6f0710bb2640/expr.ipynb\"><img src=\"data:image/png;base64,iVBORw0KGgoAAAANSUhEUgAAAJwAAAAOBAMAAAAoOGg2AAAAMFBMVEX///8yMjKqqqrMzMzu7u4i\n",
       "IiJmZmaYmJhEREQQEBC6urp2dnaIiIhUVFTc3NwAAAD87Fq/AAAAAXRSTlMAQObYZgAAAONJREFU\n",
       "OMtjYEAAPwZ0gCnC8oCwCBToECHCdICwCDWN47uzax6qZnwicM1vT698gE1k5QOOD6ia8YnANHPN\n",
       "Y+jHJsL3nYGtAUUzXhGY5vcFDBnYRHg/MLAeQNGMVwSm+T4DQww2Ef4GBn8DIC9RUDBSUFCWAZ8I\n",
       "m6Cg6ERBwQtA5g8Gls/YRN4fYNBncEB2C14RqFv4/jAwfWDBIuKvwHCRyQBZM14RqGaWTwy8AspY\n",
       "RBgLmMK4UUIKrwgspMQZVBM2YBHhu3PK4hRqPOITgWl+e2ZxzwIcIrTJZGuIEOE6gFcEANifcwk6\n",
       "B+xgAAAAAElFTkSuQmCC\n",
       "\" style=\"display:inline;vertical-align:middle;\" /></a></td></tr>\n",
       "<tr><td>3</td><td>Variable</td><td></td><td><a class=\"ProveItLink\" href=\"../../../../__pv_it/6840a4fa6c106149dc16a131294d0c5e44f1b0480/expr.ipynb\"><img src=\"data:image/png;base64,iVBORw0KGgoAAAANSUhEUgAAAAkAAAAOBAMAAAAPuiubAAAALVBMVEX///9mZmbMzMxERESYmJiI\n",
       "iIh2dna6urqqqqoyMjIiIiIQEBBUVFTu7u4AAAD9S1JeAAAAAXRSTlMAQObYZgAAAE1JREFUCNdj\n",
       "4D29gAEIOA+ASL4GEFl3AURmgQiGOaFHGBh4HzPwKTBwvGXgTmBgnMDAJ8DAJcBQ5wBSLncBJLWN\n",
       "gYGngRFoBO9REQYGAGrcDtUkVqASAAAAAElFTkSuQmCC\n",
       "\" style=\"display:inline;vertical-align:middle;\" /></a></td></tr>\n",
       "<tr><td>4</td><td>Variable</td><td></td><td><a class=\"ProveItLink\" href=\"../../../../__pv_it/cbdfda466482236edba0ce44ac7ef39cda0af7a40/expr.ipynb\"><img src=\"data:image/png;base64,iVBORw0KGgoAAAANSUhEUgAAAAkAAAAJBAMAAAASvxsjAAAALVBMVEX///9mZmbc3NxUVFSYmJhE\n",
       "REQiIiIyMjK6uroQEBDMzMyIiIh2dnbu7u4AAABgFDGoAAAAAXRSTlMAQObYZgAAADZJREFUCNdj\n",
       "YOA9s3sBA8PKBvYEBt7ZDKwODMwPGICALwBE6m0Asx0YGIDiAgw8QJUyu/cyAAAmuwmycZ8WfQAA\n",
       "AABJRU5ErkJggg==\n",
       "\" style=\"display:inline;vertical-align:middle;\" /></a></td></tr>\n",
       "<tr><td>5</td><td>Literal</td><td></td><td><a class=\"ProveItLink\" href=\"../3e6688136fa3c7aefbebe51301b7c3ebf0b69c440/expr.ipynb\"><img src=\"data:image/png;base64,iVBORw0KGgoAAAANSUhEUgAAAA4AAAAOBAMAAADtZjDiAAAAJFBMVEX///+6urpUVFQQEBAiIiIy\n",
       "MjJmZmaIiIiqqqrc3Nzu7u4AAACgHpL+AAAAAXRSTlMAQObYZgAAAB5JREFUCNdjYGBgWMkAAe2k\n",
       "0Kmhoc6hoUGk6BMHYgAHOwjcado9fwAAAABJRU5ErkJggg==\n",
       "\" style=\"display:inline;vertical-align:middle;\" /></a></td></tr>\n",
       "<tr><td>6</td><td>ExprTuple</td><td>7, 7, 7, 7, 7</td><td><a class=\"ProveItLink\" href=\"../bd8b0c96bb43208ba58e7ac98902471d1fa576b90/expr.ipynb\"><img src=\"data:image/png;base64,iVBORw0KGgoAAAANSUhEUgAAAGgAAAAVBAMAAABYjraNAAAAMFBMVEX////c3NwiIiJERESqqqqY\n",
       "mJh2dnZmZmYQEBDu7u4yMjJUVFTMzMyIiIi6uroAAAAs73DqAAAAAXRSTlMAQObYZgAAARpJREFU\n",
       "OMtjYCAL8F0gTT3rAyBxmlRbaoB4JamauBgYeC+Qqok1gYFjAqmaOBsYXpEedCYMZUCScW9eI4SP\n",
       "n8Ugfe2FAANDOsNSIPuFAPMHiCh+Fl8jgz2Q8mLoAxr1lYHdAGIoXhaDfABDMcgUhn8MDNwfGJgg\n",
       "YYifxbCfgUEXSJ0HaeI3YJh/ACyKn8XwmYHzD1hTC9DWCwz+DOCQx89i/MvA8oET5DxTBob5Dgy7\n",
       "WA4AeQRYnF8YuBf4MDBEAcOPgSuARZ2NYb4CIRYwpJ0KEkBB/ggUEfcO32OY8ZEQi0H67htbYBpf\n",
       "x8AhAIvohwzEsYDJCJj8oCCAgTgW2wWkrEGsplkgh0LZvHBR/CyGjaDQJzFD8R5gAACT23cpa4ld\n",
       "/QAAAABJRU5ErkJggg==\n",
       "\" style=\"display:inline;vertical-align:middle;\" /></a></td></tr>\n",
       "<tr><td>7</td><td>Variable</td><td></td><td><a class=\"ProveItLink\" href=\"../../../../__pv_it/07527342713064c87612d00d8557c53d53d5324a0/expr.ipynb\"><img src=\"data:image/png;base64,iVBORw0KGgoAAAANSUhEUgAAAAsAAAAJBAMAAAAWSsseAAAAMFBMVEX///8yMjKqqqrMzMzu7u4i\n",
       "IiJmZmaYmJhEREQQEBC6urp2dnaIiIhUVFTc3NwAAAD87Fq/AAAAAXRSTlMAQObYZgAAAEhJREFU\n",
       "CNdjYOC7s2seAwPDygccHxgY+L4zsDUwMPB+YGA9wMDA38Dgb8DA8P4Agz6DA4O/AsNFJgMGxgKm\n",
       "MG6gyjunLE4xAAAZTBA5TB6DCwAAAABJRU5ErkJggg==\n",
       "\" style=\"display:inline;vertical-align:middle;\" /></a></td></tr>\n",
       "</table>\n"
      ],
      "text/plain": [
       "0. (a + a + a + a + a) + b + b + b + c + c + c\n",
       "   core type: Operation\n",
       "   operator: 5\n",
       "   operands: 1\n",
       "1. (a + a + a + a + a , b , b , b , c , c , c)\n",
       "   core type: ExprTuple\n",
       "   sub-expressions: 2, 3, 3, 3, 4, 4, 4\n",
       "2. a + a + a + a + a\n",
       "   core type: Operation\n",
       "   operator: 5\n",
       "   operands: 6\n",
       "3. b\n",
       "   core type: Variable\n",
       "   sub-expressions: \n",
       "4. c\n",
       "   core type: Variable\n",
       "   sub-expressions: \n",
       "5. +\n",
       "   core type: Literal\n",
       "   sub-expressions: \n",
       "6. (a , a , a , a , a)\n",
       "   core type: ExprTuple\n",
       "   sub-expressions: 7, 7, 7, 7, 7\n",
       "7. a\n",
       "   core type: Variable\n",
       "   sub-expressions: "
      ]
     },
     "execution_count": 4,
     "metadata": {},
     "output_type": "execute_result"
    }
   ],
   "source": [
    "# display the expression information\n",
    "expr.exprInfo()"
   ]
  },
  {
   "cell_type": "code",
   "execution_count": null,
   "metadata": {},
   "outputs": [],
   "source": []
  }
 ],
 "metadata": {
  "kernelspec": {
   "display_name": "Python 3",
   "language": "python",
   "name": "python3"
  }
 },
 "nbformat": 4,
 "nbformat_minor": 0
}
