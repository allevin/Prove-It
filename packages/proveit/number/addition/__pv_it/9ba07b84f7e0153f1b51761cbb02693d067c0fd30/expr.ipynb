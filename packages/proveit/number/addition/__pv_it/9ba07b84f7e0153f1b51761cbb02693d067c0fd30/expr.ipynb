{
 "cells": [
  {
   "cell_type": "markdown",
   "metadata": {},
   "source": [
    "Expression of type <a class=\"ProveItLink\" href=\"../../../../../../doc/html/api/proveit.logic.Set.html\">Set</a>\n",
    "=======================\n",
    "# from context <a class=\"ProveItLink\" href=\"../../_context_.ipynb\">proveit.number.addition</a>"
   ]
  },
  {
   "cell_type": "code",
   "execution_count": 1,
   "metadata": {},
   "outputs": [],
   "source": [
    "# import Expression classes needed to build the expression\n",
    "from proveit.logic import InSet, Set\n",
    "from proveit.number import RealsPos, one, two"
   ]
  },
  {
   "cell_type": "code",
   "execution_count": 2,
   "metadata": {},
   "outputs": [
    {
     "data": {
      "text/html": [
       "<strong id=\"expr\">expr:</strong> <a class=\"ProveItLink\" href=\"expr.ipynb\"><img src=\"data:image/png;base64,iVBORw0KGgoAAAANSUhEUgAAAJ8AAAAbBAMAAACQFEAdAAAAMFBMVEX///+6urp2dnaqqqoiIiIQ\n",
       "EBBERETu7u6IiIjc3NwyMjJUVFSYmJhmZmbMzMwAAAD0pS5FAAAAAXRSTlMAQObYZgAAAeRJREFU\n",
       "SMdjYCAEmBmIACiK+O7gVctGjIFgRcwXIZxdE6hkIMO0BBDJ8Z2BWgYyxIII7gXUMzALbiDn3WUC\n",
       "KCpOfctfFdWAZiBbAQN+RbvgBs5m4PiMqjhhNsMzqwkMu1YtXbWqASLEno9mIIYihIHbGRj80dTO\n",
       "ZWCrTEB2Ifvu/RgGoilCGBhawLAf7Gf2LheXBVC1TA8SUL3cDzWwYomLFwM2RQgD1xcw3Acb+Oo4\n",
       "wnJcBvKtKcChCGwgWwKE4w9SxZmO5BvuSuwGTivApQhsICskyPk+gU2fgKRW5BSIx41hYCYDLkXn\n",
       "gQo4V0PYXGCHliHUTnXxMkCLA4iB7Ak4FfGuZGA48gDCvgYmRV1c4JEii57soAYyhgDVwCIFTdGU\n",
       "BgZmDzCLYwOYeo3kG165DVgN5NuAUxGPM5CoPwBi2jJwgsKiBDl4lvdg97IDTkX2E2CxzHeBgQcc\n",
       "uAeQ1L7mfgBP1MiRsocBuyLkdDhFSekKWKMjklomA3h81jsgGVgigF0RsoH+//9/AQvNugfP93kM\n",
       "y9bDorD0J5C4G78W7AHOtQ+wKkI2EAGsl7hgK88kUQr8XdBYRge7iCkPIeAAMYoG0kAOBuINZApg\n",
       "oBrwBqeU1VQzj9cdkl/2UMk85hwGGgAAvf2ri4Xm0OkAAAAASUVORK5CYII=\n",
       "\" style=\"display:inline;vertical-align:middle;\" /></a><br>"
      ],
      "text/plain": [
       "expr: {2 in RealsPos , 1 in RealsPos}"
      ]
     },
     "execution_count": 2,
     "metadata": {},
     "output_type": "execute_result"
    }
   ],
   "source": [
    "# build up the expression from sub-expressions\n",
    "expr = Set(InSet(two, RealsPos), InSet(one, RealsPos))"
   ]
  },
  {
   "cell_type": "code",
   "execution_count": 3,
   "metadata": {},
   "outputs": [
    {
     "name": "stdout",
     "output_type": "stream",
     "text": [
      "Passed sanity check: built 'expr' is the same as the stored Expression.\n"
     ]
    }
   ],
   "source": [
    "# check that the built expression is the same as the stored expression\n",
    "%check_expr"
   ]
  },
  {
   "cell_type": "code",
   "execution_count": 4,
   "metadata": {},
   "outputs": [
    {
     "data": {
      "text/html": [
       "<table><tr><th>&nbsp;</th><th>core type</th><th>sub-expressions</th><th>expression</th></tr>\n",
       "<tr><td>0</td><td>Operation</td><td>operator:&nbsp;1<br>operands:&nbsp;2<br></td><td><a class=\"ProveItLink\" href=\"expr.ipynb\"><img src=\"data:image/png;base64,iVBORw0KGgoAAAANSUhEUgAAAJ8AAAAbBAMAAACQFEAdAAAAMFBMVEX///+6urp2dnaqqqoiIiIQ\n",
       "EBBERETu7u6IiIjc3NwyMjJUVFSYmJhmZmbMzMwAAAD0pS5FAAAAAXRSTlMAQObYZgAAAeRJREFU\n",
       "SMdjYCAEmBmIACiK+O7gVctGjIFgRcwXIZxdE6hkIMO0BBDJ8Z2BWgYyxIII7gXUMzALbiDn3WUC\n",
       "KCpOfctfFdWAZiBbAQN+RbvgBs5m4PiMqjhhNsMzqwkMu1YtXbWqASLEno9mIIYihIHbGRj80dTO\n",
       "ZWCrTEB2Ifvu/RgGoilCGBhawLAf7Gf2LheXBVC1TA8SUL3cDzWwYomLFwM2RQgD1xcw3Acb+Oo4\n",
       "wnJcBvKtKcChCGwgWwKE4w9SxZmO5BvuSuwGTivApQhsICskyPk+gU2fgKRW5BSIx41hYCYDLkXn\n",
       "gQo4V0PYXGCHliHUTnXxMkCLA4iB7Ak4FfGuZGA48gDCvgYmRV1c4JEii57soAYyhgDVwCIFTdGU\n",
       "BgZmDzCLYwOYeo3kG165DVgN5NuAUxGPM5CoPwBi2jJwgsKiBDl4lvdg97IDTkX2E2CxzHeBgQcc\n",
       "uAeQ1L7mfgBP1MiRsocBuyLkdDhFSekKWKMjklomA3h81jsgGVgigF0RsoH+//9/AQvNugfP93kM\n",
       "y9bDorD0J5C4G78W7AHOtQ+wKkI2EAGsl7hgK88kUQr8XdBYRge7iCkPIeAAMYoG0kAOBuINZApg\n",
       "oBrwBqeU1VQzj9cdkl/2UMk85hwGGgAAvf2ri4Xm0OkAAAAASUVORK5CYII=\n",
       "\" style=\"display:inline;vertical-align:middle;\" /></a></td></tr>\n",
       "<tr><td>1</td><td>Literal</td><td></td><td><a class=\"ProveItLink\" href=\"../../../../logic/set_theory/enumeration/__pv_it/07381ed5b23806e8d7914b78cb6667769e3708dd0/expr.ipynb\"><img src=\"data:image/png;base64,iVBORw0KGgoAAAANSUhEUgAAAB4AAAAOBAMAAADKyLEKAAAAMFBMVEX///8iIiIQEBCIiIjMzMzc\n",
       "3Nyqqqp2dnZEREQyMjK6urru7u5mZmZUVFSYmJgAAACI6eGPAAAAAXRSTlMAQObYZgAAALRJREFU\n",
       "CNdjYGDgu3Nm3wIGBJjHwN0PZW5yYGDgLWBgyITy8zcwMMQDxZyh/INAvD6BgcEFypcB4vjPDiBm\n",
       "TPFRrhs/LjMwMP//38rAwCbKEMPA9gEkE3fp0waG+AUMRxh4JkC01T9guPTOOICBEWgVH5C//wHD\n",
       "H5D4fqCz9oCMDGD4DLaegRXslLMMDMpAgxlOMmQxHDRgYG5gYLBk4D7KcIe7gOHC2rt9QCXsh40Z\n",
       "GCKMGQDRkC8N/Ph1XAAAAABJRU5ErkJggg==\n",
       "\" style=\"display:inline;vertical-align:middle;\" /></a></td></tr>\n",
       "<tr><td>2</td><td>ExprTuple</td><td>3, 4</td><td><a class=\"ProveItLink\" href=\"../bb845e9479be37f39f968059dde1b04f75e94faa0/expr.ipynb\"><img src=\"data:image/png;base64,iVBORw0KGgoAAAANSUhEUgAAAJgAAAAbBAMAAAByyFtkAAAAMFBMVEX///+qqqp2dnYiIiJERESI\n",
       "iIhmZmYQEBDc3NyYmJgyMjLu7u5UVFTMzMy6uroAAACGxKilAAAAAXRSTlMAQObYZgAAAgRJREFU\n",
       "SMetlM8rBGEYx7/W7po1u8vJQQ6bv2BrSlIYN4VsOYiULXKRKAflYosoOaxy4qJoZSlTiFzWwcVS\n",
       "9uCkLUrh4reDkh/v+85a77xmmMM89T7vvDOf+b7v8zzv+wJ/WwFsGAfd/cW57YgxKERdYN8ZsSx1\n",
       "e5ozYp4IcYdwRgzVgDREWt/yheHr/EtrcjQiiLmFEESoC/BGgRl4Ho2gOoPT8hjSyZVkMqK/klvF\n",
       "fAhQSkMRWdMRUC9wk3DvqvzK5OOTX2JGqDCOc9KNaDhhccqdirKY41wZ1Rhmd05se0mpgQnkVdFO\n",
       "ug0Ng0zsbOFnUiuxwKpmDvkekNY/1FNCauIi8O+ai01oFlDwDc36dE+sKjGOu5ynI/8vsUZYQIF3\n",
       "JNhDMZ0AWz/clFJTKuRbF5NVK0j6QBV76GX+WlHyBbgSt1VOLDhMmO8CGCD5URfz6Oczy0Xgvd03\n",
       "FeOOsgCRla3TvgwSjX2TT8dah3mYYStIescBnS0KH0tknOOy/kw+AL4AhzCHEHxFG+nGKyt72E91\n",
       "HOcqzdctFebENi/MIbrP7ukm+/x8ZuPpgfwZbsHyxnepdl6J6xtLsIVLiYwpBNciSjJ8XiqW9GoK\n",
       "dmO4pNO5agpWHIE/ZOPCitu51VIxBMJOic2R1vA/5rGjhVqadDhjvijNZ8gZsQnmZ50R64ez9gU+\n",
       "56YxcIU6qgAAAABJRU5ErkJggg==\n",
       "\" style=\"display:inline;vertical-align:middle;\" /></a></td></tr>\n",
       "<tr><td>3</td><td>Operation</td><td>operator:&nbsp;6<br>operands:&nbsp;5<br></td><td><a class=\"ProveItLink\" href=\"../22c9ea512dd69d082142345fcceef9b3ded57fc90/expr.ipynb\"><img src=\"data:image/png;base64,iVBORw0KGgoAAAANSUhEUgAAAD4AAAAUBAMAAAAn2JMnAAAAMFBMVEX///+YmJh2dnbMzMwQEBAi\n",
       "IiLu7u6qqqqIiIhUVFS6urpEREQyMjJmZmbc3NwAAACOMKdoAAAAAXRSTlMAQObYZgAAAOlJREFU\n",
       "KM9jYMADChjwgw10kOe7e3oBiiDj+d1/jpyAy79k4PiOqoubbwLz9nMMnGfO+Jw5wTCNgSEeXf4C\n",
       "w7bXMP0uCQzzIRZkHA2Ngckrc8Pkzycw3AfLMx9MQOhHyANBPFjidQKS+dNeI+SZP4GpfUj2cwWe\n",
       "A7EmgPk8YGVsGxDyrqHHkdx7G0xyuYaGwtx368I2hDQHxBTmCUjm37JEyNcy8D0AmR+AJM+TIQDj\n",
       "MV9gYATJM0xEkmeeMBnGe6qkdBXMSF2A5D917gdQXvz//1/BDL6zBrD4+W3As+c7Rmyyz4G4HwUA\n",
       "AC4MTGT+qtFHAAAAAElFTkSuQmCC\n",
       "\" style=\"display:inline;vertical-align:middle;\" /></a></td></tr>\n",
       "<tr><td>4</td><td>Operation</td><td>operator:&nbsp;6<br>operands:&nbsp;7<br></td><td><a class=\"ProveItLink\" href=\"../0f4aece75b041ade2d3169e147e9e8b2580edac30/expr.ipynb\"><img src=\"data:image/png;base64,iVBORw0KGgoAAAANSUhEUgAAAD4AAAAUBAMAAAAn2JMnAAAAMFBMVEX///92dnaqqqq6urrc3NzM\n",
       "zMwiIiKYmJgyMjIQEBBmZmaIiIhUVFTu7u5EREQAAACNWUPNAAAAAXRSTlMAQObYZgAAALdJREFU\n",
       "KM9jYMADFBjwgwd0kX+LKsje/+5HZzdC/t5fNF18LAdYH7Uw8HR0zOjoZrhzBlN+AcNbP7h+bpj8\n",
       "7ba0DJi8KB+GPGv7BYR+LPJ+F5DMP4tp/hMk+5nTW0CsA0jyvA8Q8tPSmhDOhcozT0tLg7lv8YK3\n",
       "GPKsB5DMXxyDIc+bgCTPcbsAXZ7hOJI864GjGPLXDJD8J8TnAOVxrfyxHMxg6QqAxc+/AI4XnzBi\n",
       "k+kExP0oAAC6t0gUtIuGiAAAAABJRU5ErkJggg==\n",
       "\" style=\"display:inline;vertical-align:middle;\" /></a></td></tr>\n",
       "<tr><td>5</td><td>ExprTuple</td><td>8, 10</td><td><a class=\"ProveItLink\" href=\"../0bab134a3b9ccc22b97947855451018844ad44880/expr.ipynb\"><img src=\"data:image/png;base64,iVBORw0KGgoAAAANSUhEUgAAAD4AAAAbBAMAAADWjiHyAAAAMFBMVEX///+qqqp2dnYiIiJERESI\n",
       "iIhmZmYQEBDc3NyYmJgyMjLu7u5UVFTMzMy6uroAAACGxKilAAAAAXRSTlMAQObYZgAAAVhJREFU\n",
       "KM9jYMAOGBHMd9jkWUCEAojgPYBT/g6I2LUBpzxrAJA4yYBTnsGCgYGjAIjTljwA82d98V9VFYCQ\n",
       "j2FgYEtgYOhhYP0I0ebQw3BFqoHh1Krlq1YB1e3fwMAO1HmagcEeKt/GwLLDAa6feQLDfSBVvoHh\n",
       "/AOYPNMFhDybA0M4kFq/gSEfqzznB4ZTEIPtN8DkeZDM5/vN4ANm8H6C2/94VgOQwQMR/suwDMzg\n",
       "coDKtxtbCSBCgeMfgxmYkcIA0/+MBSk8uT9C5FkPwOXZ3h5A0b8GRIsxcDTA7F8diST/l+EIyBkJ\n",
       "DJwN3FD5OzwX4PJ8PxiCgVSzklIyw34DqP8FPODyQP+/B3n+///PDNt/gOPHl2HJergPmBYw8MNN\n",
       "e4EZy1wBDDwKMM4ETPn9DQy8BnjkpwCxI5TNiiUV2QJxFwNOwJkASukKOOVbwOREnPLZDAQBAFBe\n",
       "WsXO8/hlAAAAAElFTkSuQmCC\n",
       "\" style=\"display:inline;vertical-align:middle;\" /></a></td></tr>\n",
       "<tr><td>6</td><td>Literal</td><td></td><td><a class=\"ProveItLink\" href=\"../../../../logic/set_theory/membership/__pv_it/088cbc857536a28d4119ad9639a84270ccb0545d0/expr.ipynb\"><img src=\"data:image/png;base64,iVBORw0KGgoAAAANSUhEUgAAAAwAAAAMBAMAAACkW0HUAAAALVBMVEX///+qqqpmZmZUVFQQEBC6\n",
       "urpERETc3NyYmJjMzMwiIiIyMjKIiIju7u4AAACYsrA9AAAAAXRSTlMAQObYZgAAADxJREFUCNdj\n",
       "YOA9vWrVBgaG2b0MQMCeCyIZ2ArA1DUwyRCyahVIyWQI7xaEYm4AU7xLIdxqTQgtvGvVBgCkcQ7e\n",
       "geM/tQAAAABJRU5ErkJggg==\n",
       "\" style=\"display:inline;vertical-align:middle;\" /></a></td></tr>\n",
       "<tr><td>7</td><td>ExprTuple</td><td>9, 10</td><td><a class=\"ProveItLink\" href=\"../da1605f537b3d7c3081c25dd05766d3bd2cc7c1a0/expr.ipynb\"><img src=\"data:image/png;base64,iVBORw0KGgoAAAANSUhEUgAAAD4AAAAbBAMAAADWjiHyAAAAMFBMVEX///+qqqp2dnYiIiJERESI\n",
       "iIhmZmYQEBDc3NyYmJgyMjLu7u5UVFTMzMy6uroAAACGxKilAAAAAXRSTlMAQObYZgAAAShJREFU\n",
       "KM9jYMAOGBHMd9jkWUCEAojgPYBT/g6I2LUBpzxrAJA4yYBTnsGCgYGjAMTwhojO+uK/qioAIR/D\n",
       "wMCWAKS3/IZqc+hhuCLVwHBq1fJVq4Dq9m9gYH/AwLDnDFy+jYFlhwNcP/MEhvtghyDJM11AyLM5\n",
       "MITjk+f8wHAKXZ4HyXy+3ww+6PKPZzUAGTxgLu9fhmWo8u3GVgKIUOD4x2CGpv8ZC1J4cn/EkGd7\n",
       "ewBF/xp0+1dHIsn/ZTgCk+eGyt/huQCX5/vBEAyT328A9b+AB1we6P/3oGBK/5XJsP0HOH58GZas\n",
       "h/uAaQEDP9y0F5ixzBXAwKMA40zAlN/fwMBrgEd+ChA7QtmsWFKRLRB3MeAEnKC0w6iAU74FTE7E\n",
       "KZ/NQBAAAK1hV8G42XkcAAAAAElFTkSuQmCC\n",
       "\" style=\"display:inline;vertical-align:middle;\" /></a></td></tr>\n",
       "<tr><td>8</td><td>Literal</td><td></td><td><a class=\"ProveItLink\" href=\"../../../numeral/__pv_it/77d407a64829263cdc16415becd4c2293f77a4bf0/expr.ipynb\"><img src=\"data:image/png;base64,iVBORw0KGgoAAAANSUhEUgAAAAkAAAAOBAMAAAAPuiubAAAAMFBMVEX///+YmJh2dnbMzMwQEBAi\n",
       "IiLu7u6qqqqIiIhUVFS6urpEREQyMjJmZmbc3NwAAACOMKdoAAAAAXRSTlMAQObYZgAAAFBJREFU\n",
       "CNdj4Lt7egEDw0sGju8MDNMYGOIZGFwSGOYvYDifwHAfKAEUSQASzJ9ATJ4NIPI2iOCYACJrGfge\n",
       "MDBfYGB8wPBUSekqUPH//18ZAIliFhc3zESNAAAAAElFTkSuQmCC\n",
       "\" style=\"display:inline;vertical-align:middle;\" /></a></td></tr>\n",
       "<tr><td>9</td><td>Literal</td><td></td><td><a class=\"ProveItLink\" href=\"../../../numeral/__pv_it/9be8badea4c35b9724062cecc501d17a3158d1d20/expr.ipynb\"><img src=\"data:image/png;base64,iVBORw0KGgoAAAANSUhEUgAAAAgAAAAPBAMAAAArJJMAAAAAHlBMVEX///+YmJgyMjIQEBBmZmaI\n",
       "iIhUVFTu7u5EREQAAAAw+MI4AAAAAXRSTlMAQObYZgAAACFJREFUCNdjYGBoZ2BgqJjOwFCWBiQY\n",
       "WEklWJwnOTKAAACjEQo8HvEr3AAAAABJRU5ErkJggg==\n",
       "\" style=\"display:inline;vertical-align:middle;\" /></a></td></tr>\n",
       "<tr><td>10</td><td>Literal</td><td></td><td><a class=\"ProveItLink\" href=\"../../../sets/real/__pv_it/399ccec6a6e90df280e82734a8711cdb89199bc00/expr.ipynb\"><img src=\"data:image/png;base64,iVBORw0KGgoAAAANSUhEUgAAABsAAAATBAMAAACTqWsLAAAAMFBMVEX///8iIiK6urp2dnbu7u5m\n",
       "ZmaqqqrMzMxUVFTc3NyIiIgQEBBEREQyMjKYmJgAAAA9nvXMAAAAAXRSTlMAQObYZgAAAGxJREFU\n",
       "GNNjYIADNgYUwEMy9+2f83f3LkDIHpjBUJM7gaH37u27d4HCB6Yy8HgeQMhOZWAuwMflQFWs+HYC\n",
       "kMEB4c4WlE1A2H5gqiqPAzKXVb0BmctwZR0Kt4KjAJnLnHASxgN64TjDnftQswFmaSyXIBgH2QAA\n",
       "AABJRU5ErkJggg==\n",
       "\" style=\"display:inline;vertical-align:middle;\" /></a></td></tr>\n",
       "</table>\n"
      ],
      "text/plain": [
       "0. {2 in RealsPos , 1 in RealsPos}\n",
       "   core type: Operation\n",
       "   operator: 1\n",
       "   operands: 2\n",
       "1. Set\n",
       "   core type: Literal\n",
       "   sub-expressions: \n",
       "2. (2 in RealsPos , 1 in RealsPos)\n",
       "   core type: ExprTuple\n",
       "   sub-expressions: 3, 4\n",
       "3. 2 in RealsPos\n",
       "   core type: Operation\n",
       "   operator: 6\n",
       "   operands: 5\n",
       "4. 1 in RealsPos\n",
       "   core type: Operation\n",
       "   operator: 6\n",
       "   operands: 7\n",
       "5. (2 , RealsPos)\n",
       "   core type: ExprTuple\n",
       "   sub-expressions: 8, 10\n",
       "6. in\n",
       "   core type: Literal\n",
       "   sub-expressions: \n",
       "7. (1 , RealsPos)\n",
       "   core type: ExprTuple\n",
       "   sub-expressions: 9, 10\n",
       "8. 2\n",
       "   core type: Literal\n",
       "   sub-expressions: \n",
       "9. 1\n",
       "   core type: Literal\n",
       "   sub-expressions: \n",
       "10. RealsPos\n",
       "    core type: Literal\n",
       "    sub-expressions: "
      ]
     },
     "execution_count": 4,
     "metadata": {},
     "output_type": "execute_result"
    }
   ],
   "source": [
    "# display the expression information\n",
    "expr.exprInfo()"
   ]
  },
  {
   "cell_type": "code",
   "execution_count": null,
   "metadata": {},
   "outputs": [],
   "source": []
  }
 ],
 "metadata": {
  "kernelspec": {
   "display_name": "Python 3",
   "language": "python",
   "name": "python3"
  }
 },
 "nbformat": 4,
 "nbformat_minor": 0
}
