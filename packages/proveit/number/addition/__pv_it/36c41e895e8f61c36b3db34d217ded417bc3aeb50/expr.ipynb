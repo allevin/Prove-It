{
 "cells": [
  {
   "cell_type": "markdown",
   "metadata": {},
   "source": [
    "Expression of type <a class=\"ProveItLink\" href=\"../../../../../../doc/html/api/proveit.logic.InSet.html\">InSet</a>\n",
    "=======================\n",
    "# from context <a class=\"ProveItLink\" href=\"../../_context_.ipynb\">proveit.number.addition</a>"
   ]
  },
  {
   "cell_type": "code",
   "execution_count": 1,
   "metadata": {},
   "outputs": [],
   "source": [
    "# import Expression classes needed to build the expression\n",
    "from proveit._common_ import C, c\n",
    "from proveit.logic import InSet\n",
    "from proveit.number import Complexes, Exp, four, one, three"
   ]
  },
  {
   "cell_type": "code",
   "execution_count": 2,
   "metadata": {},
   "outputs": [
    {
     "data": {
      "text/html": [
       "<strong id=\"expr\">expr:</strong> <a class=\"ProveItLink\" href=\"expr.ipynb\"><img src=\"data:image/png;base64,iVBORw0KGgoAAAANSUhEUgAAAIcAAAAZBAMAAADppSAKAAAAMFBMVEX////c3NwiIiJERESqqqqY\n",
       "mJh2dnZmZmYQEBDu7u4yMjJUVFTMzMyIiIi6uroAAAAs73DqAAAAAXRSTlMAQObYZgAAAjpJREFU\n",
       "OMtjYKAYLKDcCAaWn1QwZBo1DLlJBUN4PEGG8F0gRi3rAxwSbJwgQ06DmHOtywPE0aSZJ0AZx9JM\n",
       "GBhqMLTzaq1vMmcIBBuyEmRcKwPD81ZUNZz2UEMYCxjeX2DgwvDH+wec+bc5L4AM4QX6hnMRUD3b\n",
       "R1Qzdu+HGsL2hYFfgYE1Ac2QgK3A6P3NUl7+PYCBA6iUqxMUNg1oqu5DDWEBG8IJlZ67SEkLHEgT\n",
       "QALVQIcCXfIKyKx3gLgauyFAAPQOgwnEE0uhouyMG0BGMjBE/3ZgKANq/wV2/wGIN9LuHsAwZDUQ\n",
       "p4NZwjDB6XxI/lsKNPQrkv0nHnApoBnCkwWy1AvMNoSpO8YSgNDUx8DAhBSknL0MzAEYLrkBTCUv\n",
       "wNIGcEP4kAz5x8DA/wEsD+Zyf8AWJhzAwDsPYvA1KSlBAnYyTwKKIRxgjT5gLr8BhiGMBxiYv0IN\n",
       "4dkAk+WasAFhSAvQdnAWgkSO/AUMQ+b/BBsC8Y4CPB8kbIA7n8EUaPxfUJKaABbhB/o0gBNuCMgc\n",
       "/gXgUIsCC26F22H6Fkg8glgEirl4Bwa+QqCVQGu4CxjYDsxXgBrC+QmURwIY3ifAongSPCNyb77J\n",
       "+dgSwn4E8umu7SVAagYolsru3oQwyvuXB3D2CwBZ7uVLgOQ6SAAtPwAz5bj+j32wgBdAhM9DDAYf\n",
       "XBaW7Fl2QWIHtaBAiqkADAYrotzAW+ysJM6QWXjLLGlEKYPBYEBYvxGvIYxEFY+8B/BIAgCvZJ1U\n",
       "G0DzdgAAAABJRU5ErkJggg==\n",
       "\" style=\"display:inline;vertical-align:middle;\" /></a><br>"
      ],
      "text/plain": [
       "expr: (C , c , 1 , 3) in Complexes^{4}"
      ]
     },
     "execution_count": 2,
     "metadata": {},
     "output_type": "execute_result"
    }
   ],
   "source": [
    "# build up the expression from sub-expressions\n",
    "expr = InSet([C, c, one, three], Exp(Complexes, four))"
   ]
  },
  {
   "cell_type": "code",
   "execution_count": 3,
   "metadata": {},
   "outputs": [
    {
     "name": "stdout",
     "output_type": "stream",
     "text": [
      "Passed sanity check: built 'expr' is the same as the stored Expression.\n"
     ]
    }
   ],
   "source": [
    "# check that the built expression is the same as the stored expression\n",
    "%check_expr"
   ]
  },
  {
   "cell_type": "code",
   "execution_count": 4,
   "metadata": {},
   "outputs": [
    {
     "data": {
      "text/html": [
       "<table><tr><th>&nbsp;</th><th>core type</th><th>sub-expressions</th><th>expression</th></tr>\n",
       "<tr><td>0</td><td>Operation</td><td>operator:&nbsp;1<br>operands:&nbsp;2<br></td><td><a class=\"ProveItLink\" href=\"expr.ipynb\"><img src=\"data:image/png;base64,iVBORw0KGgoAAAANSUhEUgAAAIcAAAAZBAMAAADppSAKAAAAMFBMVEX////c3NwiIiJERESqqqqY\n",
       "mJh2dnZmZmYQEBDu7u4yMjJUVFTMzMyIiIi6uroAAAAs73DqAAAAAXRSTlMAQObYZgAAAjpJREFU\n",
       "OMtjYKAYLKDcCAaWn1QwZBo1DLlJBUN4PEGG8F0gRi3rAxwSbJwgQ06DmHOtywPE0aSZJ0AZx9JM\n",
       "GBhqMLTzaq1vMmcIBBuyEmRcKwPD81ZUNZz2UEMYCxjeX2DgwvDH+wec+bc5L4AM4QX6hnMRUD3b\n",
       "R1Qzdu+HGsL2hYFfgYE1Ac2QgK3A6P3NUl7+PYCBA6iUqxMUNg1oqu5DDWEBG8IJlZ67SEkLHEgT\n",
       "QALVQIcCXfIKyKx3gLgauyFAAPQOgwnEE0uhouyMG0BGMjBE/3ZgKANq/wV2/wGIN9LuHsAwZDUQ\n",
       "p4NZwjDB6XxI/lsKNPQrkv0nHnApoBnCkwWy1AvMNoSpO8YSgNDUx8DAhBSknL0MzAEYLrkBTCUv\n",
       "wNIGcEP4kAz5x8DA/wEsD+Zyf8AWJhzAwDsPYvA1KSlBAnYyTwKKIRxgjT5gLr8BhiGMBxiYv0IN\n",
       "4dkAk+WasAFhSAvQdnAWgkSO/AUMQ+b/BBsC8Y4CPB8kbIA7n8EUaPxfUJKaABbhB/o0gBNuCMgc\n",
       "/gXgUIsCC26F22H6Fkg8glgEirl4Bwa+QqCVQGu4CxjYDsxXgBrC+QmURwIY3ifAongSPCNyb77J\n",
       "+dgSwn4E8umu7SVAagYolsru3oQwyvuXB3D2CwBZ7uVLgOQ6SAAtPwAz5bj+j32wgBdAhM9DDAYf\n",
       "XBaW7Fl2QWIHtaBAiqkADAYrotzAW+ysJM6QWXjLLGlEKYPBYEBYvxGvIYxEFY+8B/BIAgCvZJ1U\n",
       "G0DzdgAAAABJRU5ErkJggg==\n",
       "\" style=\"display:inline;vertical-align:middle;\" /></a></td></tr>\n",
       "<tr><td>1</td><td>Literal</td><td></td><td><a class=\"ProveItLink\" href=\"../../../../logic/set_theory/membership/__pv_it/088cbc857536a28d4119ad9639a84270ccb0545d0/expr.ipynb\"><img src=\"data:image/png;base64,iVBORw0KGgoAAAANSUhEUgAAAAwAAAAMBAMAAACkW0HUAAAALVBMVEX///+qqqpmZmZUVFQQEBC6\n",
       "urpERETc3NyYmJjMzMwiIiIyMjKIiIju7u4AAACYsrA9AAAAAXRSTlMAQObYZgAAADxJREFUCNdj\n",
       "YOA9vWrVBgaG2b0MQMCeCyIZ2ArA1DUwyRCyahVIyWQI7xaEYm4AU7xLIdxqTQgtvGvVBgCkcQ7e\n",
       "geM/tQAAAABJRU5ErkJggg==\n",
       "\" style=\"display:inline;vertical-align:middle;\" /></a></td></tr>\n",
       "<tr><td>2</td><td>ExprTuple</td><td>3, 4</td><td><a class=\"ProveItLink\" href=\"../8eeb05e694537080bddb4bf6f6c4f28d0d8efa880/expr.ipynb\"><img src=\"data:image/png;base64,iVBORw0KGgoAAAANSUhEUgAAAIwAAAAcBAMAAABBiEpOAAAAMFBMVEX///+qqqp2dnYiIiJERESI\n",
       "iIhmZmYQEBDc3NyYmJgyMjLu7u5UVFTMzMy6uroAAACGxKilAAAAAXRSTlMAQObYZgAAAo1JREFU\n",
       "OMutlU1o02AYx/+Za9b0bbLePVjE4kGkOw1RZHoRhsICOkS2oaeIH7CBF0FYe1APghjFgweRgjAv\n",
       "A4OoBUG6wxgo4mQHT4MN/Dy5Tp1Otzmf503SpEnFQRZI3n/fj1+ezxRIeFWwGZey4qsvSTCPCJNn\n",
       "oU8kwQwQZpbFMycBRd9KmJRJ6gX//LChQ/diM22CY7MHSI/4joljU2fSpyL72j1b9e07clDfBAup\n",
       "vQ8vHMIdiRkEVD6Y4c07bRin7WaK6PMwV2EshbOrL8yL4qAwJabmoGOexn6O0T56FMvNlFfTHqaY\n",
       "wzfgVmPFplgoq4pl/aAXb7Exx5OX6H7ABz5FnT/pYbZJTNWf1hyOxXmKCVujHsBxGgwyVl10bf8H\n",
       "BtKp9pz3Q01zNJ8Ad1dpSqvjJU9SAd2Qfj/3iqowFMNk6GCbn4GnRj70LmMFR3gH+TccCq4+ivtR\n",
       "zMw4l74f4xklnAt9DWM0cJh7QsGtmuiNWZMapdeO+BgjjEn/QTcNnYRZlxPuoelWsUHJgV739GM9\n",
       "7JRYbGBKsl/d+voex1wH+uwAk3Emmq1hlzso2rJAVHd2KYYR6w5jGk5peVn3PmYNk1zx5Ogc99cu\n",
       "161ftM/zjzGsfsvoaRX/cC934TvPVGMZR+HmUaO6+ViGoCLDFLBbComR6gSMr17Ca130yE4OiPeH\n",
       "fdvqWGAaL8yOW+SbKFHG1EK/IwWs0pgtlWKdpdUMd051mY++7fn5utHnFXRyVC+GSqkcFSHlNsPn\n",
       "aKlnTGQ5c0HLUVCiIqQKbltGMbUy9C7/Q/F/jKi0xtym+yBnLKgCMyYClZXepWLfwP10X2NxZUMf\n",
       "0aHW0xrnT8kn/a+6LJ83k2LOYbOuvxiYsVZjRQHdAAAAAElFTkSuQmCC\n",
       "\" style=\"display:inline;vertical-align:middle;\" /></a></td></tr>\n",
       "<tr><td>3</td><td>ExprTuple</td><td>5, 6, 7, 8</td><td><a class=\"ProveItLink\" href=\"../3356bb4cca5020525c7358c7e23f70e5de675fa30/expr.ipynb\"><img src=\"data:image/png;base64,iVBORw0KGgoAAAANSUhEUgAAAFUAAAAVBAMAAADFg78FAAAAMFBMVEX////c3NwiIiJERESqqqqY\n",
       "mJh2dnZmZmYQEBDu7u4yMjJUVFTMzMyIiIi6uroAAAAs73DqAAAAAXRSTlMAQObYZgAAAYBJREFU\n",
       "KM+Vk79Lw0AcxV+1P5I2idk66OB/4OQgDuYPEOzkqIKgi8UKasVFBzu4tAFBCiKWQgdxcSvoYCcX\n",
       "ly5uCuoiOFVFwULVd5e2iYlCLenl3X0/XN69fAP852fUe8JmxHAlhsPxbCrpL4+179rCvIVYjeqY\n",
       "/2gOeMz50L2PtkjCaAElQKcFtWyTf/6JHpx32GULL8A0oBCL7wrf27599Q47Jdki8MTJlsUhlPmL\n",
       "hfTQb2GdVFPM1Zqzvp++CbDxU3rMoALE3jy7aXmU/ezlCYdwCXmgz3uqYh2jgX31vDzPJzDQkB6c\n",
       "5Yvf/KJgQ2sIVpHspLP6GmSHgImUYHeAhFx0Ygi1Aqz6ZQuWHmhOE/Uoc+YFnjMihWSlMcY0YiJS\n",
       "wiInsxaMFRaYOKrAkhSSPRqmuIbxLjN7EDmdVVfFwwomA0zf2o7YaK6hKCIKZzf5suJ3UExPe5p+\n",
       "gXs3TJqbc9lIQCDVVel2T/bAquxJDLpsPSD0bi0hbIV6+4bYUN8tkGPFbcfPAQAAAABJRU5ErkJg\n",
       "gg==\n",
       "\" style=\"display:inline;vertical-align:middle;\" /></a></td></tr>\n",
       "<tr><td>4</td><td>Operation</td><td>operator:&nbsp;9<br>operands:&nbsp;10<br></td><td><a class=\"ProveItLink\" href=\"../ac094b0dfa02191d356d43d28021b9ef452b8a820/expr.ipynb\"><img src=\"data:image/png;base64,iVBORw0KGgoAAAANSUhEUgAAABcAAAAUBAMAAACUkLs9AAAAMFBMVEX////c3NyqqqqYmJhUVFR2\n",
       "dnbu7u66urrMzMxmZmZEREQQEBAyMjIiIiKIiIgAAAB7fvZ0AAAAAXRSTlMAQObYZgAAAIhJREFU\n",
       "GNNjYICDAwgmA9M3JE4qMucZEodDDYnDygbm8N05v3clgyGYw1FfwBb/hO0BmGPgDDT2C9PMmT8N\n",
       "GJgTNgBFpjAwMAJlOBkdgJw8BgaTLwoMmewBCCNbmQyQOOxInCwOJGU8CQ4IDnMAiMMG5S2uAxK1\n",
       "CRAOi9cztqplMIWd93+7Q1gA8EUjI107FbAAAAAASUVORK5CYII=\n",
       "\" style=\"display:inline;vertical-align:middle;\" /></a></td></tr>\n",
       "<tr><td>5</td><td>Variable</td><td></td><td><a class=\"ProveItLink\" href=\"../../../../__pv_it/985a1bdf1540838275dec15f4ad6de261cca93ce0/expr.ipynb\"><img src=\"data:image/png;base64,iVBORw0KGgoAAAANSUhEUgAAAA8AAAAOBAMAAAACpFvcAAAAMFBMVEX////MzMyqqqoiIiIyMjK6\n",
       "uroQEBB2dnbc3NyYmJhmZmZUVFRERESIiIju7u4AAAB204erAAAAAXRSTlMAQObYZgAAAGZJREFU\n",
       "CNdjYGDgu7NrJccCBgaGsgkMrMsmMDA8sQNy6hsYGNweABlhDAxcn4A0QxcDQ78DiPGQgWH9BAYI\n",
       "sG+AMv6DSaCGfBDNJMDAsB+kmwuI5S8AiTog5gSaEwXWIO29SgFIAQBC+RaDQlidVgAAAABJRU5E\n",
       "rkJggg==\n",
       "\" style=\"display:inline;vertical-align:middle;\" /></a></td></tr>\n",
       "<tr><td>6</td><td>Variable</td><td></td><td><a class=\"ProveItLink\" href=\"../../../../__pv_it/cbdfda466482236edba0ce44ac7ef39cda0af7a40/expr.ipynb\"><img src=\"data:image/png;base64,iVBORw0KGgoAAAANSUhEUgAAAAkAAAAJBAMAAAASvxsjAAAALVBMVEX///9mZmbc3NxUVFSYmJhE\n",
       "REQiIiIyMjK6uroQEBDMzMyIiIh2dnbu7u4AAABgFDGoAAAAAXRSTlMAQObYZgAAADZJREFUCNdj\n",
       "YOA9s3sBA8PKBvYEBt7ZDKwODMwPGICALwBE6m0Asx0YGIDiAgw8QJUyu/cyAAAmuwmycZ8WfQAA\n",
       "AABJRU5ErkJggg==\n",
       "\" style=\"display:inline;vertical-align:middle;\" /></a></td></tr>\n",
       "<tr><td>7</td><td>Literal</td><td></td><td><a class=\"ProveItLink\" href=\"../../../numeral/__pv_it/9be8badea4c35b9724062cecc501d17a3158d1d20/expr.ipynb\"><img src=\"data:image/png;base64,iVBORw0KGgoAAAANSUhEUgAAAAgAAAAPBAMAAAArJJMAAAAAHlBMVEX///+YmJgyMjIQEBBmZmaI\n",
       "iIhUVFTu7u5EREQAAAAw+MI4AAAAAXRSTlMAQObYZgAAACFJREFUCNdjYGBoZ2BgqJjOwFCWBiQY\n",
       "WEklWJwnOTKAAACjEQo8HvEr3AAAAABJRU5ErkJggg==\n",
       "\" style=\"display:inline;vertical-align:middle;\" /></a></td></tr>\n",
       "<tr><td>8</td><td>Literal</td><td></td><td><a class=\"ProveItLink\" href=\"../../../numeral/__pv_it/9176d93c83afa2c995b614976e3cb49207102fa70/expr.ipynb\"><img src=\"data:image/png;base64,iVBORw0KGgoAAAANSUhEUgAAAAoAAAAOBAMAAADkjZCYAAAAMFBMVEX///+YmJju7u4QEBBUVFQy\n",
       "MjIiIiKIiIi6urpmZmbc3NyqqqpERER2dnbMzMwAAAB0GlNiAAAAAXRSTlMAQObYZgAAAE1JREFU\n",
       "CNdjYHh79zQDA9cEhv4CBt7fDPwJDNxgEgiAIkAQAsR8Vx1ATIbiBhDJ/ImB6wEDz0cG/U8gkj+A\n",
       "ge0XA7sAQ/8FBoadM6MZAEflFACalZ/OAAAAAElFTkSuQmCC\n",
       "\" style=\"display:inline;vertical-align:middle;\" /></a></td></tr>\n",
       "<tr><td>9</td><td>Literal</td><td></td><td><a class=\"ProveItLink\" href=\"../../../exponentiation/__pv_it/deb2bf23cbccdd6e6791e1b35b5b9794ce12dbd50/expr.ipynb\"><img src=\"data:image/png;base64,iVBORw0KGgoAAAANSUhEUgAAACgAAAASBAMAAADbMYGVAAAAMFBMVEX///8QEBAiIiKYmJjc3Nzu\n",
       "7u7MzMx2dnZmZma6urpERESqqqoyMjJUVFSIiIgAAAAoDOMTAAAAAXRSTlMAQObYZgAAAOBJREFU\n",
       "GNNjYGB4+//u3Tt/GNAASGAXmhjnPyDBgSbI/g1IxKEJ8nxgYGdgQRPkX8BgDKRY6q7s62OYvmze\n",
       "2wAgb/7ZO1+AVDiDkYEQQ0HTBr4DQF59AgOIKmB4z7CNbcNZBu6vQN55kEACQwDDLQYGVobfDHwg\n",
       "fb8YGBxYHwAZciD3fWXg+gB1JjvQcJZvQIXsCgz8F6DO9GBgMOH7wPCUgaeBwd4B7EwGNjUG7s9c\n",
       "AiwPgO5jkWRgiF3/9+5dfQUG1nWl5Y+B7pv+1gE9bBhqGLCAE1jEWH9jEbT5A3IwAC4sP/1L6Qlu\n",
       "AAAAAElFTkSuQmCC\n",
       "\" style=\"display:inline;vertical-align:middle;\" /></a></td></tr>\n",
       "<tr><td>10</td><td>ExprTuple</td><td>11, 12</td><td><a class=\"ProveItLink\" href=\"../15b4a43204f9952d371095f486ed6d4e815af8560/expr.ipynb\"><img src=\"data:image/png;base64,iVBORw0KGgoAAAANSUhEUgAAAC8AAAAVBAMAAAAk6KpUAAAAMFBMVEX////c3NwiIiJERESqqqqY\n",
       "mJh2dnZmZmYQEBDu7u4yMjJUVFTMzMyIiIi6uroAAAAs73DqAAAAAXRSTlMAQObYZgAAARpJREFU\n",
       "KM9jYMAJ+C5gisWBiNNAzKu1vskcJsqzgYH9AJBeCWS+f8CZfxsmwWTAwLAAqBhoUsBWBgaW3zCJ\n",
       "G0CJMAYGjgkMrBMagPxqqDhjFFBiBgPDKwYGdsYNQIG5UAk2LqAEswNDGQPDdL4EJBcFgiTYChiW\n",
       "MjAcYwlAiHNeAEmwLGDoA0rwIUmwMYAk+BoY/jEwTOZBMsoHLMHzASTBNWEDwqQEmEQLAwNrAkiC\n",
       "EyzBsnv3/u4LIKNMgTzTt0Di0QSIFAMHUAfrAoZ0IJN7803Ox5YM8xXgEkDnPgKxj+v/2Af07kew\n",
       "s/Z/D2DgesDAIYBw0UM4awbIZoQEwju5kGDHkOAEBjuDNFycF87iBpnPiCVq7zAwAAA1wEBM4bd1\n",
       "1AAAAABJRU5ErkJggg==\n",
       "\" style=\"display:inline;vertical-align:middle;\" /></a></td></tr>\n",
       "<tr><td>11</td><td>Literal</td><td></td><td><a class=\"ProveItLink\" href=\"../../../sets/complex/__pv_it/c357845f93a5a2d9f649129d299e7ec28dda4b960/expr.ipynb\"><img src=\"data:image/png;base64,iVBORw0KGgoAAAANSUhEUgAAAA8AAAAOBAMAAAACpFvcAAAAMFBMVEX////c3NyqqqqYmJhUVFR2\n",
       "dnbu7u66urrMzMxmZmZEREQQEBAyMjIiIiKIiIgAAAB7fvZ0AAAAAXRSTlMAQObYZgAAAGVJREFU\n",
       "CNdjYGDgu3N+70oGBgaO+gK2+CdAhoEzAwPTFwYG5oQNQN4UBgZORgcgI4+BIZM9gAEMWpkMoAx2\n",
       "KCOLAyrFk+AAYTAHgBhsQLy4DkjUJjAwsHg9Y6taBpLsvP/bnYEBACkBFGQfBv8RAAAAAElFTkSu\n",
       "QmCC\n",
       "\" style=\"display:inline;vertical-align:middle;\" /></a></td></tr>\n",
       "<tr><td>12</td><td>Literal</td><td></td><td><a class=\"ProveItLink\" href=\"../../../numeral/__pv_it/23412ce59ea7e77353d2f9225e02248e73651ca00/expr.ipynb\"><img src=\"data:image/png;base64,iVBORw0KGgoAAAANSUhEUgAAAAoAAAAPBAMAAAAv0UM9AAAALVBMVEX///9mZmaqqqru7u52dnYy\n",
       "MjKYmJjc3NwQEBCIiIhEREQiIiJUVFTMzMwAAACUDTcXAAAAAXRSTlMAQObYZgAAAD5JREFUCNdj\n",
       "YGBguMMAArtABGcXiCyLApEOIJKtAERaMoBIBxDJdAFEmjCASJ0zZ16cBCkF64KQPu/EwBwGACv6\n",
       "DSRgin9qAAAAAElFTkSuQmCC\n",
       "\" style=\"display:inline;vertical-align:middle;\" /></a></td></tr>\n",
       "</table>\n"
      ],
      "text/plain": [
       "0. (C , c , 1 , 3) in Complexes^{4}\n",
       "   core type: Operation\n",
       "   operator: 1\n",
       "   operands: 2\n",
       "1. in\n",
       "   core type: Literal\n",
       "   sub-expressions: \n",
       "2. ((C , c , 1 , 3) , Complexes^{4})\n",
       "   core type: ExprTuple\n",
       "   sub-expressions: 3, 4\n",
       "3. (C , c , 1 , 3)\n",
       "   core type: ExprTuple\n",
       "   sub-expressions: 5, 6, 7, 8\n",
       "4. Complexes^{4}\n",
       "   core type: Operation\n",
       "   operator: 9\n",
       "   operands: 10\n",
       "5. C\n",
       "   core type: Variable\n",
       "   sub-expressions: \n",
       "6. c\n",
       "   core type: Variable\n",
       "   sub-expressions: \n",
       "7. 1\n",
       "   core type: Literal\n",
       "   sub-expressions: \n",
       "8. 3\n",
       "   core type: Literal\n",
       "   sub-expressions: \n",
       "9. Exp\n",
       "   core type: Literal\n",
       "   sub-expressions: \n",
       "10. (Complexes , 4)\n",
       "    core type: ExprTuple\n",
       "    sub-expressions: 11, 12\n",
       "11. Complexes\n",
       "    core type: Literal\n",
       "    sub-expressions: \n",
       "12. 4\n",
       "    core type: Literal\n",
       "    sub-expressions: "
      ]
     },
     "execution_count": 4,
     "metadata": {},
     "output_type": "execute_result"
    }
   ],
   "source": [
    "# display the expression information\n",
    "expr.exprInfo()"
   ]
  },
  {
   "cell_type": "code",
   "execution_count": null,
   "metadata": {},
   "outputs": [],
   "source": []
  }
 ],
 "metadata": {
  "kernelspec": {
   "display_name": "Python 3",
   "language": "python",
   "name": "python3"
  }
 },
 "nbformat": 4,
 "nbformat_minor": 0
}
