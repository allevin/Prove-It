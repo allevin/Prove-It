{
 "cells": [
  {
   "cell_type": "markdown",
   "metadata": {},
   "source": [
    "Show the Proof\n",
    "========"
   ]
  },
  {
   "cell_type": "code",
   "execution_count": 1,
   "metadata": {},
   "outputs": [
    {
     "data": {
      "text/html": [
       "<table><tr><th>&nbsp;</th><th>step type</th><th>requirements</th><th>statement</th></tr>\n",
       "<tr><td>0</td><td>assumption</td><td></td><td><span style=\"font-size:20px;\"><a class=\"ProveItLink\" href=\"../62cd5ec0d58294a3aa4ba631080717ce79e6c9ce0/expr.ipynb\"><img src=\"data:image/png;base64,iVBORw0KGgoAAAANSUhEUgAAAFUAAAAbBAMAAAD/id51AAAAMFBMVEX///+6urp2dnaqqqoiIiIQ\n",
       "EBBERETu7u6IiIjc3NwyMjJUVFSYmJhmZmbMzMwAAAD0pS5FAAAAAXRSTlMAQObYZgAAAVhJREFU\n",
       "OMtjYCAEmJE5fHfwqmUDa7gI4eyaQFgtw7QEEMnxnYEItQyxIIJ7AVFqs+Bq595KRFVx6lv+qqgG\n",
       "JLW7YGo5NzD0G6AqTpjN8MxqAsOuVUtXrWpAVstdwMDyAU3tXAa2ygQs5rKGM3B/BAuxd7m4LICq\n",
       "ZXqATS3XdwZeiNpXxxHmYqplA4ccAws46DjTkdzAjeEGVrBvGd4rgDVOQFIrcgrE44bwzxcATVoN\n",
       "YS8Dk2UIv0118UIOGt6VDAxHHkCYEJeIurjA/SbLVoAcMFMaGJg9wKxuiMBrpDDjlduApJTHGUjU\n",
       "HwClowsMM0EiJcjhu7wHSa39BFg4vGVgOAkOwANIal9zP0CoRcSxk5KuAzgqHJHUMhlkYlHL8v//\n",
       "f7Bahln34Gknj2HZegNMtUjAeokL1kS6i5j0Sw+1TAFEqfUGB9NqYpTyukNibw9hpcw5DKQBAKeX\n",
       "Z788Z10NAAAAAElFTkSuQmCC\n",
       "\" style=\"display:inline;vertical-align:middle;\" /></a> <a class=\"ProveItLink\" href=\"proof.ipynb\" style=\"text-decoration: none\">&#x22A2;&nbsp;</a><a class=\"ProveItLink\" href=\"../22c9ea512dd69d082142345fcceef9b3ded57fc90/expr.ipynb\"><img src=\"data:image/png;base64,iVBORw0KGgoAAAANSUhEUgAAAD4AAAAUBAMAAAAn2JMnAAAAMFBMVEX///+YmJh2dnbMzMwQEBAi\n",
       "IiLu7u6qqqqIiIhUVFS6urpEREQyMjJmZmbc3NwAAACOMKdoAAAAAXRSTlMAQObYZgAAAOlJREFU\n",
       "KM9jYMADChjwgw10kOe7e3oBiiDj+d1/jpyAy79k4PiOqoubbwLz9nMMnGfO+Jw5wTCNgSEeXf4C\n",
       "w7bXMP0uCQzzIRZkHA2Ngckrc8Pkzycw3AfLMx9MQOhHyANBPFjidQKS+dNeI+SZP4GpfUj2cwWe\n",
       "A7EmgPk8YGVsGxDyrqHHkdx7G0xyuYaGwtx368I2hDQHxBTmCUjm37JEyNcy8D0AmR+AJM+TIQDj\n",
       "MV9gYATJM0xEkmeeMBnGe6qkdBXMSF2A5D917gdQXvz//1/BDL6zBrD4+W3As+c7Rmyyz4G4HwUA\n",
       "AC4MTGT+qtFHAAAAAElFTkSuQmCC\n",
       "\" style=\"display:inline;vertical-align:middle;\" /></a></span></td></tr>\n",
       "</table>"
      ],
      "text/plain": [
       "<proveit._core_.proof._ShowProof at 0x7f94e6e4ed30>"
      ]
     },
     "execution_count": 1,
     "metadata": {},
     "output_type": "execute_result"
    }
   ],
   "source": [
    "import proveit\n",
    "%show_proof"
   ]
  },
  {
   "cell_type": "code",
   "execution_count": null,
   "metadata": {},
   "outputs": [],
   "source": []
  }
 ],
 "metadata": {
  "kernelspec": {
   "display_name": "Python 3",
   "language": "python",
   "name": "python3"
  }
 },
 "nbformat": 4,
 "nbformat_minor": 0
}
