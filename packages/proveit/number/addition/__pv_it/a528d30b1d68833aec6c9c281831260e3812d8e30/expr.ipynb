{
 "cells": [
  {
   "cell_type": "markdown",
   "metadata": {},
   "source": [
    "Expression of type <a class=\"ProveItLink\" href=\"../../../../../../doc/html/api/proveit.logic.Set.html\">Set</a>\n",
    "=======================\n",
    "# from context <a class=\"ProveItLink\" href=\"../../_context_.ipynb\">proveit.number.addition</a>"
   ]
  },
  {
   "cell_type": "code",
   "execution_count": 1,
   "metadata": {},
   "outputs": [],
   "source": [
    "# import Expression classes needed to build the expression\n",
    "from proveit._common_ import C\n",
    "from proveit.logic import InSet, Set\n",
    "from proveit.number import Complexes"
   ]
  },
  {
   "cell_type": "code",
   "execution_count": 2,
   "metadata": {},
   "outputs": [
    {
     "data": {
      "text/html": [
       "<strong id=\"expr\">expr:</strong> <a class=\"ProveItLink\" href=\"expr.ipynb\"><img src=\"data:image/png;base64,iVBORw0KGgoAAAANSUhEUgAAAEsAAAAVBAMAAAD85A5eAAAAMFBMVEX////c3NxERESqqqpUVFS6\n",
       "urrMzMwyMjIQEBCIiIh2dnYiIiLu7u5mZmaYmJgAAABXZE4RAAAAAXRSTlMAQObYZgAAAU5JREFU\n",
       "KM9jYGDgu8eAD7CtEgBRPLsY8AO2ZhDJ+QGseJLvPcYLaApml//YBBS7DmJzNYDIFQ8YWG88QFWV\n",
       "+pXh1E8HoBxc2fE9QGK9AIoqPhagNnsUZRUHgEQEWJZn+u7dBSDGGw4gwYusjPcziCULVpb+Bmra\n",
       "BRGQpglIyuTB2o+BCEYdqCqeC1FQFlgZL1DJfYTjmWAOZFtgB2W9BxEZAQwM+xGOPwQPrgVxUBY7\n",
       "MFBS2oCM/2AuyBsMEbt3Q7zAo5AF06EOtCwigYGhH8RhTgCRKXBza1igDO4FQIIFqNUfZBAvWOw0\n",
       "XNkrFqgVYLdxbWBgyAd6m2ENWJIF7hump0BR1j1IAcIHDLdYiDd4tsKNc9E8cFTpAHIspJTcNYBK\n",
       "il+D+/X2/5YABmRlyMCkGhJZcIBdGQYAK+MjqAyc3nh2Ekq9rZB0tZhwXgAA9/dbLUdhO64AAAAA\n",
       "SUVORK5CYII=\n",
       "\" style=\"display:inline;vertical-align:middle;\" /></a><br>"
      ],
      "text/plain": [
       "expr: {C in Complexes}"
      ]
     },
     "execution_count": 2,
     "metadata": {},
     "output_type": "execute_result"
    }
   ],
   "source": [
    "# build up the expression from sub-expressions\n",
    "expr = Set(InSet(C, Complexes))"
   ]
  },
  {
   "cell_type": "code",
   "execution_count": 3,
   "metadata": {},
   "outputs": [
    {
     "name": "stdout",
     "output_type": "stream",
     "text": [
      "Passed sanity check: built 'expr' is the same as the stored Expression.\n"
     ]
    }
   ],
   "source": [
    "# check that the built expression is the same as the stored expression\n",
    "%check_expr"
   ]
  },
  {
   "cell_type": "code",
   "execution_count": 4,
   "metadata": {},
   "outputs": [
    {
     "data": {
      "text/html": [
       "<table><tr><th>&nbsp;</th><th>core type</th><th>sub-expressions</th><th>expression</th></tr>\n",
       "<tr><td>0</td><td>Operation</td><td>operator:&nbsp;1<br>operands:&nbsp;2<br></td><td><a class=\"ProveItLink\" href=\"expr.ipynb\"><img src=\"data:image/png;base64,iVBORw0KGgoAAAANSUhEUgAAAEsAAAAVBAMAAAD85A5eAAAAMFBMVEX////c3NxERESqqqpUVFS6\n",
       "urrMzMwyMjIQEBCIiIh2dnYiIiLu7u5mZmaYmJgAAABXZE4RAAAAAXRSTlMAQObYZgAAAU5JREFU\n",
       "KM9jYGDgu8eAD7CtEgBRPLsY8AO2ZhDJ+QGseJLvPcYLaApml//YBBS7DmJzNYDIFQ8YWG88QFWV\n",
       "+pXh1E8HoBxc2fE9QGK9AIoqPhagNnsUZRUHgEQEWJZn+u7dBSDGGw4gwYusjPcziCULVpb+Bmra\n",
       "BRGQpglIyuTB2o+BCEYdqCqeC1FQFlgZL1DJfYTjmWAOZFtgB2W9BxEZAQwM+xGOPwQPrgVxUBY7\n",
       "MFBS2oCM/2AuyBsMEbt3Q7zAo5AF06EOtCwigYGhH8RhTgCRKXBza1igDO4FQIIFqNUfZBAvWOw0\n",
       "XNkrFqgVYLdxbWBgyAd6m2ENWJIF7hump0BR1j1IAcIHDLdYiDd4tsKNc9E8cFTpAHIspJTcNYBK\n",
       "il+D+/X2/5YABmRlyMCkGhJZcIBdGQYAK+MjqAyc3nh2Ekq9rZB0tZhwXgAA9/dbLUdhO64AAAAA\n",
       "SUVORK5CYII=\n",
       "\" style=\"display:inline;vertical-align:middle;\" /></a></td></tr>\n",
       "<tr><td>1</td><td>Literal</td><td></td><td><a class=\"ProveItLink\" href=\"../../../../logic/set_theory/enumeration/__pv_it/07381ed5b23806e8d7914b78cb6667769e3708dd0/expr.ipynb\"><img src=\"data:image/png;base64,iVBORw0KGgoAAAANSUhEUgAAAB4AAAAOBAMAAADKyLEKAAAAMFBMVEX///8iIiIQEBCIiIjMzMzc\n",
       "3Nyqqqp2dnZEREQyMjK6urru7u5mZmZUVFSYmJgAAACI6eGPAAAAAXRSTlMAQObYZgAAALRJREFU\n",
       "CNdjYGDgu3Nm3wIGBJjHwN0PZW5yYGDgLWBgyITy8zcwMMQDxZyh/INAvD6BgcEFypcB4vjPDiBm\n",
       "TPFRrhs/LjMwMP//38rAwCbKEMPA9gEkE3fp0waG+AUMRxh4JkC01T9guPTOOICBEWgVH5C//wHD\n",
       "H5D4fqCz9oCMDGD4DLaegRXslLMMDMpAgxlOMmQxHDRgYG5gYLBk4D7KcIe7gOHC2rt9QCXsh40Z\n",
       "GCKMGQDRkC8N/Ph1XAAAAABJRU5ErkJggg==\n",
       "\" style=\"display:inline;vertical-align:middle;\" /></a></td></tr>\n",
       "<tr><td>2</td><td>ExprTuple</td><td>3</td><td><a class=\"ProveItLink\" href=\"../52970c8f008721cbbea4966be283b803f207a1100/expr.ipynb\"><img src=\"data:image/png;base64,iVBORw0KGgoAAAANSUhEUgAAAEUAAAAVBAMAAADiLT7tAAAAMFBMVEX////c3NwiIiJERESqqqqY\n",
       "mJh2dnZmZmYQEBDu7u4yMjJUVFTMzMyIiIi6uroAAAAs73DqAAAAAXRSTlMAQObYZgAAAWBJREFU\n",
       "KM9jYCAG8F3AKx0HIk6DiLnW5QHiaLK8WuubzBnYDwCZK4GYrZWB4XkrqhKe9w84828zMCwAqgZa\n",
       "xbloAlDdR1Q1AVsZGFh+MzCEMTBwAKW5OkHuagBLzV2kpAWiWSeA+NUMDDMYGF4BWfUOQIKxAGzD\n",
       "0gkQY9gZN4B0MDAwOzCUAWV/gQQ5QY5jEIYqYZjOlwBhsBUwLAVq+YpwhSGMcYwlAMJgWcDQx8DA\n",
       "hHAtpwFcDR9UDdCd/xgY+D+ApcECTUpKEDdP5oHaxfMBpIYDrMYHLLABZg7XhA1wNS0MDNw/QWyw\n",
       "tzgVYGpYEzZADAfaZQpU+RfkfIiHtsKdZvoWSDyawMC6gCEdyIp3YOArhMhMegBTw735JudjS7Df\n",
       "H4Gs3LW9BCrDuPwATNFx/R/7QA57wMAhgBpNLLsg/oKDGSC3EUhfudC0gQdwAtMGgzR+NdwgtzDi\n",
       "T6t3GBgAgF5PXWzXikcAAAAASUVORK5CYII=\n",
       "\" style=\"display:inline;vertical-align:middle;\" /></a></td></tr>\n",
       "<tr><td>3</td><td>Operation</td><td>operator:&nbsp;4<br>operands:&nbsp;5<br></td><td><a class=\"ProveItLink\" href=\"../855d9527ffc0c8a7617618867554f5dfd2bf28d00/expr.ipynb\"><img src=\"data:image/png;base64,iVBORw0KGgoAAAANSUhEUgAAADgAAAAPBAMAAABD1xE4AAAAMFBMVEX////MzMyqqqoiIiIyMjK6\n",
       "uroQEBB2dnbc3NyYmJhmZmZUVFRERESIiIju7u4AAAB204erAAAAAXRSTlMAQObYZgAAAOhJREFU\n",
       "GNNjYGDgu7NrJccCBlRw2eWbDUisbAID67IJqHKiXxme/93AwPDEDsipb0CR4+QGKtYHSro9APLC\n",
       "wGJ8V4yNHUCMeWxAgmsDA9cnEK8LLCkyD6pzQTdI6QWGfrDShyCC4xxUjm9BOISxHuEUHpjFjAWa\n",
       "EIY9wilvGOCSkRDGfzAJchRDmLExxEF8B8QhkvkggkkARErDzfDjhtD7QZq4wMzHcMnp3BDj5C8A\n",
       "qTqwEDfcbTxTgaKsdgycQH9GQRzFZwrXuvvsg6dngGZKe69SgAq1LIS7d/H/7AC0uNB2hgQfFAAA\n",
       "uj859LfS99oAAAAASUVORK5CYII=\n",
       "\" style=\"display:inline;vertical-align:middle;\" /></a></td></tr>\n",
       "<tr><td>4</td><td>Literal</td><td></td><td><a class=\"ProveItLink\" href=\"../../../../logic/set_theory/membership/__pv_it/088cbc857536a28d4119ad9639a84270ccb0545d0/expr.ipynb\"><img src=\"data:image/png;base64,iVBORw0KGgoAAAANSUhEUgAAAAwAAAAMBAMAAACkW0HUAAAALVBMVEX///+qqqpmZmZUVFQQEBC6\n",
       "urpERETc3NyYmJjMzMwiIiIyMjKIiIju7u4AAACYsrA9AAAAAXRSTlMAQObYZgAAADxJREFUCNdj\n",
       "YOA9vWrVBgaG2b0MQMCeCyIZ2ArA1DUwyRCyahVIyWQI7xaEYm4AU7xLIdxqTQgtvGvVBgCkcQ7e\n",
       "geM/tQAAAABJRU5ErkJggg==\n",
       "\" style=\"display:inline;vertical-align:middle;\" /></a></td></tr>\n",
       "<tr><td>5</td><td>ExprTuple</td><td>6, 7</td><td><a class=\"ProveItLink\" href=\"../16e2c8bacf93516b2c623c129da426a6672798d40/expr.ipynb\"><img src=\"data:image/png;base64,iVBORw0KGgoAAAANSUhEUgAAADMAAAAVBAMAAAAZessyAAAAMFBMVEX////c3NwiIiJERESqqqqY\n",
       "mJh2dnZmZmYQEBDu7u4yMjJUVFTMzMyIiIi6uroAAAAs73DqAAAAAXRSTlMAQObYZgAAAT1JREFU\n",
       "KM9jYMAD+C5gE40DEadBxFzr8gBxiCCv1vomcwb2A0DmSiBma2VgeN4KluF5/4Az/zYDwwKgIqB5\n",
       "nIsmAKU/gqUCtjIwsPxmYAhjYOAAinJ1guxsAMmwTgBR1QwMMxgYXgFZ9Q5AgrEAJMXOuAFkNQMD\n",
       "swNDGVDwF0iQE2Qxw3S+BIhr2AoYlgJVfkU4+hhLAITBsoChj4GB6SOSFB9UCmj1PwYG/g9gA8Ei\n",
       "k3mgBvJ8AElxgKV8wCJcEzbApVoYGLh/gthgBzKwJmyAmAA00BSo4C/IRRMgRpq+BRKPJjCwLmBI\n",
       "B7LiHRj4ChkY5isA2dybb3I+tgQ7/hHI3F3bS4DUDLBLj+v/2Aey9AEDhwDC5Q+RYmUGyF4ENwBJ\n",
       "KhcaKZhSnMBIYZCGc3mRNHGD7GHEmgDuMDAAAFriSMVpEJmpAAAAAElFTkSuQmCC\n",
       "\" style=\"display:inline;vertical-align:middle;\" /></a></td></tr>\n",
       "<tr><td>6</td><td>Variable</td><td></td><td><a class=\"ProveItLink\" href=\"../../../../__pv_it/985a1bdf1540838275dec15f4ad6de261cca93ce0/expr.ipynb\"><img src=\"data:image/png;base64,iVBORw0KGgoAAAANSUhEUgAAAA8AAAAOBAMAAAACpFvcAAAAMFBMVEX////MzMyqqqoiIiIyMjK6\n",
       "uroQEBB2dnbc3NyYmJhmZmZUVFRERESIiIju7u4AAAB204erAAAAAXRSTlMAQObYZgAAAGZJREFU\n",
       "CNdjYGDgu7NrJccCBgaGsgkMrMsmMDA8sQNy6hsYGNweABlhDAxcn4A0QxcDQ78DiPGQgWH9BAYI\n",
       "sG+AMv6DSaCGfBDNJMDAsB+kmwuI5S8AiTog5gSaEwXWIO29SgFIAQBC+RaDQlidVgAAAABJRU5E\n",
       "rkJggg==\n",
       "\" style=\"display:inline;vertical-align:middle;\" /></a></td></tr>\n",
       "<tr><td>7</td><td>Literal</td><td></td><td><a class=\"ProveItLink\" href=\"../../../sets/complex/__pv_it/c357845f93a5a2d9f649129d299e7ec28dda4b960/expr.ipynb\"><img src=\"data:image/png;base64,iVBORw0KGgoAAAANSUhEUgAAAA8AAAAOBAMAAAACpFvcAAAAMFBMVEX////c3NyqqqqYmJhUVFR2\n",
       "dnbu7u66urrMzMxmZmZEREQQEBAyMjIiIiKIiIgAAAB7fvZ0AAAAAXRSTlMAQObYZgAAAGVJREFU\n",
       "CNdjYGDgu3N+70oGBgaO+gK2+CdAhoEzAwPTFwYG5oQNQN4UBgZORgcgI4+BIZM9gAEMWpkMoAx2\n",
       "KCOLAyrFk+AAYTAHgBhsQLy4DkjUJjAwsHg9Y6taBpLsvP/bnYEBACkBFGQfBv8RAAAAAElFTkSu\n",
       "QmCC\n",
       "\" style=\"display:inline;vertical-align:middle;\" /></a></td></tr>\n",
       "</table>\n"
      ],
      "text/plain": [
       "0. {C in Complexes}\n",
       "   core type: Operation\n",
       "   operator: 1\n",
       "   operands: 2\n",
       "1. Set\n",
       "   core type: Literal\n",
       "   sub-expressions: \n",
       "2. (C in Complexes)\n",
       "   core type: ExprTuple\n",
       "   sub-expressions: 3\n",
       "3. C in Complexes\n",
       "   core type: Operation\n",
       "   operator: 4\n",
       "   operands: 5\n",
       "4. in\n",
       "   core type: Literal\n",
       "   sub-expressions: \n",
       "5. (C , Complexes)\n",
       "   core type: ExprTuple\n",
       "   sub-expressions: 6, 7\n",
       "6. C\n",
       "   core type: Variable\n",
       "   sub-expressions: \n",
       "7. Complexes\n",
       "   core type: Literal\n",
       "   sub-expressions: "
      ]
     },
     "execution_count": 4,
     "metadata": {},
     "output_type": "execute_result"
    }
   ],
   "source": [
    "# display the expression information\n",
    "expr.exprInfo()"
   ]
  },
  {
   "cell_type": "code",
   "execution_count": null,
   "metadata": {},
   "outputs": [],
   "source": []
  }
 ],
 "metadata": {
  "kernelspec": {
   "display_name": "Python 3",
   "language": "python",
   "name": "python3"
  }
 },
 "nbformat": 4,
 "nbformat_minor": 0
}
