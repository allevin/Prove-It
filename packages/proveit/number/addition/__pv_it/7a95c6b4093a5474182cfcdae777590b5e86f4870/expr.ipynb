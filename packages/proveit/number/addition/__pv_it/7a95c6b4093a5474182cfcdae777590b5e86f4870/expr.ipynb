{
 "cells": [
  {
   "cell_type": "markdown",
   "metadata": {},
   "source": [
    "Expression of type <a class=\"ProveItLink\" href=\"../../../../../../doc/html/api/proveit.logic.InSet.html\">InSet</a>\n",
    "=======================\n",
    "# from context <a class=\"ProveItLink\" href=\"../../_context_.ipynb\">proveit.number.addition</a>"
   ]
  },
  {
   "cell_type": "code",
   "execution_count": 1,
   "metadata": {},
   "outputs": [],
   "source": [
    "# import Expression classes needed to build the expression\n",
    "from proveit._common_ import f\n",
    "from proveit.logic import InSet\n",
    "from proveit.number import Reals"
   ]
  },
  {
   "cell_type": "code",
   "execution_count": 2,
   "metadata": {},
   "outputs": [
    {
     "data": {
      "text/html": [
       "<strong id=\"expr\">expr:</strong> <a class=\"ProveItLink\" href=\"expr.ipynb\"><img src=\"data:image/png;base64,iVBORw0KGgoAAAANSUhEUgAAADQAAAASBAMAAADmo+DzAAAAMFBMVEX///8yMjLMzMwQEBAiIiJm\n",
       "Zma6urqYmJiqqqp2dnZERETc3NyIiIhUVFTu7u4AAAAe+HC4AAAAAXRSTlMAQObYZgAAANFJREFU\n",
       "GNNjYGBgeHt2AwMSYJdf9VFYBsJe2V+ALMXAxX2BaYU0iMX37QUDmlQAw7pdIBbHB4gI30EXFwGY\n",
       "1CQuEIvVASKlWIekCyzFftk3ACTAvQ7ZwHtgA/kPQAQ2IEmxuYOdsV8BLPAKyRkmLhJgVj9EINnF\n",
       "Be6MsACI6VMgUrrIjg+D8NZCBJ4gSzG+AYeCDUSAtwBJiunCJXBgQH3shuz4GSAHs/2DimwMggfv\n",
       "LwXGhT8YGHgEYKp7RVwEkMOylgs12JGA4RNcMgyV0bhkAHivMWCnbbyBAAAAAElFTkSuQmCC\n",
       "\" style=\"display:inline;vertical-align:middle;\" /></a><br>"
      ],
      "text/plain": [
       "expr: f in Reals"
      ]
     },
     "execution_count": 2,
     "metadata": {},
     "output_type": "execute_result"
    }
   ],
   "source": [
    "# build up the expression from sub-expressions\n",
    "expr = InSet(f, Reals)"
   ]
  },
  {
   "cell_type": "code",
   "execution_count": 3,
   "metadata": {},
   "outputs": [
    {
     "name": "stdout",
     "output_type": "stream",
     "text": [
      "Passed sanity check: built 'expr' is the same as the stored Expression.\n"
     ]
    }
   ],
   "source": [
    "# check that the built expression is the same as the stored expression\n",
    "%check_expr"
   ]
  },
  {
   "cell_type": "code",
   "execution_count": 4,
   "metadata": {},
   "outputs": [
    {
     "data": {
      "text/html": [
       "<table><tr><th>&nbsp;</th><th>core type</th><th>sub-expressions</th><th>expression</th></tr>\n",
       "<tr><td>0</td><td>Operation</td><td>operator:&nbsp;1<br>operands:&nbsp;2<br></td><td><a class=\"ProveItLink\" href=\"expr.ipynb\"><img src=\"data:image/png;base64,iVBORw0KGgoAAAANSUhEUgAAADQAAAASBAMAAADmo+DzAAAAMFBMVEX///8yMjLMzMwQEBAiIiJm\n",
       "Zma6urqYmJiqqqp2dnZERETc3NyIiIhUVFTu7u4AAAAe+HC4AAAAAXRSTlMAQObYZgAAANFJREFU\n",
       "GNNjYGBgeHt2AwMSYJdf9VFYBsJe2V+ALMXAxX2BaYU0iMX37QUDmlQAw7pdIBbHB4gI30EXFwGY\n",
       "1CQuEIvVASKlWIekCyzFftk3ACTAvQ7ZwHtgA/kPQAQ2IEmxuYOdsV8BLPAKyRkmLhJgVj9EINnF\n",
       "Be6MsACI6VMgUrrIjg+D8NZCBJ4gSzG+AYeCDUSAtwBJiunCJXBgQH3shuz4GSAHs/2DimwMggfv\n",
       "LwXGhT8YGHgEYKp7RVwEkMOylgs12JGA4RNcMgyV0bhkAHivMWCnbbyBAAAAAElFTkSuQmCC\n",
       "\" style=\"display:inline;vertical-align:middle;\" /></a></td></tr>\n",
       "<tr><td>1</td><td>Literal</td><td></td><td><a class=\"ProveItLink\" href=\"../../../../logic/set_theory/membership/__pv_it/088cbc857536a28d4119ad9639a84270ccb0545d0/expr.ipynb\"><img src=\"data:image/png;base64,iVBORw0KGgoAAAANSUhEUgAAAAwAAAAMBAMAAACkW0HUAAAALVBMVEX///+qqqpmZmZUVFQQEBC6\n",
       "urpERETc3NyYmJjMzMwiIiIyMjKIiIju7u4AAACYsrA9AAAAAXRSTlMAQObYZgAAADxJREFUCNdj\n",
       "YOA9vWrVBgaG2b0MQMCeCyIZ2ArA1DUwyRCyahVIyWQI7xaEYm4AU7xLIdxqTQgtvGvVBgCkcQ7e\n",
       "geM/tQAAAABJRU5ErkJggg==\n",
       "\" style=\"display:inline;vertical-align:middle;\" /></a></td></tr>\n",
       "<tr><td>2</td><td>ExprTuple</td><td>3, 4</td><td><a class=\"ProveItLink\" href=\"../c9693c4d10f54af882c858f1b13487c75320822d0/expr.ipynb\"><img src=\"data:image/png;base64,iVBORw0KGgoAAAANSUhEUgAAAC8AAAAVBAMAAAAk6KpUAAAAMFBMVEX////c3NwiIiJERESqqqqY\n",
       "mJh2dnZmZmYQEBDu7u4yMjJUVFTMzMyIiIi6uroAAAAs73DqAAAAAXRSTlMAQObYZgAAARtJREFU\n",
       "KM9jYMAJ+C5gisWBiNMggnPvRhAV9dl+VRdQIfsBIGclSIQ55StYqYE0w2EvAQaGBQwMvGCT5r90\n",
       "gEiIMzBPNGBgCGNg4JgAEvCHGg6UYDsAlJjBwPAKLFCEJsHswFAG4kc3bYdLcIOMYitgWAoW+IvQ\n",
       "8SgKaDnLAoY+EJ/xD0xCQkkL5Ay+BoZ/ID7LB7iO58wg1/B8gEiwKcAl2N9sgEi0gP23AWHHyqsQ\n",
       "o0xBfA6gLzmhEqe5geHBuoAhHezxB0CsAPWHgyHYuY9AEu+BFs74CA5EG4bF6x0YuB4wcABdzXAL\n",
       "JPsQKdyBQcKawMC6AWxRAJJELjjYOVYqoElwAoOdQZqBNR1kHC+SBm6QACOWqL3DwAAADNxFEg3b\n",
       "Bo0AAAAASUVORK5CYII=\n",
       "\" style=\"display:inline;vertical-align:middle;\" /></a></td></tr>\n",
       "<tr><td>3</td><td>Variable</td><td></td><td><a class=\"ProveItLink\" href=\"../../../../__pv_it/4d51ee1e62d011d06d4528b97697bf3da60c9de60/expr.ipynb\"><img src=\"data:image/png;base64,iVBORw0KGgoAAAANSUhEUgAAAAsAAAASBAMAAAB/WzlGAAAAMFBMVEX///8yMjLMzMwQEBAiIiJm\n",
       "Zma6urqYmJiqqqp2dnZERETc3NyIiIhUVFTu7u4AAAAe+HC4AAAAAXRSTlMAQObYZgAAAFVJREFU\n",
       "CNdjYGBgeHt2A5BkWNlfACT5vr0AcTg+gEgGVgcQyX7ZNwBE8x8AC+5XAFP9YJJhCoRaC6FswCTf\n",
       "NzDF9g9M8QiAyFoukPEMhk/AYpXRIBIAEwsRcZ82juYAAAAASUVORK5CYII=\n",
       "\" style=\"display:inline;vertical-align:middle;\" /></a></td></tr>\n",
       "<tr><td>4</td><td>Literal</td><td></td><td><a class=\"ProveItLink\" href=\"../../../sets/real/__pv_it/9e7645ee1117062e179dd6264898f99ed95b157c0/expr.ipynb\"><img src=\"data:image/png;base64,iVBORw0KGgoAAAANSUhEUgAAAA8AAAAOBAMAAAACpFvcAAAAMFBMVEX///8iIiK6urp2dnbu7u5m\n",
       "ZmaqqqrMzMxUVFTc3NyIiIgQEBBEREQyMjKYmJgAAAA9nvXMAAAAAXRSTlMAQObYZgAAAFJJREFU\n",
       "CNdjePvn/N29CxiA4MAMhprcCSDGVAYezwMQBnMBOoMDJqX4Fqx4tqBsAlj7VFUeBwiDVb0BwmC4\n",
       "sg7KqOAogJqTcJKBAWjpcYY79xMAyqEnfsw4ApEAAAAASUVORK5CYII=\n",
       "\" style=\"display:inline;vertical-align:middle;\" /></a></td></tr>\n",
       "</table>\n"
      ],
      "text/plain": [
       "0. f in Reals\n",
       "   core type: Operation\n",
       "   operator: 1\n",
       "   operands: 2\n",
       "1. in\n",
       "   core type: Literal\n",
       "   sub-expressions: \n",
       "2. (f , Reals)\n",
       "   core type: ExprTuple\n",
       "   sub-expressions: 3, 4\n",
       "3. f\n",
       "   core type: Variable\n",
       "   sub-expressions: \n",
       "4. Reals\n",
       "   core type: Literal\n",
       "   sub-expressions: "
      ]
     },
     "execution_count": 4,
     "metadata": {},
     "output_type": "execute_result"
    }
   ],
   "source": [
    "# display the expression information\n",
    "expr.exprInfo()"
   ]
  },
  {
   "cell_type": "code",
   "execution_count": null,
   "metadata": {},
   "outputs": [],
   "source": []
  }
 ],
 "metadata": {
  "kernelspec": {
   "display_name": "Python 3",
   "language": "python",
   "name": "python3"
  }
 },
 "nbformat": 4,
 "nbformat_minor": 0
}
