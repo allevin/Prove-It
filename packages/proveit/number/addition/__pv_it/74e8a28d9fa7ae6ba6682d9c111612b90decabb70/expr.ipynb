{
 "cells": [
  {
   "cell_type": "markdown",
   "metadata": {},
   "source": [
    "Expression of type <a class=\"ProveItLink\" href=\"../../../../../../doc/html/api/proveit.number.Add.html\">Add</a>\n",
    "=======================\n",
    "# from context <a class=\"ProveItLink\" href=\"../../_context_.ipynb\">proveit.number.addition</a>"
   ]
  },
  {
   "cell_type": "code",
   "execution_count": 1,
   "metadata": {},
   "outputs": [],
   "source": [
    "# import Expression classes needed to build the expression\n",
    "from proveit._common_ import A, B, C, a, b, c\n",
    "from proveit.number import Add, one, three"
   ]
  },
  {
   "cell_type": "code",
   "execution_count": 2,
   "metadata": {},
   "outputs": [
    {
     "data": {
      "text/html": [
       "<strong id=\"expr\">expr:</strong> <a class=\"ProveItLink\" href=\"expr.ipynb\"><img src=\"data:image/png;base64,iVBORw0KGgoAAAANSUhEUgAAAWEAAAAQBAMAAAA12NM0AAAAMFBMVEX///8yMjKqqqrMzMzu7u4i\n",
       "IiJmZmaYmJhEREQQEBC6urp2dnaIiIhUVFTc3NwAAAD87Fq/AAAAAXRSTlMAQObYZgAAAsxJREFU\n",
       "SMeVVT9oE1EY/5JL8z+X3qCgEM3kVKiLoEjpFRFEiMkglU5Nl9YiklsEt2bo0inN4KJiMohQcHBw\n",
       "UDv0BqlSIo0O4tAjZwVxy5/GRmxjvLskJt/3LnnxII/L7/1+7/u97773PQD7R0jYgBfI/9gDyvCU\n",
       "mtqX0xRdZVZyvf+8JCaB81CdsPkqOpDsqNiAZykQYSi+NEAqj7FrdYb2WgH/ssIxzOi+g/8Yb1zv\n",
       "vd/rsm/0JXBeJsQao5xWjV8RgTGtTmkzN41hS2eicnRbUfiJqE7136t47k/nbaI3v5/SMdFfZ5S7\n",
       "BmXlBQaDDO2UufUNJipwdJNDHAeDv1nH6m4eEwMJRrlm/OZkTmR3rf2N/9cxtKtC3HvzhNE+dTYY\n",
       "x355UsFEx94HhSibAF9XeZHL4+Z4BYOuzcJ5rmOHWXAburdCJ1x54ZhxfN0q0n5iPA0HWCk0C9u3\n",
       "uLlKKTYpvZR3JHiOL5tHXWyAO80kH8RDxnEeyklSVzI8IkGM8r9a5Dme11nHrsfgVbg5Dj4ECFVg\n",
       "TKUTU5r2izoWNK1EtrYAcIiV3nVj1QbPccsaZQSGKqPUMeRkCKchbtaPW5JOZCWp2EknZC1LkjQn\n",
       "SZFO3sE3jomz4G9gZdgYPUdkuXbkPiRn2cBRw+1sDNV9A8goUFZhEsjhdpoHnubYuG3G1vGea+Cu\n",
       "Y+W08WFDNV6uSmY8NwbLKjfHrpZsOo5H4aOTHNL9vvut61iM9i7CLvEAfKT1mu243QmGObZO8EsM\n",
       "ho298uq4ah0Bh+KcDZA+Y4bMyNjxjFmldUz8BHeJOaMdC1mZ59hjfIVnOgZDSQjwuts78B+Z7Xjn\n",
       "4g6aENeqOtxvnUSOf+TOgCdTTaIVYtukQd9uaZqk0PtiubpE9jAVWYzSIrhTeMvTORcXooPuvN4z\n",
       "YYMNvqaGg6PRRtRZ3cBu4vkoRFslC45G4+j+AuC8HMUbZnbBAAAAAElFTkSuQmCC\n",
       "\" style=\"display:inline;vertical-align:middle;\" /></a><br>"
      ],
      "text/plain": [
       "expr: a + A + A + b + B + 1 + C + c + 1 + 3"
      ]
     },
     "execution_count": 2,
     "metadata": {},
     "output_type": "execute_result"
    }
   ],
   "source": [
    "# build up the expression from sub-expressions\n",
    "expr = Add(a, A, A, b, B, one, C, c, one, three)"
   ]
  },
  {
   "cell_type": "code",
   "execution_count": 3,
   "metadata": {},
   "outputs": [
    {
     "name": "stdout",
     "output_type": "stream",
     "text": [
      "Passed sanity check: built 'expr' is the same as the stored Expression.\n"
     ]
    }
   ],
   "source": [
    "# check that the built expression is the same as the stored expression\n",
    "%check_expr"
   ]
  },
  {
   "cell_type": "code",
   "execution_count": 4,
   "metadata": {},
   "outputs": [
    {
     "data": {
      "text/html": [
       "<table><tr><th>&nbsp;</th><th>core type</th><th>sub-expressions</th><th>expression</th></tr>\n",
       "<tr><td>0</td><td>Operation</td><td>operator:&nbsp;1<br>operands:&nbsp;2<br></td><td><a class=\"ProveItLink\" href=\"expr.ipynb\"><img src=\"data:image/png;base64,iVBORw0KGgoAAAANSUhEUgAAAWEAAAAQBAMAAAA12NM0AAAAMFBMVEX///8yMjKqqqrMzMzu7u4i\n",
       "IiJmZmaYmJhEREQQEBC6urp2dnaIiIhUVFTc3NwAAAD87Fq/AAAAAXRSTlMAQObYZgAAAsxJREFU\n",
       "SMeVVT9oE1EY/5JL8z+X3qCgEM3kVKiLoEjpFRFEiMkglU5Nl9YiklsEt2bo0inN4KJiMohQcHBw\n",
       "UDv0BqlSIo0O4tAjZwVxy5/GRmxjvLskJt/3LnnxII/L7/1+7/u97773PQD7R0jYgBfI/9gDyvCU\n",
       "mtqX0xRdZVZyvf+8JCaB81CdsPkqOpDsqNiAZykQYSi+NEAqj7FrdYb2WgH/ssIxzOi+g/8Yb1zv\n",
       "vd/rsm/0JXBeJsQao5xWjV8RgTGtTmkzN41hS2eicnRbUfiJqE7136t47k/nbaI3v5/SMdFfZ5S7\n",
       "BmXlBQaDDO2UufUNJipwdJNDHAeDv1nH6m4eEwMJRrlm/OZkTmR3rf2N/9cxtKtC3HvzhNE+dTYY\n",
       "x355UsFEx94HhSibAF9XeZHL4+Z4BYOuzcJ5rmOHWXAburdCJ1x54ZhxfN0q0n5iPA0HWCk0C9u3\n",
       "uLlKKTYpvZR3JHiOL5tHXWyAO80kH8RDxnEeyklSVzI8IkGM8r9a5Dme11nHrsfgVbg5Dj4ECFVg\n",
       "TKUTU5r2izoWNK1EtrYAcIiV3nVj1QbPccsaZQSGKqPUMeRkCKchbtaPW5JOZCWp2EknZC1LkjQn\n",
       "SZFO3sE3jomz4G9gZdgYPUdkuXbkPiRn2cBRw+1sDNV9A8goUFZhEsjhdpoHnubYuG3G1vGea+Cu\n",
       "Y+W08WFDNV6uSmY8NwbLKjfHrpZsOo5H4aOTHNL9vvut61iM9i7CLvEAfKT1mu243QmGObZO8EsM\n",
       "ho298uq4ah0Bh+KcDZA+Y4bMyNjxjFmldUz8BHeJOaMdC1mZ59hjfIVnOgZDSQjwuts78B+Z7Xjn\n",
       "4g6aENeqOtxvnUSOf+TOgCdTTaIVYtukQd9uaZqk0PtiubpE9jAVWYzSIrhTeMvTORcXooPuvN4z\n",
       "YYMNvqaGg6PRRtRZ3cBu4vkoRFslC45G4+j+AuC8HMUbZnbBAAAAAElFTkSuQmCC\n",
       "\" style=\"display:inline;vertical-align:middle;\" /></a></td></tr>\n",
       "<tr><td>1</td><td>Literal</td><td></td><td><a class=\"ProveItLink\" href=\"../3e6688136fa3c7aefbebe51301b7c3ebf0b69c440/expr.ipynb\"><img src=\"data:image/png;base64,iVBORw0KGgoAAAANSUhEUgAAAA4AAAAOBAMAAADtZjDiAAAAJFBMVEX///+6urpUVFQQEBAiIiIy\n",
       "MjJmZmaIiIiqqqrc3Nzu7u4AAACgHpL+AAAAAXRSTlMAQObYZgAAAB5JREFUCNdjYGBgWMkAAe2k\n",
       "0Kmhoc6hoUGk6BMHYgAHOwjcado9fwAAAABJRU5ErkJggg==\n",
       "\" style=\"display:inline;vertical-align:middle;\" /></a></td></tr>\n",
       "<tr><td>2</td><td>ExprTuple</td><td>3, 4, 4, 5, 6, 9, 7, 8, 9, 10</td><td><a class=\"ProveItLink\" href=\"../0ddbb6b5527648200740397c7292ad53045da3330/expr.ipynb\"><img src=\"data:image/png;base64,iVBORw0KGgoAAAANSUhEUgAAANkAAAAVBAMAAAA5ulaKAAAAMFBMVEX////c3NwiIiJERESqqqqY\n",
       "mJh2dnZmZmYQEBDu7u4yMjJUVFTMzMyIiIi6uroAAAAs73DqAAAAAXRSTlMAQObYZgAAAw1JREFU\n",
       "SMe9Vk1oE0EU/tJkm2yTbAIWPCi0tyoemotQvGRvHrsoeBG0IFQ9aItgK/XQ+oOgoNljacVGRGrp\n",
       "wR4EoUtpUJBCDw2IiGjb1Is/p1jbStNqnDc7s7uZxKNdyOx735t538z7mQ2wt49R3COiMzQsquir\n",
       "gJxod9/jNz3odNVxjpWEErYlrL99eTXUr7iS5kTvORPRApOmVLbnAbmlLIRpH7sFRP8IiqzHdsGC\n",
       "cc2q9eSZ98P4DeSBpBpIrdP2lRPbQtjwj8vWJXZcb868nDt2mA196Voyz9xnYh04BcRsha112F8T\n",
       "Ov5DJHfbw5IM0raEsipXPyPhqxomae7mbKPAd3VGcbXke06KkDW3+7kYAZruKu6iG27A/sEGHsmw\n",
       "iQE6wtzlGx5sd/vR/xbZFPmb+yjR1AxCT2zFXVuexocigr3LBZWtZYZtuR9PKQLpsKwGPMKSl0m9\n",
       "REmiZyKDXQEuzS1fsdTNDwfrY6HU0q6wvaEqi+TxgB1tE9GMnFpCm1fHBkK/ROBt3JEEaehHVLbO\n",
       "QH3o9xG21LMlGY8xApaYeBlN8jwJx5n3mBcd56crDQGCF13kxVLYqnx0lXi5Qd6Qs5EoE1sqg4mC\n",
       "dxzE8v45cc+VOmCIDIKK/2yP4i5HQ8R1ksrUsR0Eshax3WYpLqJb7AsmK7gRMTfCfodku0VFDySI\n",
       "dd5U3PHGioqKKapsetUmNhbJo6wETMxGCjpvMNO9P/isVvdiIcMuYj0uSO0WqsiokTuSeGVddOUU\n",
       "C7Ol15grPLNaHueZeyvS0YwJqqMxaqht6Ou0I4oou3vI8ALXXZC328KUUMgdlzTWb1/SrhzvR3OB\n",
       "e/PM72Bs8Q74TO228noFo2zT+3KPoWUr/XoujVBXJY2T1UluGH9vgUBEszvOLOsarmAwN2m50uL0\n",
       "oCnRgeUPfJFvjgwOUdBKiHm1uxb8DAVvvLVGoK8EYaPemw+xm0uT5YVgg2rB+8dqBGoN52p1iwLQ\n",
       "peAX53+z8To4ILu95moOyMlGYEApNkKT9VCcQhraq38Kn4C/rOP3Rh3Ts7MAAAAASUVORK5CYII=\n",
       "\" style=\"display:inline;vertical-align:middle;\" /></a></td></tr>\n",
       "<tr><td>3</td><td>Variable</td><td></td><td><a class=\"ProveItLink\" href=\"../../../../__pv_it/07527342713064c87612d00d8557c53d53d5324a0/expr.ipynb\"><img src=\"data:image/png;base64,iVBORw0KGgoAAAANSUhEUgAAAAsAAAAJBAMAAAAWSsseAAAAMFBMVEX///8yMjKqqqrMzMzu7u4i\n",
       "IiJmZmaYmJhEREQQEBC6urp2dnaIiIhUVFTc3NwAAAD87Fq/AAAAAXRSTlMAQObYZgAAAEhJREFU\n",
       "CNdjYOC7s2seAwPDygccHxgY+L4zsDUwMPB+YGA9wMDA38Dgb8DA8P4Agz6DA4O/AsNFJgMGxgKm\n",
       "MG6gyjunLE4xAAAZTBA5TB6DCwAAAABJRU5ErkJggg==\n",
       "\" style=\"display:inline;vertical-align:middle;\" /></a></td></tr>\n",
       "<tr><td>4</td><td>Variable</td><td></td><td><a class=\"ProveItLink\" href=\"../../../../__pv_it/2cbe72a7ad6f655694dd697106680215e8489b600/expr.ipynb\"><img src=\"data:image/png;base64,iVBORw0KGgoAAAANSUhEUgAAAA8AAAAOBAMAAAACpFvcAAAALVBMVEX///8QEBBERERUVFS6urqI\n",
       "iIhmZmaqqqrc3Nzu7u6YmJgyMjIiIiLMzMwAAADtIaYWAAAAAXRSTlMAQObYZgAAAFtJREFUCNdj\n",
       "YACBOwxQsA9Kc52bAGG05zVAGAFxDmCaZULdAjBjCsO9ADDDgaEvAUTzGhvbKYCVMDAwbgAxChgY\n",
       "eASANAeQwf0AyJgNxEwvGRia5HYwcOm9TgAA6BoR3jrzwFcAAAAASUVORK5CYII=\n",
       "\" style=\"display:inline;vertical-align:middle;\" /></a></td></tr>\n",
       "<tr><td>5</td><td>Variable</td><td></td><td><a class=\"ProveItLink\" href=\"../../../../__pv_it/6840a4fa6c106149dc16a131294d0c5e44f1b0480/expr.ipynb\"><img src=\"data:image/png;base64,iVBORw0KGgoAAAANSUhEUgAAAAkAAAAOBAMAAAAPuiubAAAALVBMVEX///9mZmbMzMxERESYmJiI\n",
       "iIh2dna6urqqqqoyMjIiIiIQEBBUVFTu7u4AAAD9S1JeAAAAAXRSTlMAQObYZgAAAE1JREFUCNdj\n",
       "4D29gAEIOA+ASL4GEFl3AURmgQiGOaFHGBh4HzPwKTBwvGXgTmBgnMDAJ8DAJcBQ5wBSLncBJLWN\n",
       "gYGngRFoBO9REQYGAGrcDtUkVqASAAAAAElFTkSuQmCC\n",
       "\" style=\"display:inline;vertical-align:middle;\" /></a></td></tr>\n",
       "<tr><td>6</td><td>Variable</td><td></td><td><a class=\"ProveItLink\" href=\"../../../../__pv_it/077b2ff79244fb4582cbe22c6e3356fa92a52f2f0/expr.ipynb\"><img src=\"data:image/png;base64,iVBORw0KGgoAAAANSUhEUgAAABAAAAAOBAMAAADUAYG5AAAAMFBMVEX///+qqqru7u4iIiJ2dnbc\n",
       "3NyIiIjMzMxmZmYQEBC6uroyMjJERERUVFSYmJgAAADLUcuvAAAAAXRSTlMAQObYZgAAAGpJREFU\n",
       "CNdjYGB4+//u3dMLGIBgDgMDxy8gzf4NiP8CGWxfGRj4vgAZPBMYGJgnARn8FxhY9ygAGfXX0pof\n",
       "gDTlBzAw2YIYJ0EckBBI53sHoBH/gIz7AhBjWH9DjancBLTl/N+7t/cxMAAA3u4f/5xagjYAAAAA\n",
       "SUVORK5CYII=\n",
       "\" style=\"display:inline;vertical-align:middle;\" /></a></td></tr>\n",
       "<tr><td>7</td><td>Variable</td><td></td><td><a class=\"ProveItLink\" href=\"../../../../__pv_it/985a1bdf1540838275dec15f4ad6de261cca93ce0/expr.ipynb\"><img src=\"data:image/png;base64,iVBORw0KGgoAAAANSUhEUgAAAA8AAAAOBAMAAAACpFvcAAAAMFBMVEX////MzMyqqqoiIiIyMjK6\n",
       "uroQEBB2dnbc3NyYmJhmZmZUVFRERESIiIju7u4AAAB204erAAAAAXRSTlMAQObYZgAAAGZJREFU\n",
       "CNdjYGDgu7NrJccCBgaGsgkMrMsmMDA8sQNy6hsYGNweABlhDAxcn4A0QxcDQ78DiPGQgWH9BAYI\n",
       "sG+AMv6DSaCGfBDNJMDAsB+kmwuI5S8AiTog5gSaEwXWIO29SgFIAQBC+RaDQlidVgAAAABJRU5E\n",
       "rkJggg==\n",
       "\" style=\"display:inline;vertical-align:middle;\" /></a></td></tr>\n",
       "<tr><td>8</td><td>Variable</td><td></td><td><a class=\"ProveItLink\" href=\"../../../../__pv_it/cbdfda466482236edba0ce44ac7ef39cda0af7a40/expr.ipynb\"><img src=\"data:image/png;base64,iVBORw0KGgoAAAANSUhEUgAAAAkAAAAJBAMAAAASvxsjAAAALVBMVEX///9mZmbc3NxUVFSYmJhE\n",
       "REQiIiIyMjK6uroQEBDMzMyIiIh2dnbu7u4AAABgFDGoAAAAAXRSTlMAQObYZgAAADZJREFUCNdj\n",
       "YOA9s3sBA8PKBvYEBt7ZDKwODMwPGICALwBE6m0Asx0YGIDiAgw8QJUyu/cyAAAmuwmycZ8WfQAA\n",
       "AABJRU5ErkJggg==\n",
       "\" style=\"display:inline;vertical-align:middle;\" /></a></td></tr>\n",
       "<tr><td>9</td><td>Literal</td><td></td><td><a class=\"ProveItLink\" href=\"../../../numeral/__pv_it/9be8badea4c35b9724062cecc501d17a3158d1d20/expr.ipynb\"><img src=\"data:image/png;base64,iVBORw0KGgoAAAANSUhEUgAAAAgAAAAPBAMAAAArJJMAAAAAHlBMVEX///+YmJgyMjIQEBBmZmaI\n",
       "iIhUVFTu7u5EREQAAAAw+MI4AAAAAXRSTlMAQObYZgAAACFJREFUCNdjYGBoZ2BgqJjOwFCWBiQY\n",
       "WEklWJwnOTKAAACjEQo8HvEr3AAAAABJRU5ErkJggg==\n",
       "\" style=\"display:inline;vertical-align:middle;\" /></a></td></tr>\n",
       "<tr><td>10</td><td>Literal</td><td></td><td><a class=\"ProveItLink\" href=\"../../../numeral/__pv_it/9176d93c83afa2c995b614976e3cb49207102fa70/expr.ipynb\"><img src=\"data:image/png;base64,iVBORw0KGgoAAAANSUhEUgAAAAoAAAAOBAMAAADkjZCYAAAAMFBMVEX///+YmJju7u4QEBBUVFQy\n",
       "MjIiIiKIiIi6urpmZmbc3NyqqqpERER2dnbMzMwAAAB0GlNiAAAAAXRSTlMAQObYZgAAAE1JREFU\n",
       "CNdjYHh79zQDA9cEhv4CBt7fDPwJDNxgEgiAIkAQAsR8Vx1ATIbiBhDJ/ImB6wEDz0cG/U8gkj+A\n",
       "ge0XA7sAQ/8FBoadM6MZAEflFACalZ/OAAAAAElFTkSuQmCC\n",
       "\" style=\"display:inline;vertical-align:middle;\" /></a></td></tr>\n",
       "</table>\n"
      ],
      "text/plain": [
       "0. a + A + A + b + B + 1 + C + c + 1 + 3\n",
       "   core type: Operation\n",
       "   operator: 1\n",
       "   operands: 2\n",
       "1. +\n",
       "   core type: Literal\n",
       "   sub-expressions: \n",
       "2. (a , A , A , b , B , 1 , C , c , 1 , 3)\n",
       "   core type: ExprTuple\n",
       "   sub-expressions: 3, 4, 4, 5, 6, 9, 7, 8, 9, 10\n",
       "3. a\n",
       "   core type: Variable\n",
       "   sub-expressions: \n",
       "4. A\n",
       "   core type: Variable\n",
       "   sub-expressions: \n",
       "5. b\n",
       "   core type: Variable\n",
       "   sub-expressions: \n",
       "6. B\n",
       "   core type: Variable\n",
       "   sub-expressions: \n",
       "7. C\n",
       "   core type: Variable\n",
       "   sub-expressions: \n",
       "8. c\n",
       "   core type: Variable\n",
       "   sub-expressions: \n",
       "9. 1\n",
       "   core type: Literal\n",
       "   sub-expressions: \n",
       "10. 3\n",
       "    core type: Literal\n",
       "    sub-expressions: "
      ]
     },
     "execution_count": 4,
     "metadata": {},
     "output_type": "execute_result"
    }
   ],
   "source": [
    "# display the expression information\n",
    "expr.exprInfo()"
   ]
  },
  {
   "cell_type": "code",
   "execution_count": null,
   "metadata": {},
   "outputs": [],
   "source": []
  }
 ],
 "metadata": {
  "kernelspec": {
   "display_name": "Python 3",
   "language": "python",
   "name": "python3"
  }
 },
 "nbformat": 4,
 "nbformat_minor": 0
}
