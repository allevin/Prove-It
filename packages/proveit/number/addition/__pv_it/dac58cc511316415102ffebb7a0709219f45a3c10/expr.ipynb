{
 "cells": [
  {
   "cell_type": "markdown",
   "metadata": {},
   "source": [
    "Expression of type <a class=\"ProveItLink\" href=\"../../../../../../doc/html/api/proveit.logic.InSet.html\">InSet</a>\n",
    "=======================\n",
    "# from context <a class=\"ProveItLink\" href=\"../../_context_.ipynb\">proveit.number.addition</a>"
   ]
  },
  {
   "cell_type": "code",
   "execution_count": 1,
   "metadata": {},
   "outputs": [],
   "source": [
    "# import Expression classes needed to build the expression\n",
    "from proveit._common_ import g\n",
    "from proveit.logic import InSet\n",
    "from proveit.number import Reals"
   ]
  },
  {
   "cell_type": "code",
   "execution_count": 2,
   "metadata": {},
   "outputs": [
    {
     "data": {
      "text/html": [
       "<strong id=\"expr\">expr:</strong> <a class=\"ProveItLink\" href=\"expr.ipynb\"><img src=\"data:image/png;base64,iVBORw0KGgoAAAANSUhEUgAAADMAAAASBAMAAAAEf/uKAAAAMFBMVEX///8yMjK6uroiIiLMzMwQ\n",
       "EBCqqqru7u7c3NxUVFRERER2dnaIiIhmZmaYmJgAAAAgbmjVAAAAAXRSTlMAQObYZgAAANZJREFU\n",
       "GNNjYMAAD3+tFww8wIAVLOhk8EpswC7Vy8BVsQBZhP2gsbEAVIrbAUXK8TlCF1Tq7elXIIpjOZKB\n",
       "nGADeSdw/AUJcDUgSSk/BPHeFzB8AwlUIZzRamyYAGJEMrD8ANGqxsZwZ+hyFQBptm8MPAYgAU8k\n",
       "x/OqTADSPD8YuC6ABIqR/SV+DkjzfWDgBxvM+QBJypPTAejR7wzzwW5jN0KS4k5YAWRonrkMEWm8\n",
       "Ag/eJQxS8mCj1kJVZwpDXAgDTAzs37BHAMP9Bs4JOKSyztzDIQMAaPdAHEfurEkAAAAASUVORK5C\n",
       "YII=\n",
       "\" style=\"display:inline;vertical-align:middle;\" /></a><br>"
      ],
      "text/plain": [
       "expr: g in Reals"
      ]
     },
     "execution_count": 2,
     "metadata": {},
     "output_type": "execute_result"
    }
   ],
   "source": [
    "# build up the expression from sub-expressions\n",
    "expr = InSet(g, Reals)"
   ]
  },
  {
   "cell_type": "code",
   "execution_count": 3,
   "metadata": {},
   "outputs": [
    {
     "name": "stdout",
     "output_type": "stream",
     "text": [
      "Passed sanity check: built 'expr' is the same as the stored Expression.\n"
     ]
    }
   ],
   "source": [
    "# check that the built expression is the same as the stored expression\n",
    "%check_expr"
   ]
  },
  {
   "cell_type": "code",
   "execution_count": 4,
   "metadata": {},
   "outputs": [
    {
     "data": {
      "text/html": [
       "<table><tr><th>&nbsp;</th><th>core type</th><th>sub-expressions</th><th>expression</th></tr>\n",
       "<tr><td>0</td><td>Operation</td><td>operator:&nbsp;1<br>operands:&nbsp;2<br></td><td><a class=\"ProveItLink\" href=\"expr.ipynb\"><img src=\"data:image/png;base64,iVBORw0KGgoAAAANSUhEUgAAADMAAAASBAMAAAAEf/uKAAAAMFBMVEX///8yMjK6uroiIiLMzMwQ\n",
       "EBCqqqru7u7c3NxUVFRERER2dnaIiIhmZmaYmJgAAAAgbmjVAAAAAXRSTlMAQObYZgAAANZJREFU\n",
       "GNNjYMAAD3+tFww8wIAVLOhk8EpswC7Vy8BVsQBZhP2gsbEAVIrbAUXK8TlCF1Tq7elXIIpjOZKB\n",
       "nGADeSdw/AUJcDUgSSk/BPHeFzB8AwlUIZzRamyYAGJEMrD8ANGqxsZwZ+hyFQBptm8MPAYgAU8k\n",
       "x/OqTADSPD8YuC6ABIqR/SV+DkjzfWDgBxvM+QBJypPTAejR7wzzwW5jN0KS4k5YAWRonrkMEWm8\n",
       "Ag/eJQxS8mCj1kJVZwpDXAgDTAzs37BHAMP9Bs4JOKSyztzDIQMAaPdAHEfurEkAAAAASUVORK5C\n",
       "YII=\n",
       "\" style=\"display:inline;vertical-align:middle;\" /></a></td></tr>\n",
       "<tr><td>1</td><td>Literal</td><td></td><td><a class=\"ProveItLink\" href=\"../../../../logic/set_theory/membership/__pv_it/088cbc857536a28d4119ad9639a84270ccb0545d0/expr.ipynb\"><img src=\"data:image/png;base64,iVBORw0KGgoAAAANSUhEUgAAAAwAAAAMBAMAAACkW0HUAAAALVBMVEX///+qqqpmZmZUVFQQEBC6\n",
       "urpERETc3NyYmJjMzMwiIiIyMjKIiIju7u4AAACYsrA9AAAAAXRSTlMAQObYZgAAADxJREFUCNdj\n",
       "YOA9vWrVBgaG2b0MQMCeCyIZ2ArA1DUwyRCyahVIyWQI7xaEYm4AU7xLIdxqTQgtvGvVBgCkcQ7e\n",
       "geM/tQAAAABJRU5ErkJggg==\n",
       "\" style=\"display:inline;vertical-align:middle;\" /></a></td></tr>\n",
       "<tr><td>2</td><td>ExprTuple</td><td>3, 4</td><td><a class=\"ProveItLink\" href=\"../9fda967cec214962472d834c26e25c64101125d50/expr.ipynb\"><img src=\"data:image/png;base64,iVBORw0KGgoAAAANSUhEUgAAAC8AAAAVBAMAAAAk6KpUAAAAMFBMVEX////c3NwiIiJERESqqqqY\n",
       "mJh2dnZmZmYQEBDu7u4yMjJUVFTMzMyIiIi6uroAAAAs73DqAAAAAXRSTlMAQObYZgAAAR9JREFU\n",
       "KM9jYMAJ+C5gisWBiNNIAlGf7Vd1ARWyHwByViIrNZBmOOwlwMCwgIGBF8UkA3EG5okGDAxhDAwc\n",
       "E9Ak2A4AJWYwMLxiwCbB7MBQBuKHXwuGS3CDjGIrYFgK5LJvYPwOl3gUBbScZQFDH5AbP4HhC1RC\n",
       "QknLAeS5BoZ/QKqbgecjTMdzZpBreD6AJFi+MPAqwCTY32yASLQAvfKRgbkAbsfKqxCjTBkYWD8w\n",
       "8DswcEIlTnMDw4N1AUM6AwPnT4b9AgzzFaD+cDAEO/cRkPv6bhHQsx/BgWjDsHi9AwPXAwYOAZAR\n",
       "5kD8ECkEgEHCmsDAx8AJ8kYAkkQuONjrBbg3oEpwAoOdQZrB+W4pkOZF0sANMp8RS9TeYWAAAAXl\n",
       "RhSVhjAgAAAAAElFTkSuQmCC\n",
       "\" style=\"display:inline;vertical-align:middle;\" /></a></td></tr>\n",
       "<tr><td>3</td><td>Variable</td><td></td><td><a class=\"ProveItLink\" href=\"../../../../__pv_it/b5004dd09038f1a7d88dab9010b943185ce1d3ea0/expr.ipynb\"><img src=\"data:image/png;base64,iVBORw0KGgoAAAANSUhEUgAAAAoAAAANBAMAAABiGeI2AAAALVBMVEX///+6uroiIiLMzMwQEBCq\n",
       "qqru7u7c3NxUVFRERER2dnaIiIhmZmaYmJgAAABs7E5IAAAAAXRSTlMAQObYZgAAAFRJREFUCNdj\n",
       "YGC4s+smAwNPA/sbBoZ7CQxPGRg8GJifM7A+ZeBWYOB+zsB5gIH3AQNfAAPbM4a+AgYGid2HGEBg\n",
       "DgMDIwMbUPm5Ao4GBobI3WcZGAA0kxQNEIuRVgAAAABJRU5ErkJggg==\n",
       "\" style=\"display:inline;vertical-align:middle;\" /></a></td></tr>\n",
       "<tr><td>4</td><td>Literal</td><td></td><td><a class=\"ProveItLink\" href=\"../../../sets/real/__pv_it/9e7645ee1117062e179dd6264898f99ed95b157c0/expr.ipynb\"><img src=\"data:image/png;base64,iVBORw0KGgoAAAANSUhEUgAAAA8AAAAOBAMAAAACpFvcAAAAMFBMVEX///8iIiK6urp2dnbu7u5m\n",
       "ZmaqqqrMzMxUVFTc3NyIiIgQEBBEREQyMjKYmJgAAAA9nvXMAAAAAXRSTlMAQObYZgAAAFJJREFU\n",
       "CNdjePvn/N29CxiA4MAMhprcCSDGVAYezwMQBnMBOoMDJqX4Fqx4tqBsAlj7VFUeBwiDVb0BwmC4\n",
       "sg7KqOAogJqTcJKBAWjpcYY79xMAyqEnfsw4ApEAAAAASUVORK5CYII=\n",
       "\" style=\"display:inline;vertical-align:middle;\" /></a></td></tr>\n",
       "</table>\n"
      ],
      "text/plain": [
       "0. g in Reals\n",
       "   core type: Operation\n",
       "   operator: 1\n",
       "   operands: 2\n",
       "1. in\n",
       "   core type: Literal\n",
       "   sub-expressions: \n",
       "2. (g , Reals)\n",
       "   core type: ExprTuple\n",
       "   sub-expressions: 3, 4\n",
       "3. g\n",
       "   core type: Variable\n",
       "   sub-expressions: \n",
       "4. Reals\n",
       "   core type: Literal\n",
       "   sub-expressions: "
      ]
     },
     "execution_count": 4,
     "metadata": {},
     "output_type": "execute_result"
    }
   ],
   "source": [
    "# display the expression information\n",
    "expr.exprInfo()"
   ]
  },
  {
   "cell_type": "code",
   "execution_count": null,
   "metadata": {},
   "outputs": [],
   "source": []
  }
 ],
 "metadata": {
  "kernelspec": {
   "display_name": "Python 3",
   "language": "python",
   "name": "python3"
  }
 },
 "nbformat": 4,
 "nbformat_minor": 0
}
