{
 "cells": [
  {
   "cell_type": "markdown",
   "metadata": {},
   "source": [
    "Expression of type <a class=\"ProveItLink\" href=\"../../../../../../doc/html/api/proveit.logic.Equals.html\">Equals</a>\n",
    "=======================\n",
    "# from context <a class=\"ProveItLink\" href=\"../../_context_.ipynb\">proveit.number.addition</a>"
   ]
  },
  {
   "cell_type": "code",
   "execution_count": 1,
   "metadata": {},
   "outputs": [],
   "source": [
    "# import Expression classes needed to build the expression\n",
    "from proveit._common_ import a, b, c\n",
    "from proveit.logic import Equals\n",
    "from proveit.number import Add"
   ]
  },
  {
   "cell_type": "code",
   "execution_count": 2,
   "metadata": {},
   "outputs": [
    {
     "data": {
      "text/html": [
       "<strong id=\"expr\">expr:</strong> <a class=\"ProveItLink\" href=\"expr.ipynb\"><img src=\"data:image/png;base64,iVBORw0KGgoAAAANSUhEUgAAAwwAAAAVBAMAAAAZYHSGAAAAMFBMVEX////c3NwiIiJERESqqqqY\n",
       "mJh2dnZmZmYQEBDu7u4yMjJUVFTMzMyIiIi6uroAAAAs73DqAAAAAXRSTlMAQObYZgAAA9BJREFU\n",
       "aN7tmU9IFHEUx5+67rpr7u7dQ9LFLoEHO0bSURL37Ek85CVjIfJgQRnRIUi2S0QeVoQOriAGRRGI\n",
       "QpfAg3sqolak0xKJgishWDSzzPu9ee/tsLv4G2mjOcjy5cv3vc/8/sxvRoD/119xJYst2Xbnzr+F\n",
       "smkvb/5+PUf8bd+JHd51R0ubYd4sG3ABIS7KksVWl+s6Eqsnd3g+LS2FOmltwNUOcVB62EJ+ooc4\n",
       "3YRSCcxBITUU5MAQ41B1uNA5LhOsouigJuCCW6/UcjgoXTm/fUQ1ESk2riSPAnNQ2MsFOTDEOFQd\n",
       "LsTvyQSbKDqoGbjA1k0Iczgo38Fe79G+up1OQL1hmIDGhgEGZYJNFB3UDFxg6yaEOwZh2vnbtnZj\n",
       "lgeSgn6tQO/HcpopibUvGZ7zdOorF5ZLr7kQv1baYCHGYepgiCg8Ke+GTRRSMEjDmdYVHKYoOBPC\n",
       "4SbhhfOznO7Y5xVIQb9WkrNwmSv5AThmOWfmYJEJ8QNI8dY/7CT6/CHkwFQTIgoPu79jhepVfTba\n",
       "RCEFgxQcta7gMEXCUQiHG4Y5Z3YcQmyAVfApnl8rcDYDN7kymoOHLOdZES4yIXIEXeOs9cfQweYH\n",
       "OTDVhIjCZbkabKKQgkEKjlpXcDilJByFcLgy/Abo3of2IqvgUzy/VmAd4AJXZgB+spx1uX3GFiCV\n",
       "FZX4bkkOX52ahbfkMNhEIQWDFBy1ruCoEgTcIQ635faeGoC8u5hmCoXzhYJ7skXFWfKLj6pLXitw\n",
       "APFjrvRD8pDlHHjFjdCehb2MqAQsxHOwOlCzcK1hsIbiKb4gBee1ruBYJah1hxTcFjxwFmARRiHn\n",
       "H1ef4g2bVtp+QWQ/zoa2ArEj//xwLGLCOCfru7ISnzDkoDrcgYWrm1LsXPWq8lpE8SkYJOF8rSs4\n",
       "qiRWgwnhcGV3Z8oPwbsIe3D6FM+vlXgFuheusiLHuDdijjPynbzTDbHBppzpw7ZPcmCqCRGFx+Rq\n",
       "sIjiUzBIwVHrCg5ZJByFcLgx99iXyET6o/xwRorn14pzMLmS5Zmv4DafH28ArvP9dCi2yoUsRNkt\n",
       "IQemmhBRWB1YbaKQgkEKjlpXcMgi4SiEw03CN/ccvf1+mx8vSMHVoxToLf24tMOU+U8Z8dCaKuX4\n",
       "6WLtlnjlmS59ZrHkwFQTIgqvyGGwiUIKBik4al3BYYqEoxAOtwJd6TBePUeaF+q9NDfwMSMUlFNg\n",
       "cVD4F7LdBr7hN6LsNi+okDpCVBUNB+UUWFyUcL8Oh3c9P+0P3eGi9LZo7y+11Mooba35n8OeDa21\n",
       "LsofFO90xymUQOUAAAAASUVORK5CYII=\n",
       "\" style=\"display:inline;vertical-align:middle;\" /></a><br>"
      ],
      "text/plain": [
       "expr: (a + a + a + a + b + c + b + c + b + c + a) = (a + a + a + a + a + b + c + b + c + b + c)"
      ]
     },
     "execution_count": 2,
     "metadata": {},
     "output_type": "execute_result"
    }
   ],
   "source": [
    "# build up the expression from sub-expressions\n",
    "expr = Equals(Add(a, a, a, a, b, c, b, c, b, c, a), Add(a, a, a, a, a, b, c, b, c, b, c))"
   ]
  },
  {
   "cell_type": "code",
   "execution_count": 3,
   "metadata": {},
   "outputs": [
    {
     "name": "stdout",
     "output_type": "stream",
     "text": [
      "Passed sanity check: built 'expr' is the same as the stored Expression.\n"
     ]
    }
   ],
   "source": [
    "# check that the built expression is the same as the stored expression\n",
    "%check_expr"
   ]
  },
  {
   "cell_type": "code",
   "execution_count": 4,
   "metadata": {},
   "outputs": [
    {
     "data": {
      "text/html": [
       "<table><tr><th>&nbsp;</th><th>core type</th><th>sub-expressions</th><th>expression</th></tr>\n",
       "<tr><td>0</td><td>Operation</td><td>operator:&nbsp;1<br>operands:&nbsp;2<br></td><td><a class=\"ProveItLink\" href=\"expr.ipynb\"><img src=\"data:image/png;base64,iVBORw0KGgoAAAANSUhEUgAAAwwAAAAVBAMAAAAZYHSGAAAAMFBMVEX////c3NwiIiJERESqqqqY\n",
       "mJh2dnZmZmYQEBDu7u4yMjJUVFTMzMyIiIi6uroAAAAs73DqAAAAAXRSTlMAQObYZgAAA9BJREFU\n",
       "aN7tmU9IFHEUx5+67rpr7u7dQ9LFLoEHO0bSURL37Ek85CVjIfJgQRnRIUi2S0QeVoQOriAGRRGI\n",
       "QpfAg3sqolak0xKJgishWDSzzPu9ee/tsLv4G2mjOcjy5cv3vc/8/sxvRoD/119xJYst2Xbnzr+F\n",
       "smkvb/5+PUf8bd+JHd51R0ubYd4sG3ABIS7KksVWl+s6Eqsnd3g+LS2FOmltwNUOcVB62EJ+ooc4\n",
       "3YRSCcxBITUU5MAQ41B1uNA5LhOsouigJuCCW6/UcjgoXTm/fUQ1ESk2riSPAnNQ2MsFOTDEOFQd\n",
       "LsTvyQSbKDqoGbjA1k0Iczgo38Fe79G+up1OQL1hmIDGhgEGZYJNFB3UDFxg6yaEOwZh2vnbtnZj\n",
       "lgeSgn6tQO/HcpopibUvGZ7zdOorF5ZLr7kQv1baYCHGYepgiCg8Ke+GTRRSMEjDmdYVHKYoOBPC\n",
       "4SbhhfOznO7Y5xVIQb9WkrNwmSv5AThmOWfmYJEJ8QNI8dY/7CT6/CHkwFQTIgoPu79jhepVfTba\n",
       "RCEFgxQcta7gMEXCUQiHG4Y5Z3YcQmyAVfApnl8rcDYDN7kymoOHLOdZES4yIXIEXeOs9cfQweYH\n",
       "OTDVhIjCZbkabKKQgkEKjlpXcDilJByFcLgy/Abo3of2IqvgUzy/VmAd4AJXZgB+spx1uX3GFiCV\n",
       "FZX4bkkOX52ahbfkMNhEIQWDFBy1ruCoEgTcIQ635faeGoC8u5hmCoXzhYJ7skXFWfKLj6pLXitw\n",
       "APFjrvRD8pDlHHjFjdCehb2MqAQsxHOwOlCzcK1hsIbiKb4gBee1ruBYJah1hxTcFjxwFmARRiHn\n",
       "H1ef4g2bVtp+QWQ/zoa2ArEj//xwLGLCOCfru7ISnzDkoDrcgYWrm1LsXPWq8lpE8SkYJOF8rSs4\n",
       "qiRWgwnhcGV3Z8oPwbsIe3D6FM+vlXgFuheusiLHuDdijjPynbzTDbHBppzpw7ZPcmCqCRGFx+Rq\n",
       "sIjiUzBIwVHrCg5ZJByFcLgx99iXyET6o/xwRorn14pzMLmS5Zmv4DafH28ArvP9dCi2yoUsRNkt\n",
       "IQemmhBRWB1YbaKQgkEKjlpXcMgi4SiEw03CN/ccvf1+mx8vSMHVoxToLf24tMOU+U8Z8dCaKuX4\n",
       "6WLtlnjlmS59ZrHkwFQTIgqvyGGwiUIKBik4al3BYYqEoxAOtwJd6TBePUeaF+q9NDfwMSMUlFNg\n",
       "cVD4F7LdBr7hN6LsNi+okDpCVBUNB+UUWFyUcL8Oh3c9P+0P3eGi9LZo7y+11Mooba35n8OeDa21\n",
       "LsofFO90xymUQOUAAAAASUVORK5CYII=\n",
       "\" style=\"display:inline;vertical-align:middle;\" /></a></td></tr>\n",
       "<tr><td>1</td><td>Literal</td><td></td><td><a class=\"ProveItLink\" href=\"../../../../logic/equality/__pv_it/2fb26078095930560931daa0500ce419a39ea6cd0/expr.ipynb\"><img src=\"data:image/png;base64,iVBORw0KGgoAAAANSUhEUgAAAA4AAAAFBAMAAACHocAhAAAAFVBMVEX///9EREQiIiJUVFQyMjJm\n",
       "ZmYAAADubVkoAAAAAXRSTlMAQObYZgAAABRJREFUCNdjCHEBAWcGXCBICQQUAUpuAwlgGKrkAAAA\n",
       "AElFTkSuQmCC\n",
       "\" style=\"display:inline;vertical-align:middle;\" /></a></td></tr>\n",
       "<tr><td>2</td><td>ExprTuple</td><td>3, 4</td><td><a class=\"ProveItLink\" href=\"../b11cd54dfec330a52b6d4f5810a7a31f5107018b0/expr.ipynb\"><img src=\"data:image/png;base64,iVBORw0KGgoAAAANSUhEUgAAAukAAAAVBAMAAAAJJW1zAAAAMFBMVEX////c3NwiIiJERESqqqqY\n",
       "mJh2dnZmZmYQEBDu7u4yMjJUVFTMzMyIiIi6uroAAAAs73DqAAAAAXRSTlMAQObYZgAAA8NJREFU\n",
       "WMPtWTFME1EY/oBryxVtuzPIhosJi6OxcZbQydEQBl3ENDEy4CAY42AilsWQMNCQOHgsDBqNCYHE\n",
       "xcSlk8ZICXEiRkIjEEOCxrt6/73333/lXqFUSXhDefn47vu/77279961wGn7Fy1TOR2Dtrbr3seH\n",
       "1unNPohj2G/6jsxoT4vPcti0qRX340ULrS7EMtKLR2e0py0cW9oycJYtMNNyvnJNIDsNdQjI5hsx\n",
       "SCRgiDqy8IHOTRCDLJIy3XxaJnIN6C7p9EHhy6qYI5m9hjoEbJUaMUgkYIg61kE70OChEIMskjLY\n",
       "fFomMgN8Q+tGPdkX62MEcaM+gv9i1IMsDUe9mbRMpCuPMfdPx9LtSU5XCPElgt6PGzmGpJe+FLjO\n",
       "s9FVDixUX3HAvlFdYSIBI6hDIrKw1pPOTRCDLMIGyci0QRaRlkTqjGQRz93+Rq6rxq9XCPElkpnE\n",
       "ZY7MDWCf6ZyZwjwD7G1kubH36+k+XUQxSDUQkYVVL8K5CWKQRdggGZFWZRFpSaTOsMqYcqd+F6kB\n",
       "dr2G+HyJ4FwBdzgyVMIjpjNTwUUGWHvoHmbGnqCL3VOKQaqBiCysehHOTRCDLMIGyYi0KotIS7dU\n",
       "nZGZwG+gp4bOCrteQ3y+RLAMXODIOPCT6SyHV7pUGdliqBJf+hRDq9OosOpFODdBDLIIGyQj0qos\n",
       "Iq0aRe+pqXmjnh3AnPcgjDvOecfxTqGEpBxn/rHjLEYh2Ia9z5F+ZHaZzrbvLwA6i9gqhCqBifgM\n",
       "VgeRhbWedG6CGGQRNjQZkdbPItKyUfw76g/dx6uCIZT0SdIQf5Yk0vELVs1mt8MOUnv6ZLuU0Oy7\n",
       "B9j74Ur8TlYMVYczVGHNQoRzE8Qgi7BBMuG0WhaRVo2it4lMeGvVXB5vLbbHaYjPl4i9g57yVeZ0\n",
       "n5Yx0nHvhQT3sRJaC7PuvcDWdcUg1UCEFy4xCxHOTRCDLMIGyYi0KotIS+HqjEQZN90jUMHqT/JD\n",
       "kUJ8vkTc08+VIjf2Evf4ZL8GbvGlL59a5EARSTYAikGqgQgrbP9gFiKcmyAGWYQNkhFpVRaRlsLV\n",
       "Ge7J8at3fF17t8Z3eYXQAyYQ9Fa/X1pnyOynQmg7Ga2W+Da/dDd00hurfmayikGqgQgrbD/N6RYi\n",
       "nJsgBlmEDZIRaVUWkZZE6oz0OrpzrXs3PUAnHoh/FeVAJnes76bHGG7GXauG9f9uGnz9boJsNg8I\n",
       "kRggEaNnhBhkaX240RZ/09vOljipv2rYZW9JO6HmT+xPYD3e0thx+gtee9sq8Adk1U7E0NqH/gAA\n",
       "AABJRU5ErkJggg==\n",
       "\" style=\"display:inline;vertical-align:middle;\" /></a></td></tr>\n",
       "<tr><td>3</td><td>Operation</td><td>operator:&nbsp;6<br>operands:&nbsp;5<br></td><td><a class=\"ProveItLink\" href=\"../a8abcd9974c8540b247b99474f6da57319c6f7ae0/expr.ipynb\"><img src=\"data:image/png;base64,iVBORw0KGgoAAAANSUhEUgAAAWoAAAAQBAMAAADNOCjDAAAAMFBMVEX///8yMjKqqqrMzMzu7u4i\n",
       "IiJmZmaYmJhEREQQEBC6urp2dnaIiIhUVFTc3NwAAAD87Fq/AAAAAXRSTlMAQObYZgAAAiZJREFU\n",
       "SMetlbFrE1Ecx7+5Xs+a0KQ3FKdCQNwKzahbVpGaTAXBIZ0URLw/IZuLIA4uKqXgVChUkC61w4Hi\n",
       "UE+IDpZCoPkHSkMSbAcHU3zv7r7v965JbN744ZPv9/fevdwB01qrr0cZ7lH9ysbU19JII9e6uiHW\n",
       "fbn3zgSkl6no4FI5q0kYIkSmqrUsiBOOT/KDTEUH71SzmoQhQmTqVKYu1EdOvYtRU+9izKmL7b0N\n",
       "/mlCtCoJTr5tdYjk2t8DVu7tf+bgpeiQgfspqtgNHRIbRvFWZ67LWQnRqiT5DbxkUmuiT2DmDRYp\n",
       "2D1HiYe8s5mr2w0dEhtcXDyD16TwFFGqJDgN8JjJShVvCdwN8ZyCnQGuf6Ah32EusBsqJDG4eL6L\n",
       "2ZDCU0SpkuAYeMhkHfhtKnxrvQWUGkZTlpE0w1ZcaqJ28VDWff+B71+8czXxfH/xle+3bATncPtM\n",
       "1pA/M5R/u4mDZxvYCYwmq0HNsBWfhlhBNb3hFFEblKT4B07XpUPowRsYinGSw5fxM7Mpy0ia+axV\n",
       "ca2MHw79R1JEqZK4Pcwv3KSp+8aVxPDkr/FMFXXzYzA818BuqJDE4OJc4KwVKCtFlCoJbuBWg4f8\n",
       "iaes/AI+8h+m7LUYNFCo2A19r2ODi4vtg9sH/A5JiH4sguAkev9ik8jq14AVbz+q8puv/cj4qDyJ\n",
       "vmQYOiQ2ZPFUvo2XKMuTg/G/6NuC5MP/IFLZnhxcnvoXSZf5JeTedWkAAAAASUVORK5CYII=\n",
       "\" style=\"display:inline;vertical-align:middle;\" /></a></td></tr>\n",
       "<tr><td>4</td><td>Operation</td><td>operator:&nbsp;6<br>operands:&nbsp;7<br></td><td><a class=\"ProveItLink\" href=\"../06e0b1dab0b4c1184634af94c49563c83afc32080/expr.ipynb\"><img src=\"data:image/png;base64,iVBORw0KGgoAAAANSUhEUgAAAWoAAAAQBAMAAADNOCjDAAAAMFBMVEX///8yMjKqqqrMzMzu7u4i\n",
       "IiJmZmaYmJhEREQQEBC6urp2dnaIiIhUVFTc3NwAAAD87Fq/AAAAAXRSTlMAQObYZgAAAi5JREFU\n",
       "SMe1lbFLG1Ecx785z6smJPEGcQoExK2gY7vdWoqaSSg4xEmhiPcnZHMplA5dahGhk1BQKF2qw0FL\n",
       "B3uF1EEpBJp/QBqSoA4OXuz93r1f3v0IJM2NH773+b37vXe/B4zvWX47KGH/rowu+d9PaWAiUx9Z\n",
       "smL2ojkMUaK2aCZQLEsJpW3LdR6exwaxgmEIibJd0UzgyJMSpFWSlDpjWXWuMnDVnzFo1UrC6xQa\n",
       "X/b5mwmhpElw9eOwKRASZRo/fW62T8IlBkrhpZAgrZKoOs9PvwKHzakWfzMhlDRJdh+vJUKi1Ro6\n",
       "3Pz0IFPRgX2L4lJ6grRKQmDiHWZRuIFTY26NxEmT4K+PLYmQaNHDHgP2e0z5OrC6mD5OT5BWSQg8\n",
       "C7CLfAuTAXNrJE6aBH+AdYmQaAO47jfzhDODYjU9QVol0epEs6eG1d4mbbjuC9ctacRx3dk3rltP\n",
       "I7iF3UklmmgN2Zt+M09MVnHkpyQ07T8Jq9Pb2ACL8PTv1Uj8fSYp3MFq2QIhURtOF31m3utoXO94\n",
       "6QlqrZIkdXqnvYxfFvsjNBInTWK3kZ+ZFwiJOnRo1SKjvrJzHf2Ke0KCVq0kBKLOP0LGt9ZyfGAl\n",
       "JE6aBHNYqB4LhETn2OatzVeRYw3Kl526kCCtkhC4AD5Fo/jsyRmfIQmhXTEIrsIPrw4EQqLl737f\n",
       "HfIy/MaHSmNTSpBWSQg4p6E3zrtxJGBopRv9o0GywTDEFA0BDK0O7gGXVPQMhHokQQAAAABJRU5E\n",
       "rkJggg==\n",
       "\" style=\"display:inline;vertical-align:middle;\" /></a></td></tr>\n",
       "<tr><td>5</td><td>ExprTuple</td><td>8, 8, 8, 8, 9, 10, 9, 10, 9, 10, 8</td><td><a class=\"ProveItLink\" href=\"../706c317608e9c65e7562a132da234624baaf494a0/expr.ipynb\"><img src=\"data:image/png;base64,iVBORw0KGgoAAAANSUhEUgAAANUAAAAVBAMAAAAjhrYEAAAAMFBMVEX////c3NwiIiJERESqqqqY\n",
       "mJh2dnZmZmYQEBDu7u4yMjJUVFTMzMyIiIi6uroAAAAs73DqAAAAAXRSTlMAQObYZgAAAjFJREFU\n",
       "SMe9ljFIG1EYx/8xl1xezuRu71A3p0IWx9LgLHhTRwkO7dKUg1KHdmgVcatmEsEhR8FBXBwqihB6\n",
       "0KXQJVNLaU/STlIKXqsiAZW+d+9d4ov3LsnQZLj83498/y/f9773EmCUr2JzJGnm2OPT4J/fXOpP\n",
       "yMFEbKzu0cf2EF9uZwCS342PdYHCMC08G4CY5fjYh0CuNsTWtvsTnCgMN4BfQ5SVnehPMK8ITpex\n",
       "QN9SjaeLgtz5fGwpVb7xzeZovfq9h5BHvsd30N/rIdw+62CLLo6tdCB6sogHalUv4TIU46t4KxN8\n",
       "bOXDGskpTE8iwl5zsUrznkMv8Yi7Np6p1WwNK7z3TUzJhLxBOqxQayNXkYiwL77GNWAEGBPT+B64\n",
       "p1YvgIsI9RAjiM6RC9ORiLAfD1gus4Q6LxunIJdqNYniuUDoIaZoDMYcnNgSEfY01zJtUhOzCCc1\n",
       "dQUtICpFD5PeFqhzvDhhHp3j9aomEWFPe0j7Xi/jUPOYHTmD4c6wvHGKjgHdCiZoLRmZmLQWm1nQ\n",
       "wVgBuUm4PTIuHtPBtbXJLOpsaLYw7VTIX4V6h5cIxT7wRCaGg6zHLIyyvht6dQi3ZzP/k83/0Ycj\n",
       "bPxhR8n/fb9F1qx4tfnFRij0ql+TCRb8r6EFaTwH94oIt0e+hZwV9f5H9+axElSC6FrcFuyOylSi\n",
       "hd3BmSSVILoWtwWqN39T/m8u4rItEotC95psJqkEUVALGKzRqdH8B6B39T9X197E1YlhjgAAAABJ\n",
       "RU5ErkJggg==\n",
       "\" style=\"display:inline;vertical-align:middle;\" /></a></td></tr>\n",
       "<tr><td>6</td><td>Literal</td><td></td><td><a class=\"ProveItLink\" href=\"../3e6688136fa3c7aefbebe51301b7c3ebf0b69c440/expr.ipynb\"><img src=\"data:image/png;base64,iVBORw0KGgoAAAANSUhEUgAAAA4AAAAOBAMAAADtZjDiAAAAJFBMVEX///+6urpUVFQQEBAiIiIy\n",
       "MjJmZmaIiIiqqqrc3Nzu7u4AAACgHpL+AAAAAXRSTlMAQObYZgAAAB5JREFUCNdjYGBgWMkAAe2k\n",
       "0Kmhoc6hoUGk6BMHYgAHOwjcado9fwAAAABJRU5ErkJggg==\n",
       "\" style=\"display:inline;vertical-align:middle;\" /></a></td></tr>\n",
       "<tr><td>7</td><td>ExprTuple</td><td>8, 8, 8, 8, 8, 9, 10, 9, 10, 9, 10</td><td><a class=\"ProveItLink\" href=\"../479fc843c2d500fdb9222234fc40406f00c1f8f40/expr.ipynb\"><img src=\"data:image/png;base64,iVBORw0KGgoAAAANSUhEUgAAANUAAAAVBAMAAAAjhrYEAAAAMFBMVEX////c3NwiIiJERESqqqqY\n",
       "mJh2dnZmZmYQEBDu7u4yMjJUVFTMzMyIiIi6uroAAAAs73DqAAAAAXRSTlMAQObYZgAAAhVJREFU\n",
       "SMe9ljFoE1EYx/9pLrm8XJO73aHZMglZHEuDs9CbHCU46NLIgdhBB61It9ZMUuiQQ+hQXDooihAM\n",
       "uAguN7UUvRCdigg9bYsEqvR771486zsvx4G54fK7H+T78n3ve+8CTPOqelNJc43f3mf55ubDvw17\n",
       "VUs0ep9u25l+5jPFlHeSjQtUsrXwWDFmM9lcBUqdTIs8UtRhJ9lsAF8ylVWsKer6BJNvYpk+cr1b\n",
       "K9Jc2D2wUlC598EO1ZP2R7mC/gs5Ezf8fowpOtgiPrDygezNChbSULeBUwGz63gaxjuCGaZ4NyzX\n",
       "YozmYp3KOoHeCGPM2bidhhY7WA1XwcMlAdoIpZZIsYa8HWOqD/ALMALMyGl8A1xMQ3eBH2Ml948L\n",
       "0+FgBPFmNuC5zAa6YbE4AjtNQ3VUT6SS14yDQ1GO2Yg3lOsRtcbDIsR85n5CC9hkou2lj6SKNtN9\n",
       "EWPOizfUQ+p2t4nXWp8HYccw3Cs8bzLRYNBScKDqCgJoDFbBY5hUi80Ug4KLmzTAtlYvosuHZwuX\n",
       "nRb7PpGe4x4EvASWBBhNfUfEMBwU+wLOGT7zn/n2GrwdYOMb30D+1/khe2xNos09GwL0tt8RwHp3\n",
       "EMZY9vcFnDcoD1Gyxh3/FJ1AVipSIYqhAp1Rhdb4wf6dq5COVIhiqND+853yf3Mxly+RfKhEx6SX\n",
       "jlSo/BsM3ufcdP4D0Al9BgFr3NVHfMmEAAAAAElFTkSuQmCC\n",
       "\" style=\"display:inline;vertical-align:middle;\" /></a></td></tr>\n",
       "<tr><td>8</td><td>Variable</td><td></td><td><a class=\"ProveItLink\" href=\"../../../../__pv_it/07527342713064c87612d00d8557c53d53d5324a0/expr.ipynb\"><img src=\"data:image/png;base64,iVBORw0KGgoAAAANSUhEUgAAAAsAAAAJBAMAAAAWSsseAAAAMFBMVEX///8yMjKqqqrMzMzu7u4i\n",
       "IiJmZmaYmJhEREQQEBC6urp2dnaIiIhUVFTc3NwAAAD87Fq/AAAAAXRSTlMAQObYZgAAAEhJREFU\n",
       "CNdjYOC7s2seAwPDygccHxgY+L4zsDUwMPB+YGA9wMDA38Dgb8DA8P4Agz6DA4O/AsNFJgMGxgKm\n",
       "MG6gyjunLE4xAAAZTBA5TB6DCwAAAABJRU5ErkJggg==\n",
       "\" style=\"display:inline;vertical-align:middle;\" /></a></td></tr>\n",
       "<tr><td>9</td><td>Variable</td><td></td><td><a class=\"ProveItLink\" href=\"../../../../__pv_it/6840a4fa6c106149dc16a131294d0c5e44f1b0480/expr.ipynb\"><img src=\"data:image/png;base64,iVBORw0KGgoAAAANSUhEUgAAAAkAAAAOBAMAAAAPuiubAAAALVBMVEX///9mZmbMzMxERESYmJiI\n",
       "iIh2dna6urqqqqoyMjIiIiIQEBBUVFTu7u4AAAD9S1JeAAAAAXRSTlMAQObYZgAAAE1JREFUCNdj\n",
       "4D29gAEIOA+ASL4GEFl3AURmgQiGOaFHGBh4HzPwKTBwvGXgTmBgnMDAJ8DAJcBQ5wBSLncBJLWN\n",
       "gYGngRFoBO9REQYGAGrcDtUkVqASAAAAAElFTkSuQmCC\n",
       "\" style=\"display:inline;vertical-align:middle;\" /></a></td></tr>\n",
       "<tr><td>10</td><td>Variable</td><td></td><td><a class=\"ProveItLink\" href=\"../../../../__pv_it/cbdfda466482236edba0ce44ac7ef39cda0af7a40/expr.ipynb\"><img src=\"data:image/png;base64,iVBORw0KGgoAAAANSUhEUgAAAAkAAAAJBAMAAAASvxsjAAAALVBMVEX///9mZmbc3NxUVFSYmJhE\n",
       "REQiIiIyMjK6uroQEBDMzMyIiIh2dnbu7u4AAABgFDGoAAAAAXRSTlMAQObYZgAAADZJREFUCNdj\n",
       "YOA9s3sBA8PKBvYEBt7ZDKwODMwPGICALwBE6m0Asx0YGIDiAgw8QJUyu/cyAAAmuwmycZ8WfQAA\n",
       "AABJRU5ErkJggg==\n",
       "\" style=\"display:inline;vertical-align:middle;\" /></a></td></tr>\n",
       "</table>\n"
      ],
      "text/plain": [
       "0. (a + a + a + a + b + c + b + c + b + c + a) = (a + a + a + a + a + b + c + b + c + b + c)\n",
       "   core type: Operation\n",
       "   operator: 1\n",
       "   operands: 2\n",
       "1. =\n",
       "   core type: Literal\n",
       "   sub-expressions: \n",
       "2. (a + a + a + a + b + c + b + c + b + c + a , a + a + a + a + a + b + c + b + c + b + c)\n",
       "   core type: ExprTuple\n",
       "   sub-expressions: 3, 4\n",
       "3. a + a + a + a + b + c + b + c + b + c + a\n",
       "   core type: Operation\n",
       "   operator: 6\n",
       "   operands: 5\n",
       "4. a + a + a + a + a + b + c + b + c + b + c\n",
       "   core type: Operation\n",
       "   operator: 6\n",
       "   operands: 7\n",
       "5. (a , a , a , a , b , c , b , c , b , c , a)\n",
       "   core type: ExprTuple\n",
       "   sub-expressions: 8, 8, 8, 8, 9, 10, 9, 10, 9, 10, 8\n",
       "6. +\n",
       "   core type: Literal\n",
       "   sub-expressions: \n",
       "7. (a , a , a , a , a , b , c , b , c , b , c)\n",
       "   core type: ExprTuple\n",
       "   sub-expressions: 8, 8, 8, 8, 8, 9, 10, 9, 10, 9, 10\n",
       "8. a\n",
       "   core type: Variable\n",
       "   sub-expressions: \n",
       "9. b\n",
       "   core type: Variable\n",
       "   sub-expressions: \n",
       "10. c\n",
       "    core type: Variable\n",
       "    sub-expressions: "
      ]
     },
     "execution_count": 4,
     "metadata": {},
     "output_type": "execute_result"
    }
   ],
   "source": [
    "# display the expression information\n",
    "expr.exprInfo()"
   ]
  },
  {
   "cell_type": "code",
   "execution_count": null,
   "metadata": {},
   "outputs": [],
   "source": []
  }
 ],
 "metadata": {
  "kernelspec": {
   "display_name": "Python 3",
   "language": "python",
   "name": "python3"
  }
 },
 "nbformat": 4,
 "nbformat_minor": 0
}
