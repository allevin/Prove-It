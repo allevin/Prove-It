{
 "cells": [
  {
   "cell_type": "markdown",
   "metadata": {},
   "source": [
    "Expression of type <a class=\"ProveItLink\" href=\"../../../../../../doc/html/api/proveit.ExprTuple.html\">ExprTuple</a>\n",
    "=======================\n",
    "# from context <a class=\"ProveItLink\" href=\"../../_context_.ipynb\">proveit.number.addition</a>"
   ]
  },
  {
   "cell_type": "code",
   "execution_count": 1,
   "metadata": {},
   "outputs": [],
   "source": [
    "# import Expression classes needed to build the expression\n",
    "from proveit import ExprTuple\n",
    "from proveit._common_ import a, b, c\n",
    "from proveit.number import Add, four, three, two, zero"
   ]
  },
  {
   "cell_type": "code",
   "execution_count": 2,
   "metadata": {},
   "outputs": [
    {
     "data": {
      "text/html": [
       "<strong id=\"expr\">expr:</strong> <a class=\"ProveItLink\" href=\"expr.ipynb\"><img src=\"data:image/png;base64,iVBORw0KGgoAAAANSUhEUgAAAoEAAAAVBAMAAADLFSn3AAAAMFBMVEX////c3NwiIiJERESqqqqY\n",
       "mJh2dnZmZmYQEBDu7u4yMjJUVFTMzMyIiIi6uroAAAAs73DqAAAAAXRSTlMAQObYZgAAA/1JREFU\n",
       "WMPtmEtoE0EYx/+b5rVJm0RBPPTQgqCCSnvQoxq89KCl8eJRgocIihIUK1SkVkVUfKwXEYo0+DiY\n",
       "HsxBwQfBgKCCB4MHX7UaPIkojTatBqpx8ths5rE7mzYHhc4hyf7y8Z//9+3szOwAi22hLZBdrMG8\n",
       "287yx3Ng+dAm5p8nsfVc9PNWdKkefZ2RhIwel4EFNuXw9VzT6ar3ugXAU07mFpQUPobpPuKY4obm\n",
       "ila4d+TUtbKYcSlYWOtER6H5dH0pEUgAHVn4NTjyVXqp+uUuINhNERJ4AgypN56oIRPwEngnCUHB\n",
       "DFh2eUkKdL37QA9FbKUbDIvADsCrwXsG/j9V2l/9chqS/brksutgSL3xxJk1AWuAqZB1SKBoBiy7\n",
       "7JcCXe+0hke5RmIr3SlNBK4AX8hwLMLzh+1VH9Z1Em1JBX8CL8LWIe5uM9CiCt7WMJxjPMjT3QUR\n",
       "aAtjsDo9Fdlex5l4V4iVVNL7R8yIbk2NTWYagTJLKpi1DIEvPRERA3S++hySmajrcaDhnvVoDJGn\n",
       "Oz55VwDccdysXL2I0v+270kxAlfBSn4OteXNiG7tWc7XzVUwahmCsV7MiUFgBJulJup6HDDq1T5L\n",
       "27SRrjqNYIYHzgQuVC75J/RNjiZRNkaZgafXjNSsqefRFrGuIBeCAQ2nxKArgoMyE4YeB4wK+nrZ\n",
       "yUaarrMIb5QHgWOoTIC6i4YKeunn2plhJf15OLJmpGbNn2fmIP4p5kIwVJktReARsM6GCZgAo14H\n",
       "OSJN15NAMM6D9ny1ghNVp8nk6mSyPCMoGbTNUORybZwaJNiLsYyQeJLJa2eTyVSFgAKVlSRiHbIK\n",
       "gRkBIG0a6pwNExCBBj10pGhiJ10H2TNGeEAqeLJc8TiWUAUfK1YlDbL14cNfaYp0ZTEAzYTUbm5X\n",
       "VrCbGQhZhxTgKQqB8hvOvCo3AYhBfcT1QaE82EmX7P6GNR6Qp3gDuXgKbKfDE3B8Z5/rE7SzsTAe\n",
       "ODMmpGYtSO4aPQe9rG8LTEPm9AmHAsS9WoA/sU1iwtDjQH3diJOllvJgI12yapwSAFcCu8m9XRnb\n",
       "TW8oOyKYikokfRHnKrcZ0Se5ONz0TsIRVs9JQu7gCDig/iA/bmJLPCoxYehxQNdbGosdoHqwk64/\n",
       "7EkJANnNfCJZlUolZkved/gGu7bsLR2il8H0h8cfzIhudnDyLbNBHJzISEJGX0d4oF4ko6Zz8uvG\n",
       "nMSEoccBXa+nVPpBExvpqulDEABfDt5Qk1v9hb2TNBNCgUCoZe8kVqRZXfJW54o2gm+cwPwId+jI\n",
       "n0LKQyjgatrENzTvoWndfZXTrf+iuf5JV2qiclr2X7R/8yTdX55blMVT/vm398BfTWQPROkBlAEA\n",
       "AAAASUVORK5CYII=\n",
       "\" style=\"display:inline;vertical-align:middle;\" /></a><br>"
      ],
      "text/plain": [
       "expr: (2 + 3 + 4 + a + a + c + 0 + c + b + b , a + a + c + c + 2 + 3 + 4 + b + b)"
      ]
     },
     "execution_count": 2,
     "metadata": {},
     "output_type": "execute_result"
    }
   ],
   "source": [
    "# build up the expression from sub-expressions\n",
    "expr = ExprTuple(Add(two, three, four, a, a, c, zero, c, b, b), Add(a, a, c, c, two, three, four, b, b))"
   ]
  },
  {
   "cell_type": "code",
   "execution_count": 3,
   "metadata": {},
   "outputs": [
    {
     "name": "stdout",
     "output_type": "stream",
     "text": [
      "Passed sanity check: built 'expr' is the same as the stored Expression.\n"
     ]
    }
   ],
   "source": [
    "# check that the built expression is the same as the stored expression\n",
    "%check_expr"
   ]
  },
  {
   "cell_type": "code",
   "execution_count": 4,
   "metadata": {},
   "outputs": [
    {
     "data": {
      "text/html": [
       "<table><tr><th>&nbsp;</th><th>core type</th><th>sub-expressions</th><th>expression</th></tr>\n",
       "<tr><td>0</td><td>ExprTuple</td><td>1, 2</td><td><a class=\"ProveItLink\" href=\"expr.ipynb\"><img src=\"data:image/png;base64,iVBORw0KGgoAAAANSUhEUgAAAoEAAAAVBAMAAADLFSn3AAAAMFBMVEX////c3NwiIiJERESqqqqY\n",
       "mJh2dnZmZmYQEBDu7u4yMjJUVFTMzMyIiIi6uroAAAAs73DqAAAAAXRSTlMAQObYZgAAA/1JREFU\n",
       "WMPtmEtoE0EYx/+b5rVJm0RBPPTQgqCCSnvQoxq89KCl8eJRgocIihIUK1SkVkVUfKwXEYo0+DiY\n",
       "HsxBwQfBgKCCB4MHX7UaPIkojTatBqpx8ths5rE7mzYHhc4hyf7y8Z//9+3szOwAi22hLZBdrMG8\n",
       "287yx3Ng+dAm5p8nsfVc9PNWdKkefZ2RhIwel4EFNuXw9VzT6ar3ugXAU07mFpQUPobpPuKY4obm\n",
       "ila4d+TUtbKYcSlYWOtER6H5dH0pEUgAHVn4NTjyVXqp+uUuINhNERJ4AgypN56oIRPwEngnCUHB\n",
       "DFh2eUkKdL37QA9FbKUbDIvADsCrwXsG/j9V2l/9chqS/brksutgSL3xxJk1AWuAqZB1SKBoBiy7\n",
       "7JcCXe+0hke5RmIr3SlNBK4AX8hwLMLzh+1VH9Z1Em1JBX8CL8LWIe5uM9CiCt7WMJxjPMjT3QUR\n",
       "aAtjsDo9Fdlex5l4V4iVVNL7R8yIbk2NTWYagTJLKpi1DIEvPRERA3S++hySmajrcaDhnvVoDJGn\n",
       "Oz55VwDccdysXL2I0v+270kxAlfBSn4OteXNiG7tWc7XzVUwahmCsV7MiUFgBJulJup6HDDq1T5L\n",
       "27SRrjqNYIYHzgQuVC75J/RNjiZRNkaZgafXjNSsqefRFrGuIBeCAQ2nxKArgoMyE4YeB4wK+nrZ\n",
       "yUaarrMIb5QHgWOoTIC6i4YKeunn2plhJf15OLJmpGbNn2fmIP4p5kIwVJktReARsM6GCZgAo14H\n",
       "OSJN15NAMM6D9ny1ghNVp8nk6mSyPCMoGbTNUORybZwaJNiLsYyQeJLJa2eTyVSFgAKVlSRiHbIK\n",
       "gRkBIG0a6pwNExCBBj10pGhiJ10H2TNGeEAqeLJc8TiWUAUfK1YlDbL14cNfaYp0ZTEAzYTUbm5X\n",
       "VrCbGQhZhxTgKQqB8hvOvCo3AYhBfcT1QaE82EmX7P6GNR6Qp3gDuXgKbKfDE3B8Z5/rE7SzsTAe\n",
       "ODMmpGYtSO4aPQe9rG8LTEPm9AmHAsS9WoA/sU1iwtDjQH3diJOllvJgI12yapwSAFcCu8m9XRnb\n",
       "TW8oOyKYikokfRHnKrcZ0Se5ONz0TsIRVs9JQu7gCDig/iA/bmJLPCoxYehxQNdbGosdoHqwk64/\n",
       "7EkJANnNfCJZlUolZkved/gGu7bsLR2il8H0h8cfzIhudnDyLbNBHJzISEJGX0d4oF4ko6Zz8uvG\n",
       "nMSEoccBXa+nVPpBExvpqulDEABfDt5Qk1v9hb2TNBNCgUCoZe8kVqRZXfJW54o2gm+cwPwId+jI\n",
       "n0LKQyjgatrENzTvoWndfZXTrf+iuf5JV2qiclr2X7R/8yTdX55blMVT/vm398BfTWQPROkBlAEA\n",
       "AAAASUVORK5CYII=\n",
       "\" style=\"display:inline;vertical-align:middle;\" /></a></td></tr>\n",
       "<tr><td>1</td><td>Operation</td><td>operator:&nbsp;4<br>operands:&nbsp;3<br></td><td><a class=\"ProveItLink\" href=\"../9ae8443876a8b637f9f9b8d28032566b1182ad4e0/expr.ipynb\"><img src=\"data:image/png;base64,iVBORw0KGgoAAAANSUhEUgAAAUcAAAAQBAMAAAB3m6CjAAAAMFBMVEX///+YmJh2dnbMzMwQEBAi\n",
       "IiLu7u6qqqqIiIhUVFS6urpEREQyMjJmZmbc3NwAAACOMKdoAAAAAXRSTlMAQObYZgAAAqhJREFU\n",
       "SMetls9r02AYx79bbdLFNu2fUCrC1IPBm3gQ/HHZZA70oMhoGB7cxQZEmAdppwy64UBBtAOlBXfw\n",
       "1nrztnnYoSxgJwjKOlYRDz3IulXXwZSatE3N8yS1bDaHNHx4vt98877P+76FvL6SAbk8kRMa2HUa\n",
       "PbiET3NKl5KJi1zzdNS4l+GrUf4d0i4X3+hFSG9GuNKtJs+B/7FxewZEW6FLzd+TGn5SAt9w6+G2\n",
       "c3hKXYkFpoFHnUSWcY2DoDmrF1Skm/MtJpo43g5pEXxZaT1MOkK2azoTC1wHsqUOopaxtMMAsqpx\n",
       "e69iI8OU1nS3SbgnIX8DZ7V/h+wf5SGPtn6jKlM2+sBG+ko8pJw6PsIilR8ssGEaH3xoB/K2ETLh\n",
       "XmIZ+1MzIfqmfPJJYzVvs9edyrMhuAUecqF0uEJrpBEsUuIZwrIjZNi9xDKO5VAlQNhD0NwS/Dk+\n",
       "Tb4hSsI8pLyFAFNthrBGyc0E3nQJ2S6xjOMqzhEg7uCQqVlz9tJl0gCiwkMOVOBNUFUauOYg6DLd\n",
       "ad6TxUbn2kBgCcGCMWyNBgzo+vIlXTefvwKLITsZRzNkUdev6rrZC8EcYgpV7UGocsKMzYUTcimx\n",
       "GY9B2iLAW0DW0NyHTBpeqKuNkH/Jvfn5HynyfZsJxEFGW96FWBEYcW5B8ZJ7iWVcQ2CHAGOb3FDh\n",
       "KRiLl3j9MtY7386GqVdMwwtRIZ9Ww8DSHaIyhqSPgOn2huIosYyrzQ60hVTMJv0WiXykyilIfL3z\n",
       "kP6QONZPa97hboGuipfAEQK8mnAe7iWW8XN8Zt2vBYy+iNbr7HwR14saC3msvkpXd2r2zCytKSdf\n",
       "vaWHQmAwSTdg4cOMAvcSy3hiLkRDCqnV/Z4d/3fi7Mt40v0PiJToTl4fRHUgYzv4A6tcCzMqg+7v\n",
       "AAAAAElFTkSuQmCC\n",
       "\" style=\"display:inline;vertical-align:middle;\" /></a></td></tr>\n",
       "<tr><td>2</td><td>Operation</td><td>operator:&nbsp;4<br>operands:&nbsp;5<br></td><td><a class=\"ProveItLink\" href=\"../098f5e08c0f63b0dfe006deb76bc61a04d6e3f6c0/expr.ipynb\"><img src=\"data:image/png;base64,iVBORw0KGgoAAAANSUhEUgAAASQAAAAQBAMAAABNSx/QAAAAMFBMVEX///8yMjKqqqrMzMzu7u4i\n",
       "IiJmZmaYmJhEREQQEBC6urp2dnaIiIhUVFTc3NwAAAD87Fq/AAAAAXRSTlMAQObYZgAAAklJREFU\n",
       "SMetlMFrE1EQxr9NNtt2k2y6h4KX4ILgSWiPipe9itT0VPCU5GAVRLr+A7I3j+LBg63WXAWhhSKI\n",
       "KbigKJYIUUQRUhIQvUljG5uChZik3eR9s5eq2dv78c3s92bmDTCaz1o4UWISLz9zpCpepaP+ZU4I\n",
       "Zu9hZN8PpHaYfId5IFUJn89aVSqyfLwU+ZHeOC74COSZvHDwSwa99ZlkHJlX3OtMxFIsOC6476Je\n",
       "IjI9sDQIsm76TFZdkcZsjc7SSReLJSEJGzcgSU1YeirTJPvDZdWer7ClIQmVerkyw9kvbryUHvOu\n",
       "IOGkDMgtaSlb+cxAq73zgMeN8SZbGpJQea6kzRGIL2FKGIj/FgbOZ0UJ9EBY0veR4avmfOzCasPw\n",
       "yZJCwtAHGPco9EKA27Imvuxtakl0RWpiLUys8QC6WEa6iURAlhRypEw3Zc/r0eG6Fh23R9zKU9KS\n",
       "MYlMgSRFYA8ZH7le8Yq2fdm2e7UOiWHbU3dtu9onIIB9CZCqCvIVuOOpRF87tDQkiQJWSYJ5mG1s\n",
       "B5iGq1ZJIUfmtwNRFOsgUqXTsBrU7I7bt6S0aWur/jBQSXctLXIhd2C0kHPwPjajWlJIGNpNzbPU\n",
       "BsZ43gsYI0v42X2DDdHKCW5cd7aX+Wa7veHSvNh8kmZJIeEsFZDkl/EJWCfwrVy+wtnfwJRvUFpK\n",
       "O4bYEx9wo7eENs9u8osbklB5vfKKgbFR4YrnOx2xq2MLRUeuyvoeFVuvXRX9n33tjWx7/yeJSg6/\n",
       "JxFiBn8N/o2o4A8uP+P4o93SoQAAAABJRU5ErkJggg==\n",
       "\" style=\"display:inline;vertical-align:middle;\" /></a></td></tr>\n",
       "<tr><td>3</td><td>ExprTuple</td><td>9, 10, 11, 7, 7, 8, 6, 8, 12, 12</td><td><a class=\"ProveItLink\" href=\"../2aee08c71e4836febe9f8e3e6ec9fb29471d433c0/expr.ipynb\"><img src=\"data:image/png;base64,iVBORw0KGgoAAAANSUhEUgAAAMIAAAAVBAMAAADm9CyVAAAAMFBMVEX////c3NwiIiJERESqqqqY\n",
       "mJh2dnZmZmYQEBDu7u4yMjJUVFTMzMyIiIi6uroAAAAs73DqAAAAAXRSTlMAQObYZgAAAo5JREFU\n",
       "SMe1lU9oE0EUxr+Nmz+TNGs89VChOdmDijnoUbt4lELWa0+LQnuxWhAqRAUrIoiS7kmKPUSUHkSQ\n",
       "CoJgCQkIevCQRdCKsTV6CiIYNW2JpI2zszP7LxpySSDJb7/3dr6dN29mgcF/FHOAg4dr9OcNMJw7\n",
       "YQtDU2dVERxa6WMEcnWtHJCWrnvhCv0+grSCz/bAw1B2RGYo04dDqEYOBbXHXogDSRMJA6EG0y6o\n",
       "+CXiH/pxeAt8DGpNL4R1xAzEbiGxy7Ss6yBN9uNwEPiRCqxrywvkGr7RmbQQ3RWyqFIk3o/DNlBR\n",
       "/VIk7YOjmLPrKYzjYn1PCwepeH6eayPv6/yB7858YrEt6mD6JMSLVc0D01hmVxXdTnsllomYwqGe\n",
       "2tPg85vHOO+zPB44DrpPQiGDtgdOIc+uHoo5JvN8iuAO0iai3GtUw0WbFk0cCzgICVkDNz1QB1uA\n",
       "qFvzBYP9TQiHRAMhXocScNghBKokJOTY6jhQsR2qPLofGGdFJLpw2JtBgW+q3yBtQZ6V1vzSGJRN\n",
       "D1Rwg7I8i31s3I7BHeTV1dJt9nCjJrJg85J2IDcIJ7dbsym/1ES05YE6K95r2jpslD/AkRSxM2MZ\n",
       "WFRQ8UIuW0SaSNyfYHn02cIM6I47w9JcqY2Y7gImaTdBOjA1nSbWVnsHZQuFtHCwKK7JYxFbW8bJ\n",
       "WZ3lPQfOMQip5I4ddKRnuAwHrG79StM6nU6aLNDZypdyKhZ/smYqbWsWScWNlxu2NrL+/XiN5UVn\n",
       "1g0GZK5atoOOtLSmwQHgCWJi0yvO7v+CXqT0uKE7Rk+NsC6OcmcMrSeF8f8bumMR0zq9B+lwz6ou\n",
       "Z+dVl0QvcvP+cUN37KnVyYN8iybL+AtZidhFqlj0IgAAAABJRU5ErkJggg==\n",
       "\" style=\"display:inline;vertical-align:middle;\" /></a></td></tr>\n",
       "<tr><td>4</td><td>Literal</td><td></td><td><a class=\"ProveItLink\" href=\"../3e6688136fa3c7aefbebe51301b7c3ebf0b69c440/expr.ipynb\"><img src=\"data:image/png;base64,iVBORw0KGgoAAAANSUhEUgAAAA4AAAAOBAMAAADtZjDiAAAAJFBMVEX///+6urpUVFQQEBAiIiIy\n",
       "MjJmZmaIiIiqqqrc3Nzu7u4AAACgHpL+AAAAAXRSTlMAQObYZgAAAB5JREFUCNdjYGBgWMkAAe2k\n",
       "0Kmhoc6hoUGk6BMHYgAHOwjcado9fwAAAABJRU5ErkJggg==\n",
       "\" style=\"display:inline;vertical-align:middle;\" /></a></td></tr>\n",
       "<tr><td>5</td><td>ExprTuple</td><td>7, 7, 8, 8, 9, 10, 11, 12, 12</td><td><a class=\"ProveItLink\" href=\"../9611a7c0505b6ecb2708e0dcbf84f9143cdf61150/expr.ipynb\"><img src=\"data:image/png;base64,iVBORw0KGgoAAAANSUhEUgAAAK8AAAAVBAMAAADC7aNVAAAAMFBMVEX////c3NwiIiJERESqqqqY\n",
       "mJh2dnZmZmYQEBDu7u4yMjJUVFTMzMyIiIi6uroAAAAs73DqAAAAAXRSTlMAQObYZgAAAlpJREFU\n",
       "OMu1lT1oE2EYx/9pL728TS45BHFQUHBwkmZxlB5dOij0JkcJCnHQ6KHUQpdalOKU3lSylByWDtLB\n",
       "LuJHCT0QXFyy6GRK6lREaOwXKrbx/czdBU5uaG+4++V9nvu/7/2f530DnNiVbx6/5k12+5Q0OzW1\n",
       "1BaUK9+21Kh8nby9EALdp/QyqfBZGHuCziB/qEYvyufwahg8wEjsxDtgRNADCzty0HgqoWCF4QaQ\n",
       "cZMKP3exLryYCIRPL0nYdsNQA74nrsgrFzNtVXFlRUkJ30IYBi08ZmVp3J9VRn7ZMgUtVL72AbXC\n",
       "7XM0bSrhldbrEAw5WKa8ZQ525EpmMSorX8WLKFA8kPBxRcIipDDZRcEPQPNQpQveh14U8fM2Hgmq\n",
       "NXElCnSdRbV0oyqdUMLab2RKAeSf4AjIdjAge2MduNyjPoCak13z3BTNV8K6h4ITQK7DhAtF1H0R\n",
       "3wX5qwh9AEO16jlg1Ob2QwkPONi2A6DCz+j3NzEBvoLUIbQOkST3W28rYBwpXljSdaXwtbW1Xw3V\n",
       "vTNuANQK6l/dwnvNZ3pkD1nvOp9kn5Y8CjmHNgGf9Q/tD0EA3SAsSAs2B6IAaQ93aE1s7dIQ6myz\n",
       "L2PMKRHW/W+Ae1E4VS4/FFmfkT8QxIR5MGvpq3yIA2u3b6yNNz5soPaTtXHrx9U2madfrFdabhRG\n",
       "ut0dkaVNTVuCcLc7yYOkMQk+xAHDbWRMZeFmcJKasRDK2kR8kG7pdEn9sHuvpOMhlGX/J1gJH5vH\n",
       "KEw8fszKLg26vxkPQZaB+GCWmZM6gb8memr9A0P7vtpQZHSYAAAAAElFTkSuQmCC\n",
       "\" style=\"display:inline;vertical-align:middle;\" /></a></td></tr>\n",
       "<tr><td>6</td><td>Literal</td><td></td><td><a class=\"ProveItLink\" href=\"../../../numeral/__pv_it/ec23fc7a1b4222a5f4948b495002b97d6fa18c3c0/expr.ipynb\"><img src=\"data:image/png;base64,iVBORw0KGgoAAAANSUhEUgAAAAoAAAAOBAMAAADkjZCYAAAALVBMVEX///8QEBCYmJh2dnaqqqrc\n",
       "3NxUVFQyMjK6uroiIiLMzMyIiIhmZmbu7u4AAAAZjyHdAAAAAXRSTlMAQObYZgAAAEpJREFUCNdj\n",
       "YLiz+xQDA8MMhpsLGLgnMHAXMHAmMHA8ZeA7wMD1hCHOgIHrNZh8jES+Bss+AqlkeQrSxTyBgWEK\n",
       "w8UFDAx3rLMYAMCjFldHSx/9AAAAAElFTkSuQmCC\n",
       "\" style=\"display:inline;vertical-align:middle;\" /></a></td></tr>\n",
       "<tr><td>7</td><td>Variable</td><td></td><td><a class=\"ProveItLink\" href=\"../../../../__pv_it/07527342713064c87612d00d8557c53d53d5324a0/expr.ipynb\"><img src=\"data:image/png;base64,iVBORw0KGgoAAAANSUhEUgAAAAsAAAAJBAMAAAAWSsseAAAAMFBMVEX///8yMjKqqqrMzMzu7u4i\n",
       "IiJmZmaYmJhEREQQEBC6urp2dnaIiIhUVFTc3NwAAAD87Fq/AAAAAXRSTlMAQObYZgAAAEhJREFU\n",
       "CNdjYOC7s2seAwPDygccHxgY+L4zsDUwMPB+YGA9wMDA38Dgb8DA8P4Agz6DA4O/AsNFJgMGxgKm\n",
       "MG6gyjunLE4xAAAZTBA5TB6DCwAAAABJRU5ErkJggg==\n",
       "\" style=\"display:inline;vertical-align:middle;\" /></a></td></tr>\n",
       "<tr><td>8</td><td>Variable</td><td></td><td><a class=\"ProveItLink\" href=\"../../../../__pv_it/cbdfda466482236edba0ce44ac7ef39cda0af7a40/expr.ipynb\"><img src=\"data:image/png;base64,iVBORw0KGgoAAAANSUhEUgAAAAkAAAAJBAMAAAASvxsjAAAALVBMVEX///9mZmbc3NxUVFSYmJhE\n",
       "REQiIiIyMjK6uroQEBDMzMyIiIh2dnbu7u4AAABgFDGoAAAAAXRSTlMAQObYZgAAADZJREFUCNdj\n",
       "YOA9s3sBA8PKBvYEBt7ZDKwODMwPGICALwBE6m0Asx0YGIDiAgw8QJUyu/cyAAAmuwmycZ8WfQAA\n",
       "AABJRU5ErkJggg==\n",
       "\" style=\"display:inline;vertical-align:middle;\" /></a></td></tr>\n",
       "<tr><td>9</td><td>Literal</td><td></td><td><a class=\"ProveItLink\" href=\"../../../numeral/__pv_it/77d407a64829263cdc16415becd4c2293f77a4bf0/expr.ipynb\"><img src=\"data:image/png;base64,iVBORw0KGgoAAAANSUhEUgAAAAkAAAAOBAMAAAAPuiubAAAAMFBMVEX///+YmJh2dnbMzMwQEBAi\n",
       "IiLu7u6qqqqIiIhUVFS6urpEREQyMjJmZmbc3NwAAACOMKdoAAAAAXRSTlMAQObYZgAAAFBJREFU\n",
       "CNdj4Lt7egEDw0sGju8MDNMYGOIZGFwSGOYvYDifwHAfKAEUSQASzJ9ATJ4NIPI2iOCYACJrGfge\n",
       "MDBfYGB8wPBUSekqUPH//18ZAIliFhc3zESNAAAAAElFTkSuQmCC\n",
       "\" style=\"display:inline;vertical-align:middle;\" /></a></td></tr>\n",
       "<tr><td>10</td><td>Literal</td><td></td><td><a class=\"ProveItLink\" href=\"../../../numeral/__pv_it/9176d93c83afa2c995b614976e3cb49207102fa70/expr.ipynb\"><img src=\"data:image/png;base64,iVBORw0KGgoAAAANSUhEUgAAAAoAAAAOBAMAAADkjZCYAAAAMFBMVEX///+YmJju7u4QEBBUVFQy\n",
       "MjIiIiKIiIi6urpmZmbc3NyqqqpERER2dnbMzMwAAAB0GlNiAAAAAXRSTlMAQObYZgAAAE1JREFU\n",
       "CNdjYHh79zQDA9cEhv4CBt7fDPwJDNxgEgiAIkAQAsR8Vx1ATIbiBhDJ/ImB6wEDz0cG/U8gkj+A\n",
       "ge0XA7sAQ/8FBoadM6MZAEflFACalZ/OAAAAAElFTkSuQmCC\n",
       "\" style=\"display:inline;vertical-align:middle;\" /></a></td></tr>\n",
       "<tr><td>11</td><td>Literal</td><td></td><td><a class=\"ProveItLink\" href=\"../../../numeral/__pv_it/23412ce59ea7e77353d2f9225e02248e73651ca00/expr.ipynb\"><img src=\"data:image/png;base64,iVBORw0KGgoAAAANSUhEUgAAAAoAAAAPBAMAAAAv0UM9AAAALVBMVEX///9mZmaqqqru7u52dnYy\n",
       "MjKYmJjc3NwQEBCIiIhEREQiIiJUVFTMzMwAAACUDTcXAAAAAXRSTlMAQObYZgAAAD5JREFUCNdj\n",
       "YGBguMMAArtABGcXiCyLApEOIJKtAERaMoBIBxDJdAFEmjCASJ0zZ16cBCkF64KQPu/EwBwGACv6\n",
       "DSRgin9qAAAAAElFTkSuQmCC\n",
       "\" style=\"display:inline;vertical-align:middle;\" /></a></td></tr>\n",
       "<tr><td>12</td><td>Variable</td><td></td><td><a class=\"ProveItLink\" href=\"../../../../__pv_it/6840a4fa6c106149dc16a131294d0c5e44f1b0480/expr.ipynb\"><img src=\"data:image/png;base64,iVBORw0KGgoAAAANSUhEUgAAAAkAAAAOBAMAAAAPuiubAAAALVBMVEX///9mZmbMzMxERESYmJiI\n",
       "iIh2dna6urqqqqoyMjIiIiIQEBBUVFTu7u4AAAD9S1JeAAAAAXRSTlMAQObYZgAAAE1JREFUCNdj\n",
       "4D29gAEIOA+ASL4GEFl3AURmgQiGOaFHGBh4HzPwKTBwvGXgTmBgnMDAJ8DAJcBQ5wBSLncBJLWN\n",
       "gYGngRFoBO9REQYGAGrcDtUkVqASAAAAAElFTkSuQmCC\n",
       "\" style=\"display:inline;vertical-align:middle;\" /></a></td></tr>\n",
       "</table>\n"
      ],
      "text/plain": [
       "0. (2 + 3 + 4 + a + a + c + 0 + c + b + b , a + a + c + c + 2 + 3 + 4 + b + b)\n",
       "   core type: ExprTuple\n",
       "   sub-expressions: 1, 2\n",
       "1. 2 + 3 + 4 + a + a + c + 0 + c + b + b\n",
       "   core type: Operation\n",
       "   operator: 4\n",
       "   operands: 3\n",
       "2. a + a + c + c + 2 + 3 + 4 + b + b\n",
       "   core type: Operation\n",
       "   operator: 4\n",
       "   operands: 5\n",
       "3. (2 , 3 , 4 , a , a , c , 0 , c , b , b)\n",
       "   core type: ExprTuple\n",
       "   sub-expressions: 9, 10, 11, 7, 7, 8, 6, 8, 12, 12\n",
       "4. +\n",
       "   core type: Literal\n",
       "   sub-expressions: \n",
       "5. (a , a , c , c , 2 , 3 , 4 , b , b)\n",
       "   core type: ExprTuple\n",
       "   sub-expressions: 7, 7, 8, 8, 9, 10, 11, 12, 12\n",
       "6. 0\n",
       "   core type: Literal\n",
       "   sub-expressions: \n",
       "7. a\n",
       "   core type: Variable\n",
       "   sub-expressions: \n",
       "8. c\n",
       "   core type: Variable\n",
       "   sub-expressions: \n",
       "9. 2\n",
       "   core type: Literal\n",
       "   sub-expressions: \n",
       "10. 3\n",
       "    core type: Literal\n",
       "    sub-expressions: \n",
       "11. 4\n",
       "    core type: Literal\n",
       "    sub-expressions: \n",
       "12. b\n",
       "    core type: Variable\n",
       "    sub-expressions: "
      ]
     },
     "execution_count": 4,
     "metadata": {},
     "output_type": "execute_result"
    }
   ],
   "source": [
    "# display the expression information\n",
    "expr.exprInfo()"
   ]
  },
  {
   "cell_type": "code",
   "execution_count": null,
   "metadata": {},
   "outputs": [],
   "source": []
  }
 ],
 "metadata": {
  "kernelspec": {
   "display_name": "Python 3",
   "language": "python",
   "name": "python3"
  }
 },
 "nbformat": 4,
 "nbformat_minor": 0
}
