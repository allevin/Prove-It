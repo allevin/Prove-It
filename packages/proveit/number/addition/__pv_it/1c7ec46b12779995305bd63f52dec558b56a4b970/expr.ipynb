{
 "cells": [
  {
   "cell_type": "markdown",
   "metadata": {},
   "source": [
    "Expression of type <a class=\"ProveItLink\" href=\"../../../../../../doc/html/api/proveit.ExprTuple.html\">ExprTuple</a>\n",
    "=======================\n",
    "# from context <a class=\"ProveItLink\" href=\"../../_context_.ipynb\">proveit.number.addition</a>"
   ]
  },
  {
   "cell_type": "code",
   "execution_count": 1,
   "metadata": {},
   "outputs": [],
   "source": [
    "# import Expression classes needed to build the expression\n",
    "from proveit import ExprTuple\n",
    "from proveit._common_ import l\n",
    "from proveit.logic import InSet\n",
    "from proveit.number import Naturals"
   ]
  },
  {
   "cell_type": "code",
   "execution_count": 2,
   "metadata": {},
   "outputs": [
    {
     "data": {
      "text/html": [
       "<strong id=\"expr\">expr:</strong> <a class=\"ProveItLink\" href=\"expr.ipynb\"><img src=\"data:image/png;base64,iVBORw0KGgoAAAANSUhEUgAAADsAAAAVBAMAAAAKrYvGAAAAMFBMVEX////c3NwiIiJERESqqqqY\n",
       "mJh2dnZmZmYQEBDu7u4yMjJUVFTMzMyIiIi6uroAAAAs73DqAAAAAXRSTlMAQObYZgAAATxJREFU\n",
       "KM+Fkr9Lw0AcxV9pY3smrZ11EPIHSJcOOkh2l06Ci1YXJ0EcOolkcFWCLtIpCA7Ziq5BAkJBu2QW\n",
       "BXGSTkUXBxHf3aU/MhweJPDeJ9/v9+7lgH9WLTWRbfkaAHu/Obv7tRbg6NMrJxQRYI3yZU2nAdAL\n",
       "gSp7l8M8vk1eAR/YBCoBHz1ePLuu+vA+shOJr4Ah5XKi8NNWVh0PRCRx0UOHckeZhdVx87iUPkg8\n",
       "d4gbyjtlFusTjBMrJS6FOKc8U+YlptgOYuKaDx7Z+VHmh+tmW4shel1iZyRx1UeWz6QafUfjUw7t\n",
       "BdK8mMWW11DNm8BCqy1NuzWDsUtshdgnflSxiJUxXodOkgd75+yOao7FY02H36wUxPNvqNSnWW9c\n",
       "u7n0GarVNl+FA/1DDUv2x5IR23JuwXiZXoA/rKpPMblEkDEAAAAASUVORK5CYII=\n",
       "\" style=\"display:inline;vertical-align:middle;\" /></a><br>"
      ],
      "text/plain": [
       "expr: (l in Naturals)"
      ]
     },
     "execution_count": 2,
     "metadata": {},
     "output_type": "execute_result"
    }
   ],
   "source": [
    "# build up the expression from sub-expressions\n",
    "expr = ExprTuple(InSet(l, Naturals))"
   ]
  },
  {
   "cell_type": "code",
   "execution_count": 3,
   "metadata": {},
   "outputs": [
    {
     "name": "stdout",
     "output_type": "stream",
     "text": [
      "Passed sanity check: built 'expr' is the same as the stored Expression.\n"
     ]
    }
   ],
   "source": [
    "# check that the built expression is the same as the stored expression\n",
    "%check_expr"
   ]
  },
  {
   "cell_type": "code",
   "execution_count": 4,
   "metadata": {},
   "outputs": [
    {
     "data": {
      "text/html": [
       "<table><tr><th>&nbsp;</th><th>core type</th><th>sub-expressions</th><th>expression</th></tr>\n",
       "<tr><td>0</td><td>ExprTuple</td><td>1</td><td><a class=\"ProveItLink\" href=\"expr.ipynb\"><img src=\"data:image/png;base64,iVBORw0KGgoAAAANSUhEUgAAADsAAAAVBAMAAAAKrYvGAAAAMFBMVEX////c3NwiIiJERESqqqqY\n",
       "mJh2dnZmZmYQEBDu7u4yMjJUVFTMzMyIiIi6uroAAAAs73DqAAAAAXRSTlMAQObYZgAAATxJREFU\n",
       "KM+Fkr9Lw0AcxV9pY3smrZ11EPIHSJcOOkh2l06Ci1YXJ0EcOolkcFWCLtIpCA7Ziq5BAkJBu2QW\n",
       "BXGSTkUXBxHf3aU/MhweJPDeJ9/v9+7lgH9WLTWRbfkaAHu/Obv7tRbg6NMrJxQRYI3yZU2nAdAL\n",
       "gSp7l8M8vk1eAR/YBCoBHz1ePLuu+vA+shOJr4Ah5XKi8NNWVh0PRCRx0UOHckeZhdVx87iUPkg8\n",
       "d4gbyjtlFusTjBMrJS6FOKc8U+YlptgOYuKaDx7Z+VHmh+tmW4shel1iZyRx1UeWz6QafUfjUw7t\n",
       "BdK8mMWW11DNm8BCqy1NuzWDsUtshdgnflSxiJUxXodOkgd75+yOao7FY02H36wUxPNvqNSnWW9c\n",
       "u7n0GarVNl+FA/1DDUv2x5IR23JuwXiZXoA/rKpPMblEkDEAAAAASUVORK5CYII=\n",
       "\" style=\"display:inline;vertical-align:middle;\" /></a></td></tr>\n",
       "<tr><td>1</td><td>Operation</td><td>operator:&nbsp;2<br>operands:&nbsp;3<br></td><td><a class=\"ProveItLink\" href=\"../64e535aef093dcb10c507c6cb477ae75dea4e4010/expr.ipynb\"><img src=\"data:image/png;base64,iVBORw0KGgoAAAANSUhEUgAAAC8AAAAPBAMAAACGpYupAAAAMFBMVEX///+qqqru7u5ERERUVFTM\n",
       "zMzc3NyIiIgQEBAyMjJmZmaYmJi6uroiIiJ2dnYAAAD2HuJxAAAAAXRSTlMAQObYZgAAAMpJREFU\n",
       "GNNjYHj7hwEZaH62VGBY+1eAgYH7A4oEgzWrAQMDSIxrAqqEb0A5A0MDkMFRAOYzVd69C1biM4kl\n",
       "ACyRHwCWiNwE1eEawjQJLLEfzGUzghnlylgQDJZwBnOZE+ASDGu4C0AS7WCuMgNCgkXBFSjB+hXM\n",
       "PXH3LtRyVwYmB02gBHsDWCIESQdDHCtQkNlBAcTVRZbgFgD6kX/DAxCXZQOSBMMzkEQQ2INMd2AS\n",
       "NtDQYF8HNoohcylE/OQPoGom5GASmXsXmQsAYJQvwhilJ90AAAAASUVORK5CYII=\n",
       "\" style=\"display:inline;vertical-align:middle;\" /></a></td></tr>\n",
       "<tr><td>2</td><td>Literal</td><td></td><td><a class=\"ProveItLink\" href=\"../../../../logic/set_theory/membership/__pv_it/088cbc857536a28d4119ad9639a84270ccb0545d0/expr.ipynb\"><img src=\"data:image/png;base64,iVBORw0KGgoAAAANSUhEUgAAAAwAAAAMBAMAAACkW0HUAAAALVBMVEX///+qqqpmZmZUVFQQEBC6\n",
       "urpERETc3NyYmJjMzMwiIiIyMjKIiIju7u4AAACYsrA9AAAAAXRSTlMAQObYZgAAADxJREFUCNdj\n",
       "YOA9vWrVBgaG2b0MQMCeCyIZ2ArA1DUwyRCyahVIyWQI7xaEYm4AU7xLIdxqTQgtvGvVBgCkcQ7e\n",
       "geM/tQAAAABJRU5ErkJggg==\n",
       "\" style=\"display:inline;vertical-align:middle;\" /></a></td></tr>\n",
       "<tr><td>3</td><td>ExprTuple</td><td>4, 5</td><td><a class=\"ProveItLink\" href=\"../3347bdce109d6da835cc0d23ee853827764f35d20/expr.ipynb\"><img src=\"data:image/png;base64,iVBORw0KGgoAAAANSUhEUgAAACsAAAAVBAMAAAAtAwouAAAAMFBMVEX////c3NwiIiJERESqqqqY\n",
       "mJh2dnZmZmYQEBDu7u4yMjJUVFTMzMyIiIi6uroAAAAs73DqAAAAAXRSTlMAQObYZgAAARFJREFU\n",
       "GNN10bFKw1AUxvG/2NjGJNXdQR+hSxcHySN0ctTq4iSIQ0fJ4KpkLF3M4pCt6BokIAjSJQ+goI5O\n",
       "VRcHEb+bG0OpGEi458fhu+fewD9Pu5iXHfOZwP53WY4+NmOO38NmriIFZ2rbun4HtE4gUEYzsXyV\n",
       "P0IE29CK9VbxN6mXGx7Cq8r13HI2cVPDiyEDlbvVCFmjuDW8dMSlyutf5sQpxI2Ec5VnNXtxJm5H\n",
       "aGT/q2Z3PBL7U8NBVDN3vuVTbTyOa3bCThnShZVeH7di9sROwoH4vuBiQ7SFPbEGfFH2IGb4ppN9\n",
       "qtMVLz/RWrW5zzM3q8M7fbvszfChvdg5NjmslctgptkzuQt/ftoD/AC1xEkCgajAEgAAAABJRU5E\n",
       "rkJggg==\n",
       "\" style=\"display:inline;vertical-align:middle;\" /></a></td></tr>\n",
       "<tr><td>4</td><td>Variable</td><td></td><td><a class=\"ProveItLink\" href=\"../../../../__pv_it/3e5d49a51123592869b160296a6e123a424e07a70/expr.ipynb\"><img src=\"data:image/png;base64,iVBORw0KGgoAAAANSUhEUgAAAAYAAAAOBAMAAAD+sXAWAAAALVBMVEX////u7u5ERERUVFTMzMzc\n",
       "3NyIiIgQEBAyMjJmZmaYmJi6uroiIiJ2dnYAAACuOh6BAAAAAXRSTlMAQObYZgAAAD9JREFUCNdj\n",
       "YLjzmoGB6wEDA2cDAwN7AgNDnAMDwzoGBgYjIC5jYGB5wsDAVsDAwGQgwMC34AIDn2MCA9tcAQAo\n",
       "GAoWIEgceAAAAABJRU5ErkJggg==\n",
       "\" style=\"display:inline;vertical-align:middle;\" /></a></td></tr>\n",
       "<tr><td>5</td><td>Literal</td><td></td><td><a class=\"ProveItLink\" href=\"../../../sets/integer/__pv_it/e5d9bd86b06b357eee742ad868997123619e09700/expr.ipynb\"><img src=\"data:image/png;base64,iVBORw0KGgoAAAANSUhEUgAAAA8AAAAOBAMAAAACpFvcAAAAMFBMVEX////c3Nx2dna6uroQEBCI\n",
       "iIhUVFTMzMyYmJiqqqoiIiJmZmZEREQyMjLu7u4AAADjlg78AAAAAXRSTlMAQObYZgAAAGBJREFU\n",
       "CNdjePvn7AOGXb8mMDCcYD/AwPCBgYEhqyCUgcEByEi+x1YAZqSX8d2DMDgDaiAMhs0cARAG24N0\n",
       "CIMv4S2EwVDEDmVwTDgAYTAoghiHgZj7AgOD7Rcgj+8CAwA9oh2B0HK+MAAAAABJRU5ErkJggg==\n",
       "\" style=\"display:inline;vertical-align:middle;\" /></a></td></tr>\n",
       "</table>\n"
      ],
      "text/plain": [
       "0. (l in Naturals)\n",
       "   core type: ExprTuple\n",
       "   sub-expressions: 1\n",
       "1. l in Naturals\n",
       "   core type: Operation\n",
       "   operator: 2\n",
       "   operands: 3\n",
       "2. in\n",
       "   core type: Literal\n",
       "   sub-expressions: \n",
       "3. (l , Naturals)\n",
       "   core type: ExprTuple\n",
       "   sub-expressions: 4, 5\n",
       "4. l\n",
       "   core type: Variable\n",
       "   sub-expressions: \n",
       "5. Naturals\n",
       "   core type: Literal\n",
       "   sub-expressions: "
      ]
     },
     "execution_count": 4,
     "metadata": {},
     "output_type": "execute_result"
    }
   ],
   "source": [
    "# display the expression information\n",
    "expr.exprInfo()"
   ]
  },
  {
   "cell_type": "code",
   "execution_count": null,
   "metadata": {},
   "outputs": [],
   "source": []
  }
 ],
 "metadata": {
  "kernelspec": {
   "display_name": "Python 3",
   "language": "python",
   "name": "python3"
  }
 },
 "nbformat": 4,
 "nbformat_minor": 0
}
