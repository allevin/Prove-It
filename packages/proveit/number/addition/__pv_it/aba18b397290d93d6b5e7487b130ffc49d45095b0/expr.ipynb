{
 "cells": [
  {
   "cell_type": "markdown",
   "metadata": {},
   "source": [
    "Expression of type <a class=\"ProveItLink\" href=\"../../../../../../doc/html/api/proveit.ExprTuple.html\">ExprTuple</a>\n",
    "=======================\n",
    "# from context <a class=\"ProveItLink\" href=\"../../_context_.ipynb\">proveit.number.addition</a>"
   ]
  },
  {
   "cell_type": "code",
   "execution_count": 1,
   "metadata": {},
   "outputs": [],
   "source": [
    "# import Expression classes needed to build the expression\n",
    "from proveit import ExprTuple\n",
    "from proveit.number import Complexes, Exp, zero"
   ]
  },
  {
   "cell_type": "code",
   "execution_count": 2,
   "metadata": {},
   "outputs": [
    {
     "data": {
      "text/html": [
       "<strong id=\"expr\">expr:</strong> <a class=\"ProveItLink\" href=\"expr.ipynb\"><img src=\"data:image/png;base64,iVBORw0KGgoAAAANSUhEUgAAAEAAAAAcBAMAAAAjC6RhAAAAMFBMVEX///+qqqp2dnYiIiJERESI\n",
       "iIhmZmYQEBDc3NyYmJgyMjLu7u5UVFTMzMy6uroAAACGxKilAAAAAXRSTlMAQObYZgAAAZZJREFU\n",
       "KM+FkztLw1AUx/+xJm2S5vERsnS2k4gg6iKIDkUpDlZwr0PBRRChgy5OUZwlk5NgBrXg0g5ddBBx\n",
       "cBIs2IKD2DpZ0Irn5KFtTfXCPffk3B/neQMMWEOpVfy5FvAcqi+RwAQMFxZrWiXqXn1HzMQ9qxdu\n",
       "FKARkIGYIfWSvxs47AV0D8AYkCj4YaSb8E4cP1mf8T0gB0hcjUJhnNB5s6aO5NQ24iZQdhGvkTFL\n",
       "ez8AbIopfGALRhGI2Xhg4ybtkn8vuxxzjfpQp1OawhJnxO6HTQ+QElz2GcRsnvEWrtjIDRnyW3uu\n",
       "W73FzHOONgnBz/JWsLvb0cERHV6iesEH9G4g8YlROgwGtJZnOtW6Q6ivvwDFrfR6OOYQ5k8I2WJA\n",
       "DYEOqlwhh5Ud3zzbIPEYTFBvYzGskEQ5TWeyuqzW5wIP1Icmc3yh1FBqs/Fu8u36++E5MHiKG0Gr\n",
       "n/qfhZJB0goGleJB9QPlIrS0P27ViQIOaE9zNRUkabhixNMFdlnZwUrUy5S5PMEa/HNse3JvMJDH\n",
       "/+sLHLthHGGKduYAAAAASUVORK5CYII=\n",
       "\" style=\"display:inline;vertical-align:middle;\" /></a><br>"
      ],
      "text/plain": [
       "expr: (() , Complexes^{0})"
      ]
     },
     "execution_count": 2,
     "metadata": {},
     "output_type": "execute_result"
    }
   ],
   "source": [
    "# build up the expression from sub-expressions\n",
    "expr = ExprTuple([], Exp(Complexes, zero))"
   ]
  },
  {
   "cell_type": "code",
   "execution_count": 3,
   "metadata": {},
   "outputs": [
    {
     "name": "stdout",
     "output_type": "stream",
     "text": [
      "Passed sanity check: built 'expr' is the same as the stored Expression.\n"
     ]
    }
   ],
   "source": [
    "# check that the built expression is the same as the stored expression\n",
    "%check_expr"
   ]
  },
  {
   "cell_type": "code",
   "execution_count": 4,
   "metadata": {},
   "outputs": [
    {
     "data": {
      "text/html": [
       "<table><tr><th>&nbsp;</th><th>core type</th><th>sub-expressions</th><th>expression</th></tr>\n",
       "<tr><td>0</td><td>ExprTuple</td><td>1, 2</td><td><a class=\"ProveItLink\" href=\"expr.ipynb\"><img src=\"data:image/png;base64,iVBORw0KGgoAAAANSUhEUgAAAEAAAAAcBAMAAAAjC6RhAAAAMFBMVEX///+qqqp2dnYiIiJERESI\n",
       "iIhmZmYQEBDc3NyYmJgyMjLu7u5UVFTMzMy6uroAAACGxKilAAAAAXRSTlMAQObYZgAAAZZJREFU\n",
       "KM+FkztLw1AUx/+xJm2S5vERsnS2k4gg6iKIDkUpDlZwr0PBRRChgy5OUZwlk5NgBrXg0g5ddBBx\n",
       "cBIs2IKD2DpZ0Irn5KFtTfXCPffk3B/neQMMWEOpVfy5FvAcqi+RwAQMFxZrWiXqXn1HzMQ9qxdu\n",
       "FKARkIGYIfWSvxs47AV0D8AYkCj4YaSb8E4cP1mf8T0gB0hcjUJhnNB5s6aO5NQ24iZQdhGvkTFL\n",
       "ez8AbIopfGALRhGI2Xhg4ybtkn8vuxxzjfpQp1OawhJnxO6HTQ+QElz2GcRsnvEWrtjIDRnyW3uu\n",
       "W73FzHOONgnBz/JWsLvb0cERHV6iesEH9G4g8YlROgwGtJZnOtW6Q6ivvwDFrfR6OOYQ5k8I2WJA\n",
       "DYEOqlwhh5Ud3zzbIPEYTFBvYzGskEQ5TWeyuqzW5wIP1Icmc3yh1FBqs/Fu8u36++E5MHiKG0Gr\n",
       "n/qfhZJB0goGleJB9QPlIrS0P27ViQIOaE9zNRUkabhixNMFdlnZwUrUy5S5PMEa/HNse3JvMJDH\n",
       "/+sLHLthHGGKduYAAAAASUVORK5CYII=\n",
       "\" style=\"display:inline;vertical-align:middle;\" /></a></td></tr>\n",
       "<tr><td>1</td><td>ExprTuple</td><td></td><td><a class=\"ProveItLink\" href=\"../feb17bb8e989ce470672228f3fb01ca3e9677f560/expr.ipynb\"><img src=\"data:image/png;base64,iVBORw0KGgoAAAANSUhEUgAAAAwAAAAVBAMAAACAghKHAAAAMFBMVEX////c3NwiIiJERESqqqqY\n",
       "mJh2dnZmZmYQEBDu7u4yMjJUVFTMzMyIiIi6uroAAAAs73DqAAAAAXRSTlMAQObYZgAAAG1JREFU\n",
       "CNdjYIACvgusD4DUaQaGGiC1koGBi4GB9wIDA2sCA8cEBgbOBoZXIGUmDGUgKp1hKYjyYugDUS8Y\n",
       "/oGo8zCqBSJoCqKigGrBGh6BqHUMHAJgw4DGMrBdAFs0CyguzcCwEUgxXuA9wAAApdcX/S64IkwA\n",
       "AAAASUVORK5CYII=\n",
       "\" style=\"display:inline;vertical-align:middle;\" /></a></td></tr>\n",
       "<tr><td>2</td><td>Operation</td><td>operator:&nbsp;3<br>operands:&nbsp;4<br></td><td><a class=\"ProveItLink\" href=\"../b58feadfdcd4989ff51de1dec1b2267c71ab09b90/expr.ipynb\"><img src=\"data:image/png;base64,iVBORw0KGgoAAAANSUhEUgAAABcAAAAUBAMAAACUkLs9AAAAMFBMVEX////c3NyqqqqYmJhUVFR2\n",
       "dnbu7u66urrMzMxmZmZEREQQEBAyMjIiIiKIiIgAAAB7fvZ0AAAAAXRSTlMAQObYZgAAAJRJREFU\n",
       "GNNjYIAC1rgJDHDwlKEEwbnBwJ8AY7N9Y+BVgHE4gJwHMA47lMN35/zelVAZjvoCtvgnbB8ZuIF6\n",
       "DJwZGJi+MOxg4BdgYE7YAFQ6BWhPFQMDJ6MDkJPHwPduGgNDJnsAwuZWJgMkDjsSJ4sDSRlPggOC\n",
       "wxwA4rBBeYvrgEQt1PksXs/YqpbBFHbe/+0OYQEApIYjyhktiYsAAAAASUVORK5CYII=\n",
       "\" style=\"display:inline;vertical-align:middle;\" /></a></td></tr>\n",
       "<tr><td>3</td><td>Literal</td><td></td><td><a class=\"ProveItLink\" href=\"../../../exponentiation/__pv_it/deb2bf23cbccdd6e6791e1b35b5b9794ce12dbd50/expr.ipynb\"><img src=\"data:image/png;base64,iVBORw0KGgoAAAANSUhEUgAAACgAAAASBAMAAADbMYGVAAAAMFBMVEX///8QEBAiIiKYmJjc3Nzu\n",
       "7u7MzMx2dnZmZma6urpERESqqqoyMjJUVFSIiIgAAAAoDOMTAAAAAXRSTlMAQObYZgAAAOBJREFU\n",
       "GNNjYGB4+//u3Tt/GNAASGAXmhjnPyDBgSbI/g1IxKEJ8nxgYGdgQRPkX8BgDKRY6q7s62OYvmze\n",
       "2wAgb/7ZO1+AVDiDkYEQQ0HTBr4DQF59AgOIKmB4z7CNbcNZBu6vQN55kEACQwDDLQYGVobfDHwg\n",
       "fb8YGBxYHwAZciD3fWXg+gB1JjvQcJZvQIXsCgz8F6DO9GBgMOH7wPCUgaeBwd4B7EwGNjUG7s9c\n",
       "AiwPgO5jkWRgiF3/9+5dfQUG1nWl5Y+B7pv+1gE9bBhqGLCAE1jEWH9jEbT5A3IwAC4sP/1L6Qlu\n",
       "AAAAAElFTkSuQmCC\n",
       "\" style=\"display:inline;vertical-align:middle;\" /></a></td></tr>\n",
       "<tr><td>4</td><td>ExprTuple</td><td>5, 6</td><td><a class=\"ProveItLink\" href=\"../44cf8c26c38fbf8398933276ce77c80e7ff6681e0/expr.ipynb\"><img src=\"data:image/png;base64,iVBORw0KGgoAAAANSUhEUgAAAC8AAAAVBAMAAAAk6KpUAAAAMFBMVEX////c3NwiIiJERESqqqqY\n",
       "mJh2dnZmZmYQEBDu7u4yMjJUVFTMzMyIiIi6uroAAAAs73DqAAAAAXRSTlMAQObYZgAAAR9JREFU\n",
       "KM91kT1Lw1AUhp9oanvbNGR3cVbBqYhb/oGZHKW4OIlOXUQo4igScDCLmMXByYK4SicdHCwuonWI\n",
       "dROkuqggiOcQSZBo4F7OfZ/Dez4C/35ur6gt6nUppz55vDmbambjpku5K9EROMPErPZTMJKYaYgl\n",
       "WZyCU7A/U3ANd7AAlZBS2BZlPQVTMPSI4AnKVkeU/RS8w5XPqE8L9txm1o/1JqDH2BqHcG4Hv0ET\n",
       "O2ZHgFsAbpsv2HUKVs6LgmrYyYfW4oGCLSg1FZis3XlPrRryaDzLNQjNz4BLkhuzLI/aya15nONg\n",
       "Qlfim2203YGmXcx8nEH0qo6tvmywmlDx8sIPWRRp5Rzk46ykay8AI2tnPNPrWVRTf+uPX3sP36IT\n",
       "TMEift2nAAAAAElFTkSuQmCC\n",
       "\" style=\"display:inline;vertical-align:middle;\" /></a></td></tr>\n",
       "<tr><td>5</td><td>Literal</td><td></td><td><a class=\"ProveItLink\" href=\"../../../sets/complex/__pv_it/c357845f93a5a2d9f649129d299e7ec28dda4b960/expr.ipynb\"><img src=\"data:image/png;base64,iVBORw0KGgoAAAANSUhEUgAAAA8AAAAOBAMAAAACpFvcAAAAMFBMVEX////c3NyqqqqYmJhUVFR2\n",
       "dnbu7u66urrMzMxmZmZEREQQEBAyMjIiIiKIiIgAAAB7fvZ0AAAAAXRSTlMAQObYZgAAAGVJREFU\n",
       "CNdjYGDgu3N+70oGBgaO+gK2+CdAhoEzAwPTFwYG5oQNQN4UBgZORgcgI4+BIZM9gAEMWpkMoAx2\n",
       "KCOLAyrFk+AAYTAHgBhsQLy4DkjUJjAwsHg9Y6taBpLsvP/bnYEBACkBFGQfBv8RAAAAAElFTkSu\n",
       "QmCC\n",
       "\" style=\"display:inline;vertical-align:middle;\" /></a></td></tr>\n",
       "<tr><td>6</td><td>Literal</td><td></td><td><a class=\"ProveItLink\" href=\"../../../numeral/__pv_it/ec23fc7a1b4222a5f4948b495002b97d6fa18c3c0/expr.ipynb\"><img src=\"data:image/png;base64,iVBORw0KGgoAAAANSUhEUgAAAAoAAAAOBAMAAADkjZCYAAAALVBMVEX///8QEBCYmJh2dnaqqqrc\n",
       "3NxUVFQyMjK6uroiIiLMzMyIiIhmZmbu7u4AAAAZjyHdAAAAAXRSTlMAQObYZgAAAEpJREFUCNdj\n",
       "YLiz+xQDA8MMhpsLGLgnMHAXMHAmMHA8ZeA7wMD1hCHOgIHrNZh8jES+Bss+AqlkeQrSxTyBgWEK\n",
       "w8UFDAx3rLMYAMCjFldHSx/9AAAAAElFTkSuQmCC\n",
       "\" style=\"display:inline;vertical-align:middle;\" /></a></td></tr>\n",
       "</table>\n"
      ],
      "text/plain": [
       "0. (() , Complexes^{0})\n",
       "   core type: ExprTuple\n",
       "   sub-expressions: 1, 2\n",
       "1. ()\n",
       "   core type: ExprTuple\n",
       "   sub-expressions: \n",
       "2. Complexes^{0}\n",
       "   core type: Operation\n",
       "   operator: 3\n",
       "   operands: 4\n",
       "3. Exp\n",
       "   core type: Literal\n",
       "   sub-expressions: \n",
       "4. (Complexes , 0)\n",
       "   core type: ExprTuple\n",
       "   sub-expressions: 5, 6\n",
       "5. Complexes\n",
       "   core type: Literal\n",
       "   sub-expressions: \n",
       "6. 0\n",
       "   core type: Literal\n",
       "   sub-expressions: "
      ]
     },
     "execution_count": 4,
     "metadata": {},
     "output_type": "execute_result"
    }
   ],
   "source": [
    "# display the expression information\n",
    "expr.exprInfo()"
   ]
  },
  {
   "cell_type": "code",
   "execution_count": null,
   "metadata": {},
   "outputs": [],
   "source": []
  }
 ],
 "metadata": {
  "kernelspec": {
   "display_name": "Python 3",
   "language": "python",
   "name": "python3"
  }
 },
 "nbformat": 4,
 "nbformat_minor": 0
}
