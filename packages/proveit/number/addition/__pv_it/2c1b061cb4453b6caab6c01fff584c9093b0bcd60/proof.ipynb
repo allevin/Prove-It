{
 "cells": [
  {
   "cell_type": "markdown",
   "metadata": {},
   "source": [
    "Show the Proof\n",
    "========"
   ]
  },
  {
   "cell_type": "code",
   "execution_count": 1,
   "metadata": {},
   "outputs": [
    {
     "data": {
      "text/html": [
       "<table><tr><th>&nbsp;</th><th>step type</th><th>requirements</th><th>statement</th></tr>\n",
       "<tr><td>0</td><td>specialization</td><td>1, 2</td><td><span style=\"font-size:20px;\"><a class=\"ProveItLink\" href=\"../f03245ba91235f870fb6c22ea2cd0683d8b1c8280/expr.ipynb\"><img src=\"data:image/png;base64,iVBORw0KGgoAAAANSUhEUgAAAEUAAAAVBAMAAADiLT7tAAAAMFBMVEX////c3NxERESqqqpUVFS6\n",
       "urrMzMwyMjIQEBCIiIh2dnYiIiLu7u5mZmaYmJgAAABXZE4RAAAAAXRSTlMAQObYZgAAAT9JREFU\n",
       "KM9jYGDgu8eAE7CtEgBRPLsY8AC2ZhDJ+QHMCepFk51d/mPTBQaG6yA2VwNE7DOqktSvDKd+OjAw\n",
       "rEBSw/oHRQkfywMGBns0NVwbwNTJ6t3bQfQbDiDBi6aG/QLYiXUHIOZcEAF5ZwKyGpFZ8QYgjhBU\n",
       "Cc+FKKilYDW8BUDHNDLog2UVYV5eYAdlvQcRGQEMDPIPIH7kUYCriYOyQG5IaQMy/BkYwCHJ2r17\n",
       "N9jNPApZMB+qAz0YkcDA8ImB5ytYuwNMpoYFyuBeACRYChgYfzIwf+ABad8AU/MKrOYA1D3AgOH5\n",
       "DFRpBuL4wdQwPQX6m3UPkt/rGKwvgMxkOB0AU+SieeCo0gEkNSIzwzTBsoy1CTCf3f7fEsCAGs5Q\n",
       "wOwOiQs4wKIGA4DV8OFXAwnbnXjTYSskqSwmkJ4BTvxWShLh2B8AAAAASUVORK5CYII=\n",
       "\" style=\"display:inline;vertical-align:middle;\" /></a> <a class=\"ProveItLink\" href=\"proof.ipynb\" style=\"text-decoration: none\">&#x22A2;&nbsp;</a><a class=\"ProveItLink\" href=\"../01adeedf1309c4dcdab87d95d8d99448e71021bc0/expr.ipynb\"><img src=\"data:image/png;base64,iVBORw0KGgoAAAANSUhEUgAAAFgAAAAVBAMAAAAwfTS1AAAAMFBMVEX////c3NwiIiJERESqqqqY\n",
       "mJh2dnZmZmYQEBDu7u4yMjJUVFTMzMyIiIi6uroAAAAs73DqAAAAAXRSTlMAQObYZgAAAUhJREFU\n",
       "KM9jYCAJ8F3AFGN9gEPxaQaG6XdrkEUetzPUYCiDqFnJwKDHMOkAssQXBi4MxWA1vBcYeBUYeBcg\n",
       "O+wnA2sCmlqIGo4JDEwbGPg+IkmwKTBwNqAphqh5xcDAX8DA8wVJgquAgcEETTFETRkDg3wCA89f\n",
       "uLD0tfcODAzpaIohapZCGN/gDm5ksJ/AwOAFYrOvAoMNDDA1fQjFnBNAogEMVUDqBRaTvzH8Qzhj\n",
       "vgKQ2M/AoAakzmN1xj+I478CBWYYAInPDJz/sCiGqGkBBwsLLOgY/zKwfOCEOoNdCQwMGGBqTMEB\n",
       "zqYAVcz5hYF7gQ8DQxRmpADVgMJIhWEGPLqXMjgVJGAGHUTNI1Aiyd2DCOa7b2yBaW4dRkICqeEQ\n",
       "wJYUMaIbmnQTsImyXcCenldiE5yFI/FLYxPciEMxIxYbeQ9gVQoAZjpcSWhJrcsAAAAASUVORK5C\n",
       "YII=\n",
       "\" style=\"display:inline;vertical-align:middle;\" /></a></span></td></tr>\n",
       "<tr><td>&nbsp;</td><td colspan=4 style=\"text-align:left\"><span style=\"font-size:20px;\"><a class=\"ProveItLink\" href=\"../../../../__pv_it/530be409e3083890784cf1d7b28c9e67e90af9360/expr.ipynb\"><img src=\"data:image/png;base64,iVBORw0KGgoAAAANSUhEUgAAAAsAAAAJBAMAAAAWSsseAAAAKlBMVEX///9ERETMzMwQEBAiIiKY\n",
       "mJju7u5mZmaqqqpUVFSIiIh2dnbc3NwAAAA/vyDhAAAAAXRSTlMAQObYZgAAAENJREFUCNdjYDi9\n",
       "8sTyBQxsG1hdmR0YuBm4LnAoMLAxcAowgADzAjB1VoEhgYH1wFoGrgSG3gBhhlMMDImrs3cFMAAA\n",
       "t0YN+iTRa+sAAAAASUVORK5CYII=\n",
       "\" style=\"display:inline;vertical-align:middle;\" /></a> : <a class=\"ProveItLink\" href=\"../../../../__pv_it/3a5de44ed6135dbbdbbeec6704c741e238f127300/expr.ipynb\"><img src=\"data:image/png;base64,iVBORw0KGgoAAAANSUhEUgAAAAsAAAAOBAMAAAALT/umAAAAMFBMVEX////MzMyYmJiIiIhUVFTc\n",
       "3NwyMjIiIiJ2dnbu7u6qqqpmZmYQEBBERES6uroAAABkyy6XAAAAAXRSTlMAQObYZgAAAFhJREFU\n",
       "CNdjYGBg4LuzgQEE+BeAqfcTwFQ7mGTIBmJW575fQOpNAO9PIOcTA3cCAwPLBwb2BqCeCwzzHzAw\n",
       "xBswrGeYwDB/AYMblwADmwJXNQdIm52sHQMAfyoTCZukXIEAAAAASUVORK5CYII=\n",
       "\" style=\"display:inline;vertical-align:middle;\" /></a></span></td></tr><tr><td>1</td><td>theorem</td><td></td><td><span style=\"font-size:20px;\"> <a class=\"ProveItLink\" href=\"../../../multiplication/_proofs_/multZeroLeft.ipynb\" style=\"text-decoration: none\">&#x22A2;&nbsp;</a><a class=\"ProveItLink\" href=\"../0264679159d19f3c563c8a2f9d0304bb1b6d25d10/expr.ipynb\"><img src=\"data:image/png;base64,iVBORw0KGgoAAAANSUhEUgAAAJ8AAAAVBAMAAACqHiFtAAAAMFBMVEX///8QEBC6urrMzMxUVFRm\n",
       "ZmZERETc3NwyMjKqqqp2dnaIiIiYmJgiIiLu7u4AAAAU9Wx4AAAAAXRSTlMAQObYZgAAAklJREFU\n",
       "OMtjYKA2eIBPkmkDBGOAQ9jVg4QvgBincRhoAsFPdwejSbAaoCvli95qABZeCeL14TCwD4IvMbxF\n",
       "N6ABXSmvAt9lsHAZkMOegN087g1gzH2BgRvdgFPoavcyMOwAC3MAA5F1AnYDGR+AMa8DA9N3NKmH\n",
       "6GqvMDDoF4CEeZaXl9fi8LEGBPMHMDD/RJNiQ3fDVwYG+wlg4W9pabdwGBgFwfULGJh/w8TYV7vP\n",
       "jmZg4ApAVcr+C2jgBrCwMwNDOg4DeyAYZOAvmNgrhrMHZBkYOMGBGtEBAi0wAxeAhVUY+FBC/E2X\n",
       "bzSUKQTBMAP5QGl2AcN+hsnA1CmAxYULwMK8DNwHYGlpa+gBZrMHzF1Q/icIhnn5/QVwRnADSTF/\n",
       "wOplkDD3AV5Ybtmm/u4BTzUDgxaqgaBI+QOKWUjqksZmIDhSDoCF+RpA+WG10xYDHlBAKwP9ww5V\n",
       "JAnBwGTDiUg27J8Z+GBejr0LAtegyWZ+AUQ43QkYaQ/cGCdwgCT2nUPYmgPBwITNdQEmdpz7A8M+\n",
       "YGprwEzYa6HCU4GKmUCxaYVu4FIovsnwEJb1OP+wCbBvwEw2DLwT+IShwozg4gToJ9u0tLQNSsoI\n",
       "RbpQ/HS1M7wMyF63ag+Q5lBALxyithhAhXlAccIswMzwBCTB8hoRhowFEIwFPGTAL2zP1cDFwALS\n",
       "yxxVwLAbKsqzAIKxgNUM+IWf7Yxex8CXBM4K11IU0IovTMDXwECMMBcwDFEESqAYA7BgDwgcwkjp\n",
       "fwMEY4DN2NUDhQHuQqkPZFORqgAAAABJRU5ErkJggg==\n",
       "\" style=\"display:inline;vertical-align:middle;\" /></a></span></td></tr>\n",
       "<tr><td>&nbsp;</td><td colspan=4 style-\"text-align:left\"><a class=\"ProveItLink\" href=\"../../../multiplication/_proofs_/multZeroLeft.ipynb\">proveit.number.multiplication.multZeroLeft</a></td></tr><tr><td>2</td><td>assumption</td><td></td><td><span style=\"font-size:20px;\"><a class=\"ProveItLink\" href=\"../f03245ba91235f870fb6c22ea2cd0683d8b1c8280/expr.ipynb\"><img src=\"data:image/png;base64,iVBORw0KGgoAAAANSUhEUgAAAEUAAAAVBAMAAADiLT7tAAAAMFBMVEX////c3NxERESqqqpUVFS6\n",
       "urrMzMwyMjIQEBCIiIh2dnYiIiLu7u5mZmaYmJgAAABXZE4RAAAAAXRSTlMAQObYZgAAAT9JREFU\n",
       "KM9jYGDgu8eAE7CtEgBRPLsY8AC2ZhDJ+QHMCepFk51d/mPTBQaG6yA2VwNE7DOqktSvDKd+OjAw\n",
       "rEBSw/oHRQkfywMGBns0NVwbwNTJ6t3bQfQbDiDBi6aG/QLYiXUHIOZcEAF5ZwKyGpFZ8QYgjhBU\n",
       "Cc+FKKilYDW8BUDHNDLog2UVYV5eYAdlvQcRGQEMDPIPIH7kUYCriYOyQG5IaQMy/BkYwCHJ2r17\n",
       "N9jNPApZMB+qAz0YkcDA8ImB5ytYuwNMpoYFyuBeACRYChgYfzIwf+ABad8AU/MKrOYA1D3AgOH5\n",
       "DFRpBuL4wdQwPQX6m3UPkt/rGKwvgMxkOB0AU+SieeCo0gEkNSIzwzTBsoy1CTCf3f7fEsCAGs5Q\n",
       "wOwOiQs4wKIGA4DV8OFXAwnbnXjTYSskqSwmkJ4BTvxWShLh2B8AAAAASUVORK5CYII=\n",
       "\" style=\"display:inline;vertical-align:middle;\" /></a> <a class=\"ProveItLink\" href=\"../441712ea21abf39b5bb4e28f5122c66850d385e00/proof.ipynb\" style=\"text-decoration: none\">&#x22A2;&nbsp;</a><a class=\"ProveItLink\" href=\"../807f2df5759235bf0006f027b2f5148ee01534cb0/expr.ipynb\"><img src=\"data:image/png;base64,iVBORw0KGgoAAAANSUhEUgAAADMAAAAPBAMAAAC7N+rPAAAAMFBMVEX////MzMyYmJiIiIhUVFTc\n",
       "3NwyMjIiIiJ2dnbu7u6qqqpmZmYQEBBERES6uroAAABkyy6XAAAAAXRSTlMAQObYZgAAAOZJREFU\n",
       "GNNjYGBg4LuzgQEFMJflH78NYfIvQJFhfP+As98Ewn4/AUVKwYmBgesLhN0OJjnNyssTgDTThANA\n",
       "cgtEKhtMimlCeNysDkByMhCzOvf9Aomw3oSaN5uvAcp6E8D7E0TzBkAFJLgUIAzWTwzcIBsY5sJc\n",
       "IcEHlWL5wMAONuBNeTnEGXMZoQbyX2CY/wDEEIHpYpvgAGHEGzCsZwD5azpMiqkBJMXJwDB/AYMb\n",
       "lwDIZAWY3KXHQOL5BAY2Ba5qDrCP62BSLL6WnG9vgrxlJ2sHFgnbCJOTrv/jhxrgS9LBLoQBAJkt\n",
       "M1xsY3iNAAAAAElFTkSuQmCC\n",
       "\" style=\"display:inline;vertical-align:middle;\" /></a></span></td></tr>\n",
       "</table>"
      ],
      "text/plain": [
       "<proveit._core_.proof._ShowProof at 0x7f94eb66bb38>"
      ]
     },
     "execution_count": 1,
     "metadata": {},
     "output_type": "execute_result"
    }
   ],
   "source": [
    "import proveit\n",
    "%show_proof"
   ]
  },
  {
   "cell_type": "code",
   "execution_count": null,
   "metadata": {},
   "outputs": [],
   "source": []
  }
 ],
 "metadata": {
  "kernelspec": {
   "display_name": "Python 3",
   "language": "python",
   "name": "python3"
  }
 },
 "nbformat": 4,
 "nbformat_minor": 0
}
