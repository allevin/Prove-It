{
 "cells": [
  {
   "cell_type": "markdown",
   "metadata": {},
   "source": [
    "Expression of type <a class=\"ProveItLink\" href=\"../../../../../../doc/html/api/proveit.number.Add.html\">Add</a>\n",
    "=======================\n",
    "# from context <a class=\"ProveItLink\" href=\"../../_context_.ipynb\">proveit.number.addition</a>"
   ]
  },
  {
   "cell_type": "code",
   "execution_count": 1,
   "metadata": {},
   "outputs": [],
   "source": [
    "# import Expression classes needed to build the expression\n",
    "from proveit._common_ import a, b, c\n",
    "from proveit.number import Add, four, three, two"
   ]
  },
  {
   "cell_type": "code",
   "execution_count": 2,
   "metadata": {},
   "outputs": [
    {
     "data": {
      "text/html": [
       "<strong id=\"expr\">expr:</strong> <a class=\"ProveItLink\" href=\"expr.ipynb\"><img src=\"data:image/png;base64,iVBORw0KGgoAAAANSUhEUgAAAUEAAAAVBAMAAAAqSEFXAAAAMFBMVEX////c3NwiIiJERESqqqqY\n",
       "mJh2dnZmZmYQEBDu7u4yMjJUVFTMzMyIiIi6uroAAAAs73DqAAAAAXRSTlMAQObYZgAAAvhJREFU\n",
       "SMfNlz9oE1Ecx3+5XO8u/+Pk4GAm65ihrpJNEKVxceggwaEFMZJFhSpYRQQVSlxE7JBQdfACEkFR\n",
       "LCEBQQeHZrPQP5ZORZBG0lICtfXevbsk31979BwCZkiaz/vd733y3u9+90r0/7/iTa+RS75jh1YH\n",
       "afjNc0Rv+I69zb7P3GMg9DHFyNHJ04x8GR/heaNV6+21t3yZA8/YMAeVfRFV/B6o0o8MkgJt8D1S\n",
       "0kQxgE9g/KK7AEn5CbEulNucYwk2ecZEBkGkSEoLiLZJiRTTWLAMjWK/03kwfOZ8qo4ZxKqgO4UJ\n",
       "4h2ecaOIwHhIkV0gas/QvSgwZhn+JG/DYAZlIBYMaQQTaCme8TID4Q7pu3xSd5ddooUtwxtCtXbt\n",
       "LpO3iVZAGRFLT/NLaGiDCTZ/bTGLGSvL77mP0uGkwn7WBWH4yvpjPRls4ZAkahkNRWx0mmYBSnAW\n",
       "c5fStAMg1KZEg/nM53DS6JUqZgk1heG0tWBbpKdhyCHxKTScFrXZpFMAJVjH3KNFeoBF1iEjxwxf\n",
       "7CuthVWsFRKGVi1EWqRgATgk2kJDUTd1XocSzONsk0TbAPQyJQro465Kn6GB+37ONUykqSR2YNI0\n",
       "T5qmqAWH2Ia6ac4+Ms2qY9iW2Xuw3TPsJRim+BYAxWp22X5AtEh4TaBBQbgolLMN7xMdb9IoFfvl\n",
       "HcJ32YoN/GFr6AC2y5uk43JY7fAOTEFqgY5g7XakYZeoc3P1x3YNlTL0SYUydsgQu1NEAVo5hgBK\n",
       "MIaGO27VdQ0brDDpq3WrYkiZlN9s34203SbCWXVYw2YhCe82oqV8ILoKUALWbd7RLQSRjF7Fm/HE\n",
       "+AT251iWNnIHGK6J5rfyeQUvlyS8ioZrogLzy0WAErxBoZnvWdY4atcRKHt7e+wJcubmS3bvaPXt\n",
       "LBnJf3jqJf0+9bwyHgQOI91nvv36BYF5diyEWDgras0DE/gChxLv01fI/+nr+SBPsMc8RyJJ37Fv\n",
       "B2kY8PwvYMl3bKwxOL+/hIgOgwsDMnUAAAAASUVORK5CYII=\n",
       "\" style=\"display:inline;vertical-align:middle;\" /></a><br>"
      ],
      "text/plain": [
       "expr: (a + a) + (c + c) + b + b + 2 + 3 + 4"
      ]
     },
     "execution_count": 2,
     "metadata": {},
     "output_type": "execute_result"
    }
   ],
   "source": [
    "# build up the expression from sub-expressions\n",
    "expr = Add(Add(a, a), Add(c, c), b, b, two, three, four)"
   ]
  },
  {
   "cell_type": "code",
   "execution_count": 3,
   "metadata": {},
   "outputs": [
    {
     "name": "stdout",
     "output_type": "stream",
     "text": [
      "Passed sanity check: built 'expr' is the same as the stored Expression.\n"
     ]
    }
   ],
   "source": [
    "# check that the built expression is the same as the stored expression\n",
    "%check_expr"
   ]
  },
  {
   "cell_type": "code",
   "execution_count": 4,
   "metadata": {},
   "outputs": [
    {
     "data": {
      "text/html": [
       "<table><tr><th>&nbsp;</th><th>core type</th><th>sub-expressions</th><th>expression</th></tr>\n",
       "<tr><td>0</td><td>Operation</td><td>operator:&nbsp;9<br>operands:&nbsp;1<br></td><td><a class=\"ProveItLink\" href=\"expr.ipynb\"><img src=\"data:image/png;base64,iVBORw0KGgoAAAANSUhEUgAAAUEAAAAVBAMAAAAqSEFXAAAAMFBMVEX////c3NwiIiJERESqqqqY\n",
       "mJh2dnZmZmYQEBDu7u4yMjJUVFTMzMyIiIi6uroAAAAs73DqAAAAAXRSTlMAQObYZgAAAvhJREFU\n",
       "SMfNlz9oE1Ecx3+5XO8u/+Pk4GAm65ihrpJNEKVxceggwaEFMZJFhSpYRQQVSlxE7JBQdfACEkFR\n",
       "LCEBQQeHZrPQP5ZORZBG0lICtfXevbsk31979BwCZkiaz/vd733y3u9+90r0/7/iTa+RS75jh1YH\n",
       "afjNc0Rv+I69zb7P3GMg9DHFyNHJ04x8GR/heaNV6+21t3yZA8/YMAeVfRFV/B6o0o8MkgJt8D1S\n",
       "0kQxgE9g/KK7AEn5CbEulNucYwk2ecZEBkGkSEoLiLZJiRTTWLAMjWK/03kwfOZ8qo4ZxKqgO4UJ\n",
       "4h2ecaOIwHhIkV0gas/QvSgwZhn+JG/DYAZlIBYMaQQTaCme8TID4Q7pu3xSd5ddooUtwxtCtXbt\n",
       "LpO3iVZAGRFLT/NLaGiDCTZ/bTGLGSvL77mP0uGkwn7WBWH4yvpjPRls4ZAkahkNRWx0mmYBSnAW\n",
       "c5fStAMg1KZEg/nM53DS6JUqZgk1heG0tWBbpKdhyCHxKTScFrXZpFMAJVjH3KNFeoBF1iEjxwxf\n",
       "7CuthVWsFRKGVi1EWqRgATgk2kJDUTd1XocSzONsk0TbAPQyJQro465Kn6GB+37ONUykqSR2YNI0\n",
       "T5qmqAWH2Ia6ac4+Ms2qY9iW2Xuw3TPsJRim+BYAxWp22X5AtEh4TaBBQbgolLMN7xMdb9IoFfvl\n",
       "HcJ32YoN/GFr6AC2y5uk43JY7fAOTEFqgY5g7XakYZeoc3P1x3YNlTL0SYUydsgQu1NEAVo5hgBK\n",
       "MIaGO27VdQ0brDDpq3WrYkiZlN9s34203SbCWXVYw2YhCe82oqV8ILoKUALWbd7RLQSRjF7Fm/HE\n",
       "+AT251iWNnIHGK6J5rfyeQUvlyS8ioZrogLzy0WAErxBoZnvWdY4atcRKHt7e+wJcubmS3bvaPXt\n",
       "LBnJf3jqJf0+9bwyHgQOI91nvv36BYF5diyEWDgras0DE/gChxLv01fI/+nr+SBPsMc8RyJJ37Fv\n",
       "B2kY8PwvYMl3bKwxOL+/hIgOgwsDMnUAAAAASUVORK5CYII=\n",
       "\" style=\"display:inline;vertical-align:middle;\" /></a></td></tr>\n",
       "<tr><td>1</td><td>ExprTuple</td><td>2, 3, 4, 4, 5, 6, 7</td><td><a class=\"ProveItLink\" href=\"../94926250c548975750ebaa97e10c161d9a97146a0/expr.ipynb\"><img src=\"data:image/png;base64,iVBORw0KGgoAAAANSUhEUgAAAM8AAAAVBAMAAAATCqclAAAAMFBMVEX////c3NwiIiJERESqqqqY\n",
       "mJh2dnZmZmYQEBDu7u4yMjJUVFTMzMyIiIi6uroAAAAs73DqAAAAAXRSTlMAQObYZgAAAoJJREFU\n",
       "SMe9lU1oE0EYht+ku9lsftb11EMFc7InMReP2tBzIevFgwcJCO3FaEBQiBcrIqiQ7kkCPSRUejBe\n",
       "chAES0lB0IMH9+IP1NbqqYiHaFNLpG2cmf3JfhvWSqCdQ+bhe7PzznzzzQxwZE2zDt/jMv95O+zX\n",
       "83eDgNHyeRtS01dybjDVhLLC+qdDz/NZECJNfLHHH4W256rRLFAH0iRzqh467KDUCULSRLQt6HoO\n",
       "v1z1EzO6CMRN/7dS+IYNSFo3CPEHSO4LyveNIpeYURX4jmGNYpkgJLpQ9l13N3WxBDMayeEmN12+\n",
       "NhsYbezDppOqx8XPVHIDieVVgwLfEHd1iaYDF7hRrIRFxpv6SJsaabOYcGqmggUieYFaFrsUWHtX\n",
       "sPvXboGoFjeS6qiwBW1DyVKjkwZu2FS1cJZIXiBv4j4F1p64kK44mQM30u6A5TTZRtSiRi3gtEcD\n",
       "kt3KwA4FeBNmbc6usilhlGpzo2NZ1PiJUhqNhYeNBk/uFlQnG1v2AH7JaePQtikAq05/ApgQ+6YW\n",
       "XKN7LE8W8jD9047sQWqrDtEV9QMdKF0KkEo4LobvmY6RtLTUemTx1LF813J4Ka34R1M7SNanhDmb\n",
       "q0xSJwJc2UW8QAFvWJEJ+gOc0VXndLEVyXXMsEo0pPEY3YhFTJYKKj9zL4CrROIBoTzHbVCInJqe\n",
       "yQh6D+03ahnPiJX3N36M1l+tU6OxtR/nNtQ5dpSU4hrJqggIZf6jAQrRXq+XESTdKudQ/SnKrrVj\n",
       "ILGBuB5+/DU9TPKUQfDRV+//7AqSC+GPkxwqyeHgI+++QPHfz4R8sPJ/Rmqdb0e4kXWwMgh9Snuh\n",
       "JM9m5AiecnYL/wUZAtHTu+mQsQAAAABJRU5ErkJggg==\n",
       "\" style=\"display:inline;vertical-align:middle;\" /></a></td></tr>\n",
       "<tr><td>2</td><td>Operation</td><td>operator:&nbsp;9<br>operands:&nbsp;8<br></td><td><a class=\"ProveItLink\" href=\"../b80ee1f7a9870caeb12beba2eb78d298813e0b720/expr.ipynb\"><img src=\"data:image/png;base64,iVBORw0KGgoAAAANSUhEUgAAAC8AAAAOBAMAAABN+VgMAAAAMFBMVEX///8yMjKqqqrMzMzu7u4i\n",
       "IiJmZmaYmJhEREQQEBC6urp2dnaIiIhUVFTc3NwAAAD87Fq/AAAAAXRSTlMAQObYZgAAAHVJREFU\n",
       "GNNjYEAAlgcM2AHTAeIk+O7smocqARVZ+YDjA6oERITvOwNbA4oEVIT3AwPrARQJqAh/A4O/AZDL\n",
       "JigoOlFQ8AJc5P0BBn0GB2QdUBF/BYaLTAbIElARxgKmMG4UO6AifHdOWZxCdRVChFCQcCFLAABD\n",
       "Siw1qMdh/wAAAABJRU5ErkJggg==\n",
       "\" style=\"display:inline;vertical-align:middle;\" /></a></td></tr>\n",
       "<tr><td>3</td><td>Operation</td><td>operator:&nbsp;9<br>operands:&nbsp;10<br></td><td><a class=\"ProveItLink\" href=\"../835f51cc5f7c025f46a68077697f0e2a3c40db810/expr.ipynb\"><img src=\"data:image/png;base64,iVBORw0KGgoAAAANSUhEUgAAACsAAAAOBAMAAABEEvh2AAAAMFBMVEX///+qqqpmZmbc3NxUVFSY\n",
       "mJhEREQiIiIyMjK6uroQEBDMzMyIiIh2dnbu7u4AAAA4MM1YAAAAAXRSTlMAQObYZgAAAGRJREFU\n",
       "GNNjYIADPgMGbIDxABHCfHfPbEARhgjsmsBRgCIMFuBbw8AWgCwMEWD5gGY2RIA/Acxh6uhoX9HR\n",
       "4QATsD+AphoiwA80GMVsiACLAgMvigOhArpnzqF6By6A1/OcSMIAeQEiyOGBraQAAAAASUVORK5C\n",
       "YII=\n",
       "\" style=\"display:inline;vertical-align:middle;\" /></a></td></tr>\n",
       "<tr><td>4</td><td>Variable</td><td></td><td><a class=\"ProveItLink\" href=\"../../../../__pv_it/6840a4fa6c106149dc16a131294d0c5e44f1b0480/expr.ipynb\"><img src=\"data:image/png;base64,iVBORw0KGgoAAAANSUhEUgAAAAkAAAAOBAMAAAAPuiubAAAALVBMVEX///9mZmbMzMxERESYmJiI\n",
       "iIh2dna6urqqqqoyMjIiIiIQEBBUVFTu7u4AAAD9S1JeAAAAAXRSTlMAQObYZgAAAE1JREFUCNdj\n",
       "4D29gAEIOA+ASL4GEFl3AURmgQiGOaFHGBh4HzPwKTBwvGXgTmBgnMDAJ8DAJcBQ5wBSLncBJLWN\n",
       "gYGngRFoBO9REQYGAGrcDtUkVqASAAAAAElFTkSuQmCC\n",
       "\" style=\"display:inline;vertical-align:middle;\" /></a></td></tr>\n",
       "<tr><td>5</td><td>Literal</td><td></td><td><a class=\"ProveItLink\" href=\"../../../numeral/__pv_it/77d407a64829263cdc16415becd4c2293f77a4bf0/expr.ipynb\"><img src=\"data:image/png;base64,iVBORw0KGgoAAAANSUhEUgAAAAkAAAAOBAMAAAAPuiubAAAAMFBMVEX///+YmJh2dnbMzMwQEBAi\n",
       "IiLu7u6qqqqIiIhUVFS6urpEREQyMjJmZmbc3NwAAACOMKdoAAAAAXRSTlMAQObYZgAAAFBJREFU\n",
       "CNdj4Lt7egEDw0sGju8MDNMYGOIZGFwSGOYvYDifwHAfKAEUSQASzJ9ATJ4NIPI2iOCYACJrGfge\n",
       "MDBfYGB8wPBUSekqUPH//18ZAIliFhc3zESNAAAAAElFTkSuQmCC\n",
       "\" style=\"display:inline;vertical-align:middle;\" /></a></td></tr>\n",
       "<tr><td>6</td><td>Literal</td><td></td><td><a class=\"ProveItLink\" href=\"../../../numeral/__pv_it/9176d93c83afa2c995b614976e3cb49207102fa70/expr.ipynb\"><img src=\"data:image/png;base64,iVBORw0KGgoAAAANSUhEUgAAAAoAAAAOBAMAAADkjZCYAAAAMFBMVEX///+YmJju7u4QEBBUVFQy\n",
       "MjIiIiKIiIi6urpmZmbc3NyqqqpERER2dnbMzMwAAAB0GlNiAAAAAXRSTlMAQObYZgAAAE1JREFU\n",
       "CNdjYHh79zQDA9cEhv4CBt7fDPwJDNxgEgiAIkAQAsR8Vx1ATIbiBhDJ/ImB6wEDz0cG/U8gkj+A\n",
       "ge0XA7sAQ/8FBoadM6MZAEflFACalZ/OAAAAAElFTkSuQmCC\n",
       "\" style=\"display:inline;vertical-align:middle;\" /></a></td></tr>\n",
       "<tr><td>7</td><td>Literal</td><td></td><td><a class=\"ProveItLink\" href=\"../../../numeral/__pv_it/23412ce59ea7e77353d2f9225e02248e73651ca00/expr.ipynb\"><img src=\"data:image/png;base64,iVBORw0KGgoAAAANSUhEUgAAAAoAAAAPBAMAAAAv0UM9AAAALVBMVEX///9mZmaqqqru7u52dnYy\n",
       "MjKYmJjc3NwQEBCIiIhEREQiIiJUVFTMzMwAAACUDTcXAAAAAXRSTlMAQObYZgAAAD5JREFUCNdj\n",
       "YGBguMMAArtABGcXiCyLApEOIJKtAERaMoBIBxDJdAFEmjCASJ0zZ16cBCkF64KQPu/EwBwGACv6\n",
       "DSRgin9qAAAAAElFTkSuQmCC\n",
       "\" style=\"display:inline;vertical-align:middle;\" /></a></td></tr>\n",
       "<tr><td>8</td><td>ExprTuple</td><td>11, 11</td><td><a class=\"ProveItLink\" href=\"../8d3c5434f530489588a15a4b183ce46d1affa7650/expr.ipynb\"><img src=\"data:image/png;base64,iVBORw0KGgoAAAANSUhEUgAAACsAAAAVBAMAAAAtAwouAAAAMFBMVEX////c3NwiIiJERESqqqqY\n",
       "mJh2dnZmZmYQEBDu7u4yMjJUVFTMzMyIiIi6uroAAAAs73DqAAAAAXRSTlMAQObYZgAAANtJREFU\n",
       "GNN1kL0OAUEURg/W/2+voNNq9N6ASik6FVGpSdSi1O02Cq8gkWyi1OwDiKAS1Sq0YsbsbMQwxcy5\n",
       "Jzc331z4cwret+nKa280Jl1xrc0BDuQ9U3cgtTD1Em4/UsSajMUT2Q6nSihKjFiJ4lqK+Uorshzm\n",
       "ouVBsq6aFRUmPCHrE1V5Asr5Uhfr2O5bByT0DCoeLd45AxJDGmA32VhuGk3EHfqQaVu1BHZVkwx4\n",
       "kWGPuyPLuyYyJ1Il/bfz5+fjPV20Qz34XGyo02KxlIMiHzZn5dyIsfADvABGHTxeG7dbswAAAABJ\n",
       "RU5ErkJggg==\n",
       "\" style=\"display:inline;vertical-align:middle;\" /></a></td></tr>\n",
       "<tr><td>9</td><td>Literal</td><td></td><td><a class=\"ProveItLink\" href=\"../3e6688136fa3c7aefbebe51301b7c3ebf0b69c440/expr.ipynb\"><img src=\"data:image/png;base64,iVBORw0KGgoAAAANSUhEUgAAAA4AAAAOBAMAAADtZjDiAAAAJFBMVEX///+6urpUVFQQEBAiIiIy\n",
       "MjJmZmaIiIiqqqrc3Nzu7u4AAACgHpL+AAAAAXRSTlMAQObYZgAAAB5JREFUCNdjYGBgWMkAAe2k\n",
       "0Kmhoc6hoUGk6BMHYgAHOwjcado9fwAAAABJRU5ErkJggg==\n",
       "\" style=\"display:inline;vertical-align:middle;\" /></a></td></tr>\n",
       "<tr><td>10</td><td>ExprTuple</td><td>12, 12</td><td><a class=\"ProveItLink\" href=\"../1c0bb617114f3df6312252662a222f4d927730940/expr.ipynb\"><img src=\"data:image/png;base64,iVBORw0KGgoAAAANSUhEUgAAACcAAAAVBAMAAAA3P+qgAAAAMFBMVEX////c3NwiIiJERESqqqqY\n",
       "mJh2dnZmZmYQEBDu7u4yMjJUVFTMzMyIiIi6uroAAAAs73DqAAAAAXRSTlMAQObYZgAAAM5JREFU\n",
       "GNNjYMAK+C6g8uNAxGk0RewHgMRKdK0LGBh4L6ALhjEwcExAF5zBwPAKw2ZmB4YyIMWZdvcAmA9m\n",
       "sBUwLAWyTzzgUgALghksCxj6gPK9DMwBYIVgBl8Dwz8GBu4PUNMgDJ4PIEF+A6gghAEUbGFgkIc5\n",
       "FcIAajcFKgAaGMDJAGUwsC5gSAcaVcDAdmC+ApQBctIjoIqyuzcZZnyEMhi4HjBwCEANfIjkTdYE\n",
       "KDsAJpiLFHQwQU5g0DFIQ9i8MIXcIPMY0QL0DgMDAOR2MjAvKGjTAAAAAElFTkSuQmCC\n",
       "\" style=\"display:inline;vertical-align:middle;\" /></a></td></tr>\n",
       "<tr><td>11</td><td>Variable</td><td></td><td><a class=\"ProveItLink\" href=\"../../../../__pv_it/07527342713064c87612d00d8557c53d53d5324a0/expr.ipynb\"><img src=\"data:image/png;base64,iVBORw0KGgoAAAANSUhEUgAAAAsAAAAJBAMAAAAWSsseAAAAMFBMVEX///8yMjKqqqrMzMzu7u4i\n",
       "IiJmZmaYmJhEREQQEBC6urp2dnaIiIhUVFTc3NwAAAD87Fq/AAAAAXRSTlMAQObYZgAAAEhJREFU\n",
       "CNdjYOC7s2seAwPDygccHxgY+L4zsDUwMPB+YGA9wMDA38Dgb8DA8P4Agz6DA4O/AsNFJgMGxgKm\n",
       "MG6gyjunLE4xAAAZTBA5TB6DCwAAAABJRU5ErkJggg==\n",
       "\" style=\"display:inline;vertical-align:middle;\" /></a></td></tr>\n",
       "<tr><td>12</td><td>Variable</td><td></td><td><a class=\"ProveItLink\" href=\"../../../../__pv_it/cbdfda466482236edba0ce44ac7ef39cda0af7a40/expr.ipynb\"><img src=\"data:image/png;base64,iVBORw0KGgoAAAANSUhEUgAAAAkAAAAJBAMAAAASvxsjAAAALVBMVEX///9mZmbc3NxUVFSYmJhE\n",
       "REQiIiIyMjK6uroQEBDMzMyIiIh2dnbu7u4AAABgFDGoAAAAAXRSTlMAQObYZgAAADZJREFUCNdj\n",
       "YOA9s3sBA8PKBvYEBt7ZDKwODMwPGICALwBE6m0Asx0YGIDiAgw8QJUyu/cyAAAmuwmycZ8WfQAA\n",
       "AABJRU5ErkJggg==\n",
       "\" style=\"display:inline;vertical-align:middle;\" /></a></td></tr>\n",
       "</table>\n"
      ],
      "text/plain": [
       "0. (a + a) + (c + c) + b + b + 2 + 3 + 4\n",
       "   core type: Operation\n",
       "   operator: 9\n",
       "   operands: 1\n",
       "1. (a + a , c + c , b , b , 2 , 3 , 4)\n",
       "   core type: ExprTuple\n",
       "   sub-expressions: 2, 3, 4, 4, 5, 6, 7\n",
       "2. a + a\n",
       "   core type: Operation\n",
       "   operator: 9\n",
       "   operands: 8\n",
       "3. c + c\n",
       "   core type: Operation\n",
       "   operator: 9\n",
       "   operands: 10\n",
       "4. b\n",
       "   core type: Variable\n",
       "   sub-expressions: \n",
       "5. 2\n",
       "   core type: Literal\n",
       "   sub-expressions: \n",
       "6. 3\n",
       "   core type: Literal\n",
       "   sub-expressions: \n",
       "7. 4\n",
       "   core type: Literal\n",
       "   sub-expressions: \n",
       "8. (a , a)\n",
       "   core type: ExprTuple\n",
       "   sub-expressions: 11, 11\n",
       "9. +\n",
       "   core type: Literal\n",
       "   sub-expressions: \n",
       "10. (c , c)\n",
       "    core type: ExprTuple\n",
       "    sub-expressions: 12, 12\n",
       "11. a\n",
       "    core type: Variable\n",
       "    sub-expressions: \n",
       "12. c\n",
       "    core type: Variable\n",
       "    sub-expressions: "
      ]
     },
     "execution_count": 4,
     "metadata": {},
     "output_type": "execute_result"
    }
   ],
   "source": [
    "# display the expression information\n",
    "expr.exprInfo()"
   ]
  },
  {
   "cell_type": "code",
   "execution_count": null,
   "metadata": {},
   "outputs": [],
   "source": []
  }
 ],
 "metadata": {
  "kernelspec": {
   "display_name": "Python 3",
   "language": "python",
   "name": "python3"
  }
 },
 "nbformat": 4,
 "nbformat_minor": 0
}
