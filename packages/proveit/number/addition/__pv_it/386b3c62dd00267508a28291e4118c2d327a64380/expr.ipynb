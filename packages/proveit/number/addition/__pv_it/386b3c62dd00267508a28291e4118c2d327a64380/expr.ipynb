{
 "cells": [
  {
   "cell_type": "markdown",
   "metadata": {},
   "source": [
    "Expression of type <a class=\"ProveItLink\" href=\"../../../../../../doc/html/api/proveit.ExprTuple.html\">ExprTuple</a>\n",
    "=======================\n",
    "# from context <a class=\"ProveItLink\" href=\"../../_context_.ipynb\">proveit.number.addition</a>"
   ]
  },
  {
   "cell_type": "code",
   "execution_count": 1,
   "metadata": {},
   "outputs": [],
   "source": [
    "# import Expression classes needed to build the expression\n",
    "from proveit import ExprTuple\n",
    "from proveit.number import Add, one, three, zero"
   ]
  },
  {
   "cell_type": "code",
   "execution_count": 2,
   "metadata": {},
   "outputs": [
    {
     "data": {
      "text/html": [
       "<strong id=\"expr\">expr:</strong> <a class=\"ProveItLink\" href=\"expr.ipynb\"><img src=\"data:image/png;base64,iVBORw0KGgoAAAANSUhEUgAAAREAAAAVBAMAAACTXMcfAAAAMFBMVEX////c3NwiIiJERESqqqqY\n",
       "mJh2dnZmZmYQEBDu7u4yMjJUVFTMzMyIiIi6uroAAAAs73DqAAAAAXRSTlMAQObYZgAAAoRJREFU\n",
       "SMfNlj9o1FAcx7+5y/3Jmctlc1DxBgdB0UUHp2ZzKr2powSFCkLxFntSFBRcFPFOO/TAwSCKNF2y\n",
       "V/CmLg4egihqMTgKcra0Jy1UfXlJ8PLeS1/wHBq4vNzvffL7ft/fPGD/XEZ//Bzf0youZExAudfk\n",
       "l+8wNYtrN1iYY1ZnzkRPukdu55hq7eb7Hko9TpTl9JlLVsgtkZcmWJVTeMTk4BiliUHUnRVStbDN\n",
       "pMj52knAYY1w3EEYu5Sr9qGtvIpVHoZFtY6qk4jwTHETtXr4uAY8XokVNDMs3wIfgWkmynNXLWxQ\n",
       "rhwIfIlVJqP2eDDWExGeUf86uRuYjxXUqKNOAAMTXSbKc1PUCeG+iVRqTeibEifkikbHcEQKP4E3\n",
       "FvKWzAno6BBuTqRy1Ia+K3eyHBYlW6CgDImTPopNuZMKmfCEe57mZChzol/xokyNNCc2VEfqZDVo\n",
       "EOEe/LMT4INPi7Kf7sS4Je+TKvFAuF9jjE45zFrz00dH/yF3gnYn4EaczLvucdddjmbsViLCM0oP\n",
       "+S3WScl1n95zXS+asY3QyUiU5w4DE5S7A/EqVmWr+Ml27KRspaziKVM+OtrvTuCEcGdFKmRnK9Yl\n",
       "TmoOcusIgnnRjA12totAQTpjd4DTZsBdFs6BY+j2JE6qDQxsbQMIVyqnkLO0+8iwit/BGFLuK/nT\n",
       "ar9oJHUXZ18y3njmfOsZtDbZsw3SfaXrO9eSCtrcJ9KYip+M8pzamrcoVzZHP0eT3KdTEjGC12+P\n",
       "RtTEKaMrjAq5gr33QUMSKQS36fTzzmzqKYjnlsY6IxXiU4H40pxsaSh3aCwntGGKl1Z9wMyWhnLK\n",
       "fzg9Hkmr+JwxAeH+ACiJE+4zTvpoAAAAAElFTkSuQmCC\n",
       "\" style=\"display:inline;vertical-align:middle;\" /></a><br>"
      ],
      "text/plain": [
       "expr: (1 + 0 + 1 + 3 , (1 + 0) + 1 + 3)"
      ]
     },
     "execution_count": 2,
     "metadata": {},
     "output_type": "execute_result"
    }
   ],
   "source": [
    "# build up the expression from sub-expressions\n",
    "expr = ExprTuple(Add(one, zero, one, three), Add(Add(one, zero), one, three))"
   ]
  },
  {
   "cell_type": "code",
   "execution_count": 3,
   "metadata": {},
   "outputs": [
    {
     "name": "stdout",
     "output_type": "stream",
     "text": [
      "Passed sanity check: built 'expr' is the same as the stored Expression.\n"
     ]
    }
   ],
   "source": [
    "# check that the built expression is the same as the stored expression\n",
    "%check_expr"
   ]
  },
  {
   "cell_type": "code",
   "execution_count": 4,
   "metadata": {},
   "outputs": [
    {
     "data": {
      "text/html": [
       "<table><tr><th>&nbsp;</th><th>core type</th><th>sub-expressions</th><th>expression</th></tr>\n",
       "<tr><td>0</td><td>ExprTuple</td><td>1, 2</td><td><a class=\"ProveItLink\" href=\"expr.ipynb\"><img src=\"data:image/png;base64,iVBORw0KGgoAAAANSUhEUgAAAREAAAAVBAMAAACTXMcfAAAAMFBMVEX////c3NwiIiJERESqqqqY\n",
       "mJh2dnZmZmYQEBDu7u4yMjJUVFTMzMyIiIi6uroAAAAs73DqAAAAAXRSTlMAQObYZgAAAoRJREFU\n",
       "SMfNlj9o1FAcx7+5y/3Jmctlc1DxBgdB0UUHp2ZzKr2powSFCkLxFntSFBRcFPFOO/TAwSCKNF2y\n",
       "V/CmLg4egihqMTgKcra0Jy1UfXlJ8PLeS1/wHBq4vNzvffL7ft/fPGD/XEZ//Bzf0youZExAudfk\n",
       "l+8wNYtrN1iYY1ZnzkRPukdu55hq7eb7Hko9TpTl9JlLVsgtkZcmWJVTeMTk4BiliUHUnRVStbDN\n",
       "pMj52knAYY1w3EEYu5Sr9qGtvIpVHoZFtY6qk4jwTHETtXr4uAY8XokVNDMs3wIfgWkmynNXLWxQ\n",
       "rhwIfIlVJqP2eDDWExGeUf86uRuYjxXUqKNOAAMTXSbKc1PUCeG+iVRqTeibEifkikbHcEQKP4E3\n",
       "FvKWzAno6BBuTqRy1Ia+K3eyHBYlW6CgDImTPopNuZMKmfCEe57mZChzol/xokyNNCc2VEfqZDVo\n",
       "EOEe/LMT4INPi7Kf7sS4Je+TKvFAuF9jjE45zFrz00dH/yF3gnYn4EaczLvucdddjmbsViLCM0oP\n",
       "+S3WScl1n95zXS+asY3QyUiU5w4DE5S7A/EqVmWr+Ml27KRspaziKVM+OtrvTuCEcGdFKmRnK9Yl\n",
       "TmoOcusIgnnRjA12totAQTpjd4DTZsBdFs6BY+j2JE6qDQxsbQMIVyqnkLO0+8iwit/BGFLuK/nT\n",
       "ar9oJHUXZ18y3njmfOsZtDbZsw3SfaXrO9eSCtrcJ9KYip+M8pzamrcoVzZHP0eT3KdTEjGC12+P\n",
       "RtTEKaMrjAq5gr33QUMSKQS36fTzzmzqKYjnlsY6IxXiU4H40pxsaSh3aCwntGGKl1Z9wMyWhnLK\n",
       "fzg9Hkmr+JwxAeH+ACiJE+4zTvpoAAAAAElFTkSuQmCC\n",
       "\" style=\"display:inline;vertical-align:middle;\" /></a></td></tr>\n",
       "<tr><td>1</td><td>Operation</td><td>operator:&nbsp;7<br>operands:&nbsp;3<br></td><td><a class=\"ProveItLink\" href=\"../45abd3f584a7e45a239184d4468461f8cab3204f0/expr.ipynb\"><img src=\"data:image/png;base64,iVBORw0KGgoAAAANSUhEUgAAAHQAAAAQBAMAAAA10UZYAAAAMFBMVEX///92dnbMzMy6uroiIiKq\n",
       "qqrc3NyYmJgyMjIQEBBmZmaIiIhUVFTu7u5EREQAAADaqMZ6AAAAAXRSTlMAQObYZgAAAP1JREFU\n",
       "KM9jYGB4y4AKeFfvUkAT4ruAJqAo+BRI3vuLJsxiwOuEZth7NK1sCxjsNzDcOQPTypsAobcwMOxA\n",
       "EeE9cx6m9RqEYvzKwO/AwMAN08q6AUL7MDDYJ6CIMOyHaY2GKsWh9RcDg34Afq1AAHQwhla2j0Ct\n",
       "Gwhq7WHAoVWAgFYmiQPkamVg2GlAtoM5/8K0cnV0tMzo6DgADaYCFBGo1hUdHZ4dHSBPsikw8H3H\n",
       "HjnxBCLn/l/sWoFJQoQBv1b+BgaWb1i0sgTwTiKglbuAwV6AgWvlj+WoCnkX7lFAFVk1v6sANZii\n",
       "VrUip2m4HXhEohmwAuYNhEWskdgAStxuyFkhgtwAAAAASUVORK5CYII=\n",
       "\" style=\"display:inline;vertical-align:middle;\" /></a></td></tr>\n",
       "<tr><td>2</td><td>Operation</td><td>operator:&nbsp;7<br>operands:&nbsp;4<br></td><td><a class=\"ProveItLink\" href=\"../f2c09c8cae256fc26342f3f9655a0463dc56a63f0/expr.ipynb\"><img src=\"data:image/png;base64,iVBORw0KGgoAAAANSUhEUgAAAIMAAAAVBAMAAACXjEALAAAAMFBMVEX////c3NwiIiJERESqqqqY\n",
       "mJh2dnZmZmYQEBDu7u4yMjJUVFTMzMyIiIi6uroAAAAs73DqAAAAAXRSTlMAQObYZgAAAXdJREFU\n",
       "OMtjYKAC4LuAQ4L1AbFGnAZi5glogtPv1jAw1GCotUTj86QlOwCplQwMnPboRugxTDrAwIVuwuSf\n",
       "aALiDHx/GRh4LzBw7t4PM2IihOJVYOBdwMCagCo6ezfMCE4BCJ3vwPCJgYEDpPs+zAhfCMW0gYHv\n",
       "IwNnA6ooAy/MCBZo+PmDjXjFgMUI/gIGni8MDCaEjGAAe6QMmxHyCQw8QLl0wkZwbWBgWIrLiG8M\n",
       "DF4EjTi2Gkj04THiBWFX8AL1/8PjkfOEjWDon4BsRNWqVRqrVq2GBudXqBEIUagR7KtWLepatQoY\n",
       "CAwyDAz2AQwtDNgjleUjYY9w/p8AMsIUmxHApMWmwMAQRcgjvxgY9AUgEYduBIMKw4wDRETqVQY+\n",
       "YKg/ArLK+5cHoCqenrsHSK5DNYK94lcpqhEs5VXAbMYhgJxvfJE5GAkcDlhQCgh4XgKDt8gctgvY\n",
       "RLGUMStxliSziC1ypHHKbCTWCEZcBR/vAeIMAAAH14HSmbbPfwAAAABJRU5ErkJggg==\n",
       "\" style=\"display:inline;vertical-align:middle;\" /></a></td></tr>\n",
       "<tr><td>3</td><td>ExprTuple</td><td>9, 10, 9, 6</td><td><a class=\"ProveItLink\" href=\"../14d0974da24fde13b45b4c4518911eb968c510f20/expr.ipynb\"><img src=\"data:image/png;base64,iVBORw0KGgoAAAANSUhEUgAAAFEAAAAVBAMAAADMaB9/AAAAMFBMVEX////c3NwiIiJERESqqqqY\n",
       "mJh2dnZmZmYQEBDu7u4yMjJUVFTMzMyIiIi6uroAAAAs73DqAAAAAXRSTlMAQObYZgAAAVxJREFU\n",
       "KM+Nk79Lw0AUx7/apO1pErM5KJjBWScHp+Y/sJOjFASdil20Ig4OziboYMDBLCLi0r2CmVxcurgp\n",
       "/hidtGjBQtV7l0vapkMSyOVzL5/w7t69ANkvo5VBWqPhnt85V0ZOn/ajl8vyqW2s2ygEnK4AVorM\n",
       "BRwHIZ38yNA0jB7gA3oLrHkrTd2C7gs6a0bmlo02sAoUSXqW5ngDxqf8KDJXhOkB7xgwp2rQvhIm\n",
       "RPacjZ1Bc64CrTdiTjSAfA0XSbOTNO+u+aD4OEo1oXPHOMBvenY4LrSPYZN29J0wZ4FSmcxDDFdJ\n",
       "SVSJ/blk8uxLkemGlc9bgoTJCLrAognVx6Y0WZtgHl4QEpnnFocHGB1RpTc+qTuXZeaY1CHVGwgq\n",
       "7Ha34dFKlPqezWv6gqIZnYSJEXqNt89PU61IVuNon8oxVcOuSzcZddiMnPRbPyY9Dk3Sgsay/B2P\n",
       "wD9FxmwhlXYVGgAAAABJRU5ErkJggg==\n",
       "\" style=\"display:inline;vertical-align:middle;\" /></a></td></tr>\n",
       "<tr><td>4</td><td>ExprTuple</td><td>5, 9, 6</td><td><a class=\"ProveItLink\" href=\"../0059f4b8c4d247f4531d2eb322df7f4d8188c8bd0/expr.ipynb\"><img src=\"data:image/png;base64,iVBORw0KGgoAAAANSUhEUgAAAGEAAAAVBAMAAACkm51HAAAAMFBMVEX////c3NwiIiJERESqqqqY\n",
       "mJh2dnZmZmYQEBDu7u4yMjJUVFTMzMyIiIi6uroAAAAs73DqAAAAAXRSTlMAQObYZgAAAXFJREFU\n",
       "OMuVk79Lw0AUx7/a9MdpErs5KJjBwUknB6fmHyh2cpSCoFOxi1aKg4OziTo04GAWkaZL9wp2cnHp\n",
       "4qb4YxQELVqwUPUuyYU0JtAc5N733r0PvLx7D4i/5E6M4HW23dIvoQduag/7XK64VtzcUJFuU1UH\n",
       "SC5ILOKk7ajTb9c1DXkAmIDUAWldc+LYMZICybTVWYsT2yq6wBqQYcGPnMg7ZrwJ+cOFObFqEwbw\n",
       "ihBiqgzxM0DAziqhYjeMmCtCHPwjJppAqoyLKKIXJG4adBNMHI1MQKKx8gF+Rs8Kmg7x3U9ULWvB\n",
       "shrun38FiFkgV2DEIcKrKwSqS351RtCslsMI+oIpBTonCBN9YCmLpImtMALzMNqky4lzhYo7yD27\n",
       "ui/0UNEuC8NErXQFomWB9F5/BwbLUKhUVfomT8hk/R2YH5oD7+rZ89EuSRb9QW/+Q9JTBU+VnG6P\n",
       "WCEEYR09E0l4wyl5rkmW6Ficqb0H/gDGcnG44u+txwAAAABJRU5ErkJggg==\n",
       "\" style=\"display:inline;vertical-align:middle;\" /></a></td></tr>\n",
       "<tr><td>5</td><td>Operation</td><td>operator:&nbsp;7<br>operands:&nbsp;8<br></td><td><a class=\"ProveItLink\" href=\"../f03fb019aa9c765a2589a4cf1993dde735141e480/expr.ipynb\"><img src=\"data:image/png;base64,iVBORw0KGgoAAAANSUhEUgAAACwAAAAQBAMAAACfEoDkAAAAMFBMVEX///92dnbMzMy6uroiIiKq\n",
       "qqrc3NyYmJgyMjIQEBBmZmaIiIhUVFTu7u5EREQAAADaqMZ6AAAAAXRSTlMAQObYZgAAAH1JREFU\n",
       "GNNjYGB4y4AKbu1eBCTv/UUTdma4osBw5wxMmDcBTHE7MHA3ACmYMOsGMMVygIH5G6Yw/wIGpq+Y\n",
       "wvkCDEy/sQt/JEkYbghXR0fLjI6OAxArv2N1ICsWBwK9w+iAKczgynBTgYFr5Y/lqMK3pA8hBxFM\n",
       "GA0wIwkDAHOKM2gkwxPnAAAAAElFTkSuQmCC\n",
       "\" style=\"display:inline;vertical-align:middle;\" /></a></td></tr>\n",
       "<tr><td>6</td><td>Literal</td><td></td><td><a class=\"ProveItLink\" href=\"../../../numeral/__pv_it/9176d93c83afa2c995b614976e3cb49207102fa70/expr.ipynb\"><img src=\"data:image/png;base64,iVBORw0KGgoAAAANSUhEUgAAAAoAAAAOBAMAAADkjZCYAAAAMFBMVEX///+YmJju7u4QEBBUVFQy\n",
       "MjIiIiKIiIi6urpmZmbc3NyqqqpERER2dnbMzMwAAAB0GlNiAAAAAXRSTlMAQObYZgAAAE1JREFU\n",
       "CNdjYHh79zQDA9cEhv4CBt7fDPwJDNxgEgiAIkAQAsR8Vx1ATIbiBhDJ/ImB6wEDz0cG/U8gkj+A\n",
       "ge0XA7sAQ/8FBoadM6MZAEflFACalZ/OAAAAAElFTkSuQmCC\n",
       "\" style=\"display:inline;vertical-align:middle;\" /></a></td></tr>\n",
       "<tr><td>7</td><td>Literal</td><td></td><td><a class=\"ProveItLink\" href=\"../3e6688136fa3c7aefbebe51301b7c3ebf0b69c440/expr.ipynb\"><img src=\"data:image/png;base64,iVBORw0KGgoAAAANSUhEUgAAAA4AAAAOBAMAAADtZjDiAAAAJFBMVEX///+6urpUVFQQEBAiIiIy\n",
       "MjJmZmaIiIiqqqrc3Nzu7u4AAACgHpL+AAAAAXRSTlMAQObYZgAAAB5JREFUCNdjYGBgWMkAAe2k\n",
       "0Kmhoc6hoUGk6BMHYgAHOwjcado9fwAAAABJRU5ErkJggg==\n",
       "\" style=\"display:inline;vertical-align:middle;\" /></a></td></tr>\n",
       "<tr><td>8</td><td>ExprTuple</td><td>9, 10</td><td><a class=\"ProveItLink\" href=\"../c36f3d09113341b3142bc662288ad6b85b3a940a0/expr.ipynb\"><img src=\"data:image/png;base64,iVBORw0KGgoAAAANSUhEUgAAACkAAAAVBAMAAAAp9toTAAAAMFBMVEX////c3NwiIiJERESqqqqY\n",
       "mJh2dnZmZmYQEBDu7u4yMjJUVFTMzMyIiIi6uroAAAAs73DqAAAAAXRSTlMAQObYZgAAAORJREFU\n",
       "GNNjYMAO+C6gCcSBiNNAzDwBIsBZe/0AA/sBIGslkGMPFWV6wKnDwLCAgYH3AgPn7v1Q0UsMDLcY\n",
       "GMIYGDhAAvehotoMDO8FGGYwMLxiQBL9zsBw3oGB2YGhDEmU8RtQ9AIDWwHDUnTRBAaWBQx9mKJ8\n",
       "DQz/ME3g+YAiCrYtACTawoDqMn8BkAmmMNEJEF8kMTCwLmBIh4pyfgL52IGzhwHkskdATnn/8gDO\n",
       "fgFggJTdBgYN1wMGDgFYiMIYIB+zJkDZrPAAzoWEJKooJzAkGaShHHiUcIOMYkSPoTsMDAA7aUeC\n",
       "nMq5UgAAAABJRU5ErkJggg==\n",
       "\" style=\"display:inline;vertical-align:middle;\" /></a></td></tr>\n",
       "<tr><td>9</td><td>Literal</td><td></td><td><a class=\"ProveItLink\" href=\"../../../numeral/__pv_it/9be8badea4c35b9724062cecc501d17a3158d1d20/expr.ipynb\"><img src=\"data:image/png;base64,iVBORw0KGgoAAAANSUhEUgAAAAgAAAAPBAMAAAArJJMAAAAAHlBMVEX///+YmJgyMjIQEBBmZmaI\n",
       "iIhUVFTu7u5EREQAAAAw+MI4AAAAAXRSTlMAQObYZgAAACFJREFUCNdjYGBoZ2BgqJjOwFCWBiQY\n",
       "WEklWJwnOTKAAACjEQo8HvEr3AAAAABJRU5ErkJggg==\n",
       "\" style=\"display:inline;vertical-align:middle;\" /></a></td></tr>\n",
       "<tr><td>10</td><td>Literal</td><td></td><td><a class=\"ProveItLink\" href=\"../../../numeral/__pv_it/ec23fc7a1b4222a5f4948b495002b97d6fa18c3c0/expr.ipynb\"><img src=\"data:image/png;base64,iVBORw0KGgoAAAANSUhEUgAAAAoAAAAOBAMAAADkjZCYAAAALVBMVEX///8QEBCYmJh2dnaqqqrc\n",
       "3NxUVFQyMjK6uroiIiLMzMyIiIhmZmbu7u4AAAAZjyHdAAAAAXRSTlMAQObYZgAAAEpJREFUCNdj\n",
       "YLiz+xQDA8MMhpsLGLgnMHAXMHAmMHA8ZeA7wMD1hCHOgIHrNZh8jES+Bss+AqlkeQrSxTyBgWEK\n",
       "w8UFDAx3rLMYAMCjFldHSx/9AAAAAElFTkSuQmCC\n",
       "\" style=\"display:inline;vertical-align:middle;\" /></a></td></tr>\n",
       "</table>\n"
      ],
      "text/plain": [
       "0. (1 + 0 + 1 + 3 , (1 + 0) + 1 + 3)\n",
       "   core type: ExprTuple\n",
       "   sub-expressions: 1, 2\n",
       "1. 1 + 0 + 1 + 3\n",
       "   core type: Operation\n",
       "   operator: 7\n",
       "   operands: 3\n",
       "2. (1 + 0) + 1 + 3\n",
       "   core type: Operation\n",
       "   operator: 7\n",
       "   operands: 4\n",
       "3. (1 , 0 , 1 , 3)\n",
       "   core type: ExprTuple\n",
       "   sub-expressions: 9, 10, 9, 6\n",
       "4. (1 + 0 , 1 , 3)\n",
       "   core type: ExprTuple\n",
       "   sub-expressions: 5, 9, 6\n",
       "5. 1 + 0\n",
       "   core type: Operation\n",
       "   operator: 7\n",
       "   operands: 8\n",
       "6. 3\n",
       "   core type: Literal\n",
       "   sub-expressions: \n",
       "7. +\n",
       "   core type: Literal\n",
       "   sub-expressions: \n",
       "8. (1 , 0)\n",
       "   core type: ExprTuple\n",
       "   sub-expressions: 9, 10\n",
       "9. 1\n",
       "   core type: Literal\n",
       "   sub-expressions: \n",
       "10. 0\n",
       "    core type: Literal\n",
       "    sub-expressions: "
      ]
     },
     "execution_count": 4,
     "metadata": {},
     "output_type": "execute_result"
    }
   ],
   "source": [
    "# display the expression information\n",
    "expr.exprInfo()"
   ]
  },
  {
   "cell_type": "code",
   "execution_count": null,
   "metadata": {},
   "outputs": [],
   "source": []
  }
 ],
 "metadata": {
  "kernelspec": {
   "display_name": "Python 3",
   "language": "python",
   "name": "python3"
  }
 },
 "nbformat": 4,
 "nbformat_minor": 0
}
