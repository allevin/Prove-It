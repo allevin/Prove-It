{
 "cells": [
  {
   "cell_type": "markdown",
   "metadata": {},
   "source": [
    "Expression of type <a class=\"ProveItLink\" href=\"../../../../../../doc/html/api/proveit.logic.Equals.html\">Equals</a>\n",
    "=======================\n",
    "# from context <a class=\"ProveItLink\" href=\"../../_context_.ipynb\">proveit.number.addition</a>"
   ]
  },
  {
   "cell_type": "code",
   "execution_count": 1,
   "metadata": {},
   "outputs": [],
   "source": [
    "# import Expression classes needed to build the expression\n",
    "from proveit._common_ import a\n",
    "from proveit.logic import Equals\n",
    "from proveit.number import Add, one"
   ]
  },
  {
   "cell_type": "code",
   "execution_count": 2,
   "metadata": {},
   "outputs": [
    {
     "data": {
      "text/html": [
       "<strong id=\"expr\">expr:</strong> <a class=\"ProveItLink\" href=\"expr.ipynb\"><img src=\"data:image/png;base64,iVBORw0KGgoAAAANSUhEUgAAAO0AAAAVBAMAAABYonTIAAAAMFBMVEX////c3NwiIiJERESqqqqY\n",
       "mJh2dnZmZmYQEBDu7u4yMjJUVFTMzMyIiIi6uroAAAAs73DqAAAAAXRSTlMAQObYZgAAAlxJREFU\n",
       "SMfFlj9oE1Ecx78xl1wvbdLsRRQddBE62MFBGhyLYqYOHSRbJqUo/kEcEuiiQ424lDr0KBTxhBJX\n",
       "izTg6JBMTraGTkEsBNRBUfH97k/yfu+9s3dT33Dv+P7u877v/e5+7x1wXK3US/xorh+DH6YhgBt0\n",
       "+ZDQNNsCHuky4VPtWEonLgF2R/Svktk688K3oOuEF1qxmEY8/ykuLlBkaX6m+5WDbmdXDJ6rqWEf\n",
       "3zMAUaJrfOQXO+S7CEywuV7TfK1oXp/Fg05DDfv4YyMQzKKhjFwk3zXgC1L44qIaJrzkxvuOCOab\n",
       "reCe6DLvbjV5dKxw37rqS7hNuZz5OChzIFDqJt/8MrZENyhnhzw6Vrjvgn/70KP2mm4JL1TFmpuY\n",
       "50CoLJh8LRerYnE/YM+yqKRw34G63lV6x6JIT1VxhwOhMjD5lhr4C0wOcaLHopLCfbuqr8AxLXx3\n",
       "gQscCJWuyXdqSOD0LDY6QfrOB+mLFNvzNp94Xvto329wfnMgVLpgI498V0RGeriOljwrSTHl+fYZ\n",
       "amfpdoXyXEHmD6yhIwOREpfnOWCjgrdWR45KCvddUtc7R1VRhfMdk+5VGYiUJZNvzqXvvFC1zuVZ\n",
       "VFKOqKN6UBXiu76yXGNAqMTV0QEV6/77ff49j5VomPtPX4py2VZ9Dyhrp0Wx7n293GdAqGxzX/vB\n",
       "r7tiXX1MlBPuV2zXG++ThDdT7JN+W1O3+sP/H8957az28cX483xEsJFvJj8H/bae+hxcN56ptKHP\n",
       "pPB9o0uEZ9ppCLEt0cvJJP/PKXZ0zcdPpiGAT8A/3zHeNuBZJH0AAAAASUVORK5CYII=\n",
       "\" style=\"display:inline;vertical-align:middle;\" /></a><br>"
      ],
      "text/plain": [
       "expr: (a + a + 1) = ((a + a) + 1)"
      ]
     },
     "execution_count": 2,
     "metadata": {},
     "output_type": "execute_result"
    }
   ],
   "source": [
    "# build up the expression from sub-expressions\n",
    "expr = Equals(Add(a, a, one), Add(Add(a, a), one))"
   ]
  },
  {
   "cell_type": "code",
   "execution_count": 3,
   "metadata": {},
   "outputs": [
    {
     "name": "stdout",
     "output_type": "stream",
     "text": [
      "Passed sanity check: built 'expr' is the same as the stored Expression.\n"
     ]
    }
   ],
   "source": [
    "# check that the built expression is the same as the stored expression\n",
    "%check_expr"
   ]
  },
  {
   "cell_type": "code",
   "execution_count": 4,
   "metadata": {},
   "outputs": [
    {
     "data": {
      "text/html": [
       "<table><tr><th>&nbsp;</th><th>core type</th><th>sub-expressions</th><th>expression</th></tr>\n",
       "<tr><td>0</td><td>Operation</td><td>operator:&nbsp;1<br>operands:&nbsp;2<br></td><td><a class=\"ProveItLink\" href=\"expr.ipynb\"><img src=\"data:image/png;base64,iVBORw0KGgoAAAANSUhEUgAAAO0AAAAVBAMAAABYonTIAAAAMFBMVEX////c3NwiIiJERESqqqqY\n",
       "mJh2dnZmZmYQEBDu7u4yMjJUVFTMzMyIiIi6uroAAAAs73DqAAAAAXRSTlMAQObYZgAAAlxJREFU\n",
       "SMfFlj9oE1Ecx78xl1wvbdLsRRQddBE62MFBGhyLYqYOHSRbJqUo/kEcEuiiQ424lDr0KBTxhBJX\n",
       "izTg6JBMTraGTkEsBNRBUfH97k/yfu+9s3dT33Dv+P7u877v/e5+7x1wXK3US/xorh+DH6YhgBt0\n",
       "+ZDQNNsCHuky4VPtWEonLgF2R/Svktk688K3oOuEF1qxmEY8/ykuLlBkaX6m+5WDbmdXDJ6rqWEf\n",
       "3zMAUaJrfOQXO+S7CEywuV7TfK1oXp/Fg05DDfv4YyMQzKKhjFwk3zXgC1L44qIaJrzkxvuOCOab\n",
       "reCe6DLvbjV5dKxw37rqS7hNuZz5OChzIFDqJt/8MrZENyhnhzw6Vrjvgn/70KP2mm4JL1TFmpuY\n",
       "50CoLJh8LRerYnE/YM+yqKRw34G63lV6x6JIT1VxhwOhMjD5lhr4C0wOcaLHopLCfbuqr8AxLXx3\n",
       "gQscCJWuyXdqSOD0LDY6QfrOB+mLFNvzNp94Xvto329wfnMgVLpgI498V0RGeriOljwrSTHl+fYZ\n",
       "amfpdoXyXEHmD6yhIwOREpfnOWCjgrdWR45KCvddUtc7R1VRhfMdk+5VGYiUJZNvzqXvvFC1zuVZ\n",
       "VFKOqKN6UBXiu76yXGNAqMTV0QEV6/77ff49j5VomPtPX4py2VZ9Dyhrp0Wx7n293GdAqGxzX/vB\n",
       "r7tiXX1MlBPuV2zXG++ThDdT7JN+W1O3+sP/H8957az28cX483xEsJFvJj8H/bae+hxcN56ptKHP\n",
       "pPB9o0uEZ9ppCLEt0cvJJP/PKXZ0zcdPpiGAT8A/3zHeNuBZJH0AAAAASUVORK5CYII=\n",
       "\" style=\"display:inline;vertical-align:middle;\" /></a></td></tr>\n",
       "<tr><td>1</td><td>Literal</td><td></td><td><a class=\"ProveItLink\" href=\"../../../../logic/equality/__pv_it/2fb26078095930560931daa0500ce419a39ea6cd0/expr.ipynb\"><img src=\"data:image/png;base64,iVBORw0KGgoAAAANSUhEUgAAAA4AAAAFBAMAAACHocAhAAAAFVBMVEX///9EREQiIiJUVFQyMjJm\n",
       "ZmYAAADubVkoAAAAAXRSTlMAQObYZgAAABRJREFUCNdjCHEBAWcGXCBICQQUAUpuAwlgGKrkAAAA\n",
       "AElFTkSuQmCC\n",
       "\" style=\"display:inline;vertical-align:middle;\" /></a></td></tr>\n",
       "<tr><td>2</td><td>ExprTuple</td><td>3, 4</td><td><a class=\"ProveItLink\" href=\"../b40f8ff367c937697829ddfdaba4636857a5dd990/expr.ipynb\"><img src=\"data:image/png;base64,iVBORw0KGgoAAAANSUhEUgAAAMsAAAAVBAMAAAAa4QdfAAAAMFBMVEX////c3NwiIiJERESqqqqY\n",
       "mJh2dnZmZmYQEBDu7u4yMjJUVFTMzMyIiIi6uroAAAAs73DqAAAAAXRSTlMAQObYZgAAAcZJREFU\n",
       "SMe9lTFIw0AUhv/atGlaU7N30M1J6KCDgyiOItjJwUG6OSkFURwcWnBykIJL0aFBcLCD6KqIBUcH\n",
       "MzlpqU5FHCLqoKh415o2572EBsQb8o7/3Zc/ebm8A/5pJK2/IyJ1Sp3nl8tu7z7qTHyIdYpSqywe\n",
       "dOmy/ebMfIg4SZmALlRAM36vc5TdU8fGj4hkKWoWiBXdyxSp7G1Fd2z8CC1PUSXgAUFtfIlhigpP\n",
       "YJWF0NlSQUzLSseGJpC6brBKLVBUNId9FhpG2BbTstKxoYlkAeMsTFGUYmKLPdor1LSQlhWXDUmg\n",
       "P4Nl7k9RyTy+gISNHktIy4rLhiRwDgyxcEVRvTaH+tIo8z9IrVT2NiuVI0oRbYj8M7SPHxuJYjYb\n",
       "7H0tzKDofgpZcdmQROgTiq15F20EKE/gRKm607LSAjQ+IQntBQlzGpijbCIm34HxjDIYFdKy0gLK\n",
       "AwBNsP03mct6b+h7/hPULmriTpMUqGvvKyg9sRlJIHX7OMb68yFBIV5HzOiyCzTHHW82RoBm0xyl\n",
       "TrPzOkpEJQN/ImpR6mKAg6Bt40fsUKJm8qIGcNFbn8F7wTElJniVQ4EPaW9Cr1LqDfANrhDOla0O\n",
       "alcAAAAASUVORK5CYII=\n",
       "\" style=\"display:inline;vertical-align:middle;\" /></a></td></tr>\n",
       "<tr><td>3</td><td>Operation</td><td>operator:&nbsp;9<br>operands:&nbsp;5<br></td><td><a class=\"ProveItLink\" href=\"../ed9996645c57692172e78965756493234383cb7e0/expr.ipynb\"><img src=\"data:image/png;base64,iVBORw0KGgoAAAANSUhEUgAAAFIAAAAQBAMAAAB3kjXPAAAAMFBMVEX///8yMjKqqqrMzMzu7u4i\n",
       "IiJmZmaYmJhEREQQEBC6urp2dnaIiIhUVFTc3NwAAAD87Fq/AAAAAXRSTlMAQObYZgAAAMFJREFU\n",
       "KM9jYCAOtBCpjsHjCwqX5QG6ApiI711UlUwH0FXCRXhIU8l3Z9c8NPG3p1c+wKJy5QOOD6gqueYx\n",
       "9GMxk+87A1sDqvj7AoYMLCp5PzCwHkAVv8/AEINFJX8Dg78BkM0mKCg6UVDwApD5g4HlM6oIWOX7\n",
       "Awz6DA7IJvD9YWD6wIJppr8Cw0UmA2Rxlk8MvALKmCoZC5jCuFFdJc6gmrABi9/vnLI4hary7ZnF\n",
       "PQtQRNgyP6YTGUdogOsAPhEA9WpI2Z2AetcAAAAASUVORK5CYII=\n",
       "\" style=\"display:inline;vertical-align:middle;\" /></a></td></tr>\n",
       "<tr><td>4</td><td>Operation</td><td>operator:&nbsp;9<br>operands:&nbsp;6<br></td><td><a class=\"ProveItLink\" href=\"../d7e0f2a675cae483a963a0732189fb78f2a77bf90/expr.ipynb\"><img src=\"data:image/png;base64,iVBORw0KGgoAAAANSUhEUgAAAGAAAAAVBAMAAABLWfZ5AAAAMFBMVEX////c3NwiIiJERESqqqqY\n",
       "mJh2dnZmZmYQEBDu7u4yMjJUVFTMzMyIiIi6uroAAAAs73DqAAAAAXRSTlMAQObYZgAAASdJREFU\n",
       "OMtjYCAZ8F3AJcP6AKvwadxm1WCIWALxStwauNAFJv9kYOBFcRGnAIqbElBFZ+8GauCYgKyEBVV7\n",
       "A5ooL1DDKwbcGhhMsGgoA9KMe/Ma0aSkr70AuiMdi4alQPqFAPMHVCm+RgZ7IOWFRUMf0IKvDOwG\n",
       "qFLyAQzFIJOwaPjHwMD9gYHpAqrUfgYGXSB1HrsGfgOG+QeAXPZVqxZ1rVq1Acj8zMD5B6oBSRSs\n",
       "oQVo/wUGf4YJyGYx/mVg+cCJ3UmmDAzzHRh2sRxAluL8wsC9wIeBIQqLBmDIcQWwqLOhSi1lcCpI\n",
       "wB6sj0DRcO/wPVQp6btvbIFpdR2qKHvFr1IGDgESkgZyAsOWOdguYBPFk7xnYRWVxq1hI1ZRRpxZ\n",
       "lPcAFkEAHRJkvoaFrGYAAAAASUVORK5CYII=\n",
       "\" style=\"display:inline;vertical-align:middle;\" /></a></td></tr>\n",
       "<tr><td>5</td><td>ExprTuple</td><td>11, 11, 8</td><td><a class=\"ProveItLink\" href=\"../d753829bb10010ab2e64fc7712911503f0083e630/expr.ipynb\"><img src=\"data:image/png;base64,iVBORw0KGgoAAAANSUhEUgAAAD8AAAAVBAMAAAADRiu8AAAAMFBMVEX////c3NwiIiJERESqqqqY\n",
       "mJh2dnZmZmYQEBDu7u4yMjJUVFTMzMyIiIi6uroAAAAs73DqAAAAAXRSTlMAQObYZgAAASpJREFU\n",
       "KM9jYCAI+C7glosDEadxyVoyMLAfANIrcchP/gkkFjAw8OKwYfZukIIwBgaOCThM4AUpmMHA8IoB\n",
       "nwJmB4YyIMW4N68RKix97YUAkgK2AoalQOqFAPMHqJ8bGeyRTWBZwNAHNOArA7sBRFQ+gKEYWQFf\n",
       "A8M/BgbuDwxMUL/sZ2DQRVbA8wGkgN+AYf4BiOhnBs4/aApagOZeYPBnAPuW8S8DywdOVCtMGRjm\n",
       "OzDsYjkAEuf8wsC9wAeiGKyAdQFDOgMDVwCLOhvDfAWgwFIGp4IEzk/I3nwECoZ7h+8xzPgICoa7\n",
       "b2wfcPYDg4K94lcpUO8DBg4BWNA9RKQAuBgwqFkTYJwAuAJWOCsXObqxKOBcALIW5m9EPMFTADfI\n",
       "LkY8Se4OAwMAdiVOyLZj8rYAAAAASUVORK5CYII=\n",
       "\" style=\"display:inline;vertical-align:middle;\" /></a></td></tr>\n",
       "<tr><td>6</td><td>ExprTuple</td><td>7, 8</td><td><a class=\"ProveItLink\" href=\"../802b4a414a0085d0ce25268c7c0430391e82438f0/expr.ipynb\"><img src=\"data:image/png;base64,iVBORw0KGgoAAAANSUhEUgAAAE8AAAAVBAMAAAD1D64kAAAAMFBMVEX////c3NwiIiJERESqqqqY\n",
       "mJh2dnZmZmYQEBDu7u4yMjJUVFTMzMyIiIi6uroAAAAs73DqAAAAAXRSTlMAQObYZgAAATRJREFU\n",
       "KM9jYCAa8F0grCYORJwmpMqSgYH9AJBeSUDd5J9AYgEDAy+KzZwC6Opm7wYpDGNg4JiALMyC6WBe\n",
       "kMIZDAyvGIhRyOzAUAakGPfmNaIplL72QgBJIVsBw1Ig9UKA+QOqQr5GBntkE1kWMPQBDfzKwG6A\n",
       "qlA+gKEYWSFfA8M/BgbuDwxMF1AV7mdg0EVWyPMBpJDfgGE+KETZV61a1LVq1QYg8zMD5x80hS1A\n",
       "ey4w+DNMQDaR8S8DywdOVKtNGRjmOzDsYjmArJDzCwP3Ah+IZrBC1gUM6QwMXAEs6myoblzK4FSQ\n",
       "wPkJOXgegYLx3uF7qAql776xfcDZDwxK9opfpUCzHjBwCOCOGT64HDAKWRNwJ05WOCsXfzKDK+Rc\n",
       "AHIOboVw47lBbmAkIivcYWAAAGpoWYdc/GC6AAAAAElFTkSuQmCC\n",
       "\" style=\"display:inline;vertical-align:middle;\" /></a></td></tr>\n",
       "<tr><td>7</td><td>Operation</td><td>operator:&nbsp;9<br>operands:&nbsp;10<br></td><td><a class=\"ProveItLink\" href=\"../b80ee1f7a9870caeb12beba2eb78d298813e0b720/expr.ipynb\"><img src=\"data:image/png;base64,iVBORw0KGgoAAAANSUhEUgAAAC8AAAAOBAMAAABN+VgMAAAAMFBMVEX///8yMjKqqqrMzMzu7u4i\n",
       "IiJmZmaYmJhEREQQEBC6urp2dnaIiIhUVFTc3NwAAAD87Fq/AAAAAXRSTlMAQObYZgAAAHVJREFU\n",
       "GNNjYEAAlgcM2AHTAeIk+O7smocqARVZ+YDjA6oERITvOwNbA4oEVIT3AwPrARQJqAh/A4O/AZDL\n",
       "JigoOlFQ8AJc5P0BBn0GB2QdUBF/BYaLTAbIElARxgKmMG4UO6AifHdOWZxCdRVChFCQcCFLAABD\n",
       "Siw1qMdh/wAAAABJRU5ErkJggg==\n",
       "\" style=\"display:inline;vertical-align:middle;\" /></a></td></tr>\n",
       "<tr><td>8</td><td>Literal</td><td></td><td><a class=\"ProveItLink\" href=\"../../../numeral/__pv_it/9be8badea4c35b9724062cecc501d17a3158d1d20/expr.ipynb\"><img src=\"data:image/png;base64,iVBORw0KGgoAAAANSUhEUgAAAAgAAAAPBAMAAAArJJMAAAAAHlBMVEX///+YmJgyMjIQEBBmZmaI\n",
       "iIhUVFTu7u5EREQAAAAw+MI4AAAAAXRSTlMAQObYZgAAACFJREFUCNdjYGBoZ2BgqJjOwFCWBiQY\n",
       "WEklWJwnOTKAAACjEQo8HvEr3AAAAABJRU5ErkJggg==\n",
       "\" style=\"display:inline;vertical-align:middle;\" /></a></td></tr>\n",
       "<tr><td>9</td><td>Literal</td><td></td><td><a class=\"ProveItLink\" href=\"../3e6688136fa3c7aefbebe51301b7c3ebf0b69c440/expr.ipynb\"><img src=\"data:image/png;base64,iVBORw0KGgoAAAANSUhEUgAAAA4AAAAOBAMAAADtZjDiAAAAJFBMVEX///+6urpUVFQQEBAiIiIy\n",
       "MjJmZmaIiIiqqqrc3Nzu7u4AAACgHpL+AAAAAXRSTlMAQObYZgAAAB5JREFUCNdjYGBgWMkAAe2k\n",
       "0Kmhoc6hoUGk6BMHYgAHOwjcado9fwAAAABJRU5ErkJggg==\n",
       "\" style=\"display:inline;vertical-align:middle;\" /></a></td></tr>\n",
       "<tr><td>10</td><td>ExprTuple</td><td>11, 11</td><td><a class=\"ProveItLink\" href=\"../8d3c5434f530489588a15a4b183ce46d1affa7650/expr.ipynb\"><img src=\"data:image/png;base64,iVBORw0KGgoAAAANSUhEUgAAACsAAAAVBAMAAAAtAwouAAAAMFBMVEX////c3NwiIiJERESqqqqY\n",
       "mJh2dnZmZmYQEBDu7u4yMjJUVFTMzMyIiIi6uroAAAAs73DqAAAAAXRSTlMAQObYZgAAANtJREFU\n",
       "GNN1kL0OAUEURg/W/2+voNNq9N6ASik6FVGpSdSi1O02Cq8gkWyi1OwDiKAS1Sq0YsbsbMQwxcy5\n",
       "Jzc331z4cwret+nKa280Jl1xrc0BDuQ9U3cgtTD1Em4/UsSajMUT2Q6nSihKjFiJ4lqK+Uorshzm\n",
       "ouVBsq6aFRUmPCHrE1V5Asr5Uhfr2O5bByT0DCoeLd45AxJDGmA32VhuGk3EHfqQaVu1BHZVkwx4\n",
       "kWGPuyPLuyYyJ1Il/bfz5+fjPV20Qz34XGyo02KxlIMiHzZn5dyIsfADvABGHTxeG7dbswAAAABJ\n",
       "RU5ErkJggg==\n",
       "\" style=\"display:inline;vertical-align:middle;\" /></a></td></tr>\n",
       "<tr><td>11</td><td>Variable</td><td></td><td><a class=\"ProveItLink\" href=\"../../../../__pv_it/07527342713064c87612d00d8557c53d53d5324a0/expr.ipynb\"><img src=\"data:image/png;base64,iVBORw0KGgoAAAANSUhEUgAAAAsAAAAJBAMAAAAWSsseAAAAMFBMVEX///8yMjKqqqrMzMzu7u4i\n",
       "IiJmZmaYmJhEREQQEBC6urp2dnaIiIhUVFTc3NwAAAD87Fq/AAAAAXRSTlMAQObYZgAAAEhJREFU\n",
       "CNdjYOC7s2seAwPDygccHxgY+L4zsDUwMPB+YGA9wMDA38Dgb8DA8P4Agz6DA4O/AsNFJgMGxgKm\n",
       "MG6gyjunLE4xAAAZTBA5TB6DCwAAAABJRU5ErkJggg==\n",
       "\" style=\"display:inline;vertical-align:middle;\" /></a></td></tr>\n",
       "</table>\n"
      ],
      "text/plain": [
       "0. (a + a + 1) = ((a + a) + 1)\n",
       "   core type: Operation\n",
       "   operator: 1\n",
       "   operands: 2\n",
       "1. =\n",
       "   core type: Literal\n",
       "   sub-expressions: \n",
       "2. (a + a + 1 , (a + a) + 1)\n",
       "   core type: ExprTuple\n",
       "   sub-expressions: 3, 4\n",
       "3. a + a + 1\n",
       "   core type: Operation\n",
       "   operator: 9\n",
       "   operands: 5\n",
       "4. (a + a) + 1\n",
       "   core type: Operation\n",
       "   operator: 9\n",
       "   operands: 6\n",
       "5. (a , a , 1)\n",
       "   core type: ExprTuple\n",
       "   sub-expressions: 11, 11, 8\n",
       "6. (a + a , 1)\n",
       "   core type: ExprTuple\n",
       "   sub-expressions: 7, 8\n",
       "7. a + a\n",
       "   core type: Operation\n",
       "   operator: 9\n",
       "   operands: 10\n",
       "8. 1\n",
       "   core type: Literal\n",
       "   sub-expressions: \n",
       "9. +\n",
       "   core type: Literal\n",
       "   sub-expressions: \n",
       "10. (a , a)\n",
       "    core type: ExprTuple\n",
       "    sub-expressions: 11, 11\n",
       "11. a\n",
       "    core type: Variable\n",
       "    sub-expressions: "
      ]
     },
     "execution_count": 4,
     "metadata": {},
     "output_type": "execute_result"
    }
   ],
   "source": [
    "# display the expression information\n",
    "expr.exprInfo()"
   ]
  },
  {
   "cell_type": "code",
   "execution_count": null,
   "metadata": {},
   "outputs": [],
   "source": []
  }
 ],
 "metadata": {
  "kernelspec": {
   "display_name": "Python 3",
   "language": "python",
   "name": "python3"
  }
 },
 "nbformat": 4,
 "nbformat_minor": 0
}
