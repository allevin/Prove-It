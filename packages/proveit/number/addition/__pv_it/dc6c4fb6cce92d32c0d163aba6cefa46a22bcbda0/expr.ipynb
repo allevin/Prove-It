{
 "cells": [
  {
   "cell_type": "markdown",
   "metadata": {},
   "source": [
    "Expression of type <a class=\"ProveItLink\" href=\"../../../../../../doc/html/api/proveit.logic.SubsetEq.html\">SubsetEq</a>\n",
    "=======================\n",
    "# from context <a class=\"ProveItLink\" href=\"../../_context_.ipynb\">proveit.number.addition</a>"
   ]
  },
  {
   "cell_type": "code",
   "execution_count": 1,
   "metadata": {},
   "outputs": [],
   "source": [
    "# import Expression classes needed to build the expression\n",
    "from proveit.logic import SubsetEq\n",
    "from proveit.number import Complexes, NaturalsPos"
   ]
  },
  {
   "cell_type": "code",
   "execution_count": 2,
   "metadata": {},
   "outputs": [
    {
     "data": {
      "text/html": [
       "<strong id=\"expr\">expr:</strong> <a class=\"ProveItLink\" href=\"expr.ipynb\"><img src=\"data:image/png;base64,iVBORw0KGgoAAAANSUhEUgAAAEcAAAAWBAMAAABgTJx+AAAAMFBMVEX////c3Nx2dna6uroQEBCI\n",
       "iIhUVFTMzMyYmJiqqqoiIiJmZmZEREQyMjLu7u4AAADjlg78AAAAAXRSTlMAQObYZgAAAQtJREFU\n",
       "KM9jYIADTgYiAM+gUfT2z9kHDLt+TcCuiHXtfa/TQPoE+wEGhg8MuXev3L0bAJGKXbVq1WIQg93e\n",
       "gE8/DMjIKghlYHBAtq4qDsZqyACGzDcgI/keWwGKIsaFMDUcD0Di24A4vYzvHooiNgOYIm7GBCD5\n",
       "FKSIM6AGRdFbuLNfMytAWekMmzkCQIrYoAJlcEVFnA1wRWwP0h2QvI2kiBmhiC/hLbIiLjjrDTvC\n",
       "OoYidmRF3BNgLN4HCQhFHBMOICniWwwPAgWQIj6IIgbFAygxtR3GOmEKJKweMDAcBtlwASXGzG5B\n",
       "o4UtJ47P5hwDg+0XoCl8F3BEf/X6L8kMtAXcq1bBkgoUAAADLkfl7PYm7gAAAABJRU5ErkJggg==\n",
       "\" style=\"display:inline;vertical-align:middle;\" /></a><br>"
      ],
      "text/plain": [
       "expr: NaturalsPos subseteq Complexes"
      ]
     },
     "execution_count": 2,
     "metadata": {},
     "output_type": "execute_result"
    }
   ],
   "source": [
    "# build up the expression from sub-expressions\n",
    "expr = SubsetEq(NaturalsPos, Complexes)"
   ]
  },
  {
   "cell_type": "code",
   "execution_count": 3,
   "metadata": {},
   "outputs": [
    {
     "name": "stdout",
     "output_type": "stream",
     "text": [
      "Passed sanity check: built 'expr' is the same as the stored Expression.\n"
     ]
    }
   ],
   "source": [
    "# check that the built expression is the same as the stored expression\n",
    "%check_expr"
   ]
  },
  {
   "cell_type": "code",
   "execution_count": 4,
   "metadata": {},
   "outputs": [
    {
     "data": {
      "text/html": [
       "<table><tr><th>&nbsp;</th><th>core type</th><th>sub-expressions</th><th>expression</th></tr>\n",
       "<tr><td>0</td><td>Operation</td><td>operator:&nbsp;1<br>operands:&nbsp;2<br></td><td><a class=\"ProveItLink\" href=\"expr.ipynb\"><img src=\"data:image/png;base64,iVBORw0KGgoAAAANSUhEUgAAAEcAAAAWBAMAAABgTJx+AAAAMFBMVEX////c3Nx2dna6uroQEBCI\n",
       "iIhUVFTMzMyYmJiqqqoiIiJmZmZEREQyMjLu7u4AAADjlg78AAAAAXRSTlMAQObYZgAAAQtJREFU\n",
       "KM9jYIADTgYiAM+gUfT2z9kHDLt+TcCuiHXtfa/TQPoE+wEGhg8MuXev3L0bAJGKXbVq1WIQg93e\n",
       "gE8/DMjIKghlYHBAtq4qDsZqyACGzDcgI/keWwGKIsaFMDUcD0Di24A4vYzvHooiNgOYIm7GBCD5\n",
       "FKSIM6AGRdFbuLNfMytAWekMmzkCQIrYoAJlcEVFnA1wRWwP0h2QvI2kiBmhiC/hLbIiLjjrDTvC\n",
       "OoYidmRF3BNgLN4HCQhFHBMOICniWwwPAgWQIj6IIgbFAygxtR3GOmEKJKweMDAcBtlwASXGzG5B\n",
       "o4UtJ47P5hwDg+0XoCl8F3BEf/X6L8kMtAXcq1bBkgoUAAADLkfl7PYm7gAAAABJRU5ErkJggg==\n",
       "\" style=\"display:inline;vertical-align:middle;\" /></a></td></tr>\n",
       "<tr><td>1</td><td>Literal</td><td></td><td><a class=\"ProveItLink\" href=\"../../../../logic/set_theory/containment/__pv_it/e2e953faef156628f98c5cddef8a5f8ea43a24550/expr.ipynb\"><img src=\"data:image/png;base64,iVBORw0KGgoAAAANSUhEUgAAAA4AAAAQBAMAAADUulMJAAAAJFBMVEX///+qqqpmZmZUVFTc3Nzu\n",
       "7u7MzMy6uroiIiIyMjKIiIgAAABMlAC/AAAAAXRSTlMAQObYZgAAAD1JREFUCNdjYGBY2dHR0c7A\n",
       "kLGUAQRYWsAUA3MBhI6EUAzJaDQHlGYSgNCs7VCBSDUoo3gG2FwcgKkDBNoBPfYM6Npt1O0AAAAA\n",
       "SUVORK5CYII=\n",
       "\" style=\"display:inline;vertical-align:middle;\" /></a></td></tr>\n",
       "<tr><td>2</td><td>ExprTuple</td><td>3, 4</td><td><a class=\"ProveItLink\" href=\"../39adaabddc85b27b5893c0ba40e40078284bc76e0/expr.ipynb\"><img src=\"data:image/png;base64,iVBORw0KGgoAAAANSUhEUgAAAEIAAAAbBAMAAAA6+0TkAAAAMFBMVEX///+qqqp2dnYiIiJERESI\n",
       "iIhmZmYQEBDc3NyYmJgyMjLu7u5UVFTMzMy6uroAAACGxKilAAAAAXRSTlMAQObYZgAAAXVJREFU\n",
       "KM+N079Lw0AUB/Bv1NbGS2L/hIxudhIRxLoIVZGAiIMOBUdFCv4DDk5OEfwDOim0ghn8AV1asItC\n",
       "SyniVLCggjhYRaEFrfguSWvOyuGDe3lHPsm7XBIgGAr+jOefcuD3OZMnvSARNZ5yjkSELEqXkAiM\n",
       "A5EUcu+zDtbeooIITRxvzQCrQDgJJPQ48IKrzGEmY3lAb9TZKJ3OOxisAxeVJSAldLGpufIJ9Nu4\n",
       "pWk5q1VEoTp8ukEt4limqlRjWVGEI3wPTolScy4U61oUZ4bpFcYH5rnApmpxoXVEVbH9Fbdx4ArN\n",
       "KaWC21A1fBH5wpgrWCEniBPd78JefYGqLoghp9C9x5En1Gg8KFSTC0aijaInMNIVjKfEA6U7B0YL\n",
       "i1Qt8B1Id0Q+xp+quMLu59z9aABPTbqedcV5i+ebqWaZDn1pDFd63vhjcMkWNLNH2IE6vw09JhX7\n",
       "NKZ7vrzgZJLGLiShJvk/YkrEjpv3JGId/4hvNIphCrVGQPgAAAAASUVORK5CYII=\n",
       "\" style=\"display:inline;vertical-align:middle;\" /></a></td></tr>\n",
       "<tr><td>3</td><td>Literal</td><td></td><td><a class=\"ProveItLink\" href=\"../../../sets/integer/__pv_it/42d4bc2e45d5054d807f2641a228c1b440fb8de30/expr.ipynb\"><img src=\"data:image/png;base64,iVBORw0KGgoAAAANSUhEUgAAABsAAAATBAMAAACTqWsLAAAAMFBMVEX////c3Nx2dna6uroQEBCI\n",
       "iIhUVFTMzMyYmJiqqqoiIiJmZmZEREQyMjLu7u4AAADjlg78AAAAAXRSTlMAQObYZgAAAHZJREFU\n",
       "GNNjYIADTgYUwEMy9+2fsw8Ydv2aAJM9wX6AgeEDQ+7dK3fvBjAwZBWEMjA4wPUm32MrQOKml/Hd\n",
       "Q+ZyBtQgcxk2cwSAuGxQLtuDdAe47ekMfAlvkbkMRewoXI4JB5C5DIoI7mEg5r4A49l+AcrwwbgA\n",
       "axoiJO4Xc9gAAAAASUVORK5CYII=\n",
       "\" style=\"display:inline;vertical-align:middle;\" /></a></td></tr>\n",
       "<tr><td>4</td><td>Literal</td><td></td><td><a class=\"ProveItLink\" href=\"../../../sets/complex/__pv_it/c357845f93a5a2d9f649129d299e7ec28dda4b960/expr.ipynb\"><img src=\"data:image/png;base64,iVBORw0KGgoAAAANSUhEUgAAAA8AAAAOBAMAAAACpFvcAAAAMFBMVEX////c3NyqqqqYmJhUVFR2\n",
       "dnbu7u66urrMzMxmZmZEREQQEBAyMjIiIiKIiIgAAAB7fvZ0AAAAAXRSTlMAQObYZgAAAGVJREFU\n",
       "CNdjYGDgu3N+70oGBgaO+gK2+CdAhoEzAwPTFwYG5oQNQN4UBgZORgcgI4+BIZM9gAEMWpkMoAx2\n",
       "KCOLAyrFk+AAYTAHgBhsQLy4DkjUJjAwsHg9Y6taBpLsvP/bnYEBACkBFGQfBv8RAAAAAElFTkSu\n",
       "QmCC\n",
       "\" style=\"display:inline;vertical-align:middle;\" /></a></td></tr>\n",
       "</table>\n"
      ],
      "text/plain": [
       "0. NaturalsPos subseteq Complexes\n",
       "   core type: Operation\n",
       "   operator: 1\n",
       "   operands: 2\n",
       "1. subseteq\n",
       "   core type: Literal\n",
       "   sub-expressions: \n",
       "2. (NaturalsPos , Complexes)\n",
       "   core type: ExprTuple\n",
       "   sub-expressions: 3, 4\n",
       "3. NaturalsPos\n",
       "   core type: Literal\n",
       "   sub-expressions: \n",
       "4. Complexes\n",
       "   core type: Literal\n",
       "   sub-expressions: "
      ]
     },
     "execution_count": 4,
     "metadata": {},
     "output_type": "execute_result"
    }
   ],
   "source": [
    "# display the expression information\n",
    "expr.exprInfo()"
   ]
  },
  {
   "cell_type": "code",
   "execution_count": null,
   "metadata": {},
   "outputs": [],
   "source": []
  }
 ],
 "metadata": {
  "kernelspec": {
   "display_name": "Python 3",
   "language": "python",
   "name": "python3"
  }
 },
 "nbformat": 4,
 "nbformat_minor": 0
}
