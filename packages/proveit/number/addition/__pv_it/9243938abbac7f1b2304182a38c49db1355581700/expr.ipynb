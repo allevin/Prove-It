{
 "cells": [
  {
   "cell_type": "markdown",
   "metadata": {},
   "source": [
    "Expression of type <a class=\"ProveItLink\" href=\"../../../../../../doc/html/api/proveit.Lambda.html\">Lambda</a>\n",
    "=======================\n",
    "# from context <a class=\"ProveItLink\" href=\"../../_context_.ipynb\">proveit.number.addition</a>"
   ]
  },
  {
   "cell_type": "code",
   "execution_count": 1,
   "metadata": {},
   "outputs": [],
   "source": [
    "# import Expression classes needed to build the expression\n",
    "from proveit import Lambda\n",
    "from proveit._common_ import a\n",
    "from proveit.logic import InSet\n",
    "from proveit.number import Neg, Reals"
   ]
  },
  {
   "cell_type": "code",
   "execution_count": 2,
   "metadata": {},
   "outputs": [
    {
     "data": {
      "text/html": [
       "<strong id=\"expr\">expr:</strong> <a class=\"ProveItLink\" href=\"expr.ipynb\"><img src=\"data:image/png;base64,iVBORw0KGgoAAAANSUhEUgAAANkAAAAVCAMAAAD8SruLAAAANlBMVEX///8UFBQNDQ0yMjKqqqrM\n",
       "zMzu7u4iIiJmZmaYmJhEREQQEBC6urp2dnaIiIhUVFTc3NwAAACAukRkAAAAAXRSTlMAQObYZgAA\n",
       "AjVJREFUWMPNl9mSrCAMhpkJiyKyvP/LHu0Z22xoM13VdXKTXshnfgwBjPl/zdaPPi5l6js2p0Gu\n",
       "ErCmTwpzhfquTe5GCbQYG8ACuRcwqEwQxww89Rcj7wZEU7fpcdFC1QOG3xknjljO1F9N4Xqfx7Q7\n",
       "X6Me8BdlhDhii6f+wvxCv2YIm4HIY3UmagH3ygSSE0faB1B/PYMWr0+YvT7DZx4k4F6ZRApiLXlN\n",
       "S9UXiMWPm1bqhWHUOqHfo+/VTnnWDg6QyliWGpITH8Nje/4f6PCCADBTL94pRllcebW3KlKYj/Vu\n",
       "4UIZz1JDMmJte5pT7Cnz5UQsiXr+xggqnevGR329L/sysWfyfWUiSw3JiOUxD+Fsdt9fgdjSnk84\n",
       "Pv36CmhY4ijX0IQfo1gHSZM5iwoFCGUiSw3JiG0X75vrvTNTzgcwZdwoCiWq7uuP2pnS+d+VMpGl\n",
       "hqTE2vZ5sBvU68omVM+LpZ4XI0Hhagzd3Qd8nu+rUWapISnRtz3LAsY6VZnDe3KcqWcrkqJmVHll\n",
       "7uWxTXBxx/Goq0xmqSEZce9zNkzm2cjp8YK01qMv8/6MWueJwoN8SL2uv9qjzV11fZGlhmTEbZ/I\n",
       "ycX8ylEmBerlboZQgIkV2In35/watx8hwuON0ADeG2WWHKkQR05XlfrXT1fGFqC98S7g/tx4ixy5\n",
       "KawvHne3vEbvEiLgs/ezl28xfnQq/fu3mLesFuq7VkavSDLgs8pMzdT3LnJu9OYnA/Jbyv4BNFUc\n",
       "oI8e3MgAAAAASUVORK5CYII=\n",
       "\" style=\"display:inline;vertical-align:middle;\" /></a><br>"
      ],
      "text/plain": [
       "expr: a -> ((-a) in Reals) | a in Reals"
      ]
     },
     "execution_count": 2,
     "metadata": {},
     "output_type": "execute_result"
    }
   ],
   "source": [
    "# build up the expression from sub-expressions\n",
    "expr = Lambda(a, InSet(Neg(a), Reals), conditions = [InSet(a, Reals)])"
   ]
  },
  {
   "cell_type": "code",
   "execution_count": 3,
   "metadata": {},
   "outputs": [
    {
     "name": "stdout",
     "output_type": "stream",
     "text": [
      "Passed sanity check: built 'expr' is the same as the stored Expression.\n"
     ]
    }
   ],
   "source": [
    "# check that the built expression is the same as the stored expression\n",
    "%check_expr"
   ]
  },
  {
   "cell_type": "code",
   "execution_count": 4,
   "metadata": {},
   "outputs": [
    {
     "data": {
      "text/html": [
       "<table><tr><th>&nbsp;</th><th>core type</th><th>sub-expressions</th><th>expression</th></tr>\n",
       "<tr><td>0</td><td>Lambda</td><td>parameter:&nbsp;9<br>body:&nbsp;1<br>conditions:&nbsp;2<br></td><td><a class=\"ProveItLink\" href=\"expr.ipynb\"><img src=\"data:image/png;base64,iVBORw0KGgoAAAANSUhEUgAAANkAAAAVCAMAAAD8SruLAAAANlBMVEX///8UFBQNDQ0yMjKqqqrM\n",
       "zMzu7u4iIiJmZmaYmJhEREQQEBC6urp2dnaIiIhUVFTc3NwAAACAukRkAAAAAXRSTlMAQObYZgAA\n",
       "AjVJREFUWMPNl9mSrCAMhpkJiyKyvP/LHu0Z22xoM13VdXKTXshnfgwBjPl/zdaPPi5l6js2p0Gu\n",
       "ErCmTwpzhfquTe5GCbQYG8ACuRcwqEwQxww89Rcj7wZEU7fpcdFC1QOG3xknjljO1F9N4Xqfx7Q7\n",
       "X6Me8BdlhDhii6f+wvxCv2YIm4HIY3UmagH3ygSSE0faB1B/PYMWr0+YvT7DZx4k4F6ZRApiLXlN\n",
       "S9UXiMWPm1bqhWHUOqHfo+/VTnnWDg6QyliWGpITH8Nje/4f6PCCADBTL94pRllcebW3KlKYj/Vu\n",
       "4UIZz1JDMmJte5pT7Cnz5UQsiXr+xggqnevGR329L/sysWfyfWUiSw3JiOUxD+Fsdt9fgdjSnk84\n",
       "Pv36CmhY4ijX0IQfo1gHSZM5iwoFCGUiSw3JiG0X75vrvTNTzgcwZdwoCiWq7uuP2pnS+d+VMpGl\n",
       "hqTE2vZ5sBvU68omVM+LpZ4XI0Hhagzd3Qd8nu+rUWapISnRtz3LAsY6VZnDe3KcqWcrkqJmVHll\n",
       "7uWxTXBxx/Goq0xmqSEZce9zNkzm2cjp8YK01qMv8/6MWueJwoN8SL2uv9qjzV11fZGlhmTEbZ/I\n",
       "ycX8ylEmBerlboZQgIkV2In35/watx8hwuON0ADeG2WWHKkQR05XlfrXT1fGFqC98S7g/tx4ixy5\n",
       "KawvHne3vEbvEiLgs/ezl28xfnQq/fu3mLesFuq7VkavSDLgs8pMzdT3LnJu9OYnA/Jbyv4BNFUc\n",
       "oI8e3MgAAAAASUVORK5CYII=\n",
       "\" style=\"display:inline;vertical-align:middle;\" /></a></td></tr>\n",
       "<tr><td>1</td><td>Operation</td><td>operator:&nbsp;6<br>operands:&nbsp;3<br></td><td><a class=\"ProveItLink\" href=\"../5874c97082818777b9ad88b9fe740bfd85744bd10/expr.ipynb\"><img src=\"data:image/png;base64,iVBORw0KGgoAAAANSUhEUgAAAFIAAAAVBAMAAAAnX6R8AAAAMFBMVEX////c3NwiIiJERESqqqqY\n",
       "mJh2dnZmZmYQEBDu7u4yMjJUVFTMzMyIiIi6uroAAAAs73DqAAAAAXRSTlMAQObYZgAAAUFJREFU\n",
       "KM9jYCAe8F1A5cfhVHkajc9+AJXPut7414q1INZKdK0L0PjMjBt4TBYyMPBeQFcZhqGygMFSmIGB\n",
       "YwK6yhkQivOWktICmMocZgaGVxgOZ3YAU6cikcwEqSxDUsO4N6+RgYGtAMy2RLZ9J9D2pUgqXwgw\n",
       "f2BgYIHYKYCkkk8V6KM+JCO/MrAbAAO4AcSZjOSjJqUlQPofUMUiJRB4wP2BgQkYEjwfwOaDhKA+\n",
       "qiuwhKiEAX4DhvkHYCpPI4dSHYjXglApf4HBn2EC1PZJyCq55gYwMJgiVM53YNjFcoCBFWwndwCS\n",
       "Sp4NexgY0hEquQJY1NlgocSphxxKKcCgeIQcnPcO3wNqeADmSdXAU8jnA1xWXxg4BHDEJoP3IiWU\n",
       "xMKagK4yF1f6RE91nAtwqZRG43ML4FLJiJZA7+BQBwCJ+Uq46piO+gAAAABJRU5ErkJggg==\n",
       "\" style=\"display:inline;vertical-align:middle;\" /></a></td></tr>\n",
       "<tr><td>2</td><td>ExprTuple</td><td>4</td><td><a class=\"ProveItLink\" href=\"../de4a1a2dbcf554f3d62b6f1241713b658726afad0/expr.ipynb\"><img src=\"data:image/png;base64,iVBORw0KGgoAAAANSUhEUgAAAD8AAAAVBAMAAAADRiu8AAAAMFBMVEX////c3NwiIiJERESqqqqY\n",
       "mJh2dnZmZmYQEBDu7u4yMjJUVFTMzMyIiIi6uroAAAAs73DqAAAAAXRSTlMAQObYZgAAATdJREFU\n",
       "KM9jYCAI+C7glosDEaexSER9tl/VBdTIfgDIWYlNq4E0w2EvAQaGBQwMvFhtMBBnYJ5owMAQxsDA\n",
       "MQFJnPOWktICqAK2A0AFMxgYXiFrPBWJMAGsgNmBoQzIZdyb1wgSZrREsoIbZAVbAcNSIPeFAPMH\n",
       "kDCzAJKCR1FAHssChj6gxq8M7AYg4ckIR0ooaTmAAqmB4R8DA/cHBiawX14oKcEd+ZwZ5HqeDyAF\n",
       "/AYM8w+ghpmBOPubDRAFLQwM8hcY/BlA6ichh8PKqxArTBkY5jsw7GIBGcEdgKTgNDdQiHUBQzoD\n",
       "A1cAizobOJz0kBSwORiCvfkIFAz3Dt8Di0vVwCPLhmHxegcGrgcMHALIQem9COILGAAGNWsCvsSS\n",
       "iyu6YZEHMk4ajwJukP2MeJLcHQYGANSQScYo9jdwAAAAAElFTkSuQmCC\n",
       "\" style=\"display:inline;vertical-align:middle;\" /></a></td></tr>\n",
       "<tr><td>3</td><td>ExprTuple</td><td>5, 10</td><td><a class=\"ProveItLink\" href=\"../b445e35781dab6aa9266b70f95bec3baeb912dc10/expr.ipynb\"><img src=\"data:image/png;base64,iVBORw0KGgoAAAANSUhEUgAAAD8AAAAVBAMAAAADRiu8AAAAMFBMVEX////c3NwiIiJERESqqqqY\n",
       "mJh2dnZmZmYQEBDu7u4yMjJUVFTMzMyIiIi6uroAAAAs73DqAAAAAXRSTlMAQObYZgAAAR9JREFU\n",
       "KM9jYCAI+C7glosDEaexSER9tl/VBdTIfgDIWYlNq4E0w2EvAQaGBQwMvFhtMBBnYJ5owMAQxsDA\n",
       "MQGHArYDQAUzGBheMeBTwOzAUIYkzLg3rxGugBtkBVsBw1IkBS8EmD/AFTyKAjqSZQFDH5IBXxnY\n",
       "DaAKJJS0HECB1MDwDyixSAkEHnB/YGC6ADPhOTPI9TwfQApggN+AYf4BmAL2NxsgCloQCuQvMPgz\n",
       "TIC5YeVViBWmCAXzHRh2sRzghCo4zQ00jXUBQzpCAVcAizobw3wFaDg4GIK9+Qg5GO4dvscw4yM4\n",
       "smwYFq93YOB6wMAhgB6KD5HYwKBmTUBXEIDEzsUW3UgKOIHRzSCNJs+LxOYG2c+IJ8ndYWAAAGj5\n",
       "RcT12Uo5AAAAAElFTkSuQmCC\n",
       "\" style=\"display:inline;vertical-align:middle;\" /></a></td></tr>\n",
       "<tr><td>4</td><td>Operation</td><td>operator:&nbsp;6<br>operands:&nbsp;7<br></td><td><a class=\"ProveItLink\" href=\"../12e1039409d0a183701ae59c5c952745fb6478810/expr.ipynb\"><img src=\"data:image/png;base64,iVBORw0KGgoAAAANSUhEUgAAADMAAAAPBAMAAAC7N+rPAAAAMFBMVEX///8yMjKqqqrMzMzu7u4i\n",
       "IiJmZmaYmJhEREQQEBC6urp2dnaIiIhUVFTc3NwAAAD87Fq/AAAAAXRSTlMAQObYZgAAAMNJREFU\n",
       "GNNjYMAAhT/6BSceYMAKGt4yWCg+wC71jIHDrwFZhOVgaKgAVIrbAEXKsAShCyLFd2fXPJAAXwuS\n",
       "gbxgA1c+4PgAEuB4gCS1tBDI4/vOwAY21wPhjJehgQpAmvcDAyvYEytDQ+HOWMbhAKT5Gxj8DUAC\n",
       "tkiOZ1t8AUi/P8CgzwBS44rsL5HjQNpfgeEiE0gbbwGSlC0vUIixgCmMG+zjKCQpboU+kLdOWZwC\n",
       "izxMhgdvM4OEvAJycOiKQlwIBQB1/jwDBuYV5wAAAABJRU5ErkJggg==\n",
       "\" style=\"display:inline;vertical-align:middle;\" /></a></td></tr>\n",
       "<tr><td>5</td><td>Operation</td><td>operator:&nbsp;8<br>operand:&nbsp;9<br></td><td><a class=\"ProveItLink\" href=\"../5bdd387ae2a10752c3ad16ba6b67c0e39d26b0ee0/expr.ipynb\"><img src=\"data:image/png;base64,iVBORw0KGgoAAAANSUhEUgAAABoAAAAJBAMAAADeJiHIAAAAMFBMVEX///+qqqrMzMzu7u5mZmaY\n",
       "mJhEREQQEBB2dnaIiIhUVFS6uroiIiIyMjLc3NwAAAAxFEmoAAAAAXRSTlMAQObYZgAAAExJREFU\n",
       "CNdjYICBVzO2P4BzuOsY8uEchvcBDG4MDG/PgMBphvUMDCcRct8YmD/BOXw/GRg/MMN4zB8ZuC4I\n",
       "wSWvMsg4NCCsm7kpcwMArzoXiK6Dv2MAAAAASUVORK5CYII=\n",
       "\" style=\"display:inline;vertical-align:middle;\" /></a></td></tr>\n",
       "<tr><td>6</td><td>Literal</td><td></td><td><a class=\"ProveItLink\" href=\"../../../../logic/set_theory/membership/__pv_it/088cbc857536a28d4119ad9639a84270ccb0545d0/expr.ipynb\"><img src=\"data:image/png;base64,iVBORw0KGgoAAAANSUhEUgAAAAwAAAAMBAMAAACkW0HUAAAALVBMVEX///+qqqpmZmZUVFQQEBC6\n",
       "urpERETc3NyYmJjMzMwiIiIyMjKIiIju7u4AAACYsrA9AAAAAXRSTlMAQObYZgAAADxJREFUCNdj\n",
       "YOA9vWrVBgaG2b0MQMCeCyIZ2ArA1DUwyRCyahVIyWQI7xaEYm4AU7xLIdxqTQgtvGvVBgCkcQ7e\n",
       "geM/tQAAAABJRU5ErkJggg==\n",
       "\" style=\"display:inline;vertical-align:middle;\" /></a></td></tr>\n",
       "<tr><td>7</td><td>ExprTuple</td><td>9, 10</td><td><a class=\"ProveItLink\" href=\"../2aa3c33b979b37cda7b84a5e2308eb5c8291c7180/expr.ipynb\"><img src=\"data:image/png;base64,iVBORw0KGgoAAAANSUhEUgAAAC8AAAAVBAMAAAAk6KpUAAAAMFBMVEX////c3NwiIiJERESqqqqY\n",
       "mJh2dnZmZmYQEBDu7u4yMjJUVFTMzMyIiIi6uroAAAAs73DqAAAAAXRSTlMAQObYZgAAARVJREFU\n",
       "KM9jYMAJ+C5gisWBiNNIAlGf7Vd1ARWyHwByViIrNZBmOOwlwMCwgIGBF8UkA3EG5okGDAxhDAwc\n",
       "E9Ak2A4AJWYwMLxiwCbB7MBQBuQy7s1rhEtwg4xiK2BYCuS+EGD+AJd4FAW0nGUBQx9Qw1cGdgOo\n",
       "hISSlgPIcw0M/xgYuD8wMF2A6XjODHINzweQBL8Bw/wDMAn2NxsgEi0MDPIXGPwZJsDsWHkVYpQp\n",
       "A8N8B4ZdLAc4oRKnuYG6WRcwpDMwcAWwqLMxzFeA+sPBEOzcRyBv3Dt8j2HGR3Ag2jAsXu/AwPWA\n",
       "gUMA5uuHSCEADBLWBBgnAEkiFznYkSQ4gcHOIA3l8CJp4AaZz4glau8wMAAAODBDl6KECvwAAAAA\n",
       "SUVORK5CYII=\n",
       "\" style=\"display:inline;vertical-align:middle;\" /></a></td></tr>\n",
       "<tr><td>8</td><td>Literal</td><td></td><td><a class=\"ProveItLink\" href=\"../../../negation/__pv_it/3fc7a08bb9735faa20ef8e175f6ea95511acc9c70/expr.ipynb\"><img src=\"data:image/png;base64,iVBORw0KGgoAAAANSUhEUgAAAA4AAAACBAMAAACapPCZAAAAElBMVEX///+6uroiIiIyMjLc3NwA\n",
       "AAA6l9OrAAAAAXRSTlMAQObYZgAAABBJREFUCNdjcFYCAUUGKAAADR4BD8/TF5gAAAAASUVORK5C\n",
       "YII=\n",
       "\" style=\"display:inline;vertical-align:middle;\" /></a></td></tr>\n",
       "<tr><td>9</td><td>Variable</td><td></td><td><a class=\"ProveItLink\" href=\"../../../../__pv_it/07527342713064c87612d00d8557c53d53d5324a0/expr.ipynb\"><img src=\"data:image/png;base64,iVBORw0KGgoAAAANSUhEUgAAAAsAAAAJBAMAAAAWSsseAAAAMFBMVEX///8yMjKqqqrMzMzu7u4i\n",
       "IiJmZmaYmJhEREQQEBC6urp2dnaIiIhUVFTc3NwAAAD87Fq/AAAAAXRSTlMAQObYZgAAAEhJREFU\n",
       "CNdjYOC7s2seAwPDygccHxgY+L4zsDUwMPB+YGA9wMDA38Dgb8DA8P4Agz6DA4O/AsNFJgMGxgKm\n",
       "MG6gyjunLE4xAAAZTBA5TB6DCwAAAABJRU5ErkJggg==\n",
       "\" style=\"display:inline;vertical-align:middle;\" /></a></td></tr>\n",
       "<tr><td>10</td><td>Literal</td><td></td><td><a class=\"ProveItLink\" href=\"../../../sets/real/__pv_it/9e7645ee1117062e179dd6264898f99ed95b157c0/expr.ipynb\"><img src=\"data:image/png;base64,iVBORw0KGgoAAAANSUhEUgAAAA8AAAAOBAMAAAACpFvcAAAAMFBMVEX///8iIiK6urp2dnbu7u5m\n",
       "ZmaqqqrMzMxUVFTc3NyIiIgQEBBEREQyMjKYmJgAAAA9nvXMAAAAAXRSTlMAQObYZgAAAFJJREFU\n",
       "CNdjePvn/N29CxiA4MAMhprcCSDGVAYezwMQBnMBOoMDJqX4Fqx4tqBsAlj7VFUeBwiDVb0BwmC4\n",
       "sg7KqOAogJqTcJKBAWjpcYY79xMAyqEnfsw4ApEAAAAASUVORK5CYII=\n",
       "\" style=\"display:inline;vertical-align:middle;\" /></a></td></tr>\n",
       "</table>\n"
      ],
      "text/plain": [
       "0. a -> ((-a) in Reals) | a in Reals\n",
       "   core type: Lambda\n",
       "   parameter: 9\n",
       "   body: 1\n",
       "   conditions: 2\\n1. (-a) in Reals\n",
       "   core type: Operation\n",
       "   operator: 6\n",
       "   operands: 3\n",
       "2. (a in Reals)\n",
       "   core type: ExprTuple\n",
       "   sub-expressions: 4\n",
       "3. (-a , Reals)\n",
       "   core type: ExprTuple\n",
       "   sub-expressions: 5, 10\n",
       "4. a in Reals\n",
       "   core type: Operation\n",
       "   operator: 6\n",
       "   operands: 7\n",
       "5. -a\n",
       "   core type: Operation\n",
       "   operator: 8\n",
       "   operand: 9\n",
       "6. in\n",
       "   core type: Literal\n",
       "   sub-expressions: \n",
       "7. (a , Reals)\n",
       "   core type: ExprTuple\n",
       "   sub-expressions: 9, 10\n",
       "8. -\n",
       "   core type: Literal\n",
       "   sub-expressions: \n",
       "9. a\n",
       "   core type: Variable\n",
       "   sub-expressions: \n",
       "10. Reals\n",
       "    core type: Literal\n",
       "    sub-expressions: "
      ]
     },
     "execution_count": 4,
     "metadata": {},
     "output_type": "execute_result"
    }
   ],
   "source": [
    "# display the expression information\n",
    "expr.exprInfo()"
   ]
  },
  {
   "cell_type": "code",
   "execution_count": null,
   "metadata": {},
   "outputs": [],
   "source": []
  }
 ],
 "metadata": {
  "kernelspec": {
   "display_name": "Python 3",
   "language": "python",
   "name": "python3"
  }
 },
 "nbformat": 4,
 "nbformat_minor": 0
}
