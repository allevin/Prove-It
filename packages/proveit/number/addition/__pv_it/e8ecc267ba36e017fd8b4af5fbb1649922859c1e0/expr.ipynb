{
 "cells": [
  {
   "cell_type": "markdown",
   "metadata": {},
   "source": [
    "Expression of type <a class=\"ProveItLink\" href=\"../../../../../../doc/html/api/proveit.logic.Equals.html\">Equals</a>\n",
    "=======================\n",
    "# from context <a class=\"ProveItLink\" href=\"../../_context_.ipynb\">proveit.number.addition</a>"
   ]
  },
  {
   "cell_type": "code",
   "execution_count": 1,
   "metadata": {},
   "outputs": [],
   "source": [
    "# import Expression classes needed to build the expression\n",
    "from proveit.logic import Equals\n",
    "from proveit.number import Add, five, three, two, zero"
   ]
  },
  {
   "cell_type": "code",
   "execution_count": 2,
   "metadata": {},
   "outputs": [
    {
     "data": {
      "text/html": [
       "<strong id=\"expr\">expr:</strong> <a class=\"ProveItLink\" href=\"expr.ipynb\"><img src=\"data:image/png;base64,iVBORw0KGgoAAAANSUhEUgAAAKkAAAAVBAMAAADP89MSAAAAMFBMVEX////c3NwiIiJERESqqqqY\n",
       "mJh2dnZmZmYQEBDu7u4yMjJUVFTMzMyIiIi6uroAAAAs73DqAAAAAXRSTlMAQObYZgAAAhZJREFU\n",
       "OMu1lb9rFEEUxz+72eSy98u1ukLBoCKCoiLY6v4DIbERbGRRSRpDDosETsUoNorE0yZXBsUia3Ol\n",
       "oMVVWljkEETwDB6WQjCKnkRI1tnbNdyb3bM5nGJn9vt2PjNv3pu38H9asTnA5Av9DG9gae26JpYq\n",
       "p6WQn7rkSsW+8b5BpqHjsueNy6pbgWM8klajzicJKVHcktPNtn0UlnXqaBB4UGhSGKMQWx9GXa6K\n",
       "uSGUWZfv8R6dqH8LH+BcYq/XroRsBahT/BZp4/GCd8ltC2Vih2rFcTgCXx1qOjXXfX6BXWXyPwQj\n",
       "u0lGUtk5gb/UX7DqMuSmUudgn0d+S2NgbmpKti6oRkdRm4yUdepaqw1PI2pHp656Unn1jCTVw+oG\n",
       "pOKHrfvFUNVWXi72oT5BUwqLadTiQjJXn8N2+glkTuhUHlRTTiC/kaTONkJqGK2fkR+HYz9ogVD2\n",
       "wplJtZjvP77n+/U4WpNJ6klFbXOHMLMsmVlYZXb3KnZQ7VJlZk048Qlc3R+2A+HwNtx0OEV4C0bG\n",
       "JPU1nBXKbzjuCKq6BRdhWL9cKid8mFajg9QagmEcmpqW67yj2JH5arr2fZKZVcK6BZ/VaGnmpYyN\n",
       "GQSBpFrzFVdS7bmW2kq2rVHz8y+UT6NOrzaeCGhCsUTlrKUXwmGv9209YV//dz2e6VNfVwYp+fZy\n",
       "H8OeQag5p4/BGOQP8zFd/gPRlJ1uipaiZwAAAABJRU5ErkJggg==\n",
       "\" style=\"display:inline;vertical-align:middle;\" /></a><br>"
      ],
      "text/plain": [
       "expr: (0 + 2 + 3 + 0) = 5"
      ]
     },
     "execution_count": 2,
     "metadata": {},
     "output_type": "execute_result"
    }
   ],
   "source": [
    "# build up the expression from sub-expressions\n",
    "expr = Equals(Add(zero, two, three, zero), five)"
   ]
  },
  {
   "cell_type": "code",
   "execution_count": 3,
   "metadata": {},
   "outputs": [
    {
     "name": "stdout",
     "output_type": "stream",
     "text": [
      "Passed sanity check: built 'expr' is the same as the stored Expression.\n"
     ]
    }
   ],
   "source": [
    "# check that the built expression is the same as the stored expression\n",
    "%check_expr"
   ]
  },
  {
   "cell_type": "code",
   "execution_count": 4,
   "metadata": {},
   "outputs": [
    {
     "data": {
      "text/html": [
       "<table><tr><th>&nbsp;</th><th>core type</th><th>sub-expressions</th><th>expression</th></tr>\n",
       "<tr><td>0</td><td>Operation</td><td>operator:&nbsp;1<br>operands:&nbsp;2<br></td><td><a class=\"ProveItLink\" href=\"expr.ipynb\"><img src=\"data:image/png;base64,iVBORw0KGgoAAAANSUhEUgAAAKkAAAAVBAMAAADP89MSAAAAMFBMVEX////c3NwiIiJERESqqqqY\n",
       "mJh2dnZmZmYQEBDu7u4yMjJUVFTMzMyIiIi6uroAAAAs73DqAAAAAXRSTlMAQObYZgAAAhZJREFU\n",
       "OMu1lb9rFEEUxz+72eSy98u1ukLBoCKCoiLY6v4DIbERbGRRSRpDDosETsUoNorE0yZXBsUia3Ol\n",
       "oMVVWljkEETwDB6WQjCKnkRI1tnbNdyb3bM5nGJn9vt2PjNv3pu38H9asTnA5Av9DG9gae26JpYq\n",
       "p6WQn7rkSsW+8b5BpqHjsueNy6pbgWM8klajzicJKVHcktPNtn0UlnXqaBB4UGhSGKMQWx9GXa6K\n",
       "uSGUWZfv8R6dqH8LH+BcYq/XroRsBahT/BZp4/GCd8ltC2Vih2rFcTgCXx1qOjXXfX6BXWXyPwQj\n",
       "u0lGUtk5gb/UX7DqMuSmUudgn0d+S2NgbmpKti6oRkdRm4yUdepaqw1PI2pHp656Unn1jCTVw+oG\n",
       "pOKHrfvFUNVWXi72oT5BUwqLadTiQjJXn8N2+glkTuhUHlRTTiC/kaTONkJqGK2fkR+HYz9ogVD2\n",
       "wplJtZjvP77n+/U4WpNJ6klFbXOHMLMsmVlYZXb3KnZQ7VJlZk048Qlc3R+2A+HwNtx0OEV4C0bG\n",
       "JPU1nBXKbzjuCKq6BRdhWL9cKid8mFajg9QagmEcmpqW67yj2JH5arr2fZKZVcK6BZ/VaGnmpYyN\n",
       "GQSBpFrzFVdS7bmW2kq2rVHz8y+UT6NOrzaeCGhCsUTlrKUXwmGv9209YV//dz2e6VNfVwYp+fZy\n",
       "H8OeQag5p4/BGOQP8zFd/gPRlJ1uipaiZwAAAABJRU5ErkJggg==\n",
       "\" style=\"display:inline;vertical-align:middle;\" /></a></td></tr>\n",
       "<tr><td>1</td><td>Literal</td><td></td><td><a class=\"ProveItLink\" href=\"../../../../logic/equality/__pv_it/2fb26078095930560931daa0500ce419a39ea6cd0/expr.ipynb\"><img src=\"data:image/png;base64,iVBORw0KGgoAAAANSUhEUgAAAA4AAAAFBAMAAACHocAhAAAAFVBMVEX///9EREQiIiJUVFQyMjJm\n",
       "ZmYAAADubVkoAAAAAXRSTlMAQObYZgAAABRJREFUCNdjCHEBAWcGXCBICQQUAUpuAwlgGKrkAAAA\n",
       "AElFTkSuQmCC\n",
       "\" style=\"display:inline;vertical-align:middle;\" /></a></td></tr>\n",
       "<tr><td>2</td><td>ExprTuple</td><td>3, 4</td><td><a class=\"ProveItLink\" href=\"../85e1fa5a9cfb136fc174225778468d9b0e32f9840/expr.ipynb\"><img src=\"data:image/png;base64,iVBORw0KGgoAAAANSUhEUgAAAJUAAAAVBAMAAAC9PLGkAAAAMFBMVEX////c3NwiIiJERESqqqqY\n",
       "mJh2dnZmZmYQEBDu7u4yMjJUVFTMzMyIiIi6uroAAAAs73DqAAAAAXRSTlMAQObYZgAAAgdJREFU\n",
       "OMutlD9oE1Ecxz93uTa55K6JUwcHO4gIiojoKtmcinERXCSItCAWb2qhKv7BRRCpLs3WA3XwXDIK\n",
       "Otykg0OLi2IsRkdBUqFWMtjzvbyY5ncxdGh+w7vf+9zvfd/7/e53D0ZpE2sjkbmoh3ewvH4j9WZy\n",
       "8XSKvJk5KYF780NsvPwF6zJZPXkOx3gcizirzpeyJAEtmYDddI8aL5ckVQjBX8Ofwg8NfmQehSXs\n",
       "DUHGNylOCfIePnXPdf2qGs8rUbWszsRPg6e7O92nsC2Is6PVJUegVTI7d8YafIdigLcp4vJtslJL\n",
       "2b8cu+Q3rJb7tDJl5uFAFe9PeqXdTpMX9BNrS2kZ9cJ6o6mqEPDMaG2lV65WJfGu1Ae1TExmyVVJ\n",
       "OCEPh2g9IU0+NodoKXup+vQ22//PMXt8QCvXHpKjsmsx3obW0rX/pcBiFB2OIlOWRmfcIVZMRsbo\n",
       "2lc6USeUVlNr3UP3hCN7AidgnyArbaMleuKs6Ym7cKukczyF7tVx2Tu8hXOCFENsuZ/q1Uu42gsg\n",
       "grGQWTU5SC0WcdahmVmp7ldoyS9rl90HrOioSZw7nZ74pibLc69lpe0kSVInPbPwVMa4842Ymj6r\n",
       "t/BKJZtvkiv1/7DTA3fJLuRrz1P/0Fi1/9WPgZW7kErPmzN3zh6sp+Xqm2b/XqT8nlfQtbJGc0d/\n",
       "hr/0+Zl7FIsvhQAAAABJRU5ErkJggg==\n",
       "\" style=\"display:inline;vertical-align:middle;\" /></a></td></tr>\n",
       "<tr><td>3</td><td>Operation</td><td>operator:&nbsp;5<br>operands:&nbsp;6<br></td><td><a class=\"ProveItLink\" href=\"../d2b99dc3fe5bdacd00240e904a0b3bd83a0915960/expr.ipynb\"><img src=\"data:image/png;base64,iVBORw0KGgoAAAANSUhEUgAAAHUAAAAQBAMAAADaEy1mAAAAMFBMVEX///9EREQQEBCYmJh2dnaq\n",
       "qqrc3NxUVFQyMjK6uroiIiLMzMyIiIhmZmbu7u4AAADSWfX9AAAAAXRSTlMAQObYZgAAAVxJREFU\n",
       "KM+FkzFLw0AYhl/EpE2aRlcnV0XQTs4ROolifkChmVykmN1FJw8nf4BgEUXEwQyu0oJDRRQ7OBRU\n",
       "CA4OQkEwikptvOTa2u9S8Ya85OF7Lh/3XYDm1R3oKjXGKMjk52xKzPtrj8cRnj3CVRc3tLQErUVd\n",
       "fds8BowyjHUBnkSkfOgvhCzZ+Op8zxF5CVzwHVxo7wIURAxNI/VJSLHnKlWRh8Cug5E6Mm+kMt1G\n",
       "lrro9dx1v4GKjVULmZZUCb0tkbRLXDXgbjV2A9mtWJScbiLpWoPdDUjEmPzLlXvOjsouZvwBPUdn\n",
       "9cpfG4ztMSZ6q8XPX7ICjOf4loxtTTDmds4qF81IoTOCUsdyPzFDP3bpjIpOdDeGy9Q9A2YJ+QBO\n",
       "HOLyuzHP4wCPHqlU9/OLdLdzaAGdr26bUzyaC2v0ZPQwDKmrPDRs6pq3NfoTFCCvBOm6ibXzP9H6\n",
       "3R+LaXefNDRXJAAAAABJRU5ErkJggg==\n",
       "\" style=\"display:inline;vertical-align:middle;\" /></a></td></tr>\n",
       "<tr><td>4</td><td>Literal</td><td></td><td><a class=\"ProveItLink\" href=\"../../../numeral/__pv_it/aaeeaca7d86eb2b7cdc49e25c3108b81b52ec5400/expr.ipynb\"><img src=\"data:image/png;base64,iVBORw0KGgoAAAANSUhEUgAAAAkAAAAOBAMAAAAPuiubAAAAMFBMVEX///8iIiJERES6urqIiIjM\n",
       "zMxUVFRmZmYQEBCqqqp2dnbc3Nzu7u6YmJgyMjIAAADYGhJvAAAAAXRSTlMAQObYZgAAAE1JREFU\n",
       "CNdj4LvDvZKBgeP//wUMDHxlSxkYGNgYGBCki5sBAwPTAZ7PYG4GmFwfwKAIJA0YGhkY6jcwFDAw\n",
       "vGNg2M7A2c3AwFqetoEBAKS8EE1WXEJLAAAAAElFTkSuQmCC\n",
       "\" style=\"display:inline;vertical-align:middle;\" /></a></td></tr>\n",
       "<tr><td>5</td><td>Literal</td><td></td><td><a class=\"ProveItLink\" href=\"../3e6688136fa3c7aefbebe51301b7c3ebf0b69c440/expr.ipynb\"><img src=\"data:image/png;base64,iVBORw0KGgoAAAANSUhEUgAAAA4AAAAOBAMAAADtZjDiAAAAJFBMVEX///+6urpUVFQQEBAiIiIy\n",
       "MjJmZmaIiIiqqqrc3Nzu7u4AAACgHpL+AAAAAXRSTlMAQObYZgAAAB5JREFUCNdjYGBgWMkAAe2k\n",
       "0Kmhoc6hoUGk6BMHYgAHOwjcado9fwAAAABJRU5ErkJggg==\n",
       "\" style=\"display:inline;vertical-align:middle;\" /></a></td></tr>\n",
       "<tr><td>6</td><td>ExprTuple</td><td>9, 7, 8, 9</td><td><a class=\"ProveItLink\" href=\"../0ca2a64168abc23945e3bc947d5f1d2a3f9aa2c50/expr.ipynb\"><img src=\"data:image/png;base64,iVBORw0KGgoAAAANSUhEUgAAAFEAAAAVBAMAAADMaB9/AAAAMFBMVEX////c3NwiIiJERESqqqqY\n",
       "mJh2dnZmZmYQEBDu7u4yMjJUVFTMzMyIiIi6uroAAAAs73DqAAAAAXRSTlMAQObYZgAAAaNJREFU\n",
       "KM+NkztLI1EYhp/ExGSSzDhWFgpOITaK2ti68w8Smy0lKGglpoogChY2gmiwMZ0BsVhs8gMsUmlh\n",
       "YVhYFjYrXkobL2hEwcRzmZl4KcwUc97zzgPf+d7zDbT/WNU2oCn5OoGds2XP6Vma0CI1O+NqZaz8\n",
       "rRCrCPULRtiuKDdU5lwDPVivmgxfGMNQArOK6WCWlJssEL5VasHlXpO/4R/8hLj4WMa6U258nWRD\n",
       "qXRADsGNTRGuoStH6kG5iWdiDb9Tr/oTnLp0uOShP0vq1e8y/OyJRFkfvS7IKp059jVZ98nTrF6P\n",
       "DmiRWSIlNj+Re74wN9+T1iqNj9VjY0HaW4V31VO3kpQdPXqfa97aBz8yQUcZSa4hU4rolIjk6FYX\n",
       "0yz4pEgpbcvq48jkOx1UrWOYVOoFRm3DS34aoiXmxGaAYsWQQYcGZ+ccpf5g1dl1ZGyusYFM6Ups\n",
       "duYPMbZs4TabTUepyOKSS1GeycjXxFAkLojb/p3YfFGXQRDiNqNe0kQDt6UygZrXU/c9achZ6/U2\n",
       "rdEPlBlYSXmgUDt/x394A9gLcdxmBSofAAAAAElFTkSuQmCC\n",
       "\" style=\"display:inline;vertical-align:middle;\" /></a></td></tr>\n",
       "<tr><td>7</td><td>Literal</td><td></td><td><a class=\"ProveItLink\" href=\"../../../numeral/__pv_it/77d407a64829263cdc16415becd4c2293f77a4bf0/expr.ipynb\"><img src=\"data:image/png;base64,iVBORw0KGgoAAAANSUhEUgAAAAkAAAAOBAMAAAAPuiubAAAAMFBMVEX///+YmJh2dnbMzMwQEBAi\n",
       "IiLu7u6qqqqIiIhUVFS6urpEREQyMjJmZmbc3NwAAACOMKdoAAAAAXRSTlMAQObYZgAAAFBJREFU\n",
       "CNdj4Lt7egEDw0sGju8MDNMYGOIZGFwSGOYvYDifwHAfKAEUSQASzJ9ATJ4NIPI2iOCYACJrGfge\n",
       "MDBfYGB8wPBUSekqUPH//18ZAIliFhc3zESNAAAAAElFTkSuQmCC\n",
       "\" style=\"display:inline;vertical-align:middle;\" /></a></td></tr>\n",
       "<tr><td>8</td><td>Literal</td><td></td><td><a class=\"ProveItLink\" href=\"../../../numeral/__pv_it/9176d93c83afa2c995b614976e3cb49207102fa70/expr.ipynb\"><img src=\"data:image/png;base64,iVBORw0KGgoAAAANSUhEUgAAAAoAAAAOBAMAAADkjZCYAAAAMFBMVEX///+YmJju7u4QEBBUVFQy\n",
       "MjIiIiKIiIi6urpmZmbc3NyqqqpERER2dnbMzMwAAAB0GlNiAAAAAXRSTlMAQObYZgAAAE1JREFU\n",
       "CNdjYHh79zQDA9cEhv4CBt7fDPwJDNxgEgiAIkAQAsR8Vx1ATIbiBhDJ/ImB6wEDz0cG/U8gkj+A\n",
       "ge0XA7sAQ/8FBoadM6MZAEflFACalZ/OAAAAAElFTkSuQmCC\n",
       "\" style=\"display:inline;vertical-align:middle;\" /></a></td></tr>\n",
       "<tr><td>9</td><td>Literal</td><td></td><td><a class=\"ProveItLink\" href=\"../../../numeral/__pv_it/ec23fc7a1b4222a5f4948b495002b97d6fa18c3c0/expr.ipynb\"><img src=\"data:image/png;base64,iVBORw0KGgoAAAANSUhEUgAAAAoAAAAOBAMAAADkjZCYAAAALVBMVEX///8QEBCYmJh2dnaqqqrc\n",
       "3NxUVFQyMjK6uroiIiLMzMyIiIhmZmbu7u4AAAAZjyHdAAAAAXRSTlMAQObYZgAAAEpJREFUCNdj\n",
       "YLiz+xQDA8MMhpsLGLgnMHAXMHAmMHA8ZeA7wMD1hCHOgIHrNZh8jES+Bss+AqlkeQrSxTyBgWEK\n",
       "w8UFDAx3rLMYAMCjFldHSx/9AAAAAElFTkSuQmCC\n",
       "\" style=\"display:inline;vertical-align:middle;\" /></a></td></tr>\n",
       "</table>\n"
      ],
      "text/plain": [
       "0. (0 + 2 + 3 + 0) = 5\n",
       "   core type: Operation\n",
       "   operator: 1\n",
       "   operands: 2\n",
       "1. =\n",
       "   core type: Literal\n",
       "   sub-expressions: \n",
       "2. (0 + 2 + 3 + 0 , 5)\n",
       "   core type: ExprTuple\n",
       "   sub-expressions: 3, 4\n",
       "3. 0 + 2 + 3 + 0\n",
       "   core type: Operation\n",
       "   operator: 5\n",
       "   operands: 6\n",
       "4. 5\n",
       "   core type: Literal\n",
       "   sub-expressions: \n",
       "5. +\n",
       "   core type: Literal\n",
       "   sub-expressions: \n",
       "6. (0 , 2 , 3 , 0)\n",
       "   core type: ExprTuple\n",
       "   sub-expressions: 9, 7, 8, 9\n",
       "7. 2\n",
       "   core type: Literal\n",
       "   sub-expressions: \n",
       "8. 3\n",
       "   core type: Literal\n",
       "   sub-expressions: \n",
       "9. 0\n",
       "   core type: Literal\n",
       "   sub-expressions: "
      ]
     },
     "execution_count": 4,
     "metadata": {},
     "output_type": "execute_result"
    }
   ],
   "source": [
    "# display the expression information\n",
    "expr.exprInfo()"
   ]
  },
  {
   "cell_type": "code",
   "execution_count": null,
   "metadata": {},
   "outputs": [],
   "source": []
  }
 ],
 "metadata": {
  "kernelspec": {
   "display_name": "Python 3",
   "language": "python",
   "name": "python3"
  }
 },
 "nbformat": 4,
 "nbformat_minor": 0
}
