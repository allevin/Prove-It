{
 "cells": [
  {
   "cell_type": "markdown",
   "metadata": {},
   "source": [
    "Expression of type <a class=\"ProveItLink\" href=\"../../../../../../doc/html/api/proveit.ExprTuple.html\">ExprTuple</a>\n",
    "=======================\n",
    "# from context <a class=\"ProveItLink\" href=\"../../_context_.ipynb\">proveit.number.addition</a>"
   ]
  },
  {
   "cell_type": "code",
   "execution_count": 1,
   "metadata": {},
   "outputs": [],
   "source": [
    "# import Expression classes needed to build the expression\n",
    "from proveit import ExprTuple\n",
    "from proveit._common_ import a, b, c, d, e, f, g\n",
    "from proveit.number import Add"
   ]
  },
  {
   "cell_type": "code",
   "execution_count": 2,
   "metadata": {},
   "outputs": [
    {
     "data": {
      "text/html": [
       "<strong id=\"expr\">expr:</strong> <a class=\"ProveItLink\" href=\"expr.ipynb\"><img src=\"data:image/png;base64,iVBORw0KGgoAAAANSUhEUgAAAdcAAAAVBAMAAADm/bn5AAAAMFBMVEX////c3NwiIiJERESqqqqY\n",
       "mJh2dnZmZmYQEBDu7u4yMjJUVFTMzMyIiIi6uroAAAAs73DqAAAAAXRSTlMAQObYZgAAA89JREFU\n",
       "WMPlWEtoE1EUvTHfSZpkdl10kbixggjZVAURQ90qDYh1UdQiYjdGUsUu/KAtfqDSEkW00EVCoUjT\n",
       "TQTBIpQG3Ahuxk2LrVOibuqPpjSlBNrge5lkMvfOJBP7WXUg6czpPee8+z73vQnAnrp80t7I8yL/\n",
       "+mT0n9GBBug/npjHjC6IDTenIVP9YB2LEUSYfmMQ58ywrwlDiclGfPLmIUc6Io23e3JLQ+YPE8B6\n",
       "Zc0oLgngRbNYEEkegm5gnlX7tEARHUkovqils0VTfchynCCJn2EjVieAK64FbBLOQwWq1xn1zhGk\n",
       "iI5ky9XU2aKpPuQyRTqMWSMAvww1KnnU9XXHTFviDP5Hsg2Z6kNeU+SGMcsahj7+t2V2SUQM9/RC\n",
       "BEu8jH7FCi2zy2GMWPrmsArYpw7FSFPOz54tR09f7wcT0+ZoL7YQrsoZFMJU8sSha+AdTbZk6ojB\n",
       "OJ8//XASMxIh2EBA0zCMIQXOiWPNdtESI53sl8hIONOWdeVuSbTmTExt+6EZW3zMuoMohKkU6Mhu\n",
       "0pFVTG1JGGYPgQjcxIyOODxGwIgEbUiBcW5jTUtRKe9a30CGJHspXi5DljVwhkxMA1m4iyyEIbCi\n",
       "wecqSZKsZYMmq5j6HkCRPcwAHMYMlsc6Ambo8mHAAYx4Hl34XLNWVKCn0LSiROdgn2RiOnVOFrFF\n",
       "juhxlW5iqhZFNVnFtClXSnYVBN4bzlRqbDCVSrPbVvCtIWC13J5U6mAqNalwihjxK3NYQ6pUyipk\n",
       "y4NXmYf+ECQyJqbr1NQfInpcJUtMy3WuyiqbsmQfsnHfZL0hoO7Jg7OApssmGVkNp9KBfklfKo8T\n",
       "yLsCVqVPAhIb9nhdU6CmnIT1DFTAmiassimbxmwlCnnwJE8jxga4uhHAutyuVdBwKpouFiqRZIdI\n",
       "4+w5fuDhnZQIw3tbpr4pY3txf7IFi9asgUqpHYilmII9CT3saRzaY9jmLdzBg8Sq+TWkUOWoHZiE\n",
       "V2TrUWa6BhIKMCNCgk0qd8TW6oD6pvMg4K3HEwMHSs1ARZnXqKyVTPnW851vmfKfE1nEGJ2LkC0j\n",
       "KuONpspR60CPTCpO9UykQr9ltuWPrPANcvHDItQ3ddyTSanpk7+gEAOVyvFRwyqZgjsLLrHGwaTh\n",
       "w0yd4403qdc5yj7fYLum+hAVmTdgHVWOi/buui+3+rfdv2CKVEhd1giBfHyxV9bddkz1IWXEnm6j\n",
       "rLJptOYr3o5cg88pcl/0pHXJ7ujlmggamwp8lrXsnnFnL0VOybdALbG7ctl7RGNTD8cte+RnGfYe\n",
       "8w/RxpG5NmzA1wAAAABJRU5ErkJggg==\n",
       "\" style=\"display:inline;vertical-align:middle;\" /></a><br>"
      ],
      "text/plain": [
       "expr: (a + b + c + d + e + f + g , a + b + e + c + d + f + g)"
      ]
     },
     "execution_count": 2,
     "metadata": {},
     "output_type": "execute_result"
    }
   ],
   "source": [
    "# build up the expression from sub-expressions\n",
    "expr = ExprTuple(Add(a, b, c, d, e, f, g), Add(a, b, e, c, d, f, g))"
   ]
  },
  {
   "cell_type": "code",
   "execution_count": 3,
   "metadata": {},
   "outputs": [
    {
     "name": "stdout",
     "output_type": "stream",
     "text": [
      "Passed sanity check: built 'expr' is the same as the stored Expression.\n"
     ]
    }
   ],
   "source": [
    "# check that the built expression is the same as the stored expression\n",
    "%check_expr"
   ]
  },
  {
   "cell_type": "code",
   "execution_count": 4,
   "metadata": {},
   "outputs": [
    {
     "data": {
      "text/html": [
       "<table><tr><th>&nbsp;</th><th>core type</th><th>sub-expressions</th><th>expression</th></tr>\n",
       "<tr><td>0</td><td>ExprTuple</td><td>1, 2</td><td><a class=\"ProveItLink\" href=\"expr.ipynb\"><img src=\"data:image/png;base64,iVBORw0KGgoAAAANSUhEUgAAAdcAAAAVBAMAAADm/bn5AAAAMFBMVEX////c3NwiIiJERESqqqqY\n",
       "mJh2dnZmZmYQEBDu7u4yMjJUVFTMzMyIiIi6uroAAAAs73DqAAAAAXRSTlMAQObYZgAAA89JREFU\n",
       "WMPlWEtoE1EUvTHfSZpkdl10kbixggjZVAURQ90qDYh1UdQiYjdGUsUu/KAtfqDSEkW00EVCoUjT\n",
       "TQTBIpQG3Ahuxk2LrVOibuqPpjSlBNrge5lkMvfOJBP7WXUg6czpPee8+z73vQnAnrp80t7I8yL/\n",
       "+mT0n9GBBug/npjHjC6IDTenIVP9YB2LEUSYfmMQ58ywrwlDiclGfPLmIUc6Io23e3JLQ+YPE8B6\n",
       "Zc0oLgngRbNYEEkegm5gnlX7tEARHUkovqils0VTfchynCCJn2EjVieAK64FbBLOQwWq1xn1zhGk\n",
       "iI5ky9XU2aKpPuQyRTqMWSMAvww1KnnU9XXHTFviDP5Hsg2Z6kNeU+SGMcsahj7+t2V2SUQM9/RC\n",
       "BEu8jH7FCi2zy2GMWPrmsArYpw7FSFPOz54tR09f7wcT0+ZoL7YQrsoZFMJU8sSha+AdTbZk6ojB\n",
       "OJ8//XASMxIh2EBA0zCMIQXOiWPNdtESI53sl8hIONOWdeVuSbTmTExt+6EZW3zMuoMohKkU6Mhu\n",
       "0pFVTG1JGGYPgQjcxIyOODxGwIgEbUiBcW5jTUtRKe9a30CGJHspXi5DljVwhkxMA1m4iyyEIbCi\n",
       "wecqSZKsZYMmq5j6HkCRPcwAHMYMlsc6Ambo8mHAAYx4Hl34XLNWVKCn0LSiROdgn2RiOnVOFrFF\n",
       "juhxlW5iqhZFNVnFtClXSnYVBN4bzlRqbDCVSrPbVvCtIWC13J5U6mAqNalwihjxK3NYQ6pUyipk\n",
       "y4NXmYf+ECQyJqbr1NQfInpcJUtMy3WuyiqbsmQfsnHfZL0hoO7Jg7OApssmGVkNp9KBfklfKo8T\n",
       "yLsCVqVPAhIb9nhdU6CmnIT1DFTAmiassimbxmwlCnnwJE8jxga4uhHAutyuVdBwKpouFiqRZIdI\n",
       "4+w5fuDhnZQIw3tbpr4pY3txf7IFi9asgUqpHYilmII9CT3saRzaY9jmLdzBg8Sq+TWkUOWoHZiE\n",
       "V2TrUWa6BhIKMCNCgk0qd8TW6oD6pvMg4K3HEwMHSs1ARZnXqKyVTPnW851vmfKfE1nEGJ2LkC0j\n",
       "KuONpspR60CPTCpO9UykQr9ltuWPrPANcvHDItQ3ddyTSanpk7+gEAOVyvFRwyqZgjsLLrHGwaTh\n",
       "w0yd4403qdc5yj7fYLum+hAVmTdgHVWOi/buui+3+rfdv2CKVEhd1giBfHyxV9bddkz1IWXEnm6j\n",
       "rLJptOYr3o5cg88pcl/0pHXJ7ujlmggamwp8lrXsnnFnL0VOybdALbG7ctl7RGNTD8cte+RnGfYe\n",
       "8w/RxpG5NmzA1wAAAABJRU5ErkJggg==\n",
       "\" style=\"display:inline;vertical-align:middle;\" /></a></td></tr>\n",
       "<tr><td>1</td><td>Operation</td><td>operator:&nbsp;4<br>operands:&nbsp;3<br></td><td><a class=\"ProveItLink\" href=\"../e3affa654249bb22356c2118526532ca28df02400/expr.ipynb\"><img src=\"data:image/png;base64,iVBORw0KGgoAAAANSUhEUgAAAOAAAAASBAMAAACwWc/AAAAAMFBMVEX///8yMjKqqqrMzMzu7u4i\n",
       "IiJmZmaYmJhEREQQEBC6urp2dnaIiIhUVFTc3NwAAAD87Fq/AAAAAXRSTlMAQObYZgAAAhRJREFU\n",
       "OMu1lL9rE3EYxp9cz0t6Te56Q3EqBKTgIKSjYxAUpMR0KogI5yAOot4kgoqZdFCRDipoLYJLC4oF\n",
       "0UE6HAgd2qtEB0Eo9P6BkiMNrQQpfmvsNc97ppel7/Tlc+/7PO/7/XFAMipPkR5zz9JzKqsh+orR\n",
       "fpKa6SkPS96B3/VQaOmJBs/FK7MlSaJIb5/qpdMJzWetGOzHiXg1NClJokiLeuow39M60DDjphoa\n",
       "/9ex1j7PMs+srXqcOLH4heU3Vt4XmVhXl0Iuyv686ArDmyu3gPkwFzGv1rBJYOAFRkjenMWTMhuO\n",
       "hZYrxrF9MaFRt7ZgbcOoMS+V8ZLAWR8PSL7h4RJvstWGMS4MG+PC8F5Z3cdChCM+c6W1RWBdnqEC\n",
       "F5gUnt/5Kg+sJI/1FQZ2YNdQ3e3EcJyRacepq+UUzG0Cv/414jjnHWf0L9DbTOzOfnYVAR8F0prI\n",
       "T6Lhq07K1EgTRqsbWL/FhApokU4T2n7ylj4WKL+DnItqEd803v1NDC4QUPNmu+V1dRLDx8hwUKX6\n",
       "wnBGGGYj2EVkPG1qiHv7jmsMfgAfSP4oxtwFIvlhnBHPorPrXUhvYT1Uz3D55DLrV5Y8cZ0XA34E\n",
       "G8GbR6/5WXwKxNXb/2HF6F1wucc/oo8/TU8SF6mhEzr3KdWU+gmAt0gle0V3c55A5u7hH15Mn5bk\n",
       "RlioH6Lh7euSHA+uAH8AkbqqHIhTrrQAAAAASUVORK5CYII=\n",
       "\" style=\"display:inline;vertical-align:middle;\" /></a></td></tr>\n",
       "<tr><td>2</td><td>Operation</td><td>operator:&nbsp;4<br>operands:&nbsp;5<br></td><td><a class=\"ProveItLink\" href=\"../87fc913332aff4910deec79d3bd4e0c52f7d04fa0/expr.ipynb\"><img src=\"data:image/png;base64,iVBORw0KGgoAAAANSUhEUgAAAOAAAAASBAMAAACwWc/AAAAAMFBMVEX///8yMjKqqqrMzMzu7u4i\n",
       "IiJmZmaYmJhEREQQEBC6urp2dnaIiIhUVFTc3NwAAAD87Fq/AAAAAXRSTlMAQObYZgAAAe1JREFU\n",
       "OMu1lTtIw3AQxr/GGGtfMYNugqODUEfdiuCo7VRwUCoiDr4yqSBiJ0HEwcHJB10FxS4u6hBBHDRC\n",
       "dRMEM7k2xFJBRPxHreWuiUrBm8KPu++7/+sC1MbAJuqI0GqmRuja+lttez2GUDs4WYvrP1bIlX4c\n",
       "Dr5j0LcGOEwwIr/0+el8hmR8bU6JgWp0+dWIOOJEsn11KA+n6jJs40Tx1ondH+9SHri/1mni4+kM\n",
       "NZRPzG6SIlQcpt50N5xhaO5qAdizgjblySyeCJBG8EgNe3OBFEkRKiW+HNVgK1QKsTJiz1CylMcT\n",
       "2CKgmMMYMZS3ESSb4Kq0cMNiNzNcToj7GLXRaFA+CpQJuJs3LWIYtdkZuip5bhjnB72DhjeoWSTd\n",
       "ThRNa93QtIL4TCP0TED5qxFNG9I095Gqn3tSTXFVclSlcm2rSHIQSaFoiE4SpBEHSomAV35LiwZr\n",
       "3kMFWGdJkTcEM0h24EaiN+4JzXkCtkUyMVTFAZIz9FD5KCOGTbY7jQK6lA7Trb7FNAVnkOmziGYQ\n",
       "JvIeKmLQMEO5hAdLPKDLnkuaOnChs0kwZbKHP2mekxQPlerA+kYH5rjf1Khn0nASaalNWqE/GF5c\n",
       "A7CPX1MqZCmoMxSC7OD/YqOfk1krWvhHw8UZTjrNCeAdOxywNKfJhc8AAAAASUVORK5CYII=\n",
       "\" style=\"display:inline;vertical-align:middle;\" /></a></td></tr>\n",
       "<tr><td>3</td><td>ExprTuple</td><td>6, 7, 9, 10, 8, 11, 12</td><td><a class=\"ProveItLink\" href=\"../9feaf65eec6ae0b89ee16140481a53973de59a880/expr.ipynb\"><img src=\"data:image/png;base64,iVBORw0KGgoAAAANSUhEUgAAAIsAAAAVBAMAAACEWwD/AAAAMFBMVEX////c3NwiIiJERESqqqqY\n",
       "mJh2dnZmZmYQEBDu7u4yMjJUVFTMzMyIiIi6uroAAAAs73DqAAAAAXRSTlMAQObYZgAAAkFJREFU\n",
       "OMutlD9oE1Ecx79n7pJ7TZPe1qFD42LXLMVJDLoKHoh2EDSD0MVIKujgH7RF7CDWm6TgcIfQoXRJ\n",
       "oaAIoQFHl5sqVK9EXfwHvdiUUIjF3/tzzcUrRKg33H3e7/1+v/f7ve97B/ynJ+8fNcMV/noXt7yY\n",
       "O8Tty3zCxOqrvUGmQa/lvvmVw5ZrJyypa7uxkQfk/AER1PZewuR+K8VGlwDTGRABpAsJ0/m+0SLw\n",
       "fVAEMFRNmG72t1jCbfpo9RuzKqL+wZb0vPJRwtjGtmpgtDKj4i7PvVI0tXGBFq9iifirlQpVz0V0\n",
       "BQwv4KVscxanZd/6cYxG6/+ORKppHZrxsEDF7CJTVD07eCzb9TEpYNzGHTk33sQ9Fa11FVx1uCj5\n",
       "h9gHsiGOKb0ooiNgPVqX4ISk1xcDSxl1VTyeYLhFpYc8zUgRbkOaJ5CXB2InSrMDti+pk1RCbyNX\n",
       "EGkeUbU+CeioY5MRkmtR8wR6yPr2g0tTk99cC6mqaIp2wC3hjd4Qvl2YZZGRajI4sDay3jlhekph\n",
       "kBlN2gNORogRktHwME0q2/pEGi4vdA13wX4RkKDXBSzhTLUsaBNsRnrBbUIQ28O6JQT/zI/N1tst\n",
       "LLb41Xxvgz2jmUwlcASMBT9PNQWl7weQXth2FP0I+EEcasKMdh+fDm6E9TfESHht9vxPystglCMH\n",
       "OwIjATEiL6M2qSjP9w6oxH8U/5zGXC4oemBlSTPm8Tuj5nMHnn4CesS9jGlL0dngFr2zfKgd+SdK\n",
       "d/gPca+c504IbBsAAAAASUVORK5CYII=\n",
       "\" style=\"display:inline;vertical-align:middle;\" /></a></td></tr>\n",
       "<tr><td>4</td><td>Literal</td><td></td><td><a class=\"ProveItLink\" href=\"../3e6688136fa3c7aefbebe51301b7c3ebf0b69c440/expr.ipynb\"><img src=\"data:image/png;base64,iVBORw0KGgoAAAANSUhEUgAAAA4AAAAOBAMAAADtZjDiAAAAJFBMVEX///+6urpUVFQQEBAiIiIy\n",
       "MjJmZmaIiIiqqqrc3Nzu7u4AAACgHpL+AAAAAXRSTlMAQObYZgAAAB5JREFUCNdjYGBgWMkAAe2k\n",
       "0Kmhoc6hoUGk6BMHYgAHOwjcado9fwAAAABJRU5ErkJggg==\n",
       "\" style=\"display:inline;vertical-align:middle;\" /></a></td></tr>\n",
       "<tr><td>5</td><td>ExprTuple</td><td>6, 7, 8, 9, 10, 11, 12</td><td><a class=\"ProveItLink\" href=\"../e3dd330207fec5ec621d7b4db554f47b6d19483d0/expr.ipynb\"><img src=\"data:image/png;base64,iVBORw0KGgoAAAANSUhEUgAAAIsAAAAVBAMAAACEWwD/AAAAMFBMVEX////c3NwiIiJERESqqqqY\n",
       "mJh2dnZmZmYQEBDu7u4yMjJUVFTMzMyIiIi6uroAAAAs73DqAAAAAXRSTlMAQObYZgAAAitJREFU\n",
       "OMutlM9rE0EUx79xd5PdpJvsrQcPjadecyl6DPgHuCDqQdAipT1VUsEe/IFaxIvU7rHgIbmIFC8R\n",
       "BEUIBrwUeumpYnVL2pM/DibSEgJRnPdmZrNrYBFqDruffOe7b+bNezPAf/oVt48b4Qo9tuLK05XU\n",
       "Gc/UFDmtlyM51xaPjYTzReq8paoCY+4oJjcAN5nTYWqYH4GC+tdqTL4I2EFi2YPUMNc0nEvI68C3\n",
       "hJAtp4Z5ruFGQjaqWBavTOv6AynkW598SZOLS2o358M2g3DplC+vvFZ0aee8mLyGZ4K/eEZX5VzB\n",
       "kME8hUkpbXbyconCFaX8SxepmekLcwNPxDRHyFVUzgEeMUx1cEcuZhUGL5BcDfV1ZqjgakBFKd7H\n",
       "b6DQxQlVr1tAn+HNhdBjKKh1smtWsanFx5joARNdClOqoC7TxzSKsiH6UatURlDv/FUJ8xBumcM8\n",
       "FAlsiwIGqm1yg0TyNBiBdsFoyrfbg1HjpGbEvlbx1mw7pA9hz7J3VXhAUklsjE8Qc8EWsYmsLje2\n",
       "1cCCqLJvTmdRp4W+wm04PwXswlliqVBDtk0Qc3F2RM4A7zwu+AE1xN77Paz36Gh+8OGs0cjdEFJa\n",
       "Dj8yxFx8KJi+h9SI+Q5sT+/CfnQixqUIJO2OtNPyMFi6iPA1WBiT/LhkNWcUFeFQYy/GL4p/DmNv\n",
       "lBXd8wqiZg515Uk17kbO6Opwx4DJWvAUnQ1vUmPS38yxL9HPwB/hoZ5Peg98ggAAAABJRU5ErkJg\n",
       "gg==\n",
       "\" style=\"display:inline;vertical-align:middle;\" /></a></td></tr>\n",
       "<tr><td>6</td><td>Variable</td><td></td><td><a class=\"ProveItLink\" href=\"../../../../__pv_it/07527342713064c87612d00d8557c53d53d5324a0/expr.ipynb\"><img src=\"data:image/png;base64,iVBORw0KGgoAAAANSUhEUgAAAAsAAAAJBAMAAAAWSsseAAAAMFBMVEX///8yMjKqqqrMzMzu7u4i\n",
       "IiJmZmaYmJhEREQQEBC6urp2dnaIiIhUVFTc3NwAAAD87Fq/AAAAAXRSTlMAQObYZgAAAEhJREFU\n",
       "CNdjYOC7s2seAwPDygccHxgY+L4zsDUwMPB+YGA9wMDA38Dgb8DA8P4Agz6DA4O/AsNFJgMGxgKm\n",
       "MG6gyjunLE4xAAAZTBA5TB6DCwAAAABJRU5ErkJggg==\n",
       "\" style=\"display:inline;vertical-align:middle;\" /></a></td></tr>\n",
       "<tr><td>7</td><td>Variable</td><td></td><td><a class=\"ProveItLink\" href=\"../../../../__pv_it/6840a4fa6c106149dc16a131294d0c5e44f1b0480/expr.ipynb\"><img src=\"data:image/png;base64,iVBORw0KGgoAAAANSUhEUgAAAAkAAAAOBAMAAAAPuiubAAAALVBMVEX///9mZmbMzMxERESYmJiI\n",
       "iIh2dna6urqqqqoyMjIiIiIQEBBUVFTu7u4AAAD9S1JeAAAAAXRSTlMAQObYZgAAAE1JREFUCNdj\n",
       "4D29gAEIOA+ASL4GEFl3AURmgQiGOaFHGBh4HzPwKTBwvGXgTmBgnMDAJ8DAJcBQ5wBSLncBJLWN\n",
       "gYGngRFoBO9REQYGAGrcDtUkVqASAAAAAElFTkSuQmCC\n",
       "\" style=\"display:inline;vertical-align:middle;\" /></a></td></tr>\n",
       "<tr><td>8</td><td>Variable</td><td></td><td><a class=\"ProveItLink\" href=\"../../../../__pv_it/0bc0f4a545336331111a0b22c4f05a0627b57b8f0/expr.ipynb\"><img src=\"data:image/png;base64,iVBORw0KGgoAAAANSUhEUgAAAAkAAAAJBAMAAAASvxsjAAAALVBMVEX////u7u4yMjKYmJgQEBBU\n",
       "VFTMzMy6uroiIiKqqqqIiIh2dnZmZmbc3NwAAAAyj3LLAAAAAXRSTlMAQObYZgAAADlJREFUCNdj\n",
       "YOA9veYCA8OMC7wHGHifM/AkMLA6W61lYOA7wAAEfAtAJAuQXMDApcAgA1S5Z9UCBgB6Cgz1W65k\n",
       "FgAAAABJRU5ErkJggg==\n",
       "\" style=\"display:inline;vertical-align:middle;\" /></a></td></tr>\n",
       "<tr><td>9</td><td>Variable</td><td></td><td><a class=\"ProveItLink\" href=\"../../../../__pv_it/cbdfda466482236edba0ce44ac7ef39cda0af7a40/expr.ipynb\"><img src=\"data:image/png;base64,iVBORw0KGgoAAAANSUhEUgAAAAkAAAAJBAMAAAASvxsjAAAALVBMVEX///9mZmbc3NxUVFSYmJhE\n",
       "REQiIiIyMjK6uroQEBDMzMyIiIh2dnbu7u4AAABgFDGoAAAAAXRSTlMAQObYZgAAADZJREFUCNdj\n",
       "YOA9s3sBA8PKBvYEBt7ZDKwODMwPGICALwBE6m0Asx0YGIDiAgw8QJUyu/cyAAAmuwmycZ8WfQAA\n",
       "AABJRU5ErkJggg==\n",
       "\" style=\"display:inline;vertical-align:middle;\" /></a></td></tr>\n",
       "<tr><td>10</td><td>Variable</td><td></td><td><a class=\"ProveItLink\" href=\"../../../../__pv_it/3a5de44ed6135dbbdbbeec6704c741e238f127300/expr.ipynb\"><img src=\"data:image/png;base64,iVBORw0KGgoAAAANSUhEUgAAAAsAAAAOBAMAAAALT/umAAAAMFBMVEX////MzMyYmJiIiIhUVFTc\n",
       "3NwyMjIiIiJ2dnbu7u6qqqpmZmYQEBBERES6uroAAABkyy6XAAAAAXRSTlMAQObYZgAAAFhJREFU\n",
       "CNdjYGBg4LuzgQEE+BeAqfcTwFQ7mGTIBmJW575fQOpNAO9PIOcTA3cCAwPLBwb2BqCeCwzzHzAw\n",
       "xBswrGeYwDB/AYMblwADmwJXNQdIm52sHQMAfyoTCZukXIEAAAAASUVORK5CYII=\n",
       "\" style=\"display:inline;vertical-align:middle;\" /></a></td></tr>\n",
       "<tr><td>11</td><td>Variable</td><td></td><td><a class=\"ProveItLink\" href=\"../../../../__pv_it/4d51ee1e62d011d06d4528b97697bf3da60c9de60/expr.ipynb\"><img src=\"data:image/png;base64,iVBORw0KGgoAAAANSUhEUgAAAAsAAAASBAMAAAB/WzlGAAAAMFBMVEX///8yMjLMzMwQEBAiIiJm\n",
       "Zma6urqYmJiqqqp2dnZERETc3NyIiIhUVFTu7u4AAAAe+HC4AAAAAXRSTlMAQObYZgAAAFVJREFU\n",
       "CNdjYGBgeHt2A5BkWNlfACT5vr0AcTg+gEgGVgcQyX7ZNwBE8x8AC+5XAFP9YJJhCoRaC6FswCTf\n",
       "NzDF9g9M8QiAyFoukPEMhk/AYpXRIBIAEwsRcZ82juYAAAAASUVORK5CYII=\n",
       "\" style=\"display:inline;vertical-align:middle;\" /></a></td></tr>\n",
       "<tr><td>12</td><td>Variable</td><td></td><td><a class=\"ProveItLink\" href=\"../../../../__pv_it/b5004dd09038f1a7d88dab9010b943185ce1d3ea0/expr.ipynb\"><img src=\"data:image/png;base64,iVBORw0KGgoAAAANSUhEUgAAAAoAAAANBAMAAABiGeI2AAAALVBMVEX///+6uroiIiLMzMwQEBCq\n",
       "qqru7u7c3NxUVFRERER2dnaIiIhmZmaYmJgAAABs7E5IAAAAAXRSTlMAQObYZgAAAFRJREFUCNdj\n",
       "YGC4s+smAwNPA/sbBoZ7CQxPGRg8GJifM7A+ZeBWYOB+zsB5gIH3AQNfAAPbM4a+AgYGid2HGEBg\n",
       "DgMDIwMbUPm5Ao4GBobI3WcZGAA0kxQNEIuRVgAAAABJRU5ErkJggg==\n",
       "\" style=\"display:inline;vertical-align:middle;\" /></a></td></tr>\n",
       "</table>\n"
      ],
      "text/plain": [
       "0. (a + b + c + d + e + f + g , a + b + e + c + d + f + g)\n",
       "   core type: ExprTuple\n",
       "   sub-expressions: 1, 2\n",
       "1. a + b + c + d + e + f + g\n",
       "   core type: Operation\n",
       "   operator: 4\n",
       "   operands: 3\n",
       "2. a + b + e + c + d + f + g\n",
       "   core type: Operation\n",
       "   operator: 4\n",
       "   operands: 5\n",
       "3. (a , b , c , d , e , f , g)\n",
       "   core type: ExprTuple\n",
       "   sub-expressions: 6, 7, 9, 10, 8, 11, 12\n",
       "4. +\n",
       "   core type: Literal\n",
       "   sub-expressions: \n",
       "5. (a , b , e , c , d , f , g)\n",
       "   core type: ExprTuple\n",
       "   sub-expressions: 6, 7, 8, 9, 10, 11, 12\n",
       "6. a\n",
       "   core type: Variable\n",
       "   sub-expressions: \n",
       "7. b\n",
       "   core type: Variable\n",
       "   sub-expressions: \n",
       "8. e\n",
       "   core type: Variable\n",
       "   sub-expressions: \n",
       "9. c\n",
       "   core type: Variable\n",
       "   sub-expressions: \n",
       "10. d\n",
       "    core type: Variable\n",
       "    sub-expressions: \n",
       "11. f\n",
       "    core type: Variable\n",
       "    sub-expressions: \n",
       "12. g\n",
       "    core type: Variable\n",
       "    sub-expressions: "
      ]
     },
     "execution_count": 4,
     "metadata": {},
     "output_type": "execute_result"
    }
   ],
   "source": [
    "# display the expression information\n",
    "expr.exprInfo()"
   ]
  },
  {
   "cell_type": "code",
   "execution_count": null,
   "metadata": {},
   "outputs": [],
   "source": []
  }
 ],
 "metadata": {
  "kernelspec": {
   "display_name": "Python 3",
   "language": "python",
   "name": "python3"
  }
 },
 "nbformat": 4,
 "nbformat_minor": 0
}
