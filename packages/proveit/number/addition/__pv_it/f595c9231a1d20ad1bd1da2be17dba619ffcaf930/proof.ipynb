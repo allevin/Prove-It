{
 "cells": [
  {
   "cell_type": "markdown",
   "metadata": {},
   "source": [
    "Show the Proof\n",
    "========"
   ]
  },
  {
   "cell_type": "code",
   "execution_count": 1,
   "metadata": {},
   "outputs": [
    {
     "data": {
      "text/html": [
       "<table><tr><th>&nbsp;</th><th>step type</th><th>requirements</th><th>statement</th></tr>\n",
       "<tr><td>0</td><td>assumption</td><td></td><td><span style=\"font-size:20px;\"><a class=\"ProveItLink\" href=\"../73c64f4772ac3940529854030c73423f894ffef30/expr.ipynb\"><img src=\"data:image/png;base64,iVBORw0KGgoAAAANSUhEUgAAAEUAAAAVBAMAAADiLT7tAAAAMFBMVEX///9ERETc3NyqqqpUVFS6\n",
       "urrMzMwyMjIQEBCIiIh2dnYiIiLu7u5mZmaYmJgAAABJJ2g3AAAAAXRSTlMAQObYZgAAATlJREFU\n",
       "KM9jYGDgu8eAE7CtUgBRPLsY8AC2ZhDJ+QGbHPP+3+XdFQ8YGK6DeFwN2NRw1h5gKGAEMlbgVsO7\n",
       "gIHLYCl2NSerd28H0SwHGFTYHLCqYas7AGfLMB5AUcPkubQJxFFEKOGb8I4Bpoa3AEhEKDCCvSeE\n",
       "MPIgjwCIeg8iMgKAxvxj4AWJQIQhwI0FHHzsFxgYUtpALvzAwD0BSLN2794NcTMD64UoiFpxYCBF\n",
       "JDAw8AswnE8AOdkBbgw7A9ANixgYuBeAzACy9Scw2DMAncuzAa5mMRfQDRug7uECMs4bMLgzgwzy\n",
       "gylhckiBeBnud/YHzHu5QJzTAVA1jAoyDDy3BJDUMHlOTZwK1l6bAFETId4oWN94AWtcMLtD/QUD\n",
       "eOIUVQ0ffjXg9MOzE286bIVE3mIC6RkAgUFNg6XiaTIAAAAASUVORK5CYII=\n",
       "\" style=\"display:inline;vertical-align:middle;\" /></a> <a class=\"ProveItLink\" href=\"proof.ipynb\" style=\"text-decoration: none\">&#x22A2;&nbsp;</a><a class=\"ProveItLink\" href=\"../e52c7680f4f53012348eb0170b3bcb1877ce6f460/expr.ipynb\"><img src=\"data:image/png;base64,iVBORw0KGgoAAAANSUhEUgAAADIAAAAPBAMAAABU9YHxAAAAMFBMVEX///8yMjKqqqrMzMzu7u4i\n",
       "IiJmZmaYmJhEREQQEBC6urp2dnaIiIhUVFTc3NwAAAD87Fq/AAAAAXRSTlMAQObYZgAAANpJREFU\n",
       "GNNjYMAATPFfBadKFmBKMPCIOTAIcGCRYGDbwMCtsAtZxEc0NBBE8zowvGW+gCTBLO4AZ7dwgNh8\n",
       "d3bNA/FeICTYD5SDqJUPOD6A6D6Edg+WBpCW7wxsIBrMgYLLvA9A9n1gYD0ApLmmhoZCXMDAlbAa\n",
       "RPE3MPgbgByAcA0jgwADwz6G9wcY9BmAlrMEwGU2cS9gYAhg8FdguMgE0nQdJsF3wZaBgXsCA2MB\n",
       "Uxg3SMB1AVSG40ELA0t2A9A7pyxOgZWKGUBkVjbO6JCfkYAcxhehboMAAOemMLNTwnkhAAAAAElF\n",
       "TkSuQmCC\n",
       "\" style=\"display:inline;vertical-align:middle;\" /></a></span></td></tr>\n",
       "</table>"
      ],
      "text/plain": [
       "<proveit._core_.proof._ShowProof at 0x7f94eaefdfd0>"
      ]
     },
     "execution_count": 1,
     "metadata": {},
     "output_type": "execute_result"
    }
   ],
   "source": [
    "import proveit\n",
    "%show_proof"
   ]
  },
  {
   "cell_type": "code",
   "execution_count": null,
   "metadata": {},
   "outputs": [],
   "source": []
  }
 ],
 "metadata": {
  "kernelspec": {
   "display_name": "Python 3",
   "language": "python",
   "name": "python3"
  }
 },
 "nbformat": 4,
 "nbformat_minor": 0
}
