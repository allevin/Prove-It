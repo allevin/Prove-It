{
 "cells": [
  {
   "cell_type": "markdown",
   "metadata": {},
   "source": [
    "Expression of type <a class=\"ProveItLink\" href=\"../../../../../../doc/html/api/proveit.ExprTuple.html\">ExprTuple</a>\n",
    "=======================\n",
    "# from context <a class=\"ProveItLink\" href=\"../../_context_.ipynb\">proveit.number.addition</a>"
   ]
  },
  {
   "cell_type": "code",
   "execution_count": 1,
   "metadata": {},
   "outputs": [],
   "source": [
    "# import Expression classes needed to build the expression\n",
    "from proveit import ExprTuple\n",
    "from proveit._common_ import a, b, c\n",
    "from proveit.number import Add"
   ]
  },
  {
   "cell_type": "code",
   "execution_count": 2,
   "metadata": {},
   "outputs": [
    {
     "data": {
      "text/html": [
       "<strong id=\"expr\">expr:</strong> <a class=\"ProveItLink\" href=\"expr.ipynb\"><img src=\"data:image/png;base64,iVBORw0KGgoAAAANSUhEUgAAAukAAAAVBAMAAAAJJW1zAAAAMFBMVEX////c3NwiIiJERESqqqqY\n",
       "mJh2dnZmZmYQEBDu7u4yMjJUVFTMzMyIiIi6uroAAAAs73DqAAAAAXRSTlMAQObYZgAAA+NJREFU\n",
       "WMPtmTFoU0EYx7+2SV5fUpPsHdqtLkIXRzE4W5rJUUoHXawExA510Ip0EKzpIoUODYUOvi4ZFEUo\n",
       "LbgILpkUsSnFqYjSYFukUMV7zd29++67e8l7tJFAb0jIly//3/9/73Lv5QXgfPyPka2dz0FHx03/\n",
       "4aPhDfftcHS1pcfRPxMLdNqIjqVtDmeTPbw0vZOuxpBbi/GZWKDTRnQsbXNUAC6gDWaBP+cKYh3k\n",
       "9YWRB1vlQFehuhFA7aDDCBSxYCNEMSFVoqTFKjcA+stqYYw/74lqQt/1SUFWske6CtWNAGoHHUag\n",
       "iDEbIYoJoRIpLVZZBPhu7J+E6LOeGo4x65Nw5rM+2XIyopgQKpHSYpW+Akyzp571u7O4f63+Gve7\n",
       "t+qbWGDw024eVdLrX4tYRbbIipSxggIvkvRiasuCNhBCshATQpCYoOGkCaFC01IyATVbUiVYZS92\n",
       "830N1O/uQw73f9hJD+P9ZBauYqvLo3CMv4SyRfqQMlZQ4EVUBuZhxYI2EEKyEBNckJqg4aQJoULS\n",
       "UjKdtGZLogLz7AgcgjOK+hNH0D+BjD2DviISGCrCPWxsvAxzSCVokTMgZWwgxYvQXazBZQuaEsKy\n",
       "EBNckJgwhJMmhApJS8kExFuyj+AvQKYBvTXU71QgV1L7Mw19i9oAuIQrMwC/kUrQIiqBTAhIeFFI\n",
       "NrSRYM1CTHBBYsIQbkPftElaSiYg3jLQ8Gc9NwrL/jdsxvMuep5/Hdpbgj12lBzPW3nqedWTlhN/\n",
       "sgD74B7jyghkD5EKb1EqXCYcdOIFkcxoG8GchZgIBIkJQ7h90JyTtJRMQLyFzfoT9n2qwTiU1aPE\n",
       "LmAfltWjNFTTDlvPH0g0XLQcDsA5Uo+10iL3nJq2Ykwg4SUg2dBmgjULMcEFiQkaLjAhVPS0BjIB\n",
       "8Ra2w7DdarkA7xLohMNOLnPYGFsLaItyDyBTuY5m/VjsjlxFaZG6UsYGUrwIXbakkgZ02UgIy0JM\n",
       "iHC6CUM4aUKo6GlNZB3EW5IVuM0ugoqJkRTekQpOFe9IJUjhuViFayV8CnoFD/ByCFqkrpSxgRQv\n",
       "QvcNwB2Kdn8ZCWFZiAkRTjdhCCdNCBWS1kDWQbyFXTl+868it99v47Pv+n3tDDZd/4ILg/UfV3ZQ\n",
       "ZelzEfsIWuS1lJSxgRQvQteZqpcp2n2eNxHCshATYmmTtDScNCFUSFpKJiDekt6B/nyEX1XRfr61\n",
       "89s0ii4uZPOnz4wVLs4dgeSEWvjZ8u47vR1PK0SFVlqDWqGTZ8CMFa4NMlaZst3p7YKR7NZ/NdyK\n",
       "v4d1qfmu/Qss42+NPef/4HV2bAH8A6JdTHsHQ6ZqAAAAAElFTkSuQmCC\n",
       "\" style=\"display:inline;vertical-align:middle;\" /></a><br>"
      ],
      "text/plain": [
       "expr: (a + b + c + a + b + a + c + b + a + c + a , a + a + b + c + b + a + c + b + a + c + a)"
      ]
     },
     "execution_count": 2,
     "metadata": {},
     "output_type": "execute_result"
    }
   ],
   "source": [
    "# build up the expression from sub-expressions\n",
    "expr = ExprTuple(Add(a, b, c, a, b, a, c, b, a, c, a), Add(a, a, b, c, b, a, c, b, a, c, a))"
   ]
  },
  {
   "cell_type": "code",
   "execution_count": 3,
   "metadata": {},
   "outputs": [
    {
     "name": "stdout",
     "output_type": "stream",
     "text": [
      "Passed sanity check: built 'expr' is the same as the stored Expression.\n"
     ]
    }
   ],
   "source": [
    "# check that the built expression is the same as the stored expression\n",
    "%check_expr"
   ]
  },
  {
   "cell_type": "code",
   "execution_count": 4,
   "metadata": {},
   "outputs": [
    {
     "data": {
      "text/html": [
       "<table><tr><th>&nbsp;</th><th>core type</th><th>sub-expressions</th><th>expression</th></tr>\n",
       "<tr><td>0</td><td>ExprTuple</td><td>1, 2</td><td><a class=\"ProveItLink\" href=\"expr.ipynb\"><img src=\"data:image/png;base64,iVBORw0KGgoAAAANSUhEUgAAAukAAAAVBAMAAAAJJW1zAAAAMFBMVEX////c3NwiIiJERESqqqqY\n",
       "mJh2dnZmZmYQEBDu7u4yMjJUVFTMzMyIiIi6uroAAAAs73DqAAAAAXRSTlMAQObYZgAAA+NJREFU\n",
       "WMPtmTFoU0EYx7+2SV5fUpPsHdqtLkIXRzE4W5rJUUoHXawExA510Ip0EKzpIoUODYUOvi4ZFEUo\n",
       "LbgILpkUsSnFqYjSYFukUMV7zd29++67e8l7tJFAb0jIly//3/9/73Lv5QXgfPyPka2dz0FHx03/\n",
       "4aPhDfftcHS1pcfRPxMLdNqIjqVtDmeTPbw0vZOuxpBbi/GZWKDTRnQsbXNUAC6gDWaBP+cKYh3k\n",
       "9YWRB1vlQFehuhFA7aDDCBSxYCNEMSFVoqTFKjcA+stqYYw/74lqQt/1SUFWske6CtWNAGoHHUag\n",
       "iDEbIYoJoRIpLVZZBPhu7J+E6LOeGo4x65Nw5rM+2XIyopgQKpHSYpW+Akyzp571u7O4f63+Gve7\n",
       "t+qbWGDw024eVdLrX4tYRbbIipSxggIvkvRiasuCNhBCshATQpCYoOGkCaFC01IyATVbUiVYZS92\n",
       "830N1O/uQw73f9hJD+P9ZBauYqvLo3CMv4SyRfqQMlZQ4EVUBuZhxYI2EEKyEBNckJqg4aQJoULS\n",
       "UjKdtGZLogLz7AgcgjOK+hNH0D+BjD2DviISGCrCPWxsvAxzSCVokTMgZWwgxYvQXazBZQuaEsKy\n",
       "EBNckJgwhJMmhApJS8kExFuyj+AvQKYBvTXU71QgV1L7Mw19i9oAuIQrMwC/kUrQIiqBTAhIeFFI\n",
       "NrSRYM1CTHBBYsIQbkPftElaSiYg3jLQ8Gc9NwrL/jdsxvMuep5/Hdpbgj12lBzPW3nqedWTlhN/\n",
       "sgD74B7jyghkD5EKb1EqXCYcdOIFkcxoG8GchZgIBIkJQ7h90JyTtJRMQLyFzfoT9n2qwTiU1aPE\n",
       "LmAfltWjNFTTDlvPH0g0XLQcDsA5Uo+10iL3nJq2Ykwg4SUg2dBmgjULMcEFiQkaLjAhVPS0BjIB\n",
       "8Ra2w7DdarkA7xLohMNOLnPYGFsLaItyDyBTuY5m/VjsjlxFaZG6UsYGUrwIXbakkgZ02UgIy0JM\n",
       "iHC6CUM4aUKo6GlNZB3EW5IVuM0ugoqJkRTekQpOFe9IJUjhuViFayV8CnoFD/ByCFqkrpSxgRQv\n",
       "QvcNwB2Kdn8ZCWFZiAkRTjdhCCdNCBWS1kDWQbyFXTl+868it99v47Pv+n3tDDZd/4ILg/UfV3ZQ\n",
       "ZelzEfsIWuS1lJSxgRQvQteZqpcp2n2eNxHCshATYmmTtDScNCFUSFpKJiDekt6B/nyEX1XRfr61\n",
       "89s0ii4uZPOnz4wVLs4dgeSEWvjZ8u47vR1PK0SFVlqDWqGTZ8CMFa4NMlaZst3p7YKR7NZ/NdyK\n",
       "v4d1qfmu/Qss42+NPef/4HV2bAH8A6JdTHsHQ6ZqAAAAAElFTkSuQmCC\n",
       "\" style=\"display:inline;vertical-align:middle;\" /></a></td></tr>\n",
       "<tr><td>1</td><td>Operation</td><td>operator:&nbsp;4<br>operands:&nbsp;3<br></td><td><a class=\"ProveItLink\" href=\"../bab95727a9575eabd6aee6afba3a9ae6970e66760/expr.ipynb\"><img src=\"data:image/png;base64,iVBORw0KGgoAAAANSUhEUgAAAWoAAAAQBAMAAADNOCjDAAAAMFBMVEX///8yMjKqqqrMzMzu7u4i\n",
       "IiJmZmaYmJhEREQQEBC6urp2dnaIiIhUVFTc3NwAAAD87Fq/AAAAAXRSTlMAQObYZgAAAgdJREFU\n",
       "SMe9lb9Kw1AUxr+GNGhLGzOIU6EgbkIddesLaDsVBId2UhAxj9AHEMTBSRHBSRB0cdElgzhoheoi\n",
       "QsG+QGlpi+3gYKuJzcnpSUwHzxL4OPf3fffm/gFYqW95hK7Vw/BjJjISK1KdYFDqv4y8tWZ/9bRH\n",
       "GK1OXVTaYgvHBBtxzBjuTy3a38usR/gtxZKUWFds4ZhgI44Zw6VjrxE+dTw/QWrZKDB1snZzQsem\n",
       "Kq9UUG8rS3Ro4/G8TpRI7ckUWjhGNBplcTCS9Xl9qkXGqn3olL5yGsnT/XCCfUrPldERWjhGNBpl\n",
       "cTCCdbIHrUzoShfTV4R+jCm6kE0TW5SeyeJIaOEYyciVxcZI1okWohahazPQi24h0fJurndggyol\n",
       "4ENo4RgfIyeLjZGs9TJyw99UMox1wxjeutEiLk23oP/MXzOM2QPDGN6xfagdqhQQ641r4Rh/o+8s\n",
       "I4xk3bSQQdY948EtukuEpuWZcPITSkslS9CG1hVaOMbHyMliYyTrXBrPCjkTgxNyROmDBSGbS20j\n",
       "MTNPUnecLcpbOEYycmWxMZJ1xFQKcbr/0lqVCkXE6fUzh4UiCYkX7EBo4RjJyJXF2deCdbL2sPxA\n",
       "z3pt03NlbVfuaKRG5WzvlCir96bUwjGSkSuLg/GxDnrD/vA2+r28i+GFEC/6RaAQswIV3vIHLhMC\n",
       "uF8uh/IdBFSamgAAAABJRU5ErkJggg==\n",
       "\" style=\"display:inline;vertical-align:middle;\" /></a></td></tr>\n",
       "<tr><td>2</td><td>Operation</td><td>operator:&nbsp;4<br>operands:&nbsp;5<br></td><td><a class=\"ProveItLink\" href=\"../aa187cdaa4db2aada5a55c7c0fd56f3bb19f88120/expr.ipynb\"><img src=\"data:image/png;base64,iVBORw0KGgoAAAANSUhEUgAAAWoAAAAQBAMAAADNOCjDAAAAMFBMVEX///8yMjKqqqrMzMzu7u4i\n",
       "IiJmZmaYmJhEREQQEBC6urp2dnaIiIhUVFTc3NwAAAD87Fq/AAAAAXRSTlMAQObYZgAAAjdJREFU\n",
       "SMe1lb9LG2EYx785z9MmmHhD6CQEipugo25ZS9FkCggOcWqhlN6fkM1FKB1crIjQSRAUShZ1OFAc\n",
       "7BXUoVIINP+AGGKoDh0azd297/e9vL38wHcJfPg+n+e99568B/SwzF/FuMjiBvpePWiHWomL2MjU\n",
       "82jj11L0NOqd30xOAZEEmrpEF28AQq2+sx4EayZCDLfzu59XQCSRbOkSXbwBCLX6znoQv+tqrCxV\n",
       "HGDXVQy863TtcJtrBQmiU961Uvvm+IRAovbD4cTN9906e80jb45AqNV3DmsU7259vMG1gvhR8wEZ\n",
       "rh3ZRJZAoYI7HpltfFJOcmEnUZSB0Go7ixr2pu9hVcguET9qtPDigGpfu1gjMJvHFwK3Dt7xrs0t\n",
       "jDsyEFptZ1HD3okGRl2yS8SPWpPIlKn2tzpuq8AfNbEC1ctAaLWdRQ17MxUUHl/Tqm0v2/bjrRsQ\n",
       "y7azn227faeOlrHvyAAPnbYClJC8VxLm08iQl4Gv/V9nvybivXUxi7z8xBLxH7B9r34kkP6rHkET\n",
       "VktJGA0TipfPWmi1nUUNews5XBr0n5BIsOs5f2jDTbbPdYzAnTL5ZhMTk694k+1zpbkWWn3nsIa9\n",
       "CccopahWIsF05awL3vVP4BuBK3zgxEtMlw94rstI0fEIrb5zWMPedO18/pzvEEGCB6y9VQbCOvbo\n",
       "TWLxzOHEjfd1fYdvvvfeKV8qoVbbWdR08Q7+Xe3lyzvTP+jji74XIUl3eNDFuzds539ANvkl8YP5\n",
       "wgAAAABJRU5ErkJggg==\n",
       "\" style=\"display:inline;vertical-align:middle;\" /></a></td></tr>\n",
       "<tr><td>3</td><td>ExprTuple</td><td>8, 6, 7, 8, 6, 8, 7, 6, 8, 7, 8</td><td><a class=\"ProveItLink\" href=\"../98c02e530816a511bab2e4a805a7e6d438df201a0/expr.ipynb\"><img src=\"data:image/png;base64,iVBORw0KGgoAAAANSUhEUgAAANUAAAAVBAMAAAAjhrYEAAAAMFBMVEX////c3NwiIiJERESqqqqY\n",
       "mJh2dnZmZmYQEBDu7u4yMjJUVFTMzMyIiIi6uroAAAAs73DqAAAAAXRSTlMAQObYZgAAAlVJREFU\n",
       "SMe9Vj9oE1Ec/tJccnm5Jpe9Q7t1KmRxFIOz0JscJTjoYuRA7KCDVqSb9SYpOOQQOpQuHZQWIRhw\n",
       "EVwyKaJXUqciQqNpkUIU3597790fvMtiMly++74v34/3u997F2CWn/pgJmWuscv7KPP80b/dWRo5\n",
       "WMqpZfbpZSdG7WbYs7TqXt7CfKAWb+FphjtLs1t5ta4CFS/28M4zHmyGhhMvr9YW8C1GlDPanqXh\n",
       "eu5wFFtYo1+F3u31sO29z45AzzpfBFj4cNxIaIrSrt3glQA6i9wI+hGq7GKb3hw3iiOhd5uYcDC/\n",
       "iReic+u4lNA0pVxkDFsE66x3w+pShDJ8bNK6ZzCbQl/1sCG6O8AFDhYd3ElomlIu4xyVNl+DyiJP\n",
       "UHQiVP0h/gDWCHPhNN4DfnHwRraZgpW0toK4y/RhuwzoLCtcnqTmR6yW3URXNADLqJ9xMJYpY5BJ\n",
       "SpOUcs25OOGL0Fl2U24HQdFaj2lPBliFF24hk0924XdopMAYkaQWUsrFttcDnqCzFuXGDSnaQ9rv\n",
       "bguvjT7/9YS1nVnpCkoMkFNY/hVOSS1CSRcbjA2wBJ1l03U6mkLJx006zI6xXEaXDc1L3Af5ScE+\n",
       "cIuDbVx22xwpTVPKZbXMPZ6gsywX5b6m2Mx/ZfN/+PYQWz/Y+frRAXlKN4/ZCTwOFoLvF4ccKU1T\n",
       "ykV6d8ETIllrwacIheoQlYbs+ZE6jBpJMCWlEjQ6ip5Rpba8cSQopcCUlJNGmupE3yn/txbx2eEW\n",
       "3tSUcZAC01E6oZamLNbpwmz+A9Az+i+iVOAdG9M4OgAAAABJRU5ErkJggg==\n",
       "\" style=\"display:inline;vertical-align:middle;\" /></a></td></tr>\n",
       "<tr><td>4</td><td>Literal</td><td></td><td><a class=\"ProveItLink\" href=\"../3e6688136fa3c7aefbebe51301b7c3ebf0b69c440/expr.ipynb\"><img src=\"data:image/png;base64,iVBORw0KGgoAAAANSUhEUgAAAA4AAAAOBAMAAADtZjDiAAAAJFBMVEX///+6urpUVFQQEBAiIiIy\n",
       "MjJmZmaIiIiqqqrc3Nzu7u4AAACgHpL+AAAAAXRSTlMAQObYZgAAAB5JREFUCNdjYGBgWMkAAe2k\n",
       "0Kmhoc6hoUGk6BMHYgAHOwjcado9fwAAAABJRU5ErkJggg==\n",
       "\" style=\"display:inline;vertical-align:middle;\" /></a></td></tr>\n",
       "<tr><td>5</td><td>ExprTuple</td><td>8, 8, 6, 7, 6, 8, 7, 6, 8, 7, 8</td><td><a class=\"ProveItLink\" href=\"../5e246e0e85e9995cc9c2c84db8d230386f3e76fc0/expr.ipynb\"><img src=\"data:image/png;base64,iVBORw0KGgoAAAANSUhEUgAAANUAAAAVBAMAAAAjhrYEAAAAMFBMVEX////c3NwiIiJERESqqqqY\n",
       "mJh2dnZmZmYQEBDu7u4yMjJUVFTMzMyIiIi6uroAAAAs73DqAAAAAXRSTlMAQObYZgAAAlBJREFU\n",
       "SMe9lj9oE3EUx79pLrn8ck0uu0OzdSpkcRSDs9CbHCU46GLkQOygg1akmzWTFDrkEDqULh2UFiEY\n",
       "cBFcMimiV1KnIkKjbZFAFX//7vfuTMJlMb/h8u7zXr6P3/u990uAWa5ybyZprovH+/G+zcfphBbb\n",
       "r6bksrv8sT3BuTMFoVXcTdtYAJQmlfB0CkLLraflugYUWhOOcZhOYuu4lZZrA/g2wZWvppPYupHa\n",
       "HNk6VvhHpnNnVZMLH44q6gA6nz2Fnje//ENMkPFhJ3ylDNJiN8NuDOV9bPGXo0p2oOu0isvKatdw\n",
       "Lo35dbxIEgoyPnYCVwmT1rt+sRpDVoB1nvcMdk35FzzcVdZyC2uqzj1cTBIKMj5riEJD7sFosafI\n",
       "ejFUfoQ/gDPAnO7GN8CSsu4DvyI0SpaQ9NkBXF8YpOXo7UVofiByuTW0VQFwAqbqhEWUzzTCCImC\n",
       "jG/Ox7HcBGm5tWgcFOK5nvCa9LAM2bOZ37AGTA+TPdTIjJchOoh8fLweSgXSWogGVyNeQ17vdh2v\n",
       "ra74NjuFE1yVsefiAITB95JLkFiQ8fHGWINQIC2X79MjhFyAW7yZPWsxj7Zomi1c8RvsJ7de4gGk\n",
       "sQfcThIKMj6nbu9KBdJyfOS7hETPfxX9f/D2ABs/xOSE3y/12TM+PZsfPUjDboatJKEg42Ode5AK\n",
       "Ma2V8FMModhHoRLV/JBuo0q6MQ6RwuEo4ndUrhG9eAbnpjDGIW/UItSM/6b831wsEEekX0p0Tfam\n",
       "MMYgUiiNIkdUOjOb/wD8jv4LhzTgHXse0zUAAAAASUVORK5CYII=\n",
       "\" style=\"display:inline;vertical-align:middle;\" /></a></td></tr>\n",
       "<tr><td>6</td><td>Variable</td><td></td><td><a class=\"ProveItLink\" href=\"../../../../__pv_it/6840a4fa6c106149dc16a131294d0c5e44f1b0480/expr.ipynb\"><img src=\"data:image/png;base64,iVBORw0KGgoAAAANSUhEUgAAAAkAAAAOBAMAAAAPuiubAAAALVBMVEX///9mZmbMzMxERESYmJiI\n",
       "iIh2dna6urqqqqoyMjIiIiIQEBBUVFTu7u4AAAD9S1JeAAAAAXRSTlMAQObYZgAAAE1JREFUCNdj\n",
       "4D29gAEIOA+ASL4GEFl3AURmgQiGOaFHGBh4HzPwKTBwvGXgTmBgnMDAJ8DAJcBQ5wBSLncBJLWN\n",
       "gYGngRFoBO9REQYGAGrcDtUkVqASAAAAAElFTkSuQmCC\n",
       "\" style=\"display:inline;vertical-align:middle;\" /></a></td></tr>\n",
       "<tr><td>7</td><td>Variable</td><td></td><td><a class=\"ProveItLink\" href=\"../../../../__pv_it/cbdfda466482236edba0ce44ac7ef39cda0af7a40/expr.ipynb\"><img src=\"data:image/png;base64,iVBORw0KGgoAAAANSUhEUgAAAAkAAAAJBAMAAAASvxsjAAAALVBMVEX///9mZmbc3NxUVFSYmJhE\n",
       "REQiIiIyMjK6uroQEBDMzMyIiIh2dnbu7u4AAABgFDGoAAAAAXRSTlMAQObYZgAAADZJREFUCNdj\n",
       "YOA9s3sBA8PKBvYEBt7ZDKwODMwPGICALwBE6m0Asx0YGIDiAgw8QJUyu/cyAAAmuwmycZ8WfQAA\n",
       "AABJRU5ErkJggg==\n",
       "\" style=\"display:inline;vertical-align:middle;\" /></a></td></tr>\n",
       "<tr><td>8</td><td>Variable</td><td></td><td><a class=\"ProveItLink\" href=\"../../../../__pv_it/07527342713064c87612d00d8557c53d53d5324a0/expr.ipynb\"><img src=\"data:image/png;base64,iVBORw0KGgoAAAANSUhEUgAAAAsAAAAJBAMAAAAWSsseAAAAMFBMVEX///8yMjKqqqrMzMzu7u4i\n",
       "IiJmZmaYmJhEREQQEBC6urp2dnaIiIhUVFTc3NwAAAD87Fq/AAAAAXRSTlMAQObYZgAAAEhJREFU\n",
       "CNdjYOC7s2seAwPDygccHxgY+L4zsDUwMPB+YGA9wMDA38Dgb8DA8P4Agz6DA4O/AsNFJgMGxgKm\n",
       "MG6gyjunLE4xAAAZTBA5TB6DCwAAAABJRU5ErkJggg==\n",
       "\" style=\"display:inline;vertical-align:middle;\" /></a></td></tr>\n",
       "</table>\n"
      ],
      "text/plain": [
       "0. (a + b + c + a + b + a + c + b + a + c + a , a + a + b + c + b + a + c + b + a + c + a)\n",
       "   core type: ExprTuple\n",
       "   sub-expressions: 1, 2\n",
       "1. a + b + c + a + b + a + c + b + a + c + a\n",
       "   core type: Operation\n",
       "   operator: 4\n",
       "   operands: 3\n",
       "2. a + a + b + c + b + a + c + b + a + c + a\n",
       "   core type: Operation\n",
       "   operator: 4\n",
       "   operands: 5\n",
       "3. (a , b , c , a , b , a , c , b , a , c , a)\n",
       "   core type: ExprTuple\n",
       "   sub-expressions: 8, 6, 7, 8, 6, 8, 7, 6, 8, 7, 8\n",
       "4. +\n",
       "   core type: Literal\n",
       "   sub-expressions: \n",
       "5. (a , a , b , c , b , a , c , b , a , c , a)\n",
       "   core type: ExprTuple\n",
       "   sub-expressions: 8, 8, 6, 7, 6, 8, 7, 6, 8, 7, 8\n",
       "6. b\n",
       "   core type: Variable\n",
       "   sub-expressions: \n",
       "7. c\n",
       "   core type: Variable\n",
       "   sub-expressions: \n",
       "8. a\n",
       "   core type: Variable\n",
       "   sub-expressions: "
      ]
     },
     "execution_count": 4,
     "metadata": {},
     "output_type": "execute_result"
    }
   ],
   "source": [
    "# display the expression information\n",
    "expr.exprInfo()"
   ]
  },
  {
   "cell_type": "code",
   "execution_count": null,
   "metadata": {},
   "outputs": [],
   "source": []
  }
 ],
 "metadata": {
  "kernelspec": {
   "display_name": "Python 3",
   "language": "python",
   "name": "python3"
  }
 },
 "nbformat": 4,
 "nbformat_minor": 0
}
