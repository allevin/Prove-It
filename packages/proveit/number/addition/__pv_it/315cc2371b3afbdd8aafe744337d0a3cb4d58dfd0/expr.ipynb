{
 "cells": [
  {
   "cell_type": "markdown",
   "metadata": {},
   "source": [
    "Expression of type <a class=\"ProveItLink\" href=\"../../../../../../doc/html/api/proveit.ExprTuple.html\">ExprTuple</a>\n",
    "=======================\n",
    "# from context <a class=\"ProveItLink\" href=\"../../_context_.ipynb\">proveit.number.addition</a>"
   ]
  },
  {
   "cell_type": "code",
   "execution_count": 1,
   "metadata": {},
   "outputs": [],
   "source": [
    "# import Expression classes needed to build the expression\n",
    "from proveit import ExprTuple, Variable\n",
    "from proveit._common_ import b, c\n",
    "from proveit.number import Add"
   ]
  },
  {
   "cell_type": "code",
   "execution_count": 2,
   "metadata": {},
   "outputs": [
    {
     "data": {
      "text/html": [
       "<strong id=\"expr\">expr:</strong> <a class=\"ProveItLink\" href=\"expr.ipynb\"><img src=\"data:image/png;base64,iVBORw0KGgoAAAANSUhEUgAAAJ0AAAAVBAMAAACu6/FQAAAAMFBMVEX////c3NwiIiJERESqqqqY\n",
       "mJh2dnZmZmYQEBDu7u4yMjJUVFTMzMyIiIi6uroAAAAs73DqAAAAAXRSTlMAQObYZgAAAdxJREFU\n",
       "OMutVL9LAlEc/5Se52nqDdESoUvUKERQm/+AdFNjSENNwi051FBEtFVKEEFDLg3p4lDQItwYtDgl\n",
       "YZI1BqH9IgSJ3t2pd9/Ld5M3vPt+P9/3Pu/7vr+AYX/hytCoVvTljm8/23UA0k3MjU/U2HLpsqHo\n",
       "BAIlVwfzQMjtuV89Idf9RxLOLTm7sgz4sy6hbfekZPff/Lc7aVdOgVcX93wx56lVuPJ5EshY2kRt\n",
       "vEpeHyjXFHqqWL/uZmatrhGLAfhUXFjJSwnTfpK/8zg6hE/6RMSkuW0EYoTPALx5HFqvQ6jl1ex8\n",
       "S1nsEz5vG/6UQXwAj0JuMoDwDn4t/xCM09hsAj+ET8wjoupCsOWInwmMtWx8LNeO2plB+FunLRRm\n",
       "CwW9FkdVNA23IubNlsUEGN+e7XxUQ5aWn9gmXrDy2zZ2RCsO/0yAvXe+f1qQnxDq8+lCpxsti09j\n",
       "AZV0gXlJ4mcCQh7rVvSVBUz1g/nBlitsOaKUEEs4Z4kNqvCRejEBVi8vLGtz7FvE8f1JWukp0pHM\n",
       "5kFVoXxSeYM1wTuTMvUHWpkGEGjAL3N6TeZ2wbNbvwmpwXwC0d7sisK1pPnzSuC3tcIzSGxeYXKw\n",
       "jT/GQlxLUI/RyPDm/SPwBx15eNkl/QFlAAAAAElFTkSuQmCC\n",
       "\" style=\"display:inline;vertical-align:middle;\" /></a><br>"
      ],
      "text/plain": [
       "expr: (_x_ , b + b , c + c)"
      ]
     },
     "execution_count": 2,
     "metadata": {},
     "output_type": "execute_result"
    }
   ],
   "source": [
    "# build up the expression from sub-expressions\n",
    "expr = ExprTuple(Variable(\"_x_\", latexFormat = r\"{_{-}x_{-}}\"), Add(b, b), Add(c, c))"
   ]
  },
  {
   "cell_type": "code",
   "execution_count": 3,
   "metadata": {},
   "outputs": [
    {
     "name": "stdout",
     "output_type": "stream",
     "text": [
      "Passed sanity check: built 'expr' is the same as the stored Expression.\n"
     ]
    }
   ],
   "source": [
    "# check that the built expression is the same as the stored expression\n",
    "%check_expr"
   ]
  },
  {
   "cell_type": "code",
   "execution_count": 4,
   "metadata": {},
   "outputs": [
    {
     "data": {
      "text/html": [
       "<table><tr><th>&nbsp;</th><th>core type</th><th>sub-expressions</th><th>expression</th></tr>\n",
       "<tr><td>0</td><td>ExprTuple</td><td>1, 2, 3</td><td><a class=\"ProveItLink\" href=\"expr.ipynb\"><img src=\"data:image/png;base64,iVBORw0KGgoAAAANSUhEUgAAAJ0AAAAVBAMAAACu6/FQAAAAMFBMVEX////c3NwiIiJERESqqqqY\n",
       "mJh2dnZmZmYQEBDu7u4yMjJUVFTMzMyIiIi6uroAAAAs73DqAAAAAXRSTlMAQObYZgAAAdxJREFU\n",
       "OMutVL9LAlEc/5Se52nqDdESoUvUKERQm/+AdFNjSENNwi051FBEtFVKEEFDLg3p4lDQItwYtDgl\n",
       "YZI1BqH9IgSJ3t2pd9/Ld5M3vPt+P9/3Pu/7vr+AYX/hytCoVvTljm8/23UA0k3MjU/U2HLpsqHo\n",
       "BAIlVwfzQMjtuV89Idf9RxLOLTm7sgz4sy6hbfekZPff/Lc7aVdOgVcX93wx56lVuPJ5EshY2kRt\n",
       "vEpeHyjXFHqqWL/uZmatrhGLAfhUXFjJSwnTfpK/8zg6hE/6RMSkuW0EYoTPALx5HFqvQ6jl1ex8\n",
       "S1nsEz5vG/6UQXwAj0JuMoDwDn4t/xCM09hsAj+ET8wjoupCsOWInwmMtWx8LNeO2plB+FunLRRm\n",
       "CwW9FkdVNA23IubNlsUEGN+e7XxUQ5aWn9gmXrDy2zZ2RCsO/0yAvXe+f1qQnxDq8+lCpxsti09j\n",
       "AZV0gXlJ4mcCQh7rVvSVBUz1g/nBlitsOaKUEEs4Z4kNqvCRejEBVi8vLGtz7FvE8f1JWukp0pHM\n",
       "5kFVoXxSeYM1wTuTMvUHWpkGEGjAL3N6TeZ2wbNbvwmpwXwC0d7sisK1pPnzSuC3tcIzSGxeYXKw\n",
       "jT/GQlxLUI/RyPDm/SPwBx15eNkl/QFlAAAAAElFTkSuQmCC\n",
       "\" style=\"display:inline;vertical-align:middle;\" /></a></td></tr>\n",
       "<tr><td>1</td><td>Variable</td><td></td><td><a class=\"ProveItLink\" href=\"../5144cf74ae6a683b49b974f1b9302b432abf7e930/expr.ipynb\"><img src=\"data:image/png;base64,iVBORw0KGgoAAAANSUhEUgAAACUAAAAJBAMAAABH3vh9AAAAKlBMVEX////MzMwQEBAiIiKYmJhm\n",
       "ZmZUVFSIiIh2dnbc3Nzu7u5ERESqqqoAAABwkVEpAAAAAXRSTlMAQObYZgAAAEtJREFUCNdjYIAA\n",
       "zvbM4+EMqGAFg7ODMppYA0Mtw0E0sQUM2QyYQB1TiPMiAxeakCf7BYYqVCGeK9wKnAUw3undQLCA\n",
       "a3tXRwmMAwC3+RVNp6j0GAAAAABJRU5ErkJggg==\n",
       "\" style=\"display:inline;vertical-align:middle;\" /></a></td></tr>\n",
       "<tr><td>2</td><td>Operation</td><td>operator:&nbsp;5<br>operands:&nbsp;4<br></td><td><a class=\"ProveItLink\" href=\"../732aa98f927c988b9bfe1416d01ed36546be51dc0/expr.ipynb\"><img src=\"data:image/png;base64,iVBORw0KGgoAAAANSUhEUgAAACsAAAAQBAMAAAB9zpudAAAAMFBMVEX////c3NxmZmbMzMxERESY\n",
       "mJiIiIh2dna6urqqqqoyMjIiIiIQEBBUVFTu7u4AAAAiO1wTAAAAAXRSTlMAQObYZgAAAIlJREFU\n",
       "GNNj4LuzgQEFQAW4LqAKQwX4J8CUCUBoiED/A6gwZwKEhghUM6AJQwTWpl1FFQYL8H1h4DdAFoYI\n",
       "cP5j4ClAFoYIMC1g4FdAFoYIcCsw9AcAOatWrT61ahXQyRABoCv1HyCrhggAjT+O4hKIAO8Epgso\n",
       "whABvmuqqN5BCKB6Bw1wIAkDAINGK1mj6vv8AAAAAElFTkSuQmCC\n",
       "\" style=\"display:inline;vertical-align:middle;\" /></a></td></tr>\n",
       "<tr><td>3</td><td>Operation</td><td>operator:&nbsp;5<br>operands:&nbsp;6<br></td><td><a class=\"ProveItLink\" href=\"../835f51cc5f7c025f46a68077697f0e2a3c40db810/expr.ipynb\"><img src=\"data:image/png;base64,iVBORw0KGgoAAAANSUhEUgAAACsAAAAOBAMAAABEEvh2AAAAMFBMVEX///+qqqpmZmbc3NxUVFSY\n",
       "mJhEREQiIiIyMjK6uroQEBDMzMyIiIh2dnbu7u4AAAA4MM1YAAAAAXRSTlMAQObYZgAAAGRJREFU\n",
       "GNNjYIADPgMGbIDxABHCfHfPbEARhgjsmsBRgCIMFuBbw8AWgCwMEWD5gGY2RIA/Acxh6uhoX9HR\n",
       "4QATsD+AphoiwA80GMVsiACLAgMvigOhArpnzqF6By6A1/OcSMIAeQEiyOGBraQAAAAASUVORK5C\n",
       "YII=\n",
       "\" style=\"display:inline;vertical-align:middle;\" /></a></td></tr>\n",
       "<tr><td>4</td><td>ExprTuple</td><td>7, 7</td><td><a class=\"ProveItLink\" href=\"../612e99e6fd74ee3c032efd8d15bfddfb9fc0af9e0/expr.ipynb\"><img src=\"data:image/png;base64,iVBORw0KGgoAAAANSUhEUgAAACcAAAAVBAMAAAA3P+qgAAAAMFBMVEX////c3NwiIiJERESqqqqY\n",
       "mJh2dnZmZmYQEBDu7u4yMjJUVFTMzMyIiIi6uroAAAAs73DqAAAAAXRSTlMAQObYZgAAAO5JREFU\n",
       "GNNtkaFuAkEQhr8WKHdQuHoML4G/R0BVElKDIjlDbStIJTmJ4wyCYDAkGBI8pg9QEoqsgaYK03R2\n",
       "dk5AemL32y+7O//swb9f/f1y3XHDlnDV9GuF8kZoBpWF7VLIoCano9ikwiMEKRxTkwpj+JLpKS+i\n",
       "UIh5lmm+W3qpcJcwlaI/RButrlDMGEHxTNB10kP9lV9JlhElTnq4Pzl5m3BsO+lB5FDTvaQWU0CO\n",
       "t3CXvxFiQCmjB9W4vGDSNHCRDpJkPZA+vg2o7AkerJvPvC1ps9Q1buey75/uQobydDQ81/KNVXff\n",
       "zdXv+IA/Uqw+FpHnSdwAAAAASUVORK5CYII=\n",
       "\" style=\"display:inline;vertical-align:middle;\" /></a></td></tr>\n",
       "<tr><td>5</td><td>Literal</td><td></td><td><a class=\"ProveItLink\" href=\"../3e6688136fa3c7aefbebe51301b7c3ebf0b69c440/expr.ipynb\"><img src=\"data:image/png;base64,iVBORw0KGgoAAAANSUhEUgAAAA4AAAAOBAMAAADtZjDiAAAAJFBMVEX///+6urpUVFQQEBAiIiIy\n",
       "MjJmZmaIiIiqqqrc3Nzu7u4AAACgHpL+AAAAAXRSTlMAQObYZgAAAB5JREFUCNdjYGBgWMkAAe2k\n",
       "0Kmhoc6hoUGk6BMHYgAHOwjcado9fwAAAABJRU5ErkJggg==\n",
       "\" style=\"display:inline;vertical-align:middle;\" /></a></td></tr>\n",
       "<tr><td>6</td><td>ExprTuple</td><td>8, 8</td><td><a class=\"ProveItLink\" href=\"../1c0bb617114f3df6312252662a222f4d927730940/expr.ipynb\"><img src=\"data:image/png;base64,iVBORw0KGgoAAAANSUhEUgAAACcAAAAVBAMAAAA3P+qgAAAAMFBMVEX////c3NwiIiJERESqqqqY\n",
       "mJh2dnZmZmYQEBDu7u4yMjJUVFTMzMyIiIi6uroAAAAs73DqAAAAAXRSTlMAQObYZgAAAM5JREFU\n",
       "GNNjYMAK+C6g8uNAxGk0RewHgMRKdK0LGBh4L6ALhjEwcExAF5zBwPAKw2ZmB4YyIMWZdvcAmA9m\n",
       "sBUwLAWyTzzgUgALghksCxj6gPK9DMwBYIVgBl8Dwz8GBu4PUNMgDJ4PIEF+A6gghAEUbGFgkIc5\n",
       "FcIAajcFKgAaGMDJAGUwsC5gSAcaVcDAdmC+ApQBctIjoIqyuzcZZnyEMhi4HjBwCEANfIjkTdYE\n",
       "KDsAJpiLFHQwQU5g0DFIQ9i8MIXcIPMY0QL0DgMDAOR2MjAvKGjTAAAAAElFTkSuQmCC\n",
       "\" style=\"display:inline;vertical-align:middle;\" /></a></td></tr>\n",
       "<tr><td>7</td><td>Variable</td><td></td><td><a class=\"ProveItLink\" href=\"../../../../__pv_it/6840a4fa6c106149dc16a131294d0c5e44f1b0480/expr.ipynb\"><img src=\"data:image/png;base64,iVBORw0KGgoAAAANSUhEUgAAAAkAAAAOBAMAAAAPuiubAAAALVBMVEX///9mZmbMzMxERESYmJiI\n",
       "iIh2dna6urqqqqoyMjIiIiIQEBBUVFTu7u4AAAD9S1JeAAAAAXRSTlMAQObYZgAAAE1JREFUCNdj\n",
       "4D29gAEIOA+ASL4GEFl3AURmgQiGOaFHGBh4HzPwKTBwvGXgTmBgnMDAJ8DAJcBQ5wBSLncBJLWN\n",
       "gYGngRFoBO9REQYGAGrcDtUkVqASAAAAAElFTkSuQmCC\n",
       "\" style=\"display:inline;vertical-align:middle;\" /></a></td></tr>\n",
       "<tr><td>8</td><td>Variable</td><td></td><td><a class=\"ProveItLink\" href=\"../../../../__pv_it/cbdfda466482236edba0ce44ac7ef39cda0af7a40/expr.ipynb\"><img src=\"data:image/png;base64,iVBORw0KGgoAAAANSUhEUgAAAAkAAAAJBAMAAAASvxsjAAAALVBMVEX///9mZmbc3NxUVFSYmJhE\n",
       "REQiIiIyMjK6uroQEBDMzMyIiIh2dnbu7u4AAABgFDGoAAAAAXRSTlMAQObYZgAAADZJREFUCNdj\n",
       "YOA9s3sBA8PKBvYEBt7ZDKwODMwPGICALwBE6m0Asx0YGIDiAgw8QJUyu/cyAAAmuwmycZ8WfQAA\n",
       "AABJRU5ErkJggg==\n",
       "\" style=\"display:inline;vertical-align:middle;\" /></a></td></tr>\n",
       "</table>\n"
      ],
      "text/plain": [
       "0. (_x_ , b + b , c + c)\n",
       "   core type: ExprTuple\n",
       "   sub-expressions: 1, 2, 3\n",
       "1. _x_\n",
       "   core type: Variable\n",
       "   sub-expressions: \n",
       "2. b + b\n",
       "   core type: Operation\n",
       "   operator: 5\n",
       "   operands: 4\n",
       "3. c + c\n",
       "   core type: Operation\n",
       "   operator: 5\n",
       "   operands: 6\n",
       "4. (b , b)\n",
       "   core type: ExprTuple\n",
       "   sub-expressions: 7, 7\n",
       "5. +\n",
       "   core type: Literal\n",
       "   sub-expressions: \n",
       "6. (c , c)\n",
       "   core type: ExprTuple\n",
       "   sub-expressions: 8, 8\n",
       "7. b\n",
       "   core type: Variable\n",
       "   sub-expressions: \n",
       "8. c\n",
       "   core type: Variable\n",
       "   sub-expressions: "
      ]
     },
     "execution_count": 4,
     "metadata": {},
     "output_type": "execute_result"
    }
   ],
   "source": [
    "# display the expression information\n",
    "expr.exprInfo()"
   ]
  },
  {
   "cell_type": "code",
   "execution_count": null,
   "metadata": {},
   "outputs": [],
   "source": []
  }
 ],
 "metadata": {
  "kernelspec": {
   "display_name": "Python 3",
   "language": "python",
   "name": "python3"
  }
 },
 "nbformat": 4,
 "nbformat_minor": 0
}
