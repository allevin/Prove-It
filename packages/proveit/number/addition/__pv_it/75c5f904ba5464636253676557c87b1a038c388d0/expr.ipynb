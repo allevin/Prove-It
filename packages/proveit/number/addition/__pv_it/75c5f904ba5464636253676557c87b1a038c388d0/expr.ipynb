{
 "cells": [
  {
   "cell_type": "markdown",
   "metadata": {},
   "source": [
    "Expression of type <a class=\"ProveItLink\" href=\"../../../../../../doc/html/api/proveit.ExprTuple.html\">ExprTuple</a>\n",
    "=======================\n",
    "# from context <a class=\"ProveItLink\" href=\"../../_context_.ipynb\">proveit.number.addition</a>"
   ]
  },
  {
   "cell_type": "code",
   "execution_count": 1,
   "metadata": {},
   "outputs": [],
   "source": [
    "# import Expression classes needed to build the expression\n",
    "from proveit import ExprTuple\n",
    "from proveit._common_ import b\n",
    "from proveit.number import Complexes, Exp, Neg, one"
   ]
  },
  {
   "cell_type": "code",
   "execution_count": 2,
   "metadata": {},
   "outputs": [
    {
     "data": {
      "text/html": [
       "<strong id=\"expr\">expr:</strong> <a class=\"ProveItLink\" href=\"expr.ipynb\"><img src=\"data:image/png;base64,iVBORw0KGgoAAAANSUhEUgAAAFwAAAAcBAMAAAAemcUHAAAAMFBMVEX///+qqqp2dnYiIiJERESI\n",
       "iIhmZmYQEBDc3NyYmJgyMjLu7u5UVFTMzMy6uroAAACGxKilAAAAAXRSTlMAQObYZgAAAdNJREFU\n",
       "OMuVlD1Iw0AUx/9V27SNiYKbi5lcLQgigl+LIDoURB3s4OLiBxS7CC4iujhVcXJychLN4AdIoRUr\n",
       "qIOIiJNgQUUnq4tWtOK9eMldY4f44O7du/sl7+XdewG8yRX+I9dHzvLZC1/HhkELLeMVv6HFgekV\n",
       "90fZdErWQ8lZKFcWRysQjJcGlEqwaUpw/rbtRA/HY0BglOmwFNAm2Y6l5XNqU4zjaRMKOR6U3L5S\n",
       "NIZtJVmsvi+OVyZxS3pW0Ponm9S4/RUmrSY5HujCMCHrAq+I0NzNrUCQvmoX89tj9PALzmjTEHj4\n",
       "OJYEGrm1p0tH5LmfkKTYSnehCNRz69InHUErYoMpRcpzg4lp4NHGdRkPfqOFqRqGLzWTdGAceMNv\n",
       "ApjsaHIw6quD29IC/UPgYTNT+na6FaVWTnvgUwQTMghXbbyILFNVUoBFKMz/mg31UjXd8UvXCxig\n",
       "XI8K/JAuxUpkmm6gOjui3vfZvl6Qp6ciAk8NkastNvYLVh91vp87V7iOmgumZ1zl+lsET+4qDkdR\n",
       "TZlace1XRK3ycuPpOWgRVwFbHYay+CqvpqCrX0+sxvjTUu1sLNFisWTbf1G2X0OUQJ/h9WezYM3L\n",
       "XvEJ/Fd+AMNDa8YThB8rAAAAAElFTkSuQmCC\n",
       "\" style=\"display:inline;vertical-align:middle;\" /></a><br>"
      ],
      "text/plain": [
       "expr: ((-b) , Complexes^{1})"
      ]
     },
     "execution_count": 2,
     "metadata": {},
     "output_type": "execute_result"
    }
   ],
   "source": [
    "# build up the expression from sub-expressions\n",
    "expr = ExprTuple([Neg(b)], Exp(Complexes, one))"
   ]
  },
  {
   "cell_type": "code",
   "execution_count": 3,
   "metadata": {},
   "outputs": [
    {
     "name": "stdout",
     "output_type": "stream",
     "text": [
      "Passed sanity check: built 'expr' is the same as the stored Expression.\n"
     ]
    }
   ],
   "source": [
    "# check that the built expression is the same as the stored expression\n",
    "%check_expr"
   ]
  },
  {
   "cell_type": "code",
   "execution_count": 4,
   "metadata": {},
   "outputs": [
    {
     "data": {
      "text/html": [
       "<table><tr><th>&nbsp;</th><th>core type</th><th>sub-expressions</th><th>expression</th></tr>\n",
       "<tr><td>0</td><td>ExprTuple</td><td>1, 2</td><td><a class=\"ProveItLink\" href=\"expr.ipynb\"><img src=\"data:image/png;base64,iVBORw0KGgoAAAANSUhEUgAAAFwAAAAcBAMAAAAemcUHAAAAMFBMVEX///+qqqp2dnYiIiJERESI\n",
       "iIhmZmYQEBDc3NyYmJgyMjLu7u5UVFTMzMy6uroAAACGxKilAAAAAXRSTlMAQObYZgAAAdNJREFU\n",
       "OMuVlD1Iw0AUx/9V27SNiYKbi5lcLQgigl+LIDoURB3s4OLiBxS7CC4iujhVcXJychLN4AdIoRUr\n",
       "qIOIiJNgQUUnq4tWtOK9eMldY4f44O7du/sl7+XdewG8yRX+I9dHzvLZC1/HhkELLeMVv6HFgekV\n",
       "90fZdErWQ8lZKFcWRysQjJcGlEqwaUpw/rbtRA/HY0BglOmwFNAm2Y6l5XNqU4zjaRMKOR6U3L5S\n",
       "NIZtJVmsvi+OVyZxS3pW0Ponm9S4/RUmrSY5HujCMCHrAq+I0NzNrUCQvmoX89tj9PALzmjTEHj4\n",
       "OJYEGrm1p0tH5LmfkKTYSnehCNRz69InHUErYoMpRcpzg4lp4NHGdRkPfqOFqRqGLzWTdGAceMNv\n",
       "ApjsaHIw6quD29IC/UPgYTNT+na6FaVWTnvgUwQTMghXbbyILFNVUoBFKMz/mg31UjXd8UvXCxig\n",
       "XI8K/JAuxUpkmm6gOjui3vfZvl6Qp6ciAk8NkastNvYLVh91vp87V7iOmgumZ1zl+lsET+4qDkdR\n",
       "TZlace1XRK3ycuPpOWgRVwFbHYay+CqvpqCrX0+sxvjTUu1sLNFisWTbf1G2X0OUQJ/h9WezYM3L\n",
       "XvEJ/Fd+AMNDa8YThB8rAAAAAElFTkSuQmCC\n",
       "\" style=\"display:inline;vertical-align:middle;\" /></a></td></tr>\n",
       "<tr><td>1</td><td>ExprTuple</td><td>3</td><td><a class=\"ProveItLink\" href=\"../fd031d3013118e3f04f6b7283acbe5942c32b06b0/expr.ipynb\"><img src=\"data:image/png;base64,iVBORw0KGgoAAAANSUhEUgAAACUAAAAVBAMAAAAzyjqdAAAAMFBMVEX////c3NwiIiJERESqqqqY\n",
       "mJh2dnZmZmYQEBDu7u4yMjJUVFTMzMyIiIi6uroAAAAs73DqAAAAAXRSTlMAQObYZgAAAMpJREFU\n",
       "GNNjYMAG+C6gcONAxGk4l3OHAgMD+wEgayVCDdcGILGAgYEXSSu/A5AIY2DgmIAQew9iz2BgeIVk\n",
       "fhKIYHZgKEMSW313KwMDWwHDUoQQ52cG/gMMLAsY+hBiLD8ZOBIY+BoY/jEwMC5SAoEH7AsY+AsY\n",
       "eD6AxGCAqYDhfQBIrAXFefUTQHpNkcQOMLQxMLAuYEhHiHE7sG8Au+URklv2loI8/YCBQwAt7IB+\n",
       "Y01AE8tFDSuwAcCwYpBGFeMGmcWIGvZ3GBgAiR0rZcFf2rkAAAAASUVORK5CYII=\n",
       "\" style=\"display:inline;vertical-align:middle;\" /></a></td></tr>\n",
       "<tr><td>2</td><td>Operation</td><td>operator:&nbsp;4<br>operands:&nbsp;5<br></td><td><a class=\"ProveItLink\" href=\"../258bfe2c95b21fe7e6c974300f5eeb5e80b551a00/expr.ipynb\"><img src=\"data:image/png;base64,iVBORw0KGgoAAAANSUhEUgAAABYAAAAUBAMAAAB7UtADAAAAMFBMVEX////c3NyqqqqYmJhUVFR2\n",
       "dnbu7u66urrMzMxmZmZEREQQEBAyMjIiIiKIiIgAAAB7fvZ0AAAAAXRSTlMAQObYZgAAAHJJREFU\n",
       "CNdjYICBLjiLodMXwWbQJZbNd+f83pUQNkd9AVv8EwjbwJmBgekLmM2csAEoMAXM5mR0ALLzGETP\n",
       "z2PIZA+AG9XKZIBgsyPYWRwINTwJDnA2cwCIzQbhLK4DErUJYDaL1zO2qmUwH93/7Q5mAAC91Biu\n",
       "spEWKgAAAABJRU5ErkJggg==\n",
       "\" style=\"display:inline;vertical-align:middle;\" /></a></td></tr>\n",
       "<tr><td>3</td><td>Operation</td><td>operator:&nbsp;6<br>operand:&nbsp;7<br></td><td><a class=\"ProveItLink\" href=\"../74752f37113c2f2a910a8022bc04ee9e9dd06cc10/expr.ipynb\"><img src=\"data:image/png;base64,iVBORw0KGgoAAAANSUhEUgAAABgAAAAOBAMAAADH1sFNAAAAMFBMVEX///9mZmbMzMxERESYmJiI\n",
       "iIh2dnaqqqoQEBBUVFTu7u66uroiIiIyMjLc3NwAAABYXk/VAAAAAXRSTlMAQObYZgAAAFRJREFU\n",
       "CNdjYICClT0MSOAmMuc7Epv7FxKH7QASh3dqpAOcs96A4ROcU7+AoY3h7RkQOM0gy8DwES5zkIH7\n",
       "C5I1jAjDPzFwJMA50xkkEfasDHRgAABNpxc6/bk9/gAAAABJRU5ErkJggg==\n",
       "\" style=\"display:inline;vertical-align:middle;\" /></a></td></tr>\n",
       "<tr><td>4</td><td>Literal</td><td></td><td><a class=\"ProveItLink\" href=\"../../../exponentiation/__pv_it/deb2bf23cbccdd6e6791e1b35b5b9794ce12dbd50/expr.ipynb\"><img src=\"data:image/png;base64,iVBORw0KGgoAAAANSUhEUgAAACgAAAASBAMAAADbMYGVAAAAMFBMVEX///8QEBAiIiKYmJjc3Nzu\n",
       "7u7MzMx2dnZmZma6urpERESqqqoyMjJUVFSIiIgAAAAoDOMTAAAAAXRSTlMAQObYZgAAAOBJREFU\n",
       "GNNjYGB4+//u3Tt/GNAASGAXmhjnPyDBgSbI/g1IxKEJ8nxgYGdgQRPkX8BgDKRY6q7s62OYvmze\n",
       "2wAgb/7ZO1+AVDiDkYEQQ0HTBr4DQF59AgOIKmB4z7CNbcNZBu6vQN55kEACQwDDLQYGVobfDHwg\n",
       "fb8YGBxYHwAZciD3fWXg+gB1JjvQcJZvQIXsCgz8F6DO9GBgMOH7wPCUgaeBwd4B7EwGNjUG7s9c\n",
       "AiwPgO5jkWRgiF3/9+5dfQUG1nWl5Y+B7pv+1gE9bBhqGLCAE1jEWH9jEbT5A3IwAC4sP/1L6Qlu\n",
       "AAAAAElFTkSuQmCC\n",
       "\" style=\"display:inline;vertical-align:middle;\" /></a></td></tr>\n",
       "<tr><td>5</td><td>ExprTuple</td><td>8, 9</td><td><a class=\"ProveItLink\" href=\"../dc6a806b281884ba9cc862b3f30fd524bc9587a80/expr.ipynb\"><img src=\"data:image/png;base64,iVBORw0KGgoAAAANSUhEUgAAAC8AAAAVBAMAAAAk6KpUAAAAMFBMVEX////c3NwiIiJERESqqqqY\n",
       "mJh2dnZmZmYQEBDu7u4yMjJUVFTMzMyIiIi6uroAAAAs73DqAAAAAXRSTlMAQObYZgAAAPlJREFU\n",
       "KM9jYMAJ+C5gisWBiNNAzKu1vskcJmrJwMB+AEivZGDgef+AM/82VHzyTyCxAKgYaFLAVgYGlt8Q\n",
       "8dm7QRJhDAwcExhYJzQA2dVQHbwgiRkMDK+AJjJuALLnIkswOzCUMTBM50tAchFYgq2AYSkDwzGW\n",
       "AHQJlgUMfUAJPgwJvgaGf0AH8mAYxfMBJME1YQMWiRYGBtYEkAQnmlGmQMr0LZB4NIETIcG6gCEd\n",
       "SHFvvsn52JJhvgKycx+BOMf1f+wDevcjkMle8asUaO0DBg4BhL0P4awZIJsREgjv5EKCHUOCExjs\n",
       "DNIIH8BZ3CDzGbFE7R0GBgCcoESyRy4QrgAAAABJRU5ErkJggg==\n",
       "\" style=\"display:inline;vertical-align:middle;\" /></a></td></tr>\n",
       "<tr><td>6</td><td>Literal</td><td></td><td><a class=\"ProveItLink\" href=\"../../../negation/__pv_it/3fc7a08bb9735faa20ef8e175f6ea95511acc9c70/expr.ipynb\"><img src=\"data:image/png;base64,iVBORw0KGgoAAAANSUhEUgAAAA4AAAACBAMAAACapPCZAAAAElBMVEX///+6uroiIiIyMjLc3NwA\n",
       "AAA6l9OrAAAAAXRSTlMAQObYZgAAABBJREFUCNdjcFYCAUUGKAAADR4BD8/TF5gAAAAASUVORK5C\n",
       "YII=\n",
       "\" style=\"display:inline;vertical-align:middle;\" /></a></td></tr>\n",
       "<tr><td>7</td><td>Variable</td><td></td><td><a class=\"ProveItLink\" href=\"../../../../__pv_it/6840a4fa6c106149dc16a131294d0c5e44f1b0480/expr.ipynb\"><img src=\"data:image/png;base64,iVBORw0KGgoAAAANSUhEUgAAAAkAAAAOBAMAAAAPuiubAAAALVBMVEX///9mZmbMzMxERESYmJiI\n",
       "iIh2dna6urqqqqoyMjIiIiIQEBBUVFTu7u4AAAD9S1JeAAAAAXRSTlMAQObYZgAAAE1JREFUCNdj\n",
       "4D29gAEIOA+ASL4GEFl3AURmgQiGOaFHGBh4HzPwKTBwvGXgTmBgnMDAJ8DAJcBQ5wBSLncBJLWN\n",
       "gYGngRFoBO9REQYGAGrcDtUkVqASAAAAAElFTkSuQmCC\n",
       "\" style=\"display:inline;vertical-align:middle;\" /></a></td></tr>\n",
       "<tr><td>8</td><td>Literal</td><td></td><td><a class=\"ProveItLink\" href=\"../../../sets/complex/__pv_it/c357845f93a5a2d9f649129d299e7ec28dda4b960/expr.ipynb\"><img src=\"data:image/png;base64,iVBORw0KGgoAAAANSUhEUgAAAA8AAAAOBAMAAAACpFvcAAAAMFBMVEX////c3NyqqqqYmJhUVFR2\n",
       "dnbu7u66urrMzMxmZmZEREQQEBAyMjIiIiKIiIgAAAB7fvZ0AAAAAXRSTlMAQObYZgAAAGVJREFU\n",
       "CNdjYGDgu3N+70oGBgaO+gK2+CdAhoEzAwPTFwYG5oQNQN4UBgZORgcgI4+BIZM9gAEMWpkMoAx2\n",
       "KCOLAyrFk+AAYTAHgBhsQLy4DkjUJjAwsHg9Y6taBpLsvP/bnYEBACkBFGQfBv8RAAAAAElFTkSu\n",
       "QmCC\n",
       "\" style=\"display:inline;vertical-align:middle;\" /></a></td></tr>\n",
       "<tr><td>9</td><td>Literal</td><td></td><td><a class=\"ProveItLink\" href=\"../../../numeral/__pv_it/9be8badea4c35b9724062cecc501d17a3158d1d20/expr.ipynb\"><img src=\"data:image/png;base64,iVBORw0KGgoAAAANSUhEUgAAAAgAAAAPBAMAAAArJJMAAAAAHlBMVEX///+YmJgyMjIQEBBmZmaI\n",
       "iIhUVFTu7u5EREQAAAAw+MI4AAAAAXRSTlMAQObYZgAAACFJREFUCNdjYGBoZ2BgqJjOwFCWBiQY\n",
       "WEklWJwnOTKAAACjEQo8HvEr3AAAAABJRU5ErkJggg==\n",
       "\" style=\"display:inline;vertical-align:middle;\" /></a></td></tr>\n",
       "</table>\n"
      ],
      "text/plain": [
       "0. ((-b) , Complexes^{1})\n",
       "   core type: ExprTuple\n",
       "   sub-expressions: 1, 2\n",
       "1. (-b)\n",
       "   core type: ExprTuple\n",
       "   sub-expressions: 3\n",
       "2. Complexes^{1}\n",
       "   core type: Operation\n",
       "   operator: 4\n",
       "   operands: 5\n",
       "3. -b\n",
       "   core type: Operation\n",
       "   operator: 6\n",
       "   operand: 7\n",
       "4. Exp\n",
       "   core type: Literal\n",
       "   sub-expressions: \n",
       "5. (Complexes , 1)\n",
       "   core type: ExprTuple\n",
       "   sub-expressions: 8, 9\n",
       "6. -\n",
       "   core type: Literal\n",
       "   sub-expressions: \n",
       "7. b\n",
       "   core type: Variable\n",
       "   sub-expressions: \n",
       "8. Complexes\n",
       "   core type: Literal\n",
       "   sub-expressions: \n",
       "9. 1\n",
       "   core type: Literal\n",
       "   sub-expressions: "
      ]
     },
     "execution_count": 4,
     "metadata": {},
     "output_type": "execute_result"
    }
   ],
   "source": [
    "# display the expression information\n",
    "expr.exprInfo()"
   ]
  },
  {
   "cell_type": "code",
   "execution_count": null,
   "metadata": {},
   "outputs": [],
   "source": []
  }
 ],
 "metadata": {
  "kernelspec": {
   "display_name": "Python 3",
   "language": "python",
   "name": "python3"
  }
 },
 "nbformat": 4,
 "nbformat_minor": 0
}
