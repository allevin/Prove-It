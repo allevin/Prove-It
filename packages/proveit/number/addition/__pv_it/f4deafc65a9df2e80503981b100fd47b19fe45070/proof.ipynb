{
 "cells": [
  {
   "cell_type": "markdown",
   "metadata": {},
   "source": [
    "Show the Proof\n",
    "========"
   ]
  },
  {
   "cell_type": "code",
   "execution_count": 1,
   "metadata": {},
   "outputs": [
    {
     "data": {
      "text/html": [
       "<table><tr><th>&nbsp;</th><th>step type</th><th>requirements</th><th>statement</th></tr>\n",
       "<tr><td>0</td><td>assumption</td><td></td><td><span style=\"font-size:20px;\"><a class=\"ProveItLink\" href=\"../85f85b29ffe644bf5770f5334ca8f98ddc6a6b250/expr.ipynb\"><img src=\"data:image/png;base64,iVBORw0KGgoAAAANSUhEUgAAAEMAAAAVBAMAAADvM06qAAAAMFBMVEX////c3NxERESqqqpUVFS6\n",
       "urrMzMwyMjIQEBCIiIh2dnYiIiLu7u5mZmaYmJgAAABXZE4RAAAAAXRSTlMAQObYZgAAATpJREFU\n",
       "KM9jYGDgu8eAC7CtEgBRPLsYcAO2ZhDJ+YGB4Ug3huTs8h+bLjAwXAexuRqARAm6itSvDKd+OjAw\n",
       "rIAr+Yymgo/lAQODPbIS1j9QqZPVu7eD6DccQIIXWQnXBqjr6g5AGBdEQB6ZgKSE3XPKAxBbCKqC\n",
       "50IU1FiwEt4CBobzCgzfQGxFmF8X2EFZ70FERgDQYQcYukCaFeBK4qAsdqDHU9oYwL7/C6RYu3fv\n",
       "BjuXRyEL5jd1oAsiEhgY9jKw/gNpdoBJ1LBAGdwLgARLAShYeEHe5tkAU/IKrOQA1C0gD39j4ACp\n",
       "ZvCDKWF6CvQw6x4kTzszXAHLnA6AqXHRPHBU6QCSkiNzwcHCwFibAPPT7f8tAQzIcQQDzO6QCIAD\n",
       "TCUYAKyED68ScHrh2Ykv1bVC0sZi/GkXAJYdV0QwVHUkAAAAAElFTkSuQmCC\n",
       "\" style=\"display:inline;vertical-align:middle;\" /></a> <a class=\"ProveItLink\" href=\"proof.ipynb\" style=\"text-decoration: none\">&#x22A2;&nbsp;</a><a class=\"ProveItLink\" href=\"../56e4bf9d0dc4ab15750dbfaaa220f8ca1295f3ab0/expr.ipynb\"><img src=\"data:image/png;base64,iVBORw0KGgoAAAANSUhEUgAAADEAAAAPBAMAAAC/wjryAAAAMFBMVEX////c3NxmZmbMzMxERESY\n",
       "mJiIiIh2dna6urqqqqoyMjIiIiIQEBBUVFTu7u4AAAAiO1wTAAAAAXRSTlMAQObYZgAAANpJREFU\n",
       "GNNj4LuzgQENsO1af9oJSHNdQJNg7m/gq88FMvgnoMkEXGVg4PwLZPQ/gAjwZe3evQBIsz44ACR1\n",
       "gbgaqtQqDkIzMYKMfwbEa9OuggQY/aAqHnEUQA35wsBvAKRZBKAy5pwBEAbnPwYekKInMAeYc0Bl\n",
       "mBYw8CsA6Z7duyEueMIMNY1bgaEfpMgWpofrAdSDQO/og9z9GibDWgCS4WMAWX8cJMAbAJNybQMS\n",
       "3Q8YeCcwgXXz7YDJ8F7J42sB+oHvmipEQEoZJmW0/88NlPCauxrsNhgAAF6vNqYvGVTbAAAAAElF\n",
       "TkSuQmCC\n",
       "\" style=\"display:inline;vertical-align:middle;\" /></a></span></td></tr>\n",
       "</table>"
      ],
      "text/plain": [
       "<proveit._core_.proof._ShowProof at 0x7f94ea6c30b8>"
      ]
     },
     "execution_count": 1,
     "metadata": {},
     "output_type": "execute_result"
    }
   ],
   "source": [
    "import proveit\n",
    "%show_proof"
   ]
  },
  {
   "cell_type": "code",
   "execution_count": null,
   "metadata": {},
   "outputs": [],
   "source": []
  }
 ],
 "metadata": {
  "kernelspec": {
   "display_name": "Python 3",
   "language": "python",
   "name": "python3"
  }
 },
 "nbformat": 4,
 "nbformat_minor": 0
}
