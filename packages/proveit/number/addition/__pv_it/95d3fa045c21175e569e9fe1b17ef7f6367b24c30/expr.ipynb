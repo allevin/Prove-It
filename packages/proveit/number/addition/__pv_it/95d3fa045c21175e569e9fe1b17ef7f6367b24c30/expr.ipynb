{
 "cells": [
  {
   "cell_type": "markdown",
   "metadata": {},
   "source": [
    "Expression of type <a class=\"ProveItLink\" href=\"../../../../../../doc/html/api/proveit.ExprTuple.html\">ExprTuple</a>\n",
    "=======================\n",
    "# from context <a class=\"ProveItLink\" href=\"../../_context_.ipynb\">proveit.number.addition</a>"
   ]
  },
  {
   "cell_type": "code",
   "execution_count": 1,
   "metadata": {},
   "outputs": [],
   "source": [
    "# import Expression classes needed to build the expression\n",
    "from proveit import ExprTuple\n",
    "from proveit._common_ import b\n",
    "from proveit.logic import InSet\n",
    "from proveit.number import Integers"
   ]
  },
  {
   "cell_type": "code",
   "execution_count": 2,
   "metadata": {},
   "outputs": [
    {
     "data": {
      "text/html": [
       "<strong id=\"expr\">expr:</strong> <a class=\"ProveItLink\" href=\"expr.ipynb\"><img src=\"data:image/png;base64,iVBORw0KGgoAAAANSUhEUgAAADwAAAAVBAMAAADocZC/AAAAMFBMVEX////c3NwiIiJERESqqqqY\n",
       "mJh2dnZmZmYQEBDu7u4yMjJUVFTMzMyIiIi6uroAAAAs73DqAAAAAXRSTlMAQObYZgAAAUlJREFU\n",
       "KM9jYCAA+C7gkmF9ACROM3DuUEAVZ9H/tKppRQBDDZC9koGBawOqNO/yCQwLmIHiQCbQbH4HVGn2\n",
       "BAY2hzyg6QkMHBMYGN5PgAjPXaSkBaK5JzBI8wBN5GxgeAXkJkFkeZZOgBtgyQximzCUAcnVd7eC\n",
       "hIQRsqwXQkFUOsNSoBmfGfgPADmGCNsncxqAKC+GPqA/fjJwJABVGSCk93ALgKgXDP+ADl3AwF8A\n",
       "DJ8mJSWI0xj4Cp6B6fMgaaYChvcBQJchfM/FsICBIREk3QL2dj3QVZyIsEthA4anAshwUwaQu9pA\n",
       "glthsowbTjMwsDUwMEQB3c7A7cAONnfSA6g0s4AlA2eZAchjj4Cm7i2FaFp+ACL9wqrZeH0z0LXr\n",
       "GDgEkGJqF9TlUAAMVGCw4wRsF8ARigvMAmJp3NIbQQ7CmZh4DzAAANzrSRlgH7E8AAAAAElFTkSu\n",
       "QmCC\n",
       "\" style=\"display:inline;vertical-align:middle;\" /></a><br>"
      ],
      "text/plain": [
       "expr: (b in Integers)"
      ]
     },
     "execution_count": 2,
     "metadata": {},
     "output_type": "execute_result"
    }
   ],
   "source": [
    "# build up the expression from sub-expressions\n",
    "expr = ExprTuple(InSet(b, Integers))"
   ]
  },
  {
   "cell_type": "code",
   "execution_count": 3,
   "metadata": {},
   "outputs": [
    {
     "name": "stdout",
     "output_type": "stream",
     "text": [
      "Passed sanity check: built 'expr' is the same as the stored Expression.\n"
     ]
    }
   ],
   "source": [
    "# check that the built expression is the same as the stored expression\n",
    "%check_expr"
   ]
  },
  {
   "cell_type": "code",
   "execution_count": 4,
   "metadata": {},
   "outputs": [
    {
     "data": {
      "text/html": [
       "<table><tr><th>&nbsp;</th><th>core type</th><th>sub-expressions</th><th>expression</th></tr>\n",
       "<tr><td>0</td><td>ExprTuple</td><td>1</td><td><a class=\"ProveItLink\" href=\"expr.ipynb\"><img src=\"data:image/png;base64,iVBORw0KGgoAAAANSUhEUgAAADwAAAAVBAMAAADocZC/AAAAMFBMVEX////c3NwiIiJERESqqqqY\n",
       "mJh2dnZmZmYQEBDu7u4yMjJUVFTMzMyIiIi6uroAAAAs73DqAAAAAXRSTlMAQObYZgAAAUlJREFU\n",
       "KM9jYCAA+C7gkmF9ACROM3DuUEAVZ9H/tKppRQBDDZC9koGBawOqNO/yCQwLmIHiQCbQbH4HVGn2\n",
       "BAY2hzyg6QkMHBMYGN5PgAjPXaSkBaK5JzBI8wBN5GxgeAXkJkFkeZZOgBtgyQximzCUAcnVd7eC\n",
       "hIQRsqwXQkFUOsNSoBmfGfgPADmGCNsncxqAKC+GPqA/fjJwJABVGSCk93ALgKgXDP+ADl3AwF8A\n",
       "DJ8mJSWI0xj4Cp6B6fMgaaYChvcBQJchfM/FsICBIREk3QL2dj3QVZyIsEthA4anAshwUwaQu9pA\n",
       "glthsowbTjMwsDUwMEQB3c7A7cAONnfSA6g0s4AlA2eZAchjj4Cm7i2FaFp+ACL9wqrZeH0z0LXr\n",
       "GDgEkGJqF9TlUAAMVGCw4wRsF8ARigvMAmJp3NIbQQ7CmZh4DzAAANzrSRlgH7E8AAAAAElFTkSu\n",
       "QmCC\n",
       "\" style=\"display:inline;vertical-align:middle;\" /></a></td></tr>\n",
       "<tr><td>1</td><td>Operation</td><td>operator:&nbsp;2<br>operands:&nbsp;3<br></td><td><a class=\"ProveItLink\" href=\"../51c67a7d63d0ef51371e0f6bbf4607dc0d1bbaf10/expr.ipynb\"><img src=\"data:image/png;base64,iVBORw0KGgoAAAANSUhEUgAAADAAAAAPBAMAAABQAFHMAAAAMFBMVEX////c3NxmZmbMzMxERESY\n",
       "mJiIiIh2dna6urqqqqoyMjIiIiIQEBBUVFTu7u4AAAAiO1wTAAAAAXRSTlMAQObYZgAAAOJJREFU\n",
       "GNNj4LuzgQEFcO7/ver0mgAGBq4LqBJsix4wLGABMvgnoEowFTCwT6gAMvofQASerd69C0TzPmCQ\n",
       "ZQaZUg0RZ176AK7JjwXEXpt2FcQRQYizJoQCSb4vDPwGQNoRYcsTPgeQ6/4x8BQA5R0QEpd5BUCO\n",
       "WMDAr8DAwHF6926I5QwcCu0giluBoR/oG2aEb7gYFjAwFIK8oQ+0lw/h/0r2BgaGDSCbj4O4V2Hi\n",
       "jBdsGRjYDzDwTmACm/K6ASrBIuDHwKfuwMB3TRWicJEBRKLH64jL+iMKSKF6C+oqCAAAiJc438f0\n",
       "fH8AAAAASUVORK5CYII=\n",
       "\" style=\"display:inline;vertical-align:middle;\" /></a></td></tr>\n",
       "<tr><td>2</td><td>Literal</td><td></td><td><a class=\"ProveItLink\" href=\"../../../../logic/set_theory/membership/__pv_it/088cbc857536a28d4119ad9639a84270ccb0545d0/expr.ipynb\"><img src=\"data:image/png;base64,iVBORw0KGgoAAAANSUhEUgAAAAwAAAAMBAMAAACkW0HUAAAALVBMVEX///+qqqpmZmZUVFQQEBC6\n",
       "urpERETc3NyYmJjMzMwiIiIyMjKIiIju7u4AAACYsrA9AAAAAXRSTlMAQObYZgAAADxJREFUCNdj\n",
       "YOA9vWrVBgaG2b0MQMCeCyIZ2ArA1DUwyRCyahVIyWQI7xaEYm4AU7xLIdxqTQgtvGvVBgCkcQ7e\n",
       "geM/tQAAAABJRU5ErkJggg==\n",
       "\" style=\"display:inline;vertical-align:middle;\" /></a></td></tr>\n",
       "<tr><td>3</td><td>ExprTuple</td><td>4, 5</td><td><a class=\"ProveItLink\" href=\"../3284c4c0abf842a90cd48246d8a0360c78123df80/expr.ipynb\"><img src=\"data:image/png;base64,iVBORw0KGgoAAAANSUhEUgAAACwAAAAVBAMAAADP3xFXAAAAMFBMVEX////c3NwiIiJERESqqqqY\n",
       "mJh2dnZmZmYQEBDu7u4yMjJUVFTMzMyIiIi6uroAAAAs73DqAAAAAXRSTlMAQObYZgAAASZJREFU\n",
       "GNNjYMAB+C6gi7A+ABKnGTh3KED4LPqfVjWtCGCoAbJXMjBwbYAI8y6fwLCAGcgHMoFm8DtAhNkT\n",
       "GNgc8oCmJDBwTGBgeD8BIsw9gUGaB6iTs4HhFZCbhLDOkhmkxIShDEiuvrsV5ogLoSAqnWEpUM9n\n",
       "Bv4DEOHJnAYgyouhD+iunwwcCRDhPdwCIOoFwz+gAxYw8BdAvFbwDEyfBwkzFTC8DwBzuRgWMDAk\n",
       "goRbwM6uhzgxhQ3obwWQIaYMIPvaGDiBoowbTjMwsDUwMEQB3cLA7cC+gWE+UBGzgCUDZ5kByIGP\n",
       "gA7cW8rAMOMjUK9Vs/H6ZqDt6xg4BKA+eYjwKtDzrFAXMwQghNkugAMWXXgWEEtDwxopejaCXIUR\n",
       "abwHGABefEKB34/mbQAAAABJRU5ErkJggg==\n",
       "\" style=\"display:inline;vertical-align:middle;\" /></a></td></tr>\n",
       "<tr><td>4</td><td>Variable</td><td></td><td><a class=\"ProveItLink\" href=\"../../../../__pv_it/6840a4fa6c106149dc16a131294d0c5e44f1b0480/expr.ipynb\"><img src=\"data:image/png;base64,iVBORw0KGgoAAAANSUhEUgAAAAkAAAAOBAMAAAAPuiubAAAALVBMVEX///9mZmbMzMxERESYmJiI\n",
       "iIh2dna6urqqqqoyMjIiIiIQEBBUVFTu7u4AAAD9S1JeAAAAAXRSTlMAQObYZgAAAE1JREFUCNdj\n",
       "4D29gAEIOA+ASL4GEFl3AURmgQiGOaFHGBh4HzPwKTBwvGXgTmBgnMDAJ8DAJcBQ5wBSLncBJLWN\n",
       "gYGngRFoBO9REQYGAGrcDtUkVqASAAAAAElFTkSuQmCC\n",
       "\" style=\"display:inline;vertical-align:middle;\" /></a></td></tr>\n",
       "<tr><td>5</td><td>Literal</td><td></td><td><a class=\"ProveItLink\" href=\"../../../sets/integer/__pv_it/7b9e51516f347f625fa636d7bb440e96498977000/expr.ipynb\"><img src=\"data:image/png;base64,iVBORw0KGgoAAAANSUhEUgAAAA4AAAAOBAMAAADtZjDiAAAAMFBMVEX////MzMzc3NxUVFS6urp2\n",
       "dnZERETu7u5mZmaIiIiYmJgQEBAyMjIiIiKqqqoAAAAf68ZqAAAAAXRSTlMAQObYZgAAAGlJREFU\n",
       "CNdj4Lv/98ze0wsYOE8UMBxgY2DgCGBgfRDCwMBcwKDMaMAAAulsBSCKa8IqMLeMPQFMGzIrgCiW\n",
       "Blcwl4fhAANDEANDHKsDA8MFBiYDYQYG1g0MbArpDOytCQzeOdvSzm9rAAAm6xY1AUf+1AAAAABJ\n",
       "RU5ErkJggg==\n",
       "\" style=\"display:inline;vertical-align:middle;\" /></a></td></tr>\n",
       "</table>\n"
      ],
      "text/plain": [
       "0. (b in Integers)\n",
       "   core type: ExprTuple\n",
       "   sub-expressions: 1\n",
       "1. b in Integers\n",
       "   core type: Operation\n",
       "   operator: 2\n",
       "   operands: 3\n",
       "2. in\n",
       "   core type: Literal\n",
       "   sub-expressions: \n",
       "3. (b , Integers)\n",
       "   core type: ExprTuple\n",
       "   sub-expressions: 4, 5\n",
       "4. b\n",
       "   core type: Variable\n",
       "   sub-expressions: \n",
       "5. Integers\n",
       "   core type: Literal\n",
       "   sub-expressions: "
      ]
     },
     "execution_count": 4,
     "metadata": {},
     "output_type": "execute_result"
    }
   ],
   "source": [
    "# display the expression information\n",
    "expr.exprInfo()"
   ]
  },
  {
   "cell_type": "code",
   "execution_count": null,
   "metadata": {},
   "outputs": [],
   "source": []
  }
 ],
 "metadata": {
  "kernelspec": {
   "display_name": "Python 3",
   "language": "python",
   "name": "python3"
  }
 },
 "nbformat": 4,
 "nbformat_minor": 0
}
