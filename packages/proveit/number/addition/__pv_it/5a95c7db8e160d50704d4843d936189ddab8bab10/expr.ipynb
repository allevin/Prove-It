{
 "cells": [
  {
   "cell_type": "markdown",
   "metadata": {},
   "source": [
    "Expression of type <a class=\"ProveItLink\" href=\"../../../../../../doc/html/api/proveit.logic.Equals.html\">Equals</a>\n",
    "=======================\n",
    "# from context <a class=\"ProveItLink\" href=\"../../_context_.ipynb\">proveit.number.addition</a>"
   ]
  },
  {
   "cell_type": "code",
   "execution_count": 1,
   "metadata": {},
   "outputs": [],
   "source": [
    "# import Expression classes needed to build the expression\n",
    "from proveit.logic import Equals\n",
    "from proveit.number import Add, five, four, three, two"
   ]
  },
  {
   "cell_type": "code",
   "execution_count": 2,
   "metadata": {},
   "outputs": [
    {
     "data": {
      "text/html": [
       "<strong id=\"expr\">expr:</strong> <a class=\"ProveItLink\" href=\"expr.ipynb\"><img src=\"data:image/png;base64,iVBORw0KGgoAAAANSUhEUgAAAMcAAAAVBAMAAAAA3efRAAAAMFBMVEX////c3NwiIiJERESqqqqY\n",
       "mJh2dnZmZmYQEBDu7u4yMjJUVFTMzMyIiIi6uroAAAAs73DqAAAAAXRSTlMAQObYZgAAAlZJREFU\n",
       "SMe9VT1oFEEU/vZ+dvf2fm1iIcJhIZYpYmEjdooYuDQpUshVORACV0WIFifYBCGendjkQA9xBbk0\n",
       "NiHJVaawyJYBDQYrESQR/OFAcr6ZOZfMzJvWB29359vvm2/3zexb4L9EJVHJRv6QQ28z2DfX/JL8\n",
       "XuXZlavG3XeLM8B9S1QaIBhyKPrdqWsO8iuZ3gCfdIbXxlGCyJouMw30LDTqAo/HvxzkciKz2EXm\n",
       "WN14ok7+D1TryDehocA+6eYtkwPKl2+HDnLYlRmuoniibsyqU06aFDrQUHgLpHtqmaxSDtKRSf4K\n",
       "mdEIgW5CQeXCjKHzI9JlzdpXeqzJP/IyXS+r+o1Mk9eULUM3J3R+2zAJRFW3DrYd5D5d9yWy19QZ\n",
       "pTvi0W7qukIidDm58kEsQ7CiBh2uYP2QJ6/RYE1Cz2G+yT5pvuioD6GrdIw3CdXsxQ5PFgshFyOY\n",
       "tkxCKuCejt6SutKxYVJVJv4fnpyafJD4ShxfimOxGN4Q2Z8TkxQtNN0m2Tr8E578kGCRuTbOaI+x\n",
       "PpImerlym5s7j5JJuYILMkQFQtpuYR3Bd558mUYid2kvaCbVHjKkWTCLGNKkefOTz9LCB7T+PZ7c\n",
       "UtvUu7jYqmuMcgNHTXsLS521hQVAfehGjSd/pkvKzHg81k1w/e4LOr4xv6+d3w1EZnOuCO3uvQ0H\n",
       "OSTzsHZaMHt6YLUVGXZbeQDnFEQWHTDtgvafwU84dMkymXf/XJbSVu+KZxxY4Fs9H5J8bpJ8bHBg\n",
       "sWZB3sA1gyR7iUo2ykMO/chg510mRP4LNyS4h9x4UTMAAAAASUVORK5CYII=\n",
       "\" style=\"display:inline;vertical-align:middle;\" /></a><br>"
      ],
      "text/plain": [
       "expr: ((2 + 3) + 4) = (5 + 4)"
      ]
     },
     "execution_count": 2,
     "metadata": {},
     "output_type": "execute_result"
    }
   ],
   "source": [
    "# build up the expression from sub-expressions\n",
    "expr = Equals(Add(Add(two, three), four), Add(five, four))"
   ]
  },
  {
   "cell_type": "code",
   "execution_count": 3,
   "metadata": {},
   "outputs": [
    {
     "name": "stdout",
     "output_type": "stream",
     "text": [
      "Passed sanity check: built 'expr' is the same as the stored Expression.\n"
     ]
    }
   ],
   "source": [
    "# check that the built expression is the same as the stored expression\n",
    "%check_expr"
   ]
  },
  {
   "cell_type": "code",
   "execution_count": 4,
   "metadata": {},
   "outputs": [
    {
     "data": {
      "text/html": [
       "<table><tr><th>&nbsp;</th><th>core type</th><th>sub-expressions</th><th>expression</th></tr>\n",
       "<tr><td>0</td><td>Operation</td><td>operator:&nbsp;1<br>operands:&nbsp;2<br></td><td><a class=\"ProveItLink\" href=\"expr.ipynb\"><img src=\"data:image/png;base64,iVBORw0KGgoAAAANSUhEUgAAAMcAAAAVBAMAAAAA3efRAAAAMFBMVEX////c3NwiIiJERESqqqqY\n",
       "mJh2dnZmZmYQEBDu7u4yMjJUVFTMzMyIiIi6uroAAAAs73DqAAAAAXRSTlMAQObYZgAAAlZJREFU\n",
       "SMe9VT1oFEEU/vZ+dvf2fm1iIcJhIZYpYmEjdooYuDQpUshVORACV0WIFifYBCGendjkQA9xBbk0\n",
       "NiHJVaawyJYBDQYrESQR/OFAcr6ZOZfMzJvWB29359vvm2/3zexb4L9EJVHJRv6QQ28z2DfX/JL8\n",
       "XuXZlavG3XeLM8B9S1QaIBhyKPrdqWsO8iuZ3gCfdIbXxlGCyJouMw30LDTqAo/HvxzkciKz2EXm\n",
       "WN14ok7+D1TryDehocA+6eYtkwPKl2+HDnLYlRmuoniibsyqU06aFDrQUHgLpHtqmaxSDtKRSf4K\n",
       "mdEIgW5CQeXCjKHzI9JlzdpXeqzJP/IyXS+r+o1Mk9eULUM3J3R+2zAJRFW3DrYd5D5d9yWy19QZ\n",
       "pTvi0W7qukIidDm58kEsQ7CiBh2uYP2QJ6/RYE1Cz2G+yT5pvuioD6GrdIw3CdXsxQ5PFgshFyOY\n",
       "tkxCKuCejt6SutKxYVJVJv4fnpyafJD4ShxfimOxGN4Q2Z8TkxQtNN0m2Tr8E578kGCRuTbOaI+x\n",
       "PpImerlym5s7j5JJuYILMkQFQtpuYR3Bd558mUYid2kvaCbVHjKkWTCLGNKkefOTz9LCB7T+PZ7c\n",
       "UtvUu7jYqmuMcgNHTXsLS521hQVAfehGjSd/pkvKzHg81k1w/e4LOr4xv6+d3w1EZnOuCO3uvQ0H\n",
       "OSTzsHZaMHt6YLUVGXZbeQDnFEQWHTDtgvafwU84dMkymXf/XJbSVu+KZxxY4Fs9H5J8bpJ8bHBg\n",
       "sWZB3sA1gyR7iUo2ykMO/chg510mRP4LNyS4h9x4UTMAAAAASUVORK5CYII=\n",
       "\" style=\"display:inline;vertical-align:middle;\" /></a></td></tr>\n",
       "<tr><td>1</td><td>Literal</td><td></td><td><a class=\"ProveItLink\" href=\"../../../../logic/equality/__pv_it/2fb26078095930560931daa0500ce419a39ea6cd0/expr.ipynb\"><img src=\"data:image/png;base64,iVBORw0KGgoAAAANSUhEUgAAAA4AAAAFBAMAAACHocAhAAAAFVBMVEX///9EREQiIiJUVFQyMjJm\n",
       "ZmYAAADubVkoAAAAAXRSTlMAQObYZgAAABRJREFUCNdjCHEBAWcGXCBICQQUAUpuAwlgGKrkAAAA\n",
       "AElFTkSuQmCC\n",
       "\" style=\"display:inline;vertical-align:middle;\" /></a></td></tr>\n",
       "<tr><td>2</td><td>ExprTuple</td><td>3, 4</td><td><a class=\"ProveItLink\" href=\"../7d091001e943637e71eb8ec1c47e74b0656baafe0/expr.ipynb\"><img src=\"data:image/png;base64,iVBORw0KGgoAAAANSUhEUgAAAKUAAAAVBAMAAADVzzOcAAAAMFBMVEX////c3NwiIiJERESqqqqY\n",
       "mJh2dnZmZmYQEBDu7u4yMjJUVFTMzMyIiIi6uroAAAAs73DqAAAAAXRSTlMAQObYZgAAAltJREFU\n",
       "OMu1lT1oFEEUx/97t7u3u3eXrIWksAkIYhkktpJOMAZiI5hCtpAE/MBrTCAKRk2jQnJpRATxMKZw\n",
       "BTk7YZFspUWKbBmI4mElgiSKotfc+mbm9m5ndq9I4cCbN/Pevd/Mm5l9B/yPNhQJyW1G66C4i6zb\n",
       "EjKyeErxvp8dB25lo7aEci5ol1RXpYlSSPolF62JzxOSX6thL4KTZR4VyopjT3UVxoAGUI24lOso\n",
       "7AvHmlDmLwyPwkji1pK46r3uPm9e7VpsN/HtEPM8LVfnYt1HuSMcU0LpnGkvQbICh9eFLvd2pye3\n",
       "oc0Q8zHwDVycNkodJZrljnGV6Q1mmg4xixOYp/G8OIy2ynxFMqcwDTdhftptKcxzjGnWsEHjDW7Z\n",
       "9uToyuUm9WcU5lN0mcW63ZGZdsSYegMrNFnhpnU1S+zQRr4qVq/3O+CtzDTBmENLYGvx9UpjGaZF\n",
       "p7EtW/UwxbweSsyznFnZ7zN3uX3R94/7PjtILUTxd5fZtz7q5XOCmJRHyfefP/B9OibbS5jL5Gai\n",
       "13BI2tGzNmcquU8Gwd93fHQXuO2m96kHwebDiOV+kmZMPtC1SdHDDRR+ADOZE6E3T28aNcBX7h0W\n",
       "7dNo8LdCoh2bnRuVoqvT2POyb4kx7Z+kRqDfyWPSW/pCQ5JCHMcyE6cXXlD/WmVeiW/Yq5R0ZSFw\n",
       "1Te/+WcaTgsWOSw3XQim0pPst8nroxSgS5WSvk1WJAypwHxPT8woz2pkKnC/XevVukHtSX6pHlyT\n",
       "bap1ONKV/PYm1xoNZpbZsWiRkNxWDQ/63/ER+AfzGKUXImfP0gAAAABJRU5ErkJggg==\n",
       "\" style=\"display:inline;vertical-align:middle;\" /></a></td></tr>\n",
       "<tr><td>3</td><td>Operation</td><td>operator:&nbsp;10<br>operands:&nbsp;5<br></td><td><a class=\"ProveItLink\" href=\"../6196a66340ea655c5aafc393c9d2c4db0969f2100/expr.ipynb\"><img src=\"data:image/png;base64,iVBORw0KGgoAAAANSUhEUgAAAF8AAAAVBAMAAADSoS/MAAAAMFBMVEX////c3NwiIiJERESqqqqY\n",
       "mJh2dnZmZmYQEBDu7u4yMjJUVFTMzMyIiIi6uroAAAAs73DqAAAAAXRSTlMAQObYZgAAAWhJREFU\n",
       "OMuVkzFIw0AUhv/UNk3Sxurk4NJJHDPUVdwEsVDXTplacOqkUBwcXESQurooqIMRpM4d2kkHh2Ys\n",
       "OChOIkgVFMlifLmI5l2SwYPk7r6XL3m8ewH+PSbdlEDuIZnfAjPtRQleNyrAVuzZYpdu51C6uF9i\n",
       "AaWFsQsjJmQswHRR6CDzGpKDcFLfUSojZ4NRYESC1oG2i8JXSKrhlBWCvg1GodRJeAYMD3ku0KCU\n",
       "UJEE1SBhI0zOk4ULupqSsBYIZ2I5tHmouB7UY4ULuhsI+2J9AvkLIzqFJ05VBIJIPm/FBI2SHHK6\n",
       "+ifcCdB2nHnHCZJXBpj4+BF+qW4LYSeoYgvT7F1HnhB4Stler7/nYoGWN1QAJpSOkXkD6nKimiVK\n",
       "p8w1mmUWMmsY2/GyCuGRDsH3fS5gefOU7pfywfU/a9Cmot1VjW5irRF2vR3dvUQ3qptEqb3TxmEy\n",
       "nk0VrpKxkvaLmoMk+g1JnVv4C5VmpgAAAABJRU5ErkJggg==\n",
       "\" style=\"display:inline;vertical-align:middle;\" /></a></td></tr>\n",
       "<tr><td>4</td><td>Operation</td><td>operator:&nbsp;10<br>operands:&nbsp;6<br></td><td><a class=\"ProveItLink\" href=\"../aedf14d01a0cf2113d81f22a8a6cf2570a5ad44b0/expr.ipynb\"><img src=\"data:image/png;base64,iVBORw0KGgoAAAANSUhEUgAAACwAAAAQBAMAAACfEoDkAAAAMFBMVEX///8iIiJERES6urqIiIjM\n",
       "zMxUVFRmZmYQEBCqqqp2dnbc3Nzu7u6YmJgyMjIAAADYGhJvAAAAAXRSTlMAQObYZgAAAJ1JREFU\n",
       "GNNj4LvDvZIBDYQxMHD8/78AXViIgYGvbCmUw7MBymBpYmBgg6vhdIAy9j7CKrwAJOziZoAqzLsB\n",
       "KMx0gOczqvARhkdgOgNVeAFUeH0AsjBnAEhYESgMNJz93buHfe/eJTAwnGIACTcyMNRvQFY9LS3t\n",
       "RwpDAQPDOzQHMgC9s52BsxuLMGt52gY04WX/a5ECCKEaBTAjCQMAzGYrnkEnJskAAAAASUVORK5C\n",
       "YII=\n",
       "\" style=\"display:inline;vertical-align:middle;\" /></a></td></tr>\n",
       "<tr><td>5</td><td>ExprTuple</td><td>7, 9</td><td><a class=\"ProveItLink\" href=\"../0b4079f8be144baef79872dc81725472e83531430/expr.ipynb\"><img src=\"data:image/png;base64,iVBORw0KGgoAAAANSUhEUgAAAE0AAAAVBAMAAADx+n4ZAAAAMFBMVEX////c3NwiIiJERESqqqqY\n",
       "mJh2dnZmZmYQEBDu7u4yMjJUVFTMzMyIiIi6uroAAAAs73DqAAAAAXRSTlMAQObYZgAAAWhJREFU\n",
       "KM+Nkj1Iw1AQx/9pm682/XBycOkkjh10lW4uFuri4CCZWhCETAqdHFxE0Li5GVAH49K9Qzvp4GDG\n",
       "goLFUZBWUaSL9d57TeyrlHpD7uvH3b3LAf+VTDAV2WSfO2C2tjyWuakshqZVh94ifQWljqeihCkO\n",
       "umGbWAHwgHSAlItYTwRPhNI+kM0PuTZx64DhwjhA6lsES0Ilfjllg7hT4AVI9qHLHEnYV0sSFy9i\n",
       "RwzRH+euh3qNcZqDS+7d2zJnbdWFYQaMS3g44u45xuu1O6ItGJfZAx9ML/zhDDHJKuesnuAeeKzm\n",
       "+wu+zwZTWoh/8rZ2yO2zNTiYkeqd9YdcotFoHgas7xJ5t/Qsict6iL3BFQNQPdVDlbrMV6p5iUuX\n",
       "0bXN94ijvTzT8gaDgcxhZfcC5nGOPbj5VUayAyM3egAl6eKiFP031R5NvY46amRt87uaJBFn0l1h\n",
       "biIXHXqKDaBMv/tH4AdSg1ad1oCY/AAAAABJRU5ErkJggg==\n",
       "\" style=\"display:inline;vertical-align:middle;\" /></a></td></tr>\n",
       "<tr><td>6</td><td>ExprTuple</td><td>8, 9</td><td><a class=\"ProveItLink\" href=\"../ad3afaab9da546e1778dd5bdc7be5b402dccb1030/expr.ipynb\"><img src=\"data:image/png;base64,iVBORw0KGgoAAAANSUhEUgAAACkAAAAVBAMAAAAp9toTAAAAMFBMVEX////c3NwiIiJERESqqqqY\n",
       "mJh2dnZmZmYQEBDu7u4yMjJUVFTMzMyIiIi6uroAAAAs73DqAAAAAXRSTlMAQObYZgAAAQhJREFU\n",
       "GNNjYMAO+C6gCcSBiNMMDEsniDlAhXg2MLAfANIrGRj6/3+DKWQyYGBYwMDACzRg+bYDMNEbQNEw\n",
       "BgaOCQwMG+BmMkYBRWcwMLxiQBZl4wKKMjswlAHZe+/ug4oGgkTZChiWAtmWDPMfgAU5L4BEWRYw\n",
       "9IG53A0QAxhAonwNDP8g3D9gygcsyvMBJMqswMAGluRMgIm2AB2nwMD+ESTKsnv3/u4LIBNMGRjY\n",
       "GRi4FjBMAJvBAVTLuoAhHej0AgYPAc5PcFGgyx4BmcerNzJw9guAbN3/PYCB6wEDhwAsRGEMkI9Z\n",
       "E6BsVri3cyEhiSrKCQxJBmkoBx4l3CCjGNFj6A4DAwCwJDoZ9yoA1QAAAABJRU5ErkJggg==\n",
       "\" style=\"display:inline;vertical-align:middle;\" /></a></td></tr>\n",
       "<tr><td>7</td><td>Operation</td><td>operator:&nbsp;10<br>operands:&nbsp;11<br></td><td><a class=\"ProveItLink\" href=\"../b3da72475f2e5820f90b445dc3397d522d6d2e280/expr.ipynb\"><img src=\"data:image/png;base64,iVBORw0KGgoAAAANSUhEUgAAACwAAAAQBAMAAACfEoDkAAAAMFBMVEX///+YmJh2dnbMzMwQEBAi\n",
       "IiLu7u6qqqqIiIhUVFS6urpEREQyMjJmZmbc3NwAAACOMKdoAAAAAXRSTlMAQObYZgAAALNJREFU\n",
       "GNNj4Lt7egEDCjBS2s7A8JKB4zuKKN8FhvUNDNMYGOIhfLYHYIrpOwN/AINLAsN8iCnsDRAKLHw+\n",
       "geE+ijAQrAez4hPQhE+CCOZPDCjCzDoTQBTPBgY01S0gU28zoAuzfGNg4ABr4T1z5qjPmTNANp8B\n",
       "A/dHBoZaBr4HyKrzv4GEmS8wMKII8x9gYP3H8FRJ6SqK2RwCDOsVGOL///+KamXt3ePIYYRwCQrg\n",
       "QhIGAAaPNUmGC4MkAAAAAElFTkSuQmCC\n",
       "\" style=\"display:inline;vertical-align:middle;\" /></a></td></tr>\n",
       "<tr><td>8</td><td>Literal</td><td></td><td><a class=\"ProveItLink\" href=\"../../../numeral/__pv_it/aaeeaca7d86eb2b7cdc49e25c3108b81b52ec5400/expr.ipynb\"><img src=\"data:image/png;base64,iVBORw0KGgoAAAANSUhEUgAAAAkAAAAOBAMAAAAPuiubAAAAMFBMVEX///8iIiJERES6urqIiIjM\n",
       "zMxUVFRmZmYQEBCqqqp2dnbc3Nzu7u6YmJgyMjIAAADYGhJvAAAAAXRSTlMAQObYZgAAAE1JREFU\n",
       "CNdj4LvDvZKBgeP//wUMDHxlSxkYGNgYGBCki5sBAwPTAZ7PYG4GmFwfwKAIJA0YGhkY6jcwFDAw\n",
       "vGNg2M7A2c3AwFqetoEBAKS8EE1WXEJLAAAAAElFTkSuQmCC\n",
       "\" style=\"display:inline;vertical-align:middle;\" /></a></td></tr>\n",
       "<tr><td>9</td><td>Literal</td><td></td><td><a class=\"ProveItLink\" href=\"../../../numeral/__pv_it/23412ce59ea7e77353d2f9225e02248e73651ca00/expr.ipynb\"><img src=\"data:image/png;base64,iVBORw0KGgoAAAANSUhEUgAAAAoAAAAPBAMAAAAv0UM9AAAALVBMVEX///9mZmaqqqru7u52dnYy\n",
       "MjKYmJjc3NwQEBCIiIhEREQiIiJUVFTMzMwAAACUDTcXAAAAAXRSTlMAQObYZgAAAD5JREFUCNdj\n",
       "YGBguMMAArtABGcXiCyLApEOIJKtAERaMoBIBxDJdAFEmjCASJ0zZ16cBCkF64KQPu/EwBwGACv6\n",
       "DSRgin9qAAAAAElFTkSuQmCC\n",
       "\" style=\"display:inline;vertical-align:middle;\" /></a></td></tr>\n",
       "<tr><td>10</td><td>Literal</td><td></td><td><a class=\"ProveItLink\" href=\"../3e6688136fa3c7aefbebe51301b7c3ebf0b69c440/expr.ipynb\"><img src=\"data:image/png;base64,iVBORw0KGgoAAAANSUhEUgAAAA4AAAAOBAMAAADtZjDiAAAAJFBMVEX///+6urpUVFQQEBAiIiIy\n",
       "MjJmZmaIiIiqqqrc3Nzu7u4AAACgHpL+AAAAAXRSTlMAQObYZgAAAB5JREFUCNdjYGBgWMkAAe2k\n",
       "0Kmhoc6hoUGk6BMHYgAHOwjcado9fwAAAABJRU5ErkJggg==\n",
       "\" style=\"display:inline;vertical-align:middle;\" /></a></td></tr>\n",
       "<tr><td>11</td><td>ExprTuple</td><td>12, 13</td><td><a class=\"ProveItLink\" href=\"../9333281ed4be3d0d1796509ff962cccc430da5be0/expr.ipynb\"><img src=\"data:image/png;base64,iVBORw0KGgoAAAANSUhEUgAAACkAAAAVBAMAAAAp9toTAAAAMFBMVEX////c3NwiIiJERESqqqqY\n",
       "mJh2dnZmZmYQEBDu7u4yMjJUVFTMzMyIiIi6uroAAAAs73DqAAAAAXRSTlMAQObYZgAAARBJREFU\n",
       "GNNtkStPA1EQhb8tLPtqN4uqAFGFBYOF/QeAQRISklYRqiCpQmAwdCVyE4IgmP4EFAgENShIIEhU\n",
       "gyApCV3mzj7Ehismcz5x7pkZ+P+F4xrYM+UR2oONHDS7BzHOnXQ3WCPeYqVtwl9IoTUmSGhMlB7F\n",
       "fMEuuAnuOcFM6ZbSS/gEf4ozK/8Wh7mYYxWNaUH9ESz0uVbxtJ/D+1sp8ykXqq7KsC3R4Slq6KxV\n",
       "MwwTmpOcvhRoGTa3DT0zRn0WDfSyxFBxWBf1ADsk0vzAaoSd0gNrpdvreBKfZ8JvTfYhYbMs63jD\n",
       "SKxOBrIQ/x03KqcqGzOxXeTHrsId6iZr1JNNslSI6iSBsbLqF3qFP6kkPkM9+LMtAAAAAElFTkSu\n",
       "QmCC\n",
       "\" style=\"display:inline;vertical-align:middle;\" /></a></td></tr>\n",
       "<tr><td>12</td><td>Literal</td><td></td><td><a class=\"ProveItLink\" href=\"../../../numeral/__pv_it/77d407a64829263cdc16415becd4c2293f77a4bf0/expr.ipynb\"><img src=\"data:image/png;base64,iVBORw0KGgoAAAANSUhEUgAAAAkAAAAOBAMAAAAPuiubAAAAMFBMVEX///+YmJh2dnbMzMwQEBAi\n",
       "IiLu7u6qqqqIiIhUVFS6urpEREQyMjJmZmbc3NwAAACOMKdoAAAAAXRSTlMAQObYZgAAAFBJREFU\n",
       "CNdj4Lt7egEDw0sGju8MDNMYGOIZGFwSGOYvYDifwHAfKAEUSQASzJ9ATJ4NIPI2iOCYACJrGfge\n",
       "MDBfYGB8wPBUSekqUPH//18ZAIliFhc3zESNAAAAAElFTkSuQmCC\n",
       "\" style=\"display:inline;vertical-align:middle;\" /></a></td></tr>\n",
       "<tr><td>13</td><td>Literal</td><td></td><td><a class=\"ProveItLink\" href=\"../../../numeral/__pv_it/9176d93c83afa2c995b614976e3cb49207102fa70/expr.ipynb\"><img src=\"data:image/png;base64,iVBORw0KGgoAAAANSUhEUgAAAAoAAAAOBAMAAADkjZCYAAAAMFBMVEX///+YmJju7u4QEBBUVFQy\n",
       "MjIiIiKIiIi6urpmZmbc3NyqqqpERER2dnbMzMwAAAB0GlNiAAAAAXRSTlMAQObYZgAAAE1JREFU\n",
       "CNdjYHh79zQDA9cEhv4CBt7fDPwJDNxgEgiAIkAQAsR8Vx1ATIbiBhDJ/ImB6wEDz0cG/U8gkj+A\n",
       "ge0XA7sAQ/8FBoadM6MZAEflFACalZ/OAAAAAElFTkSuQmCC\n",
       "\" style=\"display:inline;vertical-align:middle;\" /></a></td></tr>\n",
       "</table>\n"
      ],
      "text/plain": [
       "0. ((2 + 3) + 4) = (5 + 4)\n",
       "   core type: Operation\n",
       "   operator: 1\n",
       "   operands: 2\n",
       "1. =\n",
       "   core type: Literal\n",
       "   sub-expressions: \n",
       "2. ((2 + 3) + 4 , 5 + 4)\n",
       "   core type: ExprTuple\n",
       "   sub-expressions: 3, 4\n",
       "3. (2 + 3) + 4\n",
       "   core type: Operation\n",
       "   operator: 10\n",
       "   operands: 5\n",
       "4. 5 + 4\n",
       "   core type: Operation\n",
       "   operator: 10\n",
       "   operands: 6\n",
       "5. (2 + 3 , 4)\n",
       "   core type: ExprTuple\n",
       "   sub-expressions: 7, 9\n",
       "6. (5 , 4)\n",
       "   core type: ExprTuple\n",
       "   sub-expressions: 8, 9\n",
       "7. 2 + 3\n",
       "   core type: Operation\n",
       "   operator: 10\n",
       "   operands: 11\n",
       "8. 5\n",
       "   core type: Literal\n",
       "   sub-expressions: \n",
       "9. 4\n",
       "   core type: Literal\n",
       "   sub-expressions: \n",
       "10. +\n",
       "    core type: Literal\n",
       "    sub-expressions: \n",
       "11. (2 , 3)\n",
       "    core type: ExprTuple\n",
       "    sub-expressions: 12, 13\n",
       "12. 2\n",
       "    core type: Literal\n",
       "    sub-expressions: \n",
       "13. 3\n",
       "    core type: Literal\n",
       "    sub-expressions: "
      ]
     },
     "execution_count": 4,
     "metadata": {},
     "output_type": "execute_result"
    }
   ],
   "source": [
    "# display the expression information\n",
    "expr.exprInfo()"
   ]
  },
  {
   "cell_type": "code",
   "execution_count": null,
   "metadata": {},
   "outputs": [],
   "source": []
  }
 ],
 "metadata": {
  "kernelspec": {
   "display_name": "Python 3",
   "language": "python",
   "name": "python3"
  }
 },
 "nbformat": 4,
 "nbformat_minor": 0
}
