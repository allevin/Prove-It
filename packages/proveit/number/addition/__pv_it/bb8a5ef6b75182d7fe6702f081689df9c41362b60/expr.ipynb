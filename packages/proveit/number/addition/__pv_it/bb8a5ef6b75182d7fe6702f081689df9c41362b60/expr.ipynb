{
 "cells": [
  {
   "cell_type": "markdown",
   "metadata": {},
   "source": [
    "Expression of type <a class=\"ProveItLink\" href=\"../../../../../../doc/html/api/proveit.logic.InSet.html\">InSet</a>\n",
    "=======================\n",
    "# from context <a class=\"ProveItLink\" href=\"../../_context_.ipynb\">proveit.number.addition</a>"
   ]
  },
  {
   "cell_type": "code",
   "execution_count": 1,
   "metadata": {},
   "outputs": [],
   "source": [
    "# import Expression classes needed to build the expression\n",
    "from proveit._common_ import a, b, d\n",
    "from proveit.logic import InSet\n",
    "from proveit.number import Add, NaturalsPos, one"
   ]
  },
  {
   "cell_type": "code",
   "execution_count": 2,
   "metadata": {},
   "outputs": [
    {
     "data": {
      "text/html": [
       "<strong id=\"expr\">expr:</strong> <a class=\"ProveItLink\" href=\"expr.ipynb\"><img src=\"data:image/png;base64,iVBORw0KGgoAAAANSUhEUgAAALgAAAAYBAMAAAC7ASoaAAAAMFBMVEX////c3NwiIiJERESqqqqY\n",
       "mJh2dnZmZmYQEBDu7u4yMjJUVFTMzMyIiIi6uroAAAAs73DqAAAAAXRSTlMAQObYZgAAAiNJREFU\n",
       "SMdjYKAVcGCgITAY2obzXaDAhDgChp/GIsG5QwFDzBJDhM+igP0Amsb1xisZ2PVVYIavxGYt1wZ0\n",
       "kck/MVXxOzAsQBNiDjgMFGfgXrWqa9VaBl6UUOEUgGtDFZi9+yeaCBC8n8AQhmY4tw7QQA5YsHBM\n",
       "QJZjuQDXhirAwPsTXYSBIYmBYQbUxltKSmBPcL+asAdh+CsGbIYnMRBj+HJgMEC8eCoS5vIzG2ZN\n",
       "gBteBsSMe/MaUXWuvruVkOFATV8YGNgKwGx4bHMf8OUxgBu+FIhfCDB/QNHJ+ZmB/wABw4GagEIs\n",
       "4MBgFkAYzv4gFmw4KEn0Ae39ysBugKKT5ScDRwJ+w0GagAbzNYCTEiJCDzDs5D4B4/0DCnxgYLqA\n",
       "ohOojb8Av+EgTUD7ecBefqGkBIvQAwyzOVcgGc5vwDAfFAjsq1Yt6lq1CugfpgKG9wHIAjDDESIg\n",
       "TQ9ghp9GdjlPAtzlLQwM8hcY/BkmIDsLmMzrJ+B3OVQTJFgmIRvOEMIM45kyMMx3YNjFghJ/wNhs\n",
       "I5BaoJpYIYERgGw4mzCMlw7M6wEs6myoAerAvoGA4VBNkKTIqQfP/sCgYqiC8R6BUuy9w/dQk+Le\n",
       "UrSEx17xqxQ1tUA0cT0A86RqoGXZ+mYgOQtmOIcAthyKWwBNBJr9GbwXKS3ALNlYE1BKUXSzMEt7\n",
       "VJFc/OX9SkqqG84F+OWlKTGcWwC/PCMl1dwdvLIAs7Wx+9r5C7UAAAAASUVORK5CYII=\n",
       "\" style=\"display:inline;vertical-align:middle;\" /></a><br>"
      ],
      "text/plain": [
       "expr: (a + b + 1 + d) in NaturalsPos"
      ]
     },
     "execution_count": 2,
     "metadata": {},
     "output_type": "execute_result"
    }
   ],
   "source": [
    "# build up the expression from sub-expressions\n",
    "expr = InSet(Add(a, b, one, d), NaturalsPos)"
   ]
  },
  {
   "cell_type": "code",
   "execution_count": 3,
   "metadata": {},
   "outputs": [
    {
     "name": "stdout",
     "output_type": "stream",
     "text": [
      "Passed sanity check: built 'expr' is the same as the stored Expression.\n"
     ]
    }
   ],
   "source": [
    "# check that the built expression is the same as the stored expression\n",
    "%check_expr"
   ]
  },
  {
   "cell_type": "code",
   "execution_count": 4,
   "metadata": {},
   "outputs": [
    {
     "data": {
      "text/html": [
       "<table><tr><th>&nbsp;</th><th>core type</th><th>sub-expressions</th><th>expression</th></tr>\n",
       "<tr><td>0</td><td>Operation</td><td>operator:&nbsp;1<br>operands:&nbsp;2<br></td><td><a class=\"ProveItLink\" href=\"expr.ipynb\"><img src=\"data:image/png;base64,iVBORw0KGgoAAAANSUhEUgAAALgAAAAYBAMAAAC7ASoaAAAAMFBMVEX////c3NwiIiJERESqqqqY\n",
       "mJh2dnZmZmYQEBDu7u4yMjJUVFTMzMyIiIi6uroAAAAs73DqAAAAAXRSTlMAQObYZgAAAiNJREFU\n",
       "SMdjYKAVcGCgITAY2obzXaDAhDgChp/GIsG5QwFDzBJDhM+igP0Amsb1xisZ2PVVYIavxGYt1wZ0\n",
       "kck/MVXxOzAsQBNiDjgMFGfgXrWqa9VaBl6UUOEUgGtDFZi9+yeaCBC8n8AQhmY4tw7QQA5YsHBM\n",
       "QJZjuQDXhirAwPsTXYSBIYmBYQbUxltKSmBPcL+asAdh+CsGbIYnMRBj+HJgMEC8eCoS5vIzG2ZN\n",
       "gBteBsSMe/MaUXWuvruVkOFATV8YGNgKwGx4bHMf8OUxgBu+FIhfCDB/QNHJ+ZmB/wABw4GagEIs\n",
       "4MBgFkAYzv4gFmw4KEn0Ae39ysBugKKT5ScDRwJ+w0GagAbzNYCTEiJCDzDs5D4B4/0DCnxgYLqA\n",
       "ohOojb8Av+EgTUD7ecBefqGkBIvQAwyzOVcgGc5vwDAfFAjsq1Yt6lq1CugfpgKG9wHIAjDDESIg\n",
       "TQ9ghp9GdjlPAtzlLQwM8hcY/BkmIDsLmMzrJ+B3OVQTJFgmIRvOEMIM45kyMMx3YNjFghJ/wNhs\n",
       "I5BaoJpYIYERgGw4mzCMlw7M6wEs6myoAerAvoGA4VBNkKTIqQfP/sCgYqiC8R6BUuy9w/dQk+Le\n",
       "UrSEx17xqxQ1tUA0cT0A86RqoGXZ+mYgOQtmOIcAthyKWwBNBJr9GbwXKS3ALNlYE1BKUXSzMEt7\n",
       "VJFc/OX9SkqqG84F+OWlKTGcWwC/PCMl1dwdvLIAs7Wx+9r5C7UAAAAASUVORK5CYII=\n",
       "\" style=\"display:inline;vertical-align:middle;\" /></a></td></tr>\n",
       "<tr><td>1</td><td>Literal</td><td></td><td><a class=\"ProveItLink\" href=\"../../../../logic/set_theory/membership/__pv_it/088cbc857536a28d4119ad9639a84270ccb0545d0/expr.ipynb\"><img src=\"data:image/png;base64,iVBORw0KGgoAAAANSUhEUgAAAAwAAAAMBAMAAACkW0HUAAAALVBMVEX///+qqqpmZmZUVFQQEBC6\n",
       "urpERETc3NyYmJjMzMwiIiIyMjKIiIju7u4AAACYsrA9AAAAAXRSTlMAQObYZgAAADxJREFUCNdj\n",
       "YOA9vWrVBgaG2b0MQMCeCyIZ2ArA1DUwyRCyahVIyWQI7xaEYm4AU7xLIdxqTQgtvGvVBgCkcQ7e\n",
       "geM/tQAAAABJRU5ErkJggg==\n",
       "\" style=\"display:inline;vertical-align:middle;\" /></a></td></tr>\n",
       "<tr><td>2</td><td>ExprTuple</td><td>3, 4</td><td><a class=\"ProveItLink\" href=\"../e21898d04c1414cec4c8ae2fc44f65d20f5aae750/expr.ipynb\"><img src=\"data:image/png;base64,iVBORw0KGgoAAAANSUhEUgAAAKgAAAAbBAMAAAAaO9lcAAAAMFBMVEX///+qqqp2dnYiIiJERESI\n",
       "iIhmZmYQEBDc3NyYmJgyMjLu7u5UVFTMzMy6uroAAACGxKilAAAAAXRSTlMAQObYZgAAAiJJREFU\n",
       "SMe1lD9IG1Ecx7+XP5fYuzNZOvcgu+gSXKQRCh10OBBxKSFbSR1axKE4ZXBy6Ql1F6QVroI3CIII\n",
       "ydAgSVtwELq0NFtLhyaCg3qk+Hs578+7uyaC1wcv7/HN+37uvd/v9x4QZ8u7sz/xQUvUVTZRGvFC\n",
       "v7HJkRkvNK3RTwvxQjENZF9F/CmdTIa0uZAy/rQyWLz/5APEx1MO9BkgVqI++SAU6AMrvCpnZzul\n",
       "n9EcsmGsGe+AuolMh9tijVvuCcefrYBCrWunQ56hOGbc4yd1/OC+LWjcck9A2goqQMEe5N/mFx9U\n",
       "LGEpElrAXaDvb6HfG0emBx3roU1DtjnxmnfsLbZGQcl0fgs9faiUPOi4hXkaftZSPc4hXSB3OgJK\n",
       "JsuBip2tAXSQXqXPjpC9YnHwOwQLGXU4lJm2HSg+yV/doGT/okhiD0mNc9DyXGU4lJlUF3os7XoV\n",
       "dM6guRLq7LCiYeysGQadIVlBV/cLDtRTmKnjQhWV2+ke8EbDI5j+bVCZvjSH79RnIig2Ux60j490\n",
       "BfJoC1xeKEsrI7JvmyQHmlj3bu8lFuhO6kIxwQcsLzZGQG1Tnb0RKRaGFy6U6rTLKq58VuZLqlkN\n",
       "FJD4/LrKZ39gOrykne2vshfUhSa2nXoMX5d/CAHlV8RjpEFWudcsyAgJAUUPQ+s1KJP3epYjoG+p\n",
       "z96HmY7QZqhvIN42xq6ioMYLtQt2M17oMv5PuwHcNaOakgnbkQAAAABJRU5ErkJggg==\n",
       "\" style=\"display:inline;vertical-align:middle;\" /></a></td></tr>\n",
       "<tr><td>3</td><td>Operation</td><td>operator:&nbsp;5<br>operands:&nbsp;6<br></td><td><a class=\"ProveItLink\" href=\"../37b30cb321a4441d2e3ea1a768108b219c5c26d30/expr.ipynb\"><img src=\"data:image/png;base64,iVBORw0KGgoAAAANSUhEUgAAAHUAAAAQBAMAAADaEy1mAAAAMFBMVEX///8yMjKqqqrMzMzu7u4i\n",
       "IiJmZmaYmJhEREQQEBC6urp2dnaIiIhUVFTc3NwAAAD87Fq/AAAAAXRSTlMAQObYZgAAAQlJREFU\n",
       "KM9jYMAALDcDMMRaMES4OhMYsADGC+giHl8wVfEroFj4AE0UJuB79wuaCBCsd0DWy3QATRQmwMDz\n",
       "BV2EgWErAza9WxmI0SsGxHx3ds1DlZA9c52QXqCmT0Bq5QOODygSLD8Y+A0I6AVqAgrxfWdga0CR\n",
       "YPrCwLkBv16QJgEGBt4PDKwHUCSAovwJ+PWCNAGN529g8Ae5kE1QUHSioCAwalkTGNYXIAvA9CJE\n",
       "QJoWMDC8P8Cgz+CAbCgwevMd8NsL1eSvwHCRCSVogAE1m0A4QzUxFjCFcaN6RoHtAgG9UE18d05Z\n",
       "nEKNozvpaDHClvkxHTWcEZowEw0OASwisGx1gJAAqggAaeZlDIjT080AAAAASUVORK5CYII=\n",
       "\" style=\"display:inline;vertical-align:middle;\" /></a></td></tr>\n",
       "<tr><td>4</td><td>Literal</td><td></td><td><a class=\"ProveItLink\" href=\"../../../sets/integer/__pv_it/42d4bc2e45d5054d807f2641a228c1b440fb8de30/expr.ipynb\"><img src=\"data:image/png;base64,iVBORw0KGgoAAAANSUhEUgAAABsAAAATBAMAAACTqWsLAAAAMFBMVEX////c3Nx2dna6uroQEBCI\n",
       "iIhUVFTMzMyYmJiqqqoiIiJmZmZEREQyMjLu7u4AAADjlg78AAAAAXRSTlMAQObYZgAAAHZJREFU\n",
       "GNNjYIADTgYUwEMy9+2fsw8Ydv2aAJM9wX6AgeEDQ+7dK3fvBjAwZBWEMjA4wPUm32MrQOKml/Hd\n",
       "Q+ZyBtQgcxk2cwSAuGxQLtuDdAe47ekMfAlvkbkMRewoXI4JB5C5DIoI7mEg5r4A49l+AcrwwbgA\n",
       "axoiJO4Xc9gAAAAASUVORK5CYII=\n",
       "\" style=\"display:inline;vertical-align:middle;\" /></a></td></tr>\n",
       "<tr><td>5</td><td>Literal</td><td></td><td><a class=\"ProveItLink\" href=\"../3e6688136fa3c7aefbebe51301b7c3ebf0b69c440/expr.ipynb\"><img src=\"data:image/png;base64,iVBORw0KGgoAAAANSUhEUgAAAA4AAAAOBAMAAADtZjDiAAAAJFBMVEX///+6urpUVFQQEBAiIiIy\n",
       "MjJmZmaIiIiqqqrc3Nzu7u4AAACgHpL+AAAAAXRSTlMAQObYZgAAAB5JREFUCNdjYGBgWMkAAe2k\n",
       "0Kmhoc6hoUGk6BMHYgAHOwjcado9fwAAAABJRU5ErkJggg==\n",
       "\" style=\"display:inline;vertical-align:middle;\" /></a></td></tr>\n",
       "<tr><td>6</td><td>ExprTuple</td><td>7, 8, 9, 10</td><td><a class=\"ProveItLink\" href=\"../ddd8e1a0b4fb27cb459c32ae12fdc68c300d651a0/expr.ipynb\"><img src=\"data:image/png;base64,iVBORw0KGgoAAAANSUhEUgAAAFEAAAAVBAMAAADMaB9/AAAAMFBMVEX////c3NwiIiJERESqqqqY\n",
       "mJh2dnZmZmYQEBDu7u4yMjJUVFTMzMyIiIi6uroAAAAs73DqAAAAAXRSTlMAQObYZgAAAWVJREFU\n",
       "KM+Nk71LQmEUhx/z43o1P/aG2lxdgtr8D7xTY0hLU+FSRC0V0VhCi9CgS0S0NhWC0Nji1lCINUVL\n",
       "FkkYEr3H13u9r0Z4h3vP+/s979c558LkT7IxAbQsrzu/crrvhYvDtRaKVl19L4zJl25w0h2KqRxV\n",
       "SJibf7qL3/jItxJLEC0Zh/b8hI9cgTK8GktG5v4izyGYY1NFgdr6ntZitQdnhFSmOlKkyJkavKSD\n",
       "bS1XsvRGSGWqMFTlSM3qYGW1nC9xaJJiqosnd/mBeJupQQa24cskxSzAdFvIVJZKXesZkh2TFLPV\n",
       "Jw9gtkGe0iCdVtckB6bafV5dI8d1qG6L3iNa0JOEFEmbhKusqtQ4oUyEiqTyih3sD5cUSZuSpWfJ\n",
       "WPO2SfldinjvYB+nwdr63uhL2iTWIpp2K/HklXRckmqGC+7AcYMwYxJr/q77j7RV8plxW8LzvT4c\n",
       "SnE5UGCSv+MRfgHSbmm+fu4VJQAAAABJRU5ErkJggg==\n",
       "\" style=\"display:inline;vertical-align:middle;\" /></a></td></tr>\n",
       "<tr><td>7</td><td>Variable</td><td></td><td><a class=\"ProveItLink\" href=\"../../../../__pv_it/07527342713064c87612d00d8557c53d53d5324a0/expr.ipynb\"><img src=\"data:image/png;base64,iVBORw0KGgoAAAANSUhEUgAAAAsAAAAJBAMAAAAWSsseAAAAMFBMVEX///8yMjKqqqrMzMzu7u4i\n",
       "IiJmZmaYmJhEREQQEBC6urp2dnaIiIhUVFTc3NwAAAD87Fq/AAAAAXRSTlMAQObYZgAAAEhJREFU\n",
       "CNdjYOC7s2seAwPDygccHxgY+L4zsDUwMPB+YGA9wMDA38Dgb8DA8P4Agz6DA4O/AsNFJgMGxgKm\n",
       "MG6gyjunLE4xAAAZTBA5TB6DCwAAAABJRU5ErkJggg==\n",
       "\" style=\"display:inline;vertical-align:middle;\" /></a></td></tr>\n",
       "<tr><td>8</td><td>Variable</td><td></td><td><a class=\"ProveItLink\" href=\"../../../../__pv_it/6840a4fa6c106149dc16a131294d0c5e44f1b0480/expr.ipynb\"><img src=\"data:image/png;base64,iVBORw0KGgoAAAANSUhEUgAAAAkAAAAOBAMAAAAPuiubAAAALVBMVEX///9mZmbMzMxERESYmJiI\n",
       "iIh2dna6urqqqqoyMjIiIiIQEBBUVFTu7u4AAAD9S1JeAAAAAXRSTlMAQObYZgAAAE1JREFUCNdj\n",
       "4D29gAEIOA+ASL4GEFl3AURmgQiGOaFHGBh4HzPwKTBwvGXgTmBgnMDAJ8DAJcBQ5wBSLncBJLWN\n",
       "gYGngRFoBO9REQYGAGrcDtUkVqASAAAAAElFTkSuQmCC\n",
       "\" style=\"display:inline;vertical-align:middle;\" /></a></td></tr>\n",
       "<tr><td>9</td><td>Literal</td><td></td><td><a class=\"ProveItLink\" href=\"../../../numeral/__pv_it/9be8badea4c35b9724062cecc501d17a3158d1d20/expr.ipynb\"><img src=\"data:image/png;base64,iVBORw0KGgoAAAANSUhEUgAAAAgAAAAPBAMAAAArJJMAAAAAHlBMVEX///+YmJgyMjIQEBBmZmaI\n",
       "iIhUVFTu7u5EREQAAAAw+MI4AAAAAXRSTlMAQObYZgAAACFJREFUCNdjYGBoZ2BgqJjOwFCWBiQY\n",
       "WEklWJwnOTKAAACjEQo8HvEr3AAAAABJRU5ErkJggg==\n",
       "\" style=\"display:inline;vertical-align:middle;\" /></a></td></tr>\n",
       "<tr><td>10</td><td>Variable</td><td></td><td><a class=\"ProveItLink\" href=\"../../../../__pv_it/3a5de44ed6135dbbdbbeec6704c741e238f127300/expr.ipynb\"><img src=\"data:image/png;base64,iVBORw0KGgoAAAANSUhEUgAAAAsAAAAOBAMAAAALT/umAAAAMFBMVEX////MzMyYmJiIiIhUVFTc\n",
       "3NwyMjIiIiJ2dnbu7u6qqqpmZmYQEBBERES6uroAAABkyy6XAAAAAXRSTlMAQObYZgAAAFhJREFU\n",
       "CNdjYGBg4LuzgQEE+BeAqfcTwFQ7mGTIBmJW575fQOpNAO9PIOcTA3cCAwPLBwb2BqCeCwzzHzAw\n",
       "xBswrGeYwDB/AYMblwADmwJXNQdIm52sHQMAfyoTCZukXIEAAAAASUVORK5CYII=\n",
       "\" style=\"display:inline;vertical-align:middle;\" /></a></td></tr>\n",
       "</table>\n"
      ],
      "text/plain": [
       "0. (a + b + 1 + d) in NaturalsPos\n",
       "   core type: Operation\n",
       "   operator: 1\n",
       "   operands: 2\n",
       "1. in\n",
       "   core type: Literal\n",
       "   sub-expressions: \n",
       "2. (a + b + 1 + d , NaturalsPos)\n",
       "   core type: ExprTuple\n",
       "   sub-expressions: 3, 4\n",
       "3. a + b + 1 + d\n",
       "   core type: Operation\n",
       "   operator: 5\n",
       "   operands: 6\n",
       "4. NaturalsPos\n",
       "   core type: Literal\n",
       "   sub-expressions: \n",
       "5. +\n",
       "   core type: Literal\n",
       "   sub-expressions: \n",
       "6. (a , b , 1 , d)\n",
       "   core type: ExprTuple\n",
       "   sub-expressions: 7, 8, 9, 10\n",
       "7. a\n",
       "   core type: Variable\n",
       "   sub-expressions: \n",
       "8. b\n",
       "   core type: Variable\n",
       "   sub-expressions: \n",
       "9. 1\n",
       "   core type: Literal\n",
       "   sub-expressions: \n",
       "10. d\n",
       "    core type: Variable\n",
       "    sub-expressions: "
      ]
     },
     "execution_count": 4,
     "metadata": {},
     "output_type": "execute_result"
    }
   ],
   "source": [
    "# display the expression information\n",
    "expr.exprInfo()"
   ]
  },
  {
   "cell_type": "code",
   "execution_count": null,
   "metadata": {},
   "outputs": [],
   "source": []
  }
 ],
 "metadata": {
  "kernelspec": {
   "display_name": "Python 3",
   "language": "python",
   "name": "python3"
  }
 },
 "nbformat": 4,
 "nbformat_minor": 0
}
