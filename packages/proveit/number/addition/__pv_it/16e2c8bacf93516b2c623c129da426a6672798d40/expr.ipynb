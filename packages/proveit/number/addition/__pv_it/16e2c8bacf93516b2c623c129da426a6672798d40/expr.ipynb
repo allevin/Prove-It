{
 "cells": [
  {
   "cell_type": "markdown",
   "metadata": {},
   "source": [
    "Expression of type <a class=\"ProveItLink\" href=\"../../../../../../doc/html/api/proveit.ExprTuple.html\">ExprTuple</a>\n",
    "=======================\n",
    "# from context <a class=\"ProveItLink\" href=\"../../_context_.ipynb\">proveit.number.addition</a>"
   ]
  },
  {
   "cell_type": "code",
   "execution_count": 1,
   "metadata": {},
   "outputs": [],
   "source": [
    "# import Expression classes needed to build the expression\n",
    "from proveit import ExprTuple\n",
    "from proveit._common_ import C\n",
    "from proveit.number import Complexes"
   ]
  },
  {
   "cell_type": "code",
   "execution_count": 2,
   "metadata": {},
   "outputs": [
    {
     "data": {
      "text/html": [
       "<strong id=\"expr\">expr:</strong> <a class=\"ProveItLink\" href=\"expr.ipynb\"><img src=\"data:image/png;base64,iVBORw0KGgoAAAANSUhEUgAAADMAAAAVBAMAAAAZessyAAAAMFBMVEX////c3NwiIiJERESqqqqY\n",
       "mJh2dnZmZmYQEBDu7u4yMjJUVFTMzMyIiIi6uroAAAAs73DqAAAAAXRSTlMAQObYZgAAAT1JREFU\n",
       "KM9jYMAD+C5gE40DEadBxFzr8gBxiCCv1vomcwb2A0DmSiBma2VgeN4KluF5/4Az/zYDwwKgIqB5\n",
       "nIsmAKU/gqUCtjIwsPxmYAhjYOAAinJ1guxsAMmwTgBR1QwMMxgYXgFZ9Q5AgrEAJMXOuAFkNQMD\n",
       "swNDGVDwF0iQE2Qxw3S+BIhr2AoYlgJVfkU4+hhLAITBsoChj4GB6SOSFB9UCmj1PwYG/g9gA8Ei\n",
       "k3mgBvJ8AElxgKV8wCJcEzbApVoYGLh/gthgBzKwJmyAmAA00BSo4C/IRRMgRpq+BRKPJjCwLmBI\n",
       "B7LiHRj4ChkY5isA2dybb3I+tgQ7/hHI3F3bS4DUDLBLj+v/2Aey9AEDhwDC5Q+RYmUGyF4ENwBJ\n",
       "KhcaKZhSnMBIYZCGc3mRNHGD7GHEmgDuMDAAAFriSMVpEJmpAAAAAElFTkSuQmCC\n",
       "\" style=\"display:inline;vertical-align:middle;\" /></a><br>"
      ],
      "text/plain": [
       "expr: (C , Complexes)"
      ]
     },
     "execution_count": 2,
     "metadata": {},
     "output_type": "execute_result"
    }
   ],
   "source": [
    "# build up the expression from sub-expressions\n",
    "expr = ExprTuple(C, Complexes)"
   ]
  },
  {
   "cell_type": "code",
   "execution_count": 3,
   "metadata": {},
   "outputs": [
    {
     "name": "stdout",
     "output_type": "stream",
     "text": [
      "Passed sanity check: built 'expr' is the same as the stored Expression.\n"
     ]
    }
   ],
   "source": [
    "# check that the built expression is the same as the stored expression\n",
    "%check_expr"
   ]
  },
  {
   "cell_type": "code",
   "execution_count": 4,
   "metadata": {},
   "outputs": [
    {
     "data": {
      "text/html": [
       "<table><tr><th>&nbsp;</th><th>core type</th><th>sub-expressions</th><th>expression</th></tr>\n",
       "<tr><td>0</td><td>ExprTuple</td><td>1, 2</td><td><a class=\"ProveItLink\" href=\"expr.ipynb\"><img src=\"data:image/png;base64,iVBORw0KGgoAAAANSUhEUgAAADMAAAAVBAMAAAAZessyAAAAMFBMVEX////c3NwiIiJERESqqqqY\n",
       "mJh2dnZmZmYQEBDu7u4yMjJUVFTMzMyIiIi6uroAAAAs73DqAAAAAXRSTlMAQObYZgAAAT1JREFU\n",
       "KM9jYMAD+C5gE40DEadBxFzr8gBxiCCv1vomcwb2A0DmSiBma2VgeN4KluF5/4Az/zYDwwKgIqB5\n",
       "nIsmAKU/gqUCtjIwsPxmYAhjYOAAinJ1guxsAMmwTgBR1QwMMxgYXgFZ9Q5AgrEAJMXOuAFkNQMD\n",
       "swNDGVDwF0iQE2Qxw3S+BIhr2AoYlgJVfkU4+hhLAITBsoChj4GB6SOSFB9UCmj1PwYG/g9gA8Ei\n",
       "k3mgBvJ8AElxgKV8wCJcEzbApVoYGLh/gthgBzKwJmyAmAA00BSo4C/IRRMgRpq+BRKPJjCwLmBI\n",
       "B7LiHRj4ChkY5isA2dybb3I+tgQ7/hHI3F3bS4DUDLBLj+v/2Aey9AEDhwDC5Q+RYmUGyF4ENwBJ\n",
       "KhcaKZhSnMBIYZCGc3mRNHGD7GHEmgDuMDAAAFriSMVpEJmpAAAAAElFTkSuQmCC\n",
       "\" style=\"display:inline;vertical-align:middle;\" /></a></td></tr>\n",
       "<tr><td>1</td><td>Variable</td><td></td><td><a class=\"ProveItLink\" href=\"../../../../__pv_it/985a1bdf1540838275dec15f4ad6de261cca93ce0/expr.ipynb\"><img src=\"data:image/png;base64,iVBORw0KGgoAAAANSUhEUgAAAA8AAAAOBAMAAAACpFvcAAAAMFBMVEX////MzMyqqqoiIiIyMjK6\n",
       "uroQEBB2dnbc3NyYmJhmZmZUVFRERESIiIju7u4AAAB204erAAAAAXRSTlMAQObYZgAAAGZJREFU\n",
       "CNdjYGDgu7NrJccCBgaGsgkMrMsmMDA8sQNy6hsYGNweABlhDAxcn4A0QxcDQ78DiPGQgWH9BAYI\n",
       "sG+AMv6DSaCGfBDNJMDAsB+kmwuI5S8AiTog5gSaEwXWIO29SgFIAQBC+RaDQlidVgAAAABJRU5E\n",
       "rkJggg==\n",
       "\" style=\"display:inline;vertical-align:middle;\" /></a></td></tr>\n",
       "<tr><td>2</td><td>Literal</td><td></td><td><a class=\"ProveItLink\" href=\"../../../sets/complex/__pv_it/c357845f93a5a2d9f649129d299e7ec28dda4b960/expr.ipynb\"><img src=\"data:image/png;base64,iVBORw0KGgoAAAANSUhEUgAAAA8AAAAOBAMAAAACpFvcAAAAMFBMVEX////c3NyqqqqYmJhUVFR2\n",
       "dnbu7u66urrMzMxmZmZEREQQEBAyMjIiIiKIiIgAAAB7fvZ0AAAAAXRSTlMAQObYZgAAAGVJREFU\n",
       "CNdjYGDgu3N+70oGBgaO+gK2+CdAhoEzAwPTFwYG5oQNQN4UBgZORgcgI4+BIZM9gAEMWpkMoAx2\n",
       "KCOLAyrFk+AAYTAHgBhsQLy4DkjUJjAwsHg9Y6taBpLsvP/bnYEBACkBFGQfBv8RAAAAAElFTkSu\n",
       "QmCC\n",
       "\" style=\"display:inline;vertical-align:middle;\" /></a></td></tr>\n",
       "</table>\n"
      ],
      "text/plain": [
       "0. (C , Complexes)\n",
       "   core type: ExprTuple\n",
       "   sub-expressions: 1, 2\n",
       "1. C\n",
       "   core type: Variable\n",
       "   sub-expressions: \n",
       "2. Complexes\n",
       "   core type: Literal\n",
       "   sub-expressions: "
      ]
     },
     "execution_count": 4,
     "metadata": {},
     "output_type": "execute_result"
    }
   ],
   "source": [
    "# display the expression information\n",
    "expr.exprInfo()"
   ]
  },
  {
   "cell_type": "code",
   "execution_count": null,
   "metadata": {},
   "outputs": [],
   "source": []
  }
 ],
 "metadata": {
  "kernelspec": {
   "display_name": "Python 3",
   "language": "python",
   "name": "python3"
  }
 },
 "nbformat": 4,
 "nbformat_minor": 0
}
