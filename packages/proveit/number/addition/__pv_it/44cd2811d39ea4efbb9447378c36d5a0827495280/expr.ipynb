{
 "cells": [
  {
   "cell_type": "markdown",
   "metadata": {},
   "source": [
    "Expression of type <a class=\"ProveItLink\" href=\"../../../../../../doc/html/api/proveit.ExprTuple.html\">ExprTuple</a>\n",
    "=======================\n",
    "# from context <a class=\"ProveItLink\" href=\"../../_context_.ipynb\">proveit.number.addition</a>"
   ]
  },
  {
   "cell_type": "code",
   "execution_count": 1,
   "metadata": {},
   "outputs": [],
   "source": [
    "# import Expression classes needed to build the expression\n",
    "from proveit import ExprTuple\n",
    "from proveit._common_ import d\n",
    "from proveit.number import Exp, Naturals, one"
   ]
  },
  {
   "cell_type": "code",
   "execution_count": 2,
   "metadata": {},
   "outputs": [
    {
     "data": {
      "text/html": [
       "<strong id=\"expr\">expr:</strong> <a class=\"ProveItLink\" href=\"expr.ipynb\"><img src=\"data:image/png;base64,iVBORw0KGgoAAAANSUhEUgAAAE4AAAAcBAMAAAA9wpTSAAAAMFBMVEX///+qqqp2dnYiIiJERESI\n",
       "iIhmZmYQEBDc3NyYmJgyMjLu7u5UVFTMzMy6uroAAACGxKilAAAAAXRSTlMAQObYZgAAAcpJREFU\n",
       "OMuNk0EoRFEUhv8ZZsyb996Ymp1SbyXLyUI2aiwsSLxosrFQsiGalaZsJDZSHllZzUqJmJ2azUyN\n",
       "BQovyUqxIFIYIVMi58yb+4YxeXPr3nPuPV/nnHvuuYDDOENV4zxrq4//giGaGitqxpG7YCWVdOQ8\n",
       "Oi0HvLuxDqWrihzaAF/Mjn09hQlhTr12JzHyErS4IcA7TNJvxX6G3/bTpUaAXNFfOok6DhUtmAIf\n",
       "kDTBZU06jBW5GgOXLKcLJncYckxwx5uKaXPeCAbZUaJg8lMKHYI7upA3iZvdGeX75XDIOEdb7H8K\n",
       "Ak0259LPILxTRj3syCA1jj66TYPNYVLSBad+Yp0E32XJwBiptyVOSR4JzveFVhL1xJ0ALaReljg5\n",
       "kxKc/Gxzr5C/fnM4VX/42+K4Qfje4MrJv+JCCkYE94k9ErUGe1YSjcAaRylyaBZcII8BLjAVbgOh\n",
       "Yc2qSzpMSy/XK1HkqH5PjJNhMfrQSWlu03Y3D9y/ky9ZcO4E6k2ScZGV9W535c3l16HwW6yIAzd3\n",
       "JIxyLj0DNVzqK2o7VORWYb28T/yRfV48f5q6neYCK/PW3mNW/CMS97JLc/zEc4V12ZEbR9XjG3jR\n",
       "c1wJRZ63AAAAAElFTkSuQmCC\n",
       "\" style=\"display:inline;vertical-align:middle;\" /></a><br>"
      ],
      "text/plain": [
       "expr: ((d) , Naturals^{1})"
      ]
     },
     "execution_count": 2,
     "metadata": {},
     "output_type": "execute_result"
    }
   ],
   "source": [
    "# build up the expression from sub-expressions\n",
    "expr = ExprTuple([d], Exp(Naturals, one))"
   ]
  },
  {
   "cell_type": "code",
   "execution_count": 3,
   "metadata": {},
   "outputs": [
    {
     "name": "stdout",
     "output_type": "stream",
     "text": [
      "Passed sanity check: built 'expr' is the same as the stored Expression.\n"
     ]
    }
   ],
   "source": [
    "# check that the built expression is the same as the stored expression\n",
    "%check_expr"
   ]
  },
  {
   "cell_type": "code",
   "execution_count": 4,
   "metadata": {},
   "outputs": [
    {
     "data": {
      "text/html": [
       "<table><tr><th>&nbsp;</th><th>core type</th><th>sub-expressions</th><th>expression</th></tr>\n",
       "<tr><td>0</td><td>ExprTuple</td><td>1, 2</td><td><a class=\"ProveItLink\" href=\"expr.ipynb\"><img src=\"data:image/png;base64,iVBORw0KGgoAAAANSUhEUgAAAE4AAAAcBAMAAAA9wpTSAAAAMFBMVEX///+qqqp2dnYiIiJERESI\n",
       "iIhmZmYQEBDc3NyYmJgyMjLu7u5UVFTMzMy6uroAAACGxKilAAAAAXRSTlMAQObYZgAAAcpJREFU\n",
       "OMuNk0EoRFEUhv8ZZsyb996Ymp1SbyXLyUI2aiwsSLxosrFQsiGalaZsJDZSHllZzUqJmJ2azUyN\n",
       "BQovyUqxIFIYIVMi58yb+4YxeXPr3nPuPV/nnHvuuYDDOENV4zxrq4//giGaGitqxpG7YCWVdOQ8\n",
       "Oi0HvLuxDqWrihzaAF/Mjn09hQlhTr12JzHyErS4IcA7TNJvxX6G3/bTpUaAXNFfOok6DhUtmAIf\n",
       "kDTBZU06jBW5GgOXLKcLJncYckxwx5uKaXPeCAbZUaJg8lMKHYI7upA3iZvdGeX75XDIOEdb7H8K\n",
       "Ak0259LPILxTRj3syCA1jj66TYPNYVLSBad+Yp0E32XJwBiptyVOSR4JzveFVhL1xJ0ALaReljg5\n",
       "kxKc/Gxzr5C/fnM4VX/42+K4Qfje4MrJv+JCCkYE94k9ErUGe1YSjcAaRylyaBZcII8BLjAVbgOh\n",
       "Yc2qSzpMSy/XK1HkqH5PjJNhMfrQSWlu03Y3D9y/ky9ZcO4E6k2ScZGV9W535c3l16HwW6yIAzd3\n",
       "JIxyLj0DNVzqK2o7VORWYb28T/yRfV48f5q6neYCK/PW3mNW/CMS97JLc/zEc4V12ZEbR9XjG3jR\n",
       "c1wJRZ63AAAAAElFTkSuQmCC\n",
       "\" style=\"display:inline;vertical-align:middle;\" /></a></td></tr>\n",
       "<tr><td>1</td><td>ExprTuple</td><td>3</td><td><a class=\"ProveItLink\" href=\"../28221f55131bb5c4db02b96565296db65d4f70b90/expr.ipynb\"><img src=\"data:image/png;base64,iVBORw0KGgoAAAANSUhEUgAAABcAAAAVBAMAAABfzGiYAAAAMFBMVEX////c3NwiIiJERESqqqqY\n",
       "mJh2dnZmZmYQEBDu7u4yMjJUVFTMzMyIiIi6uroAAAAs73DqAAAAAXRSTlMAQObYZgAAAMVJREFU\n",
       "GNNVjz8PwUAYxn+0qv613Q1Gq0Vi7DdgMkpjMRGT2WCWjjZdRHwFiURitPQDSCMmsejAYBF315K4\n",
       "4d77Pffc+94Df8sKk9qT21EprXF+L+pG6bZLAJXEdffpgukr6MMCbsnzNWguE3HK7EYPMMasBFwd\n",
       "7QV6wFxcPMmLVtaUN5Rish6UYwl2g+VZwQxqIW18aWvC0mWr78kFDKDY0euGan2RY6JDJLQzpvPN\n",
       "Ir6T874w/EWAgphLNYWS9GfS2Cf4AMmmLIXLDE7wAAAAAElFTkSuQmCC\n",
       "\" style=\"display:inline;vertical-align:middle;\" /></a></td></tr>\n",
       "<tr><td>2</td><td>Operation</td><td>operator:&nbsp;4<br>operands:&nbsp;5<br></td><td><a class=\"ProveItLink\" href=\"../77f533ff4aa6ad37932d912e15d75c444e77cc360/expr.ipynb\"><img src=\"data:image/png;base64,iVBORw0KGgoAAAANSUhEUgAAABYAAAAUBAMAAAB7UtADAAAAMFBMVEX////c3Nx2dna6uroQEBCI\n",
       "iIhUVFTMzMyYmJiqqqoiIiJmZmZEREQyMjLu7u4AAADjlg78AAAAAXRSTlMAQObYZgAAAHRJREFU\n",
       "CNdjYICBGjiLoToLwWaYRRz77Z+zDxh2/ZoAFj/BfoCB4QNETVZBKAODA4SdfI+tAMZOL+O7B2QL\n",
       "3d8KZHMG1IDEQSCdYTNHAJzN9iAdzuZLeAtnMxSxI9gcEw7A2QyKUPZhIOa+AGbafgGK8YHZACVp\n",
       "JVh2tl1NAAAAAElFTkSuQmCC\n",
       "\" style=\"display:inline;vertical-align:middle;\" /></a></td></tr>\n",
       "<tr><td>3</td><td>Variable</td><td></td><td><a class=\"ProveItLink\" href=\"../../../../__pv_it/3a5de44ed6135dbbdbbeec6704c741e238f127300/expr.ipynb\"><img src=\"data:image/png;base64,iVBORw0KGgoAAAANSUhEUgAAAAsAAAAOBAMAAAALT/umAAAAMFBMVEX////MzMyYmJiIiIhUVFTc\n",
       "3NwyMjIiIiJ2dnbu7u6qqqpmZmYQEBBERES6uroAAABkyy6XAAAAAXRSTlMAQObYZgAAAFhJREFU\n",
       "CNdjYGBg4LuzgQEE+BeAqfcTwFQ7mGTIBmJW575fQOpNAO9PIOcTA3cCAwPLBwb2BqCeCwzzHzAw\n",
       "xBswrGeYwDB/AYMblwADmwJXNQdIm52sHQMAfyoTCZukXIEAAAAASUVORK5CYII=\n",
       "\" style=\"display:inline;vertical-align:middle;\" /></a></td></tr>\n",
       "<tr><td>4</td><td>Literal</td><td></td><td><a class=\"ProveItLink\" href=\"../../../exponentiation/__pv_it/deb2bf23cbccdd6e6791e1b35b5b9794ce12dbd50/expr.ipynb\"><img src=\"data:image/png;base64,iVBORw0KGgoAAAANSUhEUgAAACgAAAASBAMAAADbMYGVAAAAMFBMVEX///8QEBAiIiKYmJjc3Nzu\n",
       "7u7MzMx2dnZmZma6urpERESqqqoyMjJUVFSIiIgAAAAoDOMTAAAAAXRSTlMAQObYZgAAAOBJREFU\n",
       "GNNjYGB4+//u3Tt/GNAASGAXmhjnPyDBgSbI/g1IxKEJ8nxgYGdgQRPkX8BgDKRY6q7s62OYvmze\n",
       "2wAgb/7ZO1+AVDiDkYEQQ0HTBr4DQF59AgOIKmB4z7CNbcNZBu6vQN55kEACQwDDLQYGVobfDHwg\n",
       "fb8YGBxYHwAZciD3fWXg+gB1JjvQcJZvQIXsCgz8F6DO9GBgMOH7wPCUgaeBwd4B7EwGNjUG7s9c\n",
       "AiwPgO5jkWRgiF3/9+5dfQUG1nWl5Y+B7pv+1gE9bBhqGLCAE1jEWH9jEbT5A3IwAC4sP/1L6Qlu\n",
       "AAAAAElFTkSuQmCC\n",
       "\" style=\"display:inline;vertical-align:middle;\" /></a></td></tr>\n",
       "<tr><td>5</td><td>ExprTuple</td><td>6, 7</td><td><a class=\"ProveItLink\" href=\"../eb3f4d4036ec111a8d82141d83f16c0116d2c6630/expr.ipynb\"><img src=\"data:image/png;base64,iVBORw0KGgoAAAANSUhEUgAAAC8AAAAVBAMAAAAk6KpUAAAAMFBMVEX////c3NwiIiJERESqqqqY\n",
       "mJh2dnZmZmYQEBDu7u4yMjJUVFTMzMyIiIi6uroAAAAs73DqAAAAAXRSTlMAQObYZgAAAP1JREFU\n",
       "KM9jYMAJ+C5gisWBiNMMsz5bTWAo+uQAFbVkYGA/AKRXMjCY8hgwMHyAik/+CSQWMDDwAk3adOAu\n",
       "A0MDRHz2bpBEGAMDxwQGhn0ruQ/AJBh4QRIzGBheAak9pzlXokowOzCUgSRYLhxGlWArYFgKkmCo\n",
       "Y72AIsGygKEPLME9YQ+KBF8Dwz+wBOeGWSgSPB+gEgzHeNAlWiASrA4GaEaZQiQYEg0YOBESrAsY\n",
       "0oGUHRCzL2CYr4Ds3EdAP/4AGsO5gGHGR5CCil+lDAxcDxg4BBCh/RDOAgYJawJCIgDOyoUEO4YE\n",
       "0FwGBmm4OC+cxQ0ynxFL1N5hYAAA+WlMnDFEhuwAAAAASUVORK5CYII=\n",
       "\" style=\"display:inline;vertical-align:middle;\" /></a></td></tr>\n",
       "<tr><td>6</td><td>Literal</td><td></td><td><a class=\"ProveItLink\" href=\"../../../sets/integer/__pv_it/e5d9bd86b06b357eee742ad868997123619e09700/expr.ipynb\"><img src=\"data:image/png;base64,iVBORw0KGgoAAAANSUhEUgAAAA8AAAAOBAMAAAACpFvcAAAAMFBMVEX////c3Nx2dna6uroQEBCI\n",
       "iIhUVFTMzMyYmJiqqqoiIiJmZmZEREQyMjLu7u4AAADjlg78AAAAAXRSTlMAQObYZgAAAGBJREFU\n",
       "CNdjePvn7AOGXb8mMDCcYD/AwPCBgYEhqyCUgcEByEi+x1YAZqSX8d2DMDgDaiAMhs0cARAG24N0\n",
       "CIMv4S2EwVDEDmVwTDgAYTAoghiHgZj7AgOD7Rcgj+8CAwA9oh2B0HK+MAAAAABJRU5ErkJggg==\n",
       "\" style=\"display:inline;vertical-align:middle;\" /></a></td></tr>\n",
       "<tr><td>7</td><td>Literal</td><td></td><td><a class=\"ProveItLink\" href=\"../../../numeral/__pv_it/9be8badea4c35b9724062cecc501d17a3158d1d20/expr.ipynb\"><img src=\"data:image/png;base64,iVBORw0KGgoAAAANSUhEUgAAAAgAAAAPBAMAAAArJJMAAAAAHlBMVEX///+YmJgyMjIQEBBmZmaI\n",
       "iIhUVFTu7u5EREQAAAAw+MI4AAAAAXRSTlMAQObYZgAAACFJREFUCNdjYGBoZ2BgqJjOwFCWBiQY\n",
       "WEklWJwnOTKAAACjEQo8HvEr3AAAAABJRU5ErkJggg==\n",
       "\" style=\"display:inline;vertical-align:middle;\" /></a></td></tr>\n",
       "</table>\n"
      ],
      "text/plain": [
       "0. ((d) , Naturals^{1})\n",
       "   core type: ExprTuple\n",
       "   sub-expressions: 1, 2\n",
       "1. (d)\n",
       "   core type: ExprTuple\n",
       "   sub-expressions: 3\n",
       "2. Naturals^{1}\n",
       "   core type: Operation\n",
       "   operator: 4\n",
       "   operands: 5\n",
       "3. d\n",
       "   core type: Variable\n",
       "   sub-expressions: \n",
       "4. Exp\n",
       "   core type: Literal\n",
       "   sub-expressions: \n",
       "5. (Naturals , 1)\n",
       "   core type: ExprTuple\n",
       "   sub-expressions: 6, 7\n",
       "6. Naturals\n",
       "   core type: Literal\n",
       "   sub-expressions: \n",
       "7. 1\n",
       "   core type: Literal\n",
       "   sub-expressions: "
      ]
     },
     "execution_count": 4,
     "metadata": {},
     "output_type": "execute_result"
    }
   ],
   "source": [
    "# display the expression information\n",
    "expr.exprInfo()"
   ]
  },
  {
   "cell_type": "code",
   "execution_count": null,
   "metadata": {},
   "outputs": [],
   "source": []
  }
 ],
 "metadata": {
  "kernelspec": {
   "display_name": "Python 3",
   "language": "python",
   "name": "python3"
  }
 },
 "nbformat": 4,
 "nbformat_minor": 0
}
