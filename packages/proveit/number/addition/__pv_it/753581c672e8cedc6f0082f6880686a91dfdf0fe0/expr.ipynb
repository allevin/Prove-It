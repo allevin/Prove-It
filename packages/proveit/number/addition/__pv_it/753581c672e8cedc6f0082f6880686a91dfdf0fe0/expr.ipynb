{
 "cells": [
  {
   "cell_type": "markdown",
   "metadata": {},
   "source": [
    "Expression of type <a class=\"ProveItLink\" href=\"../../../../../../doc/html/api/proveit.ExprTuple.html\">ExprTuple</a>\n",
    "=======================\n",
    "# from context <a class=\"ProveItLink\" href=\"../../_context_.ipynb\">proveit.number.addition</a>"
   ]
  },
  {
   "cell_type": "code",
   "execution_count": 1,
   "metadata": {},
   "outputs": [],
   "source": [
    "# import Expression classes needed to build the expression\n",
    "from proveit import ExprTuple\n",
    "from proveit.number import RealsPos, two"
   ]
  },
  {
   "cell_type": "code",
   "execution_count": 2,
   "metadata": {},
   "outputs": [
    {
     "data": {
      "text/html": [
       "<strong id=\"expr\">expr:</strong> <a class=\"ProveItLink\" href=\"expr.ipynb\"><img src=\"data:image/png;base64,iVBORw0KGgoAAAANSUhEUgAAAD4AAAAbBAMAAADWjiHyAAAAMFBMVEX///+qqqp2dnYiIiJERESI\n",
       "iIhmZmYQEBDc3NyYmJgyMjLu7u5UVFTMzMy6uroAAACGxKilAAAAAXRSTlMAQObYZgAAAVxJREFU\n",
       "KM+F0jtLw1AUwPG/2tb0kerkXLsLBUF0kLbgZB0KDi4OAcVFqIKD4BSwkzgo+AEUfJQiNIsILu3g\n",
       "okXsByiY0UmtOhSl1puHtEmNHjiHS365yT33XnDEML3x1DVOOSRmFLni6XWjXGme7s+KcoOnMwnS\n",
       "OsHSzMfZidOllWMdFiGggE+qyOkCkWJxq2i9xy7+BpQ1BnXDFTJ5x/wqJGFgjwcsH/M5fFPjXieQ\n",
       "YuF3L2ms6QRfuLW9mnevP6kR/WTO8uhUwXjWtVfyq8gWp6ZvjB+5tz0kviV9MWF6Tsm4fVlkuGG7\n",
       "kqu72G/8Ssw/tzx0sef0ESQVqcW15XLl7kfC5uoUgirRJvN2f6M+1fZyQpTteHwJo/9njPN5r4Vm\n",
       "G7ZfNo3m2+036D9kqNZzoR47PWaJxHq8s9Kyipz4ww9Ept3s7wynRe7gGUFxd+iLebp5pOx7+ir/\n",
       "xjfjIlYGC6uzhAAAAABJRU5ErkJggg==\n",
       "\" style=\"display:inline;vertical-align:middle;\" /></a><br>"
      ],
      "text/plain": [
       "expr: (RealsPos , 2)"
      ]
     },
     "execution_count": 2,
     "metadata": {},
     "output_type": "execute_result"
    }
   ],
   "source": [
    "# build up the expression from sub-expressions\n",
    "expr = ExprTuple(RealsPos, two)"
   ]
  },
  {
   "cell_type": "code",
   "execution_count": 3,
   "metadata": {},
   "outputs": [
    {
     "name": "stdout",
     "output_type": "stream",
     "text": [
      "Passed sanity check: built 'expr' is the same as the stored Expression.\n"
     ]
    }
   ],
   "source": [
    "# check that the built expression is the same as the stored expression\n",
    "%check_expr"
   ]
  },
  {
   "cell_type": "code",
   "execution_count": 4,
   "metadata": {},
   "outputs": [
    {
     "data": {
      "text/html": [
       "<table><tr><th>&nbsp;</th><th>core type</th><th>sub-expressions</th><th>expression</th></tr>\n",
       "<tr><td>0</td><td>ExprTuple</td><td>1, 2</td><td><a class=\"ProveItLink\" href=\"expr.ipynb\"><img src=\"data:image/png;base64,iVBORw0KGgoAAAANSUhEUgAAAD4AAAAbBAMAAADWjiHyAAAAMFBMVEX///+qqqp2dnYiIiJERESI\n",
       "iIhmZmYQEBDc3NyYmJgyMjLu7u5UVFTMzMy6uroAAACGxKilAAAAAXRSTlMAQObYZgAAAVxJREFU\n",
       "KM+F0jtLw1AUwPG/2tb0kerkXLsLBUF0kLbgZB0KDi4OAcVFqIKD4BSwkzgo+AEUfJQiNIsILu3g\n",
       "okXsByiY0UmtOhSl1puHtEmNHjiHS365yT33XnDEML3x1DVOOSRmFLni6XWjXGme7s+KcoOnMwnS\n",
       "OsHSzMfZidOllWMdFiGggE+qyOkCkWJxq2i9xy7+BpQ1BnXDFTJ5x/wqJGFgjwcsH/M5fFPjXieQ\n",
       "YuF3L2ms6QRfuLW9mnevP6kR/WTO8uhUwXjWtVfyq8gWp6ZvjB+5tz0kviV9MWF6Tsm4fVlkuGG7\n",
       "kqu72G/8Ssw/tzx0sef0ESQVqcW15XLl7kfC5uoUgirRJvN2f6M+1fZyQpTteHwJo/9njPN5r4Vm\n",
       "G7ZfNo3m2+036D9kqNZzoR47PWaJxHq8s9Kyipz4ww9Ept3s7wynRe7gGUFxd+iLebp5pOx7+ir/\n",
       "xjfjIlYGC6uzhAAAAABJRU5ErkJggg==\n",
       "\" style=\"display:inline;vertical-align:middle;\" /></a></td></tr>\n",
       "<tr><td>1</td><td>Literal</td><td></td><td><a class=\"ProveItLink\" href=\"../../../sets/real/__pv_it/399ccec6a6e90df280e82734a8711cdb89199bc00/expr.ipynb\"><img src=\"data:image/png;base64,iVBORw0KGgoAAAANSUhEUgAAABsAAAATBAMAAACTqWsLAAAAMFBMVEX///8iIiK6urp2dnbu7u5m\n",
       "ZmaqqqrMzMxUVFTc3NyIiIgQEBBEREQyMjKYmJgAAAA9nvXMAAAAAXRSTlMAQObYZgAAAGxJREFU\n",
       "GNNjYIADNgYUwEMy9+2f83f3LkDIHpjBUJM7gaH37u27d4HCB6Yy8HgeQMhOZWAuwMflQFWs+HYC\n",
       "kMEB4c4WlE1A2H5gqiqPAzKXVb0BmctwZR0Kt4KjAJnLnHASxgN64TjDnftQswFmaSyXIBgH2QAA\n",
       "AABJRU5ErkJggg==\n",
       "\" style=\"display:inline;vertical-align:middle;\" /></a></td></tr>\n",
       "<tr><td>2</td><td>Literal</td><td></td><td><a class=\"ProveItLink\" href=\"../../../numeral/__pv_it/77d407a64829263cdc16415becd4c2293f77a4bf0/expr.ipynb\"><img src=\"data:image/png;base64,iVBORw0KGgoAAAANSUhEUgAAAAkAAAAOBAMAAAAPuiubAAAAMFBMVEX///+YmJh2dnbMzMwQEBAi\n",
       "IiLu7u6qqqqIiIhUVFS6urpEREQyMjJmZmbc3NwAAACOMKdoAAAAAXRSTlMAQObYZgAAAFBJREFU\n",
       "CNdj4Lt7egEDw0sGju8MDNMYGOIZGFwSGOYvYDifwHAfKAEUSQASzJ9ATJ4NIPI2iOCYACJrGfge\n",
       "MDBfYGB8wPBUSekqUPH//18ZAIliFhc3zESNAAAAAElFTkSuQmCC\n",
       "\" style=\"display:inline;vertical-align:middle;\" /></a></td></tr>\n",
       "</table>\n"
      ],
      "text/plain": [
       "0. (RealsPos , 2)\n",
       "   core type: ExprTuple\n",
       "   sub-expressions: 1, 2\n",
       "1. RealsPos\n",
       "   core type: Literal\n",
       "   sub-expressions: \n",
       "2. 2\n",
       "   core type: Literal\n",
       "   sub-expressions: "
      ]
     },
     "execution_count": 4,
     "metadata": {},
     "output_type": "execute_result"
    }
   ],
   "source": [
    "# display the expression information\n",
    "expr.exprInfo()"
   ]
  },
  {
   "cell_type": "code",
   "execution_count": null,
   "metadata": {},
   "outputs": [],
   "source": []
  }
 ],
 "metadata": {
  "kernelspec": {
   "display_name": "Python 3",
   "language": "python",
   "name": "python3"
  }
 },
 "nbformat": 4,
 "nbformat_minor": 0
}
