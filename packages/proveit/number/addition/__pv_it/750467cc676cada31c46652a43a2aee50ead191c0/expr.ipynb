{
 "cells": [
  {
   "cell_type": "markdown",
   "metadata": {},
   "source": [
    "Expression of type <a class=\"ProveItLink\" href=\"../../../../../../doc/html/api/proveit.ExprTuple.html\">ExprTuple</a>\n",
    "=======================\n",
    "# from context <a class=\"ProveItLink\" href=\"../../_context_.ipynb\">proveit.number.addition</a>"
   ]
  },
  {
   "cell_type": "code",
   "execution_count": 1,
   "metadata": {},
   "outputs": [],
   "source": [
    "# import Expression classes needed to build the expression\n",
    "from proveit import ExprTuple\n",
    "from proveit._common_ import a, b, c\n",
    "from proveit.number import Add, four, three, two"
   ]
  },
  {
   "cell_type": "code",
   "execution_count": 2,
   "metadata": {},
   "outputs": [
    {
     "data": {
      "text/html": [
       "<strong id=\"expr\">expr:</strong> <a class=\"ProveItLink\" href=\"expr.ipynb\"><img src=\"data:image/png;base64,iVBORw0KGgoAAAANSUhEUgAAAl0AAAAVBAMAAACOOEYwAAAAMFBMVEX////c3NwiIiJERESqqqqY\n",
       "mJh2dnZmZmYQEBDu7u4yMjJUVFTMzMyIiIi6uroAAAAs73DqAAAAAXRSTlMAQObYZgAABCpJREFU\n",
       "WMPtmDtoU2EUx/9JkyY3r0ZBOlSwIKiLNIujGlwcVBoXBwcJCnHQalCsUAefiA+s10UEkYaKg+lg\n",
       "BsVHKSkIKjiYxRcaDU4iiqHWR6Qav9t6c+8556ZpaYYO/YaQ/Pju+f+/c75XLrDQZtcihYUczLDt\n",
       "MD6eNi1ce986CkKpXXHeKZSjv6+eQAMwxybiuQ5fLzX2ydKi3esEfKPq281mGXPl8J7KtiPyh/dy\n",
       "xxgYQiMwx8bjdSA8joY+l7PfAaPOGSBMlqMW5c9JcqkOCOpwlwnZH8cYj/Iqxsg46oDpJCURPusK\n",
       "3Ae6KHHwGT7JhNqMqbAN8Ot2EY/YzCTZUgf4zyL4l5Dumo9aFNf2GCWRCuqA6SQlET7rCpzRkS8R\n",
       "4uBzyXUm9NXI0xXgE5qVr0AFvr+siznPa1FaAyxfrZ2oA5qULyFwS8fREntG+EzyfO00Plri6DWK\n",
       "PrLvOOvf8eJjlJLLPW9pBAHU5lRhJJBjcbfyfAVG3iScgeWhFs8yahItVRwljwsgBFTr0hnhPr1R\n",
       "nq+h4h2V+zRuqO8foy1lNomPYz0loX4MkggCqPYsScmjIVZbrcDzNRDDhDOwPNTiWUZN8qQU6CSP\n",
       "CyAElPUfrIrC5zWwfGnf0DYKTwb9qmrf4WOjWJbAQUquFLCGRBBANV4UhPvZ4gDPV7eO087A8mDG\n",
       "sxk1h3EBLWT2CCAFIDxIn0k+FE8F/iQix6B2nGAZ7gLtnwdWC0Ij5OVeYg7GlsGLdOZvFl77gJ/O\n",
       "wPJgxrMZtQidGQJIAdTKYFuh1KdnlOfLl0FbGqGyka+2GAaMNe/LZgfPZbPGUv4GbYKTKfVsdlU2\n",
       "O+QEgDeMLAXWJ+xRtORUvmxxVyLy3QFYHmzxTKOEgMQTQAognGNdhM/L/5eKJeRO42vCyNcpNfEL\n",
       "6AbJr+sPPGWNETqdBFBd01hkJ1pVn/Rhq9vwcP58gdR2HL6KI7B5MBVsRi1C54oAUgAb4SJnmfS5\n",
       "aXj41wiRVtevo7qxHtUeNBDHAw85VLRxBDObiYqqkZdEEACP1fFHyG91ErFTFn62HieMfUEAnXgw\n",
       "49mMmsNQwyQjFUAKhNLq+CPEyedJOhnUZq92QW8Gu9X2l/CsbKWjuIENaapyF9hLIgjgWpHa3UnI\n",
       "c0T4SSTydRtHJNDGiIfaDc8yau5fabSSSgsgBRanUgcocfLJ8hWM+3KT94kPxq3m3cN3tH9H8fNa\n",
       "eqfz9RR1ugNy4K5WqzRfnsN9cX5fzf+k5b/6MgEBtItRu4daRSyj5pzuLb6mjwsgBLqqVXabd/C5\n",
       "p3qIHsQjxu9ACf5os+73s7p917+PT929ok27389qbA1Gq/4PeZPTvwyT5EtDIMkM4hLgnbtCYzD7\n",
       "0fY0831OM5t3Xr4v1DKTr4PmYZuf73yDxi7hWngfPdP2FvgH9CT1iKD8rN8AAAAASUVORK5CYII=\n",
       "\" style=\"display:inline;vertical-align:middle;\" /></a><br>"
      ],
      "text/plain": [
       "expr: (a + a + c + c + 2 + 3 + 4 + b + b , a + a + c + c + b + 2 + 3 + 4 + b)"
      ]
     },
     "execution_count": 2,
     "metadata": {},
     "output_type": "execute_result"
    }
   ],
   "source": [
    "# build up the expression from sub-expressions\n",
    "expr = ExprTuple(Add(a, a, c, c, two, three, four, b, b), Add(a, a, c, c, b, two, three, four, b))"
   ]
  },
  {
   "cell_type": "code",
   "execution_count": 3,
   "metadata": {},
   "outputs": [
    {
     "name": "stdout",
     "output_type": "stream",
     "text": [
      "Passed sanity check: built 'expr' is the same as the stored Expression.\n"
     ]
    }
   ],
   "source": [
    "# check that the built expression is the same as the stored expression\n",
    "%check_expr"
   ]
  },
  {
   "cell_type": "code",
   "execution_count": 4,
   "metadata": {},
   "outputs": [
    {
     "data": {
      "text/html": [
       "<table><tr><th>&nbsp;</th><th>core type</th><th>sub-expressions</th><th>expression</th></tr>\n",
       "<tr><td>0</td><td>ExprTuple</td><td>1, 2</td><td><a class=\"ProveItLink\" href=\"expr.ipynb\"><img src=\"data:image/png;base64,iVBORw0KGgoAAAANSUhEUgAAAl0AAAAVBAMAAACOOEYwAAAAMFBMVEX////c3NwiIiJERESqqqqY\n",
       "mJh2dnZmZmYQEBDu7u4yMjJUVFTMzMyIiIi6uroAAAAs73DqAAAAAXRSTlMAQObYZgAABCpJREFU\n",
       "WMPtmDtoU2EUx/9JkyY3r0ZBOlSwIKiLNIujGlwcVBoXBwcJCnHQalCsUAefiA+s10UEkYaKg+lg\n",
       "BsVHKSkIKjiYxRcaDU4iiqHWR6Qav9t6c+8556ZpaYYO/YaQ/Pju+f+/c75XLrDQZtcihYUczLDt\n",
       "MD6eNi1ce986CkKpXXHeKZSjv6+eQAMwxybiuQ5fLzX2ydKi3esEfKPq281mGXPl8J7KtiPyh/dy\n",
       "xxgYQiMwx8bjdSA8joY+l7PfAaPOGSBMlqMW5c9JcqkOCOpwlwnZH8cYj/Iqxsg46oDpJCURPusK\n",
       "3Ae6KHHwGT7JhNqMqbAN8Ot2EY/YzCTZUgf4zyL4l5Dumo9aFNf2GCWRCuqA6SQlET7rCpzRkS8R\n",
       "4uBzyXUm9NXI0xXgE5qVr0AFvr+siznPa1FaAyxfrZ2oA5qULyFwS8fREntG+EzyfO00Plri6DWK\n",
       "PrLvOOvf8eJjlJLLPW9pBAHU5lRhJJBjcbfyfAVG3iScgeWhFs8yahItVRwljwsgBFTr0hnhPr1R\n",
       "nq+h4h2V+zRuqO8foy1lNomPYz0loX4MkggCqPYsScmjIVZbrcDzNRDDhDOwPNTiWUZN8qQU6CSP\n",
       "CyAElPUfrIrC5zWwfGnf0DYKTwb9qmrf4WOjWJbAQUquFLCGRBBANV4UhPvZ4gDPV7eO087A8mDG\n",
       "sxk1h3EBLWT2CCAFIDxIn0k+FE8F/iQix6B2nGAZ7gLtnwdWC0Ij5OVeYg7GlsGLdOZvFl77gJ/O\n",
       "wPJgxrMZtQidGQJIAdTKYFuh1KdnlOfLl0FbGqGyka+2GAaMNe/LZgfPZbPGUv4GbYKTKfVsdlU2\n",
       "O+QEgDeMLAXWJ+xRtORUvmxxVyLy3QFYHmzxTKOEgMQTQAognGNdhM/L/5eKJeRO42vCyNcpNfEL\n",
       "6AbJr+sPPGWNETqdBFBd01hkJ1pVn/Rhq9vwcP58gdR2HL6KI7B5MBVsRi1C54oAUgAb4SJnmfS5\n",
       "aXj41wiRVtevo7qxHtUeNBDHAw85VLRxBDObiYqqkZdEEACP1fFHyG91ErFTFn62HieMfUEAnXgw\n",
       "49mMmsNQwyQjFUAKhNLq+CPEyedJOhnUZq92QW8Gu9X2l/CsbKWjuIENaapyF9hLIgjgWpHa3UnI\n",
       "c0T4SSTydRtHJNDGiIfaDc8yau5fabSSSgsgBRanUgcocfLJ8hWM+3KT94kPxq3m3cN3tH9H8fNa\n",
       "eqfz9RR1ugNy4K5WqzRfnsN9cX5fzf+k5b/6MgEBtItRu4daRSyj5pzuLb6mjwsgBLqqVXabd/C5\n",
       "p3qIHsQjxu9ACf5os+73s7p917+PT929ok27389qbA1Gq/4PeZPTvwyT5EtDIMkM4hLgnbtCYzD7\n",
       "0fY0831OM5t3Xr4v1DKTr4PmYZuf73yDxi7hWngfPdP2FvgH9CT1iKD8rN8AAAAASUVORK5CYII=\n",
       "\" style=\"display:inline;vertical-align:middle;\" /></a></td></tr>\n",
       "<tr><td>1</td><td>Operation</td><td>operator:&nbsp;4<br>operands:&nbsp;3<br></td><td><a class=\"ProveItLink\" href=\"../098f5e08c0f63b0dfe006deb76bc61a04d6e3f6c0/expr.ipynb\"><img src=\"data:image/png;base64,iVBORw0KGgoAAAANSUhEUgAAASQAAAAQBAMAAABNSx/QAAAAMFBMVEX///8yMjKqqqrMzMzu7u4i\n",
       "IiJmZmaYmJhEREQQEBC6urp2dnaIiIhUVFTc3NwAAAD87Fq/AAAAAXRSTlMAQObYZgAAAklJREFU\n",
       "SMetlMFrE1EQxr9NNtt2k2y6h4KX4ILgSWiPipe9itT0VPCU5GAVRLr+A7I3j+LBg63WXAWhhSKI\n",
       "KbigKJYIUUQRUhIQvUljG5uChZik3eR9s5eq2dv78c3s92bmDTCaz1o4UWISLz9zpCpepaP+ZU4I\n",
       "Zu9hZN8PpHaYfId5IFUJn89aVSqyfLwU+ZHeOC74COSZvHDwSwa99ZlkHJlX3OtMxFIsOC6476Je\n",
       "IjI9sDQIsm76TFZdkcZsjc7SSReLJSEJGzcgSU1YeirTJPvDZdWer7ClIQmVerkyw9kvbryUHvOu\n",
       "IOGkDMgtaSlb+cxAq73zgMeN8SZbGpJQea6kzRGIL2FKGIj/FgbOZ0UJ9EBY0veR4avmfOzCasPw\n",
       "yZJCwtAHGPco9EKA27Imvuxtakl0RWpiLUys8QC6WEa6iURAlhRypEw3Zc/r0eG6Fh23R9zKU9KS\n",
       "MYlMgSRFYA8ZH7le8Yq2fdm2e7UOiWHbU3dtu9onIIB9CZCqCvIVuOOpRF87tDQkiQJWSYJ5mG1s\n",
       "B5iGq1ZJIUfmtwNRFOsgUqXTsBrU7I7bt6S0aWur/jBQSXctLXIhd2C0kHPwPjajWlJIGNpNzbPU\n",
       "BsZ43gsYI0v42X2DDdHKCW5cd7aX+Wa7veHSvNh8kmZJIeEsFZDkl/EJWCfwrVy+wtnfwJRvUFpK\n",
       "O4bYEx9wo7eENs9u8osbklB5vfKKgbFR4YrnOx2xq2MLRUeuyvoeFVuvXRX9n33tjWx7/yeJSg6/\n",
       "JxFiBn8N/o2o4A8uP+P4o93SoQAAAABJRU5ErkJggg==\n",
       "\" style=\"display:inline;vertical-align:middle;\" /></a></td></tr>\n",
       "<tr><td>2</td><td>Operation</td><td>operator:&nbsp;4<br>operands:&nbsp;5<br></td><td><a class=\"ProveItLink\" href=\"../7971a1cabf0f3f147fe5d1d660c17f95cbf13bb80/expr.ipynb\"><img src=\"data:image/png;base64,iVBORw0KGgoAAAANSUhEUgAAASQAAAAQBAMAAABNSx/QAAAAMFBMVEX///8yMjKqqqrMzMzu7u4i\n",
       "IiJmZmaYmJhEREQQEBC6urp2dnaIiIhUVFTc3NwAAAD87Fq/AAAAAXRSTlMAQObYZgAAAjJJREFU\n",
       "SMetlM1rE0EYxp/9aNpu0i17KHgpBgRPQnuseNmrSE1PBU9pDpaCiOs/IHvzKB48tH7lKngoeBFT\n",
       "cEFRLBGilJ5SEij2VhrT2goWYrrJJvs+Y2Ikzm1/vPObZ2feGeD/jPlHBOzlc3lJjMLrNE8zSn/R\n",
       "DDOm6Xsfqboke7BOedaI319zXVnHrA4M6mTZArKy5G0aP9jyye+laY1LSiQ9GBRYR2RZdVHJi5KZ\n",
       "TqSOxb7r99IMHym5QJbzLu7kaU50cB2S1Pw/aezym2cyUpdElWahOCtl1zbeCaCVP3v8Y1mXImkl\n",
       "inSPI7U0L6pjNSnrkqjycl5bEMBYw5QAGR+HFMn4RQGuTNPWmgFHCjX2CRK+kMVIu9J8gjFPTL0a\n",
       "4L5sFBePKRIvB6TW6JiUmlAzUcNIIGQx0q6cqHHrVBjkgGOKtKL233N5lBeUSKFm0kfmrE9yjnPD\n",
       "cc62NiIJx5l66DilkEAA/GSwCOtEWJAqUcku8MCLE3O9FYk1BwFm4Mb/L0ba4Q8C2hT7lHepjsSR\n",
       "3KWLsKvi9BtuGKlL9J2dytNA1WTS+KLPxmUx0q6cbJpkLzV3ZFSAQ4yvi0jGEkZFJHxv3sEqHeU4\n",
       "HVyo0Tx9MSlkMRL10hKS8hHYBl4J8BW35bv0rVC4KZf7CIvvoBIp1NjlzblNeeO6JKq8VXwvQWKj\n",
       "KDt1/oMnI2UbDXqr9eVcmp/KyrHXQzP8693HopYMQlrjpUKs4J+BalFL+pPfaafe31X5F18AAAAA\n",
       "SUVORK5CYII=\n",
       "\" style=\"display:inline;vertical-align:middle;\" /></a></td></tr>\n",
       "<tr><td>3</td><td>ExprTuple</td><td>6, 6, 7, 7, 8, 9, 10, 11, 11</td><td><a class=\"ProveItLink\" href=\"../9611a7c0505b6ecb2708e0dcbf84f9143cdf61150/expr.ipynb\"><img src=\"data:image/png;base64,iVBORw0KGgoAAAANSUhEUgAAAK8AAAAVBAMAAADC7aNVAAAAMFBMVEX////c3NwiIiJERESqqqqY\n",
       "mJh2dnZmZmYQEBDu7u4yMjJUVFTMzMyIiIi6uroAAAAs73DqAAAAAXRSTlMAQObYZgAAAlpJREFU\n",
       "OMu1lT1oE2EYx/9pL728TS45BHFQUHBwkmZxlB5dOij0JkcJCnHQ6KHUQpdalOKU3lSylByWDtLB\n",
       "LuJHCT0QXFyy6GRK6lREaOwXKrbx/czdBU5uaG+4++V9nvu/7/2f530DnNiVbx6/5k12+5Q0OzW1\n",
       "1BaUK9+21Kh8nby9EALdp/QyqfBZGHuCziB/qEYvyufwahg8wEjsxDtgRNADCzty0HgqoWCF4QaQ\n",
       "cZMKP3exLryYCIRPL0nYdsNQA74nrsgrFzNtVXFlRUkJ30IYBi08ZmVp3J9VRn7ZMgUtVL72AbXC\n",
       "7XM0bSrhldbrEAw5WKa8ZQ525EpmMSorX8WLKFA8kPBxRcIipDDZRcEPQPNQpQveh14U8fM2Hgmq\n",
       "NXElCnSdRbV0oyqdUMLab2RKAeSf4AjIdjAge2MduNyjPoCak13z3BTNV8K6h4ITQK7DhAtF1H0R\n",
       "3wX5qwh9AEO16jlg1Ob2QwkPONi2A6DCz+j3NzEBvoLUIbQOkST3W28rYBwpXljSdaXwtbW1Xw3V\n",
       "vTNuANQK6l/dwnvNZ3pkD1nvOp9kn5Y8CjmHNgGf9Q/tD0EA3SAsSAs2B6IAaQ93aE1s7dIQ6myz\n",
       "L2PMKRHW/W+Ae1E4VS4/FFmfkT8QxIR5MGvpq3yIA2u3b6yNNz5soPaTtXHrx9U2madfrFdabhRG\n",
       "ut0dkaVNTVuCcLc7yYOkMQk+xAHDbWRMZeFmcJKasRDK2kR8kG7pdEn9sHuvpOMhlGX/J1gJH5vH\n",
       "KEw8fszKLg26vxkPQZaB+GCWmZM6gb8memr9A0P7vtpQZHSYAAAAAElFTkSuQmCC\n",
       "\" style=\"display:inline;vertical-align:middle;\" /></a></td></tr>\n",
       "<tr><td>4</td><td>Literal</td><td></td><td><a class=\"ProveItLink\" href=\"../3e6688136fa3c7aefbebe51301b7c3ebf0b69c440/expr.ipynb\"><img src=\"data:image/png;base64,iVBORw0KGgoAAAANSUhEUgAAAA4AAAAOBAMAAADtZjDiAAAAJFBMVEX///+6urpUVFQQEBAiIiIy\n",
       "MjJmZmaIiIiqqqrc3Nzu7u4AAACgHpL+AAAAAXRSTlMAQObYZgAAAB5JREFUCNdjYGBgWMkAAe2k\n",
       "0Kmhoc6hoUGk6BMHYgAHOwjcado9fwAAAABJRU5ErkJggg==\n",
       "\" style=\"display:inline;vertical-align:middle;\" /></a></td></tr>\n",
       "<tr><td>5</td><td>ExprTuple</td><td>6, 6, 7, 7, 11, 8, 9, 10, 11</td><td><a class=\"ProveItLink\" href=\"../881daaf112ce2a7c8f96e8512e4e003e342960580/expr.ipynb\"><img src=\"data:image/png;base64,iVBORw0KGgoAAAANSUhEUgAAAK8AAAAVBAMAAADC7aNVAAAAMFBMVEX////c3NwiIiJERESqqqqY\n",
       "mJh2dnZmZmYQEBDu7u4yMjJUVFTMzMyIiIi6uroAAAAs73DqAAAAAXRSTlMAQObYZgAAAnpJREFU\n",
       "OMu1lT1oE2EYx/9pL7m8+cbFQcFunSRZHKXBxaWQc3FwkKAQF6PBooU61IqIIKQ3SaBDDqWDdDCD\n",
       "4kcJCQguLrf4AZoSnYoIjf2kkhjf997n7eVKoDe0Ge5+yT38n+f9v//3AhzZJ2EfvuZlcfnot3rh\n",
       "PkFg+llbUqxwNasex2rOjb0ZA/Qmp+e+51ii+wnENyUdR6Knno5k5D0iGlhA3L8TpIa3QFrSzSzW\n",
       "1dOvJJwUa7gIhE3fm7FL8MhEQ3qRc4UDl0h4TQhWgF++Bw6NEbwwMdtW3ZQVoQgJXxGX0SzuiG71\n",
       "G3PKv8+rKUlPit+9EKl/M1STtFpnpEZwQQkvtV7xNiUscl5NjXZogDlM0CaX8dQL1Qy6KgHbBB/U\n",
       "hjKbhNkGkk1oFsp84C3o1O6UgSlJFRtnvJAz8VDNmVGjx8vkhPpN20U4j8Q9/AOiHYxQNhrA6T3a\n",
       "BzPADuGU6/y8NGVSCesWkiXEOkI4mUG1Kcs2wLqKsA/GkdiiMZWxJ4EJx3eWV8IjJawZQvgBX7+N\n",
       "HJzGgR60DiOiGPXcGOsUuPMIODvM+iYJa8vLjcc2xXjWFFZw/6pZvNOaQo9tImpNOk34cEEvdIV5\n",
       "AmIlBFNO+788H5L4gchAEN85vhNBC9f4VhjaeAhVEdNFnCvlmQj9a+C6F17iLhw4VijckuWfkNiW\n",
       "5AgLimb1mhO3nyLGK+9XUPkjYtz6fbbN5vlC9WLL9MLCFwMOpPv9dVmuTc9kJSHU2DEEsfptEZs2\n",
       "winl4Q/38KYOhoHyIcSPdDCvvuwdK+7pwTBQPoSKg6/NQxRmlvN2pXC6obd9gFs+hKLCsMAR/DXx\n",
       "t9Z/hne8c3+1dFkAAAAASUVORK5CYII=\n",
       "\" style=\"display:inline;vertical-align:middle;\" /></a></td></tr>\n",
       "<tr><td>6</td><td>Variable</td><td></td><td><a class=\"ProveItLink\" href=\"../../../../__pv_it/07527342713064c87612d00d8557c53d53d5324a0/expr.ipynb\"><img src=\"data:image/png;base64,iVBORw0KGgoAAAANSUhEUgAAAAsAAAAJBAMAAAAWSsseAAAAMFBMVEX///8yMjKqqqrMzMzu7u4i\n",
       "IiJmZmaYmJhEREQQEBC6urp2dnaIiIhUVFTc3NwAAAD87Fq/AAAAAXRSTlMAQObYZgAAAEhJREFU\n",
       "CNdjYOC7s2seAwPDygccHxgY+L4zsDUwMPB+YGA9wMDA38Dgb8DA8P4Agz6DA4O/AsNFJgMGxgKm\n",
       "MG6gyjunLE4xAAAZTBA5TB6DCwAAAABJRU5ErkJggg==\n",
       "\" style=\"display:inline;vertical-align:middle;\" /></a></td></tr>\n",
       "<tr><td>7</td><td>Variable</td><td></td><td><a class=\"ProveItLink\" href=\"../../../../__pv_it/cbdfda466482236edba0ce44ac7ef39cda0af7a40/expr.ipynb\"><img src=\"data:image/png;base64,iVBORw0KGgoAAAANSUhEUgAAAAkAAAAJBAMAAAASvxsjAAAALVBMVEX///9mZmbc3NxUVFSYmJhE\n",
       "REQiIiIyMjK6uroQEBDMzMyIiIh2dnbu7u4AAABgFDGoAAAAAXRSTlMAQObYZgAAADZJREFUCNdj\n",
       "YOA9s3sBA8PKBvYEBt7ZDKwODMwPGICALwBE6m0Asx0YGIDiAgw8QJUyu/cyAAAmuwmycZ8WfQAA\n",
       "AABJRU5ErkJggg==\n",
       "\" style=\"display:inline;vertical-align:middle;\" /></a></td></tr>\n",
       "<tr><td>8</td><td>Literal</td><td></td><td><a class=\"ProveItLink\" href=\"../../../numeral/__pv_it/77d407a64829263cdc16415becd4c2293f77a4bf0/expr.ipynb\"><img src=\"data:image/png;base64,iVBORw0KGgoAAAANSUhEUgAAAAkAAAAOBAMAAAAPuiubAAAAMFBMVEX///+YmJh2dnbMzMwQEBAi\n",
       "IiLu7u6qqqqIiIhUVFS6urpEREQyMjJmZmbc3NwAAACOMKdoAAAAAXRSTlMAQObYZgAAAFBJREFU\n",
       "CNdj4Lt7egEDw0sGju8MDNMYGOIZGFwSGOYvYDifwHAfKAEUSQASzJ9ATJ4NIPI2iOCYACJrGfge\n",
       "MDBfYGB8wPBUSekqUPH//18ZAIliFhc3zESNAAAAAElFTkSuQmCC\n",
       "\" style=\"display:inline;vertical-align:middle;\" /></a></td></tr>\n",
       "<tr><td>9</td><td>Literal</td><td></td><td><a class=\"ProveItLink\" href=\"../../../numeral/__pv_it/9176d93c83afa2c995b614976e3cb49207102fa70/expr.ipynb\"><img src=\"data:image/png;base64,iVBORw0KGgoAAAANSUhEUgAAAAoAAAAOBAMAAADkjZCYAAAAMFBMVEX///+YmJju7u4QEBBUVFQy\n",
       "MjIiIiKIiIi6urpmZmbc3NyqqqpERER2dnbMzMwAAAB0GlNiAAAAAXRSTlMAQObYZgAAAE1JREFU\n",
       "CNdjYHh79zQDA9cEhv4CBt7fDPwJDNxgEgiAIkAQAsR8Vx1ATIbiBhDJ/ImB6wEDz0cG/U8gkj+A\n",
       "ge0XA7sAQ/8FBoadM6MZAEflFACalZ/OAAAAAElFTkSuQmCC\n",
       "\" style=\"display:inline;vertical-align:middle;\" /></a></td></tr>\n",
       "<tr><td>10</td><td>Literal</td><td></td><td><a class=\"ProveItLink\" href=\"../../../numeral/__pv_it/23412ce59ea7e77353d2f9225e02248e73651ca00/expr.ipynb\"><img src=\"data:image/png;base64,iVBORw0KGgoAAAANSUhEUgAAAAoAAAAPBAMAAAAv0UM9AAAALVBMVEX///9mZmaqqqru7u52dnYy\n",
       "MjKYmJjc3NwQEBCIiIhEREQiIiJUVFTMzMwAAACUDTcXAAAAAXRSTlMAQObYZgAAAD5JREFUCNdj\n",
       "YGBguMMAArtABGcXiCyLApEOIJKtAERaMoBIBxDJdAFEmjCASJ0zZ16cBCkF64KQPu/EwBwGACv6\n",
       "DSRgin9qAAAAAElFTkSuQmCC\n",
       "\" style=\"display:inline;vertical-align:middle;\" /></a></td></tr>\n",
       "<tr><td>11</td><td>Variable</td><td></td><td><a class=\"ProveItLink\" href=\"../../../../__pv_it/6840a4fa6c106149dc16a131294d0c5e44f1b0480/expr.ipynb\"><img src=\"data:image/png;base64,iVBORw0KGgoAAAANSUhEUgAAAAkAAAAOBAMAAAAPuiubAAAALVBMVEX///9mZmbMzMxERESYmJiI\n",
       "iIh2dna6urqqqqoyMjIiIiIQEBBUVFTu7u4AAAD9S1JeAAAAAXRSTlMAQObYZgAAAE1JREFUCNdj\n",
       "4D29gAEIOA+ASL4GEFl3AURmgQiGOaFHGBh4HzPwKTBwvGXgTmBgnMDAJ8DAJcBQ5wBSLncBJLWN\n",
       "gYGngRFoBO9REQYGAGrcDtUkVqASAAAAAElFTkSuQmCC\n",
       "\" style=\"display:inline;vertical-align:middle;\" /></a></td></tr>\n",
       "</table>\n"
      ],
      "text/plain": [
       "0. (a + a + c + c + 2 + 3 + 4 + b + b , a + a + c + c + b + 2 + 3 + 4 + b)\n",
       "   core type: ExprTuple\n",
       "   sub-expressions: 1, 2\n",
       "1. a + a + c + c + 2 + 3 + 4 + b + b\n",
       "   core type: Operation\n",
       "   operator: 4\n",
       "   operands: 3\n",
       "2. a + a + c + c + b + 2 + 3 + 4 + b\n",
       "   core type: Operation\n",
       "   operator: 4\n",
       "   operands: 5\n",
       "3. (a , a , c , c , 2 , 3 , 4 , b , b)\n",
       "   core type: ExprTuple\n",
       "   sub-expressions: 6, 6, 7, 7, 8, 9, 10, 11, 11\n",
       "4. +\n",
       "   core type: Literal\n",
       "   sub-expressions: \n",
       "5. (a , a , c , c , b , 2 , 3 , 4 , b)\n",
       "   core type: ExprTuple\n",
       "   sub-expressions: 6, 6, 7, 7, 11, 8, 9, 10, 11\n",
       "6. a\n",
       "   core type: Variable\n",
       "   sub-expressions: \n",
       "7. c\n",
       "   core type: Variable\n",
       "   sub-expressions: \n",
       "8. 2\n",
       "   core type: Literal\n",
       "   sub-expressions: \n",
       "9. 3\n",
       "   core type: Literal\n",
       "   sub-expressions: \n",
       "10. 4\n",
       "    core type: Literal\n",
       "    sub-expressions: \n",
       "11. b\n",
       "    core type: Variable\n",
       "    sub-expressions: "
      ]
     },
     "execution_count": 4,
     "metadata": {},
     "output_type": "execute_result"
    }
   ],
   "source": [
    "# display the expression information\n",
    "expr.exprInfo()"
   ]
  },
  {
   "cell_type": "code",
   "execution_count": null,
   "metadata": {},
   "outputs": [],
   "source": []
  }
 ],
 "metadata": {
  "kernelspec": {
   "display_name": "Python 3",
   "language": "python",
   "name": "python3"
  }
 },
 "nbformat": 4,
 "nbformat_minor": 0
}
