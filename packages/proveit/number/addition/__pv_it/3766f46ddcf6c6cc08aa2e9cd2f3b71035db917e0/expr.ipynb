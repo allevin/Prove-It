{
 "cells": [
  {
   "cell_type": "markdown",
   "metadata": {},
   "source": [
    "Expression of type <a class=\"ProveItLink\" href=\"../../../../../../doc/html/api/proveit.Lambda.html\">Lambda</a>\n",
    "=======================\n",
    "# from context <a class=\"ProveItLink\" href=\"../../_context_.ipynb\">proveit.number.addition</a>"
   ]
  },
  {
   "cell_type": "code",
   "execution_count": 1,
   "metadata": {},
   "outputs": [],
   "source": [
    "# import Expression classes needed to build the expression\n",
    "from proveit import Lambda\n",
    "from proveit._common_ import a\n",
    "from proveit.logic import Equals, InSet\n",
    "from proveit.number import Add, Complexes, Neg, zero"
   ]
  },
  {
   "cell_type": "code",
   "execution_count": 2,
   "metadata": {},
   "outputs": [
    {
     "data": {
      "text/html": [
       "<strong id=\"expr\">expr:</strong> <a class=\"ProveItLink\" href=\"expr.ipynb\"><img src=\"data:image/png;base64,iVBORw0KGgoAAAANSUhEUgAAAOsAAAAVCAMAAACQTOmOAAAANlBMVEX///8UFBQNDQ0yMjKqqqrM\n",
       "zMzu7u4iIiJmZmaYmJhEREQQEBC6urp2dnaIiIhUVFTc3NwAAACAukRkAAAAAXRSTlMAQObYZgAA\n",
       "AlFJREFUWMPVV9mO6yAMZQYw+/b/P3uzNAkGdyiNFOn6oU6lY8zBxjaM/U8i8qPufMR6Roy/iQ7+\n",
       "SaoyYT0nWo4xoGPccT36G65RcV6csnrakgPWs+ZjiFr4gJIkep6r9GVdL5Q4HZwYsZ7O4jAOw/bL\n",
       "SfQ0V8OS2W96mebqAOtZATcM67YnXzKFHnGFyNUiZz4YYMcSepar51jPixUDQNnulSyCQg+4Sm5w\n",
       "DDTL6TyGTeUUg3eZvlOidqcD1q0pLTUoDEpELmHnGik05to6zxbaMsc8vgYb3JYri7BBqhbgBuvW\n",
       "lE6GGiSuk9S8ktRyDQ2659o5t+2Zy8CEwSe5/tX2HVdI1xLOI92Z0pGqQd59GNdAoWuunXPo9rFw\n",
       "9Yhr2k5GXYX190chceX0cHy9dGuaeWXmyfVlmcnhFl1z7fbt3eGaX+wlyuGyHgcU+S6uLF0OGq6d\n",
       "KVlsEGjE9axNZsS1c06MN8sUkNBBxq39LHY0V13dAidq3ZuSgUKgKit1nTwW9xyx9Zy/crh3Dopq\n",
       "5ydXWE9m3XfiTEiSq6ynBmtq3ZtSLQ+DzKhb7bNE2Ddh3tcmwnkyfYsz5/yuYK+pQml2JjYeiVDI\n",
       "jh7w0p0pORYiUBiOpUqsQ4Rko57TOwfVt9+UbAQG3m79aOlS0UsbPxm/vEL6I1MM4kM3oENMr1i1\n",
       "aFSHe+eZ988FqVUpLn3xaDg6t/vyITmeEf9ED+dhkXg9I96SYxofz/C0hHgL/ez79d6bDvg99LNc\n",
       "j1k6f/VWT/ke+lmuLEesp16/8iY63uL6D0guHCnlHw+rAAAAAElFTkSuQmCC\n",
       "\" style=\"display:inline;vertical-align:middle;\" /></a><br>"
      ],
      "text/plain": [
       "expr: a -> ((a - a) = 0) | a in Complexes"
      ]
     },
     "execution_count": 2,
     "metadata": {},
     "output_type": "execute_result"
    }
   ],
   "source": [
    "# build up the expression from sub-expressions\n",
    "expr = Lambda(a, Equals(Add(a, Neg(a)), zero), conditions = [InSet(a, Complexes)])"
   ]
  },
  {
   "cell_type": "code",
   "execution_count": 3,
   "metadata": {},
   "outputs": [
    {
     "name": "stdout",
     "output_type": "stream",
     "text": [
      "Passed sanity check: built 'expr' is the same as the stored Expression.\n"
     ]
    }
   ],
   "source": [
    "# check that the built expression is the same as the stored expression\n",
    "%check_expr"
   ]
  },
  {
   "cell_type": "code",
   "execution_count": 4,
   "metadata": {},
   "outputs": [
    {
     "data": {
      "text/html": [
       "<table><tr><th>&nbsp;</th><th>core type</th><th>sub-expressions</th><th>expression</th></tr>\n",
       "<tr><td>0</td><td>Lambda</td><td>parameter:&nbsp;15<br>body:&nbsp;1<br>conditions:&nbsp;2<br></td><td><a class=\"ProveItLink\" href=\"expr.ipynb\"><img src=\"data:image/png;base64,iVBORw0KGgoAAAANSUhEUgAAAOsAAAAVCAMAAACQTOmOAAAANlBMVEX///8UFBQNDQ0yMjKqqqrM\n",
       "zMzu7u4iIiJmZmaYmJhEREQQEBC6urp2dnaIiIhUVFTc3NwAAACAukRkAAAAAXRSTlMAQObYZgAA\n",
       "AlFJREFUWMPVV9mO6yAMZQYw+/b/P3uzNAkGdyiNFOn6oU6lY8zBxjaM/U8i8qPufMR6Roy/iQ7+\n",
       "SaoyYT0nWo4xoGPccT36G65RcV6csnrakgPWs+ZjiFr4gJIkep6r9GVdL5Q4HZwYsZ7O4jAOw/bL\n",
       "SfQ0V8OS2W96mebqAOtZATcM67YnXzKFHnGFyNUiZz4YYMcSepar51jPixUDQNnulSyCQg+4Sm5w\n",
       "DDTL6TyGTeUUg3eZvlOidqcD1q0pLTUoDEpELmHnGik05to6zxbaMsc8vgYb3JYri7BBqhbgBuvW\n",
       "lE6GGiSuk9S8ktRyDQ2659o5t+2Zy8CEwSe5/tX2HVdI1xLOI92Z0pGqQd59GNdAoWuunXPo9rFw\n",
       "9Yhr2k5GXYX190chceX0cHy9dGuaeWXmyfVlmcnhFl1z7fbt3eGaX+wlyuGyHgcU+S6uLF0OGq6d\n",
       "KVlsEGjE9axNZsS1c06MN8sUkNBBxq39LHY0V13dAidq3ZuSgUKgKit1nTwW9xyx9Zy/crh3Dopq\n",
       "5ydXWE9m3XfiTEiSq6ynBmtq3ZtSLQ+DzKhb7bNE2Ddh3tcmwnkyfYsz5/yuYK+pQml2JjYeiVDI\n",
       "jh7w0p0pORYiUBiOpUqsQ4Rko57TOwfVt9+UbAQG3m79aOlS0UsbPxm/vEL6I1MM4kM3oENMr1i1\n",
       "aFSHe+eZ988FqVUpLn3xaDg6t/vyITmeEf9ED+dhkXg9I96SYxofz/C0hHgL/ez79d6bDvg99LNc\n",
       "j1k6f/VWT/ke+lmuLEesp16/8iY63uL6D0guHCnlHw+rAAAAAElFTkSuQmCC\n",
       "\" style=\"display:inline;vertical-align:middle;\" /></a></td></tr>\n",
       "<tr><td>1</td><td>Operation</td><td>operator:&nbsp;3<br>operands:&nbsp;4<br></td><td><a class=\"ProveItLink\" href=\"../4abac914cb5d15c91f182de07aea8d005d3216700/expr.ipynb\"><img src=\"data:image/png;base64,iVBORw0KGgoAAAANSUhEUgAAAGMAAAAVBAMAAACgbk16AAAAMFBMVEX////c3NwiIiJERESqqqqY\n",
       "mJh2dnZmZmYQEBDu7u4yMjJUVFTMzMyIiIi6uroAAAAs73DqAAAAAXRSTlMAQObYZgAAATFJREFU\n",
       "OMtjYCAD8F3AJROHS+I0TsPYD6CLcNZeB4mtxO2ABegCTA84dRgYeC/g1hKGLnCJgeEWAwPHBNxa\n",
       "ZqALaDMwvBdgeIUnZJgd0AS+MzCcd2AoA7IY9+Y1ospBRNgK0ES/AbVcYFgKZL4QYP6AKgkRYQH7\n",
       "v2oVCKyGaUlg6AOyvjKwG6AaBxHha8BiSwLDPwYG7g8MTKBwY1ykBAIP4CI8H7A6DKiF34BhPmqs\n",
       "QUXQtYC9H8DQwsAgf4HBnwElrKEiEIcVge1WhgayvwCDKQPDfAeGXSwo1kBFWBdgRmUSA0M6AwNX\n",
       "AIs6G4oUVAQ9kBmYHDh7GBgegSLh3uF7aNECFuF6gJ4sy24DXcMhQEKCgQDWBNxacnGI4078nAtw\n",
       "SEjj1MKNy82MODPMHezCAKfsWK97IW1mAAAAAElFTkSuQmCC\n",
       "\" style=\"display:inline;vertical-align:middle;\" /></a></td></tr>\n",
       "<tr><td>2</td><td>ExprTuple</td><td>5</td><td><a class=\"ProveItLink\" href=\"../afead37f272fc9265378b5f88330236b423dfc0e0/expr.ipynb\"><img src=\"data:image/png;base64,iVBORw0KGgoAAAANSUhEUgAAAD8AAAAVBAMAAAADRiu8AAAAMFBMVEX////c3NwiIiJERESqqqqY\n",
       "mJh2dnZmZmYQEBDu7u4yMjJUVFTMzMyIiIi6uroAAAAs73DqAAAAAXRSTlMAQObYZgAAAUJJREFU\n",
       "KM9jYCAI+C7glosDEaexSvFqrW8yZ2A/AGSuxCbP8/4BZ/5tBoYFQKVYbQjYysDA8puBIYyBgWMC\n",
       "kjjnLSUloCYG1gkNQLKagWEGA8MrZI2nIiE0O+MGIDmXgYHZgaEMyGLcm9cIEme0hCqczpcAYbAV\n",
       "MCwFUi8EmD+AuMwCUAXHWAIgDJYFDH1AjV8Z2A1A3Mkwq47xQRXwNTD8Y2Dg/sDABPbLCyUliCMn\n",
       "80Ct4PkAUsBvwDD/AEqYcU3YAFfQwsAgf4HBnwHk20kwBawJIAWcYCtMGRjmOzDsYgEZwR0AU2H6\n",
       "Fkg8msDAuoAhHWhgAIs6Gzic9GAKuDff5HxsCfbmI1Aw3Dt8DywuVQNTcVz/xz6QYx4wcAggB6X3\n",
       "IrAv4GAGyD34EksuruiGRR7IOGk8CrhB9jPiSXJ3GBgAGSxKxqwipJkAAAAASUVORK5CYII=\n",
       "\" style=\"display:inline;vertical-align:middle;\" /></a></td></tr>\n",
       "<tr><td>3</td><td>Literal</td><td></td><td><a class=\"ProveItLink\" href=\"../../../../logic/equality/__pv_it/2fb26078095930560931daa0500ce419a39ea6cd0/expr.ipynb\"><img src=\"data:image/png;base64,iVBORw0KGgoAAAANSUhEUgAAAA4AAAAFBAMAAACHocAhAAAAFVBMVEX///9EREQiIiJUVFQyMjJm\n",
       "ZmYAAADubVkoAAAAAXRSTlMAQObYZgAAABRJREFUCNdjCHEBAWcGXCBICQQUAUpuAwlgGKrkAAAA\n",
       "AElFTkSuQmCC\n",
       "\" style=\"display:inline;vertical-align:middle;\" /></a></td></tr>\n",
       "<tr><td>4</td><td>ExprTuple</td><td>6, 7</td><td><a class=\"ProveItLink\" href=\"../616d6adf413ceef775afb7e6c8d47164c9ff2f360/expr.ipynb\"><img src=\"data:image/png;base64,iVBORw0KGgoAAAANSUhEUgAAAE8AAAAVBAMAAAD1D64kAAAAMFBMVEX////c3NwiIiJERESqqqqY\n",
       "mJh2dnZmZmYQEBDu7u4yMjJUVFTMzMyIiIi6uroAAAAs73DqAAAAAXRSTlMAQObYZgAAAUdJREFU\n",
       "KM+Nk71Lw0AYh5+0SdtrtGZ3EFwcVOjiKAZnoZkcpbg4KQWhm2DBUdTRrUHo4L8giAVHB4ODgh8l\n",
       "OBURDH4uKt4JxibQpDfcvS/35H73/u4NDDxKXjqzpKazZEZsXLXJt2V0mAxmfDEFLgynKF/ANSxC\n",
       "YS8ZnIQni314SKnjA85tsjZ1mWjHa43Y/uhl11Kr9i5Bj1yNlsy6VjaIedZgjhCsorvsyOSNfDkK\n",
       "jjms94KlTb7BDMio2rWDcTV8GZ7AND3SQ4ECR8o029ETXxCf/8U4CtySOh4VIi5pX+iB+LOnYinp\n",
       "GWjaHOmRI8Urprvw+7E0fBkMlxUoOvpELirdYr5WFc/qCW2xjbLnXtnYOe3EbLx7nPXFrrRS1G+k\n",
       "WNGnYCV0YLgnn9Co9geNMFpNbrMQFK66Tn8w7EBT3UEb4Fe4hR/aLVUlnqWdvgAAAABJRU5ErkJg\n",
       "gg==\n",
       "\" style=\"display:inline;vertical-align:middle;\" /></a></td></tr>\n",
       "<tr><td>5</td><td>Operation</td><td>operator:&nbsp;8<br>operands:&nbsp;9<br></td><td><a class=\"ProveItLink\" href=\"../cd457d59bfd8582be7220a7500a0989802bcb0120/expr.ipynb\"><img src=\"data:image/png;base64,iVBORw0KGgoAAAANSUhEUgAAADMAAAAPBAMAAAC7N+rPAAAAMFBMVEX///8yMjKqqqrMzMzu7u4i\n",
       "IiJmZmaYmJhEREQQEBC6urp2dnaIiIhUVFTc3NwAAAD87Fq/AAAAAXRSTlMAQObYZgAAANRJREFU\n",
       "GNNjYMACeALlp7Zhk2BgXr+AZf9ZrFIF1xkYmP4ii7AcDA0VANLsDhOAZC6ylGEJhGbjuwAkfYCY\n",
       "786ueSARvhaoEjeuDVDWygccH0A0xwOogDVTAYTB952BrQHE8IAZbM0FleL9wMB6AKw7NBTiDA9m\n",
       "qIH8DQz+BiCGLUwXo8MFCOP9AQZ9BgcgwxUmxb4BJMXCwOCvwHCRCaSNtwAm174GSCx1YGAsYArj\n",
       "Bvs4CibFe+MIy4oWkLdOWZwCizxMhsmZxf+8hRp2uqJgF8IAAH82L/mC9qalAAAAAElFTkSuQmCC\n",
       "\" style=\"display:inline;vertical-align:middle;\" /></a></td></tr>\n",
       "<tr><td>6</td><td>Operation</td><td>operator:&nbsp;10<br>operands:&nbsp;11<br></td><td><a class=\"ProveItLink\" href=\"../d83e7bd5b038175e56ce4b59abe02e98862c275b0/expr.ipynb\"><img src=\"data:image/png;base64,iVBORw0KGgoAAAANSUhEUgAAAC8AAAAJBAMAAABQ/Gi0AAAAMFBMVEX///8yMjKqqqrMzMzu7u4i\n",
       "IiJmZmaYmJhEREQQEBC6urp2dnaIiIhUVFTc3NwAAAD87Fq/AAAAAXRSTlMAQObYZgAAAGBJREFU\n",
       "CNdjYOC7s2seAwqAiqx8wPEBVQIiwvedga0BVQNEhPcDA+sBEFc0FAQWwEX4Gxj8DVB0QEXeH2DQ\n",
       "Z3BAloCK+CswXGRC0QIVYSxgCuNGMQoqwnfnlMUpNG+ARAAvViLdWWFTqQAAAABJRU5ErkJggg==\n",
       "\" style=\"display:inline;vertical-align:middle;\" /></a></td></tr>\n",
       "<tr><td>7</td><td>Literal</td><td></td><td><a class=\"ProveItLink\" href=\"../../../numeral/__pv_it/ec23fc7a1b4222a5f4948b495002b97d6fa18c3c0/expr.ipynb\"><img src=\"data:image/png;base64,iVBORw0KGgoAAAANSUhEUgAAAAoAAAAOBAMAAADkjZCYAAAALVBMVEX///8QEBCYmJh2dnaqqqrc\n",
       "3NxUVFQyMjK6uroiIiLMzMyIiIhmZmbu7u4AAAAZjyHdAAAAAXRSTlMAQObYZgAAAEpJREFUCNdj\n",
       "YLiz+xQDA8MMhpsLGLgnMHAXMHAmMHA8ZeA7wMD1hCHOgIHrNZh8jES+Bss+AqlkeQrSxTyBgWEK\n",
       "w8UFDAx3rLMYAMCjFldHSx/9AAAAAElFTkSuQmCC\n",
       "\" style=\"display:inline;vertical-align:middle;\" /></a></td></tr>\n",
       "<tr><td>8</td><td>Literal</td><td></td><td><a class=\"ProveItLink\" href=\"../../../../logic/set_theory/membership/__pv_it/088cbc857536a28d4119ad9639a84270ccb0545d0/expr.ipynb\"><img src=\"data:image/png;base64,iVBORw0KGgoAAAANSUhEUgAAAAwAAAAMBAMAAACkW0HUAAAALVBMVEX///+qqqpmZmZUVFQQEBC6\n",
       "urpERETc3NyYmJjMzMwiIiIyMjKIiIju7u4AAACYsrA9AAAAAXRSTlMAQObYZgAAADxJREFUCNdj\n",
       "YOA9vWrVBgaG2b0MQMCeCyIZ2ArA1DUwyRCyahVIyWQI7xaEYm4AU7xLIdxqTQgtvGvVBgCkcQ7e\n",
       "geM/tQAAAABJRU5ErkJggg==\n",
       "\" style=\"display:inline;vertical-align:middle;\" /></a></td></tr>\n",
       "<tr><td>9</td><td>ExprTuple</td><td>15, 12</td><td><a class=\"ProveItLink\" href=\"../4d7c0ad813ab3197c922864bf572a2de9c4f2e7d0/expr.ipynb\"><img src=\"data:image/png;base64,iVBORw0KGgoAAAANSUhEUgAAAC8AAAAVBAMAAAAk6KpUAAAAMFBMVEX////c3NwiIiJERESqqqqY\n",
       "mJh2dnZmZmYQEBDu7u4yMjJUVFTMzMyIiIi6uroAAAAs73DqAAAAAXRSTlMAQObYZgAAASFJREFU\n",
       "KM9jYMAJ+C5gisWBiNMoQrxa65vMGdgPAJkrkcV53j/gzL/NwLAAqATFpICtDAwsvxkYwhgYOCYg\n",
       "ibNOaACS1QwMMxgYXiFrYGfcACTnMjAwOzCUAVmMe/MawRLT+RIgKtgKGJYCqRcCzB/A/GMsARAJ\n",
       "lgUMfUANXxnYDSASfFAJvgaGfwwM3B8YmCBum8wDNYrnA0iC34Bh/gEwn2vCBrhECwOD/AUGfwaw\n",
       "q1kTQBKcYKNMGRjmOzDsYjnACZIxfQskHk1gYF3AkA40IIBFnY1hvgJQjHvzTc7HlmDnPgJ5497h\n",
       "ewwzPoK0HNf/sQ9k2QMGDgGYtx8iBcEMkH3wAESSyEUOdiQJTmCwM0jDoghJAzfIfEYsUXuHgQEA\n",
       "M61El67l9nMAAAAASUVORK5CYII=\n",
       "\" style=\"display:inline;vertical-align:middle;\" /></a></td></tr>\n",
       "<tr><td>10</td><td>Literal</td><td></td><td><a class=\"ProveItLink\" href=\"../3e6688136fa3c7aefbebe51301b7c3ebf0b69c440/expr.ipynb\"><img src=\"data:image/png;base64,iVBORw0KGgoAAAANSUhEUgAAAA4AAAAOBAMAAADtZjDiAAAAJFBMVEX///+6urpUVFQQEBAiIiIy\n",
       "MjJmZmaIiIiqqqrc3Nzu7u4AAACgHpL+AAAAAXRSTlMAQObYZgAAAB5JREFUCNdjYGBgWMkAAe2k\n",
       "0Kmhoc6hoUGk6BMHYgAHOwjcado9fwAAAABJRU5ErkJggg==\n",
       "\" style=\"display:inline;vertical-align:middle;\" /></a></td></tr>\n",
       "<tr><td>11</td><td>ExprTuple</td><td>15, 13</td><td><a class=\"ProveItLink\" href=\"../5cc6c52462376a4940a32b79be12cf9e0c606d9f0/expr.ipynb\"><img src=\"data:image/png;base64,iVBORw0KGgoAAAANSUhEUgAAADsAAAAVBAMAAAAKrYvGAAAAMFBMVEX////c3NwiIiJERESqqqqY\n",
       "mJh2dnZmZmYQEBDu7u4yMjJUVFTMzMyIiIi6uroAAAAs73DqAAAAAXRSTlMAQObYZgAAAOxJREFU\n",
       "KM9jYCAA+C7gkokDEadxamQ/ACRW4jZ4AQMD7wXc0mEMDBwTcEvPYGB4hcfVzA4MZUCKcW9eI6oE\n",
       "RIStgGEpkPNCgPkDqjREhGUBQx9Q6VcGdgNUzRARvgaGfwwM3B8YmCDuZ1ykBAIPoCI8H0DS/AYM\n",
       "8w+g6IaKAKVbGBjkLzD4M6D4DyoCNNyUgWG+A8MulgOcSNIQEQbWBQzpDAxcASzqbAzzFRDSEBGQ\n",
       "xx6BPHnv8D2GGR+RvQ0SYeB6wMAhABN7iC1QWRNgnAAM6VzkCMWQ5gRGKIM0lMOLoZkbZC8jzgi/\n",
       "w8AAAOjCPosx3OHnAAAAAElFTkSuQmCC\n",
       "\" style=\"display:inline;vertical-align:middle;\" /></a></td></tr>\n",
       "<tr><td>12</td><td>Literal</td><td></td><td><a class=\"ProveItLink\" href=\"../../../sets/complex/__pv_it/c357845f93a5a2d9f649129d299e7ec28dda4b960/expr.ipynb\"><img src=\"data:image/png;base64,iVBORw0KGgoAAAANSUhEUgAAAA8AAAAOBAMAAAACpFvcAAAAMFBMVEX////c3NyqqqqYmJhUVFR2\n",
       "dnbu7u66urrMzMxmZmZEREQQEBAyMjIiIiKIiIgAAAB7fvZ0AAAAAXRSTlMAQObYZgAAAGVJREFU\n",
       "CNdjYGDgu3N+70oGBgaO+gK2+CdAhoEzAwPTFwYG5oQNQN4UBgZORgcgI4+BIZM9gAEMWpkMoAx2\n",
       "KCOLAyrFk+AAYTAHgBhsQLy4DkjUJjAwsHg9Y6taBpLsvP/bnYEBACkBFGQfBv8RAAAAAElFTkSu\n",
       "QmCC\n",
       "\" style=\"display:inline;vertical-align:middle;\" /></a></td></tr>\n",
       "<tr><td>13</td><td>Operation</td><td>operator:&nbsp;14<br>operand:&nbsp;15<br></td><td><a class=\"ProveItLink\" href=\"../5bdd387ae2a10752c3ad16ba6b67c0e39d26b0ee0/expr.ipynb\"><img src=\"data:image/png;base64,iVBORw0KGgoAAAANSUhEUgAAABoAAAAJBAMAAADeJiHIAAAAMFBMVEX///+qqqrMzMzu7u5mZmaY\n",
       "mJhEREQQEBB2dnaIiIhUVFS6uroiIiIyMjLc3NwAAAAxFEmoAAAAAXRSTlMAQObYZgAAAExJREFU\n",
       "CNdjYICBVzO2P4BzuOsY8uEchvcBDG4MDG/PgMBphvUMDCcRct8YmD/BOXw/GRg/MMN4zB8ZuC4I\n",
       "wSWvMsg4NCCsm7kpcwMArzoXiK6Dv2MAAAAASUVORK5CYII=\n",
       "\" style=\"display:inline;vertical-align:middle;\" /></a></td></tr>\n",
       "<tr><td>14</td><td>Literal</td><td></td><td><a class=\"ProveItLink\" href=\"../../../negation/__pv_it/3fc7a08bb9735faa20ef8e175f6ea95511acc9c70/expr.ipynb\"><img src=\"data:image/png;base64,iVBORw0KGgoAAAANSUhEUgAAAA4AAAACBAMAAACapPCZAAAAElBMVEX///+6uroiIiIyMjLc3NwA\n",
       "AAA6l9OrAAAAAXRSTlMAQObYZgAAABBJREFUCNdjcFYCAUUGKAAADR4BD8/TF5gAAAAASUVORK5C\n",
       "YII=\n",
       "\" style=\"display:inline;vertical-align:middle;\" /></a></td></tr>\n",
       "<tr><td>15</td><td>Variable</td><td></td><td><a class=\"ProveItLink\" href=\"../../../../__pv_it/07527342713064c87612d00d8557c53d53d5324a0/expr.ipynb\"><img src=\"data:image/png;base64,iVBORw0KGgoAAAANSUhEUgAAAAsAAAAJBAMAAAAWSsseAAAAMFBMVEX///8yMjKqqqrMzMzu7u4i\n",
       "IiJmZmaYmJhEREQQEBC6urp2dnaIiIhUVFTc3NwAAAD87Fq/AAAAAXRSTlMAQObYZgAAAEhJREFU\n",
       "CNdjYOC7s2seAwPDygccHxgY+L4zsDUwMPB+YGA9wMDA38Dgb8DA8P4Agz6DA4O/AsNFJgMGxgKm\n",
       "MG6gyjunLE4xAAAZTBA5TB6DCwAAAABJRU5ErkJggg==\n",
       "\" style=\"display:inline;vertical-align:middle;\" /></a></td></tr>\n",
       "</table>\n"
      ],
      "text/plain": [
       "0. a -> ((a - a) = 0) | a in Complexes\n",
       "   core type: Lambda\n",
       "   parameter: 15\n",
       "   body: 1\n",
       "   conditions: 2\\n1. (a - a) = 0\n",
       "   core type: Operation\n",
       "   operator: 3\n",
       "   operands: 4\n",
       "2. (a in Complexes)\n",
       "   core type: ExprTuple\n",
       "   sub-expressions: 5\n",
       "3. =\n",
       "   core type: Literal\n",
       "   sub-expressions: \n",
       "4. (a - a , 0)\n",
       "   core type: ExprTuple\n",
       "   sub-expressions: 6, 7\n",
       "5. a in Complexes\n",
       "   core type: Operation\n",
       "   operator: 8\n",
       "   operands: 9\n",
       "6. a - a\n",
       "   core type: Operation\n",
       "   operator: 10\n",
       "   operands: 11\n",
       "7. 0\n",
       "   core type: Literal\n",
       "   sub-expressions: \n",
       "8. in\n",
       "   core type: Literal\n",
       "   sub-expressions: \n",
       "9. (a , Complexes)\n",
       "   core type: ExprTuple\n",
       "   sub-expressions: 15, 12\n",
       "10. +\n",
       "    core type: Literal\n",
       "    sub-expressions: \n",
       "11. (a , -a)\n",
       "    core type: ExprTuple\n",
       "    sub-expressions: 15, 13\n",
       "12. Complexes\n",
       "    core type: Literal\n",
       "    sub-expressions: \n",
       "13. -a\n",
       "    core type: Operation\n",
       "    operator: 14\n",
       "    operand: 15\n",
       "14. -\n",
       "    core type: Literal\n",
       "    sub-expressions: \n",
       "15. a\n",
       "    core type: Variable\n",
       "    sub-expressions: "
      ]
     },
     "execution_count": 4,
     "metadata": {},
     "output_type": "execute_result"
    }
   ],
   "source": [
    "# display the expression information\n",
    "expr.exprInfo()"
   ]
  },
  {
   "cell_type": "code",
   "execution_count": null,
   "metadata": {},
   "outputs": [],
   "source": []
  }
 ],
 "metadata": {
  "kernelspec": {
   "display_name": "Python 3",
   "language": "python",
   "name": "python3"
  }
 },
 "nbformat": 4,
 "nbformat_minor": 0
}
