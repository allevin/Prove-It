{
 "cells": [
  {
   "cell_type": "markdown",
   "metadata": {},
   "source": [
    "Expression of type <a class=\"ProveItLink\" href=\"../../../../../../doc/html/api/proveit.number.Add.html\">Add</a>\n",
    "=======================\n",
    "# from context <a class=\"ProveItLink\" href=\"../../_context_.ipynb\">proveit.number.addition</a>"
   ]
  },
  {
   "cell_type": "code",
   "execution_count": 1,
   "metadata": {},
   "outputs": [],
   "source": [
    "# import Expression classes needed to build the expression\n",
    "from proveit._common_ import c\n",
    "from proveit.number import Add, one, three, two"
   ]
  },
  {
   "cell_type": "code",
   "execution_count": 2,
   "metadata": {},
   "outputs": [
    {
     "data": {
      "text/html": [
       "<strong id=\"expr\">expr:</strong> <a class=\"ProveItLink\" href=\"expr.ipynb\"><img src=\"data:image/png;base64,iVBORw0KGgoAAAANSUhEUgAAAPkAAAAVBAMAAAB251VaAAAAMFBMVEX////c3NwiIiJERESqqqqY\n",
       "mJh2dnZmZmYQEBDu7u4yMjJUVFTMzMyIiIi6uroAAAAs73DqAAAAAXRSTlMAQObYZgAAAkxJREFU\n",
       "SMfFlj9oE1Ecx79H/lxyubsEFwcVHd3iUAcnbxMEMVMHBykIcTEYFFsphVZwUMF4IkjQ5ag4eAWN\n",
       "k4hDM4ngYBYHwcDhJIJQ/FNIoY3vrme53y+/tmcz+CB5x+f9fve599699w74v8XupQzMBSPo+zji\n",
       "8+Hf+9ThcxyYHfV3gkFt5gl7TLN+weGpKkvvqvpZarsxAlzgwYDBA7B+UbIf9joLirI8wEoOfLHC\n",
       "ogjITcUX9+O6Dzx+M2Chr4EqJZcd/KBkM2sSKLiJ+2f5O0BAcSG+OBPXt9XPGrDQWy6WA0LObtm3\n",
       "bhdltYFvSG3HBLXbnmR/4WI+YMl/R57aMw6mw07V+13a+rDxWQAXqV2fkuyqVF1GjI5kzzfxVFXv\n",
       "AuMIaTVbWBTAaWo3arLdXGXk7RIke9ZDS3X9LjI10tru4bgAvlJ7IZDtxjFOrJZktxewAZRW+DQv\n",
       "y+ADtZe3sV8dnYt7rmA3V0J7efNZdd9fvOP74RT9lEFkn/X9o76/RO2JUFgdRg4CJ2ssJrbfBA73\n",
       "WFe1dRnwkXfEvp+CVkmS4tCN7NLIq+ksqyba+lttLQI4R+0Z8a0zm8gRO9bUKqgI9pwXrqJSE3m6\n",
       "4l4BlwTAVpxaMYJ9X71+hZKPsFe3WXFfVDXd/0Rb9UbfFcBzttuoZapfX7tGc6vDIdvZsjOzDrt/\n",
       "lGUEKFT2vtPe2HGf3JW0E0eHeNYTkO+xY31y5++E3Ujjn07YR9IJu/dS9KLzOG15yYHWGcdeCudc\n",
       "S/tlZXVH0KFx7OrY+gP2M+aML0NpRgAAAABJRU5ErkJggg==\n",
       "\" style=\"display:inline;vertical-align:middle;\" /></a><br>"
      ],
      "text/plain": [
       "expr: (c + c + c) + (1 + 2 + 3 + 1)"
      ]
     },
     "execution_count": 2,
     "metadata": {},
     "output_type": "execute_result"
    }
   ],
   "source": [
    "# build up the expression from sub-expressions\n",
    "expr = Add(Add(c, c, c), Add(one, two, three, one))"
   ]
  },
  {
   "cell_type": "code",
   "execution_count": 3,
   "metadata": {},
   "outputs": [
    {
     "name": "stdout",
     "output_type": "stream",
     "text": [
      "Passed sanity check: built 'expr' is the same as the stored Expression.\n"
     ]
    }
   ],
   "source": [
    "# check that the built expression is the same as the stored expression\n",
    "%check_expr"
   ]
  },
  {
   "cell_type": "code",
   "execution_count": 4,
   "metadata": {},
   "outputs": [
    {
     "data": {
      "text/html": [
       "<table><tr><th>&nbsp;</th><th>core type</th><th>sub-expressions</th><th>expression</th></tr>\n",
       "<tr><td>0</td><td>Operation</td><td>operator:&nbsp;5<br>operands:&nbsp;1<br></td><td><a class=\"ProveItLink\" href=\"expr.ipynb\"><img src=\"data:image/png;base64,iVBORw0KGgoAAAANSUhEUgAAAPkAAAAVBAMAAAB251VaAAAAMFBMVEX////c3NwiIiJERESqqqqY\n",
       "mJh2dnZmZmYQEBDu7u4yMjJUVFTMzMyIiIi6uroAAAAs73DqAAAAAXRSTlMAQObYZgAAAkxJREFU\n",
       "SMfFlj9oE1Ecx79H/lxyubsEFwcVHd3iUAcnbxMEMVMHBykIcTEYFFsphVZwUMF4IkjQ5ag4eAWN\n",
       "k4hDM4ngYBYHwcDhJIJQ/FNIoY3vrme53y+/tmcz+CB5x+f9fve599699w74v8XupQzMBSPo+zji\n",
       "8+Hf+9ThcxyYHfV3gkFt5gl7TLN+weGpKkvvqvpZarsxAlzgwYDBA7B+UbIf9joLirI8wEoOfLHC\n",
       "ogjITcUX9+O6Dzx+M2Chr4EqJZcd/KBkM2sSKLiJ+2f5O0BAcSG+OBPXt9XPGrDQWy6WA0LObtm3\n",
       "bhdltYFvSG3HBLXbnmR/4WI+YMl/R57aMw6mw07V+13a+rDxWQAXqV2fkuyqVF1GjI5kzzfxVFXv\n",
       "AuMIaTVbWBTAaWo3arLdXGXk7RIke9ZDS3X9LjI10tru4bgAvlJ7IZDtxjFOrJZktxewAZRW+DQv\n",
       "y+ADtZe3sV8dnYt7rmA3V0J7efNZdd9fvOP74RT9lEFkn/X9o76/RO2JUFgdRg4CJ2ssJrbfBA73\n",
       "WFe1dRnwkXfEvp+CVkmS4tCN7NLIq+ksqyba+lttLQI4R+0Z8a0zm8gRO9bUKqgI9pwXrqJSE3m6\n",
       "4l4BlwTAVpxaMYJ9X71+hZKPsFe3WXFfVDXd/0Rb9UbfFcBzttuoZapfX7tGc6vDIdvZsjOzDrt/\n",
       "lGUEKFT2vtPe2HGf3JW0E0eHeNYTkO+xY31y5++E3Ujjn07YR9IJu/dS9KLzOG15yYHWGcdeCudc\n",
       "S/tlZXVH0KFx7OrY+gP2M+aML0NpRgAAAABJRU5ErkJggg==\n",
       "\" style=\"display:inline;vertical-align:middle;\" /></a></td></tr>\n",
       "<tr><td>1</td><td>ExprTuple</td><td>2, 3</td><td><a class=\"ProveItLink\" href=\"../4c590b7a37440c4d202056f20eb5bb602a19c3d80/expr.ipynb\"><img src=\"data:image/png;base64,iVBORw0KGgoAAAANSUhEUgAAANkAAAAVBAMAAAA5ulaKAAAAMFBMVEX////c3NwiIiJERESqqqqY\n",
       "mJh2dnZmZmYQEBDu7u4yMjJUVFTMzMyIiIi6uroAAAAs73DqAAAAAXRSTlMAQObYZgAAAeJJREFU\n",
       "SMe9lr1Lw0AYh3/BpjU1icHFQUH/g7o4ONnNUSdHEYS4WCyKVlx0cBDB9kAQwaUoDsZBNxEHnURw\n",
       "6eIgWAiOTuIXtKD1Er96l7dfFHpDjzzvvXlyd829AVrbzFyLRBPez02DSUPStZLad0Wi21NxIity\n",
       "yfvDxmRbBQn0wHgVSTfMDyorCxjlC6lZ0qgA2D0vSKEzICaS2TieRfKdNQ60s7J7heQ9DAAYBSm0\n",
       "znDhCmT0z/aX7mftAI9o0nbMsOJKg39XUrS1xbHoTdjOX4rR7cQ9DYI23mJMItETyhZO4oB31260\n",
       "X4jqaezRgLLp7xK5OgJlC2WR5lPbRNuYEN3JYZAGlC06IBMjTdnMVXwCHU/yNl1UBJRtPri2GUbY\n",
       "9CfP1vn9bBHH2dtwHG/JX2jwbysLwTiRSC8wPCaN+bGtAX05aSrKR0VAzG0EilVOtBLzbdRK8u3o\n",
       "5CEx+gaoQcBIm56EKthQ5P9Si7CpWUzzfUsiLL4Bp8BMAGjPpK3LtudEcgvzvcIb8MC7xfydGI0k\n",
       "8iwAtAx/4MhScUEcGyuVpJMjlFqOS/fzs6Iu2q26zxLTqn7M1CL85FInq9U6Aag16mItkmio4qjN\n",
       "VVMt69eneluTRb7D2wilVV8K/Fj/ArpTygfew/9jAAAAAElFTkSuQmCC\n",
       "\" style=\"display:inline;vertical-align:middle;\" /></a></td></tr>\n",
       "<tr><td>2</td><td>Operation</td><td>operator:&nbsp;5<br>operands:&nbsp;4<br></td><td><a class=\"ProveItLink\" href=\"../794b7170b8a2a7f3a9488eaf29c486ed5d13a4530/expr.ipynb\"><img src=\"data:image/png;base64,iVBORw0KGgoAAAANSUhEUgAAAE4AAAAOBAMAAABz3DdCAAAAMFBMVEX///+qqqpmZmbc3NxUVFSY\n",
       "mJhEREQiIiIyMjK6uroQEBDMzMyIiIh2dnbu7u4AAAA4MM1YAAAAAXRSTlMAQObYZgAAALFJREFU\n",
       "KM9jYICDxwxogM+AARuQQRdgPECOOr67ZzagqIMLwNW9vXOagWHXBI4CFHVwAZg67pUM7Qx8axjY\n",
       "ApDVIQRg6l4dYEhlYPmA5j6EAEydP4jgTwCzNTo6qjo6WhACTB0d7Ss6OhyAzG8gvv0BNPMQAlDz\n",
       "mP+AzQO6BcV9CAGYvV8ZGFgZWBQYeFHCBSEAU+fEwHCbgUH3zDnUcIYLwNQx3TnzgIx4m4MuwImk\n",
       "DgDaMTWEahh+dwAAAABJRU5ErkJggg==\n",
       "\" style=\"display:inline;vertical-align:middle;\" /></a></td></tr>\n",
       "<tr><td>3</td><td>Operation</td><td>operator:&nbsp;5<br>operands:&nbsp;6<br></td><td><a class=\"ProveItLink\" href=\"../0d8c22bd9a6186cc03f8946f1a2b6e722ff15d980/expr.ipynb\"><img src=\"data:image/png;base64,iVBORw0KGgoAAAANSUhEUgAAAHMAAAAQBAMAAADXDV0hAAAAMFBMVEX///92dnbMzMy6uroiIiKq\n",
       "qqrc3NyYmJgyMjIQEBBmZmaIiIhUVFTu7u5EREQAAADaqMZ6AAAAAXRSTlMAQObYZgAAAQhJREFU\n",
       "KM9jYGB4y4AK2Fb1GaCKKAo+RVPDwHcBSNz7iyaaw8D9FdWsBQz2G1DV8L4Har1zBqaVNwFCn2Vg\n",
       "8EcRYfzKwO8AEbkGlThzHmQrN0wrK9TkmRcYzhsgi7AitEbDrN2PVWv/BYb1KFqBAOZgAlqBwP8C\n",
       "mkgPA5FamT6iijBJHCBWK8cDdJGdBkRqXYchwvkXt1aujo6WGR0dYIdxH0AVYVNg4PsOFFnR0eHZ\n",
       "0dGDz9YoBrYEZJH7fyFaCTuYaQEDO4pW/gYGlm9EaU0RFFyCIsJdwGAvgEUr18ofy1G1+v///wVV\n",
       "JGpVK1rkrJrfVYCUpFk3oGcPTJFoBqyAeQNhEWskNgDB1nAlS+D6+QAAAABJRU5ErkJggg==\n",
       "\" style=\"display:inline;vertical-align:middle;\" /></a></td></tr>\n",
       "<tr><td>4</td><td>ExprTuple</td><td>7, 7, 7</td><td><a class=\"ProveItLink\" href=\"../86a607d788a57bb994e75964e5003873eaa726b10/expr.ipynb\"><img src=\"data:image/png;base64,iVBORw0KGgoAAAANSUhEUgAAADkAAAAVBAMAAAAOWFv7AAAAMFBMVEX////c3NwiIiJERESqqqqY\n",
       "mJh2dnZmZmYQEBDu7u4yMjJUVFTMzMyIiIi6uroAAAAs73DqAAAAAXRSTlMAQObYZgAAANZJREFU\n",
       "KM9jYMAP+C7gkIgDEadxaWM/ACRW4jR1AQMD7wWcsmEMDBwTcMrOYGB4hdu9zA4MZUCKM+3uATAf\n",
       "lcFWwLAUyD7xgEsBLIjKYFnA0AdU2MvAHADWgcrga2D4x8DA/QFqERqD5wNIlt8AKojGAMq2MDDI\n",
       "w7yMxgCabApUCbQrgJMBncHAuoAhHWhLAQPbgfkK6AyQjx4BlZbdvckw4yM6g4HrAQOHANSuhwzo\n",
       "DGBIsiZA2QEM6IxcpBjEkOUExiCDNITNC5OEM7hBdjLiiuA7DAwAx3NBG0TfR+4AAAAASUVORK5C\n",
       "YII=\n",
       "\" style=\"display:inline;vertical-align:middle;\" /></a></td></tr>\n",
       "<tr><td>5</td><td>Literal</td><td></td><td><a class=\"ProveItLink\" href=\"../3e6688136fa3c7aefbebe51301b7c3ebf0b69c440/expr.ipynb\"><img src=\"data:image/png;base64,iVBORw0KGgoAAAANSUhEUgAAAA4AAAAOBAMAAADtZjDiAAAAJFBMVEX///+6urpUVFQQEBAiIiIy\n",
       "MjJmZmaIiIiqqqrc3Nzu7u4AAACgHpL+AAAAAXRSTlMAQObYZgAAAB5JREFUCNdjYGBgWMkAAe2k\n",
       "0Kmhoc6hoUGk6BMHYgAHOwjcado9fwAAAABJRU5ErkJggg==\n",
       "\" style=\"display:inline;vertical-align:middle;\" /></a></td></tr>\n",
       "<tr><td>6</td><td>ExprTuple</td><td>10, 8, 9, 10</td><td><a class=\"ProveItLink\" href=\"../0a3582afc22049f27c7d5cd6dbf4696e6621121f0/expr.ipynb\"><img src=\"data:image/png;base64,iVBORw0KGgoAAAANSUhEUgAAAFEAAAAVBAMAAADMaB9/AAAAMFBMVEX////c3NwiIiJERESqqqqY\n",
       "mJh2dnZmZmYQEBDu7u4yMjJUVFTMzMyIiIi6uroAAAAs73DqAAAAAXRSTlMAQObYZgAAAWRJREFU\n",
       "KM+N061Pw0AYBvBnX3S3rk1REyCmsGAQGNb/gGKQhIRkU4QZGJlCYDBrE8wSBEsIIQQzPzEUCAQz\n",
       "KEgGSNRAkGzJVu7a6/VaBL2kfZ9efk3b965A8qEPEqBtdnqkR8bhM6Xmuh+K1V0zYGuAckfrDUAq\n",
       "XKa6GPqgBH3K4dmYnjqANgDp9blUHaRHXto38e3PnfeY3ALyDA25zJ9CnXlpQ0hoTLaBT0iyMIYy\n",
       "C750KsuMiUNZ0pEe81DoynKujquYfNrx6/0tZJntoBWTlwK0ZKkfYxaVyoq4x3YkWRzF5Quvi0DF\n",
       "isqTiMzWMc8qcZ2opE9fDaSHH4BNL02AZYOEMtdBjUvCGp1aqtbKXnqG/oOLstylD1oa9rVFbIM2\n",
       "03XdspeyjaaJ9hf7xqPJAe3uG/JGsCYG/qR30Qi6mjneaeTEbJgskfb8Xfe/JHTXYYFfhFtfJE1M\n",
       "qeyFUkn+jlfgFxSLaVyxKrEHAAAAAElFTkSuQmCC\n",
       "\" style=\"display:inline;vertical-align:middle;\" /></a></td></tr>\n",
       "<tr><td>7</td><td>Variable</td><td></td><td><a class=\"ProveItLink\" href=\"../../../../__pv_it/cbdfda466482236edba0ce44ac7ef39cda0af7a40/expr.ipynb\"><img src=\"data:image/png;base64,iVBORw0KGgoAAAANSUhEUgAAAAkAAAAJBAMAAAASvxsjAAAALVBMVEX///9mZmbc3NxUVFSYmJhE\n",
       "REQiIiIyMjK6uroQEBDMzMyIiIh2dnbu7u4AAABgFDGoAAAAAXRSTlMAQObYZgAAADZJREFUCNdj\n",
       "YOA9s3sBA8PKBvYEBt7ZDKwODMwPGICALwBE6m0Asx0YGIDiAgw8QJUyu/cyAAAmuwmycZ8WfQAA\n",
       "AABJRU5ErkJggg==\n",
       "\" style=\"display:inline;vertical-align:middle;\" /></a></td></tr>\n",
       "<tr><td>8</td><td>Literal</td><td></td><td><a class=\"ProveItLink\" href=\"../../../numeral/__pv_it/77d407a64829263cdc16415becd4c2293f77a4bf0/expr.ipynb\"><img src=\"data:image/png;base64,iVBORw0KGgoAAAANSUhEUgAAAAkAAAAOBAMAAAAPuiubAAAAMFBMVEX///+YmJh2dnbMzMwQEBAi\n",
       "IiLu7u6qqqqIiIhUVFS6urpEREQyMjJmZmbc3NwAAACOMKdoAAAAAXRSTlMAQObYZgAAAFBJREFU\n",
       "CNdj4Lt7egEDw0sGju8MDNMYGOIZGFwSGOYvYDifwHAfKAEUSQASzJ9ATJ4NIPI2iOCYACJrGfge\n",
       "MDBfYGB8wPBUSekqUPH//18ZAIliFhc3zESNAAAAAElFTkSuQmCC\n",
       "\" style=\"display:inline;vertical-align:middle;\" /></a></td></tr>\n",
       "<tr><td>9</td><td>Literal</td><td></td><td><a class=\"ProveItLink\" href=\"../../../numeral/__pv_it/9176d93c83afa2c995b614976e3cb49207102fa70/expr.ipynb\"><img src=\"data:image/png;base64,iVBORw0KGgoAAAANSUhEUgAAAAoAAAAOBAMAAADkjZCYAAAAMFBMVEX///+YmJju7u4QEBBUVFQy\n",
       "MjIiIiKIiIi6urpmZmbc3NyqqqpERER2dnbMzMwAAAB0GlNiAAAAAXRSTlMAQObYZgAAAE1JREFU\n",
       "CNdjYHh79zQDA9cEhv4CBt7fDPwJDNxgEgiAIkAQAsR8Vx1ATIbiBhDJ/ImB6wEDz0cG/U8gkj+A\n",
       "ge0XA7sAQ/8FBoadM6MZAEflFACalZ/OAAAAAElFTkSuQmCC\n",
       "\" style=\"display:inline;vertical-align:middle;\" /></a></td></tr>\n",
       "<tr><td>10</td><td>Literal</td><td></td><td><a class=\"ProveItLink\" href=\"../../../numeral/__pv_it/9be8badea4c35b9724062cecc501d17a3158d1d20/expr.ipynb\"><img src=\"data:image/png;base64,iVBORw0KGgoAAAANSUhEUgAAAAgAAAAPBAMAAAArJJMAAAAAHlBMVEX///+YmJgyMjIQEBBmZmaI\n",
       "iIhUVFTu7u5EREQAAAAw+MI4AAAAAXRSTlMAQObYZgAAACFJREFUCNdjYGBoZ2BgqJjOwFCWBiQY\n",
       "WEklWJwnOTKAAACjEQo8HvEr3AAAAABJRU5ErkJggg==\n",
       "\" style=\"display:inline;vertical-align:middle;\" /></a></td></tr>\n",
       "</table>\n"
      ],
      "text/plain": [
       "0. (c + c + c) + (1 + 2 + 3 + 1)\n",
       "   core type: Operation\n",
       "   operator: 5\n",
       "   operands: 1\n",
       "1. (c + c + c , 1 + 2 + 3 + 1)\n",
       "   core type: ExprTuple\n",
       "   sub-expressions: 2, 3\n",
       "2. c + c + c\n",
       "   core type: Operation\n",
       "   operator: 5\n",
       "   operands: 4\n",
       "3. 1 + 2 + 3 + 1\n",
       "   core type: Operation\n",
       "   operator: 5\n",
       "   operands: 6\n",
       "4. (c , c , c)\n",
       "   core type: ExprTuple\n",
       "   sub-expressions: 7, 7, 7\n",
       "5. +\n",
       "   core type: Literal\n",
       "   sub-expressions: \n",
       "6. (1 , 2 , 3 , 1)\n",
       "   core type: ExprTuple\n",
       "   sub-expressions: 10, 8, 9, 10\n",
       "7. c\n",
       "   core type: Variable\n",
       "   sub-expressions: \n",
       "8. 2\n",
       "   core type: Literal\n",
       "   sub-expressions: \n",
       "9. 3\n",
       "   core type: Literal\n",
       "   sub-expressions: \n",
       "10. 1\n",
       "    core type: Literal\n",
       "    sub-expressions: "
      ]
     },
     "execution_count": 4,
     "metadata": {},
     "output_type": "execute_result"
    }
   ],
   "source": [
    "# display the expression information\n",
    "expr.exprInfo()"
   ]
  },
  {
   "cell_type": "code",
   "execution_count": null,
   "metadata": {},
   "outputs": [],
   "source": []
  }
 ],
 "metadata": {
  "kernelspec": {
   "display_name": "Python 3",
   "language": "python",
   "name": "python3"
  }
 },
 "nbformat": 4,
 "nbformat_minor": 0
}
