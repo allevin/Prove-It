{
 "cells": [
  {
   "cell_type": "markdown",
   "metadata": {},
   "source": [
    "Expression of type <a class=\"ProveItLink\" href=\"../../../../../../doc/html/api/proveit.number.Add.html\">Add</a>\n",
    "=======================\n",
    "# from context <a class=\"ProveItLink\" href=\"../../_context_.ipynb\">proveit.number.addition</a>"
   ]
  },
  {
   "cell_type": "code",
   "execution_count": 1,
   "metadata": {},
   "outputs": [],
   "source": [
    "# import Expression classes needed to build the expression\n",
    "from proveit._common_ import a, b, c\n",
    "from proveit.number import Add, one, three, two"
   ]
  },
  {
   "cell_type": "code",
   "execution_count": 2,
   "metadata": {},
   "outputs": [
    {
     "data": {
      "text/html": [
       "<strong id=\"expr\">expr:</strong> <a class=\"ProveItLink\" href=\"expr.ipynb\"><img src=\"data:image/png;base64,iVBORw0KGgoAAAANSUhEUgAAAUUAAAAQBAMAAABzbnCeAAAAMFBMVEX///8yMjKqqqrMzMzu7u4i\n",
       "IiJmZmaYmJhEREQQEBC6urp2dnaIiIhUVFTc3NwAAAD87Fq/AAAAAXRSTlMAQObYZgAAAjtJREFU\n",
       "SMellU9rE1EUxU+mM2OamsRZVNwU5gMU2pUoLnxbKdisCsWFyaYuXDifQLoT3BTBVRXrVii0UCrF\n",
       "FBxQEEqkcaMIlQSELjVCpEULccZ0+t59dyZvxLuZ4ce95565788AuaIoNHDYeGgosT/XDCBHjDV3\n",
       "/Jyp9ormsdLGvqm40DYBcxyidELATe6tO3x86QiaUxZwehlVCaj6VIUDvQ8Xee3jJ+HTzKMVnr7s\n",
       "C5oz/hjlXxlVCdgQmgoDvI8uMvMfHgt9uCaP27rKNv7ZI4ZrXTl49YxySTI9RuH0KbGbrVkCplqf\n",
       "qAoDmNt9kw5kn7+b+EW32KNcklEer29ScvV5oaYC+xjVWVWFAYytYjIdnKlem4qHdgR3mXCFjPJ4\n",
       "iRL7KYqBCqw+xjdVFQZwI8SDdCD7nF+NTmgPTki4QkZ4TD5DqaLAvYBqXVVhAB19P3ZSzsaaQHUZ\n",
       "8/EKNDxv0fPiySbE9bzJR57Xlh5lDvAe0KsocOrYCFQVBnA89K4DReQrsBLge4gZCNW7QrLnaNXx\n",
       "DVoVTYluw3tEhYHKiTZHCU5F7IGIPc77+GCRA6mQbI+XgfvUUjQish+j8/GEOGAAR8C5dJCI/ABu\n",
       "d1EIrIUJevdJkumxcqv5skb3Yx0T5FPLvtsmKgzgI7CVDhKRdyj9ji/DvSt7tL8kSe3S2sWA5DiD\n",
       "wYB6xN3WW3rQD+7QlWQA7m5LpIOzy2Gp4ef9z4zImTYC828lT59hrDNSCs0560bAVMyAiPwBjurX\n",
       "l+RXFqcAAAAASUVORK5CYII=\n",
       "\" style=\"display:inline;vertical-align:middle;\" /></a><br>"
      ],
      "text/plain": [
       "expr: a + a + 1 + 2 + c + b + b + c + c + 3"
      ]
     },
     "execution_count": 2,
     "metadata": {},
     "output_type": "execute_result"
    }
   ],
   "source": [
    "# build up the expression from sub-expressions\n",
    "expr = Add(a, a, one, two, c, b, b, c, c, three)"
   ]
  },
  {
   "cell_type": "code",
   "execution_count": 3,
   "metadata": {},
   "outputs": [
    {
     "name": "stdout",
     "output_type": "stream",
     "text": [
      "Passed sanity check: built 'expr' is the same as the stored Expression.\n"
     ]
    }
   ],
   "source": [
    "# check that the built expression is the same as the stored expression\n",
    "%check_expr"
   ]
  },
  {
   "cell_type": "code",
   "execution_count": 4,
   "metadata": {},
   "outputs": [
    {
     "data": {
      "text/html": [
       "<table><tr><th>&nbsp;</th><th>core type</th><th>sub-expressions</th><th>expression</th></tr>\n",
       "<tr><td>0</td><td>Operation</td><td>operator:&nbsp;1<br>operands:&nbsp;2<br></td><td><a class=\"ProveItLink\" href=\"expr.ipynb\"><img src=\"data:image/png;base64,iVBORw0KGgoAAAANSUhEUgAAAUUAAAAQBAMAAABzbnCeAAAAMFBMVEX///8yMjKqqqrMzMzu7u4i\n",
       "IiJmZmaYmJhEREQQEBC6urp2dnaIiIhUVFTc3NwAAAD87Fq/AAAAAXRSTlMAQObYZgAAAjtJREFU\n",
       "SMellU9rE1EUxU+mM2OamsRZVNwU5gMU2pUoLnxbKdisCsWFyaYuXDifQLoT3BTBVRXrVii0UCrF\n",
       "FBxQEEqkcaMIlQSELjVCpEULccZ0+t59dyZvxLuZ4ce95565788AuaIoNHDYeGgosT/XDCBHjDV3\n",
       "/Jyp9ormsdLGvqm40DYBcxyidELATe6tO3x86QiaUxZwehlVCaj6VIUDvQ8Xee3jJ+HTzKMVnr7s\n",
       "C5oz/hjlXxlVCdgQmgoDvI8uMvMfHgt9uCaP27rKNv7ZI4ZrXTl49YxySTI9RuH0KbGbrVkCplqf\n",
       "qAoDmNt9kw5kn7+b+EW32KNcklEer29ScvV5oaYC+xjVWVWFAYytYjIdnKlem4qHdgR3mXCFjPJ4\n",
       "iRL7KYqBCqw+xjdVFQZwI8SDdCD7nF+NTmgPTki4QkZ4TD5DqaLAvYBqXVVhAB19P3ZSzsaaQHUZ\n",
       "8/EKNDxv0fPiySbE9bzJR57Xlh5lDvAe0KsocOrYCFQVBnA89K4DReQrsBLge4gZCNW7QrLnaNXx\n",
       "DVoVTYluw3tEhYHKiTZHCU5F7IGIPc77+GCRA6mQbI+XgfvUUjQish+j8/GEOGAAR8C5dJCI/ABu\n",
       "d1EIrIUJevdJkumxcqv5skb3Yx0T5FPLvtsmKgzgI7CVDhKRdyj9ji/DvSt7tL8kSe3S2sWA5DiD\n",
       "wYB6xN3WW3rQD+7QlWQA7m5LpIOzy2Gp4ef9z4zImTYC828lT59hrDNSCs0560bAVMyAiPwBjurX\n",
       "l+RXFqcAAAAASUVORK5CYII=\n",
       "\" style=\"display:inline;vertical-align:middle;\" /></a></td></tr>\n",
       "<tr><td>1</td><td>Literal</td><td></td><td><a class=\"ProveItLink\" href=\"../3e6688136fa3c7aefbebe51301b7c3ebf0b69c440/expr.ipynb\"><img src=\"data:image/png;base64,iVBORw0KGgoAAAANSUhEUgAAAA4AAAAOBAMAAADtZjDiAAAAJFBMVEX///+6urpUVFQQEBAiIiIy\n",
       "MjJmZmaIiIiqqqrc3Nzu7u4AAACgHpL+AAAAAXRSTlMAQObYZgAAAB5JREFUCNdjYGBgWMkAAe2k\n",
       "0Kmhoc6hoUGk6BMHYgAHOwjcado9fwAAAABJRU5ErkJggg==\n",
       "\" style=\"display:inline;vertical-align:middle;\" /></a></td></tr>\n",
       "<tr><td>2</td><td>ExprTuple</td><td>3, 3, 4, 5, 7, 6, 6, 7, 7, 8</td><td><a class=\"ProveItLink\" href=\"../49711e5622edcd997dccb54c7ef84913555743f60/expr.ipynb\"><img src=\"data:image/png;base64,iVBORw0KGgoAAAANSUhEUgAAAMEAAAAVBAMAAAANw5eWAAAAMFBMVEX////c3NwiIiJERESqqqqY\n",
       "mJh2dnZmZmYQEBDu7u4yMjJUVFTMzMyIiIi6uroAAAAs73DqAAAAAXRSTlMAQObYZgAAAllJREFU\n",
       "SMe1lbFv00AUxr84ThzHqR2mDiCRCUa6MLCA/4O6CyOKQEoXAl5aUBdAQkgMtJaQqkgMiUAdUJcs\n",
       "CASqsIQESAxkYUCQUpgQS0OrIqVSCXdn3/lsJ2bKDb5f7nu67+7duwsw/Wb2pjj5Jfr5MEk9F/az\n",
       "K+cTiv6iloAxrdK4YkPzCT2dEPFwGPS5Lr7ZCa3cTUK6zcI8AjrAzIQkPXoVOhgelEFCtOwkpNt1\n",
       "G3vARaDkTYiYCR1K92H8TWi7XhLSbZ45tIBf+I9DeQgt6XA5BWNriGQpb2OZpnrr2p0w6YKEA2lK\n",
       "iHqj7zPY7D9DHISE9eZX6ZCKLjYI/qzmw0xHJDt8rAf9+50yqx19H5YfAyGhsorHQfTbTfJRO1gl\n",
       "Cz+ANhdsQVDM4Um4zgfIOxTUIUr1GAgJrR7O8hnI3OZtkBQbAyhBRUUkO3BTg29P68ByYyAkvJYO\n",
       "Ys1DZUAdrDm0g71GJDt84aXJt6e42HViICTsczgBXHCow13gZA/zYGUXkeSgujiGUBW34JYXAyHl\n",
       "jvi9H3nUgWSJJK1t46Xq65ApcGD0DlhgthZZrkOHyOneQxy4hAOgwKIPgTNVFDpYJFXlqKeLaNdk\n",
       "Chwo5U41Fmv6Hk22i6JPhwxb6yIOXMJz4CqL/gTzD6vWH/QSbL/ZRuu3TNBuHi4xUkajUU1fq5Kx\n",
       "5f5nNqRvLSEOQoLW7HssWr2xQp6U8g5KVX4035FBZjosA6Jo8moU6vyHgwwqpIcyIIpuyq/3NBx0\n",
       "8nrjOK//6M0bQ73UUAZE0QZNV26a/6LkEfwHVyTQh+28UaEAAAAASUVORK5CYII=\n",
       "\" style=\"display:inline;vertical-align:middle;\" /></a></td></tr>\n",
       "<tr><td>3</td><td>Variable</td><td></td><td><a class=\"ProveItLink\" href=\"../../../../__pv_it/07527342713064c87612d00d8557c53d53d5324a0/expr.ipynb\"><img src=\"data:image/png;base64,iVBORw0KGgoAAAANSUhEUgAAAAsAAAAJBAMAAAAWSsseAAAAMFBMVEX///8yMjKqqqrMzMzu7u4i\n",
       "IiJmZmaYmJhEREQQEBC6urp2dnaIiIhUVFTc3NwAAAD87Fq/AAAAAXRSTlMAQObYZgAAAEhJREFU\n",
       "CNdjYOC7s2seAwPDygccHxgY+L4zsDUwMPB+YGA9wMDA38Dgb8DA8P4Agz6DA4O/AsNFJgMGxgKm\n",
       "MG6gyjunLE4xAAAZTBA5TB6DCwAAAABJRU5ErkJggg==\n",
       "\" style=\"display:inline;vertical-align:middle;\" /></a></td></tr>\n",
       "<tr><td>4</td><td>Literal</td><td></td><td><a class=\"ProveItLink\" href=\"../../../numeral/__pv_it/9be8badea4c35b9724062cecc501d17a3158d1d20/expr.ipynb\"><img src=\"data:image/png;base64,iVBORw0KGgoAAAANSUhEUgAAAAgAAAAPBAMAAAArJJMAAAAAHlBMVEX///+YmJgyMjIQEBBmZmaI\n",
       "iIhUVFTu7u5EREQAAAAw+MI4AAAAAXRSTlMAQObYZgAAACFJREFUCNdjYGBoZ2BgqJjOwFCWBiQY\n",
       "WEklWJwnOTKAAACjEQo8HvEr3AAAAABJRU5ErkJggg==\n",
       "\" style=\"display:inline;vertical-align:middle;\" /></a></td></tr>\n",
       "<tr><td>5</td><td>Literal</td><td></td><td><a class=\"ProveItLink\" href=\"../../../numeral/__pv_it/77d407a64829263cdc16415becd4c2293f77a4bf0/expr.ipynb\"><img src=\"data:image/png;base64,iVBORw0KGgoAAAANSUhEUgAAAAkAAAAOBAMAAAAPuiubAAAAMFBMVEX///+YmJh2dnbMzMwQEBAi\n",
       "IiLu7u6qqqqIiIhUVFS6urpEREQyMjJmZmbc3NwAAACOMKdoAAAAAXRSTlMAQObYZgAAAFBJREFU\n",
       "CNdj4Lt7egEDw0sGju8MDNMYGOIZGFwSGOYvYDifwHAfKAEUSQASzJ9ATJ4NIPI2iOCYACJrGfge\n",
       "MDBfYGB8wPBUSekqUPH//18ZAIliFhc3zESNAAAAAElFTkSuQmCC\n",
       "\" style=\"display:inline;vertical-align:middle;\" /></a></td></tr>\n",
       "<tr><td>6</td><td>Variable</td><td></td><td><a class=\"ProveItLink\" href=\"../../../../__pv_it/6840a4fa6c106149dc16a131294d0c5e44f1b0480/expr.ipynb\"><img src=\"data:image/png;base64,iVBORw0KGgoAAAANSUhEUgAAAAkAAAAOBAMAAAAPuiubAAAALVBMVEX///9mZmbMzMxERESYmJiI\n",
       "iIh2dna6urqqqqoyMjIiIiIQEBBUVFTu7u4AAAD9S1JeAAAAAXRSTlMAQObYZgAAAE1JREFUCNdj\n",
       "4D29gAEIOA+ASL4GEFl3AURmgQiGOaFHGBh4HzPwKTBwvGXgTmBgnMDAJ8DAJcBQ5wBSLncBJLWN\n",
       "gYGngRFoBO9REQYGAGrcDtUkVqASAAAAAElFTkSuQmCC\n",
       "\" style=\"display:inline;vertical-align:middle;\" /></a></td></tr>\n",
       "<tr><td>7</td><td>Variable</td><td></td><td><a class=\"ProveItLink\" href=\"../../../../__pv_it/cbdfda466482236edba0ce44ac7ef39cda0af7a40/expr.ipynb\"><img src=\"data:image/png;base64,iVBORw0KGgoAAAANSUhEUgAAAAkAAAAJBAMAAAASvxsjAAAALVBMVEX///9mZmbc3NxUVFSYmJhE\n",
       "REQiIiIyMjK6uroQEBDMzMyIiIh2dnbu7u4AAABgFDGoAAAAAXRSTlMAQObYZgAAADZJREFUCNdj\n",
       "YOA9s3sBA8PKBvYEBt7ZDKwODMwPGICALwBE6m0Asx0YGIDiAgw8QJUyu/cyAAAmuwmycZ8WfQAA\n",
       "AABJRU5ErkJggg==\n",
       "\" style=\"display:inline;vertical-align:middle;\" /></a></td></tr>\n",
       "<tr><td>8</td><td>Literal</td><td></td><td><a class=\"ProveItLink\" href=\"../../../numeral/__pv_it/9176d93c83afa2c995b614976e3cb49207102fa70/expr.ipynb\"><img src=\"data:image/png;base64,iVBORw0KGgoAAAANSUhEUgAAAAoAAAAOBAMAAADkjZCYAAAAMFBMVEX///+YmJju7u4QEBBUVFQy\n",
       "MjIiIiKIiIi6urpmZmbc3NyqqqpERER2dnbMzMwAAAB0GlNiAAAAAXRSTlMAQObYZgAAAE1JREFU\n",
       "CNdjYHh79zQDA9cEhv4CBt7fDPwJDNxgEgiAIkAQAsR8Vx1ATIbiBhDJ/ImB6wEDz0cG/U8gkj+A\n",
       "ge0XA7sAQ/8FBoadM6MZAEflFACalZ/OAAAAAElFTkSuQmCC\n",
       "\" style=\"display:inline;vertical-align:middle;\" /></a></td></tr>\n",
       "</table>\n"
      ],
      "text/plain": [
       "0. a + a + 1 + 2 + c + b + b + c + c + 3\n",
       "   core type: Operation\n",
       "   operator: 1\n",
       "   operands: 2\n",
       "1. +\n",
       "   core type: Literal\n",
       "   sub-expressions: \n",
       "2. (a , a , 1 , 2 , c , b , b , c , c , 3)\n",
       "   core type: ExprTuple\n",
       "   sub-expressions: 3, 3, 4, 5, 7, 6, 6, 7, 7, 8\n",
       "3. a\n",
       "   core type: Variable\n",
       "   sub-expressions: \n",
       "4. 1\n",
       "   core type: Literal\n",
       "   sub-expressions: \n",
       "5. 2\n",
       "   core type: Literal\n",
       "   sub-expressions: \n",
       "6. b\n",
       "   core type: Variable\n",
       "   sub-expressions: \n",
       "7. c\n",
       "   core type: Variable\n",
       "   sub-expressions: \n",
       "8. 3\n",
       "   core type: Literal\n",
       "   sub-expressions: "
      ]
     },
     "execution_count": 4,
     "metadata": {},
     "output_type": "execute_result"
    }
   ],
   "source": [
    "# display the expression information\n",
    "expr.exprInfo()"
   ]
  },
  {
   "cell_type": "code",
   "execution_count": null,
   "metadata": {},
   "outputs": [],
   "source": []
  }
 ],
 "metadata": {
  "kernelspec": {
   "display_name": "Python 3",
   "language": "python",
   "name": "python3"
  }
 },
 "nbformat": 4,
 "nbformat_minor": 0
}
