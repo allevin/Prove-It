{
 "cells": [
  {
   "cell_type": "markdown",
   "metadata": {},
   "source": [
    "Expression of type <a class=\"ProveItLink\" href=\"../../../../../../doc/html/api/proveit.number.Add.html\">Add</a>\n",
    "=======================\n",
    "# from context <a class=\"ProveItLink\" href=\"../../_context_.ipynb\">proveit.number.addition</a>"
   ]
  },
  {
   "cell_type": "code",
   "execution_count": 1,
   "metadata": {},
   "outputs": [],
   "source": [
    "# import Expression classes needed to build the expression\n",
    "from proveit import Variable\n",
    "from proveit._common_ import B, C, a, b, c\n",
    "from proveit.number import Add, one, three"
   ]
  },
  {
   "cell_type": "code",
   "execution_count": 2,
   "metadata": {},
   "outputs": [
    {
     "data": {
      "text/html": [
       "<strong id=\"expr\">expr:</strong> <a class=\"ProveItLink\" href=\"../36ce5d3d8354ac33bf187bc02ff1570256e190a40/expr.ipynb\"><img src=\"data:image/png;base64,iVBORw0KGgoAAAANSUhEUgAAAV0AAAAVBAMAAAAX2iAxAAAAMFBMVEX///8yMjKqqqrMzMzu7u4i\n",
       "IiJmZmaYmJhEREQQEBC6urp2dnaIiIhUVFTc3NwAAAD87Fq/AAAAAXRSTlMAQObYZgAAAt1JREFU\n",
       "SMftl09o02AYxp826f82baFzXoSC10F7VETM0TFnd5p4EFfBXUTNWZF1IMwdZCKTyQQ3DwrCDgVB\n",
       "RAsWhAlzY5uHnVpaFHZRWd2mk/31S7bi3i/flm897WAghT59nye/fHnzJgX+bwfbgkXp0luNHaH9\n",
       "kU26s1Uu947y6rn73ca8U9pptvt1XuUV5d2bJLzpxoCP2aXHgHeV00JDwIshp7AEoA7wvDZlHsF1\n",
       "IEa0807R9YJFm0NhYcoGFdUmdszQ5h7ZdSFchFqu6FS1K++T+AXcJhEtTrw7BcFlmyPMsHxrVHQN\n",
       "mrUP9siuCwETbFrnA3klZfG2NsQb6rA5/AzLM0jFm0n2oXU58D6DFC+sfvCzSK309qkw89vUl/Gi\n",
       "6Biu0pTBOaIz0I7qRNR+Wlc2TSvbCh+ocE2W1zXDVoqd/cuqvybiVfO+C4EOEW8mhyXOcaY0edWg\n",
       "Vd4VgVUZRhO1NkvynjJvcncM2gq8ORFvCOGaOy3iTel4wsdXoV6iVZ5NgbW1iD5qHZZd3/CwdTdE\n",
       "avAUheuLSE7cc1ngN+foNw9BmyRa204hYsXWv6uyvBjRodQQzSFjrmI2Hr8Yj5PJGiDd+6+gE8EV\n",
       "zmGOsp48EQMW73Fq/cNn7ebdHcgrX4EBw+RdKCIFXXgPL6Shi9Z3Ed5levKKyV9JEjFi1XQRq7Zu\n",
       "W9+HUuurbukmL+uHTBKzO21KeX3VaYSFvEsI5Gm8OX6358GuW8tkC3Eg7Lx81Non1w8s/HIVvhhc\n",
       "hrszJOrflNGP78L+/YzrXLw5fk8mOLEnieANzjoHvKJVr+V4PyK4Zs0zrTRxYoL85L7Htrs4+6mt\n",
       "YNS/kIL2cX50DWyUZ5v5K63Mzl3hT9VbmKRTGs/Z3j1yhBvoNsXdnWXt5hpt5Pnm4Gg5kDVQ3d9L\n",
       "FPo8HnPiHXMU5MW64Mvv7yVK4RC8ryfkS9XYIeD9IV8aqR4CXk3+/xB7VfoLk9jZNnjORsIAAAAA\n",
       "SUVORK5CYII=\n",
       "\" style=\"display:inline;vertical-align:middle;\" /></a><br>"
      ],
      "text/plain": [
       "expr: a + _x_ + b + B + C + c + (1 + 1 + 3)"
      ]
     },
     "execution_count": 2,
     "metadata": {},
     "output_type": "execute_result"
    }
   ],
   "source": [
    "# build up the expression from sub-expressions\n",
    "expr = Add(a, Variable(\"_x_\", latexFormat = r\"{_{-}x_{-}}\"), b, B, C, c, Add(one, one, three))"
   ]
  },
  {
   "cell_type": "code",
   "execution_count": 3,
   "metadata": {},
   "outputs": [
    {
     "name": "stdout",
     "output_type": "stream",
     "text": [
      "Passed sanity check: built 'expr' is the same as the stored Expression.\n"
     ]
    }
   ],
   "source": [
    "# check that the built expression is the same as the stored expression\n",
    "%check_expr"
   ]
  },
  {
   "cell_type": "code",
   "execution_count": 4,
   "metadata": {},
   "outputs": [
    {
     "data": {
      "text/html": [
       "<table><tr><th>&nbsp;</th><th>core type</th><th>sub-expressions</th><th>expression</th></tr>\n",
       "<tr><td>0</td><td>Operation</td><td>operator:&nbsp;9<br>operands:&nbsp;1<br></td><td><a class=\"ProveItLink\" href=\"../36ce5d3d8354ac33bf187bc02ff1570256e190a40/expr.ipynb\"><img src=\"data:image/png;base64,iVBORw0KGgoAAAANSUhEUgAAAV0AAAAVBAMAAAAX2iAxAAAAMFBMVEX///8yMjKqqqrMzMzu7u4i\n",
       "IiJmZmaYmJhEREQQEBC6urp2dnaIiIhUVFTc3NwAAAD87Fq/AAAAAXRSTlMAQObYZgAAAt1JREFU\n",
       "SMftl09o02AYxp826f82baFzXoSC10F7VETM0TFnd5p4EFfBXUTNWZF1IMwdZCKTyQQ3DwrCDgVB\n",
       "RAsWhAlzY5uHnVpaFHZRWd2mk/31S7bi3i/flm897WAghT59nye/fHnzJgX+bwfbgkXp0luNHaH9\n",
       "kU26s1Uu947y6rn73ca8U9pptvt1XuUV5d2bJLzpxoCP2aXHgHeV00JDwIshp7AEoA7wvDZlHsF1\n",
       "IEa0807R9YJFm0NhYcoGFdUmdszQ5h7ZdSFchFqu6FS1K++T+AXcJhEtTrw7BcFlmyPMsHxrVHQN\n",
       "mrUP9siuCwETbFrnA3klZfG2NsQb6rA5/AzLM0jFm0n2oXU58D6DFC+sfvCzSK309qkw89vUl/Gi\n",
       "6Biu0pTBOaIz0I7qRNR+Wlc2TSvbCh+ocE2W1zXDVoqd/cuqvybiVfO+C4EOEW8mhyXOcaY0edWg\n",
       "Vd4VgVUZRhO1NkvynjJvcncM2gq8ORFvCOGaOy3iTel4wsdXoV6iVZ5NgbW1iD5qHZZd3/CwdTdE\n",
       "avAUheuLSE7cc1ngN+foNw9BmyRa204hYsXWv6uyvBjRodQQzSFjrmI2Hr8Yj5PJGiDd+6+gE8EV\n",
       "zmGOsp48EQMW73Fq/cNn7ebdHcgrX4EBw+RdKCIFXXgPL6Shi9Z3Ed5levKKyV9JEjFi1XQRq7Zu\n",
       "W9+HUuurbukmL+uHTBKzO21KeX3VaYSFvEsI5Gm8OX6358GuW8tkC3Eg7Lx81Non1w8s/HIVvhhc\n",
       "hrszJOrflNGP78L+/YzrXLw5fk8mOLEnieANzjoHvKJVr+V4PyK4Zs0zrTRxYoL85L7Htrs4+6mt\n",
       "YNS/kIL2cX50DWyUZ5v5K63Mzl3hT9VbmKRTGs/Z3j1yhBvoNsXdnWXt5hpt5Pnm4Gg5kDVQ3d9L\n",
       "FPo8HnPiHXMU5MW64Mvv7yVK4RC8ryfkS9XYIeD9IV8aqR4CXk3+/xB7VfoLk9jZNnjORsIAAAAA\n",
       "SUVORK5CYII=\n",
       "\" style=\"display:inline;vertical-align:middle;\" /></a></td></tr>\n",
       "<tr><td>1</td><td>ExprTuple</td><td>2, 3, 4, 5, 6, 7, 8</td><td><a class=\"ProveItLink\" href=\"../efe6a832b24d43d8d88c65aac9fada5ffa5ea4540/expr.ipynb\"><img src=\"data:image/png;base64,iVBORw0KGgoAAAANSUhEUgAAAPkAAAAVBAMAAAB251VaAAAAMFBMVEX////c3NwiIiJERESqqqqY\n",
       "mJh2dnZmZmYQEBDu7u4yMjJUVFTMzMyIiIi6uroAAAAs73DqAAAAAXRSTlMAQObYZgAAAtNJREFU\n",
       "SMfFVs9rE0EU/mqySTZpNjmIgj9oLqX1ZECE9tT8AyV78qgBoeqhtiC2Ug+tIh4EzaogxQrJRdQU\n",
       "RFAQDKULggg9JCBapPaHXhRBiJJWtNX4Zmd2m9kYuwGhCxm+95h53773vjdZYHsfrbxNxEfZMudl\n",
       "59RFGymz68XHD21LffX0bNuwa7PPwBae9oHjKQRNQg88vei0g0JJYHxFGCd1aOd0eava52Zv8OyG\n",
       "9gvIA1Fvha86qEQHSo84vn2AlqG4TFWctbmuN/MMpfANOEKpGJ7E8cOBy0R2LMPxfXb4k3vzsh2y\n",
       "v5knbbFPAp89pR5IOLCHft08WrDKy9gyO6zK+1IYIdg2c/qCdH7Xws55qSPhmQW7u+vAnl4OO/Js\n",
       "vSPqO7BoemcPU+8Cw7jLahf3VaTWZZTOUKLek0tiQ8h1fXG+U3jH6/X2ciWc8Mz+gqnYn8c1Sn0V\n",
       "waRUZ0QrfrPekzZwmaPoV+CGEN3BOr2pV+HTveceJV5tAr+BSAU7pDqriCTlVo4B38XoTtDRVY5r\n",
       "1sojRyot9R1ZA+0Vxh5LImfKbCHXHHZBE4wxyltZExHYIooUS7rYxwqF7kJh+q+efUCfztgvkXjK\n",
       "SEMevA5TdlQRFDNXovJGxPRbYxwUJ8rec1drBmOnyh8mSaXwzG+qm1xKfBlRh52BDYQy/H3YuDOt\n",
       "G+LiwSmOY/RWuuqx8j8tzSh5nCD16/6uAHKbIk/rPdjviIDuBTzBeQ7YuLdfMbihUA0+xjmODCNg\n",
       "8hhbs7+GtmZN3Ac27kvPlzBJYvYfoqcXN9/cGtRtQ81StlPzOgdnasVigdK0DMxNj6ZsPLL41oqB\n",
       "0ew9XWZv8PhHx+hceAUhZ2reN7tl427gNrQmMfobYkkeummVjG3oTdiVBuA2NrEc40tDLMkzWP8P\n",
       "+//Z//2o7J7ea98+zXaVG4DbcHC0lW+bCOtX23Z9Wb0D/gDLJ+Z9+a1ITAAAAABJRU5ErkJggg==\n",
       "\" style=\"display:inline;vertical-align:middle;\" /></a></td></tr>\n",
       "<tr><td>2</td><td>Variable</td><td></td><td><a class=\"ProveItLink\" href=\"../../../../__pv_it/07527342713064c87612d00d8557c53d53d5324a0/expr.ipynb\"><img src=\"data:image/png;base64,iVBORw0KGgoAAAANSUhEUgAAAAsAAAAJBAMAAAAWSsseAAAAMFBMVEX///8yMjKqqqrMzMzu7u4i\n",
       "IiJmZmaYmJhEREQQEBC6urp2dnaIiIhUVFTc3NwAAAD87Fq/AAAAAXRSTlMAQObYZgAAAEhJREFU\n",
       "CNdjYOC7s2seAwPDygccHxgY+L4zsDUwMPB+YGA9wMDA38Dgb8DA8P4Agz6DA4O/AsNFJgMGxgKm\n",
       "MG6gyjunLE4xAAAZTBA5TB6DCwAAAABJRU5ErkJggg==\n",
       "\" style=\"display:inline;vertical-align:middle;\" /></a></td></tr>\n",
       "<tr><td>3</td><td>Variable</td><td></td><td><a class=\"ProveItLink\" href=\"../../../../logic/__pv_it/5144cf74ae6a683b49b974f1b9302b432abf7e930/expr.ipynb\"><img src=\"data:image/png;base64,iVBORw0KGgoAAAANSUhEUgAAACUAAAAJBAMAAABH3vh9AAAAKlBMVEX////MzMwQEBAiIiKYmJhm\n",
       "ZmZUVFSIiIh2dnbc3Nzu7u5ERESqqqoAAABwkVEpAAAAAXRSTlMAQObYZgAAAEtJREFUCNdjYIAA\n",
       "zvbM4+EMqGAFg7ODMppYA0Mtw0E0sQUM2QyYQB1TiPMiAxeakCf7BYYqVCGeK9wKnAUw3undQLCA\n",
       "a3tXRwmMAwC3+RVNp6j0GAAAAABJRU5ErkJggg==\n",
       "\" style=\"display:inline;vertical-align:middle;\" /></a></td></tr>\n",
       "<tr><td>4</td><td>Variable</td><td></td><td><a class=\"ProveItLink\" href=\"../../../../__pv_it/6840a4fa6c106149dc16a131294d0c5e44f1b0480/expr.ipynb\"><img src=\"data:image/png;base64,iVBORw0KGgoAAAANSUhEUgAAAAkAAAAOBAMAAAAPuiubAAAALVBMVEX///9mZmbMzMxERESYmJiI\n",
       "iIh2dna6urqqqqoyMjIiIiIQEBBUVFTu7u4AAAD9S1JeAAAAAXRSTlMAQObYZgAAAE1JREFUCNdj\n",
       "4D29gAEIOA+ASL4GEFl3AURmgQiGOaFHGBh4HzPwKTBwvGXgTmBgnMDAJ8DAJcBQ5wBSLncBJLWN\n",
       "gYGngRFoBO9REQYGAGrcDtUkVqASAAAAAElFTkSuQmCC\n",
       "\" style=\"display:inline;vertical-align:middle;\" /></a></td></tr>\n",
       "<tr><td>5</td><td>Variable</td><td></td><td><a class=\"ProveItLink\" href=\"../../../../__pv_it/077b2ff79244fb4582cbe22c6e3356fa92a52f2f0/expr.ipynb\"><img src=\"data:image/png;base64,iVBORw0KGgoAAAANSUhEUgAAABAAAAAOBAMAAADUAYG5AAAAMFBMVEX///+qqqru7u4iIiJ2dnbc\n",
       "3NyIiIjMzMxmZmYQEBC6uroyMjJERERUVFSYmJgAAADLUcuvAAAAAXRSTlMAQObYZgAAAGpJREFU\n",
       "CNdjYGB4+//u3dMLGIBgDgMDxy8gzf4NiP8CGWxfGRj4vgAZPBMYGJgnARn8FxhY9ygAGfXX0pof\n",
       "gDTlBzAw2YIYJ0EckBBI53sHoBH/gIz7AhBjWH9DjancBLTl/N+7t/cxMAAA3u4f/5xagjYAAAAA\n",
       "SUVORK5CYII=\n",
       "\" style=\"display:inline;vertical-align:middle;\" /></a></td></tr>\n",
       "<tr><td>6</td><td>Variable</td><td></td><td><a class=\"ProveItLink\" href=\"../../../../__pv_it/985a1bdf1540838275dec15f4ad6de261cca93ce0/expr.ipynb\"><img src=\"data:image/png;base64,iVBORw0KGgoAAAANSUhEUgAAAA8AAAAOBAMAAAACpFvcAAAAMFBMVEX////MzMyqqqoiIiIyMjK6\n",
       "uroQEBB2dnbc3NyYmJhmZmZUVFRERESIiIju7u4AAAB204erAAAAAXRSTlMAQObYZgAAAGZJREFU\n",
       "CNdjYGDgu7NrJccCBgaGsgkMrMsmMDA8sQNy6hsYGNweABlhDAxcn4A0QxcDQ78DiPGQgWH9BAYI\n",
       "sG+AMv6DSaCGfBDNJMDAsB+kmwuI5S8AiTog5gSaEwXWIO29SgFIAQBC+RaDQlidVgAAAABJRU5E\n",
       "rkJggg==\n",
       "\" style=\"display:inline;vertical-align:middle;\" /></a></td></tr>\n",
       "<tr><td>7</td><td>Variable</td><td></td><td><a class=\"ProveItLink\" href=\"../../../../__pv_it/cbdfda466482236edba0ce44ac7ef39cda0af7a40/expr.ipynb\"><img src=\"data:image/png;base64,iVBORw0KGgoAAAANSUhEUgAAAAkAAAAJBAMAAAASvxsjAAAALVBMVEX///9mZmbc3NxUVFSYmJhE\n",
       "REQiIiIyMjK6uroQEBDMzMyIiIh2dnbu7u4AAABgFDGoAAAAAXRSTlMAQObYZgAAADZJREFUCNdj\n",
       "YOA9s3sBA8PKBvYEBt7ZDKwODMwPGICALwBE6m0Asx0YGIDiAgw8QJUyu/cyAAAmuwmycZ8WfQAA\n",
       "AABJRU5ErkJggg==\n",
       "\" style=\"display:inline;vertical-align:middle;\" /></a></td></tr>\n",
       "<tr><td>8</td><td>Operation</td><td>operator:&nbsp;9<br>operands:&nbsp;10<br></td><td><a class=\"ProveItLink\" href=\"../46607f0c120fde56305f47811ff1fd5cf39c9d5f0/expr.ipynb\"><img src=\"data:image/png;base64,iVBORw0KGgoAAAANSUhEUgAAAFAAAAAQBAMAAABzZ+XyAAAAMFBMVEX///92dnbMzMy6uroiIiKq\n",
       "qqrc3NyYmJgyMjIQEBBmZmaIiIhUVFTu7u5EREQAAADaqMZ6AAAAAXRSTlMAQObYZgAAAJZJREFU\n",
       "KM9jYGB4y4AO0EUUBZ8CyXt/0dWhi7AtYLDfwHDnDEyYNwFCY4gwfmXgd2Bg4IYJs26AMtBFWIlV\n",
       "CARAq4lT2MNAlEImiQMMRJq404BIhZx/YcJcHR0tMzo6DiAUIkTYFBj4vhNj4v2/RCrkb2Bg+UaM\n",
       "Qu4CBnsBBq6VP5ajKsQUiVrVihz3CD/iFgED5g34RADQ3U9fwaTGEQAAAABJRU5ErkJggg==\n",
       "\" style=\"display:inline;vertical-align:middle;\" /></a></td></tr>\n",
       "<tr><td>9</td><td>Literal</td><td></td><td><a class=\"ProveItLink\" href=\"../3e6688136fa3c7aefbebe51301b7c3ebf0b69c440/expr.ipynb\"><img src=\"data:image/png;base64,iVBORw0KGgoAAAANSUhEUgAAAA4AAAAOBAMAAADtZjDiAAAAJFBMVEX///+6urpUVFQQEBAiIiIy\n",
       "MjJmZmaIiIiqqqrc3Nzu7u4AAACgHpL+AAAAAXRSTlMAQObYZgAAAB5JREFUCNdjYGBgWMkAAe2k\n",
       "0Kmhoc6hoUGk6BMHYgAHOwjcado9fwAAAABJRU5ErkJggg==\n",
       "\" style=\"display:inline;vertical-align:middle;\" /></a></td></tr>\n",
       "<tr><td>10</td><td>ExprTuple</td><td>11, 11, 12</td><td><a class=\"ProveItLink\" href=\"../fd889ee7e03cc2b9a48cfaca3abd4ef8b27e362e0/expr.ipynb\"><img src=\"data:image/png;base64,iVBORw0KGgoAAAANSUhEUgAAAD0AAAAVBAMAAAAHs/uBAAAAMFBMVEX////c3NwiIiJERESqqqqY\n",
       "mJh2dnZmZmYQEBDu7u4yMjJUVFTMzMyIiIi6uroAAAAs73DqAAAAAXRSTlMAQObYZgAAAP1JREFU\n",
       "KM9jYCAE+C7glIoDEaeBmHkCTAjG4klLdmBgPwBkrWRg4LSHycNZ4gx8fxkYFjAw8F5g4Ny9HyqK\n",
       "YOU7MHxiYAhjYOAACdyHmw9j+YPlZzAwvGLAKs8ANp/ZgaEMlzzXBgYGtgKGpTjkj60GEiwLGPpw\n",
       "6ecFyvA1MPzDJc/QP4GB5wMueRkGBvsAkHwLVnnO/xNA8kDzTWGiExiQWb8YGPQFGFgXMKRDRTk/\n",
       "MSCzrjLwfQP77xGQU96/PICzXwCZxVJe5QAMgwcMHAKw8BJgwGABw5c1AcpmhXsMwcqFxC8ueU5g\n",
       "/DJIQzmIZARncYMsYsSdvu4wMAAAXVRXk7Z367QAAAAASUVORK5CYII=\n",
       "\" style=\"display:inline;vertical-align:middle;\" /></a></td></tr>\n",
       "<tr><td>11</td><td>Literal</td><td></td><td><a class=\"ProveItLink\" href=\"../../../numeral/__pv_it/9be8badea4c35b9724062cecc501d17a3158d1d20/expr.ipynb\"><img src=\"data:image/png;base64,iVBORw0KGgoAAAANSUhEUgAAAAgAAAAPBAMAAAArJJMAAAAAHlBMVEX///+YmJgyMjIQEBBmZmaI\n",
       "iIhUVFTu7u5EREQAAAAw+MI4AAAAAXRSTlMAQObYZgAAACFJREFUCNdjYGBoZ2BgqJjOwFCWBiQY\n",
       "WEklWJwnOTKAAACjEQo8HvEr3AAAAABJRU5ErkJggg==\n",
       "\" style=\"display:inline;vertical-align:middle;\" /></a></td></tr>\n",
       "<tr><td>12</td><td>Literal</td><td></td><td><a class=\"ProveItLink\" href=\"../../../numeral/__pv_it/9176d93c83afa2c995b614976e3cb49207102fa70/expr.ipynb\"><img src=\"data:image/png;base64,iVBORw0KGgoAAAANSUhEUgAAAAoAAAAOBAMAAADkjZCYAAAAMFBMVEX///+YmJju7u4QEBBUVFQy\n",
       "MjIiIiKIiIi6urpmZmbc3NyqqqpERER2dnbMzMwAAAB0GlNiAAAAAXRSTlMAQObYZgAAAE1JREFU\n",
       "CNdjYHh79zQDA9cEhv4CBt7fDPwJDNxgEgiAIkAQAsR8Vx1ATIbiBhDJ/ImB6wEDz0cG/U8gkj+A\n",
       "ge0XA7sAQ/8FBoadM6MZAEflFACalZ/OAAAAAElFTkSuQmCC\n",
       "\" style=\"display:inline;vertical-align:middle;\" /></a></td></tr>\n",
       "</table>\n"
      ],
      "text/plain": [
       "0. a + _x_ + b + B + C + c + (1 + 1 + 3)\n",
       "   core type: Operation\n",
       "   operator: 9\n",
       "   operands: 1\n",
       "1. (a , _x_ , b , B , C , c , 1 + 1 + 3)\n",
       "   core type: ExprTuple\n",
       "   sub-expressions: 2, 3, 4, 5, 6, 7, 8\n",
       "2. a\n",
       "   core type: Variable\n",
       "   sub-expressions: \n",
       "3. _x_\n",
       "   core type: Variable\n",
       "   sub-expressions: \n",
       "4. b\n",
       "   core type: Variable\n",
       "   sub-expressions: \n",
       "5. B\n",
       "   core type: Variable\n",
       "   sub-expressions: \n",
       "6. C\n",
       "   core type: Variable\n",
       "   sub-expressions: \n",
       "7. c\n",
       "   core type: Variable\n",
       "   sub-expressions: \n",
       "8. 1 + 1 + 3\n",
       "   core type: Operation\n",
       "   operator: 9\n",
       "   operands: 10\n",
       "9. +\n",
       "   core type: Literal\n",
       "   sub-expressions: \n",
       "10. (1 , 1 , 3)\n",
       "    core type: ExprTuple\n",
       "    sub-expressions: 11, 11, 12\n",
       "11. 1\n",
       "    core type: Literal\n",
       "    sub-expressions: \n",
       "12. 3\n",
       "    core type: Literal\n",
       "    sub-expressions: "
      ]
     },
     "execution_count": 4,
     "metadata": {},
     "output_type": "execute_result"
    }
   ],
   "source": [
    "# display the expression information\n",
    "expr.exprInfo()"
   ]
  },
  {
   "cell_type": "code",
   "execution_count": null,
   "metadata": {},
   "outputs": [],
   "source": []
  }
 ],
 "metadata": {
  "kernelspec": {
   "display_name": "Python 3",
   "language": "python",
   "name": "python3"
  }
 },
 "nbformat": 4,
 "nbformat_minor": 0
}
