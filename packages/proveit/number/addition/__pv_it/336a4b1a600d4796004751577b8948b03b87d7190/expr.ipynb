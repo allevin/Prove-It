{
 "cells": [
  {
   "cell_type": "markdown",
   "metadata": {},
   "source": [
    "Expression of type <a class=\"ProveItLink\" href=\"../../../../../../doc/html/api/proveit.number.Add.html\">Add</a>\n",
    "=======================\n",
    "# from context <a class=\"ProveItLink\" href=\"../../_context_.ipynb\">proveit.number.addition</a>"
   ]
  },
  {
   "cell_type": "code",
   "execution_count": 1,
   "metadata": {},
   "outputs": [],
   "source": [
    "# import Expression classes needed to build the expression\n",
    "from proveit._common_ import b\n",
    "from proveit.number import Add"
   ]
  },
  {
   "cell_type": "code",
   "execution_count": 2,
   "metadata": {},
   "outputs": [
    {
     "data": {
      "text/html": [
       "<strong id=\"expr\">expr:</strong> <a class=\"ProveItLink\" href=\"expr.ipynb\"><img src=\"data:image/png;base64,iVBORw0KGgoAAAANSUhEUgAAAE4AAAAQBAMAAABKAFSpAAAAMFBMVEX////c3NxmZmbMzMxERESY\n",
       "mJiIiIh2dna6urqqqqoyMjIiIiIQEBBUVFTu7u4AAAAiO1wTAAAAAXRSTlMAQObYZgAAAO1JREFU\n",
       "KM9lkTsKwkAQhn/SGKMmHsHGRhA9gkfIEcTCTrC3t42VrdYrgljbC9rYKAgW8QAi+CjSBDO6k324\n",
       "xczux8cy+y/8ywrG+gO47al6Bwv/ASypBBN5usqeA78qNwmVKJanqew5KHZ/3U2pjmB5OWCv8B14\n",
       "2T+aXg7Y806DEP4LQVv3FGDv3sETxRTloe4pwN4sxhbOHEFN9xRgrwE8UKohCrO9EBshKCgJHCEW\n",
       "OyEoyzXcN6XVivX7FOD7Ejgpzbw13qsAe08auDJxDoanAHtnNLMYTnUzZwXYu/VC/ben9vezZ62x\n",
       "DVzN+wB3W0tlHU5/FgAAAABJRU5ErkJggg==\n",
       "\" style=\"display:inline;vertical-align:middle;\" /></a><br>"
      ],
      "text/plain": [
       "expr: b + b + b"
      ]
     },
     "execution_count": 2,
     "metadata": {},
     "output_type": "execute_result"
    }
   ],
   "source": [
    "# build up the expression from sub-expressions\n",
    "expr = Add(b, b, b)"
   ]
  },
  {
   "cell_type": "code",
   "execution_count": 3,
   "metadata": {},
   "outputs": [
    {
     "name": "stdout",
     "output_type": "stream",
     "text": [
      "Passed sanity check: built 'expr' is the same as the stored Expression.\n"
     ]
    }
   ],
   "source": [
    "# check that the built expression is the same as the stored expression\n",
    "%check_expr"
   ]
  },
  {
   "cell_type": "code",
   "execution_count": 4,
   "metadata": {},
   "outputs": [
    {
     "data": {
      "text/html": [
       "<table><tr><th>&nbsp;</th><th>core type</th><th>sub-expressions</th><th>expression</th></tr>\n",
       "<tr><td>0</td><td>Operation</td><td>operator:&nbsp;1<br>operands:&nbsp;2<br></td><td><a class=\"ProveItLink\" href=\"expr.ipynb\"><img src=\"data:image/png;base64,iVBORw0KGgoAAAANSUhEUgAAAE4AAAAQBAMAAABKAFSpAAAAMFBMVEX////c3NxmZmbMzMxERESY\n",
       "mJiIiIh2dna6urqqqqoyMjIiIiIQEBBUVFTu7u4AAAAiO1wTAAAAAXRSTlMAQObYZgAAAO1JREFU\n",
       "KM9lkTsKwkAQhn/SGKMmHsHGRhA9gkfIEcTCTrC3t42VrdYrgljbC9rYKAgW8QAi+CjSBDO6k324\n",
       "xczux8cy+y/8ywrG+gO47al6Bwv/ASypBBN5usqeA78qNwmVKJanqew5KHZ/3U2pjmB5OWCv8B14\n",
       "2T+aXg7Y806DEP4LQVv3FGDv3sETxRTloe4pwN4sxhbOHEFN9xRgrwE8UKohCrO9EBshKCgJHCEW\n",
       "OyEoyzXcN6XVivX7FOD7Ejgpzbw13qsAe08auDJxDoanAHtnNLMYTnUzZwXYu/VC/ben9vezZ62x\n",
       "DVzN+wB3W0tlHU5/FgAAAABJRU5ErkJggg==\n",
       "\" style=\"display:inline;vertical-align:middle;\" /></a></td></tr>\n",
       "<tr><td>1</td><td>Literal</td><td></td><td><a class=\"ProveItLink\" href=\"../3e6688136fa3c7aefbebe51301b7c3ebf0b69c440/expr.ipynb\"><img src=\"data:image/png;base64,iVBORw0KGgoAAAANSUhEUgAAAA4AAAAOBAMAAADtZjDiAAAAJFBMVEX///+6urpUVFQQEBAiIiIy\n",
       "MjJmZmaIiIiqqqrc3Nzu7u4AAACgHpL+AAAAAXRSTlMAQObYZgAAAB5JREFUCNdjYGBgWMkAAe2k\n",
       "0Kmhoc6hoUGk6BMHYgAHOwjcado9fwAAAABJRU5ErkJggg==\n",
       "\" style=\"display:inline;vertical-align:middle;\" /></a></td></tr>\n",
       "<tr><td>2</td><td>ExprTuple</td><td>3, 3, 3</td><td><a class=\"ProveItLink\" href=\"../c21a0a21f22a50fe9404b3289ace12ef9be60db90/expr.ipynb\"><img src=\"data:image/png;base64,iVBORw0KGgoAAAANSUhEUgAAADkAAAAVBAMAAAAOWFv7AAAAMFBMVEX////c3NwiIiJERESqqqqY\n",
       "mJh2dnZmZmYQEBDu7u4yMjJUVFTMzMyIiIi6uroAAAAs73DqAAAAAXRSTlMAQObYZgAAAPlJREFU\n",
       "KM9jYMAP+C7gkIgDEacZOHcoQPioDPYDQNZKBgauDVDlqIwFDAy8QIP5HaCCqIwwBgaOCQwM7ydA\n",
       "BVEZMxgYXgGpJJhDUBnMDgxlQGr13a0QQVQGWwHDUqALPzPwHwA7FZXBsoChj4GB5ScDRwJIEI3B\n",
       "18DwD+ixBQz8BSBBNAbPB5AsUwHD+wCQIBoDKNsC9lz9BKgvkRlAk00ZQA5oY+BkQGcwsC5gSGdg\n",
       "4HZg38AwXwGdAfLRI6D795YCA+YjOoOB6wEDhwA0eB4yoDOAIcmaAGUHMKAzciExiF2WExiDDNIQ\n",
       "Ni9MEs7gBtnJiCvl3GFgAACyJ1L0n4kkiAAAAABJRU5ErkJggg==\n",
       "\" style=\"display:inline;vertical-align:middle;\" /></a></td></tr>\n",
       "<tr><td>3</td><td>Variable</td><td></td><td><a class=\"ProveItLink\" href=\"../../../../__pv_it/6840a4fa6c106149dc16a131294d0c5e44f1b0480/expr.ipynb\"><img src=\"data:image/png;base64,iVBORw0KGgoAAAANSUhEUgAAAAkAAAAOBAMAAAAPuiubAAAALVBMVEX///9mZmbMzMxERESYmJiI\n",
       "iIh2dna6urqqqqoyMjIiIiIQEBBUVFTu7u4AAAD9S1JeAAAAAXRSTlMAQObYZgAAAE1JREFUCNdj\n",
       "4D29gAEIOA+ASL4GEFl3AURmgQiGOaFHGBh4HzPwKTBwvGXgTmBgnMDAJ8DAJcBQ5wBSLncBJLWN\n",
       "gYGngRFoBO9REQYGAGrcDtUkVqASAAAAAElFTkSuQmCC\n",
       "\" style=\"display:inline;vertical-align:middle;\" /></a></td></tr>\n",
       "</table>\n"
      ],
      "text/plain": [
       "0. b + b + b\n",
       "   core type: Operation\n",
       "   operator: 1\n",
       "   operands: 2\n",
       "1. +\n",
       "   core type: Literal\n",
       "   sub-expressions: \n",
       "2. (b , b , b)\n",
       "   core type: ExprTuple\n",
       "   sub-expressions: 3, 3, 3\n",
       "3. b\n",
       "   core type: Variable\n",
       "   sub-expressions: "
      ]
     },
     "execution_count": 4,
     "metadata": {},
     "output_type": "execute_result"
    }
   ],
   "source": [
    "# display the expression information\n",
    "expr.exprInfo()"
   ]
  },
  {
   "cell_type": "code",
   "execution_count": null,
   "metadata": {},
   "outputs": [],
   "source": []
  }
 ],
 "metadata": {
  "kernelspec": {
   "display_name": "Python 3",
   "language": "python",
   "name": "python3"
  }
 },
 "nbformat": 4,
 "nbformat_minor": 0
}
