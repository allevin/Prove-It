{
 "cells": [
  {
   "cell_type": "markdown",
   "metadata": {},
   "source": [
    "Show the Proof\n",
    "========"
   ]
  },
  {
   "cell_type": "code",
   "execution_count": 1,
   "metadata": {},
   "outputs": [
    {
     "data": {
      "text/html": [
       "<table><tr><th>&nbsp;</th><th>step type</th><th>requirements</th><th>statement</th></tr>\n",
       "<tr><td>0</td><td>assumption</td><td></td><td><span style=\"font-size:20px;\"><a class=\"ProveItLink\" href=\"../5bd751119e90627c459e7153befbf604e57cdb780/expr.ipynb\"><img src=\"data:image/png;base64,iVBORw0KGgoAAAANSUhEUgAAAEMAAAAVBAMAAADvM06qAAAAMFBMVEX////c3NxERESqqqpUVFS6\n",
       "urrMzMwyMjIQEBCIiIh2dnYiIiLu7u5mZmaYmJgAAABXZE4RAAAAAXRSTlMAQObYZgAAARNJREFU\n",
       "KM9jYGDgu8eAC7CtEgBRPLsYcAO2ZhDJ+QFThq9e6XtFJYh1HURwNWDRzcTowKZcCGSswKPkAoOO\n",
       "EFYlJ6t3b4cpWcaETQlb3QGEKWhKTq2cBmILHUCyyAduEW8BUHcrQzWIrYjkFtZ9IOe+B/EyAhgY\n",
       "Tkxg0AMFkQJCSffuYhCD/QIDQ0obkOEPkWDt3r0b5tyrF3TAYuoPGBgiEhgYPkFd64Bk0dUUEIN7\n",
       "AZBgKWBg/AmR4NmApIT95AOYW7iA4v+AYQ5i+yEpYXNwQ/a0LwPDMhD7dACSpxczCSAp4V05Exwi\n",
       "jLUJsGj8lMCu/hlbBDC7Q3wEB7ijEVUJH14l4PTCsxNfqmuFuG0x/rQLACBCTheSPzqYAAAAAElF\n",
       "TkSuQmCC\n",
       "\" style=\"display:inline;vertical-align:middle;\" /></a> <a class=\"ProveItLink\" href=\"proof.ipynb\" style=\"text-decoration: none\">&#x22A2;&nbsp;</a><a class=\"ProveItLink\" href=\"../b10c95388a44a46aae63ab68515cfd030d8aa7380/expr.ipynb\"><img src=\"data:image/png;base64,iVBORw0KGgoAAAANSUhEUgAAADEAAAAPBAMAAAC/wjryAAAAMFBMVEX///+qqqpmZmbc3NxUVFSY\n",
       "mJhEREQiIiIyMjK6uroQEBDMzMyIiIh2dnbu7u4AAAA4MM1YAAAAAXRSTlMAQObYZgAAALZJREFU\n",
       "GNNjYEAHEd/yO1YcYMAGEkwYtkkYYJUxYmB7nIAkwHeivLwBKsO7AVlmRxxCD0SG7+6ZDUCKOQ/J\n",
       "NBawabsmcBQAKTYDJJnpEUAe3xoGtgAg/xnCBVblFQJAmuUDhD+rvBzugklsD4A0P9QVW5BczTTb\n",
       "AUjbQ737HNk/fUdBeoCWgOxhCUCS2cICdC6LAtD1IMdXIsnwCiQDGbpnzoEFLLThIZrN0NYvgBQI\n",
       "Iu0Qt0EBADmNMo1PEJ+NAAAAAElFTkSuQmCC\n",
       "\" style=\"display:inline;vertical-align:middle;\" /></a></span></td></tr>\n",
       "</table>"
      ],
      "text/plain": [
       "<proveit._core_.proof._ShowProof at 0x7f94e5cf0860>"
      ]
     },
     "execution_count": 1,
     "metadata": {},
     "output_type": "execute_result"
    }
   ],
   "source": [
    "import proveit\n",
    "%show_proof"
   ]
  },
  {
   "cell_type": "code",
   "execution_count": null,
   "metadata": {},
   "outputs": [],
   "source": []
  }
 ],
 "metadata": {
  "kernelspec": {
   "display_name": "Python 3",
   "language": "python",
   "name": "python3"
  }
 },
 "nbformat": 4,
 "nbformat_minor": 0
}
