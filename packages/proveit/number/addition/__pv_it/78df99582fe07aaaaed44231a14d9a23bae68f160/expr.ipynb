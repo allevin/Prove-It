{
 "cells": [
  {
   "cell_type": "markdown",
   "metadata": {},
   "source": [
    "Expression of type <a class=\"ProveItLink\" href=\"../../../../../../doc/html/api/proveit.ExprTuple.html\">ExprTuple</a>\n",
    "=======================\n",
    "# from context <a class=\"ProveItLink\" href=\"../../_context_.ipynb\">proveit.number.addition</a>"
   ]
  },
  {
   "cell_type": "code",
   "execution_count": 1,
   "metadata": {},
   "outputs": [],
   "source": [
    "# import Expression classes needed to build the expression\n",
    "from proveit import ExprTuple\n",
    "from proveit._common_ import A, a, b\n",
    "from proveit.number import Complexes, Exp, four"
   ]
  },
  {
   "cell_type": "code",
   "execution_count": 2,
   "metadata": {},
   "outputs": [
    {
     "data": {
      "text/html": [
       "<strong id=\"expr\">expr:</strong> <a class=\"ProveItLink\" href=\"expr.ipynb\"><img src=\"data:image/png;base64,iVBORw0KGgoAAAANSUhEUgAAAJIAAAAcBAMAAAB47/sVAAAAMFBMVEX///+qqqp2dnYiIiJERESI\n",
       "iIhmZmYQEBDc3NyYmJgyMjLu7u5UVFTMzMy6uroAAACGxKilAAAAAXRSTlMAQObYZgAAAsFJREFU\n",
       "SMetVU9IFGEU/422u7M77rgQdCjCPXWtSxZBaIeKKNihsA4K7SE89IeWvEgdXMEuITiVh4gOnqQg\n",
       "cohKWCQNDCqWlIJOggsVClGupKaua703M9/M17SQsPvBzPe+99783vve93vfANWPIdRoKCUh/agS\n",
       "6SkhJVmIT1SJ1E5IMyzkrOqA4rsIKWSQ9JaXX7f6XbQQ1NRpXKeDgJqptMP4Pmnx0Z3Huuh1xdeH\n",
       "Do10HcM9G6kDCKdpjgV3GCtKixEhPGaLH22hoO3t0AwbadxChNNtC6Z8tyRtqEXEWeRVUuhNqouy\n",
       "oXR2rphAvYlZVt4IAKk7Vv1F79WsI+gMr2VEAIuly+TM6nArzrFLkKWh0Ka/MM67Va6zi3fEVYdV\n",
       "Lu5z4MFGgnCLeMdKzrj/9FxWfPxNWfOAdKvJdIv3uoOkPa7+hZ6UYlO+p9iFHPRupIRaK8SXPZ+X\n",
       "mDUcabwVZWCnq/+gmPJhlzFME1d9wMQFLwDUFc+ngIG0IzVZuAbMCSRdRlI30UxTIyFNAfuFeiaf\n",
       "X/KC5fNTrY54EaAAs67hWVzenbboIS1BK/tp4LqfHyLugTRDX/ORYtbE3zkx2yIJqMtQipp7TdBz\n",
       "QLjQudRnBJ3CJX930SQjaQKpjEmatpmcXcPQbtgc7HV4bTupCYfwbCgjQhu6L74/wc362WWtvooz\n",
       "TBQq6SNsTye1n+zGm0lZGGf65DhQCbbhFfPQZoFtaphs176cFBkWscCAZOhv+360oPVkoR5fz2Lw\n",
       "9zBGied9PQ8RTa2n2YCxs3xaT+gZtVvgU8uv996NMITGaZq7vfpmpSrOy8wTBqdb5oONGjPQwGd5\n",
       "x+tW2SrzxTPUGUGTw9qscxN5t8r/kXKoiDTodqQqqGHIbSx7eoY3/5jscZieWyzc3OrtG5qufClz\n",
       "QynJGvzz+uz37RogXUINxx8hJboIsz7o7gAAAABJRU5ErkJggg==\n",
       "\" style=\"display:inline;vertical-align:middle;\" /></a><br>"
      ],
      "text/plain": [
       "expr: ((a , A , A , b) , Complexes^{4})"
      ]
     },
     "execution_count": 2,
     "metadata": {},
     "output_type": "execute_result"
    }
   ],
   "source": [
    "# build up the expression from sub-expressions\n",
    "expr = ExprTuple([a, A, A, b], Exp(Complexes, four))"
   ]
  },
  {
   "cell_type": "code",
   "execution_count": 3,
   "metadata": {},
   "outputs": [
    {
     "name": "stdout",
     "output_type": "stream",
     "text": [
      "Passed sanity check: built 'expr' is the same as the stored Expression.\n"
     ]
    }
   ],
   "source": [
    "# check that the built expression is the same as the stored expression\n",
    "%check_expr"
   ]
  },
  {
   "cell_type": "code",
   "execution_count": 4,
   "metadata": {},
   "outputs": [
    {
     "data": {
      "text/html": [
       "<table><tr><th>&nbsp;</th><th>core type</th><th>sub-expressions</th><th>expression</th></tr>\n",
       "<tr><td>0</td><td>ExprTuple</td><td>1, 2</td><td><a class=\"ProveItLink\" href=\"expr.ipynb\"><img src=\"data:image/png;base64,iVBORw0KGgoAAAANSUhEUgAAAJIAAAAcBAMAAAB47/sVAAAAMFBMVEX///+qqqp2dnYiIiJERESI\n",
       "iIhmZmYQEBDc3NyYmJgyMjLu7u5UVFTMzMy6uroAAACGxKilAAAAAXRSTlMAQObYZgAAAsFJREFU\n",
       "SMetVU9IFGEU/422u7M77rgQdCjCPXWtSxZBaIeKKNihsA4K7SE89IeWvEgdXMEuITiVh4gOnqQg\n",
       "cohKWCQNDCqWlIJOggsVClGupKaua703M9/M17SQsPvBzPe+99783vve93vfANWPIdRoKCUh/agS\n",
       "6SkhJVmIT1SJ1E5IMyzkrOqA4rsIKWSQ9JaXX7f6XbQQ1NRpXKeDgJqptMP4Pmnx0Z3Huuh1xdeH\n",
       "Do10HcM9G6kDCKdpjgV3GCtKixEhPGaLH22hoO3t0AwbadxChNNtC6Z8tyRtqEXEWeRVUuhNqouy\n",
       "oXR2rphAvYlZVt4IAKk7Vv1F79WsI+gMr2VEAIuly+TM6nArzrFLkKWh0Ka/MM67Va6zi3fEVYdV\n",
       "Lu5z4MFGgnCLeMdKzrj/9FxWfPxNWfOAdKvJdIv3uoOkPa7+hZ6UYlO+p9iFHPRupIRaK8SXPZ+X\n",
       "mDUcabwVZWCnq/+gmPJhlzFME1d9wMQFLwDUFc+ngIG0IzVZuAbMCSRdRlI30UxTIyFNAfuFeiaf\n",
       "X/KC5fNTrY54EaAAs67hWVzenbboIS1BK/tp4LqfHyLugTRDX/ORYtbE3zkx2yIJqMtQipp7TdBz\n",
       "QLjQudRnBJ3CJX930SQjaQKpjEmatpmcXcPQbtgc7HV4bTupCYfwbCgjQhu6L74/wc362WWtvooz\n",
       "TBQq6SNsTye1n+zGm0lZGGf65DhQCbbhFfPQZoFtaphs176cFBkWscCAZOhv+360oPVkoR5fz2Lw\n",
       "9zBGied9PQ8RTa2n2YCxs3xaT+gZtVvgU8uv996NMITGaZq7vfpmpSrOy8wTBqdb5oONGjPQwGd5\n",
       "x+tW2SrzxTPUGUGTw9qscxN5t8r/kXKoiDTodqQqqGHIbSx7eoY3/5jscZieWyzc3OrtG5qufClz\n",
       "QynJGvzz+uz37RogXUINxx8hJboIsz7o7gAAAABJRU5ErkJggg==\n",
       "\" style=\"display:inline;vertical-align:middle;\" /></a></td></tr>\n",
       "<tr><td>1</td><td>ExprTuple</td><td>3, 4, 4, 5</td><td><a class=\"ProveItLink\" href=\"../4327294450d64eff126e0c8f05c3281e6eb15be10/expr.ipynb\"><img src=\"data:image/png;base64,iVBORw0KGgoAAAANSUhEUgAAAFsAAAAVBAMAAADbSo+2AAAAMFBMVEX////c3NwiIiJERESqqqqY\n",
       "mJh2dnZmZmYQEBDu7u4yMjJUVFTMzMyIiIi6uroAAAAs73DqAAAAAXRSTlMAQObYZgAAAWpJREFU\n",
       "KM+Vk71Lw1AUxU/atEmapsng5qCbjl0EN7M5GhQcpbg4KV10VUEcHKRjt2QREQe7CGIpBBy79A/Q\n",
       "kjqpSyulSAU/7gsmxLwH1sC7/N7jcLkfJ8A/v1JnUuUGC+30a3GWZ+2GQPGJLtLywkDAhQYFDzC4\n",
       "WlbHAjZtCuuAWkuppeVXAfeZrA68pJMbxqeAN1nI2thjSVo7h7HkWR4J+PLhGshXcUb8ZGXj9rSg\n",
       "+MGzNoTpQ/ZwSslHUMrxGiC98SyPoVZQOgAVpw+QiefTbjaHPCsezCqKAyY3y3D9SBIAJzxnqug7\n",
       "TH4EzHSwgp95ynTmwTGNfb/GilkAXBu3sq+F71N0rqi1FFOfx0DOwxYt2JHn8nCZPTTaM5Zq4SXJ\n",
       "uq00wkE+srF377qo0wKlxXcLa1/n7JJkaK1dZpwAqhU11kvutidiMkGuEl2cpNwR8XbSwH/Kw2am\n",
       "Izv98pmIdVa3NPHPdw98A5lJbLJKa6V0AAAAAElFTkSuQmCC\n",
       "\" style=\"display:inline;vertical-align:middle;\" /></a></td></tr>\n",
       "<tr><td>2</td><td>Operation</td><td>operator:&nbsp;6<br>operands:&nbsp;7<br></td><td><a class=\"ProveItLink\" href=\"../ac094b0dfa02191d356d43d28021b9ef452b8a820/expr.ipynb\"><img src=\"data:image/png;base64,iVBORw0KGgoAAAANSUhEUgAAABcAAAAUBAMAAACUkLs9AAAAMFBMVEX////c3NyqqqqYmJhUVFR2\n",
       "dnbu7u66urrMzMxmZmZEREQQEBAyMjIiIiKIiIgAAAB7fvZ0AAAAAXRSTlMAQObYZgAAAIhJREFU\n",
       "GNNjYICDAwgmA9M3JE4qMucZEodDDYnDygbm8N05v3clgyGYw1FfwBb/hO0BmGPgDDT2C9PMmT8N\n",
       "GJgTNgBFpjAwMAJlOBkdgJw8BgaTLwoMmewBCCNbmQyQOOxInCwOJGU8CQ4IDnMAiMMG5S2uAxK1\n",
       "CRAOi9cztqplMIWd93+7Q1gA8EUjI107FbAAAAAASUVORK5CYII=\n",
       "\" style=\"display:inline;vertical-align:middle;\" /></a></td></tr>\n",
       "<tr><td>3</td><td>Variable</td><td></td><td><a class=\"ProveItLink\" href=\"../../../../__pv_it/07527342713064c87612d00d8557c53d53d5324a0/expr.ipynb\"><img src=\"data:image/png;base64,iVBORw0KGgoAAAANSUhEUgAAAAsAAAAJBAMAAAAWSsseAAAAMFBMVEX///8yMjKqqqrMzMzu7u4i\n",
       "IiJmZmaYmJhEREQQEBC6urp2dnaIiIhUVFTc3NwAAAD87Fq/AAAAAXRSTlMAQObYZgAAAEhJREFU\n",
       "CNdjYOC7s2seAwPDygccHxgY+L4zsDUwMPB+YGA9wMDA38Dgb8DA8P4Agz6DA4O/AsNFJgMGxgKm\n",
       "MG6gyjunLE4xAAAZTBA5TB6DCwAAAABJRU5ErkJggg==\n",
       "\" style=\"display:inline;vertical-align:middle;\" /></a></td></tr>\n",
       "<tr><td>4</td><td>Variable</td><td></td><td><a class=\"ProveItLink\" href=\"../../../../__pv_it/2cbe72a7ad6f655694dd697106680215e8489b600/expr.ipynb\"><img src=\"data:image/png;base64,iVBORw0KGgoAAAANSUhEUgAAAA8AAAAOBAMAAAACpFvcAAAALVBMVEX///8QEBBERERUVFS6urqI\n",
       "iIhmZmaqqqrc3Nzu7u6YmJgyMjIiIiLMzMwAAADtIaYWAAAAAXRSTlMAQObYZgAAAFtJREFUCNdj\n",
       "YACBOwxQsA9Kc52bAGG05zVAGAFxDmCaZULdAjBjCsO9ADDDgaEvAUTzGhvbKYCVMDAwbgAxChgY\n",
       "eASANAeQwf0AyJgNxEwvGRia5HYwcOm9TgAA6BoR3jrzwFcAAAAASUVORK5CYII=\n",
       "\" style=\"display:inline;vertical-align:middle;\" /></a></td></tr>\n",
       "<tr><td>5</td><td>Variable</td><td></td><td><a class=\"ProveItLink\" href=\"../../../../__pv_it/6840a4fa6c106149dc16a131294d0c5e44f1b0480/expr.ipynb\"><img src=\"data:image/png;base64,iVBORw0KGgoAAAANSUhEUgAAAAkAAAAOBAMAAAAPuiubAAAALVBMVEX///9mZmbMzMxERESYmJiI\n",
       "iIh2dna6urqqqqoyMjIiIiIQEBBUVFTu7u4AAAD9S1JeAAAAAXRSTlMAQObYZgAAAE1JREFUCNdj\n",
       "4D29gAEIOA+ASL4GEFl3AURmgQiGOaFHGBh4HzPwKTBwvGXgTmBgnMDAJ8DAJcBQ5wBSLncBJLWN\n",
       "gYGngRFoBO9REQYGAGrcDtUkVqASAAAAAElFTkSuQmCC\n",
       "\" style=\"display:inline;vertical-align:middle;\" /></a></td></tr>\n",
       "<tr><td>6</td><td>Literal</td><td></td><td><a class=\"ProveItLink\" href=\"../../../exponentiation/__pv_it/deb2bf23cbccdd6e6791e1b35b5b9794ce12dbd50/expr.ipynb\"><img src=\"data:image/png;base64,iVBORw0KGgoAAAANSUhEUgAAACgAAAASBAMAAADbMYGVAAAAMFBMVEX///8QEBAiIiKYmJjc3Nzu\n",
       "7u7MzMx2dnZmZma6urpERESqqqoyMjJUVFSIiIgAAAAoDOMTAAAAAXRSTlMAQObYZgAAAOBJREFU\n",
       "GNNjYGB4+//u3Tt/GNAASGAXmhjnPyDBgSbI/g1IxKEJ8nxgYGdgQRPkX8BgDKRY6q7s62OYvmze\n",
       "2wAgb/7ZO1+AVDiDkYEQQ0HTBr4DQF59AgOIKmB4z7CNbcNZBu6vQN55kEACQwDDLQYGVobfDHwg\n",
       "fb8YGBxYHwAZciD3fWXg+gB1JjvQcJZvQIXsCgz8F6DO9GBgMOH7wPCUgaeBwd4B7EwGNjUG7s9c\n",
       "AiwPgO5jkWRgiF3/9+5dfQUG1nWl5Y+B7pv+1gE9bBhqGLCAE1jEWH9jEbT5A3IwAC4sP/1L6Qlu\n",
       "AAAAAElFTkSuQmCC\n",
       "\" style=\"display:inline;vertical-align:middle;\" /></a></td></tr>\n",
       "<tr><td>7</td><td>ExprTuple</td><td>8, 9</td><td><a class=\"ProveItLink\" href=\"../15b4a43204f9952d371095f486ed6d4e815af8560/expr.ipynb\"><img src=\"data:image/png;base64,iVBORw0KGgoAAAANSUhEUgAAAC8AAAAVBAMAAAAk6KpUAAAAMFBMVEX////c3NwiIiJERESqqqqY\n",
       "mJh2dnZmZmYQEBDu7u4yMjJUVFTMzMyIiIi6uroAAAAs73DqAAAAAXRSTlMAQObYZgAAARpJREFU\n",
       "KM9jYMAJ+C5gisWBiNNAzKu1vskcJsqzgYH9AJBeCWS+f8CZfxsmwWTAwLAAqBhoUsBWBgaW3zCJ\n",
       "G0CJMAYGjgkMrBMagPxqqDhjFFBiBgPDKwYGdsYNQIG5UAk2LqAEswNDGQPDdL4EJBcFgiTYChiW\n",
       "MjAcYwlAiHNeAEmwLGDoA0rwIUmwMYAk+BoY/jEwTOZBMsoHLMHzASTBNWEDwqQEmEQLAwNrAkiC\n",
       "EyzBsnv3/u4LIKNMgTzTt0Di0QSIFAMHUAfrAoZ0IJN7803Ox5YM8xXgEkDnPgKxj+v/2Af07kew\n",
       "s/Z/D2DgesDAIYBw0UM4awbIZoQEwju5kGDHkOAEBjuDNFycF87iBpnPiCVq7zAwAAA1wEBM4bd1\n",
       "1AAAAABJRU5ErkJggg==\n",
       "\" style=\"display:inline;vertical-align:middle;\" /></a></td></tr>\n",
       "<tr><td>8</td><td>Literal</td><td></td><td><a class=\"ProveItLink\" href=\"../../../sets/complex/__pv_it/c357845f93a5a2d9f649129d299e7ec28dda4b960/expr.ipynb\"><img src=\"data:image/png;base64,iVBORw0KGgoAAAANSUhEUgAAAA8AAAAOBAMAAAACpFvcAAAAMFBMVEX////c3NyqqqqYmJhUVFR2\n",
       "dnbu7u66urrMzMxmZmZEREQQEBAyMjIiIiKIiIgAAAB7fvZ0AAAAAXRSTlMAQObYZgAAAGVJREFU\n",
       "CNdjYGDgu3N+70oGBgaO+gK2+CdAhoEzAwPTFwYG5oQNQN4UBgZORgcgI4+BIZM9gAEMWpkMoAx2\n",
       "KCOLAyrFk+AAYTAHgBhsQLy4DkjUJjAwsHg9Y6taBpLsvP/bnYEBACkBFGQfBv8RAAAAAElFTkSu\n",
       "QmCC\n",
       "\" style=\"display:inline;vertical-align:middle;\" /></a></td></tr>\n",
       "<tr><td>9</td><td>Literal</td><td></td><td><a class=\"ProveItLink\" href=\"../../../numeral/__pv_it/23412ce59ea7e77353d2f9225e02248e73651ca00/expr.ipynb\"><img src=\"data:image/png;base64,iVBORw0KGgoAAAANSUhEUgAAAAoAAAAPBAMAAAAv0UM9AAAALVBMVEX///9mZmaqqqru7u52dnYy\n",
       "MjKYmJjc3NwQEBCIiIhEREQiIiJUVFTMzMwAAACUDTcXAAAAAXRSTlMAQObYZgAAAD5JREFUCNdj\n",
       "YGBguMMAArtABGcXiCyLApEOIJKtAERaMoBIBxDJdAFEmjCASJ0zZ16cBCkF64KQPu/EwBwGACv6\n",
       "DSRgin9qAAAAAElFTkSuQmCC\n",
       "\" style=\"display:inline;vertical-align:middle;\" /></a></td></tr>\n",
       "</table>\n"
      ],
      "text/plain": [
       "0. ((a , A , A , b) , Complexes^{4})\n",
       "   core type: ExprTuple\n",
       "   sub-expressions: 1, 2\n",
       "1. (a , A , A , b)\n",
       "   core type: ExprTuple\n",
       "   sub-expressions: 3, 4, 4, 5\n",
       "2. Complexes^{4}\n",
       "   core type: Operation\n",
       "   operator: 6\n",
       "   operands: 7\n",
       "3. a\n",
       "   core type: Variable\n",
       "   sub-expressions: \n",
       "4. A\n",
       "   core type: Variable\n",
       "   sub-expressions: \n",
       "5. b\n",
       "   core type: Variable\n",
       "   sub-expressions: \n",
       "6. Exp\n",
       "   core type: Literal\n",
       "   sub-expressions: \n",
       "7. (Complexes , 4)\n",
       "   core type: ExprTuple\n",
       "   sub-expressions: 8, 9\n",
       "8. Complexes\n",
       "   core type: Literal\n",
       "   sub-expressions: \n",
       "9. 4\n",
       "   core type: Literal\n",
       "   sub-expressions: "
      ]
     },
     "execution_count": 4,
     "metadata": {},
     "output_type": "execute_result"
    }
   ],
   "source": [
    "# display the expression information\n",
    "expr.exprInfo()"
   ]
  },
  {
   "cell_type": "code",
   "execution_count": null,
   "metadata": {},
   "outputs": [],
   "source": []
  }
 ],
 "metadata": {
  "kernelspec": {
   "display_name": "Python 3",
   "language": "python",
   "name": "python3"
  }
 },
 "nbformat": 4,
 "nbformat_minor": 0
}
