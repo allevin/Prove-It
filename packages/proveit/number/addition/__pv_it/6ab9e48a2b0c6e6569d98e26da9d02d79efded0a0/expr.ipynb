{
 "cells": [
  {
   "cell_type": "markdown",
   "metadata": {},
   "source": [
    "Expression of type <a class=\"ProveItLink\" href=\"../../../../../../doc/html/api/proveit.number.Add.html\">Add</a>\n",
    "=======================\n",
    "# from context <a class=\"ProveItLink\" href=\"../../_context_.ipynb\">proveit.number.addition</a>"
   ]
  },
  {
   "cell_type": "code",
   "execution_count": 1,
   "metadata": {},
   "outputs": [],
   "source": [
    "# import Expression classes needed to build the expression\n",
    "from proveit import Variable\n",
    "from proveit._common_ import a, b, c\n",
    "from proveit.number import Add, Mult, two"
   ]
  },
  {
   "cell_type": "code",
   "execution_count": 2,
   "metadata": {},
   "outputs": [
    {
     "data": {
      "text/html": [
       "<strong id=\"expr\">expr:</strong> <a class=\"ProveItLink\" href=\"../2812859662ebd882b7e2fd1c2d501df01a98dd7c0/expr.ipynb\"><img src=\"data:image/png;base64,iVBORw0KGgoAAAANSUhEUgAAAQoAAAAVBAMAAABMEr0AAAAAMFBMVEX////c3NwiIiJERESqqqqY\n",
       "mJh2dnZmZmYQEBDu7u4yMjJUVFTMzMyIiIi6uroAAAAs73DqAAAAAXRSTlMAQObYZgAAAihJREFU\n",
       "SMfNljFIW0EYx/8JSfOSNCGFUocgdWl1EQJaqEO1OBYl6er0Jl0aEASH1KEVKXSRJ4IEMyhKhyYg\n",
       "FgQnMZuDg5niEEOkk5QWArVIIDa9PO49yd2X3OPRwT/k3n0fvy/c++6+7x5wPxQtyT7/pRPMNUXo\n",
       "FOjLjAvOJUeYksotkxShr/Dso/a60xlyhKmpAknJipQQNuCtC2nU+WStF6amrimKkGZA+4zw305v\n",
       "8AOfTPfClFS0QVGEfrCUNRAQVoFRIZLGVNSDAYoitGiO3obtiJevYsCcEClhG+kLNRU6qqRkiutJ\n",
       "5fG5VVJfzPFMt5P4ERPs8UaIFLGHq9hRU1sJNGWKb6fuf6YNcGPVHHdNv8GGpykssMeVECli2RJe\n",
       "qKmkgU8yxXcLkbqvyA1zDwMJc+XtlR0Dw+33ESIJzAGVAW5kiucC4YRtmIEVc5pte38j2LT+P5PP\n",
       "D+XzBRqDA2oQ0T8yZZfnXaNdYT/fPB5x03MLXz0oZ1HGACXF2kWg0W1H2OYXYfAp212cAG+tPF0j\n",
       "vD0FzAiRAgb2in411YSmyxRvebEaItYqWBl5ns/OWYeVHfPJeV2uLhE7BN6pqQO8R7dKTaZeot8y\n",
       "vrP6brVadmC8+vMVuwX3hEgRC6SrhprKnbN2IVK+EaYxrJc30inL0GJUL5N7c+z/UYTsu6azmK3j\n",
       "+6sX5pKib3ZCm44wtxShOOX85ghzSxHyEF98kaITzDUl6R+dJtiXmxD48gAAAABJRU5ErkJggg==\n",
       "\" style=\"display:inline;vertical-align:middle;\" /></a><br>"
      ],
      "text/plain": [
       "expr: (2 * a) + (2 * c) + (2 * b) + _x_"
      ]
     },
     "execution_count": 2,
     "metadata": {},
     "output_type": "execute_result"
    }
   ],
   "source": [
    "# build up the expression from sub-expressions\n",
    "expr = Add(Mult(two, a), Mult(two, c), Mult(two, b), Variable(\"_x_\", latexFormat = r\"{_{-}x_{-}}\"))"
   ]
  },
  {
   "cell_type": "code",
   "execution_count": 3,
   "metadata": {},
   "outputs": [
    {
     "name": "stdout",
     "output_type": "stream",
     "text": [
      "Passed sanity check: built 'expr' is the same as the stored Expression.\n"
     ]
    }
   ],
   "source": [
    "# check that the built expression is the same as the stored expression\n",
    "%check_expr"
   ]
  },
  {
   "cell_type": "code",
   "execution_count": 4,
   "metadata": {},
   "outputs": [
    {
     "data": {
      "text/html": [
       "<table><tr><th>&nbsp;</th><th>core type</th><th>sub-expressions</th><th>expression</th></tr>\n",
       "<tr><td>0</td><td>Operation</td><td>operator:&nbsp;1<br>operands:&nbsp;2<br></td><td><a class=\"ProveItLink\" href=\"../2812859662ebd882b7e2fd1c2d501df01a98dd7c0/expr.ipynb\"><img src=\"data:image/png;base64,iVBORw0KGgoAAAANSUhEUgAAAQoAAAAVBAMAAABMEr0AAAAAMFBMVEX////c3NwiIiJERESqqqqY\n",
       "mJh2dnZmZmYQEBDu7u4yMjJUVFTMzMyIiIi6uroAAAAs73DqAAAAAXRSTlMAQObYZgAAAihJREFU\n",
       "SMfNljFIW0EYx/8JSfOSNCGFUocgdWl1EQJaqEO1OBYl6er0Jl0aEASH1KEVKXSRJ4IEMyhKhyYg\n",
       "FgQnMZuDg5niEEOkk5QWArVIIDa9PO49yd2X3OPRwT/k3n0fvy/c++6+7x5wPxQtyT7/pRPMNUXo\n",
       "FOjLjAvOJUeYksotkxShr/Dso/a60xlyhKmpAknJipQQNuCtC2nU+WStF6amrimKkGZA+4zw305v\n",
       "8AOfTPfClFS0QVGEfrCUNRAQVoFRIZLGVNSDAYoitGiO3obtiJevYsCcEClhG+kLNRU6qqRkiutJ\n",
       "5fG5VVJfzPFMt5P4ERPs8UaIFLGHq9hRU1sJNGWKb6fuf6YNcGPVHHdNv8GGpykssMeVECli2RJe\n",
       "qKmkgU8yxXcLkbqvyA1zDwMJc+XtlR0Dw+33ESIJzAGVAW5kiucC4YRtmIEVc5pte38j2LT+P5PP\n",
       "D+XzBRqDA2oQ0T8yZZfnXaNdYT/fPB5x03MLXz0oZ1HGACXF2kWg0W1H2OYXYfAp212cAG+tPF0j\n",
       "vD0FzAiRAgb2in411YSmyxRvebEaItYqWBl5ns/OWYeVHfPJeV2uLhE7BN6pqQO8R7dKTaZeot8y\n",
       "vrP6brVadmC8+vMVuwX3hEgRC6SrhprKnbN2IVK+EaYxrJc30inL0GJUL5N7c+z/UYTsu6azmK3j\n",
       "+6sX5pKib3ZCm44wtxShOOX85ghzSxHyEF98kaITzDUl6R+dJtiXmxD48gAAAABJRU5ErkJggg==\n",
       "\" style=\"display:inline;vertical-align:middle;\" /></a></td></tr>\n",
       "<tr><td>1</td><td>Literal</td><td></td><td><a class=\"ProveItLink\" href=\"../3e6688136fa3c7aefbebe51301b7c3ebf0b69c440/expr.ipynb\"><img src=\"data:image/png;base64,iVBORw0KGgoAAAANSUhEUgAAAA4AAAAOBAMAAADtZjDiAAAAJFBMVEX///+6urpUVFQQEBAiIiIy\n",
       "MjJmZmaIiIiqqqrc3Nzu7u4AAACgHpL+AAAAAXRSTlMAQObYZgAAAB5JREFUCNdjYGBgWMkAAe2k\n",
       "0Kmhoc6hoUGk6BMHYgAHOwjcado9fwAAAABJRU5ErkJggg==\n",
       "\" style=\"display:inline;vertical-align:middle;\" /></a></td></tr>\n",
       "<tr><td>2</td><td>ExprTuple</td><td>3, 4, 5, 6</td><td><a class=\"ProveItLink\" href=\"../db4608a95ba60deda2cd4483199233ae7fa77df30/expr.ipynb\"><img src=\"data:image/png;base64,iVBORw0KGgoAAAANSUhEUgAAALkAAAAVBAMAAADoXVL6AAAAMFBMVEX////c3NwiIiJERESqqqqY\n",
       "mJh2dnZmZmYQEBDu7u4yMjJUVFTMzMyIiIi6uroAAAAs73DqAAAAAXRSTlMAQObYZgAAAhBJREFU\n",
       "OMu1lT9IW0Ecx78v/15e/jWdHDrUqa4B6agEXBWfDh1LpoSCKU4OihBLERzUN0kgQ4LFQVwsFQqF\n",
       "0IBDhw59SykS/7SdilNaEySQNr13L+/dXd7x0CE3HHef373v/fK9312A0baUOSLh51b3GRhbnZaF\n",
       "5ZinlVc+6mqDdIdQjnGV9UblWKRHfsnXgKSJuIFAyxuUY5G2/dSfAVED0S3E/3mDcizQVNdPvQxc\n",
       "A7EuVIm6HAs0Mu6nHsxihQ4CLAml/nLDGXN4r3jupbF6UxcOpfh2bt2dRZZxQAdfci77lQ66vjKc\n",
       "2MG+l1Yz6PHqe1jUWRmFatihgzdWpxnW9h2oGSfOcNnEUy+dN7DJq+dwhVl2k0qgHtp6VcvFeAsB\n",
       "535x+CNXx4yuAre8uoF33CzRstWb9hlbnz3IoNoYhDl8wz7i6ARSHfEkt0X115ZBy3jooMcm5mHY\n",
       "vjGs/GVucovbUMWaVHrQeGcsNz8BC+5BZfEh1KBLeExSDNub8rSHaG6QCm0LyRbO3Fm4hgLZ8Em+\n",
       "4BZuTA9NRKirAn4PLGl/MERPsAZKBz+rEywpJl+RP0n99vv9cVbul6eXKP8ewmrxwtB200O08k0H\n",
       "pTOTpBna1Iv8V2dCEv2OaFp6z35IH+v03an9EoRz0ogug2HcnZJWpC/wiNQ18gLjkSySlK4370HJ\n",
       "vbQcU0b1z0devf/+u5xdZCqwsgAAAABJRU5ErkJggg==\n",
       "\" style=\"display:inline;vertical-align:middle;\" /></a></td></tr>\n",
       "<tr><td>3</td><td>Operation</td><td>operator:&nbsp;9<br>operands:&nbsp;7<br></td><td><a class=\"ProveItLink\" href=\"../bcb109db2c8fde300a6e6bc5d9744dc20415a7630/expr.ipynb\"><img src=\"data:image/png;base64,iVBORw0KGgoAAAANSUhEUgAAACMAAAAOBAMAAABXxbiCAAAAMFBMVEX///+YmJh2dnbMzMwQEBAi\n",
       "IiLu7u6qqqqIiIhUVFS6urpEREQyMjJmZmbc3NwAAACOMKdoAAAAAXRSTlMAQObYZgAAAJVJREFU\n",
       "GNNj4Lt7egEDKnjJwPEdTWgaA0M8mpBLAsN8NJ3nExjuoxsG1JgAY/HN0PID0cyf4JJLHnB/ANE8\n",
       "G0BkGkjRRwZeMOc2iGD7CiQ4PzCwNgBpjglgIW8gwb+BId8ASNcy8D2AGvW+gaGeIYGB+QIDI0wo\n",
       "v4BhDrsBw1MlpaswC3kE2GOZgI76//8rwlld1l0MADJIJnXb25zTAAAAAElFTkSuQmCC\n",
       "\" style=\"display:inline;vertical-align:middle;\" /></a></td></tr>\n",
       "<tr><td>4</td><td>Operation</td><td>operator:&nbsp;9<br>operands:&nbsp;8<br></td><td><a class=\"ProveItLink\" href=\"../5be3868bb652285659d239e550ad3564fe4429650/expr.ipynb\"><img src=\"data:image/png;base64,iVBORw0KGgoAAAANSUhEUgAAACEAAAAOBAMAAABTMGi/AAAAMFBMVEX///+YmJh2dnbMzMwQEBAi\n",
       "IiLu7u6qqqqIiIhUVFS6urpEREQyMjJmZmbc3NwAAACOMKdoAAAAAXRSTlMAQObYZgAAAIpJREFU\n",
       "CNdj4Lt7egEDCnjJwPEdVWQaA0M8qohLAsN8VG3nExjuoxkE1JUAY7EpdRgAKeZPcDmTBTwBQIpn\n",
       "A4iTBlLiwcAtAKRvg9V/BRKcH8AqOSaARbyBBD9YNUMtA98DqDHvG0Ak8wUGRpgIP9AQAYanSkpX\n",
       "YVZxXmBgMmCI////K9z2Sx1tDAAgqiCDYUwELQAAAABJRU5ErkJggg==\n",
       "\" style=\"display:inline;vertical-align:middle;\" /></a></td></tr>\n",
       "<tr><td>5</td><td>Operation</td><td>operator:&nbsp;9<br>operands:&nbsp;10<br></td><td><a class=\"ProveItLink\" href=\"../4fa23b01b5b767887c70271cab015f5b5c98d38c0/expr.ipynb\"><img src=\"data:image/png;base64,iVBORw0KGgoAAAANSUhEUgAAACEAAAAOBAMAAABTMGi/AAAAMFBMVEX///+YmJh2dnbMzMwQEBAi\n",
       "IiLu7u6qqqqIiIhUVFS6urpEREQyMjJmZmbc3NwAAACOMKdoAAAAAXRSTlMAQObYZgAAAKBJREFU\n",
       "CNdj4Lt7egEDFLBNCQCSLxk4vsNEGHgmAIlpDAzxcBH+AiDhksAwH65tfQKQOJ/AcB8uogql4xNg\n",
       "Iic7JoIo5k9wu34z8BuALNgA4qUBMfs3BhYFIH0bLP0VSPAeYOC/wMDAMQEs4g0kWC8wrBdgYKhl\n",
       "4HuAcM79BAbmCwyMcBEDBicGhqdKSldhdnEW8AKNiP///yvc9hkXGRgAQ2knSfB0jgcAAAAASUVO\n",
       "RK5CYII=\n",
       "\" style=\"display:inline;vertical-align:middle;\" /></a></td></tr>\n",
       "<tr><td>6</td><td>Variable</td><td></td><td><a class=\"ProveItLink\" href=\"../../../../logic/__pv_it/5144cf74ae6a683b49b974f1b9302b432abf7e930/expr.ipynb\"><img src=\"data:image/png;base64,iVBORw0KGgoAAAANSUhEUgAAACUAAAAJBAMAAABH3vh9AAAAKlBMVEX////MzMwQEBAiIiKYmJhm\n",
       "ZmZUVFSIiIh2dnbc3Nzu7u5ERESqqqoAAABwkVEpAAAAAXRSTlMAQObYZgAAAEtJREFUCNdjYIAA\n",
       "zvbM4+EMqGAFg7ODMppYA0Mtw0E0sQUM2QyYQB1TiPMiAxeakCf7BYYqVCGeK9wKnAUw3undQLCA\n",
       "a3tXRwmMAwC3+RVNp6j0GAAAAABJRU5ErkJggg==\n",
       "\" style=\"display:inline;vertical-align:middle;\" /></a></td></tr>\n",
       "<tr><td>7</td><td>ExprTuple</td><td>13, 11</td><td><a class=\"ProveItLink\" href=\"../b5379faab47abff4b5f281502db718a96e183d9f0/expr.ipynb\"><img src=\"data:image/png;base64,iVBORw0KGgoAAAANSUhEUgAAACsAAAAVBAMAAAAtAwouAAAAMFBMVEX////c3NwiIiJERESqqqqY\n",
       "mJh2dnZmZmYQEBDu7u4yMjJUVFTMzMyIiIi6uroAAAAs73DqAAAAAXRSTlMAQObYZgAAAQ5JREFU\n",
       "GNNjYMAB+C6gi8SBiNMMDOJVdsjC7AeAxEoGxg0M9x2QxRcwMPBeYOCewMD0AVk4jIGBYwIDRycD\n",
       "9z9k4RkMDK8YGLh+MrCjCDM7MJSBGUw/IQKMe/MaGRjYChiWgrnnEyDCLwSYgbawLGDoA3MXQxV/\n",
       "ZWA3AHqlgQFsKIgNAtwfGJiAvuP5ABG+DbWL34Bh/gGwcAuQx1LAIAgWlr/A4M8wAWSIKZB3nIEh\n",
       "EMhjYJjvwLCL5QAD6wKGdKBFamnpCpyfgMJcASzqbGAHPgI6+v///wqc/QIgZ987fA8o+4CBQwAW\n",
       "wALInmeFeoSBFeH5XHDAogtzAgOWQRrKQUQSN8g4RoxIu8PAAABqUT0EX21vWwAAAABJRU5ErkJg\n",
       "gg==\n",
       "\" style=\"display:inline;vertical-align:middle;\" /></a></td></tr>\n",
       "<tr><td>8</td><td>ExprTuple</td><td>13, 12</td><td><a class=\"ProveItLink\" href=\"../c82be1b543fff98ad9274deef79c26222d55e1960/expr.ipynb\"><img src=\"data:image/png;base64,iVBORw0KGgoAAAANSUhEUgAAACkAAAAVBAMAAAAp9toTAAAAMFBMVEX////c3NwiIiJERESqqqqY\n",
       "mJh2dnZmZmYQEBDu7u4yMjJUVFTMzMyIiIi6uroAAAAs73DqAAAAAXRSTlMAQObYZgAAAQFJREFU\n",
       "GNNjYMAO+C6gCcSBiNMMDOJVdkii7AeAxEoGxg0M9x2QhBcwMPBeYOCewMD0AUk0jIGBYwIDRycD\n",
       "9z8k0RkMDK8YGLh+MrAjizI7MJSBGUw/IQKcaXcPMLAVMCwF884nQERPPOBSYGBZwNAH5i2GKu1l\n",
       "YA5g4GtgABvIbgAR5QY7hecDRPQ21B5+A6hoC5BiKWAQBIvKg30PNMEUSB1nYAhkmABSG8DAEMDA\n",
       "uoAhnYGBUS0tXYHzE8jcAgY2sMseAR37//9/Bc5+AaBw2d2bQF89YOAQgIWoAJKPWaHuZ2CF+zgX\n",
       "HJJoopzAkGSQhnLgUcINMooRPYbuMDAAAGWVN+1zxG0tAAAAAElFTkSuQmCC\n",
       "\" style=\"display:inline;vertical-align:middle;\" /></a></td></tr>\n",
       "<tr><td>9</td><td>Literal</td><td></td><td><a class=\"ProveItLink\" href=\"../../../multiplication/__pv_it/21fd2079611555ecce512d99547a00d551e6b86b0/expr.ipynb\"><img src=\"data:image/png;base64,iVBORw0KGgoAAAANSUhEUgAAAAMAAAADBAMAAACkBqiMAAAAElBMVEX///9EREQQEBAiIiLu7u4A\n",
       "AABGBidwAAAAAXRSTlMAQObYZgAAABFJREFUCNdjYHFgcDVgcBIAAASWAQx4jI0xAAAAAElFTkSu\n",
       "QmCC\n",
       "\" style=\"display:inline;vertical-align:middle;\" /></a></td></tr>\n",
       "<tr><td>10</td><td>ExprTuple</td><td>13, 14</td><td><a class=\"ProveItLink\" href=\"../3a7fed3333ef42636d071b31cc212d3a8cbf468e0/expr.ipynb\"><img src=\"data:image/png;base64,iVBORw0KGgoAAAANSUhEUgAAACkAAAAVBAMAAAAp9toTAAAAMFBMVEX////c3NwiIiJERESqqqqY\n",
       "mJh2dnZmZmYQEBDu7u4yMjJUVFTMzMyIiIi6uroAAAAs73DqAAAAAXRSTlMAQObYZgAAARNJREFU\n",
       "GNNtkaFPw0AUxn8tK20prEMhMFVoDJb0TwCDJA2CKZIaEBgQhAQDlcgmBEEwNSQYkjkEgnlGIEjM\n",
       "FqZqKO/u2omGipf3/a737rvv4P+vO2yBXVVeYOV40wD/MQJ3IN0dVsFHbPBCISWHpSFBhj0xNFSr\n",
       "O+BleBcEv4aOMynX8C3bStya7qkyF3OklV0aev/+APMpt1q9JsbDlHBAJ+dSyxvza6fES+ieoge6\n",
       "64a6OWHK4sTQt/padsp4S9EztTFlubF7kqkJGyKeYRvlVI46ByenD9bafj/yf4QGsVtoZ18yraqq\n",
       "yL/qibOnQxXGJ16vSbRp1I2dpO6dWcAHOskW9SVJVmsxe5JAjbLaLzSCP9bMPeBRRV1aAAAAAElF\n",
       "TkSuQmCC\n",
       "\" style=\"display:inline;vertical-align:middle;\" /></a></td></tr>\n",
       "<tr><td>11</td><td>Variable</td><td></td><td><a class=\"ProveItLink\" href=\"../../../../__pv_it/07527342713064c87612d00d8557c53d53d5324a0/expr.ipynb\"><img src=\"data:image/png;base64,iVBORw0KGgoAAAANSUhEUgAAAAsAAAAJBAMAAAAWSsseAAAAMFBMVEX///8yMjKqqqrMzMzu7u4i\n",
       "IiJmZmaYmJhEREQQEBC6urp2dnaIiIhUVFTc3NwAAAD87Fq/AAAAAXRSTlMAQObYZgAAAEhJREFU\n",
       "CNdjYOC7s2seAwPDygccHxgY+L4zsDUwMPB+YGA9wMDA38Dgb8DA8P4Agz6DA4O/AsNFJgMGxgKm\n",
       "MG6gyjunLE4xAAAZTBA5TB6DCwAAAABJRU5ErkJggg==\n",
       "\" style=\"display:inline;vertical-align:middle;\" /></a></td></tr>\n",
       "<tr><td>12</td><td>Variable</td><td></td><td><a class=\"ProveItLink\" href=\"../../../../__pv_it/cbdfda466482236edba0ce44ac7ef39cda0af7a40/expr.ipynb\"><img src=\"data:image/png;base64,iVBORw0KGgoAAAANSUhEUgAAAAkAAAAJBAMAAAASvxsjAAAALVBMVEX///9mZmbc3NxUVFSYmJhE\n",
       "REQiIiIyMjK6uroQEBDMzMyIiIh2dnbu7u4AAABgFDGoAAAAAXRSTlMAQObYZgAAADZJREFUCNdj\n",
       "YOA9s3sBA8PKBvYEBt7ZDKwODMwPGICALwBE6m0Asx0YGIDiAgw8QJUyu/cyAAAmuwmycZ8WfQAA\n",
       "AABJRU5ErkJggg==\n",
       "\" style=\"display:inline;vertical-align:middle;\" /></a></td></tr>\n",
       "<tr><td>13</td><td>Literal</td><td></td><td><a class=\"ProveItLink\" href=\"../../../numeral/__pv_it/77d407a64829263cdc16415becd4c2293f77a4bf0/expr.ipynb\"><img src=\"data:image/png;base64,iVBORw0KGgoAAAANSUhEUgAAAAkAAAAOBAMAAAAPuiubAAAAMFBMVEX///+YmJh2dnbMzMwQEBAi\n",
       "IiLu7u6qqqqIiIhUVFS6urpEREQyMjJmZmbc3NwAAACOMKdoAAAAAXRSTlMAQObYZgAAAFBJREFU\n",
       "CNdj4Lt7egEDw0sGju8MDNMYGOIZGFwSGOYvYDifwHAfKAEUSQASzJ9ATJ4NIPI2iOCYACJrGfge\n",
       "MDBfYGB8wPBUSekqUPH//18ZAIliFhc3zESNAAAAAElFTkSuQmCC\n",
       "\" style=\"display:inline;vertical-align:middle;\" /></a></td></tr>\n",
       "<tr><td>14</td><td>Variable</td><td></td><td><a class=\"ProveItLink\" href=\"../../../../__pv_it/6840a4fa6c106149dc16a131294d0c5e44f1b0480/expr.ipynb\"><img src=\"data:image/png;base64,iVBORw0KGgoAAAANSUhEUgAAAAkAAAAOBAMAAAAPuiubAAAALVBMVEX///9mZmbMzMxERESYmJiI\n",
       "iIh2dna6urqqqqoyMjIiIiIQEBBUVFTu7u4AAAD9S1JeAAAAAXRSTlMAQObYZgAAAE1JREFUCNdj\n",
       "4D29gAEIOA+ASL4GEFl3AURmgQiGOaFHGBh4HzPwKTBwvGXgTmBgnMDAJ8DAJcBQ5wBSLncBJLWN\n",
       "gYGngRFoBO9REQYGAGrcDtUkVqASAAAAAElFTkSuQmCC\n",
       "\" style=\"display:inline;vertical-align:middle;\" /></a></td></tr>\n",
       "</table>\n"
      ],
      "text/plain": [
       "0. (2 * a) + (2 * c) + (2 * b) + _x_\n",
       "   core type: Operation\n",
       "   operator: 1\n",
       "   operands: 2\n",
       "1. +\n",
       "   core type: Literal\n",
       "   sub-expressions: \n",
       "2. (2 * a , 2 * c , 2 * b , _x_)\n",
       "   core type: ExprTuple\n",
       "   sub-expressions: 3, 4, 5, 6\n",
       "3. 2 * a\n",
       "   core type: Operation\n",
       "   operator: 9\n",
       "   operands: 7\n",
       "4. 2 * c\n",
       "   core type: Operation\n",
       "   operator: 9\n",
       "   operands: 8\n",
       "5. 2 * b\n",
       "   core type: Operation\n",
       "   operator: 9\n",
       "   operands: 10\n",
       "6. _x_\n",
       "   core type: Variable\n",
       "   sub-expressions: \n",
       "7. (2 , a)\n",
       "   core type: ExprTuple\n",
       "   sub-expressions: 13, 11\n",
       "8. (2 , c)\n",
       "   core type: ExprTuple\n",
       "   sub-expressions: 13, 12\n",
       "9. *\n",
       "   core type: Literal\n",
       "   sub-expressions: \n",
       "10. (2 , b)\n",
       "    core type: ExprTuple\n",
       "    sub-expressions: 13, 14\n",
       "11. a\n",
       "    core type: Variable\n",
       "    sub-expressions: \n",
       "12. c\n",
       "    core type: Variable\n",
       "    sub-expressions: \n",
       "13. 2\n",
       "    core type: Literal\n",
       "    sub-expressions: \n",
       "14. b\n",
       "    core type: Variable\n",
       "    sub-expressions: "
      ]
     },
     "execution_count": 4,
     "metadata": {},
     "output_type": "execute_result"
    }
   ],
   "source": [
    "# display the expression information\n",
    "expr.exprInfo()"
   ]
  },
  {
   "cell_type": "code",
   "execution_count": null,
   "metadata": {},
   "outputs": [],
   "source": []
  }
 ],
 "metadata": {
  "kernelspec": {
   "display_name": "Python 3",
   "language": "python",
   "name": "python3"
  }
 },
 "nbformat": 4,
 "nbformat_minor": 0
}
