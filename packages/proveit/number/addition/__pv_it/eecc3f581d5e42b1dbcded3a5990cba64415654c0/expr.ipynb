{
 "cells": [
  {
   "cell_type": "markdown",
   "metadata": {},
   "source": [
    "Expression of type <a class=\"ProveItLink\" href=\"../../../../../../doc/html/api/proveit.ExprTuple.html\">ExprTuple</a>\n",
    "=======================\n",
    "# from context <a class=\"ProveItLink\" href=\"../../_context_.ipynb\">proveit.number.addition</a>"
   ]
  },
  {
   "cell_type": "code",
   "execution_count": 1,
   "metadata": {},
   "outputs": [],
   "source": [
    "# import Expression classes needed to build the expression\n",
    "from proveit import ExprTuple, Variable\n",
    "from proveit._common_ import b, c\n",
    "from proveit.number import Mult, three, two"
   ]
  },
  {
   "cell_type": "code",
   "execution_count": 2,
   "metadata": {},
   "outputs": [
    {
     "data": {
      "text/html": [
       "<strong id=\"expr\">expr:</strong> <a class=\"ProveItLink\" href=\"expr.ipynb\"><img src=\"data:image/png;base64,iVBORw0KGgoAAAANSUhEUgAAAMMAAAAVBAMAAAAJNkerAAAAMFBMVEX////c3NwiIiJERESqqqqY\n",
       "mJh2dnZmZmYQEBDu7u4yMjJUVFTMzMyIiIi6uroAAAAs73DqAAAAAXRSTlMAQObYZgAAAnNJREFU\n",
       "SMe9VT9oE1EY/13S9O6aplcnBwcz6RpQRyXg4KJ4dXCU4pCiUMhihYpYRAoOtTeJ4JADdZAuERVc\n",
       "CplUcDCLaKmh0dElURskEIzvfe/en8ult8VvuPve93u/+977vt97B/wHm2tO8utX+OMDcHj1jAi4\n",
       "b4qjc95WTipfw4rB7PHdlBR2gz2ew6pjrywiM/WRKVYVHb1NCRsMZltp2wiBQhP5AJmuCHjlkRnT\n",
       "+/D0ziRsMJjtp6W4DDgBnPvI/xWBTjAyYyqWQsIGgzWzn5biEfCDbb8POyJcHTPJKJSEDQbbaDEt\n",
       "RbaMFXIy0Uq2Wq+jzlZajWSpFawZLN/2rh9r3/KLC7d1pat4Rs7HRfHh3/DEl9+3Z8TiZq9rBWhY\n",
       "MZjVShiYKR7ikq9FNhXiATlPonEfDlHdDWTl0r60eSAwYcmg6MUA62aKRezhvD52a6CS2qVIxSG8\n",
       "KklG6wUOL0mtaMKSQdFV4I+ZIsBLYzTbFSl2ZYHZKaDFeyVZ2AayPS6MkglLBkWPY64Xb/FGPMU9\n",
       "XoAqDknd3yFdHpUqqvVFijisGXQs7LhsrQFcs1Cn2OsdsADOZc1cJ9hji/XJCZH5qVJIWDAiG/AG\n",
       "GedpodDFjhrlQiyxrMcqS0X3F29B2a5TgfNVTDe4U/DRUdpRMDFk9BVugdiRZHrZNatpivY7K/Fw\n",
       "OCy6m/NMIds3WIH5qldaO8I5d/OpFq2EiaGuwc8+iH32BLPAPX2t8kkO2Klpw5mXRZMOviWcmI2N\n",
       "anbyAsnJMuRU1E84MRsbzR10gSzTZT7JFC67zHEkGqgOFRJOzMZHD/p15nkBrYn+WL8C/wCtQ7ch\n",
       "u/BjnQAAAABJRU5ErkJggg==\n",
       "\" style=\"display:inline;vertical-align:middle;\" /></a><br>"
      ],
      "text/plain": [
       "expr: (2 , b , c , 3 * b , 2 * b , _x_)"
      ]
     },
     "execution_count": 2,
     "metadata": {},
     "output_type": "execute_result"
    }
   ],
   "source": [
    "# build up the expression from sub-expressions\n",
    "expr = ExprTuple(two, b, c, Mult(three, b), Mult(two, b), Variable(\"_x_\", latexFormat = r\"{_{-}x_{-}}\"))"
   ]
  },
  {
   "cell_type": "code",
   "execution_count": 3,
   "metadata": {},
   "outputs": [
    {
     "name": "stdout",
     "output_type": "stream",
     "text": [
      "Passed sanity check: built 'expr' is the same as the stored Expression.\n"
     ]
    }
   ],
   "source": [
    "# check that the built expression is the same as the stored expression\n",
    "%check_expr"
   ]
  },
  {
   "cell_type": "code",
   "execution_count": 4,
   "metadata": {},
   "outputs": [
    {
     "data": {
      "text/html": [
       "<table><tr><th>&nbsp;</th><th>core type</th><th>sub-expressions</th><th>expression</th></tr>\n",
       "<tr><td>0</td><td>ExprTuple</td><td>9, 10, 1, 2, 3, 4</td><td><a class=\"ProveItLink\" href=\"expr.ipynb\"><img src=\"data:image/png;base64,iVBORw0KGgoAAAANSUhEUgAAAMMAAAAVBAMAAAAJNkerAAAAMFBMVEX////c3NwiIiJERESqqqqY\n",
       "mJh2dnZmZmYQEBDu7u4yMjJUVFTMzMyIiIi6uroAAAAs73DqAAAAAXRSTlMAQObYZgAAAnNJREFU\n",
       "SMe9VT9oE1EY/13S9O6aplcnBwcz6RpQRyXg4KJ4dXCU4pCiUMhihYpYRAoOtTeJ4JADdZAuERVc\n",
       "CplUcDCLaKmh0dElURskEIzvfe/en8ult8VvuPve93u/+977vt97B/wHm2tO8utX+OMDcHj1jAi4\n",
       "b4qjc95WTipfw4rB7PHdlBR2gz2ew6pjrywiM/WRKVYVHb1NCRsMZltp2wiBQhP5AJmuCHjlkRnT\n",
       "+/D0ziRsMJjtp6W4DDgBnPvI/xWBTjAyYyqWQsIGgzWzn5biEfCDbb8POyJcHTPJKJSEDQbbaDEt\n",
       "RbaMFXIy0Uq2Wq+jzlZajWSpFawZLN/2rh9r3/KLC7d1pat4Rs7HRfHh3/DEl9+3Z8TiZq9rBWhY\n",
       "MZjVShiYKR7ikq9FNhXiATlPonEfDlHdDWTl0r60eSAwYcmg6MUA62aKRezhvD52a6CS2qVIxSG8\n",
       "KklG6wUOL0mtaMKSQdFV4I+ZIsBLYzTbFSl2ZYHZKaDFeyVZ2AayPS6MkglLBkWPY64Xb/FGPMU9\n",
       "XoAqDknd3yFdHpUqqvVFijisGXQs7LhsrQFcs1Cn2OsdsADOZc1cJ9hji/XJCZH5qVJIWDAiG/AG\n",
       "GedpodDFjhrlQiyxrMcqS0X3F29B2a5TgfNVTDe4U/DRUdpRMDFk9BVugdiRZHrZNatpivY7K/Fw\n",
       "OCy6m/NMIds3WIH5qldaO8I5d/OpFq2EiaGuwc8+iH32BLPAPX2t8kkO2Klpw5mXRZMOviWcmI2N\n",
       "anbyAsnJMuRU1E84MRsbzR10gSzTZT7JFC67zHEkGqgOFRJOzMZHD/p15nkBrYn+WL8C/wCtQ7ch\n",
       "u/BjnQAAAABJRU5ErkJggg==\n",
       "\" style=\"display:inline;vertical-align:middle;\" /></a></td></tr>\n",
       "<tr><td>1</td><td>Variable</td><td></td><td><a class=\"ProveItLink\" href=\"../../../../__pv_it/cbdfda466482236edba0ce44ac7ef39cda0af7a40/expr.ipynb\"><img src=\"data:image/png;base64,iVBORw0KGgoAAAANSUhEUgAAAAkAAAAJBAMAAAASvxsjAAAALVBMVEX///9mZmbc3NxUVFSYmJhE\n",
       "REQiIiIyMjK6uroQEBDMzMyIiIh2dnbu7u4AAABgFDGoAAAAAXRSTlMAQObYZgAAADZJREFUCNdj\n",
       "YOA9s3sBA8PKBvYEBt7ZDKwODMwPGICALwBE6m0Asx0YGIDiAgw8QJUyu/cyAAAmuwmycZ8WfQAA\n",
       "AABJRU5ErkJggg==\n",
       "\" style=\"display:inline;vertical-align:middle;\" /></a></td></tr>\n",
       "<tr><td>2</td><td>Operation</td><td>operator:&nbsp;6<br>operands:&nbsp;5<br></td><td><a class=\"ProveItLink\" href=\"../1e631544db83ce4853cc0a486ec7448a56387f780/expr.ipynb\"><img src=\"data:image/png;base64,iVBORw0KGgoAAAANSUhEUgAAACIAAAAOBAMAAAC4B9O8AAAAMFBMVEX///+YmJju7u4QEBBUVFQy\n",
       "MjIiIiKIiIi6urpmZmbc3NyqqqpERER2dnbMzMwAAAB0GlNiAAAAAXRSTlMAQObYZgAAAJhJREFU\n",
       "CNdjYHh79zQDDKiYAQmuCQz9BXChECDm/c3AnwAX+Q3E3MgiHJ8gNEIXbwJCMwSwupcIMDDwXXWA\n",
       "i+gfYPgHoosbgASTApDYr8BgCxJhBpmnDzJiKgPDTwauBww8H4Ec5QNAIpOB4yOD/ieICNQ5nJ8Y\n",
       "+AMY2H7BRP4xMF9gYBdg6L8AE/FmmAIkd86MRvi0UoABAPL2JMAQl6zyAAAAAElFTkSuQmCC\n",
       "\" style=\"display:inline;vertical-align:middle;\" /></a></td></tr>\n",
       "<tr><td>3</td><td>Operation</td><td>operator:&nbsp;6<br>operands:&nbsp;7<br></td><td><a class=\"ProveItLink\" href=\"../4fa23b01b5b767887c70271cab015f5b5c98d38c0/expr.ipynb\"><img src=\"data:image/png;base64,iVBORw0KGgoAAAANSUhEUgAAACEAAAAOBAMAAABTMGi/AAAAMFBMVEX///+YmJh2dnbMzMwQEBAi\n",
       "IiLu7u6qqqqIiIhUVFS6urpEREQyMjJmZmbc3NwAAACOMKdoAAAAAXRSTlMAQObYZgAAAKBJREFU\n",
       "CNdj4Lt7egEDFLBNCQCSLxk4vsNEGHgmAIlpDAzxcBH+AiDhksAwH65tfQKQOJ/AcB8uogql4xNg\n",
       "Iic7JoIo5k9wu34z8BuALNgA4qUBMfs3BhYFIH0bLP0VSPAeYOC/wMDAMQEs4g0kWC8wrBdgYKhl\n",
       "4HuAcM79BAbmCwyMcBEDBicGhqdKSldhdnEW8AKNiP///yvc9hkXGRgAQ2knSfB0jgcAAAAASUVO\n",
       "RK5CYII=\n",
       "\" style=\"display:inline;vertical-align:middle;\" /></a></td></tr>\n",
       "<tr><td>4</td><td>Variable</td><td></td><td><a class=\"ProveItLink\" href=\"../5144cf74ae6a683b49b974f1b9302b432abf7e930/expr.ipynb\"><img src=\"data:image/png;base64,iVBORw0KGgoAAAANSUhEUgAAACUAAAAJBAMAAABH3vh9AAAAKlBMVEX////MzMwQEBAiIiKYmJhm\n",
       "ZmZUVFSIiIh2dnbc3Nzu7u5ERESqqqoAAABwkVEpAAAAAXRSTlMAQObYZgAAAEtJREFUCNdjYIAA\n",
       "zvbM4+EMqGAFg7ODMppYA0Mtw0E0sQUM2QyYQB1TiPMiAxeakCf7BYYqVCGeK9wKnAUw3undQLCA\n",
       "a3tXRwmMAwC3+RVNp6j0GAAAAABJRU5ErkJggg==\n",
       "\" style=\"display:inline;vertical-align:middle;\" /></a></td></tr>\n",
       "<tr><td>5</td><td>ExprTuple</td><td>8, 10</td><td><a class=\"ProveItLink\" href=\"../ed5a6ec4c875d8d4dac8f1f17e42c24dc92561870/expr.ipynb\"><img src=\"data:image/png;base64,iVBORw0KGgoAAAANSUhEUgAAACkAAAAVBAMAAAAp9toTAAAAMFBMVEX////c3NwiIiJERESqqqqY\n",
       "mJh2dnZmZmYQEBDu7u4yMjJUVFTMzMyIiIi6uroAAAAs73DqAAAAAXRSTlMAQObYZgAAARBJREFU\n",
       "GNNtka9Pw0AcxT/d2rVlY53H7I8AX4edQpIGAQnJkhpAgiBIqMRRAYLM1JBgSKowmEkEJAtypvya\n",
       "qCF873odScOJd++95L737h38v/rThrGt4Aked9crw78fgpsLu8WKKcyBlUwghdUpnW+CYeUGocAW\n",
       "eAn2n1skApcwr5SZsKOgHXKo1cTcP3m9g07MjfDefmYyfBHk2CnnWj7P9GaXeBH9E3609Eq9uSlB\n",
       "TO9duVZOe6HdliQfKfcUrsralbjHiZqwITyl9YFKKledgZOyJ88bUUT+p7jd0M10sjcRm0fX+BcD\n",
       "SfZwoMqY4Q3qRmuiXuxEhjvLgse6yYbrS5OsGbH8kq4aZTV/6AV+AUvGQYW/r0RJAAAAAElFTkSu\n",
       "QmCC\n",
       "\" style=\"display:inline;vertical-align:middle;\" /></a></td></tr>\n",
       "<tr><td>6</td><td>Literal</td><td></td><td><a class=\"ProveItLink\" href=\"../../../multiplication/__pv_it/21fd2079611555ecce512d99547a00d551e6b86b0/expr.ipynb\"><img src=\"data:image/png;base64,iVBORw0KGgoAAAANSUhEUgAAAAMAAAADBAMAAACkBqiMAAAAElBMVEX///9EREQQEBAiIiLu7u4A\n",
       "AABGBidwAAAAAXRSTlMAQObYZgAAABFJREFUCNdjYHFgcDVgcBIAAASWAQx4jI0xAAAAAElFTkSu\n",
       "QmCC\n",
       "\" style=\"display:inline;vertical-align:middle;\" /></a></td></tr>\n",
       "<tr><td>7</td><td>ExprTuple</td><td>9, 10</td><td><a class=\"ProveItLink\" href=\"../3a7fed3333ef42636d071b31cc212d3a8cbf468e0/expr.ipynb\"><img src=\"data:image/png;base64,iVBORw0KGgoAAAANSUhEUgAAACkAAAAVBAMAAAAp9toTAAAAMFBMVEX////c3NwiIiJERESqqqqY\n",
       "mJh2dnZmZmYQEBDu7u4yMjJUVFTMzMyIiIi6uroAAAAs73DqAAAAAXRSTlMAQObYZgAAARNJREFU\n",
       "GNNtkaFPw0AUxn8tK20prEMhMFVoDJb0TwCDJA2CKZIaEBgQhAQDlcgmBEEwNSQYkjkEgnlGIEjM\n",
       "FqZqKO/u2omGipf3/a737rvv4P+vO2yBXVVeYOV40wD/MQJ3IN0dVsFHbPBCISWHpSFBhj0xNFSr\n",
       "O+BleBcEv4aOMynX8C3bStya7qkyF3OklV0aev/+APMpt1q9JsbDlHBAJ+dSyxvza6fES+ieoge6\n",
       "64a6OWHK4sTQt/padsp4S9EztTFlubF7kqkJGyKeYRvlVI46ByenD9bafj/yf4QGsVtoZ18yraqq\n",
       "yL/qibOnQxXGJ16vSbRp1I2dpO6dWcAHOskW9SVJVmsxe5JAjbLaLzSCP9bMPeBRRV1aAAAAAElF\n",
       "TkSuQmCC\n",
       "\" style=\"display:inline;vertical-align:middle;\" /></a></td></tr>\n",
       "<tr><td>8</td><td>Literal</td><td></td><td><a class=\"ProveItLink\" href=\"../../../numeral/__pv_it/9176d93c83afa2c995b614976e3cb49207102fa70/expr.ipynb\"><img src=\"data:image/png;base64,iVBORw0KGgoAAAANSUhEUgAAAAoAAAAOBAMAAADkjZCYAAAAMFBMVEX///+YmJju7u4QEBBUVFQy\n",
       "MjIiIiKIiIi6urpmZmbc3NyqqqpERER2dnbMzMwAAAB0GlNiAAAAAXRSTlMAQObYZgAAAE1JREFU\n",
       "CNdjYHh79zQDA9cEhv4CBt7fDPwJDNxgEgiAIkAQAsR8Vx1ATIbiBhDJ/ImB6wEDz0cG/U8gkj+A\n",
       "ge0XA7sAQ/8FBoadM6MZAEflFACalZ/OAAAAAElFTkSuQmCC\n",
       "\" style=\"display:inline;vertical-align:middle;\" /></a></td></tr>\n",
       "<tr><td>9</td><td>Literal</td><td></td><td><a class=\"ProveItLink\" href=\"../../../numeral/__pv_it/77d407a64829263cdc16415becd4c2293f77a4bf0/expr.ipynb\"><img src=\"data:image/png;base64,iVBORw0KGgoAAAANSUhEUgAAAAkAAAAOBAMAAAAPuiubAAAAMFBMVEX///+YmJh2dnbMzMwQEBAi\n",
       "IiLu7u6qqqqIiIhUVFS6urpEREQyMjJmZmbc3NwAAACOMKdoAAAAAXRSTlMAQObYZgAAAFBJREFU\n",
       "CNdj4Lt7egEDw0sGju8MDNMYGOIZGFwSGOYvYDifwHAfKAEUSQASzJ9ATJ4NIPI2iOCYACJrGfge\n",
       "MDBfYGB8wPBUSekqUPH//18ZAIliFhc3zESNAAAAAElFTkSuQmCC\n",
       "\" style=\"display:inline;vertical-align:middle;\" /></a></td></tr>\n",
       "<tr><td>10</td><td>Variable</td><td></td><td><a class=\"ProveItLink\" href=\"../../../../__pv_it/6840a4fa6c106149dc16a131294d0c5e44f1b0480/expr.ipynb\"><img src=\"data:image/png;base64,iVBORw0KGgoAAAANSUhEUgAAAAkAAAAOBAMAAAAPuiubAAAALVBMVEX///9mZmbMzMxERESYmJiI\n",
       "iIh2dna6urqqqqoyMjIiIiIQEBBUVFTu7u4AAAD9S1JeAAAAAXRSTlMAQObYZgAAAE1JREFUCNdj\n",
       "4D29gAEIOA+ASL4GEFl3AURmgQiGOaFHGBh4HzPwKTBwvGXgTmBgnMDAJ8DAJcBQ5wBSLncBJLWN\n",
       "gYGngRFoBO9REQYGAGrcDtUkVqASAAAAAElFTkSuQmCC\n",
       "\" style=\"display:inline;vertical-align:middle;\" /></a></td></tr>\n",
       "</table>\n"
      ],
      "text/plain": [
       "0. (2 , b , c , 3 * b , 2 * b , _x_)\n",
       "   core type: ExprTuple\n",
       "   sub-expressions: 9, 10, 1, 2, 3, 4\n",
       "1. c\n",
       "   core type: Variable\n",
       "   sub-expressions: \n",
       "2. 3 * b\n",
       "   core type: Operation\n",
       "   operator: 6\n",
       "   operands: 5\n",
       "3. 2 * b\n",
       "   core type: Operation\n",
       "   operator: 6\n",
       "   operands: 7\n",
       "4. _x_\n",
       "   core type: Variable\n",
       "   sub-expressions: \n",
       "5. (3 , b)\n",
       "   core type: ExprTuple\n",
       "   sub-expressions: 8, 10\n",
       "6. *\n",
       "   core type: Literal\n",
       "   sub-expressions: \n",
       "7. (2 , b)\n",
       "   core type: ExprTuple\n",
       "   sub-expressions: 9, 10\n",
       "8. 3\n",
       "   core type: Literal\n",
       "   sub-expressions: \n",
       "9. 2\n",
       "   core type: Literal\n",
       "   sub-expressions: \n",
       "10. b\n",
       "    core type: Variable\n",
       "    sub-expressions: "
      ]
     },
     "execution_count": 4,
     "metadata": {},
     "output_type": "execute_result"
    }
   ],
   "source": [
    "# display the expression information\n",
    "expr.exprInfo()"
   ]
  },
  {
   "cell_type": "code",
   "execution_count": null,
   "metadata": {},
   "outputs": [],
   "source": []
  }
 ],
 "metadata": {
  "kernelspec": {
   "display_name": "Python 3",
   "language": "python",
   "name": "python3"
  }
 },
 "nbformat": 4,
 "nbformat_minor": 0
}
