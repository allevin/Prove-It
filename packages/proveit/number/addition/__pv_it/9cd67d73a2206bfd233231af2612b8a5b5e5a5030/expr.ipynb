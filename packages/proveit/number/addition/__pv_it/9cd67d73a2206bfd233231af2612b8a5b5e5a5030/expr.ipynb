{
 "cells": [
  {
   "cell_type": "markdown",
   "metadata": {},
   "source": [
    "Expression of type <a class=\"ProveItLink\" href=\"../../../../../../doc/html/api/proveit.ExprTuple.html\">ExprTuple</a>\n",
    "=======================\n",
    "# from context <a class=\"ProveItLink\" href=\"../../_context_.ipynb\">proveit.number.addition</a>"
   ]
  },
  {
   "cell_type": "code",
   "execution_count": 1,
   "metadata": {},
   "outputs": [],
   "source": [
    "# import Expression classes needed to build the expression\n",
    "from proveit import ExprTuple\n",
    "from proveit._common_ import a, b, c\n",
    "from proveit.number import Add, Mult, two, zero"
   ]
  },
  {
   "cell_type": "code",
   "execution_count": 2,
   "metadata": {},
   "outputs": [
    {
     "data": {
      "text/html": [
       "<strong id=\"expr\">expr:</strong> <a class=\"ProveItLink\" href=\"expr.ipynb\"><img src=\"data:image/png;base64,iVBORw0KGgoAAAANSUhEUgAAAXAAAAAVBAMAAACteahRAAAAMFBMVEX////c3NwiIiJERESqqqqY\n",
       "mJh2dnZmZmYQEBDu7u4yMjJUVFTMzMyIiIi6uroAAAAs73DqAAAAAXRSTlMAQObYZgAAA1VJREFU\n",
       "SMfVVzFoE1EY/i5Nc7mkbeLk4GAnK+jQQVfJLEjPxcFBSod2sZLFDFWxigiKlrhIsUNCpUOvIBEU\n",
       "RQgeOCg4NLgUbVOjkwjSSK0SqNb33n93ufcuKZdQBx/8dy9f3n3fl7vv3nsB/ts2UKFSWm/tH+io\n",
       "7VyXXMLcW6r9Uyc8fO46O1xWBhvPBztXMK6s2E5X0RB0ut2lBje3KEor4WPGw5dYJdTBiVLnxiM1\n",
       "46jTVTUEXbFLDWauvyIqmUek7uE/+OMYdT7cc86pjAI0WwAx0nR+B3ygXkBD0J0Jr+FSUlZGEc+D\n",
       "V/wWkn+8ODb4wGnn0ynnvJFXgGYLIFEn0EfYZSSoahDdbHiNqP8dYea+shOrRAO6RxoTSTumcIyh\n",
       "c+O/gGW6iaoG0fVkQmtIxpm5HDvmKI8NL0HlVROYUDiWqk9lQCtfuCYjxnjV9qtoP5lx6qoaRBfL\n",
       "htbwjN+fXOPmFlh3QQDLbqhRGMY2cFI2bmwiZUukX9I9dVnmTS0xGDBOtKoG0UWLoTVc430zmOfm\n",
       "Zlh/RiAPxaU8ZCN53GTXyMajDcRH/YC2BX1Y1r2LHrONcVWD6AamQ2u4xmcrOM7N8dCJ4NGAAr9j\n",
       "UxRO2bheRCrrB5J1RCpQEDmQvqioGkTXVw+t4Rp/SY+uaXyVfg+nHsLAlmN8yrIOWxaf1yNZbJh+\n",
       "IDWMgg0FEfKWNX/bskrOy2k2jfs0iE4YD6Hho9x0jN9gR17RLPY1p3G9EYgKm2Kv5v3AwQpGoCLB\n",
       "6XCEpkNVg+iUqOym4T7E35R9nhdRr4HTLum2SNpZxbjNg+8DChm8iEqvUordLSnjfAEag4EWGkTX\n",
       "Wwyt4VKyLPRyc3zSY6UdGp/w9glPcAmB6TCZ0UsSkDCjQzF5SBYxWSWSMe5QplUNolOmw900XMpn\n",
       "wHlO95n1WUV2dnY80rkVft8eKdNh+aIMaOX1V+vydJirvpdVjNyqjdnvLTSILlELreFS6pPVPDcX\n",
       "ZxGMp1tt7KbbLWIdrJzUPqGNRmDJB0Iv+Xwv5e2n/C3mDvymfhMAgoi8+TbRRgOT4TUkSm5u0dna\n",
       "qu3B3v2HMNFGwyh2ycjNHXBKbY/3zHe/OLbSSKa7pOTmtAqVqmbv8V+3FhpY6/ZW2PgLPUFQUNUJ\n",
       "2KUAAAAASUVORK5CYII=\n",
       "\" style=\"display:inline;vertical-align:middle;\" /></a><br>"
      ],
      "text/plain": [
       "expr: ((2 * b) + b + a + c + 0 , (2 * b) + b + a + c)"
      ]
     },
     "execution_count": 2,
     "metadata": {},
     "output_type": "execute_result"
    }
   ],
   "source": [
    "# build up the expression from sub-expressions\n",
    "subExpr1 = Mult(two, b)\n",
    "expr = ExprTuple(Add(subExpr1, b, a, c, zero), Add(subExpr1, b, a, c))"
   ]
  },
  {
   "cell_type": "code",
   "execution_count": 3,
   "metadata": {},
   "outputs": [
    {
     "name": "stdout",
     "output_type": "stream",
     "text": [
      "Passed sanity check: built 'expr' is the same as the stored Expression.\n"
     ]
    }
   ],
   "source": [
    "# check that the built expression is the same as the stored expression\n",
    "%check_expr"
   ]
  },
  {
   "cell_type": "code",
   "execution_count": 4,
   "metadata": {},
   "outputs": [
    {
     "data": {
      "text/html": [
       "<table><tr><th>&nbsp;</th><th>core type</th><th>sub-expressions</th><th>expression</th></tr>\n",
       "<tr><td>0</td><td>ExprTuple</td><td>1, 2</td><td><a class=\"ProveItLink\" href=\"expr.ipynb\"><img src=\"data:image/png;base64,iVBORw0KGgoAAAANSUhEUgAAAXAAAAAVBAMAAACteahRAAAAMFBMVEX////c3NwiIiJERESqqqqY\n",
       "mJh2dnZmZmYQEBDu7u4yMjJUVFTMzMyIiIi6uroAAAAs73DqAAAAAXRSTlMAQObYZgAAA1VJREFU\n",
       "SMfVVzFoE1EY/i5Nc7mkbeLk4GAnK+jQQVfJLEjPxcFBSod2sZLFDFWxigiKlrhIsUNCpUOvIBEU\n",
       "RQgeOCg4NLgUbVOjkwjSSK0SqNb33n93ufcuKZdQBx/8dy9f3n3fl7vv3nsB/ts2UKFSWm/tH+io\n",
       "7VyXXMLcW6r9Uyc8fO46O1xWBhvPBztXMK6s2E5X0RB0ut2lBje3KEor4WPGw5dYJdTBiVLnxiM1\n",
       "46jTVTUEXbFLDWauvyIqmUek7uE/+OMYdT7cc86pjAI0WwAx0nR+B3ygXkBD0J0Jr+FSUlZGEc+D\n",
       "V/wWkn+8ODb4wGnn0ynnvJFXgGYLIFEn0EfYZSSoahDdbHiNqP8dYea+shOrRAO6RxoTSTumcIyh\n",
       "c+O/gGW6iaoG0fVkQmtIxpm5HDvmKI8NL0HlVROYUDiWqk9lQCtfuCYjxnjV9qtoP5lx6qoaRBfL\n",
       "htbwjN+fXOPmFlh3QQDLbqhRGMY2cFI2bmwiZUukX9I9dVnmTS0xGDBOtKoG0UWLoTVc430zmOfm\n",
       "Zlh/RiAPxaU8ZCN53GTXyMajDcRH/YC2BX1Y1r2LHrONcVWD6AamQ2u4xmcrOM7N8dCJ4NGAAr9j\n",
       "UxRO2bheRCrrB5J1RCpQEDmQvqioGkTXVw+t4Rp/SY+uaXyVfg+nHsLAlmN8yrIOWxaf1yNZbJh+\n",
       "IDWMgg0FEfKWNX/bskrOy2k2jfs0iE4YD6Hho9x0jN9gR17RLPY1p3G9EYgKm2Kv5v3AwQpGoCLB\n",
       "6XCEpkNVg+iUqOym4T7E35R9nhdRr4HTLum2SNpZxbjNg+8DChm8iEqvUordLSnjfAEag4EWGkTX\n",
       "Wwyt4VKyLPRyc3zSY6UdGp/w9glPcAmB6TCZ0UsSkDCjQzF5SBYxWSWSMe5QplUNolOmw900XMpn\n",
       "wHlO95n1WUV2dnY80rkVft8eKdNh+aIMaOX1V+vydJirvpdVjNyqjdnvLTSILlELreFS6pPVPDcX\n",
       "ZxGMp1tt7KbbLWIdrJzUPqGNRmDJB0Iv+Xwv5e2n/C3mDvymfhMAgoi8+TbRRgOT4TUkSm5u0dna\n",
       "qu3B3v2HMNFGwyh2ycjNHXBKbY/3zHe/OLbSSKa7pOTmtAqVqmbv8V+3FhpY6/ZW2PgLPUFQUNUJ\n",
       "2KUAAAAASUVORK5CYII=\n",
       "\" style=\"display:inline;vertical-align:middle;\" /></a></td></tr>\n",
       "<tr><td>1</td><td>Operation</td><td>operator:&nbsp;4<br>operands:&nbsp;3<br></td><td><a class=\"ProveItLink\" href=\"../3c283eefb44cb1ca35d2ba8dbaa8c3ccd7fa38e00/expr.ipynb\"><img src=\"data:image/png;base64,iVBORw0KGgoAAAANSUhEUgAAAL0AAAAVBAMAAADhtvKAAAAAMFBMVEX////c3NwiIiJERESqqqqY\n",
       "mJh2dnZmZmYQEBDu7u4yMjJUVFTMzMyIiIi6uroAAAAs73DqAAAAAXRSTlMAQObYZgAAAiRJREFU\n",
       "OMu1lb9LG2EYx793nl7OU3OdOnSwUyvUwaVruX9AjItjCQ51MZKlDkKphSIoRc5FsiVYOnguWcRS\n",
       "CAYcOnTwcCn4q9KpFMSA2JJB0/dHePM+lwsSSN/hTd7P+76f973nnntf4H+Xkaidveyh/xvwcOmF\n",
       "ajqfHwN2lY4RsNvivPnONdswyvjhKzxYZlUpNlbALot54YwDwxHcAGZN4TRfaqbZ2NChDrRteh3A\n",
       "EXAMpAKkVuHeqe6rgFWFZmNShzpoFSvqAJ6xaR5+s4evw275Z3nV51PdLLr3/wUOfSzKWNVV987Z\n",
       "LjCQpzoBdWBUFt7F/Ju5Ux0Yf5g/wifROMyq6F0jXYVVIjoJdf8vr69G/UPr2GrzZ7EuGh+FhQfZ\n",
       "qiOVxcgy8UuoAeMG9gT1FyI8T/CLwMuxRZ7kdgnpPIZqxC+hBtwazIj692Pxb8ZH+E/kDvgqZh5X\n",
       "GelfCsOxMNxRUAPpCRR5wOww3FoLQ/51XMudtAB/vxm85yvm8UBL/7dBPD4SamA0whQCst3bhPyc\n",
       "8kTMvgLTyl/FCtBP36+EGij6+GJVie6GzSLgSKT1HFv6yas5db64vl1uy08JNTCYsZ4O0O3uAfME\n",
       "mL7zAfjJ/jQaDeV3Kq/5/AuanwLq+VM5Pzinfjt3RgIGZ/GEPWHKSzqbCp0+1y6+X1n6s0n+XPP3\n",
       "Mt5xef/9EQPbSUd3qXf3y6ME5nq98xsJ9+Npz+z/AGccsGpM/BiTAAAAAElFTkSuQmCC\n",
       "\" style=\"display:inline;vertical-align:middle;\" /></a></td></tr>\n",
       "<tr><td>2</td><td>Operation</td><td>operator:&nbsp;4<br>operands:&nbsp;5<br></td><td><a class=\"ProveItLink\" href=\"../9804d968016d75dba0bce6eb08d8d8c8554625450/expr.ipynb\"><img src=\"data:image/png;base64,iVBORw0KGgoAAAANSUhEUgAAAJkAAAAVBAMAAACnAFEqAAAAMFBMVEX////c3NwiIiJERESqqqqY\n",
       "mJh2dnZmZmYQEBDu7u4yMjJUVFTMzMyIiIi6uroAAAAs73DqAAAAAXRSTlMAQObYZgAAAfdJREFU\n",
       "OMutlDFII0EUhv+NMZtkiZurLK6IlVqm0FZSHxxZ26vEwnSSRoso6IkICsped5xFjjssssKRAwUR\n",
       "AgtX3IGF6UQkKlYiiAEvyEIwzoybycxs4EK4gd3Z98/MtzM/7w3wf9tQNSANXvdNOwGGC1M83F0j\n",
       "r2VlTuxopEdaCVoZVxke75Mnrk6Kl3uDJaowbITqXPhLjzrjB5/83swogrDvpBBEbUQ3YTxzGz06\n",
       "Y9WP3vv9g60InRYWfb8jx/Cgc1qEOTShLJ5Fb7RF9g553KHKhQXklMX7tUNZ0CrzH2VabK7mYo99\n",
       "nraNQjGNJvBOpsUeYboS7TY5UJdpf67jI9hhn9/ZGmpO1sYGmSzTwh6iM6KgNaCnJVpsGwMWmGGv\n",
       "I0VqWQF4InuVafpXmHlRMOoIVSWawbbKaBdM+EyZYxhq+LSC44w7Ds2/UB4PliiYaRTp0XXH+bbl\n",
       "OGWmkLZO8Xm86aSb7gVOStJtxRaFVBVZ2OLeUqybJM9vYLpNazKHPig0l5opCMUMjsOuSDPJ3i2a\n",
       "C9roXI7X4QGWEMgQI6OXJSFuhccism95RFzcEFdarRan7Z6Rn+CHkiGVBVnQKpe/LuUMWaydk8pK\n",
       "dineQGWhx1rgBS62SHvGvTpy/4/7sdSF9qXv2/JtF+1n3zQteJMn3D5ZL2qaidkI4jsRAAAAAElF\n",
       "TkSuQmCC\n",
       "\" style=\"display:inline;vertical-align:middle;\" /></a></td></tr>\n",
       "<tr><td>3</td><td>ExprTuple</td><td>7, 13, 8, 9, 6</td><td><a class=\"ProveItLink\" href=\"../e7434056f3ad99b7769a5358ccc06eae42092dee0/expr.ipynb\"><img src=\"data:image/png;base64,iVBORw0KGgoAAAANSUhEUgAAAHsAAAAVBAMAAACUF4xmAAAAMFBMVEX////c3NwiIiJERESqqqqY\n",
       "mJh2dnZmZmYQEBDu7u4yMjJUVFTMzMyIiIi6uroAAAAs73DqAAAAAXRSTlMAQObYZgAAAc5JREFU\n",
       "OMullDtIA0EQhv/L+/LwDlsL7SwUTGN/naVXWUqwiJVyKMZKoiBioXKlXQJiIRamEVQIHtgIFgYb\n",
       "8RGJVmKT+MZG3UeyXu62ilMs38zw787N7B7wT+uqdKocp8sZoMxv1Vox9aDPAzJTFy4dRB1CO0AP\n",
       "Um8iEy95QWKBmjoIFIEUqf0QGBIZzfCCxC6Aa2AMiNnAqo1jUX3d9oLEBkhaxybwRJw9G3khn/CB\n",
       "xD6BcwNBAznuD4mjdqv7HlDK00vNjmWrDot8EHkFEQvbLJ78ED19hea0AR71YIMnT2vxPiHPIFTE\n",
       "Bu9ymgpoBaEvxDJwg/KOaJpvvY6g6ZJ3LeKbJWbpUqA7R4vQLLgh0UCAX61Es4hW8ckGl6fYiDfp\n",
       "GQELdXaCAC2NAv8KLe1unUnly9QbgaL/TTtvt0FvBaNo0d/gRnVa/DBtnIWwkDtYgeqGgoGjkMNC\n",
       "pBpTbV4bMtdwEZPE6c5mZ1r7JoxoiXVBQNwM9Ud4yELEYR0KGOoa6OAe6NB/fl7E4MpzpAvPLlDK\n",
       "dyd3jJCrXnFQczekHfEaYrrsVt37QBYilzackclNH8hCU/zBdihXyYMlj91vKR/IQgn63UrHP6tb\n",
       "4BdO2JEmu7NwFwAAAABJRU5ErkJggg==\n",
       "\" style=\"display:inline;vertical-align:middle;\" /></a></td></tr>\n",
       "<tr><td>4</td><td>Literal</td><td></td><td><a class=\"ProveItLink\" href=\"../3e6688136fa3c7aefbebe51301b7c3ebf0b69c440/expr.ipynb\"><img src=\"data:image/png;base64,iVBORw0KGgoAAAANSUhEUgAAAA4AAAAOBAMAAADtZjDiAAAAJFBMVEX///+6urpUVFQQEBAiIiIy\n",
       "MjJmZmaIiIiqqqrc3Nzu7u4AAACgHpL+AAAAAXRSTlMAQObYZgAAAB5JREFUCNdjYGBgWMkAAe2k\n",
       "0Kmhoc6hoUGk6BMHYgAHOwjcado9fwAAAABJRU5ErkJggg==\n",
       "\" style=\"display:inline;vertical-align:middle;\" /></a></td></tr>\n",
       "<tr><td>5</td><td>ExprTuple</td><td>7, 13, 8, 9</td><td><a class=\"ProveItLink\" href=\"../0b895f3ca111a7c58e6497ead608638bbfff65ff0/expr.ipynb\"><img src=\"data:image/png;base64,iVBORw0KGgoAAAANSUhEUgAAAGcAAAAVBAMAAACphe0AAAAAMFBMVEX////c3NwiIiJERESqqqqY\n",
       "mJh2dnZmZmYQEBDu7u4yMjJUVFTMzMyIiIi6uroAAAAs73DqAAAAAXRSTlMAQObYZgAAAZFJREFU\n",
       "OMudk7FPwkAUxr+WQlsqFCcHB5l0ZXE1/Q+sC6MhDjBpusjgIibGxEHT0Y0mxsG4sJgYE5ImDpo4\n",
       "yGoURCfjAsY4sIjXO7yWKwu+4fq7L/3u3nt3B/wrsq3p/l8PhntgbmeFa/pVXgAhVJ8M55AaeLG4\n",
       "mG6IIIQHZFowXMh9rpmWCEIUAc2Fdgjjh2s9VwQhToAPkscAamjaiIEQCQtVCvKAaxftSwGk5tbe\n",
       "qDnlto+UgzM6eyjx7n3B9McA77nEqOS7bjoPxcMxnZ3S34IilAE0ugIH6RtqgS14hISNbA20GCbW\n",
       "g4NRPZgOomD0IbMLYNANZ/rM9MTaElhlBz0bUTALqLM8zcLItB9k4mA2cky77hgstLCKPwruXQ3L\n",
       "5HMLrHGTjwPoUahbuFZ8KpGdbSQ9VEili+UKv2eGpTZodRzStrKUYpKDFG35G8l+OBxyk97cJtV9\n",
       "RkBqdm46lFBtP5JFutByk079NQYhkWuULE0y2TEIaZM+jelMOnkamJ/gycQgJCOoR5ryuT8Dv/Qv\n",
       "dKAk0Vf2AAAAAElFTkSuQmCC\n",
       "\" style=\"display:inline;vertical-align:middle;\" /></a></td></tr>\n",
       "<tr><td>6</td><td>Literal</td><td></td><td><a class=\"ProveItLink\" href=\"../../../numeral/__pv_it/ec23fc7a1b4222a5f4948b495002b97d6fa18c3c0/expr.ipynb\"><img src=\"data:image/png;base64,iVBORw0KGgoAAAANSUhEUgAAAAoAAAAOBAMAAADkjZCYAAAALVBMVEX///8QEBCYmJh2dnaqqqrc\n",
       "3NxUVFQyMjK6uroiIiLMzMyIiIhmZmbu7u4AAAAZjyHdAAAAAXRSTlMAQObYZgAAAEpJREFUCNdj\n",
       "YLiz+xQDA8MMhpsLGLgnMHAXMHAmMHA8ZeA7wMD1hCHOgIHrNZh8jES+Bss+AqlkeQrSxTyBgWEK\n",
       "w8UFDAx3rLMYAMCjFldHSx/9AAAAAElFTkSuQmCC\n",
       "\" style=\"display:inline;vertical-align:middle;\" /></a></td></tr>\n",
       "<tr><td>7</td><td>Operation</td><td>operator:&nbsp;10<br>operands:&nbsp;11<br></td><td><a class=\"ProveItLink\" href=\"../4fa23b01b5b767887c70271cab015f5b5c98d38c0/expr.ipynb\"><img src=\"data:image/png;base64,iVBORw0KGgoAAAANSUhEUgAAACEAAAAOBAMAAABTMGi/AAAAMFBMVEX///+YmJh2dnbMzMwQEBAi\n",
       "IiLu7u6qqqqIiIhUVFS6urpEREQyMjJmZmbc3NwAAACOMKdoAAAAAXRSTlMAQObYZgAAAKBJREFU\n",
       "CNdj4Lt7egEDFLBNCQCSLxk4vsNEGHgmAIlpDAzxcBH+AiDhksAwH65tfQKQOJ/AcB8uogql4xNg\n",
       "Iic7JoIo5k9wu34z8BuALNgA4qUBMfs3BhYFIH0bLP0VSPAeYOC/wMDAMQEs4g0kWC8wrBdgYKhl\n",
       "4HuAcM79BAbmCwyMcBEDBicGhqdKSldhdnEW8AKNiP///yvc9hkXGRgAQ2knSfB0jgcAAAAASUVO\n",
       "RK5CYII=\n",
       "\" style=\"display:inline;vertical-align:middle;\" /></a></td></tr>\n",
       "<tr><td>8</td><td>Variable</td><td></td><td><a class=\"ProveItLink\" href=\"../../../../__pv_it/07527342713064c87612d00d8557c53d53d5324a0/expr.ipynb\"><img src=\"data:image/png;base64,iVBORw0KGgoAAAANSUhEUgAAAAsAAAAJBAMAAAAWSsseAAAAMFBMVEX///8yMjKqqqrMzMzu7u4i\n",
       "IiJmZmaYmJhEREQQEBC6urp2dnaIiIhUVFTc3NwAAAD87Fq/AAAAAXRSTlMAQObYZgAAAEhJREFU\n",
       "CNdjYOC7s2seAwPDygccHxgY+L4zsDUwMPB+YGA9wMDA38Dgb8DA8P4Agz6DA4O/AsNFJgMGxgKm\n",
       "MG6gyjunLE4xAAAZTBA5TB6DCwAAAABJRU5ErkJggg==\n",
       "\" style=\"display:inline;vertical-align:middle;\" /></a></td></tr>\n",
       "<tr><td>9</td><td>Variable</td><td></td><td><a class=\"ProveItLink\" href=\"../../../../__pv_it/cbdfda466482236edba0ce44ac7ef39cda0af7a40/expr.ipynb\"><img src=\"data:image/png;base64,iVBORw0KGgoAAAANSUhEUgAAAAkAAAAJBAMAAAASvxsjAAAALVBMVEX///9mZmbc3NxUVFSYmJhE\n",
       "REQiIiIyMjK6uroQEBDMzMyIiIh2dnbu7u4AAABgFDGoAAAAAXRSTlMAQObYZgAAADZJREFUCNdj\n",
       "YOA9s3sBA8PKBvYEBt7ZDKwODMwPGICALwBE6m0Asx0YGIDiAgw8QJUyu/cyAAAmuwmycZ8WfQAA\n",
       "AABJRU5ErkJggg==\n",
       "\" style=\"display:inline;vertical-align:middle;\" /></a></td></tr>\n",
       "<tr><td>10</td><td>Literal</td><td></td><td><a class=\"ProveItLink\" href=\"../../../multiplication/__pv_it/21fd2079611555ecce512d99547a00d551e6b86b0/expr.ipynb\"><img src=\"data:image/png;base64,iVBORw0KGgoAAAANSUhEUgAAAAMAAAADBAMAAACkBqiMAAAAElBMVEX///9EREQQEBAiIiLu7u4A\n",
       "AABGBidwAAAAAXRSTlMAQObYZgAAABFJREFUCNdjYHFgcDVgcBIAAASWAQx4jI0xAAAAAElFTkSu\n",
       "QmCC\n",
       "\" style=\"display:inline;vertical-align:middle;\" /></a></td></tr>\n",
       "<tr><td>11</td><td>ExprTuple</td><td>12, 13</td><td><a class=\"ProveItLink\" href=\"../3a7fed3333ef42636d071b31cc212d3a8cbf468e0/expr.ipynb\"><img src=\"data:image/png;base64,iVBORw0KGgoAAAANSUhEUgAAACkAAAAVBAMAAAAp9toTAAAAMFBMVEX////c3NwiIiJERESqqqqY\n",
       "mJh2dnZmZmYQEBDu7u4yMjJUVFTMzMyIiIi6uroAAAAs73DqAAAAAXRSTlMAQObYZgAAARNJREFU\n",
       "GNNtkaFPw0AUxn8tK20prEMhMFVoDJb0TwCDJA2CKZIaEBgQhAQDlcgmBEEwNSQYkjkEgnlGIEjM\n",
       "FqZqKO/u2omGipf3/a737rvv4P+vO2yBXVVeYOV40wD/MQJ3IN0dVsFHbPBCISWHpSFBhj0xNFSr\n",
       "O+BleBcEv4aOMynX8C3bStya7qkyF3OklV0aev/+APMpt1q9JsbDlHBAJ+dSyxvza6fES+ieoge6\n",
       "64a6OWHK4sTQt/padsp4S9EztTFlubF7kqkJGyKeYRvlVI46ByenD9bafj/yf4QGsVtoZ18yraqq\n",
       "yL/qibOnQxXGJ16vSbRp1I2dpO6dWcAHOskW9SVJVmsxe5JAjbLaLzSCP9bMPeBRRV1aAAAAAElF\n",
       "TkSuQmCC\n",
       "\" style=\"display:inline;vertical-align:middle;\" /></a></td></tr>\n",
       "<tr><td>12</td><td>Literal</td><td></td><td><a class=\"ProveItLink\" href=\"../../../numeral/__pv_it/77d407a64829263cdc16415becd4c2293f77a4bf0/expr.ipynb\"><img src=\"data:image/png;base64,iVBORw0KGgoAAAANSUhEUgAAAAkAAAAOBAMAAAAPuiubAAAAMFBMVEX///+YmJh2dnbMzMwQEBAi\n",
       "IiLu7u6qqqqIiIhUVFS6urpEREQyMjJmZmbc3NwAAACOMKdoAAAAAXRSTlMAQObYZgAAAFBJREFU\n",
       "CNdj4Lt7egEDw0sGju8MDNMYGOIZGFwSGOYvYDifwHAfKAEUSQASzJ9ATJ4NIPI2iOCYACJrGfge\n",
       "MDBfYGB8wPBUSekqUPH//18ZAIliFhc3zESNAAAAAElFTkSuQmCC\n",
       "\" style=\"display:inline;vertical-align:middle;\" /></a></td></tr>\n",
       "<tr><td>13</td><td>Variable</td><td></td><td><a class=\"ProveItLink\" href=\"../../../../__pv_it/6840a4fa6c106149dc16a131294d0c5e44f1b0480/expr.ipynb\"><img src=\"data:image/png;base64,iVBORw0KGgoAAAANSUhEUgAAAAkAAAAOBAMAAAAPuiubAAAALVBMVEX///9mZmbMzMxERESYmJiI\n",
       "iIh2dna6urqqqqoyMjIiIiIQEBBUVFTu7u4AAAD9S1JeAAAAAXRSTlMAQObYZgAAAE1JREFUCNdj\n",
       "4D29gAEIOA+ASL4GEFl3AURmgQiGOaFHGBh4HzPwKTBwvGXgTmBgnMDAJ8DAJcBQ5wBSLncBJLWN\n",
       "gYGngRFoBO9REQYGAGrcDtUkVqASAAAAAElFTkSuQmCC\n",
       "\" style=\"display:inline;vertical-align:middle;\" /></a></td></tr>\n",
       "</table>\n"
      ],
      "text/plain": [
       "0. ((2 * b) + b + a + c + 0 , (2 * b) + b + a + c)\n",
       "   core type: ExprTuple\n",
       "   sub-expressions: 1, 2\n",
       "1. (2 * b) + b + a + c + 0\n",
       "   core type: Operation\n",
       "   operator: 4\n",
       "   operands: 3\n",
       "2. (2 * b) + b + a + c\n",
       "   core type: Operation\n",
       "   operator: 4\n",
       "   operands: 5\n",
       "3. (2 * b , b , a , c , 0)\n",
       "   core type: ExprTuple\n",
       "   sub-expressions: 7, 13, 8, 9, 6\n",
       "4. +\n",
       "   core type: Literal\n",
       "   sub-expressions: \n",
       "5. (2 * b , b , a , c)\n",
       "   core type: ExprTuple\n",
       "   sub-expressions: 7, 13, 8, 9\n",
       "6. 0\n",
       "   core type: Literal\n",
       "   sub-expressions: \n",
       "7. 2 * b\n",
       "   core type: Operation\n",
       "   operator: 10\n",
       "   operands: 11\n",
       "8. a\n",
       "   core type: Variable\n",
       "   sub-expressions: \n",
       "9. c\n",
       "   core type: Variable\n",
       "   sub-expressions: \n",
       "10. *\n",
       "    core type: Literal\n",
       "    sub-expressions: \n",
       "11. (2 , b)\n",
       "    core type: ExprTuple\n",
       "    sub-expressions: 12, 13\n",
       "12. 2\n",
       "    core type: Literal\n",
       "    sub-expressions: \n",
       "13. b\n",
       "    core type: Variable\n",
       "    sub-expressions: "
      ]
     },
     "execution_count": 4,
     "metadata": {},
     "output_type": "execute_result"
    }
   ],
   "source": [
    "# display the expression information\n",
    "expr.exprInfo()"
   ]
  },
  {
   "cell_type": "code",
   "execution_count": null,
   "metadata": {},
   "outputs": [],
   "source": []
  }
 ],
 "metadata": {
  "kernelspec": {
   "display_name": "Python 3",
   "language": "python",
   "name": "python3"
  }
 },
 "nbformat": 4,
 "nbformat_minor": 0
}
