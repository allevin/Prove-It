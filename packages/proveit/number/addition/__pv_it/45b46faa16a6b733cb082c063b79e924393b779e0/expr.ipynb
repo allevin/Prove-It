{
 "cells": [
  {
   "cell_type": "markdown",
   "metadata": {},
   "source": [
    "Expression of type <a class=\"ProveItLink\" href=\"../../../../../../doc/html/api/proveit.ExprTuple.html\">ExprTuple</a>\n",
    "=======================\n",
    "# from context <a class=\"ProveItLink\" href=\"../../_context_.ipynb\">proveit.number.addition</a>"
   ]
  },
  {
   "cell_type": "code",
   "execution_count": 1,
   "metadata": {},
   "outputs": [],
   "source": [
    "# import Expression classes needed to build the expression\n",
    "from proveit import ExprTuple\n",
    "from proveit._common_ import A, B, C, b, c\n",
    "from proveit.number import Complexes, Exp, one, seven, three"
   ]
  },
  {
   "cell_type": "code",
   "execution_count": 2,
   "metadata": {},
   "outputs": [
    {
     "data": {
      "text/html": [
       "<strong id=\"expr\">expr:</strong> <a class=\"ProveItLink\" href=\"expr.ipynb\"><img src=\"data:image/png;base64,iVBORw0KGgoAAAANSUhEUgAAANAAAAAcBAMAAADioCyIAAAAMFBMVEX///+qqqp2dnYiIiJERESI\n",
       "iIhmZmYQEBDc3NyYmJgyMjLu7u5UVFTMzMy6uroAAACGxKilAAAAAXRSTlMAQObYZgAAA3RJREFU\n",
       "SMe9Vl1IVEEU/lbdn7t37919rR5cKushIh+iHyQ0KCIMvGAWQeFSoViE1mOEGlgPYmjRU0EJQT8q\n",
       "tVgQWKkPZhkLir1KuxSU9eBfSubfdubO3L2ze+3NdWDmnDNzZr4z52fuBbLccja9iWI9WiCZnBXs\n",
       "RHaBJiZKEWac1p9VIBdcCYwxrifbLrwBuA2iQ9R1Y40OVRLOOeaxfYCvjugY1A+FKeXhpdjAc0tS\n",
       "jw/W+CIZe0sF1TZvDdmzn6lfkrTKO/7sjvDQnAY87JBOwG+HylsC1FqmbW+DXt2WjvNqUTA3oc/Z\n",
       "0y+o+23xywq65/rhYZnQF4U3wV0YtE2LkxgXuD1FNOxqTMN5G7OAdoXw23ZbMUVbCafEAJmX349c\n",
       "ZiUNcXYF0pi0c6KSzn0oNjxh0z8yPOe2gPJloOu1tE+ts8T7Xho8/QgyIE8JThL5RX2Lfc4R6ns5\n",
       "rmeae+g/QJBdZ1Qydx+0xEgLi7BhugzKFD4ROUu9q2LIUlkCmkW4W9vZ+I4L3QVnHEB2aPVoPrN9\n",
       "m5VEka+SafoijhF5RvOzCI6IVFqqOLFfKNRKaaDV41Em0GhXarnXjC02WtrhDRKQtozHROqpgBfh\n",
       "FWFxzwMvhaHFUhq8NnDUcSN3vcUl0BqR4qmFf0pAvhXsIbJCwWhHUFRLHsXT/ZfzSXPk8RpeLUZo\n",
       "EEmkxWLDJSxlLdeVjEpA6rQFlBvBpHBTkG6jzIhjzOeK+3TWCXQLKBO7dEredgkInYH0GzEnXzbL\n",
       "qFbYFqetgWnOD7M5D9edcwCpyWgKiMowt04uhTsB2xnwLWOACLmeMuEK1FQZUbapVu1iB9cnbyp8\n",
       "IwMylxdYFE3OR0D+KWLuQazlPaC9epG47zzKeUoGQlRbfYWijLSrUS4odLPvjVBZWQ4CO03GBDKX\n",
       "T0Gf4VwPO3pRpDc/J3Y42ntI3IjqaJLINzLifQ3lFeUbzidjsY42IWCsq4psVRvolp6Ciihnqhdq\n",
       "+LKr6kLI5JoankIpW6B0Yq8x36qdS16zXsycdrN6vFYSj8v1Lwt6YyYjLcuK/Akaz/xU+A0EwtJL\n",
       "mPZKy4LiYKRlWTHHcJzDWl8jtEL+mVgjoB6sCnRXvIItIm3TXk5ZMByMe3XFj44Zsx2g3sySc60+\n",
       "5e6R1b/w7NFxhbP/c9dkjrezD3QR69f+AbGt/vuMf0HXAAAAAElFTkSuQmCC\n",
       "\" style=\"display:inline;vertical-align:middle;\" /></a><br>"
      ],
      "text/plain": [
       "expr: ((b , B , C , c , 1 , 3 , A) , Complexes^{7})"
      ]
     },
     "execution_count": 2,
     "metadata": {},
     "output_type": "execute_result"
    }
   ],
   "source": [
    "# build up the expression from sub-expressions\n",
    "expr = ExprTuple([b, B, C, c, one, three, A], Exp(Complexes, seven))"
   ]
  },
  {
   "cell_type": "code",
   "execution_count": 3,
   "metadata": {},
   "outputs": [
    {
     "name": "stdout",
     "output_type": "stream",
     "text": [
      "Passed sanity check: built 'expr' is the same as the stored Expression.\n"
     ]
    }
   ],
   "source": [
    "# check that the built expression is the same as the stored expression\n",
    "%check_expr"
   ]
  },
  {
   "cell_type": "code",
   "execution_count": 4,
   "metadata": {},
   "outputs": [
    {
     "data": {
      "text/html": [
       "<table><tr><th>&nbsp;</th><th>core type</th><th>sub-expressions</th><th>expression</th></tr>\n",
       "<tr><td>0</td><td>ExprTuple</td><td>1, 2</td><td><a class=\"ProveItLink\" href=\"expr.ipynb\"><img src=\"data:image/png;base64,iVBORw0KGgoAAAANSUhEUgAAANAAAAAcBAMAAADioCyIAAAAMFBMVEX///+qqqp2dnYiIiJERESI\n",
       "iIhmZmYQEBDc3NyYmJgyMjLu7u5UVFTMzMy6uroAAACGxKilAAAAAXRSTlMAQObYZgAAA3RJREFU\n",
       "SMe9Vl1IVEEU/lbdn7t37919rR5cKushIh+iHyQ0KCIMvGAWQeFSoViE1mOEGlgPYmjRU0EJQT8q\n",
       "tVgQWKkPZhkLir1KuxSU9eBfSubfdubO3L2ze+3NdWDmnDNzZr4z52fuBbLccja9iWI9WiCZnBXs\n",
       "RHaBJiZKEWac1p9VIBdcCYwxrifbLrwBuA2iQ9R1Y40OVRLOOeaxfYCvjugY1A+FKeXhpdjAc0tS\n",
       "jw/W+CIZe0sF1TZvDdmzn6lfkrTKO/7sjvDQnAY87JBOwG+HylsC1FqmbW+DXt2WjvNqUTA3oc/Z\n",
       "0y+o+23xywq65/rhYZnQF4U3wV0YtE2LkxgXuD1FNOxqTMN5G7OAdoXw23ZbMUVbCafEAJmX349c\n",
       "ZiUNcXYF0pi0c6KSzn0oNjxh0z8yPOe2gPJloOu1tE+ts8T7Xho8/QgyIE8JThL5RX2Lfc4R6ns5\n",
       "rmeae+g/QJBdZ1Qydx+0xEgLi7BhugzKFD4ROUu9q2LIUlkCmkW4W9vZ+I4L3QVnHEB2aPVoPrN9\n",
       "m5VEka+SafoijhF5RvOzCI6IVFqqOLFfKNRKaaDV41Em0GhXarnXjC02WtrhDRKQtozHROqpgBfh\n",
       "FWFxzwMvhaHFUhq8NnDUcSN3vcUl0BqR4qmFf0pAvhXsIbJCwWhHUFRLHsXT/ZfzSXPk8RpeLUZo\n",
       "EEmkxWLDJSxlLdeVjEpA6rQFlBvBpHBTkG6jzIhjzOeK+3TWCXQLKBO7dEredgkInYH0GzEnXzbL\n",
       "qFbYFqetgWnOD7M5D9edcwCpyWgKiMowt04uhTsB2xnwLWOACLmeMuEK1FQZUbapVu1iB9cnbyp8\n",
       "IwMylxdYFE3OR0D+KWLuQazlPaC9epG47zzKeUoGQlRbfYWijLSrUS4odLPvjVBZWQ4CO03GBDKX\n",
       "T0Gf4VwPO3pRpDc/J3Y42ntI3IjqaJLINzLifQ3lFeUbzidjsY42IWCsq4psVRvolp6Ciihnqhdq\n",
       "+LKr6kLI5JoankIpW6B0Yq8x36qdS16zXsycdrN6vFYSj8v1Lwt6YyYjLcuK/Akaz/xU+A0EwtJL\n",
       "mPZKy4LiYKRlWTHHcJzDWl8jtEL+mVgjoB6sCnRXvIItIm3TXk5ZMByMe3XFj44Zsx2g3sySc60+\n",
       "5e6R1b/w7NFxhbP/c9dkjrezD3QR69f+AbGt/vuMf0HXAAAAAElFTkSuQmCC\n",
       "\" style=\"display:inline;vertical-align:middle;\" /></a></td></tr>\n",
       "<tr><td>1</td><td>ExprTuple</td><td>3, 4, 5, 6, 7, 8, 9</td><td><a class=\"ProveItLink\" href=\"../e7ef964c153a3a29d1f9f165e9f51dec709b1ff70/expr.ipynb\"><img src=\"data:image/png;base64,iVBORw0KGgoAAAANSUhEUgAAAJoAAAAVBAMAAABMN+opAAAAMFBMVEX////c3NwiIiJERESqqqqY\n",
       "mJh2dnZmZmYQEBDu7u4yMjJUVFTMzMyIiIi6uroAAAAs73DqAAAAAXRSTlMAQObYZgAAAnBJREFU\n",
       "OMutVD1oE2EYfi7xfpPLBRQcHJrdwQ4V/BmarSCCN+vQ4FDBqYptHYQEtEIHbcBFLNr4N0hB4yBK\n",
       "j9LDQQoOzahDaOKiuKT+QlL8eb+fu1xyN+bgu++55773ufd9v+c7YLRXrjEiIbVFt/cw3xQC5tw/\n",
       "zzvRCp7un1xwDw4HHZfzu5mJCPuWxjUazwCrHrLXAf2vxNoi8HlxSOxOV8zKLDqRql7QsACbKKcY\n",
       "kNk/NPYENh9VSfHboNiKJ9W0n3AK/SqP0Fq1BIOmTjVgbQpWfwtsLbGuVoZys6XavgG1A+U8fb6C\n",
       "r4TPh2yaglNLApeLoqBkNboilTZ2WLMnME/3teYryTp1KI9FpkqPl+uLqmeafkxtre+L6hmXpgt4\n",
       "Skt/wJFrtzeal10B9V+RjLZaVmFILXuxv3cPsM3yPIXb1IIujJKgd/IwDwuYivTfvIW0G8vtQ2il\n",
       "FsZYR76A7KDX4Mj2HGOKIs7Z5TocZ3aT+maEaXre5jirjKmlyDryy8wc0yJPgyucFsrjMTXFRzro\n",
       "RY5W17jaDW63suh8lr3fFO7L8DCR81gjprba7atRQKrCKz0KtgU3RUnMbmwvTWlkaFWOHUrdNUM1\n",
       "TtVYZ3kSCqlZrJKztKvIFPU6VgvSblt01PjDdBG5SwJnZqH5nORqDNkuOiXzO6Puscgud8gn+tTG\n",
       "HHCX0tIn97x1sgx/QHb99ZUAzzc/CqBf7c0JNLXwBOYyHYH9yw+hTvaoJ89h5GXx7ajj20m4Hady\n",
       "+chCOlmqdBrcqJqbhN04pUaDtAb/I41IjfXvkNz5gaOdhO2E1wP/7Zdsf0f1J7d9/AdkQLVtk/Lk\n",
       "EwAAAABJRU5ErkJggg==\n",
       "\" style=\"display:inline;vertical-align:middle;\" /></a></td></tr>\n",
       "<tr><td>2</td><td>Operation</td><td>operator:&nbsp;10<br>operands:&nbsp;11<br></td><td><a class=\"ProveItLink\" href=\"../82b56ce75573d5948785f1ad6fc8a5d08b6e7b970/expr.ipynb\"><img src=\"data:image/png;base64,iVBORw0KGgoAAAANSUhEUgAAABcAAAAUBAMAAACUkLs9AAAAMFBMVEX////c3NyqqqqYmJhUVFR2\n",
       "dnbu7u66urrMzMxmZmZEREQQEBAyMjIiIiKIiIgAAAB7fvZ0AAAAAXRSTlMAQObYZgAAAJBJREFU\n",
       "GNNjYICCoLQ0Bjjw//9/AZzjXl6VAOcoMKgjlDEwPkDisIBJvjvn965kYGgBsTnqC9jinzAwTAVx\n",
       "DJwZGJi+MDBcBrKZEzYAySkMDJ+BFCejA5DMY2DYDqQy2QMQJrYyGSBx2JE4WRxIyngSHBAc5gAQ\n",
       "hw3KW1wHJGqhzmfxesZWtQymsPP+b3cICwC25x7Jou5JnAAAAABJRU5ErkJggg==\n",
       "\" style=\"display:inline;vertical-align:middle;\" /></a></td></tr>\n",
       "<tr><td>3</td><td>Variable</td><td></td><td><a class=\"ProveItLink\" href=\"../../../../__pv_it/6840a4fa6c106149dc16a131294d0c5e44f1b0480/expr.ipynb\"><img src=\"data:image/png;base64,iVBORw0KGgoAAAANSUhEUgAAAAkAAAAOBAMAAAAPuiubAAAALVBMVEX///9mZmbMzMxERESYmJiI\n",
       "iIh2dna6urqqqqoyMjIiIiIQEBBUVFTu7u4AAAD9S1JeAAAAAXRSTlMAQObYZgAAAE1JREFUCNdj\n",
       "4D29gAEIOA+ASL4GEFl3AURmgQiGOaFHGBh4HzPwKTBwvGXgTmBgnMDAJ8DAJcBQ5wBSLncBJLWN\n",
       "gYGngRFoBO9REQYGAGrcDtUkVqASAAAAAElFTkSuQmCC\n",
       "\" style=\"display:inline;vertical-align:middle;\" /></a></td></tr>\n",
       "<tr><td>4</td><td>Variable</td><td></td><td><a class=\"ProveItLink\" href=\"../../../../__pv_it/077b2ff79244fb4582cbe22c6e3356fa92a52f2f0/expr.ipynb\"><img src=\"data:image/png;base64,iVBORw0KGgoAAAANSUhEUgAAABAAAAAOBAMAAADUAYG5AAAAMFBMVEX///+qqqru7u4iIiJ2dnbc\n",
       "3NyIiIjMzMxmZmYQEBC6uroyMjJERERUVFSYmJgAAADLUcuvAAAAAXRSTlMAQObYZgAAAGpJREFU\n",
       "CNdjYGB4+//u3dMLGIBgDgMDxy8gzf4NiP8CGWxfGRj4vgAZPBMYGJgnARn8FxhY9ygAGfXX0pof\n",
       "gDTlBzAw2YIYJ0EckBBI53sHoBH/gIz7AhBjWH9DjancBLTl/N+7t/cxMAAA3u4f/5xagjYAAAAA\n",
       "SUVORK5CYII=\n",
       "\" style=\"display:inline;vertical-align:middle;\" /></a></td></tr>\n",
       "<tr><td>5</td><td>Variable</td><td></td><td><a class=\"ProveItLink\" href=\"../../../../__pv_it/985a1bdf1540838275dec15f4ad6de261cca93ce0/expr.ipynb\"><img src=\"data:image/png;base64,iVBORw0KGgoAAAANSUhEUgAAAA8AAAAOBAMAAAACpFvcAAAAMFBMVEX////MzMyqqqoiIiIyMjK6\n",
       "uroQEBB2dnbc3NyYmJhmZmZUVFRERESIiIju7u4AAAB204erAAAAAXRSTlMAQObYZgAAAGZJREFU\n",
       "CNdjYGDgu7NrJccCBgaGsgkMrMsmMDA8sQNy6hsYGNweABlhDAxcn4A0QxcDQ78DiPGQgWH9BAYI\n",
       "sG+AMv6DSaCGfBDNJMDAsB+kmwuI5S8AiTog5gSaEwXWIO29SgFIAQBC+RaDQlidVgAAAABJRU5E\n",
       "rkJggg==\n",
       "\" style=\"display:inline;vertical-align:middle;\" /></a></td></tr>\n",
       "<tr><td>6</td><td>Variable</td><td></td><td><a class=\"ProveItLink\" href=\"../../../../__pv_it/cbdfda466482236edba0ce44ac7ef39cda0af7a40/expr.ipynb\"><img src=\"data:image/png;base64,iVBORw0KGgoAAAANSUhEUgAAAAkAAAAJBAMAAAASvxsjAAAALVBMVEX///9mZmbc3NxUVFSYmJhE\n",
       "REQiIiIyMjK6uroQEBDMzMyIiIh2dnbu7u4AAABgFDGoAAAAAXRSTlMAQObYZgAAADZJREFUCNdj\n",
       "YOA9s3sBA8PKBvYEBt7ZDKwODMwPGICALwBE6m0Asx0YGIDiAgw8QJUyu/cyAAAmuwmycZ8WfQAA\n",
       "AABJRU5ErkJggg==\n",
       "\" style=\"display:inline;vertical-align:middle;\" /></a></td></tr>\n",
       "<tr><td>7</td><td>Literal</td><td></td><td><a class=\"ProveItLink\" href=\"../../../numeral/__pv_it/9be8badea4c35b9724062cecc501d17a3158d1d20/expr.ipynb\"><img src=\"data:image/png;base64,iVBORw0KGgoAAAANSUhEUgAAAAgAAAAPBAMAAAArJJMAAAAAHlBMVEX///+YmJgyMjIQEBBmZmaI\n",
       "iIhUVFTu7u5EREQAAAAw+MI4AAAAAXRSTlMAQObYZgAAACFJREFUCNdjYGBoZ2BgqJjOwFCWBiQY\n",
       "WEklWJwnOTKAAACjEQo8HvEr3AAAAABJRU5ErkJggg==\n",
       "\" style=\"display:inline;vertical-align:middle;\" /></a></td></tr>\n",
       "<tr><td>8</td><td>Literal</td><td></td><td><a class=\"ProveItLink\" href=\"../../../numeral/__pv_it/9176d93c83afa2c995b614976e3cb49207102fa70/expr.ipynb\"><img src=\"data:image/png;base64,iVBORw0KGgoAAAANSUhEUgAAAAoAAAAOBAMAAADkjZCYAAAAMFBMVEX///+YmJju7u4QEBBUVFQy\n",
       "MjIiIiKIiIi6urpmZmbc3NyqqqpERER2dnbMzMwAAAB0GlNiAAAAAXRSTlMAQObYZgAAAE1JREFU\n",
       "CNdjYHh79zQDA9cEhv4CBt7fDPwJDNxgEgiAIkAQAsR8Vx1ATIbiBhDJ/ImB6wEDz0cG/U8gkj+A\n",
       "ge0XA7sAQ/8FBoadM6MZAEflFACalZ/OAAAAAElFTkSuQmCC\n",
       "\" style=\"display:inline;vertical-align:middle;\" /></a></td></tr>\n",
       "<tr><td>9</td><td>Variable</td><td></td><td><a class=\"ProveItLink\" href=\"../../../../__pv_it/2cbe72a7ad6f655694dd697106680215e8489b600/expr.ipynb\"><img src=\"data:image/png;base64,iVBORw0KGgoAAAANSUhEUgAAAA8AAAAOBAMAAAACpFvcAAAALVBMVEX///8QEBBERERUVFS6urqI\n",
       "iIhmZmaqqqrc3Nzu7u6YmJgyMjIiIiLMzMwAAADtIaYWAAAAAXRSTlMAQObYZgAAAFtJREFUCNdj\n",
       "YACBOwxQsA9Kc52bAGG05zVAGAFxDmCaZULdAjBjCsO9ADDDgaEvAUTzGhvbKYCVMDAwbgAxChgY\n",
       "eASANAeQwf0AyJgNxEwvGRia5HYwcOm9TgAA6BoR3jrzwFcAAAAASUVORK5CYII=\n",
       "\" style=\"display:inline;vertical-align:middle;\" /></a></td></tr>\n",
       "<tr><td>10</td><td>Literal</td><td></td><td><a class=\"ProveItLink\" href=\"../../../exponentiation/__pv_it/deb2bf23cbccdd6e6791e1b35b5b9794ce12dbd50/expr.ipynb\"><img src=\"data:image/png;base64,iVBORw0KGgoAAAANSUhEUgAAACgAAAASBAMAAADbMYGVAAAAMFBMVEX///8QEBAiIiKYmJjc3Nzu\n",
       "7u7MzMx2dnZmZma6urpERESqqqoyMjJUVFSIiIgAAAAoDOMTAAAAAXRSTlMAQObYZgAAAOBJREFU\n",
       "GNNjYGB4+//u3Tt/GNAASGAXmhjnPyDBgSbI/g1IxKEJ8nxgYGdgQRPkX8BgDKRY6q7s62OYvmze\n",
       "2wAgb/7ZO1+AVDiDkYEQQ0HTBr4DQF59AgOIKmB4z7CNbcNZBu6vQN55kEACQwDDLQYGVobfDHwg\n",
       "fb8YGBxYHwAZciD3fWXg+gB1JjvQcJZvQIXsCgz8F6DO9GBgMOH7wPCUgaeBwd4B7EwGNjUG7s9c\n",
       "AiwPgO5jkWRgiF3/9+5dfQUG1nWl5Y+B7pv+1gE9bBhqGLCAE1jEWH9jEbT5A3IwAC4sP/1L6Qlu\n",
       "AAAAAElFTkSuQmCC\n",
       "\" style=\"display:inline;vertical-align:middle;\" /></a></td></tr>\n",
       "<tr><td>11</td><td>ExprTuple</td><td>12, 13</td><td><a class=\"ProveItLink\" href=\"../96f5411dae21f5937bb4aeda4878899d044ba2480/expr.ipynb\"><img src=\"data:image/png;base64,iVBORw0KGgoAAAANSUhEUgAAAC8AAAAVBAMAAAAk6KpUAAAAMFBMVEX////c3NwiIiJERESqqqqY\n",
       "mJh2dnZmZmYQEBDu7u4yMjJUVFTMzMyIiIi6uroAAAAs73DqAAAAAXRSTlMAQObYZgAAARlJREFU\n",
       "KM9jYMAJ+C5gisWBiNNAzKu1vskcInaoLC0tgf0AkLWSgYHn/QPO/NsQifj///9vYFgAVAw0KWAr\n",
       "AwPLb4hEJgMDNwNDGAMDxwQG1gkNQJFqiEQCA0MOA8MMBoZXDAzsjBuAInORXcPswFDGwDCdLwHZ\n",
       "SZOBmK2AYSkDwzGWAGSJEiBmWcDQB5TgQ5bg/AAyroHhH1AvD7JRvECnMvB8AElwTdiAJMG0ASLR\n",
       "wsDAmgBic0Il5hdAjDIFUqZvgcSjCRCp9yAJ1gUM6UCKe/NNzseWDPMVQBL+BRDnPgJxjuv/2Af0\n",
       "7kcQ+zzIiVwPGDgEEPY+hLNmgGxGSCC8kwsJdgwJTpBfpBFeg7O4QeYzYonaOwwMAOpwRK3jV2OL\n",
       "AAAAAElFTkSuQmCC\n",
       "\" style=\"display:inline;vertical-align:middle;\" /></a></td></tr>\n",
       "<tr><td>12</td><td>Literal</td><td></td><td><a class=\"ProveItLink\" href=\"../../../sets/complex/__pv_it/c357845f93a5a2d9f649129d299e7ec28dda4b960/expr.ipynb\"><img src=\"data:image/png;base64,iVBORw0KGgoAAAANSUhEUgAAAA8AAAAOBAMAAAACpFvcAAAAMFBMVEX////c3NyqqqqYmJhUVFR2\n",
       "dnbu7u66urrMzMxmZmZEREQQEBAyMjIiIiKIiIgAAAB7fvZ0AAAAAXRSTlMAQObYZgAAAGVJREFU\n",
       "CNdjYGDgu3N+70oGBgaO+gK2+CdAhoEzAwPTFwYG5oQNQN4UBgZORgcgI4+BIZM9gAEMWpkMoAx2\n",
       "KCOLAyrFk+AAYTAHgBhsQLy4DkjUJjAwsHg9Y6taBpLsvP/bnYEBACkBFGQfBv8RAAAAAElFTkSu\n",
       "QmCC\n",
       "\" style=\"display:inline;vertical-align:middle;\" /></a></td></tr>\n",
       "<tr><td>13</td><td>Literal</td><td></td><td><a class=\"ProveItLink\" href=\"../../../numeral/__pv_it/44c347496acc279b31e97f8859fc6a0a1e31c26b0/expr.ipynb\"><img src=\"data:image/png;base64,iVBORw0KGgoAAAANSUhEUgAAAAoAAAAOBAMAAADkjZCYAAAAKlBMVEX///8yMjKqqqpERESIiIi6\n",
       "urru7u5UVFSYmJh2dnZmZmYiIiLMzMwAAACZcOxaAAAAAXRSTlMAQObYZgAAAEVJREFUCNdjOL1y\n",
       "5swJDL13794tYJjGwMDOwDCBgWEOAxCwOoDIZBDBsAhEsF0AkSwCIJK7AETmLgCRsWBSF0yebWBg\n",
       "AAAo0Q9n+lHhAQAAAABJRU5ErkJggg==\n",
       "\" style=\"display:inline;vertical-align:middle;\" /></a></td></tr>\n",
       "</table>\n"
      ],
      "text/plain": [
       "0. ((b , B , C , c , 1 , 3 , A) , Complexes^{7})\n",
       "   core type: ExprTuple\n",
       "   sub-expressions: 1, 2\n",
       "1. (b , B , C , c , 1 , 3 , A)\n",
       "   core type: ExprTuple\n",
       "   sub-expressions: 3, 4, 5, 6, 7, 8, 9\n",
       "2. Complexes^{7}\n",
       "   core type: Operation\n",
       "   operator: 10\n",
       "   operands: 11\n",
       "3. b\n",
       "   core type: Variable\n",
       "   sub-expressions: \n",
       "4. B\n",
       "   core type: Variable\n",
       "   sub-expressions: \n",
       "5. C\n",
       "   core type: Variable\n",
       "   sub-expressions: \n",
       "6. c\n",
       "   core type: Variable\n",
       "   sub-expressions: \n",
       "7. 1\n",
       "   core type: Literal\n",
       "   sub-expressions: \n",
       "8. 3\n",
       "   core type: Literal\n",
       "   sub-expressions: \n",
       "9. A\n",
       "   core type: Variable\n",
       "   sub-expressions: \n",
       "10. Exp\n",
       "    core type: Literal\n",
       "    sub-expressions: \n",
       "11. (Complexes , 7)\n",
       "    core type: ExprTuple\n",
       "    sub-expressions: 12, 13\n",
       "12. Complexes\n",
       "    core type: Literal\n",
       "    sub-expressions: \n",
       "13. 7\n",
       "    core type: Literal\n",
       "    sub-expressions: "
      ]
     },
     "execution_count": 4,
     "metadata": {},
     "output_type": "execute_result"
    }
   ],
   "source": [
    "# display the expression information\n",
    "expr.exprInfo()"
   ]
  },
  {
   "cell_type": "code",
   "execution_count": null,
   "metadata": {},
   "outputs": [],
   "source": []
  }
 ],
 "metadata": {
  "kernelspec": {
   "display_name": "Python 3",
   "language": "python",
   "name": "python3"
  }
 },
 "nbformat": 4,
 "nbformat_minor": 0
}
