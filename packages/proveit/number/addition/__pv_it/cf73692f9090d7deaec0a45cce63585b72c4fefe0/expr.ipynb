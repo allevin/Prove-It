{
 "cells": [
  {
   "cell_type": "markdown",
   "metadata": {},
   "source": [
    "Expression of type <a class=\"ProveItLink\" href=\"../../../../../../doc/html/api/proveit.logic.Set.html\">Set</a>\n",
    "=======================\n",
    "# from context <a class=\"ProveItLink\" href=\"../../_context_.ipynb\">proveit.number.addition</a>"
   ]
  },
  {
   "cell_type": "code",
   "execution_count": 1,
   "metadata": {},
   "outputs": [],
   "source": [
    "# import Expression classes needed to build the expression\n",
    "from proveit.logic import InSet, Set\n",
    "from proveit.number import Reals, RealsPos, one, three, two"
   ]
  },
  {
   "cell_type": "code",
   "execution_count": 2,
   "metadata": {},
   "outputs": [
    {
     "data": {
      "text/html": [
       "<strong id=\"expr\">expr:</strong> <a class=\"ProveItLink\" href=\"expr.ipynb\"><img src=\"data:image/png;base64,iVBORw0KGgoAAAANSUhEUgAAANsAAAAbBAMAAAAHRefHAAAAMFBMVEX///+6urp2dnaqqqoiIiIQ\n",
       "EBBERETu7u6IiIjc3NwyMjJUVFSYmJhmZmbMzMwAAAD0pS5FAAAAAXRSTlMAQObYZgAAAmFJREFU\n",
       "SMfNlj9oE1Ecx7/mau6uadIOOjjUSkanzkppxAOlDnHQRZAGHEQRe0MVOyWLiwhmqA4WIWCtmFqa\n",
       "TUgLvUEodLGCOBk9HBzsZsUiCPX9udy99+5dFAJHf5CXe/l++X3e/e733gX4VxjoO6QUhU89vdn+\n",
       "cSyF8Z5P2vVUcHhSoaO1h3RwuEqHXCMt3M0QZ3eWRiTH1q+Z5pWajPtavIYEEzO66J2iHeIWYO3K\n",
       "5soCvp2qo9180WzyjPY2xmpaEwtzRsHFUkS4N0BZ8T5Ddq4i3l1mF8OlBBOhrW3EcEqKCHfZxQar\n",
       "pvnAcRqBN+NLOCPE3Vt0piCZaDwKcHE1hlt18YXhvm9GS1NwJHgxC69d1STgNKqIywb2MnXZ14VK\n",
       "5OZU3DLfQG7MJOA0qog7zB9/4Qdj1wXvkS06y0XHz8kW+76BmEnAadQgxTtisPmKMcgWeTfyPnam\n",
       "xtUNdJ8W3KzoTRyXpJLIvwLe+vz6IxuPOk7YKqPqRiKVoCfQoUvE020GwcRxSSqN+RqM8+zK4nXa\n",
       "ESqRP96SWLaP7B9a05bexHFJKomhs2SoevRyAjat8qxY+JcPJVx1j+PMkt4UFLOUmGKy3u3MwjaG\n",
       "2EP1BO9Ozu/OTPIZbmDgN52sQzGZYqvE1DCifTdfLH5gac8I3sx42GVVsmbLw9gJOpkdUUzVkoCL\n",
       "qRpceX//J/vp6efwfL2NpdVuY92htzXRec4f4oovm5jamV7xtKoGF8XpRUf3Rjom/RloB733f2ov\n",
       "XEJ4fagHHmf1ocq4zEWkFBdY7y+nRMuf42fLeio04xZSj7/bUe11lwqJlQAAAABJRU5ErkJggg==\n",
       "\" style=\"display:inline;vertical-align:middle;\" /></a><br>"
      ],
      "text/plain": [
       "expr: {2 in RealsPos , 3 in Reals , 1 in RealsPos}"
      ]
     },
     "execution_count": 2,
     "metadata": {},
     "output_type": "execute_result"
    }
   ],
   "source": [
    "# build up the expression from sub-expressions\n",
    "expr = Set(InSet(two, RealsPos), InSet(three, Reals), InSet(one, RealsPos))"
   ]
  },
  {
   "cell_type": "code",
   "execution_count": 3,
   "metadata": {},
   "outputs": [
    {
     "name": "stdout",
     "output_type": "stream",
     "text": [
      "Passed sanity check: built 'expr' is the same as the stored Expression.\n"
     ]
    }
   ],
   "source": [
    "# check that the built expression is the same as the stored expression\n",
    "%check_expr"
   ]
  },
  {
   "cell_type": "code",
   "execution_count": 4,
   "metadata": {},
   "outputs": [
    {
     "data": {
      "text/html": [
       "<table><tr><th>&nbsp;</th><th>core type</th><th>sub-expressions</th><th>expression</th></tr>\n",
       "<tr><td>0</td><td>Operation</td><td>operator:&nbsp;1<br>operands:&nbsp;2<br></td><td><a class=\"ProveItLink\" href=\"expr.ipynb\"><img src=\"data:image/png;base64,iVBORw0KGgoAAAANSUhEUgAAANsAAAAbBAMAAAAHRefHAAAAMFBMVEX///+6urp2dnaqqqoiIiIQ\n",
       "EBBERETu7u6IiIjc3NwyMjJUVFSYmJhmZmbMzMwAAAD0pS5FAAAAAXRSTlMAQObYZgAAAmFJREFU\n",
       "SMfNlj9oE1Ecx7/mau6uadIOOjjUSkanzkppxAOlDnHQRZAGHEQRe0MVOyWLiwhmqA4WIWCtmFqa\n",
       "TUgLvUEodLGCOBk9HBzsZsUiCPX9udy99+5dFAJHf5CXe/l++X3e/e733gX4VxjoO6QUhU89vdn+\n",
       "cSyF8Z5P2vVUcHhSoaO1h3RwuEqHXCMt3M0QZ3eWRiTH1q+Z5pWajPtavIYEEzO66J2iHeIWYO3K\n",
       "5soCvp2qo9180WzyjPY2xmpaEwtzRsHFUkS4N0BZ8T5Ddq4i3l1mF8OlBBOhrW3EcEqKCHfZxQar\n",
       "pvnAcRqBN+NLOCPE3Vt0piCZaDwKcHE1hlt18YXhvm9GS1NwJHgxC69d1STgNKqIywb2MnXZ14VK\n",
       "5OZU3DLfQG7MJOA0qog7zB9/4Qdj1wXvkS06y0XHz8kW+76BmEnAadQgxTtisPmKMcgWeTfyPnam\n",
       "xtUNdJ8W3KzoTRyXpJLIvwLe+vz6IxuPOk7YKqPqRiKVoCfQoUvE020GwcRxSSqN+RqM8+zK4nXa\n",
       "ESqRP96SWLaP7B9a05bexHFJKomhs2SoevRyAjat8qxY+JcPJVx1j+PMkt4UFLOUmGKy3u3MwjaG\n",
       "2EP1BO9Ozu/OTPIZbmDgN52sQzGZYqvE1DCifTdfLH5gac8I3sx42GVVsmbLw9gJOpkdUUzVkoCL\n",
       "qRpceX//J/vp6efwfL2NpdVuY92htzXRec4f4oovm5jamV7xtKoGF8XpRUf3Rjom/RloB733f2ov\n",
       "XEJ4fagHHmf1ocq4zEWkFBdY7y+nRMuf42fLeio04xZSj7/bUe11lwqJlQAAAABJRU5ErkJggg==\n",
       "\" style=\"display:inline;vertical-align:middle;\" /></a></td></tr>\n",
       "<tr><td>1</td><td>Literal</td><td></td><td><a class=\"ProveItLink\" href=\"../../../../logic/set_theory/enumeration/__pv_it/07381ed5b23806e8d7914b78cb6667769e3708dd0/expr.ipynb\"><img src=\"data:image/png;base64,iVBORw0KGgoAAAANSUhEUgAAAB4AAAAOBAMAAADKyLEKAAAAMFBMVEX///8iIiIQEBCIiIjMzMzc\n",
       "3Nyqqqp2dnZEREQyMjK6urru7u5mZmZUVFSYmJgAAACI6eGPAAAAAXRSTlMAQObYZgAAALRJREFU\n",
       "CNdjYGDgu3Nm3wIGBJjHwN0PZW5yYGDgLWBgyITy8zcwMMQDxZyh/INAvD6BgcEFypcB4vjPDiBm\n",
       "TPFRrhs/LjMwMP//38rAwCbKEMPA9gEkE3fp0waG+AUMRxh4JkC01T9guPTOOICBEWgVH5C//wHD\n",
       "H5D4fqCz9oCMDGD4DLaegRXslLMMDMpAgxlOMmQxHDRgYG5gYLBk4D7KcIe7gOHC2rt9QCXsh40Z\n",
       "GCKMGQDRkC8N/Ph1XAAAAABJRU5ErkJggg==\n",
       "\" style=\"display:inline;vertical-align:middle;\" /></a></td></tr>\n",
       "<tr><td>2</td><td>ExprTuple</td><td>3, 4, 5</td><td><a class=\"ProveItLink\" href=\"../1a8a844a3fcdcda569506dd640ae122137b7213d0/expr.ipynb\"><img src=\"data:image/png;base64,iVBORw0KGgoAAAANSUhEUgAAANQAAAAbBAMAAAD2TrxKAAAAMFBMVEX///+qqqp2dnYiIiJERESI\n",
       "iIhmZmYQEBDc3NyYmJgyMjLu7u5UVFTMzMy6uroAAACGxKilAAAAAXRSTlMAQObYZgAAAn5JREFU\n",
       "SMe9VU1oE0EYfU2z6aabbXrqQTyEHD0tLIgUtOlNUGnAQ1EEA0ouIgoeBC8GLArSwxY81UukJWIU\n",
       "ulDF4iUevBiFLuJJAhYE9aIx6qESap2f3e3M/sRCYD+YmV3e43vz/cwMMNhGMLQJLr4P4qWHl2Iu\n",
       "CnTSXyYh1aHTCzsJKaVMptdIQgpHAPUqGdXVLQld/j3XvFGWpd4VZxFDYkQbA12cAzIVYBFKTyaW\n",
       "FvH+QA3t5sNmk3tTK+iWI0nMtLlgHQIuWjbGSDxvgJkA7zbSGyUxqlQPeSOGRJTeboakZBejFj6S\n",
       "5bqNTZZB7axp1l1eypGkRnypZyvmNCQStfOuVBjlLjIlzJNlzcYVJvXh/t6WAlLEeAL1R3aQJEhF\n",
       "oNxF9gfaHJihDPWEEH1uIyj1hM0LdogkSEWg3MVEHyf5Zn6yXqkJvE/L9C/nC+mH+Fk/jhBJkIpA\n",
       "uQt9Bw32Mc4293SPd8ecngwekHmaZK0UTeJScSjJ2F8cZh8X2fzFNP22+JwO3SJjfZqIa4TjFV4g\n",
       "cak4lGyix6UUnpuOEH3mm3w3qg7Sf+QrUyJxqTiURcVqPQWVZnVdTPTjM5JUq8+lNCOa5CbQiHOh\n",
       "7uAV3UsFWVZAS+B1co4fPBn5Oka3Id2ZLkkT2yKEejaxjdNkuVUsXmAujwm81KTfTS2yV8VClz06\n",
       "61sBUssQpEKoZ+Rcdemh2t39xf7vXvbvylNYXfMa6DkNZ6r6gGei4cgkhlZvNqxI1L/Y6sg7YkUO\n",
       "rvAODNhX6QFvuz22P9S18TJyhX08OdYQqFeEGnQjGal7ZMz+n6YMgXp2lLYCkrBshdaxkITUApuX\n",
       "kpC6hCTtHy6L6TQt0JzXAAAAAElFTkSuQmCC\n",
       "\" style=\"display:inline;vertical-align:middle;\" /></a></td></tr>\n",
       "<tr><td>3</td><td>Operation</td><td>operator:&nbsp;8<br>operands:&nbsp;6<br></td><td><a class=\"ProveItLink\" href=\"../22c9ea512dd69d082142345fcceef9b3ded57fc90/expr.ipynb\"><img src=\"data:image/png;base64,iVBORw0KGgoAAAANSUhEUgAAAD4AAAAUBAMAAAAn2JMnAAAAMFBMVEX///+YmJh2dnbMzMwQEBAi\n",
       "IiLu7u6qqqqIiIhUVFS6urpEREQyMjJmZmbc3NwAAACOMKdoAAAAAXRSTlMAQObYZgAAAOlJREFU\n",
       "KM9jYMADChjwgw10kOe7e3oBiiDj+d1/jpyAy79k4PiOqoubbwLz9nMMnGfO+Jw5wTCNgSEeXf4C\n",
       "w7bXMP0uCQzzIRZkHA2Ngckrc8Pkzycw3AfLMx9MQOhHyANBPFjidQKS+dNeI+SZP4GpfUj2cwWe\n",
       "A7EmgPk8YGVsGxDyrqHHkdx7G0xyuYaGwtx368I2hDQHxBTmCUjm37JEyNcy8D0AmR+AJM+TIQDj\n",
       "MV9gYATJM0xEkmeeMBnGe6qkdBXMSF2A5D917gdQXvz//1/BDL6zBrD4+W3As+c7Rmyyz4G4HwUA\n",
       "AC4MTGT+qtFHAAAAAElFTkSuQmCC\n",
       "\" style=\"display:inline;vertical-align:middle;\" /></a></td></tr>\n",
       "<tr><td>4</td><td>Operation</td><td>operator:&nbsp;8<br>operands:&nbsp;7<br></td><td><a class=\"ProveItLink\" href=\"../1d52e6f9d16737e5d2e6664f4d269e702156c1af0/expr.ipynb\"><img src=\"data:image/png;base64,iVBORw0KGgoAAAANSUhEUgAAADMAAAAPBAMAAAC7N+rPAAAAMFBMVEX///+YmJju7u4QEBBUVFQy\n",
       "MjIiIiKIiIi6urpmZmbc3NyqqqpERER2dnbMzMwAAAB0GlNiAAAAAXRSTlMAQObYZgAAANJJREFU\n",
       "GNNjYHh79zQDChD9cz7UtADI4JrA0F+AKndgCcObrQsYGHh/M/AnoEmtZODROsDAwA2XUg9LS4VJ\n",
       "8T44AGZCDOQLVEDogkmFgMk1CkgGsoAMZOC76gAWOIVsV5voAjCzuAFIMB1ASC1OS90AYTJ/AhIc\n",
       "ZmlpcGd08oBM53rAwPMRZK4DkoGcfSCe/ieIFFMCsl1BhUCaP4CB7RdIwBFZ6gnLAwYGdgGG/gsg\n",
       "AbUGJCneDSAH75wZDRbginwAD95zDDHxG5CCjtsV6kIoAAAixUWQF/k7CQAAAABJRU5ErkJggg==\n",
       "\" style=\"display:inline;vertical-align:middle;\" /></a></td></tr>\n",
       "<tr><td>5</td><td>Operation</td><td>operator:&nbsp;8<br>operands:&nbsp;9<br></td><td><a class=\"ProveItLink\" href=\"../0f4aece75b041ade2d3169e147e9e8b2580edac30/expr.ipynb\"><img src=\"data:image/png;base64,iVBORw0KGgoAAAANSUhEUgAAAD4AAAAUBAMAAAAn2JMnAAAAMFBMVEX///92dnaqqqq6urrc3NzM\n",
       "zMwiIiKYmJgyMjIQEBBmZmaIiIhUVFTu7u5EREQAAACNWUPNAAAAAXRSTlMAQObYZgAAALdJREFU\n",
       "KM9jYMADFBjwgwd0kX+LKsje/+5HZzdC/t5fNF18LAdYH7Uw8HR0zOjoZrhzBlN+AcNbP7h+bpj8\n",
       "7ba0DJi8KB+GPGv7BYR+LPJ+F5DMP4tp/hMk+5nTW0CsA0jyvA8Q8tPSmhDOhcozT0tLg7lv8YK3\n",
       "GPKsB5DMXxyDIc+bgCTPcbsAXZ7hOJI864GjGPLXDJD8J8TnAOVxrfyxHMxg6QqAxc+/AI4XnzBi\n",
       "k+kExP0oAAC6t0gUtIuGiAAAAABJRU5ErkJggg==\n",
       "\" style=\"display:inline;vertical-align:middle;\" /></a></td></tr>\n",
       "<tr><td>6</td><td>ExprTuple</td><td>10, 14</td><td><a class=\"ProveItLink\" href=\"../0bab134a3b9ccc22b97947855451018844ad44880/expr.ipynb\"><img src=\"data:image/png;base64,iVBORw0KGgoAAAANSUhEUgAAAD4AAAAbBAMAAADWjiHyAAAAMFBMVEX///+qqqp2dnYiIiJERESI\n",
       "iIhmZmYQEBDc3NyYmJgyMjLu7u5UVFTMzMy6uroAAACGxKilAAAAAXRSTlMAQObYZgAAAVhJREFU\n",
       "KM9jYMAOGBHMd9jkWUCEAojgPYBT/g6I2LUBpzxrAJA4yYBTnsGCgYGjAIjTljwA82d98V9VFYCQ\n",
       "j2FgYEtgYOhhYP0I0ebQw3BFqoHh1Krlq1YB1e3fwMAO1HmagcEeKt/GwLLDAa6feQLDfSBVvoHh\n",
       "/AOYPNMFhDybA0M4kFq/gSEfqzznB4ZTEIPtN8DkeZDM5/vN4ANm8H6C2/94VgOQwQMR/suwDMzg\n",
       "coDKtxtbCSBCgeMfgxmYkcIA0/+MBSk8uT9C5FkPwOXZ3h5A0b8GRIsxcDTA7F8diST/l+EIyBkJ\n",
       "DJwN3FD5OzwX4PJ8PxiCgVSzklIyw34DqP8FPODyQP+/B3n+///PDNt/gOPHl2HJergPmBYw8MNN\n",
       "e4EZy1wBDDwKMM4ETPn9DQy8BnjkpwCxI5TNiiUV2QJxFwNOwJkASukKOOVbwOREnPLZDAQBAFBe\n",
       "WsXO8/hlAAAAAElFTkSuQmCC\n",
       "\" style=\"display:inline;vertical-align:middle;\" /></a></td></tr>\n",
       "<tr><td>7</td><td>ExprTuple</td><td>11, 12</td><td><a class=\"ProveItLink\" href=\"../fb4e5903138b1faf8435f177a42d03a562a540270/expr.ipynb\"><img src=\"data:image/png;base64,iVBORw0KGgoAAAANSUhEUgAAAC8AAAAVBAMAAAAk6KpUAAAAMFBMVEX////c3NwiIiJERESqqqqY\n",
       "mJh2dnZmZmYQEBDu7u4yMjJUVFTMzMyIiIi6uroAAAAs73DqAAAAAXRSTlMAQObYZgAAARxJREFU\n",
       "KM9jYMAJ+C5gisWBiNMMDMfSTCACUZ/tV3UBFbIfAHJWMjAWMLyHajOQZjjsJcDAsICBgfcCA9sX\n",
       "Bn4FqIQ4A/NEAwaGMAYGjgkMLCgSbAeAEjMYGF6BBeBGQSWYHRjKwAKrGeAS3CCj2AoYlgK5PFkb\n",
       "EBKPooCWsyxg6AML3HgAlZBQ0nIAea6B4R9YgOMnTMdz5gkgMz6AJBgPMDB/hUmwv9kAkWhhYJj/\n",
       "E0mCYeVViFGmDAz8CxiYPjJMgEqc5gaGB+sChnSg5wMY3idwfoL5w8EQ7NxHQK57+RIGzn4BcCDa\n",
       "MCxe78DA9YCBQwAW/AJI4Q4MEtYEKJsVOUJywcGOKcEJDHYGaSgHOSK5QcYyYonaOwwMAL/IR+Iq\n",
       "zKhRAAAAAElFTkSuQmCC\n",
       "\" style=\"display:inline;vertical-align:middle;\" /></a></td></tr>\n",
       "<tr><td>8</td><td>Literal</td><td></td><td><a class=\"ProveItLink\" href=\"../../../../logic/set_theory/membership/__pv_it/088cbc857536a28d4119ad9639a84270ccb0545d0/expr.ipynb\"><img src=\"data:image/png;base64,iVBORw0KGgoAAAANSUhEUgAAAAwAAAAMBAMAAACkW0HUAAAALVBMVEX///+qqqpmZmZUVFQQEBC6\n",
       "urpERETc3NyYmJjMzMwiIiIyMjKIiIju7u4AAACYsrA9AAAAAXRSTlMAQObYZgAAADxJREFUCNdj\n",
       "YOA9vWrVBgaG2b0MQMCeCyIZ2ArA1DUwyRCyahVIyWQI7xaEYm4AU7xLIdxqTQgtvGvVBgCkcQ7e\n",
       "geM/tQAAAABJRU5ErkJggg==\n",
       "\" style=\"display:inline;vertical-align:middle;\" /></a></td></tr>\n",
       "<tr><td>9</td><td>ExprTuple</td><td>13, 14</td><td><a class=\"ProveItLink\" href=\"../da1605f537b3d7c3081c25dd05766d3bd2cc7c1a0/expr.ipynb\"><img src=\"data:image/png;base64,iVBORw0KGgoAAAANSUhEUgAAAD4AAAAbBAMAAADWjiHyAAAAMFBMVEX///+qqqp2dnYiIiJERESI\n",
       "iIhmZmYQEBDc3NyYmJgyMjLu7u5UVFTMzMy6uroAAACGxKilAAAAAXRSTlMAQObYZgAAAShJREFU\n",
       "KM9jYMAOGBHMd9jkWUCEAojgPYBT/g6I2LUBpzxrAJA4yYBTnsGCgYGjAMTwhojO+uK/qioAIR/D\n",
       "wMCWAKS3/IZqc+hhuCLVwHBq1fJVq4Dq9m9gYH/AwLDnDFy+jYFlhwNcP/MEhvtghyDJM11AyLM5\n",
       "MITjk+f8wHAKXZ4HyXy+3ww+6PKPZzUAGTxgLu9fhmWo8u3GVgKIUOD4x2CGpv8ZC1J4cn/EkGd7\n",
       "ewBF/xp0+1dHIsn/ZTgCk+eGyt/huQCX5/vBEAyT328A9b+AB1we6P/3oGBK/5XJsP0HOH58GZas\n",
       "h/uAaQEDP9y0F5ixzBXAwKMA40zAlN/fwMBrgEd+ChA7QtmsWFKRLRB3MeAEnKC0w6iAU74FTE7E\n",
       "KZ/NQBAAAK1hV8G42XkcAAAAAElFTkSuQmCC\n",
       "\" style=\"display:inline;vertical-align:middle;\" /></a></td></tr>\n",
       "<tr><td>10</td><td>Literal</td><td></td><td><a class=\"ProveItLink\" href=\"../../../numeral/__pv_it/77d407a64829263cdc16415becd4c2293f77a4bf0/expr.ipynb\"><img src=\"data:image/png;base64,iVBORw0KGgoAAAANSUhEUgAAAAkAAAAOBAMAAAAPuiubAAAAMFBMVEX///+YmJh2dnbMzMwQEBAi\n",
       "IiLu7u6qqqqIiIhUVFS6urpEREQyMjJmZmbc3NwAAACOMKdoAAAAAXRSTlMAQObYZgAAAFBJREFU\n",
       "CNdj4Lt7egEDw0sGju8MDNMYGOIZGFwSGOYvYDifwHAfKAEUSQASzJ9ATJ4NIPI2iOCYACJrGfge\n",
       "MDBfYGB8wPBUSekqUPH//18ZAIliFhc3zESNAAAAAElFTkSuQmCC\n",
       "\" style=\"display:inline;vertical-align:middle;\" /></a></td></tr>\n",
       "<tr><td>11</td><td>Literal</td><td></td><td><a class=\"ProveItLink\" href=\"../../../numeral/__pv_it/9176d93c83afa2c995b614976e3cb49207102fa70/expr.ipynb\"><img src=\"data:image/png;base64,iVBORw0KGgoAAAANSUhEUgAAAAoAAAAOBAMAAADkjZCYAAAAMFBMVEX///+YmJju7u4QEBBUVFQy\n",
       "MjIiIiKIiIi6urpmZmbc3NyqqqpERER2dnbMzMwAAAB0GlNiAAAAAXRSTlMAQObYZgAAAE1JREFU\n",
       "CNdjYHh79zQDA9cEhv4CBt7fDPwJDNxgEgiAIkAQAsR8Vx1ATIbiBhDJ/ImB6wEDz0cG/U8gkj+A\n",
       "ge0XA7sAQ/8FBoadM6MZAEflFACalZ/OAAAAAElFTkSuQmCC\n",
       "\" style=\"display:inline;vertical-align:middle;\" /></a></td></tr>\n",
       "<tr><td>12</td><td>Literal</td><td></td><td><a class=\"ProveItLink\" href=\"../../../sets/real/__pv_it/9e7645ee1117062e179dd6264898f99ed95b157c0/expr.ipynb\"><img src=\"data:image/png;base64,iVBORw0KGgoAAAANSUhEUgAAAA8AAAAOBAMAAAACpFvcAAAAMFBMVEX///8iIiK6urp2dnbu7u5m\n",
       "ZmaqqqrMzMxUVFTc3NyIiIgQEBBEREQyMjKYmJgAAAA9nvXMAAAAAXRSTlMAQObYZgAAAFJJREFU\n",
       "CNdjePvn/N29CxiA4MAMhprcCSDGVAYezwMQBnMBOoMDJqX4Fqx4tqBsAlj7VFUeBwiDVb0BwmC4\n",
       "sg7KqOAogJqTcJKBAWjpcYY79xMAyqEnfsw4ApEAAAAASUVORK5CYII=\n",
       "\" style=\"display:inline;vertical-align:middle;\" /></a></td></tr>\n",
       "<tr><td>13</td><td>Literal</td><td></td><td><a class=\"ProveItLink\" href=\"../../../numeral/__pv_it/9be8badea4c35b9724062cecc501d17a3158d1d20/expr.ipynb\"><img src=\"data:image/png;base64,iVBORw0KGgoAAAANSUhEUgAAAAgAAAAPBAMAAAArJJMAAAAAHlBMVEX///+YmJgyMjIQEBBmZmaI\n",
       "iIhUVFTu7u5EREQAAAAw+MI4AAAAAXRSTlMAQObYZgAAACFJREFUCNdjYGBoZ2BgqJjOwFCWBiQY\n",
       "WEklWJwnOTKAAACjEQo8HvEr3AAAAABJRU5ErkJggg==\n",
       "\" style=\"display:inline;vertical-align:middle;\" /></a></td></tr>\n",
       "<tr><td>14</td><td>Literal</td><td></td><td><a class=\"ProveItLink\" href=\"../../../sets/real/__pv_it/399ccec6a6e90df280e82734a8711cdb89199bc00/expr.ipynb\"><img src=\"data:image/png;base64,iVBORw0KGgoAAAANSUhEUgAAABsAAAATBAMAAACTqWsLAAAAMFBMVEX///8iIiK6urp2dnbu7u5m\n",
       "ZmaqqqrMzMxUVFTc3NyIiIgQEBBEREQyMjKYmJgAAAA9nvXMAAAAAXRSTlMAQObYZgAAAGxJREFU\n",
       "GNNjYIADNgYUwEMy9+2f83f3LkDIHpjBUJM7gaH37u27d4HCB6Yy8HgeQMhOZWAuwMflQFWs+HYC\n",
       "kMEB4c4WlE1A2H5gqiqPAzKXVb0BmctwZR0Kt4KjAJnLnHASxgN64TjDnftQswFmaSyXIBgH2QAA\n",
       "AABJRU5ErkJggg==\n",
       "\" style=\"display:inline;vertical-align:middle;\" /></a></td></tr>\n",
       "</table>\n"
      ],
      "text/plain": [
       "0. {2 in RealsPos , 3 in Reals , 1 in RealsPos}\n",
       "   core type: Operation\n",
       "   operator: 1\n",
       "   operands: 2\n",
       "1. Set\n",
       "   core type: Literal\n",
       "   sub-expressions: \n",
       "2. (2 in RealsPos , 3 in Reals , 1 in RealsPos)\n",
       "   core type: ExprTuple\n",
       "   sub-expressions: 3, 4, 5\n",
       "3. 2 in RealsPos\n",
       "   core type: Operation\n",
       "   operator: 8\n",
       "   operands: 6\n",
       "4. 3 in Reals\n",
       "   core type: Operation\n",
       "   operator: 8\n",
       "   operands: 7\n",
       "5. 1 in RealsPos\n",
       "   core type: Operation\n",
       "   operator: 8\n",
       "   operands: 9\n",
       "6. (2 , RealsPos)\n",
       "   core type: ExprTuple\n",
       "   sub-expressions: 10, 14\n",
       "7. (3 , Reals)\n",
       "   core type: ExprTuple\n",
       "   sub-expressions: 11, 12\n",
       "8. in\n",
       "   core type: Literal\n",
       "   sub-expressions: \n",
       "9. (1 , RealsPos)\n",
       "   core type: ExprTuple\n",
       "   sub-expressions: 13, 14\n",
       "10. 2\n",
       "    core type: Literal\n",
       "    sub-expressions: \n",
       "11. 3\n",
       "    core type: Literal\n",
       "    sub-expressions: \n",
       "12. Reals\n",
       "    core type: Literal\n",
       "    sub-expressions: \n",
       "13. 1\n",
       "    core type: Literal\n",
       "    sub-expressions: \n",
       "14. RealsPos\n",
       "    core type: Literal\n",
       "    sub-expressions: "
      ]
     },
     "execution_count": 4,
     "metadata": {},
     "output_type": "execute_result"
    }
   ],
   "source": [
    "# display the expression information\n",
    "expr.exprInfo()"
   ]
  },
  {
   "cell_type": "code",
   "execution_count": null,
   "metadata": {},
   "outputs": [],
   "source": []
  }
 ],
 "metadata": {
  "kernelspec": {
   "display_name": "Python 3",
   "language": "python",
   "name": "python3"
  }
 },
 "nbformat": 4,
 "nbformat_minor": 0
}
