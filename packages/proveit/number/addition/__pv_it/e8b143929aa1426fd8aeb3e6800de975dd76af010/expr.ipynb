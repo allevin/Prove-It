{
 "cells": [
  {
   "cell_type": "markdown",
   "metadata": {},
   "source": [
    "Expression of type <a class=\"ProveItLink\" href=\"../../../../../../doc/html/api/proveit.logic.Equals.html\">Equals</a>\n",
    "=======================\n",
    "# from context <a class=\"ProveItLink\" href=\"../../_context_.ipynb\">proveit.number.addition</a>"
   ]
  },
  {
   "cell_type": "code",
   "execution_count": 1,
   "metadata": {},
   "outputs": [],
   "source": [
    "# import Expression classes needed to build the expression\n",
    "from proveit._common_ import a, b, c\n",
    "from proveit.logic import Equals\n",
    "from proveit.number import Add"
   ]
  },
  {
   "cell_type": "code",
   "execution_count": 2,
   "metadata": {},
   "outputs": [
    {
     "data": {
      "text/html": [
       "<strong id=\"expr\">expr:</strong> <a class=\"ProveItLink\" href=\"expr.ipynb\"><img src=\"data:image/png;base64,iVBORw0KGgoAAAANSUhEUgAAAwwAAAAVBAMAAAAZYHSGAAAAMFBMVEX////c3NwiIiJERESqqqqY\n",
       "mJh2dnZmZmYQEBDu7u4yMjJUVFTMzMyIiIi6uroAAAAs73DqAAAAAXRSTlMAQObYZgAAA7tJREFU\n",
       "aN7tWT9oE1EY/9omuV5qm+wdWlzqInTQUSyOYmlmp9JBFysBsUMVtCIdBEu6SLFDS6FDU5AKiiIU\n",
       "Cy5CBzMpoinBKRSlgaZIIYqXS967973vu5x3fVIj3pCEX773+5Pv3rt3F4D/x19x9BXa0na89G9F\n",
       "2Wa+sF8OhmdbvBd+TCShxnGbQttRuYKtB1ccMcoa90VyIwLbeoQxkYQaIym0FvmEXDdQcaQovWgi\n",
       "zzffUyOix2m96WnwQ6o6C+UNIRQkHR/XB/BRQlmnJfOB4YxE6c6pwGjzfU+gMX25JYBE+g51Fsob\n",
       "QihI2r6rD+CjhLJOS0YDwxmJsstSTkD4NiQGI7RhAqJ6hzP6gF2I2gZp3bcNLcIZiTLlvHZsXp/B\n",
       "lOvF57jevlLcwgT978tphCQ3P2UwiyyRiKTxFfK8SKVHk5856at6WD4KJaSItE40BQ0NZzbKqvO5\n",
       "nO6qIA17H1L4V39bSg7ieTwD57HG0jDU8ESWJdKqpPEV8rwI5MQcrHDSF+ufrbx7uFdHNgpDSBFp\n",
       "nWgKGhLOcJQ5p2sHYA0jjdghdI+r9fZD6MLny0AGbmCNsRzMIhavRFqVNH5CihfBu1CAs5x0WZ8N\n",
       "bBRKyEhI60RT0JBwhqP8BOipQGcBaVjLkMqq9T0VfVV7DXAaI9MA3xGLVyIQj6aFkPCiKLHS7/Q2\n",
       "sFEoISMhrRNNQUPCGY7ieE8Nw1J9Ok3n86fy+foGuTMLexl3xq88cGd8qtFWD4B9sGsYGYK+A8TS\n",
       "LFGQJk1rIdcLUuKluTbQKJSQkWhYJ5oKDQlnOMp9Z2YUYAxyamedLfCdnNq2gYLWx44fEKvYqLNV\n",
       "sA7V80MpkctUQTuFOCHhxVPipd1FyTrpHu5vwkahhBTxrBNNQaOHMx3FWauWRuBVDF31nWvNLKpP\n",
       "OX1G1wa7Cj3Ll1CWmlgbmyxKieSVNH5CihfB65yFcU76sj4b2CiUkJGoacu6pylo9HCmozjbvmQm\n",
       "NpTAC9+ItYHX0ywkMOMqXMhi68/gFj4/vBLJK2n8hBQvgvcFwDVOmmxY2SiUkJGQ1ommoCHhDEf5\n",
       "Ut/f7rzZwduAzZvatWSq+BED/cWv50oIWfyQwU69ErnLkzR+QooXwWtNFnOc9BO9DWwUSshISOtE\n",
       "U9CQcIajdKdb3nqGuItudQM7GgiYeJiRjnoXHSbLn4mCn5B9C3yET5/pU4SwUCRYKEg6QQYERAkv\n",
       "8XvOzUSJ/nT4eI/HJh90H3+U/jb1/pRC7Ryloz3/Oezdolj7RvkFxI90xwwu760AAAAASUVORK5C\n",
       "YII=\n",
       "\" style=\"display:inline;vertical-align:middle;\" /></a><br>"
      ],
      "text/plain": [
       "expr: (a + b + c + a + b + a + c + b + a + c + a) = (a + a + a + b + c + b + c + b + a + c + a)"
      ]
     },
     "execution_count": 2,
     "metadata": {},
     "output_type": "execute_result"
    }
   ],
   "source": [
    "# build up the expression from sub-expressions\n",
    "expr = Equals(Add(a, b, c, a, b, a, c, b, a, c, a), Add(a, a, a, b, c, b, c, b, a, c, a))"
   ]
  },
  {
   "cell_type": "code",
   "execution_count": 3,
   "metadata": {},
   "outputs": [
    {
     "name": "stdout",
     "output_type": "stream",
     "text": [
      "Passed sanity check: built 'expr' is the same as the stored Expression.\n"
     ]
    }
   ],
   "source": [
    "# check that the built expression is the same as the stored expression\n",
    "%check_expr"
   ]
  },
  {
   "cell_type": "code",
   "execution_count": 4,
   "metadata": {},
   "outputs": [
    {
     "data": {
      "text/html": [
       "<table><tr><th>&nbsp;</th><th>core type</th><th>sub-expressions</th><th>expression</th></tr>\n",
       "<tr><td>0</td><td>Operation</td><td>operator:&nbsp;1<br>operands:&nbsp;2<br></td><td><a class=\"ProveItLink\" href=\"expr.ipynb\"><img src=\"data:image/png;base64,iVBORw0KGgoAAAANSUhEUgAAAwwAAAAVBAMAAAAZYHSGAAAAMFBMVEX////c3NwiIiJERESqqqqY\n",
       "mJh2dnZmZmYQEBDu7u4yMjJUVFTMzMyIiIi6uroAAAAs73DqAAAAAXRSTlMAQObYZgAAA7tJREFU\n",
       "aN7tWT9oE1EY/9omuV5qm+wdWlzqInTQUSyOYmlmp9JBFysBsUMVtCIdBEu6SLFDS6FDU5AKiiIU\n",
       "Cy5CBzMpoinBKRSlgaZIIYqXS967973vu5x3fVIj3pCEX773+5Pv3rt3F4D/x19x9BXa0na89G9F\n",
       "2Wa+sF8OhmdbvBd+TCShxnGbQttRuYKtB1ccMcoa90VyIwLbeoQxkYQaIym0FvmEXDdQcaQovWgi\n",
       "zzffUyOix2m96WnwQ6o6C+UNIRQkHR/XB/BRQlmnJfOB4YxE6c6pwGjzfU+gMX25JYBE+g51Fsob\n",
       "QihI2r6rD+CjhLJOS0YDwxmJsstSTkD4NiQGI7RhAqJ6hzP6gF2I2gZp3bcNLcIZiTLlvHZsXp/B\n",
       "lOvF57jevlLcwgT978tphCQ3P2UwiyyRiKTxFfK8SKVHk5856at6WD4KJaSItE40BQ0NZzbKqvO5\n",
       "nO6qIA17H1L4V39bSg7ieTwD57HG0jDU8ESWJdKqpPEV8rwI5MQcrHDSF+ufrbx7uFdHNgpDSBFp\n",
       "nWgKGhLOcJQ5p2sHYA0jjdghdI+r9fZD6MLny0AGbmCNsRzMIhavRFqVNH5CihfBu1CAs5x0WZ8N\n",
       "bBRKyEhI60RT0JBwhqP8BOipQGcBaVjLkMqq9T0VfVV7DXAaI9MA3xGLVyIQj6aFkPCiKLHS7/Q2\n",
       "sFEoISMhrRNNQUPCGY7ieE8Nw1J9Ok3n86fy+foGuTMLexl3xq88cGd8qtFWD4B9sGsYGYK+A8TS\n",
       "LFGQJk1rIdcLUuKluTbQKJSQkWhYJ5oKDQlnOMp9Z2YUYAxyamedLfCdnNq2gYLWx44fEKvYqLNV\n",
       "sA7V80MpkctUQTuFOCHhxVPipd1FyTrpHu5vwkahhBTxrBNNQaOHMx3FWauWRuBVDF31nWvNLKpP\n",
       "OX1G1wa7Cj3Ll1CWmlgbmyxKieSVNH5CihfB65yFcU76sj4b2CiUkJGoacu6pylo9HCmozjbvmQm\n",
       "NpTAC9+ItYHX0ywkMOMqXMhi68/gFj4/vBLJK2n8hBQvgvcFwDVOmmxY2SiUkJGQ1ommoCHhDEf5\n",
       "Ut/f7rzZwduAzZvatWSq+BED/cWv50oIWfyQwU69ErnLkzR+QooXwWtNFnOc9BO9DWwUSshISOtE\n",
       "U9CQcIajdKdb3nqGuItudQM7GgiYeJiRjnoXHSbLn4mCn5B9C3yET5/pU4SwUCRYKEg6QQYERAkv\n",
       "8XvOzUSJ/nT4eI/HJh90H3+U/jb1/pRC7Ryloz3/Oezdolj7RvkFxI90xwwu760AAAAASUVORK5C\n",
       "YII=\n",
       "\" style=\"display:inline;vertical-align:middle;\" /></a></td></tr>\n",
       "<tr><td>1</td><td>Literal</td><td></td><td><a class=\"ProveItLink\" href=\"../../../../logic/equality/__pv_it/2fb26078095930560931daa0500ce419a39ea6cd0/expr.ipynb\"><img src=\"data:image/png;base64,iVBORw0KGgoAAAANSUhEUgAAAA4AAAAFBAMAAACHocAhAAAAFVBMVEX///9EREQiIiJUVFQyMjJm\n",
       "ZmYAAADubVkoAAAAAXRSTlMAQObYZgAAABRJREFUCNdjCHEBAWcGXCBICQQUAUpuAwlgGKrkAAAA\n",
       "AElFTkSuQmCC\n",
       "\" style=\"display:inline;vertical-align:middle;\" /></a></td></tr>\n",
       "<tr><td>2</td><td>ExprTuple</td><td>3, 4</td><td><a class=\"ProveItLink\" href=\"../b40fa9fd5768873d096dc01dc3ec9a763a20e1c80/expr.ipynb\"><img src=\"data:image/png;base64,iVBORw0KGgoAAAANSUhEUgAAAukAAAAVBAMAAAAJJW1zAAAAMFBMVEX////c3NwiIiJERESqqqqY\n",
       "mJh2dnZmZmYQEBDu7u4yMjJUVFTMzMyIiIi6uroAAAAs73DqAAAAAXRSTlMAQObYZgAAA8xJREFU\n",
       "WMPtmTFoE1EYx7/aJNdLanJ7h3ari9DFUQzOlmZylNJBFysBsUMdtCIdBGu6SKFDQ6GD16WDogjF\n",
       "govgkkkRm1KciigNNkUKVXzX3Hv3vve9l9y9Ykugb0jo13/+v+//7u7l3QXgbJzGyNfO5uBEx43g\n",
       "5aPmH+6boeRui4+Sf8YKdNwRA9o5i03a1nA22MsL3X+yaxZ2qxafsQIdd8SArv6XtK1RBTiPFpj5\n",
       "8L1Q5OeFp54oHpgqTdWF+iYAxUG3I7SpxEjXNDLnLdJil+sAfRW5MBq+7/JqSl31SUFU8geqC/VN\n",
       "AIqDbkdoU+mcTmShzFGLtNhlAeC7Vj8ByWc9M2Qx6xNwCrPeOZ3IYpz1RGmxS28Rpthbz/qdGaxf\n",
       "rb/CevdmfQMbDHza8VAlu/61hF2ERFSEjREU9SJIzyc3DWgNgWaxSSeykCa4CU1LOcS2JcmUYYX9\n",
       "seP1NpDe3YMC1n/Yzg7ha3AGruDWl0bgEF+EQiL6EDZGUNQLr/TPwbIBrSGQLFbpRBbSBDchaTVk\n",
       "YtuSpKowx47APjgjSJ86gL5xWe8+hV588AdLcBfPzlgFZpFLJBF5hY0JJPXCfRdqcMmApgSaxSqd\n",
       "yEKa4CYkLeUQ21CSfwh/AXINOFdDeqcKhbKszzXUJeodwEVcmQb4jVwiCa9ENm1AvBeJZEJrCUoW\n",
       "q3QiC2mCm5C0WjK2DSX9jWDWCyOwFFxx075/wfeDfei5Muyyo+T4/vIT3187khz1KwqwB+4hrgxD\n",
       "fh+5hBKpEtq0Bx31gkh6tImgZLFK18pCmpBMSFotGduGEjbrj9l1WoMxqMhHiW1oH1TkozRYUw5b\n",
       "zx9INVx0OjTBOZCPtSQRa05NOWN0IN5LRDKh9QQli026KAtpgpuoafVkbBtK2ArDVqulIrxNoa0F\n",
       "+7KZRfoCOzfQEuU2IVe9hjo95Ktl6CJJhK+wMYGkXrgvO6XSGnRFS6BZbNJFWUgT3ERNq+OotqEk\n",
       "XYVbbBNUSg1n8IpUdNbwilSGDJ6LFbhaxo29hPv4dIgkwlfYmEBSL9z3NcBtinZ/aQk0i1U6kYU0\n",
       "wU1IWg1HtQ0lbOf4LdhFbr3fwt++6/eUS26q/gUXBuo/Lm+jyuLnEu4jkoi9lLAxgaReuK8zWa9Q\n",
       "tPvM0xFoFqt0IgtpgpuQtJRDbENJdhv6vAR3VfHuIZPcmybxxYW8Z31vmiBdjHA2TwTS43LhZ8en\n",
       "7/RxPK0QF1rpDOqETidm2qSLES4xZ9L0pLcLRrpbf9Vwq8Eq2aXNd+1PYLlgaew5+wXvZMcmwD8l\n",
       "6E5qqy+AUwAAAABJRU5ErkJggg==\n",
       "\" style=\"display:inline;vertical-align:middle;\" /></a></td></tr>\n",
       "<tr><td>3</td><td>Operation</td><td>operator:&nbsp;6<br>operands:&nbsp;5<br></td><td><a class=\"ProveItLink\" href=\"../bab95727a9575eabd6aee6afba3a9ae6970e66760/expr.ipynb\"><img src=\"data:image/png;base64,iVBORw0KGgoAAAANSUhEUgAAAWoAAAAQBAMAAADNOCjDAAAAMFBMVEX///8yMjKqqqrMzMzu7u4i\n",
       "IiJmZmaYmJhEREQQEBC6urp2dnaIiIhUVFTc3NwAAAD87Fq/AAAAAXRSTlMAQObYZgAAAgdJREFU\n",
       "SMe9lb9Kw1AUxr+GNGhLGzOIU6EgbkIddesLaDsVBId2UhAxj9AHEMTBSRHBSRB0cdElgzhoheoi\n",
       "QsG+QGlpi+3gYKuJzcnpSUwHzxL4OPf3fffm/gFYqW95hK7Vw/BjJjISK1KdYFDqv4y8tWZ/9bRH\n",
       "GK1OXVTaYgvHBBtxzBjuTy3a38usR/gtxZKUWFds4ZhgI44Zw6VjrxE+dTw/QWrZKDB1snZzQsem\n",
       "Kq9UUG8rS3Ro4/G8TpRI7ckUWjhGNBplcTCS9Xl9qkXGqn3olL5yGsnT/XCCfUrPldERWjhGNBpl\n",
       "cTCCdbIHrUzoShfTV4R+jCm6kE0TW5SeyeJIaOEYyciVxcZI1okWohahazPQi24h0fJurndggyol\n",
       "4ENo4RgfIyeLjZGs9TJyw99UMox1wxjeutEiLk23oP/MXzOM2QPDGN6xfagdqhQQ641r4Rh/o+8s\n",
       "I4xk3bSQQdY948EtukuEpuWZcPITSkslS9CG1hVaOMbHyMliYyTrXBrPCjkTgxNyROmDBSGbS20j\n",
       "MTNPUnecLcpbOEYycmWxMZJ1xFQKcbr/0lqVCkXE6fUzh4UiCYkX7EBo4RjJyJXF2deCdbL2sPxA\n",
       "z3pt03NlbVfuaKRG5WzvlCir96bUwjGSkSuLg/GxDnrD/vA2+r28i+GFEC/6RaAQswIV3vIHLhMC\n",
       "uF8uh/IdBFSamgAAAABJRU5ErkJggg==\n",
       "\" style=\"display:inline;vertical-align:middle;\" /></a></td></tr>\n",
       "<tr><td>4</td><td>Operation</td><td>operator:&nbsp;6<br>operands:&nbsp;7<br></td><td><a class=\"ProveItLink\" href=\"../901231d90fbac2e4f2c5736b6da06c181da8248c0/expr.ipynb\"><img src=\"data:image/png;base64,iVBORw0KGgoAAAANSUhEUgAAAWoAAAAQBAMAAADNOCjDAAAAMFBMVEX///8yMjKqqqrMzMzu7u4i\n",
       "IiJmZmaYmJhEREQQEBC6urp2dnaIiIhUVFTc3NwAAAD87Fq/AAAAAXRSTlMAQObYZgAAAi1JREFU\n",
       "SMe9lTFLHFEUhc+O40R32axTiJWwEOwELbXbNgSzWwmCxVopSMj8hO1shJAiTSIiWAmCQrBJLAYi\n",
       "FmaE1cIQWNA/IC66xC1S5Inz3rw7dybPHcUpP8495743d+4A2Z6ZT49X2L9reOZn9AkUueYTNPKW\n",
       "38ZFKrlOkzAF95WgVH54Mm8lfMYZsfw0ku+kSZiC+0qwU3l4Mm8lQ9eFmsleKdK73kPmrl+2vq3T\n",
       "2ohIKSe51rFH3d7s/0hWKF/7ezBJwGjwy5SsalTO5c8tMSxbFwNtWhsRKeWk2sANAX2fMZysUL7T\n",
       "G7maDuwuSpOGZFWjBm8dH8TxbuE0iLtGQiknmKjgCwGvfawkK1STaxjwdGB1MLj7/+SoRtpeeVgC\n",
       "im30+8RdI6GUEywAfwg4jw+gUmi+dIydIZTqxuSYrciZF9ungerda1pw3TnXvduxkjiuO/zRdZtJ\n",
       "BLPI3xLQvW8krqC+IKC/jh3PmByz7cIWg3flYwIV/cQaCQ/IiVjGTocM0d/4pSiF5kvvWqzr9+Zk\n",
       "aityrLaNahknFvkmNBJKOREfWjiSEoh7fZGsUE2KeyVzLT5FOvk8J6qRg36N4tAr5DxrtkBqNRJK\n",
       "OcEp3lFwBnxNVqipraNArqdYdpqG5KhG2o5grL4rVuTR1BHdIRGRr4URzBx6FDj7QSVZofbacnBA\n",
       "l0prEYbkqEaCy2BzdSPrv7GXX+9476CHP/o2I3nfSMyA+25nSCbgH/Ne+py4sfjpAAAAAElFTkSu\n",
       "QmCC\n",
       "\" style=\"display:inline;vertical-align:middle;\" /></a></td></tr>\n",
       "<tr><td>5</td><td>ExprTuple</td><td>10, 8, 9, 10, 8, 10, 9, 8, 10, 9, 10</td><td><a class=\"ProveItLink\" href=\"../98c02e530816a511bab2e4a805a7e6d438df201a0/expr.ipynb\"><img src=\"data:image/png;base64,iVBORw0KGgoAAAANSUhEUgAAANUAAAAVBAMAAAAjhrYEAAAAMFBMVEX////c3NwiIiJERESqqqqY\n",
       "mJh2dnZmZmYQEBDu7u4yMjJUVFTMzMyIiIi6uroAAAAs73DqAAAAAXRSTlMAQObYZgAAAlVJREFU\n",
       "SMe9Vj9oE1Ec/tJccnm5Jpe9Q7t1KmRxFIOz0JscJTjoYuRA7KCDVqSb9SYpOOQQOpQuHZQWIRhw\n",
       "EVwyKaJXUqciQqNpkUIU3597790fvMtiMly++74v34/3u997F2CWn/pgJmWuscv7KPP80b/dWRo5\n",
       "WMqpZfbpZSdG7WbYs7TqXt7CfKAWb+FphjtLs1t5ta4CFS/28M4zHmyGhhMvr9YW8C1GlDPanqXh\n",
       "eu5wFFtYo1+F3u31sO29z45AzzpfBFj4cNxIaIrSrt3glQA6i9wI+hGq7GKb3hw3iiOhd5uYcDC/\n",
       "iReic+u4lNA0pVxkDFsE66x3w+pShDJ8bNK6ZzCbQl/1sCG6O8AFDhYd3ElomlIu4xyVNl+DyiJP\n",
       "UHQiVP0h/gDWCHPhNN4DfnHwRraZgpW0toK4y/RhuwzoLCtcnqTmR6yW3URXNADLqJ9xMJYpY5BJ\n",
       "SpOUcs25OOGL0Fl2U24HQdFaj2lPBliFF24hk0924XdopMAYkaQWUsrFttcDnqCzFuXGDSnaQ9rv\n",
       "bguvjT7/9YS1nVnpCkoMkFNY/hVOSS1CSRcbjA2wBJ1l03U6mkLJx006zI6xXEaXDc1L3Af5ScE+\n",
       "cIuDbVx22xwpTVPKZbXMPZ6gsywX5b6m2Mx/ZfN/+PYQWz/Y+frRAXlKN4/ZCTwOFoLvF4ccKU1T\n",
       "ykV6d8ETIllrwacIheoQlYbs+ZE6jBpJMCWlEjQ6ip5Rpba8cSQopcCUlJNGmupE3yn/txbx2eEW\n",
       "3tSUcZAC01E6oZamLNbpwmz+A9Az+i+iVOAdG9M4OgAAAABJRU5ErkJggg==\n",
       "\" style=\"display:inline;vertical-align:middle;\" /></a></td></tr>\n",
       "<tr><td>6</td><td>Literal</td><td></td><td><a class=\"ProveItLink\" href=\"../3e6688136fa3c7aefbebe51301b7c3ebf0b69c440/expr.ipynb\"><img src=\"data:image/png;base64,iVBORw0KGgoAAAANSUhEUgAAAA4AAAAOBAMAAADtZjDiAAAAJFBMVEX///+6urpUVFQQEBAiIiIy\n",
       "MjJmZmaIiIiqqqrc3Nzu7u4AAACgHpL+AAAAAXRSTlMAQObYZgAAAB5JREFUCNdjYGBgWMkAAe2k\n",
       "0Kmhoc6hoUGk6BMHYgAHOwjcado9fwAAAABJRU5ErkJggg==\n",
       "\" style=\"display:inline;vertical-align:middle;\" /></a></td></tr>\n",
       "<tr><td>7</td><td>ExprTuple</td><td>10, 10, 10, 8, 9, 8, 9, 8, 10, 9, 10</td><td><a class=\"ProveItLink\" href=\"../5419325ea9231c45ad5ae0c1301d806de094128e0/expr.ipynb\"><img src=\"data:image/png;base64,iVBORw0KGgoAAAANSUhEUgAAANUAAAAVBAMAAAAjhrYEAAAAMFBMVEX////c3NwiIiJERESqqqqY\n",
       "mJh2dnZmZmYQEBDu7u4yMjJUVFTMzMyIiIi6uroAAAAs73DqAAAAAXRSTlMAQObYZgAAAi9JREFU\n",
       "SMe9ljFoE1EYx/9pLrm8XJO73aHZOglZHMXgLPQmRwkOuhg5EDvooBXpZs0khQ45hA6lSwelRQgG\n",
       "XASXTIroldSpiNBoWyRQxe+9u8t7veN4t5gMl//75fi9vO++9xJglq/6cCbT3OCXD7q7Np7oCdtr\n",
       "aCzmgC5b2q+0nYNUd3QWH6jpS3iSg9gtneU6UOlqH+hET3Ck1awD37XLKjf0BDe1mmILy/RW6N9d\n",
       "iciFj4dOIlX7X9wQveh8zSDYDl6HQbrYrWCgoLKHTRocOsVxVJ0VXEmmXhNnIsyv4WUGYcewQ7F0\n",
       "vR9VGwoyfKzRvKcwm+HnCy7uJdNSF6thxYe4lEGMCSptsYapiz1D0VVQ/TH+AtYYc1E3vgUuJtMD\n",
       "4HeMsojpw/Z4kC4rWl6M5sd8LruJXlgAHIOdJdMi6qcRQhaZ83AkFiFddjPeDiGiuZ5SuYZYgujZ\n",
       "wh8YY3Y+0WYyJxGabq8koe31SBikayHeuBGiGlK9ey28MQZczE5g+df4vTJRG9Cj4IHWUsog1Bir\n",
       "4AbpsmmdrkQo+bhNLewai2X0eNNs4qrXZr/OpVd4CBF2gTsZxGqZO8IgXZaH8kAi3vPfeP/vv9vH\n",
       "+k++qYIfl0fsuaOmjU8uRDA7QTeDsP59CIPiWg4+KwjVESpOXPMDeQY5qZQnKIaDNKIzqtSOB+4U\n",
       "l9IpT1AMbhp11N+U/zsX8/kjigY1eUwO0ylPkIZaGlm80oXZ/AegM/ofPdfgHUTZzvcAAAAASUVO\n",
       "RK5CYII=\n",
       "\" style=\"display:inline;vertical-align:middle;\" /></a></td></tr>\n",
       "<tr><td>8</td><td>Variable</td><td></td><td><a class=\"ProveItLink\" href=\"../../../../__pv_it/6840a4fa6c106149dc16a131294d0c5e44f1b0480/expr.ipynb\"><img src=\"data:image/png;base64,iVBORw0KGgoAAAANSUhEUgAAAAkAAAAOBAMAAAAPuiubAAAALVBMVEX///9mZmbMzMxERESYmJiI\n",
       "iIh2dna6urqqqqoyMjIiIiIQEBBUVFTu7u4AAAD9S1JeAAAAAXRSTlMAQObYZgAAAE1JREFUCNdj\n",
       "4D29gAEIOA+ASL4GEFl3AURmgQiGOaFHGBh4HzPwKTBwvGXgTmBgnMDAJ8DAJcBQ5wBSLncBJLWN\n",
       "gYGngRFoBO9REQYGAGrcDtUkVqASAAAAAElFTkSuQmCC\n",
       "\" style=\"display:inline;vertical-align:middle;\" /></a></td></tr>\n",
       "<tr><td>9</td><td>Variable</td><td></td><td><a class=\"ProveItLink\" href=\"../../../../__pv_it/cbdfda466482236edba0ce44ac7ef39cda0af7a40/expr.ipynb\"><img src=\"data:image/png;base64,iVBORw0KGgoAAAANSUhEUgAAAAkAAAAJBAMAAAASvxsjAAAALVBMVEX///9mZmbc3NxUVFSYmJhE\n",
       "REQiIiIyMjK6uroQEBDMzMyIiIh2dnbu7u4AAABgFDGoAAAAAXRSTlMAQObYZgAAADZJREFUCNdj\n",
       "YOA9s3sBA8PKBvYEBt7ZDKwODMwPGICALwBE6m0Asx0YGIDiAgw8QJUyu/cyAAAmuwmycZ8WfQAA\n",
       "AABJRU5ErkJggg==\n",
       "\" style=\"display:inline;vertical-align:middle;\" /></a></td></tr>\n",
       "<tr><td>10</td><td>Variable</td><td></td><td><a class=\"ProveItLink\" href=\"../../../../__pv_it/07527342713064c87612d00d8557c53d53d5324a0/expr.ipynb\"><img src=\"data:image/png;base64,iVBORw0KGgoAAAANSUhEUgAAAAsAAAAJBAMAAAAWSsseAAAAMFBMVEX///8yMjKqqqrMzMzu7u4i\n",
       "IiJmZmaYmJhEREQQEBC6urp2dnaIiIhUVFTc3NwAAAD87Fq/AAAAAXRSTlMAQObYZgAAAEhJREFU\n",
       "CNdjYOC7s2seAwPDygccHxgY+L4zsDUwMPB+YGA9wMDA38Dgb8DA8P4Agz6DA4O/AsNFJgMGxgKm\n",
       "MG6gyjunLE4xAAAZTBA5TB6DCwAAAABJRU5ErkJggg==\n",
       "\" style=\"display:inline;vertical-align:middle;\" /></a></td></tr>\n",
       "</table>\n"
      ],
      "text/plain": [
       "0. (a + b + c + a + b + a + c + b + a + c + a) = (a + a + a + b + c + b + c + b + a + c + a)\n",
       "   core type: Operation\n",
       "   operator: 1\n",
       "   operands: 2\n",
       "1. =\n",
       "   core type: Literal\n",
       "   sub-expressions: \n",
       "2. (a + b + c + a + b + a + c + b + a + c + a , a + a + a + b + c + b + c + b + a + c + a)\n",
       "   core type: ExprTuple\n",
       "   sub-expressions: 3, 4\n",
       "3. a + b + c + a + b + a + c + b + a + c + a\n",
       "   core type: Operation\n",
       "   operator: 6\n",
       "   operands: 5\n",
       "4. a + a + a + b + c + b + c + b + a + c + a\n",
       "   core type: Operation\n",
       "   operator: 6\n",
       "   operands: 7\n",
       "5. (a , b , c , a , b , a , c , b , a , c , a)\n",
       "   core type: ExprTuple\n",
       "   sub-expressions: 10, 8, 9, 10, 8, 10, 9, 8, 10, 9, 10\n",
       "6. +\n",
       "   core type: Literal\n",
       "   sub-expressions: \n",
       "7. (a , a , a , b , c , b , c , b , a , c , a)\n",
       "   core type: ExprTuple\n",
       "   sub-expressions: 10, 10, 10, 8, 9, 8, 9, 8, 10, 9, 10\n",
       "8. b\n",
       "   core type: Variable\n",
       "   sub-expressions: \n",
       "9. c\n",
       "   core type: Variable\n",
       "   sub-expressions: \n",
       "10. a\n",
       "    core type: Variable\n",
       "    sub-expressions: "
      ]
     },
     "execution_count": 4,
     "metadata": {},
     "output_type": "execute_result"
    }
   ],
   "source": [
    "# display the expression information\n",
    "expr.exprInfo()"
   ]
  },
  {
   "cell_type": "code",
   "execution_count": null,
   "metadata": {},
   "outputs": [],
   "source": []
  }
 ],
 "metadata": {
  "kernelspec": {
   "display_name": "Python 3",
   "language": "python",
   "name": "python3"
  }
 },
 "nbformat": 4,
 "nbformat_minor": 0
}
