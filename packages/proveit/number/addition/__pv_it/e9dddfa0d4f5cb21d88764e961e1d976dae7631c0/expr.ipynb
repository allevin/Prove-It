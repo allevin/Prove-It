{
 "cells": [
  {
   "cell_type": "markdown",
   "metadata": {},
   "source": [
    "Expression of type <a class=\"ProveItLink\" href=\"../../../../../../doc/html/api/proveit.logic.InSet.html\">InSet</a>\n",
    "=======================\n",
    "# from context <a class=\"ProveItLink\" href=\"../../_context_.ipynb\">proveit.number.addition</a>"
   ]
  },
  {
   "cell_type": "code",
   "execution_count": 1,
   "metadata": {},
   "outputs": [],
   "source": [
    "# import Expression classes needed to build the expression\n",
    "from proveit._common_ import b, c\n",
    "from proveit.logic import InSet\n",
    "from proveit.number import Complexes, Exp, four, three"
   ]
  },
  {
   "cell_type": "code",
   "execution_count": 2,
   "metadata": {},
   "outputs": [
    {
     "data": {
      "text/html": [
       "<strong id=\"expr\">expr:</strong> <a class=\"ProveItLink\" href=\"expr.ipynb\"><img src=\"data:image/png;base64,iVBORw0KGgoAAAANSUhEUgAAAIAAAAAZBAMAAAALeTtzAAAAMFBMVEX////c3NwiIiJERESqqqqY\n",
       "mJh2dnZmZmYQEBDu7u4yMjJUVFTMzMyIiIi6uroAAAAs73DqAAAAAXRSTlMAQObYZgAAAhZJREFU\n",
       "OMtjYKAIcDFQCPwnUKafM59CA3jnU2jAEZABfBcIqovDJZEAMuA0A+cOBZx6edKSHRjYD2CIX1r1\n",
       "Q7mAVQBkwEpgZGzAaYA4A99fBoYF6MLn/jFM+7thLgPQAF6gD/gdcBqQ78DwiYEhDE2UlTsAGIUb\n",
       "3MvrSxk4gI54jzss/cEGzIDG2i0lJbBjIjmABDvQ3fITGF4BmUn4QhDkBWaIE09FQsUKpEHGXWBg\n",
       "3b+FoQzIXH13K1RmWu4dNAY4gNgKQCxGS1j6KXiGsGApkP+ZgR8Szjx9DItQGQzHVgMJFrDDmQVg\n",
       "UZPgijCgDyj9k4EjAcyZcYHBFJUBTG1AFXwNINZkeNwmPEUY8A8YGgsY+MFuZNgPE92PFAj9Exh4\n",
       "PoAYL5SUIIHIaXAMxQCmAob3AWDOZ5gonCHDwGAfADXgNFzTSm6EAS3gZFAPjkjGv1BBOIPz/wSQ\n",
       "ARAvTIJrCgMbAIl8oFeBIdjGwAnifAWmEbA4nPGLgUFfgIEVHIjcATADmOOAyY9PE8xOB0o4ANPE\n",
       "fFB+2M7AkMP5CZlxlYHvGywaOfXgTthtO2GeMcQFj4ASe0uB4f4RlLhy707g7BdAYrCUVwETEdcD\n",
       "sFqpGng8FP3vhogxcMAi9yE86QmgM2BJmcF7kRJGvmJNgDLgHmTFYDDk4kvrKwkbwLkAnwHS0AQH\n",
       "F7iAweAWwGcAI+Ei7Q4eOQDoWItwowsAQgAAAABJRU5ErkJggg==\n",
       "\" style=\"display:inline;vertical-align:middle;\" /></a><br>"
      ],
      "text/plain": [
       "expr: (b , c , c , 3) in Complexes^{4}"
      ]
     },
     "execution_count": 2,
     "metadata": {},
     "output_type": "execute_result"
    }
   ],
   "source": [
    "# build up the expression from sub-expressions\n",
    "expr = InSet([b, c, c, three], Exp(Complexes, four))"
   ]
  },
  {
   "cell_type": "code",
   "execution_count": 3,
   "metadata": {},
   "outputs": [
    {
     "name": "stdout",
     "output_type": "stream",
     "text": [
      "Passed sanity check: built 'expr' is the same as the stored Expression.\n"
     ]
    }
   ],
   "source": [
    "# check that the built expression is the same as the stored expression\n",
    "%check_expr"
   ]
  },
  {
   "cell_type": "code",
   "execution_count": 4,
   "metadata": {},
   "outputs": [
    {
     "data": {
      "text/html": [
       "<table><tr><th>&nbsp;</th><th>core type</th><th>sub-expressions</th><th>expression</th></tr>\n",
       "<tr><td>0</td><td>Operation</td><td>operator:&nbsp;1<br>operands:&nbsp;2<br></td><td><a class=\"ProveItLink\" href=\"expr.ipynb\"><img src=\"data:image/png;base64,iVBORw0KGgoAAAANSUhEUgAAAIAAAAAZBAMAAAALeTtzAAAAMFBMVEX////c3NwiIiJERESqqqqY\n",
       "mJh2dnZmZmYQEBDu7u4yMjJUVFTMzMyIiIi6uroAAAAs73DqAAAAAXRSTlMAQObYZgAAAhZJREFU\n",
       "OMtjYKAIcDFQCPwnUKafM59CA3jnU2jAEZABfBcIqovDJZEAMuA0A+cOBZx6edKSHRjYD2CIX1r1\n",
       "Q7mAVQBkwEpgZGzAaYA4A99fBoYF6MLn/jFM+7thLgPQAF6gD/gdcBqQ78DwiYEhDE2UlTsAGIUb\n",
       "3MvrSxk4gI54jzss/cEGzIDG2i0lJbBjIjmABDvQ3fITGF4BmUn4QhDkBWaIE09FQsUKpEHGXWBg\n",
       "3b+FoQzIXH13K1RmWu4dNAY4gNgKQCxGS1j6KXiGsGApkP+ZgR8Szjx9DItQGQzHVgMJFrDDmQVg\n",
       "UZPgijCgDyj9k4EjAcyZcYHBFJUBTG1AFXwNINZkeNwmPEUY8A8YGgsY+MFuZNgPE92PFAj9Exh4\n",
       "PoAYL5SUIIHIaXAMxQCmAob3AWDOZ5gonCHDwGAfADXgNFzTSm6EAS3gZFAPjkjGv1BBOIPz/wSQ\n",
       "ARAvTIJrCgMbAIl8oFeBIdjGwAnifAWmEbA4nPGLgUFfgIEVHIjcATADmOOAyY9PE8xOB0o4ANPE\n",
       "fFB+2M7AkMP5CZlxlYHvGywaOfXgTthtO2GeMcQFj4ASe0uB4f4RlLhy707g7BdAYrCUVwETEdcD\n",
       "sFqpGng8FP3vhogxcMAi9yE86QmgM2BJmcF7kRJGvmJNgDLgHmTFYDDk4kvrKwkbwLkAnwHS0AQH\n",
       "F7iAweAWwGcAI+Ei7Q4eOQDoWItwowsAQgAAAABJRU5ErkJggg==\n",
       "\" style=\"display:inline;vertical-align:middle;\" /></a></td></tr>\n",
       "<tr><td>1</td><td>Literal</td><td></td><td><a class=\"ProveItLink\" href=\"../../../../logic/set_theory/membership/__pv_it/088cbc857536a28d4119ad9639a84270ccb0545d0/expr.ipynb\"><img src=\"data:image/png;base64,iVBORw0KGgoAAAANSUhEUgAAAAwAAAAMBAMAAACkW0HUAAAALVBMVEX///+qqqpmZmZUVFQQEBC6\n",
       "urpERETc3NyYmJjMzMwiIiIyMjKIiIju7u4AAACYsrA9AAAAAXRSTlMAQObYZgAAADxJREFUCNdj\n",
       "YOA9vWrVBgaG2b0MQMCeCyIZ2ArA1DUwyRCyahVIyWQI7xaEYm4AU7xLIdxqTQgtvGvVBgCkcQ7e\n",
       "geM/tQAAAABJRU5ErkJggg==\n",
       "\" style=\"display:inline;vertical-align:middle;\" /></a></td></tr>\n",
       "<tr><td>2</td><td>ExprTuple</td><td>3, 4</td><td><a class=\"ProveItLink\" href=\"../7881965b0f0b71e592481194d22ddf6820f68fd00/expr.ipynb\"><img src=\"data:image/png;base64,iVBORw0KGgoAAAANSUhEUgAAAIQAAAAcBAMAAABSXwq6AAAAMFBMVEX///+qqqp2dnYiIiJERESI\n",
       "iIhmZmYQEBDc3NyYmJgyMjLu7u5UVFTMzMy6uroAAACGxKilAAAAAXRSTlMAQObYZgAAAmRJREFU\n",
       "OMutlU9o01Acx7+pa9rkNVnvHhbEHmU7DRFk8yIMBQMyRdbBTj1MD8NdBGHrQT0IQhQPHoYUBE+D\n",
       "BVELMuiEKejByQ6eBAcqeHKdujntqv5+aV6WtIuFdoH0fd/v5X3yfv9SoIurhG4vpSbV104Rjwhh\n",
       "sTCWOkWMEeI9i2duhwTjICGSNqlXPP3cdsP9FktCcCyOAumphjOL0/GvO3Q4C/XtriF5bGH6JO55\n",
       "iDygTtCokzPzsYgbMDfDGTTW10R/XtgeouIitUbjKN0bsYj+LL4Dd4K5Q74rO0qhsOUABxx8YONV\n",
       "wKzFIvo8RFlONZd9v0Qx4C3qMM7TYNIhEwP/iSU70pP1J2qay+AJMLdDJq2K12ykAtFf5B2/YnLj\n",
       "TQI6bUpM+JOnphWm13Can6DNlWHUG8GawYOowCqHWpHxXFWccLrqeEgDh7TPxWXPVrYxEhWUxRl6\n",
       "3ZREmGFE+g8GaeglxCSw5dlW5OJK6MFZF0bV14+NsCNiI0AMwvzl2X7IxUDcAs44uwjdXYqegt1M\n",
       "ZbksVC+t6U25JoX46zIicESzGCHkY3Us09BDztWRssAdR2fRouI3MFSEVpIbR7ijPvrdaW7jLBr5\n",
       "ek7FIqiC8BI4EhUXYH7zk1rh6sksj4lPp+SZqlhnEi0snnMgZotUJLlRNyqUwiR5qnMnlLd527uh\n",
       "n2+Cfi2hlzvwiqyTYqzwC/xLc+HqNjKcIdlCGmIFco0Wa0ZUijAG/GZvgxClvRF36T7BmfEzbcuF\n",
       "VpHxPEq2dOBxum+yuN72wze+t1njPClWN/8l17zf290gLmI/rn8/b6SyZjpx6AAAAABJRU5ErkJg\n",
       "gg==\n",
       "\" style=\"display:inline;vertical-align:middle;\" /></a></td></tr>\n",
       "<tr><td>3</td><td>ExprTuple</td><td>5, 6, 6, 7</td><td><a class=\"ProveItLink\" href=\"../6e9f00e88e33e8db9c78df59410012179059579b0/expr.ipynb\"><img src=\"data:image/png;base64,iVBORw0KGgoAAAANSUhEUgAAAE0AAAAVBAMAAADx+n4ZAAAAMFBMVEX////c3NwiIiJERESqqqqY\n",
       "mJh2dnZmZmYQEBDu7u4yMjJUVFTMzMyIiIi6uroAAAAs73DqAAAAAXRSTlMAQObYZgAAAXhJREFU\n",
       "KM+NkjtLA1EQhb8YN8nmsUlnoaD/QBtr9x+YylKCQmwMbmMEGy3EzmQrSWcQLCRNGtFGTCWCTRoL\n",
       "wYVoaZNoUFCIOncfQQIxbjGcnTl37plzB/77Gc2RlGUVbtEvZoZSkvlVk2hD0CnE60N5Exg9qEJK\n",
       "rk2bQ3kbJq+wBDEb2vZQ3qLLq8Cz/Kz8OafcGzYpCqw5Z15OzzsNDx0WHnyeEh+xOJFql7RXvmnF\n",
       "vdGTJY492nVNwniVksQPYjm33QHhrFutNJn3+6WEYezyBdEqaUulEp1A1NUvgWWbZEfxxizabpv0\n",
       "XFDrBmAKFrKKt+fat+M6Mx08YajnA/3bVjy5V2TIEPvoqp90zSrAG2ios58wm0GrsiayzGidIxk0\n",
       "YRFpKMA5rOtiMHcY764vT9L8clMmfJFs0bn3QLTg2Ho5I15sbcujxlvEMr6URwaBEZTUu2k5H2cZ\n",
       "BFrfmoK3V6N4uuwVk77tQbIP6C96QgkIjd57WYkfYttb9SUCWDYAAAAASUVORK5CYII=\n",
       "\" style=\"display:inline;vertical-align:middle;\" /></a></td></tr>\n",
       "<tr><td>4</td><td>Operation</td><td>operator:&nbsp;8<br>operands:&nbsp;9<br></td><td><a class=\"ProveItLink\" href=\"../ac094b0dfa02191d356d43d28021b9ef452b8a820/expr.ipynb\"><img src=\"data:image/png;base64,iVBORw0KGgoAAAANSUhEUgAAABcAAAAUBAMAAACUkLs9AAAAMFBMVEX////c3NyqqqqYmJhUVFR2\n",
       "dnbu7u66urrMzMxmZmZEREQQEBAyMjIiIiKIiIgAAAB7fvZ0AAAAAXRSTlMAQObYZgAAAIhJREFU\n",
       "GNNjYICDAwgmA9M3JE4qMucZEodDDYnDygbm8N05v3clgyGYw1FfwBb/hO0BmGPgDDT2C9PMmT8N\n",
       "GJgTNgBFpjAwMAJlOBkdgJw8BgaTLwoMmewBCCNbmQyQOOxInCwOJGU8CQ4IDnMAiMMG5S2uAxK1\n",
       "CRAOi9cztqplMIWd93+7Q1gA8EUjI107FbAAAAAASUVORK5CYII=\n",
       "\" style=\"display:inline;vertical-align:middle;\" /></a></td></tr>\n",
       "<tr><td>5</td><td>Variable</td><td></td><td><a class=\"ProveItLink\" href=\"../../../../__pv_it/6840a4fa6c106149dc16a131294d0c5e44f1b0480/expr.ipynb\"><img src=\"data:image/png;base64,iVBORw0KGgoAAAANSUhEUgAAAAkAAAAOBAMAAAAPuiubAAAALVBMVEX///9mZmbMzMxERESYmJiI\n",
       "iIh2dna6urqqqqoyMjIiIiIQEBBUVFTu7u4AAAD9S1JeAAAAAXRSTlMAQObYZgAAAE1JREFUCNdj\n",
       "4D29gAEIOA+ASL4GEFl3AURmgQiGOaFHGBh4HzPwKTBwvGXgTmBgnMDAJ8DAJcBQ5wBSLncBJLWN\n",
       "gYGngRFoBO9REQYGAGrcDtUkVqASAAAAAElFTkSuQmCC\n",
       "\" style=\"display:inline;vertical-align:middle;\" /></a></td></tr>\n",
       "<tr><td>6</td><td>Variable</td><td></td><td><a class=\"ProveItLink\" href=\"../../../../__pv_it/cbdfda466482236edba0ce44ac7ef39cda0af7a40/expr.ipynb\"><img src=\"data:image/png;base64,iVBORw0KGgoAAAANSUhEUgAAAAkAAAAJBAMAAAASvxsjAAAALVBMVEX///9mZmbc3NxUVFSYmJhE\n",
       "REQiIiIyMjK6uroQEBDMzMyIiIh2dnbu7u4AAABgFDGoAAAAAXRSTlMAQObYZgAAADZJREFUCNdj\n",
       "YOA9s3sBA8PKBvYEBt7ZDKwODMwPGICALwBE6m0Asx0YGIDiAgw8QJUyu/cyAAAmuwmycZ8WfQAA\n",
       "AABJRU5ErkJggg==\n",
       "\" style=\"display:inline;vertical-align:middle;\" /></a></td></tr>\n",
       "<tr><td>7</td><td>Literal</td><td></td><td><a class=\"ProveItLink\" href=\"../../../numeral/__pv_it/9176d93c83afa2c995b614976e3cb49207102fa70/expr.ipynb\"><img src=\"data:image/png;base64,iVBORw0KGgoAAAANSUhEUgAAAAoAAAAOBAMAAADkjZCYAAAAMFBMVEX///+YmJju7u4QEBBUVFQy\n",
       "MjIiIiKIiIi6urpmZmbc3NyqqqpERER2dnbMzMwAAAB0GlNiAAAAAXRSTlMAQObYZgAAAE1JREFU\n",
       "CNdjYHh79zQDA9cEhv4CBt7fDPwJDNxgEgiAIkAQAsR8Vx1ATIbiBhDJ/ImB6wEDz0cG/U8gkj+A\n",
       "ge0XA7sAQ/8FBoadM6MZAEflFACalZ/OAAAAAElFTkSuQmCC\n",
       "\" style=\"display:inline;vertical-align:middle;\" /></a></td></tr>\n",
       "<tr><td>8</td><td>Literal</td><td></td><td><a class=\"ProveItLink\" href=\"../../../exponentiation/__pv_it/deb2bf23cbccdd6e6791e1b35b5b9794ce12dbd50/expr.ipynb\"><img src=\"data:image/png;base64,iVBORw0KGgoAAAANSUhEUgAAACgAAAASBAMAAADbMYGVAAAAMFBMVEX///8QEBAiIiKYmJjc3Nzu\n",
       "7u7MzMx2dnZmZma6urpERESqqqoyMjJUVFSIiIgAAAAoDOMTAAAAAXRSTlMAQObYZgAAAOBJREFU\n",
       "GNNjYGB4+//u3Tt/GNAASGAXmhjnPyDBgSbI/g1IxKEJ8nxgYGdgQRPkX8BgDKRY6q7s62OYvmze\n",
       "2wAgb/7ZO1+AVDiDkYEQQ0HTBr4DQF59AgOIKmB4z7CNbcNZBu6vQN55kEACQwDDLQYGVobfDHwg\n",
       "fb8YGBxYHwAZciD3fWXg+gB1JjvQcJZvQIXsCgz8F6DO9GBgMOH7wPCUgaeBwd4B7EwGNjUG7s9c\n",
       "AiwPgO5jkWRgiF3/9+5dfQUG1nWl5Y+B7pv+1gE9bBhqGLCAE1jEWH9jEbT5A3IwAC4sP/1L6Qlu\n",
       "AAAAAElFTkSuQmCC\n",
       "\" style=\"display:inline;vertical-align:middle;\" /></a></td></tr>\n",
       "<tr><td>9</td><td>ExprTuple</td><td>10, 11</td><td><a class=\"ProveItLink\" href=\"../15b4a43204f9952d371095f486ed6d4e815af8560/expr.ipynb\"><img src=\"data:image/png;base64,iVBORw0KGgoAAAANSUhEUgAAAC8AAAAVBAMAAAAk6KpUAAAAMFBMVEX////c3NwiIiJERESqqqqY\n",
       "mJh2dnZmZmYQEBDu7u4yMjJUVFTMzMyIiIi6uroAAAAs73DqAAAAAXRSTlMAQObYZgAAARpJREFU\n",
       "KM9jYMAJ+C5gisWBiNNAzKu1vskcJsqzgYH9AJBeCWS+f8CZfxsmwWTAwLAAqBhoUsBWBgaW3zCJ\n",
       "G0CJMAYGjgkMrBMagPxqqDhjFFBiBgPDKwYGdsYNQIG5UAk2LqAEswNDGQPDdL4EJBcFgiTYChiW\n",
       "MjAcYwlAiHNeAEmwLGDoA0rwIUmwMYAk+BoY/jEwTOZBMsoHLMHzASTBNWEDwqQEmEQLAwNrAkiC\n",
       "EyzBsnv3/u4LIKNMgTzTt0Di0QSIFAMHUAfrAoZ0IJN7803Ox5YM8xXgEkDnPgKxj+v/2Af07kew\n",
       "s/Z/D2DgesDAIYBw0UM4awbIZoQEwju5kGDHkOAEBjuDNFycF87iBpnPiCVq7zAwAAA1wEBM4bd1\n",
       "1AAAAABJRU5ErkJggg==\n",
       "\" style=\"display:inline;vertical-align:middle;\" /></a></td></tr>\n",
       "<tr><td>10</td><td>Literal</td><td></td><td><a class=\"ProveItLink\" href=\"../../../sets/complex/__pv_it/c357845f93a5a2d9f649129d299e7ec28dda4b960/expr.ipynb\"><img src=\"data:image/png;base64,iVBORw0KGgoAAAANSUhEUgAAAA8AAAAOBAMAAAACpFvcAAAAMFBMVEX////c3NyqqqqYmJhUVFR2\n",
       "dnbu7u66urrMzMxmZmZEREQQEBAyMjIiIiKIiIgAAAB7fvZ0AAAAAXRSTlMAQObYZgAAAGVJREFU\n",
       "CNdjYGDgu3N+70oGBgaO+gK2+CdAhoEzAwPTFwYG5oQNQN4UBgZORgcgI4+BIZM9gAEMWpkMoAx2\n",
       "KCOLAyrFk+AAYTAHgBhsQLy4DkjUJjAwsHg9Y6taBpLsvP/bnYEBACkBFGQfBv8RAAAAAElFTkSu\n",
       "QmCC\n",
       "\" style=\"display:inline;vertical-align:middle;\" /></a></td></tr>\n",
       "<tr><td>11</td><td>Literal</td><td></td><td><a class=\"ProveItLink\" href=\"../../../numeral/__pv_it/23412ce59ea7e77353d2f9225e02248e73651ca00/expr.ipynb\"><img src=\"data:image/png;base64,iVBORw0KGgoAAAANSUhEUgAAAAoAAAAPBAMAAAAv0UM9AAAALVBMVEX///9mZmaqqqru7u52dnYy\n",
       "MjKYmJjc3NwQEBCIiIhEREQiIiJUVFTMzMwAAACUDTcXAAAAAXRSTlMAQObYZgAAAD5JREFUCNdj\n",
       "YGBguMMAArtABGcXiCyLApEOIJKtAERaMoBIBxDJdAFEmjCASJ0zZ16cBCkF64KQPu/EwBwGACv6\n",
       "DSRgin9qAAAAAElFTkSuQmCC\n",
       "\" style=\"display:inline;vertical-align:middle;\" /></a></td></tr>\n",
       "</table>\n"
      ],
      "text/plain": [
       "0. (b , c , c , 3) in Complexes^{4}\n",
       "   core type: Operation\n",
       "   operator: 1\n",
       "   operands: 2\n",
       "1. in\n",
       "   core type: Literal\n",
       "   sub-expressions: \n",
       "2. ((b , c , c , 3) , Complexes^{4})\n",
       "   core type: ExprTuple\n",
       "   sub-expressions: 3, 4\n",
       "3. (b , c , c , 3)\n",
       "   core type: ExprTuple\n",
       "   sub-expressions: 5, 6, 6, 7\n",
       "4. Complexes^{4}\n",
       "   core type: Operation\n",
       "   operator: 8\n",
       "   operands: 9\n",
       "5. b\n",
       "   core type: Variable\n",
       "   sub-expressions: \n",
       "6. c\n",
       "   core type: Variable\n",
       "   sub-expressions: \n",
       "7. 3\n",
       "   core type: Literal\n",
       "   sub-expressions: \n",
       "8. Exp\n",
       "   core type: Literal\n",
       "   sub-expressions: \n",
       "9. (Complexes , 4)\n",
       "   core type: ExprTuple\n",
       "   sub-expressions: 10, 11\n",
       "10. Complexes\n",
       "    core type: Literal\n",
       "    sub-expressions: \n",
       "11. 4\n",
       "    core type: Literal\n",
       "    sub-expressions: "
      ]
     },
     "execution_count": 4,
     "metadata": {},
     "output_type": "execute_result"
    }
   ],
   "source": [
    "# display the expression information\n",
    "expr.exprInfo()"
   ]
  },
  {
   "cell_type": "code",
   "execution_count": null,
   "metadata": {},
   "outputs": [],
   "source": []
  }
 ],
 "metadata": {
  "kernelspec": {
   "display_name": "Python 3",
   "language": "python",
   "name": "python3"
  }
 },
 "nbformat": 4,
 "nbformat_minor": 0
}
