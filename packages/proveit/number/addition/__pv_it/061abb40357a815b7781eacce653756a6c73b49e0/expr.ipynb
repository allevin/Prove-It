{
 "cells": [
  {
   "cell_type": "markdown",
   "metadata": {},
   "source": [
    "Expression of type <a class=\"ProveItLink\" href=\"../../../../../../doc/html/api/proveit.ExprTuple.html\">ExprTuple</a>\n",
    "=======================\n",
    "# from context <a class=\"ProveItLink\" href=\"../../_context_.ipynb\">proveit.number.addition</a>"
   ]
  },
  {
   "cell_type": "code",
   "execution_count": 1,
   "metadata": {},
   "outputs": [],
   "source": [
    "# import Expression classes needed to build the expression\n",
    "from proveit import ExprTuple\n",
    "from proveit._common_ import A, B, C, b, c\n",
    "from proveit.number import Complexes, Exp, eight, one, three"
   ]
  },
  {
   "cell_type": "code",
   "execution_count": 2,
   "metadata": {},
   "outputs": [
    {
     "data": {
      "text/html": [
       "<strong id=\"expr\">expr:</strong> <a class=\"ProveItLink\" href=\"expr.ipynb\"><img src=\"data:image/png;base64,iVBORw0KGgoAAAANSUhEUgAAAOkAAAAcBAMAAAB2RoV6AAAAMFBMVEX///+qqqp2dnYiIiJERESI\n",
       "iIhmZmYQEBDc3NyYmJgyMjLu7u5UVFTMzMy6uroAAACGxKilAAAAAXRSTlMAQObYZgAAA8JJREFU\n",
       "SMfFVkloE1EY/pI2ySST7dSDIIYKIr2Yk6IorReLWmhAQgUFW5VqUWlxAauHpuACInRc8CBCI2pR\n",
       "FJ2DC4jYgNalBBsU7EVowK0gmKq1dsP6/vfeLM3k2jgwme+9+f//e/86Acp5+ZN7Uf5rK+4b8Hv5\n",
       "WDcjADdHoUz5WJ/lzkq+x3r5WE9P7AOShF7Tz+cFqZ188Y6ncR1QkQKUDivKobh4qb6MG3JX5rLZ\n",
       "Tab2g4ZW7ZQzWeJ6W73etvuO3QdsfGvuHdqAllCtDg8j8zazvYCIcmBMygSsXB9mIn8ldncCXzqL\n",
       "SO/PiKfSjELC2r5HZsxVqJBXV2xX0whoUJmCjxxJincXpAFEoqb4b3bPyhBcY4dzT84nfZKVSu4f\n",
       "iMSt6DKn4I8ZS43l0TWr1MGjAauBEdo8Lk5bZVgsmBXmYVv+nzICJBbuKM6VZHXNY+1uZ9lTDVm/\n",
       "Tmg/biLILO8GmshSWuh7jFAuNbUrmXiFOBTaoyKQpVnpsFaEEzsohkaivQql7AEeVi9nz15gkDZF\n",
       "JL65pqTUneRrI9YZKNeF58o0D3NORLs6mXOw3jFRWF/CQollcvkwHLOdk0WygUKncUN5SiJH44hI\n",
       "myMDyV2aPPCUTXM4H4gXsYZqrBp8ihHye5FR3i7NpjuSQx9kRSEMZUKmaAY+ebgdKahrBayw1ZF6\n",
       "BJWaw9cms8Xy6KFMfDVYw3bWnjxWUhi59Idsdlx6lUZEpq+emIVKhPeVynFwrFRefabb2exQHWSp\n",
       "UneF7BHuj9pY2c8x6RVrPXk4appeoeLjTIvFCeocrEoOlUYOwkw6bWMN6Jn5vlIF+Kg4XexeZbZr\n",
       "u6igENkZEt0b5OZFDHoSDtb+GYuVKVR02CLsj2XMMDHlHJ5Te5Bj3WKg0CtWSgeFDLUr1a4qBwbc\n",
       "upBgGppqsvKtNGWeH1aJyjl32eDaSIP+o5wChRS2kCnmgEoRadTRz0ozGPVmOODtOnwbYtEbRXiv\n",
       "wMFmuHN8k7MSYlOnEFN/8c8Yac7IzuFSwefb1E/GwGb9WqA0xKHUT6dwca4Pj5h36kAbOPA2zmYH\n",
       "b0EsEBp80WLgncltAnj3TLcJVNV6FWoXG0knum7C3zjNXLlriON97Z83Rk5qIBrzqC3Xow5QvCgh\n",
       "YaJwyiYoJuJo8UfqBvOdCvS8bU9zgOJFCQkT+e1K7oTDDp1lUn5TA/qCsD5GKVZ/nZzQitVOHgco\n",
       "XpSQsFDCrvXKYYdPA8rpGUInF+IfjCdXcvsSH7qx8v4nVsRYO1deVq+O/3T9A919HKEsTLc6AAAA\n",
       "AElFTkSuQmCC\n",
       "\" style=\"display:inline;vertical-align:middle;\" /></a><br>"
      ],
      "text/plain": [
       "expr: ((A , b , B , C , c , 1 , 3 , A) , Complexes^{8})"
      ]
     },
     "execution_count": 2,
     "metadata": {},
     "output_type": "execute_result"
    }
   ],
   "source": [
    "# build up the expression from sub-expressions\n",
    "expr = ExprTuple([A, b, B, C, c, one, three, A], Exp(Complexes, eight))"
   ]
  },
  {
   "cell_type": "code",
   "execution_count": 3,
   "metadata": {},
   "outputs": [
    {
     "name": "stdout",
     "output_type": "stream",
     "text": [
      "Passed sanity check: built 'expr' is the same as the stored Expression.\n"
     ]
    }
   ],
   "source": [
    "# check that the built expression is the same as the stored expression\n",
    "%check_expr"
   ]
  },
  {
   "cell_type": "code",
   "execution_count": 4,
   "metadata": {},
   "outputs": [
    {
     "data": {
      "text/html": [
       "<table><tr><th>&nbsp;</th><th>core type</th><th>sub-expressions</th><th>expression</th></tr>\n",
       "<tr><td>0</td><td>ExprTuple</td><td>1, 2</td><td><a class=\"ProveItLink\" href=\"expr.ipynb\"><img src=\"data:image/png;base64,iVBORw0KGgoAAAANSUhEUgAAAOkAAAAcBAMAAAB2RoV6AAAAMFBMVEX///+qqqp2dnYiIiJERESI\n",
       "iIhmZmYQEBDc3NyYmJgyMjLu7u5UVFTMzMy6uroAAACGxKilAAAAAXRSTlMAQObYZgAAA8JJREFU\n",
       "SMfFVkloE1EY/pI2ySST7dSDIIYKIr2Yk6IorReLWmhAQgUFW5VqUWlxAauHpuACInRc8CBCI2pR\n",
       "FJ2DC4jYgNalBBsU7EVowK0gmKq1dsP6/vfeLM3k2jgwme+9+f//e/86Acp5+ZN7Uf5rK+4b8Hv5\n",
       "WDcjADdHoUz5WJ/lzkq+x3r5WE9P7AOShF7Tz+cFqZ188Y6ncR1QkQKUDivKobh4qb6MG3JX5rLZ\n",
       "Tab2g4ZW7ZQzWeJ6W73etvuO3QdsfGvuHdqAllCtDg8j8zazvYCIcmBMygSsXB9mIn8ldncCXzqL\n",
       "SO/PiKfSjELC2r5HZsxVqJBXV2xX0whoUJmCjxxJincXpAFEoqb4b3bPyhBcY4dzT84nfZKVSu4f\n",
       "iMSt6DKn4I8ZS43l0TWr1MGjAauBEdo8Lk5bZVgsmBXmYVv+nzICJBbuKM6VZHXNY+1uZ9lTDVm/\n",
       "Tmg/biLILO8GmshSWuh7jFAuNbUrmXiFOBTaoyKQpVnpsFaEEzsohkaivQql7AEeVi9nz15gkDZF\n",
       "JL65pqTUneRrI9YZKNeF58o0D3NORLs6mXOw3jFRWF/CQollcvkwHLOdk0WygUKncUN5SiJH44hI\n",
       "myMDyV2aPPCUTXM4H4gXsYZqrBp8ihHye5FR3i7NpjuSQx9kRSEMZUKmaAY+ebgdKahrBayw1ZF6\n",
       "BJWaw9cms8Xy6KFMfDVYw3bWnjxWUhi59Idsdlx6lUZEpq+emIVKhPeVynFwrFRefabb2exQHWSp\n",
       "UneF7BHuj9pY2c8x6RVrPXk4appeoeLjTIvFCeocrEoOlUYOwkw6bWMN6Jn5vlIF+Kg4XexeZbZr\n",
       "u6igENkZEt0b5OZFDHoSDtb+GYuVKVR02CLsj2XMMDHlHJ5Te5Bj3WKg0CtWSgeFDLUr1a4qBwbc\n",
       "upBgGppqsvKtNGWeH1aJyjl32eDaSIP+o5wChRS2kCnmgEoRadTRz0ozGPVmOODtOnwbYtEbRXiv\n",
       "wMFmuHN8k7MSYlOnEFN/8c8Yac7IzuFSwefb1E/GwGb9WqA0xKHUT6dwca4Pj5h36kAbOPA2zmYH\n",
       "b0EsEBp80WLgncltAnj3TLcJVNV6FWoXG0knum7C3zjNXLlriON97Z83Rk5qIBrzqC3Xow5QvCgh\n",
       "YaJwyiYoJuJo8UfqBvOdCvS8bU9zgOJFCQkT+e1K7oTDDp1lUn5TA/qCsD5GKVZ/nZzQitVOHgco\n",
       "XpSQsFDCrvXKYYdPA8rpGUInF+IfjCdXcvsSH7qx8v4nVsRYO1deVq+O/3T9A919HKEsTLc6AAAA\n",
       "AElFTkSuQmCC\n",
       "\" style=\"display:inline;vertical-align:middle;\" /></a></td></tr>\n",
       "<tr><td>1</td><td>ExprTuple</td><td>9, 3, 4, 5, 6, 7, 8, 9</td><td><a class=\"ProveItLink\" href=\"../88a4aa3cdc502447a5e81c8dfbaaea9e4fc770580/expr.ipynb\"><img src=\"data:image/png;base64,iVBORw0KGgoAAAANSUhEUgAAALMAAAAVBAMAAAD/f8IzAAAAMFBMVEX////c3NwiIiJERESqqqqY\n",
       "mJh2dnZmZmYQEBDu7u4yMjJUVFTMzMyIiIi6uroAAAAs73DqAAAAAXRSTlMAQObYZgAAAqJJREFU\n",
       "OMu1lU1oE1EQx2dNNskm2U0PgqAHcxH1ZA4K9WRvPbooeNSc6geIAbERPbSI9FDQBE/FCslBqVrQ\n",
       "goKHRZqTCDmk4KGKhkYvflyaalViqnHem3n7kY03s7CbmZ15v/fef+ZtAIZ4WSvDoJ4UjzrZ6Sz9\n",
       "zl9TUX256zx5pDzj1bNLWqEPECmz8WLioPdWoOI1NB6Qn2xzYNFNSeQAplrsnLHBumwHycYRRuOc\n",
       "697mJaoKYPKrYx0ObLopDQw1lsi+vR8fF0aCZGeZ0bFNyGTd9xJ1ApdGUW18g6XvuClrSDqVJ/u+\n",
       "SPvUr+gao6N+NKHmAL6Qb5p/eAHe7KN476PBcbmXHf9C4+UJQqjIGEyS/zn6nYV6/lYp2gXYeZjM\n",
       "3VXxvMNCTDRrIbRXIkLFCnCPslvp3xSo5GCLC91tru7h9Cl/AV+2ktk+dPrcklsBQkWrcJMUBu0n\n",
       "RY6WYYY3hpLd4hEHfAU0bkDEDq36tWolRlnTQBLXHecbRa4A8CSRacSzTD35JFCqPUjrhCo/o9Jt\n",
       "RuOUsxTZCxbjMrhi/QfZJdkHpHAmF0JrNYjwKIVC9HU5SPSCaus4z9/AXae4y2UDx7mkKyF0peOi\n",
       "FQoFOST87Xg/RhXxZwsSedq5aGvRGWU+PXCWMjI4pW24aBHOVGHbBo1iFOhVOC0KI1oLD20FC/8U\n",
       "roLxlds6PVsmR8fVf8SpREaqALFaJctoGTZtWM9LS6FE831ApUZ/jcDx3gLMYU/Mr9pglJBysec4\n",
       "D3GB0oH6YnFMnDFx0Cabb8golhZsCo8X78pEFwXJFiT834X3qoH8L61BGZ7hhQOJeND1vM9XB0P3\n",
       "n+aAY4cMfXDiee+j+p/RUvNdnm8qI/DH43fMkOEL+xNTQhxtKH9g7wD+AhSI0VIT4BI1AAAAAElF\n",
       "TkSuQmCC\n",
       "\" style=\"display:inline;vertical-align:middle;\" /></a></td></tr>\n",
       "<tr><td>2</td><td>Operation</td><td>operator:&nbsp;10<br>operands:&nbsp;11<br></td><td><a class=\"ProveItLink\" href=\"../b2044584d206c92c78e503f276272b652231f9750/expr.ipynb\"><img src=\"data:image/png;base64,iVBORw0KGgoAAAANSUhEUgAAABcAAAAUBAMAAACUkLs9AAAAMFBMVEX////c3NyqqqqYmJhUVFR2\n",
       "dnbu7u66urrMzMxmZmZEREQQEBAyMjIiIiKIiIgAAAB7fvZ0AAAAAXRSTlMAQObYZgAAAJlJREFU\n",
       "GNNjYIAC5ncTGeDgIUMWgrOMgQfB8W0QQXCkf05DcPjW3wBTd87vXckwieN+AgMDR30BW/wTtgMM\n",
       "PAYMDAbODAxMXxgXMPAZMDAnbAAqncJwkIElgYGT0QHIyWPIDA1kYMhkD0AY2cpkgMRhR+JkcSAp\n",
       "40lwQHCYA0AcNihvcR2QqE2AcFi8nrFVLYMp7Lz/2x3CAgB+ciHxr6/q/gAAAABJRU5ErkJggg==\n",
       "\" style=\"display:inline;vertical-align:middle;\" /></a></td></tr>\n",
       "<tr><td>3</td><td>Variable</td><td></td><td><a class=\"ProveItLink\" href=\"../../../../__pv_it/6840a4fa6c106149dc16a131294d0c5e44f1b0480/expr.ipynb\"><img src=\"data:image/png;base64,iVBORw0KGgoAAAANSUhEUgAAAAkAAAAOBAMAAAAPuiubAAAALVBMVEX///9mZmbMzMxERESYmJiI\n",
       "iIh2dna6urqqqqoyMjIiIiIQEBBUVFTu7u4AAAD9S1JeAAAAAXRSTlMAQObYZgAAAE1JREFUCNdj\n",
       "4D29gAEIOA+ASL4GEFl3AURmgQiGOaFHGBh4HzPwKTBwvGXgTmBgnMDAJ8DAJcBQ5wBSLncBJLWN\n",
       "gYGngRFoBO9REQYGAGrcDtUkVqASAAAAAElFTkSuQmCC\n",
       "\" style=\"display:inline;vertical-align:middle;\" /></a></td></tr>\n",
       "<tr><td>4</td><td>Variable</td><td></td><td><a class=\"ProveItLink\" href=\"../../../../__pv_it/077b2ff79244fb4582cbe22c6e3356fa92a52f2f0/expr.ipynb\"><img src=\"data:image/png;base64,iVBORw0KGgoAAAANSUhEUgAAABAAAAAOBAMAAADUAYG5AAAAMFBMVEX///+qqqru7u4iIiJ2dnbc\n",
       "3NyIiIjMzMxmZmYQEBC6uroyMjJERERUVFSYmJgAAADLUcuvAAAAAXRSTlMAQObYZgAAAGpJREFU\n",
       "CNdjYGB4+//u3dMLGIBgDgMDxy8gzf4NiP8CGWxfGRj4vgAZPBMYGJgnARn8FxhY9ygAGfXX0pof\n",
       "gDTlBzAw2YIYJ0EckBBI53sHoBH/gIz7AhBjWH9DjancBLTl/N+7t/cxMAAA3u4f/5xagjYAAAAA\n",
       "SUVORK5CYII=\n",
       "\" style=\"display:inline;vertical-align:middle;\" /></a></td></tr>\n",
       "<tr><td>5</td><td>Variable</td><td></td><td><a class=\"ProveItLink\" href=\"../../../../__pv_it/985a1bdf1540838275dec15f4ad6de261cca93ce0/expr.ipynb\"><img src=\"data:image/png;base64,iVBORw0KGgoAAAANSUhEUgAAAA8AAAAOBAMAAAACpFvcAAAAMFBMVEX////MzMyqqqoiIiIyMjK6\n",
       "uroQEBB2dnbc3NyYmJhmZmZUVFRERESIiIju7u4AAAB204erAAAAAXRSTlMAQObYZgAAAGZJREFU\n",
       "CNdjYGDgu7NrJccCBgaGsgkMrMsmMDA8sQNy6hsYGNweABlhDAxcn4A0QxcDQ78DiPGQgWH9BAYI\n",
       "sG+AMv6DSaCGfBDNJMDAsB+kmwuI5S8AiTog5gSaEwXWIO29SgFIAQBC+RaDQlidVgAAAABJRU5E\n",
       "rkJggg==\n",
       "\" style=\"display:inline;vertical-align:middle;\" /></a></td></tr>\n",
       "<tr><td>6</td><td>Variable</td><td></td><td><a class=\"ProveItLink\" href=\"../../../../__pv_it/cbdfda466482236edba0ce44ac7ef39cda0af7a40/expr.ipynb\"><img src=\"data:image/png;base64,iVBORw0KGgoAAAANSUhEUgAAAAkAAAAJBAMAAAASvxsjAAAALVBMVEX///9mZmbc3NxUVFSYmJhE\n",
       "REQiIiIyMjK6uroQEBDMzMyIiIh2dnbu7u4AAABgFDGoAAAAAXRSTlMAQObYZgAAADZJREFUCNdj\n",
       "YOA9s3sBA8PKBvYEBt7ZDKwODMwPGICALwBE6m0Asx0YGIDiAgw8QJUyu/cyAAAmuwmycZ8WfQAA\n",
       "AABJRU5ErkJggg==\n",
       "\" style=\"display:inline;vertical-align:middle;\" /></a></td></tr>\n",
       "<tr><td>7</td><td>Literal</td><td></td><td><a class=\"ProveItLink\" href=\"../../../numeral/__pv_it/9be8badea4c35b9724062cecc501d17a3158d1d20/expr.ipynb\"><img src=\"data:image/png;base64,iVBORw0KGgoAAAANSUhEUgAAAAgAAAAPBAMAAAArJJMAAAAAHlBMVEX///+YmJgyMjIQEBBmZmaI\n",
       "iIhUVFTu7u5EREQAAAAw+MI4AAAAAXRSTlMAQObYZgAAACFJREFUCNdjYGBoZ2BgqJjOwFCWBiQY\n",
       "WEklWJwnOTKAAACjEQo8HvEr3AAAAABJRU5ErkJggg==\n",
       "\" style=\"display:inline;vertical-align:middle;\" /></a></td></tr>\n",
       "<tr><td>8</td><td>Literal</td><td></td><td><a class=\"ProveItLink\" href=\"../../../numeral/__pv_it/9176d93c83afa2c995b614976e3cb49207102fa70/expr.ipynb\"><img src=\"data:image/png;base64,iVBORw0KGgoAAAANSUhEUgAAAAoAAAAOBAMAAADkjZCYAAAAMFBMVEX///+YmJju7u4QEBBUVFQy\n",
       "MjIiIiKIiIi6urpmZmbc3NyqqqpERER2dnbMzMwAAAB0GlNiAAAAAXRSTlMAQObYZgAAAE1JREFU\n",
       "CNdjYHh79zQDA9cEhv4CBt7fDPwJDNxgEgiAIkAQAsR8Vx1ATIbiBhDJ/ImB6wEDz0cG/U8gkj+A\n",
       "ge0XA7sAQ/8FBoadM6MZAEflFACalZ/OAAAAAElFTkSuQmCC\n",
       "\" style=\"display:inline;vertical-align:middle;\" /></a></td></tr>\n",
       "<tr><td>9</td><td>Variable</td><td></td><td><a class=\"ProveItLink\" href=\"../../../../__pv_it/2cbe72a7ad6f655694dd697106680215e8489b600/expr.ipynb\"><img src=\"data:image/png;base64,iVBORw0KGgoAAAANSUhEUgAAAA8AAAAOBAMAAAACpFvcAAAALVBMVEX///8QEBBERERUVFS6urqI\n",
       "iIhmZmaqqqrc3Nzu7u6YmJgyMjIiIiLMzMwAAADtIaYWAAAAAXRSTlMAQObYZgAAAFtJREFUCNdj\n",
       "YACBOwxQsA9Kc52bAGG05zVAGAFxDmCaZULdAjBjCsO9ADDDgaEvAUTzGhvbKYCVMDAwbgAxChgY\n",
       "eASANAeQwf0AyJgNxEwvGRia5HYwcOm9TgAA6BoR3jrzwFcAAAAASUVORK5CYII=\n",
       "\" style=\"display:inline;vertical-align:middle;\" /></a></td></tr>\n",
       "<tr><td>10</td><td>Literal</td><td></td><td><a class=\"ProveItLink\" href=\"../../../exponentiation/__pv_it/deb2bf23cbccdd6e6791e1b35b5b9794ce12dbd50/expr.ipynb\"><img src=\"data:image/png;base64,iVBORw0KGgoAAAANSUhEUgAAACgAAAASBAMAAADbMYGVAAAAMFBMVEX///8QEBAiIiKYmJjc3Nzu\n",
       "7u7MzMx2dnZmZma6urpERESqqqoyMjJUVFSIiIgAAAAoDOMTAAAAAXRSTlMAQObYZgAAAOBJREFU\n",
       "GNNjYGB4+//u3Tt/GNAASGAXmhjnPyDBgSbI/g1IxKEJ8nxgYGdgQRPkX8BgDKRY6q7s62OYvmze\n",
       "2wAgb/7ZO1+AVDiDkYEQQ0HTBr4DQF59AgOIKmB4z7CNbcNZBu6vQN55kEACQwDDLQYGVobfDHwg\n",
       "fb8YGBxYHwAZciD3fWXg+gB1JjvQcJZvQIXsCgz8F6DO9GBgMOH7wPCUgaeBwd4B7EwGNjUG7s9c\n",
       "AiwPgO5jkWRgiF3/9+5dfQUG1nWl5Y+B7pv+1gE9bBhqGLCAE1jEWH9jEbT5A3IwAC4sP/1L6Qlu\n",
       "AAAAAElFTkSuQmCC\n",
       "\" style=\"display:inline;vertical-align:middle;\" /></a></td></tr>\n",
       "<tr><td>11</td><td>ExprTuple</td><td>12, 13</td><td><a class=\"ProveItLink\" href=\"../590eed5fe43ac3b3b5e0856f5d422feedc22c8ac0/expr.ipynb\"><img src=\"data:image/png;base64,iVBORw0KGgoAAAANSUhEUgAAAC8AAAAVBAMAAAAk6KpUAAAAMFBMVEX////c3NwiIiJERESqqqqY\n",
       "mJh2dnZmZmYQEBDu7u4yMjJUVFTMzMyIiIi6uroAAAAs73DqAAAAAXRSTlMAQObYZgAAATFJREFU\n",
       "KM9jYMAJ+C5gisWBiNNAzKu1vskcIsaZlu7AwH4AyFrJwMDz/gFn/m2IBDsDQykDwwKgYqBJAVsZ\n",
       "GFh+QyRCGRgmMTCEMTBwTGBgndAAFKmGSGSDJWYwMLwC6mbcABSZC5Hw38mQy8DA7MBQxsAwnS8B\n",
       "4SDm/7FAHlsBw1IGhmMsAUhOrf8kALRxAUMfUIIPSYK1Zv0XoOcaGP4xMEzmQTIqnIH1/wQGng8g\n",
       "Ca4JGxASnQwM8gEgiRag7gSQBCfE40CXs18AGWUK5Jm+BRKPJoClGhkYuAUYWBcwpAM53Jtvcj62\n",
       "ZJivAGR7TWBwAzv3EUjZcf0f+4De/QgK7O3lDkBrHzBwCCAsfghnzQDZjJBAeCcXEuwYEpzAYGeQ\n",
       "hovzwlncIPMZsUTtHQYGABVCRj4GJBsNAAAAAElFTkSuQmCC\n",
       "\" style=\"display:inline;vertical-align:middle;\" /></a></td></tr>\n",
       "<tr><td>12</td><td>Literal</td><td></td><td><a class=\"ProveItLink\" href=\"../../../sets/complex/__pv_it/c357845f93a5a2d9f649129d299e7ec28dda4b960/expr.ipynb\"><img src=\"data:image/png;base64,iVBORw0KGgoAAAANSUhEUgAAAA8AAAAOBAMAAAACpFvcAAAAMFBMVEX////c3NyqqqqYmJhUVFR2\n",
       "dnbu7u66urrMzMxmZmZEREQQEBAyMjIiIiKIiIgAAAB7fvZ0AAAAAXRSTlMAQObYZgAAAGVJREFU\n",
       "CNdjYGDgu3N+70oGBgaO+gK2+CdAhoEzAwPTFwYG5oQNQN4UBgZORgcgI4+BIZM9gAEMWpkMoAx2\n",
       "KCOLAyrFk+AAYTAHgBhsQLy4DkjUJjAwsHg9Y6taBpLsvP/bnYEBACkBFGQfBv8RAAAAAElFTkSu\n",
       "QmCC\n",
       "\" style=\"display:inline;vertical-align:middle;\" /></a></td></tr>\n",
       "<tr><td>13</td><td>Literal</td><td></td><td><a class=\"ProveItLink\" href=\"../../../numeral/__pv_it/7ca36d8558dd5f18c1e16b5e877a0b7e314926450/expr.ipynb\"><img src=\"data:image/png;base64,iVBORw0KGgoAAAANSUhEUgAAAAoAAAAOBAMAAADkjZCYAAAAMFBMVEX///+6uroQEBAyMjLMzMzc\n",
       "3NxERESIiIhUVFQiIiKYmJiqqqpmZmZ2dnbu7u4AAAACo3QQAAAAAXRSTlMAQObYZgAAAFlJREFU\n",
       "CNdjYHh79zQDA8MBBp4FDFwLGPgmMPA2gEjuHw94CxgY8n/VAmV5/k8Fkmuc/29g4DrAsP4fA9MD\n",
       "BtZfDI+AgscZmAIYGFoZuO0YuC8wMEicOc0AAC98GKTiu3IvAAAAAElFTkSuQmCC\n",
       "\" style=\"display:inline;vertical-align:middle;\" /></a></td></tr>\n",
       "</table>\n"
      ],
      "text/plain": [
       "0. ((A , b , B , C , c , 1 , 3 , A) , Complexes^{8})\n",
       "   core type: ExprTuple\n",
       "   sub-expressions: 1, 2\n",
       "1. (A , b , B , C , c , 1 , 3 , A)\n",
       "   core type: ExprTuple\n",
       "   sub-expressions: 9, 3, 4, 5, 6, 7, 8, 9\n",
       "2. Complexes^{8}\n",
       "   core type: Operation\n",
       "   operator: 10\n",
       "   operands: 11\n",
       "3. b\n",
       "   core type: Variable\n",
       "   sub-expressions: \n",
       "4. B\n",
       "   core type: Variable\n",
       "   sub-expressions: \n",
       "5. C\n",
       "   core type: Variable\n",
       "   sub-expressions: \n",
       "6. c\n",
       "   core type: Variable\n",
       "   sub-expressions: \n",
       "7. 1\n",
       "   core type: Literal\n",
       "   sub-expressions: \n",
       "8. 3\n",
       "   core type: Literal\n",
       "   sub-expressions: \n",
       "9. A\n",
       "   core type: Variable\n",
       "   sub-expressions: \n",
       "10. Exp\n",
       "    core type: Literal\n",
       "    sub-expressions: \n",
       "11. (Complexes , 8)\n",
       "    core type: ExprTuple\n",
       "    sub-expressions: 12, 13\n",
       "12. Complexes\n",
       "    core type: Literal\n",
       "    sub-expressions: \n",
       "13. 8\n",
       "    core type: Literal\n",
       "    sub-expressions: "
      ]
     },
     "execution_count": 4,
     "metadata": {},
     "output_type": "execute_result"
    }
   ],
   "source": [
    "# display the expression information\n",
    "expr.exprInfo()"
   ]
  },
  {
   "cell_type": "code",
   "execution_count": null,
   "metadata": {},
   "outputs": [],
   "source": []
  }
 ],
 "metadata": {
  "kernelspec": {
   "display_name": "Python 3",
   "language": "python",
   "name": "python3"
  }
 },
 "nbformat": 4,
 "nbformat_minor": 0
}
