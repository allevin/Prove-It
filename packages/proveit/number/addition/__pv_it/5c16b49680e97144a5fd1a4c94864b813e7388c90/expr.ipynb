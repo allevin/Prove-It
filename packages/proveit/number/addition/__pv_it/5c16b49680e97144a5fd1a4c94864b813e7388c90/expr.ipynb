{
 "cells": [
  {
   "cell_type": "markdown",
   "metadata": {},
   "source": [
    "Expression of type <a class=\"ProveItLink\" href=\"../../../../../../doc/html/api/proveit.ExprTuple.html\">ExprTuple</a>\n",
    "=======================\n",
    "# from context <a class=\"ProveItLink\" href=\"../../_context_.ipynb\">proveit.number.addition</a>"
   ]
  },
  {
   "cell_type": "code",
   "execution_count": 1,
   "metadata": {},
   "outputs": [],
   "source": [
    "# import Expression classes needed to build the expression\n",
    "from proveit import ExprTuple\n",
    "from proveit._common_ import AA, m\n",
    "from proveit.logic import InSet\n",
    "from proveit.number import Exp, RealsNeg"
   ]
  },
  {
   "cell_type": "code",
   "execution_count": 2,
   "metadata": {},
   "outputs": [
    {
     "data": {
      "text/html": [
       "<strong id=\"expr\">expr:</strong> <a class=\"ProveItLink\" href=\"expr.ipynb\"><img src=\"data:image/png;base64,iVBORw0KGgoAAAANSUhEUgAAAHYAAAAaBAMAAACQv7UDAAAAMFBMVEX///+qqqp2dnYiIiJERESI\n",
       "iIhmZmYQEBDc3NyYmJgyMjLu7u5UVFTMzMy6uroAAACGxKilAAAAAXRSTlMAQObYZgAAAjVJREFU\n",
       "OMulVE1IG0EU/vJjsmt2Yw6eesqlngOBUqTitpSiUGmwFCn0R3rtoSk9CAV1D2KhCGlL6UGKpD8I\n",
       "moIBEUs9JIde9NI99CgYUDwU1JRKqYRknJ/N7rDrHkwHZvab7+03b957MwPgEJ20NBv0akfabTZ8\n",
       "K59L8+7BaPXOCNCVo5NNm9xJeX9L5jzEApBYOMEVvKeTy4CStw2Daf+25o9vLT93V4hZUNaKaKKP\n",
       "Tu7R+bjgw8QXdwkw5vDzgone67TR2IqAltPz+ECtlTLiNXvLJOORsoiMWUS/Gg71BohbXYZSp6LI\n",
       "K+zY9EdSF2DtU7afg3iZa8OWq10HCtSzatD4YgbGbCeZ6QYH+lI777/g00ZT2EPE0q+ZgFrHlmAL\n",
       "1kqLgxmnZI+EVpP2HB6XqtDATYFu4MkJB0OOcUlod+dNhwoVXa3exCIHah4P/zKQcJ1MMe2LbL9U\n",
       "92TexUoLlziopHB0zK3Pslk7Vy3udz8qnTu97uLEb1v7Y2KC/PGcbqGNHVTP1lK/X3gckxsbBcJX\n",
       "c6v8VMRbuhuw5ya+87rRmCKE52TTMQ4L7bZmOZQq5Sr5D7fZEmyBKOFJWa21jX12fVNDZ9aI1veI\n",
       "fghpQCOEMAfKYtvNLthdGMHnFSfT3TVXGy6ix/Ic49BW+0yavsu7LuHuHLR00C1X/ZaLEq6Y0DOB\n",
       "T0TJSySkVOEt7VcDtXNeQpOjGKD9ZaBW8b459+WIWMpD6Y7eyRk+vu5I+xj/1U4BBOGY37HoHkwA\n",
       "AAAASUVORK5CYII=\n",
       "\" style=\"display:inline;vertical-align:middle;\" /></a><br>"
      ],
      "text/plain": [
       "expr: (A in (RealsNeg)^{m})"
      ]
     },
     "execution_count": 2,
     "metadata": {},
     "output_type": "execute_result"
    }
   ],
   "source": [
    "# build up the expression from sub-expressions\n",
    "expr = ExprTuple(InSet(AA, Exp(RealsNeg, m)))"
   ]
  },
  {
   "cell_type": "code",
   "execution_count": 3,
   "metadata": {},
   "outputs": [
    {
     "name": "stdout",
     "output_type": "stream",
     "text": [
      "Passed sanity check: built 'expr' is the same as the stored Expression.\n"
     ]
    }
   ],
   "source": [
    "# check that the built expression is the same as the stored expression\n",
    "%check_expr"
   ]
  },
  {
   "cell_type": "code",
   "execution_count": 4,
   "metadata": {},
   "outputs": [
    {
     "data": {
      "text/html": [
       "<table><tr><th>&nbsp;</th><th>core type</th><th>sub-expressions</th><th>expression</th></tr>\n",
       "<tr><td>0</td><td>ExprTuple</td><td>1</td><td><a class=\"ProveItLink\" href=\"expr.ipynb\"><img src=\"data:image/png;base64,iVBORw0KGgoAAAANSUhEUgAAAHYAAAAaBAMAAACQv7UDAAAAMFBMVEX///+qqqp2dnYiIiJERESI\n",
       "iIhmZmYQEBDc3NyYmJgyMjLu7u5UVFTMzMy6uroAAACGxKilAAAAAXRSTlMAQObYZgAAAjVJREFU\n",
       "OMulVE1IG0EU/vJjsmt2Yw6eesqlngOBUqTitpSiUGmwFCn0R3rtoSk9CAV1D2KhCGlL6UGKpD8I\n",
       "moIBEUs9JIde9NI99CgYUDwU1JRKqYRknJ/N7rDrHkwHZvab7+03b957MwPgEJ20NBv0akfabTZ8\n",
       "K59L8+7BaPXOCNCVo5NNm9xJeX9L5jzEApBYOMEVvKeTy4CStw2Daf+25o9vLT93V4hZUNaKaKKP\n",
       "Tu7R+bjgw8QXdwkw5vDzgone67TR2IqAltPz+ECtlTLiNXvLJOORsoiMWUS/Gg71BohbXYZSp6LI\n",
       "K+zY9EdSF2DtU7afg3iZa8OWq10HCtSzatD4YgbGbCeZ6QYH+lI777/g00ZT2EPE0q+ZgFrHlmAL\n",
       "1kqLgxmnZI+EVpP2HB6XqtDATYFu4MkJB0OOcUlod+dNhwoVXa3exCIHah4P/zKQcJ1MMe2LbL9U\n",
       "92TexUoLlziopHB0zK3Pslk7Vy3udz8qnTu97uLEb1v7Y2KC/PGcbqGNHVTP1lK/X3gckxsbBcJX\n",
       "c6v8VMRbuhuw5ya+87rRmCKE52TTMQ4L7bZmOZQq5Sr5D7fZEmyBKOFJWa21jX12fVNDZ9aI1veI\n",
       "fghpQCOEMAfKYtvNLthdGMHnFSfT3TVXGy6ix/Ic49BW+0yavsu7LuHuHLR00C1X/ZaLEq6Y0DOB\n",
       "T0TJSySkVOEt7VcDtXNeQpOjGKD9ZaBW8b459+WIWMpD6Y7eyRk+vu5I+xj/1U4BBOGY37HoHkwA\n",
       "AAAASUVORK5CYII=\n",
       "\" style=\"display:inline;vertical-align:middle;\" /></a></td></tr>\n",
       "<tr><td>1</td><td>Operation</td><td>operator:&nbsp;2<br>operands:&nbsp;3<br></td><td><a class=\"ProveItLink\" href=\"../272b880519ca608ef4953f6a7488516978cf81c00/expr.ipynb\"><img src=\"data:image/png;base64,iVBORw0KGgoAAAANSUhEUgAAAGYAAAAVBAMAAABGR4Y+AAAAMFBMVEX///+YmJhmZmZERES6urrc\n",
       "3Nzu7u4QEBCIiIgyMjJUVFR2dnYiIiKqqqrMzMwAAAD8et6HAAAAAXRSTlMAQObYZgAAAaZJREFU\n",
       "OMtjYCABMGp47OJofgDh8P3FkPdAV+/AwJDoL8CzgHEBRIDnN7oWvgWM841/Tp+BENFjYAjrZOB/\n",
       "wK0A4e//ha6HM4GBmXUBn+1UBl5jIDADigBFVzA8Z+C8ADH0/x90PR0MQD0KDGbBCMdtYGCoY2hm\n",
       "iGeBGLr/P0ScrfPMmQlgVhlEzz5muB62AgbWD0CbhLnB3B72/wlgxksxqAKWCRh6GGwZWAwYzjE8\n",
       "3grisP7j/O8AZpjB5Jk2QPQsQ7iNYROy25kVmP4LgBkB8CAQAOthOTgVoewmsh5xBo7/4ABMhgux\n",
       "O4D01JyZi6TMHYnN9peB5b8BWPTMGWgY8IP1qCiYIal7j8Tm+l5e//8AiPUKLgbRo6DyCoee68/S\n",
       "Uv9/ALFyEG67ANbDmSGA1W1stUDi/FewjXAVzJAw4FuwDqFQEsGMAnnFHpxI2Y7ABEGJChTWexFB\n",
       "iRTW/P+B8bn+//9/IE6kHixODzAA0+jnB5yWiBQ/BUcOuTUHmnZKMaSAaYcAkMYQ4W4gpIczAV0k\n",
       "k2A2Zl2ALrKUcN6PQONzPIAzAS5eaBElxnVkAAAAAElFTkSuQmCC\n",
       "\" style=\"display:inline;vertical-align:middle;\" /></a></td></tr>\n",
       "<tr><td>2</td><td>Literal</td><td></td><td><a class=\"ProveItLink\" href=\"../../../../logic/set_theory/membership/__pv_it/088cbc857536a28d4119ad9639a84270ccb0545d0/expr.ipynb\"><img src=\"data:image/png;base64,iVBORw0KGgoAAAANSUhEUgAAAAwAAAAMBAMAAACkW0HUAAAALVBMVEX///+qqqpmZmZUVFQQEBC6\n",
       "urpERETc3NyYmJjMzMwiIiIyMjKIiIju7u4AAACYsrA9AAAAAXRSTlMAQObYZgAAADxJREFUCNdj\n",
       "YOA9vWrVBgaG2b0MQMCeCyIZ2ArA1DUwyRCyahVIyWQI7xaEYm4AU7xLIdxqTQgtvGvVBgCkcQ7e\n",
       "geM/tQAAAABJRU5ErkJggg==\n",
       "\" style=\"display:inline;vertical-align:middle;\" /></a></td></tr>\n",
       "<tr><td>3</td><td>ExprTuple</td><td>4, 5</td><td><a class=\"ProveItLink\" href=\"../7dcca15885baada0be7bf1a489488c6220757b050/expr.ipynb\"><img src=\"data:image/png;base64,iVBORw0KGgoAAAANSUhEUgAAAGYAAAAaBAMAAAC3ETTrAAAAMFBMVEX///+qqqp2dnYiIiJERESI\n",
       "iIhmZmYQEBDc3NyYmJgyMjLu7u5UVFTMzMy6uroAAACGxKilAAAAAXRSTlMAQObYZgAAAhVJREFU\n",
       "OMudlE9oE0EUxr/830124x48edqLOQcEEbG4iogFi0EppVBt8erBeCoI1j2IghRSRTyUUqKI0FZo\n",
       "LiViDsmhl/biHnostBARETQRg7SEZHyzO+5OkgrGgZ1978377fv27cwC+I5hhsknvTYUs8unD6V/\n",
       "yn1563ptfAyI5cjZEsE9489yOteXvwyklg9xDkvknAGUvFg4bwblF1vXVu8HZNyBslFEBxlypsif\n",
       "8eJh5r/XGmDNY+eEjeOXaJD2IqDl9Dxe0Wq1hMS+kMayAuGKrceIvrf8Qs+BhBOzlCYlRxawJ8Kv\n",
       "WVNYiZLLhJ2AKQMFqqRapD9uYUI8PPuwLRK+YoCJGviEiKNftAG1iW0vWnDWuyLhtsdokrbwTNDE\n",
       "dBtXPesy7h6K4IrH1BdtPy9UDBi9g7euoeYx/UsE5zjz5NRZQ3p2PrCVLk67RtVAoyWCXbfO56i0\n",
       "P/RmYKd+CObj7Cz72cPEv9WOZqjOO1fvg0qlwETwnvc+a5N/0dbBptt/0h5hNlLcGfWYXc3x81Sp\n",
       "B+kD3OAoB6PMQJXvhYz4PsaVI3tN36dBN8ba0BhjTvmAvDr4Hh3Dm3W/c8n9gAkXccyRd/0Xvnfs\n",
       "gcNTluxkDpopLy7w4uYAc1Kyqzb0bD/Dz0LvSEktwAu6Lkh+zJ3n+xlNVjtC19MBJUr/2b4p2Spv\n",
       "Ycgc6r/zyJ2fDcXcwX+N3zRzkTU5w3AfAAAAAElFTkSuQmCC\n",
       "\" style=\"display:inline;vertical-align:middle;\" /></a></td></tr>\n",
       "<tr><td>4</td><td>Variable</td><td></td><td><a class=\"ProveItLink\" href=\"../../../../__pv_it/eb438fefc4bd0ac977777d6dfd3e8a72dfbedbd50/expr.ipynb\"><img src=\"data:image/png;base64,iVBORw0KGgoAAAANSUhEUgAAABIAAAAPBAMAAAAbqIIhAAAAMFBMVEX///+YmJhmZmZERES6urrc\n",
       "3Nzu7u4QEBCIiIgyMjJUVFR2dnYiIiKqqqrMzMwAAAD8et6HAAAAAXRSTlMAQObYZgAAAGpJREFU\n",
       "CNdjYAABvr8MUMDzG8ba/wvK4Pv/B8ri3P8fyuph/58AZrD+4/zvAGYxKzD9FwCzxBk4/iuAGGx/\n",
       "GVj+G4BYXN/L6/8fALGuP0tL/f8BJFkLJM5/BRJRICX2QCfw/weauv7//38AzEYi08a6/oIAAAAA\n",
       "SUVORK5CYII=\n",
       "\" style=\"display:inline;vertical-align:middle;\" /></a></td></tr>\n",
       "<tr><td>5</td><td>Operation</td><td>operator:&nbsp;6<br>operands:&nbsp;7<br></td><td><a class=\"ProveItLink\" href=\"../bcad5ae20d19eb5f373b738bac5843f0360e13060/expr.ipynb\"><img src=\"data:image/png;base64,iVBORw0KGgoAAAANSUhEUgAAADkAAAAVBAMAAAAOWFv7AAAAMFBMVEX////c3NwiIiJERESqqqqY\n",
       "mJh2dnZmZmYQEBDu7u4yMjJUVFTMzMyIiIi6uroAAAAs73DqAAAAAXRSTlMAQObYZgAAAQ5JREFU\n",
       "KM9jYMAKwu9d23DXBsjgu4AmE8fAwBn3lUGbIRrIOc0Q9dl+VRdCDfsBBsa5Cxj+MKQDOSsZGAyk\n",
       "GQ57CTA4GwPBBAaGBQwM3Bd4GhiWMDDwAjUZiDMwTzSAaw5jYOA4wGvA+OEBA8cEsCzbAYTsDAYG\n",
       "eaBuVoMEhlcMGLLMDgyPGZgO8JgJMJRBZLmRTGYrgDOXQmQfRQnAhVgWwJl9IFkJJS0HhIf5GuDM\n",
       "f2C9z5knIGR5PqDJsr/ZgFW2BWLvyqtYTTaFyJ7mPgAXYkW4Kh3qXwdDbD56xACKBRuGxevhruZ6\n",
       "AJflEMCI3BkIJmsChmwuEnsluiTnAiSONLosN7JdjOgp5w6CCQDv5UHyQKVh+QAAAABJRU5ErkJg\n",
       "gg==\n",
       "\" style=\"display:inline;vertical-align:middle;\" /></a></td></tr>\n",
       "<tr><td>6</td><td>Literal</td><td></td><td><a class=\"ProveItLink\" href=\"../../../exponentiation/__pv_it/deb2bf23cbccdd6e6791e1b35b5b9794ce12dbd50/expr.ipynb\"><img src=\"data:image/png;base64,iVBORw0KGgoAAAANSUhEUgAAACgAAAASBAMAAADbMYGVAAAAMFBMVEX///8QEBAiIiKYmJjc3Nzu\n",
       "7u7MzMx2dnZmZma6urpERESqqqoyMjJUVFSIiIgAAAAoDOMTAAAAAXRSTlMAQObYZgAAAOBJREFU\n",
       "GNNjYGB4+//u3Tt/GNAASGAXmhjnPyDBgSbI/g1IxKEJ8nxgYGdgQRPkX8BgDKRY6q7s62OYvmze\n",
       "2wAgb/7ZO1+AVDiDkYEQQ0HTBr4DQF59AgOIKmB4z7CNbcNZBu6vQN55kEACQwDDLQYGVobfDHwg\n",
       "fb8YGBxYHwAZciD3fWXg+gB1JjvQcJZvQIXsCgz8F6DO9GBgMOH7wPCUgaeBwd4B7EwGNjUG7s9c\n",
       "AiwPgO5jkWRgiF3/9+5dfQUG1nWl5Y+B7pv+1gE9bBhqGLCAE1jEWH9jEbT5A3IwAC4sP/1L6Qlu\n",
       "AAAAAElFTkSuQmCC\n",
       "\" style=\"display:inline;vertical-align:middle;\" /></a></td></tr>\n",
       "<tr><td>7</td><td>ExprTuple</td><td>8, 9</td><td><a class=\"ProveItLink\" href=\"../ca1af7ca9da5cc487131f2e34a66b7ce892700d30/expr.ipynb\"><img src=\"data:image/png;base64,iVBORw0KGgoAAAANSUhEUgAAAEYAAAAaBAMAAAD4TDc7AAAAMFBMVEX///+qqqp2dnYiIiJERESI\n",
       "iIhmZmYQEBDc3NyYmJgyMjLu7u5UVFTMzMy6uroAAACGxKilAAAAAXRSTlMAQObYZgAAAWBJREFU\n",
       "KM9jYGB4x4APKIAI3gN41dwBEbs24FXDGgAkTjLgBxYMDBwFDLO++K+qCsClJoaBgS2BgcGhh+GK\n",
       "VAODiAsQYNi8fwMD+wOgmjYGlh0OOMxhnsBwnwGshukCLjVsDgzhhNRwfmA4BVHDg2bXU4/WGIWn\n",
       "IQIMDHy/GXwgah7PakAN3lMB3J8eMH4AhvFfhmUgNe3GVgIoSvgemDBwf2UAqeH4x2AGNucZC6qf\n",
       "ubn/MTD+ZmBbAGR+hKphe4sWayAFBgzsCmBz1kDcszoSzccLGJgTGN43bGDg+MtwBKLmDs8FuD0g\n",
       "AmjC/gcMpzgmMPD9YAiGho+ABzzwDYBE/wOG+QwMS5nA4fOeARSnvgxL1sN8tv0HkHjOwKDCwCAT\n",
       "y8DAtICB/wJGyL5A4XEFMPAoYKiZgBrvDQy8BgTUTAFiR4zUicq1BeIu/EmVMwEUogp41bSAyYl4\n",
       "1WQzEAUA5BtegsnsZtEAAAAASUVORK5CYII=\n",
       "\" style=\"display:inline;vertical-align:middle;\" /></a></td></tr>\n",
       "<tr><td>8</td><td>Literal</td><td></td><td><a class=\"ProveItLink\" href=\"../../../sets/real/__pv_it/ae6abf015b290ff2a5b5ccb58f19177a82c6074b0/expr.ipynb\"><img src=\"data:image/png;base64,iVBORw0KGgoAAAANSUhEUgAAABsAAAAOBAMAAAAs4XpOAAAAMFBMVEX///8iIiK6urp2dnbu7u5m\n",
       "ZmaqqqrMzMxUVFTc3NyIiIgQEBBEREQyMjKYmJgAAAA9nvXMAAAAAXRSTlMAQObYZgAAAF1JREFU\n",
       "CNdjePvn/N29Cxjg4MAMhprcCQw5Z4DAAcidysDjeQAhO5WBuQAflwNVseLbCQjubEHZBCSLpqry\n",
       "OCBzWdUbkLkMV9ahcCs4ClDsTTgJ4wG9cJzhzn2o2QB/7ytaZzHgkAAAAABJRU5ErkJggg==\n",
       "\" style=\"display:inline;vertical-align:middle;\" /></a></td></tr>\n",
       "<tr><td>9</td><td>Variable</td><td></td><td><a class=\"ProveItLink\" href=\"../../../../__pv_it/78af03acba5349fd70398a32ce59bae1da52f0870/expr.ipynb\"><img src=\"data:image/png;base64,iVBORw0KGgoAAAANSUhEUgAAABIAAAAJBAMAAADN8WE8AAAAMFBMVEX////MzMyYmJgQEBBmZmYi\n",
       "IiLu7u4yMjKqqqp2dnZUVFTc3NxERESIiIi6uroAAABe5jFNAAAAAXRSTlMAQObYZgAAAFtJREFU\n",
       "CNdj4Luz++5KvrsnGBg4uWoZ8ucx9DMwvGM9wJB/AcRKyH/A0J/A4M7AAKJcGRgsgSwgL4SB7zcb\n",
       "iMf2j4GrYBMD9z8Gpg8M7BcmMPAZMHAeYOBYKwAAtXMYHwtZnY0AAAAASUVORK5CYII=\n",
       "\" style=\"display:inline;vertical-align:middle;\" /></a></td></tr>\n",
       "</table>\n"
      ],
      "text/plain": [
       "0. (A in (RealsNeg)^{m})\n",
       "   core type: ExprTuple\n",
       "   sub-expressions: 1\n",
       "1. A in (RealsNeg)^{m}\n",
       "   core type: Operation\n",
       "   operator: 2\n",
       "   operands: 3\n",
       "2. in\n",
       "   core type: Literal\n",
       "   sub-expressions: \n",
       "3. (A , (RealsNeg)^{m})\n",
       "   core type: ExprTuple\n",
       "   sub-expressions: 4, 5\n",
       "4. A\n",
       "   core type: Variable\n",
       "   sub-expressions: \n",
       "5. (RealsNeg)^{m}\n",
       "   core type: Operation\n",
       "   operator: 6\n",
       "   operands: 7\n",
       "6. Exp\n",
       "   core type: Literal\n",
       "   sub-expressions: \n",
       "7. (RealsNeg , m)\n",
       "   core type: ExprTuple\n",
       "   sub-expressions: 8, 9\n",
       "8. RealsNeg\n",
       "   core type: Literal\n",
       "   sub-expressions: \n",
       "9. m\n",
       "   core type: Variable\n",
       "   sub-expressions: "
      ]
     },
     "execution_count": 4,
     "metadata": {},
     "output_type": "execute_result"
    }
   ],
   "source": [
    "# display the expression information\n",
    "expr.exprInfo()"
   ]
  },
  {
   "cell_type": "code",
   "execution_count": null,
   "metadata": {},
   "outputs": [],
   "source": []
  }
 ],
 "metadata": {
  "kernelspec": {
   "display_name": "Python 3",
   "language": "python",
   "name": "python3"
  }
 },
 "nbformat": 4,
 "nbformat_minor": 0
}
