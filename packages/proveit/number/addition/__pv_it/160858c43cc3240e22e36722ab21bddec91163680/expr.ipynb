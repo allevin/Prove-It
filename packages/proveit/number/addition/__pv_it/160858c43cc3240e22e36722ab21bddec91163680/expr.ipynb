{
 "cells": [
  {
   "cell_type": "markdown",
   "metadata": {},
   "source": [
    "Expression of type <a class=\"ProveItLink\" href=\"../../../../../../doc/html/api/proveit.number.Add.html\">Add</a>\n",
    "=======================\n",
    "# from context <a class=\"ProveItLink\" href=\"../../_context_.ipynb\">proveit.number.addition</a>"
   ]
  },
  {
   "cell_type": "code",
   "execution_count": 1,
   "metadata": {},
   "outputs": [],
   "source": [
    "# import Expression classes needed to build the expression\n",
    "from proveit._common_ import a, b, c\n",
    "from proveit.number import Add, one, three, two"
   ]
  },
  {
   "cell_type": "code",
   "execution_count": 2,
   "metadata": {},
   "outputs": [
    {
     "data": {
      "text/html": [
       "<strong id=\"expr\">expr:</strong> <a class=\"ProveItLink\" href=\"expr.ipynb\"><img src=\"data:image/png;base64,iVBORw0KGgoAAAANSUhEUgAAAUUAAAAQBAMAAABzbnCeAAAAMFBMVEX///8yMjKqqqrMzMzu7u4i\n",
       "IiJmZmaYmJhEREQQEBC6urp2dnaIiIhUVFTc3NwAAAD87Fq/AAAAAXRSTlMAQObYZgAAAjlJREFU\n",
       "SMetlU9LG0EYh39Zd1eNJukeBC/CfgDBnEpLD91jS2nNSRAPTS6KeDCfoHgQBC+l0JMtrdeCoFAs\n",
       "0gguKAgSMb20FFISEDyaBFaUKqTZmMnOO7NxYujc9uF9n/3Nn50FehzLwvNZZpUC/XdKAboYfbkd\n",
       "u9eEeObR53gBJ4ItUoACqMcZojcEvJJK9HIH8PKPR0nMgVGlmoQtNEmg83uYZM/GBeHjUkbN7QSG\n",
       "PUoG3yP2l2o2HaFJAp3fwyQT/zNjxIMpZNwWm7Zx74y43et48fsnygPCevVcPnl3xsYwPKoZy/+i\n",
       "JRLAi939cBBkbB7iL+WBKuUBYb2P1yMpZcanW0SjXyFBJiYB9K1hJBy0szwZ8xftEuYS4Rxh9o8Y\n",
       "yCozjtJt0jwMbvElEsBzFyvhIFjH4bXGB1mF4RLOkVZvrKo8j2jPi2nMB0ik+RIJoCRqSyHfxmcH\n",
       "iSVM+juQsaxpy/JXlhHTskbeWVahSUAAy8iT42ZNoDHS2MzyJRLAlai9BZzkFHibRcXFBBw+O0da\n",
       "86u46nXU0jgnS9C4DReJRQLxG0EbgJZErzt+xkkbP7QkL+cIszemrzqPD4E3NGMSH0iJBHAJ9IcD\n",
       "JqkBr8uIZLWpIcI5ws5jGkOKuyc+k/uWosfaNgvUIgL8BL6GAyY5RPTavwyPHh3R7zogrHchf0CB\n",
       "OV+bI8So1+s0o16co9OQAMzdvBMO2pfDbMbu+T/TzS+ie0sXktbYkEjUVYEQsnF/y92Sf5WK55bj\n",
       "tzo3AAAAAElFTkSuQmCC\n",
       "\" style=\"display:inline;vertical-align:middle;\" /></a><br>"
      ],
      "text/plain": [
       "expr: a + a + c + 1 + 2 + b + b + c + c + 3"
      ]
     },
     "execution_count": 2,
     "metadata": {},
     "output_type": "execute_result"
    }
   ],
   "source": [
    "# build up the expression from sub-expressions\n",
    "expr = Add(a, a, c, one, two, b, b, c, c, three)"
   ]
  },
  {
   "cell_type": "code",
   "execution_count": 3,
   "metadata": {},
   "outputs": [
    {
     "name": "stdout",
     "output_type": "stream",
     "text": [
      "Passed sanity check: built 'expr' is the same as the stored Expression.\n"
     ]
    }
   ],
   "source": [
    "# check that the built expression is the same as the stored expression\n",
    "%check_expr"
   ]
  },
  {
   "cell_type": "code",
   "execution_count": 4,
   "metadata": {},
   "outputs": [
    {
     "data": {
      "text/html": [
       "<table><tr><th>&nbsp;</th><th>core type</th><th>sub-expressions</th><th>expression</th></tr>\n",
       "<tr><td>0</td><td>Operation</td><td>operator:&nbsp;1<br>operands:&nbsp;2<br></td><td><a class=\"ProveItLink\" href=\"expr.ipynb\"><img src=\"data:image/png;base64,iVBORw0KGgoAAAANSUhEUgAAAUUAAAAQBAMAAABzbnCeAAAAMFBMVEX///8yMjKqqqrMzMzu7u4i\n",
       "IiJmZmaYmJhEREQQEBC6urp2dnaIiIhUVFTc3NwAAAD87Fq/AAAAAXRSTlMAQObYZgAAAjlJREFU\n",
       "SMetlU9LG0EYh39Zd1eNJukeBC/CfgDBnEpLD91jS2nNSRAPTS6KeDCfoHgQBC+l0JMtrdeCoFAs\n",
       "0gguKAgSMb20FFISEDyaBFaUKqTZmMnOO7NxYujc9uF9n/3Nn50FehzLwvNZZpUC/XdKAboYfbkd\n",
       "u9eEeObR53gBJ4ItUoACqMcZojcEvJJK9HIH8PKPR0nMgVGlmoQtNEmg83uYZM/GBeHjUkbN7QSG\n",
       "PUoG3yP2l2o2HaFJAp3fwyQT/zNjxIMpZNwWm7Zx74y43et48fsnygPCevVcPnl3xsYwPKoZy/+i\n",
       "JRLAi939cBBkbB7iL+WBKuUBYb2P1yMpZcanW0SjXyFBJiYB9K1hJBy0szwZ8xftEuYS4Rxh9o8Y\n",
       "yCozjtJt0jwMbvElEsBzFyvhIFjH4bXGB1mF4RLOkVZvrKo8j2jPi2nMB0ik+RIJoCRqSyHfxmcH\n",
       "iSVM+juQsaxpy/JXlhHTskbeWVahSUAAy8iT42ZNoDHS2MzyJRLAlai9BZzkFHibRcXFBBw+O0da\n",
       "86u46nXU0jgnS9C4DReJRQLxG0EbgJZErzt+xkkbP7QkL+cIszemrzqPD4E3NGMSH0iJBHAJ9IcD\n",
       "JqkBr8uIZLWpIcI5ws5jGkOKuyc+k/uWosfaNgvUIgL8BL6GAyY5RPTavwyPHh3R7zogrHchf0CB\n",
       "OV+bI8So1+s0o16co9OQAMzdvBMO2pfDbMbu+T/TzS+ie0sXktbYkEjUVYEQsnF/y92Sf5WK55bj\n",
       "tzo3AAAAAElFTkSuQmCC\n",
       "\" style=\"display:inline;vertical-align:middle;\" /></a></td></tr>\n",
       "<tr><td>1</td><td>Literal</td><td></td><td><a class=\"ProveItLink\" href=\"../3e6688136fa3c7aefbebe51301b7c3ebf0b69c440/expr.ipynb\"><img src=\"data:image/png;base64,iVBORw0KGgoAAAANSUhEUgAAAA4AAAAOBAMAAADtZjDiAAAAJFBMVEX///+6urpUVFQQEBAiIiIy\n",
       "MjJmZmaIiIiqqqrc3Nzu7u4AAACgHpL+AAAAAXRSTlMAQObYZgAAAB5JREFUCNdjYGBgWMkAAe2k\n",
       "0Kmhoc6hoUGk6BMHYgAHOwjcado9fwAAAABJRU5ErkJggg==\n",
       "\" style=\"display:inline;vertical-align:middle;\" /></a></td></tr>\n",
       "<tr><td>2</td><td>ExprTuple</td><td>3, 3, 7, 4, 5, 6, 6, 7, 7, 8</td><td><a class=\"ProveItLink\" href=\"../821494c459365264d6bfb19ac949fcf41509a7a80/expr.ipynb\"><img src=\"data:image/png;base64,iVBORw0KGgoAAAANSUhEUgAAAMEAAAAVBAMAAAANw5eWAAAAMFBMVEX////c3NwiIiJERESqqqqY\n",
       "mJh2dnZmZmYQEBDu7u4yMjJUVFTMzMyIiIi6uroAAAAs73DqAAAAAXRSTlMAQObYZgAAAlRJREFU\n",
       "SMe1lb9rE2EYx79JLrlcLrm7Th0UepOOZnFw0fsPel0cJbSQLkZvaZUuKojgYHsgSMAhQekgXbJI\n",
       "xVJ6IKjgYBYH0dTWSVwSWyqkUON773vv/WyTLHmHu0++eZ73m/d5n/cNMPmhtCc4+Q338Wlk2BXv\n",
       "Pb1ylYH0Ro/BKaNYXTAgOoRejTJ42mfvVAs/DIaFFmKQHNNQToAmUBpVpOdbnoNsI91jqHpOASTH\n",
       "bQMHwHUgb49aQ8lzyD+G/I9hlyd1z86epQ514DfGdSj0IXoO8/y7+aE9RKqUMbDsVnj71gOv1j7h\n",
       "We171IGMtIcbndcxkKodJ5ZHNylnYZ3gLy3jFTig4ipeJBw+V9h0h1CdCODjXkGP5b3fIA+hiVXy\n",
       "w48gltkSfEK9jcsJh5fsJfSRr0RAeoKMGctDicyt3AeprNxDmnVUQNhJ7AN8d7EJ1YqA3OMxO6GN\n",
       "WLNR7LkOahkNttaAcHiKwze+HRa6ZgTUMo/x884D10zX4SEw08YsaNsFlDpJOggWpvgpuGdHYIaf\n",
       "Kj9PGtiuA6kSKVrDwFvBkRAmHAFZZuY6UOkDMEclsruPqBQAWYkZzTsGLmnINrFIusoULubQ0MOE\n",
       "TeCmdMAdXCl1obqoU0k2xBaVArCQc6J5X6D8pd360z0Eu+92Uf8TJoi1ji2taQTuHi9RKT0YDHQq\n",
       "SdtLoJIPWO58jeUJd1bIlVLYQ17j9d5HghRtHGl/SBC5NbIV/sFEgrJjSeaQoFr49p6Eg0Rub5zj\n",
       "TRm0p0/tcaTSkCDZLVdqkv+i5BL8D91W0C02TcqBAAAAAElFTkSuQmCC\n",
       "\" style=\"display:inline;vertical-align:middle;\" /></a></td></tr>\n",
       "<tr><td>3</td><td>Variable</td><td></td><td><a class=\"ProveItLink\" href=\"../../../../__pv_it/07527342713064c87612d00d8557c53d53d5324a0/expr.ipynb\"><img src=\"data:image/png;base64,iVBORw0KGgoAAAANSUhEUgAAAAsAAAAJBAMAAAAWSsseAAAAMFBMVEX///8yMjKqqqrMzMzu7u4i\n",
       "IiJmZmaYmJhEREQQEBC6urp2dnaIiIhUVFTc3NwAAAD87Fq/AAAAAXRSTlMAQObYZgAAAEhJREFU\n",
       "CNdjYOC7s2seAwPDygccHxgY+L4zsDUwMPB+YGA9wMDA38Dgb8DA8P4Agz6DA4O/AsNFJgMGxgKm\n",
       "MG6gyjunLE4xAAAZTBA5TB6DCwAAAABJRU5ErkJggg==\n",
       "\" style=\"display:inline;vertical-align:middle;\" /></a></td></tr>\n",
       "<tr><td>4</td><td>Literal</td><td></td><td><a class=\"ProveItLink\" href=\"../../../numeral/__pv_it/9be8badea4c35b9724062cecc501d17a3158d1d20/expr.ipynb\"><img src=\"data:image/png;base64,iVBORw0KGgoAAAANSUhEUgAAAAgAAAAPBAMAAAArJJMAAAAAHlBMVEX///+YmJgyMjIQEBBmZmaI\n",
       "iIhUVFTu7u5EREQAAAAw+MI4AAAAAXRSTlMAQObYZgAAACFJREFUCNdjYGBoZ2BgqJjOwFCWBiQY\n",
       "WEklWJwnOTKAAACjEQo8HvEr3AAAAABJRU5ErkJggg==\n",
       "\" style=\"display:inline;vertical-align:middle;\" /></a></td></tr>\n",
       "<tr><td>5</td><td>Literal</td><td></td><td><a class=\"ProveItLink\" href=\"../../../numeral/__pv_it/77d407a64829263cdc16415becd4c2293f77a4bf0/expr.ipynb\"><img src=\"data:image/png;base64,iVBORw0KGgoAAAANSUhEUgAAAAkAAAAOBAMAAAAPuiubAAAAMFBMVEX///+YmJh2dnbMzMwQEBAi\n",
       "IiLu7u6qqqqIiIhUVFS6urpEREQyMjJmZmbc3NwAAACOMKdoAAAAAXRSTlMAQObYZgAAAFBJREFU\n",
       "CNdj4Lt7egEDw0sGju8MDNMYGOIZGFwSGOYvYDifwHAfKAEUSQASzJ9ATJ4NIPI2iOCYACJrGfge\n",
       "MDBfYGB8wPBUSekqUPH//18ZAIliFhc3zESNAAAAAElFTkSuQmCC\n",
       "\" style=\"display:inline;vertical-align:middle;\" /></a></td></tr>\n",
       "<tr><td>6</td><td>Variable</td><td></td><td><a class=\"ProveItLink\" href=\"../../../../__pv_it/6840a4fa6c106149dc16a131294d0c5e44f1b0480/expr.ipynb\"><img src=\"data:image/png;base64,iVBORw0KGgoAAAANSUhEUgAAAAkAAAAOBAMAAAAPuiubAAAALVBMVEX///9mZmbMzMxERESYmJiI\n",
       "iIh2dna6urqqqqoyMjIiIiIQEBBUVFTu7u4AAAD9S1JeAAAAAXRSTlMAQObYZgAAAE1JREFUCNdj\n",
       "4D29gAEIOA+ASL4GEFl3AURmgQiGOaFHGBh4HzPwKTBwvGXgTmBgnMDAJ8DAJcBQ5wBSLncBJLWN\n",
       "gYGngRFoBO9REQYGAGrcDtUkVqASAAAAAElFTkSuQmCC\n",
       "\" style=\"display:inline;vertical-align:middle;\" /></a></td></tr>\n",
       "<tr><td>7</td><td>Variable</td><td></td><td><a class=\"ProveItLink\" href=\"../../../../__pv_it/cbdfda466482236edba0ce44ac7ef39cda0af7a40/expr.ipynb\"><img src=\"data:image/png;base64,iVBORw0KGgoAAAANSUhEUgAAAAkAAAAJBAMAAAASvxsjAAAALVBMVEX///9mZmbc3NxUVFSYmJhE\n",
       "REQiIiIyMjK6uroQEBDMzMyIiIh2dnbu7u4AAABgFDGoAAAAAXRSTlMAQObYZgAAADZJREFUCNdj\n",
       "YOA9s3sBA8PKBvYEBt7ZDKwODMwPGICALwBE6m0Asx0YGIDiAgw8QJUyu/cyAAAmuwmycZ8WfQAA\n",
       "AABJRU5ErkJggg==\n",
       "\" style=\"display:inline;vertical-align:middle;\" /></a></td></tr>\n",
       "<tr><td>8</td><td>Literal</td><td></td><td><a class=\"ProveItLink\" href=\"../../../numeral/__pv_it/9176d93c83afa2c995b614976e3cb49207102fa70/expr.ipynb\"><img src=\"data:image/png;base64,iVBORw0KGgoAAAANSUhEUgAAAAoAAAAOBAMAAADkjZCYAAAAMFBMVEX///+YmJju7u4QEBBUVFQy\n",
       "MjIiIiKIiIi6urpmZmbc3NyqqqpERER2dnbMzMwAAAB0GlNiAAAAAXRSTlMAQObYZgAAAE1JREFU\n",
       "CNdjYHh79zQDA9cEhv4CBt7fDPwJDNxgEgiAIkAQAsR8Vx1ATIbiBhDJ/ImB6wEDz0cG/U8gkj+A\n",
       "ge0XA7sAQ/8FBoadM6MZAEflFACalZ/OAAAAAElFTkSuQmCC\n",
       "\" style=\"display:inline;vertical-align:middle;\" /></a></td></tr>\n",
       "</table>\n"
      ],
      "text/plain": [
       "0. a + a + c + 1 + 2 + b + b + c + c + 3\n",
       "   core type: Operation\n",
       "   operator: 1\n",
       "   operands: 2\n",
       "1. +\n",
       "   core type: Literal\n",
       "   sub-expressions: \n",
       "2. (a , a , c , 1 , 2 , b , b , c , c , 3)\n",
       "   core type: ExprTuple\n",
       "   sub-expressions: 3, 3, 7, 4, 5, 6, 6, 7, 7, 8\n",
       "3. a\n",
       "   core type: Variable\n",
       "   sub-expressions: \n",
       "4. 1\n",
       "   core type: Literal\n",
       "   sub-expressions: \n",
       "5. 2\n",
       "   core type: Literal\n",
       "   sub-expressions: \n",
       "6. b\n",
       "   core type: Variable\n",
       "   sub-expressions: \n",
       "7. c\n",
       "   core type: Variable\n",
       "   sub-expressions: \n",
       "8. 3\n",
       "   core type: Literal\n",
       "   sub-expressions: "
      ]
     },
     "execution_count": 4,
     "metadata": {},
     "output_type": "execute_result"
    }
   ],
   "source": [
    "# display the expression information\n",
    "expr.exprInfo()"
   ]
  },
  {
   "cell_type": "code",
   "execution_count": null,
   "metadata": {},
   "outputs": [],
   "source": []
  }
 ],
 "metadata": {
  "kernelspec": {
   "display_name": "Python 3",
   "language": "python",
   "name": "python3"
  }
 },
 "nbformat": 4,
 "nbformat_minor": 0
}
