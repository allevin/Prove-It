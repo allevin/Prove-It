{
 "cells": [
  {
   "cell_type": "markdown",
   "metadata": {},
   "source": [
    "Expression of type <a class=\"ProveItLink\" href=\"../../../../../../doc/html/api/proveit.logic.Set.html\">Set</a>\n",
    "=======================\n",
    "# from context <a class=\"ProveItLink\" href=\"../../_context_.ipynb\">proveit.number.addition</a>"
   ]
  },
  {
   "cell_type": "code",
   "execution_count": 1,
   "metadata": {},
   "outputs": [],
   "source": [
    "# import Expression classes needed to build the expression\n",
    "from proveit._common_ import d\n",
    "from proveit.logic import InSet, Set\n",
    "from proveit.number import Complexes"
   ]
  },
  {
   "cell_type": "code",
   "execution_count": 2,
   "metadata": {},
   "outputs": [
    {
     "data": {
      "text/html": [
       "<strong id=\"expr\">expr:</strong> <a class=\"ProveItLink\" href=\"expr.ipynb\"><img src=\"data:image/png;base64,iVBORw0KGgoAAAANSUhEUgAAAEUAAAAVBAMAAADiLT7tAAAAMFBMVEX////c3NxERESqqqpUVFS6\n",
       "urrMzMwyMjIQEBCIiIh2dnYiIiLu7u5mZmaYmJgAAABXZE4RAAAAAXRSTlMAQObYZgAAAT9JREFU\n",
       "KM9jYGDgu8eAE7CtEgBRPLsY8AC2ZhDJ+QHMCepFk51d/mPTBQaG6yA2VwNE7DOqktSvDKd+OjAw\n",
       "rEBSw/oHRQkfywMGBns0NVwbwNTJ6t3bQfQbDiDBi6aG/QLYiXUHIOZcEAF5ZwKyGpFZ8QYgjhBU\n",
       "Cc+FKKilYDW8BUDHNDLog2UVYV5eYAdlvQcRGQEMDPIPIH7kUYCriYOyQG5IaQMy/BkYwCHJ2r17\n",
       "N9jNPApZMB+qAz0YkcDA8ImB5ytYuwNMpoYFyuBeACRYChgYfzIwf+ABad8AU/MKrOYA1D3AgOH5\n",
       "DFRpBuL4wdQwPQX6m3UPkt/rGKwvgMxkOB0AU+SieeCo0gEkNSIzwzTBsoy1CTCf3f7fEsCAGs5Q\n",
       "wOwOiQs4wKIGA4DV8OFXAwnbnXjTYSskqSwmkJ4BTvxWShLh2B8AAAAASUVORK5CYII=\n",
       "\" style=\"display:inline;vertical-align:middle;\" /></a><br>"
      ],
      "text/plain": [
       "expr: {d in Complexes}"
      ]
     },
     "execution_count": 2,
     "metadata": {},
     "output_type": "execute_result"
    }
   ],
   "source": [
    "# build up the expression from sub-expressions\n",
    "expr = Set(InSet(d, Complexes))"
   ]
  },
  {
   "cell_type": "code",
   "execution_count": 3,
   "metadata": {},
   "outputs": [
    {
     "name": "stdout",
     "output_type": "stream",
     "text": [
      "Passed sanity check: built 'expr' is the same as the stored Expression.\n"
     ]
    }
   ],
   "source": [
    "# check that the built expression is the same as the stored expression\n",
    "%check_expr"
   ]
  },
  {
   "cell_type": "code",
   "execution_count": 4,
   "metadata": {},
   "outputs": [
    {
     "data": {
      "text/html": [
       "<table><tr><th>&nbsp;</th><th>core type</th><th>sub-expressions</th><th>expression</th></tr>\n",
       "<tr><td>0</td><td>Operation</td><td>operator:&nbsp;1<br>operands:&nbsp;2<br></td><td><a class=\"ProveItLink\" href=\"expr.ipynb\"><img src=\"data:image/png;base64,iVBORw0KGgoAAAANSUhEUgAAAEUAAAAVBAMAAADiLT7tAAAAMFBMVEX////c3NxERESqqqpUVFS6\n",
       "urrMzMwyMjIQEBCIiIh2dnYiIiLu7u5mZmaYmJgAAABXZE4RAAAAAXRSTlMAQObYZgAAAT9JREFU\n",
       "KM9jYGDgu8eAE7CtEgBRPLsY8AC2ZhDJ+QHMCepFk51d/mPTBQaG6yA2VwNE7DOqktSvDKd+OjAw\n",
       "rEBSw/oHRQkfywMGBns0NVwbwNTJ6t3bQfQbDiDBi6aG/QLYiXUHIOZcEAF5ZwKyGpFZ8QYgjhBU\n",
       "Cc+FKKilYDW8BUDHNDLog2UVYV5eYAdlvQcRGQEMDPIPIH7kUYCriYOyQG5IaQMy/BkYwCHJ2r17\n",
       "N9jNPApZMB+qAz0YkcDA8ImB5ytYuwNMpoYFyuBeACRYChgYfzIwf+ABad8AU/MKrOYA1D3AgOH5\n",
       "DFRpBuL4wdQwPQX6m3UPkt/rGKwvgMxkOB0AU+SieeCo0gEkNSIzwzTBsoy1CTCf3f7fEsCAGs5Q\n",
       "wOwOiQs4wKIGA4DV8OFXAwnbnXjTYSskqSwmkJ4BTvxWShLh2B8AAAAASUVORK5CYII=\n",
       "\" style=\"display:inline;vertical-align:middle;\" /></a></td></tr>\n",
       "<tr><td>1</td><td>Literal</td><td></td><td><a class=\"ProveItLink\" href=\"../../../../logic/set_theory/enumeration/__pv_it/07381ed5b23806e8d7914b78cb6667769e3708dd0/expr.ipynb\"><img src=\"data:image/png;base64,iVBORw0KGgoAAAANSUhEUgAAAB4AAAAOBAMAAADKyLEKAAAAMFBMVEX///8iIiIQEBCIiIjMzMzc\n",
       "3Nyqqqp2dnZEREQyMjK6urru7u5mZmZUVFSYmJgAAACI6eGPAAAAAXRSTlMAQObYZgAAALRJREFU\n",
       "CNdjYGDgu3Nm3wIGBJjHwN0PZW5yYGDgLWBgyITy8zcwMMQDxZyh/INAvD6BgcEFypcB4vjPDiBm\n",
       "TPFRrhs/LjMwMP//38rAwCbKEMPA9gEkE3fp0waG+AUMRxh4JkC01T9guPTOOICBEWgVH5C//wHD\n",
       "H5D4fqCz9oCMDGD4DLaegRXslLMMDMpAgxlOMmQxHDRgYG5gYLBk4D7KcIe7gOHC2rt9QCXsh40Z\n",
       "GCKMGQDRkC8N/Ph1XAAAAABJRU5ErkJggg==\n",
       "\" style=\"display:inline;vertical-align:middle;\" /></a></td></tr>\n",
       "<tr><td>2</td><td>ExprTuple</td><td>3</td><td><a class=\"ProveItLink\" href=\"../628d78d29bf1ac8b1faf8568f4943206997384ba0/expr.ipynb\"><img src=\"data:image/png;base64,iVBORw0KGgoAAAANSUhEUgAAAD8AAAAVBAMAAAADRiu8AAAAMFBMVEX////c3NwiIiJERESqqqqY\n",
       "mJh2dnZmZmYQEBDu7u4yMjJUVFTMzMyIiIi6uroAAAAs73DqAAAAAXRSTlMAQObYZgAAAVVJREFU\n",
       "KM9jYCAI+C7glosDEafBqiwKUKV4tdY3mTOwHwAyV4IF+B1Q5HneP+DMv83AsACoFGLD+wkoCgK2\n",
       "MjCw/GZgCGNg4IDIJIFJzltKSkBNDKwTGoBkNQPDDAaGVxAty8HkqUgIj51xA5Ccy8DA7MBQBmQx\n",
       "7s37AhJntITaMJ0vAcJgK2BYCqReCDD/BHGZBaAKjrEEQBgsCxj6gBq/MrCDbGaYDHPjMT6oAr4G\n",
       "hn8MDNwfGJjARr5QUoI4cjIP1AqeDyAF/AYM8x/AwwwEuCZsgCtoYWCQv8DgzwDy7SSYAtYEkAJO\n",
       "sBWmDAzzHRh2sYAClTsApsL0LZB4NIGBdQFDOtDAABZ1NnA46cEUcG++yfnYEuzNR6BguHf4Hlhc\n",
       "qgam4rj+j30gxzxg4BBAjgPvRWBfwMEMkHvwJZZceHRjB5wg46TxKOAG2c+IJ8ndYWAAANbhTu9C\n",
       "zCP0AAAAAElFTkSuQmCC\n",
       "\" style=\"display:inline;vertical-align:middle;\" /></a></td></tr>\n",
       "<tr><td>3</td><td>Operation</td><td>operator:&nbsp;4<br>operands:&nbsp;5<br></td><td><a class=\"ProveItLink\" href=\"../807f2df5759235bf0006f027b2f5148ee01534cb0/expr.ipynb\"><img src=\"data:image/png;base64,iVBORw0KGgoAAAANSUhEUgAAADMAAAAPBAMAAAC7N+rPAAAAMFBMVEX////MzMyYmJiIiIhUVFTc\n",
       "3NwyMjIiIiJ2dnbu7u6qqqpmZmYQEBBERES6uroAAABkyy6XAAAAAXRSTlMAQObYZgAAAOZJREFU\n",
       "GNNjYGBg4LuzgQEFMJflH78NYfIvQJFhfP+As98Ewn4/AUVKwYmBgesLhN0OJjnNyssTgDTThANA\n",
       "cgtEKhtMimlCeNysDkByMhCzOvf9Aomw3oSaN5uvAcp6E8D7E0TzBkAFJLgUIAzWTwzcIBsY5sJc\n",
       "IcEHlWL5wMAONuBNeTnEGXMZoQbyX2CY/wDEEIHpYpvgAGHEGzCsZwD5azpMiqkBJMXJwDB/AYMb\n",
       "lwDIZAWY3KXHQOL5BAY2Ba5qDrCP62BSLL6WnG9vgrxlJ2sHFgnbCJOTrv/jhxrgS9LBLoQBAJkt\n",
       "M1xsY3iNAAAAAElFTkSuQmCC\n",
       "\" style=\"display:inline;vertical-align:middle;\" /></a></td></tr>\n",
       "<tr><td>4</td><td>Literal</td><td></td><td><a class=\"ProveItLink\" href=\"../../../../logic/set_theory/membership/__pv_it/088cbc857536a28d4119ad9639a84270ccb0545d0/expr.ipynb\"><img src=\"data:image/png;base64,iVBORw0KGgoAAAANSUhEUgAAAAwAAAAMBAMAAACkW0HUAAAALVBMVEX///+qqqpmZmZUVFQQEBC6\n",
       "urpERETc3NyYmJjMzMwiIiIyMjKIiIju7u4AAACYsrA9AAAAAXRSTlMAQObYZgAAADxJREFUCNdj\n",
       "YOA9vWrVBgaG2b0MQMCeCyIZ2ArA1DUwyRCyahVIyWQI7xaEYm4AU7xLIdxqTQgtvGvVBgCkcQ7e\n",
       "geM/tQAAAABJRU5ErkJggg==\n",
       "\" style=\"display:inline;vertical-align:middle;\" /></a></td></tr>\n",
       "<tr><td>5</td><td>ExprTuple</td><td>6, 7</td><td><a class=\"ProveItLink\" href=\"../8747d0d653f524bd7968337374704150a28acdd90/expr.ipynb\"><img src=\"data:image/png;base64,iVBORw0KGgoAAAANSUhEUgAAAC8AAAAVBAMAAAAk6KpUAAAAMFBMVEX////c3NwiIiJERESqqqqY\n",
       "mJh2dnZmZmYQEBDu7u4yMjJUVFTMzMyIiIi6uroAAAAs73DqAAAAAXRSTlMAQObYZgAAATBJREFU\n",
       "KM9jYMAJ+C5gisWBiNNgWYsCiBCv1vomcwb2A0DmSrAAvwOY4nn/gDP/NgPDAqASiEnvJ4CpgK0M\n",
       "DCy/GRjCGBg4ICJJYJJ1QgOQrGZgmMHA8Api9nIwyc64AUjOZWBgdmAoA7IY9+Z9AUtM50uAqGMr\n",
       "YFgKpF4IMP8E84+xBEAkWBYw9AE1fGVgXwCR4INK8DUw/GNg4P7AwAQxYjIP1CieDyAJfgOG+Q/A\n",
       "fK4JG+ASLQwM8hcY/BnArmZNAElwgo0yZWCY78Cwi+UAJ0jG9C2QeDSBgXUBQzrQgAAWdTaG+QpA\n",
       "Me7NNzkfW4Kd+wjkjXuH7zHM+AjSclz/xz6QZQ8YOARgYf0QKdxngOyDcQKQJHLhwY4qwQnyrzSU\n",
       "w4ukgRtkPiOWqL3DwAAAyoxIwKbDpdUAAAAASUVORK5CYII=\n",
       "\" style=\"display:inline;vertical-align:middle;\" /></a></td></tr>\n",
       "<tr><td>6</td><td>Variable</td><td></td><td><a class=\"ProveItLink\" href=\"../../../../__pv_it/3a5de44ed6135dbbdbbeec6704c741e238f127300/expr.ipynb\"><img src=\"data:image/png;base64,iVBORw0KGgoAAAANSUhEUgAAAAsAAAAOBAMAAAALT/umAAAAMFBMVEX////MzMyYmJiIiIhUVFTc\n",
       "3NwyMjIiIiJ2dnbu7u6qqqpmZmYQEBBERES6uroAAABkyy6XAAAAAXRSTlMAQObYZgAAAFhJREFU\n",
       "CNdjYGBg4LuzgQEE+BeAqfcTwFQ7mGTIBmJW575fQOpNAO9PIOcTA3cCAwPLBwb2BqCeCwzzHzAw\n",
       "xBswrGeYwDB/AYMblwADmwJXNQdIm52sHQMAfyoTCZukXIEAAAAASUVORK5CYII=\n",
       "\" style=\"display:inline;vertical-align:middle;\" /></a></td></tr>\n",
       "<tr><td>7</td><td>Literal</td><td></td><td><a class=\"ProveItLink\" href=\"../../../sets/complex/__pv_it/c357845f93a5a2d9f649129d299e7ec28dda4b960/expr.ipynb\"><img src=\"data:image/png;base64,iVBORw0KGgoAAAANSUhEUgAAAA8AAAAOBAMAAAACpFvcAAAAMFBMVEX////c3NyqqqqYmJhUVFR2\n",
       "dnbu7u66urrMzMxmZmZEREQQEBAyMjIiIiKIiIgAAAB7fvZ0AAAAAXRSTlMAQObYZgAAAGVJREFU\n",
       "CNdjYGDgu3N+70oGBgaO+gK2+CdAhoEzAwPTFwYG5oQNQN4UBgZORgcgI4+BIZM9gAEMWpkMoAx2\n",
       "KCOLAyrFk+AAYTAHgBhsQLy4DkjUJjAwsHg9Y6taBpLsvP/bnYEBACkBFGQfBv8RAAAAAElFTkSu\n",
       "QmCC\n",
       "\" style=\"display:inline;vertical-align:middle;\" /></a></td></tr>\n",
       "</table>\n"
      ],
      "text/plain": [
       "0. {d in Complexes}\n",
       "   core type: Operation\n",
       "   operator: 1\n",
       "   operands: 2\n",
       "1. Set\n",
       "   core type: Literal\n",
       "   sub-expressions: \n",
       "2. (d in Complexes)\n",
       "   core type: ExprTuple\n",
       "   sub-expressions: 3\n",
       "3. d in Complexes\n",
       "   core type: Operation\n",
       "   operator: 4\n",
       "   operands: 5\n",
       "4. in\n",
       "   core type: Literal\n",
       "   sub-expressions: \n",
       "5. (d , Complexes)\n",
       "   core type: ExprTuple\n",
       "   sub-expressions: 6, 7\n",
       "6. d\n",
       "   core type: Variable\n",
       "   sub-expressions: \n",
       "7. Complexes\n",
       "   core type: Literal\n",
       "   sub-expressions: "
      ]
     },
     "execution_count": 4,
     "metadata": {},
     "output_type": "execute_result"
    }
   ],
   "source": [
    "# display the expression information\n",
    "expr.exprInfo()"
   ]
  },
  {
   "cell_type": "code",
   "execution_count": null,
   "metadata": {},
   "outputs": [],
   "source": []
  }
 ],
 "metadata": {
  "kernelspec": {
   "display_name": "Python 3",
   "language": "python",
   "name": "python3"
  }
 },
 "nbformat": 4,
 "nbformat_minor": 0
}
