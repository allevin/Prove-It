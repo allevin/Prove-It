{
 "cells": [
  {
   "cell_type": "markdown",
   "metadata": {},
   "source": [
    "Expression of type <a class=\"ProveItLink\" href=\"../../../../../../doc/html/api/proveit.logic.InSet.html\">InSet</a>\n",
    "=======================\n",
    "# from context <a class=\"ProveItLink\" href=\"../../_context_.ipynb\">proveit.number.addition</a>"
   ]
  },
  {
   "cell_type": "code",
   "execution_count": 1,
   "metadata": {},
   "outputs": [],
   "source": [
    "# import Expression classes needed to build the expression\n",
    "from proveit._common_ import c\n",
    "from proveit.logic import InSet\n",
    "from proveit.number import Complexes, Exp, three, two"
   ]
  },
  {
   "cell_type": "code",
   "execution_count": 2,
   "metadata": {},
   "outputs": [
    {
     "data": {
      "text/html": [
       "<strong id=\"expr\">expr:</strong> <a class=\"ProveItLink\" href=\"expr.ipynb\"><img src=\"data:image/png;base64,iVBORw0KGgoAAAANSUhEUgAAAG4AAAAZBAMAAAAiUgaxAAAAMFBMVEX////c3NwiIiJERESqqqqY\n",
       "mJh2dnZmZmYQEBDu7u4yMjJUVFTMzMyIiIi6uroAAAAs73DqAAAAAXRSTlMAQObYZgAAAfhJREFU\n",
       "OMtjYCAdcOZmTyBDGwN7APsCcvRxF7B+YCALsC0gT9+MBwwMfBdwycbhkphrBiROY5NhLF/8gIH9\n",
       "AIb4pVU/lAuAIWPAwLASmz5pBt4vDAwYvjj3j2Ha3w1AY78w8GJ15k4GBn0GhjA0UVbuAAYG/w3y\n",
       "Dxi/MnBgjcKOCQz7HzDMgMbzLSUlsNWRHKDY2zBJgLWT4RVWn6+fwFD/gIHZAcw5FQkVLZAGmXKB\n",
       "5262AEMZiJl2FxoE03LvwLTqT2BgKwCHkSUsfRU8Q5i8FIhPPOBSAHN4+hgWQcV5vjEwsIBdxywA\n",
       "E0pwRejrA5rTy8AcAInPCwymUHEuYFDzNYBYkxng+p4i9P0Dpjd4atuPEC8GKQRLvFBSgoQLp8Ex\n",
       "FH38BjDOZ7gw7wa4PkTCWMmN0NfCwCAPi0LGv3BhdwZGAag7J8EFw8D6IBEH9A8/0HMBnCDOV2Dc\n",
       "gsV5ChhYBRhYweHCHQDTxxwHtIFPE8xOB+UnBrYD80Ehup2BIYfzE5AhlJZWxACNB049uIW7bSfM\n",
       "M4bY9wiIy+7eZJjxEZQWcu9O4OwHhrv+//9A7VwPwEqkauAhWvS/GyLGwAGLnYcwST4BeDaD0t6L\n",
       "lDCSOGsClAH3BStcLhdf3l2JUx8n3tJAGhphcAF4xuIWwKePEWc5cQePLgDuSXZOCquQ9gAAAABJ\n",
       "RU5ErkJggg==\n",
       "\" style=\"display:inline;vertical-align:middle;\" /></a><br>"
      ],
      "text/plain": [
       "expr: (c , c , 2) in Complexes^{3}"
      ]
     },
     "execution_count": 2,
     "metadata": {},
     "output_type": "execute_result"
    }
   ],
   "source": [
    "# build up the expression from sub-expressions\n",
    "expr = InSet([c, c, two], Exp(Complexes, three))"
   ]
  },
  {
   "cell_type": "code",
   "execution_count": 3,
   "metadata": {},
   "outputs": [
    {
     "name": "stdout",
     "output_type": "stream",
     "text": [
      "Passed sanity check: built 'expr' is the same as the stored Expression.\n"
     ]
    }
   ],
   "source": [
    "# check that the built expression is the same as the stored expression\n",
    "%check_expr"
   ]
  },
  {
   "cell_type": "code",
   "execution_count": 4,
   "metadata": {},
   "outputs": [
    {
     "data": {
      "text/html": [
       "<table><tr><th>&nbsp;</th><th>core type</th><th>sub-expressions</th><th>expression</th></tr>\n",
       "<tr><td>0</td><td>Operation</td><td>operator:&nbsp;1<br>operands:&nbsp;2<br></td><td><a class=\"ProveItLink\" href=\"expr.ipynb\"><img src=\"data:image/png;base64,iVBORw0KGgoAAAANSUhEUgAAAG4AAAAZBAMAAAAiUgaxAAAAMFBMVEX////c3NwiIiJERESqqqqY\n",
       "mJh2dnZmZmYQEBDu7u4yMjJUVFTMzMyIiIi6uroAAAAs73DqAAAAAXRSTlMAQObYZgAAAfhJREFU\n",
       "OMtjYCAdcOZmTyBDGwN7APsCcvRxF7B+YCALsC0gT9+MBwwMfBdwycbhkphrBiROY5NhLF/8gIH9\n",
       "AIb4pVU/lAuAIWPAwLASmz5pBt4vDAwYvjj3j2Ha3w1AY78w8GJ15k4GBn0GhjA0UVbuAAYG/w3y\n",
       "Dxi/MnBgjcKOCQz7HzDMgMbzLSUlsNWRHKDY2zBJgLWT4RVWn6+fwFD/gIHZAcw5FQkVLZAGmXKB\n",
       "5262AEMZiJl2FxoE03LvwLTqT2BgKwCHkSUsfRU8Q5i8FIhPPOBSAHN4+hgWQcV5vjEwsIBdxywA\n",
       "E0pwRejrA5rTy8AcAInPCwymUHEuYFDzNYBYkxng+p4i9P0Dpjd4atuPEC8GKQRLvFBSgoQLp8Ex\n",
       "FH38BjDOZ7gw7wa4PkTCWMmN0NfCwCAPi0LGv3BhdwZGAag7J8EFw8D6IBEH9A8/0HMBnCDOV2Dc\n",
       "gsV5ChhYBRhYweHCHQDTxxwHtIFPE8xOB+UnBrYD80Ehup2BIYfzE5AhlJZWxACNB049uIW7bSfM\n",
       "M4bY9wiIy+7eZJjxEZQWcu9O4OwHhrv+//9A7VwPwEqkauAhWvS/GyLGwAGLnYcwST4BeDaD0t6L\n",
       "lDCSOGsClAH3BStcLhdf3l2JUx8n3tJAGhphcAF4xuIWwKePEWc5cQePLgDuSXZOCquQ9gAAAABJ\n",
       "RU5ErkJggg==\n",
       "\" style=\"display:inline;vertical-align:middle;\" /></a></td></tr>\n",
       "<tr><td>1</td><td>Literal</td><td></td><td><a class=\"ProveItLink\" href=\"../../../../logic/set_theory/membership/__pv_it/088cbc857536a28d4119ad9639a84270ccb0545d0/expr.ipynb\"><img src=\"data:image/png;base64,iVBORw0KGgoAAAANSUhEUgAAAAwAAAAMBAMAAACkW0HUAAAALVBMVEX///+qqqpmZmZUVFQQEBC6\n",
       "urpERETc3NyYmJjMzMwiIiIyMjKIiIju7u4AAACYsrA9AAAAAXRSTlMAQObYZgAAADxJREFUCNdj\n",
       "YOA9vWrVBgaG2b0MQMCeCyIZ2ArA1DUwyRCyahVIyWQI7xaEYm4AU7xLIdxqTQgtvGvVBgCkcQ7e\n",
       "geM/tQAAAABJRU5ErkJggg==\n",
       "\" style=\"display:inline;vertical-align:middle;\" /></a></td></tr>\n",
       "<tr><td>2</td><td>ExprTuple</td><td>3, 4</td><td><a class=\"ProveItLink\" href=\"../bd9c6166e4aaaca1a586d85b2570776e1314d44d0/expr.ipynb\"><img src=\"data:image/png;base64,iVBORw0KGgoAAAANSUhEUgAAAHIAAAAcBAMAAABPDfZkAAAAMFBMVEX///+qqqp2dnYiIiJERESI\n",
       "iIhmZmYQEBDc3NyYmJgyMjLu7u5UVFTMzMy6uroAAACGxKilAAAAAXRSTlMAQObYZgAAAj1JREFU\n",
       "OMulVE9IFFEY/62508y+ndk9dV6EvQShpxAhVi+B1GExxYMJC4VQBgkdFAQdSC8SuEbQrQaKToGD\n",
       "qAtddg8i/YE2gjoFDlTQKddUNErt+3bnzY67s4fdBt58v+/73u/N733vewM0+6wMvENrzy3clvBn\n",
       "c8xNPAUSjPRCs189D3xh+8pukihmgHCawBv2vjea9qSeOMhSuwF1opFidey5A+VDNRDuWb53mexN\n",
       "GtcBJUM2EqT4AcI7gOX5+rYjOomBxTiQt3HWITwUJJSOLQU89Pws7Sv0Vz3GYhY4k8UWB6eDmJM2\n",
       "ig5y0tVs3tcd0Y3HpFDpxTC5hhXEXLZx10F73HUVlYuxhk8Dr3mdEt5ykKu1khx120sCUmujLePi\n",
       "dSPhW9b4g6tcIBKuz+BZpRASEPxFO5N6PoayPqZ+hBdkuEq5NPrLMQ/Qir20+IRkGn4mFeoimRgx\n",
       "izJWrKb54PSS66zqfrVix2Puydhe9eQLfmbELpz+5ktWG4e6L0P7XvYcVLOqVkswU8hpR9gg0047\n",
       "+E05cCt5QM9AM6FZcn4/N/dXt9uMQ1wjw5XfBC6IXfjA/Y6OG5Uc8l30im6MiG9XpIIStnkBSijJ\n",
       "IVvMmj6QOjmhBSLcnblDnv05dfBe7qTNQowvw5Q8X7MWuN33o7bBImlEudayrTXUAiQr3V7LzJvQ\n",
       "u3y3rJ4prGDmIxp9XGP3qNIy4YFoWXa47jpcorHAYL7R32Q0OKxxxUOJFn66c+X3UgvMcfzH8w/o\n",
       "6Y647bus3QAAAABJRU5ErkJggg==\n",
       "\" style=\"display:inline;vertical-align:middle;\" /></a></td></tr>\n",
       "<tr><td>3</td><td>ExprTuple</td><td>5, 5, 6</td><td><a class=\"ProveItLink\" href=\"../88dfb87d726a0aa7f1c00570b37d72a9d374bb2e0/expr.ipynb\"><img src=\"data:image/png;base64,iVBORw0KGgoAAAANSUhEUgAAADsAAAAVBAMAAAAKrYvGAAAAMFBMVEX////c3NwiIiJERESqqqqY\n",
       "mJh2dnZmZmYQEBDu7u4yMjJUVFTMzMyIiIi6uroAAAAs73DqAAAAAXRSTlMAQObYZgAAATZJREFU\n",
       "KM+Fki1Pw1AUhp9mdFu3ljVYBPyDzeBx2CokQRXDkgWSIUEgMIwqUkcDQaDAEdQqSTCzS2hSkKjx\n",
       "6WCcu35AQhcqbs59n3vPe849hX++2cE0sqaWuyKi7ZzFVEKJLorwPNYbBGAV5r6BJqxC1SvCBx79\n",
       "GB+eCqu69NiNKS3TlY3hRmEiH7fvsxNNj3KHc4lu49riRDJ7nKbU/ICZgJ5cPqTkTDR/wFKKay15\n",
       "kj2+oD7KEvZ/3LdVhpHCjVamvebUukrwPixkrWufOV5Bs1Vy8WqIsWMo8R101EOYHXQbPWBDvDuU\n",
       "wxNV+zVsGi8SzLnuFqqxR9l0oyH+swSVduQZR7Y0PR7LqVpM1U7dHvIJZ4p6VH09jZ1M1PP62r8G\n",
       "+hcbwWS0SaP5nXzCdeWiTf2ZZDrfvHpHjIn1cMQAAAAASUVORK5CYII=\n",
       "\" style=\"display:inline;vertical-align:middle;\" /></a></td></tr>\n",
       "<tr><td>4</td><td>Operation</td><td>operator:&nbsp;7<br>operands:&nbsp;8<br></td><td><a class=\"ProveItLink\" href=\"../7ef71547f87fa9cc26b3db442466b8307b39b2f00/expr.ipynb\"><img src=\"data:image/png;base64,iVBORw0KGgoAAAANSUhEUgAAABcAAAAUBAMAAACUkLs9AAAAMFBMVEX////c3NyqqqqYmJhUVFR2\n",
       "dnbu7u66urrMzMxmZmZEREQQEBAyMjIiIiKIiIgAAAB7fvZ0AAAAAXRSTlMAQObYZgAAAJJJREFU\n",
       "GNNjYICC1KduDHAwmWEOguPJYM+ABGKQ2GzbkdivAkAU353ze1cC6VlAzFFfwBb/BMiQV2BgMHBm\n",
       "YGD6wvidQd6AgTlhA1B0CttFBusEBk5GByAnj6HvqSMDQyZ7AMLIViYDJA47EieLA0kZT4IDgsMc\n",
       "AOKwQXmL64BEbQKEw+L1jK1qGUxh5/3f7hAWAEuSH0rgFzQbAAAAAElFTkSuQmCC\n",
       "\" style=\"display:inline;vertical-align:middle;\" /></a></td></tr>\n",
       "<tr><td>5</td><td>Variable</td><td></td><td><a class=\"ProveItLink\" href=\"../../../../__pv_it/cbdfda466482236edba0ce44ac7ef39cda0af7a40/expr.ipynb\"><img src=\"data:image/png;base64,iVBORw0KGgoAAAANSUhEUgAAAAkAAAAJBAMAAAASvxsjAAAALVBMVEX///9mZmbc3NxUVFSYmJhE\n",
       "REQiIiIyMjK6uroQEBDMzMyIiIh2dnbu7u4AAABgFDGoAAAAAXRSTlMAQObYZgAAADZJREFUCNdj\n",
       "YOA9s3sBA8PKBvYEBt7ZDKwODMwPGICALwBE6m0Asx0YGIDiAgw8QJUyu/cyAAAmuwmycZ8WfQAA\n",
       "AABJRU5ErkJggg==\n",
       "\" style=\"display:inline;vertical-align:middle;\" /></a></td></tr>\n",
       "<tr><td>6</td><td>Literal</td><td></td><td><a class=\"ProveItLink\" href=\"../../../numeral/__pv_it/77d407a64829263cdc16415becd4c2293f77a4bf0/expr.ipynb\"><img src=\"data:image/png;base64,iVBORw0KGgoAAAANSUhEUgAAAAkAAAAOBAMAAAAPuiubAAAAMFBMVEX///+YmJh2dnbMzMwQEBAi\n",
       "IiLu7u6qqqqIiIhUVFS6urpEREQyMjJmZmbc3NwAAACOMKdoAAAAAXRSTlMAQObYZgAAAFBJREFU\n",
       "CNdj4Lt7egEDw0sGju8MDNMYGOIZGFwSGOYvYDifwHAfKAEUSQASzJ9ATJ4NIPI2iOCYACJrGfge\n",
       "MDBfYGB8wPBUSekqUPH//18ZAIliFhc3zESNAAAAAElFTkSuQmCC\n",
       "\" style=\"display:inline;vertical-align:middle;\" /></a></td></tr>\n",
       "<tr><td>7</td><td>Literal</td><td></td><td><a class=\"ProveItLink\" href=\"../../../exponentiation/__pv_it/deb2bf23cbccdd6e6791e1b35b5b9794ce12dbd50/expr.ipynb\"><img src=\"data:image/png;base64,iVBORw0KGgoAAAANSUhEUgAAACgAAAASBAMAAADbMYGVAAAAMFBMVEX///8QEBAiIiKYmJjc3Nzu\n",
       "7u7MzMx2dnZmZma6urpERESqqqoyMjJUVFSIiIgAAAAoDOMTAAAAAXRSTlMAQObYZgAAAOBJREFU\n",
       "GNNjYGB4+//u3Tt/GNAASGAXmhjnPyDBgSbI/g1IxKEJ8nxgYGdgQRPkX8BgDKRY6q7s62OYvmze\n",
       "2wAgb/7ZO1+AVDiDkYEQQ0HTBr4DQF59AgOIKmB4z7CNbcNZBu6vQN55kEACQwDDLQYGVobfDHwg\n",
       "fb8YGBxYHwAZciD3fWXg+gB1JjvQcJZvQIXsCgz8F6DO9GBgMOH7wPCUgaeBwd4B7EwGNjUG7s9c\n",
       "AiwPgO5jkWRgiF3/9+5dfQUG1nWl5Y+B7pv+1gE9bBhqGLCAE1jEWH9jEbT5A3IwAC4sP/1L6Qlu\n",
       "AAAAAElFTkSuQmCC\n",
       "\" style=\"display:inline;vertical-align:middle;\" /></a></td></tr>\n",
       "<tr><td>8</td><td>ExprTuple</td><td>9, 10</td><td><a class=\"ProveItLink\" href=\"../0736190636db428f8a7c6e653a85d0c03823a4f10/expr.ipynb\"><img src=\"data:image/png;base64,iVBORw0KGgoAAAANSUhEUgAAAC8AAAAVBAMAAAAk6KpUAAAAMFBMVEX////c3NwiIiJERESqqqqY\n",
       "mJh2dnZmZmYQEBDu7u4yMjJUVFTMzMyIiIi6uroAAAAs73DqAAAAAXRSTlMAQObYZgAAAShJREFU\n",
       "KM9jYMAJ+C5gisWBiNNAzKu1vskcIsaTluzAwH4AyFoJ5Lx/wJl/GyIhzsD3l4FhAVAx0KSArQwM\n",
       "LL8hEvkODJ8YGMIYGDgmMLBOaACKVEMk/MESMxgYXjEwsDNuAIrMhbsGaBSzA0MZA8N0vgRkJ3EB\n",
       "lbEVMCxlYDjGEoAkfmw1kGBZwNAHZPIhSzDwAoX4Ghj+MTBM5kExiqF/AgPPB5AE14QNCFEZBgb7\n",
       "AJBECwMDawJIghMszvl/AkgCaJQpkGf6Fkg8mgCW+sXAoC/AwLqAIR3I4d58k/OxJcN8BSD7KgPf\n",
       "N7BzH4GUHdf/sQ/o3Y8gh5ZXOQCtfcDAIYCw+CGcNQNkM0IC4Z1cSLBjSHACg51BGuFlOIsbZD4j\n",
       "lqi9w8AAALbHRdYWLCV8AAAAAElFTkSuQmCC\n",
       "\" style=\"display:inline;vertical-align:middle;\" /></a></td></tr>\n",
       "<tr><td>9</td><td>Literal</td><td></td><td><a class=\"ProveItLink\" href=\"../../../sets/complex/__pv_it/c357845f93a5a2d9f649129d299e7ec28dda4b960/expr.ipynb\"><img src=\"data:image/png;base64,iVBORw0KGgoAAAANSUhEUgAAAA8AAAAOBAMAAAACpFvcAAAAMFBMVEX////c3NyqqqqYmJhUVFR2\n",
       "dnbu7u66urrMzMxmZmZEREQQEBAyMjIiIiKIiIgAAAB7fvZ0AAAAAXRSTlMAQObYZgAAAGVJREFU\n",
       "CNdjYGDgu3N+70oGBgaO+gK2+CdAhoEzAwPTFwYG5oQNQN4UBgZORgcgI4+BIZM9gAEMWpkMoAx2\n",
       "KCOLAyrFk+AAYTAHgBhsQLy4DkjUJjAwsHg9Y6taBpLsvP/bnYEBACkBFGQfBv8RAAAAAElFTkSu\n",
       "QmCC\n",
       "\" style=\"display:inline;vertical-align:middle;\" /></a></td></tr>\n",
       "<tr><td>10</td><td>Literal</td><td></td><td><a class=\"ProveItLink\" href=\"../../../numeral/__pv_it/9176d93c83afa2c995b614976e3cb49207102fa70/expr.ipynb\"><img src=\"data:image/png;base64,iVBORw0KGgoAAAANSUhEUgAAAAoAAAAOBAMAAADkjZCYAAAAMFBMVEX///+YmJju7u4QEBBUVFQy\n",
       "MjIiIiKIiIi6urpmZmbc3NyqqqpERER2dnbMzMwAAAB0GlNiAAAAAXRSTlMAQObYZgAAAE1JREFU\n",
       "CNdjYHh79zQDA9cEhv4CBt7fDPwJDNxgEgiAIkAQAsR8Vx1ATIbiBhDJ/ImB6wEDz0cG/U8gkj+A\n",
       "ge0XA7sAQ/8FBoadM6MZAEflFACalZ/OAAAAAElFTkSuQmCC\n",
       "\" style=\"display:inline;vertical-align:middle;\" /></a></td></tr>\n",
       "</table>\n"
      ],
      "text/plain": [
       "0. (c , c , 2) in Complexes^{3}\n",
       "   core type: Operation\n",
       "   operator: 1\n",
       "   operands: 2\n",
       "1. in\n",
       "   core type: Literal\n",
       "   sub-expressions: \n",
       "2. ((c , c , 2) , Complexes^{3})\n",
       "   core type: ExprTuple\n",
       "   sub-expressions: 3, 4\n",
       "3. (c , c , 2)\n",
       "   core type: ExprTuple\n",
       "   sub-expressions: 5, 5, 6\n",
       "4. Complexes^{3}\n",
       "   core type: Operation\n",
       "   operator: 7\n",
       "   operands: 8\n",
       "5. c\n",
       "   core type: Variable\n",
       "   sub-expressions: \n",
       "6. 2\n",
       "   core type: Literal\n",
       "   sub-expressions: \n",
       "7. Exp\n",
       "   core type: Literal\n",
       "   sub-expressions: \n",
       "8. (Complexes , 3)\n",
       "   core type: ExprTuple\n",
       "   sub-expressions: 9, 10\n",
       "9. Complexes\n",
       "   core type: Literal\n",
       "   sub-expressions: \n",
       "10. 3\n",
       "    core type: Literal\n",
       "    sub-expressions: "
      ]
     },
     "execution_count": 4,
     "metadata": {},
     "output_type": "execute_result"
    }
   ],
   "source": [
    "# display the expression information\n",
    "expr.exprInfo()"
   ]
  },
  {
   "cell_type": "code",
   "execution_count": null,
   "metadata": {},
   "outputs": [],
   "source": []
  }
 ],
 "metadata": {
  "kernelspec": {
   "display_name": "Python 3",
   "language": "python",
   "name": "python3"
  }
 },
 "nbformat": 4,
 "nbformat_minor": 0
}
