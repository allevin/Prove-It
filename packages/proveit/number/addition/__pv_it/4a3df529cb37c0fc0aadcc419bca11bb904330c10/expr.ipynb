{
 "cells": [
  {
   "cell_type": "markdown",
   "metadata": {},
   "source": [
    "Expression of type <a class=\"ProveItLink\" href=\"../../../../../../doc/html/api/proveit.ExprTuple.html\">ExprTuple</a>\n",
    "=======================\n",
    "# from context <a class=\"ProveItLink\" href=\"../../_context_.ipynb\">proveit.number.addition</a>"
   ]
  },
  {
   "cell_type": "code",
   "execution_count": 1,
   "metadata": {},
   "outputs": [],
   "source": [
    "# import Expression classes needed to build the expression\n",
    "from proveit import ExprTuple\n",
    "from proveit.number import Complexes, Exp, four, three, two"
   ]
  },
  {
   "cell_type": "code",
   "execution_count": 2,
   "metadata": {},
   "outputs": [
    {
     "data": {
      "text/html": [
       "<strong id=\"expr\">expr:</strong> <a class=\"ProveItLink\" href=\"expr.ipynb\"><img src=\"data:image/png;base64,iVBORw0KGgoAAAANSUhEUgAAAHQAAAAcBAMAAABCE4YjAAAAMFBMVEX///+qqqp2dnYiIiJERESI\n",
       "iIhmZmYQEBDc3NyYmJgyMjLu7u5UVFTMzMy6uroAAACGxKilAAAAAXRSTlMAQObYZgAAAmdJREFU\n",
       "OMulVEFoE0EUfTFNsml2E0+CIrgU7EFyCFJEEKGKHgSRQJFeCi4WClqEFnqr6B5EVApG8SAKEqEI\n",
       "WpFQKYUemhwUVHIIPfRUTNBD0YNJKKUtoVn/zM7sbGxzSPww+/+f+W/m7f9/BuhYYseTOXQn4Uw4\n",
       "K8w/HUJ1K1qDySyj0PG5B7JYY3qpc+KLFYTSpL/SiKfbhkUre6YWztPnNKBNkKbj79+8IlZW+s55\n",
       "UbRwywcaerc1YFGiBoERUmRiDloB1w7yZc1C1SMxAPQq5Pcm5jcpNVodyOcQIUJEXM8hWHNzUEci\n",
       "JWJDU8TY9LjrGeBY4XFF2wGCGZRpLkI7TENv8oCAD/pwljpgQkJfRlhVCx/t6DQnPUzub6LVQLgp\n",
       "YzzCJkHh/bk1w3opbVxN2kShhm/kXucrwYaMeS8Z2gzaLxvQ+uHLWLyBy6Tecqcsfso4IZtkAQx6\n",
       "RHiGedgHNXbxhtQd7sx608OiliafW/egv3xQrYlTpPhPsmIJibjUAyUOLUvCgyv++1NX0BG5XQk9\n",
       "O9yaRwsUc3rrqSwlk+wICw/4XL4hoUeLxa3PijCecqhoeW0Xn0hdorEKPOfTiSyC2zKAWgIvJKDn\n",
       "FRUtfkZkeBtDbvq1k339qdgG66AMqia3BJQVx/WLF3PLF8SmVNcqqZ9UVMdxUrG7VGscGnsN10LS\n",
       "uQF8YFDuG6PO7Yq6s4kSZdSWdbaxx3IbUflCeqnvTV+HR9U1VU9CutUXkrdhpPilaw9dwr7QZ6K7\n",
       "Z4SvHgtlffnHF3KWxiNWpPYPTKi0/7vDXoiA2c1jfI9/n3QDHcf/yF/3GJrDHCFw0QAAAABJRU5E\n",
       "rkJggg==\n",
       "\" style=\"display:inline;vertical-align:middle;\" /></a><br>"
      ],
      "text/plain": [
       "expr: ((2 , 3 , 4) , Complexes^{3})"
      ]
     },
     "execution_count": 2,
     "metadata": {},
     "output_type": "execute_result"
    }
   ],
   "source": [
    "# build up the expression from sub-expressions\n",
    "expr = ExprTuple([two, three, four], Exp(Complexes, three))"
   ]
  },
  {
   "cell_type": "code",
   "execution_count": 3,
   "metadata": {},
   "outputs": [
    {
     "name": "stdout",
     "output_type": "stream",
     "text": [
      "Passed sanity check: built 'expr' is the same as the stored Expression.\n"
     ]
    }
   ],
   "source": [
    "# check that the built expression is the same as the stored expression\n",
    "%check_expr"
   ]
  },
  {
   "cell_type": "code",
   "execution_count": 4,
   "metadata": {},
   "outputs": [
    {
     "data": {
      "text/html": [
       "<table><tr><th>&nbsp;</th><th>core type</th><th>sub-expressions</th><th>expression</th></tr>\n",
       "<tr><td>0</td><td>ExprTuple</td><td>1, 2</td><td><a class=\"ProveItLink\" href=\"expr.ipynb\"><img src=\"data:image/png;base64,iVBORw0KGgoAAAANSUhEUgAAAHQAAAAcBAMAAABCE4YjAAAAMFBMVEX///+qqqp2dnYiIiJERESI\n",
       "iIhmZmYQEBDc3NyYmJgyMjLu7u5UVFTMzMy6uroAAACGxKilAAAAAXRSTlMAQObYZgAAAmdJREFU\n",
       "OMulVEFoE0EUfTFNsml2E0+CIrgU7EFyCFJEEKGKHgSRQJFeCi4WClqEFnqr6B5EVApG8SAKEqEI\n",
       "WpFQKYUemhwUVHIIPfRUTNBD0YNJKKUtoVn/zM7sbGxzSPww+/+f+W/m7f9/BuhYYseTOXQn4Uw4\n",
       "K8w/HUJ1K1qDySyj0PG5B7JYY3qpc+KLFYTSpL/SiKfbhkUre6YWztPnNKBNkKbj79+8IlZW+s55\n",
       "UbRwywcaerc1YFGiBoERUmRiDloB1w7yZc1C1SMxAPQq5Pcm5jcpNVodyOcQIUJEXM8hWHNzUEci\n",
       "JWJDU8TY9LjrGeBY4XFF2wGCGZRpLkI7TENv8oCAD/pwljpgQkJfRlhVCx/t6DQnPUzub6LVQLgp\n",
       "YzzCJkHh/bk1w3opbVxN2kShhm/kXucrwYaMeS8Z2gzaLxvQ+uHLWLyBy6Tecqcsfso4IZtkAQx6\n",
       "RHiGedgHNXbxhtQd7sx608OiliafW/egv3xQrYlTpPhPsmIJibjUAyUOLUvCgyv++1NX0BG5XQk9\n",
       "O9yaRwsUc3rrqSwlk+wICw/4XL4hoUeLxa3PijCecqhoeW0Xn0hdorEKPOfTiSyC2zKAWgIvJKDn\n",
       "FRUtfkZkeBtDbvq1k339qdgG66AMqia3BJQVx/WLF3PLF8SmVNcqqZ9UVMdxUrG7VGscGnsN10LS\n",
       "uQF8YFDuG6PO7Yq6s4kSZdSWdbaxx3IbUflCeqnvTV+HR9U1VU9CutUXkrdhpPilaw9dwr7QZ6K7\n",
       "Z4SvHgtlffnHF3KWxiNWpPYPTKi0/7vDXoiA2c1jfI9/n3QDHcf/yF/3GJrDHCFw0QAAAABJRU5E\n",
       "rkJggg==\n",
       "\" style=\"display:inline;vertical-align:middle;\" /></a></td></tr>\n",
       "<tr><td>1</td><td>ExprTuple</td><td>3, 8, 4</td><td><a class=\"ProveItLink\" href=\"../fd479056cc2ee7215be10058a7ebcbd9e086ea210/expr.ipynb\"><img src=\"data:image/png;base64,iVBORw0KGgoAAAANSUhEUgAAAD0AAAAVBAMAAAAHs/uBAAAAMFBMVEX////c3NwiIiJERESqqqqY\n",
       "mJh2dnZmZmYQEBDu7u4yMjJUVFTMzMyIiIi6uroAAAAs73DqAAAAAXRSTlMAQObYZgAAAVFJREFU\n",
       "KM+Fki9Mw0AUxr92W9eu+4dCYKbQE2DJHAYxDAJBqraEhGQKEhQCQ0igEkcTQBDM/MSmQCCoXAIJ\n",
       "CxKzQSCkZuXdu7tWkIaK3vfeL/e9e/cO+O+rhploR/wegcXDNZW576xoWO6jOKL1FkYfry3OGT1M\n",
       "tZ3ZBAKgEsL1Yc44Z32h1lB8THwLsH3YJ3DnnMun3NgmfgG8A6UIxbkuq/2tEvFcC/uyWKT5nVo3\n",
       "Bbd6uOHoyVOH3u1L4YSC5wOccXiV9DyeSHsIXj0CFy42E27LShvMyzPJnxU0Rsh9s72n+bFoq4cF\n",
       "5peR4vnBYHgaCv9Vih7ouPBJ1AKYH6yoEO0vBOiS63Kn23A+KVdpY+qxkpz6e6Pm4zhuOOd1Sq4f\n",
       "XEMqa/jTRmkCu67nXMcfRfdbUDeDQtJiqvZ4vpncofliSQXpM0qUKwoZ2e/rBfgF0xZRBsRkoUUA\n",
       "AAAASUVORK5CYII=\n",
       "\" style=\"display:inline;vertical-align:middle;\" /></a></td></tr>\n",
       "<tr><td>2</td><td>Operation</td><td>operator:&nbsp;5<br>operands:&nbsp;6<br></td><td><a class=\"ProveItLink\" href=\"../7ef71547f87fa9cc26b3db442466b8307b39b2f00/expr.ipynb\"><img src=\"data:image/png;base64,iVBORw0KGgoAAAANSUhEUgAAABcAAAAUBAMAAACUkLs9AAAAMFBMVEX////c3NyqqqqYmJhUVFR2\n",
       "dnbu7u66urrMzMxmZmZEREQQEBAyMjIiIiKIiIgAAAB7fvZ0AAAAAXRSTlMAQObYZgAAAJJJREFU\n",
       "GNNjYICC1KduDHAwmWEOguPJYM+ABGKQ2GzbkdivAkAU353ze1cC6VlAzFFfwBb/BMiQV2BgMHBm\n",
       "YGD6wvidQd6AgTlhA1B0CttFBusEBk5GByAnj6HvqSMDQyZ7AMLIViYDJA47EieLA0kZT4IDgsMc\n",
       "AOKwQXmL64BEbQKEw+L1jK1qGUxh5/3f7hAWAEuSH0rgFzQbAAAAAElFTkSuQmCC\n",
       "\" style=\"display:inline;vertical-align:middle;\" /></a></td></tr>\n",
       "<tr><td>3</td><td>Literal</td><td></td><td><a class=\"ProveItLink\" href=\"../../../numeral/__pv_it/77d407a64829263cdc16415becd4c2293f77a4bf0/expr.ipynb\"><img src=\"data:image/png;base64,iVBORw0KGgoAAAANSUhEUgAAAAkAAAAOBAMAAAAPuiubAAAAMFBMVEX///+YmJh2dnbMzMwQEBAi\n",
       "IiLu7u6qqqqIiIhUVFS6urpEREQyMjJmZmbc3NwAAACOMKdoAAAAAXRSTlMAQObYZgAAAFBJREFU\n",
       "CNdj4Lt7egEDw0sGju8MDNMYGOIZGFwSGOYvYDifwHAfKAEUSQASzJ9ATJ4NIPI2iOCYACJrGfge\n",
       "MDBfYGB8wPBUSekqUPH//18ZAIliFhc3zESNAAAAAElFTkSuQmCC\n",
       "\" style=\"display:inline;vertical-align:middle;\" /></a></td></tr>\n",
       "<tr><td>4</td><td>Literal</td><td></td><td><a class=\"ProveItLink\" href=\"../../../numeral/__pv_it/23412ce59ea7e77353d2f9225e02248e73651ca00/expr.ipynb\"><img src=\"data:image/png;base64,iVBORw0KGgoAAAANSUhEUgAAAAoAAAAPBAMAAAAv0UM9AAAALVBMVEX///9mZmaqqqru7u52dnYy\n",
       "MjKYmJjc3NwQEBCIiIhEREQiIiJUVFTMzMwAAACUDTcXAAAAAXRSTlMAQObYZgAAAD5JREFUCNdj\n",
       "YGBguMMAArtABGcXiCyLApEOIJKtAERaMoBIBxDJdAFEmjCASJ0zZ16cBCkF64KQPu/EwBwGACv6\n",
       "DSRgin9qAAAAAElFTkSuQmCC\n",
       "\" style=\"display:inline;vertical-align:middle;\" /></a></td></tr>\n",
       "<tr><td>5</td><td>Literal</td><td></td><td><a class=\"ProveItLink\" href=\"../../../exponentiation/__pv_it/deb2bf23cbccdd6e6791e1b35b5b9794ce12dbd50/expr.ipynb\"><img src=\"data:image/png;base64,iVBORw0KGgoAAAANSUhEUgAAACgAAAASBAMAAADbMYGVAAAAMFBMVEX///8QEBAiIiKYmJjc3Nzu\n",
       "7u7MzMx2dnZmZma6urpERESqqqoyMjJUVFSIiIgAAAAoDOMTAAAAAXRSTlMAQObYZgAAAOBJREFU\n",
       "GNNjYGB4+//u3Tt/GNAASGAXmhjnPyDBgSbI/g1IxKEJ8nxgYGdgQRPkX8BgDKRY6q7s62OYvmze\n",
       "2wAgb/7ZO1+AVDiDkYEQQ0HTBr4DQF59AgOIKmB4z7CNbcNZBu6vQN55kEACQwDDLQYGVobfDHwg\n",
       "fb8YGBxYHwAZciD3fWXg+gB1JjvQcJZvQIXsCgz8F6DO9GBgMOH7wPCUgaeBwd4B7EwGNjUG7s9c\n",
       "AiwPgO5jkWRgiF3/9+5dfQUG1nWl5Y+B7pv+1gE9bBhqGLCAE1jEWH9jEbT5A3IwAC4sP/1L6Qlu\n",
       "AAAAAElFTkSuQmCC\n",
       "\" style=\"display:inline;vertical-align:middle;\" /></a></td></tr>\n",
       "<tr><td>6</td><td>ExprTuple</td><td>7, 8</td><td><a class=\"ProveItLink\" href=\"../0736190636db428f8a7c6e653a85d0c03823a4f10/expr.ipynb\"><img src=\"data:image/png;base64,iVBORw0KGgoAAAANSUhEUgAAAC8AAAAVBAMAAAAk6KpUAAAAMFBMVEX////c3NwiIiJERESqqqqY\n",
       "mJh2dnZmZmYQEBDu7u4yMjJUVFTMzMyIiIi6uroAAAAs73DqAAAAAXRSTlMAQObYZgAAAShJREFU\n",
       "KM9jYMAJ+C5gisWBiNNAzKu1vskcIsaTluzAwH4AyFoJ5Lx/wJl/GyIhzsD3l4FhAVAx0KSArQwM\n",
       "LL8hEvkODJ8YGMIYGDgmMLBOaACKVEMk/MESMxgYXjEwsDNuAIrMhbsGaBSzA0MZA8N0vgRkJ3EB\n",
       "lbEVMCxlYDjGEoAkfmw1kGBZwNAHZPIhSzDwAoX4Ghj+MTBM5kExiqF/AgPPB5AE14QNCFEZBgb7\n",
       "AJBECwMDawJIghMszvl/AkgCaJQpkGf6Fkg8mgCW+sXAoC/AwLqAIR3I4d58k/OxJcN8BSD7KgPf\n",
       "N7BzH4GUHdf/sQ/o3Y8gh5ZXOQCtfcDAIYCw+CGcNQNkM0IC4Z1cSLBjSHACg51BGuFlOIsbZD4j\n",
       "lqi9w8AAALbHRdYWLCV8AAAAAElFTkSuQmCC\n",
       "\" style=\"display:inline;vertical-align:middle;\" /></a></td></tr>\n",
       "<tr><td>7</td><td>Literal</td><td></td><td><a class=\"ProveItLink\" href=\"../../../sets/complex/__pv_it/c357845f93a5a2d9f649129d299e7ec28dda4b960/expr.ipynb\"><img src=\"data:image/png;base64,iVBORw0KGgoAAAANSUhEUgAAAA8AAAAOBAMAAAACpFvcAAAAMFBMVEX////c3NyqqqqYmJhUVFR2\n",
       "dnbu7u66urrMzMxmZmZEREQQEBAyMjIiIiKIiIgAAAB7fvZ0AAAAAXRSTlMAQObYZgAAAGVJREFU\n",
       "CNdjYGDgu3N+70oGBgaO+gK2+CdAhoEzAwPTFwYG5oQNQN4UBgZORgcgI4+BIZM9gAEMWpkMoAx2\n",
       "KCOLAyrFk+AAYTAHgBhsQLy4DkjUJjAwsHg9Y6taBpLsvP/bnYEBACkBFGQfBv8RAAAAAElFTkSu\n",
       "QmCC\n",
       "\" style=\"display:inline;vertical-align:middle;\" /></a></td></tr>\n",
       "<tr><td>8</td><td>Literal</td><td></td><td><a class=\"ProveItLink\" href=\"../../../numeral/__pv_it/9176d93c83afa2c995b614976e3cb49207102fa70/expr.ipynb\"><img src=\"data:image/png;base64,iVBORw0KGgoAAAANSUhEUgAAAAoAAAAOBAMAAADkjZCYAAAAMFBMVEX///+YmJju7u4QEBBUVFQy\n",
       "MjIiIiKIiIi6urpmZmbc3NyqqqpERER2dnbMzMwAAAB0GlNiAAAAAXRSTlMAQObYZgAAAE1JREFU\n",
       "CNdjYHh79zQDA9cEhv4CBt7fDPwJDNxgEgiAIkAQAsR8Vx1ATIbiBhDJ/ImB6wEDz0cG/U8gkj+A\n",
       "ge0XA7sAQ/8FBoadM6MZAEflFACalZ/OAAAAAElFTkSuQmCC\n",
       "\" style=\"display:inline;vertical-align:middle;\" /></a></td></tr>\n",
       "</table>\n"
      ],
      "text/plain": [
       "0. ((2 , 3 , 4) , Complexes^{3})\n",
       "   core type: ExprTuple\n",
       "   sub-expressions: 1, 2\n",
       "1. (2 , 3 , 4)\n",
       "   core type: ExprTuple\n",
       "   sub-expressions: 3, 8, 4\n",
       "2. Complexes^{3}\n",
       "   core type: Operation\n",
       "   operator: 5\n",
       "   operands: 6\n",
       "3. 2\n",
       "   core type: Literal\n",
       "   sub-expressions: \n",
       "4. 4\n",
       "   core type: Literal\n",
       "   sub-expressions: \n",
       "5. Exp\n",
       "   core type: Literal\n",
       "   sub-expressions: \n",
       "6. (Complexes , 3)\n",
       "   core type: ExprTuple\n",
       "   sub-expressions: 7, 8\n",
       "7. Complexes\n",
       "   core type: Literal\n",
       "   sub-expressions: \n",
       "8. 3\n",
       "   core type: Literal\n",
       "   sub-expressions: "
      ]
     },
     "execution_count": 4,
     "metadata": {},
     "output_type": "execute_result"
    }
   ],
   "source": [
    "# display the expression information\n",
    "expr.exprInfo()"
   ]
  },
  {
   "cell_type": "code",
   "execution_count": null,
   "metadata": {},
   "outputs": [],
   "source": []
  }
 ],
 "metadata": {
  "kernelspec": {
   "display_name": "Python 3",
   "language": "python",
   "name": "python3"
  }
 },
 "nbformat": 4,
 "nbformat_minor": 0
}
