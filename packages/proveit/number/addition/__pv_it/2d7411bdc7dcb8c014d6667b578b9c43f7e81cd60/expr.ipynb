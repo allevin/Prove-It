{
 "cells": [
  {
   "cell_type": "markdown",
   "metadata": {},
   "source": [
    "Expression of type <a class=\"ProveItLink\" href=\"../../../../../../doc/html/api/proveit.number.Add.html\">Add</a>\n",
    "=======================\n",
    "# from context <a class=\"ProveItLink\" href=\"../../_context_.ipynb\">proveit.number.addition</a>"
   ]
  },
  {
   "cell_type": "code",
   "execution_count": 1,
   "metadata": {},
   "outputs": [],
   "source": [
    "# import Expression classes needed to build the expression\n",
    "from proveit._common_ import a, b, c\n",
    "from proveit.number import Add, one, three, two"
   ]
  },
  {
   "cell_type": "code",
   "execution_count": 2,
   "metadata": {},
   "outputs": [
    {
     "data": {
      "text/html": [
       "<strong id=\"expr\">expr:</strong> <a class=\"ProveItLink\" href=\"expr.ipynb\"><img src=\"data:image/png;base64,iVBORw0KGgoAAAANSUhEUgAAAUUAAAAQBAMAAABzbnCeAAAAMFBMVEX///8yMjKqqqrMzMzu7u4i\n",
       "IiJmZmaYmJhEREQQEBC6urp2dnaIiIhUVFTc3NwAAAD87Fq/AAAAAXRSTlMAQObYZgAAAiFJREFU\n",
       "SMe91b9LG2EcBvDnkvTUSzy5QegizeQkxLGly42KxDgJnWKGaqUU8ydkKDiKg0NtqVkFB8FFjOBB\n",
       "i4KkkIo4KQZEt2KM8QcopHdyb+79vvfeSQrpDUI+vN/H5968dwE6dn0WPuvTL4tU0kt4BqKlzWTn\n",
       "GmKkIcAfJOoCDeAZuID2SGDc939i1baBpaRPGsKSQyArDNURACxlJ4kbkj7k6xix2oZWSqIhLPli\n",
       "4rRIRBOXtIClpP5zx1cm5mjH+ISwpAVel6fvWj/e+k7dEzYbK5WHaaWx7R9yCO5oX1mTiHL8Ky8H\n",
       "r6NSsf+sVrtr1D1hs2+KygSB6DL65RDWMfpAJVPAtRxaKW+dp0i/g1ogzok7G/uGbnrDoxbm5RDW\n",
       "UaGxSJn4KgdvHxPLQG8NLyzinLizvTXx+J0GQljHD4LkgFs5cM/Giom+AjLOWcsZxjvDcHaWiWoY\n",
       "/YuGUXkSEMC9HLgUtyO3BImKIJPQ7iTApZwBC3lcWkjB5Ltz4t7fpSVsm/4YCCH7OAi9SqQOtSEH\n",
       "NyXWNJ2OmSR+R4b5dE7c2T77MNLzaN9tlxyCO0an0EU7XqNnXQ4s5cp+F1Sh5COTceKcsPM4hTh9\n",
       "9xwBG3II7nheKr2ncoBPAcBS9qA9OC/D/df79Ln2hM1+LP+koG6XTTmwFHX2aobOZJvNGyrp3XwA\n",
       "sJTIdC7Zwd+ZkCX/kuJeaz7RrLbBn+Jf0mbKX6nU7ZCSpdGRAAAAAElFTkSuQmCC\n",
       "\" style=\"display:inline;vertical-align:middle;\" /></a><br>"
      ],
      "text/plain": [
       "expr: a + a + c + c + c + 1 + 2 + b + b + 3"
      ]
     },
     "execution_count": 2,
     "metadata": {},
     "output_type": "execute_result"
    }
   ],
   "source": [
    "# build up the expression from sub-expressions\n",
    "expr = Add(a, a, c, c, c, one, two, b, b, three)"
   ]
  },
  {
   "cell_type": "code",
   "execution_count": 3,
   "metadata": {},
   "outputs": [
    {
     "name": "stdout",
     "output_type": "stream",
     "text": [
      "Passed sanity check: built 'expr' is the same as the stored Expression.\n"
     ]
    }
   ],
   "source": [
    "# check that the built expression is the same as the stored expression\n",
    "%check_expr"
   ]
  },
  {
   "cell_type": "code",
   "execution_count": 4,
   "metadata": {},
   "outputs": [
    {
     "data": {
      "text/html": [
       "<table><tr><th>&nbsp;</th><th>core type</th><th>sub-expressions</th><th>expression</th></tr>\n",
       "<tr><td>0</td><td>Operation</td><td>operator:&nbsp;1<br>operands:&nbsp;2<br></td><td><a class=\"ProveItLink\" href=\"expr.ipynb\"><img src=\"data:image/png;base64,iVBORw0KGgoAAAANSUhEUgAAAUUAAAAQBAMAAABzbnCeAAAAMFBMVEX///8yMjKqqqrMzMzu7u4i\n",
       "IiJmZmaYmJhEREQQEBC6urp2dnaIiIhUVFTc3NwAAAD87Fq/AAAAAXRSTlMAQObYZgAAAiFJREFU\n",
       "SMe91b9LG2EcBvDnkvTUSzy5QegizeQkxLGly42KxDgJnWKGaqUU8ydkKDiKg0NtqVkFB8FFjOBB\n",
       "i4KkkIo4KQZEt2KM8QcopHdyb+79vvfeSQrpDUI+vN/H5968dwE6dn0WPuvTL4tU0kt4BqKlzWTn\n",
       "GmKkIcAfJOoCDeAZuID2SGDc939i1baBpaRPGsKSQyArDNURACxlJ4kbkj7k6xix2oZWSqIhLPli\n",
       "4rRIRBOXtIClpP5zx1cm5mjH+ISwpAVel6fvWj/e+k7dEzYbK5WHaaWx7R9yCO5oX1mTiHL8Ky8H\n",
       "r6NSsf+sVrtr1D1hs2+KygSB6DL65RDWMfpAJVPAtRxaKW+dp0i/g1ogzok7G/uGbnrDoxbm5RDW\n",
       "UaGxSJn4KgdvHxPLQG8NLyzinLizvTXx+J0GQljHD4LkgFs5cM/Giom+AjLOWcsZxjvDcHaWiWoY\n",
       "/YuGUXkSEMC9HLgUtyO3BImKIJPQ7iTApZwBC3lcWkjB5Ltz4t7fpSVsm/4YCCH7OAi9SqQOtSEH\n",
       "NyXWNJ2OmSR+R4b5dE7c2T77MNLzaN9tlxyCO0an0EU7XqNnXQ4s5cp+F1Sh5COTceKcsPM4hTh9\n",
       "9xwBG3II7nheKr2ncoBPAcBS9qA9OC/D/df79Ln2hM1+LP+koG6XTTmwFHX2aobOZJvNGyrp3XwA\n",
       "sJTIdC7Zwd+ZkCX/kuJeaz7RrLbBn+Jf0mbKX6nU7ZCSpdGRAAAAAElFTkSuQmCC\n",
       "\" style=\"display:inline;vertical-align:middle;\" /></a></td></tr>\n",
       "<tr><td>1</td><td>Literal</td><td></td><td><a class=\"ProveItLink\" href=\"../3e6688136fa3c7aefbebe51301b7c3ebf0b69c440/expr.ipynb\"><img src=\"data:image/png;base64,iVBORw0KGgoAAAANSUhEUgAAAA4AAAAOBAMAAADtZjDiAAAAJFBMVEX///+6urpUVFQQEBAiIiIy\n",
       "MjJmZmaIiIiqqqrc3Nzu7u4AAACgHpL+AAAAAXRSTlMAQObYZgAAAB5JREFUCNdjYGBgWMkAAe2k\n",
       "0Kmhoc6hoUGk6BMHYgAHOwjcado9fwAAAABJRU5ErkJggg==\n",
       "\" style=\"display:inline;vertical-align:middle;\" /></a></td></tr>\n",
       "<tr><td>2</td><td>ExprTuple</td><td>3, 3, 4, 4, 4, 5, 6, 7, 7, 8</td><td><a class=\"ProveItLink\" href=\"../25404e58ca3e92e8b70f30be84d73e342ddc4fff0/expr.ipynb\"><img src=\"data:image/png;base64,iVBORw0KGgoAAAANSUhEUgAAAMEAAAAVBAMAAAANw5eWAAAAMFBMVEX////c3NwiIiJERESqqqqY\n",
       "mJh2dnZmZmYQEBDu7u4yMjJUVFTMzMyIiIi6uroAAAAs73DqAAAAAXRSTlMAQObYZgAAAllJREFU\n",
       "SMe1lT9s00AUxr+0dhwnjmOxMIBEto7JwsCEN8ZmYkQVSGEhEIFKURkKCFVMraVKKFKGWCAG1IEO\n",
       "IP4paiQkFpYsiAFaFSbE0pDSolYt4e7eXWzJ9hBQPPh+vvfuvrv33p2B8T92d4yTX+CvD/8w8Ixs\n",
       "U3OPtwSYr4qyq3lPglW95MLoMHo6usDKvoQTyP8iyq4p46psj8M+AnwgP3qQmm+VwmugRFRwlVVK\n",
       "4pqLPnAeyHij7yGvFB54WKcwbatpbGWbFgoN4Af+Q+GZhwVSuKhs6WJQQyxKky5u8oS1r96VqRsS\n",
       "Hta+JMFQgT0lWvzqxguZkPbnCoLcpOt4wvC7M9mjzoCsJTxKgLCCtUe1tINCR1CrjEMyvec513ws\n",
       "sYXvwijTFoaERhenEyCskCV3bR+ZGQq/h0UVTDa3fQd/gFwPE1RRAWFdzRGFsMINagwfhbqgeeC3\n",
       "Mi57sHpcoVBGi7YYEHaUWxRCCnl5DCbq2KbwT8HeFXASOFvhCveBU11MQyQsoNSROrYRCCucQ8qR\n",
       "x2HBk8fBEFZz4HEFFiUW2paLN1rHRJjAFqILsSgIBeFk1aE7nFiaF6nrkCeEex2wOnOg+7jMslXR\n",
       "ptJoFcOEl8AVsx8LQkE4HatWrwvKucYadT3HbQivj7D3RLV+44dg890mGj/DBKO24ZnLTizcOpgl\n",
       "p9Jg0BdktmdBXc1PFQgvbW6e3STZLWQcFdOviJDtJEKce3QcvzX0GfVRQYT0ZIhzj45DLXx7j0PB\n",
       "9MUdL0swKMYhdZMhxj1mXI6HKzXOvyi7Kv8COyvRHWx4FroAAAAASUVORK5CYII=\n",
       "\" style=\"display:inline;vertical-align:middle;\" /></a></td></tr>\n",
       "<tr><td>3</td><td>Variable</td><td></td><td><a class=\"ProveItLink\" href=\"../../../../__pv_it/07527342713064c87612d00d8557c53d53d5324a0/expr.ipynb\"><img src=\"data:image/png;base64,iVBORw0KGgoAAAANSUhEUgAAAAsAAAAJBAMAAAAWSsseAAAAMFBMVEX///8yMjKqqqrMzMzu7u4i\n",
       "IiJmZmaYmJhEREQQEBC6urp2dnaIiIhUVFTc3NwAAAD87Fq/AAAAAXRSTlMAQObYZgAAAEhJREFU\n",
       "CNdjYOC7s2seAwPDygccHxgY+L4zsDUwMPB+YGA9wMDA38Dgb8DA8P4Agz6DA4O/AsNFJgMGxgKm\n",
       "MG6gyjunLE4xAAAZTBA5TB6DCwAAAABJRU5ErkJggg==\n",
       "\" style=\"display:inline;vertical-align:middle;\" /></a></td></tr>\n",
       "<tr><td>4</td><td>Variable</td><td></td><td><a class=\"ProveItLink\" href=\"../../../../__pv_it/cbdfda466482236edba0ce44ac7ef39cda0af7a40/expr.ipynb\"><img src=\"data:image/png;base64,iVBORw0KGgoAAAANSUhEUgAAAAkAAAAJBAMAAAASvxsjAAAALVBMVEX///9mZmbc3NxUVFSYmJhE\n",
       "REQiIiIyMjK6uroQEBDMzMyIiIh2dnbu7u4AAABgFDGoAAAAAXRSTlMAQObYZgAAADZJREFUCNdj\n",
       "YOA9s3sBA8PKBvYEBt7ZDKwODMwPGICALwBE6m0Asx0YGIDiAgw8QJUyu/cyAAAmuwmycZ8WfQAA\n",
       "AABJRU5ErkJggg==\n",
       "\" style=\"display:inline;vertical-align:middle;\" /></a></td></tr>\n",
       "<tr><td>5</td><td>Literal</td><td></td><td><a class=\"ProveItLink\" href=\"../../../numeral/__pv_it/9be8badea4c35b9724062cecc501d17a3158d1d20/expr.ipynb\"><img src=\"data:image/png;base64,iVBORw0KGgoAAAANSUhEUgAAAAgAAAAPBAMAAAArJJMAAAAAHlBMVEX///+YmJgyMjIQEBBmZmaI\n",
       "iIhUVFTu7u5EREQAAAAw+MI4AAAAAXRSTlMAQObYZgAAACFJREFUCNdjYGBoZ2BgqJjOwFCWBiQY\n",
       "WEklWJwnOTKAAACjEQo8HvEr3AAAAABJRU5ErkJggg==\n",
       "\" style=\"display:inline;vertical-align:middle;\" /></a></td></tr>\n",
       "<tr><td>6</td><td>Literal</td><td></td><td><a class=\"ProveItLink\" href=\"../../../numeral/__pv_it/77d407a64829263cdc16415becd4c2293f77a4bf0/expr.ipynb\"><img src=\"data:image/png;base64,iVBORw0KGgoAAAANSUhEUgAAAAkAAAAOBAMAAAAPuiubAAAAMFBMVEX///+YmJh2dnbMzMwQEBAi\n",
       "IiLu7u6qqqqIiIhUVFS6urpEREQyMjJmZmbc3NwAAACOMKdoAAAAAXRSTlMAQObYZgAAAFBJREFU\n",
       "CNdj4Lt7egEDw0sGju8MDNMYGOIZGFwSGOYvYDifwHAfKAEUSQASzJ9ATJ4NIPI2iOCYACJrGfge\n",
       "MDBfYGB8wPBUSekqUPH//18ZAIliFhc3zESNAAAAAElFTkSuQmCC\n",
       "\" style=\"display:inline;vertical-align:middle;\" /></a></td></tr>\n",
       "<tr><td>7</td><td>Variable</td><td></td><td><a class=\"ProveItLink\" href=\"../../../../__pv_it/6840a4fa6c106149dc16a131294d0c5e44f1b0480/expr.ipynb\"><img src=\"data:image/png;base64,iVBORw0KGgoAAAANSUhEUgAAAAkAAAAOBAMAAAAPuiubAAAALVBMVEX///9mZmbMzMxERESYmJiI\n",
       "iIh2dna6urqqqqoyMjIiIiIQEBBUVFTu7u4AAAD9S1JeAAAAAXRSTlMAQObYZgAAAE1JREFUCNdj\n",
       "4D29gAEIOA+ASL4GEFl3AURmgQiGOaFHGBh4HzPwKTBwvGXgTmBgnMDAJ8DAJcBQ5wBSLncBJLWN\n",
       "gYGngRFoBO9REQYGAGrcDtUkVqASAAAAAElFTkSuQmCC\n",
       "\" style=\"display:inline;vertical-align:middle;\" /></a></td></tr>\n",
       "<tr><td>8</td><td>Literal</td><td></td><td><a class=\"ProveItLink\" href=\"../../../numeral/__pv_it/9176d93c83afa2c995b614976e3cb49207102fa70/expr.ipynb\"><img src=\"data:image/png;base64,iVBORw0KGgoAAAANSUhEUgAAAAoAAAAOBAMAAADkjZCYAAAAMFBMVEX///+YmJju7u4QEBBUVFQy\n",
       "MjIiIiKIiIi6urpmZmbc3NyqqqpERER2dnbMzMwAAAB0GlNiAAAAAXRSTlMAQObYZgAAAE1JREFU\n",
       "CNdjYHh79zQDA9cEhv4CBt7fDPwJDNxgEgiAIkAQAsR8Vx1ATIbiBhDJ/ImB6wEDz0cG/U8gkj+A\n",
       "ge0XA7sAQ/8FBoadM6MZAEflFACalZ/OAAAAAElFTkSuQmCC\n",
       "\" style=\"display:inline;vertical-align:middle;\" /></a></td></tr>\n",
       "</table>\n"
      ],
      "text/plain": [
       "0. a + a + c + c + c + 1 + 2 + b + b + 3\n",
       "   core type: Operation\n",
       "   operator: 1\n",
       "   operands: 2\n",
       "1. +\n",
       "   core type: Literal\n",
       "   sub-expressions: \n",
       "2. (a , a , c , c , c , 1 , 2 , b , b , 3)\n",
       "   core type: ExprTuple\n",
       "   sub-expressions: 3, 3, 4, 4, 4, 5, 6, 7, 7, 8\n",
       "3. a\n",
       "   core type: Variable\n",
       "   sub-expressions: \n",
       "4. c\n",
       "   core type: Variable\n",
       "   sub-expressions: \n",
       "5. 1\n",
       "   core type: Literal\n",
       "   sub-expressions: \n",
       "6. 2\n",
       "   core type: Literal\n",
       "   sub-expressions: \n",
       "7. b\n",
       "   core type: Variable\n",
       "   sub-expressions: \n",
       "8. 3\n",
       "   core type: Literal\n",
       "   sub-expressions: "
      ]
     },
     "execution_count": 4,
     "metadata": {},
     "output_type": "execute_result"
    }
   ],
   "source": [
    "# display the expression information\n",
    "expr.exprInfo()"
   ]
  },
  {
   "cell_type": "code",
   "execution_count": null,
   "metadata": {},
   "outputs": [],
   "source": []
  }
 ],
 "metadata": {
  "kernelspec": {
   "display_name": "Python 3",
   "language": "python",
   "name": "python3"
  }
 },
 "nbformat": 4,
 "nbformat_minor": 0
}
