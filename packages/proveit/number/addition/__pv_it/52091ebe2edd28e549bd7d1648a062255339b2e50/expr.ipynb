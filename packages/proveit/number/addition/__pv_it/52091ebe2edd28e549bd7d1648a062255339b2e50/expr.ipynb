{
 "cells": [
  {
   "cell_type": "markdown",
   "metadata": {},
   "source": [
    "Expression of type <a class=\"ProveItLink\" href=\"../../../../../../doc/html/api/proveit.logic.InSet.html\">InSet</a>\n",
    "=======================\n",
    "# from context <a class=\"ProveItLink\" href=\"../../_context_.ipynb\">proveit.number.addition</a>"
   ]
  },
  {
   "cell_type": "code",
   "execution_count": 1,
   "metadata": {},
   "outputs": [],
   "source": [
    "# import Expression classes needed to build the expression\n",
    "from proveit.logic import InSet\n",
    "from proveit.number import Complexes, Exp, one, two"
   ]
  },
  {
   "cell_type": "code",
   "execution_count": 2,
   "metadata": {},
   "outputs": [
    {
     "data": {
      "text/html": [
       "<strong id=\"expr\">expr:</strong> <a class=\"ProveItLink\" href=\"expr.ipynb\"><img src=\"data:image/png;base64,iVBORw0KGgoAAAANSUhEUgAAAFwAAAAZBAMAAABOVFS0AAAAMFBMVEX////c3NwiIiJERESqqqqY\n",
       "mJh2dnZmZmYQEBDu7u4yMjJUVFTMzMyIiIi6uroAAAAs73DqAAAAAXRSTlMAQObYZgAAAXxJREFU\n",
       "OMtjYCAepFtPIEE1+wT2BSQoZxJg/EOCcg4Hzn8MpACWnwwMfBfQBONwKudKYGA4DaSZ4V62BHrp\n",
       "AIa6S6t+KBcwMGQDmSsZGDjtYconA61jwPD/uX8M0/5uYGAFGs57gYFz936o8tm7QcrD0FSzcgcw\n",
       "MPhvYHjGcIaBA6TyPsx0XpDyGVDO3EVKWiA6kgMU6ht4TFx2MrxiwFDO7ABm8yyFihZIAwnOCxz/\n",
       "/39gKMNUzlYAZgtDBTkLniEcthRTOQvEr4ZQMZ4EV4TyPkzlfA1gQw3gyp8ilP/DVM7zAcTka1JS\n",
       "AnuV0+AYEcp5NsCUrORGKG/B6RgFmJIwsHKIElOY8glw5awQr26FKWeOAyYrPk1IFoEq5/yEHpCT\n",
       "HsDU77adMM8YYvojIC7vXx7A2S8AjLqKX6XAhAdRx7gcltZ4iv53Q/VyCEDF+GAMeCJg2QVJBCjp\n",
       "JwHGgAvl4ssiK9GVc+LNwNJQGp6puAXwKWdEz3x38CgGAMbqbwNgtI5LAAAAAElFTkSuQmCC\n",
       "\" style=\"display:inline;vertical-align:middle;\" /></a><br>"
      ],
      "text/plain": [
       "expr: (1 , 1) in Complexes^{2}"
      ]
     },
     "execution_count": 2,
     "metadata": {},
     "output_type": "execute_result"
    }
   ],
   "source": [
    "# build up the expression from sub-expressions\n",
    "expr = InSet([one, one], Exp(Complexes, two))"
   ]
  },
  {
   "cell_type": "code",
   "execution_count": 3,
   "metadata": {},
   "outputs": [
    {
     "name": "stdout",
     "output_type": "stream",
     "text": [
      "Passed sanity check: built 'expr' is the same as the stored Expression.\n"
     ]
    }
   ],
   "source": [
    "# check that the built expression is the same as the stored expression\n",
    "%check_expr"
   ]
  },
  {
   "cell_type": "code",
   "execution_count": 4,
   "metadata": {},
   "outputs": [
    {
     "data": {
      "text/html": [
       "<table><tr><th>&nbsp;</th><th>core type</th><th>sub-expressions</th><th>expression</th></tr>\n",
       "<tr><td>0</td><td>Operation</td><td>operator:&nbsp;1<br>operands:&nbsp;2<br></td><td><a class=\"ProveItLink\" href=\"expr.ipynb\"><img src=\"data:image/png;base64,iVBORw0KGgoAAAANSUhEUgAAAFwAAAAZBAMAAABOVFS0AAAAMFBMVEX////c3NwiIiJERESqqqqY\n",
       "mJh2dnZmZmYQEBDu7u4yMjJUVFTMzMyIiIi6uroAAAAs73DqAAAAAXRSTlMAQObYZgAAAXxJREFU\n",
       "OMtjYCAepFtPIEE1+wT2BSQoZxJg/EOCcg4Hzn8MpACWnwwMfBfQBONwKudKYGA4DaSZ4V62BHrp\n",
       "AIa6S6t+KBcwMGQDmSsZGDjtYconA61jwPD/uX8M0/5uYGAFGs57gYFz936o8tm7QcrD0FSzcgcw\n",
       "MPhvYHjGcIaBA6TyPsx0XpDyGVDO3EVKWiA6kgMU6ht4TFx2MrxiwFDO7ABm8yyFihZIAwnOCxz/\n",
       "/39gKMNUzlYAZgtDBTkLniEcthRTOQvEr4ZQMZ4EV4TyPkzlfA1gQw3gyp8ilP/DVM7zAcTka1JS\n",
       "AnuV0+AYEcp5NsCUrORGKG/B6RgFmJIwsHKIElOY8glw5awQr26FKWeOAyYrPk1IFoEq5/yEHpCT\n",
       "HsDU77adMM8YYvojIC7vXx7A2S8AjLqKX6XAhAdRx7gcltZ4iv53Q/VyCEDF+GAMeCJg2QVJBCjp\n",
       "JwHGgAvl4ssiK9GVc+LNwNJQGp6puAXwKWdEz3x38CgGAMbqbwNgtI5LAAAAAElFTkSuQmCC\n",
       "\" style=\"display:inline;vertical-align:middle;\" /></a></td></tr>\n",
       "<tr><td>1</td><td>Literal</td><td></td><td><a class=\"ProveItLink\" href=\"../../../../logic/set_theory/membership/__pv_it/088cbc857536a28d4119ad9639a84270ccb0545d0/expr.ipynb\"><img src=\"data:image/png;base64,iVBORw0KGgoAAAANSUhEUgAAAAwAAAAMBAMAAACkW0HUAAAALVBMVEX///+qqqpmZmZUVFQQEBC6\n",
       "urpERETc3NyYmJjMzMwiIiIyMjKIiIju7u4AAACYsrA9AAAAAXRSTlMAQObYZgAAADxJREFUCNdj\n",
       "YOA9vWrVBgaG2b0MQMCeCyIZ2ArA1DUwyRCyahVIyWQI7xaEYm4AU7xLIdxqTQgtvGvVBgCkcQ7e\n",
       "geM/tQAAAABJRU5ErkJggg==\n",
       "\" style=\"display:inline;vertical-align:middle;\" /></a></td></tr>\n",
       "<tr><td>2</td><td>ExprTuple</td><td>3, 4</td><td><a class=\"ProveItLink\" href=\"../4121f54909b2a69b226bcf14296c90af970a6fc80/expr.ipynb\"><img src=\"data:image/png;base64,iVBORw0KGgoAAAANSUhEUgAAAGAAAAAcBAMAAABsVqexAAAAMFBMVEX///+qqqp2dnYiIiJERESI\n",
       "iIhmZmYQEBDc3NyYmJgyMjLu7u5UVFTMzMy6uroAAACGxKilAAAAAXRSTlMAQObYZgAAAdFJREFU\n",
       "OMuVVDtIA0EQfWp+5+Wiltp4lZWFhYggggEtBMEDCxvBoGAjQuzFXGElKaJYKUiqgB/ksLTQFBb+\n",
       "QLH2hxaihUZEFMTE2cvu5XI59LKwN+8x85jZ2dkDvK62IQPVrIARSHP44klQp4d+oDKkZD0Jgo1y\n",
       "HlcM7XktreYbfo3sMe2I5nBKd5WCeiqoGwjFCbNUPisTQzO2yJHNz84Y0E5wjE5PEFuAPCwEJqov\n",
       "xd/ksfuRhcROfGAgSMmpNPnsnAuKyHQXqwungNYs7nFNvUrhlnWAxY5bJTEkxwVbC7JbyCrRplOy\n",
       "fRgl+owKAaKCxZIsrRYsFHKULocTohMugjZxoti97fyRbwyR2XARtHCiqM02gfKDDJl5F8GjJXiy\n",
       "CUJ5dJHJuwhuRUl9lzaB/PavAFvh8gzbZGb/KAnLpoA7aWIPyQyKMKMkWBVhvnUatEgP79IXRkQL\n",
       "KUx+L29rkZ8NGPv9PAPdwyuZB9pTiUxKTugcATtMYHJlsjAnhrc2jYYLGg1d3ItutSNezsWIawir\n",
       "tkmTLE+tVs75OtChdBTH2yHYg6tghU9ZkvPSwztycL56aS+y9jo9/gvXZy2x11ajev85LZjfJe+C\n",
       "aVS/fgFizoPS6fDVHwAAAABJRU5ErkJggg==\n",
       "\" style=\"display:inline;vertical-align:middle;\" /></a></td></tr>\n",
       "<tr><td>3</td><td>ExprTuple</td><td>5, 5</td><td><a class=\"ProveItLink\" href=\"../71c9c782a9b8c913a0129f505682fe99210fc82a0/expr.ipynb\"><img src=\"data:image/png;base64,iVBORw0KGgoAAAANSUhEUgAAACkAAAAVBAMAAAAp9toTAAAAMFBMVEX////c3NwiIiJERESqqqqY\n",
       "mJh2dnZmZmYQEBDu7u4yMjJUVFTMzMyIiIi6uroAAAAs73DqAAAAAXRSTlMAQObYZgAAALpJREFU\n",
       "GNNjYMAO+C6gCcSBiNNAzDwBJmTJwMB+AEivZGDgtIeJTv4JJBYwMPBeYODcvR8qOns3SDSMgYED\n",
       "JHAfppYXJDqDgeEVA4YoswNDGaYoWwHDUkxRlgUMfZiifA0M/zBFeT7gEG3BaoIpTHQCXJR1AUM6\n",
       "VJTzE7LLHgGp8v7lAZz9AsCAqfhVysDA9YCBQwAWojAGyMesCVA2KzyAcyEhiSrKCQxJBmkoBx4l\n",
       "3CCjGNFj6A4DAwBkHj9zZVlc6AAAAABJRU5ErkJggg==\n",
       "\" style=\"display:inline;vertical-align:middle;\" /></a></td></tr>\n",
       "<tr><td>4</td><td>Operation</td><td>operator:&nbsp;6<br>operands:&nbsp;7<br></td><td><a class=\"ProveItLink\" href=\"../e85e9ca78d1a4564103466d9cefc2e310cc417b30/expr.ipynb\"><img src=\"data:image/png;base64,iVBORw0KGgoAAAANSUhEUgAAABcAAAAUBAMAAACUkLs9AAAAMFBMVEX////c3NyqqqqYmJhUVFR2\n",
       "dnbu7u66urrMzMxmZmZEREQQEBAyMjIiIiKIiIgAAAB7fvZ0AAAAAXRSTlMAQObYZgAAAJRJREFU\n",
       "GNNjYIAC1lluDHAwjWEOgnORQb4BztnEkF+AkGLQT0DiHAURfHfO710JNM4ByOaoL2CLf8LAYAqS\n",
       "MHBmYGD6wsAewNHAwJywASgyhaFLSSWBgZMRpDaPYf///wwMmewBCANbmQyQOOxInCwOJGU8CQ4I\n",
       "DnMAiMMG5S2uAxK1UEeyeD1jq1oGU9h5/7c7hAUA0KsgFpNdq2UAAAAASUVORK5CYII=\n",
       "\" style=\"display:inline;vertical-align:middle;\" /></a></td></tr>\n",
       "<tr><td>5</td><td>Literal</td><td></td><td><a class=\"ProveItLink\" href=\"../../../numeral/__pv_it/9be8badea4c35b9724062cecc501d17a3158d1d20/expr.ipynb\"><img src=\"data:image/png;base64,iVBORw0KGgoAAAANSUhEUgAAAAgAAAAPBAMAAAArJJMAAAAAHlBMVEX///+YmJgyMjIQEBBmZmaI\n",
       "iIhUVFTu7u5EREQAAAAw+MI4AAAAAXRSTlMAQObYZgAAACFJREFUCNdjYGBoZ2BgqJjOwFCWBiQY\n",
       "WEklWJwnOTKAAACjEQo8HvEr3AAAAABJRU5ErkJggg==\n",
       "\" style=\"display:inline;vertical-align:middle;\" /></a></td></tr>\n",
       "<tr><td>6</td><td>Literal</td><td></td><td><a class=\"ProveItLink\" href=\"../../../exponentiation/__pv_it/deb2bf23cbccdd6e6791e1b35b5b9794ce12dbd50/expr.ipynb\"><img src=\"data:image/png;base64,iVBORw0KGgoAAAANSUhEUgAAACgAAAASBAMAAADbMYGVAAAAMFBMVEX///8QEBAiIiKYmJjc3Nzu\n",
       "7u7MzMx2dnZmZma6urpERESqqqoyMjJUVFSIiIgAAAAoDOMTAAAAAXRSTlMAQObYZgAAAOBJREFU\n",
       "GNNjYGB4+//u3Tt/GNAASGAXmhjnPyDBgSbI/g1IxKEJ8nxgYGdgQRPkX8BgDKRY6q7s62OYvmze\n",
       "2wAgb/7ZO1+AVDiDkYEQQ0HTBr4DQF59AgOIKmB4z7CNbcNZBu6vQN55kEACQwDDLQYGVobfDHwg\n",
       "fb8YGBxYHwAZciD3fWXg+gB1JjvQcJZvQIXsCgz8F6DO9GBgMOH7wPCUgaeBwd4B7EwGNjUG7s9c\n",
       "AiwPgO5jkWRgiF3/9+5dfQUG1nWl5Y+B7pv+1gE9bBhqGLCAE1jEWH9jEbT5A3IwAC4sP/1L6Qlu\n",
       "AAAAAElFTkSuQmCC\n",
       "\" style=\"display:inline;vertical-align:middle;\" /></a></td></tr>\n",
       "<tr><td>7</td><td>ExprTuple</td><td>8, 9</td><td><a class=\"ProveItLink\" href=\"../2dcb921ccddaae86d4720128269a83fb07af52bb0/expr.ipynb\"><img src=\"data:image/png;base64,iVBORw0KGgoAAAANSUhEUgAAAC8AAAAVBAMAAAAk6KpUAAAAMFBMVEX////c3NwiIiJERESqqqqY\n",
       "mJh2dnZmZmYQEBDu7u4yMjJUVFTMzMyIiIi6uroAAAAs73DqAAAAAXRSTlMAQObYZgAAASlJREFU\n",
       "KM91kT9Iw0AUh79gY5s2KcXVxdklLkXc3Fw7OUqnOolFQQcHizg4yYGDXcSAODg1IA4u2kkHF1fR\n",
       "IdZNEP8gIgjWdz1JGqoHd/zu9717794d/DuK14PenF6uZHrjrY1J41mrBxHZtqgjcJ8jZ/HWgFG8\n",
       "dwgkWDJVTiDzZcAp+DALOYWtGuKsGbClOI9owiNkrVCcPQNaivWIoWlWYLdYTd3JVwzXOYSLTKXf\n",
       "dz+kYsC2gGIK5CekuQbfsOOmUi3rUy8a5FXY53uhAZtgV7V2fsEMVkmnKosuP8nSUT3k1rFL2AHz\n",
       "sikc3zgPU+yPiR6p1ZbQ1+3osEv/8wyar7qJbvdNykbkSknd+1g1deUEJO0smGcfAE7Q+4C4g1gV\n",
       "dH7rj6+9gx9TyUZLshpvbQAAAABJRU5ErkJggg==\n",
       "\" style=\"display:inline;vertical-align:middle;\" /></a></td></tr>\n",
       "<tr><td>8</td><td>Literal</td><td></td><td><a class=\"ProveItLink\" href=\"../../../sets/complex/__pv_it/c357845f93a5a2d9f649129d299e7ec28dda4b960/expr.ipynb\"><img src=\"data:image/png;base64,iVBORw0KGgoAAAANSUhEUgAAAA8AAAAOBAMAAAACpFvcAAAAMFBMVEX////c3NyqqqqYmJhUVFR2\n",
       "dnbu7u66urrMzMxmZmZEREQQEBAyMjIiIiKIiIgAAAB7fvZ0AAAAAXRSTlMAQObYZgAAAGVJREFU\n",
       "CNdjYGDgu3N+70oGBgaO+gK2+CdAhoEzAwPTFwYG5oQNQN4UBgZORgcgI4+BIZM9gAEMWpkMoAx2\n",
       "KCOLAyrFk+AAYTAHgBhsQLy4DkjUJjAwsHg9Y6taBpLsvP/bnYEBACkBFGQfBv8RAAAAAElFTkSu\n",
       "QmCC\n",
       "\" style=\"display:inline;vertical-align:middle;\" /></a></td></tr>\n",
       "<tr><td>9</td><td>Literal</td><td></td><td><a class=\"ProveItLink\" href=\"../../../numeral/__pv_it/77d407a64829263cdc16415becd4c2293f77a4bf0/expr.ipynb\"><img src=\"data:image/png;base64,iVBORw0KGgoAAAANSUhEUgAAAAkAAAAOBAMAAAAPuiubAAAAMFBMVEX///+YmJh2dnbMzMwQEBAi\n",
       "IiLu7u6qqqqIiIhUVFS6urpEREQyMjJmZmbc3NwAAACOMKdoAAAAAXRSTlMAQObYZgAAAFBJREFU\n",
       "CNdj4Lt7egEDw0sGju8MDNMYGOIZGFwSGOYvYDifwHAfKAEUSQASzJ9ATJ4NIPI2iOCYACJrGfge\n",
       "MDBfYGB8wPBUSekqUPH//18ZAIliFhc3zESNAAAAAElFTkSuQmCC\n",
       "\" style=\"display:inline;vertical-align:middle;\" /></a></td></tr>\n",
       "</table>\n"
      ],
      "text/plain": [
       "0. (1 , 1) in Complexes^{2}\n",
       "   core type: Operation\n",
       "   operator: 1\n",
       "   operands: 2\n",
       "1. in\n",
       "   core type: Literal\n",
       "   sub-expressions: \n",
       "2. ((1 , 1) , Complexes^{2})\n",
       "   core type: ExprTuple\n",
       "   sub-expressions: 3, 4\n",
       "3. (1 , 1)\n",
       "   core type: ExprTuple\n",
       "   sub-expressions: 5, 5\n",
       "4. Complexes^{2}\n",
       "   core type: Operation\n",
       "   operator: 6\n",
       "   operands: 7\n",
       "5. 1\n",
       "   core type: Literal\n",
       "   sub-expressions: \n",
       "6. Exp\n",
       "   core type: Literal\n",
       "   sub-expressions: \n",
       "7. (Complexes , 2)\n",
       "   core type: ExprTuple\n",
       "   sub-expressions: 8, 9\n",
       "8. Complexes\n",
       "   core type: Literal\n",
       "   sub-expressions: \n",
       "9. 2\n",
       "   core type: Literal\n",
       "   sub-expressions: "
      ]
     },
     "execution_count": 4,
     "metadata": {},
     "output_type": "execute_result"
    }
   ],
   "source": [
    "# display the expression information\n",
    "expr.exprInfo()"
   ]
  },
  {
   "cell_type": "code",
   "execution_count": null,
   "metadata": {},
   "outputs": [],
   "source": []
  }
 ],
 "metadata": {
  "kernelspec": {
   "display_name": "Python 3",
   "language": "python",
   "name": "python3"
  }
 },
 "nbformat": 4,
 "nbformat_minor": 0
}
