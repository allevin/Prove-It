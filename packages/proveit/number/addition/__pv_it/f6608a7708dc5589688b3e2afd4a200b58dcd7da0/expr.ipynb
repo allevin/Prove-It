{
 "cells": [
  {
   "cell_type": "markdown",
   "metadata": {},
   "source": [
    "Expression of type <a class=\"ProveItLink\" href=\"../../../../../../doc/html/api/proveit.ExprTuple.html\">ExprTuple</a>\n",
    "=======================\n",
    "# from context <a class=\"ProveItLink\" href=\"../../_context_.ipynb\">proveit.number.addition</a>"
   ]
  },
  {
   "cell_type": "code",
   "execution_count": 1,
   "metadata": {},
   "outputs": [],
   "source": [
    "# import Expression classes needed to build the expression\n",
    "from proveit import ExprTuple\n",
    "from proveit._common_ import a, b, c, d\n",
    "from proveit.number import Add, Reals"
   ]
  },
  {
   "cell_type": "code",
   "execution_count": 2,
   "metadata": {},
   "outputs": [
    {
     "data": {
      "text/html": [
       "<strong id=\"expr\">expr:</strong> <a class=\"ProveItLink\" href=\"expr.ipynb\"><img src=\"data:image/png;base64,iVBORw0KGgoAAAANSUhEUgAAAJgAAAAVBAMAAABIwjoUAAAAMFBMVEX////c3NwiIiJERESqqqqY\n",
       "mJh2dnZmZmYQEBDu7u4yMjJUVFTMzMyIiIi6uroAAAAs73DqAAAAAXRSTlMAQObYZgAAAhZJREFU\n",
       "OMutlE1o1FAQx//bZD9e0m4CPfbQRfDjWLAeKoiLx6J0z54WkXopkos9FKlWREGoXa+CtEoLNcUa\n",
       "D4KKxUAvQg/mVPCwZdFLEWUXtx4qWJwXk/VNWGnAXdiXYfLml//Mm3lAT3/FoDecbIOWrS4vxKtS\n",
       "ivDPd0PI85M/V5+RcZ3+T7vtM7w0YvbCVct4/aOPKQYYYFk+iJ5WOdZoJ0X/dRT3I5iDsUGSWEWh\n",
       "pm69ED2bsVdPVlRx5Eod2JRGn7mJL+gGu4QUMMNhMIximtbMxtU5Dlurv+SxYrLuc9jQdrPcgb2m\n",
       "NHEFK7Tu2lqLwUQbFo993zBKzFGcw9laDCsepQPAOO6TsB/IjzCYvo9CVY0V89AqDDZcwQwi2K0j\n",
       "y9LYxQFgttAXMFh+CZajxpqtZM3eAcdi2KwzJo0PEmaNYFEmNeO6J1x3jaw+B00SknfdJ/dc1wu3\n",
       "hB/pONCGOIhhzuzWH9htUhxgAjVVGbXZjZoqZDhIKMv8gt4SMcx4VAnTPAUslvFG9xnMxx0Wa9Fm\n",
       "VjOxB3PpfCiBYP3eWzIu0nnCqOjHc6xmZjnvMZjpIMePdwXnnKr4HrXGZc2WrfFJttnO5g5vjY1r\n",
       "iXpP1z9yx1D965mGWLDloLd94zTN6ToKdrcJQJoJkN2mRNM4Zavqy2+H3nbckVXsXPCPKyj1jajY\n",
       "D2Xy/wNTZb6QHdOja3vAx28Zm5dnRlC9GAAAAABJRU5ErkJggg==\n",
       "\" style=\"display:inline;vertical-align:middle;\" /></a><br>"
      ],
      "text/plain": [
       "expr: (a + b + c + d , Reals)"
      ]
     },
     "execution_count": 2,
     "metadata": {},
     "output_type": "execute_result"
    }
   ],
   "source": [
    "# build up the expression from sub-expressions\n",
    "expr = ExprTuple(Add(a, b, c, d), Reals)"
   ]
  },
  {
   "cell_type": "code",
   "execution_count": 3,
   "metadata": {},
   "outputs": [
    {
     "name": "stdout",
     "output_type": "stream",
     "text": [
      "Passed sanity check: built 'expr' is the same as the stored Expression.\n"
     ]
    }
   ],
   "source": [
    "# check that the built expression is the same as the stored expression\n",
    "%check_expr"
   ]
  },
  {
   "cell_type": "code",
   "execution_count": 4,
   "metadata": {},
   "outputs": [
    {
     "data": {
      "text/html": [
       "<table><tr><th>&nbsp;</th><th>core type</th><th>sub-expressions</th><th>expression</th></tr>\n",
       "<tr><td>0</td><td>ExprTuple</td><td>1, 2</td><td><a class=\"ProveItLink\" href=\"expr.ipynb\"><img src=\"data:image/png;base64,iVBORw0KGgoAAAANSUhEUgAAAJgAAAAVBAMAAABIwjoUAAAAMFBMVEX////c3NwiIiJERESqqqqY\n",
       "mJh2dnZmZmYQEBDu7u4yMjJUVFTMzMyIiIi6uroAAAAs73DqAAAAAXRSTlMAQObYZgAAAhZJREFU\n",
       "OMutlE1o1FAQx//bZD9e0m4CPfbQRfDjWLAeKoiLx6J0z54WkXopkos9FKlWREGoXa+CtEoLNcUa\n",
       "D4KKxUAvQg/mVPCwZdFLEWUXtx4qWJwXk/VNWGnAXdiXYfLml//Mm3lAT3/FoDecbIOWrS4vxKtS\n",
       "ivDPd0PI85M/V5+RcZ3+T7vtM7w0YvbCVct4/aOPKQYYYFk+iJ5WOdZoJ0X/dRT3I5iDsUGSWEWh\n",
       "pm69ED2bsVdPVlRx5Eod2JRGn7mJL+gGu4QUMMNhMIximtbMxtU5Dlurv+SxYrLuc9jQdrPcgb2m\n",
       "NHEFK7Tu2lqLwUQbFo993zBKzFGcw9laDCsepQPAOO6TsB/IjzCYvo9CVY0V89AqDDZcwQwi2K0j\n",
       "y9LYxQFgttAXMFh+CZajxpqtZM3eAcdi2KwzJo0PEmaNYFEmNeO6J1x3jaw+B00SknfdJ/dc1wu3\n",
       "hB/pONCGOIhhzuzWH9htUhxgAjVVGbXZjZoqZDhIKMv8gt4SMcx4VAnTPAUslvFG9xnMxx0Wa9Fm\n",
       "VjOxB3PpfCiBYP3eWzIu0nnCqOjHc6xmZjnvMZjpIMePdwXnnKr4HrXGZc2WrfFJttnO5g5vjY1r\n",
       "iXpP1z9yx1D965mGWLDloLd94zTN6ToKdrcJQJoJkN2mRNM4Zavqy2+H3nbckVXsXPCPKyj1jajY\n",
       "D2Xy/wNTZb6QHdOja3vAx28Zm5dnRlC9GAAAAABJRU5ErkJggg==\n",
       "\" style=\"display:inline;vertical-align:middle;\" /></a></td></tr>\n",
       "<tr><td>1</td><td>Operation</td><td>operator:&nbsp;3<br>operands:&nbsp;4<br></td><td><a class=\"ProveItLink\" href=\"../26d62fa137623ccd3b0fffe4eb8a51af8181e2d90/expr.ipynb\"><img src=\"data:image/png;base64,iVBORw0KGgoAAAANSUhEUgAAAHQAAAAQBAMAAAA10UZYAAAAMFBMVEX///8yMjKqqqrMzMzu7u4i\n",
       "IiJmZmaYmJhEREQQEBC6urp2dnaIiIhUVFTc3NwAAAD87Fq/AAAAAXRSTlMAQObYZgAAAUxJREFU\n",
       "KM9jYMAALDcDGAiDFdOwiTJeIEIrwydkjh+U5leA2f8A3UEIAa4vyBI6UHq9A5TBdABNK5IAdwA2\n",
       "rVsZiNDKmMDAwHdn1zxUrbJnrqOqZNl9xgBV69vT64G+WvmA4wOKVpYfDPyoKi0XMAagCHDNY+h3\n",
       "YOD7zsDWgKKV6QsD5wZklSxzGDgKULS+L2BIZGDg/cDAegBFK5sAA38CskreD+h+vc/AEA2MiQYG\n",
       "f5DzEgUFIwUFZYEs1gSG9UBL2AQFRScKCl4AKwEbCRdg+MHA8gto9wEGfQYHZFuB0ZrvgGzJ+wNo\n",
       "tvL9YWD6wMLgr8BwkckARasBw2wUlfxAN6D4leUTA6+AMgNjAVMYN4pfeRXYLqBo5U1g4EYNcnEG\n",
       "1YQNwGg9ZXEKNXLupKOFSvaZI6gCb88s7lmALTUxEJOaUMEadAGuA/gEAHrKWexyVHXqAAAAAElF\n",
       "TkSuQmCC\n",
       "\" style=\"display:inline;vertical-align:middle;\" /></a></td></tr>\n",
       "<tr><td>2</td><td>Literal</td><td></td><td><a class=\"ProveItLink\" href=\"../../../sets/real/__pv_it/9e7645ee1117062e179dd6264898f99ed95b157c0/expr.ipynb\"><img src=\"data:image/png;base64,iVBORw0KGgoAAAANSUhEUgAAAA8AAAAOBAMAAAACpFvcAAAAMFBMVEX///8iIiK6urp2dnbu7u5m\n",
       "ZmaqqqrMzMxUVFTc3NyIiIgQEBBEREQyMjKYmJgAAAA9nvXMAAAAAXRSTlMAQObYZgAAAFJJREFU\n",
       "CNdjePvn/N29CxiA4MAMhprcCSDGVAYezwMQBnMBOoMDJqX4Fqx4tqBsAlj7VFUeBwiDVb0BwmC4\n",
       "sg7KqOAogJqTcJKBAWjpcYY79xMAyqEnfsw4ApEAAAAASUVORK5CYII=\n",
       "\" style=\"display:inline;vertical-align:middle;\" /></a></td></tr>\n",
       "<tr><td>3</td><td>Literal</td><td></td><td><a class=\"ProveItLink\" href=\"../3e6688136fa3c7aefbebe51301b7c3ebf0b69c440/expr.ipynb\"><img src=\"data:image/png;base64,iVBORw0KGgoAAAANSUhEUgAAAA4AAAAOBAMAAADtZjDiAAAAJFBMVEX///+6urpUVFQQEBAiIiIy\n",
       "MjJmZmaIiIiqqqrc3Nzu7u4AAACgHpL+AAAAAXRSTlMAQObYZgAAAB5JREFUCNdjYGBgWMkAAe2k\n",
       "0Kmhoc6hoUGk6BMHYgAHOwjcado9fwAAAABJRU5ErkJggg==\n",
       "\" style=\"display:inline;vertical-align:middle;\" /></a></td></tr>\n",
       "<tr><td>4</td><td>ExprTuple</td><td>5, 6, 7, 8</td><td><a class=\"ProveItLink\" href=\"../01f3547cb6e447be93e3bf9397d84951004f68d70/expr.ipynb\"><img src=\"data:image/png;base64,iVBORw0KGgoAAAANSUhEUgAAAFAAAAAVBAMAAAAjqnRBAAAAMFBMVEX////c3NwiIiJERESqqqqY\n",
       "mJh2dnZmZmYQEBDu7u4yMjJUVFTMzMyIiIi6uroAAAAs73DqAAAAAXRSTlMAQObYZgAAAXtJREFU\n",
       "KM+Nkz9Iw0AYxV/bJG0S2nTv0E66dtBRLI4imNkpOOgmWewgghZEJyWjuLSLgwhSB0GEYsBFcLCT\n",
       "4JBSdRERGmkdOlj87q6BFFJthuSXd+++f7kAE1+Z5v8euU23h5CgXhcibG8H2KbHWVjT6lEBe9CA\n",
       "9EhmoxRVXB+yhZQT1jpOhFEpQN3Fx4i2GpVZs4EZlIlijY2K0M69q2Fba54rKPfUoXrWcUr8nk34\n",
       "YrkLQ6zftzUxgEwF81TPIo4o4DeSRa5KfaQsvuMQCZNLeRNbLBYGgO4jLnpP1mDYDHQ/KPAWmKLH\n",
       "IzMaRVRFwriNDg9kFANjF+qAG/coehPLcIZj3OGQD6Yb+4Hkqyz1LFAt4UZyVWZ0sQ8OFNdkoPag\n",
       "15aAFeobmilNK6hSl3opWRdgQ3EZ0FQWbIuN55WNsXXXwvEX7W9sggPK3rOAnPc5R2fnAqlsUPbL\n",
       "eGCfULaCF3M8QGmGjtlfxhNWxJDTGAvAJZvUBL9C2sUvYK1jupu6jYwAAAAASUVORK5CYII=\n",
       "\" style=\"display:inline;vertical-align:middle;\" /></a></td></tr>\n",
       "<tr><td>5</td><td>Variable</td><td></td><td><a class=\"ProveItLink\" href=\"../../../../__pv_it/07527342713064c87612d00d8557c53d53d5324a0/expr.ipynb\"><img src=\"data:image/png;base64,iVBORw0KGgoAAAANSUhEUgAAAAsAAAAJBAMAAAAWSsseAAAAMFBMVEX///8yMjKqqqrMzMzu7u4i\n",
       "IiJmZmaYmJhEREQQEBC6urp2dnaIiIhUVFTc3NwAAAD87Fq/AAAAAXRSTlMAQObYZgAAAEhJREFU\n",
       "CNdjYOC7s2seAwPDygccHxgY+L4zsDUwMPB+YGA9wMDA38Dgb8DA8P4Agz6DA4O/AsNFJgMGxgKm\n",
       "MG6gyjunLE4xAAAZTBA5TB6DCwAAAABJRU5ErkJggg==\n",
       "\" style=\"display:inline;vertical-align:middle;\" /></a></td></tr>\n",
       "<tr><td>6</td><td>Variable</td><td></td><td><a class=\"ProveItLink\" href=\"../../../../__pv_it/6840a4fa6c106149dc16a131294d0c5e44f1b0480/expr.ipynb\"><img src=\"data:image/png;base64,iVBORw0KGgoAAAANSUhEUgAAAAkAAAAOBAMAAAAPuiubAAAALVBMVEX///9mZmbMzMxERESYmJiI\n",
       "iIh2dna6urqqqqoyMjIiIiIQEBBUVFTu7u4AAAD9S1JeAAAAAXRSTlMAQObYZgAAAE1JREFUCNdj\n",
       "4D29gAEIOA+ASL4GEFl3AURmgQiGOaFHGBh4HzPwKTBwvGXgTmBgnMDAJ8DAJcBQ5wBSLncBJLWN\n",
       "gYGngRFoBO9REQYGAGrcDtUkVqASAAAAAElFTkSuQmCC\n",
       "\" style=\"display:inline;vertical-align:middle;\" /></a></td></tr>\n",
       "<tr><td>7</td><td>Variable</td><td></td><td><a class=\"ProveItLink\" href=\"../../../../__pv_it/cbdfda466482236edba0ce44ac7ef39cda0af7a40/expr.ipynb\"><img src=\"data:image/png;base64,iVBORw0KGgoAAAANSUhEUgAAAAkAAAAJBAMAAAASvxsjAAAALVBMVEX///9mZmbc3NxUVFSYmJhE\n",
       "REQiIiIyMjK6uroQEBDMzMyIiIh2dnbu7u4AAABgFDGoAAAAAXRSTlMAQObYZgAAADZJREFUCNdj\n",
       "YOA9s3sBA8PKBvYEBt7ZDKwODMwPGICALwBE6m0Asx0YGIDiAgw8QJUyu/cyAAAmuwmycZ8WfQAA\n",
       "AABJRU5ErkJggg==\n",
       "\" style=\"display:inline;vertical-align:middle;\" /></a></td></tr>\n",
       "<tr><td>8</td><td>Variable</td><td></td><td><a class=\"ProveItLink\" href=\"../../../../__pv_it/3a5de44ed6135dbbdbbeec6704c741e238f127300/expr.ipynb\"><img src=\"data:image/png;base64,iVBORw0KGgoAAAANSUhEUgAAAAsAAAAOBAMAAAALT/umAAAAMFBMVEX////MzMyYmJiIiIhUVFTc\n",
       "3NwyMjIiIiJ2dnbu7u6qqqpmZmYQEBBERES6uroAAABkyy6XAAAAAXRSTlMAQObYZgAAAFhJREFU\n",
       "CNdjYGBg4LuzgQEE+BeAqfcTwFQ7mGTIBmJW575fQOpNAO9PIOcTA3cCAwPLBwb2BqCeCwzzHzAw\n",
       "xBswrGeYwDB/AYMblwADmwJXNQdIm52sHQMAfyoTCZukXIEAAAAASUVORK5CYII=\n",
       "\" style=\"display:inline;vertical-align:middle;\" /></a></td></tr>\n",
       "</table>\n"
      ],
      "text/plain": [
       "0. (a + b + c + d , Reals)\n",
       "   core type: ExprTuple\n",
       "   sub-expressions: 1, 2\n",
       "1. a + b + c + d\n",
       "   core type: Operation\n",
       "   operator: 3\n",
       "   operands: 4\n",
       "2. Reals\n",
       "   core type: Literal\n",
       "   sub-expressions: \n",
       "3. +\n",
       "   core type: Literal\n",
       "   sub-expressions: \n",
       "4. (a , b , c , d)\n",
       "   core type: ExprTuple\n",
       "   sub-expressions: 5, 6, 7, 8\n",
       "5. a\n",
       "   core type: Variable\n",
       "   sub-expressions: \n",
       "6. b\n",
       "   core type: Variable\n",
       "   sub-expressions: \n",
       "7. c\n",
       "   core type: Variable\n",
       "   sub-expressions: \n",
       "8. d\n",
       "   core type: Variable\n",
       "   sub-expressions: "
      ]
     },
     "execution_count": 4,
     "metadata": {},
     "output_type": "execute_result"
    }
   ],
   "source": [
    "# display the expression information\n",
    "expr.exprInfo()"
   ]
  },
  {
   "cell_type": "code",
   "execution_count": null,
   "metadata": {},
   "outputs": [],
   "source": []
  }
 ],
 "metadata": {
  "kernelspec": {
   "display_name": "Python 3",
   "language": "python",
   "name": "python3"
  }
 },
 "nbformat": 4,
 "nbformat_minor": 0
}
