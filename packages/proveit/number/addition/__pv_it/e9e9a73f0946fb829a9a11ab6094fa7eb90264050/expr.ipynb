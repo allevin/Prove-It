{
 "cells": [
  {
   "cell_type": "markdown",
   "metadata": {},
   "source": [
    "Expression of type <a class=\"ProveItLink\" href=\"../../../../../../doc/html/api/proveit.ExprTuple.html\">ExprTuple</a>\n",
    "=======================\n",
    "# from context <a class=\"ProveItLink\" href=\"../../_context_.ipynb\">proveit.number.addition</a>"
   ]
  },
  {
   "cell_type": "code",
   "execution_count": 1,
   "metadata": {},
   "outputs": [],
   "source": [
    "# import Expression classes needed to build the expression\n",
    "from proveit import ExprTuple\n",
    "from proveit._common_ import a, b, c\n",
    "from proveit.number import Complexes, Exp, five"
   ]
  },
  {
   "cell_type": "code",
   "execution_count": 2,
   "metadata": {},
   "outputs": [
    {
     "data": {
      "text/html": [
       "<strong id=\"expr\">expr:</strong> <a class=\"ProveItLink\" href=\"expr.ipynb\"><img src=\"data:image/png;base64,iVBORw0KGgoAAAANSUhEUgAAAJgAAAAcBAMAAABvzWvcAAAAMFBMVEX///+qqqp2dnYiIiJERESI\n",
       "iIhmZmYQEBDc3NyYmJgyMjLu7u5UVFTMzMy6uroAAACGxKilAAAAAXRSTlMAQObYZgAAAo5JREFU\n",
       "SMetVU1oE0EU/pI22W02mwqeFCSLUG9KDhoEESLYgyC4WFovtQR/QPyBqpcepO7BkwSM4kmhBARB\n",
       "K7L0UizFjWBFi2AQj6JBD1VBTdFoSk3qm9nZ7G5oYEvyYOZ9bzL58t68byZAFyxx5omOblli7Z8D\n",
       "f3RONmUAGkNqsXOyMk3vGZozOyc7PWIiwo7tFYs2cn595dYV2QgVgL0Exp0Ug9j8ZZoueBaGHv7d\n",
       "nQWUOjAKRAliOnBaj2jE3PBDAzPVYqyEBmCZkCjpSPAql1mdWrPieB5IFqWSXAN68vhIa1LgHiRW\n",
       "aVLGnfCuRFO0GDYjJIloBsco/BY4sXCKzQecMJtj3Dq2n2BpVrBIjkF5YdeE2JI7umTYaGbguB/E\n",
       "FkapsB1io5L95M/6MLkHNJaM3opYnMARG6mTuOcHVgbUt63i66q2xUOm1nGf3CQltsJq5nYjj1M2\n",
       "mtVxyA+SJi7RDzfJvnrV1kCaHPU1XkGP6OkbYE8TtYCzwB/wpvEyM289ZMqyQ9afgVWyF39zCdoI\n",
       "LSCNxIpLhum4PzOmwotUm44kuELkKkIVRSCxrerKLLrqlolbnEwIS67jOTk6D2sTFkMlxc42XtjG\n",
       "d1ASfX5Qh0SKveNQ9E7R0ST2icbVMATe6lg+lA7DSvHebs5qyi9CL4CdfvAM5+394CFeD5pPD4rM\n",
       "SGc/yX1mMht7N4bZGpPZ8PfBsnKVpBYdGDb9YH6EZIbHjIyFUE+uXXEekXAB/XTskuEcwhdXgkZb\n",
       "YF+nZuhYTEdc897cvPtqtQdh3Rc6ZhlQU94nKBDZHNYluy1ubU7EEfcjvT146Q8d20/jOpPIRp7t\n",
       "SGn915y9siGtO3+e1/h8sztk59Bd+w8kH7SInz9i6gAAAABJRU5ErkJggg==\n",
       "\" style=\"display:inline;vertical-align:middle;\" /></a><br>"
      ],
      "text/plain": [
       "expr: ((a , a , c , c , b) , Complexes^{5})"
      ]
     },
     "execution_count": 2,
     "metadata": {},
     "output_type": "execute_result"
    }
   ],
   "source": [
    "# build up the expression from sub-expressions\n",
    "expr = ExprTuple([a, a, c, c, b], Exp(Complexes, five))"
   ]
  },
  {
   "cell_type": "code",
   "execution_count": 3,
   "metadata": {},
   "outputs": [
    {
     "name": "stdout",
     "output_type": "stream",
     "text": [
      "Passed sanity check: built 'expr' is the same as the stored Expression.\n"
     ]
    }
   ],
   "source": [
    "# check that the built expression is the same as the stored expression\n",
    "%check_expr"
   ]
  },
  {
   "cell_type": "code",
   "execution_count": 4,
   "metadata": {},
   "outputs": [
    {
     "data": {
      "text/html": [
       "<table><tr><th>&nbsp;</th><th>core type</th><th>sub-expressions</th><th>expression</th></tr>\n",
       "<tr><td>0</td><td>ExprTuple</td><td>1, 2</td><td><a class=\"ProveItLink\" href=\"expr.ipynb\"><img src=\"data:image/png;base64,iVBORw0KGgoAAAANSUhEUgAAAJgAAAAcBAMAAABvzWvcAAAAMFBMVEX///+qqqp2dnYiIiJERESI\n",
       "iIhmZmYQEBDc3NyYmJgyMjLu7u5UVFTMzMy6uroAAACGxKilAAAAAXRSTlMAQObYZgAAAo5JREFU\n",
       "SMetVU1oE0EU/pI22W02mwqeFCSLUG9KDhoEESLYgyC4WFovtQR/QPyBqpcepO7BkwSM4kmhBARB\n",
       "K7L0UizFjWBFi2AQj6JBD1VBTdFoSk3qm9nZ7G5oYEvyYOZ9bzL58t68byZAFyxx5omOblli7Z8D\n",
       "f3RONmUAGkNqsXOyMk3vGZozOyc7PWIiwo7tFYs2cn595dYV2QgVgL0Exp0Ug9j8ZZoueBaGHv7d\n",
       "nQWUOjAKRAliOnBaj2jE3PBDAzPVYqyEBmCZkCjpSPAql1mdWrPieB5IFqWSXAN68vhIa1LgHiRW\n",
       "aVLGnfCuRFO0GDYjJIloBsco/BY4sXCKzQecMJtj3Dq2n2BpVrBIjkF5YdeE2JI7umTYaGbguB/E\n",
       "FkapsB1io5L95M/6MLkHNJaM3opYnMARG6mTuOcHVgbUt63i66q2xUOm1nGf3CQltsJq5nYjj1M2\n",
       "mtVxyA+SJi7RDzfJvnrV1kCaHPU1XkGP6OkbYE8TtYCzwB/wpvEyM289ZMqyQ9afgVWyF39zCdoI\n",
       "LSCNxIpLhum4PzOmwotUm44kuELkKkIVRSCxrerKLLrqlolbnEwIS67jOTk6D2sTFkMlxc42XtjG\n",
       "d1ASfX5Qh0SKveNQ9E7R0ST2icbVMATe6lg+lA7DSvHebs5qyi9CL4CdfvAM5+394CFeD5pPD4rM\n",
       "SGc/yX1mMht7N4bZGpPZ8PfBsnKVpBYdGDb9YH6EZIbHjIyFUE+uXXEekXAB/XTskuEcwhdXgkZb\n",
       "YF+nZuhYTEdc897cvPtqtQdh3Rc6ZhlQU94nKBDZHNYluy1ubU7EEfcjvT146Q8d20/jOpPIRp7t\n",
       "SGn915y9siGtO3+e1/h8sztk59Bd+w8kH7SInz9i6gAAAABJRU5ErkJggg==\n",
       "\" style=\"display:inline;vertical-align:middle;\" /></a></td></tr>\n",
       "<tr><td>1</td><td>ExprTuple</td><td>3, 3, 4, 4, 5</td><td><a class=\"ProveItLink\" href=\"../5d58f4d57e6192b03cfc8c754468c1300932ed360/expr.ipynb\"><img src=\"data:image/png;base64,iVBORw0KGgoAAAANSUhEUgAAAGIAAAAVBAMAAABPrCZEAAAAMFBMVEX////c3NwiIiJERESqqqqY\n",
       "mJh2dnZmZmYQEBDu7u4yMjJUVFTMzMyIiIi6uroAAAAs73DqAAAAAXRSTlMAQObYZgAAAUdJREFU\n",
       "OMuVkzFIw1AQhj9tTZuUtN0dzNa1g+7OLs3s1Ek3ceqgDiripnQUO2RyEEEQnIRCwEVwsJuItFQn\n",
       "capgkYKI90xN8wxC8uCOj3D37r97F0h/ip0UwTN9cbdJo1u74rbEThMXOBOzwE4u6l3JqpNvJm54\n",
       "JM7c5jVxCcNRfp6G+Kn22k7wdULmStfXwWo/urDKifBLOTMI4iZ007ccHbwqn7DEoVw8JFcNSoRk\n",
       "HpBxNaDWZF/u5AsKA6aDiWmEDmzAB9ypjFIVL5CqETpQoThUGXsw16HGz5A1Ck4I8hy5kVK1IC0t\n",
       "cpX1TaJUEu2uBtJ2vg7LMi0sN1sx8JwoFdYxfA24ZBM13Wf1CL3rHkdvUaLRffgDrXs1s3Py5V+d\n",
       "T8QoDrIlslrj4xKjOBidyLYnyjgWmx2zHSbY/wMXajPS/LW2zzfQZ2/G0PX/XwAAAABJRU5ErkJg\n",
       "gg==\n",
       "\" style=\"display:inline;vertical-align:middle;\" /></a></td></tr>\n",
       "<tr><td>2</td><td>Operation</td><td>operator:&nbsp;6<br>operands:&nbsp;7<br></td><td><a class=\"ProveItLink\" href=\"../1d5ca85bb291b50723080d0d449bfc191044913a0/expr.ipynb\"><img src=\"data:image/png;base64,iVBORw0KGgoAAAANSUhEUgAAABcAAAAUBAMAAACUkLs9AAAAMFBMVEX////c3NyqqqqYmJhUVFR2\n",
       "dnbu7u66urrMzMxmZmZEREQQEBAyMjIiIiKIiIgAAAB7fvZ0AAAAAXRSTlMAQObYZgAAAJZJREFU\n",
       "GNNjYICCSjE7Bjio/++A4BQXItgM5Uhshsp30xAcQQYdEMV35/zelUA6v4GBgaO+gC3+CcMJBv4C\n",
       "BgYDZwYGpi8MOxjkBRiYEzYAlUxhCGN4wsDAyQiyLI+BNTKAgSGTPQBhZCuTARKHHYmTxYGkjCcB\n",
       "ybXMASAOG5S3uA5I1CZAOCxez9iqlsEUdt7/7Q5hAQDDzB+JAiNuCgAAAABJRU5ErkJggg==\n",
       "\" style=\"display:inline;vertical-align:middle;\" /></a></td></tr>\n",
       "<tr><td>3</td><td>Variable</td><td></td><td><a class=\"ProveItLink\" href=\"../../../../__pv_it/07527342713064c87612d00d8557c53d53d5324a0/expr.ipynb\"><img src=\"data:image/png;base64,iVBORw0KGgoAAAANSUhEUgAAAAsAAAAJBAMAAAAWSsseAAAAMFBMVEX///8yMjKqqqrMzMzu7u4i\n",
       "IiJmZmaYmJhEREQQEBC6urp2dnaIiIhUVFTc3NwAAAD87Fq/AAAAAXRSTlMAQObYZgAAAEhJREFU\n",
       "CNdjYOC7s2seAwPDygccHxgY+L4zsDUwMPB+YGA9wMDA38Dgb8DA8P4Agz6DA4O/AsNFJgMGxgKm\n",
       "MG6gyjunLE4xAAAZTBA5TB6DCwAAAABJRU5ErkJggg==\n",
       "\" style=\"display:inline;vertical-align:middle;\" /></a></td></tr>\n",
       "<tr><td>4</td><td>Variable</td><td></td><td><a class=\"ProveItLink\" href=\"../../../../__pv_it/cbdfda466482236edba0ce44ac7ef39cda0af7a40/expr.ipynb\"><img src=\"data:image/png;base64,iVBORw0KGgoAAAANSUhEUgAAAAkAAAAJBAMAAAASvxsjAAAALVBMVEX///9mZmbc3NxUVFSYmJhE\n",
       "REQiIiIyMjK6uroQEBDMzMyIiIh2dnbu7u4AAABgFDGoAAAAAXRSTlMAQObYZgAAADZJREFUCNdj\n",
       "YOA9s3sBA8PKBvYEBt7ZDKwODMwPGICALwBE6m0Asx0YGIDiAgw8QJUyu/cyAAAmuwmycZ8WfQAA\n",
       "AABJRU5ErkJggg==\n",
       "\" style=\"display:inline;vertical-align:middle;\" /></a></td></tr>\n",
       "<tr><td>5</td><td>Variable</td><td></td><td><a class=\"ProveItLink\" href=\"../../../../__pv_it/6840a4fa6c106149dc16a131294d0c5e44f1b0480/expr.ipynb\"><img src=\"data:image/png;base64,iVBORw0KGgoAAAANSUhEUgAAAAkAAAAOBAMAAAAPuiubAAAALVBMVEX///9mZmbMzMxERESYmJiI\n",
       "iIh2dna6urqqqqoyMjIiIiIQEBBUVFTu7u4AAAD9S1JeAAAAAXRSTlMAQObYZgAAAE1JREFUCNdj\n",
       "4D29gAEIOA+ASL4GEFl3AURmgQiGOaFHGBh4HzPwKTBwvGXgTmBgnMDAJ8DAJcBQ5wBSLncBJLWN\n",
       "gYGngRFoBO9REQYGAGrcDtUkVqASAAAAAElFTkSuQmCC\n",
       "\" style=\"display:inline;vertical-align:middle;\" /></a></td></tr>\n",
       "<tr><td>6</td><td>Literal</td><td></td><td><a class=\"ProveItLink\" href=\"../../../exponentiation/__pv_it/deb2bf23cbccdd6e6791e1b35b5b9794ce12dbd50/expr.ipynb\"><img src=\"data:image/png;base64,iVBORw0KGgoAAAANSUhEUgAAACgAAAASBAMAAADbMYGVAAAAMFBMVEX///8QEBAiIiKYmJjc3Nzu\n",
       "7u7MzMx2dnZmZma6urpERESqqqoyMjJUVFSIiIgAAAAoDOMTAAAAAXRSTlMAQObYZgAAAOBJREFU\n",
       "GNNjYGB4+//u3Tt/GNAASGAXmhjnPyDBgSbI/g1IxKEJ8nxgYGdgQRPkX8BgDKRY6q7s62OYvmze\n",
       "2wAgb/7ZO1+AVDiDkYEQQ0HTBr4DQF59AgOIKmB4z7CNbcNZBu6vQN55kEACQwDDLQYGVobfDHwg\n",
       "fb8YGBxYHwAZciD3fWXg+gB1JjvQcJZvQIXsCgz8F6DO9GBgMOH7wPCUgaeBwd4B7EwGNjUG7s9c\n",
       "AiwPgO5jkWRgiF3/9+5dfQUG1nWl5Y+B7pv+1gE9bBhqGLCAE1jEWH9jEbT5A3IwAC4sP/1L6Qlu\n",
       "AAAAAElFTkSuQmCC\n",
       "\" style=\"display:inline;vertical-align:middle;\" /></a></td></tr>\n",
       "<tr><td>7</td><td>ExprTuple</td><td>8, 9</td><td><a class=\"ProveItLink\" href=\"../7b5508e04b247401485fb3cbfb9e6c01a4389fb40/expr.ipynb\"><img src=\"data:image/png;base64,iVBORw0KGgoAAAANSUhEUgAAAC8AAAAVBAMAAAAk6KpUAAAAMFBMVEX////c3NwiIiJERESqqqqY\n",
       "mJh2dnZmZmYQEBDu7u4yMjJUVFTMzMyIiIi6uroAAAAs73DqAAAAAXRSTlMAQObYZgAAASRJREFU\n",
       "KM9jYMAJ+C5gisWBiNNAzKu1vskcIsYVyZjCwH4AyFrJwMDz/gFn/m2IBMf//wkMDAuAioEmBWxl\n",
       "YGD5DdVRnQMkw4AqJjCwTmgAsqshEtxgcgYDwysGBnbGDUD2XGQJZgeGMgaG6XwJCAdx3739gIGB\n",
       "rYBhKQPDMZYAhATzBM5/QBsXMPQBJfgCUHyxA+i5Bgag9GSeBBSJ/AMMPB9AElwTNiBEjYASD0AS\n",
       "LQwMrAkgCU6IRBMDQ70AyChTIMf0LZB4NAEsVcDAsAqodgFDOsiJm29yPrZkmK8AZIszsDSCnfsI\n",
       "pOy4/o99QO9+BDJ5yncLAK19wMAhgLD4IZw1A2QzQgLhnVxIsGNIcAKDnUEaLs6LCDCQ+YxYovYO\n",
       "AwMAlNdEY4sgu8kAAAAASUVORK5CYII=\n",
       "\" style=\"display:inline;vertical-align:middle;\" /></a></td></tr>\n",
       "<tr><td>8</td><td>Literal</td><td></td><td><a class=\"ProveItLink\" href=\"../../../sets/complex/__pv_it/c357845f93a5a2d9f649129d299e7ec28dda4b960/expr.ipynb\"><img src=\"data:image/png;base64,iVBORw0KGgoAAAANSUhEUgAAAA8AAAAOBAMAAAACpFvcAAAAMFBMVEX////c3NyqqqqYmJhUVFR2\n",
       "dnbu7u66urrMzMxmZmZEREQQEBAyMjIiIiKIiIgAAAB7fvZ0AAAAAXRSTlMAQObYZgAAAGVJREFU\n",
       "CNdjYGDgu3N+70oGBgaO+gK2+CdAhoEzAwPTFwYG5oQNQN4UBgZORgcgI4+BIZM9gAEMWpkMoAx2\n",
       "KCOLAyrFk+AAYTAHgBhsQLy4DkjUJjAwsHg9Y6taBpLsvP/bnYEBACkBFGQfBv8RAAAAAElFTkSu\n",
       "QmCC\n",
       "\" style=\"display:inline;vertical-align:middle;\" /></a></td></tr>\n",
       "<tr><td>9</td><td>Literal</td><td></td><td><a class=\"ProveItLink\" href=\"../../../numeral/__pv_it/aaeeaca7d86eb2b7cdc49e25c3108b81b52ec5400/expr.ipynb\"><img src=\"data:image/png;base64,iVBORw0KGgoAAAANSUhEUgAAAAkAAAAOBAMAAAAPuiubAAAAMFBMVEX///8iIiJERES6urqIiIjM\n",
       "zMxUVFRmZmYQEBCqqqp2dnbc3Nzu7u6YmJgyMjIAAADYGhJvAAAAAXRSTlMAQObYZgAAAE1JREFU\n",
       "CNdj4LvDvZKBgeP//wUMDHxlSxkYGNgYGBCki5sBAwPTAZ7PYG4GmFwfwKAIJA0YGhkY6jcwFDAw\n",
       "vGNg2M7A2c3AwFqetoEBAKS8EE1WXEJLAAAAAElFTkSuQmCC\n",
       "\" style=\"display:inline;vertical-align:middle;\" /></a></td></tr>\n",
       "</table>\n"
      ],
      "text/plain": [
       "0. ((a , a , c , c , b) , Complexes^{5})\n",
       "   core type: ExprTuple\n",
       "   sub-expressions: 1, 2\n",
       "1. (a , a , c , c , b)\n",
       "   core type: ExprTuple\n",
       "   sub-expressions: 3, 3, 4, 4, 5\n",
       "2. Complexes^{5}\n",
       "   core type: Operation\n",
       "   operator: 6\n",
       "   operands: 7\n",
       "3. a\n",
       "   core type: Variable\n",
       "   sub-expressions: \n",
       "4. c\n",
       "   core type: Variable\n",
       "   sub-expressions: \n",
       "5. b\n",
       "   core type: Variable\n",
       "   sub-expressions: \n",
       "6. Exp\n",
       "   core type: Literal\n",
       "   sub-expressions: \n",
       "7. (Complexes , 5)\n",
       "   core type: ExprTuple\n",
       "   sub-expressions: 8, 9\n",
       "8. Complexes\n",
       "   core type: Literal\n",
       "   sub-expressions: \n",
       "9. 5\n",
       "   core type: Literal\n",
       "   sub-expressions: "
      ]
     },
     "execution_count": 4,
     "metadata": {},
     "output_type": "execute_result"
    }
   ],
   "source": [
    "# display the expression information\n",
    "expr.exprInfo()"
   ]
  },
  {
   "cell_type": "code",
   "execution_count": null,
   "metadata": {},
   "outputs": [],
   "source": []
  }
 ],
 "metadata": {
  "kernelspec": {
   "display_name": "Python 3",
   "language": "python",
   "name": "python3"
  }
 },
 "nbformat": 4,
 "nbformat_minor": 0
}
