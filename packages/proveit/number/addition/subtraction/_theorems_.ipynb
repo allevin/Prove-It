{
 "cells": [
  {
   "cell_type": "markdown",
   "metadata": {},
   "source": [
    "Theorems for context <a href=\"_context_.ipynb\" class=\"ProveItLink\">proveit.number.subtraction</a>\n",
    "========"
   ]
  },
  {
   "cell_type": "code",
   "execution_count": 1,
   "metadata": {},
   "outputs": [],
   "source": [
    "import proveit\n",
    "from proveit.logic import Forall, Equals\n",
    "from proveit.number import zero, Naturals,Complexes, Add, Neg, subtract, Exp\n",
    "from proveit._common_ import a, b, c, l, m, n, aa, bb, cc, dd\n",
    "from proveit.number._common_ import iter_a1l, iter_c1m, iter_d1n\n",
    "# the context is in the current directory:\n",
    "context = proveit.Context('.') # adds context root to sys.path if necessary"
   ]
  },
  {
   "cell_type": "code",
   "execution_count": 2,
   "metadata": {},
   "outputs": [
    {
     "name": "stdout",
     "output_type": "stream",
     "text": [
      "Defining theorems for context 'proveit.number.addition.subtraction'\n",
      "Subsequent end-of-cell assignments will define theorems\n",
      "'%end theorems' will finalize the definitions\n"
     ]
    }
   ],
   "source": [
    "%begin theorems"
   ]
  },
  {
   "cell_type": "code",
   "execution_count": 3,
   "metadata": {},
   "outputs": [
    {
     "data": {
      "text/html": [
       "<strong id=\"subtractFromAdd\"><a class=\"ProveItLink\" href=\"_proofs_/subtractFromAdd.ipynb\">subtractFromAdd</a>:</strong> <a class=\"ProveItLink\" href=\"__pv_it/796f21730a98e9ad9a10170078dc2a0792d2d5840/expr.ipynb\"><img src=\"data:image/png;base64,iVBORw0KGgoAAAANSUhEUgAAAQ8AAAAXBAMAAADn89dPAAAAMFBMVEX///8QEBC6urrMzMxUVFRm\n",
       "ZmZERETc3NwyMjKqqqp2dnaIiIiYmJgiIiLu7u4AAAAU9Wx4AAAAAXRSTlMAQObYZgAAA1BJREFU\n",
       "SMfNVk1oE0EUfslmN83fpngpeJBoi4IeugcpUpRGq1CoYhC8tAWLSnrxEPCnhSJG8BArSkAEwYNB\n",
       "EZFgWVoVbEAWvbVQgkUFobLiz6H+JHioh5bivJnZTXZ3YnsI4oM3O/vNN7PfvHkzswD/i5lNH3EX\n",
       "d5G9bAyXsTLXRB1Skrnb1P3kU7Im7IPwI6zcaKKQFpO5twHVZcWdCHyBPILDTRRS4u6xeJ4Us+JO\n",
       "s0y8nG+ikC3cPdaJYfoo7kTg6MPR0YtN1OHPMvfaYywU8ZwRXk6n32/0K2dd74JR5QJzWCpOO1uu\n",
       "lA4DhFMufrD/XhuDewFG7OnkGihIsE6F+qkTbrcgJQ3m0ia47tw1yxDXIITBknPU6NbamlGqQOEO\n",
       "UGuRfOAc9fvEkUFaYdmsWHiIc8MJjxBfgvlHHc44GkJr4CuAv9UVkFWQyeAIxyBi2PjV2gSeHjek\n",
       "LlOaqBNyx15SzlW9yRBPMD/KXscW0V5jGLIQT4FUddIDVYjpQOGIEavt+t927dmOn2Z0HGBnnZAR\n",
       "hxDk9jYUsuxuiKWg0/AIiQ9DRWNC1OxuApyfOYXrvvIERX0p6lFMqvabJHZ1QlotnmJx7QNDHeBV\n",
       "X556cEVwjJww2dLINEyLOOglHe4Ch0cOkHHeBddINVKOkgxSF/zVFuz7Yt4ahQqRshZPsbgdEMC0\n",
       "uwY/tE4eLIP5KjkZnEI02Eww12JW8tAX0hh8i9wBgZSEl46iR/ElqWrdAiH+pM2zuHsswkH4xCq4\n",
       "EdEPAdx3ZkNeTnq3b4sRehPmsE/HVY3gZvJpmMK4xPvS6bS+rd0hJJRkvL7c5VxOp1xbyC97V5eZ\n",
       "y8WS88JR+4fwwwn3MTLVNcXhKOlQMZX5DJEAMRLVCql9ppP45sgR/7DFw4hQ7nZQ6NKotSxv497w\n",
       "LP8r7DN79ppjmRjcBlJqMBnIYFIMZHg6UiFqmfGYEOTW7rAFCJv2/dXoaiNWXAf2D84NQY/hHyyQ\n",
       "Mtg/Y6onEV56ezpRt2s+MB7fNYQLx6wBzpUm1/sNoHPJbgg26sowyZFaCxPy3HGOgPj3IphkLjQa\n",
       "6HVhKVMrXcaEfLU7Wse2LuCOcxfZ9IbgaF0pFBIy3DP557/YPNSvXPBk877wB7fc7x6xVnxRAAAA\n",
       "AElFTkSuQmCC\n",
       "\" style=\"display:inline;vertical-align:middle;\" /></a><br>"
      ],
      "text/plain": [
       "subtractFromAdd: forall_{a, b, c in Complexes | (a + b) = c} ((c - b) = a)"
      ]
     },
     "execution_count": 3,
     "metadata": {},
     "output_type": "execute_result"
    }
   ],
   "source": [
    "subtractFromAdd = Forall((a, b, c), Equals(subtract(c, b), a), conditions=[Equals(Add(a, b), c)], domain=Complexes)"
   ]
  },
  {
   "cell_type": "code",
   "execution_count": 4,
   "metadata": {},
   "outputs": [
    {
     "data": {
      "text/html": [
       "<strong id=\"negatedAdd\"><a class=\"ProveItLink\" href=\"_proofs_/negatedAdd.ipynb\">negatedAdd</a>:</strong> <a class=\"ProveItLink\" href=\"__pv_it/e515c4721c3a47f6a631461f4c8f2b0f9338b1570/expr.ipynb\"><img src=\"data:image/png;base64,iVBORw0KGgoAAAANSUhEUgAAAUAAAAAXBAMAAACIQotiAAAAMFBMVEX///8QEBC6urrMzMxUVFRm\n",
       "ZmZERETc3NwyMjKqqqp2dnaIiIiYmJgiIiLu7u4AAAAU9Wx4AAAAAXRSTlMAQObYZgAAA75JREFU\n",
       "SMfNl11IFFEUx8/uzn7PzkovUkGsKRZFuEGESOGWDwkWLUU9qJBUrEVB+2ApSbRFDyYWCxb0ULAv\n",
       "EiXJQB8PLsjQUyjIUlBQCBMURF9KgRGCdM+983lndvVhAw+c68yd353933vPOXcEWOumVv2N2zWv\n",
       "aC+dXV7ZQYgJgBLezFRRny/FvKxJ+8hv+pOO/l32W0ocBXiEN7erKDCkMq9AoPyco5sXgUQI4BL5\n",
       "E+yposCi5uUtnifNNN8blbkOJMQCnaw/X0WBmzQvb024vh/5Xg+/6khINSA+7O+/UkV93hzzCvYE\n",
       "mwC/KFt5jBJnARYzmfer/PEgH9kuK+8vMDesb7Iua0duFA8CRNLcwE5rHj0uJhkxBtAG0GtMf6iM\n",
       "tARtL9uWirAtLhmgMDewWrjAZfEixJMQxlX2D1GjOT9iQXYmQiVG3ANoAMnckTH7u74PH+qiFz2W\n",
       "llhYYyMJh0BPgrluVxU4bifCy+ApgLeGG7jOMoWNEFAYUQcQg6g54Zsm9PyY4tut+oZNaWEjzwIa\n",
       "KzmDLZ5gPjCH9hoOA3zAfv2eLFsO4mnwLXADf5EQukWhhECfUaKVpLcSM/Pnj3H1YstPVRwE2GYK\n",
       "DGRtApFtKytQt0WQftuJWBqaFFeBxjt6rAKlHJbwi5OnMGCWnqHYz+OyiBFaP0pmZQr0GFxAZ42C\n",
       "R4ZoW5xnrufVEoQXJL4MnlDZBvrpis3Rt6+3hAV9l77F0LufqHwXXMZiWRJJwEpvvAshRKZm9SH0\n",
       "Fc0GF9DZBmjHKJdxiLa4CnM9Uv6CkBu1C0zCBlKC+eg4byHIeIURr4jfJUejkPbhoRyQRbxJSckW\n",
       "F4ENJqezzdpzHMKusDhYS8gIPEgXbEqEvD/lUmYs+SmkIWKWGfDIGDVRzHVP0t/DQmhvJpORN9fb\n",
       "BN7RuPaha2TRKNtsiTytrJSYG2WwWH/OnutSRzeWI74A7LDWxOKURlzH846E3bwamCUpEIcYWd15\n",
       "cvWJzuSbLQYbDQ5XkLKNcIZu8bxZi2s1X8GcR13W/ajTD8LWPepANkYKI2mTMCEg7uvMamlABf7Q\n",
       "OCYQWePIxyGWM356ZYHjfIdYcCEiemXzds10Q6vi7SqQNtgxqUonsfvr29MJUyApR5TTspiwcERP\n",
       "VjJk1Z9bdJ9X/NyixBd7n2JpIyQGzSdUYDRvq4Pg+lUHwRTzyiZkHV19LsQB+7dw1mw5owIl46gT\n",
       "9FNLdmEHNa9oT11mJjuIqP3rRLS0bgLhvmMd1sy/VmzLRP5za+L///I/kYYJrWi/BzkAAAAASUVO\n",
       "RK5CYII=\n",
       "\" style=\"display:inline;vertical-align:middle;\" /></a><br>"
      ],
      "text/plain": [
       "negatedAdd: forall_{a, b, c in Complexes | (a + b) = c} ((-a - b) = (-c))"
      ]
     },
     "execution_count": 4,
     "metadata": {},
     "output_type": "execute_result"
    }
   ],
   "source": [
    "negatedAdd = Forall((a, b, c), Equals(Add(Neg(a), Neg(b)), Neg(c)), conditions=[Equals(Add(a, b), c)], domain=Complexes)"
   ]
  },
  {
   "cell_type": "code",
   "execution_count": 5,
   "metadata": {},
   "outputs": [
    {
     "data": {
      "text/html": [
       "<strong id=\"subtractFromAddReversed\"><a class=\"ProveItLink\" href=\"_proofs_/subtractFromAddReversed.ipynb\">subtractFromAddReversed</a>:</strong> <a class=\"ProveItLink\" href=\"__pv_it/c80db0fdc7a64ac44babcd81f02c1768b24f7c990/expr.ipynb\"><img src=\"data:image/png;base64,iVBORw0KGgoAAAANSUhEUgAAAS8AAAAXBAMAAACortSfAAAAMFBMVEX///8QEBC6urrMzMxUVFRm\n",
       "ZmZERETc3NwyMjKqqqp2dnaIiIiYmJgiIiLu7u4AAAAU9Wx4AAAAAXRSTlMAQObYZgAAA59JREFU\n",
       "SMfNV1tIVEEY/vd21t09u4ovUlBsKRZFcB5CRAqXJDIkki4Q2oNUrAU+7EOlJNEWPZhkLFTQQ6AU\n",
       "ErEgBy89KMTSUyTIUlgQCCcwiG67JBmiRHM7l5kziz5s1A/f7Fy+mflm5p9/zgL8r2aUfcTdDBJT\n",
       "4+46r86XXzDkcWG2jLp8CYLFLbLG4+6qvUI5oFE8xYU7ZRRWYVDclDa6q1xzpykuo59gVxmFzTCs\n",
       "SM9yRKyJ6GLNKwq8uECmjMK2Unh/yxpjVWKNx+XkHyjUJ729V8uoy5umCOelzRfEip0uipKhWE4m\n",
       "329w0qAmVEh2OjBCUdE2meNbPmcnAEZFfodz/LZHNWhJ7RQtAN3WcgdKSKLX/Aq3NYjbJHHvHEWh\n",
       "C5b421oNQwAPiPgBYgmcv+2gbEspRYBQmqIOYmmrSVjQ18EjnSTT5UiRhRg37I5LnjjFsAGbedfR\n",
       "oQfNLfKrHRu2BgE0hbeKIgoRe89v2W46dTLnazB8g7akkHWBFMZ1LMm0yjjFKYCfqNi3gO01yh0l\n",
       "zc0i/wcSNERIcX8RomgKX5EikovaF+OXlXu247uh9gPssoUpKU4Y5raUFDYP3jWuYbmkMKtrFxQ0\n",
       "W1gsjWPvpemz2G9WJ7HIj1ldRd4HtXfRcmxhHounmNwZc1DUhR1lhmIFAlzACK5SNyI+RnZogQy6\n",
       "yaZc02EYPZHmUUL3AaTuXRAPE8mryCNjb7xFEqKfz5l9yBiNFk8xuXXQit1Yx13YZuYolsDDB1O0\n",
       "fyrAS3HHeuxsIQOtIQ1U5B8YcB9FHH+7D8cdRVdxIRHTmiTC6myeyW1k7bgLzZmX/TCc4BUcBHgs\n",
       "CRejzgsdmg/bI4BHx14RwZfXo+FrgV1kfzKZ1LfXcsLuMV7rwHW0SYTb6PAsFkXyFItTQhgLZGeQ\n",
       "m9wQhe1xhrHxhnGkL04BKuIXDGUOuXYlRHEIQrlFsg9fOB+rt3h4xwi3Hs6ToyxY9wJqGGCDT1Kq\n",
       "xJNkvljN+4y+VBQFQJRqMObHfF9Hirk3EfaN8agwzCUPLjbchX+D5RbW13/Wswz0ADpnT0Nzzts5\n",
       "gtJg27QRO0Nekbfn4rYwFFYIj91KxIVj1ilMG8Jnj9Q+rf/Zg2OjGB9zjjSMfMxuIcIiGS6Omd9O\n",
       "4oOaoJDaIXfVRaGMz8rPn68vZaeCEWEx60nym0+TLuH2M0gsokkWIowxweA8bkcqEwYPxWr/P//L\n",
       "Qo9GFRc89vdm/AMdIAsa8ox54AAAAABJRU5ErkJggg==\n",
       "\" style=\"display:inline;vertical-align:middle;\" /></a><br>"
      ],
      "text/plain": [
       "subtractFromAddReversed: forall_{a, b, c in Complexes | (a + b) = c} ((b - c) = (-a))"
      ]
     },
     "execution_count": 5,
     "metadata": {},
     "output_type": "execute_result"
    }
   ],
   "source": [
    "subtractFromAddReversed = Forall((a, b, c), Equals(subtract(b, c), Neg(a)), conditions=[Equals(Add(a, b), c)], domain=Complexes)"
   ]
  },
  {
   "cell_type": "code",
   "execution_count": 6,
   "metadata": {},
   "outputs": [
    {
     "data": {
      "text/html": [
       "<strong id=\"addFromSubtract\"><a class=\"ProveItLink\" href=\"_proofs_/addFromSubtract.ipynb\">addFromSubtract</a>:</strong> <a class=\"ProveItLink\" href=\"__pv_it/1e4b508d6f44212146394935b98add0e331353940/expr.ipynb\"><img src=\"data:image/png;base64,iVBORw0KGgoAAAANSUhEUgAAAQ8AAAAXBAMAAADn89dPAAAAMFBMVEX///8QEBC6urrMzMxUVFRm\n",
       "ZmZERETc3NwyMjKqqqp2dnaIiIiYmJgiIiLu7u4AAAAU9Wx4AAAAAXRSTlMAQObYZgAAA1pJREFU\n",
       "SMfNVk1oE0EUfsnmp0k2G/FS8CDRlgp66B6klKI0WgWhikEQpK1YVNKLhxzUikXMoYdaUQL+IChY\n",
       "FBEJltCqhwZk8dhCqRQrCMKKilCtCR7qoaX43s7sbmZ3gzkE8cGbffvtmzffzrx5MwD/i+gNj7iL\n",
       "q5e8qQ0vkDHXQB5SiqlTlH04VFD17EPwMzJuNpBIk87U/YHY5bw7IXwRH+HBBhIpcbXkG38m8tjM\n",
       "eneaZeSD+QYS2crVkvv82U7T9Mm7E8Ly0+HhKw3k4c8xdRN5Tk3I+58JXs1kPtQ5SNiZah5RgxNM\n",
       "YbkwLRIZLR0GiKadMXsfNTO4B2DI+p2xGhSSRntZ+HX07fJISY2ptBluCESUVUioEDEm68QYySiZ\n",
       "27KhChhwKyj2TD4Ro/4YP9JvGINVbZVvNOki4ksy/VSEcwKRyAb4JsC/yTEh6xDEsATHIaZZ+DV7\n",
       "2788rkkdujRuU4gUhRjoq7h3YyLJ9KgzR4I5SKRBqojugQrEMSzBMS1u7/rflvVqx09dHgHYaRMJ\n",
       "ZYUY5NtTk8gqe8VFeMsWIZ6Gds1FJDEIZZURUXK7Ebgwc4bWfe0FkfpaKMqUVC23cO5sIj7LD0xf\n",
       "q2Aofdz05Q0NrzlnBMvIKZ0vzcmPJEtoXS3CQ+Dw0H6M8z68gWZsQcbypyz6K03k/3reDGYQ6bT8\n",
       "wPRthQCl3XVYUdv5RtSYrmNlEImosAUxx2KW83AoojL4Dp4BgbREh06oKNNLSlG7PIi0Wn5g+naa\n",
       "DgfgMzNoI5IeBHgsEAnkgyn39m3SIu+iHPYVaVVjdBL4VEphWuK9mUymuL1FIHKb+93Fbxnd8LWI\n",
       "/LJ29QLTYKGki9u3d4AGTjrLyFTHFIdl7FDWQ/OYigmI46yW0fpi/MR3IUfaLD9jqsm3DULG0ih2\n",
       "ljdzdVVWs5bXKPE8xfTuPfqlbBzuAbYqTAZoOKkvy9PRILLC/VgX8rXPsEWI6tb5JR5twt2k4E3E\n",
       "gv39cwPQrfn7J7AN987oymmCl5fOJm0iuM0NP7MLFvJjZoDzpcm/XQOM9cnVBWtVbRRzxP5iEInl\n",
       "ve4RrgMpxdRTAtl6YClrtw4xiCiua4uj1jIZ4eol03XBclXrRQQeuP7kn1+x2VTLzmvAZONG+AOX\n",
       "X/NOCYldBwAAAABJRU5ErkJggg==\n",
       "\" style=\"display:inline;vertical-align:middle;\" /></a><br>"
      ],
      "text/plain": [
       "addFromSubtract: forall_{a, b, c in Complexes | (a - b) = c} ((c + b) = a)"
      ]
     },
     "execution_count": 6,
     "metadata": {},
     "output_type": "execute_result"
    }
   ],
   "source": [
    "addFromSubtract = Forall((a, b, c), Equals(Add(c, b), a), conditions=[Equals(subtract(a, b), c)], domain=Complexes)"
   ]
  },
  {
   "cell_type": "code",
   "execution_count": 7,
   "metadata": {},
   "outputs": [
    {
     "data": {
      "text/html": [
       "<strong id=\"addCancelBasic\"><a class=\"ProveItLink\" href=\"_proofs_/addCancelBasic.ipynb\">addCancelBasic</a>:</strong> <a class=\"ProveItLink\" href=\"__pv_it/3feff4dff3f5f5f826f64d42633ac97500b01f640/expr.ipynb\"><img src=\"data:image/png;base64,iVBORw0KGgoAAAANSUhEUgAAAKkAAAAVBAMAAADP89MSAAAAMFBMVEX///8QEBC6urrMzMxUVFRm\n",
       "ZmZERETc3NwyMjKqqqp2dnaIiIiYmJgiIiLu7u4AAAAU9Wx4AAAAAXRSTlMAQObYZgAAAhhJREFU\n",
       "OMtjYKAJeIBPkmkDBGMHh3ALXwAxTuPQZwLF2AGrAboIX/RWA7DwShCvD4e+PjxyQNCALsCrwHcZ\n",
       "LFwG5LAnYNfFvQGCcYFT6AJ7GRh2gIU5gAHLOgG7LsYHEIwLPEQXuMLAoF8AEuZZXl5ei0OXBhTj\n",
       "AmzorvnKwGA/ASz8LS3tFg5dUVDM7r1IHFUGIsIVgCb6C2jqBrCwMwNDOg5Te6BYsYDtA6oMRIQT\n",
       "HF0RHSDQAjN1AVhYhYEPJS7fdPlGQ5lCEMz+h4EVNT6hIkwCWNy6ACzMy8B9AJbctoYeYDZ7wNwF\n",
       "5X+CYJYPDLyglFBxFwQuMcBFmD9gDQGQMPcBXlg0b1N/94CnmoFBC9VU/gSG96gJHiqCbio4tg6A\n",
       "hfkaQLmndFcyAw8o8JUnA+2EKpKE4PoNDPNRczZUBBICsWAvXIOmrPkFEOF0J6DR19n/MXCAJPad\n",
       "Q2jOgeD3Exg8OFEcCxXhacDMBWsZIMJTgUUBSwDzBQYrdFOXQjDHAc6rXCi6oSLoKYuBdwKfMFSY\n",
       "ERju/ArcDgy2aWlpG5SUEYp0IZjde5PZJrTkChbhUEAvXaK2GECFeYBB9v4B27mCJyAJlteIcGUs\n",
       "gGCicyyaMOMDe5sHLCADmKMKGHZDRXkWQDAusJqAMFP06RgGviQQ89W1FAXiSkK+BqKEuYDhiiJQ\n",
       "AsXYAUsBKcJIsbIBgrGDzTiFAS3vpPWV0nuyAAAAAElFTkSuQmCC\n",
       "\" style=\"display:inline;vertical-align:middle;\" /></a><br>"
      ],
      "text/plain": [
       "addCancelBasic: forall_{a in Complexes} ((a - a) = 0)"
      ]
     },
     "execution_count": 7,
     "metadata": {},
     "output_type": "execute_result"
    }
   ],
   "source": [
    "addCancelBasic = Forall(a, Equals(subtract(a, a), zero), domain=Complexes)"
   ]
  },
  {
   "cell_type": "code",
   "execution_count": 8,
   "metadata": {},
   "outputs": [
    {
     "data": {
      "text/html": [
       "<strong id=\"addCancelReverse\"><a class=\"ProveItLink\" href=\"_proofs_/addCancelReverse.ipynb\">addCancelReverse</a>:</strong> <a class=\"ProveItLink\" href=\"__pv_it/ee632a90637083598a41d917089c3610112fe17e0/expr.ipynb\"><img src=\"data:image/png;base64,iVBORw0KGgoAAAANSUhEUgAAALkAAAAVBAMAAADoXVL6AAAAMFBMVEX///8QEBC6urrMzMxUVFRm\n",
       "ZmZERETc3NwyMjKqqqp2dnaIiIiYmJgiIiLu7u4AAAAU9Wx4AAAAAXRSTlMAQObYZgAAAjlJREFU\n",
       "OMtjYKApeIBPkmkDBOMHh3ALXwAxTuPQZwLF+AGrAboIX/RWA7DwShCvD4e+PjxySKABXYBXge8y\n",
       "WLgMyGFPwK6LewMEY4LnKLxT6NJ7GRh2gIU5gAHPOgG76YwPIBgTzEbhPUSXvsLAoF8AEuZZXl5e\n",
       "i8PHGlBMyHQ2dNd9ZWCwnwAW/paWdguH6VFQDAPs3ovEUU2HiHAFoOpj/wU0fQNY2JmBIR2H6T1Q\n",
       "DAOKBWwfUE2HiHCCozWiAwRaYKYvAAurMPChxPmbLt9oKFMIimFO+sPAmoBiOlSESQCL2xeAhXkZ\n",
       "uA/AkunW0APMZg+Yu6D8TxDM3nsXBBRYPjDwbkAxHSrC/AFryICEuQ/wwpLFNvV3D3iqGRi0UE2H\n",
       "Af4EhvcGkCC4CAkCqAi66eBYPQAW5msA5cbSXckMPKDIUZ4MtBuqSBKKoaB+A8N8aMkxG0UEEjKx\n",
       "YB9eg6bI+QUQ4XQnoBXX2f8xcIAk9p1DGJcDxVDwfgKDB6cBsulQEZ4GzNy0lgEiPBVY1LAEMF9g\n",
       "sEI3fSkUQwHHAc6rXCjhDhVBT5EMvBP4hKHCjMB44VfgdmCwTUtL26CkjFCkC8XwxL3JbBNqmoGI\n",
       "cCigl2JRWwygwjzAoHz/gO1cwRNwMniNCHfGAggmuSRAE2Z8YG/zgAVkEHNUAcNuqCjPAgjGBNoo\n",
       "vNXYTYcLM0WfjmHgSwIxX11LUSCtBOZrIEqYCxjuKAIlUIwfsBSQIowUjxsgGD/YjFMYAM9hr+eB\n",
       "a8aBAAAAAElFTkSuQmCC\n",
       "\" style=\"display:inline;vertical-align:middle;\" /></a><br>"
      ],
      "text/plain": [
       "addCancelReverse: forall_{a in Complexes} ((-a + a) = 0)"
      ]
     },
     "execution_count": 8,
     "metadata": {},
     "output_type": "execute_result"
    }
   ],
   "source": [
    "addCancelReverse = Forall(a, Equals(Add(Neg(a), a), zero), domain=Complexes)"
   ]
  },
  {
   "cell_type": "code",
   "execution_count": 9,
   "metadata": {},
   "outputs": [
    {
     "data": {
      "text/html": [
       "<strong id=\"addCancelTriple_12\"><a class=\"ProveItLink\" href=\"_proofs_/addCancelTriple_12.ipynb\">addCancelTriple_12</a>:</strong> <a class=\"ProveItLink\" href=\"__pv_it/f57707f83ae96392054fade7384d64f5ec77c8c60/expr.ipynb\"><img src=\"data:image/png;base64,iVBORw0KGgoAAAANSUhEUgAAANYAAAAWBAMAAABOJX+pAAAAMFBMVEX///8QEBC6urrMzMxUVFRm\n",
       "ZmZERETc3NwyMjKqqqp2dnaIiIiYmJgiIiLu7u4AAAAU9Wx4AAAAAXRSTlMAQObYZgAAAtBJREFU\n",
       "SMe9Vk1oE0EU/vKz+d0kvRUEJVpB0ENzkB5ESdSDShQCKhRTMaikeMtFWyhikB5qDxIQQeihQSgi\n",
       "IoTaerAgiydpoUShFQRhCwVFxRSKFbEE5+3M7mY3y7oI+uDbnflmM+/N+5sA/1HUP39yQMCjvHJk\n",
       "5TTQpMGS228DOQ4PkjzKtpMydnp9J3ucBR7T5K7bBhGVw4tEyKZqFz1OS8AN9gqX3H6/IOAmH8U7\n",
       "VWOPxa7ln+TEumaxVHPbZ5eAm0yJdz+df82+6m+Tf3sgPxoZuem2jb/K4UnXU3qE7KbHtKS4BmyV\n",
       "y+/dtpHqHAjnH/Zal0xG1zW+cJptXbBHMT+nADPAcWDYOMOEQ7gVDuyuhDasSyYjdCW3kMogqnlh\n",
       "cIKEsgKtEjaBB8BeJE0PzeiDr5NninzkS3OEtyFZc6iDEbqibfjq8PfYzJ1WsYNZBiQQVwz2Dhk3\n",
       "f14JDKiBSZFaaY7gBhINNh/9QPIWJmPqkqpIFRCwHR+DwHcgC6YpYRbPD4bn+76p8hiw36orVULL\n",
       "WqU6w7z1hnsrUUC/0q1rBf5tTVeyepBNr7+4QvH6NafKFNm+e8xFwoc1jlsNTFs7WgczZZTXJVX4\n",
       "8KJ2/lVeXlJb8yGGjzGF78JUA/GmnIvQ6stlY8eQwtGq4WTUcrAORteVocDI9grZpCjiNRvdZ9kf\n",
       "LASoBkINuXnIposymBBRoisxW4YajNAVrEk5h5w/hXMi73wNCkicOpkvI5WOlMvlxp4+s5abHOH8\n",
       "7MCsrbwMRs/5/BDZkLb33nnKvtvUqJjLW2poucJUIqGsawZ+MeKFXgEvfUOTNec7QK8En5o9rI5W\n",
       "EqzgghW6Ry5UjH676NhOu684Q544fhJr6I4qLg0hq/iLdSQvE/F59Wr6L+4U7QDOzfOTdcprOsbi\n",
       "ZQlLjsOraI7plhPWC9j5I4wJeJRnjmzc2gfkf/zX5jcI4MZSVuGoNQAAAABJRU5ErkJggg==\n",
       "\" style=\"display:inline;vertical-align:middle;\" /></a><br>"
      ],
      "text/plain": [
       "addCancelTriple_12: forall_{a, b in Complexes} ((a - a + b) = b)"
      ]
     },
     "execution_count": 9,
     "metadata": {},
     "output_type": "execute_result"
    }
   ],
   "source": [
    "addCancelTriple_12 = Forall((a, b), Equals(Add(a, Neg(a), b), b), domain=Complexes)"
   ]
  },
  {
   "cell_type": "code",
   "execution_count": 10,
   "metadata": {},
   "outputs": [
    {
     "data": {
      "text/html": [
       "<strong id=\"addCancelTriple_21\"><a class=\"ProveItLink\" href=\"_proofs_/addCancelTriple_21.ipynb\">addCancelTriple_21</a>:</strong> <a class=\"ProveItLink\" href=\"__pv_it/763aac62f1fc43b915cc327f7a50803857e3df5f0/expr.ipynb\"><img src=\"data:image/png;base64,iVBORw0KGgoAAAANSUhEUgAAAOcAAAAWBAMAAADJFJavAAAAMFBMVEX///8QEBC6urrMzMxUVFRm\n",
       "ZmZERETc3NwyMjKqqqp2dnaIiIiYmJgiIiLu7u4AAAAU9Wx4AAAAAXRSTlMAQObYZgAAAw5JREFU\n",
       "SMfFVltIFFEY/vYye52dlV6sIFgzKIpwHsKHKNzqocKihS6ECi0WK1HQPFgGES7RwyYqCxIEES6B\n",
       "REQwmPagEENPkSD2YEEhjCAUFa0kGYsinTNzdtYzM6wsQX3wzcz+c858/zn/5SzwP6BvPMSrmqwR\n",
       "YsLV/Jpwhj5MVZ29j7EGLGwjl9N2q3SIqAky8JT+Gqz6hcENRzhxlzDksIaS5JIFbpBbMF1tflQ1\n",
       "6YSkOEyf2b1E97dgfxvPk8tbIk6CKuSriXp0k06Ena48ZGmwRn2qs79top+ZJ+486em5XXWndjHW\n",
       "IhoxUuWy/e1zegmQJS5nMh+rirYxlhFsfVxvE+2eaFA40VDrmAaMOCI9eYI4lAKOAF1WceRcRPsZ\n",
       "y2hQAou8qLce1/iVFtNYAh7QRyFngKaQtIy4jDDJpB2QstYHLd++951sZ4+bGMsLXYWQ5kV7NZzj\n",
       "RYd1bCXu2cOxBk8BXhLqGKKaZb5H/Rk/q/madV8fs/00GRyYo0j4FxFTedFTwCde9DzwC2ixiQpZ\n",
       "xFPwkX2KarFKav4mfLnzhy7eAnbzolbap1GUzW0b2Gxu2zKkJUMql3uXy9ESnYV31SkaS6FJM0Sl\n",
       "LO021ycu0uCsjOkiiTMah8jS2NAtjAy9KoZZ82QrDa4gvChxKy1BWGPbKxgbNJc2y/SCbmwvug4T\n",
       "5Q9BWlnRGTFp9JFX0xWVq4wMxTyOheX1olIJ/uwQJ7pEg4c39t4g00iLNIXuk5ryp3y0sgKqOLPf\n",
       "LjoCLvlDWng2wse0H49SBU70OM7AWTL+vJA0SwYeMjWeiNLgeGQhfTCTyajbGytD9zJaZTraPMqL\n",
       "dk82XklwogvjNDnv2Ntmawf1mg4VSYCKemCalHccMW3B8OlbJaYexWQtHcnUqHNtNvOV/tpyQL+p\n",
       "xEg9++n3fW0KJsvnYsGtd5cPWhv2rHuOuJ/Bz6zp7VMdaNG87QVIndTw9f2lxN8cbRRfXK3rWpEB\n",
       "s0lESEw5czdjrTjqavXzkfIp7pODqskaEZVdzS9sf2r+1f+yP7Uh0qzTPzwgAAAAAElFTkSuQmCC\n",
       "\" style=\"display:inline;vertical-align:middle;\" /></a><br>"
      ],
      "text/plain": [
       "addCancelTriple_21: forall_{a, b in Complexes} ((-a + a + b) = b)"
      ]
     },
     "execution_count": 10,
     "metadata": {},
     "output_type": "execute_result"
    }
   ],
   "source": [
    "addCancelTriple_21 = Forall((a, b), Equals(Add(Neg(a), a, b), b), domain=Complexes)"
   ]
  },
  {
   "cell_type": "code",
   "execution_count": 11,
   "metadata": {},
   "outputs": [
    {
     "data": {
      "text/html": [
       "<strong id=\"addCancelTriple_13\"><a class=\"ProveItLink\" href=\"_proofs_/addCancelTriple_13.ipynb\">addCancelTriple_13</a>:</strong> <a class=\"ProveItLink\" href=\"__pv_it/182f6dfb5077056036fbe3e8a7ef532d01a915a00/expr.ipynb\"><img src=\"data:image/png;base64,iVBORw0KGgoAAAANSUhEUgAAANYAAAAWBAMAAABOJX+pAAAAMFBMVEX///8QEBC6urrMzMxUVFRm\n",
       "ZmZERETc3NwyMjKqqqp2dnaIiIiYmJgiIiLu7u4AAAAU9Wx4AAAAAXRSTlMAQObYZgAAAs5JREFU\n",
       "SMe9Vk1oE0EYffnZ/G42vRUEJVpB0ENzkB5ESdSDShQCKhRTMaik9JaLtlDEID3UHiQggtBDg1BE\n",
       "RAi19WBBFk/SQolCKwjCFgqKigkUK2IJzuxMNp3dcZOLfvCyu1/e5M1+fxPgP5rRmXKIo0t7LfWq\n",
       "CaBGb5bd1vrSDA7TjtdkfCVp92zsJh/ngSf04Z6bVshgkHyTli4oOTwTlAzcJJdg3k1rkaNtn/g1\n",
       "XpYuWHJ4ftEgVswdK2U3rT0cbZvm1355stftDm+TRrwH6uPR0VtuUt4Sg0TrmXxFwL71iJnXEWCr\n",
       "UPjgpqVUGBDMPOoVtSYWz4pcRolk7XnNzOvALHASGLbeYVJSADoD9hYDDUFL20JcrDlGCZtRGJyk\n",
       "RqsC9Tw2gYfAfmjtCM22br5NncuxO0+CIbgNJS9ohZvwVITXYhRvj227MwZ2kY0AMUR1y3uXbnfh\n",
       "ou4bMHxTvNgSDP4GYlVBSykhTsI19pHaO1gUX8OmNQj8AFIgSrF2Of0keHHgu6GOAwdFrXge9SSL\n",
       "zVsWm1gW/frO3+QUh9YqvNumllY6TB5vvLxG8/V73lBpZvvuk4jwGJYZblcxwyfatNVeV4Sq5xQW\n",
       "w8vm666x9lKaZgwxfIIIvg/SHojW1HSIfvtqpV3BOkO9jNPhpKCVpGnYYZyi2gfHppnXN+TuAal+\n",
       "f9ZHeyBQVWtHbFq0gilCeng1IuTLX1bStpI1KY6aP4MLvO48VZqQKF3mSSr5Y4VCobqvr93LNYZg\n",
       "Zm5gTqz5zJC9vUxKKGGfvQs0rXfooCIxrxuBlSKRREzfMLf81coXejmcc+Mvti71aq1O8Bipo8ZY\n",
       "MUYazl+k58ilojVvlxzjtMNh9lTqjVRbgcotDyGle3MVaFep48va9UTHM0VuWknq/iw+smaJkHwJ\n",
       "WUgzdGtmYJx2SjyA5SSMc3Rpz6XeqDg51X/81+YPcJzGUlZCTBQAAAAASUVORK5CYII=\n",
       "\" style=\"display:inline;vertical-align:middle;\" /></a><br>"
      ],
      "text/plain": [
       "addCancelTriple_13: forall_{a, b in Complexes} ((a + b - a) = b)"
      ]
     },
     "execution_count": 11,
     "metadata": {},
     "output_type": "execute_result"
    }
   ],
   "source": [
    "addCancelTriple_13 = Forall((a, b), Equals(Add(a, b, Neg(a)), b), domain=Complexes)"
   ]
  },
  {
   "cell_type": "code",
   "execution_count": 12,
   "metadata": {},
   "outputs": [
    {
     "data": {
      "text/html": [
       "<strong id=\"addCancelTriple_31\"><a class=\"ProveItLink\" href=\"_proofs_/addCancelTriple_31.ipynb\">addCancelTriple_31</a>:</strong> <a class=\"ProveItLink\" href=\"__pv_it/23a0971294986725a8b37c47ed062151ff7acafa0/expr.ipynb\"><img src=\"data:image/png;base64,iVBORw0KGgoAAAANSUhEUgAAAOcAAAAWBAMAAADJFJavAAAAMFBMVEX///8QEBC6urrMzMxUVFRm\n",
       "ZmZERETc3NwyMjKqqqp2dnaIiIiYmJgiIiLu7u4AAAAU9Wx4AAAAAXRSTlMAQObYZgAAAwJJREFU\n",
       "SMfFVk1oE0EUfvnZ/G424qUqCKkRFEG6B+lBlEQ9qEQx4A/SFAwqKaJgDtEKIg3ioZa2BETwIg1C\n",
       "ERFhqa2HFmTxJBZKLlVQClvooaiYYDASWoJvdiebzO5may/64NudfMzM9/a9eW8C8D9M2XiKU9Kw\n",
       "SeMjlvQ7RIkM5m1XH6DoaCs7LemzRkI4gmqcCPCC/Bq3FR3fcMYDS9ZnZuL4yAPcxpc3bbdjUNJg\n",
       "NiFLB3UjocW3aFwQLuDjA4pjUrmCnahD0WA2P3XF2TAQ1IUtxgU9ZJtldOf54OA929jtpegsGihZ\n",
       "isI144JX5OHBT6xlMp9tRfsomuZNPOtiNXyJaZkVzc12Y6QnTbmfO4UuJgGOAQzoxTFsITpK0bTu\n",
       "rKfCipbTUGXj3QU38fWEjLlh1cgREmoQFsGPJ2k3CHl9Q9237yOnU3S4laL5oevApVnRCQV2MMSQ\n",
       "DBeIe8Z0NMBRBCemOgRBWacfEn9mzsuuXsU1QrmfGrxjS8Qi7gqEJFb0IsAvhjgD8AVfMYMol4dw\n",
       "ElwYp6Acah3N34g3e34o/F2AfayofuzTUBa1sI1t08K2CM51hqiBULUQDSWhR1ZFhTzpNrdmr5Bc\n",
       "rE0rPOYZoo/w0+jU7RTUhiSYoM2z+WF14BrthHcN/BWBhpdTA7SU1sr0kqKGFwaOovInL1kWLPFx\n",
       "tY+8XWip3KCgVi7ACb/IiFZJqtoIoQ7uPLr93tgbRJJ7nhyhx1hl7qSL1JpH4ksHjaKTwBx+n+xf\n",
       "DLA5PQnnWGIUniaL5pJxF7i4VjLgwJnhSJDkwiFy6cOZTEbaFW1N3U+hl+lU7xSrsTIjs0RuLnod\n",
       "75j7xraZ6Cdek9uHxwSVFc8CVnMYQvKK6tO3Vk4dWQ2dO1IHwtwGVVtu9dfYIeVONoT17Cb7u/qy\n",
       "MNfWt829u3nR2hAB6zv4pT47Nd8PMdmZKoJwmRBfP16N/P3VZm2rlmxbK1JNy0wAc8rQOYrN2nFL\n",
       "1s1mypW1XuyVNGzSgqIl/drwp+Zf/S/7A73l01Hk3QRCAAAAAElFTkSuQmCC\n",
       "\" style=\"display:inline;vertical-align:middle;\" /></a><br>"
      ],
      "text/plain": [
       "addCancelTriple_31: forall_{a, b in Complexes} ((-a + b + a) = b)"
      ]
     },
     "execution_count": 12,
     "metadata": {},
     "output_type": "execute_result"
    }
   ],
   "source": [
    "addCancelTriple_31 = Forall((a, b), Equals(Add(Neg(a), b, a), b), domain=Complexes)"
   ]
  },
  {
   "cell_type": "code",
   "execution_count": 13,
   "metadata": {},
   "outputs": [
    {
     "data": {
      "text/html": [
       "<strong id=\"addCancelTriple_23\"><a class=\"ProveItLink\" href=\"_proofs_/addCancelTriple_23.ipynb\">addCancelTriple_23</a>:</strong> <a class=\"ProveItLink\" href=\"__pv_it/b31ea09e53d1075be40bb2c2c5ae78d6d26792ce0/expr.ipynb\"><img src=\"data:image/png;base64,iVBORw0KGgoAAAANSUhEUgAAANYAAAAWBAMAAABOJX+pAAAAMFBMVEX///8QEBC6urrMzMxUVFRm\n",
       "ZmZERETc3NwyMjKqqqp2dnaIiIiYmJgiIiLu7u4AAAAU9Wx4AAAAAXRSTlMAQObYZgAAAsNJREFU\n",
       "SMe9VktoE0EY/vLYPDeb3goFJVpB0EN7kB5ESdSDShQCKhRTMaikeMtFWyhikB5qDxIQQfDQIBQR\n",
       "EZbaerAgiydpoUShFQRhhYKiYgrFiliC88pjJmGzCPrDt48vM/vN/K8J8B/N7j5kv4BLe9WR1RNA\n",
       "hT4sO831pRiMIxV3WtqgyqzvIJczwGP6csdpbsgWSLncWLGNmaSfAa6TWzDnNHVRIF4SxKcuWktt\n",
       "zC/qxDJbsVZymrpTYKAe2gddtD6qhLdGLkYP9EdjYzecZnqLHHgKl1oBdekRFumrwFY+/94x1GUO\n",
       "TC6ekrWC6Ye98ljORDJqxNPzFjALHANGG3uY6pAaFoexhfigpLWrENiQx3ImzJJjeIoazQpUc9gE\n",
       "7gN7YDQTZ7b+8G36dJY/eRIc4Ro85Vat4DY0OakE4+1Rljtjo48sBIghajXY2zSIC+cs35Dtm+ZU\n",
       "PMGhFRHPtGr5NxAzyX38A7W3Tcan7BbDwA8gCaIUa/aOnwTP93639Qlgn6wVy2DAYq55w10Tz6Eq\n",
       "l61g2rRW4d1mWkbxAHm99uIyjdfveVuni++/SzwifFjiIOV10W7d100TM3KLEwz34QW23TVeXlqN\n",
       "+RCjR4nguyCtgWhFT4Xory9XmhlscZDE6JPysFrCibC0McHoauPYZJF+TZ7ukez3Z3y0BgKmXjmo\n",
       "aNEMpvCXtJSkFbLCqxElZRnTlvMncVbkncekAYnSD3kGtdzhfD5v7u5v1nKFw0iPyLUcTM8NzSnl\n",
       "xZhQQu29CzT7btFGRXxetQMrBSKJmLXOcuxrI17oFQD+tkcxM+qV4LGTh+zxQowUnL9Az5HzBdZv\n",
       "6610ST3PnOxJRzZi1h2VXR5B0vJmyzAuUeLL2pWEcqa4NaPYkf4sv/KajpB4SVFIcbg15ph2Oy4f\n",
       "wJ0HYULApT3ryEblstf/8V+bP3ObxlKPEvQeAAAAAElFTkSuQmCC\n",
       "\" style=\"display:inline;vertical-align:middle;\" /></a><br>"
      ],
      "text/plain": [
       "addCancelTriple_23: forall_{a, b in Complexes} ((b + a - a) = b)"
      ]
     },
     "execution_count": 13,
     "metadata": {},
     "output_type": "execute_result"
    }
   ],
   "source": [
    "addCancelTriple_23 = Forall((a, b), Equals(Add(b, a, Neg(a)), b), domain=Complexes)"
   ]
  },
  {
   "cell_type": "code",
   "execution_count": 14,
   "metadata": {},
   "outputs": [
    {
     "data": {
      "text/html": [
       "<strong id=\"addCancelTriple_32\"><a class=\"ProveItLink\" href=\"_proofs_/addCancelTriple_32.ipynb\">addCancelTriple_32</a>:</strong> <a class=\"ProveItLink\" href=\"__pv_it/b45eb8edb4d40b15cb2f46991906cb193ef7f9970/expr.ipynb\"><img src=\"data:image/png;base64,iVBORw0KGgoAAAANSUhEUgAAANYAAAAWBAMAAABOJX+pAAAAMFBMVEX///8QEBC6urrMzMxUVFRm\n",
       "ZmZERETc3NwyMjKqqqp2dnaIiIiYmJgiIiLu7u4AAAAU9Wx4AAAAAXRSTlMAQObYZgAAAsZJREFU\n",
       "SMe9Vk1oE0EYffnZ/O5ueisUlGgFQQ/NQXoQJVEPKlEIqFBMxaCS0lsu2kIRg/RQe5CACEIPDUIR\n",
       "ESHU1oMFWTxJCyUKrSAIKxQUFRMoVsQSnNmZJJ3JdrsI+sHbzLyZ3Tf7/W2A/2jmzlsOcri0V7as\n",
       "GgeqdLDkdK8vZUE/VnWnpSRkZm0XuZwDHtPJXad7QyZHyuWLFTuYcfoY4Ab5Ceacbl3giJW23fJJ\n",
       "mC12rP+iTixbJ1ZKTlq7Ofq2D+2UMPsoL3sb5KJ3QX00MnLTScpbZMBTuNQKyEePWJEeBjby+feO\n",
       "oS4zYHzhjLgSTD/sFrUYE8nIEU/PGcAMcAIYar3DhE1qGAz6BmJihu0pBOqiFmPCVnIMTFCjWYFa\n",
       "DuvAA2Af9HbizDQH3ybPZtnIE2cIN+ApC6+1CSUnaHHG2yUdd9pEDzkIoCFqtNg7NIjzFwxfv+mb\n",
       "ZFQszqAUESPOGf1A7S1Z8NehVQQtzvjqktYA8ANIgihp7QT7SfB8/3dTHQMOiFpaBn3G1ifEcqgl\n",
       "mLPeMGdxpkNrBd5NS0svHiLT6y+u0nj9njNVGtnee8Qj3IclBlJel4Wsv1XBNG9xUwLDfHjJcsAq\n",
       "Ky+lYfkQQ8eJ4LsgrYFoVU2F6OrL5XYGGwwkMXqE09ZKOBVObNXijCo3jnUr0q/J6D7Jfn/GR2sg\n",
       "UFGrhyUtmsEU/pKSkhI0vBIR4sWZjpw/jfM87zwVGpAofZAnoeSO5vP5yt7edi1XGfT0oFxes/2z\n",
       "Yh4yJhSXe+88DfRt2qiIz2tmYLlAJKEZa1ZGfW3FC90cwN/2KMv0ZiV4zOQRc7SgkYLzF+h35GLB\n",
       "6rfNVrq48xeubU9s90QqTUdllwaRNLzZMvQrlPiyei0ufVPcml60pT+LU1Y+ERIvIS4pBrdmOabT\n",
       "ToofYPtNGONwac9s2ajYS9V//NfmDwjxxlLxZEv4AAAAAElFTkSuQmCC\n",
       "\" style=\"display:inline;vertical-align:middle;\" /></a><br>"
      ],
      "text/plain": [
       "addCancelTriple_32: forall_{a, b in Complexes} ((b - a + a) = b)"
      ]
     },
     "execution_count": 14,
     "metadata": {},
     "output_type": "execute_result"
    }
   ],
   "source": [
    "addCancelTriple_32 = Forall((a, b), Equals(Add(b, Neg(a), a), b), domain=Complexes)"
   ]
  },
  {
   "cell_type": "markdown",
   "metadata": {},
   "source": [
    "Need to deal with cancelation in 3 operand cases in which only a single term remains."
   ]
  },
  {
   "cell_type": "code",
   "execution_count": 15,
   "metadata": {},
   "outputs": [
    {
     "data": {
      "text/html": [
       "<strong id=\"addCancelGeneral\"><a class=\"ProveItLink\" href=\"_proofs_/addCancelGeneral.ipynb\">addCancelGeneral</a>:</strong> <a class=\"ProveItLink\" href=\"__pv_it/1a3642e5a098f9a019f801d3224df216b34ecacc0/expr.ipynb\"><img src=\"data:image/png;base64,iVBORw0KGgoAAAANSUhEUgAABLMAAAAaBAMAAAC+8ANkAAAAMFBMVEX///8QEBC6urrMzMxUVFRm\n",
       "ZmZERETc3NwyMjKqqqp2dnaIiIiYmJgiIiLu7u4AAAAU9Wx4AAAAAXRSTlMAQObYZgAACeNJREFU\n",
       "aN7tWw+MXEUZ/+7t/923b0+aYNUQD1or2jT3tFDOGtO1xCDWwgbahOuhLmgWtZauCeEa0PY0aI8i\n",
       "3CagIVkb1qRYG4FbbbkY29LN1UNSja5/aAi68DQNENpyxx13RXq9debNvD/z3rz3Zjfk0sB+yezN\n",
       "mzfzzff79jcz38zsAYjLtkYROtIREVnVqLRSvd7xWEdEJZYFrRVqKYtnmlQl6SKXx5oCNiaa50lm\n",
       "nI/z4hPT4lb9IPeQhKmlT0V/EqRWWm+9KM64iqb2Rfn8uzvNnrqMU/jfZo+AJb3TJBNRuTgvPjEt\n",
       "FhXTDzfThKh1AD8/JEitZAn9iWuLAe4hYbM8JZ59d026jze5NkVa9k7RzBAX50UopsWii4zhhzhN\n",
       "iFp34z95QWrpFe9eDGipKkn+8ip/yNHdRqbkKGhDl13+x6mafNtz4Ns6HTUodYKH069lC3BF8bwq\n",
       "4oLRIQF7bC9MP8gVkhC18BwUKYmG8XiM9S8Gtbo0kvylzA8U6NfVqzkK2tBlH5gLnKrxdzzDFVun\n",
       "I8Z26T88nH4tW4Ariqcs4oKRioA9themH5RukhC15P2Dg98X3iGeGBwcXJSN4pU0wdHGWD3QF6nG\n",
       "v7a5ET/pckHitkYt0K8/u+zf3ArJuqvq0cbodCC1Uo0XzYAsWuLgdGIMphbTwANduXWgZY7FQtSy\n",
       "++FbJCFqwVyh8KIwtTKFwrbKYlBrC01np2GkO4hayss98TfdiO87/GWHC7ZXkjNBHo++A6MqN3Tb\n",
       "cKjGVsXGTQVRCxtnBmTJHAenE2MgtdgGHujKrQMtcywWoRbjh8dJwtS6FuAOYWqFVYi2cm7aV2uT\n",
       "Wj+hCU3Mo/kgaqHZODnnQqzMQUZlXBB9C3ZNB3l8ezbG3/VN5mGGrYqNGwqiFjbODMgSuHpkWJcs\n",
       "eGAMpBbbwANduXWgZY7FItRi/PAoSZhay0EZAuVGTYhaUhZew3G/6lmJnfGjapvUuoQkuVmEEQRg\n",
       "ja+X/noO4uctDBRxYgG6KowLHjsHkQqE8n66EqjHLfyjGw0+zFTVjat4GWd0io0zAzKp243ThTGI\n",
       "WrTBqQXwQxdELQ7QMmOxqSmIWoYfiFxOEqZWGlJoalnl0Tr0o5vgN181qYXSEfR5j+mqYccWtLKW\n",
       "jVLbXRCnSYpfAGiqcPVGXy+N1CEzY2GgiCNDkMmxowsjCG2q+86AF9jiHQ0sf0e5WwBmXVXRuPcw\n",
       "ztZpxpxMQlNunC6MQdSiDaQ6+KELopYTKOvOaZumIGpRP1BZRxKmVqqW1sgK6ZLTm2+FZ5NaUrOo\n",
       "dQReQp/WuHe0O1ZKGn0oz+17vmodVOiPNH9mz8YBuf/I+glriqNFWQe1MrMQwsv+Xo51twwP/214\n",
       "GB82NXOwboraglabB5fqq006B701ewGuhx1S99OVmfX6Sp4Had5ZNdTUuMaxna5b8KMWi9HW0sdE\n",
       "3ECP2zzQWZWFgbLuXDA0edpjvTD84KKWMnQVXfNdZy6373wD/lzN2an1WijL0Ph+tsmNGlpdQXl6\n",
       "cw1W3wl9FescR3+k/l2jhfYkxuASyQxqjSJzvfgQSZl5SL0t93CpZQ2zZg2ODY2bGKh5mRJ8TWOG\n",
       "XbPmRS1LV2be+1grsuCsmrrgaZyt02P1cfuCGNEnwkYePDAGzVq0QbwGfuiCZi0O0DJjcUJ01jL8\n",
       "4FoQ4Y716OMcXjMHVu5Ljak0BzCBax5/+F47taJ3IRW2SP4c29kH9G3B2Mff0OCPVZAqWPUnkD6V\n",
       "PEpomjoO8r0An4RrlTo+3GeKYmYw+B2SuqYhOhsvUrdjOxQjY/PFR3tge263aYuBWDViI8M3L9ew\n",
       "NcRlXrrS89imid/+Pnv46yy2GSN0M6oyxlm62IiPGkc8CrIz6ndhtLU0TVSA12+m6I3ORi0vLRyg\n",
       "rDtd1FIYddYLag9WhZ6eI0mn1k+RihAeTWd6a+msnKU5ldxKHE+eWWujVuIrJIJSNhbwoYh0/hB+\n",
       "+frJPaCXvQVwGGQ8GUmfQRwtvlTTD2Qn6CP045fLHkY9Qz2RS8v6CaxVlBrX2C1sCm2Qz/fRxULB\n",
       "0cFknWZsvjhWSTYPDoW6WcThUiTrCHTz8PoHics8dSXmQPnFzvF5+Cf8gWXB9bCJrcoYZ+oyFBqd\n",
       "EuOIR92HD06M9h2uYSL5cPX7KfBEZz9J8NLCAcq4000tE+IkG+URexSk6h/s4QN04TsVPDvv/B0a\n",
       "6Tp4nCuG9DF6HCr7bNSCj+AjBYDv5pN4Qk3VMRWVhjYCRtly/QoJUmdwqwE8svoRd8gjohmaCp/5\n",
       "C4acT5aiBx1F8hOGe1fRdPSFZ27bbVDrUnyenacZu68bD7yytJhy7GiUDbc6fCP94ME9GqWWly64\n",
       "cukLT8VOD6FJyhFHnnq65qhqN87UZSg0OiXG6R5FEa/zWMOJ0W6/YSL5cPU75o3OTi1PLW6gjDvd\n",
       "1DIhGpqMF7o9WBVeN35Ikk4tGX3pUb3SBjQS4iWSuxxCJwuFrYha3ztrpxbmwHKA7WoE64lWZXza\n",
       "NQMDYJT1wVqLWiTg+4L1uClHeWQJpwjxvUgSlb0CdxbRqldswBb4x1pEwlU0B94veFWyV+T+ZYMe\n",
       "hLgvejgYBS96tvqjE7voYYCyTYRjLVOV1M1c9FCEq/HnEjQSdkkkt1lSsmTWkj5rpxaWR0B5E9J4\n",
       "s9OlRhCDM/pSRMv64HOFQqEqXWEeaaXQ0mk8HkUj/4pljIGcIuuW059aK5lvabURKztdIYlQi9Wl\n",
       "pvKxqR4Q6NbLOIcV2KMAvwYOTqcaz59wsf0uUX3RrQQRLQzQlXxqedrDvkBcyPVAEpXhZFJrMgU7\n",
       "irEpNLaeTZLckmVwHaEWnHBSawXE5mDyTqQgA+mafk6Nz1FJ2Qo4pVe6oYqDKywT4ZLxKOeuR/Q+\n",
       "jQMr07nuIizsj2r2ChyFIQxCkhC4BN2FxqCcF7zSEjGOeFRxn923htEmylS1XXRiQFvUhFR1fVrV\n",
       "T9T1U3WDWuEDsK4m5VEctmY/yW2pwSuIzNKPeyAMDmqdBbgURp+o7Cim4VHExHQdItfsJmVwAsI6\n",
       "o67eT38xgiKtfuNxAgf1oS1FFOwbwinCchdNutwzMhAMLXxAyAOxX80G/xBiBaTV0LfFrrSEjCMe\n",
       "Dbs1tobRLl8qtYtOCGirmpCqCAqV8Xx0nZ1aWGqu3C8LWx0XPXTfqkHf8KGTGuLgQAUxMfbFbz4Q\n",
       "midlcBMot+uj6snCer32x/RfV+qP+CDrZryh/Ia51nCKCLIqSe8pOcj5Bt9bGFMqSQy1QkV3znWH\n",
       "SNuXGA6ST5mWoTk/iWIt6Mj7WuzUkjk5D2opeTsHKROvCdhOdOR9S61gaZj/h/hzOwdlZhUNd7za\n",
       "Efx/iNn2Gsrev5V5quPWjujyf2MeMUbC+PbyAAAAAElFTkSuQmCC\n",
       "\" style=\"display:inline;vertical-align:middle;\" /></a><br>"
      ],
      "text/plain": [
       "addCancelGeneral: forall_{l, m, n in Naturals} [forall_{(a, b, c, d) in Complexes^{l} * Complexes * Complexes^{m} * Complexes^{n}} ((a_1   ...  + a_l + b + c_1   ...  + c_m - b + d_1   ...  + d_n) = (a_1 +  ...  + a_l + c_1 +  ...  + c_m + d_1 +  ...  + d_n))]"
      ]
     },
     "execution_count": 15,
     "metadata": {},
     "output_type": "execute_result"
    }
   ],
   "source": [
    "addCancelGeneral = Forall((l, m, n), Forall((aa,b,cc,dd), Equals(Add(iter_a1l, b, iter_c1m, Neg(b), iter_d1n), \n",
    "                                                                    Add(iter_a1l, iter_c1m, iter_d1n)),\n",
    "                                               domains = [Exp(Complexes, l), Complexes, Exp(Complexes,m), Exp(Complexes, n)]), \n",
    "                              domain = Naturals)"
   ]
  },
  {
   "cell_type": "code",
   "execution_count": 16,
   "metadata": {},
   "outputs": [
    {
     "data": {
      "text/html": [
       "<strong id=\"addCancelGeneralRev\"><a class=\"ProveItLink\" href=\"_proofs_/addCancelGeneralRev.ipynb\">addCancelGeneralRev</a>:</strong> <a class=\"ProveItLink\" href=\"__pv_it/8e6cf5c1aab39983fc85c8b4cfd53f17ffd62e580/expr.ipynb\"><img src=\"data:image/png;base64,iVBORw0KGgoAAAANSUhEUgAABLMAAAAaBAMAAAC+8ANkAAAAMFBMVEX///8QEBC6urrMzMxUVFRm\n",
       "ZmZERETc3NwyMjKqqqp2dnaIiIiYmJgiIiLu7u4AAAAU9Wx4AAAAAXRSTlMAQObYZgAACcxJREFU\n",
       "aN7tWw+MHFUZ/272/+7sbKUJVgxxobWiTdPVQjlrTNcSg1gLG2gTroe6/Mmi1tI1IRwBbU+j9iiW\n",
       "2wQ1JOelS1KsjcCttlyMbenm6iGpBJYADUEXRtNQQlvuuOOuQK+3vn8zO29m3sy7Dbk0sF/y9t68\n",
       "P9/7ft/+3nvfvLcHIC9b6kVoS1tkZHm9PJfmtbbH2iIrkSzoc6GWNn+mKRWaLnDZ3ZCwMdY4RzMj\n",
       "7jgvPDEtnqsf1DRNmFpkKfqXJLWSpPe8OONKlloX7Rsf7TJ74lKXwv810hKWrJigmVDGFeeFJ6bF\n",
       "smL64SaWELX24eeHJKkVL6E/UX0+wD0kbZZQotmP1qRfui2uDZmeK8ZZptcV5wUopsWym4zhhyhL\n",
       "iFr34D95SWqRhvfMB7REhSZvOelZmyoZc1Dm9eOkb80HLk3j7wsnvmXQIYNSx9xwevWUMFHQ/GTr\n",
       "QK0We9ljqTD9oJZpQtTCa1CoJBvG4znWNR/U6tBp8pYB75ln9I/JbOEDfjXKrEvT6IfCcMUyaL/x\n",
       "uvRfN5xePSVMFDQfaBkoZ7GXPZYK0w/aApoQtdS9PT0/k35DPNbT0zMvL4pXsASH68M1X18k6v/e\n",
       "4qx9wuGC2K31qq9ff3/pf1xr4jVH08P1oQlfaiXqr5kBWbjkgtOO0Z9aXAcBuoGWgXIWS1HL6ocf\n",
       "0oSoBdOFwmvS1EoVClvK80GtTSydmYD+BX7U0t5IR991iY0Ofsfmgq3l+KSfx8MfwlDGrSa67kCV\n",
       "b4qNG/ejFjbODMjiORecdoy+1OI7CNANtAyUs1iGWpwfHqMJU+sagDulqRXMQHgu56ad1Rap9RuW\n",
       "0MI8lPejFlqN49POSGAaUhnOBeH3YPuEn8e3ZiO2tz5WM5aHSb4pNq7Xj1rYODMgi+HmoT4iWRBg\n",
       "9KUW30GAbqBloJzFMtTi/PAITZhaS0DrBe0GXYpaShbewnF/RtiIX/HDmRapdRFNaqMI/QjAKk8v\n",
       "vXAWouccGGKz0FHmXLD7LITKEMh76YqhETe51uzW4RKugBhXFhlnDIqNMwMyZYETpwOjH7VYhxOz\n",
       "4IXOj1pioMxiU5MftQw/ULmMJkytJCTQ0rJc0DvwqxvhL98zqYXSIfR5n+mqPtsraHk1H6W2uiFO\n",
       "0BQ9D9DIwFXrPb3UX4PUJMMQ2VXHgqZjqBdSOX52YQSBDTXPFfC8qOZmgClHUzTvBcZZBk2Zi0lg\n",
       "3InTgdGPWqyDUgMvdH7UEgOlFjc1+VGL+YHJGpowtRLVpE53SIec2ngLPBPX43qTWofgdfTZnPe2\n",
       "fkdKcWMM7dk9r1SaBxXkkeVP71zfrXYdWjvaXOJYUdZGrdQUBPC2P+hi3c19fS/29eHDpkYO1ow7\n",
       "bEnmYEWVbD+7FtHtp0GYFqt56UpNiWpeAWXG3jTQ0F2N4wddM+tFLR6jpaeHibgDidsE6JqNWwDK\n",
       "LKaahPY0Kww/OKil9V7J9nzHmctt296B5yo5K7XeCmQ5Gj/Ad7lBR7sraE9trMLKu6Cz3DzHIY/M\n",
       "v6v0wM7YMFykmEGtUWTuF5+hKTUDiffVtCu1mtOsUYUjvSN2DKkSfF/npl2jKqJWU1dqRlTzAYRm\n",
       "7U0T54XGWQY9Uhuxboghsq7W8yDA6LdqsQ7RKnih81u1xECZxTHZVcvwg2NDhDvXoo+zeM/sXrYn\n",
       "MZxhOYBR3PLow/dbqRW+G6mwRPJn+cE+RV4Lhr/wjg7/rIBSxqq/iPRl6KOClqmjoN4P8CW4Rqvh\n",
       "w32uKGIGgz+mqWMCwlPRInM7tkMzMhZffC4NW3M77LagGP4S3jdvVLE11GUiXckZbNPoX/+ePXg7\n",
       "XzNphG5GAWdcU5fOD0qNox4F1R71OzBaepomauA2bqooRmehlkiLGChzp4NaGqeuWcHswarQ07M0\n",
       "EWr9DqkI4Nl0ekU1mVWzLJehtxJH46dXW6gV+y6NoLT1BXwoopw7gCvfPr4TSNl7AAdBxYuR8lXE\n",
       "0eLrVXIgO8oeoQtXLn4YjQy1WC6pkhPYZlFiROdfYRPoBflcJ9ssNBwdjNVYxuKLI+V4Y39vwBYi\n",
       "B0uhrC3QzcPbn6YuE+qKTYP26LaRGXgZ/sHXXAcb+ALOOFOXodAYlBpHPeo8fLBjtPQ0TaQfjnG/\n",
       "DEJ01pMEkRYxUGqxk1omxDE+yqP2aEjVS/zhA3TgOxW8Om/7G5rpBDzOFQNkjh6F8h4LteCz+EgB\n",
       "4Cf5OF5QEzVMRa2u94NRtoRcIUHiNO7VjWdWF+IOfUQ0Q0vh089jyPl4KbzfVqQ+brh3OUuHX336\n",
       "1h0GtS7G59l5lrH6uv7gm4uKCdubn7buFptvlJ/v2qkzaol0wRWLXn0ycqoXLVKP8TUnnqramlqN\n",
       "M3UZCo1BqXHEoyjiTduoZcdopZZhIv1wjDssRmelllCLECi12EktE6Khyagg9mBVeN/4BU2EWir6\n",
       "0sOk0To0E6IlmrsMAscLhc2IWj89Y6UW5sASgK2ZENYTrqj4tGsSusEo64TVTWrRgO+bzccNOcaj\n",
       "prgUIb4XaWIyKHFnEa7I3Ln4xVpsxaugNfABUdRiKxiUuX9ZR4IQ50WPC0bJi57N3ujkLno8gErH\n",
       "WqYqZQF30cMQrsSfC9FM2K7Q3EZFy9JVS/malVpYfgvau5DELzsdmRBicIpsRaysE75eKBQqyuXm\n",
       "kVYCbZ3G42E08y9fzBnoUtS85fSm1jLuW1opcqYiQy1eVyaRj4ynXWpcCgYlBiUeBfgzuOC0qxH+\n",
       "hIsfd2HGE90ykNHiAdTUJLSHr0BcyKUhjspwMqk1loB7i5FxNLeeidPcwsVwLaUWHLNTaylEpmHs\n",
       "LqQgBckqOafGJ0q0bCmcII2ur+DgCstosGQ8qrnrEL1P4cDKdK6zCAv/o5pBiaMwhEFKYhKXoNvR\n",
       "HFTzkldaMsZRj2rOs/u5YbTu9+OVVtHJAZ2jJqSq4ysZcqJOTtUNagX3wZqqkkdx2Kq9NLepCm8i\n",
       "Miu/TkMQbNQ6A3AxDD1evreYhEcQE5M1CF29g5bBMQgSRl21l/1iBEVaXcbjKA7qA5uKKNg3xKUI\n",
       "y90sEbmvv9sfWnCflAcif5ry/yHEUkhmAj+Su9KSMo56NOjUODeMVvl2qVV0UkDnqgmpCqFQGa9H\n",
       "11qphaXqyP2xsNl20cPeW3Xo7DtwXEcc7C4jJka+9YMHAzO0DG4E7TYyq54orCWtP09+XUke8UHW\n",
       "TfiF8g4znHUposgqNH2sZL/LN/jxwpjI0MRRK1B05hx3iKx/ieMg/VRZGVrz4yjWgrZ8osVKLdUl\n",
       "J6CWlrdykDHxap/XibZ8YqnlL3Xz/xD/YOWgyu2iwbZX24L/DzHbWkdV/FuZJ9tubQuR/wMuIDAL\n",
       "m9zgUAAAAABJRU5ErkJggg==\n",
       "\" style=\"display:inline;vertical-align:middle;\" /></a><br>"
      ],
      "text/plain": [
       "addCancelGeneralRev: forall_{l, m, n in Naturals} [forall_{(a, b, c, d) in Complexes^{l} * Complexes * Complexes^{m} * Complexes^{n}} ((a_1   ...  + a_l - b + c_1   ...  + c_m + b + d_1   ...  + d_n) = (a_1 +  ...  + a_l + c_1 +  ...  + c_m + d_1 +  ...  + d_n))]"
      ]
     },
     "execution_count": 16,
     "metadata": {},
     "output_type": "execute_result"
    }
   ],
   "source": [
    "addCancelGeneralRev = Forall((l, m, n), Forall((aa,b,cc,dd), Equals(Add(iter_a1l, Neg(b), iter_c1m, b, iter_d1n), \n",
    "                                                                    Add(iter_a1l, iter_c1m, iter_d1n)),\n",
    "                                               domains = [Exp(Complexes, l), Complexes, Exp(Complexes,m), Exp(Complexes, n)]), \n",
    "                              domain = Naturals)"
   ]
  },
  {
   "cell_type": "code",
   "execution_count": 17,
   "metadata": {},
   "outputs": [
    {
     "name": "stdout",
     "output_type": "stream",
     "text": [
      "Theorems may be imported from autogenerated _theorems_.py\n"
     ]
    }
   ],
   "source": [
    "%end theorems"
   ]
  },
  {
   "cell_type": "code",
   "execution_count": null,
   "metadata": {},
   "outputs": [],
   "source": []
  }
 ],
 "metadata": {
  "kernelspec": {
   "display_name": "Python 3",
   "language": "python",
   "name": "python3"
  }
 },
 "nbformat": 4,
 "nbformat_minor": 0
}
