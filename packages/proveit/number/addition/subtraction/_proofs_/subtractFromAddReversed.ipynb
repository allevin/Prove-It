{
 "cells": [
  {
   "cell_type": "markdown",
   "metadata": {},
   "source": [
    "Proof of <a class=\"ProveItLink\" href=\"../../../../_context_.ipynb\">proveit</a>.<a class=\"ProveItLink\" href=\"../../../_context_.ipynb\">number</a>.<a class=\"ProveItLink\" href=\"../../_context_.ipynb\">addition</a>.<a class=\"ProveItLink\" href=\"../_context_.ipynb\">subtraction</a>.<a class=\"ProveItLink\" href=\"../_theorems_.ipynb#subtractFromAddReversed\">subtractFromAddReversed</a> theorem\n",
    "========"
   ]
  },
  {
   "cell_type": "code",
   "execution_count": 1,
   "metadata": {},
   "outputs": [],
   "source": [
    "import proveit\n",
    "context = proveit.Context('..') # the theorem's context is in the parent directory"
   ]
  },
  {
   "cell_type": "code",
   "execution_count": 2,
   "metadata": {},
   "outputs": [
    {
     "name": "stdout",
     "output_type": "stream",
     "text": [
      "Beginning proof of subtractFromAddReversed\n",
      "Recorded 'presuming' information\n",
      "Presuming previous theorems (applied transitively).\n"
     ]
    },
    {
     "data": {
      "text/html": [
       "<strong id=\"subtractFromAddReversed\">subtractFromAddReversed:</strong> <a class=\"ProveItLink\" href=\"../__pv_it/c80db0fdc7a64ac44babcd81f02c1768b24f7c990/expr.ipynb\"><img src=\"data:image/png;base64,iVBORw0KGgoAAAANSUhEUgAAAS8AAAAXBAMAAACortSfAAAAMFBMVEX///8QEBC6urrMzMxUVFRm\n",
       "ZmZERETc3NwyMjKqqqp2dnaIiIiYmJgiIiLu7u4AAAAU9Wx4AAAAAXRSTlMAQObYZgAAA59JREFU\n",
       "SMfNV1tIVEEY/vd21t09u4ovUlBsKRZFcB5CRAqXJDIkki4Q2oNUrAU+7EOlJNEWPZhkLFTQQ6AU\n",
       "ErEgBy89KMTSUyTIUlgQCCcwiG67JBmiRHM7l5kziz5s1A/f7Fy+mflm5p9/zgL8r2aUfcTdDBJT\n",
       "4+46r86XXzDkcWG2jLp8CYLFLbLG4+6qvUI5oFE8xYU7ZRRWYVDclDa6q1xzpykuo59gVxmFzTCs\n",
       "SM9yRKyJ6GLNKwq8uECmjMK2Unh/yxpjVWKNx+XkHyjUJ729V8uoy5umCOelzRfEip0uipKhWE4m\n",
       "329w0qAmVEh2OjBCUdE2meNbPmcnAEZFfodz/LZHNWhJ7RQtAN3WcgdKSKLX/Aq3NYjbJHHvHEWh\n",
       "C5b421oNQwAPiPgBYgmcv+2gbEspRYBQmqIOYmmrSVjQ18EjnSTT5UiRhRg37I5LnjjFsAGbedfR\n",
       "oQfNLfKrHRu2BgE0hbeKIgoRe89v2W46dTLnazB8g7akkHWBFMZ1LMm0yjjFKYCfqNi3gO01yh0l\n",
       "zc0i/wcSNERIcX8RomgKX5EikovaF+OXlXu247uh9gPssoUpKU4Y5raUFDYP3jWuYbmkMKtrFxQ0\n",
       "W1gsjWPvpemz2G9WJ7HIj1ldRd4HtXfRcmxhHounmNwZc1DUhR1lhmIFAlzACK5SNyI+RnZogQy6\n",
       "yaZc02EYPZHmUUL3AaTuXRAPE8mryCNjb7xFEqKfz5l9yBiNFk8xuXXQit1Yx13YZuYolsDDB1O0\n",
       "fyrAS3HHeuxsIQOtIQ1U5B8YcB9FHH+7D8cdRVdxIRHTmiTC6myeyW1k7bgLzZmX/TCc4BUcBHgs\n",
       "CRejzgsdmg/bI4BHx14RwZfXo+FrgV1kfzKZ1LfXcsLuMV7rwHW0SYTb6PAsFkXyFItTQhgLZGeQ\n",
       "m9wQhe1xhrHxhnGkL04BKuIXDGUOuXYlRHEIQrlFsg9fOB+rt3h4xwi3Hs6ToyxY9wJqGGCDT1Kq\n",
       "xJNkvljN+4y+VBQFQJRqMObHfF9Hirk3EfaN8agwzCUPLjbchX+D5RbW13/Wswz0ADpnT0Nzzts5\n",
       "gtJg27QRO0Nekbfn4rYwFFYIj91KxIVj1ilMG8Jnj9Q+rf/Zg2OjGB9zjjSMfMxuIcIiGS6Omd9O\n",
       "4oOaoJDaIXfVRaGMz8rPn68vZaeCEWEx60nym0+TLuH2M0gsokkWIowxweA8bkcqEwYPxWr/P//L\n",
       "Qo9GFRc89vdm/AMdIAsa8ox54AAAAABJRU5ErkJggg==\n",
       "\" style=\"display:inline;vertical-align:middle;\" /></a><br>(see <a class=\"ProveItLink\" href=\"../__pv_it/c80db0fdc7a64ac44babcd81f02c1768b24f7c990/dependencies.ipynb\">dependencies</a>)<br>"
      ],
      "text/plain": [
       "subtractFromAddReversed: forall_{a, b, c in Complexes | (a + b) = c} ((b - c) = (-a))"
      ]
     },
     "execution_count": 2,
     "metadata": {},
     "output_type": "execute_result"
    }
   ],
   "source": [
    "%proving subtractFromAddReversed presuming []"
   ]
  },
  {
   "cell_type": "code",
   "execution_count": null,
   "metadata": {},
   "outputs": [],
   "source": []
  }
 ],
 "metadata": {
  "kernelspec": {
   "display_name": "Python 3",
   "language": "python",
   "name": "python3"
  }
 },
 "nbformat": 4,
 "nbformat_minor": 0
}
