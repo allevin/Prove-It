{
 "cells": [
  {
   "cell_type": "markdown",
   "metadata": {},
   "source": [
    "Proof of <a class=\"ProveItLink\" href=\"../../../../_context_.ipynb\">proveit</a>.<a class=\"ProveItLink\" href=\"../../../_context_.ipynb\">number</a>.<a class=\"ProveItLink\" href=\"../../_context_.ipynb\">addition</a>.<a class=\"ProveItLink\" href=\"../_context_.ipynb\">subtraction</a>.<a class=\"ProveItLink\" href=\"../_theorems_.ipynb#addCancelGeneral\">addCancelGeneral</a> theorem\n",
    "========"
   ]
  },
  {
   "cell_type": "code",
   "execution_count": 1,
   "metadata": {},
   "outputs": [],
   "source": [
    "import proveit\n",
    "context = proveit.Context('..') # the theorem's context is in the parent directory"
   ]
  },
  {
   "cell_type": "code",
   "execution_count": 2,
   "metadata": {},
   "outputs": [
    {
     "name": "stdout",
     "output_type": "stream",
     "text": [
      "Beginning proof of addCancelGeneral\n",
      "Recorded 'presuming' information\n",
      "Presuming previous theorems (applied transitively).\n"
     ]
    },
    {
     "data": {
      "text/html": [
       "<strong id=\"addCancelGeneral\">addCancelGeneral:</strong> <a class=\"ProveItLink\" href=\"../__pv_it/1a3642e5a098f9a019f801d3224df216b34ecacc0/expr.ipynb\"><img src=\"data:image/png;base64,iVBORw0KGgoAAAANSUhEUgAABLMAAAAaBAMAAAC+8ANkAAAAMFBMVEX///8QEBC6urrMzMxUVFRm\n",
       "ZmZERETc3NwyMjKqqqp2dnaIiIiYmJgiIiLu7u4AAAAU9Wx4AAAAAXRSTlMAQObYZgAACeNJREFU\n",
       "aN7tWw+MXEUZ/+7t/923b0+aYNUQD1or2jT3tFDOGtO1xCDWwgbahOuhLmgWtZauCeEa0PY0aI8i\n",
       "3CagIVkb1qRYG4FbbbkY29LN1UNSja5/aAi68DQNENpyxx13RXq9debNvD/z3rz3Zjfk0sB+yezN\n",
       "mzfzzff79jcz38zsAYjLtkYROtIREVnVqLRSvd7xWEdEJZYFrRVqKYtnmlQl6SKXx5oCNiaa50lm\n",
       "nI/z4hPT4lb9IPeQhKmlT0V/EqRWWm+9KM64iqb2Rfn8uzvNnrqMU/jfZo+AJb3TJBNRuTgvPjEt\n",
       "FhXTDzfThKh1AD8/JEitZAn9iWuLAe4hYbM8JZ59d026jze5NkVa9k7RzBAX50UopsWii4zhhzhN\n",
       "iFp34z95QWrpFe9eDGipKkn+8ip/yNHdRqbkKGhDl13+x6mafNtz4Ns6HTUodYKH069lC3BF8bwq\n",
       "4oLRIQF7bC9MP8gVkhC18BwUKYmG8XiM9S8Gtbo0kvylzA8U6NfVqzkK2tBlH5gLnKrxdzzDFVun\n",
       "I8Z26T88nH4tW4Ariqcs4oKRioA9themH5RukhC15P2Dg98X3iGeGBwcXJSN4pU0wdHGWD3QF6nG\n",
       "v7a5ET/pckHitkYt0K8/u+zf3ArJuqvq0cbodCC1Uo0XzYAsWuLgdGIMphbTwANduXWgZY7FQtSy\n",
       "++FbJCFqwVyh8KIwtTKFwrbKYlBrC01np2GkO4hayss98TfdiO87/GWHC7ZXkjNBHo++A6MqN3Tb\n",
       "cKjGVsXGTQVRCxtnBmTJHAenE2MgtdgGHujKrQMtcywWoRbjh8dJwtS6FuAOYWqFVYi2cm7aV2uT\n",
       "Wj+hCU3Mo/kgaqHZODnnQqzMQUZlXBB9C3ZNB3l8ezbG3/VN5mGGrYqNGwqiFjbODMgSuHpkWJcs\n",
       "eGAMpBbbwANduXWgZY7FItRi/PAoSZhay0EZAuVGTYhaUhZew3G/6lmJnfGjapvUuoQkuVmEEQRg\n",
       "ja+X/noO4uctDBRxYgG6KowLHjsHkQqE8n66EqjHLfyjGw0+zFTVjat4GWd0io0zAzKp243ThTGI\n",
       "WrTBqQXwQxdELQ7QMmOxqSmIWoYfiFxOEqZWGlJoalnl0Tr0o5vgN181qYXSEfR5j+mqYccWtLKW\n",
       "jVLbXRCnSYpfAGiqcPVGXy+N1CEzY2GgiCNDkMmxowsjCG2q+86AF9jiHQ0sf0e5WwBmXVXRuPcw\n",
       "ztZpxpxMQlNunC6MQdSiDaQ6+KELopYTKOvOaZumIGpRP1BZRxKmVqqW1sgK6ZLTm2+FZ5NaUrOo\n",
       "dQReQp/WuHe0O1ZKGn0oz+17vmodVOiPNH9mz8YBuf/I+glriqNFWQe1MrMQwsv+Xo51twwP/214\n",
       "GB82NXOwboraglabB5fqq006B701ewGuhx1S99OVmfX6Sp4Had5ZNdTUuMaxna5b8KMWi9HW0sdE\n",
       "3ECP2zzQWZWFgbLuXDA0edpjvTD84KKWMnQVXfNdZy6373wD/lzN2an1WijL0Ph+tsmNGlpdQXl6\n",
       "cw1W3wl9FescR3+k/l2jhfYkxuASyQxqjSJzvfgQSZl5SL0t93CpZQ2zZg2ODY2bGKh5mRJ8TWOG\n",
       "XbPmRS1LV2be+1grsuCsmrrgaZyt02P1cfuCGNEnwkYePDAGzVq0QbwGfuiCZi0O0DJjcUJ01jL8\n",
       "4FoQ4Y716OMcXjMHVu5Ljak0BzCBax5/+F47taJ3IRW2SP4c29kH9G3B2Mff0OCPVZAqWPUnkD6V\n",
       "PEpomjoO8r0An4RrlTo+3GeKYmYw+B2SuqYhOhsvUrdjOxQjY/PFR3tge263aYuBWDViI8M3L9ew\n",
       "NcRlXrrS89imid/+Pnv46yy2GSN0M6oyxlm62IiPGkc8CrIz6ndhtLU0TVSA12+m6I3ORi0vLRyg\n",
       "rDtd1FIYddYLag9WhZ6eI0mn1k+RihAeTWd6a+msnKU5ldxKHE+eWWujVuIrJIJSNhbwoYh0/hB+\n",
       "+frJPaCXvQVwGGQ8GUmfQRwtvlTTD2Qn6CP045fLHkY9Qz2RS8v6CaxVlBrX2C1sCm2Qz/fRxULB\n",
       "0cFknWZsvjhWSTYPDoW6WcThUiTrCHTz8PoHics8dSXmQPnFzvF5+Cf8gWXB9bCJrcoYZ+oyFBqd\n",
       "EuOIR92HD06M9h2uYSL5cPX7KfBEZz9J8NLCAcq4000tE+IkG+URexSk6h/s4QN04TsVPDvv/B0a\n",
       "6Tp4nCuG9DF6HCr7bNSCj+AjBYDv5pN4Qk3VMRWVhjYCRtly/QoJUmdwqwE8svoRd8gjohmaCp/5\n",
       "C4acT5aiBx1F8hOGe1fRdPSFZ27bbVDrUnyenacZu68bD7yytJhy7GiUDbc6fCP94ME9GqWWly64\n",
       "cukLT8VOD6FJyhFHnnq65qhqN87UZSg0OiXG6R5FEa/zWMOJ0W6/YSL5cPU75o3OTi1PLW6gjDvd\n",
       "1DIhGpqMF7o9WBVeN35Ikk4tGX3pUb3SBjQS4iWSuxxCJwuFrYha3ztrpxbmwHKA7WoE64lWZXza\n",
       "NQMDYJT1wVqLWiTg+4L1uClHeWQJpwjxvUgSlb0CdxbRqldswBb4x1pEwlU0B94veFWyV+T+ZYMe\n",
       "hLgvejgYBS96tvqjE7voYYCyTYRjLVOV1M1c9FCEq/HnEjQSdkkkt1lSsmTWkj5rpxaWR0B5E9J4\n",
       "s9OlRhCDM/pSRMv64HOFQqEqXWEeaaXQ0mk8HkUj/4pljIGcIuuW059aK5lvabURKztdIYlQi9Wl\n",
       "pvKxqR4Q6NbLOIcV2KMAvwYOTqcaz59wsf0uUX3RrQQRLQzQlXxqedrDvkBcyPVAEpXhZFJrMgU7\n",
       "irEpNLaeTZLckmVwHaEWnHBSawXE5mDyTqQgA+mafk6Nz1FJ2Qo4pVe6oYqDKywT4ZLxKOeuR/Q+\n",
       "jQMr07nuIizsj2r2ChyFIQxCkhC4BN2FxqCcF7zSEjGOeFRxn923htEmylS1XXRiQFvUhFR1fVrV\n",
       "T9T1U3WDWuEDsK4m5VEctmY/yW2pwSuIzNKPeyAMDmqdBbgURp+o7Cim4VHExHQdItfsJmVwAsI6\n",
       "o67eT38xgiKtfuNxAgf1oS1FFOwbwinCchdNutwzMhAMLXxAyAOxX80G/xBiBaTV0LfFrrSEjCMe\n",
       "Dbs1tobRLl8qtYtOCGirmpCqCAqV8Xx0nZ1aWGqu3C8LWx0XPXTfqkHf8KGTGuLgQAUxMfbFbz4Q\n",
       "midlcBMot+uj6snCer32x/RfV+qP+CDrZryh/Ia51nCKCLIqSe8pOcj5Bt9bGFMqSQy1QkV3znWH\n",
       "SNuXGA6ST5mWoTk/iWIt6Mj7WuzUkjk5D2opeTsHKROvCdhOdOR9S61gaZj/h/hzOwdlZhUNd7za\n",
       "Efx/iNn2Gsrev5V5quPWjujyf2MeMUbC+PbyAAAAAElFTkSuQmCC\n",
       "\" style=\"display:inline;vertical-align:middle;\" /></a><br>(see <a class=\"ProveItLink\" href=\"../__pv_it/1a3642e5a098f9a019f801d3224df216b34ecacc0/dependencies.ipynb\">dependencies</a>)<br>"
      ],
      "text/plain": [
       "addCancelGeneral: forall_{l, m, n in Naturals} [forall_{(a, b, c, d) in Complexes^{l} * Complexes * Complexes^{m} * Complexes^{n}} ((a_1   ...  + a_l + b + c_1   ...  + c_m - b + d_1   ...  + d_n) = (a_1 +  ...  + a_l + c_1 +  ...  + c_m + d_1 +  ...  + d_n))]"
      ]
     },
     "execution_count": 2,
     "metadata": {},
     "output_type": "execute_result"
    }
   ],
   "source": [
    "%proving addCancelGeneral presuming []"
   ]
  },
  {
   "cell_type": "code",
   "execution_count": null,
   "metadata": {},
   "outputs": [],
   "source": []
  }
 ],
 "metadata": {
  "kernelspec": {
   "display_name": "Python 3",
   "language": "python",
   "name": "python3"
  }
 },
 "nbformat": 4,
 "nbformat_minor": 0
}
