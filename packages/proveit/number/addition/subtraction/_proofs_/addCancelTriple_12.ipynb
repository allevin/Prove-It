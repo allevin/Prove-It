{
 "cells": [
  {
   "cell_type": "markdown",
   "metadata": {},
   "source": [
    "Proof of <a class=\"ProveItLink\" href=\"../../../../_context_.ipynb\">proveit</a>.<a class=\"ProveItLink\" href=\"../../../_context_.ipynb\">number</a>.<a class=\"ProveItLink\" href=\"../../_context_.ipynb\">addition</a>.<a class=\"ProveItLink\" href=\"../_context_.ipynb\">subtraction</a>.<a class=\"ProveItLink\" href=\"../_theorems_.ipynb#addCancelTriple_12\">addCancelTriple_12</a> theorem\n",
    "========"
   ]
  },
  {
   "cell_type": "code",
   "execution_count": 1,
   "metadata": {},
   "outputs": [],
   "source": [
    "import proveit\n",
    "context = proveit.Context('..') # the theorem's context is in the parent directory"
   ]
  },
  {
   "cell_type": "code",
   "execution_count": 2,
   "metadata": {},
   "outputs": [
    {
     "name": "stdout",
     "output_type": "stream",
     "text": [
      "Beginning proof of addCancelTriple_12\n",
      "Recorded 'presuming' information\n",
      "Presuming previous theorems (applied transitively).\n"
     ]
    },
    {
     "data": {
      "text/html": [
       "<strong id=\"addCancelTriple_12\">addCancelTriple_12:</strong> <a class=\"ProveItLink\" href=\"../__pv_it/f57707f83ae96392054fade7384d64f5ec77c8c60/expr.ipynb\"><img src=\"data:image/png;base64,iVBORw0KGgoAAAANSUhEUgAAANYAAAAWBAMAAABOJX+pAAAAMFBMVEX///8QEBC6urrMzMxUVFRm\n",
       "ZmZERETc3NwyMjKqqqp2dnaIiIiYmJgiIiLu7u4AAAAU9Wx4AAAAAXRSTlMAQObYZgAAAtBJREFU\n",
       "SMe9Vk1oE0EU/vKz+d0kvRUEJVpB0ENzkB5ESdSDShQCKhRTMaikeMtFWyhikB5qDxIQQeihQSgi\n",
       "IoTaerAgiydpoUShFQRhCwVFxRSKFbEE5+3M7mY3y7oI+uDbnflmM+/N+5sA/1HUP39yQMCjvHJk\n",
       "5TTQpMGS228DOQ4PkjzKtpMydnp9J3ucBR7T5K7bBhGVw4tEyKZqFz1OS8AN9gqX3H6/IOAmH8U7\n",
       "VWOPxa7ln+TEumaxVHPbZ5eAm0yJdz+df82+6m+Tf3sgPxoZuem2jb/K4UnXU3qE7KbHtKS4BmyV\n",
       "y+/dtpHqHAjnH/Zal0xG1zW+cJptXbBHMT+nADPAcWDYOMOEQ7gVDuyuhDasSyYjdCW3kMogqnlh\n",
       "cIKEsgKtEjaBB8BeJE0PzeiDr5NninzkS3OEtyFZc6iDEbqibfjq8PfYzJ1WsYNZBiQQVwz2Dhk3\n",
       "f14JDKiBSZFaaY7gBhINNh/9QPIWJmPqkqpIFRCwHR+DwHcgC6YpYRbPD4bn+76p8hiw36orVULL\n",
       "WqU6w7z1hnsrUUC/0q1rBf5tTVeyepBNr7+4QvH6NafKFNm+e8xFwoc1jlsNTFs7WgczZZTXJVX4\n",
       "8KJ2/lVeXlJb8yGGjzGF78JUA/GmnIvQ6stlY8eQwtGq4WTUcrAORteVocDI9grZpCjiNRvdZ9kf\n",
       "LASoBkINuXnIposymBBRoisxW4YajNAVrEk5h5w/hXMi73wNCkicOpkvI5WOlMvlxp4+s5abHOH8\n",
       "7MCsrbwMRs/5/BDZkLb33nnKvtvUqJjLW2poucJUIqGsawZ+MeKFXgEvfUOTNec7QK8En5o9rI5W\n",
       "EqzgghW6Ry5UjH676NhOu684Q544fhJr6I4qLg0hq/iLdSQvE/F59Wr6L+4U7QDOzfOTdcprOsbi\n",
       "ZQlLjsOraI7plhPWC9j5I4wJeJRnjmzc2gfkf/zX5jcI4MZSVuGoNQAAAABJRU5ErkJggg==\n",
       "\" style=\"display:inline;vertical-align:middle;\" /></a><br>(see <a class=\"ProveItLink\" href=\"../__pv_it/f57707f83ae96392054fade7384d64f5ec77c8c60/dependencies.ipynb\">dependencies</a>)<br>"
      ],
      "text/plain": [
       "addCancelTriple_12: forall_{a, b in Complexes} ((a - a + b) = b)"
      ]
     },
     "execution_count": 2,
     "metadata": {},
     "output_type": "execute_result"
    }
   ],
   "source": [
    "%proving addCancelTriple_12 presuming []"
   ]
  },
  {
   "cell_type": "code",
   "execution_count": null,
   "metadata": {},
   "outputs": [],
   "source": []
  }
 ],
 "metadata": {
  "kernelspec": {
   "display_name": "Python 3",
   "language": "python",
   "name": "python3"
  }
 },
 "nbformat": 4,
 "nbformat_minor": 0
}
