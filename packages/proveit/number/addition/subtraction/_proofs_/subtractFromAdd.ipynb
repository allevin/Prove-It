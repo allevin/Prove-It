{
 "cells": [
  {
   "cell_type": "markdown",
   "metadata": {},
   "source": [
    "Proof of <a class=\"ProveItLink\" href=\"../../../_context_.ipynb\">proveit</a>.<a class=\"ProveItLink\" href=\"../../_context_.ipynb\">number</a>.<a class=\"ProveItLink\" href=\"../_context_.ipynb\">subtraction</a>.<a class=\"ProveItLink\" href=\"../_theorems_.ipynb#subtractFromAdd\">subtractFromAdd</a> theorem\n",
    "========"
   ]
  },
  {
   "cell_type": "code",
   "execution_count": 1,
   "metadata": {},
   "outputs": [],
   "source": [
    "import proveit\n",
    "context = proveit.Context('..') # the theorem's context is in the parent directory"
   ]
  },
  {
   "cell_type": "code",
   "execution_count": 2,
   "metadata": {},
   "outputs": [
    {
     "name": "stdout",
     "output_type": "stream",
     "text": [
      "Beginning proof of subtractFromAdd\n",
      "Recorded 'presuming' information\n"
     ]
    },
    {
     "data": {
      "text/html": [
       "<strong id=\"subtractFromAdd\">subtractFromAdd:</strong> <a class=\"ProveItLink\" href=\"../__pv_it/796f21730a98e9ad9a10170078dc2a0792d2d5840/expr.ipynb\"><img src=\"data:image/png;base64,iVBORw0KGgoAAAANSUhEUgAAAQ8AAAAXBAMAAADn89dPAAAAMFBMVEX///8QEBC6urrMzMxUVFRm\n",
       "ZmZERETc3NwyMjKqqqp2dnaIiIiYmJgiIiLu7u4AAAAU9Wx4AAAAAXRSTlMAQObYZgAAA1BJREFU\n",
       "SMfNVk1oE0EUfslmN83fpngpeJBoi4IeugcpUpRGq1CoYhC8tAWLSnrxEPCnhSJG8BArSkAEwYNB\n",
       "EZFgWVoVbEAWvbVQgkUFobLiz6H+JHioh5bivJnZTXZ3YnsI4oM3O/vNN7PfvHkzswD/i5lNH3EX\n",
       "d5G9bAyXsTLXRB1Skrnb1P3kU7Im7IPwI6zcaKKQFpO5twHVZcWdCHyBPILDTRRS4u6xeJ4Us+JO\n",
       "s0y8nG+ikC3cPdaJYfoo7kTg6MPR0YtN1OHPMvfaYywU8ZwRXk6n32/0K2dd74JR5QJzWCpOO1uu\n",
       "lA4DhFMufrD/XhuDewFG7OnkGihIsE6F+qkTbrcgJQ3m0ia47tw1yxDXIITBknPU6NbamlGqQOEO\n",
       "UGuRfOAc9fvEkUFaYdmsWHiIc8MJjxBfgvlHHc44GkJr4CuAv9UVkFWQyeAIxyBi2PjV2gSeHjek\n",
       "LlOaqBNyx15SzlW9yRBPMD/KXscW0V5jGLIQT4FUddIDVYjpQOGIEavt+t927dmOn2Z0HGBnnZAR\n",
       "hxDk9jYUsuxuiKWg0/AIiQ9DRWNC1OxuApyfOYXrvvIERX0p6lFMqvabJHZ1QlotnmJx7QNDHeBV\n",
       "X556cEVwjJww2dLINEyLOOglHe4Ch0cOkHHeBddINVKOkgxSF/zVFuz7Yt4ahQqRshZPsbgdEMC0\n",
       "uwY/tE4eLIP5KjkZnEI02Eww12JW8tAX0hh8i9wBgZSEl46iR/ElqWrdAiH+pM2zuHsswkH4xCq4\n",
       "EdEPAdx3ZkNeTnq3b4sRehPmsE/HVY3gZvJpmMK4xPvS6bS+rd0hJJRkvL7c5VxOp1xbyC97V5eZ\n",
       "y8WS88JR+4fwwwn3MTLVNcXhKOlQMZX5DJEAMRLVCql9ppP45sgR/7DFw4hQ7nZQ6NKotSxv497w\n",
       "LP8r7DN79ppjmRjcBlJqMBnIYFIMZHg6UiFqmfGYEOTW7rAFCJv2/dXoaiNWXAf2D84NQY/hHyyQ\n",
       "Mtg/Y6onEV56ezpRt2s+MB7fNYQLx6wBzpUm1/sNoHPJbgg26sowyZFaCxPy3HGOgPj3IphkLjQa\n",
       "6HVhKVMrXcaEfLU7Wse2LuCOcxfZ9IbgaF0pFBIy3DP557/YPNSvXPBk877wB7fc7x6xVnxRAAAA\n",
       "AElFTkSuQmCC\n",
       "\" style=\"display:inline;vertical-align:middle;\" /></a><br>(see <a class=\"ProveItLink\" href=\"../__pv_it/796f21730a98e9ad9a10170078dc2a0792d2d5840/dependencies.ipynb\">dependencies</a>)<br>"
      ],
      "text/plain": [
       "subtractFromAdd: forall_{a, b, c in Complexes | (a + b) = c} ((c - b) = a)"
      ]
     },
     "execution_count": 2,
     "metadata": {},
     "output_type": "execute_result"
    }
   ],
   "source": [
    "%proving subtractFromAdd presuming []"
   ]
  },
  {
   "cell_type": "code",
   "execution_count": null,
   "metadata": {},
   "outputs": [],
   "source": []
  }
 ],
 "metadata": {
  "kernelspec": {
   "display_name": "Python 3",
   "language": "python",
   "name": "python3"
  }
 },
 "nbformat": 4,
 "nbformat_minor": 0
}
