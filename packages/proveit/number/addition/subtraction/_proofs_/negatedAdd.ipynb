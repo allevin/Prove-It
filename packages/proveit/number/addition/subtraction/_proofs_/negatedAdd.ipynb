{
 "cells": [
  {
   "cell_type": "markdown",
   "metadata": {},
   "source": [
    "Proof of <a class=\"ProveItLink\" href=\"../../../../_context_.ipynb\">proveit</a>.<a class=\"ProveItLink\" href=\"../../../_context_.ipynb\">number</a>.<a class=\"ProveItLink\" href=\"../../_context_.ipynb\">addition</a>.<a class=\"ProveItLink\" href=\"../_context_.ipynb\">subtraction</a>.<a class=\"ProveItLink\" href=\"../_theorems_.ipynb#negatedAdd\">negatedAdd</a> theorem\n",
    "========"
   ]
  },
  {
   "cell_type": "code",
   "execution_count": 1,
   "metadata": {},
   "outputs": [],
   "source": [
    "import proveit\n",
    "context = proveit.Context('..') # the theorem's context is in the parent directory"
   ]
  },
  {
   "cell_type": "code",
   "execution_count": 2,
   "metadata": {},
   "outputs": [
    {
     "name": "stdout",
     "output_type": "stream",
     "text": [
      "Beginning proof of negatedAdd\n",
      "Recorded 'presuming' information\n",
      "Presuming previous theorem (applied transitively).\n"
     ]
    },
    {
     "data": {
      "text/html": [
       "<strong id=\"negatedAdd\">negatedAdd:</strong> <a class=\"ProveItLink\" href=\"../__pv_it/e515c4721c3a47f6a631461f4c8f2b0f9338b1570/expr.ipynb\"><img src=\"data:image/png;base64,iVBORw0KGgoAAAANSUhEUgAAAUAAAAAXBAMAAACIQotiAAAAMFBMVEX///8QEBC6urrMzMxUVFRm\n",
       "ZmZERETc3NwyMjKqqqp2dnaIiIiYmJgiIiLu7u4AAAAU9Wx4AAAAAXRSTlMAQObYZgAAA75JREFU\n",
       "SMfNl11IFFEUx8/uzn7PzkovUkGsKRZFuEGESOGWDwkWLUU9qJBUrEVB+2ApSbRFDyYWCxb0ULAv\n",
       "EiXJQB8PLsjQUyjIUlBQCBMURF9KgRGCdM+983lndvVhAw+c68yd353933vPOXcEWOumVv2N2zWv\n",
       "aC+dXV7ZQYgJgBLezFRRny/FvKxJ+8hv+pOO/l32W0ocBXiEN7erKDCkMq9AoPyco5sXgUQI4BL5\n",
       "E+yposCi5uUtnifNNN8blbkOJMQCnaw/X0WBmzQvb024vh/5Xg+/6khINSA+7O+/UkV93hzzCvYE\n",
       "mwC/KFt5jBJnARYzmfer/PEgH9kuK+8vMDesb7Iua0duFA8CRNLcwE5rHj0uJhkxBtAG0GtMf6iM\n",
       "tARtL9uWirAtLhmgMDewWrjAZfEixJMQxlX2D1GjOT9iQXYmQiVG3ANoAMnckTH7u74PH+qiFz2W\n",
       "llhYYyMJh0BPgrluVxU4bifCy+ApgLeGG7jOMoWNEFAYUQcQg6g54Zsm9PyY4tut+oZNaWEjzwIa\n",
       "KzmDLZ5gPjCH9hoOA3zAfv2eLFsO4mnwLXADf5EQukWhhECfUaKVpLcSM/Pnj3H1YstPVRwE2GYK\n",
       "DGRtApFtKytQt0WQftuJWBqaFFeBxjt6rAKlHJbwi5OnMGCWnqHYz+OyiBFaP0pmZQr0GFxAZ42C\n",
       "R4ZoW5xnrufVEoQXJL4MnlDZBvrpis3Rt6+3hAV9l77F0LufqHwXXMZiWRJJwEpvvAshRKZm9SH0\n",
       "Fc0GF9DZBmjHKJdxiLa4CnM9Uv6CkBu1C0zCBlKC+eg4byHIeIURr4jfJUejkPbhoRyQRbxJSckW\n",
       "F4ENJqezzdpzHMKusDhYS8gIPEgXbEqEvD/lUmYs+SmkIWKWGfDIGDVRzHVP0t/DQmhvJpORN9fb\n",
       "BN7RuPaha2TRKNtsiTytrJSYG2WwWH/OnutSRzeWI74A7LDWxOKURlzH846E3bwamCUpEIcYWd15\n",
       "cvWJzuSbLQYbDQ5XkLKNcIZu8bxZi2s1X8GcR13W/ajTD8LWPepANkYKI2mTMCEg7uvMamlABf7Q\n",
       "OCYQWePIxyGWM356ZYHjfIdYcCEiemXzds10Q6vi7SqQNtgxqUonsfvr29MJUyApR5TTspiwcERP\n",
       "VjJk1Z9bdJ9X/NyixBd7n2JpIyQGzSdUYDRvq4Pg+lUHwRTzyiZkHV19LsQB+7dw1mw5owIl46gT\n",
       "9FNLdmEHNa9oT11mJjuIqP3rRLS0bgLhvmMd1sy/VmzLRP5za+L///I/kYYJrWi/BzkAAAAASUVO\n",
       "RK5CYII=\n",
       "\" style=\"display:inline;vertical-align:middle;\" /></a><br>(see <a class=\"ProveItLink\" href=\"../__pv_it/e515c4721c3a47f6a631461f4c8f2b0f9338b1570/dependencies.ipynb\">dependencies</a>)<br>"
      ],
      "text/plain": [
       "negatedAdd: forall_{a, b, c in Complexes | (a + b) = c} ((-a - b) = (-c))"
      ]
     },
     "execution_count": 2,
     "metadata": {},
     "output_type": "execute_result"
    }
   ],
   "source": [
    "%proving negatedAdd presuming []"
   ]
  },
  {
   "cell_type": "code",
   "execution_count": null,
   "metadata": {},
   "outputs": [],
   "source": []
  }
 ],
 "metadata": {
  "kernelspec": {
   "display_name": "Python 3",
   "language": "python",
   "name": "python3"
  }
 },
 "nbformat": 4,
 "nbformat_minor": 0
}
