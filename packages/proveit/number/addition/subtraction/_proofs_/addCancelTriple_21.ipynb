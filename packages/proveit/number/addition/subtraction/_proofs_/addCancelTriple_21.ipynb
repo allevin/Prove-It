{
 "cells": [
  {
   "cell_type": "markdown",
   "metadata": {},
   "source": [
    "Proof of <a class=\"ProveItLink\" href=\"../../../../_context_.ipynb\">proveit</a>.<a class=\"ProveItLink\" href=\"../../../_context_.ipynb\">number</a>.<a class=\"ProveItLink\" href=\"../../_context_.ipynb\">addition</a>.<a class=\"ProveItLink\" href=\"../_context_.ipynb\">subtraction</a>.<a class=\"ProveItLink\" href=\"../_theorems_.ipynb#addCancelTriple_21\">addCancelTriple_21</a> theorem\n",
    "========"
   ]
  },
  {
   "cell_type": "code",
   "execution_count": 1,
   "metadata": {},
   "outputs": [],
   "source": [
    "import proveit\n",
    "context = proveit.Context('..') # the theorem's context is in the parent directory"
   ]
  },
  {
   "cell_type": "code",
   "execution_count": 2,
   "metadata": {},
   "outputs": [
    {
     "name": "stdout",
     "output_type": "stream",
     "text": [
      "Beginning proof of addCancelTriple_21\n",
      "Recorded 'presuming' information\n",
      "Presuming previous theorems (applied transitively).\n"
     ]
    },
    {
     "data": {
      "text/html": [
       "<strong id=\"addCancelTriple_21\">addCancelTriple_21:</strong> <a class=\"ProveItLink\" href=\"../__pv_it/763aac62f1fc43b915cc327f7a50803857e3df5f0/expr.ipynb\"><img src=\"data:image/png;base64,iVBORw0KGgoAAAANSUhEUgAAAOcAAAAWBAMAAADJFJavAAAAMFBMVEX///8QEBC6urrMzMxUVFRm\n",
       "ZmZERETc3NwyMjKqqqp2dnaIiIiYmJgiIiLu7u4AAAAU9Wx4AAAAAXRSTlMAQObYZgAAAw5JREFU\n",
       "SMfFVltIFFEY/vYye52dlV6sIFgzKIpwHsKHKNzqocKihS6ECi0WK1HQPFgGES7RwyYqCxIEES6B\n",
       "REQwmPagEENPkSD2YEEhjCAUFa0kGYsinTNzdtYzM6wsQX3wzcz+c858/zn/5SzwP6BvPMSrmqwR\n",
       "YsLV/Jpwhj5MVZ29j7EGLGwjl9N2q3SIqAky8JT+Gqz6hcENRzhxlzDksIaS5JIFbpBbMF1tflQ1\n",
       "6YSkOEyf2b1E97dgfxvPk8tbIk6CKuSriXp0k06Ena48ZGmwRn2qs79top+ZJ+486em5XXWndjHW\n",
       "IhoxUuWy/e1zegmQJS5nMh+rirYxlhFsfVxvE+2eaFA40VDrmAaMOCI9eYI4lAKOAF1WceRcRPsZ\n",
       "y2hQAou8qLce1/iVFtNYAh7QRyFngKaQtIy4jDDJpB2QstYHLd++951sZ4+bGMsLXYWQ5kV7NZzj\n",
       "RYd1bCXu2cOxBk8BXhLqGKKaZb5H/Rk/q/madV8fs/00GRyYo0j4FxFTedFTwCde9DzwC2ixiQpZ\n",
       "xFPwkX2KarFKav4mfLnzhy7eAnbzolbap1GUzW0b2Gxu2zKkJUMql3uXy9ESnYV31SkaS6FJM0Sl\n",
       "LO021ycu0uCsjOkiiTMah8jS2NAtjAy9KoZZ82QrDa4gvChxKy1BWGPbKxgbNJc2y/SCbmwvug4T\n",
       "5Q9BWlnRGTFp9JFX0xWVq4wMxTyOheX1olIJ/uwQJ7pEg4c39t4g00iLNIXuk5ryp3y0sgKqOLPf\n",
       "LjoCLvlDWng2wse0H49SBU70OM7AWTL+vJA0SwYeMjWeiNLgeGQhfTCTyajbGytD9zJaZTraPMqL\n",
       "dk82XklwogvjNDnv2Ntmawf1mg4VSYCKemCalHccMW3B8OlbJaYexWQtHcnUqHNtNvOV/tpyQL+p\n",
       "xEg9++n3fW0KJsvnYsGtd5cPWhv2rHuOuJ/Bz6zp7VMdaNG87QVIndTw9f2lxN8cbRRfXK3rWpEB\n",
       "s0lESEw5czdjrTjqavXzkfIp7pODqskaEZVdzS9sf2r+1f+yP7Uh0qzTPzwgAAAAAElFTkSuQmCC\n",
       "\" style=\"display:inline;vertical-align:middle;\" /></a><br>(see <a class=\"ProveItLink\" href=\"../__pv_it/763aac62f1fc43b915cc327f7a50803857e3df5f0/dependencies.ipynb\">dependencies</a>)<br>"
      ],
      "text/plain": [
       "addCancelTriple_21: forall_{a, b in Complexes} ((-a + a + b) = b)"
      ]
     },
     "execution_count": 2,
     "metadata": {},
     "output_type": "execute_result"
    }
   ],
   "source": [
    "%proving addCancelTriple_21 presuming []"
   ]
  },
  {
   "cell_type": "code",
   "execution_count": null,
   "metadata": {},
   "outputs": [],
   "source": []
  }
 ],
 "metadata": {
  "kernelspec": {
   "display_name": "Python 3",
   "language": "python",
   "name": "python3"
  }
 },
 "nbformat": 4,
 "nbformat_minor": 0
}
