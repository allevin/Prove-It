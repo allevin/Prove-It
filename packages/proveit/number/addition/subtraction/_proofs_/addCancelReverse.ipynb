{
 "cells": [
  {
   "cell_type": "markdown",
   "metadata": {},
   "source": [
    "Proof of <a class=\"ProveItLink\" href=\"../../../../_context_.ipynb\">proveit</a>.<a class=\"ProveItLink\" href=\"../../../_context_.ipynb\">number</a>.<a class=\"ProveItLink\" href=\"../../_context_.ipynb\">addition</a>.<a class=\"ProveItLink\" href=\"../_context_.ipynb\">subtraction</a>.<a class=\"ProveItLink\" href=\"../_theorems_.ipynb#addCancelReverse\">addCancelReverse</a> theorem\n",
    "========"
   ]
  },
  {
   "cell_type": "code",
   "execution_count": 1,
   "metadata": {},
   "outputs": [],
   "source": [
    "import proveit\n",
    "context = proveit.Context('..') # the theorem's context is in the parent directory"
   ]
  },
  {
   "cell_type": "code",
   "execution_count": 2,
   "metadata": {},
   "outputs": [
    {
     "name": "stdout",
     "output_type": "stream",
     "text": [
      "Beginning proof of addCancelReverse\n",
      "Recorded 'presuming' information\n",
      "Presuming previous theorems (applied transitively).\n"
     ]
    },
    {
     "data": {
      "text/html": [
       "<strong id=\"addCancelReverse\">addCancelReverse:</strong> <a class=\"ProveItLink\" href=\"../__pv_it/ee632a90637083598a41d917089c3610112fe17e0/expr.ipynb\"><img src=\"data:image/png;base64,iVBORw0KGgoAAAANSUhEUgAAALkAAAAVBAMAAADoXVL6AAAAMFBMVEX///8QEBC6urrMzMxUVFRm\n",
       "ZmZERETc3NwyMjKqqqp2dnaIiIiYmJgiIiLu7u4AAAAU9Wx4AAAAAXRSTlMAQObYZgAAAjlJREFU\n",
       "OMtjYKApeIBPkmkDBOMHh3ALXwAxTuPQZwLF+AGrAboIX/RWA7DwShCvD4e+PjxySKABXYBXge8y\n",
       "WLgMyGFPwK6LewMEY4LnKLxT6NJ7GRh2gIU5gAHPOgG76YwPIBgTzEbhPUSXvsLAoF8AEuZZXl5e\n",
       "i8PHGlBMyHQ2dNd9ZWCwnwAW/paWdguH6VFQDAPs3ovEUU2HiHAFoOpj/wU0fQNY2JmBIR2H6T1Q\n",
       "DAOKBWwfUE2HiHCCozWiAwRaYKYvAAurMPChxPmbLt9oKFMIimFO+sPAmoBiOlSESQCL2xeAhXkZ\n",
       "uA/AkunW0APMZg+Yu6D8TxDM3nsXBBRYPjDwbkAxHSrC/AFryICEuQ/wwpLFNvV3D3iqGRi0UE2H\n",
       "Af4EhvcGkCC4CAkCqAi66eBYPQAW5msA5cbSXckMPKDIUZ4MtBuqSBKKoaB+A8N8aMkxG0UEEjKx\n",
       "YB9eg6bI+QUQ4XQnoBXX2f8xcIAk9p1DGJcDxVDwfgKDB6cBsulQEZ4GzNy0lgEiPBVY1LAEMF9g\n",
       "sEI3fSkUQwHHAc6rXCjhDhVBT5EMvBP4hKHCjMB44VfgdmCwTUtL26CkjFCkC8XwxL3JbBNqmoGI\n",
       "cCigl2JRWwygwjzAoHz/gO1cwRNwMniNCHfGAggmuSRAE2Z8YG/zgAVkEHNUAcNuqCjPAgjGBNoo\n",
       "vNXYTYcLM0WfjmHgSwIxX11LUSCtBOZrIEqYCxjuKAIlUIwfsBSQIowUjxsgGD/YjFMYAM9hr+eB\n",
       "a8aBAAAAAElFTkSuQmCC\n",
       "\" style=\"display:inline;vertical-align:middle;\" /></a><br>(see <a class=\"ProveItLink\" href=\"../__pv_it/ee632a90637083598a41d917089c3610112fe17e0/dependencies.ipynb\">dependencies</a>)<br>"
      ],
      "text/plain": [
       "addCancelReverse: forall_{a in Complexes} ((-a + a) = 0)"
      ]
     },
     "execution_count": 2,
     "metadata": {},
     "output_type": "execute_result"
    }
   ],
   "source": [
    "%proving addCancelReverse presuming []"
   ]
  },
  {
   "cell_type": "code",
   "execution_count": null,
   "metadata": {},
   "outputs": [],
   "source": []
  }
 ],
 "metadata": {
  "kernelspec": {
   "display_name": "Python 3",
   "language": "python",
   "name": "python3"
  }
 },
 "nbformat": 4,
 "nbformat_minor": 0
}
