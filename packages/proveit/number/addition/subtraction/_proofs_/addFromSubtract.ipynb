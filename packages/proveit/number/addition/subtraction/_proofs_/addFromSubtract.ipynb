{
 "cells": [
  {
   "cell_type": "markdown",
   "metadata": {},
   "source": [
    "Proof of <a class=\"ProveItLink\" href=\"../../../_context_.ipynb\">proveit</a>.<a class=\"ProveItLink\" href=\"../../_context_.ipynb\">number</a>.<a class=\"ProveItLink\" href=\"../_context_.ipynb\">subtraction</a>.<a class=\"ProveItLink\" href=\"../_theorems_.ipynb#addFromSubtract\">addFromSubtract</a> theorem\n",
    "========"
   ]
  },
  {
   "cell_type": "code",
   "execution_count": 1,
   "metadata": {},
   "outputs": [],
   "source": [
    "import proveit\n",
    "context = proveit.Context('..') # the theorem's context is in the parent directory"
   ]
  },
  {
   "cell_type": "code",
   "execution_count": 2,
   "metadata": {},
   "outputs": [
    {
     "name": "stdout",
     "output_type": "stream",
     "text": [
      "Beginning proof of addFromSubtract\n",
      "Recorded 'presuming' information\n",
      "Presuming previous theorems (applied transitively).\n"
     ]
    },
    {
     "data": {
      "text/html": [
       "<strong id=\"addFromSubtract\">addFromSubtract:</strong> <a class=\"ProveItLink\" href=\"../__pv_it/1e4b508d6f44212146394935b98add0e331353940/expr.ipynb\"><img src=\"data:image/png;base64,iVBORw0KGgoAAAANSUhEUgAAAQ8AAAAXBAMAAADn89dPAAAAMFBMVEX///8QEBC6urrMzMxUVFRm\n",
       "ZmZERETc3NwyMjKqqqp2dnaIiIiYmJgiIiLu7u4AAAAU9Wx4AAAAAXRSTlMAQObYZgAAA1pJREFU\n",
       "SMfNVk1oE0EUfsnmp0k2G/FS8CDRlgp66B6klKI0WgWhikEQpK1YVNKLhxzUikXMoYdaUQL+IChY\n",
       "FBEJltCqhwZk8dhCqRQrCMKKilCtCR7qoaX43s7sbmZ3gzkE8cGbffvtmzffzrx5MwD/i+gNj7iL\n",
       "q5e8qQ0vkDHXQB5SiqlTlH04VFD17EPwMzJuNpBIk87U/YHY5bw7IXwRH+HBBhIpcbXkG38m8tjM\n",
       "eneaZeSD+QYS2crVkvv82U7T9Mm7E8Ly0+HhKw3k4c8xdRN5Tk3I+58JXs1kPtQ5SNiZah5RgxNM\n",
       "YbkwLRIZLR0GiKadMXsfNTO4B2DI+p2xGhSSRntZ+HX07fJISY2ptBluCESUVUioEDEm68QYySiZ\n",
       "27KhChhwKyj2TD4Ro/4YP9JvGINVbZVvNOki4ksy/VSEcwKRyAb4JsC/yTEh6xDEsATHIaZZ+DV7\n",
       "2788rkkdujRuU4gUhRjoq7h3YyLJ9KgzR4I5SKRBqojugQrEMSzBMS1u7/rflvVqx09dHgHYaRMJ\n",
       "ZYUY5NtTk8gqe8VFeMsWIZ6Gds1FJDEIZZURUXK7Ebgwc4bWfe0FkfpaKMqUVC23cO5sIj7LD0xf\n",
       "q2Aofdz05Q0NrzlnBMvIKZ0vzcmPJEtoXS3CQ+Dw0H6M8z68gWZsQcbypyz6K03k/3reDGYQ6bT8\n",
       "wPRthQCl3XVYUdv5RtSYrmNlEImosAUxx2KW83AoojL4Dp4BgbREh06oKNNLSlG7PIi0Wn5g+naa\n",
       "DgfgMzNoI5IeBHgsEAnkgyn39m3SIu+iHPYVaVVjdBL4VEphWuK9mUymuL1FIHKb+93Fbxnd8LWI\n",
       "/LJ29QLTYKGki9u3d4AGTjrLyFTHFIdl7FDWQ/OYigmI46yW0fpi/MR3IUfaLD9jqsm3DULG0ih2\n",
       "ljdzdVVWs5bXKPE8xfTuPfqlbBzuAbYqTAZoOKkvy9PRILLC/VgX8rXPsEWI6tb5JR5twt2k4E3E\n",
       "gv39cwPQrfn7J7AN987oymmCl5fOJm0iuM0NP7MLFvJjZoDzpcm/XQOM9cnVBWtVbRRzxP5iEInl\n",
       "ve4RrgMpxdRTAtl6YClrtw4xiCiua4uj1jIZ4eol03XBclXrRQQeuP7kn1+x2VTLzmvAZONG+AOX\n",
       "X/NOCYldBwAAAABJRU5ErkJggg==\n",
       "\" style=\"display:inline;vertical-align:middle;\" /></a><br>(see <a class=\"ProveItLink\" href=\"../__pv_it/1e4b508d6f44212146394935b98add0e331353940/dependencies.ipynb\">dependencies</a>)<br>"
      ],
      "text/plain": [
       "addFromSubtract: forall_{a, b, c in Complexes | (a - b) = c} ((c + b) = a)"
      ]
     },
     "execution_count": 2,
     "metadata": {},
     "output_type": "execute_result"
    }
   ],
   "source": [
    "%proving addFromSubtract presuming []"
   ]
  },
  {
   "cell_type": "code",
   "execution_count": null,
   "metadata": {},
   "outputs": [],
   "source": []
  }
 ],
 "metadata": {
  "kernelspec": {
   "display_name": "Python 3",
   "language": "python",
   "name": "python3"
  }
 },
 "nbformat": 4,
 "nbformat_minor": 0
}
