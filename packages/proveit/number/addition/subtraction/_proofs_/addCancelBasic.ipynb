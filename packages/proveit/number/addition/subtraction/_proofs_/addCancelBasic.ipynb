{
 "cells": [
  {
   "cell_type": "markdown",
   "metadata": {},
   "source": [
    "Proof of <a class=\"ProveItLink\" href=\"../../../../_context_.ipynb\">proveit</a>.<a class=\"ProveItLink\" href=\"../../../_context_.ipynb\">number</a>.<a class=\"ProveItLink\" href=\"../../_context_.ipynb\">addition</a>.<a class=\"ProveItLink\" href=\"../_context_.ipynb\">subtraction</a>.<a class=\"ProveItLink\" href=\"../_theorems_.ipynb#addCancelBasic\">addCancelBasic</a> theorem\n",
    "========"
   ]
  },
  {
   "cell_type": "code",
   "execution_count": 1,
   "metadata": {},
   "outputs": [],
   "source": [
    "import proveit\n",
    "context = proveit.Context('..') # the theorem's context is in the parent directory"
   ]
  },
  {
   "cell_type": "code",
   "execution_count": 2,
   "metadata": {},
   "outputs": [
    {
     "name": "stdout",
     "output_type": "stream",
     "text": [
      "Beginning proof of addCancelBasic\n",
      "Recorded 'presuming' information\n",
      "Presuming previous theorems (applied transitively).\n"
     ]
    },
    {
     "data": {
      "text/html": [
       "<strong id=\"addCancelBasic\">addCancelBasic:</strong> <a class=\"ProveItLink\" href=\"../__pv_it/3feff4dff3f5f5f826f64d42633ac97500b01f640/expr.ipynb\"><img src=\"data:image/png;base64,iVBORw0KGgoAAAANSUhEUgAAAKkAAAAVBAMAAADP89MSAAAAMFBMVEX///8QEBC6urrMzMxUVFRm\n",
       "ZmZERETc3NwyMjKqqqp2dnaIiIiYmJgiIiLu7u4AAAAU9Wx4AAAAAXRSTlMAQObYZgAAAhhJREFU\n",
       "OMtjYKAJeIBPkmkDBGMHh3ALXwAxTuPQZwLF2AGrAboIX/RWA7DwShCvD4e+PjxyQNCALsCrwHcZ\n",
       "LFwG5LAnYNfFvQGCcYFT6AJ7GRh2gIU5gAHLOgG7LsYHEIwLPEQXuMLAoF8AEuZZXl5ei0OXBhTj\n",
       "AmzorvnKwGA/ASz8LS3tFg5dUVDM7r1IHFUGIsIVgCb6C2jqBrCwMwNDOg5Te6BYsYDtA6oMRIQT\n",
       "HF0RHSDQAjN1AVhYhYEPJS7fdPlGQ5lCEMz+h4EVNT6hIkwCWNy6ACzMy8B9AJbctoYeYDZ7wNwF\n",
       "5X+CYJYPDLyglFBxFwQuMcBFmD9gDQGQMPcBXlg0b1N/94CnmoFBC9VU/gSG96gJHiqCbio4tg6A\n",
       "hfkaQLmndFcyAw8o8JUnA+2EKpKE4PoNDPNRczZUBBICsWAvXIOmrPkFEOF0J6DR19n/MXCAJPad\n",
       "Q2jOgeD3Exg8OFEcCxXhacDMBWsZIMJTgUUBSwDzBQYrdFOXQjDHAc6rXCi6oSLoKYuBdwKfMFSY\n",
       "ERju/ArcDgy2aWlpG5SUEYp0IZjde5PZJrTkChbhUEAvXaK2GECFeYBB9v4B27mCJyAJlteIcGUs\n",
       "gGCicyyaMOMDe5sHLCADmKMKGHZDRXkWQDAusJqAMFP06RgGviQQ89W1FAXiSkK+BqKEuYDhiiJQ\n",
       "AsXYAUsBKcJIsbIBgrGDzTiFAS3vpPWV0nuyAAAAAElFTkSuQmCC\n",
       "\" style=\"display:inline;vertical-align:middle;\" /></a><br>(see <a class=\"ProveItLink\" href=\"../__pv_it/3feff4dff3f5f5f826f64d42633ac97500b01f640/dependencies.ipynb\">dependencies</a>)<br>"
      ],
      "text/plain": [
       "addCancelBasic: forall_{a in Complexes} ((a - a) = 0)"
      ]
     },
     "execution_count": 2,
     "metadata": {},
     "output_type": "execute_result"
    }
   ],
   "source": [
    "%proving addCancelBasic presuming []"
   ]
  },
  {
   "cell_type": "code",
   "execution_count": null,
   "metadata": {},
   "outputs": [],
   "source": []
  }
 ],
 "metadata": {
  "kernelspec": {
   "display_name": "Python 3",
   "language": "python",
   "name": "python3"
  }
 },
 "nbformat": 4,
 "nbformat_minor": 0
}
