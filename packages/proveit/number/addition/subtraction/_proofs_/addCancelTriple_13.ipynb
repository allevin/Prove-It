{
 "cells": [
  {
   "cell_type": "markdown",
   "metadata": {},
   "source": [
    "Proof of <a class=\"ProveItLink\" href=\"../../../../_context_.ipynb\">proveit</a>.<a class=\"ProveItLink\" href=\"../../../_context_.ipynb\">number</a>.<a class=\"ProveItLink\" href=\"../../_context_.ipynb\">addition</a>.<a class=\"ProveItLink\" href=\"../_context_.ipynb\">subtraction</a>.<a class=\"ProveItLink\" href=\"../_theorems_.ipynb#addCancelTriple_13\">addCancelTriple_13</a> theorem\n",
    "========"
   ]
  },
  {
   "cell_type": "code",
   "execution_count": 1,
   "metadata": {},
   "outputs": [],
   "source": [
    "import proveit\n",
    "context = proveit.Context('..') # the theorem's context is in the parent directory"
   ]
  },
  {
   "cell_type": "code",
   "execution_count": 2,
   "metadata": {},
   "outputs": [
    {
     "name": "stdout",
     "output_type": "stream",
     "text": [
      "Beginning proof of addCancelTriple_13\n",
      "Recorded 'presuming' information\n",
      "Presuming previous theorems (applied transitively).\n"
     ]
    },
    {
     "data": {
      "text/html": [
       "<strong id=\"addCancelTriple_13\">addCancelTriple_13:</strong> <a class=\"ProveItLink\" href=\"../__pv_it/182f6dfb5077056036fbe3e8a7ef532d01a915a00/expr.ipynb\"><img src=\"data:image/png;base64,iVBORw0KGgoAAAANSUhEUgAAANYAAAAWBAMAAABOJX+pAAAAMFBMVEX///8QEBC6urrMzMxUVFRm\n",
       "ZmZERETc3NwyMjKqqqp2dnaIiIiYmJgiIiLu7u4AAAAU9Wx4AAAAAXRSTlMAQObYZgAAAs5JREFU\n",
       "SMe9Vk1oE0EYffnZ/G42vRUEJVpB0ENzkB5ESdSDShQCKhRTMaik9JaLtlDEID3UHiQggtBDg1BE\n",
       "RAi19WBBFk/SQolCKwjCFgqKigkUK2IJzuxMNp3dcZOLfvCyu1/e5M1+fxPgP5rRmXKIo0t7LfWq\n",
       "CaBGb5bd1vrSDA7TjtdkfCVp92zsJh/ngSf04Z6bVshgkHyTli4oOTwTlAzcJJdg3k1rkaNtn/g1\n",
       "XpYuWHJ4ftEgVswdK2U3rT0cbZvm1355stftDm+TRrwH6uPR0VtuUt4Sg0TrmXxFwL71iJnXEWCr\n",
       "UPjgpqVUGBDMPOoVtSYWz4pcRolk7XnNzOvALHASGLbeYVJSADoD9hYDDUFL20JcrDlGCZtRGJyk\n",
       "RqsC9Tw2gYfAfmjtCM22br5NncuxO0+CIbgNJS9ohZvwVITXYhRvj227MwZ2kY0AMUR1y3uXbnfh\n",
       "ou4bMHxTvNgSDP4GYlVBSykhTsI19pHaO1gUX8OmNQj8AFIgSrF2Of0keHHgu6GOAwdFrXge9SSL\n",
       "zVsWm1gW/frO3+QUh9YqvNumllY6TB5vvLxG8/V73lBpZvvuk4jwGJYZblcxwyfatNVeV4Sq5xQW\n",
       "w8vm666x9lKaZgwxfIIIvg/SHojW1HSIfvtqpV3BOkO9jNPhpKCVpGnYYZyi2gfHppnXN+TuAal+\n",
       "f9ZHeyBQVWtHbFq0gilCeng1IuTLX1bStpI1KY6aP4MLvO48VZqQKF3mSSr5Y4VCobqvr93LNYZg\n",
       "Zm5gTqz5zJC9vUxKKGGfvQs0rXfooCIxrxuBlSKRREzfMLf81coXejmcc+Mvti71aq1O8Bipo8ZY\n",
       "MUYazl+k58ilojVvlxzjtMNh9lTqjVRbgcotDyGle3MVaFep48va9UTHM0VuWknq/iw+smaJkHwJ\n",
       "WUgzdGtmYJx2SjyA5SSMc3Rpz6XeqDg51X/81+YPcJzGUlZCTBQAAAAASUVORK5CYII=\n",
       "\" style=\"display:inline;vertical-align:middle;\" /></a><br>(see <a class=\"ProveItLink\" href=\"../__pv_it/182f6dfb5077056036fbe3e8a7ef532d01a915a00/dependencies.ipynb\">dependencies</a>)<br>"
      ],
      "text/plain": [
       "addCancelTriple_13: forall_{a, b in Complexes} ((a + b - a) = b)"
      ]
     },
     "execution_count": 2,
     "metadata": {},
     "output_type": "execute_result"
    }
   ],
   "source": [
    "%proving addCancelTriple_13 presuming []"
   ]
  },
  {
   "cell_type": "code",
   "execution_count": null,
   "metadata": {},
   "outputs": [],
   "source": []
  }
 ],
 "metadata": {
  "kernelspec": {
   "display_name": "Python 3",
   "language": "python",
   "name": "python3"
  }
 },
 "nbformat": 4,
 "nbformat_minor": 0
}
