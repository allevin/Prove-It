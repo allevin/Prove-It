{
 "cells": [
  {
   "cell_type": "markdown",
   "metadata": {},
   "source": [
    "Proof of <a class=\"ProveItLink\" href=\"../../../../_context_.ipynb\">proveit</a>.<a class=\"ProveItLink\" href=\"../../../_context_.ipynb\">number</a>.<a class=\"ProveItLink\" href=\"../../_context_.ipynb\">addition</a>.<a class=\"ProveItLink\" href=\"../_context_.ipynb\">subtraction</a>.<a class=\"ProveItLink\" href=\"../_theorems_.ipynb#addCancelTriple_31\">addCancelTriple_31</a> theorem\n",
    "========"
   ]
  },
  {
   "cell_type": "code",
   "execution_count": 1,
   "metadata": {},
   "outputs": [],
   "source": [
    "import proveit\n",
    "context = proveit.Context('..') # the theorem's context is in the parent directory"
   ]
  },
  {
   "cell_type": "code",
   "execution_count": 2,
   "metadata": {},
   "outputs": [
    {
     "name": "stdout",
     "output_type": "stream",
     "text": [
      "Beginning proof of addCancelTriple_31\n",
      "Recorded 'presuming' information\n",
      "Presuming previous theorems (applied transitively).\n"
     ]
    },
    {
     "data": {
      "text/html": [
       "<strong id=\"addCancelTriple_31\">addCancelTriple_31:</strong> <a class=\"ProveItLink\" href=\"../__pv_it/23a0971294986725a8b37c47ed062151ff7acafa0/expr.ipynb\"><img src=\"data:image/png;base64,iVBORw0KGgoAAAANSUhEUgAAAOcAAAAWBAMAAADJFJavAAAAMFBMVEX///8QEBC6urrMzMxUVFRm\n",
       "ZmZERETc3NwyMjKqqqp2dnaIiIiYmJgiIiLu7u4AAAAU9Wx4AAAAAXRSTlMAQObYZgAAAwJJREFU\n",
       "SMfFVk1oE0EUfvnZ/G424qUqCKkRFEG6B+lBlEQ9qEQx4A/SFAwqKaJgDtEKIg3ioZa2BETwIg1C\n",
       "ERFhqa2HFmTxJBZKLlVQClvooaiYYDASWoJvdiebzO5may/64NudfMzM9/a9eW8C8D9M2XiKU9Kw\n",
       "SeMjlvQ7RIkM5m1XH6DoaCs7LemzRkI4gmqcCPCC/Bq3FR3fcMYDS9ZnZuL4yAPcxpc3bbdjUNJg\n",
       "NiFLB3UjocW3aFwQLuDjA4pjUrmCnahD0WA2P3XF2TAQ1IUtxgU9ZJtldOf54OA929jtpegsGihZ\n",
       "isI144JX5OHBT6xlMp9tRfsomuZNPOtiNXyJaZkVzc12Y6QnTbmfO4UuJgGOAQzoxTFsITpK0bTu\n",
       "rKfCipbTUGXj3QU38fWEjLlh1cgREmoQFsGPJ2k3CHl9Q9237yOnU3S4laL5oevApVnRCQV2MMSQ\n",
       "DBeIe8Z0NMBRBCemOgRBWacfEn9mzsuuXsU1QrmfGrxjS8Qi7gqEJFb0IsAvhjgD8AVfMYMol4dw\n",
       "ElwYp6Acah3N34g3e34o/F2AfayofuzTUBa1sI1t08K2CM51hqiBULUQDSWhR1ZFhTzpNrdmr5Bc\n",
       "rE0rPOYZoo/w0+jU7RTUhiSYoM2z+WF14BrthHcN/BWBhpdTA7SU1sr0kqKGFwaOovInL1kWLPFx\n",
       "tY+8XWip3KCgVi7ACb/IiFZJqtoIoQ7uPLr93tgbRJJ7nhyhx1hl7qSL1JpH4ksHjaKTwBx+n+xf\n",
       "DLA5PQnnWGIUniaL5pJxF7i4VjLgwJnhSJDkwiFy6cOZTEbaFW1N3U+hl+lU7xSrsTIjs0RuLnod\n",
       "75j7xraZ6Cdek9uHxwSVFc8CVnMYQvKK6tO3Vk4dWQ2dO1IHwtwGVVtu9dfYIeVONoT17Cb7u/qy\n",
       "MNfWt829u3nR2hAB6zv4pT47Nd8PMdmZKoJwmRBfP16N/P3VZm2rlmxbK1JNy0wAc8rQOYrN2nFL\n",
       "1s1mypW1XuyVNGzSgqIl/drwp+Zf/S/7A73l01Hk3QRCAAAAAElFTkSuQmCC\n",
       "\" style=\"display:inline;vertical-align:middle;\" /></a><br>(see <a class=\"ProveItLink\" href=\"../__pv_it/23a0971294986725a8b37c47ed062151ff7acafa0/dependencies.ipynb\">dependencies</a>)<br>"
      ],
      "text/plain": [
       "addCancelTriple_31: forall_{a, b in Complexes} ((-a + b + a) = b)"
      ]
     },
     "execution_count": 2,
     "metadata": {},
     "output_type": "execute_result"
    }
   ],
   "source": [
    "%proving addCancelTriple_31 presuming []"
   ]
  },
  {
   "cell_type": "code",
   "execution_count": null,
   "metadata": {},
   "outputs": [],
   "source": []
  }
 ],
 "metadata": {
  "kernelspec": {
   "display_name": "Python 3",
   "language": "python",
   "name": "python3"
  }
 },
 "nbformat": 4,
 "nbformat_minor": 0
}
