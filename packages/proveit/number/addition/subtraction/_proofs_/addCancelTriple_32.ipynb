{
 "cells": [
  {
   "cell_type": "markdown",
   "metadata": {},
   "source": [
    "Proof of <a class=\"ProveItLink\" href=\"../../../../_context_.ipynb\">proveit</a>.<a class=\"ProveItLink\" href=\"../../../_context_.ipynb\">number</a>.<a class=\"ProveItLink\" href=\"../../_context_.ipynb\">addition</a>.<a class=\"ProveItLink\" href=\"../_context_.ipynb\">subtraction</a>.<a class=\"ProveItLink\" href=\"../_theorems_.ipynb#addCancelTriple_32\">addCancelTriple_32</a> theorem\n",
    "========"
   ]
  },
  {
   "cell_type": "code",
   "execution_count": 1,
   "metadata": {},
   "outputs": [],
   "source": [
    "import proveit\n",
    "context = proveit.Context('..') # the theorem's context is in the parent directory"
   ]
  },
  {
   "cell_type": "code",
   "execution_count": 2,
   "metadata": {},
   "outputs": [
    {
     "name": "stdout",
     "output_type": "stream",
     "text": [
      "Beginning proof of addCancelTriple_32\n",
      "Recorded 'presuming' information\n",
      "Presuming previous theorems (applied transitively).\n"
     ]
    },
    {
     "data": {
      "text/html": [
       "<strong id=\"addCancelTriple_32\">addCancelTriple_32:</strong> <a class=\"ProveItLink\" href=\"../__pv_it/b45eb8edb4d40b15cb2f46991906cb193ef7f9970/expr.ipynb\"><img src=\"data:image/png;base64,iVBORw0KGgoAAAANSUhEUgAAANYAAAAWBAMAAABOJX+pAAAAMFBMVEX///8QEBC6urrMzMxUVFRm\n",
       "ZmZERETc3NwyMjKqqqp2dnaIiIiYmJgiIiLu7u4AAAAU9Wx4AAAAAXRSTlMAQObYZgAAAsZJREFU\n",
       "SMe9Vk1oE0EYffnZ/O5ueisUlGgFQQ/NQXoQJVEPKlEIqFBMxaCS0lsu2kIRg/RQe5CACEIPDUIR\n",
       "ESHU1oMFWTxJCyUKrSAIKxQUFRMoVsQSnNmZJJ3JdrsI+sHbzLyZ3Tf7/W2A/2jmzlsOcri0V7as\n",
       "GgeqdLDkdK8vZUE/VnWnpSRkZm0XuZwDHtPJXad7QyZHyuWLFTuYcfoY4Ab5Ceacbl3giJW23fJJ\n",
       "mC12rP+iTixbJ1ZKTlq7Ofq2D+2UMPsoL3sb5KJ3QX00MnLTScpbZMBTuNQKyEePWJEeBjby+feO\n",
       "oS4zYHzhjLgSTD/sFrUYE8nIEU/PGcAMcAIYar3DhE1qGAz6BmJihu0pBOqiFmPCVnIMTFCjWYFa\n",
       "DuvAA2Af9HbizDQH3ybPZtnIE2cIN+ApC6+1CSUnaHHG2yUdd9pEDzkIoCFqtNg7NIjzFwxfv+mb\n",
       "ZFQszqAUESPOGf1A7S1Z8NehVQQtzvjqktYA8ANIgihp7QT7SfB8/3dTHQMOiFpaBn3G1ifEcqgl\n",
       "mLPeMGdxpkNrBd5NS0svHiLT6y+u0nj9njNVGtnee8Qj3IclBlJel4Wsv1XBNG9xUwLDfHjJcsAq\n",
       "Ky+lYfkQQ8eJ4LsgrYFoVU2F6OrL5XYGGwwkMXqE09ZKOBVObNXijCo3jnUr0q/J6D7Jfn/GR2sg\n",
       "UFGrhyUtmsEU/pKSkhI0vBIR4sWZjpw/jfM87zwVGpAofZAnoeSO5vP5yt7edi1XGfT0oFxes/2z\n",
       "Yh4yJhSXe+88DfRt2qiIz2tmYLlAJKEZa1ZGfW3FC90cwN/2KMv0ZiV4zOQRc7SgkYLzF+h35GLB\n",
       "6rfNVrq48xeubU9s90QqTUdllwaRNLzZMvQrlPiyei0ufVPcml60pT+LU1Y+ERIvIS4pBrdmOabT\n",
       "ToofYPtNGONwac9s2ajYS9V//NfmDwjxxlLxZEv4AAAAAElFTkSuQmCC\n",
       "\" style=\"display:inline;vertical-align:middle;\" /></a><br>(see <a class=\"ProveItLink\" href=\"../__pv_it/b45eb8edb4d40b15cb2f46991906cb193ef7f9970/dependencies.ipynb\">dependencies</a>)<br>"
      ],
      "text/plain": [
       "addCancelTriple_32: forall_{a, b in Complexes} ((b - a + a) = b)"
      ]
     },
     "execution_count": 2,
     "metadata": {},
     "output_type": "execute_result"
    }
   ],
   "source": [
    "%proving addCancelTriple_32 presuming []"
   ]
  },
  {
   "cell_type": "code",
   "execution_count": null,
   "metadata": {},
   "outputs": [],
   "source": []
  }
 ],
 "metadata": {
  "kernelspec": {
   "display_name": "Python 3",
   "language": "python",
   "name": "python3"
  }
 },
 "nbformat": 4,
 "nbformat_minor": 0
}
