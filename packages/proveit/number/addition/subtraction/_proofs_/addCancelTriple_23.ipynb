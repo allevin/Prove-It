{
 "cells": [
  {
   "cell_type": "markdown",
   "metadata": {},
   "source": [
    "Proof of <a class=\"ProveItLink\" href=\"../../../../_context_.ipynb\">proveit</a>.<a class=\"ProveItLink\" href=\"../../../_context_.ipynb\">number</a>.<a class=\"ProveItLink\" href=\"../../_context_.ipynb\">addition</a>.<a class=\"ProveItLink\" href=\"../_context_.ipynb\">subtraction</a>.<a class=\"ProveItLink\" href=\"../_theorems_.ipynb#addCancelTriple_23\">addCancelTriple_23</a> theorem\n",
    "========"
   ]
  },
  {
   "cell_type": "code",
   "execution_count": 1,
   "metadata": {},
   "outputs": [],
   "source": [
    "import proveit\n",
    "context = proveit.Context('..') # the theorem's context is in the parent directory"
   ]
  },
  {
   "cell_type": "code",
   "execution_count": 2,
   "metadata": {},
   "outputs": [
    {
     "name": "stdout",
     "output_type": "stream",
     "text": [
      "Beginning proof of addCancelTriple_23\n",
      "Recorded 'presuming' information\n",
      "Presuming previous theorems (applied transitively).\n"
     ]
    },
    {
     "data": {
      "text/html": [
       "<strong id=\"addCancelTriple_23\">addCancelTriple_23:</strong> <a class=\"ProveItLink\" href=\"../__pv_it/b31ea09e53d1075be40bb2c2c5ae78d6d26792ce0/expr.ipynb\"><img src=\"data:image/png;base64,iVBORw0KGgoAAAANSUhEUgAAANYAAAAWBAMAAABOJX+pAAAAMFBMVEX///8QEBC6urrMzMxUVFRm\n",
       "ZmZERETc3NwyMjKqqqp2dnaIiIiYmJgiIiLu7u4AAAAU9Wx4AAAAAXRSTlMAQObYZgAAAsNJREFU\n",
       "SMe9VktoE0EY/vLYPDeb3goFJVpB0EN7kB5ESdSDShQCKhRTMaikeMtFWyhikB5qDxIQQfDQIBQR\n",
       "EZbaerAgiydpoUShFQRhhYKiYgrFiliC88pjJmGzCPrDt48vM/vN/K8J8B/N7j5kv4BLe9WR1RNA\n",
       "hT4sO831pRiMIxV3WtqgyqzvIJczwGP6csdpbsgWSLncWLGNmaSfAa6TWzDnNHVRIF4SxKcuWktt\n",
       "zC/qxDJbsVZymrpTYKAe2gddtD6qhLdGLkYP9EdjYzecZnqLHHgKl1oBdekRFumrwFY+/94x1GUO\n",
       "TC6ekrWC6Ye98ljORDJqxNPzFjALHANGG3uY6pAaFoexhfigpLWrENiQx3ImzJJjeIoazQpUc9gE\n",
       "7gN7YDQTZ7b+8G36dJY/eRIc4Ro85Vat4DY0OakE4+1Rljtjo48sBIghajXY2zSIC+cs35Dtm+ZU\n",
       "PMGhFRHPtGr5NxAzyX38A7W3Tcan7BbDwA8gCaIUa/aOnwTP93639Qlgn6wVy2DAYq55w10Tz6Eq\n",
       "l61g2rRW4d1mWkbxAHm99uIyjdfveVuni++/SzwifFjiIOV10W7d100TM3KLEwz34QW23TVeXlqN\n",
       "+RCjR4nguyCtgWhFT4Xory9XmhlscZDE6JPysFrCibC0McHoauPYZJF+TZ7ukez3Z3y0BgKmXjmo\n",
       "aNEMpvCXtJSkFbLCqxElZRnTlvMncVbkncekAYnSD3kGtdzhfD5v7u5v1nKFw0iPyLUcTM8NzSnl\n",
       "xZhQQu29CzT7btFGRXxetQMrBSKJmLXOcuxrI17oFQD+tkcxM+qV4LGTh+zxQowUnL9Az5HzBdZv\n",
       "6610ST3PnOxJRzZi1h2VXR5B0vJmyzAuUeLL2pWEcqa4NaPYkf4sv/KajpB4SVFIcbg15ph2Oy4f\n",
       "wJ0HYULApT3ryEblstf/8V+bP3ObxlKPEvQeAAAAAElFTkSuQmCC\n",
       "\" style=\"display:inline;vertical-align:middle;\" /></a><br>(see <a class=\"ProveItLink\" href=\"../__pv_it/b31ea09e53d1075be40bb2c2c5ae78d6d26792ce0/dependencies.ipynb\">dependencies</a>)<br>"
      ],
      "text/plain": [
       "addCancelTriple_23: forall_{a, b in Complexes} ((b + a - a) = b)"
      ]
     },
     "execution_count": 2,
     "metadata": {},
     "output_type": "execute_result"
    }
   ],
   "source": [
    "%proving addCancelTriple_23 presuming []"
   ]
  },
  {
   "cell_type": "code",
   "execution_count": null,
   "metadata": {},
   "outputs": [],
   "source": []
  }
 ],
 "metadata": {
  "kernelspec": {
   "display_name": "Python 3",
   "language": "python",
   "name": "python3"
  }
 },
 "nbformat": 4,
 "nbformat_minor": 0
}
