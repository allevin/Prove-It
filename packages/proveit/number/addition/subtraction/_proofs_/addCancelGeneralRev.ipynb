{
 "cells": [
  {
   "cell_type": "markdown",
   "metadata": {},
   "source": [
    "Proof of <a class=\"ProveItLink\" href=\"../../../../_context_.ipynb\">proveit</a>.<a class=\"ProveItLink\" href=\"../../../_context_.ipynb\">number</a>.<a class=\"ProveItLink\" href=\"../../_context_.ipynb\">addition</a>.<a class=\"ProveItLink\" href=\"../_context_.ipynb\">subtraction</a>.<a class=\"ProveItLink\" href=\"../_theorems_.ipynb#addCancelGeneralRev\">addCancelGeneralRev</a> theorem\n",
    "========"
   ]
  },
  {
   "cell_type": "code",
   "execution_count": 1,
   "metadata": {},
   "outputs": [],
   "source": [
    "import proveit\n",
    "context = proveit.Context('..') # the theorem's context is in the parent directory"
   ]
  },
  {
   "cell_type": "code",
   "execution_count": 2,
   "metadata": {},
   "outputs": [
    {
     "name": "stdout",
     "output_type": "stream",
     "text": [
      "Beginning proof of addCancelGeneralRev\n",
      "Recorded 'presuming' information\n",
      "Presuming previous theorems (applied transitively).\n"
     ]
    },
    {
     "data": {
      "text/html": [
       "<strong id=\"addCancelGeneralRev\">addCancelGeneralRev:</strong> <a class=\"ProveItLink\" href=\"../__pv_it/8e6cf5c1aab39983fc85c8b4cfd53f17ffd62e580/expr.ipynb\"><img src=\"data:image/png;base64,iVBORw0KGgoAAAANSUhEUgAABLMAAAAaBAMAAAC+8ANkAAAAMFBMVEX///8QEBC6urrMzMxUVFRm\n",
       "ZmZERETc3NwyMjKqqqp2dnaIiIiYmJgiIiLu7u4AAAAU9Wx4AAAAAXRSTlMAQObYZgAACcxJREFU\n",
       "aN7tWw+MHFUZ/272/+7sbKUJVgxxobWiTdPVQjlrTNcSg1gLG2gTroe6/Mmi1tI1IRwBbU+j9iiW\n",
       "2wQ1JOelS1KsjcCttlyMbenm6iGpBJYADUEXRtNQQlvuuOOuQK+3vn8zO29m3sy7Dbk0sF/y9t68\n",
       "P9/7ft/+3nvfvLcHIC9b6kVoS1tkZHm9PJfmtbbH2iIrkSzoc6GWNn+mKRWaLnDZ3ZCwMdY4RzMj\n",
       "7jgvPDEtnqsf1DRNmFpkKfqXJLWSpPe8OONKlloX7Rsf7TJ74lKXwv810hKWrJigmVDGFeeFJ6bF\n",
       "smL64SaWELX24eeHJKkVL6E/UX0+wD0kbZZQotmP1qRfui2uDZmeK8ZZptcV5wUopsWym4zhhyhL\n",
       "iFr34D95SWqRhvfMB7REhSZvOelZmyoZc1Dm9eOkb80HLk3j7wsnvmXQIYNSx9xwevWUMFHQ/GTr\n",
       "QK0We9ljqTD9oJZpQtTCa1CoJBvG4znWNR/U6tBp8pYB75ln9I/JbOEDfjXKrEvT6IfCcMUyaL/x\n",
       "uvRfN5xePSVMFDQfaBkoZ7GXPZYK0w/aApoQtdS9PT0/k35DPNbT0zMvL4pXsASH68M1X18k6v/e\n",
       "4qx9wuGC2K31qq9ff3/pf1xr4jVH08P1oQlfaiXqr5kBWbjkgtOO0Z9aXAcBuoGWgXIWS1HL6ocf\n",
       "0oSoBdOFwmvS1EoVClvK80GtTSydmYD+BX7U0t5IR991iY0Ofsfmgq3l+KSfx8MfwlDGrSa67kCV\n",
       "b4qNG/ejFjbODMjiORecdoy+1OI7CNANtAyUs1iGWpwfHqMJU+sagDulqRXMQHgu56ad1Rap9RuW\n",
       "0MI8lPejFlqN49POSGAaUhnOBeH3YPuEn8e3ZiO2tz5WM5aHSb4pNq7Xj1rYODMgi+HmoT4iWRBg\n",
       "9KUW30GAbqBloJzFMtTi/PAITZhaS0DrBe0GXYpaShbewnF/RtiIX/HDmRapdRFNaqMI/QjAKk8v\n",
       "vXAWouccGGKz0FHmXLD7LITKEMh76YqhETe51uzW4RKugBhXFhlnDIqNMwMyZYETpwOjH7VYhxOz\n",
       "4IXOj1pioMxiU5MftQw/ULmMJkytJCTQ0rJc0DvwqxvhL98zqYXSIfR5n+mqPtsraHk1H6W2uiFO\n",
       "0BQ9D9DIwFXrPb3UX4PUJMMQ2VXHgqZjqBdSOX52YQSBDTXPFfC8qOZmgClHUzTvBcZZBk2Zi0lg\n",
       "3InTgdGPWqyDUgMvdH7UEgOlFjc1+VGL+YHJGpowtRLVpE53SIec2ngLPBPX43qTWofgdfTZnPe2\n",
       "fkdKcWMM7dk9r1SaBxXkkeVP71zfrXYdWjvaXOJYUdZGrdQUBPC2P+hi3c19fS/29eHDpkYO1ow7\n",
       "bEnmYEWVbD+7FtHtp0GYFqt56UpNiWpeAWXG3jTQ0F2N4wddM+tFLR6jpaeHibgDidsE6JqNWwDK\n",
       "LKaahPY0Kww/OKil9V7J9nzHmctt296B5yo5K7XeCmQ5Gj/Ad7lBR7sraE9trMLKu6Cz3DzHIY/M\n",
       "v6v0wM7YMFykmEGtUWTuF5+hKTUDiffVtCu1mtOsUYUjvSN2DKkSfF/npl2jKqJWU1dqRlTzAYRm\n",
       "7U0T54XGWQY9Uhuxboghsq7W8yDA6LdqsQ7RKnih81u1xECZxTHZVcvwg2NDhDvXoo+zeM/sXrYn\n",
       "MZxhOYBR3PLow/dbqRW+G6mwRPJn+cE+RV4Lhr/wjg7/rIBSxqq/iPRl6KOClqmjoN4P8CW4Rqvh\n",
       "w32uKGIGgz+mqWMCwlPRInM7tkMzMhZffC4NW3M77LagGP4S3jdvVLE11GUiXckZbNPoX/+ePXg7\n",
       "XzNphG5GAWdcU5fOD0qNox4F1R71OzBaepomauA2bqooRmehlkiLGChzp4NaGqeuWcHswarQ07M0\n",
       "EWr9DqkI4Nl0ekU1mVWzLJehtxJH46dXW6gV+y6NoLT1BXwoopw7gCvfPr4TSNl7AAdBxYuR8lXE\n",
       "0eLrVXIgO8oeoQtXLn4YjQy1WC6pkhPYZlFiROdfYRPoBflcJ9ssNBwdjNVYxuKLI+V4Y39vwBYi\n",
       "B0uhrC3QzcPbn6YuE+qKTYP26LaRGXgZ/sHXXAcb+ALOOFOXodAYlBpHPeo8fLBjtPQ0TaQfjnG/\n",
       "DEJ01pMEkRYxUGqxk1omxDE+yqP2aEjVS/zhA3TgOxW8Om/7G5rpBDzOFQNkjh6F8h4LteCz+EgB\n",
       "4Cf5OF5QEzVMRa2u94NRtoRcIUHiNO7VjWdWF+IOfUQ0Q0vh089jyPl4KbzfVqQ+brh3OUuHX336\n",
       "1h0GtS7G59l5lrH6uv7gm4uKCdubn7buFptvlJ/v2qkzaol0wRWLXn0ycqoXLVKP8TUnnqramlqN\n",
       "M3UZCo1BqXHEoyjiTduoZcdopZZhIv1wjDssRmelllCLECi12EktE6Khyagg9mBVeN/4BU2EWir6\n",
       "0sOk0To0E6IlmrsMAscLhc2IWj89Y6UW5sASgK2ZENYTrqj4tGsSusEo64TVTWrRgO+bzccNOcaj\n",
       "prgUIb4XaWIyKHFnEa7I3Ln4xVpsxaugNfABUdRiKxiUuX9ZR4IQ50WPC0bJi57N3ujkLno8gErH\n",
       "WqYqZQF30cMQrsSfC9FM2K7Q3EZFy9JVS/malVpYfgvau5DELzsdmRBicIpsRaysE75eKBQqyuXm\n",
       "kVYCbZ3G42E08y9fzBnoUtS85fSm1jLuW1opcqYiQy1eVyaRj4ynXWpcCgYlBiUeBfgzuOC0qxH+\n",
       "hIsfd2HGE90ykNHiAdTUJLSHr0BcyKUhjspwMqk1loB7i5FxNLeeidPcwsVwLaUWHLNTaylEpmHs\n",
       "LqQgBckqOafGJ0q0bCmcII2ur+DgCstosGQ8qrnrEL1P4cDKdK6zCAv/o5pBiaMwhEFKYhKXoNvR\n",
       "HFTzkldaMsZRj2rOs/u5YbTu9+OVVtHJAZ2jJqSq4ysZcqJOTtUNagX3wZqqkkdx2Kq9NLepCm8i\n",
       "Miu/TkMQbNQ6A3AxDD1evreYhEcQE5M1CF29g5bBMQgSRl21l/1iBEVaXcbjKA7qA5uKKNg3xKUI\n",
       "y90sEbmvv9sfWnCflAcif5ry/yHEUkhmAj+Su9KSMo56NOjUODeMVvl2qVV0UkDnqgmpCqFQGa9H\n",
       "11qphaXqyP2xsNl20cPeW3Xo7DtwXEcc7C4jJka+9YMHAzO0DG4E7TYyq54orCWtP09+XUke8UHW\n",
       "TfiF8g4znHUposgqNH2sZL/LN/jxwpjI0MRRK1B05hx3iKx/ieMg/VRZGVrz4yjWgrZ8osVKLdUl\n",
       "J6CWlrdykDHxap/XibZ8YqnlL3Xz/xD/YOWgyu2iwbZX24L/DzHbWkdV/FuZJ9tubQuR/wMuIDAL\n",
       "m9zgUAAAAABJRU5ErkJggg==\n",
       "\" style=\"display:inline;vertical-align:middle;\" /></a><br>(see <a class=\"ProveItLink\" href=\"../__pv_it/8e6cf5c1aab39983fc85c8b4cfd53f17ffd62e580/dependencies.ipynb\">dependencies</a>)<br>"
      ],
      "text/plain": [
       "addCancelGeneralRev: forall_{l, m, n in Naturals} [forall_{(a, b, c, d) in Complexes^{l} * Complexes * Complexes^{m} * Complexes^{n}} ((a_1   ...  + a_l - b + c_1   ...  + c_m + b + d_1   ...  + d_n) = (a_1 +  ...  + a_l + c_1 +  ...  + c_m + d_1 +  ...  + d_n))]"
      ]
     },
     "execution_count": 2,
     "metadata": {},
     "output_type": "execute_result"
    }
   ],
   "source": [
    "%proving addCancelGeneralRev presuming []"
   ]
  },
  {
   "cell_type": "code",
   "execution_count": null,
   "metadata": {},
   "outputs": [],
   "source": []
  }
 ],
 "metadata": {
  "kernelspec": {
   "display_name": "Python 3",
   "language": "python",
   "name": "python3"
  }
 },
 "nbformat": 4,
 "nbformat_minor": 0
}
