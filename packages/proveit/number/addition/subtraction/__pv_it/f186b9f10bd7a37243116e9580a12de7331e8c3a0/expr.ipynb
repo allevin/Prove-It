{
 "cells": [
  {
   "cell_type": "markdown",
   "metadata": {},
   "source": [
    "Expression of type <a class=\"ProveItLink\" href=\"../../../../../../../doc/html/api/proveit.ExprTuple.html\">ExprTuple</a>\n",
    "=======================\n",
    "# from context <a class=\"ProveItLink\" href=\"../../_context_.ipynb\">proveit.number.addition.subtraction</a>"
   ]
  },
  {
   "cell_type": "code",
   "execution_count": 1,
   "metadata": {},
   "outputs": [],
   "source": [
    "# import Expression classes needed to build the expression\n",
    "from proveit import ExprTuple\n",
    "from proveit._common_ import a, b\n",
    "from proveit.number import Add, Neg"
   ]
  },
  {
   "cell_type": "code",
   "execution_count": 2,
   "metadata": {},
   "outputs": [
    {
     "data": {
      "text/html": [
       "<strong id=\"expr\">expr:</strong> <a class=\"ProveItLink\" href=\"expr.ipynb\"><img src=\"data:image/png;base64,iVBORw0KGgoAAAANSUhEUgAAAIAAAAAVBAMAAAB8u/sIAAAAMFBMVEX////c3NwiIiJERESqqqqY\n",
       "mJh2dnZmZmYQEBDu7u4yMjJUVFTMzMyIiIi6uroAAAAs73DqAAAAAXRSTlMAQObYZgAAAVZJREFU\n",
       "OMulVD1Iw0AYfWr+pTG7g+LSNYPuzi7N7NTNzdFBHVTEwUEz2yFQcDCCKDgJhYCjQ2/rIJTiFJyK\n",
       "WKQg4iUx7XdcCqb94JLH433vfr7vDpg5bDZ9rtrjn5dyOY0TCg75uCk56y0FFlAp3IHpTGQ+QYBa\n",
       "h+EXGShsEmMPQYB5hHeUM9BWQcE69ohorrV7LMplxmq9egTs4JoYxM5CX5TLTODim4AtXJAFDKC7\n",
       "glxmUPNxRkCMHy5rriXRW+xjnglymcE+8EVAOzHIY8lFEPG/HobN8zC8L2JQhT1I1Rlo43RssMJQ\n",
       "g0/nkxlefX1IQIyNsUGwiSclonKZ4Qdn1FPPFGCb12EUlqdUNWHHMoNHHMD8+ANJGd9oG3Sfu2IV\n",
       "JAaNjgfz0skAcAfDKdeJWRvnSbyV+XX41yMhMGoONFb+OgsGV3wsT2EwWs1DclAzPGmVCL9E9X61\n",
       "cFtasAAAAABJRU5ErkJggg==\n",
       "\" style=\"display:inline;vertical-align:middle;\" /></a><br>"
      ],
      "text/plain": [
       "expr: (-a + a + b , b)"
      ]
     },
     "execution_count": 2,
     "metadata": {},
     "output_type": "execute_result"
    }
   ],
   "source": [
    "# build up the expression from sub-expressions\n",
    "expr = ExprTuple(Add(Neg(a), a, b), b)"
   ]
  },
  {
   "cell_type": "code",
   "execution_count": 3,
   "metadata": {},
   "outputs": [
    {
     "name": "stdout",
     "output_type": "stream",
     "text": [
      "Passed sanity check: built 'expr' is the same as the stored Expression.\n"
     ]
    }
   ],
   "source": [
    "# check that the built expression is the same as the stored expression\n",
    "%check_expr"
   ]
  },
  {
   "cell_type": "code",
   "execution_count": 4,
   "metadata": {},
   "outputs": [
    {
     "data": {
      "text/html": [
       "<table><tr><th>&nbsp;</th><th>core type</th><th>sub-expressions</th><th>expression</th></tr>\n",
       "<tr><td>0</td><td>ExprTuple</td><td>1, 5</td><td><a class=\"ProveItLink\" href=\"expr.ipynb\"><img src=\"data:image/png;base64,iVBORw0KGgoAAAANSUhEUgAAAIAAAAAVBAMAAAB8u/sIAAAAMFBMVEX////c3NwiIiJERESqqqqY\n",
       "mJh2dnZmZmYQEBDu7u4yMjJUVFTMzMyIiIi6uroAAAAs73DqAAAAAXRSTlMAQObYZgAAAVZJREFU\n",
       "OMulVD1Iw0AYfWr+pTG7g+LSNYPuzi7N7NTNzdFBHVTEwUEz2yFQcDCCKDgJhYCjQ2/rIJTiFJyK\n",
       "WKQg4iUx7XdcCqb94JLH433vfr7vDpg5bDZ9rtrjn5dyOY0TCg75uCk56y0FFlAp3IHpTGQ+QYBa\n",
       "h+EXGShsEmMPQYB5hHeUM9BWQcE69ohorrV7LMplxmq9egTs4JoYxM5CX5TLTODim4AtXJAFDKC7\n",
       "glxmUPNxRkCMHy5rriXRW+xjnglymcE+8EVAOzHIY8lFEPG/HobN8zC8L2JQhT1I1Rlo43RssMJQ\n",
       "g0/nkxlefX1IQIyNsUGwiSclonKZ4Qdn1FPPFGCb12EUlqdUNWHHMoNHHMD8+ANJGd9oG3Sfu2IV\n",
       "JAaNjgfz0skAcAfDKdeJWRvnSbyV+XX41yMhMGoONFb+OgsGV3wsT2EwWs1DclAzPGmVCL9E9X61\n",
       "cFtasAAAAABJRU5ErkJggg==\n",
       "\" style=\"display:inline;vertical-align:middle;\" /></a></td></tr>\n",
       "<tr><td>1</td><td>Operation</td><td>operator:&nbsp;2<br>operands:&nbsp;3<br></td><td><a class=\"ProveItLink\" href=\"../7523e61a031e9551a0fc9362d990d2ae3c1520350/expr.ipynb\"><img src=\"data:image/png;base64,iVBORw0KGgoAAAANSUhEUgAAAGEAAAAQBAMAAAD0Vgz0AAAAMFBMVEX///+qqqrMzMzu7u5mZmaY\n",
       "mJhEREQQEBB2dnaIiIhUVFS6uroiIiIyMjLc3NwAAAAxFEmoAAAAAXRSTlMAQObYZgAAAMNJREFU\n",
       "KM9jYCABMC8/wEAi4F2AXdwOpwi/AHYdkjhF9huQqqMHRfTVjO0PUOUxRW7NXIrQwF3HkI9qIqYI\n",
       "8zcGfgW4jvcBDG6o8pgijJ8Z2BsY3p4BgdMM6xkYTqLKY4qwXGDgd4Db8Y2B+ROI9r179/jdu7ew\n",
       "ivA4MOwPgGng+8nA+IEZ2URMEVB0+MPDl/kjA9cFIWR5TBGQtysQYXWVQcahAUUeU4RLgAUpmbya\n",
       "uSlzA4o8pgjzSldS4xwX2IlXBABSqkYRg/zDVwAAAABJRU5ErkJggg==\n",
       "\" style=\"display:inline;vertical-align:middle;\" /></a></td></tr>\n",
       "<tr><td>2</td><td>Literal</td><td></td><td><a class=\"ProveItLink\" href=\"../../../__pv_it/3e6688136fa3c7aefbebe51301b7c3ebf0b69c440/expr.ipynb\"><img src=\"data:image/png;base64,iVBORw0KGgoAAAANSUhEUgAAAA4AAAAOBAMAAADtZjDiAAAAJFBMVEX///+6urpUVFQQEBAiIiIy\n",
       "MjJmZmaIiIiqqqrc3Nzu7u4AAACgHpL+AAAAAXRSTlMAQObYZgAAAB5JREFUCNdjYGBgWMkAAe2k\n",
       "0Kmhoc6hoUGk6BMHYgAHOwjcado9fwAAAABJRU5ErkJggg==\n",
       "\" style=\"display:inline;vertical-align:middle;\" /></a></td></tr>\n",
       "<tr><td>3</td><td>ExprTuple</td><td>4, 7, 5</td><td><a class=\"ProveItLink\" href=\"../b61f540c00914d1e941d303295b028c6f1e93ad10/expr.ipynb\"><img src=\"data:image/png;base64,iVBORw0KGgoAAAANSUhEUgAAAE4AAAAVBAMAAAAazcUaAAAAMFBMVEX////c3NwiIiJERESqqqqY\n",
       "mJh2dnZmZmYQEBDu7u4yMjJUVFTMzMyIiIi6uroAAAAs73DqAAAAAXRSTlMAQObYZgAAARpJREFU\n",
       "KM9jYCAW8F0gqIT1AZA4jV/N7CYgUQPEKwkYthqIuRgYeAlZ+wVkcQIDxwQCzv8JJDgbGF4RMI5N\n",
       "AUSaMJQhiTHuzWtEZ3HtvR3AwJDOsBRJ3QsB5g/orPkGDH8YGLwY+pCM+8rAboDGYvCfwNAG1Mfw\n",
       "Dyi6SAkEHnB/YGCC+B7BYqhiYPjOwHAepA4G+A0Y5h9AYzGoM/B9BalrQaiTv8DgzzABlQUMPvaf\n",
       "IHtNEermOzDsYjnAicICeoIjgYEhCuhjOOAKYFFnY5ivgMxi2MJQzQAKl0fIwXfv8D2GGR+RWQyz\n",
       "rwODj2EdA4cAegw8xGQB4w0YxWggAJPFdgFLusKibhYQS6Mp48XC2ghyPeF0z3uAAQDAS1QdzlUj\n",
       "zwAAAABJRU5ErkJggg==\n",
       "\" style=\"display:inline;vertical-align:middle;\" /></a></td></tr>\n",
       "<tr><td>4</td><td>Operation</td><td>operator:&nbsp;6<br>operand:&nbsp;7<br></td><td><a class=\"ProveItLink\" href=\"../5bdd387ae2a10752c3ad16ba6b67c0e39d26b0ee0/expr.ipynb\"><img src=\"data:image/png;base64,iVBORw0KGgoAAAANSUhEUgAAABoAAAAJBAMAAADeJiHIAAAAMFBMVEX///+qqqrMzMzu7u5mZmaY\n",
       "mJhEREQQEBB2dnaIiIhUVFS6uroiIiIyMjLc3NwAAAAxFEmoAAAAAXRSTlMAQObYZgAAAExJREFU\n",
       "CNdjYICBVzO2P4BzuOsY8uEchvcBDG4MDG/PgMBphvUMDCcRct8YmD/BOXw/GRg/MMN4zB8ZuC4I\n",
       "wSWvMsg4NCCsm7kpcwMArzoXiK6Dv2MAAAAASUVORK5CYII=\n",
       "\" style=\"display:inline;vertical-align:middle;\" /></a></td></tr>\n",
       "<tr><td>5</td><td>Variable</td><td></td><td><a class=\"ProveItLink\" href=\"../../../../../__pv_it/6840a4fa6c106149dc16a131294d0c5e44f1b0480/expr.ipynb\"><img src=\"data:image/png;base64,iVBORw0KGgoAAAANSUhEUgAAAAkAAAAOBAMAAAAPuiubAAAALVBMVEX///9mZmbMzMxERESYmJiI\n",
       "iIh2dna6urqqqqoyMjIiIiIQEBBUVFTu7u4AAAD9S1JeAAAAAXRSTlMAQObYZgAAAE1JREFUCNdj\n",
       "4D29gAEIOA+ASL4GEFl3AURmgQiGOaFHGBh4HzPwKTBwvGXgTmBgnMDAJ8DAJcBQ5wBSLncBJLWN\n",
       "gYGngRFoBO9REQYGAGrcDtUkVqASAAAAAElFTkSuQmCC\n",
       "\" style=\"display:inline;vertical-align:middle;\" /></a></td></tr>\n",
       "<tr><td>6</td><td>Literal</td><td></td><td><a class=\"ProveItLink\" href=\"../../../../negation/__pv_it/3fc7a08bb9735faa20ef8e175f6ea95511acc9c70/expr.ipynb\"><img src=\"data:image/png;base64,iVBORw0KGgoAAAANSUhEUgAAAA4AAAACBAMAAACapPCZAAAAElBMVEX///+6uroiIiIyMjLc3NwA\n",
       "AAA6l9OrAAAAAXRSTlMAQObYZgAAABBJREFUCNdjcFYCAUUGKAAADR4BD8/TF5gAAAAASUVORK5C\n",
       "YII=\n",
       "\" style=\"display:inline;vertical-align:middle;\" /></a></td></tr>\n",
       "<tr><td>7</td><td>Variable</td><td></td><td><a class=\"ProveItLink\" href=\"../../../../../__pv_it/07527342713064c87612d00d8557c53d53d5324a0/expr.ipynb\"><img src=\"data:image/png;base64,iVBORw0KGgoAAAANSUhEUgAAAAsAAAAJBAMAAAAWSsseAAAAMFBMVEX///8yMjKqqqrMzMzu7u4i\n",
       "IiJmZmaYmJhEREQQEBC6urp2dnaIiIhUVFTc3NwAAAD87Fq/AAAAAXRSTlMAQObYZgAAAEhJREFU\n",
       "CNdjYOC7s2seAwPDygccHxgY+L4zsDUwMPB+YGA9wMDA38Dgb8DA8P4Agz6DA4O/AsNFJgMGxgKm\n",
       "MG6gyjunLE4xAAAZTBA5TB6DCwAAAABJRU5ErkJggg==\n",
       "\" style=\"display:inline;vertical-align:middle;\" /></a></td></tr>\n",
       "</table>\n"
      ],
      "text/plain": [
       "0. (-a + a + b , b)\n",
       "   core type: ExprTuple\n",
       "   sub-expressions: 1, 5\n",
       "1. -a + a + b\n",
       "   core type: Operation\n",
       "   operator: 2\n",
       "   operands: 3\n",
       "2. +\n",
       "   core type: Literal\n",
       "   sub-expressions: \n",
       "3. (-a , a , b)\n",
       "   core type: ExprTuple\n",
       "   sub-expressions: 4, 7, 5\n",
       "4. -a\n",
       "   core type: Operation\n",
       "   operator: 6\n",
       "   operand: 7\n",
       "5. b\n",
       "   core type: Variable\n",
       "   sub-expressions: \n",
       "6. -\n",
       "   core type: Literal\n",
       "   sub-expressions: \n",
       "7. a\n",
       "   core type: Variable\n",
       "   sub-expressions: "
      ]
     },
     "execution_count": 4,
     "metadata": {},
     "output_type": "execute_result"
    }
   ],
   "source": [
    "# display the expression information\n",
    "expr.exprInfo()"
   ]
  },
  {
   "cell_type": "code",
   "execution_count": null,
   "metadata": {},
   "outputs": [],
   "source": []
  }
 ],
 "metadata": {
  "kernelspec": {
   "display_name": "Python 3",
   "language": "python",
   "name": "python3"
  }
 },
 "nbformat": 4,
 "nbformat_minor": 0
}
