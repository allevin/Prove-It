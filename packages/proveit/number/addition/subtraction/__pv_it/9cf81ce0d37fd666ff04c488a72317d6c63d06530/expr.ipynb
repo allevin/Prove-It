{
 "cells": [
  {
   "cell_type": "markdown",
   "metadata": {},
   "source": [
    "Expression of type <a class=\"ProveItLink\" href=\"../../../../../../../doc/html/api/proveit.logic.Equals.html\">Equals</a>\n",
    "=======================\n",
    "# from context <a class=\"ProveItLink\" href=\"../../_context_.ipynb\">proveit.number.addition.subtraction</a>"
   ]
  },
  {
   "cell_type": "code",
   "execution_count": 1,
   "metadata": {},
   "outputs": [],
   "source": [
    "# import Expression classes needed to build the expression\n",
    "from proveit._common_ import a, b\n",
    "from proveit.logic import Equals\n",
    "from proveit.number import Add, Neg"
   ]
  },
  {
   "cell_type": "code",
   "execution_count": 2,
   "metadata": {},
   "outputs": [
    {
     "data": {
      "text/html": [
       "<strong id=\"expr\">expr:</strong> <a class=\"ProveItLink\" href=\"expr.ipynb\"><img src=\"data:image/png;base64,iVBORw0KGgoAAAANSUhEUgAAAJUAAAAVBAMAAAC9PLGkAAAAMFBMVEX////c3NwiIiJERESqqqqY\n",
       "mJh2dnZmZmYQEBDu7u4yMjJUVFTMzMyIiIi6uroAAAAs73DqAAAAAXRSTlMAQObYZgAAAZ5JREFU\n",
       "OMtjYKAm4LtAshbWBzgkTuPTNbsJq3ANugDnDgUQtRKvE1ZjFeXCFNkAJHixepFTAMr4AhOZiOLJ\n",
       "BHQN/A5AgmMCNrNYoDbw/YSJ+KJY1YCu4T3ImFcM+MxiU8BqFoMJuoYkEFGGLCJ97YUAillce28H\n",
       "oJoFUZKOEa53tzIwLEVOHo0M9qjumm/A8AfFLKgSLxCbfRUYgEKd8zMD/wGGPiSz5AMYilHN8p/A\n",
       "0IZiFlTJC/Qw+cnAkcDwD8iSUgIBPYb9DAy6qGZVMTB8RzELquQ8mlnsCxj4C8BmwcBnBs4/ELcv\n",
       "6oK4XZ2B7yvIyFWrNFatWo1Qgm4WUwHD+wCGFoQA418Glg+cKO76wsD+E9ldMCVgP7KDvaNkAEle\n",
       "9RMYTJFSzRcG7gU+KGb9AQUDklkwJVHoSfUAKFyRY3cpg1NBAopZWxiqUdMXVAl6muB2YAcGySPk\n",
       "5HX3je0DFLNmXw9ANQuqZB16nttbCspDAvjSPQIQyEM4sin2Qu0tMocNR5m3kozycxYOcWkyzNqI\n",
       "Q5yR9DKa9wBWYQArn3c77kDYnQAAAABJRU5ErkJggg==\n",
       "\" style=\"display:inline;vertical-align:middle;\" /></a><br>"
      ],
      "text/plain": [
       "expr: (-a + b + a) = b"
      ]
     },
     "execution_count": 2,
     "metadata": {},
     "output_type": "execute_result"
    }
   ],
   "source": [
    "# build up the expression from sub-expressions\n",
    "expr = Equals(Add(Neg(a), b, a), b)"
   ]
  },
  {
   "cell_type": "code",
   "execution_count": 3,
   "metadata": {},
   "outputs": [
    {
     "name": "stdout",
     "output_type": "stream",
     "text": [
      "Passed sanity check: built 'expr' is the same as the stored Expression.\n"
     ]
    }
   ],
   "source": [
    "# check that the built expression is the same as the stored expression\n",
    "%check_expr"
   ]
  },
  {
   "cell_type": "code",
   "execution_count": 4,
   "metadata": {},
   "outputs": [
    {
     "data": {
      "text/html": [
       "<table><tr><th>&nbsp;</th><th>core type</th><th>sub-expressions</th><th>expression</th></tr>\n",
       "<tr><td>0</td><td>Operation</td><td>operator:&nbsp;1<br>operands:&nbsp;2<br></td><td><a class=\"ProveItLink\" href=\"expr.ipynb\"><img src=\"data:image/png;base64,iVBORw0KGgoAAAANSUhEUgAAAJUAAAAVBAMAAAC9PLGkAAAAMFBMVEX////c3NwiIiJERESqqqqY\n",
       "mJh2dnZmZmYQEBDu7u4yMjJUVFTMzMyIiIi6uroAAAAs73DqAAAAAXRSTlMAQObYZgAAAZ5JREFU\n",
       "OMtjYKAm4LtAshbWBzgkTuPTNbsJq3ANugDnDgUQtRKvE1ZjFeXCFNkAJHixepFTAMr4AhOZiOLJ\n",
       "BHQN/A5AgmMCNrNYoDbw/YSJ+KJY1YCu4T3ImFcM+MxiU8BqFoMJuoYkEFGGLCJ97YUAillce28H\n",
       "oJoFUZKOEa53tzIwLEVOHo0M9qjumm/A8AfFLKgSLxCbfRUYgEKd8zMD/wGGPiSz5AMYilHN8p/A\n",
       "0IZiFlTJC/Qw+cnAkcDwD8iSUgIBPYb9DAy6qGZVMTB8RzELquQ8mlnsCxj4C8BmwcBnBs4/ELcv\n",
       "6oK4XZ2B7yvIyFWrNFatWo1Qgm4WUwHD+wCGFoQA418Glg+cKO76wsD+E9ldMCVgP7KDvaNkAEle\n",
       "9RMYTJFSzRcG7gU+KGb9AQUDklkwJVHoSfUAKFyRY3cpg1NBAopZWxiqUdMXVAl6muB2YAcGySPk\n",
       "5HX3je0DFLNmXw9ANQuqZB16nttbCspDAvjSPQIQyEM4sin2Qu0tMocNR5m3kozycxYOcWkyzNqI\n",
       "Q5yR9DKa9wBWYQArn3c77kDYnQAAAABJRU5ErkJggg==\n",
       "\" style=\"display:inline;vertical-align:middle;\" /></a></td></tr>\n",
       "<tr><td>1</td><td>Literal</td><td></td><td><a class=\"ProveItLink\" href=\"../../../../../logic/equality/__pv_it/2fb26078095930560931daa0500ce419a39ea6cd0/expr.ipynb\"><img src=\"data:image/png;base64,iVBORw0KGgoAAAANSUhEUgAAAA4AAAAFBAMAAACHocAhAAAAFVBMVEX///9EREQiIiJUVFQyMjJm\n",
       "ZmYAAADubVkoAAAAAXRSTlMAQObYZgAAABRJREFUCNdjCHEBAWcGXCBICQQUAUpuAwlgGKrkAAAA\n",
       "AElFTkSuQmCC\n",
       "\" style=\"display:inline;vertical-align:middle;\" /></a></td></tr>\n",
       "<tr><td>2</td><td>ExprTuple</td><td>3, 7</td><td><a class=\"ProveItLink\" href=\"../dee89fc192a578b2666cf0ebbe2a3c35f1292e350/expr.ipynb\"><img src=\"data:image/png;base64,iVBORw0KGgoAAAANSUhEUgAAAIAAAAAVBAMAAAB8u/sIAAAAMFBMVEX////c3NwiIiJERESqqqqY\n",
       "mJh2dnZmZmYQEBDu7u4yMjJUVFTMzMyIiIi6uroAAAAs73DqAAAAAXRSTlMAQObYZgAAAbZJREFU\n",
       "OMullD9IAlEcx7/a2XmKp7uD0eIUONQYSWME3twkLW0hRA0VlBEODXVzDorgkEIYFEQgCY0NOdUQ\n",
       "ijRJBEoqIVj0nuef9w7vCn1wdz9+7/c+v/f7ve89YOIhF8dfa6uQ16NJgHQ7YzgXPyKvffJcmKVw\n",
       "5IznsnQecI2sQPJoX3dQ52BGk9YQhl0dBRB62JqqczC9a1PuId5hBliHIWC625557DA+S34zysdn\n",
       "Szc6gPe5qlXjyL8qwAbSDKDqmapz8VID7gIHkKNY0qxEAB1gBafMBloQAxxAaMMe5gA+BVuaFVIR\n",
       "IznxQxamZumoOOuwFjmAmIQ7wgHugTnN2gW+gCcK6A93AAm6YTGTSZ1kMkQC1ghqCutAA1JHi/ZD\n",
       "blHA8RDgKyIElU1IZHDAOSzfEOpSTwZim5awMAQkgrgTuJ6RDsb4rjbhTK52s3S67Vkj5zDUrSL4\n",
       "p7l4Z1DM8ceYxnIkLH0S6xp7oMf4xsqg/FDmE+a3dULylj4WK9IZkUL8hXQHl7B7zJRo4JD7i4iU\n",
       "beF/XRK8wzbQc/GP39noIukb57SqMQCD7VzR1k1wpbkK+AX4RHzGvuGlngAAAABJRU5ErkJggg==\n",
       "\" style=\"display:inline;vertical-align:middle;\" /></a></td></tr>\n",
       "<tr><td>3</td><td>Operation</td><td>operator:&nbsp;4<br>operands:&nbsp;5<br></td><td><a class=\"ProveItLink\" href=\"../d9f744b51c6ab2425bc37498f7520a909546a9e50/expr.ipynb\"><img src=\"data:image/png;base64,iVBORw0KGgoAAAANSUhEUgAAAGEAAAAQBAMAAAD0Vgz0AAAAMFBMVEX///+qqqrMzMzu7u5mZmaY\n",
       "mJhEREQQEBB2dnaIiIhUVFS6uroiIiIyMjLc3NwAAAAxFEmoAAAAAXRSTlMAQObYZgAAAPJJREFU\n",
       "KM9jYMAJrGoYSAW3iFZpB6U/ogvgBJIQivszmgBBHRwHCOh4NWP7AxQFvCtnBaDq4FvZXYfQwF3H\n",
       "kI9qpH0CwydUHdsfsH1A6HgfwOCGqkPegKECRYDvKwNLAgPD2zMgcJphPQPDSVQdvgwMX1AEuD4w\n",
       "8ExA2PGNgRnsBt+7d4/fvQuKiiMM3F9RBPgTGOwV4Br4fjIwfmBGMfIjA8tnFIH3ExjkGQxgOpg/\n",
       "MnBdEEJR8ImBvQE1KAQY1jIiLLnKIOOAqmAhgxeqx3gDGI9wIEXHzE2ZG1AUWE0JQNXBt3K22mx8\n",
       "cY5HAB3sxCsAACYhRU5gr2CvAAAAAElFTkSuQmCC\n",
       "\" style=\"display:inline;vertical-align:middle;\" /></a></td></tr>\n",
       "<tr><td>4</td><td>Literal</td><td></td><td><a class=\"ProveItLink\" href=\"../../../__pv_it/3e6688136fa3c7aefbebe51301b7c3ebf0b69c440/expr.ipynb\"><img src=\"data:image/png;base64,iVBORw0KGgoAAAANSUhEUgAAAA4AAAAOBAMAAADtZjDiAAAAJFBMVEX///+6urpUVFQQEBAiIiIy\n",
       "MjJmZmaIiIiqqqrc3Nzu7u4AAACgHpL+AAAAAXRSTlMAQObYZgAAAB5JREFUCNdjYGBgWMkAAe2k\n",
       "0Kmhoc6hoUGk6BMHYgAHOwjcado9fwAAAABJRU5ErkJggg==\n",
       "\" style=\"display:inline;vertical-align:middle;\" /></a></td></tr>\n",
       "<tr><td>5</td><td>ExprTuple</td><td>6, 7, 9</td><td><a class=\"ProveItLink\" href=\"../722d17ca8e0ebcb9d312a287dca2b457794208be0/expr.ipynb\"><img src=\"data:image/png;base64,iVBORw0KGgoAAAANSUhEUgAAAE0AAAAVBAMAAADx+n4ZAAAAMFBMVEX////c3NwiIiJERESqqqqY\n",
       "mJh2dnZmZmYQEBDu7u4yMjJUVFTMzMyIiIi6uroAAAAs73DqAAAAAXRSTlMAQObYZgAAAS9JREFU\n",
       "KM9jYCAW8F0gqCQORJzGIsG5QwGZy34ASKzEZgLXBhTuAgYGXqzW8jugcMMYGDgmYFP3HlV0BgPD\n",
       "K6wuT0LlMjswlCFxGffmNUJYq+9uRRZiK2BYiqTuhQDzB4h/PzPwH0ASYlnA0Idk3FcGdgMwi+Un\n",
       "A0cCkhBfA8M/IGeREgg84P7AwATxPfsCBv4CEAMqxPMBpA4eGAYM8yG2MRUwvA9AEgKqa0Gok7/A\n",
       "4M8wARp89ROQhID2miLUzXdg2MVygBOk7gBDGwMnXIiBdQFDOlJkBbCoszHMB0YttwP7BjADIgQK\n",
       "l0fIwXfv8D2GGR+B4bK3lAHMgAgxcD1g4BBAj4uHGAxQvLEmoKsLwGAw5GJLV5jqOIHpikEaTRkv\n",
       "BoOBG+Q2RsLp/g4DAwBm7FNphCh5MQAAAABJRU5ErkJggg==\n",
       "\" style=\"display:inline;vertical-align:middle;\" /></a></td></tr>\n",
       "<tr><td>6</td><td>Operation</td><td>operator:&nbsp;8<br>operand:&nbsp;9<br></td><td><a class=\"ProveItLink\" href=\"../5bdd387ae2a10752c3ad16ba6b67c0e39d26b0ee0/expr.ipynb\"><img src=\"data:image/png;base64,iVBORw0KGgoAAAANSUhEUgAAABoAAAAJBAMAAADeJiHIAAAAMFBMVEX///+qqqrMzMzu7u5mZmaY\n",
       "mJhEREQQEBB2dnaIiIhUVFS6uroiIiIyMjLc3NwAAAAxFEmoAAAAAXRSTlMAQObYZgAAAExJREFU\n",
       "CNdjYICBVzO2P4BzuOsY8uEchvcBDG4MDG/PgMBphvUMDCcRct8YmD/BOXw/GRg/MMN4zB8ZuC4I\n",
       "wSWvMsg4NCCsm7kpcwMArzoXiK6Dv2MAAAAASUVORK5CYII=\n",
       "\" style=\"display:inline;vertical-align:middle;\" /></a></td></tr>\n",
       "<tr><td>7</td><td>Variable</td><td></td><td><a class=\"ProveItLink\" href=\"../../../../../__pv_it/6840a4fa6c106149dc16a131294d0c5e44f1b0480/expr.ipynb\"><img src=\"data:image/png;base64,iVBORw0KGgoAAAANSUhEUgAAAAkAAAAOBAMAAAAPuiubAAAALVBMVEX///9mZmbMzMxERESYmJiI\n",
       "iIh2dna6urqqqqoyMjIiIiIQEBBUVFTu7u4AAAD9S1JeAAAAAXRSTlMAQObYZgAAAE1JREFUCNdj\n",
       "4D29gAEIOA+ASL4GEFl3AURmgQiGOaFHGBh4HzPwKTBwvGXgTmBgnMDAJ8DAJcBQ5wBSLncBJLWN\n",
       "gYGngRFoBO9REQYGAGrcDtUkVqASAAAAAElFTkSuQmCC\n",
       "\" style=\"display:inline;vertical-align:middle;\" /></a></td></tr>\n",
       "<tr><td>8</td><td>Literal</td><td></td><td><a class=\"ProveItLink\" href=\"../../../../negation/__pv_it/3fc7a08bb9735faa20ef8e175f6ea95511acc9c70/expr.ipynb\"><img src=\"data:image/png;base64,iVBORw0KGgoAAAANSUhEUgAAAA4AAAACBAMAAACapPCZAAAAElBMVEX///+6uroiIiIyMjLc3NwA\n",
       "AAA6l9OrAAAAAXRSTlMAQObYZgAAABBJREFUCNdjcFYCAUUGKAAADR4BD8/TF5gAAAAASUVORK5C\n",
       "YII=\n",
       "\" style=\"display:inline;vertical-align:middle;\" /></a></td></tr>\n",
       "<tr><td>9</td><td>Variable</td><td></td><td><a class=\"ProveItLink\" href=\"../../../../../__pv_it/07527342713064c87612d00d8557c53d53d5324a0/expr.ipynb\"><img src=\"data:image/png;base64,iVBORw0KGgoAAAANSUhEUgAAAAsAAAAJBAMAAAAWSsseAAAAMFBMVEX///8yMjKqqqrMzMzu7u4i\n",
       "IiJmZmaYmJhEREQQEBC6urp2dnaIiIhUVFTc3NwAAAD87Fq/AAAAAXRSTlMAQObYZgAAAEhJREFU\n",
       "CNdjYOC7s2seAwPDygccHxgY+L4zsDUwMPB+YGA9wMDA38Dgb8DA8P4Agz6DA4O/AsNFJgMGxgKm\n",
       "MG6gyjunLE4xAAAZTBA5TB6DCwAAAABJRU5ErkJggg==\n",
       "\" style=\"display:inline;vertical-align:middle;\" /></a></td></tr>\n",
       "</table>\n"
      ],
      "text/plain": [
       "0. (-a + b + a) = b\n",
       "   core type: Operation\n",
       "   operator: 1\n",
       "   operands: 2\n",
       "1. =\n",
       "   core type: Literal\n",
       "   sub-expressions: \n",
       "2. (-a + b + a , b)\n",
       "   core type: ExprTuple\n",
       "   sub-expressions: 3, 7\n",
       "3. -a + b + a\n",
       "   core type: Operation\n",
       "   operator: 4\n",
       "   operands: 5\n",
       "4. +\n",
       "   core type: Literal\n",
       "   sub-expressions: \n",
       "5. (-a , b , a)\n",
       "   core type: ExprTuple\n",
       "   sub-expressions: 6, 7, 9\n",
       "6. -a\n",
       "   core type: Operation\n",
       "   operator: 8\n",
       "   operand: 9\n",
       "7. b\n",
       "   core type: Variable\n",
       "   sub-expressions: \n",
       "8. -\n",
       "   core type: Literal\n",
       "   sub-expressions: \n",
       "9. a\n",
       "   core type: Variable\n",
       "   sub-expressions: "
      ]
     },
     "execution_count": 4,
     "metadata": {},
     "output_type": "execute_result"
    }
   ],
   "source": [
    "# display the expression information\n",
    "expr.exprInfo()"
   ]
  },
  {
   "cell_type": "code",
   "execution_count": null,
   "metadata": {},
   "outputs": [],
   "source": []
  }
 ],
 "metadata": {
  "kernelspec": {
   "display_name": "Python 3",
   "language": "python",
   "name": "python3"
  }
 },
 "nbformat": 4,
 "nbformat_minor": 0
}
