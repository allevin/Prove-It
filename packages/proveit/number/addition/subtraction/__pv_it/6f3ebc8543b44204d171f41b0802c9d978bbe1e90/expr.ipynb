{
 "cells": [
  {
   "cell_type": "markdown",
   "metadata": {},
   "source": [
    "Expression of type <a class=\"ProveItLink\" href=\"../../../../../../../doc/html/api/proveit.ExprTuple.html\">ExprTuple</a>\n",
    "=======================\n",
    "# from context <a class=\"ProveItLink\" href=\"../../_context_.ipynb\">proveit.number.addition.subtraction</a>"
   ]
  },
  {
   "cell_type": "code",
   "execution_count": 1,
   "metadata": {},
   "outputs": [],
   "source": [
    "# import Expression classes needed to build the expression\n",
    "from proveit import ExprTuple\n",
    "from proveit._common_ import a, b\n",
    "from proveit.number import Add, Neg"
   ]
  },
  {
   "cell_type": "code",
   "execution_count": 2,
   "metadata": {},
   "outputs": [
    {
     "data": {
      "text/html": [
       "<strong id=\"expr\">expr:</strong> <a class=\"ProveItLink\" href=\"expr.ipynb\"><img src=\"data:image/png;base64,iVBORw0KGgoAAAANSUhEUgAAAHAAAAAVBAMAAABs93eRAAAAMFBMVEX////c3NwiIiJERESqqqqY\n",
       "mJh2dnZmZmYQEBDu7u4yMjJUVFTMzMyIiIi6uroAAAAs73DqAAAAAXRSTlMAQObYZgAAAYJJREFU\n",
       "OMudVD1IQlEU/jLz+YM+94aixUaH2p2D0LlJWtrCpQYLsojGeG1RgxE09IQoMIhAeNDY0NsaIrGm\n",
       "CEIjJQSJzlHTd+Ldfjxwf3j3++653/3OfcDAEbH/zxmpUHftshC4GFeS9jeoW6V27LYaPFWnK/A6\n",
       "EBYn3emOekJNrPNZ0/Abzo+z3bFqqO+kyVpyeIYbcV6d0NeWP4Vl6odKi+uSWLg/l/A+JFi6SwEL\n",
       "OKL5U3S4JoiBN+iWIPYh+ThawAy2abcGtLggepvwp0XCPiRpYIs2wgcQqsFjC6J2AD1D8MMJjoqA\n",
       "ZIF34IaJehx5PljWNCdNk23yZFBNOTN+QShiiDSYuAmM2UjCcGYkG9eEIQ5IHVqTjzpNchO49FqC\n",
       "aLEOR3QgAZ622vLn6F4RTHljPqExlNBkzXUgebawiBWwHY/sUfmqLO0oLX23kSG7r1zkt6z+BP6o\n",
       "W+Uo4qH3fHJcro54+ZnYu2mfrXhWvxH3qI3+nRfuzc5Y9wC/jrCFTyDeaf/9Jhr7AAAAAElFTkSu\n",
       "QmCC\n",
       "\" style=\"display:inline;vertical-align:middle;\" /></a><br>"
      ],
      "text/plain": [
       "expr: (a + b - a , b)"
      ]
     },
     "execution_count": 2,
     "metadata": {},
     "output_type": "execute_result"
    }
   ],
   "source": [
    "# build up the expression from sub-expressions\n",
    "expr = ExprTuple(Add(a, b, Neg(a)), b)"
   ]
  },
  {
   "cell_type": "code",
   "execution_count": 3,
   "metadata": {},
   "outputs": [
    {
     "name": "stdout",
     "output_type": "stream",
     "text": [
      "Passed sanity check: built 'expr' is the same as the stored Expression.\n"
     ]
    }
   ],
   "source": [
    "# check that the built expression is the same as the stored expression\n",
    "%check_expr"
   ]
  },
  {
   "cell_type": "code",
   "execution_count": 4,
   "metadata": {},
   "outputs": [
    {
     "data": {
      "text/html": [
       "<table><tr><th>&nbsp;</th><th>core type</th><th>sub-expressions</th><th>expression</th></tr>\n",
       "<tr><td>0</td><td>ExprTuple</td><td>1, 4</td><td><a class=\"ProveItLink\" href=\"expr.ipynb\"><img src=\"data:image/png;base64,iVBORw0KGgoAAAANSUhEUgAAAHAAAAAVBAMAAABs93eRAAAAMFBMVEX////c3NwiIiJERESqqqqY\n",
       "mJh2dnZmZmYQEBDu7u4yMjJUVFTMzMyIiIi6uroAAAAs73DqAAAAAXRSTlMAQObYZgAAAYJJREFU\n",
       "OMudVD1IQlEU/jLz+YM+94aixUaH2p2D0LlJWtrCpQYLsojGeG1RgxE09IQoMIhAeNDY0NsaIrGm\n",
       "CEIjJQSJzlHTd+Ldfjxwf3j3++653/3OfcDAEbH/zxmpUHftshC4GFeS9jeoW6V27LYaPFWnK/A6\n",
       "EBYn3emOekJNrPNZ0/Abzo+z3bFqqO+kyVpyeIYbcV6d0NeWP4Vl6odKi+uSWLg/l/A+JFi6SwEL\n",
       "OKL5U3S4JoiBN+iWIPYh+ThawAy2abcGtLggepvwp0XCPiRpYIs2wgcQqsFjC6J2AD1D8MMJjoqA\n",
       "ZIF34IaJehx5PljWNCdNk23yZFBNOTN+QShiiDSYuAmM2UjCcGYkG9eEIQ5IHVqTjzpNchO49FqC\n",
       "aLEOR3QgAZ622vLn6F4RTHljPqExlNBkzXUgebawiBWwHY/sUfmqLO0oLX23kSG7r1zkt6z+BP6o\n",
       "W+Uo4qH3fHJcro54+ZnYu2mfrXhWvxH3qI3+nRfuzc5Y9wC/jrCFTyDeaf/9Jhr7AAAAAElFTkSu\n",
       "QmCC\n",
       "\" style=\"display:inline;vertical-align:middle;\" /></a></td></tr>\n",
       "<tr><td>1</td><td>Operation</td><td>operator:&nbsp;2<br>operands:&nbsp;3<br></td><td><a class=\"ProveItLink\" href=\"../96b4a7e342dcebf7505144f20881644283b1425c0/expr.ipynb\"><img src=\"data:image/png;base64,iVBORw0KGgoAAAANSUhEUgAAAFIAAAAQBAMAAAB3kjXPAAAAMFBMVEX///8yMjKqqqrMzMzu7u4i\n",
       "IiJmZmaYmJhEREQQEBC6urp2dnaIiIhUVFTc3NwAAAD87Fq/AAAAAXRSTlMAQObYZgAAAOtJREFU\n",
       "KM9jYMAALDcDGIgEjBcIqfCD0vwKhFTqQOn1DsSq3IpDnu/OrnmoKmXPXEdT8/b0ygcMDCsfcHxA\n",
       "Ucnyg4HfAEUh1zyGfqCR3xnYGlBUMn1h4NyAovJ9AUMGAwPvBwbWAygq2QQY+BOARoiGgsACoMh9\n",
       "BoYYYJA0MPiD7EoUFIwUFJQFslgTGNYXoJj5g4HlM9DkAwz6DA7IZgKDMx8lnPj+MDB9YGHwV2C4\n",
       "yGSAotKAYTZq9H5i4BVQZmAsYArjRnEnrwIbWnSKM6gmbAAG5ymLU6ihdCcdPTjPLO5ZgC2OCIM1\n",
       "eGUB8rY2l13V0BYAAAAASUVORK5CYII=\n",
       "\" style=\"display:inline;vertical-align:middle;\" /></a></td></tr>\n",
       "<tr><td>2</td><td>Literal</td><td></td><td><a class=\"ProveItLink\" href=\"../../../__pv_it/3e6688136fa3c7aefbebe51301b7c3ebf0b69c440/expr.ipynb\"><img src=\"data:image/png;base64,iVBORw0KGgoAAAANSUhEUgAAAA4AAAAOBAMAAADtZjDiAAAAJFBMVEX///+6urpUVFQQEBAiIiIy\n",
       "MjJmZmaIiIiqqqrc3Nzu7u4AAACgHpL+AAAAAXRSTlMAQObYZgAAAB5JREFUCNdjYGBgWMkAAe2k\n",
       "0Kmhoc6hoUGk6BMHYgAHOwjcado9fwAAAABJRU5ErkJggg==\n",
       "\" style=\"display:inline;vertical-align:middle;\" /></a></td></tr>\n",
       "<tr><td>3</td><td>ExprTuple</td><td>7, 4, 5</td><td><a class=\"ProveItLink\" href=\"../589fcce533d9884587cd8495f6432a2a41a3cea60/expr.ipynb\"><img src=\"data:image/png;base64,iVBORw0KGgoAAAANSUhEUgAAAE0AAAAVBAMAAADx+n4ZAAAAMFBMVEX////c3NwiIiJERESqqqqY\n",
       "mJh2dnZmZmYQEBDu7u4yMjJUVFTMzMyIiIi6uroAAAAs73DqAAAAAXRSTlMAQObYZgAAAUBJREFU\n",
       "KM9jYCAW8F0gqCQORJxGEuDcoYBNHfsBILESWYRrA1YDFzAw8KJYy++AVV0YAwPHBGSB9xOwqpvB\n",
       "wPAKRSAJu0eYHRjKgBTj3rxGiMDqu1tRVUCk2AoYlgI5LwSYP0D8+5mB/wCKOogUywKGPqCerwzs\n",
       "BmBRlp8MHAkoxkGk+BoY/jEwcH9gYIL4mn0BA38BWH6REgg8gErxfACp4zdgmA+xjamA4X0ASjhB\n",
       "pIDqWhgY5C8w+DNMgAZfPUrIQKWA9poyMMx3YNjFcoATpO4AQxsDJ5I6iBQD6wKGdGBkBbCoszHM\n",
       "B0YttwP7BjADHo9gKVC4PAKF0b3D9xhmfASGy95SBjADEXwgKQauBwwcAjCxhxgM5HhjhYdXAAYD\n",
       "DnKR0xVudZzAdMUgDeXwMqAz4IAb5DZGwun+DgMDAISkU2nQbrr7AAAAAElFTkSuQmCC\n",
       "\" style=\"display:inline;vertical-align:middle;\" /></a></td></tr>\n",
       "<tr><td>4</td><td>Variable</td><td></td><td><a class=\"ProveItLink\" href=\"../../../../../__pv_it/6840a4fa6c106149dc16a131294d0c5e44f1b0480/expr.ipynb\"><img src=\"data:image/png;base64,iVBORw0KGgoAAAANSUhEUgAAAAkAAAAOBAMAAAAPuiubAAAALVBMVEX///9mZmbMzMxERESYmJiI\n",
       "iIh2dna6urqqqqoyMjIiIiIQEBBUVFTu7u4AAAD9S1JeAAAAAXRSTlMAQObYZgAAAE1JREFUCNdj\n",
       "4D29gAEIOA+ASL4GEFl3AURmgQiGOaFHGBh4HzPwKTBwvGXgTmBgnMDAJ8DAJcBQ5wBSLncBJLWN\n",
       "gYGngRFoBO9REQYGAGrcDtUkVqASAAAAAElFTkSuQmCC\n",
       "\" style=\"display:inline;vertical-align:middle;\" /></a></td></tr>\n",
       "<tr><td>5</td><td>Operation</td><td>operator:&nbsp;6<br>operand:&nbsp;7<br></td><td><a class=\"ProveItLink\" href=\"../5bdd387ae2a10752c3ad16ba6b67c0e39d26b0ee0/expr.ipynb\"><img src=\"data:image/png;base64,iVBORw0KGgoAAAANSUhEUgAAABoAAAAJBAMAAADeJiHIAAAAMFBMVEX///+qqqrMzMzu7u5mZmaY\n",
       "mJhEREQQEBB2dnaIiIhUVFS6uroiIiIyMjLc3NwAAAAxFEmoAAAAAXRSTlMAQObYZgAAAExJREFU\n",
       "CNdjYICBVzO2P4BzuOsY8uEchvcBDG4MDG/PgMBphvUMDCcRct8YmD/BOXw/GRg/MMN4zB8ZuC4I\n",
       "wSWvMsg4NCCsm7kpcwMArzoXiK6Dv2MAAAAASUVORK5CYII=\n",
       "\" style=\"display:inline;vertical-align:middle;\" /></a></td></tr>\n",
       "<tr><td>6</td><td>Literal</td><td></td><td><a class=\"ProveItLink\" href=\"../../../../negation/__pv_it/3fc7a08bb9735faa20ef8e175f6ea95511acc9c70/expr.ipynb\"><img src=\"data:image/png;base64,iVBORw0KGgoAAAANSUhEUgAAAA4AAAACBAMAAACapPCZAAAAElBMVEX///+6uroiIiIyMjLc3NwA\n",
       "AAA6l9OrAAAAAXRSTlMAQObYZgAAABBJREFUCNdjcFYCAUUGKAAADR4BD8/TF5gAAAAASUVORK5C\n",
       "YII=\n",
       "\" style=\"display:inline;vertical-align:middle;\" /></a></td></tr>\n",
       "<tr><td>7</td><td>Variable</td><td></td><td><a class=\"ProveItLink\" href=\"../../../../../__pv_it/07527342713064c87612d00d8557c53d53d5324a0/expr.ipynb\"><img src=\"data:image/png;base64,iVBORw0KGgoAAAANSUhEUgAAAAsAAAAJBAMAAAAWSsseAAAAMFBMVEX///8yMjKqqqrMzMzu7u4i\n",
       "IiJmZmaYmJhEREQQEBC6urp2dnaIiIhUVFTc3NwAAAD87Fq/AAAAAXRSTlMAQObYZgAAAEhJREFU\n",
       "CNdjYOC7s2seAwPDygccHxgY+L4zsDUwMPB+YGA9wMDA38Dgb8DA8P4Agz6DA4O/AsNFJgMGxgKm\n",
       "MG6gyjunLE4xAAAZTBA5TB6DCwAAAABJRU5ErkJggg==\n",
       "\" style=\"display:inline;vertical-align:middle;\" /></a></td></tr>\n",
       "</table>\n"
      ],
      "text/plain": [
       "0. (a + b - a , b)\n",
       "   core type: ExprTuple\n",
       "   sub-expressions: 1, 4\n",
       "1. a + b - a\n",
       "   core type: Operation\n",
       "   operator: 2\n",
       "   operands: 3\n",
       "2. +\n",
       "   core type: Literal\n",
       "   sub-expressions: \n",
       "3. (a , b , -a)\n",
       "   core type: ExprTuple\n",
       "   sub-expressions: 7, 4, 5\n",
       "4. b\n",
       "   core type: Variable\n",
       "   sub-expressions: \n",
       "5. -a\n",
       "   core type: Operation\n",
       "   operator: 6\n",
       "   operand: 7\n",
       "6. -\n",
       "   core type: Literal\n",
       "   sub-expressions: \n",
       "7. a\n",
       "   core type: Variable\n",
       "   sub-expressions: "
      ]
     },
     "execution_count": 4,
     "metadata": {},
     "output_type": "execute_result"
    }
   ],
   "source": [
    "# display the expression information\n",
    "expr.exprInfo()"
   ]
  },
  {
   "cell_type": "code",
   "execution_count": null,
   "metadata": {},
   "outputs": [],
   "source": []
  }
 ],
 "metadata": {
  "kernelspec": {
   "display_name": "Python 3",
   "language": "python",
   "name": "python3"
  }
 },
 "nbformat": 4,
 "nbformat_minor": 0
}
