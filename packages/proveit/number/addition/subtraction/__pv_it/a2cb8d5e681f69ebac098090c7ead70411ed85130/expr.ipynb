{
 "cells": [
  {
   "cell_type": "markdown",
   "metadata": {},
   "source": [
    "Expression of type <a class=\"ProveItLink\" href=\"../../../../../../../doc/html/api/proveit.logic.Equals.html\">Equals</a>\n",
    "=======================\n",
    "# from context <a class=\"ProveItLink\" href=\"../../_context_.ipynb\">proveit.number.addition.subtraction</a>"
   ]
  },
  {
   "cell_type": "code",
   "execution_count": 1,
   "metadata": {},
   "outputs": [],
   "source": [
    "# import Expression classes needed to build the expression\n",
    "from proveit._common_ import a, b\n",
    "from proveit.logic import Equals\n",
    "from proveit.number import Add, Neg"
   ]
  },
  {
   "cell_type": "code",
   "execution_count": 2,
   "metadata": {},
   "outputs": [
    {
     "data": {
      "text/html": [
       "<strong id=\"expr\">expr:</strong> <a class=\"ProveItLink\" href=\"expr.ipynb\"><img src=\"data:image/png;base64,iVBORw0KGgoAAAANSUhEUgAAAIQAAAAVBAMAAAB1UFtyAAAAMFBMVEX////c3NwiIiJERESqqqqY\n",
       "mJh2dnZmZmYQEBDu7u4yMjJUVFTMzMyIiIi6uroAAAAs73DqAAAAAXRSTlMAQObYZgAAAZRJREFU\n",
       "OMtjYKAC4LtAtNI4HOKnidLNuUOBgYH9ALrw7CYQuZI4F3BtABILMIRXAzEvAX9wCkBofgcgEYYh\n",
       "/QWIOSbgN4IFasV7kLoZGAH5E0i8YiDOiCQQweyAJssGDCGGMiBm3JvXiCqFEIEZsfruVqCOAvQQ\n",
       "2ns7gGEpkPFCgPkDqhRCBGoE52cG/gMMLODwrFoFAqCAZJhvwPCHoQ9o5VcGdgNURyBEoEaw/GTg\n",
       "SGDga0Bzhf8EhjaGfwwM3B8YmEAKpZRAQI8BIYIwgn0BA38BAw+aYxmqGBi+g4zgN2CYj5poYCLs\n",
       "q1Yt6lq1CpgkmAoY3gdgGqHOwPeVoYWBQf4Cgz8DStwiiUBdAUwW9ROgHikCu1YZkizYfzKYAsPE\n",
       "gWEXC4ozkERgRhwAepqBFT15/gGFUDowZgJY1NlQ4wohAjWC24F9A5ZI3cJQzcDwCJQI7h2+h5Ys\n",
       "4CKwSN1bCjL6AXo2ux4ATOACxKVOMJiBVQlrAgnFSS52NSuJL504F2AXlybeCG4cnmYkvuC7g1UU\n",
       "AFCYcLNfi+EhAAAAAElFTkSuQmCC\n",
       "\" style=\"display:inline;vertical-align:middle;\" /></a><br>"
      ],
      "text/plain": [
       "expr: (a - a + b) = b"
      ]
     },
     "execution_count": 2,
     "metadata": {},
     "output_type": "execute_result"
    }
   ],
   "source": [
    "# build up the expression from sub-expressions\n",
    "expr = Equals(Add(a, Neg(a), b), b)"
   ]
  },
  {
   "cell_type": "code",
   "execution_count": 3,
   "metadata": {},
   "outputs": [
    {
     "name": "stdout",
     "output_type": "stream",
     "text": [
      "Passed sanity check: built 'expr' is the same as the stored Expression.\n"
     ]
    }
   ],
   "source": [
    "# check that the built expression is the same as the stored expression\n",
    "%check_expr"
   ]
  },
  {
   "cell_type": "code",
   "execution_count": 4,
   "metadata": {},
   "outputs": [
    {
     "data": {
      "text/html": [
       "<table><tr><th>&nbsp;</th><th>core type</th><th>sub-expressions</th><th>expression</th></tr>\n",
       "<tr><td>0</td><td>Operation</td><td>operator:&nbsp;1<br>operands:&nbsp;2<br></td><td><a class=\"ProveItLink\" href=\"expr.ipynb\"><img src=\"data:image/png;base64,iVBORw0KGgoAAAANSUhEUgAAAIQAAAAVBAMAAAB1UFtyAAAAMFBMVEX////c3NwiIiJERESqqqqY\n",
       "mJh2dnZmZmYQEBDu7u4yMjJUVFTMzMyIiIi6uroAAAAs73DqAAAAAXRSTlMAQObYZgAAAZRJREFU\n",
       "OMtjYKAC4LtAtNI4HOKnidLNuUOBgYH9ALrw7CYQuZI4F3BtABILMIRXAzEvAX9wCkBofgcgEYYh\n",
       "/QWIOSbgN4IFasV7kLoZGAH5E0i8YiDOiCQQweyAJssGDCGGMiBm3JvXiCqFEIEZsfruVqCOAvQQ\n",
       "2ns7gGEpkPFCgPkDqhRCBGoE52cG/gMMLODwrFoFAqCAZJhvwPCHoQ9o5VcGdgNURyBEoEaw/GTg\n",
       "SGDga0Bzhf8EhjaGfwwM3B8YmEAKpZRAQI8BIYIwgn0BA38BAw+aYxmqGBi+g4zgN2CYj5poYCLs\n",
       "q1Yt6lq1CpgkmAoY3gdgGqHOwPeVoYWBQf4Cgz8DStwiiUBdAUwW9ROgHikCu1YZkizYfzKYAsPE\n",
       "gWEXC4ozkERgRhwAepqBFT15/gGFUDowZgJY1NlQ4wohAjWC24F9A5ZI3cJQzcDwCJQI7h2+h5Ys\n",
       "4CKwSN1bCjL6AXo2ux4ATOACxKVOMJiBVQlrAgnFSS52NSuJL504F2AXlybeCG4cnmYkvuC7g1UU\n",
       "AFCYcLNfi+EhAAAAAElFTkSuQmCC\n",
       "\" style=\"display:inline;vertical-align:middle;\" /></a></td></tr>\n",
       "<tr><td>1</td><td>Literal</td><td></td><td><a class=\"ProveItLink\" href=\"../../../../../logic/equality/__pv_it/2fb26078095930560931daa0500ce419a39ea6cd0/expr.ipynb\"><img src=\"data:image/png;base64,iVBORw0KGgoAAAANSUhEUgAAAA4AAAAFBAMAAACHocAhAAAAFVBMVEX///9EREQiIiJUVFQyMjJm\n",
       "ZmYAAADubVkoAAAAAXRSTlMAQObYZgAAABRJREFUCNdjCHEBAWcGXCBICQQUAUpuAwlgGKrkAAAA\n",
       "AElFTkSuQmCC\n",
       "\" style=\"display:inline;vertical-align:middle;\" /></a></td></tr>\n",
       "<tr><td>2</td><td>ExprTuple</td><td>3, 7</td><td><a class=\"ProveItLink\" href=\"../218471ed8736c221a8c528cf8a8a1a36c570af690/expr.ipynb\"><img src=\"data:image/png;base64,iVBORw0KGgoAAAANSUhEUgAAAHAAAAAVBAMAAABs93eRAAAAMFBMVEX////c3NwiIiJERESqqqqY\n",
       "mJh2dnZmZmYQEBDu7u4yMjJUVFTMzMyIiIi6uroAAAAs73DqAAAAAXRSTlMAQObYZgAAAVZJREFU\n",
       "OMudlD9IAzEUxj/1/kvPm3VQXLrJDbo7u/Rmp25ujg7qoCIODtrZDgXBwRNEwUkoFBwdepuDUMTp\n",
       "cCrSIoUivvuT3ouDpg0k/PiSLy+X93LAxM2NxvfobzQ8q62tH3HYp36tGOWGgwOU/jmp7eXQAwO9\n",
       "Cqv2t1HLN3YHYGAf4ANqRmMJHFaxQ+NUc/tQXl4owug0XwMGW7gijr2ZrmwsFGFs+Bgy2MAZbd+H\n",
       "6csBC0UYKzWcMIjxDcx2MZ1Mzy8nbQWFwoy7wBeDdmKc89FoSRGFYobh5WkY3hGW4fbTuQzaOAYW\n",
       "I1QgZYUpImIP5oBBjDX63HU8alJIpgjjEFY13SsFbNK9wgm0siEdlSnC+IA92J85JOl4T5LWeer8\n",
       "SuNIEcb6SwD73MsAuIXlqVVOVm5iMZUclav6c9UFGJH6s5KMF9QXxjCOot8nFzHBr6PUwg+htW7c\n",
       "j2THywAAAABJRU5ErkJggg==\n",
       "\" style=\"display:inline;vertical-align:middle;\" /></a></td></tr>\n",
       "<tr><td>3</td><td>Operation</td><td>operator:&nbsp;4<br>operands:&nbsp;5<br></td><td><a class=\"ProveItLink\" href=\"../16bc3ddebe123d1fcdf526eafcc3c0b18c046c4b0/expr.ipynb\"><img src=\"data:image/png;base64,iVBORw0KGgoAAAANSUhEUgAAAFIAAAAQBAMAAAB3kjXPAAAAMFBMVEX///8yMjKqqqrMzMzu7u4i\n",
       "IiJmZmaYmJhEREQQEBC6urp2dnaIiIhUVFTc3NwAAAD87Fq/AAAAAXRSTlMAQObYZgAAAMxJREFU\n",
       "KM9jYCAG+E5lIBbIElLA8gDK+ERIJdMBCM31hViV3AEgku/Ornmo8ggRmErGO2cLGBhWPuD4gKoS\n",
       "IQJT6d/A8JmB7zsDWwOqkQgRmEp9B4bZDLwfGFhB/IehIBAFZMFEkFQmMjB8Y+BvYPA3QDETJsIm\n",
       "KCg6UVDwApAZxsD1neH9AQZ9BgdklUgiMDM/MbB9YfBXYLjIhGIokghM5WcGzg0MjAVMYdwotiOJ\n",
       "wFReYsgFBd4pi1NowQkXgan0PVZAZBwRBlxIKgG7F0BRArVi8gAAAABJRU5ErkJggg==\n",
       "\" style=\"display:inline;vertical-align:middle;\" /></a></td></tr>\n",
       "<tr><td>4</td><td>Literal</td><td></td><td><a class=\"ProveItLink\" href=\"../../../__pv_it/3e6688136fa3c7aefbebe51301b7c3ebf0b69c440/expr.ipynb\"><img src=\"data:image/png;base64,iVBORw0KGgoAAAANSUhEUgAAAA4AAAAOBAMAAADtZjDiAAAAJFBMVEX///+6urpUVFQQEBAiIiIy\n",
       "MjJmZmaIiIiqqqrc3Nzu7u4AAACgHpL+AAAAAXRSTlMAQObYZgAAAB5JREFUCNdjYGBgWMkAAe2k\n",
       "0Kmhoc6hoUGk6BMHYgAHOwjcado9fwAAAABJRU5ErkJggg==\n",
       "\" style=\"display:inline;vertical-align:middle;\" /></a></td></tr>\n",
       "<tr><td>5</td><td>ExprTuple</td><td>9, 6, 7</td><td><a class=\"ProveItLink\" href=\"../23a289d480d895e69e103d83fc09b9a9546baa490/expr.ipynb\"><img src=\"data:image/png;base64,iVBORw0KGgoAAAANSUhEUgAAAE4AAAAVBAMAAAAazcUaAAAAMFBMVEX////c3NwiIiJERESqqqqY\n",
       "mJh2dnZmZmYQEBDu7u4yMjJUVFTMzMyIiIi6uroAAAAs73DqAAAAAXRSTlMAQObYZgAAASlJREFU\n",
       "KM9jYCAW8F0gqIT1AZA4jV/N7CYgUQPEKwkYthqIuRgYeAlZ+wVkcQIDxwQCzv8JJDgbGF4RMI5N\n",
       "AUSaMJQBSca9eY2osggRrr23AxgY0hmWAtkvBJg/oKpDiMw3YPjDwODF0AfU/JWB3QDVOISI/wSG\n",
       "NqA+hn8MDNwfGJggvmZcpAQCDxAiDFUMDN8ZGM6D1PEbMMw/gGIekog6A99XkLoWBgb5Cwz+DCjB\n",
       "gyTyhYH9J8heU6BTHRh2sRzgRFKHJPKHgSOBgSEK6GMGrgAWdTaG+QoIdUgiWxiqGUDh8ggUWPcO\n",
       "32OY8RE5+OAis68Dg49hHQOHAEzyIUZcwEWA8QaMYigIwFAHF2G7gJSu8KibBcTSUDYvhjKEyEaQ\n",
       "mwmne94DDABKqFQdS4CNNAAAAABJRU5ErkJggg==\n",
       "\" style=\"display:inline;vertical-align:middle;\" /></a></td></tr>\n",
       "<tr><td>6</td><td>Operation</td><td>operator:&nbsp;8<br>operand:&nbsp;9<br></td><td><a class=\"ProveItLink\" href=\"../5bdd387ae2a10752c3ad16ba6b67c0e39d26b0ee0/expr.ipynb\"><img src=\"data:image/png;base64,iVBORw0KGgoAAAANSUhEUgAAABoAAAAJBAMAAADeJiHIAAAAMFBMVEX///+qqqrMzMzu7u5mZmaY\n",
       "mJhEREQQEBB2dnaIiIhUVFS6uroiIiIyMjLc3NwAAAAxFEmoAAAAAXRSTlMAQObYZgAAAExJREFU\n",
       "CNdjYICBVzO2P4BzuOsY8uEchvcBDG4MDG/PgMBphvUMDCcRct8YmD/BOXw/GRg/MMN4zB8ZuC4I\n",
       "wSWvMsg4NCCsm7kpcwMArzoXiK6Dv2MAAAAASUVORK5CYII=\n",
       "\" style=\"display:inline;vertical-align:middle;\" /></a></td></tr>\n",
       "<tr><td>7</td><td>Variable</td><td></td><td><a class=\"ProveItLink\" href=\"../../../../../__pv_it/6840a4fa6c106149dc16a131294d0c5e44f1b0480/expr.ipynb\"><img src=\"data:image/png;base64,iVBORw0KGgoAAAANSUhEUgAAAAkAAAAOBAMAAAAPuiubAAAALVBMVEX///9mZmbMzMxERESYmJiI\n",
       "iIh2dna6urqqqqoyMjIiIiIQEBBUVFTu7u4AAAD9S1JeAAAAAXRSTlMAQObYZgAAAE1JREFUCNdj\n",
       "4D29gAEIOA+ASL4GEFl3AURmgQiGOaFHGBh4HzPwKTBwvGXgTmBgnMDAJ8DAJcBQ5wBSLncBJLWN\n",
       "gYGngRFoBO9REQYGAGrcDtUkVqASAAAAAElFTkSuQmCC\n",
       "\" style=\"display:inline;vertical-align:middle;\" /></a></td></tr>\n",
       "<tr><td>8</td><td>Literal</td><td></td><td><a class=\"ProveItLink\" href=\"../../../../negation/__pv_it/3fc7a08bb9735faa20ef8e175f6ea95511acc9c70/expr.ipynb\"><img src=\"data:image/png;base64,iVBORw0KGgoAAAANSUhEUgAAAA4AAAACBAMAAACapPCZAAAAElBMVEX///+6uroiIiIyMjLc3NwA\n",
       "AAA6l9OrAAAAAXRSTlMAQObYZgAAABBJREFUCNdjcFYCAUUGKAAADR4BD8/TF5gAAAAASUVORK5C\n",
       "YII=\n",
       "\" style=\"display:inline;vertical-align:middle;\" /></a></td></tr>\n",
       "<tr><td>9</td><td>Variable</td><td></td><td><a class=\"ProveItLink\" href=\"../../../../../__pv_it/07527342713064c87612d00d8557c53d53d5324a0/expr.ipynb\"><img src=\"data:image/png;base64,iVBORw0KGgoAAAANSUhEUgAAAAsAAAAJBAMAAAAWSsseAAAAMFBMVEX///8yMjKqqqrMzMzu7u4i\n",
       "IiJmZmaYmJhEREQQEBC6urp2dnaIiIhUVFTc3NwAAAD87Fq/AAAAAXRSTlMAQObYZgAAAEhJREFU\n",
       "CNdjYOC7s2seAwPDygccHxgY+L4zsDUwMPB+YGA9wMDA38Dgb8DA8P4Agz6DA4O/AsNFJgMGxgKm\n",
       "MG6gyjunLE4xAAAZTBA5TB6DCwAAAABJRU5ErkJggg==\n",
       "\" style=\"display:inline;vertical-align:middle;\" /></a></td></tr>\n",
       "</table>\n"
      ],
      "text/plain": [
       "0. (a - a + b) = b\n",
       "   core type: Operation\n",
       "   operator: 1\n",
       "   operands: 2\n",
       "1. =\n",
       "   core type: Literal\n",
       "   sub-expressions: \n",
       "2. (a - a + b , b)\n",
       "   core type: ExprTuple\n",
       "   sub-expressions: 3, 7\n",
       "3. a - a + b\n",
       "   core type: Operation\n",
       "   operator: 4\n",
       "   operands: 5\n",
       "4. +\n",
       "   core type: Literal\n",
       "   sub-expressions: \n",
       "5. (a , -a , b)\n",
       "   core type: ExprTuple\n",
       "   sub-expressions: 9, 6, 7\n",
       "6. -a\n",
       "   core type: Operation\n",
       "   operator: 8\n",
       "   operand: 9\n",
       "7. b\n",
       "   core type: Variable\n",
       "   sub-expressions: \n",
       "8. -\n",
       "   core type: Literal\n",
       "   sub-expressions: \n",
       "9. a\n",
       "   core type: Variable\n",
       "   sub-expressions: "
      ]
     },
     "execution_count": 4,
     "metadata": {},
     "output_type": "execute_result"
    }
   ],
   "source": [
    "# display the expression information\n",
    "expr.exprInfo()"
   ]
  },
  {
   "cell_type": "code",
   "execution_count": null,
   "metadata": {},
   "outputs": [],
   "source": []
  }
 ],
 "metadata": {
  "kernelspec": {
   "display_name": "Python 3",
   "language": "python",
   "name": "python3"
  }
 },
 "nbformat": 4,
 "nbformat_minor": 0
}
