{
 "cells": [
  {
   "cell_type": "markdown",
   "metadata": {},
   "source": [
    "Expression of type <a class=\"ProveItLink\" href=\"../../../../../../../doc/html/api/proveit.logic.Equals.html\">Equals</a>\n",
    "=======================\n",
    "# from context <a class=\"ProveItLink\" href=\"../../_context_.ipynb\">proveit.number.addition.subtraction</a>"
   ]
  },
  {
   "cell_type": "code",
   "execution_count": 1,
   "metadata": {},
   "outputs": [],
   "source": [
    "# import Expression classes needed to build the expression\n",
    "from proveit._common_ import a, b, c\n",
    "from proveit.logic import Equals\n",
    "from proveit.number import Add"
   ]
  },
  {
   "cell_type": "code",
   "execution_count": 2,
   "metadata": {},
   "outputs": [
    {
     "data": {
      "text/html": [
       "<strong id=\"expr\">expr:</strong> <a class=\"ProveItLink\" href=\"expr.ipynb\"><img src=\"data:image/png;base64,iVBORw0KGgoAAAANSUhEUgAAAGAAAAAVBAMAAABLWfZ5AAAAMFBMVEX////c3NwiIiJERESqqqqY\n",
       "mJh2dnZmZmYQEBDu7u4yMjJUVFTMzMyIiIi6uroAAAAs73DqAAAAAXRSTlMAQObYZgAAAVNJREFU\n",
       "OMtjYCAZ8F3ALh6HS8NpTCHOHQoMDOwHcGhYiUWMawOQWIBdPS+yiyZCaX4HIBGGXQPHBCSOL5R+\n",
       "DxKcgV3DKwYsGpJABLMDVg1lIE+m3T2AomH13a0MDGwF6Gqlr70QYFgKZJx4wKWArIHzMwP/AQYW\n",
       "sK+rVoHAanAENDLYMzD0AeV7GZgDkDWw/GTgSGDga0CzQD6AoZiB4R8DA/cHND+wL2DgL2Dg+YCm\n",
       "YT8Dgy5YA78BA9RyDYjlTAUM7wMwNXxm4PzDwNACtOoCmg3AaKifAHVSkRIIKANZjH8ZWD5wMpgC\n",
       "5YEeQPED0MdtDAysaFHN+YWBe4EPQzrQDwUMbCjByu3AvgFLsC5lcCpIYHgEiou7N1GcxLm3FJSg\n",
       "HqBHw903tg8YOASwxDQY4EgarAlInLfIMrkkJG+wu3AkbwZpHOLcAjgkGHFk0TvYhQEUs1HghUnG\n",
       "1AAAAABJRU5ErkJggg==\n",
       "\" style=\"display:inline;vertical-align:middle;\" /></a><br>"
      ],
      "text/plain": [
       "expr: (c + b) = a"
      ]
     },
     "execution_count": 2,
     "metadata": {},
     "output_type": "execute_result"
    }
   ],
   "source": [
    "# build up the expression from sub-expressions\n",
    "expr = Equals(Add(c, b), a)"
   ]
  },
  {
   "cell_type": "code",
   "execution_count": 3,
   "metadata": {},
   "outputs": [
    {
     "name": "stdout",
     "output_type": "stream",
     "text": [
      "Passed sanity check: built 'expr' is the same as the stored Expression.\n"
     ]
    }
   ],
   "source": [
    "# check that the built expression is the same as the stored expression\n",
    "%check_expr"
   ]
  },
  {
   "cell_type": "code",
   "execution_count": 4,
   "metadata": {},
   "outputs": [
    {
     "data": {
      "text/html": [
       "<table><tr><th>&nbsp;</th><th>core type</th><th>sub-expressions</th><th>expression</th></tr>\n",
       "<tr><td>0</td><td>Operation</td><td>operator:&nbsp;1<br>operands:&nbsp;2<br></td><td><a class=\"ProveItLink\" href=\"expr.ipynb\"><img src=\"data:image/png;base64,iVBORw0KGgoAAAANSUhEUgAAAGAAAAAVBAMAAABLWfZ5AAAAMFBMVEX////c3NwiIiJERESqqqqY\n",
       "mJh2dnZmZmYQEBDu7u4yMjJUVFTMzMyIiIi6uroAAAAs73DqAAAAAXRSTlMAQObYZgAAAVNJREFU\n",
       "OMtjYCAZ8F3ALh6HS8NpTCHOHQoMDOwHcGhYiUWMawOQWIBdPS+yiyZCaX4HIBGGXQPHBCSOL5R+\n",
       "DxKcgV3DKwYsGpJABLMDVg1lIE+m3T2AomH13a0MDGwF6Gqlr70QYFgKZJx4wKWArIHzMwP/AQYW\n",
       "sK+rVoHAanAENDLYMzD0AeV7GZgDkDWw/GTgSGDga0CzQD6AoZiB4R8DA/cHND+wL2DgL2Dg+YCm\n",
       "YT8Dgy5YA78BA9RyDYjlTAUM7wMwNXxm4PzDwNACtOoCmg3AaKifAHVSkRIIKANZjH8ZWD5wMpgC\n",
       "5YEeQPED0MdtDAysaFHN+YWBe4EPQzrQDwUMbCjByu3AvgFLsC5lcCpIYHgEiou7N1GcxLm3FJSg\n",
       "HqBHw903tg8YOASwxDQY4EgarAlInLfIMrkkJG+wu3AkbwZpHOLcAjgkGHFk0TvYhQEUs1HghUnG\n",
       "1AAAAABJRU5ErkJggg==\n",
       "\" style=\"display:inline;vertical-align:middle;\" /></a></td></tr>\n",
       "<tr><td>1</td><td>Literal</td><td></td><td><a class=\"ProveItLink\" href=\"../../../../../logic/equality/__pv_it/2fb26078095930560931daa0500ce419a39ea6cd0/expr.ipynb\"><img src=\"data:image/png;base64,iVBORw0KGgoAAAANSUhEUgAAAA4AAAAFBAMAAACHocAhAAAAFVBMVEX///9EREQiIiJUVFQyMjJm\n",
       "ZmYAAADubVkoAAAAAXRSTlMAQObYZgAAABRJREFUCNdjCHEBAWcGXCBICQQUAUpuAwlgGKrkAAAA\n",
       "AElFTkSuQmCC\n",
       "\" style=\"display:inline;vertical-align:middle;\" /></a></td></tr>\n",
       "<tr><td>2</td><td>ExprTuple</td><td>3, 4</td><td><a class=\"ProveItLink\" href=\"../3b4c109f47709781f1d78bdaa4cc20d1f55e9fe00/expr.ipynb\"><img src=\"data:image/png;base64,iVBORw0KGgoAAAANSUhEUgAAAEsAAAAVBAMAAAD85A5eAAAAMFBMVEX////c3NwiIiJERESqqqqY\n",
       "mJh2dnZmZmYQEBDu7u4yMjJUVFTMzMyIiIi6uroAAAAs73DqAAAAAXRSTlMAQObYZgAAAVFJREFU\n",
       "KM+NUr9Lw0AU/tqkSS6xJruD3Vy7uOc/MJOjFAedlCx2VUEcBCWjW4LgYFy6CCIUAi6CS9eCKdVJ\n",
       "XBoRBxfx3UVKribUGy7vx/fe+/LdA/55FgfzEBv8evwbZ7etoqsndF2V1Js9yY2AZnEmc/Kv7Uqw\n",
       "dcAICr76WzMJJNg58IYS2KbMQXHR5bO20kSCXac3uVHr7x4Cmo9Lch7GZqsIYx+w87pXR8koHOGM\n",
       "oqdQvCJM/YLREc0+obdJ2gN8A1Y2w02PYPvcoEydQgsZh9ntPBnHFydxTJLVfUxEe8qEiYAdAcuD\n",
       "mW4k276QhDJrCPjQVYpSpcSN+B+DkRG6uFMTNCJsEwMfmiSI5eo9hPTzpqeuaEKQFwp306E0lPX3\n",
       "SPp3LtvofkToMQyn5BXEeS4+VqNTtXve1NqpWCQZxmiRsFSBak4ti/OqzV3yJ+AHDMRW5AbH+c0A\n",
       "AAAASUVORK5CYII=\n",
       "\" style=\"display:inline;vertical-align:middle;\" /></a></td></tr>\n",
       "<tr><td>3</td><td>Operation</td><td>operator:&nbsp;5<br>operands:&nbsp;6<br></td><td><a class=\"ProveItLink\" href=\"../f9dd27c7b0438f099393ca71c933dbcf38bf8cce0/expr.ipynb\"><img src=\"data:image/png;base64,iVBORw0KGgoAAAANSUhEUgAAACsAAAAQBAMAAAB9zpudAAAAMFBMVEX///+qqqpmZmbc3NxUVFSY\n",
       "mJhEREQiIiIyMjK6uroQEBDMzMyIiIh2dnbu7u4AAAA4MM1YAAAAAXRSTlMAQObYZgAAAJdJREFU\n",
       "GNNjYEAHfF4FDNgAhwOqMgMIzS+AIsx4AELPf4BV+DpE790zG1CEW864AsldEzgKkIX5vjHwb2Dg\n",
       "W8PAFoAszPiPgesCA8sHNLOZGhj4FRj4EyCcjo72FR0dQCezKzDMD2CwP4CmGuhs/QcM/ECDUcwG\n",
       "2reWgYFFgYEXxYEsAkwg3+ueOYdiCJ+PKlZfogFOJGEAfaolwrKnNGoAAAAASUVORK5CYII=\n",
       "\" style=\"display:inline;vertical-align:middle;\" /></a></td></tr>\n",
       "<tr><td>4</td><td>Variable</td><td></td><td><a class=\"ProveItLink\" href=\"../../../../../__pv_it/07527342713064c87612d00d8557c53d53d5324a0/expr.ipynb\"><img src=\"data:image/png;base64,iVBORw0KGgoAAAANSUhEUgAAAAsAAAAJBAMAAAAWSsseAAAAMFBMVEX///8yMjKqqqrMzMzu7u4i\n",
       "IiJmZmaYmJhEREQQEBC6urp2dnaIiIhUVFTc3NwAAAD87Fq/AAAAAXRSTlMAQObYZgAAAEhJREFU\n",
       "CNdjYOC7s2seAwPDygccHxgY+L4zsDUwMPB+YGA9wMDA38Dgb8DA8P4Agz6DA4O/AsNFJgMGxgKm\n",
       "MG6gyjunLE4xAAAZTBA5TB6DCwAAAABJRU5ErkJggg==\n",
       "\" style=\"display:inline;vertical-align:middle;\" /></a></td></tr>\n",
       "<tr><td>5</td><td>Literal</td><td></td><td><a class=\"ProveItLink\" href=\"../../../__pv_it/3e6688136fa3c7aefbebe51301b7c3ebf0b69c440/expr.ipynb\"><img src=\"data:image/png;base64,iVBORw0KGgoAAAANSUhEUgAAAA4AAAAOBAMAAADtZjDiAAAAJFBMVEX///+6urpUVFQQEBAiIiIy\n",
       "MjJmZmaIiIiqqqrc3Nzu7u4AAACgHpL+AAAAAXRSTlMAQObYZgAAAB5JREFUCNdjYGBgWMkAAe2k\n",
       "0Kmhoc6hoUGk6BMHYgAHOwjcado9fwAAAABJRU5ErkJggg==\n",
       "\" style=\"display:inline;vertical-align:middle;\" /></a></td></tr>\n",
       "<tr><td>6</td><td>ExprTuple</td><td>7, 8</td><td><a class=\"ProveItLink\" href=\"../efb91a10e22074077eb1919cab25e29212d0ecad0/expr.ipynb\"><img src=\"data:image/png;base64,iVBORw0KGgoAAAANSUhEUgAAACcAAAAVBAMAAAA3P+qgAAAAMFBMVEX////c3NwiIiJERESqqqqY\n",
       "mJh2dnZmZmYQEBDu7u4yMjJUVFTMzMyIiIi6uroAAAAs73DqAAAAAXRSTlMAQObYZgAAAP9JREFU\n",
       "GNNjYMAK+C6g8uNAxGkEn3OHAgMD+wEgayWSKq4NQGIBAwMvsm5+ByARxsDAMQFJ8D2IM4OB4RWy\n",
       "JUkggtmBoQxkQdrdA2DB1Xe3MjCwFTAsBbJPPOBSANv+mYH/AAPLAoY+ILuXgTkAJMjyk4EjgYGv\n",
       "geEfAwP3B6iR7AsY+AsYeD6ABPkNoIJMBQzvA0CCLQwM8hcQzqyfANJuCmQDDQzgBAkeYGhjYGBd\n",
       "wJAONLOAge3AfKD93A7sG8BOegRUUXb3JsOMj0Bn7C0FBcADBg4BqIEPYd4CepM1AcoOgAnmIgUd\n",
       "TJATGHQM0hA2L0whN8g8RrTouMPAAAAA0zgjo55sJgAAAABJRU5ErkJggg==\n",
       "\" style=\"display:inline;vertical-align:middle;\" /></a></td></tr>\n",
       "<tr><td>7</td><td>Variable</td><td></td><td><a class=\"ProveItLink\" href=\"../../../../../__pv_it/cbdfda466482236edba0ce44ac7ef39cda0af7a40/expr.ipynb\"><img src=\"data:image/png;base64,iVBORw0KGgoAAAANSUhEUgAAAAkAAAAJBAMAAAASvxsjAAAALVBMVEX///9mZmbc3NxUVFSYmJhE\n",
       "REQiIiIyMjK6uroQEBDMzMyIiIh2dnbu7u4AAABgFDGoAAAAAXRSTlMAQObYZgAAADZJREFUCNdj\n",
       "YOA9s3sBA8PKBvYEBt7ZDKwODMwPGICALwBE6m0Asx0YGIDiAgw8QJUyu/cyAAAmuwmycZ8WfQAA\n",
       "AABJRU5ErkJggg==\n",
       "\" style=\"display:inline;vertical-align:middle;\" /></a></td></tr>\n",
       "<tr><td>8</td><td>Variable</td><td></td><td><a class=\"ProveItLink\" href=\"../../../../../__pv_it/6840a4fa6c106149dc16a131294d0c5e44f1b0480/expr.ipynb\"><img src=\"data:image/png;base64,iVBORw0KGgoAAAANSUhEUgAAAAkAAAAOBAMAAAAPuiubAAAALVBMVEX///9mZmbMzMxERESYmJiI\n",
       "iIh2dna6urqqqqoyMjIiIiIQEBBUVFTu7u4AAAD9S1JeAAAAAXRSTlMAQObYZgAAAE1JREFUCNdj\n",
       "4D29gAEIOA+ASL4GEFl3AURmgQiGOaFHGBh4HzPwKTBwvGXgTmBgnMDAJ8DAJcBQ5wBSLncBJLWN\n",
       "gYGngRFoBO9REQYGAGrcDtUkVqASAAAAAElFTkSuQmCC\n",
       "\" style=\"display:inline;vertical-align:middle;\" /></a></td></tr>\n",
       "</table>\n"
      ],
      "text/plain": [
       "0. (c + b) = a\n",
       "   core type: Operation\n",
       "   operator: 1\n",
       "   operands: 2\n",
       "1. =\n",
       "   core type: Literal\n",
       "   sub-expressions: \n",
       "2. (c + b , a)\n",
       "   core type: ExprTuple\n",
       "   sub-expressions: 3, 4\n",
       "3. c + b\n",
       "   core type: Operation\n",
       "   operator: 5\n",
       "   operands: 6\n",
       "4. a\n",
       "   core type: Variable\n",
       "   sub-expressions: \n",
       "5. +\n",
       "   core type: Literal\n",
       "   sub-expressions: \n",
       "6. (c , b)\n",
       "   core type: ExprTuple\n",
       "   sub-expressions: 7, 8\n",
       "7. c\n",
       "   core type: Variable\n",
       "   sub-expressions: \n",
       "8. b\n",
       "   core type: Variable\n",
       "   sub-expressions: "
      ]
     },
     "execution_count": 4,
     "metadata": {},
     "output_type": "execute_result"
    }
   ],
   "source": [
    "# display the expression information\n",
    "expr.exprInfo()"
   ]
  },
  {
   "cell_type": "code",
   "execution_count": null,
   "metadata": {},
   "outputs": [],
   "source": []
  }
 ],
 "metadata": {
  "kernelspec": {
   "display_name": "Python 3",
   "language": "python",
   "name": "python3"
  }
 },
 "nbformat": 4,
 "nbformat_minor": 0
}
