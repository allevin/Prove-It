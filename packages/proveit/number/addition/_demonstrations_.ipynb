{
 "cells": [
  {
   "cell_type": "markdown",
   "metadata": {
    "collapsed": true
   },
   "source": [
    "Demonstrations for context <a class=\"ProveItLink\" href=\"_context_.ipynb\">proveit.number.addition</a>\n",
    "========"
   ]
  },
  {
   "cell_type": "code",
   "execution_count": 1,
   "metadata": {},
   "outputs": [],
   "source": [
    "import proveit\n",
    "from proveit import ExprList\n",
    "from proveit.logic import Forall, Equals, InSet\n",
    "from proveit.number import Less, Greater, LessEq, GreaterEq, Neg, Exp\n",
    "from proveit._common_ import a, b,c,d,e,f,g,l, m,n,x,y, A, B, C, AA, BB, CC\n",
    "from proveit.number import zero, one,two, three,four, five, six, seven, eight,Add, Complexes, Neg, Subtract, Integers, Naturals, NaturalsPos,Reals, RealsPos, RealsNeg\n",
    "%begin demonstrations"
   ]
  },
  {
   "cell_type": "code",
   "execution_count": 3,
   "metadata": {},
   "outputs": [
    {
     "name": "stdout",
     "output_type": "stream",
     "text": [
      "n, length 0 5\n",
      "n, length 1 6\n",
      "n, length 2 6\n",
      "n, length 3 6\n",
      "n, length 4 6\n",
      "to ungroup\n",
      "new expr c + (-1) + b + (-c) + 2 + 3 + (c + 0 + c)\n",
      "n, length 5 7\n",
      "n, length 6 7\n",
      "to ungroup\n",
      "new expr c + (-1) + b + (-c) + 2 + 3 + c + 0 + c\n",
      "n, length 7 9\n",
      "n, length 8 9\n",
      "expr after initial ungroup c + (-1) + b + (-c) + 2 + 3 + c + 0 + c\n",
      "before loop [[1, 1], [4, 2], [5, 3], [7, 0]] Lit\n",
      "in loop, place, item, size (place < size) 0 [1, 1] 3\n",
      "before if 1 3\n",
      "in loop idx, m 1 4\n",
      "self, beg, end c + (-1) + b + (-c) + 2 + 3 + c + 0 + c 4 5\n",
      "expr after group like terms c + (-1) + b + (-c) + (2 + 3) + c + 0 + c\n",
      "new dict {'Lit': [[1, 1], [4, [(2 , 3)]], [6, 0]], c: [[0, 1], [3, 1], [5, 1], [7, 1]], b: [[2, 1]]}\n",
      "place 0\n",
      "in if 1 4\n",
      "swap values 2 4\n",
      "{2 in Reals , 3 in Reals , 0 in Reals , (-c) in Reals , c in Reals , b in Reals , (-1) in Reals} |= (c + (-1) + b + (-c) + (2 + 3) + c + 0 + c) = (c + (-1) + (2 + 3) + (-c) + b + c + 0 + c)\n",
      "n, length 0 7\n",
      "n, length 1 8\n",
      "n, length 2 8\n",
      "to ungroup\n",
      "new expr c + (-1) + 2 + 3 + (-c) + b + c + 0 + c\n",
      "n, length 3 9\n",
      "n, length 4 9\n",
      "n, length 5 9\n",
      "n, length 6 9\n",
      "n, length 7 9\n",
      "n, length 8 9\n",
      "new dict after swap {'Lit': [[1, 1], [2, 2], [3, 3], [7, 0]], c: [[0, 1], [4, 1], [6, 1], [8, 1]], b: [[5, 1]]}\n",
      "looping again 0 [[1, 1], [2, 2], [3, 3], [7, 0]]\n",
      "in loop, place, item, size (place < size) 1 [4, 2] 3\n",
      "before if 2 2\n",
      "looping again 1 [[1, 1], [2, 2], [3, 3], [7, 0]]\n",
      "in loop, place, item, size (place < size) 2 [5, 3] 3\n",
      "before if 3 6\n",
      "in loop idx, m 1 1\n",
      "in loop idx, m 2 1\n",
      "self, beg, end c + (-1) + 2 + 3 + (-c) + b + c + 0 + c 1 3\n",
      "expr after group like terms c + ((-1) + 2 + 3) + (-c) + b + c + 0 + c\n",
      "new dict {'Lit': [[1, [(-1 , 2 , 3)]], [5, 0]], c: [[0, 1], [2, 1], [4, 1], [6, 1]], b: [[3, 1]]}\n",
      "place 0\n",
      "in if 1 5\n",
      "swap values 2 5\n",
      "{2 in Reals , 3 in Reals , 0 in Reals , (-c) in Reals , c in Reals , b in Reals , (-1) in Reals} |= (c + ((-1) + 2 + 3) + (-c) + b + c + 0 + c) = (c + ((-1) + 2 + 3) + 0 + b + c + (-c) + c)\n",
      "n, length 0 6\n",
      "n, length 1 7\n",
      "to ungroup\n",
      "new expr c + (-1) + 2 + 3 + 0 + b + c + (-c) + c\n",
      "n, length 2 9\n",
      "n, length 3 9\n",
      "n, length 4 9\n",
      "n, length 5 9\n",
      "n, length 6 9\n",
      "n, length 7 9\n",
      "n, length 8 9\n",
      "new dict after swap {'Lit': [[1, 1], [2, 2], [3, 3], [4, 0]], c: [[0, 1], [6, 1], [7, 1], [8, 1]], b: [[5, 1]]}\n",
      "looping again 2 [[1, 1], [2, 2], [3, 3], [4, 0]]\n",
      "in loop, place, item, size (place < size) 3 [7, 0] 3\n",
      "looping again 3 [[1, 1], [2, 2], [3, 3], [4, 0]]\n",
      "before loop [[0, 1], [6, 1], [7, 1], [8, 1]] c\n",
      "in loop, place, item, size (place < size) 0 [0, 1] 3\n",
      "before if 0 5\n",
      "in loop idx, m 1 1\n",
      "in loop idx, m 2 1\n",
      "in loop idx, m 3 1\n",
      "self, beg, end c + (-1) + 2 + 3 + 0 + b + c + (-c) + c 1 4\n",
      "in loop idx, m 1 3\n",
      "self, beg, end c + ((-1) + 2 + 3 + 0) + b + c + (-c) + c 3 5\n",
      "expr after group like terms c + ((-1) + 2 + 3 + 0) + b + (c + (-c) + c)\n",
      "new dict {'Lit': [[1, [(-1 , 2 , 3 , 0)]]], c: [[0, 1], [3, 3]], b: [[2, 1]]}\n",
      "place 0\n",
      "in if 0 3\n",
      "swap values 1 3\n",
      "{2 in Reals , 3 in Reals , 0 in Reals , (-c) in Reals , c in Reals , b in Reals , (-1) in Reals} |= (c + ((-1) + 2 + 3 + 0) + b + (c + (-c) + c)) = (c + (c + (-c) + c) + b + ((-1) + 2 + 3 + 0))\n",
      "n, length 0 3\n",
      "n, length 1 4\n",
      "to ungroup\n",
      "new expr c + c + (-c) + c + b + ((-1) + 2 + 3 + 0)\n",
      "n, length 2 6\n",
      "n, length 3 6\n",
      "n, length 4 6\n",
      "n, length 5 6\n",
      "to ungroup\n",
      "new expr c + c + (-c) + c + b + (-1) + 2 + 3 + 0\n",
      "n, length 6 9\n",
      "n, length 7 9\n",
      "n, length 8 9\n",
      "new dict after swap {'Lit': [[5, 1], [6, 2], [7, 3], [8, 0]], c: [[0, 1], [1, 1], [2, 1], [3, 1]], b: [[4, 1]]}\n",
      "looping again 0 [[0, 1], [1, 1], [2, 1], [3, 1]]\n",
      "in loop, place, item, size (place < size) 1 [6, 1] 3\n",
      "before if 1 1\n",
      "looping again 1 [[0, 1], [1, 1], [2, 1], [3, 1]]\n",
      "in loop, place, item, size (place < size) 2 [7, 1] 3\n",
      "before if 2 2\n",
      "looping again 2 [[0, 1], [1, 1], [2, 1], [3, 1]]\n",
      "in loop, place, item, size (place < size) 3 [8, 1] 3\n",
      "looping again 3 [[0, 1], [1, 1], [2, 1], [3, 1]]\n",
      "before loop [[4, 1]] b\n",
      "in loop, place, item, size (place < size) 0 [4, 1] 0\n",
      "looping again 0 [[4, 1]]\n",
      "expr, operand, j c + c + (-c) + c + b + (-1) + 2 + 3 + 0 -c 2\n",
      "self, idx in addNegSelf c + c + (-c) + c + b + (-1) + 2 + 3 + 0 2\n",
      "expr, operand, j c + c + b + (-1) + 2 + 3 + 0 -1 3\n",
      "in loop idx, m 1 0\n",
      "self, beg, end c + c + b + (-1) + 2 + 3 + 0 0 1\n",
      "in loop idx, m 1 2\n",
      "in loop idx, m 2 2\n",
      "self, beg, end (c + c) + b + (-1) + 2 + 3 + 0 2 4\n",
      "expr after group like terms (c + c) + b + ((-1) + 2 + 3) + 0\n",
      "new dict after swap {'Lit': [[2, [(-1 , 2 , 3)]], [3, 0]], c: [[0, 2]], b: [[1, 1]]}\n",
      "hold[key][0][0] 0\n",
      "operand c\n",
      "expr.operands (c + c , b , (-1) + 2 + 3 , 0)\n",
      "idx 0\n",
      "expr.operands[idx].operands[0] c\n",
      "operand c\n",
      "expr.operands (c + c , b , (-1) + 2 + 3 , 0)\n",
      "idx 0\n",
      "expr.operands[idx].operands[0] c\n",
      "expr, idx (c + c) + b + ((-1) + 2 + 3) + 0 0\n",
      "l 0\n",
      "m 2\n",
      "m 3\n",
      "aa []\n",
      "bb (c , c)\n",
      "cc [b, (-1) + 2 + 3, 0]\n",
      "x c\n",
      "new dict after swap {'Lit': [[2, [(-1 , 2 , 3)]], [3, 0]], c: [[0, 1]], b: [[1, 1]]}\n",
      "hold[key][0][0] 1\n",
      "expr after mult (2 * c) + b + ((-1) + 2 + 3) + 0\n",
      "n, length 0 3\n",
      "n, length 1 4\n",
      "n, length 2 4\n",
      "to ungroup\n"
     ]
    },
    {
     "ename": "AttributeError",
     "evalue": "'RealsSet' object has no attribute 'number_set'",
     "output_type": "error",
     "traceback": [
      "\u001b[1;31m---------------------------------------------------------------------------\u001b[0m",
      "\u001b[1;31mProofFailure\u001b[0m                              Traceback (most recent call last)",
      "\u001b[1;32mc:\\users\\joaqu\\prove-it\\packages\\proveit\\_core_\\expression\\expr.py\u001b[0m in \u001b[0;36mprove\u001b[1;34m(self, assumptions, automation)\u001b[0m\n\u001b[0;32m    432\u001b[0m                     \u001b[1;31m# first attempt to prove via implication\u001b[0m\u001b[1;33m\u001b[0m\u001b[1;33m\u001b[0m\u001b[1;33m\u001b[0m\u001b[0m\n\u001b[1;32m--> 433\u001b[1;33m                     \u001b[0mconcludedTruth\u001b[0m \u001b[1;33m=\u001b[0m \u001b[0mself\u001b[0m\u001b[1;33m.\u001b[0m\u001b[0mconcludeViaImplication\u001b[0m\u001b[1;33m(\u001b[0m\u001b[0massumptions\u001b[0m\u001b[1;33m)\u001b[0m\u001b[1;33m\u001b[0m\u001b[1;33m\u001b[0m\u001b[0m\n\u001b[0m\u001b[0;32m    434\u001b[0m                 \u001b[1;32mexcept\u001b[0m \u001b[0mProofFailure\u001b[0m\u001b[1;33m:\u001b[0m\u001b[1;33m\u001b[0m\u001b[1;33m\u001b[0m\u001b[0m\n",
      "\u001b[1;32mc:\\users\\joaqu\\prove-it\\packages\\proveit\\_core_\\expression\\expr.py\u001b[0m in \u001b[0;36mconcludeViaImplication\u001b[1;34m(self, assumptions)\u001b[0m\n\u001b[0;32m    481\u001b[0m         \u001b[1;32mfrom\u001b[0m \u001b[0mproveit\u001b[0m\u001b[1;33m.\u001b[0m\u001b[0mlogic\u001b[0m \u001b[1;32mimport\u001b[0m \u001b[0mconcludeViaImplication\u001b[0m\u001b[1;33m\u001b[0m\u001b[1;33m\u001b[0m\u001b[0m\n\u001b[1;32m--> 482\u001b[1;33m         \u001b[1;32mreturn\u001b[0m \u001b[0mconcludeViaImplication\u001b[0m\u001b[1;33m(\u001b[0m\u001b[0mself\u001b[0m\u001b[1;33m,\u001b[0m \u001b[0massumptions\u001b[0m\u001b[1;33m)\u001b[0m\u001b[1;33m\u001b[0m\u001b[1;33m\u001b[0m\u001b[0m\n\u001b[0m\u001b[0;32m    483\u001b[0m \u001b[1;33m\u001b[0m\u001b[0m\n",
      "\u001b[1;32mc:\\users\\joaqu\\prove-it\\packages\\proveit\\logic\\boolean\\implication\\implies.py\u001b[0m in \u001b[0;36mconcludeViaImplication\u001b[1;34m(consequent, assumptions)\u001b[0m\n\u001b[0;32m    301\u001b[0m                         \u001b[0mqueue\u001b[0m\u001b[1;33m.\u001b[0m\u001b[0mappend\u001b[0m\u001b[1;33m(\u001b[0m\u001b[0mlocal_antecedent\u001b[0m\u001b[1;33m)\u001b[0m\u001b[1;33m\u001b[0m\u001b[1;33m\u001b[0m\u001b[0m\n\u001b[1;32m--> 302\u001b[1;33m     \u001b[1;32mraise\u001b[0m \u001b[0mProofFailure\u001b[0m\u001b[1;33m(\u001b[0m\u001b[0mconsequent\u001b[0m\u001b[1;33m,\u001b[0m \u001b[0massumptions\u001b[0m\u001b[1;33m,\u001b[0m \u001b[1;34m'Unable to conclude via implications'\u001b[0m\u001b[1;33m)\u001b[0m\u001b[1;33m\u001b[0m\u001b[1;33m\u001b[0m\u001b[0m\n\u001b[0m\u001b[0;32m    303\u001b[0m \u001b[1;33m\u001b[0m\u001b[0m\n",
      "\u001b[1;31mProofFailure\u001b[0m: Unable to prove (2 * c , b) in Reals^{2} assuming {1 in Reals, 2 in Reals, 3 in Reals, 0 in Reals, (-c) in Reals, c in Reals, b in Reals, (-1) in Reals}: Unable to conclude via implications",
      "\nDuring handling of the above exception, another exception occurred:\n",
      "\u001b[1;31mProofFailure\u001b[0m                              Traceback (most recent call last)",
      "\u001b[1;32mc:\\users\\joaqu\\prove-it\\packages\\proveit\\_core_\\expression\\expr.py\u001b[0m in \u001b[0;36mprove\u001b[1;34m(self, assumptions, automation)\u001b[0m\n\u001b[0;32m    432\u001b[0m                     \u001b[1;31m# first attempt to prove via implication\u001b[0m\u001b[1;33m\u001b[0m\u001b[1;33m\u001b[0m\u001b[1;33m\u001b[0m\u001b[0m\n\u001b[1;32m--> 433\u001b[1;33m                     \u001b[0mconcludedTruth\u001b[0m \u001b[1;33m=\u001b[0m \u001b[0mself\u001b[0m\u001b[1;33m.\u001b[0m\u001b[0mconcludeViaImplication\u001b[0m\u001b[1;33m(\u001b[0m\u001b[0massumptions\u001b[0m\u001b[1;33m)\u001b[0m\u001b[1;33m\u001b[0m\u001b[1;33m\u001b[0m\u001b[0m\n\u001b[0m\u001b[0;32m    434\u001b[0m                 \u001b[1;32mexcept\u001b[0m \u001b[0mProofFailure\u001b[0m\u001b[1;33m:\u001b[0m\u001b[1;33m\u001b[0m\u001b[1;33m\u001b[0m\u001b[0m\n",
      "\u001b[1;32mc:\\users\\joaqu\\prove-it\\packages\\proveit\\_core_\\expression\\expr.py\u001b[0m in \u001b[0;36mconcludeViaImplication\u001b[1;34m(self, assumptions)\u001b[0m\n\u001b[0;32m    481\u001b[0m         \u001b[1;32mfrom\u001b[0m \u001b[0mproveit\u001b[0m\u001b[1;33m.\u001b[0m\u001b[0mlogic\u001b[0m \u001b[1;32mimport\u001b[0m \u001b[0mconcludeViaImplication\u001b[0m\u001b[1;33m\u001b[0m\u001b[1;33m\u001b[0m\u001b[0m\n\u001b[1;32m--> 482\u001b[1;33m         \u001b[1;32mreturn\u001b[0m \u001b[0mconcludeViaImplication\u001b[0m\u001b[1;33m(\u001b[0m\u001b[0mself\u001b[0m\u001b[1;33m,\u001b[0m \u001b[0massumptions\u001b[0m\u001b[1;33m)\u001b[0m\u001b[1;33m\u001b[0m\u001b[1;33m\u001b[0m\u001b[0m\n\u001b[0m\u001b[0;32m    483\u001b[0m \u001b[1;33m\u001b[0m\u001b[0m\n",
      "\u001b[1;32mc:\\users\\joaqu\\prove-it\\packages\\proveit\\logic\\boolean\\implication\\implies.py\u001b[0m in \u001b[0;36mconcludeViaImplication\u001b[1;34m(consequent, assumptions)\u001b[0m\n\u001b[0;32m    301\u001b[0m                         \u001b[0mqueue\u001b[0m\u001b[1;33m.\u001b[0m\u001b[0mappend\u001b[0m\u001b[1;33m(\u001b[0m\u001b[0mlocal_antecedent\u001b[0m\u001b[1;33m)\u001b[0m\u001b[1;33m\u001b[0m\u001b[1;33m\u001b[0m\u001b[0m\n\u001b[1;32m--> 302\u001b[1;33m     \u001b[1;32mraise\u001b[0m \u001b[0mProofFailure\u001b[0m\u001b[1;33m(\u001b[0m\u001b[0mconsequent\u001b[0m\u001b[1;33m,\u001b[0m \u001b[0massumptions\u001b[0m\u001b[1;33m,\u001b[0m \u001b[1;34m'Unable to conclude via implications'\u001b[0m\u001b[1;33m)\u001b[0m\u001b[1;33m\u001b[0m\u001b[1;33m\u001b[0m\u001b[0m\n\u001b[0m\u001b[0;32m    303\u001b[0m \u001b[1;33m\u001b[0m\u001b[0m\n",
      "\u001b[1;31mProofFailure\u001b[0m: Unable to prove (2 * c) in Reals assuming {1 in Reals, 2 in Reals, 3 in Reals, 0 in Reals, (-c) in Reals, c in Reals, b in Reals, (-1) in Reals}: Unable to conclude via implications",
      "\nDuring handling of the above exception, another exception occurred:\n",
      "\u001b[1;31mAttributeError\u001b[0m                            Traceback (most recent call last)",
      "\u001b[1;32m<ipython-input-3-4d86f2a7b30d>\u001b[0m in \u001b[0;36m<module>\u001b[1;34m\u001b[0m\n\u001b[1;32m----> 1\u001b[1;33m \u001b[0mAdd\u001b[0m\u001b[1;33m(\u001b[0m\u001b[0mc\u001b[0m\u001b[1;33m,\u001b[0m \u001b[0mNeg\u001b[0m\u001b[1;33m(\u001b[0m\u001b[0mone\u001b[0m\u001b[1;33m)\u001b[0m\u001b[1;33m,\u001b[0m \u001b[0mb\u001b[0m\u001b[1;33m,\u001b[0m \u001b[0mNeg\u001b[0m\u001b[1;33m(\u001b[0m\u001b[0mc\u001b[0m\u001b[1;33m)\u001b[0m\u001b[1;33m,\u001b[0m \u001b[0mAdd\u001b[0m\u001b[1;33m(\u001b[0m\u001b[0mtwo\u001b[0m\u001b[1;33m,\u001b[0m \u001b[0mthree\u001b[0m\u001b[1;33m)\u001b[0m\u001b[1;33m,\u001b[0m \u001b[0mAdd\u001b[0m\u001b[1;33m(\u001b[0m\u001b[0mc\u001b[0m\u001b[1;33m,\u001b[0m \u001b[0mzero\u001b[0m\u001b[1;33m,\u001b[0m \u001b[0mc\u001b[0m\u001b[1;33m)\u001b[0m\u001b[1;33m)\u001b[0m\u001b[1;33m.\u001b[0m\u001b[0msimplifications\u001b[0m\u001b[1;33m(\u001b[0m\u001b[0massumptions\u001b[0m\u001b[1;33m=\u001b[0m\u001b[1;33m[\u001b[0m\u001b[0mInSet\u001b[0m\u001b[1;33m(\u001b[0m\u001b[0mone\u001b[0m\u001b[1;33m,\u001b[0m \u001b[0mReals\u001b[0m\u001b[1;33m)\u001b[0m\u001b[1;33m,\u001b[0m \u001b[0mInSet\u001b[0m\u001b[1;33m(\u001b[0m\u001b[0mtwo\u001b[0m\u001b[1;33m,\u001b[0m \u001b[0mReals\u001b[0m\u001b[1;33m)\u001b[0m\u001b[1;33m,\u001b[0m \u001b[0mInSet\u001b[0m\u001b[1;33m(\u001b[0m\u001b[0mthree\u001b[0m\u001b[1;33m,\u001b[0m \u001b[0mReals\u001b[0m\u001b[1;33m)\u001b[0m\u001b[1;33m,\u001b[0m \u001b[0mInSet\u001b[0m\u001b[1;33m(\u001b[0m\u001b[0mzero\u001b[0m\u001b[1;33m,\u001b[0m \u001b[0mReals\u001b[0m\u001b[1;33m)\u001b[0m\u001b[1;33m,\u001b[0m \u001b[0mInSet\u001b[0m\u001b[1;33m(\u001b[0m\u001b[0mNeg\u001b[0m\u001b[1;33m(\u001b[0m\u001b[0mc\u001b[0m\u001b[1;33m)\u001b[0m\u001b[1;33m,\u001b[0m \u001b[0mReals\u001b[0m\u001b[1;33m)\u001b[0m\u001b[1;33m,\u001b[0m\u001b[0mInSet\u001b[0m\u001b[1;33m(\u001b[0m\u001b[0mc\u001b[0m\u001b[1;33m,\u001b[0m \u001b[0mReals\u001b[0m\u001b[1;33m)\u001b[0m\u001b[1;33m,\u001b[0m\u001b[0mInSet\u001b[0m\u001b[1;33m(\u001b[0m\u001b[0mb\u001b[0m\u001b[1;33m,\u001b[0m \u001b[0mReals\u001b[0m\u001b[1;33m)\u001b[0m\u001b[1;33m,\u001b[0m \u001b[0mInSet\u001b[0m\u001b[1;33m(\u001b[0m\u001b[0mNeg\u001b[0m\u001b[1;33m(\u001b[0m\u001b[0mone\u001b[0m\u001b[1;33m)\u001b[0m\u001b[1;33m,\u001b[0m \u001b[0mReals\u001b[0m\u001b[1;33m)\u001b[0m\u001b[1;33m]\u001b[0m\u001b[1;33m)\u001b[0m\u001b[1;33m\u001b[0m\u001b[1;33m\u001b[0m\u001b[0m\n\u001b[0m",
      "\u001b[1;32mc:\\users\\joaqu\\prove-it\\packages\\proveit\\number\\addition\\add.py\u001b[0m in \u001b[0;36msimplifications\u001b[1;34m(self, assumptions)\u001b[0m\n\u001b[0;32m    571\u001b[0m                 \u001b[1;31m# if it is grouped, ungroup it\u001b[0m\u001b[1;33m\u001b[0m\u001b[1;33m\u001b[0m\u001b[1;33m\u001b[0m\u001b[0m\n\u001b[0;32m    572\u001b[0m                 \u001b[0mprint\u001b[0m\u001b[1;33m(\u001b[0m\u001b[1;34m\"to ungroup\"\u001b[0m\u001b[1;33m)\u001b[0m\u001b[1;33m\u001b[0m\u001b[1;33m\u001b[0m\u001b[0m\n\u001b[1;32m--> 573\u001b[1;33m                 \u001b[0mexpr\u001b[0m \u001b[1;33m=\u001b[0m \u001b[0mexpr\u001b[0m\u001b[1;33m.\u001b[0m\u001b[0mderiveUnGroup\u001b[0m\u001b[1;33m(\u001b[0m\u001b[0mn\u001b[0m\u001b[1;33m,\u001b[0m \u001b[0massumptions\u001b[0m\u001b[1;33m)\u001b[0m\u001b[1;33m.\u001b[0m\u001b[0mrhs\u001b[0m\u001b[1;33m\u001b[0m\u001b[1;33m\u001b[0m\u001b[0m\n\u001b[0m\u001b[0;32m    574\u001b[0m                 \u001b[0mprint\u001b[0m\u001b[1;33m(\u001b[0m\u001b[1;34m\"new expr\"\u001b[0m\u001b[1;33m,\u001b[0m \u001b[0mexpr\u001b[0m\u001b[1;33m)\u001b[0m\u001b[1;33m\u001b[0m\u001b[1;33m\u001b[0m\u001b[0m\n\u001b[0;32m    575\u001b[0m             \u001b[0mlength\u001b[0m \u001b[1;33m=\u001b[0m \u001b[0mlen\u001b[0m\u001b[1;33m(\u001b[0m\u001b[0mexpr\u001b[0m\u001b[1;33m.\u001b[0m\u001b[0moperands\u001b[0m\u001b[1;33m)\u001b[0m\u001b[1;33m\u001b[0m\u001b[1;33m\u001b[0m\u001b[0m\n",
      "\u001b[1;32mc:\\users\\joaqu\\prove-it\\packages\\proveit\\number\\addition\\add.py\u001b[0m in \u001b[0;36mderiveUnGroup\u001b[1;34m(self, beg, assumptions)\u001b[0m\n\u001b[0;32m    273\u001b[0m         \u001b[1;32mif\u001b[0m \u001b[1;32mnot\u001b[0m \u001b[0misinstance\u001b[0m\u001b[1;33m(\u001b[0m\u001b[0mself\u001b[0m\u001b[1;33m.\u001b[0m\u001b[0moperands\u001b[0m\u001b[1;33m[\u001b[0m\u001b[0mbeg\u001b[0m\u001b[1;33m]\u001b[0m\u001b[1;33m,\u001b[0m \u001b[0mAdd\u001b[0m\u001b[1;33m)\u001b[0m\u001b[1;33m:\u001b[0m\u001b[1;33m\u001b[0m\u001b[1;33m\u001b[0m\u001b[0m\n\u001b[0;32m    274\u001b[0m             \u001b[1;32mraise\u001b[0m \u001b[0mValueError\u001b[0m\u001b[1;33m(\u001b[0m\u001b[1;34m\"Expecting operand at %s to be an add expression\"\u001b[0m \u001b[1;33m%\u001b[0m\u001b[0mstr\u001b[0m\u001b[1;33m(\u001b[0m\u001b[0mbeg\u001b[0m\u001b[1;33m)\u001b[0m\u001b[1;33m)\u001b[0m\u001b[1;33m\u001b[0m\u001b[1;33m\u001b[0m\u001b[0m\n\u001b[1;32m--> 275\u001b[1;33m         \u001b[1;32mreturn\u001b[0m \u001b[0munGroup\u001b[0m\u001b[1;33m.\u001b[0m\u001b[0mspecialize\u001b[0m\u001b[1;33m(\u001b[0m\u001b[1;33m{\u001b[0m\u001b[0ml\u001b[0m \u001b[1;33m:\u001b[0m\u001b[0mnum\u001b[0m\u001b[1;33m(\u001b[0m\u001b[0mbeg\u001b[0m\u001b[1;33m)\u001b[0m\u001b[1;33m,\u001b[0m \u001b[0mm\u001b[0m\u001b[1;33m:\u001b[0m\u001b[0mnum\u001b[0m\u001b[1;33m(\u001b[0m\u001b[0mlen\u001b[0m\u001b[1;33m(\u001b[0m\u001b[0mself\u001b[0m\u001b[1;33m.\u001b[0m\u001b[0moperands\u001b[0m\u001b[1;33m[\u001b[0m\u001b[0mbeg\u001b[0m\u001b[1;33m]\u001b[0m\u001b[1;33m.\u001b[0m\u001b[0moperands\u001b[0m\u001b[1;33m)\u001b[0m\u001b[1;33m)\u001b[0m\u001b[1;33m,\u001b[0m \u001b[0mn\u001b[0m\u001b[1;33m:\u001b[0m \u001b[0mnum\u001b[0m\u001b[1;33m(\u001b[0m\u001b[0mlen\u001b[0m\u001b[1;33m(\u001b[0m\u001b[0mself\u001b[0m\u001b[1;33m.\u001b[0m\u001b[0mterms\u001b[0m\u001b[1;33m)\u001b[0m \u001b[1;33m-\u001b[0m \u001b[0mbeg\u001b[0m \u001b[1;33m-\u001b[0m \u001b[1;36m1\u001b[0m\u001b[1;33m)\u001b[0m\u001b[1;33m,\u001b[0m \u001b[0mAA\u001b[0m\u001b[1;33m:\u001b[0m\u001b[0mself\u001b[0m\u001b[1;33m.\u001b[0m\u001b[0mterms\u001b[0m\u001b[1;33m[\u001b[0m\u001b[1;33m:\u001b[0m\u001b[0mbeg\u001b[0m\u001b[1;33m]\u001b[0m\u001b[1;33m,\u001b[0m \u001b[0mBB\u001b[0m\u001b[1;33m:\u001b[0m\u001b[0mself\u001b[0m\u001b[1;33m.\u001b[0m\u001b[0moperands\u001b[0m\u001b[1;33m[\u001b[0m\u001b[0mbeg\u001b[0m\u001b[1;33m]\u001b[0m\u001b[1;33m.\u001b[0m\u001b[0mterms\u001b[0m\u001b[1;33m[\u001b[0m\u001b[1;36m0\u001b[0m\u001b[1;33m:\u001b[0m\u001b[1;33m]\u001b[0m\u001b[1;33m,\u001b[0m \u001b[0mCC\u001b[0m\u001b[1;33m:\u001b[0m \u001b[0mself\u001b[0m\u001b[1;33m.\u001b[0m\u001b[0mterms\u001b[0m\u001b[1;33m[\u001b[0m\u001b[0mbeg\u001b[0m\u001b[1;33m+\u001b[0m\u001b[1;36m1\u001b[0m\u001b[1;33m:\u001b[0m\u001b[1;33m]\u001b[0m\u001b[1;33m}\u001b[0m\u001b[1;33m,\u001b[0m \u001b[0massumptions\u001b[0m\u001b[1;33m=\u001b[0m\u001b[0massumptions\u001b[0m\u001b[1;33m)\u001b[0m\u001b[1;33m\u001b[0m\u001b[1;33m\u001b[0m\u001b[0m\n\u001b[0m\u001b[0;32m    276\u001b[0m \u001b[1;33m\u001b[0m\u001b[0m\n\u001b[0;32m    277\u001b[0m     \u001b[1;32mdef\u001b[0m \u001b[0mderiveZeroFromNegSelf\u001b[0m\u001b[1;33m(\u001b[0m\u001b[0mself\u001b[0m\u001b[1;33m,\u001b[0m \u001b[0massumptions\u001b[0m\u001b[1;33m=\u001b[0m\u001b[0mUSE_DEFAULTS\u001b[0m\u001b[1;33m)\u001b[0m\u001b[1;33m:\u001b[0m\u001b[1;33m\u001b[0m\u001b[1;33m\u001b[0m\u001b[0m\n",
      "\u001b[1;32mc:\\users\\joaqu\\prove-it\\packages\\proveit\\_core_\\known_truth.py\u001b[0m in \u001b[0;36mspecialize\u001b[1;34m(self, specializeMap, relabelMap, assumptions)\u001b[0m\n\u001b[0;32m    760\u001b[0m                     \u001b[0mprocessedSubMap\u001b[0m\u001b[1;33m[\u001b[0m\u001b[0miVar\u001b[0m\u001b[1;33m]\u001b[0m \u001b[1;33m=\u001b[0m \u001b[0miVar\u001b[0m\u001b[1;33m\u001b[0m\u001b[1;33m\u001b[0m\u001b[0m\n\u001b[0;32m    761\u001b[0m \u001b[1;33m\u001b[0m\u001b[0m\n\u001b[1;32m--> 762\u001b[1;33m         \u001b[1;32mreturn\u001b[0m \u001b[0mself\u001b[0m\u001b[1;33m.\u001b[0m\u001b[0m_checkedTruth\u001b[0m\u001b[1;33m(\u001b[0m\u001b[0mSpecialization\u001b[0m\u001b[1;33m(\u001b[0m\u001b[0mself\u001b[0m\u001b[1;33m,\u001b[0m \u001b[0mnumForallEliminations\u001b[0m\u001b[1;33m=\u001b[0m\u001b[0mnumForallEliminations\u001b[0m\u001b[1;33m,\u001b[0m \u001b[0mspecializeMap\u001b[0m\u001b[1;33m=\u001b[0m\u001b[0mprocessedSubMap\u001b[0m\u001b[1;33m,\u001b[0m \u001b[0mrelabelMap\u001b[0m\u001b[1;33m=\u001b[0m\u001b[0mrelabelMap\u001b[0m\u001b[1;33m,\u001b[0m \u001b[0massumptions\u001b[0m\u001b[1;33m=\u001b[0m\u001b[0massumptions\u001b[0m\u001b[1;33m)\u001b[0m\u001b[1;33m)\u001b[0m\u001b[1;33m\u001b[0m\u001b[1;33m\u001b[0m\u001b[0m\n\u001b[0m\u001b[0;32m    763\u001b[0m \u001b[1;33m\u001b[0m\u001b[0m\n\u001b[0;32m    764\u001b[0m     \u001b[1;32mdef\u001b[0m \u001b[0mgeneralize\u001b[0m\u001b[1;33m(\u001b[0m\u001b[0mself\u001b[0m\u001b[1;33m,\u001b[0m \u001b[0mforallVarLists\u001b[0m\u001b[1;33m,\u001b[0m \u001b[0mdomainLists\u001b[0m\u001b[1;33m=\u001b[0m\u001b[1;32mNone\u001b[0m\u001b[1;33m,\u001b[0m \u001b[0mdomain\u001b[0m\u001b[1;33m=\u001b[0m\u001b[1;32mNone\u001b[0m\u001b[1;33m,\u001b[0m \u001b[0mconditions\u001b[0m\u001b[1;33m=\u001b[0m\u001b[0mtuple\u001b[0m\u001b[1;33m(\u001b[0m\u001b[1;33m)\u001b[0m\u001b[1;33m)\u001b[0m\u001b[1;33m:\u001b[0m\u001b[1;33m\u001b[0m\u001b[1;33m\u001b[0m\u001b[0m\n",
      "\u001b[1;32mc:\\users\\joaqu\\prove-it\\packages\\proveit\\_core_\\proof.py\u001b[0m in \u001b[0;36m__init__\u001b[1;34m(self, generalTruth, numForallEliminations, specializeMap, relabelMap, assumptions)\u001b[0m\n\u001b[0;32m    732\u001b[0m                     \u001b[1;31m# each substituted condition must be proven under the assumptions\u001b[0m\u001b[1;33m\u001b[0m\u001b[1;33m\u001b[0m\u001b[1;33m\u001b[0m\u001b[0m\n\u001b[0;32m    733\u001b[0m                     \u001b[1;31m# (if WILDCARD_ASSUMPTIONS is included, it will be proven by assumption if there isn't an existing proof otherwise)\u001b[0m\u001b[1;33m\u001b[0m\u001b[1;33m\u001b[0m\u001b[1;33m\u001b[0m\u001b[0m\n\u001b[1;32m--> 734\u001b[1;33m                     \u001b[0mrequirementTruth\u001b[0m \u001b[1;33m=\u001b[0m \u001b[0mrequirementExpr\u001b[0m\u001b[1;33m.\u001b[0m\u001b[0mprove\u001b[0m\u001b[1;33m(\u001b[0m\u001b[0massumptions\u001b[0m\u001b[1;33m)\u001b[0m\u001b[1;33m\u001b[0m\u001b[1;33m\u001b[0m\u001b[0m\n\u001b[0m\u001b[0;32m    735\u001b[0m                     \u001b[1;32mif\u001b[0m \u001b[0mrequirementTruth\u001b[0m \u001b[1;32mnot\u001b[0m \u001b[1;32min\u001b[0m \u001b[0mrequirementTruthSet\u001b[0m\u001b[1;33m:\u001b[0m\u001b[1;33m\u001b[0m\u001b[1;33m\u001b[0m\u001b[0m\n\u001b[0;32m    736\u001b[0m                         \u001b[0mrequirementTruths\u001b[0m\u001b[1;33m.\u001b[0m\u001b[0mappend\u001b[0m\u001b[1;33m(\u001b[0m\u001b[0mrequirementTruth\u001b[0m\u001b[1;33m)\u001b[0m\u001b[1;33m\u001b[0m\u001b[1;33m\u001b[0m\u001b[0m\n",
      "\u001b[1;32mc:\\users\\joaqu\\prove-it\\packages\\proveit\\_core_\\expression\\expr.py\u001b[0m in \u001b[0;36mprove\u001b[1;34m(self, assumptions, automation)\u001b[0m\n\u001b[0;32m    434\u001b[0m                 \u001b[1;32mexcept\u001b[0m \u001b[0mProofFailure\u001b[0m\u001b[1;33m:\u001b[0m\u001b[1;33m\u001b[0m\u001b[1;33m\u001b[0m\u001b[0m\n\u001b[0;32m    435\u001b[0m                     \u001b[1;31m# try the 'conclude' method of the specific Expression class\u001b[0m\u001b[1;33m\u001b[0m\u001b[1;33m\u001b[0m\u001b[1;33m\u001b[0m\u001b[0m\n\u001b[1;32m--> 436\u001b[1;33m                     \u001b[0mconcludedTruth\u001b[0m \u001b[1;33m=\u001b[0m \u001b[0mself\u001b[0m\u001b[1;33m.\u001b[0m\u001b[0mconclude\u001b[0m\u001b[1;33m(\u001b[0m\u001b[0massumptions\u001b[0m\u001b[1;33m)\u001b[0m\u001b[1;33m\u001b[0m\u001b[1;33m\u001b[0m\u001b[0m\n\u001b[0m\u001b[0;32m    437\u001b[0m             \u001b[1;32mif\u001b[0m \u001b[0mconcludedTruth\u001b[0m \u001b[1;32mis\u001b[0m \u001b[1;32mNone\u001b[0m\u001b[1;33m:\u001b[0m\u001b[1;33m\u001b[0m\u001b[1;33m\u001b[0m\u001b[0m\n\u001b[0;32m    438\u001b[0m                 \u001b[1;32mraise\u001b[0m \u001b[0mProofFailure\u001b[0m\u001b[1;33m(\u001b[0m\u001b[0mself\u001b[0m\u001b[1;33m,\u001b[0m \u001b[0massumptions\u001b[0m\u001b[1;33m,\u001b[0m \u001b[1;34m\"Failure to automatically 'conclude'\"\u001b[0m\u001b[1;33m)\u001b[0m\u001b[1;33m\u001b[0m\u001b[1;33m\u001b[0m\u001b[0m\n",
      "\u001b[1;32mc:\\users\\joaqu\\prove-it\\packages\\proveit\\logic\\set_theory\\membership\\in_set.py\u001b[0m in \u001b[0;36mconclude\u001b[1;34m(self, assumptions)\u001b[0m\n\u001b[0;32m     82\u001b[0m         \u001b[1;31m# could not prove it through a subset relationship, now try to use a MembershipObject\u001b[0m\u001b[1;33m\u001b[0m\u001b[1;33m\u001b[0m\u001b[1;33m\u001b[0m\u001b[0m\n\u001b[0;32m     83\u001b[0m         \u001b[1;32mif\u001b[0m \u001b[0mhasattr\u001b[0m\u001b[1;33m(\u001b[0m\u001b[0mself\u001b[0m\u001b[1;33m,\u001b[0m \u001b[1;34m'membershipObject'\u001b[0m\u001b[1;33m)\u001b[0m\u001b[1;33m:\u001b[0m\u001b[1;33m\u001b[0m\u001b[1;33m\u001b[0m\u001b[0m\n\u001b[1;32m---> 84\u001b[1;33m             \u001b[1;32mreturn\u001b[0m \u001b[0mself\u001b[0m\u001b[1;33m.\u001b[0m\u001b[0mmembershipObject\u001b[0m\u001b[1;33m.\u001b[0m\u001b[0mconclude\u001b[0m\u001b[1;33m(\u001b[0m\u001b[0massumptions\u001b[0m\u001b[1;33m)\u001b[0m\u001b[1;33m\u001b[0m\u001b[1;33m\u001b[0m\u001b[0m\n\u001b[0m\u001b[0;32m     85\u001b[0m \u001b[1;33m\u001b[0m\u001b[0m\n\u001b[0;32m     86\u001b[0m     \u001b[1;32mdef\u001b[0m \u001b[0mevaluation\u001b[0m\u001b[1;33m(\u001b[0m\u001b[0mself\u001b[0m\u001b[1;33m,\u001b[0m \u001b[0massumptions\u001b[0m\u001b[1;33m=\u001b[0m\u001b[0mUSE_DEFAULTS\u001b[0m\u001b[1;33m)\u001b[0m\u001b[1;33m:\u001b[0m\u001b[1;33m\u001b[0m\u001b[1;33m\u001b[0m\u001b[0m\n",
      "\u001b[1;32mc:\\users\\joaqu\\prove-it\\packages\\proveit\\number\\exponentiation\\exp.py\u001b[0m in \u001b[0;36mconclude\u001b[1;34m(self, assumptions)\u001b[0m\n\u001b[0;32m    194\u001b[0m                 \u001b[1;31m# map a, b, ... to the elements of element.\u001b[0m\u001b[1;33m\u001b[0m\u001b[1;33m\u001b[0m\u001b[1;33m\u001b[0m\u001b[0m\n\u001b[0;32m    195\u001b[0m                 \u001b[0mexpr_map\u001b[0m\u001b[1;33m.\u001b[0m\u001b[0mupdate\u001b[0m\u001b[1;33m(\u001b[0m\u001b[1;33m{\u001b[0m\u001b[0mproveit\u001b[0m\u001b[1;33m.\u001b[0m\u001b[0m_common_\u001b[0m\u001b[1;33m.\u001b[0m\u001b[0m__getattr__\u001b[0m\u001b[1;33m(\u001b[0m\u001b[0mchr\u001b[0m\u001b[1;33m(\u001b[0m\u001b[0mord\u001b[0m\u001b[1;33m(\u001b[0m\u001b[1;34m'a'\u001b[0m\u001b[1;33m)\u001b[0m\u001b[1;33m+\u001b[0m\u001b[0mk\u001b[0m\u001b[1;33m)\u001b[0m\u001b[1;33m)\u001b[0m\u001b[1;33m:\u001b[0m\u001b[0melem_k\u001b[0m \u001b[1;32mfor\u001b[0m \u001b[0mk\u001b[0m\u001b[1;33m,\u001b[0m \u001b[0melem_k\u001b[0m \u001b[1;32min\u001b[0m \u001b[0menumerate\u001b[0m\u001b[1;33m(\u001b[0m\u001b[0melement\u001b[0m\u001b[1;33m)\u001b[0m\u001b[1;33m}\u001b[0m\u001b[1;33m)\u001b[0m\u001b[1;33m\u001b[0m\u001b[1;33m\u001b[0m\u001b[0m\n\u001b[1;32m--> 196\u001b[1;33m                 \u001b[0melem_in_set\u001b[0m \u001b[1;33m=\u001b[0m \u001b[0mthm\u001b[0m\u001b[1;33m.\u001b[0m\u001b[0mspecialize\u001b[0m\u001b[1;33m(\u001b[0m\u001b[0mexpr_map\u001b[0m\u001b[1;33m,\u001b[0m \u001b[0massumptions\u001b[0m\u001b[1;33m=\u001b[0m\u001b[0massumptions\u001b[0m\u001b[1;33m)\u001b[0m\u001b[1;33m\u001b[0m\u001b[1;33m\u001b[0m\u001b[0m\n\u001b[0m\u001b[0;32m    197\u001b[0m             \u001b[1;32melse\u001b[0m\u001b[1;33m:\u001b[0m\u001b[1;33m\u001b[0m\u001b[1;33m\u001b[0m\u001b[0m\n\u001b[0;32m    198\u001b[0m                 \u001b[1;32mraise\u001b[0m \u001b[0mProofFailure\u001b[0m\u001b[1;33m(\u001b[0m\u001b[0melem_in_set\u001b[0m\u001b[1;33m,\u001b[0m \u001b[0massumptions\u001b[0m\u001b[1;33m,\u001b[0m \u001b[1;34m\"Automatic deduction of membership in exponentiated sets is not supported beyond an exponent of 9\"\u001b[0m\u001b[1;33m)\u001b[0m\u001b[1;33m\u001b[0m\u001b[1;33m\u001b[0m\u001b[0m\n",
      "\u001b[1;32mc:\\users\\joaqu\\prove-it\\packages\\proveit\\_core_\\known_truth.py\u001b[0m in \u001b[0;36mspecialize\u001b[1;34m(self, specializeMap, relabelMap, assumptions)\u001b[0m\n\u001b[0;32m    760\u001b[0m                     \u001b[0mprocessedSubMap\u001b[0m\u001b[1;33m[\u001b[0m\u001b[0miVar\u001b[0m\u001b[1;33m]\u001b[0m \u001b[1;33m=\u001b[0m \u001b[0miVar\u001b[0m\u001b[1;33m\u001b[0m\u001b[1;33m\u001b[0m\u001b[0m\n\u001b[0;32m    761\u001b[0m \u001b[1;33m\u001b[0m\u001b[0m\n\u001b[1;32m--> 762\u001b[1;33m         \u001b[1;32mreturn\u001b[0m \u001b[0mself\u001b[0m\u001b[1;33m.\u001b[0m\u001b[0m_checkedTruth\u001b[0m\u001b[1;33m(\u001b[0m\u001b[0mSpecialization\u001b[0m\u001b[1;33m(\u001b[0m\u001b[0mself\u001b[0m\u001b[1;33m,\u001b[0m \u001b[0mnumForallEliminations\u001b[0m\u001b[1;33m=\u001b[0m\u001b[0mnumForallEliminations\u001b[0m\u001b[1;33m,\u001b[0m \u001b[0mspecializeMap\u001b[0m\u001b[1;33m=\u001b[0m\u001b[0mprocessedSubMap\u001b[0m\u001b[1;33m,\u001b[0m \u001b[0mrelabelMap\u001b[0m\u001b[1;33m=\u001b[0m\u001b[0mrelabelMap\u001b[0m\u001b[1;33m,\u001b[0m \u001b[0massumptions\u001b[0m\u001b[1;33m=\u001b[0m\u001b[0massumptions\u001b[0m\u001b[1;33m)\u001b[0m\u001b[1;33m)\u001b[0m\u001b[1;33m\u001b[0m\u001b[1;33m\u001b[0m\u001b[0m\n\u001b[0m\u001b[0;32m    763\u001b[0m \u001b[1;33m\u001b[0m\u001b[0m\n\u001b[0;32m    764\u001b[0m     \u001b[1;32mdef\u001b[0m \u001b[0mgeneralize\u001b[0m\u001b[1;33m(\u001b[0m\u001b[0mself\u001b[0m\u001b[1;33m,\u001b[0m \u001b[0mforallVarLists\u001b[0m\u001b[1;33m,\u001b[0m \u001b[0mdomainLists\u001b[0m\u001b[1;33m=\u001b[0m\u001b[1;32mNone\u001b[0m\u001b[1;33m,\u001b[0m \u001b[0mdomain\u001b[0m\u001b[1;33m=\u001b[0m\u001b[1;32mNone\u001b[0m\u001b[1;33m,\u001b[0m \u001b[0mconditions\u001b[0m\u001b[1;33m=\u001b[0m\u001b[0mtuple\u001b[0m\u001b[1;33m(\u001b[0m\u001b[1;33m)\u001b[0m\u001b[1;33m)\u001b[0m\u001b[1;33m:\u001b[0m\u001b[1;33m\u001b[0m\u001b[1;33m\u001b[0m\u001b[0m\n",
      "\u001b[1;32mc:\\users\\joaqu\\prove-it\\packages\\proveit\\_core_\\proof.py\u001b[0m in \u001b[0;36m__init__\u001b[1;34m(self, generalTruth, numForallEliminations, specializeMap, relabelMap, assumptions)\u001b[0m\n\u001b[0;32m    732\u001b[0m                     \u001b[1;31m# each substituted condition must be proven under the assumptions\u001b[0m\u001b[1;33m\u001b[0m\u001b[1;33m\u001b[0m\u001b[1;33m\u001b[0m\u001b[0m\n\u001b[0;32m    733\u001b[0m                     \u001b[1;31m# (if WILDCARD_ASSUMPTIONS is included, it will be proven by assumption if there isn't an existing proof otherwise)\u001b[0m\u001b[1;33m\u001b[0m\u001b[1;33m\u001b[0m\u001b[1;33m\u001b[0m\u001b[0m\n\u001b[1;32m--> 734\u001b[1;33m                     \u001b[0mrequirementTruth\u001b[0m \u001b[1;33m=\u001b[0m \u001b[0mrequirementExpr\u001b[0m\u001b[1;33m.\u001b[0m\u001b[0mprove\u001b[0m\u001b[1;33m(\u001b[0m\u001b[0massumptions\u001b[0m\u001b[1;33m)\u001b[0m\u001b[1;33m\u001b[0m\u001b[1;33m\u001b[0m\u001b[0m\n\u001b[0m\u001b[0;32m    735\u001b[0m                     \u001b[1;32mif\u001b[0m \u001b[0mrequirementTruth\u001b[0m \u001b[1;32mnot\u001b[0m \u001b[1;32min\u001b[0m \u001b[0mrequirementTruthSet\u001b[0m\u001b[1;33m:\u001b[0m\u001b[1;33m\u001b[0m\u001b[1;33m\u001b[0m\u001b[0m\n\u001b[0;32m    736\u001b[0m                         \u001b[0mrequirementTruths\u001b[0m\u001b[1;33m.\u001b[0m\u001b[0mappend\u001b[0m\u001b[1;33m(\u001b[0m\u001b[0mrequirementTruth\u001b[0m\u001b[1;33m)\u001b[0m\u001b[1;33m\u001b[0m\u001b[1;33m\u001b[0m\u001b[0m\n",
      "\u001b[1;32mc:\\users\\joaqu\\prove-it\\packages\\proveit\\_core_\\expression\\expr.py\u001b[0m in \u001b[0;36mprove\u001b[1;34m(self, assumptions, automation)\u001b[0m\n\u001b[0;32m    434\u001b[0m                 \u001b[1;32mexcept\u001b[0m \u001b[0mProofFailure\u001b[0m\u001b[1;33m:\u001b[0m\u001b[1;33m\u001b[0m\u001b[1;33m\u001b[0m\u001b[0m\n\u001b[0;32m    435\u001b[0m                     \u001b[1;31m# try the 'conclude' method of the specific Expression class\u001b[0m\u001b[1;33m\u001b[0m\u001b[1;33m\u001b[0m\u001b[1;33m\u001b[0m\u001b[0m\n\u001b[1;32m--> 436\u001b[1;33m                     \u001b[0mconcludedTruth\u001b[0m \u001b[1;33m=\u001b[0m \u001b[0mself\u001b[0m\u001b[1;33m.\u001b[0m\u001b[0mconclude\u001b[0m\u001b[1;33m(\u001b[0m\u001b[0massumptions\u001b[0m\u001b[1;33m)\u001b[0m\u001b[1;33m\u001b[0m\u001b[1;33m\u001b[0m\u001b[0m\n\u001b[0m\u001b[0;32m    437\u001b[0m             \u001b[1;32mif\u001b[0m \u001b[0mconcludedTruth\u001b[0m \u001b[1;32mis\u001b[0m \u001b[1;32mNone\u001b[0m\u001b[1;33m:\u001b[0m\u001b[1;33m\u001b[0m\u001b[1;33m\u001b[0m\u001b[0m\n\u001b[0;32m    438\u001b[0m                 \u001b[1;32mraise\u001b[0m \u001b[0mProofFailure\u001b[0m\u001b[1;33m(\u001b[0m\u001b[0mself\u001b[0m\u001b[1;33m,\u001b[0m \u001b[0massumptions\u001b[0m\u001b[1;33m,\u001b[0m \u001b[1;34m\"Failure to automatically 'conclude'\"\u001b[0m\u001b[1;33m)\u001b[0m\u001b[1;33m\u001b[0m\u001b[1;33m\u001b[0m\u001b[0m\n",
      "\u001b[1;32mc:\\users\\joaqu\\prove-it\\packages\\proveit\\logic\\set_theory\\membership\\in_set.py\u001b[0m in \u001b[0;36mconclude\u001b[1;34m(self, assumptions)\u001b[0m\n\u001b[0;32m     82\u001b[0m         \u001b[1;31m# could not prove it through a subset relationship, now try to use a MembershipObject\u001b[0m\u001b[1;33m\u001b[0m\u001b[1;33m\u001b[0m\u001b[1;33m\u001b[0m\u001b[0m\n\u001b[0;32m     83\u001b[0m         \u001b[1;32mif\u001b[0m \u001b[0mhasattr\u001b[0m\u001b[1;33m(\u001b[0m\u001b[0mself\u001b[0m\u001b[1;33m,\u001b[0m \u001b[1;34m'membershipObject'\u001b[0m\u001b[1;33m)\u001b[0m\u001b[1;33m:\u001b[0m\u001b[1;33m\u001b[0m\u001b[1;33m\u001b[0m\u001b[0m\n\u001b[1;32m---> 84\u001b[1;33m             \u001b[1;32mreturn\u001b[0m \u001b[0mself\u001b[0m\u001b[1;33m.\u001b[0m\u001b[0mmembershipObject\u001b[0m\u001b[1;33m.\u001b[0m\u001b[0mconclude\u001b[0m\u001b[1;33m(\u001b[0m\u001b[0massumptions\u001b[0m\u001b[1;33m)\u001b[0m\u001b[1;33m\u001b[0m\u001b[1;33m\u001b[0m\u001b[0m\n\u001b[0m\u001b[0;32m     85\u001b[0m \u001b[1;33m\u001b[0m\u001b[0m\n\u001b[0;32m     86\u001b[0m     \u001b[1;32mdef\u001b[0m \u001b[0mevaluation\u001b[0m\u001b[1;33m(\u001b[0m\u001b[0mself\u001b[0m\u001b[1;33m,\u001b[0m \u001b[0massumptions\u001b[0m\u001b[1;33m=\u001b[0m\u001b[0mUSE_DEFAULTS\u001b[0m\u001b[1;33m)\u001b[0m\u001b[1;33m:\u001b[0m\u001b[1;33m\u001b[0m\u001b[1;33m\u001b[0m\u001b[0m\n",
      "\u001b[1;32mc:\\users\\joaqu\\prove-it\\packages\\proveit\\number\\sets\\number_set.py\u001b[0m in \u001b[0;36mconclude\u001b[1;34m(self, assumptions)\u001b[0m\n\u001b[0;32m     26\u001b[0m         '''   \n\u001b[0;32m     27\u001b[0m         \u001b[1;32mif\u001b[0m \u001b[0mhasattr\u001b[0m\u001b[1;33m(\u001b[0m\u001b[0mself\u001b[0m\u001b[1;33m.\u001b[0m\u001b[0melement\u001b[0m\u001b[1;33m,\u001b[0m \u001b[1;34m'deduceInNumberSet'\u001b[0m\u001b[1;33m)\u001b[0m\u001b[1;33m:\u001b[0m\u001b[1;33m\u001b[0m\u001b[1;33m\u001b[0m\u001b[0m\n\u001b[1;32m---> 28\u001b[1;33m             \u001b[1;32mreturn\u001b[0m \u001b[0mself\u001b[0m\u001b[1;33m.\u001b[0m\u001b[0melement\u001b[0m\u001b[1;33m.\u001b[0m\u001b[0mdeduceInNumberSet\u001b[0m\u001b[1;33m(\u001b[0m\u001b[0mself\u001b[0m\u001b[1;33m.\u001b[0m\u001b[0mnumber_set\u001b[0m\u001b[1;33m,\u001b[0m \u001b[0massumptions\u001b[0m\u001b[1;33m=\u001b[0m\u001b[0massumptions\u001b[0m\u001b[1;33m)\u001b[0m\u001b[1;33m\u001b[0m\u001b[1;33m\u001b[0m\u001b[0m\n\u001b[0m\u001b[0;32m     29\u001b[0m         \u001b[1;32mraise\u001b[0m \u001b[0mProofFailure\u001b[0m\u001b[1;33m(\u001b[0m\u001b[0mInSet\u001b[0m\u001b[1;33m(\u001b[0m\u001b[0mself\u001b[0m\u001b[1;33m.\u001b[0m\u001b[0melement\u001b[0m\u001b[1;33m,\u001b[0m \u001b[0mself\u001b[0m\u001b[1;33m.\u001b[0m\u001b[0mnumber_set\u001b[0m\u001b[1;33m)\u001b[0m\u001b[1;33m,\u001b[0m \u001b[0massumptions\u001b[0m\u001b[1;33m,\u001b[0m \u001b[0mstr\u001b[0m\u001b[1;33m(\u001b[0m\u001b[0mself\u001b[0m\u001b[1;33m.\u001b[0m\u001b[0melement\u001b[0m\u001b[1;33m)\u001b[0m \u001b[1;33m+\u001b[0m \u001b[1;34m\" has no 'deduceInNumberSet' method.\"\u001b[0m\u001b[1;33m)\u001b[0m\u001b[1;33m\u001b[0m\u001b[1;33m\u001b[0m\u001b[0m\n\u001b[0;32m     30\u001b[0m \u001b[1;33m\u001b[0m\u001b[0m\n",
      "\u001b[1;32mc:\\users\\joaqu\\prove-it\\packages\\proveit\\number\\multiplication\\mult.py\u001b[0m in \u001b[0;36mdeduceInNumberSet\u001b[1;34m(self, numberSet, assumptions)\u001b[0m\n\u001b[0;32m     17\u001b[0m     \u001b[1;32mdef\u001b[0m \u001b[0mdeduceInNumberSet\u001b[0m\u001b[1;33m(\u001b[0m\u001b[0mself\u001b[0m\u001b[1;33m,\u001b[0m \u001b[0mnumberSet\u001b[0m\u001b[1;33m,\u001b[0m \u001b[0massumptions\u001b[0m\u001b[1;33m=\u001b[0m\u001b[0mUSE_DEFAULTS\u001b[0m\u001b[1;33m)\u001b[0m\u001b[1;33m:\u001b[0m\u001b[1;33m\u001b[0m\u001b[1;33m\u001b[0m\u001b[0m\n\u001b[0;32m     18\u001b[0m         \u001b[1;32mfrom\u001b[0m \u001b[1;33m.\u001b[0m\u001b[0m_theorems_\u001b[0m \u001b[1;32mimport\u001b[0m \u001b[0mmultIntClosure\u001b[0m\u001b[1;33m,\u001b[0m \u001b[0mmultNatClosure\u001b[0m\u001b[1;33m,\u001b[0m \u001b[0mmultNatPosClosure\u001b[0m\u001b[1;33m,\u001b[0m \u001b[0mmultRealClosure\u001b[0m\u001b[1;33m,\u001b[0m \u001b[0mmultRealPosClosure\u001b[0m\u001b[1;33m,\u001b[0m \u001b[0mmultComplexClosure\u001b[0m\u001b[1;33m\u001b[0m\u001b[1;33m\u001b[0m\u001b[0m\n\u001b[1;32m---> 19\u001b[1;33m         \u001b[0mnumberSet\u001b[0m \u001b[1;33m=\u001b[0m \u001b[0mnumberSet\u001b[0m\u001b[1;33m.\u001b[0m\u001b[0mnumber_set\u001b[0m\u001b[1;33m\u001b[0m\u001b[1;33m\u001b[0m\u001b[0m\n\u001b[0m\u001b[0;32m     20\u001b[0m \u001b[1;33m\u001b[0m\u001b[0m\n\u001b[0;32m     21\u001b[0m         \u001b[1;32mif\u001b[0m \u001b[0mnumberSet\u001b[0m \u001b[1;33m==\u001b[0m \u001b[0mIntegers\u001b[0m\u001b[1;33m:\u001b[0m\u001b[1;33m\u001b[0m\u001b[1;33m\u001b[0m\u001b[0m\n",
      "\u001b[1;31mAttributeError\u001b[0m: 'RealsSet' object has no attribute 'number_set'"
     ]
    }
   ],
   "source": [
    "Add(c, Neg(one), b, Neg(c), Add(two, three), Add(c, zero, c)).simplifications(assumptions=[InSet(one, Reals), InSet(two, Reals), InSet(three, Reals), InSet(zero, Reals), InSet(Neg(c), Reals),InSet(c, Reals),InSet(b, Reals), InSet(Neg(one), Reals)])"
   ]
  },
  {
   "cell_type": "code",
   "execution_count": null,
   "metadata": {},
   "outputs": [],
   "source": [
    "Add(a,one, two,Add(b,b,b),c, three, four).deriveExpandedMultDef(3,[InSet(a, Reals), InSet(b, Reals), InSet(c, Reals), InSet(one, Reals), InSet(two, Reals), InSet(three, Reals), InSet(four, Reals), InSet(Neg(b), Reals)])"
   ]
  },
  {
   "cell_type": "code",
   "execution_count": null,
   "metadata": {},
   "outputs": [],
   "source": [
    "Add(a, b, Neg(b), c).deriveExpandedNegSelf(2, assumptions=[InSet(a, Reals), InSet(b, Reals), InSet(c, Reals)])"
   ]
  },
  {
   "cell_type": "code",
   "execution_count": null,
   "metadata": {},
   "outputs": [],
   "source": [
    "Add(one, a, A, zero, b, B, C, c, one, three, A).simplifications(assumptions=[InSet(one, Reals), InSet(three, Reals), InSet(zero, Reals), InSet(a, Reals), InSet(A, Reals), InSet(b, Reals), InSet(B, Reals), InSet(c, Reals), InSet(C, Reals)])"
   ]
  },
  {
   "cell_type": "code",
   "execution_count": null,
   "metadata": {},
   "outputs": [],
   "source": [
    "#Add(a, one, two , c, b, a, zero, b, c, c, three).groupLikeTerms([InSet(a, Reals), InSet(b, Reals), InSet(c, Reals), InSet(one, Reals), InSet(two, Reals)])"
   ]
  },
  {
   "cell_type": "code",
   "execution_count": null,
   "metadata": {},
   "outputs": [],
   "source": [
    "Add(one, two).simplification()"
   ]
  },
  {
   "cell_type": "code",
   "execution_count": null,
   "metadata": {},
   "outputs": [],
   "source": [
    "Add(a, one, a).simplifications([InSet(a, Reals), InSet(one, Reals)])"
   ]
  },
  {
   "cell_type": "code",
   "execution_count": null,
   "metadata": {},
   "outputs": [],
   "source": [
    "Add(one, c, two, three, c, one,c).simplifications([InSet(a, Reals), InSet(b, Reals), InSet(c, Reals), InSet(one, Reals), InSet(two, Reals)])"
   ]
  },
  {
   "cell_type": "code",
   "execution_count": null,
   "metadata": {},
   "outputs": [],
   "source": [
    "Add(a, one, two , c, b, a, zero, b, c, c, three).simplifications([InSet(a, Reals), InSet(b, Reals), InSet(c, Reals), InSet(one, Reals), InSet(two, Reals)])"
   ]
  },
  {
   "cell_type": "code",
   "execution_count": null,
   "metadata": {},
   "outputs": [],
   "source": []
  },
  {
   "cell_type": "code",
   "execution_count": null,
   "metadata": {},
   "outputs": [],
   "source": [
    "Add(a,b).deduceInNumberSet(Integers, assumptions=[InSet(a, Integers), InSet(b,Integers)]).proof()"
   ]
  },
  {
   "cell_type": "code",
   "execution_count": null,
   "metadata": {},
   "outputs": [],
   "source": [
    "Add(a,b,c,d).deduceInNumberSet(Integers,[InSet(a,Integers),InSet(b, Integers), InSet(c, Integers), InSet(d,Integers)]).proof()"
   ]
  },
  {
   "cell_type": "code",
   "execution_count": null,
   "metadata": {},
   "outputs": [],
   "source": [
    "Add(a,b).deduceInNumberSet(Naturals, assumptions=[InSet(a, Naturals), InSet(b, Naturals)]).proof()"
   ]
  },
  {
   "cell_type": "code",
   "execution_count": null,
   "metadata": {},
   "outputs": [],
   "source": [
    "Add(a,b,c,d).deduceInNumberSet(Naturals, assumptions=[InSet(a,Naturals), InSet(b, Naturals), InSet(c,Naturals), InSet(d, Naturals)]).proof()"
   ]
  },
  {
   "cell_type": "code",
   "execution_count": null,
   "metadata": {},
   "outputs": [],
   "source": [
    "Add(a,b).deduceInNumberSet(Reals, assumptions=[InSet(a, Reals), InSet(b,Reals)]).proof()"
   ]
  },
  {
   "cell_type": "code",
   "execution_count": null,
   "metadata": {},
   "outputs": [],
   "source": [
    "Add(a,b,c,d).deduceInNumberSet(Reals, assumptions=[InSet(a,Reals), InSet(b,Reals), InSet(c, Reals), InSet(d, Reals)]).proof()"
   ]
  },
  {
   "cell_type": "code",
   "execution_count": null,
   "metadata": {},
   "outputs": [],
   "source": [
    "Add(a,b).deduceInNumberSet(Complexes, assumptions=[InSet(a, Complexes), InSet(b, Complexes)]).proof()"
   ]
  },
  {
   "cell_type": "code",
   "execution_count": null,
   "metadata": {},
   "outputs": [],
   "source": [
    "Add(a,b,c,d).deduceInNumberSet(Complexes, assumptions=[InSet(a, Complexes), InSet(b, Complexes), InSet(c, Complexes), InSet(d,Complexes)]).proof()"
   ]
  },
  {
   "cell_type": "code",
   "execution_count": null,
   "metadata": {},
   "outputs": [],
   "source": [
    "Add(a,b,one,d).deduceInNumberSet(NaturalsPos, assumptions=[InSet(a, Naturals), InSet(b, Naturals), InSet(c, Naturals), InSet(d, Naturals)]).proof()"
   ]
  },
  {
   "cell_type": "code",
   "execution_count": null,
   "metadata": {},
   "outputs": [],
   "source": [
    "Add(zero, b).deduceAddZero([InSet(b,Complexes)]).proof()"
   ]
  },
  {
   "cell_type": "code",
   "execution_count": null,
   "metadata": {},
   "outputs": [],
   "source": [
    "Add(a,b,c,d).deriveSwap(1,3, assumptions=[InSet(a,Reals), InSet(b,Reals), InSet(c, Reals), InSet(d,Reals)]).proof()"
   ]
  },
  {
   "cell_type": "code",
   "execution_count": null,
   "metadata": {},
   "outputs": [],
   "source": [
    "Add(one, two, three, four, five, six, one).deriveGroup(3,5, assumptions = []).proof()\n",
    "#Equals(Subtract(two, one),one), Equals(Subtract(one, one), zero), Equals(Subtract(three, one), two), Less(zero,Less(one, Less(two, three)))"
   ]
  },
  {
   "cell_type": "code",
   "execution_count": null,
   "metadata": {},
   "outputs": [],
   "source": [
    "InSet((one,two), RealsPos).substituted({})"
   ]
  },
  {
   "cell_type": "code",
   "execution_count": null,
   "metadata": {},
   "outputs": [],
   "source": [
    "Greater(Add(one, two, three, one), three).deduceIncAdd([InSet(two, RealsPos), InSet(three, Reals), InSet(one, RealsPos)]).proof()"
   ]
  },
  {
   "cell_type": "code",
   "execution_count": null,
   "metadata": {},
   "outputs": [],
   "source": [
    "Less(Add(Neg(one), Neg(two), three, Neg(one)), three).deduceDecAdd([InSet(two, RealsNeg), InSet(three, Reals), InSet(one, RealsNeg), InSet(Neg(one), RealsNeg), InSet(Neg(two), RealsNeg)]).string()"
   ]
  },
  {
   "cell_type": "code",
   "execution_count": null,
   "metadata": {},
   "outputs": [],
   "source": [
    "zero.prove([Subtract(x,x)]).proof()"
   ]
  },
  {
   "cell_type": "code",
   "execution_count": null,
   "metadata": {},
   "outputs": [],
   "source": [
    "zero.prove([Subtract(one, one)]).proof()"
   ]
  },
  {
   "cell_type": "code",
   "execution_count": null,
   "metadata": {},
   "outputs": [],
   "source": [
    "Add(a,a,c,Neg(c),a).deriveExpandedNegSelf(3,[InSet(c, Reals), InSet(a, Reals)])"
   ]
  },
  {
   "cell_type": "code",
   "execution_count": null,
   "metadata": {},
   "outputs": [],
   "source": [
    "Add(a,one, two,Add(b,b,b),c, three, four).deriveExpandedMultDef(3,[InSet(a, Complexes), InSet(b, Complexes), InSet(c, Complexes)])"
   ]
  },
  {
   "cell_type": "code",
   "execution_count": null,
   "metadata": {},
   "outputs": [],
   "source": [
    "m.prove([Add(m, Subtract(one, one))])"
   ]
  },
  {
   "cell_type": "code",
   "execution_count": null,
   "metadata": {},
   "outputs": [],
   "source": [
    "%end demonstrations"
   ]
  }
 ],
 "metadata": {
  "kernelspec": {
   "display_name": "Python 3",
   "language": "python",
   "name": "python3"
  },
  "language_info": {
   "codemirror_mode": {
    "name": "ipython",
    "version": 3
   },
   "file_extension": ".py",
   "mimetype": "text/x-python",
   "name": "python",
   "nbconvert_exporter": "python",
   "pygments_lexer": "ipython3",
   "version": "3.7.3"
  }
 },
 "nbformat": 4,
 "nbformat_minor": 1
}
