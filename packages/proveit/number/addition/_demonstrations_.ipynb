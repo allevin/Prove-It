{
 "cells": [
  {
   "cell_type": "markdown",
   "metadata": {
    "collapsed": true
   },
   "source": [
    "Demonstrations for context <a class=\"ProveItLink\" href=\"_context_.ipynb\">proveit.number.addition</a>\n",
    "========"
   ]
  },
  {
   "cell_type": "code",
   "execution_count": 1,
   "metadata": {},
   "outputs": [],
   "source": [
    "import proveit\n",
    "from proveit import ExprList\n",
    "from proveit.logic import Forall, Equals, InSet\n",
    "from proveit.number import Less, Greater, LessEq, GreaterEq, Neg\n",
    "from proveit._common_ import a, b,c,d,e,f,g,m,x,y, A, B, C\n",
    "from proveit.number import zero, one,two, three,four, five, six, seven, eight,Add, Complexes, Neg, Subtract, Integers, Naturals, NaturalsPos,Reals, RealsPos, RealsNeg\n",
    "%begin demonstrations"
   ]
  },
  {
   "cell_type": "code",
   "execution_count": 28,
   "metadata": {},
   "outputs": [
    {
     "name": "stdout",
     "output_type": "stream",
     "text": [
      "n, length 0 5\n",
      "n, length 1 6\n",
      "n, length 2 6\n",
      "n, length 3 6\n",
      "n, length 4 6\n",
      "to ungroup\n",
      "new expr c + (-1) + b + (-c) + 2 + 3 + (c + 0 + c)\n",
      "n, length 5 7\n",
      "n, length 6 7\n",
      "to ungroup\n",
      "new expr c + (-1) + b + (-c) + 2 + 3 + c + 0 + c\n",
      "n, length 7 9\n",
      "n, length 8 9\n",
      "expr after initial ungroup c + (-1) + b + (-c) + 2 + 3 + c + 0 + c\n",
      "before loop [[1, 1], [4, 2], [5, 3], [7, 0]] Lit\n",
      "in loop, place, item, size (place < size) 0 [1, 1] 3\n",
      "before if 1 3\n",
      "in loop idx, m 1 4\n",
      "self, beg, end c + (-1) + b + (-c) + 2 + 3 + c + 0 + c 4 5\n",
      "expr after group like terms c + (-1) + b + (-c) + (2 + 3) + c + 0 + c\n",
      "new dict {'Lit': [[1, 1], [4, [(2 , 3)]], [6, 0]], c: [[0, 1], [3, 1], [5, 1], [7, 1]], b: [[2, 1]]}\n",
      "place 0\n",
      "in if 1 4\n",
      "swap values 2 4\n",
      "{2 in Reals , 3 in Reals , 0 in Reals , (-c) in Reals , c in Reals , b in Reals , (-1) in Reals} |= (c + (-1) + b + (-c) + (2 + 3) + c + 0 + c) = (c + (-1) + (2 + 3) + (-c) + b + c + 0 + c)\n",
      "n, length 0 7\n",
      "n, length 1 8\n",
      "n, length 2 8\n",
      "to ungroup\n",
      "new expr c + (-1) + 2 + 3 + (-c) + b + c + 0 + c\n",
      "n, length 3 9\n",
      "n, length 4 9\n",
      "n, length 5 9\n",
      "n, length 6 9\n",
      "n, length 7 9\n",
      "n, length 8 9\n",
      "new dict after swap {'Lit': [[1, 1], [2, 2], [3, 3], [7, 0]], c: [[0, 1], [4, 1], [6, 1], [8, 1]], b: [[5, 1]]}\n",
      "looping again 0 [[1, 1], [2, 2], [3, 3], [7, 0]]\n",
      "in loop, place, item, size (place < size) 1 [4, 2] 3\n",
      "before if 2 2\n",
      "looping again 1 [[1, 1], [2, 2], [3, 3], [7, 0]]\n",
      "in loop, place, item, size (place < size) 2 [5, 3] 3\n",
      "before if 3 6\n",
      "in loop idx, m 1 1\n",
      "in loop idx, m 2 1\n",
      "self, beg, end c + (-1) + 2 + 3 + (-c) + b + c + 0 + c 1 3\n",
      "expr after group like terms c + ((-1) + 2 + 3) + (-c) + b + c + 0 + c\n",
      "new dict {'Lit': [[1, [(-1 , 2 , 3)]], [5, 0]], c: [[0, 1], [2, 1], [4, 1], [6, 1]], b: [[3, 1]]}\n",
      "place 0\n",
      "in if 1 5\n",
      "swap values 2 5\n",
      "{2 in Reals , 3 in Reals , 0 in Reals , (-c) in Reals , c in Reals , b in Reals , (-1) in Reals} |= (c + ((-1) + 2 + 3) + (-c) + b + c + 0 + c) = (c + ((-1) + 2 + 3) + 0 + b + c + (-c) + c)\n",
      "n, length 0 6\n",
      "n, length 1 7\n",
      "to ungroup\n",
      "new expr c + (-1) + 2 + 3 + 0 + b + c + (-c) + c\n",
      "n, length 2 9\n",
      "n, length 3 9\n",
      "n, length 4 9\n",
      "n, length 5 9\n",
      "n, length 6 9\n",
      "n, length 7 9\n",
      "n, length 8 9\n",
      "new dict after swap {'Lit': [[1, 1], [2, 2], [3, 3], [4, 0]], c: [[0, 1], [6, 1], [7, 1], [8, 1]], b: [[5, 1]]}\n",
      "looping again 2 [[1, 1], [2, 2], [3, 3], [4, 0]]\n",
      "in loop, place, item, size (place < size) 3 [7, 0] 3\n",
      "looping again 3 [[1, 1], [2, 2], [3, 3], [4, 0]]\n",
      "before loop [[0, 1], [6, 1], [7, 1], [8, 1]] c\n",
      "in loop, place, item, size (place < size) 0 [0, 1] 3\n",
      "before if 0 5\n",
      "in loop idx, m 1 1\n",
      "in loop idx, m 2 1\n",
      "in loop idx, m 3 1\n",
      "self, beg, end c + (-1) + 2 + 3 + 0 + b + c + (-c) + c 1 4\n",
      "in loop idx, m 1 3\n",
      "self, beg, end c + ((-1) + 2 + 3 + 0) + b + c + (-c) + c 3 5\n",
      "expr after group like terms c + ((-1) + 2 + 3 + 0) + b + (c + (-c) + c)\n",
      "new dict {'Lit': [[1, [(-1 , 2 , 3 , 0)]]], c: [[0, 1], [3, 3]], b: [[2, 1]]}\n",
      "place 0\n",
      "in if 0 3\n",
      "swap values 1 3\n",
      "{2 in Reals , 3 in Reals , 0 in Reals , (-c) in Reals , c in Reals , b in Reals , (-1) in Reals} |= (c + ((-1) + 2 + 3 + 0) + b + (c + (-c) + c)) = (c + (c + (-c) + c) + b + ((-1) + 2 + 3 + 0))\n",
      "n, length 0 3\n",
      "n, length 1 4\n",
      "to ungroup\n",
      "new expr c + c + (-c) + c + b + ((-1) + 2 + 3 + 0)\n",
      "n, length 2 6\n",
      "n, length 3 6\n",
      "n, length 4 6\n",
      "n, length 5 6\n",
      "to ungroup\n",
      "new expr c + c + (-c) + c + b + (-1) + 2 + 3 + 0\n",
      "n, length 6 9\n",
      "n, length 7 9\n",
      "n, length 8 9\n",
      "new dict after swap {'Lit': [[5, 1], [6, 2], [7, 3], [8, 0]], c: [[0, 1], [1, 1], [2, 1], [3, 1]], b: [[4, 1]]}\n",
      "looping again 0 [[0, 1], [1, 1], [2, 1], [3, 1]]\n",
      "in loop, place, item, size (place < size) 1 [6, 1] 3\n",
      "before if 1 1\n",
      "looping again 1 [[0, 1], [1, 1], [2, 1], [3, 1]]\n",
      "in loop, place, item, size (place < size) 2 [7, 1] 3\n",
      "before if 2 2\n",
      "looping again 2 [[0, 1], [1, 1], [2, 1], [3, 1]]\n",
      "in loop, place, item, size (place < size) 3 [8, 1] 3\n",
      "looping again 3 [[0, 1], [1, 1], [2, 1], [3, 1]]\n",
      "before loop [[4, 1]] b\n",
      "in loop, place, item, size (place < size) 0 [4, 1] 0\n",
      "looping again 0 [[4, 1]]\n"
     ]
    },
    {
     "data": {
      "text/html": [
       "<span style=\"font-size:20px;\"><a class=\"ProveItLink\" href=\"__pv_it/ef147ff054b30f93f6316c242f45bf768998fcd10/expr.ipynb\"><img src=\"__pv_it/ef147ff054b30f93f6316c242f45bf768998fcd10/expr.png\" style=\"display:inline;vertical-align:middle;\" /></a> &#x22A2;&nbsp;<a class=\"ProveItLink\" href=\"__pv_it/889e2707544605068c8aac210f6ccfabd7fa3c4c0/expr.ipynb\"><img src=\"__pv_it/889e2707544605068c8aac210f6ccfabd7fa3c4c0/expr.png\" style=\"display:inline;vertical-align:middle;\" /></a></span>"
      ],
      "text/plain": [
       "{2 in Reals , 3 in Reals , 0 in Reals , (-c) in Reals , c in Reals , b in Reals , (-1) in Reals} |= (c + (-1) + b + (-c) + (2 + 3) + (c + 0 + c)) = (c + c + (-c) + c + b + (-1) + 2 + 3 + 0)"
      ]
     },
     "execution_count": 28,
     "metadata": {},
     "output_type": "execute_result"
    }
   ],
   "source": [
    "Add(c, Neg(one), b, Neg(c), Add(two, three), Add(c, zero, c)).simplifications([InSet(one, Reals), InSet(two, Reals), InSet(three, Reals), InSet(zero, Reals), InSet(Neg(c), Reals),InSet(c, Reals),InSet(b, Reals), InSet(Neg(one), Reals)])"
   ]
  },
  {
   "cell_type": "code",
   "execution_count": 3,
   "metadata": {},
   "outputs": [
    {
     "name": "stdout",
     "output_type": "stream",
     "text": [
      "n, length 0 10\n",
      "n, length 1 11\n",
      "n, length 2 11\n",
      "n, length 3 11\n",
      "n, length 4 11\n",
      "n, length 5 11\n",
      "n, length 6 11\n",
      "n, length 7 11\n",
      "n, length 8 11\n",
      "n, length 9 11\n",
      "n, length 10 11\n",
      "expr after initial ungroup 1 + a + A + 0 + b + B + C + c + 1 + 3 + A\n",
      "before loop [[0, 1], [3, 0], [8, 1], [9, 3]] Lit\n",
      "in loop, place, item, size (place < size) 0 [0, 1] 3\n",
      "before if 0 2\n",
      "in loop idx, m 1 8\n",
      "expr after group like terms 1 + a + A + 0 + b + B + C + c + 1 + 3 + A\n",
      "new dict {'Lit': [[0, 1], [3, 0], [8, 1], [9, 3]], a: [[1, 1]], A: [[2, 1], [10, 1]], b: [[4, 1]], B: [[5, 1]], C: [[6, 1]], c: [[7, 1]]}\n",
      "place 0\n",
      "in if 0 3\n",
      "swap values 1 3\n",
      "{1 in Reals , 3 in Reals , 0 in Reals , a in Reals , A in Reals , b in Reals , B in Reals , c in Reals , C in Reals} |= (1 + a + A + 0 + b + B + C + c + 1 + 3 + A) = (1 + 0 + A + a + b + B + C + c + 1 + 3 + A)\n",
      "n, length 0 10\n",
      "n, length 1 11\n",
      "n, length 2 11\n",
      "n, length 3 11\n",
      "n, length 4 11\n",
      "n, length 5 11\n",
      "n, length 6 11\n",
      "n, length 7 11\n",
      "n, length 8 11\n",
      "n, length 9 11\n",
      "n, length 10 11\n",
      "new dict after swap {'Lit': [[0, 1], [1, 0], [8, 1], [9, 3]], A: [[2, 1], [10, 1]], a: [[3, 1]], b: [[4, 1]], B: [[5, 1]], C: [[6, 1]], c: [[7, 1]]}\n",
      "looping again 0 [[0, 1], [1, 0], [8, 1], [9, 3]]\n",
      "in loop, place, item, size (place < size) 1 [3, 0] 3\n",
      "before if 1 7\n",
      "in loop idx, m 1 0\n",
      "self, beg, end 1 + 0 + A + a + b + B + C + c + 1 + 3 + A 0 1\n",
      "in loop idx, m 1 7\n",
      "expr after group like terms (1 + 0) + A + a + b + B + C + c + 1 + 3 + A\n",
      "new dict {'Lit': [[0, [(1 , 0)]], [7, 1], [8, 3]], A: [[1, 1], [9, 1]], a: [[2, 1]], b: [[3, 1]], B: [[4, 1]], C: [[5, 1]], c: [[6, 1]]}\n",
      "place 0\n",
      "in if 0 7\n",
      "swap values 1 7\n",
      "{1 in Reals , 3 in Reals , 0 in Reals , a in Reals , A in Reals , b in Reals , B in Reals , c in Reals , C in Reals} |= ((1 + 0) + A + a + b + B + C + c + 1 + 3 + A) = ((1 + 0) + 1 + a + b + B + C + c + A + 3 + A)\n",
      "n, length 0 9\n",
      "to ungroup\n",
      "new expr 1 + 0 + 1 + a + b + B + C + c + A + 3 + A\n",
      "n, length 1 11\n",
      "n, length 2 11\n",
      "n, length 3 11\n",
      "n, length 4 11\n",
      "n, length 5 11\n",
      "n, length 6 11\n",
      "n, length 7 11\n",
      "n, length 8 11\n",
      "n, length 9 11\n",
      "n, length 10 11\n",
      "new dict after swap {'Lit': [[0, 1], [1, 0], [2, 1], [9, 3]], a: [[3, 1]], b: [[4, 1]], B: [[5, 1]], C: [[6, 1]], c: [[7, 1]], A: [[8, 1], [10, 1]]}\n",
      "looping again 1 [[0, 1], [1, 0], [2, 1], [9, 3]]\n",
      "in loop, place, item, size (place < size) 2 [8, 1] 3\n",
      "before if 2 8\n",
      "in loop idx, m 1 0\n",
      "in loop idx, m 2 0\n",
      "self, beg, end 1 + 0 + 1 + a + b + B + C + c + A + 3 + A 0 2\n",
      "expr after group like terms (1 + 0 + 1) + a + b + B + C + c + A + 3 + A\n",
      "new dict {'Lit': [[0, [(1 , 0 , 1)]], [7, 3]], a: [[1, 1]], b: [[2, 1]], B: [[3, 1]], C: [[4, 1]], c: [[5, 1]], A: [[6, 1], [8, 1]]}\n",
      "place 0\n",
      "in if 0 7\n",
      "swap values 1 7\n",
      "{1 in Reals , 3 in Reals , 0 in Reals , a in Reals , A in Reals , b in Reals , B in Reals , c in Reals , C in Reals} |= ((1 + 0 + 1) + a + b + B + C + c + A + 3 + A) = ((1 + 0 + 1) + 3 + b + B + C + c + A + a + A)\n",
      "n, length 0 8\n",
      "to ungroup\n",
      "new expr 1 + 0 + 1 + 3 + b + B + C + c + A + a + A\n",
      "n, length 1 11\n",
      "n, length 2 11\n",
      "n, length 3 11\n",
      "n, length 4 11\n",
      "n, length 5 11\n",
      "n, length 6 11\n",
      "n, length 7 11\n",
      "n, length 8 11\n",
      "n, length 9 11\n",
      "n, length 10 11\n",
      "new dict after swap {'Lit': [[0, 1], [1, 0], [2, 1], [3, 3]], b: [[4, 1]], B: [[5, 1]], C: [[6, 1]], c: [[7, 1]], A: [[8, 1], [10, 1]], a: [[9, 1]]}\n",
      "looping again 2 [[0, 1], [1, 0], [2, 1], [3, 3]]\n",
      "in loop, place, item, size (place < size) 3 [9, 3] 3\n",
      "looping again 3 [[0, 1], [1, 0], [2, 1], [3, 3]]\n",
      "before loop [[9, 1]] a\n",
      "in loop, place, item, size (place < size) 0 [9, 1] 0\n",
      "looping again 0 [[9, 1]]\n",
      "before loop [[8, 1], [10, 1]] A\n",
      "in loop, place, item, size (place < size) 0 [8, 1] 1\n",
      "before if 8 9\n",
      "in loop idx, m 1 0\n",
      "in loop idx, m 2 0\n",
      "in loop idx, m 3 0\n",
      "self, beg, end 1 + 0 + 1 + 3 + b + B + C + c + A + a + A 0 3\n",
      "expr after group like terms (1 + 0 + 1 + 3) + b + B + C + c + A + a + A\n",
      "new dict {'Lit': [[0, [(1 , 0 , 1 , 3)]]], b: [[1, 1]], B: [[2, 1]], C: [[3, 1]], c: [[4, 1]], A: [[5, 1], [7, 1]], a: [[6, 1]]}\n",
      "place 0\n",
      "in if 5 7\n",
      "swap values 6 7\n",
      "{1 in Reals , 3 in Reals , 0 in Reals , a in Reals , A in Reals , b in Reals , B in Reals , c in Reals , C in Reals} |= ((1 + 0 + 1 + 3) + b + B + C + c + A + a + A) = ((1 + 0 + 1 + 3) + b + B + C + c + A + A + a)\n",
      "n, length 0 7\n",
      "to ungroup\n",
      "new expr 1 + 0 + 1 + 3 + b + B + C + c + A + A + a\n",
      "n, length 1 11\n",
      "n, length 2 11\n",
      "n, length 3 11\n",
      "n, length 4 11\n",
      "n, length 5 11\n",
      "n, length 6 11\n",
      "n, length 7 11\n",
      "n, length 8 11\n",
      "n, length 9 11\n",
      "n, length 10 11\n",
      "new dict after swap {'Lit': [[0, 1], [1, 0], [2, 1], [3, 3]], b: [[4, 1]], B: [[5, 1]], C: [[6, 1]], c: [[7, 1]], A: [[8, 1], [9, 1]], a: [[10, 1]]}\n",
      "looping again 0 [[8, 1], [9, 1]]\n",
      "in loop, place, item, size (place < size) 1 [10, 1] 1\n",
      "looping again 1 [[8, 1], [9, 1]]\n",
      "before loop [[4, 1]] b\n",
      "in loop, place, item, size (place < size) 0 [4, 1] 0\n",
      "looping again 0 [[4, 1]]\n",
      "before loop [[5, 1]] B\n",
      "in loop, place, item, size (place < size) 0 [5, 1] 0\n",
      "looping again 0 [[5, 1]]\n",
      "before loop [[6, 1]] C\n",
      "in loop, place, item, size (place < size) 0 [6, 1] 0\n",
      "looping again 0 [[6, 1]]\n",
      "before loop [[7, 1]] c\n",
      "in loop, place, item, size (place < size) 0 [7, 1] 0\n",
      "looping again 0 [[7, 1]]\n"
     ]
    },
    {
     "data": {
      "text/html": [
       "<span style=\"font-size:20px;\"><a class=\"ProveItLink\" href=\"__pv_it/4217e8cc8bfe3b304e6e714e0ca7bf0518879af60/expr.ipynb\"><img src=\"__pv_it/4217e8cc8bfe3b304e6e714e0ca7bf0518879af60/expr.png\" style=\"display:inline;vertical-align:middle;\" /></a> &#x22A2;&nbsp;<a class=\"ProveItLink\" href=\"__pv_it/99d21493d3df122bae5f2d7938920e74c92b3f200/expr.ipynb\"><img src=\"__pv_it/99d21493d3df122bae5f2d7938920e74c92b3f200/expr.png\" style=\"display:inline;vertical-align:middle;\" /></a></span>"
      ],
      "text/plain": [
       "{1 in Reals , 3 in Reals , 0 in Reals , a in Reals , A in Reals , b in Reals , B in Reals , c in Reals , C in Reals} |= (1 + a + A + 0 + b + B + C + c + 1 + 3 + A) = (1 + 0 + 1 + 3 + b + B + C + c + A + A + a)"
      ]
     },
     "execution_count": 3,
     "metadata": {},
     "output_type": "execute_result"
    }
   ],
   "source": [
    "Add(one, a, A, zero, b, B, C, c, one, three, A).simplifications([InSet(one, Reals), InSet(three, Reals), InSet(zero, Reals), InSet(a, Reals), InSet(A, Reals), InSet(b, Reals), InSet(B, Reals), InSet(c, Reals), InSet(C, Reals)])"
   ]
  },
  {
   "cell_type": "code",
   "execution_count": 4,
   "metadata": {},
   "outputs": [],
   "source": [
    "#Add(a, one, two , c, b, a, zero, b, c, c, three).groupLikeTerms([InSet(a, Reals), InSet(b, Reals), InSet(c, Reals), InSet(one, Reals), InSet(two, Reals)])"
   ]
  },
  {
   "cell_type": "code",
   "execution_count": 5,
   "metadata": {},
   "outputs": [
    {
     "data": {
      "text/html": [
       "<span style=\"font-size:20px;\"> &#x22A2;&nbsp;<a class=\"ProveItLink\" href=\"../numeral/deci/__pv_it/5c0392a5de448a660d9cd1bf28f136227f8701e90/expr.ipynb\"><img src=\"../numeral/deci/__pv_it/5c0392a5de448a660d9cd1bf28f136227f8701e90/expr.png\" style=\"display:inline;vertical-align:middle;\" /></a></span>"
      ],
      "text/plain": [
       "|= (1 + 2) = 3"
      ]
     },
     "execution_count": 5,
     "metadata": {},
     "output_type": "execute_result"
    }
   ],
   "source": [
    "Add(one, two).simplification()"
   ]
  },
  {
   "cell_type": "code",
   "execution_count": 6,
   "metadata": {},
   "outputs": [
    {
     "name": "stdout",
     "output_type": "stream",
     "text": [
      "n, length 0 2\n",
      "n, length 1 3\n",
      "n, length 2 3\n",
      "expr after initial ungroup a + 1 + a\n",
      "before loop [[1, 1]] Lit\n",
      "in loop, place, item, size (place < size) 0 [1, 1] 0\n",
      "looping again 0 [[1, 1]]\n",
      "before loop [[0, 1], [2, 1]] a\n",
      "in loop, place, item, size (place < size) 0 [0, 1] 1\n",
      "before if 0 1\n",
      "expr after group like terms a + 1 + a\n",
      "new dict {'Lit': [[1, 1]], a: [[0, 1], [2, 1]]}\n",
      "place 0\n",
      "in if 0 2\n",
      "swap values 1 2\n",
      "{a in Reals , 1 in Reals} |= (a + 1 + a) = (a + a + 1)\n",
      "n, length 0 2\n",
      "n, length 1 3\n",
      "n, length 2 3\n",
      "new dict after swap {'Lit': [[2, 1]], a: [[0, 1], [1, 1]]}\n",
      "looping again 0 [[0, 1], [1, 1]]\n",
      "in loop, place, item, size (place < size) 1 [2, 1] 1\n",
      "looping again 1 [[0, 1], [1, 1]]\n"
     ]
    },
    {
     "data": {
      "text/html": [
       "<span style=\"font-size:20px;\"><a class=\"ProveItLink\" href=\"__pv_it/889e3da18b4a630b7e79ae99a6c27af6b472014a0/expr.ipynb\"><img src=\"__pv_it/889e3da18b4a630b7e79ae99a6c27af6b472014a0/expr.png\" style=\"display:inline;vertical-align:middle;\" /></a> &#x22A2;&nbsp;<a class=\"ProveItLink\" href=\"__pv_it/b8323fe8d68f6d9d06b987701707ac430fbd61ba0/expr.ipynb\"><img src=\"__pv_it/b8323fe8d68f6d9d06b987701707ac430fbd61ba0/expr.png\" style=\"display:inline;vertical-align:middle;\" /></a></span>"
      ],
      "text/plain": [
       "{a in Reals , 1 in Reals} |= (a + 1 + a) = (a + a + 1)"
      ]
     },
     "execution_count": 6,
     "metadata": {},
     "output_type": "execute_result"
    }
   ],
   "source": [
    "Add(a, one, a).simplifications([InSet(a, Reals), InSet(one, Reals)])"
   ]
  },
  {
   "cell_type": "code",
   "execution_count": 7,
   "metadata": {},
   "outputs": [
    {
     "name": "stdout",
     "output_type": "stream",
     "text": [
      "n, length 0 6\n",
      "n, length 1 7\n",
      "n, length 2 7\n",
      "n, length 3 7\n",
      "n, length 4 7\n",
      "n, length 5 7\n",
      "n, length 6 7\n",
      "expr after initial ungroup 1 + c + 2 + 3 + c + 1 + c\n",
      "before loop [[0, 1], [2, 2], [3, 3], [5, 1]] Lit\n",
      "in loop, place, item, size (place < size) 0 [0, 1] 3\n",
      "before if 0 1\n",
      "in loop idx, m 1 2\n",
      "self, beg, end 1 + c + 2 + 3 + c + 1 + c 2 3\n",
      "expr after group like terms 1 + c + (2 + 3) + c + 1 + c\n",
      "new dict {'Lit': [[0, 1], [2, [(2 , 3)]], [4, 1]], c: [[1, 1], [3, 1], [5, 1]]}\n",
      "place 0\n",
      "in if 0 2\n",
      "swap values 1 2\n",
      "{c in Reals , 1 in Reals , 2 in Reals} |= (1 + c + (2 + 3) + c + 1 + c) = (1 + (2 + 3) + c + c + 1 + c)\n",
      "n, length 0 5\n",
      "n, length 1 6\n",
      "to ungroup\n",
      "new expr 1 + 2 + 3 + c + c + 1 + c\n",
      "n, length 2 7\n",
      "n, length 3 7\n",
      "n, length 4 7\n",
      "n, length 5 7\n",
      "n, length 6 7\n",
      "new dict after swap {'Lit': [[0, 1], [1, 2], [2, 3], [5, 1]], c: [[3, 1], [4, 1], [6, 1]]}\n",
      "looping again 0 [[0, 1], [1, 2], [2, 3], [5, 1]]\n",
      "in loop, place, item, size (place < size) 1 [2, 2] 3\n",
      "before if 1 1\n",
      "looping again 1 [[0, 1], [1, 2], [2, 3], [5, 1]]\n",
      "in loop, place, item, size (place < size) 2 [3, 3] 3\n",
      "before if 2 4\n",
      "in loop idx, m 1 0\n",
      "in loop idx, m 2 0\n",
      "self, beg, end 1 + 2 + 3 + c + c + 1 + c 0 2\n",
      "in loop idx, m 1 1\n",
      "self, beg, end (1 + 2 + 3) + c + c + 1 + c 1 2\n",
      "expr after group like terms (1 + 2 + 3) + (c + c) + 1 + c\n",
      "new dict {'Lit': [[0, [(1 , 2 , 3)]], [2, 1]], c: [[1, 2], [3, 1]]}\n",
      "place 0\n",
      "in if 0 2\n",
      "swap values 1 2\n",
      "{c in Reals , 1 in Reals , 2 in Reals} |= ((1 + 2 + 3) + (c + c) + 1 + c) = ((1 + 2 + 3) + 1 + (c + c) + c)\n",
      "n, length 0 3\n",
      "to ungroup\n",
      "new expr 1 + 2 + 3 + 1 + (c + c) + c\n",
      "n, length 1 6\n",
      "n, length 2 6\n",
      "n, length 3 6\n",
      "n, length 4 6\n",
      "to ungroup\n",
      "new expr 1 + 2 + 3 + 1 + c + c + c\n",
      "n, length 5 7\n",
      "n, length 6 7\n",
      "new dict after swap {'Lit': [[0, 1], [1, 2], [2, 3], [3, 1]], c: [[4, 1], [5, 1], [6, 1]]}\n",
      "looping again 2 [[0, 1], [1, 2], [2, 3], [3, 1]]\n",
      "in loop, place, item, size (place < size) 3 [5, 1] 3\n",
      "looping again 3 [[0, 1], [1, 2], [2, 3], [3, 1]]\n",
      "before loop [[4, 1], [5, 1], [6, 1]] c\n",
      "in loop, place, item, size (place < size) 0 [4, 1] 2\n",
      "before if 4 4\n",
      "looping again 0 [[4, 1], [5, 1], [6, 1]]\n",
      "in loop, place, item, size (place < size) 1 [5, 1] 2\n",
      "before if 5 5\n",
      "looping again 1 [[4, 1], [5, 1], [6, 1]]\n",
      "in loop, place, item, size (place < size) 2 [6, 1] 2\n",
      "looping again 2 [[4, 1], [5, 1], [6, 1]]\n"
     ]
    },
    {
     "data": {
      "text/html": [
       "<span style=\"font-size:20px;\"><a class=\"ProveItLink\" href=\"__pv_it/38d662f6fac54d65b14343a51cbd3c0ea52f151c0/expr.ipynb\"><img src=\"__pv_it/38d662f6fac54d65b14343a51cbd3c0ea52f151c0/expr.png\" style=\"display:inline;vertical-align:middle;\" /></a> &#x22A2;&nbsp;<a class=\"ProveItLink\" href=\"__pv_it/a92804276b29b4f29ff6d62cb61fe4ab33d738d80/expr.ipynb\"><img src=\"__pv_it/a92804276b29b4f29ff6d62cb61fe4ab33d738d80/expr.png\" style=\"display:inline;vertical-align:middle;\" /></a></span>"
      ],
      "text/plain": [
       "{c in Reals , 1 in Reals , 2 in Reals} |= (1 + c + 2 + 3 + c + 1 + c) = (1 + 2 + 3 + 1 + c + c + c)"
      ]
     },
     "execution_count": 7,
     "metadata": {},
     "output_type": "execute_result"
    }
   ],
   "source": [
    "Add(one, c, two, three, c, one,c).simplifications([InSet(a, Reals), InSet(b, Reals), InSet(c, Reals), InSet(one, Reals), InSet(two, Reals)])"
   ]
  },
  {
   "cell_type": "code",
   "execution_count": 8,
   "metadata": {},
   "outputs": [
    {
     "name": "stdout",
     "output_type": "stream",
     "text": [
      "n, length 0 10\n",
      "n, length 1 11\n",
      "n, length 2 11\n",
      "n, length 3 11\n",
      "n, length 4 11\n",
      "n, length 5 11\n",
      "n, length 6 11\n",
      "n, length 7 11\n",
      "n, length 8 11\n",
      "n, length 9 11\n",
      "n, length 10 11\n",
      "expr after initial ungroup a + 1 + 2 + c + b + a + 0 + b + c + c + 3\n",
      "before loop [[1, 1], [2, 2], [6, 0], [10, 3]] Lit\n",
      "in loop, place, item, size (place < size) 0 [1, 1] 3\n",
      "before if 1 1\n",
      "looping again 0 [[1, 1], [2, 2], [6, 0], [10, 3]]\n",
      "in loop, place, item, size (place < size) 1 [2, 2] 3\n",
      "before if 2 5\n",
      "in loop idx, m 1 1\n",
      "self, beg, end a + 1 + 2 + c + b + a + 0 + b + c + c + 3 1 2\n",
      "in loop idx, m 1 7\n",
      "expr after group like terms a + (1 + 2) + c + b + a + 0 + b + c + c + 3\n",
      "new dict {'Lit': [[1, [(1 , 2)]], [5, 0], [9, 3]], a: [[0, 1], [4, 1]], c: [[2, 1], [7, 1], [8, 1]], b: [[3, 1], [6, 1]]}\n",
      "place 0\n",
      "in if 1 5\n",
      "swap values 2 5\n",
      "{a in Reals , b in Reals , c in Reals , 1 in Reals , 2 in Reals} |= (a + (1 + 2) + c + b + a + 0 + b + c + c + 3) = (a + (1 + 2) + 0 + b + a + c + b + c + c + 3)\n",
      "n, length 0 9\n",
      "n, length 1 10\n",
      "to ungroup\n",
      "new expr a + 1 + 2 + 0 + b + a + c + b + c + c + 3\n",
      "n, length 2 11\n",
      "n, length 3 11\n",
      "n, length 4 11\n",
      "n, length 5 11\n",
      "n, length 6 11\n",
      "n, length 7 11\n",
      "n, length 8 11\n",
      "n, length 9 11\n",
      "n, length 10 11\n",
      "new dict after swap {'Lit': [[1, 1], [2, 2], [3, 0], [10, 3]], a: [[0, 1], [5, 1]], b: [[4, 1], [7, 1]], c: [[6, 1], [8, 1], [9, 1]]}\n",
      "looping again 1 [[1, 1], [2, 2], [3, 0], [10, 3]]\n",
      "in loop, place, item, size (place < size) 2 [6, 0] 3\n",
      "before if 3 9\n",
      "in loop idx, m 1 1\n",
      "in loop idx, m 2 1\n",
      "self, beg, end a + 1 + 2 + 0 + b + a + c + b + c + c + 3 1 3\n",
      "in loop idx, m 1 6\n",
      "expr after group like terms a + (1 + 2 + 0) + b + a + c + b + c + c + 3\n",
      "new dict {'Lit': [[1, [(1 , 2 , 0)]], [8, 3]], a: [[0, 1], [3, 1]], b: [[2, 1], [5, 1]], c: [[4, 1], [6, 1], [7, 1]]}\n",
      "place 0\n",
      "in if 1 8\n",
      "swap values 2 8\n",
      "{a in Reals , b in Reals , c in Reals , 1 in Reals , 2 in Reals} |= (a + (1 + 2 + 0) + b + a + c + b + c + c + 3) = (a + (1 + 2 + 0) + 3 + a + c + b + c + c + b)\n",
      "n, length 0 8\n",
      "n, length 1 9\n",
      "to ungroup\n",
      "new expr a + 1 + 2 + 0 + 3 + a + c + b + c + c + b\n",
      "n, length 2 11\n",
      "n, length 3 11\n",
      "n, length 4 11\n",
      "n, length 5 11\n",
      "n, length 6 11\n",
      "n, length 7 11\n",
      "n, length 8 11\n",
      "n, length 9 11\n",
      "n, length 10 11\n",
      "new dict after swap {'Lit': [[1, 1], [2, 2], [3, 0], [4, 3]], a: [[0, 1], [5, 1]], c: [[6, 1], [8, 1], [9, 1]], b: [[7, 1], [10, 1]]}\n",
      "looping again 2 [[1, 1], [2, 2], [3, 0], [4, 3]]\n",
      "in loop, place, item, size (place < size) 3 [10, 3] 3\n",
      "looping again 3 [[1, 1], [2, 2], [3, 0], [4, 3]]\n",
      "before loop [[0, 1], [5, 1]] a\n",
      "in loop, place, item, size (place < size) 0 [0, 1] 1\n",
      "before if 0 4\n",
      "in loop idx, m 1 1\n",
      "in loop idx, m 2 1\n",
      "in loop idx, m 3 1\n",
      "self, beg, end a + 1 + 2 + 0 + 3 + a + c + b + c + c + b 1 4\n",
      "in loop idx, m 1 5\n",
      "expr after group like terms a + (1 + 2 + 0 + 3) + a + c + b + c + c + b\n",
      "new dict {'Lit': [[1, [(1 , 2 , 0 , 3)]]], a: [[0, 1], [2, 1]], c: [[3, 1], [5, 1], [6, 1]], b: [[4, 1], [7, 1]]}\n",
      "place 0\n",
      "in if 0 2\n",
      "swap values 1 2\n",
      "{a in Reals , b in Reals , c in Reals , 1 in Reals , 2 in Reals} |= (a + (1 + 2 + 0 + 3) + a + c + b + c + c + b) = (a + a + (1 + 2 + 0 + 3) + c + b + c + c + b)\n",
      "n, length 0 7\n",
      "n, length 1 8\n",
      "n, length 2 8\n",
      "to ungroup\n",
      "new expr a + a + 1 + 2 + 0 + 3 + c + b + c + c + b\n",
      "n, length 3 11\n",
      "n, length 4 11\n",
      "n, length 5 11\n",
      "n, length 6 11\n",
      "n, length 7 11\n",
      "n, length 8 11\n",
      "n, length 9 11\n",
      "n, length 10 11\n",
      "new dict after swap {'Lit': [[2, 1], [3, 2], [4, 0], [5, 3]], a: [[0, 1], [1, 1]], c: [[6, 1], [8, 1], [9, 1]], b: [[7, 1], [10, 1]]}\n",
      "looping again 0 [[0, 1], [1, 1]]\n",
      "in loop, place, item, size (place < size) 1 [5, 1] 1\n",
      "looping again 1 [[0, 1], [1, 1]]\n",
      "before loop [[6, 1], [8, 1], [9, 1]] c\n",
      "in loop, place, item, size (place < size) 0 [6, 1] 2\n",
      "before if 6 7\n",
      "in loop idx, m 1 0\n",
      "self, beg, end a + a + 1 + 2 + 0 + 3 + c + b + c + c + b 0 1\n",
      "in loop idx, m 1 1\n",
      "in loop idx, m 2 1\n",
      "in loop idx, m 3 1\n",
      "self, beg, end (a + a) + 1 + 2 + 0 + 3 + c + b + c + c + b 1 4\n",
      "in loop idx, m 1 4\n",
      "expr after group like terms (a + a) + (1 + 2 + 0 + 3) + c + b + c + c + b\n",
      "new dict {'Lit': [[1, [(1 , 2 , 0 , 3)]]], a: [[0, 2]], c: [[2, 1], [4, 1], [5, 1]], b: [[3, 1], [6, 1]]}\n",
      "place 0\n",
      "in if 2 4\n",
      "swap values 3 4\n",
      "{a in Reals , b in Reals , c in Reals , 1 in Reals , 2 in Reals} |= ((a + a) + (1 + 2 + 0 + 3) + c + b + c + c + b) = ((a + a) + (1 + 2 + 0 + 3) + c + c + b + c + b)\n",
      "n, length 0 6\n",
      "to ungroup\n",
      "new expr a + a + (1 + 2 + 0 + 3) + c + c + b + c + b\n",
      "n, length 1 8\n",
      "n, length 2 8\n",
      "to ungroup\n",
      "new expr a + a + 1 + 2 + 0 + 3 + c + c + b + c + b\n",
      "n, length 3 11\n",
      "n, length 4 11\n",
      "n, length 5 11\n",
      "n, length 6 11\n",
      "n, length 7 11\n",
      "n, length 8 11\n",
      "n, length 9 11\n",
      "n, length 10 11\n",
      "new dict after swap {'Lit': [[2, 1], [3, 2], [4, 0], [5, 3]], a: [[0, 1], [1, 1]], c: [[6, 1], [7, 1], [9, 1]], b: [[8, 1], [10, 1]]}\n",
      "looping again 0 [[6, 1], [7, 1], [9, 1]]\n",
      "in loop, place, item, size (place < size) 1 [8, 1] 2\n",
      "before if 7 8\n",
      "in loop idx, m 1 0\n",
      "self, beg, end a + a + 1 + 2 + 0 + 3 + c + c + b + c + b 0 1\n",
      "in loop idx, m 1 1\n",
      "in loop idx, m 2 1\n",
      "in loop idx, m 3 1\n",
      "self, beg, end (a + a) + 1 + 2 + 0 + 3 + c + c + b + c + b 1 4\n",
      "in loop idx, m 1 2\n",
      "self, beg, end (a + a) + (1 + 2 + 0 + 3) + c + c + b + c + b 2 3\n",
      "expr after group like terms (a + a) + (1 + 2 + 0 + 3) + (c + c) + b + c + b\n",
      "new dict {'Lit': [[1, [(1 , 2 , 0 , 3)]]], a: [[0, 2]], c: [[2, 2], [4, 1]], b: [[3, 1], [5, 1]]}\n",
      "place 0\n",
      "in if 2 4\n",
      "swap values 3 4\n",
      "{a in Reals , b in Reals , c in Reals , 1 in Reals , 2 in Reals} |= ((a + a) + (1 + 2 + 0 + 3) + (c + c) + b + c + b) = ((a + a) + (1 + 2 + 0 + 3) + (c + c) + c + b + b)\n",
      "n, length 0 5\n",
      "to ungroup\n",
      "new expr a + a + (1 + 2 + 0 + 3) + (c + c) + c + b + b\n",
      "n, length 1 7\n",
      "n, length 2 7\n",
      "to ungroup\n",
      "new expr a + a + 1 + 2 + 0 + 3 + (c + c) + c + b + b\n",
      "n, length 3 10\n",
      "n, length 4 10\n",
      "n, length 5 10\n",
      "n, length 6 10\n",
      "to ungroup\n",
      "new expr a + a + 1 + 2 + 0 + 3 + c + c + c + b + b\n",
      "n, length 7 11\n",
      "n, length 8 11\n",
      "n, length 9 11\n",
      "n, length 10 11\n",
      "new dict after swap {'Lit': [[2, 1], [3, 2], [4, 0], [5, 3]], a: [[0, 1], [1, 1]], c: [[6, 1], [7, 1], [8, 1]], b: [[9, 1], [10, 1]]}\n",
      "looping again 1 [[6, 1], [7, 1], [8, 1]]\n",
      "in loop, place, item, size (place < size) 2 [9, 1] 2\n",
      "looping again 2 [[6, 1], [7, 1], [8, 1]]\n",
      "before loop [[9, 1], [10, 1]] b\n",
      "in loop, place, item, size (place < size) 0 [9, 1] 1\n",
      "before if 9 9\n",
      "looping again 0 [[9, 1], [10, 1]]\n",
      "in loop, place, item, size (place < size) 1 [10, 1] 1\n",
      "looping again 1 [[9, 1], [10, 1]]\n"
     ]
    },
    {
     "data": {
      "text/html": [
       "<span style=\"font-size:20px;\"><a class=\"ProveItLink\" href=\"__pv_it/5c3794e3e5f08a5e518480f690580f45b8200fee0/expr.ipynb\"><img src=\"__pv_it/5c3794e3e5f08a5e518480f690580f45b8200fee0/expr.png\" style=\"display:inline;vertical-align:middle;\" /></a> &#x22A2;&nbsp;<a class=\"ProveItLink\" href=\"__pv_it/f7d599f781d63c9b0b219d3de9d9aa117630df6a0/expr.ipynb\"><img src=\"__pv_it/f7d599f781d63c9b0b219d3de9d9aa117630df6a0/expr.png\" style=\"display:inline;vertical-align:middle;\" /></a></span>"
      ],
      "text/plain": [
       "{a in Reals , b in Reals , c in Reals , 1 in Reals , 2 in Reals} |= (a + 1 + 2 + c + b + a + 0 + b + c + c + 3) = (a + a + 1 + 2 + 0 + 3 + c + c + c + b + b)"
      ]
     },
     "execution_count": 8,
     "metadata": {},
     "output_type": "execute_result"
    }
   ],
   "source": [
    "Add(a, one, two , c, b, a, zero, b, c, c, three).simplifications([InSet(a, Reals), InSet(b, Reals), InSet(c, Reals), InSet(one, Reals), InSet(two, Reals)])"
   ]
  },
  {
   "cell_type": "code",
   "execution_count": null,
   "metadata": {},
   "outputs": [],
   "source": []
  },
  {
   "cell_type": "code",
   "execution_count": 9,
   "metadata": {},
   "outputs": [
    {
     "data": {
      "text/html": [
       "<table><tr><th>&nbsp;</th><th>step type</th><th>requirements</th><th>statement</th></tr>\n",
       "<tr><td>0</td><td>specialization</td><td>1, 2, 3</td><td><span style=\"font-size:20px;\"><a class=\"ProveItLink\" href=\"__pv_it/2366c39e1529e74120ac3e237c042b1ed13345060/expr.ipynb\"><img src=\"__pv_it/2366c39e1529e74120ac3e237c042b1ed13345060/expr.png\" style=\"display:inline;vertical-align:middle;\" /></a> &#x22A2;&nbsp;<a class=\"ProveItLink\" href=\"__pv_it/fa17e950d2148d79cefc25ea105245b8788aaf8c0/expr.ipynb\"><img src=\"__pv_it/fa17e950d2148d79cefc25ea105245b8788aaf8c0/expr.png\" style=\"display:inline;vertical-align:middle;\" /></a></span></td></tr>\n",
       "<tr><td>&nbsp;</td><td colspan=4 style=\"text-align:left\"><span style=\"font-size:20px;\"><a class=\"ProveItLink\" href=\"../../__pv_it/07527342713064c87612d00d8557c53d53d5324a0/expr.ipynb\"><img src=\"../../__pv_it/07527342713064c87612d00d8557c53d53d5324a0/expr.png\" style=\"display:inline;vertical-align:middle;\" /></a> : <a class=\"ProveItLink\" href=\"../../__pv_it/07527342713064c87612d00d8557c53d53d5324a0/expr.ipynb\"><img src=\"../../__pv_it/07527342713064c87612d00d8557c53d53d5324a0/expr.png\" style=\"display:inline;vertical-align:middle;\" /></a>, <a class=\"ProveItLink\" href=\"../../__pv_it/6840a4fa6c106149dc16a131294d0c5e44f1b0480/expr.ipynb\"><img src=\"../../__pv_it/6840a4fa6c106149dc16a131294d0c5e44f1b0480/expr.png\" style=\"display:inline;vertical-align:middle;\" /></a> : <a class=\"ProveItLink\" href=\"../../__pv_it/6840a4fa6c106149dc16a131294d0c5e44f1b0480/expr.ipynb\"><img src=\"../../__pv_it/6840a4fa6c106149dc16a131294d0c5e44f1b0480/expr.png\" style=\"display:inline;vertical-align:middle;\" /></a></span></td></tr><tr><td>1</td><td>theorem</td><td></td><td><span style=\"font-size:20px;\"> &#x22A2;&nbsp;<a class=\"ProveItLink\" href=\"__pv_it/916c1ce9ce58f3a97af0d16bd29d95e83847df4c0/expr.ipynb\"><img src=\"__pv_it/916c1ce9ce58f3a97af0d16bd29d95e83847df4c0/expr.png\" style=\"display:inline;vertical-align:middle;\" /></a></span></td></tr>\n",
       "<tr><td>&nbsp;</td><td colspan=4 style-\"text-align:left\"><a class=\"ProveItLink\" href=\"_proofs_/addIntClosureBin.ipynb\">proveit.number.addition.addIntClosureBin</a></td></tr><tr><td>2</td><td>assumption</td><td></td><td><span style=\"font-size:20px;\"><a class=\"ProveItLink\" href=\"__pv_it/43906cf4eb0e869c5be725b12c64e98edef90cb40/expr.ipynb\"><img src=\"__pv_it/43906cf4eb0e869c5be725b12c64e98edef90cb40/expr.png\" style=\"display:inline;vertical-align:middle;\" /></a> &#x22A2;&nbsp;<a class=\"ProveItLink\" href=\"__pv_it/b12b8f9f2444f20104744de832d99401b2367a1e0/expr.ipynb\"><img src=\"__pv_it/b12b8f9f2444f20104744de832d99401b2367a1e0/expr.png\" style=\"display:inline;vertical-align:middle;\" /></a></span></td></tr>\n",
       "<tr><td>3</td><td>assumption</td><td></td><td><span style=\"font-size:20px;\"><a class=\"ProveItLink\" href=\"__pv_it/fa06dc3f19a980abd9dcf07dc3f2aa17a5e1bd570/expr.ipynb\"><img src=\"__pv_it/fa06dc3f19a980abd9dcf07dc3f2aa17a5e1bd570/expr.png\" style=\"display:inline;vertical-align:middle;\" /></a> &#x22A2;&nbsp;<a class=\"ProveItLink\" href=\"__pv_it/5d3609c46dbb309940be2bfe5226c1971d4c18a20/expr.ipynb\"><img src=\"__pv_it/5d3609c46dbb309940be2bfe5226c1971d4c18a20/expr.png\" style=\"display:inline;vertical-align:middle;\" /></a></span></td></tr>\n",
       "</table>"
      ],
      "text/plain": [
       "\tstep type\trequirements\tstatement\n",
       "0\tspecialization\t1, 2, 3\t{a in Integers , b in Integers} |= (a + b) in Integers\n",
       "\ta : a, b : b\n",
       "1\ttheorem\t\t|= forall_{a, b in Integers} ((a + b) in Integers)\n",
       "\tproveit.number.addition.addIntClosureBin\n",
       "2\tassumption\t\t{a in Integers} |= a in Integers\n",
       "3\tassumption\t\t{b in Integers} |= b in Integers"
      ]
     },
     "execution_count": 9,
     "metadata": {},
     "output_type": "execute_result"
    }
   ],
   "source": [
    "Add(a,b).deduceInNumberSet(Integers, assumptions=[InSet(a, Integers), InSet(b,Integers)]).proof()"
   ]
  },
  {
   "cell_type": "code",
   "execution_count": 10,
   "metadata": {},
   "outputs": [
    {
     "data": {
      "text/html": [
       "<table><tr><th>&nbsp;</th><th>step type</th><th>requirements</th><th>statement</th></tr>\n",
       "<tr><td>0</td><td>specialization</td><td>1, 2, 3, 4, 5, 6</td><td><span style=\"font-size:20px;\"><a class=\"ProveItLink\" href=\"__pv_it/d58bd08f5b1d8f391bcf8471152472ceb6a733360/expr.ipynb\"><img src=\"__pv_it/d58bd08f5b1d8f391bcf8471152472ceb6a733360/expr.png\" style=\"display:inline;vertical-align:middle;\" /></a> &#x22A2;&nbsp;<a class=\"ProveItLink\" href=\"__pv_it/650215e2948cc9a4450f5eee58b070584cd9f4240/expr.ipynb\"><img src=\"__pv_it/650215e2948cc9a4450f5eee58b070584cd9f4240/expr.png\" style=\"display:inline;vertical-align:middle;\" /></a></span></td></tr>\n",
       "<tr><td>&nbsp;</td><td colspan=4 style=\"text-align:left\"><span style=\"font-size:20px;\"><a class=\"ProveItLink\" href=\"../../__pv_it/78af03acba5349fd70398a32ce59bae1da52f0870/expr.ipynb\"><img src=\"../../__pv_it/78af03acba5349fd70398a32ce59bae1da52f0870/expr.png\" style=\"display:inline;vertical-align:middle;\" /></a> : <a class=\"ProveItLink\" href=\"../numeral/__pv_it/23412ce59ea7e77353d2f9225e02248e73651ca00/expr.ipynb\"><img src=\"../numeral/__pv_it/23412ce59ea7e77353d2f9225e02248e73651ca00/expr.png\" style=\"display:inline;vertical-align:middle;\" /></a>, <a class=\"ProveItLink\" href=\"../../__pv_it/eb438fefc4bd0ac977777d6dfd3e8a72dfbedbd50/expr.ipynb\"><img src=\"../../__pv_it/eb438fefc4bd0ac977777d6dfd3e8a72dfbedbd50/expr.png\" style=\"display:inline;vertical-align:middle;\" /></a> : <a class=\"ProveItLink\" href=\"__pv_it/8119cab917fa6f13377ec3016b6ddc80a96181000/expr.ipynb\"><img src=\"__pv_it/8119cab917fa6f13377ec3016b6ddc80a96181000/expr.png\" style=\"display:inline;vertical-align:middle;\" /></a></span></td></tr><tr><td>1</td><td>theorem</td><td></td><td><span style=\"font-size:20px;\"> &#x22A2;&nbsp;<a class=\"ProveItLink\" href=\"__pv_it/89810b3db39294eb6e300c70600a7be65e8fd26d0/expr.ipynb\"><img src=\"__pv_it/89810b3db39294eb6e300c70600a7be65e8fd26d0/expr.png\" style=\"display:inline;vertical-align:middle;\" /></a></span></td></tr>\n",
       "<tr><td>&nbsp;</td><td colspan=4 style-\"text-align:left\"><a class=\"ProveItLink\" href=\"_proofs_/addIntClosure.ipynb\">proveit.number.addition.addIntClosure</a></td></tr><tr><td>2</td><td>theorem</td><td></td><td><span style=\"font-size:20px;\"> &#x22A2;&nbsp;<a class=\"ProveItLink\" href=\"../numeral/deci/__pv_it/3fc93db3b3fd1b15204240d9de18a48656bfb08c0/expr.ipynb\"><img src=\"../numeral/deci/__pv_it/3fc93db3b3fd1b15204240d9de18a48656bfb08c0/expr.png\" style=\"display:inline;vertical-align:middle;\" /></a></span></td></tr>\n",
       "<tr><td>&nbsp;</td><td colspan=4 style-\"text-align:left\"><a class=\"ProveItLink\" href=\"../numeral/deci/_proofs_/nat4.ipynb\">proveit.number.numeral.deci.nat4</a></td></tr><tr><td>3</td><td>specialization</td><td>7, 8, 9, 10, 11</td><td><span style=\"font-size:20px;\"><a class=\"ProveItLink\" href=\"__pv_it/d58bd08f5b1d8f391bcf8471152472ceb6a733360/expr.ipynb\"><img src=\"__pv_it/d58bd08f5b1d8f391bcf8471152472ceb6a733360/expr.png\" style=\"display:inline;vertical-align:middle;\" /></a> &#x22A2;&nbsp;<a class=\"ProveItLink\" href=\"__pv_it/97c4b5a472ad7f5d43f7df882739fbb6d2d5f2fe0/expr.ipynb\"><img src=\"__pv_it/97c4b5a472ad7f5d43f7df882739fbb6d2d5f2fe0/expr.png\" style=\"display:inline;vertical-align:middle;\" /></a></span></td></tr>\n",
       "<tr><td>&nbsp;</td><td colspan=4 style=\"text-align:left\"><span style=\"font-size:20px;\"><a class=\"ProveItLink\" href=\"../../__pv_it/abeee18594afe51bfb1be95d9591fbba24ac53f30/expr.ipynb\"><img src=\"../../__pv_it/abeee18594afe51bfb1be95d9591fbba24ac53f30/expr.png\" style=\"display:inline;vertical-align:middle;\" /></a> : <a class=\"ProveItLink\" href=\"../sets/integer/__pv_it/7b9e51516f347f625fa636d7bb440e96498977000/expr.ipynb\"><img src=\"../sets/integer/__pv_it/7b9e51516f347f625fa636d7bb440e96498977000/expr.png\" style=\"display:inline;vertical-align:middle;\" /></a>, <a class=\"ProveItLink\" href=\"../../__pv_it/07527342713064c87612d00d8557c53d53d5324a0/expr.ipynb\"><img src=\"../../__pv_it/07527342713064c87612d00d8557c53d53d5324a0/expr.png\" style=\"display:inline;vertical-align:middle;\" /></a> : <a class=\"ProveItLink\" href=\"../../__pv_it/07527342713064c87612d00d8557c53d53d5324a0/expr.ipynb\"><img src=\"../../__pv_it/07527342713064c87612d00d8557c53d53d5324a0/expr.png\" style=\"display:inline;vertical-align:middle;\" /></a>, <a class=\"ProveItLink\" href=\"../../__pv_it/6840a4fa6c106149dc16a131294d0c5e44f1b0480/expr.ipynb\"><img src=\"../../__pv_it/6840a4fa6c106149dc16a131294d0c5e44f1b0480/expr.png\" style=\"display:inline;vertical-align:middle;\" /></a> : <a class=\"ProveItLink\" href=\"../../__pv_it/6840a4fa6c106149dc16a131294d0c5e44f1b0480/expr.ipynb\"><img src=\"../../__pv_it/6840a4fa6c106149dc16a131294d0c5e44f1b0480/expr.png\" style=\"display:inline;vertical-align:middle;\" /></a>, <a class=\"ProveItLink\" href=\"../../__pv_it/cbdfda466482236edba0ce44ac7ef39cda0af7a40/expr.ipynb\"><img src=\"../../__pv_it/cbdfda466482236edba0ce44ac7ef39cda0af7a40/expr.png\" style=\"display:inline;vertical-align:middle;\" /></a> : <a class=\"ProveItLink\" href=\"../../__pv_it/cbdfda466482236edba0ce44ac7ef39cda0af7a40/expr.ipynb\"><img src=\"../../__pv_it/cbdfda466482236edba0ce44ac7ef39cda0af7a40/expr.png\" style=\"display:inline;vertical-align:middle;\" /></a>, <a class=\"ProveItLink\" href=\"../../__pv_it/3a5de44ed6135dbbdbbeec6704c741e238f127300/expr.ipynb\"><img src=\"../../__pv_it/3a5de44ed6135dbbdbbeec6704c741e238f127300/expr.png\" style=\"display:inline;vertical-align:middle;\" /></a> : <a class=\"ProveItLink\" href=\"../../__pv_it/3a5de44ed6135dbbdbbeec6704c741e238f127300/expr.ipynb\"><img src=\"../../__pv_it/3a5de44ed6135dbbdbbeec6704c741e238f127300/expr.png\" style=\"display:inline;vertical-align:middle;\" /></a></span></td></tr><tr><td>4</td><td>theorem</td><td></td><td><span style=\"font-size:20px;\"> &#x22A2;&nbsp;<a class=\"ProveItLink\" href=\"../numeral/deci/__pv_it/5b6ff6a2fca03ad41d2a3084e44fbb28428ffb6a0/expr.ipynb\"><img src=\"../numeral/deci/__pv_it/5b6ff6a2fca03ad41d2a3084e44fbb28428ffb6a0/expr.png\" style=\"display:inline;vertical-align:middle;\" /></a></span></td></tr>\n",
       "<tr><td>&nbsp;</td><td colspan=4 style-\"text-align:left\"><a class=\"ProveItLink\" href=\"../numeral/deci/_proofs_/add_1_1.ipynb\">proveit.number.numeral.deci.add_1_1</a></td></tr><tr><td>5</td><td>theorem</td><td></td><td><span style=\"font-size:20px;\"> &#x22A2;&nbsp;<a class=\"ProveItLink\" href=\"../numeral/deci/__pv_it/349c663074c343ced32577f83aa9971191d0752c0/expr.ipynb\"><img src=\"../numeral/deci/__pv_it/349c663074c343ced32577f83aa9971191d0752c0/expr.png\" style=\"display:inline;vertical-align:middle;\" /></a></span></td></tr>\n",
       "<tr><td>&nbsp;</td><td colspan=4 style-\"text-align:left\"><a class=\"ProveItLink\" href=\"../numeral/deci/_proofs_/add_2_1.ipynb\">proveit.number.numeral.deci.add_2_1</a></td></tr><tr><td>6</td><td>theorem</td><td></td><td><span style=\"font-size:20px;\"> &#x22A2;&nbsp;<a class=\"ProveItLink\" href=\"../numeral/deci/__pv_it/9b6fcf185675beb8420ce00c17510693f9522a6a0/expr.ipynb\"><img src=\"../numeral/deci/__pv_it/9b6fcf185675beb8420ce00c17510693f9522a6a0/expr.png\" style=\"display:inline;vertical-align:middle;\" /></a></span></td></tr>\n",
       "<tr><td>&nbsp;</td><td colspan=4 style-\"text-align:left\"><a class=\"ProveItLink\" href=\"../numeral/deci/_proofs_/add_3_1.ipynb\">proveit.number.numeral.deci.add_3_1</a></td></tr><tr><td>7</td><td>theorem</td><td></td><td><span style=\"font-size:20px;\"> &#x22A2;&nbsp;<a class=\"ProveItLink\" href=\"../../logic/set_theory/membership/__pv_it/f8871096ab31a54eeeb7d5201addc96bdbcd44530/expr.ipynb\"><img src=\"../../logic/set_theory/membership/__pv_it/f8871096ab31a54eeeb7d5201addc96bdbcd44530/expr.png\" style=\"display:inline;vertical-align:middle;\" /></a></span></td></tr>\n",
       "<tr><td>&nbsp;</td><td colspan=4 style-\"text-align:left\"><a class=\"ProveItLink\" href=\"../../logic/set_theory/membership/_proofs_/exp_set_4.ipynb\">proveit.logic.set_theory.membership.exp_set_4</a></td></tr><tr><td>8</td><td>assumption</td><td></td><td><span style=\"font-size:20px;\"><a class=\"ProveItLink\" href=\"__pv_it/43906cf4eb0e869c5be725b12c64e98edef90cb40/expr.ipynb\"><img src=\"__pv_it/43906cf4eb0e869c5be725b12c64e98edef90cb40/expr.png\" style=\"display:inline;vertical-align:middle;\" /></a> &#x22A2;&nbsp;<a class=\"ProveItLink\" href=\"__pv_it/b12b8f9f2444f20104744de832d99401b2367a1e0/expr.ipynb\"><img src=\"__pv_it/b12b8f9f2444f20104744de832d99401b2367a1e0/expr.png\" style=\"display:inline;vertical-align:middle;\" /></a></span></td></tr>\n",
       "<tr><td>9</td><td>assumption</td><td></td><td><span style=\"font-size:20px;\"><a class=\"ProveItLink\" href=\"__pv_it/fa06dc3f19a980abd9dcf07dc3f2aa17a5e1bd570/expr.ipynb\"><img src=\"__pv_it/fa06dc3f19a980abd9dcf07dc3f2aa17a5e1bd570/expr.png\" style=\"display:inline;vertical-align:middle;\" /></a> &#x22A2;&nbsp;<a class=\"ProveItLink\" href=\"__pv_it/5d3609c46dbb309940be2bfe5226c1971d4c18a20/expr.ipynb\"><img src=\"__pv_it/5d3609c46dbb309940be2bfe5226c1971d4c18a20/expr.png\" style=\"display:inline;vertical-align:middle;\" /></a></span></td></tr>\n",
       "<tr><td>10</td><td>assumption</td><td></td><td><span style=\"font-size:20px;\"><a class=\"ProveItLink\" href=\"__pv_it/0c1b05f1b4cbfb3d0e28936322bc057be86fa74e0/expr.ipynb\"><img src=\"__pv_it/0c1b05f1b4cbfb3d0e28936322bc057be86fa74e0/expr.png\" style=\"display:inline;vertical-align:middle;\" /></a> &#x22A2;&nbsp;<a class=\"ProveItLink\" href=\"__pv_it/702857ff53fa00ecc24e03341bcdc61dd9da112f0/expr.ipynb\"><img src=\"__pv_it/702857ff53fa00ecc24e03341bcdc61dd9da112f0/expr.png\" style=\"display:inline;vertical-align:middle;\" /></a></span></td></tr>\n",
       "<tr><td>11</td><td>assumption</td><td></td><td><span style=\"font-size:20px;\"><a class=\"ProveItLink\" href=\"__pv_it/95be0a2bc1f88cc877d6bdb63e33a6ca2e21d32e0/expr.ipynb\"><img src=\"__pv_it/95be0a2bc1f88cc877d6bdb63e33a6ca2e21d32e0/expr.png\" style=\"display:inline;vertical-align:middle;\" /></a> &#x22A2;&nbsp;<a class=\"ProveItLink\" href=\"__pv_it/58c587d879bd9e4e3a6942a85e8847dbbc90d1240/expr.ipynb\"><img src=\"__pv_it/58c587d879bd9e4e3a6942a85e8847dbbc90d1240/expr.png\" style=\"display:inline;vertical-align:middle;\" /></a></span></td></tr>\n",
       "</table>"
      ],
      "text/plain": [
       "\tstep type\trequirements\tstatement\n",
       "0\tspecialization\t1, 2, 3, 4, 5, 6\t{a in Integers , b in Integers , c in Integers , d in Integers} |= (a + b + c + d) in Integers\n",
       "\tm : 4, A : (a , b , c , d)\n",
       "1\ttheorem\t\t|= forall_{m in Naturals} [forall_{A in Integers^{m}} ((A_1 +  ...  + A_m) in Integers)]\n",
       "\tproveit.number.addition.addIntClosure\n",
       "2\ttheorem\t\t|= 4 in Naturals\n",
       "\tproveit.number.numeral.deci.nat4\n",
       "3\tspecialization\t7, 8, 9, 10, 11\t{a in Integers , b in Integers , c in Integers , d in Integers} |= (a , b , c , d) in Integers^{4}\n",
       "\tS : Integers, a : a, b : b, c : c, d : d\n",
       "4\ttheorem\t\t|= (1 + 1) = 2\n",
       "\tproveit.number.numeral.deci.add_1_1\n",
       "5\ttheorem\t\t|= (2 + 1) = 3\n",
       "\tproveit.number.numeral.deci.add_2_1\n",
       "6\ttheorem\t\t|= (3 + 1) = 4\n",
       "\tproveit.number.numeral.deci.add_3_1\n",
       "7\ttheorem\t\t|= forall_{S} [forall_{a, b, c, d in S} ((a , b , c , d) in S^{4})]\n",
       "\tproveit.logic.set_theory.membership.exp_set_4\n",
       "8\tassumption\t\t{a in Integers} |= a in Integers\n",
       "9\tassumption\t\t{b in Integers} |= b in Integers\n",
       "10\tassumption\t\t{c in Integers} |= c in Integers\n",
       "11\tassumption\t\t{d in Integers} |= d in Integers"
      ]
     },
     "execution_count": 10,
     "metadata": {},
     "output_type": "execute_result"
    }
   ],
   "source": [
    "Add(a,b,c,d).deduceInNumberSet(Integers,[InSet(a,Integers),InSet(b, Integers), InSet(c, Integers), InSet(d,Integers)]).proof()"
   ]
  },
  {
   "cell_type": "code",
   "execution_count": 11,
   "metadata": {},
   "outputs": [
    {
     "data": {
      "text/html": [
       "<table><tr><th>&nbsp;</th><th>step type</th><th>requirements</th><th>statement</th></tr>\n",
       "<tr><td>0</td><td>specialization</td><td>1, 2, 3</td><td><span style=\"font-size:20px;\"><a class=\"ProveItLink\" href=\"__pv_it/cc27a795895b8cc1bbe72a883042110cc8e773d20/expr.ipynb\"><img src=\"__pv_it/cc27a795895b8cc1bbe72a883042110cc8e773d20/expr.png\" style=\"display:inline;vertical-align:middle;\" /></a> &#x22A2;&nbsp;<a class=\"ProveItLink\" href=\"__pv_it/7614ca3df6f4f9f7713351c0f8f8d3e0cbce174a0/expr.ipynb\"><img src=\"__pv_it/7614ca3df6f4f9f7713351c0f8f8d3e0cbce174a0/expr.png\" style=\"display:inline;vertical-align:middle;\" /></a></span></td></tr>\n",
       "<tr><td>&nbsp;</td><td colspan=4 style=\"text-align:left\"><span style=\"font-size:20px;\"><a class=\"ProveItLink\" href=\"../../__pv_it/07527342713064c87612d00d8557c53d53d5324a0/expr.ipynb\"><img src=\"../../__pv_it/07527342713064c87612d00d8557c53d53d5324a0/expr.png\" style=\"display:inline;vertical-align:middle;\" /></a> : <a class=\"ProveItLink\" href=\"../../__pv_it/07527342713064c87612d00d8557c53d53d5324a0/expr.ipynb\"><img src=\"../../__pv_it/07527342713064c87612d00d8557c53d53d5324a0/expr.png\" style=\"display:inline;vertical-align:middle;\" /></a>, <a class=\"ProveItLink\" href=\"../../__pv_it/6840a4fa6c106149dc16a131294d0c5e44f1b0480/expr.ipynb\"><img src=\"../../__pv_it/6840a4fa6c106149dc16a131294d0c5e44f1b0480/expr.png\" style=\"display:inline;vertical-align:middle;\" /></a> : <a class=\"ProveItLink\" href=\"../../__pv_it/6840a4fa6c106149dc16a131294d0c5e44f1b0480/expr.ipynb\"><img src=\"../../__pv_it/6840a4fa6c106149dc16a131294d0c5e44f1b0480/expr.png\" style=\"display:inline;vertical-align:middle;\" /></a></span></td></tr><tr><td>1</td><td>theorem</td><td></td><td><span style=\"font-size:20px;\"> &#x22A2;&nbsp;<a class=\"ProveItLink\" href=\"__pv_it/5fe2d172b59f40d01ac7fbb9b51451f97c062d200/expr.ipynb\"><img src=\"__pv_it/5fe2d172b59f40d01ac7fbb9b51451f97c062d200/expr.png\" style=\"display:inline;vertical-align:middle;\" /></a></span></td></tr>\n",
       "<tr><td>&nbsp;</td><td colspan=4 style-\"text-align:left\"><a class=\"ProveItLink\" href=\"_proofs_/addNatClosureBin.ipynb\">proveit.number.addition.addNatClosureBin</a></td></tr><tr><td>2</td><td>assumption</td><td></td><td><span style=\"font-size:20px;\"><a class=\"ProveItLink\" href=\"__pv_it/3c7dd9e5c1771ca138dab8009ad846e050aea2d70/expr.ipynb\"><img src=\"__pv_it/3c7dd9e5c1771ca138dab8009ad846e050aea2d70/expr.png\" style=\"display:inline;vertical-align:middle;\" /></a> &#x22A2;&nbsp;<a class=\"ProveItLink\" href=\"__pv_it/181ce4799996c4451afe1c37a4e75f78d49035710/expr.ipynb\"><img src=\"__pv_it/181ce4799996c4451afe1c37a4e75f78d49035710/expr.png\" style=\"display:inline;vertical-align:middle;\" /></a></span></td></tr>\n",
       "<tr><td>3</td><td>assumption</td><td></td><td><span style=\"font-size:20px;\"><a class=\"ProveItLink\" href=\"__pv_it/03a10cf5f26eac238fa80336c9d71ed72ae506250/expr.ipynb\"><img src=\"__pv_it/03a10cf5f26eac238fa80336c9d71ed72ae506250/expr.png\" style=\"display:inline;vertical-align:middle;\" /></a> &#x22A2;&nbsp;<a class=\"ProveItLink\" href=\"__pv_it/b4eaf74fbef2c558f913e871d31b8353ac0fa7010/expr.ipynb\"><img src=\"__pv_it/b4eaf74fbef2c558f913e871d31b8353ac0fa7010/expr.png\" style=\"display:inline;vertical-align:middle;\" /></a></span></td></tr>\n",
       "</table>"
      ],
      "text/plain": [
       "\tstep type\trequirements\tstatement\n",
       "0\tspecialization\t1, 2, 3\t{a in Naturals , b in Naturals} |= (a + b) in Naturals\n",
       "\ta : a, b : b\n",
       "1\ttheorem\t\t|= forall_{a, b in Naturals} ((a + b) in Naturals)\n",
       "\tproveit.number.addition.addNatClosureBin\n",
       "2\tassumption\t\t{a in Naturals} |= a in Naturals\n",
       "3\tassumption\t\t{b in Naturals} |= b in Naturals"
      ]
     },
     "execution_count": 11,
     "metadata": {},
     "output_type": "execute_result"
    }
   ],
   "source": [
    "Add(a,b).deduceInNumberSet(Naturals, assumptions=[InSet(a, Naturals), InSet(b, Naturals)]).proof()"
   ]
  },
  {
   "cell_type": "code",
   "execution_count": 12,
   "metadata": {},
   "outputs": [
    {
     "data": {
      "text/html": [
       "<table><tr><th>&nbsp;</th><th>step type</th><th>requirements</th><th>statement</th></tr>\n",
       "<tr><td>0</td><td>specialization</td><td>1, 2, 3, 4, 5, 6</td><td><span style=\"font-size:20px;\"><a class=\"ProveItLink\" href=\"__pv_it/ca70737fd3afd7ffce752a527a50a0016ca278c50/expr.ipynb\"><img src=\"__pv_it/ca70737fd3afd7ffce752a527a50a0016ca278c50/expr.png\" style=\"display:inline;vertical-align:middle;\" /></a> &#x22A2;&nbsp;<a class=\"ProveItLink\" href=\"__pv_it/731e3c57032dfbe47bbb71cbddf48359d379f6990/expr.ipynb\"><img src=\"__pv_it/731e3c57032dfbe47bbb71cbddf48359d379f6990/expr.png\" style=\"display:inline;vertical-align:middle;\" /></a></span></td></tr>\n",
       "<tr><td>&nbsp;</td><td colspan=4 style=\"text-align:left\"><span style=\"font-size:20px;\"><a class=\"ProveItLink\" href=\"../../__pv_it/78af03acba5349fd70398a32ce59bae1da52f0870/expr.ipynb\"><img src=\"../../__pv_it/78af03acba5349fd70398a32ce59bae1da52f0870/expr.png\" style=\"display:inline;vertical-align:middle;\" /></a> : <a class=\"ProveItLink\" href=\"../numeral/__pv_it/23412ce59ea7e77353d2f9225e02248e73651ca00/expr.ipynb\"><img src=\"../numeral/__pv_it/23412ce59ea7e77353d2f9225e02248e73651ca00/expr.png\" style=\"display:inline;vertical-align:middle;\" /></a>, <a class=\"ProveItLink\" href=\"../../__pv_it/eb438fefc4bd0ac977777d6dfd3e8a72dfbedbd50/expr.ipynb\"><img src=\"../../__pv_it/eb438fefc4bd0ac977777d6dfd3e8a72dfbedbd50/expr.png\" style=\"display:inline;vertical-align:middle;\" /></a> : <a class=\"ProveItLink\" href=\"__pv_it/8119cab917fa6f13377ec3016b6ddc80a96181000/expr.ipynb\"><img src=\"__pv_it/8119cab917fa6f13377ec3016b6ddc80a96181000/expr.png\" style=\"display:inline;vertical-align:middle;\" /></a></span></td></tr><tr><td>1</td><td>theorem</td><td></td><td><span style=\"font-size:20px;\"> &#x22A2;&nbsp;<a class=\"ProveItLink\" href=\"__pv_it/f0a3e8671d69b5f18ff28e62b454b57733600c9c0/expr.ipynb\"><img src=\"__pv_it/f0a3e8671d69b5f18ff28e62b454b57733600c9c0/expr.png\" style=\"display:inline;vertical-align:middle;\" /></a></span></td></tr>\n",
       "<tr><td>&nbsp;</td><td colspan=4 style-\"text-align:left\"><a class=\"ProveItLink\" href=\"_proofs_/addNatClosure.ipynb\">proveit.number.addition.addNatClosure</a></td></tr><tr><td>2</td><td>theorem</td><td></td><td><span style=\"font-size:20px;\"> &#x22A2;&nbsp;<a class=\"ProveItLink\" href=\"../numeral/deci/__pv_it/3fc93db3b3fd1b15204240d9de18a48656bfb08c0/expr.ipynb\"><img src=\"../numeral/deci/__pv_it/3fc93db3b3fd1b15204240d9de18a48656bfb08c0/expr.png\" style=\"display:inline;vertical-align:middle;\" /></a></span></td></tr>\n",
       "<tr><td>&nbsp;</td><td colspan=4 style-\"text-align:left\"><a class=\"ProveItLink\" href=\"../numeral/deci/_proofs_/nat4.ipynb\">proveit.number.numeral.deci.nat4</a></td></tr><tr><td>3</td><td>specialization</td><td>7, 8, 9, 10, 11</td><td><span style=\"font-size:20px;\"><a class=\"ProveItLink\" href=\"__pv_it/ca70737fd3afd7ffce752a527a50a0016ca278c50/expr.ipynb\"><img src=\"__pv_it/ca70737fd3afd7ffce752a527a50a0016ca278c50/expr.png\" style=\"display:inline;vertical-align:middle;\" /></a> &#x22A2;&nbsp;<a class=\"ProveItLink\" href=\"__pv_it/8b49da2fb80b49bcf8179df90e51bf8e03b476a30/expr.ipynb\"><img src=\"__pv_it/8b49da2fb80b49bcf8179df90e51bf8e03b476a30/expr.png\" style=\"display:inline;vertical-align:middle;\" /></a></span></td></tr>\n",
       "<tr><td>&nbsp;</td><td colspan=4 style=\"text-align:left\"><span style=\"font-size:20px;\"><a class=\"ProveItLink\" href=\"../../__pv_it/abeee18594afe51bfb1be95d9591fbba24ac53f30/expr.ipynb\"><img src=\"../../__pv_it/abeee18594afe51bfb1be95d9591fbba24ac53f30/expr.png\" style=\"display:inline;vertical-align:middle;\" /></a> : <a class=\"ProveItLink\" href=\"../sets/integer/__pv_it/4434d1ec6afb2b8deec87ded0866b923feb9d6e60/expr.ipynb\"><img src=\"../sets/integer/__pv_it/4434d1ec6afb2b8deec87ded0866b923feb9d6e60/expr.png\" style=\"display:inline;vertical-align:middle;\" /></a>, <a class=\"ProveItLink\" href=\"../../__pv_it/07527342713064c87612d00d8557c53d53d5324a0/expr.ipynb\"><img src=\"../../__pv_it/07527342713064c87612d00d8557c53d53d5324a0/expr.png\" style=\"display:inline;vertical-align:middle;\" /></a> : <a class=\"ProveItLink\" href=\"../../__pv_it/07527342713064c87612d00d8557c53d53d5324a0/expr.ipynb\"><img src=\"../../__pv_it/07527342713064c87612d00d8557c53d53d5324a0/expr.png\" style=\"display:inline;vertical-align:middle;\" /></a>, <a class=\"ProveItLink\" href=\"../../__pv_it/6840a4fa6c106149dc16a131294d0c5e44f1b0480/expr.ipynb\"><img src=\"../../__pv_it/6840a4fa6c106149dc16a131294d0c5e44f1b0480/expr.png\" style=\"display:inline;vertical-align:middle;\" /></a> : <a class=\"ProveItLink\" href=\"../../__pv_it/6840a4fa6c106149dc16a131294d0c5e44f1b0480/expr.ipynb\"><img src=\"../../__pv_it/6840a4fa6c106149dc16a131294d0c5e44f1b0480/expr.png\" style=\"display:inline;vertical-align:middle;\" /></a>, <a class=\"ProveItLink\" href=\"../../__pv_it/cbdfda466482236edba0ce44ac7ef39cda0af7a40/expr.ipynb\"><img src=\"../../__pv_it/cbdfda466482236edba0ce44ac7ef39cda0af7a40/expr.png\" style=\"display:inline;vertical-align:middle;\" /></a> : <a class=\"ProveItLink\" href=\"../../__pv_it/cbdfda466482236edba0ce44ac7ef39cda0af7a40/expr.ipynb\"><img src=\"../../__pv_it/cbdfda466482236edba0ce44ac7ef39cda0af7a40/expr.png\" style=\"display:inline;vertical-align:middle;\" /></a>, <a class=\"ProveItLink\" href=\"../../__pv_it/3a5de44ed6135dbbdbbeec6704c741e238f127300/expr.ipynb\"><img src=\"../../__pv_it/3a5de44ed6135dbbdbbeec6704c741e238f127300/expr.png\" style=\"display:inline;vertical-align:middle;\" /></a> : <a class=\"ProveItLink\" href=\"../../__pv_it/3a5de44ed6135dbbdbbeec6704c741e238f127300/expr.ipynb\"><img src=\"../../__pv_it/3a5de44ed6135dbbdbbeec6704c741e238f127300/expr.png\" style=\"display:inline;vertical-align:middle;\" /></a></span></td></tr><tr><td>4</td><td>theorem</td><td></td><td><span style=\"font-size:20px;\"> &#x22A2;&nbsp;<a class=\"ProveItLink\" href=\"../numeral/deci/__pv_it/5b6ff6a2fca03ad41d2a3084e44fbb28428ffb6a0/expr.ipynb\"><img src=\"../numeral/deci/__pv_it/5b6ff6a2fca03ad41d2a3084e44fbb28428ffb6a0/expr.png\" style=\"display:inline;vertical-align:middle;\" /></a></span></td></tr>\n",
       "<tr><td>&nbsp;</td><td colspan=4 style-\"text-align:left\"><a class=\"ProveItLink\" href=\"../numeral/deci/_proofs_/add_1_1.ipynb\">proveit.number.numeral.deci.add_1_1</a></td></tr><tr><td>5</td><td>theorem</td><td></td><td><span style=\"font-size:20px;\"> &#x22A2;&nbsp;<a class=\"ProveItLink\" href=\"../numeral/deci/__pv_it/349c663074c343ced32577f83aa9971191d0752c0/expr.ipynb\"><img src=\"../numeral/deci/__pv_it/349c663074c343ced32577f83aa9971191d0752c0/expr.png\" style=\"display:inline;vertical-align:middle;\" /></a></span></td></tr>\n",
       "<tr><td>&nbsp;</td><td colspan=4 style-\"text-align:left\"><a class=\"ProveItLink\" href=\"../numeral/deci/_proofs_/add_2_1.ipynb\">proveit.number.numeral.deci.add_2_1</a></td></tr><tr><td>6</td><td>theorem</td><td></td><td><span style=\"font-size:20px;\"> &#x22A2;&nbsp;<a class=\"ProveItLink\" href=\"../numeral/deci/__pv_it/9b6fcf185675beb8420ce00c17510693f9522a6a0/expr.ipynb\"><img src=\"../numeral/deci/__pv_it/9b6fcf185675beb8420ce00c17510693f9522a6a0/expr.png\" style=\"display:inline;vertical-align:middle;\" /></a></span></td></tr>\n",
       "<tr><td>&nbsp;</td><td colspan=4 style-\"text-align:left\"><a class=\"ProveItLink\" href=\"../numeral/deci/_proofs_/add_3_1.ipynb\">proveit.number.numeral.deci.add_3_1</a></td></tr><tr><td>7</td><td>theorem</td><td></td><td><span style=\"font-size:20px;\"> &#x22A2;&nbsp;<a class=\"ProveItLink\" href=\"../../logic/set_theory/membership/__pv_it/f8871096ab31a54eeeb7d5201addc96bdbcd44530/expr.ipynb\"><img src=\"../../logic/set_theory/membership/__pv_it/f8871096ab31a54eeeb7d5201addc96bdbcd44530/expr.png\" style=\"display:inline;vertical-align:middle;\" /></a></span></td></tr>\n",
       "<tr><td>&nbsp;</td><td colspan=4 style-\"text-align:left\"><a class=\"ProveItLink\" href=\"../../logic/set_theory/membership/_proofs_/exp_set_4.ipynb\">proveit.logic.set_theory.membership.exp_set_4</a></td></tr><tr><td>8</td><td>assumption</td><td></td><td><span style=\"font-size:20px;\"><a class=\"ProveItLink\" href=\"__pv_it/3c7dd9e5c1771ca138dab8009ad846e050aea2d70/expr.ipynb\"><img src=\"__pv_it/3c7dd9e5c1771ca138dab8009ad846e050aea2d70/expr.png\" style=\"display:inline;vertical-align:middle;\" /></a> &#x22A2;&nbsp;<a class=\"ProveItLink\" href=\"__pv_it/181ce4799996c4451afe1c37a4e75f78d49035710/expr.ipynb\"><img src=\"__pv_it/181ce4799996c4451afe1c37a4e75f78d49035710/expr.png\" style=\"display:inline;vertical-align:middle;\" /></a></span></td></tr>\n",
       "<tr><td>9</td><td>assumption</td><td></td><td><span style=\"font-size:20px;\"><a class=\"ProveItLink\" href=\"__pv_it/03a10cf5f26eac238fa80336c9d71ed72ae506250/expr.ipynb\"><img src=\"__pv_it/03a10cf5f26eac238fa80336c9d71ed72ae506250/expr.png\" style=\"display:inline;vertical-align:middle;\" /></a> &#x22A2;&nbsp;<a class=\"ProveItLink\" href=\"__pv_it/b4eaf74fbef2c558f913e871d31b8353ac0fa7010/expr.ipynb\"><img src=\"__pv_it/b4eaf74fbef2c558f913e871d31b8353ac0fa7010/expr.png\" style=\"display:inline;vertical-align:middle;\" /></a></span></td></tr>\n",
       "<tr><td>10</td><td>assumption</td><td></td><td><span style=\"font-size:20px;\"><a class=\"ProveItLink\" href=\"__pv_it/951c09daeac7cc333833d6c9456963f8f2e839ea0/expr.ipynb\"><img src=\"__pv_it/951c09daeac7cc333833d6c9456963f8f2e839ea0/expr.png\" style=\"display:inline;vertical-align:middle;\" /></a> &#x22A2;&nbsp;<a class=\"ProveItLink\" href=\"__pv_it/bce4ba2e9afd538f6886eb06a2bf4b336acefd570/expr.ipynb\"><img src=\"__pv_it/bce4ba2e9afd538f6886eb06a2bf4b336acefd570/expr.png\" style=\"display:inline;vertical-align:middle;\" /></a></span></td></tr>\n",
       "<tr><td>11</td><td>assumption</td><td></td><td><span style=\"font-size:20px;\"><a class=\"ProveItLink\" href=\"__pv_it/f373c2f055d04576ef640189a98ec5cace366d190/expr.ipynb\"><img src=\"__pv_it/f373c2f055d04576ef640189a98ec5cace366d190/expr.png\" style=\"display:inline;vertical-align:middle;\" /></a> &#x22A2;&nbsp;<a class=\"ProveItLink\" href=\"__pv_it/bfeb3e7e1eb477c9ff07f31f3e4697a069ca1d0d0/expr.ipynb\"><img src=\"__pv_it/bfeb3e7e1eb477c9ff07f31f3e4697a069ca1d0d0/expr.png\" style=\"display:inline;vertical-align:middle;\" /></a></span></td></tr>\n",
       "</table>"
      ],
      "text/plain": [
       "\tstep type\trequirements\tstatement\n",
       "0\tspecialization\t1, 2, 3, 4, 5, 6\t{a in Naturals , b in Naturals , c in Naturals , d in Naturals} |= (a + b + c + d) in Naturals\n",
       "\tm : 4, A : (a , b , c , d)\n",
       "1\ttheorem\t\t|= forall_{m in Naturals} [forall_{A in Naturals^{m}} ((A_1 +  ...  + A_m) in Naturals)]\n",
       "\tproveit.number.addition.addNatClosure\n",
       "2\ttheorem\t\t|= 4 in Naturals\n",
       "\tproveit.number.numeral.deci.nat4\n",
       "3\tspecialization\t7, 8, 9, 10, 11\t{a in Naturals , b in Naturals , c in Naturals , d in Naturals} |= (a , b , c , d) in Naturals^{4}\n",
       "\tS : Naturals, a : a, b : b, c : c, d : d\n",
       "4\ttheorem\t\t|= (1 + 1) = 2\n",
       "\tproveit.number.numeral.deci.add_1_1\n",
       "5\ttheorem\t\t|= (2 + 1) = 3\n",
       "\tproveit.number.numeral.deci.add_2_1\n",
       "6\ttheorem\t\t|= (3 + 1) = 4\n",
       "\tproveit.number.numeral.deci.add_3_1\n",
       "7\ttheorem\t\t|= forall_{S} [forall_{a, b, c, d in S} ((a , b , c , d) in S^{4})]\n",
       "\tproveit.logic.set_theory.membership.exp_set_4\n",
       "8\tassumption\t\t{a in Naturals} |= a in Naturals\n",
       "9\tassumption\t\t{b in Naturals} |= b in Naturals\n",
       "10\tassumption\t\t{c in Naturals} |= c in Naturals\n",
       "11\tassumption\t\t{d in Naturals} |= d in Naturals"
      ]
     },
     "execution_count": 12,
     "metadata": {},
     "output_type": "execute_result"
    }
   ],
   "source": [
    "Add(a,b,c,d).deduceInNumberSet(Naturals, assumptions=[InSet(a,Naturals), InSet(b, Naturals), InSet(c,Naturals), InSet(d, Naturals)]).proof()"
   ]
  },
  {
   "cell_type": "code",
   "execution_count": 13,
   "metadata": {},
   "outputs": [
    {
     "data": {
      "text/html": [
       "<table><tr><th>&nbsp;</th><th>step type</th><th>requirements</th><th>statement</th></tr>\n",
       "<tr><td>0</td><td>specialization</td><td>1, 2, 3</td><td><span style=\"font-size:20px;\"><a class=\"ProveItLink\" href=\"__pv_it/dbc312e840167dffde165b8a164e9066ccccbde10/expr.ipynb\"><img src=\"__pv_it/dbc312e840167dffde165b8a164e9066ccccbde10/expr.png\" style=\"display:inline;vertical-align:middle;\" /></a> &#x22A2;&nbsp;<a class=\"ProveItLink\" href=\"__pv_it/9ca78598d08d43df043d1c31c310273418a411450/expr.ipynb\"><img src=\"__pv_it/9ca78598d08d43df043d1c31c310273418a411450/expr.png\" style=\"display:inline;vertical-align:middle;\" /></a></span></td></tr>\n",
       "<tr><td>&nbsp;</td><td colspan=4 style=\"text-align:left\"><span style=\"font-size:20px;\"><a class=\"ProveItLink\" href=\"../../__pv_it/07527342713064c87612d00d8557c53d53d5324a0/expr.ipynb\"><img src=\"../../__pv_it/07527342713064c87612d00d8557c53d53d5324a0/expr.png\" style=\"display:inline;vertical-align:middle;\" /></a> : <a class=\"ProveItLink\" href=\"../../__pv_it/07527342713064c87612d00d8557c53d53d5324a0/expr.ipynb\"><img src=\"../../__pv_it/07527342713064c87612d00d8557c53d53d5324a0/expr.png\" style=\"display:inline;vertical-align:middle;\" /></a>, <a class=\"ProveItLink\" href=\"../../__pv_it/6840a4fa6c106149dc16a131294d0c5e44f1b0480/expr.ipynb\"><img src=\"../../__pv_it/6840a4fa6c106149dc16a131294d0c5e44f1b0480/expr.png\" style=\"display:inline;vertical-align:middle;\" /></a> : <a class=\"ProveItLink\" href=\"../../__pv_it/6840a4fa6c106149dc16a131294d0c5e44f1b0480/expr.ipynb\"><img src=\"../../__pv_it/6840a4fa6c106149dc16a131294d0c5e44f1b0480/expr.png\" style=\"display:inline;vertical-align:middle;\" /></a></span></td></tr><tr><td>1</td><td>theorem</td><td></td><td><span style=\"font-size:20px;\"> &#x22A2;&nbsp;<a class=\"ProveItLink\" href=\"__pv_it/edd8375f60152339be03c8a8e5d2f154bb449b490/expr.ipynb\"><img src=\"__pv_it/edd8375f60152339be03c8a8e5d2f154bb449b490/expr.png\" style=\"display:inline;vertical-align:middle;\" /></a></span></td></tr>\n",
       "<tr><td>&nbsp;</td><td colspan=4 style-\"text-align:left\"><a class=\"ProveItLink\" href=\"_proofs_/addRealClosureBin.ipynb\">proveit.number.addition.addRealClosureBin</a></td></tr><tr><td>2</td><td>assumption</td><td></td><td><span style=\"font-size:20px;\"><a class=\"ProveItLink\" href=\"__pv_it/295cdf3af31eeaf482ed82aa152607a517fc2f4c0/expr.ipynb\"><img src=\"__pv_it/295cdf3af31eeaf482ed82aa152607a517fc2f4c0/expr.png\" style=\"display:inline;vertical-align:middle;\" /></a> &#x22A2;&nbsp;<a class=\"ProveItLink\" href=\"__pv_it/5e4fd9efbabb6dafe1d813d297a699f4ef031dd50/expr.ipynb\"><img src=\"__pv_it/5e4fd9efbabb6dafe1d813d297a699f4ef031dd50/expr.png\" style=\"display:inline;vertical-align:middle;\" /></a></span></td></tr>\n",
       "<tr><td>3</td><td>assumption</td><td></td><td><span style=\"font-size:20px;\"><a class=\"ProveItLink\" href=\"__pv_it/7e7f905a57f098a3e946d835c31d94aecd7f07b00/expr.ipynb\"><img src=\"__pv_it/7e7f905a57f098a3e946d835c31d94aecd7f07b00/expr.png\" style=\"display:inline;vertical-align:middle;\" /></a> &#x22A2;&nbsp;<a class=\"ProveItLink\" href=\"__pv_it/fe8a1ac19c1dfe131d106bace16ac8161bc1bb360/expr.ipynb\"><img src=\"__pv_it/fe8a1ac19c1dfe131d106bace16ac8161bc1bb360/expr.png\" style=\"display:inline;vertical-align:middle;\" /></a></span></td></tr>\n",
       "</table>"
      ],
      "text/plain": [
       "\tstep type\trequirements\tstatement\n",
       "0\tspecialization\t1, 2, 3\t{a in Reals , b in Reals} |= (a + b) in Reals\n",
       "\ta : a, b : b\n",
       "1\ttheorem\t\t|= forall_{a, b in Reals} ((a + b) in Reals)\n",
       "\tproveit.number.addition.addRealClosureBin\n",
       "2\tassumption\t\t{a in Reals} |= a in Reals\n",
       "3\tassumption\t\t{b in Reals} |= b in Reals"
      ]
     },
     "execution_count": 13,
     "metadata": {},
     "output_type": "execute_result"
    }
   ],
   "source": [
    "Add(a,b).deduceInNumberSet(Reals, assumptions=[InSet(a, Reals), InSet(b,Reals)]).proof()"
   ]
  },
  {
   "cell_type": "code",
   "execution_count": 14,
   "metadata": {},
   "outputs": [
    {
     "data": {
      "text/html": [
       "<table><tr><th>&nbsp;</th><th>step type</th><th>requirements</th><th>statement</th></tr>\n",
       "<tr><td>0</td><td>specialization</td><td>1, 2, 3, 4, 5, 6</td><td><span style=\"font-size:20px;\"><a class=\"ProveItLink\" href=\"__pv_it/daeb6fabaab9dba85c1cdf6a56aacd159dfbcd2e0/expr.ipynb\"><img src=\"__pv_it/daeb6fabaab9dba85c1cdf6a56aacd159dfbcd2e0/expr.png\" style=\"display:inline;vertical-align:middle;\" /></a> &#x22A2;&nbsp;<a class=\"ProveItLink\" href=\"__pv_it/5b29ecd94c8a28f20af986b44f3bf9dd3247abfa0/expr.ipynb\"><img src=\"__pv_it/5b29ecd94c8a28f20af986b44f3bf9dd3247abfa0/expr.png\" style=\"display:inline;vertical-align:middle;\" /></a></span></td></tr>\n",
       "<tr><td>&nbsp;</td><td colspan=4 style=\"text-align:left\"><span style=\"font-size:20px;\"><a class=\"ProveItLink\" href=\"../../__pv_it/78af03acba5349fd70398a32ce59bae1da52f0870/expr.ipynb\"><img src=\"../../__pv_it/78af03acba5349fd70398a32ce59bae1da52f0870/expr.png\" style=\"display:inline;vertical-align:middle;\" /></a> : <a class=\"ProveItLink\" href=\"../numeral/__pv_it/23412ce59ea7e77353d2f9225e02248e73651ca00/expr.ipynb\"><img src=\"../numeral/__pv_it/23412ce59ea7e77353d2f9225e02248e73651ca00/expr.png\" style=\"display:inline;vertical-align:middle;\" /></a>, <a class=\"ProveItLink\" href=\"../../__pv_it/eb438fefc4bd0ac977777d6dfd3e8a72dfbedbd50/expr.ipynb\"><img src=\"../../__pv_it/eb438fefc4bd0ac977777d6dfd3e8a72dfbedbd50/expr.png\" style=\"display:inline;vertical-align:middle;\" /></a> : <a class=\"ProveItLink\" href=\"__pv_it/8119cab917fa6f13377ec3016b6ddc80a96181000/expr.ipynb\"><img src=\"__pv_it/8119cab917fa6f13377ec3016b6ddc80a96181000/expr.png\" style=\"display:inline;vertical-align:middle;\" /></a></span></td></tr><tr><td>1</td><td>theorem</td><td></td><td><span style=\"font-size:20px;\"> &#x22A2;&nbsp;<a class=\"ProveItLink\" href=\"__pv_it/8b79c68b14c46a529b669bb2ff29da8ee3b89a670/expr.ipynb\"><img src=\"__pv_it/8b79c68b14c46a529b669bb2ff29da8ee3b89a670/expr.png\" style=\"display:inline;vertical-align:middle;\" /></a></span></td></tr>\n",
       "<tr><td>&nbsp;</td><td colspan=4 style-\"text-align:left\"><a class=\"ProveItLink\" href=\"_proofs_/addRealClosure.ipynb\">proveit.number.addition.addRealClosure</a></td></tr><tr><td>2</td><td>theorem</td><td></td><td><span style=\"font-size:20px;\"> &#x22A2;&nbsp;<a class=\"ProveItLink\" href=\"../numeral/deci/__pv_it/3fc93db3b3fd1b15204240d9de18a48656bfb08c0/expr.ipynb\"><img src=\"../numeral/deci/__pv_it/3fc93db3b3fd1b15204240d9de18a48656bfb08c0/expr.png\" style=\"display:inline;vertical-align:middle;\" /></a></span></td></tr>\n",
       "<tr><td>&nbsp;</td><td colspan=4 style-\"text-align:left\"><a class=\"ProveItLink\" href=\"../numeral/deci/_proofs_/nat4.ipynb\">proveit.number.numeral.deci.nat4</a></td></tr><tr><td>3</td><td>specialization</td><td>7, 8, 9, 10, 11</td><td><span style=\"font-size:20px;\"><a class=\"ProveItLink\" href=\"__pv_it/daeb6fabaab9dba85c1cdf6a56aacd159dfbcd2e0/expr.ipynb\"><img src=\"__pv_it/daeb6fabaab9dba85c1cdf6a56aacd159dfbcd2e0/expr.png\" style=\"display:inline;vertical-align:middle;\" /></a> &#x22A2;&nbsp;<a class=\"ProveItLink\" href=\"__pv_it/6762f2d7768b024f16ca32892c174283b2d0b9580/expr.ipynb\"><img src=\"__pv_it/6762f2d7768b024f16ca32892c174283b2d0b9580/expr.png\" style=\"display:inline;vertical-align:middle;\" /></a></span></td></tr>\n",
       "<tr><td>&nbsp;</td><td colspan=4 style=\"text-align:left\"><span style=\"font-size:20px;\"><a class=\"ProveItLink\" href=\"../../__pv_it/abeee18594afe51bfb1be95d9591fbba24ac53f30/expr.ipynb\"><img src=\"../../__pv_it/abeee18594afe51bfb1be95d9591fbba24ac53f30/expr.png\" style=\"display:inline;vertical-align:middle;\" /></a> : <a class=\"ProveItLink\" href=\"../sets/real/__pv_it/c69b21a7605f74b7de6f2b0e27a26f9af7918cb30/expr.ipynb\"><img src=\"../sets/real/__pv_it/c69b21a7605f74b7de6f2b0e27a26f9af7918cb30/expr.png\" style=\"display:inline;vertical-align:middle;\" /></a>, <a class=\"ProveItLink\" href=\"../../__pv_it/07527342713064c87612d00d8557c53d53d5324a0/expr.ipynb\"><img src=\"../../__pv_it/07527342713064c87612d00d8557c53d53d5324a0/expr.png\" style=\"display:inline;vertical-align:middle;\" /></a> : <a class=\"ProveItLink\" href=\"../../__pv_it/07527342713064c87612d00d8557c53d53d5324a0/expr.ipynb\"><img src=\"../../__pv_it/07527342713064c87612d00d8557c53d53d5324a0/expr.png\" style=\"display:inline;vertical-align:middle;\" /></a>, <a class=\"ProveItLink\" href=\"../../__pv_it/6840a4fa6c106149dc16a131294d0c5e44f1b0480/expr.ipynb\"><img src=\"../../__pv_it/6840a4fa6c106149dc16a131294d0c5e44f1b0480/expr.png\" style=\"display:inline;vertical-align:middle;\" /></a> : <a class=\"ProveItLink\" href=\"../../__pv_it/6840a4fa6c106149dc16a131294d0c5e44f1b0480/expr.ipynb\"><img src=\"../../__pv_it/6840a4fa6c106149dc16a131294d0c5e44f1b0480/expr.png\" style=\"display:inline;vertical-align:middle;\" /></a>, <a class=\"ProveItLink\" href=\"../../__pv_it/cbdfda466482236edba0ce44ac7ef39cda0af7a40/expr.ipynb\"><img src=\"../../__pv_it/cbdfda466482236edba0ce44ac7ef39cda0af7a40/expr.png\" style=\"display:inline;vertical-align:middle;\" /></a> : <a class=\"ProveItLink\" href=\"../../__pv_it/cbdfda466482236edba0ce44ac7ef39cda0af7a40/expr.ipynb\"><img src=\"../../__pv_it/cbdfda466482236edba0ce44ac7ef39cda0af7a40/expr.png\" style=\"display:inline;vertical-align:middle;\" /></a>, <a class=\"ProveItLink\" href=\"../../__pv_it/3a5de44ed6135dbbdbbeec6704c741e238f127300/expr.ipynb\"><img src=\"../../__pv_it/3a5de44ed6135dbbdbbeec6704c741e238f127300/expr.png\" style=\"display:inline;vertical-align:middle;\" /></a> : <a class=\"ProveItLink\" href=\"../../__pv_it/3a5de44ed6135dbbdbbeec6704c741e238f127300/expr.ipynb\"><img src=\"../../__pv_it/3a5de44ed6135dbbdbbeec6704c741e238f127300/expr.png\" style=\"display:inline;vertical-align:middle;\" /></a></span></td></tr><tr><td>4</td><td>theorem</td><td></td><td><span style=\"font-size:20px;\"> &#x22A2;&nbsp;<a class=\"ProveItLink\" href=\"../numeral/deci/__pv_it/5b6ff6a2fca03ad41d2a3084e44fbb28428ffb6a0/expr.ipynb\"><img src=\"../numeral/deci/__pv_it/5b6ff6a2fca03ad41d2a3084e44fbb28428ffb6a0/expr.png\" style=\"display:inline;vertical-align:middle;\" /></a></span></td></tr>\n",
       "<tr><td>&nbsp;</td><td colspan=4 style-\"text-align:left\"><a class=\"ProveItLink\" href=\"../numeral/deci/_proofs_/add_1_1.ipynb\">proveit.number.numeral.deci.add_1_1</a></td></tr><tr><td>5</td><td>theorem</td><td></td><td><span style=\"font-size:20px;\"> &#x22A2;&nbsp;<a class=\"ProveItLink\" href=\"../numeral/deci/__pv_it/349c663074c343ced32577f83aa9971191d0752c0/expr.ipynb\"><img src=\"../numeral/deci/__pv_it/349c663074c343ced32577f83aa9971191d0752c0/expr.png\" style=\"display:inline;vertical-align:middle;\" /></a></span></td></tr>\n",
       "<tr><td>&nbsp;</td><td colspan=4 style-\"text-align:left\"><a class=\"ProveItLink\" href=\"../numeral/deci/_proofs_/add_2_1.ipynb\">proveit.number.numeral.deci.add_2_1</a></td></tr><tr><td>6</td><td>theorem</td><td></td><td><span style=\"font-size:20px;\"> &#x22A2;&nbsp;<a class=\"ProveItLink\" href=\"../numeral/deci/__pv_it/9b6fcf185675beb8420ce00c17510693f9522a6a0/expr.ipynb\"><img src=\"../numeral/deci/__pv_it/9b6fcf185675beb8420ce00c17510693f9522a6a0/expr.png\" style=\"display:inline;vertical-align:middle;\" /></a></span></td></tr>\n",
       "<tr><td>&nbsp;</td><td colspan=4 style-\"text-align:left\"><a class=\"ProveItLink\" href=\"../numeral/deci/_proofs_/add_3_1.ipynb\">proveit.number.numeral.deci.add_3_1</a></td></tr><tr><td>7</td><td>theorem</td><td></td><td><span style=\"font-size:20px;\"> &#x22A2;&nbsp;<a class=\"ProveItLink\" href=\"../../logic/set_theory/membership/__pv_it/f8871096ab31a54eeeb7d5201addc96bdbcd44530/expr.ipynb\"><img src=\"../../logic/set_theory/membership/__pv_it/f8871096ab31a54eeeb7d5201addc96bdbcd44530/expr.png\" style=\"display:inline;vertical-align:middle;\" /></a></span></td></tr>\n",
       "<tr><td>&nbsp;</td><td colspan=4 style-\"text-align:left\"><a class=\"ProveItLink\" href=\"../../logic/set_theory/membership/_proofs_/exp_set_4.ipynb\">proveit.logic.set_theory.membership.exp_set_4</a></td></tr><tr><td>8</td><td>assumption</td><td></td><td><span style=\"font-size:20px;\"><a class=\"ProveItLink\" href=\"__pv_it/295cdf3af31eeaf482ed82aa152607a517fc2f4c0/expr.ipynb\"><img src=\"__pv_it/295cdf3af31eeaf482ed82aa152607a517fc2f4c0/expr.png\" style=\"display:inline;vertical-align:middle;\" /></a> &#x22A2;&nbsp;<a class=\"ProveItLink\" href=\"__pv_it/5e4fd9efbabb6dafe1d813d297a699f4ef031dd50/expr.ipynb\"><img src=\"__pv_it/5e4fd9efbabb6dafe1d813d297a699f4ef031dd50/expr.png\" style=\"display:inline;vertical-align:middle;\" /></a></span></td></tr>\n",
       "<tr><td>9</td><td>assumption</td><td></td><td><span style=\"font-size:20px;\"><a class=\"ProveItLink\" href=\"__pv_it/7e7f905a57f098a3e946d835c31d94aecd7f07b00/expr.ipynb\"><img src=\"__pv_it/7e7f905a57f098a3e946d835c31d94aecd7f07b00/expr.png\" style=\"display:inline;vertical-align:middle;\" /></a> &#x22A2;&nbsp;<a class=\"ProveItLink\" href=\"__pv_it/fe8a1ac19c1dfe131d106bace16ac8161bc1bb360/expr.ipynb\"><img src=\"__pv_it/fe8a1ac19c1dfe131d106bace16ac8161bc1bb360/expr.png\" style=\"display:inline;vertical-align:middle;\" /></a></span></td></tr>\n",
       "<tr><td>10</td><td>assumption</td><td></td><td><span style=\"font-size:20px;\"><a class=\"ProveItLink\" href=\"__pv_it/07918ab6e8f801f5be99e77d7ddd42c29567d8490/expr.ipynb\"><img src=\"__pv_it/07918ab6e8f801f5be99e77d7ddd42c29567d8490/expr.png\" style=\"display:inline;vertical-align:middle;\" /></a> &#x22A2;&nbsp;<a class=\"ProveItLink\" href=\"__pv_it/fbf759342b78d090a2603d2f9ae70a7c3cd9903c0/expr.ipynb\"><img src=\"__pv_it/fbf759342b78d090a2603d2f9ae70a7c3cd9903c0/expr.png\" style=\"display:inline;vertical-align:middle;\" /></a></span></td></tr>\n",
       "<tr><td>11</td><td>assumption</td><td></td><td><span style=\"font-size:20px;\"><a class=\"ProveItLink\" href=\"__pv_it/134d4699fe0b82f456c566f8008bd8d49497f0220/expr.ipynb\"><img src=\"__pv_it/134d4699fe0b82f456c566f8008bd8d49497f0220/expr.png\" style=\"display:inline;vertical-align:middle;\" /></a> &#x22A2;&nbsp;<a class=\"ProveItLink\" href=\"__pv_it/e2c9b5e3d644ce60e4a0e6f1a20234faafa5ae620/expr.ipynb\"><img src=\"__pv_it/e2c9b5e3d644ce60e4a0e6f1a20234faafa5ae620/expr.png\" style=\"display:inline;vertical-align:middle;\" /></a></span></td></tr>\n",
       "</table>"
      ],
      "text/plain": [
       "\tstep type\trequirements\tstatement\n",
       "0\tspecialization\t1, 2, 3, 4, 5, 6\t{a in Reals , b in Reals , c in Reals , d in Reals} |= (a + b + c + d) in Reals\n",
       "\tm : 4, A : (a , b , c , d)\n",
       "1\ttheorem\t\t|= forall_{m in Naturals} [forall_{A in Reals^{m}} ((A_1 +  ...  + A_m) in Reals)]\n",
       "\tproveit.number.addition.addRealClosure\n",
       "2\ttheorem\t\t|= 4 in Naturals\n",
       "\tproveit.number.numeral.deci.nat4\n",
       "3\tspecialization\t7, 8, 9, 10, 11\t{a in Reals , b in Reals , c in Reals , d in Reals} |= (a , b , c , d) in Reals^{4}\n",
       "\tS : Reals, a : a, b : b, c : c, d : d\n",
       "4\ttheorem\t\t|= (1 + 1) = 2\n",
       "\tproveit.number.numeral.deci.add_1_1\n",
       "5\ttheorem\t\t|= (2 + 1) = 3\n",
       "\tproveit.number.numeral.deci.add_2_1\n",
       "6\ttheorem\t\t|= (3 + 1) = 4\n",
       "\tproveit.number.numeral.deci.add_3_1\n",
       "7\ttheorem\t\t|= forall_{S} [forall_{a, b, c, d in S} ((a , b , c , d) in S^{4})]\n",
       "\tproveit.logic.set_theory.membership.exp_set_4\n",
       "8\tassumption\t\t{a in Reals} |= a in Reals\n",
       "9\tassumption\t\t{b in Reals} |= b in Reals\n",
       "10\tassumption\t\t{c in Reals} |= c in Reals\n",
       "11\tassumption\t\t{d in Reals} |= d in Reals"
      ]
     },
     "execution_count": 14,
     "metadata": {},
     "output_type": "execute_result"
    }
   ],
   "source": [
    "Add(a,b,c,d).deduceInNumberSet(Reals, assumptions=[InSet(a,Reals), InSet(b,Reals), InSet(c, Reals), InSet(d, Reals)]).proof()"
   ]
  },
  {
   "cell_type": "code",
   "execution_count": 15,
   "metadata": {},
   "outputs": [
    {
     "data": {
      "text/html": [
       "<table><tr><th>&nbsp;</th><th>step type</th><th>requirements</th><th>statement</th></tr>\n",
       "<tr><td>0</td><td>specialization</td><td>1, 2, 3</td><td><span style=\"font-size:20px;\"><a class=\"ProveItLink\" href=\"__pv_it/226b43c614a1a5552b1b348d4ae288cfb47f07100/expr.ipynb\"><img src=\"__pv_it/226b43c614a1a5552b1b348d4ae288cfb47f07100/expr.png\" style=\"display:inline;vertical-align:middle;\" /></a> &#x22A2;&nbsp;<a class=\"ProveItLink\" href=\"__pv_it/db87187c2cb4262e5b2f12e4badca3215daee37d0/expr.ipynb\"><img src=\"__pv_it/db87187c2cb4262e5b2f12e4badca3215daee37d0/expr.png\" style=\"display:inline;vertical-align:middle;\" /></a></span></td></tr>\n",
       "<tr><td>&nbsp;</td><td colspan=4 style=\"text-align:left\"><span style=\"font-size:20px;\"><a class=\"ProveItLink\" href=\"../../__pv_it/07527342713064c87612d00d8557c53d53d5324a0/expr.ipynb\"><img src=\"../../__pv_it/07527342713064c87612d00d8557c53d53d5324a0/expr.png\" style=\"display:inline;vertical-align:middle;\" /></a> : <a class=\"ProveItLink\" href=\"../../__pv_it/07527342713064c87612d00d8557c53d53d5324a0/expr.ipynb\"><img src=\"../../__pv_it/07527342713064c87612d00d8557c53d53d5324a0/expr.png\" style=\"display:inline;vertical-align:middle;\" /></a>, <a class=\"ProveItLink\" href=\"../../__pv_it/6840a4fa6c106149dc16a131294d0c5e44f1b0480/expr.ipynb\"><img src=\"../../__pv_it/6840a4fa6c106149dc16a131294d0c5e44f1b0480/expr.png\" style=\"display:inline;vertical-align:middle;\" /></a> : <a class=\"ProveItLink\" href=\"../../__pv_it/6840a4fa6c106149dc16a131294d0c5e44f1b0480/expr.ipynb\"><img src=\"../../__pv_it/6840a4fa6c106149dc16a131294d0c5e44f1b0480/expr.png\" style=\"display:inline;vertical-align:middle;\" /></a></span></td></tr><tr><td>1</td><td>theorem</td><td></td><td><span style=\"font-size:20px;\"> &#x22A2;&nbsp;<a class=\"ProveItLink\" href=\"__pv_it/aac41e2c62f2f73921ba549384f8f67c14fe55af0/expr.ipynb\"><img src=\"__pv_it/aac41e2c62f2f73921ba549384f8f67c14fe55af0/expr.png\" style=\"display:inline;vertical-align:middle;\" /></a></span></td></tr>\n",
       "<tr><td>&nbsp;</td><td colspan=4 style-\"text-align:left\"><a class=\"ProveItLink\" href=\"_proofs_/addComplexClosureBin.ipynb\">proveit.number.addition.addComplexClosureBin</a></td></tr><tr><td>2</td><td>assumption</td><td></td><td><span style=\"font-size:20px;\"><a class=\"ProveItLink\" href=\"__pv_it/c651cb6c6bae72df5541f1340fb4cabda6ffa7810/expr.ipynb\"><img src=\"__pv_it/c651cb6c6bae72df5541f1340fb4cabda6ffa7810/expr.png\" style=\"display:inline;vertical-align:middle;\" /></a> &#x22A2;&nbsp;<a class=\"ProveItLink\" href=\"__pv_it/5c4b55fdcf98bd4a2f0f1b0ae893cae161069e010/expr.ipynb\"><img src=\"__pv_it/5c4b55fdcf98bd4a2f0f1b0ae893cae161069e010/expr.png\" style=\"display:inline;vertical-align:middle;\" /></a></span></td></tr>\n",
       "<tr><td>3</td><td>assumption</td><td></td><td><span style=\"font-size:20px;\"><a class=\"ProveItLink\" href=\"__pv_it/5bb6a715f3cd787b1d95befb9e1491223c9146520/expr.ipynb\"><img src=\"__pv_it/5bb6a715f3cd787b1d95befb9e1491223c9146520/expr.png\" style=\"display:inline;vertical-align:middle;\" /></a> &#x22A2;&nbsp;<a class=\"ProveItLink\" href=\"__pv_it/587b64291858cf4e1f1315a3087a0cd8f847d85d0/expr.ipynb\"><img src=\"__pv_it/587b64291858cf4e1f1315a3087a0cd8f847d85d0/expr.png\" style=\"display:inline;vertical-align:middle;\" /></a></span></td></tr>\n",
       "</table>"
      ],
      "text/plain": [
       "\tstep type\trequirements\tstatement\n",
       "0\tspecialization\t1, 2, 3\t{a in Complexes , b in Complexes} |= (a + b) in Complexes\n",
       "\ta : a, b : b\n",
       "1\ttheorem\t\t|= forall_{a, b in Complexes} ((a + b) in Complexes)\n",
       "\tproveit.number.addition.addComplexClosureBin\n",
       "2\tassumption\t\t{a in Complexes} |= a in Complexes\n",
       "3\tassumption\t\t{b in Complexes} |= b in Complexes"
      ]
     },
     "execution_count": 15,
     "metadata": {},
     "output_type": "execute_result"
    }
   ],
   "source": [
    "Add(a,b).deduceInNumberSet(Complexes, assumptions=[InSet(a, Complexes), InSet(b, Complexes)]).proof()"
   ]
  },
  {
   "cell_type": "code",
   "execution_count": 16,
   "metadata": {},
   "outputs": [
    {
     "data": {
      "text/html": [
       "<table><tr><th>&nbsp;</th><th>step type</th><th>requirements</th><th>statement</th></tr>\n",
       "<tr><td>0</td><td>specialization</td><td>1, 2, 3, 4, 5, 6</td><td><span style=\"font-size:20px;\"><a class=\"ProveItLink\" href=\"__pv_it/21862957a389d38f17126e9534c375ca569419e10/expr.ipynb\"><img src=\"__pv_it/21862957a389d38f17126e9534c375ca569419e10/expr.png\" style=\"display:inline;vertical-align:middle;\" /></a> &#x22A2;&nbsp;<a class=\"ProveItLink\" href=\"__pv_it/3d884d192e533c1de3f8506ce9dba940cc2958e00/expr.ipynb\"><img src=\"__pv_it/3d884d192e533c1de3f8506ce9dba940cc2958e00/expr.png\" style=\"display:inline;vertical-align:middle;\" /></a></span></td></tr>\n",
       "<tr><td>&nbsp;</td><td colspan=4 style=\"text-align:left\"><span style=\"font-size:20px;\"><a class=\"ProveItLink\" href=\"../../__pv_it/78af03acba5349fd70398a32ce59bae1da52f0870/expr.ipynb\"><img src=\"../../__pv_it/78af03acba5349fd70398a32ce59bae1da52f0870/expr.png\" style=\"display:inline;vertical-align:middle;\" /></a> : <a class=\"ProveItLink\" href=\"../numeral/__pv_it/23412ce59ea7e77353d2f9225e02248e73651ca00/expr.ipynb\"><img src=\"../numeral/__pv_it/23412ce59ea7e77353d2f9225e02248e73651ca00/expr.png\" style=\"display:inline;vertical-align:middle;\" /></a>, <a class=\"ProveItLink\" href=\"../../__pv_it/eb438fefc4bd0ac977777d6dfd3e8a72dfbedbd50/expr.ipynb\"><img src=\"../../__pv_it/eb438fefc4bd0ac977777d6dfd3e8a72dfbedbd50/expr.png\" style=\"display:inline;vertical-align:middle;\" /></a> : <a class=\"ProveItLink\" href=\"__pv_it/8119cab917fa6f13377ec3016b6ddc80a96181000/expr.ipynb\"><img src=\"__pv_it/8119cab917fa6f13377ec3016b6ddc80a96181000/expr.png\" style=\"display:inline;vertical-align:middle;\" /></a></span></td></tr><tr><td>1</td><td>theorem</td><td></td><td><span style=\"font-size:20px;\"> &#x22A2;&nbsp;<a class=\"ProveItLink\" href=\"__pv_it/e104e2df08fa6e35cbdd57622a5407b2767885d70/expr.ipynb\"><img src=\"__pv_it/e104e2df08fa6e35cbdd57622a5407b2767885d70/expr.png\" style=\"display:inline;vertical-align:middle;\" /></a></span></td></tr>\n",
       "<tr><td>&nbsp;</td><td colspan=4 style-\"text-align:left\"><a class=\"ProveItLink\" href=\"_proofs_/addComplexClosure.ipynb\">proveit.number.addition.addComplexClosure</a></td></tr><tr><td>2</td><td>theorem</td><td></td><td><span style=\"font-size:20px;\"> &#x22A2;&nbsp;<a class=\"ProveItLink\" href=\"../numeral/deci/__pv_it/3fc93db3b3fd1b15204240d9de18a48656bfb08c0/expr.ipynb\"><img src=\"../numeral/deci/__pv_it/3fc93db3b3fd1b15204240d9de18a48656bfb08c0/expr.png\" style=\"display:inline;vertical-align:middle;\" /></a></span></td></tr>\n",
       "<tr><td>&nbsp;</td><td colspan=4 style-\"text-align:left\"><a class=\"ProveItLink\" href=\"../numeral/deci/_proofs_/nat4.ipynb\">proveit.number.numeral.deci.nat4</a></td></tr><tr><td>3</td><td>specialization</td><td>7, 8, 9, 10, 11</td><td><span style=\"font-size:20px;\"><a class=\"ProveItLink\" href=\"__pv_it/21862957a389d38f17126e9534c375ca569419e10/expr.ipynb\"><img src=\"__pv_it/21862957a389d38f17126e9534c375ca569419e10/expr.png\" style=\"display:inline;vertical-align:middle;\" /></a> &#x22A2;&nbsp;<a class=\"ProveItLink\" href=\"__pv_it/6a05431e505682684d363c5ab1571b98e4c86fd60/expr.ipynb\"><img src=\"__pv_it/6a05431e505682684d363c5ab1571b98e4c86fd60/expr.png\" style=\"display:inline;vertical-align:middle;\" /></a></span></td></tr>\n",
       "<tr><td>&nbsp;</td><td colspan=4 style=\"text-align:left\"><span style=\"font-size:20px;\"><a class=\"ProveItLink\" href=\"../../__pv_it/abeee18594afe51bfb1be95d9591fbba24ac53f30/expr.ipynb\"><img src=\"../../__pv_it/abeee18594afe51bfb1be95d9591fbba24ac53f30/expr.png\" style=\"display:inline;vertical-align:middle;\" /></a> : <a class=\"ProveItLink\" href=\"../sets/complex/__pv_it/c357845f93a5a2d9f649129d299e7ec28dda4b960/expr.ipynb\"><img src=\"../sets/complex/__pv_it/c357845f93a5a2d9f649129d299e7ec28dda4b960/expr.png\" style=\"display:inline;vertical-align:middle;\" /></a>, <a class=\"ProveItLink\" href=\"../../__pv_it/07527342713064c87612d00d8557c53d53d5324a0/expr.ipynb\"><img src=\"../../__pv_it/07527342713064c87612d00d8557c53d53d5324a0/expr.png\" style=\"display:inline;vertical-align:middle;\" /></a> : <a class=\"ProveItLink\" href=\"../../__pv_it/07527342713064c87612d00d8557c53d53d5324a0/expr.ipynb\"><img src=\"../../__pv_it/07527342713064c87612d00d8557c53d53d5324a0/expr.png\" style=\"display:inline;vertical-align:middle;\" /></a>, <a class=\"ProveItLink\" href=\"../../__pv_it/6840a4fa6c106149dc16a131294d0c5e44f1b0480/expr.ipynb\"><img src=\"../../__pv_it/6840a4fa6c106149dc16a131294d0c5e44f1b0480/expr.png\" style=\"display:inline;vertical-align:middle;\" /></a> : <a class=\"ProveItLink\" href=\"../../__pv_it/6840a4fa6c106149dc16a131294d0c5e44f1b0480/expr.ipynb\"><img src=\"../../__pv_it/6840a4fa6c106149dc16a131294d0c5e44f1b0480/expr.png\" style=\"display:inline;vertical-align:middle;\" /></a>, <a class=\"ProveItLink\" href=\"../../__pv_it/cbdfda466482236edba0ce44ac7ef39cda0af7a40/expr.ipynb\"><img src=\"../../__pv_it/cbdfda466482236edba0ce44ac7ef39cda0af7a40/expr.png\" style=\"display:inline;vertical-align:middle;\" /></a> : <a class=\"ProveItLink\" href=\"../../__pv_it/cbdfda466482236edba0ce44ac7ef39cda0af7a40/expr.ipynb\"><img src=\"../../__pv_it/cbdfda466482236edba0ce44ac7ef39cda0af7a40/expr.png\" style=\"display:inline;vertical-align:middle;\" /></a>, <a class=\"ProveItLink\" href=\"../../__pv_it/3a5de44ed6135dbbdbbeec6704c741e238f127300/expr.ipynb\"><img src=\"../../__pv_it/3a5de44ed6135dbbdbbeec6704c741e238f127300/expr.png\" style=\"display:inline;vertical-align:middle;\" /></a> : <a class=\"ProveItLink\" href=\"../../__pv_it/3a5de44ed6135dbbdbbeec6704c741e238f127300/expr.ipynb\"><img src=\"../../__pv_it/3a5de44ed6135dbbdbbeec6704c741e238f127300/expr.png\" style=\"display:inline;vertical-align:middle;\" /></a></span></td></tr><tr><td>4</td><td>theorem</td><td></td><td><span style=\"font-size:20px;\"> &#x22A2;&nbsp;<a class=\"ProveItLink\" href=\"../numeral/deci/__pv_it/5b6ff6a2fca03ad41d2a3084e44fbb28428ffb6a0/expr.ipynb\"><img src=\"../numeral/deci/__pv_it/5b6ff6a2fca03ad41d2a3084e44fbb28428ffb6a0/expr.png\" style=\"display:inline;vertical-align:middle;\" /></a></span></td></tr>\n",
       "<tr><td>&nbsp;</td><td colspan=4 style-\"text-align:left\"><a class=\"ProveItLink\" href=\"../numeral/deci/_proofs_/add_1_1.ipynb\">proveit.number.numeral.deci.add_1_1</a></td></tr><tr><td>5</td><td>theorem</td><td></td><td><span style=\"font-size:20px;\"> &#x22A2;&nbsp;<a class=\"ProveItLink\" href=\"../numeral/deci/__pv_it/349c663074c343ced32577f83aa9971191d0752c0/expr.ipynb\"><img src=\"../numeral/deci/__pv_it/349c663074c343ced32577f83aa9971191d0752c0/expr.png\" style=\"display:inline;vertical-align:middle;\" /></a></span></td></tr>\n",
       "<tr><td>&nbsp;</td><td colspan=4 style-\"text-align:left\"><a class=\"ProveItLink\" href=\"../numeral/deci/_proofs_/add_2_1.ipynb\">proveit.number.numeral.deci.add_2_1</a></td></tr><tr><td>6</td><td>theorem</td><td></td><td><span style=\"font-size:20px;\"> &#x22A2;&nbsp;<a class=\"ProveItLink\" href=\"../numeral/deci/__pv_it/9b6fcf185675beb8420ce00c17510693f9522a6a0/expr.ipynb\"><img src=\"../numeral/deci/__pv_it/9b6fcf185675beb8420ce00c17510693f9522a6a0/expr.png\" style=\"display:inline;vertical-align:middle;\" /></a></span></td></tr>\n",
       "<tr><td>&nbsp;</td><td colspan=4 style-\"text-align:left\"><a class=\"ProveItLink\" href=\"../numeral/deci/_proofs_/add_3_1.ipynb\">proveit.number.numeral.deci.add_3_1</a></td></tr><tr><td>7</td><td>theorem</td><td></td><td><span style=\"font-size:20px;\"> &#x22A2;&nbsp;<a class=\"ProveItLink\" href=\"../../logic/set_theory/membership/__pv_it/f8871096ab31a54eeeb7d5201addc96bdbcd44530/expr.ipynb\"><img src=\"../../logic/set_theory/membership/__pv_it/f8871096ab31a54eeeb7d5201addc96bdbcd44530/expr.png\" style=\"display:inline;vertical-align:middle;\" /></a></span></td></tr>\n",
       "<tr><td>&nbsp;</td><td colspan=4 style-\"text-align:left\"><a class=\"ProveItLink\" href=\"../../logic/set_theory/membership/_proofs_/exp_set_4.ipynb\">proveit.logic.set_theory.membership.exp_set_4</a></td></tr><tr><td>8</td><td>assumption</td><td></td><td><span style=\"font-size:20px;\"><a class=\"ProveItLink\" href=\"__pv_it/c651cb6c6bae72df5541f1340fb4cabda6ffa7810/expr.ipynb\"><img src=\"__pv_it/c651cb6c6bae72df5541f1340fb4cabda6ffa7810/expr.png\" style=\"display:inline;vertical-align:middle;\" /></a> &#x22A2;&nbsp;<a class=\"ProveItLink\" href=\"__pv_it/5c4b55fdcf98bd4a2f0f1b0ae893cae161069e010/expr.ipynb\"><img src=\"__pv_it/5c4b55fdcf98bd4a2f0f1b0ae893cae161069e010/expr.png\" style=\"display:inline;vertical-align:middle;\" /></a></span></td></tr>\n",
       "<tr><td>9</td><td>assumption</td><td></td><td><span style=\"font-size:20px;\"><a class=\"ProveItLink\" href=\"__pv_it/5bb6a715f3cd787b1d95befb9e1491223c9146520/expr.ipynb\"><img src=\"__pv_it/5bb6a715f3cd787b1d95befb9e1491223c9146520/expr.png\" style=\"display:inline;vertical-align:middle;\" /></a> &#x22A2;&nbsp;<a class=\"ProveItLink\" href=\"__pv_it/587b64291858cf4e1f1315a3087a0cd8f847d85d0/expr.ipynb\"><img src=\"__pv_it/587b64291858cf4e1f1315a3087a0cd8f847d85d0/expr.png\" style=\"display:inline;vertical-align:middle;\" /></a></span></td></tr>\n",
       "<tr><td>10</td><td>assumption</td><td></td><td><span style=\"font-size:20px;\"><a class=\"ProveItLink\" href=\"__pv_it/0f549e476b3aaa830469e11e03aa712535ab00fe0/expr.ipynb\"><img src=\"__pv_it/0f549e476b3aaa830469e11e03aa712535ab00fe0/expr.png\" style=\"display:inline;vertical-align:middle;\" /></a> &#x22A2;&nbsp;<a class=\"ProveItLink\" href=\"__pv_it/1e06a5e83aefe6b08f47a2455c5372884ab5c3200/expr.ipynb\"><img src=\"__pv_it/1e06a5e83aefe6b08f47a2455c5372884ab5c3200/expr.png\" style=\"display:inline;vertical-align:middle;\" /></a></span></td></tr>\n",
       "<tr><td>11</td><td>assumption</td><td></td><td><span style=\"font-size:20px;\"><a class=\"ProveItLink\" href=\"__pv_it/04e211284b51e4209c5e38b501bf04523875c7ae0/expr.ipynb\"><img src=\"__pv_it/04e211284b51e4209c5e38b501bf04523875c7ae0/expr.png\" style=\"display:inline;vertical-align:middle;\" /></a> &#x22A2;&nbsp;<a class=\"ProveItLink\" href=\"__pv_it/34a69298a9be8e6f7ba3a4c05c51d8dda7da43dc0/expr.ipynb\"><img src=\"__pv_it/34a69298a9be8e6f7ba3a4c05c51d8dda7da43dc0/expr.png\" style=\"display:inline;vertical-align:middle;\" /></a></span></td></tr>\n",
       "</table>"
      ],
      "text/plain": [
       "\tstep type\trequirements\tstatement\n",
       "0\tspecialization\t1, 2, 3, 4, 5, 6\t{a in Complexes , b in Complexes , c in Complexes , d in Complexes} |= (a + b + c + d) in Complexes\n",
       "\tm : 4, A : (a , b , c , d)\n",
       "1\ttheorem\t\t|= forall_{m in Naturals} [forall_{A in Complexes^{m}} ((A_1 +  ...  + A_m) in Complexes)]\n",
       "\tproveit.number.addition.addComplexClosure\n",
       "2\ttheorem\t\t|= 4 in Naturals\n",
       "\tproveit.number.numeral.deci.nat4\n",
       "3\tspecialization\t7, 8, 9, 10, 11\t{a in Complexes , b in Complexes , c in Complexes , d in Complexes} |= (a , b , c , d) in Complexes^{4}\n",
       "\tS : Complexes, a : a, b : b, c : c, d : d\n",
       "4\ttheorem\t\t|= (1 + 1) = 2\n",
       "\tproveit.number.numeral.deci.add_1_1\n",
       "5\ttheorem\t\t|= (2 + 1) = 3\n",
       "\tproveit.number.numeral.deci.add_2_1\n",
       "6\ttheorem\t\t|= (3 + 1) = 4\n",
       "\tproveit.number.numeral.deci.add_3_1\n",
       "7\ttheorem\t\t|= forall_{S} [forall_{a, b, c, d in S} ((a , b , c , d) in S^{4})]\n",
       "\tproveit.logic.set_theory.membership.exp_set_4\n",
       "8\tassumption\t\t{a in Complexes} |= a in Complexes\n",
       "9\tassumption\t\t{b in Complexes} |= b in Complexes\n",
       "10\tassumption\t\t{c in Complexes} |= c in Complexes\n",
       "11\tassumption\t\t{d in Complexes} |= d in Complexes"
      ]
     },
     "execution_count": 16,
     "metadata": {},
     "output_type": "execute_result"
    }
   ],
   "source": [
    "Add(a,b,c,d).deduceInNumberSet(Complexes, assumptions=[InSet(a, Complexes), InSet(b, Complexes), InSet(c, Complexes), InSet(d,Complexes)]).proof()"
   ]
  },
  {
   "cell_type": "code",
   "execution_count": 17,
   "metadata": {},
   "outputs": [
    {
     "name": "stdout",
     "output_type": "stream",
     "text": [
      "b\n",
      "4\n"
     ]
    },
    {
     "data": {
      "text/html": [
       "<table><tr><th>&nbsp;</th><th>step type</th><th>requirements</th><th>statement</th></tr>\n",
       "<tr><td>0</td><td>specialization</td><td>1, 2, 3, 4, 5, 6, 7</td><td><span style=\"font-size:20px;\"><a class=\"ProveItLink\" href=\"__pv_it/f72953b83284a968168172535fd53b4dc08c20960/expr.ipynb\"><img src=\"__pv_it/f72953b83284a968168172535fd53b4dc08c20960/expr.png\" style=\"display:inline;vertical-align:middle;\" /></a> &#x22A2;&nbsp;<a class=\"ProveItLink\" href=\"__pv_it/c8bcbca3dc66201269017fcfd4822b697ab32d290/expr.ipynb\"><img src=\"__pv_it/c8bcbca3dc66201269017fcfd4822b697ab32d290/expr.png\" style=\"display:inline;vertical-align:middle;\" /></a></span></td></tr>\n",
       "<tr><td>&nbsp;</td><td colspan=4 style=\"text-align:left\"><span style=\"font-size:20px;\"><a class=\"ProveItLink\" href=\"../../__pv_it/78af03acba5349fd70398a32ce59bae1da52f0870/expr.ipynb\"><img src=\"../../__pv_it/78af03acba5349fd70398a32ce59bae1da52f0870/expr.png\" style=\"display:inline;vertical-align:middle;\" /></a> : <a class=\"ProveItLink\" href=\"../numeral/__pv_it/77d407a64829263cdc16415becd4c2293f77a4bf0/expr.ipynb\"><img src=\"../numeral/__pv_it/77d407a64829263cdc16415becd4c2293f77a4bf0/expr.png\" style=\"display:inline;vertical-align:middle;\" /></a>, <a class=\"ProveItLink\" href=\"../../__pv_it/39dbcd3ca0390345b51c6ef7785756419e2c14390/expr.ipynb\"><img src=\"../../__pv_it/39dbcd3ca0390345b51c6ef7785756419e2c14390/expr.png\" style=\"display:inline;vertical-align:middle;\" /></a> : <a class=\"ProveItLink\" href=\"../numeral/__pv_it/9be8badea4c35b9724062cecc501d17a3158d1d20/expr.ipynb\"><img src=\"../numeral/__pv_it/9be8badea4c35b9724062cecc501d17a3158d1d20/expr.png\" style=\"display:inline;vertical-align:middle;\" /></a>, <a class=\"ProveItLink\" href=\"../../__pv_it/eb438fefc4bd0ac977777d6dfd3e8a72dfbedbd50/expr.ipynb\"><img src=\"../../__pv_it/eb438fefc4bd0ac977777d6dfd3e8a72dfbedbd50/expr.png\" style=\"display:inline;vertical-align:middle;\" /></a> : <a class=\"ProveItLink\" href=\"__pv_it/1165dd4177ca193575848a54fb75c7104464525e0/expr.ipynb\"><img src=\"__pv_it/1165dd4177ca193575848a54fb75c7104464525e0/expr.png\" style=\"display:inline;vertical-align:middle;\" /></a>, <a class=\"ProveItLink\" href=\"../../__pv_it/077b2ff79244fb4582cbe22c6e3356fa92a52f2f0/expr.ipynb\"><img src=\"../../__pv_it/077b2ff79244fb4582cbe22c6e3356fa92a52f2f0/expr.png\" style=\"display:inline;vertical-align:middle;\" /></a> : <a class=\"ProveItLink\" href=\"../numeral/__pv_it/9be8badea4c35b9724062cecc501d17a3158d1d20/expr.ipynb\"><img src=\"../numeral/__pv_it/9be8badea4c35b9724062cecc501d17a3158d1d20/expr.png\" style=\"display:inline;vertical-align:middle;\" /></a>, <a class=\"ProveItLink\" href=\"../../__pv_it/9242e69d4f2c65d04fc0527b82418c7c22c6da370/expr.ipynb\"><img src=\"../../__pv_it/9242e69d4f2c65d04fc0527b82418c7c22c6da370/expr.png\" style=\"display:inline;vertical-align:middle;\" /></a> : <a class=\"ProveItLink\" href=\"__pv_it/b0f925044c1a09242ecee47093931b35eb0badf50/expr.ipynb\"><img src=\"__pv_it/b0f925044c1a09242ecee47093931b35eb0badf50/expr.png\" style=\"display:inline;vertical-align:middle;\" /></a></span></td></tr><tr><td>1</td><td>theorem</td><td></td><td><span style=\"font-size:20px;\"> &#x22A2;&nbsp;<a class=\"ProveItLink\" href=\"__pv_it/d2fec741d6065b5f9d101968e280dab76686ad470/expr.ipynb\"><img src=\"__pv_it/d2fec741d6065b5f9d101968e280dab76686ad470/expr.png\" style=\"display:inline;vertical-align:middle;\" /></a></span></td></tr>\n",
       "<tr><td>&nbsp;</td><td colspan=4 style-\"text-align:left\"><a class=\"ProveItLink\" href=\"_proofs_/addNatPosClosure.ipynb\">proveit.number.addition.addNatPosClosure</a></td></tr><tr><td>2</td><td>theorem</td><td></td><td><span style=\"font-size:20px;\"> &#x22A2;&nbsp;<a class=\"ProveItLink\" href=\"../numeral/deci/__pv_it/286f0443dba55bdb259c90cef1db0ca273fac95e0/expr.ipynb\"><img src=\"../numeral/deci/__pv_it/286f0443dba55bdb259c90cef1db0ca273fac95e0/expr.png\" style=\"display:inline;vertical-align:middle;\" /></a></span></td></tr>\n",
       "<tr><td>&nbsp;</td><td colspan=4 style-\"text-align:left\"><a class=\"ProveItLink\" href=\"../numeral/deci/_proofs_/nat2.ipynb\">proveit.number.numeral.deci.nat2</a></td></tr><tr><td>3</td><td>theorem</td><td></td><td><span style=\"font-size:20px;\"> &#x22A2;&nbsp;<a class=\"ProveItLink\" href=\"../numeral/deci/__pv_it/3f15fb519636fc585376b5b502be456d654dd18d0/expr.ipynb\"><img src=\"../numeral/deci/__pv_it/3f15fb519636fc585376b5b502be456d654dd18d0/expr.png\" style=\"display:inline;vertical-align:middle;\" /></a></span></td></tr>\n",
       "<tr><td>&nbsp;</td><td colspan=4 style-\"text-align:left\"><a class=\"ProveItLink\" href=\"../numeral/deci/_proofs_/nat1.ipynb\">proveit.number.numeral.deci.nat1</a></td></tr><tr><td>4</td><td>specialization</td><td>8, 9, 10</td><td><span style=\"font-size:20px;\"><a class=\"ProveItLink\" href=\"__pv_it/cc27a795895b8cc1bbe72a883042110cc8e773d20/expr.ipynb\"><img src=\"__pv_it/cc27a795895b8cc1bbe72a883042110cc8e773d20/expr.png\" style=\"display:inline;vertical-align:middle;\" /></a> &#x22A2;&nbsp;<a class=\"ProveItLink\" href=\"__pv_it/ac87fc8b215af51f8b7a043d9125e4ce57fff1720/expr.ipynb\"><img src=\"__pv_it/ac87fc8b215af51f8b7a043d9125e4ce57fff1720/expr.png\" style=\"display:inline;vertical-align:middle;\" /></a></span></td></tr>\n",
       "<tr><td>&nbsp;</td><td colspan=4 style=\"text-align:left\"><span style=\"font-size:20px;\"><a class=\"ProveItLink\" href=\"../../__pv_it/abeee18594afe51bfb1be95d9591fbba24ac53f30/expr.ipynb\"><img src=\"../../__pv_it/abeee18594afe51bfb1be95d9591fbba24ac53f30/expr.png\" style=\"display:inline;vertical-align:middle;\" /></a> : <a class=\"ProveItLink\" href=\"../sets/integer/__pv_it/4434d1ec6afb2b8deec87ded0866b923feb9d6e60/expr.ipynb\"><img src=\"../sets/integer/__pv_it/4434d1ec6afb2b8deec87ded0866b923feb9d6e60/expr.png\" style=\"display:inline;vertical-align:middle;\" /></a>, <a class=\"ProveItLink\" href=\"../../__pv_it/07527342713064c87612d00d8557c53d53d5324a0/expr.ipynb\"><img src=\"../../__pv_it/07527342713064c87612d00d8557c53d53d5324a0/expr.png\" style=\"display:inline;vertical-align:middle;\" /></a> : <a class=\"ProveItLink\" href=\"../../__pv_it/07527342713064c87612d00d8557c53d53d5324a0/expr.ipynb\"><img src=\"../../__pv_it/07527342713064c87612d00d8557c53d53d5324a0/expr.png\" style=\"display:inline;vertical-align:middle;\" /></a>, <a class=\"ProveItLink\" href=\"../../__pv_it/6840a4fa6c106149dc16a131294d0c5e44f1b0480/expr.ipynb\"><img src=\"../../__pv_it/6840a4fa6c106149dc16a131294d0c5e44f1b0480/expr.png\" style=\"display:inline;vertical-align:middle;\" /></a> : <a class=\"ProveItLink\" href=\"../../__pv_it/6840a4fa6c106149dc16a131294d0c5e44f1b0480/expr.ipynb\"><img src=\"../../__pv_it/6840a4fa6c106149dc16a131294d0c5e44f1b0480/expr.png\" style=\"display:inline;vertical-align:middle;\" /></a></span></td></tr><tr><td>5</td><td>specialization</td><td>11, 12</td><td><span style=\"font-size:20px;\"> &#x22A2;&nbsp;<a class=\"ProveItLink\" href=\"__pv_it/a8f7ea9fbd66e01d2b03b22035bb95a639b10e730/expr.ipynb\"><img src=\"__pv_it/a8f7ea9fbd66e01d2b03b22035bb95a639b10e730/expr.png\" style=\"display:inline;vertical-align:middle;\" /></a></span></td></tr>\n",
       "<tr><td>&nbsp;</td><td colspan=4 style=\"text-align:left\"><span style=\"font-size:20px;\"><a class=\"ProveItLink\" href=\"../../__pv_it/530be409e3083890784cf1d7b28c9e67e90af9360/expr.ipynb\"><img src=\"../../__pv_it/530be409e3083890784cf1d7b28c9e67e90af9360/expr.png\" style=\"display:inline;vertical-align:middle;\" /></a> : <a class=\"ProveItLink\" href=\"../numeral/__pv_it/ec23fc7a1b4222a5f4948b495002b97d6fa18c3c0/expr.ipynb\"><img src=\"../numeral/__pv_it/ec23fc7a1b4222a5f4948b495002b97d6fa18c3c0/expr.png\" style=\"display:inline;vertical-align:middle;\" /></a>, <a class=\"ProveItLink\" href=\"../../__pv_it/f8b9edf8e16034727f0aad55bb83e392c3db40d40/expr.ipynb\"><img src=\"../../__pv_it/f8b9edf8e16034727f0aad55bb83e392c3db40d40/expr.png\" style=\"display:inline;vertical-align:middle;\" /></a> : <a class=\"ProveItLink\" href=\"../numeral/__pv_it/9be8badea4c35b9724062cecc501d17a3158d1d20/expr.ipynb\"><img src=\"../numeral/__pv_it/9be8badea4c35b9724062cecc501d17a3158d1d20/expr.png\" style=\"display:inline;vertical-align:middle;\" /></a></span></td></tr><tr><td>6</td><td>specialization</td><td>13, 14</td><td><span style=\"font-size:20px;\"><a class=\"ProveItLink\" href=\"__pv_it/f373c2f055d04576ef640189a98ec5cace366d190/expr.ipynb\"><img src=\"__pv_it/f373c2f055d04576ef640189a98ec5cace366d190/expr.png\" style=\"display:inline;vertical-align:middle;\" /></a> &#x22A2;&nbsp;<a class=\"ProveItLink\" href=\"__pv_it/b1e11b91826d75ea9caa5dd941ce694bf8402fe10/expr.ipynb\"><img src=\"__pv_it/b1e11b91826d75ea9caa5dd941ce694bf8402fe10/expr.png\" style=\"display:inline;vertical-align:middle;\" /></a></span></td></tr>\n",
       "<tr><td>&nbsp;</td><td colspan=4 style=\"text-align:left\"><span style=\"font-size:20px;\"><a class=\"ProveItLink\" href=\"../../__pv_it/abeee18594afe51bfb1be95d9591fbba24ac53f30/expr.ipynb\"><img src=\"../../__pv_it/abeee18594afe51bfb1be95d9591fbba24ac53f30/expr.png\" style=\"display:inline;vertical-align:middle;\" /></a> : <a class=\"ProveItLink\" href=\"../sets/integer/__pv_it/4434d1ec6afb2b8deec87ded0866b923feb9d6e60/expr.ipynb\"><img src=\"../sets/integer/__pv_it/4434d1ec6afb2b8deec87ded0866b923feb9d6e60/expr.png\" style=\"display:inline;vertical-align:middle;\" /></a>, <a class=\"ProveItLink\" href=\"../../__pv_it/07527342713064c87612d00d8557c53d53d5324a0/expr.ipynb\"><img src=\"../../__pv_it/07527342713064c87612d00d8557c53d53d5324a0/expr.png\" style=\"display:inline;vertical-align:middle;\" /></a> : <a class=\"ProveItLink\" href=\"../../__pv_it/3a5de44ed6135dbbdbbeec6704c741e238f127300/expr.ipynb\"><img src=\"../../__pv_it/3a5de44ed6135dbbdbbeec6704c741e238f127300/expr.png\" style=\"display:inline;vertical-align:middle;\" /></a></span></td></tr><tr><td>7</td><td>theorem</td><td></td><td><span style=\"font-size:20px;\"> &#x22A2;&nbsp;<a class=\"ProveItLink\" href=\"../numeral/deci/__pv_it/5b6ff6a2fca03ad41d2a3084e44fbb28428ffb6a0/expr.ipynb\"><img src=\"../numeral/deci/__pv_it/5b6ff6a2fca03ad41d2a3084e44fbb28428ffb6a0/expr.png\" style=\"display:inline;vertical-align:middle;\" /></a></span></td></tr>\n",
       "<tr><td>&nbsp;</td><td colspan=4 style-\"text-align:left\"><a class=\"ProveItLink\" href=\"../numeral/deci/_proofs_/add_1_1.ipynb\">proveit.number.numeral.deci.add_1_1</a></td></tr><tr><td>8</td><td>theorem</td><td></td><td><span style=\"font-size:20px;\"> &#x22A2;&nbsp;<a class=\"ProveItLink\" href=\"../../logic/set_theory/membership/__pv_it/9ac424c71798aca56b25ebe33a7a41dbaa332c490/expr.ipynb\"><img src=\"../../logic/set_theory/membership/__pv_it/9ac424c71798aca56b25ebe33a7a41dbaa332c490/expr.png\" style=\"display:inline;vertical-align:middle;\" /></a></span></td></tr>\n",
       "<tr><td>&nbsp;</td><td colspan=4 style-\"text-align:left\"><a class=\"ProveItLink\" href=\"../../logic/set_theory/membership/_proofs_/exp_set_2.ipynb\">proveit.logic.set_theory.membership.exp_set_2</a></td></tr><tr><td>9</td><td>assumption</td><td></td><td><span style=\"font-size:20px;\"><a class=\"ProveItLink\" href=\"__pv_it/3c7dd9e5c1771ca138dab8009ad846e050aea2d70/expr.ipynb\"><img src=\"__pv_it/3c7dd9e5c1771ca138dab8009ad846e050aea2d70/expr.png\" style=\"display:inline;vertical-align:middle;\" /></a> &#x22A2;&nbsp;<a class=\"ProveItLink\" href=\"__pv_it/181ce4799996c4451afe1c37a4e75f78d49035710/expr.ipynb\"><img src=\"__pv_it/181ce4799996c4451afe1c37a4e75f78d49035710/expr.png\" style=\"display:inline;vertical-align:middle;\" /></a></span></td></tr>\n",
       "<tr><td>10</td><td>assumption</td><td></td><td><span style=\"font-size:20px;\"><a class=\"ProveItLink\" href=\"__pv_it/03a10cf5f26eac238fa80336c9d71ed72ae506250/expr.ipynb\"><img src=\"__pv_it/03a10cf5f26eac238fa80336c9d71ed72ae506250/expr.png\" style=\"display:inline;vertical-align:middle;\" /></a> &#x22A2;&nbsp;<a class=\"ProveItLink\" href=\"__pv_it/b4eaf74fbef2c558f913e871d31b8353ac0fa7010/expr.ipynb\"><img src=\"__pv_it/b4eaf74fbef2c558f913e871d31b8353ac0fa7010/expr.png\" style=\"display:inline;vertical-align:middle;\" /></a></span></td></tr>\n",
       "<tr><td>11</td><td>theorem</td><td></td><td><span style=\"font-size:20px;\"> &#x22A2;&nbsp;<a class=\"ProveItLink\" href=\"../ordering/__pv_it/c73eb7062f56fda798b4bbb758c0c654d01d0e4f0/expr.ipynb\"><img src=\"../ordering/__pv_it/c73eb7062f56fda798b4bbb758c0c654d01d0e4f0/expr.png\" style=\"display:inline;vertical-align:middle;\" /></a></span></td></tr>\n",
       "<tr><td>&nbsp;</td><td colspan=4 style-\"text-align:left\"><a class=\"ProveItLink\" href=\"../ordering/_proofs_/reverseLess.ipynb\">proveit.number.ordering.reverseLess</a></td></tr><tr><td>12</td><td>theorem</td><td></td><td><span style=\"font-size:20px;\"> &#x22A2;&nbsp;<a class=\"ProveItLink\" href=\"../numeral/deci/__pv_it/d060bd26c883154e5b471568d486c4165d01a0d00/expr.ipynb\"><img src=\"../numeral/deci/__pv_it/d060bd26c883154e5b471568d486c4165d01a0d00/expr.png\" style=\"display:inline;vertical-align:middle;\" /></a></span></td></tr>\n",
       "<tr><td>&nbsp;</td><td colspan=4 style-\"text-align:left\"><a class=\"ProveItLink\" href=\"../numeral/deci/_proofs_/less_0_1.ipynb\">proveit.number.numeral.deci.less_0_1</a></td></tr><tr><td>13</td><td>theorem</td><td></td><td><span style=\"font-size:20px;\"> &#x22A2;&nbsp;<a class=\"ProveItLink\" href=\"../../logic/set_theory/membership/__pv_it/2fd01e9dcec2beac2e2b13b9e038066596f5567d0/expr.ipynb\"><img src=\"../../logic/set_theory/membership/__pv_it/2fd01e9dcec2beac2e2b13b9e038066596f5567d0/expr.png\" style=\"display:inline;vertical-align:middle;\" /></a></span></td></tr>\n",
       "<tr><td>&nbsp;</td><td colspan=4 style-\"text-align:left\"><a class=\"ProveItLink\" href=\"../../logic/set_theory/membership/_proofs_/exp_set_1.ipynb\">proveit.logic.set_theory.membership.exp_set_1</a></td></tr><tr><td>14</td><td>assumption</td><td></td><td><span style=\"font-size:20px;\"><a class=\"ProveItLink\" href=\"__pv_it/f373c2f055d04576ef640189a98ec5cace366d190/expr.ipynb\"><img src=\"__pv_it/f373c2f055d04576ef640189a98ec5cace366d190/expr.png\" style=\"display:inline;vertical-align:middle;\" /></a> &#x22A2;&nbsp;<a class=\"ProveItLink\" href=\"__pv_it/bfeb3e7e1eb477c9ff07f31f3e4697a069ca1d0d0/expr.ipynb\"><img src=\"__pv_it/bfeb3e7e1eb477c9ff07f31f3e4697a069ca1d0d0/expr.png\" style=\"display:inline;vertical-align:middle;\" /></a></span></td></tr>\n",
       "</table>"
      ],
      "text/plain": [
       "\tstep type\trequirements\tstatement\n",
       "0\tspecialization\t1, 2, 3, 4, 5, 6, 7\t{a in Naturals , b in Naturals , d in Naturals} |= (a + b + 1 + d) in NaturalsPos\n",
       "\tm : 2, n : 1, A : (a , b), B : 1, C : (d)\n",
       "1\ttheorem\t\t|= forall_{m, n in Naturals} [forall_{(A, B, C) in Naturals^{m} * Naturals * Naturals^{n} | B > 0} ((A_1 +  ...  + A_m + B + C_1 +  ...  + C_n) in NaturalsPos)]\n",
       "\tproveit.number.addition.addNatPosClosure\n",
       "2\ttheorem\t\t|= 2 in Naturals\n",
       "\tproveit.number.numeral.deci.nat2\n",
       "3\ttheorem\t\t|= 1 in Naturals\n",
       "\tproveit.number.numeral.deci.nat1\n",
       "4\tspecialization\t8, 9, 10\t{a in Naturals , b in Naturals} |= (a , b) in Naturals^{2}\n",
       "\tS : Naturals, a : a, b : b\n",
       "5\tspecialization\t11, 12\t|= 1 > 0\n",
       "\tx : 0, y : 1\n",
       "6\tspecialization\t13, 14\t{d in Naturals} |= (d) in Naturals^{1}\n",
       "\tS : Naturals, a : d\n",
       "7\ttheorem\t\t|= (1 + 1) = 2\n",
       "\tproveit.number.numeral.deci.add_1_1\n",
       "8\ttheorem\t\t|= forall_{S} [forall_{a, b in S} ((a , b) in S^{2})]\n",
       "\tproveit.logic.set_theory.membership.exp_set_2\n",
       "9\tassumption\t\t{a in Naturals} |= a in Naturals\n",
       "10\tassumption\t\t{b in Naturals} |= b in Naturals\n",
       "11\ttheorem\t\t|= forall_{x, y | x < y} (y > x)\n",
       "\tproveit.number.ordering.reverseLess\n",
       "12\ttheorem\t\t|= 0 < 1\n",
       "\tproveit.number.numeral.deci.less_0_1\n",
       "13\ttheorem\t\t|= forall_{S} [forall_{a in S} ((a) in S^{1})]\n",
       "\tproveit.logic.set_theory.membership.exp_set_1\n",
       "14\tassumption\t\t{d in Naturals} |= d in Naturals"
      ]
     },
     "execution_count": 17,
     "metadata": {},
     "output_type": "execute_result"
    }
   ],
   "source": [
    "Add(a,b,one,d).deduceInNumberSet(NaturalsPos, assumptions=[InSet(a, Naturals), InSet(b, Naturals), InSet(c, Naturals), InSet(d, Naturals)]).proof()"
   ]
  },
  {
   "cell_type": "code",
   "execution_count": 18,
   "metadata": {},
   "outputs": [
    {
     "data": {
      "text/html": [
       "<table><tr><th>&nbsp;</th><th>step type</th><th>requirements</th><th>statement</th></tr>\n",
       "<tr><td>0</td><td>specialization</td><td>1, 2</td><td><span style=\"font-size:20px;\"><a class=\"ProveItLink\" href=\"__pv_it/5bb6a715f3cd787b1d95befb9e1491223c9146520/expr.ipynb\"><img src=\"__pv_it/5bb6a715f3cd787b1d95befb9e1491223c9146520/expr.png\" style=\"display:inline;vertical-align:middle;\" /></a> &#x22A2;&nbsp;<a class=\"ProveItLink\" href=\"__pv_it/d015f4f5b8afa2db8ace01b1e8c21ab3fe6e9cc50/expr.ipynb\"><img src=\"__pv_it/d015f4f5b8afa2db8ace01b1e8c21ab3fe6e9cc50/expr.png\" style=\"display:inline;vertical-align:middle;\" /></a></span></td></tr>\n",
       "<tr><td>&nbsp;</td><td colspan=4 style=\"text-align:left\"><span style=\"font-size:20px;\"><a class=\"ProveItLink\" href=\"../../__pv_it/530be409e3083890784cf1d7b28c9e67e90af9360/expr.ipynb\"><img src=\"../../__pv_it/530be409e3083890784cf1d7b28c9e67e90af9360/expr.png\" style=\"display:inline;vertical-align:middle;\" /></a> : <a class=\"ProveItLink\" href=\"../../__pv_it/6840a4fa6c106149dc16a131294d0c5e44f1b0480/expr.ipynb\"><img src=\"../../__pv_it/6840a4fa6c106149dc16a131294d0c5e44f1b0480/expr.png\" style=\"display:inline;vertical-align:middle;\" /></a></span></td></tr><tr><td>1</td><td>theorem</td><td></td><td><span style=\"font-size:20px;\"> &#x22A2;&nbsp;<a class=\"ProveItLink\" href=\"__pv_it/f6ad0d70c2f879e32e39aaf4486d693830682bf00/expr.ipynb\"><img src=\"__pv_it/f6ad0d70c2f879e32e39aaf4486d693830682bf00/expr.png\" style=\"display:inline;vertical-align:middle;\" /></a></span></td></tr>\n",
       "<tr><td>&nbsp;</td><td colspan=4 style-\"text-align:left\"><a class=\"ProveItLink\" href=\"_proofs_/addZero.ipynb\">proveit.number.addition.addZero</a></td></tr><tr><td>2</td><td>assumption</td><td></td><td><span style=\"font-size:20px;\"><a class=\"ProveItLink\" href=\"__pv_it/5bb6a715f3cd787b1d95befb9e1491223c9146520/expr.ipynb\"><img src=\"__pv_it/5bb6a715f3cd787b1d95befb9e1491223c9146520/expr.png\" style=\"display:inline;vertical-align:middle;\" /></a> &#x22A2;&nbsp;<a class=\"ProveItLink\" href=\"__pv_it/587b64291858cf4e1f1315a3087a0cd8f847d85d0/expr.ipynb\"><img src=\"__pv_it/587b64291858cf4e1f1315a3087a0cd8f847d85d0/expr.png\" style=\"display:inline;vertical-align:middle;\" /></a></span></td></tr>\n",
       "</table>"
      ],
      "text/plain": [
       "\tstep type\trequirements\tstatement\n",
       "0\tspecialization\t1, 2\t{b in Complexes} |= (0 + b) = b\n",
       "\tx : b\n",
       "1\ttheorem\t\t|= forall_{x in Complexes} ((0 + x) = x)\n",
       "\tproveit.number.addition.addZero\n",
       "2\tassumption\t\t{b in Complexes} |= b in Complexes"
      ]
     },
     "execution_count": 18,
     "metadata": {},
     "output_type": "execute_result"
    }
   ],
   "source": [
    "Add(zero, b).deduceAddZero([InSet(b,Complexes)]).proof()"
   ]
  },
  {
   "cell_type": "code",
   "execution_count": 19,
   "metadata": {},
   "outputs": [
    {
     "data": {
      "text/html": [
       "<table><tr><th>&nbsp;</th><th>step type</th><th>requirements</th><th>statement</th></tr>\n",
       "<tr><td>0</td><td>specialization</td><td>1, 2, 3, 4, 5, 6, 7, 8, 9</td><td><span style=\"font-size:20px;\"><a class=\"ProveItLink\" href=\"__pv_it/daeb6fabaab9dba85c1cdf6a56aacd159dfbcd2e0/expr.ipynb\"><img src=\"__pv_it/daeb6fabaab9dba85c1cdf6a56aacd159dfbcd2e0/expr.png\" style=\"display:inline;vertical-align:middle;\" /></a> &#x22A2;&nbsp;<a class=\"ProveItLink\" href=\"__pv_it/8dae490b4d7bba1924c65f9750b612ef778ff7a40/expr.ipynb\"><img src=\"__pv_it/8dae490b4d7bba1924c65f9750b612ef778ff7a40/expr.png\" style=\"display:inline;vertical-align:middle;\" /></a></span></td></tr>\n",
       "<tr><td>&nbsp;</td><td colspan=4 style=\"text-align:left\"><span style=\"font-size:20px;\"><a class=\"ProveItLink\" href=\"../../__pv_it/3e5d49a51123592869b160296a6e123a424e07a70/expr.ipynb\"><img src=\"../../__pv_it/3e5d49a51123592869b160296a6e123a424e07a70/expr.png\" style=\"display:inline;vertical-align:middle;\" /></a> : <a class=\"ProveItLink\" href=\"../numeral/__pv_it/9be8badea4c35b9724062cecc501d17a3158d1d20/expr.ipynb\"><img src=\"../numeral/__pv_it/9be8badea4c35b9724062cecc501d17a3158d1d20/expr.png\" style=\"display:inline;vertical-align:middle;\" /></a>, <a class=\"ProveItLink\" href=\"../../__pv_it/78af03acba5349fd70398a32ce59bae1da52f0870/expr.ipynb\"><img src=\"../../__pv_it/78af03acba5349fd70398a32ce59bae1da52f0870/expr.png\" style=\"display:inline;vertical-align:middle;\" /></a> : <a class=\"ProveItLink\" href=\"../numeral/__pv_it/9be8badea4c35b9724062cecc501d17a3158d1d20/expr.ipynb\"><img src=\"../numeral/__pv_it/9be8badea4c35b9724062cecc501d17a3158d1d20/expr.png\" style=\"display:inline;vertical-align:middle;\" /></a>, <a class=\"ProveItLink\" href=\"../../__pv_it/39dbcd3ca0390345b51c6ef7785756419e2c14390/expr.ipynb\"><img src=\"../../__pv_it/39dbcd3ca0390345b51c6ef7785756419e2c14390/expr.png\" style=\"display:inline;vertical-align:middle;\" /></a> : <a class=\"ProveItLink\" href=\"../numeral/__pv_it/ec23fc7a1b4222a5f4948b495002b97d6fa18c3c0/expr.ipynb\"><img src=\"../numeral/__pv_it/ec23fc7a1b4222a5f4948b495002b97d6fa18c3c0/expr.png\" style=\"display:inline;vertical-align:middle;\" /></a>, <a class=\"ProveItLink\" href=\"../../__pv_it/eb438fefc4bd0ac977777d6dfd3e8a72dfbedbd50/expr.ipynb\"><img src=\"../../__pv_it/eb438fefc4bd0ac977777d6dfd3e8a72dfbedbd50/expr.png\" style=\"display:inline;vertical-align:middle;\" /></a> : <a class=\"ProveItLink\" href=\"__pv_it/236943d7cf60020381b311e94ab5ec5c727df31f0/expr.ipynb\"><img src=\"__pv_it/236943d7cf60020381b311e94ab5ec5c727df31f0/expr.png\" style=\"display:inline;vertical-align:middle;\" /></a>, <a class=\"ProveItLink\" href=\"../../__pv_it/077b2ff79244fb4582cbe22c6e3356fa92a52f2f0/expr.ipynb\"><img src=\"../../__pv_it/077b2ff79244fb4582cbe22c6e3356fa92a52f2f0/expr.png\" style=\"display:inline;vertical-align:middle;\" /></a> : <a class=\"ProveItLink\" href=\"../../__pv_it/6840a4fa6c106149dc16a131294d0c5e44f1b0480/expr.ipynb\"><img src=\"../../__pv_it/6840a4fa6c106149dc16a131294d0c5e44f1b0480/expr.png\" style=\"display:inline;vertical-align:middle;\" /></a>, <a class=\"ProveItLink\" href=\"../../__pv_it/9242e69d4f2c65d04fc0527b82418c7c22c6da370/expr.ipynb\"><img src=\"../../__pv_it/9242e69d4f2c65d04fc0527b82418c7c22c6da370/expr.png\" style=\"display:inline;vertical-align:middle;\" /></a> : <a class=\"ProveItLink\" href=\"__pv_it/56424513d436905ef2f7e40e9babf985e032e57a0/expr.ipynb\"><img src=\"__pv_it/56424513d436905ef2f7e40e9babf985e032e57a0/expr.png\" style=\"display:inline;vertical-align:middle;\" /></a>, <a class=\"ProveItLink\" href=\"../../__pv_it/185e6d30f167ee2ee5ef3321098dc98e0d77bc590/expr.ipynb\"><img src=\"../../__pv_it/185e6d30f167ee2ee5ef3321098dc98e0d77bc590/expr.png\" style=\"display:inline;vertical-align:middle;\" /></a> : <a class=\"ProveItLink\" href=\"../../__pv_it/3a5de44ed6135dbbdbbeec6704c741e238f127300/expr.ipynb\"><img src=\"../../__pv_it/3a5de44ed6135dbbdbbeec6704c741e238f127300/expr.png\" style=\"display:inline;vertical-align:middle;\" /></a>, <a class=\"ProveItLink\" href=\"../../__pv_it/63656012a195560f4e4f20815b9dee8366a979e40/expr.ipynb\"><img src=\"../../__pv_it/63656012a195560f4e4f20815b9dee8366a979e40/expr.png\" style=\"display:inline;vertical-align:middle;\" /></a> : <a class=\"ProveItLink\" href=\"__pv_it/47fa43ebc28df30ca42c709a7d123d39f2fac3160/expr.ipynb\"><img src=\"__pv_it/47fa43ebc28df30ca42c709a7d123d39f2fac3160/expr.png\" style=\"display:inline;vertical-align:middle;\" /></a></span></td></tr><tr><td>1</td><td>theorem</td><td></td><td><span style=\"font-size:20px;\"> &#x22A2;&nbsp;<a class=\"ProveItLink\" href=\"__pv_it/86b5f6edc9c0fe6b1667b2a7dfb7175fe72a15970/expr.ipynb\"><img src=\"__pv_it/86b5f6edc9c0fe6b1667b2a7dfb7175fe72a15970/expr.png\" style=\"display:inline;vertical-align:middle;\" /></a></span></td></tr>\n",
       "<tr><td>&nbsp;</td><td colspan=4 style-\"text-align:left\"><a class=\"ProveItLink\" href=\"_proofs_/swap.ipynb\">proveit.number.addition.swap</a></td></tr><tr><td>2</td><td>theorem</td><td></td><td><span style=\"font-size:20px;\"> &#x22A2;&nbsp;<a class=\"ProveItLink\" href=\"../numeral/deci/__pv_it/3f15fb519636fc585376b5b502be456d654dd18d0/expr.ipynb\"><img src=\"../numeral/deci/__pv_it/3f15fb519636fc585376b5b502be456d654dd18d0/expr.png\" style=\"display:inline;vertical-align:middle;\" /></a></span></td></tr>\n",
       "<tr><td>&nbsp;</td><td colspan=4 style-\"text-align:left\"><a class=\"ProveItLink\" href=\"../numeral/deci/_proofs_/nat1.ipynb\">proveit.number.numeral.deci.nat1</a></td></tr><tr><td>3</td><td>theorem</td><td></td><td><span style=\"font-size:20px;\"> &#x22A2;&nbsp;<a class=\"ProveItLink\" href=\"../sets/integer/__pv_it/50688835e4f8f7c7ea93ceb53b4c2bc2c084e66a0/expr.ipynb\"><img src=\"../sets/integer/__pv_it/50688835e4f8f7c7ea93ceb53b4c2bc2c084e66a0/expr.png\" style=\"display:inline;vertical-align:middle;\" /></a></span></td></tr>\n",
       "<tr><td>&nbsp;</td><td colspan=4 style-\"text-align:left\"><a class=\"ProveItLink\" href=\"../sets/integer/_proofs_/zeroInNats.ipynb\">proveit.number.sets.integer.zeroInNats</a></td></tr><tr><td>4</td><td>specialization</td><td>11, 10</td><td><span style=\"font-size:20px;\"><a class=\"ProveItLink\" href=\"__pv_it/295cdf3af31eeaf482ed82aa152607a517fc2f4c0/expr.ipynb\"><img src=\"__pv_it/295cdf3af31eeaf482ed82aa152607a517fc2f4c0/expr.png\" style=\"display:inline;vertical-align:middle;\" /></a> &#x22A2;&nbsp;<a class=\"ProveItLink\" href=\"__pv_it/f3ff37da07e630b9b47536ec1cf5b07b17c69c000/expr.ipynb\"><img src=\"__pv_it/f3ff37da07e630b9b47536ec1cf5b07b17c69c000/expr.png\" style=\"display:inline;vertical-align:middle;\" /></a></span></td></tr>\n",
       "<tr><td>&nbsp;</td><td colspan=4 style=\"text-align:left\"><span style=\"font-size:20px;\"><a class=\"ProveItLink\" href=\"../../__pv_it/abeee18594afe51bfb1be95d9591fbba24ac53f30/expr.ipynb\"><img src=\"../../__pv_it/abeee18594afe51bfb1be95d9591fbba24ac53f30/expr.png\" style=\"display:inline;vertical-align:middle;\" /></a> : <a class=\"ProveItLink\" href=\"../sets/real/__pv_it/c69b21a7605f74b7de6f2b0e27a26f9af7918cb30/expr.ipynb\"><img src=\"../sets/real/__pv_it/c69b21a7605f74b7de6f2b0e27a26f9af7918cb30/expr.png\" style=\"display:inline;vertical-align:middle;\" /></a>, <a class=\"ProveItLink\" href=\"../../__pv_it/07527342713064c87612d00d8557c53d53d5324a0/expr.ipynb\"><img src=\"../../__pv_it/07527342713064c87612d00d8557c53d53d5324a0/expr.png\" style=\"display:inline;vertical-align:middle;\" /></a> : <a class=\"ProveItLink\" href=\"../../__pv_it/07527342713064c87612d00d8557c53d53d5324a0/expr.ipynb\"><img src=\"../../__pv_it/07527342713064c87612d00d8557c53d53d5324a0/expr.png\" style=\"display:inline;vertical-align:middle;\" /></a></span></td></tr><tr><td>5</td><td>assumption</td><td></td><td><span style=\"font-size:20px;\"><a class=\"ProveItLink\" href=\"__pv_it/7e7f905a57f098a3e946d835c31d94aecd7f07b00/expr.ipynb\"><img src=\"__pv_it/7e7f905a57f098a3e946d835c31d94aecd7f07b00/expr.png\" style=\"display:inline;vertical-align:middle;\" /></a> &#x22A2;&nbsp;<a class=\"ProveItLink\" href=\"__pv_it/fe8a1ac19c1dfe131d106bace16ac8161bc1bb360/expr.ipynb\"><img src=\"__pv_it/fe8a1ac19c1dfe131d106bace16ac8161bc1bb360/expr.png\" style=\"display:inline;vertical-align:middle;\" /></a></span></td></tr>\n",
       "<tr><td>6</td><td>specialization</td><td>11, 12</td><td><span style=\"font-size:20px;\"><a class=\"ProveItLink\" href=\"__pv_it/07918ab6e8f801f5be99e77d7ddd42c29567d8490/expr.ipynb\"><img src=\"__pv_it/07918ab6e8f801f5be99e77d7ddd42c29567d8490/expr.png\" style=\"display:inline;vertical-align:middle;\" /></a> &#x22A2;&nbsp;<a class=\"ProveItLink\" href=\"__pv_it/b1a6d4b3da39fefa15689110873998561a761af60/expr.ipynb\"><img src=\"__pv_it/b1a6d4b3da39fefa15689110873998561a761af60/expr.png\" style=\"display:inline;vertical-align:middle;\" /></a></span></td></tr>\n",
       "<tr><td>&nbsp;</td><td colspan=4 style=\"text-align:left\"><span style=\"font-size:20px;\"><a class=\"ProveItLink\" href=\"../../__pv_it/abeee18594afe51bfb1be95d9591fbba24ac53f30/expr.ipynb\"><img src=\"../../__pv_it/abeee18594afe51bfb1be95d9591fbba24ac53f30/expr.png\" style=\"display:inline;vertical-align:middle;\" /></a> : <a class=\"ProveItLink\" href=\"../sets/real/__pv_it/c69b21a7605f74b7de6f2b0e27a26f9af7918cb30/expr.ipynb\"><img src=\"../sets/real/__pv_it/c69b21a7605f74b7de6f2b0e27a26f9af7918cb30/expr.png\" style=\"display:inline;vertical-align:middle;\" /></a>, <a class=\"ProveItLink\" href=\"../../__pv_it/07527342713064c87612d00d8557c53d53d5324a0/expr.ipynb\"><img src=\"../../__pv_it/07527342713064c87612d00d8557c53d53d5324a0/expr.png\" style=\"display:inline;vertical-align:middle;\" /></a> : <a class=\"ProveItLink\" href=\"../../__pv_it/cbdfda466482236edba0ce44ac7ef39cda0af7a40/expr.ipynb\"><img src=\"../../__pv_it/cbdfda466482236edba0ce44ac7ef39cda0af7a40/expr.png\" style=\"display:inline;vertical-align:middle;\" /></a></span></td></tr><tr><td>7</td><td>assumption</td><td></td><td><span style=\"font-size:20px;\"><a class=\"ProveItLink\" href=\"__pv_it/134d4699fe0b82f456c566f8008bd8d49497f0220/expr.ipynb\"><img src=\"__pv_it/134d4699fe0b82f456c566f8008bd8d49497f0220/expr.png\" style=\"display:inline;vertical-align:middle;\" /></a> &#x22A2;&nbsp;<a class=\"ProveItLink\" href=\"__pv_it/e2c9b5e3d644ce60e4a0e6f1a20234faafa5ae620/expr.ipynb\"><img src=\"__pv_it/e2c9b5e3d644ce60e4a0e6f1a20234faafa5ae620/expr.png\" style=\"display:inline;vertical-align:middle;\" /></a></span></td></tr>\n",
       "<tr><td>8</td><td>specialization</td><td>13, 14</td><td><span style=\"font-size:20px;\"> &#x22A2;&nbsp;<a class=\"ProveItLink\" href=\"__pv_it/457d95face17caff36d84f3b6d6037fb67f4da3f0/expr.ipynb\"><img src=\"__pv_it/457d95face17caff36d84f3b6d6037fb67f4da3f0/expr.png\" style=\"display:inline;vertical-align:middle;\" /></a></span></td></tr>\n",
       "<tr><td>&nbsp;</td><td colspan=4 style=\"text-align:left\"><span style=\"font-size:20px;\"><a class=\"ProveItLink\" href=\"../../__pv_it/530be409e3083890784cf1d7b28c9e67e90af9360/expr.ipynb\"><img src=\"../../__pv_it/530be409e3083890784cf1d7b28c9e67e90af9360/expr.png\" style=\"display:inline;vertical-align:middle;\" /></a> : <a class=\"ProveItLink\" href=\"__pv_it/47fa43ebc28df30ca42c709a7d123d39f2fac3160/expr.ipynb\"><img src=\"__pv_it/47fa43ebc28df30ca42c709a7d123d39f2fac3160/expr.png\" style=\"display:inline;vertical-align:middle;\" /></a>, <a class=\"ProveItLink\" href=\"../../__pv_it/abeee18594afe51bfb1be95d9591fbba24ac53f30/expr.ipynb\"><img src=\"../../__pv_it/abeee18594afe51bfb1be95d9591fbba24ac53f30/expr.png\" style=\"display:inline;vertical-align:middle;\" /></a> : <a class=\"ProveItLink\" href=\"../sets/real/__pv_it/c69b21a7605f74b7de6f2b0e27a26f9af7918cb30/expr.ipynb\"><img src=\"../sets/real/__pv_it/c69b21a7605f74b7de6f2b0e27a26f9af7918cb30/expr.png\" style=\"display:inline;vertical-align:middle;\" /></a></span></td></tr><tr><td>9</td><td>theorem</td><td></td><td><span style=\"font-size:20px;\"> &#x22A2;&nbsp;<a class=\"ProveItLink\" href=\"../numeral/deci/__pv_it/d060bd26c883154e5b471568d486c4165d01a0d00/expr.ipynb\"><img src=\"../numeral/deci/__pv_it/d060bd26c883154e5b471568d486c4165d01a0d00/expr.png\" style=\"display:inline;vertical-align:middle;\" /></a></span></td></tr>\n",
       "<tr><td>&nbsp;</td><td colspan=4 style-\"text-align:left\"><a class=\"ProveItLink\" href=\"../numeral/deci/_proofs_/less_0_1.ipynb\">proveit.number.numeral.deci.less_0_1</a></td></tr><tr><td>10</td><td>assumption</td><td></td><td><span style=\"font-size:20px;\"><a class=\"ProveItLink\" href=\"__pv_it/295cdf3af31eeaf482ed82aa152607a517fc2f4c0/expr.ipynb\"><img src=\"__pv_it/295cdf3af31eeaf482ed82aa152607a517fc2f4c0/expr.png\" style=\"display:inline;vertical-align:middle;\" /></a> &#x22A2;&nbsp;<a class=\"ProveItLink\" href=\"__pv_it/5e4fd9efbabb6dafe1d813d297a699f4ef031dd50/expr.ipynb\"><img src=\"__pv_it/5e4fd9efbabb6dafe1d813d297a699f4ef031dd50/expr.png\" style=\"display:inline;vertical-align:middle;\" /></a></span></td></tr>\n",
       "<tr><td>11</td><td>theorem</td><td></td><td><span style=\"font-size:20px;\"> &#x22A2;&nbsp;<a class=\"ProveItLink\" href=\"../../logic/set_theory/membership/__pv_it/2fd01e9dcec2beac2e2b13b9e038066596f5567d0/expr.ipynb\"><img src=\"../../logic/set_theory/membership/__pv_it/2fd01e9dcec2beac2e2b13b9e038066596f5567d0/expr.png\" style=\"display:inline;vertical-align:middle;\" /></a></span></td></tr>\n",
       "<tr><td>&nbsp;</td><td colspan=4 style-\"text-align:left\"><a class=\"ProveItLink\" href=\"../../logic/set_theory/membership/_proofs_/exp_set_1.ipynb\">proveit.logic.set_theory.membership.exp_set_1</a></td></tr><tr><td>12</td><td>assumption</td><td></td><td><span style=\"font-size:20px;\"><a class=\"ProveItLink\" href=\"__pv_it/07918ab6e8f801f5be99e77d7ddd42c29567d8490/expr.ipynb\"><img src=\"__pv_it/07918ab6e8f801f5be99e77d7ddd42c29567d8490/expr.png\" style=\"display:inline;vertical-align:middle;\" /></a> &#x22A2;&nbsp;<a class=\"ProveItLink\" href=\"__pv_it/fbf759342b78d090a2603d2f9ae70a7c3cd9903c0/expr.ipynb\"><img src=\"__pv_it/fbf759342b78d090a2603d2f9ae70a7c3cd9903c0/expr.png\" style=\"display:inline;vertical-align:middle;\" /></a></span></td></tr>\n",
       "<tr><td>13</td><td>theorem</td><td></td><td><span style=\"font-size:20px;\"> &#x22A2;&nbsp;<a class=\"ProveItLink\" href=\"../../logic/set_theory/membership/__pv_it/f96b42982943c9b9cb27fd0985ee8fe4235d65d30/expr.ipynb\"><img src=\"../../logic/set_theory/membership/__pv_it/f96b42982943c9b9cb27fd0985ee8fe4235d65d30/expr.png\" style=\"display:inline;vertical-align:middle;\" /></a></span></td></tr>\n",
       "<tr><td>&nbsp;</td><td colspan=4 style-\"text-align:left\"><a class=\"ProveItLink\" href=\"../../logic/set_theory/membership/_proofs_/exp_set_0.ipynb\">proveit.logic.set_theory.membership.exp_set_0</a></td></tr><tr><td>14</td><td>axiom</td><td></td><td><span style=\"font-size:20px;\"> &#x22A2;&nbsp;<a class=\"ProveItLink\" href=\"../sets/integer/__pv_it/ea45fc51e98adc6f747cb4e1e0e06e2f77959eee0/expr.ipynb\"><img src=\"../sets/integer/__pv_it/ea45fc51e98adc6f747cb4e1e0e06e2f77959eee0/expr.png\" style=\"display:inline;vertical-align:middle;\" /></a></span></td></tr>\n",
       "<tr><td>&nbsp;</td><td colspan=4 style-\"text-align:left\"><a class=\"ProveItLink\" href=\"../sets/integer/_axioms_.ipynb#listLen0\">proveit.number.sets.integer.listLen0</a></td></tr></table>"
      ],
      "text/plain": [
       "\tstep type\trequirements\tstatement\n",
       "0\tspecialization\t1, 2, 3, 4, 5, 6, 7, 8, 9\t{a in Reals , b in Reals , c in Reals , d in Reals} |= (a + b + c + d) = (a + d + c + b)\n",
       "\tl : 1, m : 1, n : 0, A : (a), B : b, C : (c), D : d, E : ()\n",
       "1\ttheorem\t\t|= forall_{l, m, n in Naturals} [forall_{(A, B, C, D, E) in Reals^{l} * Reals * Reals^{m} * Reals * Reals^{n}} ((A_1 +  ...  + A_l + B + C_1 +  ...  + C_m + D + E_1 +  ...  + E_n) = (A_1 +  ...  + A_l + D + C_1 +  ...  + C_m + B + E_1 +  ...  + E_n))]\n",
       "\tproveit.number.addition.swap\n",
       "2\ttheorem\t\t|= 1 in Naturals\n",
       "\tproveit.number.numeral.deci.nat1\n",
       "3\ttheorem\t\t|= 0 in Naturals\n",
       "\tproveit.number.sets.integer.zeroInNats\n",
       "4\tspecialization\t11, 10\t{a in Reals} |= (a) in Reals^{1}\n",
       "\tS : Reals, a : a\n",
       "5\tassumption\t\t{b in Reals} |= b in Reals\n",
       "6\tspecialization\t11, 12\t{c in Reals} |= (c) in Reals^{1}\n",
       "\tS : Reals, a : c\n",
       "7\tassumption\t\t{d in Reals} |= d in Reals\n",
       "8\tspecialization\t13, 14\t|= () in Reals^{0}\n",
       "\tx : (), S : Reals\n",
       "9\ttheorem\t\t|= 0 < 1\n",
       "\tproveit.number.numeral.deci.less_0_1\n",
       "10\tassumption\t\t{a in Reals} |= a in Reals\n",
       "11\ttheorem\t\t|= forall_{S} [forall_{a in S} ((a) in S^{1})]\n",
       "\tproveit.logic.set_theory.membership.exp_set_1\n",
       "12\tassumption\t\t{c in Reals} |= c in Reals\n",
       "13\ttheorem\t\t|= forall_{x, S | |x| = 0} (x in S^{0})\n",
       "\tproveit.logic.set_theory.membership.exp_set_0\n",
       "14\taxiom\t\t|= |()| = 0\n",
       "\tproveit.number.sets.integer.listLen0"
      ]
     },
     "execution_count": 19,
     "metadata": {},
     "output_type": "execute_result"
    }
   ],
   "source": [
    "Add(a,b,c,d).deriveSwap(1,3, assumptions=[InSet(a,Reals), InSet(b,Reals), InSet(c, Reals), InSet(d,Reals)]).proof()"
   ]
  },
  {
   "cell_type": "code",
   "execution_count": 20,
   "metadata": {},
   "outputs": [
    {
     "name": "stdout",
     "output_type": "stream",
     "text": [
      "self, beg, end 1 + 2 + 3 + 4 + 5 + 6 + 1 3 5\n"
     ]
    },
    {
     "data": {
      "text/html": [
       "<table><tr><th>&nbsp;</th><th>step type</th><th>requirements</th><th>statement</th></tr>\n",
       "<tr><td>0</td><td>specialization</td><td>1, 16, 22, 2, 3, 4, 5, 6</td><td><span style=\"font-size:20px;\"> &#x22A2;&nbsp;<a class=\"ProveItLink\" href=\"__pv_it/556e84942589c3facff861181f612cfab4d4a0220/expr.ipynb\"><img src=\"__pv_it/556e84942589c3facff861181f612cfab4d4a0220/expr.png\" style=\"display:inline;vertical-align:middle;\" /></a></span></td></tr>\n",
       "<tr><td>&nbsp;</td><td colspan=4 style=\"text-align:left\"><span style=\"font-size:20px;\"><a class=\"ProveItLink\" href=\"../../__pv_it/3e5d49a51123592869b160296a6e123a424e07a70/expr.ipynb\"><img src=\"../../__pv_it/3e5d49a51123592869b160296a6e123a424e07a70/expr.png\" style=\"display:inline;vertical-align:middle;\" /></a> : <a class=\"ProveItLink\" href=\"../numeral/__pv_it/9176d93c83afa2c995b614976e3cb49207102fa70/expr.ipynb\"><img src=\"../numeral/__pv_it/9176d93c83afa2c995b614976e3cb49207102fa70/expr.png\" style=\"display:inline;vertical-align:middle;\" /></a>, <a class=\"ProveItLink\" href=\"../../__pv_it/78af03acba5349fd70398a32ce59bae1da52f0870/expr.ipynb\"><img src=\"../../__pv_it/78af03acba5349fd70398a32ce59bae1da52f0870/expr.png\" style=\"display:inline;vertical-align:middle;\" /></a> : <a class=\"ProveItLink\" href=\"../numeral/__pv_it/9176d93c83afa2c995b614976e3cb49207102fa70/expr.ipynb\"><img src=\"../numeral/__pv_it/9176d93c83afa2c995b614976e3cb49207102fa70/expr.png\" style=\"display:inline;vertical-align:middle;\" /></a>, <a class=\"ProveItLink\" href=\"../../__pv_it/39dbcd3ca0390345b51c6ef7785756419e2c14390/expr.ipynb\"><img src=\"../../__pv_it/39dbcd3ca0390345b51c6ef7785756419e2c14390/expr.png\" style=\"display:inline;vertical-align:middle;\" /></a> : <a class=\"ProveItLink\" href=\"../numeral/__pv_it/9be8badea4c35b9724062cecc501d17a3158d1d20/expr.ipynb\"><img src=\"../numeral/__pv_it/9be8badea4c35b9724062cecc501d17a3158d1d20/expr.png\" style=\"display:inline;vertical-align:middle;\" /></a>, <a class=\"ProveItLink\" href=\"../../__pv_it/eb438fefc4bd0ac977777d6dfd3e8a72dfbedbd50/expr.ipynb\"><img src=\"../../__pv_it/eb438fefc4bd0ac977777d6dfd3e8a72dfbedbd50/expr.png\" style=\"display:inline;vertical-align:middle;\" /></a> : <a class=\"ProveItLink\" href=\"__pv_it/9cd24f25132360cbdffbb33fcb55bcde1e6c68d40/expr.ipynb\"><img src=\"__pv_it/9cd24f25132360cbdffbb33fcb55bcde1e6c68d40/expr.png\" style=\"display:inline;vertical-align:middle;\" /></a>, <a class=\"ProveItLink\" href=\"../../__pv_it/a275d402e75fbbde925e8ebdcbfd239a2138849c0/expr.ipynb\"><img src=\"../../__pv_it/a275d402e75fbbde925e8ebdcbfd239a2138849c0/expr.png\" style=\"display:inline;vertical-align:middle;\" /></a> : <a class=\"ProveItLink\" href=\"__pv_it/e2fd8a3d55f910fa656f5cf3dc025470571f40ce0/expr.ipynb\"><img src=\"__pv_it/e2fd8a3d55f910fa656f5cf3dc025470571f40ce0/expr.png\" style=\"display:inline;vertical-align:middle;\" /></a>, <a class=\"ProveItLink\" href=\"../../__pv_it/9242e69d4f2c65d04fc0527b82418c7c22c6da370/expr.ipynb\"><img src=\"../../__pv_it/9242e69d4f2c65d04fc0527b82418c7c22c6da370/expr.png\" style=\"display:inline;vertical-align:middle;\" /></a> : <a class=\"ProveItLink\" href=\"__pv_it/b5e26fa7e87706308f35523dc5fc055a4271cd760/expr.ipynb\"><img src=\"__pv_it/b5e26fa7e87706308f35523dc5fc055a4271cd760/expr.png\" style=\"display:inline;vertical-align:middle;\" /></a></span></td></tr><tr><td>1</td><td>theorem</td><td></td><td><span style=\"font-size:20px;\"> &#x22A2;&nbsp;<a class=\"ProveItLink\" href=\"__pv_it/4352f80403752257bfaddece7a9213d0dbab02760/expr.ipynb\"><img src=\"__pv_it/4352f80403752257bfaddece7a9213d0dbab02760/expr.png\" style=\"display:inline;vertical-align:middle;\" /></a></span></td></tr>\n",
       "<tr><td>&nbsp;</td><td colspan=4 style-\"text-align:left\"><a class=\"ProveItLink\" href=\"_proofs_/group.ipynb\">proveit.number.addition.group</a></td></tr><tr><td>2</td><td>specialization</td><td>9, 14, 7, 8</td><td><span style=\"font-size:20px;\"> &#x22A2;&nbsp;<a class=\"ProveItLink\" href=\"__pv_it/e07cc020e5d1bb869e3778567daecdae264ab1630/expr.ipynb\"><img src=\"__pv_it/e07cc020e5d1bb869e3778567daecdae264ab1630/expr.png\" style=\"display:inline;vertical-align:middle;\" /></a></span></td></tr>\n",
       "<tr><td>&nbsp;</td><td colspan=4 style=\"text-align:left\"><span style=\"font-size:20px;\"><a class=\"ProveItLink\" href=\"../../__pv_it/abeee18594afe51bfb1be95d9591fbba24ac53f30/expr.ipynb\"><img src=\"../../__pv_it/abeee18594afe51bfb1be95d9591fbba24ac53f30/expr.png\" style=\"display:inline;vertical-align:middle;\" /></a> : <a class=\"ProveItLink\" href=\"../sets/real/__pv_it/c69b21a7605f74b7de6f2b0e27a26f9af7918cb30/expr.ipynb\"><img src=\"../sets/real/__pv_it/c69b21a7605f74b7de6f2b0e27a26f9af7918cb30/expr.png\" style=\"display:inline;vertical-align:middle;\" /></a>, <a class=\"ProveItLink\" href=\"../../__pv_it/07527342713064c87612d00d8557c53d53d5324a0/expr.ipynb\"><img src=\"../../__pv_it/07527342713064c87612d00d8557c53d53d5324a0/expr.png\" style=\"display:inline;vertical-align:middle;\" /></a> : <a class=\"ProveItLink\" href=\"../numeral/__pv_it/9be8badea4c35b9724062cecc501d17a3158d1d20/expr.ipynb\"><img src=\"../numeral/__pv_it/9be8badea4c35b9724062cecc501d17a3158d1d20/expr.png\" style=\"display:inline;vertical-align:middle;\" /></a>, <a class=\"ProveItLink\" href=\"../../__pv_it/6840a4fa6c106149dc16a131294d0c5e44f1b0480/expr.ipynb\"><img src=\"../../__pv_it/6840a4fa6c106149dc16a131294d0c5e44f1b0480/expr.png\" style=\"display:inline;vertical-align:middle;\" /></a> : <a class=\"ProveItLink\" href=\"../numeral/__pv_it/77d407a64829263cdc16415becd4c2293f77a4bf0/expr.ipynb\"><img src=\"../numeral/__pv_it/77d407a64829263cdc16415becd4c2293f77a4bf0/expr.png\" style=\"display:inline;vertical-align:middle;\" /></a>, <a class=\"ProveItLink\" href=\"../../__pv_it/cbdfda466482236edba0ce44ac7ef39cda0af7a40/expr.ipynb\"><img src=\"../../__pv_it/cbdfda466482236edba0ce44ac7ef39cda0af7a40/expr.png\" style=\"display:inline;vertical-align:middle;\" /></a> : <a class=\"ProveItLink\" href=\"../numeral/__pv_it/9176d93c83afa2c995b614976e3cb49207102fa70/expr.ipynb\"><img src=\"../numeral/__pv_it/9176d93c83afa2c995b614976e3cb49207102fa70/expr.png\" style=\"display:inline;vertical-align:middle;\" /></a></span></td></tr><tr><td>3</td><td>specialization</td><td>9, 10, 11, 12</td><td><span style=\"font-size:20px;\"> &#x22A2;&nbsp;<a class=\"ProveItLink\" href=\"__pv_it/cb4ba9e22e43488f6ef7e3aeb7bd77403894605a0/expr.ipynb\"><img src=\"__pv_it/cb4ba9e22e43488f6ef7e3aeb7bd77403894605a0/expr.png\" style=\"display:inline;vertical-align:middle;\" /></a></span></td></tr>\n",
       "<tr><td>&nbsp;</td><td colspan=4 style=\"text-align:left\"><span style=\"font-size:20px;\"><a class=\"ProveItLink\" href=\"../../__pv_it/abeee18594afe51bfb1be95d9591fbba24ac53f30/expr.ipynb\"><img src=\"../../__pv_it/abeee18594afe51bfb1be95d9591fbba24ac53f30/expr.png\" style=\"display:inline;vertical-align:middle;\" /></a> : <a class=\"ProveItLink\" href=\"../sets/real/__pv_it/c69b21a7605f74b7de6f2b0e27a26f9af7918cb30/expr.ipynb\"><img src=\"../sets/real/__pv_it/c69b21a7605f74b7de6f2b0e27a26f9af7918cb30/expr.png\" style=\"display:inline;vertical-align:middle;\" /></a>, <a class=\"ProveItLink\" href=\"../../__pv_it/07527342713064c87612d00d8557c53d53d5324a0/expr.ipynb\"><img src=\"../../__pv_it/07527342713064c87612d00d8557c53d53d5324a0/expr.png\" style=\"display:inline;vertical-align:middle;\" /></a> : <a class=\"ProveItLink\" href=\"../numeral/__pv_it/23412ce59ea7e77353d2f9225e02248e73651ca00/expr.ipynb\"><img src=\"../numeral/__pv_it/23412ce59ea7e77353d2f9225e02248e73651ca00/expr.png\" style=\"display:inline;vertical-align:middle;\" /></a>, <a class=\"ProveItLink\" href=\"../../__pv_it/6840a4fa6c106149dc16a131294d0c5e44f1b0480/expr.ipynb\"><img src=\"../../__pv_it/6840a4fa6c106149dc16a131294d0c5e44f1b0480/expr.png\" style=\"display:inline;vertical-align:middle;\" /></a> : <a class=\"ProveItLink\" href=\"../numeral/__pv_it/aaeeaca7d86eb2b7cdc49e25c3108b81b52ec5400/expr.ipynb\"><img src=\"../numeral/__pv_it/aaeeaca7d86eb2b7cdc49e25c3108b81b52ec5400/expr.png\" style=\"display:inline;vertical-align:middle;\" /></a>, <a class=\"ProveItLink\" href=\"../../__pv_it/cbdfda466482236edba0ce44ac7ef39cda0af7a40/expr.ipynb\"><img src=\"../../__pv_it/cbdfda466482236edba0ce44ac7ef39cda0af7a40/expr.png\" style=\"display:inline;vertical-align:middle;\" /></a> : <a class=\"ProveItLink\" href=\"../numeral/__pv_it/09b499e53e24cf89c2513ba78b501f0314edaa680/expr.ipynb\"><img src=\"../numeral/__pv_it/09b499e53e24cf89c2513ba78b501f0314edaa680/expr.png\" style=\"display:inline;vertical-align:middle;\" /></a></span></td></tr><tr><td>4</td><td>specialization</td><td>13, 14</td><td><span style=\"font-size:20px;\"> &#x22A2;&nbsp;<a class=\"ProveItLink\" href=\"__pv_it/bd5ea38fc0674fc81920c2d5fe2692f7ed7fb2c00/expr.ipynb\"><img src=\"__pv_it/bd5ea38fc0674fc81920c2d5fe2692f7ed7fb2c00/expr.png\" style=\"display:inline;vertical-align:middle;\" /></a></span></td></tr>\n",
       "<tr><td>&nbsp;</td><td colspan=4 style=\"text-align:left\"><span style=\"font-size:20px;\"><a class=\"ProveItLink\" href=\"../../__pv_it/abeee18594afe51bfb1be95d9591fbba24ac53f30/expr.ipynb\"><img src=\"../../__pv_it/abeee18594afe51bfb1be95d9591fbba24ac53f30/expr.png\" style=\"display:inline;vertical-align:middle;\" /></a> : <a class=\"ProveItLink\" href=\"../sets/real/__pv_it/c69b21a7605f74b7de6f2b0e27a26f9af7918cb30/expr.ipynb\"><img src=\"../sets/real/__pv_it/c69b21a7605f74b7de6f2b0e27a26f9af7918cb30/expr.png\" style=\"display:inline;vertical-align:middle;\" /></a>, <a class=\"ProveItLink\" href=\"../../__pv_it/07527342713064c87612d00d8557c53d53d5324a0/expr.ipynb\"><img src=\"../../__pv_it/07527342713064c87612d00d8557c53d53d5324a0/expr.png\" style=\"display:inline;vertical-align:middle;\" /></a> : <a class=\"ProveItLink\" href=\"../numeral/__pv_it/9be8badea4c35b9724062cecc501d17a3158d1d20/expr.ipynb\"><img src=\"../numeral/__pv_it/9be8badea4c35b9724062cecc501d17a3158d1d20/expr.png\" style=\"display:inline;vertical-align:middle;\" /></a></span></td></tr><tr><td>5</td><td>theorem</td><td></td><td><span style=\"font-size:20px;\"> &#x22A2;&nbsp;<a class=\"ProveItLink\" href=\"../numeral/deci/__pv_it/5b6ff6a2fca03ad41d2a3084e44fbb28428ffb6a0/expr.ipynb\"><img src=\"../numeral/deci/__pv_it/5b6ff6a2fca03ad41d2a3084e44fbb28428ffb6a0/expr.png\" style=\"display:inline;vertical-align:middle;\" /></a></span></td></tr>\n",
       "<tr><td>&nbsp;</td><td colspan=4 style-\"text-align:left\"><a class=\"ProveItLink\" href=\"../numeral/deci/_proofs_/add_1_1.ipynb\">proveit.number.numeral.deci.add_1_1</a></td></tr><tr><td>6</td><td>theorem</td><td></td><td><span style=\"font-size:20px;\"> &#x22A2;&nbsp;<a class=\"ProveItLink\" href=\"../numeral/deci/__pv_it/349c663074c343ced32577f83aa9971191d0752c0/expr.ipynb\"><img src=\"../numeral/deci/__pv_it/349c663074c343ced32577f83aa9971191d0752c0/expr.png\" style=\"display:inline;vertical-align:middle;\" /></a></span></td></tr>\n",
       "<tr><td>&nbsp;</td><td colspan=4 style-\"text-align:left\"><a class=\"ProveItLink\" href=\"../numeral/deci/_proofs_/add_2_1.ipynb\">proveit.number.numeral.deci.add_2_1</a></td></tr><tr><td>7</td><td>specialization</td><td>20, 21, 15</td><td><span style=\"font-size:20px;\"> &#x22A2;&nbsp;<a class=\"ProveItLink\" href=\"__pv_it/89e654d6e304f864d1fa73b6f3a5a5a5f0c2808d0/expr.ipynb\"><img src=\"__pv_it/89e654d6e304f864d1fa73b6f3a5a5a5f0c2808d0/expr.png\" style=\"display:inline;vertical-align:middle;\" /></a></span></td></tr>\n",
       "<tr><td>&nbsp;</td><td colspan=4 style=\"text-align:left\"><span style=\"font-size:20px;\"><a class=\"ProveItLink\" href=\"../../__pv_it/2cbe72a7ad6f655694dd697106680215e8489b600/expr.ipynb\"><img src=\"../../__pv_it/2cbe72a7ad6f655694dd697106680215e8489b600/expr.png\" style=\"display:inline;vertical-align:middle;\" /></a> : <a class=\"ProveItLink\" href=\"../sets/integer/__pv_it/4434d1ec6afb2b8deec87ded0866b923feb9d6e60/expr.ipynb\"><img src=\"../sets/integer/__pv_it/4434d1ec6afb2b8deec87ded0866b923feb9d6e60/expr.png\" style=\"display:inline;vertical-align:middle;\" /></a>, <a class=\"ProveItLink\" href=\"../../__pv_it/077b2ff79244fb4582cbe22c6e3356fa92a52f2f0/expr.ipynb\"><img src=\"../../__pv_it/077b2ff79244fb4582cbe22c6e3356fa92a52f2f0/expr.png\" style=\"display:inline;vertical-align:middle;\" /></a> : <a class=\"ProveItLink\" href=\"../sets/real/__pv_it/c69b21a7605f74b7de6f2b0e27a26f9af7918cb30/expr.ipynb\"><img src=\"../sets/real/__pv_it/c69b21a7605f74b7de6f2b0e27a26f9af7918cb30/expr.png\" style=\"display:inline;vertical-align:middle;\" /></a>, <a class=\"ProveItLink\" href=\"../../__pv_it/530be409e3083890784cf1d7b28c9e67e90af9360/expr.ipynb\"><img src=\"../../__pv_it/530be409e3083890784cf1d7b28c9e67e90af9360/expr.png\" style=\"display:inline;vertical-align:middle;\" /></a> : <a class=\"ProveItLink\" href=\"../numeral/__pv_it/77d407a64829263cdc16415becd4c2293f77a4bf0/expr.ipynb\"><img src=\"../numeral/__pv_it/77d407a64829263cdc16415becd4c2293f77a4bf0/expr.png\" style=\"display:inline;vertical-align:middle;\" /></a></span></td></tr><tr><td>8</td><td>specialization</td><td>20, 21, 16</td><td><span style=\"font-size:20px;\"> &#x22A2;&nbsp;<a class=\"ProveItLink\" href=\"__pv_it/3d19b275e173fedf7a1bbb778a581b094543153f0/expr.ipynb\"><img src=\"__pv_it/3d19b275e173fedf7a1bbb778a581b094543153f0/expr.png\" style=\"display:inline;vertical-align:middle;\" /></a></span></td></tr>\n",
       "<tr><td>&nbsp;</td><td colspan=4 style=\"text-align:left\"><span style=\"font-size:20px;\"><a class=\"ProveItLink\" href=\"../../__pv_it/2cbe72a7ad6f655694dd697106680215e8489b600/expr.ipynb\"><img src=\"../../__pv_it/2cbe72a7ad6f655694dd697106680215e8489b600/expr.png\" style=\"display:inline;vertical-align:middle;\" /></a> : <a class=\"ProveItLink\" href=\"../sets/integer/__pv_it/4434d1ec6afb2b8deec87ded0866b923feb9d6e60/expr.ipynb\"><img src=\"../sets/integer/__pv_it/4434d1ec6afb2b8deec87ded0866b923feb9d6e60/expr.png\" style=\"display:inline;vertical-align:middle;\" /></a>, <a class=\"ProveItLink\" href=\"../../__pv_it/077b2ff79244fb4582cbe22c6e3356fa92a52f2f0/expr.ipynb\"><img src=\"../../__pv_it/077b2ff79244fb4582cbe22c6e3356fa92a52f2f0/expr.png\" style=\"display:inline;vertical-align:middle;\" /></a> : <a class=\"ProveItLink\" href=\"../sets/real/__pv_it/c69b21a7605f74b7de6f2b0e27a26f9af7918cb30/expr.ipynb\"><img src=\"../sets/real/__pv_it/c69b21a7605f74b7de6f2b0e27a26f9af7918cb30/expr.png\" style=\"display:inline;vertical-align:middle;\" /></a>, <a class=\"ProveItLink\" href=\"../../__pv_it/530be409e3083890784cf1d7b28c9e67e90af9360/expr.ipynb\"><img src=\"../../__pv_it/530be409e3083890784cf1d7b28c9e67e90af9360/expr.png\" style=\"display:inline;vertical-align:middle;\" /></a> : <a class=\"ProveItLink\" href=\"../numeral/__pv_it/9176d93c83afa2c995b614976e3cb49207102fa70/expr.ipynb\"><img src=\"../numeral/__pv_it/9176d93c83afa2c995b614976e3cb49207102fa70/expr.png\" style=\"display:inline;vertical-align:middle;\" /></a></span></td></tr><tr><td>9</td><td>theorem</td><td></td><td><span style=\"font-size:20px;\"> &#x22A2;&nbsp;<a class=\"ProveItLink\" href=\"../../logic/set_theory/membership/__pv_it/a49ce01e1a7921a9d6b58e9c03dee6f569af69c80/expr.ipynb\"><img src=\"../../logic/set_theory/membership/__pv_it/a49ce01e1a7921a9d6b58e9c03dee6f569af69c80/expr.png\" style=\"display:inline;vertical-align:middle;\" /></a></span></td></tr>\n",
       "<tr><td>&nbsp;</td><td colspan=4 style-\"text-align:left\"><a class=\"ProveItLink\" href=\"../../logic/set_theory/membership/_proofs_/exp_set_3.ipynb\">proveit.logic.set_theory.membership.exp_set_3</a></td></tr><tr><td>10</td><td>specialization</td><td>20, 21, 17</td><td><span style=\"font-size:20px;\"> &#x22A2;&nbsp;<a class=\"ProveItLink\" href=\"__pv_it/1a5929d4f3666f83221caf4b112521f4e586411a0/expr.ipynb\"><img src=\"__pv_it/1a5929d4f3666f83221caf4b112521f4e586411a0/expr.png\" style=\"display:inline;vertical-align:middle;\" /></a></span></td></tr>\n",
       "<tr><td>&nbsp;</td><td colspan=4 style=\"text-align:left\"><span style=\"font-size:20px;\"><a class=\"ProveItLink\" href=\"../../__pv_it/2cbe72a7ad6f655694dd697106680215e8489b600/expr.ipynb\"><img src=\"../../__pv_it/2cbe72a7ad6f655694dd697106680215e8489b600/expr.png\" style=\"display:inline;vertical-align:middle;\" /></a> : <a class=\"ProveItLink\" href=\"../sets/integer/__pv_it/4434d1ec6afb2b8deec87ded0866b923feb9d6e60/expr.ipynb\"><img src=\"../sets/integer/__pv_it/4434d1ec6afb2b8deec87ded0866b923feb9d6e60/expr.png\" style=\"display:inline;vertical-align:middle;\" /></a>, <a class=\"ProveItLink\" href=\"../../__pv_it/077b2ff79244fb4582cbe22c6e3356fa92a52f2f0/expr.ipynb\"><img src=\"../../__pv_it/077b2ff79244fb4582cbe22c6e3356fa92a52f2f0/expr.png\" style=\"display:inline;vertical-align:middle;\" /></a> : <a class=\"ProveItLink\" href=\"../sets/real/__pv_it/c69b21a7605f74b7de6f2b0e27a26f9af7918cb30/expr.ipynb\"><img src=\"../sets/real/__pv_it/c69b21a7605f74b7de6f2b0e27a26f9af7918cb30/expr.png\" style=\"display:inline;vertical-align:middle;\" /></a>, <a class=\"ProveItLink\" href=\"../../__pv_it/530be409e3083890784cf1d7b28c9e67e90af9360/expr.ipynb\"><img src=\"../../__pv_it/530be409e3083890784cf1d7b28c9e67e90af9360/expr.png\" style=\"display:inline;vertical-align:middle;\" /></a> : <a class=\"ProveItLink\" href=\"../numeral/__pv_it/23412ce59ea7e77353d2f9225e02248e73651ca00/expr.ipynb\"><img src=\"../numeral/__pv_it/23412ce59ea7e77353d2f9225e02248e73651ca00/expr.png\" style=\"display:inline;vertical-align:middle;\" /></a></span></td></tr><tr><td>11</td><td>specialization</td><td>20, 21, 18</td><td><span style=\"font-size:20px;\"> &#x22A2;&nbsp;<a class=\"ProveItLink\" href=\"__pv_it/5c9b2d9183f6a0cb2b8a721aba37c9b87028ba800/expr.ipynb\"><img src=\"__pv_it/5c9b2d9183f6a0cb2b8a721aba37c9b87028ba800/expr.png\" style=\"display:inline;vertical-align:middle;\" /></a></span></td></tr>\n",
       "<tr><td>&nbsp;</td><td colspan=4 style=\"text-align:left\"><span style=\"font-size:20px;\"><a class=\"ProveItLink\" href=\"../../__pv_it/2cbe72a7ad6f655694dd697106680215e8489b600/expr.ipynb\"><img src=\"../../__pv_it/2cbe72a7ad6f655694dd697106680215e8489b600/expr.png\" style=\"display:inline;vertical-align:middle;\" /></a> : <a class=\"ProveItLink\" href=\"../sets/integer/__pv_it/4434d1ec6afb2b8deec87ded0866b923feb9d6e60/expr.ipynb\"><img src=\"../sets/integer/__pv_it/4434d1ec6afb2b8deec87ded0866b923feb9d6e60/expr.png\" style=\"display:inline;vertical-align:middle;\" /></a>, <a class=\"ProveItLink\" href=\"../../__pv_it/077b2ff79244fb4582cbe22c6e3356fa92a52f2f0/expr.ipynb\"><img src=\"../../__pv_it/077b2ff79244fb4582cbe22c6e3356fa92a52f2f0/expr.png\" style=\"display:inline;vertical-align:middle;\" /></a> : <a class=\"ProveItLink\" href=\"../sets/real/__pv_it/c69b21a7605f74b7de6f2b0e27a26f9af7918cb30/expr.ipynb\"><img src=\"../sets/real/__pv_it/c69b21a7605f74b7de6f2b0e27a26f9af7918cb30/expr.png\" style=\"display:inline;vertical-align:middle;\" /></a>, <a class=\"ProveItLink\" href=\"../../__pv_it/530be409e3083890784cf1d7b28c9e67e90af9360/expr.ipynb\"><img src=\"../../__pv_it/530be409e3083890784cf1d7b28c9e67e90af9360/expr.png\" style=\"display:inline;vertical-align:middle;\" /></a> : <a class=\"ProveItLink\" href=\"../numeral/__pv_it/aaeeaca7d86eb2b7cdc49e25c3108b81b52ec5400/expr.ipynb\"><img src=\"../numeral/__pv_it/aaeeaca7d86eb2b7cdc49e25c3108b81b52ec5400/expr.png\" style=\"display:inline;vertical-align:middle;\" /></a></span></td></tr><tr><td>12</td><td>specialization</td><td>20, 21, 19</td><td><span style=\"font-size:20px;\"> &#x22A2;&nbsp;<a class=\"ProveItLink\" href=\"__pv_it/b5f90e224c2209161ce6833507e5dc32d0702e610/expr.ipynb\"><img src=\"__pv_it/b5f90e224c2209161ce6833507e5dc32d0702e610/expr.png\" style=\"display:inline;vertical-align:middle;\" /></a></span></td></tr>\n",
       "<tr><td>&nbsp;</td><td colspan=4 style=\"text-align:left\"><span style=\"font-size:20px;\"><a class=\"ProveItLink\" href=\"../../__pv_it/2cbe72a7ad6f655694dd697106680215e8489b600/expr.ipynb\"><img src=\"../../__pv_it/2cbe72a7ad6f655694dd697106680215e8489b600/expr.png\" style=\"display:inline;vertical-align:middle;\" /></a> : <a class=\"ProveItLink\" href=\"../sets/integer/__pv_it/4434d1ec6afb2b8deec87ded0866b923feb9d6e60/expr.ipynb\"><img src=\"../sets/integer/__pv_it/4434d1ec6afb2b8deec87ded0866b923feb9d6e60/expr.png\" style=\"display:inline;vertical-align:middle;\" /></a>, <a class=\"ProveItLink\" href=\"../../__pv_it/077b2ff79244fb4582cbe22c6e3356fa92a52f2f0/expr.ipynb\"><img src=\"../../__pv_it/077b2ff79244fb4582cbe22c6e3356fa92a52f2f0/expr.png\" style=\"display:inline;vertical-align:middle;\" /></a> : <a class=\"ProveItLink\" href=\"../sets/real/__pv_it/c69b21a7605f74b7de6f2b0e27a26f9af7918cb30/expr.ipynb\"><img src=\"../sets/real/__pv_it/c69b21a7605f74b7de6f2b0e27a26f9af7918cb30/expr.png\" style=\"display:inline;vertical-align:middle;\" /></a>, <a class=\"ProveItLink\" href=\"../../__pv_it/530be409e3083890784cf1d7b28c9e67e90af9360/expr.ipynb\"><img src=\"../../__pv_it/530be409e3083890784cf1d7b28c9e67e90af9360/expr.png\" style=\"display:inline;vertical-align:middle;\" /></a> : <a class=\"ProveItLink\" href=\"../numeral/__pv_it/09b499e53e24cf89c2513ba78b501f0314edaa680/expr.ipynb\"><img src=\"../numeral/__pv_it/09b499e53e24cf89c2513ba78b501f0314edaa680/expr.png\" style=\"display:inline;vertical-align:middle;\" /></a></span></td></tr><tr><td>13</td><td>theorem</td><td></td><td><span style=\"font-size:20px;\"> &#x22A2;&nbsp;<a class=\"ProveItLink\" href=\"../../logic/set_theory/membership/__pv_it/2fd01e9dcec2beac2e2b13b9e038066596f5567d0/expr.ipynb\"><img src=\"../../logic/set_theory/membership/__pv_it/2fd01e9dcec2beac2e2b13b9e038066596f5567d0/expr.png\" style=\"display:inline;vertical-align:middle;\" /></a></span></td></tr>\n",
       "<tr><td>&nbsp;</td><td colspan=4 style-\"text-align:left\"><a class=\"ProveItLink\" href=\"../../logic/set_theory/membership/_proofs_/exp_set_1.ipynb\">proveit.logic.set_theory.membership.exp_set_1</a></td></tr><tr><td>14</td><td>specialization</td><td>20, 21, 22</td><td><span style=\"font-size:20px;\"> &#x22A2;&nbsp;<a class=\"ProveItLink\" href=\"__pv_it/83f1ec13ed32522ba1f2fac326220b32986eecc20/expr.ipynb\"><img src=\"__pv_it/83f1ec13ed32522ba1f2fac326220b32986eecc20/expr.png\" style=\"display:inline;vertical-align:middle;\" /></a></span></td></tr>\n",
       "<tr><td>&nbsp;</td><td colspan=4 style=\"text-align:left\"><span style=\"font-size:20px;\"><a class=\"ProveItLink\" href=\"../../__pv_it/2cbe72a7ad6f655694dd697106680215e8489b600/expr.ipynb\"><img src=\"../../__pv_it/2cbe72a7ad6f655694dd697106680215e8489b600/expr.png\" style=\"display:inline;vertical-align:middle;\" /></a> : <a class=\"ProveItLink\" href=\"../sets/integer/__pv_it/4434d1ec6afb2b8deec87ded0866b923feb9d6e60/expr.ipynb\"><img src=\"../sets/integer/__pv_it/4434d1ec6afb2b8deec87ded0866b923feb9d6e60/expr.png\" style=\"display:inline;vertical-align:middle;\" /></a>, <a class=\"ProveItLink\" href=\"../../__pv_it/077b2ff79244fb4582cbe22c6e3356fa92a52f2f0/expr.ipynb\"><img src=\"../../__pv_it/077b2ff79244fb4582cbe22c6e3356fa92a52f2f0/expr.png\" style=\"display:inline;vertical-align:middle;\" /></a> : <a class=\"ProveItLink\" href=\"../sets/real/__pv_it/c69b21a7605f74b7de6f2b0e27a26f9af7918cb30/expr.ipynb\"><img src=\"../sets/real/__pv_it/c69b21a7605f74b7de6f2b0e27a26f9af7918cb30/expr.png\" style=\"display:inline;vertical-align:middle;\" /></a>, <a class=\"ProveItLink\" href=\"../../__pv_it/530be409e3083890784cf1d7b28c9e67e90af9360/expr.ipynb\"><img src=\"../../__pv_it/530be409e3083890784cf1d7b28c9e67e90af9360/expr.png\" style=\"display:inline;vertical-align:middle;\" /></a> : <a class=\"ProveItLink\" href=\"../numeral/__pv_it/9be8badea4c35b9724062cecc501d17a3158d1d20/expr.ipynb\"><img src=\"../numeral/__pv_it/9be8badea4c35b9724062cecc501d17a3158d1d20/expr.png\" style=\"display:inline;vertical-align:middle;\" /></a></span></td></tr><tr><td>15</td><td>theorem</td><td></td><td><span style=\"font-size:20px;\"> &#x22A2;&nbsp;<a class=\"ProveItLink\" href=\"../numeral/deci/__pv_it/286f0443dba55bdb259c90cef1db0ca273fac95e0/expr.ipynb\"><img src=\"../numeral/deci/__pv_it/286f0443dba55bdb259c90cef1db0ca273fac95e0/expr.png\" style=\"display:inline;vertical-align:middle;\" /></a></span></td></tr>\n",
       "<tr><td>&nbsp;</td><td colspan=4 style-\"text-align:left\"><a class=\"ProveItLink\" href=\"../numeral/deci/_proofs_/nat2.ipynb\">proveit.number.numeral.deci.nat2</a></td></tr><tr><td>16</td><td>theorem</td><td></td><td><span style=\"font-size:20px;\"> &#x22A2;&nbsp;<a class=\"ProveItLink\" href=\"../numeral/deci/__pv_it/106bf174ef7755d5609db086689abcc208d6bf3d0/expr.ipynb\"><img src=\"../numeral/deci/__pv_it/106bf174ef7755d5609db086689abcc208d6bf3d0/expr.png\" style=\"display:inline;vertical-align:middle;\" /></a></span></td></tr>\n",
       "<tr><td>&nbsp;</td><td colspan=4 style-\"text-align:left\"><a class=\"ProveItLink\" href=\"../numeral/deci/_proofs_/nat3.ipynb\">proveit.number.numeral.deci.nat3</a></td></tr><tr><td>17</td><td>theorem</td><td></td><td><span style=\"font-size:20px;\"> &#x22A2;&nbsp;<a class=\"ProveItLink\" href=\"../numeral/deci/__pv_it/3fc93db3b3fd1b15204240d9de18a48656bfb08c0/expr.ipynb\"><img src=\"../numeral/deci/__pv_it/3fc93db3b3fd1b15204240d9de18a48656bfb08c0/expr.png\" style=\"display:inline;vertical-align:middle;\" /></a></span></td></tr>\n",
       "<tr><td>&nbsp;</td><td colspan=4 style-\"text-align:left\"><a class=\"ProveItLink\" href=\"../numeral/deci/_proofs_/nat4.ipynb\">proveit.number.numeral.deci.nat4</a></td></tr><tr><td>18</td><td>theorem</td><td></td><td><span style=\"font-size:20px;\"> &#x22A2;&nbsp;<a class=\"ProveItLink\" href=\"../numeral/deci/__pv_it/e1fbc969f423eedb93abd86e7a97d4f86379d69c0/expr.ipynb\"><img src=\"../numeral/deci/__pv_it/e1fbc969f423eedb93abd86e7a97d4f86379d69c0/expr.png\" style=\"display:inline;vertical-align:middle;\" /></a></span></td></tr>\n",
       "<tr><td>&nbsp;</td><td colspan=4 style-\"text-align:left\"><a class=\"ProveItLink\" href=\"../numeral/deci/_proofs_/nat5.ipynb\">proveit.number.numeral.deci.nat5</a></td></tr><tr><td>19</td><td>theorem</td><td></td><td><span style=\"font-size:20px;\"> &#x22A2;&nbsp;<a class=\"ProveItLink\" href=\"../numeral/deci/__pv_it/45dcb82ef989e77cc7309440389a565c1144dd580/expr.ipynb\"><img src=\"../numeral/deci/__pv_it/45dcb82ef989e77cc7309440389a565c1144dd580/expr.png\" style=\"display:inline;vertical-align:middle;\" /></a></span></td></tr>\n",
       "<tr><td>&nbsp;</td><td colspan=4 style-\"text-align:left\"><a class=\"ProveItLink\" href=\"../numeral/deci/_proofs_/nat6.ipynb\">proveit.number.numeral.deci.nat6</a></td></tr><tr><td>20</td><td>theorem</td><td></td><td><span style=\"font-size:20px;\"> &#x22A2;&nbsp;<a class=\"ProveItLink\" href=\"../../logic/set_theory/containment/__pv_it/38edcce91c3ea36fc9e9f63a76d3d3895410f4970/expr.ipynb\"><img src=\"../../logic/set_theory/containment/__pv_it/38edcce91c3ea36fc9e9f63a76d3d3895410f4970/expr.png\" style=\"display:inline;vertical-align:middle;\" /></a></span></td></tr>\n",
       "<tr><td>&nbsp;</td><td colspan=4 style-\"text-align:left\"><a class=\"ProveItLink\" href=\"../../logic/set_theory/containment/_proofs_/unfoldSubsetEq.ipynb\">proveit.logic.set_theory.containment.unfoldSubsetEq</a></td></tr><tr><td>21</td><td>specialization</td><td>23, 24</td><td><span style=\"font-size:20px;\"> &#x22A2;&nbsp;<a class=\"ProveItLink\" href=\"__pv_it/3700955ccda574de0266f1c6596961898c8abab30/expr.ipynb\"><img src=\"__pv_it/3700955ccda574de0266f1c6596961898c8abab30/expr.png\" style=\"display:inline;vertical-align:middle;\" /></a></span></td></tr>\n",
       "<tr><td>&nbsp;</td><td colspan=4 style=\"text-align:left\"><span style=\"font-size:20px;\"><a class=\"ProveItLink\" href=\"../../__pv_it/2cbe72a7ad6f655694dd697106680215e8489b600/expr.ipynb\"><img src=\"../../__pv_it/2cbe72a7ad6f655694dd697106680215e8489b600/expr.png\" style=\"display:inline;vertical-align:middle;\" /></a> : <a class=\"ProveItLink\" href=\"../sets/integer/__pv_it/4434d1ec6afb2b8deec87ded0866b923feb9d6e60/expr.ipynb\"><img src=\"../sets/integer/__pv_it/4434d1ec6afb2b8deec87ded0866b923feb9d6e60/expr.png\" style=\"display:inline;vertical-align:middle;\" /></a>, <a class=\"ProveItLink\" href=\"../../__pv_it/077b2ff79244fb4582cbe22c6e3356fa92a52f2f0/expr.ipynb\"><img src=\"../../__pv_it/077b2ff79244fb4582cbe22c6e3356fa92a52f2f0/expr.png\" style=\"display:inline;vertical-align:middle;\" /></a> : <a class=\"ProveItLink\" href=\"../sets/real/__pv_it/c69b21a7605f74b7de6f2b0e27a26f9af7918cb30/expr.ipynb\"><img src=\"../sets/real/__pv_it/c69b21a7605f74b7de6f2b0e27a26f9af7918cb30/expr.png\" style=\"display:inline;vertical-align:middle;\" /></a></span></td></tr><tr><td>22</td><td>theorem</td><td></td><td><span style=\"font-size:20px;\"> &#x22A2;&nbsp;<a class=\"ProveItLink\" href=\"../numeral/deci/__pv_it/3f15fb519636fc585376b5b502be456d654dd18d0/expr.ipynb\"><img src=\"../numeral/deci/__pv_it/3f15fb519636fc585376b5b502be456d654dd18d0/expr.png\" style=\"display:inline;vertical-align:middle;\" /></a></span></td></tr>\n",
       "<tr><td>&nbsp;</td><td colspan=4 style-\"text-align:left\"><a class=\"ProveItLink\" href=\"../numeral/deci/_proofs_/nat1.ipynb\">proveit.number.numeral.deci.nat1</a></td></tr><tr><td>23</td><td>theorem</td><td></td><td><span style=\"font-size:20px;\"> &#x22A2;&nbsp;<a class=\"ProveItLink\" href=\"../../logic/set_theory/containment/__pv_it/78b7406e408fd68af78a9404c6e26456e1ea7e6b0/expr.ipynb\"><img src=\"../../logic/set_theory/containment/__pv_it/78b7406e408fd68af78a9404c6e26456e1ea7e6b0/expr.png\" style=\"display:inline;vertical-align:middle;\" /></a></span></td></tr>\n",
       "<tr><td>&nbsp;</td><td colspan=4 style-\"text-align:left\"><a class=\"ProveItLink\" href=\"../../logic/set_theory/containment/_proofs_/relaxSubset.ipynb\">proveit.logic.set_theory.containment.relaxSubset</a></td></tr><tr><td>24</td><td>theorem</td><td></td><td><span style=\"font-size:20px;\"> &#x22A2;&nbsp;<a class=\"ProveItLink\" href=\"../sets/real/__pv_it/12568757939e83b5052f8d5a35773d66b2b9c60a0/expr.ipynb\"><img src=\"../sets/real/__pv_it/12568757939e83b5052f8d5a35773d66b2b9c60a0/expr.png\" style=\"display:inline;vertical-align:middle;\" /></a></span></td></tr>\n",
       "<tr><td>&nbsp;</td><td colspan=4 style-\"text-align:left\"><a class=\"ProveItLink\" href=\"../sets/real/_proofs_/natsInReals.ipynb\">proveit.number.sets.real.natsInReals</a></td></tr></table>"
      ],
      "text/plain": [
       "\tstep type\trequirements\tstatement\n",
       "0\tspecialization\t1, 16, 22, 2, 3, 4, 5, 6\t|= (1 + 2 + 3 + 4 + 5 + 6 + 1) = (1 + 2 + 3 + (4 + 5 + 6) + 1)\n",
       "\tl : 3, m : 3, n : 1, A : (1 , 2 , 3), B : (4 , 5 , 6), C : (1)\n",
       "1\ttheorem\t\t|= forall_{l, m, n in Naturals} [forall_{(A, B, C) in Reals^{l} * Reals^{m} * Reals^{n}} ((A_1 +  ...  + A_l + B_1 +  ...  + B_m + C_1 +  ...  + C_n) = (A_1 +  ...  + A_l + (B_1 +  ...  + B_m) + C_1 +  ...  + C_n))]\n",
       "\tproveit.number.addition.group\n",
       "2\tspecialization\t9, 14, 7, 8\t|= (1 , 2 , 3) in Reals^{3}\n",
       "\tS : Reals, a : 1, b : 2, c : 3\n",
       "3\tspecialization\t9, 10, 11, 12\t|= (4 , 5 , 6) in Reals^{3}\n",
       "\tS : Reals, a : 4, b : 5, c : 6\n",
       "4\tspecialization\t13, 14\t|= (1) in Reals^{1}\n",
       "\tS : Reals, a : 1\n",
       "5\ttheorem\t\t|= (1 + 1) = 2\n",
       "\tproveit.number.numeral.deci.add_1_1\n",
       "6\ttheorem\t\t|= (2 + 1) = 3\n",
       "\tproveit.number.numeral.deci.add_2_1\n",
       "7\tspecialization\t20, 21, 15\t|= 2 in Reals\n",
       "\tA : Naturals, B : Reals, x : 2\n",
       "8\tspecialization\t20, 21, 16\t|= 3 in Reals\n",
       "\tA : Naturals, B : Reals, x : 3\n",
       "9\ttheorem\t\t|= forall_{S} [forall_{a, b, c in S} ((a , b , c) in S^{3})]\n",
       "\tproveit.logic.set_theory.membership.exp_set_3\n",
       "10\tspecialization\t20, 21, 17\t|= 4 in Reals\n",
       "\tA : Naturals, B : Reals, x : 4\n",
       "11\tspecialization\t20, 21, 18\t|= 5 in Reals\n",
       "\tA : Naturals, B : Reals, x : 5\n",
       "12\tspecialization\t20, 21, 19\t|= 6 in Reals\n",
       "\tA : Naturals, B : Reals, x : 6\n",
       "13\ttheorem\t\t|= forall_{S} [forall_{a in S} ((a) in S^{1})]\n",
       "\tproveit.logic.set_theory.membership.exp_set_1\n",
       "14\tspecialization\t20, 21, 22\t|= 1 in Reals\n",
       "\tA : Naturals, B : Reals, x : 1\n",
       "15\ttheorem\t\t|= 2 in Naturals\n",
       "\tproveit.number.numeral.deci.nat2\n",
       "16\ttheorem\t\t|= 3 in Naturals\n",
       "\tproveit.number.numeral.deci.nat3\n",
       "17\ttheorem\t\t|= 4 in Naturals\n",
       "\tproveit.number.numeral.deci.nat4\n",
       "18\ttheorem\t\t|= 5 in Naturals\n",
       "\tproveit.number.numeral.deci.nat5\n",
       "19\ttheorem\t\t|= 6 in Naturals\n",
       "\tproveit.number.numeral.deci.nat6\n",
       "20\ttheorem\t\t|= forall_{A, B | A subseteq B} [forall_{x in A} (x in B)]\n",
       "\tproveit.logic.set_theory.containment.unfoldSubsetEq\n",
       "21\tspecialization\t23, 24\t|= Naturals subseteq Reals\n",
       "\tA : Naturals, B : Reals\n",
       "22\ttheorem\t\t|= 1 in Naturals\n",
       "\tproveit.number.numeral.deci.nat1\n",
       "23\ttheorem\t\t|= forall_{A, B | A subset B} (A subseteq B)\n",
       "\tproveit.logic.set_theory.containment.relaxSubset\n",
       "24\ttheorem\t\t|= Naturals subset Reals\n",
       "\tproveit.number.sets.real.natsInReals"
      ]
     },
     "execution_count": 20,
     "metadata": {},
     "output_type": "execute_result"
    }
   ],
   "source": [
    "Add(one, two, three, four, five, six, one).deriveGroup(3,5, assumptions = []).proof()\n",
    "#Equals(Subtract(two, one),one), Equals(Subtract(one, one), zero), Equals(Subtract(three, one), two), Less(zero,Less(one, Less(two, three)))"
   ]
  },
  {
   "cell_type": "code",
   "execution_count": 21,
   "metadata": {},
   "outputs": [
    {
     "data": {
      "text/html": [
       "<a class=\"ProveItLink\" href=\"__pv_it/7c7d0875261556d2728095b47359c95d48b016440/expr.ipynb\"><img src=\"__pv_it/7c7d0875261556d2728095b47359c95d48b016440/expr.png\" style=\"display:inline;vertical-align:middle;\" /></a>"
      ],
      "text/plain": [
       "(1 , 2) in RealsPos"
      ]
     },
     "execution_count": 21,
     "metadata": {},
     "output_type": "execute_result"
    }
   ],
   "source": [
    "InSet((one,two), RealsPos).substituted({})"
   ]
  },
  {
   "cell_type": "code",
   "execution_count": 22,
   "metadata": {},
   "outputs": [
    {
     "name": "stdout",
     "output_type": "stream",
     "text": [
      "3\n",
      "{2 in RealsPos , 3 in Reals , 1 in RealsPos} |= (1 + 2 + 3 + 1) > 3\n"
     ]
    },
    {
     "data": {
      "text/html": [
       "<table><tr><th>&nbsp;</th><th>step type</th><th>requirements</th><th>statement</th></tr>\n",
       "<tr><td>0</td><td>specialization</td><td>1, 2, 3, 4, 5, 6, 7</td><td><span style=\"font-size:20px;\"><a class=\"ProveItLink\" href=\"__pv_it/a21ed14fae8982174b0901a1c40a4ca93362c2c40/expr.ipynb\"><img src=\"__pv_it/a21ed14fae8982174b0901a1c40a4ca93362c2c40/expr.png\" style=\"display:inline;vertical-align:middle;\" /></a> &#x22A2;&nbsp;<a class=\"ProveItLink\" href=\"__pv_it/1c710c621f5c52908af867b73ceb85be977e6f3d0/expr.ipynb\"><img src=\"__pv_it/1c710c621f5c52908af867b73ceb85be977e6f3d0/expr.png\" style=\"display:inline;vertical-align:middle;\" /></a></span></td></tr>\n",
       "<tr><td>&nbsp;</td><td colspan=4 style=\"text-align:left\"><span style=\"font-size:20px;\"><a class=\"ProveItLink\" href=\"../../__pv_it/78af03acba5349fd70398a32ce59bae1da52f0870/expr.ipynb\"><img src=\"../../__pv_it/78af03acba5349fd70398a32ce59bae1da52f0870/expr.png\" style=\"display:inline;vertical-align:middle;\" /></a> : <a class=\"ProveItLink\" href=\"../numeral/__pv_it/77d407a64829263cdc16415becd4c2293f77a4bf0/expr.ipynb\"><img src=\"../numeral/__pv_it/77d407a64829263cdc16415becd4c2293f77a4bf0/expr.png\" style=\"display:inline;vertical-align:middle;\" /></a>, <a class=\"ProveItLink\" href=\"../../__pv_it/39dbcd3ca0390345b51c6ef7785756419e2c14390/expr.ipynb\"><img src=\"../../__pv_it/39dbcd3ca0390345b51c6ef7785756419e2c14390/expr.png\" style=\"display:inline;vertical-align:middle;\" /></a> : <a class=\"ProveItLink\" href=\"../numeral/__pv_it/9be8badea4c35b9724062cecc501d17a3158d1d20/expr.ipynb\"><img src=\"../numeral/__pv_it/9be8badea4c35b9724062cecc501d17a3158d1d20/expr.png\" style=\"display:inline;vertical-align:middle;\" /></a>, <a class=\"ProveItLink\" href=\"../../__pv_it/eb438fefc4bd0ac977777d6dfd3e8a72dfbedbd50/expr.ipynb\"><img src=\"../../__pv_it/eb438fefc4bd0ac977777d6dfd3e8a72dfbedbd50/expr.png\" style=\"display:inline;vertical-align:middle;\" /></a> : <a class=\"ProveItLink\" href=\"__pv_it/3b856efc96b4205b1d163b7e2d5f8133d8aceddb0/expr.ipynb\"><img src=\"__pv_it/3b856efc96b4205b1d163b7e2d5f8133d8aceddb0/expr.png\" style=\"display:inline;vertical-align:middle;\" /></a>, <a class=\"ProveItLink\" href=\"../../__pv_it/9242e69d4f2c65d04fc0527b82418c7c22c6da370/expr.ipynb\"><img src=\"../../__pv_it/9242e69d4f2c65d04fc0527b82418c7c22c6da370/expr.png\" style=\"display:inline;vertical-align:middle;\" /></a> : <a class=\"ProveItLink\" href=\"__pv_it/b5e26fa7e87706308f35523dc5fc055a4271cd760/expr.ipynb\"><img src=\"__pv_it/b5e26fa7e87706308f35523dc5fc055a4271cd760/expr.png\" style=\"display:inline;vertical-align:middle;\" /></a>, <a class=\"ProveItLink\" href=\"../../__pv_it/077b2ff79244fb4582cbe22c6e3356fa92a52f2f0/expr.ipynb\"><img src=\"../../__pv_it/077b2ff79244fb4582cbe22c6e3356fa92a52f2f0/expr.png\" style=\"display:inline;vertical-align:middle;\" /></a> : <a class=\"ProveItLink\" href=\"../numeral/__pv_it/9176d93c83afa2c995b614976e3cb49207102fa70/expr.ipynb\"><img src=\"../numeral/__pv_it/9176d93c83afa2c995b614976e3cb49207102fa70/expr.png\" style=\"display:inline;vertical-align:middle;\" /></a></span></td></tr><tr><td>1</td><td>theorem</td><td></td><td><span style=\"font-size:20px;\"> &#x22A2;&nbsp;<a class=\"ProveItLink\" href=\"__pv_it/c873a2ba32f613adf41b3edc063a0e7ccc6b888b0/expr.ipynb\"><img src=\"__pv_it/c873a2ba32f613adf41b3edc063a0e7ccc6b888b0/expr.png\" style=\"display:inline;vertical-align:middle;\" /></a></span></td></tr>\n",
       "<tr><td>&nbsp;</td><td colspan=4 style-\"text-align:left\"><a class=\"ProveItLink\" href=\"_proofs_/strictlyIncreasingAdditions.ipynb\">proveit.number.addition.strictlyIncreasingAdditions</a></td></tr><tr><td>2</td><td>theorem</td><td></td><td><span style=\"font-size:20px;\"> &#x22A2;&nbsp;<a class=\"ProveItLink\" href=\"../numeral/deci/__pv_it/286f0443dba55bdb259c90cef1db0ca273fac95e0/expr.ipynb\"><img src=\"../numeral/deci/__pv_it/286f0443dba55bdb259c90cef1db0ca273fac95e0/expr.png\" style=\"display:inline;vertical-align:middle;\" /></a></span></td></tr>\n",
       "<tr><td>&nbsp;</td><td colspan=4 style-\"text-align:left\"><a class=\"ProveItLink\" href=\"../numeral/deci/_proofs_/nat2.ipynb\">proveit.number.numeral.deci.nat2</a></td></tr><tr><td>3</td><td>theorem</td><td></td><td><span style=\"font-size:20px;\"> &#x22A2;&nbsp;<a class=\"ProveItLink\" href=\"../numeral/deci/__pv_it/3f15fb519636fc585376b5b502be456d654dd18d0/expr.ipynb\"><img src=\"../numeral/deci/__pv_it/3f15fb519636fc585376b5b502be456d654dd18d0/expr.png\" style=\"display:inline;vertical-align:middle;\" /></a></span></td></tr>\n",
       "<tr><td>&nbsp;</td><td colspan=4 style-\"text-align:left\"><a class=\"ProveItLink\" href=\"../numeral/deci/_proofs_/nat1.ipynb\">proveit.number.numeral.deci.nat1</a></td></tr><tr><td>4</td><td>specialization</td><td>8, 11, 9</td><td><span style=\"font-size:20px;\"><a class=\"ProveItLink\" href=\"__pv_it/fc86e7e13f9c62a11c0c9358eccb3246f68598990/expr.ipynb\"><img src=\"__pv_it/fc86e7e13f9c62a11c0c9358eccb3246f68598990/expr.png\" style=\"display:inline;vertical-align:middle;\" /></a> &#x22A2;&nbsp;<a class=\"ProveItLink\" href=\"__pv_it/70a2b582ec8db00e29920fd489dc92bcf2963e5a0/expr.ipynb\"><img src=\"__pv_it/70a2b582ec8db00e29920fd489dc92bcf2963e5a0/expr.png\" style=\"display:inline;vertical-align:middle;\" /></a></span></td></tr>\n",
       "<tr><td>&nbsp;</td><td colspan=4 style=\"text-align:left\"><span style=\"font-size:20px;\"><a class=\"ProveItLink\" href=\"../../__pv_it/abeee18594afe51bfb1be95d9591fbba24ac53f30/expr.ipynb\"><img src=\"../../__pv_it/abeee18594afe51bfb1be95d9591fbba24ac53f30/expr.png\" style=\"display:inline;vertical-align:middle;\" /></a> : <a class=\"ProveItLink\" href=\"../sets/real/__pv_it/76da7ee0f74a2ac80210b7cda22b575924020f100/expr.ipynb\"><img src=\"../sets/real/__pv_it/76da7ee0f74a2ac80210b7cda22b575924020f100/expr.png\" style=\"display:inline;vertical-align:middle;\" /></a>, <a class=\"ProveItLink\" href=\"../../__pv_it/07527342713064c87612d00d8557c53d53d5324a0/expr.ipynb\"><img src=\"../../__pv_it/07527342713064c87612d00d8557c53d53d5324a0/expr.png\" style=\"display:inline;vertical-align:middle;\" /></a> : <a class=\"ProveItLink\" href=\"../numeral/__pv_it/9be8badea4c35b9724062cecc501d17a3158d1d20/expr.ipynb\"><img src=\"../numeral/__pv_it/9be8badea4c35b9724062cecc501d17a3158d1d20/expr.png\" style=\"display:inline;vertical-align:middle;\" /></a>, <a class=\"ProveItLink\" href=\"../../__pv_it/6840a4fa6c106149dc16a131294d0c5e44f1b0480/expr.ipynb\"><img src=\"../../__pv_it/6840a4fa6c106149dc16a131294d0c5e44f1b0480/expr.png\" style=\"display:inline;vertical-align:middle;\" /></a> : <a class=\"ProveItLink\" href=\"../numeral/__pv_it/77d407a64829263cdc16415becd4c2293f77a4bf0/expr.ipynb\"><img src=\"../numeral/__pv_it/77d407a64829263cdc16415becd4c2293f77a4bf0/expr.png\" style=\"display:inline;vertical-align:middle;\" /></a></span></td></tr><tr><td>5</td><td>specialization</td><td>10, 11</td><td><span style=\"font-size:20px;\"><a class=\"ProveItLink\" href=\"__pv_it/4e94d526e3ec29edd8da7d7ebe4cc4554fe538b70/expr.ipynb\"><img src=\"__pv_it/4e94d526e3ec29edd8da7d7ebe4cc4554fe538b70/expr.png\" style=\"display:inline;vertical-align:middle;\" /></a> &#x22A2;&nbsp;<a class=\"ProveItLink\" href=\"__pv_it/2ad517c92ef205718e8e0e2c30d6af8457fd49c60/expr.ipynb\"><img src=\"__pv_it/2ad517c92ef205718e8e0e2c30d6af8457fd49c60/expr.png\" style=\"display:inline;vertical-align:middle;\" /></a></span></td></tr>\n",
       "<tr><td>&nbsp;</td><td colspan=4 style=\"text-align:left\"><span style=\"font-size:20px;\"><a class=\"ProveItLink\" href=\"../../__pv_it/abeee18594afe51bfb1be95d9591fbba24ac53f30/expr.ipynb\"><img src=\"../../__pv_it/abeee18594afe51bfb1be95d9591fbba24ac53f30/expr.png\" style=\"display:inline;vertical-align:middle;\" /></a> : <a class=\"ProveItLink\" href=\"../sets/real/__pv_it/76da7ee0f74a2ac80210b7cda22b575924020f100/expr.ipynb\"><img src=\"../sets/real/__pv_it/76da7ee0f74a2ac80210b7cda22b575924020f100/expr.png\" style=\"display:inline;vertical-align:middle;\" /></a>, <a class=\"ProveItLink\" href=\"../../__pv_it/07527342713064c87612d00d8557c53d53d5324a0/expr.ipynb\"><img src=\"../../__pv_it/07527342713064c87612d00d8557c53d53d5324a0/expr.png\" style=\"display:inline;vertical-align:middle;\" /></a> : <a class=\"ProveItLink\" href=\"../numeral/__pv_it/9be8badea4c35b9724062cecc501d17a3158d1d20/expr.ipynb\"><img src=\"../numeral/__pv_it/9be8badea4c35b9724062cecc501d17a3158d1d20/expr.png\" style=\"display:inline;vertical-align:middle;\" /></a></span></td></tr><tr><td>6</td><td>assumption</td><td></td><td><span style=\"font-size:20px;\"><a class=\"ProveItLink\" href=\"__pv_it/e901410527aa707ba414bfba385d06a7f13959930/expr.ipynb\"><img src=\"__pv_it/e901410527aa707ba414bfba385d06a7f13959930/expr.png\" style=\"display:inline;vertical-align:middle;\" /></a> &#x22A2;&nbsp;<a class=\"ProveItLink\" href=\"__pv_it/3d19b275e173fedf7a1bbb778a581b094543153f0/expr.ipynb\"><img src=\"__pv_it/3d19b275e173fedf7a1bbb778a581b094543153f0/expr.png\" style=\"display:inline;vertical-align:middle;\" /></a></span></td></tr>\n",
       "<tr><td>7</td><td>theorem</td><td></td><td><span style=\"font-size:20px;\"> &#x22A2;&nbsp;<a class=\"ProveItLink\" href=\"../numeral/deci/__pv_it/5b6ff6a2fca03ad41d2a3084e44fbb28428ffb6a0/expr.ipynb\"><img src=\"../numeral/deci/__pv_it/5b6ff6a2fca03ad41d2a3084e44fbb28428ffb6a0/expr.png\" style=\"display:inline;vertical-align:middle;\" /></a></span></td></tr>\n",
       "<tr><td>&nbsp;</td><td colspan=4 style-\"text-align:left\"><a class=\"ProveItLink\" href=\"../numeral/deci/_proofs_/add_1_1.ipynb\">proveit.number.numeral.deci.add_1_1</a></td></tr><tr><td>8</td><td>theorem</td><td></td><td><span style=\"font-size:20px;\"> &#x22A2;&nbsp;<a class=\"ProveItLink\" href=\"../../logic/set_theory/membership/__pv_it/9ac424c71798aca56b25ebe33a7a41dbaa332c490/expr.ipynb\"><img src=\"../../logic/set_theory/membership/__pv_it/9ac424c71798aca56b25ebe33a7a41dbaa332c490/expr.png\" style=\"display:inline;vertical-align:middle;\" /></a></span></td></tr>\n",
       "<tr><td>&nbsp;</td><td colspan=4 style-\"text-align:left\"><a class=\"ProveItLink\" href=\"../../logic/set_theory/membership/_proofs_/exp_set_2.ipynb\">proveit.logic.set_theory.membership.exp_set_2</a></td></tr><tr><td>9</td><td>assumption</td><td></td><td><span style=\"font-size:20px;\"><a class=\"ProveItLink\" href=\"__pv_it/d643a1f93694632099874bdbc32d941a37716d680/expr.ipynb\"><img src=\"__pv_it/d643a1f93694632099874bdbc32d941a37716d680/expr.png\" style=\"display:inline;vertical-align:middle;\" /></a> &#x22A2;&nbsp;<a class=\"ProveItLink\" href=\"__pv_it/4d566fc424047e3c112e8ad8b4efdfd9e65cbb5c0/expr.ipynb\"><img src=\"__pv_it/4d566fc424047e3c112e8ad8b4efdfd9e65cbb5c0/expr.png\" style=\"display:inline;vertical-align:middle;\" /></a></span></td></tr>\n",
       "<tr><td>10</td><td>theorem</td><td></td><td><span style=\"font-size:20px;\"> &#x22A2;&nbsp;<a class=\"ProveItLink\" href=\"../../logic/set_theory/membership/__pv_it/2fd01e9dcec2beac2e2b13b9e038066596f5567d0/expr.ipynb\"><img src=\"../../logic/set_theory/membership/__pv_it/2fd01e9dcec2beac2e2b13b9e038066596f5567d0/expr.png\" style=\"display:inline;vertical-align:middle;\" /></a></span></td></tr>\n",
       "<tr><td>&nbsp;</td><td colspan=4 style-\"text-align:left\"><a class=\"ProveItLink\" href=\"../../logic/set_theory/membership/_proofs_/exp_set_1.ipynb\">proveit.logic.set_theory.membership.exp_set_1</a></td></tr><tr><td>11</td><td>assumption</td><td></td><td><span style=\"font-size:20px;\"><a class=\"ProveItLink\" href=\"__pv_it/4e94d526e3ec29edd8da7d7ebe4cc4554fe538b70/expr.ipynb\"><img src=\"__pv_it/4e94d526e3ec29edd8da7d7ebe4cc4554fe538b70/expr.png\" style=\"display:inline;vertical-align:middle;\" /></a> &#x22A2;&nbsp;<a class=\"ProveItLink\" href=\"__pv_it/4bcbe12e83d558a276183c5557f2c26bbfd7bfe60/expr.ipynb\"><img src=\"__pv_it/4bcbe12e83d558a276183c5557f2c26bbfd7bfe60/expr.png\" style=\"display:inline;vertical-align:middle;\" /></a></span></td></tr>\n",
       "</table>"
      ],
      "text/plain": [
       "\tstep type\trequirements\tstatement\n",
       "0\tspecialization\t1, 2, 3, 4, 5, 6, 7\t{2 in RealsPos , 3 in Reals , 1 in RealsPos} |= (1 + 2 + 3 + 1) > 3\n",
       "\tm : 2, n : 1, A : (1 , 2), C : (1), B : 3\n",
       "1\ttheorem\t\t|= forall_{m, n in Naturals} [forall_{(A, C) in (RealsPos)^{m} * (RealsPos)^{n}} [forall_{B in Reals} ((A_1 +  ...  + A_m + B + C_1 +  ...  + C_n) > B)]]\n",
       "\tproveit.number.addition.strictlyIncreasingAdditions\n",
       "2\ttheorem\t\t|= 2 in Naturals\n",
       "\tproveit.number.numeral.deci.nat2\n",
       "3\ttheorem\t\t|= 1 in Naturals\n",
       "\tproveit.number.numeral.deci.nat1\n",
       "4\tspecialization\t8, 11, 9\t{2 in RealsPos , 1 in RealsPos} |= (1 , 2) in (RealsPos)^{2}\n",
       "\tS : RealsPos, a : 1, b : 2\n",
       "5\tspecialization\t10, 11\t{1 in RealsPos} |= (1) in (RealsPos)^{1}\n",
       "\tS : RealsPos, a : 1\n",
       "6\tassumption\t\t{3 in Reals} |= 3 in Reals\n",
       "7\ttheorem\t\t|= (1 + 1) = 2\n",
       "\tproveit.number.numeral.deci.add_1_1\n",
       "8\ttheorem\t\t|= forall_{S} [forall_{a, b in S} ((a , b) in S^{2})]\n",
       "\tproveit.logic.set_theory.membership.exp_set_2\n",
       "9\tassumption\t\t{2 in RealsPos} |= 2 in RealsPos\n",
       "10\ttheorem\t\t|= forall_{S} [forall_{a in S} ((a) in S^{1})]\n",
       "\tproveit.logic.set_theory.membership.exp_set_1\n",
       "11\tassumption\t\t{1 in RealsPos} |= 1 in RealsPos"
      ]
     },
     "execution_count": 22,
     "metadata": {},
     "output_type": "execute_result"
    }
   ],
   "source": [
    "Greater(Add(one, two, three, one), three).deduceIncAdd([InSet(two, RealsPos), InSet(three, Reals), InSet(one, RealsPos)]).proof()"
   ]
  },
  {
   "cell_type": "code",
   "execution_count": 23,
   "metadata": {},
   "outputs": [
    {
     "name": "stdout",
     "output_type": "stream",
     "text": [
      "3\n",
      "(-1 , -2 , 3 , -1)\n",
      "1\n"
     ]
    },
    {
     "data": {
      "text/plain": [
       "'{3 in Reals , (-1) in RealsNeg , (-2) in RealsNeg} |= ((-1) + (-2) + 3 + (-1)) < 3'"
      ]
     },
     "execution_count": 23,
     "metadata": {},
     "output_type": "execute_result"
    }
   ],
   "source": [
    "Less(Add(Neg(one), Neg(two), three, Neg(one)), three).deduceDecAdd([InSet(two, RealsNeg), InSet(three, Reals), InSet(one, RealsNeg), InSet(Neg(one), RealsNeg), InSet(Neg(two), RealsNeg)]).string()"
   ]
  },
  {
   "cell_type": "code",
   "execution_count": 24,
   "metadata": {},
   "outputs": [
    {
     "data": {
      "text/html": [
       "<table><tr><th>&nbsp;</th><th>step type</th><th>requirements</th><th>statement</th></tr>\n",
       "<tr><td>0</td><td>specialization</td><td>1, 2</td><td><span style=\"font-size:20px;\"><a class=\"ProveItLink\" href=\"__pv_it/ffbbd46e47116b5b330599d72bc3bb7163ba52a00/expr.ipynb\"><img src=\"__pv_it/ffbbd46e47116b5b330599d72bc3bb7163ba52a00/expr.png\" style=\"display:inline;vertical-align:middle;\" /></a> &#x22A2;&nbsp;<a class=\"ProveItLink\" href=\"../numeral/__pv_it/ec23fc7a1b4222a5f4948b495002b97d6fa18c3c0/expr.ipynb\"><img src=\"../numeral/__pv_it/ec23fc7a1b4222a5f4948b495002b97d6fa18c3c0/expr.png\" style=\"display:inline;vertical-align:middle;\" /></a></span></td></tr>\n",
       "<tr><td>&nbsp;</td><td colspan=4 style=\"text-align:left\"><span style=\"font-size:20px;\"><a class=\"ProveItLink\" href=\"../../__pv_it/530be409e3083890784cf1d7b28c9e67e90af9360/expr.ipynb\"><img src=\"../../__pv_it/530be409e3083890784cf1d7b28c9e67e90af9360/expr.png\" style=\"display:inline;vertical-align:middle;\" /></a> : <a class=\"ProveItLink\" href=\"../../__pv_it/530be409e3083890784cf1d7b28c9e67e90af9360/expr.ipynb\"><img src=\"../../__pv_it/530be409e3083890784cf1d7b28c9e67e90af9360/expr.png\" style=\"display:inline;vertical-align:middle;\" /></a></span></td></tr><tr><td>1</td><td>theorem</td><td></td><td><span style=\"font-size:20px;\"> &#x22A2;&nbsp;<a class=\"ProveItLink\" href=\"__pv_it/306f53a929e2944581e7ca1c329e678fb9f86e990/expr.ipynb\"><img src=\"__pv_it/306f53a929e2944581e7ca1c329e678fb9f86e990/expr.png\" style=\"display:inline;vertical-align:middle;\" /></a></span></td></tr>\n",
       "<tr><td>&nbsp;</td><td colspan=4 style-\"text-align:left\"><a class=\"ProveItLink\" href=\"_proofs_/addNegSelf.ipynb\">proveit.number.addition.addNegSelf</a></td></tr><tr><td>2</td><td>assumption</td><td></td><td><span style=\"font-size:20px;\"><a class=\"ProveItLink\" href=\"__pv_it/ffbbd46e47116b5b330599d72bc3bb7163ba52a00/expr.ipynb\"><img src=\"__pv_it/ffbbd46e47116b5b330599d72bc3bb7163ba52a00/expr.png\" style=\"display:inline;vertical-align:middle;\" /></a> &#x22A2;&nbsp;<a class=\"ProveItLink\" href=\"__pv_it/778414fc8efe7d05d950cfdf07d38893ce086fc60/expr.ipynb\"><img src=\"__pv_it/778414fc8efe7d05d950cfdf07d38893ce086fc60/expr.png\" style=\"display:inline;vertical-align:middle;\" /></a></span></td></tr>\n",
       "</table>"
      ],
      "text/plain": [
       "\tstep type\trequirements\tstatement\n",
       "0\tspecialization\t1, 2\t{x + (-x)} |= 0\n",
       "\tx : x\n",
       "1\ttheorem\t\t|= forall_{x | x + (-x)} 0\n",
       "\tproveit.number.addition.addNegSelf\n",
       "2\tassumption\t\t{x + (-x)} |= x + (-x)"
      ]
     },
     "execution_count": 24,
     "metadata": {},
     "output_type": "execute_result"
    }
   ],
   "source": [
    "zero.prove([Subtract(x,x)]).proof()"
   ]
  },
  {
   "cell_type": "code",
   "execution_count": 25,
   "metadata": {},
   "outputs": [
    {
     "data": {
      "text/html": [
       "<table><tr><th>&nbsp;</th><th>step type</th><th>requirements</th><th>statement</th></tr>\n",
       "<tr><td>0</td><td>specialization</td><td>1, 2</td><td><span style=\"font-size:20px;\"><a class=\"ProveItLink\" href=\"__pv_it/8a996e2f5c5657049b9c12dd1063da75342478af0/expr.ipynb\"><img src=\"__pv_it/8a996e2f5c5657049b9c12dd1063da75342478af0/expr.png\" style=\"display:inline;vertical-align:middle;\" /></a> &#x22A2;&nbsp;<a class=\"ProveItLink\" href=\"../numeral/__pv_it/ec23fc7a1b4222a5f4948b495002b97d6fa18c3c0/expr.ipynb\"><img src=\"../numeral/__pv_it/ec23fc7a1b4222a5f4948b495002b97d6fa18c3c0/expr.png\" style=\"display:inline;vertical-align:middle;\" /></a></span></td></tr>\n",
       "<tr><td>&nbsp;</td><td colspan=4 style=\"text-align:left\"><span style=\"font-size:20px;\"><a class=\"ProveItLink\" href=\"../../__pv_it/530be409e3083890784cf1d7b28c9e67e90af9360/expr.ipynb\"><img src=\"../../__pv_it/530be409e3083890784cf1d7b28c9e67e90af9360/expr.png\" style=\"display:inline;vertical-align:middle;\" /></a> : <a class=\"ProveItLink\" href=\"../numeral/__pv_it/9be8badea4c35b9724062cecc501d17a3158d1d20/expr.ipynb\"><img src=\"../numeral/__pv_it/9be8badea4c35b9724062cecc501d17a3158d1d20/expr.png\" style=\"display:inline;vertical-align:middle;\" /></a></span></td></tr><tr><td>1</td><td>theorem</td><td></td><td><span style=\"font-size:20px;\"> &#x22A2;&nbsp;<a class=\"ProveItLink\" href=\"__pv_it/306f53a929e2944581e7ca1c329e678fb9f86e990/expr.ipynb\"><img src=\"__pv_it/306f53a929e2944581e7ca1c329e678fb9f86e990/expr.png\" style=\"display:inline;vertical-align:middle;\" /></a></span></td></tr>\n",
       "<tr><td>&nbsp;</td><td colspan=4 style-\"text-align:left\"><a class=\"ProveItLink\" href=\"_proofs_/addNegSelf.ipynb\">proveit.number.addition.addNegSelf</a></td></tr><tr><td>2</td><td>assumption</td><td></td><td><span style=\"font-size:20px;\"><a class=\"ProveItLink\" href=\"__pv_it/8a996e2f5c5657049b9c12dd1063da75342478af0/expr.ipynb\"><img src=\"__pv_it/8a996e2f5c5657049b9c12dd1063da75342478af0/expr.png\" style=\"display:inline;vertical-align:middle;\" /></a> &#x22A2;&nbsp;<a class=\"ProveItLink\" href=\"__pv_it/891395342ed6097e451d5eee39fe8c8c4133b2890/expr.ipynb\"><img src=\"__pv_it/891395342ed6097e451d5eee39fe8c8c4133b2890/expr.png\" style=\"display:inline;vertical-align:middle;\" /></a></span></td></tr>\n",
       "</table>"
      ],
      "text/plain": [
       "\tstep type\trequirements\tstatement\n",
       "0\tspecialization\t1, 2\t{1 + (-1)} |= 0\n",
       "\tx : 1\n",
       "1\ttheorem\t\t|= forall_{x | x + (-x)} 0\n",
       "\tproveit.number.addition.addNegSelf\n",
       "2\tassumption\t\t{1 + (-1)} |= 1 + (-1)"
      ]
     },
     "execution_count": 25,
     "metadata": {},
     "output_type": "execute_result"
    }
   ],
   "source": [
    "zero.prove([Subtract(one, one)]).proof()"
   ]
  },
  {
   "cell_type": "code",
   "execution_count": 26,
   "metadata": {},
   "outputs": [
    {
     "ename": "ProofFailure",
     "evalue": "Unable to prove m assuming {m + (1 + (-1))}: 'conclude' method not implemented for proof automation",
     "output_type": "error",
     "traceback": [
      "\u001b[0;31m---------------------------------------------------------------------------\u001b[0m",
      "\u001b[0;31mProofFailure\u001b[0m                              Traceback (most recent call last)",
      "\u001b[0;32m/home/jmadri/Prove-It/packages/proveit/_core_/expression/expr.py\u001b[0m in \u001b[0;36mprove\u001b[0;34m(self, assumptions, automation)\u001b[0m\n\u001b[1;32m    432\u001b[0m                     \u001b[0;31m# first attempt to prove via implication\u001b[0m\u001b[0;34m\u001b[0m\u001b[0;34m\u001b[0m\u001b[0;34m\u001b[0m\u001b[0m\n\u001b[0;32m--> 433\u001b[0;31m                     \u001b[0mconcludedTruth\u001b[0m \u001b[0;34m=\u001b[0m \u001b[0mself\u001b[0m\u001b[0;34m.\u001b[0m\u001b[0mconcludeViaImplication\u001b[0m\u001b[0;34m(\u001b[0m\u001b[0massumptions\u001b[0m\u001b[0;34m)\u001b[0m\u001b[0;34m\u001b[0m\u001b[0;34m\u001b[0m\u001b[0m\n\u001b[0m\u001b[1;32m    434\u001b[0m                 \u001b[0;32mexcept\u001b[0m \u001b[0mProofFailure\u001b[0m\u001b[0;34m:\u001b[0m\u001b[0;34m\u001b[0m\u001b[0;34m\u001b[0m\u001b[0m\n",
      "\u001b[0;32m/home/jmadri/Prove-It/packages/proveit/_core_/expression/expr.py\u001b[0m in \u001b[0;36mconcludeViaImplication\u001b[0;34m(self, assumptions)\u001b[0m\n\u001b[1;32m    481\u001b[0m         \u001b[0;32mfrom\u001b[0m \u001b[0mproveit\u001b[0m\u001b[0;34m.\u001b[0m\u001b[0mlogic\u001b[0m \u001b[0;32mimport\u001b[0m \u001b[0mconcludeViaImplication\u001b[0m\u001b[0;34m\u001b[0m\u001b[0;34m\u001b[0m\u001b[0m\n\u001b[0;32m--> 482\u001b[0;31m         \u001b[0;32mreturn\u001b[0m \u001b[0mconcludeViaImplication\u001b[0m\u001b[0;34m(\u001b[0m\u001b[0mself\u001b[0m\u001b[0;34m,\u001b[0m \u001b[0massumptions\u001b[0m\u001b[0;34m)\u001b[0m\u001b[0;34m\u001b[0m\u001b[0;34m\u001b[0m\u001b[0m\n\u001b[0m\u001b[1;32m    483\u001b[0m \u001b[0;34m\u001b[0m\u001b[0m\n",
      "\u001b[0;32m/home/jmadri/Prove-It/packages/proveit/logic/boolean/implication/implies.py\u001b[0m in \u001b[0;36mconcludeViaImplication\u001b[0;34m(consequent, assumptions)\u001b[0m\n\u001b[1;32m    301\u001b[0m                         \u001b[0mqueue\u001b[0m\u001b[0;34m.\u001b[0m\u001b[0mappend\u001b[0m\u001b[0;34m(\u001b[0m\u001b[0mlocal_antecedent\u001b[0m\u001b[0;34m)\u001b[0m\u001b[0;34m\u001b[0m\u001b[0;34m\u001b[0m\u001b[0m\n\u001b[0;32m--> 302\u001b[0;31m     \u001b[0;32mraise\u001b[0m \u001b[0mProofFailure\u001b[0m\u001b[0;34m(\u001b[0m\u001b[0mconsequent\u001b[0m\u001b[0;34m,\u001b[0m \u001b[0massumptions\u001b[0m\u001b[0;34m,\u001b[0m \u001b[0;34m'Unable to conclude via implications'\u001b[0m\u001b[0;34m)\u001b[0m\u001b[0;34m\u001b[0m\u001b[0;34m\u001b[0m\u001b[0m\n\u001b[0m\u001b[1;32m    303\u001b[0m \u001b[0;34m\u001b[0m\u001b[0m\n",
      "\u001b[0;31mProofFailure\u001b[0m: Unable to prove m assuming {m + (1 + (-1))}: Unable to conclude via implications",
      "\nDuring handling of the above exception, another exception occurred:\n",
      "\u001b[0;31mNotImplementedError\u001b[0m                       Traceback (most recent call last)",
      "\u001b[0;32m/home/jmadri/Prove-It/packages/proveit/_core_/expression/expr.py\u001b[0m in \u001b[0;36mprove\u001b[0;34m(self, assumptions, automation)\u001b[0m\n\u001b[1;32m    435\u001b[0m                     \u001b[0;31m# try the 'conclude' method of the specific Expression class\u001b[0m\u001b[0;34m\u001b[0m\u001b[0;34m\u001b[0m\u001b[0;34m\u001b[0m\u001b[0m\n\u001b[0;32m--> 436\u001b[0;31m                     \u001b[0mconcludedTruth\u001b[0m \u001b[0;34m=\u001b[0m \u001b[0mself\u001b[0m\u001b[0;34m.\u001b[0m\u001b[0mconclude\u001b[0m\u001b[0;34m(\u001b[0m\u001b[0massumptions\u001b[0m\u001b[0;34m)\u001b[0m\u001b[0;34m\u001b[0m\u001b[0;34m\u001b[0m\u001b[0m\n\u001b[0m\u001b[1;32m    437\u001b[0m             \u001b[0;32mif\u001b[0m \u001b[0mconcludedTruth\u001b[0m \u001b[0;32mis\u001b[0m \u001b[0;32mNone\u001b[0m\u001b[0;34m:\u001b[0m\u001b[0;34m\u001b[0m\u001b[0;34m\u001b[0m\u001b[0m\n",
      "\u001b[0;32m/home/jmadri/Prove-It/packages/proveit/_core_/expression/expr.py\u001b[0m in \u001b[0;36mconclude\u001b[0;34m(self, assumptions)\u001b[0m\n\u001b[1;32m    473\u001b[0m         '''\n\u001b[0;32m--> 474\u001b[0;31m         \u001b[0;32mraise\u001b[0m \u001b[0mNotImplementedError\u001b[0m\u001b[0;34m(\u001b[0m\u001b[0;34m\"'conclude' not implemented for \"\u001b[0m \u001b[0;34m+\u001b[0m \u001b[0mstr\u001b[0m\u001b[0;34m(\u001b[0m\u001b[0mself\u001b[0m\u001b[0;34m.\u001b[0m\u001b[0m__class__\u001b[0m\u001b[0;34m)\u001b[0m\u001b[0;34m)\u001b[0m\u001b[0;34m\u001b[0m\u001b[0;34m\u001b[0m\u001b[0m\n\u001b[0m\u001b[1;32m    475\u001b[0m \u001b[0;34m\u001b[0m\u001b[0m\n",
      "\u001b[0;31mNotImplementedError\u001b[0m: 'conclude' not implemented for <class 'proveit._core_.expression.label.var.Variable'>",
      "\nDuring handling of the above exception, another exception occurred:\n",
      "\u001b[0;31mProofFailure\u001b[0m                              Traceback (most recent call last)",
      "\u001b[0;32m<ipython-input-26-35743f41a7c5>\u001b[0m in \u001b[0;36m<module>\u001b[0;34m\u001b[0m\n\u001b[0;32m----> 1\u001b[0;31m \u001b[0mm\u001b[0m\u001b[0;34m.\u001b[0m\u001b[0mprove\u001b[0m\u001b[0;34m(\u001b[0m\u001b[0;34m[\u001b[0m\u001b[0mAdd\u001b[0m\u001b[0;34m(\u001b[0m\u001b[0mm\u001b[0m\u001b[0;34m,\u001b[0m \u001b[0mSubtract\u001b[0m\u001b[0;34m(\u001b[0m\u001b[0mone\u001b[0m\u001b[0;34m,\u001b[0m \u001b[0mone\u001b[0m\u001b[0;34m)\u001b[0m\u001b[0;34m)\u001b[0m\u001b[0;34m]\u001b[0m\u001b[0;34m)\u001b[0m\u001b[0;34m\u001b[0m\u001b[0;34m\u001b[0m\u001b[0m\n\u001b[0m",
      "\u001b[0;32m/home/jmadri/Prove-It/packages/proveit/_core_/expression/expr.py\u001b[0m in \u001b[0;36mprove\u001b[0;34m(self, assumptions, automation)\u001b[0m\n\u001b[1;32m    447\u001b[0m             \u001b[0;32mreturn\u001b[0m \u001b[0mconcludedTruth\u001b[0m\u001b[0;34m.\u001b[0m\u001b[0mwithMatchingStyles\u001b[0m\u001b[0;34m(\u001b[0m\u001b[0mself\u001b[0m\u001b[0;34m,\u001b[0m \u001b[0massumptions\u001b[0m\u001b[0;34m)\u001b[0m \u001b[0;31m# give it the appropriate style\u001b[0m\u001b[0;34m\u001b[0m\u001b[0;34m\u001b[0m\u001b[0m\n\u001b[1;32m    448\u001b[0m         \u001b[0;32mexcept\u001b[0m \u001b[0mNotImplementedError\u001b[0m\u001b[0;34m:\u001b[0m\u001b[0;34m\u001b[0m\u001b[0;34m\u001b[0m\u001b[0m\n\u001b[0;32m--> 449\u001b[0;31m             \u001b[0;32mraise\u001b[0m \u001b[0mProofFailure\u001b[0m\u001b[0;34m(\u001b[0m\u001b[0mself\u001b[0m\u001b[0;34m,\u001b[0m \u001b[0massumptions\u001b[0m\u001b[0;34m,\u001b[0m \u001b[0;34m\"'conclude' method not implemented for proof automation\"\u001b[0m\u001b[0;34m)\u001b[0m\u001b[0;34m\u001b[0m\u001b[0;34m\u001b[0m\u001b[0m\n\u001b[0m\u001b[1;32m    450\u001b[0m         \u001b[0;32mfinally\u001b[0m\u001b[0;34m:\u001b[0m\u001b[0;34m\u001b[0m\u001b[0;34m\u001b[0m\u001b[0m\n\u001b[1;32m    451\u001b[0m             \u001b[0mExpression\u001b[0m\u001b[0;34m.\u001b[0m\u001b[0min_progress_to_conclude\u001b[0m\u001b[0;34m.\u001b[0m\u001b[0mremove\u001b[0m\u001b[0;34m(\u001b[0m\u001b[0min_progress_key\u001b[0m\u001b[0;34m)\u001b[0m\u001b[0;34m\u001b[0m\u001b[0;34m\u001b[0m\u001b[0m\n",
      "\u001b[0;31mProofFailure\u001b[0m: Unable to prove m assuming {m + (1 + (-1))}: 'conclude' method not implemented for proof automation"
     ]
    }
   ],
   "source": [
    "m.prove([Add(m, Subtract(one, one))])"
   ]
  },
  {
   "cell_type": "code",
   "execution_count": null,
   "metadata": {},
   "outputs": [],
   "source": [
    "%end demonstrations"
   ]
  }
 ],
 "metadata": {
  "kernelspec": {
   "display_name": "Python 3",
   "language": "python",
   "name": "python3"
  },
  "language_info": {
   "codemirror_mode": {
    "name": "ipython",
    "version": 3
   },
   "file_extension": ".py",
   "mimetype": "text/x-python",
   "name": "python",
   "nbconvert_exporter": "python",
   "pygments_lexer": "ipython3",
   "version": "3.7.3"
  }
 },
 "nbformat": 4,
 "nbformat_minor": 1
}
