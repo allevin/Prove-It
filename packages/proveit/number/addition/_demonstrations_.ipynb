{
 "cells": [
  {
   "cell_type": "markdown",
   "metadata": {
    "collapsed": true
   },
   "source": [
    "Demonstrations for context <a class=\"ProveItLink\" href=\"_context_.ipynb\">proveit.number.addition</a>\n",
    "========"
   ]
  },
  {
   "cell_type": "code",
   "execution_count": 1,
   "metadata": {},
   "outputs": [],
   "source": [
    "import proveit\n",
    "from proveit import ExprList\n",
    "from proveit.logic import Forall, Equals, InSet\n",
    "from proveit.number import Less, Greater, LessEq, GreaterEq, Neg, Exp\n",
    "from proveit._common_ import a, b,c,d,e,f,g,l, m,n,x,y, A, B, C, AA, BB, CC\n",
    "from proveit.number import zero, one,two, three,four, five, six, seven, eight,Add, Complexes, Neg, Subtract, Integers, Naturals, NaturalsPos,Reals, RealsPos, RealsNeg\n",
    "%begin demonstrations"
   ]
  },
  {
   "cell_type": "code",
   "execution_count": 2,
   "metadata": {},
   "outputs": [
    {
     "name": "stdout",
     "output_type": "stream",
     "text": [
      "n, length 0 5\n",
      "n, length 1 6\n",
      "n, length 2 6\n",
      "n, length 3 6\n",
      "n, length 4 6\n",
      "to ungroup\n",
      "new expr c + (-1) + b + (-c) + 2 + 3 + (c + 0 + c)\n",
      "n, length 5 7\n",
      "n, length 6 7\n",
      "to ungroup\n",
      "new expr c + (-1) + b + (-c) + 2 + 3 + c + 0 + c\n",
      "n, length 7 9\n",
      "n, length 8 9\n",
      "expr after initial ungroup c + (-1) + b + (-c) + 2 + 3 + c + 0 + c\n",
      "before loop [[1, 1], [4, 2], [5, 3], [7, 0]] Lit\n",
      "in loop, place, item, size (place < size) 0 [1, 1] 3\n",
      "before if 1 3\n",
      "in loop idx, m 1 4\n",
      "self, beg, end c + (-1) + b + (-c) + 2 + 3 + c + 0 + c 4 5\n",
      "expr after group like terms c + (-1) + b + (-c) + (2 + 3) + c + 0 + c\n",
      "new dict {'Lit': [[1, 1], [4, [(2 , 3)]], [6, 0]], c: [[0, 1], [3, 1], [5, 1], [7, 1]], b: [[2, 1]]}\n",
      "place 0\n",
      "in if 1 4\n",
      "swap values 2 4\n",
      "{2 in Reals , 3 in Reals , 0 in Reals , (-c) in Reals , c in Reals , b in Reals , (-1) in Reals} |= (c + (-1) + b + (-c) + (2 + 3) + c + 0 + c) = (c + (-1) + (2 + 3) + (-c) + b + c + 0 + c)\n",
      "n, length 0 7\n",
      "n, length 1 8\n",
      "n, length 2 8\n",
      "to ungroup\n",
      "new expr c + (-1) + 2 + 3 + (-c) + b + c + 0 + c\n",
      "n, length 3 9\n",
      "n, length 4 9\n",
      "n, length 5 9\n",
      "n, length 6 9\n",
      "n, length 7 9\n",
      "n, length 8 9\n",
      "new dict after swap {'Lit': [[1, 1], [2, 2], [3, 3], [7, 0]], c: [[0, 1], [4, 1], [6, 1], [8, 1]], b: [[5, 1]]}\n",
      "looping again 0 [[1, 1], [2, 2], [3, 3], [7, 0]]\n",
      "in loop, place, item, size (place < size) 1 [4, 2] 3\n",
      "before if 2 2\n",
      "looping again 1 [[1, 1], [2, 2], [3, 3], [7, 0]]\n",
      "in loop, place, item, size (place < size) 2 [5, 3] 3\n",
      "before if 3 6\n",
      "in loop idx, m 1 1\n",
      "in loop idx, m 2 1\n",
      "self, beg, end c + (-1) + 2 + 3 + (-c) + b + c + 0 + c 1 3\n",
      "expr after group like terms c + ((-1) + 2 + 3) + (-c) + b + c + 0 + c\n",
      "new dict {'Lit': [[1, [(-1 , 2 , 3)]], [5, 0]], c: [[0, 1], [2, 1], [4, 1], [6, 1]], b: [[3, 1]]}\n",
      "place 0\n",
      "in if 1 5\n",
      "swap values 2 5\n",
      "{2 in Reals , 3 in Reals , 0 in Reals , (-c) in Reals , c in Reals , b in Reals , (-1) in Reals} |= (c + ((-1) + 2 + 3) + (-c) + b + c + 0 + c) = (c + ((-1) + 2 + 3) + 0 + b + c + (-c) + c)\n",
      "n, length 0 6\n",
      "n, length 1 7\n",
      "to ungroup\n",
      "new expr c + (-1) + 2 + 3 + 0 + b + c + (-c) + c\n",
      "n, length 2 9\n",
      "n, length 3 9\n",
      "n, length 4 9\n",
      "n, length 5 9\n",
      "n, length 6 9\n",
      "n, length 7 9\n",
      "n, length 8 9\n",
      "new dict after swap {'Lit': [[1, 1], [2, 2], [3, 3], [4, 0]], c: [[0, 1], [6, 1], [7, 1], [8, 1]], b: [[5, 1]]}\n",
      "looping again 2 [[1, 1], [2, 2], [3, 3], [4, 0]]\n",
      "in loop, place, item, size (place < size) 3 [7, 0] 3\n",
      "looping again 3 [[1, 1], [2, 2], [3, 3], [4, 0]]\n",
      "before loop [[0, 1], [6, 1], [7, 1], [8, 1]] c\n",
      "in loop, place, item, size (place < size) 0 [0, 1] 3\n",
      "before if 0 5\n",
      "in loop idx, m 1 1\n",
      "in loop idx, m 2 1\n",
      "in loop idx, m 3 1\n",
      "self, beg, end c + (-1) + 2 + 3 + 0 + b + c + (-c) + c 1 4\n",
      "in loop idx, m 1 3\n",
      "self, beg, end c + ((-1) + 2 + 3 + 0) + b + c + (-c) + c 3 5\n",
      "expr after group like terms c + ((-1) + 2 + 3 + 0) + b + (c + (-c) + c)\n",
      "new dict {'Lit': [[1, [(-1 , 2 , 3 , 0)]]], c: [[0, 1], [3, 3]], b: [[2, 1]]}\n",
      "place 0\n",
      "in if 0 3\n",
      "swap values 1 3\n",
      "{2 in Reals , 3 in Reals , 0 in Reals , (-c) in Reals , c in Reals , b in Reals , (-1) in Reals} |= (c + ((-1) + 2 + 3 + 0) + b + (c + (-c) + c)) = (c + (c + (-c) + c) + b + ((-1) + 2 + 3 + 0))\n",
      "n, length 0 3\n",
      "n, length 1 4\n",
      "to ungroup\n",
      "new expr c + c + (-c) + c + b + ((-1) + 2 + 3 + 0)\n",
      "n, length 2 6\n",
      "n, length 3 6\n",
      "n, length 4 6\n",
      "n, length 5 6\n",
      "to ungroup\n",
      "new expr c + c + (-c) + c + b + (-1) + 2 + 3 + 0\n",
      "n, length 6 9\n",
      "n, length 7 9\n",
      "n, length 8 9\n",
      "new dict after swap {'Lit': [[5, 1], [6, 2], [7, 3], [8, 0]], c: [[0, 1], [1, 1], [2, 1], [3, 1]], b: [[4, 1]]}\n",
      "looping again 0 [[0, 1], [1, 1], [2, 1], [3, 1]]\n",
      "in loop, place, item, size (place < size) 1 [6, 1] 3\n",
      "before if 1 1\n",
      "looping again 1 [[0, 1], [1, 1], [2, 1], [3, 1]]\n",
      "in loop, place, item, size (place < size) 2 [7, 1] 3\n",
      "before if 2 2\n",
      "looping again 2 [[0, 1], [1, 1], [2, 1], [3, 1]]\n",
      "in loop, place, item, size (place < size) 3 [8, 1] 3\n",
      "looping again 3 [[0, 1], [1, 1], [2, 1], [3, 1]]\n",
      "before loop [[4, 1]] b\n",
      "in loop, place, item, size (place < size) 0 [4, 1] 0\n",
      "looping again 0 [[4, 1]]\n",
      "expr, operand, j c + c + (-c) + c + b + (-1) + 2 + 3 + 0 -c 2\n",
      "self, idx in addNegSelf c + c + (-c) + c + b + (-1) + 2 + 3 + 0 2\n",
      "expr, operand, j c + c + b + (-1) + 2 + 3 + 0 -1 3\n",
      "in loop idx, m 1 0\n",
      "self, beg, end c + c + b + (-1) + 2 + 3 + 0 0 1\n",
      "in loop idx, m 1 2\n",
      "in loop idx, m 2 2\n",
      "self, beg, end (c + c) + b + (-1) + 2 + 3 + 0 2 4\n",
      "expr after group like terms (c + c) + b + ((-1) + 2 + 3) + 0\n",
      "hold[key][0][0] 5\n"
     ]
    },
    {
     "ename": "IndexError",
     "evalue": "list index out of range",
     "output_type": "error",
     "traceback": [
      "\u001b[1;31m---------------------------------------------------------------------------\u001b[0m",
      "\u001b[1;31mIndexError\u001b[0m                                Traceback (most recent call last)",
      "\u001b[1;32m<ipython-input-2-4d86f2a7b30d>\u001b[0m in \u001b[0;36m<module>\u001b[1;34m\u001b[0m\n\u001b[1;32m----> 1\u001b[1;33m \u001b[0mAdd\u001b[0m\u001b[1;33m(\u001b[0m\u001b[0mc\u001b[0m\u001b[1;33m,\u001b[0m \u001b[0mNeg\u001b[0m\u001b[1;33m(\u001b[0m\u001b[0mone\u001b[0m\u001b[1;33m)\u001b[0m\u001b[1;33m,\u001b[0m \u001b[0mb\u001b[0m\u001b[1;33m,\u001b[0m \u001b[0mNeg\u001b[0m\u001b[1;33m(\u001b[0m\u001b[0mc\u001b[0m\u001b[1;33m)\u001b[0m\u001b[1;33m,\u001b[0m \u001b[0mAdd\u001b[0m\u001b[1;33m(\u001b[0m\u001b[0mtwo\u001b[0m\u001b[1;33m,\u001b[0m \u001b[0mthree\u001b[0m\u001b[1;33m)\u001b[0m\u001b[1;33m,\u001b[0m \u001b[0mAdd\u001b[0m\u001b[1;33m(\u001b[0m\u001b[0mc\u001b[0m\u001b[1;33m,\u001b[0m \u001b[0mzero\u001b[0m\u001b[1;33m,\u001b[0m \u001b[0mc\u001b[0m\u001b[1;33m)\u001b[0m\u001b[1;33m)\u001b[0m\u001b[1;33m.\u001b[0m\u001b[0msimplifications\u001b[0m\u001b[1;33m(\u001b[0m\u001b[0massumptions\u001b[0m\u001b[1;33m=\u001b[0m\u001b[1;33m[\u001b[0m\u001b[0mInSet\u001b[0m\u001b[1;33m(\u001b[0m\u001b[0mone\u001b[0m\u001b[1;33m,\u001b[0m \u001b[0mReals\u001b[0m\u001b[1;33m)\u001b[0m\u001b[1;33m,\u001b[0m \u001b[0mInSet\u001b[0m\u001b[1;33m(\u001b[0m\u001b[0mtwo\u001b[0m\u001b[1;33m,\u001b[0m \u001b[0mReals\u001b[0m\u001b[1;33m)\u001b[0m\u001b[1;33m,\u001b[0m \u001b[0mInSet\u001b[0m\u001b[1;33m(\u001b[0m\u001b[0mthree\u001b[0m\u001b[1;33m,\u001b[0m \u001b[0mReals\u001b[0m\u001b[1;33m)\u001b[0m\u001b[1;33m,\u001b[0m \u001b[0mInSet\u001b[0m\u001b[1;33m(\u001b[0m\u001b[0mzero\u001b[0m\u001b[1;33m,\u001b[0m \u001b[0mReals\u001b[0m\u001b[1;33m)\u001b[0m\u001b[1;33m,\u001b[0m \u001b[0mInSet\u001b[0m\u001b[1;33m(\u001b[0m\u001b[0mNeg\u001b[0m\u001b[1;33m(\u001b[0m\u001b[0mc\u001b[0m\u001b[1;33m)\u001b[0m\u001b[1;33m,\u001b[0m \u001b[0mReals\u001b[0m\u001b[1;33m)\u001b[0m\u001b[1;33m,\u001b[0m\u001b[0mInSet\u001b[0m\u001b[1;33m(\u001b[0m\u001b[0mc\u001b[0m\u001b[1;33m,\u001b[0m \u001b[0mReals\u001b[0m\u001b[1;33m)\u001b[0m\u001b[1;33m,\u001b[0m\u001b[0mInSet\u001b[0m\u001b[1;33m(\u001b[0m\u001b[0mb\u001b[0m\u001b[1;33m,\u001b[0m \u001b[0mReals\u001b[0m\u001b[1;33m)\u001b[0m\u001b[1;33m,\u001b[0m \u001b[0mInSet\u001b[0m\u001b[1;33m(\u001b[0m\u001b[0mNeg\u001b[0m\u001b[1;33m(\u001b[0m\u001b[0mone\u001b[0m\u001b[1;33m)\u001b[0m\u001b[1;33m,\u001b[0m \u001b[0mReals\u001b[0m\u001b[1;33m)\u001b[0m\u001b[1;33m]\u001b[0m\u001b[1;33m)\u001b[0m\u001b[1;33m\u001b[0m\u001b[1;33m\u001b[0m\u001b[0m\n\u001b[0m",
      "\u001b[1;32mc:\\users\\joaqu\\prove-it\\packages\\proveit\\number\\addition\\add.py\u001b[0m in \u001b[0;36msimplifications\u001b[1;34m(self, assumptions)\u001b[0m\n\u001b[0;32m    548\u001b[0m                 \u001b[1;31m# for all the keys that are not literals, derive the multiplication from the addition\u001b[0m\u001b[1;33m\u001b[0m\u001b[1;33m\u001b[0m\u001b[1;33m\u001b[0m\u001b[0m\n\u001b[0;32m    549\u001b[0m                 \u001b[0mprint\u001b[0m\u001b[1;33m(\u001b[0m\u001b[1;34m\"hold[key][0][0]\"\u001b[0m\u001b[1;33m,\u001b[0m \u001b[0mhold\u001b[0m\u001b[1;33m[\u001b[0m\u001b[0mkey\u001b[0m\u001b[1;33m]\u001b[0m\u001b[1;33m[\u001b[0m\u001b[1;36m0\u001b[0m\u001b[1;33m]\u001b[0m\u001b[1;33m[\u001b[0m\u001b[1;36m0\u001b[0m\u001b[1;33m]\u001b[0m\u001b[1;33m)\u001b[0m\u001b[1;33m\u001b[0m\u001b[1;33m\u001b[0m\u001b[0m\n\u001b[1;32m--> 550\u001b[1;33m                 \u001b[1;32mif\u001b[0m \u001b[0misinstance\u001b[0m\u001b[1;33m(\u001b[0m\u001b[0mexpr\u001b[0m\u001b[1;33m.\u001b[0m\u001b[0moperands\u001b[0m\u001b[1;33m[\u001b[0m\u001b[0mhold\u001b[0m\u001b[1;33m[\u001b[0m\u001b[0mkey\u001b[0m\u001b[1;33m]\u001b[0m\u001b[1;33m[\u001b[0m\u001b[1;36m0\u001b[0m\u001b[1;33m]\u001b[0m\u001b[1;33m[\u001b[0m\u001b[1;36m0\u001b[0m\u001b[1;33m]\u001b[0m\u001b[1;33m]\u001b[0m\u001b[1;33m,\u001b[0m \u001b[0mAdd\u001b[0m\u001b[1;33m)\u001b[0m\u001b[1;33m:\u001b[0m\u001b[1;33m\u001b[0m\u001b[1;33m\u001b[0m\u001b[0m\n\u001b[0m\u001b[0;32m    551\u001b[0m                     \u001b[0mexpr\u001b[0m \u001b[1;33m=\u001b[0m \u001b[0mexpr\u001b[0m\u001b[1;33m.\u001b[0m\u001b[0mderiveExpandedMultDef\u001b[0m\u001b[1;33m(\u001b[0m\u001b[0mhold\u001b[0m\u001b[1;33m[\u001b[0m\u001b[0mkey\u001b[0m\u001b[1;33m]\u001b[0m\u001b[1;33m[\u001b[0m\u001b[1;36m0\u001b[0m\u001b[1;33m]\u001b[0m\u001b[1;33m[\u001b[0m\u001b[1;36m0\u001b[0m\u001b[1;33m]\u001b[0m\u001b[1;33m,\u001b[0m \u001b[0massumptions\u001b[0m\u001b[1;33m)\u001b[0m\u001b[1;33m.\u001b[0m\u001b[0mrhs\u001b[0m\u001b[1;33m\u001b[0m\u001b[1;33m\u001b[0m\u001b[0m\n\u001b[0;32m    552\u001b[0m             \u001b[1;32melse\u001b[0m\u001b[1;33m:\u001b[0m\u001b[1;33m\u001b[0m\u001b[1;33m\u001b[0m\u001b[0m\n",
      "\u001b[1;32mc:\\users\\joaqu\\prove-it\\packages\\proveit\\_core_\\expression\\composite\\expr_list.py\u001b[0m in \u001b[0;36m__getitem__\u001b[1;34m(self, i)\u001b[0m\n\u001b[0;32m     85\u001b[0m         \u001b[0mvia\u001b[0m \u001b[0miterations\u001b[0m \u001b[1;33m(\u001b[0m\u001b[0mIter\u001b[0m\u001b[1;33m)\u001b[0m\u001b[1;33m.\u001b[0m\u001b[1;33m\u001b[0m\u001b[1;33m\u001b[0m\u001b[0m\n\u001b[0;32m     86\u001b[0m         '''\n\u001b[1;32m---> 87\u001b[1;33m         \u001b[1;32mreturn\u001b[0m \u001b[0mself\u001b[0m\u001b[1;33m.\u001b[0m\u001b[0mentries\u001b[0m\u001b[1;33m[\u001b[0m\u001b[0mi\u001b[0m\u001b[1;33m]\u001b[0m\u001b[1;33m\u001b[0m\u001b[1;33m\u001b[0m\u001b[0m\n\u001b[0m\u001b[0;32m     88\u001b[0m \u001b[1;33m\u001b[0m\u001b[0m\n\u001b[0;32m     89\u001b[0m     \u001b[1;32mdef\u001b[0m \u001b[0mgetElem\u001b[0m\u001b[1;33m(\u001b[0m\u001b[0mself\u001b[0m\u001b[1;33m,\u001b[0m \u001b[0mindex\u001b[0m\u001b[1;33m,\u001b[0m \u001b[0mbase\u001b[0m\u001b[1;33m=\u001b[0m\u001b[1;36m1\u001b[0m\u001b[1;33m,\u001b[0m \u001b[0massumptions\u001b[0m\u001b[1;33m=\u001b[0m\u001b[0mUSE_DEFAULTS\u001b[0m\u001b[1;33m,\u001b[0m \u001b[0mrequirements\u001b[0m\u001b[1;33m=\u001b[0m\u001b[1;32mNone\u001b[0m\u001b[1;33m)\u001b[0m\u001b[1;33m:\u001b[0m\u001b[1;33m\u001b[0m\u001b[1;33m\u001b[0m\u001b[0m\n",
      "\u001b[1;31mIndexError\u001b[0m: list index out of range"
     ]
    }
   ],
   "source": [
    "Add(c, Neg(one), b, Neg(c), Add(two, three), Add(c, zero, c)).simplifications(assumptions=[InSet(one, Reals), InSet(two, Reals), InSet(three, Reals), InSet(zero, Reals), InSet(Neg(c), Reals),InSet(c, Reals),InSet(b, Reals), InSet(Neg(one), Reals)])"
   ]
  },
  {
   "cell_type": "code",
   "execution_count": null,
   "metadata": {},
   "outputs": [],
   "source": [
    "Add(a,one, two,Add(b,b,b),c, three, four).deriveExpandedMultDef(3,[InSet(a, Reals), InSet(b, Reals), InSet(c, Reals), InSet(one, Reals), InSet(two, Reals), InSet(three, Reals), InSet(four, Reals), InSet(Neg(b), Reals)])"
   ]
  },
  {
   "cell_type": "code",
   "execution_count": null,
   "metadata": {},
   "outputs": [],
   "source": [
    "Add(a, b, Neg(b), c).deriveExpandedNegSelf(2, assumptions=[InSet(a, Reals), InSet(b, Reals), InSet(c, Reals)])"
   ]
  },
  {
   "cell_type": "code",
   "execution_count": null,
   "metadata": {},
   "outputs": [],
   "source": [
    "Add(one, a, A, zero, b, B, C, c, one, three, A).simplifications(assumptions=[InSet(one, Reals), InSet(three, Reals), InSet(zero, Reals), InSet(a, Reals), InSet(A, Reals), InSet(b, Reals), InSet(B, Reals), InSet(c, Reals), InSet(C, Reals)])"
   ]
  },
  {
   "cell_type": "code",
   "execution_count": null,
   "metadata": {},
   "outputs": [],
   "source": [
    "#Add(a, one, two , c, b, a, zero, b, c, c, three).groupLikeTerms([InSet(a, Reals), InSet(b, Reals), InSet(c, Reals), InSet(one, Reals), InSet(two, Reals)])"
   ]
  },
  {
   "cell_type": "code",
   "execution_count": null,
   "metadata": {},
   "outputs": [],
   "source": [
    "Add(one, two).simplification()"
   ]
  },
  {
   "cell_type": "code",
   "execution_count": null,
   "metadata": {},
   "outputs": [],
   "source": [
    "Add(a, one, a).simplifications([InSet(a, Reals), InSet(one, Reals)])"
   ]
  },
  {
   "cell_type": "code",
   "execution_count": null,
   "metadata": {},
   "outputs": [],
   "source": [
    "Add(one, c, two, three, c, one,c).simplifications([InSet(a, Reals), InSet(b, Reals), InSet(c, Reals), InSet(one, Reals), InSet(two, Reals)])"
   ]
  },
  {
   "cell_type": "code",
   "execution_count": null,
   "metadata": {},
   "outputs": [],
   "source": [
    "Add(a, one, two , c, b, a, zero, b, c, c, three).simplifications([InSet(a, Reals), InSet(b, Reals), InSet(c, Reals), InSet(one, Reals), InSet(two, Reals)])"
   ]
  },
  {
   "cell_type": "code",
   "execution_count": null,
   "metadata": {},
   "outputs": [],
   "source": []
  },
  {
   "cell_type": "code",
   "execution_count": null,
   "metadata": {},
   "outputs": [],
   "source": [
    "Add(a,b).deduceInNumberSet(Integers, assumptions=[InSet(a, Integers), InSet(b,Integers)]).proof()"
   ]
  },
  {
   "cell_type": "code",
   "execution_count": null,
   "metadata": {},
   "outputs": [],
   "source": [
    "Add(a,b,c,d).deduceInNumberSet(Integers,[InSet(a,Integers),InSet(b, Integers), InSet(c, Integers), InSet(d,Integers)]).proof()"
   ]
  },
  {
   "cell_type": "code",
   "execution_count": null,
   "metadata": {},
   "outputs": [],
   "source": [
    "Add(a,b).deduceInNumberSet(Naturals, assumptions=[InSet(a, Naturals), InSet(b, Naturals)]).proof()"
   ]
  },
  {
   "cell_type": "code",
   "execution_count": null,
   "metadata": {},
   "outputs": [],
   "source": [
    "Add(a,b,c,d).deduceInNumberSet(Naturals, assumptions=[InSet(a,Naturals), InSet(b, Naturals), InSet(c,Naturals), InSet(d, Naturals)]).proof()"
   ]
  },
  {
   "cell_type": "code",
   "execution_count": null,
   "metadata": {},
   "outputs": [],
   "source": [
    "Add(a,b).deduceInNumberSet(Reals, assumptions=[InSet(a, Reals), InSet(b,Reals)]).proof()"
   ]
  },
  {
   "cell_type": "code",
   "execution_count": null,
   "metadata": {},
   "outputs": [],
   "source": [
    "Add(a,b,c,d).deduceInNumberSet(Reals, assumptions=[InSet(a,Reals), InSet(b,Reals), InSet(c, Reals), InSet(d, Reals)]).proof()"
   ]
  },
  {
   "cell_type": "code",
   "execution_count": null,
   "metadata": {},
   "outputs": [],
   "source": [
    "Add(a,b).deduceInNumberSet(Complexes, assumptions=[InSet(a, Complexes), InSet(b, Complexes)]).proof()"
   ]
  },
  {
   "cell_type": "code",
   "execution_count": null,
   "metadata": {},
   "outputs": [],
   "source": [
    "Add(a,b,c,d).deduceInNumberSet(Complexes, assumptions=[InSet(a, Complexes), InSet(b, Complexes), InSet(c, Complexes), InSet(d,Complexes)]).proof()"
   ]
  },
  {
   "cell_type": "code",
   "execution_count": null,
   "metadata": {},
   "outputs": [],
   "source": [
    "Add(a,b,one,d).deduceInNumberSet(NaturalsPos, assumptions=[InSet(a, Naturals), InSet(b, Naturals), InSet(c, Naturals), InSet(d, Naturals)]).proof()"
   ]
  },
  {
   "cell_type": "code",
   "execution_count": null,
   "metadata": {},
   "outputs": [],
   "source": [
    "Add(zero, b).deduceAddZero([InSet(b,Complexes)]).proof()"
   ]
  },
  {
   "cell_type": "code",
   "execution_count": null,
   "metadata": {},
   "outputs": [],
   "source": [
    "Add(a,b,c,d).deriveSwap(1,3, assumptions=[InSet(a,Reals), InSet(b,Reals), InSet(c, Reals), InSet(d,Reals)]).proof()"
   ]
  },
  {
   "cell_type": "code",
   "execution_count": null,
   "metadata": {},
   "outputs": [],
   "source": [
    "Add(one, two, three, four, five, six, one).deriveGroup(3,5, assumptions = []).proof()\n",
    "#Equals(Subtract(two, one),one), Equals(Subtract(one, one), zero), Equals(Subtract(three, one), two), Less(zero,Less(one, Less(two, three)))"
   ]
  },
  {
   "cell_type": "code",
   "execution_count": null,
   "metadata": {},
   "outputs": [],
   "source": [
    "InSet((one,two), RealsPos).substituted({})"
   ]
  },
  {
   "cell_type": "code",
   "execution_count": null,
   "metadata": {},
   "outputs": [],
   "source": [
    "Greater(Add(one, two, three, one), three).deduceIncAdd([InSet(two, RealsPos), InSet(three, Reals), InSet(one, RealsPos)]).proof()"
   ]
  },
  {
   "cell_type": "code",
   "execution_count": null,
   "metadata": {},
   "outputs": [],
   "source": [
    "Less(Add(Neg(one), Neg(two), three, Neg(one)), three).deduceDecAdd([InSet(two, RealsNeg), InSet(three, Reals), InSet(one, RealsNeg), InSet(Neg(one), RealsNeg), InSet(Neg(two), RealsNeg)]).string()"
   ]
  },
  {
   "cell_type": "code",
   "execution_count": null,
   "metadata": {},
   "outputs": [],
   "source": [
    "zero.prove([Subtract(x,x)]).proof()"
   ]
  },
  {
   "cell_type": "code",
   "execution_count": null,
   "metadata": {},
   "outputs": [],
   "source": [
    "zero.prove([Subtract(one, one)]).proof()"
   ]
  },
  {
   "cell_type": "code",
   "execution_count": null,
   "metadata": {},
   "outputs": [],
   "source": [
    "Add(a,a,c,Neg(c),a).deriveExpandedNegSelf(3,[InSet(c, Reals), InSet(a, Reals)])"
   ]
  },
  {
   "cell_type": "code",
   "execution_count": null,
   "metadata": {},
   "outputs": [],
   "source": [
    "Add(a,one, two,Add(b,b,b),c, three, four).deriveExpandedMultDef(3,[InSet(a, Complexes), InSet(b, Complexes), InSet(c, Complexes)])"
   ]
  },
  {
   "cell_type": "code",
   "execution_count": null,
   "metadata": {},
   "outputs": [],
   "source": [
    "m.prove([Add(m, Subtract(one, one))])"
   ]
  },
  {
   "cell_type": "code",
   "execution_count": null,
   "metadata": {},
   "outputs": [],
   "source": [
    "%end demonstrations"
   ]
  }
 ],
 "metadata": {
  "kernelspec": {
   "display_name": "Python 3",
   "language": "python",
   "name": "python3"
  },
  "language_info": {
   "codemirror_mode": {
    "name": "ipython",
    "version": 3
   },
   "file_extension": ".py",
   "mimetype": "text/x-python",
   "name": "python",
   "nbconvert_exporter": "python",
   "pygments_lexer": "ipython3",
   "version": "3.7.3"
  }
 },
 "nbformat": 4,
 "nbformat_minor": 1
}
