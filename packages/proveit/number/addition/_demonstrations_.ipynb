{
 "cells": [
  {
   "cell_type": "markdown",
   "metadata": {
    "collapsed": true
   },
   "source": [
    "Demonstrations for context <a class=\"ProveItLink\" href=\"_context_.ipynb\">proveit.number.addition</a>\n",
    "========"
   ]
  },
  {
   "cell_type": "code",
   "execution_count": 1,
   "metadata": {},
   "outputs": [],
   "source": [
    "import proveit\n",
    "from proveit import ExprList\n",
    "from proveit.logic import Forall, Equals, InSet\n",
    "from proveit.number import Less, Greater, LessEq, GreaterEq, Neg, Exp, Mult\n",
    "from proveit._common_ import a, b,c,d,e,f,g,l, m,n,x,y, A, B, C, AA, BB, CC\n",
    "from proveit.number import zero, one,two, three,four, five, six, seven, eight,Add, Complexes, Neg, Subtract, Integers, Naturals, NaturalsPos,Reals, RealsPos, RealsNeg\n",
    "%begin demonstrations"
   ]
  },
  {
   "cell_type": "code",
   "execution_count": 2,
   "metadata": {},
   "outputs": [
    {
     "name": "stdout",
     "output_type": "stream",
     "text": [
      "n, length 0 5\n",
      "n, length 1 6\n",
      "n, length 2 6\n",
      "n, length 3 6\n",
      "n, length 4 6\n",
      "to ungroup\n",
      "550\n",
      "new expr c + (-1) + b + (-c) + 2 + 3 + (c + 0 + c)\n",
      "n, length 5 7\n",
      "n, length 6 7\n",
      "to ungroup\n",
      "550\n",
      "new expr c + (-1) + b + (-c) + 2 + 3 + c + 0 + c\n",
      "n, length 7 9\n",
      "n, length 8 9\n",
      "expr after initial ungroup c + (-1) + b + (-c) + 2 + 3 + c + 0 + c\n",
      "order [c, -c, 'Lit', 'LitNeg', b]\n",
      "before loop [[0, 1], [6, 1], [8, 1]] c\n",
      "in loop, place, item, size (place < size) 0 [0, 1] 4\n",
      "before if 0 5\n",
      "place 0\n",
      "in if 0 6\n",
      "swap values 6 1\n",
      "{2 in Reals , 3 in Reals , 0 in Reals , (-c) in Reals , c in Reals , b in Reals , (-1) in Reals} |= (c + c + (-1) + b + (-c) + 2 + 3 + 0 + c) = (c + (-1) + b + (-c) + 2 + 3 + c + 0 + c)\n",
      "603 c + c + (-1) + b + (-c) + 2 + 3 + 0 + c\n",
      "new dict after swap {c: [[0, 1], [1, 1], [8, 1]], 'LitNeg': [[2, 1]], b: [[3, 1]], -c: [[4, 1]], 'Lit': [[5, 2], [6, 3], [7, 0]]}\n",
      "looping again 0 [[0, 1], [1, 1], [8, 1]]\n",
      "in loop, place, item, size (place < size) 1 [6, 1] 4\n",
      "before if 1 7\n",
      "place 1\n",
      "in if 1 8\n",
      "swap values 8 2\n",
      "{2 in Reals , 3 in Reals , 0 in Reals , (-c) in Reals , c in Reals , b in Reals , (-1) in Reals} |= (c + c + c + (-1) + b + (-c) + 2 + 3 + 0) = (c + c + (-1) + b + (-c) + 2 + 3 + 0 + c)\n",
      "603 c + c + c + (-1) + b + (-c) + 2 + 3 + 0\n",
      "new dict after swap {c: [[0, 1], [1, 1], [2, 1]], 'LitNeg': [[3, 1]], b: [[4, 1]], -c: [[5, 1]], 'Lit': [[6, 2], [7, 3], [8, 0]]}\n",
      "looping again 1 [[0, 1], [1, 1], [2, 1]]\n",
      "in loop, place, item, size (place < size) 2 [8, 1] 4\n",
      "j 0\n",
      "order[j] c\n",
      "hold {c: [[0, 1], [1, 1], [2, 1]], 'LitNeg': [[3, 1]], b: [[4, 1]], -c: [[5, 1]], 'Lit': [[6, 2], [7, 3], [8, 0]]}\n",
      "in else 2 5\n",
      "swap values 5 3\n",
      "{2 in Reals , 3 in Reals , 0 in Reals , (-c) in Reals , c in Reals , b in Reals , (-1) in Reals} |= (c + c + c + (-c) + (-1) + b + 2 + 3 + 0) = (c + c + c + (-1) + b + (-c) + 2 + 3 + 0)\n",
      "lhs\n",
      "603 c + c + c + (-c) + (-1) + b + 2 + 3 + 0\n",
      "new dict after swap {c: [[0, 1], [1, 1], [2, 1]], -c: [[3, 1]], 'LitNeg': [[4, 1]], b: [[5, 1]], 'Lit': [[6, 2], [7, 3], [8, 0]]}\n",
      "before loop [[3, 1]] -c\n",
      "in loop, place, item, size (place < size) 0 [3, 1] 4\n",
      "j 1\n",
      "order[j] -c\n",
      "hold {c: [[0, 1], [1, 1], [2, 1]], -c: [[3, 1]], 'LitNeg': [[4, 1]], b: [[5, 1]], 'Lit': [[6, 2], [7, 3], [8, 0]]}\n",
      "in else 3 6\n",
      "swap values 6 4\n",
      "{2 in Reals , 3 in Reals , 0 in Reals , (-c) in Reals , c in Reals , b in Reals , (-1) in Reals} |= (c + c + c + (-c) + 2 + (-1) + b + 3 + 0) = (c + c + c + (-c) + (-1) + b + 2 + 3 + 0)\n",
      "lhs\n",
      "603 c + c + c + (-c) + 2 + (-1) + b + 3 + 0\n",
      "new dict after swap {c: [[0, 1], [1, 1], [2, 1]], -c: [[3, 1]], 'Lit': [[4, 2], [7, 3], [8, 0]], 'LitNeg': [[5, 1]], b: [[6, 1]]}\n",
      "before loop [[4, 2], [7, 3], [8, 0]] Lit\n",
      "in loop, place, item, size (place < size) 0 [4, 2] 4\n",
      "before if 4 6\n",
      "place 0\n",
      "in if 4 7\n",
      "swap values 7 5\n",
      "{2 in Reals , 3 in Reals , 0 in Reals , (-c) in Reals , c in Reals , b in Reals , (-1) in Reals} |= (c + c + c + (-c) + 2 + 3 + (-1) + b + 0) = (c + c + c + (-c) + 2 + (-1) + b + 3 + 0)\n",
      "603 c + c + c + (-c) + 2 + 3 + (-1) + b + 0\n",
      "new dict after swap {c: [[0, 1], [1, 1], [2, 1]], -c: [[3, 1]], 'Lit': [[4, 2], [5, 3], [8, 0]], 'LitNeg': [[6, 1]], b: [[7, 1]]}\n",
      "looping again 0 [[4, 2], [5, 3], [8, 0]]\n",
      "in loop, place, item, size (place < size) 1 [7, 3] 4\n",
      "before if 5 7\n",
      "place 1\n",
      "in if 5 8\n",
      "swap values 8 6\n",
      "{2 in Reals , 3 in Reals , 0 in Reals , (-c) in Reals , c in Reals , b in Reals , (-1) in Reals} |= (c + c + c + (-c) + 2 + 3 + 0 + (-1) + b) = (c + c + c + (-c) + 2 + 3 + (-1) + b + 0)\n",
      "603 c + c + c + (-c) + 2 + 3 + 0 + (-1) + b\n",
      "new dict after swap {c: [[0, 1], [1, 1], [2, 1]], -c: [[3, 1]], 'Lit': [[4, 2], [5, 3], [6, 0]], 'LitNeg': [[7, 1]], b: [[8, 1]]}\n",
      "looping again 1 [[4, 2], [5, 3], [6, 0]]\n",
      "in loop, place, item, size (place < size) 2 [8, 0] 4\n",
      "looping again 2 [[4, 2], [5, 3], [6, 0]]\n",
      "before loop [[7, 1]] LitNeg\n",
      "in loop, place, item, size (place < size) 0 [7, 1] 4\n",
      "looping again 0 [[7, 1]]\n",
      "before loop [[8, 1]] b\n",
      "in loop, place, item, size (place < size) 0 [8, 1] 4\n",
      "looping again 0 [[8, 1]]\n",
      "expr, operand, j c + c + c + (-c) + 2 + 3 + 0 + (-1) + b -c 3\n",
      "j 3\n",
      "self, beg, end c + c + c + (-c) + 2 + 3 + 0 + (-1) + b 2 3\n",
      "637\n",
      "c + c + (c + (-c)) + 2 + 3 + 0 + (-1) + b\n",
      "644\n",
      "expr, operand, j c + c + 0 + 2 + 3 + 0 + (-1) + b -1 6\n",
      "c c\n",
      "in loop idx, m 1 0\n",
      "c 0 1\n",
      "self, beg, end c + c + 0 + 2 + 3 + 0 + (-1) + b 0 1\n",
      "0 2\n",
      "in loop idx, m 1 1\n",
      "0 3\n",
      "in loop idx, m 2 1\n",
      "0 0\n",
      "in loop idx, m 3 1\n",
      "0 -1 3\n",
      "self, beg, end (c + c) + 0 + 2 + 3 + 0 + (-1) + b 1 4\n",
      "653\n",
      "expr after group like terms (c + c) + (0 + 2 + 3 + 0) + (-1) + b\n",
      "new dict after group {c: [[0, 2]], 'Lit': [[1, [(0 , 2 , 3 , 0)]]], 'LitNeg': [[2, 1]], b: [[3, 1]]}\n",
      "order [c, 'Lit', 'LitNeg', b]\n",
      "key c\n",
      "hold[key][0][0] 0\n",
      "idx 0\n",
      "operand at idx c + c\n",
      "expr c + c\n",
      "c\n",
      "sub {c in Reals} |= (1 * c) = c\n",
      "substitution {c in Reals} |= ((1 * c) + c) = (c + c)\n",
      "1033\n",
      "operand after mult change 1 * c\n",
      "new expr (1 * c) + c\n",
      "operand is mult\n",
      "0 1\n",
      "operand.operands[:i} []\n",
      "1 c\n",
      "operand.operands[:i} [1]\n",
      "expr (1 * c) + c\n",
      "c\n",
      "sub {c in Reals} |= (1 * c) = c\n",
      "substitution {c in Reals} |= ((1 * c) + (1 * c)) = ((1 * c) + c)\n",
      "1033\n",
      "operand after mult change 1 * c\n",
      "new expr (1 * c) + (1 * c)\n",
      "operand is mult\n",
      "0 1\n",
      "operand.operands[:i} []\n",
      "1 c\n",
      "operand.operands[:i} [1]\n",
      "a,c [] [c, c]\n",
      "l 0\n",
      "m 2\n",
      "n 1\n",
      "aa []\n",
      "bb [1, 1]\n",
      "cc c\n",
      "1045\n",
      "factor operand at idx {c in Reals} |= ((1 + 1) * c) = ((1 * c) + (1 * c))\n",
      "expr c + c\n",
      "c\n",
      "sub {c in Reals} |= (1 * c) = c\n",
      "substitution {c in Reals} |= ((1 * c) + c) = (c + c)\n",
      "1033\n",
      "operand after mult change 1 * c\n",
      "new expr (1 * c) + c\n",
      "operand is mult\n",
      "0 1\n",
      "operand.operands[:i} []\n",
      "1 c\n",
      "operand.operands[:i} [1]\n",
      "expr (1 * c) + c\n",
      "c\n",
      "sub {c in Reals} |= (1 * c) = c\n",
      "substitution {c in Reals} |= ((1 * c) + (1 * c)) = ((1 * c) + c)\n",
      "1033\n",
      "operand after mult change 1 * c\n",
      "new expr (1 * c) + (1 * c)\n",
      "operand is mult\n",
      "0 1\n",
      "operand.operands[:i} []\n",
      "1 c\n",
      "operand.operands[:i} [1]\n",
      "a,c [] [c, c]\n",
      "l 0\n",
      "m 2\n",
      "n 1\n",
      "aa []\n",
      "bb [1, 1]\n",
      "cc c\n",
      "1045\n",
      "sub {c in Reals} |= ((1 + 1) * c) = ((1 * c) + (1 * c))\n",
      "expr (c + c) + (0 + 2 + 3 + 0) + (-1) + b\n",
      "expr.innerExpr() {lambda:[_x_ -> _x_], _x_:((c + c) + (0 + 2 + 3 + 0) + (-1) + b)}\n",
      "expr.innerExpr().operands[idx] {lambda:[_x_ -> (_x_ + (0 + 2 + 3 + 0) + (-1) + b)], _x_:(c + c)}\n",
      "the substitution {c in Reals} |= (((1 + 1) * c) + (0 + 2 + 3 + 0) + (-1) + b) = (((1 * c) + (1 * c)) + (0 + 2 + 3 + 0) + (-1) + b)\n",
      "expr before equals ((1 + 1) * c) + (0 + 2 + 3 + 0) + (-1) + b\n",
      "689\n"
     ]
    },
    {
     "ename": "TransitivityException",
     "evalue": "Unable to prove (c + (-1) + b + (-c) + (2 + 3) + (c + 0 + c)) = (((1 + 1) * c) + (0 + 2 + 3 + 0) + (-1) + b) assuming {1 in Reals, 2 in Reals, 3 in Reals, 0 in Reals, (-c) in Reals, c in Reals, b in Reals, (-1) in Reals, (c + 0 + c) in Reals}: No proof found via applying transitivity amongst known proven relations.",
     "output_type": "error",
     "traceback": [
      "\u001b[0;31m---------------------------------------------------------------------------\u001b[0m",
      "\u001b[0;31mProofFailure\u001b[0m                              Traceback (most recent call last)",
      "\u001b[0;32m/home/jmadri/Prove-It/packages/proveit/_core_/expression/expr.py\u001b[0m in \u001b[0;36mprove\u001b[0;34m(self, assumptions, automation)\u001b[0m\n\u001b[1;32m    432\u001b[0m                     \u001b[0;31m# first attempt to prove via implication\u001b[0m\u001b[0;34m\u001b[0m\u001b[0;34m\u001b[0m\u001b[0;34m\u001b[0m\u001b[0m\n\u001b[0;32m--> 433\u001b[0;31m                     \u001b[0mconcludedTruth\u001b[0m \u001b[0;34m=\u001b[0m \u001b[0mself\u001b[0m\u001b[0;34m.\u001b[0m\u001b[0mconcludeViaImplication\u001b[0m\u001b[0;34m(\u001b[0m\u001b[0massumptions\u001b[0m\u001b[0;34m)\u001b[0m\u001b[0;34m\u001b[0m\u001b[0;34m\u001b[0m\u001b[0m\n\u001b[0m\u001b[1;32m    434\u001b[0m                 \u001b[0;32mexcept\u001b[0m \u001b[0mProofFailure\u001b[0m\u001b[0;34m:\u001b[0m\u001b[0;34m\u001b[0m\u001b[0;34m\u001b[0m\u001b[0m\n",
      "\u001b[0;32m/home/jmadri/Prove-It/packages/proveit/_core_/expression/expr.py\u001b[0m in \u001b[0;36mconcludeViaImplication\u001b[0;34m(self, assumptions)\u001b[0m\n\u001b[1;32m    481\u001b[0m         \u001b[0;32mfrom\u001b[0m \u001b[0mproveit\u001b[0m\u001b[0;34m.\u001b[0m\u001b[0mlogic\u001b[0m \u001b[0;32mimport\u001b[0m \u001b[0mconcludeViaImplication\u001b[0m\u001b[0;34m\u001b[0m\u001b[0;34m\u001b[0m\u001b[0m\n\u001b[0;32m--> 482\u001b[0;31m         \u001b[0;32mreturn\u001b[0m \u001b[0mconcludeViaImplication\u001b[0m\u001b[0;34m(\u001b[0m\u001b[0mself\u001b[0m\u001b[0;34m,\u001b[0m \u001b[0massumptions\u001b[0m\u001b[0;34m)\u001b[0m\u001b[0;34m\u001b[0m\u001b[0;34m\u001b[0m\u001b[0m\n\u001b[0m\u001b[1;32m    483\u001b[0m \u001b[0;34m\u001b[0m\u001b[0m\n",
      "\u001b[0;32m/home/jmadri/Prove-It/packages/proveit/logic/boolean/implication/implies.py\u001b[0m in \u001b[0;36mconcludeViaImplication\u001b[0;34m(consequent, assumptions)\u001b[0m\n\u001b[1;32m    301\u001b[0m                         \u001b[0mqueue\u001b[0m\u001b[0;34m.\u001b[0m\u001b[0mappend\u001b[0m\u001b[0;34m(\u001b[0m\u001b[0mlocal_antecedent\u001b[0m\u001b[0;34m)\u001b[0m\u001b[0;34m\u001b[0m\u001b[0;34m\u001b[0m\u001b[0m\n\u001b[0;32m--> 302\u001b[0;31m     \u001b[0;32mraise\u001b[0m \u001b[0mProofFailure\u001b[0m\u001b[0;34m(\u001b[0m\u001b[0mconsequent\u001b[0m\u001b[0;34m,\u001b[0m \u001b[0massumptions\u001b[0m\u001b[0;34m,\u001b[0m \u001b[0;34m'Unable to conclude via implications'\u001b[0m\u001b[0;34m)\u001b[0m\u001b[0;34m\u001b[0m\u001b[0;34m\u001b[0m\u001b[0m\n\u001b[0m\u001b[1;32m    303\u001b[0m \u001b[0;34m\u001b[0m\u001b[0m\n",
      "\u001b[0;31mProofFailure\u001b[0m: Unable to prove (c + (-1) + b + (-c) + (2 + 3) + (c + 0 + c)) = (((1 + 1) * c) + (0 + 2 + 3 + 0) + (-1) + b) assuming {1 in Reals, 2 in Reals, 3 in Reals, 0 in Reals, (-c) in Reals, c in Reals, b in Reals, (-1) in Reals, (c + 0 + c) in Reals}: Unable to conclude via implications",
      "\nDuring handling of the above exception, another exception occurred:\n",
      "\u001b[0;31mTransitivityException\u001b[0m                     Traceback (most recent call last)",
      "\u001b[0;32m/home/jmadri/Prove-It/packages/proveit/relation/transitivity.py\u001b[0m in \u001b[0;36mconclude\u001b[0;34m(self, assumptions)\u001b[0m\n\u001b[1;32m     64\u001b[0m         \u001b[0;32mtry\u001b[0m\u001b[0;34m:\u001b[0m\u001b[0;34m\u001b[0m\u001b[0;34m\u001b[0m\u001b[0m\n\u001b[0;32m---> 65\u001b[0;31m             \u001b[0mself\u001b[0m\u001b[0;34m.\u001b[0m\u001b[0mconcludeViaTransitivity\u001b[0m\u001b[0;34m(\u001b[0m\u001b[0massumptions\u001b[0m\u001b[0;34m)\u001b[0m\u001b[0;34m\u001b[0m\u001b[0;34m\u001b[0m\u001b[0m\n\u001b[0m\u001b[1;32m     66\u001b[0m         \u001b[0;32mexcept\u001b[0m \u001b[0mTransitivityException\u001b[0m \u001b[0;32mas\u001b[0m \u001b[0me\u001b[0m\u001b[0;34m:\u001b[0m\u001b[0;34m\u001b[0m\u001b[0;34m\u001b[0m\u001b[0m\n",
      "\u001b[0;32m/home/jmadri/Prove-It/packages/proveit/relation/transitivity.py\u001b[0m in \u001b[0;36mconcludeViaTransitivity\u001b[0;34m(self, assumptions)\u001b[0m\n\u001b[1;32m     74\u001b[0m         \u001b[0;32melse\u001b[0m\u001b[0;34m:\u001b[0m \u001b[0mforceStrong\u001b[0m \u001b[0;34m=\u001b[0m \u001b[0;34m(\u001b[0m\u001b[0mself\u001b[0m\u001b[0;34m.\u001b[0m\u001b[0m__class__\u001b[0m \u001b[0;34m==\u001b[0m \u001b[0mself\u001b[0m\u001b[0;34m.\u001b[0m\u001b[0m__class__\u001b[0m\u001b[0;34m.\u001b[0m\u001b[0m_checkedStrongRelationClass\u001b[0m\u001b[0;34m(\u001b[0m\u001b[0;34m)\u001b[0m\u001b[0;34m)\u001b[0m\u001b[0;34m\u001b[0m\u001b[0;34m\u001b[0m\u001b[0m\n\u001b[0;32m---> 75\u001b[0;31m         \u001b[0;32mreturn\u001b[0m \u001b[0mself\u001b[0m\u001b[0;34m.\u001b[0m\u001b[0m__class__\u001b[0m\u001b[0;34m.\u001b[0m\u001b[0m_transitivitySearch\u001b[0m\u001b[0;34m(\u001b[0m\u001b[0mself\u001b[0m\u001b[0;34m.\u001b[0m\u001b[0mlhs\u001b[0m\u001b[0;34m,\u001b[0m \u001b[0mself\u001b[0m\u001b[0;34m.\u001b[0m\u001b[0mrhs\u001b[0m\u001b[0;34m,\u001b[0m \u001b[0mforceStrong\u001b[0m\u001b[0;34m=\u001b[0m\u001b[0mforceStrong\u001b[0m\u001b[0;34m,\u001b[0m \u001b[0massumptions\u001b[0m\u001b[0;34m=\u001b[0m\u001b[0massumptions\u001b[0m\u001b[0;34m)\u001b[0m\u001b[0;34m\u001b[0m\u001b[0;34m\u001b[0m\u001b[0m\n\u001b[0m\u001b[1;32m     76\u001b[0m \u001b[0;34m\u001b[0m\u001b[0m\n",
      "\u001b[0;32m/home/jmadri/Prove-It/packages/proveit/relation/transitivity.py\u001b[0m in \u001b[0;36m_transitivitySearch\u001b[0;34m(RelationClass, leftItem, rightItem, forceStrong, assumptions)\u001b[0m\n\u001b[1;32m    290\u001b[0m         \u001b[0mDesiredRelationClass\u001b[0m \u001b[0;34m=\u001b[0m \u001b[0mRelationClass\u001b[0m\u001b[0;34m.\u001b[0m\u001b[0m_checkedStrongRelationClass\u001b[0m\u001b[0;34m(\u001b[0m\u001b[0;34m)\u001b[0m \u001b[0;32mif\u001b[0m \u001b[0mforceStrong\u001b[0m \u001b[0;32melse\u001b[0m  \u001b[0mRelationClass\u001b[0m\u001b[0;34m.\u001b[0m\u001b[0m_checkedWeakRelationClass\u001b[0m\u001b[0;34m(\u001b[0m\u001b[0;34m)\u001b[0m\u001b[0;34m\u001b[0m\u001b[0;34m\u001b[0m\u001b[0m\n\u001b[0;32m--> 291\u001b[0;31m         \u001b[0;32mraise\u001b[0m \u001b[0mTransitivityException\u001b[0m\u001b[0;34m(\u001b[0m\u001b[0mDesiredRelationClass\u001b[0m\u001b[0;34m(\u001b[0m\u001b[0mleftItem\u001b[0m\u001b[0;34m,\u001b[0m \u001b[0mrightItem\u001b[0m\u001b[0;34m)\u001b[0m\u001b[0;34m,\u001b[0m \u001b[0massumptions\u001b[0m\u001b[0;34m,\u001b[0m \u001b[0;34m'No proof found via applying transitivity amongst known proven relations.'\u001b[0m\u001b[0;34m)\u001b[0m\u001b[0;34m\u001b[0m\u001b[0;34m\u001b[0m\u001b[0m\n\u001b[0m\u001b[1;32m    292\u001b[0m \u001b[0;34m\u001b[0m\u001b[0m\n",
      "\u001b[0;31mTransitivityException\u001b[0m: Unable to prove (c + (-1) + b + (-c) + (2 + 3) + (c + 0 + c)) = (((1 + 1) * c) + (0 + 2 + 3 + 0) + (-1) + b) assuming {1 in Reals, 2 in Reals, 3 in Reals, 0 in Reals, (-c) in Reals, c in Reals, b in Reals, (-1) in Reals, (c + 0 + c) in Reals}: No proof found via applying transitivity amongst known proven relations.",
      "\nDuring handling of the above exception, another exception occurred:\n",
      "\u001b[0;31mTransitivityException\u001b[0m                     Traceback (most recent call last)",
      "\u001b[0;32m<ipython-input-2-a2cbb9841a47>\u001b[0m in \u001b[0;36m<module>\u001b[0;34m\u001b[0m\n\u001b[0;32m----> 1\u001b[0;31m \u001b[0mAdd\u001b[0m\u001b[0;34m(\u001b[0m\u001b[0mc\u001b[0m\u001b[0;34m,\u001b[0m \u001b[0mNeg\u001b[0m\u001b[0;34m(\u001b[0m\u001b[0mone\u001b[0m\u001b[0;34m)\u001b[0m\u001b[0;34m,\u001b[0m \u001b[0mb\u001b[0m\u001b[0;34m,\u001b[0m \u001b[0mNeg\u001b[0m\u001b[0;34m(\u001b[0m\u001b[0mc\u001b[0m\u001b[0;34m)\u001b[0m\u001b[0;34m,\u001b[0m \u001b[0mAdd\u001b[0m\u001b[0;34m(\u001b[0m\u001b[0mtwo\u001b[0m\u001b[0;34m,\u001b[0m \u001b[0mthree\u001b[0m\u001b[0;34m)\u001b[0m\u001b[0;34m,\u001b[0m \u001b[0mAdd\u001b[0m\u001b[0;34m(\u001b[0m\u001b[0mc\u001b[0m\u001b[0;34m,\u001b[0m \u001b[0mzero\u001b[0m\u001b[0;34m,\u001b[0m \u001b[0mc\u001b[0m\u001b[0;34m)\u001b[0m\u001b[0;34m)\u001b[0m\u001b[0;34m.\u001b[0m\u001b[0msimplifications\u001b[0m\u001b[0;34m(\u001b[0m\u001b[0massumptions\u001b[0m\u001b[0;34m=\u001b[0m\u001b[0;34m[\u001b[0m\u001b[0mInSet\u001b[0m\u001b[0;34m(\u001b[0m\u001b[0mone\u001b[0m\u001b[0;34m,\u001b[0m \u001b[0mReals\u001b[0m\u001b[0;34m)\u001b[0m\u001b[0;34m,\u001b[0m \u001b[0mInSet\u001b[0m\u001b[0;34m(\u001b[0m\u001b[0mtwo\u001b[0m\u001b[0;34m,\u001b[0m \u001b[0mReals\u001b[0m\u001b[0;34m)\u001b[0m\u001b[0;34m,\u001b[0m \u001b[0mInSet\u001b[0m\u001b[0;34m(\u001b[0m\u001b[0mthree\u001b[0m\u001b[0;34m,\u001b[0m \u001b[0mReals\u001b[0m\u001b[0;34m)\u001b[0m\u001b[0;34m,\u001b[0m \u001b[0mInSet\u001b[0m\u001b[0;34m(\u001b[0m\u001b[0mzero\u001b[0m\u001b[0;34m,\u001b[0m \u001b[0mReals\u001b[0m\u001b[0;34m)\u001b[0m\u001b[0;34m,\u001b[0m \u001b[0mInSet\u001b[0m\u001b[0;34m(\u001b[0m\u001b[0mNeg\u001b[0m\u001b[0;34m(\u001b[0m\u001b[0mc\u001b[0m\u001b[0;34m)\u001b[0m\u001b[0;34m,\u001b[0m \u001b[0mReals\u001b[0m\u001b[0;34m)\u001b[0m\u001b[0;34m,\u001b[0m\u001b[0mInSet\u001b[0m\u001b[0;34m(\u001b[0m\u001b[0mc\u001b[0m\u001b[0;34m,\u001b[0m \u001b[0mReals\u001b[0m\u001b[0;34m)\u001b[0m\u001b[0;34m,\u001b[0m\u001b[0mInSet\u001b[0m\u001b[0;34m(\u001b[0m\u001b[0mb\u001b[0m\u001b[0;34m,\u001b[0m \u001b[0mReals\u001b[0m\u001b[0;34m)\u001b[0m\u001b[0;34m,\u001b[0m \u001b[0mInSet\u001b[0m\u001b[0;34m(\u001b[0m\u001b[0mNeg\u001b[0m\u001b[0;34m(\u001b[0m\u001b[0mone\u001b[0m\u001b[0;34m)\u001b[0m\u001b[0;34m,\u001b[0m \u001b[0mReals\u001b[0m\u001b[0;34m)\u001b[0m\u001b[0;34m,\u001b[0m \u001b[0mInSet\u001b[0m\u001b[0;34m(\u001b[0m\u001b[0mAdd\u001b[0m\u001b[0;34m(\u001b[0m\u001b[0mc\u001b[0m\u001b[0;34m,\u001b[0m\u001b[0mzero\u001b[0m\u001b[0;34m,\u001b[0m\u001b[0mc\u001b[0m\u001b[0;34m)\u001b[0m\u001b[0;34m,\u001b[0m \u001b[0mReals\u001b[0m\u001b[0;34m)\u001b[0m\u001b[0;34m]\u001b[0m\u001b[0;34m)\u001b[0m\u001b[0;34m\u001b[0m\u001b[0;34m\u001b[0m\u001b[0m\n\u001b[0m",
      "\u001b[0;32m/home/jmadri/Prove-It/packages/proveit/number/addition/add.py\u001b[0m in \u001b[0;36msimplifications\u001b[0;34m(self, assumptions)\u001b[0m\n\u001b[1;32m    784\u001b[0m                     \u001b[0mprint\u001b[0m\u001b[0;34m(\u001b[0m\u001b[0;34m\"expr before equals\"\u001b[0m\u001b[0;34m,\u001b[0m \u001b[0mexpr\u001b[0m\u001b[0;34m)\u001b[0m\u001b[0;34m\u001b[0m\u001b[0;34m\u001b[0m\u001b[0m\n\u001b[1;32m    785\u001b[0m                     \u001b[0mprint\u001b[0m\u001b[0;34m(\u001b[0m\u001b[0;36m689\u001b[0m\u001b[0;34m)\u001b[0m\u001b[0;34m\u001b[0m\u001b[0;34m\u001b[0m\u001b[0m\n\u001b[0;32m--> 786\u001b[0;31m                     \u001b[0mEquals\u001b[0m\u001b[0;34m(\u001b[0m\u001b[0mself\u001b[0m\u001b[0;34m,\u001b[0m \u001b[0mexpr\u001b[0m\u001b[0;34m)\u001b[0m\u001b[0;34m.\u001b[0m\u001b[0mprove\u001b[0m\u001b[0;34m(\u001b[0m\u001b[0massumptions\u001b[0m\u001b[0;34m)\u001b[0m\u001b[0;34m\u001b[0m\u001b[0;34m\u001b[0m\u001b[0m\n\u001b[0m\u001b[1;32m    787\u001b[0m                     \u001b[0;31m# rewrite the dictionary to reflect this change\u001b[0m\u001b[0;34m\u001b[0m\u001b[0;34m\u001b[0m\u001b[0;34m\u001b[0m\u001b[0m\n\u001b[1;32m    788\u001b[0m                     \u001b[0mhold\u001b[0m\u001b[0;34m,\u001b[0m \u001b[0mno\u001b[0m \u001b[0;34m=\u001b[0m \u001b[0mexpr\u001b[0m\u001b[0;34m.\u001b[0m\u001b[0mcreateDict\u001b[0m\u001b[0;34m(\u001b[0m\u001b[0massumptions\u001b[0m\u001b[0;34m)\u001b[0m\u001b[0;34m\u001b[0m\u001b[0;34m\u001b[0m\u001b[0m\n",
      "\u001b[0;32m/home/jmadri/Prove-It/packages/proveit/_core_/expression/expr.py\u001b[0m in \u001b[0;36mprove\u001b[0;34m(self, assumptions, automation)\u001b[0m\n\u001b[1;32m    434\u001b[0m                 \u001b[0;32mexcept\u001b[0m \u001b[0mProofFailure\u001b[0m\u001b[0;34m:\u001b[0m\u001b[0;34m\u001b[0m\u001b[0;34m\u001b[0m\u001b[0m\n\u001b[1;32m    435\u001b[0m                     \u001b[0;31m# try the 'conclude' method of the specific Expression class\u001b[0m\u001b[0;34m\u001b[0m\u001b[0;34m\u001b[0m\u001b[0;34m\u001b[0m\u001b[0m\n\u001b[0;32m--> 436\u001b[0;31m                     \u001b[0mconcludedTruth\u001b[0m \u001b[0;34m=\u001b[0m \u001b[0mself\u001b[0m\u001b[0;34m.\u001b[0m\u001b[0mconclude\u001b[0m\u001b[0;34m(\u001b[0m\u001b[0massumptions\u001b[0m\u001b[0;34m)\u001b[0m\u001b[0;34m\u001b[0m\u001b[0;34m\u001b[0m\u001b[0m\n\u001b[0m\u001b[1;32m    437\u001b[0m             \u001b[0;32mif\u001b[0m \u001b[0mconcludedTruth\u001b[0m \u001b[0;32mis\u001b[0m \u001b[0;32mNone\u001b[0m\u001b[0;34m:\u001b[0m\u001b[0;34m\u001b[0m\u001b[0;34m\u001b[0m\u001b[0m\n\u001b[1;32m    438\u001b[0m                 \u001b[0;32mraise\u001b[0m \u001b[0mProofFailure\u001b[0m\u001b[0;34m(\u001b[0m\u001b[0mself\u001b[0m\u001b[0;34m,\u001b[0m \u001b[0massumptions\u001b[0m\u001b[0;34m,\u001b[0m \u001b[0;34m\"Failure to automatically 'conclude'\"\u001b[0m\u001b[0;34m)\u001b[0m\u001b[0;34m\u001b[0m\u001b[0;34m\u001b[0m\u001b[0m\n",
      "\u001b[0;32m/home/jmadri/Prove-It/packages/proveit/logic/equality/equals.py\u001b[0m in \u001b[0;36mconclude\u001b[0;34m(self, assumptions)\u001b[0m\n\u001b[1;32m    145\u001b[0m         \u001b[0;31m# Use a breadth-first search approach to find the shortest\u001b[0m\u001b[0;34m\u001b[0m\u001b[0;34m\u001b[0m\u001b[0;34m\u001b[0m\u001b[0m\n\u001b[1;32m    146\u001b[0m         \u001b[0;31m# path to get from one end-point to the other.\u001b[0m\u001b[0;34m\u001b[0m\u001b[0;34m\u001b[0m\u001b[0;34m\u001b[0m\u001b[0m\n\u001b[0;32m--> 147\u001b[0;31m         \u001b[0;32mreturn\u001b[0m \u001b[0mTransitiveRelation\u001b[0m\u001b[0;34m.\u001b[0m\u001b[0mconclude\u001b[0m\u001b[0;34m(\u001b[0m\u001b[0mself\u001b[0m\u001b[0;34m,\u001b[0m \u001b[0massumptions\u001b[0m\u001b[0;34m)\u001b[0m\u001b[0;34m\u001b[0m\u001b[0;34m\u001b[0m\u001b[0m\n\u001b[0m\u001b[1;32m    148\u001b[0m \u001b[0;34m\u001b[0m\u001b[0m\n\u001b[1;32m    149\u001b[0m     \u001b[0;34m@\u001b[0m\u001b[0mstaticmethod\u001b[0m\u001b[0;34m\u001b[0m\u001b[0;34m\u001b[0m\u001b[0m\n",
      "\u001b[0;32m/home/jmadri/Prove-It/packages/proveit/relation/transitivity.py\u001b[0m in \u001b[0;36mconclude\u001b[0;34m(self, assumptions)\u001b[0m\n\u001b[1;32m     65\u001b[0m             \u001b[0mself\u001b[0m\u001b[0;34m.\u001b[0m\u001b[0mconcludeViaTransitivity\u001b[0m\u001b[0;34m(\u001b[0m\u001b[0massumptions\u001b[0m\u001b[0;34m)\u001b[0m\u001b[0;34m\u001b[0m\u001b[0;34m\u001b[0m\u001b[0m\n\u001b[1;32m     66\u001b[0m         \u001b[0;32mexcept\u001b[0m \u001b[0mTransitivityException\u001b[0m \u001b[0;32mas\u001b[0m \u001b[0me\u001b[0m\u001b[0;34m:\u001b[0m\u001b[0;34m\u001b[0m\u001b[0;34m\u001b[0m\u001b[0m\n\u001b[0;32m---> 67\u001b[0;31m             \u001b[0;32mraise\u001b[0m \u001b[0mTransitivityException\u001b[0m\u001b[0;34m(\u001b[0m\u001b[0mself\u001b[0m\u001b[0;34m,\u001b[0m \u001b[0massumptions\u001b[0m\u001b[0;34m,\u001b[0m \u001b[0me\u001b[0m\u001b[0;34m.\u001b[0m\u001b[0mmessage\u001b[0m\u001b[0;34m)\u001b[0m \u001b[0;31m# indicate the expression we were trying to prove\u001b[0m\u001b[0;34m\u001b[0m\u001b[0;34m\u001b[0m\u001b[0m\n\u001b[0m\u001b[1;32m     68\u001b[0m         \u001b[0;32mreturn\u001b[0m \u001b[0mself\u001b[0m\u001b[0;34m.\u001b[0m\u001b[0mprove\u001b[0m\u001b[0;34m(\u001b[0m\u001b[0massumptions\u001b[0m\u001b[0;34m=\u001b[0m\u001b[0massumptions\u001b[0m\u001b[0;34m,\u001b[0m \u001b[0mautomation\u001b[0m\u001b[0;34m=\u001b[0m\u001b[0;32mFalse\u001b[0m\u001b[0;34m)\u001b[0m \u001b[0;31m# may need to derive a weaker form, which should occur as a side-effect\u001b[0m\u001b[0;34m\u001b[0m\u001b[0;34m\u001b[0m\u001b[0m\n\u001b[1;32m     69\u001b[0m \u001b[0;34m\u001b[0m\u001b[0m\n",
      "\u001b[0;31mTransitivityException\u001b[0m: Unable to prove (c + (-1) + b + (-c) + (2 + 3) + (c + 0 + c)) = (((1 + 1) * c) + (0 + 2 + 3 + 0) + (-1) + b) assuming {1 in Reals, 2 in Reals, 3 in Reals, 0 in Reals, (-c) in Reals, c in Reals, b in Reals, (-1) in Reals, (c + 0 + c) in Reals}: No proof found via applying transitivity amongst known proven relations."
     ]
    }
   ],
   "source": [
    "Add(c, Neg(one), b, Neg(c), Add(two, three), Add(c, zero, c)).simplifications(assumptions=[InSet(one, Reals), InSet(two, Reals), InSet(three, Reals), InSet(zero, Reals), InSet(Neg(c), Reals),InSet(c, Reals),InSet(b, Reals), InSet(Neg(one), Reals), InSet(Add(c,zero,c), Reals)])"
   ]
  },
  {
   "cell_type": "code",
   "execution_count": null,
   "metadata": {},
   "outputs": [],
   "source": [
    "Add(one, a, A, zero, b, B, C, c, one, three, A).simplifications(assumptions=[InSet(one, Reals), InSet(three, Reals), InSet(zero, Reals), InSet(a, Reals), InSet(A, Reals), InSet(b, Reals), InSet(B, Reals), InSet(c, Reals), InSet(C, Reals)])"
   ]
  },
  {
   "cell_type": "code",
   "execution_count": null,
   "metadata": {},
   "outputs": [],
   "source": [
    "#Add(a, one, two , c, b, a, zero, b, c, c, three).groupLikeTerms([InSet(a, Reals), InSet(b, Reals), InSet(c, Reals), InSet(one, Reals), InSet(two, Reals)])"
   ]
  },
  {
   "cell_type": "code",
   "execution_count": null,
   "metadata": {},
   "outputs": [],
   "source": [
    "Add(one, two).simplification()"
   ]
  },
  {
   "cell_type": "code",
   "execution_count": null,
   "metadata": {},
   "outputs": [],
   "source": [
    "Add(a, one, a).simplifications([InSet(a, Reals), InSet(one, Reals)])"
   ]
  },
  {
   "cell_type": "code",
   "execution_count": null,
   "metadata": {},
   "outputs": [],
   "source": [
    "Add(one, c, two, three, c, one,c).simplifications([InSet(a, Reals), InSet(b, Reals), InSet(c, Reals), InSet(one, Reals), InSet(two, Reals)])"
   ]
  },
  {
   "cell_type": "code",
   "execution_count": null,
   "metadata": {},
   "outputs": [],
   "source": [
    "Add(a, one, two , c, b, a, zero, b, c, c, three).simplifications([InSet(a, Reals), InSet(b, Reals), InSet(c, Reals), InSet(one, Reals), InSet(two, Reals)])"
   ]
  },
  {
   "cell_type": "code",
   "execution_count": null,
   "metadata": {},
   "outputs": [],
   "source": []
  },
  {
   "cell_type": "code",
   "execution_count": null,
   "metadata": {},
   "outputs": [],
   "source": [
    "Add(a,b).deduceInNumberSet(Integers, assumptions=[InSet(a, Integers), InSet(b,Integers)]).proof()"
   ]
  },
  {
   "cell_type": "code",
   "execution_count": null,
   "metadata": {},
   "outputs": [],
   "source": [
    "Add(a,b,c,d).deduceInNumberSet(Integers,[InSet(a,Integers),InSet(b, Integers), InSet(c, Integers), InSet(d,Integers)]).proof()"
   ]
  },
  {
   "cell_type": "code",
   "execution_count": null,
   "metadata": {},
   "outputs": [],
   "source": [
    "Add(a,b).deduceInNumberSet(Naturals, assumptions=[InSet(a, Naturals), InSet(b, Naturals)]).proof()"
   ]
  },
  {
   "cell_type": "code",
   "execution_count": null,
   "metadata": {},
   "outputs": [],
   "source": [
    "Add(a,b,c,d).deduceInNumberSet(Naturals, assumptions=[InSet(a,Naturals), InSet(b, Naturals), InSet(c,Naturals), InSet(d, Naturals)]).proof()"
   ]
  },
  {
   "cell_type": "code",
   "execution_count": null,
   "metadata": {},
   "outputs": [],
   "source": [
    "Add(a,b).deduceInNumberSet(Reals, assumptions=[InSet(a, Reals), InSet(b,Reals)]).proof()"
   ]
  },
  {
   "cell_type": "code",
   "execution_count": null,
   "metadata": {},
   "outputs": [],
   "source": [
    "Add(a,b,c,d).deduceInNumberSet(Reals, assumptions=[InSet(a,Reals), InSet(b,Reals), InSet(c, Reals), InSet(d, Reals)]).proof()"
   ]
  },
  {
   "cell_type": "code",
   "execution_count": null,
   "metadata": {},
   "outputs": [],
   "source": [
    "Add(a,b).deduceInNumberSet(Complexes, assumptions=[InSet(a, Complexes), InSet(b, Complexes)]).proof()"
   ]
  },
  {
   "cell_type": "code",
   "execution_count": null,
   "metadata": {},
   "outputs": [],
   "source": [
    "Add(a,b,c,d).deduceInNumberSet(Complexes, assumptions=[InSet(a, Complexes), InSet(b, Complexes), InSet(c, Complexes), InSet(d,Complexes)]).proof()"
   ]
  },
  {
   "cell_type": "code",
   "execution_count": null,
   "metadata": {},
   "outputs": [],
   "source": [
    "Add(a,b,one,d).deduceInNumberSet(NaturalsPos, assumptions=[InSet(a, Naturals), InSet(b, Naturals), InSet(c, Naturals), InSet(d, Naturals)]).proof()"
   ]
  },
  {
   "cell_type": "code",
   "execution_count": null,
   "metadata": {},
   "outputs": [],
   "source": [
    "Add(zero, b).deduceAddZero([InSet(b,Complexes)]).proof()"
   ]
  },
  {
   "cell_type": "code",
   "execution_count": null,
   "metadata": {},
   "outputs": [],
   "source": [
    "Add(a,b,c,d).deriveSwap(1,3, assumptions=[InSet(a,Reals), InSet(b,Reals), InSet(c, Reals), InSet(d,Reals)]).proof()"
   ]
  },
  {
   "cell_type": "code",
   "execution_count": null,
   "metadata": {},
   "outputs": [],
   "source": [
    "Add(one, two, three, four, five, six, one).deriveGroup(3,5, assumptions = []).proof()\n",
    "#Equals(Subtract(two, one),one), Equals(Subtract(one, one), zero), Equals(Subtract(three, one), two), Less(zero,Less(one, Less(two, three)))"
   ]
  },
  {
   "cell_type": "code",
   "execution_count": null,
   "metadata": {},
   "outputs": [],
   "source": [
    "Greater(Add(one, two, three, one), three).deduceIncAdd([InSet(two, RealsPos), InSet(three, Reals), InSet(one, RealsPos)]).proof()"
   ]
  },
  {
   "cell_type": "code",
   "execution_count": null,
   "metadata": {},
   "outputs": [],
   "source": [
    "Less(Add(Neg(one), Neg(two), three, Neg(one)), three).deduceDecAdd([InSet(two, RealsNeg), InSet(three, Reals), InSet(one, RealsNeg), InSet(Neg(one), RealsNeg), InSet(Neg(two), RealsNeg)]).prove().proof()"
   ]
  },
  {
   "cell_type": "code",
   "execution_count": null,
   "metadata": {},
   "outputs": [],
   "source": [
    "Equals(Subtract(x,x),zero).prove().proof()"
   ]
  },
  {
   "cell_type": "code",
   "execution_count": null,
   "metadata": {},
   "outputs": [],
   "source": [
    "Equals(Subtract(one,one),zero).prove().proof()"
   ]
  },
  {
   "cell_type": "code",
   "execution_count": null,
   "metadata": {},
   "outputs": [],
   "source": [
    "test = Add(Mult(two, b), Mult(three,b), b, Neg(b)).factor(b, assumptions=[InSet(two, Complexes), InSet(three, Complexes), InSet(b, Exp(Complexes,one)),InSet(one, Complexes), InSet(Neg(one), Complexes), InSet(b, Reals)])"
   ]
  },
  {
   "cell_type": "code",
   "execution_count": null,
   "metadata": {},
   "outputs": [],
   "source": [
    "Add(a,b,c,d,e,f,g).deriveCommutation(4, 2, assumptions=[InSet(a,Reals),InSet(b,Reals),InSet(c,Reals),InSet(d,Reals),InSet(e,Reals),InSet(f,Reals),InSet(g,Reals)])"
   ]
  },
  {
   "cell_type": "code",
   "execution_count": null,
   "metadata": {},
   "outputs": [],
   "source": [
    "m.prove([Add(m, Subtract(one, one))])"
   ]
  },
  {
   "cell_type": "code",
   "execution_count": null,
   "metadata": {},
   "outputs": [],
   "source": [
    "%end demonstrations"
   ]
  }
 ],
 "metadata": {
  "kernelspec": {
   "display_name": "Python 3",
   "language": "python",
   "name": "python3"
  },
  "language_info": {
   "codemirror_mode": {
    "name": "ipython",
    "version": 3
   },
   "file_extension": ".py",
   "mimetype": "text/x-python",
   "name": "python",
   "nbconvert_exporter": "python",
   "pygments_lexer": "ipython3",
   "version": "3.7.3"
  }
 },
 "nbformat": 4,
 "nbformat_minor": 1
}
