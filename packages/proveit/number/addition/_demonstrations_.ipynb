{
 "cells": [
  {
   "cell_type": "markdown",
   "metadata": {
    "collapsed": true
   },
   "source": [
    "Demonstrations for context <a class=\"ProveItLink\" href=\"_context_.ipynb\">proveit.number.addition</a>\n",
    "========"
   ]
  },
  {
   "cell_type": "code",
   "execution_count": 1,
   "metadata": {},
   "outputs": [],
   "source": [
    "import proveit\n",
    "from proveit import ExprList\n",
    "from proveit.logic import Forall, Equals, InSet\n",
    "from proveit.number import Less, Greater, LessEq, GreaterEq, Neg, Exp, Mult\n",
    "from proveit._common_ import a, b,c,d,e,f,g,l, m,n,x,y, A, B, C, AA, BB, CC\n",
    "from proveit.number import zero, one,two, three,four, five, six, seven, eight,Add, Complexes, Neg, Subtract, Integers, Naturals, NaturalsPos,Reals, RealsPos, RealsNeg\n",
    "%begin demonstrations"
   ]
  },
  {
   "cell_type": "code",
   "execution_count": 2,
   "metadata": {},
   "outputs": [
    {
     "name": "stdout",
     "output_type": "stream",
     "text": [
      "operand c\n",
      "expr.operands (c , c , c , -1 , b , -c , 2 , 3 , 0)\n",
      "operand c\n",
      "expr.operands (c , c , c , -1 , b , -c , 2 , 3 , 0)\n",
      "operand c\n",
      "expr.operands (c , c , c , -1 , b , -c , 2 , 3 , 0)\n",
      "operand -1\n",
      "expr.operands (c , c , c , -1 , b , -c , 2 , 3 , 0)\n",
      "end 3\n",
      "expr, idx c + c + c + (-1) + b + (-c) + 2 + 3 + 0 0\n",
      "l 0\n",
      "m 3\n",
      "n 5\n",
      "aa []\n",
      "bb [c, c, c]\n",
      "cc [b, -c, 2, 3, 0]\n",
      "x c\n"
     ]
    },
    {
     "data": {
      "text/html": [
       "<span style=\"font-size:20px;\"><a class=\"ProveItLink\" href=\"__pv_it/ef147ff054b30f93f6316c242f45bf768998fcd10/expr.ipynb\"><img src=\"__pv_it/ef147ff054b30f93f6316c242f45bf768998fcd10/expr.png\" style=\"display:inline;vertical-align:middle;\" /></a> &#x22A2;&nbsp;<a class=\"ProveItLink\" href=\"__pv_it/06747782b2b8f05818f60157ac5a5133b0ee3c140/expr.ipynb\"><img src=\"__pv_it/06747782b2b8f05818f60157ac5a5133b0ee3c140/expr.png\" style=\"display:inline;vertical-align:middle;\" /></a></span>"
      ],
      "text/plain": [
       "{2 in Reals , 3 in Reals , 0 in Reals , (-c) in Reals , c in Reals , b in Reals , (-1) in Reals} |= (c + c + c + (-1) + b + (-c) + 2 + 3 + 0) = ((3 * c) + (-1) + b + (-c) + 2 + 3 + 0)"
      ]
     },
     "execution_count": 2,
     "metadata": {},
     "output_type": "execute_result"
    }
   ],
   "source": [
    "Add(c,c,c,Neg(one), b, Neg(c), two, three, zero).deriveExpandedMultDef(0,assumptions=[InSet(one, Reals), InSet(two, Reals), InSet(three, Reals), InSet(zero, Reals), InSet(Neg(c), Reals),InSet(c, Reals),InSet(b, Reals), InSet(Neg(one), Reals), InSet(Add(c,zero,c), Reals)])"
   ]
  },
  {
   "cell_type": "code",
   "execution_count": 3,
   "metadata": {},
   "outputs": [
    {
     "name": "stdout",
     "output_type": "stream",
     "text": [
      "n, length 0 5\n",
      "n, length 1 6\n",
      "n, length 2 6\n",
      "n, length 3 6\n",
      "n, length 4 6\n",
      "to ungroup\n",
      "550\n",
      "new expr c + (-1) + b + (-c) + 2 + 3 + (c + 0 + c)\n",
      "n, length 5 7\n",
      "n, length 6 7\n",
      "to ungroup\n",
      "550\n",
      "new expr c + (-1) + b + (-c) + 2 + 3 + c + 0 + c\n",
      "n, length 7 9\n",
      "n, length 8 9\n",
      "expr after initial ungroup c + (-1) + b + (-c) + 2 + 3 + c + 0 + c\n",
      "order [c, '-c', 'Lit', 'LitNeg', b]\n",
      "before loop [[0, 1], [6, 1], [8, 1]] c\n",
      "in loop, place, item, size (place < size) 0 [0, 1] 4\n",
      "before if 0 5\n",
      "place 0\n",
      "in if 0 6\n",
      "swap values 6 1\n",
      "{2 in Reals , 3 in Reals , 0 in Reals , (-c) in Reals , c in Reals , b in Reals , (-1) in Reals} |= (c + c + (-1) + b + (-c) + 2 + 3 + 0 + c) = (c + (-1) + b + (-c) + 2 + 3 + c + 0 + c)\n",
      "603 c + c + (-1) + b + (-c) + 2 + 3 + 0 + c\n",
      "new dict after swap {c: [[0, 1], [1, 1], [8, 1]], 'LitNeg': [[2, 1]], b: [[3, 1]], '-c': [[4, 1]], 'Lit': [[5, 2], [6, 3], [7, 0]]}\n",
      "looping again 0 [[0, 1], [1, 1], [8, 1]]\n",
      "in loop, place, item, size (place < size) 1 [6, 1] 4\n",
      "before if 1 7\n",
      "place 1\n",
      "in if 1 8\n",
      "swap values 8 2\n",
      "{2 in Reals , 3 in Reals , 0 in Reals , (-c) in Reals , c in Reals , b in Reals , (-1) in Reals} |= (c + c + c + (-1) + b + (-c) + 2 + 3 + 0) = (c + c + (-1) + b + (-c) + 2 + 3 + 0 + c)\n",
      "603 c + c + c + (-1) + b + (-c) + 2 + 3 + 0\n",
      "new dict after swap {c: [[0, 1], [1, 1], [2, 1]], 'LitNeg': [[3, 1]], b: [[4, 1]], '-c': [[5, 1]], 'Lit': [[6, 2], [7, 3], [8, 0]]}\n",
      "looping again 1 [[0, 1], [1, 1], [2, 1]]\n",
      "in loop, place, item, size (place < size) 2 [8, 1] 4\n",
      "looping again 2 [[0, 1], [1, 1], [2, 1]]\n",
      "before loop [[5, 1]] -c\n",
      "in loop, place, item, size (place < size) 0 [5, 1] 4\n",
      "looping again 0 [[5, 1]]\n",
      "before loop [[6, 2], [7, 3], [8, 0]] Lit\n",
      "in loop, place, item, size (place < size) 0 [6, 2] 4\n",
      "before if 6 6\n",
      "looping again 0 [[6, 2], [7, 3], [8, 0]]\n",
      "in loop, place, item, size (place < size) 1 [7, 3] 4\n",
      "before if 7 7\n",
      "looping again 1 [[6, 2], [7, 3], [8, 0]]\n",
      "in loop, place, item, size (place < size) 2 [8, 0] 4\n",
      "looping again 2 [[6, 2], [7, 3], [8, 0]]\n",
      "before loop [[3, 1]] LitNeg\n",
      "in loop, place, item, size (place < size) 0 [3, 1] 4\n",
      "looping again 0 [[3, 1]]\n",
      "before loop [[4, 1]] b\n",
      "in loop, place, item, size (place < size) 0 [4, 1] 4\n",
      "looping again 0 [[4, 1]]\n",
      "expr, operand, j c + c + c + (-1) + b + (-c) + 2 + 3 + 0 -1 3\n",
      "expr, operand, j c + c + c + (-1) + b + (-c) + 2 + 3 + 0 -c 5\n",
      "hold[key][0][0] 0\n",
      "689\n",
      "{2 in Reals , 3 in Reals , 0 in Reals , (-c) in Reals , c in Reals , b in Reals , (-1) in Reals , (c + 0 + c) in Reals} |= (c + (-1) + b + (-c) + (2 + 3) + (c + 0 + c)) = (c + c + c + (-1) + b + (-c) + 2 + 3 + 0)\n",
      "operand c\n",
      "expr.operands (c , c , c , -1 , b , -c , 2 , 3 , 0)\n",
      "operand c\n",
      "expr.operands (c , c , c , -1 , b , -c , 2 , 3 , 0)\n",
      "operand c\n",
      "expr.operands (c , c , c , -1 , b , -c , 2 , 3 , 0)\n",
      "operand -1\n",
      "expr.operands (c , c , c , -1 , b , -c , 2 , 3 , 0)\n",
      "end 3\n",
      "expr, idx c + c + c + (-1) + b + (-c) + 2 + 3 + 0 0\n",
      "l 0\n",
      "m 3\n",
      "n 5\n",
      "aa []\n",
      "bb [c, c, c]\n",
      "cc [b, -c, 2, 3, 0]\n",
      "x c\n",
      "{2 in Reals , 3 in Reals , 0 in Reals , (-c) in Reals , c in Reals , b in Reals , (-1) in Reals} |= (c + c + c + (-1) + b + (-c) + 2 + 3 + 0) = ((3 * c) + (-1) + b + (-c) + 2 + 3 + 0)\n",
      "operand c\n",
      "expr.operands (c , c , c , -1 , b , -c , 2 , 3 , 0)\n",
      "operand c\n",
      "expr.operands (c , c , c , -1 , b , -c , 2 , 3 , 0)\n",
      "operand c\n",
      "expr.operands (c , c , c , -1 , b , -c , 2 , 3 , 0)\n",
      "operand -1\n",
      "expr.operands (c , c , c , -1 , b , -c , 2 , 3 , 0)\n",
      "end 3\n",
      "expr, idx c + c + c + (-1) + b + (-c) + 2 + 3 + 0 0\n",
      "l 0\n",
      "m 3\n",
      "n 5\n",
      "aa []\n",
      "bb [c, c, c]\n",
      "cc [b, -c, 2, 3, 0]\n",
      "x c\n",
      "expr before equals (3 * c) + (-1) + b + (-c) + 2 + 3 + 0\n",
      "new dict after mult {c: [[0, 1]], 'LitNeg': [[1, 1]], b: [[2, 1]], '-c': [[3, 1]], 'Lit': [[4, 2], [5, 3], [6, 0]]}\n",
      "order [c, '-c', 'Lit', 'LitNeg', b]\n",
      "hold[key][0][0] 3\n",
      "689\n",
      "{2 in Reals , 3 in Reals , 0 in Reals , (-c) in Reals , c in Reals , b in Reals , (-1) in Reals , (c + 0 + c) in Reals} |= (c + (-1) + b + (-c) + (2 + 3) + (c + 0 + c)) = ((3 * c) + (-1) + b + (-c) + 2 + 3 + 0)\n",
      "operand 3 * c\n",
      "expr.operands (3 * c , -1 , b , -c , 2 , 3 , 0)\n",
      "operand -1\n",
      "expr.operands (3 * c , -1 , b , -c , 2 , 3 , 0)\n",
      "operand b\n",
      "expr.operands (3 * c , -1 , b , -c , 2 , 3 , 0)\n",
      "operand -c\n",
      "expr.operands (3 * c , -1 , b , -c , 2 , 3 , 0)\n",
      "operand 2\n",
      "expr.operands (3 * c , -1 , b , -c , 2 , 3 , 0)\n",
      "end 4\n",
      "expr, idx (3 * c) + (-1) + b + (-c) + 2 + 3 + 0 3\n",
      "l 3\n",
      "m 1\n",
      "n 2\n",
      "aa [3 * c, -1, b]\n",
      "bb [-c]\n",
      "cc [3, 0]\n",
      "x -c\n",
      "thm |= forall_{a, b in Reals} ((a * b) in Reals)\n",
      "self in deduce in number set 3 * c\n",
      "self.operands (3 , c)\n",
      "{2 in Reals , 3 in Reals , 0 in Reals , (-c) in Reals , c in Reals , b in Reals , (-1) in Reals} |= ((3 * c) + (-1) + b + (-c) + 2 + 3 + 0) = ((3 * c) + (-1) + b + (1 * (-c)) + 2 + 3 + 0)\n",
      "operand 3 * c\n",
      "expr.operands (3 * c , -1 , b , -c , 2 , 3 , 0)\n",
      "operand -1\n",
      "expr.operands (3 * c , -1 , b , -c , 2 , 3 , 0)\n",
      "operand b\n",
      "expr.operands (3 * c , -1 , b , -c , 2 , 3 , 0)\n",
      "operand -c\n",
      "expr.operands (3 * c , -1 , b , -c , 2 , 3 , 0)\n",
      "operand 2\n",
      "expr.operands (3 * c , -1 , b , -c , 2 , 3 , 0)\n",
      "end 4\n",
      "expr, idx (3 * c) + (-1) + b + (-c) + 2 + 3 + 0 3\n",
      "l 3\n",
      "m 1\n",
      "n 2\n",
      "aa [3 * c, -1, b]\n",
      "bb [-c]\n",
      "cc [3, 0]\n",
      "x -c\n",
      "expr before equals (3 * c) + (-1) + b + (1 * (-c)) + 2 + 3 + 0\n",
      "new dict after mult {c: [[0, 1]], 'LitNeg': [[1, 1]], b: [[2, 1]], '-c': [[3, 1]], 'Lit': [[4, 2], [5, 3], [6, 0]]}\n",
      "order [c, '-c', 'Lit', 'LitNeg', b]\n",
      "hold[key][0][0] 2\n",
      "689\n",
      "{2 in Reals , 3 in Reals , 0 in Reals , (-c) in Reals , c in Reals , b in Reals , (-1) in Reals , (c + 0 + c) in Reals} |= (c + (-1) + b + (-c) + (2 + 3) + (c + 0 + c)) = ((3 * c) + (-1) + b + (1 * (-c)) + 2 + 3 + 0)\n",
      "operand 3 * c\n",
      "expr.operands (3 * c , -1 , b , 1 * (-c) , 2 , 3 , 0)\n",
      "operand -1\n",
      "expr.operands (3 * c , -1 , b , 1 * (-c) , 2 , 3 , 0)\n",
      "operand b\n",
      "expr.operands (3 * c , -1 , b , 1 * (-c) , 2 , 3 , 0)\n",
      "operand 1 * (-c)\n",
      "expr.operands (3 * c , -1 , b , 1 * (-c) , 2 , 3 , 0)\n",
      "end 3\n",
      "expr, idx (3 * c) + (-1) + b + (1 * (-c)) + 2 + 3 + 0 2\n",
      "l 2\n",
      "m 1\n",
      "n 3\n",
      "aa [3 * c, -1]\n",
      "bb [b]\n",
      "cc [2, 3, 0]\n",
      "x b\n",
      "thm |= forall_{a, b in Reals} ((a * b) in Reals)\n",
      "self in deduce in number set 1 * (-c)\n",
      "self.operands (1 , -c)\n",
      "{1 in Reals , 2 in Reals , 3 in Reals , 0 in Reals , (-c) in Reals , c in Reals , b in Reals , (-1) in Reals} |= ((3 * c) + (-1) + b + (1 * (-c)) + 2 + 3 + 0) = ((3 * c) + (-1) + (1 * b) + (1 * (-c)) + 2 + 3 + 0)\n",
      "operand 3 * c\n",
      "expr.operands (3 * c , -1 , b , 1 * (-c) , 2 , 3 , 0)\n",
      "operand -1\n",
      "expr.operands (3 * c , -1 , b , 1 * (-c) , 2 , 3 , 0)\n",
      "operand b\n",
      "expr.operands (3 * c , -1 , b , 1 * (-c) , 2 , 3 , 0)\n",
      "operand 1 * (-c)\n",
      "expr.operands (3 * c , -1 , b , 1 * (-c) , 2 , 3 , 0)\n",
      "end 3\n",
      "expr, idx (3 * c) + (-1) + b + (1 * (-c)) + 2 + 3 + 0 2\n",
      "l 2\n",
      "m 1\n",
      "n 3\n",
      "aa [3 * c, -1]\n",
      "bb [b]\n",
      "cc [2, 3, 0]\n",
      "x b\n",
      "expr before equals (3 * c) + (-1) + (1 * b) + (1 * (-c)) + 2 + 3 + 0\n",
      "new dict after mult {c: [[0, 1]], 'LitNeg': [[1, 1]], b: [[2, 1]], '-c': [[3, 1]], 'Lit': [[4, 2], [5, 3], [6, 0]]}\n",
      "order [c, '-c', 'Lit', 'LitNeg', b]\n",
      "expr after mult (3 * c) + (-1) + (1 * b) + (1 * (-c)) + 2 + 3 + 0\n",
      "n, length 0 6\n",
      "n, length 1 7\n",
      "n, length 2 7\n",
      "n, length 3 7\n",
      "n, length 4 7\n",
      "n, length 5 7\n",
      "n, length 6 7\n",
      "expr after evaluation (3 * c) + (-1) + (1 * b) + (1 * (-c)) + 2 + 3 + 0\n",
      "last equals!\n"
     ]
    },
    {
     "data": {
      "text/html": [
       "<span style=\"font-size:20px;\"><a class=\"ProveItLink\" href=\"__pv_it/34e9ed072a6784a130f1ea60b55affaa8ad2af480/expr.ipynb\"><img src=\"__pv_it/34e9ed072a6784a130f1ea60b55affaa8ad2af480/expr.png\" style=\"display:inline;vertical-align:middle;\" /></a> &#x22A2;&nbsp;<a class=\"ProveItLink\" href=\"__pv_it/5ef09024a4fb6f53d8c41830822bac06076641d60/expr.ipynb\"><img src=\"__pv_it/5ef09024a4fb6f53d8c41830822bac06076641d60/expr.png\" style=\"display:inline;vertical-align:middle;\" /></a></span>"
      ],
      "text/plain": [
       "{1 in Reals , 2 in Reals , 3 in Reals , 0 in Reals , (-c) in Reals , c in Reals , b in Reals , (-1) in Reals , (c + 0 + c) in Reals} |= (c + (-1) + b + (-c) + (2 + 3) + (c + 0 + c)) = ((3 * c) + (-1) + (1 * b) + (1 * (-c)) + 2 + 3 + 0)"
      ]
     },
     "execution_count": 3,
     "metadata": {},
     "output_type": "execute_result"
    }
   ],
   "source": [
    "Add(c, Neg(one), b, Neg(c), Add(two, three), Add(c, zero, c)).simplifications(assumptions=[InSet(one, Reals), InSet(two, Reals), InSet(three, Reals), InSet(zero, Reals), InSet(Neg(c), Reals),InSet(c, Reals),InSet(b, Reals), InSet(Neg(one), Reals), InSet(Add(c,zero,c), Reals)])"
   ]
  },
  {
   "cell_type": "code",
   "execution_count": 4,
   "metadata": {},
   "outputs": [
    {
     "name": "stdout",
     "output_type": "stream",
     "text": [
      "operand a\n",
      "expr.operands (a , 1 , 2 , b , b , b , c , 3 , 4)\n",
      "operand 1\n",
      "expr.operands (a , 1 , 2 , b , b , b , c , 3 , 4)\n",
      "operand 2\n",
      "expr.operands (a , 1 , 2 , b , b , b , c , 3 , 4)\n",
      "operand b\n",
      "expr.operands (a , 1 , 2 , b , b , b , c , 3 , 4)\n",
      "operand b\n",
      "expr.operands (a , 1 , 2 , b , b , b , c , 3 , 4)\n",
      "operand b\n",
      "expr.operands (a , 1 , 2 , b , b , b , c , 3 , 4)\n",
      "operand c\n",
      "expr.operands (a , 1 , 2 , b , b , b , c , 3 , 4)\n",
      "end 6\n",
      "expr, idx a + 1 + 2 + b + b + b + c + 3 + 4 3\n",
      "l 3\n",
      "m 3\n",
      "n 2\n",
      "aa [a, 1, 2]\n",
      "bb [b, b, b]\n",
      "cc [3, 4]\n",
      "x b\n"
     ]
    },
    {
     "data": {
      "text/html": [
       "<span style=\"font-size:20px;\"><a class=\"ProveItLink\" href=\"__pv_it/41dfbc9345ef9c966e5f6d35db9b4a45dbccf3800/expr.ipynb\"><img src=\"__pv_it/41dfbc9345ef9c966e5f6d35db9b4a45dbccf3800/expr.png\" style=\"display:inline;vertical-align:middle;\" /></a> &#x22A2;&nbsp;<a class=\"ProveItLink\" href=\"__pv_it/5f3a0956baa72f3f75c59351643e27b3f04c7a3a0/expr.ipynb\"><img src=\"__pv_it/5f3a0956baa72f3f75c59351643e27b3f04c7a3a0/expr.png\" style=\"display:inline;vertical-align:middle;\" /></a></span>"
      ],
      "text/plain": [
       "{a in Reals , b in Reals , c in Reals , 1 in Reals , 2 in Reals , 3 in Reals , 4 in Reals} |= (a + 1 + 2 + b + b + b + c + 3 + 4) = (a + 1 + 2 + (3 * b) + c + 3 + 4)"
      ]
     },
     "execution_count": 4,
     "metadata": {},
     "output_type": "execute_result"
    }
   ],
   "source": [
    "Add(a,one, two,b,b,b,c, three, four).deriveExpandedMultDef(3,[InSet(a, Reals), InSet(b, Reals), InSet(c, Reals), InSet(one, Reals), InSet(two, Reals), InSet(three, Reals), InSet(four, Reals), InSet(Neg(b), Reals)])"
   ]
  },
  {
   "cell_type": "code",
   "execution_count": 5,
   "metadata": {},
   "outputs": [
    {
     "name": "stdout",
     "output_type": "stream",
     "text": [
      "self, idx in addNegSelf a + b + (-b) + c 2\n"
     ]
    },
    {
     "data": {
      "text/html": [
       "<span style=\"font-size:20px;\"><a class=\"ProveItLink\" href=\"__pv_it/d16580f58f1c715b57ee7be2c8caac16af4571ce0/expr.ipynb\"><img src=\"__pv_it/d16580f58f1c715b57ee7be2c8caac16af4571ce0/expr.png\" style=\"display:inline;vertical-align:middle;\" /></a> &#x22A2;&nbsp;<a class=\"ProveItLink\" href=\"__pv_it/0fb95fab97ef9e2c2364f92747439ec92c9a53f20/expr.ipynb\"><img src=\"__pv_it/0fb95fab97ef9e2c2364f92747439ec92c9a53f20/expr.png\" style=\"display:inline;vertical-align:middle;\" /></a></span>"
      ],
      "text/plain": [
       "{a in Reals , b in Reals , c in Reals} |= (a + b + (-b) + c) = (a + c)"
      ]
     },
     "execution_count": 5,
     "metadata": {},
     "output_type": "execute_result"
    }
   ],
   "source": [
    "Add(a, b, Neg(b), c).deriveExpandedNegSelf(2, assumptions=[InSet(a, Reals), InSet(b, Reals), InSet(c, Reals)])"
   ]
  },
  {
   "cell_type": "code",
   "execution_count": 6,
   "metadata": {},
   "outputs": [
    {
     "name": "stdout",
     "output_type": "stream",
     "text": [
      "n, length 0 10\n",
      "n, length 1 11\n",
      "n, length 2 11\n",
      "n, length 3 11\n",
      "n, length 4 11\n",
      "n, length 5 11\n",
      "n, length 6 11\n",
      "n, length 7 11\n",
      "n, length 8 11\n",
      "n, length 9 11\n",
      "n, length 10 11\n",
      "expr after initial ungroup 1 + a + A + 0 + b + B + C + c + 1 + 3 + A\n",
      "order ['Lit', a, A, b, B, C, c]\n",
      "before loop [[0, 1], [3, 0], [8, 1], [9, 3]] Lit\n",
      "in loop, place, item, size (place < size) 0 [0, 1] 6\n",
      "before if 0 2\n",
      "place 0\n",
      "in if 0 3\n",
      "swap values 3 1\n",
      "{1 in Reals , 3 in Reals , 0 in Reals , a in Reals , A in Reals , b in Reals , B in Reals , c in Reals , C in Reals} |= (1 + 0 + a + A + b + B + C + c + 1 + 3 + A) = (1 + a + A + 0 + b + B + C + c + 1 + 3 + A)\n",
      "603 1 + 0 + a + A + b + B + C + c + 1 + 3 + A\n",
      "new dict after swap {'Lit': [[0, 1], [1, 0], [8, 1], [9, 3]], a: [[2, 1]], A: [[3, 1], [10, 1]], b: [[4, 1]], B: [[5, 1]], C: [[6, 1]], c: [[7, 1]]}\n",
      "looping again 0 [[0, 1], [1, 0], [8, 1], [9, 3]]\n",
      "in loop, place, item, size (place < size) 1 [3, 0] 6\n",
      "before if 1 7\n",
      "place 1\n",
      "in if 1 8\n",
      "swap values 8 2\n",
      "{1 in Reals , 3 in Reals , 0 in Reals , a in Reals , A in Reals , b in Reals , B in Reals , c in Reals , C in Reals} |= (1 + 0 + 1 + a + A + b + B + C + c + 3 + A) = (1 + 0 + a + A + b + B + C + c + 1 + 3 + A)\n",
      "603 1 + 0 + 1 + a + A + b + B + C + c + 3 + A\n",
      "new dict after swap {'Lit': [[0, 1], [1, 0], [2, 1], [9, 3]], a: [[3, 1]], A: [[4, 1], [10, 1]], b: [[5, 1]], B: [[6, 1]], C: [[7, 1]], c: [[8, 1]]}\n",
      "looping again 1 [[0, 1], [1, 0], [2, 1], [9, 3]]\n",
      "in loop, place, item, size (place < size) 2 [8, 1] 6\n",
      "before if 2 8\n",
      "place 2\n",
      "in if 2 9\n",
      "swap values 9 3\n",
      "{1 in Reals , 3 in Reals , 0 in Reals , a in Reals , A in Reals , b in Reals , B in Reals , c in Reals , C in Reals} |= (1 + 0 + 1 + 3 + a + A + b + B + C + c + A) = (1 + 0 + 1 + a + A + b + B + C + c + 3 + A)\n",
      "603 1 + 0 + 1 + 3 + a + A + b + B + C + c + A\n",
      "new dict after swap {'Lit': [[0, 1], [1, 0], [2, 1], [3, 3]], a: [[4, 1]], A: [[5, 1], [10, 1]], b: [[6, 1]], B: [[7, 1]], C: [[8, 1]], c: [[9, 1]]}\n",
      "looping again 2 [[0, 1], [1, 0], [2, 1], [3, 3]]\n",
      "in loop, place, item, size (place < size) 3 [9, 3] 6\n",
      "looping again 3 [[0, 1], [1, 0], [2, 1], [3, 3]]\n",
      "before loop [[4, 1]] a\n",
      "in loop, place, item, size (place < size) 0 [4, 1] 6\n",
      "looping again 0 [[4, 1]]\n",
      "before loop [[5, 1], [10, 1]] A\n",
      "in loop, place, item, size (place < size) 0 [5, 1] 6\n",
      "before if 5 9\n",
      "place 0\n",
      "in if 5 10\n",
      "swap values 10 6\n",
      "{1 in Reals , 3 in Reals , 0 in Reals , a in Reals , A in Reals , b in Reals , B in Reals , c in Reals , C in Reals} |= (1 + 0 + 1 + 3 + a + A + A + b + B + C + c) = (1 + 0 + 1 + 3 + a + A + b + B + C + c + A)\n",
      "603 1 + 0 + 1 + 3 + a + A + A + b + B + C + c\n",
      "new dict after swap {'Lit': [[0, 1], [1, 0], [2, 1], [3, 3]], a: [[4, 1]], A: [[5, 1], [6, 1]], b: [[7, 1]], B: [[8, 1]], C: [[9, 1]], c: [[10, 1]]}\n",
      "looping again 0 [[5, 1], [6, 1]]\n",
      "in loop, place, item, size (place < size) 1 [10, 1] 6\n",
      "looping again 1 [[5, 1], [6, 1]]\n",
      "before loop [[7, 1]] b\n",
      "in loop, place, item, size (place < size) 0 [7, 1] 6\n",
      "looping again 0 [[7, 1]]\n",
      "before loop [[8, 1]] B\n",
      "in loop, place, item, size (place < size) 0 [8, 1] 6\n",
      "looping again 0 [[8, 1]]\n",
      "before loop [[9, 1]] C\n",
      "in loop, place, item, size (place < size) 0 [9, 1] 6\n",
      "looping again 0 [[9, 1]]\n",
      "before loop [[10, 1]] c\n",
      "in loop, place, item, size (place < size) 0 [10, 1] 6\n",
      "looping again 0 [[10, 1]]\n",
      "hold[key][0][0] 4\n",
      "689\n",
      "{1 in Reals , 3 in Reals , 0 in Reals , a in Reals , A in Reals , b in Reals , B in Reals , c in Reals , C in Reals} |= (1 + a + A + 0 + b + B + C + c + 1 + 3 + A) = (1 + 0 + 1 + 3 + a + A + A + b + B + C + c)\n",
      "operand 1\n",
      "expr.operands (1 , 0 , 1 , 3 , a , A , A , b , B , C , c)\n",
      "operand 0\n",
      "expr.operands (1 , 0 , 1 , 3 , a , A , A , b , B , C , c)\n",
      "operand 1\n",
      "expr.operands (1 , 0 , 1 , 3 , a , A , A , b , B , C , c)\n",
      "operand 3\n",
      "expr.operands (1 , 0 , 1 , 3 , a , A , A , b , B , C , c)\n",
      "operand a\n",
      "expr.operands (1 , 0 , 1 , 3 , a , A , A , b , B , C , c)\n",
      "operand A\n",
      "expr.operands (1 , 0 , 1 , 3 , a , A , A , b , B , C , c)\n",
      "end 5\n",
      "expr, idx 1 + 0 + 1 + 3 + a + A + A + b + B + C + c 4\n",
      "l 4\n",
      "m 1\n",
      "n 5\n",
      "aa [1, 0, 1, 3]\n",
      "bb [a]\n",
      "cc [A, b, B, C, c]\n",
      "x a\n",
      "{1 in Reals , 3 in Reals , 0 in Reals , a in Reals , A in Reals , b in Reals , B in Reals , c in Reals , C in Reals} |= (1 + 0 + 1 + 3 + a + A + A + b + B + C + c) = (1 + 0 + 1 + 3 + (1 * a) + A + A + b + B + C + c)\n",
      "operand 1\n",
      "expr.operands (1 , 0 , 1 , 3 , a , A , A , b , B , C , c)\n",
      "operand 0\n",
      "expr.operands (1 , 0 , 1 , 3 , a , A , A , b , B , C , c)\n",
      "operand 1\n",
      "expr.operands (1 , 0 , 1 , 3 , a , A , A , b , B , C , c)\n",
      "operand 3\n",
      "expr.operands (1 , 0 , 1 , 3 , a , A , A , b , B , C , c)\n",
      "operand a\n",
      "expr.operands (1 , 0 , 1 , 3 , a , A , A , b , B , C , c)\n",
      "operand A\n",
      "expr.operands (1 , 0 , 1 , 3 , a , A , A , b , B , C , c)\n",
      "end 5\n",
      "expr, idx 1 + 0 + 1 + 3 + a + A + A + b + B + C + c 4\n",
      "l 4\n",
      "m 1\n",
      "n 5\n",
      "aa [1, 0, 1, 3]\n",
      "bb [a]\n",
      "cc [A, b, B, C, c]\n",
      "x a\n",
      "expr before equals 1 + 0 + 1 + 3 + (1 * a) + A + A + b + B + C + c\n",
      "new dict after mult {'Lit': [[0, 1], [1, 0], [2, 1], [3, 3]], a: [[4, 1]], A: [[5, 1], [6, 1]], b: [[7, 1]], B: [[8, 1]], C: [[9, 1]], c: [[10, 1]]}\n",
      "order ['Lit', a, A, b, B, C, c]\n",
      "hold[key][0][0] 5\n",
      "689\n",
      "{1 in Reals , 3 in Reals , 0 in Reals , a in Reals , A in Reals , b in Reals , B in Reals , c in Reals , C in Reals} |= (1 + a + A + 0 + b + B + C + c + 1 + 3 + A) = (1 + 0 + 1 + 3 + (1 * a) + A + A + b + B + C + c)\n",
      "operand 1\n",
      "expr.operands (1 , 0 , 1 , 3 , 1 * a , A , A , b , B , C , c)\n",
      "operand 0\n",
      "expr.operands (1 , 0 , 1 , 3 , 1 * a , A , A , b , B , C , c)\n",
      "operand 1\n",
      "expr.operands (1 , 0 , 1 , 3 , 1 * a , A , A , b , B , C , c)\n",
      "operand 3\n",
      "expr.operands (1 , 0 , 1 , 3 , 1 * a , A , A , b , B , C , c)\n",
      "operand 1 * a\n",
      "expr.operands (1 , 0 , 1 , 3 , 1 * a , A , A , b , B , C , c)\n",
      "operand A\n",
      "expr.operands (1 , 0 , 1 , 3 , 1 * a , A , A , b , B , C , c)\n",
      "operand A\n",
      "expr.operands (1 , 0 , 1 , 3 , 1 * a , A , A , b , B , C , c)\n",
      "operand b\n",
      "expr.operands (1 , 0 , 1 , 3 , 1 * a , A , A , b , B , C , c)\n",
      "end 7\n",
      "expr, idx 1 + 0 + 1 + 3 + (1 * a) + A + A + b + B + C + c 5\n",
      "l 5\n",
      "m 2\n",
      "n 3\n",
      "aa [1, 0, 1, 3, 1 * a]\n",
      "bb [A, A]\n",
      "cc [B, C, c]\n",
      "x A\n",
      "thm |= forall_{a, b in Reals} ((a * b) in Reals)\n",
      "self in deduce in number set 1 * a\n",
      "self.operands (1 , a)\n",
      "{1 in Reals , 3 in Reals , 0 in Reals , a in Reals , A in Reals , b in Reals , B in Reals , c in Reals , C in Reals} |= (1 + 0 + 1 + 3 + (1 * a) + A + A + b + B + C + c) = (1 + 0 + 1 + 3 + (1 * a) + (2 * A) + b + B + C + c)\n",
      "operand 1\n",
      "expr.operands (1 , 0 , 1 , 3 , 1 * a , A , A , b , B , C , c)\n",
      "operand 0\n",
      "expr.operands (1 , 0 , 1 , 3 , 1 * a , A , A , b , B , C , c)\n",
      "operand 1\n",
      "expr.operands (1 , 0 , 1 , 3 , 1 * a , A , A , b , B , C , c)\n",
      "operand 3\n",
      "expr.operands (1 , 0 , 1 , 3 , 1 * a , A , A , b , B , C , c)\n",
      "operand 1 * a\n",
      "expr.operands (1 , 0 , 1 , 3 , 1 * a , A , A , b , B , C , c)\n",
      "operand A\n",
      "expr.operands (1 , 0 , 1 , 3 , 1 * a , A , A , b , B , C , c)\n",
      "operand A\n",
      "expr.operands (1 , 0 , 1 , 3 , 1 * a , A , A , b , B , C , c)\n",
      "operand b\n",
      "expr.operands (1 , 0 , 1 , 3 , 1 * a , A , A , b , B , C , c)\n",
      "end 7\n",
      "expr, idx 1 + 0 + 1 + 3 + (1 * a) + A + A + b + B + C + c 5\n",
      "l 5\n",
      "m 2\n",
      "n 3\n",
      "aa [1, 0, 1, 3, 1 * a]\n",
      "bb [A, A]\n",
      "cc [B, C, c]\n",
      "x A\n",
      "expr before equals 1 + 0 + 1 + 3 + (1 * a) + (2 * A) + b + B + C + c\n",
      "new dict after mult {'Lit': [[0, 1], [1, 0], [2, 1], [3, 3]], a: [[4, 1]], A: [[5, 1]], b: [[6, 1]], B: [[7, 1]], C: [[8, 1]], c: [[9, 1]]}\n",
      "order ['Lit', a, A, b, B, C, c]\n",
      "hold[key][0][0] 6\n",
      "689\n",
      "{1 in Reals , 3 in Reals , 0 in Reals , a in Reals , A in Reals , b in Reals , B in Reals , c in Reals , C in Reals} |= (1 + a + A + 0 + b + B + C + c + 1 + 3 + A) = (1 + 0 + 1 + 3 + (1 * a) + (2 * A) + b + B + C + c)\n",
      "operand 1\n",
      "expr.operands (1 , 0 , 1 , 3 , 1 * a , 2 * A , b , B , C , c)\n",
      "operand 0\n",
      "expr.operands (1 , 0 , 1 , 3 , 1 * a , 2 * A , b , B , C , c)\n",
      "operand 1\n",
      "expr.operands (1 , 0 , 1 , 3 , 1 * a , 2 * A , b , B , C , c)\n",
      "operand 3\n",
      "expr.operands (1 , 0 , 1 , 3 , 1 * a , 2 * A , b , B , C , c)\n",
      "operand 1 * a\n",
      "expr.operands (1 , 0 , 1 , 3 , 1 * a , 2 * A , b , B , C , c)\n",
      "operand 2 * A\n",
      "expr.operands (1 , 0 , 1 , 3 , 1 * a , 2 * A , b , B , C , c)\n",
      "operand b\n",
      "expr.operands (1 , 0 , 1 , 3 , 1 * a , 2 * A , b , B , C , c)\n",
      "operand B\n",
      "expr.operands (1 , 0 , 1 , 3 , 1 * a , 2 * A , b , B , C , c)\n",
      "end 7\n",
      "expr, idx 1 + 0 + 1 + 3 + (1 * a) + (2 * A) + b + B + C + c 6\n",
      "l 6\n",
      "m 1\n",
      "n 2\n",
      "aa [1, 0, 1, 3, 1 * a, 2 * A]\n",
      "bb [b]\n",
      "cc [C, c]\n",
      "x b\n",
      "thm |= forall_{a, b in Reals} ((a * b) in Reals)\n",
      "self in deduce in number set 2 * A\n",
      "self.operands (2 , A)\n",
      "{1 in Reals , 3 in Reals , 0 in Reals , a in Reals , A in Reals , b in Reals , B in Reals , c in Reals , C in Reals} |= (1 + 0 + 1 + 3 + (1 * a) + (2 * A) + b + B + C + c) = (1 + 0 + 1 + 3 + (1 * a) + (2 * A) + (1 * b) + B + C + c)\n",
      "operand 1\n",
      "expr.operands (1 , 0 , 1 , 3 , 1 * a , 2 * A , b , B , C , c)\n",
      "operand 0\n",
      "expr.operands (1 , 0 , 1 , 3 , 1 * a , 2 * A , b , B , C , c)\n",
      "operand 1\n",
      "expr.operands (1 , 0 , 1 , 3 , 1 * a , 2 * A , b , B , C , c)\n",
      "operand 3\n",
      "expr.operands (1 , 0 , 1 , 3 , 1 * a , 2 * A , b , B , C , c)\n",
      "operand 1 * a\n",
      "expr.operands (1 , 0 , 1 , 3 , 1 * a , 2 * A , b , B , C , c)\n",
      "operand 2 * A\n",
      "expr.operands (1 , 0 , 1 , 3 , 1 * a , 2 * A , b , B , C , c)\n",
      "operand b\n",
      "expr.operands (1 , 0 , 1 , 3 , 1 * a , 2 * A , b , B , C , c)\n",
      "operand B\n",
      "expr.operands (1 , 0 , 1 , 3 , 1 * a , 2 * A , b , B , C , c)\n",
      "end 7\n",
      "expr, idx 1 + 0 + 1 + 3 + (1 * a) + (2 * A) + b + B + C + c 6\n",
      "l 6\n",
      "m 1\n",
      "n 2\n",
      "aa [1, 0, 1, 3, 1 * a, 2 * A]\n",
      "bb [b]\n",
      "cc [C, c]\n",
      "x b\n"
     ]
    },
    {
     "name": "stdout",
     "output_type": "stream",
     "text": [
      "expr before equals 1 + 0 + 1 + 3 + (1 * a) + (2 * A) + (1 * b) + B + C + c\n",
      "new dict after mult {'Lit': [[0, 1], [1, 0], [2, 1], [3, 3]], a: [[4, 1]], A: [[5, 1]], b: [[6, 1]], B: [[7, 1]], C: [[8, 1]], c: [[9, 1]]}\n",
      "order ['Lit', a, A, b, B, C, c]\n",
      "hold[key][0][0] 7\n",
      "689\n",
      "{1 in Reals , 3 in Reals , 0 in Reals , a in Reals , A in Reals , b in Reals , B in Reals , c in Reals , C in Reals} |= (1 + a + A + 0 + b + B + C + c + 1 + 3 + A) = (1 + 0 + 1 + 3 + (1 * a) + (2 * A) + (1 * b) + B + C + c)\n",
      "operand 1\n",
      "expr.operands (1 , 0 , 1 , 3 , 1 * a , 2 * A , 1 * b , B , C , c)\n",
      "operand 0\n",
      "expr.operands (1 , 0 , 1 , 3 , 1 * a , 2 * A , 1 * b , B , C , c)\n",
      "operand 1\n",
      "expr.operands (1 , 0 , 1 , 3 , 1 * a , 2 * A , 1 * b , B , C , c)\n",
      "operand 3\n",
      "expr.operands (1 , 0 , 1 , 3 , 1 * a , 2 * A , 1 * b , B , C , c)\n",
      "operand 1 * a\n",
      "expr.operands (1 , 0 , 1 , 3 , 1 * a , 2 * A , 1 * b , B , C , c)\n",
      "operand 2 * A\n",
      "expr.operands (1 , 0 , 1 , 3 , 1 * a , 2 * A , 1 * b , B , C , c)\n",
      "operand 1 * b\n",
      "expr.operands (1 , 0 , 1 , 3 , 1 * a , 2 * A , 1 * b , B , C , c)\n",
      "operand B\n",
      "expr.operands (1 , 0 , 1 , 3 , 1 * a , 2 * A , 1 * b , B , C , c)\n",
      "operand C\n",
      "expr.operands (1 , 0 , 1 , 3 , 1 * a , 2 * A , 1 * b , B , C , c)\n",
      "end 8\n",
      "expr, idx 1 + 0 + 1 + 3 + (1 * a) + (2 * A) + (1 * b) + B + C + c 7\n",
      "l 7\n",
      "m 1\n",
      "n 1\n",
      "aa [1, 0, 1, 3, 1 * a, 2 * A, 1 * b]\n",
      "bb [B]\n",
      "cc [c]\n",
      "x B\n",
      "thm |= forall_{a, b in Reals} ((a * b) in Reals)\n",
      "self in deduce in number set 1 * b\n",
      "self.operands (1 , b)\n",
      "{1 in Reals , 3 in Reals , 0 in Reals , a in Reals , A in Reals , b in Reals , B in Reals , c in Reals , C in Reals} |= (1 + 0 + 1 + 3 + (1 * a) + (2 * A) + (1 * b) + B + C + c) = (1 + 0 + 1 + 3 + (1 * a) + (2 * A) + (1 * b) + (1 * B) + C + c)\n",
      "operand 1\n",
      "expr.operands (1 , 0 , 1 , 3 , 1 * a , 2 * A , 1 * b , B , C , c)\n",
      "operand 0\n",
      "expr.operands (1 , 0 , 1 , 3 , 1 * a , 2 * A , 1 * b , B , C , c)\n",
      "operand 1\n",
      "expr.operands (1 , 0 , 1 , 3 , 1 * a , 2 * A , 1 * b , B , C , c)\n",
      "operand 3\n",
      "expr.operands (1 , 0 , 1 , 3 , 1 * a , 2 * A , 1 * b , B , C , c)\n",
      "operand 1 * a\n",
      "expr.operands (1 , 0 , 1 , 3 , 1 * a , 2 * A , 1 * b , B , C , c)\n",
      "operand 2 * A\n",
      "expr.operands (1 , 0 , 1 , 3 , 1 * a , 2 * A , 1 * b , B , C , c)\n",
      "operand 1 * b\n",
      "expr.operands (1 , 0 , 1 , 3 , 1 * a , 2 * A , 1 * b , B , C , c)\n",
      "operand B\n",
      "expr.operands (1 , 0 , 1 , 3 , 1 * a , 2 * A , 1 * b , B , C , c)\n",
      "operand C\n",
      "expr.operands (1 , 0 , 1 , 3 , 1 * a , 2 * A , 1 * b , B , C , c)\n",
      "end 8\n",
      "expr, idx 1 + 0 + 1 + 3 + (1 * a) + (2 * A) + (1 * b) + B + C + c 7\n",
      "l 7\n",
      "m 1\n",
      "n 1\n",
      "aa [1, 0, 1, 3, 1 * a, 2 * A, 1 * b]\n",
      "bb [B]\n",
      "cc [c]\n",
      "x B\n",
      "expr before equals 1 + 0 + 1 + 3 + (1 * a) + (2 * A) + (1 * b) + (1 * B) + C + c\n",
      "new dict after mult {'Lit': [[0, 1], [1, 0], [2, 1], [3, 3]], a: [[4, 1]], A: [[5, 1]], b: [[6, 1]], B: [[7, 1]], C: [[8, 1]], c: [[9, 1]]}\n",
      "order ['Lit', a, A, b, B, C, c]\n",
      "hold[key][0][0] 8\n",
      "689\n",
      "{1 in Reals , 3 in Reals , 0 in Reals , a in Reals , A in Reals , b in Reals , B in Reals , c in Reals , C in Reals} |= (1 + a + A + 0 + b + B + C + c + 1 + 3 + A) = (1 + 0 + 1 + 3 + (1 * a) + (2 * A) + (1 * b) + (1 * B) + C + c)\n",
      "operand 1\n",
      "expr.operands (1 , 0 , 1 , 3 , 1 * a , 2 * A , 1 * b , 1 * B , C , c)\n",
      "operand 0\n",
      "expr.operands (1 , 0 , 1 , 3 , 1 * a , 2 * A , 1 * b , 1 * B , C , c)\n",
      "operand 1\n",
      "expr.operands (1 , 0 , 1 , 3 , 1 * a , 2 * A , 1 * b , 1 * B , C , c)\n",
      "operand 3\n",
      "expr.operands (1 , 0 , 1 , 3 , 1 * a , 2 * A , 1 * b , 1 * B , C , c)\n",
      "operand 1 * a\n",
      "expr.operands (1 , 0 , 1 , 3 , 1 * a , 2 * A , 1 * b , 1 * B , C , c)\n",
      "operand 2 * A\n",
      "expr.operands (1 , 0 , 1 , 3 , 1 * a , 2 * A , 1 * b , 1 * B , C , c)\n",
      "operand 1 * b\n",
      "expr.operands (1 , 0 , 1 , 3 , 1 * a , 2 * A , 1 * b , 1 * B , C , c)\n",
      "operand 1 * B\n",
      "expr.operands (1 , 0 , 1 , 3 , 1 * a , 2 * A , 1 * b , 1 * B , C , c)\n",
      "operand C\n",
      "expr.operands (1 , 0 , 1 , 3 , 1 * a , 2 * A , 1 * b , 1 * B , C , c)\n",
      "operand c\n",
      "expr.operands (1 , 0 , 1 , 3 , 1 * a , 2 * A , 1 * b , 1 * B , C , c)\n",
      "end 9\n",
      "expr, idx 1 + 0 + 1 + 3 + (1 * a) + (2 * A) + (1 * b) + (1 * B) + C + c 8\n",
      "l 8\n",
      "m 1\n",
      "n 0\n",
      "aa [1, 0, 1, 3, 1 * a, 2 * A, 1 * b, 1 * B]\n",
      "bb [C]\n",
      "cc []\n",
      "x C\n",
      "thm |= forall_{a, b in Reals} ((a * b) in Reals)\n",
      "self in deduce in number set 1 * B\n",
      "self.operands (1 , B)\n",
      "{1 in Reals , 3 in Reals , 0 in Reals , a in Reals , A in Reals , b in Reals , B in Reals , c in Reals , C in Reals} |= (1 + 0 + 1 + 3 + (1 * a) + (2 * A) + (1 * b) + (1 * B) + C + c) = (1 + 0 + 1 + 3 + (1 * a) + (2 * A) + (1 * b) + (1 * B) + (1 * C) + c)\n",
      "operand 1\n",
      "expr.operands (1 , 0 , 1 , 3 , 1 * a , 2 * A , 1 * b , 1 * B , C , c)\n",
      "operand 0\n",
      "expr.operands (1 , 0 , 1 , 3 , 1 * a , 2 * A , 1 * b , 1 * B , C , c)\n",
      "operand 1\n",
      "expr.operands (1 , 0 , 1 , 3 , 1 * a , 2 * A , 1 * b , 1 * B , C , c)\n",
      "operand 3\n",
      "expr.operands (1 , 0 , 1 , 3 , 1 * a , 2 * A , 1 * b , 1 * B , C , c)\n",
      "operand 1 * a\n",
      "expr.operands (1 , 0 , 1 , 3 , 1 * a , 2 * A , 1 * b , 1 * B , C , c)\n",
      "operand 2 * A\n",
      "expr.operands (1 , 0 , 1 , 3 , 1 * a , 2 * A , 1 * b , 1 * B , C , c)\n",
      "operand 1 * b\n",
      "expr.operands (1 , 0 , 1 , 3 , 1 * a , 2 * A , 1 * b , 1 * B , C , c)\n",
      "operand 1 * B\n",
      "expr.operands (1 , 0 , 1 , 3 , 1 * a , 2 * A , 1 * b , 1 * B , C , c)\n",
      "operand C\n",
      "expr.operands (1 , 0 , 1 , 3 , 1 * a , 2 * A , 1 * b , 1 * B , C , c)\n",
      "operand c\n",
      "expr.operands (1 , 0 , 1 , 3 , 1 * a , 2 * A , 1 * b , 1 * B , C , c)\n",
      "end 9\n",
      "expr, idx 1 + 0 + 1 + 3 + (1 * a) + (2 * A) + (1 * b) + (1 * B) + C + c 8\n",
      "l 8\n",
      "m 1\n",
      "n 0\n",
      "aa [1, 0, 1, 3, 1 * a, 2 * A, 1 * b, 1 * B]\n",
      "bb [C]\n",
      "cc []\n",
      "x C\n",
      "expr before equals 1 + 0 + 1 + 3 + (1 * a) + (2 * A) + (1 * b) + (1 * B) + (1 * C) + c\n",
      "new dict after mult {'Lit': [[0, 1], [1, 0], [2, 1], [3, 3]], a: [[4, 1]], A: [[5, 1]], b: [[6, 1]], B: [[7, 1]], C: [[8, 1]], c: [[9, 1]]}\n",
      "order ['Lit', a, A, b, B, C, c]\n",
      "hold[key][0][0] 9\n",
      "689\n",
      "{1 in Reals , 3 in Reals , 0 in Reals , a in Reals , A in Reals , b in Reals , B in Reals , c in Reals , C in Reals} |= (1 + a + A + 0 + b + B + C + c + 1 + 3 + A) = (1 + 0 + 1 + 3 + (1 * a) + (2 * A) + (1 * b) + (1 * B) + (1 * C) + c)\n",
      "operand 1\n",
      "expr.operands (1 , 0 , 1 , 3 , 1 * a , 2 * A , 1 * b , 1 * B , 1 * C , c)\n",
      "operand 0\n",
      "expr.operands (1 , 0 , 1 , 3 , 1 * a , 2 * A , 1 * b , 1 * B , 1 * C , c)\n",
      "operand 1\n",
      "expr.operands (1 , 0 , 1 , 3 , 1 * a , 2 * A , 1 * b , 1 * B , 1 * C , c)\n",
      "operand 3\n",
      "expr.operands (1 , 0 , 1 , 3 , 1 * a , 2 * A , 1 * b , 1 * B , 1 * C , c)\n",
      "operand 1 * a\n",
      "expr.operands (1 , 0 , 1 , 3 , 1 * a , 2 * A , 1 * b , 1 * B , 1 * C , c)\n",
      "operand 2 * A\n",
      "expr.operands (1 , 0 , 1 , 3 , 1 * a , 2 * A , 1 * b , 1 * B , 1 * C , c)\n",
      "operand 1 * b\n",
      "expr.operands (1 , 0 , 1 , 3 , 1 * a , 2 * A , 1 * b , 1 * B , 1 * C , c)\n",
      "operand 1 * B\n",
      "expr.operands (1 , 0 , 1 , 3 , 1 * a , 2 * A , 1 * b , 1 * B , 1 * C , c)\n",
      "operand 1 * C\n",
      "expr.operands (1 , 0 , 1 , 3 , 1 * a , 2 * A , 1 * b , 1 * B , 1 * C , c)\n",
      "operand c\n",
      "expr.operands (1 , 0 , 1 , 3 , 1 * a , 2 * A , 1 * b , 1 * B , 1 * C , c)\n"
     ]
    },
    {
     "ename": "UnboundLocalError",
     "evalue": "local variable 'end' referenced before assignment",
     "output_type": "error",
     "traceback": [
      "\u001b[0;31m---------------------------------------------------------------------------\u001b[0m",
      "\u001b[0;31mUnboundLocalError\u001b[0m                         Traceback (most recent call last)",
      "\u001b[0;32m<ipython-input-6-2cf14af6c554>\u001b[0m in \u001b[0;36m<module>\u001b[0;34m\u001b[0m\n\u001b[0;32m----> 1\u001b[0;31m \u001b[0mAdd\u001b[0m\u001b[0;34m(\u001b[0m\u001b[0mone\u001b[0m\u001b[0;34m,\u001b[0m \u001b[0ma\u001b[0m\u001b[0;34m,\u001b[0m \u001b[0mA\u001b[0m\u001b[0;34m,\u001b[0m \u001b[0mzero\u001b[0m\u001b[0;34m,\u001b[0m \u001b[0mb\u001b[0m\u001b[0;34m,\u001b[0m \u001b[0mB\u001b[0m\u001b[0;34m,\u001b[0m \u001b[0mC\u001b[0m\u001b[0;34m,\u001b[0m \u001b[0mc\u001b[0m\u001b[0;34m,\u001b[0m \u001b[0mone\u001b[0m\u001b[0;34m,\u001b[0m \u001b[0mthree\u001b[0m\u001b[0;34m,\u001b[0m \u001b[0mA\u001b[0m\u001b[0;34m)\u001b[0m\u001b[0;34m.\u001b[0m\u001b[0msimplifications\u001b[0m\u001b[0;34m(\u001b[0m\u001b[0massumptions\u001b[0m\u001b[0;34m=\u001b[0m\u001b[0;34m[\u001b[0m\u001b[0mInSet\u001b[0m\u001b[0;34m(\u001b[0m\u001b[0mone\u001b[0m\u001b[0;34m,\u001b[0m \u001b[0mReals\u001b[0m\u001b[0;34m)\u001b[0m\u001b[0;34m,\u001b[0m \u001b[0mInSet\u001b[0m\u001b[0;34m(\u001b[0m\u001b[0mthree\u001b[0m\u001b[0;34m,\u001b[0m \u001b[0mReals\u001b[0m\u001b[0;34m)\u001b[0m\u001b[0;34m,\u001b[0m \u001b[0mInSet\u001b[0m\u001b[0;34m(\u001b[0m\u001b[0mzero\u001b[0m\u001b[0;34m,\u001b[0m \u001b[0mReals\u001b[0m\u001b[0;34m)\u001b[0m\u001b[0;34m,\u001b[0m \u001b[0mInSet\u001b[0m\u001b[0;34m(\u001b[0m\u001b[0ma\u001b[0m\u001b[0;34m,\u001b[0m \u001b[0mReals\u001b[0m\u001b[0;34m)\u001b[0m\u001b[0;34m,\u001b[0m \u001b[0mInSet\u001b[0m\u001b[0;34m(\u001b[0m\u001b[0mA\u001b[0m\u001b[0;34m,\u001b[0m \u001b[0mReals\u001b[0m\u001b[0;34m)\u001b[0m\u001b[0;34m,\u001b[0m \u001b[0mInSet\u001b[0m\u001b[0;34m(\u001b[0m\u001b[0mb\u001b[0m\u001b[0;34m,\u001b[0m \u001b[0mReals\u001b[0m\u001b[0;34m)\u001b[0m\u001b[0;34m,\u001b[0m \u001b[0mInSet\u001b[0m\u001b[0;34m(\u001b[0m\u001b[0mB\u001b[0m\u001b[0;34m,\u001b[0m \u001b[0mReals\u001b[0m\u001b[0;34m)\u001b[0m\u001b[0;34m,\u001b[0m \u001b[0mInSet\u001b[0m\u001b[0;34m(\u001b[0m\u001b[0mc\u001b[0m\u001b[0;34m,\u001b[0m \u001b[0mReals\u001b[0m\u001b[0;34m)\u001b[0m\u001b[0;34m,\u001b[0m \u001b[0mInSet\u001b[0m\u001b[0;34m(\u001b[0m\u001b[0mC\u001b[0m\u001b[0;34m,\u001b[0m \u001b[0mReals\u001b[0m\u001b[0;34m)\u001b[0m\u001b[0;34m]\u001b[0m\u001b[0;34m)\u001b[0m\u001b[0;34m\u001b[0m\u001b[0;34m\u001b[0m\u001b[0m\n\u001b[0m",
      "\u001b[0;32m/home/jmadri/Prove-It/packages/proveit/number/addition/add.py\u001b[0m in \u001b[0;36msimplifications\u001b[0;34m(self, assumptions)\u001b[0m\n\u001b[1;32m    689\u001b[0m                 \u001b[0mprint\u001b[0m\u001b[0;34m(\u001b[0m\u001b[0;36m689\u001b[0m\u001b[0;34m)\u001b[0m\u001b[0;34m\u001b[0m\u001b[0;34m\u001b[0m\u001b[0m\n\u001b[1;32m    690\u001b[0m                 \u001b[0mprint\u001b[0m\u001b[0;34m(\u001b[0m\u001b[0mEquals\u001b[0m\u001b[0;34m(\u001b[0m\u001b[0mself\u001b[0m\u001b[0;34m,\u001b[0m \u001b[0mexpr\u001b[0m\u001b[0;34m)\u001b[0m\u001b[0;34m.\u001b[0m\u001b[0mprove\u001b[0m\u001b[0;34m(\u001b[0m\u001b[0massumptions\u001b[0m\u001b[0;34m)\u001b[0m\u001b[0;34m)\u001b[0m\u001b[0;34m\u001b[0m\u001b[0;34m\u001b[0m\u001b[0m\n\u001b[0;32m--> 691\u001b[0;31m                 \u001b[0mprint\u001b[0m\u001b[0;34m(\u001b[0m\u001b[0mexpr\u001b[0m\u001b[0;34m.\u001b[0m\u001b[0mderiveExpandedMultDef\u001b[0m\u001b[0;34m(\u001b[0m\u001b[0mhold\u001b[0m\u001b[0;34m[\u001b[0m\u001b[0mkey\u001b[0m\u001b[0;34m]\u001b[0m\u001b[0;34m[\u001b[0m\u001b[0;36m0\u001b[0m\u001b[0;34m]\u001b[0m\u001b[0;34m[\u001b[0m\u001b[0;36m0\u001b[0m\u001b[0;34m]\u001b[0m\u001b[0;34m,\u001b[0m \u001b[0massumptions\u001b[0m\u001b[0;34m)\u001b[0m\u001b[0;34m)\u001b[0m\u001b[0;34m\u001b[0m\u001b[0;34m\u001b[0m\u001b[0m\n\u001b[0m\u001b[1;32m    692\u001b[0m                 \u001b[0mexpr\u001b[0m \u001b[0;34m=\u001b[0m \u001b[0mexpr\u001b[0m\u001b[0;34m.\u001b[0m\u001b[0mderiveExpandedMultDef\u001b[0m\u001b[0;34m(\u001b[0m\u001b[0mhold\u001b[0m\u001b[0;34m[\u001b[0m\u001b[0mkey\u001b[0m\u001b[0;34m]\u001b[0m\u001b[0;34m[\u001b[0m\u001b[0;36m0\u001b[0m\u001b[0;34m]\u001b[0m\u001b[0;34m[\u001b[0m\u001b[0;36m0\u001b[0m\u001b[0;34m]\u001b[0m\u001b[0;34m,\u001b[0m \u001b[0massumptions\u001b[0m\u001b[0;34m)\u001b[0m\u001b[0;34m.\u001b[0m\u001b[0mrhs\u001b[0m\u001b[0;34m\u001b[0m\u001b[0;34m\u001b[0m\u001b[0m\n\u001b[1;32m    693\u001b[0m                 \u001b[0mprint\u001b[0m\u001b[0;34m(\u001b[0m\u001b[0;34m\"expr before equals\"\u001b[0m\u001b[0;34m,\u001b[0m\u001b[0mexpr\u001b[0m\u001b[0;34m)\u001b[0m\u001b[0;34m\u001b[0m\u001b[0;34m\u001b[0m\u001b[0m\n",
      "\u001b[0;32m/home/jmadri/Prove-It/packages/proveit/number/addition/add.py\u001b[0m in \u001b[0;36mderiveExpandedMultDef\u001b[0;34m(self, idx, assumptions)\u001b[0m\n\u001b[1;32m    205\u001b[0m                 \u001b[0;32mbreak\u001b[0m\u001b[0;34m\u001b[0m\u001b[0;34m\u001b[0m\u001b[0m\n\u001b[1;32m    206\u001b[0m \u001b[0;34m\u001b[0m\u001b[0m\n\u001b[0;32m--> 207\u001b[0;31m         \u001b[0mprint\u001b[0m\u001b[0;34m(\u001b[0m\u001b[0;34m\"end\"\u001b[0m\u001b[0;34m,\u001b[0m \u001b[0mend\u001b[0m\u001b[0;34m)\u001b[0m\u001b[0;34m\u001b[0m\u001b[0;34m\u001b[0m\u001b[0m\n\u001b[0m\u001b[1;32m    208\u001b[0m         \u001b[0mprint\u001b[0m\u001b[0;34m(\u001b[0m\u001b[0;34m\"expr, idx\"\u001b[0m\u001b[0;34m,\u001b[0m \u001b[0mexpr\u001b[0m\u001b[0;34m,\u001b[0m \u001b[0midx\u001b[0m\u001b[0;34m)\u001b[0m\u001b[0;34m\u001b[0m\u001b[0;34m\u001b[0m\u001b[0m\n\u001b[1;32m    209\u001b[0m         \u001b[0mprint\u001b[0m\u001b[0;34m(\u001b[0m\u001b[0;34m\"l\"\u001b[0m\u001b[0;34m,\u001b[0m \u001b[0mnum\u001b[0m\u001b[0;34m(\u001b[0m\u001b[0midx\u001b[0m\u001b[0;34m)\u001b[0m\u001b[0;34m)\u001b[0m\u001b[0;34m\u001b[0m\u001b[0;34m\u001b[0m\u001b[0m\n",
      "\u001b[0;31mUnboundLocalError\u001b[0m: local variable 'end' referenced before assignment"
     ]
    }
   ],
   "source": [
    "Add(one, a, A, zero, b, B, C, c, one, three, A).simplifications(assumptions=[InSet(one, Reals), InSet(three, Reals), InSet(zero, Reals), InSet(a, Reals), InSet(A, Reals), InSet(b, Reals), InSet(B, Reals), InSet(c, Reals), InSet(C, Reals)])"
   ]
  },
  {
   "cell_type": "code",
   "execution_count": null,
   "metadata": {},
   "outputs": [],
   "source": [
    "#Add(a, one, two , c, b, a, zero, b, c, c, three).groupLikeTerms([InSet(a, Reals), InSet(b, Reals), InSet(c, Reals), InSet(one, Reals), InSet(two, Reals)])"
   ]
  },
  {
   "cell_type": "code",
   "execution_count": null,
   "metadata": {},
   "outputs": [],
   "source": [
    "Add(one, two).simplification()"
   ]
  },
  {
   "cell_type": "code",
   "execution_count": null,
   "metadata": {},
   "outputs": [],
   "source": [
    "Add(a, one, a).simplifications([InSet(a, Reals), InSet(one, Reals)])"
   ]
  },
  {
   "cell_type": "code",
   "execution_count": null,
   "metadata": {},
   "outputs": [],
   "source": [
    "Add(one, c, two, three, c, one,c).simplifications([InSet(a, Reals), InSet(b, Reals), InSet(c, Reals), InSet(one, Reals), InSet(two, Reals)])"
   ]
  },
  {
   "cell_type": "code",
   "execution_count": null,
   "metadata": {},
   "outputs": [],
   "source": [
    "Add(a, one, two , c, b, a, zero, b, c, c, three).simplifications([InSet(a, Reals), InSet(b, Reals), InSet(c, Reals), InSet(one, Reals), InSet(two, Reals)])"
   ]
  },
  {
   "cell_type": "code",
   "execution_count": null,
   "metadata": {},
   "outputs": [],
   "source": []
  },
  {
   "cell_type": "code",
   "execution_count": null,
   "metadata": {},
   "outputs": [],
   "source": [
    "Add(a,b).deduceInNumberSet(Integers, assumptions=[InSet(a, Integers), InSet(b,Integers)]).proof()"
   ]
  },
  {
   "cell_type": "code",
   "execution_count": null,
   "metadata": {},
   "outputs": [],
   "source": [
    "Add(a,b,c,d).deduceInNumberSet(Integers,[InSet(a,Integers),InSet(b, Integers), InSet(c, Integers), InSet(d,Integers)]).proof()"
   ]
  },
  {
   "cell_type": "code",
   "execution_count": null,
   "metadata": {},
   "outputs": [],
   "source": [
    "Add(a,b).deduceInNumberSet(Naturals, assumptions=[InSet(a, Naturals), InSet(b, Naturals)]).proof()"
   ]
  },
  {
   "cell_type": "code",
   "execution_count": null,
   "metadata": {},
   "outputs": [],
   "source": [
    "Add(a,b,c,d).deduceInNumberSet(Naturals, assumptions=[InSet(a,Naturals), InSet(b, Naturals), InSet(c,Naturals), InSet(d, Naturals)]).proof()"
   ]
  },
  {
   "cell_type": "code",
   "execution_count": null,
   "metadata": {},
   "outputs": [],
   "source": [
    "Add(a,b).deduceInNumberSet(Reals, assumptions=[InSet(a, Reals), InSet(b,Reals)]).proof()"
   ]
  },
  {
   "cell_type": "code",
   "execution_count": null,
   "metadata": {},
   "outputs": [],
   "source": [
    "Add(a,b,c,d).deduceInNumberSet(Reals, assumptions=[InSet(a,Reals), InSet(b,Reals), InSet(c, Reals), InSet(d, Reals)]).proof()"
   ]
  },
  {
   "cell_type": "code",
   "execution_count": null,
   "metadata": {},
   "outputs": [],
   "source": [
    "Add(a,b).deduceInNumberSet(Complexes, assumptions=[InSet(a, Complexes), InSet(b, Complexes)]).proof()"
   ]
  },
  {
   "cell_type": "code",
   "execution_count": null,
   "metadata": {},
   "outputs": [],
   "source": [
    "Add(a,b,c,d).deduceInNumberSet(Complexes, assumptions=[InSet(a, Complexes), InSet(b, Complexes), InSet(c, Complexes), InSet(d,Complexes)]).proof()"
   ]
  },
  {
   "cell_type": "code",
   "execution_count": null,
   "metadata": {},
   "outputs": [],
   "source": [
    "Add(a,b,one,d).deduceInNumberSet(NaturalsPos, assumptions=[InSet(a, Naturals), InSet(b, Naturals), InSet(c, Naturals), InSet(d, Naturals)]).proof()"
   ]
  },
  {
   "cell_type": "code",
   "execution_count": null,
   "metadata": {},
   "outputs": [],
   "source": [
    "Add(zero, b).deduceAddZero([InSet(b,Complexes)]).proof()"
   ]
  },
  {
   "cell_type": "code",
   "execution_count": null,
   "metadata": {},
   "outputs": [],
   "source": [
    "Add(a,b,c,d).deriveSwap(1,3, assumptions=[InSet(a,Reals), InSet(b,Reals), InSet(c, Reals), InSet(d,Reals)]).proof()"
   ]
  },
  {
   "cell_type": "code",
   "execution_count": null,
   "metadata": {},
   "outputs": [],
   "source": [
    "Add(one, two, three, four, five, six, one).deriveGroup(3,5, assumptions = []).proof()\n",
    "#Equals(Subtract(two, one),one), Equals(Subtract(one, one), zero), Equals(Subtract(three, one), two), Less(zero,Less(one, Less(two, three)))"
   ]
  },
  {
   "cell_type": "code",
   "execution_count": null,
   "metadata": {},
   "outputs": [],
   "source": [
    "InSet((one,two), RealsPos).substituted({})"
   ]
  },
  {
   "cell_type": "code",
   "execution_count": null,
   "metadata": {},
   "outputs": [],
   "source": [
    "Greater(Add(one, two, three, one), three).deduceIncAdd([InSet(two, RealsPos), InSet(three, Reals), InSet(one, RealsPos)]).proof()"
   ]
  },
  {
   "cell_type": "code",
   "execution_count": null,
   "metadata": {},
   "outputs": [],
   "source": [
    "Less(Add(Neg(one), Neg(two), three, Neg(one)), three).deduceDecAdd([InSet(two, RealsNeg), InSet(three, Reals), InSet(one, RealsNeg), InSet(Neg(one), RealsNeg), InSet(Neg(two), RealsNeg)]).string()"
   ]
  },
  {
   "cell_type": "code",
   "execution_count": null,
   "metadata": {},
   "outputs": [],
   "source": [
    "zero.prove([Subtract(x,x)]).proof()"
   ]
  },
  {
   "cell_type": "code",
   "execution_count": null,
   "metadata": {},
   "outputs": [],
   "source": [
    "zero.prove([Subtract(one, one)]).proof()"
   ]
  },
  {
   "cell_type": "code",
   "execution_count": null,
   "metadata": {},
   "outputs": [],
   "source": [
    "Add(a,a,c,Neg(c),a).deriveExpandedNegSelf(3,[InSet(c, Reals), InSet(a, Reals)])"
   ]
  },
  {
   "cell_type": "code",
   "execution_count": null,
   "metadata": {},
   "outputs": [],
   "source": [
    "Add(a,one, two,b,b,b,c, three, four).deriveExpandedMultDef(3,[InSet(a, Reals), InSet(b, Reals), InSet(c, Reals), InSet(one, Reals), InSet(two,Reals), InSet(three, Reals), InSet(four, Reals)])"
   ]
  },
  {
   "cell_type": "code",
   "execution_count": null,
   "metadata": {},
   "outputs": [],
   "source": [
    "Add(a,b,c,d,e,f,g).deriveCommutation(4, 2, assumptions=[InSet(a,Reals),InSet(b,Reals),InSet(c,Reals),InSet(d,Reals),InSet(e,Reals),InSet(f,Reals),InSet(g,Reals)])"
   ]
  },
  {
   "cell_type": "code",
   "execution_count": null,
   "metadata": {},
   "outputs": [],
   "source": [
    "m.prove([Add(m, Subtract(one, one))])"
   ]
  },
  {
   "cell_type": "code",
   "execution_count": null,
   "metadata": {},
   "outputs": [],
   "source": [
    "%end demonstrations"
   ]
  }
 ],
 "metadata": {
  "kernelspec": {
   "display_name": "Python 3",
   "language": "python",
   "name": "python3"
  },
  "language_info": {
   "codemirror_mode": {
    "name": "ipython",
    "version": 3
   },
   "file_extension": ".py",
   "mimetype": "text/x-python",
   "name": "python",
   "nbconvert_exporter": "python",
   "pygments_lexer": "ipython3",
   "version": "3.7.3"
  }
 },
 "nbformat": 4,
 "nbformat_minor": 1
}
