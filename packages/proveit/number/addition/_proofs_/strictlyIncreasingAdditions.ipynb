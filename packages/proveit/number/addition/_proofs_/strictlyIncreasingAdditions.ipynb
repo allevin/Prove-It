{
 "cells": [
  {
   "cell_type": "markdown",
   "metadata": {},
   "source": [
    "Proof of <a class=\"ProveItLink\" href=\"../../../_context_.ipynb\">proveit</a>.<a class=\"ProveItLink\" href=\"../../_context_.ipynb\">number</a>.<a class=\"ProveItLink\" href=\"../_context_.ipynb\">addition</a>.<a class=\"ProveItLink\" href=\"../_theorems_.ipynb#strictlyIncreasingAdditions\">strictlyIncreasingAdditions</a> theorem\n",
    "========"
   ]
  },
  {
   "cell_type": "code",
   "execution_count": 1,
   "metadata": {},
   "outputs": [],
   "source": [
    "import proveit\n",
    "context = proveit.Context('..') # the theorem's context is in the parent directory"
   ]
  },
  {
   "cell_type": "code",
   "execution_count": 2,
   "metadata": {},
   "outputs": [
    {
     "name": "stdout",
     "output_type": "stream",
     "text": [
      "Beginning proof of strictlyIncreasingAdditions\n",
      "Recorded 'presuming' information\n",
      "Presuming previous theorems (applied transitively).\n"
     ]
    },
    {
     "data": {
      "text/html": [
       "<strong id=\"strictlyIncreasingAdditions\">strictlyIncreasingAdditions:</strong> <a class=\"ProveItLink\" href=\"../__pv_it/5e9ec993fb47b9d816de28e583400aa49a08178e0/expr.ipynb\"><img src=\"data:image/png;base64,iVBORw0KGgoAAAANSUhEUgAAAvEAAAAZBAMAAABKnmwUAAAAMFBMVEX///8QEBC6urrMzMxUVFRm\n",
       "ZmZERETc3NwyMjKqqqp2dnaIiIiYmJgiIiLu7u4AAAAU9Wx4AAAAAXRSTlMAQObYZgAACF9JREFU\n",
       "aN7tmn1sFEUUwN/t9Xq9ve22oEGMkZaoYCTEkiAxGO1FTqshhFNbFBU9NDk0ftDEhhIUafziQKRn\n",
       "1ITEDy4EBaPCGQPR0MpBBQkKFBUTP7BL4kejgJRWAQXXN7Mzu7O3u3d7xv5h8CXTm3vvzc7sb2fe\n",
       "vJ0rgC956GAr/C//nkw8mPXp2fs/rH9XwjHQfJJXh3ck3U+WGIiUMwpK8FTZly+7iTRHP7f1o7Ka\n",
       "XNI30KTEaHW7p5NSD7DrM0qezuZPSpOvpu1yw0V+TamBTGYFpfqPsi9fpMlHejx+X30h+L4VrYdH\n",
       "/VlWADn5sbptvgEo1OBEPnMofv0TALfQmyXk3yTqlaXJyxn8qNKGj3yJgay0rBuHyr58sSajkNTx\n",
       "Qn+yRi4fLKMHWUdAks6QdzgdAkmAu+uhyiS/gASdZGny1GcBDB/54gOJ5oxCIod+RrSoXnu/YCho\n",
       "QuQn04YzOzhkV8o6WQRVx1zcvTrZSB9eJ/u2m/5tE6d+I46+MQZKlpMn0ziU8bHDkgk3exjJFx9I\n",
       "QDMKAbJRFy0RrwgoGAqaEHnZfKYnMBT8YVeu/o3GjKSLu0cnET1BPmYx9SHjoaaEKLYVn9G+LKi1\n",
       "nLyyrr19sZ/cZnd7e3vvMJIvPpBLWSGbcUDXyiRf0MSGshJRVI+xK+tO0GeS8U8+oNPJ/wG/qNE0\n",
       "fIN1iblY9uMo7ufk4fdU6ms/5GtSqYeyw0i++EBuZwXHPFil15dHvrCJDWVNDMLPaDZlRE96LhGP\n",
       "Tlb/bo/6CRaM3slzFQa0hQ/j5+sm+WkA8/yQr2iASnyuYce2HbGSVG6TbWpTHvE2rykxkBWs4HRK\n",
       "hPR8eeQLm9hQNk7fMidvV1Y4vEuSn3naruZbrNq9gW0nQ1s2fUsqq0zyF4Pa4Ye8FIN+rC2iSRdL\n",
       "j5W5F87bFDRXwiJeCZGuHAsknPU2r+EDicxvab7XOYCRrABsgyiJqcGkf/KsiTtKjL/qF3ZlFU9R\n",
       "YIpf8p32PEiqNat77jK3kyMk2x9rkq+GaN797ePpm+Hdu6x32F7owr/0hgPGjiSN2AtjT5MLGZKM\n",
       "LH/6thxDa6nNqQer1rc8625eYw5kG8C7ho55UznOCqinMHdLQrC51zd51sSDPIm/W/M2ZbWxK4yH\n",
       "K2b4Jd/3FwXCM52glRZNXmpuJ1GyMBpN8tF8tUuW/kvLnbBT1mTNIt8F3/GebjKi2urv6LPsZ/5o\n",
       "y2XlHzjaflBmd127IyPcbFSGDQnRHBPIs4E0YyKN03BTS55528lXDIyo03E4EUo+lE4/NzqdjjnG\n",
       "Lxp4E0tuS6f3p9NP8fhLcg5RWWVkQucBvOpw9+ikk6IOOMmPu9fcTowUyiKvdkx2SZ/vefwofJpL\n",
       "iOT7g+hNQj1IXw3QuUQWZbCW7ADUH225rHJYC8VnxG8kG0NkM4yUkJ2E9HtIFEeWe/eK5lqBPBvI\n",
       "NwBzADaPP6pRb2Y/nxV4/pqjP+nHOHlfc543cZ3zQTIPZ2ZsyiiNNnKMk/cx57fSaLPWEW1WNfHt\n",
       "BJdVxSlbtIF51+LTuGPC2uhm0h+pAewgzj0vPCqSr2zD/CBAV+N4uhxDJwn+BvKGQ/3RhuR/0dik\n",
       "RvU0tZe++84GBR9ALSX/oWAOdwjk6UBAHQRlKXXn3lQeZEUl+PtOuJCnB0sar4gG1sS6RxElib/h\n",
       "k3alWkdi0/vgJK/aehI6OUSiQLSD4QOF3dieDWI6v4Rod1nkX8J7OHx5vjpGj3tIrcF4++2RD08V\n",
       "yEdwKsKVQBMjmqQF2LkG7r3U/0pCPnQZjzao7o0kqhXyPYOPJthBWN6cFczR7ZpAngwEpD+3XK/R\n",
       "d2zuDUaXRmkjTOafciH/KyrUM6wiGngT6x5F8iT+TlpZoFx88rXwnoQLeXptsyehk3DfMu2xAxwf\n",
       "yyrVdz4U0/ngaM2WVUIAGz/+PtQ0UHdSazUSjx7IrhXIwwVAEhC8whjoJB3WHDcmQLDD8EdbrnlG\n",
       "hpMPdqhJOVP5Hqk3JyjqaCj+lWhW3hbnPBkIyDhvxsBUSt7wNs6jjFKj42qbqeuDTvKHELA6ilUE\n",
       "g9nEukcBZWj+UPyGFY6YsrPuzK3gQp5e2+xJDGnKXP1AK8OHOwV9fVhspS6z9Hg8Tb8+YZFXCN3p\n",
       "MAmqaLSbjpEo+GUq9QCSf+yISJ7E3BdJsBkxQicNawaNEIPkqT/acuu6Giy0wiEwdhpB8vKjPW5m\n",
       "gzwdSGWC5CJXp1KpHPMGvncFxBOaMuI8F+sevQK3Q+k7zgudjDVPD1wPemot8lTOgc2wRDJqLZIa\n",
       "M+a8dJVW8MvIOGMf2UcUFadpTyAlDf9xJNq8QCJbmIYTK5FTEjfS71E5QuJXoVnMMWsyIA3C90a0\n",
       "ifBoRw+alKwbeSlX5ETfJtY9okxwazLBk/wE/520YBdveZ9p5uzkw8cQ4U4ZFrZi7ZyLoMkgD7sL\n",
       "yR+hwQYaj6GrWpeBKQlKpInZMKv8GQRYTHaQszC1l2aVWadZJL9Eg8UJqGg14rzpLZ4S28n7/xmI\n",
       "3WM58uo/6ATxFXk37Qc7eZyAn8OUdZj7YO32PPyIcUp6ph4qoIA8ptx9Q6DUDWQwTfq578JpJHjU\n",
       "U3+0RZYvP3rdwzzbNY9KSGZ5C+DrwKr1G76fpRWaRfJyZ0vzMlyT99A3Kcsb2ljhd7j+t3J/peH3\n",
       "WIYs6ryj/E4QX4X3r9ZNBeRN4XvCGxi37acHLAnLOFxpIkL8o/Yz3qrCa39QxNz9ecGixDhvn0w5\n",
       "o/wn5D1PSxS3we7PXMgHWz3PbdgGkXS6vuywuW9KP/o6gzo7xEFegRLk4RWna8xhs6vN0Jwvaj67\n",
       "yXvJQfP/bRTHKbFsHvvYbLLzNKinuPkskokHY38D0Bvuq/MkTgwAAAAASUVORK5CYII=\n",
       "\" style=\"display:inline;vertical-align:middle;\" /></a><br>(see <a class=\"ProveItLink\" href=\"../__pv_it/5e9ec993fb47b9d816de28e583400aa49a08178e0/dependencies.ipynb\">dependencies</a>)<br>"
      ],
      "text/plain": [
       "strictlyIncreasingAdditions: forall_{m, n in Naturals} [forall_{(A, C) in (RealsPos)^{m} * (RealsPos)^{n}} [forall_{B in Reals} ((A_1 +  ...  + A_m + B + C_1 +  ...  + C_n) > B)]]"
      ]
     },
     "execution_count": 2,
     "metadata": {},
     "output_type": "execute_result"
    }
   ],
   "source": [
    "%proving strictlyIncreasingAdditions presuming []"
   ]
  },
  {
   "cell_type": "code",
   "execution_count": null,
   "metadata": {},
   "outputs": [],
   "source": []
  }
 ],
 "metadata": {
  "kernelspec": {
   "display_name": "Python 3",
   "language": "python",
   "name": "python3"
  }
 },
 "nbformat": 4,
 "nbformat_minor": 0
}
