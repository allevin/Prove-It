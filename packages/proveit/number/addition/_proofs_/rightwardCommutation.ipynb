{
 "cells": [
  {
   "cell_type": "markdown",
   "metadata": {},
   "source": [
    "Proof of <a class=\"ProveItLink\" href=\"../../../_context_.ipynb\">proveit</a>.<a class=\"ProveItLink\" href=\"../../_context_.ipynb\">number</a>.<a class=\"ProveItLink\" href=\"../_context_.ipynb\">addition</a>.<a class=\"ProveItLink\" href=\"../_theorems_.ipynb#rightwardCommutation\">rightwardCommutation</a> theorem\n",
    "========"
   ]
  },
  {
   "cell_type": "code",
   "execution_count": 1,
   "metadata": {},
   "outputs": [],
   "source": [
    "import proveit\n",
    "context = proveit.Context('..') # the theorem's context is in the parent directory"
   ]
  },
  {
   "cell_type": "code",
   "execution_count": 2,
   "metadata": {},
   "outputs": [
    {
     "name": "stdout",
     "output_type": "stream",
     "text": [
      "Beginning proof of rightwardCommutation\n",
      "Recorded 'presuming' information\n",
      "Presuming previous theorems (applied transitively).\n"
     ]
    },
    {
     "data": {
      "text/html": [
       "<strong id=\"rightwardCommutation\">rightwardCommutation:</strong> <a class=\"ProveItLink\" href=\"../__pv_it/c43045c66a90ad2845515a53b96b010eed9af05b0/expr.ipynb\"><img src=\"data:image/png;base64,iVBORw0KGgoAAAANSUhEUgAABPUAAAAaBAMAAAAtVHSDAAAAMFBMVEX///8QEBC6urrMzMxUVFRm\n",
       "ZmZERETc3NwyMjKqqqp2dnaIiIiYmJgiIiLu7u4AAAAU9Wx4AAAAAXRSTlMAQObYZgAACOdJREFU\n",
       "eNrtWwtsHMUZ/r338D329lKQaGiF6pBAaVHko0AwQchHUJWikHIiiVTHtBwIHSAackgIIyjEIGhM\n",
       "KPgk2ipSQBxSII2U4KMEqyoJOSUyRAHBIUSEgIOligCRBAebOJCYXOe1j9nH3WwYLErvl2Y9OzP7\n",
       "7Xz/fDv7z+wZQNxW1YvQtrZJsfn1cpDmtbbH2ibNOrOgB9GeNnNdUyo0/Q9YvHE82AVPNigxtcub\n",
       "9w+dM+GNtEcms1cFtZciV8+Idy5gSYppl32Xc7bWPRHsgv80mOiWefP+ntn+M2RzXka1txmfPyqo\n",
       "vUQJ/YnpM0H4UeFuiVgs+132tftwwDm9YXTLm/f3zR6QzTlGtXcH/pMX1B5peMdM0E1WaHLaJ34X\n",
       "fNK0NF0yntdigKubVdiBRga9y/2QEl+xjFr24i2JsyCKb4etmq9lc8YJaQ/PYpGS6FoDP5V9M6G9\n",
       "Dp0mp23wu2BD09JuAypeCXB1swo70HDZu9wPKXbMGLRZXrwlcRZE8e2wWaOckM0ZJ6Q9ddPAwD3C\n",
       "69y9AwMDM7LcPYcl2FEfrQUZh2T9vVXu0q0uN8Wvq1cDwPLN7UDJ+ruNriDjsKM+YsZKN3vxlsQZ\n",
       "/n7G+0G050sxUZPO+WaiPZgqFN4V1l66UFhVngntrWTp0AQMzwowDtqHXbEv3M0fePFKh5tWlxOT\n",
       "AYaXb24DwjdsQIBxwIzMWOlpL96SOEePwUgmgPZ8KcaWbKtK5vw01d7lADcKay+cgWiQDeae6klq\n",
       "7y8soal9JB9gHNDUnphyj84UpDOcm6JfwpoJcVhHc/vAHLNCGaFxwIzMWGk9PkSGiGVBKmdYne20\n",
       "T06ttOdPcTwPk5I5r6famwfaIGhX6ULaU7LwKV6cZHwb8aFjNHOS2juFJrVRhGHEbIHoOLxxFGLH\n",
       "LTqsNH4COsqcm548CpEyhPKCsLS518DgG6JQxkRqNQ6EkQk1x4O3LM4IZqUACu8RzxodfiKZ8xyq\n",
       "vRQk0eQ03+fq0INXw3N/MLWH0nZ0vMtcOQ85FtLlhXzofLLv3AmaYt8ANDJw4VLRcRiuQXrSosNK\n",
       "I4OQznFuGsZkQstr4rA+Q4ZvOGFDajUOhJE5HfV68JbEGcOAAArnEc+a3wEckcy5l2ovWU3pHoEH\n",
       "tgMrroGXE3pCt7S3HT5AR+uN4LhuZylh3EPbs/HtirUfQ05Z/uC6pf1q3/ZFY9YkyYqyDu2lj0AI\n",
       "RxZPUCcMDb05NOSx22RVNHLQe5h1yypN5aC7Sl5uj8ymL7cGkWK8Jg5rNx6o94SBZCv3QyKM9Gba\n",
       "k8Q5TfXSHMXlEa+at0GZlsyZaU8bvIDFGa69puvv/Rxeq+Ts2vs0lOV0/hB/yVU6eoGD9sKKKpx/\n",
       "K/SU95o15JTNpQv00Lr4KJyimHSNIjPEPp2m9DQkv1K7mAcF5oBGFXYO7jLpbDC3967VuUe0UbW0\n",
       "JwbrMyngG9Z2WUit5gDM6BvzYxp550bqxPIgl/O0TXsC854/xa8hckIyZ/bOhRsXocNR/FruP3dj\n",
       "cjTDcgBjuOXux+62ay96O4KwLTeO8jf7EVm7jP78cx1eqYBSxtC/QHgZeqqgiW43qHcD/BIu12r4\n",
       "MwlX1GkGpH+kqWMCokdiRbcHcZc0I2Or+FkXrM6tNbtlkM+wiMV004dV3DGX9vxgSXPLPzYgdkPX\n",
       "OGgcnIXEGI3989/Y93ucoyWPc2qaOLclCucRT4qTzmDZj7MuzHkP097fEEQITzgHu6uprJpluQwQ\n",
       "IexOHFxo01789zSK05YW8OaRcnwbrvxs3zogZV8CvAgqns6UixGD4gdVsnM9xk6hD1fOfQzdGWrx\n",
       "XEolW9VWUXKXzi/Ek8dg5HiP++nVcDAzXmMZW8XOcqLx/GBoFl8aLkWyjvg5D5/92KU9X1jS3PKP\n",
       "DYje0D0OJsp4jUOijLRd0/CW1x6LPM7xKdCeKrZG4TziSfEKWC7EmSCKcWZ7LNCBP1/hCf/ef6EJ\n",
       "IpFjuWKIiH03lDfatAc/xTsnALflE3hOT9ZwR7W6PgxG2Tz6lTJ5EF/Vj2fIPiQueop0iCbTl17H\n",
       "fcwnStHnHUXqFsNT81na8c5L1631GIfT0OGjPMvYadYf/nh2MelYv2pLrnHu1d/3yDrdrT0/WNLc\n",
       "8o8NiN7QrT0T5aM8P+8QRp0HBsk8db9Te/I4wzmz33lWAIXziCfF/S9UhTgTRDHO9zPtqUgVUXL1\n",
       "EjgPYiWamwOhfYXCLUh7fzpk1x4WyTyA1ZkIxolWVLzrNwn9YJT1wEJLezRs/bV1ujzHhGaZRxF6\n",
       "IIo0MROOfdjWTsWvOR+aCMd71Cz/uGIc4diHWbiizPL8piabs3C815KiRM7smxqjfD4+ngqjsEah\n",
       "uRWKlqXznnKJXXvY/graF5DCG9UdmQiSeJq4kJX1wKWFQqGinGlu7SXR29k43YEeoTPncl3yKLK+\n",
       "ODs9eK7fOHAVlI5Xc8Vbe2Kwln9cv7MzkXx/f8ffAjku1wUJV2PpnFui8B1uQlEiZ5xM7Y0n4c5i\n",
       "52Ek+5cTNHfqXFhMtQd7ndo7GzqnYPxWBJCGVJVsfOMNZ1p2NuwnjX5bwQEetrFwyThVc1cg/R/A\n",
       "wZ3pbXcRNv43VE8E2x1EdIQsHujbtOGfb48EsAY6fpUh+/QOk805GEozihI5k+8ThvbCm6G3quRR\n",
       "LLhgE82trMLHaEmr/LkLwuDQ3iGA02BkS/nOYgrWI6mmahC5aC0tg70QJpK7cBP7QRCK9vqM0zG8\n",
       "8gitLKIViWEeRdhuZ4nYXcP9gViGN4t5+h9HgvwO1vDPt0fCj28ExbaL3RWSOQdEaUJRJufFdu1h\n",
       "q7pyz6B4j/+mxpbvOvQMbdunI5H2l5FUO39z08OhaVoGV4N2PXkFby0sIq3PQhFfhp7iDb1leFl8\n",
       "g7nL7VFEmVVo+iFb0uOL4/8DZ8Lbrr1Q0Z3jzdRessSJlB5VVjaIXuco3oO2ta3ptGnTnuqR89Ge\n",
       "lreLlEn1ohZrnra1zU97ra1u/n/u43aRqtyLOtz2atsEbH49e3IXqv4/jXq27da2idl/AfdCUbU9\n",
       "sfxPAAAAAElFTkSuQmCC\n",
       "\" style=\"display:inline;vertical-align:middle;\" /></a><br>(see <a class=\"ProveItLink\" href=\"../__pv_it/c43045c66a90ad2845515a53b96b010eed9af05b0/dependencies.ipynb\">dependencies</a>)<br>"
      ],
      "text/plain": [
       "rightwardCommutation: forall_{l, m, n in Naturals} [forall_{(a, b, c, d) in Complexes^{l} * Complexes * Complexes^{m} * Complexes^{n}} ((a_1 +  ...  + a_l + b + c_1 +  ...  + c_m + d_1 +  ...  + d_n) = (a_1 +  ...  + a_l + c_1 +  ...  + c_m + b + d_1 +  ...  + d_n))]"
      ]
     },
     "execution_count": 2,
     "metadata": {},
     "output_type": "execute_result"
    }
   ],
   "source": [
    "%proving rightwardCommutation presuming []"
   ]
  },
  {
   "cell_type": "code",
   "execution_count": null,
   "metadata": {},
   "outputs": [],
   "source": []
  }
 ],
 "metadata": {
  "kernelspec": {
   "display_name": "Python 3",
   "language": "python",
   "name": "python3"
  }
 },
 "nbformat": 4,
 "nbformat_minor": 0
}
