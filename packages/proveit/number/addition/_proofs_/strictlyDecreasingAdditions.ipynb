{
 "cells": [
  {
   "cell_type": "markdown",
   "metadata": {},
   "source": [
    "Proof of <a class=\"ProveItLink\" href=\"../../../_context_.ipynb\">proveit</a>.<a class=\"ProveItLink\" href=\"../../_context_.ipynb\">number</a>.<a class=\"ProveItLink\" href=\"../_context_.ipynb\">addition</a>.<a class=\"ProveItLink\" href=\"../_theorems_.ipynb#strictlyDecreasingAdditions\">strictlyDecreasingAdditions</a> theorem\n",
    "========"
   ]
  },
  {
   "cell_type": "code",
   "execution_count": 1,
   "metadata": {},
   "outputs": [],
   "source": [
    "import proveit\n",
    "context = proveit.Context('..') # the theorem's context is in the parent directory"
   ]
  },
  {
   "cell_type": "code",
   "execution_count": 2,
   "metadata": {},
   "outputs": [
    {
     "name": "stdout",
     "output_type": "stream",
     "text": [
      "Beginning proof of strictlyDecreasingAdditions\n",
      "Recorded 'presuming' information\n",
      "Presuming previous theorems (applied transitively).\n"
     ]
    },
    {
     "data": {
      "text/html": [
       "<strong id=\"strictlyDecreasingAdditions\">strictlyDecreasingAdditions:</strong> <a class=\"ProveItLink\" href=\"../__pv_it/071f63b1d9606fcad9e1b5ad074da38ffc8a9b400/expr.ipynb\"><img src=\"data:image/png;base64,iVBORw0KGgoAAAANSUhEUgAAAvIAAAAZCAMAAABkWToWAAAAM1BMVEX///+/v78QEBC6urrMzMxU\n",
       "VFRmZmZERETc3NwyMjKqqqp2dnaIiIiYmJgiIiLu7u4AAAB/uxFxAAAAAXRSTlMAQObYZgAAB6RJ\n",
       "REFUeNrtXOm6nCgQdWRHtvd/2rDKIoh22/dmvjQ/xo7hVFFyKA8lk2V5sBGlFF2+7dv+0gYsQbdH\n",
       "LarvQ/22v7xRtOinKa//349EKPbfm6lE1NfQoOE/MfyPuwFYGbMiukj0004keMFUBEmmQKJ8zsxS\n",
       "PEL5Jw3+QtvAmxFAVF/TszHbTwz/FTcSGYNsI2zKKaAMk3TRciXmY7M7dILhC+Ek0LZTftuzAtOP\n",
       "UP5Jg79D+fciSJgau9lp+InRv+ZmJYFSBkzNx2cDjIGfi2HkhL0SDmspT0kSOeQZYfOkwd+h/FsR\n",
       "CFFfk94wZrzT0bf3/APEuZshFMZkCuv1cuhpybivCWaeCeWWE9l/hdE6/TfhRFCm/J6NMH+G8k8a\n",
       "/B3KvxXBqutrnDs7kWaI4bc1wgBx7mYIFSbwTtaqqO3JjcFZZJBnQrnlRK9dJdkIsiacCCooLzfq\n",
       "2wPlFhWX4mMGf4nyb0QAWH1Ne+JlNUZ/mvITN0MoiUxS9Tpte1rbOSUL/hnKnzsh/PjAEZyEE0AF\n",
       "5RdDXHuiXhkp8pzBX6L8GxHgrb6Gx2wlKTNjofwQ5WduhtAgACgj+qynzb/kxbV4HTBxsuEGzTCd\n",
       "hhNAJeXDKiH0McrXBumFbU4vY5zgruiNMZzPKf/6I2GyvoY0g91eysgPU37mZgS1mlcIgZU874mm\n",
       "ph+g/MQJb16em+5taJpwAqikPHD/0Wx5jPKVQZrTHWhqxpKsqyJU4AUe8yk9SbFwnn5P4Odo/2Sq\n",
       "CDgxGGNELlUoVlBffZyrF5hJo0LyGco3bq5Do/bVCp32ZMcizQOhzJ1UMqYQ85vq+zqEE0Al5T1T\n",
       "hbwzTsgwthbEinWH8pVBUsq0rRr9KrW7uGW9Hd7GxK3OzfphYsDL03YGP0WHv6weieeSDbZON33j\n",
       "SVYU8kL7lQ7iGxtipD5C+drNHWjSvqJJsE1PVW4TAH0olJmTNoPneAnpz+MhnACqKO/mVl2rQGth\n",
       "E550CXpx75TmvZIeQGGwiAiv5WxwE3v4RZkyarIfcGLZnI9j2vLdJeZCIiB7dZVTeIEeUb56JBiF\n",
       "dxQtRzgw3qE8MqttuXzIC55g5ppa/eVSRX2IaN1ch6bSZC7YdHuyshi00rdDuepkQHlfqumJ1EM4\n",
       "HcpbCsBrHzAEAVRrSwUpxYKHlC8MZj0MFDdrkZPSCwyuWf/v9gPO00pqeVyOrjsXxAsIEGgHQvgy\n",
       "y/AhPKNHlK8eSXiBYlWNcGB85fXVOlqhBWi6lw/5R7L8wc1lKEzZEDXCs+kpCs2xoadCmTsZCRvH\n",
       "3+MGpBNOR9hYgqB4EgELIKwnIbJyTff8z/0m5JCKEeWzwYJUCtDipYVN2jzoQHZR2Q+4SCthURqH\n",
       "FqPw3S1ztcqfe/3fRRMNfICmbKiZcgR2dboRSkarERZjq96qsr4uOpFfperbnCf68KM9uXRgVuum\n",
       "N5MDaCpjU8NOe+r8lhZseTkUfc9JQT8/C23cVtHrSTiSHSnPQwZbtARuiTjdv7/z0z334LI/m0s3\n",
       "LeGI8smgFf1leakooK3NEQ2/YWTFZmGnFQad7abvrpwjd5E75yMlJ/CEFhLoAeX3CJyiEUKgUPHK\n",
       "IxwYT1W0dKUozSBJ39GnPNFJm+w/il99ZrVuejM5onzUvnBlk3VFlWFcL1SqtPBfCGUaSe2kpF+n\n",
       "SOm5WNdtjuEci5SOgMEv1X5luay22073aFXqcPJhs2+eAeWTwUCuMALthNoeX2a/3kla2A84K54Q\n",
       "Ury7f3b7l5DhiYC76MaX4AktNznc2677ULeQbVwAxQgHxoGqrsY1HYpvrsFLPIlnRPKP4lcXcXDT\n",
       "m8k+FJNwCIsxORcpktjNgsql8BdCmUTSOino51MO6Jcu4Vk4AdRQflekSERxXWwM3D0vh6DyX2iI\n",
       "CJSnUqsR5ZNBniivwt4K5UmCpYQJlM/2eeTsRoWEA8p3thpJ2U3gkM0qNsUj8eXuWBApRjgynrZc\n",
       "67Co/xktf9ivdGbyprN5z+e1fD+QJOG7Bw6mJZfDgYN6wqDboTkhtIDyHsb2zxpVWX4BUIwovyc9\n",
       "Uu5EZH6poX2TIfaOhf2Ac+KBw97nBtCrxFlVg/gVOCBzyhcplAd5A6sRjoynk09yu84TcJvyc0Rv\n",
       "Jm86Ay9Q/nYoU8BOPzc5rxxYjqAB5amJJHRFSPfNlsZ7KwTWM6IV5e20ziivVZY1/qDfEq3abQr3\n",
       "3zJwwZBsP+BiIbBDnh6hvI4PO9QJXG43KE+9YqBBWuYRDo33Dw+f8uQDrZnJD7UfCKWg32vfS/Xh\n",
       "8PAx/bmtAiQbjfUefw971atT8R+w8KuBdx6Alz4qKBpplc3KYxXJbrXNqvYjQe7LVrYfcO5zz6Y1\n",
       "wuTAHnzUdLFWGc6RnsMxuE75jflvr1Ee7CMcG0/PlPbrvtQZ/Pz/O9PM5GfY+BOhFPQrEs6NlkAj\n",
       "YXPIhy0hopLttw7luwfuOl96WWNfnJ+EmS33c/gZWih1erLg/An4hyrq67c91AR8HWSn9Rrl4b1l\n",
       "1aG8JpesHuvM5K09zymcf7n477YZ5eXyLuUXLq9YRVdwZ93vwNF34r+Uf6ip3r9jIy+8jnpFmRPc\n",
       "duFA0Bi+6e/E/6PN/Ts26A8gU2DRrYrR/QAAAABJRU5ErkJggg==\n",
       "\" style=\"display:inline;vertical-align:middle;\" /></a><br>(see <a class=\"ProveItLink\" href=\"../__pv_it/071f63b1d9606fcad9e1b5ad074da38ffc8a9b400/dependencies.ipynb\">dependencies</a>)<br>"
      ],
      "text/plain": [
       "strictlyDecreasingAdditions: forall_{m, n in Naturals} [forall_{(A, C) in (RealsNeg)^{m} * (RealsNeg)^{n}} [forall_{B in Reals} ((A_1 +  ...  + A_m + B + C_1 +  ...  + C_n) < B)]]"
      ]
     },
     "execution_count": 2,
     "metadata": {},
     "output_type": "execute_result"
    }
   ],
   "source": [
    "%proving strictlyDecreasingAdditions presuming []"
   ]
  },
  {
   "cell_type": "code",
   "execution_count": null,
   "metadata": {},
   "outputs": [],
   "source": []
  }
 ],
 "metadata": {
  "kernelspec": {
   "display_name": "Python 3",
   "language": "python",
   "name": "python3"
  }
 },
 "nbformat": 4,
 "nbformat_minor": 0
}
