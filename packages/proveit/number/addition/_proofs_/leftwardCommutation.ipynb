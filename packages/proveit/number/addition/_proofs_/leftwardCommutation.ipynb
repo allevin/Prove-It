{
 "cells": [
  {
   "cell_type": "markdown",
   "metadata": {},
   "source": [
    "Proof of <a class=\"ProveItLink\" href=\"../../../_context_.ipynb\">proveit</a>.<a class=\"ProveItLink\" href=\"../../_context_.ipynb\">number</a>.<a class=\"ProveItLink\" href=\"../_context_.ipynb\">addition</a>.<a class=\"ProveItLink\" href=\"../_theorems_.ipynb#leftwardCommutation\">leftwardCommutation</a> theorem\n",
    "========"
   ]
  },
  {
   "cell_type": "code",
   "execution_count": 1,
   "metadata": {},
   "outputs": [],
   "source": [
    "import proveit\n",
    "context = proveit.Context('..') # the theorem's context is in the parent directory"
   ]
  },
  {
   "cell_type": "code",
   "execution_count": 2,
   "metadata": {},
   "outputs": [
    {
     "name": "stdout",
     "output_type": "stream",
     "text": [
      "Beginning proof of leftwardCommutation\n",
      "Recorded 'presuming' information\n",
      "Presuming previous theorems (applied transitively).\n"
     ]
    },
    {
     "data": {
      "text/html": [
       "<strong id=\"leftwardCommutation\">leftwardCommutation:</strong> <a class=\"ProveItLink\" href=\"../__pv_it/9dfec61e203d50f8f0b2a03bb9c4a5a2cee3d45c0/expr.ipynb\"><img src=\"data:image/png;base64,iVBORw0KGgoAAAANSUhEUgAABPYAAAAaBAMAAADGY8+AAAAAMFBMVEX///8QEBC6urrMzMxUVFRm\n",
       "ZmZERETc3NwyMjKqqqp2dnaIiIiYmJgiIiLu7u4AAAAU9Wx4AAAAAXRSTlMAQObYZgAACWtJREFU\n",
       "eNrtW2uMW0cVPn6s7bWvr1dNVYr4EdO0FRBKjNpGC/yI1apCUKVZQSuRBIgLyEWkzRpp1Y1a6Brx\n",
       "iGlp11Lpr1DVoimh2pY1BEWoSVor6Ra0POKqYYUi3DiohKhJ2M2GbJJ9xMzrvmfsmeRmf4CPNN65\n",
       "c+6cOd+53zzvXQB5eaRRgK50xRcJNo6q3F7vRqwr/skQNFW4py9jv6jS5I+0lpRuT7WU+tkLLTVH\n",
       "e1sLNHOQj/saiSKq9kG7KswHKfeIO3+U5F4S/9Gqy8G9O1jyR/r/o3R7aDSrcvs/Wmkl8/qaWZrp\n",
       "yXBxXyNRRNU+aFeFmeAegpfx9TOS3IuX0Z9Yczm494y0WzISWFS7f2VNaYxuKbqzZoZlilzc10rU\n",
       "ULUP2tVhLhLuPYp+ozlJ7pEbH10O6iWqNLnlX6IKfIXOdkcjF5SsRFuFjvZtBfGL3haFrmAZNzg3\n",
       "ycPtE2ZPgQuV0FPDrCtoYsxCD4WYJwn38CjWU5bda+BeuXE5uBdo0uSWnaIKfEUve5SH+5SsaGc7\n",
       "27cVxOa9LQpdwTJaYZnjPNw+YfYUuFAJPTXMuoImxiz0UIj5OOGetnt4+LvS+9zJ4eHhZdnufoQl\n",
       "ONDYW1d6Do4KBvgNU9+7T8FKeOmb1zdluXegMT6rwr1E46i5VoqUObh9wuwpcKHqyD1X0MSYO3PP\n",
       "jRmnIYC5fP6oNPdS+fwjleXg3iaWzszCaJ/Kc3BWMMCv3KEvKVgJXCxM1/n23x/b421wRoF7+rF0\n",
       "zFwrxQc4uH3CbLpqFLhQdeSeK2hizB2558GME+Le3QAPSXMvnIGIygFzf+0KufcTltBIPZ5TeQ7O\n",
       "Cgw8XukcK8tbQSud5CWuJnQdPO1tsKjAPTRZWWulXlyzp0QkC75itlw1ClyoOnHPHTQx5o7c82DG\n",
       "CXHvZtCLoG9oSnEvmIWT2K2M+BzHcRXJXCH3rqNJQ/hHEYC10is1WuG9yw7wvWil06rKW3mhD1IL\n",
       "XM3xKjzsbbBiediRe4cv2NZKwT4vbp8wW64aBRRVKCfJPRY0UYMVCQ+FmHFC3EtCAg1Ot4nOhH74\n",
       "Bfj1V03uobQf/T5mqLWWc2BbMx9yTMmBK51zZ2mKoUG/lYE718s+B1YhWHeA75lDvbgmb2VLDkYW\n",
       "uZoN3AbTlocduTdah5S5VgrNeHH7hNly1SggqEL31yW5R4MmbDAt4aEQM06Ie4laEo15L/Gqnnrg\n",
       "y/BWvBlvWtzbD++iX2uA3+Ic2BKX4OfG/voPu/5atc5jyOXEzjc/bm2TTz+5frNL6+Ze6jyE8ELh\n",
       "eVL4pVLp7VLpB15HLQWrQNZRaC57+kYylyUXSF+VtnKsirsqTzPHbbDJPLRadIlN0RqAdZfbcc8n\n",
       "zMxVWwFF1Vtv66lllgVN1GCzk4ftMDPu6cU72DrDc9b0tSf+DX+qDti5dzKUdfSYY84q4ctkTsak\n",
       "vX0b9Fes8ytyuTMXSN9i+rC2GXrSpTVv/yBNqUVIXNTSDKXEGMAqxGqOjhc4B5GLIG9lZQYGizxN\n",
       "dIHX4JLNw47jHhpK3qgftM+5PQ0iOfAVs+WqueEiqHplxz0WNEGDSzIeCjGzORceugv94F6ubV69\n",
       "K7E3w3IAE/jOQ88+budeZAhtla3thu5yLtCHtyOEtL+vQrCCTX8U2cvQy3DmDH6REkQr2EOgPQ7w\n",
       "Mad2u2noYZoCsxA5Hyt4UWKXdCNjDxitkCo4wMcuwPQ5kLcyWtBbGSscNg2aiTVegx7uWWabLgak\n",
       "YXBgB40waC6Gy2HWZTBbrpozH0bl5Z7usG2bWUnQJn7zWnbf16EtZqNcB1c8hZg1uteA55AzIdz/\n",
       "Tq+pJbNaluUy9IXPofjpT9u41/sVuorT1+f/jjl8tvR9rPrnGG7lvanBLD6Zx6QNfgo9tcK7NXJy\n",
       "PcEuk/Ac1Gv4eFobgFXPos7p1O7/hIHmJZoS8zC+0O9lDdn84wMD8xSAKViFTzrjqy3qo2UFK4dr\n",
       "Jy/ZwmHT3APwIq9BD/dMs4ZtQ/FGJd7aU6QR9p6xyGAG46SkLWbLVXPFj1F5uWd66jJLgqYfXIQj\n",
       "8Ca0xWyUm851xMzOWCCAX1/hAf+J30EqQ6KBcwW6azgElV027sGH8MkJwLdzcbwYj8/Dgzgs7wTR\n",
       "BB69AcZreCuMSZs4jWttxn1xIyIavTyBRr2t+F1yGdHz9b8Qq3btpLm0vY2lA397/cEdnOdwA97I\n",
       "5VjGPjjQCntd8f3z23eDghWtcX3GFg77AnxsX5PXoId7plnDtqFINJ46cWOBRBiNLWkX92Qw05+O\n",
       "mE1XzfcaGJWXe6anbrM4aNFTRThn7gYEmM1DgJwrnkLMOGHuacjDCLnpXtR3YmWa+zCEpvL5rYh7\n",
       "3zlj5x4mzM0Ag5kePE3HLsMgMhfO6ghV5BxsKUCoSEhL6USDcI/jEsv9Ayb3OFrcIQo0MZFe+zDZ\n",
       "yl3TKFqxwtHhnZrdttQ7NRZh3js1vzF7CqTXe2wFX0Vz4o/bY5Z6p+bATN+pMci3498VqO+MBGnu\n",
       "gaCepeNe8DN27mH5KehnIYm3aKk6rMR/SPed7sNbD8Q9TNrgTeYOOIFmZ9sl6ThogLtplUiLO0SF\n",
       "JjfK1aLn4FSsYPaCfO7JWbHCwauymv8chN/fuRQ4wgBjwMHtK2ZPgck9oacOs4FMIhedSbfFLPRQ\n",
       "iHnMxr3pBGwvRGcQM9+K09yKVfBZyj2YdHPvVojOwfQ2ZHg6G8Jb+WnSW0dy+twpCOYoae9DatqJ\n",
       "J8Jl+yWO8MDnUI86hdd7HC0R5zdUz6udDuoz3LiqWTHCISeKHtII60WPwm/M3rFI7X38CBr5tFzF\n",
       "X8wEt8G98MuwrhbMwTuwdjfNbarBCcT24I/SEAYX984AoKXdK5XthWQ28gHEVbSE/NX2QiAXn5/E\n",
       "PZeQ9s7d7IMgtJ7baLskbMRbjNCmAuzjaYkM2byDx0Y3q8H8PO/LHEUrRjikRNVDGuGw9/2kz5i9\n",
       "BPjleaVvf2+FZCb0rYK/mAnuIZuq5sn9Ir/V9U6NSrIJ/aXfTjXX1aKlI03E1ei9r6GLUOmp9dug\n",
       "J01IC/qr+bvI3beQ71TNS+wEWu19EeD9qW+kOVoWoypN/9Oyh8ON/wfMe8DJvVDBm3OKyb1E2UnS\n",
       "mv0i5iVtV7oC4hHePDJ15ATc03MOktI/BmN3dqPaFUXudZaG+f+5P3OQVHMwNtuNalckFn+NI1dW\n",
       "URN/GhVvduPaFSn5L939hFtr0wbhAAAAAElFTkSuQmCC\n",
       "\" style=\"display:inline;vertical-align:middle;\" /></a><br>(see <a class=\"ProveItLink\" href=\"../__pv_it/9dfec61e203d50f8f0b2a03bb9c4a5a2cee3d45c0/dependencies.ipynb\">dependencies</a>)<br>"
      ],
      "text/plain": [
       "leftwardCommutation: forall_{l, m, n in Naturals} [forall_{(a, b, c, d) in Complexes^{l} * Complexes^{m} * Complexes * Complexes^{n}} ((a_1 +  ...  + a_l + b_1 +  ...  + b_m + c + d_1 +  ...  + d_n) = (a_1 +  ...  + a_l + c + b_1 +  ...  + b_m + d_1 +  ...  + d_n))]"
      ]
     },
     "execution_count": 2,
     "metadata": {},
     "output_type": "execute_result"
    }
   ],
   "source": [
    "%proving leftwardCommutation presuming []"
   ]
  },
  {
   "cell_type": "code",
   "execution_count": null,
   "metadata": {},
   "outputs": [],
   "source": []
  }
 ],
 "metadata": {
  "kernelspec": {
   "display_name": "Python 3",
   "language": "python",
   "name": "python3"
  }
 },
 "nbformat": 4,
 "nbformat_minor": 0
}
