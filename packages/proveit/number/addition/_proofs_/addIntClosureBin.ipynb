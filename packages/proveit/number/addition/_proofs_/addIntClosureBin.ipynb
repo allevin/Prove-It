{
 "cells": [
  {
   "cell_type": "markdown",
   "metadata": {},
   "source": [
    "Proof of <a class=\"ProveItLink\" href=\"../../../_context_.ipynb\">proveit</a>.<a class=\"ProveItLink\" href=\"../../_context_.ipynb\">number</a>.<a class=\"ProveItLink\" href=\"../_context_.ipynb\">addition</a>.<a class=\"ProveItLink\" href=\"../_theorems_.ipynb#addIntClosureBin\">addIntClosureBin</a> theorem\n",
    "========"
   ]
  },
  {
   "cell_type": "code",
   "execution_count": 1,
   "metadata": {},
   "outputs": [],
   "source": [
    "import proveit\n",
    "context = proveit.Context('..') # the theorem's context is in the parent directory"
   ]
  },
  {
   "cell_type": "code",
   "execution_count": 2,
   "metadata": {},
   "outputs": [
    {
     "name": "stdout",
     "output_type": "stream",
     "text": [
      "Beginning proof of addIntClosureBin\n",
      "Recorded 'presuming' information\n"
     ]
    },
    {
     "data": {
      "text/html": [
       "<strong id=\"addIntClosureBin\">addIntClosureBin:</strong> <a class=\"ProveItLink\" href=\"../__pv_it/b2c96ac04fc243f878808d0bd5d9361a44c183220/expr.ipynb\"><img src=\"data:image/png;base64,iVBORw0KGgoAAAANSUhEUgAAALQAAAAWBAMAAACbN6vkAAAAMFBMVEX///8QEBC6urrMzMxUVFRm\n",
       "ZmZERETc3NwyMjKqqqp2dnaIiIiYmJgiIiLu7u4AAAAU9Wx4AAAAAXRSTlMAQObYZgAAAspJREFU\n",
       "OMu1VU1o02AYfpO2aZuk2Q6ygVBpURD0soMXZdLiBBUFA/4gzkNRTBVx9lA3wb8qDiJMLQxBELEI\n",
       "ZcyD9LB52C45eBAnUg+iKMUcisqGTihOynT4/aVp2pj1oC88+b7vydcn7/f+fAX4f2auvmUzg5vJ\n",
       "sb/zZTyZ81L2JSnarBpFjwMtZPjjbz16zcD8JF7f9pIOmRTtdgO/beGkURNyAuGH0TKY8pKeZbDt\n",
       "Mxvr+OQF5+5AAcT8I8JjfwJ5L+l1DLbdpwO/gh5KN10s3Kq8w6PfhCwOH+LliZGRy17KfI6iXVok\n",
       "eTpNEzJmh2xIMCm/pGnvvaTRCQkgOxPPOKRDe6cMgCKZD9vKcuklHhA/AJBueKi7ZNGg4HvhnNPr\n",
       "xRTUAO6Redr+wSeFpA7xG0Cxj1tko7CmeFKlUy5GcdWAw07phyasBYjjqdJUCAN+cjjER0AyGvRN\n",
       "vG36kBHJiAvsiF0xiv0AH5zSRwB+ACTIcaOVCk0j8OomMiJeMiJ2nH4iPN34zZSh/xI4pZdAqRFB\n",
       "XX+t67ik3wD/i0k3tVQIUBAmCK/ktiDi/MwJ/MXlKVOmgVBZPIDLEwSXIfxdcXhdh8CKFZByQ3pS\n",
       "pD2O+fQO9OptEBepVJaTtL3krX1W2A0CpQ7+3LhDugYcqpznZL7PUg4mkadiN+Xvok/4VR/+rlCS\n",
       "y9vIjvl5a6+oUozBA7XgkN4DBxuZ/2pdU0JmCJSjKcpzJRxMCUeL6wuktmuaVoLCE7jCCrJMkZ1d\n",
       "fybmkK5O4/xfp86OslPGT/Vod3pUyssoi4um8AqVTBdEjCrRGzdwKoj1MrR1IzGr0cO7WYW08MCZ\n",
       "iX7zQiaCCp1UZSBAPCX2gsF5gTfiVXJv4gbPD84dg4TBDxZAOY7Wz3Y+Pptc9VLF9qUznraOiGPd\n",
       "ZMEkhbvt6oj3Zdx3XWRwM6mvI17+t/+6fwA7hLztde3QrAAAAABJRU5ErkJggg==\n",
       "\" style=\"display:inline;vertical-align:middle;\" /></a><br>(see <a class=\"ProveItLink\" href=\"../__pv_it/b2c96ac04fc243f878808d0bd5d9361a44c183220/dependencies.ipynb\">dependencies</a>)<br>"
      ],
      "text/plain": [
       "addIntClosureBin: forall_{a, b in Integers} ((a + b) in Integers)"
      ]
     },
     "execution_count": 2,
     "metadata": {},
     "output_type": "execute_result"
    }
   ],
   "source": [
    "%proving addIntClosureBin presuming []"
   ]
  },
  {
   "cell_type": "code",
   "execution_count": null,
   "metadata": {},
   "outputs": [],
   "source": []
  }
 ],
 "metadata": {
  "kernelspec": {
   "display_name": "Python 3",
   "language": "python",
   "name": "python3"
  }
 },
 "nbformat": 4,
 "nbformat_minor": 0
}
