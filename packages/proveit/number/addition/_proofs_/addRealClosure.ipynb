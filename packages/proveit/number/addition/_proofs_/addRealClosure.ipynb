{
 "cells": [
  {
   "cell_type": "markdown",
   "metadata": {},
   "source": [
    "Proof of <a class=\"ProveItLink\" href=\"../../../_context_.ipynb\">proveit</a>.<a class=\"ProveItLink\" href=\"../../_context_.ipynb\">number</a>.<a class=\"ProveItLink\" href=\"../_context_.ipynb\">addition</a>.<a class=\"ProveItLink\" href=\"../_theorems_.ipynb#addRealClosure\">addRealClosure</a> theorem\n",
    "========"
   ]
  },
  {
   "cell_type": "code",
   "execution_count": 1,
   "metadata": {},
   "outputs": [],
   "source": [
    "import proveit\n",
    "context = proveit.Context('..') # the theorem's context is in the parent directory"
   ]
  },
  {
   "cell_type": "code",
   "execution_count": 2,
   "metadata": {},
   "outputs": [
    {
     "name": "stdout",
     "output_type": "stream",
     "text": [
      "Beginning proof of addRealClosure\n",
      "Recorded 'presuming' information\n",
      "Presuming previous theorems (applied transitively).\n"
     ]
    },
    {
     "data": {
      "text/html": [
       "<strong id=\"addRealClosure\">addRealClosure:</strong> <a class=\"ProveItLink\" href=\"../__pv_it/be150254dd2769f90b5d1c78d4fe0f81fa0c04250/expr.ipynb\"><img src=\"data:image/png;base64,iVBORw0KGgoAAAANSUhEUgAAAV4AAAAVBAMAAAD87ZsyAAAAMFBMVEX///8QEBC6urrMzMxUVFRm\n",
       "ZmZERETc3NwyMjKqqqp2dnaIiIiYmJgiIiLu7u4AAAAU9Wx4AAAAAXRSTlMAQObYZgAABERJREFU\n",
       "SMfVll1oHFUUx/+7yX7NzE4ai4qIzYpChTx0hFprwWZoRB/EdkyJWIq4CG7tgzEPJSsWTRSh0aJZ\n",
       "QSEghbBW2r5sA2IomNaVYiktxDG+WHHbFYoNqGlia3RFe71fs3t3t7ObQV88cO7MnDNz5zdnzj3n\n",
       "Av8zKbf06t9uXd00vVKp9OUCQ3RUaudG6ub3MPvZebjs/LzfRFoqye+dbvdCWyiTS1OBeZN/Khc7\n",
       "GzgnMn+8flDa8zjGbO/682osWvFymxeyG+RNGrED8x6/rs7V4IzG7I69B4Q9jxE6xtL+vNw30u6F\n",
       "n0ll6UBc1XPF7xHF0UH+VgM61cjrYGhE2PM8KpGcPy+P/a52vOukUnmbLKmeD/0eURzx40RxmGvE\n",
       "4USpNObxfhQV9jyMI9nsq2jBey6bzbptcMNjQtkKdXtuBOU9GSJqwu3l4+Y5Jb6Ml9nzwEom810r\n",
       "3q5M5sV2KygyJZTKqDXxa0De2LU4UYvCx9w4pObD9hFhp7z9wJ5WvJ0WosM8iBX/5VYUSuV5PPsX\n",
       "PWwKwBt1IqSoeCa5cVjhDX9/QNgp770wx+pn2jyY0m8te7xhGwv8POQVncmjgwfrnwilhNJFsQaf\n",
       "/wY88EQA3i+gE0fx3M2GH5X1dlfpLWmnvEnoyseZnw4WjXQBhWp8aYWe5edPrki/rqHgGLtmt33p\n",
       "rdOulFDgag4b2H2HVs9rVhAmaoXq43ClUnW9DThD0k559WJSSfaZ9Ytl43xE5Z3FRZ4OF5aln/LO\n",
       "zSVmcEvYaeLd0d3Ni5PgfXp8/Ovx8TebYVVH53J3T10N5Lwb1Xo2sLHGa47RC2N372F9xoLBCIyH\n",
       "HpxWeBdE40qup4uY+xnvKfSbrubFN5QTisTaxcVREiy+721dvEJroIcg8+EXlTf+U7GaD9izDfh5\n",
       "QzFpG7boLYZVOK3wRvelxKqli5j7Ke/AFNyEkzS8KYtC8QOFTpLhm/Cyf2jCGxSHeQfr4b9XEegu\n",
       "gUe9qPB22P3Czng/oP/itRPosjQHWwSvpm2v8Sae4T1oHSamhV+PPHIBZlrLRT/xyogjNPYom5/k\n",
       "mnlNliRXXW9QePex1H2pUkWQ9cycV+vZMVYuRD1DiG1mHsf9iOfwcCaTmTas2NzFGi/u5OlAE9MW\n",
       "fl3bf7qhX7hCCbmBTkKI1cx7G4t+2htqji5C02wHIdc8BOAN7nh5Z3W/s2LFX6hwO+M12K9aixmM\n",
       "hnFZxBf3nFJ4eaM5DHzlCr+uJbY0bIBul1qVQ0H6mxCJ4PVjvP9Oqa7Qin4sW8wS/bwzGjqHBa+h\n",
       "5C9kOqBvSfhZPWvoeOekNvP2ttoxq+IhQPPZvDK7xxtO4xtsOgLzOXpxHx3sBt5L12H0LOe4f/Jo\n",
       "4fJTZb/9JJdXJnYH3VN6CLI7NcsCary1j6D5Wd+PW/qrwbGF/hfyWAt7vs2zesla3Uv2S/33olv+\n",
       "9pPz/wB2AFjm5Pa0PQAAAABJRU5ErkJggg==\n",
       "\" style=\"display:inline;vertical-align:middle;\" /></a><br>(see <a class=\"ProveItLink\" href=\"../__pv_it/be150254dd2769f90b5d1c78d4fe0f81fa0c04250/dependencies.ipynb\">dependencies</a>)<br>"
      ],
      "text/plain": [
       "addRealClosure: forall_{m in Naturals} [forall_{A in Reals^{m}} ((A_1 +  ...  + A_m) in Reals)]"
      ]
     },
     "execution_count": 2,
     "metadata": {},
     "output_type": "execute_result"
    }
   ],
   "source": [
    "%proving addRealClosure presuming []"
   ]
  },
  {
   "cell_type": "code",
   "execution_count": null,
   "metadata": {},
   "outputs": [],
   "source": []
  }
 ],
 "metadata": {
  "kernelspec": {
   "display_name": "Python 3",
   "language": "python",
   "name": "python3"
  }
 },
 "nbformat": 4,
 "nbformat_minor": 0
}
