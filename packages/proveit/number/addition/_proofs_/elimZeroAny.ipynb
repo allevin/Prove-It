{
 "cells": [
  {
   "cell_type": "markdown",
   "metadata": {},
   "source": [
    "Proof of <a class=\"ProveItLink\" href=\"../../../_context_.ipynb\">proveit</a>.<a class=\"ProveItLink\" href=\"../../_context_.ipynb\">number</a>.<a class=\"ProveItLink\" href=\"../_context_.ipynb\">addition</a>.<a class=\"ProveItLink\" href=\"../_theorems_.ipynb#elimZeroAny\">elimZeroAny</a> theorem\n",
    "========"
   ]
  },
  {
   "cell_type": "code",
   "execution_count": 1,
   "metadata": {},
   "outputs": [],
   "source": [
    "import proveit\n",
    "context = proveit.Context('..') # the theorem's context is in the parent directory"
   ]
  },
  {
   "cell_type": "code",
   "execution_count": 2,
   "metadata": {},
   "outputs": [
    {
     "name": "stdout",
     "output_type": "stream",
     "text": [
      "Beginning proof of elimZeroAny\n",
      "Recorded 'presuming' information\n",
      "Presuming previous theorems (applied transitively).\n"
     ]
    },
    {
     "data": {
      "text/html": [
       "<strong id=\"elimZeroAny\">elimZeroAny:</strong> <a class=\"ProveItLink\" href=\"../__pv_it/7371b688ea78cafdc6daf8d42441b11ce8f9c2bf0/expr.ipynb\"><img src=\"data:image/png;base64,iVBORw0KGgoAAAANSUhEUgAAA00AAAAaBAMAAACZTqrNAAAAMFBMVEX///8QEBC6urrMzMxUVFRm\n",
       "ZmZERETc3NwyMjKqqqp2dnaIiIiYmJgiIiLu7u4AAAAU9Wx4AAAAAXRSTlMAQObYZgAAB61JREFU\n",
       "aN7tWmtoFFcUPpvNZje7s5NQrbV/mtW+scEpvmKhZFGK0OIDrFBNwdXCWhsfCy0qLTVbKSRF7eaP\n",
       "IIi4FFPrD5OlrcFW1EVNK0qbFVtb2q7ZgqSCj0RjEk1i03Pn3nnc2dmdGRofP3Jg1tw7Z77z+O7j\n",
       "3BkBrKUs+xuMy0OU6mzSjlpwPFMPWbxhyNniKfc/DZWk8Gfa/QukYjTjSH/0nva3ECrg75iI3pLT\n",
       "QIhnsnfIk9x9zoonG1pFZSZe7vBYxS7WHZb4HnfCGXjNbV1jqbm/YyOcJWvhA1nKLuTpIGl/bsWT\n",
       "Da2iQh715cYq9mBIvGDoqko7QnCN6Bo+c3/HRjhLNoQLxMcu5GkT+SdixZMNrWISIMvIUZOJESvw\n",
       "wD/m84ipHwM4wvd4R2PWj+tuNAzqOoWkqb+2XLL0lbNkjcIHQjwjF/JERrmn2YonG1pFBxWZSk/l\n",
       "95cX2gb2mPYq6r8ATI9xPcJNG4/rbnRW6lNaaeqvLZcsfe2sdITCB0I8IxfyJBzYvPljyzrChlYx\n",
       "eYFszXEyULN/rnfE07FseyZPvR+gtpnrKb337sScg5wuvvjJIq13rZm/vGkbmHxsime8JUsUQyBr\n",
       "6YU8wUA0+od1XW6tVUxW4OXB+St2hXw3nfB0/RYkKo3q3iHkKcUBuO7EejIOclrVKOrqsBYzf3nT\n",
       "1piG2BTPeEuWKIZAWuhFeJoPsMaaJ2utmiI7+Q6yH+J93xD4B5zwlEhCW8SUpyQHgLtA8K79bJBd\n",
       "oEtbxneTH0+TLGHFX960NaYhNsVX3pIliiGQ3fQiPD0DYhzExbniPMlaAO9zSzD/1kIqjPAYGSl4\n",
       "EOgcBN8wFp8RmzwJGGUiBZf/teJpXyVUDGu4Vtkox4E/qtmeYuIvMw2z7WaYxqYmknnGLNlGoYFw\n",
       "nk2hPAUhgCO9Om96LAsFHs+pPFEtr1oZdWK56ebqJFeRuXaLnOCQp0QGKvrA/WbGJk8+XDJGJSjJ\n",
       "WK17KyPQMKLhWmXDM4ADXZv/tSb+MtOzFtrNMI1NTSTzjFqyjyIHApxntZSnQDqYMyzR4uFlaSHS\n",
       "Cq3afKJaZaqKB12CLxT9M/t/TW3SHifNjj2nX1pu5Gl0CdT2YgwZttDsnMwWGk7eamo639T0KXmm\n",
       "H9yjAP4lvDqpI9JcT1eKjGeKqz1eEDc4LM+XYjwx07AXbGKy2Fr40Jgl2yg0EDOexPhMtiKr0v78\n",
       "jZxwzqPniWppoyGILsEVvK4uextmbICa5Fn1ntzcE3GFnlV6niTzDVdpHMMn4idZPm3Mp4oRCNwR\n",
       "Qr50Xl2+j6/LqyTYGNdwLXfrPii7w68u4MnKEmH+MtMswzYwWWw7+NCYJdsoNBCzdQ/WzMMfwqFQ\n",
       "N21/oF0CgQxfYe6clI4nqqWVEj0ErFSCwOqtN+DHFJQkyf0X8TmJNkul6/QtBpF1ZP/CZFeFYOOS\n",
       "xnyecsqPaMjnLSjr98UqYrw6nnMP8T2JmIiLVB5PKqQB1zcIPX3Q8fX34aPvYPOMMWnrVNP5GVYx\n",
       "c4YM09gG+dCoJfsociAKEdSzM4ynXRidm1Sg16ang2EhTN+jCFLrKT1PRAtQ6/LF9WR0T5/cJJFj\n",
       "ewc5Gc1FyNiltHwU7mDNIOyCTFpXXpLF60TSP/pNPI8nuXKVf5SalHkdGIK24Rp42UBrsFmcYDhN\n",
       "pq/chTyeNEgDrjAiJprFkyM4M0+b1eUtqum8DKuYarnNbtDY3JW8r7IlByhyIAoRXF0OLkQMkOm+\n",
       "9QhUSJjOVyhPfv8iHU9Eyx0H7yRoI9lvS5ZVQkkY5MPrNTIo6sigX45zkTa7cTbVKyUg2VxJMRDI\n",
       "bu+eHMvnaZLy83eEH3bHfj++qhHaDTyJK76V+B4hO1Ey4UmFNOL+dH4+eK/GoU/OxDYjT9Wq6fwM\n",
       "K5jyH/oxJccWMJayxJIDFDkQhQjq2TbGk0AKBBn1DRy5vmZ4NRqNpgTJ+/MlHU9EC3kp64OVhJBE\n",
       "rmwQeZNLPkoMLS9e45pqLUgeeUIr6O3uT0zqC6rzPbb3J3b2T+Ho/8z0vZFWY9jeWdjpJGXqmUMU\n",
       "RoT+vRFzbAb5nYAjt6EELtP5BE8f1/Ek2w5DTyV0kT/vgauX8HQxGq0vmaoenQJ/IZtT805S8pvO\n",
       "s/n5LPiZh/9UNUEqpF5izlPBL13cDZcUiHh7Q+BPmfpryLBNzBmmnjlEYUTInpFL5aknAFti3l4k\n",
       "8gc/lMYoT0KrgacSLO4j4sBVJPk21EawLcoAixCKjsCO0mZ9s8B3jXJnH/XEXptf7RziNuCMEiJJ\n",
       "uWwt+F1jr7M3ZJhIM3GGohAhe3YFdDyVHsQTCdJwAWYfAHE1eRWJP2EDT2IGXBH/0FlvI27Aq2Jk\n",
       "2C0g/bMOsC8BuDst1zU1+UBvzPtVv7PPpa/be1PvFPc5CEru92I0hnx/ZfkwUefI1dKDZr0OURQi\n",
       "ZM8W6FNHRDuf+3F/Mrw3onIJ3E3bF25wj8CWnVhkeELQHSL8HYrOk+/jgckjaU1dCgneR/BISsDk\n",
       "hZc39ah4Jnun58kdK/Z+j8p3yvrNjiF4fRmth3G5z6LnSQBrnrrZv3MsipdxuX88FXlfrv7/vfI0\n",
       "t0SGxzP4QKQ66zTTp/QNf248hQ9K/gMTDPY3/XK9dQAAAABJRU5ErkJggg==\n",
       "\" style=\"display:inline;vertical-align:middle;\" /></a><br>(see <a class=\"ProveItLink\" href=\"../__pv_it/7371b688ea78cafdc6daf8d42441b11ce8f9c2bf0/dependencies.ipynb\">dependencies</a>)<br>"
      ],
      "text/plain": [
       "elimZeroAny: forall_{l, m in Naturals} [forall_{(a, b) in Complexes^{l} * Complexes^{m}} ((a_1 +  ...  + a_l + 0 + b_1 +  ...  + b_m) = (a_1 +  ...  + a_l + b_1 +  ...  + b_m))]"
      ]
     },
     "execution_count": 2,
     "metadata": {},
     "output_type": "execute_result"
    }
   ],
   "source": [
    "%proving elimZeroAny presuming []"
   ]
  },
  {
   "cell_type": "code",
   "execution_count": null,
   "metadata": {},
   "outputs": [],
   "source": []
  }
 ],
 "metadata": {
  "kernelspec": {
   "display_name": "Python 3",
   "language": "python",
   "name": "python3"
  }
 },
 "nbformat": 4,
 "nbformat_minor": 0
}
