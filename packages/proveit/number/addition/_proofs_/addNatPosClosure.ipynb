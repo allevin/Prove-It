{
 "cells": [
  {
   "cell_type": "markdown",
   "metadata": {},
   "source": [
    "Proof of <a class=\"ProveItLink\" href=\"../../../_context_.ipynb\">proveit</a>.<a class=\"ProveItLink\" href=\"../../_context_.ipynb\">number</a>.<a class=\"ProveItLink\" href=\"../_context_.ipynb\">addition</a>.<a class=\"ProveItLink\" href=\"../_theorems_.ipynb#addNatPosClosure\">addNatPosClosure</a> theorem\n",
    "========"
   ]
  },
  {
   "cell_type": "code",
   "execution_count": 1,
   "metadata": {},
   "outputs": [],
   "source": [
    "import proveit\n",
    "context = proveit.Context('..') # the theorem's context is in the parent directory"
   ]
  },
  {
   "cell_type": "code",
   "execution_count": 2,
   "metadata": {},
   "outputs": [
    {
     "name": "stdout",
     "output_type": "stream",
     "text": [
      "Beginning proof of addNatPosClosure\n",
      "Recorded 'presuming' information\n",
      "Presuming previous theorems (applied transitively).\n"
     ]
    },
    {
     "data": {
      "text/html": [
       "<strong id=\"addNatPosClosure\">addNatPosClosure:</strong> <a class=\"ProveItLink\" href=\"../__pv_it/1e243ad48d1db1293859942ab7ce455206a8bd620/expr.ipynb\"><img src=\"data:image/png;base64,iVBORw0KGgoAAAANSUhEUgAAAuUAAAAbBAMAAAApE+yNAAAAMFBMVEX///8QEBC6urrMzMxUVFRm\n",
       "ZmZERETc3NwyMjKqqqp2dnaIiIiYmJgiIiLu7u4AAAAU9Wx4AAAAAXRSTlMAQObYZgAACEdJREFU\n",
       "aN7tmntsFEUYwL/bu+u99rYgPjAGW4MgBgmnMYga7cUiPlA5tVWrogdqMUHlTAg1KnIaH6dRekZJ\n",
       "jBhpDIqvlPqAoIAclKIBhRLim9L1H22EQkuRl4X1+2Z2b2f37rhbYkpsnGT35mb2+2bmt998883c\n",
       "AfyfBiIFnIs83JE4SZ2VKgcF8zK6NeE1rqOpRJH2k9bZi2HwMGdj8UVBLZG5cnL6qizA21iedx92\n",
       "LO5YZFRn7zVy1NFEnKadmtjA8+uPzzzUwpkzC95cnHmYPuSWgWbuySA4nUH4iGPxwiLy1P2TJj9j\n",
       "Lx136Gtl3Wwno5Q6X07sPv1v/sUbsVZ2HXhQhWlH0zpz+JEz/4DyC4ozD6Ig+NWBZv6o0Oqy/Y7F\n",
       "jyPiigPca1ssghqOUtIiTlqgmTS+T/+WtNU+5MZWegw7h88587n0ES/OnD0zd8B9Sy1eq3Q/oR21\n",
       "eJ1Cq/ofgmuxilikqtCaq6LWwmX76N5YQiNGRVCj1+bv0Ys32R67MYKdHwLXpp5OpbC9vSpjTkbk\n",
       "TZewhtJcqBtw5qfgdTbP+pdpluirkAdYZGZtIhaptUhta5OlMKDF6OO2EhoxKhb/xXyKYbS/8Y9d\n",
       "r3T8xDJXLfBEkLlh5+EMYy4vbWiYV0rcsqmhoWHAwxc3GpCkT9g1Lk11yNwmYpGajtc21VLo0pj1\n",
       "fuGAecVBtjgaRlvGMu6XjVarL8YgwGRO7waZw4H6+l9KYV5eX/9w00AzD2F/vbxVX59fq3TG3C5i\n",
       "kUJP/9gjNqM9AAWnRf6KgGZ1y0E2UeZmX3R1oGWCwFzu4cyrAWaWwhwnSRmagS/yb+61ioYtaOP+\n",
       "DDehmFfLOGNuFxGl3PtXLd9hK5za75S5x6Y/wOakybMabpFbTObSMc78XFCSpTCXotCFuceZLA97\n",
       "A7Nra+7jL3D6iJnL3Sc0DSptqjB9uDxLDTvo4k+sgxC5W3e8dOa6SF6IIXQK3VFrYaMRfhRvRK/w\n",
       "22IcifgqcYG5R62mMg/X28eZhyGUye9Ln7sFPrnH3Ie2w2q8M32uI8ag4BPW1NAtcE4/vJMrmEfX\n",
       "xNrK0Gmmm40Lqho4jibJ2JX4EVk5Y64cxiAuDu6a9pKZ6yL5mZchiVC/tbDzGBtMooRG9IowXy/O\n",
       "E9cfkEZ0dOhraDUo0a4hprPbx5mHMuE8Ufeu2rthY1ANqibz1bDTaOtm3fHVYGhKy87incxwukTB\n",
       "tkUbLjDjHEGXHG+GZrluddTCnKmay15LOALHjD1Nlrmnd2iFht0IMBzeVOqV4alU7obxjlRqWyr1\n",
       "LIgi2SRKleNdPmItbGQhnytRrBGzws/jojMszN1Rwc7hMrfJHK2AMVeSeY40QjOe2gPftsRE5l2k\n",
       "i1w6SD/38uJfAaaRKpphqBpdvim4KO6qHIWV5+PYIrxIwlW9FeTNXmgOrIAhFuZc1ZhmYFHszwJz\n",
       "F4sFXr1yzx9aj8G8JDs3RPLaeRVObs9ha+Fa5luWlNKIXhFiviUYtfqWdpG5nI7n2DnMvAor7hq7\n",
       "JLSC5CkH0EZPtL72hMi8bA4anIuROI9PKaUP5BfovR+iLxE6TzAFPZFutsnF4L/N0FUHcgzkSy9p\n",
       "aYZqX1Jkbqh6g3YqKr0B7lvoNZPrU86kuX8wDw7qCTsMUmzMDRFzbCJECs/nJ62Fv9H0DSXzNKJY\n",
       "WjIrlArq/koE9umXxFJmGm8QmcNSgbnuz2EhNrB7fCYcZWc7lIvwPWxrcPdlAvMAmfRE+vYu8BBM\n",
       "+nvVZHrApR83oBs2BcOwENoJVx1y1nV5021k9c2tzdAeWq8KzA1V8E0GxpvMPXE9/ppDj80+nItD\n",
       "oZ3m3nbjJjA3RMyxicwxPHcPV62Fvs4X1Se/hzzMSbfZklAx79Dbvu9ioKzvh+3ZWLE7G6DOIKMz\n",
       "QxTpoM7cheJPrYTyCBOgXIJHIK3QtERgDmcBRTnY17OhkTUZTIJMm8TyfdwC3ElB8He08llkXd6r\n",
       "TV01MWIeDN6kxOWPRTs3VOE+JiHYeYgCJtocaDizpmpaXy7z08lA48bNZJ4VMccmsLpNmzQplbF7\n",
       "EHm69n0iH3PSbbYkimysOHo7gtyVBNod+Rlt33P6rBrTS3ImcyM+B5m4ToELwc8c5xQ4B9w/1NfP\n",
       "Qk5PdovMt+D1OrmWoUO1KI9/2aoA5eQHXYy5XZC47WDMWdGaDDH3bdkJtrjFUAXSS7A3AWcahtEj\n",
       "rlAAjvy5kcyxFZDKKSzZn5sbiRbmyvW9f+BaPW6xJbQszpylYbAC5ks8VyspUW6u0uWq7TeL0XyR\n",
       "2coKytMgEW5PPxsZSPEcQUxtnrRRJMeuYyvqyK/szA1V7gdUcEWYzbDUZz84yuKQCuEYay8wx1ZA\n",
       "SirIvGAj9gpXxBtDG//o+HsRf4vA3NeDzDYG4bEE5oaNhGs4OthkZ97NXAtU9eCjMF+FeTHMKBVp\n",
       "mEBeoylHEGjVrDOK2mhFReZys505VwXu+xMsPs8uO9fbT5ADjs98jLE5SM4bmQ+uiyJFd5d7EwJz\n",
       "HOR2mLAUIyjM3ZmB3/GdSc9X6tsngTnG8p37Qa7oTVdlgo21NS+yqOvPzhG0QnsrcwQBRtFRPi+S\n",
       "kOqtMAYXlqiNua7KN5kdMq1anqV8BYizEfPv/+X0dxNjbA7ekvNGRoMX1ydPkV+NN9pGw5OxrLyH\n",
       "btm699edczrnUTPjzxUsnsSN4uicwxx2UPcE/EfSZ0Xqt+dj7k4UPG/RA9V4zqOmzKIT6efxfy/x\n",
       "JWHwJAqac5nLUIQ5vJXzqCkT/feZw5uDiDn7mc1XKqWO7P9b5MJnuUH1RDpSpAtyevAwp9OkcR1R\n",
       "+D8NePoHuVvr3gNG/e0AAAAASUVORK5CYII=\n",
       "\" style=\"display:inline;vertical-align:middle;\" /></a><br>(see <a class=\"ProveItLink\" href=\"../__pv_it/1e243ad48d1db1293859942ab7ce455206a8bd620/dependencies.ipynb\">dependencies</a>)<br>"
      ],
      "text/plain": [
       "addNatPosClosure: forall_{m, n in Naturals} [forall_{(A, B, C) in Naturals^{m} * Naturals * Naturals^{n} | B > 0} ((A_1 +  ...  + A_m + B + C_1 +  ...  + C_n) in NaturalsPos)]"
      ]
     },
     "execution_count": 2,
     "metadata": {},
     "output_type": "execute_result"
    }
   ],
   "source": [
    "%proving addNatPosClosure presuming []"
   ]
  },
  {
   "cell_type": "code",
   "execution_count": null,
   "metadata": {},
   "outputs": [],
   "source": []
  }
 ],
 "metadata": {
  "kernelspec": {
   "display_name": "Python 3",
   "language": "python",
   "name": "python3"
  }
 },
 "nbformat": 4,
 "nbformat_minor": 0
}
