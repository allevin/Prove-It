{
 "cells": [
  {
   "cell_type": "markdown",
   "metadata": {},
   "source": [
    "Proof of <a class=\"ProveItLink\" href=\"../../../_context_.ipynb\">proveit</a>.<a class=\"ProveItLink\" href=\"../../_context_.ipynb\">number</a>.<a class=\"ProveItLink\" href=\"../_context_.ipynb\">addition</a>.<a class=\"ProveItLink\" href=\"../_theorems_.ipynb#elimZeroLeft\">elimZeroLeft</a> theorem\n",
    "========"
   ]
  },
  {
   "cell_type": "code",
   "execution_count": 1,
   "metadata": {},
   "outputs": [],
   "source": [
    "import proveit\n",
    "context = proveit.Context('..') # the theorem's context is in the parent directory"
   ]
  },
  {
   "cell_type": "code",
   "execution_count": 2,
   "metadata": {},
   "outputs": [
    {
     "name": "stdout",
     "output_type": "stream",
     "text": [
      "Beginning proof of elimZeroLeft\n",
      "Recorded 'presuming' information\n",
      "Presuming previous theorems (applied transitively).\n"
     ]
    },
    {
     "data": {
      "text/html": [
       "<strong id=\"elimZeroLeft\">elimZeroLeft:</strong> <a class=\"ProveItLink\" href=\"../__pv_it/dfcef4dd0901a93eb3b0e5d1b131cf8dfa6c7f530/expr.ipynb\"><img src=\"data:image/png;base64,iVBORw0KGgoAAAANSUhEUgAAAKkAAAAVBAMAAADP89MSAAAAMFBMVEX///8QEBC6urrMzMxUVFRm\n",
       "ZmZERETc3NwyMjKqqqp2dnaIiIiYmJgiIiLu7u4AAAAU9Wx4AAAAAXRSTlMAQObYZgAAAiZJREFU\n",
       "OMtjYKAJeIBPkmkDBGMHh3ALXwAxTuPQZwLBT3cHY5NlNWDAJbwSxOjDYWofBF9ieIvVgAbsuoDC\n",
       "ZUCKPQG7NPcGMOa+wMANNeA5ivwp7NqAwhzAgGWdgF2a8QEY8zowMH2HiMxGkX+IXRtQmGd5eXkt\n",
       "jgDQgGD+AAbmn9hMZcPuGpDwt7S0WzhMjYLg+gUMzL9RTWX3XiTOwMAVgKYBIezMwJCOw9QeCAaZ\n",
       "+gvVVMUCtg8MDJyg0GbtAAMHVGEVBj6UuHzT5RsNZQpBMKap7H8YWIExzCSA5lSEMC8D9wGoKN/W\n",
       "0APMZg+Yu6D8TxCMGQIsHxh4gemD+QOqqUjC3Ad4Yflrm/q7BzzVDAxaqKaCYusPkBnR0XGxo6MF\n",
       "yOJPYHhvgGkqkjBfAygHle5KZuABBb7yZKBPoKokIRiYsjhRU1b9Bob5wLwODgHWu2CQgCac7gQ0\n",
       "+jr7PwYOkIZ95xB250AwMBdwXUAx9f0EBg9OAwYetMyFLDwVqIMlgPkCgxW6qUuh+CbDQwMUUzkO\n",
       "cF7lwkxZyMKMwADmV+B2YLBNS0vboKSMUKULxU9XOzOgpgHvTWabgKYooCdXhDAPMLLeP2A7V/AE\n",
       "HI+vEeHKWADBCEBsjoXleHubBywgA5ijChh2Q0V5FkAwAmijaF+N3VS4MFP06RgGviQQ89W1FAW0\n",
       "khAH4GsgSpgLGK4oAiVQjB2wFJAijBT8GyAYO9iMUxgAJhmtZ0uecUsAAAAASUVORK5CYII=\n",
       "\" style=\"display:inline;vertical-align:middle;\" /></a><br>(see <a class=\"ProveItLink\" href=\"../__pv_it/dfcef4dd0901a93eb3b0e5d1b131cf8dfa6c7f530/dependencies.ipynb\">dependencies</a>)<br>"
      ],
      "text/plain": [
       "elimZeroLeft: forall_{a in Complexes} ((0 + a) = a)"
      ]
     },
     "execution_count": 2,
     "metadata": {},
     "output_type": "execute_result"
    }
   ],
   "source": [
    "%proving elimZeroLeft presuming []"
   ]
  },
  {
   "cell_type": "code",
   "execution_count": null,
   "metadata": {},
   "outputs": [],
   "source": []
  }
 ],
 "metadata": {
  "kernelspec": {
   "display_name": "Python 3",
   "language": "python",
   "name": "python3"
  }
 },
 "nbformat": 4,
 "nbformat_minor": 0
}
