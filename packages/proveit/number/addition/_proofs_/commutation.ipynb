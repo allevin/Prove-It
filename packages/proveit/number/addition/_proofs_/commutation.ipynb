{
 "cells": [
  {
   "cell_type": "markdown",
   "metadata": {},
   "source": [
    "Proof of <a class=\"ProveItLink\" href=\"../../../_context_.ipynb\">proveit</a>.<a class=\"ProveItLink\" href=\"../../_context_.ipynb\">number</a>.<a class=\"ProveItLink\" href=\"../_context_.ipynb\">addition</a>.<a class=\"ProveItLink\" href=\"../_theorems_.ipynb#commutation\">commutation</a> theorem\n",
    "========"
   ]
  },
  {
   "cell_type": "code",
   "execution_count": 1,
   "metadata": {},
   "outputs": [],
   "source": [
    "import proveit\n",
    "context = proveit.Context('..') # the theorem's context is in the parent directory"
   ]
  },
  {
   "cell_type": "code",
   "execution_count": 2,
   "metadata": {},
   "outputs": [
    {
     "name": "stdout",
     "output_type": "stream",
     "text": [
      "Beginning proof of commutation\n",
      "Recorded 'presuming' information\n",
      "Presuming previous theorems (applied transitively).\n"
     ]
    },
    {
     "data": {
      "text/html": [
       "<strong id=\"commutation\">commutation:</strong> <a class=\"ProveItLink\" href=\"../__pv_it/0b81c56b3d709c9f300a458382349fa4bdb1290c0/expr.ipynb\"><img src=\"data:image/png;base64,iVBORw0KGgoAAAANSUhEUgAAAOcAAAAWBAMAAADJFJavAAAAMFBMVEX///8QEBC6urrMzMxUVFRm\n",
       "ZmZERETc3NwyMjKqqqp2dnaIiIiYmJgiIiLu7u4AAAAU9Wx4AAAAAXRSTlMAQObYZgAAAx5JREFU\n",
       "SMfFVk1oE0EUfvnZ7CbZbIqXakGpVlAUaQ7SgyiNelCJQkCF0hYMKimChz2oFYoYpIdYtAREEDw0\n",
       "CEVEhKW2HizI4klaKPFQBUFYoaComGKxUizBefsmP7O7SW/64Euys/Pme/PmvW8C8D/M2niK3yB4\n",
       "mtrpHtvbbKXXHCV8mG9Jup/DZUtb2cdp13AgCdrhkpeDlCA8wYfxlqTjTWeMMiiuUYVlT0l6OuQI\n",
       "19iXnGnFGTUIddN0/mMN81t0OswyxAv84bPwao6AYUmFVqQ+i1C3MA/BX8EI2pwO2xi6qw4PhVef\n",
       "COrj4eEbLbO7m8NNGrEP7pKz7jCHz8CTNFQgrGazH1qS9nPIqUftIqmSmjYBJp3VgvkenT0pkpJ3\n",
       "JE04CjBUCzLvQXqHY7seWhZJyxlYAXhgM+Vtw/JRWCDaKsQTAil5h3OEnaDlagS1qL+PnRrgPzcR\n",
       "5HWQMiLphAUdbDlnDbDODVfAV2wk5d7+NkIMombN4TZWxsxZM9BjBcb42E9CcBlihkjaB/ALoNdB\n",
       "GmekUg7i6UZS7h1YJkTNWL00fzO82PXDUkcA9oik8QyUE5TIu5spkYvgX/cmjaWhm22lL59/m89j\n",
       "N3PvKqmWQ7W5+vICnumfaUvFCLvusYzwRbYQbhowwUWzutM1kCo8vdJH2zD/voLdpuesxp1y72p6\n",
       "YegIY34vY89FS2rSVphXC/XILxPKBTgeTgikK/bBvXHsNMS2yKqoQ6he7q2y8kHAfdZtwXQAey5k\n",
       "qKUDTtJJgmKGFyPimZ6AM+BuGWyJYEFKCqTcu9oy4DPwHKI4yZeQMoey2ayxo6u+yD6CnJrqmRJJ\n",
       "l2awBG85xYGFr6UGRXHg3konAVSW/LIVWmCCGoeYuWQX27f6mfp0gluRSIhdMtje+OApg1V97T1o\n",
       "XddjrNODuH6gX7d1G7iii6ouXK4R10071/xufcpBywzMD0Kv6R8ognYeB76+u9i58dWG9sXzavM2\n",
       "lKEGKbKNRCLCzlQYvsLhbcdcI3Ky2VzMYlAXb3zde6psELxv24R7bKQZ6XOOxr87/+p/2V8j2uKv\n",
       "pHwHLAAAAABJRU5ErkJggg==\n",
       "\" style=\"display:inline;vertical-align:middle;\" /></a><br>(see <a class=\"ProveItLink\" href=\"../__pv_it/0b81c56b3d709c9f300a458382349fa4bdb1290c0/dependencies.ipynb\">dependencies</a>)<br>"
      ],
      "text/plain": [
       "commutation: forall_{a, b in Complexes} ((a + b) = (b + a))"
      ]
     },
     "execution_count": 2,
     "metadata": {},
     "output_type": "execute_result"
    }
   ],
   "source": [
    "%proving commutation presuming []"
   ]
  },
  {
   "cell_type": "code",
   "execution_count": null,
   "metadata": {},
   "outputs": [],
   "source": []
  }
 ],
 "metadata": {
  "kernelspec": {
   "display_name": "Python 3",
   "language": "python",
   "name": "python3"
  }
 },
 "nbformat": 4,
 "nbformat_minor": 0
}
