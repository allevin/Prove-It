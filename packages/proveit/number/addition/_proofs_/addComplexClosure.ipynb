{
 "cells": [
  {
   "cell_type": "markdown",
   "metadata": {},
   "source": [
    "Proof of <a class=\"ProveItLink\" href=\"../../../_context_.ipynb\">proveit</a>.<a class=\"ProveItLink\" href=\"../../_context_.ipynb\">number</a>.<a class=\"ProveItLink\" href=\"../_context_.ipynb\">addition</a>.<a class=\"ProveItLink\" href=\"../_theorems_.ipynb#addComplexClosure\">addComplexClosure</a> theorem\n",
    "========"
   ]
  },
  {
   "cell_type": "code",
   "execution_count": 1,
   "metadata": {},
   "outputs": [],
   "source": [
    "import proveit\n",
    "context = proveit.Context('..') # the theorem's context is in the parent directory"
   ]
  },
  {
   "cell_type": "code",
   "execution_count": 2,
   "metadata": {},
   "outputs": [
    {
     "name": "stdout",
     "output_type": "stream",
     "text": [
      "Beginning proof of addComplexClosure\n",
      "Recorded 'presuming' information\n",
      "Presuming previous theorems (applied transitively).\n"
     ]
    },
    {
     "data": {
      "text/html": [
       "<strong id=\"addComplexClosure\">addComplexClosure:</strong> <a class=\"ProveItLink\" href=\"../__pv_it/ee4108faccc69d3ea5b04f7b78edd2b18290d61e0/expr.ipynb\"><img src=\"data:image/png;base64,iVBORw0KGgoAAAANSUhEUgAAAV4AAAAVBAMAAAD87ZsyAAAAMFBMVEX///8QEBC6urrMzMxUVFRm\n",
       "ZmZERETc3NwyMjKqqqp2dnaIiIiYmJgiIiLu7u4AAAAU9Wx4AAAAAXRSTlMAQObYZgAABEpJREFU\n",
       "SMfVlmtoHFUUx//7TDI7O2msD0RoViNUGqFT0VgLNkMr+kFqR6TQGkoX0S0i6n4IXbFogvhhCdis\n",
       "qCBoMSyV4pd0QQwFk3ZVLNJCXFMoKmy6ithQNU36kvjo9T7mztzNdnYz6BcPnLsz5z+P354599wL\n",
       "/M+s1lRNfLt5ZY/pdZxafyEwRGTJO9ZT17+Gxb+aQYUdn/J7kJZK8mtLrV5oCWd2diwwb/IP5eSJ\n",
       "Bnkqv3jG5vEiPmKBA/68GstWe63FC9kFzkUasQLzHrmsPmu5es9FnP/T4vEi9tGxLe3Py7V9rV74\n",
       "qeOsHEhFVc753aIIEfK3+uGXfR89WgY+sHi8yLMSK/jz8tzvasW7xnFqI2RBVd7zu0UR2o8QRTBW\n",
       "iZ+j1eowO5gO0SFm8XgR+uFc7hU04T2Zy+UqLXDDw8LZDK10XwvKOxUiasE9y8eN086pPcjoSzxe\n",
       "BK5mMt834+3MZJ5vNYNiY8KpDZmjFwPytl1qJ2pT+JAHX5Dpttd5ccq7FdjbjDdqIp7lSVzyn25l\n",
       "4dSewZ6/6E9fAN64HSNlRXmXB7OyuMfe9+KU904Yw/VP2rgjlbipJnnDFub4cchtOr+ObBuouyOU\n",
       "Ek4nxyocvwLcty0A72dIEFtRbmfDz+5kHLvbi1PeJBLKnzM+2VHW0+MYd/NLO/QkP378qqNH+mqR\n",
       "EX3X5JYv5TztTAkHLhSwnl13cOW8xhLCRO1Q/RyuWhXzzUhv8uKUN1FOKsU+sXa+pp+KqbyTmOXl\n",
       "8N2i1PcD6zomcEPYbuDd3tXFm5Pg3ZnPf5PPv94IqwrRxa7uuh7Iee91Tw9E63iNYSrpA72HEhMm\n",
       "dEagP3B/SeGdEwtXci2dxFzveYtOB2w1KprMb6ggHB2r5+eHSLD8vrl5/hztgRLBqYff3AtPRp19\n",
       "g6gH7N1CK3J9OWnpYg2Bbo5/ofDGB1NidtJJzPVjvNNUOuykLmdMWTh+oNBJkr0OL/uGBuSgCMat\n",
       "bA3/3UWguwSedbdI45/TXhae5XHG+w79Fq8eRaep2dgkeDXtMY+3Yzcv+zUYLQmd8xpprRD/WLYR\n",
       "W3jbw+z5pNDIa7AiuVCRg8I7yEr3xSUXwelnxoyb4Ieeq/2Yqcl+hhDbzDyKDWgv4MFMJlPSzbbp\n",
       "WY8Xt/FyoIVpCf2Onob1oiKckGuIEkLMRt6bWfbTcvCETkLLbDshlyQC8BoXXnL3PZHd5MaUiDNe\n",
       "nX2q1ZjAUBg/ifyi55jCyz//IeDritCjv7D6rbNbHHftYJD1TZiDINdjvP1Gta7RivXYWWIW6N87\n",
       "oSGaFby6Ur9wygH9C0KPPJmVmxt3TjjeyNvbbMesmkSA5rN5ZXHJG07jNPoOw3iKntxFB2sZ79nL\n",
       "0LsXC1zH+TNPp3z3k9xeHh0IuqeUCM7q1Ghz8Hi9P0Hrs349bqq7ybGE/xf2SJN4scW9iaq5spfs\n",
       "d/zfW8L0j0/N/ANCu1eOrl2tsAAAAABJRU5ErkJggg==\n",
       "\" style=\"display:inline;vertical-align:middle;\" /></a><br>(see <a class=\"ProveItLink\" href=\"../__pv_it/ee4108faccc69d3ea5b04f7b78edd2b18290d61e0/dependencies.ipynb\">dependencies</a>)<br>"
      ],
      "text/plain": [
       "addComplexClosure: forall_{m in Naturals} [forall_{A in Complexes^{m}} ((A_1 +  ...  + A_m) in Complexes)]"
      ]
     },
     "execution_count": 2,
     "metadata": {},
     "output_type": "execute_result"
    }
   ],
   "source": [
    "%proving addComplexClosure presuming []"
   ]
  },
  {
   "cell_type": "code",
   "execution_count": null,
   "metadata": {},
   "outputs": [],
   "source": []
  }
 ],
 "metadata": {
  "kernelspec": {
   "display_name": "Python 3",
   "language": "python",
   "name": "python3"
  }
 },
 "nbformat": 4,
 "nbformat_minor": 0
}
