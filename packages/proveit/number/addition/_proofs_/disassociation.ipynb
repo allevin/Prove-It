{
 "cells": [
  {
   "cell_type": "markdown",
   "metadata": {},
   "source": [
    "Proof of <a class=\"ProveItLink\" href=\"../../../_context_.ipynb\">proveit</a>.<a class=\"ProveItLink\" href=\"../../_context_.ipynb\">number</a>.<a class=\"ProveItLink\" href=\"../_context_.ipynb\">addition</a>.<a class=\"ProveItLink\" href=\"../_theorems_.ipynb#disassociation\">disassociation</a> theorem\n",
    "========"
   ]
  },
  {
   "cell_type": "code",
   "execution_count": 1,
   "metadata": {},
   "outputs": [],
   "source": [
    "import proveit\n",
    "context = proveit.Context('..') # the theorem's context is in the parent directory"
   ]
  },
  {
   "cell_type": "code",
   "execution_count": 2,
   "metadata": {},
   "outputs": [
    {
     "name": "stdout",
     "output_type": "stream",
     "text": [
      "Beginning proof of disassociation\n",
      "Recorded 'presuming' information\n",
      "Presuming previous theorems (applied transitively).\n"
     ]
    },
    {
     "data": {
      "text/html": [
       "<strong id=\"disassociation\">disassociation:</strong> <a class=\"ProveItLink\" href=\"../__pv_it/e6c7126a6bb025764cd440c01a5d3c01e89a90690/expr.ipynb\"><img src=\"data:image/png;base64,iVBORw0KGgoAAAANSUhEUgAABJQAAAAaBAMAAAATcRvNAAAAMFBMVEX///8QEBC6urrMzMxUVFRm\n",
       "ZmZERETc3NwyMjKqqqp2dnaIiIiYmJgiIiLu7u4AAAAU9Wx4AAAAAXRSTlMAQObYZgAACGRJREFU\n",
       "aN7tW3tsFEUc/nXves+9PRIIkBjt+YBI8LEGIVX/4IIxGo3YGEkERA5NDmIDPZOGElB6xgcVH3eJ\n",
       "j3+QcBoUCSpVDDECcikUTX1wRGwIevRIDBIeFii0CIVzZmf2vauzdExMuEnmdmZ+c9/MN/1m5jez\n",
       "VwD2sLicgVqoBacglA96qV6qjVgtuIZWqHiRkvRf9WMyjdzg4lVvwq9eMmS6+PWky4UslzAikhwJ\n",
       "dhEpKZ35nlFKMfwQO7n3x5ckkR+cL+cNrvGsIVMvc+uKAxQ/oiMiyZGgQrIVNuL8m4xSiuTRI1Th\n",
       "3h8MyREWQzUUPX2lbtiYy/KjlnXsHacwIpIcCWYVKS1Fn8EUo5SUikv5d2cbjZYgubn5fziWatUR\n",
       "VLCa8YTUPmQs7fnHdtyKHVvpcSTLStTZoJayklQNZpIcCfYoUsJzpD7P6nbj5Ws2fyldR6MlhN22\n",
       "0jWOpVp1BCWe9oa0d5Sx9PA/tuNW7NjKYUeyrESdDWopK0nVYCbJkeBhRUrihra255lPcD1tbW38\n",
       "D3JClkSIln9d7ElKO8pbS7bqGMp/adGYigekR3pfmKmXBvKWdt699jcvIx1eUC5aoExkmYlqBkei\n",
       "rCRVg5kkR4I4tgIMptMHmaUUT6cXF/i7bgUSpb5E6LQXKZ08A7lRtuoYqu58pr/kAalhlWQ43kSa\n",
       "zNbABdgsexjplkJkwAJlIstMVDU4E2UlqRrMJDkSxBFJ6V6AhcxS8ssQYLqnbPTiEIaKNF6AyKAX\n",
       "KeUKsDllq46hkFsQ+4sdCXsdffr6Ec6a22lJBqsJ9pEOnIX2MyaoxztweEkjy0pUNTgTZSVJDRaS\n",
       "HAniiKR0E0hZkB6pMElJSMJR3CmH03LYlAt4OU/XJUjcOwShi+iMm2IUgIjGJtcJv1+2TFYEtW4U\n",
       "xC+yI4XRGlHV6wijzFbUzhyAaawjvW5IWXtMUCayzESpwYUoK0lqsJDkSBBHJKUYRNE8udXt6uLl\n",
       "R+HzJzUpobgdfS5XzWJVW318po2vztNVW4LEXAniA+B7rMQogBBarqsyCCVzdQw1PwXtw+xI9YNo\n",
       "zuoLqe+UrR2AqQ+zjnTOsOuoUCayzESpwYUoK0lqsJDkSBBHJKVoMYZWpA+dvnl81hOwJ1KJVHQp\n",
       "bYdD6FNfa+frq88H6onxu/W/dOo3Bkq2e83uW2bbiqxSqjbBdNSpsNLR+o6ON8Z3dNgv4dBmsY9s\n",
       "FvFz4KtSd8RQHUP1deKpz4wUu6jMfNPf39QODmstX7L4QHor1aZ/kRIbUd3gQpSJpG6wkORIkEpJ\n",
       "yt6JCl53UFL0qZV/wg+dTUYpHcV3tQb59+nVj1LxTVkCjQX9OkXJrknVJSbYirQlLE8imjI7s110\n",
       "bBjWkvgwRM+LiVDRssEhqAYZWrLsSHUDEDgPbhtcfNgw0gyT1jj1CdS8Mg69au+YiVKDC1FWktRg\n",
       "IcmRIN3gYOEM9IEvr8S5k9dHt8o0BdCNa+56a4VRSoFWNKl0z1sydA255Ir4vu0EoYAxJyEgmWT9\n",
       "8knlXt1UtExzrIokNiSgpWmVfWyUV38VNWEQwBkInAtl4hmLU4igchkJ7QjMSKEh6B+A7i++Tm57\n",
       "GvM3u90xNNJC3j7SFSOioZU+1IFJZAw1KDCSZSaqisCZKCtJdZs0k+RIUCRuN7yDuuLDc+fE7cVY\n",
       "UkzSlEzu/HdFTtxtkFJ4HnGEpIfT+CJCON3xIjYd610N0U5FfMJdSIyZQ0Xl5rObZmPwDpSsRdtv\n",
       "s5wndxYi1S0O0wyfeJVjrHr0pVSj6Ah7sRHusFTHUHuLR/8CdiRxWMrlpa5h2A+77ZcB4UGQ3s/Y\n",
       "RloDUo/YmleagmPjyBjaLwM8EaUGF6KsJFXn3UySI0F6GQB1yB7F3s/KryAuK9RxKkP86F1QWG+Q\n",
       "ElyDT/oAz6YieFGMXIAFuM1yJYdPd8rt2wlcfS6eQLPFJpo9gtakZtlS1KMuk9idxDFafu3I+Ix9\n",
       "bA6j3kljacI4a3Yc+GbBKthqvaJE3xfLY2TwgPTjvnsheDwLA4rXGEqYrTePP/CZff3XgJSEsQMv\n",
       "vLG6ooyhDqVvCF6IqgZnoqwkVYOZJEeCOGIpiegPG1DqPIR0H8qT1PXg602nm5GUnjtplNJPgO8P\n",
       "oEWux3ti6DK0IDj/AMwFX1YRHxEKcdTuM2VdilAYRyPtMKuHQ0Oztfq4K0Tyd6LV+VXXFyfMrgQJ\n",
       "eAydXpx4IWo2NDuWekTRSHIkSF6cUK9jCv4cjXTfLpDULEFKklVJuMcoJRzeBuk0xPDRJF6CBvzA\n",
       "+yOSEhafcIN2qIuiPdCQdSkyvBK0jI3gNjbmX/yMli3Ve64QqU6OpoKn0Azb5NjOWufmDQuOqRU8\n",
       "hjqUmSxr9yyIslOpRxSNJEeCmwxS6o/CskzwFBLanghJjb4R7idSgh6rlCZCcBD6lyDc/qQP39r2\n",
       "45VUSBHxzUTlxD/s9ueNWZcisP7IJOztLZ90yjqEGpRHpHY0ZcVUAd/ZOoW1nsDIGDpAcSQ6EpIc\n",
       "CSokVSn5N8L0opCCn2HaBpKaU4QjSLrCKwnwg0VKJwHGwuZPCssysWRgHJJerAT1slgg4pu6AXvg\n",
       "eOdswr8i0LIuRUqvkiSSzMfnvP247kHrG1MVyivSRIjJvmcy4Hd8N7Q8N9cLGBlDByiOREdCkiNB\n",
       "hWSrwVS0pT5KN1tenNCzYwUaO77srUwvBjv2V5D0gg8seg3qE4r4QPo0PUOpNkH5fZ2WdSlSwgoa\n",
       "OYURQm3h15Mt/Hv3/wpbVJIGKfky9pTtHRx1ePJmzZFHyC6+Wrh6gkFKokPKRUpSyqQ5+lhTG86a\n",
       "lBhDWfs/uPdMmqOPZG04r94glPdf2RdFh5+QRCq1Ab2qw99R8A8KAGZ9iwAAAABJRU5ErkJggg==\n",
       "\" style=\"display:inline;vertical-align:middle;\" /></a><br>(see <a class=\"ProveItLink\" href=\"../__pv_it/e6c7126a6bb025764cd440c01a5d3c01e89a90690/dependencies.ipynb\">dependencies</a>)<br>"
      ],
      "text/plain": [
       "disassociation: forall_{l, m, n in Naturals} [forall_{(a, b, c) in Complexes^{l} * Complexes^{m} * Complexes^{n}} ((a_1 +  ...  + a_l + (b_1 +  ...  + b_m) + c_1 +  ...  + c_n) = (a_1 +  ...  + a_l + b_1 +  ...  + b_m + c_1 +  ...  + c_n))]"
      ]
     },
     "execution_count": 2,
     "metadata": {},
     "output_type": "execute_result"
    }
   ],
   "source": [
    "%proving disassociation presuming []"
   ]
  },
  {
   "cell_type": "code",
   "execution_count": null,
   "metadata": {},
   "outputs": [],
   "source": []
  }
 ],
 "metadata": {
  "kernelspec": {
   "display_name": "Python 3",
   "language": "python",
   "name": "python3"
  }
 },
 "nbformat": 4,
 "nbformat_minor": 0
}
