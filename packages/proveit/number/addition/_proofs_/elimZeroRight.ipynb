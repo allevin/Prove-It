{
 "cells": [
  {
   "cell_type": "markdown",
   "metadata": {},
   "source": [
    "Proof of <a class=\"ProveItLink\" href=\"../../../_context_.ipynb\">proveit</a>.<a class=\"ProveItLink\" href=\"../../_context_.ipynb\">number</a>.<a class=\"ProveItLink\" href=\"../_context_.ipynb\">addition</a>.<a class=\"ProveItLink\" href=\"../_theorems_.ipynb#elimZeroRight\">elimZeroRight</a> theorem\n",
    "========"
   ]
  },
  {
   "cell_type": "code",
   "execution_count": 1,
   "metadata": {},
   "outputs": [],
   "source": [
    "import proveit\n",
    "context = proveit.Context('..') # the theorem's context is in the parent directory"
   ]
  },
  {
   "cell_type": "code",
   "execution_count": 2,
   "metadata": {},
   "outputs": [
    {
     "name": "stdout",
     "output_type": "stream",
     "text": [
      "Beginning proof of elimZeroRight\n",
      "Recorded 'presuming' information\n",
      "Presuming previous theorems (applied transitively).\n"
     ]
    },
    {
     "data": {
      "text/html": [
       "<strong id=\"elimZeroRight\">elimZeroRight:</strong> <a class=\"ProveItLink\" href=\"../__pv_it/cf7eaf13e1117cbd4afd461ea892c672158ffdc90/expr.ipynb\"><img src=\"data:image/png;base64,iVBORw0KGgoAAAANSUhEUgAAAKkAAAAVBAMAAADP89MSAAAAMFBMVEX///8QEBC6urrMzMxUVFRm\n",
       "ZmZERETc3NwyMjKqqqp2dnaIiIiYmJgiIiLu7u4AAAAU9Wx4AAAAAXRSTlMAQObYZgAAAllJREFU\n",
       "OMu1VU1oE0EU/pJNskl2sxEv4i21gqIIe5AeRGnQg0IRAkWQ1kNQ2SJ42IPag0iDeFiKlIIIggeD\n",
       "UER6WSp6sCDBk1goUVBRELZgUfxL8WDRFvHNzqSb3Z21Jx98ZPbNe9/OfvPeC/BfzPvXZtrlkJpe\n",
       "kfufEtpssZCQuF8gZsvzw8CwPClrAvfZYiqBdSpp7yW+mcgnZDWAS/Sj1uXbmssR2Eex0YbWgN6U\n",
       "pz0H8iRsdlq+nfI4ArvNf0pVpFdhbJGnLZHm98bHryR8ym6BGGu5BuUXcE6elqND/rSsdwmsIwLq\n",
       "0N1tIdaJJpQ1YCaawAOLNeAIMJbAel2gz86txFh/A7f8K3d8q2IjsEDXtRNGo5fq6+TxUbHcyqGu\n",
       "I1uXsfZFj8oD06R3CVpLeI2HJ1rKgKdMiucfHJkVlFyZAoMRVhGo0Hm1Vql7zY92fff0y8CeMGu5\n",
       "jg5VNk46zgvHuSZuaz3OKgIZq9Fg3XPx8RnopDL6b9CXiKjtHBMu7ojODiqrsCoUyL73jUkkApkC\n",
       "GDtM1G/UP7xXniwG7z7P0ZnGsYLZy0pdUKRWfxY5qwjU2T3dpP1MTWnjQJR1hiPfKrwqhnTFWyyZ\n",
       "8coSgayykCKByxWtikOWZbk7+oOofRzq0NzAXJh1eZYKEldj5eoH5tkw00myjpdbtD/49/gl0DVl\n",
       "c8R6S5RMcsd2O37woJdhBMqIjfnuBG0iMkL29j4UEybv7MZ4Hl04BeM0W35+fbay6ST07ZPcHW4q\n",
       "ejnpGnJcEJDbUbk7Y2/y96O6HPLpa8r9D4C/lMGqW/9pmBsAAAAASUVORK5CYII=\n",
       "\" style=\"display:inline;vertical-align:middle;\" /></a><br>(see <a class=\"ProveItLink\" href=\"../__pv_it/cf7eaf13e1117cbd4afd461ea892c672158ffdc90/dependencies.ipynb\">dependencies</a>)<br>"
      ],
      "text/plain": [
       "elimZeroRight: forall_{a in Complexes} ((a + 0) = a)"
      ]
     },
     "execution_count": 2,
     "metadata": {},
     "output_type": "execute_result"
    }
   ],
   "source": [
    "%proving elimZeroRight presuming []"
   ]
  },
  {
   "cell_type": "code",
   "execution_count": null,
   "metadata": {},
   "outputs": [],
   "source": []
  }
 ],
 "metadata": {
  "kernelspec": {
   "display_name": "Python 3",
   "language": "python",
   "name": "python3"
  }
 },
 "nbformat": 4,
 "nbformat_minor": 0
}
