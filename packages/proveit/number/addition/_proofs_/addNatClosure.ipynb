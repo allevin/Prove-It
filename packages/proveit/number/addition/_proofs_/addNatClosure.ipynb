{
 "cells": [
  {
   "cell_type": "markdown",
   "metadata": {},
   "source": [
    "Proof of <a class=\"ProveItLink\" href=\"../../../_context_.ipynb\">proveit</a>.<a class=\"ProveItLink\" href=\"../../_context_.ipynb\">number</a>.<a class=\"ProveItLink\" href=\"../_context_.ipynb\">addition</a>.<a class=\"ProveItLink\" href=\"../_theorems_.ipynb#addNatClosure\">addNatClosure</a> theorem\n",
    "========"
   ]
  },
  {
   "cell_type": "code",
   "execution_count": 1,
   "metadata": {},
   "outputs": [],
   "source": [
    "import proveit\n",
    "context = proveit.Context('..') # the theorem's context is in the parent directory"
   ]
  },
  {
   "cell_type": "code",
   "execution_count": 2,
   "metadata": {},
   "outputs": [
    {
     "name": "stdout",
     "output_type": "stream",
     "text": [
      "Beginning proof of addNatClosure\n",
      "Recorded 'presuming' information\n",
      "Presuming previous theorems (applied transitively).\n"
     ]
    },
    {
     "data": {
      "text/html": [
       "<strong id=\"addNatClosure\">addNatClosure:</strong> <a class=\"ProveItLink\" href=\"../__pv_it/f6c6ebe04005a57ca02e9ccf061e38d5afae48840/expr.ipynb\"><img src=\"data:image/png;base64,iVBORw0KGgoAAAANSUhEUgAAAV4AAAAVBAMAAAD87ZsyAAAAMFBMVEX///8QEBC6urrMzMxUVFRm\n",
       "ZmZERETc3NwyMjKqqqp2dnaIiIiYmJgiIiLu7u4AAAAU9Wx4AAAAAXRSTlMAQObYZgAABCJJREFU\n",
       "SMfVll1oHFUUx/+z2d0kM7OzjaWKCM2KQgt56ARtrILN0IA+iO2KFFqKuBS6xQc1DyUriiYVH4LQ\n",
       "7goKQimEpVJ8SRfEUDDVFVG0gTqmL1bYZoVi90HTxNZKivb2fsydvZvJ7GZoX3rg3J09//n4zZlz\n",
       "77nAfWb1tqrx68713WbAc2rDpcgQXSvNYzOz9jks/uM8XHY8F3YjPZPi51Y6PdARzmxhKjJv6pby\n",
       "5+VWzSrmjyOxcInHy/icxY6H8+osWz31Dg9kJ3gn6cSJzHvmhnqvVWKyOgSkRbyMMTp258J5uTbW\n",
       "6YFfec7KgbiqcjXsEkXoIv+rH37V94lfNCrQRLzMs5IohfPy3O/vxLvZc2ofkiVVORF2iSL0nCFq\n",
       "AWwQP2drtQnOu7U+wnhZvAzzdKHwLtrwni8UCm4H3NiEcDZD3f7bUXnPaUQtuNf4uOOCzO8TTqOu\n",
       "iXgZuJnP/9aON53Pv95pBiWmhFMbt4t/R+Ttvt5D1EXhMx58w68H+0RXThNxyjsCHG7HG7eRHOVJ\n",
       "XAmfblXh1A7h1f/oz1AE3mQ2QaqK8ikPjjZ5E5k5TcQp7+OwJlrvtGNvxthUl7wxBw1+rN0K6p5p\n",
       "GeF0UmzAN/8A21+MwPstDJJVlEfZ8EdzvtnYHR8UccqbgqG8nPXl3qqZm8a0n1+6Qs/y45duqrq5\n",
       "f3bX93KepjPCgWslbGPnnVw/r7WCGFFXqGEOXavJ+WbjinVUxCmvUU0puZrZslg35xIq7ywu83K4\n",
       "tKzqvTN4IJYN8O7p6+OLk+DdNzn5y+TkB0FYVYgv9/W3rIGc90k1v11Tgz6vNUEl88DAKWPGhskI\n",
       "zKefqii8DdG4UlvoJFb0EcvVZX61knD0blxcHCfR8vvRzsWrdA2UCF49/KXy4qekXw84vAv4c1s1\n",
       "5ZiO6C2mPf2dwps8khGzlk5iRXd7synTb0HC8TuFTpHRNXjZN7QgB0WwHmY9/F8fge4SOGVV5dXH\n",
       "RJzxfkK/xXtnkbb1LJ4RPLq+u8nb+wrvQZtRrCi6ldNLyS/kMpIV3v0cgyelIK/FiuSaKweF9wgr\n",
       "3TdXfARvPbPm/eWDpWufv55BY5uZFzCInhKezefzFdPuvnC5yYtHeDnQwnQCuuwXrnBCbiNOCLGD\n",
       "vA+y7Ofk0BTShJbZHkKuSwTgfS685e17YkV2aUPEGa/JPtVGzGA8hisif3jsa4WXN5pTwM9uQJf2\n",
       "kOe+nYzS34R5CLIf4+NjtZaFVvRjr8Us0df7QUd8VPCYSv3CKwcMLwV0aec9D/IOtNsxqyYRoIds\n",
       "Xllc8sZyuIih07AO0j9b6eCs4l24AbN/ubRaX2M/ye3t4oGoe0qJ4HWnoDXQ5G2+BK3P1n7cVveT\n",
       "4wi/F/Z8m3i5w7VGzV7fQ97x/O7NsMPj5+bvADmZU8+NH2ypAAAAAElFTkSuQmCC\n",
       "\" style=\"display:inline;vertical-align:middle;\" /></a><br>(see <a class=\"ProveItLink\" href=\"../__pv_it/f6c6ebe04005a57ca02e9ccf061e38d5afae48840/dependencies.ipynb\">dependencies</a>)<br>"
      ],
      "text/plain": [
       "addNatClosure: forall_{m in Naturals} [forall_{A in Naturals^{m}} ((A_1 +  ...  + A_m) in Naturals)]"
      ]
     },
     "execution_count": 2,
     "metadata": {},
     "output_type": "execute_result"
    }
   ],
   "source": [
    "%proving addNatClosure presuming []"
   ]
  },
  {
   "cell_type": "code",
   "execution_count": null,
   "metadata": {},
   "outputs": [],
   "source": []
  }
 ],
 "metadata": {
  "kernelspec": {
   "display_name": "Python 3",
   "language": "python",
   "name": "python3"
  }
 },
 "nbformat": 4,
 "nbformat_minor": 0
}
