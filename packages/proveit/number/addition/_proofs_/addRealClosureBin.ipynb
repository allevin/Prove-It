{
 "cells": [
  {
   "cell_type": "markdown",
   "metadata": {},
   "source": [
    "Proof of <a class=\"ProveItLink\" href=\"../../../_context_.ipynb\">proveit</a>.<a class=\"ProveItLink\" href=\"../../_context_.ipynb\">number</a>.<a class=\"ProveItLink\" href=\"../_context_.ipynb\">addition</a>.<a class=\"ProveItLink\" href=\"../_theorems_.ipynb#addRealClosureBin\">addRealClosureBin</a> theorem\n",
    "========"
   ]
  },
  {
   "cell_type": "code",
   "execution_count": 1,
   "metadata": {},
   "outputs": [],
   "source": [
    "import proveit\n",
    "context = proveit.Context('..') # the theorem's context is in the parent directory"
   ]
  },
  {
   "cell_type": "code",
   "execution_count": 2,
   "metadata": {},
   "outputs": [
    {
     "name": "stdout",
     "output_type": "stream",
     "text": [
      "Beginning proof of addRealClosureBin\n",
      "Recorded 'presuming' information\n",
      "Presuming previous theorems (applied transitively).\n"
     ]
    },
    {
     "data": {
      "text/html": [
       "<strong id=\"addRealClosureBin\">addRealClosureBin:</strong> <a class=\"ProveItLink\" href=\"../__pv_it/fa318744a46d50b030be8629d7a93ab6427a3f770/expr.ipynb\"><img src=\"data:image/png;base64,iVBORw0KGgoAAAANSUhEUgAAALYAAAAWBAMAAACfwnvZAAAAMFBMVEX///8QEBC6urrMzMxUVFRm\n",
       "ZmZERETc3NwyMjKqqqp2dnaIiIiYmJgiIiLu7u4AAAAU9Wx4AAAAAXRSTlMAQObYZgAAAuFJREFU\n",
       "OMu1VV1o01AU/vqTpj9pOnwRBWEDQUFkfRgiQ1n9AYWJhI2JuIFFoXMgow/qBiJWGViZzj4oDPZg\n",
       "UYYOcYT5gyhI0BdxUKYgoliIMFQQ3fBhKsrw3NybNtma+qIHvuTcc2++3Hzn3BPgP5r59yV+naOm\n",
       "PfGIK43ADHOm63K3CCw1dRs9LCWXcF7K/DgzTE4nMMECI3W5R7xWhFN0yS0JhuRUoO8cTQInaCin\n",
       "61HHdI6qfRT3RIEuz5dxa+gnVqWIMAkuFepx+0yOqo2JezOLvhcCPSiXczb39RAFGqDcGBg4VVeS\n",
       "9QLLuW9bXHxjm0uOfTNu9AELmczbutwHBOT2ayvd3EOP9gBRjblyv1OTvUzpcWAH0FuptnwN7gsC\n",
       "TdnQvItbXUAiiQhXIuvg9r+jXGIUWAu1mupxcR+92TVsx1ZwyL8hpV3ckUX4ivA3MP+DI5dryueZ\n",
       "0wTEETMqEyyo3usyYlFMaiL2jSM4j7ju4pZySGgIWB/TVC5XctmhWQK1UXkZ8WoRfCfcX/fVJO5S\n",
       "yc2dSGOOnZP9+fyLfH6IvLiGZkNwtzhrsKNFcKs55h1/eJjp/euuqbD9Mu7HYvEqjtM6rooOMVYp\n",
       "74Om0OSLkzv82eCaoHc7veC1vMgoZ5RUGJy7oygWH+WYK2B3JOniTmI1nRFLiaDh4A6kqEDwjHCF\n",
       "ukJQC7DGEtKVmVaLW9r5xplfQtiIvIq69A4WpJRdg+pLZw1OsLJhz/koQ4nGGOsNvqSU3prJZPRY\n",
       "9ORTe/FGDrl9atOUuwbbe1hTabQGg52VXrWQDB/5CZxlIxJxzgyV6FUJxI1Zrkmk1c6wL8ux/Fxa\n",
       "Js48Ll8su9qW2lDpGW1bzMFsnAo+mOV6T9p6U9OxULUNzsEtj+Mctdubv3u6B22Gv7sI9ZB1diZn\n",
       "95l/67HW9nIeE5/cQ57rKOntCh8TqGnBrMfELtco4LFM1jlq2h2vru/+Hyn/+Ff8B9ppvxR4Yp/F\n",
       "AAAAAElFTkSuQmCC\n",
       "\" style=\"display:inline;vertical-align:middle;\" /></a><br>(see <a class=\"ProveItLink\" href=\"../__pv_it/fa318744a46d50b030be8629d7a93ab6427a3f770/dependencies.ipynb\">dependencies</a>)<br>"
      ],
      "text/plain": [
       "addRealClosureBin: forall_{a, b in Reals} ((a + b) in Reals)"
      ]
     },
     "execution_count": 2,
     "metadata": {},
     "output_type": "execute_result"
    }
   ],
   "source": [
    "%proving addRealClosureBin presuming []"
   ]
  },
  {
   "cell_type": "code",
   "execution_count": null,
   "metadata": {},
   "outputs": [],
   "source": []
  }
 ],
 "metadata": {
  "kernelspec": {
   "display_name": "Python 3",
   "language": "python",
   "name": "python3"
  }
 },
 "nbformat": 4,
 "nbformat_minor": 0
}
