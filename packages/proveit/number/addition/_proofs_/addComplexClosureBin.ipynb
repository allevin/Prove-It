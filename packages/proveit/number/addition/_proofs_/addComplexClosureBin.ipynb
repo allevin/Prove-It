{
 "cells": [
  {
   "cell_type": "markdown",
   "metadata": {},
   "source": [
    "Proof of <a class=\"ProveItLink\" href=\"../../../_context_.ipynb\">proveit</a>.<a class=\"ProveItLink\" href=\"../../_context_.ipynb\">number</a>.<a class=\"ProveItLink\" href=\"../_context_.ipynb\">addition</a>.<a class=\"ProveItLink\" href=\"../_theorems_.ipynb#addComplexClosureBin\">addComplexClosureBin</a> theorem\n",
    "========"
   ]
  },
  {
   "cell_type": "code",
   "execution_count": 1,
   "metadata": {},
   "outputs": [],
   "source": [
    "import proveit\n",
    "context = proveit.Context('..') # the theorem's context is in the parent directory"
   ]
  },
  {
   "cell_type": "code",
   "execution_count": 2,
   "metadata": {},
   "outputs": [
    {
     "name": "stdout",
     "output_type": "stream",
     "text": [
      "Beginning proof of addComplexClosureBin\n",
      "Recorded 'presuming' information\n",
      "Presuming previous theorems (applied transitively).\n"
     ]
    },
    {
     "data": {
      "text/html": [
       "<strong id=\"addComplexClosureBin\">addComplexClosureBin:</strong> <a class=\"ProveItLink\" href=\"../__pv_it/67897d4fffe99ec8bc86fcb9fe6bf9b0c34cb3ec0/expr.ipynb\"><img src=\"data:image/png;base64,iVBORw0KGgoAAAANSUhEUgAAALYAAAAWBAMAAACfwnvZAAAAMFBMVEX///8QEBC6urrMzMxUVFRm\n",
       "ZmZERETc3NwyMjKqqqp2dnaIiIiYmJgiIiLu7u4AAAAU9Wx4AAAAAXRSTlMAQObYZgAAAuZJREFU\n",
       "OMu1VVto01AY/tqkTdul6RBB9KlzgjKVFZEhQ2m9gMIUAkOQbWJR6RBF+jDdQMQie6hDS0EFYcKK\n",
       "MERECPOCOJSwJ9mgTMEJQiWKqMzL5h7mw2R6Ts5pYrqme9EfvpP//OfkOyf/LcB/FGP5LV6NoaqM\n",
       "udjlKDBJlYma3Fs5KkXZSV72xZbYn2Z/TKloB+7QWa4md85tRyBBhkyldcscphcSCABnyUxK1qKu\n",
       "0xhs+cSfkTwZxiudIerAUAJyAQHicF++FrfHYLBlkD+bqfUdd9DjUsn8hKKHDL4ElHrIt3t7z9d0\n",
       "yQaOpdz36OBnF9tW5Ea1h55EvvMEMJ9KvanJ3cEhtd1a5eTuH90PhFSqSqfLAVabuDYM7Aa6rWzL\n",
       "VuG+zNGQ9s86uJV5RGIImp7wp/luoXCTazeAdVDsUA+Xla8DBzq5uoJB+gVf0sEdXISnAG891T/C\n",
       "4t7EtQYgjDrd4r5Er/PwoC60GMIAt80xiLMIaw5uXwYRFYL5MQ2lEoulkmzl78VJeulhOwl+Ejxa\n",
       "/92QzwFNTu5IEjO0Tg5lsy+y2X6ihVU065zbrq2caHMrGWo/8+QY9ffCA0OmsWm8SpzA96xmuKBh\n",
       "iHeIQSu9jxjcJ98s7nGRtxLiE3TvIge8lhZpmUzKiQBdela0Y3mKYSaPfcGYgzuGNaRWzGiJll/9\n",
       "Y7T9vAWek8l10hVEVaCNxa/Jk62V3MMMAT34KuTwt5gnJcJzUHlp7d9z0nifMth7HnJOJFpHe4Mn\n",
       "5kvuSKVS2tpGm3szg9Q20jLizMG2LtpUouakr93KlMO/V1LbRdoAyBkzhr9IMjSCsP7BvNIX29+e\n",
       "NMPSujSF1zyuXSk52pZSb/WM+HajLx0mCS9SGqEjjdFy8ykw2LLx78ldl3IOldubt3OiC3Hd21mA\n",
       "cpQapqeOR5ftseb1Mi4Ln51TFusQ8bfD3MNRVcS0y8Jex0xw2SZpDFXlvlvXd/6P5H/8K/4Dmmu9\n",
       "vLXtqa4AAAAASUVORK5CYII=\n",
       "\" style=\"display:inline;vertical-align:middle;\" /></a><br>(see <a class=\"ProveItLink\" href=\"../__pv_it/67897d4fffe99ec8bc86fcb9fe6bf9b0c34cb3ec0/dependencies.ipynb\">dependencies</a>)<br>"
      ],
      "text/plain": [
       "addComplexClosureBin: forall_{a, b in Complexes} ((a + b) in Complexes)"
      ]
     },
     "execution_count": 2,
     "metadata": {},
     "output_type": "execute_result"
    }
   ],
   "source": [
    "%proving addComplexClosureBin presuming []"
   ]
  },
  {
   "cell_type": "code",
   "execution_count": null,
   "metadata": {},
   "outputs": [],
   "source": []
  }
 ],
 "metadata": {
  "kernelspec": {
   "display_name": "Python 3",
   "language": "python",
   "name": "python3"
  }
 },
 "nbformat": 4,
 "nbformat_minor": 0
}
