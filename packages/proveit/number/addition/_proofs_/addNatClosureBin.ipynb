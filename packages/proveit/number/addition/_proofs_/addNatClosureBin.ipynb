{
 "cells": [
  {
   "cell_type": "markdown",
   "metadata": {},
   "source": [
    "Proof of <a class=\"ProveItLink\" href=\"../../../_context_.ipynb\">proveit</a>.<a class=\"ProveItLink\" href=\"../../_context_.ipynb\">number</a>.<a class=\"ProveItLink\" href=\"../_context_.ipynb\">addition</a>.<a class=\"ProveItLink\" href=\"../_theorems_.ipynb#addNatClosureBin\">addNatClosureBin</a> theorem\n",
    "========"
   ]
  },
  {
   "cell_type": "code",
   "execution_count": 1,
   "metadata": {},
   "outputs": [],
   "source": [
    "import proveit\n",
    "context = proveit.Context('..') # the theorem's context is in the parent directory"
   ]
  },
  {
   "cell_type": "code",
   "execution_count": 2,
   "metadata": {},
   "outputs": [
    {
     "name": "stdout",
     "output_type": "stream",
     "text": [
      "Beginning proof of addNatClosureBin\n",
      "Recorded 'presuming' information\n",
      "Presuming previous theorems (applied transitively).\n"
     ]
    },
    {
     "data": {
      "text/html": [
       "<strong id=\"addNatClosureBin\">addNatClosureBin:</strong> <a class=\"ProveItLink\" href=\"../__pv_it/dcca30abf75b1b44d154a4beffceb4d7955138550/expr.ipynb\"><img src=\"data:image/png;base64,iVBORw0KGgoAAAANSUhEUgAAALYAAAAWBAMAAACfwnvZAAAAMFBMVEX///8QEBC6urrMzMxUVFRm\n",
       "ZmZERETc3NwyMjKqqqp2dnaIiIiYmJgiIiLu7u4AAAAU9Wx4AAAAAXRSTlMAQObYZgAAAutJREFU\n",
       "OMu1VU1oE0EU/pLsZpPNZlMEFT2lKFgQ6RZLraI02oNCpQRKQWzBYCFFENmD2l7EKD1E0DYHBaEH\n",
       "g1BExLLUH0RBFr2ogVIVEYXoCkV70RYP9aAUZ3Zms9k0m170wTc782b2y8s3770F/qNZax8JGgx1\n",
       "7ZmPX0kCc3RSasjdzlFr6n7ysqjVOCey4xA/f0AfcJs6xhtyj/udiKTIkKtxhs0OIEE2gbNkKWUa\n",
       "UccMBte+8WeiQIZXNceFt+RwgIhSRIQILhYacQcsBtcm+bOVer9wLR6Vy/ZfEFqsbsqtNkG5NTJy\n",
       "rqEkLRyrue/aGrDAOmeduHemFizCjRPAcjb7sSH3UQ6p5+ZGL/fYk8OAnKZT6VRFE20ylKHcU0A3\n",
       "MFzJtnwd7ssczXp4ycOtLiOhIWorEdZdbjFZotzXga1Q3aue4s/O/mRsPdd4HYP0B2LGwx1dQaCI\n",
       "YBOdf3XvUkOv0EZjAeKImZWNSzScB/2mkpnGNPf9ZBCWEDc83GIOiTRC9p9pLpedu9Qwr14gky6S\n",
       "XmbcTYJfBA+3/bCUkljLnchgkdbJkXz+dT4/RmbxNFpNzt1eHXeo2Ma41Rz1n3k8RPX+fd9S6N0o\n",
       "u3cZDvcmhvMGbvAOMVlJ72MW1+R7NTdehpkmGD5AfuC9tELLZE5JRexuoE0/d7hPMiwWcCiqebg1\n",
       "bCZHmRJmNbdMK/IFwTXSFYR0iDaWsKHM7WHcstxbdb8EETP6TvboLRTElJOD6ptKzSepcPy9ALmh\n",
       "RDJGe0NAEzP7stmsoWjS7Cd+eAeD1DPTMePNwZ5B2lSS9mK0j6fxxAYyLhBcpDESERet8KxOW0zc\n",
       "nGdxY8tTp+Z1htV1aRuveVy9Uva0LbWp0jO69lqjepwkvKAzbsXRmzQdG65tr17c8Sln2WlvwYHS\n",
       "ILrM4EAR6nHaP8iQWrPH2uHlfDYWvEt21zLR2+M+zVHXBN1n46BnFfI5JhkMde2eX9f3fo+Uf/wp\n",
       "/gtM77n9I8cAagAAAABJRU5ErkJggg==\n",
       "\" style=\"display:inline;vertical-align:middle;\" /></a><br>(see <a class=\"ProveItLink\" href=\"../__pv_it/dcca30abf75b1b44d154a4beffceb4d7955138550/dependencies.ipynb\">dependencies</a>)<br>"
      ],
      "text/plain": [
       "addNatClosureBin: forall_{a, b in Naturals} ((a + b) in Naturals)"
      ]
     },
     "execution_count": 2,
     "metadata": {},
     "output_type": "execute_result"
    }
   ],
   "source": [
    "%proving addNatClosureBin presuming []"
   ]
  },
  {
   "cell_type": "code",
   "execution_count": null,
   "metadata": {},
   "outputs": [],
   "source": []
  }
 ],
 "metadata": {
  "kernelspec": {
   "display_name": "Python 3",
   "language": "python",
   "name": "python3"
  }
 },
 "nbformat": 4,
 "nbformat_minor": 0
}
