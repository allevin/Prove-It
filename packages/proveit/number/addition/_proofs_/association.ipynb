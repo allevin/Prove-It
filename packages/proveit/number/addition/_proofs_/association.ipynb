{
 "cells": [
  {
   "cell_type": "markdown",
   "metadata": {},
   "source": [
    "Proof of <a class=\"ProveItLink\" href=\"../../../_context_.ipynb\">proveit</a>.<a class=\"ProveItLink\" href=\"../../_context_.ipynb\">number</a>.<a class=\"ProveItLink\" href=\"../_context_.ipynb\">addition</a>.<a class=\"ProveItLink\" href=\"../_theorems_.ipynb#association\">association</a> theorem\n",
    "========"
   ]
  },
  {
   "cell_type": "code",
   "execution_count": 1,
   "metadata": {},
   "outputs": [],
   "source": [
    "import proveit\n",
    "context = proveit.Context('..') # the theorem's context is in the parent directory"
   ]
  },
  {
   "cell_type": "code",
   "execution_count": 2,
   "metadata": {},
   "outputs": [
    {
     "name": "stdout",
     "output_type": "stream",
     "text": [
      "Beginning proof of association\n",
      "Recorded 'presuming' information\n",
      "Presuming previous theorems (applied transitively).\n"
     ]
    },
    {
     "data": {
      "text/html": [
       "<strong id=\"association\">association:</strong> <a class=\"ProveItLink\" href=\"../__pv_it/c4ac86a0b59b207a52d5c11c1f97787c80e8a5510/expr.ipynb\"><img src=\"data:image/png;base64,iVBORw0KGgoAAAANSUhEUgAABJQAAAAaBAMAAAATcRvNAAAAMFBMVEX///8QEBC6urrMzMxUVFRm\n",
       "ZmZERETc3NwyMjKqqqp2dnaIiIiYmJgiIiLu7u4AAAAU9Wx4AAAAAXRSTlMAQObYZgAACAZJREFU\n",
       "aN7tW3uME0UY/27ba3vtdksC4UiMXn1AJPhYg5BT/6CBGI0GuBhJBESKJoV4gavJhSOgXIkPThDb\n",
       "RPEfJFSDIkGliiFGQJqDQ3M+KBEvBC3XSwwSHh5wcLwO6jx22+3urOyywz/SL5l2Znb62/l995uZ\n",
       "b2b3AKzbwnwcqlY1lgn5w3aa56oeq5qptULBjpSkm9WPcUriYqGiPdEXr/In1GlCkpu/HJHs5Eu0\n",
       "k0qJdOgni1IK4i8xw93xrghNnNCS9qAaz/GXUq3MJMnPX45IMnrnhCiBa4XNuPyuRSn5U+jLV+Du\n",
       "eAzJEbYha6t5zdBNmGcTTJIc/eWIZIIv0QSR0mL06Y1alBJpuJi/33coSWeSWZj/N7NWbe4txm2h\n",
       "tF+whm9WzbxDN5MkH4IYyhnJbr5Eu4mUsMBrU1bDbjx9zeQvpTuUpLM6s6V0HbNWbS6esYeyf5g1\n",
       "fLNq5h36mCT5EMRQzkj28SXaR6Qkbmpre83yDq67ra2N/0ZOSNAEgfwfC215eld+e87Q3H11wYiC\n",
       "DZTpPSummeB/cPufdjxcNy+vLjueFIMkJ4IYyhlJtXeciOLUCjAYix22LKVQLLYwzT9GTdMk9YZ9\n",
       "Z+x4+tRZSA4zNK+5GO/P2UBpWCldZV/xXIatsg0Pt6T9A0rW38QgyYkghnJGUu0dJ6I4ISlNAZhv\n",
       "WUpuGTyWzikb7QSFvqySLoN/0I6nk2nYGjU0R2FB8JJ1FBx19KaY+C0RbzFs3cOec9B+Vq0jke1z\n",
       "HdjeKJHkQxBDOSNZl+BKFCckpXtASoA0vWBJSkIEjuGOMTaTdRUlj53tZk2Ypv0XwHcFbXWjFv0j\n",
       "Iv8kM/DXtcrmG4ZB6Ip1lDo0TxQzzCsIfxbARKse3nCBTBh0ERrGIMmJIIZyRlLtHSeiOCEpBSGA\n",
       "RH6/2QnGm8/AVy+UpITSTvS5VL0sFkuzj6ti4auxdaYYpimZg9AAuJ7NWfSPD03ZRRmEXGXzuVFo\n",
       "H7KOUjuIxmzWDB9gwlSrHk5qVhzXaQZJTgQxlDOSau84EcUJSSmQDaIZ6RPWL0/MeB72+Qv+QllK\n",
       "O+EI+izPuXPLs8/H6o7xx42/Z8onBqTYtW7vfTMNVXopFZtgEupUHelobUfHmlEdHcaDOLRoHKCL\n",
       "Rug8uIrKwq9p3pvBw98ySvAKGf1sfGzrddW6GKh8h2LTdaTEiSCGckaS9I4fUUVKUuJhVPEOQ0mB\n",
       "F5f/Az9nmrRSOobPbDVDoLfc/JgivvGLoDFdPlYhxXXRmvBoQ1VpCkvRhIbN7kSn4h8LQy00BIGL\n",
       "YtiXrWzeIENLwjpKzQB4Lprhlz1sYbBq5za6hMzJY+tRSXIiiKGckdQtcE6JKgsczJ+MPvABljh7\n",
       "3MbAdlnJAXThlnveW6aVkqcVjYhy5C1puodCciK+HzIgpDHmWAQk06JbPkXO1SuqlpQCqyxNDWFo\n",
       "aVpp9A959FdQMxr/nAXPeV88FNdNv3EJrQqWUXwXoH8Aur7+LrLjpcorQeRhIWXwsFSBprlDL+Iw\n",
       "lvoORP2BMkeCGMoZSTFhhWgZ6DpERRp2w1rUHRdW6ckHs8GIGFFyMj1d3+M/+ahGSnVzaCAkTY3h\n",
       "gwjhTMfr+NLxnlUQyBDxCY8gMcaPZMnJZ5dSDMJayOmrdj6g20/uTvuL2xhDDe96yVZW3f4qVANo\n",
       "C3ulER7SNd+fPXYJrKOIQ1IyJXUOwUHYq4tVB0H6KG7wMPl9CU0bjUbheD31nfEwgCNBDOWMpO4w\n",
       "wIRoCeh6RJXDAKhB1wM4+ln+LYRkchOci9M4eg+kN2qkBLfhnT7AK1E/nhT9l2Eevme+kMS7O3IK\n",
       "dxI3n40H0kyxSSkeRXNSs6yr6lanSRxW4hTIrz46Km70Tx/qnTRSyWhHza5D389bCdv1p935ETLY\n",
       "QPnlwBTwnkjAQCliVK/cO+rQl8Z5n/y+hKY9OlyxZlWB+A5NA2H9ESU/ghjKGUm1d/9NtAR0PaI4\n",
       "YSmJ6A/rIW2eRvr3pWjuTnD1xGLNSEqvntJK6VfA5wfQItfiNdF3DVoQnHsAZoMrQcRHhUIDtccr\n",
       "iiZVyOqVpHTYagCgWDOzuU0UdwbNzG8z8S2HENSw71gPTjgSrHdKso8vUfrgRFmUx+PP4Uj/7QLN\n",
       "zRCkCJ2VhMe0UsL2PkhnIIg3AaEcNOAvvD4iKWHxCXeVNnUBtAZqiiZVmkeCOv8IZv6pfPNnuMxq\n",
       "bhOlRg5EvafDLPz17NtqJpyKO2DfAWwxtOJIsNspyS3AlegWjZT6A7Ak7j2NhLbPT3PD74YnqJSg\n",
       "Wy+lMeAdhP5FCLc/4sKnt/14NhWiVHzTUD2NE7vcKW3RpAr0L5nU2XvKJ51mutEmSjsasmKU+VBo\n",
       "vS0g6jspYTzT50ewBHWDJBm9c0KUwKlScm+GSVkhCr/BxE00NysLR5F8hbfC4AadlE4BjIStn6eX\n",
       "xIMRTz2SXjAHtbKYpuKbsAlH4HjlbMJvEZSKJlWkVxGaaOGz8/ZernuK9WKDXZQxEJRdL7MeCi1N\n",
       "zrYDRH3nNiJxJKhC3ShJN/Ph1w0TJXCtmktZQ+7TWLPuwYmydyxAY8c3PYVJWW/HwQKSnvfJBauh\n",
       "NkzEB9IXscmk2Wjyfl2paFJFbJmS/je2jVHHkeAy/r1zAEXgNFJyxY05wzM4JeBJVWqOfvmM4qva\n",
       "rWMaKYmMnImUpGiF5pSvdVV3VqVk0fKl/4P7sEJzylek6s5b14T8wRv7och4hcRfqDr0lrZ/ATWs\n",
       "Dr9iv3upAAAAAElFTkSuQmCC\n",
       "\" style=\"display:inline;vertical-align:middle;\" /></a><br>(see <a class=\"ProveItLink\" href=\"../__pv_it/c4ac86a0b59b207a52d5c11c1f97787c80e8a5510/dependencies.ipynb\">dependencies</a>)<br>"
      ],
      "text/plain": [
       "association: forall_{l, m, n in Naturals} [forall_{(a, b, c) in Complexes^{l} * Complexes^{m} * Complexes^{n}} ((a_1 +  ...  + a_l + b_1 +  ...  + b_m + c_1 +  ...  + c_n) = (a_1 +  ...  + a_l + (b_1 +  ...  + b_m) + c_1 +  ...  + c_n))]"
      ]
     },
     "execution_count": 2,
     "metadata": {},
     "output_type": "execute_result"
    }
   ],
   "source": [
    "%proving association presuming []"
   ]
  },
  {
   "cell_type": "code",
   "execution_count": null,
   "metadata": {},
   "outputs": [],
   "source": []
  }
 ],
 "metadata": {
  "kernelspec": {
   "display_name": "Python 3",
   "language": "python",
   "name": "python3"
  }
 },
 "nbformat": 4,
 "nbformat_minor": 0
}
