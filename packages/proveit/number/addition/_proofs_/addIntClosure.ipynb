{
 "cells": [
  {
   "cell_type": "markdown",
   "metadata": {},
   "source": [
    "Proof of <a class=\"ProveItLink\" href=\"../../../_context_.ipynb\">proveit</a>.<a class=\"ProveItLink\" href=\"../../_context_.ipynb\">number</a>.<a class=\"ProveItLink\" href=\"../_context_.ipynb\">addition</a>.<a class=\"ProveItLink\" href=\"../_theorems_.ipynb#addIntClosure\">addIntClosure</a> theorem\n",
    "========"
   ]
  },
  {
   "cell_type": "code",
   "execution_count": 1,
   "metadata": {},
   "outputs": [],
   "source": [
    "import proveit\n",
    "context = proveit.Context('..') # the theorem's context is in the parent directory"
   ]
  },
  {
   "cell_type": "code",
   "execution_count": 2,
   "metadata": {},
   "outputs": [
    {
     "name": "stdout",
     "output_type": "stream",
     "text": [
      "Beginning proof of addIntClosure\n",
      "Recorded 'presuming' information\n",
      "Presuming previous theorem (applied transitively).\n"
     ]
    },
    {
     "data": {
      "text/html": [
       "<strong id=\"addIntClosure\">addIntClosure:</strong> <a class=\"ProveItLink\" href=\"../__pv_it/109594d005afd348f32b0adbd1c335d7a2430a5a0/expr.ipynb\"><img src=\"data:image/png;base64,iVBORw0KGgoAAAANSUhEUgAAAVwAAAAVBAMAAAD4GEsPAAAAMFBMVEX///8QEBC6urrMzMxUVFRm\n",
       "ZmZERETc3NwyMjKqqqp2dnaIiIiYmJgiIiLu7u4AAAAU9Wx4AAAAAXRSTlMAQObYZgAABHRJREFU\n",
       "SMfVl22IVFUYx//OzsvOnTt3V62tiHSWIqMlvIGZReXFjfoQ1YQIqUhD4ViRy3xYnOjF3aJginQH\n",
       "KghCGMRlsWC5JC2Smw6mIRo6bX2oYNy7ELVorquVULjeznPOfZ3ZO7MDfunAnnvmPuc593eet3MW\n",
       "+H81o6E08dMjC1olpLOuR4zXFluG8KocnX+KnAJOTKBC41NB60ipJJ+rN/neKvbXponxZKllXK9K\n",
       "RPXL4pNzhdveKmM9G+/Ffnq1OxhXoo23G02+t9udJJlaq7R+lcEaB79rYDDKlue4O1gfywTjctmO\n",
       "Jt9LkPUPWY41K17R7wEqSs4TCz6Vk/6JkRKk4l7m4RLhkk0ixWBcbriNTXAXkWGXifH75qxX9GmA\n",
       "StwTX36VKWs/B6tVMnTYQD/FmdJJuPJIPv8mGuCezOfzlSa4d1G2CScmKsuvtYhboxIVxltz2nnT\n",
       "FyVzvES4uJLN/tIItyOb3d4seTYJp1EbUIcut4hboyKlqY/1uUVB/44ewxy3F9jWCDesIsrjLPRP\n",
       "4LQPKNPKfLgVz11lj9Ut4FoqjoS7KerG9m8Kz61POO4dUGpycc2GVOJGw8YNaZgWAfqv7a0bhrem\n",
       "fRpLSJzilujEkb+B+55cOK6l4tbwTs7ovugNc/RujptEouxJ2C83lOXMKEYd67LKPM7Hz1yx5Mmc\n",
       "dN6QN46vO26nKPmyg+NeLGIlzduzcFxbxW5tPO+6q1WRagil7xb1g+MmyklPVR1bMWPIpyJe3HGc\n",
       "5Vo/X7LleOgNxMewJJSuw3168WJzzsF9tlD4vlB4p441UijsurlQENXWVvHjrnJ+t1MlHrFxlUEm\n",
       "kTf37EuMqZAJQH7gft2DOy2Oq+QK0xByIM0evUpFsq17CwUD/YgvnZkZMFuyrq1y/IuvtEMvOMFw\n",
       "wZm5X7jYCgZsWwf8sbKc1GSNHx2Q1dFvPLjR/pRITDMl5Gw/7KCsxNNJ2VrxFYpoCqkpxpw0c/W4\n",
       "itMZNbiWinL0Kn7EMVqdh0DYjtCYxswpsS2cELgfM/KdB9GhsgryoMCVpKdc3PgW7qJlGNKFHOfO\n",
       "sU9npGL0gLXksFV/Yo8Rt1msx71YsTplzo9rq8TOD+JPZyE2b8JO7FwflE0Zu5BhESk+gXvRXsTD\n",
       "2WxWl9XY6bMuLm7lscAiTBNylEax0+fZe8iHjMU0ryFsmqZahzuVsTqly4/rqIT1tk68R7HKnYlX\n",
       "14sJ3S92ZYe62BbeFrgyuWcpxjAQwq/Curj9sAeXHy/7gDMVIQ99WKbQ9x7CVGlu8r7Z08ohLNZQ\n",
       "E5nYbMo5hPHRrqq3wopD2HLJLLPvtxJ4hWO4sid2YcUC1s4KeSTCTem9jJZqryYObk+jG7K3DSCs\n",
       "yxm20OcBJ5bu4oYy+AGrR6A8TzcA1mk1uJN/QV5+qcjlxx79bLsWeIHk7bWhza3eIu9EUm17OVd3\n",
       "aNltGi6uuweKTd8h3FBut36ewtfl35twbv73j8+HW3uRraoL+kaM9vD6dcE9EEDCQL6e+A/F2Vzm\n",
       "tTaJIwAAAABJRU5ErkJggg==\n",
       "\" style=\"display:inline;vertical-align:middle;\" /></a><br>(see <a class=\"ProveItLink\" href=\"../__pv_it/109594d005afd348f32b0adbd1c335d7a2430a5a0/dependencies.ipynb\">dependencies</a>)<br>"
      ],
      "text/plain": [
       "addIntClosure: forall_{m in Naturals} [forall_{A in Integers^{m}} ((A_1 +  ...  + A_m) in Integers)]"
      ]
     },
     "execution_count": 2,
     "metadata": {},
     "output_type": "execute_result"
    }
   ],
   "source": [
    "%proving addIntClosure presuming []"
   ]
  },
  {
   "cell_type": "code",
   "execution_count": null,
   "metadata": {},
   "outputs": [],
   "source": []
  }
 ],
 "metadata": {
  "kernelspec": {
   "display_name": "Python 3",
   "language": "python",
   "name": "python3"
  }
 },
 "nbformat": 4,
 "nbformat_minor": 0
}
