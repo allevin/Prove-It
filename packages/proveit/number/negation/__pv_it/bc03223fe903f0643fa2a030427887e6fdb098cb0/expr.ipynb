{
 "cells": [
  {
   "cell_type": "markdown",
   "metadata": {},
   "source": [
    "Expression of type <a class=\"ProveItLink\" href=\"../../../../../../doc/html/api/proveit.logic.Equals.html\">Equals</a>\n",
    "=======================\n",
    "# from context <a class=\"ProveItLink\" href=\"../../_context_.ipynb\">proveit.number.negation</a>"
   ]
  },
  {
   "cell_type": "code",
   "execution_count": 1,
   "metadata": {},
   "outputs": [],
   "source": [
    "# import Expression classes needed to build the expression\n",
    "from proveit._common_ import a, b\n",
    "from proveit.logic import Equals\n",
    "from proveit.number import Add, Neg"
   ]
  },
  {
   "cell_type": "code",
   "execution_count": 2,
   "metadata": {},
   "outputs": [
    {
     "data": {
      "text/html": [
       "<strong id=\"expr\">expr:</strong> <a class=\"ProveItLink\" href=\"expr.ipynb\"><img src=\"data:image/png;base64,iVBORw0KGgoAAAANSUhEUgAAAMYAAAAVBAMAAADvH4zvAAAAMFBMVEX////c3NwiIiJERESqqqqY\n",
       "mJh2dnZmZmYQEBDu7u4yMjJUVFTMzMyIiIi6uroAAAAs73DqAAAAAXRSTlMAQObYZgAAAlhJREFU\n",
       "SMe9VU1oE0EU/rbZZrP52ezZIC299KTkoEdx8ShCc+rBQ1m89KQERA8qmIgIepAcpT1kKfRQBYnQ\n",
       "ggjBhR57MCc9aEroqRSlgaZIIIrzdhadt+xu9OIH35DMvve+mTfvzQD/A1ZP/fctyWwlZKp3DGYH\n",
       "YthTZ4qdGDPz7Txg+JIR7KXFX38khgeCW+psvhVnmydlLyTHVuomXpEzUGKb7cealh0xLIdkKMWm\n",
       "yrTDHyNKloscW/nTWI1jsnkRkiEXu289VLbGJNjAETtBL1bjBg0ZR5LhCGka2XkaL+Cu+tFwxVD5\n",
       "eGhH0trfEQ51SQbVW+veanKNfPdzDVjFJjtcMWU1cTmS3hOUfehij0QYLwMEFah6H9qZIddoVzEB\n",
       "ruI5S68o5rkabke2PkbOhdVAQAbFWzuFUeUaSy08Edr4Kb5uLBBE/LLge+AcGZwJJs/Twj2U6yiK\n",
       "RRaHEQ3FuzDETI9r3AO+Ax/ISilSoXECc8IDzdRxXEvU+O1bRduXqdx4JlO5COuUNB6zXDnQfkAf\n",
       "mtH2eNj6kysjWPdCkBfFe66HJbTYPkYwxpSri2q0TA3mCAXvGtfwKa2zniSD4t128E73mcaEzhHX\n",
       "RWUpoNrcxJW6ywIVHKOTULurak3qi1l+Htu4H9gcsB4UTVPpf7004LXbvUMxBpIMB2p77O/uc431\n",
       "T6IX8Bo51m/N5Pst/i6x0/pcrrBBV5aC5WSNmyH56+BOfZKyvb+624PleJL/dLcT1uh6Uie0TpJp\n",
       "wZaMoDJV4w2FZU/A2STTLyEj0Ka9tSUfvwAFoKM0fywzXAAAAABJRU5ErkJggg==\n",
       "\" style=\"display:inline;vertical-align:middle;\" /></a><br>"
      ],
      "text/plain": [
       "expr: (-(a - b)) = (-a + b)"
      ]
     },
     "execution_count": 2,
     "metadata": {},
     "output_type": "execute_result"
    }
   ],
   "source": [
    "# build up the expression from sub-expressions\n",
    "expr = Equals(Neg(Add(a, Neg(b))), Add(Neg(a), b))"
   ]
  },
  {
   "cell_type": "code",
   "execution_count": 3,
   "metadata": {},
   "outputs": [
    {
     "name": "stdout",
     "output_type": "stream",
     "text": [
      "Passed sanity check: built 'expr' is the same as the stored Expression.\n"
     ]
    }
   ],
   "source": [
    "# check that the built expression is the same as the stored expression\n",
    "%check_expr"
   ]
  },
  {
   "cell_type": "code",
   "execution_count": 4,
   "metadata": {},
   "outputs": [
    {
     "data": {
      "text/html": [
       "<table><tr><th>&nbsp;</th><th>core type</th><th>sub-expressions</th><th>expression</th></tr>\n",
       "<tr><td>0</td><td>Operation</td><td>operator:&nbsp;1<br>operands:&nbsp;2<br></td><td><a class=\"ProveItLink\" href=\"expr.ipynb\"><img src=\"data:image/png;base64,iVBORw0KGgoAAAANSUhEUgAAAMYAAAAVBAMAAADvH4zvAAAAMFBMVEX////c3NwiIiJERESqqqqY\n",
       "mJh2dnZmZmYQEBDu7u4yMjJUVFTMzMyIiIi6uroAAAAs73DqAAAAAXRSTlMAQObYZgAAAlhJREFU\n",
       "SMe9VU1oE0EU/rbZZrP52ezZIC299KTkoEdx8ShCc+rBQ1m89KQERA8qmIgIepAcpT1kKfRQBYnQ\n",
       "ggjBhR57MCc9aEroqRSlgaZIIIrzdhadt+xu9OIH35DMvve+mTfvzQD/A1ZP/fctyWwlZKp3DGYH\n",
       "YthTZ4qdGDPz7Txg+JIR7KXFX38khgeCW+psvhVnmydlLyTHVuomXpEzUGKb7cealh0xLIdkKMWm\n",
       "yrTDHyNKloscW/nTWI1jsnkRkiEXu289VLbGJNjAETtBL1bjBg0ZR5LhCGka2XkaL+Cu+tFwxVD5\n",
       "eGhH0trfEQ51SQbVW+veanKNfPdzDVjFJjtcMWU1cTmS3hOUfehij0QYLwMEFah6H9qZIddoVzEB\n",
       "ruI5S68o5rkabke2PkbOhdVAQAbFWzuFUeUaSy08Edr4Kb5uLBBE/LLge+AcGZwJJs/Twj2U6yiK\n",
       "RRaHEQ3FuzDETI9r3AO+Ax/ISilSoXECc8IDzdRxXEvU+O1bRduXqdx4JlO5COuUNB6zXDnQfkAf\n",
       "mtH2eNj6kysjWPdCkBfFe66HJbTYPkYwxpSri2q0TA3mCAXvGtfwKa2zniSD4t128E73mcaEzhHX\n",
       "RWUpoNrcxJW6ywIVHKOTULurak3qi1l+Htu4H9gcsB4UTVPpf7004LXbvUMxBpIMB2p77O/uc431\n",
       "T6IX8Bo51m/N5Pst/i6x0/pcrrBBV5aC5WSNmyH56+BOfZKyvb+624PleJL/dLcT1uh6Uie0TpJp\n",
       "wZaMoDJV4w2FZU/A2STTLyEj0Ka9tSUfvwAFoKM0fywzXAAAAABJRU5ErkJggg==\n",
       "\" style=\"display:inline;vertical-align:middle;\" /></a></td></tr>\n",
       "<tr><td>1</td><td>Literal</td><td></td><td><a class=\"ProveItLink\" href=\"../../../../logic/equality/__pv_it/2fb26078095930560931daa0500ce419a39ea6cd0/expr.ipynb\"><img src=\"data:image/png;base64,iVBORw0KGgoAAAANSUhEUgAAAA4AAAAFBAMAAACHocAhAAAAFVBMVEX///9EREQiIiJUVFQyMjJm\n",
       "ZmYAAADubVkoAAAAAXRSTlMAQObYZgAAABRJREFUCNdjCHEBAWcGXCBICQQUAUpuAwlgGKrkAAAA\n",
       "AElFTkSuQmCC\n",
       "\" style=\"display:inline;vertical-align:middle;\" /></a></td></tr>\n",
       "<tr><td>2</td><td>ExprTuple</td><td>3, 4</td><td><a class=\"ProveItLink\" href=\"../80d8c399f90a58d2f497767f0f0df2a2bb5cb4b10/expr.ipynb\"><img src=\"data:image/png;base64,iVBORw0KGgoAAAANSUhEUgAAAKcAAAAVBAMAAADROuOhAAAAMFBMVEX////c3NwiIiJERESqqqqY\n",
       "mJh2dnZmZmYQEBDu7u4yMjJUVFTMzMyIiIi6uroAAAAs73DqAAAAAXRSTlMAQObYZgAAAbxJREFU\n",
       "OMu1lT1PAkEQhufg4PgQ7mopJDZ2hsb+/oFUlobYWGFotFUTY2FhKOkgJBacDY2JMSEhsaThByhR\n",
       "KkMDxljYEGfP24+B+2rcYsM7++zL7O7sHsC/tOI4WCntMK6fC45IaOSDZR/LAMYw2k+CPRLv+cG5\n",
       "PnadGFlysEDWW/BdvWljdxCWokXBTFMdpYq3OYu2Qkz1MQVnZHTmO+eIdUk72pSDZ2SUKW1wcknn\n",
       "3L8+AKQbq1YS5KYcvCMcUx9WckF37AvMIehrJyVBz1SAt4RDpX2DUaGL+4FMDYoXq4lK0DMV4BJH\n",
       "u9usvWEYVX4BCcZsusFd/GV0wGzABk+f4xyUpgJckn9HZVagTQs90YB5VZqKQvNAw3G6N47TV8Ar\n",
       "AqLaGsM+NFfK9Ly5vnwF9DIV4B4BUbVteNJJqrj51wApdlBZJayA3JSDx8QUVa6q76RJMG8bfa+k\n",
       "2mXlTkrQMxXglMyfsuqbPE9oSQ1OmQc7yNanWqYC5CXFwYxFrqkVeGv+rul76I3iYKqmjlJFWt3t\n",
       "q9Fvcj3e0+curRNiugaWSKgUxObdjSlEv6kuqJEnVAv6nLzE/Zwg+AtYRop+s7ro1AAAAABJRU5E\n",
       "rkJggg==\n",
       "\" style=\"display:inline;vertical-align:middle;\" /></a></td></tr>\n",
       "<tr><td>3</td><td>Operation</td><td>operator:&nbsp;12<br>operand:&nbsp;5<br></td><td><a class=\"ProveItLink\" href=\"../0b6e093e3dea469049563b7764f97bb3aa4b72750/expr.ipynb\"><img src=\"data:image/png;base64,iVBORw0KGgoAAAANSUhEUgAAAE4AAAAVBAMAAAAazcUaAAAAMFBMVEX///9ERESqqqqYmJh2dnZm\n",
       "ZmYQEBDu7u5UVFTMzMyIiIi6uroiIiIyMjLc3NwAAAB7vQThAAAAAXRSTlMAQObYZgAAARVJREFU\n",
       "KM9jYCAD7MIhzrwBhcvZgEVNRQ6QiEQR4i3AZtgNkAyKyCqsln4CWeyALJKOTRn3dyDBnoAscgGb\n",
       "OpYDIFIISYQVZPiLJdseoDq6a4UBA4MrsgiQz53HII9qXr0Aw08GBl0kETZgKL03YAhEVadfwJDC\n",
       "wLCN4e0ZEDgNFOEHqutnYDgFZPLdAYuCgjeWgeErA8N8JJ0gdR8Z2H+imneUgfszqjo2BQa+XwxM\n",
       "H9jRgo/1O8heBGA0YGD/xMBxQRNF3U8GNmA42CKHVAADw2UGnQCUsGdoYohgQA0XbmCIvli1Uwo1\n",
       "cVQsBQYXw21koTycCQ4l3hhMcKpjWUA4XYFALQqPrwGXuj5U7iscyrgmMAAAivZAop+NrqcAAAAA\n",
       "SUVORK5CYII=\n",
       "\" style=\"display:inline;vertical-align:middle;\" /></a></td></tr>\n",
       "<tr><td>4</td><td>Operation</td><td>operator:&nbsp;7<br>operands:&nbsp;6<br></td><td><a class=\"ProveItLink\" href=\"../cd9fb5f65ba2ecaaf11127a751ea9e0667bba53e0/expr.ipynb\"><img src=\"data:image/png;base64,iVBORw0KGgoAAAANSUhEUgAAADwAAAAQBAMAAAC4vAEMAAAAMFBMVEX///+qqqrMzMzu7u5mZmaY\n",
       "mJhEREQQEBB2dnaIiIhUVFS6uroiIiIyMjLc3NwAAAAxFEmoAAAAAXRSTlMAQObYZgAAAKhJREFU\n",
       "GNNjYMAJrGoY8IJb2IXtoPRH7NKSEIr7M15pjgPIgq9mbH+AIs27clYAXJa7jiEfVbd9AsMnuPT7\n",
       "AAY3VGl5A4YKhrdnQOA0w3oGhpOo0r4MDF/gur8xMION8r179/jduyAvH2Hg/gqT5fvJwPiBGUX3\n",
       "RwYWuNeYPzJwXRBCkf7EwN4AN/wqg4xDA4r0QgYvJG/P3JS5AUXaakoAvlDDBXYimADgLC+i78E4\n",
       "pwAAAABJRU5ErkJggg==\n",
       "\" style=\"display:inline;vertical-align:middle;\" /></a></td></tr>\n",
       "<tr><td>5</td><td>Operation</td><td>operator:&nbsp;7<br>operands:&nbsp;8<br></td><td><a class=\"ProveItLink\" href=\"../d3ff5fb3ac00f148b373c915ad518861171f73bd0/expr.ipynb\"><img src=\"data:image/png;base64,iVBORw0KGgoAAAANSUhEUgAAAC0AAAAOBAMAAABJDIgxAAAAMFBMVEX///8yMjKqqqrMzMzu7u4i\n",
       "IiJmZmaYmJhEREQQEBC6urp2dnaIiIhUVFTc3NwAAAD87Fq/AAAAAXRSTlMAQObYZgAAAJVJREFU\n",
       "GNNjYMAALDcDGLACxgvYxfkVsIuvd8AuvhVM8t3ZNQ9VXPbMdSC58gHHB1T3/GDgN2Dg+87A1oAi\n",
       "zvSFgXMDA+8HBtYDIONEQ0FgAQMDmwADfwIDfwODvwGKetYEhvUFDO8PMOgzOKA5P9+BwV+B4SIT\n",
       "igagpbOBni5gCuNGMYdXge0CyPmnLE6huvNOOgMDAHwjISsvkbwRAAAAAElFTkSuQmCC\n",
       "\" style=\"display:inline;vertical-align:middle;\" /></a></td></tr>\n",
       "<tr><td>6</td><td>ExprTuple</td><td>9, 13</td><td><a class=\"ProveItLink\" href=\"../5c0d86e89e17450fba21eb9229f87a236998a9e60/expr.ipynb\"><img src=\"data:image/png;base64,iVBORw0KGgoAAAANSUhEUgAAADkAAAAVBAMAAAAOWFv7AAAAMFBMVEX////c3NwiIiJERESqqqqY\n",
       "mJh2dnZmZmYQEBDu7u4yMjJUVFTMzMyIiIi6uroAAAAs73DqAAAAAXRSTlMAQObYZgAAARZJREFU\n",
       "KM9jYMAP+C7gkIgDEaexSHDuUGBgYD8AZK3Epo9rA5BYwMDAi9VgfgcgEcbAwDEBm+x7kOgMBoZX\n",
       "WF2UBCKYHRjKkMQY9+Y1Qlir725lYGArYFiKJPtCgPkDxM2fGfgPMLAsYOhD0vqVgd0AzGL5ycCR\n",
       "wMDXwPAPKLpICQQecH9gYIL4gH0BA38BA88HkCzcGwYM8w+AWUwFDO8DQLItCFn5Cwz+DBOg3q2f\n",
       "ADLZFCE734FhF8sBTpDsAYY2BgbWBQzpSMEXwKLOxjAfGMTcDuwbwD56hOzde4fvMcz4CPTR3lKQ\n",
       "6gcMHALo4fQQxgCGJGsCumwAjJGLLQZhspzAGGSQRpPkhTG4QXYy4ko5dxgYAFbCP2d/Jc51AAAA\n",
       "AElFTkSuQmCC\n",
       "\" style=\"display:inline;vertical-align:middle;\" /></a></td></tr>\n",
       "<tr><td>7</td><td>Literal</td><td></td><td><a class=\"ProveItLink\" href=\"../../../addition/__pv_it/3e6688136fa3c7aefbebe51301b7c3ebf0b69c440/expr.ipynb\"><img src=\"data:image/png;base64,iVBORw0KGgoAAAANSUhEUgAAAA4AAAAOBAMAAADtZjDiAAAAJFBMVEX///+6urpUVFQQEBAiIiIy\n",
       "MjJmZmaIiIiqqqrc3Nzu7u4AAACgHpL+AAAAAXRSTlMAQObYZgAAAB5JREFUCNdjYGBgWMkAAe2k\n",
       "0Kmhoc6hoUGk6BMHYgAHOwjcado9fwAAAABJRU5ErkJggg==\n",
       "\" style=\"display:inline;vertical-align:middle;\" /></a></td></tr>\n",
       "<tr><td>8</td><td>ExprTuple</td><td>11, 10</td><td><a class=\"ProveItLink\" href=\"../3267b4b0f64422c1a2b59c3baad7b14b5fb063710/expr.ipynb\"><img src=\"data:image/png;base64,iVBORw0KGgoAAAANSUhEUgAAADkAAAAVBAMAAAAOWFv7AAAAMFBMVEX////c3NwiIiJERESqqqqY\n",
       "mJh2dnZmZmYQEBDu7u4yMjJUVFTMzMyIiIi6uroAAAAs73DqAAAAAXRSTlMAQObYZgAAARhJREFU\n",
       "KM9jYMAP+C7gkIgDEaexSHDuUGBgYD8AZK3Epo9rA5BYwMDAi9VgfgcgEcbAwDEBm+x7kOgMBoZX\n",
       "WF2UBCKYHRjKgBTj3rxGVNnVd7cyMLAVMCwFsl8IMH9AdfNnBv4DDCwLGPqAWr8ysBugyLL8ZOBI\n",
       "YOBrYPjHwMD9gYEJ4nLGRUog8IB9AQN/AQPPB5AsvwHD/AMoepkKGN4HgGRbGBjkLzD4M0xA8279\n",
       "BJDJpgwM8x0YdrEc4ESWPcDQxsDAuoAhHRhsASzqbAzzFRCy3A7sG8A+egTy7r3D9xhmfETy0d5S\n",
       "UGA/YOAQgAk9RA8wYEiyJsA4AeiyucgxiC7LCYxBBmkohxddKzfITkZcKecOAwMA4RA/ZxOQ4xwA\n",
       "AAAASUVORK5CYII=\n",
       "\" style=\"display:inline;vertical-align:middle;\" /></a></td></tr>\n",
       "<tr><td>9</td><td>Operation</td><td>operator:&nbsp;12<br>operand:&nbsp;11<br></td><td><a class=\"ProveItLink\" href=\"../b2c82962af89a3e111b6dce525aac2b18a2c39ca0/expr.ipynb\"><img src=\"data:image/png;base64,iVBORw0KGgoAAAANSUhEUgAAABoAAAAJBAMAAADeJiHIAAAAMFBMVEX///+qqqrMzMzu7u5mZmaY\n",
       "mJhEREQQEBB2dnaIiIhUVFS6uroiIiIyMjLc3NwAAAAxFEmoAAAAAXRSTlMAQObYZgAAAExJREFU\n",
       "CNdjYICBVzO2P4BzuOsY8uEchvcBDG4MDG/PgMBphvUMDCcRct8YmD/BOXw/GRg/MMN4zB8ZuC4I\n",
       "wSWvMsg4NCCsm7kpcwMArzoXiK6Dv2MAAAAASUVORK5CYII=\n",
       "\" style=\"display:inline;vertical-align:middle;\" /></a></td></tr>\n",
       "<tr><td>10</td><td>Operation</td><td>operator:&nbsp;12<br>operand:&nbsp;13<br></td><td><a class=\"ProveItLink\" href=\"../06c6ab65c2c39cebd6acdbe16314c5cc355156b90/expr.ipynb\"><img src=\"data:image/png;base64,iVBORw0KGgoAAAANSUhEUgAAABgAAAAOBAMAAADH1sFNAAAAMFBMVEX///9mZmbMzMxERESYmJiI\n",
       "iIh2dnaqqqoQEBBUVFTu7u66uroiIiIyMjLc3NwAAABYXk/VAAAAAXRSTlMAQObYZgAAAFRJREFU\n",
       "CNdjYICClT0MSOAmMuc7Epv7FxKH7QASh3dqpAOcs96A4ROcU7+AoY3h7RkQOM0gy8DwES5zkIH7\n",
       "C5I1jAjDPzFwJMA50xkkEfasDHRgAABNpxc6/bk9/gAAAABJRU5ErkJggg==\n",
       "\" style=\"display:inline;vertical-align:middle;\" /></a></td></tr>\n",
       "<tr><td>11</td><td>Variable</td><td></td><td><a class=\"ProveItLink\" href=\"../../../../__pv_it/07527342713064c87612d00d8557c53d53d5324a0/expr.ipynb\"><img src=\"data:image/png;base64,iVBORw0KGgoAAAANSUhEUgAAAAsAAAAJBAMAAAAWSsseAAAAMFBMVEX///8yMjKqqqrMzMzu7u4i\n",
       "IiJmZmaYmJhEREQQEBC6urp2dnaIiIhUVFTc3NwAAAD87Fq/AAAAAXRSTlMAQObYZgAAAEhJREFU\n",
       "CNdjYOC7s2seAwPDygccHxgY+L4zsDUwMPB+YGA9wMDA38Dgb8DA8P4Agz6DA4O/AsNFJgMGxgKm\n",
       "MG6gyjunLE4xAAAZTBA5TB6DCwAAAABJRU5ErkJggg==\n",
       "\" style=\"display:inline;vertical-align:middle;\" /></a></td></tr>\n",
       "<tr><td>12</td><td>Literal</td><td></td><td><a class=\"ProveItLink\" href=\"../3fc7a08bb9735faa20ef8e175f6ea95511acc9c70/expr.ipynb\"><img src=\"data:image/png;base64,iVBORw0KGgoAAAANSUhEUgAAAA4AAAACBAMAAACapPCZAAAAElBMVEX///+6uroiIiIyMjLc3NwA\n",
       "AAA6l9OrAAAAAXRSTlMAQObYZgAAABBJREFUCNdjcFYCAUUGKAAADR4BD8/TF5gAAAAASUVORK5C\n",
       "YII=\n",
       "\" style=\"display:inline;vertical-align:middle;\" /></a></td></tr>\n",
       "<tr><td>13</td><td>Variable</td><td></td><td><a class=\"ProveItLink\" href=\"../../../../__pv_it/6840a4fa6c106149dc16a131294d0c5e44f1b0480/expr.ipynb\"><img src=\"data:image/png;base64,iVBORw0KGgoAAAANSUhEUgAAAAkAAAAOBAMAAAAPuiubAAAALVBMVEX///9mZmbMzMxERESYmJiI\n",
       "iIh2dna6urqqqqoyMjIiIiIQEBBUVFTu7u4AAAD9S1JeAAAAAXRSTlMAQObYZgAAAE1JREFUCNdj\n",
       "4D29gAEIOA+ASL4GEFl3AURmgQiGOaFHGBh4HzPwKTBwvGXgTmBgnMDAJ8DAJcBQ5wBSLncBJLWN\n",
       "gYGngRFoBO9REQYGAGrcDtUkVqASAAAAAElFTkSuQmCC\n",
       "\" style=\"display:inline;vertical-align:middle;\" /></a></td></tr>\n",
       "</table>\n"
      ],
      "text/plain": [
       "0. (-(a - b)) = (-a + b)\n",
       "   core type: Operation\n",
       "   operator: 1\n",
       "   operands: 2\n",
       "1. =\n",
       "   core type: Literal\n",
       "   sub-expressions: \n",
       "2. (-(a - b) , -a + b)\n",
       "   core type: ExprTuple\n",
       "   sub-expressions: 3, 4\n",
       "3. -(a - b)\n",
       "   core type: Operation\n",
       "   operator: 12\n",
       "   operand: 5\n",
       "4. -a + b\n",
       "   core type: Operation\n",
       "   operator: 7\n",
       "   operands: 6\n",
       "5. a - b\n",
       "   core type: Operation\n",
       "   operator: 7\n",
       "   operands: 8\n",
       "6. (-a , b)\n",
       "   core type: ExprTuple\n",
       "   sub-expressions: 9, 13\n",
       "7. +\n",
       "   core type: Literal\n",
       "   sub-expressions: \n",
       "8. (a , -b)\n",
       "   core type: ExprTuple\n",
       "   sub-expressions: 11, 10\n",
       "9. -a\n",
       "   core type: Operation\n",
       "   operator: 12\n",
       "   operand: 11\n",
       "10. -b\n",
       "    core type: Operation\n",
       "    operator: 12\n",
       "    operand: 13\n",
       "11. a\n",
       "    core type: Variable\n",
       "    sub-expressions: \n",
       "12. -\n",
       "    core type: Literal\n",
       "    sub-expressions: \n",
       "13. b\n",
       "    core type: Variable\n",
       "    sub-expressions: "
      ]
     },
     "execution_count": 4,
     "metadata": {},
     "output_type": "execute_result"
    }
   ],
   "source": [
    "# display the expression information\n",
    "expr.exprInfo()"
   ]
  },
  {
   "cell_type": "code",
   "execution_count": null,
   "metadata": {},
   "outputs": [],
   "source": []
  }
 ],
 "metadata": {
  "kernelspec": {
   "display_name": "Python 3",
   "language": "python",
   "name": "python3"
  }
 },
 "nbformat": 4,
 "nbformat_minor": 0
}
