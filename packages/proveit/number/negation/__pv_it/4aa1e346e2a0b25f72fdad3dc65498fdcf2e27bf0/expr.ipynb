{
 "cells": [
  {
   "cell_type": "markdown",
   "metadata": {},
   "source": [
    "Expression of type <a class=\"ProveItLink\" href=\"../../../../../../doc/html/api/proveit.logic.Equals.html\">Equals</a>\n",
    "=======================\n",
    "# from context <a class=\"ProveItLink\" href=\"../../_context_.ipynb\">proveit.number.negation</a>"
   ]
  },
  {
   "cell_type": "code",
   "execution_count": 1,
   "metadata": {},
   "outputs": [],
   "source": [
    "# import Expression classes needed to build the expression\n",
    "from proveit._common_ import x\n",
    "from proveit.logic import Equals\n",
    "from proveit.number import Mult, Neg, one"
   ]
  },
  {
   "cell_type": "code",
   "execution_count": 2,
   "metadata": {},
   "outputs": [
    {
     "data": {
      "text/html": [
       "<strong id=\"expr\">expr:</strong> <a class=\"ProveItLink\" href=\"expr.ipynb\"><img src=\"data:image/png;base64,iVBORw0KGgoAAAANSUhEUgAAAJkAAAAVBAMAAACnAFEqAAAAMFBMVEX////c3NwiIiJERESqqqqY\n",
       "mJh2dnZmZmYQEBDu7u4yMjJUVFTMzMyIiIi6uroAAAAs73DqAAAAAXRSTlMAQObYZgAAAdxJREFU\n",
       "OMtjYKAu4LuALvIWlRsHxKwPMDWiKQOrYziNropnAxLHkoGB/QCQrmHAqwwEwOpWoivjmoBgT/4J\n",
       "JBaABBnwKYMAoDpeDI/eRTBn7waZFgbyagIeZVAAVMeBYUUnEpsXZNoMIOZswKcMAoDqXmHEygJ0\n",
       "05gdgIQJPmUQAFRXBqTEbotch3uYPQHdNLYCIJGOHuZIyhhzN/rWgtUtBfoigVWVQwEeugHoprGA\n",
       "nOEF4latAoHV6MqmMQQFNIHV9QHNZOD9wAKKXk5QGHI8QDeNDxRmL9DchqwsgeE+gw9Y3T+gIQzc\n",
       "BmDR+SAH8gOVSSmBgB7UNJ4PQOI8mmnIyiYwbGaAqPsHtggSajMMoMpQ3YbTNATohZrWAqLlDzDA\n",
       "EwqHA26fFoEdo4yhjPEP0IMgdabAlClwn4EXbhozRiywgmIhCj05ICkL5P3AcBOsDhjz/gEWDLJw\n",
       "KXB6IJxCkJSxfGVuYLwAFnoEzIzXpuUibOJTQEpUFb9KgYkBFETr0FMvQhmnbWbaVQawOg4B9CTd\n",
       "iCXHYMlZjdhyFmZ2DkMXyAV57AJBZWB1KwkVNZygSJhFuEQCq5NGV8aIVgxyg8JiIwMhZRB1jBh+\n",
       "kEXl3gHF7QHMkhxNGUgdAJVpe6XA9ijNAAAAAElFTkSuQmCC\n",
       "\" style=\"display:inline;vertical-align:middle;\" /></a><br>"
      ],
      "text/plain": [
       "expr: (x * (-1)) = (-x)"
      ]
     },
     "execution_count": 2,
     "metadata": {},
     "output_type": "execute_result"
    }
   ],
   "source": [
    "# build up the expression from sub-expressions\n",
    "expr = Equals(Mult(x, Neg(one)), Neg(x))"
   ]
  },
  {
   "cell_type": "code",
   "execution_count": 3,
   "metadata": {},
   "outputs": [
    {
     "name": "stdout",
     "output_type": "stream",
     "text": [
      "Passed sanity check: built 'expr' is the same as the stored Expression.\n"
     ]
    }
   ],
   "source": [
    "# check that the built expression is the same as the stored expression\n",
    "%check_expr"
   ]
  },
  {
   "cell_type": "code",
   "execution_count": 4,
   "metadata": {},
   "outputs": [
    {
     "data": {
      "text/html": [
       "<table><tr><th>&nbsp;</th><th>core type</th><th>sub-expressions</th><th>expression</th></tr>\n",
       "<tr><td>0</td><td>Operation</td><td>operator:&nbsp;1<br>operands:&nbsp;2<br></td><td><a class=\"ProveItLink\" href=\"expr.ipynb\"><img src=\"data:image/png;base64,iVBORw0KGgoAAAANSUhEUgAAAJkAAAAVBAMAAACnAFEqAAAAMFBMVEX////c3NwiIiJERESqqqqY\n",
       "mJh2dnZmZmYQEBDu7u4yMjJUVFTMzMyIiIi6uroAAAAs73DqAAAAAXRSTlMAQObYZgAAAdxJREFU\n",
       "OMtjYKAu4LuALvIWlRsHxKwPMDWiKQOrYziNropnAxLHkoGB/QCQrmHAqwwEwOpWoivjmoBgT/4J\n",
       "JBaABBnwKYMAoDpeDI/eRTBn7waZFgbyagIeZVAAVMeBYUUnEpsXZNoMIOZswKcMAoDqXmHEygJ0\n",
       "05gdgIQJPmUQAFRXBqTEbotch3uYPQHdNLYCIJGOHuZIyhhzN/rWgtUtBfoigVWVQwEeugHoprGA\n",
       "nOEF4latAoHV6MqmMQQFNIHV9QHNZOD9wAKKXk5QGHI8QDeNDxRmL9DchqwsgeE+gw9Y3T+gIQzc\n",
       "BmDR+SAH8gOVSSmBgB7UNJ4PQOI8mmnIyiYwbGaAqPsHtggSajMMoMpQ3YbTNATohZrWAqLlDzDA\n",
       "EwqHA26fFoEdo4yhjPEP0IMgdabAlClwn4EXbhozRiywgmIhCj05ICkL5P3AcBOsDhjz/gEWDLJw\n",
       "KXB6IJxCkJSxfGVuYLwAFnoEzIzXpuUibOJTQEpUFb9KgYkBFETr0FMvQhmnbWbaVQawOg4B9CTd\n",
       "iCXHYMlZjdhyFmZ2DkMXyAV57AJBZWB1KwkVNZygSJhFuEQCq5NGV8aIVgxyg8JiIwMhZRB1jBh+\n",
       "kEXl3gHF7QHMkhxNGUgdAJVpe6XA9ijNAAAAAElFTkSuQmCC\n",
       "\" style=\"display:inline;vertical-align:middle;\" /></a></td></tr>\n",
       "<tr><td>1</td><td>Literal</td><td></td><td><a class=\"ProveItLink\" href=\"../../../../logic/equality/__pv_it/2fb26078095930560931daa0500ce419a39ea6cd0/expr.ipynb\"><img src=\"data:image/png;base64,iVBORw0KGgoAAAANSUhEUgAAAA4AAAAFBAMAAACHocAhAAAAFVBMVEX///9EREQiIiJUVFQyMjJm\n",
       "ZmYAAADubVkoAAAAAXRSTlMAQObYZgAAABRJREFUCNdjCHEBAWcGXCBICQQUAUpuAwlgGKrkAAAA\n",
       "AElFTkSuQmCC\n",
       "\" style=\"display:inline;vertical-align:middle;\" /></a></td></tr>\n",
       "<tr><td>2</td><td>ExprTuple</td><td>3, 4</td><td><a class=\"ProveItLink\" href=\"../c5853ba171c69c8f8db8975af2c4a3f970dc316e0/expr.ipynb\"><img src=\"data:image/png;base64,iVBORw0KGgoAAAANSUhEUgAAAHoAAAAVBAMAAAB71edYAAAAMFBMVEX////c3NwiIiJERESqqqqY\n",
       "mJh2dnZmZmYQEBDu7u4yMjJUVFTMzMyIiIi6uroAAAAs73DqAAAAAXRSTlMAQObYZgAAAXRJREFU\n",
       "OMtjYKAM8F0gIBCHQyPrAyBxGl0URcCSgYH9AA7tNUC8El0QWWDyTyCxAIduLgYGXnSHIwvM3g3S\n",
       "HYbL6QkMHBPQxFAEeEG6Z+DQzdnA8ApdDEUArJvZAYd2E4YyICl2W+Q63L1lGLrZCtC1QTWkMywF\n",
       "uiCBVZVDASazFEM3C3qwwTR4MfQBzWbg/cACipaZIKk+DN18DWi6YRpeMPwDGsXAbQA28hOIBAow\n",
       "SCmBgB5UN88HqC7GRWDxBzAN58GKGTjAvuZshulGtRuuGyliLkB0t4Ao+QMM8HhqIexymIYXDKbA\n",
       "WBe4z8AL122KoZsVFGqcyMkEqiEKGOoM/gEWDLJwqXTsMTZfASEK05DO8AiYmK9Nyw2ASz1C0sxe\n",
       "8asUmJ5BmWnGR6TUD9WwjoFDAD1A0AWgKfUhtpQKTOoYaR8N5ILJAAzdbBcI5FCwFQtw6J4FxNLo\n",
       "gugC3GCv8GJmko2gBISewdEF7uDIYbwHGAAObGOF2RAXKwAAAABJRU5ErkJggg==\n",
       "\" style=\"display:inline;vertical-align:middle;\" /></a></td></tr>\n",
       "<tr><td>3</td><td>Operation</td><td>operator:&nbsp;5<br>operands:&nbsp;6<br></td><td><a class=\"ProveItLink\" href=\"../e9a937cebfcc6a7ba8a83ed6a7843b9b18e05a960/expr.ipynb\"><img src=\"data:image/png;base64,iVBORw0KGgoAAAANSUhEUgAAAEMAAAAVBAMAAADvM06qAAAAMFBMVEX///8yMjK6urpERETMzMwQ\n",
       "EBAiIiKYmJju7u5mZmaqqqpUVFSIiIh2dnbc3NwAAADpJKkdAAAAAXRSTlMAQObYZgAAAOtJREFU\n",
       "KM9jYCAd6KByizBVsGxA4lgwMHA6YChhbECwm38ACQEMJWcQzO7dICW1GEoikNg8ICWt6CqYBNCV\n",
       "MC9gYHh7+tXJAzBRzgvoSngnMHBcYE9nTYC7tgBdCZcAAy8DzwcukM86QKKsCuhKmAIYOBi4DUB8\n",
       "jm8gkh+o5GEaCCRBlbB8AOkEu4QjGKYE1RSwkvcODPDwYl2AxSL2B+cZeOBKmDGcyy7AsL7AlOEN\n",
       "XBToRUxPN5/tvYPQypSAUME59eN0YDAooAdvHLoARgRgxtodvIkBHBaYiYFvAyqf+wFmsnuDyj3C\n",
       "wAAA5Hg6HkS3gV0AAAAASUVORK5CYII=\n",
       "\" style=\"display:inline;vertical-align:middle;\" /></a></td></tr>\n",
       "<tr><td>4</td><td>Operation</td><td>operator:&nbsp;9<br>operand:&nbsp;7<br></td><td><a class=\"ProveItLink\" href=\"../ec491d1ab556397bab855f0d64a1b1d8fed3cb290/expr.ipynb\"><img src=\"data:image/png;base64,iVBORw0KGgoAAAANSUhEUgAAABoAAAAJBAMAAADeJiHIAAAAMFBMVEX///9ERETMzMwQEBCYmJju\n",
       "7u5mZmaqqqpUVFSIiIh2dna6uroiIiIyMjLc3NwAAABBuwp8AAAAAXRSTlMAQObYZgAAAEpJREFU\n",
       "CNdjYIACvpV9lZkwDkMUg4+DDZy3gGE+QxHD2zMgcJohgKGRARlYInP4PjGwwjl+nB8YpsI47F8Y\n",
       "DfgmwHiskktXTWEAAJw3EmXq6rg8AAAAAElFTkSuQmCC\n",
       "\" style=\"display:inline;vertical-align:middle;\" /></a></td></tr>\n",
       "<tr><td>5</td><td>Literal</td><td></td><td><a class=\"ProveItLink\" href=\"../../../multiplication/__pv_it/21fd2079611555ecce512d99547a00d551e6b86b0/expr.ipynb\"><img src=\"data:image/png;base64,iVBORw0KGgoAAAANSUhEUgAAAAMAAAADBAMAAACkBqiMAAAAElBMVEX///9EREQQEBAiIiLu7u4A\n",
       "AABGBidwAAAAAXRSTlMAQObYZgAAABFJREFUCNdjYHFgcDVgcBIAAASWAQx4jI0xAAAAAElFTkSu\n",
       "QmCC\n",
       "\" style=\"display:inline;vertical-align:middle;\" /></a></td></tr>\n",
       "<tr><td>6</td><td>ExprTuple</td><td>7, 8</td><td><a class=\"ProveItLink\" href=\"../48f6cc90e845ee69baf3db372f3c8230ba629dff0/expr.ipynb\"><img src=\"data:image/png;base64,iVBORw0KGgoAAAANSUhEUgAAADsAAAAVBAMAAAAKrYvGAAAAMFBMVEX////c3NwiIiJERESqqqqY\n",
       "mJh2dnZmZmYQEBDu7u4yMjJUVFTMzMyIiIi6uroAAAAs73DqAAAAAXRSTlMAQObYZgAAAO5JREFU\n",
       "KM9jYCAA+C7gkokDEaexy1kyMLAfANIrscpO/gkkFjAw8GI1e/ZukHQYAwPHBKy6eUHSMxgYXjHg\n",
       "lmZ2YCgDUmK3Ra5fwCLNVsCwlIGBM4FVlUMBizTLAoY+oCIG3g8sB7BI8zUw/APqZuA2gIpKKYGA\n",
       "HlSa5wNIGuj8C1idBpRuAXHkDzBMwG64KQMDq8B9Bt4JqArA0qwLGNIZGPwDLBhkGTg/YfPYI2D4\n",
       "XpuWG8DA2S+AkGWv+FXKwMD1gIEDLsgngO4+YKCyJsA4rBghm4scoRjSnMAIZZCG8TD8zg2yjRFn\n",
       "YrrDwAAAxvs5jkEh4w0AAAAASUVORK5CYII=\n",
       "\" style=\"display:inline;vertical-align:middle;\" /></a></td></tr>\n",
       "<tr><td>7</td><td>Variable</td><td></td><td><a class=\"ProveItLink\" href=\"../../../../__pv_it/530be409e3083890784cf1d7b28c9e67e90af9360/expr.ipynb\"><img src=\"data:image/png;base64,iVBORw0KGgoAAAANSUhEUgAAAAsAAAAJBAMAAAAWSsseAAAAKlBMVEX///9ERETMzMwQEBAiIiKY\n",
       "mJju7u5mZmaqqqpUVFSIiIh2dnbc3NwAAAA/vyDhAAAAAXRSTlMAQObYZgAAAENJREFUCNdjYDi9\n",
       "8sTyBQxsG1hdmR0YuBm4LnAoMLAxcAowgADzAjB1VoEhgYH1wFoGrgSG3gBhhlMMDImrs3cFMAAA\n",
       "t0YN+iTRa+sAAAAASUVORK5CYII=\n",
       "\" style=\"display:inline;vertical-align:middle;\" /></a></td></tr>\n",
       "<tr><td>8</td><td>Operation</td><td>operator:&nbsp;9<br>operand:&nbsp;10<br></td><td><a class=\"ProveItLink\" href=\"../ddd1e3fa3a10f66bb77bd0865d155c97a819ba4a0/expr.ipynb\"><img src=\"data:image/png;base64,iVBORw0KGgoAAAANSUhEUgAAABgAAAAPBAMAAAAMihLoAAAAJ1BMVEX///+YmJgQEBBmZmaIiIhU\n",
       "VFTu7u5ERES6uroiIiIyMjLc3NwAAAAKCT4sAAAAAXRSTlMAQObYZgAAACpJREFUCNdjYICDMgST\n",
       "If0Ygp0aisRhYCGTs2smCMwg3wAYYDY6ZciADABBShCHMIgXsAAAAABJRU5ErkJggg==\n",
       "\" style=\"display:inline;vertical-align:middle;\" /></a></td></tr>\n",
       "<tr><td>9</td><td>Literal</td><td></td><td><a class=\"ProveItLink\" href=\"../3fc7a08bb9735faa20ef8e175f6ea95511acc9c70/expr.ipynb\"><img src=\"data:image/png;base64,iVBORw0KGgoAAAANSUhEUgAAAA4AAAACBAMAAACapPCZAAAAElBMVEX///+6uroiIiIyMjLc3NwA\n",
       "AAA6l9OrAAAAAXRSTlMAQObYZgAAABBJREFUCNdjcFYCAUUGKAAADR4BD8/TF5gAAAAASUVORK5C\n",
       "YII=\n",
       "\" style=\"display:inline;vertical-align:middle;\" /></a></td></tr>\n",
       "<tr><td>10</td><td>Literal</td><td></td><td><a class=\"ProveItLink\" href=\"../../../numeral/__pv_it/9be8badea4c35b9724062cecc501d17a3158d1d20/expr.ipynb\"><img src=\"data:image/png;base64,iVBORw0KGgoAAAANSUhEUgAAAAgAAAAPBAMAAAArJJMAAAAAHlBMVEX///+YmJgyMjIQEBBmZmaI\n",
       "iIhUVFTu7u5EREQAAAAw+MI4AAAAAXRSTlMAQObYZgAAACFJREFUCNdjYGBoZ2BgqJjOwFCWBiQY\n",
       "WEklWJwnOTKAAACjEQo8HvEr3AAAAABJRU5ErkJggg==\n",
       "\" style=\"display:inline;vertical-align:middle;\" /></a></td></tr>\n",
       "</table>\n"
      ],
      "text/plain": [
       "0. (x * (-1)) = (-x)\n",
       "   core type: Operation\n",
       "   operator: 1\n",
       "   operands: 2\n",
       "1. =\n",
       "   core type: Literal\n",
       "   sub-expressions: \n",
       "2. (x * (-1) , -x)\n",
       "   core type: ExprTuple\n",
       "   sub-expressions: 3, 4\n",
       "3. x * (-1)\n",
       "   core type: Operation\n",
       "   operator: 5\n",
       "   operands: 6\n",
       "4. -x\n",
       "   core type: Operation\n",
       "   operator: 9\n",
       "   operand: 7\n",
       "5. *\n",
       "   core type: Literal\n",
       "   sub-expressions: \n",
       "6. (x , -1)\n",
       "   core type: ExprTuple\n",
       "   sub-expressions: 7, 8\n",
       "7. x\n",
       "   core type: Variable\n",
       "   sub-expressions: \n",
       "8. -1\n",
       "   core type: Operation\n",
       "   operator: 9\n",
       "   operand: 10\n",
       "9. -\n",
       "   core type: Literal\n",
       "   sub-expressions: \n",
       "10. 1\n",
       "    core type: Literal\n",
       "    sub-expressions: "
      ]
     },
     "execution_count": 4,
     "metadata": {},
     "output_type": "execute_result"
    }
   ],
   "source": [
    "# display the expression information\n",
    "expr.exprInfo()"
   ]
  },
  {
   "cell_type": "code",
   "execution_count": null,
   "metadata": {},
   "outputs": [],
   "source": []
  }
 ],
 "metadata": {
  "kernelspec": {
   "display_name": "Python 3",
   "language": "python",
   "name": "python3"
  }
 },
 "nbformat": 4,
 "nbformat_minor": 0
}
