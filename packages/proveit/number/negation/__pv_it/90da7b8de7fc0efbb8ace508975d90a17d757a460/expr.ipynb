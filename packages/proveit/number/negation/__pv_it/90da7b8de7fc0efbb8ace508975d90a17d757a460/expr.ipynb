{
 "cells": [
  {
   "cell_type": "markdown",
   "metadata": {},
   "source": [
    "Expression of type <a class=\"ProveItLink\" href=\"../../../../../../doc/html/api/proveit.logic.Equals.html\">Equals</a>\n",
    "=======================\n",
    "# from context <a class=\"ProveItLink\" href=\"../../_context_.ipynb\">proveit.number.negation</a>"
   ]
  },
  {
   "cell_type": "code",
   "execution_count": 1,
   "metadata": {},
   "outputs": [],
   "source": [
    "# import Expression classes needed to build the expression\n",
    "from proveit._common_ import x\n",
    "from proveit.logic import Equals\n",
    "from proveit.number import Neg"
   ]
  },
  {
   "cell_type": "code",
   "execution_count": 2,
   "metadata": {},
   "outputs": [
    {
     "data": {
      "text/html": [
       "<strong id=\"expr\">expr:</strong> <a class=\"ProveItLink\" href=\"expr.ipynb\"><img src=\"data:image/png;base64,iVBORw0KGgoAAAANSUhEUgAAAHUAAAAVBAMAAACK3rzVAAAAMFBMVEX////c3NwiIiJERESqqqqY\n",
       "mJh2dnZmZmYQEBDu7u4yMjJUVFTMzMyIiIi6uroAAAAs73DqAAAAAXRSTlMAQObYZgAAAR1JREFU\n",
       "OMtjYKAE8F3AzWNgYH0AwdjBaTw8IKiBYqxgJR4eEHBBMTbAewE3D+zoBAjGBjgm4OaBAGcDBGMD\n",
       "r/DwwMAEirGAMpw8sdsi14FeSGeAYBQAkVuKIobE40xgVeVQYGDwYoBgBvZVYLABIdeHoheJx8bA\n",
       "+4HlAAPDCwYIRgZQuX8MDIyLlEAAlAKQeJwM3AYgdeehGCUAIXL/UARReBwXcOmFyrWgCKHw5A8w\n",
       "TEByMzvYPUoGCDlTFL1IPFaB+wy8QL1RDBCMkmAgcqjBj8TzD7BgkGXAHkdQuUcogki8ydem5QYA\n",
       "6XVQjAygchwCKEEgQEqaRE3nmKme7QIEk5MHZ0ExViCNhwcEG6EYK2C8gJsHzNAHIBgbAACygVP9\n",
       "M963HwAAAABJRU5ErkJggg==\n",
       "\" style=\"display:inline;vertical-align:middle;\" /></a><br>"
      ],
      "text/plain": [
       "expr: (-(-x)) = x"
      ]
     },
     "execution_count": 2,
     "metadata": {},
     "output_type": "execute_result"
    }
   ],
   "source": [
    "# build up the expression from sub-expressions\n",
    "expr = Equals(Neg(Neg(x)), x)"
   ]
  },
  {
   "cell_type": "code",
   "execution_count": 3,
   "metadata": {},
   "outputs": [
    {
     "name": "stdout",
     "output_type": "stream",
     "text": [
      "Passed sanity check: built 'expr' is the same as the stored Expression.\n"
     ]
    }
   ],
   "source": [
    "# check that the built expression is the same as the stored expression\n",
    "%check_expr"
   ]
  },
  {
   "cell_type": "code",
   "execution_count": 4,
   "metadata": {},
   "outputs": [
    {
     "data": {
      "text/html": [
       "<table><tr><th>&nbsp;</th><th>core type</th><th>sub-expressions</th><th>expression</th></tr>\n",
       "<tr><td>0</td><td>Operation</td><td>operator:&nbsp;1<br>operands:&nbsp;2<br></td><td><a class=\"ProveItLink\" href=\"expr.ipynb\"><img src=\"data:image/png;base64,iVBORw0KGgoAAAANSUhEUgAAAHUAAAAVBAMAAACK3rzVAAAAMFBMVEX////c3NwiIiJERESqqqqY\n",
       "mJh2dnZmZmYQEBDu7u4yMjJUVFTMzMyIiIi6uroAAAAs73DqAAAAAXRSTlMAQObYZgAAAR1JREFU\n",
       "OMtjYKAE8F3AzWNgYH0AwdjBaTw8IKiBYqxgJR4eEHBBMTbAewE3D+zoBAjGBjgm4OaBAGcDBGMD\n",
       "r/DwwMAEirGAMpw8sdsi14FeSGeAYBQAkVuKIobE40xgVeVQYGDwYoBgBvZVYLABIdeHoheJx8bA\n",
       "+4HlAAPDCwYIRgZQuX8MDIyLlEAAlAKQeJwM3AYgdeehGCUAIXL/UARReBwXcOmFyrWgCKHw5A8w\n",
       "TEByMzvYPUoGCDlTFL1IPFaB+wy8QL1RDBCMkmAgcqjBj8TzD7BgkGXAHkdQuUcogki8ydem5QYA\n",
       "6XVQjAygchwCKEEgQEqaRE3nmKme7QIEk5MHZ0ExViCNhwcEG6EYK2C8gJsHzNAHIBgbAACygVP9\n",
       "M963HwAAAABJRU5ErkJggg==\n",
       "\" style=\"display:inline;vertical-align:middle;\" /></a></td></tr>\n",
       "<tr><td>1</td><td>Literal</td><td></td><td><a class=\"ProveItLink\" href=\"../../../../logic/equality/__pv_it/2fb26078095930560931daa0500ce419a39ea6cd0/expr.ipynb\"><img src=\"data:image/png;base64,iVBORw0KGgoAAAANSUhEUgAAAA4AAAAFBAMAAACHocAhAAAAFVBMVEX///9EREQiIiJUVFQyMjJm\n",
       "ZmYAAADubVkoAAAAAXRSTlMAQObYZgAAABRJREFUCNdjCHEBAWcGXCBICQQUAUpuAwlgGKrkAAAA\n",
       "AElFTkSuQmCC\n",
       "\" style=\"display:inline;vertical-align:middle;\" /></a></td></tr>\n",
       "<tr><td>2</td><td>ExprTuple</td><td>3, 6</td><td><a class=\"ProveItLink\" href=\"../3c695eea6f000d7ae03538d4de051c36f1a0ca5a0/expr.ipynb\"><img src=\"data:image/png;base64,iVBORw0KGgoAAAANSUhEUgAAAGUAAAAVBAMAAACtcD09AAAAMFBMVEX////c3NwiIiJERESqqqqY\n",
       "mJh2dnZmZmYQEBDu7u4yMjJUVFTMzMyIiIi6uroAAAAs73DqAAAAAXRSTlMAQObYZgAAAXRJREFU\n",
       "OMudk7FLw1AQxr/QJuZZUzKIg0UUwVUcFFwEZ1GsDg4OkklxKDg5KQRxVQtCEacidOgiFP+B7h3M\n",
       "oiIKDU7SqQhuIt57NuTdqyJ4w0t+H/c9Lpc74D+Rj34nwI6N9C15tJjUMq88MHigSUedSXXTM2gK\n",
       "VcBjxXiRmWIHhrABuGVd4CRDhIZwAXSY0Onv0azBmUXsM0GnkafhByp1J2Gr1Fg5BJw91JhHIxHY\n",
       "U+4EsJQIFawXj4BsFafMo5EDr5ulxr4mQoA2lukPhvgkGp2UMU1vRNaVolggNyNTbxNPGTfyMdRV\n",
       "njQYuRHzACc9zzHzMBpv0t1pbbA+IFRtc8yjke234ZFn87suYM3r4pH0atpKFRqtFucx1pPEG/Xr\n",
       "PRNaker1C/NodH5fKRXpeS09Zz7Ewu72nRzAGK7PPtv/eXbyvj47fAb7JhKOap6dCqW/d+ES3CNo\n",
       "F1BgKQXT01BnuiI5WaXFVsYyFshrGnc8A1+eolHbbCAdigAAAABJRU5ErkJggg==\n",
       "\" style=\"display:inline;vertical-align:middle;\" /></a></td></tr>\n",
       "<tr><td>3</td><td>Operation</td><td>operator:&nbsp;5<br>operand:&nbsp;4<br></td><td><a class=\"ProveItLink\" href=\"../5072b584867e0495b8c08f2b8f287fdd4cd7c6bd0/expr.ipynb\"><img src=\"data:image/png;base64,iVBORw0KGgoAAAANSUhEUgAAAD0AAAAVBAMAAAAHs/uBAAAAMFBMVEX///9ERESqqqqYmJh2dnZm\n",
       "ZmYQEBDu7u5UVFTMzMyIiIi6uroiIiIyMjLc3NwAAAB7vQThAAAAAXRSTlMAQObYZgAAAMdJREFU\n",
       "KM9jYCAecC9AE7BG5c5A18A6AYV7HcPEC8gcrgUY8ibIHLYCDPkyZM5eTBczKiBxQpDYfF59WlEM\n",
       "DCwBSGKXkdglDDYGOQwMTMgOzEZiOzCsZ9AEhkgCw9szIHAaKPYbiGG8AoZGkDLOD0h6fqM4LQtD\n",
       "PglZmu8nAzvYfAQQRmLbcX1gWM7AwIzsPlcEk+kzYwLfAjT/7UEw2aXcXRYDad4NyOH7AH/4Mjtg\n",
       "yHvhj192lPhleIEuz4FqIx96AljJwAAAF7cuwrGxnTwAAAAASUVORK5CYII=\n",
       "\" style=\"display:inline;vertical-align:middle;\" /></a></td></tr>\n",
       "<tr><td>4</td><td>Operation</td><td>operator:&nbsp;5<br>operand:&nbsp;6<br></td><td><a class=\"ProveItLink\" href=\"../ec491d1ab556397bab855f0d64a1b1d8fed3cb290/expr.ipynb\"><img src=\"data:image/png;base64,iVBORw0KGgoAAAANSUhEUgAAABoAAAAJBAMAAADeJiHIAAAAMFBMVEX///9ERETMzMwQEBCYmJju\n",
       "7u5mZmaqqqpUVFSIiIh2dna6uroiIiIyMjLc3NwAAABBuwp8AAAAAXRSTlMAQObYZgAAAEpJREFU\n",
       "CNdjYIACvpV9lZkwDkMUg4+DDZy3gGE+QxHD2zMgcJohgKGRARlYInP4PjGwwjl+nB8YpsI47F8Y\n",
       "DfgmwHiskktXTWEAAJw3EmXq6rg8AAAAAElFTkSuQmCC\n",
       "\" style=\"display:inline;vertical-align:middle;\" /></a></td></tr>\n",
       "<tr><td>5</td><td>Literal</td><td></td><td><a class=\"ProveItLink\" href=\"../3fc7a08bb9735faa20ef8e175f6ea95511acc9c70/expr.ipynb\"><img src=\"data:image/png;base64,iVBORw0KGgoAAAANSUhEUgAAAA4AAAACBAMAAACapPCZAAAAElBMVEX///+6uroiIiIyMjLc3NwA\n",
       "AAA6l9OrAAAAAXRSTlMAQObYZgAAABBJREFUCNdjcFYCAUUGKAAADR4BD8/TF5gAAAAASUVORK5C\n",
       "YII=\n",
       "\" style=\"display:inline;vertical-align:middle;\" /></a></td></tr>\n",
       "<tr><td>6</td><td>Variable</td><td></td><td><a class=\"ProveItLink\" href=\"../../../../__pv_it/530be409e3083890784cf1d7b28c9e67e90af9360/expr.ipynb\"><img src=\"data:image/png;base64,iVBORw0KGgoAAAANSUhEUgAAAAsAAAAJBAMAAAAWSsseAAAAKlBMVEX///9ERETMzMwQEBAiIiKY\n",
       "mJju7u5mZmaqqqpUVFSIiIh2dnbc3NwAAAA/vyDhAAAAAXRSTlMAQObYZgAAAENJREFUCNdjYDi9\n",
       "8sTyBQxsG1hdmR0YuBm4LnAoMLAxcAowgADzAjB1VoEhgYH1wFoGrgSG3gBhhlMMDImrs3cFMAAA\n",
       "t0YN+iTRa+sAAAAASUVORK5CYII=\n",
       "\" style=\"display:inline;vertical-align:middle;\" /></a></td></tr>\n",
       "</table>\n"
      ],
      "text/plain": [
       "0. (-(-x)) = x\n",
       "   core type: Operation\n",
       "   operator: 1\n",
       "   operands: 2\n",
       "1. =\n",
       "   core type: Literal\n",
       "   sub-expressions: \n",
       "2. (-(-x) , x)\n",
       "   core type: ExprTuple\n",
       "   sub-expressions: 3, 6\n",
       "3. -(-x)\n",
       "   core type: Operation\n",
       "   operator: 5\n",
       "   operand: 4\n",
       "4. -x\n",
       "   core type: Operation\n",
       "   operator: 5\n",
       "   operand: 6\n",
       "5. -\n",
       "   core type: Literal\n",
       "   sub-expressions: \n",
       "6. x\n",
       "   core type: Variable\n",
       "   sub-expressions: "
      ]
     },
     "execution_count": 4,
     "metadata": {},
     "output_type": "execute_result"
    }
   ],
   "source": [
    "# display the expression information\n",
    "expr.exprInfo()"
   ]
  },
  {
   "cell_type": "code",
   "execution_count": null,
   "metadata": {},
   "outputs": [],
   "source": []
  }
 ],
 "metadata": {
  "kernelspec": {
   "display_name": "Python 3",
   "language": "python",
   "name": "python3"
  }
 },
 "nbformat": 4,
 "nbformat_minor": 0
}
