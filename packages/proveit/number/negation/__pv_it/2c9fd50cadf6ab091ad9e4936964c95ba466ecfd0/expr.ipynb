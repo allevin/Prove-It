{
 "cells": [
  {
   "cell_type": "markdown",
   "metadata": {},
   "source": [
    "Expression of type <a class=\"ProveItLink\" href=\"../../../../../../doc/html/api/proveit.ExprTuple.html\">ExprTuple</a>\n",
    "=======================\n",
    "# from context <a class=\"ProveItLink\" href=\"../../_context_.ipynb\">proveit.number.negation</a>"
   ]
  },
  {
   "cell_type": "code",
   "execution_count": 1,
   "metadata": {},
   "outputs": [],
   "source": [
    "# import Expression classes needed to build the expression\n",
    "from proveit import ExprTuple\n",
    "from proveit._common_ import x\n",
    "from proveit.number import Mult, Neg, one"
   ]
  },
  {
   "cell_type": "code",
   "execution_count": 2,
   "metadata": {},
   "outputs": [
    {
     "data": {
      "text/html": [
       "<strong id=\"expr\">expr:</strong> <a class=\"ProveItLink\" href=\"expr.ipynb\"><img src=\"data:image/png;base64,iVBORw0KGgoAAAANSUhEUgAAAHcAAAAVBAMAAACOK2zoAAAAMFBMVEX////c3NwiIiJERESqqqqY\n",
       "mJh2dnZmZmYQEBDu7u4yMjJUVFTMzMyIiIi6uroAAAAs73DqAAAAAXRSTlMAQObYZgAAAZVJREFU\n",
       "OMulkz1Iw0AYht/QpiatKRnEQRFFcBUHCy6isyhGBwcH6WRxKDjVRaFoV9uAIOpUhCIuQnF0MLuD\n",
       "WVREoaWTOBXBTcTvkmvT6/kT8IX3Ll+Sh1y+H+BfSrq+O6TWQ3BrbLnhbiliA9sh4B6HlnNuLn2G\n",
       "4HiYI5cBw/XdYq+uCVbTIeAVQLN9t1WjQM+HgI+AV/gWYEyGgCOzyNGWk+BMEPc/9T2IxVCy1YUd\n",
       "ILaJCkUVCZ4LkpBWx7QRAT7EsrULRMsoUlSU4Bfv8pgcg9GMOgKcRg3z1Bx5fFJEVk5HmeocvvU+\n",
       "+sYWJCY4NOC9Mg4blyzsbbbgri/78J53Q3OlXO1zuEBb4Ydj+xp2YIus8kEHYsdOUZCS4NWgz80a\n",
       "DFvAl4wmHulJ2StK5pdSLVpTGPJ/nyv6HskrrleqBoWNDnardGYBF+344P4wa0EvmUHxpjfW72iP\n",
       "16HRXc3sSojcnknzu/ZkMyDNQUxKsCq3Z1YeSU8n+BvWaSQxyN2pqvSqXOsE+xGWOEV8ZjghhuoZ\n",
       "+AKH8WfMbMhVfQAAAABJRU5ErkJggg==\n",
       "\" style=\"display:inline;vertical-align:middle;\" /></a><br>"
      ],
      "text/plain": [
       "expr: ((-1) * x , -x)"
      ]
     },
     "execution_count": 2,
     "metadata": {},
     "output_type": "execute_result"
    }
   ],
   "source": [
    "# build up the expression from sub-expressions\n",
    "expr = ExprTuple(Mult(Neg(one), x), Neg(x))"
   ]
  },
  {
   "cell_type": "code",
   "execution_count": 3,
   "metadata": {},
   "outputs": [
    {
     "name": "stdout",
     "output_type": "stream",
     "text": [
      "Passed sanity check: built 'expr' is the same as the stored Expression.\n"
     ]
    }
   ],
   "source": [
    "# check that the built expression is the same as the stored expression\n",
    "%check_expr"
   ]
  },
  {
   "cell_type": "code",
   "execution_count": 4,
   "metadata": {},
   "outputs": [
    {
     "data": {
      "text/html": [
       "<table><tr><th>&nbsp;</th><th>core type</th><th>sub-expressions</th><th>expression</th></tr>\n",
       "<tr><td>0</td><td>ExprTuple</td><td>1, 2</td><td><a class=\"ProveItLink\" href=\"expr.ipynb\"><img src=\"data:image/png;base64,iVBORw0KGgoAAAANSUhEUgAAAHcAAAAVBAMAAACOK2zoAAAAMFBMVEX////c3NwiIiJERESqqqqY\n",
       "mJh2dnZmZmYQEBDu7u4yMjJUVFTMzMyIiIi6uroAAAAs73DqAAAAAXRSTlMAQObYZgAAAZVJREFU\n",
       "OMulkz1Iw0AYht/QpiatKRnEQRFFcBUHCy6isyhGBwcH6WRxKDjVRaFoV9uAIOpUhCIuQnF0MLuD\n",
       "WVREoaWTOBXBTcTvkmvT6/kT8IX3Ll+Sh1y+H+BfSrq+O6TWQ3BrbLnhbiliA9sh4B6HlnNuLn2G\n",
       "4HiYI5cBw/XdYq+uCVbTIeAVQLN9t1WjQM+HgI+AV/gWYEyGgCOzyNGWk+BMEPc/9T2IxVCy1YUd\n",
       "ILaJCkUVCZ4LkpBWx7QRAT7EsrULRMsoUlSU4Bfv8pgcg9GMOgKcRg3z1Bx5fFJEVk5HmeocvvU+\n",
       "+sYWJCY4NOC9Mg4blyzsbbbgri/78J53Q3OlXO1zuEBb4Ydj+xp2YIus8kEHYsdOUZCS4NWgz80a\n",
       "DFvAl4wmHulJ2StK5pdSLVpTGPJ/nyv6HskrrleqBoWNDnardGYBF+344P4wa0EvmUHxpjfW72iP\n",
       "16HRXc3sSojcnknzu/ZkMyDNQUxKsCq3Z1YeSU8n+BvWaSQxyN2pqvSqXOsE+xGWOEV8ZjghhuoZ\n",
       "+AKH8WfMbMhVfQAAAABJRU5ErkJggg==\n",
       "\" style=\"display:inline;vertical-align:middle;\" /></a></td></tr>\n",
       "<tr><td>1</td><td>Operation</td><td>operator:&nbsp;3<br>operands:&nbsp;4<br></td><td><a class=\"ProveItLink\" href=\"../d649c927ecd06e124829c910cdc19edc4a4e91310/expr.ipynb\"><img src=\"data:image/png;base64,iVBORw0KGgoAAAANSUhEUgAAAEMAAAAVBAMAAADvM06qAAAAMFBMVEX////c3NwiIiJERESqqqqY\n",
       "mJh2dnZmZmYQEBDu7u4yMjJUVFTMzMyIiIi6uroAAAAs73DqAAAAAXRSTlMAQObYZgAAAOhJREFU\n",
       "KM9jYCAC8F1A4bI+wFRyGonNPIGBoQZTyUoEk9MeqIQLQwUvwh7O3fuBSlgT0JVwTEDi3AdyOBvQ\n",
       "lbxiQFPCYIKupAxDSTqCL3Zb5PoFhqUYSrwQjktgVeVQYOjDUPICLAtisTHwfmA5wPCPgYFxkRII\n",
       "PIAqOQ9SMl8BpI6B2wBI/cMwBaxkhgHEv6AgacFuERTIH2CYwGCKoSQKEV8C9xl4JyB7EcPT/gEW\n",
       "DLIMDI+QVJT3Lw9gYFgH50++Ni0XKMAhgBaWmBGAEWtsF/AlBjCYhZlepNH4GzGVMKIazHsAXQEA\n",
       "hH09Fe5cOvwAAAAASUVORK5CYII=\n",
       "\" style=\"display:inline;vertical-align:middle;\" /></a></td></tr>\n",
       "<tr><td>2</td><td>Operation</td><td>operator:&nbsp;7<br>operand:&nbsp;6<br></td><td><a class=\"ProveItLink\" href=\"../ec491d1ab556397bab855f0d64a1b1d8fed3cb290/expr.ipynb\"><img src=\"data:image/png;base64,iVBORw0KGgoAAAANSUhEUgAAABoAAAAJBAMAAADeJiHIAAAAMFBMVEX///9ERETMzMwQEBCYmJju\n",
       "7u5mZmaqqqpUVFSIiIh2dna6uroiIiIyMjLc3NwAAABBuwp8AAAAAXRSTlMAQObYZgAAAEpJREFU\n",
       "CNdjYIACvpV9lZkwDkMUg4+DDZy3gGE+QxHD2zMgcJohgKGRARlYInP4PjGwwjl+nB8YpsI47F8Y\n",
       "DfgmwHiskktXTWEAAJw3EmXq6rg8AAAAAElFTkSuQmCC\n",
       "\" style=\"display:inline;vertical-align:middle;\" /></a></td></tr>\n",
       "<tr><td>3</td><td>Literal</td><td></td><td><a class=\"ProveItLink\" href=\"../../../multiplication/__pv_it/21fd2079611555ecce512d99547a00d551e6b86b0/expr.ipynb\"><img src=\"data:image/png;base64,iVBORw0KGgoAAAANSUhEUgAAAAMAAAADBAMAAACkBqiMAAAAElBMVEX///9EREQQEBAiIiLu7u4A\n",
       "AABGBidwAAAAAXRSTlMAQObYZgAAABFJREFUCNdjYHFgcDVgcBIAAASWAQx4jI0xAAAAAElFTkSu\n",
       "QmCC\n",
       "\" style=\"display:inline;vertical-align:middle;\" /></a></td></tr>\n",
       "<tr><td>4</td><td>ExprTuple</td><td>5, 6</td><td><a class=\"ProveItLink\" href=\"../adc0bc5aafaa41afc8996d96acd8524df8f6eba30/expr.ipynb\"><img src=\"data:image/png;base64,iVBORw0KGgoAAAANSUhEUgAAADwAAAAVBAMAAADocZC/AAAAMFBMVEX////c3NwiIiJERESqqqqY\n",
       "mJh2dnZmZmYQEBDu7u4yMjJUVFTMzMyIiIi6uroAAAAs73DqAAAAAXRSTlMAQObYZgAAAOVJREFU\n",
       "KM9jYCAA+C7gkmF9ACROIwkwT0CRrwHilQgupz2qNBcDAy/CbM7d+1GlWRMYOJBF7qNKczYwvGLA\n",
       "Lc1gwlCGVVrstsh1oK3pDEuxSXMmsKpyKDAweDH0YZNmY+D9wHKAgeEFwz8GBsZFSiDwAEk3A7cB\n",
       "iD4PksbmNI4LEOkW7NLyBxgmgAw3RZcGqWAVuM/AC2REAd2OKs35CUj7B1gwyDKAPPYISba8f3kA\n",
       "Z78AA8Pka9NyA4AC6xg4BNAjWAA5UIHBjhbLCCbbBZQIRZeeBcTSaNJIiWcjEDPiTEy8BxgAO7s+\n",
       "IGCyG0kAAAAASUVORK5CYII=\n",
       "\" style=\"display:inline;vertical-align:middle;\" /></a></td></tr>\n",
       "<tr><td>5</td><td>Operation</td><td>operator:&nbsp;7<br>operand:&nbsp;8<br></td><td><a class=\"ProveItLink\" href=\"../ddd1e3fa3a10f66bb77bd0865d155c97a819ba4a0/expr.ipynb\"><img src=\"data:image/png;base64,iVBORw0KGgoAAAANSUhEUgAAABgAAAAPBAMAAAAMihLoAAAAJ1BMVEX///+YmJgQEBBmZmaIiIhU\n",
       "VFTu7u5ERES6uroiIiIyMjLc3NwAAAAKCT4sAAAAAXRSTlMAQObYZgAAACpJREFUCNdjYICDMgST\n",
       "If0Ygp0aisRhYCGTs2smCMwg3wAYYDY6ZciADABBShCHMIgXsAAAAABJRU5ErkJggg==\n",
       "\" style=\"display:inline;vertical-align:middle;\" /></a></td></tr>\n",
       "<tr><td>6</td><td>Variable</td><td></td><td><a class=\"ProveItLink\" href=\"../../../../__pv_it/530be409e3083890784cf1d7b28c9e67e90af9360/expr.ipynb\"><img src=\"data:image/png;base64,iVBORw0KGgoAAAANSUhEUgAAAAsAAAAJBAMAAAAWSsseAAAAKlBMVEX///9ERETMzMwQEBAiIiKY\n",
       "mJju7u5mZmaqqqpUVFSIiIh2dnbc3NwAAAA/vyDhAAAAAXRSTlMAQObYZgAAAENJREFUCNdjYDi9\n",
       "8sTyBQxsG1hdmR0YuBm4LnAoMLAxcAowgADzAjB1VoEhgYH1wFoGrgSG3gBhhlMMDImrs3cFMAAA\n",
       "t0YN+iTRa+sAAAAASUVORK5CYII=\n",
       "\" style=\"display:inline;vertical-align:middle;\" /></a></td></tr>\n",
       "<tr><td>7</td><td>Literal</td><td></td><td><a class=\"ProveItLink\" href=\"../3fc7a08bb9735faa20ef8e175f6ea95511acc9c70/expr.ipynb\"><img src=\"data:image/png;base64,iVBORw0KGgoAAAANSUhEUgAAAA4AAAACBAMAAACapPCZAAAAElBMVEX///+6uroiIiIyMjLc3NwA\n",
       "AAA6l9OrAAAAAXRSTlMAQObYZgAAABBJREFUCNdjcFYCAUUGKAAADR4BD8/TF5gAAAAASUVORK5C\n",
       "YII=\n",
       "\" style=\"display:inline;vertical-align:middle;\" /></a></td></tr>\n",
       "<tr><td>8</td><td>Literal</td><td></td><td><a class=\"ProveItLink\" href=\"../../../numeral/__pv_it/9be8badea4c35b9724062cecc501d17a3158d1d20/expr.ipynb\"><img src=\"data:image/png;base64,iVBORw0KGgoAAAANSUhEUgAAAAgAAAAPBAMAAAArJJMAAAAAHlBMVEX///+YmJgyMjIQEBBmZmaI\n",
       "iIhUVFTu7u5EREQAAAAw+MI4AAAAAXRSTlMAQObYZgAAACFJREFUCNdjYGBoZ2BgqJjOwFCWBiQY\n",
       "WEklWJwnOTKAAACjEQo8HvEr3AAAAABJRU5ErkJggg==\n",
       "\" style=\"display:inline;vertical-align:middle;\" /></a></td></tr>\n",
       "</table>\n"
      ],
      "text/plain": [
       "0. ((-1) * x , -x)\n",
       "   core type: ExprTuple\n",
       "   sub-expressions: 1, 2\n",
       "1. (-1) * x\n",
       "   core type: Operation\n",
       "   operator: 3\n",
       "   operands: 4\n",
       "2. -x\n",
       "   core type: Operation\n",
       "   operator: 7\n",
       "   operand: 6\n",
       "3. *\n",
       "   core type: Literal\n",
       "   sub-expressions: \n",
       "4. (-1 , x)\n",
       "   core type: ExprTuple\n",
       "   sub-expressions: 5, 6\n",
       "5. -1\n",
       "   core type: Operation\n",
       "   operator: 7\n",
       "   operand: 8\n",
       "6. x\n",
       "   core type: Variable\n",
       "   sub-expressions: \n",
       "7. -\n",
       "   core type: Literal\n",
       "   sub-expressions: \n",
       "8. 1\n",
       "   core type: Literal\n",
       "   sub-expressions: "
      ]
     },
     "execution_count": 4,
     "metadata": {},
     "output_type": "execute_result"
    }
   ],
   "source": [
    "# display the expression information\n",
    "expr.exprInfo()"
   ]
  },
  {
   "cell_type": "code",
   "execution_count": null,
   "metadata": {},
   "outputs": [],
   "source": []
  }
 ],
 "metadata": {
  "kernelspec": {
   "display_name": "Python 3",
   "language": "python",
   "name": "python3"
  }
 },
 "nbformat": 4,
 "nbformat_minor": 0
}
