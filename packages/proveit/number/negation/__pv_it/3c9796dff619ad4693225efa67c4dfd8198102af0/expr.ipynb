{
 "cells": [
  {
   "cell_type": "markdown",
   "metadata": {},
   "source": [
    "Expression of type <a class=\"ProveItLink\" href=\"../../../../../../doc/html/api/proveit.Lambda.html\">Lambda</a>\n",
    "=======================\n",
    "# from context <a class=\"ProveItLink\" href=\"../../_context_.ipynb\">proveit.number.negation</a>"
   ]
  },
  {
   "cell_type": "code",
   "execution_count": 1,
   "metadata": {},
   "outputs": [],
   "source": [
    "# import Expression classes needed to build the expression\n",
    "from proveit import Lambda\n",
    "from proveit._common_ import a\n",
    "from proveit.logic import InSet, NotEquals\n",
    "from proveit.number import Complexes, Neg, zero"
   ]
  },
  {
   "cell_type": "code",
   "execution_count": 2,
   "metadata": {},
   "outputs": [
    {
     "data": {
      "text/html": [
       "<strong id=\"expr\">expr:</strong> <a class=\"ProveItLink\" href=\"expr.ipynb\"><img src=\"data:image/png;base64,iVBORw0KGgoAAAANSUhEUgAAAREAAAAVCAMAAABWrCoeAAAAP1BMVEX///8LCwsYGBgoKCgUFBQN\n",
       "DQ0yMjKqqqrMzMzu7u4iIiJmZmaYmJhEREQQEBC6urp2dnaIiIhUVFTc3NwAAAA37qU3AAAAAXRS\n",
       "TlMAQObYZgAAAtJJREFUWMPVWNd25CAMZUvoHf7/W+My9iA6Oc6erB6ssUfIlysJhBH6qUIC+j/E\n",
       "OKgbIk3jDxsmra35/snYB1inHuqmCFp9HHByw4Rzp13F+iuMOI5x1FyJOfMGmDXBDOqOZfWpT+fJ\n",
       "txvGad16nRFq4u7QRufnBrTALAXBQd2rGzuKiuPHFdetlxmRyMtzBYp+PUVSMCuiGdQdYXoYlQO4\n",
       "iaFqPWKEOcw3uacgGbp8CP+FFEnArCyrGOquKFLmtUrv4lHuNJKq9YARiiWMikDB32RNFVkbTPDO\n",
       "Gh3qCwBJkQoLdZmIiStbrm8qLdMQ7QnCVa0hIxlGFFSWpUwgY8egpsAcxiq+8yfLreTVWEJd5FDq\n",
       "irypFfiQPx/71ecgbGZdYSTHiFQ+QWoRkWNQM2BC3B0J1WKE+ffLtYE6DwZwZXQ3KhkjhXXKSIGR\n",
       "KVQyYuQY1AwYf7DH36X38ZcD0fHGdv166YATM5O7ojEPlkeoWTWFdcpIgdHo67X4zRGtVk0xdggm\n",
       "7uyxSFs5ki7JGSO5QFfFHHGW6ddiJoeMFBgrDeLWIfkxqAkw4QgR2fCwOiMiGaoJ1Hl+AldJHYg9\n",
       "mr9/nVFVcMMj54bXq5oSI+O1/udmhKHO2BEYduw3HiNCq4zQNN2UhDpbcaAriftReTVF9nyf7Kys\n",
       "JcarGQMLg7zPXJzdBFTGjsDs+wbhAt1FCCsObHLXFmnrBwfoKjMyZU5zsrdmFA133wLjliRl4Xqv\n",
       "HEPMqH1nZpG3xo7AbLu1M1S5mabZcKjLjT9xhU0/RfYewjr/Ch02vb2mxBhweSyjgseoz3WP6Vf7\n",
       "WZ3fAMxKFx+gnu/iiVjs+YfnGuJx2sWX4WtjJAI9JdeBTNrxtwdYfZytWD/xfUS2/+LsMUbmvwYw\n",
       "vJQiT3wNmGbkwRRB92kqjI6XPqxExYfHGXH/JkU2KhzULTzZGmWWrI9n3/dVsev5E2G+LXuKhJ17\n",
       "AAAAAElFTkSuQmCC\n",
       "\" style=\"display:inline;vertical-align:middle;\" /></a><br>"
      ],
      "text/plain": [
       "expr: a -> ((-a) != 0) | a in Complexes , a != 0"
      ]
     },
     "execution_count": 2,
     "metadata": {},
     "output_type": "execute_result"
    }
   ],
   "source": [
    "# build up the expression from sub-expressions\n",
    "expr = Lambda(a, NotEquals(Neg(a), zero), conditions = [InSet(a, Complexes), NotEquals(a, zero)])"
   ]
  },
  {
   "cell_type": "code",
   "execution_count": 3,
   "metadata": {},
   "outputs": [
    {
     "name": "stdout",
     "output_type": "stream",
     "text": [
      "Passed sanity check: built 'expr' is the same as the stored Expression.\n"
     ]
    }
   ],
   "source": [
    "# check that the built expression is the same as the stored expression\n",
    "%check_expr"
   ]
  },
  {
   "cell_type": "code",
   "execution_count": 4,
   "metadata": {},
   "outputs": [
    {
     "data": {
      "text/html": [
       "<table><tr><th>&nbsp;</th><th>core type</th><th>sub-expressions</th><th>expression</th></tr>\n",
       "<tr><td>0</td><td>Lambda</td><td>parameter:&nbsp;13<br>body:&nbsp;1<br>conditions:&nbsp;2<br></td><td><a class=\"ProveItLink\" href=\"expr.ipynb\"><img src=\"data:image/png;base64,iVBORw0KGgoAAAANSUhEUgAAAREAAAAVCAMAAABWrCoeAAAAP1BMVEX///8LCwsYGBgoKCgUFBQN\n",
       "DQ0yMjKqqqrMzMzu7u4iIiJmZmaYmJhEREQQEBC6urp2dnaIiIhUVFTc3NwAAAA37qU3AAAAAXRS\n",
       "TlMAQObYZgAAAtJJREFUWMPVWNd25CAMZUvoHf7/W+My9iA6Oc6erB6ssUfIlysJhBH6qUIC+j/E\n",
       "OKgbIk3jDxsmra35/snYB1inHuqmCFp9HHByw4Rzp13F+iuMOI5x1FyJOfMGmDXBDOqOZfWpT+fJ\n",
       "txvGad16nRFq4u7QRufnBrTALAXBQd2rGzuKiuPHFdetlxmRyMtzBYp+PUVSMCuiGdQdYXoYlQO4\n",
       "iaFqPWKEOcw3uacgGbp8CP+FFEnArCyrGOquKFLmtUrv4lHuNJKq9YARiiWMikDB32RNFVkbTPDO\n",
       "Gh3qCwBJkQoLdZmIiStbrm8qLdMQ7QnCVa0hIxlGFFSWpUwgY8egpsAcxiq+8yfLreTVWEJd5FDq\n",
       "irypFfiQPx/71ecgbGZdYSTHiFQ+QWoRkWNQM2BC3B0J1WKE+ffLtYE6DwZwZXQ3KhkjhXXKSIGR\n",
       "KVQyYuQY1AwYf7DH36X38ZcD0fHGdv166YATM5O7ojEPlkeoWTWFdcpIgdHo67X4zRGtVk0xdggm\n",
       "7uyxSFs5ki7JGSO5QFfFHHGW6ddiJoeMFBgrDeLWIfkxqAkw4QgR2fCwOiMiGaoJ1Hl+AldJHYg9\n",
       "mr9/nVFVcMMj54bXq5oSI+O1/udmhKHO2BEYduw3HiNCq4zQNN2UhDpbcaAriftReTVF9nyf7Kys\n",
       "JcarGQMLg7zPXJzdBFTGjsDs+wbhAt1FCCsObHLXFmnrBwfoKjMyZU5zsrdmFA133wLjliRl4Xqv\n",
       "HEPMqH1nZpG3xo7AbLu1M1S5mabZcKjLjT9xhU0/RfYewjr/Ch02vb2mxBhweSyjgseoz3WP6Vf7\n",
       "WZ3fAMxKFx+gnu/iiVjs+YfnGuJx2sWX4WtjJAI9JdeBTNrxtwdYfZytWD/xfUS2/+LsMUbmvwYw\n",
       "vJQiT3wNmGbkwRRB92kqjI6XPqxExYfHGXH/JkU2KhzULTzZGmWWrI9n3/dVsev5E2G+LXuKhJ17\n",
       "AAAAAElFTkSuQmCC\n",
       "\" style=\"display:inline;vertical-align:middle;\" /></a></td></tr>\n",
       "<tr><td>1</td><td>Operation</td><td>operator:&nbsp;9<br>operands:&nbsp;3<br></td><td><a class=\"ProveItLink\" href=\"../ec8bf4c4a8421824ac38e8ac08db795d553948450/expr.ipynb\"><img src=\"data:image/png;base64,iVBORw0KGgoAAAANSUhEUgAAAE8AAAAVCAMAAAAw/0MlAAAAPFBMVEX///8LCwsYGBgNDQ0oKCjc\n",
       "3NwiIiJERESqqqqYmJh2dnZmZmYQEBDu7u4yMjJUVFTMzMyIiIi6uroAAACIMCsmAAAAAXRSTlMA\n",
       "QObYZgAAATdJREFUOMutVNuSwyAIZXfrJV4wyP//a8Wk09QYbWbWB2fA5HCAAwD/fzINn5d88eBU\n",
       "172mSTy/dt0KD0b0RPt3GGcJYNebjrx1MaIWQKJpQRY3o0e63uIKU3oQw5RerVlmBRm/6Jix56qb\n",
       "o8W++tiCdxcYKpHLYWuh8+cQxyYpdhseAS4XIhIow5th30l4rOfxJ3dq8RyEvroUSxxvXuBDekc8\n",
       "znu39PsUV6rM9N77lVv2CaCfL/f5sTCLvF7gYTMar34sEGw/XWFmC0xs8vWSwO/Ploj51IstejHd\n",
       "fkSWMAnBVoYLjuntena6K4X6RwljtQfX00s+T7y2IvsSPOsr9VFeDW3VxTymJ/vAUaq5BHV33qy/\n",
       "PezNovtcGXo88dN9FfEGPSnVBC+pO/QK4HgDUrOe8+jjJ3cVDXPWxbQzAAAAAElFTkSuQmCC\n",
       "\" style=\"display:inline;vertical-align:middle;\" /></a></td></tr>\n",
       "<tr><td>2</td><td>ExprTuple</td><td>4, 5</td><td><a class=\"ProveItLink\" href=\"../c566a1499806c9e7f30cdef741d121a195a15ac60/expr.ipynb\"><img src=\"data:image/png;base64,iVBORw0KGgoAAAANSUhEUgAAAHkAAAAVCAMAAABVErFaAAAAPFBMVEX///8LCwsYGBgNDQ0oKCjc\n",
       "3NwiIiJERESqqqqYmJh2dnZmZmYQEBDu7u4yMjJUVFTMzMyIiIi6uroAAACIMCsmAAAAAXRSTlMA\n",
       "QObYZgAAAdpJREFUSMfFVtl24yAM1UxrdrGI///XgsAxNTh1cjpneMBLuLpXqwPwPxelf2fbbIuX\n",
       "mto1hhcsJeF9dkLae8c3PzygTcnGetd28HibN1IuctHkdFNtoOFBVKxgUhaU7sdaQ9B8o3J43eUk\n",
       "eOdX2pTNXbqMyYuyHmiN4PqtDW+4zBjKNfNYDJG/DK3X30VZ2MJD1K3kyPEpc23ErOpFKrBmj0xI\n",
       "htxRips8BQMtkLmI6gnbl4zjmWwaM4s2FrzurVWBMg+ws6FoQOl1W56w1vP6/Kh7ODPzRXlw1N9X\n",
       "o/YID0qYmWnJPGFXLp+YyUFuzIEVizT4Ifryh5a4jPaE7RYCwGW0Y96Zc1WM+VC5mC+l8ZclPWH7\n",
       "8VO69grTndmpJihxmxYLu4dibmdzMOPozBlra6j+/mkhk9+7SnFX1WhLloBc68GDeigPc06l3kc8\n",
       "CXwQLbArl/skMc0j7Wt587nCo4SFI5EoaM5okAkBSdaOw9zDMmPnLLPTqo6QJq/Qktg7MlGUicbR\n",
       "Z+NU31bk7NpoQtcCt8IuXK4DwaTQTfpy2G2XM0gFP07PuY+fQJ9/zOr0bMP7vaWvfxLPP4AmvfiV\n",
       "vM38k8u+p+lN4vS2y6Gnafv9f0P0XHItsy9jnhZ5Yb8rCgAAAABJRU5ErkJggg==\n",
       "\" style=\"display:inline;vertical-align:middle;\" /></a></td></tr>\n",
       "<tr><td>3</td><td>ExprTuple</td><td>6, 14</td><td><a class=\"ProveItLink\" href=\"../10e24f167da20733f9cd98ee57671f3abaef0b870/expr.ipynb\"><img src=\"data:image/png;base64,iVBORw0KGgoAAAANSUhEUgAAADsAAAAVBAMAAAAKrYvGAAAAMFBMVEX////c3NwiIiJERESqqqqY\n",
       "mJh2dnZmZmYQEBDu7u4yMjJUVFTMzMyIiIi6uroAAAAs73DqAAAAAXRSTlMAQObYZgAAARFJREFU\n",
       "KM9jYCAA+C7gkokDEaexyXDWXj/AwH4AyFqJTZrpAacOA8MCBgZerGZfYmC4xcAQxsDAMQGbtDYD\n",
       "w3sBhhkMDK+wuuo7A8N5BwZmB4YyJEHGvXmNEMY3oPQFBrYChqVI0i8EmD8gpBMYWBYw9CFp/srA\n",
       "boAszdfA8A/IWaQEAg+4PzAwXUA2nOcDSBoG+A0Y5h9AOC0AJN2CkJa/wODPMAHmMX8BkOGmCOn5\n",
       "Dgy7WA5wQoMliYGBdQFDOkKaK4BFnY1hvgIoUB04exhAHnuE7O17h+8xzPgIipKy20BXcD1g4BBA\n",
       "D7GHcBYwUFkT0KUD4KxcbBEKl+YERiiDNJosL5zFDbKXEWdiusPAAAAE0ka16dz3DAAAAABJRU5E\n",
       "rkJggg==\n",
       "\" style=\"display:inline;vertical-align:middle;\" /></a></td></tr>\n",
       "<tr><td>4</td><td>Operation</td><td>operator:&nbsp;7<br>operands:&nbsp;8<br></td><td><a class=\"ProveItLink\" href=\"../cd457d59bfd8582be7220a7500a0989802bcb0120/expr.ipynb\"><img src=\"data:image/png;base64,iVBORw0KGgoAAAANSUhEUgAAADMAAAAPBAMAAAC7N+rPAAAAMFBMVEX///8yMjKqqqrMzMzu7u4i\n",
       "IiJmZmaYmJhEREQQEBC6urp2dnaIiIhUVFTc3NwAAAD87Fq/AAAAAXRSTlMAQObYZgAAANRJREFU\n",
       "GNNjYMACeALlp7Zhk2BgXr+AZf9ZrFIF1xkYmP4ii7AcDA0VANLsDhOAZC6ylGEJhGbjuwAkfYCY\n",
       "786ueSARvhaoEjeuDVDWygccH0A0xwOogDVTAYTB952BrQHE8IAZbM0FleL9wMB6AKw7NBTiDA9m\n",
       "qIH8DQz+BiCGLUwXo8MFCOP9AQZ9BgcgwxUmxb4BJMXCwOCvwHCRCaSNtwAm174GSCx1YGAsYArj\n",
       "Bvs4CibFe+MIy4oWkLdOWZwCizxMhsmZxf+8hRp2uqJgF8IAAH82L/mC9qalAAAAAElFTkSuQmCC\n",
       "\" style=\"display:inline;vertical-align:middle;\" /></a></td></tr>\n",
       "<tr><td>5</td><td>Operation</td><td>operator:&nbsp;9<br>operands:&nbsp;10<br></td><td><a class=\"ProveItLink\" href=\"../c313808883e11fd23c2c259059883920d946c6c30/expr.ipynb\"><img src=\"data:image/png;base64,iVBORw0KGgoAAAANSUhEUgAAADEAAAAUCAMAAAATIyWrAAAAPFBMVEX///8LCwsYGBgNDQ0oKCgy\n",
       "MjKqqqrMzMzu7u4iIiJmZmaYmJhEREQQEBC6urp2dnaIiIhUVFTc3NwAAABYMwFzAAAAAXRSTlMA\n",
       "QObYZgAAAMhJREFUKM+9UssSwyAIpA8fGKMQ//9fK6TpWDux9dI9MKIu6yIAI+QN5rCZJvGBKLgv\n",
       "DE5NgjXx6H6XINRoJiRYYiojZy62WQm6V6yqM+W0fpBj++at5J1BoiSXY3kdBqO43yRyz8iyXuRa\n",
       "HEq8MVirI3WExAAnrypS3Ze+0abzdThfKlmq2yrkDx9Ycb2gIr5319bueu0XG7BuJPH8wSzRVOMW\n",
       "A+SBCxWplf3q9t+g5CKloYRMYiY+HSsbJqcc0E8S/iABaXT4AP1WCQB67XaHAAAAAElFTkSuQmCC\n",
       "\" style=\"display:inline;vertical-align:middle;\" /></a></td></tr>\n",
       "<tr><td>6</td><td>Operation</td><td>operator:&nbsp;11<br>operand:&nbsp;13<br></td><td><a class=\"ProveItLink\" href=\"../b2c82962af89a3e111b6dce525aac2b18a2c39ca0/expr.ipynb\"><img src=\"data:image/png;base64,iVBORw0KGgoAAAANSUhEUgAAABoAAAAJBAMAAADeJiHIAAAAMFBMVEX///+qqqrMzMzu7u5mZmaY\n",
       "mJhEREQQEBB2dnaIiIhUVFS6uroiIiIyMjLc3NwAAAAxFEmoAAAAAXRSTlMAQObYZgAAAExJREFU\n",
       "CNdjYICBVzO2P4BzuOsY8uEchvcBDG4MDG/PgMBphvUMDCcRct8YmD/BOXw/GRg/MMN4zB8ZuC4I\n",
       "wSWvMsg4NCCsm7kpcwMArzoXiK6Dv2MAAAAASUVORK5CYII=\n",
       "\" style=\"display:inline;vertical-align:middle;\" /></a></td></tr>\n",
       "<tr><td>7</td><td>Literal</td><td></td><td><a class=\"ProveItLink\" href=\"../../../../logic/set_theory/membership/__pv_it/088cbc857536a28d4119ad9639a84270ccb0545d0/expr.ipynb\"><img src=\"data:image/png;base64,iVBORw0KGgoAAAANSUhEUgAAAAwAAAAMBAMAAACkW0HUAAAALVBMVEX///+qqqpmZmZUVFQQEBC6\n",
       "urpERETc3NyYmJjMzMwiIiIyMjKIiIju7u4AAACYsrA9AAAAAXRSTlMAQObYZgAAADxJREFUCNdj\n",
       "YOA9vWrVBgaG2b0MQMCeCyIZ2ArA1DUwyRCyahVIyWQI7xaEYm4AU7xLIdxqTQgtvGvVBgCkcQ7e\n",
       "geM/tQAAAABJRU5ErkJggg==\n",
       "\" style=\"display:inline;vertical-align:middle;\" /></a></td></tr>\n",
       "<tr><td>8</td><td>ExprTuple</td><td>13, 12</td><td><a class=\"ProveItLink\" href=\"../4d7c0ad813ab3197c922864bf572a2de9c4f2e7d0/expr.ipynb\"><img src=\"data:image/png;base64,iVBORw0KGgoAAAANSUhEUgAAAC8AAAAVBAMAAAAk6KpUAAAAMFBMVEX////c3NwiIiJERESqqqqY\n",
       "mJh2dnZmZmYQEBDu7u4yMjJUVFTMzMyIiIi6uroAAAAs73DqAAAAAXRSTlMAQObYZgAAASFJREFU\n",
       "KM9jYMAJ+C5gisWBiNMoQrxa65vMGdgPAJkrkcV53j/gzL/NwLAAqATFpICtDAwsvxkYwhgYOCYg\n",
       "ibNOaACS1QwMMxgYXiFrYGfcACTnMjAwOzCUAVmMe/MawRLT+RIgKtgKGJYCqRcCzB/A/GMsARAJ\n",
       "lgUMfUANXxnYDSASfFAJvgaGfwwM3B8YmCBum8wDNYrnA0iC34Bh/gEwn2vCBrhECwOD/AUGfwaw\n",
       "q1kTQBKcYKNMGRjmOzDsYjnACZIxfQskHk1gYF3AkA40IIBFnY1hvgJQjHvzTc7HlmDnPgJ5497h\n",
       "ewwzPoK0HNf/sQ9k2QMGDgGYtx8iBcEMkH3wAESSyEUOdiQJTmCwM0jDoghJAzfIfEYsUXuHgQEA\n",
       "M61El67l9nMAAAAASUVORK5CYII=\n",
       "\" style=\"display:inline;vertical-align:middle;\" /></a></td></tr>\n",
       "<tr><td>9</td><td>Literal</td><td></td><td><a class=\"ProveItLink\" href=\"../../../../logic/equality/__pv_it/43637204f35b46c076ae787093288c6a879642310/expr.ipynb\"><img src=\"data:image/png;base64,iVBORw0KGgoAAAANSUhEUgAAAA4AAAAUCAMAAACK2/weAAAAM1BMVEX///8LCwsYGBgNDQ0oKCju\n",
       "7u4iIiJmZmaqqqpERETMzMy6urpUVFQyMjLc3Nx2dnYAAAB8DqOrAAAAAXRSTlMAQObYZgAAAE5J\n",
       "REFUGNNjYEAAfj4kDgMfLzKPgYebaEkuThRJTi4wxc4LBizMIJIHTRIKuHlQdPLCHMTOBgRMjGxg\n",
       "wIkmiVcnGHCwo0iysRItyYDsMQCO9QJkhxsUAQAAAABJRU5ErkJggg==\n",
       "\" style=\"display:inline;vertical-align:middle;\" /></a></td></tr>\n",
       "<tr><td>10</td><td>ExprTuple</td><td>13, 14</td><td><a class=\"ProveItLink\" href=\"../0fd9d36c4b3c7aeb3d44da3149e6af22e27515840/expr.ipynb\"><img src=\"data:image/png;base64,iVBORw0KGgoAAAANSUhEUgAAACsAAAAVBAMAAAAtAwouAAAAMFBMVEX////c3NwiIiJERESqqqqY\n",
       "mJh2dnZmZmYQEBDu7u4yMjJUVFTMzMyIiIi6uroAAAAs73DqAAAAAXRSTlMAQObYZgAAAQdJREFU\n",
       "GNN1kT1PAkEURc/C8jEguL2FdhZa0NDvP2ArS0NorCRUdCaaWBJDSbfbWPgXTEw2oaRgY2OihgAV\n",
       "oXEt1M44z7DLoGGKl7knk/vefQNbTjX6S06ljEyiLp5CCqG+3Zk4M1XHEEBlw+MRnuEEin0TH8Gb\n",
       "wwCWG92+YOySdelqYT20r36p9alxRL7DrVYLJxuvcRM74EaLDwo1E1cv+YZyTCYyTXZiwbs1/HDd\n",
       "0hN8DfsRDfrJgA1HTOrgu9zboVrFaUEu4AxKnn2Yxz+Q8K7qIQPOZezJcMLgXVbVfdFdSlOKTpJw\n",
       "lmbV4XPNRHgpPjcXm2KlF8veSlTSx2Xxtf592iv8AGmYRIg8+9vnAAAAAElFTkSuQmCC\n",
       "\" style=\"display:inline;vertical-align:middle;\" /></a></td></tr>\n",
       "<tr><td>11</td><td>Literal</td><td></td><td><a class=\"ProveItLink\" href=\"../3fc7a08bb9735faa20ef8e175f6ea95511acc9c70/expr.ipynb\"><img src=\"data:image/png;base64,iVBORw0KGgoAAAANSUhEUgAAAA4AAAACBAMAAACapPCZAAAAElBMVEX///+6uroiIiIyMjLc3NwA\n",
       "AAA6l9OrAAAAAXRSTlMAQObYZgAAABBJREFUCNdjcFYCAUUGKAAADR4BD8/TF5gAAAAASUVORK5C\n",
       "YII=\n",
       "\" style=\"display:inline;vertical-align:middle;\" /></a></td></tr>\n",
       "<tr><td>12</td><td>Literal</td><td></td><td><a class=\"ProveItLink\" href=\"../../../sets/complex/__pv_it/c357845f93a5a2d9f649129d299e7ec28dda4b960/expr.ipynb\"><img src=\"data:image/png;base64,iVBORw0KGgoAAAANSUhEUgAAAA8AAAAOBAMAAAACpFvcAAAAMFBMVEX////c3NyqqqqYmJhUVFR2\n",
       "dnbu7u66urrMzMxmZmZEREQQEBAyMjIiIiKIiIgAAAB7fvZ0AAAAAXRSTlMAQObYZgAAAGVJREFU\n",
       "CNdjYGDgu3N+70oGBgaO+gK2+CdAhoEzAwPTFwYG5oQNQN4UBgZORgcgI4+BIZM9gAEMWpkMoAx2\n",
       "KCOLAyrFk+AAYTAHgBhsQLy4DkjUJjAwsHg9Y6taBpLsvP/bnYEBACkBFGQfBv8RAAAAAElFTkSu\n",
       "QmCC\n",
       "\" style=\"display:inline;vertical-align:middle;\" /></a></td></tr>\n",
       "<tr><td>13</td><td>Variable</td><td></td><td><a class=\"ProveItLink\" href=\"../../../../__pv_it/07527342713064c87612d00d8557c53d53d5324a0/expr.ipynb\"><img src=\"data:image/png;base64,iVBORw0KGgoAAAANSUhEUgAAAAsAAAAJBAMAAAAWSsseAAAAMFBMVEX///8yMjKqqqrMzMzu7u4i\n",
       "IiJmZmaYmJhEREQQEBC6urp2dnaIiIhUVFTc3NwAAAD87Fq/AAAAAXRSTlMAQObYZgAAAEhJREFU\n",
       "CNdjYOC7s2seAwPDygccHxgY+L4zsDUwMPB+YGA9wMDA38Dgb8DA8P4Agz6DA4O/AsNFJgMGxgKm\n",
       "MG6gyjunLE4xAAAZTBA5TB6DCwAAAABJRU5ErkJggg==\n",
       "\" style=\"display:inline;vertical-align:middle;\" /></a></td></tr>\n",
       "<tr><td>14</td><td>Literal</td><td></td><td><a class=\"ProveItLink\" href=\"../../../numeral/__pv_it/ec23fc7a1b4222a5f4948b495002b97d6fa18c3c0/expr.ipynb\"><img src=\"data:image/png;base64,iVBORw0KGgoAAAANSUhEUgAAAAoAAAAOBAMAAADkjZCYAAAALVBMVEX///8QEBCYmJh2dnaqqqrc\n",
       "3NxUVFQyMjK6uroiIiLMzMyIiIhmZmbu7u4AAAAZjyHdAAAAAXRSTlMAQObYZgAAAEpJREFUCNdj\n",
       "YLiz+xQDA8MMhpsLGLgnMHAXMHAmMHA8ZeA7wMD1hCHOgIHrNZh8jES+Bss+AqlkeQrSxTyBgWEK\n",
       "w8UFDAx3rLMYAMCjFldHSx/9AAAAAElFTkSuQmCC\n",
       "\" style=\"display:inline;vertical-align:middle;\" /></a></td></tr>\n",
       "</table>\n"
      ],
      "text/plain": [
       "0. a -> ((-a) != 0) | a in Complexes , a != 0\n",
       "   core type: Lambda\n",
       "   parameter: 13\n",
       "   body: 1\n",
       "   conditions: 2\\n1. (-a) != 0\n",
       "   core type: Operation\n",
       "   operator: 9\n",
       "   operands: 3\n",
       "2. (a in Complexes , a != 0)\n",
       "   core type: ExprTuple\n",
       "   sub-expressions: 4, 5\n",
       "3. (-a , 0)\n",
       "   core type: ExprTuple\n",
       "   sub-expressions: 6, 14\n",
       "4. a in Complexes\n",
       "   core type: Operation\n",
       "   operator: 7\n",
       "   operands: 8\n",
       "5. a != 0\n",
       "   core type: Operation\n",
       "   operator: 9\n",
       "   operands: 10\n",
       "6. -a\n",
       "   core type: Operation\n",
       "   operator: 11\n",
       "   operand: 13\n",
       "7. in\n",
       "   core type: Literal\n",
       "   sub-expressions: \n",
       "8. (a , Complexes)\n",
       "   core type: ExprTuple\n",
       "   sub-expressions: 13, 12\n",
       "9. !=\n",
       "   core type: Literal\n",
       "   sub-expressions: \n",
       "10. (a , 0)\n",
       "    core type: ExprTuple\n",
       "    sub-expressions: 13, 14\n",
       "11. -\n",
       "    core type: Literal\n",
       "    sub-expressions: \n",
       "12. Complexes\n",
       "    core type: Literal\n",
       "    sub-expressions: \n",
       "13. a\n",
       "    core type: Variable\n",
       "    sub-expressions: \n",
       "14. 0\n",
       "    core type: Literal\n",
       "    sub-expressions: "
      ]
     },
     "execution_count": 4,
     "metadata": {},
     "output_type": "execute_result"
    }
   ],
   "source": [
    "# display the expression information\n",
    "expr.exprInfo()"
   ]
  },
  {
   "cell_type": "code",
   "execution_count": null,
   "metadata": {},
   "outputs": [],
   "source": []
  }
 ],
 "metadata": {
  "kernelspec": {
   "display_name": "Python 3",
   "language": "python",
   "name": "python3"
  }
 },
 "nbformat": 4,
 "nbformat_minor": 0
}
