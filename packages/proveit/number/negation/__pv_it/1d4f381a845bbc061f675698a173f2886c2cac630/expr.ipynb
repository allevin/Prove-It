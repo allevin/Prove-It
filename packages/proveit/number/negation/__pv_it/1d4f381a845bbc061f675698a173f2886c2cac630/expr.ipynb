{
 "cells": [
  {
   "cell_type": "markdown",
   "metadata": {},
   "source": [
    "Expression of type <a class=\"ProveItLink\" href=\"../../../../../../doc/html/api/proveit.Lambda.html\">Lambda</a>\n",
    "=======================\n",
    "# from context <a class=\"ProveItLink\" href=\"../../_context_.ipynb\">proveit.number.negation</a>"
   ]
  },
  {
   "cell_type": "code",
   "execution_count": 1,
   "metadata": {},
   "outputs": [],
   "source": [
    "# import Expression classes needed to build the expression\n",
    "from proveit import Lambda\n",
    "from proveit._common_ import a\n",
    "from proveit.logic import InSet\n",
    "from proveit.number import Integers, Neg"
   ]
  },
  {
   "cell_type": "code",
   "execution_count": 2,
   "metadata": {},
   "outputs": [
    {
     "data": {
      "text/html": [
       "<strong id=\"expr\">expr:</strong> <a class=\"ProveItLink\" href=\"expr.ipynb\"><img src=\"data:image/png;base64,iVBORw0KGgoAAAANSUhEUgAAANcAAAAVCAMAAADig4s4AAAANlBMVEX///8UFBQNDQ0yMjKqqqrM\n",
       "zMzu7u4iIiJmZmaYmJhEREQQEBC6urp2dnaIiIhUVFTc3NwAAACAukRkAAAAAXRSTlMAQObYZgAA\n",
       "AiJJREFUWMPNVwkOozAMzK5zkIMc///sFirAjgNuVKlaC8m0DIMndpxEqf/WdP3l11Km/s58mqId\n",
       "wNf0Q1mmUH9vixHS4VpzANFB9EP4rK6OcM7AUv8EfX6cYbFvVBjDZ3X1hFPvZuofS2t9zuf+eNVH\n",
       "/Aw+q6snnLFoqX8yG+nPDO5lZ1rKRlHLWdEdXNYlEc40DaD+2YLGExP8YCyC3a4BXNYlE9aS1xTr\n",
       "eF5ozVJ9eW6Ya13Q/2GUYZ+VP+c4hnNdXZAfEO7o0M5njkILeh889TyhmEujEQqjxciG7TpHEB50\n",
       "9UHKhLXtbTbc6bLlYoiJepYtwpUi/uDAilGIPMV7XSxImbDsg+CuBvf3jyMW2/mB4+7wFRAu9Vym\n",
       "oZgPFEpKWlRCBY3gTBcLUiZsm3LbzF2+VLn4e129US4U6LBHwTGX1yrpYkGKhLVtg6BfnHasa0GF\n",
       "HDX1rAwJF65Dx9HXSuOkOuRBioS2bTEWUNoMdRm8AgdPfT9tKZdHJVI875zHoK9vQf6+b/AgZcKt\n",
       "t2m3qLMw6VaCdNOjFfctGffLiwujrOtL99XQ9lZtlzWIfZ4FKRO+FoacTMifbD6So36weiEuwJQV\n",
       "6M42xQAxhAAthoXD+37Ig5QJZ/ZRlfqJfZTSBWj7eobL2zyBcOqYtH60p33HlaeoGfyn56/Pzyl2\n",
       "biDt1+eUr6wW6u+tzB3jOfynulTN1N+e1MzcwY7D8ze6/gF2tBq8ZQMXFQAAAABJRU5ErkJggg==\n",
       "\" style=\"display:inline;vertical-align:middle;\" /></a><br>"
      ],
      "text/plain": [
       "expr: a -> ((-a) in Integers) | a in Integers"
      ]
     },
     "execution_count": 2,
     "metadata": {},
     "output_type": "execute_result"
    }
   ],
   "source": [
    "# build up the expression from sub-expressions\n",
    "expr = Lambda(a, InSet(Neg(a), Integers), conditions = [InSet(a, Integers)])"
   ]
  },
  {
   "cell_type": "code",
   "execution_count": 3,
   "metadata": {},
   "outputs": [
    {
     "name": "stdout",
     "output_type": "stream",
     "text": [
      "Passed sanity check: built 'expr' is the same as the stored Expression.\n"
     ]
    }
   ],
   "source": [
    "# check that the built expression is the same as the stored expression\n",
    "%check_expr"
   ]
  },
  {
   "cell_type": "code",
   "execution_count": 4,
   "metadata": {},
   "outputs": [
    {
     "data": {
      "text/html": [
       "<table><tr><th>&nbsp;</th><th>core type</th><th>sub-expressions</th><th>expression</th></tr>\n",
       "<tr><td>0</td><td>Lambda</td><td>parameter:&nbsp;9<br>body:&nbsp;1<br>conditions:&nbsp;2<br></td><td><a class=\"ProveItLink\" href=\"expr.ipynb\"><img src=\"data:image/png;base64,iVBORw0KGgoAAAANSUhEUgAAANcAAAAVCAMAAADig4s4AAAANlBMVEX///8UFBQNDQ0yMjKqqqrM\n",
       "zMzu7u4iIiJmZmaYmJhEREQQEBC6urp2dnaIiIhUVFTc3NwAAACAukRkAAAAAXRSTlMAQObYZgAA\n",
       "AiJJREFUWMPNVwkOozAMzK5zkIMc///sFirAjgNuVKlaC8m0DIMndpxEqf/WdP3l11Km/s58mqId\n",
       "wNf0Q1mmUH9vixHS4VpzANFB9EP4rK6OcM7AUv8EfX6cYbFvVBjDZ3X1hFPvZuofS2t9zuf+eNVH\n",
       "/Aw+q6snnLFoqX8yG+nPDO5lZ1rKRlHLWdEdXNYlEc40DaD+2YLGExP8YCyC3a4BXNYlE9aS1xTr\n",
       "eF5ozVJ9eW6Ya13Q/2GUYZ+VP+c4hnNdXZAfEO7o0M5njkILeh889TyhmEujEQqjxciG7TpHEB50\n",
       "9UHKhLXtbTbc6bLlYoiJepYtwpUi/uDAilGIPMV7XSxImbDsg+CuBvf3jyMW2/mB4+7wFRAu9Vym\n",
       "oZgPFEpKWlRCBY3gTBcLUiZsm3LbzF2+VLn4e129US4U6LBHwTGX1yrpYkGKhLVtg6BfnHasa0GF\n",
       "HDX1rAwJF65Dx9HXSuOkOuRBioS2bTEWUNoMdRm8AgdPfT9tKZdHJVI875zHoK9vQf6+b/AgZcKt\n",
       "t2m3qLMw6VaCdNOjFfctGffLiwujrOtL99XQ9lZtlzWIfZ4FKRO+FoacTMifbD6So36weiEuwJQV\n",
       "6M42xQAxhAAthoXD+37Ig5QJZ/ZRlfqJfZTSBWj7eobL2zyBcOqYtH60p33HlaeoGfyn56/Pzyl2\n",
       "biDt1+eUr6wW6u+tzB3jOfynulTN1N+e1MzcwY7D8ze6/gF2tBq8ZQMXFQAAAABJRU5ErkJggg==\n",
       "\" style=\"display:inline;vertical-align:middle;\" /></a></td></tr>\n",
       "<tr><td>1</td><td>Operation</td><td>operator:&nbsp;6<br>operands:&nbsp;3<br></td><td><a class=\"ProveItLink\" href=\"../85acbe8186d9b8ce4eec1118c60f1ba9cd9cbfeb0/expr.ipynb\"><img src=\"data:image/png;base64,iVBORw0KGgoAAAANSUhEUgAAAFEAAAAVBAMAAADMaB9/AAAAMFBMVEX////c3NwiIiJERESqqqqY\n",
       "mJh2dnZmZmYQEBDu7u4yMjJUVFTMzMyIiIi6uroAAAAs73DqAAAAAXRSTlMAQObYZgAAAUxJREFU\n",
       "KM9jYCAe8F1A5bM+wKXyNLpADRrf6b/WCq1WIGMlukouNP6tSqCQAQMD7wV0lawJqPwyBoYUNqCT\n",
       "OCagq+RsgFC3lJQWgBg7GRg3gJz4CtPlJmDyVCRcgHmCJcRsBJC+9kKAgSEdxGS0RAjHsgYAyaXI\n",
       "AdbIYA+kvMDmCCCcYzAZRPUhqZQPYCgGUi9A7MkIYe4DG0HUPyCWUgIBPYb9DAy6QO55kPgLkBDY\n",
       "RwzP+RJgKmHgMwPnH5hKpAhZAAxhNgGGFoQI418Glg+cUNsnwYXZHPIYGJgYGEyRAvILA/cCHwaG\n",
       "KLDjAuABwrOBgSEDGiRQsJTBqSABKsSpBxM1ZJ7AMD2ZgeERcnDefWMLjLZ1YI4UNKXwNa8wtvph\n",
       "DoxNARyxyeC9COp3HOkB6IMLONInRqqbhSslS6MLbMSlkhHNMt4D2NUBAMOGRsgQJDiGAAAAAElF\n",
       "TkSuQmCC\n",
       "\" style=\"display:inline;vertical-align:middle;\" /></a></td></tr>\n",
       "<tr><td>2</td><td>ExprTuple</td><td>4</td><td><a class=\"ProveItLink\" href=\"../033c94f54e4a858631885517e89b0d7dc249e9440/expr.ipynb\"><img src=\"data:image/png;base64,iVBORw0KGgoAAAANSUhEUgAAAD4AAAAVBAMAAADshECCAAAAMFBMVEX////c3NwiIiJERESqqqqY\n",
       "mJh2dnZmZmYQEBDu7u4yMjJUVFTMzMyIiIi6uroAAAAs73DqAAAAAXRSTlMAQObYZgAAAUJJREFU\n",
       "KM9jYCAE+C7glGJ9ACROY5Fg0f+0qmlFAEMNkL0Sizzv8gkMC5gZGLiATGzGsycwsDnkAS1IYOCY\n",
       "gCQ+d5GSFojmnsAgzbOBgYGzgeEVkjTPUoRiS2YQ24ShDEgy7s1rBIkJI6RZL4SCqHSGpUDyhQDz\n",
       "BxDPEGHUZE4DEOXF0AfU/pWBHcSDCEHAHm4BEPWC4R/QNR8YmEC+4GtSUoK4j4Gv4BmYPg+S5zdg\n",
       "mH8A5LwNcO1cDAsYGBJB8i0MDPIXGPwZgE7jVIDLp7ABg1YBZL4pA8N8B4ZdLCADtsKkGTcAQ52t\n",
       "gYEhCugDBq4AFnU2kPCkB1B5ZgFLBs4yA5D/HoG8f+/wPbC25Qcg8i+smo3XNxcwMKxj4BBAjrdd\n",
       "UPdDATB8gVGAG7BdwB6/MDALiKXxyG8EOQp3+uI9wAAALKVIPUYJG/MAAAAASUVORK5CYII=\n",
       "\" style=\"display:inline;vertical-align:middle;\" /></a></td></tr>\n",
       "<tr><td>3</td><td>ExprTuple</td><td>5, 10</td><td><a class=\"ProveItLink\" href=\"../79090f06f1153a0b165350220a395d0ed7f5380c0/expr.ipynb\"><img src=\"data:image/png;base64,iVBORw0KGgoAAAANSUhEUgAAAD4AAAAVBAMAAADshECCAAAAMFBMVEX////c3NwiIiJERESqqqqY\n",
       "mJh2dnZmZmYQEBDu7u4yMjJUVFTMzMyIiIi6uroAAAAs73DqAAAAAXRSTlMAQObYZgAAASZJREFU\n",
       "KM9jYCAE+C7glGJ9ACROY5Fg0f+0qmlFAEMNkL0Sizzv8gkMC5gZGLiATGzGsycwsDnkAS1IYOCY\n",
       "gEWeewKDNM8GBgbOBoZXONxmyQzSaMJQhiTGuDevEeb0C6EgKp1hKZL8CwHmD1DmZE4DEOXF0Iek\n",
       "/SsDuwGUvYdbAKyD4R9QfJESCDzg/sDABPUNX8EzMH0eJA8D/AYM8w9AmFwMCxgYEkHyLQh5+QsM\n",
       "/gwQ76awAYNWAWS+KUJ+vgPDLpYDnCCXbACGOlsDA0MU0AdwwBXAos7GMB+ojVnAkoGzzADkv0fI\n",
       "3r93+B7DjI9AY62ajdc3FzAwrGPgEEAPuYcIJjB8gVGABgIQTLYLWOIXSX4WEEujxz0SeyPIVbjT\n",
       "F+8BBgALG0PS/U6J9gAAAABJRU5ErkJggg==\n",
       "\" style=\"display:inline;vertical-align:middle;\" /></a></td></tr>\n",
       "<tr><td>4</td><td>Operation</td><td>operator:&nbsp;6<br>operands:&nbsp;7<br></td><td><a class=\"ProveItLink\" href=\"../e52c7680f4f53012348eb0170b3bcb1877ce6f460/expr.ipynb\"><img src=\"data:image/png;base64,iVBORw0KGgoAAAANSUhEUgAAADIAAAAPBAMAAABU9YHxAAAAMFBMVEX///8yMjKqqqrMzMzu7u4i\n",
       "IiJmZmaYmJhEREQQEBC6urp2dnaIiIhUVFTc3NwAAAD87Fq/AAAAAXRSTlMAQObYZgAAANpJREFU\n",
       "GNNjYMAATPFfBadKFmBKMPCIOTAIcGCRYGDbwMCtsAtZxEc0NBBE8zowvGW+gCTBLO4AZ7dwgNh8\n",
       "d3bNA/FeICTYD5SDqJUPOD6A6D6Edg+WBpCW7wxsIBrMgYLLvA9A9n1gYD0ApLmmhoZCXMDAlbAa\n",
       "RPE3MPgbgByAcA0jgwADwz6G9wcY9BmAlrMEwGU2cS9gYAhg8FdguMgE0nQdJsF3wZaBgXsCA2MB\n",
       "Uxg3SMB1AVSG40ELA0t2A9A7pyxOgZWKGUBkVjbO6JCfkYAcxhehboMAAOemMLNTwnkhAAAAAElF\n",
       "TkSuQmCC\n",
       "\" style=\"display:inline;vertical-align:middle;\" /></a></td></tr>\n",
       "<tr><td>5</td><td>Operation</td><td>operator:&nbsp;8<br>operand:&nbsp;9<br></td><td><a class=\"ProveItLink\" href=\"../b2c82962af89a3e111b6dce525aac2b18a2c39ca0/expr.ipynb\"><img src=\"data:image/png;base64,iVBORw0KGgoAAAANSUhEUgAAABoAAAAJBAMAAADeJiHIAAAAMFBMVEX///+qqqrMzMzu7u5mZmaY\n",
       "mJhEREQQEBB2dnaIiIhUVFS6uroiIiIyMjLc3NwAAAAxFEmoAAAAAXRSTlMAQObYZgAAAExJREFU\n",
       "CNdjYICBVzO2P4BzuOsY8uEchvcBDG4MDG/PgMBphvUMDCcRct8YmD/BOXw/GRg/MMN4zB8ZuC4I\n",
       "wSWvMsg4NCCsm7kpcwMArzoXiK6Dv2MAAAAASUVORK5CYII=\n",
       "\" style=\"display:inline;vertical-align:middle;\" /></a></td></tr>\n",
       "<tr><td>6</td><td>Literal</td><td></td><td><a class=\"ProveItLink\" href=\"../../../../logic/set_theory/membership/__pv_it/088cbc857536a28d4119ad9639a84270ccb0545d0/expr.ipynb\"><img src=\"data:image/png;base64,iVBORw0KGgoAAAANSUhEUgAAAAwAAAAMBAMAAACkW0HUAAAALVBMVEX///+qqqpmZmZUVFQQEBC6\n",
       "urpERETc3NyYmJjMzMwiIiIyMjKIiIju7u4AAACYsrA9AAAAAXRSTlMAQObYZgAAADxJREFUCNdj\n",
       "YOA9vWrVBgaG2b0MQMCeCyIZ2ArA1DUwyRCyahVIyWQI7xaEYm4AU7xLIdxqTQgtvGvVBgCkcQ7e\n",
       "geM/tQAAAABJRU5ErkJggg==\n",
       "\" style=\"display:inline;vertical-align:middle;\" /></a></td></tr>\n",
       "<tr><td>7</td><td>ExprTuple</td><td>9, 10</td><td><a class=\"ProveItLink\" href=\"../fd4dcad9558b1c0858078438f4330f7eb1678eba0/expr.ipynb\"><img src=\"data:image/png;base64,iVBORw0KGgoAAAANSUhEUgAAAC4AAAAVBAMAAADLKsFqAAAAMFBMVEX////c3NwiIiJERESqqqqY\n",
       "mJh2dnZmZmYQEBDu7u4yMjJUVFTMzMyIiIi6uroAAAAs73DqAAAAAXRSTlMAQObYZgAAAR5JREFU\n",
       "GNNjYMAF+C5gCLE+ABKnkQRY9D+taloRwFADZK9EEuddPoFhATMDAxeQiWwMewIDm0Me0KAEBo4J\n",
       "SOLcExikeTYwMHA2MLxCs9OSGaTQhKEMSDLuzWuEOeVCKIhKZ1gKJF8IMH+Aik/mNABRXgx9QOVf\n",
       "GdgNoOJ7uAVA1AuGf0DbPjAwQV3FV/AMTJ8HifMbMMw/ABHnYljAwJAIEm9hYJC/wODPAHFuChsw\n",
       "CBRA5pgyMMx3YNjFcoAT5LANwFBha2BgiAK6iIErgEWdjWE+UBmzgCUDZ5kByJ2PQM6/d/gew4yP\n",
       "QO1WzcbrmwsYGNYxcAjAfPoQ4WlgOACDCAoCEOJsF5DCGUl8FhBLw8IeKfA2gtyGGY+8BxgAz2FB\n",
       "pcJZQS4AAAAASUVORK5CYII=\n",
       "\" style=\"display:inline;vertical-align:middle;\" /></a></td></tr>\n",
       "<tr><td>8</td><td>Literal</td><td></td><td><a class=\"ProveItLink\" href=\"../3fc7a08bb9735faa20ef8e175f6ea95511acc9c70/expr.ipynb\"><img src=\"data:image/png;base64,iVBORw0KGgoAAAANSUhEUgAAAA4AAAACBAMAAACapPCZAAAAElBMVEX///+6uroiIiIyMjLc3NwA\n",
       "AAA6l9OrAAAAAXRSTlMAQObYZgAAABBJREFUCNdjcFYCAUUGKAAADR4BD8/TF5gAAAAASUVORK5C\n",
       "YII=\n",
       "\" style=\"display:inline;vertical-align:middle;\" /></a></td></tr>\n",
       "<tr><td>9</td><td>Variable</td><td></td><td><a class=\"ProveItLink\" href=\"../../../../__pv_it/07527342713064c87612d00d8557c53d53d5324a0/expr.ipynb\"><img src=\"data:image/png;base64,iVBORw0KGgoAAAANSUhEUgAAAAsAAAAJBAMAAAAWSsseAAAAMFBMVEX///8yMjKqqqrMzMzu7u4i\n",
       "IiJmZmaYmJhEREQQEBC6urp2dnaIiIhUVFTc3NwAAAD87Fq/AAAAAXRSTlMAQObYZgAAAEhJREFU\n",
       "CNdjYOC7s2seAwPDygccHxgY+L4zsDUwMPB+YGA9wMDA38Dgb8DA8P4Agz6DA4O/AsNFJgMGxgKm\n",
       "MG6gyjunLE4xAAAZTBA5TB6DCwAAAABJRU5ErkJggg==\n",
       "\" style=\"display:inline;vertical-align:middle;\" /></a></td></tr>\n",
       "<tr><td>10</td><td>Literal</td><td></td><td><a class=\"ProveItLink\" href=\"../../../sets/integer/__pv_it/7b9e51516f347f625fa636d7bb440e96498977000/expr.ipynb\"><img src=\"data:image/png;base64,iVBORw0KGgoAAAANSUhEUgAAAA4AAAAOBAMAAADtZjDiAAAAMFBMVEX////MzMzc3NxUVFS6urp2\n",
       "dnZERETu7u5mZmaIiIiYmJgQEBAyMjIiIiKqqqoAAAAf68ZqAAAAAXRSTlMAQObYZgAAAGlJREFU\n",
       "CNdj4Lv/98ze0wsYOE8UMBxgY2DgCGBgfRDCwMBcwKDMaMAAAulsBSCKa8IqMLeMPQFMGzIrgCiW\n",
       "Blcwl4fhAANDEANDHKsDA8MFBiYDYQYG1g0MbArpDOytCQzeOdvSzm9rAAAm6xY1AUf+1AAAAABJ\n",
       "RU5ErkJggg==\n",
       "\" style=\"display:inline;vertical-align:middle;\" /></a></td></tr>\n",
       "</table>\n"
      ],
      "text/plain": [
       "0. a -> ((-a) in Integers) | a in Integers\n",
       "   core type: Lambda\n",
       "   parameter: 9\n",
       "   body: 1\n",
       "   conditions: 2\\n1. (-a) in Integers\n",
       "   core type: Operation\n",
       "   operator: 6\n",
       "   operands: 3\n",
       "2. (a in Integers)\n",
       "   core type: ExprTuple\n",
       "   sub-expressions: 4\n",
       "3. (-a , Integers)\n",
       "   core type: ExprTuple\n",
       "   sub-expressions: 5, 10\n",
       "4. a in Integers\n",
       "   core type: Operation\n",
       "   operator: 6\n",
       "   operands: 7\n",
       "5. -a\n",
       "   core type: Operation\n",
       "   operator: 8\n",
       "   operand: 9\n",
       "6. in\n",
       "   core type: Literal\n",
       "   sub-expressions: \n",
       "7. (a , Integers)\n",
       "   core type: ExprTuple\n",
       "   sub-expressions: 9, 10\n",
       "8. -\n",
       "   core type: Literal\n",
       "   sub-expressions: \n",
       "9. a\n",
       "   core type: Variable\n",
       "   sub-expressions: \n",
       "10. Integers\n",
       "    core type: Literal\n",
       "    sub-expressions: "
      ]
     },
     "execution_count": 4,
     "metadata": {},
     "output_type": "execute_result"
    }
   ],
   "source": [
    "# display the expression information\n",
    "expr.exprInfo()"
   ]
  },
  {
   "cell_type": "code",
   "execution_count": null,
   "metadata": {},
   "outputs": [],
   "source": []
  }
 ],
 "metadata": {
  "kernelspec": {
   "display_name": "Python 3",
   "language": "python",
   "name": "python3"
  }
 },
 "nbformat": 4,
 "nbformat_minor": 0
}
