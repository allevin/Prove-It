{
 "cells": [
  {
   "cell_type": "markdown",
   "metadata": {},
   "source": [
    "Expression of type <a class=\"ProveItLink\" href=\"../../../../../../doc/html/api/proveit.ExprTuple.html\">ExprTuple</a>\n",
    "=======================\n",
    "# from context <a class=\"ProveItLink\" href=\"../../_context_.ipynb\">proveit.number.negation</a>"
   ]
  },
  {
   "cell_type": "code",
   "execution_count": 1,
   "metadata": {},
   "outputs": [],
   "source": [
    "# import Expression classes needed to build the expression\n",
    "from proveit import ExprTuple\n",
    "from proveit._common_ import a, b, c\n",
    "from proveit.logic import Equals, InSet\n",
    "from proveit.number import Add, Naturals"
   ]
  },
  {
   "cell_type": "code",
   "execution_count": 2,
   "metadata": {},
   "outputs": [
    {
     "data": {
      "text/html": [
       "<strong id=\"expr\">expr:</strong> <a class=\"ProveItLink\" href=\"expr.ipynb\"><img src=\"data:image/png;base64,iVBORw0KGgoAAAANSUhEUgAAAKkAAAAVBAMAAADP89MSAAAAMFBMVEX////c3NwiIiJERESqqqqY\n",
       "mJh2dnZmZmYQEBDu7u4yMjJUVFTMzMyIiIi6uroAAAAs73DqAAAAAXRSTlMAQObYZgAAAmxJREFU\n",
       "OMu1lT2IE0EUx/8hd9mv3CZgZxBlEbTwI6AWFuJhqR6mEEFBSaWVEBCuUIu7UwQLNWojl8JFELwI\n",
       "XgQbQXHBJniCVoofgcUqHApBI3IQxfdm55KdZNar3GKy85+d37x5858X4P887tu1vviWoI+HWvkU\n",
       "N0ujurW4awHGzs1RL9vQTK3NUXNRSzUCahY0A+nSSyAnO3ZVN/chj+j34AMTugQ420g2ZaelDN2U\n",
       "v11OQVlLPQaYsUisj57nC+py9VmfelWZMiVPY4W/n9FS7wDLse6r46uxvm7MVyXV9XXUzCZud2up\n",
       "6UlM85qnW5zh1N5+BoKpbFFSDd5m4V07r1Dt559KwJmRc2ZSpoL79N4MbV46nR9QjfCkpNo0253F\n",
       "fjXWu0X0gINi2bp4hFMEaczHdVrgGh06SbcHpxXgqdOM3k1y5cYSzqnUI1VcAdrDoQqSO4M/xOhE\n",
       "WtvzVk8rQM16EKk5or4AtqvU88Av4M2wdwQp22FqrhhpS/FYs+XmgPoDVk+w6vWt9TpbdQvcn6PU\n",
       "iETUy7Q/adlbcSqOpmUGJpH6jbGOpcTahbEiM2B44mFgRKIM7KEVKKmcV6cUp2bWAVVxz2B14fiH\n",
       "FWoPJnnjxHCsgjTuszmcCjLsLGtH33GhSJ31nZ1ZARnlQKWsUJ/gAkadFZFoxhfqTLc+CHG9LBfu\n",
       "4iVq52HdIK+5ZLpC6+u+UKHW3vPGHg37VZDsEGY+Jh665yk3yeXBWd3dioyUeGMTKoSsoLJYJBTb\n",
       "jL40n02ohApVXwkhcqR7LN5u4R9UEUuqkTT8WKs6nLbUmv8wGxL0iUArfwb+AlGTmlEx8RcfAAAA\n",
       "AElFTkSuQmCC\n",
       "\" style=\"display:inline;vertical-align:middle;\" /></a><br>"
      ],
      "text/plain": [
       "expr: (c in Naturals , (a + b) = c)"
      ]
     },
     "execution_count": 2,
     "metadata": {},
     "output_type": "execute_result"
    }
   ],
   "source": [
    "# build up the expression from sub-expressions\n",
    "expr = ExprTuple(InSet(c, Naturals), Equals(Add(a, b), c))"
   ]
  },
  {
   "cell_type": "code",
   "execution_count": 3,
   "metadata": {},
   "outputs": [
    {
     "name": "stdout",
     "output_type": "stream",
     "text": [
      "Passed sanity check: built 'expr' is the same as the stored Expression.\n"
     ]
    }
   ],
   "source": [
    "# check that the built expression is the same as the stored expression\n",
    "%check_expr"
   ]
  },
  {
   "cell_type": "code",
   "execution_count": 4,
   "metadata": {},
   "outputs": [
    {
     "data": {
      "text/html": [
       "<table><tr><th>&nbsp;</th><th>core type</th><th>sub-expressions</th><th>expression</th></tr>\n",
       "<tr><td>0</td><td>ExprTuple</td><td>1, 2</td><td><a class=\"ProveItLink\" href=\"expr.ipynb\"><img src=\"data:image/png;base64,iVBORw0KGgoAAAANSUhEUgAAAKkAAAAVBAMAAADP89MSAAAAMFBMVEX////c3NwiIiJERESqqqqY\n",
       "mJh2dnZmZmYQEBDu7u4yMjJUVFTMzMyIiIi6uroAAAAs73DqAAAAAXRSTlMAQObYZgAAAmxJREFU\n",
       "OMu1lT2IE0EUx/8hd9mv3CZgZxBlEbTwI6AWFuJhqR6mEEFBSaWVEBCuUIu7UwQLNWojl8JFELwI\n",
       "XgQbQXHBJniCVoofgcUqHApBI3IQxfdm55KdZNar3GKy85+d37x5858X4P887tu1vviWoI+HWvkU\n",
       "N0ujurW4awHGzs1RL9vQTK3NUXNRSzUCahY0A+nSSyAnO3ZVN/chj+j34AMTugQ420g2ZaelDN2U\n",
       "v11OQVlLPQaYsUisj57nC+py9VmfelWZMiVPY4W/n9FS7wDLse6r46uxvm7MVyXV9XXUzCZud2up\n",
       "6UlM85qnW5zh1N5+BoKpbFFSDd5m4V07r1Dt559KwJmRc2ZSpoL79N4MbV46nR9QjfCkpNo0253F\n",
       "fjXWu0X0gINi2bp4hFMEaczHdVrgGh06SbcHpxXgqdOM3k1y5cYSzqnUI1VcAdrDoQqSO4M/xOhE\n",
       "WtvzVk8rQM16EKk5or4AtqvU88Av4M2wdwQp22FqrhhpS/FYs+XmgPoDVk+w6vWt9TpbdQvcn6PU\n",
       "iETUy7Q/adlbcSqOpmUGJpH6jbGOpcTahbEiM2B44mFgRKIM7KEVKKmcV6cUp2bWAVVxz2B14fiH\n",
       "FWoPJnnjxHCsgjTuszmcCjLsLGtH33GhSJ31nZ1ZARnlQKWsUJ/gAkadFZFoxhfqTLc+CHG9LBfu\n",
       "4iVq52HdIK+5ZLpC6+u+UKHW3vPGHg37VZDsEGY+Jh665yk3yeXBWd3dioyUeGMTKoSsoLJYJBTb\n",
       "jL40n02ohApVXwkhcqR7LN5u4R9UEUuqkTT8WKs6nLbUmv8wGxL0iUArfwb+AlGTmlEx8RcfAAAA\n",
       "AElFTkSuQmCC\n",
       "\" style=\"display:inline;vertical-align:middle;\" /></a></td></tr>\n",
       "<tr><td>1</td><td>Operation</td><td>operator:&nbsp;3<br>operands:&nbsp;4<br></td><td><a class=\"ProveItLink\" href=\"../ba9998552628997a6486f781028ec6ef74e1596d0/expr.ipynb\"><img src=\"data:image/png;base64,iVBORw0KGgoAAAANSUhEUgAAADEAAAAPBAMAAAC/wjryAAAAMFBMVEX///+qqqpmZmbc3NxUVFSY\n",
       "mJhEREQiIiIyMjK6uroQEBDMzMyIiIh2dnbu7u4AAAA4MM1YAAAAAXRSTlMAQObYZgAAAMlJREFU\n",
       "GNNjYEAHL75lPGBQ/y7AgAlSuRMYGD5gkWBw33CGgWEBkgDfifLyBhDDs49lA4rMjjgow3sLXx9Y\n",
       "hu/umQ1AijkPpsSb8cA2sMyuCRwFQIrNAC7DoMl6ACjDt4aBLQDIf8aAkGF54A2UYYG6b1Z5OdQF\n",
       "3gx8Di+AMvwJEJktSHoY9nIDZewPQPjPkWVYBYDq+YGWgOxhCUCSYbgMlGFRYOAFuZqvEiaTCcRM\n",
       "IBt1z5wDC1hoQyRm/AKq52tADi+R9nJkPgCS3DPqFGZo4AAAAABJRU5ErkJggg==\n",
       "\" style=\"display:inline;vertical-align:middle;\" /></a></td></tr>\n",
       "<tr><td>2</td><td>Operation</td><td>operator:&nbsp;5<br>operands:&nbsp;6<br></td><td><a class=\"ProveItLink\" href=\"../802afb1ac5eb1ad2c38d3736fb41f8be2498e20b0/expr.ipynb\"><img src=\"data:image/png;base64,iVBORw0KGgoAAAANSUhEUgAAAGAAAAAVBAMAAABLWfZ5AAAAMFBMVEX////c3NwiIiJERESqqqqY\n",
       "mJh2dnZmZmYQEBDu7u4yMjJUVFTMzMyIiIi6uroAAAAs73DqAAAAAXRSTlMAQObYZgAAAVRJREFU\n",
       "OMtjYCAZ8F3AIRGHQ/w0FjHOHQoMDOwHsGtYiU2QawOQWIBVPS+KiyZCaX4HIBGGVQPHBGSeL5R+\n",
       "DxKdgVXDKwZsGpJABLMDNg1lQMy4N68RVcPqu1sZGNgK0BVPy73DsBRIvxBg/oCigfMzA/8BBhaw\n",
       "r6tWgcBqEJOnj2ERQx/Qgq8M7AYoGlh+MnAkMPA1oFkw4wKDKcM/BgbuDwxMF1A0sC9g4C9g4PmA\n",
       "pmE/iABq4DdgmH8AYrkGxHKmAob3AZgaPoOIFgYG+QsM/gwTkG0ARkP9BKiTipRAQBkUNn9BfFMG\n",
       "hvkODLtYDqBoOMDQxsDAih7VX4FiDOnAdBDAos6G4gduB/YNWIJ1OwNDDsMjUDTcO3wPNVj3loIS\n",
       "1AM0Dey5dycwcAhgi2lIKGJNGqwJyLy3yJxcEpI32F3YkzeDNC4N3ALYxRlxZdE7WEUBCB1TOctM\n",
       "6J8AAAAASUVORK5CYII=\n",
       "\" style=\"display:inline;vertical-align:middle;\" /></a></td></tr>\n",
       "<tr><td>3</td><td>Literal</td><td></td><td><a class=\"ProveItLink\" href=\"../../../../logic/set_theory/membership/__pv_it/088cbc857536a28d4119ad9639a84270ccb0545d0/expr.ipynb\"><img src=\"data:image/png;base64,iVBORw0KGgoAAAANSUhEUgAAAAwAAAAMBAMAAACkW0HUAAAALVBMVEX///+qqqpmZmZUVFQQEBC6\n",
       "urpERETc3NyYmJjMzMwiIiIyMjKIiIju7u4AAACYsrA9AAAAAXRSTlMAQObYZgAAADxJREFUCNdj\n",
       "YOA9vWrVBgaG2b0MQMCeCyIZ2ArA1DUwyRCyahVIyWQI7xaEYm4AU7xLIdxqTQgtvGvVBgCkcQ7e\n",
       "geM/tQAAAABJRU5ErkJggg==\n",
       "\" style=\"display:inline;vertical-align:middle;\" /></a></td></tr>\n",
       "<tr><td>4</td><td>ExprTuple</td><td>9, 7</td><td><a class=\"ProveItLink\" href=\"../23083a7374253e5f94c97df538d8e34407a367c80/expr.ipynb\"><img src=\"data:image/png;base64,iVBORw0KGgoAAAANSUhEUgAAAC0AAAAVBAMAAAAgHXppAAAAMFBMVEX////c3NwiIiJERESqqqqY\n",
       "mJh2dnZmZmYQEBDu7u4yMjJUVFTMzMyIiIi6uroAAAAs73DqAAAAAXRSTlMAQObYZgAAAQ1JREFU\n",
       "GNN10T9Lw1AUh+FX2rS9TVrdHfQjZOniIPkImRxFF50KxaGjdHBVMpYuZnHIJs5FAoIIXbIKBqpj\n",
       "p6iLk/TcJtgDxUDCOQ+H3/0T+O/pZht0bD+zdT/5Poi4+AqaqTSJGux5PhQQQ0fHPKQ5jOAIWpHy\n",
       "x8RNrY9hoReczkxivRYwlNac5Wnp9ezJemPAnbQv8/Z+6Vw6mXg95kbGr6mFlbvRVLw74hfc4i8f\n",
       "cz8R9wrr2/7aefZKv4K9TLkT+KucnsxLeGgq51TciTmX/AGN9Nbu6FDeZrza54eUw/yV8aec8Udm\n",
       "jXh7Tmunyn5X55Z7cE6qOlTeV/es3EaxW9YdNe7a7K3N//gGS/4TR2rKfBliAAAAAElFTkSuQmCC\n",
       "\" style=\"display:inline;vertical-align:middle;\" /></a></td></tr>\n",
       "<tr><td>5</td><td>Literal</td><td></td><td><a class=\"ProveItLink\" href=\"../../../../logic/equality/__pv_it/2fb26078095930560931daa0500ce419a39ea6cd0/expr.ipynb\"><img src=\"data:image/png;base64,iVBORw0KGgoAAAANSUhEUgAAAA4AAAAFBAMAAACHocAhAAAAFVBMVEX///9EREQiIiJUVFQyMjJm\n",
       "ZmYAAADubVkoAAAAAXRSTlMAQObYZgAAABRJREFUCNdjCHEBAWcGXCBICQQUAUpuAwlgGKrkAAAA\n",
       "AElFTkSuQmCC\n",
       "\" style=\"display:inline;vertical-align:middle;\" /></a></td></tr>\n",
       "<tr><td>6</td><td>ExprTuple</td><td>8, 9</td><td><a class=\"ProveItLink\" href=\"../0d2d07c981bab3bb69690826655aac35badd0b470/expr.ipynb\"><img src=\"data:image/png;base64,iVBORw0KGgoAAAANSUhEUgAAAEsAAAAVBAMAAAD85A5eAAAAMFBMVEX////c3NwiIiJERESqqqqY\n",
       "mJh2dnZmZmYQEBDu7u4yMjJUVFTMzMyIiIi6uroAAAAs73DqAAAAAXRSTlMAQObYZgAAAVBJREFU\n",
       "KM+Nkr9Lw0AUx79t0vxobJPdod1cs7jnPzCToxQHnZQsdlVBHASlo1uC4GBcuggiFAIugktWwZTq\n",
       "JC6NSIcu4rszhTtIqDfcfe/lk/eO73vAP1c7XUZsse255IN53xVuekLbTVmC5lC8RUBLqmk6f6ft\n",
       "idFNwBiIAbX4aSpFL4FPlGHbUlTx0KejNto/lrHb7K54xU6WQAtwTfrDUXIJM79hJ1w9TZpdqBEu\n",
       "KNkMuith6hxGj/PnUHy0j/ADWDnqqYTpEeyACYtXWckZZrsIWQk9jq/O4pgsqweY+twYt8BOgE6K\n",
       "DQzEbGTbIQ90+J2KrgOhhwc1kbAEpzCZoJw+GhF2qTO+uqZJb7M8fYiQ+moF0Lgh78y28eNYNmR0\n",
       "QN5/kepnL5RnAsMp6wJfb0KzGr3K4fMXYq9qkCTMpEHCahXVWgiLvau2dMhfgV9iklbk7ULhygAA\n",
       "AABJRU5ErkJggg==\n",
       "\" style=\"display:inline;vertical-align:middle;\" /></a></td></tr>\n",
       "<tr><td>7</td><td>Literal</td><td></td><td><a class=\"ProveItLink\" href=\"../../../sets/integer/__pv_it/e5d9bd86b06b357eee742ad868997123619e09700/expr.ipynb\"><img src=\"data:image/png;base64,iVBORw0KGgoAAAANSUhEUgAAAA8AAAAOBAMAAAACpFvcAAAAMFBMVEX////c3Nx2dna6uroQEBCI\n",
       "iIhUVFTMzMyYmJiqqqoiIiJmZmZEREQyMjLu7u4AAADjlg78AAAAAXRSTlMAQObYZgAAAGBJREFU\n",
       "CNdjePvn7AOGXb8mMDCcYD/AwPCBgYEhqyCUgcEByEi+x1YAZqSX8d2DMDgDaiAMhs0cARAG24N0\n",
       "CIMv4S2EwVDEDmVwTDgAYTAoghiHgZj7AgOD7Rcgj+8CAwA9oh2B0HK+MAAAAABJRU5ErkJggg==\n",
       "\" style=\"display:inline;vertical-align:middle;\" /></a></td></tr>\n",
       "<tr><td>8</td><td>Operation</td><td>operator:&nbsp;10<br>operands:&nbsp;11<br></td><td><a class=\"ProveItLink\" href=\"../65b86a2ea1d082c977df4e73ed0757bba3b084730/expr.ipynb\"><img src=\"data:image/png;base64,iVBORw0KGgoAAAANSUhEUgAAAC0AAAAQBAMAAABw0OvaAAAAMFBMVEX///8yMjKqqqrMzMzu7u4i\n",
       "IiJmZmaYmJhEREQQEBC6urp2dnaIiIhUVFTc3NwAAAD87Fq/AAAAAXRSTlMAQObYZgAAAKVJREFU\n",
       "GNNjYMAALDcDGLACxgtoCh9AaH4FVHGmAxB6vQN28a1gku/Ornmo4rJnrgPJlQ84PqCIs/xg4Ddg\n",
       "4PvOwNaAIs70hYFzAwPvBwbWAyjibAIM/AkM/A0M/gYgnqCg6ERBQaDTWRMY1hcwvD/AoM/ggKwe\n",
       "6Px8BwZ/BYaLTAYo4gYMs4GeLmAK40Yxn1eB7QLI+acsTqG68046dv+iAy4kcQCzmyqD9t3CDAAA\n",
       "AABJRU5ErkJggg==\n",
       "\" style=\"display:inline;vertical-align:middle;\" /></a></td></tr>\n",
       "<tr><td>9</td><td>Variable</td><td></td><td><a class=\"ProveItLink\" href=\"../../../../__pv_it/cbdfda466482236edba0ce44ac7ef39cda0af7a40/expr.ipynb\"><img src=\"data:image/png;base64,iVBORw0KGgoAAAANSUhEUgAAAAkAAAAJBAMAAAASvxsjAAAALVBMVEX///9mZmbc3NxUVFSYmJhE\n",
       "REQiIiIyMjK6uroQEBDMzMyIiIh2dnbu7u4AAABgFDGoAAAAAXRSTlMAQObYZgAAADZJREFUCNdj\n",
       "YOA9s3sBA8PKBvYEBt7ZDKwODMwPGICALwBE6m0Asx0YGIDiAgw8QJUyu/cyAAAmuwmycZ8WfQAA\n",
       "AABJRU5ErkJggg==\n",
       "\" style=\"display:inline;vertical-align:middle;\" /></a></td></tr>\n",
       "<tr><td>10</td><td>Literal</td><td></td><td><a class=\"ProveItLink\" href=\"../../../addition/__pv_it/3e6688136fa3c7aefbebe51301b7c3ebf0b69c440/expr.ipynb\"><img src=\"data:image/png;base64,iVBORw0KGgoAAAANSUhEUgAAAA4AAAAOBAMAAADtZjDiAAAAJFBMVEX///+6urpUVFQQEBAiIiIy\n",
       "MjJmZmaIiIiqqqrc3Nzu7u4AAACgHpL+AAAAAXRSTlMAQObYZgAAAB5JREFUCNdjYGBgWMkAAe2k\n",
       "0Kmhoc6hoUGk6BMHYgAHOwjcado9fwAAAABJRU5ErkJggg==\n",
       "\" style=\"display:inline;vertical-align:middle;\" /></a></td></tr>\n",
       "<tr><td>11</td><td>ExprTuple</td><td>12, 13</td><td><a class=\"ProveItLink\" href=\"../359d2ffcad0b096b85ece3bdabdf3ac9ad97321c0/expr.ipynb\"><img src=\"data:image/png;base64,iVBORw0KGgoAAAANSUhEUgAAACkAAAAVBAMAAAAp9toTAAAAMFBMVEX////c3NwiIiJERESqqqqY\n",
       "mJh2dnZmZmYQEBDu7u4yMjJUVFTMzMyIiIi6uroAAAAs73DqAAAAAXRSTlMAQObYZgAAAQxJREFU\n",
       "GNNtkSFPw1AQx3/burWlbJ1HgMPO4PsNqEKSBYOC1IAFEoIklXOtQRDMDAkhWdIEidkHgAVQBLOS\n",
       "ZQJDuGv3km7hiXv/+72Xe/+7B/+vzngF7Gt4rgD3YQvsTNRt9d7aUEIK7aUCfiBhD5y4SqeaDeBr\n",
       "6aUDDY2AU9lqo+OLkt693kMr4kb0Z7eRlx5m+BlWyrVcnWP3Cmr94PTpnPMLXk69dGKn+BHruVK/\n",
       "R5IVtB4xDZVewuaYXeKF3bNYK+xAEvBoZa7SjCtophxKm6G13SKREXiBPSycfajdydOEwbc4G53o\n",
       "MN5wuqavdyOk42bfJKERR9VJGurKJNlYJG1z6mnN2uoPvcAf68w9OrA141UAAAAASUVORK5CYII=\n",
       "\" style=\"display:inline;vertical-align:middle;\" /></a></td></tr>\n",
       "<tr><td>12</td><td>Variable</td><td></td><td><a class=\"ProveItLink\" href=\"../../../../__pv_it/07527342713064c87612d00d8557c53d53d5324a0/expr.ipynb\"><img src=\"data:image/png;base64,iVBORw0KGgoAAAANSUhEUgAAAAsAAAAJBAMAAAAWSsseAAAAMFBMVEX///8yMjKqqqrMzMzu7u4i\n",
       "IiJmZmaYmJhEREQQEBC6urp2dnaIiIhUVFTc3NwAAAD87Fq/AAAAAXRSTlMAQObYZgAAAEhJREFU\n",
       "CNdjYOC7s2seAwPDygccHxgY+L4zsDUwMPB+YGA9wMDA38Dgb8DA8P4Agz6DA4O/AsNFJgMGxgKm\n",
       "MG6gyjunLE4xAAAZTBA5TB6DCwAAAABJRU5ErkJggg==\n",
       "\" style=\"display:inline;vertical-align:middle;\" /></a></td></tr>\n",
       "<tr><td>13</td><td>Variable</td><td></td><td><a class=\"ProveItLink\" href=\"../../../../__pv_it/6840a4fa6c106149dc16a131294d0c5e44f1b0480/expr.ipynb\"><img src=\"data:image/png;base64,iVBORw0KGgoAAAANSUhEUgAAAAkAAAAOBAMAAAAPuiubAAAALVBMVEX///9mZmbMzMxERESYmJiI\n",
       "iIh2dna6urqqqqoyMjIiIiIQEBBUVFTu7u4AAAD9S1JeAAAAAXRSTlMAQObYZgAAAE1JREFUCNdj\n",
       "4D29gAEIOA+ASL4GEFl3AURmgQiGOaFHGBh4HzPwKTBwvGXgTmBgnMDAJ8DAJcBQ5wBSLncBJLWN\n",
       "gYGngRFoBO9REQYGAGrcDtUkVqASAAAAAElFTkSuQmCC\n",
       "\" style=\"display:inline;vertical-align:middle;\" /></a></td></tr>\n",
       "</table>\n"
      ],
      "text/plain": [
       "0. (c in Naturals , (a + b) = c)\n",
       "   core type: ExprTuple\n",
       "   sub-expressions: 1, 2\n",
       "1. c in Naturals\n",
       "   core type: Operation\n",
       "   operator: 3\n",
       "   operands: 4\n",
       "2. (a + b) = c\n",
       "   core type: Operation\n",
       "   operator: 5\n",
       "   operands: 6\n",
       "3. in\n",
       "   core type: Literal\n",
       "   sub-expressions: \n",
       "4. (c , Naturals)\n",
       "   core type: ExprTuple\n",
       "   sub-expressions: 9, 7\n",
       "5. =\n",
       "   core type: Literal\n",
       "   sub-expressions: \n",
       "6. (a + b , c)\n",
       "   core type: ExprTuple\n",
       "   sub-expressions: 8, 9\n",
       "7. Naturals\n",
       "   core type: Literal\n",
       "   sub-expressions: \n",
       "8. a + b\n",
       "   core type: Operation\n",
       "   operator: 10\n",
       "   operands: 11\n",
       "9. c\n",
       "   core type: Variable\n",
       "   sub-expressions: \n",
       "10. +\n",
       "    core type: Literal\n",
       "    sub-expressions: \n",
       "11. (a , b)\n",
       "    core type: ExprTuple\n",
       "    sub-expressions: 12, 13\n",
       "12. a\n",
       "    core type: Variable\n",
       "    sub-expressions: \n",
       "13. b\n",
       "    core type: Variable\n",
       "    sub-expressions: "
      ]
     },
     "execution_count": 4,
     "metadata": {},
     "output_type": "execute_result"
    }
   ],
   "source": [
    "# display the expression information\n",
    "expr.exprInfo()"
   ]
  },
  {
   "cell_type": "code",
   "execution_count": null,
   "metadata": {},
   "outputs": [],
   "source": []
  }
 ],
 "metadata": {
  "kernelspec": {
   "display_name": "Python 3",
   "language": "python",
   "name": "python3"
  }
 },
 "nbformat": 4,
 "nbformat_minor": 0
}
