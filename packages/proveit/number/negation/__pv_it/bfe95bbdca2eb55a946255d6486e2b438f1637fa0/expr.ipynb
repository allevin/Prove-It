{
 "cells": [
  {
   "cell_type": "markdown",
   "metadata": {},
   "source": [
    "Expression of type <a class=\"ProveItLink\" href=\"../../../../../../doc/html/api/proveit.logic.Equals.html\">Equals</a>\n",
    "=======================\n",
    "# from context <a class=\"ProveItLink\" href=\"../../_context_.ipynb\">proveit.number.negation</a>"
   ]
  },
  {
   "cell_type": "code",
   "execution_count": 1,
   "metadata": {},
   "outputs": [],
   "source": [
    "# import Expression classes needed to build the expression\n",
    "from proveit._common_ import a, b\n",
    "from proveit.logic import Equals\n",
    "from proveit.number import Add, Neg"
   ]
  },
  {
   "cell_type": "code",
   "execution_count": 2,
   "metadata": {},
   "outputs": [
    {
     "data": {
      "text/html": [
       "<strong id=\"expr\">expr:</strong> <a class=\"ProveItLink\" href=\"expr.ipynb\"><img src=\"data:image/png;base64,iVBORw0KGgoAAAANSUhEUgAAAMYAAAAVBAMAAADvH4zvAAAAMFBMVEX////c3NwiIiJERESqqqqY\n",
       "mJh2dnZmZmYQEBDu7u4yMjJUVFTMzMyIiIi6uroAAAAs73DqAAAAAXRSTlMAQObYZgAAAlZJREFU\n",
       "SMe9VT9oE2EU/11zySXNv9uDtHSpi5BBR/FwFKWZHBzkcOmkBESHKtiICC5yblKHHIJDryARFEQI\n",
       "Bhw7mEkHTQmdSlEaaIsEovje3WG+d9xddPEHv++Sd+9973vv3nsf8D9Q6av/viepXQ2Zah2D7JCW\n",
       "bVVS6sSoFd4uAkYvYATbafs/u0/LXeKmKp134nTn2bMbUmIzNYgtNgbKItiBUHkSPqsWLZdDCpTT\n",
       "U3XEybKRFyd/JFQuhc8D1nkaUiDvpH7qMWd6HftC6Mb6uMZLxgoosJ8aRm6R19O4rQoNm5bapz1T\n",
       "+tgavCGDZkAB1Vrr3mhFvmP3SwNYxQshJFGlhXMyjsIhqj3oFCMThufDr0DVes/MjKSPdh0T4AIe\n",
       "i/RSMS80cFP60MfI26isw6eAYq0dw6jLtysOHpJv/KK3z5cYtH+V+B44JX0YLqpNlOiQpchBVevi\n",
       "CHNcZdPdsAb8AD6y1hTs4xCFCf9e87yTnscVPtfEQSPRxx/bOtqRHl1G5Zh9PBC5sqD9hD4qiDio\n",
       "Pe4501wZ/jmX/Lwo1gt9rMCJtIcx5lydUYWZBgpHKLoXpY8epzXrBhRQrNsW3ukykAl/R1yhylIL\n",
       "usmlcr5pCx9Fy+gk1O6qWpP6ck6+fY07vs6u6EFqmtrg29mhrN3uLd5jGFBgV22PnQ87kZn4mXoB\n",
       "L5E3VWkrts99xM8Sc+bdQbMka6sCOfTEZXI9pLwd7Jk+cv2/mu3+cdyA/zTbGRs8nlSB1klSLZoB\n",
       "I6jN9PGKtxVXwIkk1a8hI9Bm3bXlHn4DnYeekzTA8rUAAAAASUVORK5CYII=\n",
       "\" style=\"display:inline;vertical-align:middle;\" /></a><br>"
      ],
      "text/plain": [
       "expr: (-(a + b)) = (-a - b)"
      ]
     },
     "execution_count": 2,
     "metadata": {},
     "output_type": "execute_result"
    }
   ],
   "source": [
    "# build up the expression from sub-expressions\n",
    "expr = Equals(Neg(Add(a, b)), Add(Neg(a), Neg(b)))"
   ]
  },
  {
   "cell_type": "code",
   "execution_count": 3,
   "metadata": {},
   "outputs": [
    {
     "name": "stdout",
     "output_type": "stream",
     "text": [
      "Passed sanity check: built 'expr' is the same as the stored Expression.\n"
     ]
    }
   ],
   "source": [
    "# check that the built expression is the same as the stored expression\n",
    "%check_expr"
   ]
  },
  {
   "cell_type": "code",
   "execution_count": 4,
   "metadata": {},
   "outputs": [
    {
     "data": {
      "text/html": [
       "<table><tr><th>&nbsp;</th><th>core type</th><th>sub-expressions</th><th>expression</th></tr>\n",
       "<tr><td>0</td><td>Operation</td><td>operator:&nbsp;1<br>operands:&nbsp;2<br></td><td><a class=\"ProveItLink\" href=\"expr.ipynb\"><img src=\"data:image/png;base64,iVBORw0KGgoAAAANSUhEUgAAAMYAAAAVBAMAAADvH4zvAAAAMFBMVEX////c3NwiIiJERESqqqqY\n",
       "mJh2dnZmZmYQEBDu7u4yMjJUVFTMzMyIiIi6uroAAAAs73DqAAAAAXRSTlMAQObYZgAAAlZJREFU\n",
       "SMe9VT9oE2EU/11zySXNv9uDtHSpi5BBR/FwFKWZHBzkcOmkBESHKtiICC5yblKHHIJDryARFEQI\n",
       "Bhw7mEkHTQmdSlEaaIsEovje3WG+d9xddPEHv++Sd+9973vv3nsf8D9Q6av/viepXQ2Zah2D7JCW\n",
       "bVVS6sSoFd4uAkYvYATbafs/u0/LXeKmKp134nTn2bMbUmIzNYgtNgbKItiBUHkSPqsWLZdDCpTT\n",
       "U3XEybKRFyd/JFQuhc8D1nkaUiDvpH7qMWd6HftC6Mb6uMZLxgoosJ8aRm6R19O4rQoNm5bapz1T\n",
       "+tgavCGDZkAB1Vrr3mhFvmP3SwNYxQshJFGlhXMyjsIhqj3oFCMThufDr0DVes/MjKSPdh0T4AIe\n",
       "i/RSMS80cFP60MfI26isw6eAYq0dw6jLtysOHpJv/KK3z5cYtH+V+B44JX0YLqpNlOiQpchBVevi\n",
       "CHNcZdPdsAb8AD6y1hTs4xCFCf9e87yTnscVPtfEQSPRxx/bOtqRHl1G5Zh9PBC5sqD9hD4qiDio\n",
       "Pe4501wZ/jmX/Lwo1gt9rMCJtIcx5lydUYWZBgpHKLoXpY8epzXrBhRQrNsW3ukykAl/R1yhylIL\n",
       "usmlcr5pCx9Fy+gk1O6qWpP6ck6+fY07vs6u6EFqmtrg29mhrN3uLd5jGFBgV22PnQ87kZn4mXoB\n",
       "L5E3VWkrts99xM8Sc+bdQbMka6sCOfTEZXI9pLwd7Jk+cv2/mu3+cdyA/zTbGRs8nlSB1klSLZoB\n",
       "I6jN9PGKtxVXwIkk1a8hI9Bm3bXlHn4DnYeekzTA8rUAAAAASUVORK5CYII=\n",
       "\" style=\"display:inline;vertical-align:middle;\" /></a></td></tr>\n",
       "<tr><td>1</td><td>Literal</td><td></td><td><a class=\"ProveItLink\" href=\"../../../../logic/equality/__pv_it/2fb26078095930560931daa0500ce419a39ea6cd0/expr.ipynb\"><img src=\"data:image/png;base64,iVBORw0KGgoAAAANSUhEUgAAAA4AAAAFBAMAAACHocAhAAAAFVBMVEX///9EREQiIiJUVFQyMjJm\n",
       "ZmYAAADubVkoAAAAAXRSTlMAQObYZgAAABRJREFUCNdjCHEBAWcGXCBICQQUAUpuAwlgGKrkAAAA\n",
       "AElFTkSuQmCC\n",
       "\" style=\"display:inline;vertical-align:middle;\" /></a></td></tr>\n",
       "<tr><td>2</td><td>ExprTuple</td><td>3, 4</td><td><a class=\"ProveItLink\" href=\"../a6e1e95ddc1bbd74543d4b82463ae95daabd99d60/expr.ipynb\"><img src=\"data:image/png;base64,iVBORw0KGgoAAAANSUhEUgAAAKcAAAAVBAMAAADROuOhAAAAMFBMVEX////c3NwiIiJERESqqqqY\n",
       "mJh2dnZmZmYQEBDu7u4yMjJUVFTMzMyIiIi6uroAAAAs73DqAAAAAXRSTlMAQObYZgAAAbVJREFU\n",
       "OMu1lT9PwkAYxp9CofwRys4gcdGRxb1fwMjkaIiLE4ZFBxc1MY4GNzeIiQNlYTExJiQkjix8ACXK\n",
       "ZEwMGOPgQryrvd69B6RdvOHK8/Dj4a73vi3wLyM/XK6UsRs1zwMHxBoswNL3JcDqh+dJsE389iI4\n",
       "02VTK8IqBZgj+6Xqyr/aDpt2IoQKMNVQXaq2/OuEu9cRQgX4TlyqROgen+JOeKgAj4jLldE7OKOh\n",
       "nec7IFnXIyQIDbwlLldvhfiUhKa/YPdhzp2UBKGBl8RmyviGVSah5g9SVeRP9YVKEBo4Y9/erPHx\n",
       "wmymslPEhiTUasGuY0WsSuAClD8PwBn5L6bsMpq8fo9dd8N1O+xTrI5JRYYG9eODcgTgObGZWh1i\n",
       "Gw11paz6Thrz21dAaOAmAZlqOngw+yS0jwsgwQ8qrbAKCA3cJ6FMZSrmepLc06xjdf2SapaUnpQg\n",
       "NHBM7DGvvtHjiJZU75Bn8IO8/lTLNAChgakCadPCoo7yxl+bvoa3FQMTVdWg6kMVNW+uhIfWoj36\n",
       "vK21IoZ6YJFYxWVs1rsxufCFeqBBHqHGstfJU9TXCQN/Ad0Rhd0+3551AAAAAElFTkSuQmCC\n",
       "\" style=\"display:inline;vertical-align:middle;\" /></a></td></tr>\n",
       "<tr><td>3</td><td>Operation</td><td>operator:&nbsp;12<br>operand:&nbsp;5<br></td><td><a class=\"ProveItLink\" href=\"../4fae3ee7e9085e0f338fbf34ca74683550ab00300/expr.ipynb\"><img src=\"data:image/png;base64,iVBORw0KGgoAAAANSUhEUgAAAE4AAAAVBAMAAAAazcUaAAAAMFBMVEX///9ERESqqqqYmJh2dnZm\n",
       "ZmYQEBDu7u5UVFTMzMyIiIi6uroiIiIyMjLc3NwAAAB7vQThAAAAAXRSTlMAQObYZgAAAShJREFU\n",
       "KM9jYCAD7MIhzrwBhcvZgEVNRQ6QiEQR4i3AZtgNkAyKyCpkDvsDKOMTyGIHZKl0ZA7TAgjN/R2k\n",
       "KQFJhvsCNnUsB0CkEJIMK8jwF0u2PUBRx9u1woCBwRXZG0A+dx6DPKp59QIMPxkYdJHUsQFD6b0B\n",
       "QyCqOv0ChhQGhm0Mb8+AwGmgCD9QXT8DwylUdbEMDF8ZGOYjmQdS95GB/SfIqXfv3sm9excU7kcZ\n",
       "uD+jqmNTYOD7xcD0gR3FvE8MrN9B9iIAowED+ycGjguaKOp+MrABw8EWSR1LAAPDZQadAAcUdU0M\n",
       "EQyo4cINDNEXq3ZKbUBRV7EUGFwMt5GjIA9bfEAiGzneGEyQOdzI6lgWEE5XIFCLwuNrwKWuD5X7\n",
       "CocyrgkMAJ0ASNZSRyqbAAAAAElFTkSuQmCC\n",
       "\" style=\"display:inline;vertical-align:middle;\" /></a></td></tr>\n",
       "<tr><td>4</td><td>Operation</td><td>operator:&nbsp;7<br>operands:&nbsp;6<br></td><td><a class=\"ProveItLink\" href=\"../03284b270477b6ddae6382b629f122e17abe154d0/expr.ipynb\"><img src=\"data:image/png;base64,iVBORw0KGgoAAAANSUhEUgAAADwAAAAOBAMAAACBYGLnAAAAMFBMVEX///+qqqrMzMzu7u5mZmaY\n",
       "mJhEREQQEBB2dnaIiIhUVFS6uroiIiIyMjLc3NwAAAAxFEmoAAAAAXRSTlMAQObYZgAAAJVJREFU\n",
       "GNNjYMAJrGoY8IJb+KU/4pXl/oxXmuMAMu/VjO0PUKR5V84KQBhVx5CPqts+geETnPM+gMENVVre\n",
       "gKGC4e0ZEDjNsJ6B4SRIEMZnYPBlYPgCV/uNgfkTqu4jDNxfYWy+nwyMH5jRvM0C9xrzRwauC0Io\n",
       "0p8Y2BvgnKsMMg4NKNILGbyQvD1zU+YG1CiZEsAAAGDOLer7XTtAAAAAAElFTkSuQmCC\n",
       "\" style=\"display:inline;vertical-align:middle;\" /></a></td></tr>\n",
       "<tr><td>5</td><td>Operation</td><td>operator:&nbsp;7<br>operands:&nbsp;8<br></td><td><a class=\"ProveItLink\" href=\"../65b86a2ea1d082c977df4e73ed0757bba3b084730/expr.ipynb\"><img src=\"data:image/png;base64,iVBORw0KGgoAAAANSUhEUgAAAC0AAAAQBAMAAABw0OvaAAAAMFBMVEX///8yMjKqqqrMzMzu7u4i\n",
       "IiJmZmaYmJhEREQQEBC6urp2dnaIiIhUVFTc3NwAAAD87Fq/AAAAAXRSTlMAQObYZgAAAKVJREFU\n",
       "GNNjYMAALDcDGLACxgtoCh9AaH4FVHGmAxB6vQN28a1gku/Ornmo4rJnrgPJlQ84PqCIs/xg4Ddg\n",
       "4PvOwNaAIs70hYFzAwPvBwbWAyjibAIM/AkM/A0M/gYgnqCg6ERBQaDTWRMY1hcwvD/AoM/ggKwe\n",
       "6Px8BwZ/BYaLTAYo4gYMs4GeLmAK40Yxn1eB7QLI+acsTqG68046dv+iAy4kcQCzmyqD9t3CDAAA\n",
       "AABJRU5ErkJggg==\n",
       "\" style=\"display:inline;vertical-align:middle;\" /></a></td></tr>\n",
       "<tr><td>6</td><td>ExprTuple</td><td>9, 10</td><td><a class=\"ProveItLink\" href=\"../a27ae59a8ff6f9415dc6ffd544ba0328e731b1990/expr.ipynb\"><img src=\"data:image/png;base64,iVBORw0KGgoAAAANSUhEUgAAAEkAAAAVBAMAAAD4Ed5jAAAAMFBMVEX////c3NwiIiJERESqqqqY\n",
       "mJh2dnZmZmYQEBDu7u4yMjJUVFTMzMyIiIi6uroAAAAs73DqAAAAAXRSTlMAQObYZgAAAR5JREFU\n",
       "KM9jYCAO8F0goCAORJzGo4BzhwIDA/sBIGslPnO4NgCJBQwMvHgt5HcAEmEMDBwT8Kl6D5KdwcDw\n",
       "Cq/Lk0AEswNDGZIY4968RlRVq+9uZWBgK2BYiiT2QoD5A6ofPzPwH2BgWcDQh2TUVwZ2AxRVLD8Z\n",
       "OBIY+BoY/gFlFymBwAPuDwxMEB/DRNgXMPAXMPB8AKmCe9uAYf4BFLOYChjeB4BUtSDE5C8w+DNM\n",
       "QAuu+gkgG00RYvMdGHaxHOBEVnWAoY2BgXUBQzpSdASwqLMxzFdAiHA7sG8Ah8Qj5OC6d/gew4yP\n",
       "SCGxtxSk+wEDhwB6eD9EFwDGEGsCumAAukAutpSDrooTmHIYpNEEedF1cYPcxEgoRd9hYAAAuZ1B\n",
       "lPgPBUIAAAAASUVORK5CYII=\n",
       "\" style=\"display:inline;vertical-align:middle;\" /></a></td></tr>\n",
       "<tr><td>7</td><td>Literal</td><td></td><td><a class=\"ProveItLink\" href=\"../../../addition/__pv_it/3e6688136fa3c7aefbebe51301b7c3ebf0b69c440/expr.ipynb\"><img src=\"data:image/png;base64,iVBORw0KGgoAAAANSUhEUgAAAA4AAAAOBAMAAADtZjDiAAAAJFBMVEX///+6urpUVFQQEBAiIiIy\n",
       "MjJmZmaIiIiqqqrc3Nzu7u4AAACgHpL+AAAAAXRSTlMAQObYZgAAAB5JREFUCNdjYGBgWMkAAe2k\n",
       "0Kmhoc6hoUGk6BMHYgAHOwjcado9fwAAAABJRU5ErkJggg==\n",
       "\" style=\"display:inline;vertical-align:middle;\" /></a></td></tr>\n",
       "<tr><td>8</td><td>ExprTuple</td><td>11, 13</td><td><a class=\"ProveItLink\" href=\"../359d2ffcad0b096b85ece3bdabdf3ac9ad97321c0/expr.ipynb\"><img src=\"data:image/png;base64,iVBORw0KGgoAAAANSUhEUgAAACkAAAAVBAMAAAAp9toTAAAAMFBMVEX////c3NwiIiJERESqqqqY\n",
       "mJh2dnZmZmYQEBDu7u4yMjJUVFTMzMyIiIi6uroAAAAs73DqAAAAAXRSTlMAQObYZgAAAQxJREFU\n",
       "GNNtkSFPw1AQx3/burWlbJ1HgMPO4PsNqEKSBYOC1IAFEoIklXOtQRDMDAkhWdIEidkHgAVQBLOS\n",
       "ZQJDuGv3km7hiXv/+72Xe/+7B/+vzngF7Gt4rgD3YQvsTNRt9d7aUEIK7aUCfiBhD5y4SqeaDeBr\n",
       "6aUDDY2AU9lqo+OLkt693kMr4kb0Z7eRlx5m+BlWyrVcnWP3Cmr94PTpnPMLXk69dGKn+BHruVK/\n",
       "R5IVtB4xDZVewuaYXeKF3bNYK+xAEvBoZa7SjCtophxKm6G13SKREXiBPSycfajdydOEwbc4G53o\n",
       "MN5wuqavdyOk42bfJKERR9VJGurKJNlYJG1z6mnN2uoPvcAf68w9OrA141UAAAAASUVORK5CYII=\n",
       "\" style=\"display:inline;vertical-align:middle;\" /></a></td></tr>\n",
       "<tr><td>9</td><td>Operation</td><td>operator:&nbsp;12<br>operand:&nbsp;11<br></td><td><a class=\"ProveItLink\" href=\"../b2c82962af89a3e111b6dce525aac2b18a2c39ca0/expr.ipynb\"><img src=\"data:image/png;base64,iVBORw0KGgoAAAANSUhEUgAAABoAAAAJBAMAAADeJiHIAAAAMFBMVEX///+qqqrMzMzu7u5mZmaY\n",
       "mJhEREQQEBB2dnaIiIhUVFS6uroiIiIyMjLc3NwAAAAxFEmoAAAAAXRSTlMAQObYZgAAAExJREFU\n",
       "CNdjYICBVzO2P4BzuOsY8uEchvcBDG4MDG/PgMBphvUMDCcRct8YmD/BOXw/GRg/MMN4zB8ZuC4I\n",
       "wSWvMsg4NCCsm7kpcwMArzoXiK6Dv2MAAAAASUVORK5CYII=\n",
       "\" style=\"display:inline;vertical-align:middle;\" /></a></td></tr>\n",
       "<tr><td>10</td><td>Operation</td><td>operator:&nbsp;12<br>operand:&nbsp;13<br></td><td><a class=\"ProveItLink\" href=\"../06c6ab65c2c39cebd6acdbe16314c5cc355156b90/expr.ipynb\"><img src=\"data:image/png;base64,iVBORw0KGgoAAAANSUhEUgAAABgAAAAOBAMAAADH1sFNAAAAMFBMVEX///9mZmbMzMxERESYmJiI\n",
       "iIh2dnaqqqoQEBBUVFTu7u66uroiIiIyMjLc3NwAAABYXk/VAAAAAXRSTlMAQObYZgAAAFRJREFU\n",
       "CNdjYICClT0MSOAmMuc7Epv7FxKH7QASh3dqpAOcs96A4ROcU7+AoY3h7RkQOM0gy8DwES5zkIH7\n",
       "C5I1jAjDPzFwJMA50xkkEfasDHRgAABNpxc6/bk9/gAAAABJRU5ErkJggg==\n",
       "\" style=\"display:inline;vertical-align:middle;\" /></a></td></tr>\n",
       "<tr><td>11</td><td>Variable</td><td></td><td><a class=\"ProveItLink\" href=\"../../../../__pv_it/07527342713064c87612d00d8557c53d53d5324a0/expr.ipynb\"><img src=\"data:image/png;base64,iVBORw0KGgoAAAANSUhEUgAAAAsAAAAJBAMAAAAWSsseAAAAMFBMVEX///8yMjKqqqrMzMzu7u4i\n",
       "IiJmZmaYmJhEREQQEBC6urp2dnaIiIhUVFTc3NwAAAD87Fq/AAAAAXRSTlMAQObYZgAAAEhJREFU\n",
       "CNdjYOC7s2seAwPDygccHxgY+L4zsDUwMPB+YGA9wMDA38Dgb8DA8P4Agz6DA4O/AsNFJgMGxgKm\n",
       "MG6gyjunLE4xAAAZTBA5TB6DCwAAAABJRU5ErkJggg==\n",
       "\" style=\"display:inline;vertical-align:middle;\" /></a></td></tr>\n",
       "<tr><td>12</td><td>Literal</td><td></td><td><a class=\"ProveItLink\" href=\"../3fc7a08bb9735faa20ef8e175f6ea95511acc9c70/expr.ipynb\"><img src=\"data:image/png;base64,iVBORw0KGgoAAAANSUhEUgAAAA4AAAACBAMAAACapPCZAAAAElBMVEX///+6uroiIiIyMjLc3NwA\n",
       "AAA6l9OrAAAAAXRSTlMAQObYZgAAABBJREFUCNdjcFYCAUUGKAAADR4BD8/TF5gAAAAASUVORK5C\n",
       "YII=\n",
       "\" style=\"display:inline;vertical-align:middle;\" /></a></td></tr>\n",
       "<tr><td>13</td><td>Variable</td><td></td><td><a class=\"ProveItLink\" href=\"../../../../__pv_it/6840a4fa6c106149dc16a131294d0c5e44f1b0480/expr.ipynb\"><img src=\"data:image/png;base64,iVBORw0KGgoAAAANSUhEUgAAAAkAAAAOBAMAAAAPuiubAAAALVBMVEX///9mZmbMzMxERESYmJiI\n",
       "iIh2dna6urqqqqoyMjIiIiIQEBBUVFTu7u4AAAD9S1JeAAAAAXRSTlMAQObYZgAAAE1JREFUCNdj\n",
       "4D29gAEIOA+ASL4GEFl3AURmgQiGOaFHGBh4HzPwKTBwvGXgTmBgnMDAJ8DAJcBQ5wBSLncBJLWN\n",
       "gYGngRFoBO9REQYGAGrcDtUkVqASAAAAAElFTkSuQmCC\n",
       "\" style=\"display:inline;vertical-align:middle;\" /></a></td></tr>\n",
       "</table>\n"
      ],
      "text/plain": [
       "0. (-(a + b)) = (-a - b)\n",
       "   core type: Operation\n",
       "   operator: 1\n",
       "   operands: 2\n",
       "1. =\n",
       "   core type: Literal\n",
       "   sub-expressions: \n",
       "2. (-(a + b) , -a - b)\n",
       "   core type: ExprTuple\n",
       "   sub-expressions: 3, 4\n",
       "3. -(a + b)\n",
       "   core type: Operation\n",
       "   operator: 12\n",
       "   operand: 5\n",
       "4. -a - b\n",
       "   core type: Operation\n",
       "   operator: 7\n",
       "   operands: 6\n",
       "5. a + b\n",
       "   core type: Operation\n",
       "   operator: 7\n",
       "   operands: 8\n",
       "6. (-a , -b)\n",
       "   core type: ExprTuple\n",
       "   sub-expressions: 9, 10\n",
       "7. +\n",
       "   core type: Literal\n",
       "   sub-expressions: \n",
       "8. (a , b)\n",
       "   core type: ExprTuple\n",
       "   sub-expressions: 11, 13\n",
       "9. -a\n",
       "   core type: Operation\n",
       "   operator: 12\n",
       "   operand: 11\n",
       "10. -b\n",
       "    core type: Operation\n",
       "    operator: 12\n",
       "    operand: 13\n",
       "11. a\n",
       "    core type: Variable\n",
       "    sub-expressions: \n",
       "12. -\n",
       "    core type: Literal\n",
       "    sub-expressions: \n",
       "13. b\n",
       "    core type: Variable\n",
       "    sub-expressions: "
      ]
     },
     "execution_count": 4,
     "metadata": {},
     "output_type": "execute_result"
    }
   ],
   "source": [
    "# display the expression information\n",
    "expr.exprInfo()"
   ]
  },
  {
   "cell_type": "code",
   "execution_count": null,
   "metadata": {},
   "outputs": [],
   "source": []
  }
 ],
 "metadata": {
  "kernelspec": {
   "display_name": "Python 3",
   "language": "python",
   "name": "python3"
  }
 },
 "nbformat": 4,
 "nbformat_minor": 0
}
