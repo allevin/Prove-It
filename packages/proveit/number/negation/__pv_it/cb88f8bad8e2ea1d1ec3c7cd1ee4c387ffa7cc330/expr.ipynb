{
 "cells": [
  {
   "cell_type": "markdown",
   "metadata": {},
   "source": [
    "Expression of type <a class=\"ProveItLink\" href=\"../../../../../../doc/html/api/proveit.number.Less.html\">Less</a>\n",
    "=======================\n",
    "# from context <a class=\"ProveItLink\" href=\"../../_context_.ipynb\">proveit.number.negation</a>"
   ]
  },
  {
   "cell_type": "code",
   "execution_count": 1,
   "metadata": {},
   "outputs": [],
   "source": [
    "# import Expression classes needed to build the expression\n",
    "from proveit._common_ import a\n",
    "from proveit.number import Less, Neg, zero"
   ]
  },
  {
   "cell_type": "code",
   "execution_count": 2,
   "metadata": {},
   "outputs": [
    {
     "data": {
      "text/html": [
       "<strong id=\"expr\">expr:</strong> <a class=\"ProveItLink\" href=\"expr.ipynb\"><img src=\"data:image/png;base64,iVBORw0KGgoAAAANSUhEUgAAAE8AAAAVBAMAAAD1D64kAAAAMFBMVEX////c3NwiIiJERESqqqqY\n",
       "mJh2dnZmZmYQEBDu7u4yMjJUVFTMzMyIiIi6uroAAAAs73DqAAAAAXRSTlMAQObYZgAAAUVJREFU\n",
       "KM9jYCAa8F1A5cfhUngajc9+AF0FZ+11kNhKdPEF6AJMDzh1GBh4L6CLhyGYjDUg8hIDwy0GBo4J\n",
       "6ApnwFk8ux6AKG0GhvcCDK8wHM3sAPPmaohzvzMwnHdgKENSwrg3r5GBga0AwmNZLgAR/QZUeIFh\n",
       "KZLCFwLMH4AKIL7hVYM6CqwwgaEPycCvDOwGQBsbQBw2XbgwROE/IGuREgg84P7AwAQMA54PIOnJ\n",
       "digKL4AUwgC/AcP8AzCFDKeXwMRBnglgaEEolL/A4M8wAWo1A4O4KlQcGDz+AgymCIXzHRh2sRxg\n",
       "YIVFzTRdiHeAAZ7EwJCOUMgVwKLOhggeBgZWiMeZHDh7GBgeIQfjvcP3gOofwEVY1oATRdltoNM5\n",
       "BHBHIQpgTUAXycWRHtGTGecCHAql0fjcAjgUMqIlyDvYlQEAN/BNXQj6bR4AAAAASUVORK5CYII=\n",
       "\" style=\"display:inline;vertical-align:middle;\" /></a><br>"
      ],
      "text/plain": [
       "expr: (-a) < 0"
      ]
     },
     "execution_count": 2,
     "metadata": {},
     "output_type": "execute_result"
    }
   ],
   "source": [
    "# build up the expression from sub-expressions\n",
    "expr = Less(Neg(a), zero)"
   ]
  },
  {
   "cell_type": "code",
   "execution_count": 3,
   "metadata": {},
   "outputs": [
    {
     "name": "stdout",
     "output_type": "stream",
     "text": [
      "Passed sanity check: built 'expr' is the same as the stored Expression.\n"
     ]
    }
   ],
   "source": [
    "# check that the built expression is the same as the stored expression\n",
    "%check_expr"
   ]
  },
  {
   "cell_type": "code",
   "execution_count": 4,
   "metadata": {},
   "outputs": [
    {
     "data": {
      "text/html": [
       "<table><tr><th>&nbsp;</th><th>core type</th><th>sub-expressions</th><th>expression</th></tr>\n",
       "<tr><td>0</td><td>Operation</td><td>operator:&nbsp;1<br>operands:&nbsp;2<br></td><td><a class=\"ProveItLink\" href=\"expr.ipynb\"><img src=\"data:image/png;base64,iVBORw0KGgoAAAANSUhEUgAAAE8AAAAVBAMAAAD1D64kAAAAMFBMVEX////c3NwiIiJERESqqqqY\n",
       "mJh2dnZmZmYQEBDu7u4yMjJUVFTMzMyIiIi6uroAAAAs73DqAAAAAXRSTlMAQObYZgAAAUVJREFU\n",
       "KM9jYCAa8F1A5cfhUngajc9+AF0FZ+11kNhKdPEF6AJMDzh1GBh4L6CLhyGYjDUg8hIDwy0GBo4J\n",
       "6ApnwFk8ux6AKG0GhvcCDK8wHM3sAPPmaohzvzMwnHdgKENSwrg3r5GBga0AwmNZLgAR/QZUeIFh\n",
       "KZLCFwLMH4AKIL7hVYM6CqwwgaEPycCvDOwGQBsbQBw2XbgwROE/IGuREgg84P7AwAQMA54PIOnJ\n",
       "digKL4AUwgC/AcP8AzCFDKeXwMRBnglgaEEolL/A4M8wAWo1A4O4KlQcGDz+AgymCIXzHRh2sRxg\n",
       "YIVFzTRdiHeAAZ7EwJCOUMgVwKLOhggeBgZWiMeZHDh7GBgeIQfjvcP3gOofwEVY1oATRdltoNM5\n",
       "BHBHIQpgTUAXycWRHtGTGecCHAql0fjcAjgUMqIlyDvYlQEAN/BNXQj6bR4AAAAASUVORK5CYII=\n",
       "\" style=\"display:inline;vertical-align:middle;\" /></a></td></tr>\n",
       "<tr><td>1</td><td>Literal</td><td></td><td><a class=\"ProveItLink\" href=\"../../../ordering/__pv_it/7c444b9b2efa607ed6397b492680dde2810212f00/expr.ipynb\"><img src=\"data:image/png;base64,iVBORw0KGgoAAAANSUhEUgAAAA4AAAAMBAMAAACgrpHpAAAALVBMVEX///+YmJhERETu7u52dnYi\n",
       "IiKIiIiqqqq6uroyMjJUVFTMzMxmZmbc3NwAAADmAst+AAAAAXRSTlMAQObYZgAAAD5JREFUCNdj\n",
       "YAAB3tNgintlA4jimLUBRLHPuQCi2EIMQBRLGFgJg5EGhGbYNR3KuBMIZZiEGUAYjCFQBvtsABzC\n",
       "Cm98G6SsAAAAAElFTkSuQmCC\n",
       "\" style=\"display:inline;vertical-align:middle;\" /></a></td></tr>\n",
       "<tr><td>2</td><td>ExprTuple</td><td>3, 4</td><td><a class=\"ProveItLink\" href=\"../10e24f167da20733f9cd98ee57671f3abaef0b870/expr.ipynb\"><img src=\"data:image/png;base64,iVBORw0KGgoAAAANSUhEUgAAADsAAAAVBAMAAAAKrYvGAAAAMFBMVEX////c3NwiIiJERESqqqqY\n",
       "mJh2dnZmZmYQEBDu7u4yMjJUVFTMzMyIiIi6uroAAAAs73DqAAAAAXRSTlMAQObYZgAAARFJREFU\n",
       "KM9jYCAA+C7gkokDEaexyXDWXj/AwH4AyFqJTZrpAacOA8MCBgZerGZfYmC4xcAQxsDAMQGbtDYD\n",
       "w3sBhhkMDK+wuuo7A8N5BwZmB4YyJEHGvXmNEMY3oPQFBrYChqVI0i8EmD8gpBMYWBYw9CFp/srA\n",
       "boAszdfA8A/IWaQEAg+4PzAwXUA2nOcDSBoG+A0Y5h9AOC0AJN2CkJa/wODPMAHmMX8BkOGmCOn5\n",
       "Dgy7WA5wQoMliYGBdQFDOkKaK4BFnY1hvgIoUB04exhAHnuE7O17h+8xzPgIipKy20BXcD1g4BBA\n",
       "D7GHcBYwUFkT0KUD4KxcbBEKl+YERiiDNJosL5zFDbKXEWdiusPAAAAE0ka16dz3DAAAAABJRU5E\n",
       "rkJggg==\n",
       "\" style=\"display:inline;vertical-align:middle;\" /></a></td></tr>\n",
       "<tr><td>3</td><td>Operation</td><td>operator:&nbsp;5<br>operand:&nbsp;6<br></td><td><a class=\"ProveItLink\" href=\"../b2c82962af89a3e111b6dce525aac2b18a2c39ca0/expr.ipynb\"><img src=\"data:image/png;base64,iVBORw0KGgoAAAANSUhEUgAAABoAAAAJBAMAAADeJiHIAAAAMFBMVEX///+qqqrMzMzu7u5mZmaY\n",
       "mJhEREQQEBB2dnaIiIhUVFS6uroiIiIyMjLc3NwAAAAxFEmoAAAAAXRSTlMAQObYZgAAAExJREFU\n",
       "CNdjYICBVzO2P4BzuOsY8uEchvcBDG4MDG/PgMBphvUMDCcRct8YmD/BOXw/GRg/MMN4zB8ZuC4I\n",
       "wSWvMsg4NCCsm7kpcwMArzoXiK6Dv2MAAAAASUVORK5CYII=\n",
       "\" style=\"display:inline;vertical-align:middle;\" /></a></td></tr>\n",
       "<tr><td>4</td><td>Literal</td><td></td><td><a class=\"ProveItLink\" href=\"../../../numeral/__pv_it/ec23fc7a1b4222a5f4948b495002b97d6fa18c3c0/expr.ipynb\"><img src=\"data:image/png;base64,iVBORw0KGgoAAAANSUhEUgAAAAoAAAAOBAMAAADkjZCYAAAALVBMVEX///8QEBCYmJh2dnaqqqrc\n",
       "3NxUVFQyMjK6uroiIiLMzMyIiIhmZmbu7u4AAAAZjyHdAAAAAXRSTlMAQObYZgAAAEpJREFUCNdj\n",
       "YLiz+xQDA8MMhpsLGLgnMHAXMHAmMHA8ZeA7wMD1hCHOgIHrNZh8jES+Bss+AqlkeQrSxTyBgWEK\n",
       "w8UFDAx3rLMYAMCjFldHSx/9AAAAAElFTkSuQmCC\n",
       "\" style=\"display:inline;vertical-align:middle;\" /></a></td></tr>\n",
       "<tr><td>5</td><td>Literal</td><td></td><td><a class=\"ProveItLink\" href=\"../3fc7a08bb9735faa20ef8e175f6ea95511acc9c70/expr.ipynb\"><img src=\"data:image/png;base64,iVBORw0KGgoAAAANSUhEUgAAAA4AAAACBAMAAACapPCZAAAAElBMVEX///+6uroiIiIyMjLc3NwA\n",
       "AAA6l9OrAAAAAXRSTlMAQObYZgAAABBJREFUCNdjcFYCAUUGKAAADR4BD8/TF5gAAAAASUVORK5C\n",
       "YII=\n",
       "\" style=\"display:inline;vertical-align:middle;\" /></a></td></tr>\n",
       "<tr><td>6</td><td>Variable</td><td></td><td><a class=\"ProveItLink\" href=\"../../../../__pv_it/07527342713064c87612d00d8557c53d53d5324a0/expr.ipynb\"><img src=\"data:image/png;base64,iVBORw0KGgoAAAANSUhEUgAAAAsAAAAJBAMAAAAWSsseAAAAMFBMVEX///8yMjKqqqrMzMzu7u4i\n",
       "IiJmZmaYmJhEREQQEBC6urp2dnaIiIhUVFTc3NwAAAD87Fq/AAAAAXRSTlMAQObYZgAAAEhJREFU\n",
       "CNdjYOC7s2seAwPDygccHxgY+L4zsDUwMPB+YGA9wMDA38Dgb8DA8P4Agz6DA4O/AsNFJgMGxgKm\n",
       "MG6gyjunLE4xAAAZTBA5TB6DCwAAAABJRU5ErkJggg==\n",
       "\" style=\"display:inline;vertical-align:middle;\" /></a></td></tr>\n",
       "</table>\n"
      ],
      "text/plain": [
       "0. (-a) < 0\n",
       "   core type: Operation\n",
       "   operator: 1\n",
       "   operands: 2\n",
       "1. <\n",
       "   core type: Literal\n",
       "   sub-expressions: \n",
       "2. (-a , 0)\n",
       "   core type: ExprTuple\n",
       "   sub-expressions: 3, 4\n",
       "3. -a\n",
       "   core type: Operation\n",
       "   operator: 5\n",
       "   operand: 6\n",
       "4. 0\n",
       "   core type: Literal\n",
       "   sub-expressions: \n",
       "5. -\n",
       "   core type: Literal\n",
       "   sub-expressions: \n",
       "6. a\n",
       "   core type: Variable\n",
       "   sub-expressions: "
      ]
     },
     "execution_count": 4,
     "metadata": {},
     "output_type": "execute_result"
    }
   ],
   "source": [
    "# display the expression information\n",
    "expr.exprInfo()"
   ]
  },
  {
   "cell_type": "code",
   "execution_count": null,
   "metadata": {},
   "outputs": [],
   "source": []
  }
 ],
 "metadata": {
  "kernelspec": {
   "display_name": "Python 3",
   "language": "python",
   "name": "python3"
  }
 },
 "nbformat": 4,
 "nbformat_minor": 0
}
