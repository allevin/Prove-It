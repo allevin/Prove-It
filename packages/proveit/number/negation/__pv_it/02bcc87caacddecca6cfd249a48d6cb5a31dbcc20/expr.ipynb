{
 "cells": [
  {
   "cell_type": "markdown",
   "metadata": {},
   "source": [
    "Expression of type <a class=\"ProveItLink\" href=\"../../../../../../doc/html/api/proveit.logic.Equals.html\">Equals</a>\n",
    "=======================\n",
    "# from context <a class=\"ProveItLink\" href=\"../../_context_.ipynb\">proveit.number.negation</a>"
   ]
  },
  {
   "cell_type": "code",
   "execution_count": 1,
   "metadata": {},
   "outputs": [],
   "source": [
    "# import Expression classes needed to build the expression\n",
    "from proveit._common_ import x, y\n",
    "from proveit.logic import Equals\n",
    "from proveit.number import Mult, Neg"
   ]
  },
  {
   "cell_type": "code",
   "execution_count": 2,
   "metadata": {},
   "outputs": [
    {
     "data": {
      "text/html": [
       "<strong id=\"expr\">expr:</strong> <a class=\"ProveItLink\" href=\"expr.ipynb\"><img src=\"data:image/png;base64,iVBORw0KGgoAAAANSUhEUgAAAMcAAAAVBAMAAAAA3efRAAAAMFBMVEX////c3NwiIiJERESqqqqY\n",
       "mJh2dnZmZmYQEBDu7u4yMjJUVFTMzMyIiIi6uroAAAAs73DqAAAAAXRSTlMAQObYZgAAAllJREFU\n",
       "SMe9Vb9rFEEYfef92N3kfhViIyFLQOuAngREuFqQXJXCQhabVIFgcYWKnpjGwmNBCKeNi3CIFhL9\n",
       "C66ws8hWnqBHlqtEkJyCRUDFb37czsxmcK188Jbh7bz5Zr/55lvgv6AeC+ooJ8gRkDV9ta19TRLv\n",
       "JA3czhUypuqeLYgzEsQLSQMLuULGtBBa0xQJ1mLBTHqCPCFjmtjPYkPQDQVNeL08IWN6YA8yEPwC\n",
       "wQzO5wqGqR7ZgxTbnF0adjX51MeTY0rEZirsdlE40gWJrnHCgbKKL98MsByisg3GISlDLS1B+Yzr\n",
       "A5dTJThEbSYF5yUHr6Shce4dZeWo1Gc4AEoRZ5+UvppdoRVLVHSfeURKe7V9A8VVKejoGweUKCse\n",
       "E986Ps5RGnucv0khFp6tMCQeFleZa589ntK+PDxEI5aCDs0ENBI2U1i97/QI3Ri/aIszThlE21Sc\n",
       "BhkwU+kI+yN7EIVGoqzeffZcD6s/0yA7JOzo85dHCPXsOBE+QAoO3/kK37BhctvKKnATtV6arhYJ\n",
       "Le3SNQ9Qo5lX1Zlu4yJ0QaJllGpHWQWeo0j1UY44WWlq5bneWcOSITl79R+wlLAhsFKdWwVu4bCD\n",
       "eQlPSZiq2Y/e727RS7xSRX1p/M0QJKbGZfSVVS40udukNCScLg0Z/9JFKr61rRime8dv+3XVVljn\n",
       "O979Kqr7vcGgbQjWlrmRebvoe6wytiStrf6JGp7FBVP4p1Z/IijSJrxIEKclDbxWwyvjxBTmMEyF\n",
       "zE+rNLnDvqcpiEIsaPwrRsgRkDUt2ZrwJ8E//cetE93tBW0AAAAASUVORK5CYII=\n",
       "\" style=\"display:inline;vertical-align:middle;\" /></a><br>"
      ],
      "text/plain": [
       "expr: ((-x) * y) = (-(x * y))"
      ]
     },
     "execution_count": 2,
     "metadata": {},
     "output_type": "execute_result"
    }
   ],
   "source": [
    "# build up the expression from sub-expressions\n",
    "expr = Equals(Mult(Neg(x), y), Neg(Mult(x, y)))"
   ]
  },
  {
   "cell_type": "code",
   "execution_count": 3,
   "metadata": {},
   "outputs": [
    {
     "name": "stdout",
     "output_type": "stream",
     "text": [
      "Passed sanity check: built 'expr' is the same as the stored Expression.\n"
     ]
    }
   ],
   "source": [
    "# check that the built expression is the same as the stored expression\n",
    "%check_expr"
   ]
  },
  {
   "cell_type": "code",
   "execution_count": 4,
   "metadata": {},
   "outputs": [
    {
     "data": {
      "text/html": [
       "<table><tr><th>&nbsp;</th><th>core type</th><th>sub-expressions</th><th>expression</th></tr>\n",
       "<tr><td>0</td><td>Operation</td><td>operator:&nbsp;1<br>operands:&nbsp;2<br></td><td><a class=\"ProveItLink\" href=\"expr.ipynb\"><img src=\"data:image/png;base64,iVBORw0KGgoAAAANSUhEUgAAAMcAAAAVBAMAAAAA3efRAAAAMFBMVEX////c3NwiIiJERESqqqqY\n",
       "mJh2dnZmZmYQEBDu7u4yMjJUVFTMzMyIiIi6uroAAAAs73DqAAAAAXRSTlMAQObYZgAAAllJREFU\n",
       "SMe9Vb9rFEEYfef92N3kfhViIyFLQOuAngREuFqQXJXCQhabVIFgcYWKnpjGwmNBCKeNi3CIFhL9\n",
       "C66ws8hWnqBHlqtEkJyCRUDFb37czsxmcK188Jbh7bz5Zr/55lvgv6AeC+ooJ8gRkDV9ta19TRLv\n",
       "JA3czhUypuqeLYgzEsQLSQMLuULGtBBa0xQJ1mLBTHqCPCFjmtjPYkPQDQVNeL08IWN6YA8yEPwC\n",
       "wQzO5wqGqR7ZgxTbnF0adjX51MeTY0rEZirsdlE40gWJrnHCgbKKL98MsByisg3GISlDLS1B+Yzr\n",
       "A5dTJThEbSYF5yUHr6Shce4dZeWo1Gc4AEoRZ5+UvppdoRVLVHSfeURKe7V9A8VVKejoGweUKCse\n",
       "E986Ps5RGnucv0khFp6tMCQeFleZa589ntK+PDxEI5aCDs0ENBI2U1i97/QI3Ri/aIszThlE21Sc\n",
       "BhkwU+kI+yN7EIVGoqzeffZcD6s/0yA7JOzo85dHCPXsOBE+QAoO3/kK37BhctvKKnATtV6arhYJ\n",
       "Le3SNQ9Qo5lX1Zlu4yJ0QaJllGpHWQWeo0j1UY44WWlq5bneWcOSITl79R+wlLAhsFKdWwVu4bCD\n",
       "eQlPSZiq2Y/e727RS7xSRX1p/M0QJKbGZfSVVS40udukNCScLg0Z/9JFKr61rRime8dv+3XVVljn\n",
       "O979Kqr7vcGgbQjWlrmRebvoe6wytiStrf6JGp7FBVP4p1Z/IijSJrxIEKclDbxWwyvjxBTmMEyF\n",
       "zE+rNLnDvqcpiEIsaPwrRsgRkDUt2ZrwJ8E//cetE93tBW0AAAAASUVORK5CYII=\n",
       "\" style=\"display:inline;vertical-align:middle;\" /></a></td></tr>\n",
       "<tr><td>1</td><td>Literal</td><td></td><td><a class=\"ProveItLink\" href=\"../../../../logic/equality/__pv_it/2fb26078095930560931daa0500ce419a39ea6cd0/expr.ipynb\"><img src=\"data:image/png;base64,iVBORw0KGgoAAAANSUhEUgAAAA4AAAAFBAMAAACHocAhAAAAFVBMVEX///9EREQiIiJUVFQyMjJm\n",
       "ZmYAAADubVkoAAAAAXRSTlMAQObYZgAAABRJREFUCNdjCHEBAWcGXCBICQQUAUpuAwlgGKrkAAAA\n",
       "AElFTkSuQmCC\n",
       "\" style=\"display:inline;vertical-align:middle;\" /></a></td></tr>\n",
       "<tr><td>2</td><td>ExprTuple</td><td>3, 4</td><td><a class=\"ProveItLink\" href=\"../54acd8fc2c700d49f591cce2c1aa3134d6d5c9590/expr.ipynb\"><img src=\"data:image/png;base64,iVBORw0KGgoAAAANSUhEUgAAAKUAAAAVBAMAAADVzzOcAAAAMFBMVEX////c3NwiIiJERESqqqqY\n",
       "mJh2dnZmZmYQEBDu7u4yMjJUVFTMzMyIiIi6uroAAAAs73DqAAAAAXRSTlMAQObYZgAAAlFJREFU\n",
       "OMu1Vc9rE0EU/tbdbHbTbJKDeJHSIOhZ0IogQs7F0ujBgwdZPFg8BIKHHPwZbS8eWhcKJXpxEYp4\n",
       "kVb/gRy8eWguGkVDQ08iSKPQQ6GKb2Y2O7OTJTn54FsmX2a/vDffmxfgf0ShI6BGpj/prZ9p5PUI\n",
       "+BAhEfcmSOY309hsWwCvIyQiN0EzF6TSoYDXEdCK98dr9tLpqwJOIJAMtzle80k63RL4AQEtzo73\n",
       "NUznzQpHg5YNhT729WiXjmIxJtYbMA50M+hojNrW/P24rkUfMwHsOhg2iNlQivYzJ50yMBcz/h68\n",
       "gW5RlX4LV6qPh4RdGGAHsEKOVWJW5W6bBCxqh+/8B+ic85XbME9rmg71r08il9iHZ4T32TLO0Jk0\n",
       "Of4SQzBenmDRdzHFBbbZ4wUl7GIFRdEXwz1AkRDgnajsNz0Cp4M/lMCAI9JUcujEmi0mbx1gu63l\n",
       "WeT3bEVoLrHnQpA/jDWXiVhW98+0KQVRu/AjxGfdX6fC0j6kIoZxB14zrn2WiFml2Us78EjzmvSj\n",
       "jgus0kTPkEeXybkvMfMKJl3XTMjBmkY2Dhaq5zGdoLKbhX1xaIqTdVj7ZtOQ9+8u9qoY9tIuEbty\n",
       "99qn9Rp9iTeyuy52f8F9Wkr0fJnoWzc/Ku/1HtKOXJ/DoaVTGns3bbK/kNzyaPQO3ZB3k02L0Ylh\n",
       "y6reokWOZEaHhRpTZZcZXYuQOuuey+UpnMOIpj7rjvgm5eWGAjgeIRFbcjnfZc2oTUNDm8lW7wHL\n",
       "tiQAZp6hveK1J/13TKeR3wT+AfOwk/SkpzHRAAAAAElFTkSuQmCC\n",
       "\" style=\"display:inline;vertical-align:middle;\" /></a></td></tr>\n",
       "<tr><td>3</td><td>Operation</td><td>operator:&nbsp;8<br>operands:&nbsp;5<br></td><td><a class=\"ProveItLink\" href=\"../599ceff30d345bc11f339dd809dcf9e38530f1830/expr.ipynb\"><img src=\"data:image/png;base64,iVBORw0KGgoAAAANSUhEUgAAAEQAAAAVBAMAAAAN71XTAAAAMFBMVEX////c3NwiIiJERESqqqqY\n",
       "mJh2dnZmZmYQEBDu7u4yMjJUVFTMzMyIiIi6uroAAAAs73DqAAAAAXRSTlMAQObYZgAAARFJREFU\n",
       "KM9jYCAC8F1A5bM+wFByGl2gBkPJSnQBLnQB3gvoIqwJaAIcE9CVcDagCbzC9IAJGr8MiS12W+Q6\n",
       "0N50uMC0MgbGnwxLkWxIYFXlUGBg8IKLJLxn4P3A0IdQwgbksxxgYHgB4swEYh6HIgZmA4Z/DAyM\n",
       "i5RA4AEnA7cBSPY8yMRPIIKhl4H/AkgJkvcuwJU0g1gsPxnOH2BoQVYif4BhAtQiMGBfwHCDgcEU\n",
       "KcwE7jPwApVEIQK6gMEa2YcM/gEWDLIMyELsG/i+MjA8QiiZfG1abgCQXocIBtvrH4EuFMAbAWwK\n",
       "WCKNgQ0RsZsYZjhgSwyzEEw1BjMQJY2uZCOC6XsdnAQZ0RIM7wE0LQBDgDyUTIkFkAAAAABJRU5E\n",
       "rkJggg==\n",
       "\" style=\"display:inline;vertical-align:middle;\" /></a></td></tr>\n",
       "<tr><td>4</td><td>Operation</td><td>operator:&nbsp;10<br>operand:&nbsp;6<br></td><td><a class=\"ProveItLink\" href=\"../60e9098d4f54e1ea56b39976c82b16bd2c4489ee0/expr.ipynb\"><img src=\"data:image/png;base64,iVBORw0KGgoAAAANSUhEUgAAAEYAAAAVBAMAAAAJGoXuAAAAMFBMVEX///9ERESqqqqYmJh2dnZm\n",
       "ZmYQEBDu7u5UVFTMzMyIiIi6uroiIiIyMjLc3NwAAAB7vQThAAAAAXRSTlMAQObYZgAAAR5JREFU\n",
       "KM9jYCAR7MIixrwBhcvZgE1jJAqPtwCbGl4U3iqsDmB2QOalY1XDnoDE4b6A3SdCSGxWoKF8Xn1a\n",
       "UTCBkhAGvu8MDK7IjjMACjPYGOTABBz2M3B9YGDQRVLDBgwJB4b1DJogRwC9yKkQw8AowMCwjeHt\n",
       "GRA4DRTnB6opYGgEq68/AFTHkMXAv4CBYT6SOfzgEM0Cs8uA+hmYvjPMn4Cqhk0BSPD9BOqHeeIC\n",
       "wzIGkF0IwAh0sx3QkcvhnghgkABStkhqWAIYmD4zJvAtgJvTwP2ZAdXv3AcY2KXcXRYjQlhq6T8g\n",
       "dRs5QPMwgpjlAFpcMJigqehhKAN6g2UBvrRxhEEESNaiiPGhpTGtpaAQ60MVfIUl1rkmMAAA1UE3\n",
       "38NhnO4AAAAASUVORK5CYII=\n",
       "\" style=\"display:inline;vertical-align:middle;\" /></a></td></tr>\n",
       "<tr><td>5</td><td>ExprTuple</td><td>7, 12</td><td><a class=\"ProveItLink\" href=\"../48fd01df29c4b0994dd6f781516b202c1b4f81c20/expr.ipynb\"><img src=\"data:image/png;base64,iVBORw0KGgoAAAANSUhEUgAAADwAAAAVBAMAAADocZC/AAAAMFBMVEX////c3NwiIiJERESqqqqY\n",
       "mJh2dnZmZmYQEBDu7u4yMjJUVFTMzMyIiIi6uroAAAAs73DqAAAAAXRSTlMAQObYZgAAARRJREFU\n",
       "KM9jYCAA+C7gkmF9ACRO49ZZA8QrcUtzMTDwXsAtzZrAwDEBtzRnA8MrfM42YShD4ondFrkOsWta\n",
       "GQPjTwaGdIalSGYlsKpyKICZCe8ZeD8wMHgx9CGk2YBCLAdALB6HIgZmAwaGFwz/GBgYFymBwANO\n",
       "Bm4DqDkMvQz8QGvOg6QRgAPmS5afDOcPgKRbkKXlDzBA/Mm+gOEGA8hwU6RQELjPwDsBrICrgMEa\n",
       "SEUB3Q4H/gEWDLIMnJ9AujfwfWUAeewRQnrytWm5AQyc/QJAt9le/wgUWcfAIYARw2ARNgVwoAKD\n",
       "HT0igHgTwwwHoJILWCIUJK3GYAYkZwGxNLo0yO++10EpZSMQM+KMcN4DDABHDD2f0k+aGQAAAABJ\n",
       "RU5ErkJggg==\n",
       "\" style=\"display:inline;vertical-align:middle;\" /></a></td></tr>\n",
       "<tr><td>6</td><td>Operation</td><td>operator:&nbsp;8<br>operands:&nbsp;9<br></td><td><a class=\"ProveItLink\" href=\"../f5bcb8ac133969024aa1d7e1c73cf8d29b3b83ff0/expr.ipynb\"><img src=\"data:image/png;base64,iVBORw0KGgoAAAANSUhEUgAAACYAAAANBAMAAAA3eAFoAAAAMFBMVEX///8yMjK6urpERETMzMwQ\n",
       "EBAiIiKYmJju7u5mZmaqqqpUVFSIiIh2dnbc3NwAAADpJKkdAAAAAXRSTlMAQObYZgAAAJ1JREFU\n",
       "GNNjYHh7+tXJAwxQ0DuXge8HA8cF9nTWBJjYBX0Gng8MvECCywHI7QBilgXTGJgNGDgYuA1AKji+\n",
       "gQiGGAZ+kEGsYNM4gkEk1w8Gf5Cm9w4MDTDzOAUYjjIwsD84z8ADF2OcwGDNwLC+wJThDQNc3Qam\n",
       "7wwMzWd77xTAxThsTv5jwAC8Cegi2xhaF6CL5TLYYuhcc1KBgQEA7zMlt29LHQkAAAAASUVORK5C\n",
       "YII=\n",
       "\" style=\"display:inline;vertical-align:middle;\" /></a></td></tr>\n",
       "<tr><td>7</td><td>Operation</td><td>operator:&nbsp;10<br>operand:&nbsp;11<br></td><td><a class=\"ProveItLink\" href=\"../ec491d1ab556397bab855f0d64a1b1d8fed3cb290/expr.ipynb\"><img src=\"data:image/png;base64,iVBORw0KGgoAAAANSUhEUgAAABoAAAAJBAMAAADeJiHIAAAAMFBMVEX///9ERETMzMwQEBCYmJju\n",
       "7u5mZmaqqqpUVFSIiIh2dna6uroiIiIyMjLc3NwAAABBuwp8AAAAAXRSTlMAQObYZgAAAEpJREFU\n",
       "CNdjYIACvpV9lZkwDkMUg4+DDZy3gGE+QxHD2zMgcJohgKGRARlYInP4PjGwwjl+nB8YpsI47F8Y\n",
       "DfgmwHiskktXTWEAAJw3EmXq6rg8AAAAAElFTkSuQmCC\n",
       "\" style=\"display:inline;vertical-align:middle;\" /></a></td></tr>\n",
       "<tr><td>8</td><td>Literal</td><td></td><td><a class=\"ProveItLink\" href=\"../../../multiplication/__pv_it/21fd2079611555ecce512d99547a00d551e6b86b0/expr.ipynb\"><img src=\"data:image/png;base64,iVBORw0KGgoAAAANSUhEUgAAAAMAAAADBAMAAACkBqiMAAAAElBMVEX///9EREQQEBAiIiLu7u4A\n",
       "AABGBidwAAAAAXRSTlMAQObYZgAAABFJREFUCNdjYHFgcDVgcBIAAASWAQx4jI0xAAAAAElFTkSu\n",
       "QmCC\n",
       "\" style=\"display:inline;vertical-align:middle;\" /></a></td></tr>\n",
       "<tr><td>9</td><td>ExprTuple</td><td>11, 12</td><td><a class=\"ProveItLink\" href=\"../a6a2ac9310c73e21661c7634808321702fb219240/expr.ipynb\"><img src=\"data:image/png;base64,iVBORw0KGgoAAAANSUhEUgAAACwAAAAVBAMAAADP3xFXAAAAMFBMVEX////c3NwiIiJERESqqqqY\n",
       "mJh2dnZmZmYQEBDu7u4yMjJUVFTMzMyIiIi6uroAAAAs73DqAAAAAXRSTlMAQObYZgAAAQtJREFU\n",
       "GNNjYMAB+C6gi7A+ABKnMVXWAPFKTGEuBgbeC5jCrAkMHBMwhTkbGF5hc4YJQxmQFLstch1i1rQy\n",
       "BsafDAzpDEuBehJYVTkUwMIJ7xl4PzAweDH0MTCwAZksB0CiPA5FDMwGDAwvGP4BVTNwG0DtYuhl\n",
       "4Acadx4kzMDAAXMly0+G8wdAwi0gnvwBBog72Rcw3GAAGWIKdL3AfQbeCWAJrgIGayAVBXQLg3+A\n",
       "BYMsA+cnkOoNfF8ZQA58xMAw+dq03AAGzn4BoJ221z8ChdcxcAjAQxjMYlMAex4YLLAAAuJNDDMc\n",
       "gFIXkAIWJKzGYAYkZwGxNEwY5Hbf66CY2QjEjBgBznuAAQAt5DtyKXSr1gAAAABJRU5ErkJggg==\n",
       "\" style=\"display:inline;vertical-align:middle;\" /></a></td></tr>\n",
       "<tr><td>10</td><td>Literal</td><td></td><td><a class=\"ProveItLink\" href=\"../3fc7a08bb9735faa20ef8e175f6ea95511acc9c70/expr.ipynb\"><img src=\"data:image/png;base64,iVBORw0KGgoAAAANSUhEUgAAAA4AAAACBAMAAACapPCZAAAAElBMVEX///+6uroiIiIyMjLc3NwA\n",
       "AAA6l9OrAAAAAXRSTlMAQObYZgAAABBJREFUCNdjcFYCAUUGKAAADR4BD8/TF5gAAAAASUVORK5C\n",
       "YII=\n",
       "\" style=\"display:inline;vertical-align:middle;\" /></a></td></tr>\n",
       "<tr><td>11</td><td>Variable</td><td></td><td><a class=\"ProveItLink\" href=\"../../../../__pv_it/530be409e3083890784cf1d7b28c9e67e90af9360/expr.ipynb\"><img src=\"data:image/png;base64,iVBORw0KGgoAAAANSUhEUgAAAAsAAAAJBAMAAAAWSsseAAAAKlBMVEX///9ERETMzMwQEBAiIiKY\n",
       "mJju7u5mZmaqqqpUVFSIiIh2dnbc3NwAAAA/vyDhAAAAAXRSTlMAQObYZgAAAENJREFUCNdjYDi9\n",
       "8sTyBQxsG1hdmR0YuBm4LnAoMLAxcAowgADzAjB1VoEhgYH1wFoGrgSG3gBhhlMMDImrs3cFMAAA\n",
       "t0YN+iTRa+sAAAAASUVORK5CYII=\n",
       "\" style=\"display:inline;vertical-align:middle;\" /></a></td></tr>\n",
       "<tr><td>12</td><td>Variable</td><td></td><td><a class=\"ProveItLink\" href=\"../../../../__pv_it/f8b9edf8e16034727f0aad55bb83e392c3db40d40/expr.ipynb\"><img src=\"data:image/png;base64,iVBORw0KGgoAAAANSUhEUgAAAAsAAAANBAMAAACN24kIAAAAMFBMVEX///+YmJhUVFQyMjIQEBBE\n",
       "REQiIiKqqqrMzMyIiIi6urrc3NxmZmZ2dnbu7u4AAADXeCicAAAAAXRSTlMAQObYZgAAAFhJREFU\n",
       "CNdj4LtzgWH/AwZerg8M8xkY2nkSGEIZGB6wTGD4ycDAUP+A4weQOszA6QCkbBhYFYDUIYb1AkDq\n",
       "6czzGxhA4BoQMyXwuQMptgusF4AU+8xTQBIAUqMVoSp/SLMAAAAASUVORK5CYII=\n",
       "\" style=\"display:inline;vertical-align:middle;\" /></a></td></tr>\n",
       "</table>\n"
      ],
      "text/plain": [
       "0. ((-x) * y) = (-(x * y))\n",
       "   core type: Operation\n",
       "   operator: 1\n",
       "   operands: 2\n",
       "1. =\n",
       "   core type: Literal\n",
       "   sub-expressions: \n",
       "2. ((-x) * y , -(x * y))\n",
       "   core type: ExprTuple\n",
       "   sub-expressions: 3, 4\n",
       "3. (-x) * y\n",
       "   core type: Operation\n",
       "   operator: 8\n",
       "   operands: 5\n",
       "4. -(x * y)\n",
       "   core type: Operation\n",
       "   operator: 10\n",
       "   operand: 6\n",
       "5. (-x , y)\n",
       "   core type: ExprTuple\n",
       "   sub-expressions: 7, 12\n",
       "6. x * y\n",
       "   core type: Operation\n",
       "   operator: 8\n",
       "   operands: 9\n",
       "7. -x\n",
       "   core type: Operation\n",
       "   operator: 10\n",
       "   operand: 11\n",
       "8. *\n",
       "   core type: Literal\n",
       "   sub-expressions: \n",
       "9. (x , y)\n",
       "   core type: ExprTuple\n",
       "   sub-expressions: 11, 12\n",
       "10. -\n",
       "    core type: Literal\n",
       "    sub-expressions: \n",
       "11. x\n",
       "    core type: Variable\n",
       "    sub-expressions: \n",
       "12. y\n",
       "    core type: Variable\n",
       "    sub-expressions: "
      ]
     },
     "execution_count": 4,
     "metadata": {},
     "output_type": "execute_result"
    }
   ],
   "source": [
    "# display the expression information\n",
    "expr.exprInfo()"
   ]
  },
  {
   "cell_type": "code",
   "execution_count": null,
   "metadata": {},
   "outputs": [],
   "source": []
  }
 ],
 "metadata": {
  "kernelspec": {
   "display_name": "Python 3",
   "language": "python",
   "name": "python3"
  }
 },
 "nbformat": 4,
 "nbformat_minor": 0
}
