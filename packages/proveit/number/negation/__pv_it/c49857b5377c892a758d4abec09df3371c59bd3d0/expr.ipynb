{
 "cells": [
  {
   "cell_type": "markdown",
   "metadata": {},
   "source": [
    "Expression of type <a class=\"ProveItLink\" href=\"../../../../../../doc/html/api/proveit.logic.Equals.html\">Equals</a>\n",
    "=======================\n",
    "# from context <a class=\"ProveItLink\" href=\"../../_context_.ipynb\">proveit.number.negation</a>"
   ]
  },
  {
   "cell_type": "code",
   "execution_count": 1,
   "metadata": {},
   "outputs": [],
   "source": [
    "# import Expression classes needed to build the expression\n",
    "from proveit._common_ import x, y\n",
    "from proveit.logic import Equals\n",
    "from proveit.number import Mult, Neg"
   ]
  },
  {
   "cell_type": "code",
   "execution_count": 2,
   "metadata": {},
   "outputs": [
    {
     "data": {
      "text/html": [
       "<strong id=\"expr\">expr:</strong> <a class=\"ProveItLink\" href=\"expr.ipynb\"><img src=\"data:image/png;base64,iVBORw0KGgoAAAANSUhEUgAAAMcAAAAVBAMAAAAA3efRAAAAMFBMVEX////c3NwiIiJERESqqqqY\n",
       "mJh2dnZmZmYQEBDu7u4yMjJUVFTMzMyIiIi6uroAAAAs73DqAAAAAXRSTlMAQObYZgAAAl5JREFU\n",
       "SMe9Vb9rFEEU/s69u91N7i5biIUhZAloKQGNCCJcLUi2SmEhi02qQLC4IoqemCaF4SAQotUiBImF\n",
       "RP+CK+xS5CpP0CNHKgmEnIJFQENm5u3t7pu9XbHxg29/vJ3vzZv33swC/wW1jm455q+lPjFfeDzK\n",
       "94OQ2NO/VHY1w5OQGvZyRQpmm4gd/ctYSzeE1LCTKyIExGoqWz3dUPKJHFzYG12LBaKVCmFNN9hN\n",
       "IgcXro2eZIt4lKpnkBp6IyTD0V9ECkZdsSEeL3292I0WbyYSs9lA4RRYBJGhwSrsa27sRR/TLZSX\n",
       "IbktDH7piuVGJfRirX+C6gC4CyLMdwqqk7ZZ3T3NTbk2wAFQDBTXhUF4KspGe6VyHW+JSv0RjFng\n",
       "O4gM66xAfc3NJ9PFdZHGpuKZCAHjs2qJP+V1Qoy/PCNxzcZLTIgE7IPIIISFN2pcn0TMTcvq4I8I\n",
       "c6B4pgJRqbRfDCcZoniK/Xb2JDFIlHQz36r8jiZZlZbpNqKGtOqJegb4gkS6TBX5jAp4laWrrrtZ\n",
       "QbUZpWtObDTnANXoq5Eo/Ngybovb/ZAMc6xVPd3NWxiiP0qBomjNee8WpqLxsuuilezWfiGjhZlB\n",
       "iribxzjxMGzhQ2Dj8+ZSHH7NTez1O90f4vY+JMMh24yu7maj98wRqegrWo6ufs5CdDOPFSdTRHgY\n",
       "Hyvpk28hfvyILVHRcoeYPjZHihTGXVt2xlLIvKP+Km6K6+uQ/3LUX/ANEYQdEDGpiwvx/+deV/b/\n",
       "h5AaJjNEtMN6T+V6HCIKqURMaT+ONjEVTCdHRPhGPAeytKrKU87ORgAAAABJRU5ErkJggg==\n",
       "\" style=\"display:inline;vertical-align:middle;\" /></a><br>"
      ],
      "text/plain": [
       "expr: (x * (-y)) = (-(x * y))"
      ]
     },
     "execution_count": 2,
     "metadata": {},
     "output_type": "execute_result"
    }
   ],
   "source": [
    "# build up the expression from sub-expressions\n",
    "expr = Equals(Mult(x, Neg(y)), Neg(Mult(x, y)))"
   ]
  },
  {
   "cell_type": "code",
   "execution_count": 3,
   "metadata": {},
   "outputs": [
    {
     "name": "stdout",
     "output_type": "stream",
     "text": [
      "Passed sanity check: built 'expr' is the same as the stored Expression.\n"
     ]
    }
   ],
   "source": [
    "# check that the built expression is the same as the stored expression\n",
    "%check_expr"
   ]
  },
  {
   "cell_type": "code",
   "execution_count": 4,
   "metadata": {},
   "outputs": [
    {
     "data": {
      "text/html": [
       "<table><tr><th>&nbsp;</th><th>core type</th><th>sub-expressions</th><th>expression</th></tr>\n",
       "<tr><td>0</td><td>Operation</td><td>operator:&nbsp;1<br>operands:&nbsp;2<br></td><td><a class=\"ProveItLink\" href=\"expr.ipynb\"><img src=\"data:image/png;base64,iVBORw0KGgoAAAANSUhEUgAAAMcAAAAVBAMAAAAA3efRAAAAMFBMVEX////c3NwiIiJERESqqqqY\n",
       "mJh2dnZmZmYQEBDu7u4yMjJUVFTMzMyIiIi6uroAAAAs73DqAAAAAXRSTlMAQObYZgAAAl5JREFU\n",
       "SMe9Vb9rFEEU/s69u91N7i5biIUhZAloKQGNCCJcLUi2SmEhi02qQLC4IoqemCaF4SAQotUiBImF\n",
       "RP+CK+xS5CpP0CNHKgmEnIJFQENm5u3t7pu9XbHxg29/vJ3vzZv33swC/wW1jm455q+lPjFfeDzK\n",
       "94OQ2NO/VHY1w5OQGvZyRQpmm4gd/ctYSzeE1LCTKyIExGoqWz3dUPKJHFzYG12LBaKVCmFNN9hN\n",
       "IgcXro2eZIt4lKpnkBp6IyTD0V9ECkZdsSEeL3292I0WbyYSs9lA4RRYBJGhwSrsa27sRR/TLZSX\n",
       "IbktDH7piuVGJfRirX+C6gC4CyLMdwqqk7ZZ3T3NTbk2wAFQDBTXhUF4KspGe6VyHW+JSv0RjFng\n",
       "O4gM66xAfc3NJ9PFdZHGpuKZCAHjs2qJP+V1Qoy/PCNxzcZLTIgE7IPIIISFN2pcn0TMTcvq4I8I\n",
       "c6B4pgJRqbRfDCcZoniK/Xb2JDFIlHQz36r8jiZZlZbpNqKGtOqJegb4gkS6TBX5jAp4laWrrrtZ\n",
       "QbUZpWtObDTnANXoq5Eo/Ngybovb/ZAMc6xVPd3NWxiiP0qBomjNee8WpqLxsuuilezWfiGjhZlB\n",
       "iribxzjxMGzhQ2Dj8+ZSHH7NTez1O90f4vY+JMMh24yu7maj98wRqegrWo6ufs5CdDOPFSdTRHgY\n",
       "Hyvpk28hfvyILVHRcoeYPjZHihTGXVt2xlLIvKP+Km6K6+uQ/3LUX/ANEYQdEDGpiwvx/+deV/b/\n",
       "h5AaJjNEtMN6T+V6HCIKqURMaT+ONjEVTCdHRPhGPAeytKrKU87ORgAAAABJRU5ErkJggg==\n",
       "\" style=\"display:inline;vertical-align:middle;\" /></a></td></tr>\n",
       "<tr><td>1</td><td>Literal</td><td></td><td><a class=\"ProveItLink\" href=\"../../../../logic/equality/__pv_it/2fb26078095930560931daa0500ce419a39ea6cd0/expr.ipynb\"><img src=\"data:image/png;base64,iVBORw0KGgoAAAANSUhEUgAAAA4AAAAFBAMAAACHocAhAAAAFVBMVEX///9EREQiIiJUVFQyMjJm\n",
       "ZmYAAADubVkoAAAAAXRSTlMAQObYZgAAABRJREFUCNdjCHEBAWcGXCBICQQUAUpuAwlgGKrkAAAA\n",
       "AElFTkSuQmCC\n",
       "\" style=\"display:inline;vertical-align:middle;\" /></a></td></tr>\n",
       "<tr><td>2</td><td>ExprTuple</td><td>3, 4</td><td><a class=\"ProveItLink\" href=\"../af2762211f38bd31cbe0fe09d5bad4e0573854310/expr.ipynb\"><img src=\"data:image/png;base64,iVBORw0KGgoAAAANSUhEUgAAAKgAAAAVBAMAAAAgMbgsAAAAMFBMVEX////c3NwiIiJERESqqqqY\n",
       "mJh2dnZmZmYQEBDu7u4yMjJUVFTMzMyIiIi6uroAAAAs73DqAAAAAXRSTlMAQObYZgAAAgZJREFU\n",
       "OMu1VLFLG1EY/6VJTC56aYbiIiWHUOdAtRSkkFkoZnY6XDIVikOGGqpgViUgiLpYBCkukvYvyNDN\n",
       "IZlMoYhpppAlidAh0Irfu3f3cve+M3XxwXeP+32/3+/uu/fdBzzJSjf/A8Tbj5J5VId+qWcYUA4z\n",
       "vQx9w7Ib53qCAakw+XmoaUqGqZfBAMRtrjaboaaCSpGsajgDYGxzNWcpKkVPx3ucusih3gPHvuhE\n",
       "ia6zv160VDkl33OLNrL0SkUuZrKDEiIjSS3ijLR2/FXS8rJnY+VUeoAb2le4KZPZfZgDSV3BHmnp\n",
       "NlanuyOR3RsrfyQsvKa9y0112Ux+A9GcpHZxR4/EdM6p9lZcCYiczovVriab+EdQw3XycMkKyAzs\n",
       "4nlTUhsiS2fpfBpjxzVVa7U689dn6ltMFhuhUfdMKwLJ1qFapOKTfoK5HV4+kyW+4Ce88peoWzM3\n",
       "MFV2ySf9imiNtjWnvsBistRHLLvUNdEDq4W3eKno/v7ZRL/gQidWwJTJErX0H3gt1QH2rw4+FFS2\n",
       "45PuX29laLugOBwGTJnMeNcautQLJDP6DxgA1tVv+nsCS3a1pX5TNi18wLRliAOZcg65MHnIfMdh\n",
       "XlJFTBh9z+yo0B6DmzLZAt64VBFzuukYiF1/Fts3Z9Y9yJLrfavtUkVE9MmoA2Y9bBxFwgaqoFLc\n",
       "A7aYk9bfRJ89AAAAAElFTkSuQmCC\n",
       "\" style=\"display:inline;vertical-align:middle;\" /></a></td></tr>\n",
       "<tr><td>3</td><td>Operation</td><td>operator:&nbsp;8<br>operands:&nbsp;5<br></td><td><a class=\"ProveItLink\" href=\"../78d57efed713b47365c144e6b1e9dfe8221ed72c0/expr.ipynb\"><img src=\"data:image/png;base64,iVBORw0KGgoAAAANSUhEUgAAAEQAAAAVBAMAAAAN71XTAAAAMFBMVEX///8yMjK6urpERETMzMwQ\n",
       "EBAiIiKYmJju7u5mZmaqqqpUVFSIiIh2dnbc3NwAAADpJKkdAAAAAXRSTlMAQObYZgAAARdJREFU\n",
       "KM9jYCAd6KBy2RUwVLBsQBOYgqGEsQFdAEPJGXQB9gvoIhHoAhwBaAJMAhjmWjEwvD396uQBGJ8T\n",
       "ydjeuQx8PxgYbjJwXGBPZ02AO64AoeSCPgPPBwaGhQy8QJrLASjSARJmRQQDy4JpDMwGDAyqDBwM\n",
       "3AZgZ30DkfxAJQ/TQCCJgyGGgR/oAn+QTrBLOIJhSmCA6weDvwNEyXsHBnh4sS5AKOEUYDjKALKI\n",
       "/cF5Bh64EmYk5zJOYLAGUoUM6wtMGd7AhXknIJmygek7A8jTzWd77yC0MiUghavNyX9ASgg9LOOQ\n",
       "ObwJWCKAoRbB3MbQCnQ87wE8iSGXwRZINmJEGh8iSa05CQqkfZgJ8w0ql8eBAQDHHTsMiOtQQQAA\n",
       "AABJRU5ErkJggg==\n",
       "\" style=\"display:inline;vertical-align:middle;\" /></a></td></tr>\n",
       "<tr><td>4</td><td>Operation</td><td>operator:&nbsp;10<br>operand:&nbsp;6<br></td><td><a class=\"ProveItLink\" href=\"../60e9098d4f54e1ea56b39976c82b16bd2c4489ee0/expr.ipynb\"><img src=\"data:image/png;base64,iVBORw0KGgoAAAANSUhEUgAAAEYAAAAVBAMAAAAJGoXuAAAAMFBMVEX///9ERESqqqqYmJh2dnZm\n",
       "ZmYQEBDu7u5UVFTMzMyIiIi6uroiIiIyMjLc3NwAAAB7vQThAAAAAXRSTlMAQObYZgAAAR5JREFU\n",
       "KM9jYCAR7MIixrwBhcvZgE1jJAqPtwCbGl4U3iqsDmB2QOalY1XDnoDE4b6A3SdCSGxWoKF8Xn1a\n",
       "UTCBkhAGvu8MDK7IjjMACjPYGOTABBz2M3B9YGDQRVLDBgwJB4b1DJogRwC9yKkQw8AowMCwjeHt\n",
       "GRA4DRTnB6opYGgEq68/AFTHkMXAv4CBYT6SOfzgEM0Cs8uA+hmYvjPMn4Cqhk0BSPD9BOqHeeIC\n",
       "wzIGkF0IwAh0sx3QkcvhnghgkABStkhqWAIYmD4zJvAtgJvTwP2ZAdXv3AcY2KXcXRYjQlhq6T8g\n",
       "dRs5QPMwgpjlAFpcMJigqehhKAN6g2UBvrRxhEEESNaiiPGhpTGtpaAQ60MVfIUl1rkmMAAA1UE3\n",
       "38NhnO4AAAAASUVORK5CYII=\n",
       "\" style=\"display:inline;vertical-align:middle;\" /></a></td></tr>\n",
       "<tr><td>5</td><td>ExprTuple</td><td>11, 7</td><td><a class=\"ProveItLink\" href=\"../9cdb1dde2818a4cc4b26613985546f9a1775f5f80/expr.ipynb\"><img src=\"data:image/png;base64,iVBORw0KGgoAAAANSUhEUgAAADwAAAAVBAMAAADocZC/AAAAMFBMVEX////c3NwiIiJERESqqqqY\n",
       "mJh2dnZmZmYQEBDu7u4yMjJUVFTMzMyIiIi6uroAAAAs73DqAAAAAXRSTlMAQObYZgAAARRJREFU\n",
       "KM9jYCAA+C7gkmF9ACRO49ZZA8QrcUtzMTDwXsAtzZrAwDEBtzRnA8MrfM42YSgDkmK3Ra6j2jGt\n",
       "jIHxJwNDOsNSoBkJrKocCijSCe8ZeD8wMHgx9DEwsAGZLAeQZXkcihiYDRgYXjD8A+pm4DaAiksp\n",
       "gYAeJ0MvAz/QuvMgaQYGDnTfsfxkOH8AJN0C4skfYED1H/sChhsMIMNNgb4XuM/AOwFFAVcBgzWQ\n",
       "igK6ncE/wIJBloHzE7LuDXxfGUAee8TAMPnatNwABs5+AaTwsr3+EUitY+CAC/IJINvOpgAOVGCw\n",
       "wyIASXITwwwHoJILSBGKLK3GYAYkZwGxNEwI2e++10EpZSMQM+KMcN4DDAAlbDxkZmkTXwAAAABJ\n",
       "RU5ErkJggg==\n",
       "\" style=\"display:inline;vertical-align:middle;\" /></a></td></tr>\n",
       "<tr><td>6</td><td>Operation</td><td>operator:&nbsp;8<br>operands:&nbsp;9<br></td><td><a class=\"ProveItLink\" href=\"../f5bcb8ac133969024aa1d7e1c73cf8d29b3b83ff0/expr.ipynb\"><img src=\"data:image/png;base64,iVBORw0KGgoAAAANSUhEUgAAACYAAAANBAMAAAA3eAFoAAAAMFBMVEX///8yMjK6urpERETMzMwQ\n",
       "EBAiIiKYmJju7u5mZmaqqqpUVFSIiIh2dnbc3NwAAADpJKkdAAAAAXRSTlMAQObYZgAAAJ1JREFU\n",
       "GNNjYHh7+tXJAwxQ0DuXge8HA8cF9nTWBJjYBX0Gng8MvECCywHI7QBilgXTGJgNGDgYuA1AKji+\n",
       "gQiGGAZ+kEGsYNM4gkEk1w8Gf5Cm9w4MDTDzOAUYjjIwsD84z8ADF2OcwGDNwLC+wJThDQNc3Qam\n",
       "7wwMzWd77xTAxThsTv5jwAC8Cegi2xhaF6CL5TLYYuhcc1KBgQEA7zMlt29LHQkAAAAASUVORK5C\n",
       "YII=\n",
       "\" style=\"display:inline;vertical-align:middle;\" /></a></td></tr>\n",
       "<tr><td>7</td><td>Operation</td><td>operator:&nbsp;10<br>operand:&nbsp;12<br></td><td><a class=\"ProveItLink\" href=\"../cb4652887c4303104f05a4101be9fed9a159ae980/expr.ipynb\"><img src=\"data:image/png;base64,iVBORw0KGgoAAAANSUhEUgAAABoAAAANBAMAAABFt2PeAAAAMFBMVEX///+YmJhUVFQQEBBERESq\n",
       "qqrMzMyIiIhmZmZ2dnbu7u66uroiIiIyMjLc3NwAAAA74WENAAAAAXRSTlMAQObYZgAAAGJJREFU\n",
       "CNdjYICClZ0MfL9gHIYJ+xnYP8A4bAE9DCwODG/PgMBpLgZzBv4CuErWXwz5CXAexwWGYjiHgbeB\n",
       "wQnB41Dg/ojgcblX/GNAApwHEGwdhsUBCN5JBk8kdeEVGxgYAKJwF2eE/GrpAAAAAElFTkSuQmCC\n",
       "\" style=\"display:inline;vertical-align:middle;\" /></a></td></tr>\n",
       "<tr><td>8</td><td>Literal</td><td></td><td><a class=\"ProveItLink\" href=\"../../../multiplication/__pv_it/21fd2079611555ecce512d99547a00d551e6b86b0/expr.ipynb\"><img src=\"data:image/png;base64,iVBORw0KGgoAAAANSUhEUgAAAAMAAAADBAMAAACkBqiMAAAAElBMVEX///9EREQQEBAiIiLu7u4A\n",
       "AABGBidwAAAAAXRSTlMAQObYZgAAABFJREFUCNdjYHFgcDVgcBIAAASWAQx4jI0xAAAAAElFTkSu\n",
       "QmCC\n",
       "\" style=\"display:inline;vertical-align:middle;\" /></a></td></tr>\n",
       "<tr><td>9</td><td>ExprTuple</td><td>11, 12</td><td><a class=\"ProveItLink\" href=\"../a6a2ac9310c73e21661c7634808321702fb219240/expr.ipynb\"><img src=\"data:image/png;base64,iVBORw0KGgoAAAANSUhEUgAAACwAAAAVBAMAAADP3xFXAAAAMFBMVEX////c3NwiIiJERESqqqqY\n",
       "mJh2dnZmZmYQEBDu7u4yMjJUVFTMzMyIiIi6uroAAAAs73DqAAAAAXRSTlMAQObYZgAAAQtJREFU\n",
       "GNNjYMAB+C6gi7A+ABKnMVXWAPFKTGEuBgbeC5jCrAkMHBMwhTkbGF5hc4YJQxmQFLstch1i1rQy\n",
       "BsafDAzpDEuBehJYVTkUwMIJ7xl4PzAweDH0MTCwAZksB0CiPA5FDMwGDAwvGP4BVTNwG0DtYuhl\n",
       "4Acadx4kzMDAAXMly0+G8wdAwi0gnvwBBog72Rcw3GAAGWIKdL3AfQbeCWAJrgIGayAVBXQLg3+A\n",
       "BYMsA+cnkOoNfF8ZQA58xMAw+dq03AAGzn4BoJ221z8ChdcxcAjAQxjMYlMAex4YLLAAAuJNDDMc\n",
       "gFIXkAIWJKzGYAYkZwGxNEwY5Hbf66CY2QjEjBgBznuAAQAt5DtyKXSr1gAAAABJRU5ErkJggg==\n",
       "\" style=\"display:inline;vertical-align:middle;\" /></a></td></tr>\n",
       "<tr><td>10</td><td>Literal</td><td></td><td><a class=\"ProveItLink\" href=\"../3fc7a08bb9735faa20ef8e175f6ea95511acc9c70/expr.ipynb\"><img src=\"data:image/png;base64,iVBORw0KGgoAAAANSUhEUgAAAA4AAAACBAMAAACapPCZAAAAElBMVEX///+6uroiIiIyMjLc3NwA\n",
       "AAA6l9OrAAAAAXRSTlMAQObYZgAAABBJREFUCNdjcFYCAUUGKAAADR4BD8/TF5gAAAAASUVORK5C\n",
       "YII=\n",
       "\" style=\"display:inline;vertical-align:middle;\" /></a></td></tr>\n",
       "<tr><td>11</td><td>Variable</td><td></td><td><a class=\"ProveItLink\" href=\"../../../../__pv_it/530be409e3083890784cf1d7b28c9e67e90af9360/expr.ipynb\"><img src=\"data:image/png;base64,iVBORw0KGgoAAAANSUhEUgAAAAsAAAAJBAMAAAAWSsseAAAAKlBMVEX///9ERETMzMwQEBAiIiKY\n",
       "mJju7u5mZmaqqqpUVFSIiIh2dnbc3NwAAAA/vyDhAAAAAXRSTlMAQObYZgAAAENJREFUCNdjYDi9\n",
       "8sTyBQxsG1hdmR0YuBm4LnAoMLAxcAowgADzAjB1VoEhgYH1wFoGrgSG3gBhhlMMDImrs3cFMAAA\n",
       "t0YN+iTRa+sAAAAASUVORK5CYII=\n",
       "\" style=\"display:inline;vertical-align:middle;\" /></a></td></tr>\n",
       "<tr><td>12</td><td>Variable</td><td></td><td><a class=\"ProveItLink\" href=\"../../../../__pv_it/f8b9edf8e16034727f0aad55bb83e392c3db40d40/expr.ipynb\"><img src=\"data:image/png;base64,iVBORw0KGgoAAAANSUhEUgAAAAsAAAANBAMAAACN24kIAAAAMFBMVEX///+YmJhUVFQyMjIQEBBE\n",
       "REQiIiKqqqrMzMyIiIi6urrc3NxmZmZ2dnbu7u4AAADXeCicAAAAAXRSTlMAQObYZgAAAFhJREFU\n",
       "CNdj4LtzgWH/AwZerg8M8xkY2nkSGEIZGB6wTGD4ycDAUP+A4weQOszA6QCkbBhYFYDUIYb1AkDq\n",
       "6czzGxhA4BoQMyXwuQMptgusF4AU+8xTQBIAUqMVoSp/SLMAAAAASUVORK5CYII=\n",
       "\" style=\"display:inline;vertical-align:middle;\" /></a></td></tr>\n",
       "</table>\n"
      ],
      "text/plain": [
       "0. (x * (-y)) = (-(x * y))\n",
       "   core type: Operation\n",
       "   operator: 1\n",
       "   operands: 2\n",
       "1. =\n",
       "   core type: Literal\n",
       "   sub-expressions: \n",
       "2. (x * (-y) , -(x * y))\n",
       "   core type: ExprTuple\n",
       "   sub-expressions: 3, 4\n",
       "3. x * (-y)\n",
       "   core type: Operation\n",
       "   operator: 8\n",
       "   operands: 5\n",
       "4. -(x * y)\n",
       "   core type: Operation\n",
       "   operator: 10\n",
       "   operand: 6\n",
       "5. (x , -y)\n",
       "   core type: ExprTuple\n",
       "   sub-expressions: 11, 7\n",
       "6. x * y\n",
       "   core type: Operation\n",
       "   operator: 8\n",
       "   operands: 9\n",
       "7. -y\n",
       "   core type: Operation\n",
       "   operator: 10\n",
       "   operand: 12\n",
       "8. *\n",
       "   core type: Literal\n",
       "   sub-expressions: \n",
       "9. (x , y)\n",
       "   core type: ExprTuple\n",
       "   sub-expressions: 11, 12\n",
       "10. -\n",
       "    core type: Literal\n",
       "    sub-expressions: \n",
       "11. x\n",
       "    core type: Variable\n",
       "    sub-expressions: \n",
       "12. y\n",
       "    core type: Variable\n",
       "    sub-expressions: "
      ]
     },
     "execution_count": 4,
     "metadata": {},
     "output_type": "execute_result"
    }
   ],
   "source": [
    "# display the expression information\n",
    "expr.exprInfo()"
   ]
  },
  {
   "cell_type": "code",
   "execution_count": null,
   "metadata": {},
   "outputs": [],
   "source": []
  }
 ],
 "metadata": {
  "kernelspec": {
   "display_name": "Python 3",
   "language": "python",
   "name": "python3"
  }
 },
 "nbformat": 4,
 "nbformat_minor": 0
}
