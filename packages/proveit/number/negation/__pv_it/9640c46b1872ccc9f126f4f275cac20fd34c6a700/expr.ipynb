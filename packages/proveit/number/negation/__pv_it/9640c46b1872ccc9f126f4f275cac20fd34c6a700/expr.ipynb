{
 "cells": [
  {
   "cell_type": "markdown",
   "metadata": {},
   "source": [
    "Expression of type <a class=\"ProveItLink\" href=\"../../../../../../doc/html/api/proveit.Lambda.html\">Lambda</a>\n",
    "=======================\n",
    "# from context <a class=\"ProveItLink\" href=\"../../_context_.ipynb\">proveit.number.negation</a>"
   ]
  },
  {
   "cell_type": "code",
   "execution_count": 1,
   "metadata": {},
   "outputs": [],
   "source": [
    "# import Expression classes needed to build the expression\n",
    "from proveit import Lambda\n",
    "from proveit._common_ import x\n",
    "from proveit.logic import Equals, InSet\n",
    "from proveit.number import Complexes, Neg"
   ]
  },
  {
   "cell_type": "code",
   "execution_count": 2,
   "metadata": {},
   "outputs": [
    {
     "data": {
      "text/html": [
       "<strong id=\"expr\">expr:</strong> <a class=\"ProveItLink\" href=\"expr.ipynb\"><img src=\"data:image/png;base64,iVBORw0KGgoAAAANSUhEUgAAAP8AAAAVCAMAAAC+CcgcAAAANlBMVEX///+6uroUFBQNDQ0yMjJE\n",
       "RETMzMwQEBAiIiKYmJju7u5mZmaqqqpUVFSIiIh2dnbc3NwAAACltDI1AAAAAXRSTlMAQObYZgAA\n",
       "AlpJREFUWMPVWNl2AyEI1dbdcfv/n61pZxHFZZqcnJaH3CSCeBlBHEL+uWzxzQ6phzjS6YmmEFcF\n",
       "0Q/0vfSFgzjS6YsVEFel1f8Vf68YS1Jxe9+UGYgjndE0FS67fwF/QVM2MiF5dz9yHuJIZ7iTA8Tl\n",
       "DAhP89fE6Z/Ske7zlwbiSGckRkJclUZ/yt94prKcG0cbcsxhb/OnDOJIZyx8g7gqtf6Mv2AaPg5L\n",
       "ojtD8/iMwbu4eevxHNtKhzZARGtUZwz6CXvtCdMahNuh/BsqJPJqMxpLKFigyb+00kSq4x8FLVwx\n",
       "A9MQ0RKFj1V+tj3K2xVtywpxEzuMf0uF8Lo9EIFsYIGPYPiUJxYd/sZdc0gKEU1/fKzyQ/ckpLMC\n",
       "0LHD+LdUDCctfwr4P56uA2qfHwqITKeP49uOkRVqlAzHKj8iQezXL9wOff4NFSqPFbArIqJJUAlO\n",
       "rOr5E3e5qPijMhgr/Czz79j16h+kgnRiuTmp/4xJ7NHD+NsiheQGEV1sd6z0g+x/W246PrHr8K+o\n",
       "GIV1EK7cMDp+5wzxHf6iDCjXENETCh+r/Oh9Q+rZadmxw/i3VI5WB67vvMIok5sgTXiOabxo+ib/\n",
       "Lm8LpxY+VvtZPf96dgh/hEreAG02OsdzhAzlj7PRcB9MCF6v9T8K4kinKmOVH0Yhdstfxw7hj1KJ\n",
       "rL0zCatSku43NycZIY50/kb/SzbHyv73OVm5t6zcaYKHuCqN/rvv/6+5/xoGcfnxv+L++5Qcl4fo\n",
       "5jp9OVpKd/PtVav/bv5ndY1+rtN9QyAgLr99aPX9c/y/AHqoGxUa4seyAAAAAElFTkSuQmCC\n",
       "\" style=\"display:inline;vertical-align:middle;\" /></a><br>"
      ],
      "text/plain": [
       "expr: x -> ((-(-x)) = x) | x in Complexes"
      ]
     },
     "execution_count": 2,
     "metadata": {},
     "output_type": "execute_result"
    }
   ],
   "source": [
    "# build up the expression from sub-expressions\n",
    "expr = Lambda(x, Equals(Neg(Neg(x)), x), conditions = [InSet(x, Complexes)])"
   ]
  },
  {
   "cell_type": "code",
   "execution_count": 3,
   "metadata": {},
   "outputs": [
    {
     "name": "stdout",
     "output_type": "stream",
     "text": [
      "Passed sanity check: built 'expr' is the same as the stored Expression.\n"
     ]
    }
   ],
   "source": [
    "# check that the built expression is the same as the stored expression\n",
    "%check_expr"
   ]
  },
  {
   "cell_type": "code",
   "execution_count": 4,
   "metadata": {},
   "outputs": [
    {
     "data": {
      "text/html": [
       "<table><tr><th>&nbsp;</th><th>core type</th><th>sub-expressions</th><th>expression</th></tr>\n",
       "<tr><td>0</td><td>Lambda</td><td>parameter:&nbsp;12<br>body:&nbsp;1<br>conditions:&nbsp;2<br></td><td><a class=\"ProveItLink\" href=\"expr.ipynb\"><img src=\"data:image/png;base64,iVBORw0KGgoAAAANSUhEUgAAAP8AAAAVCAMAAAC+CcgcAAAANlBMVEX///+6uroUFBQNDQ0yMjJE\n",
       "RETMzMwQEBAiIiKYmJju7u5mZmaqqqpUVFSIiIh2dnbc3NwAAACltDI1AAAAAXRSTlMAQObYZgAA\n",
       "AlpJREFUWMPVWNl2AyEI1dbdcfv/n61pZxHFZZqcnJaH3CSCeBlBHEL+uWzxzQ6phzjS6YmmEFcF\n",
       "0Q/0vfSFgzjS6YsVEFel1f8Vf68YS1Jxe9+UGYgjndE0FS67fwF/QVM2MiF5dz9yHuJIZ7iTA8Tl\n",
       "DAhP89fE6Z/Ske7zlwbiSGckRkJclUZ/yt94prKcG0cbcsxhb/OnDOJIZyx8g7gqtf6Mv2AaPg5L\n",
       "ojtD8/iMwbu4eevxHNtKhzZARGtUZwz6CXvtCdMahNuh/BsqJPJqMxpLKFigyb+00kSq4x8FLVwx\n",
       "A9MQ0RKFj1V+tj3K2xVtywpxEzuMf0uF8Lo9EIFsYIGPYPiUJxYd/sZdc0gKEU1/fKzyQ/ckpLMC\n",
       "0LHD+LdUDCctfwr4P56uA2qfHwqITKeP49uOkRVqlAzHKj8iQezXL9wOff4NFSqPFbArIqJJUAlO\n",
       "rOr5E3e5qPijMhgr/Czz79j16h+kgnRiuTmp/4xJ7NHD+NsiheQGEV1sd6z0g+x/W246PrHr8K+o\n",
       "GIV1EK7cMDp+5wzxHf6iDCjXENETCh+r/Oh9Q+rZadmxw/i3VI5WB67vvMIok5sgTXiOabxo+ib/\n",
       "Lm8LpxY+VvtZPf96dgh/hEreAG02OsdzhAzlj7PRcB9MCF6v9T8K4kinKmOVH0Yhdstfxw7hj1KJ\n",
       "rL0zCatSku43NycZIY50/kb/SzbHyv73OVm5t6zcaYKHuCqN/rvv/6+5/xoGcfnxv+L++5Qcl4fo\n",
       "5jp9OVpKd/PtVav/bv5ndY1+rtN9QyAgLr99aPX9c/y/AHqoGxUa4seyAAAAAElFTkSuQmCC\n",
       "\" style=\"display:inline;vertical-align:middle;\" /></a></td></tr>\n",
       "<tr><td>1</td><td>Operation</td><td>operator:&nbsp;3<br>operands:&nbsp;4<br></td><td><a class=\"ProveItLink\" href=\"../90da7b8de7fc0efbb8ace508975d90a17d757a460/expr.ipynb\"><img src=\"data:image/png;base64,iVBORw0KGgoAAAANSUhEUgAAAHUAAAAVBAMAAACK3rzVAAAAMFBMVEX////c3NwiIiJERESqqqqY\n",
       "mJh2dnZmZmYQEBDu7u4yMjJUVFTMzMyIiIi6uroAAAAs73DqAAAAAXRSTlMAQObYZgAAAR1JREFU\n",
       "OMtjYKAE8F3AzWNgYH0AwdjBaTw8IKiBYqxgJR4eEHBBMTbAewE3D+zoBAjGBjgm4OaBAGcDBGMD\n",
       "r/DwwMAEirGAMpw8sdsi14FeSGeAYBQAkVuKIobE40xgVeVQYGDwYoBgBvZVYLABIdeHoheJx8bA\n",
       "+4HlAAPDCwYIRgZQuX8MDIyLlEAAlAKQeJwM3AYgdeehGCUAIXL/UARReBwXcOmFyrWgCKHw5A8w\n",
       "TEByMzvYPUoGCDlTFL1IPFaB+wy8QL1RDBCMkmAgcqjBj8TzD7BgkGXAHkdQuUcogki8ydem5QYA\n",
       "6XVQjAygchwCKEEgQEqaRE3nmKme7QIEk5MHZ0ExViCNhwcEG6EYK2C8gJsHzNAHIBgbAACygVP9\n",
       "M963HwAAAABJRU5ErkJggg==\n",
       "\" style=\"display:inline;vertical-align:middle;\" /></a></td></tr>\n",
       "<tr><td>2</td><td>ExprTuple</td><td>5</td><td><a class=\"ProveItLink\" href=\"../5a8e6198b288b6e9759455d9bc8dcc166fdfb4880/expr.ipynb\"><img src=\"data:image/png;base64,iVBORw0KGgoAAAANSUhEUgAAAEAAAAAVBAMAAAAEBPWpAAAAMFBMVEX////c3NwiIiJERESqqqqY\n",
       "mJh2dnZmZmYQEBDu7u4yMjJUVFTMzMyIiIi6uroAAAAs73DqAAAAAXRSTlMAQObYZgAAATVJREFU\n",
       "KM9jYCAI+C7glmN9ACROY5e7tOqHcgFDDZC1Eqv8uX8M0/5uYOBiYODFagMrdwADg/8GBtYEBo4J\n",
       "SOKct5SUFoAYkRxAgn0DA2cDwytkjacioYwCaZByoOEmDGVAlthtkesgmxgtYSYVPIOy0hmWArkJ\n",
       "rKocCkAeswBUmCfBFcryYuhjYGBj4P3AcgDIm8wAV/AUynrB8A9oAgO3AYSnpARxJKfBMaiC8yAF\n",
       "DAwcEL8iwmwlN1xBC4iSP8AA8u0kuIIwsIIJICtMgaEicJ+BF6QAFDoQwBwHNJNPk4EhCugPBv8A\n",
       "CwZZsO/04Ebstp0wz3gCyJuPgI6/Ni0XoleqBu6Pov/doKhcx8AhgByU3osgQQ0P+wZQdOABbBdw\n",
       "RTcUzAJiaXwKNoJiCE+S4z3AAAC65Ec0MB1m6wAAAABJRU5ErkJggg==\n",
       "\" style=\"display:inline;vertical-align:middle;\" /></a></td></tr>\n",
       "<tr><td>3</td><td>Literal</td><td></td><td><a class=\"ProveItLink\" href=\"../../../../logic/equality/__pv_it/2fb26078095930560931daa0500ce419a39ea6cd0/expr.ipynb\"><img src=\"data:image/png;base64,iVBORw0KGgoAAAANSUhEUgAAAA4AAAAFBAMAAACHocAhAAAAFVBMVEX///9EREQiIiJUVFQyMjJm\n",
       "ZmYAAADubVkoAAAAAXRSTlMAQObYZgAAABRJREFUCNdjCHEBAWcGXCBICQQUAUpuAwlgGKrkAAAA\n",
       "AElFTkSuQmCC\n",
       "\" style=\"display:inline;vertical-align:middle;\" /></a></td></tr>\n",
       "<tr><td>4</td><td>ExprTuple</td><td>6, 12</td><td><a class=\"ProveItLink\" href=\"../3c695eea6f000d7ae03538d4de051c36f1a0ca5a0/expr.ipynb\"><img src=\"data:image/png;base64,iVBORw0KGgoAAAANSUhEUgAAAGUAAAAVBAMAAACtcD09AAAAMFBMVEX////c3NwiIiJERESqqqqY\n",
       "mJh2dnZmZmYQEBDu7u4yMjJUVFTMzMyIiIi6uroAAAAs73DqAAAAAXRSTlMAQObYZgAAAXRJREFU\n",
       "OMudk7FLw1AQxr/QJuZZUzKIg0UUwVUcFFwEZ1GsDg4OkklxKDg5KQRxVQtCEacidOgiFP+B7h3M\n",
       "oiIKDU7SqQhuIt57NuTdqyJ4w0t+H/c9Lpc74D+Rj34nwI6N9C15tJjUMq88MHigSUedSXXTM2gK\n",
       "VcBjxXiRmWIHhrABuGVd4CRDhIZwAXSY0Onv0azBmUXsM0GnkafhByp1J2Gr1Fg5BJw91JhHIxHY\n",
       "U+4EsJQIFawXj4BsFafMo5EDr5ulxr4mQoA2lukPhvgkGp2UMU1vRNaVolggNyNTbxNPGTfyMdRV\n",
       "njQYuRHzACc9zzHzMBpv0t1pbbA+IFRtc8yjke234ZFn87suYM3r4pH0atpKFRqtFucx1pPEG/Xr\n",
       "PRNaker1C/NodH5fKRXpeS09Zz7Ewu72nRzAGK7PPtv/eXbyvj47fAb7JhKOap6dCqW/d+ES3CNo\n",
       "F1BgKQXT01BnuiI5WaXFVsYyFshrGnc8A1+eolHbbCAdigAAAABJRU5ErkJggg==\n",
       "\" style=\"display:inline;vertical-align:middle;\" /></a></td></tr>\n",
       "<tr><td>5</td><td>Operation</td><td>operator:&nbsp;7<br>operands:&nbsp;8<br></td><td><a class=\"ProveItLink\" href=\"../a1ab8e6c14fa7d97c10d512393343c354ee536080/expr.ipynb\"><img src=\"data:image/png;base64,iVBORw0KGgoAAAANSUhEUgAAADQAAAAPBAMAAABZ6/G2AAAAMFBMVEX///+6uroyMjJERETMzMwQ\n",
       "EBAiIiKYmJju7u5mZmaqqqpUVFSIiIh2dnbc3NwAAAAWgogoAAAAAXRSTlMAQObYZgAAAMxJREFU\n",
       "GNNjYMAGjil9TZ6AVcbxI0Pvnw3YZNi5CxgY1iNLcRxKS1MAMSpYgQQnspRTBZQx4TVI4QEGhren\n",
       "X50EUgx8FjDdE2ShjAvs6awJQAbzA6gUy4XlEAYvA88HLgcgo5kBLiUO1cXAbQBmiKalQZzBYeAL\n",
       "U8V6AEx5w92jwQ1jvXdgaABSbXCpWrBUAwP7g/MMPCApkD8hgLkQaA5jBsP6AlOGN2BLE+Hadts0\n",
       "NBo3MDSf7b0DUf9oCtyN0/5HC6CE3Wo1SEBBAQCOCzKzGibs5AAAAABJRU5ErkJggg==\n",
       "\" style=\"display:inline;vertical-align:middle;\" /></a></td></tr>\n",
       "<tr><td>6</td><td>Operation</td><td>operator:&nbsp;11<br>operand:&nbsp;9<br></td><td><a class=\"ProveItLink\" href=\"../5072b584867e0495b8c08f2b8f287fdd4cd7c6bd0/expr.ipynb\"><img src=\"data:image/png;base64,iVBORw0KGgoAAAANSUhEUgAAAD0AAAAVBAMAAAAHs/uBAAAAMFBMVEX///9ERESqqqqYmJh2dnZm\n",
       "ZmYQEBDu7u5UVFTMzMyIiIi6uroiIiIyMjLc3NwAAAB7vQThAAAAAXRSTlMAQObYZgAAAMdJREFU\n",
       "KM9jYCAecC9AE7BG5c5A18A6AYV7HcPEC8gcrgUY8ibIHLYCDPkyZM5eTBczKiBxQpDYfF59WlEM\n",
       "DCwBSGKXkdglDDYGOQwMTMgOzEZiOzCsZ9AEhkgCw9szIHAaKPYbiGG8AoZGkDLOD0h6fqM4LQtD\n",
       "PglZmu8nAzvYfAQQRmLbcX1gWM7AwIzsPlcEk+kzYwLfAjT/7UEw2aXcXRYDad4NyOH7AH/4Mjtg\n",
       "yHvhj192lPhleIEuz4FqIx96AljJwAAAF7cuwrGxnTwAAAAASUVORK5CYII=\n",
       "\" style=\"display:inline;vertical-align:middle;\" /></a></td></tr>\n",
       "<tr><td>7</td><td>Literal</td><td></td><td><a class=\"ProveItLink\" href=\"../../../../logic/set_theory/membership/__pv_it/088cbc857536a28d4119ad9639a84270ccb0545d0/expr.ipynb\"><img src=\"data:image/png;base64,iVBORw0KGgoAAAANSUhEUgAAAAwAAAAMBAMAAACkW0HUAAAALVBMVEX///+qqqpmZmZUVFQQEBC6\n",
       "urpERETc3NyYmJjMzMwiIiIyMjKIiIju7u4AAACYsrA9AAAAAXRSTlMAQObYZgAAADxJREFUCNdj\n",
       "YOA9vWrVBgaG2b0MQMCeCyIZ2ArA1DUwyRCyahVIyWQI7xaEYm4AU7xLIdxqTQgtvGvVBgCkcQ7e\n",
       "geM/tQAAAABJRU5ErkJggg==\n",
       "\" style=\"display:inline;vertical-align:middle;\" /></a></td></tr>\n",
       "<tr><td>8</td><td>ExprTuple</td><td>12, 10</td><td><a class=\"ProveItLink\" href=\"../825ea3ea1d551796a2a192c7dc817a686bc4aae80/expr.ipynb\"><img src=\"data:image/png;base64,iVBORw0KGgoAAAANSUhEUgAAADAAAAAVBAMAAADyTXAxAAAAMFBMVEX////c3NwiIiJERESqqqqY\n",
       "mJh2dnZmZmYQEBDu7u4yMjJUVFTMzMyIiIi6uroAAAAs73DqAAAAAXRSTlMAQObYZgAAARdJREFU\n",
       "KM9jYMAJ+C5girE+ABKnUcUurfqhXMBQA2StRBE/949h2t8NDFwMDLwoJrFyBzAw+G9gYE1g4JiA\n",
       "LBHJASTYNzBwNjC8QjGpQBpIcAINMWEoA7LEbotcB5vIWfAMqiKdYSmQm8CqyqEA4vIkuEIlvBj6\n",
       "GBjYGHg/sByASDyFSrxg+AfUwcBtAOFyGhyDSpwHSTAwcMDcvJIbLtECouQPMEBcHQaWmAAyyhTo\n",
       "K4H7DLwTwFLMcUC9fJoMDFFAdzH4B1gwyDJwfgIp3m07YZ7xBJBzHzEwTL42LTeAgbNfAOSuov/d\n",
       "oKBdx8AhAA9/AUQIAIMEGFywAEQKGrYLSMGOLDELiKVhHOTw3wjEjFiilvcAAwBMvUBRXVWnZwAA\n",
       "AABJRU5ErkJggg==\n",
       "\" style=\"display:inline;vertical-align:middle;\" /></a></td></tr>\n",
       "<tr><td>9</td><td>Operation</td><td>operator:&nbsp;11<br>operand:&nbsp;12<br></td><td><a class=\"ProveItLink\" href=\"../ec491d1ab556397bab855f0d64a1b1d8fed3cb290/expr.ipynb\"><img src=\"data:image/png;base64,iVBORw0KGgoAAAANSUhEUgAAABoAAAAJBAMAAADeJiHIAAAAMFBMVEX///9ERETMzMwQEBCYmJju\n",
       "7u5mZmaqqqpUVFSIiIh2dna6uroiIiIyMjLc3NwAAABBuwp8AAAAAXRSTlMAQObYZgAAAEpJREFU\n",
       "CNdjYIACvpV9lZkwDkMUg4+DDZy3gGE+QxHD2zMgcJohgKGRARlYInP4PjGwwjl+nB8YpsI47F8Y\n",
       "DfgmwHiskktXTWEAAJw3EmXq6rg8AAAAAElFTkSuQmCC\n",
       "\" style=\"display:inline;vertical-align:middle;\" /></a></td></tr>\n",
       "<tr><td>10</td><td>Literal</td><td></td><td><a class=\"ProveItLink\" href=\"../../../sets/complex/__pv_it/c357845f93a5a2d9f649129d299e7ec28dda4b960/expr.ipynb\"><img src=\"data:image/png;base64,iVBORw0KGgoAAAANSUhEUgAAAA8AAAAOBAMAAAACpFvcAAAAMFBMVEX////c3NyqqqqYmJhUVFR2\n",
       "dnbu7u66urrMzMxmZmZEREQQEBAyMjIiIiKIiIgAAAB7fvZ0AAAAAXRSTlMAQObYZgAAAGVJREFU\n",
       "CNdjYGDgu3N+70oGBgaO+gK2+CdAhoEzAwPTFwYG5oQNQN4UBgZORgcgI4+BIZM9gAEMWpkMoAx2\n",
       "KCOLAyrFk+AAYTAHgBhsQLy4DkjUJjAwsHg9Y6taBpLsvP/bnYEBACkBFGQfBv8RAAAAAElFTkSu\n",
       "QmCC\n",
       "\" style=\"display:inline;vertical-align:middle;\" /></a></td></tr>\n",
       "<tr><td>11</td><td>Literal</td><td></td><td><a class=\"ProveItLink\" href=\"../3fc7a08bb9735faa20ef8e175f6ea95511acc9c70/expr.ipynb\"><img src=\"data:image/png;base64,iVBORw0KGgoAAAANSUhEUgAAAA4AAAACBAMAAACapPCZAAAAElBMVEX///+6uroiIiIyMjLc3NwA\n",
       "AAA6l9OrAAAAAXRSTlMAQObYZgAAABBJREFUCNdjcFYCAUUGKAAADR4BD8/TF5gAAAAASUVORK5C\n",
       "YII=\n",
       "\" style=\"display:inline;vertical-align:middle;\" /></a></td></tr>\n",
       "<tr><td>12</td><td>Variable</td><td></td><td><a class=\"ProveItLink\" href=\"../../../../__pv_it/530be409e3083890784cf1d7b28c9e67e90af9360/expr.ipynb\"><img src=\"data:image/png;base64,iVBORw0KGgoAAAANSUhEUgAAAAsAAAAJBAMAAAAWSsseAAAAKlBMVEX///9ERETMzMwQEBAiIiKY\n",
       "mJju7u5mZmaqqqpUVFSIiIh2dnbc3NwAAAA/vyDhAAAAAXRSTlMAQObYZgAAAENJREFUCNdjYDi9\n",
       "8sTyBQxsG1hdmR0YuBm4LnAoMLAxcAowgADzAjB1VoEhgYH1wFoGrgSG3gBhhlMMDImrs3cFMAAA\n",
       "t0YN+iTRa+sAAAAASUVORK5CYII=\n",
       "\" style=\"display:inline;vertical-align:middle;\" /></a></td></tr>\n",
       "</table>\n"
      ],
      "text/plain": [
       "0. x -> ((-(-x)) = x) | x in Complexes\n",
       "   core type: Lambda\n",
       "   parameter: 12\n",
       "   body: 1\n",
       "   conditions: 2\\n1. (-(-x)) = x\n",
       "   core type: Operation\n",
       "   operator: 3\n",
       "   operands: 4\n",
       "2. (x in Complexes)\n",
       "   core type: ExprTuple\n",
       "   sub-expressions: 5\n",
       "3. =\n",
       "   core type: Literal\n",
       "   sub-expressions: \n",
       "4. (-(-x) , x)\n",
       "   core type: ExprTuple\n",
       "   sub-expressions: 6, 12\n",
       "5. x in Complexes\n",
       "   core type: Operation\n",
       "   operator: 7\n",
       "   operands: 8\n",
       "6. -(-x)\n",
       "   core type: Operation\n",
       "   operator: 11\n",
       "   operand: 9\n",
       "7. in\n",
       "   core type: Literal\n",
       "   sub-expressions: \n",
       "8. (x , Complexes)\n",
       "   core type: ExprTuple\n",
       "   sub-expressions: 12, 10\n",
       "9. -x\n",
       "   core type: Operation\n",
       "   operator: 11\n",
       "   operand: 12\n",
       "10. Complexes\n",
       "    core type: Literal\n",
       "    sub-expressions: \n",
       "11. -\n",
       "    core type: Literal\n",
       "    sub-expressions: \n",
       "12. x\n",
       "    core type: Variable\n",
       "    sub-expressions: "
      ]
     },
     "execution_count": 4,
     "metadata": {},
     "output_type": "execute_result"
    }
   ],
   "source": [
    "# display the expression information\n",
    "expr.exprInfo()"
   ]
  },
  {
   "cell_type": "code",
   "execution_count": null,
   "metadata": {},
   "outputs": [],
   "source": []
  }
 ],
 "metadata": {
  "kernelspec": {
   "display_name": "Python 3",
   "language": "python",
   "name": "python3"
  }
 },
 "nbformat": 4,
 "nbformat_minor": 0
}
