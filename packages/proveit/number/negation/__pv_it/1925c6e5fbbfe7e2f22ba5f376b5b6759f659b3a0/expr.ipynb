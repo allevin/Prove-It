{
 "cells": [
  {
   "cell_type": "markdown",
   "metadata": {},
   "source": [
    "Expression of type <a class=\"ProveItLink\" href=\"../../../../../../doc/html/api/proveit.ExprTuple.html\">ExprTuple</a>\n",
    "=======================\n",
    "# from context <a class=\"ProveItLink\" href=\"../../_context_.ipynb\">proveit.number.negation</a>"
   ]
  },
  {
   "cell_type": "code",
   "execution_count": 1,
   "metadata": {},
   "outputs": [],
   "source": [
    "# import Expression classes needed to build the expression\n",
    "from proveit import ExprTuple\n",
    "from proveit._common_ import a\n",
    "from proveit.logic import InSet\n",
    "from proveit.number import Greater, Reals, zero"
   ]
  },
  {
   "cell_type": "code",
   "execution_count": 2,
   "metadata": {},
   "outputs": [
    {
     "data": {
      "text/html": [
       "<strong id=\"expr\">expr:</strong> <a class=\"ProveItLink\" href=\"expr.ipynb\"><img src=\"data:image/png;base64,iVBORw0KGgoAAAANSUhEUgAAAHkAAAAVBAMAAACQ4lxbAAAAMFBMVEX////c3NwiIiJERESqqqqY\n",
       "mJh2dnZmZmYQEBDu7u4yMjJUVFTMzMyIiIi6uroAAAAs73DqAAAAAXRSTlMAQObYZgAAAc5JREFU\n",
       "OMulVD1Iw0AU/mpq2zT+BJeKHZQsgopExEEQzFwHg4Ogg5Qu4qA4CYKCgpOI+LO4tSoOdVFXQQh0\n",
       "s4OlIOIPUuugiGBF1E28S5PLVWsQfUN497777n337r0A/7OazB+JI/STLgMMv/TuLrqcKs6eGfAb\n",
       "xEuWg9UwUhH5R3ZFTmwDEkB12RRqCMKqWhoLG8zNAhfAIBBY4RVdKErCYvuML+yqzpzttgJPMjaA\n",
       "B37D8ZCT+xsbnkPN8t6BEw2ChikaPpqYN+FuTrlkK7dRIi2mFyNvhJ2BbxI7ZHUvCwUaFWSOnR+2\n",
       "VjZK6dkxxo7Cm8AyWbzCb+ZZd6pWr7RYMhlq2sC0w66ZwwcgFVBhVv5eUVjV7gSrnAw1Lb3pKK8q\n",
       "UHatirhR2jhqyP+4X3QZSu22h1VNp+wFoDGDftBMa/x7J0+LLkOJRQ7Yi/XLVHkXENdw6KXHSzrH\n",
       "TksGRHAoufSY0y0xoDKBUSCoe5t9ZknbObZP60C8iUdj56xTNXEJ9MXy9EGvU9dmtGGGTUkPtve0\n",
       "jWcOrdOdnpy6JGqCOQRKZqFvq1hz227cRpR0amXUbYPuBo7/NKG/YYtUZdhlQ7XbyRK9s+evf6Yr\n",
       "4BNIEYG7WSWRkQAAAABJRU5ErkJggg==\n",
       "\" style=\"display:inline;vertical-align:middle;\" /></a><br>"
      ],
      "text/plain": [
       "expr: (a in Reals , a > 0)"
      ]
     },
     "execution_count": 2,
     "metadata": {},
     "output_type": "execute_result"
    }
   ],
   "source": [
    "# build up the expression from sub-expressions\n",
    "expr = ExprTuple(InSet(a, Reals), Greater(a, zero))"
   ]
  },
  {
   "cell_type": "code",
   "execution_count": 3,
   "metadata": {},
   "outputs": [
    {
     "name": "stdout",
     "output_type": "stream",
     "text": [
      "Passed sanity check: built 'expr' is the same as the stored Expression.\n"
     ]
    }
   ],
   "source": [
    "# check that the built expression is the same as the stored expression\n",
    "%check_expr"
   ]
  },
  {
   "cell_type": "code",
   "execution_count": 4,
   "metadata": {},
   "outputs": [
    {
     "data": {
      "text/html": [
       "<table><tr><th>&nbsp;</th><th>core type</th><th>sub-expressions</th><th>expression</th></tr>\n",
       "<tr><td>0</td><td>ExprTuple</td><td>1, 2</td><td><a class=\"ProveItLink\" href=\"expr.ipynb\"><img src=\"data:image/png;base64,iVBORw0KGgoAAAANSUhEUgAAAHkAAAAVBAMAAACQ4lxbAAAAMFBMVEX////c3NwiIiJERESqqqqY\n",
       "mJh2dnZmZmYQEBDu7u4yMjJUVFTMzMyIiIi6uroAAAAs73DqAAAAAXRSTlMAQObYZgAAAc5JREFU\n",
       "OMulVD1Iw0AU/mpq2zT+BJeKHZQsgopExEEQzFwHg4Ogg5Qu4qA4CYKCgpOI+LO4tSoOdVFXQQh0\n",
       "s4OlIOIPUuugiGBF1E28S5PLVWsQfUN497777n337r0A/7OazB+JI/STLgMMv/TuLrqcKs6eGfAb\n",
       "xEuWg9UwUhH5R3ZFTmwDEkB12RRqCMKqWhoLG8zNAhfAIBBY4RVdKErCYvuML+yqzpzttgJPMjaA\n",
       "B37D8ZCT+xsbnkPN8t6BEw2ChikaPpqYN+FuTrlkK7dRIi2mFyNvhJ2BbxI7ZHUvCwUaFWSOnR+2\n",
       "VjZK6dkxxo7Cm8AyWbzCb+ZZd6pWr7RYMhlq2sC0w66ZwwcgFVBhVv5eUVjV7gSrnAw1Lb3pKK8q\n",
       "UHatirhR2jhqyP+4X3QZSu22h1VNp+wFoDGDftBMa/x7J0+LLkOJRQ7Yi/XLVHkXENdw6KXHSzrH\n",
       "TksGRHAoufSY0y0xoDKBUSCoe5t9ZknbObZP60C8iUdj56xTNXEJ9MXy9EGvU9dmtGGGTUkPtve0\n",
       "jWcOrdOdnpy6JGqCOQRKZqFvq1hz227cRpR0amXUbYPuBo7/NKG/YYtUZdhlQ7XbyRK9s+evf6Yr\n",
       "4BNIEYG7WSWRkQAAAABJRU5ErkJggg==\n",
       "\" style=\"display:inline;vertical-align:middle;\" /></a></td></tr>\n",
       "<tr><td>1</td><td>Operation</td><td>operator:&nbsp;3<br>operands:&nbsp;4<br></td><td><a class=\"ProveItLink\" href=\"../12e1039409d0a183701ae59c5c952745fb6478810/expr.ipynb\"><img src=\"data:image/png;base64,iVBORw0KGgoAAAANSUhEUgAAADMAAAAPBAMAAAC7N+rPAAAAMFBMVEX///8yMjKqqqrMzMzu7u4i\n",
       "IiJmZmaYmJhEREQQEBC6urp2dnaIiIhUVFTc3NwAAAD87Fq/AAAAAXRSTlMAQObYZgAAAMNJREFU\n",
       "GNNjYMAAhT/6BSceYMAKGt4yWCg+wC71jIHDrwFZhOVgaKgAVIrbAEXKsAShCyLFd2fXPJAAXwuS\n",
       "gbxgA1c+4PgAEuB4gCS1tBDI4/vOwAY21wPhjJehgQpAmvcDAyvYEytDQ+HOWMbhAKT5Gxj8DUAC\n",
       "tkiOZ1t8AUi/P8CgzwBS44rsL5HjQNpfgeEiE0gbbwGSlC0vUIixgCmMG+zjKCQpboU+kLdOWZwC\n",
       "izxMhgdvM4OEvAJycOiKQlwIBQB1/jwDBuYV5wAAAABJRU5ErkJggg==\n",
       "\" style=\"display:inline;vertical-align:middle;\" /></a></td></tr>\n",
       "<tr><td>2</td><td>Operation</td><td>operator:&nbsp;5<br>operands:&nbsp;6<br></td><td><a class=\"ProveItLink\" href=\"../3fee3f8941aa0c6ba4074ab219fba945f6d80f400/expr.ipynb\"><img src=\"data:image/png;base64,iVBORw0KGgoAAAANSUhEUgAAADEAAAAOBAMAAAB0nulXAAAAMFBMVEX///8yMjKqqqrMzMzu7u4i\n",
       "IiJmZmaYmJhEREQQEBC6urp2dnaIiIhUVFTc3NwAAAD87Fq/AAAAAXRSTlMAQObYZgAAALVJREFU\n",
       "GNNjYMACWHKOGTBgBawLWIKRuG8Ryo4yMBxEkmHuWABjxjIwrH+AJMV3UQHK+sbAYA9k893ZNQ9q\n",
       "8dYCiJLfQJkDDAwrH3B8gLnp6Ba4zAYGvu8MbA1wE0tTEDK8HxhYD8BlbOUQpvE3MPjD3buiGe6C\n",
       "Aob3Bxj0GRwgEor34K7Wf8Dgr8BwkQmiqXQLwqdbGRgYC5jCuCFuPgIPHQWWySDvnLI4BeI+LUCE\n",
       "aPZZAwYAMNozW7yxOncAAAAASUVORK5CYII=\n",
       "\" style=\"display:inline;vertical-align:middle;\" /></a></td></tr>\n",
       "<tr><td>3</td><td>Literal</td><td></td><td><a class=\"ProveItLink\" href=\"../../../../logic/set_theory/membership/__pv_it/088cbc857536a28d4119ad9639a84270ccb0545d0/expr.ipynb\"><img src=\"data:image/png;base64,iVBORw0KGgoAAAANSUhEUgAAAAwAAAAMBAMAAACkW0HUAAAALVBMVEX///+qqqpmZmZUVFQQEBC6\n",
       "urpERETc3NyYmJjMzMwiIiIyMjKIiIju7u4AAACYsrA9AAAAAXRSTlMAQObYZgAAADxJREFUCNdj\n",
       "YOA9vWrVBgaG2b0MQMCeCyIZ2ArA1DUwyRCyahVIyWQI7xaEYm4AU7xLIdxqTQgtvGvVBgCkcQ7e\n",
       "geM/tQAAAABJRU5ErkJggg==\n",
       "\" style=\"display:inline;vertical-align:middle;\" /></a></td></tr>\n",
       "<tr><td>4</td><td>ExprTuple</td><td>8, 7</td><td><a class=\"ProveItLink\" href=\"../2aa3c33b979b37cda7b84a5e2308eb5c8291c7180/expr.ipynb\"><img src=\"data:image/png;base64,iVBORw0KGgoAAAANSUhEUgAAAC8AAAAVBAMAAAAk6KpUAAAAMFBMVEX////c3NwiIiJERESqqqqY\n",
       "mJh2dnZmZmYQEBDu7u4yMjJUVFTMzMyIiIi6uroAAAAs73DqAAAAAXRSTlMAQObYZgAAARVJREFU\n",
       "KM9jYMAJ+C5gisWBiNNIAlGf7Vd1ARWyHwByViIrNZBmOOwlwMCwgIGBF8UkA3EG5okGDAxhDAwc\n",
       "E9Ak2A4AJWYwMLxiwCbB7MBQBuQy7s1rhEtwg4xiK2BYCuS+EGD+AJd4FAW0nGUBQx9Qw1cGdgOo\n",
       "hISSlgPIcw0M/xgYuD8wMF2A6XjODHINzweQBL8Bw/wDMAn2NxsgEi0MDPIXGPwZJsDsWHkVYpQp\n",
       "A8N8B4ZdLAc4oRKnuYG6WRcwpDMwcAWwqLMxzFeA+sPBEOzcRyBv3Dt8j2HGR3Ag2jAsXu/AwPWA\n",
       "gUMA5uuHSCEADBLWBBgnAEkiFznYkSQ4gcHOIA3l8CJp4AaZz4glau8wMAAAODBDl6KECvwAAAAA\n",
       "SUVORK5CYII=\n",
       "\" style=\"display:inline;vertical-align:middle;\" /></a></td></tr>\n",
       "<tr><td>5</td><td>Literal</td><td></td><td><a class=\"ProveItLink\" href=\"../../../ordering/__pv_it/fed4085ae483b560677c9d938187885e1d910a490/expr.ipynb\"><img src=\"data:image/png;base64,iVBORw0KGgoAAAANSUhEUgAAAA4AAAAMBAMAAACgrpHpAAAALVBMVEX///9mZmaIiIiYmJgiIiJ2\n",
       "dnbu7u6qqqoyMjK6urpERETMzMxUVFTc3NwAAADHHImEAAAAAXRSTlMAQObYZgAAADlJREFUCNdj\n",
       "uLOBAQy4V02AMHhPFEAYbCEGUIZKGITBYCIGoff0gqlZq8FUxVmIZBhElxqYdwWiGQBNjQtMyuln\n",
       "xAAAAABJRU5ErkJggg==\n",
       "\" style=\"display:inline;vertical-align:middle;\" /></a></td></tr>\n",
       "<tr><td>6</td><td>ExprTuple</td><td>8, 9</td><td><a class=\"ProveItLink\" href=\"../0fd9d36c4b3c7aeb3d44da3149e6af22e27515840/expr.ipynb\"><img src=\"data:image/png;base64,iVBORw0KGgoAAAANSUhEUgAAACsAAAAVBAMAAAAtAwouAAAAMFBMVEX////c3NwiIiJERESqqqqY\n",
       "mJh2dnZmZmYQEBDu7u4yMjJUVFTMzMyIiIi6uroAAAAs73DqAAAAAXRSTlMAQObYZgAAAQdJREFU\n",
       "GNN1kT1PAkEURc/C8jEguL2FdhZa0NDvP2ArS0NorCRUdCaaWBJDSbfbWPgXTEw2oaRgY2OihgAV\n",
       "oXEt1M44z7DLoGGKl7knk/vefQNbTjX6S06ljEyiLp5CCqG+3Zk4M1XHEEBlw+MRnuEEin0TH8Gb\n",
       "wwCWG92+YOySdelqYT20r36p9alxRL7DrVYLJxuvcRM74EaLDwo1E1cv+YZyTCYyTXZiwbs1/HDd\n",
       "0hN8DfsRDfrJgA1HTOrgu9zboVrFaUEu4AxKnn2Yxz+Q8K7qIQPOZezJcMLgXVbVfdFdSlOKTpJw\n",
       "lmbV4XPNRHgpPjcXm2KlF8veSlTSx2Xxtf592iv8AGmYRIg8+9vnAAAAAElFTkSuQmCC\n",
       "\" style=\"display:inline;vertical-align:middle;\" /></a></td></tr>\n",
       "<tr><td>7</td><td>Literal</td><td></td><td><a class=\"ProveItLink\" href=\"../../../sets/real/__pv_it/9e7645ee1117062e179dd6264898f99ed95b157c0/expr.ipynb\"><img src=\"data:image/png;base64,iVBORw0KGgoAAAANSUhEUgAAAA8AAAAOBAMAAAACpFvcAAAAMFBMVEX///8iIiK6urp2dnbu7u5m\n",
       "ZmaqqqrMzMxUVFTc3NyIiIgQEBBEREQyMjKYmJgAAAA9nvXMAAAAAXRSTlMAQObYZgAAAFJJREFU\n",
       "CNdjePvn/N29CxiA4MAMhprcCSDGVAYezwMQBnMBOoMDJqX4Fqx4tqBsAlj7VFUeBwiDVb0BwmC4\n",
       "sg7KqOAogJqTcJKBAWjpcYY79xMAyqEnfsw4ApEAAAAASUVORK5CYII=\n",
       "\" style=\"display:inline;vertical-align:middle;\" /></a></td></tr>\n",
       "<tr><td>8</td><td>Variable</td><td></td><td><a class=\"ProveItLink\" href=\"../../../../__pv_it/07527342713064c87612d00d8557c53d53d5324a0/expr.ipynb\"><img src=\"data:image/png;base64,iVBORw0KGgoAAAANSUhEUgAAAAsAAAAJBAMAAAAWSsseAAAAMFBMVEX///8yMjKqqqrMzMzu7u4i\n",
       "IiJmZmaYmJhEREQQEBC6urp2dnaIiIhUVFTc3NwAAAD87Fq/AAAAAXRSTlMAQObYZgAAAEhJREFU\n",
       "CNdjYOC7s2seAwPDygccHxgY+L4zsDUwMPB+YGA9wMDA38Dgb8DA8P4Agz6DA4O/AsNFJgMGxgKm\n",
       "MG6gyjunLE4xAAAZTBA5TB6DCwAAAABJRU5ErkJggg==\n",
       "\" style=\"display:inline;vertical-align:middle;\" /></a></td></tr>\n",
       "<tr><td>9</td><td>Literal</td><td></td><td><a class=\"ProveItLink\" href=\"../../../numeral/__pv_it/ec23fc7a1b4222a5f4948b495002b97d6fa18c3c0/expr.ipynb\"><img src=\"data:image/png;base64,iVBORw0KGgoAAAANSUhEUgAAAAoAAAAOBAMAAADkjZCYAAAALVBMVEX///8QEBCYmJh2dnaqqqrc\n",
       "3NxUVFQyMjK6uroiIiLMzMyIiIhmZmbu7u4AAAAZjyHdAAAAAXRSTlMAQObYZgAAAEpJREFUCNdj\n",
       "YLiz+xQDA8MMhpsLGLgnMHAXMHAmMHA8ZeA7wMD1hCHOgIHrNZh8jES+Bss+AqlkeQrSxTyBgWEK\n",
       "w8UFDAx3rLMYAMCjFldHSx/9AAAAAElFTkSuQmCC\n",
       "\" style=\"display:inline;vertical-align:middle;\" /></a></td></tr>\n",
       "</table>\n"
      ],
      "text/plain": [
       "0. (a in Reals , a > 0)\n",
       "   core type: ExprTuple\n",
       "   sub-expressions: 1, 2\n",
       "1. a in Reals\n",
       "   core type: Operation\n",
       "   operator: 3\n",
       "   operands: 4\n",
       "2. a > 0\n",
       "   core type: Operation\n",
       "   operator: 5\n",
       "   operands: 6\n",
       "3. in\n",
       "   core type: Literal\n",
       "   sub-expressions: \n",
       "4. (a , Reals)\n",
       "   core type: ExprTuple\n",
       "   sub-expressions: 8, 7\n",
       "5. >\n",
       "   core type: Literal\n",
       "   sub-expressions: \n",
       "6. (a , 0)\n",
       "   core type: ExprTuple\n",
       "   sub-expressions: 8, 9\n",
       "7. Reals\n",
       "   core type: Literal\n",
       "   sub-expressions: \n",
       "8. a\n",
       "   core type: Variable\n",
       "   sub-expressions: \n",
       "9. 0\n",
       "   core type: Literal\n",
       "   sub-expressions: "
      ]
     },
     "execution_count": 4,
     "metadata": {},
     "output_type": "execute_result"
    }
   ],
   "source": [
    "# display the expression information\n",
    "expr.exprInfo()"
   ]
  },
  {
   "cell_type": "code",
   "execution_count": null,
   "metadata": {},
   "outputs": [],
   "source": []
  }
 ],
 "metadata": {
  "kernelspec": {
   "display_name": "Python 3",
   "language": "python",
   "name": "python3"
  }
 },
 "nbformat": 4,
 "nbformat_minor": 0
}
