{
 "cells": [
  {
   "cell_type": "markdown",
   "metadata": {},
   "source": [
    "Theorems for context <a href=\"_context_.ipynb\" class=\"ProveItLink\">proveit.number.negation</a>\n",
    "========"
   ]
  },
  {
   "cell_type": "code",
   "execution_count": 1,
   "metadata": {},
   "outputs": [],
   "source": [
    "import proveit\n",
    "from proveit import Iter, Indexed\n",
    "from proveit._common_ import a, b, k, n, x, y, xx\n",
    "from proveit.logic._common_ import xIter1n\n",
    "from proveit.logic import Forall, Equals, NotEquals, InSet\n",
    "from proveit.number import Neg, NaturalsPos, Integers, Reals, Complexes, zero, one\n",
    "from proveit.number import Add, subtract, Mult, Exp, Less, Greater\n",
    "# the context is in the current directory:\n",
    "context = proveit.Context('.') # adds context root to sys.path if necessary"
   ]
  },
  {
   "cell_type": "code",
   "execution_count": 2,
   "metadata": {},
   "outputs": [
    {
     "name": "stdout",
     "output_type": "stream",
     "text": [
      "Defining theorems for context 'proveit.number.negation'\n",
      "Subsequent end-of-cell assignments will define theorems\n",
      "'%end theorems' will finalize the definitions\n"
     ]
    }
   ],
   "source": [
    "%begin theorems"
   ]
  },
  {
   "cell_type": "code",
   "execution_count": 3,
   "metadata": {},
   "outputs": [
    {
     "data": {
      "text/html": [
       "<strong id=\"negatedZero\"><a class=\"ProveItLink\" href=\"_proofs_/negatedZero.ipynb\">negatedZero</a>:</strong> <a class=\"ProveItLink\" href=\"__pv_it/9340741d07a2087160e8c0eb05b6cfbd55c9cbf70/expr.ipynb\"><img src=\"data:image/png;base64,iVBORw0KGgoAAAANSUhEUgAAAE8AAAAVBAMAAAD1D64kAAAAMFBMVEX////c3NwiIiJERESqqqqY\n",
       "mJh2dnZmZmYQEBDu7u4yMjJUVFTMzMyIiIi6uroAAAAs73DqAAAAAXRSTlMAQObYZgAAARpJREFU\n",
       "KM9jYCAa8F1A4bI+wKXwNII5/W4NA0MNhgrO2usHgNRKhIgew6QDDFwYCpkecOowMPAibOZVYOBd\n",
       "wMCagK7wEgPDLQYGjgkInRsY+D4ycDagK9RmYHgvwPAKIcBfwMDzhYHBBF3hdwaG8w4MZQgB+QQG\n",
       "nr8MDOlo6hi/ARVeYFiKqhAo6AXmVK0CgdUwhQkMfRgKX2AzMYHhH5C1SAkEHkCtPo/d6n+onvmK\n",
       "qRDsmQCGFgbk4GH5CLO6CGyLMjR4/AUYTBmQA5xNgYEhCkuAJ6EGhgrDjAOYwcPA5MDZw8DwCElk\n",
       "eu4eILkOI1GU3Qbq5xBAF27Ansow0gDbBRzpcSUafxauhCuNxt+ISyEjqlW8B7ArAwAq4UxvsoQU\n",
       "3gAAAABJRU5ErkJggg==\n",
       "\" style=\"display:inline;vertical-align:middle;\" /></a><br>"
      ],
      "text/plain": [
       "negatedZero: (-0) = 0"
      ]
     },
     "execution_count": 3,
     "metadata": {},
     "output_type": "execute_result"
    }
   ],
   "source": [
    "negatedZero = Equals(Neg(zero), zero)"
   ]
  },
  {
   "cell_type": "code",
   "execution_count": 4,
   "metadata": {},
   "outputs": [
    {
     "data": {
      "text/html": [
       "<strong id=\"intClosure\"><a class=\"ProveItLink\" href=\"_proofs_/intClosure.ipynb\">intClosure</a>:</strong> <a class=\"ProveItLink\" href=\"__pv_it/bd6913baa5fb1ee49620002370ff70f6fa46c33d0/expr.ipynb\"><img src=\"data:image/png;base64,iVBORw0KGgoAAAANSUhEUgAAAJYAAAAVBAMAAABWCwqnAAAAMFBMVEX///8QEBC6urrMzMxUVFRm\n",
       "ZmZERETc3NwyMjKqqqp2dnaIiIiYmJgiIiLu7u4AAAAU9Wx4AAAAAXRSTlMAQObYZgAAAlBJREFU\n",
       "OMtjYKAieIBPUhuKkQCPAnalIPELIMZp7PLMDhCMAoLR+Jz3/3bINh4Aia8E8fuwm8XxAIJRBdH4\n",
       "3K0PGBrYwOJlQC57AnazdkMxqmcWoPJZFzBwTVgEFgfZyzoBu1lyUIwC+AQg9OveuzdANMsDhhJQ\n",
       "QADFeZaXl9diN4qpAYLRQCYkLHsQns9jewAR/5aWdgu7WUDXgzEclOxSLGBgWApmlyGM4tlwBkQB\n",
       "xZ0ZGNJxBP0BCIa7U5whH0jNAHOQ9DzjA4c3UFyFgQ/ZH2wiS1MDIExGBQiGgfoDDGFAShEcakjR\n",
       "5cxSwAAR52XghtnNtzX0AG8B12uo8/kVILjiLghcYvBnYLgNFLYHu1EWKHQD4twALTANFOc+wAvz\n",
       "+jb1dw94GGxqGFDNgoFvDHyfYWYhJWEOBqC/loPF+RpMgAKlu5IZeCB+C4B6kYFxAgRDAftvBs4P\n",
       "fDA/XoCLr+SCZB+QeLoTUOo6+z9oiuaxNIAF3QEIhoXATwaWhskMDCfAPB+4FQ5At3AJQMSnAs1k\n",
       "CWC+wGAFlnv1CqaKKwCCYaCHYW7AAliaeAvzPFtBHgNfVAJEnHEDKFi4HRhs09LSNjAsWMdQB00D\n",
       "FyAYnrx2K2cDTWiCOKcV6nzFDLG0frEAiDgPMOjfP2A7V/AEbMDkA6CABANxKMaahzg9oPGIJs7A\n",
       "+MDe5gE4mbCyItxyCopRANcG7CkbLs4UfTqGgS8JyDrisirXAV+Z8wJHuYkmzgUKLyTA7gDBKMAd\n",
       "h1nuBArwaihGLvoMsCsFigMA0CuVLVaK/LYAAAAASUVORK5CYII=\n",
       "\" style=\"display:inline;vertical-align:middle;\" /></a><br>"
      ],
      "text/plain": [
       "intClosure: forall_{a in Integers} ((-a) in Integers)"
      ]
     },
     "execution_count": 4,
     "metadata": {},
     "output_type": "execute_result"
    }
   ],
   "source": [
    "intClosure = Forall(a, InSet(Neg(a), Integers), domain=Integers)"
   ]
  },
  {
   "cell_type": "code",
   "execution_count": 5,
   "metadata": {},
   "outputs": [
    {
     "data": {
      "text/html": [
       "<strong id=\"realClosure\"><a class=\"ProveItLink\" href=\"_proofs_/realClosure.ipynb\">realClosure</a>:</strong> <a class=\"ProveItLink\" href=\"__pv_it/d5da389799dd30a7ad73e231d999269c49d2df5c0/expr.ipynb\"><img src=\"data:image/png;base64,iVBORw0KGgoAAAANSUhEUgAAAJcAAAAVBAMAAAC5yWGZAAAAMFBMVEX///8QEBC6urrMzMxUVFRm\n",
       "ZmZERETc3NwyMjKqqqp2dnaIiIiYmJgiIiLu7u4AAAAU9Wx4AAAAAXRSTlMAQObYZgAAAkVJREFU\n",
       "OMutVE1o02AYftslaZukmXhRbxUVvQx6KEOG4lAPgpeizIN6CA7Si2iEzQkiy0kEXe1BYTeHICpC\n",
       "CRNFRCToZTgoQxB/IBBh6ElbPOwk4vfzfu2Xkm+nPfDQvE9enr4/3xeArUSy2ct8yCnjnSKX6mv0\n",
       "YVWRUEPK0KvpeGXj8q2dIdefUqGpMGtmvQuGYncGxhd9pl8lYcHN9rJCzjQ+DJvNgvHTZXqRDE1v\n",
       "ZZvlEs40vvMf51UcB2hmVl2m24/n5m4oujyATMPgf32wM6iMmVF9w/O+KczOIgUKJx/uADDr7PmS\n",
       "1KZG26T6MYCGwuwOUmC3b/QASqw5w5fMxlZ8ru8FR97P4pOp2+J5O1IU9hd0UkF+Gw1+DBZwJf5C\n",
       "O6d6GawIZefFVGSZ0K5j/IezsBBTVLQelMluR3qsSirhAvYZdEtUt6KyWNjL/b8TYtbppM0ERl3o\n",
       "VoVZTToa+p5JNHMCqs++ngabVkTN3mLaLiRiPoQH5PrxNn/J56z5BtuExlHi+LnwD4rAzU4tYdpF\n",
       "JKLbghOlKtisOS2SzGoaqZjp98n11OojazDBzPTjX0XaIySiGJU+meJoOB8lM7PVQD1HhjpasSbh\n",
       "sOd5oWVefy/SxpD9Y7Y8vkw8Kyy6drp/0afh5t0W120y/25idPx13mZpQiwk53NmXie4txAHWTq5\n",
       "gUcOJZrPZ9YWM7OXONN4pjjifT1/bvU8OBfYoW2vn0k2+QQ5QbbXsG6SmaWEGaQMzc82U+mDkYec\n",
       "Mp4rcon+H5zAp7z38ktjAAAAAElFTkSuQmCC\n",
       "\" style=\"display:inline;vertical-align:middle;\" /></a><br>"
      ],
      "text/plain": [
       "realClosure: forall_{a in Reals} ((-a) in Reals)"
      ]
     },
     "execution_count": 5,
     "metadata": {},
     "output_type": "execute_result"
    }
   ],
   "source": [
    "realClosure = Forall(a, InSet(Neg(a), Reals), domain=Reals)"
   ]
  },
  {
   "cell_type": "code",
   "execution_count": 6,
   "metadata": {},
   "outputs": [
    {
     "data": {
      "text/html": [
       "<strong id=\"complexClosure\"><a class=\"ProveItLink\" href=\"_proofs_/complexClosure.ipynb\">complexClosure</a>:</strong> <a class=\"ProveItLink\" href=\"__pv_it/2309b723a0d91be0b14c3fa72143b8268661b6ee0/expr.ipynb\"><img src=\"data:image/png;base64,iVBORw0KGgoAAAANSUhEUgAAAJcAAAAVBAMAAAC5yWGZAAAAMFBMVEX///8QEBC6urrMzMxUVFRm\n",
       "ZmZERETc3NwyMjKqqqp2dnaIiIiYmJgiIiLu7u4AAAAU9Wx4AAAAAXRSTlMAQObYZgAAAklJREFU\n",
       "OMtjYKAmeIBPkmkDBCODQzjUgsQvgBincSgwgWJkwGqAror7Rr9sKlh8JYjbh8OwPmxyDWh8Zn0F\n",
       "vvVbwOJlQC57AnazuDdAMCo4hcY/4MPAwPkFLM4BDDTWCdgNY3wAwajgIYTi23H3LsiRPA8EgGQI\n",
       "WJxneXl5LQ5fakAxKmCDWG1xDhqG7A5A8jVE/Fta2i0chkVBMQywey8SZ2DgCgCz86CCT5kWQBgg\n",
       "cWcGhnQchvVAMQwoFrB9AIYPOAbYCqCCVpwHIAyQuAoDH0r8vOnyjYYyhaAY5rA/DKzAqGIChRHD\n",
       "M5ioFRPUMJA4LwM3lMfAtzX0ALPZA+YuKP8TBLP33gUBBZYPDLzAuGX+AHYlSAjkimfMUG+CxLkP\n",
       "8MIibJv6uwc81QwMWqiGwQB/AsN7A5hh8LTM8cABYRhfA0i8dFcyAw8oZJUnA50CVScJxVBQv4Fh\n",
       "PjD7Qbz5FibKswBkGB/U++lOQPZ19n8MHCC5fecQunOgGAreT2Dw4DRg4AEHMcsBuCptIKH7ACI+\n",
       "FZg9WQKYLzBYoRu2FIphHjrAeZULljT4LsGEWdz28anlQcUZgYHKr8DtwGCblpa2QUkZoVsXiuHJ\n",
       "bJPZJqCZCmBeRTBM3PT+RycGqDgPMPzfP2A7V/AEbM9rRJgxFkAw1uzEMKX3bgM2cWAOtLd5wALS\n",
       "xxxVwLAbHrYQjApW40jicHGm6NMxDHxJIOaraykK+IogvgbsZqGLcwHDDEWgBIqRAUsBdsNwiSOC\n",
       "fAMEI4PNONQCxQGQfJropkOMnQAAAABJRU5ErkJggg==\n",
       "\" style=\"display:inline;vertical-align:middle;\" /></a><br>"
      ],
      "text/plain": [
       "complexClosure: forall_{a in Complexes} ((-a) in Complexes)"
      ]
     },
     "execution_count": 6,
     "metadata": {},
     "output_type": "execute_result"
    }
   ],
   "source": [
    "complexClosure = Forall(a, InSet(Neg(a), Complexes), domain=Complexes)"
   ]
  },
  {
   "cell_type": "code",
   "execution_count": 7,
   "metadata": {},
   "outputs": [
    {
     "data": {
      "text/html": [
       "<strong id=\"negatedPositiveIsNegative\"><a class=\"ProveItLink\" href=\"_proofs_/negatedPositiveIsNegative.ipynb\">negatedPositiveIsNegative</a>:</strong> <a class=\"ProveItLink\" href=\"__pv_it/50f0d6105e03cb233efeee9774fb335f7e9834d30/expr.ipynb\"><img src=\"data:image/png;base64,iVBORw0KGgoAAAANSUhEUgAAAMUAAAAXBAMAAABJ4JbnAAAAMFBMVEX///8QEBC6urrMzMxUVFRm\n",
       "ZmZERETc3NwyMjKqqqp2dnaIiIiYmJgiIiLu7u4AAAAU9Wx4AAAAAXRSTlMAQObYZgAAAshJREFU\n",
       "SMe9VEtoE1EUvZn8M8lE7ELcSAR/GzGLkkWxVPxgwU1Q6qKRUlpMN13MotqFSAPqQq0lG8Fdg+CP\n",
       "YhjaRqR+CLqzEApViq3CCEVB0ISKCiLB+95983UqpBQPnPmcee+dO/fe9wD+A/SNTJI0oh0vvIcy\n",
       "eYE9zLfo0S5oRzDtHqXkKmkuP2BvEy16THjNKbiFREpZ5PJ5fAn3t2Yha0QnXlmP4VPs+gzgMZcj\n",
       "WJBgsTUPn0504oP55O9OsdtrgAMqk+P3RkcvtpiqfYJOhIxIpctUmu8AXUUu/8jnl1v06BU0U3Pi\n",
       "9jaAWJbeoldUUn+hh8blIwBDnv3pFmJTYhEYFzSwUw01cG0qurwsssg9SlzeBYq9I27d77lOv26F\n",
       "SXHN4VDCVkHj+28IYtdIW3gkK6ZMHkxOgFw1GrrSU5VjUM66PM7yyBYhKSJcI4ZvvGdIBRqQwC7z\n",
       "N9i3jwMOD43LcjVhtMijvV919KjVnB4gXcMRShMSRYeHgWQ/1NOGB7RfNXRW8yqXlQLbsefmBiHO\n",
       "4mcezy2PcO4uTo9i+vxNHi3DdkGBMQ0m8UyiXOFS74SOvTupkjx0GI2Wwk2IAHmcLFkeX9Qx9pfx\n",
       "cZAsj2FBgXoRuqNpiBtl/bxCicE9+BBIvolHViDrX4AO7hE8+tZW82PQSd2yZPuPO4ICkWr0Tczq\n",
       "XVyWWitRVNqE7MOZyZR8CDrz+bwmxy68tHmswSxtu5LyE3yiHvsFze0xnZlGq5SpRC/xFuqdTQs5\n",
       "jqZ1PVRTVylX0Q7d9MBCD3/Ce6YPoA2SqjhLVOJ6Z4m37NO7DuoBlepRttVjh/8bdlnmON8fe4xc\n",
       "lIhOTHl7mLKUmz8DygDfg+XV07rpsftppQoj/CCQn/T962xXCp4WbjmG9bCOOGt7DLonjgjaEVA9\n",
       "PdaR3R5/I6wR7ZjxHjoDG/TYLAQ2baU/MirAsu7LJywAAAAASUVORK5CYII=\n",
       "\" style=\"display:inline;vertical-align:middle;\" /></a><br>"
      ],
      "text/plain": [
       "negatedPositiveIsNegative: forall_{a in Reals | a > 0} ((-a) < 0)"
      ]
     },
     "execution_count": 7,
     "metadata": {},
     "output_type": "execute_result"
    }
   ],
   "source": [
    "negatedPositiveIsNegative = Forall(a, Less(Neg(a), zero), domain=Reals, conditions=[Greater(a, zero)])"
   ]
  },
  {
   "cell_type": "code",
   "execution_count": 8,
   "metadata": {},
   "outputs": [
    {
     "data": {
      "text/html": [
       "<strong id=\"negAsMultOne\"><a class=\"ProveItLink\" href=\"_proofs_/negAsMultOne.ipynb\">negAsMultOne</a>:</strong> <a class=\"ProveItLink\" href=\"__pv_it/12ec77157ca7eab60b6ca9589dda9bd6aaaa248e0/expr.ipynb\"><img src=\"data:image/png;base64,iVBORw0KGgoAAAANSUhEUgAAAOEAAAAVBAMAAABCnpRGAAAAMFBMVEX///8QEBC6urrMzMxUVFRm\n",
       "ZmZERETc3NwyMjKqqqp2dnaIiIiYmJgiIiLu7u4AAAAU9Wx4AAAAAXRSTlMAQObYZgAAAnlJREFU\n",
       "SMe9lk9IFHEUx9/u7Lo6Ow7irVNbBkUQ7CE6BKJY1CkKwotetoiRIGgPkZRIixCImAgReMvLErEQ\n",
       "A2lQQQ6dpCA6dYiEnxAhFiUd6tp7M2/c+f2ZnT314LEzbz7P7+/35v3eCPDfTXR6mPcjT5pT6YrT\n",
       "MYq8xd+PdPM+RfEku2SXs7keYcIwUqwCPKXrpRTFJdOz3kzOvSlMGEUaALfxp1QzC5b9yJXqrGZw\n",
       "7tmLwoRR5B0K48PislkxJyKXzR3I5DaECaPINgo/mZ6eTSnqMXbFrmdypKhjFOnBzf3xvM8pihPs\n",
       "sd1du7OOxWtmcZFi05RoXwI4AzCVorjIHldl1fmSw95eoZvifGijBo4VV0yJfdg6R8BtJOkfCxcm\n",
       "+XKQnc2G8l4ftvchdWUKx4oh5go5MY/vsh/KQbyW9fHAOiWsBb7/HXnpwRZZxYVC2NQjqqLCsWKI\n",
       "/aLznki09rCtg/64zV4c/SmcGYDj8l9KNKXfSVHZY4ht1+REUnQbNC1aY2tVB98qDD3ExXLiAfZ9\n",
       "u1elqRiWqxjuZ6tm5NpVVROpqjA1hpUW53LL4ZR486HN3WCPT3B9A8qYuKnuUeFYcdOU6FDPPMJS\n",
       "56nXTquKTbnHHwdXYAYMp6OpBpXTkUik08E1/gsw7Hmef3ionXiCne3bq90WNdmcqqhwMH7wfpDE\n",
       "Eom99ElxaEHWgAVf6Wnhe/s95uqRZ045E5c65SIbsRs2FCjJmqjD68To1QeybZztGqdjFGnt7/vl\n",
       "5DNwr9Ll7qdrlY5fq53uvmo6tgPKsMFF4HuUArfYJTuvK5o4HcNIoZ7xL0nJj1z6GFa74nSMIs8B\n",
       "/gG78c98EaRV9QAAAABJRU5ErkJggg==\n",
       "\" style=\"display:inline;vertical-align:middle;\" /></a><br>"
      ],
      "text/plain": [
       "negAsMultOne: forall_{x in Complexes} ((-x) = ((-1) * x))"
      ]
     },
     "execution_count": 8,
     "metadata": {},
     "output_type": "execute_result"
    }
   ],
   "source": [
    "negAsMultOne = Forall(x,Equals(Neg(x), Mult(Neg(one), x)), domain=Complexes)"
   ]
  },
  {
   "cell_type": "code",
   "execution_count": 9,
   "metadata": {},
   "outputs": [
    {
     "data": {
      "text/html": [
       "<strong id=\"distributeNegThroughBinarySum\"><a class=\"ProveItLink\" href=\"_proofs_/distributeNegThroughBinarySum.ipynb\">distributeNegThroughBinarySum</a>:</strong> <a class=\"ProveItLink\" href=\"__pv_it/747842aebbbeb699c3abf1a3516d38b81332e4020/expr.ipynb\"><img src=\"data:image/png;base64,iVBORw0KGgoAAAANSUhEUgAAARoAAAAWBAMAAADtKE5GAAAAMFBMVEX///8QEBC6urrMzMxUVFRm\n",
       "ZmZERETc3NwyMjKqqqp2dnaIiIiYmJgiIiLu7u4AAAAU9Wx4AAAAAXRSTlMAQObYZgAAA2lJREFU\n",
       "SMfNlk1oE0EUx18+NjHJZiNegoKSWkFRpDlID6K06kGligE/KG3BoJIiCuZQrVCkQXqIpUqgCIJI\n",
       "g1BERAi19dCCLJ6khRIPVVCEFQqKii0WK6WlOG9nurtvs9noSf/wy+6+zOy+mffezAD8V9JqN9kl\n",
       "oBZHvRTY5C3V+ISc4JTxYcqtpa+ZQy0VUg6wV0lJjk173N4/u5n9nOQ8RsMdt9brNA61OLRDH3MC\n",
       "Ktf3Qx925lxjl2DarfGEgFpMfRLXWIH9TAqIIu6BWsJQFXVwnFLBrfEWAbWYui+uDThjHwVEHtfk\n",
       "9K5inNfryI+6u2+4Ns5xqMXBm6f4EyhwiHa4Tk1YT92LnMVM5p1bY6nIoRboGq/LUm/6Jo6xV6c4\n",
       "RG2W+2DLw7gt31pGVYBh0DkE0GmMOu+QnCqHWrxxuELnRlmEWBJCbN4QkPK69OobsHSuywbm6Qfm\n",
       "0rAAcA90toFizvzw2s23/uPtIugJjiUN2FOvCmeoN6FV8BTBy+KPEG2wTM0KSLaaGdJgE/MSdKIQ\n",
       "MUd+Cwc5dlr1NWq+flEqCU7w9geUeDoB8J56I+UglgIfG7jPNnj4Yfb2z0MUK8x8G7QC/ARoAp2I\n",
       "GjVT/hfj+fbvmtwDsJN6YwqfFkFZwPvWfP51Po8rRjQFDWpVb4y+aZizrY4z4F0xvFFyuFJeHT+P\n",
       "ebM8qsmYg/WDzH0RlwLHEqkCBJchNK+QuWHLzVnNjJSkj/2DHpWNZt/eEgzZdqMlkFaNSEHnQebS\n",
       "2yBWfaQsN+OqCC+mjcYBlQNWi7IE/twg9SaJ4ZdzHKLLlpQtwJEQnZwFzDd4BZy7rN79KR9WfaAk\n",
       "l/favKmsWXwagAepIvHGX5Caq1T4sLUeQzNh+u9ROAVGhYOnhKkQwVr0JKX0/kwmU9pab651ZQ4Q\n",
       "S9dE/aUErfCWDvxagkO027rcjDSO2HbNMZz5mwKZhXFOC0yzxSwGUXVWH+hXI28gLjAVd1yLdTnv\n",
       "DNmapxaxM6ztJE37tOvZKFuA/NjV15Y19sbKjXCy+mHniYCeXoo1vQmXOHzy26c6oEn1thdBOYeG\n",
       "L28uJP7yRKEPMQfWxfTPThSozwKLeOWEWd5YrcFmDrU4CyfWXxmXrpreHBZYjnRVwtsjoBZHPRPY\n",
       "FKx1Eo0kOdbw/vND+m83BPYlfZrqsAAAAABJRU5ErkJggg==\n",
       "\" style=\"display:inline;vertical-align:middle;\" /></a><br>"
      ],
      "text/plain": [
       "distributeNegThroughBinarySum: forall_{a, b in Complexes} ((-(a + b)) = (-a - b))"
      ]
     },
     "execution_count": 9,
     "metadata": {},
     "output_type": "execute_result"
    }
   ],
   "source": [
    "distributeNegThroughBinarySum = Forall((a, b), Equals(Neg(Add(a, b)), Add(Neg(a), Neg(b))),\n",
    "                                      domain=Complexes)"
   ]
  },
  {
   "cell_type": "code",
   "execution_count": 10,
   "metadata": {},
   "outputs": [
    {
     "data": {
      "text/html": [
       "<strong id=\"distributeNegThroughSubtract\"><a class=\"ProveItLink\" href=\"_proofs_/distributeNegThroughSubtract.ipynb\">distributeNegThroughSubtract</a>:</strong> <a class=\"ProveItLink\" href=\"__pv_it/9d3797a01ee44e1e81f0f97116cfbc60b3d9b66e0/expr.ipynb\"><img src=\"data:image/png;base64,iVBORw0KGgoAAAANSUhEUgAAARoAAAAWBAMAAADtKE5GAAAAMFBMVEX///8QEBC6urrMzMxUVFRm\n",
       "ZmZERETc3NwyMjKqqqp2dnaIiIiYmJgiIiLu7u4AAAAU9Wx4AAAAAXRSTlMAQObYZgAAA3BJREFU\n",
       "SMfNlk1oE0EUx18+NmmSTSJeooKSWkFRpDlID6I06kGligE/kLZgUEkRBXOotlCkQTzU0kqgCF6k\n",
       "QSgiIoTaemhBFk/SQglCFRRhhR5ExQSLldJSnLcz3d232Wz0pH/4bXZfZnf/M2/ezAL8V1LrN9kj\n",
       "oBFbvRJY5C7WeYUc55TwYtappSfJoZEqRQ6xR0kJjkX7nJ6/sJUdTnOeYOCeU+sGlUMjNu3QY05A\n",
       "5fh8uIM3c26yH3/aqfG0gEaqFc2zw4yAKGSbqEhWnCxjqgoa2E8p7+Rmm4BGqtWMI/ZJQOSyHcuA\n",
       "8OheQ2sbNOTHPT23nMy4cxwasdEzPPjyHKJd4OQmqE3dK5ylTOa9kxupwKER6J5qzFrSP32CPTrF\n",
       "IWo3nfvbHsWom4a2CQVgDDSOAHTpvR6wmZwKh0bcMbhumQZLEE1AgI0bAtKAJq36hkzNGrO+CnVT\n",
       "TsMiwAPQ2AERY+TH1k++DZ7sEEmPc0zTgF31K3DOMvBr4CqAm+UfIdpoGppVkNLUzagKW5hL0AhD\n",
       "yOj5Xezk5FnF06J6BkWpxDn+4Y8ocXUK4AP+26sF3+Bg5CCaAg/ruKdicfPDuNtbgXCRujkP8BOg\n",
       "FTRCStiY8r8YL3Z+V+U+gN3UjamU2dUSRBbpK8MpaFZqutHvTUM5wRM5vIknch7cq7qbSA5XyhtT\n",
       "l3DerEyoMs7BphHWHZGXPMeUqTz4VyBQiViXmwuqkSlJG4uPWlY2G636izAqdqP1sVkGaU3PFHQd\n",
       "Zpbe+bHqQyU5iasivJzT7/cpHDBHIsvgzY1QNwlMv5zjEF0zTst5OBZIEDeLON/gNXDus3r3pjxY\n",
       "9b6iXNpvcVNds3g1BA9TpOzBm5eSNSp8zFyPgfkgnTfH4QzoFQ6uIk6FEKbQlZDSBzOZTHF7k7HW\n",
       "lThAIt3TTVfjtMLbOvFtcQ7RXvNyM94yTt0sTOLI3xbILI1l1TfHFrMohJUFraNf9XkDMYGhWO21\n",
       "0n5nyDqtxbwvfGdY30laD6i92TBbgLx4q6c9q++N1RvhTG03TwX066Vgu+WY3QSLHP5Px2wntCru\n",
       "jgJELmLgy9vL8b/8otC6mAPzYvpnXxSozwKTeOUE2bwxR/1JDo3YCwfWW52X7rpujgpMn3RZ+5Z9\n",
       "Ahqx1XOBRf56X6KhBMec3n/+kf4bLFv3YMbViEQAAAAASUVORK5CYII=\n",
       "\" style=\"display:inline;vertical-align:middle;\" /></a><br>"
      ],
      "text/plain": [
       "distributeNegThroughSubtract: forall_{a, b in Complexes} ((-(a - b)) = (-a + b))"
      ]
     },
     "execution_count": 10,
     "metadata": {},
     "output_type": "execute_result"
    }
   ],
   "source": [
    "distributeNegThroughSubtract = Forall((a, b), Equals(Neg(subtract(a, b)), Add(Neg(a), b)),\n",
    "                                      domain=Complexes)"
   ]
  },
  {
   "cell_type": "code",
   "execution_count": 11,
   "metadata": {},
   "outputs": [
    {
     "data": {
      "text/html": [
       "<strong id=\"distributeNegThroughSum\"><a class=\"ProveItLink\" href=\"_proofs_/distributeNegThroughSum.ipynb\">distributeNegThroughSum</a>:</strong> <a class=\"ProveItLink\" href=\"__pv_it/384779e70e1b27964f228c651973b7d63fd43c1f0/expr.ipynb\"><img src=\"data:image/png;base64,iVBORw0KGgoAAAANSUhEUgAAAjQAAAAVBAMAAACjymmKAAAAMFBMVEX///8QEBC6urrMzMxUVFRm\n",
       "ZmZERETc3NwyMjKqqqp2dnaIiIiYmJgiIiLu7u4AAAAU9Wx4AAAAAXRSTlMAQObYZgAABRhJREFU\n",
       "WMPtWG1oHEUYfu+re7nbbEILWn9otkZssUiPUvujIr3aYn5oabAN1ETkKHK1KHhCscXU5khUjmLq\n",
       "QRGLIhyh1Yoiq2IVNfZIqIRUbUxrsYXIFaoWk34YavojLed83c7s7ezuhPvrC8/d3s477zPvczPv\n",
       "zizA/+ZllUCP4YFgHwhbFNxWNjYu3aQIJqrZiHpweQCbE2NsEibwvVN+cYYUfGANg22RdIP/2VaG\n",
       "ICLbYinl2GsCOLeStD/Ctw76SxPsQ1odHvFKg9LEGYKIuOWVYx8M4IyTtF9Gn1rGX5pgn6RFwe1b\n",
       "iddfXt1lDXqJIoiI2zj7NnIeNLUGrwA2J8YQ+XdjRX9pgn1CFQpu90i83vPqLmswWimCiLhdZN9N\n",
       "XpnXGrwC2JwYQ6B/uGfPq+AvTbDPCgZe6NDsNrb/tnowvQBpnB12MfgS/TE4sOIsu15UVJRGDCDn\n",
       "3IXThrls9oIkTEmQxsuHWzcDr4mo/5Vi6Pb0/AKkcXY4yuBHZJyHtt9PsIwTnYrSiCOVcx4laW8E\n",
       "2CkJ0ylK4+HD7U0GXtDKAE9Ay3zLLYC1qtLUOlA7zACxArG0hChahqpVLUMEV8KmvKI04kjlnIdJ\n",
       "2veBkQ+SxuUzc2Bzj/h7MQOvCSaeeH03dQse2qwqDevAbBkD+BAlQKvmTkFkG95fhFsVpVnsWB0y\n",
       "zmUk7WZIlsX9yOtPwmfP1Ekj+hhfdpUjayuRA/pT39lrdJZCG5zChmRpIbu102Sw76uX4dNC3V3P\n",
       "4DAXkf4PSRpLE7muKA0OspcEmPTgXE/STpab7YI93fU0/JCoJCrbNp3dVOTSiD7Hl1+t6L0ADzQd\n",
       "h9a6EXOj0mxJc2m2Fwq/FAqvuQcsNmxJq0kjLKkbTmnQ6htcylafc0fIGxwBpJxUGiNv7w2TO/Zf\n",
       "hR+tzkSlbtYQH+OxX48NgI4b2g+hPw42avYqu4uBLygk7LvQZsFXC5g1rMPJz79JiwsqRv7gqYyE\n",
       "qKkUmodkjkqjvKDEkco56YKCnY+iadmz8gjASew7eqjXJQ3xaU6t6rhBN6jf/4w/J5Ijtbn0AoNt\n",
       "i8pgVJdXTa1VIg3uZYgHONrAOhgjt+AM+jnG4LA6omuzfbPwEps1el0ZNhxcQoMQwINzjKb9Ngo7\n",
       "s6rcnKI77dHEzDqXNNinF068cx7W2dIYGf0TzwctepBqc9E2c6/plsa4jZOaYBe8gXXQpvNw0+vh\n",
       "XXezL7NhVutn0tQ/vG2KaxPOBiGAByd9eEMIddj/NbTkImQvMwqlIy5pQiToi+j+I9ls1rq3vW7E\n",
       "DzLwLR8azfCFS0v7JWXYuANvXTPsQmhgHaIWWRr9DH5EyalPNxRMJk3cdCpgU1zMOBvEkco5+2na\n",
       "Op5zj6PlFTmXzT6PpNl3Bd3JOaTBPvHS3bAPLpHaN41rjVhachTc7uSXC3hC0WCpWKfpdVBwEYFd\n",
       "htUPCu4ATk56UGC2BLrCRprOmvDDFedBgVXvoTm0gY7isJHunPP86D4Ljkuk8XyF42zog9DqFCRQ\n",
       "HglL7dBJpfnY/20Mb5AEcHJi1NLWrsOSduig0sC4VJpo9qfnimDswNd/n3vWVH0p8cpbPQt7HXE/\n",
       "xFARuwwUKi8ltGP/WvKdq+pLCSfnZSHtcAa6y/AnSjf8hglRkElTK7Co1rjJdjPw0Tb6KquDIYiI\n",
       "73ByyrF3B3B2uNP+ANUa9wvQMwpkmkXBrbcxZZIpimCimn2hHlwewObEGJ78D9Oj6viVpHcaAAAA\n",
       "AElFTkSuQmCC\n",
       "\" style=\"display:inline;vertical-align:middle;\" /></a><br>"
      ],
      "text/plain": [
       "distributeNegThroughSum: forall_{n in NaturalsPos} [forall_{x in Complexes^{n}} ((-(x_1 +  ...  + x_n)) = ((-x_1) +  ...  + (-x_n)))]"
      ]
     },
     "execution_count": 11,
     "metadata": {},
     "output_type": "execute_result"
    }
   ],
   "source": [
    "distributeNegThroughSum = Forall(n, Forall([xx], Equals(Neg(Add(xIter1n)),\n",
    "                                                        Add(Iter(k, Neg(Indexed(xx, k)), one, n))),\n",
    "                                           domain=Exp(Complexes, n)), domain=NaturalsPos)"
   ]
  },
  {
   "cell_type": "code",
   "execution_count": 12,
   "metadata": {},
   "outputs": [
    {
     "data": {
      "text/html": [
       "<strong id=\"negNotEqZero\"><a class=\"ProveItLink\" href=\"_proofs_/negNotEqZero.ipynb\">negNotEqZero</a>:</strong> <a class=\"ProveItLink\" href=\"__pv_it/c417a6875c1dde3ab44eae932dbca7e1b1a600bd0/expr.ipynb\"><img src=\"data:image/png;base64,iVBORw0KGgoAAAANSUhEUgAAAMUAAAAXCAMAAACMEHvmAAAAQlBMVEX///8LCwsYGBgNDQ0oKCgU\n",
       "FBQJCQkQEBC6urrMzMxUVFRmZmZERETc3NwyMjKqqqp2dnaIiIiYmJgiIiLu7u4AAABNCf5tAAAA\n",
       "AXRSTlMAQObYZgAAArtJREFUWMPdV4uSnSAMte228ibh8f+/WgiigqJuWzudZmZvVgzoSU4eTtN/\n",
       "IeHvPYphqwfi2OAG6KG1367xXRBctHookp8ua7N3vkQsdvQLtt4wL4elnn//HHO6KvYx8ukieF6t\n",
       "tapQ1bsgEFt9xSm4CwUShdCs1tU10r6LYg6tvsrV+TYUxEoWdbV2oEn8y6ltWn0p6uhR3lAlSlqL\n",
       "drWOKouHd1FIaPWRMQKBzaUMgTwC26e8jlBQ4Got6L7Sz916RQY6BgD79zCu1YdDMwAVy4XdAiYN\n",
       "yce3/Ct6FLBas3wvjAMdnAHh5ZaU6q5KIiyn7tOCtbqPRMzopKqQLkPRoSjWOSPw4KKAUsq0yrlK\n",
       "+cgNPEGh6d2pAsY2iyNrtDZ+k7QkKAp+cRWPfaTENA0ZVawzAt9XDlRMh5BWnSZT9ggF8TIQAG+v\n",
       "UPQSFW3kAxSm43vNbrdZJzbVfqolAgXPVV4zbsvR+hTFumHaoPKCou0Ls211T6hsbeMyEe0YJXOw\n",
       "vn4pQVNtpbVUaau10ksxDl6nA8O+fWJwfZh2KNYNgnLwR/rDVMZPUCjX6o6+VDOFmYrLnLkOxdL1\n",
       "oHSHxdrKpVmIFAGe/+fwDMW6YZq25DqNRS2eJ0W0li7r5QRnRuw4eWW+hpk31jNupMW8hXtqIio5\n",
       "ljE+RrFuIIeq6lh9pA7zrT52C2RcYeGEYdehyNMgoFherFov7qa0VC7V/LChFwGHebFtUIlL3z8M\n",
       "MWoiH8Xu0UtDW/XzCcTKz80racbhkWdMYn0WlzTX42m/2DbUKjvVfqEGI567HxKgJaMPn7FOj5bo\n",
       "MDeJxI41qAESvfazmDrbkJbDbn5FGX55Mu868F0oLgczKHlx1hRO7e2dj2us9N1XktCfCYV4Pjo9\n",
       "QHE/q2ps9ehDhD8f247Wv4fCvfx58sdF/HNv9BMnNiewz8XKhgAAAABJRU5ErkJggg==\n",
       "\" style=\"display:inline;vertical-align:middle;\" /></a><br>"
      ],
      "text/plain": [
       "negNotEqZero: forall_{a in Complexes | a != 0} ((-a) != 0)"
      ]
     },
     "execution_count": 12,
     "metadata": {},
     "output_type": "execute_result"
    }
   ],
   "source": [
    "negNotEqZero = Forall(a, NotEquals(Neg(a), zero), domain=Complexes, conditions=[NotEquals(a, zero)])"
   ]
  },
  {
   "cell_type": "code",
   "execution_count": 13,
   "metadata": {},
   "outputs": [
    {
     "data": {
      "text/html": [
       "<strong id=\"multNegOneLeft\"><a class=\"ProveItLink\" href=\"_proofs_/multNegOneLeft.ipynb\">multNegOneLeft</a>:</strong> <a class=\"ProveItLink\" href=\"__pv_it/c03eea0878deba8fbce661940e164c749216c95d0/expr.ipynb\"><img src=\"data:image/png;base64,iVBORw0KGgoAAAANSUhEUgAAAOEAAAAVBAMAAABCnpRGAAAAMFBMVEX///8QEBC6urrMzMxUVFRm\n",
       "ZmZERETc3NwyMjKqqqp2dnaIiIiYmJgiIiLu7u4AAAAU9Wx4AAAAAXRSTlMAQObYZgAAArxJREFU\n",
       "SMe9Vk1oE0EUfptNsya7XYMXEVGjFRRF2IN4ECRSpT2JghSkQVCRLWLBHMSqQVyKghQtAREED+ZS\n",
       "RANlwVbwh2bxolSU4KEHUdiCSKmiQUEvHpy/zczOZJubDz6y8+2b+WbfvPcmAP/dwpVepnwOwayC\n",
       "7KgyADul8UuGJh68SVDcLSCyDNrjUcVTZfT9EtHjUDzEg8kExUkBzOxzSHGV4tmBUaLnUVxAP8aJ\n",
       "zoKmzxEJHjyMVrJqSlgV5rmy3DwF3kpPtbOiFnK0rYEGdl52VZmNynKLFNaDsbErCUHdLiCmCGcU\n",
       "X5lJeYpLpkrx23U/JCgOC4grTvHx5ZlLs36MoXkihNmoD94rAeSOUBwAGElQvCkgrniXh7NmfdSa\n",
       "jDl2A9s1kjgBn7IMb4MNAFmPYivYsQB8mzhUYo9rBMQVNxMx/JQDs5V1GCPmgFChNWjAbRToPEUv\n",
       "mNF27NmhQN8T6hNs/JPDuPUJW4EpFvHrH7iWbUiTTC9KiquR60Uy5z3qMgOkQlsUZtAbpeKTbd9D\n",
       "qwKwQ1WUvpGsv0iLSvOTFLmtFxVtD3eUev+MY6FThT70+QbzWyegQ1SZXXVwqyTMcfJRC2QfYsUZ\n",
       "v1As2lGFkX50GuGAViV9Y+4ddxwVEFd8zUu/3AAzFBlWCkLmvDJbMIdcPQq4g44jhfNxr6w4JSCp\n",
       "Ou4HJ6ECanXgMmCW/ZvJGz6vDnYOfwD2ua7rb+njs3YJiGxo03W0+/H2+Muz5Tr+nHG5AzR5AZ2d\n",
       "fvQCF0yBAiy8aT2vw2f8Ov2Vn6NW5ujS01RmbVKXo1bMeTlI44X14XK7CeP2HCEeMh+6MvOKYp2B\n",
       "xuZpaRrsU6RBLJwurHBbEVtSVlvqflvhRmNL3TaHzjFGnBcg2qCyvsoY8o2MQ5gud/lLgjMsgnhv\n",
       "OspN6qiTK9L4McU/1Z3QbEO7aJkAAAAASUVORK5CYII=\n",
       "\" style=\"display:inline;vertical-align:middle;\" /></a><br>"
      ],
      "text/plain": [
       "multNegOneLeft: forall_{x in Complexes} (((-1) * x) = (-x))"
      ]
     },
     "execution_count": 13,
     "metadata": {},
     "output_type": "execute_result"
    }
   ],
   "source": [
    "multNegOneLeft = Forall(x, Equals(Mult(Neg(one), x), Neg(x)), domain=Complexes)"
   ]
  },
  {
   "cell_type": "code",
   "execution_count": 14,
   "metadata": {},
   "outputs": [
    {
     "data": {
      "text/html": [
       "<strong id=\"multNegOneRight\"><a class=\"ProveItLink\" href=\"_proofs_/multNegOneRight.ipynb\">multNegOneRight</a>:</strong> <a class=\"ProveItLink\" href=\"__pv_it/5ae662ff9d96fcacb469a2bca0e123cc48409e4f0/expr.ipynb\"><img src=\"data:image/png;base64,iVBORw0KGgoAAAANSUhEUgAAAOEAAAAVBAMAAABCnpRGAAAAMFBMVEX///8QEBC6urrMzMxUVFRm\n",
       "ZmZERETc3NwyMjKqqqp2dnaIiIiYmJgiIiLu7u4AAAAU9Wx4AAAAAXRSTlMAQObYZgAAAslJREFU\n",
       "SMe9Vk1oE0EUfptNsia7XYOXIqJEKyiKkIN4EKRSpT0JigjSKFSRFLFIDmLVIAbxIEVKQATBg7kU\n",
       "0UAJ2Ar+0AYvSkQJHnoQhQRKkSoaFNSDiPPmTXd3ZrMbT37w7WZ2v91v5r03bwPw39EMuxmpEmVs\n",
       "l4fPGa20/2FFxnXIBg5eBTjuFJSg7/UMzgLEMux8GEJlCNQh7+NgMsBxstO9VZ6wLP1hhyJehDAZ\n",
       "oUg8z07GSGdDs0qU8dT9ubgfHesY1nKITKBOxKnESp0dtSZRxgbvnNCxxWinwmSEFtG6Nz5+OSCo\n",
       "WwXlaiqqjnGc8OkwGQF1yB+53LsAx2HBSzMXZ53gxsqqY/IgO0ypdeKRGZWhO1nSIfcBjAY43iDa\n",
       "Zeu91nAqoqY6JnA5t3F49Drimipbhte19aRDbgZbCsDniQNZ8XMNMQlmO4FbwMacamnVMYI53KjW\n",
       "gEdWhnm4STpkD5gr07Fnj9T0XU19Qoy/EW2IUjF/xYWuZq+68AHxVjjqbXboVxy9siYMgtAhzVrP\n",
       "Sjk+2vKlaRUAtsmObMKUxdaIeJW8xkBHF+u8jnYRu0plYCZjYQX0seUbQrdWEK5k3G6olYKjepwv\n",
       "asEnM76zQDlRhdEBlqrmoFbifWPujSscI1r5eTAdx7ivciysg5fqVvDIXphtmCMd195i2YlgTe5W\n",
       "HaeId2snoOBc5Huh++7wyBK/4ymj6u4OkaSfAHtyuVx1U5/71A7i0pPlijvjSMOz6Q79OsY2Aqbs\n",
       "qtoBXJl9ZvrBMyAd11oYMD2lwyLejn5y86jliTJ6O3Uvf5frDepyhP5kMQlRfLk+nHeaMLZnf4uu\n",
       "qxcqGMRqVxnXVZyvzuPsNNgneYNYOJX+568VDxoWw8fuXyvU2Uq3TbI8ShfOCUowlE8tD80QdJNx\n",
       "XTTf5S8JVpjhi1dBHj7Ems34H1ZkXMf4F6qPzkFjQIfHAAAAAElFTkSuQmCC\n",
       "\" style=\"display:inline;vertical-align:middle;\" /></a><br>"
      ],
      "text/plain": [
       "multNegOneRight: forall_{x in Complexes} ((x * (-1)) = (-x))"
      ]
     },
     "execution_count": 14,
     "metadata": {},
     "output_type": "execute_result"
    }
   ],
   "source": [
    "multNegOneRight = Forall(x, Equals(Mult(x, Neg(one)), Neg(x)), domain=Complexes)"
   ]
  },
  {
   "cell_type": "code",
   "execution_count": 15,
   "metadata": {},
   "outputs": [
    {
     "data": {
      "text/html": [
       "<strong id=\"negTimesPos\"><a class=\"ProveItLink\" href=\"_proofs_/negTimesPos.ipynb\">negTimesPos</a>:</strong> <a class=\"ProveItLink\" href=\"__pv_it/726aad6645872de3847070d356bf2448e5b074440/expr.ipynb\"><img src=\"data:image/png;base64,iVBORw0KGgoAAAANSUhEUgAAAR0AAAAWBAMAAAAP9FU/AAAAMFBMVEX///8QEBC6urrMzMxUVFRm\n",
       "ZmZERETc3NwyMjKqqqp2dnaIiIiYmJgiIiLu7u4AAAAU9Wx4AAAAAXRSTlMAQObYZgAAA01JREFU\n",
       "SMfNVltoE0EUPcnm0Ty6CS0oIshqBUUpjSCCgqRUUFAKxQdIi1ilpPj42A+xatEGQZCiJaCC4Ef3\n",
       "p4gUJWIT0IJd/JIKki8/ioUURKSVWhTsh1qcyW5yZ7ZLtn964CSbkz13787cOzPAf4byGu7x54ki\n",
       "4ho8BDhNO93ivxFY4sK7+vnsFijhmKfgMCntbvGDKeITLozUz2dEoIQGT8FhanCfjizxMvsK99ZN\n",
       "J5YnOubH8BIcpkn3J0wTecbBXN18fGWiDDXpJThMm9yfMEeMPx4YuF5/urYLdOCcpyCZ/Fn3J4Ry\n",
       "xJ+ZzEz9fLoFVnFt4mqBzcRYTZjvRnhFFAQzFa5BVms8xwwMlRHtQo0HgP76+dwRWI1jxD/6WGs+\n",
       "rClGG2JLthC8XUE7ZBMrDpOsFUT9S5gCIlniVqhuo/h1uLPHvmwSWI3DHh5h3bm5khwrESV3CqFe\n",
       "WxDRJBWTRlYsMu4NlpBh85gkNiJmOoqycMJU9pSVYfv3d2L47iyHpiJQ6ck0//jG3lbFRiTytiBC\n",
       "MAEJjd9pWdU/fDX25fGLvc0SMWY2OvqmuG2xHB8EdqzOR3jVfC2fOR4/soJ0yj0fQkIjq7qOf46W\n",
       "lR9yPmqWr6DjHRMsmr/I+jPOigot99h72VE2CKxhKMW3GpqeYBbPYQvBynjM9sJp8uXIauEkYkl5\n",
       "vtDfwSa1fJDfu5DQd1lr7Ov3FOWiwOq6p08hxoK+pVLtQh9EQTBTX5tktXALIVb28SwRD9j0+60+\n",
       "uNGKIvY58xkTaGPUPINBSQq2+3/Dpd8lgfdz1WrhONpMSP1uT+dy5e/DOIL9mUwmv6WForQKtPH5\n",
       "1fw474Kb1AQXCsuSIJhpPSyR1Q40eVpng6sREeeDpyQVqzub8YlfBBaofnw6sc72EC257heSaf3q\n",
       "heWpvF9YSEezUVzR0czWpwCPoHTrtc2Pb5JVyojSZtmJuZwkuO6w045/AyWVF/y4QGvYXvY8Q9rE\n",
       "/WIW6tnK+v+hT/M8b3yhyxmcl4U1nTcajZCByoJcpQgzrAfYC0ZZ/Uj6JYESDtHlo4ImC6K5hrDj\n",
       "PBaZPMpHSSeKhzc9ZGx328DCeaJ0tknBQ4DTNOgW/4VAcapZusY/Ps7/BWi0CJLJujIjAAAAAElF\n",
       "TkSuQmCC\n",
       "\" style=\"display:inline;vertical-align:middle;\" /></a><br>"
      ],
      "text/plain": [
       "negTimesPos: forall_{x, y in Complexes} (((-x) * y) = (-(x * y)))"
      ]
     },
     "execution_count": 15,
     "metadata": {},
     "output_type": "execute_result"
    }
   ],
   "source": [
    "negTimesPos = Forall([x, y], Equals(Mult(Neg(x), y), Neg(Mult(x, y))), domain=Complexes)"
   ]
  },
  {
   "cell_type": "code",
   "execution_count": 16,
   "metadata": {},
   "outputs": [
    {
     "data": {
      "text/html": [
       "<strong id=\"posTimesNeg\"><a class=\"ProveItLink\" href=\"_proofs_/posTimesNeg.ipynb\">posTimesNeg</a>:</strong> <a class=\"ProveItLink\" href=\"__pv_it/bc6810938af0240e99b74df4aee8851ed2d646ca0/expr.ipynb\"><img src=\"data:image/png;base64,iVBORw0KGgoAAAANSUhEUgAAAR0AAAAWBAMAAAAP9FU/AAAAMFBMVEX///8QEBC6urrMzMxUVFRm\n",
       "ZmZERETc3NwyMjKqqqp2dnaIiIiYmJgiIiLu7u4AAAAU9Wx4AAAAAXRSTlMAQObYZgAAA1dJREFU\n",
       "SMfNll9IFEEcx7/3X+/W9VAoIogrg6QQDSIoCMWgoBCkPxBKZCEnlQ/7IGlJeQRBSIlQQdCD9yIR\n",
       "UlykQgm59BQGcfTQgxScEBIaIgX1UEkz+5u72dnbXeypvvC52xvn+/O3M/ObGeA/U2EdfYI5QtUu\n",
       "9aeWItzMnibSKxt53vDGP589AkWhFkfDcYGL2dtkKdIkecQbRvzzGXHrUuEc2QqBi9nbRMpILrGv\n",
       "WJdvOokcoWrG2aBliXKzj4k0J+EZR0Z98wkUCFVbnA16kig3+5hICxLtYX//Vf/pqheoyzRT1u+8\n",
       "oMzsZ7IUHZV8T6fn/fPpEFyZvDxVGv2IbWaWOhBbA8ZBlJmhmOxh9PEshgqIt6PEQaDHP59bhJ7V\n",
       "PgTypZVpyg7ZRiRWgfsgELlpqaVoht2khIkHVzELVGYk26G7jeKX4bZO8VhDxNk/rWQViRVrXcit\n",
       "JjR6GlFWEltBKKpRFlPKEWZfJI80m8ekpAoJ07Ewp06aob2F0LD4/ZXQEbbqUP/NP6tZ6IGPXO90\n",
       "bEY1m4FmEIqYMXbb6pcikxKmEMjhJ3ujVUnCrHLUzvSOlYI2COxU82GvZ027vqGYT1GVa2hu8s5H\n",
       "ikz2MGOF0Dc1Hz3Dd9CJ1kkWMTjN6lNjiwp1d9h7iSibBBhqksdLwLZHRDJ4Ctt8Razx+NhVNEM1\n",
       "2cOcQiKpzhd6WtmkFg7xvsvVxm7aY1++lVF6Cc2YRaIUKGqb5Ip2dLOv1wJFvUpdm84wNxBly17L\n",
       "SHCPLfYg1cG1BkxjvzMfUcdj5lkMlhp5aZbGpyX4Cx71rjRwkxrmBBpNKPUupvOH9ecjOIoD6XQ6\n",
       "t61ORmkgFl8sTchBCeZtBXBxituvCxQ1KPth3hlmceaMwQY4JYHGBy+UDFF11uITfwgvy/UTMAhV\n",
       "G5UXz3ueF4anifRYPS9IzfFMHAMGatn+FOYRQh1G6fBzPyjn5GMbFtjii+eI8lPW1WQpnNf5gp+w\n",
       "QcP2vPMJmk3cnc5AP2edAe+7U+u9b8zjAvv8LPib+0ZVNpqFtSEXscuMGWH+kmz9KO19AkUxebV6\n",
       "MMVTPyxwqM/DRDvXzDE+SobEfnkzotl6twMsliNUDTouOk2Em9nTRHpmwz7VLN3sP77O/wE2zQbB\n",
       "tbZwDQAAAABJRU5ErkJggg==\n",
       "\" style=\"display:inline;vertical-align:middle;\" /></a><br>"
      ],
      "text/plain": [
       "posTimesNeg: forall_{x, y in Complexes} ((x * (-y)) = (-(x * y)))"
      ]
     },
     "execution_count": 16,
     "metadata": {},
     "output_type": "execute_result"
    }
   ],
   "source": [
    "posTimesNeg = Forall([x, y], Equals(Mult(x, Neg(y)), Neg(Mult(x, y))), domain=Complexes)"
   ]
  },
  {
   "cell_type": "code",
   "execution_count": 17,
   "metadata": {},
   "outputs": [
    {
     "data": {
      "text/html": [
       "<strong id=\"negTimesNeg\"><a class=\"ProveItLink\" href=\"_proofs_/negTimesNeg.ipynb\">negTimesNeg</a>:</strong> <a class=\"ProveItLink\" href=\"__pv_it/6e520ce8735d9ab150b7257ed8987a883a282cc90/expr.ipynb\"><img src=\"data:image/png;base64,iVBORw0KGgoAAAANSUhEUgAAARoAAAAWBAMAAADtKE5GAAAAMFBMVEX///8QEBC6urrMzMxUVFRm\n",
       "ZmZERETc3NwyMjKqqqp2dnaIiIiYmJgiIiLu7u4AAAAU9Wx4AAAAAXRSTlMAQObYZgAAAxVJREFU\n",
       "SMfNVkFIFFEY/nfGdXVmHUWhiCA0OgQhbVRQpxWDhKIQpIsVWMSKKTGHSEuyxVOHEg8FQYf20CYh\n",
       "xQQqlIf2EkldJKiDJGyXRTREOuSlpPdm3tv/n5k3Y7f64GffvO/7f/793/vfewD/Fcp/odEcNIp0\n",
       "K/06ECb9AgwWghQv8o+P8dkcIeZDDxnrHQqyRx0sDCF+zscT8dlMEPOhjo7LCrJOHSwMIb7BflJ9\n",
       "scmYDlqgwAUcz6tIKsBgqqXyxPwvJSdjs0mU0fywmnC8R0VSAQZTQIjTU8PDt+MXaj+xAAZwc+aV\n",
       "5IAqmApC/DOXW4rPppeYxK2Zm7Os5sXqRJKsyWovpLY8sqgKJpxV4hMA/fHZ3CMmC1tIf02wdnyE\n",
       "27CEbOEgmBse6QqSd110iGDSWSXeB1ZesY4LTz/L9JuJCRgsQn0GoI1/rLv7AY8WffIi1PZ5ZFsw\n",
       "cDM6u44BcQOYJb/D2rkLcPgaHJO1/4GWur/M0WpBjduHWZ74bz5qZNmMuOQnC3ZDo+OR2WA2LIh0\n",
       "dh0DYrPU4N/m5uWxdXjvgKbIhvSGU81mh8xGon4LspnobKSz5+gXW3l+Ok53zrApbY514DveIcfZ\n",
       "ly0C7CJWxZ0Mv1RwIRLklEjm4RWQlUq6NVvuk8GEs1Lc38mWsnySh1trtA8B30Xmd1KvIWLysLLf\n",
       "gskkC9WZWrLcdd1wBTxyIVibIXRWih+y7a15DTPWDnN6IZhNEULd+qR0CUZ9U0Y3qU2H9gsiOryI\n",
       "zkqxt4ibLnUKTutfcrlBbW8GA7QTE6i8WZ3mxRjH02+RNOTg7KYgx4PZtKOzUpzmZdCbdK//Wiz3\n",
       "WDjr4L5J2GjRN8NOShiLkTdDKEhYnDXyBozY0KJtQBefODqF95u8/sJXoEGuwA84PAPfJj3SiL1o\n",
       "o8SV1+dfQrYED+byUOG9ar3IdW7/olhRvyiW4KogV7Z/UUSKSym7huX3LDfon79OzIcuMk7ha+vx\n",
       "bKsgu8LZBINEiXW7tqC8YlMOmu+czNCv0TDpF2Cw8BMqLE5D/Xzhnz7S/wAs6v8jtRzsNwAAAABJ\n",
       "RU5ErkJggg==\n",
       "\" style=\"display:inline;vertical-align:middle;\" /></a><br>"
      ],
      "text/plain": [
       "negTimesNeg: forall_{x, y in Complexes} (((-x) * (-y)) = (x * y))"
      ]
     },
     "execution_count": 17,
     "metadata": {},
     "output_type": "execute_result"
    }
   ],
   "source": [
    "negTimesNeg = Forall([x, y], Equals(Mult(Neg(x), Neg(y)), Mult(x, y)), domain=Complexes)"
   ]
  },
  {
   "cell_type": "code",
   "execution_count": 18,
   "metadata": {},
   "outputs": [
    {
     "data": {
      "text/html": [
       "<strong id=\"doubleNegation\"><a class=\"ProveItLink\" href=\"_proofs_/doubleNegation.ipynb\">doubleNegation</a>:</strong> <a class=\"ProveItLink\" href=\"__pv_it/a57bcb13bd68b2226170260b0b686f1c31f65c9a0/expr.ipynb\"><img src=\"data:image/png;base64,iVBORw0KGgoAAAANSUhEUgAAALwAAAAVBAMAAAAOdJm+AAAAMFBMVEX///8QEBC6urrMzMxUVFRm\n",
       "ZmZERETc3NwyMjKqqqp2dnaIiIiYmJgiIiLu7u4AAAAU9Wx4AAAAAXRSTlMAQObYZgAAAhBJREFU\n",
       "OMu1lT9I3FAcx38xd5wmMUi3btdeoaUgZBAHQa5Y0KlQkC7eoqVEhA43iKIiHk4i7SGUQrfeIiJC\n",
       "yaCCCnqjIEinDqVChiKiUoqDrr53v1/M++VeFAe/8CHvfb/JI/m9PwF4WIW3hS0Bwh1VTh7RSfo/\n",
       "ZeMgZfgugjtMg4ROwl+V12pKXm3Kmu5sJXQS/oS45Ib1sR0g3ElUoIZoq1ODVlH87JI+NkKEO1xu\n",
       "B6KT8J2VycnZlI97QXAnoTFCJ+Ff+v7vlHSI4E6k6fWpDVGrZUCY4uw1wGjK8J8I7kRfXnP+GGLd\n",
       "fQMEsgsNveLZM3Ar6gjni29K1HxExFJ6Ftj/2zyAJ4CoUrJ2sOvRC228q5vdoblI/Qsk9/lIKs97\n",
       "LmQaC65IsDmNM7veHi2Hzef/QmcG4CUfXhHrGUHa8ErmVuROXOtb95y3olH4Il6Q7nlMxGK9OU8e\n",
       "KTfFyTa+6mg4kY32iWKF/cZSY/PtHsbPfyS4E+2Z8h7YYoh9QNh+UrKvYopb5JroSQ7fvOaU3vf6\n",
       "CMyAfmGqGZbpCqDX9/3gaSG+q5PgDul4+3RNrol5QpWaOXJmzQ4T/sokcxbX3igjyoyV73kooIpW\n",
       "xYKMfNYcKsNO6nHVfHhZAaLTjX+8VfoB7nvZPP31IX+PA/mE0CnhW6L2zBgnuMM0QOg0cMefMhcg\n",
       "3GE/AA/R/i48uAYQNaCmdyMWgAAAAABJRU5ErkJggg==\n",
       "\" style=\"display:inline;vertical-align:middle;\" /></a><br>"
      ],
      "text/plain": [
       "doubleNegation: forall_{x in Complexes} ((-(-x)) = x)"
      ]
     },
     "execution_count": 18,
     "metadata": {},
     "output_type": "execute_result"
    }
   ],
   "source": [
    "doubleNegation = Forall(x, Equals(Neg(Neg(x)), x), domain=Complexes)"
   ]
  },
  {
   "cell_type": "code",
   "execution_count": 19,
   "metadata": {},
   "outputs": [
    {
     "name": "stdout",
     "output_type": "stream",
     "text": [
      "Theorems may be imported from autogenerated _theorems_.py\n"
     ]
    }
   ],
   "source": [
    "%end theorems"
   ]
  }
 ],
 "metadata": {
  "kernelspec": {
   "display_name": "Python 3",
   "language": "python",
   "name": "python3"
  }
 },
 "nbformat": 4,
 "nbformat_minor": 0
}
