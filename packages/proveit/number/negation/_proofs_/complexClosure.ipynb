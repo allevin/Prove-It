{
 "cells": [
  {
   "cell_type": "markdown",
   "metadata": {},
   "source": [
    "Proof of <a class=\"ProveItLink\" href=\"../../../_context_.ipynb\">proveit</a>.<a class=\"ProveItLink\" href=\"../../_context_.ipynb\">number</a>.<a class=\"ProveItLink\" href=\"../_context_.ipynb\">negation</a>.<a class=\"ProveItLink\" href=\"../_theorems_.ipynb#complexClosure\">complexClosure</a> theorem\n",
    "========"
   ]
  },
  {
   "cell_type": "code",
   "execution_count": 1,
   "metadata": {},
   "outputs": [],
   "source": [
    "import proveit\n",
    "context = proveit.Context('..') # the theorem's context is in the parent directory"
   ]
  },
  {
   "cell_type": "code",
   "execution_count": 2,
   "metadata": {},
   "outputs": [
    {
     "name": "stdout",
     "output_type": "stream",
     "text": [
      "Beginning proof of complexClosure\n",
      "Recorded 'presuming' information\n",
      "Presuming previous theorems (applied transitively).\n"
     ]
    },
    {
     "data": {
      "text/html": [
       "<strong id=\"complexClosure\">complexClosure:</strong> <a class=\"ProveItLink\" href=\"../__pv_it/2309b723a0d91be0b14c3fa72143b8268661b6ee0/expr.ipynb\"><img src=\"data:image/png;base64,iVBORw0KGgoAAAANSUhEUgAAAJcAAAAVBAMAAAC5yWGZAAAAMFBMVEX///8QEBC6urrMzMxUVFRm\n",
       "ZmZERETc3NwyMjKqqqp2dnaIiIiYmJgiIiLu7u4AAAAU9Wx4AAAAAXRSTlMAQObYZgAAAklJREFU\n",
       "OMtjYKAmeIBPkmkDBCODQzjUgsQvgBincSgwgWJkwGqAror7Rr9sKlh8JYjbh8OwPmxyDWh8Zn0F\n",
       "vvVbwOJlQC57AnazuDdAMCo4hcY/4MPAwPkFLM4BDDTWCdgNY3wAwajgIYTi23H3LsiRPA8EgGQI\n",
       "WJxneXl5LQ5fakAxKmCDWG1xDhqG7A5A8jVE/Fta2i0chkVBMQywey8SZ2DgCgCz86CCT5kWQBgg\n",
       "cWcGhnQchvVAMQwoFrB9AIYPOAbYCqCCVpwHIAyQuAoDH0r8vOnyjYYyhaAY5rA/DKzAqGIChRHD\n",
       "M5ioFRPUMJA4LwM3lMfAtzX0ALPZA+YuKP8TBLP33gUBBZYPDLzAuGX+AHYlSAjkimfMUG+CxLkP\n",
       "8MIibJv6uwc81QwMWqiGwQB/AsN7A5hh8LTM8cABYRhfA0i8dFcyAw8oZJUnA50CVScJxVBQv4Fh\n",
       "PjD7Qbz5FibKswBkGB/U++lOQPZ19n8MHCC5fecQunOgGAreT2Dw4DRg4AEHMcsBuCptIKH7ACI+\n",
       "FZg9WQKYLzBYoRu2FIphHjrAeZULljT4LsGEWdz28anlQcUZgYHKr8DtwGCblpa2QUkZoVsXiuHJ\n",
       "bJPZJqCZCmBeRTBM3PT+RycGqDgPMPzfP2A7V/AEbM9rRJgxFkAw1uzEMKX3bgM2cWAOtLd5wALS\n",
       "xxxVwLAbHrYQjApW40jicHGm6NMxDHxJIOaraykK+IogvgbsZqGLcwHDDEWgBIqRAUsBdsNwiSOC\n",
       "fAMEI4PNONQCxQGQfJropkOMnQAAAABJRU5ErkJggg==\n",
       "\" style=\"display:inline;vertical-align:middle;\" /></a><br>(see <a class=\"ProveItLink\" href=\"../__pv_it/2309b723a0d91be0b14c3fa72143b8268661b6ee0/dependencies.ipynb\">dependencies</a>)<br>"
      ],
      "text/plain": [
       "complexClosure: forall_{a in Complexes} ((-a) in Complexes)"
      ]
     },
     "execution_count": 2,
     "metadata": {},
     "output_type": "execute_result"
    }
   ],
   "source": [
    "%proving complexClosure presuming []"
   ]
  },
  {
   "cell_type": "code",
   "execution_count": null,
   "metadata": {},
   "outputs": [],
   "source": []
  }
 ],
 "metadata": {
  "kernelspec": {
   "display_name": "Python 3",
   "language": "python",
   "name": "python3"
  }
 },
 "nbformat": 4,
 "nbformat_minor": 0
}
