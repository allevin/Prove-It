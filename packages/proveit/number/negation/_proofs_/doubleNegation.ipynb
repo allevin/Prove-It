{
 "cells": [
  {
   "cell_type": "markdown",
   "metadata": {},
   "source": [
    "Proof of <a class=\"ProveItLink\" href=\"../../../_context_.ipynb\">proveit</a>.<a class=\"ProveItLink\" href=\"../../_context_.ipynb\">number</a>.<a class=\"ProveItLink\" href=\"../_context_.ipynb\">negation</a>.<a class=\"ProveItLink\" href=\"../_theorems_.ipynb#doubleNegation\">doubleNegation</a> theorem\n",
    "========"
   ]
  },
  {
   "cell_type": "code",
   "execution_count": 1,
   "metadata": {},
   "outputs": [],
   "source": [
    "import proveit\n",
    "context = proveit.Context('..') # the theorem's context is in the parent directory"
   ]
  },
  {
   "cell_type": "code",
   "execution_count": 2,
   "metadata": {},
   "outputs": [
    {
     "name": "stdout",
     "output_type": "stream",
     "text": [
      "Beginning proof of doubleNegation\n",
      "Recorded 'presuming' information\n",
      "Presuming previous theorems (applied transitively).\n"
     ]
    },
    {
     "data": {
      "text/html": [
       "<strong id=\"doubleNegation\">doubleNegation:</strong> <a class=\"ProveItLink\" href=\"../__pv_it/a57bcb13bd68b2226170260b0b686f1c31f65c9a0/expr.ipynb\"><img src=\"data:image/png;base64,iVBORw0KGgoAAAANSUhEUgAAALwAAAAVBAMAAAAOdJm+AAAAMFBMVEX///8QEBC6urrMzMxUVFRm\n",
       "ZmZERETc3NwyMjKqqqp2dnaIiIiYmJgiIiLu7u4AAAAU9Wx4AAAAAXRSTlMAQObYZgAAAhBJREFU\n",
       "OMu1lT9I3FAcx38xd5wmMUi3btdeoaUgZBAHQa5Y0KlQkC7eoqVEhA43iKIiHk4i7SGUQrfeIiJC\n",
       "yaCCCnqjIEinDqVChiKiUoqDrr53v1/M++VeFAe/8CHvfb/JI/m9PwF4WIW3hS0Bwh1VTh7RSfo/\n",
       "ZeMgZfgugjtMg4ROwl+V12pKXm3Kmu5sJXQS/oS45Ib1sR0g3ElUoIZoq1ODVlH87JI+NkKEO1xu\n",
       "B6KT8J2VycnZlI97QXAnoTFCJ+Ff+v7vlHSI4E6k6fWpDVGrZUCY4uw1wGjK8J8I7kRfXnP+GGLd\n",
       "fQMEsgsNveLZM3Ar6gjni29K1HxExFJ6Ftj/2zyAJ4CoUrJ2sOvRC228q5vdoblI/Qsk9/lIKs97\n",
       "LmQaC65IsDmNM7veHi2Hzef/QmcG4CUfXhHrGUHa8ErmVuROXOtb95y3olH4Il6Q7nlMxGK9OU8e\n",
       "KTfFyTa+6mg4kY32iWKF/cZSY/PtHsbPfyS4E+2Z8h7YYoh9QNh+UrKvYopb5JroSQ7fvOaU3vf6\n",
       "CMyAfmGqGZbpCqDX9/3gaSG+q5PgDul4+3RNrol5QpWaOXJmzQ4T/sokcxbX3igjyoyV73kooIpW\n",
       "xYKMfNYcKsNO6nHVfHhZAaLTjX+8VfoB7nvZPP31IX+PA/mE0CnhW6L2zBgnuMM0QOg0cMefMhcg\n",
       "3GE/AA/R/i48uAYQNaCmdyMWgAAAAABJRU5ErkJggg==\n",
       "\" style=\"display:inline;vertical-align:middle;\" /></a><br>(see <a class=\"ProveItLink\" href=\"../__pv_it/a57bcb13bd68b2226170260b0b686f1c31f65c9a0/dependencies.ipynb\">dependencies</a>)<br>"
      ],
      "text/plain": [
       "doubleNegation: forall_{x in Complexes} ((-(-x)) = x)"
      ]
     },
     "execution_count": 2,
     "metadata": {},
     "output_type": "execute_result"
    }
   ],
   "source": [
    "%proving doubleNegation presuming []"
   ]
  },
  {
   "cell_type": "code",
   "execution_count": null,
   "metadata": {},
   "outputs": [],
   "source": []
  }
 ],
 "metadata": {
  "kernelspec": {
   "display_name": "Python 3",
   "language": "python",
   "name": "python3"
  }
 },
 "nbformat": 4,
 "nbformat_minor": 0
}
