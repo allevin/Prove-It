{
 "cells": [
  {
   "cell_type": "markdown",
   "metadata": {},
   "source": [
    "Proof of <a class=\"ProveItLink\" href=\"../../../_context_.ipynb\">proveit</a>.<a class=\"ProveItLink\" href=\"../../_context_.ipynb\">number</a>.<a class=\"ProveItLink\" href=\"../_context_.ipynb\">negation</a>.<a class=\"ProveItLink\" href=\"../_theorems_.ipynb#negatedZero\">negatedZero</a> theorem\n",
    "========"
   ]
  },
  {
   "cell_type": "code",
   "execution_count": 1,
   "metadata": {},
   "outputs": [],
   "source": [
    "import proveit\n",
    "context = proveit.Context('..') # the theorem's context is in the parent directory"
   ]
  },
  {
   "cell_type": "code",
   "execution_count": 2,
   "metadata": {},
   "outputs": [
    {
     "name": "stdout",
     "output_type": "stream",
     "text": [
      "Beginning proof of negatedZero\n",
      "Recorded 'presuming' information\n"
     ]
    },
    {
     "data": {
      "text/html": [
       "<strong id=\"negatedZero\">negatedZero:</strong> <a class=\"ProveItLink\" href=\"../__pv_it/9340741d07a2087160e8c0eb05b6cfbd55c9cbf70/expr.ipynb\"><img src=\"data:image/png;base64,iVBORw0KGgoAAAANSUhEUgAAAE8AAAAVBAMAAAD1D64kAAAAMFBMVEX////c3NwiIiJERESqqqqY\n",
       "mJh2dnZmZmYQEBDu7u4yMjJUVFTMzMyIiIi6uroAAAAs73DqAAAAAXRSTlMAQObYZgAAARpJREFU\n",
       "KM9jYCAa8F1A4bI+wKXwNII5/W4NA0MNhgrO2usHgNRKhIgew6QDDFwYCpkecOowMPAibOZVYOBd\n",
       "wMCagK7wEgPDLQYGjgkInRsY+D4ycDagK9RmYHgvwPAKIcBfwMDzhYHBBF3hdwaG8w4MZQgB+QQG\n",
       "nr8MDOlo6hi/ARVeYFiKqhAo6AXmVK0CgdUwhQkMfRgKX2AzMYHhH5C1SAkEHkCtPo/d6n+onvmK\n",
       "qRDsmQCGFgbk4GH5CLO6CGyLMjR4/AUYTBmQA5xNgYEhCkuAJ6EGhgrDjAOYwcPA5MDZw8DwCElk\n",
       "eu4eILkOI1GU3Qbq5xBAF27Ansow0gDbBRzpcSUafxauhCuNxt+ISyEjqlW8B7ArAwAq4UxvsoQU\n",
       "3gAAAABJRU5ErkJggg==\n",
       "\" style=\"display:inline;vertical-align:middle;\" /></a><br>(see <a class=\"ProveItLink\" href=\"../__pv_it/9340741d07a2087160e8c0eb05b6cfbd55c9cbf70/dependencies.ipynb\">dependencies</a>)<br>"
      ],
      "text/plain": [
       "negatedZero: (-0) = 0"
      ]
     },
     "execution_count": 2,
     "metadata": {},
     "output_type": "execute_result"
    }
   ],
   "source": [
    "%proving negatedZero presuming []"
   ]
  },
  {
   "cell_type": "code",
   "execution_count": null,
   "metadata": {},
   "outputs": [],
   "source": []
  }
 ],
 "metadata": {
  "kernelspec": {
   "display_name": "Python 3",
   "language": "python",
   "name": "python3"
  }
 },
 "nbformat": 4,
 "nbformat_minor": 0
}
