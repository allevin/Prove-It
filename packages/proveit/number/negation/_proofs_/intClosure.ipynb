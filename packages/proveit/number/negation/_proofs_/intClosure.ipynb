{
 "cells": [
  {
   "cell_type": "markdown",
   "metadata": {},
   "source": [
    "Proof of <a class=\"ProveItLink\" href=\"../../../_context_.ipynb\">proveit</a>.<a class=\"ProveItLink\" href=\"../../_context_.ipynb\">number</a>.<a class=\"ProveItLink\" href=\"../_context_.ipynb\">negation</a>.<a class=\"ProveItLink\" href=\"../_theorems_.ipynb#intClosure\">intClosure</a> theorem\n",
    "========"
   ]
  },
  {
   "cell_type": "code",
   "execution_count": 1,
   "metadata": {},
   "outputs": [],
   "source": [
    "import proveit\n",
    "context = proveit.Context('..') # the theorem's context is in the parent directory"
   ]
  },
  {
   "cell_type": "code",
   "execution_count": 2,
   "metadata": {},
   "outputs": [
    {
     "name": "stdout",
     "output_type": "stream",
     "text": [
      "Beginning proof of intClosure\n",
      "Recorded 'presuming' information\n",
      "Presuming previous theorem (applied transitively).\n"
     ]
    },
    {
     "data": {
      "text/html": [
       "<strong id=\"intClosure\">intClosure:</strong> <a class=\"ProveItLink\" href=\"../__pv_it/bd6913baa5fb1ee49620002370ff70f6fa46c33d0/expr.ipynb\"><img src=\"data:image/png;base64,iVBORw0KGgoAAAANSUhEUgAAAJYAAAAVBAMAAABWCwqnAAAAMFBMVEX///8QEBC6urrMzMxUVFRm\n",
       "ZmZERETc3NwyMjKqqqp2dnaIiIiYmJgiIiLu7u4AAAAU9Wx4AAAAAXRSTlMAQObYZgAAAlBJREFU\n",
       "OMtjYKAieIBPUhuKkQCPAnalIPELIMZp7PLMDhCMAoLR+Jz3/3bINh4Aia8E8fuwm8XxAIJRBdH4\n",
       "3K0PGBrYwOJlQC57AnazdkMxqmcWoPJZFzBwTVgEFgfZyzoBu1lyUIwC+AQg9OveuzdANMsDhhJQ\n",
       "QADFeZaXl9diN4qpAYLRQCYkLHsQns9jewAR/5aWdgu7WUDXgzEclOxSLGBgWApmlyGM4tlwBkQB\n",
       "xZ0ZGNJxBP0BCIa7U5whH0jNAHOQ9DzjA4c3UFyFgQ/ZH2wiS1MDIExGBQiGgfoDDGFAShEcakjR\n",
       "5cxSwAAR52XghtnNtzX0AG8B12uo8/kVILjiLghcYvBnYLgNFLYHu1EWKHQD4twALTANFOc+wAvz\n",
       "+jb1dw94GGxqGFDNgoFvDHyfYWYhJWEOBqC/loPF+RpMgAKlu5IZeCB+C4B6kYFxAgRDAftvBs4P\n",
       "fDA/XoCLr+SCZB+QeLoTUOo6+z9oiuaxNIAF3QEIhoXATwaWhskMDCfAPB+4FQ5At3AJQMSnAs1k\n",
       "CWC+wGAFlnv1CqaKKwCCYaCHYW7AAliaeAvzPFtBHgNfVAJEnHEDKFi4HRhs09LSNjAsWMdQB00D\n",
       "FyAYnrx2K2cDTWiCOKcV6nzFDLG0frEAiDgPMOjfP2A7V/AEbMDkA6CABANxKMaahzg9oPGIJs7A\n",
       "+MDe5gE4mbCyItxyCopRANcG7CkbLs4UfTqGgS8JyDrisirXAV+Z8wJHuYkmzgUKLyTA7gDBKMAd\n",
       "h1nuBArwaihGLvoMsCsFigMA0CuVLVaK/LYAAAAASUVORK5CYII=\n",
       "\" style=\"display:inline;vertical-align:middle;\" /></a><br>(see <a class=\"ProveItLink\" href=\"../__pv_it/bd6913baa5fb1ee49620002370ff70f6fa46c33d0/dependencies.ipynb\">dependencies</a>)<br>"
      ],
      "text/plain": [
       "intClosure: forall_{a in Integers} ((-a) in Integers)"
      ]
     },
     "execution_count": 2,
     "metadata": {},
     "output_type": "execute_result"
    }
   ],
   "source": [
    "%proving intClosure presuming []"
   ]
  },
  {
   "cell_type": "code",
   "execution_count": null,
   "metadata": {},
   "outputs": [],
   "source": []
  }
 ],
 "metadata": {
  "kernelspec": {
   "display_name": "Python 3",
   "language": "python",
   "name": "python3"
  }
 },
 "nbformat": 4,
 "nbformat_minor": 0
}
