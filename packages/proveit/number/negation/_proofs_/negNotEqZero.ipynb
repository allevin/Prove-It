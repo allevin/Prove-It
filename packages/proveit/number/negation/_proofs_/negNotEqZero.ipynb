{
 "cells": [
  {
   "cell_type": "markdown",
   "metadata": {},
   "source": [
    "Proof of <a class=\"ProveItLink\" href=\"../../../_context_.ipynb\">proveit</a>.<a class=\"ProveItLink\" href=\"../../_context_.ipynb\">number</a>.<a class=\"ProveItLink\" href=\"../_context_.ipynb\">negation</a>.<a class=\"ProveItLink\" href=\"../_theorems_.ipynb#negNotEqZero\">negNotEqZero</a> theorem\n",
    "========"
   ]
  },
  {
   "cell_type": "code",
   "execution_count": 1,
   "metadata": {},
   "outputs": [],
   "source": [
    "import proveit\n",
    "context = proveit.Context('..') # the theorem's context is in the parent directory"
   ]
  },
  {
   "cell_type": "code",
   "execution_count": 2,
   "metadata": {},
   "outputs": [
    {
     "name": "stdout",
     "output_type": "stream",
     "text": [
      "Beginning proof of negNotEqZero\n",
      "Recorded 'presuming' information\n",
      "Presuming previous theorems (applied transitively).\n"
     ]
    },
    {
     "data": {
      "text/html": [
       "<strong id=\"negNotEqZero\">negNotEqZero:</strong> <a class=\"ProveItLink\" href=\"../__pv_it/c417a6875c1dde3ab44eae932dbca7e1b1a600bd0/expr.ipynb\"><img src=\"data:image/png;base64,iVBORw0KGgoAAAANSUhEUgAAAMUAAAAXCAMAAACMEHvmAAAAQlBMVEX///8LCwsYGBgNDQ0oKCgU\n",
       "FBQJCQkQEBC6urrMzMxUVFRmZmZERETc3NwyMjKqqqp2dnaIiIiYmJgiIiLu7u4AAABNCf5tAAAA\n",
       "AXRSTlMAQObYZgAAArtJREFUWMPdV4uSnSAMte228ibh8f+/WgiigqJuWzudZmZvVgzoSU4eTtN/\n",
       "IeHvPYphqwfi2OAG6KG1367xXRBctHookp8ua7N3vkQsdvQLtt4wL4elnn//HHO6KvYx8ukieF6t\n",
       "tapQ1bsgEFt9xSm4CwUShdCs1tU10r6LYg6tvsrV+TYUxEoWdbV2oEn8y6ltWn0p6uhR3lAlSlqL\n",
       "drWOKouHd1FIaPWRMQKBzaUMgTwC26e8jlBQ4Got6L7Sz916RQY6BgD79zCu1YdDMwAVy4XdAiYN\n",
       "yce3/Ct6FLBas3wvjAMdnAHh5ZaU6q5KIiyn7tOCtbqPRMzopKqQLkPRoSjWOSPw4KKAUsq0yrlK\n",
       "+cgNPEGh6d2pAsY2iyNrtDZ+k7QkKAp+cRWPfaTENA0ZVawzAt9XDlRMh5BWnSZT9ggF8TIQAG+v\n",
       "UPQSFW3kAxSm43vNbrdZJzbVfqolAgXPVV4zbsvR+hTFumHaoPKCou0Ls211T6hsbeMyEe0YJXOw\n",
       "vn4pQVNtpbVUaau10ksxDl6nA8O+fWJwfZh2KNYNgnLwR/rDVMZPUCjX6o6+VDOFmYrLnLkOxdL1\n",
       "oHSHxdrKpVmIFAGe/+fwDMW6YZq25DqNRS2eJ0W0li7r5QRnRuw4eWW+hpk31jNupMW8hXtqIio5\n",
       "ljE+RrFuIIeq6lh9pA7zrT52C2RcYeGEYdehyNMgoFherFov7qa0VC7V/LChFwGHebFtUIlL3z8M\n",
       "MWoiH8Xu0UtDW/XzCcTKz80racbhkWdMYn0WlzTX42m/2DbUKjvVfqEGI567HxKgJaMPn7FOj5bo\n",
       "MDeJxI41qAESvfazmDrbkJbDbn5FGX55Mu868F0oLgczKHlx1hRO7e2dj2us9N1XktCfCYV4Pjo9\n",
       "QHE/q2ps9ehDhD8f247Wv4fCvfx58sdF/HNv9BMnNiewz8XKhgAAAABJRU5ErkJggg==\n",
       "\" style=\"display:inline;vertical-align:middle;\" /></a><br>(see <a class=\"ProveItLink\" href=\"../__pv_it/c417a6875c1dde3ab44eae932dbca7e1b1a600bd0/dependencies.ipynb\">dependencies</a>)<br>"
      ],
      "text/plain": [
       "negNotEqZero: forall_{a in Complexes | a != 0} ((-a) != 0)"
      ]
     },
     "execution_count": 2,
     "metadata": {},
     "output_type": "execute_result"
    }
   ],
   "source": [
    "%proving negNotEqZero presuming []"
   ]
  },
  {
   "cell_type": "code",
   "execution_count": null,
   "metadata": {},
   "outputs": [],
   "source": []
  }
 ],
 "metadata": {
  "kernelspec": {
   "display_name": "Python 3",
   "language": "python",
   "name": "python3"
  }
 },
 "nbformat": 4,
 "nbformat_minor": 0
}
