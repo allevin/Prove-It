{
 "cells": [
  {
   "cell_type": "markdown",
   "metadata": {},
   "source": [
    "Proof of <a class=\"ProveItLink\" href=\"../../../_context_.ipynb\">proveit</a>.<a class=\"ProveItLink\" href=\"../../_context_.ipynb\">number</a>.<a class=\"ProveItLink\" href=\"../_context_.ipynb\">negation</a>.<a class=\"ProveItLink\" href=\"../_theorems_.ipynb#posTimesNeg\">posTimesNeg</a> theorem\n",
    "========"
   ]
  },
  {
   "cell_type": "code",
   "execution_count": 1,
   "metadata": {},
   "outputs": [],
   "source": [
    "import proveit\n",
    "context = proveit.Context('..') # the theorem's context is in the parent directory"
   ]
  },
  {
   "cell_type": "code",
   "execution_count": 2,
   "metadata": {},
   "outputs": [
    {
     "name": "stdout",
     "output_type": "stream",
     "text": [
      "Beginning proof of posTimesNeg\n",
      "Recorded 'presuming' information\n",
      "Presuming previous theorems (applied transitively).\n"
     ]
    },
    {
     "data": {
      "text/html": [
       "<strong id=\"posTimesNeg\">posTimesNeg:</strong> <a class=\"ProveItLink\" href=\"../__pv_it/bc6810938af0240e99b74df4aee8851ed2d646ca0/expr.ipynb\"><img src=\"data:image/png;base64,iVBORw0KGgoAAAANSUhEUgAAAR0AAAAWBAMAAAAP9FU/AAAAMFBMVEX///8QEBC6urrMzMxUVFRm\n",
       "ZmZERETc3NwyMjKqqqp2dnaIiIiYmJgiIiLu7u4AAAAU9Wx4AAAAAXRSTlMAQObYZgAAA1dJREFU\n",
       "SMfNll9IFEEcx7/3X+/W9VAoIogrg6QQDSIoCMWgoBCkPxBKZCEnlQ/7IGlJeQRBSIlQQdCD9yIR\n",
       "UlykQgm59BQGcfTQgxScEBIaIgX1UEkz+5u72dnbXeypvvC52xvn+/O3M/ObGeA/U2EdfYI5QtUu\n",
       "9aeWItzMnibSKxt53vDGP589AkWhFkfDcYGL2dtkKdIkecQbRvzzGXHrUuEc2QqBi9nbRMpILrGv\n",
       "WJdvOokcoWrG2aBliXKzj4k0J+EZR0Z98wkUCFVbnA16kig3+5hICxLtYX//Vf/pqheoyzRT1u+8\n",
       "oMzsZ7IUHZV8T6fn/fPpEFyZvDxVGv2IbWaWOhBbA8ZBlJmhmOxh9PEshgqIt6PEQaDHP59bhJ7V\n",
       "PgTypZVpyg7ZRiRWgfsgELlpqaVoht2khIkHVzELVGYk26G7jeKX4bZO8VhDxNk/rWQViRVrXcit\n",
       "JjR6GlFWEltBKKpRFlPKEWZfJI80m8ekpAoJ07Ewp06aob2F0LD4/ZXQEbbqUP/NP6tZ6IGPXO90\n",
       "bEY1m4FmEIqYMXbb6pcikxKmEMjhJ3ujVUnCrHLUzvSOlYI2COxU82GvZ027vqGYT1GVa2hu8s5H\n",
       "ikz2MGOF0Dc1Hz3Dd9CJ1kkWMTjN6lNjiwp1d9h7iSibBBhqksdLwLZHRDJ4Ctt8Razx+NhVNEM1\n",
       "2cOcQiKpzhd6WtmkFg7xvsvVxm7aY1++lVF6Cc2YRaIUKGqb5Ip2dLOv1wJFvUpdm84wNxBly17L\n",
       "SHCPLfYg1cG1BkxjvzMfUcdj5lkMlhp5aZbGpyX4Cx71rjRwkxrmBBpNKPUupvOH9ecjOIoD6XQ6\n",
       "t61ORmkgFl8sTchBCeZtBXBxituvCxQ1KPth3hlmceaMwQY4JYHGBy+UDFF11uITfwgvy/UTMAhV\n",
       "G5UXz3ueF4anifRYPS9IzfFMHAMGatn+FOYRQh1G6fBzPyjn5GMbFtjii+eI8lPW1WQpnNf5gp+w\n",
       "QcP2vPMJmk3cnc5AP2edAe+7U+u9b8zjAvv8LPib+0ZVNpqFtSEXscuMGWH+kmz9KO19AkUxebV6\n",
       "MMVTPyxwqM/DRDvXzDE+SobEfnkzotl6twMsliNUDTouOk2Em9nTRHpmwz7VLN3sP77O/wE2zQbB\n",
       "tbZwDQAAAABJRU5ErkJggg==\n",
       "\" style=\"display:inline;vertical-align:middle;\" /></a><br>(see <a class=\"ProveItLink\" href=\"../__pv_it/bc6810938af0240e99b74df4aee8851ed2d646ca0/dependencies.ipynb\">dependencies</a>)<br>"
      ],
      "text/plain": [
       "posTimesNeg: forall_{x, y in Complexes} ((x * (-y)) = (-(x * y)))"
      ]
     },
     "execution_count": 2,
     "metadata": {},
     "output_type": "execute_result"
    }
   ],
   "source": [
    "%proving posTimesNeg presuming []"
   ]
  },
  {
   "cell_type": "code",
   "execution_count": null,
   "metadata": {},
   "outputs": [],
   "source": []
  }
 ],
 "metadata": {
  "kernelspec": {
   "display_name": "Python 3",
   "language": "python",
   "name": "python3"
  }
 },
 "nbformat": 4,
 "nbformat_minor": 0
}
