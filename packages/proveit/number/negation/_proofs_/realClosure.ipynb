{
 "cells": [
  {
   "cell_type": "markdown",
   "metadata": {},
   "source": [
    "Proof of <a class=\"ProveItLink\" href=\"../../../_context_.ipynb\">proveit</a>.<a class=\"ProveItLink\" href=\"../../_context_.ipynb\">number</a>.<a class=\"ProveItLink\" href=\"../_context_.ipynb\">negation</a>.<a class=\"ProveItLink\" href=\"../_theorems_.ipynb#realClosure\">realClosure</a> theorem\n",
    "========"
   ]
  },
  {
   "cell_type": "code",
   "execution_count": 1,
   "metadata": {},
   "outputs": [],
   "source": [
    "import proveit\n",
    "context = proveit.Context('..') # the theorem's context is in the parent directory"
   ]
  },
  {
   "cell_type": "code",
   "execution_count": 2,
   "metadata": {},
   "outputs": [
    {
     "name": "stdout",
     "output_type": "stream",
     "text": [
      "Beginning proof of realClosure\n",
      "Recorded 'presuming' information\n",
      "Presuming previous theorems (applied transitively).\n"
     ]
    },
    {
     "data": {
      "text/html": [
       "<strong id=\"realClosure\">realClosure:</strong> <a class=\"ProveItLink\" href=\"../__pv_it/d5da389799dd30a7ad73e231d999269c49d2df5c0/expr.ipynb\"><img src=\"data:image/png;base64,iVBORw0KGgoAAAANSUhEUgAAAJcAAAAVBAMAAAC5yWGZAAAAMFBMVEX///8QEBC6urrMzMxUVFRm\n",
       "ZmZERETc3NwyMjKqqqp2dnaIiIiYmJgiIiLu7u4AAAAU9Wx4AAAAAXRSTlMAQObYZgAAAkVJREFU\n",
       "OMutVE1o02AYftslaZukmXhRbxUVvQx6KEOG4lAPgpeizIN6CA7Si2iEzQkiy0kEXe1BYTeHICpC\n",
       "CRNFRCToZTgoQxB/IBBh6ElbPOwk4vfzfu2Xkm+nPfDQvE9enr4/3xeArUSy2ct8yCnjnSKX6mv0\n",
       "YVWRUEPK0KvpeGXj8q2dIdefUqGpMGtmvQuGYncGxhd9pl8lYcHN9rJCzjQ+DJvNgvHTZXqRDE1v\n",
       "ZZvlEs40vvMf51UcB2hmVl2m24/n5m4oujyATMPgf32wM6iMmVF9w/O+KczOIgUKJx/uADDr7PmS\n",
       "1KZG26T6MYCGwuwOUmC3b/QASqw5w5fMxlZ8ru8FR97P4pOp2+J5O1IU9hd0UkF+Gw1+DBZwJf5C\n",
       "O6d6GawIZefFVGSZ0K5j/IezsBBTVLQelMluR3qsSirhAvYZdEtUt6KyWNjL/b8TYtbppM0ERl3o\n",
       "VoVZTToa+p5JNHMCqs++ngabVkTN3mLaLiRiPoQH5PrxNn/J56z5BtuExlHi+LnwD4rAzU4tYdpF\n",
       "JKLbghOlKtisOS2SzGoaqZjp98n11OojazDBzPTjX0XaIySiGJU+meJoOB8lM7PVQD1HhjpasSbh\n",
       "sOd5oWVefy/SxpD9Y7Y8vkw8Kyy6drp/0afh5t0W120y/25idPx13mZpQiwk53NmXie4txAHWTq5\n",
       "gUcOJZrPZ9YWM7OXONN4pjjifT1/bvU8OBfYoW2vn0k2+QQ5QbbXsG6SmaWEGaQMzc82U+mDkYec\n",
       "Mp4rcon+H5zAp7z38ktjAAAAAElFTkSuQmCC\n",
       "\" style=\"display:inline;vertical-align:middle;\" /></a><br>(see <a class=\"ProveItLink\" href=\"../__pv_it/d5da389799dd30a7ad73e231d999269c49d2df5c0/dependencies.ipynb\">dependencies</a>)<br>"
      ],
      "text/plain": [
       "realClosure: forall_{a in Reals} ((-a) in Reals)"
      ]
     },
     "execution_count": 2,
     "metadata": {},
     "output_type": "execute_result"
    }
   ],
   "source": [
    "%proving realClosure presuming []"
   ]
  },
  {
   "cell_type": "code",
   "execution_count": null,
   "metadata": {},
   "outputs": [],
   "source": []
  }
 ],
 "metadata": {
  "kernelspec": {
   "display_name": "Python 3",
   "language": "python",
   "name": "python3"
  }
 },
 "nbformat": 4,
 "nbformat_minor": 0
}
