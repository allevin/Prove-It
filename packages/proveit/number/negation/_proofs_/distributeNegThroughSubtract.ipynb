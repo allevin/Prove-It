{
 "cells": [
  {
   "cell_type": "markdown",
   "metadata": {},
   "source": [
    "Proof of <a class=\"ProveItLink\" href=\"../../../_context_.ipynb\">proveit</a>.<a class=\"ProveItLink\" href=\"../../_context_.ipynb\">number</a>.<a class=\"ProveItLink\" href=\"../_context_.ipynb\">negation</a>.<a class=\"ProveItLink\" href=\"../_theorems_.ipynb#distributeNegThroughSubtract\">distributeNegThroughSubtract</a> theorem\n",
    "========"
   ]
  },
  {
   "cell_type": "code",
   "execution_count": 1,
   "metadata": {},
   "outputs": [],
   "source": [
    "import proveit\n",
    "context = proveit.Context('..') # the theorem's context is in the parent directory"
   ]
  },
  {
   "cell_type": "code",
   "execution_count": 2,
   "metadata": {},
   "outputs": [
    {
     "name": "stdout",
     "output_type": "stream",
     "text": [
      "Beginning proof of distributeNegThroughSubtract\n",
      "Recorded 'presuming' information\n",
      "Presuming previous theorems (applied transitively).\n"
     ]
    },
    {
     "data": {
      "text/html": [
       "<strong id=\"distributeNegThroughSubtract\">distributeNegThroughSubtract:</strong> <a class=\"ProveItLink\" href=\"../__pv_it/9d3797a01ee44e1e81f0f97116cfbc60b3d9b66e0/expr.ipynb\"><img src=\"data:image/png;base64,iVBORw0KGgoAAAANSUhEUgAAARoAAAAWBAMAAADtKE5GAAAAMFBMVEX///8QEBC6urrMzMxUVFRm\n",
       "ZmZERETc3NwyMjKqqqp2dnaIiIiYmJgiIiLu7u4AAAAU9Wx4AAAAAXRSTlMAQObYZgAAA3BJREFU\n",
       "SMfNlk1oE0EUx18+NmmSTSJeooKSWkFRpDlID6I06kGligE/kLZgUEkRBXOotlCkQTzU0kqgCF6k\n",
       "QSgiIoTaemhBFk/SQglCFRRhhR5ExQSLldJSnLcz3d232Wz0pH/4bXZfZnf/M2/ezAL8V1LrN9kj\n",
       "oBFbvRJY5C7WeYUc55TwYtappSfJoZEqRQ6xR0kJjkX7nJ6/sJUdTnOeYOCeU+sGlUMjNu3QY05A\n",
       "5fh8uIM3c26yH3/aqfG0gEaqFc2zw4yAKGSbqEhWnCxjqgoa2E8p7+Rmm4BGqtWMI/ZJQOSyHcuA\n",
       "8OheQ2sbNOTHPT23nMy4cxwasdEzPPjyHKJd4OQmqE3dK5ylTOa9kxupwKER6J5qzFrSP32CPTrF\n",
       "IWo3nfvbHsWom4a2CQVgDDSOAHTpvR6wmZwKh0bcMbhumQZLEE1AgI0bAtKAJq36hkzNGrO+CnVT\n",
       "TsMiwAPQ2AERY+TH1k++DZ7sEEmPc0zTgF31K3DOMvBr4CqAm+UfIdpoGppVkNLUzagKW5hL0AhD\n",
       "yOj5Xezk5FnF06J6BkWpxDn+4Y8ocXUK4AP+26sF3+Bg5CCaAg/ruKdicfPDuNtbgXCRujkP8BOg\n",
       "FTRCStiY8r8YL3Z+V+U+gN3UjamU2dUSRBbpK8MpaFZqutHvTUM5wRM5vIknch7cq7qbSA5XyhtT\n",
       "l3DerEyoMs7BphHWHZGXPMeUqTz4VyBQiViXmwuqkSlJG4uPWlY2G636izAqdqP1sVkGaU3PFHQd\n",
       "Zpbe+bHqQyU5iasivJzT7/cpHDBHIsvgzY1QNwlMv5zjEF0zTst5OBZIEDeLON/gNXDus3r3pjxY\n",
       "9b6iXNpvcVNds3g1BA9TpOzBm5eSNSp8zFyPgfkgnTfH4QzoFQ6uIk6FEKbQlZDSBzOZTHF7k7HW\n",
       "lThAIt3TTVfjtMLbOvFtcQ7RXvNyM94yTt0sTOLI3xbILI1l1TfHFrMohJUFraNf9XkDMYGhWO21\n",
       "0n5nyDqtxbwvfGdY30laD6i92TBbgLx4q6c9q++N1RvhTG03TwX066Vgu+WY3QSLHP5Px2wntCru\n",
       "jgJELmLgy9vL8b/8otC6mAPzYvpnXxSozwKTeOUE2bwxR/1JDo3YCwfWW52X7rpujgpMn3RZ+5Z9\n",
       "Ahqx1XOBRf56X6KhBMec3n/+kf4bLFv3YMbViEQAAAAASUVORK5CYII=\n",
       "\" style=\"display:inline;vertical-align:middle;\" /></a><br>(see <a class=\"ProveItLink\" href=\"../__pv_it/9d3797a01ee44e1e81f0f97116cfbc60b3d9b66e0/dependencies.ipynb\">dependencies</a>)<br>"
      ],
      "text/plain": [
       "distributeNegThroughSubtract: forall_{a, b in Complexes} ((-(a - b)) = (-a + b))"
      ]
     },
     "execution_count": 2,
     "metadata": {},
     "output_type": "execute_result"
    }
   ],
   "source": [
    "%proving distributeNegThroughSubtract presuming []"
   ]
  },
  {
   "cell_type": "code",
   "execution_count": null,
   "metadata": {},
   "outputs": [],
   "source": []
  }
 ],
 "metadata": {
  "kernelspec": {
   "display_name": "Python 3",
   "language": "python",
   "name": "python3"
  }
 },
 "nbformat": 4,
 "nbformat_minor": 0
}
