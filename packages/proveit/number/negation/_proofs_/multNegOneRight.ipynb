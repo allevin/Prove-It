{
 "cells": [
  {
   "cell_type": "markdown",
   "metadata": {},
   "source": [
    "Proof of <a class=\"ProveItLink\" href=\"../../../_context_.ipynb\">proveit</a>.<a class=\"ProveItLink\" href=\"../../_context_.ipynb\">number</a>.<a class=\"ProveItLink\" href=\"../_context_.ipynb\">negation</a>.<a class=\"ProveItLink\" href=\"../_theorems_.ipynb#multNegOneRight\">multNegOneRight</a> theorem\n",
    "========"
   ]
  },
  {
   "cell_type": "code",
   "execution_count": 1,
   "metadata": {},
   "outputs": [],
   "source": [
    "import proveit\n",
    "context = proveit.Context('..') # the theorem's context is in the parent directory"
   ]
  },
  {
   "cell_type": "code",
   "execution_count": 2,
   "metadata": {},
   "outputs": [
    {
     "name": "stdout",
     "output_type": "stream",
     "text": [
      "Beginning proof of multNegOneRight\n",
      "Recorded 'presuming' information\n",
      "Presuming previous theorems (applied transitively).\n"
     ]
    },
    {
     "data": {
      "text/html": [
       "<strong id=\"multNegOneRight\">multNegOneRight:</strong> <a class=\"ProveItLink\" href=\"../__pv_it/5ae662ff9d96fcacb469a2bca0e123cc48409e4f0/expr.ipynb\"><img src=\"data:image/png;base64,iVBORw0KGgoAAAANSUhEUgAAAOEAAAAVBAMAAABCnpRGAAAAMFBMVEX///8QEBC6urrMzMxUVFRm\n",
       "ZmZERETc3NwyMjKqqqp2dnaIiIiYmJgiIiLu7u4AAAAU9Wx4AAAAAXRSTlMAQObYZgAAAslJREFU\n",
       "SMe9Vk1oE0EUfptNsia7XYOXIqJEKyiKkIN4EKRSpT0JigjSKFSRFLFIDmLVIAbxIEVKQATBg7kU\n",
       "0UAJ2Ar+0AYvSkQJHnoQhQRKkSoaFNSDiPPmTXd3ZrMbT37w7WZ2v91v5r03bwPw39EMuxmpEmVs\n",
       "l4fPGa20/2FFxnXIBg5eBTjuFJSg7/UMzgLEMux8GEJlCNQh7+NgMsBxstO9VZ6wLP1hhyJehDAZ\n",
       "oUg8z07GSGdDs0qU8dT9ubgfHesY1nKITKBOxKnESp0dtSZRxgbvnNCxxWinwmSEFtG6Nz5+OSCo\n",
       "WwXlaiqqjnGc8OkwGQF1yB+53LsAx2HBSzMXZ53gxsqqY/IgO0ypdeKRGZWhO1nSIfcBjAY43iDa\n",
       "Zeu91nAqoqY6JnA5t3F49Drimipbhte19aRDbgZbCsDniQNZ8XMNMQlmO4FbwMacamnVMYI53KjW\n",
       "gEdWhnm4STpkD5gr07Fnj9T0XU19Qoy/EW2IUjF/xYWuZq+68AHxVjjqbXboVxy9siYMgtAhzVrP\n",
       "Sjk+2vKlaRUAtsmObMKUxdaIeJW8xkBHF+u8jnYRu0plYCZjYQX0seUbQrdWEK5k3G6olYKjepwv\n",
       "asEnM76zQDlRhdEBlqrmoFbifWPujSscI1r5eTAdx7ivciysg5fqVvDIXphtmCMd195i2YlgTe5W\n",
       "HaeId2snoOBc5Huh++7wyBK/4ymj6u4OkaSfAHtyuVx1U5/71A7i0pPlijvjSMOz6Q79OsY2Aqbs\n",
       "qtoBXJl9ZvrBMyAd11oYMD2lwyLejn5y86jliTJ6O3Uvf5frDepyhP5kMQlRfLk+nHeaMLZnf4uu\n",
       "qxcqGMRqVxnXVZyvzuPsNNgneYNYOJX+568VDxoWw8fuXyvU2Uq3TbI8ShfOCUowlE8tD80QdJNx\n",
       "XTTf5S8JVpjhi1dBHj7Ems34H1ZkXMf4F6qPzkFjQIfHAAAAAElFTkSuQmCC\n",
       "\" style=\"display:inline;vertical-align:middle;\" /></a><br>(see <a class=\"ProveItLink\" href=\"../__pv_it/5ae662ff9d96fcacb469a2bca0e123cc48409e4f0/dependencies.ipynb\">dependencies</a>)<br>"
      ],
      "text/plain": [
       "multNegOneRight: forall_{x in Complexes} ((x * (-1)) = (-x))"
      ]
     },
     "execution_count": 2,
     "metadata": {},
     "output_type": "execute_result"
    }
   ],
   "source": [
    "%proving multNegOneRight presuming []"
   ]
  },
  {
   "cell_type": "code",
   "execution_count": null,
   "metadata": {},
   "outputs": [],
   "source": []
  }
 ],
 "metadata": {
  "kernelspec": {
   "display_name": "Python 3",
   "language": "python",
   "name": "python3"
  }
 },
 "nbformat": 4,
 "nbformat_minor": 0
}
