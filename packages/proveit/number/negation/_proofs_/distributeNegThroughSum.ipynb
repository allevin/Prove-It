{
 "cells": [
  {
   "cell_type": "markdown",
   "metadata": {},
   "source": [
    "Proof of <a class=\"ProveItLink\" href=\"../../../_context_.ipynb\">proveit</a>.<a class=\"ProveItLink\" href=\"../../_context_.ipynb\">number</a>.<a class=\"ProveItLink\" href=\"../_context_.ipynb\">negation</a>.<a class=\"ProveItLink\" href=\"../_theorems_.ipynb#distributeNegThroughSum\">distributeNegThroughSum</a> theorem\n",
    "========"
   ]
  },
  {
   "cell_type": "code",
   "execution_count": 1,
   "metadata": {},
   "outputs": [],
   "source": [
    "import proveit\n",
    "context = proveit.Context('..') # the theorem's context is in the parent directory"
   ]
  },
  {
   "cell_type": "code",
   "execution_count": 2,
   "metadata": {},
   "outputs": [
    {
     "name": "stdout",
     "output_type": "stream",
     "text": [
      "Beginning proof of distributeNegThroughSum\n",
      "Recorded 'presuming' information\n",
      "Presuming previous theorems (applied transitively).\n"
     ]
    },
    {
     "data": {
      "text/html": [
       "<strong id=\"distributeNegThroughSum\">distributeNegThroughSum:</strong> <a class=\"ProveItLink\" href=\"../__pv_it/c8ef7e8edb813c2b6f1800b9dace86c89dd5b1250/expr.ipynb\"><img src=\"data:image/png;base64,iVBORw0KGgoAAAANSUhEUgAAAjQAAAAVBAMAAACjymmKAAAAMFBMVEX///8QEBC6urrMzMxUVFRm\n",
       "ZmZERETc3NwyMjKqqqp2dnaIiIiYmJgiIiLu7u4AAAAU9Wx4AAAAAXRSTlMAQObYZgAABRhJREFU\n",
       "WMPtWG1oHEUYfu+re7nbbEILWn9otkZssUiPUvujIr3aYn5oabAN1ETkKHK1KHhCscXU5khUjmLq\n",
       "QRGLIhyh1Yoiq2IVNfZIqIRUbUxrsYXIFaoWk34YavojLed83c7s7ezuhPvrC8/d3s477zPvczPv\n",
       "zizA/+ZllUCP4YFgHwhbFNxWNjYu3aQIJqrZiHpweQCbE2NsEibwvVN+cYYUfGANg22RdIP/2VaG\n",
       "ICLbYinl2GsCOLeStD/Ctw76SxPsQ1odHvFKg9LEGYKIuOWVYx8M4IyTtF9Gn1rGX5pgn6RFwe1b\n",
       "iddfXt1lDXqJIoiI2zj7NnIeNLUGrwA2J8YQ+XdjRX9pgn1CFQpu90i83vPqLmswWimCiLhdZN9N\n",
       "XpnXGrwC2JwYQ6B/uGfPq+AvTbDPCgZe6NDsNrb/tnowvQBpnB12MfgS/TE4sOIsu15UVJRGDCDn\n",
       "3IXThrls9oIkTEmQxsuHWzcDr4mo/5Vi6Pb0/AKkcXY4yuBHZJyHtt9PsIwTnYrSiCOVcx4laW8E\n",
       "2CkJ0ylK4+HD7U0GXtDKAE9Ay3zLLYC1qtLUOlA7zACxArG0hChahqpVLUMEV8KmvKI04kjlnIdJ\n",
       "2veBkQ+SxuUzc2Bzj/h7MQOvCSaeeH03dQse2qwqDevAbBkD+BAlQKvmTkFkG95fhFsVpVnsWB0y\n",
       "zmUk7WZIlsX9yOtPwmfP1Ekj+hhfdpUjayuRA/pT39lrdJZCG5zChmRpIbu102Sw76uX4dNC3V3P\n",
       "4DAXkf4PSRpLE7muKA0OspcEmPTgXE/STpab7YI93fU0/JCoJCrbNp3dVOTSiD7Hl1+t6L0ADzQd\n",
       "h9a6EXOj0mxJc2m2Fwq/FAqvuQcsNmxJq0kjLKkbTmnQ6htcylafc0fIGxwBpJxUGiNv7w2TO/Zf\n",
       "hR+tzkSlbtYQH+OxX48NgI4b2g+hPw42avYqu4uBLygk7LvQZsFXC5g1rMPJz79JiwsqRv7gqYyE\n",
       "qKkUmodkjkqjvKDEkco56YKCnY+iadmz8gjASew7eqjXJQ3xaU6t6rhBN6jf/4w/J5Ijtbn0AoNt\n",
       "i8pgVJdXTa1VIg3uZYgHONrAOhgjt+AM+jnG4LA6omuzfbPwEps1el0ZNhxcQoMQwINzjKb9Ngo7\n",
       "s6rcnKI77dHEzDqXNNinF068cx7W2dIYGf0TzwctepBqc9E2c6/plsa4jZOaYBe8gXXQpvNw0+vh\n",
       "XXezL7NhVutn0tQ/vG2KaxPOBiGAByd9eEMIddj/NbTkImQvMwqlIy5pQiToi+j+I9ls1rq3vW7E\n",
       "DzLwLR8azfCFS0v7JWXYuANvXTPsQmhgHaIWWRr9DH5EyalPNxRMJk3cdCpgU1zMOBvEkco5+2na\n",
       "Op5zj6PlFTmXzT6PpNl3Bd3JOaTBPvHS3bAPLpHaN41rjVhachTc7uSXC3hC0WCpWKfpdVBwEYFd\n",
       "htUPCu4ATk56UGC2BLrCRprOmvDDFedBgVXvoTm0gY7isJHunPP86D4Ljkuk8XyF42zog9DqFCRQ\n",
       "HglL7dBJpfnY/20Mb5AEcHJi1NLWrsOSduig0sC4VJpo9qfnimDswNd/n3vWVH0p8cpbPQt7HXE/\n",
       "xFARuwwUKi8ltGP/WvKdq+pLCSfnZSHtcAa6y/AnSjf8hglRkElTK7Co1rjJdjPw0Tb6KquDIYiI\n",
       "73ByyrF3B3B2uNP+ANUa9wvQMwpkmkXBrbcxZZIpimCimn2hHlwewObEGJ78D9Oj6viVpHcaAAAA\n",
       "AElFTkSuQmCC\n",
       "\" style=\"display:inline;vertical-align:middle;\" /></a><br>(see <a class=\"ProveItLink\" href=\"../__pv_it/c8ef7e8edb813c2b6f1800b9dace86c89dd5b1250/dependencies.ipynb\">dependencies</a>)<br>"
      ],
      "text/plain": [
       "distributeNegThroughSum: forall_{n in NaturalsPos} [forall_{x in Complexes^{n}} ((-(x_1 +  ...  + x_n)) = ((-x_1) +  ...  + (-x_n)))]"
      ]
     },
     "execution_count": 2,
     "metadata": {},
     "output_type": "execute_result"
    }
   ],
   "source": [
    "%proving distributeNegThroughSum presuming []"
   ]
  },
  {
   "cell_type": "code",
   "execution_count": null,
   "metadata": {},
   "outputs": [],
   "source": []
  }
 ],
 "metadata": {
  "kernelspec": {
   "display_name": "Python 3",
   "language": "python",
   "name": "python3"
  }
 },
 "nbformat": 4,
 "nbformat_minor": 0
}
