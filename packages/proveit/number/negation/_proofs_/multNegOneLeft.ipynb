{
 "cells": [
  {
   "cell_type": "markdown",
   "metadata": {},
   "source": [
    "Proof of <a class=\"ProveItLink\" href=\"../../../_context_.ipynb\">proveit</a>.<a class=\"ProveItLink\" href=\"../../_context_.ipynb\">number</a>.<a class=\"ProveItLink\" href=\"../_context_.ipynb\">negation</a>.<a class=\"ProveItLink\" href=\"../_theorems_.ipynb#multNegOneLeft\">multNegOneLeft</a> theorem\n",
    "========"
   ]
  },
  {
   "cell_type": "code",
   "execution_count": 1,
   "metadata": {},
   "outputs": [],
   "source": [
    "import proveit\n",
    "context = proveit.Context('..') # the theorem's context is in the parent directory"
   ]
  },
  {
   "cell_type": "code",
   "execution_count": 2,
   "metadata": {},
   "outputs": [
    {
     "name": "stdout",
     "output_type": "stream",
     "text": [
      "Beginning proof of multNegOneLeft\n",
      "Recorded 'presuming' information\n",
      "Presuming previous theorems (applied transitively).\n"
     ]
    },
    {
     "data": {
      "text/html": [
       "<strong id=\"multNegOneLeft\">multNegOneLeft:</strong> <a class=\"ProveItLink\" href=\"../__pv_it/c03eea0878deba8fbce661940e164c749216c95d0/expr.ipynb\"><img src=\"data:image/png;base64,iVBORw0KGgoAAAANSUhEUgAAAOEAAAAVBAMAAABCnpRGAAAAMFBMVEX///8QEBC6urrMzMxUVFRm\n",
       "ZmZERETc3NwyMjKqqqp2dnaIiIiYmJgiIiLu7u4AAAAU9Wx4AAAAAXRSTlMAQObYZgAAArxJREFU\n",
       "SMe9Vk1oE0EUfptNsya7XYMXEVGjFRRF2IN4ECRSpT2JghSkQVCRLWLBHMSqQVyKghQtAREED+ZS\n",
       "RANlwVbwh2bxolSU4KEHUdiCSKmiQUEvHpy/zczOZJubDz6y8+2b+WbfvPcmAP/dwpVepnwOwayC\n",
       "7KgyADul8UuGJh68SVDcLSCyDNrjUcVTZfT9EtHjUDzEg8kExUkBzOxzSHGV4tmBUaLnUVxAP8aJ\n",
       "zoKmzxEJHjyMVrJqSlgV5rmy3DwF3kpPtbOiFnK0rYEGdl52VZmNynKLFNaDsbErCUHdLiCmCGcU\n",
       "X5lJeYpLpkrx23U/JCgOC4grTvHx5ZlLs36MoXkihNmoD94rAeSOUBwAGElQvCkgrniXh7NmfdSa\n",
       "jDl2A9s1kjgBn7IMb4MNAFmPYivYsQB8mzhUYo9rBMQVNxMx/JQDs5V1GCPmgFChNWjAbRToPEUv\n",
       "mNF27NmhQN8T6hNs/JPDuPUJW4EpFvHrH7iWbUiTTC9KiquR60Uy5z3qMgOkQlsUZtAbpeKTbd9D\n",
       "qwKwQ1WUvpGsv0iLSvOTFLmtFxVtD3eUev+MY6FThT70+QbzWyegQ1SZXXVwqyTMcfJRC2QfYsUZ\n",
       "v1As2lGFkX50GuGAViV9Y+4ddxwVEFd8zUu/3AAzFBlWCkLmvDJbMIdcPQq4g44jhfNxr6w4JSCp\n",
       "Ou4HJ6ECanXgMmCW/ZvJGz6vDnYOfwD2ua7rb+njs3YJiGxo03W0+/H2+Muz5Tr+nHG5AzR5AZ2d\n",
       "fvQCF0yBAiy8aT2vw2f8Ov2Vn6NW5ujS01RmbVKXo1bMeTlI44X14XK7CeP2HCEeMh+6MvOKYp2B\n",
       "xuZpaRrsU6RBLJwurHBbEVtSVlvqflvhRmNL3TaHzjFGnBcg2qCyvsoY8o2MQ5gud/lLgjMsgnhv\n",
       "OspN6qiTK9L4McU/1Z3QbEO7aJkAAAAASUVORK5CYII=\n",
       "\" style=\"display:inline;vertical-align:middle;\" /></a><br>(see <a class=\"ProveItLink\" href=\"../__pv_it/c03eea0878deba8fbce661940e164c749216c95d0/dependencies.ipynb\">dependencies</a>)<br>"
      ],
      "text/plain": [
       "multNegOneLeft: forall_{x in Complexes} (((-1) * x) = (-x))"
      ]
     },
     "execution_count": 2,
     "metadata": {},
     "output_type": "execute_result"
    }
   ],
   "source": [
    "%proving multNegOneLeft presuming []"
   ]
  },
  {
   "cell_type": "code",
   "execution_count": null,
   "metadata": {},
   "outputs": [],
   "source": []
  }
 ],
 "metadata": {
  "kernelspec": {
   "display_name": "Python 3",
   "language": "python",
   "name": "python3"
  }
 },
 "nbformat": 4,
 "nbformat_minor": 0
}
