{
 "cells": [
  {
   "cell_type": "markdown",
   "metadata": {},
   "source": [
    "Proof of <a class=\"ProveItLink\" href=\"../../../_context_.ipynb\">proveit</a>.<a class=\"ProveItLink\" href=\"../../_context_.ipynb\">number</a>.<a class=\"ProveItLink\" href=\"../_context_.ipynb\">negation</a>.<a class=\"ProveItLink\" href=\"../_theorems_.ipynb#negAsMultOne\">negAsMultOne</a> theorem\n",
    "========"
   ]
  },
  {
   "cell_type": "code",
   "execution_count": 1,
   "metadata": {},
   "outputs": [],
   "source": [
    "import proveit\n",
    "context = proveit.Context('..') # the theorem's context is in the parent directory"
   ]
  },
  {
   "cell_type": "code",
   "execution_count": 2,
   "metadata": {},
   "outputs": [
    {
     "name": "stdout",
     "output_type": "stream",
     "text": [
      "Beginning proof of negAsMultOne\n",
      "Recorded 'presuming' information\n",
      "Presuming previous theorems (applied transitively).\n"
     ]
    },
    {
     "data": {
      "text/html": [
       "<strong id=\"negAsMultOne\">negAsMultOne:</strong> <a class=\"ProveItLink\" href=\"../__pv_it/12ec77157ca7eab60b6ca9589dda9bd6aaaa248e0/expr.ipynb\"><img src=\"data:image/png;base64,iVBORw0KGgoAAAANSUhEUgAAAOEAAAAVBAMAAABCnpRGAAAAMFBMVEX///8QEBC6urrMzMxUVFRm\n",
       "ZmZERETc3NwyMjKqqqp2dnaIiIiYmJgiIiLu7u4AAAAU9Wx4AAAAAXRSTlMAQObYZgAAAnlJREFU\n",
       "SMe9lk9IFHEUx9/u7Lo6Ow7irVNbBkUQ7CE6BKJY1CkKwotetoiRIGgPkZRIixCImAgReMvLErEQ\n",
       "A2lQQQ6dpCA6dYiEnxAhFiUd6tp7M2/c+f2ZnT314LEzbz7P7+/35v3eCPDfTXR6mPcjT5pT6YrT\n",
       "MYq8xd+PdPM+RfEku2SXs7keYcIwUqwCPKXrpRTFJdOz3kzOvSlMGEUaALfxp1QzC5b9yJXqrGZw\n",
       "7tmLwoRR5B0K48PislkxJyKXzR3I5DaECaPINgo/mZ6eTSnqMXbFrmdypKhjFOnBzf3xvM8pihPs\n",
       "sd1du7OOxWtmcZFi05RoXwI4AzCVorjIHldl1fmSw95eoZvifGijBo4VV0yJfdg6R8BtJOkfCxcm\n",
       "+XKQnc2G8l4ftvchdWUKx4oh5go5MY/vsh/KQbyW9fHAOiWsBb7/HXnpwRZZxYVC2NQjqqLCsWKI\n",
       "/aLznki09rCtg/64zV4c/SmcGYDj8l9KNKXfSVHZY4ht1+REUnQbNC1aY2tVB98qDD3ExXLiAfZ9\n",
       "u1elqRiWqxjuZ6tm5NpVVROpqjA1hpUW53LL4ZR486HN3WCPT3B9A8qYuKnuUeFYcdOU6FDPPMJS\n",
       "56nXTquKTbnHHwdXYAYMp6OpBpXTkUik08E1/gsw7Hmef3ionXiCne3bq90WNdmcqqhwMH7wfpDE\n",
       "Eom99ElxaEHWgAVf6Wnhe/s95uqRZ045E5c65SIbsRs2FCjJmqjD68To1QeybZztGqdjFGnt7/vl\n",
       "5DNwr9Ll7qdrlY5fq53uvmo6tgPKsMFF4HuUArfYJTuvK5o4HcNIoZ7xL0nJj1z6GFa74nSMIs8B\n",
       "/gG78c98EaRV9QAAAABJRU5ErkJggg==\n",
       "\" style=\"display:inline;vertical-align:middle;\" /></a><br>(see <a class=\"ProveItLink\" href=\"../__pv_it/12ec77157ca7eab60b6ca9589dda9bd6aaaa248e0/dependencies.ipynb\">dependencies</a>)<br>"
      ],
      "text/plain": [
       "negAsMultOne: forall_{x in Complexes} ((-x) = ((-1) * x))"
      ]
     },
     "execution_count": 2,
     "metadata": {},
     "output_type": "execute_result"
    }
   ],
   "source": [
    "%proving negAsMultOne presuming []"
   ]
  },
  {
   "cell_type": "code",
   "execution_count": null,
   "metadata": {},
   "outputs": [],
   "source": []
  }
 ],
 "metadata": {
  "kernelspec": {
   "display_name": "Python 3",
   "language": "python",
   "name": "python3"
  }
 },
 "nbformat": 4,
 "nbformat_minor": 0
}
