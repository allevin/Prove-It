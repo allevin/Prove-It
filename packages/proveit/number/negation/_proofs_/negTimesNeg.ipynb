{
 "cells": [
  {
   "cell_type": "markdown",
   "metadata": {},
   "source": [
    "Proof of <a class=\"ProveItLink\" href=\"../../../_context_.ipynb\">proveit</a>.<a class=\"ProveItLink\" href=\"../../_context_.ipynb\">number</a>.<a class=\"ProveItLink\" href=\"../_context_.ipynb\">negation</a>.<a class=\"ProveItLink\" href=\"../_theorems_.ipynb#negTimesNeg\">negTimesNeg</a> theorem\n",
    "========"
   ]
  },
  {
   "cell_type": "code",
   "execution_count": 1,
   "metadata": {},
   "outputs": [],
   "source": [
    "import proveit\n",
    "context = proveit.Context('..') # the theorem's context is in the parent directory"
   ]
  },
  {
   "cell_type": "code",
   "execution_count": 2,
   "metadata": {},
   "outputs": [
    {
     "name": "stdout",
     "output_type": "stream",
     "text": [
      "Beginning proof of negTimesNeg\n",
      "Recorded 'presuming' information\n",
      "Presuming previous theorems (applied transitively).\n"
     ]
    },
    {
     "data": {
      "text/html": [
       "<strong id=\"negTimesNeg\">negTimesNeg:</strong> <a class=\"ProveItLink\" href=\"../__pv_it/6e520ce8735d9ab150b7257ed8987a883a282cc90/expr.ipynb\"><img src=\"data:image/png;base64,iVBORw0KGgoAAAANSUhEUgAAARoAAAAWBAMAAADtKE5GAAAAMFBMVEX///8QEBC6urrMzMxUVFRm\n",
       "ZmZERETc3NwyMjKqqqp2dnaIiIiYmJgiIiLu7u4AAAAU9Wx4AAAAAXRSTlMAQObYZgAAAxVJREFU\n",
       "SMfNVkFIFFEY/nfGdXVmHUWhiCA0OgQhbVRQpxWDhKIQpIsVWMSKKTGHSEuyxVOHEg8FQYf20CYh\n",
       "xQQqlIf2EkldJKiDJGyXRTREOuSlpPdm3tv/n5k3Y7f64GffvO/7f/793/vfewD/Fcp/odEcNIp0\n",
       "K/06ECb9AgwWghQv8o+P8dkcIeZDDxnrHQqyRx0sDCF+zscT8dlMEPOhjo7LCrJOHSwMIb7BflJ9\n",
       "scmYDlqgwAUcz6tIKsBgqqXyxPwvJSdjs0mU0fywmnC8R0VSAQZTQIjTU8PDt+MXaj+xAAZwc+aV\n",
       "5IAqmApC/DOXW4rPppeYxK2Zm7Os5sXqRJKsyWovpLY8sqgKJpxV4hMA/fHZ3CMmC1tIf02wdnyE\n",
       "27CEbOEgmBse6QqSd110iGDSWSXeB1ZesY4LTz/L9JuJCRgsQn0GoI1/rLv7AY8WffIi1PZ5ZFsw\n",
       "cDM6u44BcQOYJb/D2rkLcPgaHJO1/4GWur/M0WpBjduHWZ74bz5qZNmMuOQnC3ZDo+OR2WA2LIh0\n",
       "dh0DYrPU4N/m5uWxdXjvgKbIhvSGU81mh8xGon4LspnobKSz5+gXW3l+Ok53zrApbY514DveIcfZ\n",
       "ly0C7CJWxZ0Mv1RwIRLklEjm4RWQlUq6NVvuk8GEs1Lc38mWsnySh1trtA8B30Xmd1KvIWLysLLf\n",
       "gskkC9WZWrLcdd1wBTxyIVibIXRWih+y7a15DTPWDnN6IZhNEULd+qR0CUZ9U0Y3qU2H9gsiOryI\n",
       "zkqxt4ibLnUKTutfcrlBbW8GA7QTE6i8WZ3mxRjH02+RNOTg7KYgx4PZtKOzUpzmZdCbdK//Wiz3\n",
       "WDjr4L5J2GjRN8NOShiLkTdDKEhYnDXyBozY0KJtQBefODqF95u8/sJXoEGuwA84PAPfJj3SiL1o\n",
       "o8SV1+dfQrYED+byUOG9ar3IdW7/olhRvyiW4KogV7Z/UUSKSym7huX3LDfon79OzIcuMk7ha+vx\n",
       "bKsgu8LZBINEiXW7tqC8YlMOmu+czNCv0TDpF2Cw8BMqLE5D/Xzhnz7S/wAs6v8jtRzsNwAAAABJ\n",
       "RU5ErkJggg==\n",
       "\" style=\"display:inline;vertical-align:middle;\" /></a><br>(see <a class=\"ProveItLink\" href=\"../__pv_it/6e520ce8735d9ab150b7257ed8987a883a282cc90/dependencies.ipynb\">dependencies</a>)<br>"
      ],
      "text/plain": [
       "negTimesNeg: forall_{x, y in Complexes} (((-x) * (-y)) = (x * y))"
      ]
     },
     "execution_count": 2,
     "metadata": {},
     "output_type": "execute_result"
    }
   ],
   "source": [
    "%proving negTimesNeg presuming []"
   ]
  },
  {
   "cell_type": "code",
   "execution_count": null,
   "metadata": {},
   "outputs": [],
   "source": []
  }
 ],
 "metadata": {
  "kernelspec": {
   "display_name": "Python 3",
   "language": "python",
   "name": "python3"
  }
 },
 "nbformat": 4,
 "nbformat_minor": 0
}
