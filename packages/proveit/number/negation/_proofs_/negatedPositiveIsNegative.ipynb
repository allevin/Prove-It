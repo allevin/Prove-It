{
 "cells": [
  {
   "cell_type": "markdown",
   "metadata": {},
   "source": [
    "Proof of <a class=\"ProveItLink\" href=\"../../../_context_.ipynb\">proveit</a>.<a class=\"ProveItLink\" href=\"../../_context_.ipynb\">number</a>.<a class=\"ProveItLink\" href=\"../_context_.ipynb\">negation</a>.<a class=\"ProveItLink\" href=\"../_theorems_.ipynb#negatedPositiveIsNegative\">negatedPositiveIsNegative</a> theorem\n",
    "========"
   ]
  },
  {
   "cell_type": "code",
   "execution_count": 1,
   "metadata": {},
   "outputs": [],
   "source": [
    "import proveit\n",
    "context = proveit.Context('..') # the theorem's context is in the parent directory"
   ]
  },
  {
   "cell_type": "code",
   "execution_count": 2,
   "metadata": {},
   "outputs": [
    {
     "name": "stdout",
     "output_type": "stream",
     "text": [
      "Beginning proof of negatedPositiveIsNegative\n",
      "Recorded 'presuming' information\n",
      "Presuming previous theorems (applied transitively).\n"
     ]
    },
    {
     "data": {
      "text/html": [
       "<strong id=\"negatedPositiveIsNegative\">negatedPositiveIsNegative:</strong> <a class=\"ProveItLink\" href=\"../__pv_it/50f0d6105e03cb233efeee9774fb335f7e9834d30/expr.ipynb\"><img src=\"data:image/png;base64,iVBORw0KGgoAAAANSUhEUgAAAMUAAAAXBAMAAABJ4JbnAAAAMFBMVEX///8QEBC6urrMzMxUVFRm\n",
       "ZmZERETc3NwyMjKqqqp2dnaIiIiYmJgiIiLu7u4AAAAU9Wx4AAAAAXRSTlMAQObYZgAAAshJREFU\n",
       "SMe9VEtoE1EUvZn8M8lE7ELcSAR/GzGLkkWxVPxgwU1Q6qKRUlpMN13MotqFSAPqQq0lG8Fdg+CP\n",
       "YhjaRqR+CLqzEApViq3CCEVB0ISKCiLB+95983UqpBQPnPmcee+dO/fe9wD+A/SNTJI0oh0vvIcy\n",
       "eYE9zLfo0S5oRzDtHqXkKmkuP2BvEy16THjNKbiFREpZ5PJ5fAn3t2Yha0QnXlmP4VPs+gzgMZcj\n",
       "WJBgsTUPn0504oP55O9OsdtrgAMqk+P3RkcvtpiqfYJOhIxIpctUmu8AXUUu/8jnl1v06BU0U3Pi\n",
       "9jaAWJbeoldUUn+hh8blIwBDnv3pFmJTYhEYFzSwUw01cG0qurwsssg9SlzeBYq9I27d77lOv26F\n",
       "SXHN4VDCVkHj+28IYtdIW3gkK6ZMHkxOgFw1GrrSU5VjUM66PM7yyBYhKSJcI4ZvvGdIBRqQwC7z\n",
       "N9i3jwMOD43LcjVhtMijvV919KjVnB4gXcMRShMSRYeHgWQ/1NOGB7RfNXRW8yqXlQLbsefmBiHO\n",
       "4mcezy2PcO4uTo9i+vxNHi3DdkGBMQ0m8UyiXOFS74SOvTupkjx0GI2Wwk2IAHmcLFkeX9Qx9pfx\n",
       "cZAsj2FBgXoRuqNpiBtl/bxCicE9+BBIvolHViDrX4AO7hE8+tZW82PQSd2yZPuPO4ICkWr0Tczq\n",
       "XVyWWitRVNqE7MOZyZR8CDrz+bwmxy68tHmswSxtu5LyE3yiHvsFze0xnZlGq5SpRC/xFuqdTQs5\n",
       "jqZ1PVRTVylX0Q7d9MBCD3/Ce6YPoA2SqjhLVOJ6Z4m37NO7DuoBlepRttVjh/8bdlnmON8fe4xc\n",
       "lIhOTHl7mLKUmz8DygDfg+XV07rpsftppQoj/CCQn/T962xXCp4WbjmG9bCOOGt7DLonjgjaEVA9\n",
       "PdaR3R5/I6wR7ZjxHjoDG/TYLAQ2baU/MirAsu7LJywAAAAASUVORK5CYII=\n",
       "\" style=\"display:inline;vertical-align:middle;\" /></a><br>(see <a class=\"ProveItLink\" href=\"../__pv_it/50f0d6105e03cb233efeee9774fb335f7e9834d30/dependencies.ipynb\">dependencies</a>)<br>"
      ],
      "text/plain": [
       "negatedPositiveIsNegative: forall_{a in Reals | a > 0} ((-a) < 0)"
      ]
     },
     "execution_count": 2,
     "metadata": {},
     "output_type": "execute_result"
    }
   ],
   "source": [
    "%proving negatedPositiveIsNegative presuming []"
   ]
  },
  {
   "cell_type": "code",
   "execution_count": null,
   "metadata": {},
   "outputs": [],
   "source": []
  }
 ],
 "metadata": {
  "kernelspec": {
   "display_name": "Python 3",
   "language": "python",
   "name": "python3"
  }
 },
 "nbformat": 4,
 "nbformat_minor": 0
}
