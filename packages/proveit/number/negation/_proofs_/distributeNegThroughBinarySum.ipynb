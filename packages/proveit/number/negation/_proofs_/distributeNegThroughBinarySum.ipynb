{
 "cells": [
  {
   "cell_type": "markdown",
   "metadata": {},
   "source": [
    "Proof of <a class=\"ProveItLink\" href=\"../../../_context_.ipynb\">proveit</a>.<a class=\"ProveItLink\" href=\"../../_context_.ipynb\">number</a>.<a class=\"ProveItLink\" href=\"../_context_.ipynb\">negation</a>.<a class=\"ProveItLink\" href=\"../_theorems_.ipynb#distributeNegThroughBinarySum\">distributeNegThroughBinarySum</a> theorem\n",
    "========"
   ]
  },
  {
   "cell_type": "code",
   "execution_count": 1,
   "metadata": {},
   "outputs": [],
   "source": [
    "import proveit\n",
    "context = proveit.Context('..') # the theorem's context is in the parent directory"
   ]
  },
  {
   "cell_type": "code",
   "execution_count": 2,
   "metadata": {},
   "outputs": [
    {
     "name": "stdout",
     "output_type": "stream",
     "text": [
      "Beginning proof of distributeNegThroughBinarySum\n",
      "Recorded 'presuming' information\n",
      "Presuming previous theorems (applied transitively).\n"
     ]
    },
    {
     "data": {
      "text/html": [
       "<strong id=\"distributeNegThroughBinarySum\">distributeNegThroughBinarySum:</strong> <a class=\"ProveItLink\" href=\"../__pv_it/747842aebbbeb699c3abf1a3516d38b81332e4020/expr.ipynb\"><img src=\"data:image/png;base64,iVBORw0KGgoAAAANSUhEUgAAARoAAAAWBAMAAADtKE5GAAAAMFBMVEX///8QEBC6urrMzMxUVFRm\n",
       "ZmZERETc3NwyMjKqqqp2dnaIiIiYmJgiIiLu7u4AAAAU9Wx4AAAAAXRSTlMAQObYZgAAA2lJREFU\n",
       "SMfNlk1oE0EUx18+NjHJZiNegoKSWkFRpDlID6K06kGligE/KG3BoJIiCuZQrVCkQXqIpUqgCIJI\n",
       "g1BERAi19dCCLJ6khRIPVVCEFQqKii0WK6WlOG9nurtvs9noSf/wy+6+zOy+mffezAD8V9JqN9kl\n",
       "oBZHvRTY5C3V+ISc4JTxYcqtpa+ZQy0VUg6wV0lJjk173N4/u5n9nOQ8RsMdt9brNA61OLRDH3MC\n",
       "Ktf3Qx925lxjl2DarfGEgFpMfRLXWIH9TAqIIu6BWsJQFXVwnFLBrfEWAbWYui+uDThjHwVEHtfk\n",
       "9K5inNfryI+6u2+4Ns5xqMXBm6f4EyhwiHa4Tk1YT92LnMVM5p1bY6nIoRboGq/LUm/6Jo6xV6c4\n",
       "RG2W+2DLw7gt31pGVYBh0DkE0GmMOu+QnCqHWrxxuELnRlmEWBJCbN4QkPK69OobsHSuywbm6Qfm\n",
       "0rAAcA90toFizvzw2s23/uPtIugJjiUN2FOvCmeoN6FV8BTBy+KPEG2wTM0KSLaaGdJgE/MSdKIQ\n",
       "MUd+Cwc5dlr1NWq+flEqCU7w9geUeDoB8J56I+UglgIfG7jPNnj4Yfb2z0MUK8x8G7QC/ARoAp2I\n",
       "GjVT/hfj+fbvmtwDsJN6YwqfFkFZwPvWfP51Po8rRjQFDWpVb4y+aZizrY4z4F0xvFFyuFJeHT+P\n",
       "ebM8qsmYg/WDzH0RlwLHEqkCBJchNK+QuWHLzVnNjJSkj/2DHpWNZt/eEgzZdqMlkFaNSEHnQebS\n",
       "2yBWfaQsN+OqCC+mjcYBlQNWi7IE/twg9SaJ4ZdzHKLLlpQtwJEQnZwFzDd4BZy7rN79KR9WfaAk\n",
       "l/favKmsWXwagAepIvHGX5Caq1T4sLUeQzNh+u9ROAVGhYOnhKkQwVr0JKX0/kwmU9pab651ZQ4Q\n",
       "S9dE/aUErfCWDvxagkO027rcjDSO2HbNMZz5mwKZhXFOC0yzxSwGUXVWH+hXI28gLjAVd1yLdTnv\n",
       "DNmapxaxM6ztJE37tOvZKFuA/NjV15Y19sbKjXCy+mHniYCeXoo1vQmXOHzy26c6oEn1thdBOYeG\n",
       "L28uJP7yRKEPMQfWxfTPThSozwKLeOWEWd5YrcFmDrU4CyfWXxmXrpreHBZYjnRVwtsjoBZHPRPY\n",
       "FKx1Eo0kOdbw/vND+m83BPYlfZrqsAAAAABJRU5ErkJggg==\n",
       "\" style=\"display:inline;vertical-align:middle;\" /></a><br>(see <a class=\"ProveItLink\" href=\"../__pv_it/747842aebbbeb699c3abf1a3516d38b81332e4020/dependencies.ipynb\">dependencies</a>)<br>"
      ],
      "text/plain": [
       "distributeNegThroughBinarySum: forall_{a, b in Complexes} ((-(a + b)) = (-a - b))"
      ]
     },
     "execution_count": 2,
     "metadata": {},
     "output_type": "execute_result"
    }
   ],
   "source": [
    "%proving distributeNegThroughBinarySum presuming []"
   ]
  },
  {
   "cell_type": "code",
   "execution_count": null,
   "metadata": {},
   "outputs": [],
   "source": []
  }
 ],
 "metadata": {
  "kernelspec": {
   "display_name": "Python 3",
   "language": "python",
   "name": "python3"
  }
 },
 "nbformat": 4,
 "nbformat_minor": 0
}
