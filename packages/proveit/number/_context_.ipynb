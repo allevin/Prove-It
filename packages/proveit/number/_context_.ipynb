{
 "cells": [
  {
   "cell_type": "markdown",
   "metadata": {
    "collapsed": true
   },
   "source": [
    "Context: <a href=\"../_context_.ipynb\" class=\"ProveItLink\">proveit</a>.number\n",
    "========\n",
    "\n",
    "Covers all generic number concepts: sets of numbers (integers, reals, and complexes), number relations (<, $\\leq$, >, $\\geq$), and numeric operations (+, -, $\\times$, /, mod, exp), and operations over numeric functions ($\\sum$, $\\prod$, $\\partial$, $\\nabla$, $\\int$)."
   ]
  },
  {
   "cell_type": "code",
   "execution_count": 1,
   "metadata": {},
   "outputs": [
    {
     "data": {
      "application/vnd.jupyter.widget-view+json": {
       "model_id": "808f0fd85c524c66b69892b54e3d362d",
       "version_major": 2,
       "version_minor": 0
      },
      "text/plain": [
       "VBox(children=(HBox(children=(HTML(value='<a class=\"ProveItLink\" href=\"_common_.ipynb\">common expressions</a>'…"
      ]
     },
     "metadata": {},
     "output_type": "display_data"
    }
   ],
   "source": [
    "import proveit\n",
    "%context # toggles between interactive and static modes"
   ]
  },
  {
   "cell_type": "code",
   "execution_count": 2,
   "metadata": {
    "collapsed": true
   },
   "outputs": [],
   "source": []
  }
 ],
 "metadata": {
  "kernelspec": {
   "display_name": "Python 3",
   "language": "python",
   "name": "python3"
  },
  "language_info": {
   "codemirror_mode": {
    "name": "ipython",
    "version": 3
   },
   "file_extension": ".py",
   "mimetype": "text/x-python",
   "name": "python",
   "nbconvert_exporter": "python",
   "pygments_lexer": "ipython3",
   "version": "3.7.1"
  }
 },
 "nbformat": 4,
 "nbformat_minor": 1
}
