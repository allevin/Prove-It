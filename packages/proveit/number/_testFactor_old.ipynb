{
 "cells": [
  {
   "cell_type": "code",
   "execution_count": 1,
   "metadata": {
    "collapsed": false,
    "deletable": true,
    "editable": true
   },
   "outputs": [],
   "source": [
    "from proveit.basiclogic import And, Or, NotEquals, In, Singleton, Difference\n",
    "from proveit.number.common import *\n",
    "from proveit.basiclogic import Forall, Exists, Equals\n",
    "from proveit.number import LessThan, LessThanEquals, GreaterThan, GreaterThanEquals, Fraction, DiscreteContiguousSet\n",
    "from proveit.number import Add, Subtract, Multiply, Divide, Fraction, Abs, Exponentiate, Neg, Summation\n",
    "from proveit.multiExpression import Etcetera"
   ]
  },
  {
   "cell_type": "code",
   "execution_count": 2,
   "metadata": {
    "collapsed": true,
    "deletable": true,
    "editable": true
   },
   "outputs": [],
   "source": [
    "assumptions={In(x, Complexes), In(y, Complexes), In(z, Complexes), In(w, Complexes), In(v, Complexes),\n",
    "            NotEquals(w, zero), In(a, Integers), In(b, Integers)}"
   ]
  },
  {
   "cell_type": "code",
   "execution_count": 3,
   "metadata": {
    "collapsed": false,
    "deletable": true,
    "editable": true
   },
   "outputs": [
    {
     "data": {
      "text/latex": [
       "$\\left( x \\cdot y \\right) = \\left( x \\cdot y \\right)$"
      ],
      "text/plain": [
       "$\\left( x \\cdot y \\right) = \\left( x \\cdot y \\right)$"
      ]
     },
     "execution_count": 3,
     "metadata": {},
     "output_type": "execute_result"
    }
   ],
   "source": [
    "Multiply(x, y).factor(x, 'left', assumptions=assumptions).proven(assumptions)"
   ]
  },
  {
   "cell_type": "code",
   "execution_count": 4,
   "metadata": {
    "collapsed": false,
    "deletable": true,
    "editable": true
   },
   "outputs": [
    {
     "data": {
      "text/latex": [
       "$\\left( x \\cdot y \\right) = \\left( y \\cdot x \\right)$"
      ],
      "text/plain": [
       "$\\left( x \\cdot y \\right) = \\left( y \\cdot x \\right)$"
      ]
     },
     "execution_count": 4,
     "metadata": {},
     "output_type": "execute_result"
    }
   ],
   "source": [
    "Multiply(x, y).factor(x, 'right', assumptions=assumptions).proven(assumptions)"
   ]
  },
  {
   "cell_type": "code",
   "execution_count": 5,
   "metadata": {
    "collapsed": false,
    "deletable": true,
    "editable": true
   },
   "outputs": [
    {
     "data": {
      "text/latex": [
       "$\\left( x \\cdot y \\right) = \\left( y \\cdot x \\right)$"
      ],
      "text/plain": [
       "$\\left( x \\cdot y \\right) = \\left( y \\cdot x \\right)$"
      ]
     },
     "execution_count": 5,
     "metadata": {},
     "output_type": "execute_result"
    }
   ],
   "source": [
    "Multiply(x, y).factor(y, 'left', assumptions=assumptions).proven(assumptions)"
   ]
  },
  {
   "cell_type": "code",
   "execution_count": 6,
   "metadata": {
    "collapsed": false,
    "deletable": true,
    "editable": true
   },
   "outputs": [
    {
     "data": {
      "text/latex": [
       "$\\left( x \\cdot y \\right) = \\left( x \\cdot y \\right)$"
      ],
      "text/plain": [
       "$\\left( x \\cdot y \\right) = \\left( x \\cdot y \\right)$"
      ]
     },
     "execution_count": 6,
     "metadata": {},
     "output_type": "execute_result"
    }
   ],
   "source": [
    "Multiply(x, y).factor(y, 'right', assumptions=assumptions).proven(assumptions)"
   ]
  },
  {
   "cell_type": "code",
   "execution_count": 7,
   "metadata": {
    "collapsed": false,
    "deletable": true,
    "editable": true
   },
   "outputs": [
    {
     "data": {
      "text/latex": [
       "$\\left( x \\cdot y \\cdot z \\right) = \\left( x \\cdot y \\cdot z \\right)$"
      ],
      "text/plain": [
       "$\\left( x \\cdot y \\cdot z \\right) = \\left( x \\cdot y \\cdot z \\right)$"
      ]
     },
     "execution_count": 7,
     "metadata": {},
     "output_type": "execute_result"
    }
   ],
   "source": [
    "Multiply(x, y, z).factor(x, 'left', assumptions=assumptions).proven(assumptions)"
   ]
  },
  {
   "cell_type": "code",
   "execution_count": 8,
   "metadata": {
    "collapsed": false,
    "deletable": true,
    "editable": true
   },
   "outputs": [
    {
     "data": {
      "text/latex": [
       "$\\left( x \\cdot y \\cdot z \\right) = \\left( x \\cdot \\left( y \\cdot z \\right) \\right)$"
      ],
      "text/plain": [
       "$\\left( x \\cdot y \\cdot z \\right) = \\left( x \\cdot \\left( y \\cdot z \\right) \\right)$"
      ]
     },
     "execution_count": 8,
     "metadata": {},
     "output_type": "execute_result"
    }
   ],
   "source": [
    "Multiply(x, y, z).factor(x, 'left', groupRemainder=True, assumptions=assumptions).proven(assumptions)"
   ]
  },
  {
   "cell_type": "code",
   "execution_count": 9,
   "metadata": {
    "collapsed": false,
    "deletable": true,
    "editable": true
   },
   "outputs": [
    {
     "data": {
      "text/latex": [
       "$\\left( x \\cdot y \\cdot z \\right) = \\left( y \\cdot z \\cdot x \\right)$"
      ],
      "text/plain": [
       "$\\left( x \\cdot y \\cdot z \\right) = \\left( y \\cdot z \\cdot x \\right)$"
      ]
     },
     "execution_count": 9,
     "metadata": {},
     "output_type": "execute_result"
    }
   ],
   "source": [
    "Multiply(x, y, z).factor(x, 'right', assumptions=assumptions).proven(assumptions)"
   ]
  },
  {
   "cell_type": "code",
   "execution_count": 10,
   "metadata": {
    "collapsed": false,
    "deletable": true,
    "editable": true
   },
   "outputs": [
    {
     "data": {
      "text/latex": [
       "$\\left( x \\cdot y \\cdot z \\right) = \\left( \\left( y \\cdot z \\right) \\cdot x \\right)$"
      ],
      "text/plain": [
       "$\\left( x \\cdot y \\cdot z \\right) = \\left( \\left( y \\cdot z \\right) \\cdot x \\right)$"
      ]
     },
     "execution_count": 10,
     "metadata": {},
     "output_type": "execute_result"
    }
   ],
   "source": [
    "Multiply(x, y, z).factor(x, 'right', groupRemainder=True, assumptions=assumptions).proven(assumptions)"
   ]
  },
  {
   "cell_type": "code",
   "execution_count": 11,
   "metadata": {
    "collapsed": false,
    "deletable": true,
    "editable": true
   },
   "outputs": [
    {
     "data": {
      "text/latex": [
       "$\\left( x \\cdot y \\cdot z \\right) = \\left( y \\cdot x \\cdot z \\right)$"
      ],
      "text/plain": [
       "$\\left( x \\cdot y \\cdot z \\right) = \\left( y \\cdot x \\cdot z \\right)$"
      ]
     },
     "execution_count": 11,
     "metadata": {},
     "output_type": "execute_result"
    }
   ],
   "source": [
    "Multiply(x, y, z).factor(y, 'left', assumptions=assumptions).proven(assumptions)"
   ]
  },
  {
   "cell_type": "code",
   "execution_count": 12,
   "metadata": {
    "collapsed": false,
    "deletable": true,
    "editable": true
   },
   "outputs": [
    {
     "data": {
      "text/latex": [
       "$\\left( x \\cdot y \\cdot z \\right) = \\left( x \\cdot z \\cdot y \\right)$"
      ],
      "text/plain": [
       "$\\left( x \\cdot y \\cdot z \\right) = \\left( x \\cdot z \\cdot y \\right)$"
      ]
     },
     "execution_count": 12,
     "metadata": {},
     "output_type": "execute_result"
    }
   ],
   "source": [
    "Multiply(x, y, z).factor(y, 'right', assumptions=assumptions).proven(assumptions)"
   ]
  },
  {
   "cell_type": "code",
   "execution_count": 13,
   "metadata": {
    "collapsed": false,
    "deletable": true,
    "editable": true
   },
   "outputs": [
    {
     "data": {
      "text/latex": [
       "$\\left( x \\cdot y \\cdot z \\right) = \\left( z \\cdot x \\cdot y \\right)$"
      ],
      "text/plain": [
       "$\\left( x \\cdot y \\cdot z \\right) = \\left( z \\cdot x \\cdot y \\right)$"
      ]
     },
     "execution_count": 13,
     "metadata": {},
     "output_type": "execute_result"
    }
   ],
   "source": [
    "Multiply(x, y, z).factor(z, 'left', assumptions=assumptions).proven(assumptions)"
   ]
  },
  {
   "cell_type": "code",
   "execution_count": 14,
   "metadata": {
    "collapsed": false,
    "deletable": true,
    "editable": true
   },
   "outputs": [
    {
     "data": {
      "text/latex": [
       "$\\left( x \\cdot y \\cdot z \\right) = \\left( x \\cdot y \\cdot z \\right)$"
      ],
      "text/plain": [
       "$\\left( x \\cdot y \\cdot z \\right) = \\left( x \\cdot y \\cdot z \\right)$"
      ]
     },
     "execution_count": 14,
     "metadata": {},
     "output_type": "execute_result"
    }
   ],
   "source": [
    "Multiply(x, y, z).factor(z, 'right', assumptions=assumptions).proven(assumptions)"
   ]
  },
  {
   "cell_type": "code",
   "execution_count": 15,
   "metadata": {
    "collapsed": false,
    "deletable": true,
    "editable": true
   },
   "outputs": [
    {
     "data": {
      "text/latex": [
       "$\\left( x \\cdot y \\cdot z \\right) = \\left( \\left( x \\cdot y \\right) \\cdot z \\right)$"
      ],
      "text/plain": [
       "$\\left( x \\cdot y \\cdot z \\right) = \\left( \\left( x \\cdot y \\right) \\cdot z \\right)$"
      ]
     },
     "execution_count": 15,
     "metadata": {},
     "output_type": "execute_result"
    }
   ],
   "source": [
    "Multiply(x, y, z).factor(Multiply(x, y), 'left', assumptions=assumptions).proven(assumptions)"
   ]
  },
  {
   "cell_type": "code",
   "execution_count": 16,
   "metadata": {
    "collapsed": false,
    "deletable": true,
    "editable": true
   },
   "outputs": [
    {
     "data": {
      "text/latex": [
       "$\\left( x \\cdot y \\cdot z \\right) = \\left( z \\cdot \\left( x \\cdot y \\right) \\right)$"
      ],
      "text/plain": [
       "$\\left( x \\cdot y \\cdot z \\right) = \\left( z \\cdot \\left( x \\cdot y \\right) \\right)$"
      ]
     },
     "execution_count": 16,
     "metadata": {},
     "output_type": "execute_result"
    }
   ],
   "source": [
    "Multiply(x, y, z).factor(Multiply(x, y), 'right', assumptions=assumptions).proven(assumptions)"
   ]
  },
  {
   "cell_type": "code",
   "execution_count": 17,
   "metadata": {
    "collapsed": false,
    "deletable": true,
    "editable": true
   },
   "outputs": [
    {
     "data": {
      "text/latex": [
       "$\\left( x \\cdot y \\cdot z \\right) = \\left( \\left( y \\cdot z \\right) \\cdot x \\right)$"
      ],
      "text/plain": [
       "$\\left( x \\cdot y \\cdot z \\right) = \\left( \\left( y \\cdot z \\right) \\cdot x \\right)$"
      ]
     },
     "execution_count": 17,
     "metadata": {},
     "output_type": "execute_result"
    }
   ],
   "source": [
    "Multiply(x, y, z).factor(Multiply(y, z), 'left', assumptions=assumptions).proven(assumptions)"
   ]
  },
  {
   "cell_type": "code",
   "execution_count": 18,
   "metadata": {
    "collapsed": false,
    "deletable": true,
    "editable": true
   },
   "outputs": [
    {
     "data": {
      "text/latex": [
       "$\\left( x \\cdot y \\cdot z \\right) = \\left( x \\cdot \\left( y \\cdot z \\right) \\right)$"
      ],
      "text/plain": [
       "$\\left( x \\cdot y \\cdot z \\right) = \\left( x \\cdot \\left( y \\cdot z \\right) \\right)$"
      ]
     },
     "execution_count": 18,
     "metadata": {},
     "output_type": "execute_result"
    }
   ],
   "source": [
    "Multiply(x, y, z).factor(Multiply(y, z), 'right', assumptions=assumptions).proven(assumptions)"
   ]
  },
  {
   "cell_type": "code",
   "execution_count": 19,
   "metadata": {
    "collapsed": false,
    "deletable": true,
    "editable": true
   },
   "outputs": [
    {
     "data": {
      "text/latex": [
       "$\\left( x \\cdot y \\cdot z \\cdot w \\right) = \\left( \\left( x \\cdot y \\right) \\cdot z \\cdot w \\right)$"
      ],
      "text/plain": [
       "$\\left( x \\cdot y \\cdot z \\cdot w \\right) = \\left( \\left( x \\cdot y \\right) \\cdot z \\cdot w \\right)$"
      ]
     },
     "execution_count": 19,
     "metadata": {},
     "output_type": "execute_result"
    }
   ],
   "source": [
    "Multiply(x, y, z, w).factor(Multiply(x, y), 'left', assumptions=assumptions).proven(assumptions)"
   ]
  },
  {
   "cell_type": "code",
   "execution_count": 20,
   "metadata": {
    "collapsed": false,
    "deletable": true,
    "editable": true
   },
   "outputs": [
    {
     "data": {
      "text/latex": [
       "$\\left( x \\cdot y \\cdot z \\cdot w \\right) = \\left( z \\cdot w \\cdot \\left( x \\cdot y \\right) \\right)$"
      ],
      "text/plain": [
       "$\\left( x \\cdot y \\cdot z \\cdot w \\right) = \\left( z \\cdot w \\cdot \\left( x \\cdot y \\right) \\right)$"
      ]
     },
     "execution_count": 20,
     "metadata": {},
     "output_type": "execute_result"
    }
   ],
   "source": [
    "Multiply(x, y, z, w).factor(Multiply(x, y), 'right', assumptions=assumptions).proven(assumptions)"
   ]
  },
  {
   "cell_type": "code",
   "execution_count": 21,
   "metadata": {
    "collapsed": false,
    "deletable": true,
    "editable": true
   },
   "outputs": [
    {
     "data": {
      "text/latex": [
       "$\\left( x \\cdot y \\cdot z \\cdot w \\right) = \\left( \\left( y \\cdot z \\right) \\cdot x \\cdot w \\right)$"
      ],
      "text/plain": [
       "$\\left( x \\cdot y \\cdot z \\cdot w \\right) = \\left( \\left( y \\cdot z \\right) \\cdot x \\cdot w \\right)$"
      ]
     },
     "execution_count": 21,
     "metadata": {},
     "output_type": "execute_result"
    }
   ],
   "source": [
    "Multiply(x, y, z, w).factor(Multiply(y, z), 'left', assumptions=assumptions).proven(assumptions)"
   ]
  },
  {
   "cell_type": "code",
   "execution_count": 22,
   "metadata": {
    "collapsed": false,
    "deletable": true,
    "editable": true
   },
   "outputs": [
    {
     "data": {
      "text/latex": [
       "$\\left( x \\cdot y \\cdot z \\cdot w \\right) = \\left( x \\cdot w \\cdot \\left( y \\cdot z \\right) \\right)$"
      ],
      "text/plain": [
       "$\\left( x \\cdot y \\cdot z \\cdot w \\right) = \\left( x \\cdot w \\cdot \\left( y \\cdot z \\right) \\right)$"
      ]
     },
     "execution_count": 22,
     "metadata": {},
     "output_type": "execute_result"
    }
   ],
   "source": [
    "Multiply(x, y, z, w).factor(Multiply(y, z), 'right', assumptions=assumptions).proven(assumptions)"
   ]
  },
  {
   "cell_type": "code",
   "execution_count": 23,
   "metadata": {
    "collapsed": false,
    "deletable": true,
    "editable": true
   },
   "outputs": [
    {
     "data": {
      "text/latex": [
       "$\\left( x \\cdot y \\cdot z \\cdot w \\right) = \\left( \\left( z \\cdot w \\right) \\cdot x \\cdot y \\right)$"
      ],
      "text/plain": [
       "$\\left( x \\cdot y \\cdot z \\cdot w \\right) = \\left( \\left( z \\cdot w \\right) \\cdot x \\cdot y \\right)$"
      ]
     },
     "execution_count": 23,
     "metadata": {},
     "output_type": "execute_result"
    }
   ],
   "source": [
    "Multiply(x, y, z, w).factor(Multiply(z, w), 'left', assumptions=assumptions).proven(assumptions)"
   ]
  },
  {
   "cell_type": "code",
   "execution_count": 24,
   "metadata": {
    "collapsed": false,
    "deletable": true,
    "editable": true
   },
   "outputs": [
    {
     "data": {
      "text/latex": [
       "$\\left( x \\cdot y \\cdot z \\cdot w \\right) = \\left( \\left( z \\cdot w \\right) \\cdot \\left( x \\cdot y \\right) \\right)$"
      ],
      "text/plain": [
       "$\\left( x \\cdot y \\cdot z \\cdot w \\right) = \\left( \\left( z \\cdot w \\right) \\cdot \\left( x \\cdot y \\right) \\right)$"
      ]
     },
     "execution_count": 24,
     "metadata": {},
     "output_type": "execute_result"
    }
   ],
   "source": [
    "Multiply(x, y, z, w).factor(Multiply(z, w), 'left', groupRemainder=True, assumptions=assumptions).proven(assumptions)"
   ]
  },
  {
   "cell_type": "code",
   "execution_count": 25,
   "metadata": {
    "collapsed": false,
    "deletable": true,
    "editable": true
   },
   "outputs": [
    {
     "data": {
      "text/latex": [
       "$\\left( x \\cdot y \\cdot z \\cdot w \\right) = \\left( z \\cdot w \\cdot \\left( x \\cdot y \\right) \\right)$"
      ],
      "text/plain": [
       "$\\left( x \\cdot y \\cdot z \\cdot w \\right) = \\left( z \\cdot w \\cdot \\left( x \\cdot y \\right) \\right)$"
      ]
     },
     "execution_count": 25,
     "metadata": {},
     "output_type": "execute_result"
    }
   ],
   "source": [
    "Multiply(x, y, z, w).factor(Multiply(z, w), 'left', groupFactor=False, groupRemainder=True, assumptions=assumptions).proven(assumptions)"
   ]
  },
  {
   "cell_type": "code",
   "execution_count": 26,
   "metadata": {
    "collapsed": false,
    "deletable": true,
    "editable": true
   },
   "outputs": [
    {
     "data": {
      "text/latex": [
       "$\\left( x \\cdot y \\cdot z \\cdot w \\right) = \\left( x \\cdot y \\cdot \\left( z \\cdot w \\right) \\right)$"
      ],
      "text/plain": [
       "$\\left( x \\cdot y \\cdot z \\cdot w \\right) = \\left( x \\cdot y \\cdot \\left( z \\cdot w \\right) \\right)$"
      ]
     },
     "execution_count": 26,
     "metadata": {},
     "output_type": "execute_result"
    }
   ],
   "source": [
    "Multiply(x, y, z, w).factor(Multiply(z, w), 'right', assumptions=assumptions).proven(assumptions)"
   ]
  },
  {
   "cell_type": "code",
   "execution_count": 27,
   "metadata": {
    "collapsed": false,
    "deletable": true,
    "editable": true
   },
   "outputs": [
    {
     "data": {
      "text/latex": [
       "$\\left( x \\cdot y \\cdot z \\cdot w \\right) = \\left( \\left( x \\cdot y \\right) \\cdot \\left( z \\cdot w \\right) \\right)$"
      ],
      "text/plain": [
       "$\\left( x \\cdot y \\cdot z \\cdot w \\right) = \\left( \\left( x \\cdot y \\right) \\cdot \\left( z \\cdot w \\right) \\right)$"
      ]
     },
     "execution_count": 27,
     "metadata": {},
     "output_type": "execute_result"
    }
   ],
   "source": [
    "Multiply(x, y, z, w).factor(Multiply(z, w), 'right', groupRemainder=True, assumptions=assumptions).proven(assumptions)"
   ]
  },
  {
   "cell_type": "code",
   "execution_count": 28,
   "metadata": {
    "collapsed": false,
    "deletable": true,
    "editable": true
   },
   "outputs": [
    {
     "data": {
      "text/latex": [
       "$\\left( x \\cdot y \\cdot z \\cdot w \\right) = \\left( \\left( x \\cdot y \\right) \\cdot z \\cdot w \\right)$"
      ],
      "text/plain": [
       "$\\left( x \\cdot y \\cdot z \\cdot w \\right) = \\left( \\left( x \\cdot y \\right) \\cdot z \\cdot w \\right)$"
      ]
     },
     "execution_count": 28,
     "metadata": {},
     "output_type": "execute_result"
    }
   ],
   "source": [
    "Multiply(x, y, z, w).factor(Multiply(z, w), 'right', groupFactor=False, groupRemainder=True, assumptions=assumptions).proven(assumptions)"
   ]
  },
  {
   "cell_type": "code",
   "execution_count": 29,
   "metadata": {
    "collapsed": false,
    "deletable": true,
    "editable": true
   },
   "outputs": [
    {
     "data": {
      "text/latex": [
       "$\\left( x \\cdot y \\cdot z \\cdot w \\right) = \\left( \\left( x \\cdot y \\cdot z \\right) \\cdot w \\right)$"
      ],
      "text/plain": [
       "$\\left( x \\cdot y \\cdot z \\cdot w \\right) = \\left( \\left( x \\cdot y \\cdot z \\right) \\cdot w \\right)$"
      ]
     },
     "execution_count": 29,
     "metadata": {},
     "output_type": "execute_result"
    }
   ],
   "source": [
    "Multiply(x, y, z, w).factor(Multiply(x, y, z), 'left', assumptions=assumptions).proven(assumptions)"
   ]
  },
  {
   "cell_type": "code",
   "execution_count": 30,
   "metadata": {
    "collapsed": false,
    "deletable": true,
    "editable": true
   },
   "outputs": [
    {
     "data": {
      "text/latex": [
       "$\\left( x \\cdot y \\cdot z \\cdot w \\right) = \\left( w \\cdot \\left( x \\cdot y \\cdot z \\right) \\right)$"
      ],
      "text/plain": [
       "$\\left( x \\cdot y \\cdot z \\cdot w \\right) = \\left( w \\cdot \\left( x \\cdot y \\cdot z \\right) \\right)$"
      ]
     },
     "execution_count": 30,
     "metadata": {},
     "output_type": "execute_result"
    }
   ],
   "source": [
    "Multiply(x, y, z, w).factor(Multiply(x, y, z), 'right', assumptions=assumptions).proven(assumptions)"
   ]
  },
  {
   "cell_type": "code",
   "execution_count": 31,
   "metadata": {
    "collapsed": false,
    "deletable": true,
    "editable": true
   },
   "outputs": [
    {
     "data": {
      "text/latex": [
       "$\\left( x \\cdot y \\cdot z \\cdot w \\right) = \\left( \\left( y \\cdot z \\cdot w \\right) \\cdot x \\right)$"
      ],
      "text/plain": [
       "$\\left( x \\cdot y \\cdot z \\cdot w \\right) = \\left( \\left( y \\cdot z \\cdot w \\right) \\cdot x \\right)$"
      ]
     },
     "execution_count": 31,
     "metadata": {},
     "output_type": "execute_result"
    }
   ],
   "source": [
    "Multiply(x, y, z, w).factor(Multiply(y, z, w), 'left', assumptions=assumptions).proven(assumptions)"
   ]
  },
  {
   "cell_type": "code",
   "execution_count": 32,
   "metadata": {
    "collapsed": false,
    "deletable": true,
    "editable": true
   },
   "outputs": [
    {
     "data": {
      "text/latex": [
       "$\\left( x \\cdot y \\cdot z \\cdot w \\right) = \\left( x \\cdot \\left( y \\cdot z \\cdot w \\right) \\right)$"
      ],
      "text/plain": [
       "$\\left( x \\cdot y \\cdot z \\cdot w \\right) = \\left( x \\cdot \\left( y \\cdot z \\cdot w \\right) \\right)$"
      ]
     },
     "execution_count": 32,
     "metadata": {},
     "output_type": "execute_result"
    }
   ],
   "source": [
    "Multiply(x, y, z, w).factor(Multiply(y, z, w), 'right', assumptions=assumptions).proven(assumptions)"
   ]
  },
  {
   "cell_type": "code",
   "execution_count": 33,
   "metadata": {
    "collapsed": false,
    "deletable": true,
    "editable": true
   },
   "outputs": [
    {
     "data": {
      "text/latex": [
       "$\\frac{ x \\cdot y \\cdot z }{w} = \\left( x \\cdot \\frac{ y \\cdot z }{w} \\right)$"
      ],
      "text/plain": [
       "$\\frac{ x \\cdot y \\cdot z }{w} = \\left( x \\cdot \\frac{ y \\cdot z }{w} \\right)$"
      ]
     },
     "execution_count": 33,
     "metadata": {},
     "output_type": "execute_result"
    }
   ],
   "source": [
    "Fraction(Multiply(x, y, z), w).factor(x, 'left', assumptions=assumptions).proven(assumptions)"
   ]
  },
  {
   "cell_type": "code",
   "execution_count": 34,
   "metadata": {
    "collapsed": false,
    "deletable": true,
    "editable": true
   },
   "outputs": [
    {
     "data": {
      "text/latex": [
       "$\\frac{ x \\cdot y \\cdot z }{w} = \\left( z \\cdot \\frac{ x \\cdot y }{w} \\right)$"
      ],
      "text/plain": [
       "$\\frac{ x \\cdot y \\cdot z }{w} = \\left( z \\cdot \\frac{ x \\cdot y }{w} \\right)$"
      ]
     },
     "execution_count": 34,
     "metadata": {},
     "output_type": "execute_result"
    }
   ],
   "source": [
    "Fraction(Multiply(x, y, z), w).factor(z, 'left', assumptions=assumptions).proven(assumptions)"
   ]
  },
  {
   "cell_type": "code",
   "execution_count": 35,
   "metadata": {
    "collapsed": false,
    "deletable": true,
    "editable": true
   },
   "outputs": [
    {
     "data": {
      "text/latex": [
       "$\\frac{ x \\cdot y \\cdot z }{w} = \\left( \\frac{ y \\cdot z }{w} \\cdot x \\right)$"
      ],
      "text/plain": [
       "$\\frac{ x \\cdot y \\cdot z }{w} = \\left( \\frac{ y \\cdot z }{w} \\cdot x \\right)$"
      ]
     },
     "execution_count": 35,
     "metadata": {},
     "output_type": "execute_result"
    }
   ],
   "source": [
    "Fraction(Multiply(x, y, z), w).factor(x, 'right', assumptions=assumptions).proven(assumptions)"
   ]
  },
  {
   "cell_type": "code",
   "execution_count": 36,
   "metadata": {
    "collapsed": false,
    "deletable": true,
    "editable": true
   },
   "outputs": [
    {
     "data": {
      "text/latex": [
       "$\\frac{ x \\cdot y \\cdot z }{w} = \\left( x \\cdot y \\cdot \\frac{z}{w} \\right)$"
      ],
      "text/plain": [
       "$\\frac{ x \\cdot y \\cdot z }{w} = \\left( x \\cdot y \\cdot \\frac{z}{w} \\right)$"
      ]
     },
     "execution_count": 36,
     "metadata": {},
     "output_type": "execute_result"
    }
   ],
   "source": [
    "Fraction(Multiply(x, y, z), w).factor(Multiply(x, y), 'left', assumptions=assumptions).proven(assumptions)"
   ]
  },
  {
   "cell_type": "code",
   "execution_count": 37,
   "metadata": {
    "collapsed": false,
    "deletable": true,
    "editable": true
   },
   "outputs": [
    {
     "data": {
      "text/latex": [
       "$\\frac{ x \\cdot y \\cdot z }{w} = \\left( \\left( x \\cdot y \\right) \\cdot \\frac{z}{w} \\right)$"
      ],
      "text/plain": [
       "$\\frac{ x \\cdot y \\cdot z }{w} = \\left( \\left( x \\cdot y \\right) \\cdot \\frac{z}{w} \\right)$"
      ]
     },
     "execution_count": 37,
     "metadata": {},
     "output_type": "execute_result"
    }
   ],
   "source": [
    "Fraction(Multiply(x, y, z), w).factor(Multiply(x, y), 'left', groupFactor=True, assumptions=assumptions).proven(assumptions)"
   ]
  },
  {
   "cell_type": "code",
   "execution_count": 38,
   "metadata": {
    "collapsed": false,
    "deletable": true,
    "editable": true
   },
   "outputs": [
    {
     "data": {
      "text/latex": [
       "$\\frac{ x \\cdot y \\cdot z }{w} = \\left( \\frac{z}{w} \\cdot x \\cdot y \\right)$"
      ],
      "text/plain": [
       "$\\frac{ x \\cdot y \\cdot z }{w} = \\left( \\frac{z}{w} \\cdot x \\cdot y \\right)$"
      ]
     },
     "execution_count": 38,
     "metadata": {},
     "output_type": "execute_result"
    }
   ],
   "source": [
    "Fraction(Multiply(x, y, z), w).factor(Multiply(x, y), 'right', assumptions=assumptions).proven(assumptions)"
   ]
  },
  {
   "cell_type": "code",
   "execution_count": 39,
   "metadata": {
    "collapsed": false,
    "deletable": true,
    "editable": true
   },
   "outputs": [
    {
     "data": {
      "text/latex": [
       "$\\frac{ x \\cdot y \\cdot z }{w} = \\left( \\frac{z}{w} \\cdot \\left( x \\cdot y \\right) \\right)$"
      ],
      "text/plain": [
       "$\\frac{ x \\cdot y \\cdot z }{w} = \\left( \\frac{z}{w} \\cdot \\left( x \\cdot y \\right) \\right)$"
      ]
     },
     "execution_count": 39,
     "metadata": {},
     "output_type": "execute_result"
    }
   ],
   "source": [
    "Fraction(Multiply(x, y, z), w).factor(Multiply(x, y), 'right', groupFactor=True, assumptions=assumptions).proven(assumptions)"
   ]
  },
  {
   "cell_type": "code",
   "execution_count": 40,
   "metadata": {
    "collapsed": false,
    "deletable": true,
    "editable": true
   },
   "outputs": [
    {
     "data": {
      "text/latex": [
       "$\\frac{ x \\cdot y \\cdot z }{w} = \\left( y \\cdot z \\cdot \\frac{x}{w} \\right)$"
      ],
      "text/plain": [
       "$\\frac{ x \\cdot y \\cdot z }{w} = \\left( y \\cdot z \\cdot \\frac{x}{w} \\right)$"
      ]
     },
     "execution_count": 40,
     "metadata": {},
     "output_type": "execute_result"
    }
   ],
   "source": [
    "Fraction(Multiply(x, y, z), w).factor(Multiply(y, z), 'left', assumptions=assumptions).proven(assumptions)"
   ]
  },
  {
   "cell_type": "code",
   "execution_count": 41,
   "metadata": {
    "collapsed": false,
    "deletable": true,
    "editable": true
   },
   "outputs": [
    {
     "data": {
      "text/latex": [
       "$\\frac{ x \\cdot y \\cdot z }{w} = \\left( \\left( y \\cdot z \\right) \\cdot \\frac{x}{w} \\right)$"
      ],
      "text/plain": [
       "$\\frac{ x \\cdot y \\cdot z }{w} = \\left( \\left( y \\cdot z \\right) \\cdot \\frac{x}{w} \\right)$"
      ]
     },
     "execution_count": 41,
     "metadata": {},
     "output_type": "execute_result"
    }
   ],
   "source": [
    "Fraction(Multiply(x, y, z), w).factor(Multiply(y, z), 'left', groupFactor=True, assumptions=assumptions).proven(assumptions)"
   ]
  },
  {
   "cell_type": "code",
   "execution_count": 42,
   "metadata": {
    "collapsed": false,
    "deletable": true,
    "editable": true
   },
   "outputs": [
    {
     "data": {
      "text/latex": [
       "$\\frac{ x \\cdot y \\cdot z }{w} = \\left( \\frac{x}{w} \\cdot y \\cdot z \\right)$"
      ],
      "text/plain": [
       "$\\frac{ x \\cdot y \\cdot z }{w} = \\left( \\frac{x}{w} \\cdot y \\cdot z \\right)$"
      ]
     },
     "execution_count": 42,
     "metadata": {},
     "output_type": "execute_result"
    }
   ],
   "source": [
    "Fraction(Multiply(x, y, z), w).factor(Multiply(y, z), 'right', assumptions=assumptions).proven(assumptions)"
   ]
  },
  {
   "cell_type": "code",
   "execution_count": 43,
   "metadata": {
    "collapsed": false,
    "deletable": true,
    "editable": true
   },
   "outputs": [
    {
     "data": {
      "text/latex": [
       "$\\frac{ x \\cdot y \\cdot z }{w} = \\left( \\frac{x}{w} \\cdot \\left( y \\cdot z \\right) \\right)$"
      ],
      "text/plain": [
       "$\\frac{ x \\cdot y \\cdot z }{w} = \\left( \\frac{x}{w} \\cdot \\left( y \\cdot z \\right) \\right)$"
      ]
     },
     "execution_count": 43,
     "metadata": {},
     "output_type": "execute_result"
    }
   ],
   "source": [
    "Fraction(Multiply(x, y, z), w).factor(Multiply(y, z), 'right', groupFactor=True, assumptions=assumptions).proven(assumptions)"
   ]
  },
  {
   "cell_type": "code",
   "execution_count": 44,
   "metadata": {
    "collapsed": false,
    "deletable": true,
    "editable": true
   },
   "outputs": [
    {
     "data": {
      "text/latex": [
       "$\\frac{ x \\cdot y \\cdot z }{w} = \\left( \\frac{ x \\cdot y }{w} \\cdot z \\right)$"
      ],
      "text/plain": [
       "$\\frac{ x \\cdot y \\cdot z }{w} = \\left( \\frac{ x \\cdot y }{w} \\cdot z \\right)$"
      ]
     },
     "execution_count": 44,
     "metadata": {},
     "output_type": "execute_result"
    }
   ],
   "source": [
    "Fraction(Multiply(x, y, z), w).factor(z, 'right', assumptions=assumptions).proven(assumptions)"
   ]
  },
  {
   "cell_type": "code",
   "execution_count": 45,
   "metadata": {
    "collapsed": false,
    "deletable": true,
    "editable": true
   },
   "outputs": [
    {
     "data": {
      "text/latex": [
       "$\\frac{ x \\cdot y \\cdot z }{ w \\cdot v } = \\left( \\frac{y}{v} \\cdot \\frac{ x \\cdot z }{w} \\right)$"
      ],
      "text/plain": [
       "$\\frac{ x \\cdot y \\cdot z }{ w \\cdot v } = \\left( \\frac{y}{v} \\cdot \\frac{ x \\cdot z }{w} \\right)$"
      ]
     },
     "execution_count": 45,
     "metadata": {},
     "output_type": "execute_result"
    }
   ],
   "source": [
    "Fraction(Multiply(x, y, z), Multiply(w, v)).factor(Fraction(y, v), 'left', assumptions=assumptions).proven(assumptions)"
   ]
  },
  {
   "cell_type": "code",
   "execution_count": 46,
   "metadata": {
    "collapsed": false,
    "deletable": true,
    "editable": true
   },
   "outputs": [
    {
     "data": {
      "text/latex": [
       "$\\frac{ x \\cdot y \\cdot z }{ w \\cdot v } = \\left( \\frac{ x \\cdot z }{w} \\cdot \\frac{y}{v} \\right)$"
      ],
      "text/plain": [
       "$\\frac{ x \\cdot y \\cdot z }{ w \\cdot v } = \\left( \\frac{ x \\cdot z }{w} \\cdot \\frac{y}{v} \\right)$"
      ]
     },
     "execution_count": 46,
     "metadata": {},
     "output_type": "execute_result"
    }
   ],
   "source": [
    "Fraction(Multiply(x, y, z), Multiply(w, v)).factor(Fraction(y, v), 'right', assumptions=assumptions).proven(assumptions)"
   ]
  },
  {
   "cell_type": "code",
   "execution_count": 47,
   "metadata": {
    "collapsed": false,
    "deletable": true,
    "editable": true
   },
   "outputs": [
    {
     "data": {
      "text/latex": [
       "$\\frac{ x \\cdot y \\cdot z }{ w \\cdot v } = \\left( \\frac{x}{w} \\cdot \\frac{ y \\cdot z }{v} \\right)$"
      ],
      "text/plain": [
       "$\\frac{ x \\cdot y \\cdot z }{ w \\cdot v } = \\left( \\frac{x}{w} \\cdot \\frac{ y \\cdot z }{v} \\right)$"
      ]
     },
     "execution_count": 47,
     "metadata": {},
     "output_type": "execute_result"
    }
   ],
   "source": [
    "Fraction(Multiply(x, y, z), Multiply(w, v)).factor(Fraction(x, w), 'left', assumptions=assumptions).proven(assumptions)"
   ]
  },
  {
   "cell_type": "code",
   "execution_count": 48,
   "metadata": {
    "collapsed": false,
    "deletable": true,
    "editable": true
   },
   "outputs": [
    {
     "data": {
      "text/latex": [
       "$\\frac{ x \\cdot y \\cdot z }{ w \\cdot v } = \\left( \\frac{ y \\cdot z }{v} \\cdot \\frac{x}{w} \\right)$"
      ],
      "text/plain": [
       "$\\frac{ x \\cdot y \\cdot z }{ w \\cdot v } = \\left( \\frac{ y \\cdot z }{v} \\cdot \\frac{x}{w} \\right)$"
      ]
     },
     "execution_count": 48,
     "metadata": {},
     "output_type": "execute_result"
    }
   ],
   "source": [
    "Fraction(Multiply(x, y, z), Multiply(w, v)).factor(Fraction(x, w), 'right', assumptions=assumptions).proven(assumptions)"
   ]
  },
  {
   "cell_type": "code",
   "execution_count": 49,
   "metadata": {
    "collapsed": false,
    "deletable": true,
    "editable": true
   },
   "outputs": [
    {
     "data": {
      "text/latex": [
       "$\\frac{x}{ w \\cdot y \\cdot z } = \\left( \\frac{1}{z} \\cdot \\frac{x}{ w \\cdot y } \\right)$"
      ],
      "text/plain": [
       "$\\frac{x}{ w \\cdot y \\cdot z } = \\left( \\frac{1}{z} \\cdot \\frac{x}{ w \\cdot y } \\right)$"
      ]
     },
     "execution_count": 49,
     "metadata": {},
     "output_type": "execute_result"
    }
   ],
   "source": [
    "Fraction(x, Multiply(w, y, z)).factor(Fraction(one, z), 'left', assumptions=assumptions).proven(assumptions)"
   ]
  },
  {
   "cell_type": "code",
   "execution_count": 50,
   "metadata": {
    "collapsed": false,
    "deletable": true,
    "editable": true
   },
   "outputs": [
    {
     "data": {
      "text/latex": [
       "$\\frac{x}{ w \\cdot y \\cdot z } = \\left( \\frac{x}{ w \\cdot y } \\cdot \\frac{1}{z} \\right)$"
      ],
      "text/plain": [
       "$\\frac{x}{ w \\cdot y \\cdot z } = \\left( \\frac{x}{ w \\cdot y } \\cdot \\frac{1}{z} \\right)$"
      ]
     },
     "execution_count": 50,
     "metadata": {},
     "output_type": "execute_result"
    }
   ],
   "source": [
    "Fraction(x, Multiply(w, y, z)).factor(Fraction(one, z), 'right', assumptions=assumptions).proven(assumptions)"
   ]
  },
  {
   "cell_type": "code",
   "execution_count": 51,
   "metadata": {
    "collapsed": false,
    "deletable": true,
    "editable": true
   },
   "outputs": [
    {
     "data": {
      "text/latex": [
       "$\\frac{x}{ w \\cdot y \\cdot z } = \\left( \\frac{x}{ w \\cdot z } \\cdot \\frac{1}{y} \\right)$"
      ],
      "text/plain": [
       "$\\frac{x}{ w \\cdot y \\cdot z } = \\left( \\frac{x}{ w \\cdot z } \\cdot \\frac{1}{y} \\right)$"
      ]
     },
     "execution_count": 51,
     "metadata": {},
     "output_type": "execute_result"
    }
   ],
   "source": [
    "Fraction(x, Multiply(w, y, z)).factor(Fraction(one, y), 'right', assumptions=assumptions).proven(assumptions)"
   ]
  },
  {
   "cell_type": "code",
   "execution_count": 52,
   "metadata": {
    "collapsed": false,
    "deletable": true,
    "editable": true
   },
   "outputs": [
    {
     "data": {
      "text/latex": [
       "$\\left(-\\left( x \\cdot y \\cdot z \\right)\\right) = \\left( \\left(-\\left( x \\cdot z \\right)\\right) \\cdot y \\right)$"
      ],
      "text/plain": [
       "$\\left(-\\left( x \\cdot y \\cdot z \\right)\\right) = \\left( \\left(-\\left( x \\cdot z \\right)\\right) \\cdot y \\right)$"
      ]
     },
     "execution_count": 52,
     "metadata": {},
     "output_type": "execute_result"
    }
   ],
   "source": [
    "Neg(Multiply(x, y, z)).factor(y, 'right', assumptions=assumptions).proven(assumptions)"
   ]
  },
  {
   "cell_type": "code",
   "execution_count": 53,
   "metadata": {
    "collapsed": false,
    "deletable": true,
    "editable": true
   },
   "outputs": [
    {
     "data": {
      "text/latex": [
       "$\\left(-\\left( x \\cdot y \\cdot z \\right)\\right) = \\left( y \\cdot \\left(-\\left( x \\cdot z \\right)\\right) \\right)$"
      ],
      "text/plain": [
       "$\\left(-\\left( x \\cdot y \\cdot z \\right)\\right) = \\left( y \\cdot \\left(-\\left( x \\cdot z \\right)\\right) \\right)$"
      ]
     },
     "execution_count": 53,
     "metadata": {},
     "output_type": "execute_result"
    }
   ],
   "source": [
    "Neg(Multiply(x, y, z)).factor(y, 'left', assumptions=assumptions).proven(assumptions)"
   ]
  },
  {
   "cell_type": "code",
   "execution_count": 54,
   "metadata": {
    "collapsed": false,
    "deletable": true,
    "editable": true
   },
   "outputs": [
    {
     "data": {
      "text/latex": [
       "$\\left(-\\left( x \\cdot y \\cdot z \\right)\\right) = \\left( \\left(-y\\right) \\cdot \\left( x \\cdot z \\right) \\right)$"
      ],
      "text/plain": [
       "$\\left(-\\left( x \\cdot y \\cdot z \\right)\\right) = \\left( \\left(-y\\right) \\cdot \\left( x \\cdot z \\right) \\right)$"
      ]
     },
     "execution_count": 54,
     "metadata": {},
     "output_type": "execute_result"
    }
   ],
   "source": [
    "Neg(Multiply(x, y, z)).factor(Neg(y), 'left', assumptions=assumptions).proven(assumptions)"
   ]
  },
  {
   "cell_type": "code",
   "execution_count": 55,
   "metadata": {
    "collapsed": false,
    "deletable": true,
    "editable": true
   },
   "outputs": [
    {
     "data": {
      "text/latex": [
       "$\\left(-\\left( x \\cdot y \\cdot z \\right)\\right) = \\left( \\left( x \\cdot z \\right) \\cdot \\left(-y\\right) \\right)$"
      ],
      "text/plain": [
       "$\\left(-\\left( x \\cdot y \\cdot z \\right)\\right) = \\left( \\left( x \\cdot z \\right) \\cdot \\left(-y\\right) \\right)$"
      ]
     },
     "execution_count": 55,
     "metadata": {},
     "output_type": "execute_result"
    }
   ],
   "source": [
    "Neg(Multiply(x, y, z)).factor(Neg(y), 'right', assumptions=assumptions).proven(assumptions)"
   ]
  },
  {
   "cell_type": "code",
   "execution_count": 56,
   "metadata": {
    "collapsed": false,
    "deletable": true,
    "editable": true
   },
   "outputs": [
    {
     "data": {
      "text/latex": [
       "$\\left(-\\left( x \\cdot y \\cdot z \\right)\\right) = \\left( z \\cdot \\left(-\\left( x \\cdot y \\right)\\right) \\right)$"
      ],
      "text/plain": [
       "$\\left(-\\left( x \\cdot y \\cdot z \\right)\\right) = \\left( z \\cdot \\left(-\\left( x \\cdot y \\right)\\right) \\right)$"
      ]
     },
     "execution_count": 56,
     "metadata": {},
     "output_type": "execute_result"
    }
   ],
   "source": [
    "Neg(Multiply(x, y, z)).factor(z, 'left', assumptions=assumptions).proven(assumptions)"
   ]
  },
  {
   "cell_type": "code",
   "execution_count": 57,
   "metadata": {
    "collapsed": false,
    "deletable": true,
    "editable": true
   },
   "outputs": [
    {
     "data": {
      "text/latex": [
       "$\\left(-\\left( x \\cdot y \\cdot z \\right)\\right) = \\left( \\left(-z\\right) \\cdot \\left( x \\cdot y \\right) \\right)$"
      ],
      "text/plain": [
       "$\\left(-\\left( x \\cdot y \\cdot z \\right)\\right) = \\left( \\left(-z\\right) \\cdot \\left( x \\cdot y \\right) \\right)$"
      ]
     },
     "execution_count": 57,
     "metadata": {},
     "output_type": "execute_result"
    }
   ],
   "source": [
    "Neg(Multiply(x, y, z)).factor(Neg(z), 'left', assumptions=assumptions).proven(assumptions)"
   ]
  },
  {
   "cell_type": "code",
   "execution_count": 58,
   "metadata": {
    "collapsed": false,
    "deletable": true,
    "editable": true
   },
   "outputs": [
    {
     "data": {
      "text/latex": [
       "$\\left(-\\left( x \\cdot y \\cdot z \\right)\\right) = \\left( \\left(-x\\right) \\cdot \\left( y \\cdot z \\right) \\right)$"
      ],
      "text/plain": [
       "$\\left(-\\left( x \\cdot y \\cdot z \\right)\\right) = \\left( \\left(-x\\right) \\cdot \\left( y \\cdot z \\right) \\right)$"
      ]
     },
     "execution_count": 58,
     "metadata": {},
     "output_type": "execute_result"
    }
   ],
   "source": [
    "Neg(Multiply(x, y, z)).factor(Neg(x), 'left', assumptions=assumptions).proven(assumptions)"
   ]
  },
  {
   "cell_type": "code",
   "execution_count": 59,
   "metadata": {
    "collapsed": false,
    "deletable": true,
    "editable": true
   },
   "outputs": [
    {
     "data": {
      "text/latex": [
       "$\\left(-\\left( x \\cdot y \\cdot z \\right)\\right) = \\left( \\left( y \\cdot z \\right) \\cdot \\left(-x\\right) \\right)$"
      ],
      "text/plain": [
       "$\\left(-\\left( x \\cdot y \\cdot z \\right)\\right) = \\left( \\left( y \\cdot z \\right) \\cdot \\left(-x\\right) \\right)$"
      ]
     },
     "execution_count": 59,
     "metadata": {},
     "output_type": "execute_result"
    }
   ],
   "source": [
    "Neg(Multiply(x, y, z)).factor(Neg(x), 'right', assumptions=assumptions).proven(assumptions)"
   ]
  },
  {
   "cell_type": "code",
   "execution_count": 60,
   "metadata": {
    "collapsed": false,
    "deletable": true,
    "editable": true
   },
   "outputs": [
    {
     "data": {
      "text/latex": [
       "$\\left( \\left( a \\cdot b \\cdot x \\right) + \\left( y \\cdot a \\cdot b \\right) + \\left( z \\cdot a \\cdot b \\right) \\right) = \\left( a \\cdot b \\cdot \\left( x + y + z \\right) \\right)$"
      ],
      "text/plain": [
       "$\\left( \\left( a \\cdot b \\cdot x \\right) + \\left( y \\cdot a \\cdot b \\right) + \\left( z \\cdot a \\cdot b \\right) \\right) = \\left( a \\cdot b \\cdot \\left( x + y + z \\right) \\right)$"
      ]
     },
     "execution_count": 60,
     "metadata": {},
     "output_type": "execute_result"
    }
   ],
   "source": [
    "Add(Multiply(a, b, x), Multiply(y, a, b), Multiply(z, a, b)).factor(Multiply(a, b), 'left', groupFactor=False, assumptions=assumptions).proven(assumptions)"
   ]
  },
  {
   "cell_type": "code",
   "execution_count": 61,
   "metadata": {
    "collapsed": false,
    "deletable": true,
    "editable": true
   },
   "outputs": [
    {
     "data": {
      "text/latex": [
       "$\\left( \\left( a \\cdot b \\cdot x \\right) + \\left( y \\cdot a \\cdot b \\right) + \\left( z \\cdot a \\cdot b \\right) \\right) = \\left( \\left( a \\cdot b \\right) \\cdot \\left( x + y + z \\right) \\right)$"
      ],
      "text/plain": [
       "$\\left( \\left( a \\cdot b \\cdot x \\right) + \\left( y \\cdot a \\cdot b \\right) + \\left( z \\cdot a \\cdot b \\right) \\right) = \\left( \\left( a \\cdot b \\right) \\cdot \\left( x + y + z \\right) \\right)$"
      ]
     },
     "execution_count": 61,
     "metadata": {},
     "output_type": "execute_result"
    }
   ],
   "source": [
    "Add(Multiply(a, b, x), Multiply(y, a, b), Multiply(z, a, b)).factor(Multiply(a, b), 'left', groupFactor=True, assumptions=assumptions).proven(assumptions)"
   ]
  },
  {
   "cell_type": "code",
   "execution_count": 62,
   "metadata": {
    "collapsed": false,
    "deletable": true,
    "editable": true
   },
   "outputs": [
    {
     "data": {
      "text/latex": [
       "$\\left( \\left( a \\cdot b \\cdot x \\right) + \\left( y \\cdot a \\cdot b \\right) + \\left( z \\cdot a \\cdot b \\right) \\right) = \\left( \\left( x + y + z \\right) \\cdot a \\cdot b \\right)$"
      ],
      "text/plain": [
       "$\\left( \\left( a \\cdot b \\cdot x \\right) + \\left( y \\cdot a \\cdot b \\right) + \\left( z \\cdot a \\cdot b \\right) \\right) = \\left( \\left( x + y + z \\right) \\cdot a \\cdot b \\right)$"
      ]
     },
     "execution_count": 62,
     "metadata": {},
     "output_type": "execute_result"
    }
   ],
   "source": [
    "Add(Multiply(a, b, x), Multiply(y, a, b), Multiply(z, a, b)).factor(Multiply(a, b), 'right', groupFactor=False, assumptions=assumptions).proven(assumptions)"
   ]
  },
  {
   "cell_type": "code",
   "execution_count": 63,
   "metadata": {
    "collapsed": false,
    "deletable": true,
    "editable": true
   },
   "outputs": [
    {
     "data": {
      "text/latex": [
       "$\\left( \\left( a \\cdot b \\cdot x \\right) + \\left( y \\cdot a \\cdot b \\right) + \\left( z \\cdot a \\cdot b \\right) \\right) = \\left( \\left( x + y + z \\right) \\cdot \\left( a \\cdot b \\right) \\right)$"
      ],
      "text/plain": [
       "$\\left( \\left( a \\cdot b \\cdot x \\right) + \\left( y \\cdot a \\cdot b \\right) + \\left( z \\cdot a \\cdot b \\right) \\right) = \\left( \\left( x + y + z \\right) \\cdot \\left( a \\cdot b \\right) \\right)$"
      ]
     },
     "execution_count": 63,
     "metadata": {},
     "output_type": "execute_result"
    }
   ],
   "source": [
    "Add(Multiply(a, b, x), Multiply(y, a, b), Multiply(z, a, b)).factor(Multiply(a, b), 'right', groupFactor=True, assumptions=assumptions).proven(assumptions)"
   ]
  },
  {
   "cell_type": "code",
   "execution_count": 64,
   "metadata": {
    "collapsed": false,
    "deletable": true,
    "editable": true
   },
   "outputs": [
    {
     "data": {
      "text/latex": [
       "$\\left(\\left( x \\cdot y \\right) - \\left( x \\cdot z \\right)\\right) = \\left( x \\cdot \\left(y - z\\right) \\right)$"
      ],
      "text/plain": [
       "$\\left(\\left( x \\cdot y \\right) - \\left( x \\cdot z \\right)\\right) = \\left( x \\cdot \\left(y - z\\right) \\right)$"
      ]
     },
     "execution_count": 64,
     "metadata": {},
     "output_type": "execute_result"
    }
   ],
   "source": [
    "Subtract(Multiply(x, y), Multiply(x, z)).factor(x, 'left', assumptions=assumptions).proven(assumptions)"
   ]
  },
  {
   "cell_type": "code",
   "execution_count": 65,
   "metadata": {
    "collapsed": false,
    "deletable": true,
    "editable": true
   },
   "outputs": [
    {
     "data": {
      "text/latex": [
       "$\\left(\\left( x \\cdot y \\right) - \\left( x \\cdot z \\right)\\right) = \\left( \\left(y - z\\right) \\cdot x \\right)$"
      ],
      "text/plain": [
       "$\\left(\\left( x \\cdot y \\right) - \\left( x \\cdot z \\right)\\right) = \\left( \\left(y - z\\right) \\cdot x \\right)$"
      ]
     },
     "execution_count": 65,
     "metadata": {},
     "output_type": "execute_result"
    }
   ],
   "source": [
    "Subtract(Multiply(x, y), Multiply(x, z)).factor(x, 'right', assumptions=assumptions).proven(assumptions)"
   ]
  },
  {
   "cell_type": "code",
   "execution_count": 66,
   "metadata": {
    "collapsed": false,
    "deletable": true,
    "editable": true
   },
   "outputs": [
    {
     "data": {
      "text/latex": [
       "$\\left(\\left( x \\cdot z \\right) - \\left( y \\cdot z \\right)\\right) = \\left( z \\cdot \\left(x - y\\right) \\right)$"
      ],
      "text/plain": [
       "$\\left(\\left( x \\cdot z \\right) - \\left( y \\cdot z \\right)\\right) = \\left( z \\cdot \\left(x - y\\right) \\right)$"
      ]
     },
     "execution_count": 66,
     "metadata": {},
     "output_type": "execute_result"
    }
   ],
   "source": [
    "Subtract(Multiply(x, z), Multiply(y, z)).factor(z, 'left', assumptions=assumptions).proven(assumptions)"
   ]
  },
  {
   "cell_type": "code",
   "execution_count": 67,
   "metadata": {
    "collapsed": false,
    "deletable": true,
    "editable": true
   },
   "outputs": [
    {
     "data": {
      "text/latex": [
       "$\\left(\\left( x \\cdot z \\right) - \\left( y \\cdot z \\right)\\right) = \\left( \\left(x - y\\right) \\cdot z \\right)$"
      ],
      "text/plain": [
       "$\\left(\\left( x \\cdot z \\right) - \\left( y \\cdot z \\right)\\right) = \\left( \\left(x - y\\right) \\cdot z \\right)$"
      ]
     },
     "execution_count": 67,
     "metadata": {},
     "output_type": "execute_result"
    }
   ],
   "source": [
    "Subtract(Multiply(x, z), Multiply(y, z)).factor(z, 'right', assumptions=assumptions).proven(assumptions)"
   ]
  },
  {
   "cell_type": "code",
   "execution_count": 68,
   "metadata": {
    "collapsed": false,
    "deletable": true,
    "editable": true
   },
   "outputs": [
    {
     "data": {
      "text/latex": [
       "$\\left(\\left( x \\cdot y \\cdot z \\right) - \\left( w \\cdot y \\cdot z \\right)\\right) = \\left( z \\cdot \\left(\\left( x \\cdot y \\right) - \\left( w \\cdot y \\right)\\right) \\right)$"
      ],
      "text/plain": [
       "$\\left(\\left( x \\cdot y \\cdot z \\right) - \\left( w \\cdot y \\cdot z \\right)\\right) = \\left( z \\cdot \\left(\\left( x \\cdot y \\right) - \\left( w \\cdot y \\right)\\right) \\right)$"
      ]
     },
     "execution_count": 68,
     "metadata": {},
     "output_type": "execute_result"
    }
   ],
   "source": [
    "Subtract(Multiply(x, y, z), Multiply(w, y, z)).factor(z, 'left', assumptions=assumptions).proven(assumptions)"
   ]
  },
  {
   "cell_type": "code",
   "execution_count": 69,
   "metadata": {
    "collapsed": false,
    "deletable": true,
    "editable": true
   },
   "outputs": [
    {
     "data": {
      "text/latex": [
       "$\\left(\\left( x \\cdot y \\cdot z \\right) - \\left( w \\cdot y \\cdot z \\right)\\right) = \\left( \\left(\\left( x \\cdot y \\right) - \\left( w \\cdot y \\right)\\right) \\cdot z \\right)$"
      ],
      "text/plain": [
       "$\\left(\\left( x \\cdot y \\cdot z \\right) - \\left( w \\cdot y \\cdot z \\right)\\right) = \\left( \\left(\\left( x \\cdot y \\right) - \\left( w \\cdot y \\right)\\right) \\cdot z \\right)$"
      ]
     },
     "execution_count": 69,
     "metadata": {},
     "output_type": "execute_result"
    }
   ],
   "source": [
    "Subtract(Multiply(x, y, z), Multiply(w, y, z)).factor(z, 'right', assumptions=assumptions).proven(assumptions)"
   ]
  },
  {
   "cell_type": "code",
   "execution_count": 70,
   "metadata": {
    "collapsed": false,
    "deletable": true,
    "editable": true
   },
   "outputs": [
    {
     "data": {
      "text/latex": [
       "$\\left(\\left( x \\cdot y \\cdot z \\right) - \\left( w \\cdot y \\cdot z \\right)\\right) = \\left( y \\cdot z \\cdot \\left(x - w\\right) \\right)$"
      ],
      "text/plain": [
       "$\\left(\\left( x \\cdot y \\cdot z \\right) - \\left( w \\cdot y \\cdot z \\right)\\right) = \\left( y \\cdot z \\cdot \\left(x - w\\right) \\right)$"
      ]
     },
     "execution_count": 70,
     "metadata": {},
     "output_type": "execute_result"
    }
   ],
   "source": [
    "Subtract(Multiply(x, y, z), Multiply(w, y, z)).factor(Multiply(y, z), 'left', assumptions=assumptions).proven(assumptions)"
   ]
  },
  {
   "cell_type": "code",
   "execution_count": 71,
   "metadata": {
    "collapsed": false,
    "deletable": true,
    "editable": true
   },
   "outputs": [
    {
     "data": {
      "text/latex": [
       "$\\left(\\left( x \\cdot y \\cdot z \\right) - \\left( w \\cdot y \\cdot z \\right)\\right) = \\left( \\left( y \\cdot z \\right) \\cdot \\left(x - w\\right) \\right)$"
      ],
      "text/plain": [
       "$\\left(\\left( x \\cdot y \\cdot z \\right) - \\left( w \\cdot y \\cdot z \\right)\\right) = \\left( \\left( y \\cdot z \\right) \\cdot \\left(x - w\\right) \\right)$"
      ]
     },
     "execution_count": 71,
     "metadata": {},
     "output_type": "execute_result"
    }
   ],
   "source": [
    "Subtract(Multiply(x, y, z), Multiply(w, y, z)).factor(Multiply(y, z), 'left', groupFactor=True, assumptions=assumptions).proven(assumptions)"
   ]
  },
  {
   "cell_type": "code",
   "execution_count": 72,
   "metadata": {
    "collapsed": false,
    "deletable": true,
    "editable": true
   },
   "outputs": [
    {
     "data": {
      "text/latex": [
       "$\\left(\\left( x \\cdot y \\cdot z \\right) - \\left( w \\cdot y \\cdot z \\right)\\right) = \\left( \\left(x - w\\right) \\cdot y \\cdot z \\right)$"
      ],
      "text/plain": [
       "$\\left(\\left( x \\cdot y \\cdot z \\right) - \\left( w \\cdot y \\cdot z \\right)\\right) = \\left( \\left(x - w\\right) \\cdot y \\cdot z \\right)$"
      ]
     },
     "execution_count": 72,
     "metadata": {},
     "output_type": "execute_result"
    }
   ],
   "source": [
    "Subtract(Multiply(x, y, z), Multiply(w, y, z)).factor(Multiply(y, z), 'right', assumptions=assumptions).proven(assumptions)"
   ]
  },
  {
   "cell_type": "code",
   "execution_count": 73,
   "metadata": {
    "collapsed": false,
    "deletable": true,
    "editable": true
   },
   "outputs": [
    {
     "data": {
      "text/latex": [
       "$\\left(\\left( x \\cdot y \\cdot z \\right) - \\left( w \\cdot y \\cdot z \\right)\\right) = \\left( \\left(x - w\\right) \\cdot \\left( y \\cdot z \\right) \\right)$"
      ],
      "text/plain": [
       "$\\left(\\left( x \\cdot y \\cdot z \\right) - \\left( w \\cdot y \\cdot z \\right)\\right) = \\left( \\left(x - w\\right) \\cdot \\left( y \\cdot z \\right) \\right)$"
      ]
     },
     "execution_count": 73,
     "metadata": {},
     "output_type": "execute_result"
    }
   ],
   "source": [
    "Subtract(Multiply(x, y, z), Multiply(w, y, z)).factor(Multiply(y, z), 'right', groupFactor=True, assumptions=assumptions).proven(assumptions)"
   ]
  },
  {
   "cell_type": "code",
   "execution_count": 74,
   "metadata": {
    "collapsed": false,
    "deletable": true,
    "editable": true
   },
   "outputs": [
    {
     "data": {
      "text/latex": [
       "$j \\in \\mathbb{Z}$"
      ],
      "text/plain": [
       "$j \\in \\mathbb{Z}$"
      ]
     },
     "execution_count": 74,
     "metadata": {},
     "output_type": "execute_result"
    }
   ],
   "source": [
    "summationDomain = DiscreteContiguousSet(a, b)\n",
    "summationDomain.deduceMemberInIntegers(j, assumptions=assumptions).proven(assumptions | {In(j, summationDomain)})"
   ]
  },
  {
   "cell_type": "code",
   "execution_count": 75,
   "metadata": {
    "collapsed": false,
    "deletable": true,
    "editable": true
   },
   "outputs": [
    {
     "data": {
      "text/latex": [
       "$\\left(\\sum_{j=a}^{b} \\left( x \\cdot y \\cdot j \\cdot z \\right)\\right) = \\left( x \\cdot y \\cdot \\left(\\sum_{j=a}^{b} \\left( j \\cdot z \\right)\\right) \\right)$"
      ],
      "text/plain": [
       "$\\left(\\sum_{j=a}^{b} \\left( x \\cdot y \\cdot j \\cdot z \\right)\\right) = \\left( x \\cdot y \\cdot \\left(\\sum_{j=a}^{b} \\left( j \\cdot z \\right)\\right) \\right)$"
      ]
     },
     "execution_count": 75,
     "metadata": {},
     "output_type": "execute_result"
    }
   ],
   "source": [
    "Summation(j, Multiply(x, y, j, z), domain=summationDomain).factor(Multiply(x, y), 'left', assumptions=assumptions).proven(assumptions)"
   ]
  },
  {
   "cell_type": "code",
   "execution_count": 76,
   "metadata": {
    "collapsed": false,
    "deletable": true,
    "editable": true
   },
   "outputs": [
    {
     "data": {
      "text/latex": [
       "$\\left(\\sum_{j=a}^{b} \\left( x \\cdot y \\cdot j \\cdot z \\right)\\right) = \\left( \\left(\\sum_{j=a}^{b} \\left( j \\cdot z \\right)\\right) \\cdot x \\cdot y \\right)$"
      ],
      "text/plain": [
       "$\\left(\\sum_{j=a}^{b} \\left( x \\cdot y \\cdot j \\cdot z \\right)\\right) = \\left( \\left(\\sum_{j=a}^{b} \\left( j \\cdot z \\right)\\right) \\cdot x \\cdot y \\right)$"
      ]
     },
     "execution_count": 76,
     "metadata": {},
     "output_type": "execute_result"
    }
   ],
   "source": [
    "Summation(j, Multiply(x, y, j, z), domain=DiscreteContiguousSet(a, b)).factor(Multiply(x, y), 'right', assumptions=assumptions).proven(assumptions)"
   ]
  },
  {
   "cell_type": "code",
   "execution_count": 77,
   "metadata": {
    "collapsed": false,
    "deletable": true,
    "editable": true
   },
   "outputs": [
    {
     "data": {
      "text/latex": [
       "$\\left(\\sum_{j=a}^{b} \\left( x \\cdot y \\cdot j \\cdot z \\right)\\right) = \\left( \\left( x \\cdot y \\right) \\cdot \\left(\\sum_{j=a}^{b} \\left( j \\cdot z \\right)\\right) \\right)$"
      ],
      "text/plain": [
       "$\\left(\\sum_{j=a}^{b} \\left( x \\cdot y \\cdot j \\cdot z \\right)\\right) = \\left( \\left( x \\cdot y \\right) \\cdot \\left(\\sum_{j=a}^{b} \\left( j \\cdot z \\right)\\right) \\right)$"
      ]
     },
     "execution_count": 77,
     "metadata": {},
     "output_type": "execute_result"
    }
   ],
   "source": [
    "Summation(j, Multiply(x, y, j, z), domain=DiscreteContiguousSet(a, b)).factor(Multiply(x, y), 'left', groupFactor=True, assumptions=assumptions).proven(assumptions)"
   ]
  },
  {
   "cell_type": "code",
   "execution_count": null,
   "metadata": {
    "collapsed": true,
    "deletable": true,
    "editable": true
   },
   "outputs": [],
   "source": []
  }
 ],
 "metadata": {
  "kernelspec": {
   "display_name": "Python 3",
   "language": "python",
   "name": "python3"
  },
  "language_info": {
   "codemirror_mode": {
    "name": "ipython",
    "version": 3
   },
   "file_extension": ".py",
   "mimetype": "text/x-python",
   "name": "python",
   "nbconvert_exporter": "python",
   "pygments_lexer": "ipython3"
  }
 },
 "nbformat": 4,
 "nbformat_minor": 0
}
