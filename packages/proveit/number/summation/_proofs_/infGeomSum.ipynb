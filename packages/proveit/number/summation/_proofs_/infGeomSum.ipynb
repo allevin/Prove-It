{
 "cells": [
  {
   "cell_type": "markdown",
   "metadata": {},
   "source": [
    "Proof of <a class=\"ProveItLink\" href=\"../../../_context_.ipynb\">proveit</a>.<a class=\"ProveItLink\" href=\"../../_context_.ipynb\">number</a>.<a class=\"ProveItLink\" href=\"../_context_.ipynb\">summation</a>.<a class=\"ProveItLink\" href=\"../_theorems_.ipynb#infGeomSum\">infGeomSum</a> theorem\n",
    "========"
   ]
  },
  {
   "cell_type": "code",
   "execution_count": 1,
   "metadata": {},
   "outputs": [],
   "source": [
    "import proveit\n",
    "context = proveit.Context('..') # the theorem's context is in the parent directory"
   ]
  },
  {
   "cell_type": "code",
   "execution_count": 2,
   "metadata": {},
   "outputs": [
    {
     "name": "stdout",
     "output_type": "stream",
     "text": [
      "Beginning proof of infGeomSum\n",
      "Recorded 'presuming' information\n"
     ]
    },
    {
     "data": {
      "text/html": [
       "<strong id=\"infGeomSum\">infGeomSum:</strong> <a class=\"ProveItLink\" href=\"../__pv_it/7d36c372ee055d4f79df407ff1af56d3d44aff980/expr.ipynb\"><img src=\"data:image/png;base64,iVBORw0KGgoAAAANSUhEUgAAAQcAAAA/BAMAAAAf2xDgAAAAMFBMVEX///8QEBC6urrMzMxUVFRm\n",
       "ZmZERETc3NwyMjKqqqp2dnaIiIiYmJgiIiLu7u4AAAAU9Wx4AAAAAXRSTlMAQObYZgAABgFJREFU\n",
       "aN6lWU1sG0UUfuu1vbH3x0aVSgWCmBYB4kdxJdQDCDlqgQuqQg6giiDqAHJQDyQHRARVsZF6KOUn\n",
       "kaoKbg4SUYEIaqE2glQiFqJckHCgqCAUiCPaILUFO0nTpD/JsvbOrHftWc8bmMuuvc/jb958733v\n",
       "zQJwxylyVQtc0ztBbAS6kYaRHLn5gG8bfFIQxWNIu+1D9lW+GWE8KwhCL+LsZpvsjfEiKJ+Oso1T\n",
       "Q2Ig5FWUWYjuxh5yfWVrf/J0+WGONXbsQVmlkgTzMvmiAMFrYxBgL9m4VRDEfAFjdZBcOyiRrV0Z\n",
       "LNcvrDFdFgOhbmBig25afqgBYncOlATbXhoTdMUtGPqmyc1Z+s0RCL2/uXzexz7KW9nLTZ+PI1zX\n",
       "RVYcWKLfaOO74PyWAR9743r7+RaaQVYQpOgn13Ac6d7+tk/PPdoMAjGxsUIBY3NhPiFGxMgSd0qN\n",
       "BmYpiQRR6RYDYVzmThmukptBLNs74oIh+SZ/XSQ4jCvowF8SBDGd4AYH4W7gOloNrgmCSHEzy15C\n",
       "hZDNDd10DZ/YWhMEEePKzQjdaZsbEZMQ9a/7e02fzZ8TBKFXeSDWKdwZ+9qz7jy65yr7Jz1JMRDB\n",
       "ZQ4GhfIxSwiqm40I/NhHwopiINQbPPmiLMsT9shm4ych9pLzY2Igav/RVj8clM7ySmajkGgsWeu7\n",
       "7yN10gaVSrcrkXrXnm0OJ8vb9c3+3q9wpUHfQ4M5bM4w7C51FfVuzd6pyoyYlhsWzT6p3bznlzAp\n",
       "aQap643OFYbdG19CLBm15SUWFwMBiwCv1vjn50GdljRzziZ0mawa9wnYDh32A6kqCKLTygAWKUI+\n",
       "tTNIlEadDnWi5u0Mw00wCdmADXxDEMRcGbRjw8MH/J7H6KpMV/5ipESlavniu6id11YFQYxYXr6S\n",
       "yfwmAmLe9MTg6ydeO1kIpOEM7Dhmg1gWBWHxbRfAgK+IEhCGC0TEdOukMabNSp54CNuPQ4fqA9Fs\n",
       "DiZqTazhkZBLh3f3OSAI041Ft6gtunJLFNRqJMkAgR81EDqoNOsYJ58qyjvK8uG2IHT3fhgQbAot\n",
       "BoiYyR5VB4Ra1OnKJu/+p6ztB7i3LQhl3ZNlpSZJD18V9YQVm0buQetuYueJpFbLNtuOWH/TFoTq\n",
       "bc+zSW/qp5z4vT7SuO2AgZ3W1pYfl0Y7al99/YObmCwQXW4KaEPToJb/NyfgqEXuALwD8FALCFaI\n",
       "yh5354v9sN9b6YqCGEk4m2qlmEcymUxh6zZenvBwYGHqwoS3gPhPeQK0mjfluAzn6sJ50cUJFoiD\n",
       "vO51FdOCutM21aVUNBeFYO2T/MyQc1TW0IE5Z9vDvLpU2sC0oG4Bo3MvfNX3ORjP124vnH3R6QQc\n",
       "HRhxVPSzBgtH26f6ti2oa5hNfb3FCU5RozXiM8IGUYmLnYV4Io952kAj4fhoa3zewf5NNicGQlnj\n",
       "9cO08SoRDymN+Iyu+DRt3RgQdfG1mzteR+wY0JnnqWwoR02fUCwVECBc4qvxOkyDuqpCfDxiC/Sh\n",
       "Hy358Slo9yYQIFziG+Imt04adzblQ4hedLDsC0J5t64nCY/4hrnlYA8JzSC+ZrsJ1/M44itxq/MS\n",
       "iQoNrc/KZRwIR3yz3OIrS46qlBUsCDbcZhAu8S2N8qZ0ysfbsCCCGxgQLvHt4R5kOmejjDPP6ATr\n",
       "RE/KYVpQl/hu4R/+0I441drwTzFf9KQKIDRkxEHUr1RPWxd4BmIMT2KOiZm+bjOmSYyqLTFqbIDO\n",
       "4NRmwZJGQlShFZKnjdpxyekvprpPvUD9aIFodX1EtK7KI05pQzSV9FpAvrkBP8O3EKwl7rcDTBDc\n",
       "mqd5vIQ5wqDMrBRBuZiDZRhv64lUQpCXqLL4Q0ogyyXBghyHtyi8VZBaOZERdEQ4jbHSqXhbrbuU\n",
       "VNNKNRGubwdsgljLi7CA6LlAF+r1oTOtZZ61fKGlx5w8cVcr5KIgCOSLVHpcGc1Zf6on5X0Uu3rq\n",
       "uRbjpwUxhNLIXaMr34dw2x+CIB5ApjbjJ3LzN5/4BwRfECu/YC3/pGj4aWVY0BGKDfpfEDYHICuS\n",
       "KjwAAAAASUVORK5CYII=\n",
       "\" style=\"display:inline;vertical-align:middle;\" /></a><br>(see <a class=\"ProveItLink\" href=\"../__pv_it/7d36c372ee055d4f79df407ff1af56d3d44aff980/dependencies.ipynb\">dependencies</a>)<br>"
      ],
      "text/plain": [
       "infGeomSum: forall_{x in Complexes} ((Sum_{m=0}^{infinity} x^{m}) = (1 / (1 - x)))"
      ]
     },
     "execution_count": 2,
     "metadata": {},
     "output_type": "execute_result"
    }
   ],
   "source": [
    "%proving infGeomSum presuming []"
   ]
  },
  {
   "cell_type": "code",
   "execution_count": null,
   "metadata": {},
   "outputs": [],
   "source": []
  }
 ],
 "metadata": {
  "kernelspec": {
   "display_name": "Python 3",
   "language": "python",
   "name": "python3"
  }
 },
 "nbformat": 4,
 "nbformat_minor": 0
}
