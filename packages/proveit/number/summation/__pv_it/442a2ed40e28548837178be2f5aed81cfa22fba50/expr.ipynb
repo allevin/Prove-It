{
 "cells": [
  {
   "cell_type": "markdown",
   "metadata": {},
   "source": [
    "Expression of type <a class=\"ProveItLink\" href=\"../../../../../../doc/html/api/proveit.number.Interval.html\">Interval</a>\n",
    "=======================\n",
    "# from context <a class=\"ProveItLink\" href=\"../../_context_.ipynb\">proveit.number.summation</a>"
   ]
  },
  {
   "cell_type": "code",
   "execution_count": 1,
   "metadata": {},
   "outputs": [],
   "source": [
    "# import Expression classes needed to build the expression\n",
    "from proveit.number import Interval, infinity, zero"
   ]
  },
  {
   "cell_type": "code",
   "execution_count": 2,
   "metadata": {},
   "outputs": [
    {
     "data": {
      "text/html": [
       "<strong id=\"expr\">expr:</strong> <a class=\"ProveItLink\" href=\"expr.ipynb\"><img src=\"data:image/png;base64,iVBORw0KGgoAAAANSUhEUgAAAFEAAAAVBAMAAADMaB9/AAAAMFBMVEX///9ERETc3NyqqqpUVFS6\n",
       "urrMzMwyMjIQEBCIiIh2dnYiIiLu7u5mZmaYmJgAAABJJ2g3AAAAAXRSTlMAQObYZgAAAShJREFU\n",
       "KM9jYGDgu8dAALCtUgBRPLsYCAK2ZhDJ+QGo+ubcBLxKr4MIrgYGBu4Anm14Va6AqZzNwDCdOJVb\n",
       "GBjiFYhS+ZeBId8AQ5rnAIg8gKyS6RdQ5QQMhRI/FjDwXLy7AKaStwCicgG6SsYEzt8H1AMYtIDs\n",
       "9yCBjAAcKqcxMNjXlDEwMAN9wH6BgSGljQGH7UCtnD8eABkgLA4kIhIgPnqArhKkVf4BhMENspGl\n",
       "ABxK9grYVEp8A/rsAdSdXBvAIb8a5FsGGAEKmjdA2y/9UGDgVEAKT24DHqBzGc5vgBI8v0GBwsAw\n",
       "hSG+leEtcsjz3JoCSiEnBKAETyOQweR7/QEDk3/HBWSV2AEkjhQYCKtEj3c+YlSC0yfPTiLSfCuY\n",
       "4ltMVD4CAPdkVrshjS6xAAAAAElFTkSuQmCC\n",
       "\" style=\"display:inline;vertical-align:middle;\" /></a><br>"
      ],
      "text/plain": [
       "expr: {0...infinity}"
      ]
     },
     "execution_count": 2,
     "metadata": {},
     "output_type": "execute_result"
    }
   ],
   "source": [
    "# build up the expression from sub-expressions\n",
    "expr = Interval(zero, infinity)"
   ]
  },
  {
   "cell_type": "code",
   "execution_count": 3,
   "metadata": {},
   "outputs": [
    {
     "name": "stdout",
     "output_type": "stream",
     "text": [
      "Passed sanity check: built 'expr' is the same as the stored Expression.\n"
     ]
    }
   ],
   "source": [
    "# check that the built expression is the same as the stored expression\n",
    "%check_expr"
   ]
  },
  {
   "cell_type": "code",
   "execution_count": 4,
   "metadata": {},
   "outputs": [
    {
     "data": {
      "text/html": [
       "<table><tr><th>&nbsp;</th><th>core type</th><th>sub-expressions</th><th>expression</th></tr>\n",
       "<tr><td>0</td><td>Operation</td><td>operator:&nbsp;1<br>operands:&nbsp;2<br></td><td><a class=\"ProveItLink\" href=\"expr.ipynb\"><img src=\"data:image/png;base64,iVBORw0KGgoAAAANSUhEUgAAAFEAAAAVBAMAAADMaB9/AAAAMFBMVEX///9ERETc3NyqqqpUVFS6\n",
       "urrMzMwyMjIQEBCIiIh2dnYiIiLu7u5mZmaYmJgAAABJJ2g3AAAAAXRSTlMAQObYZgAAAShJREFU\n",
       "KM9jYGDgu8dAALCtUgBRPLsYCAK2ZhDJ+QGo+ubcBLxKr4MIrgYGBu4Anm14Va6AqZzNwDCdOJVb\n",
       "GBjiFYhS+ZeBId8AQ5rnAIg8gKyS6RdQ5QQMhRI/FjDwXLy7AKaStwCicgG6SsYEzt8H1AMYtIDs\n",
       "9yCBjAAcKqcxMNjXlDEwMAN9wH6BgSGljQGH7UCtnD8eABkgLA4kIhIgPnqArhKkVf4BhMENspGl\n",
       "ABxK9grYVEp8A/rsAdSdXBvAIb8a5FsGGAEKmjdA2y/9UGDgVEAKT24DHqBzGc5vgBI8v0GBwsAw\n",
       "hSG+leEtcsjz3JoCSiEnBKAETyOQweR7/QEDk3/HBWSV2AEkjhQYCKtEj3c+YlSC0yfPTiLSfCuY\n",
       "4ltMVD4CAPdkVrshjS6xAAAAAElFTkSuQmCC\n",
       "\" style=\"display:inline;vertical-align:middle;\" /></a></td></tr>\n",
       "<tr><td>1</td><td>Literal</td><td></td><td><a class=\"ProveItLink\" href=\"../../../sets/integer/__pv_it/6e5362d7b256561b61a1b512bf7dc507dcde5dcf0/expr.ipynb\"><img src=\"data:image/png;base64,iVBORw0KGgoAAAANSUhEUgAAAE4AAAAOBAMAAABz3DdCAAAAMFBMVEX///8QEBCYmJiqqqoiIiLu\n",
       "7u7MzMyIiIi6uroyMjLc3NxmZmZERERUVFR2dnYAAAADo0JQAAAAAXRSTlMAQObYZgAAAWZJREFU\n",
       "KM99kL9LQlEUx7/2vL7XS9+LlqAh3Bp1kGhzLKjhCW1BvaX9UoPQD3ku1qb0D/S2ghTf4CKEuAU1\n",
       "6BaR1B3aKhIiNbAf56q8ybpwv3DO+XDOly+A158bF/+/p57UT79O2eO5iTaJ9u3XSWs8N1UgMXp+\n",
       "XfnjboCTTLb9evUPriz9mHXg6PrsUGit/i302r6rHZxnPGzWkOIoZbIuYhLO01Jxx1kHCm1OuLpn\n",
       "RFboiMhjvanNoQG0JPdmQ3PWwHrSrk5qHwebihOKV6B45SgugVnJnQKMIOUDQYHIzMIerC2HejQN\n",
       "xR+BZYQ6kuvTJyhSAI1Nb5APhj3V6oP8qNMyvu4wIDNqJaGbMgFUR6EZepdMs3CTcjXk0oBAzBJV\n",
       "LMmkOOYlF/aQY+90Z9GMilF8ZQcvin3PhFrAhqsPkjfqjOMECU+Y2xwXjS+Cs0BxF8U08Jzm0KQf\n",
       "sIcdoJTOXTlqzfoFcS9unliQnJ4AAAAASUVORK5CYII=\n",
       "\" style=\"display:inline;vertical-align:middle;\" /></a></td></tr>\n",
       "<tr><td>2</td><td>ExprTuple</td><td>3, 4</td><td><a class=\"ProveItLink\" href=\"../42694387a1b5cbdb3e91b89c8aeb67d88646fe3e0/expr.ipynb\"><img src=\"data:image/png;base64,iVBORw0KGgoAAAANSUhEUgAAADUAAAAVBAMAAAAUZLt1AAAAMFBMVEX////c3NwiIiJERESqqqqY\n",
       "mJh2dnZmZmYQEBDu7u4yMjJUVFTMzMyIiIi6uroAAAAs73DqAAAAAXRSTlMAQObYZgAAASxJREFU\n",
       "KM9jYMAH+C5gFY4DEacZGDhrrx9Al2MHiaxkYGB6wKmDoXEBAwMv0MhLDAy3MOTCGBg4JjAwaDMw\n",
       "vBdAl5vBwPAKSH1nYDjvABGZCSI4QQSzA0MZAwPjN6AcxLWT+9sYGKabAwUZ2AoYlkLlEsByNgz3\n",
       "NRnXMTACeSwLGPqQ5XgPMLD8mgV0vSPQ3w0M/5DNZAPi+61AgpWBgecDSA7slgCwPpAbvkIYQLkW\n",
       "BrAf/AXgcv1AM6eCzTRlAPs9CexwVqBnr8s3MjBcBLIXMKQDhZgcOHsY5isAWQUMvBv4fjxgLQD7\n",
       "4RHIr2W3DzDM+AhkSZcD/ST9ox3I5HrAwAEPrIfwcGGEhhlrAkwuADU8cyFxhE2OcwHICiiHF1Ub\n",
       "N8guRuxp4g4DAwDZukvyNRESYAAAAABJRU5ErkJggg==\n",
       "\" style=\"display:inline;vertical-align:middle;\" /></a></td></tr>\n",
       "<tr><td>3</td><td>Literal</td><td></td><td><a class=\"ProveItLink\" href=\"../../../numeral/__pv_it/ec23fc7a1b4222a5f4948b495002b97d6fa18c3c0/expr.ipynb\"><img src=\"data:image/png;base64,iVBORw0KGgoAAAANSUhEUgAAAAoAAAAOBAMAAADkjZCYAAAALVBMVEX///8QEBCYmJh2dnaqqqrc\n",
       "3NxUVFQyMjK6uroiIiLMzMyIiIhmZmbu7u4AAAAZjyHdAAAAAXRSTlMAQObYZgAAAEpJREFUCNdj\n",
       "YLiz+xQDA8MMhpsLGLgnMHAXMHAmMHA8ZeA7wMD1hCHOgIHrNZh8jES+Bss+AqlkeQrSxTyBgWEK\n",
       "w8UFDAx3rLMYAMCjFldHSx/9AAAAAElFTkSuQmCC\n",
       "\" style=\"display:inline;vertical-align:middle;\" /></a></td></tr>\n",
       "<tr><td>4</td><td>Literal</td><td></td><td><a class=\"ProveItLink\" href=\"../../../sets/integer/__pv_it/fb164099ff695e5f06bcf7426355186a1c63cc390/expr.ipynb\"><img src=\"data:image/png;base64,iVBORw0KGgoAAAANSUhEUgAAABMAAAALBAMAAABv+6sJAAAAMFBMVEX///9UVFSYmJiqqqq6uroy\n",
       "MjLc3NwiIiKIiIjMzMxmZmZ2dnYQEBBERETu7u4AAABwYnrzAAAAAXRSTlMAQObYZgAAAHBJREFU\n",
       "CNdjYOB7wAAEIILvzp8NDHxrV21gYOCdwPH9QaoDQzYDQycDg31cJAMDcwIDUILjjwJQpQJDA5C8\n",
       "D2I2gJl3fgK1KzDoARUs+5PAwJHAwMXA0Mjgf4RBi4GBTWqpAgOb/JkFIDvAtiUwMAAA7SYaiqDY\n",
       "+8wAAAAASUVORK5CYII=\n",
       "\" style=\"display:inline;vertical-align:middle;\" /></a></td></tr>\n",
       "</table>\n"
      ],
      "text/plain": [
       "0. {0...infinity}\n",
       "   core type: Operation\n",
       "   operator: 1\n",
       "   operands: 2\n",
       "1. Interval\n",
       "   core type: Literal\n",
       "   sub-expressions: \n",
       "2. (0 , infinity)\n",
       "   core type: ExprTuple\n",
       "   sub-expressions: 3, 4\n",
       "3. 0\n",
       "   core type: Literal\n",
       "   sub-expressions: \n",
       "4. infinity\n",
       "   core type: Literal\n",
       "   sub-expressions: "
      ]
     },
     "execution_count": 4,
     "metadata": {},
     "output_type": "execute_result"
    }
   ],
   "source": [
    "# display the expression information\n",
    "expr.exprInfo()"
   ]
  },
  {
   "cell_type": "code",
   "execution_count": null,
   "metadata": {},
   "outputs": [],
   "source": []
  }
 ],
 "metadata": {
  "kernelspec": {
   "display_name": "Python 3",
   "language": "python",
   "name": "python3"
  }
 },
 "nbformat": 4,
 "nbformat_minor": 0
}
