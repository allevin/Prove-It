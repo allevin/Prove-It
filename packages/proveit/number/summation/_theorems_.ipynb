{
 "cells": [
  {
   "cell_type": "markdown",
   "metadata": {},
   "source": [
    "Theorems for context <a href=\"_context_.ipynb\" class=\"ProveItLink\">proveit.number.summation</a>\n",
    "========"
   ]
  },
  {
   "cell_type": "code",
   "execution_count": null,
   "metadata": {},
   "outputs": [],
   "source": [
    "import proveit\n",
    "# the context is in the current directory:\n",
    "context = proveit.Context('.') # adds context root to sys.path if necessary\n",
    "from proveit.logic import Equals, Forall, Implies, InSet\n",
    "from proveit.number import Add, Mult, subtract, frac, Sum, Exp, Interval\n",
    "from proveit.number import Complexes, Integers, Naturals, NaturalsPos, Reals\n",
    "from proveit.number import zero, one, two, three, six, infinity\n",
    "from proveit._common_ import i, m, n, x, P, Px, S, Q"
   ]
  },
  {
   "cell_type": "code",
   "execution_count": null,
   "metadata": {},
   "outputs": [],
   "source": [
    "%begin theorems"
   ]
  },
  {
   "cell_type": "code",
   "execution_count": null,
   "metadata": {},
   "outputs": [],
   "source": [
    "\"\"\"\n",
    "summationNatsClosure = Forall([P, S, Qmulti], Implies(Forall(xMulti, InSet(PxEtc, Naturals), domain=S, conditions=etc_QxEtc), \n",
    "                                              InSet(Sum(xMulti, PxEtc, domain=S, conditions=etc_QxEtc), domain=Naturals)))\n",
    "\n",
    "\"\"\""
   ]
  },
  {
   "cell_type": "code",
   "execution_count": null,
   "metadata": {},
   "outputs": [],
   "source": [
    "\"\"\"\n",
    "summationIntsClosure = Forall([P, S, Qmulti], Implies(Forall(xMulti, InSet(PxEtc, Integers), domain=S, conditions=etc_QxEtc), \n",
    "                                              InSet(Sum(xMulti, PxEtc, domain=S, conditions=etc_QxEtc), domain=Integers)))\n",
    "\"\"\""
   ]
  },
  {
   "cell_type": "code",
   "execution_count": null,
   "metadata": {},
   "outputs": [],
   "source": [
    "\"\"\"\n",
    "summationRealsClosure = Forall([P, S, Qmulti], Implies(Forall(xMulti, InSet(PxEtc, Reals), domain=S, conditions=etc_QxEtc), \n",
    "                                              InSet(Sum(xMulti, PxEtc, domain=S, conditions=etc_QxEtc), domain=Reals)))\n",
    "\"\"\""
   ]
  },
  {
   "cell_type": "code",
   "execution_count": null,
   "metadata": {},
   "outputs": [],
   "source": [
    "\"\"\"\n",
    "summationComplexesClosure = Forall([P, S, Qmulti], Implies(Forall(xMulti, InSet(PxEtc, Complexes), domain=S, conditions=etc_QxEtc), \n",
    "                                              InSet(Sum(xMulti, PxEtc, domain=S, conditions=etc_QxEtc), Complexes)))\n",
    "\"\"\""
   ]
  },
  {
   "cell_type": "code",
   "execution_count": null,
   "metadata": {},
   "outputs": [],
   "source": [
    "infGeomSum = Forall(x,Equals(Sum(m,Exp(x,m),Interval(zero,infinity)), \n",
    "                             frac(one,subtract(one,x))),\n",
    "                    domain=Complexes)"
   ]
  },
  {
   "cell_type": "code",
   "execution_count": null,
   "metadata": {},
   "outputs": [],
   "source": [
    "sumFirstNNats = Forall(n,\n",
    "                       Equals(Sum(i, i, Interval(one, n)),\n",
    "                              frac(Mult(n, Add(n, one)), two)),\n",
    "                       domain=NaturalsPos)"
   ]
  },
  {
   "cell_type": "code",
   "execution_count": null,
   "metadata": {},
   "outputs": [],
   "source": [
    "sumFirstNSquares = Forall(n,\n",
    "                       Equals(Sum(i, Exp(i, two), Interval(one, n)),\n",
    "                              frac(Mult(n, Add(n, one), Add(Mult(two, n), one)), six)),\n",
    "                       domain=NaturalsPos)"
   ]
  },
  {
   "cell_type": "code",
   "execution_count": null,
   "metadata": {},
   "outputs": [],
   "source": [
    "sumFirstNCubes = Forall(n,\n",
    "                       Equals( Sum(i, Exp(i, three), Interval(one, n)),\n",
    "                               Exp(\n",
    "                                 frac(Mult(n, Add(n, one)), two),\n",
    "                               two)\n",
    "                             ),\n",
    "                       domain=NaturalsPos)"
   ]
  },
  {
   "cell_type": "code",
   "execution_count": null,
   "metadata": {},
   "outputs": [],
   "source": [
    "%end theorems"
   ]
  },
  {
   "cell_type": "code",
   "execution_count": null,
   "metadata": {},
   "outputs": [],
   "source": []
  }
 ],
 "metadata": {
  "kernelspec": {
   "display_name": "Python 3",
   "language": "python",
   "name": "python3"
  }
 },
 "nbformat": 4,
 "nbformat_minor": 0
}
