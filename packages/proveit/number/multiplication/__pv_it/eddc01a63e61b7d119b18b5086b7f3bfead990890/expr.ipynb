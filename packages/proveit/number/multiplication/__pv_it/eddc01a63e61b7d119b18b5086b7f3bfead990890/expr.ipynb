{
 "cells": [
  {
   "cell_type": "markdown",
   "metadata": {},
   "source": [
    "Expression of type <a class=\"ProveItLink\" href=\"../../../../../../doc/html/api/proveit.ExprTuple.html\">ExprTuple</a>\n",
    "=======================\n",
    "# from context <a class=\"ProveItLink\" href=\"../../_context_.ipynb\">proveit.number.multiplication</a>"
   ]
  },
  {
   "cell_type": "code",
   "execution_count": 1,
   "metadata": {},
   "outputs": [],
   "source": [
    "# import Expression classes needed to build the expression\n",
    "from proveit import ExprTuple\n",
    "from proveit._common_ import CC\n",
    "from proveit.logic import InSet\n",
    "from proveit.number import Complexes"
   ]
  },
  {
   "cell_type": "code",
   "execution_count": 2,
   "metadata": {},
   "outputs": [
    {
     "data": {
      "text/html": [
       "<strong id=\"expr\">expr:</strong> <a class=\"ProveItLink\" href=\"expr.ipynb\"><img src=\"data:image/png;base64,iVBORw0KGgoAAAANSUhEUgAAAEcAAAAVBAMAAADm2O7QAAAAMFBMVEX////c3NwiIiJERESqqqqY\n",
       "mJh2dnZmZmYQEBDu7u4yMjJUVFTMzMyIiIi6uroAAAAs73DqAAAAAXRSTlMAQObYZgAAAW9JREFU\n",
       "KM9jYCAK8F0AEUX/uwWiscrHgYjTIDX6SwWmNv9Fk+bVWt9kzsB+AMhcCcT5X4DE+z+oanjeP+DM\n",
       "v83AsACoHGgb2/8HQEGuD6iKArYyMLD8ZmAIY2DgmMDA4P8dJMhuAJabu0hJC0SzTmgAktUMDDMY\n",
       "GF4BWf0fwU5wAFuydALEIHbGDSAtDAzMDgxlQDP/GyAsEYaqYZjOlwBhsBUwLGVg4P4fgFBkCGMc\n",
       "Y4GKsixg6AO6+P8BuBpOuKHH+KCK+BoY/jEwMP0HW/EQLNKkpARx+GQeqHU8H0CKuP6DOY1gkQ0w\n",
       "k7gmbIAragF6C2wdG1iMUwGmiDUBJMAJts4UyOgHOeQWRG4r3Hmmb4HEowkMrAsY0oEsoV+ejEEF\n",
       "EKlJD2CKuDff5HxsCQ6CRyB+cP+nQqgU43K4V4/r/9gHctwDBg4BtLhn2QXxHRzMALmPUILLhSYV\n",
       "fIATmFQYpAko4ga5h/ECfkV3GBgA5tha0iqZEEYAAAAASUVORK5CYII=\n",
       "\" style=\"display:inline;vertical-align:middle;\" /></a><br>"
      ],
      "text/plain": [
       "expr: (C in Complexes)"
      ]
     },
     "execution_count": 2,
     "metadata": {},
     "output_type": "execute_result"
    }
   ],
   "source": [
    "# build up the expression from sub-expressions\n",
    "expr = ExprTuple(InSet(CC, Complexes))"
   ]
  },
  {
   "cell_type": "code",
   "execution_count": 3,
   "metadata": {},
   "outputs": [
    {
     "name": "stdout",
     "output_type": "stream",
     "text": [
      "Passed sanity check: built 'expr' is the same as the stored Expression.\n"
     ]
    }
   ],
   "source": [
    "# check that the built expression is the same as the stored expression\n",
    "%check_expr"
   ]
  },
  {
   "cell_type": "code",
   "execution_count": 4,
   "metadata": {},
   "outputs": [
    {
     "data": {
      "text/html": [
       "<table><tr><th>&nbsp;</th><th>core type</th><th>sub-expressions</th><th>expression</th></tr>\n",
       "<tr><td>0</td><td>ExprTuple</td><td>1</td><td><a class=\"ProveItLink\" href=\"expr.ipynb\"><img src=\"data:image/png;base64,iVBORw0KGgoAAAANSUhEUgAAAEcAAAAVBAMAAADm2O7QAAAAMFBMVEX////c3NwiIiJERESqqqqY\n",
       "mJh2dnZmZmYQEBDu7u4yMjJUVFTMzMyIiIi6uroAAAAs73DqAAAAAXRSTlMAQObYZgAAAW9JREFU\n",
       "KM9jYCAK8F0AEUX/uwWiscrHgYjTIDX6SwWmNv9Fk+bVWt9kzsB+AMhcCcT5X4DE+z+oanjeP+DM\n",
       "v83AsACoHGgb2/8HQEGuD6iKArYyMLD8ZmAIY2DgmMDA4P8dJMhuAJabu0hJC0SzTmgAktUMDDMY\n",
       "GF4BWf0fwU5wAFuydALEIHbGDSAtDAzMDgxlQDP/GyAsEYaqYZjOlwBhsBUwLGVg4P4fgFBkCGMc\n",
       "Y4GKsixg6AO6+P8BuBpOuKHH+KCK+BoY/jEwMP0HW/EQLNKkpARx+GQeqHU8H0CKuP6DOY1gkQ0w\n",
       "k7gmbIAragF6C2wdG1iMUwGmiDUBJMAJts4UyOgHOeQWRG4r3Hmmb4HEowkMrAsY0oEsoV+ejEEF\n",
       "EKlJD2CKuDff5HxsCQ6CRyB+cP+nQqgU43K4V4/r/9gHctwDBg4BtLhn2QXxHRzMALmPUILLhSYV\n",
       "fIATmFQYpAko4ga5h/ECfkV3GBgA5tha0iqZEEYAAAAASUVORK5CYII=\n",
       "\" style=\"display:inline;vertical-align:middle;\" /></a></td></tr>\n",
       "<tr><td>1</td><td>Operation</td><td>operator:&nbsp;2<br>operands:&nbsp;3<br></td><td><a class=\"ProveItLink\" href=\"../52f01ac6bcb69db61bd065fda3fae6d6adde0b540/expr.ipynb\"><img src=\"data:image/png;base64,iVBORw0KGgoAAAANSUhEUgAAADoAAAAQBAMAAAC1onFLAAAAMFBMVEX////MzMyqqqp2dnaIiIhE\n",
       "RETu7u4yMjKYmJjc3NxUVFQQEBAiIiJmZma6uroAAACABxMuAAAAAXRSTlMAQObYZgAAAPxJREFU\n",
       "GNNjYGBgeHv+90qOBQzYwZvvnWzd8Q5ooj7lv49eYGBg/q/AwMD3XwBVUu4fQ/IXoHn2/0C8elRJ\n",
       "Dq4GBgb9BQxM/y+AuFfBgmzuZ84UgBht3ECCdwED9/8JIK4TWFa8Dar3wiyQWgcG/a8I8zjDoAy2\n",
       "C48hjPU/ELKsE6AMRgMNCKP+I0I2lQEu+wLCOP8NRPKBdb0+cwbiKrYAYajeDyCSGywrBTeljAtC\n",
       "+4NNtgKzc+CyzWDZBIZskJtZwJ5kAAUB1H19wJDlO8bAeb4oYcZZqEfOwTWvCknIC00ABlr0/7Mw\n",
       "n0y/CHf1nf+7HqDHl1YNJCShAACOE0c+8aGKSwAAAABJRU5ErkJggg==\n",
       "\" style=\"display:inline;vertical-align:middle;\" /></a></td></tr>\n",
       "<tr><td>2</td><td>Literal</td><td></td><td><a class=\"ProveItLink\" href=\"../../../../logic/set_theory/membership/__pv_it/088cbc857536a28d4119ad9639a84270ccb0545d0/expr.ipynb\"><img src=\"data:image/png;base64,iVBORw0KGgoAAAANSUhEUgAAAAwAAAAMBAMAAACkW0HUAAAALVBMVEX///+qqqpmZmZUVFQQEBC6\n",
       "urpERETc3NyYmJjMzMwiIiIyMjKIiIju7u4AAACYsrA9AAAAAXRSTlMAQObYZgAAADxJREFUCNdj\n",
       "YOA9vWrVBgaG2b0MQMCeCyIZ2ArA1DUwyRCyahVIyWQI7xaEYm4AU7xLIdxqTQgtvGvVBgCkcQ7e\n",
       "geM/tQAAAABJRU5ErkJggg==\n",
       "\" style=\"display:inline;vertical-align:middle;\" /></a></td></tr>\n",
       "<tr><td>3</td><td>ExprTuple</td><td>4, 5</td><td><a class=\"ProveItLink\" href=\"../311627649fc44e787b29bbf29b19af33cefc56570/expr.ipynb\"><img src=\"data:image/png;base64,iVBORw0KGgoAAAANSUhEUgAAADcAAAAVBAMAAAAQkWtIAAAAMFBMVEX////c3NwiIiJERESqqqqY\n",
       "mJh2dnZmZmYQEBDu7u4yMjJUVFTMzMyIiIi6uroAAAAs73DqAAAAAXRSTlMAQObYZgAAAUxJREFU\n",
       "KM9jYMAL+C6AiKL/3QLRKOJxIOI0SE5/qcDU5r9QYV6t9U3mDOwHgMyVQJz/BUi8/wOR43n/gDP/\n",
       "NgPDAqAyoKls/x8ABbk+QCQDtjIwsPxmYAhjYOCYwMDg/x0kyG4AlmOd0AAkqxkYZjAwvAKy+j+C\n",
       "rXIAS7IzbgCScxkYmB0YyoBm/DdAcuV0vgQIg62AYSkDA/f/ACTJYyxQHssChj6gS/4fQJbkg0ry\n",
       "NTD8Y2Bg+j8BxHkIEZvMAzWW5wNIkus/mNMIEeOasAEu2QJ0JthYNqgYawKIwQk21hTI6Ae59hZE\n",
       "iIHB9C2QeDSBgXUBQzqQJfTLkzGoAMiYrwAkuDff5HxsCfbKI5Di4P5PhSB6Bjg0juv/2Aey/AED\n",
       "hwByPD1EYs8A2Y8siRwaudAowybJCYwyBmkkOV4kNjfIPsYL2JPPHQYGAFRdVDp4TW5NAAAAAElF\n",
       "TkSuQmCC\n",
       "\" style=\"display:inline;vertical-align:middle;\" /></a></td></tr>\n",
       "<tr><td>4</td><td>Variable</td><td></td><td><a class=\"ProveItLink\" href=\"../../../../__pv_it/9242e69d4f2c65d04fc0527b82418c7c22c6da370/expr.ipynb\"><img src=\"data:image/png;base64,iVBORw0KGgoAAAANSUhEUgAAABEAAAAPBAMAAADwnzkiAAAAMFBMVEX////MzMyqqqp2dnaIiIhE\n",
       "RETu7u4yMjKYmJjc3NxUVFQQEBAiIiJmZma6uroAAACABxMuAAAAAXRSTlMAQObYZgAAAHRJREFU\n",
       "CNdjYGBgeHv+90qOBUDGm++dbN3xDgwMzP8VGBj4/gswMNj/A4oz1DMwMP2/AGJdZWDg/j8BxHJi\n",
       "YND/ygAF63/AWPUfYazz30AkH1Bx/QcQixvI8gfLWgFxNkgvSwGQ4DxflDDjLFgLR/T/syDDAbB9\n",
       "IeZrCwgeAAAAAElFTkSuQmCC\n",
       "\" style=\"display:inline;vertical-align:middle;\" /></a></td></tr>\n",
       "<tr><td>5</td><td>Literal</td><td></td><td><a class=\"ProveItLink\" href=\"../../../sets/complex/__pv_it/c357845f93a5a2d9f649129d299e7ec28dda4b960/expr.ipynb\"><img src=\"data:image/png;base64,iVBORw0KGgoAAAANSUhEUgAAAA8AAAAOBAMAAAACpFvcAAAAMFBMVEX////c3NyqqqqYmJhUVFR2\n",
       "dnbu7u66urrMzMxmZmZEREQQEBAyMjIiIiKIiIgAAAB7fvZ0AAAAAXRSTlMAQObYZgAAAGVJREFU\n",
       "CNdjYGDgu3N+70oGBgaO+gK2+CdAhoEzAwPTFwYG5oQNQN4UBgZORgcgI4+BIZM9gAEMWpkMoAx2\n",
       "KCOLAyrFk+AAYTAHgBhsQLy4DkjUJjAwsHg9Y6taBpLsvP/bnYEBACkBFGQfBv8RAAAAAElFTkSu\n",
       "QmCC\n",
       "\" style=\"display:inline;vertical-align:middle;\" /></a></td></tr>\n",
       "</table>\n"
      ],
      "text/plain": [
       "0. (C in Complexes)\n",
       "   core type: ExprTuple\n",
       "   sub-expressions: 1\n",
       "1. C in Complexes\n",
       "   core type: Operation\n",
       "   operator: 2\n",
       "   operands: 3\n",
       "2. in\n",
       "   core type: Literal\n",
       "   sub-expressions: \n",
       "3. (C , Complexes)\n",
       "   core type: ExprTuple\n",
       "   sub-expressions: 4, 5\n",
       "4. C\n",
       "   core type: Variable\n",
       "   sub-expressions: \n",
       "5. Complexes\n",
       "   core type: Literal\n",
       "   sub-expressions: "
      ]
     },
     "execution_count": 4,
     "metadata": {},
     "output_type": "execute_result"
    }
   ],
   "source": [
    "# display the expression information\n",
    "expr.exprInfo()"
   ]
  },
  {
   "cell_type": "code",
   "execution_count": null,
   "metadata": {},
   "outputs": [],
   "source": []
  }
 ],
 "metadata": {
  "kernelspec": {
   "display_name": "Python 3",
   "language": "python",
   "name": "python3"
  }
 },
 "nbformat": 4,
 "nbformat_minor": 0
}
