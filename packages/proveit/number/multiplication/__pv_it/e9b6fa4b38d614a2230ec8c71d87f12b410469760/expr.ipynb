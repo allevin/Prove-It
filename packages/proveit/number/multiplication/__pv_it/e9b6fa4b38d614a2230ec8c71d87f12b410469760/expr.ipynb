{
 "cells": [
  {
   "cell_type": "markdown",
   "metadata": {},
   "source": [
    "Expression of type <a class=\"ProveItLink\" href=\"../../../../../../doc/html/api/proveit.ExprTuple.html\">ExprTuple</a>\n",
    "=======================\n",
    "# from context <a class=\"ProveItLink\" href=\"../../_context_.ipynb\">proveit.number.multiplication</a>"
   ]
  },
  {
   "cell_type": "code",
   "execution_count": 1,
   "metadata": {},
   "outputs": [],
   "source": [
    "# import Expression classes needed to build the expression\n",
    "from proveit import ExprTuple\n",
    "from proveit._common_ import a, b, k\n",
    "from proveit.logic import InSet\n",
    "from proveit.number import Interval"
   ]
  },
  {
   "cell_type": "code",
   "execution_count": 2,
   "metadata": {},
   "outputs": [
    {
     "data": {
      "text/html": [
       "<strong id=\"expr\">expr:</strong> <a class=\"ProveItLink\" href=\"expr.ipynb\"><img src=\"data:image/png;base64,iVBORw0KGgoAAAANSUhEUgAAAHkAAAAVBAMAAACQ4lxbAAAAMFBMVEX////c3NwiIiJERESqqqqY\n",
       "mJh2dnZmZmYQEBDu7u4yMjJUVFTMzMyIiIi6uroAAAAs73DqAAAAAXRSTlMAQObYZgAAAdxJREFU\n",
       "OMuVVE1IAkEU/ixXnUwNOnpIPAQFhh06RtI5yFPHsAiiQyCEXe2PThFLpyCiJRCJLl6ECCJPEUjg\n",
       "qS4J0ski0NJLUNF7664Wu+vSwOw89nvfzPv5ZgCLIaVgPW4WdMtfMsPFMLqN2xgwz0YRONoywL66\n",
       "BU9chOjrVmgWyDijmTU4uTasju3L6TDt4OPAm/9gB2I6PAd4ZEr9Q4eOT8OjNuyarMOHwAvbiob0\n",
       "Z2TbsxfbcG8M65xKQkpX+Oeg/Cfy4H11wMA+L+c12JVEhpaT55UaZ4Pxtg8X1b+JKWPNGwgUIHFL\n",
       "nAr2aZm905Bop6EUy1Acawa28wOeRKtL/g1805Ie04SzFQ63qlbco881EDGwKahAknKmmPvrKjty\n",
       "NNIqWq7tVCUpNCA+DeyeJGpxgKVI7B2wT9OhRh5qO3kVOL7grAuTdqflVt4U+QRdiLr4dqlQvqOW\n",
       "EEST9pghmxuh7sIGlWxXq7mkYJnOieLNp3IOKr87lsF0kgok3rktIc3wxty5TseeqN1xPKyoHEe2\n",
       "8IsdLL9O0nZim3UV1QxxldLl0FeB548enJe2Su3ApFQpYQ3bsFe1G2rytHRnsxQF346g+SMQ6f62\n",
       "UD28nLOjZH74kt279gj8APMwd/PFCsQmAAAAAElFTkSuQmCC\n",
       "\" style=\"display:inline;vertical-align:middle;\" /></a><br>"
      ],
      "text/plain": [
       "expr: (k in {a...b})"
      ]
     },
     "execution_count": 2,
     "metadata": {},
     "output_type": "execute_result"
    }
   ],
   "source": [
    "# build up the expression from sub-expressions\n",
    "expr = ExprTuple(InSet(k, Interval(a, b)))"
   ]
  },
  {
   "cell_type": "code",
   "execution_count": 3,
   "metadata": {},
   "outputs": [
    {
     "name": "stdout",
     "output_type": "stream",
     "text": [
      "Passed sanity check: built 'expr' is the same as the stored Expression.\n"
     ]
    }
   ],
   "source": [
    "# check that the built expression is the same as the stored expression\n",
    "%check_expr"
   ]
  },
  {
   "cell_type": "code",
   "execution_count": 4,
   "metadata": {},
   "outputs": [
    {
     "data": {
      "text/html": [
       "<table><tr><th>&nbsp;</th><th>core type</th><th>sub-expressions</th><th>expression</th></tr>\n",
       "<tr><td>0</td><td>ExprTuple</td><td>1</td><td><a class=\"ProveItLink\" href=\"expr.ipynb\"><img src=\"data:image/png;base64,iVBORw0KGgoAAAANSUhEUgAAAHkAAAAVBAMAAACQ4lxbAAAAMFBMVEX////c3NwiIiJERESqqqqY\n",
       "mJh2dnZmZmYQEBDu7u4yMjJUVFTMzMyIiIi6uroAAAAs73DqAAAAAXRSTlMAQObYZgAAAdxJREFU\n",
       "OMuVVE1IAkEU/ixXnUwNOnpIPAQFhh06RtI5yFPHsAiiQyCEXe2PThFLpyCiJRCJLl6ECCJPEUjg\n",
       "qS4J0ski0NJLUNF7664Wu+vSwOw89nvfzPv5ZgCLIaVgPW4WdMtfMsPFMLqN2xgwz0YRONoywL66\n",
       "BU9chOjrVmgWyDijmTU4uTasju3L6TDt4OPAm/9gB2I6PAd4ZEr9Q4eOT8OjNuyarMOHwAvbiob0\n",
       "Z2TbsxfbcG8M65xKQkpX+Oeg/Cfy4H11wMA+L+c12JVEhpaT55UaZ4Pxtg8X1b+JKWPNGwgUIHFL\n",
       "nAr2aZm905Bop6EUy1Acawa28wOeRKtL/g1805Ie04SzFQ63qlbco881EDGwKahAknKmmPvrKjty\n",
       "NNIqWq7tVCUpNCA+DeyeJGpxgKVI7B2wT9OhRh5qO3kVOL7grAuTdqflVt4U+QRdiLr4dqlQvqOW\n",
       "EEST9pghmxuh7sIGlWxXq7mkYJnOieLNp3IOKr87lsF0kgok3rktIc3wxty5TseeqN1xPKyoHEe2\n",
       "8IsdLL9O0nZim3UV1QxxldLl0FeB548enJe2Su3ApFQpYQ3bsFe1G2rytHRnsxQF346g+SMQ6f62\n",
       "UD28nLOjZH74kt279gj8APMwd/PFCsQmAAAAAElFTkSuQmCC\n",
       "\" style=\"display:inline;vertical-align:middle;\" /></a></td></tr>\n",
       "<tr><td>1</td><td>Operation</td><td>operator:&nbsp;2<br>operands:&nbsp;3<br></td><td><a class=\"ProveItLink\" href=\"../16223b3eda6cd0b35caed1cac74a256405197ee20/expr.ipynb\"><img src=\"data:image/png;base64,iVBORw0KGgoAAAANSUhEUgAAAGsAAAAVBAMAAACzuQ2OAAAAMFBMVEX///9ERETc3NyIiIjMzMyY\n",
       "mJh2dna6urqqqqpmZmYyMjIiIiIQEBBUVFTu7u4AAAD6+w4kAAAAAXRSTlMAQObYZgAAAXZJREFU\n",
       "OMtjYMAGIgMYcAKWNAUcMq8TGPAAlhNAgu/OBgwJe1w63p4GkbNABNcEDNkcnDathUvzN5Cg7Qdc\n",
       "uv4BVIjPavfuBfi1sf+DS2fBxLziCNrGtgEuvYwh8juIZpJDcSTT5fRDGNq4LtsGQKT5vj97DnYx\n",
       "IyI6QEFVo8D4AUPbewGGLwwM8UAWxxcDiNBDRMQcB1r2lYFTAENb/wOGY5Cw5/xdABGq2b0bEiQs\n",
       "dxwYGHg/MHAbYGgDOuMnkJIKYOC2uw0JSl9EeB0BRosAw3sHDG07Gdi/MjBwAxPRewf+BrCvXiNk\n",
       "bzEw6Bsw9DM8wIw2zn8Qv8UzvC8AJ0FeRPLNBprWwHCLA2gdH4gP0g5mfGHgSYCE5EUGfgWwJ/i2\n",
       "I0cAVwDHTjZQ2AFjiu83lMFwg2EuNH6WMjBPgzhGawqSNqbL5o7mQOYbYHDyHYQyGN5aBmCmht7V\n",
       "hBIX/kREprYY/Npm4crdBnhz93FcMmENBMoSAM4GZaaRfhuMAAAAAElFTkSuQmCC\n",
       "\" style=\"display:inline;vertical-align:middle;\" /></a></td></tr>\n",
       "<tr><td>2</td><td>Literal</td><td></td><td><a class=\"ProveItLink\" href=\"../../../../logic/set_theory/membership/__pv_it/088cbc857536a28d4119ad9639a84270ccb0545d0/expr.ipynb\"><img src=\"data:image/png;base64,iVBORw0KGgoAAAANSUhEUgAAAAwAAAAMBAMAAACkW0HUAAAALVBMVEX///+qqqpmZmZUVFQQEBC6\n",
       "urpERETc3NyYmJjMzMwiIiIyMjKIiIju7u4AAACYsrA9AAAAAXRSTlMAQObYZgAAADxJREFUCNdj\n",
       "YOA9vWrVBgaG2b0MQMCeCyIZ2ArA1DUwyRCyahVIyWQI7xaEYm4AU7xLIdxqTQgtvGvVBgCkcQ7e\n",
       "geM/tQAAAABJRU5ErkJggg==\n",
       "\" style=\"display:inline;vertical-align:middle;\" /></a></td></tr>\n",
       "<tr><td>3</td><td>ExprTuple</td><td>4, 5</td><td><a class=\"ProveItLink\" href=\"../7ce18b6e401145ff890b63b4df192e1dbf2734be0/expr.ipynb\"><img src=\"data:image/png;base64,iVBORw0KGgoAAAANSUhEUgAAAGkAAAAVBAMAAAC3TN2zAAAAMFBMVEX////c3NwiIiJERESqqqqY\n",
       "mJh2dnZmZmYQEBDu7u4yMjJUVFTMzMyIiIi6uroAAAAs73DqAAAAAXRSTlMAQObYZgAAAbVJREFU\n",
       "OMuNVD1Iw0AU/qpN22vtz97BToJDpYujGJwFOzlKFUE6CAGpa+sPTqIZhQ7NIiIuXQQXsZMIReik\n",
       "i4XiVEVotF0KWnyX5JJqbO3B5R7vuy/33vfeHfBrSDkMHrerworU+v1sCsPGnQyscKMKFHdtd1gf\n",
       "sJ9dJejr12hWyDineWaDvsKgY4JlARMzzAPsjMCKygJeBgIqpdYdgdVSBXwCvHJbG4G1ZsPjMrZ5\n",
       "yBkp3+hjxR+aMRfron5pwT4Fp7SUXrIt2cS4SJEdzLs1bCNagcQl9mo4omXp3ikInTmZxpaL5e0i\n",
       "kDHVjhTQoyU/I7DqIX1ugKSLRUFEFcqJYpvQDVayOC3AJpWwDfbpYo0paKUB3jrE2gff0/FYYEiD\n",
       "5wtenf1Rrrxq5kURzlLD6qznA1RDwwRYh7iLMB0GmxskxYGloaRhg/6fwnsY7EMof4oFhRI3HKWE\n",
       "ZYRkf9lR/pnKlcZjFuw4ZrHi9bc5kpLt8T5IWQa7zolyBhsI2PWMxIb2htME1FFSxr6PGJG1ad0U\n",
       "hyUNZ/HWYbxr48Jj3GmWHH6XKd8Qz8RT+/lurP/3bjwB31UmcKcQBzUJAAAAAElFTkSuQmCC\n",
       "\" style=\"display:inline;vertical-align:middle;\" /></a></td></tr>\n",
       "<tr><td>4</td><td>Variable</td><td></td><td><a class=\"ProveItLink\" href=\"../../../../__pv_it/1a7356cf6caf039e07a5436d90e972cbb5e92b0a0/expr.ipynb\"><img src=\"data:image/png;base64,iVBORw0KGgoAAAANSUhEUgAAAAoAAAAOBAMAAADkjZCYAAAAMFBMVEX///9ERETc3NyIiIjMzMyY\n",
       "mJh2dna6urqqqqpmZmYyMjIiIiIQEBBUVFTu7u4AAAD6+w4kAAAAAXRSTlMAQObYZgAAAFBJREFU\n",
       "CNdj4LuzgQEIuCaASP4GEFn/AERmgQiGZQyR3xn4vj97/oOB44sBUIDzdwGQ5La7DVT03oG/QYEh\n",
       "nuF9QQLDRQZ+BQOGpQzM0x4AAD+VFjuIiDKbAAAAAElFTkSuQmCC\n",
       "\" style=\"display:inline;vertical-align:middle;\" /></a></td></tr>\n",
       "<tr><td>5</td><td>Operation</td><td>operator:&nbsp;6<br>operands:&nbsp;7<br></td><td><a class=\"ProveItLink\" href=\"../85e85362502626203112bcb9dfcaadbab965d8a80/expr.ipynb\"><img src=\"data:image/png;base64,iVBORw0KGgoAAAANSUhEUgAAAEUAAAAVBAMAAADiLT7tAAAAMFBMVEX///9ERETc3NyqqqpUVFS6\n",
       "urrMzMwyMjIQEBCIiIh2dnYiIiLu7u5mZmaYmJgAAABJJ2g3AAAAAXRSTlMAQObYZgAAAPtJREFU\n",
       "KM9jYGDgu8eAE7CtUgBRPLsY8AC2ZhDJ+QGH9JFuEHkdRHA14DKjBESswK/mM2E1rH8Iq+HagKpG\n",
       "ZVaEAroads8pD6BqeAuAxjYxyGOYc16A4RsDw3sQMyOAgUH/AcNFDDX2Bxi6gKZdYGBIaQNy/RkY\n",
       "dmKoAYbMXyAlDrQwIoGB4SMDzzcMNXsZWP8xMHAvADJZChiYfjIwf+DBDB7eP1D3AL3I8xmo0gzI\n",
       "PgCKPwYo4xsDxwIkv9cxWF8A8nl+g7yzAcpwZriCHD4qM8Mkgd7jaQTyTwhAGUfmPiAcXwwMpKjh\n",
       "w68GnH54duJNh61gim8xgfQMAIDwRfsEfB45AAAAAElFTkSuQmCC\n",
       "\" style=\"display:inline;vertical-align:middle;\" /></a></td></tr>\n",
       "<tr><td>6</td><td>Literal</td><td></td><td><a class=\"ProveItLink\" href=\"../../../sets/integer/__pv_it/6e5362d7b256561b61a1b512bf7dc507dcde5dcf0/expr.ipynb\"><img src=\"data:image/png;base64,iVBORw0KGgoAAAANSUhEUgAAAE4AAAAOBAMAAABz3DdCAAAAMFBMVEX///8QEBCYmJiqqqoiIiLu\n",
       "7u7MzMyIiIi6uroyMjLc3NxmZmZERERUVFR2dnYAAAADo0JQAAAAAXRSTlMAQObYZgAAAWZJREFU\n",
       "KM99kL9LQlEUx7/2vL7XS9+LlqAh3Bp1kGhzLKjhCW1BvaX9UoPQD3ku1qb0D/S2ghTf4CKEuAU1\n",
       "6BaR1B3aKhIiNbAf56q8ybpwv3DO+XDOly+A158bF/+/p57UT79O2eO5iTaJ9u3XSWs8N1UgMXp+\n",
       "XfnjboCTTLb9evUPriz9mHXg6PrsUGit/i302r6rHZxnPGzWkOIoZbIuYhLO01Jxx1kHCm1OuLpn\n",
       "RFboiMhjvanNoQG0JPdmQ3PWwHrSrk5qHwebihOKV6B45SgugVnJnQKMIOUDQYHIzMIerC2HejQN\n",
       "xR+BZYQ6kuvTJyhSAI1Nb5APhj3V6oP8qNMyvu4wIDNqJaGbMgFUR6EZepdMs3CTcjXk0oBAzBJV\n",
       "LMmkOOYlF/aQY+90Z9GMilF8ZQcvin3PhFrAhqsPkjfqjOMECU+Y2xwXjS+Cs0BxF8U08Jzm0KQf\n",
       "sIcdoJTOXTlqzfoFcS9unliQnJ4AAAAASUVORK5CYII=\n",
       "\" style=\"display:inline;vertical-align:middle;\" /></a></td></tr>\n",
       "<tr><td>7</td><td>ExprTuple</td><td>8, 9</td><td><a class=\"ProveItLink\" href=\"../359d2ffcad0b096b85ece3bdabdf3ac9ad97321c0/expr.ipynb\"><img src=\"data:image/png;base64,iVBORw0KGgoAAAANSUhEUgAAACkAAAAVBAMAAAAp9toTAAAAMFBMVEX////c3NwiIiJERESqqqqY\n",
       "mJh2dnZmZmYQEBDu7u4yMjJUVFTMzMyIiIi6uroAAAAs73DqAAAAAXRSTlMAQObYZgAAAQxJREFU\n",
       "GNNtkSFPw1AQx3/burWlbJ1HgMPO4PsNqEKSBYOC1IAFEoIklXOtQRDMDAkhWdIEidkHgAVQBLOS\n",
       "ZQJDuGv3km7hiXv/+72Xe/+7B/+vzngF7Gt4rgD3YQvsTNRt9d7aUEIK7aUCfiBhD5y4SqeaDeBr\n",
       "6aUDDY2AU9lqo+OLkt693kMr4kb0Z7eRlx5m+BlWyrVcnWP3Cmr94PTpnPMLXk69dGKn+BHruVK/\n",
       "R5IVtB4xDZVewuaYXeKF3bNYK+xAEvBoZa7SjCtophxKm6G13SKREXiBPSycfajdydOEwbc4G53o\n",
       "MN5wuqavdyOk42bfJKERR9VJGurKJNlYJG1z6mnN2uoPvcAf68w9OrA141UAAAAASUVORK5CYII=\n",
       "\" style=\"display:inline;vertical-align:middle;\" /></a></td></tr>\n",
       "<tr><td>8</td><td>Variable</td><td></td><td><a class=\"ProveItLink\" href=\"../../../../__pv_it/07527342713064c87612d00d8557c53d53d5324a0/expr.ipynb\"><img src=\"data:image/png;base64,iVBORw0KGgoAAAANSUhEUgAAAAsAAAAJBAMAAAAWSsseAAAAMFBMVEX///8yMjKqqqrMzMzu7u4i\n",
       "IiJmZmaYmJhEREQQEBC6urp2dnaIiIhUVFTc3NwAAAD87Fq/AAAAAXRSTlMAQObYZgAAAEhJREFU\n",
       "CNdjYOC7s2seAwPDygccHxgY+L4zsDUwMPB+YGA9wMDA38Dgb8DA8P4Agz6DA4O/AsNFJgMGxgKm\n",
       "MG6gyjunLE4xAAAZTBA5TB6DCwAAAABJRU5ErkJggg==\n",
       "\" style=\"display:inline;vertical-align:middle;\" /></a></td></tr>\n",
       "<tr><td>9</td><td>Variable</td><td></td><td><a class=\"ProveItLink\" href=\"../../../../__pv_it/6840a4fa6c106149dc16a131294d0c5e44f1b0480/expr.ipynb\"><img src=\"data:image/png;base64,iVBORw0KGgoAAAANSUhEUgAAAAkAAAAOBAMAAAAPuiubAAAALVBMVEX///9mZmbMzMxERESYmJiI\n",
       "iIh2dna6urqqqqoyMjIiIiIQEBBUVFTu7u4AAAD9S1JeAAAAAXRSTlMAQObYZgAAAE1JREFUCNdj\n",
       "4D29gAEIOA+ASL4GEFl3AURmgQiGOaFHGBh4HzPwKTBwvGXgTmBgnMDAJ8DAJcBQ5wBSLncBJLWN\n",
       "gYGngRFoBO9REQYGAGrcDtUkVqASAAAAAElFTkSuQmCC\n",
       "\" style=\"display:inline;vertical-align:middle;\" /></a></td></tr>\n",
       "</table>\n"
      ],
      "text/plain": [
       "0. (k in {a...b})\n",
       "   core type: ExprTuple\n",
       "   sub-expressions: 1\n",
       "1. k in {a...b}\n",
       "   core type: Operation\n",
       "   operator: 2\n",
       "   operands: 3\n",
       "2. in\n",
       "   core type: Literal\n",
       "   sub-expressions: \n",
       "3. (k , {a...b})\n",
       "   core type: ExprTuple\n",
       "   sub-expressions: 4, 5\n",
       "4. k\n",
       "   core type: Variable\n",
       "   sub-expressions: \n",
       "5. {a...b}\n",
       "   core type: Operation\n",
       "   operator: 6\n",
       "   operands: 7\n",
       "6. Interval\n",
       "   core type: Literal\n",
       "   sub-expressions: \n",
       "7. (a , b)\n",
       "   core type: ExprTuple\n",
       "   sub-expressions: 8, 9\n",
       "8. a\n",
       "   core type: Variable\n",
       "   sub-expressions: \n",
       "9. b\n",
       "   core type: Variable\n",
       "   sub-expressions: "
      ]
     },
     "execution_count": 4,
     "metadata": {},
     "output_type": "execute_result"
    }
   ],
   "source": [
    "# display the expression information\n",
    "expr.exprInfo()"
   ]
  },
  {
   "cell_type": "code",
   "execution_count": null,
   "metadata": {},
   "outputs": [],
   "source": []
  }
 ],
 "metadata": {
  "kernelspec": {
   "display_name": "Python 3",
   "language": "python",
   "name": "python3"
  }
 },
 "nbformat": 4,
 "nbformat_minor": 0
}
