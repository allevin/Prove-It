{
 "cells": [
  {
   "cell_type": "markdown",
   "metadata": {},
   "source": [
    "Expression of type <a class=\"ProveItLink\" href=\"../../../../../../doc/html/api/proveit.ExprTuple.html\">ExprTuple</a>\n",
    "=======================\n",
    "# from context <a class=\"ProveItLink\" href=\"../../_context_.ipynb\">proveit.number.multiplication</a>"
   ]
  },
  {
   "cell_type": "code",
   "execution_count": 1,
   "metadata": {},
   "outputs": [],
   "source": [
    "# import Expression classes needed to build the expression\n",
    "from proveit import ExprTuple\n",
    "from proveit._common_ import b\n",
    "from proveit.logic import InSet\n",
    "from proveit.number import NaturalsPos"
   ]
  },
  {
   "cell_type": "code",
   "execution_count": 2,
   "metadata": {},
   "outputs": [
    {
     "data": {
      "text/html": [
       "<strong id=\"expr\">expr:</strong> <a class=\"ProveItLink\" href=\"expr.ipynb\"><img src=\"data:image/png;base64,iVBORw0KGgoAAAANSUhEUgAAAEwAAAAbBAMAAAAkMnRXAAAAMFBMVEX///+qqqp2dnYiIiJERESI\n",
       "iIhmZmYQEBDc3NyYmJgyMjLu7u5UVFTMzMy6uroAAACGxKilAAAAAXRSTlMAQObYZgAAAYdJREFU\n",
       "OMuNkr9Lw1AQx7+12jZ9SZs/wKHg4lgIiItSR38gASmCOBScRNTiX9DByamCm0tAUGg7BOrUpQUV\n",
       "UYgUcZKCboKDVSwolIr30qRJi/R5kLt37z7c3bsLMFQC3vFtCDbKVYIrpSbCGlxVTBE2ppO6gQjD\n",
       "NBDJgl0n+4OV1oKJjU/VxdaBUAaIDrY3r6SAd9wWzgoFqlg1EX4G4uoAdlFPA9le0WAeT2SazivY\n",
       "mqYZ/HBXlOs+LJTCKpkJJ8njsXOwGqzowySqT6aUtp8bWXSLWgH9wYfF2liiWi3E6/wu18OwI+kc\n",
       "k21X6eCUFtdGmC/kHB4mm1a250Z+MEUdGojTWPCiac4TLLBaxcPYB8eCGTTz7u6cbLhX+rKV7LHt\n",
       "8pGU/Zikpjysg0vw/ve4J+d9GCY9LPaNFQqrIXtbbNa9X4bdsSs0tyaFrza77sF2175+USbmYSNG\n",
       "d2KujJ9oxh+/U1SHnIBQqjkoSTF2RN+cGJvhfQspia8oIGxu39aHImwL/5VfiX5fm27cf/IAAAAA\n",
       "SUVORK5CYII=\n",
       "\" style=\"display:inline;vertical-align:middle;\" /></a><br>"
      ],
      "text/plain": [
       "expr: (b in NaturalsPos)"
      ]
     },
     "execution_count": 2,
     "metadata": {},
     "output_type": "execute_result"
    }
   ],
   "source": [
    "# build up the expression from sub-expressions\n",
    "expr = ExprTuple(InSet(b, NaturalsPos))"
   ]
  },
  {
   "cell_type": "code",
   "execution_count": 3,
   "metadata": {},
   "outputs": [
    {
     "name": "stdout",
     "output_type": "stream",
     "text": [
      "Passed sanity check: built 'expr' is the same as the stored Expression.\n"
     ]
    }
   ],
   "source": [
    "# check that the built expression is the same as the stored expression\n",
    "%check_expr"
   ]
  },
  {
   "cell_type": "code",
   "execution_count": 4,
   "metadata": {},
   "outputs": [
    {
     "data": {
      "text/html": [
       "<table><tr><th>&nbsp;</th><th>core type</th><th>sub-expressions</th><th>expression</th></tr>\n",
       "<tr><td>0</td><td>ExprTuple</td><td>1</td><td><a class=\"ProveItLink\" href=\"expr.ipynb\"><img src=\"data:image/png;base64,iVBORw0KGgoAAAANSUhEUgAAAEwAAAAbBAMAAAAkMnRXAAAAMFBMVEX///+qqqp2dnYiIiJERESI\n",
       "iIhmZmYQEBDc3NyYmJgyMjLu7u5UVFTMzMy6uroAAACGxKilAAAAAXRSTlMAQObYZgAAAYdJREFU\n",
       "OMuNkr9Lw1AQx7+12jZ9SZs/wKHg4lgIiItSR38gASmCOBScRNTiX9DByamCm0tAUGg7BOrUpQUV\n",
       "UYgUcZKCboKDVSwolIr30qRJi/R5kLt37z7c3bsLMFQC3vFtCDbKVYIrpSbCGlxVTBE2ppO6gQjD\n",
       "NBDJgl0n+4OV1oKJjU/VxdaBUAaIDrY3r6SAd9wWzgoFqlg1EX4G4uoAdlFPA9le0WAeT2SazivY\n",
       "mqYZ/HBXlOs+LJTCKpkJJ8njsXOwGqzowySqT6aUtp8bWXSLWgH9wYfF2liiWi3E6/wu18OwI+kc\n",
       "k21X6eCUFtdGmC/kHB4mm1a250Z+MEUdGojTWPCiac4TLLBaxcPYB8eCGTTz7u6cbLhX+rKV7LHt\n",
       "8pGU/Zikpjysg0vw/ve4J+d9GCY9LPaNFQqrIXtbbNa9X4bdsSs0tyaFrza77sF2175+USbmYSNG\n",
       "d2KujJ9oxh+/U1SHnIBQqjkoSTF2RN+cGJvhfQspia8oIGxu39aHImwL/5VfiX5fm27cf/IAAAAA\n",
       "SUVORK5CYII=\n",
       "\" style=\"display:inline;vertical-align:middle;\" /></a></td></tr>\n",
       "<tr><td>1</td><td>Operation</td><td>operator:&nbsp;2<br>operands:&nbsp;3<br></td><td><a class=\"ProveItLink\" href=\"../14069116923506025df8821351dbe31db672a4fc0/expr.ipynb\"><img src=\"data:image/png;base64,iVBORw0KGgoAAAANSUhEUgAAAD0AAAAUBAMAAADM7ygkAAAAMFBMVEX////c3NxmZmbMzMxERESY\n",
       "mJiIiIh2dna6urqqqqoyMjIiIiIQEBBUVFTu7u4AAAAiO1wTAAAAAXRSTlMAQObYZgAAAPRJREFU\n",
       "KM9jYMANOBnwAxZ6yPPd2YAq+uqL1wMG7d8TYPq5LqBpc2V2YGD4wHBr1ZpVqxIYGPgnoMnfNkhj\n",
       "YDgAt7//AUSYL2v37gUgxo11vAZI8tVQbVZxUMZlW751SPJr066CKEY/mPmXORNMEPJ8Xxj4DUAc\n",
       "Abg8gwZrAkieFxzI/xh4CoD0EwaEPO+DywdgPKYFDPwKQLpn926o+y4z8F14BZfnVmDoDwDStkj6\n",
       "GcyZ4fJA7+uDfPgaWZ51ggNc3oDhOIjmDUCSZyiEy/NOYAIHMN8OmIgHxFVQwHdNFcKQUobQXX+A\n",
       "evkWYEbn3NW7MUUBsxNDSs6TAEkAAAAASUVORK5CYII=\n",
       "\" style=\"display:inline;vertical-align:middle;\" /></a></td></tr>\n",
       "<tr><td>2</td><td>Literal</td><td></td><td><a class=\"ProveItLink\" href=\"../../../../logic/set_theory/membership/__pv_it/088cbc857536a28d4119ad9639a84270ccb0545d0/expr.ipynb\"><img src=\"data:image/png;base64,iVBORw0KGgoAAAANSUhEUgAAAAwAAAAMBAMAAACkW0HUAAAALVBMVEX///+qqqpmZmZUVFQQEBC6\n",
       "urpERETc3NyYmJjMzMwiIiIyMjKIiIju7u4AAACYsrA9AAAAAXRSTlMAQObYZgAAADxJREFUCNdj\n",
       "YOA9vWrVBgaG2b0MQMCeCyIZ2ArA1DUwyRCyahVIyWQI7xaEYm4AU7xLIdxqTQgtvGvVBgCkcQ7e\n",
       "geM/tQAAAABJRU5ErkJggg==\n",
       "\" style=\"display:inline;vertical-align:middle;\" /></a></td></tr>\n",
       "<tr><td>3</td><td>ExprTuple</td><td>4, 5</td><td><a class=\"ProveItLink\" href=\"../e0c0609e75a6ac5edcab0dd9525fb4b857a5314e0/expr.ipynb\"><img src=\"data:image/png;base64,iVBORw0KGgoAAAANSUhEUgAAADwAAAAbBAMAAADSe/HPAAAAMFBMVEX///+qqqp2dnYiIiJERESI\n",
       "iIhmZmYQEBDc3NyYmJgyMjLu7u5UVFTMzMy6uroAAACGxKilAAAAAXRSTlMAQObYZgAAAV5JREFU\n",
       "KM+Fkr9Lw0AUx7+19kd6SZM/IeDi2ElchDoqIgEpLg4FJxG0+Bc4ODlV8A/opJB2yCZ0aUGlKESC\n",
       "OBZ0FAejWLBQKr5L75pKe/jgvu8lH+7u+14CzIxEXL7PwPNcbC5GW4W7XJqeCqcckjuoMJaBbAWs\n",
       "Uxi9bPbWPex+WRLvAOkykJPXrxlF4AP37qXr0sktD5kXwLQEvg5KQGV8eLKKZ0qhdPdQ14MJnC5i\n",
       "m9KCdOR3WX0Ca3QPpUZJ2PcTztMEzg+wAbAezGCEcaA5HOvRozHEBQ14gIwtsO75lXH32R8skYMa\n",
       "zLLArN2MMfvkOFlGWBUYj8af3Y2o7UNPYs0qxniIG3BfR2ACYzHG+T62yKaVbqPF576JyIkM6jsk\n",
       "B7d7wFUfePumnSzGczXZMfA6/VlzDnRb1NVp3DqGUVDjc1qrozI1459ZoXUKVWh8lAlbhU8iPVPh\n",
       "ffwXv/A1WJZBvj4YAAAAAElFTkSuQmCC\n",
       "\" style=\"display:inline;vertical-align:middle;\" /></a></td></tr>\n",
       "<tr><td>4</td><td>Variable</td><td></td><td><a class=\"ProveItLink\" href=\"../../../../__pv_it/6840a4fa6c106149dc16a131294d0c5e44f1b0480/expr.ipynb\"><img src=\"data:image/png;base64,iVBORw0KGgoAAAANSUhEUgAAAAkAAAAOBAMAAAAPuiubAAAALVBMVEX///9mZmbMzMxERESYmJiI\n",
       "iIh2dna6urqqqqoyMjIiIiIQEBBUVFTu7u4AAAD9S1JeAAAAAXRSTlMAQObYZgAAAE1JREFUCNdj\n",
       "4D29gAEIOA+ASL4GEFl3AURmgQiGOaFHGBh4HzPwKTBwvGXgTmBgnMDAJ8DAJcBQ5wBSLncBJLWN\n",
       "gYGngRFoBO9REQYGAGrcDtUkVqASAAAAAElFTkSuQmCC\n",
       "\" style=\"display:inline;vertical-align:middle;\" /></a></td></tr>\n",
       "<tr><td>5</td><td>Literal</td><td></td><td><a class=\"ProveItLink\" href=\"../../../sets/integer/__pv_it/42d4bc2e45d5054d807f2641a228c1b440fb8de30/expr.ipynb\"><img src=\"data:image/png;base64,iVBORw0KGgoAAAANSUhEUgAAABsAAAATBAMAAACTqWsLAAAAMFBMVEX////c3Nx2dna6uroQEBCI\n",
       "iIhUVFTMzMyYmJiqqqoiIiJmZmZEREQyMjLu7u4AAADjlg78AAAAAXRSTlMAQObYZgAAAHZJREFU\n",
       "GNNjYIADTgYUwEMy9+2fsw8Ydv2aAJM9wX6AgeEDQ+7dK3fvBjAwZBWEMjA4wPUm32MrQOKml/Hd\n",
       "Q+ZyBtQgcxk2cwSAuGxQLtuDdAe47ekMfAlvkbkMRewoXI4JB5C5DIoI7mEg5r4A49l+AcrwwbgA\n",
       "axoiJO4Xc9gAAAAASUVORK5CYII=\n",
       "\" style=\"display:inline;vertical-align:middle;\" /></a></td></tr>\n",
       "</table>\n"
      ],
      "text/plain": [
       "0. (b in NaturalsPos)\n",
       "   core type: ExprTuple\n",
       "   sub-expressions: 1\n",
       "1. b in NaturalsPos\n",
       "   core type: Operation\n",
       "   operator: 2\n",
       "   operands: 3\n",
       "2. in\n",
       "   core type: Literal\n",
       "   sub-expressions: \n",
       "3. (b , NaturalsPos)\n",
       "   core type: ExprTuple\n",
       "   sub-expressions: 4, 5\n",
       "4. b\n",
       "   core type: Variable\n",
       "   sub-expressions: \n",
       "5. NaturalsPos\n",
       "   core type: Literal\n",
       "   sub-expressions: "
      ]
     },
     "execution_count": 4,
     "metadata": {},
     "output_type": "execute_result"
    }
   ],
   "source": [
    "# display the expression information\n",
    "expr.exprInfo()"
   ]
  },
  {
   "cell_type": "code",
   "execution_count": null,
   "metadata": {},
   "outputs": [],
   "source": []
  }
 ],
 "metadata": {
  "kernelspec": {
   "display_name": "Python 3",
   "language": "python",
   "name": "python3"
  }
 },
 "nbformat": 4,
 "nbformat_minor": 0
}
