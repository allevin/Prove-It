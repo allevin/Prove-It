{
 "cells": [
  {
   "cell_type": "markdown",
   "metadata": {},
   "source": [
    "Expression of type <a class=\"ProveItLink\" href=\"../../../../../../doc/html/api/proveit.ExprTuple.html\">ExprTuple</a>\n",
    "=======================\n",
    "# from context <a class=\"ProveItLink\" href=\"../../_context_.ipynb\">proveit.number.multiplication</a>"
   ]
  },
  {
   "cell_type": "code",
   "execution_count": 1,
   "metadata": {},
   "outputs": [],
   "source": [
    "# import Expression classes needed to build the expression\n",
    "from proveit import ExprTuple\n",
    "from proveit._common_ import a, b\n",
    "from proveit.logic import InSet, NotEquals\n",
    "from proveit.number import Integers, zero"
   ]
  },
  {
   "cell_type": "code",
   "execution_count": 2,
   "metadata": {},
   "outputs": [
    {
     "data": {
      "text/html": [
       "<strong id=\"expr\">expr:</strong> <a class=\"ProveItLink\" href=\"expr.ipynb\"><img src=\"data:image/png;base64,iVBORw0KGgoAAAANSUhEUgAAAK8AAAAVCAMAAAAHHU5UAAAAPFBMVEX///8LCwsYGBgNDQ0oKCjc\n",
       "3NwiIiJERESqqqqYmJh2dnZmZmYQEBDu7u4yMjJUVFTMzMyIiIi6uroAAACIMCsmAAAAAXRSTlMA\n",
       "QObYZgAAAjVJREFUSMfVV4uSpCAM5B7yCgSB///XNQFXUHS5qdmqPcqaUYZmOkknQSH+v5HiT2Nk\n",
       "l8GkSeV7DZO7aJmzRHQSnWmmfXDyvcgF20UQI6x0Vz4F+km+EYGWbpup/gcM70WG1DzI7cFLpspm\n",
       "xGk1gOVYaWFT/0PWb0V27o2yGMyKoG3crXt9RLmNT3SglUu4CChl/wycRw7cG8pCUrR32x3e0V3R\n",
       "DHZTnq4+O+QMcAZZ4J1mMvBcCYTSNVRsfrTJHYm5qNGfmiiMEWcRxhjMF8AZZLVrbbWRbeHLqrUg\n",
       "sC5nqio3sFFN8Yqu01ymmbw+AieQgDz+/qHPcObLXxqFS3WeeINq9x9JaxXhTEezCJ19BM4gB+49\n",
       "8U1O5MI3sGflUSuSk3U0Ak8gkr0kPx46uwNOIcvCPiV7Pax558uR8UdQx10Eaw3sGpAETmDzBJxC\n",
       "loWnIOz5Zipfp4sZkeOzcd7DOkjdo4DKcw2F/AScQgLF5PevEhvV1zPN9Yz0oExRPkEDCv3p4Uve\n",
       "NgXUOnFYxkFpRHgFziIH7q39ohY+g1QieJ2hLg/iAHuZzoVmKQXUg1VkYnVV2EyFRgRX4Czyol52\n",
       "sKZGUdy4kU1yr74xrSqmti1Cl6rJKXRKKcxOAe1RYrSdWiKYvp/2wHnk1b1sYwx1P9zoueX+WBXw\n",
       "lOY9jeVF4C1Sw+MxhPpxOUS8NIx4N1I+HxVt/Kfz5Lfz/cq9uCfvS+P1t5L4mnv3/rj8lPeh9Gwl\n",
       "Jd0Hy10fyPKXZ2sAAAAASUVORK5CYII=\n",
       "\" style=\"display:inline;vertical-align:middle;\" /></a><br>"
      ],
      "text/plain": [
       "expr: (a in Integers , b in Integers , b != 0)"
      ]
     },
     "execution_count": 2,
     "metadata": {},
     "output_type": "execute_result"
    }
   ],
   "source": [
    "# build up the expression from sub-expressions\n",
    "expr = ExprTuple(InSet(a, Integers), InSet(b, Integers), NotEquals(b, zero))"
   ]
  },
  {
   "cell_type": "code",
   "execution_count": 3,
   "metadata": {},
   "outputs": [
    {
     "name": "stdout",
     "output_type": "stream",
     "text": [
      "Passed sanity check: built 'expr' is the same as the stored Expression.\n"
     ]
    }
   ],
   "source": [
    "# check that the built expression is the same as the stored expression\n",
    "%check_expr"
   ]
  },
  {
   "cell_type": "code",
   "execution_count": 4,
   "metadata": {},
   "outputs": [
    {
     "data": {
      "text/html": [
       "<table><tr><th>&nbsp;</th><th>core type</th><th>sub-expressions</th><th>expression</th></tr>\n",
       "<tr><td>0</td><td>ExprTuple</td><td>1, 2, 3</td><td><a class=\"ProveItLink\" href=\"expr.ipynb\"><img src=\"data:image/png;base64,iVBORw0KGgoAAAANSUhEUgAAAK8AAAAVCAMAAAAHHU5UAAAAPFBMVEX///8LCwsYGBgNDQ0oKCjc\n",
       "3NwiIiJERESqqqqYmJh2dnZmZmYQEBDu7u4yMjJUVFTMzMyIiIi6uroAAACIMCsmAAAAAXRSTlMA\n",
       "QObYZgAAAjVJREFUSMfVV4uSpCAM5B7yCgSB///XNQFXUHS5qdmqPcqaUYZmOkknQSH+v5HiT2Nk\n",
       "l8GkSeV7DZO7aJmzRHQSnWmmfXDyvcgF20UQI6x0Vz4F+km+EYGWbpup/gcM70WG1DzI7cFLpspm\n",
       "xGk1gOVYaWFT/0PWb0V27o2yGMyKoG3crXt9RLmNT3SglUu4CChl/wycRw7cG8pCUrR32x3e0V3R\n",
       "DHZTnq4+O+QMcAZZ4J1mMvBcCYTSNVRsfrTJHYm5qNGfmiiMEWcRxhjMF8AZZLVrbbWRbeHLqrUg\n",
       "sC5nqio3sFFN8Yqu01ymmbw+AieQgDz+/qHPcObLXxqFS3WeeINq9x9JaxXhTEezCJ19BM4gB+49\n",
       "8U1O5MI3sGflUSuSk3U0Ak8gkr0kPx46uwNOIcvCPiV7Pax558uR8UdQx10Eaw3sGpAETmDzBJxC\n",
       "loWnIOz5Zipfp4sZkeOzcd7DOkjdo4DKcw2F/AScQgLF5PevEhvV1zPN9Yz0oExRPkEDCv3p4Uve\n",
       "NgXUOnFYxkFpRHgFziIH7q39ohY+g1QieJ2hLg/iAHuZzoVmKQXUg1VkYnVV2EyFRgRX4Czyol52\n",
       "sKZGUdy4kU1yr74xrSqmti1Cl6rJKXRKKcxOAe1RYrSdWiKYvp/2wHnk1b1sYwx1P9zoueX+WBXw\n",
       "lOY9jeVF4C1Sw+MxhPpxOUS8NIx4N1I+HxVt/Kfz5Lfz/cq9uCfvS+P1t5L4mnv3/rj8lPeh9Gwl\n",
       "Jd0Hy10fyPKXZ2sAAAAASUVORK5CYII=\n",
       "\" style=\"display:inline;vertical-align:middle;\" /></a></td></tr>\n",
       "<tr><td>1</td><td>Operation</td><td>operator:&nbsp;5<br>operands:&nbsp;4<br></td><td><a class=\"ProveItLink\" href=\"../e52c7680f4f53012348eb0170b3bcb1877ce6f460/expr.ipynb\"><img src=\"data:image/png;base64,iVBORw0KGgoAAAANSUhEUgAAADIAAAAPBAMAAABU9YHxAAAAMFBMVEX///8yMjKqqqrMzMzu7u4i\n",
       "IiJmZmaYmJhEREQQEBC6urp2dnaIiIhUVFTc3NwAAAD87Fq/AAAAAXRSTlMAQObYZgAAANpJREFU\n",
       "GNNjYMAATPFfBadKFmBKMPCIOTAIcGCRYGDbwMCtsAtZxEc0NBBE8zowvGW+gCTBLO4AZ7dwgNh8\n",
       "d3bNA/FeICTYD5SDqJUPOD6A6D6Edg+WBpCW7wxsIBrMgYLLvA9A9n1gYD0ApLmmhoZCXMDAlbAa\n",
       "RPE3MPgbgByAcA0jgwADwz6G9wcY9BmAlrMEwGU2cS9gYAhg8FdguMgE0nQdJsF3wZaBgXsCA2MB\n",
       "Uxg3SMB1AVSG40ELA0t2A9A7pyxOgZWKGUBkVjbO6JCfkYAcxhehboMAAOemMLNTwnkhAAAAAElF\n",
       "TkSuQmCC\n",
       "\" style=\"display:inline;vertical-align:middle;\" /></a></td></tr>\n",
       "<tr><td>2</td><td>Operation</td><td>operator:&nbsp;5<br>operands:&nbsp;6<br></td><td><a class=\"ProveItLink\" href=\"../51c67a7d63d0ef51371e0f6bbf4607dc0d1bbaf10/expr.ipynb\"><img src=\"data:image/png;base64,iVBORw0KGgoAAAANSUhEUgAAADAAAAAPBAMAAABQAFHMAAAAMFBMVEX////c3NxmZmbMzMxERESY\n",
       "mJiIiIh2dna6urqqqqoyMjIiIiIQEBBUVFTu7u4AAAAiO1wTAAAAAXRSTlMAQObYZgAAAOJJREFU\n",
       "GNNj4LuzgQEFcO7/ver0mgAGBq4LqBJsix4wLGABMvgnoEowFTCwT6gAMvofQASerd69C0TzPmCQ\n",
       "ZQaZUg0RZ176AK7JjwXEXpt2FcQRQYizJoQCSb4vDPwGQNoRYcsTPgeQ6/4x8BQA5R0QEpd5BUCO\n",
       "WMDAr8DAwHF6926I5QwcCu0giluBoR/oG2aEb7gYFjAwFIK8oQ+0lw/h/0r2BgaGDSCbj4O4V2Hi\n",
       "jBdsGRjYDzDwTmACm/K6ASrBIuDHwKfuwMB3TRWicJEBRKLH64jL+iMKSKF6C+oqCAAAiJc438f0\n",
       "fH8AAAAASUVORK5CYII=\n",
       "\" style=\"display:inline;vertical-align:middle;\" /></a></td></tr>\n",
       "<tr><td>3</td><td>Operation</td><td>operator:&nbsp;7<br>operands:&nbsp;8<br></td><td><a class=\"ProveItLink\" href=\"../9d7ac126d8594a74b93e4076739e53405cfe89890/expr.ipynb\"><img src=\"data:image/png;base64,iVBORw0KGgoAAAANSUhEUgAAAC8AAAAUCAMAAAAqRJTwAAAAPFBMVEX///8LCwsYGBgNDQ0oKCjc\n",
       "3NxmZmbMzMxERESYmJiIiIh2dna6urqqqqoyMjIiIiIQEBBUVFTu7u4AAACG5AffAAAAAXRSTlMA\n",
       "QObYZgAAAMtJREFUKM+1UtsWgyAMYxeLFigW/v9fB0U3YEyPD+uDWggxCVXqd5lptBp49UP4RDUK\n",
       "EEGXb+Ihnm3V+NQEXw5Ed0qPIgFlycZwTs8FmR2ZoXw9110EWRMlxIi89PhZ19qiKXhMLmJmivs2\n",
       "kNTzkZ/c49PLifzVHNA3eKCPwHfZNuJajwdx3hqg7mp3v8uWPrwzBZ/qfvNSc5uny3mK005+T7/d\n",
       "lyTPiR/4SL38IKHCqmXeELr06XswAxhkPZ5jB+pS+XAJ/md6ZY82X9msCWuJzGCJAAAAAElFTkSu\n",
       "QmCC\n",
       "\" style=\"display:inline;vertical-align:middle;\" /></a></td></tr>\n",
       "<tr><td>4</td><td>ExprTuple</td><td>9, 10</td><td><a class=\"ProveItLink\" href=\"../fd4dcad9558b1c0858078438f4330f7eb1678eba0/expr.ipynb\"><img src=\"data:image/png;base64,iVBORw0KGgoAAAANSUhEUgAAAC4AAAAVBAMAAADLKsFqAAAAMFBMVEX////c3NwiIiJERESqqqqY\n",
       "mJh2dnZmZmYQEBDu7u4yMjJUVFTMzMyIiIi6uroAAAAs73DqAAAAAXRSTlMAQObYZgAAAR5JREFU\n",
       "GNNjYMAF+C5gCLE+ABKnkQRY9D+taloRwFADZK9EEuddPoFhATMDAxeQiWwMewIDm0Me0KAEBo4J\n",
       "SOLcExikeTYwMHA2MLxCs9OSGaTQhKEMSDLuzWuEOeVCKIhKZ1gKJF8IMH+Aik/mNABRXgx9QOVf\n",
       "GdgNoOJ7uAVA1AuGf0DbPjAwQV3FV/AMTJ8HifMbMMw/ABHnYljAwJAIEm9hYJC/wODPAHFuChsw\n",
       "CBRA5pgyMMx3YNjFcoAT5LANwFBha2BgiAK6iIErgEWdjWE+UBmzgCUDZ5kByJ2PQM6/d/gew4yP\n",
       "QO1WzcbrmwsYGNYxcAjAfPoQ4WlgOACDCAoCEOJsF5DCGUl8FhBLw8IeKfA2gtyGGY+8BxgAz2FB\n",
       "pcJZQS4AAAAASUVORK5CYII=\n",
       "\" style=\"display:inline;vertical-align:middle;\" /></a></td></tr>\n",
       "<tr><td>5</td><td>Literal</td><td></td><td><a class=\"ProveItLink\" href=\"../../../../logic/set_theory/membership/__pv_it/088cbc857536a28d4119ad9639a84270ccb0545d0/expr.ipynb\"><img src=\"data:image/png;base64,iVBORw0KGgoAAAANSUhEUgAAAAwAAAAMBAMAAACkW0HUAAAALVBMVEX///+qqqpmZmZUVFQQEBC6\n",
       "urpERETc3NyYmJjMzMwiIiIyMjKIiIju7u4AAACYsrA9AAAAAXRSTlMAQObYZgAAADxJREFUCNdj\n",
       "YOA9vWrVBgaG2b0MQMCeCyIZ2ArA1DUwyRCyahVIyWQI7xaEYm4AU7xLIdxqTQgtvGvVBgCkcQ7e\n",
       "geM/tQAAAABJRU5ErkJggg==\n",
       "\" style=\"display:inline;vertical-align:middle;\" /></a></td></tr>\n",
       "<tr><td>6</td><td>ExprTuple</td><td>11, 10</td><td><a class=\"ProveItLink\" href=\"../3284c4c0abf842a90cd48246d8a0360c78123df80/expr.ipynb\"><img src=\"data:image/png;base64,iVBORw0KGgoAAAANSUhEUgAAACwAAAAVBAMAAADP3xFXAAAAMFBMVEX////c3NwiIiJERESqqqqY\n",
       "mJh2dnZmZmYQEBDu7u4yMjJUVFTMzMyIiIi6uroAAAAs73DqAAAAAXRSTlMAQObYZgAAASZJREFU\n",
       "GNNjYMAB+C6gi7A+ABKnGTh3KED4LPqfVjWtCGCoAbJXMjBwbYAI8y6fwLCAGcgHMoFm8DtAhNkT\n",
       "GNgc8oCmJDBwTGBgeD8BIsw9gUGaB6iTs4HhFZCbhLDOkhmkxIShDEiuvrsV5ogLoSAqnWEpUM9n\n",
       "Bv4DEOHJnAYgyouhD+iunwwcCRDhPdwCIOoFwz+gAxYw8BdAvFbwDEyfBwkzFTC8DwBzuRgWMDAk\n",
       "goRbwM6uhzgxhQ3obwWQIaYMIPvaGDiBoowbTjMwsDUwMEQB3cLA7cC+gWE+UBGzgCUDZ5kByIGP\n",
       "gA7cW8rAMOMjUK9Vs/H6ZqDt6xg4BKA+eYjwKtDzrFAXMwQghNkugAMWXXgWEEtDwxopejaCXIUR\n",
       "abwHGABefEKB34/mbQAAAABJRU5ErkJggg==\n",
       "\" style=\"display:inline;vertical-align:middle;\" /></a></td></tr>\n",
       "<tr><td>7</td><td>Literal</td><td></td><td><a class=\"ProveItLink\" href=\"../../../../logic/equality/__pv_it/43637204f35b46c076ae787093288c6a879642310/expr.ipynb\"><img src=\"data:image/png;base64,iVBORw0KGgoAAAANSUhEUgAAAA4AAAAUCAMAAACK2/weAAAAM1BMVEX///8LCwsYGBgNDQ0oKCju\n",
       "7u4iIiJmZmaqqqpERETMzMy6urpUVFQyMjLc3Nx2dnYAAAB8DqOrAAAAAXRSTlMAQObYZgAAAE5J\n",
       "REFUGNNjYEAAfj4kDgMfLzKPgYebaEkuThRJTi4wxc4LBizMIJIHTRIKuHlQdPLCHMTOBgRMjGxg\n",
       "wIkmiVcnGHCwo0iysRItyYDsMQCO9QJkhxsUAQAAAABJRU5ErkJggg==\n",
       "\" style=\"display:inline;vertical-align:middle;\" /></a></td></tr>\n",
       "<tr><td>8</td><td>ExprTuple</td><td>11, 12</td><td><a class=\"ProveItLink\" href=\"../fbe24b00e3b4b8d0f5677c89620ec601b9c4ca000/expr.ipynb\"><img src=\"data:image/png;base64,iVBORw0KGgoAAAANSUhEUgAAACkAAAAVBAMAAAAp9toTAAAAMFBMVEX////c3NwiIiJERESqqqqY\n",
       "mJh2dnZmZmYQEBDu7u4yMjJUVFTMzMyIiIi6uroAAAAs73DqAAAAAXRSTlMAQObYZgAAAQxJREFU\n",
       "GNNtkb9LA0EQhb+ciXebmNz1Nvbapt//wKss5bCxEq4xXdBCrESuTOc1KYJNGsFGuN7CYCP4A6Kl\n",
       "TRQhYiOZTTZLDG6xzHws8968hf9PY7AEds11i7resEC1Hwr8QqoeVPuWekO1BTnUZUCoLb2HR9iB\n",
       "IINRZumm1BEdeJdmby70DXeaFU1LmsuXqyksjYUOWE3pivIXYeFoQjnnHMo/BMkCbRzzC35OmC5M\n",
       "WPsw1EsZxU4tNvRkavcomzvbjsyEJkbqFGW3EJeVnH2oab/PhcnC0+oM4+xNnN0cQufTpNN6EovV\n",
       "IUFk93p1UcrGlcTWsaMHsyT/UiVJsj6r6+5pzcwsLf/QM0wAm45FZKIBQfEAAAAASUVORK5CYII=\n",
       "\" style=\"display:inline;vertical-align:middle;\" /></a></td></tr>\n",
       "<tr><td>9</td><td>Variable</td><td></td><td><a class=\"ProveItLink\" href=\"../../../../__pv_it/07527342713064c87612d00d8557c53d53d5324a0/expr.ipynb\"><img src=\"data:image/png;base64,iVBORw0KGgoAAAANSUhEUgAAAAsAAAAJBAMAAAAWSsseAAAAMFBMVEX///8yMjKqqqrMzMzu7u4i\n",
       "IiJmZmaYmJhEREQQEBC6urp2dnaIiIhUVFTc3NwAAAD87Fq/AAAAAXRSTlMAQObYZgAAAEhJREFU\n",
       "CNdjYOC7s2seAwPDygccHxgY+L4zsDUwMPB+YGA9wMDA38Dgb8DA8P4Agz6DA4O/AsNFJgMGxgKm\n",
       "MG6gyjunLE4xAAAZTBA5TB6DCwAAAABJRU5ErkJggg==\n",
       "\" style=\"display:inline;vertical-align:middle;\" /></a></td></tr>\n",
       "<tr><td>10</td><td>Literal</td><td></td><td><a class=\"ProveItLink\" href=\"../../../sets/integer/__pv_it/7b9e51516f347f625fa636d7bb440e96498977000/expr.ipynb\"><img src=\"data:image/png;base64,iVBORw0KGgoAAAANSUhEUgAAAA4AAAAOBAMAAADtZjDiAAAAMFBMVEX////MzMzc3NxUVFS6urp2\n",
       "dnZERETu7u5mZmaIiIiYmJgQEBAyMjIiIiKqqqoAAAAf68ZqAAAAAXRSTlMAQObYZgAAAGlJREFU\n",
       "CNdj4Lv/98ze0wsYOE8UMBxgY2DgCGBgfRDCwMBcwKDMaMAAAulsBSCKa8IqMLeMPQFMGzIrgCiW\n",
       "Blcwl4fhAANDEANDHKsDA8MFBiYDYQYG1g0MbArpDOytCQzeOdvSzm9rAAAm6xY1AUf+1AAAAABJ\n",
       "RU5ErkJggg==\n",
       "\" style=\"display:inline;vertical-align:middle;\" /></a></td></tr>\n",
       "<tr><td>11</td><td>Variable</td><td></td><td><a class=\"ProveItLink\" href=\"../../../../__pv_it/6840a4fa6c106149dc16a131294d0c5e44f1b0480/expr.ipynb\"><img src=\"data:image/png;base64,iVBORw0KGgoAAAANSUhEUgAAAAkAAAAOBAMAAAAPuiubAAAALVBMVEX///9mZmbMzMxERESYmJiI\n",
       "iIh2dna6urqqqqoyMjIiIiIQEBBUVFTu7u4AAAD9S1JeAAAAAXRSTlMAQObYZgAAAE1JREFUCNdj\n",
       "4D29gAEIOA+ASL4GEFl3AURmgQiGOaFHGBh4HzPwKTBwvGXgTmBgnMDAJ8DAJcBQ5wBSLncBJLWN\n",
       "gYGngRFoBO9REQYGAGrcDtUkVqASAAAAAElFTkSuQmCC\n",
       "\" style=\"display:inline;vertical-align:middle;\" /></a></td></tr>\n",
       "<tr><td>12</td><td>Literal</td><td></td><td><a class=\"ProveItLink\" href=\"../../../numeral/__pv_it/ec23fc7a1b4222a5f4948b495002b97d6fa18c3c0/expr.ipynb\"><img src=\"data:image/png;base64,iVBORw0KGgoAAAANSUhEUgAAAAoAAAAOBAMAAADkjZCYAAAALVBMVEX///8QEBCYmJh2dnaqqqrc\n",
       "3NxUVFQyMjK6uroiIiLMzMyIiIhmZmbu7u4AAAAZjyHdAAAAAXRSTlMAQObYZgAAAEpJREFUCNdj\n",
       "YLiz+xQDA8MMhpsLGLgnMHAXMHAmMHA8ZeA7wMD1hCHOgIHrNZh8jES+Bss+AqlkeQrSxTyBgWEK\n",
       "w8UFDAx3rLMYAMCjFldHSx/9AAAAAElFTkSuQmCC\n",
       "\" style=\"display:inline;vertical-align:middle;\" /></a></td></tr>\n",
       "</table>\n"
      ],
      "text/plain": [
       "0. (a in Integers , b in Integers , b != 0)\n",
       "   core type: ExprTuple\n",
       "   sub-expressions: 1, 2, 3\n",
       "1. a in Integers\n",
       "   core type: Operation\n",
       "   operator: 5\n",
       "   operands: 4\n",
       "2. b in Integers\n",
       "   core type: Operation\n",
       "   operator: 5\n",
       "   operands: 6\n",
       "3. b != 0\n",
       "   core type: Operation\n",
       "   operator: 7\n",
       "   operands: 8\n",
       "4. (a , Integers)\n",
       "   core type: ExprTuple\n",
       "   sub-expressions: 9, 10\n",
       "5. in\n",
       "   core type: Literal\n",
       "   sub-expressions: \n",
       "6. (b , Integers)\n",
       "   core type: ExprTuple\n",
       "   sub-expressions: 11, 10\n",
       "7. !=\n",
       "   core type: Literal\n",
       "   sub-expressions: \n",
       "8. (b , 0)\n",
       "   core type: ExprTuple\n",
       "   sub-expressions: 11, 12\n",
       "9. a\n",
       "   core type: Variable\n",
       "   sub-expressions: \n",
       "10. Integers\n",
       "    core type: Literal\n",
       "    sub-expressions: \n",
       "11. b\n",
       "    core type: Variable\n",
       "    sub-expressions: \n",
       "12. 0\n",
       "    core type: Literal\n",
       "    sub-expressions: "
      ]
     },
     "execution_count": 4,
     "metadata": {},
     "output_type": "execute_result"
    }
   ],
   "source": [
    "# display the expression information\n",
    "expr.exprInfo()"
   ]
  },
  {
   "cell_type": "code",
   "execution_count": null,
   "metadata": {},
   "outputs": [],
   "source": []
  }
 ],
 "metadata": {
  "kernelspec": {
   "display_name": "Python 3",
   "language": "python",
   "name": "python3"
  }
 },
 "nbformat": 4,
 "nbformat_minor": 0
}
