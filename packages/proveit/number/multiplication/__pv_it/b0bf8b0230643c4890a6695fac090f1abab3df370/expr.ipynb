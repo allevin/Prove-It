{
 "cells": [
  {
   "cell_type": "markdown",
   "metadata": {},
   "source": [
    "Expression of type <a class=\"ProveItLink\" href=\"../../../../../../doc/html/api/proveit.ExprTuple.html\">ExprTuple</a>\n",
    "=======================\n",
    "# from context <a class=\"ProveItLink\" href=\"../../_context_.ipynb\">proveit.number.multiplication</a>"
   ]
  },
  {
   "cell_type": "code",
   "execution_count": 1,
   "metadata": {},
   "outputs": [],
   "source": [
    "# import Expression classes needed to build the expression\n",
    "from proveit import ExprTuple\n",
    "from proveit._common_ import x, y\n",
    "from proveit.number import Mult, Neg"
   ]
  },
  {
   "cell_type": "code",
   "execution_count": 2,
   "metadata": {},
   "outputs": [
    {
     "data": {
      "text/html": [
       "<strong id=\"expr\">expr:</strong> <a class=\"ProveItLink\" href=\"expr.ipynb\"><img src=\"data:image/png;base64,iVBORw0KGgoAAAANSUhEUgAAAKgAAAAVBAMAAAAgMbgsAAAAMFBMVEX////c3NwiIiJERESqqqqY\n",
       "mJh2dnZmZmYQEBDu7u4yMjJUVFTMzMyIiIi6uroAAAAs73DqAAAAAXRSTlMAQObYZgAAAj9JREFU\n",
       "OMu1VL2LE0EcfXE3ye4lm0shFspxi6ClHPiBIEJq8bjVwsJCFgsPi8BhcYWfUa+xOFkQjmhjEERs\n",
       "JKf/QAo7i0ujUTTcaSWCXBSuODjF32RmZ+aXgGvjg7eZeTt5O7+PGeC/oNK1Z98VbVxAlmAjv0GP\n",
       "N7ZSbksyFDtZAsN14nNbmEgkOVqZAvMAAhZ9X5HjXKbA4o/hsX3dU+RoZgo2/Aa+saK1JEfg1LIE\n",
       "hiNYZBWIJVPk6quzN4DCgt7FfIzpxBL2fNzd0wlcWURuG5jHU5bjSFKvwtnoDuDqzRcqA6xbgh/n\n",
       "D3hh+jbeRDAATuG+beptSOpV5HCaMtIQk4fE18UQh1NBfIRcXNFgPpWmXLsCZwb4it8U5JP9AmQ2\n",
       "qbh3KBxCglfD7h2Iv/2kR+J18UsJw52iNDMcPA7FZBmTlIs1YWqQmhosG9O7YjiXlHcsUwpMZrQp\n",
       "vN1trHWE6RILvyZpKrVD3zfRAlcRNJgw3YFuymIL7yHCP8paJZJMcYby/oHa2XTZMzhtJfii0avr\n",
       "CLTpxAJO0M95qr8F0SqmXeBuOY1cl0nXsBkpQaRxLjqOKdOR7coWREt9Yc0fSqZlOHn50luxA5Pm\n",
       "B/1bVSU0f9D03Uo9stb3SMMLeFXb9bbiX07lRS18Hj9MhXB4TPPx6E0xflvU9agU+ktaiEbXvUST\n",
       "qlzo/svV55s67YqdWAtjpgdxjJ6PiPtsOdeWZCiZDLn9m1oIxiKa7YlcrwofdqFOKdr4hCzBRtDB\n",
       "H0c2kl/zDHZYAAAAAElFTkSuQmCC\n",
       "\" style=\"display:inline;vertical-align:middle;\" /></a><br>"
      ],
      "text/plain": [
       "expr: (-((-x) * y) , x * y)"
      ]
     },
     "execution_count": 2,
     "metadata": {},
     "output_type": "execute_result"
    }
   ],
   "source": [
    "# build up the expression from sub-expressions\n",
    "expr = ExprTuple(Neg(Mult(Neg(x), y)), Mult(x, y))"
   ]
  },
  {
   "cell_type": "code",
   "execution_count": 3,
   "metadata": {},
   "outputs": [
    {
     "name": "stdout",
     "output_type": "stream",
     "text": [
      "Passed sanity check: built 'expr' is the same as the stored Expression.\n"
     ]
    }
   ],
   "source": [
    "# check that the built expression is the same as the stored expression\n",
    "%check_expr"
   ]
  },
  {
   "cell_type": "code",
   "execution_count": 4,
   "metadata": {},
   "outputs": [
    {
     "data": {
      "text/html": [
       "<table><tr><th>&nbsp;</th><th>core type</th><th>sub-expressions</th><th>expression</th></tr>\n",
       "<tr><td>0</td><td>ExprTuple</td><td>1, 2</td><td><a class=\"ProveItLink\" href=\"expr.ipynb\"><img src=\"data:image/png;base64,iVBORw0KGgoAAAANSUhEUgAAAKgAAAAVBAMAAAAgMbgsAAAAMFBMVEX////c3NwiIiJERESqqqqY\n",
       "mJh2dnZmZmYQEBDu7u4yMjJUVFTMzMyIiIi6uroAAAAs73DqAAAAAXRSTlMAQObYZgAAAj9JREFU\n",
       "OMu1VL2LE0EcfXE3ye4lm0shFspxi6ClHPiBIEJq8bjVwsJCFgsPi8BhcYWfUa+xOFkQjmhjEERs\n",
       "JKf/QAo7i0ujUTTcaSWCXBSuODjF32RmZ+aXgGvjg7eZeTt5O7+PGeC/oNK1Z98VbVxAlmAjv0GP\n",
       "N7ZSbksyFDtZAsN14nNbmEgkOVqZAvMAAhZ9X5HjXKbA4o/hsX3dU+RoZgo2/Aa+saK1JEfg1LIE\n",
       "hiNYZBWIJVPk6quzN4DCgt7FfIzpxBL2fNzd0wlcWURuG5jHU5bjSFKvwtnoDuDqzRcqA6xbgh/n\n",
       "D3hh+jbeRDAATuG+beptSOpV5HCaMtIQk4fE18UQh1NBfIRcXNFgPpWmXLsCZwb4it8U5JP9AmQ2\n",
       "qbh3KBxCglfD7h2Iv/2kR+J18UsJw52iNDMcPA7FZBmTlIs1YWqQmhosG9O7YjiXlHcsUwpMZrQp\n",
       "vN1trHWE6RILvyZpKrVD3zfRAlcRNJgw3YFuymIL7yHCP8paJZJMcYby/oHa2XTZMzhtJfii0avr\n",
       "CLTpxAJO0M95qr8F0SqmXeBuOY1cl0nXsBkpQaRxLjqOKdOR7coWREt9Yc0fSqZlOHn50luxA5Pm\n",
       "B/1bVSU0f9D03Uo9stb3SMMLeFXb9bbiX07lRS18Hj9MhXB4TPPx6E0xflvU9agU+ktaiEbXvUST\n",
       "qlzo/svV55s67YqdWAtjpgdxjJ6PiPtsOdeWZCiZDLn9m1oIxiKa7YlcrwofdqFOKdr4hCzBRtDB\n",
       "H0c2kl/zDHZYAAAAAElFTkSuQmCC\n",
       "\" style=\"display:inline;vertical-align:middle;\" /></a></td></tr>\n",
       "<tr><td>1</td><td>Operation</td><td>operator:&nbsp;9<br>operand:&nbsp;3<br></td><td><a class=\"ProveItLink\" href=\"../74b348dc23717b6259807cc195aca918421486dc0/expr.ipynb\"><img src=\"data:image/png;base64,iVBORw0KGgoAAAANSUhEUgAAAGcAAAAVBAMAAACphe0AAAAAMFBMVEX///9ERESqqqqYmJh2dnZm\n",
       "ZmYQEBDu7u5UVFTMzMyIiIi6uroiIiIyMjLc3NwAAAB7vQThAAAAAXRSTlMAQObYZgAAAUZJREFU\n",
       "OMulkz9Lw0AYh39J/6RNtShuTq662MFNkQwWoTg4OIgiho7qEEG6ql9AxMkx4CB20Q+g2F0HQcS1\n",
       "o4sYcKou3vXeS/KeeIsPPEl4yJHcXQL8k1qsZMzDHs5JRunUHl5JzpM1+LHSYM4aypHSoGMNd6SB\n",
       "M2ULa6Sm3jqZ2QCKqzp4zQAfUS4InknNARYae4CbTrxYS3CdD4JdUhOIO6bFzoXyIXKuZ6Uexofh\n",
       "/VHyINo3qUuEYzm2mojDYU8conKMLwoaPShjJx3UGZOXs1F1YAxqk9lKDODR6ym24IcsABOkZtFP\n",
       "cAkUsnm/wDliAWiShPvphPU4v+RYx30DfMlvSb0rk8tLF+I8epOm/e52nwXxCfWVtq9mxQyFQGnQ\n",
       "Sq8qPa/Nwp+/hpdNeyRwAhYkbySjkr2w293kYbgvsZJxhd/hBzwWWm9JnLFfAAAAAElFTkSuQmCC\n",
       "\" style=\"display:inline;vertical-align:middle;\" /></a></td></tr>\n",
       "<tr><td>2</td><td>Operation</td><td>operator:&nbsp;5<br>operands:&nbsp;4<br></td><td><a class=\"ProveItLink\" href=\"../ef6e4b025c24ef250446fdd83f172aaf746212700/expr.ipynb\"><img src=\"data:image/png;base64,iVBORw0KGgoAAAANSUhEUgAAACYAAAANBAMAAAA3eAFoAAAAMFBMVEX///8yMjK6urpERETMzMwQ\n",
       "EBAiIiKYmJju7u5mZmaqqqpUVFSIiIh2dnbc3NwAAADpJKkdAAAAAXRSTlMAQObYZgAAAJ1JREFU\n",
       "GNNjYHh7+tXJAwxQ0DuXge8HA8cF9nTWBJjYBX0Gng8MvECCywHI7QBilgXTGJgNGDgYuA1AKji+\n",
       "gQiGGAZ+kEGsYNM4gkEk1w8Gf5Cm9w4MDTDzOAUYjjIwsD84z8ADF2OcwGDNwLC+wJThDQNc3Qam\n",
       "7wwMzWd77xTAxThsTv5jwAC8Cegi2xhaF6CL5TLYYuhcc1KBgQEA7zMlt29LHQkAAAAASUVORK5C\n",
       "YII=\n",
       "\" style=\"display:inline;vertical-align:middle;\" /></a></td></tr>\n",
       "<tr><td>3</td><td>Operation</td><td>operator:&nbsp;5<br>operands:&nbsp;6<br></td><td><a class=\"ProveItLink\" href=\"../adebcb32ee0deceef0d2025c242a7d84c899a6100/expr.ipynb\"><img src=\"data:image/png;base64,iVBORw0KGgoAAAANSUhEUgAAAEQAAAAVBAMAAAAN71XTAAAAMFBMVEX////c3NwiIiJERESqqqqY\n",
       "mJh2dnZmZmYQEBDu7u4yMjJUVFTMzMyIiIi6uroAAAAs73DqAAAAAXRSTlMAQObYZgAAARFJREFU\n",
       "KM9jYCAC8F1A5bM+wFByGl2gBkPJSnQBLnQB3gvoIqwJaAIcE9CVcDagCbzC9IAJGr8MiS12W+Q6\n",
       "0N50uMC0MgbGnwxLkWxIYFXlUGBg8IKLJLxn4P3A0IdQwgbksxxgYHgB4swEYh6HIgZmA4Z/DAyM\n",
       "i5RA4AEnA7cBSPY8yMRPIIKhl4H/AkgJkvcuwJU0g1gsPxnOH2BoQVYif4BhAtQiMGBfwHCDgcEU\n",
       "KcwE7jPwApVEIQK6gMEa2YcM/gEWDLIMyELsG/i+MjA8QiiZfG1abgCQXocIBtvrH4EuFMAbAWwK\n",
       "WCKNgQ0RsZsYZjhgSwyzEEw1BjMQJY2uZCOC6XsdnAQZ0RIM7wE0LQBDgDyUTIkFkAAAAABJRU5E\n",
       "rkJggg==\n",
       "\" style=\"display:inline;vertical-align:middle;\" /></a></td></tr>\n",
       "<tr><td>4</td><td>ExprTuple</td><td>10, 8</td><td><a class=\"ProveItLink\" href=\"../a6a2ac9310c73e21661c7634808321702fb219240/expr.ipynb\"><img src=\"data:image/png;base64,iVBORw0KGgoAAAANSUhEUgAAACwAAAAVBAMAAADP3xFXAAAAMFBMVEX////c3NwiIiJERESqqqqY\n",
       "mJh2dnZmZmYQEBDu7u4yMjJUVFTMzMyIiIi6uroAAAAs73DqAAAAAXRSTlMAQObYZgAAAQtJREFU\n",
       "GNNjYMAB+C6gi7A+ABKnMVXWAPFKTGEuBgbeC5jCrAkMHBMwhTkbGF5hc4YJQxmQFLstch1i1rQy\n",
       "BsafDAzpDEuBehJYVTkUwMIJ7xl4PzAweDH0MTCwAZksB0CiPA5FDMwGDAwvGP4BVTNwG0DtYuhl\n",
       "4Acadx4kzMDAAXMly0+G8wdAwi0gnvwBBog72Rcw3GAAGWIKdL3AfQbeCWAJrgIGayAVBXQLg3+A\n",
       "BYMsA+cnkOoNfF8ZQA58xMAw+dq03AAGzn4BoJ221z8ChdcxcAjAQxjMYlMAex4YLLAAAuJNDDMc\n",
       "gFIXkAIWJKzGYAYkZwGxNEwY5Hbf66CY2QjEjBgBznuAAQAt5DtyKXSr1gAAAABJRU5ErkJggg==\n",
       "\" style=\"display:inline;vertical-align:middle;\" /></a></td></tr>\n",
       "<tr><td>5</td><td>Literal</td><td></td><td><a class=\"ProveItLink\" href=\"../21fd2079611555ecce512d99547a00d551e6b86b0/expr.ipynb\"><img src=\"data:image/png;base64,iVBORw0KGgoAAAANSUhEUgAAAAMAAAADBAMAAACkBqiMAAAAElBMVEX///9EREQQEBAiIiLu7u4A\n",
       "AABGBidwAAAAAXRSTlMAQObYZgAAABFJREFUCNdjYHFgcDVgcBIAAASWAQx4jI0xAAAAAElFTkSu\n",
       "QmCC\n",
       "\" style=\"display:inline;vertical-align:middle;\" /></a></td></tr>\n",
       "<tr><td>6</td><td>ExprTuple</td><td>7, 8</td><td><a class=\"ProveItLink\" href=\"../81c1f0e42549bd49331b88f406479471fe7237450/expr.ipynb\"><img src=\"data:image/png;base64,iVBORw0KGgoAAAANSUhEUgAAADwAAAAVBAMAAADocZC/AAAAMFBMVEX////c3NwiIiJERESqqqqY\n",
       "mJh2dnZmZmYQEBDu7u4yMjJUVFTMzMyIiIi6uroAAAAs73DqAAAAAXRSTlMAQObYZgAAARRJREFU\n",
       "KM9jYCAA+C7gkmF9ACRO49ZZA8QrcUtzMTDwXsAtzZrAwDEBtzRnA8MrfM42YShD4ondFrkOsWta\n",
       "GQPjTwaGdIalSGYlsKpyKICZCe8ZeD8wMHgx9CGk2YBCLAdALB6HIgZmAwaGFwz/GBgYFymBwANO\n",
       "Bm4DqDkMvQz8QGvOg6QRgAPmS5afDOcPgKRbkKXlDzBA/Mm+gOEGA8hwU6RQELjPwDsBrICrgMEa\n",
       "SEUB3Q4H/gEWDLIMnJ9AujfwfWUAeewRQnrytWm5AQyc/QJAt9le/wgUWcfAIYARw2ARNgVwoAKD\n",
       "HT0igHgTwwwHoJILWCIUJK3GYAYkZwGxNLo0yO++10EpZSMQM+KMcN4DDABHDD2f0k+aGQAAAABJ\n",
       "RU5ErkJggg==\n",
       "\" style=\"display:inline;vertical-align:middle;\" /></a></td></tr>\n",
       "<tr><td>7</td><td>Operation</td><td>operator:&nbsp;9<br>operand:&nbsp;10<br></td><td><a class=\"ProveItLink\" href=\"../bc0d3a083efbdf58db6fee6fe0b6956df13fad870/expr.ipynb\"><img src=\"data:image/png;base64,iVBORw0KGgoAAAANSUhEUgAAABoAAAAJBAMAAADeJiHIAAAAMFBMVEX///9ERETMzMwQEBCYmJju\n",
       "7u5mZmaqqqpUVFSIiIh2dna6uroiIiIyMjLc3NwAAABBuwp8AAAAAXRSTlMAQObYZgAAAEpJREFU\n",
       "CNdjYIACvpV9lZkwDkMUg4+DDZy3gGE+QxHD2zMgcJohgKGRARlYInP4PjGwwjl+nB8YpsI47F8Y\n",
       "DfgmwHiskktXTWEAAJw3EmXq6rg8AAAAAElFTkSuQmCC\n",
       "\" style=\"display:inline;vertical-align:middle;\" /></a></td></tr>\n",
       "<tr><td>8</td><td>Variable</td><td></td><td><a class=\"ProveItLink\" href=\"../../../../__pv_it/f8b9edf8e16034727f0aad55bb83e392c3db40d40/expr.ipynb\"><img src=\"data:image/png;base64,iVBORw0KGgoAAAANSUhEUgAAAAsAAAANBAMAAACN24kIAAAAMFBMVEX///+YmJhUVFQyMjIQEBBE\n",
       "REQiIiKqqqrMzMyIiIi6urrc3NxmZmZ2dnbu7u4AAADXeCicAAAAAXRSTlMAQObYZgAAAFhJREFU\n",
       "CNdj4LtzgWH/AwZerg8M8xkY2nkSGEIZGB6wTGD4ycDAUP+A4weQOszA6QCkbBhYFYDUIYb1AkDq\n",
       "6czzGxhA4BoQMyXwuQMptgusF4AU+8xTQBIAUqMVoSp/SLMAAAAASUVORK5CYII=\n",
       "\" style=\"display:inline;vertical-align:middle;\" /></a></td></tr>\n",
       "<tr><td>9</td><td>Literal</td><td></td><td><a class=\"ProveItLink\" href=\"../../../negation/__pv_it/3fc7a08bb9735faa20ef8e175f6ea95511acc9c70/expr.ipynb\"><img src=\"data:image/png;base64,iVBORw0KGgoAAAANSUhEUgAAAA4AAAACBAMAAACapPCZAAAAElBMVEX///+6uroiIiIyMjLc3NwA\n",
       "AAA6l9OrAAAAAXRSTlMAQObYZgAAABBJREFUCNdjcFYCAUUGKAAADR4BD8/TF5gAAAAASUVORK5C\n",
       "YII=\n",
       "\" style=\"display:inline;vertical-align:middle;\" /></a></td></tr>\n",
       "<tr><td>10</td><td>Variable</td><td></td><td><a class=\"ProveItLink\" href=\"../../../../__pv_it/530be409e3083890784cf1d7b28c9e67e90af9360/expr.ipynb\"><img src=\"data:image/png;base64,iVBORw0KGgoAAAANSUhEUgAAAAsAAAAJBAMAAAAWSsseAAAAKlBMVEX///9ERETMzMwQEBAiIiKY\n",
       "mJju7u5mZmaqqqpUVFSIiIh2dnbc3NwAAAA/vyDhAAAAAXRSTlMAQObYZgAAAENJREFUCNdjYDi9\n",
       "8sTyBQxsG1hdmR0YuBm4LnAoMLAxcAowgADzAjB1VoEhgYH1wFoGrgSG3gBhhlMMDImrs3cFMAAA\n",
       "t0YN+iTRa+sAAAAASUVORK5CYII=\n",
       "\" style=\"display:inline;vertical-align:middle;\" /></a></td></tr>\n",
       "</table>\n"
      ],
      "text/plain": [
       "0. (-((-x) * y) , x * y)\n",
       "   core type: ExprTuple\n",
       "   sub-expressions: 1, 2\n",
       "1. -((-x) * y)\n",
       "   core type: Operation\n",
       "   operator: 9\n",
       "   operand: 3\n",
       "2. x * y\n",
       "   core type: Operation\n",
       "   operator: 5\n",
       "   operands: 4\n",
       "3. (-x) * y\n",
       "   core type: Operation\n",
       "   operator: 5\n",
       "   operands: 6\n",
       "4. (x , y)\n",
       "   core type: ExprTuple\n",
       "   sub-expressions: 10, 8\n",
       "5. *\n",
       "   core type: Literal\n",
       "   sub-expressions: \n",
       "6. (-x , y)\n",
       "   core type: ExprTuple\n",
       "   sub-expressions: 7, 8\n",
       "7. -x\n",
       "   core type: Operation\n",
       "   operator: 9\n",
       "   operand: 10\n",
       "8. y\n",
       "   core type: Variable\n",
       "   sub-expressions: \n",
       "9. -\n",
       "   core type: Literal\n",
       "   sub-expressions: \n",
       "10. x\n",
       "    core type: Variable\n",
       "    sub-expressions: "
      ]
     },
     "execution_count": 4,
     "metadata": {},
     "output_type": "execute_result"
    }
   ],
   "source": [
    "# display the expression information\n",
    "expr.exprInfo()"
   ]
  },
  {
   "cell_type": "code",
   "execution_count": null,
   "metadata": {},
   "outputs": [],
   "source": []
  }
 ],
 "metadata": {
  "kernelspec": {
   "display_name": "Python 3",
   "language": "python",
   "name": "python3"
  }
 },
 "nbformat": 4,
 "nbformat_minor": 0
}
