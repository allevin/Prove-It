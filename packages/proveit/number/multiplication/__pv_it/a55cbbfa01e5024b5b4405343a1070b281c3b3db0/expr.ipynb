{
 "cells": [
  {
   "cell_type": "markdown",
   "metadata": {},
   "source": [
    "Expression of type <a class=\"ProveItLink\" href=\"../../../../../../doc/html/api/proveit.ExprTuple.html\">ExprTuple</a>\n",
    "=======================\n",
    "# from context <a class=\"ProveItLink\" href=\"../../_context_.ipynb\">proveit.number.multiplication</a>"
   ]
  },
  {
   "cell_type": "code",
   "execution_count": 1,
   "metadata": {},
   "outputs": [],
   "source": [
    "# import Expression classes needed to build the expression\n",
    "from proveit import ExprTuple\n",
    "from proveit._common_ import AA\n",
    "from proveit.logic import InSet\n",
    "from proveit.number import Complexes"
   ]
  },
  {
   "cell_type": "code",
   "execution_count": 2,
   "metadata": {},
   "outputs": [
    {
     "data": {
      "text/html": [
       "<strong id=\"expr\">expr:</strong> <a class=\"ProveItLink\" href=\"expr.ipynb\"><img src=\"data:image/png;base64,iVBORw0KGgoAAAANSUhEUgAAAEcAAAAVBAMAAADm2O7QAAAAMFBMVEX////c3NwiIiJERESqqqqY\n",
       "mJh2dnZmZmYQEBDu7u4yMjJUVFTMzMyIiIi6uroAAAAs73DqAAAAAXRSTlMAQObYZgAAAWhJREFU\n",
       "KM9jYCAK8F2A0OcdsMvHgYjTUI5+Aro0r9b6JnMG9gNA5kqICNv/DWhqeN4/4My/zcCwAKgcZtt/\n",
       "BTRFAVsZGFh+MzCEMTBwTIAILfv/AcKYu0hJC0SzTmgAktUMDDMYGF5B7Vfo/wmxZClUFzsjyP65\n",
       "DAzMDgxlECH5A+v/gRnCUDUM0/mgPmErYFgKYZkz1H8FMwxhTjrGEgBhsCxg6AMzWBsY7n8HMTgN\n",
       "4Ir4oIr4Ghgglsx3YHj/GSzSpKQEcfhkHqh1PB+givZ3dPz/BBaBhxbXhA1wRS1ga3tmzpT/D7YO\n",
       "HlqsCSBFnGDrTEECM4DxxvRfAMTcCg9M07dA4tEEBtYFDOlAFuNmIMH8HxzDkx7AFHFvvsn52BIc\n",
       "BI+A3P//fzJw////HxSVjMsPwFQd1/+xD+S4BwwcAmhRxrIL4js4mAFyH6EEl4tIKjgBJzCpMEgT\n",
       "UMQNcg/jBfyK7jAwAAAVxF8ov4u5dQAAAABJRU5ErkJggg==\n",
       "\" style=\"display:inline;vertical-align:middle;\" /></a><br>"
      ],
      "text/plain": [
       "expr: (A in Complexes)"
      ]
     },
     "execution_count": 2,
     "metadata": {},
     "output_type": "execute_result"
    }
   ],
   "source": [
    "# build up the expression from sub-expressions\n",
    "expr = ExprTuple(InSet(AA, Complexes))"
   ]
  },
  {
   "cell_type": "code",
   "execution_count": 3,
   "metadata": {},
   "outputs": [
    {
     "name": "stdout",
     "output_type": "stream",
     "text": [
      "Passed sanity check: built 'expr' is the same as the stored Expression.\n"
     ]
    }
   ],
   "source": [
    "# check that the built expression is the same as the stored expression\n",
    "%check_expr"
   ]
  },
  {
   "cell_type": "code",
   "execution_count": 4,
   "metadata": {},
   "outputs": [
    {
     "data": {
      "text/html": [
       "<table><tr><th>&nbsp;</th><th>core type</th><th>sub-expressions</th><th>expression</th></tr>\n",
       "<tr><td>0</td><td>ExprTuple</td><td>1</td><td><a class=\"ProveItLink\" href=\"expr.ipynb\"><img src=\"data:image/png;base64,iVBORw0KGgoAAAANSUhEUgAAAEcAAAAVBAMAAADm2O7QAAAAMFBMVEX////c3NwiIiJERESqqqqY\n",
       "mJh2dnZmZmYQEBDu7u4yMjJUVFTMzMyIiIi6uroAAAAs73DqAAAAAXRSTlMAQObYZgAAAWhJREFU\n",
       "KM9jYCAK8F2A0OcdsMvHgYjTUI5+Aro0r9b6JnMG9gNA5kqICNv/DWhqeN4/4My/zcCwAKgcZtt/\n",
       "BTRFAVsZGFh+MzCEMTBwTIAILfv/AcKYu0hJC0SzTmgAktUMDDMYGF5B7Vfo/wmxZClUFzsjyP65\n",
       "DAzMDgxlECH5A+v/gRnCUDUM0/mgPmErYFgKYZkz1H8FMwxhTjrGEgBhsCxg6AMzWBsY7n8HMTgN\n",
       "4Ir4oIr4Ghgglsx3YHj/GSzSpKQEcfhkHqh1PB+givZ3dPz/BBaBhxbXhA1wRS1ga3tmzpT/D7YO\n",
       "HlqsCSBFnGDrTEECM4DxxvRfAMTcCg9M07dA4tEEBtYFDOlAFuNmIMH8HxzDkx7AFHFvvsn52BIc\n",
       "BI+A3P//fzJw////HxSVjMsPwFQd1/+xD+S4BwwcAmhRxrIL4js4mAFyH6EEl4tIKjgBJzCpMEgT\n",
       "UMQNcg/jBfyK7jAwAAAVxF8ov4u5dQAAAABJRU5ErkJggg==\n",
       "\" style=\"display:inline;vertical-align:middle;\" /></a></td></tr>\n",
       "<tr><td>1</td><td>Operation</td><td>operator:&nbsp;2<br>operands:&nbsp;3<br></td><td><a class=\"ProveItLink\" href=\"../ad57688ded373b74f083c2048cc4b6e0c3c068e70/expr.ipynb\"><img src=\"data:image/png;base64,iVBORw0KGgoAAAANSUhEUgAAADoAAAAQBAMAAAC1onFLAAAAMFBMVEX///+YmJhmZmZERES6urrc\n",
       "3Nzu7u4QEBCIiIgyMjJUVFR2dnYiIiKqqqrMzMwAAAD8et6HAAAAAXRSTlMAQObYZgAAAPVJREFU\n",
       "GNNjYAABvr8MeADPbwyhnpnfDytAmPt/oUs++cKQ/WMBxOD/f9AkGbkEGBjuQ2Q59/+HCLJ1njkz\n",
       "AcQQYwcSTBDZHvb/CWDGSzGoXoUokNoGEJP1H+d/BzDDDCrJpuANt4RZgem/AJgRABXh23ARLivO\n",
       "wPEf7PhkBrisI4zJ9peB5b8BiOV+5gzEVWwGr2GyXN/L6/8fALFewY2bxgVjXX+Wlvr/A4iVA5eV\n",
       "BssCPcJWC6TPfwWbIgB3qAjQNyzHGBiiQFbag6OB7Qhc8yqLhBTjBAb+/8CQWP///z+QWKQe3NU6\n",
       "/6sc0AP/1hxISEIBADyLRhnBvlRmAAAAAElFTkSuQmCC\n",
       "\" style=\"display:inline;vertical-align:middle;\" /></a></td></tr>\n",
       "<tr><td>2</td><td>Literal</td><td></td><td><a class=\"ProveItLink\" href=\"../../../../logic/set_theory/membership/__pv_it/088cbc857536a28d4119ad9639a84270ccb0545d0/expr.ipynb\"><img src=\"data:image/png;base64,iVBORw0KGgoAAAANSUhEUgAAAAwAAAAMBAMAAACkW0HUAAAALVBMVEX///+qqqpmZmZUVFQQEBC6\n",
       "urpERETc3NyYmJjMzMwiIiIyMjKIiIju7u4AAACYsrA9AAAAAXRSTlMAQObYZgAAADxJREFUCNdj\n",
       "YOA9vWrVBgaG2b0MQMCeCyIZ2ArA1DUwyRCyahVIyWQI7xaEYm4AU7xLIdxqTQgtvGvVBgCkcQ7e\n",
       "geM/tQAAAABJRU5ErkJggg==\n",
       "\" style=\"display:inline;vertical-align:middle;\" /></a></td></tr>\n",
       "<tr><td>3</td><td>ExprTuple</td><td>4, 5</td><td><a class=\"ProveItLink\" href=\"../e8f5a03c37acc51cd8f13acf0735c9b09a5eb0410/expr.ipynb\"><img src=\"data:image/png;base64,iVBORw0KGgoAAAANSUhEUgAAADYAAAAVBAMAAAD/UwB2AAAAMFBMVEX////c3NwiIiJERESqqqqY\n",
       "mJh2dnZmZmYQEBDu7u4yMjJUVFTMzMyIiIi6uroAAAAs73DqAAAAAXRSTlMAQObYZgAAATlJREFU\n",
       "KM9jYMAH+C6AKZ4vqMKsD4DEaQib6Rtc+NKqH8oFDDVA1kqIQP5vmNS5fwzT/m5g4GJg4IUa+f8T\n",
       "zDDuAAYG/w0MrAkMHBPAIlz5/6FykRxAgn0DA2cDwyuoHRz/IYoYCqSBBCfQNBOGMrAA4x+u/w/A\n",
       "LM6CZ1AD0hmWgmnmAvb/ARCLE1yhcl4MfWA6goH3fwFU7ilU7gXDP7BBXxj4/htAzDQ4BpU7D5Hj\n",
       "/tHR/18BIrSSGy7XAqI8Ts6c+P8DRCgMLDcBZKYpyByQAv2PYBEG5jig+/k0GRiigC5lYJAGWWX/\n",
       "hYETHDa7bSfMM54A8sMjBgb+/0B/7////w9nvwDIpUX/u0F+XcfAIYAcX0gcYJgBgxQp0pDYbBfg\n",
       "cYQhNwvkECT+BST2RlAwX8CaVHgPMAAA7/dWOMsqXlgAAAAASUVORK5CYII=\n",
       "\" style=\"display:inline;vertical-align:middle;\" /></a></td></tr>\n",
       "<tr><td>4</td><td>Variable</td><td></td><td><a class=\"ProveItLink\" href=\"../../../../__pv_it/eb438fefc4bd0ac977777d6dfd3e8a72dfbedbd50/expr.ipynb\"><img src=\"data:image/png;base64,iVBORw0KGgoAAAANSUhEUgAAABIAAAAPBAMAAAAbqIIhAAAAMFBMVEX///+YmJhmZmZERES6urrc\n",
       "3Nzu7u4QEBCIiIgyMjJUVFR2dnYiIiKqqqrMzMwAAAD8et6HAAAAAXRSTlMAQObYZgAAAGpJREFU\n",
       "CNdjYAABvr8MUMDzG8ba/wvK4Pv/B8ri3P8fyuph/58AZrD+4/zvAGYxKzD9FwCzxBk4/iuAGGx/\n",
       "GVj+G4BYXN/L6/8fALGuP0tL/f8BJFkLJM5/BRJRICX2QCfw/weauv7//38AzEYi08a6/oIAAAAA\n",
       "SUVORK5CYII=\n",
       "\" style=\"display:inline;vertical-align:middle;\" /></a></td></tr>\n",
       "<tr><td>5</td><td>Literal</td><td></td><td><a class=\"ProveItLink\" href=\"../../../sets/complex/__pv_it/c357845f93a5a2d9f649129d299e7ec28dda4b960/expr.ipynb\"><img src=\"data:image/png;base64,iVBORw0KGgoAAAANSUhEUgAAAA8AAAAOBAMAAAACpFvcAAAAMFBMVEX////c3NyqqqqYmJhUVFR2\n",
       "dnbu7u66urrMzMxmZmZEREQQEBAyMjIiIiKIiIgAAAB7fvZ0AAAAAXRSTlMAQObYZgAAAGVJREFU\n",
       "CNdjYGDgu3N+70oGBgaO+gK2+CdAhoEzAwPTFwYG5oQNQN4UBgZORgcgI4+BIZM9gAEMWpkMoAx2\n",
       "KCOLAyrFk+AAYTAHgBhsQLy4DkjUJjAwsHg9Y6taBpLsvP/bnYEBACkBFGQfBv8RAAAAAElFTkSu\n",
       "QmCC\n",
       "\" style=\"display:inline;vertical-align:middle;\" /></a></td></tr>\n",
       "</table>\n"
      ],
      "text/plain": [
       "0. (A in Complexes)\n",
       "   core type: ExprTuple\n",
       "   sub-expressions: 1\n",
       "1. A in Complexes\n",
       "   core type: Operation\n",
       "   operator: 2\n",
       "   operands: 3\n",
       "2. in\n",
       "   core type: Literal\n",
       "   sub-expressions: \n",
       "3. (A , Complexes)\n",
       "   core type: ExprTuple\n",
       "   sub-expressions: 4, 5\n",
       "4. A\n",
       "   core type: Variable\n",
       "   sub-expressions: \n",
       "5. Complexes\n",
       "   core type: Literal\n",
       "   sub-expressions: "
      ]
     },
     "execution_count": 4,
     "metadata": {},
     "output_type": "execute_result"
    }
   ],
   "source": [
    "# display the expression information\n",
    "expr.exprInfo()"
   ]
  },
  {
   "cell_type": "code",
   "execution_count": null,
   "metadata": {},
   "outputs": [],
   "source": []
  }
 ],
 "metadata": {
  "kernelspec": {
   "display_name": "Python 3",
   "language": "python",
   "name": "python3"
  }
 },
 "nbformat": 4,
 "nbformat_minor": 0
}
