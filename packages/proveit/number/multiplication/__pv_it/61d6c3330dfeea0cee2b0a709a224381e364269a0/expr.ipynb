{
 "cells": [
  {
   "cell_type": "markdown",
   "metadata": {},
   "source": [
    "Expression of type <a class=\"ProveItLink\" href=\"../../../../../../doc/html/api/proveit.Lambda.html\">Lambda</a>\n",
    "=======================\n",
    "# from context <a class=\"ProveItLink\" href=\"../../_context_.ipynb\">proveit.number.multiplication</a>"
   ]
  },
  {
   "cell_type": "code",
   "execution_count": 1,
   "metadata": {},
   "outputs": [],
   "source": [
    "# import Expression classes needed to build the expression\n",
    "from proveit import Lambda\n",
    "from proveit._common_ import a, b\n",
    "from proveit.logic import InSet\n",
    "from proveit.number import Integers, Mult"
   ]
  },
  {
   "cell_type": "code",
   "execution_count": 2,
   "metadata": {},
   "outputs": [
    {
     "data": {
      "text/html": [
       "<strong id=\"expr\">expr:</strong> <a class=\"ProveItLink\" href=\"expr.ipynb\"><img src=\"data:image/png;base64,iVBORw0KGgoAAAANSUhEUgAAANsAAAAVCAMAAAD4v2u2AAAANlBMVEX///8UFBQNDQ3c3NxmZmbM\n",
       "zMxERESYmJiIiIh2dna6urqqqqoyMjIiIiIQEBBUVFTu7u4AAABebULIAAAAAXRSTlMAQObYZgAA\n",
       "AoJJREFUWMPNmIly3CAMQGmNuc///9l66RokIS92MpOW2RllEu1DFxJEiP98+e3HtnIGy8XS7hGd\n",
       "UbfuG9aWnOJt5T1juWTKfZGWWGsMIcWQNKsOfVubSnBChHzbt1CwvFY8meGzngmy/NVSvDrO28pU\n",
       "ihPV33XNGCyvV2dq+1FPtj9bf/owqWPfVqZSnKvlrm+pYHl9LDuzJFSsJsRjjezkl96We5Fjderb\n",
       "ZCrlUZy9fdxcwPJ6AaYCod6D5qKiyuszq0++UVN5HsCFbEzWgj0f3s8ZH/KIkLEubdxx60wr+283\n",
       "xeZbG6H7/kB99g2besEDuFJfx66eDYpEJsNvB41lc0tVpk8Cph/RUuysKur16dEMH/okNpXnQZxv\n",
       "NZws71vJ4PvJIbnV1ra7XaXHATJdArtyK+8CbOLStW/EVJ4HcbIFqp6l8PtXRCvVAT9/fMvcMhZN\n",
       "j2qPC2TudZh9QmFunBQONMe9XvtGTGV5CBdla0Caz5vIgE18axVSeomUpDjmMJYf+OE843Zb+UZM\n",
       "ZXkI10aG7M2V+CZhSScP5VZNq5PDK3a6vZmgJrmGPGZRXNYkMZXjYVyLexppxE0WDWmloSxtqxyE\n",
       "ny5KkKnBMNOTLWMW2UTVZ9+wqQyP4PJhoRzZxTcOnJGzP7/lq136o07mmwdkgqZe4nTxPVpda+RF\n",
       "WrWcAcRUhkdwJRupb87uiOQx3YzblXHMXXkwA/jzFshl2CUVklIq1KTkpD7flYmplDfj7q9zTKf7\n",
       "jypyifI5kD75UX35xlnxHryv7K0LMLLNPNphUv/W++3Ruv3G6Xl4FtISxD/zbctYLld+9i+BWf3n\n",
       "fBObwXL14Nsf0Rl183Xf/gDQUR8OVxlJiAAAAABJRU5ErkJggg==\n",
       "\" style=\"display:inline;vertical-align:middle;\" /></a><br>"
      ],
      "text/plain": [
       "expr: b -> ((a * b) in Integers) | b in Integers"
      ]
     },
     "execution_count": 2,
     "metadata": {},
     "output_type": "execute_result"
    }
   ],
   "source": [
    "# build up the expression from sub-expressions\n",
    "expr = Lambda(b, InSet(Mult(a, b), Integers), conditions = [InSet(b, Integers)])"
   ]
  },
  {
   "cell_type": "code",
   "execution_count": 3,
   "metadata": {},
   "outputs": [
    {
     "name": "stdout",
     "output_type": "stream",
     "text": [
      "Passed sanity check: built 'expr' is the same as the stored Expression.\n"
     ]
    }
   ],
   "source": [
    "# check that the built expression is the same as the stored expression\n",
    "%check_expr"
   ]
  },
  {
   "cell_type": "code",
   "execution_count": 4,
   "metadata": {},
   "outputs": [
    {
     "data": {
      "text/html": [
       "<table><tr><th>&nbsp;</th><th>core type</th><th>sub-expressions</th><th>expression</th></tr>\n",
       "<tr><td>0</td><td>Lambda</td><td>parameter:&nbsp;12<br>body:&nbsp;1<br>conditions:&nbsp;2<br></td><td><a class=\"ProveItLink\" href=\"expr.ipynb\"><img src=\"data:image/png;base64,iVBORw0KGgoAAAANSUhEUgAAANsAAAAVCAMAAAD4v2u2AAAANlBMVEX///8UFBQNDQ3c3NxmZmbM\n",
       "zMxERESYmJiIiIh2dna6urqqqqoyMjIiIiIQEBBUVFTu7u4AAABebULIAAAAAXRSTlMAQObYZgAA\n",
       "AoJJREFUWMPNmIly3CAMQGmNuc///9l66RokIS92MpOW2RllEu1DFxJEiP98+e3HtnIGy8XS7hGd\n",
       "UbfuG9aWnOJt5T1juWTKfZGWWGsMIcWQNKsOfVubSnBChHzbt1CwvFY8meGzngmy/NVSvDrO28pU\n",
       "ihPV33XNGCyvV2dq+1FPtj9bf/owqWPfVqZSnKvlrm+pYHl9LDuzJFSsJsRjjezkl96We5Fjderb\n",
       "ZCrlUZy9fdxcwPJ6AaYCod6D5qKiyuszq0++UVN5HsCFbEzWgj0f3s8ZH/KIkLEubdxx60wr+283\n",
       "xeZbG6H7/kB99g2besEDuFJfx66eDYpEJsNvB41lc0tVpk8Cph/RUuysKur16dEMH/okNpXnQZxv\n",
       "NZws71vJ4PvJIbnV1ra7XaXHATJdArtyK+8CbOLStW/EVJ4HcbIFqp6l8PtXRCvVAT9/fMvcMhZN\n",
       "j2qPC2TudZh9QmFunBQONMe9XvtGTGV5CBdla0Caz5vIgE18axVSeomUpDjmMJYf+OE843Zb+UZM\n",
       "ZXkI10aG7M2V+CZhSScP5VZNq5PDK3a6vZmgJrmGPGZRXNYkMZXjYVyLexppxE0WDWmloSxtqxyE\n",
       "ny5KkKnBMNOTLWMW2UTVZ9+wqQyP4PJhoRzZxTcOnJGzP7/lq136o07mmwdkgqZe4nTxPVpda+RF\n",
       "WrWcAcRUhkdwJRupb87uiOQx3YzblXHMXXkwA/jzFshl2CUVklIq1KTkpD7flYmplDfj7q9zTKf7\n",
       "jypyifI5kD75UX35xlnxHryv7K0LMLLNPNphUv/W++3Ruv3G6Xl4FtISxD/zbctYLld+9i+BWf3n\n",
       "fBObwXL14Nsf0Rl183Xf/gDQUR8OVxlJiAAAAABJRU5ErkJggg==\n",
       "\" style=\"display:inline;vertical-align:middle;\" /></a></td></tr>\n",
       "<tr><td>1</td><td>Operation</td><td>operator:&nbsp;6<br>operands:&nbsp;3<br></td><td><a class=\"ProveItLink\" href=\"../04cc95ec77ffd8b0693411c5f0fa06ab58814c480/expr.ipynb\"><img src=\"data:image/png;base64,iVBORw0KGgoAAAANSUhEUgAAAFgAAAAVBAMAAAAwfTS1AAAAMFBMVEX////c3NwiIiJERESqqqqY\n",
       "mJh2dnZmZmYQEBDu7u4yMjJUVFTMzMyIiIi6uroAAAAs73DqAAAAAXRSTlMAQObYZgAAAZlJREFU\n",
       "KM+VU7FLAnEU/vSu00u7O2h0SFyCloxosOn+g1xqDIugKbkl10yjMY5aXMIjELOGXISQBKGxxT+g\n",
       "RBpCWpSioSV6T+88tHPo4N7v/T6+e+993+93wL8epfUX255GfhrfyvdRINAcB8Xlj5vcdRKoTHw8\n",
       "W6VgjWNzZROWQOvkFKpOYWscC6Qg6WkgaE6QewwUhvnlVWyJ15CJSJg6vk9q2OUgcHmES26lhEB5\n",
       "hhJfI308Qm9faoBkcDrvcmdamxRL9HY1oT9y4xNqE+JA4Yrb70KOUzyjwl8IcCpzIfEbwRSULO/j\n",
       "LvkhpFH8ofH78LMnxSgLt6AaCHMnJReLDQVCMd4wJKtxFPkUClzJb6CXHJJZv2M+O7+DE2ChhQ2Y\n",
       "rs1Hpj1GdETekzpAFGvUXkdddA6Y1J2S+IHAmsP1VelSSFnsU4+kuCg5eEgPVB3rzjs2KGgJyJk4\n",
       "Xtnm9mN7ZF3jkGcc0Hxlu193Pb96lzcQ1Lyuon3cYt12wzmalBf5YMp9rnhgsjWFHPHAQtoUss/j\n",
       "t3r2pv4CwB1bmJUBK6sAAAAASUVORK5CYII=\n",
       "\" style=\"display:inline;vertical-align:middle;\" /></a></td></tr>\n",
       "<tr><td>2</td><td>ExprTuple</td><td>4</td><td><a class=\"ProveItLink\" href=\"../95d3fa045c21175e569e9fe1b17ef7f6367b24c30/expr.ipynb\"><img src=\"data:image/png;base64,iVBORw0KGgoAAAANSUhEUgAAADwAAAAVBAMAAADocZC/AAAAMFBMVEX////c3NwiIiJERESqqqqY\n",
       "mJh2dnZmZmYQEBDu7u4yMjJUVFTMzMyIiIi6uroAAAAs73DqAAAAAXRSTlMAQObYZgAAAUlJREFU\n",
       "KM9jYCAA+C7gkmF9ACROM3DuUEAVZ9H/tKppRQBDDZC9koGBawOqNO/yCQwLmIHiQCbQbH4HVGn2\n",
       "BAY2hzyg6QkMHBMYGN5PgAjPXaSkBaK5JzBI8wBN5GxgeAXkJkFkeZZOgBtgyQximzCUAcnVd7eC\n",
       "hIQRsqwXQkFUOsNSoBmfGfgPADmGCNsncxqAKC+GPqA/fjJwJABVGSCk93ALgKgXDP+ADl3AwF8A\n",
       "DJ8mJSWI0xj4Cp6B6fMgaaYChvcBQJchfM/FsICBIREk3QL2dj3QVZyIsEthA4anAshwUwaQu9pA\n",
       "glthsowbTjMwsDUwMEQB3c7A7cAONnfSA6g0s4AlA2eZAchjj4Cm7i2FaFp+ACL9wqrZeH0z0LXr\n",
       "GDgEkGJqF9TlUAAMVGCw4wRsF8ARigvMAmJp3NIbQQ7CmZh4DzAAANzrSRlgH7E8AAAAAElFTkSu\n",
       "QmCC\n",
       "\" style=\"display:inline;vertical-align:middle;\" /></a></td></tr>\n",
       "<tr><td>3</td><td>ExprTuple</td><td>5, 10</td><td><a class=\"ProveItLink\" href=\"../bbacdc428a686368e23e7a8686126103eae7d72a0/expr.ipynb\"><img src=\"data:image/png;base64,iVBORw0KGgoAAAANSUhEUgAAAEYAAAAVBAMAAAAJGoXuAAAAMFBMVEX////c3NwiIiJERESqqqqY\n",
       "mJh2dnZmZmYQEBDu7u4yMjJUVFTMzMyIiIi6uroAAAAs73DqAAAAAXRSTlMAQObYZgAAAWlJREFU\n",
       "KM9jYCAG8F3AK836AEicRhXj3KEAYbDof1rVtCKAoQbIXommkWsDhOZdPoFhATOQD2SiW8XvAKHZ\n",
       "ExjYHPKAliUwcExAU/MeKsA9gUGaB2gmZwPDK3RHJiGYlswg9SYMZUCScW9eI1xi9d2tMC9dCAVR\n",
       "6QxLgeQLAeYPcH99ZuA/AGFO5jQAUV4MfUBjvjKwg3icIJNZfjJwJEDU7OEWAFEvGP4BXfeBgQnk\n",
       "u/mgkGFfwMBfAAncgmdg+jxIDb8Bw3yQ8TNAhjEVMLwPgAQUwwIGhkSQmhYGBvkLDP4MExDBUw9h\n",
       "p7ABo0EBZJcp0A4Hhl0sB2BqDjC0MXCCPLsBGEtsDQwMUUCfMXAFsKizwfzF7cC+AewyZgFLBs4y\n",
       "A5DfH4GC597he3C/7y0Fuuwj0AqrZuP1zUDnr2PgEMCWIh4iJYQGUJRhAQEIJtsFzLSBrmYWEEtj\n",
       "UcKLxN4I8iP+tMp7gAEAfRtUxE0ykkoAAAAASUVORK5CYII=\n",
       "\" style=\"display:inline;vertical-align:middle;\" /></a></td></tr>\n",
       "<tr><td>4</td><td>Operation</td><td>operator:&nbsp;6<br>operands:&nbsp;7<br></td><td><a class=\"ProveItLink\" href=\"../51c67a7d63d0ef51371e0f6bbf4607dc0d1bbaf10/expr.ipynb\"><img src=\"data:image/png;base64,iVBORw0KGgoAAAANSUhEUgAAADAAAAAPBAMAAABQAFHMAAAAMFBMVEX////c3NxmZmbMzMxERESY\n",
       "mJiIiIh2dna6urqqqqoyMjIiIiIQEBBUVFTu7u4AAAAiO1wTAAAAAXRSTlMAQObYZgAAAOJJREFU\n",
       "GNNj4LuzgQEFcO7/ver0mgAGBq4LqBJsix4wLGABMvgnoEowFTCwT6gAMvofQASerd69C0TzPmCQ\n",
       "ZQaZUg0RZ176AK7JjwXEXpt2FcQRQYizJoQCSb4vDPwGQNoRYcsTPgeQ6/4x8BQA5R0QEpd5BUCO\n",
       "WMDAr8DAwHF6926I5QwcCu0giluBoR/oG2aEb7gYFjAwFIK8oQ+0lw/h/0r2BgaGDSCbj4O4V2Hi\n",
       "jBdsGRjYDzDwTmACm/K6ASrBIuDHwKfuwMB3TRWicJEBRKLH64jL+iMKSKF6C+oqCAAAiJc438f0\n",
       "fH8AAAAASUVORK5CYII=\n",
       "\" style=\"display:inline;vertical-align:middle;\" /></a></td></tr>\n",
       "<tr><td>5</td><td>Operation</td><td>operator:&nbsp;8<br>operands:&nbsp;9<br></td><td><a class=\"ProveItLink\" href=\"../61ab107c1446ce5354a0cd8350774abf6bf94d9a0/expr.ipynb\"><img src=\"data:image/png;base64,iVBORw0KGgoAAAANSUhEUgAAACMAAAAOBAMAAABXxbiCAAAAMFBMVEX///8yMjKqqqrMzMzu7u4i\n",
       "IiJmZmaYmJhEREQQEBC6urp2dnaIiIhUVFTc3NwAAAD87Fq/AAAAAXRSTlMAQObYZgAAAJVJREFU\n",
       "GNNjYEAGLDcDGNAB4wUMIX4FDKH1DhhCW8Ek351d8+BCsmeuA8mVDzg+wG38wcBvwMD3nYGtAcR1\n",
       "AWKmLwycGxh4PzCwHgAp+Aok2AQY+BMY+BsY/A1AQjOABGsCw/oChvcHGPQZHBDOyndg8FdguMhk\n",
       "ABMyYJgN9EIBUxg3zEZeBbYLIGedsjgFd8SddAYGAJU/IJjbPt1cAAAAAElFTkSuQmCC\n",
       "\" style=\"display:inline;vertical-align:middle;\" /></a></td></tr>\n",
       "<tr><td>6</td><td>Literal</td><td></td><td><a class=\"ProveItLink\" href=\"../../../../logic/set_theory/membership/__pv_it/088cbc857536a28d4119ad9639a84270ccb0545d0/expr.ipynb\"><img src=\"data:image/png;base64,iVBORw0KGgoAAAANSUhEUgAAAAwAAAAMBAMAAACkW0HUAAAALVBMVEX///+qqqpmZmZUVFQQEBC6\n",
       "urpERETc3NyYmJjMzMwiIiIyMjKIiIju7u4AAACYsrA9AAAAAXRSTlMAQObYZgAAADxJREFUCNdj\n",
       "YOA9vWrVBgaG2b0MQMCeCyIZ2ArA1DUwyRCyahVIyWQI7xaEYm4AU7xLIdxqTQgtvGvVBgCkcQ7e\n",
       "geM/tQAAAABJRU5ErkJggg==\n",
       "\" style=\"display:inline;vertical-align:middle;\" /></a></td></tr>\n",
       "<tr><td>7</td><td>ExprTuple</td><td>12, 10</td><td><a class=\"ProveItLink\" href=\"../3284c4c0abf842a90cd48246d8a0360c78123df80/expr.ipynb\"><img src=\"data:image/png;base64,iVBORw0KGgoAAAANSUhEUgAAACwAAAAVBAMAAADP3xFXAAAAMFBMVEX////c3NwiIiJERESqqqqY\n",
       "mJh2dnZmZmYQEBDu7u4yMjJUVFTMzMyIiIi6uroAAAAs73DqAAAAAXRSTlMAQObYZgAAASZJREFU\n",
       "GNNjYMAB+C6gi7A+ABKnGTh3KED4LPqfVjWtCGCoAbJXMjBwbYAI8y6fwLCAGcgHMoFm8DtAhNkT\n",
       "GNgc8oCmJDBwTGBgeD8BIsw9gUGaB6iTs4HhFZCbhLDOkhmkxIShDEiuvrsV5ogLoSAqnWEpUM9n\n",
       "Bv4DEOHJnAYgyouhD+iunwwcCRDhPdwCIOoFwz+gAxYw8BdAvFbwDEyfBwkzFTC8DwBzuRgWMDAk\n",
       "goRbwM6uhzgxhQ3obwWQIaYMIPvaGDiBoowbTjMwsDUwMEQB3cLA7cC+gWE+UBGzgCUDZ5kByIGP\n",
       "gA7cW8rAMOMjUK9Vs/H6ZqDt6xg4BKA+eYjwKtDzrFAXMwQghNkugAMWXXgWEEtDwxopejaCXIUR\n",
       "abwHGABefEKB34/mbQAAAABJRU5ErkJggg==\n",
       "\" style=\"display:inline;vertical-align:middle;\" /></a></td></tr>\n",
       "<tr><td>8</td><td>Literal</td><td></td><td><a class=\"ProveItLink\" href=\"../21fd2079611555ecce512d99547a00d551e6b86b0/expr.ipynb\"><img src=\"data:image/png;base64,iVBORw0KGgoAAAANSUhEUgAAAAMAAAADBAMAAACkBqiMAAAAElBMVEX///9EREQQEBAiIiLu7u4A\n",
       "AABGBidwAAAAAXRSTlMAQObYZgAAABFJREFUCNdjYHFgcDVgcBIAAASWAQx4jI0xAAAAAElFTkSu\n",
       "QmCC\n",
       "\" style=\"display:inline;vertical-align:middle;\" /></a></td></tr>\n",
       "<tr><td>9</td><td>ExprTuple</td><td>11, 12</td><td><a class=\"ProveItLink\" href=\"../359d2ffcad0b096b85ece3bdabdf3ac9ad97321c0/expr.ipynb\"><img src=\"data:image/png;base64,iVBORw0KGgoAAAANSUhEUgAAACkAAAAVBAMAAAAp9toTAAAAMFBMVEX////c3NwiIiJERESqqqqY\n",
       "mJh2dnZmZmYQEBDu7u4yMjJUVFTMzMyIiIi6uroAAAAs73DqAAAAAXRSTlMAQObYZgAAAQxJREFU\n",
       "GNNtkSFPw1AQx3/burWlbJ1HgMPO4PsNqEKSBYOC1IAFEoIklXOtQRDMDAkhWdIEidkHgAVQBLOS\n",
       "ZQJDuGv3km7hiXv/+72Xe/+7B/+vzngF7Gt4rgD3YQvsTNRt9d7aUEIK7aUCfiBhD5y4SqeaDeBr\n",
       "6aUDDY2AU9lqo+OLkt693kMr4kb0Z7eRlx5m+BlWyrVcnWP3Cmr94PTpnPMLXk69dGKn+BHruVK/\n",
       "R5IVtB4xDZVewuaYXeKF3bNYK+xAEvBoZa7SjCtophxKm6G13SKREXiBPSycfajdydOEwbc4G53o\n",
       "MN5wuqavdyOk42bfJKERR9VJGurKJNlYJG1z6mnN2uoPvcAf68w9OrA141UAAAAASUVORK5CYII=\n",
       "\" style=\"display:inline;vertical-align:middle;\" /></a></td></tr>\n",
       "<tr><td>10</td><td>Literal</td><td></td><td><a class=\"ProveItLink\" href=\"../../../sets/integer/__pv_it/7b9e51516f347f625fa636d7bb440e96498977000/expr.ipynb\"><img src=\"data:image/png;base64,iVBORw0KGgoAAAANSUhEUgAAAA4AAAAOBAMAAADtZjDiAAAAMFBMVEX////MzMzc3NxUVFS6urp2\n",
       "dnZERETu7u5mZmaIiIiYmJgQEBAyMjIiIiKqqqoAAAAf68ZqAAAAAXRSTlMAQObYZgAAAGlJREFU\n",
       "CNdj4Lv/98ze0wsYOE8UMBxgY2DgCGBgfRDCwMBcwKDMaMAAAulsBSCKa8IqMLeMPQFMGzIrgCiW\n",
       "Blcwl4fhAANDEANDHKsDA8MFBiYDYQYG1g0MbArpDOytCQzeOdvSzm9rAAAm6xY1AUf+1AAAAABJ\n",
       "RU5ErkJggg==\n",
       "\" style=\"display:inline;vertical-align:middle;\" /></a></td></tr>\n",
       "<tr><td>11</td><td>Variable</td><td></td><td><a class=\"ProveItLink\" href=\"../../../../__pv_it/07527342713064c87612d00d8557c53d53d5324a0/expr.ipynb\"><img src=\"data:image/png;base64,iVBORw0KGgoAAAANSUhEUgAAAAsAAAAJBAMAAAAWSsseAAAAMFBMVEX///8yMjKqqqrMzMzu7u4i\n",
       "IiJmZmaYmJhEREQQEBC6urp2dnaIiIhUVFTc3NwAAAD87Fq/AAAAAXRSTlMAQObYZgAAAEhJREFU\n",
       "CNdjYOC7s2seAwPDygccHxgY+L4zsDUwMPB+YGA9wMDA38Dgb8DA8P4Agz6DA4O/AsNFJgMGxgKm\n",
       "MG6gyjunLE4xAAAZTBA5TB6DCwAAAABJRU5ErkJggg==\n",
       "\" style=\"display:inline;vertical-align:middle;\" /></a></td></tr>\n",
       "<tr><td>12</td><td>Variable</td><td></td><td><a class=\"ProveItLink\" href=\"../../../../__pv_it/6840a4fa6c106149dc16a131294d0c5e44f1b0480/expr.ipynb\"><img src=\"data:image/png;base64,iVBORw0KGgoAAAANSUhEUgAAAAkAAAAOBAMAAAAPuiubAAAALVBMVEX///9mZmbMzMxERESYmJiI\n",
       "iIh2dna6urqqqqoyMjIiIiIQEBBUVFTu7u4AAAD9S1JeAAAAAXRSTlMAQObYZgAAAE1JREFUCNdj\n",
       "4D29gAEIOA+ASL4GEFl3AURmgQiGOaFHGBh4HzPwKTBwvGXgTmBgnMDAJ8DAJcBQ5wBSLncBJLWN\n",
       "gYGngRFoBO9REQYGAGrcDtUkVqASAAAAAElFTkSuQmCC\n",
       "\" style=\"display:inline;vertical-align:middle;\" /></a></td></tr>\n",
       "</table>\n"
      ],
      "text/plain": [
       "0. b -> ((a * b) in Integers) | b in Integers\n",
       "   core type: Lambda\n",
       "   parameter: 12\n",
       "   body: 1\n",
       "   conditions: 2\\n1. (a * b) in Integers\n",
       "   core type: Operation\n",
       "   operator: 6\n",
       "   operands: 3\n",
       "2. (b in Integers)\n",
       "   core type: ExprTuple\n",
       "   sub-expressions: 4\n",
       "3. (a * b , Integers)\n",
       "   core type: ExprTuple\n",
       "   sub-expressions: 5, 10\n",
       "4. b in Integers\n",
       "   core type: Operation\n",
       "   operator: 6\n",
       "   operands: 7\n",
       "5. a * b\n",
       "   core type: Operation\n",
       "   operator: 8\n",
       "   operands: 9\n",
       "6. in\n",
       "   core type: Literal\n",
       "   sub-expressions: \n",
       "7. (b , Integers)\n",
       "   core type: ExprTuple\n",
       "   sub-expressions: 12, 10\n",
       "8. *\n",
       "   core type: Literal\n",
       "   sub-expressions: \n",
       "9. (a , b)\n",
       "   core type: ExprTuple\n",
       "   sub-expressions: 11, 12\n",
       "10. Integers\n",
       "    core type: Literal\n",
       "    sub-expressions: \n",
       "11. a\n",
       "    core type: Variable\n",
       "    sub-expressions: \n",
       "12. b\n",
       "    core type: Variable\n",
       "    sub-expressions: "
      ]
     },
     "execution_count": 4,
     "metadata": {},
     "output_type": "execute_result"
    }
   ],
   "source": [
    "# display the expression information\n",
    "expr.exprInfo()"
   ]
  },
  {
   "cell_type": "code",
   "execution_count": null,
   "metadata": {},
   "outputs": [],
   "source": []
  }
 ],
 "metadata": {
  "kernelspec": {
   "display_name": "Python 3",
   "language": "python",
   "name": "python3"
  }
 },
 "nbformat": 4,
 "nbformat_minor": 0
}
