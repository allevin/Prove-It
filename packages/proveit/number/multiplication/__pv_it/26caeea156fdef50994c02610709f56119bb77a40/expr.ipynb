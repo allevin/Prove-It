{
 "cells": [
  {
   "cell_type": "markdown",
   "metadata": {},
   "source": [
    "Expression of type <a class=\"ProveItLink\" href=\"../../../../../../doc/html/api/proveit.Lambda.html\">Lambda</a>\n",
    "=======================\n",
    "# from context <a class=\"ProveItLink\" href=\"../../_context_.ipynb\">proveit.number.multiplication</a>"
   ]
  },
  {
   "cell_type": "code",
   "execution_count": 1,
   "metadata": {},
   "outputs": [],
   "source": [
    "# import Expression classes needed to build the expression\n",
    "from proveit import Lambda\n",
    "from proveit._common_ import a, b\n",
    "from proveit.logic import InSet\n",
    "from proveit.number import Mult, Naturals"
   ]
  },
  {
   "cell_type": "code",
   "execution_count": 2,
   "metadata": {},
   "outputs": [
    {
     "data": {
      "text/html": [
       "<strong id=\"expr\">expr:</strong> <a class=\"ProveItLink\" href=\"expr.ipynb\"><img src=\"data:image/png;base64,iVBORw0KGgoAAAANSUhEUgAAAN0AAAAVCAMAAAD1oRvxAAAANlBMVEX///8UFBQNDQ3c3NxmZmbM\n",
       "zMxERESYmJiIiIh2dna6urqqqqoyMjIiIiIQEBBUVFTu7u4AAABebULIAAAAAXRSTlMAQObYZgAA\n",
       "Ao9JREFUWMPNmGuzoyAMhtlVLnLn///ZVUY0CbHgdOac5Us6rXnMGwKECvG/D7f82KuswXYwtH3J\n",
       "Zxw2+03AOcUw+6xM2A6Rqxy83BelfD6eDCU4zgGqG8ba8YTwaVZd9QP2+cGG9COk0kKq+qnwDnju\n",
       "hrFSnihuUpwx2D6PC6m3wZMpyJMXeQesbhgr5dmSJ9XFjO3z8ryQOeLKMT7sA0xQsnshJHlFQxyI\n",
       "ui7WDkh52+yysx7b5wGQCiZbek0Tk+S+iPNR6pFxoOporD2Q8nwyJmnBLhQHX7Vu2AqxJLPZuDDL\n",
       "7kJu6/31ovpJ39PsTF0qpzro0KnDsXJAwsvlWISl7VUkOQm4e42tqMJU6XcugHQgXYo5uo4iWq3Q\n",
       "pqlz/sOeiWPlgITnainHjVeX0w2IFtulHDJXdT3bMgGR9l5HWQle3ZHDJGNL2bM6EisHJLy15qq0\n",
       "evj7J6ARy0Vvn5pNddaCuRLbMgOR8p5aGxvUk2jysVROVbI8qyOxckDCC2vdizQ/d/seJJ7U1TLJ\n",
       "V53k2FIJkSBYtgeo0Qi5CTmhjsTKAQmvniDrtdMSdSuo7OiQXYqpxbLr4k67EwkrMzyqE9oJNa5M\n",
       "EisHJLya+6uUiTppcBsAba7vSl442j1BpIZVqB+jEdtyqtMfdhUSKwckvHR0d/cU4zYEzUrbq5s9\n",
       "9k63F0vXjkAk3OBz6DtiZdGa+nwikFg5IOHlZFY9d5oHbPfTzlipjO276Bvp4a+LJ12y9aWt1uwZ\n",
       "h66LJrFSIMObHu3cjvNXLtpYueTxnjlyGN2AhsD529c22RqD2MzLd3QO393v3ozpG9B933p72/Ti\n",
       "19QtCdvhSG//Nugdfk6dWAy2owuhfMlnHMwX6v4Bb/AgDHZLQ/kAAAAASUVORK5CYII=\n",
       "\" style=\"display:inline;vertical-align:middle;\" /></a><br>"
      ],
      "text/plain": [
       "expr: b -> ((a * b) in Naturals) | b in Naturals"
      ]
     },
     "execution_count": 2,
     "metadata": {},
     "output_type": "execute_result"
    }
   ],
   "source": [
    "# build up the expression from sub-expressions\n",
    "expr = Lambda(b, InSet(Mult(a, b), Naturals), conditions = [InSet(b, Naturals)])"
   ]
  },
  {
   "cell_type": "code",
   "execution_count": 3,
   "metadata": {},
   "outputs": [
    {
     "name": "stdout",
     "output_type": "stream",
     "text": [
      "Passed sanity check: built 'expr' is the same as the stored Expression.\n"
     ]
    }
   ],
   "source": [
    "# check that the built expression is the same as the stored expression\n",
    "%check_expr"
   ]
  },
  {
   "cell_type": "code",
   "execution_count": 4,
   "metadata": {},
   "outputs": [
    {
     "data": {
      "text/html": [
       "<table><tr><th>&nbsp;</th><th>core type</th><th>sub-expressions</th><th>expression</th></tr>\n",
       "<tr><td>0</td><td>Lambda</td><td>parameter:&nbsp;12<br>body:&nbsp;1<br>conditions:&nbsp;2<br></td><td><a class=\"ProveItLink\" href=\"expr.ipynb\"><img src=\"data:image/png;base64,iVBORw0KGgoAAAANSUhEUgAAAN0AAAAVCAMAAAD1oRvxAAAANlBMVEX///8UFBQNDQ3c3NxmZmbM\n",
       "zMxERESYmJiIiIh2dna6urqqqqoyMjIiIiIQEBBUVFTu7u4AAABebULIAAAAAXRSTlMAQObYZgAA\n",
       "Ao9JREFUWMPNmGuzoyAMhtlVLnLn///ZVUY0CbHgdOac5Us6rXnMGwKECvG/D7f82KuswXYwtH3J\n",
       "Zxw2+03AOcUw+6xM2A6Rqxy83BelfD6eDCU4zgGqG8ba8YTwaVZd9QP2+cGG9COk0kKq+qnwDnju\n",
       "hrFSnihuUpwx2D6PC6m3wZMpyJMXeQesbhgr5dmSJ9XFjO3z8ryQOeLKMT7sA0xQsnshJHlFQxyI\n",
       "ui7WDkh52+yysx7b5wGQCiZbek0Tk+S+iPNR6pFxoOporD2Q8nwyJmnBLhQHX7Vu2AqxJLPZuDDL\n",
       "7kJu6/31ovpJ39PsTF0qpzro0KnDsXJAwsvlWISl7VUkOQm4e42tqMJU6XcugHQgXYo5uo4iWq3Q\n",
       "pqlz/sOeiWPlgITnainHjVeX0w2IFtulHDJXdT3bMgGR9l5HWQle3ZHDJGNL2bM6EisHJLy15qq0\n",
       "evj7J6ARy0Vvn5pNddaCuRLbMgOR8p5aGxvUk2jysVROVbI8qyOxckDCC2vdizQ/d/seJJ7U1TLJ\n",
       "V53k2FIJkSBYtgeo0Qi5CTmhjsTKAQmvniDrtdMSdSuo7OiQXYqpxbLr4k67EwkrMzyqE9oJNa5M\n",
       "EisHJLya+6uUiTppcBsAba7vSl442j1BpIZVqB+jEdtyqtMfdhUSKwckvHR0d/cU4zYEzUrbq5s9\n",
       "9k63F0vXjkAk3OBz6DtiZdGa+nwikFg5IOHlZFY9d5oHbPfTzlipjO276Bvp4a+LJ12y9aWt1uwZ\n",
       "h66LJrFSIMObHu3cjvNXLtpYueTxnjlyGN2AhsD529c22RqD2MzLd3QO393v3ozpG9B933p72/Ti\n",
       "19QtCdvhSG//Nugdfk6dWAy2owuhfMlnHMwX6v4Bb/AgDHZLQ/kAAAAASUVORK5CYII=\n",
       "\" style=\"display:inline;vertical-align:middle;\" /></a></td></tr>\n",
       "<tr><td>1</td><td>Operation</td><td>operator:&nbsp;6<br>operands:&nbsp;3<br></td><td><a class=\"ProveItLink\" href=\"../b846d08eb970843830dcf2ceb83b571126d660cf0/expr.ipynb\"><img src=\"data:image/png;base64,iVBORw0KGgoAAAANSUhEUgAAAFkAAAAVBAMAAADfv1+LAAAAMFBMVEX////c3NwiIiJERESqqqqY\n",
       "mJh2dnZmZmYQEBDu7u4yMjJUVFTMzMyIiIi6uroAAAAs73DqAAAAAXRSTlMAQObYZgAAAZlJREFU\n",
       "KM+VkzFIw1AQhv/atGlMbTLroGRxky4ddJDsDnYSXKS6OClF0Em0ojhK0EW7tAgOwaUIgkgqhYKD\n",
       "XTKLLeJUurS0CLqI99IkbWMyGMhx739f7t67uwD/exLmX20tkK6NLoWHGYCvjIr53oKGna4K6J6v\n",
       "x0tkih4xFU8CHWDCexCJImDFI95V6kAOiGmejTYTLu1jvSqKleZJFyuMbnnvscFMWLX8l1VbNGqC\n",
       "zug98kPl7SOXvq3fA9Esc0PzjmhwZpXRN+Q35XDHrUkPUgWclT8suzQOIibRZxTiE3ySaVf0ct+I\n",
       "ZZDIsfUFBrSoGaT9AGIHY6wyQpcMX4SURdzK1VQU+5YGhFK+T0tJFFg7hGMyY1m00zZdG4qN5zjR\n",
       "J8C0iWVog3IfavZJzofpiEqnTQEFFY+c02u64iltWfnF9BCNdaI3qddpbjbq6KLKl5wKCnOOuti/\n",
       "ET5YuRvVhlvB8i4blndrMbnfF1tfFFcgOib7DabdeSxdKyMDFsn40VtB8637aEIxiJ7y0UQ5iA75\n",
       "/GlvAewvs1Zlz20YrEgAAAAASUVORK5CYII=\n",
       "\" style=\"display:inline;vertical-align:middle;\" /></a></td></tr>\n",
       "<tr><td>2</td><td>ExprTuple</td><td>4</td><td><a class=\"ProveItLink\" href=\"../a7cba983e19350f77b3f844ed40bf848016254350/expr.ipynb\"><img src=\"data:image/png;base64,iVBORw0KGgoAAAANSUhEUgAAAD0AAAAVBAMAAAAHs/uBAAAAMFBMVEX////c3NwiIiJERESqqqqY\n",
       "mJh2dnZmZmYQEBDu7u4yMjJUVFTMzMyIiIi6uroAAAAs73DqAAAAAXRSTlMAQObYZgAAAUxJREFU\n",
       "KM+FkrFLw1AQxr/axuQ1semsi+QPkC4ddJDsLp0EF6kuTkIQdBLtII4SdJFOQXAILkUQHFIJCA52\n",
       "ySwWxEm6tNhFF/EuL7G1EL3hvXffj7t3d+8B/1kpykTrvHQgbud/683hkoudd1sNyfGBYmsisGpU\n",
       "gAHgATOU3rQn+HXYBRrAKqC5QN+VsniyLI8Pd74eMj8HeuRuJmGPa8kh6Aifed7GHrlX3RtWc4tp\n",
       "/qAQ3TOfdnBJaYcwudJ8+YfjQImIFzyc0PoJrU7qGUZcdwPipQa+ANWD6ZD6ZllJfQFEq0ncGDCf\n",
       "ctCvxZMaxePBkPwobv+QOzwd54pdifNXwcUds6rXxjg2iCsetki31XjAYiHly4ir4v5eSW/vSnl2\n",
       "X+69D4oVxIsv0Mpjc1+5kPWnRvNV6n/8jW35vlnGV2Aum+t8dy77fz0D3y/hU4yDkm8PAAAAAElF\n",
       "TkSuQmCC\n",
       "\" style=\"display:inline;vertical-align:middle;\" /></a></td></tr>\n",
       "<tr><td>3</td><td>ExprTuple</td><td>5, 10</td><td><a class=\"ProveItLink\" href=\"../bb0150250fb90d1561890e075135c5c8c2126d4d0/expr.ipynb\"><img src=\"data:image/png;base64,iVBORw0KGgoAAAANSUhEUgAAAEcAAAAVBAMAAADm2O7QAAAAMFBMVEX////c3NwiIiJERESqqqqY\n",
       "mJh2dnZmZmYQEBDu7u4yMjJUVFTMzMyIiIi6uroAAAAs73DqAAAAAXRSTlMAQObYZgAAAWlJREFU\n",
       "KM+NkjFLw1AQx/9tk6avaZvuDrq5ZuniIPkGdnKU6uKkFEFHrSiOklG7NItDcSmCINJKoODSJR/A\n",
       "FnUSl8YWQRfxzrzUGoIayPG/yy/v7t0d8K+n4P3+fYVN72dMXM0Foj5esLE1sjSXnGbkz2xLilLO\n",
       "BHzAAfLRbIYlxYXbB2rAMpCxI9AwDNw0dZehE+A5WuhaKNo90WQoZWGH3ERnc38CnfcvJaR4XYbS\n",
       "VZyR+1RM+ZPbjWG4AYRd1SNIcXBMB71CMzl8Sq/yjkxFQrrdJqhQwweg+0jyHcWIjObAqEpItOoE\n",
       "5XyGDBMNziAOyCSrGJYlhNtcAB0Csx6WYH+3ac8OIdUyv9KVgIaFa8UNIRdHEBLCKkGqg3UaRFmZ\n",
       "T4e30y2thQbPbzGokFvwyG0adAeTFnS2qckv1OU3OkUQlL1Hphi3Hw9TmsaiVuKg8pTeiFmVKMQZ\n",
       "MRPD5Ke0zvUk/ljfO+ATQDJfoC7NHccAAAAASUVORK5CYII=\n",
       "\" style=\"display:inline;vertical-align:middle;\" /></a></td></tr>\n",
       "<tr><td>4</td><td>Operation</td><td>operator:&nbsp;6<br>operands:&nbsp;7<br></td><td><a class=\"ProveItLink\" href=\"../84b571b826355ca0e99ef28b2931c0a568576dec0/expr.ipynb\"><img src=\"data:image/png;base64,iVBORw0KGgoAAAANSUhEUgAAADEAAAAPBAMAAAC/wjryAAAAMFBMVEX////c3NxmZmbMzMxERESY\n",
       "mJiIiIh2dna6urqqqqoyMjIiIiIQEBBUVFTu7u4AAAAiO1wTAAAAAXRSTlMAQObYZgAAAOFJREFU\n",
       "GNNj4LuzgQEFvPri9YBB+/cEBgauC6gyDK7MDgwMH4AM/gloMrcN0hgYDgAZ/Q8gAnxZu3cvADFu\n",
       "rOM1AMtUQ5VaxUEZl2351oFl1qZdBfEZ/WCmXeZMMAHJ8H1h4DcA8lkE4DIMGqwJQBnOfww8BUD+\n",
       "EwaEDO+Dy0AZpgUM/ApAfs/u3VAXXGbgu/AKKMOtwNAfAOTbIulhMGc+APaOPsjdr5FlWCcAPQu0\n",
       "/jiIzxuAJMNQCJThncAEDh6+HTAZDwaw7Qx811QhAlLKELrrD1A93wLk8Jq7ejcyHwB5hj8sFLbi\n",
       "XAAAAABJRU5ErkJggg==\n",
       "\" style=\"display:inline;vertical-align:middle;\" /></a></td></tr>\n",
       "<tr><td>5</td><td>Operation</td><td>operator:&nbsp;8<br>operands:&nbsp;9<br></td><td><a class=\"ProveItLink\" href=\"../61ab107c1446ce5354a0cd8350774abf6bf94d9a0/expr.ipynb\"><img src=\"data:image/png;base64,iVBORw0KGgoAAAANSUhEUgAAACMAAAAOBAMAAABXxbiCAAAAMFBMVEX///8yMjKqqqrMzMzu7u4i\n",
       "IiJmZmaYmJhEREQQEBC6urp2dnaIiIhUVFTc3NwAAAD87Fq/AAAAAXRSTlMAQObYZgAAAJVJREFU\n",
       "GNNjYEAGLDcDGNAB4wUMIX4FDKH1DhhCW8Ek351d8+BCsmeuA8mVDzg+wG38wcBvwMD3nYGtAcR1\n",
       "AWKmLwycGxh4PzCwHgAp+Aok2AQY+BMY+BsY/A1AQjOABGsCw/oChvcHGPQZHBDOyndg8FdguMhk\n",
       "ABMyYJgN9EIBUxg3zEZeBbYLIGedsjgFd8SddAYGAJU/IJjbPt1cAAAAAElFTkSuQmCC\n",
       "\" style=\"display:inline;vertical-align:middle;\" /></a></td></tr>\n",
       "<tr><td>6</td><td>Literal</td><td></td><td><a class=\"ProveItLink\" href=\"../../../../logic/set_theory/membership/__pv_it/088cbc857536a28d4119ad9639a84270ccb0545d0/expr.ipynb\"><img src=\"data:image/png;base64,iVBORw0KGgoAAAANSUhEUgAAAAwAAAAMBAMAAACkW0HUAAAALVBMVEX///+qqqpmZmZUVFQQEBC6\n",
       "urpERETc3NyYmJjMzMwiIiIyMjKIiIju7u4AAACYsrA9AAAAAXRSTlMAQObYZgAAADxJREFUCNdj\n",
       "YOA9vWrVBgaG2b0MQMCeCyIZ2ArA1DUwyRCyahVIyWQI7xaEYm4AU7xLIdxqTQgtvGvVBgCkcQ7e\n",
       "geM/tQAAAABJRU5ErkJggg==\n",
       "\" style=\"display:inline;vertical-align:middle;\" /></a></td></tr>\n",
       "<tr><td>7</td><td>ExprTuple</td><td>12, 10</td><td><a class=\"ProveItLink\" href=\"../5257f48b5571ac3af0a4b4971ebe0c45ebdc20030/expr.ipynb\"><img src=\"data:image/png;base64,iVBORw0KGgoAAAANSUhEUgAAAC0AAAAVBAMAAAAgHXppAAAAMFBMVEX////c3NwiIiJERESqqqqY\n",
       "mJh2dnZmZmYQEBDu7u4yMjJUVFTMzMyIiIi6uroAAAAs73DqAAAAAXRSTlMAQObYZgAAAR1JREFU\n",
       "GNN10b1Kw1AUwPG/2pjcJm3cXXyELl0cJI/QyVGqi5MQBB21gzhKRuliFofgEgTBoUpAcOmSB7BQ\n",
       "HV1a7aKLeG5yC8Fihss9Py7nK/Df18wXaEcfQ9T9Rhn3Z5sRh5+BnUmQQD01D9teC6YQQ0PS+IHx\n",
       "22wEPdgGJ4JJZPwxcTPtl/Au4d684GCoEu0rAccS3ozujNfyJ+2rIdegZvhZ6ZxYuXgt5kLOb5yu\n",
       "cTcaiDd7/IAd44fGVdoX96bal0MmHeM8e6WfFe2fRnO3glaRp40ueo4yzq64FbMPbmCnXOkdbVFU\n",
       "032+SZ8PRzLih8z4JW+VeH2Ms2Zmfa0sWvZgdc29U/GDcs9/Xadivbw3Ks9dnXtp8T++wC9gnk1d\n",
       "CXGchwAAAABJRU5ErkJggg==\n",
       "\" style=\"display:inline;vertical-align:middle;\" /></a></td></tr>\n",
       "<tr><td>8</td><td>Literal</td><td></td><td><a class=\"ProveItLink\" href=\"../21fd2079611555ecce512d99547a00d551e6b86b0/expr.ipynb\"><img src=\"data:image/png;base64,iVBORw0KGgoAAAANSUhEUgAAAAMAAAADBAMAAACkBqiMAAAAElBMVEX///9EREQQEBAiIiLu7u4A\n",
       "AABGBidwAAAAAXRSTlMAQObYZgAAABFJREFUCNdjYHFgcDVgcBIAAASWAQx4jI0xAAAAAElFTkSu\n",
       "QmCC\n",
       "\" style=\"display:inline;vertical-align:middle;\" /></a></td></tr>\n",
       "<tr><td>9</td><td>ExprTuple</td><td>11, 12</td><td><a class=\"ProveItLink\" href=\"../359d2ffcad0b096b85ece3bdabdf3ac9ad97321c0/expr.ipynb\"><img src=\"data:image/png;base64,iVBORw0KGgoAAAANSUhEUgAAACkAAAAVBAMAAAAp9toTAAAAMFBMVEX////c3NwiIiJERESqqqqY\n",
       "mJh2dnZmZmYQEBDu7u4yMjJUVFTMzMyIiIi6uroAAAAs73DqAAAAAXRSTlMAQObYZgAAAQxJREFU\n",
       "GNNtkSFPw1AQx3/burWlbJ1HgMPO4PsNqEKSBYOC1IAFEoIklXOtQRDMDAkhWdIEidkHgAVQBLOS\n",
       "ZQJDuGv3km7hiXv/+72Xe/+7B/+vzngF7Gt4rgD3YQvsTNRt9d7aUEIK7aUCfiBhD5y4SqeaDeBr\n",
       "6aUDDY2AU9lqo+OLkt693kMr4kb0Z7eRlx5m+BlWyrVcnWP3Cmr94PTpnPMLXk69dGKn+BHruVK/\n",
       "R5IVtB4xDZVewuaYXeKF3bNYK+xAEvBoZa7SjCtophxKm6G13SKREXiBPSycfajdydOEwbc4G53o\n",
       "MN5wuqavdyOk42bfJKERR9VJGurKJNlYJG1z6mnN2uoPvcAf68w9OrA141UAAAAASUVORK5CYII=\n",
       "\" style=\"display:inline;vertical-align:middle;\" /></a></td></tr>\n",
       "<tr><td>10</td><td>Literal</td><td></td><td><a class=\"ProveItLink\" href=\"../../../sets/integer/__pv_it/e5d9bd86b06b357eee742ad868997123619e09700/expr.ipynb\"><img src=\"data:image/png;base64,iVBORw0KGgoAAAANSUhEUgAAAA8AAAAOBAMAAAACpFvcAAAAMFBMVEX////c3Nx2dna6uroQEBCI\n",
       "iIhUVFTMzMyYmJiqqqoiIiJmZmZEREQyMjLu7u4AAADjlg78AAAAAXRSTlMAQObYZgAAAGBJREFU\n",
       "CNdjePvn7AOGXb8mMDCcYD/AwPCBgYEhqyCUgcEByEi+x1YAZqSX8d2DMDgDaiAMhs0cARAG24N0\n",
       "CIMv4S2EwVDEDmVwTDgAYTAoghiHgZj7AgOD7Rcgj+8CAwA9oh2B0HK+MAAAAABJRU5ErkJggg==\n",
       "\" style=\"display:inline;vertical-align:middle;\" /></a></td></tr>\n",
       "<tr><td>11</td><td>Variable</td><td></td><td><a class=\"ProveItLink\" href=\"../../../../__pv_it/07527342713064c87612d00d8557c53d53d5324a0/expr.ipynb\"><img src=\"data:image/png;base64,iVBORw0KGgoAAAANSUhEUgAAAAsAAAAJBAMAAAAWSsseAAAAMFBMVEX///8yMjKqqqrMzMzu7u4i\n",
       "IiJmZmaYmJhEREQQEBC6urp2dnaIiIhUVFTc3NwAAAD87Fq/AAAAAXRSTlMAQObYZgAAAEhJREFU\n",
       "CNdjYOC7s2seAwPDygccHxgY+L4zsDUwMPB+YGA9wMDA38Dgb8DA8P4Agz6DA4O/AsNFJgMGxgKm\n",
       "MG6gyjunLE4xAAAZTBA5TB6DCwAAAABJRU5ErkJggg==\n",
       "\" style=\"display:inline;vertical-align:middle;\" /></a></td></tr>\n",
       "<tr><td>12</td><td>Variable</td><td></td><td><a class=\"ProveItLink\" href=\"../../../../__pv_it/6840a4fa6c106149dc16a131294d0c5e44f1b0480/expr.ipynb\"><img src=\"data:image/png;base64,iVBORw0KGgoAAAANSUhEUgAAAAkAAAAOBAMAAAAPuiubAAAALVBMVEX///9mZmbMzMxERESYmJiI\n",
       "iIh2dna6urqqqqoyMjIiIiIQEBBUVFTu7u4AAAD9S1JeAAAAAXRSTlMAQObYZgAAAE1JREFUCNdj\n",
       "4D29gAEIOA+ASL4GEFl3AURmgQiGOaFHGBh4HzPwKTBwvGXgTmBgnMDAJ8DAJcBQ5wBSLncBJLWN\n",
       "gYGngRFoBO9REQYGAGrcDtUkVqASAAAAAElFTkSuQmCC\n",
       "\" style=\"display:inline;vertical-align:middle;\" /></a></td></tr>\n",
       "</table>\n"
      ],
      "text/plain": [
       "0. b -> ((a * b) in Naturals) | b in Naturals\n",
       "   core type: Lambda\n",
       "   parameter: 12\n",
       "   body: 1\n",
       "   conditions: 2\\n1. (a * b) in Naturals\n",
       "   core type: Operation\n",
       "   operator: 6\n",
       "   operands: 3\n",
       "2. (b in Naturals)\n",
       "   core type: ExprTuple\n",
       "   sub-expressions: 4\n",
       "3. (a * b , Naturals)\n",
       "   core type: ExprTuple\n",
       "   sub-expressions: 5, 10\n",
       "4. b in Naturals\n",
       "   core type: Operation\n",
       "   operator: 6\n",
       "   operands: 7\n",
       "5. a * b\n",
       "   core type: Operation\n",
       "   operator: 8\n",
       "   operands: 9\n",
       "6. in\n",
       "   core type: Literal\n",
       "   sub-expressions: \n",
       "7. (b , Naturals)\n",
       "   core type: ExprTuple\n",
       "   sub-expressions: 12, 10\n",
       "8. *\n",
       "   core type: Literal\n",
       "   sub-expressions: \n",
       "9. (a , b)\n",
       "   core type: ExprTuple\n",
       "   sub-expressions: 11, 12\n",
       "10. Naturals\n",
       "    core type: Literal\n",
       "    sub-expressions: \n",
       "11. a\n",
       "    core type: Variable\n",
       "    sub-expressions: \n",
       "12. b\n",
       "    core type: Variable\n",
       "    sub-expressions: "
      ]
     },
     "execution_count": 4,
     "metadata": {},
     "output_type": "execute_result"
    }
   ],
   "source": [
    "# display the expression information\n",
    "expr.exprInfo()"
   ]
  },
  {
   "cell_type": "code",
   "execution_count": null,
   "metadata": {},
   "outputs": [],
   "source": []
  }
 ],
 "metadata": {
  "kernelspec": {
   "display_name": "Python 3",
   "language": "python",
   "name": "python3"
  }
 },
 "nbformat": 4,
 "nbformat_minor": 0
}
