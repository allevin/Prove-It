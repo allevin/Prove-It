{
 "cells": [
  {
   "cell_type": "markdown",
   "metadata": {},
   "source": [
    "Expression of type <a class=\"ProveItLink\" href=\"../../../../../../doc/html/api/proveit.Lambda.html\">Lambda</a>\n",
    "=======================\n",
    "# from context <a class=\"ProveItLink\" href=\"../../_context_.ipynb\">proveit.number.multiplication</a>"
   ]
  },
  {
   "cell_type": "code",
   "execution_count": 1,
   "metadata": {},
   "outputs": [],
   "source": [
    "# import Expression classes needed to build the expression\n",
    "from proveit import Lambda\n",
    "from proveit._common_ import a, b\n",
    "from proveit.logic import InSet\n",
    "from proveit.number import Mult, RealsPos"
   ]
  },
  {
   "cell_type": "code",
   "execution_count": 2,
   "metadata": {},
   "outputs": [
    {
     "data": {
      "text/html": [
       "<strong id=\"expr\">expr:</strong> <a class=\"ProveItLink\" href=\"expr.ipynb\"><img src=\"data:image/png;base64,iVBORw0KGgoAAAANSUhEUgAAAPoAAAAbCAMAAABiKmIoAAAANlBMVEX///8UFBQNDQ3c3NxmZmbM\n",
       "zMxERESYmJiIiIh2dna6urqqqqoyMjIiIiIQEBBUVFTu7u4AAABebULIAAAAAXRSTlMAQObYZgAA\n",
       "AsxJREFUWMPtWMmW2yAQJGGHZvv/n40kDwgQIBiPPT6Ek59tFVW9FLQQ+sClPxNfqddLZ/GDfDH+\n",
       "0qIOvVH6i3b7lnQP/p3SkRCNcsW/It3xVPhi6gGunqNmrjql+inp3lkz+wy2k6V4ghI6Dg0ExgKA\n",
       "BdGULtxI+j33G3yY7ihC0jN3hZ9A4TYFePsrZRr2BDuAnee2HlR98MOs33Mf4odps7dq0IPlSqBc\n",
       "3lLbA8o8Zq1eNHwo/Z77CF+FWeuiIcXg7pET1NuiEwSYbcGFmqSoKZ2wkfQL9zV8Od3qIqpQd1Wc\n",
       "g7IsMRS4b2elJ52HkfSa+yI+OCFO5y5F6aKeXPyRxCLGTkhlcavVE6gkp00y3ytI1yn4a03m0kvu\n",
       "q/g+7J9CNOIqjC7HYsm6vnY7VLPQcPgMVJ/RZLjXi8pwSD+6osnowOFL7qv4+girlW3p3mVoQEq7\n",
       "w4EX3ehTnHJQlZrds7YN2b07O36Fg+pLr7iv4pMjKSGq+vvHFMtmW5v4p6/v3JFvI1IOTAv0NEdl\n",
       "I2plQ4og1jFOf/HwTHrFfRX/0KMCb2cdOYW60o9y86nevGUt0FN68x50FCRRvTvSMOsV91X8I6ok\n",
       "mUklneDW/cHqBytxFN0megSaFbzpnrvgBe9IH/R6xX0V/4BO7VJJp8XVxcWsMn7W4mb7mo5AOTRG\n",
       "gJralhRH2xcEPJBecl/Fdxt/clZDeU0r0yliXL7Oq93o9VZ01/taDpodbt6o3uEjddOfx+d6xX0V\n",
       "3ztB+ORrikhDmXiqC0WZUI3x5QSF7GcM1TjzGC/Y9iUwaN1KJQzHl4r7Ov7sSn1n52fm8iKLtIPS\n",
       "ge/GILE2tK7iT4/rcnImyZmKZ3b0l1b/gXn9W6+nzPTQer7XeWpHztBnSD9HETw747vnXicZ+inS\n",
       "ccohnqtjQZ9LOmlA/o50pOVbI83QBy2u37gZ8ej/esH6B4ZDIgQxgyOKAAAAAElFTkSuQmCC\n",
       "\" style=\"display:inline;vertical-align:middle;\" /></a><br>"
      ],
      "text/plain": [
       "expr: b -> ((a * b) in RealsPos) | b in RealsPos"
      ]
     },
     "execution_count": 2,
     "metadata": {},
     "output_type": "execute_result"
    }
   ],
   "source": [
    "# build up the expression from sub-expressions\n",
    "expr = Lambda(b, InSet(Mult(a, b), RealsPos), conditions = [InSet(b, RealsPos)])"
   ]
  },
  {
   "cell_type": "code",
   "execution_count": 3,
   "metadata": {},
   "outputs": [
    {
     "name": "stdout",
     "output_type": "stream",
     "text": [
      "Passed sanity check: built 'expr' is the same as the stored Expression.\n"
     ]
    }
   ],
   "source": [
    "# check that the built expression is the same as the stored expression\n",
    "%check_expr"
   ]
  },
  {
   "cell_type": "code",
   "execution_count": 4,
   "metadata": {},
   "outputs": [
    {
     "data": {
      "text/html": [
       "<table><tr><th>&nbsp;</th><th>core type</th><th>sub-expressions</th><th>expression</th></tr>\n",
       "<tr><td>0</td><td>Lambda</td><td>parameter:&nbsp;12<br>body:&nbsp;1<br>conditions:&nbsp;2<br></td><td><a class=\"ProveItLink\" href=\"expr.ipynb\"><img src=\"data:image/png;base64,iVBORw0KGgoAAAANSUhEUgAAAPoAAAAbCAMAAABiKmIoAAAANlBMVEX///8UFBQNDQ3c3NxmZmbM\n",
       "zMxERESYmJiIiIh2dna6urqqqqoyMjIiIiIQEBBUVFTu7u4AAABebULIAAAAAXRSTlMAQObYZgAA\n",
       "AsxJREFUWMPtWMmW2yAQJGGHZvv/n40kDwgQIBiPPT6Ek59tFVW9FLQQ+sClPxNfqddLZ/GDfDH+\n",
       "0qIOvVH6i3b7lnQP/p3SkRCNcsW/It3xVPhi6gGunqNmrjql+inp3lkz+wy2k6V4ghI6Dg0ExgKA\n",
       "BdGULtxI+j33G3yY7ihC0jN3hZ9A4TYFePsrZRr2BDuAnee2HlR98MOs33Mf4odps7dq0IPlSqBc\n",
       "3lLbA8o8Zq1eNHwo/Z77CF+FWeuiIcXg7pET1NuiEwSYbcGFmqSoKZ2wkfQL9zV8Od3qIqpQd1Wc\n",
       "g7IsMRS4b2elJ52HkfSa+yI+OCFO5y5F6aKeXPyRxCLGTkhlcavVE6gkp00y3ytI1yn4a03m0kvu\n",
       "q/g+7J9CNOIqjC7HYsm6vnY7VLPQcPgMVJ/RZLjXi8pwSD+6osnowOFL7qv4+girlW3p3mVoQEq7\n",
       "w4EX3ehTnHJQlZrds7YN2b07O36Fg+pLr7iv4pMjKSGq+vvHFMtmW5v4p6/v3JFvI1IOTAv0NEdl\n",
       "I2plQ4og1jFOf/HwTHrFfRX/0KMCb2cdOYW60o9y86nevGUt0FN68x50FCRRvTvSMOsV91X8I6ok\n",
       "mUklneDW/cHqBytxFN0megSaFbzpnrvgBe9IH/R6xX0V/4BO7VJJp8XVxcWsMn7W4mb7mo5AOTRG\n",
       "gJralhRH2xcEPJBecl/Fdxt/clZDeU0r0yliXL7Oq93o9VZ01/taDpodbt6o3uEjddOfx+d6xX0V\n",
       "3ztB+ORrikhDmXiqC0WZUI3x5QSF7GcM1TjzGC/Y9iUwaN1KJQzHl4r7Ov7sSn1n52fm8iKLtIPS\n",
       "ge/GILE2tK7iT4/rcnImyZmKZ3b0l1b/gXn9W6+nzPTQer7XeWpHztBnSD9HETw747vnXicZ+inS\n",
       "ccohnqtjQZ9LOmlA/o50pOVbI83QBy2u37gZ8ej/esH6B4ZDIgQxgyOKAAAAAElFTkSuQmCC\n",
       "\" style=\"display:inline;vertical-align:middle;\" /></a></td></tr>\n",
       "<tr><td>1</td><td>Operation</td><td>operator:&nbsp;6<br>operands:&nbsp;3<br></td><td><a class=\"ProveItLink\" href=\"../50a443cf4b3f071ff9ee9183ab763a72c6b98c440/expr.ipynb\"><img src=\"data:image/png;base64,iVBORw0KGgoAAAANSUhEUgAAAGYAAAAYBAMAAAD62ZXgAAAAMFBMVEX////c3NwiIiJERESqqqqY\n",
       "mJh2dnZmZmYQEBDu7u4yMjJUVFTMzMyIiIi6uroAAAAs73DqAAAAAXRSTlMAQObYZgAAAZ1JREFU\n",
       "OMtjYCARODCQDgzoqYfvAqZEHAE9p1HFOHcoMDCwH0AVZF1v/GvFWoSelWgGcW0AEgvQBJkZN/CY\n",
       "LGTgXrWqa9VaBl50p/GDQjMMQ08Bg6UwzB6OCWjS70ECM6AOvaWktACmJ4cZpucVuieTwGogUXcq\n",
       "EskehJ4yIGbcm9cI17P67lYGBrYCEJPREtltO+FuWwrELwSYP8DD7TMD/wEGFoiLBJD08KkuBLFA\n",
       "IdQHNO4rAzs4CGcCMctPBo4EBr4GEH8yUhg0KS2B8/4xMHB/YGAChR7nJyDBvoCBv4CBB2zvCyUl\n",
       "eBjUFVgi6+E3YJgPikTOZiDBVMDwPgCq5zRyWNcheC0MDPIXGPwZJiCip34C1G2TkPVwzQ2A8UwZ\n",
       "GOY7MOxigaUWYAC0ARML2EXcAUh6eDbsgfHSgaklgEWdDcbndmDfAAtrTj3ksE6BB+MjUPTcO3wP\n",
       "HtZ7S0GJ7gGYI1UDT6OfD3BZfYGq4RDAluKhaYfBe5HSAkxZ1gRsenLxZ7yVWMQ4F+DXI41FjFsA\n",
       "vx5GLHn7Dl4dAHh0YYpl/nsgAAAAAElFTkSuQmCC\n",
       "\" style=\"display:inline;vertical-align:middle;\" /></a></td></tr>\n",
       "<tr><td>2</td><td>ExprTuple</td><td>4</td><td><a class=\"ProveItLink\" href=\"../c5576a54e3033061cfc4d5d284c717bf20a908250/expr.ipynb\"><img src=\"data:image/png;base64,iVBORw0KGgoAAAANSUhEUgAAAEwAAAAbBAMAAAAkMnRXAAAAMFBMVEX///+qqqp2dnYiIiJERESI\n",
       "iIhmZmYQEBDc3NyYmJgyMjLu7u5UVFTMzMy6uroAAACGxKilAAAAAXRSTlMAQObYZgAAAXVJREFU\n",
       "OMtjYMALGBHMd3iUsYAIBRDBe4CQsjsgYtcGQspYA4DESQZCyhgsGBg4Chi4jxugSs764r+qKgCh\n",
       "LIaBgS2BgYEL3XkOPQxXpBoYTq1avmoVUPn+DQzsDxgY+AXQlbUxsOxwgJvGPIHhPpB6D/UFd5Sx\n",
       "8QKoMqYLCGVsDgzhQEoZasit2QjTkJVxfmA4BaTWhIK9y+GNZCkPkqV8vxl8gHZ9YeC/ABJrQFL2\n",
       "eBaIxwPm8v5lWAaMuN8M7KAI2YLwQruxFZK3OP4xmAFduICBHxgsDM+NjeFeeMaCFDncH0HKmBMY\n",
       "3k+AxR3UUra3B1BMWwMOtnyQ3s3I4bY6EknZX4YjDCD3F4F4PBOQlN3huQBXxveDIRgoLcAGtoHb\n",
       "DkkZk4AHXBkw3N4DpY9mQrhdufCo92VYsh7uV6YFkBCDAZnFEJ+iAa4ABh4FBoJgfwMDrwFhZVOA\n",
       "2JGwMluQuwmq4gRFESNBx7WAyYmElGUzEAsAoORekp91IGIAAAAASUVORK5CYII=\n",
       "\" style=\"display:inline;vertical-align:middle;\" /></a></td></tr>\n",
       "<tr><td>3</td><td>ExprTuple</td><td>5, 10</td><td><a class=\"ProveItLink\" href=\"../84b5b216d45c689a5e1e097d8115c299f7bf4bb30/expr.ipynb\"><img src=\"data:image/png;base64,iVBORw0KGgoAAAANSUhEUgAAAFYAAAAbBAMAAAAUvmV2AAAAMFBMVEX///+qqqp2dnYiIiJERESI\n",
       "iIhmZmYQEBDc3NyYmJgyMjLu7u5UVFTMzMy6uroAAACGxKilAAAAAXRSTlMAQObYZgAAAaJJREFU\n",
       "OMuVkj1Iw1AQx//pR/qR1GZ2MeAuBaGIINTNQTEgIoKUruKgiIM4ZRAFEazg1KmDKMSC2RQd0sEi\n",
       "7ZShY0FBUBdtxQ6VUvG9Nh9tWmg8ePcul9+73PtfgOHG2OHnMNZHnUhdJO+KrVB3p7pi/RJxRbhi\n",
       "MQUEt3pfcI+xTpCpLyp7ks2uAWzKUSVs9p84RnlURkm5VBRyRlMReHawUcFkD+C7TVh1vWk8Obur\n",
       "qjbr0W2WTWDFyY5jMBuqoUS2YGFi12Jzy0WL5bt6GGlinmxvsq9m6VBHVDfZl4xMAr79GGnhgpT9\n",
       "oc0Qu6fDbyIgdtjDyWnB7i34izg5V4OXCsl90ytkEU0ZdV99XTPlvigbTUCjn+V2qDQpVNMGy37k\n",
       "e+rmgBMJY1BteTdVs9+r1S62hQcyEQElRjdZHdvgDLbC6xY70sASmWqaiXvMFC+weWgxQ19hzmKJ\n",
       "vlUqb7KctK5QWAduGu1/ZwHn15YSnqwppsPe+1NhCbw4iE33pzQZkZhL9oys2QGof0BuhqwjuLIQ\n",
       "HSYjumL32/7UFbuBf9kfmplpTw+tk0IAAAAASUVORK5CYII=\n",
       "\" style=\"display:inline;vertical-align:middle;\" /></a></td></tr>\n",
       "<tr><td>4</td><td>Operation</td><td>operator:&nbsp;6<br>operands:&nbsp;7<br></td><td><a class=\"ProveItLink\" href=\"../7521f4f97c6ef2081d6f82aff8d9ea0348b747480/expr.ipynb\"><img src=\"data:image/png;base64,iVBORw0KGgoAAAANSUhEUgAAAD0AAAAUBAMAAADM7ygkAAAAMFBMVEX////c3NxmZmbMzMxERESY\n",
       "mJiIiIh2dna6urqqqqoyMjIiIiIQEBBUVFTu7u4AAAAiO1wTAAAAAXRSTlMAQObYZgAAAOJJREFU\n",
       "KM9jYMANOBnwAxZ6yPPd2YAqGvXFf9WpBIR+rgto2hxkGUxmCTDcWrVm1SqgOv4J6PJCDCwPHeD6\n",
       "+x9AhPmydu9eAJVnN0DIV0O1WcUh9CPLr027CqIY/ZDM50WYz/eFgd8AxBFAku+OAvF4wYH8j4Gn\n",
       "AEg/QbhPZvcuhJuZFjDwKwDpnt274e5rYnkAl+dWYOgPANK2SP5jakaECdD7+iDVr5H9vy4VIW/A\n",
       "cBxE8wYgydvyGsB4vBOYwIbx7UCSZ5/gCOPxXVOFMKSU4fHjzLBk/QSM6Jy7GuJ+FAAABAc52c61\n",
       "fXcAAAAASUVORK5CYII=\n",
       "\" style=\"display:inline;vertical-align:middle;\" /></a></td></tr>\n",
       "<tr><td>5</td><td>Operation</td><td>operator:&nbsp;8<br>operands:&nbsp;9<br></td><td><a class=\"ProveItLink\" href=\"../61ab107c1446ce5354a0cd8350774abf6bf94d9a0/expr.ipynb\"><img src=\"data:image/png;base64,iVBORw0KGgoAAAANSUhEUgAAACMAAAAOBAMAAABXxbiCAAAAMFBMVEX///8yMjKqqqrMzMzu7u4i\n",
       "IiJmZmaYmJhEREQQEBC6urp2dnaIiIhUVFTc3NwAAAD87Fq/AAAAAXRSTlMAQObYZgAAAJVJREFU\n",
       "GNNjYEAGLDcDGNAB4wUMIX4FDKH1DhhCW8Ek351d8+BCsmeuA8mVDzg+wG38wcBvwMD3nYGtAcR1\n",
       "AWKmLwycGxh4PzCwHgAp+Aok2AQY+BMY+BsY/A1AQjOABGsCw/oChvcHGPQZHBDOyndg8FdguMhk\n",
       "ABMyYJgN9EIBUxg3zEZeBbYLIGedsjgFd8SddAYGAJU/IJjbPt1cAAAAAElFTkSuQmCC\n",
       "\" style=\"display:inline;vertical-align:middle;\" /></a></td></tr>\n",
       "<tr><td>6</td><td>Literal</td><td></td><td><a class=\"ProveItLink\" href=\"../../../../logic/set_theory/membership/__pv_it/088cbc857536a28d4119ad9639a84270ccb0545d0/expr.ipynb\"><img src=\"data:image/png;base64,iVBORw0KGgoAAAANSUhEUgAAAAwAAAAMBAMAAACkW0HUAAAALVBMVEX///+qqqpmZmZUVFQQEBC6\n",
       "urpERETc3NyYmJjMzMwiIiIyMjKIiIju7u4AAACYsrA9AAAAAXRSTlMAQObYZgAAADxJREFUCNdj\n",
       "YOA9vWrVBgaG2b0MQMCeCyIZ2ArA1DUwyRCyahVIyWQI7xaEYm4AU7xLIdxqTQgtvGvVBgCkcQ7e\n",
       "geM/tQAAAABJRU5ErkJggg==\n",
       "\" style=\"display:inline;vertical-align:middle;\" /></a></td></tr>\n",
       "<tr><td>7</td><td>ExprTuple</td><td>12, 10</td><td><a class=\"ProveItLink\" href=\"../8ced00cc01aa546feeafc75711629977835f405e0/expr.ipynb\"><img src=\"data:image/png;base64,iVBORw0KGgoAAAANSUhEUgAAADwAAAAbBAMAAADSe/HPAAAAMFBMVEX///+qqqp2dnYiIiJERESI\n",
       "iIhmZmYQEBDc3NyYmJgyMjLu7u5UVFTMzMy6uroAAACGxKilAAAAAXRSTlMAQObYZgAAAVhJREFU\n",
       "KM9jYMAKGBHMd1ikWUCEAojgPYBL+g6I2LUBlzRrAJA4yYBLmsGCgYGjgIH7uAFEcNYX/1VVAQjp\n",
       "GAYGtgQGBi6Y9Q49DFekGhhOrVq+ahVQ2f4NDOwPGBj4BWDSbQwsOxzgupknMNwHUu83IKSZLiCk\n",
       "2RwYwoGUMgN2ac4PDKeA1JrQk3BpHiTD+X4z+DAwcH9h4L8Ak348qwHI4AFzef8yLAMG8G8GdgWI\n",
       "dLuxlQDC9xz/GMyALljAwJ8A1f2MBSkQuT+CpJkTGN5PgEqzvT2AonsN2Nv5G2B2r45Ekv7LcIQB\n",
       "5K4iBm6o9B2eC3Bpvh8MwUBnCrAdYNhvAPW3gAdcGujv90AXHM1kYNj+AxwlvgxL1sPdzrQA5mMG\n",
       "hheY0coVwMCjAGVPwJTe38DAa4BbegoQO0KYrFjSjC0QdzHgApygoGRUwCXdAiYn4pLOZiAEADlR\n",
       "V40Zh1fhAAAAAElFTkSuQmCC\n",
       "\" style=\"display:inline;vertical-align:middle;\" /></a></td></tr>\n",
       "<tr><td>8</td><td>Literal</td><td></td><td><a class=\"ProveItLink\" href=\"../21fd2079611555ecce512d99547a00d551e6b86b0/expr.ipynb\"><img src=\"data:image/png;base64,iVBORw0KGgoAAAANSUhEUgAAAAMAAAADBAMAAACkBqiMAAAAElBMVEX///9EREQQEBAiIiLu7u4A\n",
       "AABGBidwAAAAAXRSTlMAQObYZgAAABFJREFUCNdjYHFgcDVgcBIAAASWAQx4jI0xAAAAAElFTkSu\n",
       "QmCC\n",
       "\" style=\"display:inline;vertical-align:middle;\" /></a></td></tr>\n",
       "<tr><td>9</td><td>ExprTuple</td><td>11, 12</td><td><a class=\"ProveItLink\" href=\"../359d2ffcad0b096b85ece3bdabdf3ac9ad97321c0/expr.ipynb\"><img src=\"data:image/png;base64,iVBORw0KGgoAAAANSUhEUgAAACkAAAAVBAMAAAAp9toTAAAAMFBMVEX////c3NwiIiJERESqqqqY\n",
       "mJh2dnZmZmYQEBDu7u4yMjJUVFTMzMyIiIi6uroAAAAs73DqAAAAAXRSTlMAQObYZgAAAQxJREFU\n",
       "GNNtkSFPw1AQx3/burWlbJ1HgMPO4PsNqEKSBYOC1IAFEoIklXOtQRDMDAkhWdIEidkHgAVQBLOS\n",
       "ZQJDuGv3km7hiXv/+72Xe/+7B/+vzngF7Gt4rgD3YQvsTNRt9d7aUEIK7aUCfiBhD5y4SqeaDeBr\n",
       "6aUDDY2AU9lqo+OLkt693kMr4kb0Z7eRlx5m+BlWyrVcnWP3Cmr94PTpnPMLXk69dGKn+BHruVK/\n",
       "R5IVtB4xDZVewuaYXeKF3bNYK+xAEvBoZa7SjCtophxKm6G13SKREXiBPSycfajdydOEwbc4G53o\n",
       "MN5wuqavdyOk42bfJKERR9VJGurKJNlYJG1z6mnN2uoPvcAf68w9OrA141UAAAAASUVORK5CYII=\n",
       "\" style=\"display:inline;vertical-align:middle;\" /></a></td></tr>\n",
       "<tr><td>10</td><td>Literal</td><td></td><td><a class=\"ProveItLink\" href=\"../../../sets/real/__pv_it/399ccec6a6e90df280e82734a8711cdb89199bc00/expr.ipynb\"><img src=\"data:image/png;base64,iVBORw0KGgoAAAANSUhEUgAAABsAAAATBAMAAACTqWsLAAAAMFBMVEX///8iIiK6urp2dnbu7u5m\n",
       "ZmaqqqrMzMxUVFTc3NyIiIgQEBBEREQyMjKYmJgAAAA9nvXMAAAAAXRSTlMAQObYZgAAAGxJREFU\n",
       "GNNjYIADNgYUwEMy9+2f83f3LkDIHpjBUJM7gaH37u27d4HCB6Yy8HgeQMhOZWAuwMflQFWs+HYC\n",
       "kMEB4c4WlE1A2H5gqiqPAzKXVb0BmctwZR0Kt4KjAJnLnHASxgN64TjDnftQswFmaSyXIBgH2QAA\n",
       "AABJRU5ErkJggg==\n",
       "\" style=\"display:inline;vertical-align:middle;\" /></a></td></tr>\n",
       "<tr><td>11</td><td>Variable</td><td></td><td><a class=\"ProveItLink\" href=\"../../../../__pv_it/07527342713064c87612d00d8557c53d53d5324a0/expr.ipynb\"><img src=\"data:image/png;base64,iVBORw0KGgoAAAANSUhEUgAAAAsAAAAJBAMAAAAWSsseAAAAMFBMVEX///8yMjKqqqrMzMzu7u4i\n",
       "IiJmZmaYmJhEREQQEBC6urp2dnaIiIhUVFTc3NwAAAD87Fq/AAAAAXRSTlMAQObYZgAAAEhJREFU\n",
       "CNdjYOC7s2seAwPDygccHxgY+L4zsDUwMPB+YGA9wMDA38Dgb8DA8P4Agz6DA4O/AsNFJgMGxgKm\n",
       "MG6gyjunLE4xAAAZTBA5TB6DCwAAAABJRU5ErkJggg==\n",
       "\" style=\"display:inline;vertical-align:middle;\" /></a></td></tr>\n",
       "<tr><td>12</td><td>Variable</td><td></td><td><a class=\"ProveItLink\" href=\"../../../../__pv_it/6840a4fa6c106149dc16a131294d0c5e44f1b0480/expr.ipynb\"><img src=\"data:image/png;base64,iVBORw0KGgoAAAANSUhEUgAAAAkAAAAOBAMAAAAPuiubAAAALVBMVEX///9mZmbMzMxERESYmJiI\n",
       "iIh2dna6urqqqqoyMjIiIiIQEBBUVFTu7u4AAAD9S1JeAAAAAXRSTlMAQObYZgAAAE1JREFUCNdj\n",
       "4D29gAEIOA+ASL4GEFl3AURmgQiGOaFHGBh4HzPwKTBwvGXgTmBgnMDAJ8DAJcBQ5wBSLncBJLWN\n",
       "gYGngRFoBO9REQYGAGrcDtUkVqASAAAAAElFTkSuQmCC\n",
       "\" style=\"display:inline;vertical-align:middle;\" /></a></td></tr>\n",
       "</table>\n"
      ],
      "text/plain": [
       "0. b -> ((a * b) in RealsPos) | b in RealsPos\n",
       "   core type: Lambda\n",
       "   parameter: 12\n",
       "   body: 1\n",
       "   conditions: 2\\n1. (a * b) in RealsPos\n",
       "   core type: Operation\n",
       "   operator: 6\n",
       "   operands: 3\n",
       "2. (b in RealsPos)\n",
       "   core type: ExprTuple\n",
       "   sub-expressions: 4\n",
       "3. (a * b , RealsPos)\n",
       "   core type: ExprTuple\n",
       "   sub-expressions: 5, 10\n",
       "4. b in RealsPos\n",
       "   core type: Operation\n",
       "   operator: 6\n",
       "   operands: 7\n",
       "5. a * b\n",
       "   core type: Operation\n",
       "   operator: 8\n",
       "   operands: 9\n",
       "6. in\n",
       "   core type: Literal\n",
       "   sub-expressions: \n",
       "7. (b , RealsPos)\n",
       "   core type: ExprTuple\n",
       "   sub-expressions: 12, 10\n",
       "8. *\n",
       "   core type: Literal\n",
       "   sub-expressions: \n",
       "9. (a , b)\n",
       "   core type: ExprTuple\n",
       "   sub-expressions: 11, 12\n",
       "10. RealsPos\n",
       "    core type: Literal\n",
       "    sub-expressions: \n",
       "11. a\n",
       "    core type: Variable\n",
       "    sub-expressions: \n",
       "12. b\n",
       "    core type: Variable\n",
       "    sub-expressions: "
      ]
     },
     "execution_count": 4,
     "metadata": {},
     "output_type": "execute_result"
    }
   ],
   "source": [
    "# display the expression information\n",
    "expr.exprInfo()"
   ]
  },
  {
   "cell_type": "code",
   "execution_count": null,
   "metadata": {},
   "outputs": [],
   "source": []
  }
 ],
 "metadata": {
  "kernelspec": {
   "display_name": "Python 3",
   "language": "python",
   "name": "python3"
  }
 },
 "nbformat": 4,
 "nbformat_minor": 0
}
