{
 "cells": [
  {
   "cell_type": "markdown",
   "metadata": {},
   "source": [
    "Expression of type <a class=\"ProveItLink\" href=\"../../../../../../doc/html/api/proveit.ExprTuple.html\">ExprTuple</a>\n",
    "=======================\n",
    "# from context <a class=\"ProveItLink\" href=\"../../_context_.ipynb\">proveit.number.multiplication</a>"
   ]
  },
  {
   "cell_type": "code",
   "execution_count": 1,
   "metadata": {},
   "outputs": [],
   "source": [
    "# import Expression classes needed to build the expression\n",
    "from proveit import ExprTuple\n",
    "from proveit._common_ import a\n",
    "from proveit.logic import InSet\n",
    "from proveit.number import Integers"
   ]
  },
  {
   "cell_type": "code",
   "execution_count": 2,
   "metadata": {},
   "outputs": [
    {
     "data": {
      "text/html": [
       "<strong id=\"expr\">expr:</strong> <a class=\"ProveItLink\" href=\"expr.ipynb\"><img src=\"data:image/png;base64,iVBORw0KGgoAAAANSUhEUgAAAD4AAAAVBAMAAADshECCAAAAMFBMVEX////c3NwiIiJERESqqqqY\n",
       "mJh2dnZmZmYQEBDu7u4yMjJUVFTMzMyIiIi6uroAAAAs73DqAAAAAXRSTlMAQObYZgAAAUJJREFU\n",
       "KM9jYCAE+C7glGJ9ACROY5Fg0f+0qmlFAEMNkL0Sizzv8gkMC5gZGLiATGzGsycwsDnkAS1IYOCY\n",
       "gCQ+d5GSFojmnsAgzbOBgYGzgeEVkjTPUoRiS2YQ24ShDEgy7s1rBIkJI6RZL4SCqHSGpUDyhQDz\n",
       "BxDPEGHUZE4DEOXF0AfU/pWBHcSDCEHAHm4BEPWC4R/QNR8YmEC+4GtSUoK4j4Gv4BmYPg+S5zdg\n",
       "mH8A5LwNcO1cDAsYGBJB8i0MDPIXGPwZgE7jVIDLp7ABg1YBZL4pA8N8B4ZdLCADtsKkGTcAQ52t\n",
       "gYEhCugDBq4AFnU2kPCkB1B5ZgFLBs4yA5D/HoG8f+/wPbC25Qcg8i+smo3XNxcwMKxj4BBAjrdd\n",
       "UPdDATB8gVGAG7BdwB6/MDALiKXxyG8EOQp3+uI9wAAALKVIPUYJG/MAAAAASUVORK5CYII=\n",
       "\" style=\"display:inline;vertical-align:middle;\" /></a><br>"
      ],
      "text/plain": [
       "expr: (a in Integers)"
      ]
     },
     "execution_count": 2,
     "metadata": {},
     "output_type": "execute_result"
    }
   ],
   "source": [
    "# build up the expression from sub-expressions\n",
    "expr = ExprTuple(InSet(a, Integers))"
   ]
  },
  {
   "cell_type": "code",
   "execution_count": 3,
   "metadata": {},
   "outputs": [
    {
     "name": "stdout",
     "output_type": "stream",
     "text": [
      "Passed sanity check: built 'expr' is the same as the stored Expression.\n"
     ]
    }
   ],
   "source": [
    "# check that the built expression is the same as the stored expression\n",
    "%check_expr"
   ]
  },
  {
   "cell_type": "code",
   "execution_count": 4,
   "metadata": {},
   "outputs": [
    {
     "data": {
      "text/html": [
       "<table><tr><th>&nbsp;</th><th>core type</th><th>sub-expressions</th><th>expression</th></tr>\n",
       "<tr><td>0</td><td>ExprTuple</td><td>1</td><td><a class=\"ProveItLink\" href=\"expr.ipynb\"><img src=\"data:image/png;base64,iVBORw0KGgoAAAANSUhEUgAAAD4AAAAVBAMAAADshECCAAAAMFBMVEX////c3NwiIiJERESqqqqY\n",
       "mJh2dnZmZmYQEBDu7u4yMjJUVFTMzMyIiIi6uroAAAAs73DqAAAAAXRSTlMAQObYZgAAAUJJREFU\n",
       "KM9jYCAE+C7glGJ9ACROY5Fg0f+0qmlFAEMNkL0Sizzv8gkMC5gZGLiATGzGsycwsDnkAS1IYOCY\n",
       "gCQ+d5GSFojmnsAgzbOBgYGzgeEVkjTPUoRiS2YQ24ShDEgy7s1rBIkJI6RZL4SCqHSGpUDyhQDz\n",
       "BxDPEGHUZE4DEOXF0AfU/pWBHcSDCEHAHm4BEPWC4R/QNR8YmEC+4GtSUoK4j4Gv4BmYPg+S5zdg\n",
       "mH8A5LwNcO1cDAsYGBJB8i0MDPIXGPwZgE7jVIDLp7ABg1YBZL4pA8N8B4ZdLCADtsKkGTcAQ52t\n",
       "gYEhCugDBq4AFnU2kPCkB1B5ZgFLBs4yA5D/HoG8f+/wPbC25Qcg8i+smo3XNxcwMKxj4BBAjrdd\n",
       "UPdDATB8gVGAG7BdwB6/MDALiKXxyG8EOQp3+uI9wAAALKVIPUYJG/MAAAAASUVORK5CYII=\n",
       "\" style=\"display:inline;vertical-align:middle;\" /></a></td></tr>\n",
       "<tr><td>1</td><td>Operation</td><td>operator:&nbsp;2<br>operands:&nbsp;3<br></td><td><a class=\"ProveItLink\" href=\"../e52c7680f4f53012348eb0170b3bcb1877ce6f460/expr.ipynb\"><img src=\"data:image/png;base64,iVBORw0KGgoAAAANSUhEUgAAADIAAAAPBAMAAABU9YHxAAAAMFBMVEX///8yMjKqqqrMzMzu7u4i\n",
       "IiJmZmaYmJhEREQQEBC6urp2dnaIiIhUVFTc3NwAAAD87Fq/AAAAAXRSTlMAQObYZgAAANpJREFU\n",
       "GNNjYMAATPFfBadKFmBKMPCIOTAIcGCRYGDbwMCtsAtZxEc0NBBE8zowvGW+gCTBLO4AZ7dwgNh8\n",
       "d3bNA/FeICTYD5SDqJUPOD6A6D6Edg+WBpCW7wxsIBrMgYLLvA9A9n1gYD0ApLmmhoZCXMDAlbAa\n",
       "RPE3MPgbgByAcA0jgwADwz6G9wcY9BmAlrMEwGU2cS9gYAhg8FdguMgE0nQdJsF3wZaBgXsCA2MB\n",
       "Uxg3SMB1AVSG40ELA0t2A9A7pyxOgZWKGUBkVjbO6JCfkYAcxhehboMAAOemMLNTwnkhAAAAAElF\n",
       "TkSuQmCC\n",
       "\" style=\"display:inline;vertical-align:middle;\" /></a></td></tr>\n",
       "<tr><td>2</td><td>Literal</td><td></td><td><a class=\"ProveItLink\" href=\"../../../../logic/set_theory/membership/__pv_it/088cbc857536a28d4119ad9639a84270ccb0545d0/expr.ipynb\"><img src=\"data:image/png;base64,iVBORw0KGgoAAAANSUhEUgAAAAwAAAAMBAMAAACkW0HUAAAALVBMVEX///+qqqpmZmZUVFQQEBC6\n",
       "urpERETc3NyYmJjMzMwiIiIyMjKIiIju7u4AAACYsrA9AAAAAXRSTlMAQObYZgAAADxJREFUCNdj\n",
       "YOA9vWrVBgaG2b0MQMCeCyIZ2ArA1DUwyRCyahVIyWQI7xaEYm4AU7xLIdxqTQgtvGvVBgCkcQ7e\n",
       "geM/tQAAAABJRU5ErkJggg==\n",
       "\" style=\"display:inline;vertical-align:middle;\" /></a></td></tr>\n",
       "<tr><td>3</td><td>ExprTuple</td><td>4, 5</td><td><a class=\"ProveItLink\" href=\"../fd4dcad9558b1c0858078438f4330f7eb1678eba0/expr.ipynb\"><img src=\"data:image/png;base64,iVBORw0KGgoAAAANSUhEUgAAAC4AAAAVBAMAAADLKsFqAAAAMFBMVEX////c3NwiIiJERESqqqqY\n",
       "mJh2dnZmZmYQEBDu7u4yMjJUVFTMzMyIiIi6uroAAAAs73DqAAAAAXRSTlMAQObYZgAAAR5JREFU\n",
       "GNNjYMAF+C5gCLE+ABKnkQRY9D+taloRwFADZK9EEuddPoFhATMDAxeQiWwMewIDm0Me0KAEBo4J\n",
       "SOLcExikeTYwMHA2MLxCs9OSGaTQhKEMSDLuzWuEOeVCKIhKZ1gKJF8IMH+Aik/mNABRXgx9QOVf\n",
       "GdgNoOJ7uAVA1AuGf0DbPjAwQV3FV/AMTJ8HifMbMMw/ABHnYljAwJAIEm9hYJC/wODPAHFuChsw\n",
       "CBRA5pgyMMx3YNjFcoAT5LANwFBha2BgiAK6iIErgEWdjWE+UBmzgCUDZ5kByJ2PQM6/d/gew4yP\n",
       "QO1WzcbrmwsYGNYxcAjAfPoQ4WlgOACDCAoCEOJsF5DCGUl8FhBLw8IeKfA2gtyGGY+8BxgAz2FB\n",
       "pcJZQS4AAAAASUVORK5CYII=\n",
       "\" style=\"display:inline;vertical-align:middle;\" /></a></td></tr>\n",
       "<tr><td>4</td><td>Variable</td><td></td><td><a class=\"ProveItLink\" href=\"../../../../__pv_it/07527342713064c87612d00d8557c53d53d5324a0/expr.ipynb\"><img src=\"data:image/png;base64,iVBORw0KGgoAAAANSUhEUgAAAAsAAAAJBAMAAAAWSsseAAAAMFBMVEX///8yMjKqqqrMzMzu7u4i\n",
       "IiJmZmaYmJhEREQQEBC6urp2dnaIiIhUVFTc3NwAAAD87Fq/AAAAAXRSTlMAQObYZgAAAEhJREFU\n",
       "CNdjYOC7s2seAwPDygccHxgY+L4zsDUwMPB+YGA9wMDA38Dgb8DA8P4Agz6DA4O/AsNFJgMGxgKm\n",
       "MG6gyjunLE4xAAAZTBA5TB6DCwAAAABJRU5ErkJggg==\n",
       "\" style=\"display:inline;vertical-align:middle;\" /></a></td></tr>\n",
       "<tr><td>5</td><td>Literal</td><td></td><td><a class=\"ProveItLink\" href=\"../../../sets/integer/__pv_it/7b9e51516f347f625fa636d7bb440e96498977000/expr.ipynb\"><img src=\"data:image/png;base64,iVBORw0KGgoAAAANSUhEUgAAAA4AAAAOBAMAAADtZjDiAAAAMFBMVEX////MzMzc3NxUVFS6urp2\n",
       "dnZERETu7u5mZmaIiIiYmJgQEBAyMjIiIiKqqqoAAAAf68ZqAAAAAXRSTlMAQObYZgAAAGlJREFU\n",
       "CNdj4Lv/98ze0wsYOE8UMBxgY2DgCGBgfRDCwMBcwKDMaMAAAulsBSCKa8IqMLeMPQFMGzIrgCiW\n",
       "Blcwl4fhAANDEANDHKsDA8MFBiYDYQYG1g0MbArpDOytCQzeOdvSzm9rAAAm6xY1AUf+1AAAAABJ\n",
       "RU5ErkJggg==\n",
       "\" style=\"display:inline;vertical-align:middle;\" /></a></td></tr>\n",
       "</table>\n"
      ],
      "text/plain": [
       "0. (a in Integers)\n",
       "   core type: ExprTuple\n",
       "   sub-expressions: 1\n",
       "1. a in Integers\n",
       "   core type: Operation\n",
       "   operator: 2\n",
       "   operands: 3\n",
       "2. in\n",
       "   core type: Literal\n",
       "   sub-expressions: \n",
       "3. (a , Integers)\n",
       "   core type: ExprTuple\n",
       "   sub-expressions: 4, 5\n",
       "4. a\n",
       "   core type: Variable\n",
       "   sub-expressions: \n",
       "5. Integers\n",
       "   core type: Literal\n",
       "   sub-expressions: "
      ]
     },
     "execution_count": 4,
     "metadata": {},
     "output_type": "execute_result"
    }
   ],
   "source": [
    "# display the expression information\n",
    "expr.exprInfo()"
   ]
  },
  {
   "cell_type": "code",
   "execution_count": null,
   "metadata": {},
   "outputs": [],
   "source": []
  }
 ],
 "metadata": {
  "kernelspec": {
   "display_name": "Python 3",
   "language": "python",
   "name": "python3"
  }
 },
 "nbformat": 4,
 "nbformat_minor": 0
}
