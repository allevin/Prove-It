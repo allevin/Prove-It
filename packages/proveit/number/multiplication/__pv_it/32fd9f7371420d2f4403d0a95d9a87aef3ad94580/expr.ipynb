{
 "cells": [
  {
   "cell_type": "markdown",
   "metadata": {},
   "source": [
    "Expression of type <a class=\"ProveItLink\" href=\"../../../../../../doc/html/api/proveit.logic.Equals.html\">Equals</a>\n",
    "=======================\n",
    "# from context <a class=\"ProveItLink\" href=\"../../_context_.ipynb\">proveit.number.multiplication</a>"
   ]
  },
  {
   "cell_type": "code",
   "execution_count": 1,
   "metadata": {},
   "outputs": [],
   "source": [
    "# import Expression classes needed to build the expression\n",
    "from proveit._common_ import a\n",
    "from proveit.logic import Equals\n",
    "from proveit.number import Add, Mult, four"
   ]
  },
  {
   "cell_type": "code",
   "execution_count": 2,
   "metadata": {},
   "outputs": [
    {
     "data": {
      "text/html": [
       "<strong id=\"expr\">expr:</strong> <a class=\"ProveItLink\" href=\"expr.ipynb\"><img src=\"data:image/png;base64,iVBORw0KGgoAAAANSUhEUgAAANQAAAAVBAMAAADMRN06AAAAMFBMVEX////c3NwiIiJERESqqqqY\n",
       "mJh2dnZmZmYQEBDu7u4yMjJUVFTMzMyIiIi6uroAAAAs73DqAAAAAXRSTlMAQObYZgAAAfpJREFU\n",
       "SMe9lT1Iw1AQx69a26alNYtTB0UHXQQHHUVx9AOdnbp1EEQQHcRB0clBdBERpKI4NILoahELjg5m\n",
       "clPESUShoIKDX3dpkvdxUQoRb8h7+fXe/9+7JO8B/GNkbM4abmvLqz0cxQvwLlLM8+SLcBWRYpEm\n",
       "bdoPSZ5bDGeFimnqS3pJrzenp6aV/q0zKcP8naBiYg3Hpj09bUFf6OT5McKsovbvBBUfaMzpVtCt\n",
       "gwcIZ4WKs1ScKVllr+6x8ry+kPIip5OLqpUgnjAnvuI+zrdBWGUWoQ+HQZrHLSeOaE5592Z9RbUS\n",
       "xBPmxFdcpf5VrQx6HM1jME0r9KowL/IK8S7FSiKuMCdC8RNZuWpVaMHLGUAnDpe6FealKlBnK1YS\n",
       "cYU5EYoosQFVq036O89gvP9g1dgFhTJO5yyrw7IOQBDs9O6K02lOhOIywFCp9HbqPecPiFYMt4Hx\n",
       "ViechmBesw2jsCZXJRG3Bk6EYo9z73/CxgukdoYBxvWqMK/QDyfRsmwlEVeYE6GYV63wTRuYygW8\n",
       "7AiSY9H2mPKsJOIKcyIU7+hu4mvG/6yuH3txFz7Ure7ok7k5v1HfQEG8djEiFBNm0OYYsDGZoTcm\n",
       "vrFSxNhCNe+phuNMJaQYeDhs/fkhQorZoB+OOcqGsyLFSMBBni5zFgl14KPiN7Ltu61IdclLAAAA\n",
       "AElFTkSuQmCC\n",
       "\" style=\"display:inline;vertical-align:middle;\" /></a><br>"
      ],
      "text/plain": [
       "expr: (4 * a) = (a + a + a + a)"
      ]
     },
     "execution_count": 2,
     "metadata": {},
     "output_type": "execute_result"
    }
   ],
   "source": [
    "# build up the expression from sub-expressions\n",
    "expr = Equals(Mult(four, a), Add(a, a, a, a))"
   ]
  },
  {
   "cell_type": "code",
   "execution_count": 3,
   "metadata": {},
   "outputs": [
    {
     "name": "stdout",
     "output_type": "stream",
     "text": [
      "Passed sanity check: built 'expr' is the same as the stored Expression.\n"
     ]
    }
   ],
   "source": [
    "# check that the built expression is the same as the stored expression\n",
    "%check_expr"
   ]
  },
  {
   "cell_type": "code",
   "execution_count": 4,
   "metadata": {},
   "outputs": [
    {
     "data": {
      "text/html": [
       "<table><tr><th>&nbsp;</th><th>core type</th><th>sub-expressions</th><th>expression</th></tr>\n",
       "<tr><td>0</td><td>Operation</td><td>operator:&nbsp;1<br>operands:&nbsp;2<br></td><td><a class=\"ProveItLink\" href=\"expr.ipynb\"><img src=\"data:image/png;base64,iVBORw0KGgoAAAANSUhEUgAAANQAAAAVBAMAAADMRN06AAAAMFBMVEX////c3NwiIiJERESqqqqY\n",
       "mJh2dnZmZmYQEBDu7u4yMjJUVFTMzMyIiIi6uroAAAAs73DqAAAAAXRSTlMAQObYZgAAAfpJREFU\n",
       "SMe9lT1Iw1AQx69a26alNYtTB0UHXQQHHUVx9AOdnbp1EEQQHcRB0clBdBERpKI4NILoahELjg5m\n",
       "clPESUShoIKDX3dpkvdxUQoRb8h7+fXe/9+7JO8B/GNkbM4abmvLqz0cxQvwLlLM8+SLcBWRYpEm\n",
       "bdoPSZ5bDGeFimnqS3pJrzenp6aV/q0zKcP8naBiYg3Hpj09bUFf6OT5McKsovbvBBUfaMzpVtCt\n",
       "gwcIZ4WKs1ScKVllr+6x8ry+kPIip5OLqpUgnjAnvuI+zrdBWGUWoQ+HQZrHLSeOaE5592Z9RbUS\n",
       "xBPmxFdcpf5VrQx6HM1jME0r9KowL/IK8S7FSiKuMCdC8RNZuWpVaMHLGUAnDpe6FealKlBnK1YS\n",
       "cYU5EYoosQFVq036O89gvP9g1dgFhTJO5yyrw7IOQBDs9O6K02lOhOIywFCp9HbqPecPiFYMt4Hx\n",
       "ViechmBesw2jsCZXJRG3Bk6EYo9z73/CxgukdoYBxvWqMK/QDyfRsmwlEVeYE6GYV63wTRuYygW8\n",
       "7AiSY9H2mPKsJOIKcyIU7+hu4mvG/6yuH3txFz7Ure7ok7k5v1HfQEG8djEiFBNm0OYYsDGZoTcm\n",
       "vrFSxNhCNe+phuNMJaQYeDhs/fkhQorZoB+OOcqGsyLFSMBBni5zFgl14KPiN7Ltu61IdclLAAAA\n",
       "AElFTkSuQmCC\n",
       "\" style=\"display:inline;vertical-align:middle;\" /></a></td></tr>\n",
       "<tr><td>1</td><td>Literal</td><td></td><td><a class=\"ProveItLink\" href=\"../../../../logic/equality/__pv_it/2fb26078095930560931daa0500ce419a39ea6cd0/expr.ipynb\"><img src=\"data:image/png;base64,iVBORw0KGgoAAAANSUhEUgAAAA4AAAAFBAMAAACHocAhAAAAFVBMVEX///9EREQiIiJUVFQyMjJm\n",
       "ZmYAAADubVkoAAAAAXRSTlMAQObYZgAAABRJREFUCNdjCHEBAWcGXCBICQQUAUpuAwlgGKrkAAAA\n",
       "AElFTkSuQmCC\n",
       "\" style=\"display:inline;vertical-align:middle;\" /></a></td></tr>\n",
       "<tr><td>2</td><td>ExprTuple</td><td>3, 4</td><td><a class=\"ProveItLink\" href=\"../8af965f8d3865e50c713e82dd0f7723484d21b9d0/expr.ipynb\"><img src=\"data:image/png;base64,iVBORw0KGgoAAAANSUhEUgAAALIAAAAVBAMAAAAQvakNAAAAMFBMVEX////c3NwiIiJERESqqqqY\n",
       "mJh2dnZmZmYQEBDu7u4yMjJUVFTMzMyIiIi6uroAAAAs73DqAAAAAXRSTlMAQObYZgAAAa1JREFU\n",
       "OMtjYKAd4LtAA0NZHwCJ0wwwgpqgBohXghjK1DaZi4GBFxQYvM341U0kQoRTACU4Ehg4JgBp0cX4\n",
       "TfYlQoQFJb44GxhegegEqpvMYMJQBnK6AJLJ0tdeCKCzYOYw7s1rxCUCNxmiLZ1hKZA9lwFhMl8j\n",
       "gz06C27OCwHmD7hEYCZDtXkx9IECA2IyJyjI5QMYiiFKECyYOYxfGdgNcInATIZqe8HwDyh2AGLy\n",
       "fAUgsZ+BQReiBMGCmcP9gYHpAi4RmMlQbedBJk9jgJg8A2T7ZwbOPxAlMFbVqlUaq1atBrL4DRjm\n",
       "H8Aqwr5q1aKuVas2ILSdZ2hhYPDevfvHXliM/GVg+cCJyoK7UP4Cgz/DBBwiUDfDtL1gMAXz4TmF\n",
       "8wsD9wIfkGIoC9mc+Q4Mu1gO4BCBmgzTFgVMHSgmA9OKU0EC5ycYC8VkrgAWdTZcIrBwhmpLZ3gE\n",
       "4mX/L4Un57tvbB9w9gtAWagpYe+9w/dwicBMhmpbx8AhgLVoFaA8d7MmYC1fUblvMRS8JVDOs12A\n",
       "lqIETCYdzAKFCzYJiuuZjaBIoEVtxXuAAQAXR5pLuEytZAAAAABJRU5ErkJggg==\n",
       "\" style=\"display:inline;vertical-align:middle;\" /></a></td></tr>\n",
       "<tr><td>3</td><td>Operation</td><td>operator:&nbsp;5<br>operands:&nbsp;6<br></td><td><a class=\"ProveItLink\" href=\"../58b537081775b5a1c4c65664308ec5e2ea4b41d40/expr.ipynb\"><img src=\"data:image/png;base64,iVBORw0KGgoAAAANSUhEUgAAACQAAAAPBAMAAAB+RXBeAAAAMFBMVEX///+6urpmZmaqqqru7u52\n",
       "dnYyMjKYmJjc3NwQEBCIiIhEREQiIiJUVFTMzMwAAACQ7J58AAAAAXRSTlMAQObYZgAAAIhJREFU\n",
       "GNNjYGBgeMuAAU5jiHDNxhBqz8YQCsAQYm9AEupdKtnAwODFgBBinMGwH6QPIsTiACT6Cxi0GRiY\n",
       "H0CE/A8AifsMDKcYGFwZIEKeG4DEbwaWfwwMtnfv/rwFNYrjFwPzBxYQC+5Uls8MvAl2KEIM6Qw2\n",
       "CgFAOva/OtxZq+R2CWAGAgMA2Usf+h38F2MAAAAASUVORK5CYII=\n",
       "\" style=\"display:inline;vertical-align:middle;\" /></a></td></tr>\n",
       "<tr><td>4</td><td>Operation</td><td>operator:&nbsp;7<br>operands:&nbsp;8<br></td><td><a class=\"ProveItLink\" href=\"../1617220222441c22adc29ecc4a200ad4a8bc5a170/expr.ipynb\"><img src=\"data:image/png;base64,iVBORw0KGgoAAAANSUhEUgAAAHgAAAAOBAMAAAAWMcU9AAAAMFBMVEX///8yMjKqqqrMzMzu7u4i\n",
       "IiJmZmaYmJhEREQQEBC6urp2dnaIiIhUVFTc3NwAAAD87Fq/AAAAAXRSTlMAQObYZgAAAOtJREFU\n",
       "KM9jYEAAPwZ0wPKAsAgU6GCIMB0gLEK+Zr47u+ahakaIwJRiijC8Pb0S6IOVDzg+oGpGiMCUYopw\n",
       "zWPoBxr6nYGtAUUzkghUKaYIw/sChgwGBt4PDKwHUDQjiUCVYoow3GdgiGFg4G9g8DcA8hIFBSMF\n",
       "BWUZECJsgoKiEwUFL2ATYfjBwPIZaP8BBn0GB2SbkUSg9mCK8P1hYPrAwuCvwHCRyQBZM5IIVCmm\n",
       "CMsnBl4BZQbGAqYwbhQ/I4lAlWKKMIgzqCZsAEbhKYtTqKGNEIE5EkOE4e2ZxT0LqJY812CIcB3A\n",
       "KwIA9pFdnRSEh9oAAAAASUVORK5CYII=\n",
       "\" style=\"display:inline;vertical-align:middle;\" /></a></td></tr>\n",
       "<tr><td>5</td><td>Literal</td><td></td><td><a class=\"ProveItLink\" href=\"../21fd2079611555ecce512d99547a00d551e6b86b0/expr.ipynb\"><img src=\"data:image/png;base64,iVBORw0KGgoAAAANSUhEUgAAAAMAAAADBAMAAACkBqiMAAAAElBMVEX///9EREQQEBAiIiLu7u4A\n",
       "AABGBidwAAAAAXRSTlMAQObYZgAAABFJREFUCNdjYHFgcDVgcBIAAASWAQx4jI0xAAAAAElFTkSu\n",
       "QmCC\n",
       "\" style=\"display:inline;vertical-align:middle;\" /></a></td></tr>\n",
       "<tr><td>6</td><td>ExprTuple</td><td>9, 10</td><td><a class=\"ProveItLink\" href=\"../861f9bb5f41c8292c940975efd737d1d826f907b0/expr.ipynb\"><img src=\"data:image/png;base64,iVBORw0KGgoAAAANSUhEUgAAACsAAAAVBAMAAAAtAwouAAAAMFBMVEX////c3NwiIiJERESqqqqY\n",
       "mJh2dnZmZmYQEBDu7u4yMjJUVFTMzMyIiIi6uroAAAAs73DqAAAAAXRSTlMAQObYZgAAAPZJREFU\n",
       "GNNjYMAB+C6gi8SBiNNwAgbYDwCJlSCWMoryBQwMvCAzeJtRhMMYGDgmAGnRxSjCMxgYXoHoBFRh\n",
       "ZgeGMiDFKgATZtyb18jAwFbAsBTImcsAE34hwPyBgYFlAUMfyAyYMONXBnYDoFcaGP4BJQ/AhLk/\n",
       "MDABXcbzASQ8jQEmzG/AMP8AWLiFgcF79+4fe8HC8hcY/BkmgAwxBfOB3gG5f74Dwy6gkawLGNKh\n",
       "wpyfgBRXAIs6G9iBj0Ci2f9LOfsFQM6+d/geUPYBA4cALIAFkD3PmgBlsyI8nwsLWBRhTmDAMkhD\n",
       "OYhI4gYZx4gRaXcYGAAs1Dq2ED2MAgAAAABJRU5ErkJggg==\n",
       "\" style=\"display:inline;vertical-align:middle;\" /></a></td></tr>\n",
       "<tr><td>7</td><td>Literal</td><td></td><td><a class=\"ProveItLink\" href=\"../../../addition/__pv_it/3e6688136fa3c7aefbebe51301b7c3ebf0b69c440/expr.ipynb\"><img src=\"data:image/png;base64,iVBORw0KGgoAAAANSUhEUgAAAA4AAAAOBAMAAADtZjDiAAAAJFBMVEX///+6urpUVFQQEBAiIiIy\n",
       "MjJmZmaIiIiqqqrc3Nzu7u4AAACgHpL+AAAAAXRSTlMAQObYZgAAAB5JREFUCNdjYGBgWMkAAe2k\n",
       "0Kmhoc6hoUGk6BMHYgAHOwjcado9fwAAAABJRU5ErkJggg==\n",
       "\" style=\"display:inline;vertical-align:middle;\" /></a></td></tr>\n",
       "<tr><td>8</td><td>ExprTuple</td><td>10, 10, 10, 10</td><td><a class=\"ProveItLink\" href=\"../7f2f44c052640a943d82556f4836ff172f97af010/expr.ipynb\"><img src=\"data:image/png;base64,iVBORw0KGgoAAAANSUhEUgAAAFQAAAAVBAMAAAAqQdQ7AAAAMFBMVEX////c3NwiIiJERESqqqqY\n",
       "mJh2dnZmZmYQEBDu7u4yMjJUVFTMzMyIiIi6uroAAAAs73DqAAAAAXRSTlMAQObYZgAAARlJREFU\n",
       "KM9jYCAB8F0gRhXrAyBxmjgTa4B4JXFKuRgYeC8Qp5Q1gYFjAnFKORsYXhHrfROGMiDJuDevEcLH\n",
       "xmKQvvZCgIEhnWEpkP1CgPkDRBQbi6+RwR5IeTH0AQ34ysBuADEKC4tBPoChGKSX4R8DA/cHBiZI\n",
       "OGBjMexnYNAFUudBSvkNGOYfAItiYzF8ZuD8A1baArThAoM/AzjMsLEY/zKwfOAEOcCUgWG+A8Mu\n",
       "lgNAHlYW5xcG7gU+DAxRwDBg4ApgUWdjmK+AnQUMI6eCBFBgPQIF4b3D9xhmfMTOYpC++8YWmK7W\n",
       "MXAIwKLjIQM+FjBigckACgIY8LHYLiAlQvxKZ4GcAmXzwkWxsRg2gsKNqATLe4ABAD4AYyeetW9t\n",
       "AAAAAElFTkSuQmCC\n",
       "\" style=\"display:inline;vertical-align:middle;\" /></a></td></tr>\n",
       "<tr><td>9</td><td>Literal</td><td></td><td><a class=\"ProveItLink\" href=\"../../../numeral/__pv_it/23412ce59ea7e77353d2f9225e02248e73651ca00/expr.ipynb\"><img src=\"data:image/png;base64,iVBORw0KGgoAAAANSUhEUgAAAAoAAAAPBAMAAAAv0UM9AAAALVBMVEX///9mZmaqqqru7u52dnYy\n",
       "MjKYmJjc3NwQEBCIiIhEREQiIiJUVFTMzMwAAACUDTcXAAAAAXRSTlMAQObYZgAAAD5JREFUCNdj\n",
       "YGBguMMAArtABGcXiCyLApEOIJKtAERaMoBIBxDJdAFEmjCASJ0zZ16cBCkF64KQPu/EwBwGACv6\n",
       "DSRgin9qAAAAAElFTkSuQmCC\n",
       "\" style=\"display:inline;vertical-align:middle;\" /></a></td></tr>\n",
       "<tr><td>10</td><td>Variable</td><td></td><td><a class=\"ProveItLink\" href=\"../../../../__pv_it/07527342713064c87612d00d8557c53d53d5324a0/expr.ipynb\"><img src=\"data:image/png;base64,iVBORw0KGgoAAAANSUhEUgAAAAsAAAAJBAMAAAAWSsseAAAAMFBMVEX///8yMjKqqqrMzMzu7u4i\n",
       "IiJmZmaYmJhEREQQEBC6urp2dnaIiIhUVFTc3NwAAAD87Fq/AAAAAXRSTlMAQObYZgAAAEhJREFU\n",
       "CNdjYOC7s2seAwPDygccHxgY+L4zsDUwMPB+YGA9wMDA38Dgb8DA8P4Agz6DA4O/AsNFJgMGxgKm\n",
       "MG6gyjunLE4xAAAZTBA5TB6DCwAAAABJRU5ErkJggg==\n",
       "\" style=\"display:inline;vertical-align:middle;\" /></a></td></tr>\n",
       "</table>\n"
      ],
      "text/plain": [
       "0. (4 * a) = (a + a + a + a)\n",
       "   core type: Operation\n",
       "   operator: 1\n",
       "   operands: 2\n",
       "1. =\n",
       "   core type: Literal\n",
       "   sub-expressions: \n",
       "2. (4 * a , a + a + a + a)\n",
       "   core type: ExprTuple\n",
       "   sub-expressions: 3, 4\n",
       "3. 4 * a\n",
       "   core type: Operation\n",
       "   operator: 5\n",
       "   operands: 6\n",
       "4. a + a + a + a\n",
       "   core type: Operation\n",
       "   operator: 7\n",
       "   operands: 8\n",
       "5. *\n",
       "   core type: Literal\n",
       "   sub-expressions: \n",
       "6. (4 , a)\n",
       "   core type: ExprTuple\n",
       "   sub-expressions: 9, 10\n",
       "7. +\n",
       "   core type: Literal\n",
       "   sub-expressions: \n",
       "8. (a , a , a , a)\n",
       "   core type: ExprTuple\n",
       "   sub-expressions: 10, 10, 10, 10\n",
       "9. 4\n",
       "   core type: Literal\n",
       "   sub-expressions: \n",
       "10. a\n",
       "    core type: Variable\n",
       "    sub-expressions: "
      ]
     },
     "execution_count": 4,
     "metadata": {},
     "output_type": "execute_result"
    }
   ],
   "source": [
    "# display the expression information\n",
    "expr.exprInfo()"
   ]
  },
  {
   "cell_type": "code",
   "execution_count": null,
   "metadata": {},
   "outputs": [],
   "source": []
  }
 ],
 "metadata": {
  "kernelspec": {
   "display_name": "Python 3",
   "language": "python",
   "name": "python3"
  }
 },
 "nbformat": 4,
 "nbformat_minor": 0
}
