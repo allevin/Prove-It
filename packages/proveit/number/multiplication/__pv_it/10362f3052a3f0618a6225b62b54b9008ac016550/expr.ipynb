{
 "cells": [
  {
   "cell_type": "markdown",
   "metadata": {},
   "source": [
    "Expression of type <a class=\"ProveItLink\" href=\"../../../../../../doc/html/api/proveit.logic.Equals.html\">Equals</a>\n",
    "=======================\n",
    "# from context <a class=\"ProveItLink\" href=\"../../_context_.ipynb\">proveit.number.multiplication</a>"
   ]
  },
  {
   "cell_type": "code",
   "execution_count": 1,
   "metadata": {},
   "outputs": [],
   "source": [
    "# import Expression classes needed to build the expression\n",
    "from proveit.logic import Equals\n",
    "from proveit.number import Add, one, three, two"
   ]
  },
  {
   "cell_type": "code",
   "execution_count": 2,
   "metadata": {},
   "outputs": [
    {
     "data": {
      "text/html": [
       "<strong id=\"expr\">expr:</strong> <a class=\"ProveItLink\" href=\"expr.ipynb\"><img src=\"data:image/png;base64,iVBORw0KGgoAAAANSUhEUgAAAGEAAAAVBAMAAACkm51HAAAAMFBMVEX////c3NwiIiJERESqqqqY\n",
       "mJh2dnZmZmYQEBDu7u4yMjJUVFTMzMyIiIi6uroAAAAs73DqAAAAAXRSTlMAQObYZgAAAVBJREFU\n",
       "OMtjYCAd8F3AIRGHS8dpBgbxKjt0UUsGBvYD6II8ackOQGolA+MGhvsOqHKTfwKJBeg6xBn4/jIw\n",
       "8F5g4J7AwPQBIjYRQs3eDdIRhq4j34HhEwMDxwQGjk4G7n8QMV+oHC9Ixwx0Hf5gHa8YGLh+MrBj\n",
       "08HsgBlMQFeVgVlMP7HoYCvA0MG1gYFhKZh1PgGLDhaw19lXgcEGEPvYaiDRB1axmAGLDr4GDDt4\n",
       "gcrBHmA3wKaD5wNm7PVPgOi4DeZVrVqlsWrVatw6ZBgY7AMYWkAOLmAQxOkqdiUwALqC8/8EkA5T\n",
       "oOBxBoZALDpY0SP9FwODvgBDOgMDo1paugIxoXuVge8bA8MjYGT8//8fVQd7xa9SYOA/QNPBUl4F\n",
       "jFQOAWQxX2TODOyJnTUBmfcWmZOLI3+sxJVxOBfgkJDGpYNbAIcEI65cewe7MAAaulnOLikRRgAA\n",
       "AABJRU5ErkJggg==\n",
       "\" style=\"display:inline;vertical-align:middle;\" /></a><br>"
      ],
      "text/plain": [
       "expr: (2 + 1) = 3"
      ]
     },
     "execution_count": 2,
     "metadata": {},
     "output_type": "execute_result"
    }
   ],
   "source": [
    "# build up the expression from sub-expressions\n",
    "expr = Equals(Add(two, one), three)"
   ]
  },
  {
   "cell_type": "code",
   "execution_count": 3,
   "metadata": {},
   "outputs": [
    {
     "name": "stdout",
     "output_type": "stream",
     "text": [
      "Passed sanity check: built 'expr' is the same as the stored Expression.\n"
     ]
    }
   ],
   "source": [
    "# check that the built expression is the same as the stored expression\n",
    "%check_expr"
   ]
  },
  {
   "cell_type": "code",
   "execution_count": 4,
   "metadata": {},
   "outputs": [
    {
     "data": {
      "text/html": [
       "<table><tr><th>&nbsp;</th><th>core type</th><th>sub-expressions</th><th>expression</th></tr>\n",
       "<tr><td>0</td><td>Operation</td><td>operator:&nbsp;1<br>operands:&nbsp;2<br></td><td><a class=\"ProveItLink\" href=\"expr.ipynb\"><img src=\"data:image/png;base64,iVBORw0KGgoAAAANSUhEUgAAAGEAAAAVBAMAAACkm51HAAAAMFBMVEX////c3NwiIiJERESqqqqY\n",
       "mJh2dnZmZmYQEBDu7u4yMjJUVFTMzMyIiIi6uroAAAAs73DqAAAAAXRSTlMAQObYZgAAAVBJREFU\n",
       "OMtjYCAd8F3AIRGHS8dpBgbxKjt0UUsGBvYD6II8ackOQGolA+MGhvsOqHKTfwKJBeg6xBn4/jIw\n",
       "8F5g4J7AwPQBIjYRQs3eDdIRhq4j34HhEwMDxwQGjk4G7n8QMV+oHC9Ixwx0Hf5gHa8YGLh+MrBj\n",
       "08HsgBlMQFeVgVlMP7HoYCvA0MG1gYFhKZh1PgGLDhaw19lXgcEGEPvYaiDRB1axmAGLDr4GDDt4\n",
       "gcrBHmA3wKaD5wNm7PVPgOi4DeZVrVqlsWrVatw6ZBgY7AMYWkAOLmAQxOkqdiUwALqC8/8EkA5T\n",
       "oOBxBoZALDpY0SP9FwODvgBDOgMDo1paugIxoXuVge8bA8MjYGT8//8fVQd7xa9SYOA/QNPBUl4F\n",
       "jFQOAWQxX2TODOyJnTUBmfcWmZOLI3+sxJVxOBfgkJDGpYNbAIcEI65cewe7MAAaulnOLikRRgAA\n",
       "AABJRU5ErkJggg==\n",
       "\" style=\"display:inline;vertical-align:middle;\" /></a></td></tr>\n",
       "<tr><td>1</td><td>Literal</td><td></td><td><a class=\"ProveItLink\" href=\"../../../../logic/equality/__pv_it/2fb26078095930560931daa0500ce419a39ea6cd0/expr.ipynb\"><img src=\"data:image/png;base64,iVBORw0KGgoAAAANSUhEUgAAAA4AAAAFBAMAAACHocAhAAAAFVBMVEX///9EREQiIiJUVFQyMjJm\n",
       "ZmYAAADubVkoAAAAAXRSTlMAQObYZgAAABRJREFUCNdjCHEBAWcGXCBICQQUAUpuAwlgGKrkAAAA\n",
       "AElFTkSuQmCC\n",
       "\" style=\"display:inline;vertical-align:middle;\" /></a></td></tr>\n",
       "<tr><td>2</td><td>ExprTuple</td><td>3, 4</td><td><a class=\"ProveItLink\" href=\"../416f2130401414d465ad45e7d16283302225c8590/expr.ipynb\"><img src=\"data:image/png;base64,iVBORw0KGgoAAAANSUhEUgAAAE0AAAAVBAMAAADx+n4ZAAAAMFBMVEX////c3NwiIiJERESqqqqY\n",
       "mJh2dnZmZmYQEBDu7u4yMjJUVFTMzMyIiIi6uroAAAAs73DqAAAAAXRSTlMAQObYZgAAAUtJREFU\n",
       "KM+NkrFPwlAQh7+CSFugwYlBByfjpour9B8g4uJoSExgMjJJwuTg4iJ1cyQxxlgWdgeZdHCQxUkT\n",
       "jKOJCXEwwUTr62ttAHnBN7z3fndf7i53B/89Vncqsu1fd5Crr4+74k7wpss7NsmO+F2itenZo5iR\n",
       "D7kc1hc0IdMl5RDrB+aTELu6Drk9m3fYAt1BPyL1HZgLvwF7IbchuVN4BXNAUsUh88Zt9qWIDZSc\n",
       "2YbZKudS3JdU3E1LXDNNjqU6QxkvIwjrAFlYclXN0XBI9wPuURrqrrvsuq0RbgHyRZ879NNXmZsc\n",
       "z/AcnxN514S6hc0JnI9+wkqWRJMKaEvlyuJfzhAN5gHrQ/blRTTP87wxrta4KBqNrCipVhejN5/R\n",
       "s8PzL4xsXOQSc0uUhl1vwyIR/XblXqlOxBlir5hXctGip/wCtOl7/wQ/G65a1oZRKS8AAAAASUVO\n",
       "RK5CYII=\n",
       "\" style=\"display:inline;vertical-align:middle;\" /></a></td></tr>\n",
       "<tr><td>3</td><td>Operation</td><td>operator:&nbsp;5<br>operands:&nbsp;6<br></td><td><a class=\"ProveItLink\" href=\"../006fd4b218a2b23cd10c326e1d87cd3cce5285050/expr.ipynb\"><img src=\"data:image/png;base64,iVBORw0KGgoAAAANSUhEUgAAACsAAAAQBAMAAAB9zpudAAAAMFBMVEX///+YmJh2dnbMzMwQEBAi\n",
       "IiLu7u6qqqqIiIhUVFS6urpEREQyMjJmZmbc3NwAAACOMKdoAAAAAXRSTlMAQObYZgAAAIdJREFU\n",
       "GNNj4Lt7egEDKuBOYGB4ycDxHVWUbT9QeBoDQzyU+wBCzZwPFHZJYJgPMYW9Aaq8Hyh8PoHhPhZh\n",
       "IIhPwCbM/IkBmzDPBqzCtxmwCXNMADF5z5w56nPmzAS4cC0D3wNM1cwXGBixCD9VUrqKxez4//+/\n",
       "ogrf9T8rgBREcNWogAtJGACZ0DC/ZzOm7gAAAABJRU5ErkJggg==\n",
       "\" style=\"display:inline;vertical-align:middle;\" /></a></td></tr>\n",
       "<tr><td>4</td><td>Literal</td><td></td><td><a class=\"ProveItLink\" href=\"../../../numeral/__pv_it/9176d93c83afa2c995b614976e3cb49207102fa70/expr.ipynb\"><img src=\"data:image/png;base64,iVBORw0KGgoAAAANSUhEUgAAAAoAAAAOBAMAAADkjZCYAAAAMFBMVEX///+YmJju7u4QEBBUVFQy\n",
       "MjIiIiKIiIi6urpmZmbc3NyqqqpERER2dnbMzMwAAAB0GlNiAAAAAXRSTlMAQObYZgAAAE1JREFU\n",
       "CNdjYHh79zQDA9cEhv4CBt7fDPwJDNxgEgiAIkAQAsR8Vx1ATIbiBhDJ/ImB6wEDz0cG/U8gkj+A\n",
       "ge0XA7sAQ/8FBoadM6MZAEflFACalZ/OAAAAAElFTkSuQmCC\n",
       "\" style=\"display:inline;vertical-align:middle;\" /></a></td></tr>\n",
       "<tr><td>5</td><td>Literal</td><td></td><td><a class=\"ProveItLink\" href=\"../../../addition/__pv_it/3e6688136fa3c7aefbebe51301b7c3ebf0b69c440/expr.ipynb\"><img src=\"data:image/png;base64,iVBORw0KGgoAAAANSUhEUgAAAA4AAAAOBAMAAADtZjDiAAAAJFBMVEX///+6urpUVFQQEBAiIiIy\n",
       "MjJmZmaIiIiqqqrc3Nzu7u4AAACgHpL+AAAAAXRSTlMAQObYZgAAAB5JREFUCNdjYGBgWMkAAe2k\n",
       "0Kmhoc6hoUGk6BMHYgAHOwjcado9fwAAAABJRU5ErkJggg==\n",
       "\" style=\"display:inline;vertical-align:middle;\" /></a></td></tr>\n",
       "<tr><td>6</td><td>ExprTuple</td><td>7, 8</td><td><a class=\"ProveItLink\" href=\"../a7356f1c695763636680b2bc30e143060874fd270/expr.ipynb\"><img src=\"data:image/png;base64,iVBORw0KGgoAAAANSUhEUgAAACkAAAAVBAMAAAAp9toTAAAAMFBMVEX////c3NwiIiJERESqqqqY\n",
       "mJh2dnZmZmYQEBDu7u4yMjJUVFTMzMyIiIi6uroAAAAs73DqAAAAAXRSTlMAQObYZgAAAOtJREFU\n",
       "GNNjYMAO+C6gCcSBiNMMDOJVdjAhSwYG9gNAeiUD4waG+w4Qwck/gcQCBgbeCwzcExiYPoAFZ+8G\n",
       "iYYxMHBMYODoZOD+B1HLCxKdwcDwioGB6ycDO7IoswNDGZjH9BNJlK2AYSmYdz4BSZRlAUMfmLeY\n",
       "AUmUr4EBbCC7AbIozweI6G0GNNEWkEEFDIKoJpgCqeMMDIEME+CirAsY0hkYGNXS0hU4PyG77BHQ\n",
       "sf///1fg7BcA2lrxqxToqwcMHAKwEIUxQD5mhbqfgRUewLngkEQT5QSGJIM0lAOPEm6QUYzoMXSH\n",
       "gQEAsGA9H0qwfKUAAAAASUVORK5CYII=\n",
       "\" style=\"display:inline;vertical-align:middle;\" /></a></td></tr>\n",
       "<tr><td>7</td><td>Literal</td><td></td><td><a class=\"ProveItLink\" href=\"../../../numeral/__pv_it/77d407a64829263cdc16415becd4c2293f77a4bf0/expr.ipynb\"><img src=\"data:image/png;base64,iVBORw0KGgoAAAANSUhEUgAAAAkAAAAOBAMAAAAPuiubAAAAMFBMVEX///+YmJh2dnbMzMwQEBAi\n",
       "IiLu7u6qqqqIiIhUVFS6urpEREQyMjJmZmbc3NwAAACOMKdoAAAAAXRSTlMAQObYZgAAAFBJREFU\n",
       "CNdj4Lt7egEDw0sGju8MDNMYGOIZGFwSGOYvYDifwHAfKAEUSQASzJ9ATJ4NIPI2iOCYACJrGfge\n",
       "MDBfYGB8wPBUSekqUPH//18ZAIliFhc3zESNAAAAAElFTkSuQmCC\n",
       "\" style=\"display:inline;vertical-align:middle;\" /></a></td></tr>\n",
       "<tr><td>8</td><td>Literal</td><td></td><td><a class=\"ProveItLink\" href=\"../../../numeral/__pv_it/9be8badea4c35b9724062cecc501d17a3158d1d20/expr.ipynb\"><img src=\"data:image/png;base64,iVBORw0KGgoAAAANSUhEUgAAAAgAAAAPBAMAAAArJJMAAAAAHlBMVEX///+YmJgyMjIQEBBmZmaI\n",
       "iIhUVFTu7u5EREQAAAAw+MI4AAAAAXRSTlMAQObYZgAAACFJREFUCNdjYGBoZ2BgqJjOwFCWBiQY\n",
       "WEklWJwnOTKAAACjEQo8HvEr3AAAAABJRU5ErkJggg==\n",
       "\" style=\"display:inline;vertical-align:middle;\" /></a></td></tr>\n",
       "</table>\n"
      ],
      "text/plain": [
       "0. (2 + 1) = 3\n",
       "   core type: Operation\n",
       "   operator: 1\n",
       "   operands: 2\n",
       "1. =\n",
       "   core type: Literal\n",
       "   sub-expressions: \n",
       "2. (2 + 1 , 3)\n",
       "   core type: ExprTuple\n",
       "   sub-expressions: 3, 4\n",
       "3. 2 + 1\n",
       "   core type: Operation\n",
       "   operator: 5\n",
       "   operands: 6\n",
       "4. 3\n",
       "   core type: Literal\n",
       "   sub-expressions: \n",
       "5. +\n",
       "   core type: Literal\n",
       "   sub-expressions: \n",
       "6. (2 , 1)\n",
       "   core type: ExprTuple\n",
       "   sub-expressions: 7, 8\n",
       "7. 2\n",
       "   core type: Literal\n",
       "   sub-expressions: \n",
       "8. 1\n",
       "   core type: Literal\n",
       "   sub-expressions: "
      ]
     },
     "execution_count": 4,
     "metadata": {},
     "output_type": "execute_result"
    }
   ],
   "source": [
    "# display the expression information\n",
    "expr.exprInfo()"
   ]
  },
  {
   "cell_type": "code",
   "execution_count": null,
   "metadata": {},
   "outputs": [],
   "source": []
  }
 ],
 "metadata": {
  "kernelspec": {
   "display_name": "Python 3",
   "language": "python",
   "name": "python3"
  }
 },
 "nbformat": 4,
 "nbformat_minor": 0
}
