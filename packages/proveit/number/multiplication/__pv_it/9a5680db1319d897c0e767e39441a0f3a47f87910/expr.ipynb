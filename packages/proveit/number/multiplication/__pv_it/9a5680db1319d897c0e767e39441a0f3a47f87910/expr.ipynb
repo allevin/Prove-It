{
 "cells": [
  {
   "cell_type": "markdown",
   "metadata": {},
   "source": [
    "Expression of type <a class=\"ProveItLink\" href=\"../../../../../../doc/html/api/proveit.ExprTuple.html\">ExprTuple</a>\n",
    "=======================\n",
    "# from context <a class=\"ProveItLink\" href=\"../../_context_.ipynb\">proveit.number.multiplication</a>"
   ]
  },
  {
   "cell_type": "code",
   "execution_count": 1,
   "metadata": {},
   "outputs": [],
   "source": [
    "# import Expression classes needed to build the expression\n",
    "from proveit import ExprTuple\n",
    "from proveit._common_ import AA, m\n",
    "from proveit.number import Exp\n",
    "from proveit.number._common_ import ComplexesSansZero"
   ]
  },
  {
   "cell_type": "code",
   "execution_count": 2,
   "metadata": {},
   "outputs": [
    {
     "data": {
      "text/html": [
       "<strong id=\"expr\">expr:</strong> <a class=\"ProveItLink\" href=\"expr.ipynb\"><img src=\"data:image/png;base64,iVBORw0KGgoAAAANSUhEUgAAAH8AAAAXBAMAAADQNI0XAAAAMFBMVEX////c3NwiIiJERESqqqqY\n",
       "mJh2dnZmZmYQEBDu7u4yMjJUVFTMzMyIiIi6uroAAAAs73DqAAAAAXRSTlMAQObYZgAAAi9JREFU\n",
       "OMudlD9oE1Ecx78Xc03u8u7MrEODOCm0Waoogh0dM9WCUIODdim5yaE6BHFwkDbWIXUo3GCHTg0U\n",
       "QUT0JkVcDgdBtBraTRBTSaXQ6PP33rtcrndXtf3Be/nl937vc+/35z3gMHL58/vW+gUcWoypbZzG\n",
       "lQN+tCJ/2PUioC256OFGsGL7aqX71/0L1UBhd2kq+KyOx8CUsLxVC5mfobN1avXO2RjgC43m+m2a\n",
       "Z2nkPausddrIefRnRXnUdvu+7HvbqH2MAaZpjGDBU9ownUEv06Fc+lwQAf/R9608AbK7SYBVguUq\n",
       "wCYyHjtD2Zig0zSkg1njgaveqNN8KwnItGBvKUAoi8BXpb3Lc0VCTmvRvJQEHHVkpvcAjozjplS0\n",
       "nsnbyta0qylVoG3DVbBfMcCQg2VFcnJcFRqvspUUwKwCUKmuRs1ZF3NSmYTFnQBgpwDYXAgwnYjd\n",
       "ruO37M0ubF5WtoesH8KxE0JGxP6nXhgCzkc+wDoKUNi5N89LymY2WskT2PdVErepGNEUEUB0Ji69\n",
       "efSAd4IyVgXAiBGeyTJmt2I5oBDGhLegjNKirOTYN5o2GnsB12QjDZViVdBdeaeOi/AvdmHIbiys\n",
       "fTA2z6W08kkseskyblBwnJroJec9Y74orK9Hd16k9AGaM88RA5ht5IvRkIr7XefpFE21sh5Nqo4D\n",
       "AmYG1/kfgMloTw7eNldkMGLw93+R/EhPhlIQIWv+f72JE+ODNzGUT8AfuyuSp9/6Ac4AAAAASUVO\n",
       "RK5CYII=\n",
       "\" style=\"display:inline;vertical-align:middle;\" /></a><br>"
      ],
      "text/plain": [
       "expr: (A , Complexes - {0}^{m})"
      ]
     },
     "execution_count": 2,
     "metadata": {},
     "output_type": "execute_result"
    }
   ],
   "source": [
    "# build up the expression from sub-expressions\n",
    "expr = ExprTuple(AA, Exp(ComplexesSansZero, m))"
   ]
  },
  {
   "cell_type": "code",
   "execution_count": 3,
   "metadata": {},
   "outputs": [
    {
     "name": "stdout",
     "output_type": "stream",
     "text": [
      "Passed sanity check: built 'expr' is the same as the stored Expression.\n"
     ]
    }
   ],
   "source": [
    "# check that the built expression is the same as the stored expression\n",
    "%check_expr"
   ]
  },
  {
   "cell_type": "code",
   "execution_count": 4,
   "metadata": {},
   "outputs": [
    {
     "data": {
      "text/html": [
       "<table><tr><th>&nbsp;</th><th>core type</th><th>sub-expressions</th><th>expression</th></tr>\n",
       "<tr><td>0</td><td>ExprTuple</td><td>1, 2</td><td><a class=\"ProveItLink\" href=\"expr.ipynb\"><img src=\"data:image/png;base64,iVBORw0KGgoAAAANSUhEUgAAAH8AAAAXBAMAAADQNI0XAAAAMFBMVEX////c3NwiIiJERESqqqqY\n",
       "mJh2dnZmZmYQEBDu7u4yMjJUVFTMzMyIiIi6uroAAAAs73DqAAAAAXRSTlMAQObYZgAAAi9JREFU\n",
       "OMudlD9oE1Ecx78Xc03u8u7MrEODOCm0Waoogh0dM9WCUIODdim5yaE6BHFwkDbWIXUo3GCHTg0U\n",
       "QUT0JkVcDgdBtBraTRBTSaXQ6PP33rtcrndXtf3Be/nl937vc+/35z3gMHL58/vW+gUcWoypbZzG\n",
       "lQN+tCJ/2PUioC256OFGsGL7aqX71/0L1UBhd2kq+KyOx8CUsLxVC5mfobN1avXO2RjgC43m+m2a\n",
       "Z2nkPausddrIefRnRXnUdvu+7HvbqH2MAaZpjGDBU9ownUEv06Fc+lwQAf/R9608AbK7SYBVguUq\n",
       "wCYyHjtD2Zig0zSkg1njgaveqNN8KwnItGBvKUAoi8BXpb3Lc0VCTmvRvJQEHHVkpvcAjozjplS0\n",
       "nsnbyta0qylVoG3DVbBfMcCQg2VFcnJcFRqvspUUwKwCUKmuRs1ZF3NSmYTFnQBgpwDYXAgwnYjd\n",
       "ruO37M0ubF5WtoesH8KxE0JGxP6nXhgCzkc+wDoKUNi5N89LymY2WskT2PdVErepGNEUEUB0Ji69\n",
       "efSAd4IyVgXAiBGeyTJmt2I5oBDGhLegjNKirOTYN5o2GnsB12QjDZViVdBdeaeOi/AvdmHIbiys\n",
       "fTA2z6W08kkseskyblBwnJroJec9Y74orK9Hd16k9AGaM88RA5ht5IvRkIr7XefpFE21sh5Nqo4D\n",
       "AmYG1/kfgMloTw7eNldkMGLw93+R/EhPhlIQIWv+f72JE+ODNzGUT8AfuyuSp9/6Ac4AAAAASUVO\n",
       "RK5CYII=\n",
       "\" style=\"display:inline;vertical-align:middle;\" /></a></td></tr>\n",
       "<tr><td>1</td><td>Variable</td><td></td><td><a class=\"ProveItLink\" href=\"../../../../__pv_it/eb438fefc4bd0ac977777d6dfd3e8a72dfbedbd50/expr.ipynb\"><img src=\"data:image/png;base64,iVBORw0KGgoAAAANSUhEUgAAABIAAAAPBAMAAAAbqIIhAAAAMFBMVEX///+YmJhmZmZERES6urrc\n",
       "3Nzu7u4QEBCIiIgyMjJUVFR2dnYiIiKqqqrMzMwAAAD8et6HAAAAAXRSTlMAQObYZgAAAGpJREFU\n",
       "CNdjYAABvr8MUMDzG8ba/wvK4Pv/B8ri3P8fyuph/58AZrD+4/zvAGYxKzD9FwCzxBk4/iuAGGx/\n",
       "GVj+G4BYXN/L6/8fALGuP0tL/f8BJFkLJM5/BRJRICX2QCfw/weauv7//38AzEYi08a6/oIAAAAA\n",
       "SUVORK5CYII=\n",
       "\" style=\"display:inline;vertical-align:middle;\" /></a></td></tr>\n",
       "<tr><td>2</td><td>Operation</td><td>operator:&nbsp;3<br>operands:&nbsp;4<br></td><td><a class=\"ProveItLink\" href=\"../796cc7a903e36c824c63b0385fea33432e7e1d880/expr.ipynb\"><img src=\"data:image/png;base64,iVBORw0KGgoAAAANSUhEUgAAAFYAAAAXBAMAAABjfKUNAAAAMFBMVEX////c3NyqqqqYmJhUVFR2\n",
       "dnbu7u66urrMzMxmZmZEREQQEBAyMjIiIiKIiIgAAAB7fvZ0AAAAAXRSTlMAQObYZgAAAVVJREFU\n",
       "KM9jYCACMM+rC+F71UCMUobkegNeB2YHXNKWBhC6NRBIiL1h4G9gnYBDaW4AjNWtACT8GLoZeEAM\n",
       "vjvn965EU/seiNnmvQQ6kfMAkLmD4RWDPDsDA0d9AVv8EzS10UDMW8B2g4GBdQMDA+MHoMlWrAwM\n",
       "Bs4MDExfsKh9y8DwBqKWfQHDDYauQAbmBCCHYQoWtVcYGOoFwGphgJMRFBZ5WNT+ZGDoV0BRm8ke\n",
       "gCUcgGoZvwLVPkBR28pkgEXtHKjaAAbmD0hq2bGo5dgOV8twEiGcxQFzA+PZuyBQAFTq3QB3AwPX\n",
       "YbhangQs8cy+A+o3oJ1XkdJQAEgtG5piH0iY6QuguJdhcR2QqE1AVRsLiYtYBpRwYGDxesZWtQxb\n",
       "HCuw7UBTy9B5/7c7lvBlYJv6pAFdLQP2uIAC6qq1RqSXA4TU5j6A54sCgtnRVAEpv0EBALg0Wgzh\n",
       "Og3MAAAAAElFTkSuQmCC\n",
       "\" style=\"display:inline;vertical-align:middle;\" /></a></td></tr>\n",
       "<tr><td>3</td><td>Literal</td><td></td><td><a class=\"ProveItLink\" href=\"../../../exponentiation/__pv_it/deb2bf23cbccdd6e6791e1b35b5b9794ce12dbd50/expr.ipynb\"><img src=\"data:image/png;base64,iVBORw0KGgoAAAANSUhEUgAAACgAAAASBAMAAADbMYGVAAAAMFBMVEX///8QEBAiIiKYmJjc3Nzu\n",
       "7u7MzMx2dnZmZma6urpERESqqqoyMjJUVFSIiIgAAAAoDOMTAAAAAXRSTlMAQObYZgAAAOBJREFU\n",
       "GNNjYGB4+//u3Tt/GNAASGAXmhjnPyDBgSbI/g1IxKEJ8nxgYGdgQRPkX8BgDKRY6q7s62OYvmze\n",
       "2wAgb/7ZO1+AVDiDkYEQQ0HTBr4DQF59AgOIKmB4z7CNbcNZBu6vQN55kEACQwDDLQYGVobfDHwg\n",
       "fb8YGBxYHwAZciD3fWXg+gB1JjvQcJZvQIXsCgz8F6DO9GBgMOH7wPCUgaeBwd4B7EwGNjUG7s9c\n",
       "AiwPgO5jkWRgiF3/9+5dfQUG1nWl5Y+B7pv+1gE9bBhqGLCAE1jEWH9jEbT5A3IwAC4sP/1L6Qlu\n",
       "AAAAAElFTkSuQmCC\n",
       "\" style=\"display:inline;vertical-align:middle;\" /></a></td></tr>\n",
       "<tr><td>4</td><td>ExprTuple</td><td>5, 6</td><td><a class=\"ProveItLink\" href=\"../7ba951b4427e750cbeebbb9072aaa148e7b18fb30/expr.ipynb\"><img src=\"data:image/png;base64,iVBORw0KGgoAAAANSUhEUgAAAHMAAAAVBAMAAACHwMySAAAAMFBMVEX////c3NwiIiJERESqqqqY\n",
       "mJh2dnZmZmYQEBDu7u4yMjJUVFTMzMyIiIi6uroAAAAs73DqAAAAAXRSTlMAQObYZgAAAdRJREFU\n",
       "OMuNlD9Iw0AUxr9qU3u2lu4iigVBVFDEUeji5GAnwUXjH3ASgqCb0MHNIpnESYsgoiA469JJBEGD\n",
       "DoJ1OAVFBLEu/hmsvpc2tWku4kEux3v55V6+710A36EtlO7Hk35PxCx1XHQ4q5OkNzvO0ylPF3sf\n",
       "CcOdbCoQvnSVAxqyXrSB4til66yIta8DdzKUBuqk6C6tPINe10T1apEUMKJAL4BrH3QUCJvAWJhL\n",
       "UKBdwEtcja4DT3QzmlkWy4u+A+dJNVqfxCJBxoMiR0DgjVCrGn3ua8nrz5ckecjANhDVhxQo6Wqj\n",
       "OrRCJagfWuJNBikQzGKV0XsFeiIdFDuVHpAJiC8wGkujSAX3HpdTga12HpLtzsApGPXbTpuIIoKf\n",
       "ttHRAqPYjSh2fcyVZCLfKn1lc20I6za6zB7ZqOlGI1nbnJF49bfSfnUGGWZywQMs9DhVFeusUbjN\n",
       "bokppyUET7TfpsRhIAUti1mOHA2aG/2mohGTIuOgm/QqtEpMAPsh25w7Dkfnv1ek11eIxXzOQddf\n",
       "WQBgGhi+ARolwnGfw/jbCOXVbW0javp/0ZQrPVc+dMqfRLpKVg8qONbsg4qeqr7io++2jr8zYPlt\n",
       "O/PHv4mE+gEXdYXiIgOfPgAAAABJRU5ErkJggg==\n",
       "\" style=\"display:inline;vertical-align:middle;\" /></a></td></tr>\n",
       "<tr><td>5</td><td>Operation</td><td>operator:&nbsp;7<br>operands:&nbsp;8<br></td><td><a class=\"ProveItLink\" href=\"../../../__pv_it/f53c16dfddf30d995333ded0545dcaa2e92165460/expr.ipynb\"><img src=\"data:image/png;base64,iVBORw0KGgoAAAANSUhEUgAAAEYAAAAVBAMAAAAJGoXuAAAAMFBMVEX////c3NyqqqqYmJhUVFR2\n",
       "dnbu7u66urrMzMxmZmZEREQQEBAyMjIiIiKIiIgAAAB7fvZ0AAAAAXRSTlMAQObYZgAAARJJREFU\n",
       "KM9jYMAOLA0gdGsgAy6QGwBjdSuASL475/euRFPzHojZ5r1sYGDgPABkctQXsMU/QVMTDcS8BWw3\n",
       "GBhYNwCZBs4MDExfsKh5y8DwBqKGOQGkcAoWNVcYGOoFwGo4GR2A/Dwsan4yMPQrgNVksgdg8RdQ\n",
       "DeNXoJoHYDWtTAZY1MyBqglgYP4AVMOORQ3HdrgahpMMDFkcMLsYz94FgQKgEu8GuF0MXIcZeBIc\n",
       "MM1h3wF1M9COq0C/B4DUsKEp8oH4XV8A7B6GxXVAojYBVU0sJAxjoeHM4vWMrWoZtrhQYNsBVcPQ\n",
       "ef+3O5bwYWCb+qQBpoYBexhCAWVqrOEscPrBng4fwNNhAc7EaqqASM8AyzhMtOBlY5MAAAAASUVO\n",
       "RK5CYII=\n",
       "\" style=\"display:inline;vertical-align:middle;\" /></a></td></tr>\n",
       "<tr><td>6</td><td>Variable</td><td></td><td><a class=\"ProveItLink\" href=\"../../../../__pv_it/78af03acba5349fd70398a32ce59bae1da52f0870/expr.ipynb\"><img src=\"data:image/png;base64,iVBORw0KGgoAAAANSUhEUgAAABIAAAAJBAMAAADN8WE8AAAAMFBMVEX////MzMyYmJgQEBBmZmYi\n",
       "IiLu7u4yMjKqqqp2dnZUVFTc3NxERESIiIi6uroAAABe5jFNAAAAAXRSTlMAQObYZgAAAFtJREFU\n",
       "CNdj4Luz++5KvrsnGBg4uWoZ8ucx9DMwvGM9wJB/AcRKyH/A0J/A4M7AAKJcGRgsgSwgL4SB7zcb\n",
       "iMf2j4GrYBMD9z8Gpg8M7BcmMPAZMHAeYOBYKwAAtXMYHwtZnY0AAAAASUVORK5CYII=\n",
       "\" style=\"display:inline;vertical-align:middle;\" /></a></td></tr>\n",
       "<tr><td>7</td><td>Literal</td><td></td><td><a class=\"ProveItLink\" href=\"../../../../logic/set_theory/subtraction/__pv_it/b31700f174a73058c701da19ea3d1b9009786dec0/expr.ipynb\"><img src=\"data:image/png;base64,iVBORw0KGgoAAAANSUhEUgAAAA4AAAACBAMAAACapPCZAAAAElBMVEX///+6uroiIiIyMjLc3NwA\n",
       "AAA6l9OrAAAAAXRSTlMAQObYZgAAABBJREFUCNdjcFYCAUUGKAAADR4BD8/TF5gAAAAASUVORK5C\n",
       "YII=\n",
       "\" style=\"display:inline;vertical-align:middle;\" /></a></td></tr>\n",
       "<tr><td>8</td><td>ExprTuple</td><td>9, 10</td><td><a class=\"ProveItLink\" href=\"../../../__pv_it/61e54a34dfd2a02e2ad56253ab2bd667c41567f50/expr.ipynb\"><img src=\"data:image/png;base64,iVBORw0KGgoAAAANSUhEUgAAAEMAAAAVBAMAAADvM06qAAAAMFBMVEX////c3NwiIiJERESqqqqY\n",
       "mJh2dnZmZmYQEBDu7u4yMjJUVFTMzMyIiIi6uroAAAAs73DqAAAAAXRSTlMAQObYZgAAAXVJREFU\n",
       "KM9tkrFLw0AUxr/apvZqErq7ODmo4FTELf+BmaqTxC66iE4dFKGIYylBB13ELCJOFoogDtJJCw4W\n",
       "F9EKxroJ0rqoIIjvvMv1qh68vHeXH/fe++4Bf9a0K/z5XHRiN3qJTS+K6g4wy4NLMmvkaH1C/ngg\n",
       "Y2s3NaA/ICOPQ8Bsh2ypKZEFsr6QjQHJIoWEWZTHPQYSnxpyDdxJJAekfBg+j1c1ZBRoZwSyAzxT\n",
       "vliF4l0NeQeuHIHEHRSAbdvTOiIk9kZIQyDJZeyTAAlXQ1Yk4sHo0DYRoEyIrSFmWSE44LIV8QVs\n",
       "md1E5klNJUKcUpgdjqT9SvcWuyTLpZuH8YNsAIbHESaZU9H0VEbUQomy5LIv9Gn5AsoL6fJSOiPA\n",
       "PLmB6i17msTekHoAh5Wgmm7x44vxjzMS8jVCWKFZk0g6RCrTLfUxQsSKHsDQlHX/QRbFMPQgM2rL\n",
       "54WRYVAdWWLq1BTWQ+qE1xH7NZjIOdrs3gPfDspoZopxsTIAAAAASUVORK5CYII=\n",
       "\" style=\"display:inline;vertical-align:middle;\" /></a></td></tr>\n",
       "<tr><td>9</td><td>Literal</td><td></td><td><a class=\"ProveItLink\" href=\"../../../sets/complex/__pv_it/c357845f93a5a2d9f649129d299e7ec28dda4b960/expr.ipynb\"><img src=\"data:image/png;base64,iVBORw0KGgoAAAANSUhEUgAAAA8AAAAOBAMAAAACpFvcAAAAMFBMVEX////c3NyqqqqYmJhUVFR2\n",
       "dnbu7u66urrMzMxmZmZEREQQEBAyMjIiIiKIiIgAAAB7fvZ0AAAAAXRSTlMAQObYZgAAAGVJREFU\n",
       "CNdjYGDgu3N+70oGBgaO+gK2+CdAhoEzAwPTFwYG5oQNQN4UBgZORgcgI4+BIZM9gAEMWpkMoAx2\n",
       "KCOLAyrFk+AAYTAHgBhsQLy4DkjUJjAwsHg9Y6taBpLsvP/bnYEBACkBFGQfBv8RAAAAAElFTkSu\n",
       "QmCC\n",
       "\" style=\"display:inline;vertical-align:middle;\" /></a></td></tr>\n",
       "<tr><td>10</td><td>Operation</td><td>operator:&nbsp;11<br>operands:&nbsp;12<br></td><td><a class=\"ProveItLink\" href=\"../../../__pv_it/155f9de08c11f74a8b2f21a18cf261503eec845b0/expr.ipynb\"><img src=\"data:image/png;base64,iVBORw0KGgoAAAANSUhEUgAAAB0AAAAVBAMAAABI7vhRAAAAMFBMVEX///9ERETc3NyqqqpUVFS6\n",
       "urrMzMwyMjIQEBCIiIh2dnYiIiLu7u5mZmaYmJgAAABJJ2g3AAAAAXRSTlMAQObYZgAAAKlJREFU\n",
       "GNNjYGDgu8cABmyrFEAUzy4GKGBrBpGcH4DE2ZnXgOR1EJ+rAUhsZTidwMCwAsbn3MDAWYDE53Zg\n",
       "YP2ExOe/wMD2GYmvv4CB7SeUz1sA4f9iYHgP4mcEwPnsFxgYUtoY4OoZxB8wMEQkQMz7B7RmAVCM\n",
       "pQBsH/MnqH6uDWD3gCi4fQybGU4gu5fh7Eo3BmQ+BGDl8yH4YP/z7ISHTyuY4luMFH4ALkg0pwDv\n",
       "EeQAAAAASUVORK5CYII=\n",
       "\" style=\"display:inline;vertical-align:middle;\" /></a></td></tr>\n",
       "<tr><td>11</td><td>Literal</td><td></td><td><a class=\"ProveItLink\" href=\"../../../../logic/set_theory/enumeration/__pv_it/07381ed5b23806e8d7914b78cb6667769e3708dd0/expr.ipynb\"><img src=\"data:image/png;base64,iVBORw0KGgoAAAANSUhEUgAAAB4AAAAOBAMAAADKyLEKAAAAMFBMVEX///8iIiIQEBCIiIjMzMzc\n",
       "3Nyqqqp2dnZEREQyMjK6urru7u5mZmZUVFSYmJgAAACI6eGPAAAAAXRSTlMAQObYZgAAALRJREFU\n",
       "CNdjYGDgu3Nm3wIGBJjHwN0PZW5yYGDgLWBgyITy8zcwMMQDxZyh/INAvD6BgcEFypcB4vjPDiBm\n",
       "TPFRrhs/LjMwMP//38rAwCbKEMPA9gEkE3fp0waG+AUMRxh4JkC01T9guPTOOICBEWgVH5C//wHD\n",
       "H5D4fqCz9oCMDGD4DLaegRXslLMMDMpAgxlOMmQxHDRgYG5gYLBk4D7KcIe7gOHC2rt9QCXsh40Z\n",
       "GCKMGQDRkC8N/Ph1XAAAAABJRU5ErkJggg==\n",
       "\" style=\"display:inline;vertical-align:middle;\" /></a></td></tr>\n",
       "<tr><td>12</td><td>ExprTuple</td><td>13</td><td><a class=\"ProveItLink\" href=\"../../../__pv_it/8cde6ffe899144c6848d9a2077064e6c1a6a14e60/expr.ipynb\"><img src=\"data:image/png;base64,iVBORw0KGgoAAAANSUhEUgAAABcAAAAVBAMAAABfzGiYAAAAMFBMVEX////c3NwiIiJERESqqqqY\n",
       "mJh2dnZmZmYQEBDu7u4yMjJUVFTMzMyIiIi6uroAAAAs73DqAAAAAXRSTlMAQObYZgAAALZJREFU\n",
       "GNNVjy0LwlAUhp+p010/xro/Qat9/0CTUYbFJJjWBINRxGhcMfgv1g0Oi6CGYbRo0iaeuy/whHN5\n",
       "4OG954W/saP0Hel1ADU/h9RCgT2UYtWFAFpineACQ7A20IGnwxYeYn7g6FJ28cF4C0RUZ+wy8KgE\n",
       "rAuwF3wLrfnSkAQMNCxJovuO1nokn47BDJgIlFy1QkffBZR/lSvrMZaTd5FzTC+HaVohGSUVaGfQ\n",
       "0L6R1b7BD+zrMIbuJsDxAAAAAElFTkSuQmCC\n",
       "\" style=\"display:inline;vertical-align:middle;\" /></a></td></tr>\n",
       "<tr><td>13</td><td>Literal</td><td></td><td><a class=\"ProveItLink\" href=\"../../../numeral/__pv_it/ec23fc7a1b4222a5f4948b495002b97d6fa18c3c0/expr.ipynb\"><img src=\"data:image/png;base64,iVBORw0KGgoAAAANSUhEUgAAAAoAAAAOBAMAAADkjZCYAAAALVBMVEX///8QEBCYmJh2dnaqqqrc\n",
       "3NxUVFQyMjK6uroiIiLMzMyIiIhmZmbu7u4AAAAZjyHdAAAAAXRSTlMAQObYZgAAAEpJREFUCNdj\n",
       "YLiz+xQDA8MMhpsLGLgnMHAXMHAmMHA8ZeA7wMD1hCHOgIHrNZh8jES+Bss+AqlkeQrSxTyBgWEK\n",
       "w8UFDAx3rLMYAMCjFldHSx/9AAAAAElFTkSuQmCC\n",
       "\" style=\"display:inline;vertical-align:middle;\" /></a></td></tr>\n",
       "</table>\n"
      ],
      "text/plain": [
       "0. (A , Complexes - {0}^{m})\n",
       "   core type: ExprTuple\n",
       "   sub-expressions: 1, 2\n",
       "1. A\n",
       "   core type: Variable\n",
       "   sub-expressions: \n",
       "2. Complexes - {0}^{m}\n",
       "   core type: Operation\n",
       "   operator: 3\n",
       "   operands: 4\n",
       "3. Exp\n",
       "   core type: Literal\n",
       "   sub-expressions: \n",
       "4. (Complexes - {0} , m)\n",
       "   core type: ExprTuple\n",
       "   sub-expressions: 5, 6\n",
       "5. Complexes - {0}\n",
       "   core type: Operation\n",
       "   operator: 7\n",
       "   operands: 8\n",
       "6. m\n",
       "   core type: Variable\n",
       "   sub-expressions: \n",
       "7. -\n",
       "   core type: Literal\n",
       "   sub-expressions: \n",
       "8. (Complexes , {0})\n",
       "   core type: ExprTuple\n",
       "   sub-expressions: 9, 10\n",
       "9. Complexes\n",
       "   core type: Literal\n",
       "   sub-expressions: \n",
       "10. {0}\n",
       "    core type: Operation\n",
       "    operator: 11\n",
       "    operands: 12\n",
       "11. Set\n",
       "    core type: Literal\n",
       "    sub-expressions: \n",
       "12. (0)\n",
       "    core type: ExprTuple\n",
       "    sub-expressions: 13\n",
       "13. 0\n",
       "    core type: Literal\n",
       "    sub-expressions: "
      ]
     },
     "execution_count": 4,
     "metadata": {},
     "output_type": "execute_result"
    }
   ],
   "source": [
    "# display the expression information\n",
    "expr.exprInfo()"
   ]
  },
  {
   "cell_type": "code",
   "execution_count": null,
   "metadata": {},
   "outputs": [],
   "source": []
  }
 ],
 "metadata": {
  "kernelspec": {
   "display_name": "Python 3",
   "language": "python",
   "name": "python3"
  }
 },
 "nbformat": 4,
 "nbformat_minor": 0
}
