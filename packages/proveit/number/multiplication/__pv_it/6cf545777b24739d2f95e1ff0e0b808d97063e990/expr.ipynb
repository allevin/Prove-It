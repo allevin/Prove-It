{
 "cells": [
  {
   "cell_type": "markdown",
   "metadata": {},
   "source": [
    "Expression of type <a class=\"ProveItLink\" href=\"../../../../../../doc/html/api/proveit.ExprTuple.html\">ExprTuple</a>\n",
    "=======================\n",
    "# from context <a class=\"ProveItLink\" href=\"../../_context_.ipynb\">proveit.number.multiplication</a>"
   ]
  },
  {
   "cell_type": "code",
   "execution_count": 1,
   "metadata": {},
   "outputs": [],
   "source": [
    "# import Expression classes needed to build the expression\n",
    "from proveit import ExprTuple\n",
    "from proveit._common_ import BB, S, m\n",
    "from proveit.number import Exp"
   ]
  },
  {
   "cell_type": "code",
   "execution_count": 2,
   "metadata": {},
   "outputs": [
    {
     "data": {
      "text/html": [
       "<strong id=\"expr\">expr:</strong> <a class=\"ProveItLink\" href=\"expr.ipynb\"><img src=\"data:image/png;base64,iVBORw0KGgoAAAANSUhEUgAAAEYAAAAVBAMAAAAJGoXuAAAAMFBMVEX////c3NwiIiJERESqqqqY\n",
       "mJh2dnZmZmYQEBDu7u4yMjJUVFTMzMyIiIi6uroAAAAs73DqAAAAAXRSTlMAQObYZgAAAYZJREFU\n",
       "KM99kj9Iw0AUxr+oSWvbpF3FIbordtC5nZ0CbhZsnRxcnBRBwcGlKFYpBXVRBAcdNCK4iBhwER0a\n",
       "6CaCfyYRxL/FWsXzXZPIhWoPLpf33Y977313wD9Dnn4YVUuWE2g2kGA05iyRKTwaTaZsQr6m4Jxm\n",
       "6252ZSnx5e2nJiaH2i4QtZQxYIqELa6yOKC/u0jIQP4JRzhFKEkRoFIqRBh99U+XOQBa1jGPEnSN\n",
       "CssguEiqyqiWdNlBJMoZsSV+0oBCdczgnsvNjD49624Tb8RYWhxdOBmmuBfjXI5WgTMvlcQufS6M\n",
       "YJMvxcr2RiXpiVfsNSYw/VjgS5qOz1c9UUrlsgJzh2++HH9QGSzzKytlgSk6TK6DM6ajGdSLn5mt\n",
       "VUl+Ktwj7jn9S8++XH38/hjVq7/QPmr2IWAKzCB1BoRZDIVcJ7BGOQPdIId9vd+SO/zWK/zAZcoR\n",
       "1g73DZHZQVC0Ajf1D4nuQs6IglHPKLb7NhowqzTbhVj949HucXNsNBqqhR8XcHJwWrYIxQAAAABJ\n",
       "RU5ErkJggg==\n",
       "\" style=\"display:inline;vertical-align:middle;\" /></a><br>"
      ],
      "text/plain": [
       "expr: (B , S^{m})"
      ]
     },
     "execution_count": 2,
     "metadata": {},
     "output_type": "execute_result"
    }
   ],
   "source": [
    "# build up the expression from sub-expressions\n",
    "expr = ExprTuple(BB, Exp(S, m))"
   ]
  },
  {
   "cell_type": "code",
   "execution_count": 3,
   "metadata": {},
   "outputs": [
    {
     "name": "stdout",
     "output_type": "stream",
     "text": [
      "Passed sanity check: built 'expr' is the same as the stored Expression.\n"
     ]
    }
   ],
   "source": [
    "# check that the built expression is the same as the stored expression\n",
    "%check_expr"
   ]
  },
  {
   "cell_type": "code",
   "execution_count": 4,
   "metadata": {},
   "outputs": [
    {
     "data": {
      "text/html": [
       "<table><tr><th>&nbsp;</th><th>core type</th><th>sub-expressions</th><th>expression</th></tr>\n",
       "<tr><td>0</td><td>ExprTuple</td><td>1, 2</td><td><a class=\"ProveItLink\" href=\"expr.ipynb\"><img src=\"data:image/png;base64,iVBORw0KGgoAAAANSUhEUgAAAEYAAAAVBAMAAAAJGoXuAAAAMFBMVEX////c3NwiIiJERESqqqqY\n",
       "mJh2dnZmZmYQEBDu7u4yMjJUVFTMzMyIiIi6uroAAAAs73DqAAAAAXRSTlMAQObYZgAAAYZJREFU\n",
       "KM99kj9Iw0AUxr+oSWvbpF3FIbordtC5nZ0CbhZsnRxcnBRBwcGlKFYpBXVRBAcdNCK4iBhwER0a\n",
       "6CaCfyYRxL/FWsXzXZPIhWoPLpf33Y977313wD9Dnn4YVUuWE2g2kGA05iyRKTwaTaZsQr6m4Jxm\n",
       "6252ZSnx5e2nJiaH2i4QtZQxYIqELa6yOKC/u0jIQP4JRzhFKEkRoFIqRBh99U+XOQBa1jGPEnSN\n",
       "CssguEiqyqiWdNlBJMoZsSV+0oBCdczgnsvNjD49624Tb8RYWhxdOBmmuBfjXI5WgTMvlcQufS6M\n",
       "YJMvxcr2RiXpiVfsNSYw/VjgS5qOz1c9UUrlsgJzh2++HH9QGSzzKytlgSk6TK6DM6ajGdSLn5mt\n",
       "VUl+Ktwj7jn9S8++XH38/hjVq7/QPmr2IWAKzCB1BoRZDIVcJ7BGOQPdIId9vd+SO/zWK/zAZcoR\n",
       "1g73DZHZQVC0Ajf1D4nuQs6IglHPKLb7NhowqzTbhVj949HucXNsNBqqhR8XcHJwWrYIxQAAAABJ\n",
       "RU5ErkJggg==\n",
       "\" style=\"display:inline;vertical-align:middle;\" /></a></td></tr>\n",
       "<tr><td>1</td><td>Variable</td><td></td><td><a class=\"ProveItLink\" href=\"../../../../__pv_it/a275d402e75fbbde925e8ebdcbfd239a2138849c0/expr.ipynb\"><img src=\"data:image/png;base64,iVBORw0KGgoAAAANSUhEUgAAABIAAAAPBAMAAAAbqIIhAAAAMFBMVEX///92dna6urqqqqoiIiKY\n",
       "mJiIiIhmZmbc3NwyMjLu7u7MzMxUVFQQEBBEREQAAAA0CE+eAAAAAXRSTlMAQObYZgAAAIdJREFU\n",
       "CNdjYGB4/x8I7mxgYGDgmn9r1Yr3v4Eshv8PGBj6vwMZ3P8TgKw/QBbbf6Ca+K9AFt9/IOE/AUjw\n",
       "/2Rg2AmSZNj/d+aUvwYgVvxnBoZ1P0Gs878YGJj+CwBZ9x1ArAMMDBz/CxgYGEFmsv4Hqu7/ApTk\n",
       "+d/AsPS+B9A0kEv+PmVgAADmSjTeJ9tS4QAAAABJRU5ErkJggg==\n",
       "\" style=\"display:inline;vertical-align:middle;\" /></a></td></tr>\n",
       "<tr><td>2</td><td>Operation</td><td>operator:&nbsp;3<br>operands:&nbsp;4<br></td><td><a class=\"ProveItLink\" href=\"../ec8fbdfa06dfbcabe782577b45317ef56f61b8ae0/expr.ipynb\"><img src=\"data:image/png;base64,iVBORw0KGgoAAAANSUhEUgAAABsAAAAQBAMAAAAVPRmlAAAAMFBMVEX///8iIiIQEBCIiIjMzMzc\n",
       "3Nyqqqp2dnZEREQyMjK6urru7u5mZmZUVFSYmJgAAACI6eGPAAAAAXRSTlMAQObYZgAAAJdJREFU\n",
       "CNdjYICAN1bmF4xboBwG7lf/GGQZ3oKYfHfO7Fu6eQLDF4YaEHceA3c/A68BiwLDNCCPt4CBIZOB\n",
       "yYG5gfXDAgaGeAcGBmeGeKA8XwNQZn0CA4MLwwoGRgeW9gCg7GcHBiTA/P9/KzI/7tKnDch8hvoH\n",
       "cCYfEO9HcPcAcXwAnJsJxGcR+g4aMDA3ILgX1t7tQ/AAdmwno7HSuVIAAAAASUVORK5CYII=\n",
       "\" style=\"display:inline;vertical-align:middle;\" /></a></td></tr>\n",
       "<tr><td>3</td><td>Literal</td><td></td><td><a class=\"ProveItLink\" href=\"../../../exponentiation/__pv_it/deb2bf23cbccdd6e6791e1b35b5b9794ce12dbd50/expr.ipynb\"><img src=\"data:image/png;base64,iVBORw0KGgoAAAANSUhEUgAAACgAAAASBAMAAADbMYGVAAAAMFBMVEX///8QEBAiIiKYmJjc3Nzu\n",
       "7u7MzMx2dnZmZma6urpERESqqqoyMjJUVFSIiIgAAAAoDOMTAAAAAXRSTlMAQObYZgAAAOBJREFU\n",
       "GNNjYGB4+//u3Tt/GNAASGAXmhjnPyDBgSbI/g1IxKEJ8nxgYGdgQRPkX8BgDKRY6q7s62OYvmze\n",
       "2wAgb/7ZO1+AVDiDkYEQQ0HTBr4DQF59AgOIKmB4z7CNbcNZBu6vQN55kEACQwDDLQYGVobfDHwg\n",
       "fb8YGBxYHwAZciD3fWXg+gB1JjvQcJZvQIXsCgz8F6DO9GBgMOH7wPCUgaeBwd4B7EwGNjUG7s9c\n",
       "AiwPgO5jkWRgiF3/9+5dfQUG1nWl5Y+B7pv+1gE9bBhqGLCAE1jEWH9jEbT5A3IwAC4sP/1L6Qlu\n",
       "AAAAAElFTkSuQmCC\n",
       "\" style=\"display:inline;vertical-align:middle;\" /></a></td></tr>\n",
       "<tr><td>4</td><td>ExprTuple</td><td>5, 6</td><td><a class=\"ProveItLink\" href=\"../28a5bc8571a142f99d725fb2f896e13620266f300/expr.ipynb\"><img src=\"data:image/png;base64,iVBORw0KGgoAAAANSUhEUgAAADQAAAAVBAMAAAD7ptBLAAAAMFBMVEX////c3NwiIiJERESqqqqY\n",
       "mJh2dnZmZmYQEBDu7u4yMjJUVFTMzMyIiIi6uroAAAAs73DqAAAAAXRSTlMAQObYZgAAATBJREFU\n",
       "KM9jYMAD+C5gE2V9ACROg1jR5ZVxqHI1QLwSiLkCGCZ/QJXiYmDgBZm3jYGBZQGaiQkMHBMYGBj/\n",
       "MDDwoFnJ2cDwCuSSL0CpA2gOMWEoA5KM/+/AnHtZ8O42vrsmQGY6w1KQyP3/nwXAUmzcaxnm5zH4\n",
       "A5leDH0gEcbo/k6w1DsmA4b5F8BSLxj+QUxi+wqmJsx/wOA/gaEKyDwPlgoAOggiBRIvYmBoA0u1\n",
       "AIULgEZ+hEgB1asz8H3kBBloCvEt+waGCSCpNgbOfwzcC0QZGKKAbmRg12VguMzA+Qnknn8MrB8Y\n",
       "uC4kgBz/iIGBm2/35gAGzn6g+/kaGNgMGFj2Av2/joFDAB47AmgBBQxGWICihBPbBUikYJGaBcTS\n",
       "MA5q0G8EOQprAuA9wAAA06BJEXYPJMMAAAAASUVORK5CYII=\n",
       "\" style=\"display:inline;vertical-align:middle;\" /></a></td></tr>\n",
       "<tr><td>5</td><td>Variable</td><td></td><td><a class=\"ProveItLink\" href=\"../../../../__pv_it/abeee18594afe51bfb1be95d9591fbba24ac53f30/expr.ipynb\"><img src=\"data:image/png;base64,iVBORw0KGgoAAAANSUhEUgAAAA0AAAAOBAMAAAAGUYvhAAAAMFBMVEX///8iIiIQEBCIiIjMzMzc\n",
       "3Nyqqqp2dnZEREQyMjK6urru7u5mZmZUVFSYmJgAAACI6eGPAAAAAXRSTlMAQObYZgAAAF1JREFU\n",
       "CNdjYGDgu3Nm3wIGBoZ5DNz9QIq3gIEhE0jHOzAwOAPp9QkMDC4g/megABAw///fCmbEXfq0Acxg\n",
       "qH8ANAVI7wfSe0BKAyBGnAXigwYMzA1A+sLau31ACgAz0hhbkhGHbwAAAABJRU5ErkJggg==\n",
       "\" style=\"display:inline;vertical-align:middle;\" /></a></td></tr>\n",
       "<tr><td>6</td><td>Variable</td><td></td><td><a class=\"ProveItLink\" href=\"../../../../__pv_it/78af03acba5349fd70398a32ce59bae1da52f0870/expr.ipynb\"><img src=\"data:image/png;base64,iVBORw0KGgoAAAANSUhEUgAAABIAAAAJBAMAAADN8WE8AAAAMFBMVEX////MzMyYmJgQEBBmZmYi\n",
       "IiLu7u4yMjKqqqp2dnZUVFTc3NxERESIiIi6uroAAABe5jFNAAAAAXRSTlMAQObYZgAAAFtJREFU\n",
       "CNdj4Luz++5KvrsnGBg4uWoZ8ucx9DMwvGM9wJB/AcRKyH/A0J/A4M7AAKJcGRgsgSwgL4SB7zcb\n",
       "iMf2j4GrYBMD9z8Gpg8M7BcmMPAZMHAeYOBYKwAAtXMYHwtZnY0AAAAASUVORK5CYII=\n",
       "\" style=\"display:inline;vertical-align:middle;\" /></a></td></tr>\n",
       "</table>\n"
      ],
      "text/plain": [
       "0. (B , S^{m})\n",
       "   core type: ExprTuple\n",
       "   sub-expressions: 1, 2\n",
       "1. B\n",
       "   core type: Variable\n",
       "   sub-expressions: \n",
       "2. S^{m}\n",
       "   core type: Operation\n",
       "   operator: 3\n",
       "   operands: 4\n",
       "3. Exp\n",
       "   core type: Literal\n",
       "   sub-expressions: \n",
       "4. (S , m)\n",
       "   core type: ExprTuple\n",
       "   sub-expressions: 5, 6\n",
       "5. S\n",
       "   core type: Variable\n",
       "   sub-expressions: \n",
       "6. m\n",
       "   core type: Variable\n",
       "   sub-expressions: "
      ]
     },
     "execution_count": 4,
     "metadata": {},
     "output_type": "execute_result"
    }
   ],
   "source": [
    "# display the expression information\n",
    "expr.exprInfo()"
   ]
  },
  {
   "cell_type": "code",
   "execution_count": null,
   "metadata": {},
   "outputs": [],
   "source": []
  }
 ],
 "metadata": {
  "kernelspec": {
   "display_name": "Python 3",
   "language": "python",
   "name": "python3"
  }
 },
 "nbformat": 4,
 "nbformat_minor": 0
}
