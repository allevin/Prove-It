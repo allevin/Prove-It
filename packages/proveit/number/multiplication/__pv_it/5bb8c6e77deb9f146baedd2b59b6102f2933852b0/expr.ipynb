{
 "cells": [
  {
   "cell_type": "markdown",
   "metadata": {},
   "source": [
    "Expression of type <a class=\"ProveItLink\" href=\"../../../../../../doc/html/api/proveit.logic.Equals.html\">Equals</a>\n",
    "=======================\n",
    "# from context <a class=\"ProveItLink\" href=\"../../_context_.ipynb\">proveit.number.multiplication</a>"
   ]
  },
  {
   "cell_type": "code",
   "execution_count": 1,
   "metadata": {},
   "outputs": [],
   "source": [
    "# import Expression classes needed to build the expression\n",
    "from proveit._common_ import x\n",
    "from proveit.logic import Equals\n",
    "from proveit.number import Mult, zero"
   ]
  },
  {
   "cell_type": "code",
   "execution_count": 2,
   "metadata": {},
   "outputs": [
    {
     "data": {
      "text/html": [
       "<strong id=\"expr\">expr:</strong> <a class=\"ProveItLink\" href=\"expr.ipynb\"><img src=\"data:image/png;base64,iVBORw0KGgoAAAANSUhEUgAAAFkAAAAVBAMAAADfv1+LAAAAMFBMVEX////c3NwiIiJERESqqqqY\n",
       "mJh2dnZmZmYQEBDu7u4yMjJUVFTMzMyIiIi6uroAAAAs73DqAAAAAXRSTlMAQObYZgAAATFJREFU\n",
       "KM9jYCAN8F3AIhiHS/VpND5n7fUDDOwHGLAJMzCsRBNmesCpw8CwgAGrMC+6Qy4xMNxiYAhjwCrM\n",
       "MQFNWJuB4b0AwwwGrMKv0IW/MzCcd2BgdsAqXAZkid0WuQ5zEOM3oPAFBrYCVMVQ4aVA7yawqnIo\n",
       "IAsnMLCAvVm1CgRWI4T7GBjYGHg/sICCh3MCXJivAYvZCQz/gIoYuA3AQvMV4FbyfMDqkn8gNgfE\n",
       "1TMMoN4JwFANFW4BMeUPMExACip/AahLipRAQBkhbMrAwCpwn4F3AlI0JAHFFmDGDlA4HagnwIJB\n",
       "FhHFDpw9DBghCBV+xMAw+dq03ABE8im7DQwfrgfoqQoszCGANWXOwJ5gWROwCufiSN8rsQlyLsCh\n",
       "WhqbILcADtWM2HLaHexqASYVXaPv+iKeAAAAAElFTkSuQmCC\n",
       "\" style=\"display:inline;vertical-align:middle;\" /></a><br>"
      ],
      "text/plain": [
       "expr: (x * 0) = 0"
      ]
     },
     "execution_count": 2,
     "metadata": {},
     "output_type": "execute_result"
    }
   ],
   "source": [
    "# build up the expression from sub-expressions\n",
    "expr = Equals(Mult(x, zero), zero)"
   ]
  },
  {
   "cell_type": "code",
   "execution_count": 3,
   "metadata": {},
   "outputs": [
    {
     "name": "stdout",
     "output_type": "stream",
     "text": [
      "Passed sanity check: built 'expr' is the same as the stored Expression.\n"
     ]
    }
   ],
   "source": [
    "# check that the built expression is the same as the stored expression\n",
    "%check_expr"
   ]
  },
  {
   "cell_type": "code",
   "execution_count": 4,
   "metadata": {},
   "outputs": [
    {
     "data": {
      "text/html": [
       "<table><tr><th>&nbsp;</th><th>core type</th><th>sub-expressions</th><th>expression</th></tr>\n",
       "<tr><td>0</td><td>Operation</td><td>operator:&nbsp;1<br>operands:&nbsp;2<br></td><td><a class=\"ProveItLink\" href=\"expr.ipynb\"><img src=\"data:image/png;base64,iVBORw0KGgoAAAANSUhEUgAAAFkAAAAVBAMAAADfv1+LAAAAMFBMVEX////c3NwiIiJERESqqqqY\n",
       "mJh2dnZmZmYQEBDu7u4yMjJUVFTMzMyIiIi6uroAAAAs73DqAAAAAXRSTlMAQObYZgAAATFJREFU\n",
       "KM9jYCAN8F3AIhiHS/VpND5n7fUDDOwHGLAJMzCsRBNmesCpw8CwgAGrMC+6Qy4xMNxiYAhjwCrM\n",
       "MQFNWJuB4b0AwwwGrMKv0IW/MzCcd2BgdsAqXAZkid0WuQ5zEOM3oPAFBrYCVMVQ4aVA7yawqnIo\n",
       "IAsnMLCAvVm1CgRWI4T7GBjYGHg/sICCh3MCXJivAYvZCQz/gIoYuA3AQvMV4FbyfMDqkn8gNgfE\n",
       "1TMMoN4JwFANFW4BMeUPMExACip/AahLipRAQBkhbMrAwCpwn4F3AlI0JAHFFmDGDlA4HagnwIJB\n",
       "FhHFDpw9DBghCBV+xMAw+dq03ABE8im7DQwfrgfoqQoszCGANWXOwJ5gWROwCufiSN8rsQlyLsCh\n",
       "WhqbILcADtWM2HLaHexqASYVXaPv+iKeAAAAAElFTkSuQmCC\n",
       "\" style=\"display:inline;vertical-align:middle;\" /></a></td></tr>\n",
       "<tr><td>1</td><td>Literal</td><td></td><td><a class=\"ProveItLink\" href=\"../../../../logic/equality/__pv_it/2fb26078095930560931daa0500ce419a39ea6cd0/expr.ipynb\"><img src=\"data:image/png;base64,iVBORw0KGgoAAAANSUhEUgAAAA4AAAAFBAMAAACHocAhAAAAFVBMVEX///9EREQiIiJUVFQyMjJm\n",
       "ZmYAAADubVkoAAAAAXRSTlMAQObYZgAAABRJREFUCNdjCHEBAWcGXCBICQQUAUpuAwlgGKrkAAAA\n",
       "AElFTkSuQmCC\n",
       "\" style=\"display:inline;vertical-align:middle;\" /></a></td></tr>\n",
       "<tr><td>2</td><td>ExprTuple</td><td>3, 7</td><td><a class=\"ProveItLink\" href=\"../24387cf6fae2115e3be83723daf0e047d976b3160/expr.ipynb\"><img src=\"data:image/png;base64,iVBORw0KGgoAAAANSUhEUgAAAEUAAAAVBAMAAADiLT7tAAAAMFBMVEX////c3NwiIiJERESqqqqY\n",
       "mJh2dnZmZmYQEBDu7u4yMjJUVFTMzMyIiIi6uroAAAAs73DqAAAAAXRSTlMAQObYZgAAASFJREFU\n",
       "KM9jYCAG8F3AKx0HIk6jCXLWXj+AxGIHcVaiqWF6wKmDzFrAwMCLbtUlBoZbyKwwBgaOCWhqtBkY\n",
       "3gsgsWYwMLxCd+R3BobzDkgsZgeGMiBH7LbIdZiVjN+AMheQWGwFDEuB7k9gVeVQQFaTgMRiWcDQ\n",
       "x8DAxsD7gQXkRc4JWNTwNTD8A0oxcBuAzZivgMUung8gNUDPQVwzwwDq0gC4mwNAalpAPPkDDBOQ\n",
       "/O4vgMQC2mXKwMAqcJ+BdwJSGCYBrYexGFgXMKQDFQdYMMgi4sKBswfsMggL5PdHDAyTr03LDUDE\n",
       "adntAwwzPsJYDFwPGDgEsCaJh3AWMC5YE7CqQZibiyVtoKnhBKYNBmlsSnjhLG6QWxjxp9U7DAwA\n",
       "aa5bzC+qgO8AAAAASUVORK5CYII=\n",
       "\" style=\"display:inline;vertical-align:middle;\" /></a></td></tr>\n",
       "<tr><td>3</td><td>Operation</td><td>operator:&nbsp;4<br>operands:&nbsp;5<br></td><td><a class=\"ProveItLink\" href=\"../e314ee297f6be803427c965dbc9fb6dc70ec0c1c0/expr.ipynb\"><img src=\"data:image/png;base64,iVBORw0KGgoAAAANSUhEUgAAACUAAAAOBAMAAABa28jFAAAAMFBMVEX///8yMjK6urpERETMzMwQ\n",
       "EBAiIiKYmJju7u5mZmaqqqpUVFSIiIh2dnbc3NwAAADpJKkdAAAAAXRSTlMAQObYZgAAAJJJREFU\n",
       "GNNjYEABHHNOOjCgATYFjhR0sWMMDAfRxbIZGPQfoIn9ZGDwX8DA8Pb0q5MHoEJ8f4FiBxg4LrCn\n",
       "syYgi11g4GXg+cAFsp+jAS7GwcBtAFbTnwDXy8DACjGt1QBqRwGQfu/A0IDklvUPGNgfnGfgaUBy\n",
       "8zWgcIEpwxuE3xZwhDAwNJ/tvVOACIO5px0YAHKDK2jznY6HAAAAAElFTkSuQmCC\n",
       "\" style=\"display:inline;vertical-align:middle;\" /></a></td></tr>\n",
       "<tr><td>4</td><td>Literal</td><td></td><td><a class=\"ProveItLink\" href=\"../21fd2079611555ecce512d99547a00d551e6b86b0/expr.ipynb\"><img src=\"data:image/png;base64,iVBORw0KGgoAAAANSUhEUgAAAAMAAAADBAMAAACkBqiMAAAAElBMVEX///9EREQQEBAiIiLu7u4A\n",
       "AABGBidwAAAAAXRSTlMAQObYZgAAABFJREFUCNdjYHFgcDVgcBIAAASWAQx4jI0xAAAAAElFTkSu\n",
       "QmCC\n",
       "\" style=\"display:inline;vertical-align:middle;\" /></a></td></tr>\n",
       "<tr><td>5</td><td>ExprTuple</td><td>6, 7</td><td><a class=\"ProveItLink\" href=\"../b58230362316c99193bfc03c9103bdf2cadec5110/expr.ipynb\"><img src=\"data:image/png;base64,iVBORw0KGgoAAAANSUhEUgAAACsAAAAVBAMAAAAtAwouAAAAMFBMVEX////c3NwiIiJERESqqqqY\n",
       "mJh2dnZmZmYQEBDu7u4yMjJUVFTMzMyIiIi6uroAAAAs73DqAAAAAXRSTlMAQObYZgAAAQhJREFU\n",
       "GNNjYMAB+C6gi8SBiNPIIpy11w8wsB8AslYiCzM94NRhYFjAwMCLYsYlBoZbDAxhDAwcE5CFtRkY\n",
       "3gswzGBgeIVi23cGhvMODMwODGVAjthtketgsxi/AYUvMLAVMCwFWp/AqsqhABdOYGBZwNDHwMDG\n",
       "wPuB5QCSMF8Dwz+gagZuA4jRUEN4PoCEgc65gGRlAEi4BcSTP8AwAeZAfwGQIaYMDKwC9xl4J4Al\n",
       "gN5JAgosYEgHygdYMMgycH4Ced6Bs4cB5MBHDAyTr03LDWDg7BcA2l52G+gkrgcMHALwEIazgJ5n\n",
       "TYBxWOFBkIscsHBhTmDAMkjDePAQ5gaZxogRaXcYGACUckCr9X7ZnwAAAABJRU5ErkJggg==\n",
       "\" style=\"display:inline;vertical-align:middle;\" /></a></td></tr>\n",
       "<tr><td>6</td><td>Variable</td><td></td><td><a class=\"ProveItLink\" href=\"../../../../__pv_it/530be409e3083890784cf1d7b28c9e67e90af9360/expr.ipynb\"><img src=\"data:image/png;base64,iVBORw0KGgoAAAANSUhEUgAAAAsAAAAJBAMAAAAWSsseAAAAKlBMVEX///9ERETMzMwQEBAiIiKY\n",
       "mJju7u5mZmaqqqpUVFSIiIh2dnbc3NwAAAA/vyDhAAAAAXRSTlMAQObYZgAAAENJREFUCNdjYDi9\n",
       "8sTyBQxsG1hdmR0YuBm4LnAoMLAxcAowgADzAjB1VoEhgYH1wFoGrgSG3gBhhlMMDImrs3cFMAAA\n",
       "t0YN+iTRa+sAAAAASUVORK5CYII=\n",
       "\" style=\"display:inline;vertical-align:middle;\" /></a></td></tr>\n",
       "<tr><td>7</td><td>Literal</td><td></td><td><a class=\"ProveItLink\" href=\"../../../numeral/__pv_it/ec23fc7a1b4222a5f4948b495002b97d6fa18c3c0/expr.ipynb\"><img src=\"data:image/png;base64,iVBORw0KGgoAAAANSUhEUgAAAAoAAAAOBAMAAADkjZCYAAAALVBMVEX///8QEBCYmJh2dnaqqqrc\n",
       "3NxUVFQyMjK6uroiIiLMzMyIiIhmZmbu7u4AAAAZjyHdAAAAAXRSTlMAQObYZgAAAEpJREFUCNdj\n",
       "YLiz+xQDA8MMhpsLGLgnMHAXMHAmMHA8ZeA7wMD1hCHOgIHrNZh8jES+Bss+AqlkeQrSxTyBgWEK\n",
       "w8UFDAx3rLMYAMCjFldHSx/9AAAAAElFTkSuQmCC\n",
       "\" style=\"display:inline;vertical-align:middle;\" /></a></td></tr>\n",
       "</table>\n"
      ],
      "text/plain": [
       "0. (x * 0) = 0\n",
       "   core type: Operation\n",
       "   operator: 1\n",
       "   operands: 2\n",
       "1. =\n",
       "   core type: Literal\n",
       "   sub-expressions: \n",
       "2. (x * 0 , 0)\n",
       "   core type: ExprTuple\n",
       "   sub-expressions: 3, 7\n",
       "3. x * 0\n",
       "   core type: Operation\n",
       "   operator: 4\n",
       "   operands: 5\n",
       "4. *\n",
       "   core type: Literal\n",
       "   sub-expressions: \n",
       "5. (x , 0)\n",
       "   core type: ExprTuple\n",
       "   sub-expressions: 6, 7\n",
       "6. x\n",
       "   core type: Variable\n",
       "   sub-expressions: \n",
       "7. 0\n",
       "   core type: Literal\n",
       "   sub-expressions: "
      ]
     },
     "execution_count": 4,
     "metadata": {},
     "output_type": "execute_result"
    }
   ],
   "source": [
    "# display the expression information\n",
    "expr.exprInfo()"
   ]
  },
  {
   "cell_type": "code",
   "execution_count": null,
   "metadata": {},
   "outputs": [],
   "source": []
  }
 ],
 "metadata": {
  "kernelspec": {
   "display_name": "Python 3",
   "language": "python",
   "name": "python3"
  }
 },
 "nbformat": 4,
 "nbformat_minor": 0
}
