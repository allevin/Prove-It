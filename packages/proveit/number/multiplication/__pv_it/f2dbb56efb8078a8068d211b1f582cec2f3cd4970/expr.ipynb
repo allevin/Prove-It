{
 "cells": [
  {
   "cell_type": "markdown",
   "metadata": {},
   "source": [
    "Expression of type <a class=\"ProveItLink\" href=\"../../../../../../doc/html/api/proveit.Indexed.html\">Indexed</a>\n",
    "=======================\n",
    "# from context <a class=\"ProveItLink\" href=\"../../_context_.ipynb\">proveit.number.multiplication</a>"
   ]
  },
  {
   "cell_type": "code",
   "execution_count": 1,
   "metadata": {},
   "outputs": [],
   "source": [
    "# import Expression classes needed to build the expression\n",
    "from proveit import Indexed, Variable\n",
    "from proveit._common_ import BB"
   ]
  },
  {
   "cell_type": "code",
   "execution_count": 2,
   "metadata": {},
   "outputs": [
    {
     "data": {
      "text/html": [
       "<strong id=\"expr\">expr:</strong> <a class=\"ProveItLink\" href=\"expr.ipynb\"><img src=\"data:image/png;base64,iVBORw0KGgoAAAANSUhEUgAAADEAAAASBAMAAAAAiiu3AAAAMFBMVEX///92dna6urqqqqoiIiKY\n",
       "mJiIiIhmZmbc3NwyMjLu7u7MzMxUVFQQEBBEREQAAAA0CE+eAAAAAXRSTlMAQObYZgAAALtJREFU\n",
       "GNNjYGB4/x8I7mxgwARc82+tWvH+NxYZhv8PGBj6v2OR4P6fAJT5g0WG7T/QjvivWGT4/gMJ/wlY\n",
       "ZPh/MjDsxGYYw/6/M6f8NcAmE/+ZgWHdT2wy538xMDD9F8Aic98BJHMAU4LjfwEDAyPIT2AgdigH\n",
       "FlCs/4G293+B8hgXnOOFuYbnfwPD0vseUB4Tw1S4b0Ah/fcpwvQfDDgA9wVu7BL7GScwYkRTeXl5\n",
       "McO65DIphuVApgEAqntCA9kDzGsAAAAASUVORK5CYII=\n",
       "\" style=\"display:inline;vertical-align:middle;\" /></a><br>"
      ],
      "text/plain": [
       "expr: B__x_"
      ]
     },
     "execution_count": 2,
     "metadata": {},
     "output_type": "execute_result"
    }
   ],
   "source": [
    "# build up the expression from sub-expressions\n",
    "expr = Indexed(BB, Variable(\"_x_\", latexFormat = r\"{_{-}x_{-}}\"), base = 1)"
   ]
  },
  {
   "cell_type": "code",
   "execution_count": 3,
   "metadata": {},
   "outputs": [
    {
     "name": "stdout",
     "output_type": "stream",
     "text": [
      "Passed sanity check: built 'expr' is the same as the stored Expression.\n"
     ]
    }
   ],
   "source": [
    "# check that the built expression is the same as the stored expression\n",
    "%check_expr"
   ]
  },
  {
   "cell_type": "code",
   "execution_count": 4,
   "metadata": {},
   "outputs": [
    {
     "data": {
      "text/html": [
       "<table><tr><th>&nbsp;</th><th>core type</th><th>sub-expressions</th><th>expression</th></tr>\n",
       "<tr><td>0</td><td>Indexed</td><td>var:&nbsp;1<br>index:&nbsp;2<br>base:&nbsp;\"1\"<br></td><td><a class=\"ProveItLink\" href=\"expr.ipynb\"><img src=\"data:image/png;base64,iVBORw0KGgoAAAANSUhEUgAAADEAAAASBAMAAAAAiiu3AAAAMFBMVEX///92dna6urqqqqoiIiKY\n",
       "mJiIiIhmZmbc3NwyMjLu7u7MzMxUVFQQEBBEREQAAAA0CE+eAAAAAXRSTlMAQObYZgAAALtJREFU\n",
       "GNNjYGB4/x8I7mxgwARc82+tWvH+NxYZhv8PGBj6v2OR4P6fAJT5g0WG7T/QjvivWGT4/gMJ/wlY\n",
       "ZPh/MjDsxGYYw/6/M6f8NcAmE/+ZgWHdT2wy538xMDD9F8Aic98BJHMAU4LjfwEDAyPIT2AgdigH\n",
       "FlCs/4G293+B8hgXnOOFuYbnfwPD0vseUB4Tw1S4b0Ah/fcpwvQfDDgA9wVu7BL7GScwYkRTeXl5\n",
       "McO65DIphuVApgEAqntCA9kDzGsAAAAASUVORK5CYII=\n",
       "\" style=\"display:inline;vertical-align:middle;\" /></a></td></tr>\n",
       "<tr><td>1</td><td>Variable</td><td></td><td><a class=\"ProveItLink\" href=\"../../../../__pv_it/a275d402e75fbbde925e8ebdcbfd239a2138849c0/expr.ipynb\"><img src=\"data:image/png;base64,iVBORw0KGgoAAAANSUhEUgAAABIAAAAPBAMAAAAbqIIhAAAAMFBMVEX///92dna6urqqqqoiIiKY\n",
       "mJiIiIhmZmbc3NwyMjLu7u7MzMxUVFQQEBBEREQAAAA0CE+eAAAAAXRSTlMAQObYZgAAAIdJREFU\n",
       "CNdjYGB4/x8I7mxgYGDgmn9r1Yr3v4Eshv8PGBj6vwMZ3P8TgKw/QBbbf6Ca+K9AFt9/IOE/AUjw\n",
       "/2Rg2AmSZNj/d+aUvwYgVvxnBoZ1P0Gs878YGJj+CwBZ9x1ArAMMDBz/CxgYGEFmsv4Hqu7/ApTk\n",
       "+d/AsPS+B9A0kEv+PmVgAADmSjTeJ9tS4QAAAABJRU5ErkJggg==\n",
       "\" style=\"display:inline;vertical-align:middle;\" /></a></td></tr>\n",
       "<tr><td>2</td><td>Variable</td><td></td><td><a class=\"ProveItLink\" href=\"../5144cf74ae6a683b49b974f1b9302b432abf7e930/expr.ipynb\"><img src=\"data:image/png;base64,iVBORw0KGgoAAAANSUhEUgAAACUAAAAJBAMAAABH3vh9AAAAKlBMVEX////MzMwQEBAiIiKYmJhm\n",
       "ZmZUVFSIiIh2dnbc3Nzu7u5ERESqqqoAAABwkVEpAAAAAXRSTlMAQObYZgAAAEtJREFUCNdjYIAA\n",
       "zvbM4+EMqGAFg7ODMppYA0Mtw0E0sQUM2QyYQB1TiPMiAxeakCf7BYYqVCGeK9wKnAUw3undQLCA\n",
       "a3tXRwmMAwC3+RVNp6j0GAAAAABJRU5ErkJggg==\n",
       "\" style=\"display:inline;vertical-align:middle;\" /></a></td></tr>\n",
       "</table>\n"
      ],
      "text/plain": [
       "0. B__x_\n",
       "   core type: Indexed\n",
       "   var: 1\n",
       "   index: 2\n",
       "   base: \"1\"\n",
       "1. B\n",
       "   core type: Variable\n",
       "   sub-expressions: \n",
       "2. _x_\n",
       "   core type: Variable\n",
       "   sub-expressions: "
      ]
     },
     "execution_count": 4,
     "metadata": {},
     "output_type": "execute_result"
    }
   ],
   "source": [
    "# display the expression information\n",
    "expr.exprInfo()"
   ]
  },
  {
   "cell_type": "code",
   "execution_count": null,
   "metadata": {},
   "outputs": [],
   "source": []
  }
 ],
 "metadata": {
  "kernelspec": {
   "display_name": "Python 3",
   "language": "python",
   "name": "python3"
  }
 },
 "nbformat": 4,
 "nbformat_minor": 0
}
