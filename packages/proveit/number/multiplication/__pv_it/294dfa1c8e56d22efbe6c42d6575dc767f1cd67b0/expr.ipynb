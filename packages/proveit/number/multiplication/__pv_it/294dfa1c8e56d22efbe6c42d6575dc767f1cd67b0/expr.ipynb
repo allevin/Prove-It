{
 "cells": [
  {
   "cell_type": "markdown",
   "metadata": {},
   "source": [
    "Expression of type <a class=\"ProveItLink\" href=\"../../../../../../doc/html/api/proveit.ExprTuple.html\">ExprTuple</a>\n",
    "=======================\n",
    "# from context <a class=\"ProveItLink\" href=\"../../_context_.ipynb\">proveit.number.multiplication</a>"
   ]
  },
  {
   "cell_type": "code",
   "execution_count": 1,
   "metadata": {},
   "outputs": [],
   "source": [
    "# import Expression classes needed to build the expression\n",
    "from proveit import ExprTuple\n",
    "from proveit._common_ import AA, m\n",
    "from proveit.logic import InSet\n",
    "from proveit.number import Exp, NaturalsPos"
   ]
  },
  {
   "cell_type": "code",
   "execution_count": 2,
   "metadata": {},
   "outputs": [
    {
     "data": {
      "text/html": [
       "<strong id=\"expr\">expr:</strong> <a class=\"ProveItLink\" href=\"expr.ipynb\"><img src=\"data:image/png;base64,iVBORw0KGgoAAAANSUhEUgAAAHYAAAAbBAMAAABb42amAAAAMFBMVEX///+qqqp2dnYiIiJERESI\n",
       "iIhmZmYQEBDc3NyYmJgyMjLu7u5UVFTMzMy6uroAAACGxKilAAAAAXRSTlMAQObYZgAAAkBJREFU\n",
       "OMullM9rE0EUx7/50Wa3u1v3T8hF8RgIiIji6qGoVFmU4sUfRY+CrnjoSc2hpyKkiniSkipUmggG\n",
       "pBTSQwJ6sVBdxGOhAT15sJEWtYRkfDO7yQybBGocmNnvzJvPzLx5bxbYX4n1H/6xHzYZHUjzxqoN\n",
       "xW7yplL+J/bZtYu1qfPAiEudD+Hglh2dP+5G2AXAWNjDcTynzlFA80LryXTvsSq758q4uWOH7KgP\n",
       "baWAFg5R5wr1p4OJcdbjdwk4azlAA+vFV8UinaIAmK7lYZGs1TJS9fDILBNBuUfv/CnA6/r7BEj5\n",
       "I47WICgxj61w5gvWCMTKy+wxIVJ0iR9Lpq+wq0CedtYd8m/UweVwk8zDphDWcufev1Pd2DRKCpu0\n",
       "8Q0J3zqdA3RyJZiY99+0hZjthuwGZ2PuF4WNTytRaGIyUBO4syfEma5xmbO4rbucNYPMLEjWamFJ\n",
       "CN3D9V9cGE7X+ECwZnnDk3tJCa2NI0JUbWzvCuu9bDa8q7ZgjVpFAlZDssbPkP00M8N2ItkdsPhs\n",
       "9Wdp39fCj/tra3kmVpNRvhuwuu30P3ML70XcKOsSLAclvSmnAhaHJasrdzX+B5f4EnyBJBOP4W29\n",
       "Y+RJe4FnsQTUGFF8t+nDWBMmY8zn6yz5ofErpcdv2tOQ7FhdsvECDvjRv8t6JydzPa94VdFjLsz0\n",
       "oOeu91oOKrqag5UZ+K8oRQeU0wNPqZ4ayD6KDpiqFyeozg1kNTcycFX1iF95LI1hyqxoHw/F3sJ/\n",
       "lb8kTZwEbS0DuAAAAABJRU5ErkJggg==\n",
       "\" style=\"display:inline;vertical-align:middle;\" /></a><br>"
      ],
      "text/plain": [
       "expr: (A in (NaturalsPos)^{m})"
      ]
     },
     "execution_count": 2,
     "metadata": {},
     "output_type": "execute_result"
    }
   ],
   "source": [
    "# build up the expression from sub-expressions\n",
    "expr = ExprTuple(InSet(AA, Exp(NaturalsPos, m)))"
   ]
  },
  {
   "cell_type": "code",
   "execution_count": 3,
   "metadata": {},
   "outputs": [
    {
     "name": "stdout",
     "output_type": "stream",
     "text": [
      "Passed sanity check: built 'expr' is the same as the stored Expression.\n"
     ]
    }
   ],
   "source": [
    "# check that the built expression is the same as the stored expression\n",
    "%check_expr"
   ]
  },
  {
   "cell_type": "code",
   "execution_count": 4,
   "metadata": {},
   "outputs": [
    {
     "data": {
      "text/html": [
       "<table><tr><th>&nbsp;</th><th>core type</th><th>sub-expressions</th><th>expression</th></tr>\n",
       "<tr><td>0</td><td>ExprTuple</td><td>1</td><td><a class=\"ProveItLink\" href=\"expr.ipynb\"><img src=\"data:image/png;base64,iVBORw0KGgoAAAANSUhEUgAAAHYAAAAbBAMAAABb42amAAAAMFBMVEX///+qqqp2dnYiIiJERESI\n",
       "iIhmZmYQEBDc3NyYmJgyMjLu7u5UVFTMzMy6uroAAACGxKilAAAAAXRSTlMAQObYZgAAAkBJREFU\n",
       "OMullM9rE0EUx7/50Wa3u1v3T8hF8RgIiIji6qGoVFmU4sUfRY+CrnjoSc2hpyKkiniSkipUmggG\n",
       "pBTSQwJ6sVBdxGOhAT15sJEWtYRkfDO7yQybBGocmNnvzJvPzLx5bxbYX4n1H/6xHzYZHUjzxqoN\n",
       "xW7yplL+J/bZtYu1qfPAiEudD+Hglh2dP+5G2AXAWNjDcTynzlFA80LryXTvsSq758q4uWOH7KgP\n",
       "baWAFg5R5wr1p4OJcdbjdwk4azlAA+vFV8UinaIAmK7lYZGs1TJS9fDILBNBuUfv/CnA6/r7BEj5\n",
       "I47WICgxj61w5gvWCMTKy+wxIVJ0iR9Lpq+wq0CedtYd8m/UweVwk8zDphDWcufev1Pd2DRKCpu0\n",
       "8Q0J3zqdA3RyJZiY99+0hZjthuwGZ2PuF4WNTytRaGIyUBO4syfEma5xmbO4rbucNYPMLEjWamFJ\n",
       "CN3D9V9cGE7X+ECwZnnDk3tJCa2NI0JUbWzvCuu9bDa8q7ZgjVpFAlZDssbPkP00M8N2ItkdsPhs\n",
       "9Wdp39fCj/tra3kmVpNRvhuwuu30P3ML70XcKOsSLAclvSmnAhaHJasrdzX+B5f4EnyBJBOP4W29\n",
       "Y+RJe4FnsQTUGFF8t+nDWBMmY8zn6yz5ofErpcdv2tOQ7FhdsvECDvjRv8t6JydzPa94VdFjLsz0\n",
       "oOeu91oOKrqag5UZ+K8oRQeU0wNPqZ4ayD6KDpiqFyeozg1kNTcycFX1iF95LI1hyqxoHw/F3sJ/\n",
       "lb8kTZwEbS0DuAAAAABJRU5ErkJggg==\n",
       "\" style=\"display:inline;vertical-align:middle;\" /></a></td></tr>\n",
       "<tr><td>1</td><td>Operation</td><td>operator:&nbsp;2<br>operands:&nbsp;3<br></td><td><a class=\"ProveItLink\" href=\"../d350263089dae73c40e1edb6ecd62ea0ae936a0d0/expr.ipynb\"><img src=\"data:image/png;base64,iVBORw0KGgoAAAANSUhEUgAAAGYAAAAYBAMAAAD62ZXgAAAAMFBMVEX///+YmJhmZmZERES6urrc\n",
       "3Nzu7u4QEBCIiIgyMjJUVFR2dnYiIiKqqqrMzMwAAAD8et6HAAAAAXRSTlMAQObYZgAAAcNJREFU\n",
       "OMtjYCACXGAgHRjQWQ+jhscujuYHEA7fXwx1Hmh6GB0YGBL9BXgWMC6ACPL8RtfCt4BtvvE0Bqbz\n",
       "Z2H26DEwhHUy8D/gVoCo2P8LXQ9nAgOzwGMGBn4GrpkzK2fOAIoARVcwPGfghIQi3/8/6Ho6GBi4\n",
       "znE0MLDD/cO4gYGhjqGZIZ4FYuj+/xCVbJ1nzkwAs8qAejwT1iHpYStgYP0AtEmYG6ygh/1/Apjx\n",
       "UgxqDQtQJ9e7BZkJCD0MtgwsBgznGB5vBXFY/3H+dwAzzGBOYwI6hOvBDT4DJD2bkN3OrMD0XwDM\n",
       "CIAHgQBID5ODBFgPJHRvIusRZ+D4Dw7AZLgQuwNID8MyrucIZe5IWtj+MrD8B1vvfuYMNAz4IXqy\n",
       "2KYj1L1H0sP1vbz+/wEQ6xVcDKqHb8Nz7HquP0tL/f8BxMpBuO0CWA+DLDNWt7HVAonzX8E2CsCD\n",
       "RQCihzsYoVASwYwCecUenEjZjsAEQYmKGRT+mgiFiLDm/w+Mz/X///8DcSL1YHF6gIFlfjGQkYnQ\n",
       "MwVHTrk1B5p2SjGkgGmHAJDGEOFuIKSHMwFdJJNgdmZdgC6ylHAZEIHG53gAZwIAemJwSLlFRl4A\n",
       "AAAASUVORK5CYII=\n",
       "\" style=\"display:inline;vertical-align:middle;\" /></a></td></tr>\n",
       "<tr><td>2</td><td>Literal</td><td></td><td><a class=\"ProveItLink\" href=\"../../../../logic/set_theory/membership/__pv_it/088cbc857536a28d4119ad9639a84270ccb0545d0/expr.ipynb\"><img src=\"data:image/png;base64,iVBORw0KGgoAAAANSUhEUgAAAAwAAAAMBAMAAACkW0HUAAAALVBMVEX///+qqqpmZmZUVFQQEBC6\n",
       "urpERETc3NyYmJjMzMwiIiIyMjKIiIju7u4AAACYsrA9AAAAAXRSTlMAQObYZgAAADxJREFUCNdj\n",
       "YOA9vWrVBgaG2b0MQMCeCyIZ2ArA1DUwyRCyahVIyWQI7xaEYm4AU7xLIdxqTQgtvGvVBgCkcQ7e\n",
       "geM/tQAAAABJRU5ErkJggg==\n",
       "\" style=\"display:inline;vertical-align:middle;\" /></a></td></tr>\n",
       "<tr><td>3</td><td>ExprTuple</td><td>4, 5</td><td><a class=\"ProveItLink\" href=\"../8a9ea57c7a44f4753442c540a6a01472676489710/expr.ipynb\"><img src=\"data:image/png;base64,iVBORw0KGgoAAAANSUhEUgAAAGYAAAAbBAMAAAB8TedOAAAAMFBMVEX///+qqqp2dnYiIiJERESI\n",
       "iIhmZmYQEBDc3NyYmJgyMjLu7u5UVFTMzMy6uroAAACGxKilAAAAAXRSTlMAQObYZgAAAh9JREFU\n",
       "OMudk89rE0EUx7/51ex2d+P+CXtRPOYkHhRXD0KllqVSevFHqUdB11NPag6eREgV8VRK7KGliWAu\n",
       "JZAeEtCLQtuleCy0oAfxYCMt2hKS8c3u2JluQjEOzOx7b95n3ts3b4CTR6K/+cdJTDpucPhiNQdi\n",
       "tvhSr/4T8/r2eHPiOpDxSPkojNv23+2cF2PmAWP+EBcwR8p5QPPF7iVHhq/vX6vi7p4tmKEA2koJ\n",
       "HZwh5SbpU5Fjkh39VwUYsVyghU/lpXKZopYA07N8vKHdRhXZHZEaywuEZ/w+mAD8o/95CWSDjKu1\n",
       "yDk1i23hucBaQspSUdYrZqAwNaBIkXSX8h9yMSkOzz9pC+Y7zbUto6IwaRtfkQqsKwVAp5Qjx2Lw\n",
       "riuYac4kvM8Kk5ySlcy1MRpJV/HgUBiXOYP7uscZM+qgkmSsDhZDQfdx55cwPg4Zs7rmy7OlCK2L\n",
       "c6HQsLG7L4zdkDGadelotSRj/BTMxswM2zvGYNPqz1Cct2G+j1ZXi0wYH0aMbrv9c+vgQ1h/6pIU\n",
       "K8DgykjE4KxkdKUGuQPc4CgH08xGg/cCb6ox3mXSUa013c8ufRhrw2SMBbUD0r7Qtf6mGIZkhnck\n",
       "kyzhVKA+l2+8dwo9r6imyMMeTEfdnOXBnR7mtCI3CrDycYa/heNDyRJ4RfOyomfC9XmcMdVsL9J8\n",
       "1pOJ5sUMtxRZ5yVMOBhkPA3XFwMx9/Bf4w/RopRag3QMWwAAAABJRU5ErkJggg==\n",
       "\" style=\"display:inline;vertical-align:middle;\" /></a></td></tr>\n",
       "<tr><td>4</td><td>Variable</td><td></td><td><a class=\"ProveItLink\" href=\"../../../../__pv_it/eb438fefc4bd0ac977777d6dfd3e8a72dfbedbd50/expr.ipynb\"><img src=\"data:image/png;base64,iVBORw0KGgoAAAANSUhEUgAAABIAAAAPBAMAAAAbqIIhAAAAMFBMVEX///+YmJhmZmZERES6urrc\n",
       "3Nzu7u4QEBCIiIgyMjJUVFR2dnYiIiKqqqrMzMwAAAD8et6HAAAAAXRSTlMAQObYZgAAAGpJREFU\n",
       "CNdjYAABvr8MUMDzG8ba/wvK4Pv/B8ri3P8fyuph/58AZrD+4/zvAGYxKzD9FwCzxBk4/iuAGGx/\n",
       "GVj+G4BYXN/L6/8fALGuP0tL/f8BJFkLJM5/BRJRICX2QCfw/weauv7//38AzEYi08a6/oIAAAAA\n",
       "SUVORK5CYII=\n",
       "\" style=\"display:inline;vertical-align:middle;\" /></a></td></tr>\n",
       "<tr><td>5</td><td>Operation</td><td>operator:&nbsp;6<br>operands:&nbsp;7<br></td><td><a class=\"ProveItLink\" href=\"../23099d5229bccf9fb882445cb734355db54933bf0/expr.ipynb\"><img src=\"data:image/png;base64,iVBORw0KGgoAAAANSUhEUgAAADkAAAAYBAMAAACyxkglAAAAMFBMVEX////c3NwiIiJERESqqqqY\n",
       "mJh2dnZmZmYQEBDu7u4yMjJUVFTMzMyIiIi6uroAAAAs73DqAAAAAXRSTlMAQObYZgAAASNJREFU\n",
       "KM+t0TFLw0AYxvF/bKOJSUt3Bz+AS5Y6SJF8Ch2EUicnQRwcJYOzZCwFIYNCk6k4SpGA4NIlk5Mt\n",
       "RbdOQREcRLw0kjvS4uRNz/v+uHtzF1BXlb9W5T90f/I0GLdEqCclbYPZ/mCLA1GM6L3v+Jy+ub+6\n",
       "FqNdBXxxJIoQmrYDKXdRP4rESQFYie1xDTVR3sZj8Iq5e2DENUdLpxg+3IdWrGgXNsVu3ekwE+Vw\n",
       "ZIaKVlxeWYnt7QZnmVaTB0VXT4pL3GTKuZ5kauXvGRR6OVfLH3pFqy7j91zNQU+27LSkPNpL9SJX\n",
       "3XWWndzMlUOpuvyq7DF3s9eVLeVGLzD7FPtMqevTIhqNhb/clVHvLOixksMyKjNgo6yWOktLSvos\n",
       "4w+klk2X3yV2oQAAAABJRU5ErkJggg==\n",
       "\" style=\"display:inline;vertical-align:middle;\" /></a></td></tr>\n",
       "<tr><td>6</td><td>Literal</td><td></td><td><a class=\"ProveItLink\" href=\"../../../exponentiation/__pv_it/deb2bf23cbccdd6e6791e1b35b5b9794ce12dbd50/expr.ipynb\"><img src=\"data:image/png;base64,iVBORw0KGgoAAAANSUhEUgAAACgAAAASBAMAAADbMYGVAAAAMFBMVEX///8QEBAiIiKYmJjc3Nzu\n",
       "7u7MzMx2dnZmZma6urpERESqqqoyMjJUVFSIiIgAAAAoDOMTAAAAAXRSTlMAQObYZgAAAOBJREFU\n",
       "GNNjYGB4+//u3Tt/GNAASGAXmhjnPyDBgSbI/g1IxKEJ8nxgYGdgQRPkX8BgDKRY6q7s62OYvmze\n",
       "2wAgb/7ZO1+AVDiDkYEQQ0HTBr4DQF59AgOIKmB4z7CNbcNZBu6vQN55kEACQwDDLQYGVobfDHwg\n",
       "fb8YGBxYHwAZciD3fWXg+gB1JjvQcJZvQIXsCgz8F6DO9GBgMOH7wPCUgaeBwd4B7EwGNjUG7s9c\n",
       "AiwPgO5jkWRgiF3/9+5dfQUG1nWl5Y+B7pv+1gE9bBhqGLCAE1jEWH9jEbT5A3IwAC4sP/1L6Qlu\n",
       "AAAAAElFTkSuQmCC\n",
       "\" style=\"display:inline;vertical-align:middle;\" /></a></td></tr>\n",
       "<tr><td>7</td><td>ExprTuple</td><td>8, 9</td><td><a class=\"ProveItLink\" href=\"../e6d2ddc7febc547d31472e0cbb5aab362d0857650/expr.ipynb\"><img src=\"data:image/png;base64,iVBORw0KGgoAAAANSUhEUgAAAEYAAAAbBAMAAAAzEOSeAAAAMFBMVEX///+qqqp2dnYiIiJERESI\n",
       "iIhmZmYQEBDc3NyYmJgyMjLu7u5UVFTMzMy6uroAAACGxKilAAAAAXRSTlMAQObYZgAAAXVJREFU\n",
       "KM+N0rFLw0AUBvCvbUxTk7Qubg43+AdUEHEpVnBwcAgouFTorIuDk1MHXVxMQWe7VKEKzSYUoR1c\n",
       "jAgdBBfFLEVxsFUQCqXFd6ktPdNGD+7lkvy4x30JIIwJDB/vA+uk5y3jRa/4mkdeSpavGTOo3MDX\n",
       "YB5QtqEWl84hL8wMNylATgOSeQ/EoBUKu4X8b1O2EHYALUFdwyN6hUw800V7s+5GGjmJdW6eKiVr\n",
       "lIk0YHNTndSToqkt76dYbY1yj7aw4hrZOXZNP09mG+qnE2hQxm2cuga32sNgg6gzC/UL3CgdzHXN\n",
       "lXo2aFS1g0ALco6WHz2jM2EfF8QRZu4+F12DrCSeOIdQGvWMBaWN6x8T3Ov34YV2KDuwFRPRJlbp\n",
       "gURZY7MffpzKoYMTIB9086nTIYo7/B/pmcsmlRdgGpjaoAY5xKqeZF+Fu3EDGvMYU/zuGejxP8wR\n",
       "zUXP3yneJmgewHdE0jxR5mu6sWV9zRb+Nb4Bab5efRH3uCkAAAAASUVORK5CYII=\n",
       "\" style=\"display:inline;vertical-align:middle;\" /></a></td></tr>\n",
       "<tr><td>8</td><td>Literal</td><td></td><td><a class=\"ProveItLink\" href=\"../../../sets/integer/__pv_it/42d4bc2e45d5054d807f2641a228c1b440fb8de30/expr.ipynb\"><img src=\"data:image/png;base64,iVBORw0KGgoAAAANSUhEUgAAABsAAAATBAMAAACTqWsLAAAAMFBMVEX////c3Nx2dna6uroQEBCI\n",
       "iIhUVFTMzMyYmJiqqqoiIiJmZmZEREQyMjLu7u4AAADjlg78AAAAAXRSTlMAQObYZgAAAHZJREFU\n",
       "GNNjYIADTgYUwEMy9+2fsw8Ydv2aAJM9wX6AgeEDQ+7dK3fvBjAwZBWEMjA4wPUm32MrQOKml/Hd\n",
       "Q+ZyBtQgcxk2cwSAuGxQLtuDdAe47ekMfAlvkbkMRewoXI4JB5C5DIoI7mEg5r4A49l+AcrwwbgA\n",
       "axoiJO4Xc9gAAAAASUVORK5CYII=\n",
       "\" style=\"display:inline;vertical-align:middle;\" /></a></td></tr>\n",
       "<tr><td>9</td><td>Variable</td><td></td><td><a class=\"ProveItLink\" href=\"../../../../__pv_it/78af03acba5349fd70398a32ce59bae1da52f0870/expr.ipynb\"><img src=\"data:image/png;base64,iVBORw0KGgoAAAANSUhEUgAAABIAAAAJBAMAAADN8WE8AAAAMFBMVEX////MzMyYmJgQEBBmZmYi\n",
       "IiLu7u4yMjKqqqp2dnZUVFTc3NxERESIiIi6uroAAABe5jFNAAAAAXRSTlMAQObYZgAAAFtJREFU\n",
       "CNdj4Luz++5KvrsnGBg4uWoZ8ucx9DMwvGM9wJB/AcRKyH/A0J/A4M7AAKJcGRgsgSwgL4SB7zcb\n",
       "iMf2j4GrYBMD9z8Gpg8M7BcmMPAZMHAeYOBYKwAAtXMYHwtZnY0AAAAASUVORK5CYII=\n",
       "\" style=\"display:inline;vertical-align:middle;\" /></a></td></tr>\n",
       "</table>\n"
      ],
      "text/plain": [
       "0. (A in (NaturalsPos)^{m})\n",
       "   core type: ExprTuple\n",
       "   sub-expressions: 1\n",
       "1. A in (NaturalsPos)^{m}\n",
       "   core type: Operation\n",
       "   operator: 2\n",
       "   operands: 3\n",
       "2. in\n",
       "   core type: Literal\n",
       "   sub-expressions: \n",
       "3. (A , (NaturalsPos)^{m})\n",
       "   core type: ExprTuple\n",
       "   sub-expressions: 4, 5\n",
       "4. A\n",
       "   core type: Variable\n",
       "   sub-expressions: \n",
       "5. (NaturalsPos)^{m}\n",
       "   core type: Operation\n",
       "   operator: 6\n",
       "   operands: 7\n",
       "6. Exp\n",
       "   core type: Literal\n",
       "   sub-expressions: \n",
       "7. (NaturalsPos , m)\n",
       "   core type: ExprTuple\n",
       "   sub-expressions: 8, 9\n",
       "8. NaturalsPos\n",
       "   core type: Literal\n",
       "   sub-expressions: \n",
       "9. m\n",
       "   core type: Variable\n",
       "   sub-expressions: "
      ]
     },
     "execution_count": 4,
     "metadata": {},
     "output_type": "execute_result"
    }
   ],
   "source": [
    "# display the expression information\n",
    "expr.exprInfo()"
   ]
  },
  {
   "cell_type": "code",
   "execution_count": null,
   "metadata": {},
   "outputs": [],
   "source": []
  }
 ],
 "metadata": {
  "kernelspec": {
   "display_name": "Python 3",
   "language": "python",
   "name": "python3"
  }
 },
 "nbformat": 4,
 "nbformat_minor": 0
}
