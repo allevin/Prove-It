{
 "cells": [
  {
   "cell_type": "markdown",
   "metadata": {},
   "source": [
    "Expression of type <a class=\"ProveItLink\" href=\"../../../../../../doc/html/api/proveit.logic.Equals.html\">Equals</a>\n",
    "=======================\n",
    "# from context <a class=\"ProveItLink\" href=\"../../_context_.ipynb\">proveit.number.multiplication</a>"
   ]
  },
  {
   "cell_type": "code",
   "execution_count": 1,
   "metadata": {},
   "outputs": [],
   "source": [
    "# import Expression classes needed to build the expression\n",
    "from proveit._common_ import x\n",
    "from proveit.logic import Equals\n",
    "from proveit.number import Mult, one"
   ]
  },
  {
   "cell_type": "code",
   "execution_count": 2,
   "metadata": {},
   "outputs": [
    {
     "data": {
      "text/html": [
       "<strong id=\"expr\">expr:</strong> <a class=\"ProveItLink\" href=\"expr.ipynb\"><img src=\"data:image/png;base64,iVBORw0KGgoAAAANSUhEUgAAAFoAAAAVBAMAAAA0iOSIAAAAMFBMVEX////c3NwiIiJERESqqqqY\n",
       "mJh2dnZmZmYQEBDu7u4yMjJUVFTMzMyIiIi6uroAAAAs73DqAAAAAXRSTlMAQObYZgAAASZJREFU\n",
       "KM9jYCAN8F3AIsj6AIfq00DMPAFdtAaH6pUMDJz2GKq5sCvmvcDAuXs/hmrWBKyqOUAK72Oo5mzA\n",
       "qvoVA1bVDCZYVZehqxa7LXIdGEzpaOoYczf61jIsRVPNmcCqyqHAwOAF4lStAoHVIOY0hqCAJoY+\n",
       "hGpOEMnGwPuB5QADwws0sxMY7jP4MPxDqJ6vANLCwG0A4pxHUz2BYTOQRFI9wwASShewqWZg6AXi\n",
       "FowwkT8ANAjikiIlEFCGePMP0F5TNNWsAvcZeIHcKDSTA3k/MNyEhBSSav8ACwZZBowQZPnK3MB4\n",
       "geERkFnevzwAJjz52rRcEGcdWtzaZqZdBfpJAGuk4Yh5HMmH7QLOFIsFzMKRvqWxim7EoZoRm528\n",
       "B7CqBQC8y08Abplw7QAAAABJRU5ErkJggg==\n",
       "\" style=\"display:inline;vertical-align:middle;\" /></a><br>"
      ],
      "text/plain": [
       "expr: (1 * x) = x"
      ]
     },
     "execution_count": 2,
     "metadata": {},
     "output_type": "execute_result"
    }
   ],
   "source": [
    "# build up the expression from sub-expressions\n",
    "expr = Equals(Mult(one, x), x)"
   ]
  },
  {
   "cell_type": "code",
   "execution_count": 3,
   "metadata": {},
   "outputs": [
    {
     "name": "stdout",
     "output_type": "stream",
     "text": [
      "Passed sanity check: built 'expr' is the same as the stored Expression.\n"
     ]
    }
   ],
   "source": [
    "# check that the built expression is the same as the stored expression\n",
    "%check_expr"
   ]
  },
  {
   "cell_type": "code",
   "execution_count": 4,
   "metadata": {},
   "outputs": [
    {
     "data": {
      "text/html": [
       "<table><tr><th>&nbsp;</th><th>core type</th><th>sub-expressions</th><th>expression</th></tr>\n",
       "<tr><td>0</td><td>Operation</td><td>operator:&nbsp;1<br>operands:&nbsp;2<br></td><td><a class=\"ProveItLink\" href=\"expr.ipynb\"><img src=\"data:image/png;base64,iVBORw0KGgoAAAANSUhEUgAAAFoAAAAVBAMAAAA0iOSIAAAAMFBMVEX////c3NwiIiJERESqqqqY\n",
       "mJh2dnZmZmYQEBDu7u4yMjJUVFTMzMyIiIi6uroAAAAs73DqAAAAAXRSTlMAQObYZgAAASZJREFU\n",
       "KM9jYCAN8F3AIsj6AIfq00DMPAFdtAaH6pUMDJz2GKq5sCvmvcDAuXs/hmrWBKyqOUAK72Oo5mzA\n",
       "qvoVA1bVDCZYVZehqxa7LXIdGEzpaOoYczf61jIsRVPNmcCqyqHAwOAF4lStAoHVIOY0hqCAJoY+\n",
       "hGpOEMnGwPuB5QADwws0sxMY7jP4MPxDqJ6vANLCwG0A4pxHUz2BYTOQRFI9wwASShewqWZg6AXi\n",
       "FowwkT8ANAjikiIlEFCGePMP0F5TNNWsAvcZeIHcKDSTA3k/MNyEhBSSav8ACwZZBowQZPnK3MB4\n",
       "geERkFnevzwAJjz52rRcEGcdWtzaZqZdBfpJAGuk4Yh5HMmH7QLOFIsFzMKRvqWxim7EoZoRm528\n",
       "B7CqBQC8y08Abplw7QAAAABJRU5ErkJggg==\n",
       "\" style=\"display:inline;vertical-align:middle;\" /></a></td></tr>\n",
       "<tr><td>1</td><td>Literal</td><td></td><td><a class=\"ProveItLink\" href=\"../../../../logic/equality/__pv_it/2fb26078095930560931daa0500ce419a39ea6cd0/expr.ipynb\"><img src=\"data:image/png;base64,iVBORw0KGgoAAAANSUhEUgAAAA4AAAAFBAMAAACHocAhAAAAFVBMVEX///9EREQiIiJUVFQyMjJm\n",
       "ZmYAAADubVkoAAAAAXRSTlMAQObYZgAAABRJREFUCNdjCHEBAWcGXCBICQQUAUpuAwlgGKrkAAAA\n",
       "AElFTkSuQmCC\n",
       "\" style=\"display:inline;vertical-align:middle;\" /></a></td></tr>\n",
       "<tr><td>2</td><td>ExprTuple</td><td>3, 7</td><td><a class=\"ProveItLink\" href=\"../fa11b0480f060813e5ffc51d3e8bf3d2132984ed0/expr.ipynb\"><img src=\"data:image/png;base64,iVBORw0KGgoAAAANSUhEUgAAAEcAAAAVBAMAAADm2O7QAAAAMFBMVEX////c3NwiIiJERESqqqqY\n",
       "mJh2dnZmZmYQEBDu7u4yMjJUVFTMzMyIiIi6uroAAAAs73DqAAAAAXRSTlMAQObYZgAAAR9JREFU\n",
       "KM9jYCAK8F3ALx8HIk6DCEvcitgPAImVQDz5Jx6jFjAw8AJtm70bn6IwBgaOCUCaF5+iGQwMrxgI\n",
       "KWJ2YChDVyR2W+Q6xMOMuRt9axkY2AoYlqIp4kxgVeVQADOnMQQFNDEwsCxg6ENSNBOI2Rh4P7Ac\n",
       "AHMTGO4z+AADsoHhH0IR5ycQwcBtADV0AsNmEMXzAUVRM1iOAxEFvVBFLRi+kz/AMAHCYvwDNBhk\n",
       "nSmaIlaB+wy8E8DKAnk/MNwEiixgSEdT5B9gwSALdh7LV+YGxgvgIHgEisOKX6UwRZOvTcsNYODs\n",
       "F2DgtM1MuwoU4XrAwCGAPQEJIEcLawJWRawIZi40qeBTxAlMKgzSWBUhwoobZDEjgeR7h4EBAPWR\n",
       "SR6uuY0IAAAAAElFTkSuQmCC\n",
       "\" style=\"display:inline;vertical-align:middle;\" /></a></td></tr>\n",
       "<tr><td>3</td><td>Operation</td><td>operator:&nbsp;4<br>operands:&nbsp;5<br></td><td><a class=\"ProveItLink\" href=\"../345a6ce325100a2b38daa597b3dd395ff591cf030/expr.ipynb\"><img src=\"data:image/png;base64,iVBORw0KGgoAAAANSUhEUgAAACMAAAAPBAMAAACcmWsnAAAALVBMVEX////MzMyqqqp2dnbc3Nwi\n",
       "IiKYmJgyMjIQEBBmZmaIiIhUVFTu7u5EREQAAADcipVkAAAAAXRSTlMAQObYZgAAAGhJREFUGNNj\n",
       "YGC4w4AOzr5BFzm9G0OIgYtkIefVTisXoAjxGLCFcQTAhc4AMTMD1wMmAZgQz1MQwcB9AWEWTy9Y\n",
       "LccCDBv9BBgOoAixOaxj4EIV0ku4weDFwMA54/k0uHcXH7ZKYMACAHYWIGgtZmgyAAAAAElFTkSu\n",
       "QmCC\n",
       "\" style=\"display:inline;vertical-align:middle;\" /></a></td></tr>\n",
       "<tr><td>4</td><td>Literal</td><td></td><td><a class=\"ProveItLink\" href=\"../21fd2079611555ecce512d99547a00d551e6b86b0/expr.ipynb\"><img src=\"data:image/png;base64,iVBORw0KGgoAAAANSUhEUgAAAAMAAAADBAMAAACkBqiMAAAAElBMVEX///9EREQQEBAiIiLu7u4A\n",
       "AABGBidwAAAAAXRSTlMAQObYZgAAABFJREFUCNdjYHFgcDVgcBIAAASWAQx4jI0xAAAAAElFTkSu\n",
       "QmCC\n",
       "\" style=\"display:inline;vertical-align:middle;\" /></a></td></tr>\n",
       "<tr><td>5</td><td>ExprTuple</td><td>6, 7</td><td><a class=\"ProveItLink\" href=\"../7e8edf3e2f617b2da7fc8144d7957d56720ccd640/expr.ipynb\"><img src=\"data:image/png;base64,iVBORw0KGgoAAAANSUhEUgAAACwAAAAVBAMAAADP3xFXAAAAMFBMVEX////c3NwiIiJERESqqqqY\n",
       "mJh2dnZmZmYQEBDu7u4yMjJUVFTMzMyIiIi6uroAAAAs73DqAAAAAXRSTlMAQObYZgAAANtJREFU\n",
       "GNNjYMAB+C6gi7A+ABKngZh5Aop4DRCvZGDgtEcV5mJg4L3AwLl7P6owawIDB0jkPqowZwPDKwZM\n",
       "YQYThjIUYbHbIteBLktnWIoszJnAqsqhwMDgxdCHLMzGwPuB5QADwwuGfyiqGbgNQPR5VGEGBo4L\n",
       "EOEWVGH5AwwTQIaYwoRBMqwC9xl4gYwooFsgwpyfgLR/gAWDLAPIgY+AZHn/8gDOfgEGhsnXpuUG\n",
       "AAXWMXAIwAJYANnzwGCBhg/C72wXwAGLLjwLiKWhbKRI2gjEjBiRxnuAAQDpZjvzGzTH5wAAAABJ\n",
       "RU5ErkJggg==\n",
       "\" style=\"display:inline;vertical-align:middle;\" /></a></td></tr>\n",
       "<tr><td>6</td><td>Literal</td><td></td><td><a class=\"ProveItLink\" href=\"../../../numeral/__pv_it/9be8badea4c35b9724062cecc501d17a3158d1d20/expr.ipynb\"><img src=\"data:image/png;base64,iVBORw0KGgoAAAANSUhEUgAAAAgAAAAPBAMAAAArJJMAAAAAHlBMVEX///+YmJgyMjIQEBBmZmaI\n",
       "iIhUVFTu7u5EREQAAAAw+MI4AAAAAXRSTlMAQObYZgAAACFJREFUCNdjYGBoZ2BgqJjOwFCWBiQY\n",
       "WEklWJwnOTKAAACjEQo8HvEr3AAAAABJRU5ErkJggg==\n",
       "\" style=\"display:inline;vertical-align:middle;\" /></a></td></tr>\n",
       "<tr><td>7</td><td>Variable</td><td></td><td><a class=\"ProveItLink\" href=\"../../../../__pv_it/530be409e3083890784cf1d7b28c9e67e90af9360/expr.ipynb\"><img src=\"data:image/png;base64,iVBORw0KGgoAAAANSUhEUgAAAAsAAAAJBAMAAAAWSsseAAAAKlBMVEX///9ERETMzMwQEBAiIiKY\n",
       "mJju7u5mZmaqqqpUVFSIiIh2dnbc3NwAAAA/vyDhAAAAAXRSTlMAQObYZgAAAENJREFUCNdjYDi9\n",
       "8sTyBQxsG1hdmR0YuBm4LnAoMLAxcAowgADzAjB1VoEhgYH1wFoGrgSG3gBhhlMMDImrs3cFMAAA\n",
       "t0YN+iTRa+sAAAAASUVORK5CYII=\n",
       "\" style=\"display:inline;vertical-align:middle;\" /></a></td></tr>\n",
       "</table>\n"
      ],
      "text/plain": [
       "0. (1 * x) = x\n",
       "   core type: Operation\n",
       "   operator: 1\n",
       "   operands: 2\n",
       "1. =\n",
       "   core type: Literal\n",
       "   sub-expressions: \n",
       "2. (1 * x , x)\n",
       "   core type: ExprTuple\n",
       "   sub-expressions: 3, 7\n",
       "3. 1 * x\n",
       "   core type: Operation\n",
       "   operator: 4\n",
       "   operands: 5\n",
       "4. *\n",
       "   core type: Literal\n",
       "   sub-expressions: \n",
       "5. (1 , x)\n",
       "   core type: ExprTuple\n",
       "   sub-expressions: 6, 7\n",
       "6. 1\n",
       "   core type: Literal\n",
       "   sub-expressions: \n",
       "7. x\n",
       "   core type: Variable\n",
       "   sub-expressions: "
      ]
     },
     "execution_count": 4,
     "metadata": {},
     "output_type": "execute_result"
    }
   ],
   "source": [
    "# display the expression information\n",
    "expr.exprInfo()"
   ]
  },
  {
   "cell_type": "code",
   "execution_count": null,
   "metadata": {},
   "outputs": [],
   "source": []
  }
 ],
 "metadata": {
  "kernelspec": {
   "display_name": "Python 3",
   "language": "python",
   "name": "python3"
  }
 },
 "nbformat": 4,
 "nbformat_minor": 0
}
