{
 "cells": [
  {
   "cell_type": "markdown",
   "metadata": {},
   "source": [
    "Temporary notebook for <a class=\"ProveItLink\" href=\"../../_theorems_.ipynb#distributeThroughSummation\">distributeThroughSummation</a> of type <a href=\"../../../../../../doc/html/api/proveit.logic.Forall.html\">Forall</a>\n",
    "=======================\n",
    "# a not-yet-official Theorem from context <a class=\"ProveItLink\" href=\"../../_context_.ipynb\">proveit.number.multiplication</a>"
   ]
  },
  {
   "cell_type": "code",
   "execution_count": null,
   "metadata": {},
   "outputs": [],
   "source": [
    "# import Expression classes needed to build the expression\n",
    "from proveit import Function, Indexed, Iter, Variable\n",
	"from proveit._common_ import AA, BB, CC, P, S, l, m, n\n",
	"from proveit.logic import Equals, Forall, Implies, InSet\n",
	"from proveit.logic._common_ import iterC1n\n",
	"from proveit.number import Complexes, Exp, Mult, Naturals, Sum, one"
   ]
  },
  {
   "cell_type": "code",
   "execution_count": null,
   "metadata": {},
   "outputs": [],
   "source": [
    "# build up the expression from sub-expressions\n",
    "subExpr1 = Variable(\"_x_\", latexFormat = r\"{_{-}x_{-}}\")\n",
	"subExpr2 = []\n",
	"subExpr3 = Iter(subExpr1, Indexed(BB, subExpr1, base = 1), one, m)\n",
	"subExpr4 = Iter(subExpr1, Indexed(AA, subExpr1, base = 1), one, l)\n",
	"subExpr5 = Function(P, subExpr3)\n",
	"subExpr6 = [subExpr3]\n",
	"expr = Forall([l, m, n], Forall([P, S], Implies(Forall([BB], InSet(subExpr5, Complexes), domain = Exp(S, m), conditions = subExpr2), Forall([AA, CC], Equals(Mult(subExpr4, Sum(subExpr6, subExpr5, domain = S, conditions = subExpr2), iterC1n), Sum(subExpr6, Mult(subExpr4, subExpr5, iterC1n), domain = S, conditions = subExpr2)), domains = [Exp(Complexes, l), Exp(Complexes, n)], conditions = subExpr2)), conditions = subExpr2), domain = Naturals, conditions = subExpr2)"
   ]
  },
  {
   "cell_type": "code",
   "execution_count": null,
   "metadata": {},
   "outputs": [],
   "source": [
    "# check that the built expression is the same as the stored expression\n",
    "%check_expr"
   ]
  },
  {
   "cell_type": "code",
   "execution_count": null,
   "metadata": {},
   "outputs": [],
   "source": [
    "# display the expression information\n",
    "expr.exprInfo()"
   ]
  },
  {
   "cell_type": "code",
   "execution_count": null,
   "metadata": {},
   "outputs": [],
   "source": []
  }
 ],
 "metadata": {
  "kernelspec": {
   "display_name": "Python 3",
   "language": "python",
   "name": "python3"
  }
 },
 "nbformat": 4,
 "nbformat_minor": 0
}
