{
 "cells": [
  {
   "cell_type": "markdown",
   "metadata": {},
   "source": [
    "Expression of type <a class=\"ProveItLink\" href=\"../../../../../../doc/html/api/proveit.Lambda.html\">Lambda</a>\n",
    "=======================\n",
    "# from context <a class=\"ProveItLink\" href=\"../../_context_.ipynb\">proveit.number.multiplication</a>"
   ]
  },
  {
   "cell_type": "code",
   "execution_count": 1,
   "metadata": {},
   "outputs": [],
   "source": [
    "# import Expression classes needed to build the expression\n",
    "from proveit import Lambda\n",
    "from proveit._common_ import a, b\n",
    "from proveit.logic import InSet\n",
    "from proveit.number import Complexes, Mult"
   ]
  },
  {
   "cell_type": "code",
   "execution_count": 2,
   "metadata": {},
   "outputs": [
    {
     "data": {
      "text/html": [
       "<strong id=\"expr\">expr:</strong> <a class=\"ProveItLink\" href=\"expr.ipynb\"><img src=\"data:image/png;base64,iVBORw0KGgoAAAANSUhEUgAAAN0AAAAVCAMAAAD1oRvxAAAANlBMVEX///8UFBQNDQ3c3NxmZmbM\n",
       "zMxERESYmJiIiIh2dna6urqqqqoyMjIiIiIQEBBUVFTu7u4AAABebULIAAAAAXRSTlMAQObYZgAA\n",
       "AoJJREFUWMPNmNly5CAMRZkxm9n5/5+N2wkYLW5wdVVmeFEqsY51QZZEhPjfl99+7VXOQjtZxj3k\n",
       "Mw67+yTgklNcfVZlaKdIqRaoNoZQU9SSdRjVrcU68oQIeVVdKNDeP9iQYb5jrh7xl73azDrAs5vH\n",
       "inii+kVx1kJ7vzrS7LNcFNl8f181sw5Q3TRWzHO1LKpLBdr7z7MjS4I5a0M81nVApoj2hMyMA1JH\n",
       "YsVAwttXPzsXoL1fA1KPm62CQdFJseUeKHXA6nCsBEh4IVv7c5ok7/34KrlDKw6S3V3amM+uI3d5\n",
       "/XrT+NCLFA6l4uhA1MFYKZDwStWvfG61Cm1OHtyDgVacwnSlNXNA+mG7NNkHtQtvUH8Lb2omjJUC\n",
       "Cc+fqZx2Xl3JFyA5aLf6Akndny0M0l3fUdGCUeeQOpfu1aFYKZDw5LlXteXD3z8RrFQ7vf3UbD5P\n",
       "Ldq+sZFBqjrE3aBhEKxQZqp6rw7FSoGEF+VZiwx/diJfcKzuTJPS86QkzSCHYLkZ4OiceV0dipUB\n",
       "Yt7ZQWSvtEidHDI7eWC3as9kOXRx3e4HOWYmU5yP9tajKdPMRLEyQMw7976nMlKnxr6tDbDlfFcO\n",
       "wuPpaUSaoUhkQ+Vp02fXWLADUQdj5YCIl31rfN9zCCwqXK1u9lU7/ZEsZBwZkWOBL5GZiHPWtoji\n",
       "9E91f9cRUKwsEPJKttKsdfMI7dHtrFPaOjpFX8gw/nULzFitZKw19e87uHdTNIqVAyLe8mp9O61f\n",
       "ufBg5XMAk9jUYXYDmgLXb1/74mg8xGYfvoM4fHa/e7KWb0D9JJ5uagnin6lrE+q2eiPMT/9tQB1+\n",
       "T53YLLSzC6F6yGcc7AfqvgB48R88B5X2NgAAAABJRU5ErkJggg==\n",
       "\" style=\"display:inline;vertical-align:middle;\" /></a><br>"
      ],
      "text/plain": [
       "expr: b -> ((a * b) in Complexes) | b in Complexes"
      ]
     },
     "execution_count": 2,
     "metadata": {},
     "output_type": "execute_result"
    }
   ],
   "source": [
    "# build up the expression from sub-expressions\n",
    "expr = Lambda(b, InSet(Mult(a, b), Complexes), conditions = [InSet(b, Complexes)])"
   ]
  },
  {
   "cell_type": "code",
   "execution_count": 3,
   "metadata": {},
   "outputs": [
    {
     "name": "stdout",
     "output_type": "stream",
     "text": [
      "Passed sanity check: built 'expr' is the same as the stored Expression.\n"
     ]
    }
   ],
   "source": [
    "# check that the built expression is the same as the stored expression\n",
    "%check_expr"
   ]
  },
  {
   "cell_type": "code",
   "execution_count": 4,
   "metadata": {},
   "outputs": [
    {
     "data": {
      "text/html": [
       "<table><tr><th>&nbsp;</th><th>core type</th><th>sub-expressions</th><th>expression</th></tr>\n",
       "<tr><td>0</td><td>Lambda</td><td>parameter:&nbsp;12<br>body:&nbsp;1<br>conditions:&nbsp;2<br></td><td><a class=\"ProveItLink\" href=\"expr.ipynb\"><img src=\"data:image/png;base64,iVBORw0KGgoAAAANSUhEUgAAAN0AAAAVCAMAAAD1oRvxAAAANlBMVEX///8UFBQNDQ3c3NxmZmbM\n",
       "zMxERESYmJiIiIh2dna6urqqqqoyMjIiIiIQEBBUVFTu7u4AAABebULIAAAAAXRSTlMAQObYZgAA\n",
       "AoJJREFUWMPNmNly5CAMRZkxm9n5/5+N2wkYLW5wdVVmeFEqsY51QZZEhPjfl99+7VXOQjtZxj3k\n",
       "Mw67+yTgklNcfVZlaKdIqRaoNoZQU9SSdRjVrcU68oQIeVVdKNDeP9iQYb5jrh7xl73azDrAs5vH\n",
       "inii+kVx1kJ7vzrS7LNcFNl8f181sw5Q3TRWzHO1LKpLBdr7z7MjS4I5a0M81nVApoj2hMyMA1JH\n",
       "YsVAwttXPzsXoL1fA1KPm62CQdFJseUeKHXA6nCsBEh4IVv7c5ok7/34KrlDKw6S3V3amM+uI3d5\n",
       "/XrT+NCLFA6l4uhA1MFYKZDwStWvfG61Cm1OHtyDgVacwnSlNXNA+mG7NNkHtQtvUH8Lb2omjJUC\n",
       "Cc+fqZx2Xl3JFyA5aLf6Akndny0M0l3fUdGCUeeQOpfu1aFYKZDw5LlXteXD3z8RrFQ7vf3UbD5P\n",
       "Ldq+sZFBqjrE3aBhEKxQZqp6rw7FSoGEF+VZiwx/diJfcKzuTJPS86QkzSCHYLkZ4OiceV0dipUB\n",
       "Yt7ZQWSvtEidHDI7eWC3as9kOXRx3e4HOWYmU5yP9tajKdPMRLEyQMw7976nMlKnxr6tDbDlfFcO\n",
       "wuPpaUSaoUhkQ+Vp02fXWLADUQdj5YCIl31rfN9zCCwqXK1u9lU7/ZEsZBwZkWOBL5GZiHPWtoji\n",
       "9E91f9cRUKwsEPJKttKsdfMI7dHtrFPaOjpFX8gw/nULzFitZKw19e87uHdTNIqVAyLe8mp9O61f\n",
       "ufBg5XMAk9jUYXYDmgLXb1/74mg8xGYfvoM4fHa/e7KWb0D9JJ5uagnin6lrE+q2eiPMT/9tQB1+\n",
       "T53YLLSzC6F6yGcc7AfqvgB48R88B5X2NgAAAABJRU5ErkJggg==\n",
       "\" style=\"display:inline;vertical-align:middle;\" /></a></td></tr>\n",
       "<tr><td>1</td><td>Operation</td><td>operator:&nbsp;6<br>operands:&nbsp;3<br></td><td><a class=\"ProveItLink\" href=\"../528d2fb3aa83a0886ba66f6419372d2840f84c760/expr.ipynb\"><img src=\"data:image/png;base64,iVBORw0KGgoAAAANSUhEUgAAAFkAAAAVBAMAAADfv1+LAAAAMFBMVEX////c3NwiIiJERESqqqqY\n",
       "mJh2dnZmZmYQEBDu7u4yMjJUVFTMzMyIiIi6uroAAAAs73DqAAAAAXRSTlMAQObYZgAAAZlJREFU\n",
       "KM9jYCAN8F3AFIvDqfo0KpdzhwIDA/sBdFW8WuubzIH0SjRxrg1AYgGaIM/7B5z5t4Ga0B3C7wAk\n",
       "wtAEA7YyMLD8ZmDgmIAm8R4kMAPqrFtKSiBrWCc0AMlqBoZX6C5MAhHMDmD2qUiIGDsjyHlzGRjK\n",
       "gBTj3rxGuOrVd4G2shWAmIyWULHpfAkQxlIgfiHA/AEeJp8Z+A8wsIC9ySwAFTzGEgBh9AGN+MrA\n",
       "bgBizwRilp8MHAkMfCB3MkyGGXGMD6r6HwMD9wcGJlDIcH4COXEBA38BAw/YrhdKShBfTuZJgKvm\n",
       "N2CYD4oOzmYgwVTA8D4AqhoecVwTNkAYLQwM8hcY/BkmIIK7fgLUJZNgqlkTQKo5GRhMGRjmOzDs\n",
       "YoHFNdCLbUBpsC+5A2DKTd8CiUcTGNKB9gSwqLPBxLkd2DfAQpBTDy66+SbnY2B4PgIF973D9+Ah\n",
       "uLcU5NAHYI5UDUz4uP6PfUCKQwBbwoTGPIP3IiWUBMaagE11Lq70vRKLGOcCXKqlsYhxC+BSzYgl\n",
       "p93BoRYAzOVd5fEYkAwAAAAASUVORK5CYII=\n",
       "\" style=\"display:inline;vertical-align:middle;\" /></a></td></tr>\n",
       "<tr><td>2</td><td>ExprTuple</td><td>4</td><td><a class=\"ProveItLink\" href=\"../5fc152f578cac606786f806edbbbdb316d1f31710/expr.ipynb\"><img src=\"data:image/png;base64,iVBORw0KGgoAAAANSUhEUgAAAD0AAAAVBAMAAAAHs/uBAAAAMFBMVEX////c3NwiIiJERESqqqqY\n",
       "mJh2dnZmZmYQEBDu7u4yMjJUVFTMzMyIiIi6uroAAAAs73DqAAAAAXRSTlMAQObYZgAAAUhJREFU\n",
       "KM9jYCAE+C7glIoDEacZOHcooMvwaq1vMmdgPwBkrmRg4NqAJs3z/gFn/m0GhgVAlUDj+R3Q5AO2\n",
       "MjCw/GZgCGNg4JjAwPB+AkSY85aSElALA+uEBiBZzcAwg4HhFZCVBNV2KhJCszOCLJzLwMDswFAG\n",
       "ZK2+uxUkzGgJVTedLwHCYCtgWAo09jMDP8ilzAJQ+WMsARAGywKGPiD5k4EDpGEyzHnH+KDyfA0M\n",
       "/4DWLWDgLwDyXigpQdw3mQdqPs8HkDxTAcP7AHBIQQHXhA1w+Raw9+tBPpwEk2dNAMlzgs03ZQA5\n",
       "rg0kzB0AU2D6Fkg8msDAuoAhHSjuwA42j1MPJs+9+SbnY0uw/x4BxfeWQoSlamAKjuv/2AdyyAMG\n",
       "DgGkcPdeBHY/HMwAuQVP2siFxC8uwAkyTBq3PDfIbkbc6esOAwMA0gRLorpQpD4AAAAASUVORK5C\n",
       "YII=\n",
       "\" style=\"display:inline;vertical-align:middle;\" /></a></td></tr>\n",
       "<tr><td>3</td><td>ExprTuple</td><td>5, 10</td><td><a class=\"ProveItLink\" href=\"../f3fe8e8691a24d9b2cd4416f90f2bbd32e1394c00/expr.ipynb\"><img src=\"data:image/png;base64,iVBORw0KGgoAAAANSUhEUgAAAEcAAAAVBAMAAADm2O7QAAAAMFBMVEX////c3NwiIiJERESqqqqY\n",
       "mJh2dnZmZmYQEBDu7u4yMjJUVFTMzMyIiIi6uroAAAAs73DqAAAAAXRSTlMAQObYZgAAAXBJREFU\n",
       "KM+NUr9Lw2AQfW2TJl/TJt0ddBNc7FLELf+BmRyluDipWXRxsP7AUQIO1kGaxUEcLEhBhEpBqINL\n",
       "V1FLrYsI0qgIiiB+l6YxhqBmuHu5e7l7dzngX4/a/D0/RebiZ4wdD/VhZuRwdQxSncP90JepigfS\n",
       "3TabvwJsTg9303QPGFVA+AAmAdkKkbpeQLSK3C4BJeAhLHTa81KM+u4CCR2LHMVqcys+6eCm6vpt\n",
       "tdALJE3scXefTTj+dC/QaB40BKMXEWxs8kKvkHL0ukOhd8huiYbqkdQiPgHFQZxmZM8kxYZmUm4r\n",
       "7bVLO0TScihTB7bGTdxE1y2Rsio+aR0YbGIC1veall0sFojE3HZ5oKzjRKj3SXVsUArIP3LTsSDa\n",
       "mOGFDWE42Z9O0aUKyvT/lKNLdjfurqBDa2qdtfwV1Bb4kp8Ino++nZK4NuRs1H3cBnCJ9EWRjACe\n",
       "jTiVMInxU8FABCcTwArpif1xvtfAF4SDV7YbP4ojAAAAAElFTkSuQmCC\n",
       "\" style=\"display:inline;vertical-align:middle;\" /></a></td></tr>\n",
       "<tr><td>4</td><td>Operation</td><td>operator:&nbsp;6<br>operands:&nbsp;7<br></td><td><a class=\"ProveItLink\" href=\"../56e4bf9d0dc4ab15750dbfaaa220f8ca1295f3ab0/expr.ipynb\"><img src=\"data:image/png;base64,iVBORw0KGgoAAAANSUhEUgAAADEAAAAPBAMAAAC/wjryAAAAMFBMVEX////c3NxmZmbMzMxERESY\n",
       "mJiIiIh2dna6urqqqqoyMjIiIiIQEBBUVFTu7u4AAAAiO1wTAAAAAXRSTlMAQObYZgAAANpJREFU\n",
       "GNNj4LuzgQENsO1af9oJSHNdQJNg7m/gq88FMvgnoMkEXGVg4PwLZPQ/gAjwZe3evQBIsz44ACR1\n",
       "gbgaqtQqDkIzMYKMfwbEa9OuggQY/aAqHnEUQA35wsBvAKRZBKAy5pwBEAbnPwYekKInMAeYc0Bl\n",
       "mBYw8CsA6Z7duyEueMIMNY1bgaEfpMgWpofrAdSDQO/og9z9GibDWgCS4WMAWX8cJMAbAJNybQMS\n",
       "3Q8YeCcwgXXz7YDJ8F7J42sB+oHvmipEQEoZJmW0/88NlPCauxrsNhgAAF6vNqYvGVTbAAAAAElF\n",
       "TkSuQmCC\n",
       "\" style=\"display:inline;vertical-align:middle;\" /></a></td></tr>\n",
       "<tr><td>5</td><td>Operation</td><td>operator:&nbsp;8<br>operands:&nbsp;9<br></td><td><a class=\"ProveItLink\" href=\"../61ab107c1446ce5354a0cd8350774abf6bf94d9a0/expr.ipynb\"><img src=\"data:image/png;base64,iVBORw0KGgoAAAANSUhEUgAAACMAAAAOBAMAAABXxbiCAAAAMFBMVEX///8yMjKqqqrMzMzu7u4i\n",
       "IiJmZmaYmJhEREQQEBC6urp2dnaIiIhUVFTc3NwAAAD87Fq/AAAAAXRSTlMAQObYZgAAAJVJREFU\n",
       "GNNjYEAGLDcDGNAB4wUMIX4FDKH1DhhCW8Ek351d8+BCsmeuA8mVDzg+wG38wcBvwMD3nYGtAcR1\n",
       "AWKmLwycGxh4PzCwHgAp+Aok2AQY+BMY+BsY/A1AQjOABGsCw/oChvcHGPQZHBDOyndg8FdguMhk\n",
       "ABMyYJgN9EIBUxg3zEZeBbYLIGedsjgFd8SddAYGAJU/IJjbPt1cAAAAAElFTkSuQmCC\n",
       "\" style=\"display:inline;vertical-align:middle;\" /></a></td></tr>\n",
       "<tr><td>6</td><td>Literal</td><td></td><td><a class=\"ProveItLink\" href=\"../../../../logic/set_theory/membership/__pv_it/088cbc857536a28d4119ad9639a84270ccb0545d0/expr.ipynb\"><img src=\"data:image/png;base64,iVBORw0KGgoAAAANSUhEUgAAAAwAAAAMBAMAAACkW0HUAAAALVBMVEX///+qqqpmZmZUVFQQEBC6\n",
       "urpERETc3NyYmJjMzMwiIiIyMjKIiIju7u4AAACYsrA9AAAAAXRSTlMAQObYZgAAADxJREFUCNdj\n",
       "YOA9vWrVBgaG2b0MQMCeCyIZ2ArA1DUwyRCyahVIyWQI7xaEYm4AU7xLIdxqTQgtvGvVBgCkcQ7e\n",
       "geM/tQAAAABJRU5ErkJggg==\n",
       "\" style=\"display:inline;vertical-align:middle;\" /></a></td></tr>\n",
       "<tr><td>7</td><td>ExprTuple</td><td>12, 10</td><td><a class=\"ProveItLink\" href=\"../f33a637244d78aac01d603f401a379e61b9aa1660/expr.ipynb\"><img src=\"data:image/png;base64,iVBORw0KGgoAAAANSUhEUgAAAC0AAAAVBAMAAAAgHXppAAAAMFBMVEX////c3NwiIiJERESqqqqY\n",
       "mJh2dnZmZmYQEBDu7u4yMjJUVFTMzMyIiIi6uroAAAAs73DqAAAAAXRSTlMAQObYZgAAASdJREFU\n",
       "GNN1kbFLw1AQh79qYpImJu4uzi5ORdzyJ3RylOLiJHbRxcEi4igBB7uIWRzEwYAUXBSnOri4igq1\n",
       "boJEcVEE8d3LqwSLbzjuPn7vd/fuwX8nvBlCCxKu8c6mBmR8+mRzFudSpUdQzQwO8p63cgepUiib\n",
       "KDa83gHrC+bBTSBPCmwnLRXXoQ3PKls0cqcihvswGrOmsuOHjuZ7YaMQjDU5BO+dSCaga9ULbqXs\n",
       "qPiJq4Xd0PCwxbeyTYmaUu4Gxid4FT7SJNfCapL98i09/oae1G4I97RPDWm6LRXUXlToJ9gpS+DH\n",
       "TsaB7Mg/vfWe5vScfXXxfFU98U0uXM18XEijHu6EeexjadFt6TXYWYkvF3v+yz21ZybNj5TkvnhX\n",
       "hv/xHn4AzB1Fc5V7R3cAAAAASUVORK5CYII=\n",
       "\" style=\"display:inline;vertical-align:middle;\" /></a></td></tr>\n",
       "<tr><td>8</td><td>Literal</td><td></td><td><a class=\"ProveItLink\" href=\"../21fd2079611555ecce512d99547a00d551e6b86b0/expr.ipynb\"><img src=\"data:image/png;base64,iVBORw0KGgoAAAANSUhEUgAAAAMAAAADBAMAAACkBqiMAAAAElBMVEX///9EREQQEBAiIiLu7u4A\n",
       "AABGBidwAAAAAXRSTlMAQObYZgAAABFJREFUCNdjYHFgcDVgcBIAAASWAQx4jI0xAAAAAElFTkSu\n",
       "QmCC\n",
       "\" style=\"display:inline;vertical-align:middle;\" /></a></td></tr>\n",
       "<tr><td>9</td><td>ExprTuple</td><td>11, 12</td><td><a class=\"ProveItLink\" href=\"../359d2ffcad0b096b85ece3bdabdf3ac9ad97321c0/expr.ipynb\"><img src=\"data:image/png;base64,iVBORw0KGgoAAAANSUhEUgAAACkAAAAVBAMAAAAp9toTAAAAMFBMVEX////c3NwiIiJERESqqqqY\n",
       "mJh2dnZmZmYQEBDu7u4yMjJUVFTMzMyIiIi6uroAAAAs73DqAAAAAXRSTlMAQObYZgAAAQxJREFU\n",
       "GNNtkSFPw1AQx3/burWlbJ1HgMPO4PsNqEKSBYOC1IAFEoIklXOtQRDMDAkhWdIEidkHgAVQBLOS\n",
       "ZQJDuGv3km7hiXv/+72Xe/+7B/+vzngF7Gt4rgD3YQvsTNRt9d7aUEIK7aUCfiBhD5y4SqeaDeBr\n",
       "6aUDDY2AU9lqo+OLkt693kMr4kb0Z7eRlx5m+BlWyrVcnWP3Cmr94PTpnPMLXk69dGKn+BHruVK/\n",
       "R5IVtB4xDZVewuaYXeKF3bNYK+xAEvBoZa7SjCtophxKm6G13SKREXiBPSycfajdydOEwbc4G53o\n",
       "MN5wuqavdyOk42bfJKERR9VJGurKJNlYJG1z6mnN2uoPvcAf68w9OrA141UAAAAASUVORK5CYII=\n",
       "\" style=\"display:inline;vertical-align:middle;\" /></a></td></tr>\n",
       "<tr><td>10</td><td>Literal</td><td></td><td><a class=\"ProveItLink\" href=\"../../../sets/complex/__pv_it/c357845f93a5a2d9f649129d299e7ec28dda4b960/expr.ipynb\"><img src=\"data:image/png;base64,iVBORw0KGgoAAAANSUhEUgAAAA8AAAAOBAMAAAACpFvcAAAAMFBMVEX////c3NyqqqqYmJhUVFR2\n",
       "dnbu7u66urrMzMxmZmZEREQQEBAyMjIiIiKIiIgAAAB7fvZ0AAAAAXRSTlMAQObYZgAAAGVJREFU\n",
       "CNdjYGDgu3N+70oGBgaO+gK2+CdAhoEzAwPTFwYG5oQNQN4UBgZORgcgI4+BIZM9gAEMWpkMoAx2\n",
       "KCOLAyrFk+AAYTAHgBhsQLy4DkjUJjAwsHg9Y6taBpLsvP/bnYEBACkBFGQfBv8RAAAAAElFTkSu\n",
       "QmCC\n",
       "\" style=\"display:inline;vertical-align:middle;\" /></a></td></tr>\n",
       "<tr><td>11</td><td>Variable</td><td></td><td><a class=\"ProveItLink\" href=\"../../../../__pv_it/07527342713064c87612d00d8557c53d53d5324a0/expr.ipynb\"><img src=\"data:image/png;base64,iVBORw0KGgoAAAANSUhEUgAAAAsAAAAJBAMAAAAWSsseAAAAMFBMVEX///8yMjKqqqrMzMzu7u4i\n",
       "IiJmZmaYmJhEREQQEBC6urp2dnaIiIhUVFTc3NwAAAD87Fq/AAAAAXRSTlMAQObYZgAAAEhJREFU\n",
       "CNdjYOC7s2seAwPDygccHxgY+L4zsDUwMPB+YGA9wMDA38Dgb8DA8P4Agz6DA4O/AsNFJgMGxgKm\n",
       "MG6gyjunLE4xAAAZTBA5TB6DCwAAAABJRU5ErkJggg==\n",
       "\" style=\"display:inline;vertical-align:middle;\" /></a></td></tr>\n",
       "<tr><td>12</td><td>Variable</td><td></td><td><a class=\"ProveItLink\" href=\"../../../../__pv_it/6840a4fa6c106149dc16a131294d0c5e44f1b0480/expr.ipynb\"><img src=\"data:image/png;base64,iVBORw0KGgoAAAANSUhEUgAAAAkAAAAOBAMAAAAPuiubAAAALVBMVEX///9mZmbMzMxERESYmJiI\n",
       "iIh2dna6urqqqqoyMjIiIiIQEBBUVFTu7u4AAAD9S1JeAAAAAXRSTlMAQObYZgAAAE1JREFUCNdj\n",
       "4D29gAEIOA+ASL4GEFl3AURmgQiGOaFHGBh4HzPwKTBwvGXgTmBgnMDAJ8DAJcBQ5wBSLncBJLWN\n",
       "gYGngRFoBO9REQYGAGrcDtUkVqASAAAAAElFTkSuQmCC\n",
       "\" style=\"display:inline;vertical-align:middle;\" /></a></td></tr>\n",
       "</table>\n"
      ],
      "text/plain": [
       "0. b -> ((a * b) in Complexes) | b in Complexes\n",
       "   core type: Lambda\n",
       "   parameter: 12\n",
       "   body: 1\n",
       "   conditions: 2\\n1. (a * b) in Complexes\n",
       "   core type: Operation\n",
       "   operator: 6\n",
       "   operands: 3\n",
       "2. (b in Complexes)\n",
       "   core type: ExprTuple\n",
       "   sub-expressions: 4\n",
       "3. (a * b , Complexes)\n",
       "   core type: ExprTuple\n",
       "   sub-expressions: 5, 10\n",
       "4. b in Complexes\n",
       "   core type: Operation\n",
       "   operator: 6\n",
       "   operands: 7\n",
       "5. a * b\n",
       "   core type: Operation\n",
       "   operator: 8\n",
       "   operands: 9\n",
       "6. in\n",
       "   core type: Literal\n",
       "   sub-expressions: \n",
       "7. (b , Complexes)\n",
       "   core type: ExprTuple\n",
       "   sub-expressions: 12, 10\n",
       "8. *\n",
       "   core type: Literal\n",
       "   sub-expressions: \n",
       "9. (a , b)\n",
       "   core type: ExprTuple\n",
       "   sub-expressions: 11, 12\n",
       "10. Complexes\n",
       "    core type: Literal\n",
       "    sub-expressions: \n",
       "11. a\n",
       "    core type: Variable\n",
       "    sub-expressions: \n",
       "12. b\n",
       "    core type: Variable\n",
       "    sub-expressions: "
      ]
     },
     "execution_count": 4,
     "metadata": {},
     "output_type": "execute_result"
    }
   ],
   "source": [
    "# display the expression information\n",
    "expr.exprInfo()"
   ]
  },
  {
   "cell_type": "code",
   "execution_count": null,
   "metadata": {},
   "outputs": [],
   "source": []
  }
 ],
 "metadata": {
  "kernelspec": {
   "display_name": "Python 3",
   "language": "python",
   "name": "python3"
  }
 },
 "nbformat": 4,
 "nbformat_minor": 0
}
