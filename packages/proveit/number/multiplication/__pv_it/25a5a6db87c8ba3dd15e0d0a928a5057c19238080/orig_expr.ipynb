{
 "cells": [
  {
   "cell_type": "markdown",
   "metadata": {},
   "source": [
    "Temporary notebook for <a class=\"ProveItLink\" href=\"../../_theorems_.ipynb#distributeThroughSum\">distributeThroughSum</a> of type <a href=\"../../../../../../doc/html/api/proveit.logic.Forall.html\">Forall</a>\n",
    "=======================\n",
    "# a not-yet-official Theorem from context <a class=\"ProveItLink\" href=\"../../_context_.ipynb\">proveit.number.multiplication</a>"
   ]
  },
  {
   "cell_type": "code",
   "execution_count": null,
   "metadata": {},
   "outputs": [],
   "source": [
    "# import Expression classes needed to build the expression\n",
    "from proveit import Indexed, Iter, Variable\n",
	"from proveit._common_ import AA, BB, CC, i, l, m, n\n",
	"from proveit.logic import Equals, Forall\n",
	"from proveit.logic._common_ import iterC1n\n",
	"from proveit.number import Add, Complexes, Exp, Mult, Naturals, one"
   ]
  },
  {
   "cell_type": "code",
   "execution_count": null,
   "metadata": {},
   "outputs": [],
   "source": [
    "# build up the expression from sub-expressions\n",
    "subExpr1 = Variable(\"_x_\", latexFormat = r\"{_{-}x_{-}}\")\n",
	"subExpr2 = []\n",
	"subExpr3 = Iter(subExpr1, Indexed(AA, subExpr1, base = 1), one, l)\n",
	"expr = Forall([l, m, n], Forall([AA, BB, CC], Equals(Mult(subExpr3, Add(Iter(subExpr1, Indexed(BB, subExpr1, base = 1), one, m)), iterC1n), Add(Iter(i, Mult(subExpr3, Indexed(BB, i, base = 1), iterC1n), one, m))), domains = [Exp(Complexes, l), Exp(Complexes, m), Exp(Complexes, n)], conditions = subExpr2), domain = Naturals, conditions = subExpr2)"
   ]
  },
  {
   "cell_type": "code",
   "execution_count": null,
   "metadata": {},
   "outputs": [],
   "source": [
    "# check that the built expression is the same as the stored expression\n",
    "%check_expr"
   ]
  },
  {
   "cell_type": "code",
   "execution_count": null,
   "metadata": {},
   "outputs": [],
   "source": [
    "# display the expression information\n",
    "expr.exprInfo()"
   ]
  },
  {
   "cell_type": "code",
   "execution_count": null,
   "metadata": {},
   "outputs": [],
   "source": []
  }
 ],
 "metadata": {
  "kernelspec": {
   "display_name": "Python 3",
   "language": "python",
   "name": "python3"
  }
 },
 "nbformat": 4,
 "nbformat_minor": 0
}
