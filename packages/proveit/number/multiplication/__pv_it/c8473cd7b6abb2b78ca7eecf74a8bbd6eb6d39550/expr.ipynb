{
 "cells": [
  {
   "cell_type": "markdown",
   "metadata": {},
   "source": [
    "Expression of type <a class=\"ProveItLink\" href=\"../../../../../../doc/html/api/proveit.Lambda.html\">Lambda</a>\n",
    "=======================\n",
    "# from context <a class=\"ProveItLink\" href=\"../../_context_.ipynb\">proveit.number.multiplication</a>"
   ]
  },
  {
   "cell_type": "code",
   "execution_count": 1,
   "metadata": {},
   "outputs": [],
   "source": [
    "# import Expression classes needed to build the expression\n",
    "from proveit import Lambda\n",
    "from proveit._common_ import a, b\n",
    "from proveit.logic import InSet\n",
    "from proveit.number import Mult, NaturalsPos"
   ]
  },
  {
   "cell_type": "code",
   "execution_count": 2,
   "metadata": {},
   "outputs": [
    {
     "data": {
      "text/html": [
       "<strong id=\"expr\">expr:</strong> <a class=\"ProveItLink\" href=\"expr.ipynb\"><img src=\"data:image/png;base64,iVBORw0KGgoAAAANSUhEUgAAAPoAAAAbCAMAAABiKmIoAAAANlBMVEX///8UFBQNDQ3c3NxmZmbM\n",
       "zMxERESYmJiIiIh2dna6urqqqqoyMjIiIiIQEBBUVFTu7u4AAABebULIAAAAAXRSTlMAQObYZgAA\n",
       "AtVJREFUWMPtWMmWIiEQZIZ9h///2alCWQtZtLU9DId+Pu0KIsjIJLMA+MIlvxNfiPdLJ/EDfzP+\n",
       "1sIWfFD6m3Z7SrpT7pPSAWMdu8JfkW5pMj5beoCK16jpq04ufkq6s0avPgPNohUzKMITG3lCgpWQ\n",
       "9lpepDM7kj7nPsFXyxmFUHpmZvwEqmYhoADfuPjTVupY5vxzc5Xzbhj1Ofchvl8u9kYMcrBeCZRO\n",
       "yrTV+A5nermo6VD6nPsIX/jV0oV9OoPZIxnUmcqATOljFVaw4nCQxY+kIzKSfuG+h8+XU53Fh8XM\n",
       "xSUoKQKDFW0PzeKjboSboyud+pH0lvsmvrKM5cpdi5KVn2z8EUUTQ8u4MLCX6gmUo1wmydUtR0Ak\n",
       "C+nYlX71ZCm95r6L7/z5ycdC3ByjLbFIKl333YJq4juFtQCV+TRJ55BOLyIBKMvUbJVkeFDha+67\n",
       "+DIcq+F96c4WaArV5Q56WmWjS+dUgoq0pev1EiEN7ZmOpnufevFYesN9Fx+FoPio6u8fXS1TbK3j\n",
       "P92/syHemqUY6B5oLo7CRFTVUHNnOnalu0sNL6Q33Hfxgx7haT/qR4EED6UHu7nkN2dIDzRL7/ZB\n",
       "gRrAHDwR9Yb7Ln44VZSKSSMdwV7/YOSNFQumO0SPQAvD64fUAJX91hqOcr3hvosfoFO6NNJx1bpY\n",
       "kjuk5MWj7Es8AqWqMwJcqAEOSb9BgAPpNfddfHvwR9kpdZtWh5PFc7nfV2ehl4fprv1aCVpcbk5f\n",
       "Rw8iqsS9zD+je73hvovvLEN08TVFpCF0vNWZwIQJMAJVxc9QNeOMUD5WCNeVztVwfGm47+OvrpR3\n",
       "Zn1mrhtZIK2qK/BsDGJ7Q+su/vK4zhdnkpIpe2VHd0n1H5jXn3o9pZeH1jwwv7QjJeA7pOdRBK7O\n",
       "+Pa110kaf4t0mGII13zM8GtBRx3I35EOJP/oSRPwRYvKD26GHPi/3rD+Ab/rIvT4vbeQAAAAAElF\n",
       "TkSuQmCC\n",
       "\" style=\"display:inline;vertical-align:middle;\" /></a><br>"
      ],
      "text/plain": [
       "expr: b -> ((a * b) in NaturalsPos) | b in NaturalsPos"
      ]
     },
     "execution_count": 2,
     "metadata": {},
     "output_type": "execute_result"
    }
   ],
   "source": [
    "# build up the expression from sub-expressions\n",
    "expr = Lambda(b, InSet(Mult(a, b), NaturalsPos), conditions = [InSet(b, NaturalsPos)])"
   ]
  },
  {
   "cell_type": "code",
   "execution_count": 3,
   "metadata": {},
   "outputs": [
    {
     "name": "stdout",
     "output_type": "stream",
     "text": [
      "Passed sanity check: built 'expr' is the same as the stored Expression.\n"
     ]
    }
   ],
   "source": [
    "# check that the built expression is the same as the stored expression\n",
    "%check_expr"
   ]
  },
  {
   "cell_type": "code",
   "execution_count": 4,
   "metadata": {},
   "outputs": [
    {
     "data": {
      "text/html": [
       "<table><tr><th>&nbsp;</th><th>core type</th><th>sub-expressions</th><th>expression</th></tr>\n",
       "<tr><td>0</td><td>Lambda</td><td>parameter:&nbsp;12<br>body:&nbsp;1<br>conditions:&nbsp;2<br></td><td><a class=\"ProveItLink\" href=\"expr.ipynb\"><img src=\"data:image/png;base64,iVBORw0KGgoAAAANSUhEUgAAAPoAAAAbCAMAAABiKmIoAAAANlBMVEX///8UFBQNDQ3c3NxmZmbM\n",
       "zMxERESYmJiIiIh2dna6urqqqqoyMjIiIiIQEBBUVFTu7u4AAABebULIAAAAAXRSTlMAQObYZgAA\n",
       "AtVJREFUWMPtWMmWIiEQZIZ9h///2alCWQtZtLU9DId+Pu0KIsjIJLMA+MIlvxNfiPdLJ/EDfzP+\n",
       "1sIWfFD6m3Z7SrpT7pPSAWMdu8JfkW5pMj5beoCK16jpq04ufkq6s0avPgPNohUzKMITG3lCgpWQ\n",
       "9lpepDM7kj7nPsFXyxmFUHpmZvwEqmYhoADfuPjTVupY5vxzc5Xzbhj1Ofchvl8u9kYMcrBeCZRO\n",
       "yrTV+A5nermo6VD6nPsIX/jV0oV9OoPZIxnUmcqATOljFVaw4nCQxY+kIzKSfuG+h8+XU53Fh8XM\n",
       "xSUoKQKDFW0PzeKjboSboyud+pH0lvsmvrKM5cpdi5KVn2z8EUUTQ8u4MLCX6gmUo1wmydUtR0Ak\n",
       "C+nYlX71ZCm95r6L7/z5ycdC3ByjLbFIKl333YJq4juFtQCV+TRJ55BOLyIBKMvUbJVkeFDha+67\n",
       "+DIcq+F96c4WaArV5Q56WmWjS+dUgoq0pev1EiEN7ZmOpnufevFYesN9Fx+FoPio6u8fXS1TbK3j\n",
       "P92/syHemqUY6B5oLo7CRFTVUHNnOnalu0sNL6Q33Hfxgx7haT/qR4EED6UHu7nkN2dIDzRL7/ZB\n",
       "gRrAHDwR9Yb7Ln44VZSKSSMdwV7/YOSNFQumO0SPQAvD64fUAJX91hqOcr3hvosfoFO6NNJx1bpY\n",
       "kjuk5MWj7Es8AqWqMwJcqAEOSb9BgAPpNfddfHvwR9kpdZtWh5PFc7nfV2ehl4fprv1aCVpcbk5f\n",
       "Rw8iqsS9zD+je73hvovvLEN08TVFpCF0vNWZwIQJMAJVxc9QNeOMUD5WCNeVztVwfGm47+OvrpR3\n",
       "Zn1mrhtZIK2qK/BsDGJ7Q+su/vK4zhdnkpIpe2VHd0n1H5jXn3o9pZeH1jwwv7QjJeA7pOdRBK7O\n",
       "+Pa110kaf4t0mGII13zM8GtBRx3I35EOJP/oSRPwRYvKD26GHPi/3rD+Ab/rIvT4vbeQAAAAAElF\n",
       "TkSuQmCC\n",
       "\" style=\"display:inline;vertical-align:middle;\" /></a></td></tr>\n",
       "<tr><td>1</td><td>Operation</td><td>operator:&nbsp;6<br>operands:&nbsp;3<br></td><td><a class=\"ProveItLink\" href=\"../bc2ec397e455afc3960e300ed4fdcac8de978b610/expr.ipynb\"><img src=\"data:image/png;base64,iVBORw0KGgoAAAANSUhEUgAAAGYAAAAYBAMAAAD62ZXgAAAAMFBMVEX////c3NwiIiJERESqqqqY\n",
       "mJh2dnZmZmYQEBDu7u4yMjJUVFTMzMyIiIi6uroAAAAs73DqAAAAAXRSTlMAQObYZgAAAaxJREFU\n",
       "OMtjYCARODCQDgzoqYfvAqZEHAE9p1HFOHcoMDCwH0ATXG+8koFdXwWmZyWaQVwbgMQCNEHmgMMM\n",
       "DPwM3KtWda1ay8CL7jR+UGiGoQly6wDVccDcxjEBTfo9SGAG1E23lJTAVnK/mrAHoecVuieTwG6B\n",
       "RN2pSJg9ZzbMmgDXUwbEjHvzGuF6Vt/dysDAVgBiMlrC3XbAl8cArmcpEL8QYP4AD6LPDPwHGFjA\n",
       "LmIWQOhhfxAL1gMKoT6gcV8Z2MFBOBOIWX4ycCQw8DWA+JMRYXCAYSf3CRjvH1DgAwMTKPQ4PwEJ\n",
       "9gUM/AUMPGB7XygpwcLgAMNszhVIevgNGOaDIpGzGUgwFTC8D4DqOY1sD08C3J4WBgb5Cwz+DBMQ\n",
       "0VM/Aeq2Sch6GEKYYTxTBob5Dgy7WGCpBRgAbQwMrBAXBSDrYROG8dKBqSWARZ0NLuvAvgEW1px6\n",
       "8LTzAEhUwXiPQNFz7/A9eFjvLQUlugdgjlQNRJBvPcirs2BqOASwpXho2mHwXqS0AFOWNQGbnlz8\n",
       "GW8lFjHOBfj1SGMR4xbAr4cRS96+g1cHAKHBY7d4zMgIAAAAAElFTkSuQmCC\n",
       "\" style=\"display:inline;vertical-align:middle;\" /></a></td></tr>\n",
       "<tr><td>2</td><td>ExprTuple</td><td>4</td><td><a class=\"ProveItLink\" href=\"../7b93e33deb0e2c9ac29e3cc6947993f06137df9f0/expr.ipynb\"><img src=\"data:image/png;base64,iVBORw0KGgoAAAANSUhEUgAAAEwAAAAbBAMAAAAkMnRXAAAAMFBMVEX///+qqqp2dnYiIiJERESI\n",
       "iIhmZmYQEBDc3NyYmJgyMjLu7u5UVFTMzMy6uroAAACGxKilAAAAAXRSTlMAQObYZgAAAYdJREFU\n",
       "OMuNkr9Lw1AQx7+12jZ9SZs/wKHg4lgIiItSR38gASmCOBScRNTiX9DByamCm0tAUGg7BOrUpQUV\n",
       "UYgUcZKCboKDVSwolIr30qRJi/R5kLt37z7c3bsLMFQC3vFtCDbKVYIrpSbCGlxVTBE2ppO6gQjD\n",
       "NBDJgl0n+4OV1oKJjU/VxdaBUAaIDrY3r6SAd9wWzgoFqlg1EX4G4uoAdlFPA9le0WAeT2SazivY\n",
       "mqYZ/HBXlOs+LJTCKpkJJ8njsXOwGqzowySqT6aUtp8bWXSLWgH9wYfF2liiWi3E6/wu18OwI+kc\n",
       "k21X6eCUFtdGmC/kHB4mm1a250Z+MEUdGojTWPCiac4TLLBaxcPYB8eCGTTz7u6cbLhX+rKV7LHt\n",
       "8pGU/Zikpjysg0vw/ve4J+d9GCY9LPaNFQqrIXtbbNa9X4bdsSs0tyaFrza77sF2175+USbmYSNG\n",
       "d2KujJ9oxh+/U1SHnIBQqjkoSTF2RN+cGJvhfQspia8oIGxu39aHImwL/5VfiX5fm27cf/IAAAAA\n",
       "SUVORK5CYII=\n",
       "\" style=\"display:inline;vertical-align:middle;\" /></a></td></tr>\n",
       "<tr><td>3</td><td>ExprTuple</td><td>5, 10</td><td><a class=\"ProveItLink\" href=\"../649d18ef33450ed902f16a95c8624778e3611e2c0/expr.ipynb\"><img src=\"data:image/png;base64,iVBORw0KGgoAAAANSUhEUgAAAFYAAAAbBAMAAAAUvmV2AAAAMFBMVEX///+qqqp2dnYiIiJERESI\n",
       "iIhmZmYQEBDc3NyYmJgyMjLu7u5UVFTMzMy6uroAAACGxKilAAAAAXRSTlMAQObYZgAAAaRJREFU\n",
       "OMuVks9LAkEUx7/rb53ddv+DFrp0Ck/SJbBjEbEQ0iVE6BRBSXTo6KFTlwz6AzwVqIe9BXZQKIkE\n",
       "YwmPQt2KDmkoZIjRjO64ugpuD+bN27efffvm+waYbYIVfs5iPcypzEklR2yduYLuiPVq1D3CEYtl\n",
       "IJAcf0EewoOg0F7XsdtSOLsD+BK2KiHe/5oUBZqoZK+zWdpAUYf/1cbKihncGTEgOezBncaLvbsG\n",
       "P+tTTjRGWF8U23Z2gQfVOsmNsEHaDt0C5aWTIZuPmcpUBa02ws51sUG3t5SnOdShDdkYsDgIaowV\n",
       "+49SD1e07A9rhtotG34XftVkRb1qKRr4RYR+14SbTYW02BEykBMmS0oFiyVfjJWjKLLfkmMmTQKN\n",
       "tMniWRqrmwfONcxDt+Q91DkbVKIW28M9nYiCimBw1sARiMli0WLnOtiiU00LERdPiYqvhCK7E5uD\n",
       "7rlRfRtM3ngtPjxCeQ+46QAf37QmsVhXhotps/fJVEiDqE5j05OpYgpS2CF7SdfqFNQ7JbdC1xkc\n",
       "WZANU1Adsad9f+GI3ce/7A9CQWpYRLV9WgAAAABJRU5ErkJggg==\n",
       "\" style=\"display:inline;vertical-align:middle;\" /></a></td></tr>\n",
       "<tr><td>4</td><td>Operation</td><td>operator:&nbsp;6<br>operands:&nbsp;7<br></td><td><a class=\"ProveItLink\" href=\"../14069116923506025df8821351dbe31db672a4fc0/expr.ipynb\"><img src=\"data:image/png;base64,iVBORw0KGgoAAAANSUhEUgAAAD0AAAAUBAMAAADM7ygkAAAAMFBMVEX////c3NxmZmbMzMxERESY\n",
       "mJiIiIh2dna6urqqqqoyMjIiIiIQEBBUVFTu7u4AAAAiO1wTAAAAAXRSTlMAQObYZgAAAPRJREFU\n",
       "KM9jYMANOBnwAxZ6yPPd2YAq+uqL1wMG7d8TYPq5LqBpc2V2YGD4wHBr1ZpVqxIYGPgnoMnfNkhj\n",
       "YDgAt7//AUSYL2v37gUgxo11vAZI8tVQbVZxUMZlW751SPJr066CKEY/mPmXORNMEPJ8Xxj4DUAc\n",
       "Abg8gwZrAkieFxzI/xh4CoD0EwaEPO+DywdgPKYFDPwKQLpn926o+y4z8F14BZfnVmDoDwDStkj6\n",
       "GcyZ4fJA7+uDfPgaWZ51ggNc3oDhOIjmDUCSZyiEy/NOYAIHMN8OmIgHxFVQwHdNFcKQUobQXX+A\n",
       "evkWYEbn3NW7MUUBsxNDSs6TAEkAAAAASUVORK5CYII=\n",
       "\" style=\"display:inline;vertical-align:middle;\" /></a></td></tr>\n",
       "<tr><td>5</td><td>Operation</td><td>operator:&nbsp;8<br>operands:&nbsp;9<br></td><td><a class=\"ProveItLink\" href=\"../61ab107c1446ce5354a0cd8350774abf6bf94d9a0/expr.ipynb\"><img src=\"data:image/png;base64,iVBORw0KGgoAAAANSUhEUgAAACMAAAAOBAMAAABXxbiCAAAAMFBMVEX///8yMjKqqqrMzMzu7u4i\n",
       "IiJmZmaYmJhEREQQEBC6urp2dnaIiIhUVFTc3NwAAAD87Fq/AAAAAXRSTlMAQObYZgAAAJVJREFU\n",
       "GNNjYEAGLDcDGNAB4wUMIX4FDKH1DhhCW8Ek351d8+BCsmeuA8mVDzg+wG38wcBvwMD3nYGtAcR1\n",
       "AWKmLwycGxh4PzCwHgAp+Aok2AQY+BMY+BsY/A1AQjOABGsCw/oChvcHGPQZHBDOyndg8FdguMhk\n",
       "ABMyYJgN9EIBUxg3zEZeBbYLIGedsjgFd8SddAYGAJU/IJjbPt1cAAAAAElFTkSuQmCC\n",
       "\" style=\"display:inline;vertical-align:middle;\" /></a></td></tr>\n",
       "<tr><td>6</td><td>Literal</td><td></td><td><a class=\"ProveItLink\" href=\"../../../../logic/set_theory/membership/__pv_it/088cbc857536a28d4119ad9639a84270ccb0545d0/expr.ipynb\"><img src=\"data:image/png;base64,iVBORw0KGgoAAAANSUhEUgAAAAwAAAAMBAMAAACkW0HUAAAALVBMVEX///+qqqpmZmZUVFQQEBC6\n",
       "urpERETc3NyYmJjMzMwiIiIyMjKIiIju7u4AAACYsrA9AAAAAXRSTlMAQObYZgAAADxJREFUCNdj\n",
       "YOA9vWrVBgaG2b0MQMCeCyIZ2ArA1DUwyRCyahVIyWQI7xaEYm4AU7xLIdxqTQgtvGvVBgCkcQ7e\n",
       "geM/tQAAAABJRU5ErkJggg==\n",
       "\" style=\"display:inline;vertical-align:middle;\" /></a></td></tr>\n",
       "<tr><td>7</td><td>ExprTuple</td><td>12, 10</td><td><a class=\"ProveItLink\" href=\"../e0c0609e75a6ac5edcab0dd9525fb4b857a5314e0/expr.ipynb\"><img src=\"data:image/png;base64,iVBORw0KGgoAAAANSUhEUgAAADwAAAAbBAMAAADSe/HPAAAAMFBMVEX///+qqqp2dnYiIiJERESI\n",
       "iIhmZmYQEBDc3NyYmJgyMjLu7u5UVFTMzMy6uroAAACGxKilAAAAAXRSTlMAQObYZgAAAV5JREFU\n",
       "KM+Fkr9Lw0AUx7+19kd6SZM/IeDi2ElchDoqIgEpLg4FJxG0+Bc4ODlV8A/opJB2yCZ0aUGlKESC\n",
       "OBZ0FAejWLBQKr5L75pKe/jgvu8lH+7u+14CzIxEXL7PwPNcbC5GW4W7XJqeCqcckjuoMJaBbAWs\n",
       "Uxi9bPbWPex+WRLvAOkykJPXrxlF4AP37qXr0sktD5kXwLQEvg5KQGV8eLKKZ0qhdPdQ14MJnC5i\n",
       "m9KCdOR3WX0Ca3QPpUZJ2PcTztMEzg+wAbAezGCEcaA5HOvRozHEBQ14gIwtsO75lXH32R8skYMa\n",
       "zLLArN2MMfvkOFlGWBUYj8af3Y2o7UNPYs0qxniIG3BfR2ACYzHG+T62yKaVbqPF576JyIkM6jsk\n",
       "B7d7wFUfePumnSzGczXZMfA6/VlzDnRb1NVp3DqGUVDjc1qrozI1459ZoXUKVWh8lAlbhU8iPVPh\n",
       "ffwXv/A1WJZBvj4YAAAAAElFTkSuQmCC\n",
       "\" style=\"display:inline;vertical-align:middle;\" /></a></td></tr>\n",
       "<tr><td>8</td><td>Literal</td><td></td><td><a class=\"ProveItLink\" href=\"../21fd2079611555ecce512d99547a00d551e6b86b0/expr.ipynb\"><img src=\"data:image/png;base64,iVBORw0KGgoAAAANSUhEUgAAAAMAAAADBAMAAACkBqiMAAAAElBMVEX///9EREQQEBAiIiLu7u4A\n",
       "AABGBidwAAAAAXRSTlMAQObYZgAAABFJREFUCNdjYHFgcDVgcBIAAASWAQx4jI0xAAAAAElFTkSu\n",
       "QmCC\n",
       "\" style=\"display:inline;vertical-align:middle;\" /></a></td></tr>\n",
       "<tr><td>9</td><td>ExprTuple</td><td>11, 12</td><td><a class=\"ProveItLink\" href=\"../359d2ffcad0b096b85ece3bdabdf3ac9ad97321c0/expr.ipynb\"><img src=\"data:image/png;base64,iVBORw0KGgoAAAANSUhEUgAAACkAAAAVBAMAAAAp9toTAAAAMFBMVEX////c3NwiIiJERESqqqqY\n",
       "mJh2dnZmZmYQEBDu7u4yMjJUVFTMzMyIiIi6uroAAAAs73DqAAAAAXRSTlMAQObYZgAAAQxJREFU\n",
       "GNNtkSFPw1AQx3/burWlbJ1HgMPO4PsNqEKSBYOC1IAFEoIklXOtQRDMDAkhWdIEidkHgAVQBLOS\n",
       "ZQJDuGv3km7hiXv/+72Xe/+7B/+vzngF7Gt4rgD3YQvsTNRt9d7aUEIK7aUCfiBhD5y4SqeaDeBr\n",
       "6aUDDY2AU9lqo+OLkt693kMr4kb0Z7eRlx5m+BlWyrVcnWP3Cmr94PTpnPMLXk69dGKn+BHruVK/\n",
       "R5IVtB4xDZVewuaYXeKF3bNYK+xAEvBoZa7SjCtophxKm6G13SKREXiBPSycfajdydOEwbc4G53o\n",
       "MN5wuqavdyOk42bfJKERR9VJGurKJNlYJG1z6mnN2uoPvcAf68w9OrA141UAAAAASUVORK5CYII=\n",
       "\" style=\"display:inline;vertical-align:middle;\" /></a></td></tr>\n",
       "<tr><td>10</td><td>Literal</td><td></td><td><a class=\"ProveItLink\" href=\"../../../sets/integer/__pv_it/42d4bc2e45d5054d807f2641a228c1b440fb8de30/expr.ipynb\"><img src=\"data:image/png;base64,iVBORw0KGgoAAAANSUhEUgAAABsAAAATBAMAAACTqWsLAAAAMFBMVEX////c3Nx2dna6uroQEBCI\n",
       "iIhUVFTMzMyYmJiqqqoiIiJmZmZEREQyMjLu7u4AAADjlg78AAAAAXRSTlMAQObYZgAAAHZJREFU\n",
       "GNNjYIADTgYUwEMy9+2fsw8Ydv2aAJM9wX6AgeEDQ+7dK3fvBjAwZBWEMjA4wPUm32MrQOKml/Hd\n",
       "Q+ZyBtQgcxk2cwSAuGxQLtuDdAe47ekMfAlvkbkMRewoXI4JB5C5DIoI7mEg5r4A49l+AcrwwbgA\n",
       "axoiJO4Xc9gAAAAASUVORK5CYII=\n",
       "\" style=\"display:inline;vertical-align:middle;\" /></a></td></tr>\n",
       "<tr><td>11</td><td>Variable</td><td></td><td><a class=\"ProveItLink\" href=\"../../../../__pv_it/07527342713064c87612d00d8557c53d53d5324a0/expr.ipynb\"><img src=\"data:image/png;base64,iVBORw0KGgoAAAANSUhEUgAAAAsAAAAJBAMAAAAWSsseAAAAMFBMVEX///8yMjKqqqrMzMzu7u4i\n",
       "IiJmZmaYmJhEREQQEBC6urp2dnaIiIhUVFTc3NwAAAD87Fq/AAAAAXRSTlMAQObYZgAAAEhJREFU\n",
       "CNdjYOC7s2seAwPDygccHxgY+L4zsDUwMPB+YGA9wMDA38Dgb8DA8P4Agz6DA4O/AsNFJgMGxgKm\n",
       "MG6gyjunLE4xAAAZTBA5TB6DCwAAAABJRU5ErkJggg==\n",
       "\" style=\"display:inline;vertical-align:middle;\" /></a></td></tr>\n",
       "<tr><td>12</td><td>Variable</td><td></td><td><a class=\"ProveItLink\" href=\"../../../../__pv_it/6840a4fa6c106149dc16a131294d0c5e44f1b0480/expr.ipynb\"><img src=\"data:image/png;base64,iVBORw0KGgoAAAANSUhEUgAAAAkAAAAOBAMAAAAPuiubAAAALVBMVEX///9mZmbMzMxERESYmJiI\n",
       "iIh2dna6urqqqqoyMjIiIiIQEBBUVFTu7u4AAAD9S1JeAAAAAXRSTlMAQObYZgAAAE1JREFUCNdj\n",
       "4D29gAEIOA+ASL4GEFl3AURmgQiGOaFHGBh4HzPwKTBwvGXgTmBgnMDAJ8DAJcBQ5wBSLncBJLWN\n",
       "gYGngRFoBO9REQYGAGrcDtUkVqASAAAAAElFTkSuQmCC\n",
       "\" style=\"display:inline;vertical-align:middle;\" /></a></td></tr>\n",
       "</table>\n"
      ],
      "text/plain": [
       "0. b -> ((a * b) in NaturalsPos) | b in NaturalsPos\n",
       "   core type: Lambda\n",
       "   parameter: 12\n",
       "   body: 1\n",
       "   conditions: 2\\n1. (a * b) in NaturalsPos\n",
       "   core type: Operation\n",
       "   operator: 6\n",
       "   operands: 3\n",
       "2. (b in NaturalsPos)\n",
       "   core type: ExprTuple\n",
       "   sub-expressions: 4\n",
       "3. (a * b , NaturalsPos)\n",
       "   core type: ExprTuple\n",
       "   sub-expressions: 5, 10\n",
       "4. b in NaturalsPos\n",
       "   core type: Operation\n",
       "   operator: 6\n",
       "   operands: 7\n",
       "5. a * b\n",
       "   core type: Operation\n",
       "   operator: 8\n",
       "   operands: 9\n",
       "6. in\n",
       "   core type: Literal\n",
       "   sub-expressions: \n",
       "7. (b , NaturalsPos)\n",
       "   core type: ExprTuple\n",
       "   sub-expressions: 12, 10\n",
       "8. *\n",
       "   core type: Literal\n",
       "   sub-expressions: \n",
       "9. (a , b)\n",
       "   core type: ExprTuple\n",
       "   sub-expressions: 11, 12\n",
       "10. NaturalsPos\n",
       "    core type: Literal\n",
       "    sub-expressions: \n",
       "11. a\n",
       "    core type: Variable\n",
       "    sub-expressions: \n",
       "12. b\n",
       "    core type: Variable\n",
       "    sub-expressions: "
      ]
     },
     "execution_count": 4,
     "metadata": {},
     "output_type": "execute_result"
    }
   ],
   "source": [
    "# display the expression information\n",
    "expr.exprInfo()"
   ]
  },
  {
   "cell_type": "code",
   "execution_count": null,
   "metadata": {},
   "outputs": [],
   "source": []
  }
 ],
 "metadata": {
  "kernelspec": {
   "display_name": "Python 3",
   "language": "python",
   "name": "python3"
  }
 },
 "nbformat": 4,
 "nbformat_minor": 0
}
