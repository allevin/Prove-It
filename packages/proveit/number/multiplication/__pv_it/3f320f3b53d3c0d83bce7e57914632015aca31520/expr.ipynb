{
 "cells": [
  {
   "cell_type": "markdown",
   "metadata": {},
   "source": [
    "Expression of type <a class=\"ProveItLink\" href=\"../../../../../../doc/html/api/proveit.logic.Equals.html\">Equals</a>\n",
    "=======================\n",
    "# from context <a class=\"ProveItLink\" href=\"../../_context_.ipynb\">proveit.number.multiplication</a>"
   ]
  },
  {
   "cell_type": "code",
   "execution_count": 1,
   "metadata": {},
   "outputs": [],
   "source": [
    "# import Expression classes needed to build the expression\n",
    "from proveit import Indexed\n",
    "from proveit._common_ import AA, i, x\n",
    "from proveit.logic import Equals"
   ]
  },
  {
   "cell_type": "code",
   "execution_count": 2,
   "metadata": {},
   "outputs": [
    {
     "data": {
      "text/html": [
       "<strong id=\"expr\">expr:</strong> <a class=\"ProveItLink\" href=\"expr.ipynb\"><img src=\"data:image/png;base64,iVBORw0KGgoAAAANSUhEUgAAAEAAAAASBAMAAAAZAcURAAAAMFBMVEX///+YmJhmZmZERES6urrc\n",
       "3Nzu7u4QEBCIiIgyMjJUVFR2dnYiIiKqqqrMzMwAAAD8et6HAAAAAXRSTlMAQObYZgAAANdJREFU\n",
       "KM9jYAABvr8M+AHPbwIK9v/CL8/3/w9+BZz7/+NX0MP+PwGfPOs/zv8O2MR3LL2hAWIwKzD9F2Bg\n",
       "4FYAcTRngsAsEDObQUagBsQQZ+D4D5RkCUAzYQNDP8M9IM32l4HlvwEWKxIYFoNpru/l9f8PYHVd\n",
       "BZi8/iwt9f8HBpZmME/nDAgchrqegQ1oQy2Qef4rQwY/uhtEOT4wtDEwRIGst//LEHYHTZ73I3MB\n",
       "awMD/39gIK3///8fgwWaAjaLbbsbkfnfHuAPb94JG/ArYLUIwCYMAClxQDrjQ0MaAAAAAElFTkSu\n",
       "QmCC\n",
       "\" style=\"display:inline;vertical-align:middle;\" /></a><br>"
      ],
      "text/plain": [
       "expr: A_i = x"
      ]
     },
     "execution_count": 2,
     "metadata": {},
     "output_type": "execute_result"
    }
   ],
   "source": [
    "# build up the expression from sub-expressions\n",
    "expr = Equals(Indexed(AA, i, base = 1), x)"
   ]
  },
  {
   "cell_type": "code",
   "execution_count": 3,
   "metadata": {},
   "outputs": [
    {
     "name": "stdout",
     "output_type": "stream",
     "text": [
      "Passed sanity check: built 'expr' is the same as the stored Expression.\n"
     ]
    }
   ],
   "source": [
    "# check that the built expression is the same as the stored expression\n",
    "%check_expr"
   ]
  },
  {
   "cell_type": "code",
   "execution_count": 4,
   "metadata": {},
   "outputs": [
    {
     "data": {
      "text/html": [
       "<table><tr><th>&nbsp;</th><th>core type</th><th>sub-expressions</th><th>expression</th></tr>\n",
       "<tr><td>0</td><td>Operation</td><td>operator:&nbsp;1<br>operands:&nbsp;2<br></td><td><a class=\"ProveItLink\" href=\"expr.ipynb\"><img src=\"data:image/png;base64,iVBORw0KGgoAAAANSUhEUgAAAEAAAAASBAMAAAAZAcURAAAAMFBMVEX///+YmJhmZmZERES6urrc\n",
       "3Nzu7u4QEBCIiIgyMjJUVFR2dnYiIiKqqqrMzMwAAAD8et6HAAAAAXRSTlMAQObYZgAAANdJREFU\n",
       "KM9jYAABvr8M+AHPbwIK9v/CL8/3/w9+BZz7/+NX0MP+PwGfPOs/zv8O2MR3LL2hAWIwKzD9F2Bg\n",
       "4FYAcTRngsAsEDObQUagBsQQZ+D4D5RkCUAzYQNDP8M9IM32l4HlvwEWKxIYFoNpru/l9f8PYHVd\n",
       "BZi8/iwt9f8HBpZmME/nDAgchrqegQ1oQy2Qef4rQwY/uhtEOT4wtDEwRIGst//LEHYHTZ73I3MB\n",
       "awMD/39gIK3///8fgwWaAjaLbbsbkfnfHuAPb94JG/ArYLUIwCYMAClxQDrjQ0MaAAAAAElFTkSu\n",
       "QmCC\n",
       "\" style=\"display:inline;vertical-align:middle;\" /></a></td></tr>\n",
       "<tr><td>1</td><td>Literal</td><td></td><td><a class=\"ProveItLink\" href=\"../../../../logic/equality/__pv_it/2fb26078095930560931daa0500ce419a39ea6cd0/expr.ipynb\"><img src=\"data:image/png;base64,iVBORw0KGgoAAAANSUhEUgAAAA4AAAAFBAMAAACHocAhAAAAFVBMVEX///9EREQiIiJUVFQyMjJm\n",
       "ZmYAAADubVkoAAAAAXRSTlMAQObYZgAAABRJREFUCNdjCHEBAWcGXCBICQQUAUpuAwlgGKrkAAAA\n",
       "AElFTkSuQmCC\n",
       "\" style=\"display:inline;vertical-align:middle;\" /></a></td></tr>\n",
       "<tr><td>2</td><td>ExprTuple</td><td>3, 4</td><td><a class=\"ProveItLink\" href=\"../3e5969fbfada8e031f56a7912a5e0a4e8d5ecf230/expr.ipynb\"><img src=\"data:image/png;base64,iVBORw0KGgoAAAANSUhEUgAAADoAAAAVBAMAAADlb+D4AAAAMFBMVEX////c3NwiIiJERESqqqqY\n",
       "mJh2dnZmZmYQEBDu7u4yMjJUVFTMzMyIiIi6uroAAAAs73DqAAAAAXRSTlMAQObYZgAAAUFJREFU\n",
       "KM9jYMAP+C6AKZ4v6BKsD4DEaQib6RuGvhogXglh5v/GkOViYOCFGvz/E4YsawIDxwSIuvz/GLKc\n",
       "DQyvIKxLHP8nYEibMJSBacY/XP8fIITFbotcB9qYzrAUzGUuYP8fwMDAVgAxMoFVlUOBgcGLoQ/M\n",
       "j2Dg/Q+U4RMA89gYeD+wHGBgeMHwD6z4CwPffwOEcxi4wZzzEFnuHx39/xWQ3MNxASLbAqI8Ts6c\n",
       "+P8DA99lmKz8AYYJIJNNQSaBlOh/ZJjLLwA0FRgMAvcZeIGyUUBXMzBIg2yx/8Ig6cTAMB9ogX+A\n",
       "BYMsA8hHjxgY+P8DQ2L///9/GGwZGGZ8ZGCYfG1aLtB/DOsYOASQgu4n0BsPkUMSGNRwwLIAyAmA\n",
       "c9kuwGMQHJ62Asiys0BOQg15XgRzI0jDBRxJivcAAwBalFGUm8ICcAAAAABJRU5ErkJggg==\n",
       "\" style=\"display:inline;vertical-align:middle;\" /></a></td></tr>\n",
       "<tr><td>3</td><td>Indexed</td><td>var:&nbsp;5<br>index:&nbsp;6<br>base:&nbsp;\"1\"<br></td><td><a class=\"ProveItLink\" href=\"../b764974a6de5d113074ad3d13f728b12868af9c10/expr.ipynb\"><img src=\"data:image/png;base64,iVBORw0KGgoAAAANSUhEUgAAABgAAAASBAMAAACzwgOtAAAAMFBMVEX///+YmJhmZmZERES6urrc\n",
       "3Nzu7u4QEBCIiIgyMjJUVFR2dnYiIiKqqqrMzMwAAAD8et6HAAAAAXRSTlMAQObYZgAAAI1JREFU\n",
       "CNdjYAABvr8MCMDzG4mz/xeCzff/D4LDuf8/gtPD/j8Bxmb9x/nfAcZhVmD6L8DAwK0A4ogzcPwH\n",
       "MlgCgGy2vwws/w2gqri+l9f/PwDlXH+Wlvr/AwNLM0hVLZA4/5Uhgx+oJwqk3P4vQ9gdBgb+/0AL\n",
       "1////4/BAsmxbN8eIDi8EzYgOKwWAQDd5inAsx8uzwAAAABJRU5ErkJggg==\n",
       "\" style=\"display:inline;vertical-align:middle;\" /></a></td></tr>\n",
       "<tr><td>4</td><td>Variable</td><td></td><td><a class=\"ProveItLink\" href=\"../../../../__pv_it/530be409e3083890784cf1d7b28c9e67e90af9360/expr.ipynb\"><img src=\"data:image/png;base64,iVBORw0KGgoAAAANSUhEUgAAAAsAAAAJBAMAAAAWSsseAAAAKlBMVEX///9ERETMzMwQEBAiIiKY\n",
       "mJju7u5mZmaqqqpUVFSIiIh2dnbc3NwAAAA/vyDhAAAAAXRSTlMAQObYZgAAAENJREFUCNdjYDi9\n",
       "8sTyBQxsG1hdmR0YuBm4LnAoMLAxcAowgADzAjB1VoEhgYH1wFoGrgSG3gBhhlMMDImrs3cFMAAA\n",
       "t0YN+iTRa+sAAAAASUVORK5CYII=\n",
       "\" style=\"display:inline;vertical-align:middle;\" /></a></td></tr>\n",
       "<tr><td>5</td><td>Variable</td><td></td><td><a class=\"ProveItLink\" href=\"../../../../__pv_it/eb438fefc4bd0ac977777d6dfd3e8a72dfbedbd50/expr.ipynb\"><img src=\"data:image/png;base64,iVBORw0KGgoAAAANSUhEUgAAABIAAAAPBAMAAAAbqIIhAAAAMFBMVEX///+YmJhmZmZERES6urrc\n",
       "3Nzu7u4QEBCIiIgyMjJUVFR2dnYiIiKqqqrMzMwAAAD8et6HAAAAAXRSTlMAQObYZgAAAGpJREFU\n",
       "CNdjYAABvr8MUMDzG8ba/wvK4Pv/B8ri3P8fyuph/58AZrD+4/zvAGYxKzD9FwCzxBk4/iuAGGx/\n",
       "GVj+G4BYXN/L6/8fALGuP0tL/f8BJFkLJM5/BRJRICX2QCfw/weauv7//38AzEYi08a6/oIAAAAA\n",
       "SUVORK5CYII=\n",
       "\" style=\"display:inline;vertical-align:middle;\" /></a></td></tr>\n",
       "<tr><td>6</td><td>Variable</td><td></td><td><a class=\"ProveItLink\" href=\"../../../../__pv_it/4cc43b4ba7e5ae9f0f864f240ab9735c1604d8200/expr.ipynb\"><img src=\"data:image/png;base64,iVBORw0KGgoAAAANSUhEUgAAAAcAAAAOBAMAAAARcxsoAAAAMFBMVEX///+YmJjc3NxUVFQQEBAi\n",
       "IiKqqqrMzMy6urpmZmZ2dnbu7u6IiIgyMjJEREQAAADwIkbYAAAAAXRSTlMAQObYZgAAADtJREFU\n",
       "CNdjYGB4ywAEbxjQAffKBQwMXBwfGBjKOAMYGDawHAAK5m8AEpe5GRiYfnAxMLB9UARpPcAAAFud\n",
       "DDeiFOVzAAAAAElFTkSuQmCC\n",
       "\" style=\"display:inline;vertical-align:middle;\" /></a></td></tr>\n",
       "</table>\n"
      ],
      "text/plain": [
       "0. A_i = x\n",
       "   core type: Operation\n",
       "   operator: 1\n",
       "   operands: 2\n",
       "1. =\n",
       "   core type: Literal\n",
       "   sub-expressions: \n",
       "2. (A_i , x)\n",
       "   core type: ExprTuple\n",
       "   sub-expressions: 3, 4\n",
       "3. A_i\n",
       "   core type: Indexed\n",
       "   var: 5\n",
       "   index: 6\n",
       "   base: \"1\"\n",
       "4. x\n",
       "   core type: Variable\n",
       "   sub-expressions: \n",
       "5. A\n",
       "   core type: Variable\n",
       "   sub-expressions: \n",
       "6. i\n",
       "   core type: Variable\n",
       "   sub-expressions: "
      ]
     },
     "execution_count": 4,
     "metadata": {},
     "output_type": "execute_result"
    }
   ],
   "source": [
    "# display the expression information\n",
    "expr.exprInfo()"
   ]
  },
  {
   "cell_type": "code",
   "execution_count": null,
   "metadata": {},
   "outputs": [],
   "source": []
  }
 ],
 "metadata": {
  "kernelspec": {
   "display_name": "Python 3",
   "language": "python",
   "name": "python3"
  }
 },
 "nbformat": 4,
 "nbformat_minor": 0
}
