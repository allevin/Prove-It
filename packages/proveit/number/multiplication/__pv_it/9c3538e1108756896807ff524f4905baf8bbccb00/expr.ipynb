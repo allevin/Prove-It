{
 "cells": [
  {
   "cell_type": "markdown",
   "metadata": {},
   "source": [
    "Expression of type <a class=\"ProveItLink\" href=\"../../../../../../doc/html/api/proveit.ExprTuple.html\">ExprTuple</a>\n",
    "=======================\n",
    "# from context <a class=\"ProveItLink\" href=\"../../_context_.ipynb\">proveit.number.multiplication</a>"
   ]
  },
  {
   "cell_type": "code",
   "execution_count": 1,
   "metadata": {},
   "outputs": [],
   "source": [
    "# import Expression classes needed to build the expression\n",
    "from proveit import ExprTuple\n",
    "from proveit._common_ import AA, l\n",
    "from proveit.logic import InSet\n",
    "from proveit.number import Complexes, Exp"
   ]
  },
  {
   "cell_type": "code",
   "execution_count": 2,
   "metadata": {},
   "outputs": [
    {
     "data": {
      "text/html": [
       "<strong id=\"expr\">expr:</strong> <a class=\"ProveItLink\" href=\"expr.ipynb\"><img src=\"data:image/png;base64,iVBORw0KGgoAAAANSUhEUgAAAE4AAAAcBAMAAAA9wpTSAAAAMFBMVEX///+qqqp2dnYiIiJERESI\n",
       "iIhmZmYQEBDc3NyYmJgyMjLu7u5UVFTMzMy6uroAAACGxKilAAAAAXRSTlMAQObYZgAAAatJREFU\n",
       "OMtjYCAE9vxmIArwGUAZ7/CrY0pgUADRvAfwq+OawHAHRO/agF8dfwMDawCQPgnh8n7Eoe46EFsw\n",
       "MHAUQLjMnzBUsFqtL3ZjCAGyYhgY2BIggvp/0JXxvn/ArR/D4Apk7t/AwP4AIvj/M7q6CUAXMf5h\n",
       "qL0AtGwCw32or/T/Q6W3Lja2AtGcG0AuyuH+APQEmwNDOEQ2mP0/xN+8K6H+Z+MABdhWhkMCQD0f\n",
       "GE6BBTn+cv2HOKAFFkzb+BQQcfKbwQfMYElg+z8BzPKAyV1inIDw0l+GZWDGdAbW/2CPczvA1fEh\n",
       "1HH8YzADy35k4PsPVsFXbGwM8ccWXoS9QHmwOp7v5fX/DVBjm2vDAWTz1oBo8du7d/z/ANYJS0UM\n",
       "nAogddxQbzIcAXEKgYT9D7DQSbghnk+BxGOw9/l+MAQDqR6Q0/whCWHzA5g6niPR3E+8IWZ/YHgP\n",
       "TDn/gWF8/v//v2Arll2AKbxm//0cNK0uYOC/gBatjKcg/kVJqwEMPApE5JH9DQy8BkSomwLEjkSo\n",
       "swXiLsLKOEFRykjYgS1gciJBddkMRAMAnu1wxOPG190AAAAASUVORK5CYII=\n",
       "\" style=\"display:inline;vertical-align:middle;\" /></a><br>"
      ],
      "text/plain": [
       "expr: (A in Complexes^{l})"
      ]
     },
     "execution_count": 2,
     "metadata": {},
     "output_type": "execute_result"
    }
   ],
   "source": [
    "# build up the expression from sub-expressions\n",
    "expr = ExprTuple(InSet(AA, Exp(Complexes, l)))"
   ]
  },
  {
   "cell_type": "code",
   "execution_count": 3,
   "metadata": {},
   "outputs": [
    {
     "name": "stdout",
     "output_type": "stream",
     "text": [
      "Passed sanity check: built 'expr' is the same as the stored Expression.\n"
     ]
    }
   ],
   "source": [
    "# check that the built expression is the same as the stored expression\n",
    "%check_expr"
   ]
  },
  {
   "cell_type": "code",
   "execution_count": 4,
   "metadata": {},
   "outputs": [
    {
     "data": {
      "text/html": [
       "<table><tr><th>&nbsp;</th><th>core type</th><th>sub-expressions</th><th>expression</th></tr>\n",
       "<tr><td>0</td><td>ExprTuple</td><td>1</td><td><a class=\"ProveItLink\" href=\"expr.ipynb\"><img src=\"data:image/png;base64,iVBORw0KGgoAAAANSUhEUgAAAE4AAAAcBAMAAAA9wpTSAAAAMFBMVEX///+qqqp2dnYiIiJERESI\n",
       "iIhmZmYQEBDc3NyYmJgyMjLu7u5UVFTMzMy6uroAAACGxKilAAAAAXRSTlMAQObYZgAAAatJREFU\n",
       "OMtjYCAE9vxmIArwGUAZ7/CrY0pgUADRvAfwq+OawHAHRO/agF8dfwMDawCQPgnh8n7Eoe46EFsw\n",
       "MHAUQLjMnzBUsFqtL3ZjCAGyYhgY2BIggvp/0JXxvn/ArR/D4Apk7t/AwP4AIvj/M7q6CUAXMf5h\n",
       "qL0AtGwCw32or/T/Q6W3Lja2AtGcG0AuyuH+APQEmwNDOEQ2mP0/xN+8K6H+Z+MABdhWhkMCQD0f\n",
       "GE6BBTn+cv2HOKAFFkzb+BQQcfKbwQfMYElg+z8BzPKAyV1inIDw0l+GZWDGdAbW/2CPczvA1fEh\n",
       "1HH8YzADy35k4PsPVsFXbGwM8ccWXoS9QHmwOp7v5fX/DVBjm2vDAWTz1oBo8du7d/z/ANYJS0UM\n",
       "nAogddxQbzIcAXEKgYT9D7DQSbghnk+BxGOw9/l+MAQDqR6Q0/whCWHzA5g6niPR3E+8IWZ/YHgP\n",
       "TDn/gWF8/v//v2Arll2AKbxm//0cNK0uYOC/gBatjKcg/kVJqwEMPApE5JH9DQy8BkSomwLEjkSo\n",
       "swXiLsLKOEFRykjYgS1gciJBddkMRAMAnu1wxOPG190AAAAASUVORK5CYII=\n",
       "\" style=\"display:inline;vertical-align:middle;\" /></a></td></tr>\n",
       "<tr><td>1</td><td>Operation</td><td>operator:&nbsp;2<br>operands:&nbsp;3<br></td><td><a class=\"ProveItLink\" href=\"../a6a71dcecb4ae77df568c62ff88e88901ed210470/expr.ipynb\"><img src=\"data:image/png;base64,iVBORw0KGgoAAAANSUhEUgAAAEAAAAAVBAMAAAAEBPWpAAAAMFBMVEX///+YmJhmZmZERES6urrc\n",
       "3Nzu7u4QEBCIiIgyMjJUVFR2dnYiIiKqqqrMzMwAAAD8et6HAAAAAXRSTlMAQObYZgAAARtJREFU\n",
       "KM9jYMALsr7hl2dgOUBAAbcCAQWcAgQU8AdAaL6/OBQ8h9I8vzGkOE7OrzFiaIby9v9Cl+fzd2Db\n",
       "38VgAeX9/4OuQGAhAwPvL4a6BxC37v8PFc+Yc+YkiGZMKACSWmwfGsDCPez/EyBGTYTQDEysC0DK\n",
       "GVZfAPFY/3H+dwCLB0PlGZJYNiDZx6zA9B8SIKYwode8yCEkzsDxHxykbAZwBSxICtj+MrD8B0ux\n",
       "1Jw5A3FkMh+SFVzfy+v/g2ONbwE8DhIWIBRcf5aW+v8D2Cx45DJuAClgg9hQCyTOfwWzF8J1GXoA\n",
       "CR+wp6JA1ttDYivHAW7v4jY2ZzNwhP4HBtL6////gUNk0gOYikfnvy/BEr28KyG+QAAAY4xO/gD6\n",
       "S1AAAAAASUVORK5CYII=\n",
       "\" style=\"display:inline;vertical-align:middle;\" /></a></td></tr>\n",
       "<tr><td>2</td><td>Literal</td><td></td><td><a class=\"ProveItLink\" href=\"../../../../logic/set_theory/membership/__pv_it/088cbc857536a28d4119ad9639a84270ccb0545d0/expr.ipynb\"><img src=\"data:image/png;base64,iVBORw0KGgoAAAANSUhEUgAAAAwAAAAMBAMAAACkW0HUAAAALVBMVEX///+qqqpmZmZUVFQQEBC6\n",
       "urpERETc3NyYmJjMzMwiIiIyMjKIiIju7u4AAACYsrA9AAAAAXRSTlMAQObYZgAAADxJREFUCNdj\n",
       "YOA9vWrVBgaG2b0MQMCeCyIZ2ArA1DUwyRCyahVIyWQI7xaEYm4AU7xLIdxqTQgtvGvVBgCkcQ7e\n",
       "geM/tQAAAABJRU5ErkJggg==\n",
       "\" style=\"display:inline;vertical-align:middle;\" /></a></td></tr>\n",
       "<tr><td>3</td><td>ExprTuple</td><td>4, 5</td><td><a class=\"ProveItLink\" href=\"../4e5b93a243279983339679a851df7ed00ee358fd0/expr.ipynb\"><img src=\"data:image/png;base64,iVBORw0KGgoAAAANSUhEUgAAAD4AAAAcBAMAAADLixFKAAAAMFBMVEX///+qqqp2dnYiIiJERESI\n",
       "iIhmZmYQEBDc3NyYmJgyMjLu7u5UVFTMzMy6uroAAACGxKilAAAAAXRSTlMAQObYZgAAAYtJREFU\n",
       "KM9jYMAF9vxmwAv4DKCMd9jlmRIYFEA07wHs8lwTGO6A6F0bsMvzNzCwBgDpkxAu70c0+etAbMHA\n",
       "wFEA4TJ/gsuwWq0vdmMIAbJiGBjYEiCC+n9g0rzvH3DrxzC4Apn7NzCwP4AI/v8Mk58AtJHxD0Pt\n",
       "BaChExjuQ12r/x8qzbkBZGMO9weg49gcGMIhosHs/6H+YOMAeXgrwyEBoNoPDKfAghx/uf5DLGLY\n",
       "xqeACMPfDD5gBksC2/8JELFLjBPg8rx/GZaBGdMZWP9DPXKJDyHP8Y/BDERzf2Tg++8AEdvCizAf\n",
       "KA6W5/leXv8fGl9cGw4g618DosVv797x/wPUfwogeW6osxmOgDiFQML+BwMD2IueT4HEYzCT7wdD\n",
       "MJDqAVnt/5GBGxyGPEeiuZ94Q8z6wPAeGJP/gWFz/v//v9z1DSDRa/bfz0HTyAIG/gvIaaoBLY0E\n",
       "MPAoIPE50dLA/gYGXgM88lOA2BGJH4AmbwvEXbiTOCcoyBkVcMq3gMmJOOWzGQgCAJ15aAw85v4d\n",
       "AAAAAElFTkSuQmCC\n",
       "\" style=\"display:inline;vertical-align:middle;\" /></a></td></tr>\n",
       "<tr><td>4</td><td>Variable</td><td></td><td><a class=\"ProveItLink\" href=\"../../../../__pv_it/eb438fefc4bd0ac977777d6dfd3e8a72dfbedbd50/expr.ipynb\"><img src=\"data:image/png;base64,iVBORw0KGgoAAAANSUhEUgAAABIAAAAPBAMAAAAbqIIhAAAAMFBMVEX///+YmJhmZmZERES6urrc\n",
       "3Nzu7u4QEBCIiIgyMjJUVFR2dnYiIiKqqqrMzMwAAAD8et6HAAAAAXRSTlMAQObYZgAAAGpJREFU\n",
       "CNdjYAABvr8MUMDzG8ba/wvK4Pv/B8ri3P8fyuph/58AZrD+4/zvAGYxKzD9FwCzxBk4/iuAGGx/\n",
       "GVj+G4BYXN/L6/8fALGuP0tL/f8BJFkLJM5/BRJRICX2QCfw/weauv7//38AzEYi08a6/oIAAAAA\n",
       "SUVORK5CYII=\n",
       "\" style=\"display:inline;vertical-align:middle;\" /></a></td></tr>\n",
       "<tr><td>5</td><td>Operation</td><td>operator:&nbsp;6<br>operands:&nbsp;7<br></td><td><a class=\"ProveItLink\" href=\"../04b2b47946d63991a5cb314fec4fa37ecaf3060f0/expr.ipynb\"><img src=\"data:image/png;base64,iVBORw0KGgoAAAANSUhEUgAAABQAAAAUBAMAAAB/pwA+AAAAMFBMVEX////c3NyqqqqYmJhUVFR2\n",
       "dnbu7u66urrMzMxmZmZEREQQEBAyMjIiIiKIiIgAAAB7fvZ0AAAAAXRSTlMAQObYZgAAAIVJREFU\n",
       "CNdjYICClG8wFgP7BTiTdQKcyWMAZ/ILwJndIILvzvm9KxleAVkc9QVs8U8Y1gGZBs4MDExfGHY0\n",
       "MDAnbADyp7B9eMDAyegAZOYxuCowZLIHwAxpZYKb3coOZ2ZxwBXwJDjAmMwBICYbmL24DkjUJoCY\n",
       "LF7P2KqWQZR03v/tDqIBj2odG4clDYkAAAAASUVORK5CYII=\n",
       "\" style=\"display:inline;vertical-align:middle;\" /></a></td></tr>\n",
       "<tr><td>6</td><td>Literal</td><td></td><td><a class=\"ProveItLink\" href=\"../../../exponentiation/__pv_it/deb2bf23cbccdd6e6791e1b35b5b9794ce12dbd50/expr.ipynb\"><img src=\"data:image/png;base64,iVBORw0KGgoAAAANSUhEUgAAACgAAAASBAMAAADbMYGVAAAAMFBMVEX///8QEBAiIiKYmJjc3Nzu\n",
       "7u7MzMx2dnZmZma6urpERESqqqoyMjJUVFSIiIgAAAAoDOMTAAAAAXRSTlMAQObYZgAAAOBJREFU\n",
       "GNNjYGB4+//u3Tt/GNAASGAXmhjnPyDBgSbI/g1IxKEJ8nxgYGdgQRPkX8BgDKRY6q7s62OYvmze\n",
       "2wAgb/7ZO1+AVDiDkYEQQ0HTBr4DQF59AgOIKmB4z7CNbcNZBu6vQN55kEACQwDDLQYGVobfDHwg\n",
       "fb8YGBxYHwAZciD3fWXg+gB1JjvQcJZvQIXsCgz8F6DO9GBgMOH7wPCUgaeBwd4B7EwGNjUG7s9c\n",
       "AiwPgO5jkWRgiF3/9+5dfQUG1nWl5Y+B7pv+1gE9bBhqGLCAE1jEWH9jEbT5A3IwAC4sP/1L6Qlu\n",
       "AAAAAElFTkSuQmCC\n",
       "\" style=\"display:inline;vertical-align:middle;\" /></a></td></tr>\n",
       "<tr><td>7</td><td>ExprTuple</td><td>8, 9</td><td><a class=\"ProveItLink\" href=\"../23508d306d2602a527f95c5c8c6ef37fe36955930/expr.ipynb\"><img src=\"data:image/png;base64,iVBORw0KGgoAAAANSUhEUgAAACsAAAAVBAMAAAAtAwouAAAAMFBMVEX////c3NwiIiJERESqqqqY\n",
       "mJh2dnZmZmYQEBDu7u4yMjJUVFTMzMyIiIi6uroAAAAs73DqAAAAAXRSTlMAQObYZgAAARJJREFU\n",
       "GNNjYMAB+C6gi8SBiNNAzKu1vskcIsam/4D9AJBeycDA8/4BZ/5tqNp4BoYFQIVAMwK2MjCw/IYK\n",
       "VzEwhDEwcExgYJ3QAORWQ4V7GRhmMDC8YmBgZ9wA5M6FiDL+YWBgdmAoY2CYzpeAcAbrB6C1BQxL\n",
       "GRiOsQQghLkNgPYsYOgDCvMhCXMAncDXwPCPgWEyD5Ih54GO5vkAEuaasAEhfIMBLNwCtCUBJMwJ\n",
       "EbbmBBtiCmSavgUSjyaAJb6yAdUtYEgH2b75JudjS4b5CkD2n7lgBz4CKTmu/2Mf0HMfgczrmUDL\n",
       "HjBwCCCsewilZ4DsQwjDnJ8LCVg0YU5gwDJIw0V5Yf4HmcuIEWl3GBgAelhAc0sL7AwAAAAASUVO\n",
       "RK5CYII=\n",
       "\" style=\"display:inline;vertical-align:middle;\" /></a></td></tr>\n",
       "<tr><td>8</td><td>Literal</td><td></td><td><a class=\"ProveItLink\" href=\"../../../sets/complex/__pv_it/c357845f93a5a2d9f649129d299e7ec28dda4b960/expr.ipynb\"><img src=\"data:image/png;base64,iVBORw0KGgoAAAANSUhEUgAAAA8AAAAOBAMAAAACpFvcAAAAMFBMVEX////c3NyqqqqYmJhUVFR2\n",
       "dnbu7u66urrMzMxmZmZEREQQEBAyMjIiIiKIiIgAAAB7fvZ0AAAAAXRSTlMAQObYZgAAAGVJREFU\n",
       "CNdjYGDgu3N+70oGBgaO+gK2+CdAhoEzAwPTFwYG5oQNQN4UBgZORgcgI4+BIZM9gAEMWpkMoAx2\n",
       "KCOLAyrFk+AAYTAHgBhsQLy4DkjUJjAwsHg9Y6taBpLsvP/bnYEBACkBFGQfBv8RAAAAAElFTkSu\n",
       "QmCC\n",
       "\" style=\"display:inline;vertical-align:middle;\" /></a></td></tr>\n",
       "<tr><td>9</td><td>Variable</td><td></td><td><a class=\"ProveItLink\" href=\"../../../../__pv_it/3e5d49a51123592869b160296a6e123a424e07a70/expr.ipynb\"><img src=\"data:image/png;base64,iVBORw0KGgoAAAANSUhEUgAAAAYAAAAOBAMAAAD+sXAWAAAALVBMVEX////u7u5ERERUVFTMzMzc\n",
       "3NyIiIgQEBAyMjJmZmaYmJi6uroiIiJ2dnYAAACuOh6BAAAAAXRSTlMAQObYZgAAAD9JREFUCNdj\n",
       "YLjzmoGB6wEDA2cDAwN7AgNDnAMDwzoGBgYjIC5jYGB5wsDAVsDAwGQgwMC34AIDn2MCA9tcAQAo\n",
       "GAoWIEgceAAAAABJRU5ErkJggg==\n",
       "\" style=\"display:inline;vertical-align:middle;\" /></a></td></tr>\n",
       "</table>\n"
      ],
      "text/plain": [
       "0. (A in Complexes^{l})\n",
       "   core type: ExprTuple\n",
       "   sub-expressions: 1\n",
       "1. A in Complexes^{l}\n",
       "   core type: Operation\n",
       "   operator: 2\n",
       "   operands: 3\n",
       "2. in\n",
       "   core type: Literal\n",
       "   sub-expressions: \n",
       "3. (A , Complexes^{l})\n",
       "   core type: ExprTuple\n",
       "   sub-expressions: 4, 5\n",
       "4. A\n",
       "   core type: Variable\n",
       "   sub-expressions: \n",
       "5. Complexes^{l}\n",
       "   core type: Operation\n",
       "   operator: 6\n",
       "   operands: 7\n",
       "6. Exp\n",
       "   core type: Literal\n",
       "   sub-expressions: \n",
       "7. (Complexes , l)\n",
       "   core type: ExprTuple\n",
       "   sub-expressions: 8, 9\n",
       "8. Complexes\n",
       "   core type: Literal\n",
       "   sub-expressions: \n",
       "9. l\n",
       "   core type: Variable\n",
       "   sub-expressions: "
      ]
     },
     "execution_count": 4,
     "metadata": {},
     "output_type": "execute_result"
    }
   ],
   "source": [
    "# display the expression information\n",
    "expr.exprInfo()"
   ]
  },
  {
   "cell_type": "code",
   "execution_count": null,
   "metadata": {},
   "outputs": [],
   "source": []
  }
 ],
 "metadata": {
  "kernelspec": {
   "display_name": "Python 3",
   "language": "python",
   "name": "python3"
  }
 },
 "nbformat": 4,
 "nbformat_minor": 0
}
