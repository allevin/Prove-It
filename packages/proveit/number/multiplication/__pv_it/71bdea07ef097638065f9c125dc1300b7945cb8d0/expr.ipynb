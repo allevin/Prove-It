{
 "cells": [
  {
   "cell_type": "markdown",
   "metadata": {},
   "source": [
    "Expression of type <a class=\"ProveItLink\" href=\"../../../../../../doc/html/api/proveit.logic.InSet.html\">InSet</a>\n",
    "=======================\n",
    "# from context <a class=\"ProveItLink\" href=\"../../_context_.ipynb\">proveit.number.multiplication</a>"
   ]
  },
  {
   "cell_type": "code",
   "execution_count": 1,
   "metadata": {},
   "outputs": [],
   "source": [
    "# import Expression classes needed to build the expression\n",
    "from proveit._common_ import AA, m\n",
    "from proveit.logic import InSet\n",
    "from proveit.number import Exp, Naturals"
   ]
  },
  {
   "cell_type": "code",
   "execution_count": 2,
   "metadata": {},
   "outputs": [
    {
     "data": {
      "text/html": [
       "<strong id=\"expr\">expr:</strong> <a class=\"ProveItLink\" href=\"expr.ipynb\"><img src=\"data:image/png;base64,iVBORw0KGgoAAAANSUhEUgAAAEgAAAARBAMAAACMQvdLAAAAMFBMVEX///+YmJhmZmZERES6urrc\n",
       "3Nzu7u4QEBCIiIgyMjJUVFR2dnYiIiKqqqrMzMwAAAD8et6HAAAAAXRSTlMAQObYZgAAATRJREFU\n",
       "KM9jYMAHGDU8dnE0P4Bw+P5iV5ToL8CzgHEBhMPzG1WSbb7xNAam82fDOhn4H3ArQAT3/0Izglng\n",
       "MQMDPwPDCobnDJwXILb9/4OmiOscRwMDOwNDHUMzQzwLWIhz/3+oNZ1nzkwAK/JMWAdUxPoBaJYw\n",
       "N1iuh/1/ApjxUgxm0rsFmQnsDCwGDOcYHm8FibD+4/zvAGaYwa17cIPPgB3FlQpM/wXAjACEIiYH\n",
       "CRRF4gwc/8HeTEY4/AHDMq7nyIHyl4HlvwGI5X7mDMzhDxiy2KYje/d7ef3/AyDWK2ST+DYgm3T9\n",
       "WVrq/w8gVg6yIgZZZiTbaoHE+a9gKQFkRdzBCEVRIOfYg2OY7Qjcw6Ag0YSr4f8PDMj1////A3Ei\n",
       "9SCCLPOLgWQmjgR0aw7Ed6gAAAHJV6k/RROSAAAAAElFTkSuQmCC\n",
       "\" style=\"display:inline;vertical-align:middle;\" /></a><br>"
      ],
      "text/plain": [
       "expr: A in Naturals^{m}"
      ]
     },
     "execution_count": 2,
     "metadata": {},
     "output_type": "execute_result"
    }
   ],
   "source": [
    "# build up the expression from sub-expressions\n",
    "expr = InSet(AA, Exp(Naturals, m))"
   ]
  },
  {
   "cell_type": "code",
   "execution_count": 3,
   "metadata": {},
   "outputs": [
    {
     "name": "stdout",
     "output_type": "stream",
     "text": [
      "Passed sanity check: built 'expr' is the same as the stored Expression.\n"
     ]
    }
   ],
   "source": [
    "# check that the built expression is the same as the stored expression\n",
    "%check_expr"
   ]
  },
  {
   "cell_type": "code",
   "execution_count": 4,
   "metadata": {},
   "outputs": [
    {
     "data": {
      "text/html": [
       "<table><tr><th>&nbsp;</th><th>core type</th><th>sub-expressions</th><th>expression</th></tr>\n",
       "<tr><td>0</td><td>Operation</td><td>operator:&nbsp;1<br>operands:&nbsp;2<br></td><td><a class=\"ProveItLink\" href=\"expr.ipynb\"><img src=\"data:image/png;base64,iVBORw0KGgoAAAANSUhEUgAAAEgAAAARBAMAAACMQvdLAAAAMFBMVEX///+YmJhmZmZERES6urrc\n",
       "3Nzu7u4QEBCIiIgyMjJUVFR2dnYiIiKqqqrMzMwAAAD8et6HAAAAAXRSTlMAQObYZgAAATRJREFU\n",
       "KM9jYMAHGDU8dnE0P4Bw+P5iV5ToL8CzgHEBhMPzG1WSbb7xNAam82fDOhn4H3ArQAT3/0Izglng\n",
       "MQMDPwPDCobnDJwXILb9/4OmiOscRwMDOwNDHUMzQzwLWIhz/3+oNZ1nzkwAK/JMWAdUxPoBaJYw\n",
       "N1iuh/1/ApjxUgxm0rsFmQnsDCwGDOcYHm8FibD+4/zvAGaYwa17cIPPgB3FlQpM/wXAjACEIiYH\n",
       "CRRF4gwc/8HeTEY4/AHDMq7nyIHyl4HlvwGI5X7mDMzhDxiy2KYje/d7ef3/AyDWK2ST+DYgm3T9\n",
       "WVrq/w8gVg6yIgZZZiTbaoHE+a9gKQFkRdzBCEVRIOfYg2OY7Qjcw6Ag0YSr4f8PDMj1////A3Ei\n",
       "9SCCLPOLgWQmjgR0aw7Ed6gAAAHJV6k/RROSAAAAAElFTkSuQmCC\n",
       "\" style=\"display:inline;vertical-align:middle;\" /></a></td></tr>\n",
       "<tr><td>1</td><td>Literal</td><td></td><td><a class=\"ProveItLink\" href=\"../../../../logic/set_theory/membership/__pv_it/088cbc857536a28d4119ad9639a84270ccb0545d0/expr.ipynb\"><img src=\"data:image/png;base64,iVBORw0KGgoAAAANSUhEUgAAAAwAAAAMBAMAAACkW0HUAAAALVBMVEX///+qqqpmZmZUVFQQEBC6\n",
       "urpERETc3NyYmJjMzMwiIiIyMjKIiIju7u4AAACYsrA9AAAAAXRSTlMAQObYZgAAADxJREFUCNdj\n",
       "YOA9vWrVBgaG2b0MQMCeCyIZ2ArA1DUwyRCyahVIyWQI7xaEYm4AU7xLIdxqTQgtvGvVBgCkcQ7e\n",
       "geM/tQAAAABJRU5ErkJggg==\n",
       "\" style=\"display:inline;vertical-align:middle;\" /></a></td></tr>\n",
       "<tr><td>2</td><td>ExprTuple</td><td>3, 4</td><td><a class=\"ProveItLink\" href=\"../1f6bb665a15545bfe0203829730d60deba0f97200/expr.ipynb\"><img src=\"data:image/png;base64,iVBORw0KGgoAAAANSUhEUgAAAEYAAAAVBAMAAAAJGoXuAAAAMFBMVEX////c3NwiIiJERESqqqqY\n",
       "mJh2dnZmZmYQEBDu7u4yMjJUVFTMzMyIiIi6uroAAAAs73DqAAAAAXRSTlMAQObYZgAAAXpJREFU\n",
       "KM99kj9IAnEUx78qnnendwpN4VBDo6BQzTVGEAg1RBDY1NCgU0MUBDU0RF5DQzYHuaSNQdGBi1HQ\n",
       "kVuTNIUQWUgESb/e7+48fkfab3m89z78vu8fMOCFt17XtIbpOLplm1jHzxy9ZYPVcBXhJjl3Tiz4\n",
       "6VilMl5GJD02/IS4KRWATQqWnVz+2/0glK0BceAadajTgAporhT7cJloikIysI8GRnQqLAfZsDNq\n",
       "nvWYlnFFTKBNP81LJL6NlpN5lJnhMvfVkiFDzyCF2goFJrBuJwJdlTVdxpyLZWShw1WcOoUWIizb\n",
       "YyLNZZGZxYFtF6GxQo/BZbQuMC/4sYfSgc4yHnOinAnMg8NEv/aKbNRjYrm6j9nlZub2+JC1PQYL\n",
       "IZ/WJJfiYPodMFxGGhKYJeoMSPJSpjpQ+KxDfAYbvt6faTmM5nfDWFcpJqBXdiheEphzyAnB1RN/\n",
       "D4l2QSsTDqvPsUmWdxsDGS6bFHyrD3PB12nhv6eZ+AWeZ2Y0YuhV+QAAAABJRU5ErkJggg==\n",
       "\" style=\"display:inline;vertical-align:middle;\" /></a></td></tr>\n",
       "<tr><td>3</td><td>Variable</td><td></td><td><a class=\"ProveItLink\" href=\"../../../../__pv_it/eb438fefc4bd0ac977777d6dfd3e8a72dfbedbd50/expr.ipynb\"><img src=\"data:image/png;base64,iVBORw0KGgoAAAANSUhEUgAAABIAAAAPBAMAAAAbqIIhAAAAMFBMVEX///+YmJhmZmZERES6urrc\n",
       "3Nzu7u4QEBCIiIgyMjJUVFR2dnYiIiKqqqrMzMwAAAD8et6HAAAAAXRSTlMAQObYZgAAAGpJREFU\n",
       "CNdjYAABvr8MUMDzG8ba/wvK4Pv/B8ri3P8fyuph/58AZrD+4/zvAGYxKzD9FwCzxBk4/iuAGGx/\n",
       "GVj+G4BYXN/L6/8fALGuP0tL/f8BJFkLJM5/BRJRICX2QCfw/weauv7//38AzEYi08a6/oIAAAAA\n",
       "SUVORK5CYII=\n",
       "\" style=\"display:inline;vertical-align:middle;\" /></a></td></tr>\n",
       "<tr><td>4</td><td>Operation</td><td>operator:&nbsp;5<br>operands:&nbsp;6<br></td><td><a class=\"ProveItLink\" href=\"../f4afa80179ff8a852ed19dd1d36cde1130c909880/expr.ipynb\"><img src=\"data:image/png;base64,iVBORw0KGgoAAAANSUhEUgAAAB0AAAAQBAMAAAAYI2niAAAAMFBMVEX////c3Nx2dna6uroQEBCI\n",
       "iIhUVFTMzMyYmJiqqqoiIiJmZmZEREQyMjLu7u4AAADjlg78AAAAAXRSTlMAQObYZgAAAJ1JREFU\n",
       "CNdjYICC7uCghNDjMB4DX/MPhmUMbQwMb/+cfcCw69fEpxcYvjNoA2VOsB9gYPjAwBbA7sBwE8jP\n",
       "KghlYHBgYClgPcD4wYCBIfkeWwGQLw9UwXFAgYEhvYzvHpBvw8BVwH5IAMjnDKgB8uEgnWEzRwAK\n",
       "n+1BOgqfL+EtCp+hiB2VzzHhAAqfQRGJfxiIuS/AubZfgHJ8cD4A6i4sdtJ/q3gAAAAASUVORK5C\n",
       "YII=\n",
       "\" style=\"display:inline;vertical-align:middle;\" /></a></td></tr>\n",
       "<tr><td>5</td><td>Literal</td><td></td><td><a class=\"ProveItLink\" href=\"../../../exponentiation/__pv_it/deb2bf23cbccdd6e6791e1b35b5b9794ce12dbd50/expr.ipynb\"><img src=\"data:image/png;base64,iVBORw0KGgoAAAANSUhEUgAAACgAAAASBAMAAADbMYGVAAAAMFBMVEX///8QEBAiIiKYmJjc3Nzu\n",
       "7u7MzMx2dnZmZma6urpERESqqqoyMjJUVFSIiIgAAAAoDOMTAAAAAXRSTlMAQObYZgAAAOBJREFU\n",
       "GNNjYGB4+//u3Tt/GNAASGAXmhjnPyDBgSbI/g1IxKEJ8nxgYGdgQRPkX8BgDKRY6q7s62OYvmze\n",
       "2wAgb/7ZO1+AVDiDkYEQQ0HTBr4DQF59AgOIKmB4z7CNbcNZBu6vQN55kEACQwDDLQYGVobfDHwg\n",
       "fb8YGBxYHwAZciD3fWXg+gB1JjvQcJZvQIXsCgz8F6DO9GBgMOH7wPCUgaeBwd4B7EwGNjUG7s9c\n",
       "AiwPgO5jkWRgiF3/9+5dfQUG1nWl5Y+B7pv+1gE9bBhqGLCAE1jEWH9jEbT5A3IwAC4sP/1L6Qlu\n",
       "AAAAAElFTkSuQmCC\n",
       "\" style=\"display:inline;vertical-align:middle;\" /></a></td></tr>\n",
       "<tr><td>6</td><td>ExprTuple</td><td>7, 8</td><td><a class=\"ProveItLink\" href=\"../5ba994341239f047dc1f656d2d60a1e0aef8efb80/expr.ipynb\"><img src=\"data:image/png;base64,iVBORw0KGgoAAAANSUhEUgAAADcAAAAVBAMAAAAQkWtIAAAAMFBMVEX////c3NwiIiJERESqqqqY\n",
       "mJh2dnZmZmYQEBDu7u4yMjJUVFTMzMyIiIi6uroAAAAs73DqAAAAAXRSTlMAQObYZgAAATVJREFU\n",
       "KM990r9Lw0AUwPFvNWl79gfdRSz4D9Shi4N0d+nkqBEHJ6E4OEoHZ8lYujSLQwZBHEuRguDSJeBY\n",
       "hegkQrEqiA4W3yXRkraa4Y67D+/du3eBf7+8N3t/Sw89mm9rNgevlTimujK4UM6WYDgZ6kBOsl50\n",
       "76A+iZuQtuHSzXSnsQFPMnV6yp3G+QqHGg3v6gcHq0t9a3Aj1SVrnGrkyPQitNqeevcNKc9wOAkw\n",
       "Y3dCzPsrqC805uuMAlTnzRCVGmF8kpJ7ZIcRcp2N0mopkrYCPA7RrJSixjjM1Xgu2DptOUR2SiiN\n",
       "EtPyaSeqmA57srEeRrSKMi/7bMNZMrjKg/ThQ1Iqh8aL4CPswsYtLPikC+Oe3E+2z7TGy2oM98Mn\n",
       "m4lyDiz+LnOxwIw+L/HHbyIlfQNoLVb5FOSRXQAAAABJRU5ErkJggg==\n",
       "\" style=\"display:inline;vertical-align:middle;\" /></a></td></tr>\n",
       "<tr><td>7</td><td>Literal</td><td></td><td><a class=\"ProveItLink\" href=\"../../../sets/integer/__pv_it/e5d9bd86b06b357eee742ad868997123619e09700/expr.ipynb\"><img src=\"data:image/png;base64,iVBORw0KGgoAAAANSUhEUgAAAA8AAAAOBAMAAAACpFvcAAAAMFBMVEX////c3Nx2dna6uroQEBCI\n",
       "iIhUVFTMzMyYmJiqqqoiIiJmZmZEREQyMjLu7u4AAADjlg78AAAAAXRSTlMAQObYZgAAAGBJREFU\n",
       "CNdjePvn7AOGXb8mMDCcYD/AwPCBgYEhqyCUgcEByEi+x1YAZqSX8d2DMDgDaiAMhs0cARAG24N0\n",
       "CIMv4S2EwVDEDmVwTDgAYTAoghiHgZj7AgOD7Rcgj+8CAwA9oh2B0HK+MAAAAABJRU5ErkJggg==\n",
       "\" style=\"display:inline;vertical-align:middle;\" /></a></td></tr>\n",
       "<tr><td>8</td><td>Variable</td><td></td><td><a class=\"ProveItLink\" href=\"../../../../__pv_it/78af03acba5349fd70398a32ce59bae1da52f0870/expr.ipynb\"><img src=\"data:image/png;base64,iVBORw0KGgoAAAANSUhEUgAAABIAAAAJBAMAAADN8WE8AAAAMFBMVEX////MzMyYmJgQEBBmZmYi\n",
       "IiLu7u4yMjKqqqp2dnZUVFTc3NxERESIiIi6uroAAABe5jFNAAAAAXRSTlMAQObYZgAAAFtJREFU\n",
       "CNdj4Luz++5KvrsnGBg4uWoZ8ucx9DMwvGM9wJB/AcRKyH/A0J/A4M7AAKJcGRgsgSwgL4SB7zcb\n",
       "iMf2j4GrYBMD9z8Gpg8M7BcmMPAZMHAeYOBYKwAAtXMYHwtZnY0AAAAASUVORK5CYII=\n",
       "\" style=\"display:inline;vertical-align:middle;\" /></a></td></tr>\n",
       "</table>\n"
      ],
      "text/plain": [
       "0. A in Naturals^{m}\n",
       "   core type: Operation\n",
       "   operator: 1\n",
       "   operands: 2\n",
       "1. in\n",
       "   core type: Literal\n",
       "   sub-expressions: \n",
       "2. (A , Naturals^{m})\n",
       "   core type: ExprTuple\n",
       "   sub-expressions: 3, 4\n",
       "3. A\n",
       "   core type: Variable\n",
       "   sub-expressions: \n",
       "4. Naturals^{m}\n",
       "   core type: Operation\n",
       "   operator: 5\n",
       "   operands: 6\n",
       "5. Exp\n",
       "   core type: Literal\n",
       "   sub-expressions: \n",
       "6. (Naturals , m)\n",
       "   core type: ExprTuple\n",
       "   sub-expressions: 7, 8\n",
       "7. Naturals\n",
       "   core type: Literal\n",
       "   sub-expressions: \n",
       "8. m\n",
       "   core type: Variable\n",
       "   sub-expressions: "
      ]
     },
     "execution_count": 4,
     "metadata": {},
     "output_type": "execute_result"
    }
   ],
   "source": [
    "# display the expression information\n",
    "expr.exprInfo()"
   ]
  },
  {
   "cell_type": "code",
   "execution_count": null,
   "metadata": {},
   "outputs": [],
   "source": []
  }
 ],
 "metadata": {
  "kernelspec": {
   "display_name": "Python 3",
   "language": "python",
   "name": "python3"
  }
 },
 "nbformat": 4,
 "nbformat_minor": 0
}
