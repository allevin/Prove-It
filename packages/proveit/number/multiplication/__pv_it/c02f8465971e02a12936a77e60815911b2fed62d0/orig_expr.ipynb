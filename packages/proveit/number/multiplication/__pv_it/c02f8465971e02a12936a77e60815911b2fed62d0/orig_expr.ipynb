{
 "cells": [
  {
   "cell_type": "markdown",
   "metadata": {},
   "source": [
    "Temporary notebook for <a class=\"ProveItLink\" href=\"../../_theorems_.ipynb#multNegAnyDouble\">multNegAnyDouble</a> of type <a href=\"../../../../../../doc/html/api/proveit.logic.Forall.html\">Forall</a>\n",
    "=======================\n",
    "# a not-yet-official Theorem from context <a class=\"ProveItLink\" href=\"../../_context_.ipynb\">proveit.number.multiplication</a>"
   ]
  },
  {
   "cell_type": "code",
   "execution_count": null,
   "metadata": {},
   "outputs": [],
   "source": [
    "# import Expression classes needed to build the expression\n",
    "from proveit._common_ import AA, B, CC, m, n\n",
	"from proveit.logic import Equals, Forall\n",
	"from proveit.logic._common_ import iterA1m, iterC1n\n",
	"from proveit.number import Complexes, Mult, Naturals, Neg"
   ]
  },
  {
   "cell_type": "code",
   "execution_count": null,
   "metadata": {},
   "outputs": [],
   "source": [
    "# build up the expression from sub-expressions\n",
    "subExpr1 = []\n",
	"expr = Forall([m, n], Forall([AA, B, CC], Equals(Neg(Mult(iterA1m, Neg(B), iterC1n)), Mult(iterA1m, B, iterC1n)), domain = Complexes, conditions = subExpr1), domain = Naturals, conditions = subExpr1)"
   ]
  },
  {
   "cell_type": "code",
   "execution_count": null,
   "metadata": {},
   "outputs": [],
   "source": [
    "# check that the built expression is the same as the stored expression\n",
    "%check_expr"
   ]
  },
  {
   "cell_type": "code",
   "execution_count": null,
   "metadata": {},
   "outputs": [],
   "source": [
    "# display the expression information\n",
    "expr.exprInfo()"
   ]
  },
  {
   "cell_type": "code",
   "execution_count": null,
   "metadata": {},
   "outputs": [],
   "source": []
  }
 ],
 "metadata": {
  "kernelspec": {
   "display_name": "Python 3",
   "language": "python",
   "name": "python3"
  }
 },
 "nbformat": 4,
 "nbformat_minor": 0
}
