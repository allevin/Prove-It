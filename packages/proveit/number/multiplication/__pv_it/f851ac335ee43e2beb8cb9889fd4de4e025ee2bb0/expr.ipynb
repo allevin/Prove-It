{
 "cells": [
  {
   "cell_type": "markdown",
   "metadata": {},
   "source": [
    "Expression of type <a class=\"ProveItLink\" href=\"../../../../../../doc/html/api/proveit.Lambda.html\">Lambda</a>\n",
    "=======================\n",
    "# from context <a class=\"ProveItLink\" href=\"../../_context_.ipynb\">proveit.number.multiplication</a>"
   ]
  },
  {
   "cell_type": "code",
   "execution_count": 1,
   "metadata": {},
   "outputs": [],
   "source": [
    "# import Expression classes needed to build the expression\n",
    "from proveit import Lambda\n",
    "from proveit._common_ import x\n",
    "from proveit.logic import Equals, InSet\n",
    "from proveit.number import Complexes, Mult, zero"
   ]
  },
  {
   "cell_type": "code",
   "execution_count": 2,
   "metadata": {},
   "outputs": [
    {
     "data": {
      "text/html": [
       "<strong id=\"expr\">expr:</strong> <a class=\"ProveItLink\" href=\"expr.ipynb\"><img src=\"data:image/png;base64,iVBORw0KGgoAAAANSUhEUgAAAOMAAAAVCAMAAACDm6l6AAAANlBMVEX///+6uroUFBQNDQ0yMjJE\n",
       "RETMzMwQEBAiIiKYmJju7u5mZmaqqqpUVFSIiIh2dnbc3NwAAACltDI1AAAAAXRSTlMAQObYZgAA\n",
       "AlNJREFUWMPVWNmSrCAMhbmsYf//nx3RVomgSHvLqsmD6a4+WU6MJDYhf0BsfDkg9Vh3RdMR9y10\n",
       "oO9SFA7rUwHjvRH503J9gP6Ko1eMJam4GTdlgPWpqCkxUHPCrO/2Ev0FR0FT9hiSd+PV8VhflHG+\n",
       "zgnrQB6hxzlq4vTyKKdxjhKwPr8xs2+a8nEBkjxCdzmCZ2qSrQM0kNWJGeZIGdbnkubnQCSbFbeP\n",
       "0D2OgmlcckOi2+jnawzeRevN1n04f1tGNAHrynaVmMKS9fxL6Dz4HTTiWIeMHI4HGKGo4WH6ppUm\n",
       "Um2Ngy1c4YFppGvbKutZ2aJshhXieuiKYyMkP45PEYjVyEF+2NPkWZxwBLf7kBTp2haglTWVN+9j\n",
       "G11ybITkpOZIEceclEOwfz8KiUxbjPXTR1e2kFSr+0Qa6dUKje5jlS6Va6JsZy2qw1mi5+nYeG4P\n",
       "ceBY2YLkh1NE3+HYQR/PHJxuYxuZhreryig+FWpxNEW7S4t1ZXuYBnaeBqj7TNkivIducTyEBFWP\n",
       "x7BzzDgd5/4m/oSjKIvGNdK17WGqh8WX7o2aa3TJsRHS6cof19tarWCqnSZ8KlzcqeBBgNJfj/VF\n",
       "N2yLG2lz6wpyZ3Z00AXHVkhQ9fx0jk9VAMrzXAHuA4Tg9b0dQJX60hbMNMg+hx/rLmOX6IJjM2Rk\n",
       "9SIvjEpJum+2eRmxviX9Xe4a3d9XrWPlLvdM1oW5v2aXOXryCP32++Ptd6vixgzVF/7Lu9UjWZfd\n",
       "eH+fd0N/VTTQb3PcTrR4twG9GHHfQvtnHH8Bn00cNbSw05EAAAAASUVORK5CYII=\n",
       "\" style=\"display:inline;vertical-align:middle;\" /></a><br>"
      ],
      "text/plain": [
       "expr: x -> ((x * 0) = 0) | x in Complexes"
      ]
     },
     "execution_count": 2,
     "metadata": {},
     "output_type": "execute_result"
    }
   ],
   "source": [
    "# build up the expression from sub-expressions\n",
    "expr = Lambda(x, Equals(Mult(x, zero), zero), conditions = [InSet(x, Complexes)])"
   ]
  },
  {
   "cell_type": "code",
   "execution_count": 3,
   "metadata": {},
   "outputs": [
    {
     "name": "stdout",
     "output_type": "stream",
     "text": [
      "Passed sanity check: built 'expr' is the same as the stored Expression.\n"
     ]
    }
   ],
   "source": [
    "# check that the built expression is the same as the stored expression\n",
    "%check_expr"
   ]
  },
  {
   "cell_type": "code",
   "execution_count": 4,
   "metadata": {},
   "outputs": [
    {
     "data": {
      "text/html": [
       "<table><tr><th>&nbsp;</th><th>core type</th><th>sub-expressions</th><th>expression</th></tr>\n",
       "<tr><td>0</td><td>Lambda</td><td>parameter:&nbsp;12<br>body:&nbsp;1<br>conditions:&nbsp;2<br></td><td><a class=\"ProveItLink\" href=\"expr.ipynb\"><img src=\"data:image/png;base64,iVBORw0KGgoAAAANSUhEUgAAAOMAAAAVCAMAAACDm6l6AAAANlBMVEX///+6uroUFBQNDQ0yMjJE\n",
       "RETMzMwQEBAiIiKYmJju7u5mZmaqqqpUVFSIiIh2dnbc3NwAAACltDI1AAAAAXRSTlMAQObYZgAA\n",
       "AlNJREFUWMPVWNmSrCAMhbmsYf//nx3RVomgSHvLqsmD6a4+WU6MJDYhf0BsfDkg9Vh3RdMR9y10\n",
       "oO9SFA7rUwHjvRH503J9gP6Ko1eMJam4GTdlgPWpqCkxUHPCrO/2Ev0FR0FT9hiSd+PV8VhflHG+\n",
       "zgnrQB6hxzlq4vTyKKdxjhKwPr8xs2+a8nEBkjxCdzmCZ2qSrQM0kNWJGeZIGdbnkubnQCSbFbeP\n",
       "0D2OgmlcckOi2+jnawzeRevN1n04f1tGNAHrynaVmMKS9fxL6Dz4HTTiWIeMHI4HGKGo4WH6ppUm\n",
       "Um2Ngy1c4YFppGvbKutZ2aJshhXieuiKYyMkP45PEYjVyEF+2NPkWZxwBLf7kBTp2haglTWVN+9j\n",
       "G11ybITkpOZIEceclEOwfz8KiUxbjPXTR1e2kFSr+0Qa6dUKje5jlS6Va6JsZy2qw1mi5+nYeG4P\n",
       "ceBY2YLkh1NE3+HYQR/PHJxuYxuZhreryig+FWpxNEW7S4t1ZXuYBnaeBqj7TNkivIducTyEBFWP\n",
       "x7BzzDgd5/4m/oSjKIvGNdK17WGqh8WX7o2aa3TJsRHS6cof19tarWCqnSZ8KlzcqeBBgNJfj/VF\n",
       "N2yLG2lz6wpyZ3Z00AXHVkhQ9fx0jk9VAMrzXAHuA4Tg9b0dQJX60hbMNMg+hx/rLmOX6IJjM2Rk\n",
       "9SIvjEpJum+2eRmxviX9Xe4a3d9XrWPlLvdM1oW5v2aXOXryCP32++Ptd6vixgzVF/7Lu9UjWZfd\n",
       "eH+fd0N/VTTQb3PcTrR4twG9GHHfQvtnHH8Bn00cNbSw05EAAAAASUVORK5CYII=\n",
       "\" style=\"display:inline;vertical-align:middle;\" /></a></td></tr>\n",
       "<tr><td>1</td><td>Operation</td><td>operator:&nbsp;3<br>operands:&nbsp;4<br></td><td><a class=\"ProveItLink\" href=\"../5bb8c6e77deb9f146baedd2b59b6102f2933852b0/expr.ipynb\"><img src=\"data:image/png;base64,iVBORw0KGgoAAAANSUhEUgAAAFkAAAAVBAMAAADfv1+LAAAAMFBMVEX////c3NwiIiJERESqqqqY\n",
       "mJh2dnZmZmYQEBDu7u4yMjJUVFTMzMyIiIi6uroAAAAs73DqAAAAAXRSTlMAQObYZgAAATFJREFU\n",
       "KM9jYCAN8F3AIhiHS/VpND5n7fUDDOwHGLAJMzCsRBNmesCpw8CwgAGrMC+6Qy4xMNxiYAhjwCrM\n",
       "MQFNWJuB4b0AwwwGrMKv0IW/MzCcd2BgdsAqXAZkid0WuQ5zEOM3oPAFBrYCVMVQ4aVA7yawqnIo\n",
       "IAsnMLCAvVm1CgRWI4T7GBjYGHg/sICCh3MCXJivAYvZCQz/gIoYuA3AQvMV4FbyfMDqkn8gNgfE\n",
       "1TMMoN4JwFANFW4BMeUPMExACip/AahLipRAQBkhbMrAwCpwn4F3AlI0JAHFFmDGDlA4HagnwIJB\n",
       "FhHFDpw9DBghCBV+xMAw+dq03ABE8im7DQwfrgfoqQoszCGANWXOwJ5gWROwCufiSN8rsQlyLsCh\n",
       "WhqbILcADtWM2HLaHexqASYVXaPv+iKeAAAAAElFTkSuQmCC\n",
       "\" style=\"display:inline;vertical-align:middle;\" /></a></td></tr>\n",
       "<tr><td>2</td><td>ExprTuple</td><td>5</td><td><a class=\"ProveItLink\" href=\"../5a8e6198b288b6e9759455d9bc8dcc166fdfb4880/expr.ipynb\"><img src=\"data:image/png;base64,iVBORw0KGgoAAAANSUhEUgAAAEAAAAAVBAMAAAAEBPWpAAAAMFBMVEX////c3NwiIiJERESqqqqY\n",
       "mJh2dnZmZmYQEBDu7u4yMjJUVFTMzMyIiIi6uroAAAAs73DqAAAAAXRSTlMAQObYZgAAATVJREFU\n",
       "KM9jYCAI+C7glmN9ACROY5e7tOqHcgFDDZC1Eqv8uX8M0/5uYOBiYODFagMrdwADg/8GBtYEBo4J\n",
       "SOKct5SUFoAYkRxAgn0DA2cDwytkjacioYwCaZByoOEmDGVAlthtkesgmxgtYSYVPIOy0hmWArkJ\n",
       "rKocCkAeswBUmCfBFcryYuhjYGBj4P3AcgDIm8wAV/AUynrB8A9oAgO3AYSnpARxJKfBMaiC8yAF\n",
       "DAwcEL8iwmwlN1xBC4iSP8AA8u0kuIIwsIIJICtMgaEicJ+BF6QAFDoQwBwHNJNPk4EhCugPBv8A\n",
       "CwZZsO/04Ebstp0wz3gCyJuPgI6/Ni0XoleqBu6Pov/doKhcx8AhgByU3osgQQ0P+wZQdOABbBdw\n",
       "RTcUzAJiaXwKNoJiCE+S4z3AAAC65Ec0MB1m6wAAAABJRU5ErkJggg==\n",
       "\" style=\"display:inline;vertical-align:middle;\" /></a></td></tr>\n",
       "<tr><td>3</td><td>Literal</td><td></td><td><a class=\"ProveItLink\" href=\"../../../../logic/equality/__pv_it/2fb26078095930560931daa0500ce419a39ea6cd0/expr.ipynb\"><img src=\"data:image/png;base64,iVBORw0KGgoAAAANSUhEUgAAAA4AAAAFBAMAAACHocAhAAAAFVBMVEX///9EREQiIiJUVFQyMjJm\n",
       "ZmYAAADubVkoAAAAAXRSTlMAQObYZgAAABRJREFUCNdjCHEBAWcGXCBICQQUAUpuAwlgGKrkAAAA\n",
       "AElFTkSuQmCC\n",
       "\" style=\"display:inline;vertical-align:middle;\" /></a></td></tr>\n",
       "<tr><td>4</td><td>ExprTuple</td><td>6, 13</td><td><a class=\"ProveItLink\" href=\"../24387cf6fae2115e3be83723daf0e047d976b3160/expr.ipynb\"><img src=\"data:image/png;base64,iVBORw0KGgoAAAANSUhEUgAAAEUAAAAVBAMAAADiLT7tAAAAMFBMVEX////c3NwiIiJERESqqqqY\n",
       "mJh2dnZmZmYQEBDu7u4yMjJUVFTMzMyIiIi6uroAAAAs73DqAAAAAXRSTlMAQObYZgAAASFJREFU\n",
       "KM9jYCAG8F3AKx0HIk6jCXLWXj+AxGIHcVaiqWF6wKmDzFrAwMCLbtUlBoZbyKwwBgaOCWhqtBkY\n",
       "3gsgsWYwMLxCd+R3BobzDkgsZgeGMiBH7LbIdZiVjN+AMheQWGwFDEuB7k9gVeVQQFaTgMRiWcDQ\n",
       "x8DAxsD7gQXkRc4JWNTwNTD8A0oxcBuAzZivgMUung8gNUDPQVwzwwDq0gC4mwNAalpAPPkDDBOQ\n",
       "/O4vgMQC2mXKwMAqcJ+BdwJSGCYBrYexGFgXMKQDFQdYMMgi4sKBswfsMggL5PdHDAyTr03LDUDE\n",
       "adntAwwzPsJYDFwPGDgEsCaJh3AWMC5YE7CqQZibiyVtoKnhBKYNBmlsSnjhLG6QWxjxp9U7DAwA\n",
       "aa5bzC+qgO8AAAAASUVORK5CYII=\n",
       "\" style=\"display:inline;vertical-align:middle;\" /></a></td></tr>\n",
       "<tr><td>5</td><td>Operation</td><td>operator:&nbsp;7<br>operands:&nbsp;8<br></td><td><a class=\"ProveItLink\" href=\"../a1ab8e6c14fa7d97c10d512393343c354ee536080/expr.ipynb\"><img src=\"data:image/png;base64,iVBORw0KGgoAAAANSUhEUgAAADQAAAAPBAMAAABZ6/G2AAAAMFBMVEX///+6uroyMjJERETMzMwQ\n",
       "EBAiIiKYmJju7u5mZmaqqqpUVFSIiIh2dnbc3NwAAAAWgogoAAAAAXRSTlMAQObYZgAAAMxJREFU\n",
       "GNNjYMAGjil9TZ6AVcbxI0Pvnw3YZNi5CxgY1iNLcRxKS1MAMSpYgQQnspRTBZQx4TVI4QEGhren\n",
       "X50EUgx8FjDdE2ShjAvs6awJQAbzA6gUy4XlEAYvA88HLgcgo5kBLiUO1cXAbQBmiKalQZzBYeAL\n",
       "U8V6AEx5w92jwQ1jvXdgaABSbXCpWrBUAwP7g/MMPCApkD8hgLkQaA5jBsP6AlOGN2BLE+Hadts0\n",
       "NBo3MDSf7b0DUf9oCtyN0/5HC6CE3Wo1SEBBAQCOCzKzGibs5AAAAABJRU5ErkJggg==\n",
       "\" style=\"display:inline;vertical-align:middle;\" /></a></td></tr>\n",
       "<tr><td>6</td><td>Operation</td><td>operator:&nbsp;9<br>operands:&nbsp;10<br></td><td><a class=\"ProveItLink\" href=\"../e314ee297f6be803427c965dbc9fb6dc70ec0c1c0/expr.ipynb\"><img src=\"data:image/png;base64,iVBORw0KGgoAAAANSUhEUgAAACUAAAAOBAMAAABa28jFAAAAMFBMVEX///8yMjK6urpERETMzMwQ\n",
       "EBAiIiKYmJju7u5mZmaqqqpUVFSIiIh2dnbc3NwAAADpJKkdAAAAAXRSTlMAQObYZgAAAJJJREFU\n",
       "GNNjYEABHHNOOjCgATYFjhR0sWMMDAfRxbIZGPQfoIn9ZGDwX8DA8Pb0q5MHoEJ8f4FiBxg4LrCn\n",
       "syYgi11g4GXg+cAFsp+jAS7GwcBtAFbTnwDXy8DACjGt1QBqRwGQfu/A0IDklvUPGNgfnGfgaUBy\n",
       "8zWgcIEpwxuE3xZwhDAwNJ/tvVOACIO5px0YAHKDK2jznY6HAAAAAElFTkSuQmCC\n",
       "\" style=\"display:inline;vertical-align:middle;\" /></a></td></tr>\n",
       "<tr><td>7</td><td>Literal</td><td></td><td><a class=\"ProveItLink\" href=\"../../../../logic/set_theory/membership/__pv_it/088cbc857536a28d4119ad9639a84270ccb0545d0/expr.ipynb\"><img src=\"data:image/png;base64,iVBORw0KGgoAAAANSUhEUgAAAAwAAAAMBAMAAACkW0HUAAAALVBMVEX///+qqqpmZmZUVFQQEBC6\n",
       "urpERETc3NyYmJjMzMwiIiIyMjKIiIju7u4AAACYsrA9AAAAAXRSTlMAQObYZgAAADxJREFUCNdj\n",
       "YOA9vWrVBgaG2b0MQMCeCyIZ2ArA1DUwyRCyahVIyWQI7xaEYm4AU7xLIdxqTQgtvGvVBgCkcQ7e\n",
       "geM/tQAAAABJRU5ErkJggg==\n",
       "\" style=\"display:inline;vertical-align:middle;\" /></a></td></tr>\n",
       "<tr><td>8</td><td>ExprTuple</td><td>12, 11</td><td><a class=\"ProveItLink\" href=\"../825ea3ea1d551796a2a192c7dc817a686bc4aae80/expr.ipynb\"><img src=\"data:image/png;base64,iVBORw0KGgoAAAANSUhEUgAAADAAAAAVBAMAAADyTXAxAAAAMFBMVEX////c3NwiIiJERESqqqqY\n",
       "mJh2dnZmZmYQEBDu7u4yMjJUVFTMzMyIiIi6uroAAAAs73DqAAAAAXRSTlMAQObYZgAAARdJREFU\n",
       "KM9jYMAJ+C5girE+ABKnUcUurfqhXMBQA2StRBE/949h2t8NDFwMDLwoJrFyBzAw+G9gYE1g4JiA\n",
       "LBHJASTYNzBwNjC8QjGpQBpIcAINMWEoA7LEbotcB5vIWfAMqiKdYSmQm8CqyqEA4vIkuEIlvBj6\n",
       "GBjYGHg/sByASDyFSrxg+AfUwcBtAOFyGhyDSpwHSTAwcMDcvJIbLtECouQPMEBcHQaWmAAyyhTo\n",
       "K4H7DLwTwFLMcUC9fJoMDFFAdzH4B1gwyDJwfgIp3m07YZ7xBJBzHzEwTL42LTeAgbNfAOSuov/d\n",
       "oKBdx8AhAA9/AUQIAIMEGFywAEQKGrYLSMGOLDELiKVhHOTw3wjEjFiilvcAAwBMvUBRXVWnZwAA\n",
       "AABJRU5ErkJggg==\n",
       "\" style=\"display:inline;vertical-align:middle;\" /></a></td></tr>\n",
       "<tr><td>9</td><td>Literal</td><td></td><td><a class=\"ProveItLink\" href=\"../21fd2079611555ecce512d99547a00d551e6b86b0/expr.ipynb\"><img src=\"data:image/png;base64,iVBORw0KGgoAAAANSUhEUgAAAAMAAAADBAMAAACkBqiMAAAAElBMVEX///9EREQQEBAiIiLu7u4A\n",
       "AABGBidwAAAAAXRSTlMAQObYZgAAABFJREFUCNdjYHFgcDVgcBIAAASWAQx4jI0xAAAAAElFTkSu\n",
       "QmCC\n",
       "\" style=\"display:inline;vertical-align:middle;\" /></a></td></tr>\n",
       "<tr><td>10</td><td>ExprTuple</td><td>12, 13</td><td><a class=\"ProveItLink\" href=\"../b58230362316c99193bfc03c9103bdf2cadec5110/expr.ipynb\"><img src=\"data:image/png;base64,iVBORw0KGgoAAAANSUhEUgAAACsAAAAVBAMAAAAtAwouAAAAMFBMVEX////c3NwiIiJERESqqqqY\n",
       "mJh2dnZmZmYQEBDu7u4yMjJUVFTMzMyIiIi6uroAAAAs73DqAAAAAXRSTlMAQObYZgAAAQhJREFU\n",
       "GNNjYMAB+C6gi8SBiNPIIpy11w8wsB8AslYiCzM94NRhYFjAwMCLYsYlBoZbDAxhDAwcE5CFtRkY\n",
       "3gswzGBgeIVi23cGhvMODMwODGVAjthtketgsxi/AYUvMLAVMCwFWp/AqsqhABdOYGBZwNDHwMDG\n",
       "wPuB5QCSMF8Dwz+gagZuA4jRUEN4PoCEgc65gGRlAEi4BcSTP8AwAeZAfwGQIaYMDKwC9xl4J4Al\n",
       "gN5JAgosYEgHygdYMMgycH4Ced6Bs4cB5MBHDAyTr03LDWDg7BcA2l52G+gkrgcMHALwEIazgJ5n\n",
       "TYBxWOFBkIscsHBhTmDAMkjDePAQ5gaZxogRaXcYGACUckCr9X7ZnwAAAABJRU5ErkJggg==\n",
       "\" style=\"display:inline;vertical-align:middle;\" /></a></td></tr>\n",
       "<tr><td>11</td><td>Literal</td><td></td><td><a class=\"ProveItLink\" href=\"../../../sets/complex/__pv_it/c357845f93a5a2d9f649129d299e7ec28dda4b960/expr.ipynb\"><img src=\"data:image/png;base64,iVBORw0KGgoAAAANSUhEUgAAAA8AAAAOBAMAAAACpFvcAAAAMFBMVEX////c3NyqqqqYmJhUVFR2\n",
       "dnbu7u66urrMzMxmZmZEREQQEBAyMjIiIiKIiIgAAAB7fvZ0AAAAAXRSTlMAQObYZgAAAGVJREFU\n",
       "CNdjYGDgu3N+70oGBgaO+gK2+CdAhoEzAwPTFwYG5oQNQN4UBgZORgcgI4+BIZM9gAEMWpkMoAx2\n",
       "KCOLAyrFk+AAYTAHgBhsQLy4DkjUJjAwsHg9Y6taBpLsvP/bnYEBACkBFGQfBv8RAAAAAElFTkSu\n",
       "QmCC\n",
       "\" style=\"display:inline;vertical-align:middle;\" /></a></td></tr>\n",
       "<tr><td>12</td><td>Variable</td><td></td><td><a class=\"ProveItLink\" href=\"../../../../__pv_it/530be409e3083890784cf1d7b28c9e67e90af9360/expr.ipynb\"><img src=\"data:image/png;base64,iVBORw0KGgoAAAANSUhEUgAAAAsAAAAJBAMAAAAWSsseAAAAKlBMVEX///9ERETMzMwQEBAiIiKY\n",
       "mJju7u5mZmaqqqpUVFSIiIh2dnbc3NwAAAA/vyDhAAAAAXRSTlMAQObYZgAAAENJREFUCNdjYDi9\n",
       "8sTyBQxsG1hdmR0YuBm4LnAoMLAxcAowgADzAjB1VoEhgYH1wFoGrgSG3gBhhlMMDImrs3cFMAAA\n",
       "t0YN+iTRa+sAAAAASUVORK5CYII=\n",
       "\" style=\"display:inline;vertical-align:middle;\" /></a></td></tr>\n",
       "<tr><td>13</td><td>Literal</td><td></td><td><a class=\"ProveItLink\" href=\"../../../numeral/__pv_it/ec23fc7a1b4222a5f4948b495002b97d6fa18c3c0/expr.ipynb\"><img src=\"data:image/png;base64,iVBORw0KGgoAAAANSUhEUgAAAAoAAAAOBAMAAADkjZCYAAAALVBMVEX///8QEBCYmJh2dnaqqqrc\n",
       "3NxUVFQyMjK6uroiIiLMzMyIiIhmZmbu7u4AAAAZjyHdAAAAAXRSTlMAQObYZgAAAEpJREFUCNdj\n",
       "YLiz+xQDA8MMhpsLGLgnMHAXMHAmMHA8ZeA7wMD1hCHOgIHrNZh8jES+Bss+AqlkeQrSxTyBgWEK\n",
       "w8UFDAx3rLMYAMCjFldHSx/9AAAAAElFTkSuQmCC\n",
       "\" style=\"display:inline;vertical-align:middle;\" /></a></td></tr>\n",
       "</table>\n"
      ],
      "text/plain": [
       "0. x -> ((x * 0) = 0) | x in Complexes\n",
       "   core type: Lambda\n",
       "   parameter: 12\n",
       "   body: 1\n",
       "   conditions: 2\\n1. (x * 0) = 0\n",
       "   core type: Operation\n",
       "   operator: 3\n",
       "   operands: 4\n",
       "2. (x in Complexes)\n",
       "   core type: ExprTuple\n",
       "   sub-expressions: 5\n",
       "3. =\n",
       "   core type: Literal\n",
       "   sub-expressions: \n",
       "4. (x * 0 , 0)\n",
       "   core type: ExprTuple\n",
       "   sub-expressions: 6, 13\n",
       "5. x in Complexes\n",
       "   core type: Operation\n",
       "   operator: 7\n",
       "   operands: 8\n",
       "6. x * 0\n",
       "   core type: Operation\n",
       "   operator: 9\n",
       "   operands: 10\n",
       "7. in\n",
       "   core type: Literal\n",
       "   sub-expressions: \n",
       "8. (x , Complexes)\n",
       "   core type: ExprTuple\n",
       "   sub-expressions: 12, 11\n",
       "9. *\n",
       "   core type: Literal\n",
       "   sub-expressions: \n",
       "10. (x , 0)\n",
       "    core type: ExprTuple\n",
       "    sub-expressions: 12, 13\n",
       "11. Complexes\n",
       "    core type: Literal\n",
       "    sub-expressions: \n",
       "12. x\n",
       "    core type: Variable\n",
       "    sub-expressions: \n",
       "13. 0\n",
       "    core type: Literal\n",
       "    sub-expressions: "
      ]
     },
     "execution_count": 4,
     "metadata": {},
     "output_type": "execute_result"
    }
   ],
   "source": [
    "# display the expression information\n",
    "expr.exprInfo()"
   ]
  },
  {
   "cell_type": "code",
   "execution_count": null,
   "metadata": {},
   "outputs": [],
   "source": []
  }
 ],
 "metadata": {
  "kernelspec": {
   "display_name": "Python 3",
   "language": "python",
   "name": "python3"
  }
 },
 "nbformat": 4,
 "nbformat_minor": 0
}
