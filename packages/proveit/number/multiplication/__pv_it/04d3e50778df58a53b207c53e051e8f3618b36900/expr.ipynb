{
 "cells": [
  {
   "cell_type": "markdown",
   "metadata": {},
   "source": [
    "Expression of type <a class=\"ProveItLink\" href=\"../../../../../../doc/html/api/proveit.ExprTuple.html\">ExprTuple</a>\n",
    "=======================\n",
    "# from context <a class=\"ProveItLink\" href=\"../../_context_.ipynb\">proveit.number.multiplication</a>"
   ]
  },
  {
   "cell_type": "code",
   "execution_count": 1,
   "metadata": {},
   "outputs": [],
   "source": [
    "# import Expression classes needed to build the expression\n",
    "from proveit import ExprTuple\n",
    "from proveit._common_ import x, y\n",
    "from proveit.number import Mult, Neg"
   ]
  },
  {
   "cell_type": "code",
   "execution_count": 2,
   "metadata": {},
   "outputs": [
    {
     "data": {
      "text/html": [
       "<strong id=\"expr\">expr:</strong> <a class=\"ProveItLink\" href=\"expr.ipynb\"><img src=\"data:image/png;base64,iVBORw0KGgoAAAANSUhEUgAAAKgAAAAVBAMAAAAgMbgsAAAAMFBMVEX////c3NwiIiJERESqqqqY\n",
       "mJh2dnZmZmYQEBDu7u4yMjJUVFTMzMyIiIi6uroAAAAs73DqAAAAAXRSTlMAQObYZgAAAgZJREFU\n",
       "OMu1VLFLG1EY/6VJTC56aYbiIiWHUOdAtRSkkFkoZnY6XDIVikOGGqpgViUgiLpYBCkukvYvyNDN\n",
       "IZlMoYhpppAlidAh0Irfu3f3cve+M3XxwXeP+32/3+/uu/fdBzzJSjf/A8Tbj5J5VId+qWcYUA4z\n",
       "vQx9w7Ib53qCAakw+XmoaUqGqZfBAMRtrjaboaaCSpGsajgDYGxzNWcpKkVPx3ucusih3gPHvuhE\n",
       "ia6zv160VDkl33OLNrL0SkUuZrKDEiIjSS3ijLR2/FXS8rJnY+VUeoAb2le4KZPZfZgDSV3BHmnp\n",
       "NlanuyOR3RsrfyQsvKa9y0112Ux+A9GcpHZxR4/EdM6p9lZcCYiczovVriab+EdQw3XycMkKyAzs\n",
       "4nlTUhsiS2fpfBpjxzVVa7U689dn6ltMFhuhUfdMKwLJ1qFapOKTfoK5HV4+kyW+4Ce88peoWzM3\n",
       "MFV2ySf9imiNtjWnvsBistRHLLvUNdEDq4W3eKno/v7ZRL/gQidWwJTJErX0H3gt1QH2rw4+FFS2\n",
       "45PuX29laLugOBwGTJnMeNcautQLJDP6DxgA1tVv+nsCS3a1pX5TNi18wLRliAOZcg65MHnIfMdh\n",
       "XlJFTBh9z+yo0B6DmzLZAt64VBFzuukYiF1/Fts3Z9Y9yJLrfavtUkVE9MmoA2Y9bBxFwgaqoFLc\n",
       "A7aYk9bfRJ89AAAAAElFTkSuQmCC\n",
       "\" style=\"display:inline;vertical-align:middle;\" /></a><br>"
      ],
      "text/plain": [
       "expr: (x * (-y) , -(x * y))"
      ]
     },
     "execution_count": 2,
     "metadata": {},
     "output_type": "execute_result"
    }
   ],
   "source": [
    "# build up the expression from sub-expressions\n",
    "expr = ExprTuple(Mult(x, Neg(y)), Neg(Mult(x, y)))"
   ]
  },
  {
   "cell_type": "code",
   "execution_count": 3,
   "metadata": {},
   "outputs": [
    {
     "name": "stdout",
     "output_type": "stream",
     "text": [
      "Passed sanity check: built 'expr' is the same as the stored Expression.\n"
     ]
    }
   ],
   "source": [
    "# check that the built expression is the same as the stored expression\n",
    "%check_expr"
   ]
  },
  {
   "cell_type": "code",
   "execution_count": 4,
   "metadata": {},
   "outputs": [
    {
     "data": {
      "text/html": [
       "<table><tr><th>&nbsp;</th><th>core type</th><th>sub-expressions</th><th>expression</th></tr>\n",
       "<tr><td>0</td><td>ExprTuple</td><td>1, 2</td><td><a class=\"ProveItLink\" href=\"expr.ipynb\"><img src=\"data:image/png;base64,iVBORw0KGgoAAAANSUhEUgAAAKgAAAAVBAMAAAAgMbgsAAAAMFBMVEX////c3NwiIiJERESqqqqY\n",
       "mJh2dnZmZmYQEBDu7u4yMjJUVFTMzMyIiIi6uroAAAAs73DqAAAAAXRSTlMAQObYZgAAAgZJREFU\n",
       "OMu1VLFLG1EY/6VJTC56aYbiIiWHUOdAtRSkkFkoZnY6XDIVikOGGqpgViUgiLpYBCkukvYvyNDN\n",
       "IZlMoYhpppAlidAh0Irfu3f3cve+M3XxwXeP+32/3+/uu/fdBzzJSjf/A8Tbj5J5VId+qWcYUA4z\n",
       "vQx9w7Ib53qCAakw+XmoaUqGqZfBAMRtrjaboaaCSpGsajgDYGxzNWcpKkVPx3ucusih3gPHvuhE\n",
       "ia6zv160VDkl33OLNrL0SkUuZrKDEiIjSS3ijLR2/FXS8rJnY+VUeoAb2le4KZPZfZgDSV3BHmnp\n",
       "NlanuyOR3RsrfyQsvKa9y0112Ux+A9GcpHZxR4/EdM6p9lZcCYiczovVriab+EdQw3XycMkKyAzs\n",
       "4nlTUhsiS2fpfBpjxzVVa7U689dn6ltMFhuhUfdMKwLJ1qFapOKTfoK5HV4+kyW+4Ce88peoWzM3\n",
       "MFV2ySf9imiNtjWnvsBistRHLLvUNdEDq4W3eKno/v7ZRL/gQidWwJTJErX0H3gt1QH2rw4+FFS2\n",
       "45PuX29laLugOBwGTJnMeNcautQLJDP6DxgA1tVv+nsCS3a1pX5TNi18wLRliAOZcg65MHnIfMdh\n",
       "XlJFTBh9z+yo0B6DmzLZAt64VBFzuukYiF1/Fts3Z9Y9yJLrfavtUkVE9MmoA2Y9bBxFwgaqoFLc\n",
       "A7aYk9bfRJ89AAAAAElFTkSuQmCC\n",
       "\" style=\"display:inline;vertical-align:middle;\" /></a></td></tr>\n",
       "<tr><td>1</td><td>Operation</td><td>operator:&nbsp;6<br>operands:&nbsp;3<br></td><td><a class=\"ProveItLink\" href=\"../ca4e7932c8257b0af170d531e2fd537e51aef5860/expr.ipynb\"><img src=\"data:image/png;base64,iVBORw0KGgoAAAANSUhEUgAAAEQAAAAVBAMAAAAN71XTAAAAMFBMVEX///8yMjK6urpERETMzMwQ\n",
       "EBAiIiKYmJju7u5mZmaqqqpUVFSIiIh2dnbc3NwAAADpJKkdAAAAAXRSTlMAQObYZgAAARdJREFU\n",
       "KM9jYCAd6KBy2RUwVLBsQBOYgqGEsQFdAEPJGXQB9gvoIhHoAhwBaAJMAhjmWjEwvD396uQBGJ8T\n",
       "ydjeuQx8PxgYbjJwXGBPZ02AO64AoeSCPgPPBwaGhQy8QJrLASjSARJmRQQDy4JpDMwGDAyqDBwM\n",
       "3AZgZ30DkfxAJQ/TQCCJgyGGgR/oAn+QTrBLOIJhSmCA6weDvwNEyXsHBnh4sS5AKOEUYDjKALKI\n",
       "/cF5Bh64EmYk5zJOYLAGUoUM6wtMGd7AhXknIJmygek7A8jTzWd77yC0MiUghavNyX9ASgg9LOOQ\n",
       "ObwJWCKAoRbB3MbQCnQ87wE8iSGXwRZINmJEGh8iSa05CQqkfZgJ8w0ql8eBAQDHHTsMiOtQQQAA\n",
       "AABJRU5ErkJggg==\n",
       "\" style=\"display:inline;vertical-align:middle;\" /></a></td></tr>\n",
       "<tr><td>2</td><td>Operation</td><td>operator:&nbsp;8<br>operand:&nbsp;4<br></td><td><a class=\"ProveItLink\" href=\"../2fe7431cf34760cbe45598dc2bafbe0cdeceeede0/expr.ipynb\"><img src=\"data:image/png;base64,iVBORw0KGgoAAAANSUhEUgAAAEYAAAAVBAMAAAAJGoXuAAAAMFBMVEX///9ERESqqqqYmJh2dnZm\n",
       "ZmYQEBDu7u5UVFTMzMyIiIi6uroiIiIyMjLc3NwAAAB7vQThAAAAAXRSTlMAQObYZgAAAR5JREFU\n",
       "KM9jYCAR7MIixrwBhcvZgE1jJAqPtwCbGl4U3iqsDmB2QOalY1XDnoDE4b6A3SdCSGxWoKF8Xn1a\n",
       "UTCBkhAGvu8MDK7IjjMACjPYGOTABBz2M3B9YGDQRVLDBgwJB4b1DJogRwC9yKkQw8AowMCwjeHt\n",
       "GRA4DRTnB6opYGgEq68/AFTHkMXAv4CBYT6SOfzgEM0Cs8uA+hmYvjPMn4Cqhk0BSPD9BOqHeeIC\n",
       "wzIGkF0IwAh0sx3QkcvhnghgkABStkhqWAIYmD4zJvAtgJvTwP2ZAdXv3AcY2KXcXRYjQlhq6T8g\n",
       "dRs5QPMwgpjlAFpcMJigqehhKAN6g2UBvrRxhEEESNaiiPGhpTGtpaAQ60MVfIUl1rkmMAAA1UE3\n",
       "38NhnO4AAAAASUVORK5CYII=\n",
       "\" style=\"display:inline;vertical-align:middle;\" /></a></td></tr>\n",
       "<tr><td>3</td><td>ExprTuple</td><td>9, 5</td><td><a class=\"ProveItLink\" href=\"../798a07ac7a9c8dce4c973d57e0f7c2604a1b30300/expr.ipynb\"><img src=\"data:image/png;base64,iVBORw0KGgoAAAANSUhEUgAAADwAAAAVBAMAAADocZC/AAAAMFBMVEX////c3NwiIiJERESqqqqY\n",
       "mJh2dnZmZmYQEBDu7u4yMjJUVFTMzMyIiIi6uroAAAAs73DqAAAAAXRSTlMAQObYZgAAARRJREFU\n",
       "KM9jYCAA+C7gkmF9ACRO49ZZA8QrcUtzMTDwXsAtzZrAwDEBtzRnA8MrfM42YSgDkmK3Ra6j2jGt\n",
       "jIHxJwNDOsNSoBkJrKocCijSCe8ZeD8wMHgx9DEwsAGZLAeQZXkcihiYDRgYXjD8A+pm4DaAiksp\n",
       "gYAeJ0MvAz/QuvMgaQYGDnTfsfxkOH8AJN0C4skfYED1H/sChhsMIMNNgb4XuM/AOwFFAVcBgzWQ\n",
       "igK6ncE/wIJBloHzE7LuDXxfGUAee8TAMPnatNwABs5+AaTwsr3+EUitY+CAC/IJINvOpgAOVGCw\n",
       "wyIASXITwwwHoJILSBGKLK3GYAYkZwGxNEwI2e++10EpZSMQM+KMcN4DDAAlbDxkZmkTXwAAAABJ\n",
       "RU5ErkJggg==\n",
       "\" style=\"display:inline;vertical-align:middle;\" /></a></td></tr>\n",
       "<tr><td>4</td><td>Operation</td><td>operator:&nbsp;6<br>operands:&nbsp;7<br></td><td><a class=\"ProveItLink\" href=\"../ef6e4b025c24ef250446fdd83f172aaf746212700/expr.ipynb\"><img src=\"data:image/png;base64,iVBORw0KGgoAAAANSUhEUgAAACYAAAANBAMAAAA3eAFoAAAAMFBMVEX///8yMjK6urpERETMzMwQ\n",
       "EBAiIiKYmJju7u5mZmaqqqpUVFSIiIh2dnbc3NwAAADpJKkdAAAAAXRSTlMAQObYZgAAAJ1JREFU\n",
       "GNNjYHh7+tXJAwxQ0DuXge8HA8cF9nTWBJjYBX0Gng8MvECCywHI7QBilgXTGJgNGDgYuA1AKji+\n",
       "gQiGGAZ+kEGsYNM4gkEk1w8Gf5Cm9w4MDTDzOAUYjjIwsD84z8ADF2OcwGDNwLC+wJThDQNc3Qam\n",
       "7wwMzWd77xTAxThsTv5jwAC8Cegi2xhaF6CL5TLYYuhcc1KBgQEA7zMlt29LHQkAAAAASUVORK5C\n",
       "YII=\n",
       "\" style=\"display:inline;vertical-align:middle;\" /></a></td></tr>\n",
       "<tr><td>5</td><td>Operation</td><td>operator:&nbsp;8<br>operand:&nbsp;10<br></td><td><a class=\"ProveItLink\" href=\"../f12942f22a58ef4917de814335501c65ffb60dca0/expr.ipynb\"><img src=\"data:image/png;base64,iVBORw0KGgoAAAANSUhEUgAAABoAAAANBAMAAABFt2PeAAAAMFBMVEX///+YmJhUVFQQEBBERESq\n",
       "qqrMzMyIiIhmZmZ2dnbu7u66uroiIiIyMjLc3NwAAAA74WENAAAAAXRSTlMAQObYZgAAAGJJREFU\n",
       "CNdjYICClZ0MfL9gHIYJ+xnYP8A4bAE9DCwODG/PgMBpLgZzBv4CuErWXwz5CXAexwWGYjiHgbeB\n",
       "wQnB41Dg/ojgcblX/GNAApwHEGwdhsUBCN5JBk8kdeEVGxgYAKJwF2eE/GrpAAAAAElFTkSuQmCC\n",
       "\" style=\"display:inline;vertical-align:middle;\" /></a></td></tr>\n",
       "<tr><td>6</td><td>Literal</td><td></td><td><a class=\"ProveItLink\" href=\"../21fd2079611555ecce512d99547a00d551e6b86b0/expr.ipynb\"><img src=\"data:image/png;base64,iVBORw0KGgoAAAANSUhEUgAAAAMAAAADBAMAAACkBqiMAAAAElBMVEX///9EREQQEBAiIiLu7u4A\n",
       "AABGBidwAAAAAXRSTlMAQObYZgAAABFJREFUCNdjYHFgcDVgcBIAAASWAQx4jI0xAAAAAElFTkSu\n",
       "QmCC\n",
       "\" style=\"display:inline;vertical-align:middle;\" /></a></td></tr>\n",
       "<tr><td>7</td><td>ExprTuple</td><td>9, 10</td><td><a class=\"ProveItLink\" href=\"../a6a2ac9310c73e21661c7634808321702fb219240/expr.ipynb\"><img src=\"data:image/png;base64,iVBORw0KGgoAAAANSUhEUgAAACwAAAAVBAMAAADP3xFXAAAAMFBMVEX////c3NwiIiJERESqqqqY\n",
       "mJh2dnZmZmYQEBDu7u4yMjJUVFTMzMyIiIi6uroAAAAs73DqAAAAAXRSTlMAQObYZgAAAQtJREFU\n",
       "GNNjYMAB+C6gi7A+ABKnMVXWAPFKTGEuBgbeC5jCrAkMHBMwhTkbGF5hc4YJQxmQFLstch1i1rQy\n",
       "BsafDAzpDEuBehJYVTkUwMIJ7xl4PzAweDH0MTCwAZksB0CiPA5FDMwGDAwvGP4BVTNwG0DtYuhl\n",
       "4Acadx4kzMDAAXMly0+G8wdAwi0gnvwBBog72Rcw3GAAGWIKdL3AfQbeCWAJrgIGayAVBXQLg3+A\n",
       "BYMsA+cnkOoNfF8ZQA58xMAw+dq03AAGzn4BoJ221z8ChdcxcAjAQxjMYlMAex4YLLAAAuJNDDMc\n",
       "gFIXkAIWJKzGYAYkZwGxNEwY5Hbf66CY2QjEjBgBznuAAQAt5DtyKXSr1gAAAABJRU5ErkJggg==\n",
       "\" style=\"display:inline;vertical-align:middle;\" /></a></td></tr>\n",
       "<tr><td>8</td><td>Literal</td><td></td><td><a class=\"ProveItLink\" href=\"../../../negation/__pv_it/3fc7a08bb9735faa20ef8e175f6ea95511acc9c70/expr.ipynb\"><img src=\"data:image/png;base64,iVBORw0KGgoAAAANSUhEUgAAAA4AAAACBAMAAACapPCZAAAAElBMVEX///+6uroiIiIyMjLc3NwA\n",
       "AAA6l9OrAAAAAXRSTlMAQObYZgAAABBJREFUCNdjcFYCAUUGKAAADR4BD8/TF5gAAAAASUVORK5C\n",
       "YII=\n",
       "\" style=\"display:inline;vertical-align:middle;\" /></a></td></tr>\n",
       "<tr><td>9</td><td>Variable</td><td></td><td><a class=\"ProveItLink\" href=\"../../../../__pv_it/530be409e3083890784cf1d7b28c9e67e90af9360/expr.ipynb\"><img src=\"data:image/png;base64,iVBORw0KGgoAAAANSUhEUgAAAAsAAAAJBAMAAAAWSsseAAAAKlBMVEX///9ERETMzMwQEBAiIiKY\n",
       "mJju7u5mZmaqqqpUVFSIiIh2dnbc3NwAAAA/vyDhAAAAAXRSTlMAQObYZgAAAENJREFUCNdjYDi9\n",
       "8sTyBQxsG1hdmR0YuBm4LnAoMLAxcAowgADzAjB1VoEhgYH1wFoGrgSG3gBhhlMMDImrs3cFMAAA\n",
       "t0YN+iTRa+sAAAAASUVORK5CYII=\n",
       "\" style=\"display:inline;vertical-align:middle;\" /></a></td></tr>\n",
       "<tr><td>10</td><td>Variable</td><td></td><td><a class=\"ProveItLink\" href=\"../../../../__pv_it/f8b9edf8e16034727f0aad55bb83e392c3db40d40/expr.ipynb\"><img src=\"data:image/png;base64,iVBORw0KGgoAAAANSUhEUgAAAAsAAAANBAMAAACN24kIAAAAMFBMVEX///+YmJhUVFQyMjIQEBBE\n",
       "REQiIiKqqqrMzMyIiIi6urrc3NxmZmZ2dnbu7u4AAADXeCicAAAAAXRSTlMAQObYZgAAAFhJREFU\n",
       "CNdj4LtzgWH/AwZerg8M8xkY2nkSGEIZGB6wTGD4ycDAUP+A4weQOszA6QCkbBhYFYDUIYb1AkDq\n",
       "6czzGxhA4BoQMyXwuQMptgusF4AU+8xTQBIAUqMVoSp/SLMAAAAASUVORK5CYII=\n",
       "\" style=\"display:inline;vertical-align:middle;\" /></a></td></tr>\n",
       "</table>\n"
      ],
      "text/plain": [
       "0. (x * (-y) , -(x * y))\n",
       "   core type: ExprTuple\n",
       "   sub-expressions: 1, 2\n",
       "1. x * (-y)\n",
       "   core type: Operation\n",
       "   operator: 6\n",
       "   operands: 3\n",
       "2. -(x * y)\n",
       "   core type: Operation\n",
       "   operator: 8\n",
       "   operand: 4\n",
       "3. (x , -y)\n",
       "   core type: ExprTuple\n",
       "   sub-expressions: 9, 5\n",
       "4. x * y\n",
       "   core type: Operation\n",
       "   operator: 6\n",
       "   operands: 7\n",
       "5. -y\n",
       "   core type: Operation\n",
       "   operator: 8\n",
       "   operand: 10\n",
       "6. *\n",
       "   core type: Literal\n",
       "   sub-expressions: \n",
       "7. (x , y)\n",
       "   core type: ExprTuple\n",
       "   sub-expressions: 9, 10\n",
       "8. -\n",
       "   core type: Literal\n",
       "   sub-expressions: \n",
       "9. x\n",
       "   core type: Variable\n",
       "   sub-expressions: \n",
       "10. y\n",
       "    core type: Variable\n",
       "    sub-expressions: "
      ]
     },
     "execution_count": 4,
     "metadata": {},
     "output_type": "execute_result"
    }
   ],
   "source": [
    "# display the expression information\n",
    "expr.exprInfo()"
   ]
  },
  {
   "cell_type": "code",
   "execution_count": null,
   "metadata": {},
   "outputs": [],
   "source": []
  }
 ],
 "metadata": {
  "kernelspec": {
   "display_name": "Python 3",
   "language": "python",
   "name": "python3"
  }
 },
 "nbformat": 4,
 "nbformat_minor": 0
}
