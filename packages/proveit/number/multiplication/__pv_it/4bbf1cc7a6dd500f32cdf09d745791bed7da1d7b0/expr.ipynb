{
 "cells": [
  {
   "cell_type": "markdown",
   "metadata": {},
   "source": [
    "Expression of type <a class=\"ProveItLink\" href=\"../../../../../../doc/html/api/proveit.ExprTuple.html\">ExprTuple</a>\n",
    "=======================\n",
    "# from context <a class=\"ProveItLink\" href=\"../../_context_.ipynb\">proveit.number.multiplication</a>"
   ]
  },
  {
   "cell_type": "code",
   "execution_count": 1,
   "metadata": {},
   "outputs": [],
   "source": [
    "# import Expression classes needed to build the expression\n",
    "from proveit import ExprTuple\n",
    "from proveit._common_ import AA, m\n",
    "from proveit.logic import InSet\n",
    "from proveit.number import Exp, Integers"
   ]
  },
  {
   "cell_type": "code",
   "execution_count": 2,
   "metadata": {},
   "outputs": [
    {
     "data": {
      "text/html": [
       "<strong id=\"expr\">expr:</strong> <a class=\"ProveItLink\" href=\"expr.ipynb\"><img src=\"data:image/png;base64,iVBORw0KGgoAAAANSUhEUgAAAFUAAAAVBAMAAADFg78FAAAAMFBMVEX////c3NwiIiJERESqqqqY\n",
       "mJh2dnZmZmYQEBDu7u4yMjJUVFTMzMyIiIi6uroAAAAs73DqAAAAAXRSTlMAQObYZgAAAaNJREFU\n",
       "KM+Nkj9IAnEUx796eeqpp9AUDoljBBrRYEuOjUIUTaEQNER5k1sg2tAQdRVBDcERiNXSLS1RJLQU\n",
       "LZJbNEhDRBCZSARJv+73u8s7jkDf8t699/m9e/+ALuJaeVsM1Cr6h1hlyt/6n919TzlVl4o5+nGn\n",
       "+5yfNqgv1jwpHKUGHhCs8BLcNPWxHsp+29hAWYbCAZe4gZAEFM1llECaNtadBp9cBtZRw6AIzAAe\n",
       "mUWELDGYg8PoENU+GWG/CkdDyzzFA3vAq07ce4j+yF+SO6kTnAwxjmFcZwAuiRzzOtoCqTOr30Rd\n",
       "1WlLTVp/JWZwkpukmDViRne8cetcFGwwYxYBIlHDGr7whSysmMcPI1oQCaPEQjSq9wZRerbOxd/Q\n",
       "Wd/X2iaJMI/aCQp0pBkru0r15O3+FmmwP0Q6wXle6zZirWGMAvRB7IO5zv5iDlXbPp83p6JgQVNh\n",
       "WuqEfjzbdSPGhRLw5uLWmT0BQaLt4YqQNktXNu7vZbw4elqUzPLr8ITs93VuzMEm2o5dafQmS+ZN\n",
       "dhOvQhvrjWU7dFR7Yh+BXwVRaxQG0+iIAAAAAElFTkSuQmCC\n",
       "\" style=\"display:inline;vertical-align:middle;\" /></a><br>"
      ],
      "text/plain": [
       "expr: (A in Integers^{m})"
      ]
     },
     "execution_count": 2,
     "metadata": {},
     "output_type": "execute_result"
    }
   ],
   "source": [
    "# build up the expression from sub-expressions\n",
    "expr = ExprTuple(InSet(AA, Exp(Integers, m)))"
   ]
  },
  {
   "cell_type": "code",
   "execution_count": 3,
   "metadata": {},
   "outputs": [
    {
     "name": "stdout",
     "output_type": "stream",
     "text": [
      "Passed sanity check: built 'expr' is the same as the stored Expression.\n"
     ]
    }
   ],
   "source": [
    "# check that the built expression is the same as the stored expression\n",
    "%check_expr"
   ]
  },
  {
   "cell_type": "code",
   "execution_count": 4,
   "metadata": {},
   "outputs": [
    {
     "data": {
      "text/html": [
       "<table><tr><th>&nbsp;</th><th>core type</th><th>sub-expressions</th><th>expression</th></tr>\n",
       "<tr><td>0</td><td>ExprTuple</td><td>1</td><td><a class=\"ProveItLink\" href=\"expr.ipynb\"><img src=\"data:image/png;base64,iVBORw0KGgoAAAANSUhEUgAAAFUAAAAVBAMAAADFg78FAAAAMFBMVEX////c3NwiIiJERESqqqqY\n",
       "mJh2dnZmZmYQEBDu7u4yMjJUVFTMzMyIiIi6uroAAAAs73DqAAAAAXRSTlMAQObYZgAAAaNJREFU\n",
       "KM+Nkj9IAnEUx796eeqpp9AUDoljBBrRYEuOjUIUTaEQNER5k1sg2tAQdRVBDcERiNXSLS1RJLQU\n",
       "LZJbNEhDRBCZSARJv+73u8s7jkDf8t699/m9e/+ALuJaeVsM1Cr6h1hlyt/6n919TzlVl4o5+nGn\n",
       "+5yfNqgv1jwpHKUGHhCs8BLcNPWxHsp+29hAWYbCAZe4gZAEFM1llECaNtadBp9cBtZRw6AIzAAe\n",
       "mUWELDGYg8PoENU+GWG/CkdDyzzFA3vAq07ce4j+yF+SO6kTnAwxjmFcZwAuiRzzOtoCqTOr30Rd\n",
       "1WlLTVp/JWZwkpukmDViRne8cetcFGwwYxYBIlHDGr7whSysmMcPI1oQCaPEQjSq9wZRerbOxd/Q\n",
       "Wd/X2iaJMI/aCQp0pBkru0r15O3+FmmwP0Q6wXle6zZirWGMAvRB7IO5zv5iDlXbPp83p6JgQVNh\n",
       "WuqEfjzbdSPGhRLw5uLWmT0BQaLt4YqQNktXNu7vZbw4elqUzPLr8ITs93VuzMEm2o5dafQmS+ZN\n",
       "dhOvQhvrjWU7dFR7Yh+BXwVRaxQG0+iIAAAAAElFTkSuQmCC\n",
       "\" style=\"display:inline;vertical-align:middle;\" /></a></td></tr>\n",
       "<tr><td>1</td><td>Operation</td><td>operator:&nbsp;2<br>operands:&nbsp;3<br></td><td><a class=\"ProveItLink\" href=\"../b77c594499a4e1a52345003392af45745bc1303b0/expr.ipynb\"><img src=\"data:image/png;base64,iVBORw0KGgoAAAANSUhEUgAAAEgAAAARBAMAAACMQvdLAAAAMFBMVEX///+YmJhmZmZERES6urrc\n",
       "3Nzu7u4QEBCIiIgyMjJUVFR2dnYiIiKqqqrMzMwAAAD8et6HAAAAAXRSTlMAQObYZgAAATxJREFU\n",
       "KM9jYMAHGDU8dnE0P4Bw+P5iV5ToL8CzgHEBhMPzG02W9/yfmTXTBcI6GfgfcCtAxPb/QlPEMSmB\n",
       "YQIzA8MKhucMnBcgtv3/g6aIaQMD94UtDAx1DM0M8SxgIc79/6GSGXPOnATRXAkMUXwLGFg/AM0S\n",
       "5gZL9bD/T4AYOTEBbpgZcwIDiwHDOYbHW0Fc1n+c/x3AEsEINYwNgigOYFZg+i8AZpkiBJPZDFAU\n",
       "iTNw/Ad7E1l8HVcAshq2vwws/8HSLDVnzkAczsCi4I1iENf38vr/B8DuXgAX5GSYwMCwFaHo+rO0\n",
       "1P8fwGYegAvu5QZ6BcFlqwUS57+C2QthgqwLXjEwcBfAFUWBnGMPieEcB5iHA8wY2LTh/uD/DwzI\n",
       "9f///wMbMAmaLNwti43nFytgTxu8K6G+QwEAnT1U58Xb/J8AAAAASUVORK5CYII=\n",
       "\" style=\"display:inline;vertical-align:middle;\" /></a></td></tr>\n",
       "<tr><td>2</td><td>Literal</td><td></td><td><a class=\"ProveItLink\" href=\"../../../../logic/set_theory/membership/__pv_it/088cbc857536a28d4119ad9639a84270ccb0545d0/expr.ipynb\"><img src=\"data:image/png;base64,iVBORw0KGgoAAAANSUhEUgAAAAwAAAAMBAMAAACkW0HUAAAALVBMVEX///+qqqpmZmZUVFQQEBC6\n",
       "urpERETc3NyYmJjMzMwiIiIyMjKIiIju7u4AAACYsrA9AAAAAXRSTlMAQObYZgAAADxJREFUCNdj\n",
       "YOA9vWrVBgaG2b0MQMCeCyIZ2ArA1DUwyRCyahVIyWQI7xaEYm4AU7xLIdxqTQgtvGvVBgCkcQ7e\n",
       "geM/tQAAAABJRU5ErkJggg==\n",
       "\" style=\"display:inline;vertical-align:middle;\" /></a></td></tr>\n",
       "<tr><td>3</td><td>ExprTuple</td><td>4, 5</td><td><a class=\"ProveItLink\" href=\"../1f1487307466ee8f291bae0ebdfa8249c0b5d2830/expr.ipynb\"><img src=\"data:image/png;base64,iVBORw0KGgoAAAANSUhEUgAAAEUAAAAVBAMAAADiLT7tAAAAMFBMVEX////c3NwiIiJERESqqqqY\n",
       "mJh2dnZmZmYQEBDu7u4yMjJUVFTMzMyIiIi6uroAAAAs73DqAAAAAXRSTlMAQObYZgAAAYZJREFU\n",
       "KM99Uj1LA0EQfecll9wluaSVFOYHCAmIRWxMaRkQxUoSECxEc1U6IRgLCzEnImh3jfjReD9AMWCj\n",
       "2BymE4tgISKIMQQRDK67d5tkQ4zbzM6btzvzZgYYcvzrbyuRWtVzdMc14VY/Z/89O2L7bSwy587D\n",
       "Rj550Jdsnm2cZEcfEK0qBgLsq1MvVPjmnMixCUsGLnEDLQNYFOKpSJNzAjkomTVgGzWM6cA8EDTd\n",
       "iFYgnBMyEQ/bkBr0p1kFOABevch9kJjdetOyCT2FcVznATmDootKbY3Uu7KdOUEgrfvIvchGgGQ7\n",
       "6J6aEjg+CzvuZQERYnTQi1BM4Ogl/DCrtqCTzmPdeBabGW54nNDXVoUkOKixluRFziazM7eHu6TB\n",
       "wSWFVp8Qc02yVIyY/ACYfMmm01FKveFaWKYmzkqZbkFlvZZjaajFlKj9CYgS2r8rQtpqhQp6mSpP\n",
       "nJe7IqHVEezTGRtcJDoLf05crD+WbbW3G8M4qsUKFgBnkOP2XHLw33kEfgGh2mPItr6gaQAAAABJ\n",
       "RU5ErkJggg==\n",
       "\" style=\"display:inline;vertical-align:middle;\" /></a></td></tr>\n",
       "<tr><td>4</td><td>Variable</td><td></td><td><a class=\"ProveItLink\" href=\"../../../../__pv_it/eb438fefc4bd0ac977777d6dfd3e8a72dfbedbd50/expr.ipynb\"><img src=\"data:image/png;base64,iVBORw0KGgoAAAANSUhEUgAAABIAAAAPBAMAAAAbqIIhAAAAMFBMVEX///+YmJhmZmZERES6urrc\n",
       "3Nzu7u4QEBCIiIgyMjJUVFR2dnYiIiKqqqrMzMwAAAD8et6HAAAAAXRSTlMAQObYZgAAAGpJREFU\n",
       "CNdjYAABvr8MUMDzG8ba/wvK4Pv/B8ri3P8fyuph/58AZrD+4/zvAGYxKzD9FwCzxBk4/iuAGGx/\n",
       "GVj+G4BYXN/L6/8fALGuP0tL/f8BJFkLJM5/BRJRICX2QCfw/weauv7//38AzEYi08a6/oIAAAAA\n",
       "SUVORK5CYII=\n",
       "\" style=\"display:inline;vertical-align:middle;\" /></a></td></tr>\n",
       "<tr><td>5</td><td>Operation</td><td>operator:&nbsp;6<br>operands:&nbsp;7<br></td><td><a class=\"ProveItLink\" href=\"../eac546acca9f89052f74a5afa98ead9e23aa83880/expr.ipynb\"><img src=\"data:image/png;base64,iVBORw0KGgoAAAANSUhEUgAAABwAAAAQBAMAAAD34QLcAAAAMFBMVEX////MzMzc3NxUVFS6urp2\n",
       "dnZERETu7u5mZmaIiIiYmJgQEBAyMjIiIiKqqqoAAAAf68ZqAAAAAXRSTlMAQObYZgAAAKZJREFU\n",
       "CNdjYIAArk7PYM5pAlAeQ5X/Al4DLgMGvvt/z+w9vUB9DgO/AGsDA+eJAoYDbAwMlgzSDDwPGDgC\n",
       "GFgfhDAwbGSYxqDPwsBcwKDMaMDA9AEov4wVZEw6WwEDSwLDRQaxIJAdE1YxIIEy9gRkriGzAhKP\n",
       "pcEVWZKH4QADQxCcG8fqwMBwAcZjMhBmYGDdAOOyKaQzsLfCzfbO2ZZ2flsDlAcALa4hh0yx7ukA\n",
       "AAAASUVORK5CYII=\n",
       "\" style=\"display:inline;vertical-align:middle;\" /></a></td></tr>\n",
       "<tr><td>6</td><td>Literal</td><td></td><td><a class=\"ProveItLink\" href=\"../../../exponentiation/__pv_it/deb2bf23cbccdd6e6791e1b35b5b9794ce12dbd50/expr.ipynb\"><img src=\"data:image/png;base64,iVBORw0KGgoAAAANSUhEUgAAACgAAAASBAMAAADbMYGVAAAAMFBMVEX///8QEBAiIiKYmJjc3Nzu\n",
       "7u7MzMx2dnZmZma6urpERESqqqoyMjJUVFSIiIgAAAAoDOMTAAAAAXRSTlMAQObYZgAAAOBJREFU\n",
       "GNNjYGB4+//u3Tt/GNAASGAXmhjnPyDBgSbI/g1IxKEJ8nxgYGdgQRPkX8BgDKRY6q7s62OYvmze\n",
       "2wAgb/7ZO1+AVDiDkYEQQ0HTBr4DQF59AgOIKmB4z7CNbcNZBu6vQN55kEACQwDDLQYGVobfDHwg\n",
       "fb8YGBxYHwAZciD3fWXg+gB1JjvQcJZvQIXsCgz8F6DO9GBgMOH7wPCUgaeBwd4B7EwGNjUG7s9c\n",
       "AiwPgO5jkWRgiF3/9+5dfQUG1nWl5Y+B7pv+1gE9bBhqGLCAE1jEWH9jEbT5A3IwAC4sP/1L6Qlu\n",
       "AAAAAElFTkSuQmCC\n",
       "\" style=\"display:inline;vertical-align:middle;\" /></a></td></tr>\n",
       "<tr><td>7</td><td>ExprTuple</td><td>8, 9</td><td><a class=\"ProveItLink\" href=\"../6e07c95e95cb0c4a97fc89e7a508576050c7ab0b0/expr.ipynb\"><img src=\"data:image/png;base64,iVBORw0KGgoAAAANSUhEUgAAADUAAAAVBAMAAAAUZLt1AAAAMFBMVEX////c3NwiIiJERESqqqqY\n",
       "mJh2dnZmZmYQEBDu7u4yMjJUVFTMzMyIiIi6uroAAAAs73DqAAAAAXRSTlMAQObYZgAAATlJREFU\n",
       "KM99kj1Lw1AUhp/YJO21H2QvYsEfYEUc6tTdpYuOGlFwUjJ1LtZZAy5uZhE/QOxcOrh3CTjqEByk\n",
       "CMXSQXCweO81VBKKd7gf78O5nPecA/+tUjhT3lZbH3N5fHd800iy7KPcbile+wSZdGAAxZCsi10/\n",
       "SrMtyPnkfcqFTppdwLu+1DJ+mmXqNNVphZuxMlxZeHaHT3WwPa6Uci6qMXO7ofiMzBGYAadK6eWd\n",
       "2Gy0hPhGsVKLiVK8tzhMiAnmF1lpoDDSbF6Z2dVQgQo5V7MTKezbEVR+yxEw5/Hh+OrPNTA6fZlW\n",
       "C2VDRlxGdI0GVsCBdOLUEM2qGEu2GLED97b28AqD9fbqQ9sTZzLZAezBxotMIiLn/HXLSdXMcqcv\n",
       "K1GzQ92jmUxIW5Snz8QA6EoZs2dCZvMDPKdLpZjHB2oAAAAASUVORK5CYII=\n",
       "\" style=\"display:inline;vertical-align:middle;\" /></a></td></tr>\n",
       "<tr><td>8</td><td>Literal</td><td></td><td><a class=\"ProveItLink\" href=\"../../../sets/integer/__pv_it/7b9e51516f347f625fa636d7bb440e96498977000/expr.ipynb\"><img src=\"data:image/png;base64,iVBORw0KGgoAAAANSUhEUgAAAA4AAAAOBAMAAADtZjDiAAAAMFBMVEX////MzMzc3NxUVFS6urp2\n",
       "dnZERETu7u5mZmaIiIiYmJgQEBAyMjIiIiKqqqoAAAAf68ZqAAAAAXRSTlMAQObYZgAAAGlJREFU\n",
       "CNdj4Lv/98ze0wsYOE8UMBxgY2DgCGBgfRDCwMBcwKDMaMAAAulsBSCKa8IqMLeMPQFMGzIrgCiW\n",
       "Blcwl4fhAANDEANDHKsDA8MFBiYDYQYG1g0MbArpDOytCQzeOdvSzm9rAAAm6xY1AUf+1AAAAABJ\n",
       "RU5ErkJggg==\n",
       "\" style=\"display:inline;vertical-align:middle;\" /></a></td></tr>\n",
       "<tr><td>9</td><td>Variable</td><td></td><td><a class=\"ProveItLink\" href=\"../../../../__pv_it/78af03acba5349fd70398a32ce59bae1da52f0870/expr.ipynb\"><img src=\"data:image/png;base64,iVBORw0KGgoAAAANSUhEUgAAABIAAAAJBAMAAADN8WE8AAAAMFBMVEX////MzMyYmJgQEBBmZmYi\n",
       "IiLu7u4yMjKqqqp2dnZUVFTc3NxERESIiIi6uroAAABe5jFNAAAAAXRSTlMAQObYZgAAAFtJREFU\n",
       "CNdj4Luz++5KvrsnGBg4uWoZ8ucx9DMwvGM9wJB/AcRKyH/A0J/A4M7AAKJcGRgsgSwgL4SB7zcb\n",
       "iMf2j4GrYBMD9z8Gpg8M7BcmMPAZMHAeYOBYKwAAtXMYHwtZnY0AAAAASUVORK5CYII=\n",
       "\" style=\"display:inline;vertical-align:middle;\" /></a></td></tr>\n",
       "</table>\n"
      ],
      "text/plain": [
       "0. (A in Integers^{m})\n",
       "   core type: ExprTuple\n",
       "   sub-expressions: 1\n",
       "1. A in Integers^{m}\n",
       "   core type: Operation\n",
       "   operator: 2\n",
       "   operands: 3\n",
       "2. in\n",
       "   core type: Literal\n",
       "   sub-expressions: \n",
       "3. (A , Integers^{m})\n",
       "   core type: ExprTuple\n",
       "   sub-expressions: 4, 5\n",
       "4. A\n",
       "   core type: Variable\n",
       "   sub-expressions: \n",
       "5. Integers^{m}\n",
       "   core type: Operation\n",
       "   operator: 6\n",
       "   operands: 7\n",
       "6. Exp\n",
       "   core type: Literal\n",
       "   sub-expressions: \n",
       "7. (Integers , m)\n",
       "   core type: ExprTuple\n",
       "   sub-expressions: 8, 9\n",
       "8. Integers\n",
       "   core type: Literal\n",
       "   sub-expressions: \n",
       "9. m\n",
       "   core type: Variable\n",
       "   sub-expressions: "
      ]
     },
     "execution_count": 4,
     "metadata": {},
     "output_type": "execute_result"
    }
   ],
   "source": [
    "# display the expression information\n",
    "expr.exprInfo()"
   ]
  },
  {
   "cell_type": "code",
   "execution_count": null,
   "metadata": {},
   "outputs": [],
   "source": []
  }
 ],
 "metadata": {
  "kernelspec": {
   "display_name": "Python 3",
   "language": "python",
   "name": "python3"
  }
 },
 "nbformat": 4,
 "nbformat_minor": 0
}
