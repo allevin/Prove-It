{
 "cells": [
  {
   "cell_type": "markdown",
   "metadata": {},
   "source": [
    "Axioms for context <a href=\"_context_.ipynb\" class=\"ProveItLink\">proveit.number.multiplication</a>\n",
    "========"
   ]
  },
  {
   "cell_type": "code",
   "execution_count": 1,
   "metadata": {},
   "outputs": [],
   "source": [
    "import proveit\n",
    "from proveit import varIter, Iter, Indexed\n",
    "from proveit.logic import Forall, Equals\n",
    "from proveit._common_ import AA, i, m,x\n",
    "from proveit.number import one, two, Mult, Add, Complexes, Naturals, Exp\n",
    "# the context is in the current directory:\n",
    "context = proveit.Context('.') # adds context root to sys.path if necessary"
   ]
  },
  {
   "cell_type": "code",
   "execution_count": 2,
   "metadata": {},
   "outputs": [
    {
     "name": "stdout",
     "output_type": "stream",
     "text": [
      "Defining axioms for context 'proveit.number.multiplication'\n",
      "Subsequent end-of-cell assignments will define axioms\n",
      "%end_axioms will finalize the definitions\n"
     ]
    }
   ],
   "source": [
    "%begin axioms"
   ]
  },
  {
   "cell_type": "code",
   "execution_count": 3,
   "metadata": {},
   "outputs": [
    {
     "data": {
      "text/html": [
       "<strong id=\"multDef\">multDef:</strong> <a class=\"ProveItLink\" href=\"__pv_it/61c467c3cfda3f8dbab81c2485061891bbf6fa3c0/expr.ipynb\"><img src=\"data:image/png;base64,iVBORw0KGgoAAAANSUhEUgAAAlAAAAAZBAMAAAAMBA37AAAAMFBMVEX///8QEBC6urrMzMxUVFRm\n",
       "ZmZERETc3NwyMjKqqqp2dnaIiIiYmJgiIiLu7u4AAAAU9Wx4AAAAAXRSTlMAQObYZgAABq9JREFU\n",
       "WMPtWWuME1UUPjvTdvqYznYhimCkDRgxErMlIi+j2ywJqERYIyTCamxQi7pGm7gREpTtPxUQagy/\n",
       "+EFDQMCNpRHcCMujgCsGIlYFjCQLs4lBI2S3sMAGXRjvYx53pjN9/GmI4SRnZnrvmXPvfPe87i1A\n",
       "efL0/wZ3ies/V0kkeBclQp0gVwRKvhMmOlVlWzpqYwM5cuNv1j5US9qs+SgFqoBvJ8sBVUGiLsTH\n",
       "KNuTO1rSNF2d/j+1j3UhY9ZMtHfCLvx7QzmgKkjUhbwyZQdKlbSo8919reah/ErMojlFgHofXYV4\n",
       "OaAqSNSFelV2oBPWhoDqecottlVKOrzPdrQoBYvmEwQovE7udDmgKkjUhSaq7EAD1oYGan3e3Qrb\n",
       "6ss5vM92rFWKFs0DBChxx8qVH5YN5hUk6pKeU5QdixjrOj5MbwcbFLlGoAKF8G2LZsydADcSiXPl\n",
       "y4PyEvUgd4Yy17Oy91mu9029Q+iev7kdxZU2ywvLaO+wV4nUCFRXdONVNmK1UUZAzQVYUR4oVeI9\n",
       "i/J6xvI8Zb9rHQxthS16x9/wY/4BNBdsbe6PCZFQvJ6aQ5tbydcI1Ovwyijbk6KMgHoQpFR5oKiE\n",
       "QLJms27kfKYan9EfKhc0zc5xsCFCeVIwDkM5CtQgvmTgMHyOtIcsL4wh1yMQUJA18PHqgRJDcPg6\n",
       "+wEhyp0YikDe/NqsJZHAPbIBFJXwkN9hA56tWsr4YdsZ6wwur32unayp/qmVC5qwM/KNEcryUAS2\n",
       "yPAiHpXkMxnmkUUrWl4g3iPdBE6JA7+4UD1QQ2lovsEWcEXKCKhAPsgEPOmbJXkxnoUsY1FUYjMJ\n",
       "FmGjTvgL8aUlL8Fj78CsjLj0QGufYW0zZH6tCajnb1SMQ+F4RaAwSi8DTMATvZd23e8MlOtKUxjn\n",
       "eh8BCnnmp/epnmkemO1Y1NRkKikYoKTUdKajZ8qgLJ50m4CiEiSQPbrFMHJXFALL1wzC8RxwGV8P\n",
       "jOGQmXMIrGMgrgZ4hAWK+/1KJaBY1SWul6aMbekMcCOSEc2HQVJdz91PiMA9Hl8+e2rwT5zrfdVb\n",
       "lG/s4GCXYu96sKIVuWb71G2BniiIOH2Is2fmWKCIBJDP+KWL5E7/3qlzcVHXh1XNRiV+EuZKBT/+\n",
       "lKVYx2QUNwQWqOAUU56G7ta91m2HqprNOHgUGpXzlJEtSVfBlfpAEzkeKMIhNGNrlH0bry9G68KI\n",
       "DVAS9VrQ97E6UAPoE4JKEvq+3h/rfRWoZpEGc9iE9FxuzgdjYgy8JKBFs8dMQGEJPkWSZSMx6qwr\n",
       "Ph64GCnuA5fJaAVfW1DE65pG6B06pZUh6n074Dy9EOBpnJhyfnlegyV0a6qJrWKhdXQUU5IWroJY\n",
       "BG9Oi2a+UU9IyNmUB9txjYht692bNkANFdQYJ90ydwg44nmUtHR0FE7Dd+byABqQ1JpvoTGKGuZQ\n",
       "oPz+hSxQWILDPjxN9v6LGyI4V/MpkvgoUFLcn/bswX2L20qB4ifCxhzMGWckw/VW69dUM0RGofIF\n",
       "lUPgj4NvgWaNUkf2ywO4fIhY/RjFNAUZ8SJFGS4FaiCuxjgt0GkdinIbXIqizLyUgmGCNtaMGQMl\n",
       "4g9dANPAm4YnE4lETowKp86zQGEJHwbq56Yw3WU2JglQZxOJDm6S2YkOoq+bNNkMVBCFSPQ+cwY4\n",
       "YgVKV83GcH0LNk7lqrcw7K6uhhil23SOD8Enpi2MSmOhB7o4+INaFEw+ZD2449Aq+GMgUmOdBlHU\n",
       "IpFMsTCHY5ReiLQ9g8a5ZI5R2wB+KhCg3iCuB3yIt3geUa3mTg91PTKKeW/qQN3WBjFjBxTnBFRJ\n",
       "R0M0EBeKEaq5mwFKKCKb+t4PriQFSsxagZIK2D3QfhyEj/jiTlTqocnMxz2P79A265j68AaaX5ak\n",
       "m32P5nnQUmQsqsWf8sOqpLABVsn4klRVa7lTzcx4lGqOWSTHYxYzUNVTF7IpMZ4hmqUUAxSyl19h\n",
       "xg6QluMdJbrESo6Cz6N0EIMjynh+VOrYtF8GdwQu4tggfZVoNdYGfeYLaGtx9rWIAdSFayCGr6QN\n",
       "oC7ua89CS54fgZYkvuRV1XrupAEIj6IuZIyyPbmSNke3RgWx83quVqAegmCUfytJNBPtnSXHVihG\n",
       "2Z+Z7zPsWl1lxF8kOsoO6DH9svxPkS990nJnCa1W2Zb2lDYJNWPjqHkP2AHl/OfCRf1pJr1trmIg\n",
       "E1BPTDCVBHyy5MnInXfenwtVA+XLW9Y/VitQ1oBr83THUmWgjP/1jlmcVK5Cvwv+F8T1n/4P9YAS\n",
       "bVT3aeEAAAAASUVORK5CYII=\n",
       "\" style=\"display:inline;vertical-align:middle;\" /></a><br>"
      ],
      "text/plain": [
       "multDef: forall_{m in Naturals} [forall_{(A, x) in Complexes^{m} * Complexes | A_1 = x ,  ...  , A_m = x} ((m * x) = (A_1 +  ...  + A_m))]"
      ]
     },
     "execution_count": 3,
     "metadata": {},
     "output_type": "execute_result"
    }
   ],
   "source": [
    "multDef = Forall(m, Forall((AA,x), Equals(Mult(m, x), Add(varIter(AA, one,m))), conditions=[Iter(i, Equals(Indexed(AA,i), x), one, m)], domains = [Exp(Complexes,m),Complexes]), domain = Naturals)"
   ]
  },
  {
   "cell_type": "code",
   "execution_count": 4,
   "metadata": {},
   "outputs": [
    {
     "name": "stdout",
     "output_type": "stream",
     "text": [
      "Axioms may be imported from autogenerated _axioms_.py\n"
     ]
    }
   ],
   "source": [
    "%end axioms"
   ]
  },
  {
   "cell_type": "code",
   "execution_count": null,
   "metadata": {},
   "outputs": [],
   "source": []
  }
 ],
 "metadata": {
  "kernelspec": {
   "display_name": "Python 3",
   "language": "python",
   "name": "python3"
  }
 },
 "nbformat": 4,
 "nbformat_minor": 0
}
