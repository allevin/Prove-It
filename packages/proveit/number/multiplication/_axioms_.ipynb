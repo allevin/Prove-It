{
 "cells": [
  {
   "cell_type": "markdown",
   "metadata": {},
   "source": [
    "Axioms for context <a href=\"_context_.ipynb\" class=\"ProveItLink\">proveit.number.multiplication</a>\n",
    "========"
   ]
  },
  {
   "cell_type": "code",
   "execution_count": null,
   "metadata": {},
   "outputs": [],
   "source": [
    "import proveit\n",
    "# Automation is not needed when building axiom expressions:\n",
    "proveit.defaults.automation = False # This will speed things up.\n",
    "from proveit import varIter, Iter, Indexed\n",
    "from proveit.logic import Forall, Equals\n",
    "from proveit._common_ import AA, i, m,x\n",
    "from proveit.number import one, two, Mult, Add, Complexes, Naturals, Exp\n",
    "# the context is in the current directory:\n",
    "context = proveit.Context('.') # adds context root to sys.path if necessary"
   ]
  },
  {
   "cell_type": "code",
   "execution_count": null,
   "metadata": {},
   "outputs": [],
   "source": [
    "%begin axioms"
   ]
  },
  {
   "cell_type": "code",
   "execution_count": null,
   "metadata": {},
   "outputs": [],
   "source": [
    "multDef = Forall(m, Forall((AA,x), Equals(Mult(m, x), Add(varIter(AA, one,m))), conditions=[Iter(i, Equals(Indexed(AA,i), x), one, m)], domains = [Exp(Complexes,m),Complexes]), domain = Naturals)"
   ]
  },
  {
   "cell_type": "code",
   "execution_count": null,
   "metadata": {},
   "outputs": [],
   "source": [
    "%end axioms"
   ]
  },
  {
   "cell_type": "code",
   "execution_count": null,
   "metadata": {},
   "outputs": [],
   "source": []
  }
 ],
 "metadata": {
  "kernelspec": {
   "display_name": "Python 3",
   "language": "python",
   "name": "python3"
  }
 },
 "nbformat": 4,
 "nbformat_minor": 0
}
