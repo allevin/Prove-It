{
 "cells": [
  {
   "cell_type": "markdown",
   "metadata": {},
   "source": [
    "Demonstrations for context <a class=\"ProveItLink\" href=\"_context_.ipynb\">proveit.number.multiplication</a>\n",
    "========"
   ]
  },
  {
   "cell_type": "code",
   "execution_count": 1,
   "metadata": {},
   "outputs": [],
   "source": [
    "import proveit\n",
    "from proveit.logic import InSet, NotEquals, Equals\n",
    "from proveit.number import four, Add, Mult, Sum, frac, Integers, Interval, num, Complexes, Naturals, NaturalsPos, Reals, RealsPos\n",
    "from proveit._common_ import a, b, c, d,e, k, w, x, y, z\n",
    "%begin demonstrations"
   ]
  },
  {
   "cell_type": "code",
   "execution_count": 2,
   "metadata": {},
   "outputs": [
    {
     "data": {
      "text/html": [
       "<table><tr><th>&nbsp;</th><th>step type</th><th>requirements</th><th>statement</th></tr>\n",
       "<tr><td>0</td><td>specialization</td><td>1, 2, 3, 9, 4, 5, 6, 7</td><td><span style=\"font-size:20px;\"><a class=\"ProveItLink\" href=\"__pv_it/3d10a8eec6fa3ed48ba13063e317dea34c9256980/expr.ipynb\"><img src=\"data:image/png;base64,iVBORw0KGgoAAAANSUhEUgAAAEUAAAAVBAMAAADiLT7tAAAAMFBMVEX///9ERETc3NyqqqpUVFS6\n",
       "urrMzMwyMjIQEBCIiIh2dnYiIiLu7u5mZmaYmJgAAABJJ2g3AAAAAXRSTlMAQObYZgAAAS9JREFU\n",
       "KM9jYGDgu8eAE7CtUgBRPLsY8AC2ZhDJ+QG77OzyHxsvMDBcB7G5GrAqSf3KcOqnAwPDCtxq+Fge\n",
       "MDDYY1dzsnr3dhD9hgNI8GJVw1Z3AMK4oALyzgRkNSqzIsCeVIQq4bkQBdUFVsNbwMDA2sQgDxYR\n",
       "gpm3wA7Keg8iMgIYGPQfMFwEaxeAq4mDstiB/k9pAzL8GRh2ggRYu3fvBruZRyAL5kRxoAcjEhgY\n",
       "PjLwfANrd4DJ1LBAGdwLgARLAQPTTwbmDzwg7Rtgal6B1RyAuodrAwPPZ6BKMxDHD6aG8SnQ36x7\n",
       "kPxex2B9AWQmw+kAmCIXyQNHBQ8gqVGZGSYJlmWqTYD57Pb/lgAGrHHB7A6JCzjAE6eoavjwqwGn\n",
       "H56deNNhKySpLCaQngFpVlD4B4ox6wAAAABJRU5ErkJggg==\n",
       "\" style=\"display:inline;vertical-align:middle;\" /></a> <a class=\"ProveItLink\" href=\"__pv_it/c0e877aaf1f38bcff260c302727f572b9e1a8cf00/proof.ipynb\" style=\"text-decoration: none\">&#x22A2;&nbsp;</a><a class=\"ProveItLink\" href=\"__pv_it/32fd9f7371420d2f4403d0a95d9a87aef3ad94580/expr.ipynb\"><img src=\"data:image/png;base64,iVBORw0KGgoAAAANSUhEUgAAANQAAAAVBAMAAADMRN06AAAAMFBMVEX////c3NwiIiJERESqqqqY\n",
       "mJh2dnZmZmYQEBDu7u4yMjJUVFTMzMyIiIi6uroAAAAs73DqAAAAAXRSTlMAQObYZgAAAfpJREFU\n",
       "SMe9lT1Iw1AQx69a26alNYtTB0UHXQQHHUVx9AOdnbp1EEQQHcRB0clBdBERpKI4NILoahELjg5m\n",
       "clPESUShoIKDX3dpkvdxUQoRb8h7+fXe/9+7JO8B/GNkbM4abmvLqz0cxQvwLlLM8+SLcBWRYpEm\n",
       "bdoPSZ5bDGeFimnqS3pJrzenp6aV/q0zKcP8naBiYg3Hpj09bUFf6OT5McKsovbvBBUfaMzpVtCt\n",
       "gwcIZ4WKs1ScKVllr+6x8ry+kPIip5OLqpUgnjAnvuI+zrdBWGUWoQ+HQZrHLSeOaE5592Z9RbUS\n",
       "xBPmxFdcpf5VrQx6HM1jME0r9KowL/IK8S7FSiKuMCdC8RNZuWpVaMHLGUAnDpe6FealKlBnK1YS\n",
       "cYU5EYoosQFVq036O89gvP9g1dgFhTJO5yyrw7IOQBDs9O6K02lOhOIywFCp9HbqPecPiFYMt4Hx\n",
       "ViechmBesw2jsCZXJRG3Bk6EYo9z73/CxgukdoYBxvWqMK/QDyfRsmwlEVeYE6GYV63wTRuYygW8\n",
       "7AiSY9H2mPKsJOIKcyIU7+hu4mvG/6yuH3txFz7Ure7ok7k5v1HfQEG8djEiFBNm0OYYsDGZoTcm\n",
       "vrFSxNhCNe+phuNMJaQYeDhs/fkhQorZoB+OOcqGsyLFSMBBni5zFgl14KPiN7Ltu61IdclLAAAA\n",
       "AElFTkSuQmCC\n",
       "\" style=\"display:inline;vertical-align:middle;\" /></a></span></td></tr>\n",
       "<tr><td>&nbsp;</td><td colspan=4 style=\"text-align:left\"><span style=\"font-size:20px;\"><a class=\"ProveItLink\" href=\"../../__pv_it/78af03acba5349fd70398a32ce59bae1da52f0870/expr.ipynb\"><img src=\"data:image/png;base64,iVBORw0KGgoAAAANSUhEUgAAABIAAAAJBAMAAADN8WE8AAAAMFBMVEX////MzMyYmJgQEBBmZmYi\n",
       "IiLu7u4yMjKqqqp2dnZUVFTc3NxERESIiIi6uroAAABe5jFNAAAAAXRSTlMAQObYZgAAAFtJREFU\n",
       "CNdj4Luz++5KvrsnGBg4uWoZ8ucx9DMwvGM9wJB/AcRKyH/A0J/A4M7AAKJcGRgsgSwgL4SB7zcb\n",
       "iMf2j4GrYBMD9z8Gpg8M7BcmMPAZMHAeYOBYKwAAtXMYHwtZnY0AAAAASUVORK5CYII=\n",
       "\" style=\"display:inline;vertical-align:middle;\" /></a> : <a class=\"ProveItLink\" href=\"../numeral/__pv_it/23412ce59ea7e77353d2f9225e02248e73651ca00/expr.ipynb\"><img src=\"data:image/png;base64,iVBORw0KGgoAAAANSUhEUgAAAAoAAAAPBAMAAAAv0UM9AAAALVBMVEX///9mZmaqqqru7u52dnYy\n",
       "MjKYmJjc3NwQEBCIiIhEREQiIiJUVFTMzMwAAACUDTcXAAAAAXRSTlMAQObYZgAAAD5JREFUCNdj\n",
       "YGBguMMAArtABGcXiCyLApEOIJKtAERaMoBIBxDJdAFEmjCASJ0zZ16cBCkF64KQPu/EwBwGACv6\n",
       "DSRgin9qAAAAAElFTkSuQmCC\n",
       "\" style=\"display:inline;vertical-align:middle;\" /></a>, <a class=\"ProveItLink\" href=\"../../__pv_it/eb438fefc4bd0ac977777d6dfd3e8a72dfbedbd50/expr.ipynb\"><img src=\"data:image/png;base64,iVBORw0KGgoAAAANSUhEUgAAABIAAAAPBAMAAAAbqIIhAAAAMFBMVEX///+YmJhmZmZERES6urrc\n",
       "3Nzu7u4QEBCIiIgyMjJUVFR2dnYiIiKqqqrMzMwAAAD8et6HAAAAAXRSTlMAQObYZgAAAGpJREFU\n",
       "CNdjYAABvr8MUMDzG8ba/wvK4Pv/B8ri3P8fyuph/58AZrD+4/zvAGYxKzD9FwCzxBk4/iuAGGx/\n",
       "GVj+G4BYXN/L6/8fALGuP0tL/f8BJFkLJM5/BRJRICX2QCfw/weauv7//38AzEYi08a6/oIAAAAA\n",
       "SUVORK5CYII=\n",
       "\" style=\"display:inline;vertical-align:middle;\" /></a> : <a class=\"ProveItLink\" href=\"__pv_it/7f2f44c052640a943d82556f4836ff172f97af010/expr.ipynb\"><img src=\"data:image/png;base64,iVBORw0KGgoAAAANSUhEUgAAAFQAAAAVBAMAAAAqQdQ7AAAAMFBMVEX////c3NwiIiJERESqqqqY\n",
       "mJh2dnZmZmYQEBDu7u4yMjJUVFTMzMyIiIi6uroAAAAs73DqAAAAAXRSTlMAQObYZgAAARlJREFU\n",
       "KM9jYCAB8F0gRhXrAyBxmjgTa4B4JXFKuRgYeC8Qp5Q1gYFjAnFKORsYXhHrfROGMiDJuDevEcLH\n",
       "xmKQvvZCgIEhnWEpkP1CgPkDRBQbi6+RwR5IeTH0AQ34ysBuADEKC4tBPoChGKSX4R8DA/cHBiZI\n",
       "OGBjMexnYNAFUudBSvkNGOYfAItiYzF8ZuD8A1baArThAoM/AzjMsLEY/zKwfOAEOcCUgWG+A8Mu\n",
       "lgNAHlYW5xcG7gU+DAxRwDBg4ApgUWdjmK+AnQUMI6eCBFBgPQIF4b3D9xhmfMTOYpC++8YWmK7W\n",
       "MXAIwKLjIQM+FjBigckACgIY8LHYLiAlQvxKZ4GcAmXzwkWxsRg2gsKNqATLe4ABAD4AYyeetW9t\n",
       "AAAAAElFTkSuQmCC\n",
       "\" style=\"display:inline;vertical-align:middle;\" /></a>, <a class=\"ProveItLink\" href=\"../../__pv_it/530be409e3083890784cf1d7b28c9e67e90af9360/expr.ipynb\"><img src=\"data:image/png;base64,iVBORw0KGgoAAAANSUhEUgAAAAsAAAAJBAMAAAAWSsseAAAAKlBMVEX///9ERETMzMwQEBAiIiKY\n",
       "mJju7u5mZmaqqqpUVFSIiIh2dnbc3NwAAAA/vyDhAAAAAXRSTlMAQObYZgAAAENJREFUCNdjYDi9\n",
       "8sTyBQxsG1hdmR0YuBm4LnAoMLAxcAowgADzAjB1VoEhgYH1wFoGrgSG3gBhhlMMDImrs3cFMAAA\n",
       "t0YN+iTRa+sAAAAASUVORK5CYII=\n",
       "\" style=\"display:inline;vertical-align:middle;\" /></a> : <a class=\"ProveItLink\" href=\"../../__pv_it/07527342713064c87612d00d8557c53d53d5324a0/expr.ipynb\"><img src=\"data:image/png;base64,iVBORw0KGgoAAAANSUhEUgAAAAsAAAAJBAMAAAAWSsseAAAAMFBMVEX///8yMjKqqqrMzMzu7u4i\n",
       "IiJmZmaYmJhEREQQEBC6urp2dnaIiIhUVFTc3NwAAAD87Fq/AAAAAXRSTlMAQObYZgAAAEhJREFU\n",
       "CNdjYOC7s2seAwPDygccHxgY+L4zsDUwMPB+YGA9wMDA38Dgb8DA8P4Agz6DA4O/AsNFJgMGxgKm\n",
       "MG6gyjunLE4xAAAZTBA5TB6DCwAAAABJRU5ErkJggg==\n",
       "\" style=\"display:inline;vertical-align:middle;\" /></a></span></td></tr><tr><td>1</td><td>axiom</td><td></td><td><span style=\"font-size:20px;\"> <a class=\"ProveItLink\" href=\"_axioms_.ipynb#multDef\" style=\"text-decoration: none\">&#x22A2;&nbsp;</a><a class=\"ProveItLink\" href=\"__pv_it/a6dceba3f8f98904af9efb948322d09c369949550/expr.ipynb\"><img src=\"data:image/png;base64,iVBORw0KGgoAAAANSUhEUgAAAlAAAAAZBAMAAAAMBA37AAAAMFBMVEX///8QEBC6urrMzMxUVFRm\n",
       "ZmZERETc3NwyMjKqqqp2dnaIiIiYmJgiIiLu7u4AAAAU9Wx4AAAAAXRSTlMAQObYZgAABq9JREFU\n",
       "WMPtWWuME1UUPjvTdvqYznYhimCkDRgxErMlIi+j2ywJqERYIyTCamxQi7pGm7gREpTtPxUQagy/\n",
       "+EFDQMCNpRHcCMujgCsGIlYFjCQLs4lBI2S3sMAGXRjvYx53pjN9/GmI4SRnZnrvmXPvfPe87i1A\n",
       "efL0/wZ3ies/V0kkeBclQp0gVwRKvhMmOlVlWzpqYwM5cuNv1j5US9qs+SgFqoBvJ8sBVUGiLsTH\n",
       "KNuTO1rSNF2d/j+1j3UhY9ZMtHfCLvx7QzmgKkjUhbwyZQdKlbSo8919reah/ErMojlFgHofXYV4\n",
       "OaAqSNSFelV2oBPWhoDqecottlVKOrzPdrQoBYvmEwQovE7udDmgKkjUhSaq7EAD1oYGan3e3Qrb\n",
       "6ss5vM92rFWKFs0DBChxx8qVH5YN5hUk6pKeU5QdixjrOj5MbwcbFLlGoAKF8G2LZsydADcSiXPl\n",
       "y4PyEvUgd4Yy17Oy91mu9029Q+iev7kdxZU2ywvLaO+wV4nUCFRXdONVNmK1UUZAzQVYUR4oVeI9\n",
       "i/J6xvI8Zb9rHQxthS16x9/wY/4BNBdsbe6PCZFQvJ6aQ5tbydcI1Ovwyijbk6KMgHoQpFR5oKiE\n",
       "QLJms27kfKYan9EfKhc0zc5xsCFCeVIwDkM5CtQgvmTgMHyOtIcsL4wh1yMQUJA18PHqgRJDcPg6\n",
       "+wEhyp0YikDe/NqsJZHAPbIBFJXwkN9hA56tWsr4YdsZ6wwur32unayp/qmVC5qwM/KNEcryUAS2\n",
       "yPAiHpXkMxnmkUUrWl4g3iPdBE6JA7+4UD1QQ2lovsEWcEXKCKhAPsgEPOmbJXkxnoUsY1FUYjMJ\n",
       "FmGjTvgL8aUlL8Fj78CsjLj0QGufYW0zZH6tCajnb1SMQ+F4RaAwSi8DTMATvZd23e8MlOtKUxjn\n",
       "eh8BCnnmp/epnmkemO1Y1NRkKikYoKTUdKajZ8qgLJ50m4CiEiSQPbrFMHJXFALL1wzC8RxwGV8P\n",
       "jOGQmXMIrGMgrgZ4hAWK+/1KJaBY1SWul6aMbekMcCOSEc2HQVJdz91PiMA9Hl8+e2rwT5zrfdVb\n",
       "lG/s4GCXYu96sKIVuWb71G2BniiIOH2Is2fmWKCIBJDP+KWL5E7/3qlzcVHXh1XNRiV+EuZKBT/+\n",
       "lKVYx2QUNwQWqOAUU56G7ta91m2HqprNOHgUGpXzlJEtSVfBlfpAEzkeKMIhNGNrlH0bry9G68KI\n",
       "DVAS9VrQ97E6UAPoE4JKEvq+3h/rfRWoZpEGc9iE9FxuzgdjYgy8JKBFs8dMQGEJPkWSZSMx6qwr\n",
       "Ph64GCnuA5fJaAVfW1DE65pG6B06pZUh6n074Dy9EOBpnJhyfnlegyV0a6qJrWKhdXQUU5IWroJY\n",
       "BG9Oi2a+UU9IyNmUB9txjYht692bNkANFdQYJ90ydwg44nmUtHR0FE7Dd+byABqQ1JpvoTGKGuZQ\n",
       "oPz+hSxQWILDPjxN9v6LGyI4V/MpkvgoUFLcn/bswX2L20qB4ifCxhzMGWckw/VW69dUM0RGofIF\n",
       "lUPgj4NvgWaNUkf2ywO4fIhY/RjFNAUZ8SJFGS4FaiCuxjgt0GkdinIbXIqizLyUgmGCNtaMGQMl\n",
       "4g9dANPAm4YnE4lETowKp86zQGEJHwbq56Yw3WU2JglQZxOJDm6S2YkOoq+bNNkMVBCFSPQ+cwY4\n",
       "YgVKV83GcH0LNk7lqrcw7K6uhhil23SOD8Enpi2MSmOhB7o4+INaFEw+ZD2449Aq+GMgUmOdBlHU\n",
       "IpFMsTCHY5ReiLQ9g8a5ZI5R2wB+KhCg3iCuB3yIt3geUa3mTg91PTKKeW/qQN3WBjFjBxTnBFRJ\n",
       "R0M0EBeKEaq5mwFKKCKb+t4PriQFSsxagZIK2D3QfhyEj/jiTlTqocnMxz2P79A265j68AaaX5ak\n",
       "m32P5nnQUmQsqsWf8sOqpLABVsn4klRVa7lTzcx4lGqOWSTHYxYzUNVTF7IpMZ4hmqUUAxSyl19h\n",
       "xg6QluMdJbrESo6Cz6N0EIMjynh+VOrYtF8GdwQu4tggfZVoNdYGfeYLaGtx9rWIAdSFayCGr6QN\n",
       "oC7ua89CS54fgZYkvuRV1XrupAEIj6IuZIyyPbmSNke3RgWx83quVqAegmCUfytJNBPtnSXHVihG\n",
       "2Z+Z7zPsWl1lxF8kOsoO6DH9svxPkS990nJnCa1W2Zb2lDYJNWPjqHkP2AHl/OfCRf1pJr1trmIg\n",
       "E1BPTDCVBHyy5MnInXfenwtVA+XLW9Y/VitQ1oBr83THUmWgjP/1jlmcVK5Cvwv+F8T1n/4P9YAS\n",
       "bVT3aeEAAAAASUVORK5CYII=\n",
       "\" style=\"display:inline;vertical-align:middle;\" /></a></span></td></tr>\n",
       "<tr><td>&nbsp;</td><td colspan=4 style-\"text-align:left\"><a class=\"ProveItLink\" href=\"_axioms_.ipynb#multDef\">proveit.number.multiplication.multDef</a></td></tr><tr><td>2</td><td>theorem</td><td></td><td><span style=\"font-size:20px;\"> <a class=\"ProveItLink\" href=\"../numeral/deci/_proofs_/nat4.ipynb\" style=\"text-decoration: none\">&#x22A2;&nbsp;</a><a class=\"ProveItLink\" href=\"../numeral/deci/__pv_it/187f61bdf15fe8a518e21f4c2127ec83e106d9910/expr.ipynb\"><img src=\"data:image/png;base64,iVBORw0KGgoAAAANSUhEUgAAADMAAAAPBAMAAAC7N+rPAAAAMFBMVEX///+6urpmZmaqqqru7u52\n",
       "dnYyMjKYmJjc3NwQEBCIiIhEREQiIiJUVFTMzMwAAACQ7J58AAAAAXRSTlMAQObYZgAAANJJREFU\n",
       "GNNjYGBgeMuAAtx+b3Ng0PljAGKfRpVi2M63gYHhA4jFNRtN6s6DVQwME0Cs9myIiFfOmWNgxsUU\n",
       "3gcQqQCIFF+6A1TXvbcsKWAp9gaIVDdMhuEe84LXYCkvBojUDrhd9xgU2ReApAIgUiwbkKR4He4B\n",
       "pZgfQKQY55w5A3XGPQaWC25AKVcGiBTfBSRdDE/5gFK2d+/+vAUy8ACyFLsBxHyIl68jSzFEIEv5\n",
       "CMCkNgIxUwKIFftfHURxJD2AyIj9BOpgSUAOOuZrUBdCAQDo0EBn8/FI3gAAAABJRU5ErkJggg==\n",
       "\" style=\"display:inline;vertical-align:middle;\" /></a></span></td></tr>\n",
       "<tr><td>&nbsp;</td><td colspan=4 style-\"text-align:left\"><a class=\"ProveItLink\" href=\"../numeral/deci/_proofs_/nat4.ipynb\">proveit.number.numeral.deci.nat4</a></td></tr><tr><td>3</td><td>specialization</td><td>8, 9</td><td><span style=\"font-size:20px;\"><a class=\"ProveItLink\" href=\"__pv_it/3d10a8eec6fa3ed48ba13063e317dea34c9256980/expr.ipynb\"><img src=\"data:image/png;base64,iVBORw0KGgoAAAANSUhEUgAAAEUAAAAVBAMAAADiLT7tAAAAMFBMVEX///9ERETc3NyqqqpUVFS6\n",
       "urrMzMwyMjIQEBCIiIh2dnYiIiLu7u5mZmaYmJgAAABJJ2g3AAAAAXRSTlMAQObYZgAAAS9JREFU\n",
       "KM9jYGDgu8eAE7CtUgBRPLsY8AC2ZhDJ+QG77OzyHxsvMDBcB7G5GrAqSf3KcOqnAwPDCtxq+Fge\n",
       "MDDYY1dzsnr3dhD9hgNI8GJVw1Z3AMK4oALyzgRkNSqzIsCeVIQq4bkQBdUFVsNbwMDA2sQgDxYR\n",
       "gpm3wA7Keg8iMgIYGPQfMFwEaxeAq4mDstiB/k9pAzL8GRh2ggRYu3fvBruZRyAL5kRxoAcjEhgY\n",
       "PjLwfANrd4DJ1LBAGdwLgARLAQPTTwbmDzwg7Rtgal6B1RyAuodrAwPPZ6BKMxDHD6aG8SnQ36x7\n",
       "kPxex2B9AWQmw+kAmCIXyQNHBQ8gqVGZGSYJlmWqTYD57Pb/lgAGrHHB7A6JCzjAE6eoavjwqwGn\n",
       "H56deNNhKySpLCaQngFpVlD4B4ox6wAAAABJRU5ErkJggg==\n",
       "\" style=\"display:inline;vertical-align:middle;\" /></a> <a class=\"ProveItLink\" href=\"__pv_it/d6ee1ab335f74dbbf84aa104d878551d65692b450/proof.ipynb\" style=\"text-decoration: none\">&#x22A2;&nbsp;</a><a class=\"ProveItLink\" href=\"__pv_it/be512c7200775b7e11db838c7fa1a532cbe859590/expr.ipynb\"><img src=\"data:image/png;base64,iVBORw0KGgoAAAANSUhEUgAAAIYAAAAZBAMAAAAGZ0s0AAAAMFBMVEX////c3NwiIiJERESqqqqY\n",
       "mJh2dnZmZmYQEBDu7u4yMjJUVFTMzMyIiIi6uroAAAAs73DqAAAAAXRSTlMAQObYZgAAAdBJREFU\n",
       "OMtjYKAUcDFQDvwnUGwEZz7lZvDOp9yMIyAz+C4Qo5T1AQ6JBJAZp4mzrwZD5NKqH8oFrAIgM1aS\n",
       "GYXn/jFM+7thLgPQDN4LxJnBmoDG5w4AxusG9/L6UgYOIoOVswFC3VJSWgBiRHIACfYNDAzyExhe\n",
       "ERsBJmDyVCSUWyANMvECA+v+LQxlQCbj3rxGiAw2FoP0tRcCDAzpYFFLmLMKniGMXwrELwSYP0B4\n",
       "2Fh8jQz2QMoLxGYWgGrjSXBFmNEHNPwrA7sBxHIsLAb5AIZikKEg9mQGuBlPEWb8Y2Dg/sDABIkd\n",
       "bCyG/QwMukDqPNh1SkqQMOU0OIZiBr8Bw/wDYA42FsNnBs4/MDMQCXIlN8KMFqBjLzD4M4CjGBuL\n",
       "8S8DywdOqF8mwfWFgc2AJAxTBob5Dgy7WA4AlWFlcX5h4F7gw8AQBfZiAMwM5jigV/k0wWxglHEF\n",
       "sKizMcxXwM4CxpxTQQI0bjn14A7ZbTthnjHEHY9ASeHe4XsMMz5iZzFI331jC8y168DKpeB5j6fo\n",
       "fzc0M3PAYpzhIQM+FjStM3gvgqR17HkJ7lWsLDZ8eXMlcWbMwpeXpGEFI6KIxMJi2IjPDEaiChDe\n",
       "A7jlAKfCkvzJ0OdEAAAAAElFTkSuQmCC\n",
       "\" style=\"display:inline;vertical-align:middle;\" /></a></span></td></tr>\n",
       "<tr><td>&nbsp;</td><td colspan=4 style=\"text-align:left\"><span style=\"font-size:20px;\"><a class=\"ProveItLink\" href=\"../../__pv_it/abeee18594afe51bfb1be95d9591fbba24ac53f30/expr.ipynb\"><img src=\"data:image/png;base64,iVBORw0KGgoAAAANSUhEUgAAAA0AAAAOBAMAAAAGUYvhAAAAMFBMVEX///8iIiIQEBCIiIjMzMzc\n",
       "3Nyqqqp2dnZEREQyMjK6urru7u5mZmZUVFSYmJgAAACI6eGPAAAAAXRSTlMAQObYZgAAAF1JREFU\n",
       "CNdjYGDgu3Nm3wIGBoZ5DNz9QIq3gIEhE0jHOzAwOAPp9QkMDC4g/megABAw///fCmbEXfq0Acxg\n",
       "qH8ANAVI7wfSe0BKAyBGnAXigwYMzA1A+sLau31ACgAz0hhbkhGHbwAAAABJRU5ErkJggg==\n",
       "\" style=\"display:inline;vertical-align:middle;\" /></a> : <a class=\"ProveItLink\" href=\"../sets/complex/__pv_it/c357845f93a5a2d9f649129d299e7ec28dda4b960/expr.ipynb\"><img src=\"data:image/png;base64,iVBORw0KGgoAAAANSUhEUgAAAA8AAAAOBAMAAAACpFvcAAAAMFBMVEX////c3NyqqqqYmJhUVFR2\n",
       "dnbu7u66urrMzMxmZmZEREQQEBAyMjIiIiKIiIgAAAB7fvZ0AAAAAXRSTlMAQObYZgAAAGVJREFU\n",
       "CNdjYGDgu3N+70oGBgaO+gK2+CdAhoEzAwPTFwYG5oQNQN4UBgZORgcgI4+BIZM9gAEMWpkMoAx2\n",
       "KCOLAyrFk+AAYTAHgBhsQLy4DkjUJjAwsHg9Y6taBpLsvP/bnYEBACkBFGQfBv8RAAAAAElFTkSu\n",
       "QmCC\n",
       "\" style=\"display:inline;vertical-align:middle;\" /></a>, <a class=\"ProveItLink\" href=\"../../__pv_it/07527342713064c87612d00d8557c53d53d5324a0/expr.ipynb\"><img src=\"data:image/png;base64,iVBORw0KGgoAAAANSUhEUgAAAAsAAAAJBAMAAAAWSsseAAAAMFBMVEX///8yMjKqqqrMzMzu7u4i\n",
       "IiJmZmaYmJhEREQQEBC6urp2dnaIiIhUVFTc3NwAAAD87Fq/AAAAAXRSTlMAQObYZgAAAEhJREFU\n",
       "CNdjYOC7s2seAwPDygccHxgY+L4zsDUwMPB+YGA9wMDA38Dgb8DA8P4Agz6DA4O/AsNFJgMGxgKm\n",
       "MG6gyjunLE4xAAAZTBA5TB6DCwAAAABJRU5ErkJggg==\n",
       "\" style=\"display:inline;vertical-align:middle;\" /></a> : <a class=\"ProveItLink\" href=\"../../__pv_it/07527342713064c87612d00d8557c53d53d5324a0/expr.ipynb\"><img src=\"data:image/png;base64,iVBORw0KGgoAAAANSUhEUgAAAAsAAAAJBAMAAAAWSsseAAAAMFBMVEX///8yMjKqqqrMzMzu7u4i\n",
       "IiJmZmaYmJhEREQQEBC6urp2dnaIiIhUVFTc3NwAAAD87Fq/AAAAAXRSTlMAQObYZgAAAEhJREFU\n",
       "CNdjYOC7s2seAwPDygccHxgY+L4zsDUwMPB+YGA9wMDA38Dgb8DA8P4Agz6DA4O/AsNFJgMGxgKm\n",
       "MG6gyjunLE4xAAAZTBA5TB6DCwAAAABJRU5ErkJggg==\n",
       "\" style=\"display:inline;vertical-align:middle;\" /></a>, <a class=\"ProveItLink\" href=\"../../__pv_it/6840a4fa6c106149dc16a131294d0c5e44f1b0480/expr.ipynb\"><img src=\"data:image/png;base64,iVBORw0KGgoAAAANSUhEUgAAAAkAAAAOBAMAAAAPuiubAAAALVBMVEX///9mZmbMzMxERESYmJiI\n",
       "iIh2dna6urqqqqoyMjIiIiIQEBBUVFTu7u4AAAD9S1JeAAAAAXRSTlMAQObYZgAAAE1JREFUCNdj\n",
       "4D29gAEIOA+ASL4GEFl3AURmgQiGOaFHGBh4HzPwKTBwvGXgTmBgnMDAJ8DAJcBQ5wBSLncBJLWN\n",
       "gYGngRFoBO9REQYGAGrcDtUkVqASAAAAAElFTkSuQmCC\n",
       "\" style=\"display:inline;vertical-align:middle;\" /></a> : <a class=\"ProveItLink\" href=\"../../__pv_it/07527342713064c87612d00d8557c53d53d5324a0/expr.ipynb\"><img src=\"data:image/png;base64,iVBORw0KGgoAAAANSUhEUgAAAAsAAAAJBAMAAAAWSsseAAAAMFBMVEX///8yMjKqqqrMzMzu7u4i\n",
       "IiJmZmaYmJhEREQQEBC6urp2dnaIiIhUVFTc3NwAAAD87Fq/AAAAAXRSTlMAQObYZgAAAEhJREFU\n",
       "CNdjYOC7s2seAwPDygccHxgY+L4zsDUwMPB+YGA9wMDA38Dgb8DA8P4Agz6DA4O/AsNFJgMGxgKm\n",
       "MG6gyjunLE4xAAAZTBA5TB6DCwAAAABJRU5ErkJggg==\n",
       "\" style=\"display:inline;vertical-align:middle;\" /></a>, <a class=\"ProveItLink\" href=\"../../__pv_it/cbdfda466482236edba0ce44ac7ef39cda0af7a40/expr.ipynb\"><img src=\"data:image/png;base64,iVBORw0KGgoAAAANSUhEUgAAAAkAAAAJBAMAAAASvxsjAAAALVBMVEX///9mZmbc3NxUVFSYmJhE\n",
       "REQiIiIyMjK6uroQEBDMzMyIiIh2dnbu7u4AAABgFDGoAAAAAXRSTlMAQObYZgAAADZJREFUCNdj\n",
       "YOA9s3sBA8PKBvYEBt7ZDKwODMwPGICALwBE6m0Asx0YGIDiAgw8QJUyu/cyAAAmuwmycZ8WfQAA\n",
       "AABJRU5ErkJggg==\n",
       "\" style=\"display:inline;vertical-align:middle;\" /></a> : <a class=\"ProveItLink\" href=\"../../__pv_it/07527342713064c87612d00d8557c53d53d5324a0/expr.ipynb\"><img src=\"data:image/png;base64,iVBORw0KGgoAAAANSUhEUgAAAAsAAAAJBAMAAAAWSsseAAAAMFBMVEX///8yMjKqqqrMzMzu7u4i\n",
       "IiJmZmaYmJhEREQQEBC6urp2dnaIiIhUVFTc3NwAAAD87Fq/AAAAAXRSTlMAQObYZgAAAEhJREFU\n",
       "CNdjYOC7s2seAwPDygccHxgY+L4zsDUwMPB+YGA9wMDA38Dgb8DA8P4Agz6DA4O/AsNFJgMGxgKm\n",
       "MG6gyjunLE4xAAAZTBA5TB6DCwAAAABJRU5ErkJggg==\n",
       "\" style=\"display:inline;vertical-align:middle;\" /></a>, <a class=\"ProveItLink\" href=\"../../__pv_it/3a5de44ed6135dbbdbbeec6704c741e238f127300/expr.ipynb\"><img src=\"data:image/png;base64,iVBORw0KGgoAAAANSUhEUgAAAAsAAAAOBAMAAAALT/umAAAAMFBMVEX////MzMyYmJiIiIhUVFTc\n",
       "3NwyMjIiIiJ2dnbu7u6qqqpmZmYQEBBERES6uroAAABkyy6XAAAAAXRSTlMAQObYZgAAAFhJREFU\n",
       "CNdjYGBg4LuzgQEE+BeAqfcTwFQ7mGTIBmJW575fQOpNAO9PIOcTA3cCAwPLBwb2BqCeCwzzHzAw\n",
       "xBswrGeYwDB/AYMblwADmwJXNQdIm52sHQMAfyoTCZukXIEAAAAASUVORK5CYII=\n",
       "\" style=\"display:inline;vertical-align:middle;\" /></a> : <a class=\"ProveItLink\" href=\"../../__pv_it/07527342713064c87612d00d8557c53d53d5324a0/expr.ipynb\"><img src=\"data:image/png;base64,iVBORw0KGgoAAAANSUhEUgAAAAsAAAAJBAMAAAAWSsseAAAAMFBMVEX///8yMjKqqqrMzMzu7u4i\n",
       "IiJmZmaYmJhEREQQEBC6urp2dnaIiIhUVFTc3NwAAAD87Fq/AAAAAXRSTlMAQObYZgAAAEhJREFU\n",
       "CNdjYOC7s2seAwPDygccHxgY+L4zsDUwMPB+YGA9wMDA38Dgb8DA8P4Agz6DA4O/AsNFJgMGxgKm\n",
       "MG6gyjunLE4xAAAZTBA5TB6DCwAAAABJRU5ErkJggg==\n",
       "\" style=\"display:inline;vertical-align:middle;\" /></a></span></td></tr><tr><td>4</td><td>specialization</td><td>10</td><td><span style=\"font-size:20px;\"> <a class=\"ProveItLink\" href=\"__pv_it/702d9b842711df0639c50a16a7899cec1ed6ccd70/proof.ipynb\" style=\"text-decoration: none\">&#x22A2;&nbsp;</a><a class=\"ProveItLink\" href=\"__pv_it/03fec59a98004ec9885c93a8091609b6a2cd32c10/expr.ipynb\"><img src=\"data:image/png;base64,iVBORw0KGgoAAAANSUhEUgAAADIAAAAJBAMAAACCrGLsAAAAMFBMVEX///8yMjKqqqrMzMzu7u4i\n",
       "IiJmZmaYmJhEREQQEBC6urp2dnaIiIhUVFTc3NwAAAD87Fq/AAAAAXRSTlMAQObYZgAAAI1JREFU\n",
       "CNdjYOC7s2seAxp4e3rlAwaGlQ84PoB4iYIgIAtics1j6Gdg4PvOwNaApuV9AUMGAwPvBwbWA2gy\n",
       "9xkYYhgY+BsY/A3QZH4wsHwG6jzAoM/gAOSmhoJABJDF94eB6QMLg78Cw0UmVE0snxh4BZQZGAuY\n",
       "wrjRTBNnUE3YAPTOKYtT6N45s7hnAQALwiTlnSG7sgAAAABJRU5ErkJggg==\n",
       "\" style=\"display:inline;vertical-align:middle;\" /></a></span></td></tr>\n",
       "<tr><td>&nbsp;</td><td colspan=4 style=\"text-align:left\"><span style=\"font-size:20px;\"><a class=\"ProveItLink\" href=\"../../__pv_it/530be409e3083890784cf1d7b28c9e67e90af9360/expr.ipynb\"><img src=\"data:image/png;base64,iVBORw0KGgoAAAANSUhEUgAAAAsAAAAJBAMAAAAWSsseAAAAKlBMVEX///9ERETMzMwQEBAiIiKY\n",
       "mJju7u5mZmaqqqpUVFSIiIh2dnbc3NwAAAA/vyDhAAAAAXRSTlMAQObYZgAAAENJREFUCNdjYDi9\n",
       "8sTyBQxsG1hdmR0YuBm4LnAoMLAxcAowgADzAjB1VoEhgYH1wFoGrgSG3gBhhlMMDImrs3cFMAAA\n",
       "t0YN+iTRa+sAAAAASUVORK5CYII=\n",
       "\" style=\"display:inline;vertical-align:middle;\" /></a> : <a class=\"ProveItLink\" href=\"../../__pv_it/07527342713064c87612d00d8557c53d53d5324a0/expr.ipynb\"><img src=\"data:image/png;base64,iVBORw0KGgoAAAANSUhEUgAAAAsAAAAJBAMAAAAWSsseAAAAMFBMVEX///8yMjKqqqrMzMzu7u4i\n",
       "IiJmZmaYmJhEREQQEBC6urp2dnaIiIhUVFTc3NwAAAD87Fq/AAAAAXRSTlMAQObYZgAAAEhJREFU\n",
       "CNdjYOC7s2seAwPDygccHxgY+L4zsDUwMPB+YGA9wMDA38Dgb8DA8P4Agz6DA4O/AsNFJgMGxgKm\n",
       "MG6gyjunLE4xAAAZTBA5TB6DCwAAAABJRU5ErkJggg==\n",
       "\" style=\"display:inline;vertical-align:middle;\" /></a></span></td></tr><tr><td>5</td><td>theorem</td><td></td><td><span style=\"font-size:20px;\"> <a class=\"ProveItLink\" href=\"../numeral/deci/_proofs_/add_1_1.ipynb\" style=\"text-decoration: none\">&#x22A2;&nbsp;</a><a class=\"ProveItLink\" href=\"../numeral/deci/__pv_it/10ea9a44c639fcc49e957d670ca706739b30851d0/expr.ipynb\"><img src=\"data:image/png;base64,iVBORw0KGgoAAAANSUhEUgAAAGEAAAAVBAMAAACkm51HAAAAMFBMVEX////c3NwiIiJERESqqqqY\n",
       "mJh2dnZmZmYQEBDu7u4yMjJUVFTMzMyIiIi6uroAAAAs73DqAAAAAXRSTlMAQObYZgAAASJJREFU\n",
       "OMtjYCAd8F3AIRGHS8dpIGaegC5qycDAfgBdkLF88QMgtZKBgdMeXcfkn0BiAboOaQbeLwwMvBcY\n",
       "OHfvh+mYCKFm7wbpCEPXsZOBQZ+BgQOk+D5Mhy+U5gXpmIGuo2MCw/4HDK8YcOpgdkDTsX4CQ/0D\n",
       "hjLcOtgKMMNJfwLDUtw6WMBeZ18FBhvA4jzfGBj6cOvga8CwgsuAgeEfbh08HzB0FDOg6KhatUpj\n",
       "1arVeHTwgtzWQshV7EpgYABiuzMwCjCY4tbBih7pPAUMrAIM6SSErlBaWhEDwyMgq7x/eQCKDvaK\n",
       "X6XAgHmAHhn//38CphIBZDFfZM4M7ImdNQGZ9xaZk4sjf6zElXE4F+CQkMalg1sAhwQjrlx7B7sw\n",
       "AEBiXJeAxxXvAAAAAElFTkSuQmCC\n",
       "\" style=\"display:inline;vertical-align:middle;\" /></a></span></td></tr>\n",
       "<tr><td>&nbsp;</td><td colspan=4 style-\"text-align:left\"><a class=\"ProveItLink\" href=\"../numeral/deci/_proofs_/add_1_1.ipynb\">proveit.number.numeral.deci.add_1_1</a></td></tr><tr><td>6</td><td>theorem</td><td></td><td><span style=\"font-size:20px;\"> <a class=\"ProveItLink\" href=\"../numeral/deci/_proofs_/add_2_1.ipynb\" style=\"text-decoration: none\">&#x22A2;&nbsp;</a><a class=\"ProveItLink\" href=\"../numeral/deci/__pv_it/10362f3052a3f0618a6225b62b54b9008ac016550/expr.ipynb\"><img src=\"data:image/png;base64,iVBORw0KGgoAAAANSUhEUgAAAGEAAAAVBAMAAACkm51HAAAAMFBMVEX////c3NwiIiJERESqqqqY\n",
       "mJh2dnZmZmYQEBDu7u4yMjJUVFTMzMyIiIi6uroAAAAs73DqAAAAAXRSTlMAQObYZgAAAVBJREFU\n",
       "OMtjYCAd8F3AIRGHS8dpBgbxKjt0UUsGBvYD6II8ackOQGolA+MGhvsOqHKTfwKJBeg6xBn4/jIw\n",
       "8F5g4J7AwPQBIjYRQs3eDdIRhq4j34HhEwMDxwQGjk4G7n8QMV+oHC9Ixwx0Hf5gHa8YGLh+MrBj\n",
       "08HsgBlMQFeVgVlMP7HoYCvA0MG1gYFhKZh1PgGLDhaw19lXgcEGEPvYaiDRB1axmAGLDr4GDDt4\n",
       "gcrBHmA3wKaD5wNm7PVPgOi4DeZVrVqlsWrVatw6ZBgY7AMYWkAOLmAQxOkqdiUwALqC8/8EkA5T\n",
       "oOBxBoZALDpY0SP9FwODvgBDOgMDo1paugIxoXuVge8bA8MjYGT8//8fVQd7xa9SYOA/QNPBUl4F\n",
       "jFQOAWQxX2TODOyJnTUBmfcWmZOLI3+sxJVxOBfgkJDGpYNbAIcEI65cewe7MAAaulnOLikRRgAA\n",
       "AABJRU5ErkJggg==\n",
       "\" style=\"display:inline;vertical-align:middle;\" /></a></span></td></tr>\n",
       "<tr><td>&nbsp;</td><td colspan=4 style-\"text-align:left\"><a class=\"ProveItLink\" href=\"../numeral/deci/_proofs_/add_2_1.ipynb\">proveit.number.numeral.deci.add_2_1</a></td></tr><tr><td>7</td><td>theorem</td><td></td><td><span style=\"font-size:20px;\"> <a class=\"ProveItLink\" href=\"../numeral/deci/_proofs_/add_3_1.ipynb\" style=\"text-decoration: none\">&#x22A2;&nbsp;</a><a class=\"ProveItLink\" href=\"../numeral/deci/__pv_it/a17bb6fc975382ef2e73677fdc9b68a1334eba220/expr.ipynb\"><img src=\"data:image/png;base64,iVBORw0KGgoAAAANSUhEUgAAAGEAAAAVBAMAAACkm51HAAAAMFBMVEX////c3NwiIiJERESqqqqY\n",
       "mJh2dnZmZmYQEBDu7u4yMjJUVFTMzMyIiIi6uroAAAAs73DqAAAAAXRSTlMAQObYZgAAAT9JREFU\n",
       "OMtjYCAd8F3AIRGHS8dpBoZjaSboopYMDOwHMBXzbAASKxkYCxjeo1k0+SeQWICpg8mAgYH3AgPb\n",
       "FwZ+BYjIRAg1ezdIRximjhtAHRwTGFgQOnyhMrwgHTMwNDBGAXW8AjNhrkLRweyAroONC6ijDMxc\n",
       "zYBFB1sBuo5AkI6loBDI2oBNBwvY6+yrwACkgvMCSEcfxEcPsOjga0B3FANIxz8wm+MnFh08H9B0\n",
       "+MB0MB5gYP4KFKhatUpj1arVOHVwJoB1tDAwzP8J0YHdVexKYABUyrJ79/7uCwymDAz8CxiYPmLR\n",
       "wYoZ6RxAjelA6QCG9wlEhS5YxyMg7V6+BDV02St+lTIwcD3AiMH93wMYOASQhXyROTOwJ3bWBGTe\n",
       "W2ROLo78sRJXxuFcgENCGpcObgEcEoy4cu0d7MIARrlX6Y2B75gAAAAASUVORK5CYII=\n",
       "\" style=\"display:inline;vertical-align:middle;\" /></a></span></td></tr>\n",
       "<tr><td>&nbsp;</td><td colspan=4 style-\"text-align:left\"><a class=\"ProveItLink\" href=\"../numeral/deci/_proofs_/add_3_1.ipynb\">proveit.number.numeral.deci.add_3_1</a></td></tr><tr><td>8</td><td>theorem</td><td></td><td><span style=\"font-size:20px;\"> <a class=\"ProveItLink\" href=\"../../logic/set_theory/membership/_proofs_/exp_set_4.ipynb\" style=\"text-decoration: none\">&#x22A2;&nbsp;</a><a class=\"ProveItLink\" href=\"../../logic/set_theory/membership/__pv_it/cb8b5b8e643e98474f691f6de455e22287663bbf0/expr.ipynb\"><img src=\"data:image/png;base64,iVBORw0KGgoAAAANSUhEUgAAASMAAAAcBAMAAADYVcTSAAAAMFBMVEX///8QEBC6urrMzMxUVFRm\n",
       "ZmZERETc3NwyMjKqqqp2dnaIiIiYmJgiIiLu7u4AAAAU9Wx4AAAAAXRSTlMAQObYZgAABJBJREFU\n",
       "WMPNV29oW1UU//Wl6Wua5LUoMphs7dSKINIITvGDWHWbm4qNzEzd5iwiKaMb5kNoBNEFcezLJgEZ\n",
       "6AcxKM4/Ba3sz4emw4dW0YmjMvzDNBJ1bsVSGxrsGFbrOfe++/LyXhITuw+98O47757753fP+Z1z\n",
       "7wNWSGnHiiuvF+pp9+YTTc94zTIRGR8UkKX3TflsNfVU8zP6+pcJKThXwC0s6P2XCdJ0YZmQbidI\n",
       "wTEJqVANktHsjA9wdeN/9wv11FBkCRK+k5CESb50QQqL4WMNI9K73M47t6ZKt+uvwlZv62Rs18eh\n",
       "BEM6JiG9y60vuSB1ZDgsG3eGP+rp/2K1fpeqxHq7ifPFGTAkfgjSCCMbdEESDSON+62F/ZFzre4t\n",
       "2j8IeQLqPiCQPhx7YicQNgUk3ps/46Y3m+2xxiHdydVa1+re0kEs7ZLizKH899LnJXI5UWQf4xgU\n",
       "kEJvp1LPeSLuVCqVaiLwPmQQadfqVTI0+Xe3TBoHlZc1MqcvgtDAFmJvUSaBhXj8rAdSZzy+N9s4\n",
       "pM3MJ+6fHF8n02z7/cdMqft99KgUkuN95I23hDxi805fOlphWoZ0DzBEn+vfm4iUIbVG0Gan8Bsq\n",
       "9u+fV+lx++gnlviUpCm0VXhatswNoiR7XYFDcj3SEZBXxMdQeb6PlhbUSr6ShHQdDFpSi6LPYSWt\n",
       "H9NlJ0QrUn/REnqhKXG/RfF9JrbZR9ZqIfw8hj1CIN2j9Fon5nDEkz7ZrVioz0tIYQRNrtHmzN5T\n",
       "mChToIL9AdrATGyn6KZm/oaeToI0APwgW2j1P4UwoMaRcFZFgrYmn7fozVteVLu9JCEFzbBMCSEn\n",
       "pAn8ZIPorDiFyWbBJ5//AwY53nRBWoBRUi2aXGhBjSPdvILkyKo0hbHospKR5uMuvLqn4oyb5lH6\n",
       "jiPMr77cg7yF7Zx49B3vZPCp6Pb1GxV5sSUD/S8EioaVlvwiDVCTtZylk46z49EgUugXVR+LSxi6\n",
       "m1UPLWWckNqSBHE2wdkCJzFJ9WyEySaaJN1/67bT4SYeYbLhW9Mvi2OzhJasEMgCIRYsHT4vn4mK\n",
       "Bn5lM+2iBemwhJzsckIKPE7VRtzB38P4iuoN+FU03QyflR70u9SIk1YQHMRr0azxN31twcMQwkbg\n",
       "TSEInUoCs8onfuLeCftQtvISWih3Gj3lSJIn8dX0zIuDEFeKMJKxz02+b+PxYfxCBFQj2H4aDUvm\n",
       "rh3uMbqJe+eOk9FY8I/mCkIQOuAFuZv9VsZp1TZsMm2api1IITJrIAPfYAWk02AC77lAYhE/0odw\n",
       "uGgyhKFfBW61A4AXWGVnvERNwT5QApvLEVcO7THHFY5Ol3JqtLm31lc6rR/AVCBN9Rl0XDggmnAv\n",
       "K7c5El4ru/KUbf/aAjrq3XjmEk5I62OPeG+VvRPHTd8iesdBdTL3PsvUhPPMhK2xmL0J35TzclIP\n",
       "0nS9c+mzBi+6IU8NHCEuVZTdzslsQ3gFaeBa5UyDkG7z1FXKM1w928CtP1LvFhxtEJLpqauUQBPX\n",
       "hpplpPYfSv5//Md9cRkg7RL/cf1YeeVfvudXPbWsbVEAAAAASUVORK5CYII=\n",
       "\" style=\"display:inline;vertical-align:middle;\" /></a></span></td></tr>\n",
       "<tr><td>&nbsp;</td><td colspan=4 style-\"text-align:left\"><a class=\"ProveItLink\" href=\"../../logic/set_theory/membership/_proofs_/exp_set_4.ipynb\">proveit.logic.set_theory.membership.exp_set_4</a></td></tr><tr><td>9</td><td>assumption</td><td></td><td><span style=\"font-size:20px;\"><a class=\"ProveItLink\" href=\"__pv_it/3d10a8eec6fa3ed48ba13063e317dea34c9256980/expr.ipynb\"><img src=\"data:image/png;base64,iVBORw0KGgoAAAANSUhEUgAAAEUAAAAVBAMAAADiLT7tAAAAMFBMVEX///9ERETc3NyqqqpUVFS6\n",
       "urrMzMwyMjIQEBCIiIh2dnYiIiLu7u5mZmaYmJgAAABJJ2g3AAAAAXRSTlMAQObYZgAAAS9JREFU\n",
       "KM9jYGDgu8eAE7CtUgBRPLsY8AC2ZhDJ+QG77OzyHxsvMDBcB7G5GrAqSf3KcOqnAwPDCtxq+Fge\n",
       "MDDYY1dzsnr3dhD9hgNI8GJVw1Z3AMK4oALyzgRkNSqzIsCeVIQq4bkQBdUFVsNbwMDA2sQgDxYR\n",
       "gpm3wA7Keg8iMgIYGPQfMFwEaxeAq4mDstiB/k9pAzL8GRh2ggRYu3fvBruZRyAL5kRxoAcjEhgY\n",
       "PjLwfANrd4DJ1LBAGdwLgARLAQPTTwbmDzwg7Rtgal6B1RyAuodrAwPPZ6BKMxDHD6aG8SnQ36x7\n",
       "kPxex2B9AWQmw+kAmCIXyQNHBQ8gqVGZGSYJlmWqTYD57Pb/lgAGrHHB7A6JCzjAE6eoavjwqwGn\n",
       "H56deNNhKySpLCaQngFpVlD4B4ox6wAAAABJRU5ErkJggg==\n",
       "\" style=\"display:inline;vertical-align:middle;\" /></a> <a class=\"ProveItLink\" href=\"__pv_it/2a02420cf116f611ca6eda6379ffb7dd397666260/proof.ipynb\" style=\"text-decoration: none\">&#x22A2;&nbsp;</a><a class=\"ProveItLink\" href=\"__pv_it/cd457d59bfd8582be7220a7500a0989802bcb0120/expr.ipynb\"><img src=\"data:image/png;base64,iVBORw0KGgoAAAANSUhEUgAAADMAAAAPBAMAAAC7N+rPAAAAMFBMVEX///8yMjKqqqrMzMzu7u4i\n",
       "IiJmZmaYmJhEREQQEBC6urp2dnaIiIhUVFTc3NwAAAD87Fq/AAAAAXRSTlMAQObYZgAAANRJREFU\n",
       "GNNjYMACeALlp7Zhk2BgXr+AZf9ZrFIF1xkYmP4ii7AcDA0VANLsDhOAZC6ylGEJhGbjuwAkfYCY\n",
       "786ueSARvhaoEjeuDVDWygccH0A0xwOogDVTAYTB952BrQHE8IAZbM0FleL9wMB6AKw7NBTiDA9m\n",
       "qIH8DQz+BiCGLUwXo8MFCOP9AQZ9BgcgwxUmxb4BJMXCwOCvwHCRCaSNtwAm174GSCx1YGAsYArj\n",
       "Bvs4CibFe+MIy4oWkLdOWZwCizxMhsmZxf+8hRp2uqJgF8IAAH82L/mC9qalAAAAAElFTkSuQmCC\n",
       "\" style=\"display:inline;vertical-align:middle;\" /></a></span></td></tr>\n",
       "<tr><td>10</td><td>axiom</td><td></td><td><span style=\"font-size:20px;\"> <a class=\"ProveItLink\" href=\"../../logic/equality/_axioms_.ipynb#equalsReflexivity\" style=\"text-decoration: none\">&#x22A2;&nbsp;</a><a class=\"ProveItLink\" href=\"../../logic/equality/__pv_it/97b1dd4e9ed3b749f492ebdad1f4680f58c765fe0/expr.ipynb\"><img src=\"data:image/png;base64,iVBORw0KGgoAAAANSUhEUgAAAGIAAAAVBAMAAABPrCZEAAAAMFBMVEX///8QEBC6urrMzMxUVFRm\n",
       "ZmZERETc3NwyMjKqqqp2dnaIiIiYmJgiIiLu7u4AAAAU9Wx4AAAAAXRSTlMAQObYZgAAAVBJREFU\n",
       "OMtjYCAZPMAQYdqAWzWPAgPDBRDjNLKoCT4LghkYVoLoPmTBPnw6OBgYyoAUewKSGPcGfDp4FjBw\n",
       "AD3COgFJjPEBPh18Agw8y8vLa5HFNPCHVCYDw7e0tFvIQlFAXLWlciu646BiSxkYnBkY0pFleoBW\n",
       "L+C5wwgKRNYOMHBgQIjNYGBQYeBrQNYhxMDAxcD9gdMA1QqYmCIDAy8D9wFkqU9A8xhYEjC8DBWz\n",
       "B4bmAd4HaDqAAYYliCFiQB18DaBIXu20BeoMSRBRbwBOPqx3wQBiIUQM6CqGdCegKx+4MUIjJQcY\n",
       "TQX7GbjRogUmdgLIngoMASZQEEEAMPjmH0hkqEZzE0xsKdx932FSugwMz3a9Wn0ATQdMrAlkH8h+\n",
       "ZgFmmAcLCKQSCLDnauBCpDU8gAsWiM92Rq8jKrW/wCZYgk+HOzZBdjwZhNuAAQCEL1prSIrv2QAA\n",
       "AABJRU5ErkJggg==\n",
       "\" style=\"display:inline;vertical-align:middle;\" /></a></span></td></tr>\n",
       "<tr><td>&nbsp;</td><td colspan=4 style-\"text-align:left\"><a class=\"ProveItLink\" href=\"../../logic/equality/_axioms_.ipynb#equalsReflexivity\">proveit.logic.equality.equalsReflexivity</a></td></tr></table>"
      ],
      "text/plain": [
       "\tstep type\trequirements\tstatement\n",
       "0\tspecialization\t1, 2, 3, 9, 4, 5, 6, 7\t{a in Complexes} |- (4 * a) = (a + a + a + a)\n",
       "\tm : 4, A : (a , a , a , a), x : a\n",
       "1\taxiom\t\t|- forall_{m in Naturals} [forall_{(A, x) in Complexes^{m} * Complexes | A_1 = x ,  ...  , A_m = x} ((m * x) = (A_1 +  ...  + A_m))]\n",
       "\tproveit.number.multiplication.multDef\n",
       "2\ttheorem\t\t|- 4 in Naturals\n",
       "\tproveit.number.numeral.deci.nat4\n",
       "3\tspecialization\t8, 9\t{a in Complexes} |- (a , a , a , a) in Complexes^{4}\n",
       "\tS : Complexes, a : a, b : a, c : a, d : a\n",
       "4\tspecialization\t10\t|- a = a\n",
       "\tx : a\n",
       "5\ttheorem\t\t|- (1 + 1) = 2\n",
       "\tproveit.number.numeral.deci.add_1_1\n",
       "6\ttheorem\t\t|- (2 + 1) = 3\n",
       "\tproveit.number.numeral.deci.add_2_1\n",
       "7\ttheorem\t\t|- (3 + 1) = 4\n",
       "\tproveit.number.numeral.deci.add_3_1\n",
       "8\ttheorem\t\t|- forall_{S} [forall_{a, b, c, d in S} ((a , b , c , d) in S^{4})]\n",
       "\tproveit.logic.set_theory.membership.exp_set_4\n",
       "9\tassumption\t\t{a in Complexes} |- a in Complexes\n",
       "10\taxiom\t\t|- forall_{x} (x = x)\n",
       "\tproveit.logic.equality.equalsReflexivity"
      ]
     },
     "execution_count": 2,
     "metadata": {},
     "output_type": "execute_result"
    }
   ],
   "source": [
    "Mult(four, a).conversionToAddition(assumptions=[InSet(a, Complexes)]).proof()"
   ]
  },
  {
   "cell_type": "code",
   "execution_count": 3,
   "metadata": {},
   "outputs": [],
   "source": [
    "#Mult(a,b,c,d,e).group(0,2)"
   ]
  },
  {
   "cell_type": "code",
   "execution_count": 4,
   "metadata": {},
   "outputs": [],
   "source": [
    "%end demonstrations"
   ]
  },
  {
   "cell_type": "code",
   "execution_count": 5,
   "metadata": {},
   "outputs": [],
   "source": [
    "#InSet(Mult(a,b),Naturals).prove([InSet(a, Naturals), InSet(b, Naturals)]).proof()"
   ]
  },
  {
   "cell_type": "code",
   "execution_count": 6,
   "metadata": {},
   "outputs": [],
   "source": [
    "#InSet(Mult(a,b),NaturalsPos).prove([InSet(a, NaturalsPos), InSet(b, NaturalsPos)]).proof()"
   ]
  },
  {
   "cell_type": "code",
   "execution_count": 7,
   "metadata": {},
   "outputs": [],
   "source": [
    "#InSet(Mult(a,b,c,d,e),Integers).membershipObject"
   ]
  },
  {
   "cell_type": "code",
   "execution_count": 8,
   "metadata": {},
   "outputs": [],
   "source": [
    "#InSet(Mult(a,b,c,d,e),Integers).prove([InSet(a, Integers), InSet(b, Integers), InSet(c, Integers), InSet(d, Integers), InSet(e, Integers)]).proof()"
   ]
  },
  {
   "cell_type": "code",
   "execution_count": 9,
   "metadata": {},
   "outputs": [],
   "source": [
    "#InSet(Mult(a,b,c,d,e),Reals).prove([InSet(a, Reals), InSet(b, Reals), InSet(c, Reals), InSet(d, Reals), InSet(e, Reals)]).proof()"
   ]
  },
  {
   "cell_type": "code",
   "execution_count": 10,
   "metadata": {},
   "outputs": [],
   "source": [
    "#InSet(Mult(a,b,c,d,e),RealsPos).prove([InSet(a, RealsPos), InSet(b, RealsPos), InSet(c, RealsPos), InSet(d, RealsPos), InSet(e, RealsPos)]).proof()"
   ]
  },
  {
   "cell_type": "code",
   "execution_count": null,
   "metadata": {},
   "outputs": [],
   "source": []
  },
  {
   "cell_type": "code",
   "execution_count": null,
   "metadata": {},
   "outputs": [],
   "source": []
  },
  {
   "cell_type": "code",
   "execution_count": null,
   "metadata": {},
   "outputs": [],
   "source": []
  },
  {
   "cell_type": "markdown",
   "metadata": {},
   "source": [
    "*Broken demonstrations below need to be fixed*<br\\>\n",
    "*Shown as markdown instead of code temporarily*"
   ]
  },
  {
   "cell_type": "markdown",
   "metadata": {},
   "source": [
    "## Distribution"
   ]
  },
  {
   "cell_type": "code",
   "execution_count": 11,
   "metadata": {},
   "outputs": [
    {
     "data": {
      "text/html": [
       "<strong id=\"expr\">expr:</strong> <a class=\"ProveItLink\" href=\"__pv_it/d7b968bd414a72c0dd3060f613133fbd7d2275a90/expr.ipynb\"><img src=\"data:image/png;base64,iVBORw0KGgoAAAANSUhEUgAAALUAAAA/BAMAAABUVpQkAAAAMFBMVEX////c3NwiIiJERESqqqqY\n",
       "mJh2dnZmZmYQEBDu7u4yMjJUVFTMzMyIiIi6uroAAAAs73DqAAAAAXRSTlMAQObYZgAABI1JREFU\n",
       "WMOlWE2IFEcUfjt/PT0/3ZPgLZCZSzDm4C6IkATEOeQUWGYOIf4c3MUcDIG4C6IHfxgTwxIPyY45\n",
       "hA2GzCbEgCPiEhMUYXHQi5DDDIQQZf0ZvCQmyP64G12d3c5Ud1VXvZ7qtseqw0xXvZ5vXr363lev\n",
       "CqCPdsf5Muqe8X9BucWm6cM+jyE9rox9I0cffvRaXlPGdhEWvZZmThFaYyEx1uaqPqYXbc0GfcgW\n",
       "4jPYpH+hiH2OPURb8YLHdq+qxhI3ysmGNuQxJkeVsCMungmRsseYWFXCnm+7/wLveo36mhL2m+6T\n",
       "cWw0wPoCTX8caC61FbDjnUBzbUYBO7oQaE4dV8CuDQWas+uoOzC7/5M+aNIKNGf+Q92/c8+ZJ2qV\n",
       "RrD9KXJ7BbSh8NgX7M9BizdM6UEk6AsQaYXHXnKoZjnu66/umHyC7FfFeZlDUGuEhh545DhkuSpl\n",
       "XCgitRJlIN+CEoSWrxhdq8FnXEOQaJfEXK0V4UostOPZFSriFvfvKFJ3ce1S5djGBJmbX9D3oNWh\n",
       "/I1bfEOLI/4XEL3vXr/b/f5NJh6Xu29q4qSiLOW3L/W+aS+fLDHPSlOYyIMYzwhzd8rCBUOKdpOS\n",
       "XMmikJxiJCIceF/cWJj4G9Yy+r1J2RKR7A5JRJVhluFkdEqEcN0ae4J+MU97qcVe7H9Ahr3XjnFR\n",
       "hp2yEPc+YsMSDT6EVIthn7vza5fAQmRrLrY+iWTpJ9hhUyi63ot9BqkWxdYfgdng9R/B5jQoWcIe\n",
       "o69//d2yH/aXSLUodmyVVAWGjfeNF1uzTgr52qFcoNi6uBjrSLWG3RrMHIcMmYy+5MWGQSEo2hKd\n",
       "RHRZSCFbJxcINlOtw/X66/U6KZ8i4zBfptgnerDzmwTe3/q5Kvo9Jab+Z0i1hl3SVqo0Jj3xhptC\n",
       "1VprmMWcX7y3ItVi2A2Y6OrFtIyDYIhsG4Fa21bAlAR7H1ctjp0uajOYgwJ2U9Tti2DmWn78vs9V\n",
       "S+Dg7EHyeluGjevhM5A9VEWCI+Z8TpaXzrqIWrWKZEyCg/Tk9Ke2CKPa7qHY+ViUO9ett+Vqby5I\n",
       "ivWzvhXgtGRvgAQnYAztDVi/Hba/4oedFqOVYMq6k4++I76dRwpmOBEa8NvTbqNSc62HgAbydB4t\n",
       "Q6LQRzlo0P09zwk4hjagEeRianauHL78dmoyfYINbKhYqEiotD2VaSe845OOP0/rdvth0rLwprwd\n",
       "7UalKkyEx75qr2HFtx78HPUOAzwOjz1SDK7pnqHuRjBWwmPng+8a4sseemt9nAqTwaxKY6hOX6fZ\n",
       "55xOk/i24Bc40gfBM8Hxa+IMPP1nuQ9seMOuwvyYNaZ0WXDPJuFmH+sJpTN3jSyO7hP1WEcJWyPS\n",
       "ZPiwJap28aOTxUyMP3yLZcuxD7igNNtK2PAh0ZP3HiymiaCch69yeb5+WxTvlCLdgJv8jHMJrnEF\n",
       "XlTEJgA3dpd5sTfH/7asiE1K7d8zxxtROyZdxmxlpww4oHz3GB2FbZkCS8CTmc4uNqNNytj6Zvge\n",
       "tjFG/PWHm9cv55Sx4Vuf8Zfkw/8DbwZkdYy78JkAAAAASUVORK5CYII=\n",
       "\" style=\"display:inline;vertical-align:middle;\" /></a><br>"
      ],
      "text/plain": [
       "expr: (a + b) * (Sum_{k=a}^{b} k) * (a / b)"
      ]
     },
     "execution_count": 11,
     "metadata": {},
     "output_type": "execute_result"
    }
   ],
   "source": [
    "expr = Mult(Add(a, b), Sum(k, k, Interval(a, b)), frac(a, b))"
   ]
  },
  {
   "cell_type": "code",
   "execution_count": 12,
   "metadata": {},
   "outputs": [
    {
     "data": {
      "text/html": [
       "<strong id=\"assumptions\">assumptions:</strong> <a class=\"ProveItLink\" href=\"__pv_it/20111d06badcb80da2c867e8d657fda4db2d6ce70/expr.ipynb\"><img src=\"data:image/png;base64,iVBORw0KGgoAAAANSUhEUgAAAK8AAAAVCAMAAAAHHU5UAAAAPFBMVEX///8LCwsYGBgNDQ0oKCjc\n",
       "3NwiIiJERESqqqqYmJh2dnZmZmYQEBDu7u4yMjJUVFTMzMyIiIi6uroAAACIMCsmAAAAAXRSTlMA\n",
       "QObYZgAAAjVJREFUSMfVV4uSpCAM5B7yCgSB///XNQFXUHS5qdmqPcqaUYZmOkknQSH+v5HiT2Nk\n",
       "l8GkSeV7DZO7aJmzRHQSnWmmfXDyvcgF20UQI6x0Vz4F+km+EYGWbpup/gcM70WG1DzI7cFLpspm\n",
       "xGk1gOVYaWFT/0PWb0V27o2yGMyKoG3crXt9RLmNT3SglUu4CChl/wycRw7cG8pCUrR32x3e0V3R\n",
       "DHZTnq4+O+QMcAZZ4J1mMvBcCYTSNVRsfrTJHYm5qNGfmiiMEWcRxhjMF8AZZLVrbbWRbeHLqrUg\n",
       "sC5nqio3sFFN8Yqu01ymmbw+AieQgDz+/qHPcObLXxqFS3WeeINq9x9JaxXhTEezCJ19BM4gB+49\n",
       "8U1O5MI3sGflUSuSk3U0Ak8gkr0kPx46uwNOIcvCPiV7Pax558uR8UdQx10Eaw3sGpAETmDzBJxC\n",
       "loWnIOz5Zipfp4sZkeOzcd7DOkjdo4DKcw2F/AScQgLF5PevEhvV1zPN9Yz0oExRPkEDCv3p4Uve\n",
       "NgXUOnFYxkFpRHgFziIH7q39ohY+g1QieJ2hLg/iAHuZzoVmKQXUg1VkYnVV2EyFRgRX4Czyol52\n",
       "sKZGUdy4kU1yr74xrSqmti1Cl6rJKXRKKcxOAe1RYrSdWiKYvp/2wHnk1b1sYwx1P9zoueX+WBXw\n",
       "lOY9jeVF4C1Sw+MxhPpxOUS8NIx4N1I+HxVt/Kfz5Lfz/cq9uCfvS+P1t5L4mnv3/rj8lPeh9Gwl\n",
       "Jd0Hy10fyPKXZ2sAAAAASUVORK5CYII=\n",
       "\" style=\"display:inline;vertical-align:middle;\" /></a><br>"
      ],
      "text/plain": [
       "assumptions: (a in Integers , b in Integers , b != 0)"
      ]
     },
     "execution_count": 12,
     "metadata": {},
     "output_type": "execute_result"
    }
   ],
   "source": [
    "assumptions = [InSet(var, Integers) for var in [a, b]] + [NotEquals(b, num(0))]"
   ]
  },
  {
   "cell_type": "code",
   "execution_count": 13,
   "metadata": {},
   "outputs": [],
   "source": [
    "#Interval(a, b).deduceMemberInIntegers(k, assumptions).generalize(k, Interval(a, b))"
   ]
  },
  {
   "cell_type": "code",
   "execution_count": 14,
   "metadata": {},
   "outputs": [],
   "source": [
    "#InSet(Sum(k, k, Interval(a, b)), Complexes).prove()"
   ]
  },
  {
   "cell_type": "markdown",
   "metadata": {},
   "source": [
    "expr.distribute(0, assumptions)"
   ]
  },
  {
   "cell_type": "markdown",
   "metadata": {},
   "source": [
    "expr.distribute(1, assumptions)"
   ]
  },
  {
   "cell_type": "markdown",
   "metadata": {},
   "source": [
    "expr.distribute(2, assumptions)"
   ]
  },
  {
   "cell_type": "markdown",
   "metadata": {},
   "source": [
    "assumptions = [InSet(var, Complexes) for var in [c, d, x, y, z]]\n",
    "assumptions = assumptions + [InSet(var, Integers) for var in [a, b]]"
   ]
  },
  {
   "cell_type": "markdown",
   "metadata": {},
   "source": [
    "expr = Mult(a, b, Add(x, y, z), c, d)"
   ]
  },
  {
   "cell_type": "markdown",
   "metadata": {},
   "source": [
    "expr.distribute(2, assumptions=assumptions)"
   ]
  },
  {
   "cell_type": "markdown",
   "metadata": {},
   "source": [
    "expr = Multiply(a, b, subtract(x, y), c, d)"
   ]
  },
  {
   "cell_type": "markdown",
   "metadata": {},
   "source": [
    "expr.distribute(2, assumptions=assumptions)"
   ]
  },
  {
   "cell_type": "markdown",
   "metadata": {},
   "source": [
    "expr = Mult(z, y, Sum(x, x, domain=Interval(a, b)), z, y)"
   ]
  },
  {
   "cell_type": "markdown",
   "metadata": {},
   "source": [
    "expr.distribute(2, assumptions=assumptions)"
   ]
  },
  {
   "cell_type": "markdown",
   "metadata": {},
   "source": [
    "## Factoring"
   ]
  },
  {
   "cell_type": "markdown",
   "metadata": {},
   "source": [
    "expr = Mult(x, y)"
   ]
  },
  {
   "cell_type": "markdown",
   "metadata": {},
   "source": [
    "expr.factor(x, 'left', assumptions=assumptions)"
   ]
  },
  {
   "cell_type": "markdown",
   "metadata": {},
   "source": [
    "expr.factor(x, 'right', assumptions=assumptions)"
   ]
  },
  {
   "cell_type": "markdown",
   "metadata": {},
   "source": [
    "expr.factor(y, 'left', assumptions=assumptions)"
   ]
  },
  {
   "cell_type": "markdown",
   "metadata": {},
   "source": [
    "expr.factor(y, 'right', assumptions=assumptions)"
   ]
  },
  {
   "cell_type": "markdown",
   "metadata": {},
   "source": [
    "expr = Mult(x, y, z)"
   ]
  },
  {
   "cell_type": "markdown",
   "metadata": {},
   "source": [
    "expr.factor(x, 'left', assumptions=assumptions)"
   ]
  },
  {
   "cell_type": "markdown",
   "metadata": {},
   "source": [
    "expr.factor(x, 'left', groupRemainder=True, assumptions=assumptions)"
   ]
  },
  {
   "cell_type": "markdown",
   "metadata": {},
   "source": [
    "expr.factor(x, 'right', assumptions=assumptions)"
   ]
  },
  {
   "cell_type": "markdown",
   "metadata": {},
   "source": [
    "expr.factor(x, 'right', groupRemainder=True, assumptions=assumptions)"
   ]
  },
  {
   "cell_type": "markdown",
   "metadata": {},
   "source": [
    "expr.factor(y, 'left', assumptions=assumptions)"
   ]
  },
  {
   "cell_type": "markdown",
   "metadata": {},
   "source": [
    "expr.factor(y, 'right', assumptions=assumptions)"
   ]
  },
  {
   "cell_type": "markdown",
   "metadata": {},
   "source": [
    "expr.factor(z, 'left', assumptions=assumptions)"
   ]
  },
  {
   "cell_type": "markdown",
   "metadata": {},
   "source": [
    "expr.factor(z, 'right', assumptions=assumptions)"
   ]
  },
  {
   "cell_type": "markdown",
   "metadata": {},
   "source": [
    "expr.factor(Mult(x, y), 'left', assumptions=assumptions)"
   ]
  },
  {
   "cell_type": "markdown",
   "metadata": {},
   "source": [
    "expr.factor(Mult(x, y), 'right', assumptions=assumptions)"
   ]
  },
  {
   "cell_type": "markdown",
   "metadata": {},
   "source": [
    "expr.factor(Mult(y, z), 'left', assumptions=assumptions)"
   ]
  },
  {
   "cell_type": "markdown",
   "metadata": {},
   "source": [
    "expr.factor(Mult(y, z), 'right', assumptions=assumptions)"
   ]
  },
  {
   "cell_type": "markdown",
   "metadata": {},
   "source": [
    "expr = Mult(x, y, z, w)"
   ]
  },
  {
   "cell_type": "markdown",
   "metadata": {},
   "source": [
    "expr.factor(Mult(x, y), 'left', assumptions=assumptions)"
   ]
  },
  {
   "cell_type": "markdown",
   "metadata": {},
   "source": [
    "expr.factor(Mult(x, y), 'right', assumptions=assumptions)"
   ]
  },
  {
   "cell_type": "markdown",
   "metadata": {},
   "source": [
    "expr.factor(Mult(y, z), 'left', assumptions=assumptions)"
   ]
  },
  {
   "cell_type": "markdown",
   "metadata": {},
   "source": [
    "expr.factor(Mult(y, z), 'right', assumptions=assumptions)"
   ]
  },
  {
   "cell_type": "markdown",
   "metadata": {},
   "source": [
    "%end demonstrations"
   ]
  },
  {
   "cell_type": "code",
   "execution_count": null,
   "metadata": {},
   "outputs": [],
   "source": []
  }
 ],
 "metadata": {
  "kernelspec": {
   "display_name": "Python 3",
   "language": "python",
   "name": "python3"
  }
 },
 "nbformat": 4,
 "nbformat_minor": 0
}
