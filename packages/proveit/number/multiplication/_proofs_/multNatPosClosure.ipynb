{
 "cells": [
  {
   "cell_type": "markdown",
   "metadata": {},
   "source": [
    "Proof of <a class=\"ProveItLink\" href=\"../../../_context_.ipynb\">proveit</a>.<a class=\"ProveItLink\" href=\"../../_context_.ipynb\">number</a>.<a class=\"ProveItLink\" href=\"../_context_.ipynb\">multiplication</a>.<a class=\"ProveItLink\" href=\"../_theorems_.ipynb#multNatPosClosure\">multNatPosClosure</a> theorem\n",
    "========"
   ]
  },
  {
   "cell_type": "code",
   "execution_count": 1,
   "metadata": {},
   "outputs": [],
   "source": [
    "import proveit\n",
    "context = proveit.Context('..') # the theorem's context is in the parent directory"
   ]
  },
  {
   "cell_type": "code",
   "execution_count": 2,
   "metadata": {},
   "outputs": [
    {
     "name": "stdout",
     "output_type": "stream",
     "text": [
      "Beginning proof of multNatPosClosure\n",
      "Recorded 'presuming' information\n",
      "Presuming previous theorems (applied transitively).\n"
     ]
    },
    {
     "data": {
      "text/html": [
       "<strong id=\"multNatPosClosure\">multNatPosClosure:</strong> <a class=\"ProveItLink\" href=\"../__pv_it/af19e65eb13c15923ce874b43df6f68090f2f58a0/expr.ipynb\"><img src=\"data:image/png;base64,iVBORw0KGgoAAAANSUhEUgAAAXcAAAAbBAMAAAB1r9JYAAAAMFBMVEX///8QEBC6urrMzMxUVFRm\n",
       "ZmZERETc3NwyMjKqqqp2dnaIiIiYmJgiIiLu7u4AAAAU9Wx4AAAAAXRSTlMAQObYZgAABRJJREFU\n",
       "WMPVmF1oHFUUx8/O7Ofs7CRpseKDJmCphSKZQI01UlyyRYtaDcU8SLUuFbfiB6wvKVjtxodKFE0X\n",
       "tC9qMUg1iBBWq0Gs6NqaPLQiqy0qwuoERAJpN2uqEbHJeO6983Hng9lpZBEvzMzdmf+d+9tzzz33\n",
       "3AH4n5XUlYifrBfX0IXQ0y74ODlN4HFjfaKluLamLrZCW+Hp6xPZ9sAr4+2FT1cYvNYSXrvyHqJV\n",
       "PG1h9dvKIRvxwlPB8PA9g6eWPRsE30rhU57CQzRG9eeJkI14YUx1PptfflSDB1fKJvyHDP5dUh8P\n",
       "gm+l8CnDeCTZiEl6Nlwbp3DU9fQJMQ/QhJ1jz42Noc8sahR+hPyHfBB8K4VPWYfHScMZ9JCzxik8\n",
       "43q6S8X3dVpuk6lSeGKgWDkIvpXCW8Qmnq5j9Rf1ZrhGTuEcuyy8XP+BVgbHoyoHH8tTeHnywIFn\n",
       "AydsK4W3pLEXgQ18uta9Gq6NUxin1hJfMqNFbitGMBtebrJQuVwo/BgcKoMUvrMxiuAx9qSkHlkK\n",
       "Be8SSkPkPGJFulyq0s/BC6sMPgewPxjeR5Ewo8GQ34odx9cmq7T6CDx0GS/9LeENoZUF0IGzu83B\n",
       "brlC4KPMMS8x+I2guKb2tuGe9FWaDW8pei3Pfxo4eNFt/iTejdAEQe6Ez/8AuGkXW7t8lowGuxhC\n",
       "O78goEqeg49quU7beEsMPgPpKrc2fjRclfNTMMVZ3lJ0W5R58fBueH8vg4e3QL7/08EZ669l8G4H\n",
       "hV8sQ+8yXo/R+4vewKOssKspdMx54dp63ZiwOVCy8za88heDT1cznEGmb2ho8tmYA95UxLqJJRaG\n",
       "H4BUBWYlTdLu23F+ByLPQ2oa1glDXvh7u7r0FQt+zhtwlQ3sagod8GKWszwMiF7LK6OY5sh7thxP\n",
       "T6sgEwD5lpsrPDxVkDzuTWyd3neoAfEifFUZkjTD8hjFckpNsiyfxNdGyK/U+kajpFvwAYmuIZz5\n",
       "4JPsyYctt6nx8HLZ/u8Jw+dh/yDAhd5qJitj1Kf+p06d5uGpAsu3JZzjM6QWATj9ykELHvOkWmoo\n",
       "I1vRBnuJE0+bw3+Q0YtOeDKKilkxwzoTKqcuw3n4kjDQWXY3Dw+TNrzwpwF/FPkOfQwdKoanAQYv\n",
       "Sffw8EdrLHp1LBnr9jaEly4MmPBCVslL5fgJO2azWJe4nYQeveyAp15OvF+x3cQUJhZG4RK8bYXK\n",
       "i9a2YB9xWzuwmHEeIiS/vAv6IFmG7YVCoSKria9/4uGpAvq05N9GZNmI8DBx3IQXXeFKwFcL2FDX\n",
       "VyGq67rqgN9geL/p7sAJoxV07BeI51HsxGEjJG/+jTSwu5FGDXiZDN96mIaSAL8wy8P1n/HwVAHf\n",
       "dHX/DuJ3hcLj8CqBf+Yi3i76waP1AK7mbxwLuTZH1HQ+0eyx0oPUTiPauINxhduMJJpo+1kJokUG\n",
       "L095NiMSphIrGLBIfROBF241nVZwR5E73alVWPgSRCtyHkf3vWDdYpGDx+7PQf8kKMS3NuMp64Hv\n",
       "00DEeHAH9UUCD2dMeNm9Sm23U2K2ph3ZEw5+E2RU8bGiZ910l1nfbaCEPu+7Dcxguv2Ffg38Spwx\n",
       "ownP9xgrNZlJ7u02SatCbDEDtmItdv3n1riHfQd9Pu3MkJNuTYIY7uC/gD8R/JguR2vdgCtOJ3/d\n",
       "I3itvR9vRkJ+Paj7frd5w/HL+xa53Fb4vfS7zVr9UuY3yJIG/035B/TkhT3qFgpUAAAAAElFTkSu\n",
       "QmCC\n",
       "\" style=\"display:inline;vertical-align:middle;\" /></a><br>(see <a class=\"ProveItLink\" href=\"../__pv_it/af19e65eb13c15923ce874b43df6f68090f2f58a0/dependencies.ipynb\">dependencies</a>)<br>"
      ],
      "text/plain": [
       "multNatPosClosure: forall_{m in Naturals} [forall_{A in (NaturalsPos)^{m}} ((A_1 *  ...  * A_m) in NaturalsPos)]"
      ]
     },
     "execution_count": 2,
     "metadata": {},
     "output_type": "execute_result"
    }
   ],
   "source": [
    "%proving multNatPosClosure presuming []"
   ]
  },
  {
   "cell_type": "code",
   "execution_count": null,
   "metadata": {},
   "outputs": [],
   "source": []
  }
 ],
 "metadata": {
  "kernelspec": {
   "display_name": "Python 3",
   "language": "python",
   "name": "python3"
  }
 },
 "nbformat": 4,
 "nbformat_minor": 0
}
