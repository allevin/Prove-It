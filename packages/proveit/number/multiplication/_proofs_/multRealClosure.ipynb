{
 "cells": [
  {
   "cell_type": "markdown",
   "metadata": {},
   "source": [
    "Proof of <a class=\"ProveItLink\" href=\"../../../_context_.ipynb\">proveit</a>.<a class=\"ProveItLink\" href=\"../../_context_.ipynb\">number</a>.<a class=\"ProveItLink\" href=\"../_context_.ipynb\">multiplication</a>.<a class=\"ProveItLink\" href=\"../_theorems_.ipynb#multRealClosure\">multRealClosure</a> theorem\n",
    "========"
   ]
  },
  {
   "cell_type": "code",
   "execution_count": 1,
   "metadata": {},
   "outputs": [],
   "source": [
    "import proveit\n",
    "context = proveit.Context('..') # the theorem's context is in the parent directory"
   ]
  },
  {
   "cell_type": "code",
   "execution_count": 2,
   "metadata": {},
   "outputs": [
    {
     "name": "stdout",
     "output_type": "stream",
     "text": [
      "Beginning proof of multRealClosure\n",
      "Recorded 'presuming' information\n",
      "Presuming previous theorems (applied transitively).\n"
     ]
    },
    {
     "data": {
      "text/html": [
       "<strong id=\"multRealClosure\">multRealClosure:</strong> <a class=\"ProveItLink\" href=\"../__pv_it/8d5064adda62b506bac206ceb70e6895bd4b073c0/expr.ipynb\"><img src=\"data:image/png;base64,iVBORw0KGgoAAAANSUhEUgAAAUoAAAAVBAMAAADSqLqgAAAAMFBMVEX///8QEBC6urrMzMxUVFRm\n",
       "ZmZERETc3NwyMjKqqqp2dnaIiIiYmJgiIiLu7u4AAAAU9Wx4AAAAAXRSTlMAQObYZgAABGlJREFU\n",
       "SMfVlm+IFGUYwJ/9vzvzztydkhBRt1JkIOEER5mQN2jYh0DXsxNUokVpTSnbD4cbRN3VlyjL2yDh\n",
       "Pi7l4UmwDkqH1J1u/kMUruX0g4rr7YHkgbV35+nVhfn2/pmdeXfW2R3uWy88s+87z877/Ob59w7A\n",
       "/2KUG2rla2u9beM3uJARWPBoujNrz8+4/AfFAS6OQ5HOL7ttJMUV9l+jmcUOU8hQ/vFIOZGz5yHN\n",
       "Qdef+vuzA2Syhcj3cJTeO+hOKdEXjpabWTxo73LsvjdICevCqs+hDUf0wJ4viGlGuZ9cI0l3Sqbb\n",
       "38yibHChAcf/egw4LgqrS3WUCdhH7KIcpaRuCmXdKZmHtjWz6CtzoX4/hr1RfoVnhNUk/1FPlkp9\n",
       "VcofwuRGK6VERzKZT6AB5aVMJlNsZvEFU8gY9eGyF0i52P5I9B331OoxwZeUEvZQSphPpW40omxJ\n",
       "pT7INTO53RSSPXNRHPdC2av13xMtJdjT+8SIb6SZNsgo1wPsbkQZ1CCcZs2mQYf52hSyeyKECyQ7\n",
       "k80o34V3HgrLGI9zWqD03yTVAwOM8jlQHfW1ujsuP1GuUvp1mOK5V+0wA0PdBxwml5gC8CvIOAGB\n",
       "t3iSVOrpVL4zaoXTD8SG20qvvwvV83TpSzpZzigVkAvCHj91F1AyD3nLl6SjjrD55nlTL0uQT6Bt\n",
       "I+vOW1V3zxRQF8CPiR9jjFJ9TLlPc/7pLKyaF24HWCktL5Ws6ulKsPB3Mkq5oAjZPryiUkaXQyLl\n",
       "CNxiL3t91tQTyrGx2DAs8SfqKIOzbe20w5iUy+opJ3kubGprq2lZnLJD7ERdHTal2kcWaMfKw/Kw\n",
       "BojaRa++YgiUUwHWfZUVpHaZnlKegvVqUbJ8+aQp8O3ayh3aYWJN2kJsaaXSS1rW+eM/67/ssiL+\n",
       "p0gZvVuwIg671wH8saqg6EhnnR6Qlj8rUIZ7WM0OAqldpieUXTkoxhIKqu75vikqRZ34q5aShkqF\n",
       "6sX0KHlBBafVMw/hKpyjRlmcgwWBMqCTyoaLnPIQ2fDTk9CikWawhlNK0kabMvY2i8gz0G9wvRx6\n",
       "/TqoSSkbPlHdc9CUHhrODxdqKFlysmyctm5GNlAQnI3c7YM59iTvROq42ImO0pLnnQh89GR7E16C\n",
       "aBZeS6VSBtIiY7dsSniKBZzkkc71svTxWUcAX+TSgklWbMJ4roZyWTUbJ632hPEjCGKMtaARaAVa\n",
       "y1HeZD/aYn1tzGvR98j7fs4pEY3IUhiGXj/c5r6EZ08JlOw4OAzwW5HrZSm2xnG8+NJc7Lwrejsm\n",
       "fZqcjMzErRMSvvumVNMY+QlpRmCGePOCBME0p0RCXoIZcOic4XraiRynEf0mQLlFUPZC0EBJ8uSP\n",
       "bueKYVP6k3AFXj4C6k56IJOL7qCcuA+ofTbL9AND+dtby65fbuythx4YniifB0UL7E3XnSzWmAKb\n",
       "0kYneVd7QjbUW6PHlMWOYNpF8cbjKJ0fLiXNm5WIwWWx44QbALE/Ov4f44lTTiVynpQAAAAASUVO\n",
       "RK5CYII=\n",
       "\" style=\"display:inline;vertical-align:middle;\" /></a><br>(see <a class=\"ProveItLink\" href=\"../__pv_it/8d5064adda62b506bac206ceb70e6895bd4b073c0/dependencies.ipynb\">dependencies</a>)<br>"
      ],
      "text/plain": [
       "multRealClosure: forall_{m in Naturals} [forall_{A in Reals^{m}} ((A_1 *  ...  * A_m) in Reals)]"
      ]
     },
     "execution_count": 2,
     "metadata": {},
     "output_type": "execute_result"
    }
   ],
   "source": [
    "%proving multRealClosure presuming []"
   ]
  },
  {
   "cell_type": "code",
   "execution_count": null,
   "metadata": {},
   "outputs": [],
   "source": []
  }
 ],
 "metadata": {
  "kernelspec": {
   "display_name": "Python 3",
   "language": "python",
   "name": "python3"
  }
 },
 "nbformat": 4,
 "nbformat_minor": 0
}
