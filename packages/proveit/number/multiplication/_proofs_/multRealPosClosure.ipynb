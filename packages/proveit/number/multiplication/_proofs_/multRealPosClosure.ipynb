{
 "cells": [
  {
   "cell_type": "markdown",
   "metadata": {},
   "source": [
    "Proof of <a class=\"ProveItLink\" href=\"../../../_context_.ipynb\">proveit</a>.<a class=\"ProveItLink\" href=\"../../_context_.ipynb\">number</a>.<a class=\"ProveItLink\" href=\"../_context_.ipynb\">multiplication</a>.<a class=\"ProveItLink\" href=\"../_theorems_.ipynb#multRealPosClosure\">multRealPosClosure</a> theorem\n",
    "========"
   ]
  },
  {
   "cell_type": "code",
   "execution_count": 1,
   "metadata": {},
   "outputs": [],
   "source": [
    "import proveit\n",
    "context = proveit.Context('..') # the theorem's context is in the parent directory"
   ]
  },
  {
   "cell_type": "code",
   "execution_count": 2,
   "metadata": {},
   "outputs": [
    {
     "name": "stdout",
     "output_type": "stream",
     "text": [
      "Beginning proof of multRealPosClosure\n",
      "Recorded 'presuming' information\n",
      "Presuming previous theorems (applied transitively).\n"
     ]
    },
    {
     "data": {
      "text/html": [
       "<strong id=\"multRealPosClosure\">multRealPosClosure:</strong> <a class=\"ProveItLink\" href=\"../__pv_it/3cdc8cd99caecaf4864fd157af1f1d91d54fe2160/expr.ipynb\"><img src=\"data:image/png;base64,iVBORw0KGgoAAAANSUhEUgAAAXcAAAAbBAMAAAB1r9JYAAAAMFBMVEX///8QEBC6urrMzMxUVFRm\n",
       "ZmZERETc3NwyMjKqqqp2dnaIiIiYmJgiIiLu7u4AAAAU9Wx4AAAAAXRSTlMAQObYZgAABQhJREFU\n",
       "WMPVmH9oHEUUx9/93Lu93U3SYtU/NIHWKpaSDdRYheLRVi1qNX80oFT0aPECinoFTUGxF/+oxKDJ\n",
       "gRZELQZRgwjhsBrEhvasphQLctqiRTjdgL8w9XKkGhGbrG9m9sfsD/a2kUMc2N/fmf3smzdv3izA\n",
       "/6ykL0X8aK2wgldEu1oFnyS7cdw21sabiqsresUmaCk8bV7ItgZeGW0tfKbM4LWm8NqlvyFewd0G\n",
       "dn5LKWQlXngiGB6+YfDUsqeD4JspfMo+3GJGr34/HrISL0yozmenFh8fvqJsw3/A4N8l56NB8M0U\n",
       "PqUftxTrMVHPhqvjFA65nuaegN5XCrBj+NnhYfyIeY3CD5JvyAXBN1P4lFW4HTWcQQ85apzCz93w\n",
       "T0Ly55xleblC4YmBEqUg+GYKb4k1cHc1Ox/RG+EqOYWz7DD3Yu2cCS+qNnwiR+Glif37nwkcsM0U\n",
       "3pJpx0jPOj5T7VwOV8cpTFJrxV7QbMvz8FKDhcrFfP7b4FAZpPAdjXEET7AnRXVsIRS8Syj2kf2g\n",
       "xrlNnHOb6DKD3wYwEAzvoxDMaNDnN2MnsdlUhZ4+BA9exENvU3hDaGUBtOMGeJ/feIrM9XHmmBcY\n",
       "/DpQXEN7c39X5jLNhrcU3ZbnPwUcfMxt/hTejdAEQWqH438A3LCTzV0+U0adHQyhnV+0E70dJnL7\n",
       "aue4cScsMHgZMhVubvywvyLlJmGSs7yl6LQoc+mRg/eWDXh4E6T7prfOWI3LeLeNws+XoHsRj4fp\n",
       "/Xlv4FGW2NEUOsZ89KpazRqw1yS5T1f+YvCZiszdnbq2rkmnEw54U5HoJJaY678f0mUoj4s/wq7t\n",
       "Z7cj8i+QnoJV0T4v/D0dHfqSBT/rDbjKGnY0hQ74WJZzm8TarNfyyhCmOdLuDW9lplSQCIB0041l\n",
       "Hp4qSB73BvZlZs+BOiQLCC+d1wzLx1XYplRFy/IpbDZCrtKr6/WibsEHJLqGcOb9j7NH91puU+V9\n",
       "fnSagzd8Hga2ApzvrshZCaM+9T918lMeniqwfFXEMT5DziJA4OdMeMyTquk+WbKiDVo4STxtFr9A\n",
       "1gtOeNKLinlihnUmVE5chLPwGWGgo+wuHn5T3M4Zon8a8IeQ78BH0KZieLqZwYvi3Tz8oSqLXm0L\n",
       "xry9mcAnrjd9PppVcmIpecSO2SzWCbeR0KOXHPDUy4n3K7abmEJhbgguwNtWqPyti4MXS3bwMeM8\n",
       "RMjAuxN6IFWCLfl8viypwhff8fBUAT1a6m8jsqxD+F07SyZ8zBWuoth0FCvq+jLEdV1XHfBrDO83\n",
       "3R04Ybwca4fniedRbOGgaiVme+G5McsxxSEDXiLdtxqmoBiFH5jlYe0xHp4q4MuOzt8h9nU+/wi8\n",
       "jPAT06Thgh88Wg/gcv7G4ZBzc0TN5IRGl5UepHcY0cYdjMvcYkRooO1PihAvMHhp0rMYETGVWAKF\n",
       "1lhP3OYlSxN1R5E73KlVWPgixMtSDnv3vWDdfIGDx9efgd4JUPbgxXW4y3rgezSIYTy4nfoigRd/\n",
       "tTzQPUttsVNiNqeN7Q4Hvx5kNfZwwTNvustJ32WgiD7vuwyUMd3+RL8SfiLOKGvpkZH6rY+ZSwf3\n",
       "cpukVSGWmAFLsSar/jMrXMO+gz6fcWbIKbdGIIZ7+l/AHwl+TKejlS7AFaeTv+YRvNranzeDIf8e\n",
       "1Hz/27zuuPK2IpVaCv8A/W+zUr+U+AWyqMF/U/4BJrCN9nX58FEAAAAASUVORK5CYII=\n",
       "\" style=\"display:inline;vertical-align:middle;\" /></a><br>(see <a class=\"ProveItLink\" href=\"../__pv_it/3cdc8cd99caecaf4864fd157af1f1d91d54fe2160/dependencies.ipynb\">dependencies</a>)<br>"
      ],
      "text/plain": [
       "multRealPosClosure: forall_{m in Naturals} [forall_{A in (RealsPos)^{m}} ((A_1 *  ...  * A_m) in RealsPos)]"
      ]
     },
     "execution_count": 2,
     "metadata": {},
     "output_type": "execute_result"
    }
   ],
   "source": [
    "%proving multRealPosClosure presuming []"
   ]
  },
  {
   "cell_type": "code",
   "execution_count": null,
   "metadata": {},
   "outputs": [],
   "source": []
  }
 ],
 "metadata": {
  "kernelspec": {
   "display_name": "Python 3",
   "language": "python",
   "name": "python3"
  }
 },
 "nbformat": 4,
 "nbformat_minor": 0
}
