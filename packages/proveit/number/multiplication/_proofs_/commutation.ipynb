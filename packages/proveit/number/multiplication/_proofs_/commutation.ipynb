{
 "cells": [
  {
   "cell_type": "markdown",
   "metadata": {},
   "source": [
    "Proof of <a class=\"ProveItLink\" href=\"../../../_context_.ipynb\">proveit</a>.<a class=\"ProveItLink\" href=\"../../_context_.ipynb\">number</a>.<a class=\"ProveItLink\" href=\"../_context_.ipynb\">multiplication</a>.<a class=\"ProveItLink\" href=\"../_theorems_.ipynb#commutation\">commutation</a> theorem\n",
    "========"
   ]
  },
  {
   "cell_type": "code",
   "execution_count": 1,
   "metadata": {},
   "outputs": [],
   "source": [
    "import proveit\n",
    "context = proveit.Context('..') # the theorem's context is in the parent directory"
   ]
  },
  {
   "cell_type": "code",
   "execution_count": 2,
   "metadata": {},
   "outputs": [
    {
     "name": "stdout",
     "output_type": "stream",
     "text": [
      "Beginning proof of commutation\n",
      "Recorded 'presuming' information\n",
      "Presuming previous theorems (applied transitively).\n"
     ]
    },
    {
     "data": {
      "text/html": [
       "<strong id=\"commutation\">commutation:</strong> <a class=\"ProveItLink\" href=\"../__pv_it/1e81d3d030cc491e2033dc0bebf38b40a539cafe0/expr.ipynb\"><img src=\"data:image/png;base64,iVBORw0KGgoAAAANSUhEUgAAANEAAAAWBAMAAACs+WTQAAAAMFBMVEX///8QEBC6urrMzMxUVFRm\n",
       "ZmZERETc3NwyMjKqqqp2dnaIiIiYmJgiIiLu7u4AAAAU9Wx4AAAAAXRSTlMAQObYZgAAAtFJREFU\n",
       "SMe9lk9o03AUx1+TpumfpBUPioJQnaAIsh5kB1FW9aJUoQeFsU4sKt3FQw66DUTsoYc5ZBRE8LYi\n",
       "DBERwtw8OJDgcYPRyyYIQgo9qazF4WQ4h7+X3y/J+uuv8aQPvknz8nl5yXsvvxTgv5n9d0QyqXj7\n",
       "IEZFGKqOB8uBmU4x7bLkORKnZERo8xDnQwz1Eg+mAzNNC4holmzKQrTCO8tUY2SnFoMSJUyqDktV\n",
       "yWZJhMIW712iipJGKdWgTCGbqsP60dEQodIO721QaS/Gxx8EFu84U4e9xk2kKkDjdZ5FDLVZKn0K\n",
       "zDTMpOae7/eclcXL5KJ5ARrNzVvuMQ1BDHUBYNQb0klBpsdMh41I25u9TUhlIOaMxNAkWsVFW0XY\n",
       "cDEaghjqKCT9GZp1f3ybulJgP/dSqdug4OQksUOxHQjVQNrD3RSiMzYcJLt18EIQQ+mQ8J4WHuGl\n",
       "Fq5Z8oAtTzHfd6pwG3QcrRb2QSlDKg9ym8uE6BDAD3KR3+CFIIZKWLo/WD+J3h5bt7X7ACc6M6WK\n",
       "0MJXtYEPpueh3xJnWgVpm2TaB16ImylZxvf/3rtb2Kdf87aGbe57Qp6dhR+gemjCjLd2kdfphs2q\n",
       "d/0z2pqLboHizjkLcasHo+dJuo8qnk7UtWwUmfcr/o3eoWpV4WLMXX/IOJBmaPwigegGdpAaC0HM\n",
       "QZ+SwofzMpY/Ymr103ymWaqoFVuNu75wVckKphzRS3DVW7JoiDvlECJNS6UTuJCFMkrxbKlUMo/0\n",
       "+eEnqdTc3MCcN+W5EbxSmsuEaHNh1+vkhCDmoBopfsuOrBgkIehW07nnr36fQgZVt3WvRj2xhr9g\n",
       "DZ6xJwwdnkEYaXnYgEV2TqtRddsr3tEb81CpsDwCg5ZUqEHyJjq+rN1OB301nBKKvxoijEdpgeOk\n",
       "Tx3uu0y8hbtr1QvjUNkQL7GqScXbGzEqwjhU+6d/WP4ADvXUp0MFpnEAAAAASUVORK5CYII=\n",
       "\" style=\"display:inline;vertical-align:middle;\" /></a><br>(see <a class=\"ProveItLink\" href=\"../__pv_it/1e81d3d030cc491e2033dc0bebf38b40a539cafe0/dependencies.ipynb\">dependencies</a>)<br>"
      ],
      "text/plain": [
       "commutation: forall_{a, b in Complexes} ((a * b) = (b * a))"
      ]
     },
     "execution_count": 2,
     "metadata": {},
     "output_type": "execute_result"
    }
   ],
   "source": [
    "%proving commutation presuming []"
   ]
  },
  {
   "cell_type": "code",
   "execution_count": null,
   "metadata": {},
   "outputs": [],
   "source": []
  }
 ],
 "metadata": {
  "kernelspec": {
   "display_name": "Python 3",
   "language": "python",
   "name": "python3"
  }
 },
 "nbformat": 4,
 "nbformat_minor": 0
}
