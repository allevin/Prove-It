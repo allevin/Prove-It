{
 "cells": [
  {
   "cell_type": "markdown",
   "metadata": {},
   "source": [
    "Proof of <a class=\"ProveItLink\" href=\"../../../_context_.ipynb\">proveit</a>.<a class=\"ProveItLink\" href=\"../../_context_.ipynb\">number</a>.<a class=\"ProveItLink\" href=\"../_context_.ipynb\">multiplication</a>.<a class=\"ProveItLink\" href=\"../_theorems_.ipynb#association\">association</a> theorem\n",
    "========"
   ]
  },
  {
   "cell_type": "code",
   "execution_count": 1,
   "metadata": {},
   "outputs": [],
   "source": [
    "import proveit\n",
    "context = proveit.Context('..') # the theorem's context is in the parent directory"
   ]
  },
  {
   "cell_type": "code",
   "execution_count": 2,
   "metadata": {},
   "outputs": [
    {
     "name": "stdout",
     "output_type": "stream",
     "text": [
      "Beginning proof of association\n",
      "Recorded 'presuming' information\n",
      "Presuming previous theorems (applied transitively).\n"
     ]
    },
    {
     "data": {
      "text/html": [
       "<strong id=\"association\">association:</strong> <a class=\"ProveItLink\" href=\"../__pv_it/42559e5c1109cba86adf81bac08603659f416f800/expr.ipynb\"><img src=\"data:image/png;base64,iVBORw0KGgoAAAANSUhEUgAAA+4AAAAaBAMAAADbIRsfAAAAMFBMVEX///8QEBC6urrMzMxUVFRm\n",
       "ZmZERETc3NwyMjKqqqp2dnaIiIiYmJgiIiLu7u4AAAAU9Wx4AAAAAXRSTlMAQObYZgAACJhJREFU\n",
       "aN7tWmuMW8UVPr5+rh93I4ISEIJ1WhKBKOWWR7SFH7FAVatWwIqQHyGlOK1kHmlYI63YiNCsAUHC\n",
       "K7bUUiGlEQaFhojQuKWKKgjFSliKFmgWESJEa9ZIKIogYTdZsgnJgjnzsGfuw8zYaySC9kjHvnf8\n",
       "zZ1z5jtz5nENoC+rK1mYle+BGJUPWoGPzvbY90UGoNoK7+a3ZcdFXNuT2pedAikknvQYPKWZuN1d\n",
       "0xhNNpCXDbqymyvyTp/4pibvCdpwqeO0+1NM25TezzsFUslSd9HlM3Lbn9dw2w5a2n6DQYsp8r6N\n",
       "3G/U5D1awK9IteO8k0fO4LG+6U6BlIa6izbOzO2esgbQBorMwP4c1wG4Gz/DaU3eKfDuzqf5l7m2\n",
       "KUPHOwVSJvqisyRWmpHb4ZrGWtkOctugLyNcB2jMBQu66zoS3Ms7z/t5XNuUvXM6BVKJ6XqIrzoj\n",
       "t+NHdKLtyDfboC8fcR2A+NbBwT9or+dHBgcHO7+sN3JMIVb532o13IW6fv991ylreYP+fO7/1Q1K\n",
       "oNudv11APl6p7NToFSeKuBz48rYzlZHjAEk2dK2sqOcJCRQqMB0AmMpkPtDmvTuTWV3sOO/BIlNz\n",
       "LBlRx78b1bPeVC/WPUGhk7DDUtWUQc86f7wJ9fBRyKsHoQtFXPadyI4rQ8YBkmzoL0YnlQ1LoGgf\n",
       "U+T9GoBbtXkPWBDSOrzpLbfAe6TM9SREp9RoJ4pMf2Oqqcob1J8K15T7Ihn0JCVsAxW6yH4MNV+E\n",
       "HeolkgtFXMZVR+ILjaWJDHpSROTnMHRUGbYSqCvHFHk/H8wcmNdXtXg3UnCQdKLHGOmyN2a1wLsv\n",
       "yXTvcYicwm0L653PPIY6sZKhuMUE1IWjv1aCxQLiEAlkf1QXBgMO2MXN2mM1GYjJAifiDJx+EZAv\n",
       "gcIAjvr4qwaIuPzUHOg+pfKYgcBmA/vhOEkaqtoUxKeWOUyR9wTEMO4ubrZ1fPAG+PtvGryj7sLP\n",
       "exorjlpjXPtt+d/XSp7vTjLNj0L3JPhvpDnNK3XTbMdQzGIKCk7haC5fca2AOLwXIMejIrQNVtOr\n",
       "PVoWkX9Y4oQcZYCaBQoDOMoYbYCIy7ekYWha5TEFOWyodwXo9Jegc4Ip8h4rJ6oe8xaRT5f9Gl6P\n",
       "VqNVwfsu+BA/Rbq6RYzrZ+pevrHlvZLY7NHb4U2v/Wi5q8jJe60PlqBRXcyPeR7LUdIwRz3bACVO\n",
       "0cG0WUAc3S6B7I/qPkavNzdrj5ZxUHPeEeCv1R/T1ACOIrNrvXV0eaxE8pfCYway21DvCtDpLy/e\n",
       "zdzlfJpyrZt/u+4zeKvUJ/N+kByrdYl8OSbgB3mkXHYn9BZHGsX0dlPal1zoKmokhwJTHI+v5nZz\n",
       "P5ofuDKUsNg3CaET9W5vOpcwkCPRTAvem2cj+cCH5thghQol+GwKiJ2IJ9WPIaiIyDnE5R4L+nMq\n",
       "jxkI3HMNS2Dq/hJbCJHn4dar8YOEU3zFRVtiOy1+BTBMkHv+uFbmPTSAQSqWdqbUlbjmo5HynxIY\n",
       "RfLMC/FBFrsNWIfpyaCtaE1jMVBm2pOE/r71Nj9I0/StgHg1wFFiAESOw/ikjT2zXlW8fmCg4X+8\n",
       "lHr5dw1cAik1Cp41TQeI1MSbN5y9+nvk7yiEjkWyCgM4qlvkHOJyPmti8ld4TEGCHWHDWJl0qWft\n",
       "qh3EGIV4jinh/Qms5icbjEOXlBOpeIpfWfRAD/ZED10p8d51M5u8zWszZE9rHNnwAPnpk/2PkJMr\n",
       "EinGT9G27Idlehw0zG8T8ASMOot2/dixu3i1GK29aIt+OmnRWUpMmwzlF1ui+LSZL9h4J2BaVUx6\n",
       "FGTunoZ98JpYi06B+XTWs6Zoj4LWYc13vfZxWBDDfd6pXpUBHPUTASIu7y0f/AJUHlOQYEfY8FQa\n",
       "PpnvWVua7SmIMSrv48CHWTtGcta6f0G3RecfcpVlC7U9UNwi8Q7nkE0awF3pKEl/0ZOwkjRXqebJ\n",
       "Wp+evRwi8BUkrJfH+/jtARztqyxH0Ug9AZG1DtFY5dEDZ2Vtfsyrz1Ji2mSomDSNvv3ONfZsTcC0\n",
       "qjTpEVD40xxMytxdcNb7f/OuKU3TBERqkgxzv5N3srx85f1/r1yvNIChdkpJF/2MV860QOUxBQl2\n",
       "hA3GfY8/UvWsLbVLQZRRzHpJpoT3OLIQojP2rzAaIwV2tQD8+zOZVcj7vYdl3v8LZOsH/VaQdEPk\n",
       "K+jHxwUmYQX4czRSGKvsYOJnttsmRSjzufIBpnMiGHKdi2/WqBUoYZ54uL2aZF70OKfNtvQYWOVw\n",
       "W9/jOjsuGzRrL7Cd03LrLyOfczEahwx2tcwwU2y8G1fJvBP5E5hHIDFBFiuj0EO+iCnIO4kU4weN\n",
       "JX4MpwLptkmR9LqgBT+Yxa2y57Ni6fBEsq2awb4kREvf8KZGi/e5lt1tfY/r7Lhs0Ky9DOs+D0zr\n",
       "vI/HYE02PIFR8XqUXc39Ifyc8Q4jTt4XQXgKxu/E9sdTfnJ0Nk5SkpFmkXIdlrNBMBwoyLdNisD5\n",
       "HlbLD7S4DfaGcNzG08W2avouteiexSEbW3qMOVGyu63tcZ0dtw2atZFRMwdUG7wHtsGSspHGpcvi\n",
       "rezqpjIcwHFhPJSEADh4PwwwD3ZsL67JJlKh+RgniVEIWhj5NFKu2MpfTuJUvly6bVJErUoxZTfP\n",
       "HdN4txnY5ii4J79CXWsRJCz/Hdm2aga3A3PQLgMtPQZ+WbC7re1xnR2XDbq1kdEAmZOzstEoZdfV\n",
       "XzOrHOe0fGdThd4N/9xfXVIOb9hXxTgJ/+K2RyGYpJEC5guZqylsIf1zR+O2SRGVtVy/4xLzOH0O\n",
       "z+AF/NoO2aArL3KVefdn3Veu83nedMEeIOwr4o6UWfmOisR73OOqCe9m2hYg/GvTbHeejryrpdL4\n",
       "//xfbAHCv1Kz3XmaiFHZ117FuMccE63OdujpI18DMQVy9v6hCz0AAAAASUVORK5CYII=\n",
       "\" style=\"display:inline;vertical-align:middle;\" /></a><br>(see <a class=\"ProveItLink\" href=\"../__pv_it/42559e5c1109cba86adf81bac08603659f416f800/dependencies.ipynb\">dependencies</a>)<br>"
      ],
      "text/plain": [
       "association: forall_{l, m, n in Naturals} [forall_{(a, b, c) in Complexes^{l} * Complexes^{m} * Complexes^{n}} ((a_1 *  ...  * a_l * b_1 *  ...  * b_m * c_1 *  ...  * c_n) = (a_1 *  ...  * a_l * (b_1 *  ...  * b_m) * c_1 *  ...  * c_n))]"
      ]
     },
     "execution_count": 2,
     "metadata": {},
     "output_type": "execute_result"
    }
   ],
   "source": [
    "%proving association presuming []"
   ]
  },
  {
   "cell_type": "code",
   "execution_count": null,
   "metadata": {},
   "outputs": [],
   "source": []
  }
 ],
 "metadata": {
  "kernelspec": {
   "display_name": "Python 3",
   "language": "python",
   "name": "python3"
  }
 },
 "nbformat": 4,
 "nbformat_minor": 0
}
