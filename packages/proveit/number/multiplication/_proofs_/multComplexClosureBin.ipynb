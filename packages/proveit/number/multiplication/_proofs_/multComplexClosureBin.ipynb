{
 "cells": [
  {
   "cell_type": "markdown",
   "metadata": {},
   "source": [
    "Proof of <a class=\"ProveItLink\" href=\"../../../_context_.ipynb\">proveit</a>.<a class=\"ProveItLink\" href=\"../../_context_.ipynb\">number</a>.<a class=\"ProveItLink\" href=\"../_context_.ipynb\">multiplication</a>.<a class=\"ProveItLink\" href=\"../_theorems_.ipynb#multComplexClosureBin\">multComplexClosureBin</a> theorem\n",
    "========"
   ]
  },
  {
   "cell_type": "code",
   "execution_count": 1,
   "metadata": {},
   "outputs": [],
   "source": [
    "import proveit\n",
    "context = proveit.Context('..') # the theorem's context is in the parent directory"
   ]
  },
  {
   "cell_type": "code",
   "execution_count": 2,
   "metadata": {},
   "outputs": [
    {
     "name": "stdout",
     "output_type": "stream",
     "text": [
      "Beginning proof of multComplexClosureBin\n",
      "Recorded 'presuming' information\n",
      "Presuming previous theorems (applied transitively).\n"
     ]
    },
    {
     "data": {
      "text/html": [
       "<strong id=\"multComplexClosureBin\">multComplexClosureBin:</strong> <a class=\"ProveItLink\" href=\"../__pv_it/5b579410d44891c170760fe2bfe37d527467c22c0/expr.ipynb\"><img src=\"data:image/png;base64,iVBORw0KGgoAAAANSUhEUgAAAKsAAAAWBAMAAABNknGBAAAAMFBMVEX///8QEBC6urrMzMxUVFRm\n",
       "ZmZERETc3NwyMjKqqqp2dnaIiIiYmJgiIiLu7u4AAAAU9Wx4AAAAAXRSTlMAQObYZgAAArpJREFU\n",
       "OMu1lU1oE0EUx1/2I5uP/RAPioKQWlFRSnLQIkFprCBCFALqpSkY/EgvpexBbUHEHDxo0RpQwZtB\n",
       "KCIiLrWKWCiLRwshCH4gBFfQHqw2VaQe1OK8ndlds03Wiz74D7M/Zv6Zfe/NBuD/hPX3JZxB5Y+n\n",
       "bdYjr+FkJtB2G9Mfoe4m+8SUf2X89ZV1J2x+Bx/HAm3HWqyIZMhQ8kE+mVDvT9r8NHmUCkGucYOq\n",
       "KbQyGZ75oLkfIPrN5hGSXLEcZBuyqJoiieAdy8jjeh0PLlsryHjI5vLt4eGzgTnYzNQU93AI0+Ps\n",
       "qFImSpiZOcoXi8U3gbZ9TFL21moXnp8iLxzL4VQaYuwDV6ET5HsABtxWutDC9hJThx5ecDthEbQU\n",
       "RO2ahXUG01GTTpBvANWr6Lgz+TR6IM+mK6mknyDapZ3HjUsQqgCHuYRZZ0+aY7bIFYibru1FPMnD\n",
       "wybfbfGjjH2lEhZAwX5Qf2EaS6DlgLdP31Gv05LN8iwJyOOm4pX5O9GjTfOWfAZgS7OtVoAG9r+6\n",
       "igxKDpIms3VvSsTKeLZqCfmpJ8fw9D8mLRnr0HmVvDVbvYbqnAE33atO2vaIxZLw2bGVK2ir0iTA\n",
       "QC+Zv5KWsPNrciaCK6arXskGqRpl2Bd1riup11riYxdFcHM4uJUMXRbl18n1FnI8fhzChlxL+23H\n",
       "qSJm9EXMYUJZzDgNpj536d5pdeMQ4yFSCC0RxxcIpcTCrmKxaKzv9Gy7qKTsRPeE22DZfkxmwn4Y\n",
       "Oejg7W+/9DpcJglrWOEqaT8NFPO9/btzXm5DOtXyYJcXrl2ul1pxcud7dlojugI3QEAHvk+HKbcS\n",
       "VMvjbpt76XIuP9MPPSaXr4B6FMHHl8cTQR9GOxOl1q5+TksaI7ltwieZ/CHorW19nG+zTDKo/PGg\n",
       "TQ58XP53/5C/AfONtGClrtQ0AAAAAElFTkSuQmCC\n",
       "\" style=\"display:inline;vertical-align:middle;\" /></a><br>(see <a class=\"ProveItLink\" href=\"../__pv_it/5b579410d44891c170760fe2bfe37d527467c22c0/dependencies.ipynb\">dependencies</a>)<br>"
      ],
      "text/plain": [
       "multComplexClosureBin: forall_{a, b in Complexes} ((a * b) in Complexes)"
      ]
     },
     "execution_count": 2,
     "metadata": {},
     "output_type": "execute_result"
    }
   ],
   "source": [
    "%proving multComplexClosureBin presuming []"
   ]
  },
  {
   "cell_type": "code",
   "execution_count": null,
   "metadata": {},
   "outputs": [],
   "source": []
  }
 ],
 "metadata": {
  "kernelspec": {
   "display_name": "Python 3",
   "language": "python",
   "name": "python3"
  }
 },
 "nbformat": 4,
 "nbformat_minor": 0
}
