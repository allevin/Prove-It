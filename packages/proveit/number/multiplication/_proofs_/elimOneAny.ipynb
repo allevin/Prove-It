{
 "cells": [
  {
   "cell_type": "markdown",
   "metadata": {},
   "source": [
    "Proof of <a class=\"ProveItLink\" href=\"../../../_context_.ipynb\">proveit</a>.<a class=\"ProveItLink\" href=\"../../_context_.ipynb\">number</a>.<a class=\"ProveItLink\" href=\"../_context_.ipynb\">multiplication</a>.<a class=\"ProveItLink\" href=\"../_theorems_.ipynb#elimOneAny\">elimOneAny</a> theorem\n",
    "========"
   ]
  },
  {
   "cell_type": "code",
   "execution_count": 1,
   "metadata": {},
   "outputs": [],
   "source": [
    "import proveit\n",
    "context = proveit.Context('..') # the theorem's context is in the parent directory"
   ]
  },
  {
   "cell_type": "code",
   "execution_count": 2,
   "metadata": {},
   "outputs": [
    {
     "name": "stdout",
     "output_type": "stream",
     "text": [
      "Beginning proof of elimOneAny\n",
      "Recorded 'presuming' information\n",
      "Presuming previous theorems (applied transitively).\n"
     ]
    },
    {
     "data": {
      "text/html": [
       "<strong id=\"elimOneAny\">elimOneAny:</strong> <a class=\"ProveItLink\" href=\"../__pv_it/ec6fa03c2b367ac2e4abf7c19bcb0134aeb056620/expr.ipynb\"><img src=\"data:image/png;base64,iVBORw0KGgoAAAANSUhEUgAAAugAAAAXBAMAAACrL6dGAAAAMFBMVEX///8QEBC6urrMzMxUVFRm\n",
       "ZmZERETc3NwyMjKqqqp2dnaIiIiYmJgiIiLu7u4AAAAU9Wx4AAAAAXRSTlMAQObYZgAABnZJREFU\n",
       "aN7tWF1sFFUUPt3tdtvd2VlqtcoLW8REIyEtCaLBaDdq5IGQ1h8SQ1EJ0SVGY/eBgBFl6z8hatcQ\n",
       "El8aaoOi8aFrjMTEIFuJhKCRAgkmGtIlIUCkLpTf8tNez51zZ2fuzLRzhyXqAyc57czsd89895t7\n",
       "zz33Aty0f99KKqCd75RU44UK5Gjhy4pt/IHdDO3WNv9QEvAnD8Bc+teer4JaHX/J2KMB2Wgt5HsP\n",
       "wjC//8Wn8YAajNsC4WiJK4qiewNftV3rvbPKJ7rP+YeSgBH3Vwqn6f9IfzXUTo6Vy2tZWzA28JTw\n",
       "AfiK337sK7oSzMQI3OB5RdE9gccn7XdsJUDugkIsCdjj+rmepmyMpaugBsmLAFHWGZBNvfABWIt/\n",
       "oyt9RVeCocUL5HxQsQnFKewFPPbYpATBmLnzKrHswH2u338Q2YUNXz81bH6Vi54OyEbrJx8wPn0k\n",
       "7yu6EgytpkTOP+ogUxPdGxi3ix7nc3n/NYWPLgGPun6fRf82sTNVUINdmDE0VgzIRp9BPgDa9nXr\n",
       "3gRf0ZVgaPcI56tvDVNbfr2Bkuh1vO8jPf6xZGCdc5iE6Jf4cGqyCmrQjZ8sMR6UDbxEPgBwMZP5\n",
       "w190JRjacuE4/c7VsxaVjk0BlERPYg8fUFkiZGDMmXYjtH7m2nrPVkENWA+Ee9NB2cDn5KgmVj6r\n",
       "FURXgaF9KBy/cmdEYQJODZREbx/b+NGYSpUnAxuMQfbMRm7vGumCXvQiPH+tCmphdsfGkZmB2cCn\n",
       "5KjmXaD3KIhegbVSkM9YY+pPN/IW4QBDmNFwoIVp9S171FNi4gqgZWW76HSzH8vl4+MK0UygyCYz\n",
       "nEuOMW61GbCLlxQLJR5uCm5qhNVYHvTuHv8AMhuYTY5qJiDuPSDD7z0J3zxnil6BpWiGasi6VzQc\n",
       "3bS0SzQ6Kxz0yxDCgin8tFEm6B5FwGkqIATQ1rEJm+jipgNvQqzfP5oAml1wLpdJQ/TTeWjFou++\n",
       "pfaW4KbgoiawtTzRt17xDyCzgXZyVDNeTHh8qVPLVsCeWClWMkU3YZEUsYjg/BzsBP27ZcXwwlJ4\n",
       "k1P02rHGFK/LGkimZvcrjlIgE2gRbraLTjepYc4+7R/NBE4rekdjo1EK9tlbgpuCi5rA1vDGref9\n",
       "A8hsbKLrPQs8EuqqDWX4tdBpiW7C5m2lKZu4hCM9DzvuLpe09QD3ioYzhcMnD5dP8Lqswa8gNoHT\n",
       "5XRjIxLDotcvWgVoTy/PHuF22JCL58aGpnI5xyqiB6dmbHcGr/oGcLCxpRdY/Qgmi6652+I7+L6W\n",
       "XwH8zDG7N6+3RDdgaAdzJEbyDESugMYz3pzNGF/EfUW4zpUfuSSLrpuHPbrtmQBaDDxE50kUchNy\n",
       "tJJHNBNIvQDNuVrV8YR4FDEJlpU0C0SNp+oonwJeAWynWQ42sJecq7kFW4+2FhNpjc8DftVG++fd\n",
       "sdFFluhbhqkIS1Kx1dqcacwbu1r48TdwVkWwhk+57suyTDz5GdnOlgVNoMXAQ/RalGg09bsUzQjk\n",
       "jGYCqRfukpE/iD5uVNB5SbNA1DougT40kfUOYFtwHGxsJSPU4PDf8D0k2wyK/CobNnL/bujfZole\n",
       "Y8yS+aX6q7Qp6+cjfZFT9HnkSYZrTQdj5yTRefIzsp2VBStAi4GoqJ8YX2EDMTbGJ5Bd9GbwikZA\n",
       "oxdYITqL7BC2Z2wS5WC4Wey7Pmr8Jay5KOenSgBrwXGygbfJuZoaF3YJzId6oxhcgmknfDiTeRlF\n",
       "f+NvS3QDBgcaU1Tsd7fgEgEPZTKZwp1zbDVZlrxiDWqHHHYG01iAaLM9jwFut9/0VUutLxAb6xhA\n",
       "WBPsgFyIrpaF9DSN9NCDlug0PdOg0fRJYQIYh2PGLDpl5XTzUCe4TBaDGyE67wXA167n+65Hsymp\n",
       "9QViEyuQm2pGz+DX2BOD17J41TQHFpPosM8h+vwSbscg+gFEseTf2gS1fFCHl2fN0zvpaDeQTCaD\n",
       "GyM69UKf8mg3kGZTU+sLwgZOArmpZmglHIKF26G9iFfLi3Ack2Ho/RaoBUn0BNacQ2xm+Bq8xY4c\n",
       "uK0E+ir++K/DL1SS5xrh5vu+vFBQImYymJ59gGjYi9qsO4JtPXy9t6s6agECIBtjJC+2D2HTzM3p\n",
       "F5jTbYdth2SUZpUDmNPlXhXI/w/2rcez9f8Zm3gb+c6Dzq1/Vqn9/XDTbpxparDiTaWqsX8AoKX4\n",
       "lb/p+EYAAAAASUVORK5CYII=\n",
       "\" style=\"display:inline;vertical-align:middle;\" /></a><br>(see <a class=\"ProveItLink\" href=\"../__pv_it/ec6fa03c2b367ac2e4abf7c19bcb0134aeb056620/dependencies.ipynb\">dependencies</a>)<br>"
      ],
      "text/plain": [
       "elimOneAny: forall_{m, n in Naturals} [forall_{A, B in Complexes} ((A_1 *  ...  * A_m * 1 * B_1 *  ...  * B_n) = (A_1 *  ...  * A_m * B_1 *  ...  * B_n))]"
      ]
     },
     "execution_count": 2,
     "metadata": {},
     "output_type": "execute_result"
    }
   ],
   "source": [
    "%proving elimOneAny presuming []"
   ]
  },
  {
   "cell_type": "code",
   "execution_count": null,
   "metadata": {},
   "outputs": [],
   "source": []
  }
 ],
 "metadata": {
  "kernelspec": {
   "display_name": "Python 3",
   "language": "python",
   "name": "python3"
  }
 },
 "nbformat": 4,
 "nbformat_minor": 0
}
