{
 "cells": [
  {
   "cell_type": "markdown",
   "metadata": {},
   "source": [
    "Proof of <a class=\"ProveItLink\" href=\"../../../_context_.ipynb\">proveit</a>.<a class=\"ProveItLink\" href=\"../../_context_.ipynb\">number</a>.<a class=\"ProveItLink\" href=\"../_context_.ipynb\">multiplication</a>.<a class=\"ProveItLink\" href=\"../_theorems_.ipynb#multZeroAny\">multZeroAny</a> theorem\n",
    "========"
   ]
  },
  {
   "cell_type": "code",
   "execution_count": 1,
   "metadata": {},
   "outputs": [],
   "source": [
    "import proveit\n",
    "context = proveit.Context('..') # the theorem's context is in the parent directory"
   ]
  },
  {
   "cell_type": "code",
   "execution_count": 2,
   "metadata": {},
   "outputs": [
    {
     "name": "stdout",
     "output_type": "stream",
     "text": [
      "Beginning proof of multZeroAny\n",
      "Recorded 'presuming' information\n",
      "Presuming previous theorems (applied transitively).\n"
     ]
    },
    {
     "data": {
      "text/html": [
       "<strong id=\"multZeroAny\">multZeroAny:</strong> <a class=\"ProveItLink\" href=\"../__pv_it/746427307aa317d1d9e8e7eb5452adab367913ec0/expr.ipynb\"><img src=\"data:image/png;base64,iVBORw0KGgoAAAANSUhEUgAAAfQAAAAWCAMAAAAB856FAAAAM1BMVEX///+/v78QEBC6urrMzMxU\n",
       "VFRmZmZERETc3NwyMjKqqqp2dnaIiIiYmJgiIiLu7u4AAAB/uxFxAAAAAXRSTlMAQObYZgAABQpJ\n",
       "REFUaN7tWdlypSAQddgEWf//a4ddGsFoLqmaqgkvGILndvXp3W37Xf/fsivBlBF/fkBGrOCeFnHH\n",
       "2p9ZAbi7shAlK4SaA2r8Bqfc1sLgzZzH6mMJ5WK8TAaFe17GybWkPwW0TCk2Y9QKh6xf3LO1hPU5\n",
       "ICNvZK23PUmyWrewK0hfigeBIKB0ji7l/DGgd5XNmpnGndvjzp1jS+SaA4pXsoqTJL7n5/rwGelL\n",
       "8VLOUHAvsdg5sza4PwRU8ZYSUxhVOKKL5JoBavlG1nLbk1T9hx1LSF+KFxeycM9W7h3TrST9MaCJ\n",
       "qseOj9VcgrB2Ti+x+TmgRW9kLbcDSVryuFa4zWq8KLGAezVh5NzCKvQ5YAqys6pvL5ZjnFgi2B3g\n",
       "fryRNd8OJG1uD8vIRaSvxIsRQ8I9hzqyCefwMs6fA/JU7hGnJhk4UkPEqorjDlCyN7Lm25Gk1Ans\n",
       "fBXpVzwMvEJ6j0IIOfOsuhca7snEvfyshjvyefkAAR8pUk4yMBJCGIeONbJdANt1nL7PRLPoUNZ8\n",
       "O5KEaWwMXkkiGPOvKsTslfQrHoIK0inoiEuK0kJSwzpbQBjuEQGlZJeCF6NtKrHPYj68BgDvX7iQ\n",
       "DpB84o3k2D066OeydYBd6kNvDDTfjiTF1lo9KzqsYoz5q3rfpJdM2oGnX/AYcsDcWWJbZhUXTEJ2\n",
       "G+yp86AScpvQa6MecOlltqNRrH1WgsNrPeDdC314h0i01AUeTK6Q7QIIw8Cb8J5vJ5ICQeaRDaod\n",
       "cxvsUGu1sRnpHR42h0NwCMKTpx8Qk0fR8Nek05Ae0NliAcWiR/EUXusBb18oxZEeIaECgXOD9als\n",
       "F8A3pENZAek+FOdhl2YKK0l9S7zX2UM5i4/1kBzEczQm/cTL8wEOy+JUjrJkhRUTe8hknl14P+Du\n",
       "9YhIHFHVFuv4sFPoAEdauLRBx7BlOwcoMrfXH8rWAzZswPDOTLP2oawgvPuiiya2NA42EW5qWhNt\n",
       "OiNgAqSJJ1yTMekVr1aYoCzGDvnqHmUSK6ayehhtdg137whHiRhZ8RPF2uuTHXsWABxp4TrwkMPf\n",
       "LBk4kGUeyXYvWg/YshH++1UlBmTVoiXpYOmU2zi7CcOA2gyUM68NIlvSN7lJOia94MWYEmYqou1v\n",
       "VHLx5Okn5oz0IknZOd3PDva4UeyZGuvTMKn2gCMtQFc/gqEMx7A02aHVPirzJ7Ldi3YBbNh40rJB\n",
       "WduWLYTOwglVgabggGeDEM5iZCAmduC7SqRzbc2Y9BPP/2rKlrSdNuCcowAmxnioR2zAHj842aSO\n",
       "sMhcsTU11qdRUh0AjrTQAjOphp/Q3PlFrMalL2S7FW0EWNmIYfLLuUIra75dSKo+FmxC7SGYbBUv\n",
       "nDHm/7YUeLrPwmpC+umzuRhozRi57PDBZhtMatUop2+Iw32Qk5cO4cda+Ha98AOyRTYejWFHQ1uJ\n",
       "+7Ih21JoyfyfguczRIIbUg5I3/Qkp28wuMcJw5bhPJ5IxUUKOicmYTI8q35mUz4UzD8vLFZsp4V/\n",
       "ivSGDa/uVx+vy+2eJBxCTKgSyB4IiKV+PGNSxwEBLnPw9ES3e9JNius6zOCOBCf8s68vUZnrVEz/\n",
       "KH2sp1ffGn9aPfUghWNqoWI7LXzE0Y/Ilth4OVCzYuaZl+KxZzXn9Lsx7Au4J5ih0oL778r5kH/r\n",
       "9lckkZeGrowhC+Eq6wruvysqm3zntqfoO575/aV/mfon1l8etUQwwYAmOwAAAABJRU5ErkJggg==\n",
       "\" style=\"display:inline;vertical-align:middle;\" /></a><br>(see <a class=\"ProveItLink\" href=\"../__pv_it/746427307aa317d1d9e8e7eb5452adab367913ec0/dependencies.ipynb\">dependencies</a>)<br>"
      ],
      "text/plain": [
       "multZeroAny: forall_{m, n in Naturals} [forall_{A, B in Complexes} ((A_1 *  ...  * A_m * 0 * B_1 *  ...  * B_n) = 0)]"
      ]
     },
     "execution_count": 2,
     "metadata": {},
     "output_type": "execute_result"
    }
   ],
   "source": [
    "%proving multZeroAny presuming []"
   ]
  },
  {
   "cell_type": "code",
   "execution_count": null,
   "metadata": {},
   "outputs": [],
   "source": []
  }
 ],
 "metadata": {
  "kernelspec": {
   "display_name": "Python 3",
   "language": "python",
   "name": "python3"
  }
 },
 "nbformat": 4,
 "nbformat_minor": 0
}
