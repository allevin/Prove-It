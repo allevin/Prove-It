{
 "cells": [
  {
   "cell_type": "markdown",
   "metadata": {},
   "source": [
    "Proof of <a class=\"ProveItLink\" href=\"../../../_context_.ipynb\">proveit</a>.<a class=\"ProveItLink\" href=\"../../_context_.ipynb\">number</a>.<a class=\"ProveItLink\" href=\"../_context_.ipynb\">multiplication</a>.<a class=\"ProveItLink\" href=\"../_theorems_.ipynb#multNatClosureBin\">multNatClosureBin</a> theorem\n",
    "========"
   ]
  },
  {
   "cell_type": "code",
   "execution_count": 1,
   "metadata": {},
   "outputs": [],
   "source": [
    "import proveit\n",
    "context = proveit.Context('..') # the theorem's context is in the parent directory"
   ]
  },
  {
   "cell_type": "code",
   "execution_count": 2,
   "metadata": {},
   "outputs": [
    {
     "name": "stdout",
     "output_type": "stream",
     "text": [
      "Beginning proof of multNatClosureBin\n",
      "Recorded 'presuming' information\n",
      "Presuming previous theorem (applied transitively).\n"
     ]
    },
    {
     "data": {
      "text/html": [
       "<strong id=\"multNatClosureBin\">multNatClosureBin:</strong> <a class=\"ProveItLink\" href=\"../__pv_it/2a8fea20d65164b33b6e782d0877c01c285ac5b20/expr.ipynb\"><img src=\"data:image/png;base64,iVBORw0KGgoAAAANSUhEUgAAAKsAAAAWBAMAAABNknGBAAAAMFBMVEX///8QEBC6urrMzMxUVFRm\n",
       "ZmZERETc3NwyMjKqqqp2dnaIiIiYmJgiIiLu7u4AAAAU9Wx4AAAAAXRSTlMAQObYZgAAAr9JREFU\n",
       "OMu1lU1o02AYx5+2SdOPt+kQVPTUoeAushzGnENZXS/CVIqyi5sYFDoPQ3pQt4vYgwcFLT0oeHMI\n",
       "MkQcYX4gDiTozUIpgghCJYLILq51h3rQDZ8n75u0zdp40Qf+b5Nf3/5583ykAP8nrL9vCRpc3njT\n",
       "Yz/xKl2UfW2HhNpCPYK/k7VOuNq8YMGZjRLxRwSKvrbFLjsiaVwKHjgb0gEaNr+Ct4ru5xo3uDoi\n",
       "WcLlnQce11YA+mweweTKJT/bgMXVEYMEvoiMvKzV7IOPFyWNbJGzxbm5q745GBDqiCe0hPlxRioC\n",
       "ZobUItkSb+Zyn3xtTwspEw92uvD6yjGAWJYulYsOzESNYbIlngGYcVvpRhfbW0L9+XDD7YQmJDWI\n",
       "2o8ezru2cJIZaEt8L6itij4UnyOTqfh2kc9tXMpvkO3SrqGimxBYgGAf3X+Dlq1kZZART0DcdL+4\n",
       "SSd5PmkyfQmWBFvnkhqQoH5QN3CRC5DMQsg+fX+tJkqWATW9ipbE42aiVeafqBf71ixWlr22SR3q\n",
       "1P/qDlwSWRg0he1Q22lhNCRs1QLxy6/OU25/PbMY1YEdPGA4tru4rhlw3x11bNuzlkjC93ZbVtJ5\n",
       "EmBmHL0/KpvU+VWWjtAGpi29dWxnueolOBp1xhXrtRt32Y8umW22sKgLfhfHW8qG6OUQNlh1lNvG\n",
       "YifayoiKmNEPMcdAKslpp8HU9w49x7POeQALkUzFacgDmqwfzuVyBtOUymexeT+XMrE8vOw22MQ0\n",
       "vRhS9s38KTE3P3Sw28rmDBNWt8IVbL8kJMyv/LSw57UzvHmurSGGF+7crhW6cZz5sUPWfD4B90DK\n",
       "c1vm5JYtcG2Nxz3m0uXBqfI0jJnBqQVQKUMDuKT9Xox2JgrdXb2clzSGue3Al4S8IeW723p4qMc2\n",
       "xeDyxtMeOfBw9u/+If8AXtW2m9tKPEsAAAAASUVORK5CYII=\n",
       "\" style=\"display:inline;vertical-align:middle;\" /></a><br>(see <a class=\"ProveItLink\" href=\"../__pv_it/2a8fea20d65164b33b6e782d0877c01c285ac5b20/dependencies.ipynb\">dependencies</a>)<br>"
      ],
      "text/plain": [
       "multNatClosureBin: forall_{a, b in Naturals} ((a * b) in Naturals)"
      ]
     },
     "execution_count": 2,
     "metadata": {},
     "output_type": "execute_result"
    }
   ],
   "source": [
    "%proving multNatClosureBin presuming []"
   ]
  },
  {
   "cell_type": "code",
   "execution_count": null,
   "metadata": {},
   "outputs": [],
   "source": []
  }
 ],
 "metadata": {
  "kernelspec": {
   "display_name": "Python 3",
   "language": "python",
   "name": "python3"
  }
 },
 "nbformat": 4,
 "nbformat_minor": 0
}
