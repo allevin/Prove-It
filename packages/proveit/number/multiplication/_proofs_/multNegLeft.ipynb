{
 "cells": [
  {
   "cell_type": "markdown",
   "metadata": {},
   "source": [
    "Proof of <a class=\"ProveItLink\" href=\"../../../_context_.ipynb\">proveit</a>.<a class=\"ProveItLink\" href=\"../../_context_.ipynb\">number</a>.<a class=\"ProveItLink\" href=\"../_context_.ipynb\">multiplication</a>.<a class=\"ProveItLink\" href=\"../_theorems_.ipynb#multNegLeft\">multNegLeft</a> theorem\n",
    "========"
   ]
  },
  {
   "cell_type": "code",
   "execution_count": 1,
   "metadata": {},
   "outputs": [],
   "source": [
    "import proveit\n",
    "context = proveit.Context('..') # the theorem's context is in the parent directory"
   ]
  },
  {
   "cell_type": "code",
   "execution_count": 2,
   "metadata": {},
   "outputs": [
    {
     "name": "stdout",
     "output_type": "stream",
     "text": [
      "Beginning proof of multNegLeft\n",
      "Recorded 'presuming' information\n",
      "Presuming previous theorems (applied transitively).\n"
     ]
    },
    {
     "data": {
      "text/html": [
       "<strong id=\"multNegLeft\">multNegLeft:</strong> <a class=\"ProveItLink\" href=\"../__pv_it/1f16336bce962674379fb702f12f06b9439f12f40/expr.ipynb\"><img src=\"data:image/png;base64,iVBORw0KGgoAAAANSUhEUgAAAR0AAAAWBAMAAAAP9FU/AAAAMFBMVEX///8QEBC6urrMzMxUVFRm\n",
       "ZmZERETc3NwyMjKqqqp2dnaIiIiYmJgiIiLu7u4AAAAU9Wx4AAAAAXRSTlMAQObYZgAAA01JREFU\n",
       "SMfNVltoE0EUPcnm0Ty6CS0oIshqBUUpjSCCgqRUUFAKxQdIi1ilpPj42A+xatEGQZCiJaCC4Ef3\n",
       "p4gUJWIT0IJd/JIKki8/ioUURKSVWhTsh1qcyW5yZ7ZLtn964CSbkz13787cOzPAf4byGu7x54ki\n",
       "4ho8BDhNO93ivxFY4sK7+vnsFijhmKfgMCntbvGDKeITLozUz2dEoIQGT8FhanCfjizxMvsK99ZN\n",
       "J5YnOubH8BIcpkn3J0wTecbBXN18fGWiDDXpJThMm9yfMEeMPx4YuF5/urYLdOCcpyCZ/Fn3J4Ry\n",
       "xJ+ZzEz9fLoFVnFt4mqBzcRYTZjvRnhFFAQzFa5BVms8xwwMlRHtQo0HgP76+dwRWI1jxD/6WGs+\n",
       "rClGG2JLthC8XUE7ZBMrDpOsFUT9S5gCIlniVqhuo/h1uLPHvmwSWI3DHh5h3bm5khwrESV3CqFe\n",
       "WxDRJBWTRlYsMu4NlpBh85gkNiJmOoqycMJU9pSVYfv3d2L47iyHpiJQ6ck0//jG3lbFRiTytiBC\n",
       "MAEJjd9pWdU/fDX25fGLvc0SMWY2OvqmuG2xHB8EdqzOR3jVfC2fOR4/soJ0yj0fQkIjq7qOf46W\n",
       "lR9yPmqWr6DjHRMsmr/I+jPOigot99h72VE2CKxhKMW3GpqeYBbPYQvBynjM9sJp8uXIauEkYkl5\n",
       "vtDfwSa1fJDfu5DQd1lr7Ov3FOWiwOq6p08hxoK+pVLtQh9EQTBTX5tktXALIVb28SwRD9j0+60+\n",
       "uNGKIvY58xkTaGPUPINBSQq2+3/Dpd8lgfdz1WrhONpMSP1uT+dy5e/DOIL9mUwmv6WForQKtPH5\n",
       "1fw474Kb1AQXCsuSIJhpPSyR1Q40eVpng6sREeeDpyQVqzub8YlfBBaofnw6sc72EC257heSaf3q\n",
       "heWpvF9YSEezUVzR0czWpwCPoHTrtc2Pb5JVyojSZtmJuZwkuO6w045/AyWVF/y4QGvYXvY8Q9rE\n",
       "/WIW6tnK+v+hT/M8b3yhyxmcl4U1nTcajZCByoJcpQgzrAfYC0ZZ/Uj6JYESDtHlo4ImC6K5hrDj\n",
       "PBaZPMpHSSeKhzc9ZGx328DCeaJ0tknBQ4DTNOgW/4VAcapZusY/Ps7/BWi0CJLJujIjAAAAAElF\n",
       "TkSuQmCC\n",
       "\" style=\"display:inline;vertical-align:middle;\" /></a><br>(see <a class=\"ProveItLink\" href=\"../__pv_it/1f16336bce962674379fb702f12f06b9439f12f40/dependencies.ipynb\">dependencies</a>)<br>"
      ],
      "text/plain": [
       "multNegLeft: forall_{x, y in Complexes} (((-x) * y) = (-(x * y)))"
      ]
     },
     "execution_count": 2,
     "metadata": {},
     "output_type": "execute_result"
    }
   ],
   "source": [
    "%proving multNegLeft presuming []"
   ]
  },
  {
   "cell_type": "code",
   "execution_count": null,
   "metadata": {},
   "outputs": [],
   "source": []
  }
 ],
 "metadata": {
  "kernelspec": {
   "display_name": "Python 3",
   "language": "python",
   "name": "python3"
  }
 },
 "nbformat": 4,
 "nbformat_minor": 0
}
