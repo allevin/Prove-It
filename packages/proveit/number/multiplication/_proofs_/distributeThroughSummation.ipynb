{
 "cells": [
  {
   "cell_type": "markdown",
   "metadata": {},
   "source": [
    "Proof of <a class=\"ProveItLink\" href=\"../../../_context_.ipynb\">proveit</a>.<a class=\"ProveItLink\" href=\"../../_context_.ipynb\">number</a>.<a class=\"ProveItLink\" href=\"../_context_.ipynb\">multiplication</a>.<a class=\"ProveItLink\" href=\"../_theorems_.ipynb#distributeThroughSummation\">distributeThroughSummation</a> theorem\n",
    "========"
   ]
  },
  {
   "cell_type": "code",
   "execution_count": 1,
   "metadata": {},
   "outputs": [],
   "source": [
    "import proveit\n",
    "context = proveit.Context('..') # the theorem's context is in the parent directory"
   ]
  },
  {
   "cell_type": "code",
   "execution_count": 2,
   "metadata": {},
   "outputs": [
    {
     "name": "stdout",
     "output_type": "stream",
     "text": [
      "Beginning proof of distributeThroughSummation\n",
      "Recorded 'presuming' information\n",
      "Presuming previous theorems (applied transitively).\n"
     ]
    },
    {
     "data": {
      "text/html": [
       "<strong id=\"distributeThroughSummation\">distributeThroughSummation:</strong> <a class=\"ProveItLink\" href=\"../__pv_it/f3a1ad6c455d7f1d36087f5a2ddff2d1ad874c220/expr.ipynb\"><img src=\"data:image/png;base64,iVBORw0KGgoAAAANSUhEUgAABycAAABMBAMAAAA1haYcAAAAMFBMVEX///8QEBC6urrMzMxUVFRm\n",
       "ZmZERETc3NwyMjKqqqp2dnaIiIiYmJgiIiLu7u4AAAAU9Wx4AAAAAXRSTlMAQObYZgAAFmdJREFU\n",
       "eNrtnQtsHMd5x+fe7yVpJVbjQDoqju0UScprXbmuApdX27WDPEr6oQayk5BJEaqp4/BQCJaUNCGb\n",
       "Nq0T2OYFrYEEqiLasOtHaugcJ0ZaytU5tlxDbUMaebaOzFMRy0olU6QoinqQ3M5jd3ZnXzN3OzSO\n",
       "tzeAyP1Ow7n5/vP95rGPWQDqSL2qeoab6VbQ7CmiqmpRWmm3ynJcbrUaSDlYAd+F7PAXPa2eNI13\n",
       "cOx6oLxz4l94eTKjzQ/lwsREWVZh1F/fjkutViMpOzHR57uQaL+f6Gn5pGlMVXKx64GyIJCn1PxQ\n",
       "zkssjPrr23Gp1WowTfouQXmHn+gJQpq0qORkS4byVRAsKF+V5nhrQAm+UWtDydfYpJKjLRXK9FSw\n",
       "oKT++ne8RaBMFttQ8jU2qeRoS4VypBwsKKm//h1vESgjp9tQ8jU2qeRoS4XybhAsKO+W53iLQOmq\n",
       "RBtKs8Z3c2yJUIaXggUl9VeC460CZU+5DSVfY0MlZ1silPHOYEFJ/ZXgeKtAmZxqQ8nX2FDJ2ZYI\n",
       "Ze94sKCk/kpwvFWgzJ5vQ8nX2FDJ2ZYI5UApWFBSfyU43ipQgrNtKAU0Psux5UF5DgQLynMSHW8Z\n",
       "KPtKbSj5GlOVXGxpUGYvBgtK6q8Mx1sGyn3jbSj5GlOVXGxpUMYXgwUl9VeG4y0DZcdUG0q+xlQl\n",
       "F1salKemggUl9VeG4y0DZXy+DSVfY6qSiy0Nyn39wYKS+ivD8ZaBMnOxDSVfY6qSiy0Nyr5ysKCk\n",
       "/spwvGWgjJxrQ8nXmKrkYkuDMl8LFpTUXxmOtwyUQG1DKaCxyrElQZmYA4GCkvorxfHWgXKsuw0l\n",
       "X2NdJTdbEpSps8GCkvorxfHWgXKg0oaSr7GukpstCcr0hWBBSf2V4njrQDlZbEPJ11hXyc2WBGX8\n",
       "fLCgpP5Kcbx1oOyZakPJ11hXyc2WBGVoPlhQUn+lON46UJ6abUPJ11hXyc2WBOWplWBBSf2V4rhj\n",
       "tdCWgzRV1giUHYvC0TNtcu9isKDUVXKzJUHZOxssKKm/Uhx3rFZK1T594323qJ1rBMrceeHo2aeS\n",
       "T5W/OJSfCxaUukputiQo900FC0rqrxTHnavVt0wP33N+jUCZvCgcPVGVShceKwcKSl0lN1sSlAdH\n",
       "gwUl9VeK487Vypl2TX98jUAZvSAePdPGrunp0UBBqavkZkuCcv9gsKCk/kpx3LlaEdXY/SdWWBtQ\n",
       "xs6IR0+vWqXHtwUKSl0lB7tWJ5Re+fvIbdnP/bVgoe+1WnG03p+7wfuvLJmy3S75fgj/7/5ul+hX\n",
       "ZMjb1289gIWLzjF7y2J9xaRqPDNc5RcbrgAwjBR6W6EeFZFadijDn1DfVnpR4EvZfOlz4lBmVeOs\n",
       "UJYfK72CU1yPZkAlNa6QD2m0SJ20qORg4yn9f4hD6ZV/eBz/eliw0AiamH1PvfHGn5R06/jczMw9\n",
       "KmdAsGSy96+ZX4xt+AweV9JuUOawSj5PZ2r+mg5gwaL3EUyPi0EZVwUWrFRF8LvorMnYxpk3hufr\n",
       "UpGMwiyU4en7Sicv5Z8UtebLLNcxzxpeFoKs6KKa27mmC24K4ZIaV8iPNLcxEOoqOdhPoN8PiEPp\n",
       "lX+sokEpVmgSD6iwf4iv162OswAkVM5zUJZMSVsD9nQr+78HwKgHlOkyrUDjaaxiPYAzWcE3S6Vt\n",
       "b9hygVLJLwgUp6tIVFfhdHpkoS4Vwagdyv1ouOnhT/at+bJzdUB5VBV57E1rqrToe8nszcDEWeMK\n",
       "+ZEmyUCoq+Rg3wN/JQbFofTKP61DKVboBA5F2KWlLuhW70WkA0d4S6astfOsfgQWCRvlMANljYl+\n",
       "XLt7fE5fpyvWA7gEXBbU0jYAui11e1T+lI2qmKngSsCfI2fqUhGpZYEyrSL1krP8/sWSL6XWAWVY\n",
       "FZnwT7ip5qKHrRnYOGtcIT/SkEidtKjkYKOOI1YWh9Irf76qQSlW6EY8aJ+GlV3QrYPzaJXBWTpZ\n",
       "Mina5bsT9x/5BXa9hj64HfbBDJQPsNGPzG0+ocxXrQcguV/w9YJfV2cFoUyrG7mlURVDqO/JoDnX\n",
       "5FJdKiK1LFDuwyNJjNu52vKF64ES7J8TmLBsdFPNZWC1NQMbZ40r5EcaEqmTFpUc7OxjO3d+qY4T\n",
       "PV75KZRChYbxdCAOVY6e161haOV4O8NZM32WxPR9WtvGEqhzOwGLLpuhfDcb/Yd37tw5JR/K50Kq\n",
       "0Jw4M5VfEYQSjPG3ytNVBO8hy1A0eo/Wp2K8bIUyj0/BZLidqy1ffVAm1VEgFitOqjknezOwcda4\n",
       "Qr6k+awglODs0ND/1AGlV35tnvWwWKExPJh3QGVODeoWbJ/IGG/ZYM30KP55j94Kr4e1+Wy63wxl\n",
       "usJEf8fQ0N3jPqGk80p6kJhPqt0ifzpSGDstCuVRlVtRXUVwB7ZgJF17pk4V0/0WKFOq2KrGni/s\n",
       "2DG5Qank+efGSHQ4qeaYHJqBjbPGFfIlzaMshDXgZt8AwHag9NVEocT5QWp46+3b0WebnzxQsENJ\n",
       "MqXzc13LOguRO77zAttD4uGldxxEfqpbEfU37p1G78+8xnO9oGXS0zfxz+26uSWljVupUQJl7AhO\n",
       "C0z0RwsgXoLNZ4uUFGNdW60Lynh/DM13Itw2+wwYgJOnX62IQJlSuZGoqwjuw9bcvffPlb2rYVMx\n",
       "NWqBMkpnbtd4fnfUttyIaOEVuxenojeUYB+/HyOxoqnGqQ9tBiaomTjzoZAvab5phjBigdJsvxso\n",
       "8Mve71azr94Knv6kGUqSHzwPwFMI737Q4zBSapkm+0FSn7hfAcLseiCEm+Lgh568o6RbWViCMjwK\n",
       "Nn/Uw1M9E02bcH9L5d0S1pQIdzJnX1NfMUd/uAiOw19fwBm1Uw3ZT23Y/v0IMyzFC3VB+TxcrfSD\n",
       "yO1kYjzjMCwQ4bOd4CDsJMJTpmzu9zQMcFdduorgEtys0J9j52g1xFQMdxoBgmuZ1K8GaK2hOFRi\n",
       "xpzPBqXYSAli/EUziRVNNU59aDOQoNayMXHmQyFf0mwShTIHMlV9CmhJJ7Z+HLyUrqX1r/x1jeYH\n",
       "N8K/ruHrfXGa/6aCDqWWaaAK0gukHHTtcjC77cD1h/QA7sDyDNdMVhTVqwfOZvZ6dj9aJtraWLEN\n",
       "cDDEJ3qO6VhFZtlLIscv0ULu2+jnFDgAf2KUQ6SwcNePwKYlVH2S7eVHfloJGTghk63JTQXLgXIe\n",
       "TkJgkSnc1orDiVhtL8pTZdBzVpsQ6dlItZxSjjt/1VUEeEztW0GToXGtGoIqRlCXudtUyxwJkqv0\n",
       "1nDYRhNX3chHZ49DTt/4a9eeZZo7fyWxoqnGqY/RDI+asjFx5kMhX9LgSN1tUcnJzlRzNW3aYz0Z\n",
       "8ekvz4D/rPRTKK8r0fzglwB8EFWnZroPwxgptUzTJZA8T8pRoAzV1LPgknA/I/Sy2Qohq+eMN5Q0\n",
       "E+NqhE7+k7WiI5SRr2t+RH6Ofh4Ar0F6MGa3kN089sEPMot4AEXdyNWfB9eOG1dNsHloz4teI2V0\n",
       "riuPTtprUF7qsD4kA3pfVxc6aY/nUno2Ui3HJdIyb6Sk+GMo81Mo5IqeIWdTEYfcXlMtk+TEw3r9\n",
       "06P2qR6uupHPe6S8zvV1KyOviUGpqcapj9EM95myMXHmQyFf0uBI3WtRyclWRtFNIOgsUfbO9z6S\n",
       "ebagHQFwCGV54e+/SKHEExCSX5kHWRREucu6nU70kExog66BcVIOeAWNQDcoU2k9kkPoILJgtvDl\n",
       "3P0XvaHUMx367r8WJ/6UTl+pvNlxBKViTF+1NeXPaszi7TjCGC0rQfi/8WVbBc01Ip1otYm7kX+v\n",
       "gPA4ujb1m7DMAjH3DIa8oPzGH8y8gU7apzjndVPrZmZGoDgdJZE1Jcis58QsVRGgNRC+4J1WK57V\n",
       "sKlonr4CetkApIverWHKh4pi15RE+EHO9BU8zX07Eo4OXTVOfYxmWHRQCJfkQyFf0ghPX8H263Es\n",
       "AnCyp5orZovaUYHcwfBC+uQWBkqcH4QvPPlxHMm3mC5tG1BqmeaGPvUO/U6I1/NwHj+V6s/pI2sc\n",
       "DROZ02YLTfUTqI/bC7TbU2u2Az2T8sMl8BOABq6X8ccfodX4HLq78f1wCB81j5SpIhv98R3w/zBi\n",
       "uauwHDF09lspoOvvqBsJ/z70toTciJXhB8SMFnZ5QKkgJKYXWShpxU232x4to6lNCfy20NlX0MO7\n",
       "EZ2qCD6nLYbAyDKphmKvQ81Rxaz1RI+SRzT9gIXA0hbmfKioHzeypgzzb4zB0aGr5lgf080hejNE\n",
       "Oh0UwiV5KFTjKORLmpeFoXwQViyD/vjLPwAdBbzMQUclsjR7AYw/wkKJ8pses9lhuJ43oMSZMhfQ\n",
       "SKkv8RJ/CJTBdDn+jPkMc3zFbPUtAuX5ZU12NFHHM3PmgGZKnBgF83jZQNbDb1L+ojf9m3Ll562X\n",
       "RHZZoj/1CXRylZyoxqf/QtodiuEi7kYyJ5Hbr6E23Jbt18wcOPBbwOovPdiBVBw+z0BpVNxYeCRu\n",
       "wpfKyuBZISj597hTFbEWURi4J/M/J9VgxaOWXUXbJRHwpXPfTvxXPxt5lrYw50NFLTJX3AShFLjJ\n",
       "HFWOquZYH9MCXm+GzKCDQthNd4VMZTkr5EsayyURAFztEFxXxfHa6sOw606WydEmEPnZ0NBdEMq/\n",
       "fJOFEuUHcVJBpRsoxjlVevOAngl2Tz2zpJz/hZW1dJCw7q8Pn6kYFt4U4tKq5uvRRW1mjmbs5AA5\n",
       "RjNFK7Ar/Br8hJxVTXyVNvrm6Tk0wiW7zVBut0b/OwG5oyCykdy72nGa9HKRUdyNEArvRDOr2B/p\n",
       "5jFw2HSS23LzQIcK+7o+VZ1noNQ9MC08VHUFxoWqFu4Su07Ju2/eUBGdcOzATzegIRNVg1GRSJkv\n",
       "OamY7LZCCV7KL38MsJFntMWgLV+0ok3w6oNSeSf/YhyJDk01x/oYC3jaDPGKg0KoJA+FSFkeCvmS\n",
       "5ivCUGZhtIWuRkfrYNc9EiZHW8NKkYyU4Q+wUKL8oIP0bqmy+VLPtAElzhSaRc//knK+Zb+ms97d\n",
       "2ms5n6cl5pNQITOYmO2mt9mlPkjOvhoqMbfZFazR/yP47x/Q6NfVhW9w7EAfhzCUqBsJv4v+ReaX\n",
       "ULJ32WNqumo90KfKgvcKrSuIQPk3QDyFStZq2FUMlxxUdLjNjm0Nge8uxPq764cyWRQoe30j9bma\n",
       "W1L9CvmRRvg2O23ozYBdpcQsHCFfSpOjdZeDmwmU4HDNLmsvqvauUmyQnCshiT4loi+VR0FqrkDK\n",
       "+RPzWEXSYXcL+1q1+cZ8MgL7n+zguOlWHUv6jsdTIlq6Ev57BOqA2ia6hKcIIDxIupE/huUS3w5F\n",
       "y2bT6i/zlEg9UCqzFQEo46N1QMncnY+rYVcx66QiUssnlCMg9Ds4QlL1PCUC/kyk7MMN1AcGNa+k\n",
       "+hXyIw2JVHoDuuUpEasNok+A3mp4EK5Gr3mMHN1RBcdgRIf/thtE7bKmx9CzYb3V2OatHzNdLRtn\n",
       "oEzml490fRLgcsBtW7daz7GxT06ZrS+M3cmH8kqQK0T+vIQvYTiG/Cgfyjfx7BVtfLWrpMCV4TX9\n",
       "OK5xN7L5MfLMBYArym0m0+Yv8zwlnkk/viD2pOaHygJQPmUII/DgwAPWanBCTlcR3+zhDCVpDX66\n",
       "EsT+mXxBPc9Tpo3rISn3su3RwU/RJ3glNaCQH2mOM9BlLc9TWm1LxOtH/zR0l7esFne0B/AftlbJ\n",
       "Wo4uSdHdQpNG+0lGR4dvdmuTEh/KXA1tEpPNz5V7q+D/pjeg58xj3aQbUZ4auh5nugI/4EpNm7/M\n",
       "zgONJxcos8Z8KyUA5Q6+ZhU3tWRtB5KpY+cB8LzRV3/LvchEEUhKAnHmpZCfdDMDXcay84DVxjFR\n",
       "sh9xZLVmHCD+PvdjwUp+0cMSjwC3k3rPwP87woHSdJ8/7WCS7t0IcPTXdLAKUJquh2wSibkGd1N4\n",
       "BsiDMn1WHErT9ZBwp3Cs+EmNlvSM776qwGisq+Rms0O261YpVlmtGdfexlnGHbNGB7NHuKC3YuOs\n",
       "hHE9JL2w6tK89RtnjRjd4v418cphaRp7bJxVT+LtZjc5utagBP9o72DERz3qrxTHnaE8qi9XEw+q\n",
       "82sEyjq2mFQu0492D6iFQEH5Fm0x2dO55qDM2lxK14QLov5KcdwZyjHy+NO9r6iqOrVGoEwuCUdP\n",
       "8hxx7/68KrqRSqtAqavkZkuCciRgry2g/o6s2msLYmvxXSKh08LRMxDcd4noKrnZkqB0frFL60JJ\n",
       "/ZXieOu8dauOF/wEML3FL/jJnQ4WlNRfKY63DpQj7VfhCWg8MuttS4IyuhQsKKm/UhxvoZfGjrah\n",
       "5Gusq+RmS4IysxAsKKm/UhxvHSgP9reh5Gusq+RmS4IyfC5YUFJ/pTjeOlD2VdtQ8jXWVXKzJUGp\n",
       "qMGCkvorxXFSrYfUrvyr9v9kNgbUknkjwaaCcrrkGj1Ofri5vQr+NROUukputiQoXVqjZaE0/JXh\n",
       "OKkW2sV7zGGkMW8MqA3P5o0EmwlKZc4jeux+ABe3V8O/JoKSquRiS4NyfzVYUFJ/ZThOqhVbcr7f\n",
       "TNsYUGvA72+tshsJNhOU4TMe0cP4YSTW7VXzr4mgpCq52NKg7CkGC0rqrwzHSbVyi3DIKDsOykl6\n",
       "G+yzV83U2I0EmwnK9JJH9DB+GIl1e9X8ayIoqUoutjQoOzqDBSX1V4bjpFodsyDmdOso2RhQm+vh\n",
       "IYXZSLCZoEyueESP2Q+zkma3V8+/JoKSquRiS4MyOh8sKKm/Mhwn1eq5dKgL7XNgnRKSjQG19iNz\n",
       "vFvUclNCiV9q4hI9mh/RmnXOQdxebf+aCEqqkostDcrwhWBBSf2V4Tip1sFxNGRsse70SjYG1Iwt\n",
       "2u8dnU0J5WTZPXq0DQ4fsp4YI26vun9NBCVVycWWBiXYECwoDX83yKrWcDfeQcm6WzrZGFAzrhsa\n",
       "GqqwGwk2E5RjHtGj+ZGzQqm5vdr+NRGUYxxbHpQHC8GCkvorwXFSrTzZF8IKJdkYUHsXy6/QJ+xG\n",
       "gk0EZWLBI3qIH3YoiduH9rz4vm1gFf1rHigNlZxtiVCeKgYLSuqvBMdxtRIQyH3rMJS7SokHwK4a\n",
       "+lHSNgbU3sWCd4thNxJsIijTix7Ro21wCKFM/J3mXA0eaW7vGQx1XwFW0b/mgdJQydmWCGVsJVhQ\n",
       "Un8lOI6r9VfqkVfeXsNQ9lYji6C3hH5U9Y0BybtYlE+jb2Q2EmwiKENF9+jR/YBQRpY050rwSHM7\n",
       "WngTPAFW0b/mgdJQydmWCKVyIVhQUn8lOM5UC01fq9SiR9q7WNJwzbWa6x1/ZZT40YOmrw6bQuXA\n",
       "g2Cquor+NQ+UhkrOtkQowUPBgtLw9yGp1frAZWWn7QWZd7E0K5Rv50dP5Gk4Hv4eNenRMThO3tXq\n",
       "961PWlRytmVCGRoPFpTUX/+OW6slsL1gM0KZXRGMHoeJQCDSpEUlR1sqlKmVYEFJ/fXveIs8unW0\n",
       "2nj0BAdKk0qOtlQo0WvXgwSl4e+NbShxehy0oeRr/DjHlgvl0e5gQUn99e14a0AZWd+Gkq+xWSUn\n",
       "ux4oVfUMt1E2Nj+UqorffSensI2yHJdarUZSDlbAfyFlP9HT8knTmKrkYteRTkxMfJeb6fKmF0aZ\n",
       "mJiQN55fLstxudVqIGVhBXwXsttf9LR60jTe7Wn/P8wzuAQEkpUzAAAAAElFTkSuQmCC\n",
       "\" style=\"display:inline;vertical-align:middle;\" /></a><br>(see <a class=\"ProveItLink\" href=\"../__pv_it/f3a1ad6c455d7f1d36087f5a2ddff2d1ad874c220/dependencies.ipynb\">dependencies</a>)<br>"
      ],
      "text/plain": [
       "distributeThroughSummation: forall_{l, m, n in Naturals} [forall_{P, S} ([forall_{B in S^{m}} (P(B_1,...,B_m) in Complexes)] => [forall_{(A, C) in Complexes^{l} * Complexes^{n}} ((A_1 *  ...  * A_l * [Sum_{B_1,...,B_m in S} P(B_1,...,B_m)] * C_1 *  ...  * C_n) = [Sum_{B_1,...,B_m in S} (A_1 *  ...  * A_l * P(B_1,...,B_m) * C_1 *  ...  * C_n)])])]"
      ]
     },
     "execution_count": 2,
     "metadata": {},
     "output_type": "execute_result"
    }
   ],
   "source": [
    "%proving distributeThroughSummation presuming []"
   ]
  },
  {
   "cell_type": "code",
   "execution_count": null,
   "metadata": {},
   "outputs": [],
   "source": []
  }
 ],
 "metadata": {
  "kernelspec": {
   "display_name": "Python 3",
   "language": "python",
   "name": "python3"
  }
 },
 "nbformat": 4,
 "nbformat_minor": 0
}
