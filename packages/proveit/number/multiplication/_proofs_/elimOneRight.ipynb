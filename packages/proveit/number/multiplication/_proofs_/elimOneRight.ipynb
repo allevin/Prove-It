{
 "cells": [
  {
   "cell_type": "markdown",
   "metadata": {},
   "source": [
    "Proof of <a class=\"ProveItLink\" href=\"../../../_context_.ipynb\">proveit</a>.<a class=\"ProveItLink\" href=\"../../_context_.ipynb\">number</a>.<a class=\"ProveItLink\" href=\"../_context_.ipynb\">multiplication</a>.<a class=\"ProveItLink\" href=\"../_theorems_.ipynb#elimOneRight\">elimOneRight</a> theorem\n",
    "========"
   ]
  },
  {
   "cell_type": "code",
   "execution_count": 1,
   "metadata": {},
   "outputs": [],
   "source": [
    "import proveit\n",
    "context = proveit.Context('..') # the theorem's context is in the parent directory"
   ]
  },
  {
   "cell_type": "code",
   "execution_count": 2,
   "metadata": {},
   "outputs": [
    {
     "name": "stdout",
     "output_type": "stream",
     "text": [
      "Beginning proof of elimOneRight\n",
      "Recorded 'presuming' information\n",
      "Presuming previous theorems (applied transitively).\n"
     ]
    },
    {
     "data": {
      "text/html": [
       "<strong id=\"elimOneRight\">elimOneRight:</strong> <a class=\"ProveItLink\" href=\"../__pv_it/a2867fdc5b5f59b4f26dc13d55831307f81951cd0/expr.ipynb\"><img src=\"data:image/png;base64,iVBORw0KGgoAAAANSUhEUgAAAKEAAAAVBAMAAADcJJPmAAAAMFBMVEX///8QEBC6urrMzMxUVFRm\n",
       "ZmZERETc3NwyMjKqqqp2dnaIiIiYmJgiIiLu7u4AAAAU9Wx4AAAAAXRSTlMAQObYZgAAAh5JREFU\n",
       "OMtjYKA6eIBPkmkDBGOAQzg0gMQvgBincSgwgWJUkMfAwGqAXQNIfCWI0YfDxD5scs/+AYkGHDqA\n",
       "4mVAij0BuzT3BghGAU9cQCaewmEiUJwDGJCsE7BLMz6AYDR7QCY+xGEiUJxneXl5LQ5pDSjGYiIb\n",
       "DkeAxL+lpd3CYWIUFFdtqdy6AdVErgA0teyr3WdHQ8SdGRjScZjYA8F8C3juMF5ANZETHDURHSDQ\n",
       "AmK+Yjh7QBYirsLAhxJxb7p8o6FMIQjmYuD+wAlKLnwP4CYyCaDZvoBhP8NkiDgvA/cBqCjf1tAD\n",
       "zGYPmLug/E8QzMfAAkkM7y/ATWT+gJFT3Big4twHeGHRuU393QOeagYGLVQTgREOCcWHCbhNZGCQ\n",
       "hpnI1wDKFaudthjwgEJbGeh0dqgaSShmqDdAyq1Ivo69CwLXIFHzGegZiHi6EzCoHrgxTuAASew7\n",
       "h7A1B4J5CvYzcKOZyIOeaY5zf2DYBxWfCgwdJlCcWqGbuBSC5x9IZKhmwJ96OP+wCbBvgIpDAuk7\n",
       "A4NtWlraBiVlhDJdCH6269XqA4jCIPBHDDCrKaCayJe9btUeBqg4D8hDzALMDE9AUiyvEeHIWADB\n",
       "2HMbfnF7rgYuBhaQZuaoAobdUFGeBRCMBazGYSJc/NnO6HUMfEngxH8tRQFvaQb2JI7SDF2cCxiO\n",
       "KAIlUIwBWLCHBU5xRPbfAMEYYDMODUBxADJMnNlwMRDnAAAAAElFTkSuQmCC\n",
       "\" style=\"display:inline;vertical-align:middle;\" /></a><br>(see <a class=\"ProveItLink\" href=\"../__pv_it/a2867fdc5b5f59b4f26dc13d55831307f81951cd0/dependencies.ipynb\">dependencies</a>)<br>"
      ],
      "text/plain": [
       "elimOneRight: forall_{x in Complexes} ((x * 1) = x)"
      ]
     },
     "execution_count": 2,
     "metadata": {},
     "output_type": "execute_result"
    }
   ],
   "source": [
    "%proving elimOneRight presuming []"
   ]
  },
  {
   "cell_type": "code",
   "execution_count": null,
   "metadata": {},
   "outputs": [],
   "source": []
  }
 ],
 "metadata": {
  "kernelspec": {
   "display_name": "Python 3",
   "language": "python",
   "name": "python3"
  }
 },
 "nbformat": 4,
 "nbformat_minor": 0
}
