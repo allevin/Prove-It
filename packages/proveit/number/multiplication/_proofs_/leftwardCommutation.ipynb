{
 "cells": [
  {
   "cell_type": "markdown",
   "metadata": {},
   "source": [
    "Proof of <a class=\"ProveItLink\" href=\"../../../_context_.ipynb\">proveit</a>.<a class=\"ProveItLink\" href=\"../../_context_.ipynb\">number</a>.<a class=\"ProveItLink\" href=\"../_context_.ipynb\">multiplication</a>.<a class=\"ProveItLink\" href=\"../_theorems_.ipynb#leftwardCommutation\">leftwardCommutation</a> theorem\n",
    "========"
   ]
  },
  {
   "cell_type": "code",
   "execution_count": 1,
   "metadata": {},
   "outputs": [],
   "source": [
    "import proveit\n",
    "context = proveit.Context('..') # the theorem's context is in the parent directory"
   ]
  },
  {
   "cell_type": "code",
   "execution_count": 2,
   "metadata": {},
   "outputs": [
    {
     "name": "stdout",
     "output_type": "stream",
     "text": [
      "Beginning proof of leftwardCommutation\n",
      "Recorded 'presuming' information\n",
      "Presuming previous theorems (applied transitively).\n"
     ]
    },
    {
     "data": {
      "text/html": [
       "<strong id=\"leftwardCommutation\">leftwardCommutation:</strong> <a class=\"ProveItLink\" href=\"../__pv_it/0caf58a47bf957d5035601b3e0c5574215d1ff670/expr.ipynb\"><img src=\"data:image/png;base64,iVBORw0KGgoAAAANSUhEUgAABDsAAAAaBAMAAABLIkqRAAAAMFBMVEX///8QEBC6urrMzMxUVFRm\n",
       "ZmZERETc3NwyMjKqqqp2dnaIiIiYmJgiIiLu7u4AAAAU9Wx4AAAAAXRSTlMAQObYZgAACWJJREFU\n",
       "aN7tW31sHMUVf7f36bu9PQtQACE1B4GIlqZZviJD/8gJhFCLQk4FpCYpzdFWR9uQ+JAQjkiLj37F\n",
       "hRZbokiVQsQJUkIIxdemiiqchFVSU+R+cBXUqihHjopGEUmwYxMnsZ0c82bm9ntvxxfLUoKf9O5m\n",
       "dt68ee/tb2bezNkA4rS+WoB5+vzQkmppJuKV+Yh9viiagdpM4KHMnWlSmXFrlKqLYLl+xlekrT4l\n",
       "oEiX2u/SeN2sxEPAVm+h5+sikWxIyWnGCA8axr8JwiNJe5fnAh43cW6Ngr0ZAamOT31FlKVjAop0\n",
       "qbDqNCUzK/EQsNVb6H/1tEBvXeoezgQeO7D+tCA84n3kK1abC3g8LWyWKy3UBIQC0/4yS0dFhtOl\n",
       "io6mWQqXiK2eQlJdaMFuSMU4E3g8il85QXhQwUfnAh2JMuNWd826SBbdfdJfpr8oMp4uNeRoGpid\n",
       "gIjY6ikUPyUyhC4llxgTeCC4w32iqSnO51VzAY9AjXGLJB8XkXq73V+mVyh716U+dDR9YXYCImKr\n",
       "p1BsUmQIXUppZ0zgIW/v6vqx8MllqKura04OMNdyhr3V3QIDJqr/XW+uh858/xJ/cK0cfuJuH7Xv\n",
       "CezaZqmIfaZJRRfzPKiZr762egvtrfaPiQxuSP2AMYEHTOTz7wnDI5XPry/NBTxWcz42Br3+80Y5\n",
       "mI5Z1ovAqcKIP6oWblacqf7HO3eZ1daFBtel4llba7jkYp47OXxVXhlQm9oq5BCqHRUaXJf6HWOE\n",
       "x+0ADwrDI6RCZCZ3Yx1ai/D4FWeyavfnRJbF+IRtE06eFklQDtpne/Ai+LVZ7SmhwXWpNpqEfLMH\n",
       "6We0VXMxz3OHsvp6fTpWaWarkENUbVFocF3qt4wRHleDUgRlZU0IHlIGDqMdqvcVgKUWUVuEx0WM\n",
       "ZeJwL8lQl7HZ5GLkJ3TPPQmxKe4EFXq+HVJTEMwZIrYZj0JtZEabLwToww/L8FCjjGrJfuyjhkvx\n",
       "vcS+1AXSDfP89HBfPzrbEFKugIjGy9zW5nGwO0QfUrUlvxA2pBhdyRjhkYQEsWGJ1wXCz78Bf/i2\n",
       "Dg/Ce8jnY3oKWLcuD0sng5a9J9Dq5jLGOEbWyroKN6+gD132C7aY9lYgNc6doEJrc9A9Hby3YohY\n",
       "iQqFJ8h802wPV5rKqHYM/NQwqUa87Mt4Kt0wz08P91WqNIRCo4aLzFafONgdog+p2rRfCLkUp+WM\n",
       "ER4JLVlju42Djtz3LXgzXovXDHjsgQ/Ip7EErrUuD4nT8EJj1Le2/btsHIJpdXDLX75sHHyOPrli\n",
       "ja3VDo/UCQjivr6VHQuc24yygN4WZmH5KHeCCh0s45RtqxgiVqJCySk6aawPJ0xlVEvmso8aLtUE\n",
       "Htw8Hz3cV5q9UKFUznCR29o8DnaHmBZUW/MLYUPKAQ+leBPf5x0Z+Xce/wT+Xs6a4XEYLwHbjAXs\n",
       "oLVL6CzdfBBXN26AjpJxDUCrW3KB9DV6JJfVgk/aWnXxyxmnpiFxSk5z3zyJTJk3ivtNTixUobPI\n",
       "34f34XkcIvbUIjplU1vZ76eGS5k3l/urSMN0kD7dPB893NeYPv27yw5bt87YIar2jG8IG1KOzQUe\n",
       "vI184H2KvOa6bYndKi8BDKLkgWc2meEReYSoMLJTxWZNoB2zV4qrv5ZBKqHqLxJ9KquG1GN4TSuR\n",
       "kB0AeRPAl6ytG3VFDzEOjEHkRKxg8Y0mGI0CR0MaOrObwbgU6i0oZJ02v4+apSvLKU/CyDgM/vH1\n",
       "zMB39YfTxB6bWrsaqkGxDc5CBrI9CcTswUOPzRzua0oPbop01Sy2muOgWNR4O+QSQsVzcOxLam8x\n",
       "pvB4llgdRNAfXaolM3KGl1R2QXwgfvRWEzza7mcZhbIi/z5OluM9P8Wm/+9EpH803JnBu07ElXQL\n",
       "wVnhA41eug3yahKehYqGN2tyFhY9Qwywtu75iu1olZiE/qkOa1jO8C3UtIm/UYrXdxWDRlr4tnb4\n",
       "NJjfBxXWu/LEaVrp7VP2T8O7YOxqdwC8aFXrUEM1GGqYFAuZ82CLDzz02Mzhvl5vLMVZiKtmWy1x\n",
       "0ENgxMHVIZcQ6l3tg2Pfd6wHWwjg/TVuSY//GVIq9Q9LBZZkHoDSNhM84Ao8rgI8nIvj/X58Eh5A\n",
       "C9+RyN4aXQD9Gh5u6E3QUey1BqfCKoIFVj1E1o51KiKGIGjfP6lWc+uQvrAu4bz3P/se2GyFxwK+\n",
       "hZo28UT1qUOXFRLGvipXL1Gt8Fhg7srpH/+6HaJHijBuSr3COwdqVrUONVSDoYZJ0ZCRCWy/RcNM\n",
       "00OP3Rzm627T5c/APoutljjoITDFwc0hlxDqXe2DY19cgn/CmMJDJuGI0G3uLgLdWB8rXQnB4Xx+\n",
       "HYHHj46Z4YHv9GqATjWMemJnoZMEJZRRyNuIjMPaAgSLFFfsjbOI32GpIt2b1eHh0oqYLTDmtFXk\n",
       "tBOx/0bTJnLBGyqTVeeXzSSE1NCQuV2qXzpDPeuaNW5t3SGhEIbKUrvlUp2/jRvx82IC3W6Jle6T\n",
       "lAxbPaSvmuGB9BtQjkMSc/RUBRby9JwsVe2YqRJ4IK6kq/QzTYJsQ6YqxSpZJq5a5NVq+lVoJr4x\n",
       "J2b6XgNqIhcdTZ8zPDBkADsdz4dmqkc9R3h4OCQWQjWcTUOczDNkHR4jCdhYiI6SKfBmnJUuXgR3\n",
       "MnjAkB0eiyE6ASMbiIKRTBBPgiN0nnfnlIkjIOUYru4mzWz6D4b6zFV8+dmvEaQewdzDpZWS9Qd9\n",
       "Id+IEy28124yZeRc6VzhwUKmOK8njR/0hfQoo+VzhIeHQ0Ih7IbADSo9fNLbzwY8QjtguSblSF6y\n",
       "bDsrrdbgEEGg9Is0hMAGj2MAJM14tbSxkMxELiVwIknZaxsLgVx8cgjnPMXVzdv5L/Ikt1hlqlLA\n",
       "YEYaXF2AAbdWSo9wpvRY7xqRlXGH7Y29fELgTwIWQ1IN/rDJLwVialjIQk49eozF9MDXm1ydC8XB\n",
       "3SGxEC6G8KtA39+dZtORNEfppfw626U6o2QNOnr+NFxbrkV73q0ROEXvep1Ugj1PrdgA4TTFFSi/\n",
       "z99Gpa+hf0SlVzGUWfrXSB8Pfy/t0sqDWWZ8ftEul2ebzjcnEipjCzyCBWfJ8ZsL799nxZFmrsSc\n",
       "uJqn85PM8JBdSh7wUHIWHLGvBqi2zIf1QoSHP1X1/3N5zoIj2QKqzHxYLxBaUm3xXcreh694bT6u\n",
       "Fw59Borc5PiSTjRrAAAAAElFTkSuQmCC\n",
       "\" style=\"display:inline;vertical-align:middle;\" /></a><br>(see <a class=\"ProveItLink\" href=\"../__pv_it/0caf58a47bf957d5035601b3e0c5574215d1ff670/dependencies.ipynb\">dependencies</a>)<br>"
      ],
      "text/plain": [
       "leftwardCommutation: forall_{l, m, n in Naturals} [forall_{(a, b, c, d) in Complexes^{l} * Complexes^{m} * Complexes * Complexes^{n}} ((a_1 *  ...  * a_l * b_1 *  ...  * b_m * c * d_1 *  ...  * d_n) = (a_1 *  ...  * a_l * c * b_1 *  ...  * b_m * d_1 *  ...  * d_n))]"
      ]
     },
     "execution_count": 2,
     "metadata": {},
     "output_type": "execute_result"
    }
   ],
   "source": [
    "%proving leftwardCommutation presuming []"
   ]
  },
  {
   "cell_type": "code",
   "execution_count": null,
   "metadata": {},
   "outputs": [],
   "source": []
  }
 ],
 "metadata": {
  "kernelspec": {
   "display_name": "Python 3",
   "language": "python",
   "name": "python3"
  }
 },
 "nbformat": 4,
 "nbformat_minor": 0
}
