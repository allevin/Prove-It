{
 "cells": [
  {
   "cell_type": "markdown",
   "metadata": {},
   "source": [
    "Proof of <a class=\"ProveItLink\" href=\"../../../_context_.ipynb\">proveit</a>.<a class=\"ProveItLink\" href=\"../../_context_.ipynb\">number</a>.<a class=\"ProveItLink\" href=\"../_context_.ipynb\">multiplication</a>.<a class=\"ProveItLink\" href=\"../_theorems_.ipynb#distributeThroughSubtract\">distributeThroughSubtract</a> theorem\n",
    "========"
   ]
  },
  {
   "cell_type": "code",
   "execution_count": 1,
   "metadata": {},
   "outputs": [],
   "source": [
    "import proveit\n",
    "context = proveit.Context('..') # the theorem's context is in the parent directory"
   ]
  },
  {
   "cell_type": "code",
   "execution_count": 2,
   "metadata": {},
   "outputs": [
    {
     "name": "stdout",
     "output_type": "stream",
     "text": [
      "Beginning proof of distributeThroughSubtract\n",
      "Recorded 'presuming' information\n",
      "Presuming previous theorems (applied transitively).\n"
     ]
    },
    {
     "data": {
      "text/html": [
       "<strong id=\"distributeThroughSubtract\">distributeThroughSubtract:</strong> <a class=\"ProveItLink\" href=\"../__pv_it/40c52f9aff605ce3e400e095acc3769d0be69c9b0/expr.ipynb\"><img src=\"data:image/png;base64,iVBORw0KGgoAAAANSUhEUgAABQkAAAAZBAMAAABgPrX6AAAAMFBMVEX///8QEBC6urrMzMxUVFRm\n",
       "ZmZERETc3NwyMjKqqqp2dnaIiIiYmJgiIiLu7u4AAAAU9Wx4AAAAAXRSTlMAQObYZgAACiVJREFU\n",
       "aN7tW31sHEcVf971fd+t7RoVqojYbQItVJGvog1pEfiUiFRQpTFpI9UxIUcpV9FQcn9EMWogPiGK\n",
       "QkTjQy0SUqm4PxJCCU2uhFhAQnNNcFuZj5wEBFFhfJFQGjWu64vzgVM7y5uZu92Zvd3buY9YRfKT\n",
       "nm9v9ObNb978ZubN7BlASp4cT8KiLMqNkBXjGUnL/GKwFuVGiS8GBUkWagsK7M6SovSm5aqos06O\n",
       "7OUk/2WbjvKBqHsrguHJ5iCXMGwWPiVbJVbSQeXFSxosrqkRWbjbVMJCusr90Z2FEVo5uzAkVGNM\n",
       "iUxIrteRaw6OHMTDj6k2vHTqrW0z7q0Ihp5oU5BLGDYL391VYiUdVFHOF6emdujR2pDBQ5wiC18k\n",
       "ZXvdWRgk89VfWBgWknZKbQX1mFydw5ccHDlJiv+ixwGGLks0IximmoJcxrBJ+PZWiZV0UEVpu4I8\n",
       "0vtqRObnFFm4g3zE3VlIbXYs0IZ8rKRkt9LlclJVn3dw5CRjQm1c5YcuyTTDG441A7mMYZPwhbJV\n",
       "YiUdVAv69wgLYzUiC2dMRRaSietJu7OQTqP+BWLh0pKi7NGn5ZbPw7qDIyc5yw8P2VJOz7k3Ixqe\n",
       "bQZyGcMm4WspVImVdFBFOYGbbFjP1YhMazcVWRg+MDj4bZkz8tjg4OACHZWVFFOCPd91XarO71v0\n",
       "gq0j57w6zefYJD1LuTcjGnrTTUAuY9gkfHdUiZV0UK2nDpxCkf/Wigy+ZiqyEK4kEm/KsLAtkXgy\n",
       "szAs9GSYogxFhy9KnfZn/Hq3rSPfwfufHxDz5P0ZGCpAkMtl2jCMq2SSJdEw2Nc4cntDC+om4dtU\n",
       "JVbSQX17E/i4aaOnQB2O1YoM9ptKWIiH7MdlWNgaBW8Sq7idhtKNs9CfY4ryVdgyJ1PF2+ex2RWI\n",
       "k7fhz7kPi6cBZRpOAAS4paW3uPuZogxy0ZC5eGQ3ke/Widze0IK6IXym/KBKrKSDmumB0DSX7n1o\n",
       "98QtNSODH5tKWLgctJQMC5UYnMenp+jGY3eNFOwqdsxn4b7GWdjSzRQTjnY4QY5VK9kiZrM9TLGP\n",
       "VzHvECY+tSVOMsi4Z4Uq93rykMBOtJv1T2OHzuFkVeO80wp/pmFpA25vHHnZUGzJQN1UfDfxsXL2\n",
       "5RhUUq6mN4M3bhiF9TRo21LuHRWRwa2mEhZGIGQ/MdSnN8DLXzJYiHoc/1LoLbbXSKf7wD8HwfIa\n",
       "Prln3YDFgivS3tj396yDZVs3U4B309BzBeCedbT83cq8VGOHOG0WFF046VNb4qQAa9n28sw4EVLS\n",
       "kgU82KnTZv31uMUoekZ9OM85hQp/hmE5RNZjRe3Iy4aWlsqom4DP7Dhc5GJVxZdTUGm5BkugLWsY\n",
       "tZLMseeae0dFZNBrKmFhKBex4e+FjV+E14KFYMFk4XH4N67xlDlfuGLHwi05CF6mK6t2dGNOXVlQ\n",
       "94T7j68eNZZhWlR6/sQ3YFWGK0bLWOVYru/ooJcFL7AjX+WNknYzi0Wxo0u876C2zMkSa6WfFtSZ\n",
       "MgtZ/S6y2OsxCOQ5p1DhzzR0ZaEscsPQ2tIS3qpJ+C7ysXL25RRUVh64Dr1Rw6iFYO+55N5REZmV\n",
       "hVrqbptz26O7puBP2T6ehefJOwGSGoLyz6IdCyeS4J+liebI7VOF8E6AjwdG4CYFF3UFmXgKaBF8\n",
       "DJfxKLyeBSXDFaOlsX20pJlCoHNqakg3xtJZfviZqbds7juoE9+M9fXjIxBqF7Yreusa1LOlkamS\n",
       "r5cN+R1vM11rztSH3DCsOBlwqBvDZ8otfKzcfDkF1ZOCl7mzFckmDr/n2lELMuuODI+vRloM3Lkv\n",
       "NEIOHuQJYJQYnnp2J89C73aS9JBvkdvZAf7g6l9jFWWkdA+FsdySIZe2YZJMLMO0xgdrtDx969JP\n",
       "ClmRJ43ulXuxZpIvXuMz0lNvjimcxaoRPSl0kY5NwfjDykh4J65y3TAdvY6p9CtiRJ4GL3Y8bKbD\n",
       "JLmBoXlxZIyGOA6XDVmUeBeyyDURuWE4+qvfxY59xSgWUdviK9SO7+tcrFz76hRUfx88xqVhs4Rh\n",
       "efshckYGb5hKWfgjdDHZk4vEwuQbeYqyVz+ngpP3cSwMbMY/q9gpmx7gg4W1ZN5faEveRSdeMfFl\n",
       "Anw5fS0Dr/yFVgz0RcJkAqVHy0XQj8wLTVLPXHE+dLLAXTAQ9a2l90xpoYsk82AJirmPbSf7wLZZ\n",
       "rhuGo8Cct91nef39MPTkhGuMVqTBZNc/xJExGuJynbIhi1LlTY0rctNraYkoGWon5+Bv8AdjhRRR\n",
       "2+EzYyCPbz8XK9e+OgXVE1O4M/36q6C9Op+0HyJnZNabGsBcHXb9BtqiFDN5Sqo0YzsFmX0cC2mm\n",
       "spxkG0thmERIYSf/XStghO7i19hauIodkym3tHgw7T1CR77PYKHns1BmoVmsxcO/NI52eaa6fh3R\n",
       "63qU7yLJPGiqYWY0bTquzet1fcbshuFI23roF8ctXDl3bAuGzd/N1df1Ilko+JExGjJzHcOQRol3\n",
       "IYvc9Fq6bSsZfvJCCmbosDCKCaht8ZkxkMe3gouVRF/tg6ptPXqVw49yc05MPSQiB98xlbIwTPjw\n",
       "ANwFfnqMeAC3avVMIrEVWfitd3gWErI8RzZkzKfZ1GBoPo91yIzG3LdnmrDw04lEInvbMvEaHpGW\n",
       "ikL/wqG6LWot5uSDJTXELbsqi9kN05GdvGT7+k0iVzIbutXWRd3IW7NqO3zfzapBfC3J+nyJQYWg\n",
       "Xc0XakJmeYNXkk5cz4YU9rRR0WJsLVQ+xbOQyEdRcV8/TQvUdpXdQnXSLiIDT6SIyX9oWC+QbM9I\n",
       "C/o+ZxSNtmKXHsySvJAv5mQMLG/iZbtodsN0VDngeZryHGxklEmU7FzUjbwlGor7prubxUJ7fOFM\n",
       "fb6EoK6juWzdLGTIgllTDRb6ppGjrwXhm0l86lwG9zMWwpiVhe/QDRl6p9G0N5giNaBTId9gKAWB\n",
       "YpQMQiuZcuqmJPeTllFyKGFFmBX2A9xzgPzCgysW3nkULD/KkuxiuRuCowqJZLwZsL+rlx0ZFiUb\n",
       "F/UihyFcDcPxTJNY6IRvb32+hKC+CU9A/SxkyOgLkLIaLFTi8FdYeQB6c/i0KQfncFIq3+uGVrCw\n",
       "MFKAiUsQ7iqme3PnfjtwCGvAcyMp/PB3zY93kEvuDaA9Sl9CnXnMmNrktuahUtFH6M8vtZcSq4Vi\n",
       "AWqMX6cBnhoekOpiuRuCo8qhPLaBrIg2/0nj+/nlrGxDGCUbF/Uixx0kElWfcPnvnobxba/PlxDU\n",
       "54/ardg1DBEio8tcWSsHqfwa5WeYF4pv8EoXiWmrac6XbM2aFelPK4OYFzb0Dm9nSRsWZydHGnd+\n",
       "5EYihxuBz5d9fyALRU2tZKHqMBkNFmpxi6ma9Gbu4CsG3icdXZT/F6lgYRhcWAg/sZiGcYPL8BVb\n",
       "F8O6KI2x0EnGjf9HDrv9suvQYlgXpRZZMR77H4Pq5WE+v2JzAAAAAElFTkSuQmCC\n",
       "\" style=\"display:inline;vertical-align:middle;\" /></a><br>(see <a class=\"ProveItLink\" href=\"../__pv_it/40c52f9aff605ce3e400e095acc3769d0be69c9b0/dependencies.ipynb\">dependencies</a>)<br>"
      ],
      "text/plain": [
       "distributeThroughSubtract: forall_{m, n in Naturals} [forall_{(A, x, y, B) in Complexes^{m} * Complexes * Complexes * Complexes^{n}} ((A_1 *  ...  * A_m * (x - y) * B_1 *  ...  * B_n) = ((A_1 *  ...  * A_m * x * B_1 *  ...  * B_n) - (A_1 *  ...  * A_m * y * B_1 *  ...  * B_n)))]"
      ]
     },
     "execution_count": 2,
     "metadata": {},
     "output_type": "execute_result"
    }
   ],
   "source": [
    "%proving distributeThroughSubtract presuming []"
   ]
  },
  {
   "cell_type": "code",
   "execution_count": null,
   "metadata": {},
   "outputs": [],
   "source": []
  }
 ],
 "metadata": {
  "kernelspec": {
   "display_name": "Python 3",
   "language": "python",
   "name": "python3"
  }
 },
 "nbformat": 4,
 "nbformat_minor": 0
}
