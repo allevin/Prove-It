{
 "cells": [
  {
   "cell_type": "markdown",
   "metadata": {},
   "source": [
    "Proof of <a class=\"ProveItLink\" href=\"../../../_context_.ipynb\">proveit</a>.<a class=\"ProveItLink\" href=\"../../_context_.ipynb\">number</a>.<a class=\"ProveItLink\" href=\"../_context_.ipynb\">multiplication</a>.<a class=\"ProveItLink\" href=\"../_theorems_.ipynb#multNegAny\">multNegAny</a> theorem\n",
    "========"
   ]
  },
  {
   "cell_type": "code",
   "execution_count": 1,
   "metadata": {},
   "outputs": [],
   "source": [
    "import proveit\n",
    "context = proveit.Context('..') # the theorem's context is in the parent directory"
   ]
  },
  {
   "cell_type": "code",
   "execution_count": 2,
   "metadata": {},
   "outputs": [
    {
     "name": "stdout",
     "output_type": "stream",
     "text": [
      "Beginning proof of multNegAny\n",
      "Recorded 'presuming' information\n",
      "Presuming previous theorems (applied transitively).\n"
     ]
    },
    {
     "data": {
      "text/html": [
       "<strong id=\"multNegAny\">multNegAny:</strong> <a class=\"ProveItLink\" href=\"../__pv_it/f40b3c5e512ea52a0af31ce890c86796023f33310/expr.ipynb\"><img src=\"data:image/png;base64,iVBORw0KGgoAAAANSUhEUgAAA2AAAAAXBAMAAACfczFzAAAAMFBMVEX///8QEBC6urrMzMxUVFRm\n",
       "ZmZERETc3NwyMjKqqqp2dnaIiIiYmJgiIiLu7u4AAAAU9Wx4AAAAAXRSTlMAQObYZgAAB5JJREFU\n",
       "aN7tWX1sFEUUf3fXcte767YVUyQxXhENREJaEsQEo70oARNC2qhFU0QK0RKjkfuDCLFAG/xCQmgN\n",
       "wfhPpWlQMcZwRiEYghTRSupXKdI/jKbbaNRIOQq0QJGyzufOzu5cd3qXSEx4ybubuX3z29/Mm3nv\n",
       "7R7ATfl/ialjdOQVc9LAwTRVJKExzTFKQwbilC9lg5XWramvNODvHji/JJ5UIFCZo+pVt+VBfUIK\n",
       "unbxCqEn+qAX//atz/BOPTNJ5jNFUnxVc4zScL6jHa8ZWbR4KxRWOf01sCM1VP6PP/rcK98Yx9ZR\n",
       "90sIbMmTqt5ARx7UGV01BV2q8JhDO+FD/NNOX4dpmUmyUwzYP6I5Rmko3TXQALCqAlqcg/Derrzo\n",
       "Cx610GEJWsxTLZ7rEVPRi1rJPKhzumoKulQjDu2El9BnuMHXYVpmTomlqeLNao1rhhWVYUzaj9Wo\n",
       "V52EHufk8IJEhv2X9AL+bGW9Hs/1w6petdWbO3WbrpqCLtV4h9BOspMK23wdpmUm7S2TKl7M/Zbe\n",
       "GKVhQNr4R1MAP3bAoPhlzygJcb6bqciqxV/LWXfQY3CHqrfdGs6duk1XTUGXqlEqtBPiH2zYsBl8\n",
       "HaZl5pTZTHHJErD0ahal4WyptxrpSROmiL2TuEzOoe9mClgp/PU5605xDwi2KHqx3sT13KnbdNUU\n",
       "dKnCc0I7AS41Nv7s7zAtM6fUM0WR9GLEqtAZojasl3ooU2x8EcXBWrEbNQP1nktymqh1XS/sUPSa\n",
       "q1ov5E7dpqumoEsV3hOKPPEwwFoNh+mYOWUHU7SXawutLp0hasMdUqoYOXzgF+wm+zgU6GED1FyT\n",
       "ww5BeHIblldJUJNwWO9ZWHUtd+o2XTUFXarwjlDkibvAaNFwmG1WSWPJ26N1i2kV013W31TrGXIL\n",
       "U4BjEMMxOURPQsaLbrCYwQyFZMAG4RUIin9nURIPlvLrEbvmWiCBeW7QKteRFMEZhyq8vXgpHB2d\n",
       "EDqThTq15XSZnU3BZy1cVGGGUOSJYoip92jotUfhk6e5w2yzBA0WaC4xMucZt5vBBEMY2r5sBRt9\n",
       "gSkYY6hAbYDQ46TcMhTF1DlaiDFDB/lxDrTxVyx9aCejW8bQ/gsN8+vFNHfMgnuXOcG8NxggySiY\n",
       "4rNzFxMlFY77kB4a2AaVKDxlh2bT8VBntpwus+MU/NbCRRWqhSJPxLqKFTvnTN1T0B01oyZ3GDcr\n",
       "TFBihUkI4nRfNG6SYsg4UNcVWmCGtrsdVnC+LIFr4yJKstx7r0GKyA3FapRzILGqaLvGr3KHlZMT\n",
       "Ri5MA2h3gnlv0Eo8FJjQYe5eTVkZKdezQrPpeKgzW06X2dkUfNbCRdXlMKNlvuLhZ82WDHyXrhUO\n",
       "42Zz99BYUpyGQnzbc/j4zgM4OCtjxpsA7mEI05nCWw9m/sS1cZHfAw03dMl06bkGHeWCMWdAi5GQ\n",
       "GE3yVc0qR0mc2SuHxJXkSPWT9ZHKRtIrmprJNFvgC52Nuk3XTcFnLVxUXSER1j6EtsGKOXtjB/HU\n",
       "cQvga2x3fFeTcBgxQ9LXTOvcc1VwAm+BVTiz/QZxHMFn7kL1ErvJC0wNvOADl2WSJv8wHJuVGQoq\n",
       "Akh6rmlGd4zbadcgJ/6Qa1VtbBE8BnHpFWthE3Qg8Lqhy9MbbMMhNyVBG5OgbtN1UfCshQESoIsq\n",
       "nBCKPbEbjR6q7CpOkpeNuFVFX9wcjw4tFA7b3Uur4RIaoyoPf0bq1UTafn0CX/zgLUXX4/VcNyaR\n",
       "JMGbfDjSAjcUVASQ87kmdJspFeWbr7wb/r5WdpiN7UgT4YE3zU2n+QS9Zb38A+6FF2PP4bdE7XKS\n",
       "0aVu03VR8KwFwRKALqqush4CaMm3HIKSKkIZt1IhUlgch469wmEB4pl5ZoS+Zt2HSiN8kTx+mLDQ\n",
       "7bC5VEssVBTUWNZFiWQ5/xBpwTYUVAQQl+XWokXb8N6POBJOd2L8CXA5jGM700R8tXU6xSYoI9AY\n",
       "2evuWdZ19NRgoZjbLicZXeo2XRcFz1oQLEeKlKnCVqHYE3G87ktRHoqQKL4UhcpQf2Pj88hhm84K\n",
       "hxEzOFmWGGFPKLiGQrPCW6AUHmhsbEzfOdORBFLOtAkaOYyLoAJy7nXmZsVv7dr4M5QI07L32nOj\n",
       "nv3dU+9kqMqvpphMhYPQHKStuqCRpCcseL9wGI0USYjTKIOCXCX2VQ3Oq2n4nRRLZ0QO428rJ+8w\n",
       "QcUG8shHeTgMT1CF0JO9154b9bwdRqlG00K5J8LDyJvdUdiYQq2pM2EJdRj0uBw2z4SQBeE3IHwd\n",
       "wqdxY3AMQui0FeBzEKpPiXfeO13/jOiS5FTUf6+wONKSu8PoBA3Nv1cmCy1Tz9NhlCr8BUK5J4IN\n",
       "cAoWfIDqUNSq74I/UIQPvl4BBSA5rNhKwjFreuga7Bute6QNUMP4+PxP6KQZa/D1v/ufsVPDeqb8\n",
       "5vtG01osORVwArmkQBEmX25doYuPJqhACCez9SYBLVPP5gjNtaBUyenh2um24SnyfZTDHO+iT8lW\n",
       "cU8DoiiHyazSVPMWBcineYOqEJom6N1AiVUJPdLnfh2V0sK4z9O4KTdG4npmXZ7GTfmP5F9/pit1\n",
       "Rjd1eAAAAABJRU5ErkJggg==\n",
       "\" style=\"display:inline;vertical-align:middle;\" /></a><br>(see <a class=\"ProveItLink\" href=\"../__pv_it/f40b3c5e512ea52a0af31ce890c86796023f33310/dependencies.ipynb\">dependencies</a>)<br>"
      ],
      "text/plain": [
       "multNegAny: forall_{m, n in Naturals} [forall_{A, B, C in Complexes} ((A_1 *  ...  * A_m * (-B) * C_1 *  ...  * C_n) = (-(A_1 *  ...  * A_m * B * C_1 *  ...  * C_n)))]"
      ]
     },
     "execution_count": 2,
     "metadata": {},
     "output_type": "execute_result"
    }
   ],
   "source": [
    "%proving multNegAny presuming []"
   ]
  },
  {
   "cell_type": "code",
   "execution_count": null,
   "metadata": {},
   "outputs": [],
   "source": []
  }
 ],
 "metadata": {
  "kernelspec": {
   "display_name": "Python 3",
   "language": "python",
   "name": "python3"
  }
 },
 "nbformat": 4,
 "nbformat_minor": 0
}
