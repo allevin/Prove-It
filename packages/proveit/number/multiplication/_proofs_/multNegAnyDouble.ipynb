{
 "cells": [
  {
   "cell_type": "markdown",
   "metadata": {},
   "source": [
    "Proof of <a class=\"ProveItLink\" href=\"../../../_context_.ipynb\">proveit</a>.<a class=\"ProveItLink\" href=\"../../_context_.ipynb\">number</a>.<a class=\"ProveItLink\" href=\"../_context_.ipynb\">multiplication</a>.<a class=\"ProveItLink\" href=\"../_theorems_.ipynb#multNegAnyDouble\">multNegAnyDouble</a> theorem\n",
    "========"
   ]
  },
  {
   "cell_type": "code",
   "execution_count": 1,
   "metadata": {},
   "outputs": [],
   "source": [
    "import proveit\n",
    "context = proveit.Context('..') # the theorem's context is in the parent directory"
   ]
  },
  {
   "cell_type": "code",
   "execution_count": 2,
   "metadata": {},
   "outputs": [
    {
     "name": "stdout",
     "output_type": "stream",
     "text": [
      "Beginning proof of multNegAnyDouble\n",
      "Recorded 'presuming' information\n",
      "Presuming previous theorems (applied transitively).\n"
     ]
    },
    {
     "data": {
      "text/html": [
       "<strong id=\"multNegAnyDouble\">multNegAnyDouble:</strong> <a class=\"ProveItLink\" href=\"../__pv_it/c02f8465971e02a12936a77e60815911b2fed62d0/expr.ipynb\"><img src=\"data:image/png;base64,iVBORw0KGgoAAAANSUhEUgAAA2AAAAAXBAMAAACfczFzAAAAMFBMVEX///8QEBC6urrMzMxUVFRm\n",
       "ZmZERETc3NwyMjKqqqp2dnaIiIiYmJgiIiLu7u4AAAAU9Wx4AAAAAXRSTlMAQObYZgAACANJREFU\n",
       "aN7tWWtsFFUUPt3pstt9tRVTJDHuKipGQrokCAlGu9EGSAhpoxYNiBTU4iuyP4gQC3SDikCQriEY\n",
       "/yCbBgVjDKsIQRtkeUrwVZ4/jKbTaNQIlNIHUAXG+5qZe+excynER8JJTjtz9+53zznfveecmQW4\n",
       "If8vUWUm7XpNvWpgX56qOIJEGZREqMm6wFpkrzhhtnZzer8E/F2d56ZEUgbCXocpY4oY4iCSnnEL\n",
       "y86LJKgeOgod+P5rj6+2yU0TZDxTcQRJ9E9JhM6cC6wu+7Xa2ucS4E/yfHWuSZ+u+ssbfezFr2J7\n",
       "FlD6MYKAwghIFTHEQRw9i9T1105e7rKwrIHwKNM2+BDfrvUkTGqaIGttX2B3W/vlAEJaygXWkCoU\n",
       "516ADDe0Fe/y6j4JdHRsfBpjKQMiCpWgWsQQB3H2rKQRYE7CZWFZA4NM2+AV9DfQ6EmY1DRewnmq\n",
       "4gjettplyYyodTjDmicAHSQFBekw7yYOTbDHO7i9+G8ruzsMAgqT9iKGOGVEZ89qkMk1KZeFZQ2M\n",
       "5Ki2kV3kz3oSJjVN2FcqVXEEB3OrJoewWutxhjXZu4C8QGmoyxzaOEBSnOfWKtPq8b8Z7LYLBBQm\n",
       "txUxxEFcPNudBvg+57KwrIGxCqptENm8aNFS8CRMahov9zAVR3ADU6JJdTDhjvgVZ1hDhiEPoiiq\n",
       "w8ydFL9Avuu5tUq0NP73uY6UFVBYOcwUMcSpNXP2bC7SI6rLwrIGwvNU2wDONzX94E2Y1DReZjIV\n",
       "R1Be7QtqCRmAlmRrrzOsIeUpCKxAoQjVm/tSMm1vPC8WjHoehYk/V8QQu7h5hnL24pfdFpY1EN6n\n",
       "iph4GGC+BGEy03hZw1QcQfu43q8VZACehTmXnGHN6jCtfTbGKjP6hVI5bIA6ERsjUJQnVmJ5naS4\n",
       "QhFD7OLimdLfvv1H14VlDYR3qSIm7oRYRoIwY1o1zRzvDDRMph3MwcqTzfW2r9zEVBwB2ANhnJ0V\n",
       "ehK67WvFaPaIVMDuAeGDbrBCouoQO45zV4X+edDovibwYHacVrGPxAgUhc9KCd4QD0DDM6snuNCe\n",
       "SRn3xsIeEbAYCLdTRUxEIey8K5U3HoFPntIJM6bFc3pAw8TD229VfXGGcHr19Fns271UA2/9hCXB\n",
       "RiA2iFrVRlAeI41XzKGtOktbsrNZqBayAp0rQOLqsBstrfTon0dpFRkN903nwew4naQs+dK6rz0M\n",
       "Rci4Cc4QL0DdM5snuNCGLxn3+sJeEbAYCDVUERPhQtRh15xqeBIOhtSQqhOmT/PHqVH+FPhwgS+7\n",
       "rNKtvr2hoExQldUiYZyQu9JzlXHcJZdRc6vsK3dR/LrKSrFLpnN7LdWB9F+UsCpywsgHIwA28GB2\n",
       "nFbCTokEYbohHoCGZ1ZPUKElrSy7Nxb2iIDFQI6wWGa8Q4s2b1k3fJOvNwnTp43dSDNHNA9+vORZ\n",
       "fHTHAewY3a1GmgHuZQgjmZpC7t5+sPs33CWXeTzalA3v7m5x6JJ5SAXv27osn8zCJCWGUnp8XWU3\n",
       "yTib7ClxNjm+J0m0srwhHoCGZ7bHMJQCSgftC3tEwGIglxJh/kNoC8wasym8AzuLrwAO4Dn71jWb\n",
       "hJFpSI620B73bBIOYfrn4Mr2M0Rw9h61DiUstsBLTE3BdzEc8M4Lorl4jRjof9guy+L8loYDn36R\n",
       "an9aBOEfwwIXsc1GEY6R879TjK+JbaaSLpxuwxnmLkGIWEv5sAJniA1QFQF1z8xIco9hLRnbwl4R\n",
       "sBgIh6hiJtajb56uLkRT5EUjvkrS1zT7QqcnmYSt76D9bznNStXtn5FeNZ43Xp3Al9/Z2lBLY7oQ\n",
       "x3PBoGAuSeMkb5sFIjAZB0zLxvZeguOwXwThH8PGrQWhIV968b3At/UiYQY2VzACnavUJSd0d53b\n",
       "ejygG2IDJFgcoO6ZGUnzMUy5RbUt7BkB0UCurYcSFPJlO6E8SSzGV2mFNBb7ILfJJKyEMDNODdIX\n",
       "q1tQW4Q/JI8eKkyyEjaWqTBSrqGmoE7T+gRzq/S8bRYITbuCWnRNm3gqA308Sxykf0F/7VTS5ge5\n",
       "x5+D8cuPg0iYgc0XjMhc7USauUsRgtaHKF+HaUjSCkiwTEDDMzOSVGZotbUr+a6OLewVAYuBsJwq\n",
       "ZiKC4z4N1aEgadinoVSpnGxqehERtuSMSRiZBkcq4/3s6QT3T8gjTH8FPNDU1JS/YxTXE6f5kikW\n",
       "UPCuYcaDVV6pgFUuIMC9WLLKBjl84q7bq6kRQwPUI+lRpTuuxkDz1RST4bADWnz0qsEXS9ET5rvf\n",
       "JIxmiRREaBpAaa0ac1WHa2oefiHRPWXWMP1tJbe1ckMwtyQZbgz0JJxBdPnoGgjD7lIEO8rhoQHq\n",
       "kbw+hFEDQ3mqOhOBHsTkwRAsTqOr4aNgCiUMDlsIG6eCokHgTQhcgcAJfNE1CAo6baV45ysz0/ob\n",
       "7iI/r1yVuS1oN0Qacy4/r7CMkhk6YdRdjBBz/XnlagFJJK8XYdRA+B2o6kz4GuEYTNiMelB0NbMA\n",
       "v6I97VuRgFIQCItqKdijjUT99JaBhqlZ3FjHPj53HJ202Dz8+R8nnzEOw0KmpnB3gS0DeSl774Zo\n",
       "Unkh7QhipE2HNPlq6ywpfOouRnBACaSGBEgi6UmEZASogeQETeGPji56efwA1TDuPfQxcVbEdgEh\n",
       "VMNEi/JUxZFrFgeQbdcMus0FpRn+IxJOUt111Po6Ki31/Ym2ixvy70hEblrBdnFD/iH5G/iLLzXx\n",
       "muYJAAAAAElFTkSuQmCC\n",
       "\" style=\"display:inline;vertical-align:middle;\" /></a><br>(see <a class=\"ProveItLink\" href=\"../__pv_it/c02f8465971e02a12936a77e60815911b2fed62d0/dependencies.ipynb\">dependencies</a>)<br>"
      ],
      "text/plain": [
       "multNegAnyDouble: forall_{m, n in Naturals} [forall_{A, B, C in Complexes} ((-(A_1 *  ...  * A_m * (-B) * C_1 *  ...  * C_n)) = (A_1 *  ...  * A_m * B * C_1 *  ...  * C_n))]"
      ]
     },
     "execution_count": 2,
     "metadata": {},
     "output_type": "execute_result"
    }
   ],
   "source": [
    "%proving multNegAnyDouble presuming []"
   ]
  },
  {
   "cell_type": "code",
   "execution_count": null,
   "metadata": {},
   "outputs": [],
   "source": []
  }
 ],
 "metadata": {
  "kernelspec": {
   "display_name": "Python 3",
   "language": "python",
   "name": "python3"
  }
 },
 "nbformat": 4,
 "nbformat_minor": 0
}
