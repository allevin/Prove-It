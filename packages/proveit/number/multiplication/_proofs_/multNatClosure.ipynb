{
 "cells": [
  {
   "cell_type": "markdown",
   "metadata": {},
   "source": [
    "Proof of <a class=\"ProveItLink\" href=\"../../../_context_.ipynb\">proveit</a>.<a class=\"ProveItLink\" href=\"../../_context_.ipynb\">number</a>.<a class=\"ProveItLink\" href=\"../_context_.ipynb\">multiplication</a>.<a class=\"ProveItLink\" href=\"../_theorems_.ipynb#multNatClosure\">multNatClosure</a> theorem\n",
    "========"
   ]
  },
  {
   "cell_type": "code",
   "execution_count": 1,
   "metadata": {},
   "outputs": [],
   "source": [
    "import proveit\n",
    "context = proveit.Context('..') # the theorem's context is in the parent directory"
   ]
  },
  {
   "cell_type": "code",
   "execution_count": 2,
   "metadata": {},
   "outputs": [
    {
     "name": "stdout",
     "output_type": "stream",
     "text": [
      "Beginning proof of multNatClosure\n",
      "Recorded 'presuming' information\n",
      "Presuming previous theorems (applied transitively).\n"
     ]
    },
    {
     "data": {
      "text/html": [
       "<strong id=\"multNatClosure\">multNatClosure:</strong> <a class=\"ProveItLink\" href=\"../__pv_it/0c094dc92ea1b027a21ea3a73aab654621bab2860/expr.ipynb\"><img src=\"data:image/png;base64,iVBORw0KGgoAAAANSUhEUgAAAUoAAAAVBAMAAADSqLqgAAAAMFBMVEX///8QEBC6urrMzMxUVFRm\n",
       "ZmZERETc3NwyMjKqqqp2dnaIiIiYmJgiIiLu7u4AAAAU9Wx4AAAAAXRSTlMAQObYZgAABEZJREFU\n",
       "SMfVlm9oG2Ucx79JLklz/9puOBDBZihuILIrjjkFt7CCvhC2yBw4RQyKGcr+5EVZ9kZbfadoG0FB\n",
       "8E2QlSlCdzgsQzuN08lcYYbOF07ImsJwBV3arlulY9vj8+f+PEma5Nw7H/gdd/e7e36f+/094H+x\n",
       "qm212u/bgm0TtoXQFVkJaHp7wT8/3eIZPQmcnUaZnU+12khNGvxZu5PFzY7QZdwMSDlT9M+jVr3O\n",
       "HM2OIDpzEbvpxWf4gt0baU2psg/uqnayOOLvcvx6MEiVpKSr4QZtrLQF6KamOeVheoxnWlNy3eFO\n",
       "FjVbCAs4uR0w4KQsXZ1r0CoX6H4hGsYio2RuihZaU3IP7e1kMVQVwvx+nASjfI8sSFezTqRPVirc\n",
       "rcrG6gCjNHsYpX4sn38TbSjP5fP5cieLGx2h61SIVINAauW+O3KEhae2nnd9+Whqrkop8TqjxHI2\n",
       "+0c7yu5s9kCxk8kXHKHZs9RFkkEoh6zRa7KlNH/7oBdx69NIhlGOccoBYF87SsVCLMebTZsO874j\n",
       "1CfpKCnR7Mx0onwNL9+SLhM8zsKSoIwmpxjlJ5zyQZgN9bV1T1K7p+pShlOYE7l3s1nvrjWOAD9A\n",
       "I2lEnhNJUmumM8Wbeg++vyE33B52/NOvHgs7lX56sp5TGtBK0h5f7ynpmXGMe76kHXWSnz+7LOv1\n",
       "vZM7znhVd80RmCsIE+rHBKc0Vyn3ecE/X8CmZel2hJfS+krFrR4Ll823WSvglFrJkPwysaFW1aei\n",
       "MuUkLvGPvbgo6xMTWBNON1Eqi719rMM4lOuaKWdFLuzq7a1rWYJys+zLSLHfozSHqUp/8eGj2oQF\n",
       "ndnVH3/MlijnIrz7Ghto7Ur6AbOser681xF8uK12hXWYRIe2kFhbqw3RlnXmq29S377qRfyqTIlf\n",
       "Yl7EsW8H8PemkpHSU7zTQ7fGf5QoY4O8ZsdAa1fSlxNpQ3f33O+IyVBn/qmnZKEy4R4cj9IPNEjO\n",
       "PH0Lv+EntqmIc0mmVNk0OSsoP6YbvnUS3RZtBk8IClXd6VMmXuIRuR+jtqQ3M2ohdsLdc8yRQRbO\n",
       "Qyt1lDw5eTbOezfjT7GCJoX4X8NY4m+KTmROe/2TueZ5rxMhxCbbM+hHVwFPZrNZW7fi5y/5lLiP\n",
       "B5zmUapJ765HhHQTmhW7CFmqo1znZuOs154IuQOFEGIpdqQH77KRJZrskd1OyY+yt1hzeUdQ6iwi\n",
       "azGBoTAuC1/hge8kSj4OjgK/lpv03oTMCfHzrhxsTIYsLRNfSHoTEh99UKlrjGJCOhFYoN78WYWS\n",
       "ExS6lJdwAo7tC0167zewKOQ/Uw5BsfUMffPLVnPF9inDGVzAlmMwX2EDmR5SDZQz16H3LRYa9av9\n",
       "ufGv/vyGHYjyIRhW5I1c02Tx1hx8Sh+d5l39hGyr99agI3e7lFwLxdOrUTb+uFSsYFbitpC7XSda\n",
       "AVD7p6b/BdtITjcTCRhtAAAAAElFTkSuQmCC\n",
       "\" style=\"display:inline;vertical-align:middle;\" /></a><br>(see <a class=\"ProveItLink\" href=\"../__pv_it/0c094dc92ea1b027a21ea3a73aab654621bab2860/dependencies.ipynb\">dependencies</a>)<br>"
      ],
      "text/plain": [
       "multNatClosure: forall_{m in Naturals} [forall_{A in Naturals^{m}} ((A_1 *  ...  * A_m) in Naturals)]"
      ]
     },
     "execution_count": 2,
     "metadata": {},
     "output_type": "execute_result"
    }
   ],
   "source": [
    "%proving multNatClosure presuming []"
   ]
  },
  {
   "cell_type": "code",
   "execution_count": null,
   "metadata": {},
   "outputs": [],
   "source": []
  }
 ],
 "metadata": {
  "kernelspec": {
   "display_name": "Python 3",
   "language": "python",
   "name": "python3"
  }
 },
 "nbformat": 4,
 "nbformat_minor": 0
}
