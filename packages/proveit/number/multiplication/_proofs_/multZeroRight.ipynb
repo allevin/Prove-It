{
 "cells": [
  {
   "cell_type": "markdown",
   "metadata": {},
   "source": [
    "Proof of <a class=\"ProveItLink\" href=\"../../../_context_.ipynb\">proveit</a>.<a class=\"ProveItLink\" href=\"../../_context_.ipynb\">number</a>.<a class=\"ProveItLink\" href=\"../_context_.ipynb\">multiplication</a>.<a class=\"ProveItLink\" href=\"../_theorems_.ipynb#multZeroRight\">multZeroRight</a> theorem\n",
    "========"
   ]
  },
  {
   "cell_type": "code",
   "execution_count": 1,
   "metadata": {},
   "outputs": [],
   "source": [
    "import proveit\n",
    "context = proveit.Context('..') # the theorem's context is in the parent directory"
   ]
  },
  {
   "cell_type": "code",
   "execution_count": 2,
   "metadata": {},
   "outputs": [
    {
     "name": "stdout",
     "output_type": "stream",
     "text": [
      "Beginning proof of multZeroRight\n",
      "Recorded 'presuming' information\n",
      "Presuming previous theorems (applied transitively).\n"
     ]
    },
    {
     "data": {
      "text/html": [
       "<strong id=\"multZeroRight\">multZeroRight:</strong> <a class=\"ProveItLink\" href=\"../__pv_it/c0e65e141263f08e4752da274f44e31b9c3e05270/expr.ipynb\"><img src=\"data:image/png;base64,iVBORw0KGgoAAAANSUhEUgAAAJ8AAAAVBAMAAACqHiFtAAAAMFBMVEX///8QEBC6urrMzMxUVFRm\n",
       "ZmZERETc3NwyMjKqqqp2dnaIiIiYmJgiIiLu7u4AAAAU9Wx4AAAAAXRSTlMAQObYZgAAAhNJREFU\n",
       "OMutlD9oFEEUxr+7vZjL7t4QTGV3GEERxCvEQpBAAukCNoLcIcQgm8ZiC0nQIG5hIUHCgljnGpFw\n",
       "JCzkTtQQXSwVwoGSQhT2QFJEMUFQwcoZ31x293bmSJEHH8z8Zubtvj8zwFFb1G8xH5Ay9la9X+C2\n",
       "GLzXOLwglTRWa1UwUIEOr4jZksbhkmKtVGYfAA86PMcng9Nqf1ZAStkm8AJ4Bx0u8iQO+GqHuYiU\n",
       "so/AeRcd6LD9bH7+nibiM1Ip+wWM+Tjma/Fvx/mkcViVutu80+pGPviXnwxgXklvTeAJYFbj8BGJ\n",
       "1e3PuXbyZB1D/6ty7aGwB2l8CixVsu+LUzU5PE4yYe0PiT5h0cHJ/LDiDwmXYIXdXmpdDY2LkbEo\n",
       "5z9JDAVqg732QWzGvjJkga2w1C3k89M/InsBOJt2yEtNGexMy+yHGYcJzDxxFxrjzYotEj36mH9O\n",
       "bjohhfuV+Iry/lh2ZcjXvwjb7sGz4zxN0WTOL4qF11vxV2+RbPcNrCjRwaucednG7uInPDN5Uc1L\n",
       "vQ6fkpbDG1iI75jPRpBpmySmBP0BLjuOE5wcjTedI+282m2E8StQbfKKF8u9j0OMbRGNMWzgq1go\n",
       "fItzmHNJCuugPx4zPRMFcdaoutiQ1K6TFNZAf7zzsrYGNiOGu9s3y/2eLwrQw2GwyXOYArelMlZQ\n",
       "J0KDE/0fkDK2rt7P8T/n6qim9KNF0QAAAABJRU5ErkJggg==\n",
       "\" style=\"display:inline;vertical-align:middle;\" /></a><br>(see <a class=\"ProveItLink\" href=\"../__pv_it/c0e65e141263f08e4752da274f44e31b9c3e05270/dependencies.ipynb\">dependencies</a>)<br>"
      ],
      "text/plain": [
       "multZeroRight: forall_{x in Complexes} ((x * 0) = 0)"
      ]
     },
     "execution_count": 2,
     "metadata": {},
     "output_type": "execute_result"
    }
   ],
   "source": [
    "%proving multZeroRight presuming []"
   ]
  },
  {
   "cell_type": "code",
   "execution_count": null,
   "metadata": {},
   "outputs": [],
   "source": []
  }
 ],
 "metadata": {
  "kernelspec": {
   "display_name": "Python 3",
   "language": "python",
   "name": "python3"
  }
 },
 "nbformat": 4,
 "nbformat_minor": 0
}
