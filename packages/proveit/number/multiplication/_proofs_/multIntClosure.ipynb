{
 "cells": [
  {
   "cell_type": "markdown",
   "metadata": {},
   "source": [
    "Proof of <a class=\"ProveItLink\" href=\"../../../_context_.ipynb\">proveit</a>.<a class=\"ProveItLink\" href=\"../../_context_.ipynb\">number</a>.<a class=\"ProveItLink\" href=\"../_context_.ipynb\">multiplication</a>.<a class=\"ProveItLink\" href=\"../_theorems_.ipynb#multIntClosure\">multIntClosure</a> theorem\n",
    "========"
   ]
  },
  {
   "cell_type": "code",
   "execution_count": 1,
   "metadata": {},
   "outputs": [],
   "source": [
    "import proveit\n",
    "context = proveit.Context('..') # the theorem's context is in the parent directory"
   ]
  },
  {
   "cell_type": "code",
   "execution_count": 2,
   "metadata": {},
   "outputs": [
    {
     "name": "stdout",
     "output_type": "stream",
     "text": [
      "Beginning proof of multIntClosure\n",
      "Recorded 'presuming' information\n",
      "Presuming previous theorems (applied transitively).\n"
     ]
    },
    {
     "data": {
      "text/html": [
       "<strong id=\"multIntClosure\">multIntClosure:</strong> <a class=\"ProveItLink\" href=\"../__pv_it/71ee816f319cefb709b4e63bed5af68d6003336c0/expr.ipynb\"><img src=\"data:image/png;base64,iVBORw0KGgoAAAANSUhEUgAAAUgAAAAVBAMAAADWXWqdAAAAMFBMVEX///8QEBC6urrMzMxUVFRm\n",
       "ZmZERETc3NwyMjKqqqp2dnaIiIiYmJgiIiLu7u4AAAAU9Wx4AAAAAXRSTlMAQObYZgAABC9JREFU\n",
       "SMfVll1oHFUUx/+72Y/s7J1JajU+SNsVxYp96AharagdGlHBrxXpQy3ionSrQss+lCz40axCQUXN\n",
       "ggi+FMLSEupDWBSD2FgXbaW0UpfqQxXSTEEkNJqmfhSUpuP9nLmz6eyOffPAuXf2nDN7f3POuXcG\n",
       "+D+I29WbP31/vL9ZJ5XKpnrMpbVAUrhyCLMfO4U2uz4R9T9GweSxzR7r9TlCmcyOx4TUA5/q8OVm\n",
       "l95c9XqL2xs4yEzvRUMa7HH73R7rsQAZZHhOPMZQYH9nCfe6qGWEvYEROmZL0ZDcN9JrwUNSWRG9\n",
       "dsxq64GkI/3pcRj1hrA3+POn69GQPMtbey24WiqVt73FeJChQGtQzPPvzpxmc8rFbtY/zN4AmahW\n",
       "X0MXyOPVarVXbpI1oaxO7TWXYzF2BL4oevudoLF2ZVxhpwm9WC7/1A1yoFze2Wsr0OJwpTJqj/0e\n",
       "C7Ij8AAfRwJG0vxW2inkMLCjG2TKRqbC0/V39L5pCaWyHc9eotOGnpAyUMmHfNRIfrFK0k4hb4ZV\n",
       "C99+95ZC/jpXQSYdzPHrxD/Sn7n2wPZi6I5EQSh9/kF8+Rdw52Oi065wKizIRIlAX27k8doOHk5V\n",
       "pJ1Cmsi3tAb+dEuLlCYx6WeSnqTT/PrJi9JvVox5l2yd3nxUbbiBglDgfB3rWdw+bj+/vJmtJTGr\n",
       "QH+v82KtmpkRGwfJ4m3KTiHzLVN73qm1Cy45kdYhp3GG3/XjBeXHva8iN4VrksVlkE+sWOEt+ZBn\n",
       "l59t1pCYVWAIss/RDk5a3wkFadXuoMnftm5/fsoGYcuSjXc1Ncg5cau51nOFHyjSadhqGyqTibpQ\n",
       "5FYuLIx6PmS0qMCjH3/uHHreL3eQ+YOiiLLc2LEZ+HV9y3SIIw5+Yk9+rUFmdhfENvMK8sVANtr0\n",
       "D3JFk6gubQnFWUpqepUQpOUPWsVkoPXVJfyAI9RwjJsfVf6sQ1NnDHI7g/yA8u75DAO2UcQ9AtIw\n",
       "Hg8gc8/wSqzGWFP4ce4c63GjnvlEHQJFodkHGbFXD0HyxmSDFZRXBWbna/iDHz/iCPpNfWhkKrtg\n",
       "PV1SRxAS7OvhEdyO/jruK5fLTWJnT54JIHEDrzbtIUf4MT6JPeHDvC3U8y4j5XmerUPyxmSDakdo\n",
       "galm3yDeopY3BPxeW272F4bKY0NFbmeQhFVhJaYwmsTPIpO46bAGeZJd7Qe+awt/8v0Wa2ldrpfq\n",
       "y754r0Yk7Hwpu1jwX4u5h+Xu1l6XDZX+RZrLbwzws4lCEq0nIauNTYvCn07ztOlyXOp/hhxFqklK\n",
       "9Gsi4mOQ2RVksoTvsWEC1nP0x610cDogZ/8EWXOhzv1HHvhopxP5qcbl5bFt8SBvgWn3vVSR74vl\n",
       "MocAMiBnPRd6LXb1B5tR6FXLQ13sjV6fKjN2vEVekXqVkrej7V+c+hebrUcxkzFqSwAAAABJRU5E\n",
       "rkJggg==\n",
       "\" style=\"display:inline;vertical-align:middle;\" /></a><br>(see <a class=\"ProveItLink\" href=\"../__pv_it/71ee816f319cefb709b4e63bed5af68d6003336c0/dependencies.ipynb\">dependencies</a>)<br>"
      ],
      "text/plain": [
       "multIntClosure: forall_{m in Naturals} [forall_{A in Integers^{m}} ((A_1 *  ...  * A_m) in Integers)]"
      ]
     },
     "execution_count": 2,
     "metadata": {},
     "output_type": "execute_result"
    }
   ],
   "source": [
    "%proving multIntClosure presuming []"
   ]
  },
  {
   "cell_type": "code",
   "execution_count": null,
   "metadata": {},
   "outputs": [],
   "source": []
  }
 ],
 "metadata": {
  "kernelspec": {
   "display_name": "Python 3",
   "language": "python",
   "name": "python3"
  }
 },
 "nbformat": 4,
 "nbformat_minor": 0
}
