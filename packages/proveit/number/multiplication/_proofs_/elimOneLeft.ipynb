{
 "cells": [
  {
   "cell_type": "markdown",
   "metadata": {},
   "source": [
    "Proof of <a class=\"ProveItLink\" href=\"../../../_context_.ipynb\">proveit</a>.<a class=\"ProveItLink\" href=\"../../_context_.ipynb\">number</a>.<a class=\"ProveItLink\" href=\"../_context_.ipynb\">multiplication</a>.<a class=\"ProveItLink\" href=\"../_theorems_.ipynb#elimOneLeft\">elimOneLeft</a> theorem\n",
    "========"
   ]
  },
  {
   "cell_type": "code",
   "execution_count": 1,
   "metadata": {},
   "outputs": [],
   "source": [
    "import proveit\n",
    "context = proveit.Context('..') # the theorem's context is in the parent directory"
   ]
  },
  {
   "cell_type": "code",
   "execution_count": 2,
   "metadata": {},
   "outputs": [
    {
     "name": "stdout",
     "output_type": "stream",
     "text": [
      "Beginning proof of elimOneLeft\n",
      "Recorded 'presuming' information\n",
      "Presuming previous theorems (applied transitively).\n"
     ]
    },
    {
     "data": {
      "text/html": [
       "<strong id=\"elimOneLeft\">elimOneLeft:</strong> <a class=\"ProveItLink\" href=\"../__pv_it/78a44c9682760db531482792738b3d7768085df50/expr.ipynb\"><img src=\"data:image/png;base64,iVBORw0KGgoAAAANSUhEUgAAAKEAAAAVBAMAAADcJJPmAAAAMFBMVEX///8QEBC6urrMzMxUVFRm\n",
       "ZmZERETc3NwyMjKqqqp2dnaIiIiYmJgiIiLu7u4AAAAU9Wx4AAAAAXRSTlMAQObYZgAAAkJJREFU\n",
       "OMtjYKA6eIBPkmkDBGMAHgXsGg4B8QUQ4zQOE02gmA3D3mDsGlgNGBhWghh9OEzsg2C+fAwTOXDo\n",
       "aGBgKANS7AnYpbk3gDGfiz+GiTwLsGs5BbQMqJh1AnZpxgcQzLAfw0Q+AexaHgItW15eXovDCxpQ\n",
       "jMVEhkzsWtiAjvuWlnYLh4lRUIxiYtWWyq3A0FiKppZ9tfvsaAYGrgAGBmcGhnQcJvZAMbKJfAt4\n",
       "7jACE8gMECeiAwRaQMxXDGcPyDIwcAKjRoWBrwHZmDddvtFQphAUQ03kA5FcDNwfOIFpRBHN9gUM\n",
       "+xkmA1MvMHx5GbgPwOzfGnqA2ewBcxeU/wmKoSa+B6VdPgYWcMqwx8gpbiCK+QMweRzghflpm/q7\n",
       "BzzVDAxa2E18CElkjBuwmcjAIA0zka8BlCtWO20x4AGGKoMy0OnsUDWSUIwa1/UGoKwL9nXsXRC4\n",
       "Bomaz0D3g33NkO4EDJ0HbowTwPlg3zmE3hwoRjaRp2A/AzeQewLNhce5PzDsA0qD4mQqMHiYQHFq\n",
       "hW7iUihGNnH+gUSGagaM1MP5h02AfQMk9UDD5TsDg21aWtoGJWWEMl0oDpVvhUUew7Ndr1aDOE1o\n",
       "eSh73ao9oPwOKpR4QA5gFmBmeAKSYnmNCEfGAgjGAvDkQgiw52rgYmABaWaOKmDYjVQc4CgSuDZg\n",
       "N3E13C87o9cx8CWBE/+1FAW00gwLeIHdQNTMArQYGI4oAiVQjAncsZvIUkCgygDFHjs2/3EbYNew\n",
       "mYEBAPzUnwTFOCb/AAAAAElFTkSuQmCC\n",
       "\" style=\"display:inline;vertical-align:middle;\" /></a><br>(see <a class=\"ProveItLink\" href=\"../__pv_it/78a44c9682760db531482792738b3d7768085df50/dependencies.ipynb\">dependencies</a>)<br>"
      ],
      "text/plain": [
       "elimOneLeft: forall_{x in Complexes} ((1 * x) = x)"
      ]
     },
     "execution_count": 2,
     "metadata": {},
     "output_type": "execute_result"
    }
   ],
   "source": [
    "%proving elimOneLeft presuming []"
   ]
  },
  {
   "cell_type": "code",
   "execution_count": null,
   "metadata": {},
   "outputs": [],
   "source": []
  }
 ],
 "metadata": {
  "kernelspec": {
   "display_name": "Python 3",
   "language": "python",
   "name": "python3"
  }
 },
 "nbformat": 4,
 "nbformat_minor": 0
}
