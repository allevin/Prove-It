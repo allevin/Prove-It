{
 "cells": [
  {
   "cell_type": "markdown",
   "metadata": {},
   "source": [
    "Proof of <a class=\"ProveItLink\" href=\"../../../_context_.ipynb\">proveit</a>.<a class=\"ProveItLink\" href=\"../../_context_.ipynb\">number</a>.<a class=\"ProveItLink\" href=\"../_context_.ipynb\">multiplication</a>.<a class=\"ProveItLink\" href=\"../_theorems_.ipynb#multNotEqZero\">multNotEqZero</a> theorem\n",
    "========"
   ]
  },
  {
   "cell_type": "code",
   "execution_count": 1,
   "metadata": {},
   "outputs": [],
   "source": [
    "import proveit\n",
    "context = proveit.Context('..') # the theorem's context is in the parent directory"
   ]
  },
  {
   "cell_type": "code",
   "execution_count": 2,
   "metadata": {},
   "outputs": [
    {
     "name": "stdout",
     "output_type": "stream",
     "text": [
      "Beginning proof of multNotEqZero\n",
      "Recorded 'presuming' information\n",
      "Presuming previous theorems (applied transitively).\n"
     ]
    },
    {
     "data": {
      "text/html": [
       "<strong id=\"multNotEqZero\">multNotEqZero:</strong> <a class=\"ProveItLink\" href=\"../__pv_it/48d49a405160551886323badd57f9fb038dc67ed0/expr.ipynb\"><img src=\"data:image/png;base64,iVBORw0KGgoAAAANSUhEUgAAAXIAAAAZCAMAAAAbvlUWAAAAPFBMVEX///8LCwsYGBgNDQ0oKCgQ\n",
       "EBC6urrMzMxUVFRmZmZERETc3NwyMjKqqqp2dnaIiIiYmJgiIiLu7u4AAACwKje0AAAAAXRSTlMA\n",
       "QObYZgAABIVJREFUaN7tmulypTgMRj0z7R3v7/+u4xWQjeEGqHRXV/QjJrd1P+BYliV3EHpmwjkn\n",
       "0Y99ZiTS0k9F3A/Hr5lkP8i/H7l/Abn/HWvUwLEYDerl+0wULZn4a3nuHZFvYWrNXeQPNW6RYHBs\n",
       "jxP0yzeaKXJ6HMTL7hfPjSl+m3dErtdJXPxd5A817li7EbyhDoG9e5+54nL4KdtHv4u/eEeBd0Qu\n",
       "RbsWtxPLQ40bZgwcWxIIwb2cVqaKVl8FucnfNAvwTttnixOubiN/qHHDsIdjDbwYk+HdxTRX9Pgy\n",
       "yPP6IEHuvRNyq2W2e+Hh6ow/0bixdy5wXKMKh/BmajtVFGN8UbDKA9/tv807F4lBJLtZolfIjzS+\n",
       "blzDsbxMoGgJgbxY0J0qaj7OAgXf1gW52Xtn5Cz7CfkE+ahBvlCuSW3zU2mTnouU307Xu4Vjed/4\n",
       "ZR6CPQq4m601UOxNbUuML9l+/Zd+sh653ntn5CT98Mv5NrJwHifbYO4PkY8aeCyuvF00c3yoIyXO\n",
       "U2V01UG8RITlylhG7LhDYALH7J2ypQl1NXO2T3L+s2zTuQHFg+yGT4O8Q968S/eZHs5MptIbznn8\n",
       "NyuQjg+k/aT77DU4DqKToFT4NHl6Ei65msqJs36gjMhUyfDOba3v1rzPq4qEdlu1Q+4/q2M6t15x\n",
       "rGb6OWAITRNL8y7IEyp3HAdGEOnT5NvY5PAT5J0GcSrgXkLme5MJcp9pO7VbhDFdebcv+0+Qs4Cj\n",
       "bTUdQI4/yjKdW694iXzpcnPbPu2IPCaE2sRZbojRLJa7ZY3YNb4sVTQimyLfNGoTIOtOv0qQqFBu\n",
       "eoycFuRmhzyKK56GfgliBcfoh2mcVy/Xmk49rZ46xR4NSCzcRfv3H5dNwCJR5SKxSyxx2yv1pLck\n",
       "TUlytQx2WJZG3JZOka8a62Zed/pVwnjrz/YhMiD3okS4MH1zLSwcY4Cq1p+XN5wh9+OVn4Q8UBzQ\n",
       "xHE5D/LaCmkHvCtyxcvH0udWKZZGpaaheo8caaTZFHnTyAGbOpQl57BNYo6c6S7KPb4on1rFtVVe\n",
       "LbREqJXSMfItXa9Xx4m+V+zRjEUiGQ8GUpb0mKKhSEwLtFURzCRgacrSg1OXy21hCnJpvZsi3zTi\n",
       "hyUJMiBBCGnBqkQzn9oZVl9drqmCYH7eCjkwhmQ+p99sdI58Tdfr1WGiP1CEaNJIzoM8HWtpwyj0\n",
       "bsjX+EtTkuoEGVA6kmEgymM6NnPkWwzr/DWbo2cnwbw5zuW1ocnhULvjqyahOcwd1dudMEQzNPyK\n",
       "X2zNCCLf6poa6akmTJcSII+N/Rw5TCv5RAgBCcrzWbIxkyIx1+Vi7OPPzpSs/i7kPRqk4Xu489J/\n",
       "9e6R5zdO9TEVGY8XpB1mlCuGLpG7klFszCwpS6wS8VLHLMPItI0zxpROS10inxze7vrZJfBXz+4H\n",
       "NMuXgnx/eHt1Xlxz+UXD/0RiJPwB8vbk8uXz8Y+Nya8E+eb9Z/zf5x3kSBo4frP1dSv51PvPQC77\n",
       "TZBz9NfaC8jf+DsWCbYiYuzfyjv9HQv7H1lxQVL9x/DEAAAAAElFTkSuQmCC\n",
       "\" style=\"display:inline;vertical-align:middle;\" /></a><br>(see <a class=\"ProveItLink\" href=\"../__pv_it/48d49a405160551886323badd57f9fb038dc67ed0/dependencies.ipynb\">dependencies</a>)<br>"
      ],
      "text/plain": [
       "multNotEqZero: forall_{m in Naturals} [forall_{A in Complexes - {0}^{m}} ((A_1 *  ...  * A_m) != 0)]"
      ]
     },
     "execution_count": 2,
     "metadata": {},
     "output_type": "execute_result"
    }
   ],
   "source": [
    "%proving multNotEqZero presuming []"
   ]
  },
  {
   "cell_type": "code",
   "execution_count": null,
   "metadata": {},
   "outputs": [],
   "source": []
  }
 ],
 "metadata": {
  "kernelspec": {
   "display_name": "Python 3",
   "language": "python",
   "name": "python3"
  }
 },
 "nbformat": 4,
 "nbformat_minor": 0
}
