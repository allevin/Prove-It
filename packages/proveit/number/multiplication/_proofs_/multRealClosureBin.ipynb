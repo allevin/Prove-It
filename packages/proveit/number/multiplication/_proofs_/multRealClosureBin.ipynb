{
 "cells": [
  {
   "cell_type": "markdown",
   "metadata": {},
   "source": [
    "Proof of <a class=\"ProveItLink\" href=\"../../../_context_.ipynb\">proveit</a>.<a class=\"ProveItLink\" href=\"../../_context_.ipynb\">number</a>.<a class=\"ProveItLink\" href=\"../_context_.ipynb\">multiplication</a>.<a class=\"ProveItLink\" href=\"../_theorems_.ipynb#multRealClosureBin\">multRealClosureBin</a> theorem\n",
    "========"
   ]
  },
  {
   "cell_type": "code",
   "execution_count": 1,
   "metadata": {},
   "outputs": [],
   "source": [
    "import proveit\n",
    "context = proveit.Context('..') # the theorem's context is in the parent directory"
   ]
  },
  {
   "cell_type": "code",
   "execution_count": 2,
   "metadata": {},
   "outputs": [
    {
     "name": "stdout",
     "output_type": "stream",
     "text": [
      "Beginning proof of multRealClosureBin\n",
      "Recorded 'presuming' information\n",
      "Presuming previous theorems (applied transitively).\n"
     ]
    },
    {
     "data": {
      "text/html": [
       "<strong id=\"multRealClosureBin\">multRealClosureBin:</strong> <a class=\"ProveItLink\" href=\"../__pv_it/c7ed1eacdd929eaf81574cc20a5db3342a71f4270/expr.ipynb\"><img src=\"data:image/png;base64,iVBORw0KGgoAAAANSUhEUgAAAKsAAAAWBAMAAABNknGBAAAAMFBMVEX///8QEBC6urrMzMxUVFRm\n",
       "ZmZERETc3NwyMjKqqqp2dnaIiIiYmJgiIiLu7u4AAAAU9Wx4AAAAAXRSTlMAQObYZgAAArlJREFU\n",
       "OMu1VUtoE1EUvUnmk8xMJuLC36pFRTelWYQiRWn8LIS4CEpd2ILBQrKROkJrCyJmIVJR4ywUsjMI\n",
       "oiKGoX4QFRl0UyyEIIgfCIxQdGVTXMSFWnx33pvJZJqMG71wXuad3BzenHvvC8D/CevvKWGDwh+v\n",
       "euQjX8eHxUDZFIMn1L3kd3yyk1xonZrbZFD+HhKlQNlSl4xomixFH5mbgqGyZvNnyFbMBanKBkVH\n",
       "JHSyvPHLToPwNWfzUWIurwfJhiyKjhhE4jNz5GmjUWSyUjJn88qdmZlzgR7sZOiIB7gI9Di7au3T\n",
       "2rLIt/L5T4GyxxjEzK2NLnnh+SEAKYuP4qTHBA5NQH4/QMFtpbkuslcY+jVhxe2EFiSSELNfXdA8\n",
       "sgMLZIf8NlDbFb3NPst3Ry873HoK8RfwdmmXCWKrEKpAeB3uv7RLdrrxAX1BPg6y6X5xCU/yeNSU\n",
       "JahmGfedgluBOPaD+pssfBESWYjYp+9vNNySbRewlMjLZrxd5h8ET3YsW0S2VuuUTeSgif2vbiBL\n",
       "PAuDJpNNeRqM35pmsmoR+elnE3j6n48sBU+Jsi9Z8maK8wbcdEedtO1xi5nwzdu3pRfMBCjsI9rv\n",
       "xVVUqyvpKFDZwxWWfJKiqcPBmDOupF5bSHPar86ZHtkUl2T8DTLeXDaCl4NgKPVhW5Y/8NFbRoKo\n",
       "GXsnORyn82mnwdS3HllJLzA+RAqR6JPRlFCSz+3J5/OGLJ197SQPUIiZ+aF5t8Ey43gx9Nmb2SPu\n",
       "VTMBF6/plFeIYU1LqJGGS0DcXKImxIYdH0MaxdpgwwvXrzaK3Xgy8yO7rVktDmXgNOpt1fFWqVCs\n",
       "jfs95tLlw2OL4zBihscqoJ6wx6G6dNQKuBhtJ4rdVf08LalEvO2gpxj8wWndZX18pEeaaFD442EP\n",
       "D3y88u/+If8AGWnBNGGAmSsAAAAASUVORK5CYII=\n",
       "\" style=\"display:inline;vertical-align:middle;\" /></a><br>(see <a class=\"ProveItLink\" href=\"../__pv_it/c7ed1eacdd929eaf81574cc20a5db3342a71f4270/dependencies.ipynb\">dependencies</a>)<br>"
      ],
      "text/plain": [
       "multRealClosureBin: forall_{a, b in Reals} ((a * b) in Reals)"
      ]
     },
     "execution_count": 2,
     "metadata": {},
     "output_type": "execute_result"
    }
   ],
   "source": [
    "%proving multRealClosureBin presuming []"
   ]
  },
  {
   "cell_type": "code",
   "execution_count": null,
   "metadata": {},
   "outputs": [],
   "source": []
  }
 ],
 "metadata": {
  "kernelspec": {
   "display_name": "Python 3",
   "language": "python",
   "name": "python3"
  }
 },
 "nbformat": 4,
 "nbformat_minor": 0
}
