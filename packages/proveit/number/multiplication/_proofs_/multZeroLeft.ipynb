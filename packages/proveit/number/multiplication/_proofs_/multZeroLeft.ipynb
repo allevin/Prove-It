{
 "cells": [
  {
   "cell_type": "markdown",
   "metadata": {},
   "source": [
    "Proof of <a class=\"ProveItLink\" href=\"../../../_context_.ipynb\">proveit</a>.<a class=\"ProveItLink\" href=\"../../_context_.ipynb\">number</a>.<a class=\"ProveItLink\" href=\"../_context_.ipynb\">multiplication</a>.<a class=\"ProveItLink\" href=\"../_theorems_.ipynb#multZeroLeft\">multZeroLeft</a> theorem\n",
    "========"
   ]
  },
  {
   "cell_type": "code",
   "execution_count": 1,
   "metadata": {},
   "outputs": [],
   "source": [
    "import proveit\n",
    "context = proveit.Context('..') # the theorem's context is in the parent directory"
   ]
  },
  {
   "cell_type": "code",
   "execution_count": 2,
   "metadata": {},
   "outputs": [
    {
     "name": "stdout",
     "output_type": "stream",
     "text": [
      "Beginning proof of multZeroLeft\n",
      "Recorded 'presuming' information\n",
      "Presuming previous theorems (applied transitively).\n"
     ]
    },
    {
     "data": {
      "text/html": [
       "<strong id=\"multZeroLeft\">multZeroLeft:</strong> <a class=\"ProveItLink\" href=\"../__pv_it/7534f30e047d9f43a4a3504e95c32f524cd1081a0/expr.ipynb\"><img src=\"data:image/png;base64,iVBORw0KGgoAAAANSUhEUgAAAJ8AAAAVBAMAAACqHiFtAAAAMFBMVEX///8QEBC6urrMzMxUVFRm\n",
       "ZmZERETc3NwyMjKqqqp2dnaIiIiYmJgiIiLu7u4AAAAU9Wx4AAAAAXRSTlMAQObYZgAAAklJREFU\n",
       "OMtjYKA2eIBPkmkDBGOAQ9jVg4QvgBincRhoAsFPdwejSbAaoCvli95qABZeCeL14TCwD4IvMbxF\n",
       "N6ABXSmvAt9lsHAZkMOegN087g1gzH2BgRvdgFPoavcyMOwAC3MAA5F1AnYDGR+AMa8DA9N3NKmH\n",
       "6GqvMDDoF4CEeZaXl9fi8LEGBPMHMDD/RJNiQ3fDVwYG+wlg4W9pabdwGBgFwfULGJh/w8TYV7vP\n",
       "jmZg4ApAVcr+C2jgBrCwMwNDOg4DeyAYZOAvmNgrhrMHZBkYOMGBGtEBAi0wAxeAhVUY+FBC/E2X\n",
       "bzSUKQTBMAP5QGl2AcN+hsnA1CmAxYULwMK8DNwHYGlpa+gBZrMHzF1Q/icIhnn5/QVwRnADSTF/\n",
       "wOplkDD3AV5Ybtmm/u4BTzUDgxaqgaBI+QOKWUjqksZmIDhSDoCF+RpA+WG10xYDHlBAKwP9ww5V\n",
       "JAnBwGTDiUg27J8Z+GBejr0LAtegyWZ+AUQ43QkYaQ/cGCdwgCT2nUPYmgPBwITNdQEmdpz7A8M+\n",
       "YGprwEzYa6HCU4GKmUCxaYVu4FIovsnwEJb1OP+wCbBvwEw2DLwT+IShwozg4gToJ9u0tLQNSsoI\n",
       "RbpQ/HS1M7wMyF63ag+Q5lBALxyithhAhXlAccIswMzwBCTB8hoRhowFEIwFPGTAL2zP1cDFwALS\n",
       "yxxVwLAbKsqzAIKxgNUM+IWf7Yxex8CXBM4K11IU0IovTMDXwECMMBcwDFEESqAYA7BgDwgcwkjp\n",
       "fwMEY4DN2NUDhQHuQqkPZFORqgAAAABJRU5ErkJggg==\n",
       "\" style=\"display:inline;vertical-align:middle;\" /></a><br>(see <a class=\"ProveItLink\" href=\"../__pv_it/7534f30e047d9f43a4a3504e95c32f524cd1081a0/dependencies.ipynb\">dependencies</a>)<br>"
      ],
      "text/plain": [
       "multZeroLeft: forall_{x in Complexes} ((0 * x) = 0)"
      ]
     },
     "execution_count": 2,
     "metadata": {},
     "output_type": "execute_result"
    }
   ],
   "source": [
    "%proving multZeroLeft presuming []"
   ]
  },
  {
   "cell_type": "code",
   "execution_count": null,
   "metadata": {},
   "outputs": [],
   "source": []
  }
 ],
 "metadata": {
  "kernelspec": {
   "display_name": "Python 3",
   "language": "python",
   "name": "python3"
  }
 },
 "nbformat": 4,
 "nbformat_minor": 0
}
