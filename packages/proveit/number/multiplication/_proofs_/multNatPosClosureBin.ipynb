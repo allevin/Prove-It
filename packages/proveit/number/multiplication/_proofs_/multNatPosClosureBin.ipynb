{
 "cells": [
  {
   "cell_type": "markdown",
   "metadata": {},
   "source": [
    "Proof of <a class=\"ProveItLink\" href=\"../../../_context_.ipynb\">proveit</a>.<a class=\"ProveItLink\" href=\"../../_context_.ipynb\">number</a>.<a class=\"ProveItLink\" href=\"../_context_.ipynb\">multiplication</a>.<a class=\"ProveItLink\" href=\"../_theorems_.ipynb#multNatPosClosureBin\">multNatPosClosureBin</a> theorem\n",
    "========"
   ]
  },
  {
   "cell_type": "code",
   "execution_count": 1,
   "metadata": {},
   "outputs": [],
   "source": [
    "import proveit\n",
    "context = proveit.Context('..') # the theorem's context is in the parent directory"
   ]
  },
  {
   "cell_type": "code",
   "execution_count": 2,
   "metadata": {},
   "outputs": [
    {
     "name": "stdout",
     "output_type": "stream",
     "text": [
      "Beginning proof of multNatPosClosureBin\n",
      "Recorded 'presuming' information\n",
      "Presuming previous theorems (applied transitively).\n"
     ]
    },
    {
     "data": {
      "text/html": [
       "<strong id=\"multNatPosClosureBin\">multNatPosClosureBin:</strong> <a class=\"ProveItLink\" href=\"../__pv_it/97a07c62593ec4f80208b8a3db66f398645531250/expr.ipynb\"><img src=\"data:image/png;base64,iVBORw0KGgoAAAANSUhEUgAAAMcAAAAbBAMAAAA614ahAAAAMFBMVEX///8QEBC6urrMzMxUVFRm\n",
       "ZmZERETc3NwyMjKqqqp2dnaIiIiYmJgiIiLu7u4AAAAU9Wx4AAAAAXRSTlMAQObYZgAAA0lJREFU\n",
       "SMe9Vl1IFFEUPjs7s+vuzI6+lBEYawYJPThR9EexklJKZUIZgT0MFhvRQ/tgKkRokbChqRBBENG+\n",
       "SPWybKA9KMVABNmCLkT0a02wD0KUgaSIsXTP/M84ru5CXbh37z17z/3u+fvuAPzDNlS4yuaCNUTS\n",
       "gwVpeGuLAilMbUYuCgTGSV+z6lEcti2Xc+H8IKEYQAYn6dUx/GUutmcryHDCLuMHowPAfP2gg7BE\n",
       "5zFOBlYHYZrJUOK0+wYKHTKftAugFOh4fEO8j4DmADrwluLqIJ6w5l9bW0R/Jewy+g2bAo/hLvis\n",
       "Xo5ZQ0JHcNjkEFI59E+Zuvh+a/q9AlIt11lBTpF7POzsvLqGuD/BM3scwqAS0QtqivdrvqR31M7I\n",
       "FpAp0uej0Y8rnWyppAaMCzqmfawypgtLjoxIAMPKvEOPFy3c84oWkBryRx3A+RWjbU7P4ZnkRKoc\n",
       "LhnCWRHmAO4qc+MQWmDCaQVEzcWIALAFeMMLVHxFkF4t+N0SOplEAi/+QIaNAJXKWjRBoInebmp2\n",
       "E60QsJIhGNZ+97SE2XWyFeQt6aVk+3GAT4oRGI7TAL+1nKAqpqe1wAuQ5a+ZmrMkrVgpZGb/TbzT\n",
       "aIvEiUlIMvXH6hudIPPAz+H6m6gIqT8aiFmnBMSbcFjC9+w0BQukP936U+bSDCRt7sKy8wyBfwkC\n",
       "v3izTJic7q6MBQQmfBYQASN2kAyXx86izUsjMoelze3dnbKDHFJqGfhFoHtu68I58JCEe2Vymw4S\n",
       "7DA1azAZ75A78O/8WFdshqtVWIITki/sIM8wowl+P9xvNkq8EU4agfyhE6UvrEZLb1MKYaQIerMX\n",
       "zfWluMw+FSQYbLKB1KChZE/7eNVFg3ezo5gz11UG7RXUDB1cjw+DqflIOVDGkCJZgkdgxAPRaDTF\n",
       "Cf7JL0TR3FqKR5S7FZNOK4EGNbucrc9IM9k3GUPuDElZ1RKoem6nPfTRa1daSOXlI37B4Fg5sl/u\n",
       "ioVI9dIxFYRL2l/fjBvVg90zbo0zqpRqTZ+BiES1JoBvI+vqNp0UjIY06Hd7sA/nBwkJ9rVa+UES\n",
       "E5fNXThcWS5nhfwgLx3fI7F8mwOJor69nA8il3/7RFEgjAz/p/0FEkXFtpeQLsAAAAAASUVORK5C\n",
       "YII=\n",
       "\" style=\"display:inline;vertical-align:middle;\" /></a><br>(see <a class=\"ProveItLink\" href=\"../__pv_it/97a07c62593ec4f80208b8a3db66f398645531250/dependencies.ipynb\">dependencies</a>)<br>"
      ],
      "text/plain": [
       "multNatPosClosureBin: forall_{a, b in NaturalsPos} ((a * b) in NaturalsPos)"
      ]
     },
     "execution_count": 2,
     "metadata": {},
     "output_type": "execute_result"
    }
   ],
   "source": [
    "%proving multNatPosClosureBin presuming []"
   ]
  },
  {
   "cell_type": "code",
   "execution_count": null,
   "metadata": {},
   "outputs": [],
   "source": []
  }
 ],
 "metadata": {
  "kernelspec": {
   "display_name": "Python 3",
   "language": "python",
   "name": "python3"
  }
 },
 "nbformat": 4,
 "nbformat_minor": 0
}
