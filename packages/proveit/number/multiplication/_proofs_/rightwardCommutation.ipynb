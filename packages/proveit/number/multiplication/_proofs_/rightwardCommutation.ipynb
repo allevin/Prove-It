{
 "cells": [
  {
   "cell_type": "markdown",
   "metadata": {},
   "source": [
    "Proof of <a class=\"ProveItLink\" href=\"../../../_context_.ipynb\">proveit</a>.<a class=\"ProveItLink\" href=\"../../_context_.ipynb\">number</a>.<a class=\"ProveItLink\" href=\"../_context_.ipynb\">multiplication</a>.<a class=\"ProveItLink\" href=\"../_theorems_.ipynb#rightwardCommutation\">rightwardCommutation</a> theorem\n",
    "========"
   ]
  },
  {
   "cell_type": "code",
   "execution_count": 1,
   "metadata": {},
   "outputs": [],
   "source": [
    "import proveit\n",
    "context = proveit.Context('..') # the theorem's context is in the parent directory"
   ]
  },
  {
   "cell_type": "code",
   "execution_count": 2,
   "metadata": {},
   "outputs": [
    {
     "name": "stdout",
     "output_type": "stream",
     "text": [
      "Beginning proof of rightwardCommutation\n",
      "Recorded 'presuming' information\n",
      "Presuming previous theorems (applied transitively).\n"
     ]
    },
    {
     "data": {
      "text/html": [
       "<strong id=\"rightwardCommutation\">rightwardCommutation:</strong> <a class=\"ProveItLink\" href=\"../__pv_it/2ddf73fef79fe9b7d7110884fe5c6b8be81c1f840/expr.ipynb\"><img src=\"data:image/png;base64,iVBORw0KGgoAAAANSUhEUgAABDoAAAAaBAMAAACk4CGvAAAAMFBMVEX///8QEBC6urrMzMxUVFRm\n",
       "ZmZERETc3NwyMjKqqqp2dnaIiIiYmJgiIiLu7u4AAAAU9Wx4AAAAAXRSTlMAQObYZgAACH1JREFU\n",
       "aN7tW31sFEUUf71rr/ext4eYIGqMFRBRQzgjYMUYG4hRYpAGIaGtmEPNYRTkTBpL/IAzQUFU2gQ1\n",
       "/iHhTEAkKpwCjVGQS2vRVKOXCISgB0dCjOGztrSVtvScr92d3Z27270jZwp9yUxn5t68md/b3868\n",
       "mQUA67IiFYFRuWbEkTpmRz056rFrSxohbYcdcgmZG6fpfxZPZtCOVpsYyMgD0UbZQRaEny2yw4//\n",
       "SCWBO52lwuTULVdoGvK0bjtaFUEhkFKLAX4BIAiQRtiB6xstssPbgv6406UAuNHytISy9krNY1qX\n",
       "La2oEEjJZW3RIKKEHS+jvDJkkR1E8eVSwPPFaSpULl2pieyK2tLqFAEpvVwqGkQnYQdeCSparEal\n",
       "+EWoKwW8sjRNhUYtw1dqIs0xW1onRUBKf9wYLhrEScIOaXtT0+uWzyydTU1NJTm6TGEJ9qdaLQzo\n",
       "S/2xgq97+T6epalE/phMpORLHctUWRhc03K1CICYpmcNBMCHt/yZv5tASQe/MBA4NQL0hcPHLLMj\n",
       "EA6viJWCHfUsneuG5jH5A6oTVe5/+Ab3Y3u0Z70y5u3Ja0KkhM1mLA2uanlrBUBM07MGAlwDsCuY\n",
       "r5tIiYdfIAicEDvmACyzzI7yILjsXIlVJwpkx7ssodVuV/6oyD0A3j6+4UII1Gftughr8sbsQiVs\n",
       "9l9Lg6taHrJ3L16PZa0CxDQ9ayBgZU1l/rdepMTDLxAETogdk0COgjw/bYkdjhr4G4ex2RmtX1ld\n",
       "wQLZMZYmKROBZhTXzaQEF0zyPM5+6wf3IANBlLak4Sa13A8VMXCGNHXDa6MpCcwOAOuac/ABdccf\n",
       "IwBCp5dvCiYQHgS+XsGerRdTMqDh4OtA5BxcBwInxA4/+NALPjXLU3K+uQC+ekplB0r7UP6Kame9\n",
       "PhrKxGbpY7JCd5ZumtyXATJBmDGPvhLmCES+TOKpJAR6GAiitBigVyk348y5MKmpG140VUlktlvp\n",
       "mnNwddlxdgmA0OlZmIIehJtoUuxZe7kvCxoN8DUQOQfXgcAJscOX8CPybBM9ojOLnoSD3rQ3rbFj\n",
       "HxxHubbWG/odaPEqq5z809bDce30S6qsfHbDvAapbt/sDm2hYU01BnYEesGJt8PNNJY27zHyOJxn\n",
       "auGhLjYZonQYHENKOUNCAU9SU9cLpyQwO6x0zTn4cE52sOnln4IeRKCX/Lg5Zy+mpG80wNdA5Bx8\n",
       "WMAOOTqdbY+mMPbp1efhl3gtz46/negBerQz/Nv6LvPTaJsCee+iBNz7IlTHtOM/qbLBZ6adGzyt\n",
       "MNahPhKlSV2Xb6QpMAS+f6Uqxo6skknAgWgbB+ISVAxzP6rsyGVBbDbZZqEr1uJ3liUpLEcUIGx6\n",
       "FuzoQASGNHZkFaZkvO7QwS8EBNtZYNlslPWjJDXcvdXXGmQlgA6s2b7pVZ4drka0NnCBab9+kOtI\n",
       "lNt6x/k0/BgHRwybvhPZC9KqAy0W7SC9CnAXzJGT+OpV11Sp3tosp6msG1y97gjvIVnNtEDg1ipY\n",
       "WbuOm0wPlKlRxIkEngPvnbTZAlHSHKAzm6cr1aIuA8l477Tcph0OhH+IuMeIXe3KKXV8/W3Nd88I\n",
       "4ecaXM4OQqJRKXyA+jkx5c9OS/hrpBpWCtJb4Xbv2VkcOzxLaDQhzwvjU7ZjcA/+8fSRDUDaLgJ8\n",
       "BxJeEhz3Iy9HjifIXVsHq0Id/nHiJhTXQtJT65fI5ZrW5GtLczsWSj50XBus1r0/ZJvEGbeHHoh5\n",
       "M7ujTi0inAsL1fKWEJy+gfcO6WiwQJQ0B/Bm83WlWtRl5hPtNpt2OBCePpA/iRixq105pdVtQ3AI\n",
       "fhDCzzE4Z8YEgp1ooQxfWuO9Z/U3EAgSeLgUcRL6tUNsK8cOuBmfUwFeCnnxkuZLYmfKqXQzKG2T\n",
       "wE22pbO4VwNeZerQ46dVxBS0IH3/K55iyNvi2m1okr5QZjuVpf1Hv1+6TscOsk3ijNtDfal3/hof\n",
       "8WmRwam92k7heOO9DWmdd8aZLRAlzQG82XxdqRZxGQoSjYfLqTbtcCBgyvijO03Y1a6cUuWZKFov\n",
       "tgnh5xicM2MCgRNmh4Sem4tEEo/BPeBuoaXbwHkkHH4BseO1czw78GOchE7ZwQq8BLriEr4F6YEG\n",
       "UNqqYZbGDiIVD2vVhbWMCpoImhBlIzQx2WzlnOPK9UnDY+WKV3OA7a7EZaKb9Ig9O2YQVrCXx9Ga\n",
       "8zYUi58DQW/SGYZ7cX49tMIaBy0tcsg1dO1wPMCzA8v7IP8DfhydlwUrEP0CZDVkbdXwYDgcjjsm\n",
       "qPu3D+1BSnU/IvWEiboZCZoQZWM02WEHBVGMdzQH2HcsdhnA5yAAYseOGYQV7GVBX6iyq6podmgg\n",
       "PufYccEHqyKVXYg7B720dP1EeISyAzqN7JgMlX1w4UXE8gD4E+RqDl+R0bbJcIooPR7HgQaWjvIW\n",
       "pSrVzkVEP4ODDNV95iYs+i/4ltiBQBTnHcUBhTiWukyOmn7YaM+OGYQV7GvQ6iGFYsWyQwNBgCjs\n",
       "KN8BDyUcIfgdZm6npfoE/IW46HirCsrBwI5zAONg1xexVRE/fITI5E9CxX3raBt0QjkhxYzt7Os1\n",
       "ijrqlGoHjlGd9REUuyoiaAI2M2V28Epzg5XldUcO3J/15v+UrjiggK5AXVZu/szQaM+OCYQl7JPB\n",
       "H3Q+HykSPweCAGnkfkqYSp+iuEN/k85OUWmoXr/nSBrRqCGGyFT56HPvOIdoGywA+Wmy0XwZnk20\n",
       "byf/0ohU8QXHE/iI86y6CAqaKJw4TSNLdguey4gEsRv07HBGzCXTdxYWSLToaERzibWhJcmL4g4Y\n",
       "lREvHDskQSkLO+QQTyNGpvvY/jbKi6uRHfklpf5/lo95Gkm67ah81KlXiThShwrrKGX/ML9z1K1X\n",
       "j/wHUSzJSqCFkZUAAAAASUVORK5CYII=\n",
       "\" style=\"display:inline;vertical-align:middle;\" /></a><br>(see <a class=\"ProveItLink\" href=\"../__pv_it/2ddf73fef79fe9b7d7110884fe5c6b8be81c1f840/dependencies.ipynb\">dependencies</a>)<br>"
      ],
      "text/plain": [
       "rightwardCommutation: forall_{l, m, n in Naturals} [forall_{(a, b, c, d) in Complexes^{l} * Complexes * Complexes^{m} * Complexes^{n}} ((a_1 *  ...  * a_l * b * c_1 *  ...  * c_m * d_1 *  ...  * d_n) = (a_1 *  ...  * a_l * c_1 *  ...  * c_m * b * d_1 *  ...  * d_n))]"
      ]
     },
     "execution_count": 2,
     "metadata": {},
     "output_type": "execute_result"
    }
   ],
   "source": [
    "%proving rightwardCommutation presuming []"
   ]
  },
  {
   "cell_type": "code",
   "execution_count": null,
   "metadata": {},
   "outputs": [],
   "source": []
  }
 ],
 "metadata": {
  "kernelspec": {
   "display_name": "Python 3",
   "language": "python",
   "name": "python3"
  }
 },
 "nbformat": 4,
 "nbformat_minor": 0
}
