{
 "cells": [
  {
   "cell_type": "markdown",
   "metadata": {},
   "source": [
    "Proof of <a class=\"ProveItLink\" href=\"../../../_context_.ipynb\">proveit</a>.<a class=\"ProveItLink\" href=\"../../_context_.ipynb\">number</a>.<a class=\"ProveItLink\" href=\"../_context_.ipynb\">multiplication</a>.<a class=\"ProveItLink\" href=\"../_theorems_.ipynb#multNegRightDouble\">multNegRightDouble</a> theorem\n",
    "========"
   ]
  },
  {
   "cell_type": "code",
   "execution_count": 1,
   "metadata": {},
   "outputs": [],
   "source": [
    "import proveit\n",
    "context = proveit.Context('..') # the theorem's context is in the parent directory"
   ]
  },
  {
   "cell_type": "code",
   "execution_count": 2,
   "metadata": {},
   "outputs": [
    {
     "name": "stdout",
     "output_type": "stream",
     "text": [
      "Beginning proof of multNegRightDouble\n",
      "Recorded 'presuming' information\n",
      "Presuming previous theorems (applied transitively).\n"
     ]
    },
    {
     "data": {
      "text/html": [
       "<strong id=\"multNegRightDouble\">multNegRightDouble:</strong> <a class=\"ProveItLink\" href=\"../__pv_it/45c4c2228e90eed13f81cbe7252c2ab4056f8fbe0/expr.ipynb\"><img src=\"data:image/png;base64,iVBORw0KGgoAAAANSUhEUgAAAR0AAAAWBAMAAAAP9FU/AAAAMFBMVEX///8QEBC6urrMzMxUVFRm\n",
       "ZmZERETc3NwyMjKqqqp2dnaIiIiYmJgiIiLu7u4AAAAU9Wx4AAAAAXRSTlMAQObYZgAAAylJREFU\n",
       "SMfNlk1oE0EUx//J5qNNtttgQRAv0QqKUBpBBAVJqaCgFIofIC1ilZLix2EPYqtFuwiCFC0FFQQP\n",
       "3UsRKUrENqAFu3gSBQkePBQLW5AirZSioAe1ODszzexskol40Qe/JPPfN5u3M++9WeA/M/cPfMJ5\n",
       "hqxAJehpAWr4UnvJKXqDN+p4dnJkRS0c8VHL17NohvHQG4yo4xkpcxmp5CJZnY9avtQsxkXyFe9R\n",
       "hpPMM2QFSgG6LajlS+01o44kUHRUGU/IZcgKlAKMlKCWL7V5hv6gv/+Keru2cWRFLQBnfNTy9Sw2\n",
       "yviWy82q4+niyMrlyUtTeb+wZotdiK8C4xAoJxvjNoZcJDpB2Qf0qeO5yZEUw9Y/hIp+lzWzW5Fc\n",
       "Ae5BgOgNam2VJifCK5gB6i3GFhhWhSA+D3d085/rOMLIKEH+tJ7UJ5YhX9ZGTyBGCmQTBMrJu6NF\n",
       "5EhXSjEakHQCqTh1zNF2udowH39hxG/NeZZmIwMRWpXGrzWXAXr5nYGNaCR7kYVAsuBkN5THD/Ic\n",
       "K4yk0xBI+MLWZVcfBLbL8ci3JHVCE8BYj8Dl+lVkM+p45MljrvZVxGNYXr+caJ8k9wgXSDXqJKnQ\n",
       "fJssCL/BBo4wOhrKiMPGfzlq4QkC+xWlazfXU3HycSRTYr/Q10421N0fIrW21GjuYB31xVvxB+c5\n",
       "kqKbM0i6fpdSZ+5EL/l65UM9+TpiJNF1i4G7JNHDrEKutqCAPcF4yquWjMacUxiUXErr0xb+CUW9\n",
       "l00+ilYHpXrnW/mdXjqIQ9iby+Xym5vFDVo4krLwfHHCkVxK5XBuyrvZNR/qyQvTJ02yrGkGdG/h\n",
       "tJTGarEJH70fkSWRPyGT4Wv5ZvAMkIREUXlemGXN5ZE4L5hlE1YCAyaaSG+KeP5al4npwNEoH5ao\n",
       "JnRgnqRiIi+o7ksfvWh4KT7BYUv2rPsxsg7uFCwYp2nXf9+b/rv3jVmcJZ+ffKjfNxrsmA3alION\n",
       "2YmbEe+RSP5I+gWOrFQT7k95D3LAR3Vf2q+mD3urZDJ8ppkxu+LhG88zZAUqIZkRoIYvtacc/8aS\n",
       "UO1//Dr/G5jlBOHTT+WEAAAAAElFTkSuQmCC\n",
       "\" style=\"display:inline;vertical-align:middle;\" /></a><br>(see <a class=\"ProveItLink\" href=\"../__pv_it/45c4c2228e90eed13f81cbe7252c2ab4056f8fbe0/dependencies.ipynb\">dependencies</a>)<br>"
      ],
      "text/plain": [
       "multNegRightDouble: forall_{x, y in Complexes} ((-(x * (-y))) = (x * y))"
      ]
     },
     "execution_count": 2,
     "metadata": {},
     "output_type": "execute_result"
    }
   ],
   "source": [
    "%proving multNegRightDouble presuming []"
   ]
  },
  {
   "cell_type": "code",
   "execution_count": null,
   "metadata": {},
   "outputs": [],
   "source": []
  }
 ],
 "metadata": {
  "kernelspec": {
   "display_name": "Python 3",
   "language": "python",
   "name": "python3"
  }
 },
 "nbformat": 4,
 "nbformat_minor": 0
}
