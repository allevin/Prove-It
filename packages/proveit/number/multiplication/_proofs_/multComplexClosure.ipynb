{
 "cells": [
  {
   "cell_type": "markdown",
   "metadata": {},
   "source": [
    "Proof of <a class=\"ProveItLink\" href=\"../../../_context_.ipynb\">proveit</a>.<a class=\"ProveItLink\" href=\"../../_context_.ipynb\">number</a>.<a class=\"ProveItLink\" href=\"../_context_.ipynb\">multiplication</a>.<a class=\"ProveItLink\" href=\"../_theorems_.ipynb#multComplexClosure\">multComplexClosure</a> theorem\n",
    "========"
   ]
  },
  {
   "cell_type": "code",
   "execution_count": 1,
   "metadata": {},
   "outputs": [],
   "source": [
    "import proveit\n",
    "context = proveit.Context('..') # the theorem's context is in the parent directory"
   ]
  },
  {
   "cell_type": "code",
   "execution_count": 2,
   "metadata": {},
   "outputs": [
    {
     "name": "stdout",
     "output_type": "stream",
     "text": [
      "Beginning proof of multComplexClosure\n",
      "Recorded 'presuming' information\n",
      "Presuming previous theorems (applied transitively).\n"
     ]
    },
    {
     "data": {
      "text/html": [
       "<strong id=\"multComplexClosure\">multComplexClosure:</strong> <a class=\"ProveItLink\" href=\"../__pv_it/0bd35933d70e636aa015fc8cd207341e9abb5fae0/expr.ipynb\"><img src=\"data:image/png;base64,iVBORw0KGgoAAAANSUhEUgAAAUoAAAAVBAMAAADSqLqgAAAAMFBMVEX///8QEBC6urrMzMxUVFRm\n",
       "ZmZERETc3NwyMjKqqqp2dnaIiIiYmJgiIiLu7u4AAAAU9Wx4AAAAAXRSTlMAQObYZgAABGpJREFU\n",
       "SMfVll2IG1UUx//JzCabzMfutloQwU1dsVKVjlJqLdiGVvRBtJG2D20phqopfudhaQTRXXzSRduI\n",
       "Cj4IBqlUEbaDxaW02zZuWyktrGErRYV0syK6tJr9aldWa6/3KzOTpEnGvnnhTO6dk7nnN+ece84A\n",
       "/4tRaqrVfljrb5ugLYQOZcGn6XVZdz7S4D96DDg9hgKbn220UTRm8P/arSyulEKH8ZdPyvGcO2+z\n",
       "6tRH35o5n8AmOvsUX7AbexpTRtkLt5daWdzj7nLgsj/IKIl7Vv216vtncfHvONo55W56DScbU3Ld\n",
       "7lYWNVsICzj5x2fAScGzOlMbajUPfBKHnmOUzE1t2caU3ENbW1kMlIQwvx8g/igHyLRnNSF+zEPF\n",
       "InfraIDlQRxmJ6PU92cyr6MJ5ZlMJlNoZfEuKSydAqTkB1IrdF/zLEPCU6tH5TrRy5hpeJ5jlJhP\n",
       "pX5qRtmRSr2Ua2VymxSaPXPtJOaHss/aO+u1lOBPvyyXZmK5nH3GKTcAu5pRqhZCaV5smlSYd6RQ\n",
       "nyTaCM0oJdmK8lk8ddWzjPA4C0ssu3Mfy9lHnPIOmDXna/WWmHZzqUIZjGNS5J5TYX4feHx79SOL\n",
       "pADfQCMJKJtFkpTr6Uyxs96J41e8BbeTXX+FQ3mPnC3llAa0vGePr7fk9eQgBh1f0oo6zOdPzku9\n",
       "sqqkDOhbh9efck7drBSYCwgS6scIpzSvc9ynBP9UFivmPbcVfpSWFovi9JjJNZVSwCm1vOHJ9qFl\n",
       "5ZJ+ts1LOYwL/GV/nKnoXwOWR4awKJioo1RnurpZhZGUS+opJ0QubOzqqipZgnKlW4DVKkqzn6r0\n",
       "7Xfv04Ys6Myu/uADtodyUuHV11hGzy7X97xP0xwbzELU8eUtUvDe2vJvrMJEWpSFyOJyuY+WrFNf\n",
       "HY4fedqJ+B9u/VRl/xYRx671NNNW5I24Lio9dGvwhIcy1BsTZ42eXa4/xqtFIZIw9MqeL0oxGer4\n",
       "n9WULFQmKhfpUfqCBkmbI1fxPU4yo/xwqE7yhUbYlwGN4mlB+SHd8I1D6LBoMVgjKKPRJ1zKyA4e\n",
       "kduw1xZ6Tmkmo9nQQbjlgksvC+crC1WUPDl5Nk45N8OPMBCSDV/qxxx/UlQic8x57OEXSj+nSpVK\n",
       "hADrbI/hPrRn8VAqlbJ1Kzx6waXErTzgNI/iQn97T10A7xXSQWhWbCRkropySSUbJ5zyRMg1qIQQ\n",
       "S7WVTrzNWpYosq9uchJ1B7mJ3XtTUOosIosxhL4gfhG+RM8xDyUP8D7gu4LQq5dYXlZ3yLQQN+8K\n",
       "/tpkwNKS4emY0yHxwbvFqsIoOqSMwDT15rdRqGlBqXvyEjLgWDct9Mq2NI7UfBvkhPxnyj6otp6k\n",
       "T37ZqK/YLmUwiXNYtR/mTtaQ6SVeQzl+GXr3TJbrcfH8M7HGX278rT+/YvuivBOGpTyfrusszpiE\n",
       "S+mi07yr7pBN9c7olXKjQ003UDx6PcraD5ei5c9K2BZyo+NgIwBq/+jYv/R5Ufa/boEFAAAAAElF\n",
       "TkSuQmCC\n",
       "\" style=\"display:inline;vertical-align:middle;\" /></a><br>(see <a class=\"ProveItLink\" href=\"../__pv_it/0bd35933d70e636aa015fc8cd207341e9abb5fae0/dependencies.ipynb\">dependencies</a>)<br>"
      ],
      "text/plain": [
       "multComplexClosure: forall_{m in Naturals} [forall_{A in Complexes^{m}} ((A_1 *  ...  * A_m) in Complexes)]"
      ]
     },
     "execution_count": 2,
     "metadata": {},
     "output_type": "execute_result"
    }
   ],
   "source": [
    "%proving multComplexClosure presuming []"
   ]
  },
  {
   "cell_type": "code",
   "execution_count": null,
   "metadata": {},
   "outputs": [],
   "source": []
  }
 ],
 "metadata": {
  "kernelspec": {
   "display_name": "Python 3",
   "language": "python",
   "name": "python3"
  }
 },
 "nbformat": 4,
 "nbformat_minor": 0
}
