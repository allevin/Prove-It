{
 "cells": [
  {
   "cell_type": "markdown",
   "metadata": {},
   "source": [
    "Proof of <a class=\"ProveItLink\" href=\"../../../_context_.ipynb\">proveit</a>.<a class=\"ProveItLink\" href=\"../../_context_.ipynb\">number</a>.<a class=\"ProveItLink\" href=\"../_context_.ipynb\">multiplication</a>.<a class=\"ProveItLink\" href=\"../_theorems_.ipynb#disassociation\">disassociation</a> theorem\n",
    "========"
   ]
  },
  {
   "cell_type": "code",
   "execution_count": 1,
   "metadata": {},
   "outputs": [],
   "source": [
    "import proveit\n",
    "context = proveit.Context('..') # the theorem's context is in the parent directory"
   ]
  },
  {
   "cell_type": "code",
   "execution_count": 2,
   "metadata": {},
   "outputs": [
    {
     "name": "stdout",
     "output_type": "stream",
     "text": [
      "Beginning proof of disassociation\n",
      "Recorded 'presuming' information\n",
      "Presuming previous theorems (applied transitively).\n"
     ]
    },
    {
     "data": {
      "text/html": [
       "<strong id=\"disassociation\">disassociation:</strong> <a class=\"ProveItLink\" href=\"../__pv_it/fb95aa84df84c9d5b106edc1ddca2dedff05a4b00/expr.ipynb\"><img src=\"data:image/png;base64,iVBORw0KGgoAAAANSUhEUgAAA+4AAAAaBAMAAADbIRsfAAAAMFBMVEX///8QEBC6urrMzMxUVFRm\n",
       "ZmZERETc3NwyMjKqqqp2dnaIiIiYmJgiIiLu7u4AAAAU9Wx4AAAAAXRSTlMAQObYZgAACJNJREFU\n",
       "aN7tWn2MG8UVf15/nj/2TgUloKqNQxtERWm35UMH/SMWqGolBJxK80eStjggHbQQzkgWF/GRM1Rt\n",
       "UijxSS0VUkCYKjRE0MZtqqgqAayEo+igzVUNEQJMzD9RBAmX5MglJAfuezNj78zuOrPeuBVB96Sx\n",
       "d8a/N/Pe/N58rgH8y+p6AeblcyBG/a1u4FPzPfZ5kSI0uuHd/F/ZcbFIQQO4Cs1PfOAU0M7g7aWz\n",
       "njYElP7mVI9AOtnZcrvIB/FrPnnPMKerPac9nOMpqFwGMPiRD5wCilrBG7zR04ag3pdzPQLphFxm\n",
       "bhdhC+U3+OQ9OY5fiUbPeacqz6RatD805wOngkpnYLCnDUFlUa1XIJ2URCrC3fgZz/vknQHv7v00\n",
       "/7xIASWFM9DYcR9AFTR5BhN9xcuGgBJvFnoE0sqkSEU2zKLjfvd1FNTLe8/7l0UKKCH0YfeAD6AK\n",
       "ei94i+aAlw1Bg+hIr0BaeU+kIqQ3j47e73s/Pzk6Otr7bb1R4glS9bdX+xjeTtRFmG7Y+8D1Wk0V\n",
       "FJPC/XdfekffsAT6qfM3sgFeqG+f6t7+yCe3nauNGm9Q36q6fvqXQOQypSLA7PDwW7557x8eXl3p\n",
       "Oe/RCk/mvmxCH9Zu1Apa/taZ+h29CkoO2SFwErZqt3ky6Gnnj2TDoaNQHuje/tCJwrQ2XLxBI5Xk\n",
       "jLZBCUQuU0LerwG41TfvEQtivtaZwW52IYmaSCchOatHu1C/5svfPt1y5QD12Ru7kVy8mdX2nwR6\n",
       "jMXreiY5YQOUK7A13739uOvIfOxja+IGxT6CsaPacJVA5DIl5P2rYJbAvKHhi3cjBweoAz3GRp/a\n",
       "WDeHpFCWp93HIXEKjyy87z70GCpkJUcJixnoC9g6jqBmFa6wYQ4hoAC1l5eB9g8YEDhgNdocxGWx\n",
       "E4E2pBFQruqqUexnoCcHoP+UzmsOchYep3lSp8lAtsuUkPcMpHCoXdLp2PiLH8Cff9LmHdMO/Lyn\n",
       "vdtotsd1WJn/Q11dXGR5Kk9B/wyEf8jmM69pm810HMUt5iCM5ugsjuba5dfZMEcPEJCDbN8Ot35I\n",
       "sGo02gnZoKVOyFEOaFq6ahT7GeimPIzN6bxmII+uAD/9pbhMCXlP1TINj/WK5INlP4JXko1kw+Z9\n",
       "B7yLn/ZkdpM9rn/f8u7VTW9U7cMey05sfPnry11FTt6bQ7AUjerjfizw2I5SwwL1tA3CPs+cYsPt\n",
       "CRvm6HICCpDKO/3Qf4wVnF5bgDrzjoBwU1uNYj8D7avSHKDxmoPcXQF++suLd7N0mVieXPvOm9d+\n",
       "CK9Xh2TeD9C1Wp89V+6z4QdEpFx6JwxW7LMxy27Mh7JLXEXtyWGcJxyLL5V2Cj86X7ZylGTx+ag+\n",
       "A7ETrS7vuJ5wkDrPs8Cbk3jvOCvJw43N89E6k7ywAQGpE+msphq3/YssGCnpvOYgd1Vt3k/XnuKy\n",
       "mOfh1qvxg0IpvfLiTantlngCmCDkrt/cK/MeK+K4tLd2ptSNuOdjkfKPKhgVqvNrWJHFsxHrELsZ\n",
       "VIrWtDcDNZ4WZWFkaJ3iB1sEofXBe4CjpOC/A+fY4zA9ozBnttTtVxAcNPGXv+eev4W8bPdjBik1\n",
       "xj217XY5iLQx86qzd9GG0FGIHUsUXNWYihFu+8sFE5cHjdcMZDMkRl2NutRTs6GCOKPM5TTf18Gj\n",
       "qBam0D/4zVoml86JJ4vfY+5KHrxK4r3vx3zxNq8bprOscWT9z+mn9/c+RDdWFCnGlWhX4d0auw6a\n",
       "ENkMPApTzqId33CcLl6qJJvblMhnixZbpezlkqPC0oEJp8z0nFkeV3gnBaZuL3wMZO6cgz3wsnKO\n",
       "65sF86mCp7bdLgOtRe3/eJ3jsCCF57xTgy4j7Lo62L+7duBj0HnNQDZDXJ7Mw/sLPTWl9hiIMyqf\n",
       "4yCEs3aK5qq1f4N+i3UGPRX4Rm0XVDZJvMMX6ZAGcFc+SdNe8iSsoubqjTLt9dndy0GCr6QpYXl6\n",
       "SGT342i/3XIUTbYmIGOKp1T94f3nFRQ/FrRWKXu55KiUtHzSFumf/75GnalJgalLCx+B4h+UYIbx\n",
       "lrBPbhed9+afvLWlZZpApE0j9UEn72TDC2++uGqdqxq7rg72p+vnWqDzmoFshkTHPfDIQw1PTak9\n",
       "BmKMcpcpEe9pZCHGVuxr4VuQGOdPiyG8d3j4duT9vkMy7/8COvrBiBUl9xOfwghWF5mBlRAusUjh\n",
       "rPL7mO8q2Q5FKAtFEgPLz41gTLoPD7XXnSd8aEaqONZ+5XVP60+b1kePe9pCV9Uo9vv32maoe83F\n",
       "yj2tsPpS+jwHtsOYwZ+WGWaOj3fjOzLvJL8F8whkaDfcPwWL6Iu6AXmnSDEuaK8/KVwKpGyHIul1\n",
       "QRd+cIudb0n8dHnISuXjhzHonw3Ce8iKDmUhWT3NmxpfvMv2+/faZqh7zWUGd/lZiffpFKwpxA9j\n",
       "VLyS5E/nfAW+x3mHSSfvF0J8FqbvRN+nc2G6epqm6cjI80i5Hst58E9ExuVshyJwvof15QdabMuG\n",
       "brp8DMdsOl+h66oAvI9B6NsWO7s4ZEN3vCv2+/W6xVAgTWSUXGZut3iPbIGlNSOPW5YrNvOnFTXY\n",
       "j2PC+GUWIuDg/RDAAtj6XGVNIZOLLcQ4yUxB1MKIZ5Fy+WbxUhKX8uVStkMRsyrHE888c8zHO83I\n",
       "FinTcuOe8kq95oWQscI/K0DEeeHsUzv6HHBHVSl2VY1qv1+vWwwF0kRGyWXmdlH6qeZ6+gOu7+o9\n",
       "rTjRNGBw/V/3NpbW4uv3NDBO4t+/7WGIZlmkgPnH4asZbAn7c0c726GIyb0iBZR4kJff24K3l7J6\n",
       "ZMP/Wba13JZ4DxfcT677eeH2uBog/CvhjpR5+YyKxHva46kD72ZeCRDxtXG+O89G3vVSb/9//nEl\n",
       "QMRXbr47zxIx6nuCKaY91rdkY75Dzx75L0/uddXqeVBBAAAAAElFTkSuQmCC\n",
       "\" style=\"display:inline;vertical-align:middle;\" /></a><br>(see <a class=\"ProveItLink\" href=\"../__pv_it/fb95aa84df84c9d5b106edc1ddca2dedff05a4b00/dependencies.ipynb\">dependencies</a>)<br>"
      ],
      "text/plain": [
       "disassociation: forall_{l, m, n in Naturals} [forall_{(a, b, c) in Complexes^{l} * Complexes^{m} * Complexes^{n}} ((a_1 *  ...  * a_l * (b_1 *  ...  * b_m) * c_1 *  ...  * c_n) = (a_1 *  ...  * a_l * b_1 *  ...  * b_m * c_1 *  ...  * c_n))]"
      ]
     },
     "execution_count": 2,
     "metadata": {},
     "output_type": "execute_result"
    }
   ],
   "source": [
    "%proving disassociation presuming []"
   ]
  },
  {
   "cell_type": "code",
   "execution_count": null,
   "metadata": {},
   "outputs": [],
   "source": []
  }
 ],
 "metadata": {
  "kernelspec": {
   "display_name": "Python 3",
   "language": "python",
   "name": "python3"
  }
 },
 "nbformat": 4,
 "nbformat_minor": 0
}
