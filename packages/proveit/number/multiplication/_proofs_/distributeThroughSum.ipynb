{
 "cells": [
  {
   "cell_type": "markdown",
   "metadata": {},
   "source": [
    "Proof of <a class=\"ProveItLink\" href=\"../../../_context_.ipynb\">proveit</a>.<a class=\"ProveItLink\" href=\"../../_context_.ipynb\">number</a>.<a class=\"ProveItLink\" href=\"../_context_.ipynb\">multiplication</a>.<a class=\"ProveItLink\" href=\"../_theorems_.ipynb#distributeThroughSum\">distributeThroughSum</a> theorem\n",
    "========"
   ]
  },
  {
   "cell_type": "code",
   "execution_count": 1,
   "metadata": {},
   "outputs": [],
   "source": [
    "import proveit\n",
    "context = proveit.Context('..') # the theorem's context is in the parent directory"
   ]
  },
  {
   "cell_type": "code",
   "execution_count": 2,
   "metadata": {},
   "outputs": [
    {
     "name": "stdout",
     "output_type": "stream",
     "text": [
      "Beginning proof of distributeThroughSum\n",
      "Recorded 'presuming' information\n",
      "Presuming previous theorems (applied transitively).\n"
     ]
    },
    {
     "data": {
      "text/html": [
       "<strong id=\"distributeThroughSum\">distributeThroughSum:</strong> <a class=\"ProveItLink\" href=\"../__pv_it/75be851894def72bf8ff4b061fdd2ed2269f4cdb0/expr.ipynb\"><img src=\"data:image/png;base64,iVBORw0KGgoAAAANSUhEUgAABYYAAAAaBAMAAADxpJXYAAAAMFBMVEX///8QEBC6urrMzMxUVFRm\n",
       "ZmZERETc3NwyMjKqqqp2dnaIiIiYmJgiIiLu7u4AAAAU9Wx4AAAAAXRSTlMAQObYZgAAC4xJREFU\n",
       "eNrtXH1sFMcVf/dh3/nuvMYhIomqYAMhSUuRr02CaCuVU1AbtVHia5u0BUow/TBqIfX9YUEVkvhU\n",
       "tZWDSHxVGqmSm8aqIBS1FddGRWkh5YBAIrcNrhqoGtXxIVWAAhgfEL5is503s7M7u7N7N3tn0/xx\n",
       "I+2xH2/evI/fvHnzdg2Aent8NAP1Vm8fqhYcfccP+UjdYvX24Wu9UPSDYW2mJ1We/Cxi58tyan1C\n",
       "V12Y9Oik3Zz0M7ajS6Ld9nThWOmBRKoyF4HugMvjRf71kwg9dJsmCct5xsXYql5pRKFLy904r9Zv\n",
       "zryuIIFAd0A4CIZpcP2rIoabqXfzM4bhe1F7ww9jQ2p9mq+5MNEG5o6f7LngZ2xnl6+IDxdfeUPb\n",
       "31NZcZGuQZ5CqJtf/SRCd92mScJynnEztrJXTpXGxzfq8oDBsa2ZM3M+qAxhkQ4F5wfB8E6895wi\n",
       "hmMYEqLFGcPwcxb7mJ5S67ProgsT0LsA+t73NbijS1R4FNOJ4kG9osvtdFnpOermVz+Z0E236ZKw\n",
       "nGfcjK3slZZLABE9LRNiwO6oHG3sdFnh6IWN5DfSpYhhSrhxxiAcx/Cwx1hBdbX0O6RPuTAJ6eS3\n",
       "T7Cj5rUdPWkxsndJCOFv13n8HahsaBvdsPR8j3/9ZEJJt9ol9LQOfxDPuxtb2Suw7APEcEqeU5iz\n",
       "RScqzz0b3bBw9NKw0JBTxDCdjitmDMMBDFFz2fkWfUKpT3SX7sIkjpHmyKR1t8lrlR00se/oos2y\n",
       "OrP48dVKsjjojksEc/3rJxNKutUuoad1+INA0d3Yyl6BfSSEJvSCk/Alup40VAyiDrrjwtELiR2b\n",
       "Nj2lXJcY3rRp08yVJ+7GvIetb/GRtutKfV4L6EWJCdlCYCKZ9YNhqct3rWmh03D0p4pz0E7X6AwN\n",
       "qJtf/WRCSdDaJayI4bs9jK3sFeghM7H5ikTYdpkqWTGIOuhQcH70Alzq7n5HGcMt3d2PD80Yhlfi\n",
       "VGPs+5ID51W6RC5E9XaJCbQQay29CH4wLHXZbgWBS2ryO+hizuwPdfOpnwuhJGjtElbE8EoPYyt7\n",
       "BfQshAZS8rqglsY66VBwfhAMLwdYp4zhcBIafb3oWFrwQbwVVyHW4TuwZlKlS2O6wbFAbaXZV6n/\n",
       "2VLOF4alLj83zzon1eR30DXRWPn1fmw/AkM3n/q5EEqC1iqhAoa3ehhb2Ssh/db+sdskwrAaP4kO\n",
       "BecHwfAdoGVB6ywqYTiYglM4z8rsf5vs2vip0d6Eqx2dv4lZsA8zoCUsNXURbpz9s5+kh2lDfEaG\n",
       "TOAI2cWeIPEq1KWMYd7FbPPMYQb4dthgN+6y+SmKdEbqMMu5krf71s8g/O91655DNzcJ3RiWk7Ai\n",
       "hm8SjF3GCt5eSeg50HqyTtqoWUkpb4moo+KCgvODYLgZ4gTji702mD/+Mvz+MRPD5NhLfp+gfFgZ\n",
       "O9ZWap1iqibW3r7ujyFbrhHwE7Rx0WyhPj6Xgw6y7N33EL1/Tk7BNbbv1a5CEJeZxRYZXXk7r2MF\n",
       "aSj0yIgyho0uQrwzhxmjCApmDHaay+acjs3puO2cuzbUzZ9+nDA4Yt2z6+YqoQvDshJWxPB5wdhl\n",
       "rODtlTDmxx3XnLTNLG2+q5IlTDpBcH4QDMcLzUUx+RPa6Ue/AYdjxVjRwvBeeJf80okYMCQ6koYo\n",
       "XaKCrW/BvEn4FR/8zW1H81Yhjl4eGnz941Zd48yWh1YlVuxNyRjubG2l1ZkX2S5UTpq0OWyNKbW2\n",
       "Ye1pu0VGzd2Ga4aegiZqk4b+/mdv7e+XC7Jknf+Hsc6bXewYpsMMUFcHMgY7Y2xbo2ObdBUxrKof\n",
       "J6SJq3HPrpurhC4MvSX0tI7w4LxobG8reHslgNp2XHTSRln54pZKlrDoXDGsZe81Ex7HlvibT4/D\n",
       "3/JpEcOn8DUTm51fMvYHawoQo5WPlwi845dpsoHov+f7sHTIqpHSy8GuQPtCU5AlxdCWpt1gLrmY\n",
       "LwUw02uaPT7ep5s+9m4//ez4Saw9CeIjE1pMj+l5w9wqcdjsYs8lzLoQwDaw2Lk3k05cqVePYjsG\n",
       "hm7+9OOEUSsdlHWrVUKFOHybaOymEf9eoe9kdkmv42idEGKpSpaw6FxzCVh3P/nB0kVi1aJt8d1J\n",
       "4wzgEFIffH6ziOHGXhJH6LYu+O8Suz2WgSimFRqOE5qF+z6K/jfyEBxC3h8lDJPsMpw8i28Gg8SR\n",
       "ByGxGeBjsDxiZkkbcAD01vEcLh8Zm2b0W40iPzHuoW3HLjPxBSaYfUHfFMgYLjq5cAzzLpYR3rRC\n",
       "GM7WeNbuvaIok52OmQ8SWedWp1BGPzeGJmGLtZGWdatdQm4dycb8wQbR2OIYql7BJD5CYvOhP/w5\n",
       "tedbFmkbBt5XQfa0XXCTDvsbgvMDMfzCCIUeWdo7Cs0p+jkIniXZm8iDsTOfFjDctJonuc13GSVA\n",
       "EibWYBrZgBsiLYnvdBD9wU8RIGTeLdBXKIeMy2Z4AUYK+J4kkYYFzxO9YCR+oChUs3DVjHyelkFz\n",
       "Ns0wVaK5kZAz9aJmPVeZ+AKTMHH7mbZ/yRimDGxcBs2dL+tiGcFKryJjzxSfPAo275lMhLyQ0zHz\n",
       "ybU1Xg1y1c+VISf8hLhFd+pWu4QcqpKN+YPtgrFtA6t6pfMyaPunMtqBSXgbhC98nrryy8jf0yB5\n",
       "2im4QYf9/ynX1iBA5IzjsE+/Ci1JqhaeZdjm7CAMbRMwDB/BghlTi5UAg6XutXSpCRgrRTBF0R8/\n",
       "g91WYQBZQQDLLk+QKLweP9bIEZj/5S20dFfit1xQ3APg7kXXrxNX6SSuv2jP52huZOVMLTqZRp26\n",
       "fiEupFGL6X1dL20AFwzPAQeXQZMV62IZ4YcWz8Ra/WjGgZA5okx2Omo+kgA4a6mom6d+bgxNwt0g\n",
       "6OzUrXYJOVQlG/MHiwVj2xcANa+g0PqcAkROZ+GCbfN1uG3qa2DHMGXlFJzRYX+M7ig4PxDDCQKu\n",
       "Rirrg2S+R3PsbB6EjnV3rycYfvKsiGHE3R2YzM6FAdopfs2Iwy3n2RIQylL0M9CyzcHnbJfYHkkb\n",
       "GLYVMTJi3g4K+SJfpPMOJmY+p16X4I0bQZvlkh4qvqN8kCbT8rvmW6rUD9aDojDVSVj5XXOmijEa\n",
       "XbiG8yQ6P+NCrGiJcJ7m8PZ3zYaM9+DvbNgNfUF29mhQS7E4HPyMiGFsP8NUgmyYKUEjgW4H7m9b\n",
       "LrA0g2AY0R+cb5b04v8h8We+rcL3Gkko5i9wCEg/sxmuQjMmvsBEMnfQy0uLnDe4EWL56hGC5gP4\n",
       "jXR/uEr9YHZymjFsl9DTOvyBu1F9eMW8l4x3RSbaq8ZwINmQbmeC84Nj+FwcfpCJTJDpeTjGzmYv\n",
       "gAcYhmHYieE72d72CL0RIPjdh8lDeJLObwh2MfQ/TPRn0/dQOCdeok3SXyAdTmM+LDbh20tfmhHx\n",
       "7Uz8mlvILA0j0PJKlQhh5tOy0gPh20tf+mkT+enFsKeEXq0ao9q8wusTJJImuoaqxnAfBD6ZpILz\n",
       "w8RweCcsKwS7SL68ZAc7W1mAEwTwwZ+0QxgcGD5LUwlYNkHgDn1ZaColyZnWloMlaTpnKfrv22F8\n",
       "skey4RXCJUU1bvRCKzP8S0S+G0DzCoXKJwZWqa0wOx1MuKt+/b7fD/a5EZgODs8rsmPmC8sv5VG3\n",
       "avSDL+bUhKlZQq9WjVFtXjHDX3My9D15XFVL3AkNZPuEgvNDFA0K0tnL3bY8zMRwcxHGLkKirZRb\n",
       "Voi2TY22PkYAXYD3xm7HPzZpaKfoB+133fdT8oX0g3vzEk2Ypn8n8d6xb9tXlQgaZzPU1iLT8ncm\n",
       "8WStHF5xubd5GvSbvvbKjTbqdArODxHDoYx8Zm8mhoVP5WTg0z+AcKC/3uptxpqA4YTLmQeGta5y\n",
       "wB+sm7Xe/j8YrtxGzf9f4hflgJ+qm7XeblgLjr5dXcdEmWQxVqwbtt5uZPsfFZFfpscSPA4AAAAA\n",
       "SUVORK5CYII=\n",
       "\" style=\"display:inline;vertical-align:middle;\" /></a><br>(see <a class=\"ProveItLink\" href=\"../__pv_it/75be851894def72bf8ff4b061fdd2ed2269f4cdb0/dependencies.ipynb\">dependencies</a>)<br>"
      ],
      "text/plain": [
       "distributeThroughSum: forall_{l, m, n in Naturals} [forall_{(A, B, C) in Complexes^{l} * Complexes^{m} * Complexes^{n}} ((A_1 *  ...  * A_l * (B_1 +  ...  + B_m) * C_1 *  ...  * C_n) = ((A_1 *  ...  * A_l * B_1 * C_1 *  ...  * C_n) +  ...  + (A_1 *  ...  * A_l * B_m * C_1 *  ...  * C_n)))]"
      ]
     },
     "execution_count": 2,
     "metadata": {},
     "output_type": "execute_result"
    }
   ],
   "source": [
    "%proving distributeThroughSum presuming []"
   ]
  },
  {
   "cell_type": "code",
   "execution_count": null,
   "metadata": {},
   "outputs": [],
   "source": []
  }
 ],
 "metadata": {
  "kernelspec": {
   "display_name": "Python 3",
   "language": "python",
   "name": "python3"
  }
 },
 "nbformat": 4,
 "nbformat_minor": 0
}
