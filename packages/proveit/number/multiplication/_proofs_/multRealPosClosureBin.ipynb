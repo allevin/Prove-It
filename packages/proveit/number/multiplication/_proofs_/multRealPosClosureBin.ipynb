{
 "cells": [
  {
   "cell_type": "markdown",
   "metadata": {},
   "source": [
    "Proof of <a class=\"ProveItLink\" href=\"../../../_context_.ipynb\">proveit</a>.<a class=\"ProveItLink\" href=\"../../_context_.ipynb\">number</a>.<a class=\"ProveItLink\" href=\"../_context_.ipynb\">multiplication</a>.<a class=\"ProveItLink\" href=\"../_theorems_.ipynb#multRealPosClosureBin\">multRealPosClosureBin</a> theorem\n",
    "========"
   ]
  },
  {
   "cell_type": "code",
   "execution_count": 1,
   "metadata": {},
   "outputs": [],
   "source": [
    "import proveit\n",
    "context = proveit.Context('..') # the theorem's context is in the parent directory"
   ]
  },
  {
   "cell_type": "code",
   "execution_count": 2,
   "metadata": {},
   "outputs": [
    {
     "name": "stdout",
     "output_type": "stream",
     "text": [
      "Beginning proof of multRealPosClosureBin\n",
      "Recorded 'presuming' information\n",
      "Presuming previous theorems (applied transitively).\n"
     ]
    },
    {
     "data": {
      "text/html": [
       "<strong id=\"multRealPosClosureBin\">multRealPosClosureBin:</strong> <a class=\"ProveItLink\" href=\"../__pv_it/ae6f9c4c550867cde1d5899547be4a75d5acd8f20/expr.ipynb\"><img src=\"data:image/png;base64,iVBORw0KGgoAAAANSUhEUgAAAMcAAAAbBAMAAAA614ahAAAAMFBMVEX///8QEBC6urrMzMxUVFRm\n",
       "ZmZERETc3NwyMjKqqqp2dnaIiIiYmJgiIiLu7u4AAAAU9Wx4AAAAAXRSTlMAQObYZgAAAzpJREFU\n",
       "SMe9ll1IFFEUgM/O7uzf7I6+GYGhFfTQg/PQkxS7pJTS32IpgT0sFWsS2D6YChJaJG5oJUTgS7QQ\n",
       "kr7IBtqDUgxEUAm2L9GfCxPsgyBlsKSJIZ0zs/PrOroLNXCvd4733O+e31mAf/iMFK+yt2iNKA5/\n",
       "URrOcEmQ4tQWpZIgMItjx6onaTq4WR6osocE4wBpWsxtz/CUF7A9W4nTWQv0fuz3zSEdwqHOBC3u\n",
       "bQ9hIzh5rXbfJqFF5vaEne2D4EokdiUQxm8AdNEto9tDHFV5/5qeNbp60gqJQEeXZgksKJdjd5DQ\n",
       "IZr2WIQM3hL4cuVl6W7mkwp54tYhLXiPp93dN3YQ92d0Zr9F6Jcj2q6k+LCkW2KEvMexEot92epk\n",
       "QyU1UFzIMZ0z1XFV6D0xJQKMyesuyeCu0wZ31eA/6gDatoy2vrxMZ+KJTAVc04TLUcgBjMrrNkNM\n",
       "mIVBWim5GBIA9gOveYFJbAkZyAe/TyQnYyTo4o8l2A1QLb9HdUhl5o7hkD7UCgInaoKx/N/R8eYh\n",
       "M+QDjjLcfgbgq2wEheM8wK98TjCVmYwa+KZIhwGyjGnFiUE9++kG/HSzyPlhMsLWn6pvtEJWgM/R\n",
       "+7eoLGT+5CF6naK7mg5ZLOH7DZJVHM8P/JAQMj9vsoTKzjECnnXw/eT1MmE3VHelDRDvkmiACBSx\n",
       "ozhdn7lENq9PSQEqbYK8NEGOkboI/Bq4+h+owhw4MOHe6L0tD3GG63TNGkrGh3gH/qOH6opLB8Jy\n",
       "l0BIU9IEeUEZjfxheBTRSrwRzmmB/F5lSOEJt5bmcp2AIwXgijjJXHcqkK6VIWz9Z3Pga8hQ3NM5\n",
       "u++q1nez0+SWW0oHHRDUBrkieK+saZrjslSikFKzBIfARo/EYrEU5+99RYo6pIyOqChUTGpb8TUo\n",
       "2WV9hrQ0k9zzaGAZBMWs4i5frbnjushH7wq2hZRtP+JXtR4rhQ5LPfEgVq8rrsRk0txcZXd6C33i\n",
       "Fu2bXkCrUqZ17gKERKY1CfxFuRgnsy3mE6kNegp9sI/bQ4KC+V1Jbj/GpMDmHpp6N8s5wR7y2vJ7\n",
       "JG632Zcs6beX9YMYsN/+tiQIK8H/ef4CSFrKzSuILhkAAAAASUVORK5CYII=\n",
       "\" style=\"display:inline;vertical-align:middle;\" /></a><br>(see <a class=\"ProveItLink\" href=\"../__pv_it/ae6f9c4c550867cde1d5899547be4a75d5acd8f20/dependencies.ipynb\">dependencies</a>)<br>"
      ],
      "text/plain": [
       "multRealPosClosureBin: forall_{a, b in RealsPos} ((a * b) in RealsPos)"
      ]
     },
     "execution_count": 2,
     "metadata": {},
     "output_type": "execute_result"
    }
   ],
   "source": [
    "%proving multRealPosClosureBin presuming []"
   ]
  },
  {
   "cell_type": "code",
   "execution_count": null,
   "metadata": {},
   "outputs": [],
   "source": []
  }
 ],
 "metadata": {
  "kernelspec": {
   "display_name": "Python 3",
   "language": "python",
   "name": "python3"
  }
 },
 "nbformat": 4,
 "nbformat_minor": 0
}
