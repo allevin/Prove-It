{
 "cells": [
  {
   "cell_type": "markdown",
   "metadata": {},
   "source": [
    "Proof of <a class=\"ProveItLink\" href=\"../../../_context_.ipynb\">proveit</a>.<a class=\"ProveItLink\" href=\"../../_context_.ipynb\">number</a>.<a class=\"ProveItLink\" href=\"../_context_.ipynb\">multiplication</a>.<a class=\"ProveItLink\" href=\"../_theorems_.ipynb#multIntClosureBin\">multIntClosureBin</a> theorem\n",
    "========"
   ]
  },
  {
   "cell_type": "code",
   "execution_count": 1,
   "metadata": {},
   "outputs": [],
   "source": [
    "import proveit\n",
    "context = proveit.Context('..') # the theorem's context is in the parent directory"
   ]
  },
  {
   "cell_type": "code",
   "execution_count": 2,
   "metadata": {},
   "outputs": [
    {
     "name": "stdout",
     "output_type": "stream",
     "text": [
      "Beginning proof of multIntClosureBin\n",
      "Recorded 'presuming' information\n",
      "Presuming previous theorems (applied transitively).\n"
     ]
    },
    {
     "data": {
      "text/html": [
       "<strong id=\"multIntClosureBin\">multIntClosureBin:</strong> <a class=\"ProveItLink\" href=\"../__pv_it/b416d3e32665862cdcbf8e6c0089fdcffe73304b0/expr.ipynb\"><img src=\"data:image/png;base64,iVBORw0KGgoAAAANSUhEUgAAAKkAAAAWBAMAAABJZ6G8AAAAMFBMVEX///8QEBC6urrMzMxUVFRm\n",
       "ZmZERETc3NwyMjKqqqp2dnaIiIiYmJgiIiLu7u4AAAAU9Wx4AAAAAXRSTlMAQObYZgAAAtdJREFU\n",
       "OMu1VU1oE0EU/rLJJjbZbD2IBbHSouLBSw5elEqCClUUDfiDWJGgNFVEzaG2gn+pKChUKRTBSzEK\n",
       "taggAVuR9rKIB2lBchGLUthCFWnRVoqVUqnOm5md/HRZL/rg252ZffPNm2/emwX+i9l/d9koUWFG\n",
       "nbv7K4YCNUa8SP0JgVKbqGWP/RWOPb9HO0ZXQ48Bj6l/x4t1mS1QZtfpQ8XYy2NsKAVkgTbWDaW8\n",
       "WIckymyeJMiVjx1hMYaZLMMiCr3Li3WNRKlpi+xhLhedqdtjo/Tei1BiE3uPswX72tsve5FqWYEy\n",
       "C/PjOCV071TyBO2z9GRBzqXTH7xY9ZwAWgfrM0rr3f0W0MvbbUXNRwyLlkwC24EWFddNl8OyBLQa\n",
       "nFOD0ynMAvd4W82GmfpMryq2s3Uwi/vrdbayorc5KZq+OoGrFg7xqRTafRurgHpBpWYHYo08NqZ3\n",
       "FBFLjd8it4GDVjQTnpIbq64T2Ad85GGSpIeBH0Ccc9SOjYnTwnqNZ4V/BowzWhTmJ8OLDd9sAw2X\n",
       "UM46B3OW+uMU2ztovyRrSYFkWQaHM5zVzFI2nB88Qesu9NuG2HlSCgBfF0doAVUzZjFd9UVHgYJK\n",
       "jK6HtHWuAFq2sU/vQ5SBkYKREBVjbI45Elsc5jwC2W6HYBY+ttk3vL3HGWylsB+wuXROd9ligaSf\n",
       "lgzmjcIW7jE5qSJICnSiJ6mKaRcOqLP96twyLUEbnx4Jb/jyJFyE5PHF9NTWdDqdR+4ZrshsKwi0\n",
       "Dq09rW6piQE64Wu8HbohtqWt7Eif/N7M8pDcDHZY03bwLUvxakStCe7RbaFPMtRILDGnYqt2yhyQ\n",
       "Nu40fHa8wb6QibLEDlAB6TqPj9uwxBIL592r8akqqqaRo4hbWlMO5nHWf73jyZmE101I9sWd1Ky4\n",
       "NEQ1hEnXEgslBJZYoztrIFN+6Wfc3S5KVFgk5u7+vOJH9M9+hn8A3lS4yPF4t2AAAAAASUVORK5C\n",
       "YII=\n",
       "\" style=\"display:inline;vertical-align:middle;\" /></a><br>(see <a class=\"ProveItLink\" href=\"../__pv_it/b416d3e32665862cdcbf8e6c0089fdcffe73304b0/dependencies.ipynb\">dependencies</a>)<br>"
      ],
      "text/plain": [
       "multIntClosureBin: forall_{a, b in Integers} ((a * b) in Integers)"
      ]
     },
     "execution_count": 2,
     "metadata": {},
     "output_type": "execute_result"
    }
   ],
   "source": [
    "%proving multIntClosureBin presuming []"
   ]
  },
  {
   "cell_type": "code",
   "execution_count": null,
   "metadata": {},
   "outputs": [],
   "source": []
  }
 ],
 "metadata": {
  "kernelspec": {
   "display_name": "Python 3",
   "language": "python",
   "name": "python3"
  }
 },
 "nbformat": 4,
 "nbformat_minor": 0
}
