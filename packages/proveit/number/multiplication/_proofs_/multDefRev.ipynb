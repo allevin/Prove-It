{
 "cells": [
  {
   "cell_type": "markdown",
   "metadata": {},
   "source": [
    "Proof of <a class=\"ProveItLink\" href=\"../../../_context_.ipynb\">proveit</a>.<a class=\"ProveItLink\" href=\"../../_context_.ipynb\">number</a>.<a class=\"ProveItLink\" href=\"../_context_.ipynb\">multiplication</a>.<a class=\"ProveItLink\" href=\"../_theorems_.ipynb#multDefRev\">multDefRev</a> theorem\n",
    "========"
   ]
  },
  {
   "cell_type": "code",
   "execution_count": 1,
   "metadata": {},
   "outputs": [],
   "source": [
    "import proveit\n",
    "context = proveit.Context('..') # the theorem's context is in the parent directory"
   ]
  },
  {
   "cell_type": "code",
   "execution_count": 2,
   "metadata": {},
   "outputs": [
    {
     "name": "stdout",
     "output_type": "stream",
     "text": [
      "Beginning proof of multDefRev\n",
      "Recorded 'presuming' information\n"
     ]
    },
    {
     "data": {
      "text/html": [
       "<strong id=\"multDefRev\">multDefRev:</strong> <a class=\"ProveItLink\" href=\"../__pv_it/b5c5dd1709369ea36a234dec75dd77a21bc833570/expr.ipynb\"><img src=\"data:image/png;base64,iVBORw0KGgoAAAANSUhEUgAAAlAAAAAZBAMAAAAMBA37AAAAMFBMVEX///8QEBC6urrMzMxUVFRm\n",
       "ZmZERETc3NwyMjKqqqp2dnaIiIiYmJgiIiLu7u4AAAAU9Wx4AAAAAXRSTlMAQObYZgAABmFJREFU\n",
       "WMPtmXuIVFUYwL+9d2dm586du7tFmUXOTQOjJXak8hW1wwpqhDaRQrYFg8RYLNRAQwqSDhG0aNlE\n",
       "CYF/NISpJY0XtCVLbUxMSdKxx0bC6hVCQ2UdHyk+8na+c+773nkRDBJ+8N25j/N9957fOd93HgNQ\n",
       "W4Kjv8Mt4UaP1CsSvUWJShbUuqDUm+FDe3Qlwl9p2tpuIsr+3n3le10JqDL+HKgFqk6JlgifYEo/\n",
       "6WrT5g6TZ329+0sgzpSA+hyv19QCVadES6RDZYqy5WLT5g6TDl/vVSSnaxbeIMdQqhaoOiVaIt/q\n",
       "is2v/WN/ImWqmJy09RiHiVjw815FftQ1S2kG8rVA1SnREpmgKzb/Fs3+JKxUMVln6zEOE6nLz3sV\n",
       "Oa5rFsSNS5e+WTOZ1ynRkuE5xxRlZ5umNgnKZfKKj/eq06M80yzApXT6SO3pQe0SrZBAgSkmgQsd\n",
       "mtwcKLfJZz7ee5Ys31boGbYCJ7R5zroBACHJlICaBbCkNii9xOvOJ+FW5vISU2ziZEArNQfKbfIx\n",
       "Hp4bQnnb8F6Yq0hX5XDFLHQKfirdS9znmBJQ94OUqw2KlQjRFu01mfOFRmLGPKk/+emtngfbZKZE\n",
       "dkNEIy3MpxoHpZuYcp/XOyePgHQNGKgxPBTgO/iQfHcX0yyiiJSchtMXypE7VAsUKxGk1zELz6dG\n",
       "cty//jf3155ZNW+ANqb5MfUnP7Hq5DtlpuRlV4DTUsAvKDcMSjexpM/rXZLOQ/gGBLDLSHSIVGE2\n",
       "7Q4VpgRUpBS1ZTrpq4UlMVWEoq1HsRL0xYGY9ca/iJ5e+AI8/CpML4iLdvTvtXrbVJVf5QD1zKW6\n",
       "eSiWagBU+7numEYghSmowNDQe3cNDXnniySwDuuBZZrUAkUplaEN20q6k92+xwVKyj1iMxqePKaK\n",
       "BwIOUKwETWQPfWKNre1xiCxeMQb7FOAK4WG4jSP9myOw9oC4HOBBOyjuj3P1QNlde0IvzxTggyfG\n",
       "TmoVA1RDPcowcYbei6MoI4Z30peiSejNqLYhACRH6MGSfjIFGOhZHxmOg4ixLM6YpthB0RJAq/Hz\n",
       "yhv4I2zrmQURBfYigxlkip+BWVJZwKosQh+TSHSH7KCikx0DNGzu3xZ3VUx3bRP6FpaOS0xBGk8O\n",
       "xy77gEL3EhgHGyjDxKgiwH73FIB4Jn3prAxzQ2YW2hepwC7CIscUQa0l7zzTW4omxASb3ovx4h4H\n",
       "KCzBY/gKyc7zeKPYnhoPXIJO7iNnKIJyOBkVMRryhN6ug8Y3mCMyDtDzAebiWKMI6uw2V+o2XNO+\n",
       "ioVWs7foD5lCFsPztSteUDSxnC0bBxsow8Soond6gJ5XynAIYLVgDqbXg10hxTE9gDZyveJr6IyT\n",
       "GzMZKEGYbweFJTh8xRS14xrekHFE5XN04GOgpJSQD27FZwuSXlD8BHhfgZnjrMHwXXekGK5tIncY\n",
       "7cuVmXZqpGM+rWkXvKAwsRxPGQcLlGliVBHgLffQXKbhuAHgo61mrh4sfrEDpw4yUwQlYkWfginQ\n",
       "kYfH0+m0IsZDB4/aQWGJMII63B1jy8vODAU1kk4PchOdQbST1G7iJCeoaHe3Ruxte4CX3aBM1/Ys\n",
       "a67jxulqTZ8az1GG6FX0WcKMa2QJo8vtMAwrOfiT9SiYtMu9cceRhhISILLl5RSIkzsSHW7mK5ij\n",
       "zCVn8kkSO6edOWo9wKEyBfUyDT3gu3hX96eu9bEzyEKPvsW5NvWC4pQaO1gO0asIguK38q0im3U1\n",
       "QIUqBPgPArRnGCix6AYllTE8yEIcQu/wlU1kQkZW4XPwyaMbMa8bshcX0PzzGbYkDxqRB30VW4/q\n",
       "E3ICLMuE1sAyFQ8Z3bUxdjIr+hbvNosTVMNiVJFOaxrdZsGZtpSzgSL95ReYuhGkxeTiAXJIeLaC\n",
       "j0KUhM9ubTx/XRpc+40KARlO4NxG+jLdb8V7ku6MnRp5SbZAHbsIYuxc3gJ1YvtAEfpK/GXoy+Ch\n",
       "pLs2x06WJvAtei0TTM1ab/pbaXZhrVeRta6TYdWNO+w4tPNk3U8EkqP898y3W9FlbYBtSA/W/Lqg\n",
       "48r1P0XJe2aMnR5Zrut/l0jc37uvbNXVC6r6nwsnzLNpVbJlPVCP3e2YEvAZz5k1dt58fy40DCpc\n",
       "crV/ollQLhF9zm5aqQ/K+l9vjytI1Qb8t8P/QrjRX/8Ffg4OYl6TxsoAAAAASUVORK5CYII=\n",
       "\" style=\"display:inline;vertical-align:middle;\" /></a><br>(see <a class=\"ProveItLink\" href=\"../__pv_it/b5c5dd1709369ea36a234dec75dd77a21bc833570/dependencies.ipynb\">dependencies</a>)<br>"
      ],
      "text/plain": [
       "multDefRev: forall_{m in Naturals} [forall_{(A, x) in Complexes^{m} * Complexes | A_1 = x ,  ...  , A_m = x} ((A_1 +  ...  + A_m) = (m * x))]"
      ]
     },
     "execution_count": 2,
     "metadata": {},
     "output_type": "execute_result"
    }
   ],
   "source": [
    "%proving multDefRev presuming []"
   ]
  },
  {
   "cell_type": "code",
   "execution_count": null,
   "metadata": {},
   "outputs": [],
   "source": []
  }
 ],
 "metadata": {
  "kernelspec": {
   "display_name": "Python 3",
   "language": "python",
   "name": "python3"
  }
 },
 "nbformat": 4,
 "nbformat_minor": 0
}
