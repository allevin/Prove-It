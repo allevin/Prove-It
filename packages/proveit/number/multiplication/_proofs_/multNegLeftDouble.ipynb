{
 "cells": [
  {
   "cell_type": "markdown",
   "metadata": {},
   "source": [
    "Proof of <a class=\"ProveItLink\" href=\"../../../_context_.ipynb\">proveit</a>.<a class=\"ProveItLink\" href=\"../../_context_.ipynb\">number</a>.<a class=\"ProveItLink\" href=\"../_context_.ipynb\">multiplication</a>.<a class=\"ProveItLink\" href=\"../_theorems_.ipynb#multNegLeftDouble\">multNegLeftDouble</a> theorem\n",
    "========"
   ]
  },
  {
   "cell_type": "code",
   "execution_count": 1,
   "metadata": {},
   "outputs": [],
   "source": [
    "import proveit\n",
    "context = proveit.Context('..') # the theorem's context is in the parent directory"
   ]
  },
  {
   "cell_type": "code",
   "execution_count": 2,
   "metadata": {},
   "outputs": [
    {
     "name": "stdout",
     "output_type": "stream",
     "text": [
      "Beginning proof of multNegLeftDouble\n",
      "Recorded 'presuming' information\n",
      "Presuming previous theorems (applied transitively).\n"
     ]
    },
    {
     "data": {
      "text/html": [
       "<strong id=\"multNegLeftDouble\">multNegLeftDouble:</strong> <a class=\"ProveItLink\" href=\"../__pv_it/3f7412ebbf8d5f6d9eddea099423630ff4e3bbaa0/expr.ipynb\"><img src=\"data:image/png;base64,iVBORw0KGgoAAAANSUhEUgAAAR0AAAAWBAMAAAAP9FU/AAAAMFBMVEX///8QEBC6urrMzMxUVFRm\n",
       "ZmZERETc3NwyMjKqqqp2dnaIiIiYmJgiIiLu7u4AAAAU9Wx4AAAAAXRSTlMAQObYZgAAA0dJREFU\n",
       "SMfNll9IFEEcx393e3+8u/U8FILo5cygCMQLIiiIE4OEQpAsCCWykBPLh32IrKRchCCk5KCCoAf3\n",
       "5YiQ4iJPKCGPnqQg7qkHSVghQjREDPKhkmbmN97c7cyu9VRf+N7tfm5+c7+dmd/MAvxnsv+gjT+P\n",
       "9iIAehJkIEGQA5necpfozXvvfA5yexGiLhXoUncnKZhCP6U34975jEtNxlVBNSpQo+5Olom+Sr7C\n",
       "vZ7pxPJoL8Lmx1IACSoCmd6ha8gCCmY98/HZaC9CFU8ogAQVgUyLaP3J0NBN7+nax+1FmAZUYEDV\n",
       "nUKhLPp7JjPvnU83tzu5MXW9QGYhVwbL3RDeRJBTdccDcBRzFozYEO0E5mMA/d753OV2JXFL/+Qj\n",
       "hfqoTKwWiK0hYDB4h6mVB28FMEX9azALEDHReyBuKpL4OtbRwy/ruYUcJEr+PEJqtZHerBJr2XMQ\n",
       "6kXQ6Oy5XgSwxoeDJciQXSmBroVY0bEMC2eK2iFbG+P36+jwvQWqpEziEGAVmqbBv+gH7IK6PIK0\n",
       "M591+jsGsMa2Lw8/yDOsoWPFWseCn967auvDAPur86nuspr48uV8dtCryCakU+75bAVg4wlb+yby\n",
       "iZt0v5xsmyLx/mlSjTpZVNB0nzw+72Ant5BERlL04BFTEzThBVTMV5AN5ELvVjAPQJ2FWELMF/S3\n",
       "kQm1j/tIra3UGQdwR33zQfzZILcr0Y1ZiJHu58TO3Al9gGDOOT6DIgB1G0JkoesmGh6She7HcrnV\n",
       "DNNwxJmPXLUOMlG8AMNVKNjq/wku9Z4TAajT0FKEcr3zqdxgP52Ak3A0k8nkdzeJDpq5XcmX18uT\n",
       "tCZGRUlcLmxwMOrMp1kE8PCZ8wYZ0iQadDpwWkLDWmyAz/QisCLWj89AVyxfiUjnRbTkel5IgfBM\n",
       "nBeodNSMwjUDGsjeFKDttW4DZlyPRfVBGRUHZQcsZhFEtz12A6U4XeKT3Dhkr3qeQ7oID6ZNiF9k\n",
       "O/7HvuRfvm8sict5uMTB0rbvG7VWyAK2KTs35mLYCNBHIuunil/h9iJE7eLycSHJQbucjyMwMnOK\n",
       "jpKBrpBmhCzl4RvOo70I2VhTIAMJghzI9JK7cmJJqtY/fp3/DcF0BEs2UtMEAAAAAElFTkSuQmCC\n",
       "\" style=\"display:inline;vertical-align:middle;\" /></a><br>(see <a class=\"ProveItLink\" href=\"../__pv_it/3f7412ebbf8d5f6d9eddea099423630ff4e3bbaa0/dependencies.ipynb\">dependencies</a>)<br>"
      ],
      "text/plain": [
       "multNegLeftDouble: forall_{x, y in Complexes} ((-((-x) * y)) = (x * y))"
      ]
     },
     "execution_count": 2,
     "metadata": {},
     "output_type": "execute_result"
    }
   ],
   "source": [
    "%proving multNegLeftDouble presuming []"
   ]
  },
  {
   "cell_type": "code",
   "execution_count": null,
   "metadata": {},
   "outputs": [],
   "source": []
  }
 ],
 "metadata": {
  "kernelspec": {
   "display_name": "Python 3",
   "language": "python",
   "name": "python3"
  }
 },
 "nbformat": 4,
 "nbformat_minor": 0
}
