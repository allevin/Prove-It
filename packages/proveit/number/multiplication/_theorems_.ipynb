{
 "cells": [
  {
   "cell_type": "markdown",
   "metadata": {
    "collapsed": true
   },
   "source": [
    "Theorems for context <a href=\"_context_.ipynb\" class=\"ProveItLink\">proveit.number.multiplication</a>\n",
    "========"
   ]
  },
  {
   "cell_type": "code",
   "execution_count": 1,
   "metadata": {},
   "outputs": [],
   "source": [
    "# the context is in the current directory:\n",
    "import proveit\n",
    "context = proveit.Context('.') # adds context root to sys.path if necessary\n",
    "from proveit import Iter, varIter, Indexed\n",
    "from proveit._common_ import AA,BB,CC,a, b,i,j,k, l, m, n, x, y, P, S\n",
    "from proveit.logic import Forall, InSet, Equals, NotEquals, Implies, Booleans\n",
    "from proveit.logic._common_ import iterA1m, iterC1n, iterB1n, iterC1m\n",
    "from proveit.number import Mult, Naturals, NaturalsPos, Integers, Reals, RealsPos, Complexes,  Add, Subtract, Sum, num, zero, one, Exp\n",
    "from proveit.number._common_ import ComplexesSansZero\n",
    "from proveit._core_.expression.operation import Function"
   ]
  },
  {
   "cell_type": "code",
   "execution_count": 2,
   "metadata": {},
   "outputs": [
    {
     "name": "stdout",
     "output_type": "stream",
     "text": [
      "Defining theorems for context 'proveit.number.multiplication'\n",
      "Subsequent end-of-cell assignments will define theorems\n",
      "'%end theorems' will finalize the definitions\n"
     ]
    }
   ],
   "source": [
    "%begin theorems"
   ]
  },
  {
   "cell_type": "code",
   "execution_count": 3,
   "metadata": {},
   "outputs": [
    {
     "data": {
      "text/html": [
       "<strong id=\"multAssoc\"><a class=\"ProveItLink\" href=\"_proofs_/multAssoc.ipynb\">multAssoc</a>:</strong> <a class=\"ProveItLink\" href=\"__pv_it/dad1f597a42a42a8adb30f41ba7885d88cbe352c0/expr.ipynb\"><img src=\"__pv_it/dad1f597a42a42a8adb30f41ba7885d88cbe352c0/expr.png\" style=\"display:inline;vertical-align:middle;\" /></a><br>"
      ],
      "text/plain": [
       "multAssoc: forall_{l, m, n in Naturals} [forall_{(A, B, C) in Naturals^{l} * Naturals^{m} * Naturals^{n}} ((A_1 *  ...  * A_l * B_1 *  ...  * B_m * C_1 *  ...  * C_n) = (A_1 *  ...  * A_l * (B_1 *  ...  * B_m) * C_1 *  ...  * C_n))]"
      ]
     },
     "execution_count": 3,
     "metadata": {},
     "output_type": "execute_result"
    }
   ],
   "source": [
    "multAssoc = Forall((l,m,n),Forall([AA, BB, CC],\n",
    "                  Equals(\n",
    "                        Mult(\n",
    "                                varIter(AA, one, l), varIter(BB, one, m), iterC1n),\n",
    "                        Mult(\n",
    "                                varIter(AA, one, l), Mult(varIter(BB, one, m)), iterC1n)\n",
    "                        ), domains = [Exp(Naturals,l), Exp(Naturals,m), Exp(Naturals,n)]\n",
    "                  ), domain= Naturals)"
   ]
  },
  {
   "cell_type": "code",
   "execution_count": 4,
   "metadata": {},
   "outputs": [
    {
     "data": {
      "text/html": [
       "<strong id=\"multNatClosureBin\"><a class=\"ProveItLink\" href=\"_proofs_/multNatClosureBin.ipynb\">multNatClosureBin</a>:</strong> <a class=\"ProveItLink\" href=\"__pv_it/bb5940c1e5baaaf3d02010a8f8ad9feec5277db80/expr.ipynb\"><img src=\"__pv_it/bb5940c1e5baaaf3d02010a8f8ad9feec5277db80/expr.png\" style=\"display:inline;vertical-align:middle;\" /></a><br>"
      ],
      "text/plain": [
       "multNatClosureBin: forall_{a, b in Naturals} ((a * b) in Naturals)"
      ]
     },
     "execution_count": 4,
     "metadata": {},
     "output_type": "execute_result"
    }
   ],
   "source": [
    "multNatClosureBin = Forall((a, b), InSet(Mult(a, b), Naturals), domain=Naturals)"
   ]
  },
  {
   "cell_type": "code",
   "execution_count": 5,
   "metadata": {},
   "outputs": [
    {
     "data": {
      "text/html": [
       "<strong id=\"multNatClosure\"><a class=\"ProveItLink\" href=\"_proofs_/multNatClosure.ipynb\">multNatClosure</a>:</strong> <a class=\"ProveItLink\" href=\"__pv_it/acc1efdd22555622e2eb1308132fa829ec4502ba0/expr.ipynb\"><img src=\"__pv_it/acc1efdd22555622e2eb1308132fa829ec4502ba0/expr.png\" style=\"display:inline;vertical-align:middle;\" /></a><br>"
      ],
      "text/plain": [
       "multNatClosure: forall_{m in Naturals} [forall_{A in Naturals^{m}} ((A_1 *  ...  * A_m) in Naturals)]"
      ]
     },
     "execution_count": 5,
     "metadata": {},
     "output_type": "execute_result"
    }
   ],
   "source": [
    "multNatClosure = Forall(m, Forall(AA, InSet(Mult(iterA1m), Naturals), domain = Exp(Naturals, m)), domain = Naturals)"
   ]
  },
  {
   "cell_type": "code",
   "execution_count": 6,
   "metadata": {},
   "outputs": [
    {
     "data": {
      "text/html": [
       "<strong id=\"multNatPosClosureBin\"><a class=\"ProveItLink\" href=\"_proofs_/multNatPosClosureBin.ipynb\">multNatPosClosureBin</a>:</strong> <a class=\"ProveItLink\" href=\"__pv_it/3e6e1e0ee2ee9be64dd2a85f5cc9155ad4e289b90/expr.ipynb\"><img src=\"__pv_it/3e6e1e0ee2ee9be64dd2a85f5cc9155ad4e289b90/expr.png\" style=\"display:inline;vertical-align:middle;\" /></a><br>"
      ],
      "text/plain": [
       "multNatPosClosureBin: forall_{a, b in NaturalsPos} ((a * b) in NaturalsPos)"
      ]
     },
     "execution_count": 6,
     "metadata": {},
     "output_type": "execute_result"
    }
   ],
   "source": [
    "multNatPosClosureBin = Forall((a, b), InSet(Mult(a, b), NaturalsPos), domain=NaturalsPos)"
   ]
  },
  {
   "cell_type": "code",
   "execution_count": 7,
   "metadata": {},
   "outputs": [
    {
     "data": {
      "text/html": [
       "<strong id=\"multNatPosClosure\"><a class=\"ProveItLink\" href=\"_proofs_/multNatPosClosure.ipynb\">multNatPosClosure</a>:</strong> <a class=\"ProveItLink\" href=\"__pv_it/d12781af992f3567c1eb17ca0ac42270ce6491a90/expr.ipynb\"><img src=\"__pv_it/d12781af992f3567c1eb17ca0ac42270ce6491a90/expr.png\" style=\"display:inline;vertical-align:middle;\" /></a><br>"
      ],
      "text/plain": [
       "multNatPosClosure: forall_{m in Naturals} [forall_{A in (NaturalsPos)^{m}} ((A_1 *  ...  * A_m) in NaturalsPos)]"
      ]
     },
     "execution_count": 7,
     "metadata": {},
     "output_type": "execute_result"
    }
   ],
   "source": [
    "multNatPosClosure = Forall(m, Forall(AA, InSet(Mult(iterA1m), NaturalsPos), domain = Exp((NaturalsPos), m)), domain = Naturals)"
   ]
  },
  {
   "cell_type": "code",
   "execution_count": 8,
   "metadata": {},
   "outputs": [
    {
     "data": {
      "text/html": [
       "<strong id=\"multIntClosureBin\"><a class=\"ProveItLink\" href=\"_proofs_/multIntClosureBin.ipynb\">multIntClosureBin</a>:</strong> <a class=\"ProveItLink\" href=\"__pv_it/f3f89cf4eb0eaf34bf055e7fac8a045455afc3640/expr.ipynb\"><img src=\"__pv_it/f3f89cf4eb0eaf34bf055e7fac8a045455afc3640/expr.png\" style=\"display:inline;vertical-align:middle;\" /></a><br>"
      ],
      "text/plain": [
       "multIntClosureBin: forall_{a, b in Integers} ((a * b) in Integers)"
      ]
     },
     "execution_count": 8,
     "metadata": {},
     "output_type": "execute_result"
    }
   ],
   "source": [
    "multIntClosureBin = Forall((a, b), InSet(Mult(a, b), Integers), domain=Integers)"
   ]
  },
  {
   "cell_type": "code",
   "execution_count": 9,
   "metadata": {},
   "outputs": [
    {
     "data": {
      "text/html": [
       "<strong id=\"multIntClosure\"><a class=\"ProveItLink\" href=\"_proofs_/multIntClosure.ipynb\">multIntClosure</a>:</strong> <a class=\"ProveItLink\" href=\"__pv_it/275491ff2585712536b548d794227e7ec25d67d30/expr.ipynb\"><img src=\"__pv_it/275491ff2585712536b548d794227e7ec25d67d30/expr.png\" style=\"display:inline;vertical-align:middle;\" /></a><br>"
      ],
      "text/plain": [
       "multIntClosure: forall_{m in Naturals} [forall_{A in Integers^{m}} ((A_1 *  ...  * A_m) in Integers)]"
      ]
     },
     "execution_count": 9,
     "metadata": {},
     "output_type": "execute_result"
    }
   ],
   "source": [
    "multIntClosure = Forall(m,Forall(AA, InSet(Mult(iterA1m), Integers), domain=Exp(Integers,m)), domain = Naturals)"
   ]
  },
  {
   "cell_type": "code",
   "execution_count": 10,
   "metadata": {},
   "outputs": [
    {
     "data": {
      "text/html": [
       "<strong id=\"multRealClosureBin\"><a class=\"ProveItLink\" href=\"_proofs_/multRealClosureBin.ipynb\">multRealClosureBin</a>:</strong> <a class=\"ProveItLink\" href=\"__pv_it/fccbd994b0f61175dd1077de433aa56de9ca0f8f0/expr.ipynb\"><img src=\"__pv_it/fccbd994b0f61175dd1077de433aa56de9ca0f8f0/expr.png\" style=\"display:inline;vertical-align:middle;\" /></a><br>"
      ],
      "text/plain": [
       "multRealClosureBin: forall_{a, b in Reals} ((a * b) in Reals)"
      ]
     },
     "execution_count": 10,
     "metadata": {},
     "output_type": "execute_result"
    }
   ],
   "source": [
    "multRealClosureBin = Forall((a, b), InSet(Mult(a, b), Reals), domain=Reals)"
   ]
  },
  {
   "cell_type": "code",
   "execution_count": 11,
   "metadata": {},
   "outputs": [
    {
     "data": {
      "text/html": [
       "<strong id=\"multRealClosure\"><a class=\"ProveItLink\" href=\"_proofs_/multRealClosure.ipynb\">multRealClosure</a>:</strong> <a class=\"ProveItLink\" href=\"__pv_it/577627826971247f53cd3904874deee1a62fa8bb0/expr.ipynb\"><img src=\"__pv_it/577627826971247f53cd3904874deee1a62fa8bb0/expr.png\" style=\"display:inline;vertical-align:middle;\" /></a><br>"
      ],
      "text/plain": [
       "multRealClosure: forall_{m in Naturals} [forall_{A in Reals^{m}} ((A_1 *  ...  * A_m) in Reals)]"
      ]
     },
     "execution_count": 11,
     "metadata": {},
     "output_type": "execute_result"
    }
   ],
   "source": [
    "multRealClosure = Forall(m, Forall(AA, InSet(Mult(iterA1m), Reals), domain=Exp(Reals,m)), domain=Naturals)"
   ]
  },
  {
   "cell_type": "code",
   "execution_count": 12,
   "metadata": {},
   "outputs": [
    {
     "data": {
      "text/html": [
       "<strong id=\"multRealPosClosureBin\"><a class=\"ProveItLink\" href=\"_proofs_/multRealPosClosureBin.ipynb\">multRealPosClosureBin</a>:</strong> <a class=\"ProveItLink\" href=\"__pv_it/851cf67ae304bd9ae14e6c7b94d119e0de6b03c90/expr.ipynb\"><img src=\"__pv_it/851cf67ae304bd9ae14e6c7b94d119e0de6b03c90/expr.png\" style=\"display:inline;vertical-align:middle;\" /></a><br>"
      ],
      "text/plain": [
       "multRealPosClosureBin: forall_{a, b in RealsPos} ((a * b) in RealsPos)"
      ]
     },
     "execution_count": 12,
     "metadata": {},
     "output_type": "execute_result"
    }
   ],
   "source": [
    "multRealPosClosureBin = Forall((a, b), InSet(Mult(a, b), RealsPos), domain=RealsPos)"
   ]
  },
  {
   "cell_type": "code",
   "execution_count": 13,
   "metadata": {},
   "outputs": [
    {
     "data": {
      "text/html": [
       "<strong id=\"multRealPosClosure\"><a class=\"ProveItLink\" href=\"_proofs_/multRealPosClosure.ipynb\">multRealPosClosure</a>:</strong> <a class=\"ProveItLink\" href=\"__pv_it/1a115e294f72817e3a67fa7bdd142770b6b1645b0/expr.ipynb\"><img src=\"__pv_it/1a115e294f72817e3a67fa7bdd142770b6b1645b0/expr.png\" style=\"display:inline;vertical-align:middle;\" /></a><br>"
      ],
      "text/plain": [
       "multRealPosClosure: forall_{m in Naturals} [forall_{A in (RealsPos)^{m}} ((A_1 *  ...  * A_m) in RealsPos)]"
      ]
     },
     "execution_count": 13,
     "metadata": {},
     "output_type": "execute_result"
    }
   ],
   "source": [
    "multRealPosClosure = Forall(m ,Forall(AA, InSet(Mult(iterA1m), RealsPos), domain=Exp((RealsPos),m)), domain=Naturals)"
   ]
  },
  {
   "cell_type": "code",
   "execution_count": 14,
   "metadata": {},
   "outputs": [
    {
     "data": {
      "text/html": [
       "<strong id=\"multComplexClosureBin\"><a class=\"ProveItLink\" href=\"_proofs_/multComplexClosureBin.ipynb\">multComplexClosureBin</a>:</strong> <a class=\"ProveItLink\" href=\"__pv_it/e4135c0bfc2433b7c340fa3e6d035449441cfe040/expr.ipynb\"><img src=\"__pv_it/e4135c0bfc2433b7c340fa3e6d035449441cfe040/expr.png\" style=\"display:inline;vertical-align:middle;\" /></a><br>"
      ],
      "text/plain": [
       "multComplexClosureBin: forall_{a, b in Complexes} ((a * b) in Complexes)"
      ]
     },
     "execution_count": 14,
     "metadata": {},
     "output_type": "execute_result"
    }
   ],
   "source": [
    "multComplexClosureBin = Forall((a, b), InSet(Mult(a, b), Complexes), domain=Complexes)"
   ]
  },
  {
   "cell_type": "code",
   "execution_count": 15,
   "metadata": {},
   "outputs": [
    {
     "data": {
      "text/html": [
       "<strong id=\"multComplexClosure\"><a class=\"ProveItLink\" href=\"_proofs_/multComplexClosure.ipynb\">multComplexClosure</a>:</strong> <a class=\"ProveItLink\" href=\"__pv_it/378428f9ad124729360b0f38856d9374f71426e00/expr.ipynb\"><img src=\"__pv_it/378428f9ad124729360b0f38856d9374f71426e00/expr.png\" style=\"display:inline;vertical-align:middle;\" /></a><br>"
      ],
      "text/plain": [
       "multComplexClosure: forall_{m in Naturals} [forall_{A in Complexes^{m}} ((A_1 *  ...  * A_m) in Complexes)]"
      ]
     },
     "execution_count": 15,
     "metadata": {},
     "output_type": "execute_result"
    }
   ],
   "source": [
    "multComplexClosure = Forall(m, Forall(AA, InSet(Mult(iterA1m),Complexes), domain=Exp(Complexes,m)), domain=Naturals)"
   ]
  },
  {
   "cell_type": "code",
   "execution_count": 16,
   "metadata": {},
   "outputs": [
    {
     "data": {
      "text/html": [
       "<strong id=\"multNotEqZero\"><a class=\"ProveItLink\" href=\"_proofs_/multNotEqZero.ipynb\">multNotEqZero</a>:</strong> <a class=\"ProveItLink\" href=\"__pv_it/4fbd0599a98fd059fe29850a0519dd0d356edb790/expr.ipynb\"><img src=\"__pv_it/4fbd0599a98fd059fe29850a0519dd0d356edb790/expr.png\" style=\"display:inline;vertical-align:middle;\" /></a><br>"
      ],
      "text/plain": [
       "multNotEqZero: forall_{m in Naturals} [forall_{A in Complexes - {0}^{m}} ((A_1 *  ...  * A_m) != 0)]"
      ]
     },
     "execution_count": 16,
     "metadata": {},
     "output_type": "execute_result"
    }
   ],
   "source": [
    "multNotEqZero = Forall(m, Forall(AA, NotEquals(Mult(iterA1m), zero), domain=Exp(ComplexesSansZero,m)), domain=Naturals)"
   ]
  },
  {
   "cell_type": "code",
   "execution_count": 17,
   "metadata": {},
   "outputs": [
    {
     "data": {
      "text/html": [
       "<strong id=\"multOne\"><a class=\"ProveItLink\" href=\"_proofs_/multOne.ipynb\">multOne</a>:</strong> <a class=\"ProveItLink\" href=\"__pv_it/e5bd3d95788c106efa441745fa5eef47da5c715b0/expr.ipynb\"><img src=\"__pv_it/e5bd3d95788c106efa441745fa5eef47da5c715b0/expr.png\" style=\"display:inline;vertical-align:middle;\" /></a><br>"
      ],
      "text/plain": [
       "multOne: forall_{x in Complexes} ((1 * x) = x)"
      ]
     },
     "execution_count": 17,
     "metadata": {},
     "output_type": "execute_result"
    }
   ],
   "source": [
    "multOne = Forall(x, Equals(Mult(one, x), x), domain=Complexes)"
   ]
  },
  {
   "cell_type": "code",
   "execution_count": 18,
   "metadata": {},
   "outputs": [
    {
     "data": {
      "text/html": [
       "<strong id=\"multZero\"><a class=\"ProveItLink\" href=\"_proofs_/multZero.ipynb\">multZero</a>:</strong> <a class=\"ProveItLink\" href=\"__pv_it/1ad1eb0a2d477bf041e3aa91409f135319fdf8650/expr.ipynb\"><img src=\"__pv_it/1ad1eb0a2d477bf041e3aa91409f135319fdf8650/expr.png\" style=\"display:inline;vertical-align:middle;\" /></a><br>"
      ],
      "text/plain": [
       "multZero: forall_{x in Complexes} ((0 * x) = 0)"
      ]
     },
     "execution_count": 18,
     "metadata": {},
     "output_type": "execute_result"
    }
   ],
   "source": [
    "multZero = Forall(x, Equals(Mult(zero, x), zero), domain=Complexes)"
   ]
  },
  {
   "cell_type": "code",
   "execution_count": 19,
   "metadata": {},
   "outputs": [
    {
     "data": {
      "text/html": [
       "<strong id=\"group\"><a class=\"ProveItLink\" href=\"_proofs_/group.ipynb\">group</a>:</strong> <a class=\"ProveItLink\" href=\"__pv_it/9406750aca009b05fe55e05c019458fa8efb3a240/expr.ipynb\"><img src=\"__pv_it/9406750aca009b05fe55e05c019458fa8efb3a240/expr.png\" style=\"display:inline;vertical-align:middle;\" /></a><br>"
      ],
      "text/plain": [
       "group: forall_{l, m, n in Naturals} [forall_{(A, B, C) in Reals^{l} * Reals^{m} * Reals^{n}} ((A_1 *  ...  * A_l * B_1 *  ...  * B_m * C_1 *  ...  * C_n) = (A_1 *  ...  * A_l * (B_1 *  ...  * B_m) * C_1 *  ...  * C_n))]"
      ]
     },
     "execution_count": 19,
     "metadata": {},
     "output_type": "execute_result"
    }
   ],
   "source": [
    "group = Forall((l,m,n), Forall((AA,BB,CC),Equals(Mult(Iter(i, Indexed(AA,i), one, l), Iter(j,Indexed(BB,j),one,m), Iter(k, Indexed(CC,k),one,n)),Mult(Iter(i, Indexed(AA,i), one, l), Mult(Iter(j,Indexed(BB,j),one,m)), Iter(k, Indexed(CC,k),one,n))), domains = [Exp(Reals,l), Exp(Reals,m), Exp(Reals,n)]),domain = Naturals)"
   ]
  },
  {
   "cell_type": "code",
   "execution_count": 20,
   "metadata": {},
   "outputs": [
    {
     "data": {
      "text/html": [
       "<strong id=\"distributeThroughSum\"><a class=\"ProveItLink\" href=\"_proofs_/distributeThroughSum.ipynb\">distributeThroughSum</a>:</strong> <a class=\"ProveItLink\" href=\"__pv_it/5cbba9b0e15b56dd476e9af82d66f3e4295b7ffd0/expr.ipynb\"><img src=\"__pv_it/5cbba9b0e15b56dd476e9af82d66f3e4295b7ffd0/expr.png\" style=\"display:inline;vertical-align:middle;\" /></a><br>"
      ],
      "text/plain": [
       "distributeThroughSum: forall_{l, m, n in Naturals} [forall_{(A, B, C) in Complexes^{l} * Complexes^{m} * Complexes^{n}} ((A_1 *  ...  * A_l * (B_1 +  ...  + B_m) * C_1 *  ...  * C_n) = ((A_1 *  ...  * A_l * B_1 * C_1 *  ...  * C_n) +  ...  + (A_1 *  ...  * A_l * B_m * C_1 *  ...  * C_n)))]"
      ]
     },
     "execution_count": 20,
     "metadata": {},
     "output_type": "execute_result"
    }
   ],
   "source": [
    "distributeThroughSum =  Forall((l,m,n),Forall((AA, BB, CC),\n",
    "                  Equals(\n",
    "                        Mult(varIter(AA, one,l), Add(varIter(BB, one, m)), iterC1n),\n",
    "                        Add(Iter(i,Mult(varIter(AA, one,l), Indexed(BB, i), iterC1n), one, m))\n",
    "                        ),\n",
    "                  domains = [Exp(Complexes,l), Exp(Complexes,m), Exp(Complexes,n)]\n",
    "                  ), domain = Naturals)"
   ]
  },
  {
   "cell_type": "code",
   "execution_count": 21,
   "metadata": {},
   "outputs": [
    {
     "data": {
      "text/html": [
       "<strong id=\"distributeThroughSubtract\"><a class=\"ProveItLink\" href=\"_proofs_/distributeThroughSubtract.ipynb\">distributeThroughSubtract</a>:</strong> <a class=\"ProveItLink\" href=\"__pv_it/80e95998722686ba811130b1285ef11697443f990/expr.ipynb\"><img src=\"__pv_it/80e95998722686ba811130b1285ef11697443f990/expr.png\" style=\"display:inline;vertical-align:middle;\" /></a><br>"
      ],
      "text/plain": [
       "distributeThroughSubtract: forall_{m, n in Naturals} [forall_{(A, x, y, B) in Complexes^{m} * Complexes * Complexes * Complexes^{n}} ((A_1 *  ...  * A_m * (x + (-y)) * B_1 *  ...  * B_n) = ((A_1 *  ...  * A_m * x * B_1 *  ...  * B_n) + (-(A_1 *  ...  * A_m * y * B_1 *  ...  * B_n))))]"
      ]
     },
     "execution_count": 21,
     "metadata": {},
     "output_type": "execute_result"
    }
   ],
   "source": [
    "distributeThroughSubtract =  Forall((m,n), Forall((AA, x, y, BB),\n",
    "                  Equals(\n",
    "                        Mult(iterA1m, Subtract(x, y), iterB1n),\n",
    "                        Subtract(Mult(iterA1m, x, iterB1n), Mult(iterA1m, y, iterB1n))\n",
    "                        ),\n",
    "                  domains = [Exp(Complexes,m), Complexes, Complexes, Exp(Complexes,n)]\n",
    "                  ), domain = Naturals)"
   ]
  },
  {
   "cell_type": "code",
   "execution_count": 22,
   "metadata": {},
   "outputs": [
    {
     "data": {
      "text/html": [
       "<strong id=\"distributeThroughSummation\"><a class=\"ProveItLink\" href=\"_proofs_/distributeThroughSummation.ipynb\">distributeThroughSummation</a>:</strong> <a class=\"ProveItLink\" href=\"__pv_it/efe20bc3cc03a9c067925f76b0a80b4bed6dfa8a0/expr.ipynb\"><img src=\"__pv_it/efe20bc3cc03a9c067925f76b0a80b4bed6dfa8a0/expr.png\" style=\"display:inline;vertical-align:middle;\" /></a><br>"
      ],
      "text/plain": [
       "distributeThroughSummation: forall_{l, m, n in Naturals} [forall_{P, S} ([forall_{B in S^{m}} (P(B_1,...,B_m) in Complexes)] => [forall_{(A, C) in Complexes^{l} * Complexes^{n}} ((A_1 *  ...  * A_l * [Sum_{B_1,...,B_m in S} P(B_1,...,B_m)] * C_1 *  ...  * C_n) = [Sum_{B_1,...,B_m in S} (A_1 *  ...  * A_l * P(B_1,...,B_m) * C_1 *  ...  * C_n)])])]"
      ]
     },
     "execution_count": 22,
     "metadata": {},
     "output_type": "execute_result"
    }
   ],
   "source": [
    "distributeThroughSummation = Forall((l,m,n), Forall((P, S),\n",
    "                                    Implies(Forall(BB, InSet(Function(P, varIter(BB, one,m)), Complexes), domain=Exp(S,m)),\n",
    "                                            Forall((AA, CC),\n",
    "                                                   Equals(Mult(varIter(AA, one, l), Sum(varIter(BB, one, m), Function(P, varIter(BB, one,m)), domain=S), iterC1n),\n",
    "                                                          Sum(varIter(BB, one, m), Mult(varIter(AA, one, l),Function(P, varIter(BB, one,m)) , iterC1n), domain=S)),\n",
    "                                                  domains=[Exp(Complexes,l),Exp(Complexes,n)]))), domain=Naturals)\n"
   ]
  },
  {
   "cell_type": "code",
   "execution_count": 23,
   "metadata": {},
   "outputs": [
    {
     "name": "stdout",
     "output_type": "stream",
     "text": [
      "Theorems may be imported from autogenerated _theorems_.py\n"
     ]
    }
   ],
   "source": [
    "%end theorems"
   ]
  }
 ],
 "metadata": {
  "kernelspec": {
   "display_name": "Python 3",
   "language": "python",
   "name": "python3"
  },
  "language_info": {
   "codemirror_mode": {
    "name": "ipython",
    "version": 3
   },
   "file_extension": ".py",
   "mimetype": "text/x-python",
   "name": "python",
   "nbconvert_exporter": "python",
   "pygments_lexer": "ipython3",
   "version": "3.7.3"
  }
 },
 "nbformat": 4,
 "nbformat_minor": 1
}
