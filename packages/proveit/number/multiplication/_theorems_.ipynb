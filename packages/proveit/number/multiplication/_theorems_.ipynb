{
 "cells": [
  {
   "cell_type": "markdown",
   "metadata": {
    "collapsed": true
   },
   "source": [
    "Theorems for context <a href=\"_context_.ipynb\" class=\"ProveItLink\">proveit.number.multiplication</a>\n",
    "========"
   ]
  },
  {
   "cell_type": "code",
   "execution_count": 1,
   "metadata": {},
   "outputs": [],
   "source": [
    "# the context is in the current directory:\n",
    "import proveit\n",
    "context = proveit.Context('.') # adds context root to sys.path if necessary\n",
    "#from proveit import Etcetera\n",
    "#from proveit._common_ import a, b, x, y, P, S, vMulti, wMulti, xMulti, yMulti, zMulti, vEtc, wEtc, xEtc, yEtc, zEtc, PyEtc\n",
    "from proveit.logic import Forall, InSet, Equals, NotEquals, Implies\n",
    "from proveit.number import Mult, Naturals, NaturalsPos, Integers, Reals, RealsPos, Complexes,  Add, Subtract, Sum, num\n",
    "from proveit.number._common_ import ComplexesSansZero"
   ]
  },
  {
   "cell_type": "code",
   "execution_count": 2,
   "metadata": {},
   "outputs": [
    {
     "name": "stdout",
     "output_type": "stream",
     "text": [
      "Defining theorems for context 'proveit.number.multiplication'\n",
      "Subsequent end-of-cell assignments will define theorems\n",
      "'%end theorems' will finalize the definitions\n"
     ]
    }
   ],
   "source": [
    "%begin theorems"
   ]
  },
  {
   "cell_type": "code",
   "execution_count": 3,
   "metadata": {},
   "outputs": [
    {
     "data": {
      "text/plain": [
       "'\\nmultAssoc = Forall([xMulti, yMulti, zMulti],\\n                  Equals(\\n                        Mult(\\n                                xEtc,yEtc,zEtc),\\n                        Mult(\\n                                xEtc,Mult(yEtc),zEtc)\\n                        )\\n                  )\\n'"
      ]
     },
     "execution_count": 3,
     "metadata": {},
     "output_type": "execute_result"
    }
   ],
   "source": [
    "\"\"\"\n",
    "multAssoc = Forall([xMulti, yMulti, zMulti],\n",
    "                  Equals(\n",
    "                        Mult(\n",
    "                                xEtc,yEtc,zEtc),\n",
    "                        Mult(\n",
    "                                xEtc,Mult(yEtc),zEtc)\n",
    "                        )\n",
    "                  )\n",
    "\"\"\""
   ]
  },
  {
   "cell_type": "code",
   "execution_count": 4,
   "metadata": {},
   "outputs": [],
   "source": [
    "#multNatClosure = Forall((a, b), InSet(Mult(a, b), Naturals), domain=Naturals)"
   ]
  },
  {
   "cell_type": "code",
   "execution_count": 5,
   "metadata": {},
   "outputs": [],
   "source": [
    "#multNatPosClosure = Forall((a, b), InSet(Mult(a, b), NaturalsPos), domain=NaturalsPos)"
   ]
  },
  {
   "cell_type": "code",
   "execution_count": 6,
   "metadata": {},
   "outputs": [],
   "source": [
    "#multIntClosure = Forall(xMulti, InSet(Mult(xEtc), Integers), domain=Integers)"
   ]
  },
  {
   "cell_type": "code",
   "execution_count": 7,
   "metadata": {},
   "outputs": [],
   "source": [
    "#multRealClosure = Forall(xMulti, InSet(Mult(xEtc), Reals), domain=Reals)"
   ]
  },
  {
   "cell_type": "code",
   "execution_count": 8,
   "metadata": {},
   "outputs": [],
   "source": [
    "#multRealPosClosure = Forall(xMulti, InSet(Mult(xEtc), RealsPos), domain=RealsPos)"
   ]
  },
  {
   "cell_type": "code",
   "execution_count": 9,
   "metadata": {},
   "outputs": [],
   "source": [
    "#multComplexClosure = Forall(xMulti, InSet(Mult(xEtc),Complexes), domain=Complexes)"
   ]
  },
  {
   "cell_type": "code",
   "execution_count": 10,
   "metadata": {},
   "outputs": [],
   "source": [
    "#multNotEqZero = Forall(xMulti, NotEquals(Mult(xEtc), num(0)), domain=ComplexesSansZero)"
   ]
  },
  {
   "cell_type": "code",
   "execution_count": 11,
   "metadata": {},
   "outputs": [],
   "source": [
    "#multOne = Forall(x, Equals(Mult(num(1), x), x), domain=Complexes)"
   ]
  },
  {
   "cell_type": "code",
   "execution_count": 12,
   "metadata": {},
   "outputs": [],
   "source": [
    "#multZero = Forall(x, Equals(Mult(num(0), x), num(0)), domain=Complexes)"
   ]
  },
  {
   "cell_type": "code",
   "execution_count": 13,
   "metadata": {},
   "outputs": [
    {
     "data": {
      "text/plain": [
       "'\\nmultComm = Forall((vMulti,wMulti,xMulti,yMulti,zMulti),\\n                 Equals(\\n                        Mult(vEtc,wEtc,xEtc,yEtc,zEtc),\\n                        Mult(vEtc,yEtc,xEtc,wEtc,zEtc)\\n    ),\\n                 domain = Complexes\\n                 )\\n'"
      ]
     },
     "execution_count": 13,
     "metadata": {},
     "output_type": "execute_result"
    }
   ],
   "source": [
    "\"\"\"\n",
    "multComm = Forall((vMulti,wMulti,xMulti,yMulti,zMulti),\n",
    "                 Equals(\n",
    "                        Mult(vEtc,wEtc,xEtc,yEtc,zEtc),\n",
    "                        Mult(vEtc,yEtc,xEtc,wEtc,zEtc)\n",
    "    ),\n",
    "                 domain = Complexes\n",
    "                 )\n",
    "\"\"\""
   ]
  },
  {
   "cell_type": "code",
   "execution_count": 14,
   "metadata": {},
   "outputs": [
    {
     "data": {
      "text/plain": [
       "'\\ndistributeThroughSum =  Forall((xMulti, yMulti, zMulti),\\n                  Equals(\\n                        Mult(xEtc, Add(yEtc), zEtc),\\n                        Add(Etcetera(Mult(xEtc, yMulti, zEtc)))\\n                        ),\\n                  domain = Complexes\\n                  )\\n'"
      ]
     },
     "execution_count": 14,
     "metadata": {},
     "output_type": "execute_result"
    }
   ],
   "source": [
    "\"\"\"\n",
    "distributeThroughSum =  Forall((xMulti, yMulti, zMulti),\n",
    "                  Equals(\n",
    "                        Mult(xEtc, Add(yEtc), zEtc),\n",
    "                        Add(Etcetera(Mult(xEtc, yMulti, zEtc)))\n",
    "                        ),\n",
    "                  domain = Complexes\n",
    "                  )\n",
    "\"\"\""
   ]
  },
  {
   "cell_type": "code",
   "execution_count": 15,
   "metadata": {},
   "outputs": [
    {
     "data": {
      "text/plain": [
       "'\\ndistributeThroughSubtract =  Forall((wMulti, x, y, zMulti),\\n                  Equals(\\n                        Mult(wEtc, Sub(x, y), zEtc),\\n                        Sub(Mult(wEtc, x, zEtc), Mult(wEtc, y, zEtc))\\n                        ),\\n                  domain = Complexes\\n                  )\\n'"
      ]
     },
     "execution_count": 15,
     "metadata": {},
     "output_type": "execute_result"
    }
   ],
   "source": [
    "\"\"\"\n",
    "distributeThroughSubtract =  Forall((wMulti, x, y, zMulti),\n",
    "                  Equals(\n",
    "                        Mult(wEtc, Sub(x, y), zEtc),\n",
    "                        Sub(Mult(wEtc, x, zEtc), Mult(wEtc, y, zEtc))\n",
    "                        ),\n",
    "                  domain = Complexes\n",
    "                  )\n",
    "\"\"\""
   ]
  },
  {
   "cell_type": "code",
   "execution_count": 16,
   "metadata": {},
   "outputs": [
    {
     "data": {
      "text/plain": [
       "'\\ndistributeThroughSummation = Forall((P, S),\\n                                    Implies(Forall(yMulti, InSet(PyEtc, Complexes), domain=S),\\n                                            Forall((xMulti, zMulti),\\n                                                   Equals(Mult(xEtc, Sum(yMulti, PyEtc, domain=S), zEtc),\\n                                                          Sum(yMulti, Mult(xEtc, PyEtc, zEtc), domain=S)),\\n                                                  domain=Complexes)))\\n'"
      ]
     },
     "execution_count": 16,
     "metadata": {},
     "output_type": "execute_result"
    }
   ],
   "source": [
    "\"\"\"\n",
    "distributeThroughSummation = Forall((P, S),\n",
    "                                    Implies(Forall(yMulti, InSet(PyEtc, Complexes), domain=S),\n",
    "                                            Forall((xMulti, zMulti),\n",
    "                                                   Equals(Mult(xEtc, Sum(yMulti, PyEtc, domain=S), zEtc),\n",
    "                                                          Sum(yMulti, Mult(xEtc, PyEtc, zEtc), domain=S)),\n",
    "                                                  domain=Complexes)))\n",
    "\"\"\""
   ]
  },
  {
   "cell_type": "code",
   "execution_count": 17,
   "metadata": {},
   "outputs": [
    {
     "name": "stdout",
     "output_type": "stream",
     "text": [
      "Context proveit.number.multiplication has no theorems\n"
     ]
    }
   ],
   "source": [
    "%end theorems"
   ]
  }
 ],
 "metadata": {
  "kernelspec": {
   "display_name": "Python 3",
   "language": "python",
   "name": "python3"
  },
  "language_info": {
   "codemirror_mode": {
    "name": "ipython",
    "version": 3
   },
   "file_extension": ".py",
   "mimetype": "text/x-python",
   "name": "python",
   "nbconvert_exporter": "python",
   "pygments_lexer": "ipython3",
   "version": "3.7.3"
  }
 },
 "nbformat": 4,
 "nbformat_minor": 1
}
