{
 "cells": [
  {
   "cell_type": "markdown",
   "metadata": {},
   "source": [
    "Theorems for context <a href=\"_context_.ipynb\" class=\"ProveItLink\">proveit.number.multiplication</a>\n",
    "========"
   ]
  },
  {
   "cell_type": "code",
   "execution_count": null,
   "metadata": {},
   "outputs": [],
   "source": [
    "# the context is in the current directory:\n",
    "import proveit\n",
    "context = proveit.Context('.') # adds context root to sys.path if necessary\n",
    "# from proveit import Etcetera\n",
    "# from proveit._common_ import a, b, x, y, P, S, vMulti, wMulti, xMulti, yMulti, zMulti, vEtc, wEtc, xEtc, yEtc, zEtc, PyEtc\n",
    "# temporarily re-established:\n",
    "from proveit._common_ import a, b, xx\n",
    "from proveit.logic import Forall, InSet, Equals, NotEquals, Implies\n",
    "from proveit.number import Mult, Naturals, NaturalsPos, Integers, Reals, RealsPos, Complexes,  Add, Subtract, Sum, num\n",
    "from proveit.number._common_ import ComplexesSansZero"
   ]
  },
  {
   "cell_type": "code",
   "execution_count": null,
   "metadata": {},
   "outputs": [],
   "source": [
    "%begin theorems"
   ]
  },
  {
   "cell_type": "code",
   "execution_count": null,
   "metadata": {},
   "outputs": [],
   "source": [
    "\"\"\"\n",
    "multAssoc = Forall([xMulti, yMulti, zMulti],\n",
    "                  Equals(\n",
    "                        Mult(\n",
    "                                xEtc,yEtc,zEtc),\n",
    "                        Mult(\n",
    "                                xEtc,Mult(yEtc),zEtc)\n",
    "                        )\n",
    "                  )\n",
    "\"\"\""
   ]
  },
  {
   "cell_type": "code",
   "execution_count": null,
   "metadata": {},
   "outputs": [],
   "source": [
    "#multNatClosure = Forall((a, b), InSet(Mult(a, b), Naturals), domain=Naturals)"
   ]
  },
  {
   "cell_type": "code",
   "execution_count": null,
   "metadata": {},
   "outputs": [],
   "source": [
    "# temporarily re-established\n",
    "multNatsClosure = Forall((a, b), InSet(Mult(a, b), Naturals), domain=Naturals)"
   ]
  },
  {
   "cell_type": "code",
   "execution_count": null,
   "metadata": {},
   "outputs": [],
   "source": [
    "#multNatPosClosure = Forall((a, b), InSet(Mult(a, b), NaturalsPos), domain=NaturalsPos)"
   ]
  },
  {
   "cell_type": "code",
   "execution_count": null,
   "metadata": {},
   "outputs": [],
   "source": [
    "#multIntClosure = Forall(xMulti, InSet(Mult(xEtc), Integers), domain=Integers)"
   ]
  },
  {
   "cell_type": "code",
   "execution_count": null,
   "metadata": {},
   "outputs": [],
   "source": [
    "# temporarily re-established\n",
    "# multIntClosure = Forall(xMulti, InSet(Mult(xEtc), Integers), domain=Integers)"
   ]
  },
  {
   "cell_type": "code",
   "execution_count": null,
   "metadata": {},
   "outputs": [],
   "source": [
    "#multRealClosure = Forall(xMulti, InSet(Mult(xEtc), Reals), domain=Reals)"
   ]
  },
  {
   "cell_type": "code",
   "execution_count": null,
   "metadata": {},
   "outputs": [],
   "source": [
    "#multRealPosClosure = Forall(xMulti, InSet(Mult(xEtc), RealsPos), domain=RealsPos)"
   ]
  },
  {
   "cell_type": "code",
   "execution_count": null,
   "metadata": {},
   "outputs": [],
   "source": [
    "#multComplexClosure = Forall(xMulti, InSet(Mult(xEtc),Complexes), domain=Complexes)"
   ]
  },
  {
   "cell_type": "code",
   "execution_count": null,
   "metadata": {},
   "outputs": [],
   "source": [
    "#multNotEqZero = Forall(xMulti, NotEquals(Mult(xEtc), num(0)), domain=ComplexesSansZero)"
   ]
  },
  {
   "cell_type": "code",
   "execution_count": null,
   "metadata": {},
   "outputs": [],
   "source": [
    "#multOne = Forall(x, Equals(Mult(num(1), x), x), domain=Complexes)"
   ]
  },
  {
   "cell_type": "code",
   "execution_count": null,
   "metadata": {},
   "outputs": [],
   "source": [
    "#multZero = Forall(x, Equals(Mult(num(0), x), num(0)), domain=Complexes)"
   ]
  },
  {
   "cell_type": "code",
   "execution_count": null,
   "metadata": {},
   "outputs": [],
   "source": [
    "\"\"\"\n",
    "multComm = Forall((vMulti,wMulti,xMulti,yMulti,zMulti),\n",
    "                 Equals(\n",
    "                        Mult(vEtc,wEtc,xEtc,yEtc,zEtc),\n",
    "                        Mult(vEtc,yEtc,xEtc,wEtc,zEtc)\n",
    "    ),\n",
    "                 domain = Complexes\n",
    "                 )\n",
    "\"\"\""
   ]
  },
  {
   "cell_type": "code",
   "execution_count": null,
   "metadata": {},
   "outputs": [],
   "source": [
    "\"\"\"\n",
    "distributeThroughSum =  Forall((xMulti, yMulti, zMulti),\n",
    "                  Equals(\n",
    "                        Mult(xEtc, Add(yEtc), zEtc),\n",
    "                        Add(Etcetera(Mult(xEtc, yMulti, zEtc)))\n",
    "                        ),\n",
    "                  domain = Complexes\n",
    "                  )\n",
    "\"\"\""
   ]
  },
  {
   "cell_type": "code",
   "execution_count": null,
   "metadata": {},
   "outputs": [],
   "source": [
    "\"\"\"\n",
    "distributeThroughSubtract =  Forall((wMulti, x, y, zMulti),\n",
    "                  Equals(\n",
    "                        Mult(wEtc, Sub(x, y), zEtc),\n",
    "                        Sub(Mult(wEtc, x, zEtc), Mult(wEtc, y, zEtc))\n",
    "                        ),\n",
    "                  domain = Complexes\n",
    "                  )\n",
    "\"\"\""
   ]
  },
  {
   "cell_type": "code",
   "execution_count": null,
   "metadata": {},
   "outputs": [],
   "source": [
    "\"\"\"\n",
    "distributeThroughSummation = Forall((P, S),\n",
    "                                    Implies(Forall(yMulti, InSet(PyEtc, Complexes), domain=S),\n",
    "                                            Forall((xMulti, zMulti),\n",
    "                                                   Equals(Mult(xEtc, Sum(yMulti, PyEtc, domain=S), zEtc),\n",
    "                                                          Sum(yMulti, Mult(xEtc, PyEtc, zEtc), domain=S)),\n",
    "                                                  domain=Complexes)))\n",
    "\"\"\""
   ]
  },
  {
   "cell_type": "code",
   "execution_count": null,
   "metadata": {},
   "outputs": [],
   "source": [
    "%end theorems"
   ]
  }
 ],
 "metadata": {
  "kernelspec": {
   "display_name": "Python 3",
   "language": "python",
   "name": "python3"
  }
 },
 "nbformat": 4,
 "nbformat_minor": 0
}
