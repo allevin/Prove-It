{
 "cells": [
  {
   "cell_type": "markdown",
   "metadata": {},
   "source": [
    "Theorems for context <a href=\"_context_.ipynb\" class=\"ProveItLink\">proveit.number.multiplication</a>\n",
    "========"
   ]
  },
  {
   "cell_type": "code",
   "execution_count": 1,
   "metadata": {},
   "outputs": [],
   "source": [
    "# the context is in the current directory:\n",
    "import proveit\n",
    "context = proveit.Context('.') # adds context root to sys.path if necessary\n",
    "from proveit import Iter, varIter, Indexed\n",
    "\n",
    "# let's convert these to lower-case at some point (more traditional for numbers, ALL-CAPS for logic)\n",
    "from proveit._common_ import AA, B, BB, CC, D, EE, P\n",
    "from proveit.logic._common_ import iterA1m, iterC1n\n",
    "\n",
    "from proveit._common_ import a, b, c, d, e, f, g, h, i,j,k, l, m, n, x, y, S, aa, bb, cc, dd\n",
    "from proveit.number._common_ import iter_a1l, iter_b1m, iter_c1m, iter_c1n, iter_d1n\n",
    "from proveit.logic import Forall, InSet, Equals, NotEquals, Implies, Booleans\n",
    "from proveit.logic._common_ import iterA1m, iterC1n, iterB1n, iterC1m\n",
    "from proveit.number import Naturals, NaturalsPos, Integers, Reals, RealsPos, Complexes\n",
    "from proveit.number import Mult, Neg, Add, subtract, Sum, num, zero, one, Exp\n",
    "from proveit.number._common_ import ComplexesSansZero\n",
    "from proveit._core_.expression.operation import Function"
   ]
  },
  {
   "cell_type": "code",
   "execution_count": 2,
   "metadata": {},
   "outputs": [
    {
     "name": "stdout",
     "output_type": "stream",
     "text": [
      "Defining theorems for context 'proveit.number.multiplication'\n",
      "Subsequent end-of-cell assignments will define theorems\n",
      "'%end theorems' will finalize the definitions\n"
     ]
    }
   ],
   "source": [
    "%begin theorems"
   ]
  },
  {
   "cell_type": "code",
   "execution_count": 3,
   "metadata": {},
   "outputs": [
    {
     "data": {
      "text/html": [
       "<strong id=\"multDefRev\"><a class=\"ProveItLink\" href=\"_proofs_/multDefRev.ipynb\">multDefRev</a>:</strong> <a class=\"ProveItLink\" href=\"__pv_it/12488f101f49df93eaf03b0a038cb46fb1584bd30/expr.ipynb\"><img src=\"data:image/png;base64,iVBORw0KGgoAAAANSUhEUgAAAlAAAAAZBAMAAAAMBA37AAAAMFBMVEX///8QEBC6urrMzMxUVFRm\n",
       "ZmZERETc3NwyMjKqqqp2dnaIiIiYmJgiIiLu7u4AAAAU9Wx4AAAAAXRSTlMAQObYZgAABmFJREFU\n",
       "WMPtmXuIVFUYwL+9d2dm586du7tFmUXOTQOjJXak8hW1wwpqhDaRQrYFg8RYLNRAQwqSDhG0aNlE\n",
       "CYF/NISpJY0XtCVLbUxMSdKxx0bC6hVCQ2UdHyk+8na+c+773nkRDBJ+8N25j/N9957fOd93HgNQ\n",
       "W4Kjv8Mt4UaP1CsSvUWJShbUuqDUm+FDe3Qlwl9p2tpuIsr+3n3le10JqDL+HKgFqk6JlgifYEo/\n",
       "6WrT5g6TZ329+0sgzpSA+hyv19QCVadES6RDZYqy5WLT5g6TDl/vVSSnaxbeIMdQqhaoOiVaIt/q\n",
       "is2v/WN/ImWqmJy09RiHiVjw815FftQ1S2kG8rVA1SnREpmgKzb/Fs3+JKxUMVln6zEOE6nLz3sV\n",
       "Oa5rFsSNS5e+WTOZ1ynRkuE5xxRlZ5umNgnKZfKKj/eq06M80yzApXT6SO3pQe0SrZBAgSkmgQsd\n",
       "mtwcKLfJZz7ee5Ys31boGbYCJ7R5zroBACHJlICaBbCkNii9xOvOJ+FW5vISU2ziZEArNQfKbfIx\n",
       "Hp4bQnnb8F6Yq0hX5XDFLHQKfirdS9znmBJQ94OUqw2KlQjRFu01mfOFRmLGPKk/+emtngfbZKZE\n",
       "dkNEIy3MpxoHpZuYcp/XOyePgHQNGKgxPBTgO/iQfHcX0yyiiJSchtMXypE7VAsUKxGk1zELz6dG\n",
       "cty//jf3155ZNW+ANqb5MfUnP7Hq5DtlpuRlV4DTUsAvKDcMSjexpM/rXZLOQ/gGBLDLSHSIVGE2\n",
       "7Q4VpgRUpBS1ZTrpq4UlMVWEoq1HsRL0xYGY9ca/iJ5e+AI8/CpML4iLdvTvtXrbVJVf5QD1zKW6\n",
       "eSiWagBU+7numEYghSmowNDQe3cNDXnniySwDuuBZZrUAkUplaEN20q6k92+xwVKyj1iMxqePKaK\n",
       "BwIOUKwETWQPfWKNre1xiCxeMQb7FOAK4WG4jSP9myOw9oC4HOBBOyjuj3P1QNlde0IvzxTggyfG\n",
       "TmoVA1RDPcowcYbei6MoI4Z30peiSejNqLYhACRH6MGSfjIFGOhZHxmOg4ixLM6YpthB0RJAq/Hz\n",
       "yhv4I2zrmQURBfYigxlkip+BWVJZwKosQh+TSHSH7KCikx0DNGzu3xZ3VUx3bRP6FpaOS0xBGk8O\n",
       "xy77gEL3EhgHGyjDxKgiwH73FIB4Jn3prAxzQ2YW2hepwC7CIscUQa0l7zzTW4omxASb3ovx4h4H\n",
       "KCzBY/gKyc7zeKPYnhoPXIJO7iNnKIJyOBkVMRryhN6ug8Y3mCMyDtDzAebiWKMI6uw2V+o2XNO+\n",
       "ioVWs7foD5lCFsPztSteUDSxnC0bBxsow8Soond6gJ5XynAIYLVgDqbXg10hxTE9gDZyveJr6IyT\n",
       "GzMZKEGYbweFJTh8xRS14xrekHFE5XN04GOgpJSQD27FZwuSXlD8BHhfgZnjrMHwXXekGK5tIncY\n",
       "7cuVmXZqpGM+rWkXvKAwsRxPGQcLlGliVBHgLffQXKbhuAHgo61mrh4sfrEDpw4yUwQlYkWfginQ\n",
       "kYfH0+m0IsZDB4/aQWGJMII63B1jy8vODAU1kk4PchOdQbST1G7iJCeoaHe3Ruxte4CX3aBM1/Ys\n",
       "a67jxulqTZ8az1GG6FX0WcKMa2QJo8vtMAwrOfiT9SiYtMu9cceRhhISILLl5RSIkzsSHW7mK5ij\n",
       "zCVn8kkSO6edOWo9wKEyBfUyDT3gu3hX96eu9bEzyEKPvsW5NvWC4pQaO1gO0asIguK38q0im3U1\n",
       "QIUqBPgPArRnGCix6AYllTE8yEIcQu/wlU1kQkZW4XPwyaMbMa8bshcX0PzzGbYkDxqRB30VW4/q\n",
       "E3ICLMuE1sAyFQ8Z3bUxdjIr+hbvNosTVMNiVJFOaxrdZsGZtpSzgSL95ReYuhGkxeTiAXJIeLaC\n",
       "j0KUhM9ubTx/XRpc+40KARlO4NxG+jLdb8V7ku6MnRp5SbZAHbsIYuxc3gJ1YvtAEfpK/GXoy+Ch\n",
       "pLs2x06WJvAtei0TTM1ab/pbaXZhrVeRta6TYdWNO+w4tPNk3U8EkqP898y3W9FlbYBtSA/W/Lqg\n",
       "48r1P0XJe2aMnR5Zrut/l0jc37uvbNXVC6r6nwsnzLNpVbJlPVCP3e2YEvAZz5k1dt58fy40DCpc\n",
       "crV/ollQLhF9zm5aqQ/K+l9vjytI1Qb8t8P/QrjRX/8Ffg4OYl6TxsoAAAAASUVORK5CYII=\n",
       "\" style=\"display:inline;vertical-align:middle;\" /></a><br>"
      ],
      "text/plain": [
       "multDefRev: forall_{m in Naturals} [forall_{(A, x) in Complexes^{m} * Complexes | A_1 = x ,  ...  , A_m = x} ((A_1 +  ...  + A_m) = (m * x))]"
      ]
     },
     "execution_count": 3,
     "metadata": {},
     "output_type": "execute_result"
    }
   ],
   "source": [
    "multDefRev = Forall(m, Forall((AA,x), Equals(Add(varIter(AA, one,m)), Mult(m, x)), conditions=[Iter(i, Equals(Indexed(AA,i), x), one, m)], domains = [Exp(Complexes,m),Complexes]), domain = Naturals)"
   ]
  },
  {
   "cell_type": "code",
   "execution_count": 4,
   "metadata": {},
   "outputs": [
    {
     "data": {
      "text/html": [
       "<strong id=\"multNatClosureBin\"><a class=\"ProveItLink\" href=\"_proofs_/multNatClosureBin.ipynb\">multNatClosureBin</a>:</strong> <a class=\"ProveItLink\" href=\"__pv_it/2a8fea20d65164b33b6e782d0877c01c285ac5b20/expr.ipynb\"><img src=\"data:image/png;base64,iVBORw0KGgoAAAANSUhEUgAAAKsAAAAWBAMAAABNknGBAAAAMFBMVEX///8QEBC6urrMzMxUVFRm\n",
       "ZmZERETc3NwyMjKqqqp2dnaIiIiYmJgiIiLu7u4AAAAU9Wx4AAAAAXRSTlMAQObYZgAAAr9JREFU\n",
       "OMu1lU1o02AYx5+2SdOPt+kQVPTUoeAushzGnENZXS/CVIqyi5sYFDoPQ3pQt4vYgwcFLT0oeHMI\n",
       "MkQcYX4gDiTozUIpgghCJYLILq51h3rQDZ8n75u0zdp40Qf+b5Nf3/5583ykAP8nrL9vCRpc3njT\n",
       "Yz/xKl2UfW2HhNpCPYK/k7VOuNq8YMGZjRLxRwSKvrbFLjsiaVwKHjgb0gEaNr+Ct4ru5xo3uDoi\n",
       "WcLlnQce11YA+mweweTKJT/bgMXVEYMEvoiMvKzV7IOPFyWNbJGzxbm5q745GBDqiCe0hPlxRioC\n",
       "ZobUItkSb+Zyn3xtTwspEw92uvD6yjGAWJYulYsOzESNYbIlngGYcVvpRhfbW0L9+XDD7YQmJDWI\n",
       "2o8ezru2cJIZaEt8L6itij4UnyOTqfh2kc9tXMpvkO3SrqGimxBYgGAf3X+Dlq1kZZART0DcdL+4\n",
       "SSd5PmkyfQmWBFvnkhqQoH5QN3CRC5DMQsg+fX+tJkqWATW9ipbE42aiVeafqBf71ixWlr22SR3q\n",
       "1P/qDlwSWRg0he1Q22lhNCRs1QLxy6/OU25/PbMY1YEdPGA4tru4rhlw3x11bNuzlkjC93ZbVtJ5\n",
       "EmBmHL0/KpvU+VWWjtAGpi29dWxnueolOBp1xhXrtRt32Y8umW22sKgLfhfHW8qG6OUQNlh1lNvG\n",
       "YifayoiKmNEPMcdAKslpp8HU9w49x7POeQALkUzFacgDmqwfzuVyBtOUymexeT+XMrE8vOw22MQ0\n",
       "vRhS9s38KTE3P3Sw28rmDBNWt8IVbL8kJMyv/LSw57UzvHmurSGGF+7crhW6cZz5sUPWfD4B90DK\n",
       "c1vm5JYtcG2Nxz3m0uXBqfI0jJnBqQVQKUMDuKT9Xox2JgrdXb2clzSGue3Al4S8IeW723p4qMc2\n",
       "xeDyxtMeOfBw9u/+If8AXtW2m9tKPEsAAAAASUVORK5CYII=\n",
       "\" style=\"display:inline;vertical-align:middle;\" /></a><br>"
      ],
      "text/plain": [
       "multNatClosureBin: forall_{a, b in Naturals} ((a * b) in Naturals)"
      ]
     },
     "execution_count": 4,
     "metadata": {},
     "output_type": "execute_result"
    }
   ],
   "source": [
    "multNatClosureBin = Forall((a, b), InSet(Mult(a, b), Naturals), domain=Naturals)"
   ]
  },
  {
   "cell_type": "code",
   "execution_count": 5,
   "metadata": {},
   "outputs": [
    {
     "data": {
      "text/html": [
       "<strong id=\"multNatClosure\"><a class=\"ProveItLink\" href=\"_proofs_/multNatClosure.ipynb\">multNatClosure</a>:</strong> <a class=\"ProveItLink\" href=\"__pv_it/0c094dc92ea1b027a21ea3a73aab654621bab2860/expr.ipynb\"><img src=\"data:image/png;base64,iVBORw0KGgoAAAANSUhEUgAAAUoAAAAVBAMAAADSqLqgAAAAMFBMVEX///8QEBC6urrMzMxUVFRm\n",
       "ZmZERETc3NwyMjKqqqp2dnaIiIiYmJgiIiLu7u4AAAAU9Wx4AAAAAXRSTlMAQObYZgAABEZJREFU\n",
       "SMfVlm9oG2Ucx79JLklz/9puOBDBZihuILIrjjkFt7CCvhC2yBw4RQyKGcr+5EVZ9kZbfadoG0FB\n",
       "8E2QlSlCdzgsQzuN08lcYYbOF07ImsJwBV3arlulY9vj8+f+PEma5Nw7H/gdd/e7e36f+/094H+x\n",
       "qm212u/bgm0TtoXQFVkJaHp7wT8/3eIZPQmcnUaZnU+12khNGvxZu5PFzY7QZdwMSDlT9M+jVr3O\n",
       "HM2OIDpzEbvpxWf4gt0baU2psg/uqnayOOLvcvx6MEiVpKSr4QZtrLQF6KamOeVheoxnWlNy3eFO\n",
       "FjVbCAs4uR0w4KQsXZ1r0CoX6H4hGsYio2RuihZaU3IP7e1kMVQVwvx+nASjfI8sSFezTqRPVirc\n",
       "rcrG6gCjNHsYpX4sn38TbSjP5fP5cieLGx2h61SIVINAauW+O3KEhae2nnd9+Whqrkop8TqjxHI2\n",
       "+0c7yu5s9kCxk8kXHKHZs9RFkkEoh6zRa7KlNH/7oBdx69NIhlGOccoBYF87SsVCLMebTZsO874j\n",
       "1CfpKCnR7Mx0onwNL9+SLhM8zsKSoIwmpxjlJ5zyQZgN9bV1T1K7p+pShlOYE7l3s1nvrjWOAD9A\n",
       "I2lEnhNJUmumM8Wbeg++vyE33B52/NOvHgs7lX56sp5TGtBK0h5f7ynpmXGMe76kHXWSnz+7LOv1\n",
       "vZM7znhVd80RmCsIE+rHBKc0Vyn3ecE/X8CmZel2hJfS+krFrR4Ll823WSvglFrJkPwysaFW1aei\n",
       "MuUkLvGPvbgo6xMTWBNON1Eqi719rMM4lOuaKWdFLuzq7a1rWYJys+zLSLHfozSHqUp/8eGj2oQF\n",
       "ndnVH3/MlijnIrz7Ghto7Ur6AbOser681xF8uK12hXWYRIe2kFhbqw3RlnXmq29S377qRfyqTIlf\n",
       "Yl7EsW8H8PemkpHSU7zTQ7fGf5QoY4O8ZsdAa1fSlxNpQ3f33O+IyVBn/qmnZKEy4R4cj9IPNEjO\n",
       "PH0Lv+EntqmIc0mmVNk0OSsoP6YbvnUS3RZtBk8IClXd6VMmXuIRuR+jtqQ3M2ohdsLdc8yRQRbO\n",
       "Qyt1lDw5eTbOezfjT7GCJoX4X8NY4m+KTmROe/2TueZ5rxMhxCbbM+hHVwFPZrNZW7fi5y/5lLiP\n",
       "B5zmUapJ765HhHQTmhW7CFmqo1znZuOs154IuQOFEGIpdqQH77KRJZrskd1OyY+yt1hzeUdQ6iwi\n",
       "azGBoTAuC1/hge8kSj4OjgK/lpv03oTMCfHzrhxsTIYsLRNfSHoTEh99UKlrjGJCOhFYoN78WYWS\n",
       "ExS6lJdwAo7tC0167zewKOQ/Uw5BsfUMffPLVnPF9inDGVzAlmMwX2EDmR5SDZQz16H3LRYa9av9\n",
       "ufGv/vyGHYjyIRhW5I1c02Tx1hx8Sh+d5l39hGyr99agI3e7lFwLxdOrUTb+uFSsYFbitpC7XSda\n",
       "AVD7p6b/BdtITjcTCRhtAAAAAElFTkSuQmCC\n",
       "\" style=\"display:inline;vertical-align:middle;\" /></a><br>"
      ],
      "text/plain": [
       "multNatClosure: forall_{m in Naturals} [forall_{A in Naturals^{m}} ((A_1 *  ...  * A_m) in Naturals)]"
      ]
     },
     "execution_count": 5,
     "metadata": {},
     "output_type": "execute_result"
    }
   ],
   "source": [
    "multNatClosure = Forall(m, Forall(AA, InSet(Mult(iterA1m), Naturals), domain = Exp(Naturals, m)), domain = Naturals)"
   ]
  },
  {
   "cell_type": "code",
   "execution_count": 6,
   "metadata": {},
   "outputs": [
    {
     "data": {
      "text/html": [
       "<strong id=\"multNatPosClosureBin\"><a class=\"ProveItLink\" href=\"_proofs_/multNatPosClosureBin.ipynb\">multNatPosClosureBin</a>:</strong> <a class=\"ProveItLink\" href=\"__pv_it/97a07c62593ec4f80208b8a3db66f398645531250/expr.ipynb\"><img src=\"data:image/png;base64,iVBORw0KGgoAAAANSUhEUgAAAMcAAAAbBAMAAAA614ahAAAAMFBMVEX///8QEBC6urrMzMxUVFRm\n",
       "ZmZERETc3NwyMjKqqqp2dnaIiIiYmJgiIiLu7u4AAAAU9Wx4AAAAAXRSTlMAQObYZgAAA0lJREFU\n",
       "SMe9Vl1IFFEUPjs7s+vuzI6+lBEYawYJPThR9EexklJKZUIZgT0MFhvRQ/tgKkRokbChqRBBENG+\n",
       "SPWybKA9KMVABNmCLkT0a02wD0KUgaSIsXTP/M84ru5CXbh37z17z/3u+fvuAPzDNlS4yuaCNUTS\n",
       "gwVpeGuLAilMbUYuCgTGSV+z6lEcti2Xc+H8IKEYQAYn6dUx/GUutmcryHDCLuMHowPAfP2gg7BE\n",
       "5zFOBlYHYZrJUOK0+wYKHTKftAugFOh4fEO8j4DmADrwluLqIJ6w5l9bW0R/Jewy+g2bAo/hLvis\n",
       "Xo5ZQ0JHcNjkEFI59E+Zuvh+a/q9AlIt11lBTpF7POzsvLqGuD/BM3scwqAS0QtqivdrvqR31M7I\n",
       "FpAp0uej0Y8rnWyppAaMCzqmfawypgtLjoxIAMPKvEOPFy3c84oWkBryRx3A+RWjbU7P4ZnkRKoc\n",
       "LhnCWRHmAO4qc+MQWmDCaQVEzcWIALAFeMMLVHxFkF4t+N0SOplEAi/+QIaNAJXKWjRBoInebmp2\n",
       "E60QsJIhGNZ+97SE2XWyFeQt6aVk+3GAT4oRGI7TAL+1nKAqpqe1wAuQ5a+ZmrMkrVgpZGb/TbzT\n",
       "aIvEiUlIMvXH6hudIPPAz+H6m6gIqT8aiFmnBMSbcFjC9+w0BQukP936U+bSDCRt7sKy8wyBfwkC\n",
       "v3izTJic7q6MBQQmfBYQASN2kAyXx86izUsjMoelze3dnbKDHFJqGfhFoHtu68I58JCEe2Vymw4S\n",
       "7DA1azAZ75A78O/8WFdshqtVWIITki/sIM8wowl+P9xvNkq8EU4agfyhE6UvrEZLb1MKYaQIerMX\n",
       "zfWluMw+FSQYbLKB1KChZE/7eNVFg3ezo5gz11UG7RXUDB1cjw+DqflIOVDGkCJZgkdgxAPRaDTF\n",
       "Cf7JL0TR3FqKR5S7FZNOK4EGNbucrc9IM9k3GUPuDElZ1RKoem6nPfTRa1daSOXlI37B4Fg5sl/u\n",
       "ioVI9dIxFYRL2l/fjBvVg90zbo0zqpRqTZ+BiES1JoBvI+vqNp0UjIY06Hd7sA/nBwkJ9rVa+UES\n",
       "E5fNXThcWS5nhfwgLx3fI7F8mwOJor69nA8il3/7RFEgjAz/p/0FEkXFtpeQLsAAAAAASUVORK5C\n",
       "YII=\n",
       "\" style=\"display:inline;vertical-align:middle;\" /></a><br>"
      ],
      "text/plain": [
       "multNatPosClosureBin: forall_{a, b in NaturalsPos} ((a * b) in NaturalsPos)"
      ]
     },
     "execution_count": 6,
     "metadata": {},
     "output_type": "execute_result"
    }
   ],
   "source": [
    "multNatPosClosureBin = Forall((a, b), InSet(Mult(a, b), NaturalsPos), domain=NaturalsPos)"
   ]
  },
  {
   "cell_type": "code",
   "execution_count": 7,
   "metadata": {},
   "outputs": [
    {
     "data": {
      "text/html": [
       "<strong id=\"multNatPosClosure\"><a class=\"ProveItLink\" href=\"_proofs_/multNatPosClosure.ipynb\">multNatPosClosure</a>:</strong> <a class=\"ProveItLink\" href=\"__pv_it/af19e65eb13c15923ce874b43df6f68090f2f58a0/expr.ipynb\"><img src=\"data:image/png;base64,iVBORw0KGgoAAAANSUhEUgAAAXcAAAAbBAMAAAB1r9JYAAAAMFBMVEX///8QEBC6urrMzMxUVFRm\n",
       "ZmZERETc3NwyMjKqqqp2dnaIiIiYmJgiIiLu7u4AAAAU9Wx4AAAAAXRSTlMAQObYZgAABRJJREFU\n",
       "WMPVmF1oHFUUx8/O7Ofs7CRpseKDJmCphSKZQI01UlyyRYtaDcU8SLUuFbfiB6wvKVjtxodKFE0X\n",
       "tC9qMUg1iBBWq0Gs6NqaPLQiqy0qwuoERAJpN2uqEbHJeO6983Hng9lpZBEvzMzdmf+d+9tzzz33\n",
       "3AH4n5XUlYifrBfX0IXQ0y74ODlN4HFjfaKluLamLrZCW+Hp6xPZ9sAr4+2FT1cYvNYSXrvyHqJV\n",
       "PG1h9dvKIRvxwlPB8PA9g6eWPRsE30rhU57CQzRG9eeJkI14YUx1PptfflSDB1fKJvyHDP5dUh8P\n",
       "gm+l8CnDeCTZiEl6Nlwbp3DU9fQJMQ/QhJ1jz42Noc8sahR+hPyHfBB8K4VPWYfHScMZ9JCzxik8\n",
       "43q6S8X3dVpuk6lSeGKgWDkIvpXCW8Qmnq5j9Rf1ZrhGTuEcuyy8XP+BVgbHoyoHH8tTeHnywIFn\n",
       "AydsK4W3pLEXgQ18uta9Gq6NUxin1hJfMqNFbitGMBtebrJQuVwo/BgcKoMUvrMxiuAx9qSkHlkK\n",
       "Be8SSkPkPGJFulyq0s/BC6sMPgewPxjeR5Ewo8GQ34odx9cmq7T6CDx0GS/9LeENoZUF0IGzu83B\n",
       "brlC4KPMMS8x+I2guKb2tuGe9FWaDW8pei3Pfxo4eNFt/iTejdAEQe6Ez/8AuGkXW7t8lowGuxhC\n",
       "O78goEqeg49quU7beEsMPgPpKrc2fjRclfNTMMVZ3lJ0W5R58fBueH8vg4e3QL7/08EZ669l8G4H\n",
       "hV8sQ+8yXo/R+4vewKOssKspdMx54dp63ZiwOVCy8za88heDT1cznEGmb2ho8tmYA95UxLqJJRaG\n",
       "H4BUBWYlTdLu23F+ByLPQ2oa1glDXvh7u7r0FQt+zhtwlQ3sagod8GKWszwMiF7LK6OY5sh7thxP\n",
       "T6sgEwD5lpsrPDxVkDzuTWyd3neoAfEifFUZkjTD8hjFckpNsiyfxNdGyK/U+kajpFvwAYmuIZz5\n",
       "4JPsyYctt6nx8HLZ/u8Jw+dh/yDAhd5qJitj1Kf+p06d5uGpAsu3JZzjM6QWATj9ykELHvOkWmoo\n",
       "I1vRBnuJE0+bw3+Q0YtOeDKKilkxwzoTKqcuw3n4kjDQWXY3Dw+TNrzwpwF/FPkOfQwdKoanAQYv\n",
       "Sffw8EdrLHp1LBnr9jaEly4MmPBCVslL5fgJO2azWJe4nYQeveyAp15OvF+x3cQUJhZG4RK8bYXK\n",
       "i9a2YB9xWzuwmHEeIiS/vAv6IFmG7YVCoSKria9/4uGpAvq05N9GZNmI8DBx3IQXXeFKwFcL2FDX\n",
       "VyGq67rqgN9geL/p7sAJoxV07BeI51HsxGEjJG/+jTSwu5FGDXiZDN96mIaSAL8wy8P1n/HwVAHf\n",
       "dHX/DuJ3hcLj8CqBf+Yi3i76waP1AK7mbxwLuTZH1HQ+0eyx0oPUTiPauINxhduMJJpo+1kJokUG\n",
       "L095NiMSphIrGLBIfROBF241nVZwR5E73alVWPgSRCtyHkf3vWDdYpGDx+7PQf8kKMS3NuMp64Hv\n",
       "00DEeHAH9UUCD2dMeNm9Sm23U2K2ph3ZEw5+E2RU8bGiZ910l1nfbaCEPu+7Dcxguv2Ffg38Spwx\n",
       "ownP9xgrNZlJ7u02SatCbDEDtmItdv3n1riHfQd9Pu3MkJNuTYIY7uC/gD8R/JguR2vdgCtOJ3/d\n",
       "I3itvR9vRkJ+Paj7frd5w/HL+xa53Fb4vfS7zVr9UuY3yJIG/035B/TkhT3qFgpUAAAAAElFTkSu\n",
       "QmCC\n",
       "\" style=\"display:inline;vertical-align:middle;\" /></a><br>"
      ],
      "text/plain": [
       "multNatPosClosure: forall_{m in Naturals} [forall_{A in (NaturalsPos)^{m}} ((A_1 *  ...  * A_m) in NaturalsPos)]"
      ]
     },
     "execution_count": 7,
     "metadata": {},
     "output_type": "execute_result"
    }
   ],
   "source": [
    "multNatPosClosure = Forall(m, Forall(AA, InSet(Mult(iterA1m), NaturalsPos), domain = Exp((NaturalsPos), m)), domain = Naturals)"
   ]
  },
  {
   "cell_type": "code",
   "execution_count": 8,
   "metadata": {},
   "outputs": [
    {
     "data": {
      "text/html": [
       "<strong id=\"multIntClosureBin\"><a class=\"ProveItLink\" href=\"_proofs_/multIntClosureBin.ipynb\">multIntClosureBin</a>:</strong> <a class=\"ProveItLink\" href=\"__pv_it/b416d3e32665862cdcbf8e6c0089fdcffe73304b0/expr.ipynb\"><img src=\"data:image/png;base64,iVBORw0KGgoAAAANSUhEUgAAAKkAAAAWBAMAAABJZ6G8AAAAMFBMVEX///8QEBC6urrMzMxUVFRm\n",
       "ZmZERETc3NwyMjKqqqp2dnaIiIiYmJgiIiLu7u4AAAAU9Wx4AAAAAXRSTlMAQObYZgAAAtdJREFU\n",
       "OMu1VU1oE0EU/rLJJjbZbD2IBbHSouLBSw5elEqCClUUDfiDWJGgNFVEzaG2gn+pKChUKRTBSzEK\n",
       "taggAVuR9rKIB2lBchGLUthCFWnRVoqVUqnOm5md/HRZL/rg252ZffPNm2/emwX+i9l/d9koUWFG\n",
       "nbv7K4YCNUa8SP0JgVKbqGWP/RWOPb9HO0ZXQ48Bj6l/x4t1mS1QZtfpQ8XYy2NsKAVkgTbWDaW8\n",
       "WIckymyeJMiVjx1hMYaZLMMiCr3Li3WNRKlpi+xhLhedqdtjo/Tei1BiE3uPswX72tsve5FqWYEy\n",
       "C/PjOCV071TyBO2z9GRBzqXTH7xY9ZwAWgfrM0rr3f0W0MvbbUXNRwyLlkwC24EWFddNl8OyBLQa\n",
       "nFOD0ynMAvd4W82GmfpMryq2s3Uwi/vrdbayorc5KZq+OoGrFg7xqRTafRurgHpBpWYHYo08NqZ3\n",
       "FBFLjd8it4GDVjQTnpIbq64T2Ad85GGSpIeBH0Ccc9SOjYnTwnqNZ4V/BowzWhTmJ8OLDd9sAw2X\n",
       "UM46B3OW+uMU2ztovyRrSYFkWQaHM5zVzFI2nB88Qesu9NuG2HlSCgBfF0doAVUzZjFd9UVHgYJK\n",
       "jK6HtHWuAFq2sU/vQ5SBkYKREBVjbI45Elsc5jwC2W6HYBY+ttk3vL3HGWylsB+wuXROd9ligaSf\n",
       "lgzmjcIW7jE5qSJICnSiJ6mKaRcOqLP96twyLUEbnx4Jb/jyJFyE5PHF9NTWdDqdR+4ZrshsKwi0\n",
       "Dq09rW6piQE64Wu8HbohtqWt7Eif/N7M8pDcDHZY03bwLUvxakStCe7RbaFPMtRILDGnYqt2yhyQ\n",
       "Nu40fHa8wb6QibLEDlAB6TqPj9uwxBIL592r8akqqqaRo4hbWlMO5nHWf73jyZmE101I9sWd1Ky4\n",
       "NEQ1hEnXEgslBJZYoztrIFN+6Wfc3S5KVFgk5u7+vOJH9M9+hn8A3lS4yPF4t2AAAAAASUVORK5C\n",
       "YII=\n",
       "\" style=\"display:inline;vertical-align:middle;\" /></a><br>"
      ],
      "text/plain": [
       "multIntClosureBin: forall_{a, b in Integers} ((a * b) in Integers)"
      ]
     },
     "execution_count": 8,
     "metadata": {},
     "output_type": "execute_result"
    }
   ],
   "source": [
    "multIntClosureBin = Forall((a, b), InSet(Mult(a, b), Integers), domain=Integers)"
   ]
  },
  {
   "cell_type": "code",
   "execution_count": 9,
   "metadata": {},
   "outputs": [
    {
     "data": {
      "text/html": [
       "<strong id=\"multIntClosure\"><a class=\"ProveItLink\" href=\"_proofs_/multIntClosure.ipynb\">multIntClosure</a>:</strong> <a class=\"ProveItLink\" href=\"__pv_it/71ee816f319cefb709b4e63bed5af68d6003336c0/expr.ipynb\"><img src=\"data:image/png;base64,iVBORw0KGgoAAAANSUhEUgAAAUgAAAAVBAMAAADWXWqdAAAAMFBMVEX///8QEBC6urrMzMxUVFRm\n",
       "ZmZERETc3NwyMjKqqqp2dnaIiIiYmJgiIiLu7u4AAAAU9Wx4AAAAAXRSTlMAQObYZgAABC9JREFU\n",
       "SMfVll1oHFUUx/+72Y/s7J1JajU+SNsVxYp96AharagdGlHBrxXpQy3ionSrQss+lCz40axCQUXN\n",
       "ggi+FMLSEupDWBSD2FgXbaW0UpfqQxXSTEEkNJqmfhSUpuP9nLmz6eyOffPAuXf2nDN7f3POuXcG\n",
       "+D+I29WbP31/vL9ZJ5XKpnrMpbVAUrhyCLMfO4U2uz4R9T9GweSxzR7r9TlCmcyOx4TUA5/q8OVm\n",
       "l95c9XqL2xs4yEzvRUMa7HH73R7rsQAZZHhOPMZQYH9nCfe6qGWEvYEROmZL0ZDcN9JrwUNSWRG9\n",
       "dsxq64GkI/3pcRj1hrA3+POn69GQPMtbey24WiqVt73FeJChQGtQzPPvzpxmc8rFbtY/zN4AmahW\n",
       "X0MXyOPVarVXbpI1oaxO7TWXYzF2BL4oevudoLF2ZVxhpwm9WC7/1A1yoFze2Wsr0OJwpTJqj/0e\n",
       "C7Ij8AAfRwJG0vxW2inkMLCjG2TKRqbC0/V39L5pCaWyHc9eotOGnpAyUMmHfNRIfrFK0k4hb4ZV\n",
       "C99+95ZC/jpXQSYdzPHrxD/Sn7n2wPZi6I5EQSh9/kF8+Rdw52Oi065wKizIRIlAX27k8doOHk5V\n",
       "pJ1Cmsi3tAb+dEuLlCYx6WeSnqTT/PrJi9JvVox5l2yd3nxUbbiBglDgfB3rWdw+bj+/vJmtJTGr\n",
       "QH+v82KtmpkRGwfJ4m3KTiHzLVN73qm1Cy45kdYhp3GG3/XjBeXHva8iN4VrksVlkE+sWOEt+ZBn\n",
       "l59t1pCYVWAIss/RDk5a3wkFadXuoMnftm5/fsoGYcuSjXc1Ncg5cau51nOFHyjSadhqGyqTibpQ\n",
       "5FYuLIx6PmS0qMCjH3/uHHreL3eQ+YOiiLLc2LEZ+HV9y3SIIw5+Yk9+rUFmdhfENvMK8sVANtr0\n",
       "D3JFk6gubQnFWUpqepUQpOUPWsVkoPXVJfyAI9RwjJsfVf6sQ1NnDHI7g/yA8u75DAO2UcQ9AtIw\n",
       "Hg8gc8/wSqzGWFP4ce4c63GjnvlEHQJFodkHGbFXD0HyxmSDFZRXBWbna/iDHz/iCPpNfWhkKrtg\n",
       "PV1SRxAS7OvhEdyO/jruK5fLTWJnT54JIHEDrzbtIUf4MT6JPeHDvC3U8y4j5XmerUPyxmSDakdo\n",
       "galm3yDeopY3BPxeW272F4bKY0NFbmeQhFVhJaYwmsTPIpO46bAGeZJd7Qe+awt/8v0Wa2ldrpfq\n",
       "y754r0Yk7Hwpu1jwX4u5h+Xu1l6XDZX+RZrLbwzws4lCEq0nIauNTYvCn07ztOlyXOp/hhxFqklK\n",
       "9Gsi4mOQ2RVksoTvsWEC1nP0x610cDogZ/8EWXOhzv1HHvhopxP5qcbl5bFt8SBvgWn3vVSR74vl\n",
       "MocAMiBnPRd6LXb1B5tR6FXLQ13sjV6fKjN2vEVekXqVkrej7V+c+hebrUcxkzFqSwAAAABJRU5E\n",
       "rkJggg==\n",
       "\" style=\"display:inline;vertical-align:middle;\" /></a><br>"
      ],
      "text/plain": [
       "multIntClosure: forall_{m in Naturals} [forall_{A in Integers^{m}} ((A_1 *  ...  * A_m) in Integers)]"
      ]
     },
     "execution_count": 9,
     "metadata": {},
     "output_type": "execute_result"
    }
   ],
   "source": [
    "multIntClosure = Forall(m,Forall(AA, InSet(Mult(iterA1m), Integers), domain=Exp(Integers,m)), domain = Naturals)"
   ]
  },
  {
   "cell_type": "code",
   "execution_count": 10,
   "metadata": {},
   "outputs": [
    {
     "data": {
      "text/html": [
       "<strong id=\"multRealClosureBin\"><a class=\"ProveItLink\" href=\"_proofs_/multRealClosureBin.ipynb\">multRealClosureBin</a>:</strong> <a class=\"ProveItLink\" href=\"__pv_it/c7ed1eacdd929eaf81574cc20a5db3342a71f4270/expr.ipynb\"><img src=\"data:image/png;base64,iVBORw0KGgoAAAANSUhEUgAAAKsAAAAWBAMAAABNknGBAAAAMFBMVEX///8QEBC6urrMzMxUVFRm\n",
       "ZmZERETc3NwyMjKqqqp2dnaIiIiYmJgiIiLu7u4AAAAU9Wx4AAAAAXRSTlMAQObYZgAAArlJREFU\n",
       "OMu1VUtoE1EUvUnmk8xMJuLC36pFRTelWYQiRWn8LIS4CEpd2ILBQrKROkJrCyJmIVJR4ywUsjMI\n",
       "oiKGoX4QFRl0UyyEIIgfCIxQdGVTXMSFWnx33pvJZJqMG71wXuad3BzenHvvC8D/CevvKWGDwh+v\n",
       "euQjX8eHxUDZFIMn1L3kd3yyk1xonZrbZFD+HhKlQNlSl4xomixFH5mbgqGyZvNnyFbMBanKBkVH\n",
       "JHSyvPHLToPwNWfzUWIurwfJhiyKjhhE4jNz5GmjUWSyUjJn88qdmZlzgR7sZOiIB7gI9Di7au3T\n",
       "2rLIt/L5T4GyxxjEzK2NLnnh+SEAKYuP4qTHBA5NQH4/QMFtpbkuslcY+jVhxe2EFiSSELNfXdA8\n",
       "sgMLZIf8NlDbFb3NPst3Ry873HoK8RfwdmmXCWKrEKpAeB3uv7RLdrrxAX1BPg6y6X5xCU/yeNSU\n",
       "JahmGfedgluBOPaD+pssfBESWYjYp+9vNNySbRewlMjLZrxd5h8ET3YsW0S2VuuUTeSgif2vbiBL\n",
       "PAuDJpNNeRqM35pmsmoR+elnE3j6n48sBU+Jsi9Z8maK8wbcdEedtO1xi5nwzdu3pRfMBCjsI9rv\n",
       "xVVUqyvpKFDZwxWWfJKiqcPBmDOupF5bSHPar86ZHtkUl2T8DTLeXDaCl4NgKPVhW5Y/8NFbRoKo\n",
       "GXsnORyn82mnwdS3HllJLzA+RAqR6JPRlFCSz+3J5/OGLJ197SQPUIiZ+aF5t8Ey43gx9Nmb2SPu\n",
       "VTMBF6/plFeIYU1LqJGGS0DcXKImxIYdH0MaxdpgwwvXrzaK3Xgy8yO7rVktDmXgNOpt1fFWqVCs\n",
       "jfs95tLlw2OL4zBihscqoJ6wx6G6dNQKuBhtJ4rdVf08LalEvO2gpxj8wWndZX18pEeaaFD442EP\n",
       "D3y88u/+If8AGWnBNGGAmSsAAAAASUVORK5CYII=\n",
       "\" style=\"display:inline;vertical-align:middle;\" /></a><br>"
      ],
      "text/plain": [
       "multRealClosureBin: forall_{a, b in Reals} ((a * b) in Reals)"
      ]
     },
     "execution_count": 10,
     "metadata": {},
     "output_type": "execute_result"
    }
   ],
   "source": [
    "multRealClosureBin = Forall((a, b), InSet(Mult(a, b), Reals), domain=Reals)"
   ]
  },
  {
   "cell_type": "code",
   "execution_count": 11,
   "metadata": {},
   "outputs": [
    {
     "data": {
      "text/html": [
       "<strong id=\"multRealClosure\"><a class=\"ProveItLink\" href=\"_proofs_/multRealClosure.ipynb\">multRealClosure</a>:</strong> <a class=\"ProveItLink\" href=\"__pv_it/8d5064adda62b506bac206ceb70e6895bd4b073c0/expr.ipynb\"><img src=\"data:image/png;base64,iVBORw0KGgoAAAANSUhEUgAAAUoAAAAVBAMAAADSqLqgAAAAMFBMVEX///8QEBC6urrMzMxUVFRm\n",
       "ZmZERETc3NwyMjKqqqp2dnaIiIiYmJgiIiLu7u4AAAAU9Wx4AAAAAXRSTlMAQObYZgAABGlJREFU\n",
       "SMfVlm+IFGUYwJ/9vzvzztydkhBRt1JkIOEER5mQN2jYh0DXsxNUokVpTSnbD4cbRN3VlyjL2yDh\n",
       "Pi7l4UmwDkqH1J1u/kMUruX0g4rr7YHkgbV35+nVhfn2/pmdeXfW2R3uWy88s+87z877/Ob59w7A\n",
       "/2KUG2rla2u9beM3uJARWPBoujNrz8+4/AfFAS6OQ5HOL7ttJMUV9l+jmcUOU8hQ/vFIOZGz5yHN\n",
       "Qdef+vuzA2Syhcj3cJTeO+hOKdEXjpabWTxo73LsvjdICevCqs+hDUf0wJ4viGlGuZ9cI0l3Sqbb\n",
       "38yibHChAcf/egw4LgqrS3WUCdhH7KIcpaRuCmXdKZmHtjWz6CtzoX4/hr1RfoVnhNUk/1FPlkp9\n",
       "VcofwuRGK6VERzKZT6AB5aVMJlNsZvEFU8gY9eGyF0i52P5I9B331OoxwZeUEvZQSphPpW40omxJ\n",
       "pT7INTO53RSSPXNRHPdC2av13xMtJdjT+8SIb6SZNsgo1wPsbkQZ1CCcZs2mQYf52hSyeyKECyQ7\n",
       "k80o34V3HgrLGI9zWqD03yTVAwOM8jlQHfW1ujsuP1GuUvp1mOK5V+0wA0PdBxwml5gC8CvIOAGB\n",
       "t3iSVOrpVL4zaoXTD8SG20qvvwvV83TpSzpZzigVkAvCHj91F1AyD3nLl6SjjrD55nlTL0uQT6Bt\n",
       "I+vOW1V3zxRQF8CPiR9jjFJ9TLlPc/7pLKyaF24HWCktL5Ws6ulKsPB3Mkq5oAjZPryiUkaXQyLl\n",
       "CNxiL3t91tQTyrGx2DAs8SfqKIOzbe20w5iUy+opJ3kubGprq2lZnLJD7ERdHTal2kcWaMfKw/Kw\n",
       "BojaRa++YgiUUwHWfZUVpHaZnlKegvVqUbJ8+aQp8O3ayh3aYWJN2kJsaaXSS1rW+eM/67/ssiL+\n",
       "p0gZvVuwIg671wH8saqg6EhnnR6Qlj8rUIZ7WM0OAqldpieUXTkoxhIKqu75vikqRZ34q5aShkqF\n",
       "6sX0KHlBBafVMw/hKpyjRlmcgwWBMqCTyoaLnPIQ2fDTk9CikWawhlNK0kabMvY2i8gz0G9wvRx6\n",
       "/TqoSSkbPlHdc9CUHhrODxdqKFlysmyctm5GNlAQnI3c7YM59iTvROq42ImO0pLnnQh89GR7E16C\n",
       "aBZeS6VSBtIiY7dsSniKBZzkkc71svTxWUcAX+TSgklWbMJ4roZyWTUbJ632hPEjCGKMtaARaAVa\n",
       "y1HeZD/aYn1tzGvR98j7fs4pEY3IUhiGXj/c5r6EZ08JlOw4OAzwW5HrZSm2xnG8+NJc7Lwrejsm\n",
       "fZqcjMzErRMSvvumVNMY+QlpRmCGePOCBME0p0RCXoIZcOic4XraiRynEf0mQLlFUPZC0EBJ8uSP\n",
       "bueKYVP6k3AFXj4C6k56IJOL7qCcuA+ofTbL9AND+dtby65fbuythx4YniifB0UL7E3XnSzWmAKb\n",
       "0kYneVd7QjbUW6PHlMWOYNpF8cbjKJ0fLiXNm5WIwWWx44QbALE/Ov4f44lTTiVynpQAAAAASUVO\n",
       "RK5CYII=\n",
       "\" style=\"display:inline;vertical-align:middle;\" /></a><br>"
      ],
      "text/plain": [
       "multRealClosure: forall_{m in Naturals} [forall_{A in Reals^{m}} ((A_1 *  ...  * A_m) in Reals)]"
      ]
     },
     "execution_count": 11,
     "metadata": {},
     "output_type": "execute_result"
    }
   ],
   "source": [
    "multRealClosure = Forall(m, Forall(AA, InSet(Mult(iterA1m), Reals), domain=Exp(Reals,m)), domain=Naturals)"
   ]
  },
  {
   "cell_type": "code",
   "execution_count": 12,
   "metadata": {},
   "outputs": [
    {
     "data": {
      "text/html": [
       "<strong id=\"multRealPosClosureBin\"><a class=\"ProveItLink\" href=\"_proofs_/multRealPosClosureBin.ipynb\">multRealPosClosureBin</a>:</strong> <a class=\"ProveItLink\" href=\"__pv_it/ae6f9c4c550867cde1d5899547be4a75d5acd8f20/expr.ipynb\"><img src=\"data:image/png;base64,iVBORw0KGgoAAAANSUhEUgAAAMcAAAAbBAMAAAA614ahAAAAMFBMVEX///8QEBC6urrMzMxUVFRm\n",
       "ZmZERETc3NwyMjKqqqp2dnaIiIiYmJgiIiLu7u4AAAAU9Wx4AAAAAXRSTlMAQObYZgAAAzpJREFU\n",
       "SMe9ll1IFFEUgM/O7uzf7I6+GYGhFfTQg/PQkxS7pJTS32IpgT0sFWsS2D6YChJaJG5oJUTgS7QQ\n",
       "kr7IBtqDUgxEUAm2L9GfCxPsgyBlsKSJIZ0zs/PrOroLNXCvd4733O+e31mAf/iMFK+yt2iNKA5/\n",
       "URrOcEmQ4tQWpZIgMItjx6onaTq4WR6osocE4wBpWsxtz/CUF7A9W4nTWQv0fuz3zSEdwqHOBC3u\n",
       "bQ9hIzh5rXbfJqFF5vaEne2D4EokdiUQxm8AdNEto9tDHFV5/5qeNbp60gqJQEeXZgksKJdjd5DQ\n",
       "IZr2WIQM3hL4cuVl6W7mkwp54tYhLXiPp93dN3YQ92d0Zr9F6Jcj2q6k+LCkW2KEvMexEot92epk\n",
       "QyU1UFzIMZ0z1XFV6D0xJQKMyesuyeCu0wZ31eA/6gDatoy2vrxMZ+KJTAVc04TLUcgBjMrrNkNM\n",
       "mIVBWim5GBIA9gOveYFJbAkZyAe/TyQnYyTo4o8l2A1QLb9HdUhl5o7hkD7UCgInaoKx/N/R8eYh\n",
       "M+QDjjLcfgbgq2wEheM8wK98TjCVmYwa+KZIhwGyjGnFiUE9++kG/HSzyPlhMsLWn6pvtEJWgM/R\n",
       "+7eoLGT+5CF6naK7mg5ZLOH7DZJVHM8P/JAQMj9vsoTKzjECnnXw/eT1MmE3VHelDRDvkmiACBSx\n",
       "ozhdn7lENq9PSQEqbYK8NEGOkboI/Bq4+h+owhw4MOHe6L0tD3GG63TNGkrGh3gH/qOH6opLB8Jy\n",
       "l0BIU9IEeUEZjfxheBTRSrwRzmmB/F5lSOEJt5bmcp2AIwXgijjJXHcqkK6VIWz9Z3Pga8hQ3NM5\n",
       "u++q1nez0+SWW0oHHRDUBrkieK+saZrjslSikFKzBIfARo/EYrEU5+99RYo6pIyOqChUTGpb8TUo\n",
       "2WV9hrQ0k9zzaGAZBMWs4i5frbnjushH7wq2hZRtP+JXtR4rhQ5LPfEgVq8rrsRk0txcZXd6C33i\n",
       "Fu2bXkCrUqZ17gKERKY1CfxFuRgnsy3mE6kNegp9sI/bQ4KC+V1Jbj/GpMDmHpp6N8s5wR7y2vJ7\n",
       "JG632Zcs6beX9YMYsN/+tiQIK8H/ef4CSFrKzSuILhkAAAAASUVORK5CYII=\n",
       "\" style=\"display:inline;vertical-align:middle;\" /></a><br>"
      ],
      "text/plain": [
       "multRealPosClosureBin: forall_{a, b in RealsPos} ((a * b) in RealsPos)"
      ]
     },
     "execution_count": 12,
     "metadata": {},
     "output_type": "execute_result"
    }
   ],
   "source": [
    "multRealPosClosureBin = Forall((a, b), InSet(Mult(a, b), RealsPos), domain=RealsPos)"
   ]
  },
  {
   "cell_type": "code",
   "execution_count": 13,
   "metadata": {},
   "outputs": [
    {
     "data": {
      "text/html": [
       "<strong id=\"multRealPosClosure\"><a class=\"ProveItLink\" href=\"_proofs_/multRealPosClosure.ipynb\">multRealPosClosure</a>:</strong> <a class=\"ProveItLink\" href=\"__pv_it/3cdc8cd99caecaf4864fd157af1f1d91d54fe2160/expr.ipynb\"><img src=\"data:image/png;base64,iVBORw0KGgoAAAANSUhEUgAAAXcAAAAbBAMAAAB1r9JYAAAAMFBMVEX///8QEBC6urrMzMxUVFRm\n",
       "ZmZERETc3NwyMjKqqqp2dnaIiIiYmJgiIiLu7u4AAAAU9Wx4AAAAAXRSTlMAQObYZgAABQhJREFU\n",
       "WMPVmH9oHEUUx9/93Lu93U3SYtU/NIHWKpaSDdRYheLRVi1qNX80oFT0aPECinoFTUGxF/+oxKDJ\n",
       "gRZELQZRgwjhsBrEhvasphQLctqiRTjdgL8w9XKkGhGbrG9m9sfsD/a2kUMc2N/fmf3smzdv3izA\n",
       "/6ykL0X8aK2wgldEu1oFnyS7cdw21sabiqsresUmaCk8bV7ItgZeGW0tfKbM4LWm8NqlvyFewd0G\n",
       "dn5LKWQlXngiGB6+YfDUsqeD4JspfMo+3GJGr34/HrISL0yozmenFh8fvqJsw3/A4N8l56NB8M0U\n",
       "PqUftxTrMVHPhqvjFA65nuaegN5XCrBj+NnhYfyIeY3CD5JvyAXBN1P4lFW4HTWcQQ85apzCz93w\n",
       "T0Ly55xleblC4YmBEqUg+GYKb4k1cHc1Ox/RG+EqOYWz7DD3Yu2cCS+qNnwiR+Glif37nwkcsM0U\n",
       "3pJpx0jPOj5T7VwOV8cpTFJrxV7QbMvz8FKDhcrFfP7b4FAZpPAdjXEET7AnRXVsIRS8Syj2kf2g\n",
       "xrlNnHOb6DKD3wYwEAzvoxDMaNDnN2MnsdlUhZ4+BA9exENvU3hDaGUBtOMGeJ/feIrM9XHmmBcY\n",
       "/DpQXEN7c39X5jLNhrcU3ZbnPwUcfMxt/hTejdAEQWqH438A3LCTzV0+U0adHQyhnV+0E70dJnL7\n",
       "aue4cScsMHgZMhVubvywvyLlJmGSs7yl6LQoc+mRg/eWDXh4E6T7prfOWI3LeLeNws+XoHsRj4fp\n",
       "/Xlv4FGW2NEUOsZ89KpazRqw1yS5T1f+YvCZiszdnbq2rkmnEw54U5HoJJaY678f0mUoj4s/wq7t\n",
       "Z7cj8i+QnoJV0T4v/D0dHfqSBT/rDbjKGnY0hQ74WJZzm8TarNfyyhCmOdLuDW9lplSQCIB0041l\n",
       "Hp4qSB73BvZlZs+BOiQLCC+d1wzLx1XYplRFy/IpbDZCrtKr6/WibsEHJLqGcOb9j7NH91puU+V9\n",
       "fnSagzd8Hga2ApzvrshZCaM+9T918lMeniqwfFXEMT5DziJA4OdMeMyTquk+WbKiDVo4STxtFr9A\n",
       "1gtOeNKLinlihnUmVE5chLPwGWGgo+wuHn5T3M4Zon8a8IeQ78BH0KZieLqZwYvi3Tz8oSqLXm0L\n",
       "xry9mcAnrjd9PppVcmIpecSO2SzWCbeR0KOXHPDUy4n3K7abmEJhbgguwNtWqPyti4MXS3bwMeM8\n",
       "RMjAuxN6IFWCLfl8viypwhff8fBUAT1a6m8jsqxD+F07SyZ8zBWuoth0FCvq+jLEdV1XHfBrDO83\n",
       "3R04Ybwca4fniedRbOGgaiVme+G5McsxxSEDXiLdtxqmoBiFH5jlYe0xHp4q4MuOzt8h9nU+/wi8\n",
       "jPAT06Thgh88Wg/gcv7G4ZBzc0TN5IRGl5UepHcY0cYdjMvcYkRooO1PihAvMHhp0rMYETGVWAKF\n",
       "1lhP3OYlSxN1R5E73KlVWPgixMtSDnv3vWDdfIGDx9efgd4JUPbgxXW4y3rgezSIYTy4nfoigRd/\n",
       "tTzQPUttsVNiNqeN7Q4Hvx5kNfZwwTNvustJ32WgiD7vuwyUMd3+RL8SfiLOKGvpkZH6rY+ZSwf3\n",
       "cpukVSGWmAFLsSar/jMrXMO+gz6fcWbIKbdGIIZ7+l/AHwl+TKejlS7AFaeTv+YRvNranzeDIf8e\n",
       "1Hz/27zuuPK2IpVaCv8A/W+zUr+U+AWyqMF/U/4BJrCN9nX58FEAAAAASUVORK5CYII=\n",
       "\" style=\"display:inline;vertical-align:middle;\" /></a><br>"
      ],
      "text/plain": [
       "multRealPosClosure: forall_{m in Naturals} [forall_{A in (RealsPos)^{m}} ((A_1 *  ...  * A_m) in RealsPos)]"
      ]
     },
     "execution_count": 13,
     "metadata": {},
     "output_type": "execute_result"
    }
   ],
   "source": [
    "multRealPosClosure = Forall(m ,Forall(AA, InSet(Mult(iterA1m), RealsPos), domain=Exp((RealsPos),m)), domain=Naturals)"
   ]
  },
  {
   "cell_type": "code",
   "execution_count": 14,
   "metadata": {},
   "outputs": [
    {
     "data": {
      "text/html": [
       "<strong id=\"multComplexClosureBin\"><a class=\"ProveItLink\" href=\"_proofs_/multComplexClosureBin.ipynb\">multComplexClosureBin</a>:</strong> <a class=\"ProveItLink\" href=\"__pv_it/5b579410d44891c170760fe2bfe37d527467c22c0/expr.ipynb\"><img src=\"data:image/png;base64,iVBORw0KGgoAAAANSUhEUgAAAKsAAAAWBAMAAABNknGBAAAAMFBMVEX///8QEBC6urrMzMxUVFRm\n",
       "ZmZERETc3NwyMjKqqqp2dnaIiIiYmJgiIiLu7u4AAAAU9Wx4AAAAAXRSTlMAQObYZgAAArpJREFU\n",
       "OMu1lU1oE0EUx1/2I5uP/RAPioKQWlFRSnLQIkFprCBCFALqpSkY/EgvpexBbUHEHDxo0RpQwZtB\n",
       "KCIiLrWKWCiLRwshCH4gBFfQHqw2VaQe1OK8ndlds03Wiz74D7M/Zv6Zfe/NBuD/hPX3JZxB5Y+n\n",
       "bdYjr+FkJtB2G9Mfoe4m+8SUf2X89ZV1J2x+Bx/HAm3HWqyIZMhQ8kE+mVDvT9r8NHmUCkGucYOq\n",
       "KbQyGZ75oLkfIPrN5hGSXLEcZBuyqJoiieAdy8jjeh0PLlsryHjI5vLt4eGzgTnYzNQU93AI0+Ps\n",
       "qFImSpiZOcoXi8U3gbZ9TFL21moXnp8iLxzL4VQaYuwDV6ET5HsABtxWutDC9hJThx5ecDthEbQU\n",
       "RO2ahXUG01GTTpBvANWr6Lgz+TR6IM+mK6mknyDapZ3HjUsQqgCHuYRZZ0+aY7bIFYibru1FPMnD\n",
       "wybfbfGjjH2lEhZAwX5Qf2EaS6DlgLdP31Gv05LN8iwJyOOm4pX5O9GjTfOWfAZgS7OtVoAG9r+6\n",
       "igxKDpIms3VvSsTKeLZqCfmpJ8fw9D8mLRnr0HmVvDVbvYbqnAE33atO2vaIxZLw2bGVK2ir0iTA\n",
       "QC+Zv5KWsPNrciaCK6arXskGqRpl2Bd1riup11riYxdFcHM4uJUMXRbl18n1FnI8fhzChlxL+23H\n",
       "qSJm9EXMYUJZzDgNpj536d5pdeMQ4yFSCC0RxxcIpcTCrmKxaKzv9Gy7qKTsRPeE22DZfkxmwn4Y\n",
       "Oejg7W+/9DpcJglrWOEqaT8NFPO9/btzXm5DOtXyYJcXrl2ul1pxcud7dlojugI3QEAHvk+HKbcS\n",
       "VMvjbpt76XIuP9MPPSaXr4B6FMHHl8cTQR9GOxOl1q5+TksaI7ltwieZ/CHorW19nG+zTDKo/PGg\n",
       "TQ58XP53/5C/AfONtGClrtQ0AAAAAElFTkSuQmCC\n",
       "\" style=\"display:inline;vertical-align:middle;\" /></a><br>"
      ],
      "text/plain": [
       "multComplexClosureBin: forall_{a, b in Complexes} ((a * b) in Complexes)"
      ]
     },
     "execution_count": 14,
     "metadata": {},
     "output_type": "execute_result"
    }
   ],
   "source": [
    "multComplexClosureBin = Forall((a, b), InSet(Mult(a, b), Complexes), domain=Complexes)"
   ]
  },
  {
   "cell_type": "code",
   "execution_count": 15,
   "metadata": {},
   "outputs": [
    {
     "data": {
      "text/html": [
       "<strong id=\"multComplexClosure\"><a class=\"ProveItLink\" href=\"_proofs_/multComplexClosure.ipynb\">multComplexClosure</a>:</strong> <a class=\"ProveItLink\" href=\"__pv_it/0bd35933d70e636aa015fc8cd207341e9abb5fae0/expr.ipynb\"><img src=\"data:image/png;base64,iVBORw0KGgoAAAANSUhEUgAAAUoAAAAVBAMAAADSqLqgAAAAMFBMVEX///8QEBC6urrMzMxUVFRm\n",
       "ZmZERETc3NwyMjKqqqp2dnaIiIiYmJgiIiLu7u4AAAAU9Wx4AAAAAXRSTlMAQObYZgAABGpJREFU\n",
       "SMfVll2IG1UUx//JzCabzMfutloQwU1dsVKVjlJqLdiGVvRBtJG2D20phqopfudhaQTRXXzSRduI\n",
       "Cj4IBqlUEbaDxaW02zZuWyktrGErRYV0syK6tJr9aldWa6/3KzOTpEnGvnnhTO6dk7nnN+ece84A\n",
       "/4tRaqrVfljrb5ugLYQOZcGn6XVZdz7S4D96DDg9hgKbn220UTRm8P/arSyulEKH8ZdPyvGcO2+z\n",
       "6tRH35o5n8AmOvsUX7AbexpTRtkLt5daWdzj7nLgsj/IKIl7Vv216vtncfHvONo55W56DScbU3Ld\n",
       "7lYWNVsICzj5x2fAScGzOlMbajUPfBKHnmOUzE1t2caU3ENbW1kMlIQwvx8g/igHyLRnNSF+zEPF\n",
       "InfraIDlQRxmJ6PU92cyr6MJ5ZlMJlNoZfEuKSydAqTkB1IrdF/zLEPCU6tH5TrRy5hpeJ5jlJhP\n",
       "pX5qRtmRSr2Ua2VymxSaPXPtJOaHss/aO+u1lOBPvyyXZmK5nH3GKTcAu5pRqhZCaV5smlSYd6RQ\n",
       "nyTaCM0oJdmK8lk8ddWzjPA4C0ssu3Mfy9lHnPIOmDXna/WWmHZzqUIZjGNS5J5TYX4feHx79SOL\n",
       "pADfQCMJKJtFkpTr6Uyxs96J41e8BbeTXX+FQ3mPnC3llAa0vGePr7fk9eQgBh1f0oo6zOdPzku9\n",
       "sqqkDOhbh9efck7drBSYCwgS6scIpzSvc9ynBP9UFivmPbcVfpSWFovi9JjJNZVSwCm1vOHJ9qFl\n",
       "5ZJ+ts1LOYwL/GV/nKnoXwOWR4awKJioo1RnurpZhZGUS+opJ0QubOzqqipZgnKlW4DVKkqzn6r0\n",
       "7Xfv04Ys6Myu/uADtodyUuHV11hGzy7X97xP0xwbzELU8eUtUvDe2vJvrMJEWpSFyOJyuY+WrFNf\n",
       "HY4fedqJ+B9u/VRl/xYRx671NNNW5I24Lio9dGvwhIcy1BsTZ42eXa4/xqtFIZIw9MqeL0oxGer4\n",
       "n9WULFQmKhfpUfqCBkmbI1fxPU4yo/xwqE7yhUbYlwGN4mlB+SHd8I1D6LBoMVgjKKPRJ1zKyA4e\n",
       "kduw1xZ6Tmkmo9nQQbjlgksvC+crC1WUPDl5Nk45N8OPMBCSDV/qxxx/UlQic8x57OEXSj+nSpVK\n",
       "hADrbI/hPrRn8VAqlbJ1Kzx6waXErTzgNI/iQn97T10A7xXSQWhWbCRkropySSUbJ5zyRMg1qIQQ\n",
       "S7WVTrzNWpYosq9uchJ1B7mJ3XtTUOosIosxhL4gfhG+RM8xDyUP8D7gu4LQq5dYXlZ3yLQQN+8K\n",
       "/tpkwNKS4emY0yHxwbvFqsIoOqSMwDT15rdRqGlBqXvyEjLgWDct9Mq2NI7UfBvkhPxnyj6otp6k\n",
       "T37ZqK/YLmUwiXNYtR/mTtaQ6SVeQzl+GXr3TJbrcfH8M7HGX278rT+/YvuivBOGpTyfrusszpiE\n",
       "S+mi07yr7pBN9c7olXKjQ003UDx6PcraD5ei5c9K2BZyo+NgIwBq/+jYv/R5Ufa/boEFAAAAAElF\n",
       "TkSuQmCC\n",
       "\" style=\"display:inline;vertical-align:middle;\" /></a><br>"
      ],
      "text/plain": [
       "multComplexClosure: forall_{m in Naturals} [forall_{A in Complexes^{m}} ((A_1 *  ...  * A_m) in Complexes)]"
      ]
     },
     "execution_count": 15,
     "metadata": {},
     "output_type": "execute_result"
    }
   ],
   "source": [
    "multComplexClosure = Forall(m, Forall(AA, InSet(Mult(iterA1m),Complexes), domain=Exp(Complexes,m)), domain=Naturals)"
   ]
  },
  {
   "cell_type": "code",
   "execution_count": 16,
   "metadata": {},
   "outputs": [
    {
     "data": {
      "text/html": [
       "<strong id=\"multNotEqZero\"><a class=\"ProveItLink\" href=\"_proofs_/multNotEqZero.ipynb\">multNotEqZero</a>:</strong> <a class=\"ProveItLink\" href=\"__pv_it/48d49a405160551886323badd57f9fb038dc67ed0/expr.ipynb\"><img src=\"data:image/png;base64,iVBORw0KGgoAAAANSUhEUgAAAXIAAAAZCAMAAAAbvlUWAAAAPFBMVEX///8LCwsYGBgNDQ0oKCgQ\n",
       "EBC6urrMzMxUVFRmZmZERETc3NwyMjKqqqp2dnaIiIiYmJgiIiLu7u4AAACwKje0AAAAAXRSTlMA\n",
       "QObYZgAABIVJREFUaN7tmulypTgMRj0z7R3v7/+u4xWQjeEGqHRXV/QjJrd1P+BYliV3EHpmwjkn\n",
       "0Y99ZiTS0k9F3A/Hr5lkP8i/H7l/Abn/HWvUwLEYDerl+0wULZn4a3nuHZFvYWrNXeQPNW6RYHBs\n",
       "jxP0yzeaKXJ6HMTL7hfPjSl+m3dErtdJXPxd5A817li7EbyhDoG9e5+54nL4KdtHv4u/eEeBd0Qu\n",
       "RbsWtxPLQ40bZgwcWxIIwb2cVqaKVl8FucnfNAvwTttnixOubiN/qHHDsIdjDbwYk+HdxTRX9Pgy\n",
       "yPP6IEHuvRNyq2W2e+Hh6ow/0bixdy5wXKMKh/BmajtVFGN8UbDKA9/tv807F4lBJLtZolfIjzS+\n",
       "blzDsbxMoGgJgbxY0J0qaj7OAgXf1gW52Xtn5Cz7CfkE+ahBvlCuSW3zU2mTnouU307Xu4Vjed/4\n",
       "ZR6CPQq4m601UOxNbUuML9l+/Zd+sh653ntn5CT98Mv5NrJwHifbYO4PkY8aeCyuvF00c3yoIyXO\n",
       "U2V01UG8RITlylhG7LhDYALH7J2ypQl1NXO2T3L+s2zTuQHFg+yGT4O8Q968S/eZHs5MptIbznn8\n",
       "NyuQjg+k/aT77DU4DqKToFT4NHl6Ei65msqJs36gjMhUyfDOba3v1rzPq4qEdlu1Q+4/q2M6t15x\n",
       "rGb6OWAITRNL8y7IEyp3HAdGEOnT5NvY5PAT5J0GcSrgXkLme5MJcp9pO7VbhDFdebcv+0+Qs4Cj\n",
       "bTUdQI4/yjKdW694iXzpcnPbPu2IPCaE2sRZbojRLJa7ZY3YNb4sVTQimyLfNGoTIOtOv0qQqFBu\n",
       "eoycFuRmhzyKK56GfgliBcfoh2mcVy/Xmk49rZ46xR4NSCzcRfv3H5dNwCJR5SKxSyxx2yv1pLck\n",
       "TUlytQx2WJZG3JZOka8a62Zed/pVwnjrz/YhMiD3okS4MH1zLSwcY4Cq1p+XN5wh9+OVn4Q8UBzQ\n",
       "xHE5D/LaCmkHvCtyxcvH0udWKZZGpaaheo8caaTZFHnTyAGbOpQl57BNYo6c6S7KPb4on1rFtVVe\n",
       "LbREqJXSMfItXa9Xx4m+V+zRjEUiGQ8GUpb0mKKhSEwLtFURzCRgacrSg1OXy21hCnJpvZsi3zTi\n",
       "hyUJMiBBCGnBqkQzn9oZVl9drqmCYH7eCjkwhmQ+p99sdI58Tdfr1WGiP1CEaNJIzoM8HWtpwyj0\n",
       "bsjX+EtTkuoEGVA6kmEgymM6NnPkWwzr/DWbo2cnwbw5zuW1ocnhULvjqyahOcwd1dudMEQzNPyK\n",
       "X2zNCCLf6poa6akmTJcSII+N/Rw5TCv5RAgBCcrzWbIxkyIx1+Vi7OPPzpSs/i7kPRqk4Xu489J/\n",
       "9e6R5zdO9TEVGY8XpB1mlCuGLpG7klFszCwpS6wS8VLHLMPItI0zxpROS10inxze7vrZJfBXz+4H\n",
       "NMuXgnx/eHt1Xlxz+UXD/0RiJPwB8vbk8uXz8Y+Nya8E+eb9Z/zf5x3kSBo4frP1dSv51PvPQC77\n",
       "TZBz9NfaC8jf+DsWCbYiYuzfyjv9HQv7H1lxQVL9x/DEAAAAAElFTkSuQmCC\n",
       "\" style=\"display:inline;vertical-align:middle;\" /></a><br>"
      ],
      "text/plain": [
       "multNotEqZero: forall_{m in Naturals} [forall_{A in Complexes - {0}^{m}} ((A_1 *  ...  * A_m) != 0)]"
      ]
     },
     "execution_count": 16,
     "metadata": {},
     "output_type": "execute_result"
    }
   ],
   "source": [
    "multNotEqZero = Forall(m, Forall(AA, NotEquals(Mult(iterA1m), zero), domain=Exp(ComplexesSansZero,m)), domain=Naturals)"
   ]
  },
  {
   "cell_type": "code",
   "execution_count": 17,
   "metadata": {},
   "outputs": [
    {
     "data": {
      "text/html": [
       "<strong id=\"elimOneLeft\"><a class=\"ProveItLink\" href=\"_proofs_/elimOneLeft.ipynb\">elimOneLeft</a>:</strong> <a class=\"ProveItLink\" href=\"__pv_it/78a44c9682760db531482792738b3d7768085df50/expr.ipynb\"><img src=\"data:image/png;base64,iVBORw0KGgoAAAANSUhEUgAAAKEAAAAVBAMAAADcJJPmAAAAMFBMVEX///8QEBC6urrMzMxUVFRm\n",
       "ZmZERETc3NwyMjKqqqp2dnaIiIiYmJgiIiLu7u4AAAAU9Wx4AAAAAXRSTlMAQObYZgAAAkJJREFU\n",
       "OMtjYKA6eIBPkmkDBGMAHgXsGg4B8QUQ4zQOE02gmA3D3mDsGlgNGBhWghh9OEzsg2C+fAwTOXDo\n",
       "aGBgKANS7AnYpbk3gDGfiz+GiTwLsGs5BbQMqJh1AnZpxgcQzLAfw0Q+AexaHgItW15eXovDCxpQ\n",
       "jMVEhkzsWtiAjvuWlnYLh4lRUIxiYtWWyq3A0FiKppZ9tfvsaAYGrgAGBmcGhnQcJvZAMbKJfAt4\n",
       "7jACE8gMECeiAwRaQMxXDGcPyDIwcAKjRoWBrwHZmDddvtFQphAUQ03kA5FcDNwfOIFpRBHN9gUM\n",
       "+xkmA1MvMHx5GbgPwOzfGnqA2ewBcxeU/wmKoSa+B6VdPgYWcMqwx8gpbiCK+QMweRzghflpm/q7\n",
       "BzzVDAxa2E18CElkjBuwmcjAIA0zka8BlCtWO20x4AGGKoMy0OnsUDWSUIwa1/UGoKwL9nXsXRC4\n",
       "Bomaz0D3g33NkO4EDJ0HbowTwPlg3zmE3hwoRjaRp2A/AzeQewLNhce5PzDsA0qD4mQqMHiYQHFq\n",
       "hW7iUihGNnH+gUSGagaM1MP5h02AfQMk9UDD5TsDg21aWtoGJWWEMl0oDpVvhUUew7Ndr1aDOE1o\n",
       "eSh73ao9oPwOKpR4QA5gFmBmeAKSYnmNCEfGAgjGAvDkQgiw52rgYmABaWaOKmDYjVQc4CgSuDZg\n",
       "N3E13C87o9cx8CWBE/+1FAW00gwLeIHdQNTMArQYGI4oAiVQjAncsZvIUkCgygDFHjs2/3EbYNew\n",
       "mYEBAPzUnwTFOCb/AAAAAElFTkSuQmCC\n",
       "\" style=\"display:inline;vertical-align:middle;\" /></a><br>"
      ],
      "text/plain": [
       "elimOneLeft: forall_{x in Complexes} ((1 * x) = x)"
      ]
     },
     "execution_count": 17,
     "metadata": {},
     "output_type": "execute_result"
    }
   ],
   "source": [
    "elimOneLeft = Forall(x, Equals(Mult(one, x), x), domain=Complexes)"
   ]
  },
  {
   "cell_type": "code",
   "execution_count": 18,
   "metadata": {},
   "outputs": [
    {
     "data": {
      "text/html": [
       "<strong id=\"elimOneRight\"><a class=\"ProveItLink\" href=\"_proofs_/elimOneRight.ipynb\">elimOneRight</a>:</strong> <a class=\"ProveItLink\" href=\"__pv_it/a2867fdc5b5f59b4f26dc13d55831307f81951cd0/expr.ipynb\"><img src=\"data:image/png;base64,iVBORw0KGgoAAAANSUhEUgAAAKEAAAAVBAMAAADcJJPmAAAAMFBMVEX///8QEBC6urrMzMxUVFRm\n",
       "ZmZERETc3NwyMjKqqqp2dnaIiIiYmJgiIiLu7u4AAAAU9Wx4AAAAAXRSTlMAQObYZgAAAh5JREFU\n",
       "OMtjYKA6eIBPkmkDBGOAQzg0gMQvgBincSgwgWJUkMfAwGqAXQNIfCWI0YfDxD5scs/+AYkGHDqA\n",
       "4mVAij0BuzT3BghGAU9cQCaewmEiUJwDGJCsE7BLMz6AYDR7QCY+xGEiUJxneXl5LQ5pDSjGYiIb\n",
       "DkeAxL+lpd3CYWIUFFdtqdy6AdVErgA0teyr3WdHQ8SdGRjScZjYA8F8C3juMF5ANZETHDURHSDQ\n",
       "AmK+Yjh7QBYirsLAhxJxb7p8o6FMIQjmYuD+wAlKLnwP4CYyCaDZvoBhP8NkiDgvA/cBqCjf1tAD\n",
       "zGYPmLug/E8QzMfAAkkM7y/ATWT+gJFT3Big4twHeGHRuU393QOeagYGLVQTgREOCcWHCbhNZGCQ\n",
       "hpnI1wDKFaudthjwgEJbGeh0dqgaSShmqDdAyq1Ivo69CwLXIFHzGegZiHi6EzCoHrgxTuAASew7\n",
       "h7A1B4J5CvYzcKOZyIOeaY5zf2DYBxWfCgwdJlCcWqGbuBSC5x9IZKhmwJ96OP+wCbBvgIpDAuk7\n",
       "A4NtWlraBiVlhDJdCH6269XqA4jCIPBHDDCrKaCayJe9btUeBqg4D8hDzALMDE9AUiyvEeHIWADB\n",
       "2HMbfnF7rgYuBhaQZuaoAobdUFGeBRCMBazGYSJc/NnO6HUMfEngxH8tRQFvaQb2JI7SDF2cCxiO\n",
       "KAIlUIwBWLCHBU5xRPbfAMEYYDMODUBxADJMnNlwMRDnAAAAAElFTkSuQmCC\n",
       "\" style=\"display:inline;vertical-align:middle;\" /></a><br>"
      ],
      "text/plain": [
       "elimOneRight: forall_{x in Complexes} ((x * 1) = x)"
      ]
     },
     "execution_count": 18,
     "metadata": {},
     "output_type": "execute_result"
    }
   ],
   "source": [
    "elimOneRight = Forall(x, Equals(Mult(x, one), x), domain=Complexes)"
   ]
  },
  {
   "cell_type": "code",
   "execution_count": 19,
   "metadata": {},
   "outputs": [
    {
     "data": {
      "text/html": [
       "<strong id=\"elimOneAny\"><a class=\"ProveItLink\" href=\"_proofs_/elimOneAny.ipynb\">elimOneAny</a>:</strong> <a class=\"ProveItLink\" href=\"__pv_it/ec6fa03c2b367ac2e4abf7c19bcb0134aeb056620/expr.ipynb\"><img src=\"data:image/png;base64,iVBORw0KGgoAAAANSUhEUgAAAugAAAAXBAMAAACrL6dGAAAAMFBMVEX///8QEBC6urrMzMxUVFRm\n",
       "ZmZERETc3NwyMjKqqqp2dnaIiIiYmJgiIiLu7u4AAAAU9Wx4AAAAAXRSTlMAQObYZgAABnZJREFU\n",
       "aN7tWF1sFFUUPt3tdtvd2VlqtcoLW8REIyEtCaLBaDdq5IGQ1h8SQ1EJ0SVGY/eBgBFl6z8hatcQ\n",
       "El8aaoOi8aFrjMTEIFuJhKCRAgkmGtIlIUCkLpTf8tNez51zZ2fuzLRzhyXqAyc57czsd89895t7\n",
       "zz33Aty0f99KKqCd75RU44UK5Gjhy4pt/IHdDO3WNv9QEvAnD8Bc+teer4JaHX/J2KMB2Wgt5HsP\n",
       "wjC//8Wn8YAajNsC4WiJK4qiewNftV3rvbPKJ7rP+YeSgBH3Vwqn6f9IfzXUTo6Vy2tZWzA28JTw\n",
       "AfiK337sK7oSzMQI3OB5RdE9gccn7XdsJUDugkIsCdjj+rmepmyMpaugBsmLAFHWGZBNvfABWIt/\n",
       "oyt9RVeCocUL5HxQsQnFKewFPPbYpATBmLnzKrHswH2u338Q2YUNXz81bH6Vi54OyEbrJx8wPn0k\n",
       "7yu6EgytpkTOP+ogUxPdGxi3ix7nc3n/NYWPLgGPun6fRf82sTNVUINdmDE0VgzIRp9BPgDa9nXr\n",
       "3gRf0ZVgaPcI56tvDVNbfr2Bkuh1vO8jPf6xZGCdc5iE6Jf4cGqyCmrQjZ8sMR6UDbxEPgBwMZP5\n",
       "w190JRjacuE4/c7VsxaVjk0BlERPYg8fUFkiZGDMmXYjtH7m2nrPVkENWA+Ee9NB2cDn5KgmVj6r\n",
       "FURXgaF9KBy/cmdEYQJODZREbx/b+NGYSpUnAxuMQfbMRm7vGumCXvQiPH+tCmphdsfGkZmB2cCn\n",
       "5KjmXaD3KIhegbVSkM9YY+pPN/IW4QBDmNFwoIVp9S171FNi4gqgZWW76HSzH8vl4+MK0UygyCYz\n",
       "nEuOMW61GbCLlxQLJR5uCm5qhNVYHvTuHv8AMhuYTY5qJiDuPSDD7z0J3zxnil6BpWiGasi6VzQc\n",
       "3bS0SzQ6Kxz0yxDCgin8tFEm6B5FwGkqIATQ1rEJm+jipgNvQqzfP5oAml1wLpdJQ/TTeWjFou++\n",
       "pfaW4KbgoiawtTzRt17xDyCzgXZyVDNeTHh8qVPLVsCeWClWMkU3YZEUsYjg/BzsBP27ZcXwwlJ4\n",
       "k1P02rHGFK/LGkimZvcrjlIgE2gRbraLTjepYc4+7R/NBE4rekdjo1EK9tlbgpuCi5rA1vDGref9\n",
       "A8hsbKLrPQs8EuqqDWX4tdBpiW7C5m2lKZu4hCM9DzvuLpe09QD3ioYzhcMnD5dP8Lqswa8gNoHT\n",
       "5XRjIxLDotcvWgVoTy/PHuF22JCL58aGpnI5xyqiB6dmbHcGr/oGcLCxpRdY/Qgmi6652+I7+L6W\n",
       "XwH8zDG7N6+3RDdgaAdzJEbyDESugMYz3pzNGF/EfUW4zpUfuSSLrpuHPbrtmQBaDDxE50kUchNy\n",
       "tJJHNBNIvQDNuVrV8YR4FDEJlpU0C0SNp+oonwJeAWynWQ42sJecq7kFW4+2FhNpjc8DftVG++fd\n",
       "sdFFluhbhqkIS1Kx1dqcacwbu1r48TdwVkWwhk+57suyTDz5GdnOlgVNoMXAQ/RalGg09bsUzQjk\n",
       "jGYCqRfukpE/iD5uVNB5SbNA1DougT40kfUOYFtwHGxsJSPU4PDf8D0k2wyK/CobNnL/bujfZole\n",
       "Y8yS+aX6q7Qp6+cjfZFT9HnkSYZrTQdj5yTRefIzsp2VBStAi4GoqJ8YX2EDMTbGJ5Bd9GbwikZA\n",
       "oxdYITqL7BC2Z2wS5WC4Wey7Pmr8Jay5KOenSgBrwXGygbfJuZoaF3YJzId6oxhcgmknfDiTeRlF\n",
       "f+NvS3QDBgcaU1Tsd7fgEgEPZTKZwp1zbDVZlrxiDWqHHHYG01iAaLM9jwFut9/0VUutLxAb6xhA\n",
       "WBPsgFyIrpaF9DSN9NCDlug0PdOg0fRJYQIYh2PGLDpl5XTzUCe4TBaDGyE67wXA167n+65Hsymp\n",
       "9QViEyuQm2pGz+DX2BOD17J41TQHFpPosM8h+vwSbscg+gFEseTf2gS1fFCHl2fN0zvpaDeQTCaD\n",
       "GyM69UKf8mg3kGZTU+sLwgZOArmpZmglHIKF26G9iFfLi3Ack2Ho/RaoBUn0BNacQ2xm+Bq8xY4c\n",
       "uK0E+ir++K/DL1SS5xrh5vu+vFBQImYymJ59gGjYi9qsO4JtPXy9t6s6agECIBtjJC+2D2HTzM3p\n",
       "F5jTbYdth2SUZpUDmNPlXhXI/w/2rcez9f8Zm3gb+c6Dzq1/Vqn9/XDTbpxparDiTaWqsX8AoKX4\n",
       "lb/p+EYAAAAASUVORK5CYII=\n",
       "\" style=\"display:inline;vertical-align:middle;\" /></a><br>"
      ],
      "text/plain": [
       "elimOneAny: forall_{m, n in Naturals} [forall_{A, B in Complexes} ((A_1 *  ...  * A_m * 1 * B_1 *  ...  * B_n) = (A_1 *  ...  * A_m * B_1 *  ...  * B_n))]"
      ]
     },
     "execution_count": 19,
     "metadata": {},
     "output_type": "execute_result"
    }
   ],
   "source": [
    "elimOneAny = Forall((m, n), Forall((AA, BB), Equals(Mult(iterA1m, one, iterB1n), Mult(iterA1m, iterB1n)), domain=Complexes),\n",
    "                    domain=Naturals)"
   ]
  },
  {
   "cell_type": "code",
   "execution_count": 20,
   "metadata": {},
   "outputs": [
    {
     "data": {
      "text/html": [
       "<strong id=\"multZeroLeft\"><a class=\"ProveItLink\" href=\"_proofs_/multZeroLeft.ipynb\">multZeroLeft</a>:</strong> <a class=\"ProveItLink\" href=\"__pv_it/7534f30e047d9f43a4a3504e95c32f524cd1081a0/expr.ipynb\"><img src=\"data:image/png;base64,iVBORw0KGgoAAAANSUhEUgAAAJ8AAAAVBAMAAACqHiFtAAAAMFBMVEX///8QEBC6urrMzMxUVFRm\n",
       "ZmZERETc3NwyMjKqqqp2dnaIiIiYmJgiIiLu7u4AAAAU9Wx4AAAAAXRSTlMAQObYZgAAAklJREFU\n",
       "OMtjYKA2eIBPkmkDBGOAQ9jVg4QvgBincRhoAsFPdwejSbAaoCvli95qABZeCeL14TCwD4IvMbxF\n",
       "N6ABXSmvAt9lsHAZkMOegN087g1gzH2BgRvdgFPoavcyMOwAC3MAA5F1AnYDGR+AMa8DA9N3NKmH\n",
       "6GqvMDDoF4CEeZaXl9fi8LEGBPMHMDD/RJNiQ3fDVwYG+wlg4W9pabdwGBgFwfULGJh/w8TYV7vP\n",
       "jmZg4ApAVcr+C2jgBrCwMwNDOg4DeyAYZOAvmNgrhrMHZBkYOMGBGtEBAi0wAxeAhVUY+FBC/E2X\n",
       "bzSUKQTBMAP5QGl2AcN+hsnA1CmAxYULwMK8DNwHYGlpa+gBZrMHzF1Q/icIhnn5/QVwRnADSTF/\n",
       "wOplkDD3AV5Ybtmm/u4BTzUDgxaqgaBI+QOKWUjqksZmIDhSDoCF+RpA+WG10xYDHlBAKwP9ww5V\n",
       "JAnBwGTDiUg27J8Z+GBejr0LAtegyWZ+AUQ43QkYaQ/cGCdwgCT2nUPYmgPBwITNdQEmdpz7A8M+\n",
       "YGprwEzYa6HCU4GKmUCxaYVu4FIovsnwEJb1OP+wCbBvwEw2DLwT+IShwozg4gToJ9u0tLQNSsoI\n",
       "RbpQ/HS1M7wMyF63ag+Q5lBALxyithhAhXlAccIswMzwBCTB8hoRhowFEIwFPGTAL2zP1cDFwALS\n",
       "yxxVwLAbKsqzAIKxgNUM+IWf7Yxex8CXBM4K11IU0IovTMDXwECMMBcwDFEESqAYA7BgDwgcwkjp\n",
       "fwMEY4DN2NUDhQHuQqkPZFORqgAAAABJRU5ErkJggg==\n",
       "\" style=\"display:inline;vertical-align:middle;\" /></a><br>"
      ],
      "text/plain": [
       "multZeroLeft: forall_{x in Complexes} ((0 * x) = 0)"
      ]
     },
     "execution_count": 20,
     "metadata": {},
     "output_type": "execute_result"
    }
   ],
   "source": [
    "multZeroLeft = Forall(x, Equals(Mult(zero, x), zero), domain=Complexes)"
   ]
  },
  {
   "cell_type": "code",
   "execution_count": 21,
   "metadata": {},
   "outputs": [
    {
     "data": {
      "text/html": [
       "<strong id=\"multZeroRight\"><a class=\"ProveItLink\" href=\"_proofs_/multZeroRight.ipynb\">multZeroRight</a>:</strong> <a class=\"ProveItLink\" href=\"__pv_it/c0e65e141263f08e4752da274f44e31b9c3e05270/expr.ipynb\"><img src=\"data:image/png;base64,iVBORw0KGgoAAAANSUhEUgAAAJ8AAAAVBAMAAACqHiFtAAAAMFBMVEX///8QEBC6urrMzMxUVFRm\n",
       "ZmZERETc3NwyMjKqqqp2dnaIiIiYmJgiIiLu7u4AAAAU9Wx4AAAAAXRSTlMAQObYZgAAAhNJREFU\n",
       "OMutlD9oFEEUxr+7vZjL7t4QTGV3GEERxCvEQpBAAukCNoLcIcQgm8ZiC0nQIG5hIUHCgljnGpFw\n",
       "JCzkTtQQXSwVwoGSQhT2QFJEMUFQwcoZ31x293bmSJEHH8z8Zubtvj8zwFFb1G8xH5Ay9la9X+C2\n",
       "GLzXOLwglTRWa1UwUIEOr4jZksbhkmKtVGYfAA86PMcng9Nqf1ZAStkm8AJ4Bx0u8iQO+GqHuYiU\n",
       "so/AeRcd6LD9bH7+nibiM1Ip+wWM+Tjma/Fvx/mkcViVutu80+pGPviXnwxgXklvTeAJYFbj8BGJ\n",
       "1e3PuXbyZB1D/6ty7aGwB2l8CixVsu+LUzU5PE4yYe0PiT5h0cHJ/LDiDwmXYIXdXmpdDY2LkbEo\n",
       "5z9JDAVqg732QWzGvjJkga2w1C3k89M/InsBOJt2yEtNGexMy+yHGYcJzDxxFxrjzYotEj36mH9O\n",
       "bjohhfuV+Iry/lh2ZcjXvwjb7sGz4zxN0WTOL4qF11vxV2+RbPcNrCjRwaucednG7uInPDN5Uc1L\n",
       "vQ6fkpbDG1iI75jPRpBpmySmBP0BLjuOE5wcjTedI+282m2E8StQbfKKF8u9j0OMbRGNMWzgq1go\n",
       "fItzmHNJCuugPx4zPRMFcdaoutiQ1K6TFNZAf7zzsrYGNiOGu9s3y/2eLwrQw2GwyXOYArelMlZQ\n",
       "J0KDE/0fkDK2rt7P8T/n6qim9KNF0QAAAABJRU5ErkJggg==\n",
       "\" style=\"display:inline;vertical-align:middle;\" /></a><br>"
      ],
      "text/plain": [
       "multZeroRight: forall_{x in Complexes} ((x * 0) = 0)"
      ]
     },
     "execution_count": 21,
     "metadata": {},
     "output_type": "execute_result"
    }
   ],
   "source": [
    "multZeroRight = Forall(x, Equals(Mult(x, zero), zero), domain=Complexes)"
   ]
  },
  {
   "cell_type": "code",
   "execution_count": 22,
   "metadata": {},
   "outputs": [
    {
     "data": {
      "text/html": [
       "<strong id=\"multZeroAny\"><a class=\"ProveItLink\" href=\"_proofs_/multZeroAny.ipynb\">multZeroAny</a>:</strong> <a class=\"ProveItLink\" href=\"__pv_it/746427307aa317d1d9e8e7eb5452adab367913ec0/expr.ipynb\"><img src=\"data:image/png;base64,iVBORw0KGgoAAAANSUhEUgAAAfQAAAAWCAMAAAAB856FAAAAM1BMVEX///+/v78QEBC6urrMzMxU\n",
       "VFRmZmZERETc3NwyMjKqqqp2dnaIiIiYmJgiIiLu7u4AAAB/uxFxAAAAAXRSTlMAQObYZgAABQpJ\n",
       "REFUaN7tWdlypSAQddgEWf//a4ddGsFoLqmaqgkvGILndvXp3W37Xf/fsivBlBF/fkBGrOCeFnHH\n",
       "2p9ZAbi7shAlK4SaA2r8Bqfc1sLgzZzH6mMJ5WK8TAaFe17GybWkPwW0TCk2Y9QKh6xf3LO1hPU5\n",
       "ICNvZK23PUmyWrewK0hfigeBIKB0ji7l/DGgd5XNmpnGndvjzp1jS+SaA4pXsoqTJL7n5/rwGelL\n",
       "8VLOUHAvsdg5sza4PwRU8ZYSUxhVOKKL5JoBavlG1nLbk1T9hx1LSF+KFxeycM9W7h3TrST9MaCJ\n",
       "qseOj9VcgrB2Ti+x+TmgRW9kLbcDSVryuFa4zWq8KLGAezVh5NzCKvQ5YAqys6pvL5ZjnFgi2B3g\n",
       "fryRNd8OJG1uD8vIRaSvxIsRQ8I9hzqyCefwMs6fA/JU7hGnJhk4UkPEqorjDlCyN7Lm25Gk1Ans\n",
       "fBXpVzwMvEJ6j0IIOfOsuhca7snEvfyshjvyefkAAR8pUk4yMBJCGIeONbJdANt1nL7PRLPoUNZ8\n",
       "O5KEaWwMXkkiGPOvKsTslfQrHoIK0inoiEuK0kJSwzpbQBjuEQGlZJeCF6NtKrHPYj68BgDvX7iQ\n",
       "DpB84o3k2D066OeydYBd6kNvDDTfjiTF1lo9KzqsYoz5q3rfpJdM2oGnX/AYcsDcWWJbZhUXTEJ2\n",
       "G+yp86AScpvQa6MecOlltqNRrH1WgsNrPeDdC314h0i01AUeTK6Q7QIIw8Cb8J5vJ5ICQeaRDaod\n",
       "cxvsUGu1sRnpHR42h0NwCMKTpx8Qk0fR8Nek05Ae0NliAcWiR/EUXusBb18oxZEeIaECgXOD9als\n",
       "F8A3pENZAek+FOdhl2YKK0l9S7zX2UM5i4/1kBzEczQm/cTL8wEOy+JUjrJkhRUTe8hknl14P+Du\n",
       "9YhIHFHVFuv4sFPoAEdauLRBx7BlOwcoMrfXH8rWAzZswPDOTLP2oawgvPuiiya2NA42EW5qWhNt\n",
       "OiNgAqSJJ1yTMekVr1aYoCzGDvnqHmUSK6ayehhtdg137whHiRhZ8RPF2uuTHXsWABxp4TrwkMPf\n",
       "LBk4kGUeyXYvWg/YshH++1UlBmTVoiXpYOmU2zi7CcOA2gyUM68NIlvSN7lJOia94MWYEmYqou1v\n",
       "VHLx5Okn5oz0IknZOd3PDva4UeyZGuvTMKn2gCMtQFc/gqEMx7A02aHVPirzJ7Ldi3YBbNh40rJB\n",
       "WduWLYTOwglVgabggGeDEM5iZCAmduC7SqRzbc2Y9BPP/2rKlrSdNuCcowAmxnioR2zAHj842aSO\n",
       "sMhcsTU11qdRUh0AjrTQAjOphp/Q3PlFrMalL2S7FW0EWNmIYfLLuUIra75dSKo+FmxC7SGYbBUv\n",
       "nDHm/7YUeLrPwmpC+umzuRhozRi57PDBZhtMatUop2+Iw32Qk5cO4cda+Ha98AOyRTYejWFHQ1uJ\n",
       "+7Ih21JoyfyfguczRIIbUg5I3/Qkp28wuMcJw5bhPJ5IxUUKOicmYTI8q35mUz4UzD8vLFZsp4V/\n",
       "ivSGDa/uVx+vy+2eJBxCTKgSyB4IiKV+PGNSxwEBLnPw9ES3e9JNius6zOCOBCf8s68vUZnrVEz/\n",
       "KH2sp1ffGn9aPfUghWNqoWI7LXzE0Y/Ilth4OVCzYuaZl+KxZzXn9Lsx7Au4J5ih0oL778r5kH/r\n",
       "9lckkZeGrowhC+Eq6wruvysqm3zntqfoO575/aV/mfon1l8etUQwwYAmOwAAAABJRU5ErkJggg==\n",
       "\" style=\"display:inline;vertical-align:middle;\" /></a><br>"
      ],
      "text/plain": [
       "multZeroAny: forall_{m, n in Naturals} [forall_{A, B in Complexes} ((A_1 *  ...  * A_m * 0 * B_1 *  ...  * B_n) = 0)]"
      ]
     },
     "execution_count": 22,
     "metadata": {},
     "output_type": "execute_result"
    }
   ],
   "source": [
    "multZeroAny = Forall((m, n), Forall((AA, BB), Equals(Mult(iterA1m, zero, iterB1n), zero), domain=Complexes),\n",
    "                     domain=Naturals)"
   ]
  },
  {
   "cell_type": "code",
   "execution_count": 23,
   "metadata": {},
   "outputs": [
    {
     "data": {
      "text/html": [
       "<strong id=\"multNegLeft\"><a class=\"ProveItLink\" href=\"_proofs_/multNegLeft.ipynb\">multNegLeft</a>:</strong> <a class=\"ProveItLink\" href=\"__pv_it/1f16336bce962674379fb702f12f06b9439f12f40/expr.ipynb\"><img src=\"data:image/png;base64,iVBORw0KGgoAAAANSUhEUgAAAR0AAAAWBAMAAAAP9FU/AAAAMFBMVEX///8QEBC6urrMzMxUVFRm\n",
       "ZmZERETc3NwyMjKqqqp2dnaIiIiYmJgiIiLu7u4AAAAU9Wx4AAAAAXRSTlMAQObYZgAAA01JREFU\n",
       "SMfNVltoE0EUPcnm0Ty6CS0oIshqBUUpjSCCgqRUUFAKxQdIi1ilpPj42A+xatEGQZCiJaCC4Ef3\n",
       "p4gUJWIT0IJd/JIKki8/ioUURKSVWhTsh1qcyW5yZ7ZLtn964CSbkz13787cOzPAf4byGu7x54ki\n",
       "4ho8BDhNO93ivxFY4sK7+vnsFijhmKfgMCntbvGDKeITLozUz2dEoIQGT8FhanCfjizxMvsK99ZN\n",
       "J5YnOubH8BIcpkn3J0wTecbBXN18fGWiDDXpJThMm9yfMEeMPx4YuF5/urYLdOCcpyCZ/Fn3J4Ry\n",
       "xJ+ZzEz9fLoFVnFt4mqBzcRYTZjvRnhFFAQzFa5BVms8xwwMlRHtQo0HgP76+dwRWI1jxD/6WGs+\n",
       "rClGG2JLthC8XUE7ZBMrDpOsFUT9S5gCIlniVqhuo/h1uLPHvmwSWI3DHh5h3bm5khwrESV3CqFe\n",
       "WxDRJBWTRlYsMu4NlpBh85gkNiJmOoqycMJU9pSVYfv3d2L47iyHpiJQ6ck0//jG3lbFRiTytiBC\n",
       "MAEJjd9pWdU/fDX25fGLvc0SMWY2OvqmuG2xHB8EdqzOR3jVfC2fOR4/soJ0yj0fQkIjq7qOf46W\n",
       "lR9yPmqWr6DjHRMsmr/I+jPOigot99h72VE2CKxhKMW3GpqeYBbPYQvBynjM9sJp8uXIauEkYkl5\n",
       "vtDfwSa1fJDfu5DQd1lr7Ov3FOWiwOq6p08hxoK+pVLtQh9EQTBTX5tktXALIVb28SwRD9j0+60+\n",
       "uNGKIvY58xkTaGPUPINBSQq2+3/Dpd8lgfdz1WrhONpMSP1uT+dy5e/DOIL9mUwmv6WForQKtPH5\n",
       "1fw474Kb1AQXCsuSIJhpPSyR1Q40eVpng6sREeeDpyQVqzub8YlfBBaofnw6sc72EC257heSaf3q\n",
       "heWpvF9YSEezUVzR0czWpwCPoHTrtc2Pb5JVyojSZtmJuZwkuO6w045/AyWVF/y4QGvYXvY8Q9rE\n",
       "/WIW6tnK+v+hT/M8b3yhyxmcl4U1nTcajZCByoJcpQgzrAfYC0ZZ/Uj6JYESDtHlo4ImC6K5hrDj\n",
       "PBaZPMpHSSeKhzc9ZGx328DCeaJ0tknBQ4DTNOgW/4VAcapZusY/Ps7/BWi0CJLJujIjAAAAAElF\n",
       "TkSuQmCC\n",
       "\" style=\"display:inline;vertical-align:middle;\" /></a><br>"
      ],
      "text/plain": [
       "multNegLeft: forall_{x, y in Complexes} (((-x) * y) = (-(x * y)))"
      ]
     },
     "execution_count": 23,
     "metadata": {},
     "output_type": "execute_result"
    }
   ],
   "source": [
    "multNegLeft = Forall((x, y), Equals(Mult(Neg(x), y), Neg(Mult(x, y))), domain=Complexes)"
   ]
  },
  {
   "cell_type": "code",
   "execution_count": 24,
   "metadata": {},
   "outputs": [
    {
     "data": {
      "text/html": [
       "<strong id=\"multNegRight\"><a class=\"ProveItLink\" href=\"_proofs_/multNegRight.ipynb\">multNegRight</a>:</strong> <a class=\"ProveItLink\" href=\"__pv_it/11adfb682eef59a149cf4b417d2885dc6e22288c0/expr.ipynb\"><img src=\"data:image/png;base64,iVBORw0KGgoAAAANSUhEUgAAAR0AAAAWBAMAAAAP9FU/AAAAMFBMVEX///8QEBC6urrMzMxUVFRm\n",
       "ZmZERETc3NwyMjKqqqp2dnaIiIiYmJgiIiLu7u4AAAAU9Wx4AAAAAXRSTlMAQObYZgAAA1dJREFU\n",
       "SMfNll9IFEEcx7/3X+/W9VAoIogrg6QQDSIoCMWgoBCkPxBKZCEnlQ/7IGlJeQRBSIlQQdCD9yIR\n",
       "UlykQgm59BQGcfTQgxScEBIaIgX1UEkz+5u72dnbXeypvvC52xvn+/O3M/ObGeA/U2EdfYI5QtUu\n",
       "9aeWItzMnibSKxt53vDGP589AkWhFkfDcYGL2dtkKdIkecQbRvzzGXHrUuEc2QqBi9nbRMpILrGv\n",
       "WJdvOokcoWrG2aBliXKzj4k0J+EZR0Z98wkUCFVbnA16kig3+5hICxLtYX//Vf/pqheoyzRT1u+8\n",
       "oMzsZ7IUHZV8T6fn/fPpEFyZvDxVGv2IbWaWOhBbA8ZBlJmhmOxh9PEshgqIt6PEQaDHP59bhJ7V\n",
       "PgTypZVpyg7ZRiRWgfsgELlpqaVoht2khIkHVzELVGYk26G7jeKX4bZO8VhDxNk/rWQViRVrXcit\n",
       "JjR6GlFWEltBKKpRFlPKEWZfJI80m8ekpAoJ07Ewp06aob2F0LD4/ZXQEbbqUP/NP6tZ6IGPXO90\n",
       "bEY1m4FmEIqYMXbb6pcikxKmEMjhJ3ujVUnCrHLUzvSOlYI2COxU82GvZ027vqGYT1GVa2hu8s5H\n",
       "ikz2MGOF0Dc1Hz3Dd9CJ1kkWMTjN6lNjiwp1d9h7iSibBBhqksdLwLZHRDJ4Ctt8Razx+NhVNEM1\n",
       "2cOcQiKpzhd6WtmkFg7xvsvVxm7aY1++lVF6Cc2YRaIUKGqb5Ip2dLOv1wJFvUpdm84wNxBly17L\n",
       "SHCPLfYg1cG1BkxjvzMfUcdj5lkMlhp5aZbGpyX4Cx71rjRwkxrmBBpNKPUupvOH9ecjOIoD6XQ6\n",
       "t61ORmkgFl8sTchBCeZtBXBxituvCxQ1KPth3hlmceaMwQY4JYHGBy+UDFF11uITfwgvy/UTMAhV\n",
       "G5UXz3ueF4anifRYPS9IzfFMHAMGatn+FOYRQh1G6fBzPyjn5GMbFtjii+eI8lPW1WQpnNf5gp+w\n",
       "QcP2vPMJmk3cnc5AP2edAe+7U+u9b8zjAvv8LPib+0ZVNpqFtSEXscuMGWH+kmz9KO19AkUxebV6\n",
       "MMVTPyxwqM/DRDvXzDE+SobEfnkzotl6twMsliNUDTouOk2Em9nTRHpmwz7VLN3sP77O/wE2zQbB\n",
       "tbZwDQAAAABJRU5ErkJggg==\n",
       "\" style=\"display:inline;vertical-align:middle;\" /></a><br>"
      ],
      "text/plain": [
       "multNegRight: forall_{x, y in Complexes} ((x * (-y)) = (-(x * y)))"
      ]
     },
     "execution_count": 24,
     "metadata": {},
     "output_type": "execute_result"
    }
   ],
   "source": [
    "multNegRight = Forall((x, y), Equals(Mult(x, Neg(y)), Neg(Mult(x, y))), domain=Complexes)"
   ]
  },
  {
   "cell_type": "code",
   "execution_count": 25,
   "metadata": {},
   "outputs": [
    {
     "data": {
      "text/html": [
       "<strong id=\"multNegLeftDouble\"><a class=\"ProveItLink\" href=\"_proofs_/multNegLeftDouble.ipynb\">multNegLeftDouble</a>:</strong> <a class=\"ProveItLink\" href=\"__pv_it/3f7412ebbf8d5f6d9eddea099423630ff4e3bbaa0/expr.ipynb\"><img src=\"data:image/png;base64,iVBORw0KGgoAAAANSUhEUgAAAR0AAAAWBAMAAAAP9FU/AAAAMFBMVEX///8QEBC6urrMzMxUVFRm\n",
       "ZmZERETc3NwyMjKqqqp2dnaIiIiYmJgiIiLu7u4AAAAU9Wx4AAAAAXRSTlMAQObYZgAAA0dJREFU\n",
       "SMfNll9IFEEcx393e3+8u/U8FILo5cygCMQLIiiIE4OEQpAsCCWykBPLh32IrKRchCCk5KCCoAf3\n",
       "5YiQ4iJPKCGPnqQg7qkHSVghQjREDPKhkmbmN97c7cyu9VRf+N7tfm5+c7+dmd/MAvxnsv+gjT+P\n",
       "9iIAehJkIEGQA5necpfozXvvfA5yexGiLhXoUncnKZhCP6U34975jEtNxlVBNSpQo+5Olom+Sr7C\n",
       "vZ7pxPJoL8Lmx1IACSoCmd6ha8gCCmY98/HZaC9CFU8ogAQVgUyLaP3J0NBN7+nax+1FmAZUYEDV\n",
       "nUKhLPp7JjPvnU83tzu5MXW9QGYhVwbL3RDeRJBTdccDcBRzFozYEO0E5mMA/d753OV2JXFL/+Qj\n",
       "hfqoTKwWiK0hYDB4h6mVB28FMEX9azALEDHReyBuKpL4OtbRwy/ruYUcJEr+PEJqtZHerBJr2XMQ\n",
       "6kXQ6Oy5XgSwxoeDJciQXSmBroVY0bEMC2eK2iFbG+P36+jwvQWqpEziEGAVmqbBv+gH7IK6PIK0\n",
       "M591+jsGsMa2Lw8/yDOsoWPFWseCn967auvDAPur86nuspr48uV8dtCryCakU+75bAVg4wlb+yby\n",
       "iZt0v5xsmyLx/mlSjTpZVNB0nzw+72Ant5BERlL04BFTEzThBVTMV5AN5ELvVjAPQJ2FWELMF/S3\n",
       "kQm1j/tIra3UGQdwR33zQfzZILcr0Y1ZiJHu58TO3Al9gGDOOT6DIgB1G0JkoesmGh6She7HcrnV\n",
       "DNNwxJmPXLUOMlG8AMNVKNjq/wku9Z4TAajT0FKEcr3zqdxgP52Ak3A0k8nkdzeJDpq5XcmX18uT\n",
       "tCZGRUlcLmxwMOrMp1kE8PCZ8wYZ0iQadDpwWkLDWmyAz/QisCLWj89AVyxfiUjnRbTkel5IgfBM\n",
       "nBeodNSMwjUDGsjeFKDttW4DZlyPRfVBGRUHZQcsZhFEtz12A6U4XeKT3Dhkr3qeQ7oID6ZNiF9k\n",
       "O/7HvuRfvm8sict5uMTB0rbvG7VWyAK2KTs35mLYCNBHIuunil/h9iJE7eLycSHJQbucjyMwMnOK\n",
       "jpKBrpBmhCzl4RvOo70I2VhTIAMJghzI9JK7cmJJqtY/fp3/DcF0BEs2UtMEAAAAAElFTkSuQmCC\n",
       "\" style=\"display:inline;vertical-align:middle;\" /></a><br>"
      ],
      "text/plain": [
       "multNegLeftDouble: forall_{x, y in Complexes} ((-((-x) * y)) = (x * y))"
      ]
     },
     "execution_count": 25,
     "metadata": {},
     "output_type": "execute_result"
    }
   ],
   "source": [
    "multNegLeftDouble = Forall((x, y), Equals(Neg(Mult(Neg(x), y)), Mult(x, y)), domain=Complexes)"
   ]
  },
  {
   "cell_type": "code",
   "execution_count": 26,
   "metadata": {},
   "outputs": [
    {
     "data": {
      "text/html": [
       "<strong id=\"multNegRightDouble\"><a class=\"ProveItLink\" href=\"_proofs_/multNegRightDouble.ipynb\">multNegRightDouble</a>:</strong> <a class=\"ProveItLink\" href=\"__pv_it/45c4c2228e90eed13f81cbe7252c2ab4056f8fbe0/expr.ipynb\"><img src=\"data:image/png;base64,iVBORw0KGgoAAAANSUhEUgAAAR0AAAAWBAMAAAAP9FU/AAAAMFBMVEX///8QEBC6urrMzMxUVFRm\n",
       "ZmZERETc3NwyMjKqqqp2dnaIiIiYmJgiIiLu7u4AAAAU9Wx4AAAAAXRSTlMAQObYZgAAAylJREFU\n",
       "SMfNlk1oE0EUx//J5qNNtttgQRAv0QqKUBpBBAVJqaCgFIofIC1ilZLix2EPYqtFuwiCFC0FFQQP\n",
       "3UsRKUrENqAFu3gSBQkePBQLW5AirZSioAe1ODszzexskol40Qe/JPPfN5u3M++9WeA/M/cPfMJ5\n",
       "hqxAJehpAWr4UnvJKXqDN+p4dnJkRS0c8VHL17NohvHQG4yo4xkpcxmp5CJZnY9avtQsxkXyFe9R\n",
       "hpPMM2QFSgG6LajlS+01o44kUHRUGU/IZcgKlAKMlKCWL7V5hv6gv/+Keru2cWRFLQBnfNTy9Sw2\n",
       "yviWy82q4+niyMrlyUtTeb+wZotdiK8C4xAoJxvjNoZcJDpB2Qf0qeO5yZEUw9Y/hIp+lzWzW5Fc\n",
       "Ae5BgOgNam2VJifCK5gB6i3GFhhWhSA+D3d085/rOMLIKEH+tJ7UJ5YhX9ZGTyBGCmQTBMrJu6NF\n",
       "5EhXSjEakHQCqTh1zNF2udowH39hxG/NeZZmIwMRWpXGrzWXAXr5nYGNaCR7kYVAsuBkN5THD/Ic\n",
       "K4yk0xBI+MLWZVcfBLbL8ci3JHVCE8BYj8Dl+lVkM+p45MljrvZVxGNYXr+caJ8k9wgXSDXqJKnQ\n",
       "fJssCL/BBo4wOhrKiMPGfzlq4QkC+xWlazfXU3HycSRTYr/Q10421N0fIrW21GjuYB31xVvxB+c5\n",
       "kqKbM0i6fpdSZ+5EL/l65UM9+TpiJNF1i4G7JNHDrEKutqCAPcF4yquWjMacUxiUXErr0xb+CUW9\n",
       "l00+ilYHpXrnW/mdXjqIQ9iby+Xym5vFDVo4krLwfHHCkVxK5XBuyrvZNR/qyQvTJ02yrGkGdG/h\n",
       "tJTGarEJH70fkSWRPyGT4Wv5ZvAMkIREUXlemGXN5ZE4L5hlE1YCAyaaSG+KeP5al4npwNEoH5ao\n",
       "JnRgnqRiIi+o7ksfvWh4KT7BYUv2rPsxsg7uFCwYp2nXf9+b/rv3jVmcJZ+ffKjfNxrsmA3alION\n",
       "2YmbEe+RSP5I+gWOrFQT7k95D3LAR3Vf2q+mD3urZDJ8ppkxu+LhG88zZAUqIZkRoIYvtacc/8aS\n",
       "UO1//Dr/G5jlBOHTT+WEAAAAAElFTkSuQmCC\n",
       "\" style=\"display:inline;vertical-align:middle;\" /></a><br>"
      ],
      "text/plain": [
       "multNegRightDouble: forall_{x, y in Complexes} ((-(x * (-y))) = (x * y))"
      ]
     },
     "execution_count": 26,
     "metadata": {},
     "output_type": "execute_result"
    }
   ],
   "source": [
    "multNegRightDouble = Forall((x, y), Equals(Neg(Mult(x, Neg(y))), Mult(x, y)), domain=Complexes)"
   ]
  },
  {
   "cell_type": "code",
   "execution_count": 27,
   "metadata": {},
   "outputs": [
    {
     "data": {
      "text/html": [
       "<strong id=\"multNegAny\"><a class=\"ProveItLink\" href=\"_proofs_/multNegAny.ipynb\">multNegAny</a>:</strong> <a class=\"ProveItLink\" href=\"__pv_it/f40b3c5e512ea52a0af31ce890c86796023f33310/expr.ipynb\"><img src=\"data:image/png;base64,iVBORw0KGgoAAAANSUhEUgAAA2AAAAAXBAMAAACfczFzAAAAMFBMVEX///8QEBC6urrMzMxUVFRm\n",
       "ZmZERETc3NwyMjKqqqp2dnaIiIiYmJgiIiLu7u4AAAAU9Wx4AAAAAXRSTlMAQObYZgAAB5JJREFU\n",
       "aN7tWX1sFEUUf3fXcte767YVUyQxXhENREJaEsQEo70oARNC2qhFU0QK0RKjkfuDCLFAG/xCQmgN\n",
       "wfhPpWlQMcZwRiEYghTRSupXKdI/jKbbaNRIOQq0QJGyzufOzu5cd3qXSEx4ybubuX3z29/Mm3nv\n",
       "7R7ATfl/ialjdOQVc9LAwTRVJKExzTFKQwbilC9lg5XWramvNODvHji/JJ5UIFCZo+pVt+VBfUIK\n",
       "unbxCqEn+qAX//atz/BOPTNJ5jNFUnxVc4zScL6jHa8ZWbR4KxRWOf01sCM1VP6PP/rcK98Yx9ZR\n",
       "90sIbMmTqt5ARx7UGV01BV2q8JhDO+FD/NNOX4dpmUmyUwzYP6I5Rmko3TXQALCqAlqcg/Derrzo\n",
       "Cx610GEJWsxTLZ7rEVPRi1rJPKhzumoKulQjDu2El9BnuMHXYVpmTomlqeLNao1rhhWVYUzaj9Wo\n",
       "V52EHufk8IJEhv2X9AL+bGW9Hs/1w6petdWbO3WbrpqCLtV4h9BOspMK23wdpmUm7S2TKl7M/Zbe\n",
       "GKVhQNr4R1MAP3bAoPhlzygJcb6bqciqxV/LWXfQY3CHqrfdGs6duk1XTUGXqlEqtBPiH2zYsBl8\n",
       "HaZl5pTZTHHJErD0ahal4WyptxrpSROmiL2TuEzOoe9mClgp/PU5605xDwi2KHqx3sT13KnbdNUU\n",
       "dKnCc0I7AS41Nv7s7zAtM6fUM0WR9GLEqtAZojasl3ooU2x8EcXBWrEbNQP1nktymqh1XS/sUPSa\n",
       "q1ov5E7dpqumoEsV3hOKPPEwwFoNh+mYOWUHU7SXawutLp0hasMdUqoYOXzgF+wm+zgU6GED1FyT\n",
       "ww5BeHIblldJUJNwWO9ZWHUtd+o2XTUFXarwjlDkibvAaNFwmG1WSWPJ26N1i2kV013W31TrGXIL\n",
       "U4BjEMMxOURPQsaLbrCYwQyFZMAG4RUIin9nURIPlvLrEbvmWiCBeW7QKteRFMEZhyq8vXgpHB2d\n",
       "EDqThTq15XSZnU3BZy1cVGGGUOSJYoip92jotUfhk6e5w2yzBA0WaC4xMucZt5vBBEMY2r5sBRt9\n",
       "gSkYY6hAbYDQ46TcMhTF1DlaiDFDB/lxDrTxVyx9aCejW8bQ/gsN8+vFNHfMgnuXOcG8NxggySiY\n",
       "4rNzFxMlFY77kB4a2AaVKDxlh2bT8VBntpwus+MU/NbCRRWqhSJPxLqKFTvnTN1T0B01oyZ3GDcr\n",
       "TFBihUkI4nRfNG6SYsg4UNcVWmCGtrsdVnC+LIFr4yJKstx7r0GKyA3FapRzILGqaLvGr3KHlZMT\n",
       "Ri5MA2h3gnlv0Eo8FJjQYe5eTVkZKdezQrPpeKgzW06X2dkUfNbCRdXlMKNlvuLhZ82WDHyXrhUO\n",
       "42Zz99BYUpyGQnzbc/j4zgM4OCtjxpsA7mEI05nCWw9m/sS1cZHfAw03dMl06bkGHeWCMWdAi5GQ\n",
       "GE3yVc0qR0mc2SuHxJXkSPWT9ZHKRtIrmprJNFvgC52Nuk3XTcFnLVxUXSER1j6EtsGKOXtjB/HU\n",
       "cQvga2x3fFeTcBgxQ9LXTOvcc1VwAm+BVTiz/QZxHMFn7kL1ErvJC0wNvOADl2WSJv8wHJuVGQoq\n",
       "Akh6rmlGd4zbadcgJ/6Qa1VtbBE8BnHpFWthE3Qg8Lqhy9MbbMMhNyVBG5OgbtN1UfCshQESoIsq\n",
       "nBCKPbEbjR6q7CpOkpeNuFVFX9wcjw4tFA7b3Uur4RIaoyoPf0bq1UTafn0CX/zgLUXX4/VcNyaR\n",
       "JMGbfDjSAjcUVASQ87kmdJspFeWbr7wb/r5WdpiN7UgT4YE3zU2n+QS9Zb38A+6FF2PP4bdE7XKS\n",
       "0aVu03VR8KwFwRKALqqush4CaMm3HIKSKkIZt1IhUlgch469wmEB4pl5ZoS+Zt2HSiN8kTx+mLDQ\n",
       "7bC5VEssVBTUWNZFiWQ5/xBpwTYUVAQQl+XWokXb8N6POBJOd2L8CXA5jGM700R8tXU6xSYoI9AY\n",
       "2evuWdZ19NRgoZjbLicZXeo2XRcFz1oQLEeKlKnCVqHYE3G87ktRHoqQKL4UhcpQf2Pj88hhm84K\n",
       "hxEzOFmWGGFPKLiGQrPCW6AUHmhsbEzfOdORBFLOtAkaOYyLoAJy7nXmZsVv7dr4M5QI07L32nOj\n",
       "nv3dU+9kqMqvpphMhYPQHKStuqCRpCcseL9wGI0USYjTKIOCXCX2VQ3Oq2n4nRRLZ0QO428rJ+8w\n",
       "QcUG8shHeTgMT1CF0JO9154b9bwdRqlG00K5J8LDyJvdUdiYQq2pM2EJdRj0uBw2z4SQBeE3IHwd\n",
       "wqdxY3AMQui0FeBzEKpPiXfeO13/jOiS5FTUf6+wONKSu8PoBA3Nv1cmCy1Tz9NhlCr8BUK5J4IN\n",
       "cAoWfIDqUNSq74I/UIQPvl4BBSA5rNhKwjFreuga7Bute6QNUMP4+PxP6KQZa/D1v/ufsVPDeqb8\n",
       "5vtG01osORVwArmkQBEmX25doYuPJqhACCez9SYBLVPP5gjNtaBUyenh2um24SnyfZTDHO+iT8lW\n",
       "cU8DoiiHyazSVPMWBcineYOqEJom6N1AiVUJPdLnfh2V0sK4z9O4KTdG4npmXZ7GTfmP5F9/pit1\n",
       "Rjd1eAAAAABJRU5ErkJggg==\n",
       "\" style=\"display:inline;vertical-align:middle;\" /></a><br>"
      ],
      "text/plain": [
       "multNegAny: forall_{m, n in Naturals} [forall_{A, B, C in Complexes} ((A_1 *  ...  * A_m * (-B) * C_1 *  ...  * C_n) = (-(A_1 *  ...  * A_m * B * C_1 *  ...  * C_n)))]"
      ]
     },
     "execution_count": 27,
     "metadata": {},
     "output_type": "execute_result"
    }
   ],
   "source": [
    "multNegAny = Forall((m, n), Forall((AA, B, CC), Equals(Mult(iterA1m, Neg(B), iterC1n), \n",
    "                                                       Neg(Mult(iterA1m, B, iterC1n))), domain=Complexes),\n",
    "                     domain=Naturals)"
   ]
  },
  {
   "cell_type": "code",
   "execution_count": 28,
   "metadata": {},
   "outputs": [
    {
     "data": {
      "text/html": [
       "<strong id=\"multNegAnyDouble\"><a class=\"ProveItLink\" href=\"_proofs_/multNegAnyDouble.ipynb\">multNegAnyDouble</a>:</strong> <a class=\"ProveItLink\" href=\"__pv_it/c02f8465971e02a12936a77e60815911b2fed62d0/expr.ipynb\"><img src=\"data:image/png;base64,iVBORw0KGgoAAAANSUhEUgAAA2AAAAAXBAMAAACfczFzAAAAMFBMVEX///8QEBC6urrMzMxUVFRm\n",
       "ZmZERETc3NwyMjKqqqp2dnaIiIiYmJgiIiLu7u4AAAAU9Wx4AAAAAXRSTlMAQObYZgAACANJREFU\n",
       "aN7tWWtsFFUUPt3pstt9tRVTJDHuKipGQrokCAlGu9EGSAhpoxYNiBTU4iuyP4gQC3SDikCQriEY\n",
       "/yCbBgVjDKsIQRtkeUrwVZ4/jKbTaNQIlNIHUAXG+5qZe+excynER8JJTjtz9+53zznfveecmQW4\n",
       "If8vUWUm7XpNvWpgX56qOIJEGZREqMm6wFpkrzhhtnZzer8E/F2d56ZEUgbCXocpY4oY4iCSnnEL\n",
       "y86LJKgeOgod+P5rj6+2yU0TZDxTcQRJ9E9JhM6cC6wu+7Xa2ucS4E/yfHWuSZ+u+ssbfezFr2J7\n",
       "FlD6MYKAwghIFTHEQRw9i9T1105e7rKwrIHwKNM2+BDfrvUkTGqaIGttX2B3W/vlAEJaygXWkCoU\n",
       "516ADDe0Fe/y6j4JdHRsfBpjKQMiCpWgWsQQB3H2rKQRYE7CZWFZA4NM2+AV9DfQ6EmY1DRewnmq\n",
       "4gjettplyYyodTjDmicAHSQFBekw7yYOTbDHO7i9+G8ruzsMAgqT9iKGOGVEZ89qkMk1KZeFZQ2M\n",
       "5Ki2kV3kz3oSJjVN2FcqVXEEB3OrJoewWutxhjXZu4C8QGmoyxzaOEBSnOfWKtPq8b8Z7LYLBBQm\n",
       "txUxxEFcPNudBvg+57KwrIGxCqptENm8aNFS8CRMahov9zAVR3ADU6JJdTDhjvgVZ1hDhiEPoiiq\n",
       "w8ydFL9Avuu5tUq0NP73uY6UFVBYOcwUMcSpNXP2bC7SI6rLwrIGwvNU2wDONzX94E2Y1DReZjIV\n",
       "R1Be7QtqCRmAlmRrrzOsIeUpCKxAoQjVm/tSMm1vPC8WjHoehYk/V8QQu7h5hnL24pfdFpY1EN6n\n",
       "iph4GGC+BGEy03hZw1QcQfu43q8VZACehTmXnGHN6jCtfTbGKjP6hVI5bIA6ERsjUJQnVmJ5naS4\n",
       "QhFD7OLimdLfvv1H14VlDYR3qSIm7oRYRoIwY1o1zRzvDDRMph3MwcqTzfW2r9zEVBwB2ANhnJ0V\n",
       "ehK67WvFaPaIVMDuAeGDbrBCouoQO45zV4X+edDovibwYHacVrGPxAgUhc9KCd4QD0DDM6snuNCe\n",
       "SRn3xsIeEbAYCLdTRUxEIey8K5U3HoFPntIJM6bFc3pAw8TD229VfXGGcHr19Fns271UA2/9hCXB\n",
       "RiA2iFrVRlAeI41XzKGtOktbsrNZqBayAp0rQOLqsBstrfTon0dpFRkN903nwew4naQs+dK6rz0M\n",
       "Rci4Cc4QL0DdM5snuNCGLxn3+sJeEbAYCDVUERPhQtRh15xqeBIOhtSQqhOmT/PHqVH+FPhwgS+7\n",
       "rNKtvr2hoExQldUiYZyQu9JzlXHcJZdRc6vsK3dR/LrKSrFLpnN7LdWB9F+UsCpywsgHIwA28GB2\n",
       "nFbCTokEYbohHoCGZ1ZPUKElrSy7Nxb2iIDFQI6wWGa8Q4s2b1k3fJOvNwnTp43dSDNHNA9+vORZ\n",
       "fHTHAewY3a1GmgHuZQgjmZpC7t5+sPs33CWXeTzalA3v7m5x6JJ5SAXv27osn8zCJCWGUnp8XWU3\n",
       "yTib7ClxNjm+J0m0srwhHoCGZ7bHMJQCSgftC3tEwGIglxJh/kNoC8wasym8AzuLrwAO4Dn71jWb\n",
       "hJFpSI620B73bBIOYfrn4Mr2M0Rw9h61DiUstsBLTE3BdzEc8M4Lorl4jRjof9guy+L8loYDn36R\n",
       "an9aBOEfwwIXsc1GEY6R879TjK+JbaaSLpxuwxnmLkGIWEv5sAJniA1QFQF1z8xIco9hLRnbwl4R\n",
       "sBgIh6hiJtajb56uLkRT5EUjvkrS1zT7QqcnmYSt76D9bznNStXtn5FeNZ43Xp3Al9/Z2lBLY7oQ\n",
       "x3PBoGAuSeMkb5sFIjAZB0zLxvZeguOwXwThH8PGrQWhIV968b3At/UiYQY2VzACnavUJSd0d53b\n",
       "ejygG2IDJFgcoO6ZGUnzMUy5RbUt7BkB0UCurYcSFPJlO6E8SSzGV2mFNBb7ILfJJKyEMDNODdIX\n",
       "q1tQW4Q/JI8eKkyyEjaWqTBSrqGmoE7T+gRzq/S8bRYITbuCWnRNm3gqA308Sxykf0F/7VTS5ge5\n",
       "x5+D8cuPg0iYgc0XjMhc7USauUsRgtaHKF+HaUjSCkiwTEDDMzOSVGZotbUr+a6OLewVAYuBsJwq\n",
       "ZiKC4z4N1aEgadinoVSpnGxqehERtuSMSRiZBkcq4/3s6QT3T8gjTH8FPNDU1JS/YxTXE6f5kikW\n",
       "UPCuYcaDVV6pgFUuIMC9WLLKBjl84q7bq6kRQwPUI+lRpTuuxkDz1RST4bADWnz0qsEXS9ET5rvf\n",
       "JIxmiRREaBpAaa0ac1WHa2oefiHRPWXWMP1tJbe1ckMwtyQZbgz0JJxBdPnoGgjD7lIEO8rhoQHq\n",
       "kbw+hFEDQ3mqOhOBHsTkwRAsTqOr4aNgCiUMDlsIG6eCokHgTQhcgcAJfNE1CAo6baV45ysz0/ob\n",
       "7iI/r1yVuS1oN0Qacy4/r7CMkhk6YdRdjBBz/XnlagFJJK8XYdRA+B2o6kz4GuEYTNiMelB0NbMA\n",
       "v6I97VuRgFIQCItqKdijjUT99JaBhqlZ3FjHPj53HJ202Dz8+R8nnzEOw0KmpnB3gS0DeSl774Zo\n",
       "Unkh7QhipE2HNPlq6ywpfOouRnBACaSGBEgi6UmEZASogeQETeGPji56efwA1TDuPfQxcVbEdgEh\n",
       "VMNEi/JUxZFrFgeQbdcMus0FpRn+IxJOUt111Po6Ki31/Ym2ixvy70hEblrBdnFD/iH5G/iLLzXx\n",
       "muYJAAAAAElFTkSuQmCC\n",
       "\" style=\"display:inline;vertical-align:middle;\" /></a><br>"
      ],
      "text/plain": [
       "multNegAnyDouble: forall_{m, n in Naturals} [forall_{A, B, C in Complexes} ((-(A_1 *  ...  * A_m * (-B) * C_1 *  ...  * C_n)) = (A_1 *  ...  * A_m * B * C_1 *  ...  * C_n))]"
      ]
     },
     "execution_count": 28,
     "metadata": {},
     "output_type": "execute_result"
    }
   ],
   "source": [
    "multNegAnyDouble = Forall((m, n), Forall((AA, B, CC), Equals(Neg(Mult(iterA1m, Neg(B), iterC1n)), \n",
    "                                                       Mult(iterA1m, B, iterC1n)), domain=Complexes),\n",
    "                     domain=Naturals)"
   ]
  },
  {
   "cell_type": "code",
   "execution_count": 29,
   "metadata": {},
   "outputs": [
    {
     "data": {
      "text/html": [
       "<strong id=\"distributeThroughSum\"><a class=\"ProveItLink\" href=\"_proofs_/distributeThroughSum.ipynb\">distributeThroughSum</a>:</strong> <a class=\"ProveItLink\" href=\"__pv_it/25a5a6db87c8ba3dd15e0d0a928a5057c19238080/expr.ipynb\"><img src=\"data:image/png;base64,iVBORw0KGgoAAAANSUhEUgAABYYAAAAaBAMAAADxpJXYAAAAMFBMVEX///8QEBC6urrMzMxUVFRm\n",
       "ZmZERETc3NwyMjKqqqp2dnaIiIiYmJgiIiLu7u4AAAAU9Wx4AAAAAXRSTlMAQObYZgAAC4xJREFU\n",
       "eNrtXH1sFMcVf/dh3/nuvMYhIomqYAMhSUuRr02CaCuVU1AbtVHia5u0BUow/TBqIfX9YUEVkvhU\n",
       "tZWDSHxVGqmSm8aqIBS1FddGRWkh5YBAIrcNrhqoGtXxIVWAAhgfEL5is503s7M7u7N7N3tn0/xx\n",
       "I+2xH2/evI/fvHnzdg2Aent8NAP1Vm8fqhYcfccP+UjdYvX24Wu9UPSDYW2mJ1We/Cxi58tyan1C\n",
       "V12Y9Oik3Zz0M7ajS6Ld9nThWOmBRKoyF4HugMvjRf71kwg9dJsmCct5xsXYql5pRKFLy904r9Zv\n",
       "zryuIIFAd0A4CIZpcP2rIoabqXfzM4bhe1F7ww9jQ2p9mq+5MNEG5o6f7LngZ2xnl6+IDxdfeUPb\n",
       "31NZcZGuQZ5CqJtf/SRCd92mScJynnEztrJXTpXGxzfq8oDBsa2ZM3M+qAxhkQ4F5wfB8E6895wi\n",
       "hmMYEqLFGcPwcxb7mJ5S67ProgsT0LsA+t73NbijS1R4FNOJ4kG9osvtdFnpOermVz+Z0E236ZKw\n",
       "nGfcjK3slZZLABE9LRNiwO6oHG3sdFnh6IWN5DfSpYhhSrhxxiAcx/Cwx1hBdbX0O6RPuTAJ6eS3\n",
       "T7Cj5rUdPWkxsndJCOFv13n8HahsaBvdsPR8j3/9ZEJJt9ol9LQOfxDPuxtb2Suw7APEcEqeU5iz\n",
       "RScqzz0b3bBw9NKw0JBTxDCdjitmDMMBDFFz2fkWfUKpT3SX7sIkjpHmyKR1t8lrlR00se/oos2y\n",
       "OrP48dVKsjjojksEc/3rJxNKutUuoad1+INA0d3Yyl6BfSSEJvSCk/Alup40VAyiDrrjwtELiR2b\n",
       "Nj2lXJcY3rRp08yVJ+7GvIetb/GRtutKfV4L6EWJCdlCYCKZ9YNhqct3rWmh03D0p4pz0E7X6AwN\n",
       "qJtf/WRCSdDaJayI4bs9jK3sFeghM7H5ikTYdpkqWTGIOuhQcH70Alzq7n5HGcMt3d2PD80Yhlfi\n",
       "VGPs+5ID51W6RC5E9XaJCbQQay29CH4wLHXZbgWBS2ryO+hizuwPdfOpnwuhJGjtElbE8EoPYyt7\n",
       "BfQshAZS8rqglsY66VBwfhAMLwdYp4zhcBIafb3oWFrwQbwVVyHW4TuwZlKlS2O6wbFAbaXZV6n/\n",
       "2VLOF4alLj83zzon1eR30DXRWPn1fmw/AkM3n/q5EEqC1iqhAoa3ehhb2Ssh/db+sdskwrAaP4kO\n",
       "BecHwfAdoGVB6ywqYTiYglM4z8rsf5vs2vip0d6Eqx2dv4lZsA8zoCUsNXURbpz9s5+kh2lDfEaG\n",
       "TOAI2cWeIPEq1KWMYd7FbPPMYQb4dthgN+6y+SmKdEbqMMu5krf71s8g/O91655DNzcJ3RiWk7Ai\n",
       "hm8SjF3GCt5eSeg50HqyTtqoWUkpb4moo+KCgvODYLgZ4gTji702mD/+Mvz+MRPD5NhLfp+gfFgZ\n",
       "O9ZWap1iqibW3r7ujyFbrhHwE7Rx0WyhPj6Xgw6y7N33EL1/Tk7BNbbv1a5CEJeZxRYZXXk7r2MF\n",
       "aSj0yIgyho0uQrwzhxmjCApmDHaay+acjs3puO2cuzbUzZ9+nDA4Yt2z6+YqoQvDshJWxPB5wdhl\n",
       "rODtlTDmxx3XnLTNLG2+q5IlTDpBcH4QDMcLzUUx+RPa6Ue/AYdjxVjRwvBeeJf80okYMCQ6koYo\n",
       "XaKCrW/BvEn4FR/8zW1H81Yhjl4eGnz941Zd48yWh1YlVuxNyRjubG2l1ZkX2S5UTpq0OWyNKbW2\n",
       "Ye1pu0VGzd2Ga4aegiZqk4b+/mdv7e+XC7Jknf+Hsc6bXewYpsMMUFcHMgY7Y2xbo2ObdBUxrKof\n",
       "J6SJq3HPrpurhC4MvSX0tI7w4LxobG8reHslgNp2XHTSRln54pZKlrDoXDGsZe81Ex7HlvibT4/D\n",
       "3/JpEcOn8DUTm51fMvYHawoQo5WPlwi845dpsoHov+f7sHTIqpHSy8GuQPtCU5AlxdCWpt1gLrmY\n",
       "LwUw02uaPT7ep5s+9m4//ez4Saw9CeIjE1pMj+l5w9wqcdjsYs8lzLoQwDaw2Lk3k05cqVePYjsG\n",
       "hm7+9OOEUSsdlHWrVUKFOHybaOymEf9eoe9kdkmv42idEGKpSpaw6FxzCVh3P/nB0kVi1aJt8d1J\n",
       "4wzgEFIffH6ziOHGXhJH6LYu+O8Suz2WgSimFRqOE5qF+z6K/jfyEBxC3h8lDJPsMpw8i28Gg8SR\n",
       "ByGxGeBjsDxiZkkbcAD01vEcLh8Zm2b0W40iPzHuoW3HLjPxBSaYfUHfFMgYLjq5cAzzLpYR3rRC\n",
       "GM7WeNbuvaIok52OmQ8SWedWp1BGPzeGJmGLtZGWdatdQm4dycb8wQbR2OIYql7BJD5CYvOhP/w5\n",
       "tedbFmkbBt5XQfa0XXCTDvsbgvMDMfzCCIUeWdo7Cs0p+jkIniXZm8iDsTOfFjDctJonuc13GSVA\n",
       "EibWYBrZgBsiLYnvdBD9wU8RIGTeLdBXKIeMy2Z4AUYK+J4kkYYFzxO9YCR+oChUs3DVjHyelkFz\n",
       "Ns0wVaK5kZAz9aJmPVeZ+AKTMHH7mbZ/yRimDGxcBs2dL+tiGcFKryJjzxSfPAo275lMhLyQ0zHz\n",
       "ybU1Xg1y1c+VISf8hLhFd+pWu4QcqpKN+YPtgrFtA6t6pfMyaPunMtqBSXgbhC98nrryy8jf0yB5\n",
       "2im4QYf9/ynX1iBA5IzjsE+/Ci1JqhaeZdjm7CAMbRMwDB/BghlTi5UAg6XutXSpCRgrRTBF0R8/\n",
       "g91WYQBZQQDLLk+QKLweP9bIEZj/5S20dFfit1xQ3APg7kXXrxNX6SSuv2jP52huZOVMLTqZRp26\n",
       "fiEupFGL6X1dL20AFwzPAQeXQZMV62IZ4YcWz8Ra/WjGgZA5okx2Omo+kgA4a6mom6d+bgxNwt0g\n",
       "6OzUrXYJOVQlG/MHiwVj2xcANa+g0PqcAkROZ+GCbfN1uG3qa2DHMGXlFJzRYX+M7ig4PxDDCQKu\n",
       "Rirrg2S+R3PsbB6EjnV3rycYfvKsiGHE3R2YzM6FAdopfs2Iwy3n2RIQylL0M9CyzcHnbJfYHkkb\n",
       "GLYVMTJi3g4K+SJfpPMOJmY+p16X4I0bQZvlkh4qvqN8kCbT8rvmW6rUD9aDojDVSVj5XXOmijEa\n",
       "XbiG8yQ6P+NCrGiJcJ7m8PZ3zYaM9+DvbNgNfUF29mhQS7E4HPyMiGFsP8NUgmyYKUEjgW4H7m9b\n",
       "LrA0g2AY0R+cb5b04v8h8We+rcL3Gkko5i9wCEg/sxmuQjMmvsBEMnfQy0uLnDe4EWL56hGC5gP4\n",
       "jXR/uEr9YHZymjFsl9DTOvyBu1F9eMW8l4x3RSbaq8ZwINmQbmeC84Nj+FwcfpCJTJDpeTjGzmYv\n",
       "gAcYhmHYieE72d72CL0RIPjdh8lDeJLObwh2MfQ/TPRn0/dQOCdeok3SXyAdTmM+LDbh20tfmhHx\n",
       "7Uz8mlvILA0j0PJKlQhh5tOy0gPh20tf+mkT+enFsKeEXq0ao9q8wusTJJImuoaqxnAfBD6ZpILz\n",
       "w8RweCcsKwS7SL68ZAc7W1mAEwTwwZ+0QxgcGD5LUwlYNkHgDn1ZaColyZnWloMlaTpnKfrv22F8\n",
       "skey4RXCJUU1bvRCKzP8S0S+G0DzCoXKJwZWqa0wOx1MuKt+/b7fD/a5EZgODs8rsmPmC8sv5VG3\n",
       "avSDL+bUhKlZQq9WjVFtXjHDX3My9D15XFVL3AkNZPuEgvNDFA0K0tnL3bY8zMRwcxHGLkKirZRb\n",
       "Voi2TY22PkYAXYD3xm7HPzZpaKfoB+133fdT8oX0g3vzEk2Ypn8n8d6xb9tXlQgaZzPU1iLT8ncm\n",
       "8WStHF5xubd5GvSbvvbKjTbqdArODxHDoYx8Zm8mhoVP5WTg0z+AcKC/3uptxpqA4YTLmQeGta5y\n",
       "wB+sm7Xe/j8YrtxGzf9f4hflgJ+qm7XeblgLjr5dXcdEmWQxVqwbtt5uZPsfFZFfpscSPA4AAAAA\n",
       "SUVORK5CYII=\n",
       "\" style=\"display:inline;vertical-align:middle;\" /></a><br>"
      ],
      "text/plain": [
       "distributeThroughSum: forall_{l, m, n in Naturals} [forall_{(A, B, C) in Complexes^{l} * Complexes^{m} * Complexes^{n}} ((A_1 *  ...  * A_l * (B_1 +  ...  + B_m) * C_1 *  ...  * C_n) = ((A_1 *  ...  * A_l * B_1 * C_1 *  ...  * C_n) +  ...  + (A_1 *  ...  * A_l * B_m * C_1 *  ...  * C_n)))]"
      ]
     },
     "execution_count": 29,
     "metadata": {},
     "output_type": "execute_result"
    }
   ],
   "source": [
    "distributeThroughSum =  Forall((l,m,n),Forall((AA, BB, CC),\n",
    "                  Equals(\n",
    "                        Mult(varIter(AA, one,l), Add(varIter(BB, one, m)), iterC1n),\n",
    "                        Add(Iter(i,Mult(varIter(AA, one,l), Indexed(BB, i), iterC1n), one, m))\n",
    "                        ),\n",
    "                  domains = [Exp(Complexes,l), Exp(Complexes,m), Exp(Complexes,n)]\n",
    "                  ), domain = Naturals)"
   ]
  },
  {
   "cell_type": "code",
   "execution_count": 30,
   "metadata": {},
   "outputs": [
    {
     "data": {
      "text/html": [
       "<strong id=\"distributeThroughSubtract\"><a class=\"ProveItLink\" href=\"_proofs_/distributeThroughSubtract.ipynb\">distributeThroughSubtract</a>:</strong> <a class=\"ProveItLink\" href=\"__pv_it/40c52f9aff605ce3e400e095acc3769d0be69c9b0/expr.ipynb\"><img src=\"data:image/png;base64,iVBORw0KGgoAAAANSUhEUgAABQkAAAAZBAMAAABgPrX6AAAAMFBMVEX///8QEBC6urrMzMxUVFRm\n",
       "ZmZERETc3NwyMjKqqqp2dnaIiIiYmJgiIiLu7u4AAAAU9Wx4AAAAAXRSTlMAQObYZgAACiVJREFU\n",
       "aN7tW31sHEcVf971fd+t7RoVqojYbQItVJGvog1pEfiUiFRQpTFpI9UxIUcpV9FQcn9EMWogPiGK\n",
       "QkTjQy0SUqm4PxJCCU2uhFhAQnNNcFuZj5wEBFFhfJFQGjWu64vzgVM7y5uZu92Zvd3buY9YRfKT\n",
       "nm9v9ObNb978ZubN7BlASp4cT8KiLMqNkBXjGUnL/GKwFuVGiS8GBUkWagsK7M6SovSm5aqos06O\n",
       "7OUk/2WbjvKBqHsrguHJ5iCXMGwWPiVbJVbSQeXFSxosrqkRWbjbVMJCusr90Z2FEVo5uzAkVGNM\n",
       "iUxIrteRaw6OHMTDj6k2vHTqrW0z7q0Ihp5oU5BLGDYL391VYiUdVFHOF6emdujR2pDBQ5wiC18k\n",
       "ZXvdWRgk89VfWBgWknZKbQX1mFydw5ccHDlJiv+ixwGGLks0IximmoJcxrBJ+PZWiZV0UEVpu4I8\n",
       "0vtqRObnFFm4g3zE3VlIbXYs0IZ8rKRkt9LlclJVn3dw5CRjQm1c5YcuyTTDG441A7mMYZPwhbJV\n",
       "YiUdVAv69wgLYzUiC2dMRRaSietJu7OQTqP+BWLh0pKi7NGn5ZbPw7qDIyc5yw8P2VJOz7k3Ixqe\n",
       "bQZyGcMm4WspVImVdFBFOYGbbFjP1YhMazcVWRg+MDj4bZkz8tjg4OACHZWVFFOCPd91XarO71v0\n",
       "gq0j57w6zefYJD1LuTcjGnrTTUAuY9gkfHdUiZV0UK2nDpxCkf/Wigy+ZiqyEK4kEm/KsLAtkXgy\n",
       "szAs9GSYogxFhy9KnfZn/Hq3rSPfwfufHxDz5P0ZGCpAkMtl2jCMq2SSJdEw2Nc4cntDC+om4dtU\n",
       "JVbSQX17E/i4aaOnQB2O1YoM9ptKWIiH7MdlWNgaBW8Sq7idhtKNs9CfY4ryVdgyJ1PF2+ex2RWI\n",
       "k7fhz7kPi6cBZRpOAAS4paW3uPuZogxy0ZC5eGQ3ke/Widze0IK6IXym/KBKrKSDmumB0DSX7n1o\n",
       "98QtNSODH5tKWLgctJQMC5UYnMenp+jGY3eNFOwqdsxn4b7GWdjSzRQTjnY4QY5VK9kiZrM9TLGP\n",
       "VzHvECY+tSVOMsi4Z4Uq93rykMBOtJv1T2OHzuFkVeO80wp/pmFpA25vHHnZUGzJQN1UfDfxsXL2\n",
       "5RhUUq6mN4M3bhiF9TRo21LuHRWRwa2mEhZGIGQ/MdSnN8DLXzJYiHoc/1LoLbbXSKf7wD8HwfIa\n",
       "Prln3YDFgivS3tj396yDZVs3U4B309BzBeCedbT83cq8VGOHOG0WFF046VNb4qQAa9n28sw4EVLS\n",
       "kgU82KnTZv31uMUoekZ9OM85hQp/hmE5RNZjRe3Iy4aWlsqom4DP7Dhc5GJVxZdTUGm5BkugLWsY\n",
       "tZLMseeae0dFZNBrKmFhKBex4e+FjV+E14KFYMFk4XH4N67xlDlfuGLHwi05CF6mK6t2dGNOXVlQ\n",
       "94T7j68eNZZhWlR6/sQ3YFWGK0bLWOVYru/ooJcFL7AjX+WNknYzi0Wxo0u876C2zMkSa6WfFtSZ\n",
       "MgtZ/S6y2OsxCOQ5p1DhzzR0ZaEscsPQ2tIS3qpJ+C7ysXL25RRUVh64Dr1Rw6iFYO+55N5REZmV\n",
       "hVrqbptz26O7puBP2T6ehefJOwGSGoLyz6IdCyeS4J+liebI7VOF8E6AjwdG4CYFF3UFmXgKaBF8\n",
       "DJfxKLyeBSXDFaOlsX20pJlCoHNqakg3xtJZfviZqbds7juoE9+M9fXjIxBqF7Yreusa1LOlkamS\n",
       "r5cN+R1vM11rztSH3DCsOBlwqBvDZ8otfKzcfDkF1ZOCl7mzFckmDr/n2lELMuuODI+vRloM3Lkv\n",
       "NEIOHuQJYJQYnnp2J89C73aS9JBvkdvZAf7g6l9jFWWkdA+FsdySIZe2YZJMLMO0xgdrtDx969JP\n",
       "ClmRJ43ulXuxZpIvXuMz0lNvjimcxaoRPSl0kY5NwfjDykh4J65y3TAdvY6p9CtiRJ4GL3Y8bKbD\n",
       "JLmBoXlxZIyGOA6XDVmUeBeyyDURuWE4+qvfxY59xSgWUdviK9SO7+tcrFz76hRUfx88xqVhs4Rh\n",
       "efshckYGb5hKWfgjdDHZk4vEwuQbeYqyVz+ngpP3cSwMbMY/q9gpmx7gg4W1ZN5faEveRSdeMfFl\n",
       "Anw5fS0Dr/yFVgz0RcJkAqVHy0XQj8wLTVLPXHE+dLLAXTAQ9a2l90xpoYsk82AJirmPbSf7wLZZ\n",
       "rhuGo8Cct91nef39MPTkhGuMVqTBZNc/xJExGuJynbIhi1LlTY0rctNraYkoGWon5+Bv8AdjhRRR\n",
       "2+EzYyCPbz8XK9e+OgXVE1O4M/36q6C9Op+0HyJnZNabGsBcHXb9BtqiFDN5Sqo0YzsFmX0cC2mm\n",
       "spxkG0thmERIYSf/XStghO7i19hauIodkym3tHgw7T1CR77PYKHns1BmoVmsxcO/NI52eaa6fh3R\n",
       "63qU7yLJPGiqYWY0bTquzet1fcbshuFI23roF8ctXDl3bAuGzd/N1df1Ilko+JExGjJzHcOQRol3\n",
       "IYvc9Fq6bSsZfvJCCmbosDCKCaht8ZkxkMe3gouVRF/tg6ptPXqVw49yc05MPSQiB98xlbIwTPjw\n",
       "ANwFfnqMeAC3avVMIrEVWfitd3gWErI8RzZkzKfZ1GBoPo91yIzG3LdnmrDw04lEInvbMvEaHpGW\n",
       "ikL/wqG6LWot5uSDJTXELbsqi9kN05GdvGT7+k0iVzIbutXWRd3IW7NqO3zfzapBfC3J+nyJQYWg\n",
       "Xc0XakJmeYNXkk5cz4YU9rRR0WJsLVQ+xbOQyEdRcV8/TQvUdpXdQnXSLiIDT6SIyX9oWC+QbM9I\n",
       "C/o+ZxSNtmKXHsySvJAv5mQMLG/iZbtodsN0VDngeZryHGxklEmU7FzUjbwlGor7prubxUJ7fOFM\n",
       "fb6EoK6juWzdLGTIgllTDRb6ppGjrwXhm0l86lwG9zMWwpiVhe/QDRl6p9G0N5giNaBTId9gKAWB\n",
       "YpQMQiuZcuqmJPeTllFyKGFFmBX2A9xzgPzCgysW3nkULD/KkuxiuRuCowqJZLwZsL+rlx0ZFiUb\n",
       "F/UihyFcDcPxTJNY6IRvb32+hKC+CU9A/SxkyOgLkLIaLFTi8FdYeQB6c/i0KQfncFIq3+uGVrCw\n",
       "MFKAiUsQ7iqme3PnfjtwCGvAcyMp/PB3zY93kEvuDaA9Sl9CnXnMmNrktuahUtFH6M8vtZcSq4Vi\n",
       "AWqMX6cBnhoekOpiuRuCo8qhPLaBrIg2/0nj+/nlrGxDGCUbF/Uixx0kElWfcPnvnobxba/PlxDU\n",
       "54/ardg1DBEio8tcWSsHqfwa5WeYF4pv8EoXiWmrac6XbM2aFelPK4OYFzb0Dm9nSRsWZydHGnd+\n",
       "5EYihxuBz5d9fyALRU2tZKHqMBkNFmpxi6ma9Gbu4CsG3icdXZT/F6lgYRhcWAg/sZiGcYPL8BVb\n",
       "F8O6KI2x0EnGjf9HDrv9suvQYlgXpRZZMR77H4Pq5WE+v2JzAAAAAElFTkSuQmCC\n",
       "\" style=\"display:inline;vertical-align:middle;\" /></a><br>"
      ],
      "text/plain": [
       "distributeThroughSubtract: forall_{m, n in Naturals} [forall_{(A, x, y, B) in Complexes^{m} * Complexes * Complexes * Complexes^{n}} ((A_1 *  ...  * A_m * (x - y) * B_1 *  ...  * B_n) = ((A_1 *  ...  * A_m * x * B_1 *  ...  * B_n) - (A_1 *  ...  * A_m * y * B_1 *  ...  * B_n)))]"
      ]
     },
     "execution_count": 30,
     "metadata": {},
     "output_type": "execute_result"
    }
   ],
   "source": [
    "distributeThroughSubtract =  Forall((m,n), Forall((AA, x, y, BB),\n",
    "                  Equals(\n",
    "                        Mult(iterA1m, subtract(x, y), iterB1n),\n",
    "                        subtract(Mult(iterA1m, x, iterB1n), Mult(iterA1m, y, iterB1n))\n",
    "                        ),\n",
    "                  domains = [Exp(Complexes,m), Complexes, Complexes, Exp(Complexes,n)]\n",
    "                  ), domain = Naturals)"
   ]
  },
  {
   "cell_type": "code",
   "execution_count": 31,
   "metadata": {},
   "outputs": [
    {
     "data": {
      "text/html": [
       "<strong id=\"distributeThroughSummation\"><a class=\"ProveItLink\" href=\"_proofs_/distributeThroughSummation.ipynb\">distributeThroughSummation</a>:</strong> <a class=\"ProveItLink\" href=\"__pv_it/b5bab330021e5652392ba687b4fe4cfbf59478160/expr.ipynb\"><img src=\"data:image/png;base64,iVBORw0KGgoAAAANSUhEUgAABycAAABMBAMAAAA1haYcAAAAMFBMVEX///8QEBC6urrMzMxUVFRm\n",
       "ZmZERETc3NwyMjKqqqp2dnaIiIiYmJgiIiLu7u4AAAAU9Wx4AAAAAXRSTlMAQObYZgAAFmdJREFU\n",
       "eNrtnQtsHMd5x+fe7yVpJVbjQDoqju0UScprXbmuApdX27WDPEr6oQayk5BJEaqp4/BQCJaUNCGb\n",
       "Nq0T2OYFrYEEqiLasOtHaugcJ0ZaytU5tlxDbUMaebaOzFMRy0olU6QoinqQ3M5jd3ZnXzN3OzSO\n",
       "tzeAyP1Ow7n5/vP95rGPWQDqSL2qeoab6VbQ7CmiqmpRWmm3ynJcbrUaSDlYAd+F7PAXPa2eNI13\n",
       "cOx6oLxz4l94eTKjzQ/lwsREWVZh1F/fjkutViMpOzHR57uQaL+f6Gn5pGlMVXKx64GyIJCn1PxQ\n",
       "zkssjPrr23Gp1WowTfouQXmHn+gJQpq0qORkS4byVRAsKF+V5nhrQAm+UWtDydfYpJKjLRXK9FSw\n",
       "oKT++ne8RaBMFttQ8jU2qeRoS4VypBwsKKm//h1vESgjp9tQ8jU2qeRoS4XybhAsKO+W53iLQOmq\n",
       "RBtKs8Z3c2yJUIaXggUl9VeC460CZU+5DSVfY0MlZ1silPHOYEFJ/ZXgeKtAmZxqQ8nX2FDJ2ZYI\n",
       "Ze94sKCk/kpwvFWgzJ5vQ8nX2FDJ2ZYI5UApWFBSfyU43ipQgrNtKAU0Psux5UF5DgQLynMSHW8Z\n",
       "KPtKbSj5GlOVXGxpUGYvBgtK6q8Mx1sGyn3jbSj5GlOVXGxpUMYXgwUl9VeG4y0DZcdUG0q+xlQl\n",
       "F1salKemggUl9VeG4y0DZXy+DSVfY6qSiy0Nyn39wYKS+ivD8ZaBMnOxDSVfY6qSiy0Nyr5ysKCk\n",
       "/spwvGWgjJxrQ8nXmKrkYkuDMl8LFpTUXxmOtwyUQG1DKaCxyrElQZmYA4GCkvorxfHWgXKsuw0l\n",
       "X2NdJTdbEpSps8GCkvorxfHWgXKg0oaSr7GukpstCcr0hWBBSf2V4njrQDlZbEPJ11hXyc2WBGX8\n",
       "fLCgpP5Kcbx1oOyZakPJ11hXyc2WBGVoPlhQUn+lON46UJ6abUPJ11hXyc2WBOWplWBBSf2V4rhj\n",
       "tdCWgzRV1giUHYvC0TNtcu9isKDUVXKzJUHZOxssKKm/Uhx3rFZK1T594323qJ1rBMrceeHo2aeS\n",
       "T5W/OJSfCxaUukputiQo900FC0rqrxTHnavVt0wP33N+jUCZvCgcPVGVShceKwcKSl0lN1sSlAdH\n",
       "gwUl9VeK487Vypl2TX98jUAZvSAePdPGrunp0UBBqavkZkuCcv9gsKCk/kpx3LlaEdXY/SdWWBtQ\n",
       "xs6IR0+vWqXHtwUKSl0lB7tWJ5Re+fvIbdnP/bVgoe+1WnG03p+7wfuvLJmy3S75fgj/7/5ul+hX\n",
       "ZMjb1289gIWLzjF7y2J9xaRqPDNc5RcbrgAwjBR6W6EeFZFadijDn1DfVnpR4EvZfOlz4lBmVeOs\n",
       "UJYfK72CU1yPZkAlNa6QD2m0SJ20qORg4yn9f4hD6ZV/eBz/eliw0AiamH1PvfHGn5R06/jczMw9\n",
       "KmdAsGSy96+ZX4xt+AweV9JuUOawSj5PZ2r+mg5gwaL3EUyPi0EZVwUWrFRF8LvorMnYxpk3hufr\n",
       "UpGMwiyU4en7Sicv5Z8UtebLLNcxzxpeFoKs6KKa27mmC24K4ZIaV8iPNLcxEOoqOdhPoN8PiEPp\n",
       "lX+sokEpVmgSD6iwf4iv162OswAkVM5zUJZMSVsD9nQr+78HwKgHlOkyrUDjaaxiPYAzWcE3S6Vt\n",
       "b9hygVLJLwgUp6tIVFfhdHpkoS4Vwagdyv1ouOnhT/at+bJzdUB5VBV57E1rqrToe8nszcDEWeMK\n",
       "+ZEmyUCoq+Rg3wN/JQbFofTKP61DKVboBA5F2KWlLuhW70WkA0d4S6astfOsfgQWCRvlMANljYl+\n",
       "XLt7fE5fpyvWA7gEXBbU0jYAui11e1T+lI2qmKngSsCfI2fqUhGpZYEyrSL1krP8/sWSL6XWAWVY\n",
       "FZnwT7ip5qKHrRnYOGtcIT/SkEidtKjkYKOOI1YWh9Irf76qQSlW6EY8aJ+GlV3QrYPzaJXBWTpZ\n",
       "Mina5bsT9x/5BXa9hj64HfbBDJQPsNGPzG0+ocxXrQcguV/w9YJfV2cFoUyrG7mlURVDqO/JoDnX\n",
       "5FJdKiK1LFDuwyNJjNu52vKF64ES7J8TmLBsdFPNZWC1NQMbZ40r5EcaEqmTFpUc7OxjO3d+qY4T\n",
       "PV75KZRChYbxdCAOVY6e161haOV4O8NZM32WxPR9WtvGEqhzOwGLLpuhfDcb/Yd37tw5JR/K50Kq\n",
       "0Jw4M5VfEYQSjPG3ytNVBO8hy1A0eo/Wp2K8bIUyj0/BZLidqy1ffVAm1VEgFitOqjknezOwcda4\n",
       "Qr6k+awglODs0ND/1AGlV35tnvWwWKExPJh3QGVODeoWbJ/IGG/ZYM30KP55j94Kr4e1+Wy63wxl\n",
       "usJEf8fQ0N3jPqGk80p6kJhPqt0ifzpSGDstCuVRlVtRXUVwB7ZgJF17pk4V0/0WKFOq2KrGni/s\n",
       "2DG5Qank+efGSHQ4qeaYHJqBjbPGFfIlzaMshDXgZt8AwHag9NVEocT5QWp46+3b0WebnzxQsENJ\n",
       "MqXzc13LOguRO77zAttD4uGldxxEfqpbEfU37p1G78+8xnO9oGXS0zfxz+26uSWljVupUQJl7AhO\n",
       "C0z0RwsgXoLNZ4uUFGNdW60Lynh/DM13Itw2+wwYgJOnX62IQJlSuZGoqwjuw9bcvffPlb2rYVMx\n",
       "NWqBMkpnbtd4fnfUttyIaOEVuxenojeUYB+/HyOxoqnGqQ9tBiaomTjzoZAvab5phjBigdJsvxso\n",
       "8Mve71azr94Knv6kGUqSHzwPwFMI737Q4zBSapkm+0FSn7hfAcLseiCEm+Lgh568o6RbWViCMjwK\n",
       "Nn/Uw1M9E02bcH9L5d0S1pQIdzJnX1NfMUd/uAiOw19fwBm1Uw3ZT23Y/v0IMyzFC3VB+TxcrfSD\n",
       "yO1kYjzjMCwQ4bOd4CDsJMJTpmzu9zQMcFdduorgEtys0J9j52g1xFQMdxoBgmuZ1K8GaK2hOFRi\n",
       "xpzPBqXYSAli/EUziRVNNU59aDOQoNayMXHmQyFf0mwShTIHMlV9CmhJJ7Z+HLyUrqX1r/x1jeYH\n",
       "N8K/ruHrfXGa/6aCDqWWaaAK0gukHHTtcjC77cD1h/QA7sDyDNdMVhTVqwfOZvZ6dj9aJtraWLEN\n",
       "cDDEJ3qO6VhFZtlLIscv0ULu2+jnFDgAf2KUQ6SwcNePwKYlVH2S7eVHfloJGTghk63JTQXLgXIe\n",
       "TkJgkSnc1orDiVhtL8pTZdBzVpsQ6dlItZxSjjt/1VUEeEztW0GToXGtGoIqRlCXudtUyxwJkqv0\n",
       "1nDYRhNX3chHZ49DTt/4a9eeZZo7fyWxoqnGqY/RDI+asjFx5kMhX9LgSN1tUcnJzlRzNW3aYz0Z\n",
       "8ekvz4D/rPRTKK8r0fzglwB8EFWnZroPwxgptUzTJZA8T8pRoAzV1LPgknA/I/Sy2Qohq+eMN5Q0\n",
       "E+NqhE7+k7WiI5SRr2t+RH6Ofh4Ar0F6MGa3kN089sEPMot4AEXdyNWfB9eOG1dNsHloz4teI2V0\n",
       "riuPTtprUF7qsD4kA3pfVxc6aY/nUno2Ui3HJdIyb6Sk+GMo81Mo5IqeIWdTEYfcXlMtk+TEw3r9\n",
       "06P2qR6uupHPe6S8zvV1KyOviUGpqcapj9EM95myMXHmQyFf0uBI3WtRyclWRtFNIOgsUfbO9z6S\n",
       "ebagHQFwCGV54e+/SKHEExCSX5kHWRREucu6nU70kExog66BcVIOeAWNQDcoU2k9kkPoILJgtvDl\n",
       "3P0XvaHUMx367r8WJ/6UTl+pvNlxBKViTF+1NeXPaszi7TjCGC0rQfi/8WVbBc01Ip1otYm7kX+v\n",
       "gPA4ujb1m7DMAjH3DIa8oPzGH8y8gU7apzjndVPrZmZGoDgdJZE1Jcis58QsVRGgNRC+4J1WK57V\n",
       "sKlonr4CetkApIverWHKh4pi15RE+EHO9BU8zX07Eo4OXTVOfYxmWHRQCJfkQyFf0ghPX8H263Es\n",
       "AnCyp5orZovaUYHcwfBC+uQWBkqcH4QvPPlxHMm3mC5tG1BqmeaGPvUO/U6I1/NwHj+V6s/pI2sc\n",
       "DROZ02YLTfUTqI/bC7TbU2u2Az2T8sMl8BOABq6X8ccfodX4HLq78f1wCB81j5SpIhv98R3w/zBi\n",
       "uauwHDF09lspoOvvqBsJ/z70toTciJXhB8SMFnZ5QKkgJKYXWShpxU232x4to6lNCfy20NlX0MO7\n",
       "EZ2qCD6nLYbAyDKphmKvQ81Rxaz1RI+SRzT9gIXA0hbmfKioHzeypgzzb4zB0aGr5lgf080hejNE\n",
       "Oh0UwiV5KFTjKORLmpeFoXwQViyD/vjLPwAdBbzMQUclsjR7AYw/wkKJ8pses9lhuJ43oMSZMhfQ\n",
       "SKkv8RJ/CJTBdDn+jPkMc3zFbPUtAuX5ZU12NFHHM3PmgGZKnBgF83jZQNbDb1L+ojf9m3Ll562X\n",
       "RHZZoj/1CXRylZyoxqf/QtodiuEi7kYyJ5Hbr6E23Jbt18wcOPBbwOovPdiBVBw+z0BpVNxYeCRu\n",
       "wpfKyuBZISj597hTFbEWURi4J/M/J9VgxaOWXUXbJRHwpXPfTvxXPxt5lrYw50NFLTJX3AShFLjJ\n",
       "HFWOquZYH9MCXm+GzKCDQthNd4VMZTkr5EsayyURAFztEFxXxfHa6sOw606WydEmEPnZ0NBdEMq/\n",
       "fJOFEuUHcVJBpRsoxjlVevOAngl2Tz2zpJz/hZW1dJCw7q8Pn6kYFt4U4tKq5uvRRW1mjmbs5AA5\n",
       "RjNFK7Ar/Br8hJxVTXyVNvrm6Tk0wiW7zVBut0b/OwG5oyCykdy72nGa9HKRUdyNEArvRDOr2B/p\n",
       "5jFw2HSS23LzQIcK+7o+VZ1noNQ9MC08VHUFxoWqFu4Su07Ju2/eUBGdcOzATzegIRNVg1GRSJkv\n",
       "OamY7LZCCV7KL38MsJFntMWgLV+0ok3w6oNSeSf/YhyJDk01x/oYC3jaDPGKg0KoJA+FSFkeCvmS\n",
       "5ivCUGZhtIWuRkfrYNc9EiZHW8NKkYyU4Q+wUKL8oIP0bqmy+VLPtAElzhSaRc//knK+Zb+ms97d\n",
       "2ms5n6cl5pNQITOYmO2mt9mlPkjOvhoqMbfZFazR/yP47x/Q6NfVhW9w7EAfhzCUqBsJv4v+ReaX\n",
       "ULJ32WNqumo90KfKgvcKrSuIQPk3QDyFStZq2FUMlxxUdLjNjm0Nge8uxPq764cyWRQoe30j9bma\n",
       "W1L9CvmRRvg2O23ozYBdpcQsHCFfSpOjdZeDmwmU4HDNLmsvqvauUmyQnCshiT4loi+VR0FqrkDK\n",
       "+RPzWEXSYXcL+1q1+cZ8MgL7n+zguOlWHUv6jsdTIlq6Ev57BOqA2ia6hKcIIDxIupE/huUS3w5F\n",
       "y2bT6i/zlEg9UCqzFQEo46N1QMncnY+rYVcx66QiUssnlCMg9Ds4QlL1PCUC/kyk7MMN1AcGNa+k\n",
       "+hXyIw2JVHoDuuUpEasNok+A3mp4EK5Gr3mMHN1RBcdgRIf/thtE7bKmx9CzYb3V2OatHzNdLRtn\n",
       "oEzml490fRLgcsBtW7daz7GxT06ZrS+M3cmH8kqQK0T+vIQvYTiG/Cgfyjfx7BVtfLWrpMCV4TX9\n",
       "OK5xN7L5MfLMBYArym0m0+Yv8zwlnkk/viD2pOaHygJQPmUII/DgwAPWanBCTlcR3+zhDCVpDX66\n",
       "EsT+mXxBPc9Tpo3rISn3su3RwU/RJ3glNaCQH2mOM9BlLc9TWm1LxOtH/zR0l7esFne0B/AftlbJ\n",
       "Wo4uSdHdQpNG+0lGR4dvdmuTEh/KXA1tEpPNz5V7q+D/pjeg58xj3aQbUZ4auh5nugI/4EpNm7/M\n",
       "zgONJxcos8Z8KyUA5Q6+ZhU3tWRtB5KpY+cB8LzRV3/LvchEEUhKAnHmpZCfdDMDXcay84DVxjFR\n",
       "sh9xZLVmHCD+PvdjwUp+0cMSjwC3k3rPwP87woHSdJ8/7WCS7t0IcPTXdLAKUJquh2wSibkGd1N4\n",
       "BsiDMn1WHErT9ZBwp3Cs+EmNlvSM776qwGisq+Rms0O261YpVlmtGdfexlnGHbNGB7NHuKC3YuOs\n",
       "hHE9JL2w6tK89RtnjRjd4v418cphaRp7bJxVT+LtZjc5utagBP9o72DERz3qrxTHnaE8qi9XEw+q\n",
       "82sEyjq2mFQu0492D6iFQEH5Fm0x2dO55qDM2lxK14QLov5KcdwZyjHy+NO9r6iqOrVGoEwuCUdP\n",
       "8hxx7/68KrqRSqtAqavkZkuCciRgry2g/o6s2msLYmvxXSKh08LRMxDcd4noKrnZkqB0frFL60JJ\n",
       "/ZXieOu8dauOF/wEML3FL/jJnQ4WlNRfKY63DpQj7VfhCWg8MuttS4IyuhQsKKm/UhxvoZfGjrah\n",
       "5Gusq+RmS4IysxAsKKm/UhxvHSgP9reh5Gusq+RmS4IyfC5YUFJ/pTjeOlD2VdtQ8jXWVXKzJUGp\n",
       "qMGCkvorxXFSrYfUrvyr9v9kNgbUknkjwaaCcrrkGj1Ofri5vQr+NROUukputiQoXVqjZaE0/JXh\n",
       "OKkW2sV7zGGkMW8MqA3P5o0EmwlKZc4jeux+ABe3V8O/JoKSquRiS4NyfzVYUFJ/ZThOqhVbcr7f\n",
       "TNsYUGvA72+tshsJNhOU4TMe0cP4YSTW7VXzr4mgpCq52NKg7CkGC0rqrwzHSbVyi3DIKDsOykl6\n",
       "G+yzV83U2I0EmwnK9JJH9DB+GIl1e9X8ayIoqUoutjQoOzqDBSX1V4bjpFodsyDmdOso2RhQm+vh\n",
       "IYXZSLCZoEyueESP2Q+zkma3V8+/JoKSquRiS4MyOh8sKKm/Mhwn1eq5dKgL7XNgnRKSjQG19iNz\n",
       "vFvUclNCiV9q4hI9mh/RmnXOQdxebf+aCEqqkostDcrwhWBBSf2V4Tip1sFxNGRsse70SjYG1Iwt\n",
       "2u8dnU0J5WTZPXq0DQ4fsp4YI26vun9NBCVVycWWBiXYECwoDX83yKrWcDfeQcm6WzrZGFAzrhsa\n",
       "GqqwGwk2E5RjHtGj+ZGzQqm5vdr+NRGUYxxbHpQHC8GCkvorwXFSrTzZF8IKJdkYUHsXy6/QJ+xG\n",
       "gk0EZWLBI3qIH3YoiduH9rz4vm1gFf1rHigNlZxtiVCeKgYLSuqvBMdxtRIQyH3rMJS7SokHwK4a\n",
       "+lHSNgbU3sWCd4thNxJsIijTix7Ro21wCKFM/J3mXA0eaW7vGQx1XwFW0b/mgdJQydmWCGVsJVhQ\n",
       "Un8lOI6r9VfqkVfeXsNQ9lYji6C3hH5U9Y0BybtYlE+jb2Q2EmwiKENF9+jR/YBQRpY050rwSHM7\n",
       "WngTPAFW0b/mgdJQydmWCKVyIVhQUn8lOM5UC01fq9SiR9q7WNJwzbWa6x1/ZZT40YOmrw6bQuXA\n",
       "g2Cquor+NQ+UhkrOtkQowUPBgtLw9yGp1frAZWWn7QWZd7E0K5Rv50dP5Gk4Hv4eNenRMThO3tXq\n",
       "961PWlRytmVCGRoPFpTUX/+OW6slsL1gM0KZXRGMHoeJQCDSpEUlR1sqlKmVYEFJ/fXveIs8unW0\n",
       "2nj0BAdKk0qOtlQo0WvXgwSl4e+NbShxehy0oeRr/DjHlgvl0e5gQUn99e14a0AZWd+Gkq+xWSUn\n",
       "ux4oVfUMt1E2Nj+UqorffSensI2yHJdarUZSDlbAfyFlP9HT8knTmKrkYteRTkxMfJeb6fKmF0aZ\n",
       "mJiQN55fLstxudVqIGVhBXwXsttf9LR60jTe7Wn/P8wzuAQEkpUzAAAAAElFTkSuQmCC\n",
       "\" style=\"display:inline;vertical-align:middle;\" /></a><br>"
      ],
      "text/plain": [
       "distributeThroughSummation: forall_{l, m, n in Naturals} [forall_{P, S} ([forall_{B in S^{m}} (P(B_1,...,B_m) in Complexes)] => [forall_{(A, C) in Complexes^{l} * Complexes^{n}} ((A_1 *  ...  * A_l * [Sum_{B_1,...,B_m in S} P(B_1,...,B_m)] * C_1 *  ...  * C_n) = [Sum_{B_1,...,B_m in S} (A_1 *  ...  * A_l * P(B_1,...,B_m) * C_1 *  ...  * C_n)])])]"
      ]
     },
     "execution_count": 31,
     "metadata": {},
     "output_type": "execute_result"
    }
   ],
   "source": [
    "distributeThroughSummation = Forall((l,m,n), Forall((P, S),\n",
    "                                    Implies(Forall(BB, InSet(Function(P, varIter(BB, one,m)), Complexes), domain=Exp(S,m)),\n",
    "                                            Forall((AA, CC),\n",
    "                                                   Equals(Mult(varIter(AA, one, l), Sum(varIter(BB, one, m), Function(P, varIter(BB, one,m)), domain=S), iterC1n),\n",
    "                                                          Sum(varIter(BB, one, m), Mult(varIter(AA, one, l),Function(P, varIter(BB, one,m)) , iterC1n), domain=S)),\n",
    "                                                  domains=[Exp(Complexes,l),Exp(Complexes,n)]))), domain=Naturals)\n"
   ]
  },
  {
   "cell_type": "code",
   "execution_count": 32,
   "metadata": {},
   "outputs": [
    {
     "data": {
      "text/html": [
       "<strong id=\"commutation\"><a class=\"ProveItLink\" href=\"_proofs_/commutation.ipynb\">commutation</a>:</strong> <a class=\"ProveItLink\" href=\"__pv_it/1e81d3d030cc491e2033dc0bebf38b40a539cafe0/expr.ipynb\"><img src=\"data:image/png;base64,iVBORw0KGgoAAAANSUhEUgAAANEAAAAWBAMAAACs+WTQAAAAMFBMVEX///8QEBC6urrMzMxUVFRm\n",
       "ZmZERETc3NwyMjKqqqp2dnaIiIiYmJgiIiLu7u4AAAAU9Wx4AAAAAXRSTlMAQObYZgAAAtFJREFU\n",
       "SMe9lk9o03AUx1+TpumfpBUPioJQnaAIsh5kB1FW9aJUoQeFsU4sKt3FQw66DUTsoYc5ZBRE8LYi\n",
       "DBERwtw8OJDgcYPRyyYIQgo9qazF4WQ4h7+X3y/J+uuv8aQPvknz8nl5yXsvvxTgv5n9d0QyqXj7\n",
       "IEZFGKqOB8uBmU4x7bLkORKnZERo8xDnQwz1Eg+mAzNNC4holmzKQrTCO8tUY2SnFoMSJUyqDktV\n",
       "yWZJhMIW712iipJGKdWgTCGbqsP60dEQodIO721QaS/Gxx8EFu84U4e9xk2kKkDjdZ5FDLVZKn0K\n",
       "zDTMpOae7/eclcXL5KJ5ARrNzVvuMQ1BDHUBYNQb0klBpsdMh41I25u9TUhlIOaMxNAkWsVFW0XY\n",
       "cDEaghjqKCT9GZp1f3ybulJgP/dSqdug4OQksUOxHQjVQNrD3RSiMzYcJLt18EIQQ+mQ8J4WHuGl\n",
       "Fq5Z8oAtTzHfd6pwG3QcrRb2QSlDKg9ym8uE6BDAD3KR3+CFIIZKWLo/WD+J3h5bt7X7ACc6M6WK\n",
       "0MJXtYEPpueh3xJnWgVpm2TaB16ImylZxvf/3rtb2Kdf87aGbe57Qp6dhR+gemjCjLd2kdfphs2q\n",
       "d/0z2pqLboHizjkLcasHo+dJuo8qnk7UtWwUmfcr/o3eoWpV4WLMXX/IOJBmaPwigegGdpAaC0HM\n",
       "QZ+SwofzMpY/Ymr103ymWaqoFVuNu75wVckKphzRS3DVW7JoiDvlECJNS6UTuJCFMkrxbKlUMo/0\n",
       "+eEnqdTc3MCcN+W5EbxSmsuEaHNh1+vkhCDmoBopfsuOrBgkIehW07nnr36fQgZVt3WvRj2xhr9g\n",
       "DZ6xJwwdnkEYaXnYgEV2TqtRddsr3tEb81CpsDwCg5ZUqEHyJjq+rN1OB301nBKKvxoijEdpgeOk\n",
       "Tx3uu0y8hbtr1QvjUNkQL7GqScXbGzEqwjhU+6d/WP4ADvXUp0MFpnEAAAAASUVORK5CYII=\n",
       "\" style=\"display:inline;vertical-align:middle;\" /></a><br>"
      ],
      "text/plain": [
       "commutation: forall_{a, b in Complexes} ((a * b) = (b * a))"
      ]
     },
     "execution_count": 32,
     "metadata": {},
     "output_type": "execute_result"
    }
   ],
   "source": [
    "commutation = Forall((a, b), Equals(Mult(a, b), Mult(b, a)), domain=Complexes)"
   ]
  },
  {
   "cell_type": "code",
   "execution_count": 33,
   "metadata": {},
   "outputs": [
    {
     "data": {
      "text/html": [
       "<strong id=\"rightwardCommutation\"><a class=\"ProveItLink\" href=\"_proofs_/rightwardCommutation.ipynb\">rightwardCommutation</a>:</strong> <a class=\"ProveItLink\" href=\"__pv_it/2ddf73fef79fe9b7d7110884fe5c6b8be81c1f840/expr.ipynb\"><img src=\"data:image/png;base64,iVBORw0KGgoAAAANSUhEUgAABDoAAAAaBAMAAACk4CGvAAAAMFBMVEX///8QEBC6urrMzMxUVFRm\n",
       "ZmZERETc3NwyMjKqqqp2dnaIiIiYmJgiIiLu7u4AAAAU9Wx4AAAAAXRSTlMAQObYZgAACH1JREFU\n",
       "aN7tW31sFEUUf71rr/ext4eYIGqMFRBRQzgjYMUYG4hRYpAGIaGtmEPNYRTkTBpL/IAzQUFU2gQ1\n",
       "/iHhTEAkKpwCjVGQS2vRVKOXCISgB0dCjOGztrSVtvScr92d3Z27270jZwp9yUxn5t68md/b3868\n",
       "mQUA67IiFYFRuWbEkTpmRz056rFrSxohbYcdcgmZG6fpfxZPZtCOVpsYyMgD0UbZQRaEny2yw4//\n",
       "SCWBO52lwuTULVdoGvK0bjtaFUEhkFKLAX4BIAiQRtiB6xstssPbgv6406UAuNHytISy9krNY1qX\n",
       "La2oEEjJZW3RIKKEHS+jvDJkkR1E8eVSwPPFaSpULl2pieyK2tLqFAEpvVwqGkQnYQdeCSparEal\n",
       "+EWoKwW8sjRNhUYtw1dqIs0xW1onRUBKf9wYLhrEScIOaXtT0+uWzyydTU1NJTm6TGEJ9qdaLQzo\n",
       "S/2xgq97+T6epalE/phMpORLHctUWRhc03K1CICYpmcNBMCHt/yZv5tASQe/MBA4NQL0hcPHLLMj\n",
       "EA6viJWCHfUsneuG5jH5A6oTVe5/+Ab3Y3u0Z70y5u3Ja0KkhM1mLA2uanlrBUBM07MGAlwDsCuY\n",
       "r5tIiYdfIAicEDvmACyzzI7yILjsXIlVJwpkx7ssodVuV/6oyD0A3j6+4UII1Gftughr8sbsQiVs\n",
       "9l9Lg6taHrJ3L16PZa0CxDQ9ayBgZU1l/rdepMTDLxAETogdk0COgjw/bYkdjhr4G4ex2RmtX1ld\n",
       "wQLZMZYmKROBZhTXzaQEF0zyPM5+6wf3IANBlLak4Sa13A8VMXCGNHXDa6MpCcwOAOuac/ABdccf\n",
       "IwBCp5dvCiYQHgS+XsGerRdTMqDh4OtA5BxcBwInxA4/+NALPjXLU3K+uQC+ekplB0r7UP6Kame9\n",
       "PhrKxGbpY7JCd5ZumtyXATJBmDGPvhLmCES+TOKpJAR6GAiitBigVyk348y5MKmpG140VUlktlvp\n",
       "mnNwddlxdgmA0OlZmIIehJtoUuxZe7kvCxoN8DUQOQfXgcAJscOX8CPybBM9ojOLnoSD3rQ3rbFj\n",
       "HxxHubbWG/odaPEqq5z809bDce30S6qsfHbDvAapbt/sDm2hYU01BnYEesGJt8PNNJY27zHyOJxn\n",
       "auGhLjYZonQYHENKOUNCAU9SU9cLpyQwO6x0zTn4cE52sOnln4IeRKCX/Lg5Zy+mpG80wNdA5Bx8\n",
       "WMAOOTqdbY+mMPbp1efhl3gtz46/negBerQz/Nv6LvPTaJsCee+iBNz7IlTHtOM/qbLBZ6adGzyt\n",
       "MNahPhKlSV2Xb6QpMAS+f6Uqxo6skknAgWgbB+ISVAxzP6rsyGVBbDbZZqEr1uJ3liUpLEcUIGx6\n",
       "FuzoQASGNHZkFaZkvO7QwS8EBNtZYNlslPWjJDXcvdXXGmQlgA6s2b7pVZ4drka0NnCBab9+kOtI\n",
       "lNt6x/k0/BgHRwybvhPZC9KqAy0W7SC9CnAXzJGT+OpV11Sp3tosp6msG1y97gjvIVnNtEDg1ipY\n",
       "WbuOm0wPlKlRxIkEngPvnbTZAlHSHKAzm6cr1aIuA8l477Tcph0OhH+IuMeIXe3KKXV8/W3Nd88I\n",
       "4ecaXM4OQqJRKXyA+jkx5c9OS/hrpBpWCtJb4Xbv2VkcOzxLaDQhzwvjU7ZjcA/+8fSRDUDaLgJ8\n",
       "BxJeEhz3Iy9HjifIXVsHq0Id/nHiJhTXQtJT65fI5ZrW5GtLczsWSj50XBus1r0/ZJvEGbeHHoh5\n",
       "M7ujTi0inAsL1fKWEJy+gfcO6WiwQJQ0B/Bm83WlWtRl5hPtNpt2OBCePpA/iRixq105pdVtQ3AI\n",
       "fhDCzzE4Z8YEgp1ooQxfWuO9Z/U3EAgSeLgUcRL6tUNsK8cOuBmfUwFeCnnxkuZLYmfKqXQzKG2T\n",
       "wE22pbO4VwNeZerQ46dVxBS0IH3/K55iyNvi2m1okr5QZjuVpf1Hv1+6TscOsk3ijNtDfal3/hof\n",
       "8WmRwam92k7heOO9DWmdd8aZLRAlzQG82XxdqRZxGQoSjYfLqTbtcCBgyvijO03Y1a6cUuWZKFov\n",
       "tgnh5xicM2MCgRNmh4Sem4tEEo/BPeBuoaXbwHkkHH4BseO1czw78GOchE7ZwQq8BLriEr4F6YEG\n",
       "UNqqYZbGDiIVD2vVhbWMCpoImhBlIzQx2WzlnOPK9UnDY+WKV3OA7a7EZaKb9Ig9O2YQVrCXx9Ga\n",
       "8zYUi58DQW/SGYZ7cX49tMIaBy0tcsg1dO1wPMCzA8v7IP8DfhydlwUrEP0CZDVkbdXwYDgcjjsm\n",
       "qPu3D+1BSnU/IvWEiboZCZoQZWM02WEHBVGMdzQH2HcsdhnA5yAAYseOGYQV7GVBX6iyq6podmgg\n",
       "PufYccEHqyKVXYg7B720dP1EeISyAzqN7JgMlX1w4UXE8gD4E+RqDl+R0bbJcIooPR7HgQaWjvIW\n",
       "pSrVzkVEP4ODDNV95iYs+i/4ltiBQBTnHcUBhTiWukyOmn7YaM+OGYQV7GvQ6iGFYsWyQwNBgCjs\n",
       "KN8BDyUcIfgdZm6npfoE/IW46HirCsrBwI5zAONg1xexVRE/fITI5E9CxX3raBt0QjkhxYzt7Os1\n",
       "ijrqlGoHjlGd9REUuyoiaAI2M2V28Epzg5XldUcO3J/15v+UrjiggK5AXVZu/szQaM+OCYQl7JPB\n",
       "H3Q+HykSPweCAGnkfkqYSp+iuEN/k85OUWmoXr/nSBrRqCGGyFT56HPvOIdoGywA+Wmy0XwZnk20\n",
       "byf/0ohU8QXHE/iI86y6CAqaKJw4TSNLdguey4gEsRv07HBGzCXTdxYWSLToaERzibWhJcmL4g4Y\n",
       "lREvHDskQSkLO+QQTyNGpvvY/jbKi6uRHfklpf5/lo95Gkm67ah81KlXiThShwrrKGX/ML9z1K1X\n",
       "j/wHUSzJSqCFkZUAAAAASUVORK5CYII=\n",
       "\" style=\"display:inline;vertical-align:middle;\" /></a><br>"
      ],
      "text/plain": [
       "rightwardCommutation: forall_{l, m, n in Naturals} [forall_{(a, b, c, d) in Complexes^{l} * Complexes * Complexes^{m} * Complexes^{n}} ((a_1 *  ...  * a_l * b * c_1 *  ...  * c_m * d_1 *  ...  * d_n) = (a_1 *  ...  * a_l * c_1 *  ...  * c_m * b * d_1 *  ...  * d_n))]"
      ]
     },
     "execution_count": 33,
     "metadata": {},
     "output_type": "execute_result"
    }
   ],
   "source": [
    "rightwardCommutation = Forall((l, m, n),Forall((aa,b,cc,dd), Equals(Mult(iter_a1l, b, iter_c1m, iter_d1n), Mult(iter_a1l, iter_c1m, b, iter_d1n)), \n",
    "                                               domains = [Exp(Complexes, l), Complexes, Exp(Complexes,m), Exp(Complexes, n)]), \n",
    "                              domain = Naturals)"
   ]
  },
  {
   "cell_type": "code",
   "execution_count": 34,
   "metadata": {},
   "outputs": [
    {
     "data": {
      "text/html": [
       "<strong id=\"leftwardCommutation\"><a class=\"ProveItLink\" href=\"_proofs_/leftwardCommutation.ipynb\">leftwardCommutation</a>:</strong> <a class=\"ProveItLink\" href=\"__pv_it/0caf58a47bf957d5035601b3e0c5574215d1ff670/expr.ipynb\"><img src=\"data:image/png;base64,iVBORw0KGgoAAAANSUhEUgAABDsAAAAaBAMAAABLIkqRAAAAMFBMVEX///8QEBC6urrMzMxUVFRm\n",
       "ZmZERETc3NwyMjKqqqp2dnaIiIiYmJgiIiLu7u4AAAAU9Wx4AAAAAXRSTlMAQObYZgAACWJJREFU\n",
       "aN7tW31sHMUVf7f36bu9PQtQACE1B4GIlqZZviJD/8gJhFCLQk4FpCYpzdFWR9uQ+JAQjkiLj37F\n",
       "hRZbokiVQsQJUkIIxdemiiqchFVSU+R+cBXUqihHjopGEUmwYxMnsZ0c82bm9ntvxxfLUoKf9O5m\n",
       "dt68ee/tb2bezNkA4rS+WoB5+vzQkmppJuKV+Yh9viiagdpM4KHMnWlSmXFrlKqLYLl+xlekrT4l\n",
       "oEiX2u/SeN2sxEPAVm+h5+sikWxIyWnGCA8axr8JwiNJe5fnAh43cW6Ngr0ZAamOT31FlKVjAop0\n",
       "qbDqNCUzK/EQsNVb6H/1tEBvXeoezgQeO7D+tCA84n3kK1abC3g8LWyWKy3UBIQC0/4yS0dFhtOl\n",
       "io6mWQqXiK2eQlJdaMFuSMU4E3g8il85QXhQwUfnAh2JMuNWd826SBbdfdJfpr8oMp4uNeRoGpid\n",
       "gIjY6ikUPyUyhC4llxgTeCC4w32iqSnO51VzAY9AjXGLJB8XkXq73V+mVyh716U+dDR9YXYCImKr\n",
       "p1BsUmQIXUppZ0zgIW/v6vqx8MllqKura04OMNdyhr3V3QIDJqr/XW+uh858/xJ/cK0cfuJuH7Xv\n",
       "CezaZqmIfaZJRRfzPKiZr762egvtrfaPiQxuSP2AMYEHTOTz7wnDI5XPry/NBTxWcz42Br3+80Y5\n",
       "mI5Z1ovAqcKIP6oWblacqf7HO3eZ1daFBtel4llba7jkYp47OXxVXhlQm9oq5BCqHRUaXJf6HWOE\n",
       "x+0ADwrDI6RCZCZ3Yx1ai/D4FWeyavfnRJbF+IRtE06eFklQDtpne/Ai+LVZ7SmhwXWpNpqEfLMH\n",
       "6We0VXMxz3OHsvp6fTpWaWarkENUbVFocF3qt4wRHleDUgRlZU0IHlIGDqMdqvcVgKUWUVuEx0WM\n",
       "ZeJwL8lQl7HZ5GLkJ3TPPQmxKe4EFXq+HVJTEMwZIrYZj0JtZEabLwToww/L8FCjjGrJfuyjhkvx\n",
       "vcS+1AXSDfP89HBfPzrbEFKugIjGy9zW5nGwO0QfUrUlvxA2pBhdyRjhkYQEsWGJ1wXCz78Bf/i2\n",
       "Dg/Ce8jnY3oKWLcuD0sng5a9J9Dq5jLGOEbWyroKN6+gD132C7aY9lYgNc6doEJrc9A9Hby3YohY\n",
       "iQqFJ8h802wPV5rKqHYM/NQwqUa87Mt4Kt0wz08P91WqNIRCo4aLzFafONgdog+p2rRfCLkUp+WM\n",
       "ER4JLVlju42Djtz3LXgzXovXDHjsgQ/Ip7EErrUuD4nT8EJj1Le2/btsHIJpdXDLX75sHHyOPrli\n",
       "ja3VDo/UCQjivr6VHQuc24yygN4WZmH5KHeCCh0s45RtqxgiVqJCySk6aawPJ0xlVEvmso8aLtUE\n",
       "Htw8Hz3cV5q9UKFUznCR29o8DnaHmBZUW/MLYUPKAQ+leBPf5x0Z+Xce/wT+Xs6a4XEYLwHbjAXs\n",
       "oLVL6CzdfBBXN26AjpJxDUCrW3KB9DV6JJfVgk/aWnXxyxmnpiFxSk5z3zyJTJk3ivtNTixUobPI\n",
       "34f34XkcIvbUIjplU1vZ76eGS5k3l/urSMN0kD7dPB893NeYPv27yw5bt87YIar2jG8IG1KOzQUe\n",
       "vI184H2KvOa6bYndKi8BDKLkgWc2meEReYSoMLJTxWZNoB2zV4qrv5ZBKqHqLxJ9KquG1GN4TSuR\n",
       "kB0AeRPAl6ytG3VFDzEOjEHkRKxg8Y0mGI0CR0MaOrObwbgU6i0oZJ02v4+apSvLKU/CyDgM/vH1\n",
       "zMB39YfTxB6bWrsaqkGxDc5CBrI9CcTswUOPzRzua0oPbop01Sy2muOgWNR4O+QSQsVzcOxLam8x\n",
       "pvB4llgdRNAfXaolM3KGl1R2QXwgfvRWEzza7mcZhbIi/z5OluM9P8Wm/+9EpH803JnBu07ElXQL\n",
       "wVnhA41eug3yahKehYqGN2tyFhY9Qwywtu75iu1olZiE/qkOa1jO8C3UtIm/UYrXdxWDRlr4tnb4\n",
       "NJjfBxXWu/LEaVrp7VP2T8O7YOxqdwC8aFXrUEM1GGqYFAuZ82CLDzz02Mzhvl5vLMVZiKtmWy1x\n",
       "0ENgxMHVIZcQ6l3tg2Pfd6wHWwjg/TVuSY//GVIq9Q9LBZZkHoDSNhM84Ao8rgI8nIvj/X58Eh5A\n",
       "C9+RyN4aXQD9Gh5u6E3QUey1BqfCKoIFVj1E1o51KiKGIGjfP6lWc+uQvrAu4bz3P/se2GyFxwK+\n",
       "hZo28UT1qUOXFRLGvipXL1Gt8Fhg7srpH/+6HaJHijBuSr3COwdqVrUONVSDoYZJ0ZCRCWy/RcNM\n",
       "00OP3Rzm627T5c/APoutljjoITDFwc0hlxDqXe2DY19cgn/CmMJDJuGI0G3uLgLdWB8rXQnB4Xx+\n",
       "HYHHj46Z4YHv9GqATjWMemJnoZMEJZRRyNuIjMPaAgSLFFfsjbOI32GpIt2b1eHh0oqYLTDmtFXk\n",
       "tBOx/0bTJnLBGyqTVeeXzSSE1NCQuV2qXzpDPeuaNW5t3SGhEIbKUrvlUp2/jRvx82IC3W6Jle6T\n",
       "lAxbPaSvmuGB9BtQjkMSc/RUBRby9JwsVe2YqRJ4IK6kq/QzTYJsQ6YqxSpZJq5a5NVq+lVoJr4x\n",
       "J2b6XgNqIhcdTZ8zPDBkADsdz4dmqkc9R3h4OCQWQjWcTUOczDNkHR4jCdhYiI6SKfBmnJUuXgR3\n",
       "MnjAkB0eiyE6ASMbiIKRTBBPgiN0nnfnlIkjIOUYru4mzWz6D4b6zFV8+dmvEaQewdzDpZWS9Qd9\n",
       "Id+IEy28124yZeRc6VzhwUKmOK8njR/0hfQoo+VzhIeHQ0Ih7IbADSo9fNLbzwY8QjtguSblSF6y\n",
       "bDsrrdbgEEGg9Is0hMAGj2MAJM14tbSxkMxELiVwIknZaxsLgVx8cgjnPMXVzdv5L/Ikt1hlqlLA\n",
       "YEYaXF2AAbdWSo9wpvRY7xqRlXGH7Y29fELgTwIWQ1IN/rDJLwVialjIQk49eozF9MDXm1ydC8XB\n",
       "3SGxEC6G8KtA39+dZtORNEfppfw626U6o2QNOnr+NFxbrkV73q0ROEXvep1Ugj1PrdgA4TTFFSi/\n",
       "z99Gpa+hf0SlVzGUWfrXSB8Pfy/t0sqDWWZ8ftEul2ebzjcnEipjCzyCBWfJ8ZsL799nxZFmrsSc\n",
       "uJqn85PM8JBdSh7wUHIWHLGvBqi2zIf1QoSHP1X1/3N5zoIj2QKqzHxYLxBaUm3xXcreh694bT6u\n",
       "Fw59Borc5PiSTjRrAAAAAElFTkSuQmCC\n",
       "\" style=\"display:inline;vertical-align:middle;\" /></a><br>"
      ],
      "text/plain": [
       "leftwardCommutation: forall_{l, m, n in Naturals} [forall_{(a, b, c, d) in Complexes^{l} * Complexes^{m} * Complexes * Complexes^{n}} ((a_1 *  ...  * a_l * b_1 *  ...  * b_m * c * d_1 *  ...  * d_n) = (a_1 *  ...  * a_l * c * b_1 *  ...  * b_m * d_1 *  ...  * d_n))]"
      ]
     },
     "execution_count": 34,
     "metadata": {},
     "output_type": "execute_result"
    }
   ],
   "source": [
    "leftwardCommutation = Forall((l, m, n),Forall((aa,bb,c,dd), Equals(Mult(iter_a1l, iter_b1m, c, iter_d1n), Mult(iter_a1l, c, iter_b1m, iter_d1n)), \n",
    "                                               domains = [Exp(Complexes, l), Exp(Complexes,m), Complexes, Exp(Complexes, n)]), \n",
    "                              domain = Naturals)"
   ]
  },
  {
   "cell_type": "code",
   "execution_count": 35,
   "metadata": {},
   "outputs": [
    {
     "data": {
      "text/html": [
       "<strong id=\"association\"><a class=\"ProveItLink\" href=\"_proofs_/association.ipynb\">association</a>:</strong> <a class=\"ProveItLink\" href=\"__pv_it/42559e5c1109cba86adf81bac08603659f416f800/expr.ipynb\"><img src=\"data:image/png;base64,iVBORw0KGgoAAAANSUhEUgAAA+4AAAAaBAMAAADbIRsfAAAAMFBMVEX///8QEBC6urrMzMxUVFRm\n",
       "ZmZERETc3NwyMjKqqqp2dnaIiIiYmJgiIiLu7u4AAAAU9Wx4AAAAAXRSTlMAQObYZgAACJhJREFU\n",
       "aN7tWmuMW8UVPr5+rh93I4ISEIJ1WhKBKOWWR7SFH7FAVatWwIqQHyGlOK1kHmlYI63YiNCsAUHC\n",
       "K7bUUiGlEQaFhojQuKWKKgjFSliKFmgWESJEa9ZIKIogYTdZsgnJgjnzsGfuw8zYaySC9kjHvnf8\n",
       "zZ1z5jtz5nENoC+rK1mYle+BGJUPWoGPzvbY90UGoNoK7+a3ZcdFXNuT2pedAikknvQYPKWZuN1d\n",
       "0xhNNpCXDbqymyvyTp/4pibvCdpwqeO0+1NM25TezzsFUslSd9HlM3Lbn9dw2w5a2n6DQYsp8r6N\n",
       "3G/U5D1awK9IteO8k0fO4LG+6U6BlIa6izbOzO2esgbQBorMwP4c1wG4Gz/DaU3eKfDuzqf5l7m2\n",
       "KUPHOwVSJvqisyRWmpHb4ZrGWtkOctugLyNcB2jMBQu66zoS3Ms7z/t5XNuUvXM6BVKJ6XqIrzoj\n",
       "t+NHdKLtyDfboC8fcR2A+NbBwT9or+dHBgcHO7+sN3JMIVb532o13IW6fv991ylreYP+fO7/1Q1K\n",
       "oNudv11APl6p7NToFSeKuBz48rYzlZHjAEk2dK2sqOcJCRQqMB0AmMpkPtDmvTuTWV3sOO/BIlNz\n",
       "LBlRx78b1bPeVC/WPUGhk7DDUtWUQc86f7wJ9fBRyKsHoQtFXPadyI4rQ8YBkmzoL0YnlQ1LoGgf\n",
       "U+T9GoBbtXkPWBDSOrzpLbfAe6TM9SREp9RoJ4pMf2Oqqcob1J8K15T7Ihn0JCVsAxW6yH4MNV+E\n",
       "HeolkgtFXMZVR+ILjaWJDHpSROTnMHRUGbYSqCvHFHk/H8wcmNdXtXg3UnCQdKLHGOmyN2a1wLsv\n",
       "yXTvcYicwm0L653PPIY6sZKhuMUE1IWjv1aCxQLiEAlkf1QXBgMO2MXN2mM1GYjJAifiDJx+EZAv\n",
       "gcIAjvr4qwaIuPzUHOg+pfKYgcBmA/vhOEkaqtoUxKeWOUyR9wTEMO4ubrZ1fPAG+PtvGryj7sLP\n",
       "exorjlpjXPtt+d/XSp7vTjLNj0L3JPhvpDnNK3XTbMdQzGIKCk7haC5fca2AOLwXIMejIrQNVtOr\n",
       "PVoWkX9Y4oQcZYCaBQoDOMoYbYCIy7ekYWha5TEFOWyodwXo9Jegc4Ip8h4rJ6oe8xaRT5f9Gl6P\n",
       "VqNVwfsu+BA/Rbq6RYzrZ+pevrHlvZLY7NHb4U2v/Wi5q8jJe60PlqBRXcyPeR7LUdIwRz3bACVO\n",
       "0cG0WUAc3S6B7I/qPkavNzdrj5ZxUHPeEeCv1R/T1ACOIrNrvXV0eaxE8pfCYway21DvCtDpLy/e\n",
       "zdzlfJpyrZt/u+4zeKvUJ/N+kByrdYl8OSbgB3mkXHYn9BZHGsX0dlPal1zoKmokhwJTHI+v5nZz\n",
       "P5ofuDKUsNg3CaET9W5vOpcwkCPRTAvem2cj+cCH5thghQol+GwKiJ2IJ9WPIaiIyDnE5R4L+nMq\n",
       "jxkI3HMNS2Dq/hJbCJHn4dar8YOEU3zFRVtiOy1+BTBMkHv+uFbmPTSAQSqWdqbUlbjmo5HynxIY\n",
       "RfLMC/FBFrsNWIfpyaCtaE1jMVBm2pOE/r71Nj9I0/StgHg1wFFiAESOw/ikjT2zXlW8fmCg4X+8\n",
       "lHr5dw1cAik1Cp41TQeI1MSbN5y9+nvk7yiEjkWyCgM4qlvkHOJyPmti8ld4TEGCHWHDWJl0qWft\n",
       "qh3EGIV4jinh/Qms5icbjEOXlBOpeIpfWfRAD/ZED10p8d51M5u8zWszZE9rHNnwAPnpk/2PkJMr\n",
       "EinGT9G27Idlehw0zG8T8ASMOot2/dixu3i1GK29aIt+OmnRWUpMmwzlF1ui+LSZL9h4J2BaVUx6\n",
       "FGTunoZ98JpYi06B+XTWs6Zoj4LWYc13vfZxWBDDfd6pXpUBHPUTASIu7y0f/AJUHlOQYEfY8FQa\n",
       "PpnvWVua7SmIMSrv48CHWTtGcta6f0G3RecfcpVlC7U9UNwi8Q7nkE0awF3pKEl/0ZOwkjRXqebJ\n",
       "Wp+evRwi8BUkrJfH+/jtARztqyxH0Ug9AZG1DtFY5dEDZ2Vtfsyrz1Ji2mSomDSNvv3ONfZsTcC0\n",
       "qjTpEVD40xxMytxdcNb7f/OuKU3TBERqkgxzv5N3srx85f1/r1yvNIChdkpJF/2MV860QOUxBQl2\n",
       "hA3GfY8/UvWsLbVLQZRRzHpJpoT3OLIQojP2rzAaIwV2tQD8+zOZVcj7vYdl3v8LZOsH/VaQdEPk\n",
       "K+jHxwUmYQX4czRSGKvsYOJnttsmRSjzufIBpnMiGHKdi2/WqBUoYZ54uL2aZF70OKfNtvQYWOVw\n",
       "W9/jOjsuGzRrL7Cd03LrLyOfczEahwx2tcwwU2y8G1fJvBP5E5hHIDFBFiuj0EO+iCnIO4kU4weN\n",
       "JX4MpwLptkmR9LqgBT+Yxa2y57Ni6fBEsq2awb4kREvf8KZGi/e5lt1tfY/r7Lhs0Ky9DOs+D0zr\n",
       "vI/HYE02PIFR8XqUXc39Ifyc8Q4jTt4XQXgKxu/E9sdTfnJ0Nk5SkpFmkXIdlrNBMBwoyLdNisD5\n",
       "HlbLD7S4DfaGcNzG08W2avouteiexSEbW3qMOVGyu63tcZ0dtw2atZFRMwdUG7wHtsGSspHGpcvi\n",
       "rezqpjIcwHFhPJSEADh4PwwwD3ZsL67JJlKh+RgniVEIWhj5NFKu2MpfTuJUvly6bVJErUoxZTfP\n",
       "HdN4txnY5ii4J79CXWsRJCz/Hdm2aga3A3PQLgMtPQZ+WbC7re1xnR2XDbq1kdEAmZOzstEoZdfV\n",
       "XzOrHOe0fGdThd4N/9xfXVIOb9hXxTgJ/+K2RyGYpJEC5guZqylsIf1zR+O2SRGVtVy/4xLzOH0O\n",
       "z+AF/NoO2aArL3KVefdn3Veu83nedMEeIOwr4o6UWfmOisR73OOqCe9m2hYg/GvTbHeejryrpdL4\n",
       "//xfbAHCv1Kz3XmaiFHZ117FuMccE63OdujpI18DMQVy9v6hCz0AAAAASUVORK5CYII=\n",
       "\" style=\"display:inline;vertical-align:middle;\" /></a><br>"
      ],
      "text/plain": [
       "association: forall_{l, m, n in Naturals} [forall_{(a, b, c) in Complexes^{l} * Complexes^{m} * Complexes^{n}} ((a_1 *  ...  * a_l * b_1 *  ...  * b_m * c_1 *  ...  * c_n) = (a_1 *  ...  * a_l * (b_1 *  ...  * b_m) * c_1 *  ...  * c_n))]"
      ]
     },
     "execution_count": 35,
     "metadata": {},
     "output_type": "execute_result"
    }
   ],
   "source": [
    "association = Forall((l,m,n), Forall((aa,bb,cc), Equals(Mult(iter_a1l, iter_b1m, iter_c1n), \n",
    "                                                        Mult(iter_a1l, Mult(iter_b1m), iter_c1n)),\n",
    "                                     domains = [Exp(Complexes,l), Exp(Complexes,m), Exp(Complexes,n)]),\n",
    "                     domain=Naturals)"
   ]
  },
  {
   "cell_type": "code",
   "execution_count": 36,
   "metadata": {},
   "outputs": [
    {
     "data": {
      "text/html": [
       "<strong id=\"disassociation\"><a class=\"ProveItLink\" href=\"_proofs_/disassociation.ipynb\">disassociation</a>:</strong> <a class=\"ProveItLink\" href=\"__pv_it/fb95aa84df84c9d5b106edc1ddca2dedff05a4b00/expr.ipynb\"><img src=\"data:image/png;base64,iVBORw0KGgoAAAANSUhEUgAAA+4AAAAaBAMAAADbIRsfAAAAMFBMVEX///8QEBC6urrMzMxUVFRm\n",
       "ZmZERETc3NwyMjKqqqp2dnaIiIiYmJgiIiLu7u4AAAAU9Wx4AAAAAXRSTlMAQObYZgAACJNJREFU\n",
       "aN7tWn2MG8UVf15/nj/2TgUloKqNQxtERWm35UMH/SMWqGolBJxK80eStjggHbQQzkgWF/GRM1Rt\n",
       "UijxSS0VUkCYKjRE0MZtqqgqAayEo+igzVUNEQJMzD9RBAmX5MglJAfuezNj78zuOrPeuBVB96Sx\n",
       "d8a/N/Pe/N58rgH8y+p6AeblcyBG/a1u4FPzPfZ5kSI0uuHd/F/ZcbFIQQO4Cs1PfOAU0M7g7aWz\n",
       "njYElP7mVI9AOtnZcrvIB/FrPnnPMKerPac9nOMpqFwGMPiRD5wCilrBG7zR04ag3pdzPQLphFxm\n",
       "bhdhC+U3+OQ9OY5fiUbPeacqz6RatD805wOngkpnYLCnDUFlUa1XIJ2URCrC3fgZz/vknQHv7v00\n",
       "/7xIASWFM9DYcR9AFTR5BhN9xcuGgBJvFnoE0sqkSEU2zKLjfvd1FNTLe8/7l0UKKCH0YfeAD6AK\n",
       "ei94i+aAlw1Bg+hIr0BaeU+kIqQ3j47e73s/Pzk6Otr7bb1R4glS9bdX+xjeTtRFmG7Y+8D1Wk0V\n",
       "FJPC/XdfekffsAT6qfM3sgFeqG+f6t7+yCe3nauNGm9Q36q6fvqXQOQypSLA7PDwW7557x8eXl3p\n",
       "Oe/RCk/mvmxCH9Zu1Apa/taZ+h29CkoO2SFwErZqt3ky6Gnnj2TDoaNQHuje/tCJwrQ2XLxBI5Xk\n",
       "jLZBCUQuU0LerwG41TfvEQtivtaZwW52IYmaSCchOatHu1C/5svfPt1y5QD12Ru7kVy8mdX2nwR6\n",
       "jMXreiY5YQOUK7A13739uOvIfOxja+IGxT6CsaPacJVA5DIl5P2rYJbAvKHhi3cjBweoAz3GRp/a\n",
       "WDeHpFCWp93HIXEKjyy87z70GCpkJUcJixnoC9g6jqBmFa6wYQ4hoAC1l5eB9g8YEDhgNdocxGWx\n",
       "E4E2pBFQruqqUexnoCcHoP+UzmsOchYep3lSp8lAtsuUkPcMpHCoXdLp2PiLH8Cff9LmHdMO/Lyn\n",
       "vdtotsd1WJn/Q11dXGR5Kk9B/wyEf8jmM69pm810HMUt5iCM5ugsjuba5dfZMEcPEJCDbN8Ot35I\n",
       "sGo02gnZoKVOyFEOaFq6ahT7GeimPIzN6bxmII+uAD/9pbhMCXlP1TINj/WK5INlP4JXko1kw+Z9\n",
       "B7yLn/ZkdpM9rn/f8u7VTW9U7cMey05sfPnry11FTt6bQ7AUjerjfizw2I5SwwL1tA3CPs+cYsPt\n",
       "CRvm6HICCpDKO/3Qf4wVnF5bgDrzjoBwU1uNYj8D7avSHKDxmoPcXQF++suLd7N0mVieXPvOm9d+\n",
       "CK9Xh2TeD9C1Wp89V+6z4QdEpFx6JwxW7LMxy27Mh7JLXEXtyWGcJxyLL5V2Cj86X7ZylGTx+ag+\n",
       "A7ETrS7vuJ5wkDrPs8Cbk3jvOCvJw43N89E6k7ywAQGpE+msphq3/YssGCnpvOYgd1Vt3k/XnuKy\n",
       "mOfh1qvxg0IpvfLiTantlngCmCDkrt/cK/MeK+K4tLd2ptSNuOdjkfKPKhgVqvNrWJHFsxHrELsZ\n",
       "VIrWtDcDNZ4WZWFkaJ3iB1sEofXBe4CjpOC/A+fY4zA9ozBnttTtVxAcNPGXv+eev4W8bPdjBik1\n",
       "xj217XY5iLQx86qzd9GG0FGIHUsUXNWYihFu+8sFE5cHjdcMZDMkRl2NutRTs6GCOKPM5TTf18Gj\n",
       "qBam0D/4zVoml86JJ4vfY+5KHrxK4r3vx3zxNq8bprOscWT9z+mn9/c+RDdWFCnGlWhX4d0auw6a\n",
       "ENkMPApTzqId33CcLl6qJJvblMhnixZbpezlkqPC0oEJp8z0nFkeV3gnBaZuL3wMZO6cgz3wsnKO\n",
       "65sF86mCp7bdLgOtRe3/eJ3jsCCF57xTgy4j7Lo62L+7duBj0HnNQDZDXJ7Mw/sLPTWl9hiIMyqf\n",
       "4yCEs3aK5qq1f4N+i3UGPRX4Rm0XVDZJvMMX6ZAGcFc+SdNe8iSsoubqjTLt9dndy0GCr6QpYXl6\n",
       "SGT342i/3XIUTbYmIGOKp1T94f3nFRQ/FrRWKXu55KiUtHzSFumf/75GnalJgalLCx+B4h+UYIbx\n",
       "lrBPbhed9+afvLWlZZpApE0j9UEn72TDC2++uGqdqxq7rg72p+vnWqDzmoFshkTHPfDIQw1PTak9\n",
       "BmKMcpcpEe9pZCHGVuxr4VuQGOdPiyG8d3j4duT9vkMy7/8COvrBiBUl9xOfwghWF5mBlRAusUjh\n",
       "rPL7mO8q2Q5FKAtFEgPLz41gTLoPD7XXnSd8aEaqONZ+5XVP60+b1kePe9pCV9Uo9vv32maoe83F\n",
       "yj2tsPpS+jwHtsOYwZ+WGWaOj3fjOzLvJL8F8whkaDfcPwWL6Iu6AXmnSDEuaK8/KVwKpGyHIul1\n",
       "QRd+cIudb0n8dHnISuXjhzHonw3Ce8iKDmUhWT3NmxpfvMv2+/faZqh7zWUGd/lZiffpFKwpxA9j\n",
       "VLyS5E/nfAW+x3mHSSfvF0J8FqbvRN+nc2G6epqm6cjI80i5Hst58E9ExuVshyJwvof15QdabMuG\n",
       "brp8DMdsOl+h66oAvI9B6NsWO7s4ZEN3vCv2+/W6xVAgTWSUXGZut3iPbIGlNSOPW5YrNvOnFTXY\n",
       "j2PC+GUWIuDg/RDAAtj6XGVNIZOLLcQ4yUxB1MKIZ5Fy+WbxUhKX8uVStkMRsyrHE888c8zHO83I\n",
       "FinTcuOe8kq95oWQscI/K0DEeeHsUzv6HHBHVSl2VY1qv1+vWwwF0kRGyWXmdlH6qeZ6+gOu7+o9\n",
       "rTjRNGBw/V/3NpbW4uv3NDBO4t+/7WGIZlmkgPnH4asZbAn7c0c726GIyb0iBZR4kJff24K3l7J6\n",
       "ZMP/Wba13JZ4DxfcT677eeH2uBog/CvhjpR5+YyKxHva46kD72ZeCRDxtXG+O89G3vVSb/9//nEl\n",
       "QMRXbr47zxIx6nuCKaY91rdkY75Dzx75L0/uddXqeVBBAAAAAElFTkSuQmCC\n",
       "\" style=\"display:inline;vertical-align:middle;\" /></a><br>"
      ],
      "text/plain": [
       "disassociation: forall_{l, m, n in Naturals} [forall_{(a, b, c) in Complexes^{l} * Complexes^{m} * Complexes^{n}} ((a_1 *  ...  * a_l * (b_1 *  ...  * b_m) * c_1 *  ...  * c_n) = (a_1 *  ...  * a_l * b_1 *  ...  * b_m * c_1 *  ...  * c_n))]"
      ]
     },
     "execution_count": 36,
     "metadata": {},
     "output_type": "execute_result"
    }
   ],
   "source": [
    "disassociation = Forall((l,m,n), Forall((aa,bb,cc), Equals(Mult(iter_a1l, Mult(iter_b1m), iter_c1n),\n",
    "                                                           Mult(iter_a1l, iter_b1m, iter_c1n)),\n",
    "                                        domains = [Exp(Complexes,l), Exp(Complexes,m), Exp(Complexes,n)]),\n",
    "                        domain=Naturals)"
   ]
  },
  {
   "cell_type": "code",
   "execution_count": 37,
   "metadata": {},
   "outputs": [
    {
     "name": "stdout",
     "output_type": "stream",
     "text": [
      "Theorems may be imported from autogenerated _theorems_.py\n"
     ]
    }
   ],
   "source": [
    "%end theorems"
   ]
  }
 ],
 "metadata": {
  "kernelspec": {
   "display_name": "Python 3",
   "language": "python",
   "name": "python3"
  }
 },
 "nbformat": 4,
 "nbformat_minor": 0
}
