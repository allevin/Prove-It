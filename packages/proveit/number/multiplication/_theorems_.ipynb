{
 "cells": [
  {
   "cell_type": "markdown",
   "metadata": {
    "collapsed": true
   },
   "source": [
    "Theorems for context <a href=\"_context_.ipynb\" class=\"ProveItLink\">proveit.number.multiplication</a>\n",
    "========"
   ]
  },
  {
   "cell_type": "code",
   "execution_count": 1,
   "metadata": {},
   "outputs": [],
   "source": [
    "# the context is in the current directory:\n",
    "import proveit\n",
    "context = proveit.Context('.') # adds context root to sys.path if necessary\n",
    "from proveit import Iter, varIter, Indexed\n",
    "from proveit._common_ import AA,BB,CC,a, b,i,j,k, l, m, n, x, y, P, S\n",
    "from proveit.logic import Forall, InSet, Equals, NotEquals, Implies, Booleans\n",
    "from proveit.logic._common_ import iterA1m, iterC1n, iterB1n\n",
    "from proveit.number import Mult, Naturals, NaturalsPos, Integers, Reals, RealsPos, Complexes,  Add, Subtract, Sum, num, zero, one, Exp\n",
    "from proveit.number._common_ import ComplexesSansZero\n",
    "from proveit._core_.expression.operation import Function"
   ]
  },
  {
   "cell_type": "code",
   "execution_count": 2,
   "metadata": {},
   "outputs": [
    {
     "name": "stdout",
     "output_type": "stream",
     "text": [
      "Defining theorems for context 'proveit.number.multiplication'\n",
      "Subsequent end-of-cell assignments will define theorems\n",
      "'%end theorems' will finalize the definitions\n"
     ]
    }
   ],
   "source": [
    "%begin theorems"
   ]
  },
  {
   "cell_type": "code",
   "execution_count": 3,
   "metadata": {},
   "outputs": [
    {
     "data": {
      "text/html": [
       "<strong id=\"multAssoc\"><a class=\"ProveItLink\" href=\"_proofs_/multAssoc.ipynb\">multAssoc</a>:</strong> <a class=\"ProveItLink\" href=\"__pv_it/2666e3ec9f40bf70dfb4b94a11189aab7d42ce9b0/expr.ipynb\"><img src=\"__pv_it/2666e3ec9f40bf70dfb4b94a11189aab7d42ce9b0/expr.png\" style=\"display:inline;vertical-align:middle;\" /></a><br>"
      ],
      "text/plain": [
       "multAssoc: forall_{l, m, n in Naturals} [forall_{A, B, C} ((A_1 *  ...  * A_l * B_1 *  ...  * B_m * C_1 *  ...  * C_n) = (A_1 *  ...  * A_l * (B_1 *  ...  * B_m) * C_1 *  ...  * C_n))]"
      ]
     },
     "execution_count": 3,
     "metadata": {},
     "output_type": "execute_result"
    }
   ],
   "source": [
    "multAssoc = Forall((l,m,n),Forall([AA, BB, CC],\n",
    "                  Equals(\n",
    "                        Mult(\n",
    "                                varIter(AA, one, l), varIter(BB, one, m), iterC1n),\n",
    "                        Mult(\n",
    "                                varIter(AA, one, l), Mult(varIter(BB, one, m)), iterC1n)\n",
    "                        )\n",
    "                  ), domain= Naturals)"
   ]
  },
  {
   "cell_type": "code",
   "execution_count": 4,
   "metadata": {},
   "outputs": [
    {
     "data": {
      "text/html": [
       "<strong id=\"multNatClosure\"><a class=\"ProveItLink\" href=\"_proofs_/multNatClosure.ipynb\">multNatClosure</a>:</strong> <a class=\"ProveItLink\" href=\"__pv_it/bb5940c1e5baaaf3d02010a8f8ad9feec5277db80/expr.ipynb\"><img src=\"__pv_it/bb5940c1e5baaaf3d02010a8f8ad9feec5277db80/expr.png\" style=\"display:inline;vertical-align:middle;\" /></a><br>"
      ],
      "text/plain": [
       "multNatClosure: forall_{a, b in Naturals} ((a * b) in Naturals)"
      ]
     },
     "execution_count": 4,
     "metadata": {},
     "output_type": "execute_result"
    }
   ],
   "source": [
    "multNatClosure = Forall((a, b), InSet(Mult(a, b), Naturals), domain=Naturals)"
   ]
  },
  {
   "cell_type": "code",
   "execution_count": 5,
   "metadata": {},
   "outputs": [
    {
     "data": {
      "text/html": [
       "<strong id=\"multNatPosClosure\"><a class=\"ProveItLink\" href=\"_proofs_/multNatPosClosure.ipynb\">multNatPosClosure</a>:</strong> <a class=\"ProveItLink\" href=\"__pv_it/3e6e1e0ee2ee9be64dd2a85f5cc9155ad4e289b90/expr.ipynb\"><img src=\"__pv_it/3e6e1e0ee2ee9be64dd2a85f5cc9155ad4e289b90/expr.png\" style=\"display:inline;vertical-align:middle;\" /></a><br>"
      ],
      "text/plain": [
       "multNatPosClosure: forall_{a, b in NaturalsPos} ((a * b) in NaturalsPos)"
      ]
     },
     "execution_count": 5,
     "metadata": {},
     "output_type": "execute_result"
    }
   ],
   "source": [
    "multNatPosClosure = Forall((a, b), InSet(Mult(a, b), NaturalsPos), domain=NaturalsPos)"
   ]
  },
  {
   "cell_type": "code",
   "execution_count": 6,
   "metadata": {},
   "outputs": [
    {
     "data": {
      "text/html": [
       "<strong id=\"multIntClosure\"><a class=\"ProveItLink\" href=\"_proofs_/multIntClosure.ipynb\">multIntClosure</a>:</strong> <a class=\"ProveItLink\" href=\"__pv_it/33414914d5f6a7d3b3073e72dfb4cd831f38bb840/expr.ipynb\"><img src=\"__pv_it/33414914d5f6a7d3b3073e72dfb4cd831f38bb840/expr.png\" style=\"display:inline;vertical-align:middle;\" /></a><br>"
      ],
      "text/plain": [
       "multIntClosure: forall_{m in Naturals} [forall_{A in Integers} ((A_1 *  ...  * A_m) in Integers)]"
      ]
     },
     "execution_count": 6,
     "metadata": {},
     "output_type": "execute_result"
    }
   ],
   "source": [
    "multIntClosure = Forall(m,Forall(AA, InSet(Mult(iterA1m), Integers), domain=Integers), domain = Naturals)"
   ]
  },
  {
   "cell_type": "code",
   "execution_count": 7,
   "metadata": {},
   "outputs": [
    {
     "data": {
      "text/html": [
       "<strong id=\"multRealClosure\"><a class=\"ProveItLink\" href=\"_proofs_/multRealClosure.ipynb\">multRealClosure</a>:</strong> <a class=\"ProveItLink\" href=\"__pv_it/aac431b41194bfaaccb6df67aaca23c6d5e403700/expr.ipynb\"><img src=\"__pv_it/aac431b41194bfaaccb6df67aaca23c6d5e403700/expr.png\" style=\"display:inline;vertical-align:middle;\" /></a><br>"
      ],
      "text/plain": [
       "multRealClosure: forall_{m in Naturals} [forall_{A in Reals} ((A_1 *  ...  * A_m) in Reals)]"
      ]
     },
     "execution_count": 7,
     "metadata": {},
     "output_type": "execute_result"
    }
   ],
   "source": [
    "multRealClosure = Forall(m, Forall(AA, InSet(Mult(iterA1m), Reals), domain=Reals), domain=Naturals)"
   ]
  },
  {
   "cell_type": "code",
   "execution_count": 8,
   "metadata": {},
   "outputs": [
    {
     "data": {
      "text/html": [
       "<strong id=\"multRealPosClosure\"><a class=\"ProveItLink\" href=\"_proofs_/multRealPosClosure.ipynb\">multRealPosClosure</a>:</strong> <a class=\"ProveItLink\" href=\"__pv_it/fe5dc930ececdf5e7a27adf15ec66b44d97cc0430/expr.ipynb\"><img src=\"__pv_it/fe5dc930ececdf5e7a27adf15ec66b44d97cc0430/expr.png\" style=\"display:inline;vertical-align:middle;\" /></a><br>"
      ],
      "text/plain": [
       "multRealPosClosure: forall_{m in Naturals} [forall_{A in RealsPos} ((A_1 *  ...  * A_m) in RealsPos)]"
      ]
     },
     "execution_count": 8,
     "metadata": {},
     "output_type": "execute_result"
    }
   ],
   "source": [
    "multRealPosClosure = Forall(m ,Forall(AA, InSet(Mult(iterA1m), RealsPos), domain=RealsPos), domain=Naturals)"
   ]
  },
  {
   "cell_type": "code",
   "execution_count": 9,
   "metadata": {},
   "outputs": [
    {
     "data": {
      "text/html": [
       "<strong id=\"multComplexClosure\"><a class=\"ProveItLink\" href=\"_proofs_/multComplexClosure.ipynb\">multComplexClosure</a>:</strong> <a class=\"ProveItLink\" href=\"__pv_it/3b7d500bf0061fd442df97e1f13cb10a081b00800/expr.ipynb\"><img src=\"__pv_it/3b7d500bf0061fd442df97e1f13cb10a081b00800/expr.png\" style=\"display:inline;vertical-align:middle;\" /></a><br>"
      ],
      "text/plain": [
       "multComplexClosure: forall_{m in Naturals} [forall_{A in Complexes} ((A_1 *  ...  * A_m) in Complexes)]"
      ]
     },
     "execution_count": 9,
     "metadata": {},
     "output_type": "execute_result"
    }
   ],
   "source": [
    "multComplexClosure = Forall(m, Forall(AA, InSet(Mult(iterA1m),Complexes), domain=Complexes), domain=Naturals)"
   ]
  },
  {
   "cell_type": "code",
   "execution_count": 10,
   "metadata": {},
   "outputs": [
    {
     "data": {
      "text/html": [
       "<strong id=\"multNotEqZero\"><a class=\"ProveItLink\" href=\"_proofs_/multNotEqZero.ipynb\">multNotEqZero</a>:</strong> <a class=\"ProveItLink\" href=\"__pv_it/23fe120cdf7c31208ac5636fdf07974e602653d40/expr.ipynb\"><img src=\"__pv_it/23fe120cdf7c31208ac5636fdf07974e602653d40/expr.png\" style=\"display:inline;vertical-align:middle;\" /></a><br>"
      ],
      "text/plain": [
       "multNotEqZero: forall_{m in Naturals} [forall_{A in Complexes - {0}} ((A_1 *  ...  * A_m) != 0)]"
      ]
     },
     "execution_count": 10,
     "metadata": {},
     "output_type": "execute_result"
    }
   ],
   "source": [
    "multNotEqZero = Forall(m, Forall(AA, NotEquals(Mult(iterA1m), zero), domain=ComplexesSansZero), domain=Naturals)"
   ]
  },
  {
   "cell_type": "code",
   "execution_count": 11,
   "metadata": {},
   "outputs": [
    {
     "data": {
      "text/html": [
       "<strong id=\"multOne\"><a class=\"ProveItLink\" href=\"_proofs_/multOne.ipynb\">multOne</a>:</strong> <a class=\"ProveItLink\" href=\"__pv_it/e5bd3d95788c106efa441745fa5eef47da5c715b0/expr.ipynb\"><img src=\"__pv_it/e5bd3d95788c106efa441745fa5eef47da5c715b0/expr.png\" style=\"display:inline;vertical-align:middle;\" /></a><br>"
      ],
      "text/plain": [
       "multOne: forall_{x in Complexes} ((1 * x) = x)"
      ]
     },
     "execution_count": 11,
     "metadata": {},
     "output_type": "execute_result"
    }
   ],
   "source": [
    "multOne = Forall(x, Equals(Mult(one, x), x), domain=Complexes)"
   ]
  },
  {
   "cell_type": "code",
   "execution_count": 12,
   "metadata": {},
   "outputs": [
    {
     "data": {
      "text/html": [
       "<strong id=\"multZero\"><a class=\"ProveItLink\" href=\"_proofs_/multZero.ipynb\">multZero</a>:</strong> <a class=\"ProveItLink\" href=\"__pv_it/1ad1eb0a2d477bf041e3aa91409f135319fdf8650/expr.ipynb\"><img src=\"__pv_it/1ad1eb0a2d477bf041e3aa91409f135319fdf8650/expr.png\" style=\"display:inline;vertical-align:middle;\" /></a><br>"
      ],
      "text/plain": [
       "multZero: forall_{x in Complexes} ((0 * x) = 0)"
      ]
     },
     "execution_count": 12,
     "metadata": {},
     "output_type": "execute_result"
    }
   ],
   "source": [
    "multZero = Forall(x, Equals(Mult(zero, x), zero), domain=Complexes)"
   ]
  },
  {
   "cell_type": "code",
   "execution_count": 13,
   "metadata": {},
   "outputs": [
    {
     "data": {
      "text/html": [
       "<strong id=\"group\"><a class=\"ProveItLink\" href=\"_proofs_/group.ipynb\">group</a>:</strong> <a class=\"ProveItLink\" href=\"__pv_it/9406750aca009b05fe55e05c019458fa8efb3a240/expr.ipynb\"><img src=\"__pv_it/9406750aca009b05fe55e05c019458fa8efb3a240/expr.png\" style=\"display:inline;vertical-align:middle;\" /></a><br>"
      ],
      "text/plain": [
       "group: forall_{l, m, n in Naturals} [forall_{(A, B, C) in Reals^{l} * Reals^{m} * Reals^{n}} ((A_1 *  ...  * A_l * B_1 *  ...  * B_m * C_1 *  ...  * C_n) = (A_1 *  ...  * A_l * (B_1 *  ...  * B_m) * C_1 *  ...  * C_n))]"
      ]
     },
     "execution_count": 13,
     "metadata": {},
     "output_type": "execute_result"
    }
   ],
   "source": [
    "group = Forall((l,m,n), Forall((AA,BB,CC),Equals(Mult(Iter(i, Indexed(AA,i), one, l), Iter(j,Indexed(BB,j),one,m), Iter(k, Indexed(CC,k),one,n)),Mult(Iter(i, Indexed(AA,i), one, l), Mult(Iter(j,Indexed(BB,j),one,m)), Iter(k, Indexed(CC,k),one,n))), domains = [Exp(Reals,l), Exp(Reals,m), Exp(Reals,n)]),domain = Naturals)"
   ]
  },
  {
   "cell_type": "code",
   "execution_count": 14,
   "metadata": {},
   "outputs": [
    {
     "data": {
      "text/html": [
       "<strong id=\"distributeThroughSum\"><a class=\"ProveItLink\" href=\"_proofs_/distributeThroughSum.ipynb\">distributeThroughSum</a>:</strong> <a class=\"ProveItLink\" href=\"__pv_it/f832a8e02711859b03e276ec88b0217fce0d7b5a0/expr.ipynb\"><img src=\"__pv_it/f832a8e02711859b03e276ec88b0217fce0d7b5a0/expr.png\" style=\"display:inline;vertical-align:middle;\" /></a><br>"
      ],
      "text/plain": [
       "distributeThroughSum: forall_{l, m, n in Naturals} [forall_{A, B, C in Complexes} ((A_1 *  ...  * A_l * (B_1 +  ...  + B_m) * C_1 *  ...  * C_n) = ((A_1 *  ...  * A_l * B_1 * C_1 *  ...  * C_n) +  ...  + (A_1 *  ...  * A_l * B_m * C_1 *  ...  * C_n)))]"
      ]
     },
     "execution_count": 14,
     "metadata": {},
     "output_type": "execute_result"
    }
   ],
   "source": [
    "distributeThroughSum =  Forall((l,m,n),Forall((AA, BB, CC),\n",
    "                  Equals(\n",
    "                        Mult(varIter(AA, one,l), Add(varIter(BB, one, m)), iterC1n),\n",
    "                        Add(Iter(i,Mult(varIter(AA, one,l), Indexed(BB, i), iterC1n), one, m))\n",
    "                        ),\n",
    "                  domain = Complexes\n",
    "                  ), domain = Naturals)"
   ]
  },
  {
   "cell_type": "code",
   "execution_count": 15,
   "metadata": {},
   "outputs": [
    {
     "data": {
      "text/html": [
       "<strong id=\"distributeThroughSubtract\"><a class=\"ProveItLink\" href=\"_proofs_/distributeThroughSubtract.ipynb\">distributeThroughSubtract</a>:</strong> <a class=\"ProveItLink\" href=\"__pv_it/69b70a2d193c55f96fe7c381323798e8f7475c170/expr.ipynb\"><img src=\"__pv_it/69b70a2d193c55f96fe7c381323798e8f7475c170/expr.png\" style=\"display:inline;vertical-align:middle;\" /></a><br>"
      ],
      "text/plain": [
       "distributeThroughSubtract: forall_{m, n in Naturals} [forall_{A, x, y, B in Complexes} ((A_1 *  ...  * A_m * (x + (-y)) * B_1 *  ...  * B_n) = ((A_1 *  ...  * A_m * x * B_1 *  ...  * B_n) + (-(A_1 *  ...  * A_m * y * B_1 *  ...  * B_n))))]"
      ]
     },
     "execution_count": 15,
     "metadata": {},
     "output_type": "execute_result"
    }
   ],
   "source": [
    "distributeThroughSubtract =  Forall((m,n), Forall((AA, x, y, BB),\n",
    "                  Equals(\n",
    "                        Mult(iterA1m, Subtract(x, y), iterB1n),\n",
    "                        Subtract(Mult(iterA1m, x, iterB1n), Mult(iterA1m, y, iterB1n))\n",
    "                        ),\n",
    "                  domain = Complexes\n",
    "                  ), domain = Naturals)"
   ]
  },
  {
   "cell_type": "code",
   "execution_count": 16,
   "metadata": {},
   "outputs": [
    {
     "data": {
      "text/html": [
       "<strong id=\"distributeThroughSummation\"><a class=\"ProveItLink\" href=\"_proofs_/distributeThroughSummation.ipynb\">distributeThroughSummation</a>:</strong> <a class=\"ProveItLink\" href=\"__pv_it/2bc999396c35f3bc4ce7d61a6b480a81a114ccbb0/expr.ipynb\"><img src=\"__pv_it/2bc999396c35f3bc4ce7d61a6b480a81a114ccbb0/expr.png\" style=\"display:inline;vertical-align:middle;\" /></a><br>"
      ],
      "text/plain": [
       "distributeThroughSummation: forall_{l, m, n in Naturals} [forall_{P, S} ([forall_{B in S} (P(B_1,...,B_m) in Complexes)] => [forall_{A, C in Complexes} ((A_1 *  ...  * A_l * [Sum_{B_1,...,B_m in S} P(B_1,...,B_m)] * C_1 *  ...  * C_n) = [Sum_{B_1,...,B_m in S} (A_1 *  ...  * A_l * P(B_1,...,B_m) * C_1 *  ...  * C_n)])])]"
      ]
     },
     "execution_count": 16,
     "metadata": {},
     "output_type": "execute_result"
    }
   ],
   "source": [
    "distributeThroughSummation = Forall((l,m,n), Forall((P, S),\n",
    "                                    Implies(Forall(BB, InSet(Function(P, varIter(BB, one,m)), Complexes), domain=S),\n",
    "                                            Forall((AA, CC),\n",
    "                                                   Equals(Mult(varIter(AA, one, l), Sum(varIter(BB, one, m), Function(P, varIter(BB, one,m)), domain=S), iterC1n),\n",
    "                                                          Sum(varIter(BB, one, m), Mult(varIter(AA, one, l),Function(P, varIter(BB, one,m)) , iterC1n), domain=S)),\n",
    "                                                  domain=Complexes))), domain=Naturals)\n"
   ]
  },
  {
   "cell_type": "code",
   "execution_count": 17,
   "metadata": {},
   "outputs": [
    {
     "name": "stdout",
     "output_type": "stream",
     "text": [
      "Theorems may be imported from autogenerated _theorems_.py\n"
     ]
    }
   ],
   "source": [
    "%end theorems"
   ]
  }
 ],
 "metadata": {
  "kernelspec": {
   "display_name": "Python 3",
   "language": "python",
   "name": "python3"
  },
  "language_info": {
   "codemirror_mode": {
    "name": "ipython",
    "version": 3
   },
   "file_extension": ".py",
   "mimetype": "text/x-python",
   "name": "python",
   "nbconvert_exporter": "python",
   "pygments_lexer": "ipython3",
   "version": "3.7.3"
  }
 },
 "nbformat": 4,
 "nbformat_minor": 1
}
