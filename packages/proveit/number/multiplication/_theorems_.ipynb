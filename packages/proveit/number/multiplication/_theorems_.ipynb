{
 "cells": [
  {
   "cell_type": "markdown",
   "metadata": {
    "collapsed": true
   },
   "source": [
    "Theorems for context <a href=\"_context_.ipynb\" class=\"ProveItLink\">proveit.number.multiplication</a>\n",
    "========"
   ]
  },
  {
   "cell_type": "code",
   "execution_count": 1,
   "metadata": {},
   "outputs": [
    {
     "ename": "ImportError",
     "evalue": "cannot import name 'xMulti' from 'proveit._common_' (/Users/warrencraft/Desktop/Prove-It/packages/proveit/_common_.py)",
     "output_type": "error",
     "traceback": [
      "\u001b[0;31m---------------------------------------------------------------------------\u001b[0m",
      "\u001b[0;31mImportError\u001b[0m                               Traceback (most recent call last)",
      "\u001b[0;32m<ipython-input-1-a9e9487a0107>\u001b[0m in \u001b[0;36m<module>\u001b[0;34m\u001b[0m\n\u001b[1;32m      5\u001b[0m \u001b[0;31m#from proveit._common_ import a, b, x, y, P, S, vMulti, wMulti, xMulti, yMulti, zMulti, vEtc, wEtc, xEtc, yEtc, zEtc, PyEtc\u001b[0m\u001b[0;34m\u001b[0m\u001b[0;34m\u001b[0m\u001b[0;34m\u001b[0m\u001b[0m\n\u001b[1;32m      6\u001b[0m \u001b[0;31m# temporarily re-established:\u001b[0m\u001b[0;34m\u001b[0m\u001b[0;34m\u001b[0m\u001b[0;34m\u001b[0m\u001b[0m\n\u001b[0;32m----> 7\u001b[0;31m \u001b[0;32mfrom\u001b[0m \u001b[0mproveit\u001b[0m\u001b[0;34m.\u001b[0m\u001b[0m_common_\u001b[0m \u001b[0;32mimport\u001b[0m \u001b[0ma\u001b[0m\u001b[0;34m,\u001b[0m \u001b[0mb\u001b[0m\u001b[0;34m,\u001b[0m \u001b[0mxMulti\u001b[0m\u001b[0;34m\u001b[0m\u001b[0;34m\u001b[0m\u001b[0m\n\u001b[0m\u001b[1;32m      8\u001b[0m \u001b[0;32mfrom\u001b[0m \u001b[0mproveit\u001b[0m\u001b[0;34m.\u001b[0m\u001b[0mlogic\u001b[0m \u001b[0;32mimport\u001b[0m \u001b[0mForall\u001b[0m\u001b[0;34m,\u001b[0m \u001b[0mInSet\u001b[0m\u001b[0;34m,\u001b[0m \u001b[0mEquals\u001b[0m\u001b[0;34m,\u001b[0m \u001b[0mNotEquals\u001b[0m\u001b[0;34m,\u001b[0m \u001b[0mImplies\u001b[0m\u001b[0;34m\u001b[0m\u001b[0;34m\u001b[0m\u001b[0m\n\u001b[1;32m      9\u001b[0m \u001b[0;32mfrom\u001b[0m \u001b[0mproveit\u001b[0m\u001b[0;34m.\u001b[0m\u001b[0mnumber\u001b[0m \u001b[0;32mimport\u001b[0m \u001b[0mMult\u001b[0m\u001b[0;34m,\u001b[0m \u001b[0mNaturals\u001b[0m\u001b[0;34m,\u001b[0m \u001b[0mNaturalsPos\u001b[0m\u001b[0;34m,\u001b[0m \u001b[0mIntegers\u001b[0m\u001b[0;34m,\u001b[0m \u001b[0mReals\u001b[0m\u001b[0;34m,\u001b[0m \u001b[0mRealsPos\u001b[0m\u001b[0;34m,\u001b[0m \u001b[0mComplexes\u001b[0m\u001b[0;34m,\u001b[0m  \u001b[0mAdd\u001b[0m\u001b[0;34m,\u001b[0m \u001b[0mSubtract\u001b[0m\u001b[0;34m,\u001b[0m \u001b[0mSum\u001b[0m\u001b[0;34m,\u001b[0m \u001b[0mnum\u001b[0m\u001b[0;34m\u001b[0m\u001b[0;34m\u001b[0m\u001b[0m\n",
      "\u001b[0;31mImportError\u001b[0m: cannot import name 'xMulti' from 'proveit._common_' (/Users/warrencraft/Desktop/Prove-It/packages/proveit/_common_.py)"
     ]
    }
   ],
   "source": [
    "# the context is in the current directory:\n",
    "import proveit\n",
    "context = proveit.Context('.') # adds context root to sys.path if necessary\n",
    "#from proveit import Etcetera\n",
    "#from proveit._common_ import a, b, x, y, P, S, vMulti, wMulti, xMulti, yMulti, zMulti, vEtc, wEtc, xEtc, yEtc, zEtc, PyEtc\n",
    "# temporarily re-established:\n",
    "from proveit._common_ import a, b, xx\n",
    "from proveit.logic import Forall, InSet, Equals, NotEquals, Implies\n",
    "from proveit.number import Mult, Naturals, NaturalsPos, Integers, Reals, RealsPos, Complexes,  Add, Subtract, Sum, num\n",
    "from proveit.number._common_ import ComplexesSansZero"
   ]
  },
  {
   "cell_type": "code",
   "execution_count": null,
   "metadata": {},
   "outputs": [],
   "source": [
    "%begin theorems"
   ]
  },
  {
   "cell_type": "code",
   "execution_count": null,
   "metadata": {},
   "outputs": [],
   "source": [
    "\"\"\"\n",
    "multAssoc = Forall([xMulti, yMulti, zMulti],\n",
    "                  Equals(\n",
    "                        Mult(\n",
    "                                xEtc,yEtc,zEtc),\n",
    "                        Mult(\n",
    "                                xEtc,Mult(yEtc),zEtc)\n",
    "                        )\n",
    "                  )\n",
    "\"\"\""
   ]
  },
  {
   "cell_type": "code",
   "execution_count": null,
   "metadata": {},
   "outputs": [],
   "source": [
    "#multNatClosure = Forall((a, b), InSet(Mult(a, b), Naturals), domain=Naturals)"
   ]
  },
  {
   "cell_type": "code",
   "execution_count": null,
   "metadata": {},
   "outputs": [],
   "source": [
    "# temporarily re-established\n",
    "multNatsClosure = Forall((a, b), InSet(Mult(a, b), Naturals), domain=Naturals)"
   ]
  },
  {
   "cell_type": "code",
   "execution_count": null,
   "metadata": {},
   "outputs": [],
   "source": [
    "#multNatPosClosure = Forall((a, b), InSet(Mult(a, b), NaturalsPos), domain=NaturalsPos)"
   ]
  },
  {
   "cell_type": "code",
   "execution_count": null,
   "metadata": {},
   "outputs": [],
   "source": [
    "#multIntClosure = Forall(xMulti, InSet(Mult(xEtc), Integers), domain=Integers)"
   ]
  },
  {
   "cell_type": "code",
   "execution_count": null,
   "metadata": {},
   "outputs": [],
   "source": [
    "# temporarily re-established\n",
    "multIntClosure = Forall(xMulti, InSet(Mult(xEtc), Integers), domain=Integers)"
   ]
  },
  {
   "cell_type": "code",
   "execution_count": null,
   "metadata": {},
   "outputs": [],
   "source": [
    "#multRealClosure = Forall(xMulti, InSet(Mult(xEtc), Reals), domain=Reals)"
   ]
  },
  {
   "cell_type": "code",
   "execution_count": null,
   "metadata": {},
   "outputs": [],
   "source": [
    "#multRealPosClosure = Forall(xMulti, InSet(Mult(xEtc), RealsPos), domain=RealsPos)"
   ]
  },
  {
   "cell_type": "code",
   "execution_count": null,
   "metadata": {},
   "outputs": [],
   "source": [
    "#multComplexClosure = Forall(xMulti, InSet(Mult(xEtc),Complexes), domain=Complexes)"
   ]
  },
  {
   "cell_type": "code",
   "execution_count": null,
   "metadata": {},
   "outputs": [],
   "source": [
    "#multNotEqZero = Forall(xMulti, NotEquals(Mult(xEtc), num(0)), domain=ComplexesSansZero)"
   ]
  },
  {
   "cell_type": "code",
   "execution_count": null,
   "metadata": {},
   "outputs": [],
   "source": [
    "#multOne = Forall(x, Equals(Mult(num(1), x), x), domain=Complexes)"
   ]
  },
  {
   "cell_type": "code",
   "execution_count": null,
   "metadata": {},
   "outputs": [],
   "source": [
    "#multZero = Forall(x, Equals(Mult(num(0), x), num(0)), domain=Complexes)"
   ]
  },
  {
   "cell_type": "code",
   "execution_count": null,
   "metadata": {},
   "outputs": [],
   "source": [
    "\"\"\"\n",
    "multComm = Forall((vMulti,wMulti,xMulti,yMulti,zMulti),\n",
    "                 Equals(\n",
    "                        Mult(vEtc,wEtc,xEtc,yEtc,zEtc),\n",
    "                        Mult(vEtc,yEtc,xEtc,wEtc,zEtc)\n",
    "    ),\n",
    "                 domain = Complexes\n",
    "                 )\n",
    "\"\"\""
   ]
  },
  {
   "cell_type": "code",
   "execution_count": null,
   "metadata": {},
   "outputs": [],
   "source": [
    "\"\"\"\n",
    "distributeThroughSum =  Forall((xMulti, yMulti, zMulti),\n",
    "                  Equals(\n",
    "                        Mult(xEtc, Add(yEtc), zEtc),\n",
    "                        Add(Etcetera(Mult(xEtc, yMulti, zEtc)))\n",
    "                        ),\n",
    "                  domain = Complexes\n",
    "                  )\n",
    "\"\"\""
   ]
  },
  {
   "cell_type": "code",
   "execution_count": null,
   "metadata": {},
   "outputs": [],
   "source": [
    "\"\"\"\n",
    "distributeThroughSubtract =  Forall((wMulti, x, y, zMulti),\n",
    "                  Equals(\n",
    "                        Mult(wEtc, Sub(x, y), zEtc),\n",
    "                        Sub(Mult(wEtc, x, zEtc), Mult(wEtc, y, zEtc))\n",
    "                        ),\n",
    "                  domain = Complexes\n",
    "                  )\n",
    "\"\"\""
   ]
  },
  {
   "cell_type": "code",
   "execution_count": null,
   "metadata": {},
   "outputs": [],
   "source": [
    "\"\"\"\n",
    "distributeThroughSummation = Forall((P, S),\n",
    "                                    Implies(Forall(yMulti, InSet(PyEtc, Complexes), domain=S),\n",
    "                                            Forall((xMulti, zMulti),\n",
    "                                                   Equals(Mult(xEtc, Sum(yMulti, PyEtc, domain=S), zEtc),\n",
    "                                                          Sum(yMulti, Mult(xEtc, PyEtc, zEtc), domain=S)),\n",
    "                                                  domain=Complexes)))\n",
    "\"\"\""
   ]
  },
  {
   "cell_type": "code",
   "execution_count": null,
   "metadata": {},
   "outputs": [],
   "source": [
    "%end theorems"
   ]
  }
 ],
 "metadata": {
  "kernelspec": {
   "display_name": "Python 3",
   "language": "python",
   "name": "python3"
  },
  "language_info": {
   "codemirror_mode": {
    "name": "ipython",
    "version": 3
   },
   "file_extension": ".py",
   "mimetype": "text/x-python",
   "name": "python",
   "nbconvert_exporter": "python",
   "pygments_lexer": "ipython3",
   "version": "3.7.1"
  }
 },
 "nbformat": 4,
 "nbformat_minor": 1
}
