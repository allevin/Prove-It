{
 "cells": [
  {
   "cell_type": "markdown",
   "metadata": {},
   "source": [
    "Theorems for context <a href=\"_context_.ipynb\" class=\"ProveItLink\">proveit.number.exponentiation</a>\n",
    "========"
   ]
  },
  {
   "cell_type": "code",
   "execution_count": 1,
   "metadata": {},
   "outputs": [],
   "source": [
    "import proveit\n",
    "from proveit._common_ import a, b, x\n",
    "from proveit.logic import Forall, Equals, NotEquals\n",
    "from proveit.number import zero, one, Exp, Complexes\n",
    "# the context is in the current directory:\n",
    "context = proveit.Context('.') # adds context root to sys.path if necessary"
   ]
  },
  {
   "cell_type": "code",
   "execution_count": 2,
   "metadata": {},
   "outputs": [
    {
     "name": "stdout",
     "output_type": "stream",
     "text": [
      "Defining theorems for context 'proveit.number.exponentiation'\n",
      "Subsequent end-of-cell assignments will define theorems\n",
      "'%end theorems' will finalize the definitions\n"
     ]
    }
   ],
   "source": [
    "%begin theorems"
   ]
  },
  {
   "cell_type": "code",
   "execution_count": 3,
   "metadata": {},
   "outputs": [
    {
     "data": {
      "text/html": [
       "<strong id=\"expOne\"><a class=\"ProveItLink\" href=\"_proofs_/expOne.ipynb\">expOne</a>:</strong> <a class=\"ProveItLink\" href=\"__pv_it/aafdfa778eb27f1fafc971abe507d4694db150420/expr.ipynb\"><img src=\"data:image/png;base64,iVBORw0KGgoAAAANSUhEUgAAAH8AAAAVBAMAAACd/CwcAAAAMFBMVEX///8QEBC6urrMzMxUVFRm\n",
       "ZmZERETc3NwyMjKqqqp2dnaIiIiYmJgiIiLu7u4AAAAU9Wx4AAAAAXRSTlMAQObYZgAAAapJREFU\n",
       "OMtjYCAGrHbaYoBL7gE+jUwbwBTXAzfGCdjkDwHxBRDjNA4DTICY7QEDE0MPFsk8BgZWoLtWgth9\n",
       "OAwAivPlg9z4HVPu2T8g0cDAUAak2BOw6+fewMDn4g80gFmAGV3uiQvIgFMMDBxAedYJ2A1gBFm+\n",
       "/wGDPVcDF6bpIAMeMjDwLC8vr8XhAw0GiAHPdkavw24AG9Dqb2lpt3AYEAU1ALv/QAZwBTAwODMw\n",
       "pOMwoAfdgIgOEGhBGMAJDEUVBr4GZF1vunyjoUwhgi5gEmBg4GXgPgAV49saeoDZ7AFzF5T/iaAB\n",
       "zB+AjAO8MCXb1N894KlmYNAiyQC+BhNoaucBhgiD8mRguoCqkUQ3IPYuCFxD9QJDuhM0tXOAxPed\n",
       "Q6jPIegCHlDwTQVmB3Bqt0I3YClR0cjACM5ywNRum5aWtkFJGaFGF4hD5VsPYNPPGvgjBpiOFUDO\n",
       "AFkBSu1PQBIsrxFhwFhAqKB4CGOAUzsLSD1zVAHDbqgozwKCJQ08b4JSO18SiPnqWooCUnbGC1CT\n",
       "IDBIgGGAIlBCwAAWQn5k34BffjMDAwCuKoC7wEpi/AAAAABJRU5ErkJggg==\n",
       "\" style=\"display:inline;vertical-align:middle;\" /></a><br>"
      ],
      "text/plain": [
       "expOne: forall_{x in Complexes} (1^{x} = 1)"
      ]
     },
     "execution_count": 3,
     "metadata": {},
     "output_type": "execute_result"
    }
   ],
   "source": [
    "expOne = Forall([x],\n",
    "               Equals(Exp(one,x),\n",
    "                     one),\n",
    "               domain = Complexes)"
   ]
  },
  {
   "cell_type": "code",
   "execution_count": 4,
   "metadata": {},
   "outputs": [
    {
     "data": {
      "text/html": [
       "<strong id=\"expZeroEqOne\"><a class=\"ProveItLink\" href=\"_proofs_/expZeroEqOne.ipynb\">expZeroEqOne</a>:</strong> <a class=\"ProveItLink\" href=\"__pv_it/a7258a27f97d1e2a129a117f1d4984c2cb279b680/expr.ipynb\"><img src=\"data:image/png;base64,iVBORw0KGgoAAAANSUhEUgAAALEAAAAcCAMAAAAZda7HAAAAOVBMVEX///8oKCgUFBQJCQkQEBC6\n",
       "urrMzMxUVFRmZmZERETc3NwyMjKqqqp2dnaIiIiYmJgiIiLu7u4AAACP9cC6AAAAAXRSTlMAQObY\n",
       "ZgAAAnFJREFUWMPVWIuSoyAQdHdleMnw+P+PPRgFjYEEdc3dTVVSiQG2bXqadofhb5YxKIb/qdAM\n",
       "A+P/NETGHr46iG/Bd+/I5wHDI5+ewLrp5PQPlNePdMKMGPtVREP95xBzu9PIUcSDU+mtfLV4L2A1\n",
       "7ne5G7FceMWkC1NkpG+mW+yNzIdE2fhWx17m7iTlK5kpkDeLYmRPV8gr1Bu8nPPiJ85uqBXTzUYR\n",
       "6n7cQRQWxCKNtkZRubuPi7HW/Cj8EcSWbjvIVO5uf+a6tCBHw0Z14GYL4tleOFA79q/AXqlOtfKC\n",
       "zP5PYGWotKbeFK8ihpDA0snudRuE1YY7sZrQK+UJaOUFvdyDCjYL8jjHKhBdScFon4CiECJeBUhu\n",
       "CNr0IFa8mRfcgpgTu0fOjQ1iH8gfElq3bwCUTHkfr1pFi7MuxKStel7IiIOkIXCF46iIHDKUQCPT\n",
       "YjbrkME0L66qiMuEYb2t+lm2KFOFdH0KlXwg3KZkAzEszPC5m3w8uBX9XGSN3u6X3ixWJnBql5/4\n",
       "wkZe4HKzr9E4JjjlFTNxk1jMmEdmIX0G04e4TBiGtRnqHOMyTMdBU5SIOaMKmy1mXFZPKqG0AY5M\n",
       "WkbCGIM24jJhPv9f5QUWihsjA4msP4+MQYuZDJP3fqGRWkba6Kl+9SbusanjdYKMevj+0qSKRl44\n",
       "1GyN0nuLGX3y6ISfl78HwqiSpvccrxOys7XzAr9+qvonGphAi7QBXpZd8yZKhLOqKtYJa4ht5QW4\n",
       "nlzsy3PHzDqumW51/PSWQnk5HbqTwqoj1u8fQvRVis/+c6OK2HYQOF1T8vlnjvMP4faSLsQHn6J/\n",
       "s/4AzIMdp1KeEAkAAAAASUVORK5CYII=\n",
       "\" style=\"display:inline;vertical-align:middle;\" /></a><br>"
      ],
      "text/plain": [
       "expZeroEqOne: forall_{a in Complexes | a != 0} (a^{0} = 1)"
      ]
     },
     "execution_count": 4,
     "metadata": {},
     "output_type": "execute_result"
    }
   ],
   "source": [
    "expZeroEqOne = Forall([a], Equals(Exp(a, zero), one), domain=Complexes, conditions=[NotEquals(a, zero)])"
   ]
  },
  {
   "cell_type": "code",
   "execution_count": 5,
   "metadata": {},
   "outputs": [
    {
     "data": {
      "text/html": [
       "<strong id=\"exponentiatedZero\"><a class=\"ProveItLink\" href=\"_proofs_/exponentiatedZero.ipynb\">exponentiatedZero</a>:</strong> <a class=\"ProveItLink\" href=\"__pv_it/b5a1cb2e415b25ba5f690dafe58e23e861471d740/expr.ipynb\"><img src=\"data:image/png;base64,iVBORw0KGgoAAAANSUhEUgAAAK8AAAAXCAMAAABK1e9fAAAAOVBMVEX///8oKCgUFBQJCQkQEBC6\n",
       "urrMzMxUVFRmZmZERETc3NwyMjKqqqp2dnaIiIiYmJgiIiLu7u4AAACP9cC6AAAAAXRSTlMAQObY\n",
       "ZgAAAktJREFUSMfFV4u2nCAMtK28SQD//2MLAR8gq9xr7eUcddcNMg6TSXaafm4ACoaCf21S+I8A\n",
       "GVZwwyTUNNvR2Y6ls9+/48twuSCCJKJMpMbljRsgdI2f6Azb+5m3qc4L+Igz+KyCRd/POsSbeGhV\n",
       "7m8f3hpI+4e0oWiI8Dked7MO8Q4OtEr7Mt4500uiYIvmywQRBdzRu8YnacwEWtPwbyebyRKQxOxi\n",
       "g0IrEe5EuMWni0rnRaXh4WW8khbQC+T1B5O7jocEPjug0uNMXWUzPQYA5SnbXLX+mR5pDkO0eOli\n",
       "0x6x9FswnyE4A8LLnZCrxCTPQShPreTLbvBe80sXNq8WjCcnDCiljHc5V1Fj3MAIXk0oyX2WRpkL\n",
       "e66HmKMFq291j4rpEOJdpymUDeElVQWC6m0P75Y/blB8VXzGG7XARVPS3ao/xm22SN3FW/cArJBB\n",
       "eBsGS+HN/mQ7lUL6w1C1n5X4rIfIimBNSd/kjMG11KtODyAoS/7EA6NZ9vAqd/B/GHbPKt5lWFb6\n",
       "LfNzGnMYw1v3ACUJ+vxC2bGkkzCPd2XH+PUZ8/7sTDz3ZMoqksUY/4y36gFC+SHQrbbxYn7tX+BL\n",
       "TeQx3hQr3SksJT3sbiQCXuh3naCiEn7/MqSHidg4KXTWT0tOmJuGby/pYns4l6C3bqXBW/UAentH\n",
       "8t+Ti7jHFRQaiR1KelBbFQsQxSFYTw9VD6DCoRVDGT70kw/oNZcvk/XbM9luvL2lT4tneMU3BdXH\n",
       "awaK1aN/MMinf4jXvd0+P9iXH1z7L38VG+OXHJvkAAAAAElFTkSuQmCC\n",
       "\" style=\"display:inline;vertical-align:middle;\" /></a><br>"
      ],
      "text/plain": [
       "exponentiatedZero: forall_{x in Complexes | x != 0} (0^{x} = 0)"
      ]
     },
     "execution_count": 5,
     "metadata": {},
     "output_type": "execute_result"
    }
   ],
   "source": [
    "exponentiatedZero = Forall([x], Equals(Exp(zero, x), zero), domain=Complexes, conditions=[NotEquals(x, zero)])"
   ]
  },
  {
   "cell_type": "code",
   "execution_count": 6,
   "metadata": {},
   "outputs": [
    {
     "data": {
      "text/html": [
       "<strong id=\"exponentiatedOne\"><a class=\"ProveItLink\" href=\"_proofs_/exponentiatedOne.ipynb\">exponentiatedOne</a>:</strong> <a class=\"ProveItLink\" href=\"__pv_it/aafdfa778eb27f1fafc971abe507d4694db150420/expr.ipynb\"><img src=\"data:image/png;base64,iVBORw0KGgoAAAANSUhEUgAAAH8AAAAVBAMAAACd/CwcAAAAMFBMVEX///8QEBC6urrMzMxUVFRm\n",
       "ZmZERETc3NwyMjKqqqp2dnaIiIiYmJgiIiLu7u4AAAAU9Wx4AAAAAXRSTlMAQObYZgAAAapJREFU\n",
       "OMtjYCAGrHbaYoBL7gE+jUwbwBTXAzfGCdjkDwHxBRDjNA4DTICY7QEDE0MPFsk8BgZWoLtWgth9\n",
       "OAwAivPlg9z4HVPu2T8g0cDAUAak2BOw6+fewMDn4g80gFmAGV3uiQvIgFMMDBxAedYJ2A1gBFm+\n",
       "/wGDPVcDF6bpIAMeMjDwLC8vr8XhAw0GiAHPdkavw24AG9Dqb2lpt3AYEAU1ALv/QAZwBTAwODMw\n",
       "pOMwoAfdgIgOEGhBGMAJDEUVBr4GZF1vunyjoUwhgi5gEmBg4GXgPgAV49saeoDZ7AFzF5T/iaAB\n",
       "zB+AjAO8MCXb1N894KlmYNAiyQC+BhNoaucBhgiD8mRguoCqkUQ3IPYuCFxD9QJDuhM0tXOAxPed\n",
       "Q6jPIegCHlDwTQVmB3Bqt0I3YClR0cjACM5ywNRum5aWtkFJGaFGF4hD5VsPYNPPGvgjBpiOFUDO\n",
       "AFkBSu1PQBIsrxFhwFhAqKB4CGOAUzsLSD1zVAHDbqgozwKCJQ08b4JSO18SiPnqWooCUnbGC1CT\n",
       "IDBIgGGAIlBCwAAWQn5k34BffjMDAwCuKoC7wEpi/AAAAABJRU5ErkJggg==\n",
       "\" style=\"display:inline;vertical-align:middle;\" /></a><br>(alternate proof for <a class=\"ProveItLink\" href=\"#expOne\">expOne</a>)<br>"
      ],
      "text/plain": [
       "exponentiatedOne: forall_{x in Complexes} (1^{x} = 1)"
      ]
     },
     "execution_count": 6,
     "metadata": {},
     "output_type": "execute_result"
    }
   ],
   "source": [
    "exponentiatedOne = Forall([x], Equals(Exp(one, x), one), domain=Complexes)"
   ]
  },
  {
   "cell_type": "code",
   "execution_count": null,
   "metadata": {},
   "outputs": [],
   "source": []
  },
  {
   "cell_type": "code",
   "execution_count": 7,
   "metadata": {},
   "outputs": [
    {
     "data": {
      "text/html": [
       "<strong id=\"expNotEqZero\"><a class=\"ProveItLink\" href=\"_proofs_/expNotEqZero.ipynb\">expNotEqZero</a>:</strong> <a class=\"ProveItLink\" href=\"__pv_it/cfa11ba28f753c9671abc0f571e20bd7feb749750/expr.ipynb\"><img src=\"data:image/png;base64,iVBORw0KGgoAAAANSUhEUgAAALwAAAAcCAMAAADsiyV3AAAAQlBMVEX///8LCwsYGBgNDQ0oKCgU\n",
       "FBQJCQkQEBC6urrMzMxUVFRmZmZERETc3NwyMjKqqqp2dnaIiIiYmJgiIiLu7u4AAABNCf5tAAAA\n",
       "AXRSTlMAQObYZgAAAvdJREFUWMPVWIty2yAQpE1a8Ybj8f+/WjhAFgjZip2RG2aSjAjIe3t3y2JC\n",
       "/pNBtSY/d1jxk9BS2j1q85VI34yd8f45qhc2XzyCDn0eIgAPp7cD4EveBJ67AY0nxM34tPOM+Dzt\n",
       "10cHF2JXyzAh06c7P1m4FaEgAAQrweZA7don+sokiFFbloRJyEmGtm3t00PwiD7EBFe1DUpeWTUL\n",
       "HSZixubuEw+YGShTuLgRLsyVUhN3NUyI0Y+I56W1sQswTc4qHP5K4mHZqb6AiXizrhyiKIEjzQ7j\n",
       "jzIPf6nu80ay4mDpcijxkm1LKNoCHkoCcslwXCDVc3aD3pFyfKW1sD/4ZRVFxC3jvp81js+P/JuP\n",
       "4OufjJtyPDNO2Y3gtOVebET1TpujqOVioDv91qLCcWQuMhPiB/Aq0torBNxk72o3Aggh0grGZMoV\n",
       "0/YMeIWQUdjiqMK+gOfIuT86YIag+7IJpfQzcD8T+WY3QFIVQlrhVCm3U+CxEFGOiTdz8FHiEnbw\n",
       "Bj2UcmtYt2E+lUwzOir1/JqrZjdcqx7KTPmfmoLvNtcIWQE/clvqWCGHJu5NivBp/P7lccheKk3h\n",
       "VNWYpapyGpJjUGuOm91Y2wGC2yXoBn7dzLHZ/qYfqJqwA8/lLfNJeQw7Q3w9pKwnG7knRlSR54lj\n",
       "5ge7wew58P3m2kQHzBcYRKdFJpWQPVHxpJZfWEqkrmnUUl+eywj4YDeYx4MghUIpZcfgu82hzgfk\n",
       "Zxlrnsam8kCZBHqK+GzMLPAKwbaCqIRid0kXVGc3wo0BHuCw5m+bZSqYP58aywYZmFw0Dpt0HebB\n",
       "tVCP2VxC1v4UisphN7vB149mAt01THV+3bzKJGk6v5ck/vBA9/dNbtgRkgyGAxT0LEfNbgS5pjXY\n",
       "VEOdWZL7zXk2bO48IPY4mH+ReHfPBHeHli01P1Xz6Sc/NkrSvER8OfyOPOvZ6/AU/AlPpPTTngm5\n",
       "FWeJ/yp4d+ZqYF6xsd90c3r+Owj3wu1HvOt7g+8b/wDyvilwKAO8vQAAAABJRU5ErkJggg==\n",
       "\" style=\"display:inline;vertical-align:middle;\" /></a><br>"
      ],
      "text/plain": [
       "expNotEqZero: forall_{a, b in Complexes | a != 0} (a^{b} != 0)"
      ]
     },
     "execution_count": 7,
     "metadata": {},
     "output_type": "execute_result"
    }
   ],
   "source": [
    "expNotEqZero = Forall([a, b], NotEquals(Exp(a,b), zero), domain=Complexes, conditions=[NotEquals(a, zero)])"
   ]
  },
  {
   "cell_type": "code",
   "execution_count": 8,
   "metadata": {},
   "outputs": [
    {
     "name": "stdout",
     "output_type": "stream",
     "text": [
      "Theorems may be imported from autogenerated _theorems_.py\n"
     ]
    }
   ],
   "source": [
    "%end theorems"
   ]
  }
 ],
 "metadata": {
  "kernelspec": {
   "display_name": "Python 3",
   "language": "python",
   "name": "python3"
  }
 },
 "nbformat": 4,
 "nbformat_minor": 0
}
