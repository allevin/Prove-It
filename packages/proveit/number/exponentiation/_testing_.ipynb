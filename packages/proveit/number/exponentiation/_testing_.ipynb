{
 "cells": [
  {
   "cell_type": "code",
   "execution_count": null,
   "metadata": {},
   "outputs": [],
   "source": [
    "import proveit\n",
    "from proveit._common_ import a, b, c, d, n, x, y, z\n",
    "from proveit.logic import And, Forall, Equals, InSet, NotEquals, Or\n",
    "from proveit.number import (zero, one, two, three, Abs, Add, Complexes, Exp, frac,\n",
    "                            Greater, GreaterEq, Integers, LessEq, Mult, Naturals,\n",
    "                            NaturalsPos, Neg, Reals, RealsPos, Sqrt, subtract)\n",
    "from proveit.number.exponentiation._theorems_ import expRealClosure"
   ]
  },
  {
   "cell_type": "code",
   "execution_count": null,
   "metadata": {},
   "outputs": [],
   "source": [
    "exp_test_01 = Exp(x, y)"
   ]
  },
  {
   "cell_type": "code",
   "execution_count": null,
   "metadata": {},
   "outputs": [],
   "source": [
    "exp_test_02 = Exp(two, three)"
   ]
  },
  {
   "cell_type": "code",
   "execution_count": null,
   "metadata": {},
   "outputs": [],
   "source": [
    "exp_test_03 = Sqrt(two)"
   ]
  },
  {
   "cell_type": "code",
   "execution_count": null,
   "metadata": {},
   "outputs": [],
   "source": [
    "try:\n",
    "    exp_test_01.deduceInNumberSet(Reals)\n",
    "except Exception as e:\n",
    "    print(\"EXCEPTION: neither closure theorem applies without more constraints. \", e)"
   ]
  },
  {
   "cell_type": "code",
   "execution_count": null,
   "metadata": {},
   "outputs": [],
   "source": [
    "exp_test_01.deduceInNumberSet(Reals,\n",
    "        assumptions=[InSet(x, Reals), InSet(y, Reals), GreaterEq(x, zero), NotEquals(y, zero)])"
   ]
  },
  {
   "cell_type": "code",
   "execution_count": null,
   "metadata": {},
   "outputs": [],
   "source": [
    "exp_test_01.deduceInNumberSet(Reals,\n",
    "        assumptions=[InSet(x, Reals), InSet(y, Reals), Greater(x, zero)])"
   ]
  },
  {
   "cell_type": "code",
   "execution_count": null,
   "metadata": {},
   "outputs": [],
   "source": [
    "# trouble trying to specialize the comprehensive theorem\n",
    "# seems to demand the entire Or(And) combination rather than\n",
    "# just either side of the Or\n",
    "expRealClosure"
   ]
  },
  {
   "cell_type": "code",
   "execution_count": null,
   "metadata": {},
   "outputs": [],
   "source": [
    "expRealClosure.specialize({a:x, b:y}, assumptions=[InSet(x, Reals), InSet(y, Reals), Greater(x, zero)])"
   ]
  },
  {
   "cell_type": "code",
   "execution_count": null,
   "metadata": {},
   "outputs": [],
   "source": [
    "# expRealClosure.specialize({a:x, b:y}, assumptions=[InSet(x, Reals), InSet(y, Reals), GreaterEq(x, zero), NotEquals(y, zero)])"
   ]
  },
  {
   "cell_type": "code",
   "execution_count": null,
   "metadata": {},
   "outputs": [],
   "source": [
    "# expRealClosure.specialize({a:x, b:y}, assumptions=[InSet(x, Reals), InSet(y, Reals), And(GreaterEq(x, zero), NotEquals(y, zero))])"
   ]
  },
  {
   "cell_type": "code",
   "execution_count": null,
   "metadata": {},
   "outputs": [],
   "source": [
    "exp_test_02.deduceInNumberSet(NaturalsPos)"
   ]
  },
  {
   "cell_type": "code",
   "execution_count": null,
   "metadata": {},
   "outputs": [],
   "source": [
    "exp_test_02.deduceInNumberSet(Complexes, assumptions=[NotEquals(three, zero)])"
   ]
  },
  {
   "cell_type": "code",
   "execution_count": null,
   "metadata": {},
   "outputs": [],
   "source": [
    "exp_test_03"
   ]
  },
  {
   "cell_type": "code",
   "execution_count": null,
   "metadata": {},
   "outputs": [],
   "source": [
    "exp_test_03.deduceInNumberSet(Reals)"
   ]
  },
  {
   "cell_type": "code",
   "execution_count": null,
   "metadata": {},
   "outputs": [],
   "source": [
    "# The following both freeze everything up, as if it's caught in\n",
    "# some infinite loop trying to first prove that 2 is a RealPos\n",
    "# InSet(two, RealsPos).conclude()\n",
    "# exp_test_03.deduceInNumberSet(RealsPos)"
   ]
  },
  {
   "cell_type": "code",
   "execution_count": null,
   "metadata": {},
   "outputs": [],
   "source": [
    "exp_test_03.deduceInNumberSet(RealsPos, assumptions=[InSet(two, RealsPos)])"
   ]
  },
  {
   "cell_type": "code",
   "execution_count": null,
   "metadata": {},
   "outputs": [],
   "source": [
    "sqrt2IsComplex = exp_test_03.deduceInNumberSet(Complexes)"
   ]
  },
  {
   "cell_type": "code",
   "execution_count": null,
   "metadata": {},
   "outputs": [],
   "source": [
    "sqrt2IsComplex.proof()"
   ]
  },
  {
   "cell_type": "code",
   "execution_count": null,
   "metadata": {},
   "outputs": [],
   "source": []
  }
 ],
 "metadata": {
  "kernelspec": {
   "display_name": "Python 3",
   "language": "python",
   "name": "python3"
  }
 },
 "nbformat": 4,
 "nbformat_minor": 0
}
