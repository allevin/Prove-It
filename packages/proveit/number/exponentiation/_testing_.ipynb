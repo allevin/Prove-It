{
 "cells": [
  {
   "cell_type": "markdown",
   "metadata": {},
   "source": [
    "## A Notebook for Testing Exp-related Methods and Attributes\n",
    "This notebook can be deleted later when changes have been confirmed to be working correctly. Consider transfering some of the content to the `demonstrations` notebook in this same context."
   ]
  },
  {
   "cell_type": "code",
   "execution_count": null,
   "metadata": {},
   "outputs": [],
   "source": [
    "import proveit\n",
    "from proveit import Literal, Expression, ExprTuple\n",
    "from proveit._common_ import a, b, c, d, n, x, y, z\n",
    "from proveit.logic import And, Forall, Equals, InSet, NotEquals, Or, Booleans\n",
    "from proveit.number import (zero, one, two, three, Abs, Add, Complexes, Exp, frac,\n",
    "                            Greater, GreaterEq, Integers, LessEq, Mult, Naturals,\n",
    "                            NaturalsPos, Neg, Reals, RealsPos, Sqrt, subtract)\n",
    "from proveit.number.exponentiation._theorems_ import expRealClosure"
   ]
  },
  {
   "cell_type": "code",
   "execution_count": null,
   "metadata": {},
   "outputs": [],
   "source": [
    "exp_test_01 = Exp(x, y)"
   ]
  },
  {
   "cell_type": "code",
   "execution_count": null,
   "metadata": {},
   "outputs": [],
   "source": [
    "exp_test_02 = Exp(two, three)"
   ]
  },
  {
   "cell_type": "code",
   "execution_count": null,
   "metadata": {},
   "outputs": [],
   "source": [
    "exp_test_03 = Sqrt(two)"
   ]
  },
  {
   "cell_type": "code",
   "execution_count": null,
   "metadata": {},
   "outputs": [],
   "source": [
    "try:\n",
    "    exp_test_01.deduceInNumberSet(Reals)\n",
    "except Exception as e:\n",
    "    print(\"EXCEPTION: neither closure theorem applies without more constraints. \", e)"
   ]
  },
  {
   "cell_type": "code",
   "execution_count": null,
   "metadata": {},
   "outputs": [],
   "source": [
    "# exp_test_01.deduceInNumberSet(Reals,\n",
    "#         assumptions=[InSet(x, Reals), InSet(y, Reals), GreaterEq(x, zero), NotEquals(y, zero)])"
   ]
  },
  {
   "cell_type": "code",
   "execution_count": null,
   "metadata": {},
   "outputs": [],
   "source": [
    "# exp_test_01.deduceInNumberSet(Reals,\n",
    "#         assumptions=[InSet(x, Reals), InSet(y, Reals), Greater(x, zero)])"
   ]
  },
  {
   "cell_type": "code",
   "execution_count": null,
   "metadata": {},
   "outputs": [],
   "source": [
    "# trouble trying to specialize the comprehensive theorem\n",
    "# seems to demand the entire Or(And) combination rather than\n",
    "# just either side of the Or\n",
    "expRealClosure"
   ]
  },
  {
   "cell_type": "code",
   "execution_count": null,
   "metadata": {},
   "outputs": [],
   "source": [
    "expRealClosureExampleLHSofOR = expRealClosure.specialize(\n",
    "    {a:x, b:y},\n",
    "    assumptions=[InSet(x, Reals), InSet(y, Reals), Greater(x, zero)])"
   ]
  },
  {
   "cell_type": "code",
   "execution_count": null,
   "metadata": {},
   "outputs": [],
   "source": [
    "expRealClosureExampleLHSofOR.proof()"
   ]
  },
  {
   "cell_type": "code",
   "execution_count": null,
   "metadata": {},
   "outputs": [],
   "source": [
    "expRealClosureExampleRHSofOR = expRealClosure.specialize(\n",
    "    {a:x, b:y},\n",
    "    assumptions=[InSet(x, Reals), InSet(y, Reals), And(GreaterEq(x, zero), NotEquals(y, zero))])"
   ]
  },
  {
   "cell_type": "code",
   "execution_count": null,
   "metadata": {},
   "outputs": [],
   "source": [
    "expRealClosureExampleRHSofOR = expRealClosure.specialize(\n",
    "    {a:x, b:y},\n",
    "    assumptions=[\n",
    "        InSet(x, Reals), InSet(y, Reals), GreaterEq(x, zero),\n",
    "        NotEquals(y, zero), InSet(Greater(x, zero), Booleans)])"
   ]
  },
  {
   "cell_type": "code",
   "execution_count": null,
   "metadata": {},
   "outputs": [],
   "source": [
    "# expRealClosure.specialize({a:x, b:y}, assumptions=[InSet(x, Reals), InSet(y, Reals), GreaterEq(x, zero), NotEquals(y, zero)])"
   ]
  },
  {
   "cell_type": "code",
   "execution_count": null,
   "metadata": {},
   "outputs": [],
   "source": [
    "# expRealClosure.specialize({a:x, b:y}, assumptions=[InSet(x, Reals), InSet(y, Reals), And(GreaterEq(x, zero), NotEquals(y, zero))])"
   ]
  },
  {
   "cell_type": "code",
   "execution_count": null,
   "metadata": {},
   "outputs": [],
   "source": [
    "exp_test_02.deduceInNumberSet(NaturalsPos)"
   ]
  },
  {
   "cell_type": "code",
   "execution_count": null,
   "metadata": {},
   "outputs": [],
   "source": [
    "exp_test_02.deduceInNumberSet(Complexes, assumptions=[NotEquals(three, zero)])"
   ]
  },
  {
   "cell_type": "code",
   "execution_count": null,
   "metadata": {},
   "outputs": [],
   "source": [
    "exp_test_03"
   ]
  },
  {
   "cell_type": "code",
   "execution_count": null,
   "metadata": {},
   "outputs": [],
   "source": [
    "exp_test_03.deduceInNumberSet(Reals)"
   ]
  },
  {
   "cell_type": "code",
   "execution_count": null,
   "metadata": {},
   "outputs": [],
   "source": [
    "# The following both freeze everything up, as if caught in\n",
    "# some infinite loop trying to first prove that 2 is a RealPos\n",
    "# which is strange because, in the case further below involving\n",
    "# complex numbers, the system uses the thm/fact that 2 is a pos nat\n",
    "# InSet(two, RealsPos).conclude()\n",
    "# exp_test_03.deduceInNumberSet(RealsPos)"
   ]
  },
  {
   "cell_type": "code",
   "execution_count": null,
   "metadata": {},
   "outputs": [],
   "source": [
    "exp_test_03.deduceInNumberSet(RealsPos, assumptions=[InSet(two, RealsPos)])"
   ]
  },
  {
   "cell_type": "code",
   "execution_count": null,
   "metadata": {},
   "outputs": [],
   "source": [
    "sqrt2IsComplex = exp_test_03.deduceInNumberSet(Complexes)"
   ]
  },
  {
   "cell_type": "code",
   "execution_count": null,
   "metadata": {},
   "outputs": [],
   "source": [
    "sqrt2IsComplex.proof()"
   ]
  },
  {
   "cell_type": "code",
   "execution_count": null,
   "metadata": {},
   "outputs": [],
   "source": [
    "t_ = Literal('t')"
   ]
  },
  {
   "cell_type": "code",
   "execution_count": null,
   "metadata": {},
   "outputs": [],
   "source": [
    "twoToPowerT = Exp(two, t_)"
   ]
  },
  {
   "cell_type": "code",
   "execution_count": null,
   "metadata": {},
   "outputs": [],
   "source": [
    "twoToPowerT.deduceInNumberSet(NaturalsPos, assumptions=[InSet(t_, NaturalsPos)])"
   ]
  },
  {
   "cell_type": "code",
   "execution_count": null,
   "metadata": {},
   "outputs": [],
   "source": []
  }
 ],
 "metadata": {
  "kernelspec": {
   "display_name": "Python 3",
   "language": "python",
   "name": "python3"
  }
 },
 "nbformat": 4,
 "nbformat_minor": 0
}
