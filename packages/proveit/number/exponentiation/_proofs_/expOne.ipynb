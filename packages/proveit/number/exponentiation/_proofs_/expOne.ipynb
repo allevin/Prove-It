{
 "cells": [
  {
   "cell_type": "markdown",
   "metadata": {},
   "source": [
    "Proof of <a class=\"ProveItLink\" href=\"../../../_context_.ipynb\">proveit</a>.<a class=\"ProveItLink\" href=\"../../_context_.ipynb\">number</a>.<a class=\"ProveItLink\" href=\"../_context_.ipynb\">exponentiation</a>.<a class=\"ProveItLink\" href=\"../_theorems_.ipynb#expOne\">expOne</a> theorem\n",
    "========"
   ]
  },
  {
   "cell_type": "code",
   "execution_count": 1,
   "metadata": {},
   "outputs": [],
   "source": [
    "import proveit\n",
    "context = proveit.Context('..') # the theorem's context is in the parent directory"
   ]
  },
  {
   "cell_type": "code",
   "execution_count": 2,
   "metadata": {},
   "outputs": [
    {
     "name": "stdout",
     "output_type": "stream",
     "text": [
      "Beginning proof of expOne\n",
      "Recorded 'presuming' information\n"
     ]
    },
    {
     "data": {
      "text/html": [
       "<strong id=\"expOne\">expOne:</strong> <a class=\"ProveItLink\" href=\"../__pv_it/aafdfa778eb27f1fafc971abe507d4694db150420/expr.ipynb\"><img src=\"data:image/png;base64,iVBORw0KGgoAAAANSUhEUgAAAH8AAAAVBAMAAACd/CwcAAAAMFBMVEX///8QEBC6urrMzMxUVFRm\n",
       "ZmZERETc3NwyMjKqqqp2dnaIiIiYmJgiIiLu7u4AAAAU9Wx4AAAAAXRSTlMAQObYZgAAAapJREFU\n",
       "OMtjYCAGrHbaYoBL7gE+jUwbwBTXAzfGCdjkDwHxBRDjNA4DTICY7QEDE0MPFsk8BgZWoLtWgth9\n",
       "OAwAivPlg9z4HVPu2T8g0cDAUAak2BOw6+fewMDn4g80gFmAGV3uiQvIgFMMDBxAedYJ2A1gBFm+\n",
       "/wGDPVcDF6bpIAMeMjDwLC8vr8XhAw0GiAHPdkavw24AG9Dqb2lpt3AYEAU1ALv/QAZwBTAwODMw\n",
       "pOMwoAfdgIgOEGhBGMAJDEUVBr4GZF1vunyjoUwhgi5gEmBg4GXgPgAV49saeoDZ7AFzF5T/iaAB\n",
       "zB+AjAO8MCXb1N894KlmYNAiyQC+BhNoaucBhgiD8mRguoCqkUQ3IPYuCFxD9QJDuhM0tXOAxPed\n",
       "Q6jPIegCHlDwTQVmB3Bqt0I3YClR0cjACM5ywNRum5aWtkFJGaFGF4hD5VsPYNPPGvgjBpiOFUDO\n",
       "AFkBSu1PQBIsrxFhwFhAqKB4CGOAUzsLSD1zVAHDbqgozwKCJQ08b4JSO18SiPnqWooCUnbGC1CT\n",
       "IDBIgGGAIlBCwAAWQn5k34BffjMDAwCuKoC7wEpi/AAAAABJRU5ErkJggg==\n",
       "\" style=\"display:inline;vertical-align:middle;\" /></a><br>(see <a class=\"ProveItLink\" href=\"../__pv_it/aafdfa778eb27f1fafc971abe507d4694db150420/dependencies.ipynb\">dependencies</a>)<br>"
      ],
      "text/plain": [
       "expOne: forall_{x in Complexes} (1^{x} = 1)"
      ]
     },
     "execution_count": 2,
     "metadata": {},
     "output_type": "execute_result"
    }
   ],
   "source": [
    "%proving expOne presuming []"
   ]
  },
  {
   "cell_type": "code",
   "execution_count": null,
   "metadata": {},
   "outputs": [],
   "source": []
  }
 ],
 "metadata": {
  "kernelspec": {
   "display_name": "Python 3",
   "language": "python",
   "name": "python3"
  }
 },
 "nbformat": 4,
 "nbformat_minor": 0
}
