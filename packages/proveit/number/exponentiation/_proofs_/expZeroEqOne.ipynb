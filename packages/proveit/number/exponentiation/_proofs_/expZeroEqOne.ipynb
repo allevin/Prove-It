{
 "cells": [
  {
   "cell_type": "markdown",
   "metadata": {},
   "source": [
    "Proof of <a class=\"ProveItLink\" href=\"../../../_context_.ipynb\">proveit</a>.<a class=\"ProveItLink\" href=\"../../_context_.ipynb\">number</a>.<a class=\"ProveItLink\" href=\"../_context_.ipynb\">exponentiation</a>.<a class=\"ProveItLink\" href=\"../_theorems_.ipynb#expZeroEqOne\">expZeroEqOne</a> theorem\n",
    "========"
   ]
  },
  {
   "cell_type": "code",
   "execution_count": 1,
   "metadata": {},
   "outputs": [],
   "source": [
    "import proveit\n",
    "context = proveit.Context('..') # the theorem's context is in the parent directory"
   ]
  },
  {
   "cell_type": "code",
   "execution_count": 2,
   "metadata": {},
   "outputs": [
    {
     "name": "stdout",
     "output_type": "stream",
     "text": [
      "Beginning proof of expZeroEqOne\n",
      "Recorded 'presuming' information\n",
      "Presuming previous theorem (applied transitively).\n"
     ]
    },
    {
     "data": {
      "text/html": [
       "<strong id=\"expZeroEqOne\">expZeroEqOne:</strong> <a class=\"ProveItLink\" href=\"../__pv_it/a7258a27f97d1e2a129a117f1d4984c2cb279b680/expr.ipynb\"><img src=\"data:image/png;base64,iVBORw0KGgoAAAANSUhEUgAAALEAAAAcCAMAAAAZda7HAAAAOVBMVEX///8oKCgUFBQJCQkQEBC6\n",
       "urrMzMxUVFRmZmZERETc3NwyMjKqqqp2dnaIiIiYmJgiIiLu7u4AAACP9cC6AAAAAXRSTlMAQObY\n",
       "ZgAAAnFJREFUWMPVWIuSoyAQdHdleMnw+P+PPRgFjYEEdc3dTVVSiQG2bXqadofhb5YxKIb/qdAM\n",
       "A+P/NETGHr46iG/Bd+/I5wHDI5+ewLrp5PQPlNePdMKMGPtVREP95xBzu9PIUcSDU+mtfLV4L2A1\n",
       "7ne5G7FceMWkC1NkpG+mW+yNzIdE2fhWx17m7iTlK5kpkDeLYmRPV8gr1Bu8nPPiJ85uqBXTzUYR\n",
       "6n7cQRQWxCKNtkZRubuPi7HW/Cj8EcSWbjvIVO5uf+a6tCBHw0Z14GYL4tleOFA79q/AXqlOtfKC\n",
       "zP5PYGWotKbeFK8ihpDA0snudRuE1YY7sZrQK+UJaOUFvdyDCjYL8jjHKhBdScFon4CiECJeBUhu\n",
       "CNr0IFa8mRfcgpgTu0fOjQ1iH8gfElq3bwCUTHkfr1pFi7MuxKStel7IiIOkIXCF46iIHDKUQCPT\n",
       "YjbrkME0L66qiMuEYb2t+lm2KFOFdH0KlXwg3KZkAzEszPC5m3w8uBX9XGSN3u6X3ixWJnBql5/4\n",
       "wkZe4HKzr9E4JjjlFTNxk1jMmEdmIX0G04e4TBiGtRnqHOMyTMdBU5SIOaMKmy1mXFZPKqG0AY5M\n",
       "WkbCGIM24jJhPv9f5QUWihsjA4msP4+MQYuZDJP3fqGRWkba6Kl+9SbusanjdYKMevj+0qSKRl44\n",
       "1GyN0nuLGX3y6ISfl78HwqiSpvccrxOys7XzAr9+qvonGphAi7QBXpZd8yZKhLOqKtYJa4ht5QW4\n",
       "nlzsy3PHzDqumW51/PSWQnk5HbqTwqoj1u8fQvRVis/+c6OK2HYQOF1T8vlnjvMP4faSLsQHn6J/\n",
       "s/4AzIMdp1KeEAkAAAAASUVORK5CYII=\n",
       "\" style=\"display:inline;vertical-align:middle;\" /></a><br>(see <a class=\"ProveItLink\" href=\"../__pv_it/a7258a27f97d1e2a129a117f1d4984c2cb279b680/dependencies.ipynb\">dependencies</a>)<br>"
      ],
      "text/plain": [
       "expZeroEqOne: forall_{a in Complexes | a != 0} (a^{0} = 1)"
      ]
     },
     "execution_count": 2,
     "metadata": {},
     "output_type": "execute_result"
    }
   ],
   "source": [
    "%proving expZeroEqOne presuming []"
   ]
  },
  {
   "cell_type": "code",
   "execution_count": null,
   "metadata": {},
   "outputs": [],
   "source": []
  }
 ],
 "metadata": {
  "kernelspec": {
   "display_name": "Python 3",
   "language": "python",
   "name": "python3"
  }
 },
 "nbformat": 4,
 "nbformat_minor": 0
}
