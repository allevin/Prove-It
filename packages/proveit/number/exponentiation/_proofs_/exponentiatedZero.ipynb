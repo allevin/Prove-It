{
 "cells": [
  {
   "cell_type": "markdown",
   "metadata": {},
   "source": [
    "Proof of <a class=\"ProveItLink\" href=\"../../../_context_.ipynb\">proveit</a>.<a class=\"ProveItLink\" href=\"../../_context_.ipynb\">number</a>.<a class=\"ProveItLink\" href=\"../_context_.ipynb\">exponentiation</a>.<a class=\"ProveItLink\" href=\"../_theorems_.ipynb#exponentiatedZero\">exponentiatedZero</a> theorem\n",
    "========"
   ]
  },
  {
   "cell_type": "code",
   "execution_count": 1,
   "metadata": {},
   "outputs": [],
   "source": [
    "import proveit\n",
    "context = proveit.Context('..') # the theorem's context is in the parent directory"
   ]
  },
  {
   "cell_type": "code",
   "execution_count": 2,
   "metadata": {},
   "outputs": [
    {
     "name": "stdout",
     "output_type": "stream",
     "text": [
      "Beginning proof of exponentiatedZero\n",
      "Recorded 'presuming' information\n",
      "Presuming previous theorems (applied transitively).\n"
     ]
    },
    {
     "data": {
      "text/html": [
       "<strong id=\"exponentiatedZero\">exponentiatedZero:</strong> <a class=\"ProveItLink\" href=\"../__pv_it/b5a1cb2e415b25ba5f690dafe58e23e861471d740/expr.ipynb\"><img src=\"data:image/png;base64,iVBORw0KGgoAAAANSUhEUgAAAK8AAAAXCAMAAABK1e9fAAAAOVBMVEX///8oKCgUFBQJCQkQEBC6\n",
       "urrMzMxUVFRmZmZERETc3NwyMjKqqqp2dnaIiIiYmJgiIiLu7u4AAACP9cC6AAAAAXRSTlMAQObY\n",
       "ZgAAAktJREFUSMfFV4u2nCAMtK28SQD//2MLAR8gq9xr7eUcddcNMg6TSXaafm4ACoaCf21S+I8A\n",
       "GVZwwyTUNNvR2Y6ls9+/48twuSCCJKJMpMbljRsgdI2f6Azb+5m3qc4L+Igz+KyCRd/POsSbeGhV\n",
       "7m8f3hpI+4e0oWiI8Dked7MO8Q4OtEr7Mt4500uiYIvmywQRBdzRu8YnacwEWtPwbyebyRKQxOxi\n",
       "g0IrEe5EuMWni0rnRaXh4WW8khbQC+T1B5O7jocEPjug0uNMXWUzPQYA5SnbXLX+mR5pDkO0eOli\n",
       "0x6x9FswnyE4A8LLnZCrxCTPQShPreTLbvBe80sXNq8WjCcnDCiljHc5V1Fj3MAIXk0oyX2WRpkL\n",
       "e66HmKMFq291j4rpEOJdpymUDeElVQWC6m0P75Y/blB8VXzGG7XARVPS3ao/xm22SN3FW/cArJBB\n",
       "eBsGS+HN/mQ7lUL6w1C1n5X4rIfIimBNSd/kjMG11KtODyAoS/7EA6NZ9vAqd/B/GHbPKt5lWFb6\n",
       "LfNzGnMYw1v3ACUJ+vxC2bGkkzCPd2XH+PUZ8/7sTDz3ZMoqksUY/4y36gFC+SHQrbbxYn7tX+BL\n",
       "TeQx3hQr3SksJT3sbiQCXuh3naCiEn7/MqSHidg4KXTWT0tOmJuGby/pYns4l6C3bqXBW/UAentH\n",
       "8t+Ti7jHFRQaiR1KelBbFQsQxSFYTw9VD6DCoRVDGT70kw/oNZcvk/XbM9luvL2lT4tneMU3BdXH\n",
       "awaK1aN/MMinf4jXvd0+P9iXH1z7L38VG+OXHJvkAAAAAElFTkSuQmCC\n",
       "\" style=\"display:inline;vertical-align:middle;\" /></a><br>(see <a class=\"ProveItLink\" href=\"../__pv_it/b5a1cb2e415b25ba5f690dafe58e23e861471d740/dependencies.ipynb\">dependencies</a>)<br>"
      ],
      "text/plain": [
       "exponentiatedZero: forall_{x in Complexes | x != 0} (0^{x} = 0)"
      ]
     },
     "execution_count": 2,
     "metadata": {},
     "output_type": "execute_result"
    }
   ],
   "source": [
    "%proving exponentiatedZero presuming []"
   ]
  },
  {
   "cell_type": "code",
   "execution_count": null,
   "metadata": {},
   "outputs": [],
   "source": []
  }
 ],
 "metadata": {
  "kernelspec": {
   "display_name": "Python 3",
   "language": "python",
   "name": "python3"
  }
 },
 "nbformat": 4,
 "nbformat_minor": 0
}
