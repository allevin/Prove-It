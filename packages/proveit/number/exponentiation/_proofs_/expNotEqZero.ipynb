{
 "cells": [
  {
   "cell_type": "markdown",
   "metadata": {},
   "source": [
    "Proof of <a class=\"ProveItLink\" href=\"../../../_context_.ipynb\">proveit</a>.<a class=\"ProveItLink\" href=\"../../_context_.ipynb\">number</a>.<a class=\"ProveItLink\" href=\"../_context_.ipynb\">exponentiation</a>.<a class=\"ProveItLink\" href=\"../_theorems_.ipynb#expNotEqZero\">expNotEqZero</a> theorem\n",
    "========"
   ]
  },
  {
   "cell_type": "code",
   "execution_count": 1,
   "metadata": {},
   "outputs": [],
   "source": [
    "import proveit\n",
    "context = proveit.Context('..') # the theorem's context is in the parent directory"
   ]
  },
  {
   "cell_type": "code",
   "execution_count": 2,
   "metadata": {},
   "outputs": [
    {
     "name": "stdout",
     "output_type": "stream",
     "text": [
      "Beginning proof of expNotEqZero\n",
      "Recorded 'presuming' information\n",
      "Presuming previous theorems (applied transitively).\n"
     ]
    },
    {
     "data": {
      "text/html": [
       "<strong id=\"expNotEqZero\">expNotEqZero:</strong> <a class=\"ProveItLink\" href=\"../__pv_it/cfa11ba28f753c9671abc0f571e20bd7feb749750/expr.ipynb\"><img src=\"data:image/png;base64,iVBORw0KGgoAAAANSUhEUgAAALwAAAAcCAMAAADsiyV3AAAAQlBMVEX///8LCwsYGBgNDQ0oKCgU\n",
       "FBQJCQkQEBC6urrMzMxUVFRmZmZERETc3NwyMjKqqqp2dnaIiIiYmJgiIiLu7u4AAABNCf5tAAAA\n",
       "AXRSTlMAQObYZgAAAvdJREFUWMPVWIty2yAQpE1a8Ybj8f+/WjhAFgjZip2RG2aSjAjIe3t3y2JC\n",
       "/pNBtSY/d1jxk9BS2j1q85VI34yd8f45qhc2XzyCDn0eIgAPp7cD4EveBJ67AY0nxM34tPOM+Dzt\n",
       "10cHF2JXyzAh06c7P1m4FaEgAAQrweZA7don+sokiFFbloRJyEmGtm3t00PwiD7EBFe1DUpeWTUL\n",
       "HSZixubuEw+YGShTuLgRLsyVUhN3NUyI0Y+I56W1sQswTc4qHP5K4mHZqb6AiXizrhyiKIEjzQ7j\n",
       "jzIPf6nu80ay4mDpcijxkm1LKNoCHkoCcslwXCDVc3aD3pFyfKW1sD/4ZRVFxC3jvp81js+P/JuP\n",
       "4OufjJtyPDNO2Y3gtOVebET1TpujqOVioDv91qLCcWQuMhPiB/Aq0torBNxk72o3Aggh0grGZMoV\n",
       "0/YMeIWQUdjiqMK+gOfIuT86YIag+7IJpfQzcD8T+WY3QFIVQlrhVCm3U+CxEFGOiTdz8FHiEnbw\n",
       "Bj2UcmtYt2E+lUwzOir1/JqrZjdcqx7KTPmfmoLvNtcIWQE/clvqWCGHJu5NivBp/P7lccheKk3h\n",
       "VNWYpapyGpJjUGuOm91Y2wGC2yXoBn7dzLHZ/qYfqJqwA8/lLfNJeQw7Q3w9pKwnG7knRlSR54lj\n",
       "5ge7wew58P3m2kQHzBcYRKdFJpWQPVHxpJZfWEqkrmnUUl+eywj4YDeYx4MghUIpZcfgu82hzgfk\n",
       "Zxlrnsam8kCZBHqK+GzMLPAKwbaCqIRid0kXVGc3wo0BHuCw5m+bZSqYP58aywYZmFw0Dpt0HebB\n",
       "tVCP2VxC1v4UisphN7vB149mAt01THV+3bzKJGk6v5ck/vBA9/dNbtgRkgyGAxT0LEfNbgS5pjXY\n",
       "VEOdWZL7zXk2bO48IPY4mH+ReHfPBHeHli01P1Xz6Sc/NkrSvER8OfyOPOvZ6/AU/AlPpPTTngm5\n",
       "FWeJ/yp4d+ZqYF6xsd90c3r+Owj3wu1HvOt7g+8b/wDyvilwKAO8vQAAAABJRU5ErkJggg==\n",
       "\" style=\"display:inline;vertical-align:middle;\" /></a><br>(see <a class=\"ProveItLink\" href=\"../__pv_it/cfa11ba28f753c9671abc0f571e20bd7feb749750/dependencies.ipynb\">dependencies</a>)<br>"
      ],
      "text/plain": [
       "expNotEqZero: forall_{a, b in Complexes | a != 0} (a^{b} != 0)"
      ]
     },
     "execution_count": 2,
     "metadata": {},
     "output_type": "execute_result"
    }
   ],
   "source": [
    "%proving expNotEqZero presuming []"
   ]
  },
  {
   "cell_type": "code",
   "execution_count": null,
   "metadata": {},
   "outputs": [],
   "source": []
  }
 ],
 "metadata": {
  "kernelspec": {
   "display_name": "Python 3",
   "language": "python",
   "name": "python3"
  }
 },
 "nbformat": 4,
 "nbformat_minor": 0
}
