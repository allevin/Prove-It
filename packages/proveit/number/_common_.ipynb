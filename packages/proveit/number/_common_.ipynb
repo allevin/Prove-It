{
 "cells": [
  {
   "cell_type": "markdown",
   "metadata": {},
   "source": [
    "Common expressions for context <a href=\"_context_.ipynb\" class=\"ProveItLink\">proveit.number</a>\n",
    "========"
   ]
  },
  {
   "cell_type": "code",
   "execution_count": 1,
   "metadata": {},
   "outputs": [
    {
     "name": "stdout",
     "output_type": "stream",
     "text": [
      "Defining common sub-expressions for context 'proveit.number'\n",
      "Subsequent end-of-cell assignments will define common sub-expressions\n",
      "%end_common will finalize the definitions\n"
     ]
    }
   ],
   "source": [
    "from proveit import Function, Lambda, Iter, Indexed, varIter, Function\n",
    "from proveit._common_ import P, l, k, m, n, aa, bb, cc, dd\n",
    "from proveit.logic import Set, Difference\n",
    "from proveit.number import Add, Complexes, zero, one\n",
    "%begin common"
   ]
  },
  {
   "cell_type": "code",
   "execution_count": 2,
   "metadata": {},
   "outputs": [
    {
     "data": {
      "text/html": [
       "<strong id=\"ComplexesSansZero\">ComplexesSansZero:</strong> <a class=\"ProveItLink\" href=\"__pv_it/f53c16dfddf30d995333ded0545dcaa2e92165460/expr.ipynb\"><img src=\"data:image/png;base64,iVBORw0KGgoAAAANSUhEUgAAAEYAAAAVBAMAAAAJGoXuAAAAMFBMVEX////c3NyqqqqYmJhUVFR2\n",
       "dnbu7u66urrMzMxmZmZEREQQEBAyMjIiIiKIiIgAAAB7fvZ0AAAAAXRSTlMAQObYZgAAARJJREFU\n",
       "KM9jYMAOLA0gdGsgAy6QGwBjdSuASL475/euRFPzHojZ5r1sYGDgPABkctQXsMU/QVMTDcS8BWw3\n",
       "GBhYNwCZBs4MDExfsKh5y8DwBqKGOQGkcAoWNVcYGOoFwGo4GR2A/Dwsan4yMPQrgNVksgdg8RdQ\n",
       "DeNXoJoHYDWtTAZY1MyBqglgYP4AVMOORQ3HdrgahpMMDFkcMLsYz94FgQKgEu8GuF0MXIcZeBIc\n",
       "MM1h3wF1M9COq0C/B4DUsKEp8oH4XV8A7B6GxXVAojYBVU0sJAxjoeHM4vWMrWoZtrhQYNsBVcPQ\n",
       "ef+3O5bwYWCb+qQBpoYBexhCAWVqrOEscPrBng4fwNNhAc7EaqqASM8AyzhMtOBlY5MAAAAASUVO\n",
       "RK5CYII=\n",
       "\" style=\"display:inline;vertical-align:middle;\" /></a><br>"
      ],
      "text/plain": [
       "ComplexesSansZero: Complexes - {0}"
      ]
     },
     "execution_count": 2,
     "metadata": {},
     "output_type": "execute_result"
    }
   ],
   "source": [
    "ComplexesSansZero = Difference(Complexes, Set(zero))"
   ]
  },
  {
   "cell_type": "code",
   "execution_count": 3,
   "metadata": {},
   "outputs": [
    {
     "data": {
      "text/html": [
       "<strong id=\"Pzero\">Pzero:</strong> <a class=\"ProveItLink\" href=\"__pv_it/8a382517cc4632dcdb7e9903bb844dacdde0934e0/expr.ipynb\"><img src=\"data:image/png;base64,iVBORw0KGgoAAAANSUhEUgAAACsAAAAVBAMAAAAtAwouAAAAMFBMVEX////u7u5mZmaYmJi6urqq\n",
       "qqp2dnbMzMwQEBBEREQyMjLc3NwiIiJUVFSIiIgAAAAeC3ydAAAAAXRSTlMAQObYZgAAARNJREFU\n",
       "GNOFkT1Ow0AQRt8Gh806CYmo0kGVErlAqX0C8A1wRYVQbmCoKNJwg+QIPgFCNFSRUtFFimiQEOEn\n",
       "AgoEgtldG+GKlbzz7Vt5vplZ+H/t+bDr9uX3fD7NRegZaud2SG3o+AeYkcSwSytW1zCxVL9DXT4e\n",
       "4QHuYWDxxiusrUScwhT2c3oWm2dov0Eg/8ptlmASwR05bp1DLaUpubIF69uCsxR9ZR0jj1Pq1vPp\n",
       "5rBv62vEJQ5O5Dju+i46cZlEixuf/GJnGTmsVwVuJK7Ag9wlsWW7ZSLXzpF0IZbmpcC2rFaizpza\n",
       "HH8tPA4uQfWXMqcw/jvXUSl6lXEPSnFcwWHRgJpUcHPmYzuvPtqFD3fwA8xrQ9XfW9pqAAAAAElF\n",
       "TkSuQmCC\n",
       "\" style=\"display:inline;vertical-align:middle;\" /></a><br>"
      ],
      "text/plain": [
       "Pzero: P(0)"
      ]
     },
     "execution_count": 3,
     "metadata": {},
     "output_type": "execute_result"
    }
   ],
   "source": [
    "Pzero = Function(P, zero)"
   ]
  },
  {
   "cell_type": "code",
   "execution_count": 4,
   "metadata": {},
   "outputs": [
    {
     "data": {
      "text/html": [
       "<strong id=\"Pone\">Pone:</strong> <a class=\"ProveItLink\" href=\"__pv_it/1f2e8720e32d098167fbab987bf00a7163b81c670/expr.ipynb\"><img src=\"data:image/png;base64,iVBORw0KGgoAAAANSUhEUgAAACsAAAAVBAMAAAAtAwouAAAAMFBMVEX////u7u5mZmaYmJi6urqq\n",
       "qqp2dnbMzMwQEBBEREQyMjLc3NwiIiJUVFSIiIgAAAAeC3ydAAAAAXRSTlMAQObYZgAAAO9JREFU\n",
       "GNNjYCAM/CCUCZh8+//u3bMbgAz2C0BiIgMDUwFY/BcDA2c3kOYSYGCQ/AhkLACJsn9jYGAFYoZ3\n",
       "DAyyd0HCZiBhvi8MDMyfgIxGEAckLAES5vzAwMD7lYGBZQFMmDMASPADufITgDYlwITZFIBEfQID\n",
       "+yGQjQYwYVaQvvfX0tRA7uNwgAmzNACJ+QIQX/DDhdmBtjH8YcAmzP4JKswRgGwIyNlgwAm3khlo\n",
       "JedHqDDYWTAHCs3/+wAizHIA6HaNX8pApzogh2s3jCGBEtxmMEYeijAX1AOMC1CEuS9AaN4NqJG2\n",
       "D0I9Z2AAAAVoOuNPCyRyAAAAAElFTkSuQmCC\n",
       "\" style=\"display:inline;vertical-align:middle;\" /></a><br>"
      ],
      "text/plain": [
       "Pone: P(1)"
      ]
     },
     "execution_count": 4,
     "metadata": {},
     "output_type": "execute_result"
    }
   ],
   "source": [
    "Pone = Function(P, one)"
   ]
  },
  {
   "cell_type": "code",
   "execution_count": 5,
   "metadata": {},
   "outputs": [
    {
     "data": {
      "text/html": [
       "<strong id=\"Pn\">Pn:</strong> <a class=\"ProveItLink\" href=\"__pv_it/20f66fb84c2270f9538a0cccaaaccf2060edd0940/expr.ipynb\"><img src=\"data:image/png;base64,iVBORw0KGgoAAAANSUhEUgAAAC0AAAAVBAMAAAAgHXppAAAAMFBMVEX////u7u5mZmaYmJi6urqq\n",
       "qqp2dnbMzMwQEBBEREQyMjLc3NwiIiJUVFSIiIgAAAAeC3ydAAAAAXRSTlMAQObYZgAAARJJREFU\n",
       "GNNjYCAC+EFpEzD59v/du2c3ABnsF6DiTAVg6hcDA2c3kOYSgGlcACLYvzEwsAIxwzu4gWYggu8L\n",
       "AwPzJyCjES4uASI4PzAw8H5lYGBZABfnDAAS/EC+/ASgbQlAF83e9xZIsSkAxesTGNgPgaw1YGBI\n",
       "uPWA8TvQOpDW99fS1EDO5HBgYHE4ycAItI6lAcifD3UevwMDI1CQ9SPQiUArGf4wwMVBgrwLIOLs\n",
       "n6DiHEBHMC1g4DcQAJsDcj7EcUB7ORIY7AUSGJiBejg/QsVBjtvvwJDJWgBiCs3/+wAiznKAgcGD\n",
       "gWHnU6CTHZCDuRs1HFBDCwzyUMTh4cy4AEWcGxYvvBtQ43EflH7OwAAAnLU9gtMrIbUAAAAASUVO\n",
       "RK5CYII=\n",
       "\" style=\"display:inline;vertical-align:middle;\" /></a><br>"
      ],
      "text/plain": [
       "Pn: P(n)"
      ]
     },
     "execution_count": 5,
     "metadata": {},
     "output_type": "execute_result"
    }
   ],
   "source": [
    "Pn = Function(P, n)"
   ]
  },
  {
   "cell_type": "code",
   "execution_count": 6,
   "metadata": {},
   "outputs": [
    {
     "data": {
      "text/html": [
       "<strong id=\"P_nAddOne\">P_nAddOne:</strong> <a class=\"ProveItLink\" href=\"__pv_it/4ebeb3a00ae508657e3565fe448b429ca0191bea0/expr.ipynb\"><img src=\"data:image/png;base64,iVBORw0KGgoAAAANSUhEUgAAAFEAAAAVBAMAAADMaB9/AAAAMFBMVEX////u7u5mZmaYmJi6urqq\n",
       "qqp2dnbMzMwQEBBEREQyMjLc3NwiIiJUVFSIiIgAAAAeC3ydAAAAAXRSTlMAQObYZgAAAUZJREFU\n",
       "KM9jYCAL+OGUMQGTb//fvXt2A5DBfgG7sokMDEwFYNYvBgbObiDNJYBVoeRHILEAxGL/xsDACsQM\n",
       "71BVSEMo2bsglWYgJt8XBgbmT0BGI6rKOCjNB1IpAWJxfmBg4P3KwMCyAI9KzgAgwQ9UIT8B6OoE\n",
       "oO9n73ubgE0lmwKQqE9gYD8E8pABA0PCrQeM37GpZAVZ+P5amhookDgcGFgcTjIwfsGmkqUBSMyH\n",
       "Bg6/AwMjUBnrR2wq2YGeYfjDAFcJUsYL9pjWqlUnVq1ai6KS/RNUJQfQe0wLGPgNBHDYzgdzFyfQ\n",
       "RxwJDPYCCVhUMgNt4oS5CxQQ+x0YMlkLsIeS0Py/DyAiLAcYGDwYGHY+RfURk8YvZWAQOiBHSjf2\n",
       "OAIDCRQpMzypNQ9FCkeqAwFG1DTBfQGnSt4NqPx9OFU+Z2AAAFU9VP+BnStrAAAAAElFTkSuQmCC\n",
       "\" style=\"display:inline;vertical-align:middle;\" /></a><br>"
      ],
      "text/plain": [
       "P_nAddOne: P(n + 1)"
      ]
     },
     "execution_count": 6,
     "metadata": {},
     "output_type": "execute_result"
    }
   ],
   "source": [
    "P_nAddOne = Function(P, Add(n, one))"
   ]
  },
  {
   "cell_type": "code",
   "execution_count": 7,
   "metadata": {},
   "outputs": [
    {
     "data": {
      "text/html": [
       "<strong id=\"Pm\">Pm:</strong> <a class=\"ProveItLink\" href=\"__pv_it/9b741a98b2b13f75e88d8924f5dca976c2bf42840/expr.ipynb\"><img src=\"data:image/png;base64,iVBORw0KGgoAAAANSUhEUgAAADMAAAAVBAMAAAAZessyAAAAMFBMVEX////u7u5mZmaYmJi6urqq\n",
       "qqp2dnbMzMwQEBBEREQyMjLc3NwiIiJUVFSIiIgAAAAeC3ydAAAAAXRSTlMAQObYZgAAASlJREFU\n",
       "KM+NkrFOAkEURe/ALrMrIsTKDiprCmPrlFboD5hMZWJD+AO1prGngC8w+wVI7CxMrCxISOiMBQoE\n",
       "KYyid2ZXdjY2TLJv3r4ze+fOmwU2G400PbBx8jMaPUZM5FOKci07fQJhm/NWxVHomSCXgM8Hb674\n",
       "oQk7CyA/Z3Ltoj0TwilQ+gC8novCU4YyS9Ub7qzpsdOf6MYry4Ua0aWGvDcu6oAejsVS+dTxjcb7\n",
       "8/m+8R4oeOoBYgWDvCuWuonnsoIQC/gz5PiFJMYX1sjWBwh0jOQ8QQE35/rtGk6iihU0x4rt0gbX\n",
       "VxWGxTryFA1nCTJ27xSOgNuCfdvtfo9j5A2AY+ACOHvhUZTbgPa/RmU7+jeaGeReisg0FEXnKktR\n",
       "9gfopymN/AJliUQwLxuHhgAAAABJRU5ErkJggg==\n",
       "\" style=\"display:inline;vertical-align:middle;\" /></a><br>"
      ],
      "text/plain": [
       "Pm: P(m)"
      ]
     },
     "execution_count": 7,
     "metadata": {},
     "output_type": "execute_result"
    }
   ],
   "source": [
    "Pm = Function(P, m)"
   ]
  },
  {
   "cell_type": "code",
   "execution_count": 8,
   "metadata": {},
   "outputs": [
    {
     "data": {
      "text/html": [
       "<strong id=\"P_mAddOne\">P_mAddOne:</strong> <a class=\"ProveItLink\" href=\"__pv_it/8f8b06ffd60c6b3baff36499e8066fc20ae6a1f60/expr.ipynb\"><img src=\"data:image/png;base64,iVBORw0KGgoAAAANSUhEUgAAAFcAAAAVBAMAAADBdm84AAAAMFBMVEX////u7u5mZmaYmJi6urqq\n",
       "qqp2dnbMzMwQEBBEREQyMjLc3NwiIiJUVFSIiIgAAAAeC3ydAAAAAXRSTlMAQObYZgAAAVtJREFU\n",
       "KM+dkr9Lw0AUx7/51TStaYNTHSSCICIODtI5g7P4HzSDOEr/A3VxsEscnJs5iAQcBZHuQqZukWzi\n",
       "YGxLdKiKvosBvZBk8EHefXPvk7t83x3w39itKm6n+fkrDO99EmpQSp4DYj9Vc0Ab0NgwytilKSWX\n",
       "KfUNUOhBnGcE/2dcDhncZbKVANKMxEkeVqJMtBjcYUqbAPorILvVsLZHqU2Q6ZADmz54uonHcnxR\n",
       "BNdWKB3ZUEfM3xZN6Fcw99ErghW288v4YI05qVvAzoIDMyqG5WNKw6xjbYIN00LPwEYRrJI3fOAX\n",
       "ZuQmcEpK9LzLM88LOFidZXCduaU1R5DfhZLfYG1OQyODtKaQQHevC2CJDGrTbIa1pplAmqAR2cWt\n",
       "Wxx+ZlPyXbpVzYHy0OdgcX2+Sq21/h7YoPQE0+hwtW4eljn4kKuVX9H0CvJXpxlUwbrPv99WwY/A\n",
       "N7a4YGzwk0+/AAAAAElFTkSuQmCC\n",
       "\" style=\"display:inline;vertical-align:middle;\" /></a><br>"
      ],
      "text/plain": [
       "P_mAddOne: P(m + 1)"
      ]
     },
     "execution_count": 8,
     "metadata": {},
     "output_type": "execute_result"
    }
   ],
   "source": [
    "P_mAddOne = Function(P, Add(m, one))"
   ]
  },
  {
   "cell_type": "code",
   "execution_count": 9,
   "metadata": {},
   "outputs": [
    {
     "data": {
      "text/html": [
       "<strong id=\"Pk\">Pk:</strong> <a class=\"ProveItLink\" href=\"__pv_it/0da1085c05ef4546e43ac3bf20a32a0199c2c0690/expr.ipynb\"><img src=\"data:image/png;base64,iVBORw0KGgoAAAANSUhEUgAAAC0AAAAVBAMAAAAgHXppAAAAMFBMVEX////u7u5mZmaYmJi6urqq\n",
       "qqp2dnbMzMwQEBBEREQyMjLc3NwiIiJUVFSIiIgAAAAeC3ydAAAAAXRSTlMAQObYZgAAARZJREFU\n",
       "GNNjYCACsDyA0CZg8u3/u3fPbgCxahkYZHuANFMBWOIXAwNnN4ixEIgXgRgLQAT7NwYGViBm4AMZ\n",
       "8xUkZAYi+L4wMDB/AjI4BIBWfAQJSYAIzg8MDLwgZV5AzAY2gjMASPADmfITgAw1IOZKYNZ3YGBT\n",
       "ADLrExjYD4FULQZiecdE/wAGVpCu99fS1MDObAHi+DqwRxqAxHwBqLeA9jPoHwE7EWglwx8GJPFz\n",
       "sgeh4uyfYOKtDAyM3xm+ckPMATkfAiYD/fGB8QsbkALay/kRJp4E9McEht98DCB3Cs3/Cw1FBh+g\n",
       "8w0YHiUCKQfkYObYAGNJoAQ/cwKMlYcaLwuhNOMCVPG9UJp3A6o4N9QFzxkYAEBrP6p28ss5AAAA\n",
       "AElFTkSuQmCC\n",
       "\" style=\"display:inline;vertical-align:middle;\" /></a><br>"
      ],
      "text/plain": [
       "Pk: P(k)"
      ]
     },
     "execution_count": 9,
     "metadata": {},
     "output_type": "execute_result"
    }
   ],
   "source": [
    "Pk = Function(P, k)"
   ]
  },
  {
   "cell_type": "code",
   "execution_count": 10,
   "metadata": {},
   "outputs": [
    {
     "data": {
      "text/html": [
       "<strong id=\"iter_a1l\">iter_a1l:</strong> <a class=\"ProveItLink\" href=\"__pv_it/1f2c8ad579c9c64ee4301706bd1078d4fd312a640/expr.ipynb\"><img src=\"data:image/png;base64,iVBORw0KGgoAAAANSUhEUgAAAFYAAAAOBAMAAABHpfZeAAAAMFBMVEX///+qqqpUVFRmZmbMzMzc\n",
       "3NyYmJh2dnYQEBAyMjK6urru7u5EREQiIiKIiIgAAABAyT8mAAAAAXRSTlMAQObYZgAAANxJREFU\n",
       "KM9jYGB4e/fNBQa8AK5i7y+G+Q14lSJUzC9gqD/AwOCDWy1ExabfDGz/AxjmP2Bw1sWpFKqC6wID\n",
       "518Ghv8ODAyyONVCVbAbMPB/ZmD5z4BPLVQFZwID/zcGvp9sC/CphajgD2Dg+MXA85kzAKx2AxBz\n",
       "M8AIGA+qwoOBge87Q/0/T7AbuIEOY9h/AUrAeVAVb0ABffP1iakQtf0BDAw7gOEHJrh7QIyvcBXn\n",
       "EK4CuYErAMOxS+GsFgcUtWyYHkuAMbg/PIAxw+fb4VfLoC6AIvEAQykfMgcAX61Tpt2/KRkAAAAA\n",
       "SUVORK5CYII=\n",
       "\" style=\"display:inline;vertical-align:middle;\" /></a><br>"
      ],
      "text/plain": [
       "iter_a1l: a_1,...,a_l"
      ]
     },
     "execution_count": 10,
     "metadata": {},
     "output_type": "execute_result"
    }
   ],
   "source": [
    "iter_a1l = varIter(aa, one, l)"
   ]
  },
  {
   "cell_type": "code",
   "execution_count": 11,
   "metadata": {},
   "outputs": [
    {
     "data": {
      "text/html": [
       "<strong id=\"iter_b1m\">iter_b1m:</strong> <a class=\"ProveItLink\" href=\"__pv_it/748541dffe8b2c844eaa33cb91add57b29e83e2b0/expr.ipynb\"><img src=\"data:image/png;base64,iVBORw0KGgoAAAANSUhEUgAAAFsAAAATBAMAAAANE2yrAAAAMFBMVEX///+6urp2dnZmZmaIiIiq\n",
       "qqru7u5ERETc3NyYmJgQEBBUVFQyMjLMzMwiIiIAAAC3GpdEAAAAAXRSTlMAQObYZgAAATVJREFU\n",
       "KM9j4P//gAE/+P8PicN7fgMB5Xd+I/PWTyCgnOsnEofjfwMB5f0/kDicvwioZpi/AInD/a9mdQJe\n",
       "5fufn9qGcNmfhnz8YbP+BNs/ZJfxfWXgLcCpGuS59wEwXvwCBv4vvNa4LWAFeu6/A4xnX8DQ/5OB\n",
       "Fbdy5u9AC+CB/d6BYf4PfMr5vjBwIgJ7/QWG+gP4lHP9ZWD/wzDZ0WmDSy0Dw/kGtv8XwMrZQJJg\n",
       "IgGZwfODIf8v28SfDK8ZZgMjYULOVwawcnB4gghwuMEZnD/ZzgdwpBxg+MugDOS9W30BojwLFNlZ\n",
       "wBBlWw5jrAe5ed6rvcDYdOBdwHAUHlogkyUw3M0I9yLXBZYCjg8CyMoxkyYnIjaB5nMWKEBjTuez\n",
       "A37l4gx8F3iLkBMvC2YgOqALAADPz2i+IKAeAAAAAABJRU5ErkJggg==\n",
       "\" style=\"display:inline;vertical-align:middle;\" /></a><br>"
      ],
      "text/plain": [
       "iter_b1m: b_1,...,b_m"
      ]
     },
     "execution_count": 11,
     "metadata": {},
     "output_type": "execute_result"
    }
   ],
   "source": [
    "iter_b1m = varIter(bb, one, m)"
   ]
  },
  {
   "cell_type": "code",
   "execution_count": 12,
   "metadata": {},
   "outputs": [
    {
     "data": {
      "text/html": [
       "<strong id=\"iter_c1m\">iter_c1m:</strong> <a class=\"ProveItLink\" href=\"__pv_it/4afbe8c34816880f45fbab1958df15395de895de0/expr.ipynb\"><img src=\"data:image/png;base64,iVBORw0KGgoAAAANSUhEUgAAAFwAAAAOBAMAAABQh2aXAAAAMFBMVEX///+IiIju7u4yMjJmZma6\n",
       "urrc3NxUVFTMzMx2dnaYmJgiIiIQEBBERESqqqoAAAAc6Zi6AAAAAXRSTlMAQObYZgAAAPhJREFU\n",
       "KM9jYGB4e3oXA17Ad2f3AjiH9yfD/Aa8yu9P4PyB4BSw/Q9g6MWtmvc7Q/5XuE3/Exg8GVqqcSt/\n",
       "/42BZQKMw/wbTL3Grdx+AxKH/wsh5f8dkJX/IqgcFCxcjoHTGWUbGLiBylkfgJUrMEAJJhTGfqDy\n",
       "OK34BdwFXAUMfH8ZmOYkgJQzgXwBJvQ3IDEY3l9g0DyWJMzA38AJdFbw4c2TwI5hOp8AJM4CFehc\n",
       "gDG+AQlWG2tLBYZChh4G5gcwB4Icw5qA4e4wOOsEgyxDPiuyci5Mb8Ijn+0D0Py1nFBepr0jfuWs\n",
       "Fxh2MPROQ5YTwFDNiC4AAH/5SCJgKg2GAAAAAElFTkSuQmCC\n",
       "\" style=\"display:inline;vertical-align:middle;\" /></a><br>"
      ],
      "text/plain": [
       "iter_c1m: c_1,...,c_m"
      ]
     },
     "execution_count": 12,
     "metadata": {},
     "output_type": "execute_result"
    }
   ],
   "source": [
    "iter_c1m = varIter(cc, one, m)"
   ]
  },
  {
   "cell_type": "code",
   "execution_count": 13,
   "metadata": {},
   "outputs": [
    {
     "data": {
      "text/html": [
       "<strong id=\"iter_c1n\">iter_c1n:</strong> <a class=\"ProveItLink\" href=\"__pv_it/a43146eacc0ab4abae726ff7df36ba1f5f7f5b050/expr.ipynb\"><img src=\"data:image/png;base64,iVBORw0KGgoAAAANSUhEUgAAAFcAAAAOBAMAAACoZ51gAAAAMFBMVEX///+IiIju7u4yMjJmZma6\n",
       "urrc3NxUVFTMzMx2dnaYmJgiIiIQEBBERESqqqoAAAAc6Zi6AAAAAXRSTlMAQObYZgAAANRJREFU\n",
       "KM9jYGB4e3oXA16ApID3J8P8BnxqkRXcL2D7H8DQi1sxRAEY8P1PYPBkaKnGqRaiAAKYf4Op1zgV\n",
       "QxWAAf8XAoqhCiDsX4QUgxUsEZUsYGDgBrJZH4AVKwAxEwMyA0SAFTxa+othB9D9fxmY5iSAFDOB\n",
       "HKe/AYkBJsAK0hQNGL4BBYIPb54EdgbT+QQGBp0LQMZZBgiDQQeugF2A9QDcZSBnsCZgODgMxuBp\n",
       "YHEIQFbMhem7BTBGPgNPKywaM+0d8SuOZWCZhSIjgKGWEZULAOy2Q9Zq10q5AAAAAElFTkSuQmCC\n",
       "\" style=\"display:inline;vertical-align:middle;\" /></a><br>"
      ],
      "text/plain": [
       "iter_c1n: c_1,...,c_n"
      ]
     },
     "execution_count": 13,
     "metadata": {},
     "output_type": "execute_result"
    }
   ],
   "source": [
    "iter_c1n = varIter(cc, one, n)"
   ]
  },
  {
   "cell_type": "code",
   "execution_count": 14,
   "metadata": {},
   "outputs": [
    {
     "data": {
      "text/html": [
       "<strong id=\"iter_d1n\">iter_d1n:</strong> <a class=\"ProveItLink\" href=\"__pv_it/f2d0e3fb5d4853ef61ad0de44408243cf6a663830/expr.ipynb\"><img src=\"data:image/png;base64,iVBORw0KGgoAAAANSUhEUgAAAFsAAAATBAMAAAANE2yrAAAAMFBMVEX///9UVFREREQQEBDMzMxm\n",
       "Zmbc3NyYmJgiIiIyMjJ2dna6urru7u6IiIiqqqoAAAC0razwAAAAAXRSTlMAQObYZgAAAQhJREFU\n",
       "KM9jYACC9/8vMOAHKCpO/99AQDmKCu7/BFSjquD6SUg5igrOX4SUI6m40bH+N37FyCpO/GaY/wGv\n",
       "ahQV8xcwrJ/AwOCEWzlUBRiw/08A8V0lcKqGqoB64gcDAyhQX+D2JlQFGPB/ZWD5fwCfcpgKCOc7\n",
       "A+8P9g34lENUlN6+JcDAwPybgekrZwJYOcgIHgZkBoiAqMip/s7QwsDA+4th/V9PsGN4gI5kON+A\n",
       "xAATEBVsZycwfAPFQecd5WkQ5fYJDAyHFYAMIwYIg+EwQgXjBW4DhAtBjuFOwHD4NjiL2YE1YAOK\n",
       "cnZMfxbAWfkMzN4OME7W/FgCyjcxsC5HlcPMU7xofAA/gWwXKMkICQAAAABJRU5ErkJggg==\n",
       "\" style=\"display:inline;vertical-align:middle;\" /></a><br>"
      ],
      "text/plain": [
       "iter_d1n: d_1,...,d_n"
      ]
     },
     "execution_count": 14,
     "metadata": {},
     "output_type": "execute_result"
    }
   ],
   "source": [
    "iter_d1n = varIter(dd, one, n)"
   ]
  },
  {
   "cell_type": "code",
   "execution_count": 15,
   "metadata": {},
   "outputs": [
    {
     "name": "stdout",
     "output_type": "stream",
     "text": [
      "Common expressions may be imported from autogenerated _common_.py\n"
     ]
    }
   ],
   "source": [
    "%end common"
   ]
  },
  {
   "cell_type": "code",
   "execution_count": null,
   "metadata": {},
   "outputs": [],
   "source": []
  }
 ],
 "metadata": {
  "kernelspec": {
   "display_name": "Python 3",
   "language": "python",
   "name": "python3"
  }
 },
 "nbformat": 4,
 "nbformat_minor": 0
}
