{
 "cells": [
  {
   "cell_type": "markdown",
   "metadata": {
    "collapsed": true,
    "deletable": true,
    "editable": true
   },
   "source": [
    "Common expressions for context <a href=\"_context_.ipynb\" class=\"ProveItLink\">proveit.number</a>\n",
    "========"
   ]
  },
  {
   "cell_type": "code",
   "execution_count": 1,
   "metadata": {
    "collapsed": false,
    "deletable": true,
    "editable": true
   },
   "outputs": [
    {
     "name": "stdout",
     "output_type": "stream",
     "text": [
      "Defining common sub-expressions for context 'proveit.number'\n",
      "Subsequent end-of-cell assignments will define common sub-expressions\n",
      "%end_common will finalize the definitions\n"
     ]
    }
   ],
   "source": [
    "from proveit import Function\n",
    "from proveit._common_ import P, k, m, n\n",
    "from proveit.logic import Set, Difference\n",
    "from proveit.number import Add, Complexes, zero, one\n",
    "%begin common"
   ]
  },
  {
   "cell_type": "code",
   "execution_count": 2,
   "metadata": {
    "collapsed": false,
    "deletable": true,
    "editable": true
   },
   "outputs": [
    {
     "data": {
      "text/html": [
       "<strong id=\"ComplexesSansZero\">ComplexesSansZero:</strong> <a class=\"ProveItLink\" href=\"__pv_it/d51012a05b0a7d600194020085a2c3980b0c9e0b0/expr.ipynb\"><img src=\"__pv_it/d51012a05b0a7d600194020085a2c3980b0c9e0b0/expr.png\" style=\"display:inline;vertical-align:middle;\" /></a><br>"
      ],
      "text/plain": [
       "ComplexesSansZero: Complexes - {0}"
      ]
     },
     "execution_count": 2,
     "metadata": {},
     "output_type": "execute_result"
    }
   ],
   "source": [
    "ComplexesSansZero = Difference(Complexes, Set(zero))"
   ]
  },
  {
   "cell_type": "code",
   "execution_count": 3,
   "metadata": {
    "collapsed": false,
    "deletable": true,
    "editable": true
   },
   "outputs": [
    {
     "data": {
      "text/html": [
       "<strong id=\"Pzero\">Pzero:</strong> <a class=\"ProveItLink\" href=\"__pv_it/8a382517cc4632dcdb7e9903bb844dacdde0934e0/expr.ipynb\"><img src=\"__pv_it/8a382517cc4632dcdb7e9903bb844dacdde0934e0/expr.png\" style=\"display:inline;vertical-align:middle;\" /></a><br>"
      ],
      "text/plain": [
       "Pzero: P(0)"
      ]
     },
     "execution_count": 3,
     "metadata": {},
     "output_type": "execute_result"
    }
   ],
   "source": [
    "Pzero = Function(P, zero)"
   ]
  },
  {
   "cell_type": "code",
   "execution_count": 4,
   "metadata": {
    "collapsed": false
   },
   "outputs": [
    {
     "data": {
      "text/html": [
       "<strong id=\"Pone\">Pone:</strong> <a class=\"ProveItLink\" href=\"__pv_it/1f2e8720e32d098167fbab987bf00a7163b81c670/expr.ipynb\"><img src=\"__pv_it/1f2e8720e32d098167fbab987bf00a7163b81c670/expr.png\" style=\"display:inline;vertical-align:middle;\" /></a><br>"
      ],
      "text/plain": [
       "Pone: P(1)"
      ]
     },
     "execution_count": 4,
     "metadata": {},
     "output_type": "execute_result"
    }
   ],
   "source": [
    "Pone = Function(P, one)"
   ]
  },
  {
   "cell_type": "code",
   "execution_count": 5,
   "metadata": {
    "collapsed": false,
    "deletable": true,
    "editable": true
   },
   "outputs": [
    {
     "data": {
      "text/html": [
       "<strong id=\"Pn\">Pn:</strong> <a class=\"ProveItLink\" href=\"__pv_it/20f66fb84c2270f9538a0cccaaaccf2060edd0940/expr.ipynb\"><img src=\"__pv_it/20f66fb84c2270f9538a0cccaaaccf2060edd0940/expr.png\" style=\"display:inline;vertical-align:middle;\" /></a><br>"
      ],
      "text/plain": [
       "Pn: P(n)"
      ]
     },
     "execution_count": 5,
     "metadata": {},
     "output_type": "execute_result"
    }
   ],
   "source": [
    "Pn = Function(P, n)"
   ]
  },
  {
   "cell_type": "code",
   "execution_count": 6,
   "metadata": {
    "collapsed": false,
    "deletable": true,
    "editable": true
   },
   "outputs": [
    {
     "data": {
      "text/html": [
       "<strong id=\"P_nAddOne\">P_nAddOne:</strong> <a class=\"ProveItLink\" href=\"__pv_it/efe84e2b80364a18468b57948659368f3ebaea270/expr.ipynb\"><img src=\"__pv_it/efe84e2b80364a18468b57948659368f3ebaea270/expr.png\" style=\"display:inline;vertical-align:middle;\" /></a><br>"
      ],
      "text/plain": [
       "P_nAddOne: P(n + 1)"
      ]
     },
     "execution_count": 6,
     "metadata": {},
     "output_type": "execute_result"
    }
   ],
   "source": [
    "P_nAddOne = Function(P, Add(n, one))"
   ]
  },
  {
   "cell_type": "code",
   "execution_count": 7,
   "metadata": {
    "collapsed": false,
    "deletable": true,
    "editable": true
   },
   "outputs": [
    {
     "data": {
      "text/html": [
       "<strong id=\"Pm\">Pm:</strong> <a class=\"ProveItLink\" href=\"__pv_it/9b741a98b2b13f75e88d8924f5dca976c2bf42840/expr.ipynb\"><img src=\"__pv_it/9b741a98b2b13f75e88d8924f5dca976c2bf42840/expr.png\" style=\"display:inline;vertical-align:middle;\" /></a><br>"
      ],
      "text/plain": [
       "Pm: P(m)"
      ]
     },
     "execution_count": 7,
     "metadata": {},
     "output_type": "execute_result"
    }
   ],
   "source": [
    "Pm = Function(P, m)"
   ]
  },
  {
   "cell_type": "code",
   "execution_count": 8,
   "metadata": {
    "collapsed": false,
    "deletable": true,
    "editable": true
   },
   "outputs": [
    {
     "data": {
      "text/html": [
       "<strong id=\"P_mAddOne\">P_mAddOne:</strong> <a class=\"ProveItLink\" href=\"__pv_it/c89190f00657e021623894199726d61226593eb30/expr.ipynb\"><img src=\"__pv_it/c89190f00657e021623894199726d61226593eb30/expr.png\" style=\"display:inline;vertical-align:middle;\" /></a><br>"
      ],
      "text/plain": [
       "P_mAddOne: P(m + 1)"
      ]
     },
     "execution_count": 8,
     "metadata": {},
     "output_type": "execute_result"
    }
   ],
   "source": [
    "P_mAddOne = Function(P, Add(m, one))"
   ]
  },
  {
   "cell_type": "code",
   "execution_count": 9,
   "metadata": {
    "collapsed": false,
    "deletable": true,
    "editable": true
   },
   "outputs": [
    {
     "data": {
      "text/html": [
       "<strong id=\"Pk\">Pk:</strong> <a class=\"ProveItLink\" href=\"__pv_it/0da1085c05ef4546e43ac3bf20a32a0199c2c0690/expr.ipynb\"><img src=\"__pv_it/0da1085c05ef4546e43ac3bf20a32a0199c2c0690/expr.png\" style=\"display:inline;vertical-align:middle;\" /></a><br>"
      ],
      "text/plain": [
       "Pk: P(k)"
      ]
     },
     "execution_count": 9,
     "metadata": {},
     "output_type": "execute_result"
    }
   ],
   "source": [
    "Pk = Function(P, k)"
   ]
  },
  {
   "cell_type": "code",
   "execution_count": 10,
   "metadata": {
    "collapsed": false,
    "deletable": true,
    "editable": true
   },
   "outputs": [
    {
     "name": "stdout",
     "output_type": "stream",
     "text": [
      "Common expressions may be imported from autogenerated _common_.py\n"
     ]
    }
   ],
   "source": [
    "%end common"
   ]
  },
  {
   "cell_type": "code",
   "execution_count": 11,
   "metadata": {
    "collapsed": true,
    "deletable": true,
    "editable": true
   },
   "outputs": [],
   "source": []
  }
 ],
 "metadata": {
  "kernelspec": {
   "display_name": "Python 3",
   "language": "python",
   "name": "python3"
  },
  "language_info": {
   "codemirror_mode": {
    "name": "ipython",
    "version": 3
   },
   "file_extension": ".py",
   "mimetype": "text/x-python",
   "name": "python",
   "nbconvert_exporter": "python",
   "pygments_lexer": "ipython3",
   "version": "3.7.0"
  }
 },
 "nbformat": 4,
 "nbformat_minor": 0
}
