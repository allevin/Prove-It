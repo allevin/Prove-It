{
 "cells": [
  {
   "cell_type": "code",
   "execution_count": 1,
   "metadata": {},
   "outputs": [
    {
     "data": {
      "text/html": [
       "<strong id=\"AeqB\">AeqB:</strong> <a class=\"ProveItLink\" href=\"__pv_it/a0d1a08c682d31946e7e9403c9d2076b8489e8ce0/expr.ipynb\"><img src=\"data:image/png;base64,iVBORw0KGgoAAAANSUhEUgAAADsAAAAOBAMAAABjvHmeAAAAMFBMVEX///92dnYQEBBERERUVFS6\n",
       "urqIiIhmZmaqqqrc3Nzu7u6YmJgyMjIiIiLMzMwAAACFkkdwAAAAAXRSTlMAQObYZgAAAMhJREFU\n",
       "GNNjYACBtwzogNv/i4vzUSjnPIY0A5MBA0N9AETp/QUY0u8TgNgBzJxRPwFDOh8otF8AzEzID8CQ\n",
       "NgLiS2BDWRf0b8CQ/sLAMMcKzFoKtoiBoeYMCBwBi/F9SUu/DVEYwDC/AF0z208GhrVgl/G5uPgb\n",
       "oEszKwCV/AZbDfTkAXRpfqBO7o8gVgMDA68CiFF7FwQuQ7wNdCzLDyCDEyjN8wGbt+eDzFwDsukX\n",
       "Fm/z6QC9PVn/JAO3/R80pxf/d3E5AzQfAA2VOu5n+dVqAAAAAElFTkSuQmCC\n",
       "\" style=\"display:inline;vertical-align:middle;\" /></a><br>\n",
       "<strong id=\"CeqD\">CeqD:</strong> <a class=\"ProveItLink\" href=\"__pv_it/28df32d141acdf260d692e8a84298f2d99d076640/expr.ipynb\"><img src=\"data:image/png;base64,iVBORw0KGgoAAAANSUhEUgAAADwAAAAOBAMAAACBYGLnAAAAMFBMVEX////MzMyqqqoiIiIyMjK6\n",
       "uroQEBB2dnbc3NyYmJhmZmZUVFRERESIiIju7u4AAAB204erAAAAAXRSTlMAQObYZgAAANJJREFU\n",
       "GNNjYGDgu7NrJccCBlTAu//37i0HQayyCQysyyagSTPwOzAw6CswMDyxA3LqG9Cl5QsYGLj+MTC4\n",
       "PQBywtBlGe4HMDAw/mXg+gTidGFInwdijt8M/Q4gzkMM6T9AzPibYT3CUUtcQMAbzAaay8DA+Z3B\n",
       "HsNREI99BBLcXxn+g3kP0KV5PgAJtgSGfBCHSQDD2weAxPwJDPtBGrnAQouNQcAG4u0LQCIHStdh\n",
       "ehtoHo8f0HVAf0c1YPM2oxeIIe29SgFdkm/N/927TwENAABfrzXqh8OCCQAAAABJRU5ErkJggg==\n",
       "\" style=\"display:inline;vertical-align:middle;\" /></a><br>\n",
       "<strong id=\"BimplC\">BimplC:</strong> <a class=\"ProveItLink\" href=\"__pv_it/2a4514f51d0fffe545c3e61025df66fded24ea200/expr.ipynb\"><img src=\"data:image/png;base64,iVBORw0KGgoAAAANSUhEUgAAAEEAAAAPBAMAAABJi79qAAAAMFBMVEX///+qqqru7u4iIiJ2dnbc\n",
       "3NyIiIjMzMxmZmYQEBC6uroyMjJERERUVFSYmJgAAADLUcuvAAAAAXRSTlMAQObYZgAAAPhJREFU\n",
       "GNNjYGB4+//u3dMLGDABU86NPtYGEGsOAwPHLywqPB8wcHU+ADLYvwHxX4ROGEPbCEj4BwAJtq8M\n",
       "DHxf4Cq4FaCMnSDGShCLZwIDA/MkuAquCxCa4yOIjAAR/BcYWPcoIKx3g1DxG0CkOoiov5bW/AAs\n",
       "2GwMAvZg5zP0P4DryQ9gYLJF9oM02Ov2AXCBkyBVD5DDYSdIyX8wG2w7yKPvHZBUVDuByPkggrEA\n",
       "FBz/gMR9AYQ7jA+B1d0HaedggAYH628kI2QhVH0CkHCCBUflJoQC1g0Qmg8YHitAruU4//fu7X1I\n",
       "RvDA/FC7t0OAARtgR+MDAAhbPiSyASIoAAAAAElFTkSuQmCC\n",
       "\" style=\"display:inline;vertical-align:middle;\" /></a><br>"
      ],
      "text/plain": [
       "AeqB: A = B\n",
       "CeqD: C = D\n",
       "BimplC: B => C"
      ]
     },
     "execution_count": 1,
     "metadata": {},
     "output_type": "execute_result"
    }
   ],
   "source": [
    "import proveit\n",
    "from proveit import ProofFailure\n",
    "%begin example_motivating_search\n",
    "from proveit._common_ import A, B, C, D\n",
    "from proveit.logic import Implies, Equals\n",
    "AeqB, CeqD, BimplC = Equals(A, B), Equals(C, D), Implies(B, C)"
   ]
  },
  {
   "cell_type": "code",
   "execution_count": 2,
   "metadata": {},
   "outputs": [
    {
     "data": {
      "text/html": [
       "<span style=\"font-size:20px;\"><a class=\"ProveItLink\" href=\"__pv_it/98b4bdfa72348965ccff660267ac454bbd7978910/expr.ipynb\"><img src=\"data:image/png;base64,iVBORw0KGgoAAAANSUhEUgAAAG0AAAAVBAMAAAC+p33JAAAAMFBMVEX////c3NxERESqqqpUVFS6\n",
       "urrMzMwyMjIQEBCIiIh2dnYiIiLu7u5mZmaYmJgAAABXZE4RAAAAAXRSTlMAQObYZgAAAZFJREFU\n",
       "OMtjYGDgu8dAEmBbJQCieHYxkAjYmkEk5wcgwef/xcWpFCqOwkEBJ1XuPpBlYLgOYnM1gEgOBQaG\n",
       "+wFQaRQOEuDqY2CIBeIVCH35E4DYASqPwmFgOACleaqBLK6PKPrmA/36fgFUAQqHgaEGSrP3AAnW\n",
       "BhR9GkC8A2YwCoeBIQRK3zcAEowXUPR9YWAQ14EpROEAVUwAU4zfwY5NgOrjLQAF7ZeZc/fBwxnO\n",
       "4d0NBn8hnH8wBe9BRAYo4DiBvj0NCwkUDggwgyOF+yOMzw50a0obiMUEdCwnzDwUDhgcbwUS/B/A\n",
       "7gQR6g8YGCISQGJA4/l+QVWhcMAOrwIFEgdYnxnIZlBYs4D8lw80gOUzLPrgHKj/NoHDluUPiLwA\n",
       "8x/XBmiMyRdAoxjGgXsP4le2nyDVIBWIeADGGFv7AQae3wwIDhyIw4LRgIH1IgOyvkv/XVzKga7j\n",
       "6RdAcOBAEeZNd9/LDCj64IBVAEsuSEAXwNTHR1QGBOvjI10fOP/x7EQSmUBUfm+F2LGYjPIFADFG\n",
       "fTi3WjPiAAAAAElFTkSuQmCC\n",
       "\" style=\"display:inline;vertical-align:middle;\" /></a> <a class=\"ProveItLink\" href=\"__pv_it/0c590992e2fe78f31ae1444975faac2c159bcbb20/proof.ipynb\" style=\"text-decoration: none\">&#x22A2;&nbsp;</a><a class=\"ProveItLink\" href=\"__pv_it/985a1bdf1540838275dec15f4ad6de261cca93ce0/expr.ipynb\"><img src=\"data:image/png;base64,iVBORw0KGgoAAAANSUhEUgAAAA8AAAAOBAMAAAACpFvcAAAAMFBMVEX////MzMyqqqoiIiIyMjK6\n",
       "uroQEBB2dnbc3NyYmJhmZmZUVFRERESIiIju7u4AAAB204erAAAAAXRSTlMAQObYZgAAAGZJREFU\n",
       "CNdjYGDgu7NrJccCBgaGsgkMrMsmMDA8sQNy6hsYGNweABlhDAxcn4A0QxcDQ78DiPGQgWH9BAYI\n",
       "sG+AMv6DSaCGfBDNJMDAsB+kmwuI5S8AiTog5gSaEwXWIO29SgFIAQBC+RaDQlidVgAAAABJRU5E\n",
       "rkJggg==\n",
       "\" style=\"display:inline;vertical-align:middle;\" /></a></span>"
      ],
      "text/plain": [
       "{B , B => C} |- C"
      ]
     },
     "execution_count": 2,
     "metadata": {},
     "output_type": "execute_result"
    }
   ],
   "source": [
    "C.prove([B, BimplC])"
   ]
  },
  {
   "cell_type": "code",
   "execution_count": 3,
   "metadata": {},
   "outputs": [
    {
     "data": {
      "text/html": [
       "<span style=\"font-size:20px;\"><a class=\"ProveItLink\" href=\"__pv_it/4193ce7014f4b627690ac5dff86b0fc4b19d10740/expr.ipynb\"><img src=\"data:image/png;base64,iVBORw0KGgoAAAANSUhEUgAAALMAAAAVBAMAAAD/f8IzAAAAMFBMVEX////c3NxERESqqqpUVFS6\n",
       "urrMzMwyMjIQEBCIiIh2dnYiIiLu7u5mZmaYmJgAAABXZE4RAAAAAXRSTlMAQObYZgAAAllJREFU\n",
       "OMu1VTFLHEEUfl7u1tt1d93OSmJA1MLgVbYecmAlJmBhI1xhke6uUAwmghjURs7DLkVQSBNCQEkV\n",
       "jcSrNCFFEi0URO/+wWk0EY1G35uZnd3ZvWILfbBv5pt58+28N9/sAoB9BHdt2nuHGnMd7t60V+T1\n",
       "Y3T2wFmmd0yMK0Cxb62HlWbRNxf7j+p+BgJ0XNrXhp09QsYU+WQLQPmJCFCAz4wCwHBBgHcVSOxX\n",
       "giGNeYCeFM561LkiPmkxrwCAkrvPF9gzTjjY3kC34gSpc8sA1pVCvYRB1WUxrwCAl6Ktn0eXmOLg\n",
       "Ob1wKJTYEiarXSjUHfh8crenAIBB0ZYxURDltU7JN4eouyjkTKFG1NTpzisAI4qsqTtnVcky8DBP\n",
       "fitE/Zvk4VJbeYZev/kilSOB9ZnZNQf/fRRl7wD3xslG+dILUtgl1pPQM5KCjofz3T04BZA9YEps\n",
       "OPENbTo19az/RRf/g+eCdRuZpaEYVkV3d6UALocZ0tUxKwgfuVG0Iy1GMUkqcTumNUTFa0zzPLg2\n",
       "/YClOUEcSUbdzYcWWDbZkKzxRkAVWRtIYHGqdQ5R/NTVpgSi1h/Z7uJX5MX9G6Ahi3UPeIy8ETAN\n",
       "otbGqlAyHXoJfECWOu0dkVHiJWEcH8KyxjxidA888aGStTlc9Q88IK1JtNUUJH4B/KC92JjVsFNL\n",
       "1tok+Kl3bjKZcSyDueB4QNojt+R9/bvYfGVKGRk9TAWJTVr6OKtQS0vU0lTwsJ5G+KqGqe0oH+NK\n",
       "VGr7XqjZ99pc840UI6zSo/xlZvhO397Pv/EW8ra6/hyfWdQAAAAASUVORK5CYII=\n",
       "\" style=\"display:inline;vertical-align:middle;\" /></a> <a class=\"ProveItLink\" href=\"__pv_it/ccb7b43b6c0e82ade8aed7a6c4e49fd64cfb5b400/proof.ipynb\" style=\"text-decoration: none\">&#x22A2;&nbsp;</a><a class=\"ProveItLink\" href=\"__pv_it/185e6d30f167ee2ee5ef3321098dc98e0d77bc590/expr.ipynb\"><img src=\"data:image/png;base64,iVBORw0KGgoAAAANSUhEUgAAABEAAAAOBAMAAAA7w+qHAAAALVBMVEX///8QEBCYmJjc3Ny6urru\n",
       "7u5mZmZ2dnaqqqrMzMxEREQyMjJUVFSIiIgAAABETr/8AAAAAXRSTlMAQObYZgAAAGpJREFUCNdj\n",
       "YGC48+7MmV0TGEDgNQMDxwsQg/M5kMgLABK8T4DEvAtAgusBkLA7ACT4FoDEDsAk9AqAxD2QCecc\n",
       "gMQ6kAGCIOIVEDM9Ahn3FkgwgnTxvgQSqwOgxs1OADLC1r05cyoTyAAAv4Qe+njAWvgAAAAASUVO\n",
       "RK5CYII=\n",
       "\" style=\"display:inline;vertical-align:middle;\" /></a></span>"
      ],
      "text/plain": [
       "{B , B => C , C = D} |- D"
      ]
     },
     "execution_count": 3,
     "metadata": {},
     "output_type": "execute_result"
    }
   ],
   "source": [
    "CeqD.deriveRightViaEquivalence([B, BimplC, CeqD])"
   ]
  },
  {
   "cell_type": "code",
   "execution_count": 4,
   "metadata": {},
   "outputs": [
    {
     "data": {
      "text/html": [
       "<span style=\"font-size:20px;\"><a class=\"ProveItLink\" href=\"__pv_it/67cd1f1a94aa0787aed5dc781babed11910aa4d80/expr.ipynb\"><img src=\"data:image/png;base64,iVBORw0KGgoAAAANSUhEUgAAAGcAAAAVBAMAAACphe0AAAAAMFBMVEX///9ERETc3NyqqqpUVFS6\n",
       "urrMzMwyMjIQEBCIiIh2dnYiIiLu7u5mZmaYmJgAAABJJ2g3AAAAAXRSTlMAQObYZgAAAYFJREFU\n",
       "OMtjYGDgu8dAPGBbpQCieHYxkALYmkEk5wcobwOSVDaGYj7/Ly6OpUDGdRCPqwEiyv4BSUk9phUc\n",
       "AgwM9wMYGFYga3r9B8nY/QcwNOVPAGIHVE1Mtp8QCpTvK2Bomg8Uer8AVRMn51eEggnzAzA0SQDx\n",
       "jgOommKY/8HlWQ/YP8DQ9IWBQV2GAaqJtwAc8AFsP+HyR8EeAAZUOQiUQAL3y8y5+0CM9yAiA+wS\n",
       "Vgamv3BNAQz6F9At4gR6+bQDKJSBUiltYLEUF5eP8PhzcfEXQNfECPQFJ9gH4kCnRyRADGdoh3sJ\n",
       "GCkF6Jr4gbbw/QIyuIEhyMACkmcGBQ1M3gAoAw6d27tBYCMkmoDms3yG+YkLlHyUIamABxxjBmjJ\n",
       "Ax5N+gUMSEHOA+LJH2A4DzLgOMgHf7BEE1v7ASRNTBLfFRge/q9lOAEMIsX+IgY++e9owXfxv4tL\n",
       "OTjyUNIeGAQRzhuYmh4QqYmPRE3g/MSzEynaici5rZDMs5jUMgIAc+hqoq3gMGIAAAAASUVORK5C\n",
       "YII=\n",
       "\" style=\"display:inline;vertical-align:middle;\" /></a> <a class=\"ProveItLink\" href=\"__pv_it/af4198ea36fe215fb0fcaf316b6e46ddb84c4ad60/proof.ipynb\" style=\"text-decoration: none\">&#x22A2;&nbsp;</a><a class=\"ProveItLink\" href=\"__pv_it/077b2ff79244fb4582cbe22c6e3356fa92a52f2f0/expr.ipynb\"><img src=\"data:image/png;base64,iVBORw0KGgoAAAANSUhEUgAAABAAAAAOBAMAAADUAYG5AAAAMFBMVEX///+qqqru7u4iIiJ2dnbc\n",
       "3NyIiIjMzMxmZmYQEBC6uroyMjJERERUVFSYmJgAAADLUcuvAAAAAXRSTlMAQObYZgAAAGpJREFU\n",
       "CNdjYGB4+//u3dMLGIBgDgMDxy8gzf4NiP8CGWxfGRj4vgAZPBMYGJgnARn8FxhY9ygAGfXX0pof\n",
       "gDTlBzAw2YIYJ0EckBBI53sHoBH/gIz7AhBjWH9DjancBLTl/N+7t/cxMAAA3u4f/5xagjYAAAAA\n",
       "SUVORK5CYII=\n",
       "\" style=\"display:inline;vertical-align:middle;\" /></a></span>"
      ],
      "text/plain": [
       "{A , A = B} |- B"
      ]
     },
     "execution_count": 4,
     "metadata": {},
     "output_type": "execute_result"
    }
   ],
   "source": [
    "AeqB.deriveRightViaEquivalence([A, AeqB])"
   ]
  },
  {
   "cell_type": "code",
   "execution_count": 5,
   "metadata": {},
   "outputs": [
    {
     "name": "stdout",
     "output_type": "stream",
     "text": [
      "Fails as expected but not as desired:\n",
      "Unable to prove D assuming {A, A = B, B => C, C = D}: 'conclude' method not implemented for proof automation\n"
     ]
    }
   ],
   "source": [
    "try:\n",
    "    D.prove([A, AeqB, BimplC, CeqD])\n",
    "except ProofFailure as e:\n",
    "    print(\"Fails as expected but not as desired:\")\n",
    "    print(e)"
   ]
  },
  {
   "cell_type": "code",
   "execution_count": 6,
   "metadata": {},
   "outputs": [
    {
     "data": {
      "text/html": [
       "<span style=\"font-size:20px;\"><a class=\"ProveItLink\" href=\"__pv_it/9ca6a142b9f886973f2638bee262ab228c6444e50/expr.ipynb\"><img src=\"data:image/png;base64,iVBORw0KGgoAAAANSUhEUgAAAPcAAAAVBAMAAABoLmXpAAAAMFBMVEX///9ERETc3NyqqqpUVFS6\n",
       "urrMzMwyMjIQEBCIiIh2dnYiIiLu7u5mZmaYmJgAAABJJ2g3AAAAAXRSTlMAQObYZgAAAulJREFU\n",
       "SMfFVk1oE0EUfk2ym2yyWYuI9qBkpYeeSnPyJo2w0FNJKB56sJBDDoIHg1QqalGR2os08ehBWvAi\n",
       "Imhv/mH3oq148O+gIG3i2UP6Ew1qmvjezGb/ZiE5mQeZ2W/mzftm3s9MAEDbgv8v8kOdOvU59EPk\n",
       "m9Qq2xZ64po6Jyhr2bpx6mIQ8MjbQ5vVUetbvTO5FfrgU1Bw6cRh/PhCKH6dj0a3XSrXRLOxQYBK\n",
       "Lgi4JL4EMLNkgQdVkL5W/SoHigDjaZx1k/9ouo65Zgp2z5fxlwkCAB1t9Qp+xXc5WH+JzWNdsLMC\n",
       "kGx6yUMndx2F4YqwBpZxqLYSBACuWn30NjaSdZpLtKVp0Q46TP7tJVeUn45CeVl06RD+nppBAOC0\n",
       "1VfSdAwe5uQetaOCnRSp1L3kZ8Ite14yx4VQAeqPHA0EaKPMvddgvs8zMFak9o1gZ4eSu0OeZEpq\n",
       "jlxhyWsWU0zIOZJZXgz1u/de2XVig+QLJvsctFwkFWf/HjtEo/3BqBE6yzwsQWjfVs7BmL9CQMGU\n",
       "eJcJAiRhVncJV9rAmh5Y38ovbCIY4ihSFG6xsYJh7NjnMozsoH/RAEZHaQUBntoLVEWsWlU+0vbU\n",
       "gWOHdGIU6iPomuk8Pyws2iHH2aJQnhnuLRGw/V4mlhgjP8GHSswjecEOHauGvAkqlgjxhCl7O/OY\n",
       "sgmWhd9YPFd5eaJ+ZK9TqzawYr7KThhhV4UVsSwNJUGwQ9l0A6yYx+laHea3GvNYKO277uzKpgQ2\n",
       "3cAOecZJprjJzTCWR2KZoy8G6F6wS00lQykT3tNG1ikyzYAylxfR7l8XsGXE6mtpkD4BN6OhZ2b0\n",
       "oDKX58FFHhpq6PC9PQ8bmK7HSxdASzV86f6xbRhz6Gy1pDvAloOd0E9MfsZug2V9YXYz7adWaemx\n",
       "vJvckamuT6EUVEH+tJrq4U0Vyatd12i9PNbVXsm1PpGz91x95rp+uq8p92C3BzMgL/Cz3O/Xf7h/\n",
       "60buFtqDk4YAAAAASUVORK5CYII=\n",
       "\" style=\"display:inline;vertical-align:middle;\" /></a> <a class=\"ProveItLink\" href=\"__pv_it/3386a813f772a1cafcf8fd60cd6d52ce1f3a72570/proof.ipynb\" style=\"text-decoration: none\">&#x22A2;&nbsp;</a><a class=\"ProveItLink\" href=\"__pv_it/185e6d30f167ee2ee5ef3321098dc98e0d77bc590/expr.ipynb\"><img src=\"data:image/png;base64,iVBORw0KGgoAAAANSUhEUgAAABEAAAAOBAMAAAA7w+qHAAAALVBMVEX///8QEBCYmJjc3Ny6urru\n",
       "7u5mZmZ2dnaqqqrMzMxEREQyMjJUVFSIiIgAAABETr/8AAAAAXRSTlMAQObYZgAAAGpJREFUCNdj\n",
       "YGC48+7MmV0TGEDgNQMDxwsQg/M5kMgLABK8T4DEvAtAgusBkLA7ACT4FoDEDsAk9AqAxD2QCecc\n",
       "gMQ6kAGCIOIVEDM9Ahn3FkgwgnTxvgQSqwOgxs1OADLC1r05cyoTyAAAv4Qe+njAWvgAAAAASUVO\n",
       "RK5CYII=\n",
       "\" style=\"display:inline;vertical-align:middle;\" /></a></span>"
      ],
      "text/plain": [
       "{A , A = B , B => C , C = D} |- D"
      ]
     },
     "execution_count": 6,
     "metadata": {},
     "output_type": "execute_result"
    }
   ],
   "source": [
    "CeqD.deriveRightViaEquivalence([A, AeqB, BimplC, CeqD])"
   ]
  },
  {
   "cell_type": "code",
   "execution_count": 7,
   "metadata": {},
   "outputs": [
    {
     "data": {
      "text/html": [
       "<span style=\"font-size:20px;\"><a class=\"ProveItLink\" href=\"__pv_it/9ca6a142b9f886973f2638bee262ab228c6444e50/expr.ipynb\"><img src=\"data:image/png;base64,iVBORw0KGgoAAAANSUhEUgAAAPcAAAAVBAMAAABoLmXpAAAAMFBMVEX///9ERETc3NyqqqpUVFS6\n",
       "urrMzMwyMjIQEBCIiIh2dnYiIiLu7u5mZmaYmJgAAABJJ2g3AAAAAXRSTlMAQObYZgAAAulJREFU\n",
       "SMfFVk1oE0EUfk2ym2yyWYuI9qBkpYeeSnPyJo2w0FNJKB56sJBDDoIHg1QqalGR2os08ehBWvAi\n",
       "Imhv/mH3oq148O+gIG3i2UP6Ew1qmvjezGb/ZiE5mQeZ2W/mzftm3s9MAEDbgv8v8kOdOvU59EPk\n",
       "m9Qq2xZ64po6Jyhr2bpx6mIQ8MjbQ5vVUetbvTO5FfrgU1Bw6cRh/PhCKH6dj0a3XSrXRLOxQYBK\n",
       "Lgi4JL4EMLNkgQdVkL5W/SoHigDjaZx1k/9ouo65Zgp2z5fxlwkCAB1t9Qp+xXc5WH+JzWNdsLMC\n",
       "kGx6yUMndx2F4YqwBpZxqLYSBACuWn30NjaSdZpLtKVp0Q46TP7tJVeUn45CeVl06RD+nppBAOC0\n",
       "1VfSdAwe5uQetaOCnRSp1L3kZ8Ite14yx4VQAeqPHA0EaKPMvddgvs8zMFak9o1gZ4eSu0OeZEpq\n",
       "jlxhyWsWU0zIOZJZXgz1u/de2XVig+QLJvsctFwkFWf/HjtEo/3BqBE6yzwsQWjfVs7BmL9CQMGU\n",
       "eJcJAiRhVncJV9rAmh5Y38ovbCIY4ihSFG6xsYJh7NjnMozsoH/RAEZHaQUBntoLVEWsWlU+0vbU\n",
       "gWOHdGIU6iPomuk8Pyws2iHH2aJQnhnuLRGw/V4mlhgjP8GHSswjecEOHauGvAkqlgjxhCl7O/OY\n",
       "sgmWhd9YPFd5eaJ+ZK9TqzawYr7KThhhV4UVsSwNJUGwQ9l0A6yYx+laHea3GvNYKO277uzKpgQ2\n",
       "3cAOecZJprjJzTCWR2KZoy8G6F6wS00lQykT3tNG1ikyzYAylxfR7l8XsGXE6mtpkD4BN6OhZ2b0\n",
       "oDKX58FFHhpq6PC9PQ8bmK7HSxdASzV86f6xbRhz6Gy1pDvAloOd0E9MfsZug2V9YXYz7adWaemx\n",
       "vJvckamuT6EUVEH+tJrq4U0Vyatd12i9PNbVXsm1PpGz91x95rp+uq8p92C3BzMgL/Cz3O/Xf7h/\n",
       "60buFtqDk4YAAAAASUVORK5CYII=\n",
       "\" style=\"display:inline;vertical-align:middle;\" /></a> <a class=\"ProveItLink\" href=\"__pv_it/3386a813f772a1cafcf8fd60cd6d52ce1f3a72570/proof.ipynb\" style=\"text-decoration: none\">&#x22A2;&nbsp;</a><a class=\"ProveItLink\" href=\"__pv_it/185e6d30f167ee2ee5ef3321098dc98e0d77bc590/expr.ipynb\"><img src=\"data:image/png;base64,iVBORw0KGgoAAAANSUhEUgAAABEAAAAOBAMAAAA7w+qHAAAALVBMVEX///8QEBCYmJjc3Ny6urru\n",
       "7u5mZmZ2dnaqqqrMzMxEREQyMjJUVFSIiIgAAABETr/8AAAAAXRSTlMAQObYZgAAAGpJREFUCNdj\n",
       "YGC48+7MmV0TGEDgNQMDxwsQg/M5kMgLABK8T4DEvAtAgusBkLA7ACT4FoDEDsAk9AqAxD2QCecc\n",
       "gMQ6kAGCIOIVEDM9Ahn3FkgwgnTxvgQSqwOgxs1OADLC1r05cyoTyAAAv4Qe+njAWvgAAAAASUVO\n",
       "RK5CYII=\n",
       "\" style=\"display:inline;vertical-align:middle;\" /></a></span>"
      ],
      "text/plain": [
       "{A , A = B , B => C , C = D} |- D"
      ]
     },
     "execution_count": 7,
     "metadata": {},
     "output_type": "execute_result"
    }
   ],
   "source": [
    "D.prove([A, AeqB, BimplC, CeqD])"
   ]
  },
  {
   "cell_type": "code",
   "execution_count": 8,
   "metadata": {},
   "outputs": [],
   "source": [
    "%end example_motivating_search"
   ]
  },
  {
   "cell_type": "code",
   "execution_count": null,
   "metadata": {},
   "outputs": [],
   "source": []
  }
 ],
 "metadata": {
  "kernelspec": {
   "display_name": "Python 3",
   "language": "python",
   "name": "python3"
  }
 },
 "nbformat": 4,
 "nbformat_minor": 0
}
