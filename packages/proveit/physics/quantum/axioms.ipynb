{
 "cells": [
  {
   "cell_type": "code",
   "execution_count": 1,
   "metadata": {
    "collapsed": false
   },
   "outputs": [],
   "source": [
    "import proveit.specialStatementMagic # for %begin_axioms and %end_axioms\n",
    "from proveit.basiclogic import Forall, Equals, Iff, In\n",
    "from proveit.linalg import ScalarProd, TensorProd, TensorExp, MatrixProd, SU\n",
    "from proveit.physics.quantum import Bra, Ket, RegisterBra, RegisterKet, Meas, Circuit, Gate, Input, Output, MultiWire\n",
    "from proveit.physics.quantum.common import I, X, Y, Z, H, ket0, ket1, ketPlus, \\\n",
    "    QubitSpace, QubitRegisterSpace, RegisterSU, CTRL_DN, PASS\n",
    "from proveit.common import k, n, U, x, y, alpha\n",
    "from proveit.number.common import zero, one, two\n",
    "from proveit.number.numberSets import NaturalsPos, Complexes\n",
    "from proveit.number import Exponentiate, Add, Subtract, DiscreteContiguousSet, Fraction, Sqrt"
   ]
  },
  {
   "cell_type": "code",
   "execution_count": 2,
   "metadata": {
    "collapsed": false
   },
   "outputs": [],
   "source": [
    "%begin_axioms"
   ]
  },
  {
   "cell_type": "code",
   "execution_count": 3,
   "metadata": {
    "collapsed": false
   },
   "outputs": [
    {
     "data": {
      "image/png": "[encoded data removed]",
      "text/plain": [
       "$\\lvert 0 \\rangle \\in \\left(\\mathbb{C}^{2}\\right)$"
      ]
     },
     "execution_count": 3,
     "metadata": {},
     "output_type": "execute_result"
    }
   ],
   "source": [
    "ketZeroInQubitSpace = In(ket0, QubitSpace)\n",
    "ketZeroInQubitSpace"
   ]
  },
  {
   "cell_type": "code",
   "execution_count": 4,
   "metadata": {
    "collapsed": false
   },
   "outputs": [
    {
     "data": {
      "image/png": "[encoded data removed]",
      "text/plain": [
       "$\\lvert 1 \\rangle \\in \\left(\\mathbb{C}^{2}\\right)$"
      ]
     },
     "execution_count": 4,
     "metadata": {},
     "output_type": "execute_result"
    }
   ],
   "source": [
    "ketOneInQubitSpace = In(ket1, QubitSpace)\n",
    "ketOneInQubitSpace"
   ]
  },
  {
   "cell_type": "code",
   "execution_count": 5,
   "metadata": {
    "collapsed": false
   },
   "outputs": [
    {
     "data": {
      "image/png": "[encoded data removed]",
      "text/plain": [
       "$\\lvert 0 \\rangle_{1} = \\lvert 0 \\rangle$"
      ]
     },
     "execution_count": 5,
     "metadata": {},
     "output_type": "execute_result"
    }
   ],
   "source": [
    "singleQubitRegisterZero = Equals(RegisterKet(zero, one), ket0)\n",
    "singleQubitRegisterZero"
   ]
  },
  {
   "cell_type": "code",
   "execution_count": 6,
   "metadata": {
    "collapsed": false
   },
   "outputs": [
    {
     "data": {
      "image/png": "[encoded data removed]",
      "text/plain": [
       "$\\lvert 1 \\rangle_{1} = \\lvert 1 \\rangle$"
      ]
     },
     "execution_count": 6,
     "metadata": {},
     "output_type": "execute_result"
    }
   ],
   "source": [
    "singleQubitRegisterOne = Equals(RegisterKet(one, one), ket1)\n",
    "singleQubitRegisterOne"
   ]
  },
  {
   "cell_type": "code",
   "execution_count": 7,
   "metadata": {
    "collapsed": false
   },
   "outputs": [
    {
     "data": {
      "image/png": "[encoded data removed]",
      "text/plain": [
       "$\\forall_{ n  \\in \\mathbb{N}^+} \\left[\\forall_{ k  \\in \\{0\\ldots \\left(\\left(2^{n}\\right) - 1\\right)\\}} \\left(\\lvert k \\rangle_{ n + 1 } = \\left( \\lvert k \\rangle_{n} \\otimes \\lvert 0 \\rangle \\right)\\right)\\right]$"
      ]
     },
     "execution_count": 7,
     "metadata": {},
     "output_type": "execute_result"
    }
   ],
   "source": [
    "expandRegisterWithZeroKet = Forall(n, \n",
    "                               Forall(k, Equals(RegisterKet(k, Add(n, one)), \n",
    "                                              TensorProd(RegisterKet(k, n), ket0)),\n",
    "                                      domain=DiscreteContiguousSet(zero, \n",
    "                                                                   Subtract(Exponentiate(two, n), one))),\n",
    "                               domain=NaturalsPos)\n",
    "expandRegisterWithZeroKet"
   ]
  },
  {
   "cell_type": "code",
   "execution_count": 8,
   "metadata": {
    "collapsed": false
   },
   "outputs": [
    {
     "data": {
      "image/png": "[encoded data removed]",
      "text/plain": [
       "$\\forall_{ n  \\in \\mathbb{N}^+} \\left[\\forall_{ k  \\in \\{0\\ldots \\left(\\left(2^{n}\\right) - 1\\right)\\}} \\left(\\lvert  k + \\left(2^{n}\\right)  \\rangle_{ n + 1 } = \\left( \\lvert k \\rangle_{n} \\otimes \\lvert 1 \\rangle \\right)\\right)\\right]$"
      ]
     },
     "execution_count": 8,
     "metadata": {},
     "output_type": "execute_result"
    }
   ],
   "source": [
    "expandRegisterWithOneKet = Forall(n, \n",
    "                               Forall(k, Equals(RegisterKet(Add(k, Exponentiate(two, n)), Add(n, one)), \n",
    "                                              TensorProd(RegisterKet(k, n), ket1)),\n",
    "                                      domain=DiscreteContiguousSet(zero, \n",
    "                                                                   Subtract(Exponentiate(two, n), one))),\n",
    "                               domain=NaturalsPos)\n",
    "expandRegisterWithOneKet"
   ]
  },
  {
   "cell_type": "code",
   "execution_count": 9,
   "metadata": {
    "collapsed": false
   },
   "outputs": [
    {
     "data": {
      "image/png": "[encoded data removed]",
      "text/plain": [
       "$\\lvert + \\rangle = \\frac{ \\lvert 0 \\rangle + \\lvert 1 \\rangle }{\\sqrt{2}}$"
      ]
     },
     "execution_count": 9,
     "metadata": {},
     "output_type": "execute_result"
    }
   ],
   "source": [
    "ketPlusDef = Equals(ketPlus, Fraction(Add(ket0, ket1), Sqrt(two)))\n",
    "ketPlusDef"
   ]
  },
  {
   "cell_type": "code",
   "execution_count": 10,
   "metadata": {
    "collapsed": false
   },
   "outputs": [
    {
     "data": {
      "image/png": "[encoded data removed]",
      "text/plain": [
       "$\\left( H   \\lvert 0 \\rangle \\right) = \\lvert + \\rangle$"
      ]
     },
     "execution_count": 10,
     "metadata": {},
     "output_type": "execute_result"
    }
   ],
   "source": [
    "hadamardOnZero = Equals(MatrixProd(H, ket0), ketPlus)\n",
    "hadamardOnZero"
   ]
  },
  {
   "cell_type": "code",
   "execution_count": 11,
   "metadata": {
    "collapsed": false
   },
   "outputs": [
    {
     "data": {
      "image/png": "[encoded data removed]",
      "text/plain": [
       "$\\forall_{ U  \\in SU\\left( 2 \\right)} \\left[\\forall_{ x , y  \\in \\left(\\mathbb{C}^{2}\\right)} \\left(\\left[\n",
       "\\begin{array}{cc}\n",
       "\\Qcircuit @C=1em @R=.7em { & \\lstick{x} & \\gate{U} & \\rstick{y} \\qw} & ~ \n",
       "\\end{array}\n",
       "\\right] \\Leftrightarrow \\left(y = \\left( U   x \\right)\\right)\\right)\\right]$"
      ]
     },
     "execution_count": 11,
     "metadata": {},
     "output_type": "execute_result"
    }
   ],
   "source": [
    "circuitGateApplication = Forall(U, \n",
    "                                Forall((x, y),\n",
    "                                       Iff(Circuit([[Input(x), Gate(U), Output(y)]]), \n",
    "                                           Equals(y, MatrixProd(U, x))),\n",
    "                                       domain=QubitSpace),\n",
    "                                domain=SU(two))\n",
    "circuitGateApplication"
   ]
  },
  {
   "cell_type": "code",
   "execution_count": 12,
   "metadata": {
    "collapsed": false
   },
   "outputs": [
    {
     "data": {
      "image/png": "[encoded data removed]",
      "text/plain": [
       "$\\forall_{ n  \\in \\mathbb{N}^+} \\left[\\forall_{ U  \\in SU\\left( 2^{n} \\right)} \\left[\\forall_{ x , y  \\in \\left(\\mathbb{C}^{2}\\right)^{\\otimes n}} \\left(\\left[\n",
       "\\begin{array}{cc}\n",
       "\\Qcircuit @C=1em @R=.7em { & \\lstick{x} & /^{n} \\qw & \\gate{U} & \\rstick{y} \\qw} & ~ \n",
       "\\end{array}\n",
       "\\right] \\Leftrightarrow \\left(y = \\left( U   x \\right)\\right)\\right)\\right]\\right]$"
      ]
     },
     "execution_count": 12,
     "metadata": {},
     "output_type": "execute_result"
    }
   ],
   "source": [
    "circuitMultiGateApplication = Forall(n, \n",
    "                                     Forall(U, \n",
    "                                            Forall((x, y),\n",
    "                                                   Iff(Circuit([[Input(x), MultiWire(n), Gate(U), Output(y)]]), \n",
    "                                                       Equals(y, MatrixProd(U, x))),\n",
    "                                                   domain=QubitRegisterSpace(n)), \n",
    "                                            domain=RegisterSU(n)),\n",
    "                                     domain=NaturalsPos)\n",
    "circuitMultiGateApplication"
   ]
  },
  {
   "cell_type": "code",
   "execution_count": 13,
   "metadata": {
    "collapsed": false
   },
   "outputs": [
    {
     "data": {
      "image/png": "[encoded data removed]",
      "text/plain": [
       "$\\forall_{ n  \\in \\mathbb{N}^+} \\left[\\forall_{ U  \\in SU\\left( 2^{n} \\right)} \\left[\\forall_{ x  \\in \\left(\\mathbb{C}^{2}\\right)^{\\otimes n}} \\left[\\forall_{ \\alpha  \\in \\mathbb{C}} \\left[\n",
       "\\begin{array}{cc}\n",
       "\\Qcircuit @C=1em @R=.7em { & \\lstick{\\alpha   \\lvert 0 \\rangle} & \\qw & \\ctrl{1} & \\rstick{\\alpha   \\lvert 0 \\rangle} \\qw \\\\  & \\lstick{x} & /^{n} \\qw & \\gate{U} & \\rstick{x} \\qw} & ~ \n",
       "\\end{array}\n",
       "\\right]\\right]\\right]\\right]$"
      ]
     },
     "execution_count": 13,
     "metadata": {},
     "output_type": "execute_result"
    }
   ],
   "source": [
    "zeroControlledNgate = Forall(n, \n",
    "                             Forall(U, \n",
    "                                    Forall(x, \n",
    "                                           Forall(alpha, \n",
    "                                                  Circuit([[Input(ScalarProd(alpha, ket0)), PASS, CTRL_DN, Output(ScalarProd(alpha, ket0))],\n",
    "                                                           [Input(x), MultiWire(n), Gate(U), Output(x)]]), \n",
    "                                                  domain=Complexes),\n",
    "                                           domain=QubitRegisterSpace(n)), \n",
    "                                    domain=SU(Exponentiate(two, n))), \n",
    "                             domain=NaturalsPos)\n",
    "zeroControlledNgate"
   ]
  },
  {
   "cell_type": "code",
   "execution_count": 14,
   "metadata": {
    "collapsed": false
   },
   "outputs": [
    {
     "data": {
      "image/png": "[encoded data removed]",
      "text/plain": [
       "$\\forall_{ n  \\in \\mathbb{N}^+} \\left[\\forall_{ U  \\in SU\\left( 2^{n} \\right)} \\left[\\forall_{ x  \\in \\left(\\mathbb{C}^{2}\\right)^{\\otimes n}} \\left[\\forall_{ \\alpha  \\in \\mathbb{C}} \\left[\n",
       "\\begin{array}{cc}\n",
       "\\Qcircuit @C=1em @R=.7em { & \\lstick{\\alpha   \\lvert 1 \\rangle} & \\qw & \\ctrl{1} & \\rstick{\\alpha   \\lvert 1 \\rangle} \\qw \\\\  & \\lstick{x} & /^{n} \\qw & \\gate{U} & \\rstick{ U   x } \\qw} & ~ \n",
       "\\end{array}\n",
       "\\right]\\right]\\right]\\right]$"
      ]
     },
     "execution_count": 14,
     "metadata": {},
     "output_type": "execute_result"
    }
   ],
   "source": [
    "oneControlledNgate = Forall(n, \n",
    "                             Forall(U, \n",
    "                                    Forall(x, \n",
    "                                           Forall(alpha, \n",
    "                                                  Circuit([[Input(ScalarProd(alpha, ket1)), PASS, CTRL_DN, Output(ScalarProd(alpha, ket1))],\n",
    "                                                           [Input(x), MultiWire(n), Gate(U), Output(MatrixProd(U, x))]]), \n",
    "                                                  domain=Complexes),\n",
    "                                           domain=QubitRegisterSpace(n)), \n",
    "                                    domain=SU(Exponentiate(two, n))), \n",
    "                             domain=NaturalsPos)\n",
    "oneControlledNgate"
   ]
  },
  {
   "cell_type": "code",
   "execution_count": 15,
   "metadata": {
    "collapsed": false
   },
   "outputs": [
    {
     "name": "stdout",
     "output_type": "stream",
     "text": [
      "Creating axioms *.dill and *.pv_it files in the __pv_it__ directory\n",
      "These axioms may be imported from proveit.physics.quantum.axioms\n"
     ]
    }
   ],
   "source": [
    "%end_axioms"
   ]
  },
  {
   "cell_type": "code",
   "execution_count": null,
   "metadata": {
    "collapsed": true
   },
   "outputs": [],
   "source": []
  }
 ],
 "metadata": {
  "kernelspec": {
   "display_name": "Python 3",
   "language": "python",
   "name": "python3"
  },
  "language_info": {
   "codemirror_mode": {
    "name": "ipython",
    "version": 3
   },
   "file_extension": ".py",
   "mimetype": "text/x-python",
   "name": "python",
   "nbconvert_exporter": "python",
   "pygments_lexer": "ipython3"
  }
 },
 "nbformat": 4,
 "nbformat_minor": 0
}
