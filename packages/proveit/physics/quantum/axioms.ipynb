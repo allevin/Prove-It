{
 "cells": [
  {
   "cell_type": "code",
   "execution_count": null,
   "metadata": {},
   "outputs": [],
   "source": [
    "import proveit.specialStatementMagic # for %begin_axioms and %end_axioms\n",
    "from proveit.basiclogic import Forall, Equals, Iff, In\n",
    "from proveit.linalg import ScalarProd, TensorProd, TensorExp, MatrixProd, SU\n",
    "from proveit.physics.quantum import Bra, Ket, RegisterBra, RegisterKet, Meas, Circuit, Gate, Input, Output, MultiWire\n",
    "from proveit.physics.quantum.common import I, X, Y, Z, H, ket0, ket1, ketPlus, \\\n",
    "    QubitSpace, QubitRegisterSpace, RegisterSU, CTRL_DN, PASS\n",
    "from proveit.common import k, n, U, x, y, alpha\n",
    "from proveit.number.common import zero, one, two\n",
    "from proveit.number.numberSets import NaturalsPos, Complexes\n",
    "from proveit.number import Exponentiate, Add, Subtract, DiscreteContiguousSet, Fraction, Sqrt"
   ]
  },
  {
   "cell_type": "code",
   "execution_count": null,
   "metadata": {},
   "outputs": [],
   "source": [
    "%begin_axioms"
   ]
  },
  {
   "cell_type": "code",
   "execution_count": null,
   "metadata": {},
   "outputs": [],
   "source": [
    "ketZeroInQubitSpace = In(ket0, QubitSpace)\n",
    "ketZeroInQubitSpace"
   ]
  },
  {
   "cell_type": "code",
   "execution_count": null,
   "metadata": {},
   "outputs": [],
   "source": [
    "ketOneInQubitSpace = In(ket1, QubitSpace)\n",
    "ketOneInQubitSpace"
   ]
  },
  {
   "cell_type": "code",
   "execution_count": null,
   "metadata": {},
   "outputs": [],
   "source": [
    "singleQubitRegisterZero = Equals(RegisterKet(zero, one), ket0)\n",
    "singleQubitRegisterZero"
   ]
  },
  {
   "cell_type": "code",
   "execution_count": null,
   "metadata": {},
   "outputs": [],
   "source": [
    "singleQubitRegisterOne = Equals(RegisterKet(one, one), ket1)\n",
    "singleQubitRegisterOne"
   ]
  },
  {
   "cell_type": "code",
   "execution_count": null,
   "metadata": {},
   "outputs": [],
   "source": [
    "expandRegisterWithZeroKet = Forall(n, \n",
    "                               Forall(k, Equals(RegisterKet(k, Add(n, one)), \n",
    "                                              TensorProd(RegisterKet(k, n), ket0)),\n",
    "                                      domain=DiscreteContiguousSet(zero, \n",
    "                                                                   Subtract(Exponentiate(two, n), one))),\n",
    "                               domain=NaturalsPos)\n",
    "expandRegisterWithZeroKet"
   ]
  },
  {
   "cell_type": "code",
   "execution_count": null,
   "metadata": {},
   "outputs": [],
   "source": [
    "expandRegisterWithOneKet = Forall(n, \n",
    "                               Forall(k, Equals(RegisterKet(Add(k, Exponentiate(two, n)), Add(n, one)), \n",
    "                                              TensorProd(RegisterKet(k, n), ket1)),\n",
    "                                      domain=DiscreteContiguousSet(zero, \n",
    "                                                                   Subtract(Exponentiate(two, n), one))),\n",
    "                               domain=NaturalsPos)\n",
    "expandRegisterWithOneKet"
   ]
  },
  {
   "cell_type": "code",
   "execution_count": null,
   "metadata": {},
   "outputs": [],
   "source": [
    "ketPlusDef = Equals(ketPlus, Fraction(Add(ket0, ket1), Sqrt(two)))\n",
    "ketPlusDef"
   ]
  },
  {
   "cell_type": "code",
   "execution_count": null,
   "metadata": {},
   "outputs": [],
   "source": [
    "hadamardOnZero = Equals(MatrixProd(H, ket0), ketPlus)\n",
    "hadamardOnZero"
   ]
  },
  {
   "cell_type": "code",
   "execution_count": null,
   "metadata": {},
   "outputs": [],
   "source": [
    "circuitGateApplication = Forall(U, \n",
    "                                Forall((x, y),\n",
    "                                       Iff(Circuit([[Input(x), Gate(U), Output(y)]]), \n",
    "                                           Equals(y, MatrixProd(U, x))),\n",
    "                                       domain=QubitSpace),\n",
    "                                domain=SU(two))\n",
    "circuitGateApplication"
   ]
  },
  {
   "cell_type": "code",
   "execution_count": null,
   "metadata": {},
   "outputs": [],
   "source": [
    "circuitMultiGateApplication = Forall(n, \n",
    "                                     Forall(U, \n",
    "                                            Forall((x, y),\n",
    "                                                   Iff(Circuit([[Input(x), MultiWire(n), Gate(U), Output(y)]]), \n",
    "                                                       Equals(y, MatrixProd(U, x))),\n",
    "                                                   domain=QubitRegisterSpace(n)), \n",
    "                                            domain=RegisterSU(n)),\n",
    "                                     domain=NaturalsPos)\n",
    "circuitMultiGateApplication"
   ]
  },
  {
   "cell_type": "code",
   "execution_count": null,
   "metadata": {},
   "outputs": [],
   "source": [
    "zeroControlledNgate = Forall(n, \n",
    "                             Forall(U, \n",
    "                                    Forall(x, \n",
    "                                           Forall(alpha, \n",
    "                                                  Circuit([[Input(ScalarProd(alpha, ket0)), PASS, CTRL_DN, Output(ScalarProd(alpha, ket0))],\n",
    "                                                           [Input(x), MultiWire(n), Gate(U), Output(x)]]), \n",
    "                                                  domain=Complexes),\n",
    "                                           domain=QubitRegisterSpace(n)), \n",
    "                                    domain=SU(Exponentiate(two, n))), \n",
    "                             domain=NaturalsPos)\n",
    "zeroControlledNgate"
   ]
  },
  {
   "cell_type": "code",
   "execution_count": null,
   "metadata": {},
   "outputs": [],
   "source": [
    "oneControlledNgate = Forall(n, \n",
    "                             Forall(U, \n",
    "                                    Forall(x, \n",
    "                                           Forall(alpha, \n",
    "                                                  Circuit([[Input(ScalarProd(alpha, ket1)), PASS, CTRL_DN, Output(ScalarProd(alpha, ket1))],\n",
    "                                                           [Input(x), MultiWire(n), Gate(U), Output(MatrixProd(U, x))]]), \n",
    "                                                  domain=Complexes),\n",
    "                                           domain=QubitRegisterSpace(n)), \n",
    "                                    domain=SU(Exponentiate(two, n))), \n",
    "                             domain=NaturalsPos)\n",
    "oneControlledNgate"
   ]
  },
  {
   "cell_type": "code",
   "execution_count": null,
   "metadata": {},
   "outputs": [],
   "source": [
    "%end_axioms"
   ]
  },
  {
   "cell_type": "code",
   "execution_count": null,
   "metadata": {},
   "outputs": [],
   "source": []
  }
 ],
 "metadata": {
  "kernelspec": {
   "display_name": "Python 3",
   "language": "python",
   "name": "python3"
  }
 },
 "nbformat": 4,
 "nbformat_minor": 0
}
