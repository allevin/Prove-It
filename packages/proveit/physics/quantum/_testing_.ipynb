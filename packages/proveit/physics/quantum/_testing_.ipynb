{
 "cells": [
  {
   "cell_type": "markdown",
   "metadata": {},
   "source": [
    "Testing for context <a class=\"ProveItLink\" href=\"_context_.ipynb\">proveit.physics.quantum</a>\n",
    "========"
   ]
  },
  {
   "cell_type": "code",
   "execution_count": null,
   "metadata": {},
   "outputs": [],
   "source": [
    "import proveit\n",
    "from proveit._common_ import eps\n",
    "from proveit.number import zero, one, two\n",
    "from proveit.physics.quantum import Gate, Input, Output\n",
    "from proveit.physics.quantum._common_ import ket0, ket1, X\n",
    "from proveit.physics.quantum.QPE._common_ import U_\n",
    "from proveit.physics.quantum.QPE import Pfail, PhaseEst, Psuccess, QPE\n",
    "from proveit.physics.quantum.QPE import SubIndexed\n",
    "# 72 cols =============================================================="
   ]
  },
  {
   "cell_type": "code",
   "execution_count": null,
   "metadata": {},
   "outputs": [],
   "source": [
    "example_input = Input(ket0)"
   ]
  },
  {
   "cell_type": "code",
   "execution_count": null,
   "metadata": {},
   "outputs": [],
   "source": [
    "display(example_input)"
   ]
  },
  {
   "cell_type": "code",
   "execution_count": null,
   "metadata": {},
   "outputs": [],
   "source": [
    "Output(ket1)"
   ]
  },
  {
   "cell_type": "code",
   "execution_count": null,
   "metadata": {},
   "outputs": [],
   "source": [
    "Gate(X)"
   ]
  }
 ],
 "metadata": {
  "kernelspec": {
   "display_name": "Python 3",
   "language": "python",
   "name": "python3"
  }
 },
 "nbformat": 4,
 "nbformat_minor": 0
}
