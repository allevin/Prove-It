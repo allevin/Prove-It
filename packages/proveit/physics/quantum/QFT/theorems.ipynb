{
 "cells": [
  {
   "cell_type": "code",
   "execution_count": 1,
   "metadata": {
    "collapsed": false
   },
   "outputs": [],
   "source": [
    "import proveit.specialStatementMagic # for %begin_theorems and %end_theorems\n",
    "from proveit.basiclogic import In, Forall, Equals\n",
    "from proveit.physics.quantum import Ket, RegisterBra, RegisterKet\n",
    "from proveit.physics.quantum.QFT import InverseFourierTransform\n",
    "from proveit.linalg import ScalarProd, MatrixProd, SU\n",
    "from proveit.number import Subtract, Multiply, Sqrt, Summation, Exponentiate, Fraction, Neg, DiscreteContiguousSet\n",
    "from proveit.number.common import zero, one, two, e, i, pi\n",
    "from proveit.number.numberSets import NaturalsPos\n",
    "from proveit.common import k, l, n"
   ]
  },
  {
   "cell_type": "code",
   "execution_count": 2,
   "metadata": {
    "collapsed": false
   },
   "outputs": [],
   "source": [
    "%begin_theorems"
   ]
  },
  {
   "cell_type": "code",
   "execution_count": 3,
   "metadata": {
    "collapsed": false
   },
   "outputs": [
    {
     "data": {
      "image/png": "[encoded data removed]",
      "text/plain": [
       "$\\forall_{ n  \\in \\mathbb{N}^+} \\left({\\rm FT}^{\\dag}_{n} \\in SU\\left( 2^{n} \\right)\\right)$"
      ]
     },
     "execution_count": 3,
     "metadata": {},
     "output_type": "execute_result"
    }
   ],
   "source": [
    "invFTinSU = Forall(n, In(InverseFourierTransform(n), SU(Exponentiate(two, n))),\n",
    "                   domain=NaturalsPos)\n",
    "invFTinSU"
   ]
  },
  {
   "cell_type": "code",
   "execution_count": 4,
   "metadata": {
    "collapsed": false
   },
   "outputs": [
    {
     "data": {
      "image/png": "[encoded data removed]",
      "text/plain": [
       "$\\forall_{ n  \\in \\mathbb{N}^+} \\left[\\forall_{ k , l  \\in \\{0\\ldots \\left(\\left(2^{n}\\right) - 1\\right)\\}} \\left(\\left( \\prescript{}{n}\\langle l \\rvert   {\\rm FT}^{\\dag}_{n}   \\lvert k \\rangle_{n} \\right) = \\left( \\frac{1}{\\sqrt{\\left(2^{n}\\right)}} \\cdot \\left(e^{\\frac{-\\left( 2 \\cdot \\pi \\cdot i \\cdot k \\cdot l \\right)}{2^{n}}}\\right) \\right)\\right)\\right]$"
      ]
     },
     "execution_count": 4,
     "metadata": {},
     "output_type": "execute_result"
    }
   ],
   "source": [
    "invFTonMatrixElem = Forall(n,\n",
    "                           Forall((k, l),\n",
    "                                  Equals(MatrixProd(RegisterBra(l, n), InverseFourierTransform(n), RegisterKet(k, n)),\n",
    "                                         Multiply(Fraction(one, Sqrt(Exponentiate(two, n))),\n",
    "                                                  Exponentiate(e, Fraction(Neg(Multiply(two, pi, i, k, l)),\n",
    "                                                                           Exponentiate(two, n))))),\n",
    "                                  domain=DiscreteContiguousSet(zero, Subtract(Exponentiate(two, n), one))),\n",
    "                           domain=NaturalsPos)\n",
    "invFTonMatrixElem"
   ]
  },
  {
   "cell_type": "code",
   "execution_count": 5,
   "metadata": {
    "collapsed": false
   },
   "outputs": [
    {
     "name": "stdout",
     "output_type": "stream",
     "text": [
      "Creating theorems *.dill and *.pv_it files in the __pv_it__ directory\n",
      "These theorems may be imported from proveit.physics.quantum.QFT.theorems\n"
     ]
    }
   ],
   "source": [
    "%end_theorems"
   ]
  },
  {
   "cell_type": "code",
   "execution_count": null,
   "metadata": {
    "collapsed": true
   },
   "outputs": [],
   "source": []
  }
 ],
 "metadata": {
  "kernelspec": {
   "display_name": "Python 3",
   "language": "python",
   "name": "python3"
  },
  "language_info": {
   "codemirror_mode": {
    "name": "ipython",
    "version": 3
   },
   "file_extension": ".py",
   "mimetype": "text/x-python",
   "name": "python",
   "nbconvert_exporter": "python",
   "pygments_lexer": "ipython3"
  }
 },
 "nbformat": 4,
 "nbformat_minor": 0
}
