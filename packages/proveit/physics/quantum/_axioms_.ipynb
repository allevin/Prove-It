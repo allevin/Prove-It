{
 "cells": [
  {
   "cell_type": "markdown",
   "metadata": {},
   "source": [
    "Axioms for context <a class=\"ProveItLink\" href=\"_context_.ipynb\">proveit.physics.quantum</a>\n",
    "========"
   ]
  },
  {
   "cell_type": "code",
   "execution_count": null,
   "metadata": {},
   "outputs": [],
   "source": [
    "import proveit\n",
    "from proveit._common_ import k, n # U, x, y, alpha\n",
    "from proveit.linalg import MatrixProd, TensorProd\n",
    "from proveit.logic import Equals, Forall, InSet # Iff\n",
    "from proveit.number import zero, one, two, frac, Integers, NaturalsPos # Complexes\n",
    "from proveit.number import Add, Exp, Sqrt, subtract\n",
    "from proveit.number.sets import Interval\n",
    "from proveit.physics.quantum import RegisterKet #Bra, Ket, RegisterBra, , Meas, Circuit, Gate, Input, Output, MultiWire\n",
    "from proveit.physics.quantum._common_ import ket0, ket1, ketPlus, H, QubitSpace #I, X, Y, Z\n",
    "    # , QubitRegisterSpace, RegisterSU, CTRL_DN, PASS\n",
    "# the context is in the current directory:\n",
    "context = proveit.Context('.') # adds context root to sys.path if necessary"
   ]
  },
  {
   "cell_type": "code",
   "execution_count": null,
   "metadata": {},
   "outputs": [],
   "source": [
    "%begin axioms"
   ]
  },
  {
   "cell_type": "code",
   "execution_count": null,
   "metadata": {},
   "outputs": [],
   "source": [
    "ketZeroInQubitSpace = InSet(ket0, QubitSpace)"
   ]
  },
  {
   "cell_type": "code",
   "execution_count": null,
   "metadata": {},
   "outputs": [],
   "source": [
    "ketOneInQubitSpace = InSet(ket1, QubitSpace)"
   ]
  },
  {
   "cell_type": "code",
   "execution_count": null,
   "metadata": {},
   "outputs": [],
   "source": [
    "singleQubitRegisterZero = Equals(RegisterKet(zero, one), ket0)"
   ]
  },
  {
   "cell_type": "code",
   "execution_count": null,
   "metadata": {},
   "outputs": [],
   "source": [
    "singleQubitRegisterOne = Equals(RegisterKet(one, one), ket1)"
   ]
  },
  {
   "cell_type": "code",
   "execution_count": null,
   "metadata": {},
   "outputs": [],
   "source": [
    "Equals(RegisterKet(k, Add(n, one)), TensorProd((RegisterKet(k, n), ket0)))"
   ]
  },
  {
   "cell_type": "code",
   "execution_count": null,
   "metadata": {},
   "outputs": [],
   "source": [
    "Interval(zero, subtract(Exp(two, n), one))"
   ]
  },
  {
   "cell_type": "code",
   "execution_count": null,
   "metadata": {},
   "outputs": [],
   "source": [
    "Forall(k, Equals(RegisterKet(k, Add(n, one)), \n",
    "                 TensorProd((RegisterKet(k, n), ket0))),\n",
    "      domain=Interval(zero, subtract(Exp(two, n), one)))"
   ]
  },
  {
   "cell_type": "code",
   "execution_count": null,
   "metadata": {},
   "outputs": [],
   "source": [
    "# expandRegisterWithZeroKet = Forall(\n",
    "#         n,\n",
    "#         Forall(k, Equals(RegisterKet(k, Add(n, one)), TensorProd([RegisterKet(k, n), ket0])),\n",
    "#                domain=Interval(zero, subtract(Exp(two, n), one))),\n",
    "#         domain=NaturalsPos)"
   ]
  },
  {
   "cell_type": "code",
   "execution_count": null,
   "metadata": {},
   "outputs": [],
   "source": [
    "# expandRegisterWithOneKet = Forall(n, \n",
    "#                                Forall(k, Equals(RegisterKet(Add(k, Exp(two, n)), Add(n, one)), \n",
    "#                                               TensorProd([RegisterKet(k, n), ket1])),\n",
    "#                                       domain=Interval(zero, \n",
    "#                                                                    subtract(Exp(two, n), one))),\n",
    "#                                domain=NaturalsPos)"
   ]
  },
  {
   "cell_type": "code",
   "execution_count": null,
   "metadata": {},
   "outputs": [],
   "source": [
    "ketPlusDef = Equals(ketPlus, frac(Add(ket0, ket1), Sqrt(two)))"
   ]
  },
  {
   "cell_type": "code",
   "execution_count": null,
   "metadata": {},
   "outputs": [],
   "source": [
    "hadamardOnZero = Equals(MatrixProd([H, ket0]), ketPlus)"
   ]
  },
  {
   "cell_type": "code",
   "execution_count": null,
   "metadata": {},
   "outputs": [],
   "source": [
    "%end axioms"
   ]
  }
 ],
 "metadata": {
  "kernelspec": {
   "display_name": "Python 3",
   "language": "python",
   "name": "python3"
  }
 },
 "nbformat": 4,
 "nbformat_minor": 0
}
