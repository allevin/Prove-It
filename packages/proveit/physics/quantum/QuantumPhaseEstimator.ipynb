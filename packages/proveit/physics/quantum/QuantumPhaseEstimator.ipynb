{
 "cells": [
  {
   "cell_type": "code",
   "execution_count": 1,
   "metadata": {
    "collapsed": false
   },
   "outputs": [],
   "source": [
    "from proveit.expression import Literal, Variable, Operation\n",
    "from proveit.multiExpression import Block\n",
    "from proveit.basiclogic import Forall, Equals\n",
    "from proveit.number.arithmeticOps import Subtract, Exponentiate\n",
    "from proveit.number.natural.decimal import ONE, TWO\n",
    "from circuit import Circuit, I, X, Y, H, CTRL_DN, CTRL_UPDN, TARGET\n",
    "from proveit.common import x, y, z, n"
   ]
  },
  {
   "cell_type": "code",
   "execution_count": 5,
   "metadata": {
    "collapsed": false
   },
   "outputs": [
    {
     "data": {
      "image/png": "[encoded data removed]",
      "text/plain": [
       "forall_{n, U} (CIRCUIT({(0, 0):[[QPE_{n, U}]]}) = CIRCUIT({(0, 0):H, (0, 1):CTRL_DN, (1, 0):[[QPE_{n - 1, U}]], (1, 1):U^(2^((n - 1)))}))"
      ]
     },
     "execution_count": 5,
     "metadata": {},
     "output_type": "execute_result"
    }
   ],
   "source": [
    "U = Variable('U')\n",
    "class QuantumPhaseEstimator(Operation):\n",
    "    def __init__(self, n, U):\n",
    "        Operation.__init__(self, QPE, [n, U])\n",
    "    def formatted(self, formatType, fence=False):\n",
    "        return QPE.formatted(formatType) + '_{' + self.operands[0].formatted(formatType) + ', ' + self.operands[1].formatted(formatType) +'}'\n",
    "QPE = Literal(__package__, 'QPE', operationMaker = lambda operands : QuantumPhaseEstimator(*operands))\n",
    "QuantumPhaseEstimatorDef = Forall((n, U), Equals(Circuit([[Block(QuantumPhaseEstimator(n, U))]]), Circuit([[H, CTRL_DN], [Block(QuantumPhaseEstimator(Subtract(n, ONE), U)), Exponentiate(U, Exponentiate(TWO, Subtract(n, ONE)))]])))\n",
    "QuantumPhaseEstimatorDef"
   ]
  },
  {
   "cell_type": "code",
   "execution_count": 3,
   "metadata": {
    "collapsed": false
   },
   "outputs": [
    {
     "data": {
      "image/png": "[encoded data removed]",
      "text/plain": [
       "CIRCUIT({(0, 0):[[QPE_{n - 1, U}]]}) = CIRCUIT({(0, 0):H, (0, 1):CTRL_DN, (1, 0):[[QPE_{(n - 1) - 1, U}]], (1, 1):U^(2^(((n - 1) - 1)))})"
      ]
     },
     "execution_count": 3,
     "metadata": {},
     "output_type": "execute_result"
    }
   ],
   "source": [
    "QPE_nsub1 = QuantumPhaseEstimatorDef.specialize({n:Subtract(n, ONE)})\n",
    "QPE_nsub1"
   ]
  },
  {
   "cell_type": "code",
   "execution_count": 9,
   "metadata": {
    "collapsed": false
   },
   "outputs": [
    {
     "data": {
      "image/png": "[encoded data removed]",
      "text/plain": [
       "CIRCUIT({(0, 0):[[QPE_{n, U}]]}) = CIRCUIT({(0, 0):H, (0, 1):CTRL_DN, (1, 0):[[QPE_{n - 1, U}]], (1, 1):U^(2^((n - 1)))})"
      ]
     },
     "execution_count": 9,
     "metadata": {},
     "output_type": "execute_result"
    }
   ],
   "source": [
    "specQPEdef = QuantumPhaseEstimatorDef.specialize()\n",
    "specQPEdef"
   ]
  },
  {
   "cell_type": "code",
   "execution_count": 13,
   "metadata": {
    "collapsed": false
   },
   "outputs": [
    {
     "data": {
      "image/png": "[encoded data removed]",
      "text/plain": [
       "(CIRCUIT({(0, 0):[[QPE_{n - 1, U}]]}) = CIRCUIT({(0, 0):H, (0, 1):CTRL_DN, (1, 0):[[QPE_{(n - 1) - 1, U}]], (1, 1):U^(2^(((n - 1) - 1)))})) = (CIRCUIT({(0, 0):[[QPE_{n - 1, U}]]}) = CIRCUIT({(0, 0):H, (0, 1):CTRL_DN, (1, 0):[[QPE_{(n - 1) - 1, U}]], (1, 1):U^(2^(((n - 1) - 1)))}))"
      ]
     },
     "execution_count": 13,
     "metadata": {},
     "output_type": "execute_result"
    }
   ],
   "source": [
    "blah = specQPEdef.substitution(fnExpr=QPE_nsub1)\n",
    "blah"
   ]
  },
  {
   "cell_type": "code",
   "execution_count": 14,
   "metadata": {
    "collapsed": false
   },
   "outputs": [
    {
     "data": {
      "image/png": "[encoded data removed]",
      "text/plain": [
       "(CIRCUIT({(0, 0):[[QPE_{n - 1, U}]]}) = CIRCUIT({(0, 0):H, (0, 1):CTRL_DN, (1, 0):[[QPE_{(n - 1) - 1, U}]], (1, 1):U^(2^(((n - 1) - 1)))})) = (CIRCUIT({(0, 0):[[QPE_{n - 1, U}]]}) = CIRCUIT({(0, 0):H, (0, 1):CTRL_DN, (1, 0):[[QPE_{(n - 1) - 1, U}]], (1, 1):U^(2^(((n - 1) - 1)))}))"
      ]
     },
     "execution_count": 14,
     "metadata": {},
     "output_type": "execute_result"
    }
   ],
   "source": [
    "blah"
   ]
  },
  {
   "cell_type": "code",
   "execution_count": 4,
   "metadata": {
    "collapsed": false
   },
   "outputs": [
    {
     "data": {
      "image/png": "[encoded data removed]",
      "text/plain": [
       "x = (y = z)"
      ]
     },
     "execution_count": 4,
     "metadata": {},
     "output_type": "execute_result"
    }
   ],
   "source": [
    "eqn = Equals(x, Equals(y, z))\n",
    "eqn"
   ]
  },
  {
   "cell_type": "code",
   "execution_count": 5,
   "metadata": {
    "collapsed": false
   },
   "outputs": [
    {
     "data": {
      "image/png": "[encoded data removed]",
      "text/plain": [
       "((y = z) = (z = y)) = ((y = z) = (z = y))"
      ]
     },
     "execution_count": 5,
     "metadata": {},
     "output_type": "execute_result"
    }
   ],
   "source": [
    "eqn.substitution(fnExpr=Equals(Equals(y, z), Equals(z, y)))"
   ]
  },
  {
   "cell_type": "code",
   "execution_count": 10,
   "metadata": {
    "collapsed": false
   },
   "outputs": [
    {
     "data": {
      "image/png": "[encoded data removed]",
      "text/plain": [
       "n = (z = y)"
      ]
     },
     "execution_count": 10,
     "metadata": {},
     "output_type": "execute_result"
    }
   ],
   "source": [
    "fnExpr = Equals(Equals(y, z), Equals(z, y)).substituted({Equals(y, z): n})\n",
    "fnExpr"
   ]
  },
  {
   "cell_type": "code",
   "execution_count": 9,
   "metadata": {
    "collapsed": false
   },
   "outputs": [
    {
     "data": {
      "image/png": "[encoded data removed]",
      "text/plain": [
       "(x = (z = y)) = ((y = z) = (z = y))"
      ]
     },
     "execution_count": 9,
     "metadata": {},
     "output_type": "execute_result"
    }
   ],
   "source": [
    "eqn.substitution(n, fnExpr)"
   ]
  },
  {
   "cell_type": "code",
   "execution_count": null,
   "metadata": {
    "collapsed": true
   },
   "outputs": [],
   "source": []
  }
 ],
 "metadata": {
  "kernelspec": {
   "display_name": "Python 3",
   "language": "python",
   "name": "python3"
  },
  "language_info": {
   "codemirror_mode": {
    "name": "ipython",
    "version": 3
   },
   "file_extension": ".py",
   "mimetype": "text/x-python",
   "name": "python",
   "nbconvert_exporter": "python",
   "pygments_lexer": "ipython3"
  }
 },
 "nbformat": 4,
 "nbformat_minor": 0
}
