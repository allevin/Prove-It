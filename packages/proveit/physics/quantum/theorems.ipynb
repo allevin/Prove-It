{
 "cells": [
  {
   "cell_type": "code",
   "execution_count": 1,
   "metadata": {
    "collapsed": false
   },
   "outputs": [],
   "source": [
    "import proveit.specialStatementMagic # for %begin_axioms and %end_axioms\n",
    "from proveit.expression import Operation\n",
    "from proveit.basiclogic import Forall, Equals, In, Implies, Iff, And\n",
    "from proveit.linalg import ScalarProd, TensorProd, TensorExp\n",
    "from proveit.physics.quantum import Bra, Ket, RegisterBra, RegisterKet, Meas, Circuit, Input, Output, Gate, MultiWire\n",
    "from proveit.physics.quantum.common import I, H, Hgate, CTRL_DN, WIRE_DN, WIRE_LINK, PASS, \\\n",
    "    QubitSpace, QubitRegisterSpace, RegisterSU, ket0, ket1, ketPlus, invRoot2\n",
    "from proveit.common import a, b, c, d, f, k, l, m, n, u, x, y, z, N, U, X, alpha, Psi, xEtc\n",
    "from proveit.number.common import zero, one, two\n",
    "from proveit.number.numberSets import NaturalsPos, Complexes\n",
    "from proveit.number import Fraction, Exponentiate, Sqrt, Add, Subtract, Abs, DiscreteContiguousSet, Summation, Sqrt,\\\n",
    "    Multiply\n",
    "from proveit.statistics import Prob\n",
    "from proveit.linalg import ScalarProd, MatrixProd, SU"
   ]
  },
  {
   "cell_type": "code",
   "execution_count": 2,
   "metadata": {
    "collapsed": true
   },
   "outputs": [],
   "source": [
    "def controlledNgate(a, b, x, y):\n",
    "    return Circuit([[Input(a), PASS, CTRL_DN, Output(b)],\n",
    "                    [Input(x), MultiWire(n), Gate(U), Output(y)]])"
   ]
  },
  {
   "cell_type": "code",
   "execution_count": 3,
   "metadata": {
    "collapsed": false
   },
   "outputs": [
    {
     "data": {
      "image/png": "[encoded data removed]",
      "text/plain": [
       "$\\begin{array}{cc}\n",
       "\\Qcircuit @C=1em @R=.7em { & \\lstick{a} & \\gate{u} & \\ctrl{1} & \\rstick{b} \\qw \\\\  & \\lstick{x} & /^{n} \\qw & \\gate{U} & \\rstick{y} \\qw} & ~ \n",
       "\\end{array}$"
      ]
     },
     "execution_count": 3,
     "metadata": {},
     "output_type": "execute_result"
    }
   ],
   "source": [
    "pregatedControlledNgate = Circuit([[Input(a), Gate(u), CTRL_DN, Output(b)],\n",
    "                                   [Input(x), MultiWire(n), Gate(U), Output(y)]])\n",
    "pregatedControlledNgate"
   ]
  },
  {
   "cell_type": "code",
   "execution_count": 4,
   "metadata": {
    "collapsed": false
   },
   "outputs": [
    {
     "data": {
      "image/png": "[encoded data removed]",
      "text/plain": [
       "$\\begin{array}{cc}\n",
       "\\Qcircuit @C=1em @R=.7em { & \\lstick{c} & /^{k} \\qw & \\qw & \\qwx[1] \\qw \\\\  & \\lstick{a} & \\gate{u} & \\ctrl{1} & \\qw & /^{ k + 1 } \\qw & \\rstick{d} \\qw \\\\  & \\lstick{x} & /^{n} \\qw & \\gate{U} & \\rstick{y} \\qw} & ~ \n",
       "\\end{array}$"
      ]
     },
     "execution_count": 4,
     "metadata": {},
     "output_type": "execute_result"
    }
   ],
   "source": [
    "pregatedControlledNgateWithMerge = Circuit([[Input(c), MultiWire(k), PASS, WIRE_DN, PASS, PASS],\n",
    "                                            [Input(a), Gate(u), CTRL_DN, WIRE_LINK, MultiWire(Add(k, one)), Output(d)],\n",
    "                                            [Input(x), MultiWire(n), Gate(U), Output(y), PASS, PASS]])\n",
    "pregatedControlledNgateWithMerge"
   ]
  },
  {
   "cell_type": "code",
   "execution_count": 5,
   "metadata": {
    "collapsed": false
   },
   "outputs": [],
   "source": [
    "%begin_theorems"
   ]
  },
  {
   "cell_type": "code",
   "execution_count": 6,
   "metadata": {
    "collapsed": false
   },
   "outputs": [
    {
     "data": {
      "image/png": "[encoded data removed]",
      "text/plain": [
       "$H \\in SU\\left( 2 \\right)$"
      ]
     },
     "execution_count": 6,
     "metadata": {},
     "output_type": "execute_result"
    }
   ],
   "source": [
    "unitaryHadamard = In(H, SU(two))\n",
    "unitaryHadamard"
   ]
  },
  {
   "cell_type": "code",
   "execution_count": 7,
   "metadata": {
    "collapsed": false
   },
   "outputs": [
    {
     "data": {
      "image/png": "[encoded data removed]",
      "text/plain": [
       "$\\lvert + \\rangle = \\left( \\left(\\frac{1}{\\sqrt{2}}   \\lvert 0 \\rangle\\right) + \\left(\\frac{1}{\\sqrt{2}}   \\lvert 1 \\rangle\\right) \\right)$"
      ]
     },
     "execution_count": 7,
     "metadata": {},
     "output_type": "execute_result"
    }
   ],
   "source": [
    "ketPlusDistributed = Equals(ketPlus, Add(ScalarProd(invRoot2, ket0), ScalarProd(invRoot2, ket1)))\n",
    "ketPlusDistributed"
   ]
  },
  {
   "cell_type": "code",
   "execution_count": 8,
   "metadata": {
    "collapsed": false
   },
   "outputs": [
    {
     "data": {
      "image/png": "[encoded data removed]",
      "text/plain": [
       "$\\forall_{ x  \\in \\left(\\mathbb{C}^{2}\\right)} \\left[\\forall_{ \\alpha  \\in \\mathbb{C}} \\left(\\left(\\alpha   x\\right) \\in \\left(\\mathbb{C}^{2}\\right)\\right)\\right]$"
      ]
     },
     "execution_count": 8,
     "metadata": {},
     "output_type": "execute_result"
    }
   ],
   "source": [
    "scaledQubitStateInQubitSpace = Forall(x, Forall(alpha, In(ScalarProd(alpha, x), QubitSpace),\n",
    "                                               domain=Complexes),\n",
    "                                      domain=QubitSpace)\n",
    "scaledQubitStateInQubitSpace"
   ]
  },
  {
   "cell_type": "code",
   "execution_count": 9,
   "metadata": {
    "collapsed": false
   },
   "outputs": [
    {
     "data": {
      "image/png": "[encoded data removed]",
      "text/plain": [
       "$\\forall_{ x  \\in \\left(\\mathbb{C}^{2}\\right)} \\left[\\forall_{ U  \\in SU\\left( 2 \\right)} \\left(\\left( U   x \\right) \\in \\left(\\mathbb{C}^{2}\\right)\\right)\\right]$"
      ]
     },
     "execution_count": 9,
     "metadata": {},
     "output_type": "execute_result"
    }
   ],
   "source": [
    "transformedQubitStateInQubitSpace = Forall(x, Forall(U, In(MatrixProd(U, x), QubitSpace),\n",
    "                                                     domain=SU(two)),\n",
    "                                           domain=QubitSpace)\n",
    "transformedQubitStateInQubitSpace"
   ]
  },
  {
   "cell_type": "code",
   "execution_count": 10,
   "metadata": {
    "collapsed": false
   },
   "outputs": [
    {
     "data": {
      "image/png": "[encoded data removed]",
      "text/plain": [
       "$\\forall_{~.., x_{\\Box} ,..~ \\in \\left(\\mathbb{C}^{2}\\right)} \\left(\\left(~..+ x_{\\Box} +..~\\right) \\in \\left(\\mathbb{C}^{2}\\right)\\right)$"
      ]
     },
     "execution_count": 10,
     "metadata": {},
     "output_type": "execute_result"
    }
   ],
   "source": [
    "summedQubitStateInQubitSpace = Forall(xEtc, In(Add(xEtc), QubitSpace), domain=QubitSpace)\n",
    "summedQubitStateInQubitSpace"
   ]
  },
  {
   "cell_type": "code",
   "execution_count": 11,
   "metadata": {
    "collapsed": false
   },
   "outputs": [
    {
     "data": {
      "image/png": "[encoded data removed]",
      "text/plain": [
       "$\\forall_{ n  \\in \\mathbb{N}^+} \\left[\\forall_{ x  \\in \\left(\\mathbb{C}^{2}\\right)^{\\otimes n}} \\left[\\forall_{ \\alpha  \\in \\mathbb{C}} \\left(\\left(\\alpha   x\\right) \\in \\left(\\mathbb{C}^{2}\\right)^{\\otimes n}\\right)\\right]\\right]$"
      ]
     },
     "execution_count": 11,
     "metadata": {},
     "output_type": "execute_result"
    }
   ],
   "source": [
    "scaledQubitRegisterStateInQubitRegisterSpace = Forall(n,\n",
    "                                                      Forall(x, \n",
    "                                                             Forall(alpha, \n",
    "                                                                    In(ScalarProd(alpha, x), QubitRegisterSpace(n)),\n",
    "                                                                    domain=Complexes),\n",
    "                                                             domain=QubitRegisterSpace(n)),\n",
    "                                                      domain=NaturalsPos)\n",
    "scaledQubitRegisterStateInQubitRegisterSpace"
   ]
  },
  {
   "cell_type": "code",
   "execution_count": 12,
   "metadata": {
    "collapsed": false
   },
   "outputs": [
    {
     "data": {
      "image/png": "[encoded data removed]",
      "text/plain": [
       "$\\forall_{ n  \\in \\mathbb{N}^+} \\left[\\forall_{ k  \\in \\{0\\ldots \\left(\\left(2^{n}\\right) - 1\\right)\\}} \\left(\\lvert k \\rangle_{n} \\in \\left(\\mathbb{C}^{2}\\right)^{\\otimes n}\\right)\\right]$"
      ]
     },
     "execution_count": 12,
     "metadata": {},
     "output_type": "execute_result"
    }
   ],
   "source": [
    "registerKetInQubitRegisterSpace = Forall(n, Forall(k, In(RegisterKet(k, n), QubitRegisterSpace(n)),\n",
    "                                                   domain = DiscreteContiguousSet(zero, Subtract(Exponentiate(two, n), one))),\n",
    "                                         domain=NaturalsPos)\n",
    "registerKetInQubitRegisterSpace                               "
   ]
  },
  {
   "cell_type": "code",
   "execution_count": 13,
   "metadata": {
    "collapsed": false
   },
   "outputs": [
    {
     "data": {
      "image/png": "[encoded data removed]",
      "text/plain": [
       "$\\forall_{ n  \\in \\mathbb{N}^+} \\left[\\forall_{ k  \\in \\{0\\ldots \\left(\\left(2^{n}\\right) - 1\\right)\\}} \\left[\\forall_{ \\Psi ~|~ \\left(\\lvert \\Psi \\rangle \\in \\left(\\mathbb{C}^{2}\\right)^{\\otimes n}\\right) } \\left(\\prescript{}{n}\\langle k \\rvert\\Psi \\rangle \\in \\mathbb{C}\\right)\\right]\\right]$"
      ]
     },
     "execution_count": 13,
     "metadata": {},
     "output_type": "execute_result"
    }
   ],
   "source": [
    "registerQubitComplexAmplitude = Forall(n, Forall(k, Forall(Psi,\n",
    "                                                           In(MatrixProd(RegisterBra(k, n), \n",
    "                                                                         Ket(Psi)),\n",
    "                                                             Complexes),\n",
    "                                                          conditions = [In(Ket(Psi), QubitRegisterSpace(n))]),\n",
    "                                                 domain=DiscreteContiguousSet(zero, Subtract(Exponentiate(two, n),\n",
    "                                                                                             one))),\n",
    "                                       domain=NaturalsPos)\n",
    "registerQubitComplexAmplitude"
   ]
  },
  {
   "cell_type": "code",
   "execution_count": 14,
   "metadata": {
    "collapsed": false
   },
   "outputs": [
    {
     "data": {
      "image/png": "[encoded data removed]",
      "text/plain": [
       "$\\forall_{ n  \\in \\mathbb{N}^+} \\left[\\forall_{ k  \\in \\{0\\ldots \\left(\\left(2^{n}\\right) - 1\\right)\\}} \\left[\\forall_{ \\Psi , m ~|~ \\left(\\lvert \\Psi \\rangle \\in \\left(\\mathbb{C}^{2}\\right)^{\\otimes n}\\right) , \\left(m = {\\cal M}\\left( \\lvert \\Psi \\rangle \\right)\\right) } \\left(Pr_{m}[m = k] = \\left(\\left|\\prescript{}{n}\\langle k \\rvert\\Psi \\rangle\\right|^{2}\\right)\\right)\\right]\\right]$"
      ]
     },
     "execution_count": 14,
     "metadata": {},
     "output_type": "execute_result"
    }
   ],
   "source": [
    "registerQubitBornRule = Forall(n, Forall(k, Forall((Psi, m), \n",
    "                                                   Equals(Prob(Equals(m, k), m), \n",
    "                                                          Exponentiate(Abs(MatrixProd(RegisterBra(k, n), \n",
    "                                                                                      Ket(Psi))),\n",
    "                                                                      two)),\n",
    "                                                   conditions = [In(Ket(Psi), QubitRegisterSpace(n)),\n",
    "                                                                 Equals(m, Meas(Ket(Psi)))]),\n",
    "                                         domain=DiscreteContiguousSet(zero, Subtract(Exponentiate(two, n), one))),\n",
    "                               domain=NaturalsPos)\n",
    "registerQubitBornRule                                     "
   ]
  },
  {
   "cell_type": "code",
   "execution_count": 15,
   "metadata": {
    "collapsed": false
   },
   "outputs": [
    {
     "data": {
      "image/png": "[encoded data removed]",
      "text/plain": [
       "$\\forall_{ n  \\in \\mathbb{N}^+} \\left[\\forall_{ \\Psi , m ~|~ \\left(\\lvert \\Psi \\rangle \\in \\left(\\mathbb{C}^{2}\\right)^{\\otimes n}\\right) , \\left(m = {\\cal M}\\left( \\lvert \\Psi \\rangle \\right)\\right) } \\left(\\left(\\sum_{k=0}^{\\left(2^{n}\\right) - 1} Pr_{m}[m = k]\\right) = 1\\right)\\right]$"
      ]
     },
     "execution_count": 15,
     "metadata": {},
     "output_type": "execute_result"
    }
   ],
   "source": [
    "registerQubitAllProbs = Forall(n, Forall((Psi, m), \n",
    "                                         Equals(Summation(k, Prob(Equals(m, k), m), \n",
    "                                                          domain=DiscreteContiguousSet(zero, \n",
    "                                                                                       Subtract(Exponentiate(two, n), \n",
    "                                                                                                one))),\n",
    "                                                one),\n",
    "                                         conditions = [In(Ket(Psi), QubitRegisterSpace(n)),\n",
    "                                                       Equals(m, Meas(Ket(Psi)))]),\n",
    "                               domain=NaturalsPos)\n",
    "registerQubitAllProbs"
   ]
  },
  {
   "cell_type": "code",
   "execution_count": 16,
   "metadata": {
    "collapsed": false
   },
   "outputs": [
    {
     "data": {
      "image/png": "[encoded data removed]",
      "text/plain": [
       "$\\forall_{ n  \\in \\mathbb{N}^+} \\left[\\forall_{ U  \\in SU\\left( 2^{n} \\right)} \\left[\\forall_{ u  \\in SU\\left( 2 \\right)} \\left[\\forall_{ a , b  \\in \\left(\\mathbb{C}^{2}\\right)} \\left[\\forall_{ x , y  \\in \\left(\\mathbb{C}^{2}\\right)^{\\otimes n}} \\left(\\left[\n",
       "\\begin{array}{cc}\n",
       "\\Qcircuit @C=1em @R=.7em { & \\lstick{a} & \\gate{u} & \\ctrl{1} & \\rstick{b} \\qw \\\\  & \\lstick{x} & /^{n} \\qw & \\gate{U} & \\rstick{y} \\qw} & ~ \n",
       "\\end{array}\n",
       "\\right] = \\left[\n",
       "\\begin{array}{cc}\n",
       "\\Qcircuit @C=1em @R=.7em { & \\lstick{ u   a } & \\qw & \\ctrl{1} & \\rstick{b} \\qw \\\\  & \\lstick{x} & /^{n} \\qw & \\gate{U} & \\rstick{y} \\qw} & ~ \n",
       "\\end{array}\n",
       "\\right]\\right)\\right]\\right]\\right]\\right]$"
      ]
     },
     "execution_count": 16,
     "metadata": {},
     "output_type": "execute_result"
    }
   ],
   "source": [
    "pregatedControlledNgateEquiv = Forall(n, \n",
    "                                     Forall(U, \n",
    "                                            Forall(u,\n",
    "                                                   Forall((a, b),\n",
    "                                                          Forall((x, y),\n",
    "                                                                 Equals(pregatedControlledNgate,\n",
    "                                                                        controlledNgate(MatrixProd(u, a), b, x, y)),\n",
    "                                                                 domain=QubitRegisterSpace(n)),\n",
    "                                                          domain=QubitSpace),\n",
    "                                                   domain=SU(two)),\n",
    "                                            domain=RegisterSU(n)), \n",
    "                                        domain=NaturalsPos)\n",
    "pregatedControlledNgateEquiv"
   ]
  },
  {
   "cell_type": "code",
   "execution_count": 17,
   "metadata": {
    "collapsed": false
   },
   "outputs": [
    {
     "data": {
      "image/png": "[encoded data removed]",
      "text/plain": [
       "$\\forall_{ n  \\in \\mathbb{N}^+} \\left[\\forall_{ U  \\in SU\\left( 2^{n} \\right)} \\left[\\forall_{ a , b , c  \\in \\left(\\mathbb{C}^{2}\\right)} \\left[\\forall_{ x , y , z  \\in \\left(\\mathbb{C}^{2}\\right)^{\\otimes n}} \\left(\\left(\\left[\n",
       "\\begin{array}{cc}\n",
       "\\Qcircuit @C=1em @R=.7em { & \\lstick{a} & \\qw & \\ctrl{1} & \\rstick{b} \\qw \\\\  & \\lstick{x} & /^{n} \\qw & \\gate{U} & \\rstick{y} \\qw} & ~ \n",
       "\\end{array}\n",
       "\\right] = \\left[\n",
       "\\begin{array}{cc}\n",
       "\\Qcircuit @C=1em @R=.7em { & \\lstick{a} & \\qw & \\ctrl{1} & \\rstick{c} \\qw \\\\  & \\lstick{x} & /^{n} \\qw & \\gate{U} & \\rstick{z} \\qw} & ~ \n",
       "\\end{array}\n",
       "\\right]\\right) \\Leftrightarrow \\left(\\left( b \\otimes y \\right) = \\left( c \\otimes z \\right)\\right)\\right)\\right]\\right]\\right]$"
      ]
     },
     "execution_count": 17,
     "metadata": {},
     "output_type": "execute_result"
    }
   ],
   "source": [
    "controlledNgateEquiv = Forall(n, \n",
    "                             Forall(U, \n",
    "                                    Forall((a, b, c),\n",
    "                                           Forall((x, y, z),\n",
    "                                                  Iff(Equals(controlledNgate(a, b, x, y),\n",
    "                                                             controlledNgate(a, c, x, z)),\n",
    "                                                      Equals(TensorProd(b, y), TensorProd(c, z))),\n",
    "                                                  domain=QubitRegisterSpace(n)),\n",
    "                                           domain=QubitSpace),\n",
    "                                    domain=RegisterSU(n)), \n",
    "                             domain=NaturalsPos)\n",
    "controlledNgateEquiv"
   ]
  },
  {
   "cell_type": "code",
   "execution_count": 18,
   "metadata": {
    "collapsed": false
   },
   "outputs": [
    {
     "data": {
      "image/png": "[encoded data removed]",
      "text/plain": [
       "$\\forall_{ n  \\in \\mathbb{N}^+} \\left[\\forall_{ U  \\in SU\\left( 2^{n} \\right)} \\left[\\forall_{ a , b , c , d  \\in \\left(\\mathbb{C}^{2}\\right)} \\left[\\forall_{ x , y  \\in \\left(\\mathbb{C}^{2}\\right)^{\\otimes n}} \\left(\\left( \\left[\n",
       "\\begin{array}{cc}\n",
       "\\Qcircuit @C=1em @R=.7em { & \\lstick{a} & \\qw & \\ctrl{1} & \\rstick{c} \\qw \\\\  & \\lstick{x} & /^{n} \\qw & \\gate{U} & \\rstick{y} \\qw} & ~ \n",
       "\\end{array}\n",
       "\\right] \\land \\left[\n",
       "\\begin{array}{cc}\n",
       "\\Qcircuit @C=1em @R=.7em { & \\lstick{b} & \\qw & \\ctrl{1} & \\rstick{d} \\qw \\\\  & \\lstick{x} & /^{n} \\qw & \\gate{U} & \\rstick{y} \\qw} & ~ \n",
       "\\end{array}\n",
       "\\right] \\right) \\Rightarrow \\left[\n",
       "\\begin{array}{cc}\n",
       "\\Qcircuit @C=1em @R=.7em { & \\lstick{ a + b } & \\qw & \\ctrl{1} & \\rstick{ c + d } \\qw \\\\  & \\lstick{x} & /^{n} \\qw & \\gate{U} & \\rstick{y} \\qw} & ~ \n",
       "\\end{array}\n",
       "\\right]\\right)\\right]\\right]\\right]$"
      ]
     },
     "execution_count": 18,
     "metadata": {},
     "output_type": "execute_result"
    }
   ],
   "source": [
    "superpositionControlledNgate = Forall(n, \n",
    "                             Forall(U, \n",
    "                                    Forall((a, b, c, d),\n",
    "                                           Forall((x, y),\n",
    "                                                  Implies(And(controlledNgate(a, c, x, y),\n",
    "                                                              controlledNgate(b, d, x, y)),\n",
    "                                                          controlledNgate(Add(a, b), Add(c, d), x, y)),\n",
    "                                                  domain=QubitRegisterSpace(n)),\n",
    "                                           domain=QubitSpace),\n",
    "                                    domain=RegisterSU(n)), \n",
    "                             domain=NaturalsPos)\n",
    "superpositionControlledNgate"
   ]
  },
  {
   "cell_type": "code",
   "execution_count": 19,
   "metadata": {
    "collapsed": false
   },
   "outputs": [
    {
     "data": {
      "image/png": "[encoded data removed]",
      "text/plain": [
       "$\\forall_{ n , k  \\in \\mathbb{N}^+} \\left[\\forall_{ U  \\in SU\\left( 2^{n} \\right)} \\left[\\forall_{ u  \\in SU\\left( 2 \\right)} \\left[\\forall_{ a , b  \\in \\left(\\mathbb{C}^{2}\\right)} \\left[\\forall_{ c  \\in \\left(\\mathbb{C}^{2}\\right)^{\\otimes k}} \\left[\\forall_{ d  \\in \\left(\\mathbb{C}^{2}\\right)^{\\otimes \\left( k + 1 \\right)}} \\left[\\forall_{ x , y  \\in \\left(\\mathbb{C}^{2}\\right)^{\\otimes n}} \\left(\\left[\n",
       "\\begin{array}{cc}\n",
       "\\Qcircuit @C=1em @R=.7em { & \\lstick{a} & \\gate{u} & \\ctrl{1} & \\rstick{b} \\qw \\\\  & \\lstick{x} & /^{n} \\qw & \\gate{U} & \\rstick{y} \\qw} & ~ \n",
       "\\end{array}\n",
       "\\right] \\Rightarrow \\left(\\left[\n",
       "\\begin{array}{cc}\n",
       "\\Qcircuit @C=1em @R=.7em { & \\lstick{c} & /^{k} \\qw & \\qw & \\qwx[1] \\qw \\\\  & \\lstick{a} & \\gate{u} & \\ctrl{1} & \\qw & /^{ k + 1 } \\qw & \\rstick{d} \\qw \\\\  & \\lstick{x} & /^{n} \\qw & \\gate{U} & \\rstick{y} \\qw} & ~ \n",
       "\\end{array}\n",
       "\\right] \\Rightarrow \\left(d = \\left( c \\otimes b \\right)\\right)\\right)\\right)\\right]\\right]\\right]\\right]\\right]\\right]$"
      ]
     },
     "execution_count": 19,
     "metadata": {},
     "output_type": "execute_result"
    }
   ],
   "source": [
    "pregatedControlledNgateMerger = Forall((n, k), \n",
    "                                       Forall(U, \n",
    "                                              Forall(u,\n",
    "                                                     Forall((a, b),\n",
    "                                                            Forall(c,\n",
    "                                                                   Forall(d,\n",
    "                                                                          Forall((x, y),\n",
    "                                                                                 Implies(pregatedControlledNgate,\n",
    "                                                                                         Implies(pregatedControlledNgateWithMerge,\n",
    "                                                                                                 Equals(d, TensorProd(c, b)))),\n",
    "                                                                                 domain=QubitRegisterSpace(n)),\n",
    "                                                                          domain=QubitRegisterSpace(Add(k, one))),\n",
    "                                                                   domain=QubitRegisterSpace(k)),\n",
    "                                                          domain=QubitSpace),\n",
    "                                                   domain=SU(two)),\n",
    "                                            domain=RegisterSU(n)), \n",
    "                                        domain=NaturalsPos)\n",
    "pregatedControlledNgateMerger\n"
   ]
  },
  {
   "cell_type": "code",
   "execution_count": 20,
   "metadata": {
    "collapsed": false
   },
   "outputs": [
    {
     "data": {
      "image/png": "[encoded data removed]",
      "text/plain": [
       "$\\forall_{ n  \\in \\mathbb{N}^+} \\left[\\forall_{ U  \\in SU\\left( 2^{n} \\right)} \\left[\\forall_{ l  \\in \\{0\\ldots \\left(\\left(2^{n}\\right) - 1\\right)\\}} \\left[\\forall_{ f } \\left(\\left( \\prescript{}{n}\\langle l \\rvert   \\left( U   \\left(\\sum_{k=0}^{\\left(2^{n}\\right) - 1} \\left(f\\left( k \\right)   \\lvert k \\rangle_{n}\\right)\\right) \\right) \\right) = \\left(\\sum_{k=0}^{\\left(2^{n}\\right) - 1} \\left( f\\left( k \\right) \\cdot \\left( \\prescript{}{n}\\langle l \\rvert   U   \\lvert k \\rangle_{n} \\right) \\right)\\right)\\right)\\right]\\right]\\right]$"
      ]
     },
     "execution_count": 20,
     "metadata": {},
     "output_type": "execute_result"
    }
   ],
   "source": [
    "registerBraOverSummedKet = Forall(n,\n",
    "                                  Forall(U, \n",
    "                                      Forall(l,\n",
    "                                        Forall(f, \n",
    "                                             Equals(MatrixProd(RegisterBra(l, n), \n",
    "                                                               MatrixProd(U, \n",
    "                                                                          Summation(k, ScalarProd(Operation(f, k), RegisterKet(k, n)),\n",
    "                                                                                    domain=DiscreteContiguousSet(zero, Subtract(Exponentiate(two, n), one))))),\n",
    "                                                    Summation(k, Multiply(Operation(f, k), \n",
    "                                                                            MatrixProd(RegisterBra(l, n), U, RegisterKet(k, n))),\n",
    "                                                             domain=DiscreteContiguousSet(zero, Subtract(Exponentiate(two, n), one))))),\n",
    "                                            domain=DiscreteContiguousSet(zero, Subtract(Exponentiate(two, n), one))),\n",
    "                                         domain=SU(Exponentiate(two, n))),\n",
    "                                  domain=NaturalsPos)\n",
    "registerBraOverSummedKet"
   ]
  },
  {
   "cell_type": "code",
   "execution_count": 21,
   "metadata": {
    "collapsed": false
   },
   "outputs": [
    {
     "name": "stdout",
     "output_type": "stream",
     "text": [
      "Creating theorems *.dill and *.pv_it files in the __pv_it__ directory\n",
      "These theorems may be imported from proveit.physics.quantum.theorems\n"
     ]
    }
   ],
   "source": [
    "%end_theorems"
   ]
  },
  {
   "cell_type": "code",
   "execution_count": null,
   "metadata": {
    "collapsed": true
   },
   "outputs": [],
   "source": []
  },
  {
   "cell_type": "code",
   "execution_count": null,
   "metadata": {
    "collapsed": true
   },
   "outputs": [],
   "source": []
  }
 ],
 "metadata": {
  "kernelspec": {
   "display_name": "Python 3",
   "language": "python",
   "name": "python3"
  },
  "language_info": {
   "codemirror_mode": {
    "name": "ipython",
    "version": 3
   },
   "file_extension": ".py",
   "mimetype": "text/x-python",
   "name": "python",
   "nbconvert_exporter": "python",
   "pygments_lexer": "ipython3"
  }
 },
 "nbformat": 4,
 "nbformat_minor": 0
}
