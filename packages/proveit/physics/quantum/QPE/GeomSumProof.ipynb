{
 "cells": [
  {
   "cell_type": "code",
   "execution_count": 1,
   "metadata": {
    "collapsed": false
   },
   "outputs": [],
   "source": [
    "from proveit.number.arithmeticOps import *\n",
    "from proveit.number.variables import a,b,c,m,n,r, t,eps,phi,U,SUm,C2m,H,Hm,u,e,i,pi,k,l,r,x,y,z,zero,one,two,infinity\n",
    "from proveit.number.variables import minusOne, minusTwo,Z,Zp,R,zeroToOne,tFunc,tFunc_n_eps,QPE,QPEfunc\n",
    "from proveit.basiclogic.boolean.quantifiers import Forall, Exists\n",
    "from proveit.basiclogic.set.setOps import In\n",
    "from proveit.basiclogic.equality.eqOps import Equals\n",
    "\n",
    "#from proveit.number.theorems import *"
   ]
  },
  {
   "cell_type": "code",
   "execution_count": 2,
   "metadata": {
    "collapsed": false
   },
   "outputs": [],
   "source": [
    "#zz = Summation([x,z],Exponentiate(y,x),[In(x,DiscreteContiguousSet(zero,infinity)),In(z,DiscreteContiguousSet(zero,one))])\n",
    "zz = Summation(x,Exponentiate(y,x),DiscreteContiguousSet(zero,infinity))"
   ]
  },
  {
   "cell_type": "code",
   "execution_count": 3,
   "metadata": {
    "collapsed": false
   },
   "outputs": [
    {
     "name": "stdout",
     "output_type": "stream",
     "text": [
      "\\sum_{x \\in \\{0\\ldots \\infty\\}} y^{x}\n"
     ]
    }
   ],
   "source": [
    "print(zz.formatted(LATEX))"
   ]
  },
  {
   "cell_type": "code",
   "execution_count": 4,
   "metadata": {
    "collapsed": false
   },
   "outputs": [
    {
     "data": {
      "text/latex": [
       "$$\n",
       "\\sum_{x \\in \\{0\\ldots \\infty\\}} y^{x}\n",
       "$$"
      ],
      "text/plain": [
       "<IPython.core.display.Latex object>"
      ]
     },
     "metadata": {},
     "output_type": "display_data"
    }
   ],
   "source": [
    "%%latex\n",
    "$$\n",
    "\\sum_{x \\in \\{0\\ldots \\infty\\}} y^{x}\n",
    "$$"
   ]
  },
  {
   "cell_type": "code",
   "execution_count": 5,
   "metadata": {
    "collapsed": false
   },
   "outputs": [
    {
     "data": {
      "text/plain": [
       "proveit.basiclogic.equality.EQUALS(proveit.number.SUMMATION({'domain':proveit.number.DISCRETECONTIGUOUSSET(proveit.number.0,proveit.number.infinity), 'instance_mapping':[(\\x)->{'instance_expression':proveit.number.EXPONENTIATE(\\y,\\x), 'conditions':}]}),proveit.number.FRACTION(proveit.number.1,proveit.number.SUBTRACT(proveit.number.1,\\y)))"
      ]
     },
     "execution_count": 5,
     "metadata": {},
     "output_type": "execute_result"
    }
   ],
   "source": [
    "zz.reduceGeomSum()"
   ]
  },
  {
   "cell_type": "code",
   "execution_count": 7,
   "metadata": {
    "collapsed": false
   },
   "outputs": [
    {
     "name": "stdout",
     "output_type": "stream",
     "text": [
      "[\\sum_{x \\in \\{0\\ldots \\infty\\}} y^{x}] = \\frac{1}{\\left(1 - y\\right)}\n"
     ]
    }
   ],
   "source": [
    "print(zz.reduceGeomSum().formatted(LATEX))"
   ]
  },
  {
   "cell_type": "code",
   "execution_count": 8,
   "metadata": {
    "collapsed": false
   },
   "outputs": [
    {
     "data": {
      "text/latex": [
       "$$\n",
       "[\\sum_{x \\in \\{0\\ldots \\infty\\}} y^{x}] = \\frac{1}{\\left(1 - y\\right)}\n",
       "$$"
      ],
      "text/plain": [
       "<IPython.core.display.Latex object>"
      ]
     },
     "metadata": {},
     "output_type": "display_data"
    }
   ],
   "source": [
    "%%latex\n",
    "$$\n",
    "[\\sum_{x \\in \\{0\\ldots \\infty\\}} y^{x}] = \\frac{1}{\\left(1 - y\\right)}\n",
    "$$"
   ]
  },
  {
   "cell_type": "code",
   "execution_count": 8,
   "metadata": {
    "collapsed": true
   },
   "outputs": [],
   "source": [
    "zz2 = Summation(x,Exponentiate(y,x),DiscreteContiguousSet(a,b))"
   ]
  },
  {
   "cell_type": "code",
   "execution_count": 12,
   "metadata": {
    "collapsed": false
   },
   "outputs": [
    {
     "name": "stdout",
     "output_type": "stream",
     "text": [
      "[\\sum_{x \\in \\{a\\ldots b\\}} y^{x}] = \\frac{(y^{(b + 1)} - y^{a})}{(y - 1)}\n"
     ]
    }
   ],
   "source": [
    "print(zz2.reduceGeomSum().formatted(LATEX,fence=False))"
   ]
  },
  {
   "cell_type": "code",
   "execution_count": 13,
   "metadata": {
    "collapsed": false
   },
   "outputs": [
    {
     "data": {
      "text/latex": [
       "$$\n",
       "[\\sum_{x \\in \\{a\\ldots b\\}} y^{x}] = \\frac{(y^{(b + 1)} - y^{a})}{(y - 1)}\n",
       "$$"
      ],
      "text/plain": [
       "<IPython.core.display.Latex object>"
      ]
     },
     "metadata": {},
     "output_type": "display_data"
    }
   ],
   "source": [
    "%%latex\n",
    "$$\n",
    "[\\sum_{x \\in \\{a\\ldots b\\}} y^{x}] = \\frac{(y^{(b + 1)} - y^{a})}{(y - 1)}\n",
    "$$"
   ]
  },
  {
   "cell_type": "code",
   "execution_count": 14,
   "metadata": {
    "collapsed": false
   },
   "outputs": [
    {
     "name": "stdout",
     "output_type": "stream",
     "text": [
      "\\forall_{r | r \\in \\mathbb{R}} [\\sum_{m \\in \\{0\\ldots \\infty\\}} r^{m}] = \\frac{1}{(1 - r)}\n"
     ]
    }
   ],
   "source": [
    "print(Forall(r,Equals(Summation(m,Exponentiate(r,m),DiscreteContiguousSet(zero,infinity)), \n",
    "             Fraction(one,Subtract(one,r))),\n",
    "              In(r,R),\n",
    "              ).formatted(LATEX))"
   ]
  },
  {
   "cell_type": "code",
   "execution_count": 15,
   "metadata": {
    "collapsed": false
   },
   "outputs": [
    {
     "data": {
      "text/latex": [
       "$$\n",
       "\\forall_{r | r \\in \\mathbb{R}} [\\sum_{m \\in \\{0\\ldots \\infty\\}} r^{m}] = \\frac{1}{(1 - r)}\n",
       "$$"
      ],
      "text/plain": [
       "<IPython.core.display.Latex object>"
      ]
     },
     "metadata": {},
     "output_type": "display_data"
    }
   ],
   "source": [
    "%%latex\n",
    "$$\n",
    "\\forall_{r | r \\in \\mathbb{R}} [\\sum_{m \\in \\{0\\ldots \\infty\\}} r^{m}] = \\frac{1}{(1 - r)}\n",
    "$$"
   ]
  },
  {
   "cell_type": "code",
   "execution_count": 22,
   "metadata": {
    "collapsed": false
   },
   "outputs": [
    {
     "name": "stdout",
     "output_type": "stream",
     "text": [
      "[\\sum_{x \\in \\{0\\ldots \\infty\\}} y^{x}] = \\frac{1}{(1 - y)}\n"
     ]
    }
   ],
   "source": [
    "print(zz.reduceGeomSum().prove({In(y,R)}).formatted(LATEX))"
   ]
  },
  {
   "cell_type": "code",
   "execution_count": 23,
   "metadata": {
    "collapsed": false
   },
   "outputs": [
    {
     "data": {
      "text/latex": [
       "$$\n",
       "[\\sum_{x \\in \\{0\\ldots \\infty\\}} y^{x}] = \\frac{1}{(1 - y)}\n",
       "$$"
      ],
      "text/plain": [
       "<IPython.core.display.Latex object>"
      ]
     },
     "metadata": {},
     "output_type": "display_data"
    }
   ],
   "source": [
    "%%latex\n",
    "$$\n",
    "[\\sum_{x \\in \\{0\\ldots \\infty\\}} y^{x}] = \\frac{1}{(1 - y)}\n",
    "$$"
   ]
  },
  {
   "cell_type": "code",
   "execution_count": 24,
   "metadata": {
    "collapsed": false
   },
   "outputs": [
    {
     "name": "stdout",
     "output_type": "stream",
     "text": [
      "\\forall_{r, k, l | k \\in \\mathbb{Z}, l \\in \\mathbb{Z}, r \\in \\mathbb{R}, k < l} [\\sum_{m \\in \\{k\\ldots l\\}} r^{m}] = \\frac{(r^{(l + 1)} - r^{k})}{(r - 1)}\n"
     ]
    }
   ],
   "source": [
    "print(Forall([r,k,l],Equals(Summation(m,Exponentiate(r,m),DiscreteContiguousSet(k,l)), \n",
    "         Fraction(Subtract(Exponentiate(r,Add(l,one)),Exponentiate(r,k)),Subtract(r,one))),\n",
    "         [In(k,Z),\n",
    "          In(l,Z),\n",
    "          In(r,R),\n",
    "          LessThan(k,l)]).formatted(LATEX))"
   ]
  },
  {
   "cell_type": "code",
   "execution_count": 25,
   "metadata": {
    "collapsed": false
   },
   "outputs": [
    {
     "data": {
      "text/latex": [
       "$$\n",
       "\\forall_{r, k, l | k \\in \\mathbb{Z}, l \\in \\mathbb{Z}, r \\in \\mathbb{R}, k < l} [\\sum_{m \\in \\{k\\ldots l\\}} r^{m}] = \\frac{(r^{(l + 1)} - r^{k})}{(r - 1)}\n",
       "$$"
      ],
      "text/plain": [
       "<IPython.core.display.Latex object>"
      ]
     },
     "metadata": {},
     "output_type": "display_data"
    }
   ],
   "source": [
    "%%latex\n",
    "$$\n",
    "\\forall_{r, k, l | k \\in \\mathbb{Z}, l \\in \\mathbb{Z}, r \\in \\mathbb{R}, k < l} [\\sum_{m \\in \\{k\\ldots l\\}} r^{m}] = \\frac{(r^{(l + 1)} - r^{k})}{(r - 1)}\n",
    "$$"
   ]
  },
  {
   "cell_type": "code",
   "execution_count": 26,
   "metadata": {
    "collapsed": false
   },
   "outputs": [
    {
     "name": "stdout",
     "output_type": "stream",
     "text": [
      "\\sum_{x \\in \\{a\\ldots b\\}} y^{x}\n"
     ]
    }
   ],
   "source": [
    "print(zz2.formatted(LATEX))"
   ]
  },
  {
   "cell_type": "code",
   "execution_count": 27,
   "metadata": {
    "collapsed": false
   },
   "outputs": [
    {
     "name": "stdout",
     "output_type": "stream",
     "text": [
      "[\\sum_{x \\in \\{a\\ldots b\\}} y^{x}] = \\frac{(y^{(b + 1)} - y^{a})}{(y - 1)}\n"
     ]
    }
   ],
   "source": [
    "print(zz2.reduceGeomSum().prove({In(y,R),LessThan(a,b),In(a,Z),In(b,Z)}).formatted(LATEX))"
   ]
  },
  {
   "cell_type": "code",
   "execution_count": 29,
   "metadata": {
    "collapsed": false
   },
   "outputs": [
    {
     "ename": "ProofFailure",
     "evalue": "Proof failed: [Summation_{x in \\{a...b\\}} y^(x)] = (y^((b + 1)) - y^(a)) / (y - 1) assuming {a in Z, b in Z, y in R}",
     "output_type": "error",
     "traceback": [
      "\u001b[0;31m---------------------------------------------------------------------------\u001b[0m",
      "\u001b[0;31mProofFailure\u001b[0m                              Traceback (most recent call last)",
      "\u001b[0;32m<ipython-input-29-442f22fc5588>\u001b[0m in \u001b[0;36m<module>\u001b[0;34m()\u001b[0m\n\u001b[0;32m----> 1\u001b[0;31m \u001b[0;32mprint\u001b[0m \u001b[0mzz2\u001b[0m\u001b[0;34m.\u001b[0m\u001b[0mreduceGeomSum\u001b[0m\u001b[0;34m(\u001b[0m\u001b[0;34m)\u001b[0m\u001b[0;34m.\u001b[0m\u001b[0mprove\u001b[0m\u001b[0;34m(\u001b[0m\u001b[0;34m{\u001b[0m\u001b[0mIn\u001b[0m\u001b[0;34m(\u001b[0m\u001b[0my\u001b[0m\u001b[0;34m,\u001b[0m\u001b[0mR\u001b[0m\u001b[0;34m)\u001b[0m\u001b[0;34m,\u001b[0m\u001b[0mIn\u001b[0m\u001b[0;34m(\u001b[0m\u001b[0ma\u001b[0m\u001b[0;34m,\u001b[0m\u001b[0mZ\u001b[0m\u001b[0;34m)\u001b[0m\u001b[0;34m,\u001b[0m\u001b[0mIn\u001b[0m\u001b[0;34m(\u001b[0m\u001b[0mb\u001b[0m\u001b[0;34m,\u001b[0m\u001b[0mZ\u001b[0m\u001b[0;34m)\u001b[0m\u001b[0;34m}\u001b[0m\u001b[0;34m)\u001b[0m\u001b[0;34m.\u001b[0m\u001b[0mformatted\u001b[0m\u001b[0;34m(\u001b[0m\u001b[0mLATEX\u001b[0m\u001b[0;34m)\u001b[0m\u001b[0;34m\u001b[0m\u001b[0m\n\u001b[0m",
      "\u001b[0;32m/Users/kmrudin/proveit/proveit/expression.pyc\u001b[0m in \u001b[0;36mprove\u001b[0;34m(self, assumptions)\u001b[0m\n\u001b[1;32m     48\u001b[0m             \u001b[0;32mreturn\u001b[0m \u001b[0;34m\"{\"\u001b[0m \u001b[0;34m+\u001b[0m \u001b[0;34m\", \"\u001b[0m\u001b[0;34m.\u001b[0m\u001b[0mjoin\u001b[0m\u001b[0;34m(\u001b[0m\u001b[0;34m[\u001b[0m\u001b[0mstr\u001b[0m\u001b[0;34m(\u001b[0m\u001b[0massumption\u001b[0m\u001b[0;34m)\u001b[0m \u001b[0;32mfor\u001b[0m \u001b[0massumption\u001b[0m \u001b[0;32min\u001b[0m \u001b[0massumptions\u001b[0m\u001b[0;34m]\u001b[0m\u001b[0;34m)\u001b[0m \u001b[0;34m+\u001b[0m \u001b[0;34m\"}\"\u001b[0m\u001b[0;34m\u001b[0m\u001b[0m\n\u001b[1;32m     49\u001b[0m         \u001b[0;32mif\u001b[0m \u001b[0mself\u001b[0m\u001b[0;34m.\u001b[0m\u001b[0misProven\u001b[0m\u001b[0;34m(\u001b[0m\u001b[0massumptions\u001b[0m\u001b[0;34m)\u001b[0m\u001b[0;34m==\u001b[0m\u001b[0mFalse\u001b[0m\u001b[0;34m:\u001b[0m\u001b[0;34m\u001b[0m\u001b[0m\n\u001b[0;32m---> 50\u001b[0;31m             \u001b[0;32mraise\u001b[0m \u001b[0mProofFailure\u001b[0m\u001b[0;34m(\u001b[0m\u001b[0;34m\"Proof failed: \"\u001b[0m \u001b[0;34m+\u001b[0m \u001b[0mstr\u001b[0m\u001b[0;34m(\u001b[0m\u001b[0mself\u001b[0m\u001b[0;34m)\u001b[0m \u001b[0;34m+\u001b[0m \u001b[0;34m\" assuming \"\u001b[0m \u001b[0;34m+\u001b[0m \u001b[0mmakeAssumptionsStr\u001b[0m\u001b[0;34m(\u001b[0m\u001b[0massumptions\u001b[0m\u001b[0;34m)\u001b[0m\u001b[0;34m)\u001b[0m\u001b[0;34m\u001b[0m\u001b[0m\n\u001b[0m\u001b[1;32m     51\u001b[0m         \u001b[0;32mreturn\u001b[0m \u001b[0mself\u001b[0m\u001b[0;34m\u001b[0m\u001b[0m\n\u001b[1;32m     52\u001b[0m \u001b[0;34m\u001b[0m\u001b[0m\n",
      "\u001b[0;31mProofFailure\u001b[0m: Proof failed: [Summation_{x in \\{a...b\\}} y^(x)] = (y^((b + 1)) - y^(a)) / (y - 1) assuming {a in Z, b in Z, y in R}"
     ]
    }
   ],
   "source": [
    "print(zz2.reduceGeomSum().prove({In(y,R),LessThan(a,b),In(a,Z),In(b,Z)}).formatted(LATEX))"
   ]
  },
  {
   "cell_type": "code",
   "execution_count": null,
   "metadata": {
    "collapsed": true
   },
   "outputs": [],
   "source": []
  }
 ],
 "metadata": {
  "kernelspec": {
   "display_name": "Python 3",
   "language": "python",
   "name": "python3"
  },
  "language_info": {
   "codemirror_mode": {
    "name": "ipython",
    "version": 3
   },
   "file_extension": ".py",
   "mimetype": "text/x-python",
   "name": "python",
   "nbconvert_exporter": "python",
   "pygments_lexer": "ipython3"
  }
 },
 "nbformat": 4,
 "nbformat_minor": 0
}
