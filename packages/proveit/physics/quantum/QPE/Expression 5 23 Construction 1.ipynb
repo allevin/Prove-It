{
 "cells": [
  {
   "cell_type": "code",
   "execution_count": 1,
   "metadata": {
    "collapsed": false
   },
   "outputs": [
    {
     "name": "stdout",
     "output_type": "stream",
     "text": [
      "proveit.basiclogic\n",
      "basiclogic.booleans\n",
      "proveit.basiclogic\n",
      "basiclogic.sets\n",
      "proveit.basiclogic\n",
      "basiclogic.equality\n",
      "proveit.basiclogic\n",
      "basiclogic.mapping\n",
      "proveit.basiclogic\n",
      "basiclogic.lists\n",
      "proveit.numbers\n",
      "numbers.arithmetic\n"
     ]
    }
   ],
   "source": [
    "from qpeScratch import *"
   ]
  },
  {
   "cell_type": "code",
   "execution_count": 2,
   "metadata": {
    "collapsed": false
   },
   "outputs": [
    {
     "name": "stdout",
     "output_type": "stream",
     "text": [
      "\\frac{1}{2^{t}}\n"
     ]
    }
   ],
   "source": [
    "print(Fraction(one,Exponentiate(two,t)).formatted(LATEX))"
   ]
  },
  {
   "cell_type": "code",
   "execution_count": 3,
   "metadata": {
    "collapsed": true
   },
   "outputs": [],
   "source": [
    "prefactor = Fraction(one,Exponentiate(two,t))"
   ]
  },
  {
   "cell_type": "code",
   "execution_count": 4,
   "metadata": {
    "collapsed": false
   },
   "outputs": [],
   "source": [
    "exp1Arg = Fraction(Multiply(minusTwo,pi,i,k,l),Exponentiate(two,t))"
   ]
  },
  {
   "cell_type": "code",
   "execution_count": 5,
   "metadata": {
    "collapsed": false
   },
   "outputs": [
    {
     "data": {
      "text/plain": [
       "'\\\\frac{(-2 \\\\cdot \\\\pi \\\\cdot i \\\\cdot k \\\\cdot l)}{2^{t}}'"
      ]
     },
     "execution_count": 5,
     "metadata": {},
     "output_type": "execute_result"
    }
   ],
   "source": [
    "exp1Arg.formatted(LATEX)"
   ]
  },
  {
   "cell_type": "markdown",
   "metadata": {},
   "source": [
    "$$\\mathcal{H}$$"
   ]
  },
  {
   "cell_type": "code",
   "execution_count": 6,
   "metadata": {
    "collapsed": true
   },
   "outputs": [],
   "source": [
    "exp2Arg = Multiply(two,pi,i,phi,k)"
   ]
  },
  {
   "cell_type": "code",
   "execution_count": 7,
   "metadata": {
    "collapsed": false
   },
   "outputs": [],
   "source": [
    "summand = Multiply(Exponentiate(e,exp1Arg),Exponentiate(e,exp2Arg),Ket(l))"
   ]
  },
  {
   "cell_type": "code",
   "execution_count": 8,
   "metadata": {
    "collapsed": false
   },
   "outputs": [
    {
     "data": {
      "text/plain": [
       "\\basiclogic.sets.IN(\\k,\\numbers.arithmetic.DISCRETECONTIGUOUSSET(\\numbers.arithmetic.0,\\numbers.arithmetic.SUBTRACT(\\numbers.arithmetic.EXPONENTIATE(\\numbers.arithmetic.2,\\t),\\numbers.arithmetic.1)))"
      ]
     },
     "execution_count": 8,
     "metadata": {},
     "output_type": "execute_result"
    }
   ],
   "source": [
    "In(k,DiscreteContiguousSet(zero,Subtract(Exponentiate(two,t),one)))"
   ]
  },
  {
   "cell_type": "code",
   "execution_count": 9,
   "metadata": {
    "collapsed": false
   },
   "outputs": [
    {
     "data": {
      "text/plain": [
       "'\\\\forall_{m \\\\in \\\\mathbb{Z}^+, n \\\\in \\\\mathbb{Z}^+, t \\\\in \\\\mathbb{Z}^+} tFunc(n,\\\\varepsilon)'"
      ]
     },
     "execution_count": 9,
     "metadata": {},
     "output_type": "execute_result"
    }
   ],
   "source": [
    "Forall([m,n,t],tFunc_n_eps,[In(m,Zp),In(n,Zp),In(t,Zp)]).formatted(LATEX)"
   ]
  },
  {
   "cell_type": "code",
   "execution_count": 10,
   "metadata": {
    "collapsed": false
   },
   "outputs": [],
   "source": [
    "fullExp = Multiply(prefactor,Summation(\n",
    "        [k,l],summand,\n",
    "        [In(k,DiscreteContiguousSet(zero,Subtract(Exponentiate(two,t),one))),\n",
    "         In(l,DiscreteContiguousSet(zero,Subtract(Exponentiate(two,t),one)))]))"
   ]
  },
  {
   "cell_type": "code",
   "execution_count": 11,
   "metadata": {
    "collapsed": false
   },
   "outputs": [
    {
     "name": "stdout",
     "output_type": "stream",
     "text": [
      "\\frac{1}{2^{t}} \\cdot [\\sum_{k \\in \\{0\\ldots(2^{t} - 1)\\}, l \\in \\{0\\ldots(2^{t} - 1)\\}} e^{\\frac{(-2 \\cdot \\pi \\cdot i \\cdot k \\cdot l)}{2^{t}}} \\cdot e^{(2 \\cdot \\pi \\cdot i \\cdot \\phi \\cdot k)} \\cdot |l\\rangle]\n"
     ]
    }
   ],
   "source": [
    "print(fullExp.formatted(LATEX))"
   ]
  },
  {
   "cell_type": "markdown",
   "metadata": {},
   "source": [
    "$$\n",
    "\\frac{1}{2^{t}} \\cdot [\\sum_{k \\in \\{0\\ldots(2^{t} - 1)\\}, l \\in \\{0\\ldots(2^{t} - 1)\\}} e^{\\frac{(-2 \\cdot \\pi \\cdot i \\cdot k \\cdot l)}{2^{t}}} \\cdot e^{(2 \\cdot \\pi \\cdot i \\cdot \\phi \\cdot k)} \\cdot |l\\rangle]\n",
    "$$"
   ]
  },
  {
   "cell_type": "code",
   "execution_count": 22,
   "metadata": {
    "collapsed": false
   },
   "outputs": [
    {
     "data": {
      "text/plain": [
       "'{0\\\\ldots2}'"
      ]
     },
     "execution_count": 22,
     "metadata": {},
     "output_type": "execute_result"
    }
   ],
   "source": [
    "DiscreteContiguousSet(zero,two).formatted(LATEX)"
   ]
  },
  {
   "cell_type": "code",
   "execution_count": 25,
   "metadata": {
    "collapsed": false
   },
   "outputs": [
    {
     "name": "stdout",
     "output_type": "stream",
     "text": [
      "\\l\n"
     ]
    }
   ],
   "source": [
    "print('\\l')"
   ]
  },
  {
   "cell_type": "code",
   "execution_count": 12,
   "metadata": {
    "collapsed": false
   },
   "outputs": [
    {
     "data": {
      "text/plain": [
       "{'0': \\numbers.arithmetic.0,\n",
       " '1': \\numbers.arithmetic.1,\n",
       " '2': \\numbers.arithmetic.2,\n",
       " 'ABS': \\numbers.arithmetic.ABS,\n",
       " 'ADD': \\numbers.arithmetic.ADD,\n",
       " 'DISCRETECONTIGUOUSSET': \\numbers.arithmetic.DISCRETECONTIGUOUSSET,\n",
       " 'DIVIDE': \\numbers.arithmetic.DIVIDE,\n",
       " 'EXPONENTIATE': \\numbers.arithmetic.EXPONENTIATE,\n",
       " 'FRACTION': \\numbers.arithmetic.FRACTION,\n",
       " 'GREATERTHANEQUALS': \\numbers.arithmetic.GREATERTHANEQUALS,\n",
       " 'H': \\numbers.arithmetic.H,\n",
       " 'KET': \\numbers.arithmetic.KET,\n",
       " 'LESSTHANEQUALS': \\numbers.arithmetic.LESSTHANEQUALS,\n",
       " 'MULTIPY': \\numbers.arithmetic.MULTIPY,\n",
       " 'PR': \\numbers.arithmetic.PR,\n",
       " 'PRODUCT': \\numbers.arithmetic.PRODUCT,\n",
       " 'QPE': \\numbers.arithmetic.QPE,\n",
       " 'SUBTRACT': \\numbers.arithmetic.SUBTRACT,\n",
       " 'SUMMATION': \\numbers.arithmetic.SUMMATION,\n",
       " 'Z^+': \\numbers.arithmetic.Z^+,\n",
       " 'e': \\numbers.arithmetic.e,\n",
       " 'i': \\numbers.arithmetic.i,\n",
       " 'minusOne': \\numbers.arithmetic.minusOne,\n",
       " 'minusTwo': \\numbers.arithmetic.minusTwo,\n",
       " 'tFunc': \\numbers.arithmetic.tFunc,\n",
       " 'zeroToOne': \\numbers.arithmetic.zeroToOne}"
      ]
     },
     "execution_count": 12,
     "metadata": {},
     "output_type": "execute_result"
    }
   ],
   "source": [
    "literals"
   ]
  },
  {
   "cell_type": "code",
   "execution_count": null,
   "metadata": {
    "collapsed": true
   },
   "outputs": [],
   "source": []
  }
 ],
 "metadata": {
  "kernelspec": {
   "display_name": "Python 3",
   "language": "python",
   "name": "python3"
  },
  "language_info": {
   "codemirror_mode": {
    "name": "ipython",
    "version": 3
   },
   "file_extension": ".py",
   "mimetype": "text/x-python",
   "name": "python",
   "nbconvert_exporter": "python",
   "pygments_lexer": "ipython3"
  }
 },
 "nbformat": 4,
 "nbformat_minor": 0
}
