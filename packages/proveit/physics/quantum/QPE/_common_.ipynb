{
 "cells": [
  {
   "cell_type": "markdown",
   "metadata": {},
   "source": [
    "Common expressions for context <a class=\"ProveItLink\" href=\"_context_.ipynb\">proveit.physics.quantum.QPE</a>\n",
    "========"
   ]
  },
  {
   "cell_type": "code",
   "execution_count": null,
   "metadata": {},
   "outputs": [],
   "source": [
    "import proveit\n",
    "from proveit import Literal, Indexed\n",
    "from proveit._common_ import k\n",
    "from proveit.physics.quantum.QPE.phaseEstOps import SubIndexed\n",
    "# the context is in the current directory:\n",
    "context = proveit.Context('.') # adds context root to sys.path if necessary"
   ]
  },
  {
   "cell_type": "code",
   "execution_count": null,
   "metadata": {},
   "outputs": [],
   "source": [
    "%begin common"
   ]
  },
  {
   "cell_type": "code",
   "execution_count": null,
   "metadata": {},
   "outputs": [],
   "source": [
    "# U: Unitary operator to apply quantum phase estimation.\n",
    "U_ = Literal('U')"
   ]
  },
  {
   "cell_type": "code",
   "execution_count": null,
   "metadata": {},
   "outputs": [],
   "source": [
    "# n: Number of qubits which U acts on.\n",
    "n_ = Literal('n')"
   ]
  },
  {
   "cell_type": "code",
   "execution_count": null,
   "metadata": {},
   "outputs": [],
   "source": [
    "# u: Eigenvector of U to apply the quantum phase estimation.\n",
    "u_ = Literal('u')"
   ]
  },
  {
   "cell_type": "code",
   "execution_count": null,
   "metadata": {},
   "outputs": [],
   "source": [
    "# phase: Eigenvalue phase of u w.r.t. U.  U u = e^{i \\varphi} u.\n",
    "#        This \\varphi is the phase that is the objective of phase estimation.\n",
    "phase_ = Literal('phase', latexFormat=r'\\varphi')"
   ]
  },
  {
   "cell_type": "code",
   "execution_count": null,
   "metadata": {},
   "outputs": [],
   "source": [
    "# t: Number of qubit registers for the quantum phase estimation.\n",
    "#    We prove that this is the bits of precision of phase estimation.\n",
    "t_ = Literal('t')"
   ]
  },
  {
   "cell_type": "code",
   "execution_count": null,
   "metadata": {},
   "outputs": [],
   "source": [
    "# Psi: Outcome of register qubits following the quantum phase estimation circuit.\n",
    "Psi_ = Literal('Psi', latexFormat=r'\\Psi')"
   ]
  },
  {
   "cell_type": "code",
   "execution_count": null,
   "metadata": {},
   "outputs": [],
   "source": [
    "# psi: indexed intermediate output registers inside the quantum phase estimation circuit.\n",
    "psi_ = Literal('psi', latexFormat=r'\\psi')"
   ]
  },
  {
   "cell_type": "code",
   "execution_count": null,
   "metadata": {},
   "outputs": [],
   "source": [
    "# psi_k = SubIndexed(psi_, k)\n",
    "psi_k = SubIndexed(psi_, k)"
   ]
  },
  {
   "cell_type": "code",
   "execution_count": null,
   "metadata": {},
   "outputs": [],
   "source": [
    "# psi_t = SubIndexed(psi_, t_)\n",
    "# psi_next = SubIndexed(psi_, Add(k, one))\n",
    "# psi_1 = SubIndexed(psi_, one)"
   ]
  },
  {
   "cell_type": "code",
   "execution_count": null,
   "metadata": {},
   "outputs": [],
   "source": [
    "%end common"
   ]
  }
 ],
 "metadata": {
  "kernelspec": {
   "display_name": "Python 3",
   "language": "python",
   "name": "python3"
  }
 },
 "nbformat": 4,
 "nbformat_minor": 0
}
