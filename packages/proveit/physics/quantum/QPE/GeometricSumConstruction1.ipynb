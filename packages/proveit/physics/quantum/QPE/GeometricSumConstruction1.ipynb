{
 "cells": [
  {
   "cell_type": "code",
   "execution_count": 1,
   "metadata": {
    "collapsed": false,
    "scrolled": false
   },
   "outputs": [
    {
     "name": "stdout",
     "output_type": "stream",
     "text": [
      "proveit.basiclogic\n",
      "basiclogic.booleans\n",
      "proveit.basiclogic\n",
      "basiclogic.sets\n",
      "proveit.basiclogic\n",
      "basiclogic.equality\n",
      "proveit.basiclogic\n",
      "basiclogic.mapping\n",
      "proveit.basiclogic\n",
      "basiclogic.lists\n",
      "proveit.numbers\n",
      "numbers.arithmetic\n"
     ]
    }
   ],
   "source": [
    "from qpeScratch import *"
   ]
  },
  {
   "cell_type": "code",
   "execution_count": 2,
   "metadata": {
    "collapsed": false
   },
   "outputs": [],
   "source": [
    "r = Variable('r')"
   ]
  },
  {
   "cell_type": "code",
   "execution_count": 3,
   "metadata": {
    "collapsed": false
   },
   "outputs": [
    {
     "name": "stdout",
     "output_type": "stream",
     "text": [
      "\\sum_{r \\in \\{m\\ldots n\\}} r^{m}\n"
     ]
    }
   ],
   "source": [
    "print(Summation(r,Exponentiate(r,m),In(r,DiscreteContiguousSet(m,n))).formatted(LATEX))"
   ]
  },
  {
   "cell_type": "markdown",
   "metadata": {},
   "source": [
    "$$\n",
    "\\sum_{r \\in \\{m\\ldots n\\}} r^{m}\n",
    "$$"
   ]
  },
  {
   "cell_type": "code",
   "execution_count": 4,
   "metadata": {
    "collapsed": false
   },
   "outputs": [
    {
     "name": "stdout",
     "output_type": "stream",
     "text": [
      "[\\sum_{r \\in \\{m\\ldots n\\}} r^{m}] = \\frac{(r^{(n + 1)} - r^{m})}{(r - 1)}\n"
     ]
    }
   ],
   "source": [
    "print(Equals(Summation(r,Exponentiate(r,m),In(r,DiscreteContiguousSet(m,n))), \n",
    "             Fraction(Subtract(Exponentiate(r,Add(n,one)),Exponentiate(r,m)),Subtract(r,one))).formatted(LATEX))"
   ]
  },
  {
   "cell_type": "markdown",
   "metadata": {},
   "source": [
    "$$\n",
    "[\\sum_{r \\in \\{m\\ldots n\\}} r^{m}] = \\frac{(r^{(n + 1)} - r^{m})}{(r - 1)}\n",
    "$$"
   ]
  },
  {
   "cell_type": "code",
   "execution_count": 5,
   "metadata": {
    "collapsed": true
   },
   "outputs": [],
   "source": [
    "finiteGeomSumId = Equals(Summation(r,Exponentiate(r,m),In(r,DiscreteContiguousSet(m,n))), \n",
    "             Fraction(Subtract(Exponentiate(r,Add(n,one)),Exponentiate(r,m)),Subtract(r,one)))"
   ]
  },
  {
   "cell_type": "code",
   "execution_count": 6,
   "metadata": {
    "collapsed": false
   },
   "outputs": [
    {
     "name": "stdout",
     "output_type": "stream",
     "text": [
      "\\forall_{m \\in \\mathbb{Z}, n \\in \\mathbb{Z}, r \\in \\mathbb{R}, m < n} [\\sum_{r \\in \\{m\\ldots n\\}} r^{m}] = \\frac{(r^{(n + 1)} - r^{m})}{(r - 1)}\n"
     ]
    }
   ],
   "source": [
    "print(Forall([r,m,n],finiteGeomSumId,\n",
    "             [In(m,Z),\n",
    "              In(n,Z),\n",
    "              In(r,R),\n",
    "              LessThan(m,n)]).formatted(LATEX))"
   ]
  },
  {
   "cell_type": "markdown",
   "metadata": {},
   "source": [
    "$$\n",
    "\\forall_{m \\in \\mathbb{Z}, n \\in \\mathbb{Z}, r \\in \\mathbb{R}, m < n} [\\sum_{r \\in \\{m\\ldots n\\}} r^{m}] = \\frac{(r^{(n + 1)} - r^{m})}{(r - 1)}\n",
    "$$"
   ]
  },
  {
   "cell_type": "code",
   "execution_count": 7,
   "metadata": {
    "collapsed": false
   },
   "outputs": [],
   "source": [
    "infGeomSumId = Equals(Summation(r,Exponentiate(r,m),In(r,DiscreteContiguousSet(zero,infinity))), \n",
    "             Fraction(one,Subtract(one,r)))"
   ]
  },
  {
   "cell_type": "code",
   "execution_count": 8,
   "metadata": {
    "collapsed": false
   },
   "outputs": [
    {
     "name": "stdout",
     "output_type": "stream",
     "text": [
      "\\forall_{r \\in \\mathbb{R}} [\\sum_{r \\in \\{0\\ldots \\infty\\}} r^{m}] = \\frac{1}{(1 - r)}\n"
     ]
    }
   ],
   "source": [
    "print(Forall(r,infGeomSumId,\n",
    "              In(r,R),\n",
    "              ).formatted(LATEX))"
   ]
  },
  {
   "cell_type": "markdown",
   "metadata": {},
   "source": [
    "$$\n",
    "\\forall_{r \\in \\mathbb{R}} [\\sum_{r \\in \\{0\\ldots \\infty\\}} r^{m}] = \\frac{1}{(1 - r)}\n",
    "$$"
   ]
  },
  {
   "cell_type": "code",
   "execution_count": 9,
   "metadata": {
    "collapsed": false
   },
   "outputs": [
    {
     "name": "stdout",
     "output_type": "stream",
     "text": [
      "\\forall_{r \\in \\mathbb{R}} [\\sum_{r \\in \\{0\\ldots \\infty\\}} r^{m}] = \\frac{1}{(1 - r)}\n"
     ]
    }
   ],
   "source": [
    "print(Forall(r,Equals(Summation(r,Exponentiate(r,m),In(r,DiscreteContiguousSet(zero,infinity))), \n",
    "             Fraction(one,Subtract(one,r))),\n",
    "              In(r,R),\n",
    "              ).formatted(LATEX))"
   ]
  },
  {
   "cell_type": "markdown",
   "metadata": {},
   "source": [
    "$$\n",
    "\\forall_{r \\in \\mathbb{R}} [\\sum_{r \\in \\{0\\ldots \\infty\\}} r^{m}] = \\frac{1}{(1 - r)}\n",
    "$$"
   ]
  },
  {
   "cell_type": "code",
   "execution_count": 12,
   "metadata": {
    "collapsed": false
   },
   "outputs": [
    {
     "name": "stdout",
     "output_type": "stream",
     "text": [
      "\\forall_{m \\in \\mathbb{Z}, n \\in \\mathbb{Z}, r \\in \\mathbb{R}, m < n} [\\sum_{r \\in \\{m\\ldots n\\}} r^{m}] = \\frac{(r^{(n + 1)} - r^{m})}{(r - 1)}\n"
     ]
    }
   ],
   "source": [
    "print(Forall([r,m,n],Equals(Summation(r,Exponentiate(r,m),In(r,DiscreteContiguousSet(m,n))), \n",
    "             Fraction(Subtract(Exponentiate(r,Add(n,one)),Exponentiate(r,m)),Subtract(r,one))),\n",
    "             [In(m,Z),\n",
    "              In(n,Z),\n",
    "              In(r,R),\n",
    "              LessThan(m,n)]).formatted(LATEX))"
   ]
  },
  {
   "cell_type": "markdown",
   "metadata": {},
   "source": [
    "$$\n",
    "\\forall_{m \\in \\mathbb{Z}, n \\in \\mathbb{Z}, r \\in \\mathbb{R}, m < n} [\\sum_{r \\in \\{m\\ldots n\\}} r^{m}] = \\frac{(r^{(n + 1)} - r^{m})}{(r - 1)}\n",
    "$$"
   ]
  },
  {
   "cell_type": "code",
   "execution_count": 14,
   "metadata": {
    "collapsed": false
   },
   "outputs": [],
   "source": [
    "def f():\n",
    "    x = 10\n",
    "    return locals()"
   ]
  },
  {
   "cell_type": "code",
   "execution_count": 16,
   "metadata": {
    "collapsed": false
   },
   "outputs": [
    {
     "data": {
      "text/plain": [
       "{'x': 10}"
      ]
     },
     "execution_count": 16,
     "metadata": {},
     "output_type": "execute_result"
    }
   ],
   "source": [
    "f()"
   ]
  },
  {
   "cell_type": "code",
   "execution_count": null,
   "metadata": {
    "collapsed": true
   },
   "outputs": [],
   "source": []
  }
 ],
 "metadata": {
  "kernelspec": {
   "display_name": "Python 3",
   "language": "python",
   "name": "python3"
  },
  "language_info": {
   "codemirror_mode": {
    "name": "ipython",
    "version": 3
   },
   "file_extension": ".py",
   "mimetype": "text/x-python",
   "name": "python",
   "nbconvert_exporter": "python",
   "pygments_lexer": "ipython3"
  }
 },
 "nbformat": 4,
 "nbformat_minor": 0
}
