{
 "cells": [
  {
   "cell_type": "code",
   "execution_count": null,
   "metadata": {},
   "outputs": [],
   "source": [
    "pwd"
   ]
  },
  {
   "cell_type": "code",
   "execution_count": null,
   "metadata": {},
   "outputs": [],
   "source": [
    "import sys\n",
    "sys.path.append('../numbers/')\n",
    "from integers import *"
   ]
  },
  {
   "cell_type": "code",
   "execution_count": null,
   "metadata": {},
   "outputs": [],
   "source": [
    "cd ../numbers/"
   ]
  },
  {
   "cell_type": "code",
   "execution_count": null,
   "metadata": {},
   "outputs": [],
   "source": [
    "from integers import *"
   ]
  },
  {
   "cell_type": "code",
   "execution_count": null,
   "metadata": {},
   "outputs": [],
   "source": [
    "from proveit.numbers import *"
   ]
  },
  {
   "cell_type": "code",
   "execution_count": null,
   "metadata": {},
   "outputs": [],
   "source": [
    "from proveit.context import Context"
   ]
  },
  {
   "cell_type": "code",
   "execution_count": null,
   "metadata": {},
   "outputs": [],
   "source": [
    "integers = Context('INTEGERS')\n",
    "\n",
    "INTEGERS = integers.addLiteral('INTEGERS', {MATHML:'<mstyle mathvariant=\"bold-double-struck\"><mtext>&#x2124;</mtext><mspace/></mstyle>'})\n",
    "NATURALS = integers.addLiteral('NATURALS', {MATHML:'<mstyle mathvariant=\"bold-double-struck\"><mtext>&#x2115;</mtext><mspace/></mstyle>'})\n",
    "NON_NEGATIVES = integers.addLiteral('NON_NEGATIVES')\n",
    "RECURSIVE_BINARY_OP = integers.addLiteral('RECURSIVE_BINARY_OP')\n",
    "RECURSIVE_OP_OVER_INSTANCES = integers.addLiteral('RECURSIVE_OP_OVER_INSTANCES')\n",
    "ZERO = integers.addLiteral('0')\n",
    "ONE = integers.addLiteral('1')\n",
    "TWO = integers.addLiteral('2')\n",
    "THREE = integers.addLiteral('3')\n",
    "FOUR = integers.addLiteral('4')\n",
    "FIVE = integers.addLiteral('5')\n",
    "SIX = integers.addLiteral('6')\n",
    "SEVEN = integers.addLiteral('7')\n",
    "EIGHT = integers.addLiteral('8')\n",
    "NINE = integers.addLiteral('9')\n",
    "TEN = integers.addLiteral('0xa')\n",
    "ELEVEN = integers.addLiteral('0xb')\n",
    "TWELVE = integers.addLiteral('0xc')\n",
    "THIRTEEN = integers.addLiteral('0xd')\n",
    "FOURTEEN = integers.addLiteral('0xe')\n",
    "FIFTEEN = integers.addLiteral('0xf')\n",
    "SIXTEEN = integers.addLiteral('0x10')\n",
    "\n",
    "INFINITY = integers.addLiteral('INFINITY')\n",
    "\n",
    "ADD = integers.addLiteral('ADD')\n",
    "SUBTRACT = integers.addLiteral('SUBTRACT')\n",
    "MULT = integers.addLiteral('MULT')\n",
    "NEGATE = integers.addLiteral('NEGATE')\n",
    "LESSER_EQ = integers.addLiteral('LESSER_EQ')\n",
    "GREATER_EQ = integers.addLiteral('GREATER_EQ')\n",
    "DIVIDES = integers.addLiteral('DIVIDES')\n",
    "GCD = integers.addLiteral('GCD')\n",
    "LCM = integers.addLiteral('LCM')\n",
    "\n",
    "RANGE = integers.addLiteral('RANGE')"
   ]
  },
  {
   "cell_type": "code",
   "execution_count": null,
   "metadata": {},
   "outputs": [],
   "source": [
    "from proveit.basiclogic import *\n",
    "from proveit.numbers import *"
   ]
  },
  {
   "cell_type": "code",
   "execution_count": null,
   "metadata": {},
   "outputs": [],
   "source": [
    "literals = Literals()\n"
   ]
  },
  {
   "cell_type": "code",
   "execution_count": null,
   "metadata": {},
   "outputs": [],
   "source": [
    "one = literals.add('1')"
   ]
  },
  {
   "cell_type": "code",
   "execution_count": null,
   "metadata": {},
   "outputs": [],
   "source": [
    "one"
   ]
  },
  {
   "cell_type": "code",
   "execution_count": null,
   "metadata": {},
   "outputs": [],
   "source": [
    "Multiply(one,one)"
   ]
  },
  {
   "cell_type": "code",
   "execution_count": null,
   "metadata": {},
   "outputs": [],
   "source": [
    "ketu = literals.add('u',{LATEX:r'|u\\rangle'})"
   ]
  },
  {
   "cell_type": "code",
   "execution_count": null,
   "metadata": {},
   "outputs": [],
   "source": [
    "print(ketu.formatted(LATEX))"
   ]
  },
  {
   "cell_type": "code",
   "execution_count": null,
   "metadata": {},
   "outputs": [],
   "source": [
    "tFunc1 = literals.add('tFunc1')\n",
    "n = Variable('n')\n",
    "eps = Variable('eps',{LATEX:r'\\epsilon'})\n",
    "tFunc1_n_eps = Operation(tFunc1, (n, eps))"
   ]
  },
  {
   "cell_type": "code",
   "execution_count": null,
   "metadata": {},
   "outputs": [],
   "source": [
    "print(tFunc1_n_eps.formatted(LATEX))"
   ]
  },
  {
   "cell_type": "code",
   "execution_count": null,
   "metadata": {},
   "outputs": [],
   "source": []
  }
 ],
 "metadata": {
  "kernelspec": {
   "display_name": "Python 3",
   "language": "python",
   "name": "python3"
  }
 },
 "nbformat": 4,
 "nbformat_minor": 0
}
