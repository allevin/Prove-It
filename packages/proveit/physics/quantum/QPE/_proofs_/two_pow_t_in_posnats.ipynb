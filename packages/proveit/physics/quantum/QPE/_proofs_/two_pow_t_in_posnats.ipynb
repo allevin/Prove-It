{
 "cells": [
  {
   "cell_type": "markdown",
   "metadata": {},
   "source": [
    "Proof of <a class=\"ProveItLink\" href=\"../../../../_context_.ipynb\">proveit</a>.<a class=\"ProveItLink\" href=\"../../../_context_.ipynb\">physics</a>.<a class=\"ProveItLink\" href=\"../../_context_.ipynb\">quantum</a>.<a class=\"ProveItLink\" href=\"../_context_.ipynb\">QPE</a>.<a class=\"ProveItLink\" href=\"../_theorems_.ipynb#two_pow_t_in_posnats\">two_pow_t_in_posnats</a> theorem\n",
    "========"
   ]
  },
  {
   "cell_type": "code",
   "execution_count": null,
   "metadata": {},
   "outputs": [],
   "source": [
    "import proveit\n",
    "from proveit._common_ import a, b, n, x\n",
    "from proveit.logic import InSet\n",
    "from proveit.number.numeral._common_ import one, two\n",
    "from proveit.number import Exp, Naturals, NaturalsPos, Reals\n",
    "from proveit.number.exponentiation._theorems_ import expNatClosure\n",
    "from proveit.number.multiplication._theorems_ import multNatPosClosureBin\n",
    "from proveit.number.numeral.deci._theorems_ import nat2, posnat2\n",
    "from proveit.number.sets.integer._theorems_ import natsPosInNaturals\n",
    "from proveit.physics.quantum.QPE._common_ import t_, two_pow_t\n",
    "from proveit.physics.quantum.QPE._axioms_ import tInNaturalsPos\n",
    "context = proveit.Context('..') # the theorem's context is in the parent directory"
   ]
  },
  {
   "cell_type": "code",
   "execution_count": null,
   "metadata": {},
   "outputs": [],
   "source": [
    "%proving two_pow_t_in_posnats presuming [proveit.logic, proveit.number.exponentiation, proveit.number.sets.integer, proveit.number.numeral.deci]"
   ]
  },
  {
   "cell_type": "markdown",
   "metadata": {},
   "source": [
    "Let P(t) be the assertion that $2^t \\in \\mathbb{N}^{+}$."
   ]
  },
  {
   "cell_type": "code",
   "execution_count": null,
   "metadata": {},
   "outputs": [],
   "source": [
    "tInNaturalsPos"
   ]
  },
  {
   "cell_type": "code",
   "execution_count": null,
   "metadata": {},
   "outputs": [],
   "source": [
    "tInNaturals = InSet(t_, Naturals)"
   ]
  },
  {
   "cell_type": "code",
   "execution_count": null,
   "metadata": {},
   "outputs": [],
   "source": [
    "natsPosInNaturals"
   ]
  },
  {
   "cell_type": "code",
   "execution_count": null,
   "metadata": {},
   "outputs": [],
   "source": [
    "natsPosInNaturalsSpec = natsPosInNaturals.specialize({a:t_})"
   ]
  },
  {
   "cell_type": "code",
   "execution_count": null,
   "metadata": {},
   "outputs": [],
   "source": [
    "expNatClosure"
   ]
  },
  {
   "cell_type": "code",
   "execution_count": null,
   "metadata": {},
   "outputs": [],
   "source": [
    "expNatClosureSpec = expNatClosure.specialize({a:two, b:t_})"
   ]
  },
  {
   "cell_type": "code",
   "execution_count": null,
   "metadata": {},
   "outputs": [],
   "source": [
    "%qed"
   ]
  },
  {
   "cell_type": "code",
   "execution_count": null,
   "metadata": {},
   "outputs": [],
   "source": []
  }
 ],
 "metadata": {
  "kernelspec": {
   "display_name": "Python 3",
   "language": "python",
   "name": "python3"
  }
 },
 "nbformat": 4,
 "nbformat_minor": 0
}
