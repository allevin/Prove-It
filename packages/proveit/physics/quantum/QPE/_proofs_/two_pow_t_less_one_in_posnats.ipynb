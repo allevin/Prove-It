{
 "cells": [
  {
   "cell_type": "markdown",
   "metadata": {},
   "source": [
    "Proof of <a class=\"ProveItLink\" href=\"../../../../_context_.ipynb\">proveit</a>.<a class=\"ProveItLink\" href=\"../../../_context_.ipynb\">physics</a>.<a class=\"ProveItLink\" href=\"../../_context_.ipynb\">quantum</a>.<a class=\"ProveItLink\" href=\"../_context_.ipynb\">QPE</a>.<a class=\"ProveItLink\" href=\"../_theorems_.ipynb#two_pow_t_less_one_in_posnats\">two_pow_t_less_one_in_posnats</a> theorem\n",
    "========"
   ]
  },
  {
   "cell_type": "code",
   "execution_count": null,
   "metadata": {},
   "outputs": [],
   "source": [
    "import proveit\n",
    "from proveit._common_ import a, b, n\n",
    "from proveit.logic import InSet\n",
    "from proveit.number import one, two, subtract, Exp, Greater, Integers, NaturalsPos\n",
    "# from proveit.number.numeral.deci._theorems_ import posnat1\n",
    "from proveit.number.exponentiation._theorems_ import natPosToNatPosLowerBound\n",
    "# from proveit.number.sets.integer._theorems_ import natsPosInIntegers, natsPosInNaturals, naturalsPosLowerBound\n",
    "from proveit.number.sets.integer._theorems_ import naturalsPosLowerBound\n",
    "from proveit.physics.quantum.QPE._common_ import t_, two_pow_t\n",
    "from proveit.physics.quantum.QPE._axioms_ import tInNaturalsPos\n",
    "context = proveit.Context('..') # the theorem's context is in the parent directory"
   ]
  },
  {
   "cell_type": "code",
   "execution_count": null,
   "metadata": {},
   "outputs": [],
   "source": [
    "%proving two_pow_t_less_one_in_posnats presuming [proveit.number, proveit.logic]"
   ]
  },
  {
   "cell_type": "code",
   "execution_count": null,
   "metadata": {},
   "outputs": [],
   "source": [
    "# Recall that t (represented by the Literal t_)\n",
    "# denotes the number of Qbits in the input register.\n",
    "# Considered an axiom that t is a positive natural number\n",
    "tInNaturalsPos"
   ]
  },
  {
   "cell_type": "code",
   "execution_count": null,
   "metadata": {},
   "outputs": [],
   "source": [
    "two_pow_t_less_one = two_pow_t_less_one_in_posnats.operands[0]"
   ]
  },
  {
   "cell_type": "code",
   "execution_count": null,
   "metadata": {},
   "outputs": [],
   "source": [
    "natPosToNatPosLowerBound"
   ]
  },
  {
   "cell_type": "code",
   "execution_count": null,
   "metadata": {},
   "outputs": [],
   "source": [
    "two_pow_t_ge_two = natPosToNatPosLowerBound.specialize({a:two, b:t_})"
   ]
  },
  {
   "cell_type": "code",
   "execution_count": null,
   "metadata": {},
   "outputs": [],
   "source": [
    "two_pow_t_ge_one = naturalsPosLowerBound.specialize({n:two_pow_t})"
   ]
  },
  {
   "cell_type": "code",
   "execution_count": null,
   "metadata": {},
   "outputs": [],
   "source": [
    "two_pow_t_less_one_in_NaturalsPos = two_pow_t_less_one.deduceDifferenceInNaturalsPos()"
   ]
  },
  {
   "cell_type": "code",
   "execution_count": null,
   "metadata": {},
   "outputs": [],
   "source": [
    "%qed"
   ]
  },
  {
   "cell_type": "code",
   "execution_count": null,
   "metadata": {},
   "outputs": [],
   "source": []
  }
 ],
 "metadata": {
  "kernelspec": {
   "display_name": "Python 3",
   "language": "python",
   "name": "python3"
  }
 },
 "nbformat": 4,
 "nbformat_minor": 0
}
