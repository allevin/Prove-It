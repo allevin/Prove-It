{
 "cells": [
  {
   "cell_type": "markdown",
   "metadata": {},
   "source": [
    "Axioms for context <a class=\"ProveItLink\" href=\"_context_.ipynb\">proveit.physics.quantum.QPE</a>\n",
    "========"
   ]
  },
  {
   "cell_type": "code",
   "execution_count": null,
   "metadata": {},
   "outputs": [],
   "source": [
    "import proveit\n",
    "from proveit._common_ import k, A, B, C\n",
    "from proveit.linalg import MatrixProd, ScalarProd, TensorExp #SU, TensorProd, \n",
    "from proveit.logic import Equals, Forall, InSet\n",
    "from proveit.number import zero, one, two, e, i, pi, Exp, Mult, NaturalsPos, IntervalCO\n",
    "from proveit.number import Complexes, num # delete later after testing\n",
    "from proveit.physics.quantum import Ket, RegisterSU, QubitRegisterSpace\n",
    "# from proveit.physics.quantum._common_ import \n",
    "from proveit.physics.quantum.QPE._common_ import n_, psi_k, t_, u_, U_, phase_\n",
    "# the context is in the current directory:\n",
    "context = proveit.Context('.') # adds context root to sys.path if necessary"
   ]
  },
  {
   "cell_type": "code",
   "execution_count": null,
   "metadata": {},
   "outputs": [],
   "source": [
    "%begin axioms"
   ]
  },
  {
   "cell_type": "markdown",
   "metadata": {},
   "source": [
    "Let $U$ be a unitary operator that acts on $n$ qubits, with $\\lvert u\\rangle$ as an eigenstate of $U$ with eigenvalue $e^{2 \\pi i \\varphi}$:"
   ]
  },
  {
   "cell_type": "code",
   "execution_count": null,
   "metadata": {},
   "outputs": [],
   "source": [
    "nInNatPos = InSet(n_, NaturalsPos)"
   ]
  },
  {
   "cell_type": "code",
   "execution_count": null,
   "metadata": {},
   "outputs": [],
   "source": [
    "unitaryU = InSet(U_, RegisterSU(n_))"
   ]
  },
  {
   "cell_type": "code",
   "execution_count": null,
   "metadata": {},
   "outputs": [],
   "source": [
    "uKetRegister = InSet(Ket(u_), QubitRegisterSpace(n_))"
   ]
  },
  {
   "cell_type": "code",
   "execution_count": null,
   "metadata": {},
   "outputs": [],
   "source": [
    "phaseInInterval = InSet(phase_, IntervalCO(zero, one))"
   ]
  },
  {
   "cell_type": "code",
   "execution_count": null,
   "metadata": {},
   "outputs": [],
   "source": [
    "Ket(u_)"
   ]
  },
  {
   "cell_type": "code",
   "execution_count": null,
   "metadata": {},
   "outputs": [],
   "source": [
    "MatrixProd(A, B, C)"
   ]
  },
  {
   "cell_type": "code",
   "execution_count": null,
   "metadata": {},
   "outputs": [],
   "source": [
    "MatrixProd(U_, Ket(u_))"
   ]
  },
  {
   "cell_type": "code",
   "execution_count": null,
   "metadata": {},
   "outputs": [],
   "source": [
    "ScalarProd(Exp(e, Mult(two, pi, i, phase_)), Exp(e, Mult(two, pi, i, phase_)), Ket(u_))"
   ]
  },
  {
   "cell_type": "code",
   "execution_count": null,
   "metadata": {},
   "outputs": [],
   "source": [
    "eigenUu = Equals(MatrixProd([U_, Ket(u_)]), ScalarProd(Exp(e, Mult(two, pi, i, phase_)), Ket(u_)))"
   ]
  },
  {
   "cell_type": "code",
   "execution_count": null,
   "metadata": {},
   "outputs": [],
   "source": [
    "tInNaturalsPos = InSet(t_, NaturalsPos)"
   ]
  },
  {
   "cell_type": "code",
   "execution_count": null,
   "metadata": {},
   "outputs": [],
   "source": [
    "psiKetsInQRegSpace = Forall(k, InSet(Ket(psi_k), QubitRegisterSpace(n_)), domain=NaturalsPos)"
   ]
  },
  {
   "cell_type": "code",
   "execution_count": null,
   "metadata": {},
   "outputs": [],
   "source": []
  },
  {
   "cell_type": "code",
   "execution_count": null,
   "metadata": {},
   "outputs": [],
   "source": []
  },
  {
   "cell_type": "code",
   "execution_count": null,
   "metadata": {},
   "outputs": [],
   "source": []
  },
  {
   "cell_type": "code",
   "execution_count": null,
   "metadata": {},
   "outputs": [],
   "source": [
    "%end axioms"
   ]
  }
 ],
 "metadata": {
  "kernelspec": {
   "display_name": "Python 3",
   "language": "python",
   "name": "python3"
  }
 },
 "nbformat": 4,
 "nbformat_minor": 0
}
