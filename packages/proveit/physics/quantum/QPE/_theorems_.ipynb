{
 "cells": [
  {
   "cell_type": "markdown",
   "metadata": {},
   "source": [
    "Theorems for context <a class=\"ProveItLink\" href=\"_context_.ipynb\">proveit.physics.quantum.QPE</a>\n",
    "========"
   ]
  },
  {
   "cell_type": "code",
   "execution_count": null,
   "metadata": {},
   "outputs": [],
   "source": [
    "import proveit\n",
    "# 72 cols ==============================================================\n",
    "# from proveit import specialStatementMagic # for %begin_theorems and %end_theorems\n",
    "from proveit._common_ import a, b, k, l, t, eps\n",
    "from proveit._core_.expression import Lambda\n",
    "from proveit.logic import And, Equals, Forall, InSet, NotEquals, NotInSet\n",
    "from proveit.number import (Abs, Add, Exp, frac, Mult, Neg, Sqrt, subtract, Sum)\n",
    "# from proveit.number import Summation, DiscreteContiguousSet, Multiply, Exponentiate\n",
    "from proveit.number import Greater, GreaterEq, Less, LessEq, Mod\n",
    "# from proveit.number import GreaterThan, GreaterThanEquals, LessThan, LessThanEquals, DiscreteContiguousSet, Mod\n",
    "# from proveit.number.arithmeticOps import Integrate, IntervalCC, IntervalCO, IntervalOO\n",
    "# from proveit.statistics import Prob\n",
    "from proveit.number.numeral._common_ import (zero, one, two, three, four,\n",
    "                                             five, eight)\n",
    "from proveit.number.sets.integer._common_ import Integers, Naturals, NaturalsPos\n",
    "from proveit.number.sets.complex._common_ import i, Complexes\n",
    "from proveit.number.sets.real._common_ import e, pi, Reals\n",
    "# from proveit.number._common_ import (EvenFuncs, MonDecFuncs)\n",
    "# from proveit.linalg import MatrixProd, ScalarProd\n",
    "from proveit.physics.quantum import Bra, Ket\n",
    "# from proveit.physics.quantum import Circuit, Gate, Input, Output, MultiWire\n",
    "from proveit.physics.quantum._common_ import ket0, ket1, CTRL_DN, invRoot2\n",
    "# from proveit.physics.quantum._common_ import Hgate\n",
    "from proveit.physics.quantum.QPE._common_ import (u_, n_, t_, phase_, m_,\n",
    "        b_, delta_, two_pow_t, two_pow_t_minus_one, alpha_l, alpha_l_sqrd,\n",
    "        fullDomain, negDomain, posDomain, epsDomain, U_pow_two_pow_k)\n",
    "from proveit.physics.quantum.QPE.phaseEstOps import Psuccess, Pfail, ModAdd\n",
    "from IPython.display import display\n",
    "# the context is in the current directory:\n",
    "context = proveit.Context('.') # adds context root to sys.path if necessary"
   ]
  },
  {
   "cell_type": "code",
   "execution_count": null,
   "metadata": {},
   "outputs": [],
   "source": [
    "%begin theorems"
   ]
  },
  {
   "cell_type": "code",
   "execution_count": null,
   "metadata": {},
   "outputs": [],
   "source": [
    "modAddClosure = Forall((a, b), InSet(ModAdd(a, b), Integers), domain=Integers)"
   ]
  },
  {
   "cell_type": "code",
   "execution_count": null,
   "metadata": {},
   "outputs": [],
   "source": [
    "%end theorems"
   ]
  }
 ],
 "metadata": {
  "kernelspec": {
   "display_name": "Python 3",
   "language": "python",
   "name": "python3"
  }
 },
 "nbformat": 4,
 "nbformat_minor": 0
}
