{
 "cells": [
  {
   "cell_type": "code",
   "execution_count": null,
   "metadata": {},
   "outputs": [],
   "source": [
    "from proveit import specialStatementMagic # for %begin_theorems and %end_theorems\n",
    "from proveit.expression import Lambda\n",
    "from proveit.basiclogic import In, NotIn, Forall, Equals, NotEquals, And\n",
    "from proveit.number import Summation, DiscreteContiguousSet, Abs, Neg, Add, Subtract, Multiply, Fraction, \\\n",
    "    Exponentiate, Sqrt\n",
    "from proveit.number import GreaterThan, GreaterThanEquals, LessThan, LessThanEquals, DiscreteContiguousSet, Mod\n",
    "from proveit.number.arithmeticOps import Integrate, IntervalCC, IntervalCO, IntervalOO\n",
    "from proveit.statistics import Prob\n",
    "from proveit.common import a, b, l, t, eps, k\n",
    "from proveit.number.common import zero, one, two, three, four, five, eight, e, pi, i, Reals, Naturals, NaturalsPos, Integers, Complexes, EvenFuncs, MonDecFuncs\n",
    "from proveit.linalg import MatrixProd, ScalarProd\n",
    "from proveit.physics.quantum import Bra, Ket, Circuit, Gate, Input, Output, MultiWire\n",
    "from proveit.physics.quantum.common import ket0, ket1, Hgate, CTRL_DN, invRoot2\n",
    "from proveit.physics.quantum.QPE.common import u_, n_, t_, phase_, m_, b_, delta_, two_pow_t, two_pow_t_minus_one, \\\n",
    "  alpha_l, alpha_l_sqrd, fullDomain, negDomain, posDomain, epsDomain, U_pow_two_pow_k \n",
    "from proveit.physics.quantum.QPE.phaseEstOps import Psuccess, Pfail, ModAdd\n",
    "from IPython.display import display\n"
   ]
  },
  {
   "cell_type": "markdown",
   "metadata": {},
   "source": [
    "Convenience methods for building expressions:"
   ]
  },
  {
   "cell_type": "code",
   "execution_count": null,
   "metadata": {},
   "outputs": [],
   "source": [
    "def exp2pi_i(*exp_factors):\n",
    "    return Exponentiate(e, Multiply(*((two, pi, i) + exp_factors)))\n",
    "\n",
    "def exp2pi_i_on_two_pow_t(*exp_factors):\n",
    "    return Exponentiate(e, Fraction(Multiply(*((two, pi, i) + exp_factors)), two_pow_t))\n",
    "\n",
    "def expNeg2pi_i_on_two_pow_t(*exp_factors):\n",
    "    return Exponentiate(e, Fraction(Neg(Multiply(*((two, pi, i) + exp_factors))), two_pow_t))\n",
    "\n",
    "display(exp2pi_i(a, b))\n",
    "display(exp2pi_i_on_two_pow_t(a, b))\n",
    "display(expNeg2pi_i_on_two_pow_t(a, b))"
   ]
  },
  {
   "cell_type": "code",
   "execution_count": null,
   "metadata": {},
   "outputs": [],
   "source": [
    "%begin_theorems"
   ]
  },
  {
   "cell_type": "markdown",
   "metadata": {},
   "source": [
    "Take care of number domain issues:"
   ]
  },
  {
   "cell_type": "code",
   "execution_count": null,
   "metadata": {},
   "outputs": [],
   "source": [
    "two_pow_t_in_posnats = In(two_pow_t, NaturalsPos)\n",
    "two_pow_t_in_posnats"
   ]
  },
  {
   "cell_type": "code",
   "execution_count": null,
   "metadata": {},
   "outputs": [],
   "source": [
    "two_pow_tMinusOne_in_posnats = In(Exponentiate(two, Subtract(t_, one)), NaturalsPos)\n",
    "two_pow_tMinusOne_in_posnats"
   ]
  },
  {
   "cell_type": "code",
   "execution_count": null,
   "metadata": {},
   "outputs": [],
   "source": [
    "two_pow_t_less_one_in_posnats = In(Subtract(two_pow_t, one), NaturalsPos)\n",
    "two_pow_t_less_one_in_posnats"
   ]
  },
  {
   "cell_type": "code",
   "execution_count": null,
   "metadata": {},
   "outputs": [],
   "source": [
    "two_pow_t_not_zero = NotEquals(two_pow_t, zero)\n",
    "two_pow_t_not_zero"
   ]
  },
  {
   "cell_type": "code",
   "execution_count": null,
   "metadata": {},
   "outputs": [],
   "source": [
    "modAddClosure = Forall((a, b), In(ModAdd(a, b), Integers), domain=Integers)\n",
    "modAddClosure"
   ]
  },
  {
   "cell_type": "code",
   "execution_count": null,
   "metadata": {},
   "outputs": [],
   "source": [
    "phaseInReals = In(phase_, Reals)\n",
    "phaseInReals"
   ]
  },
  {
   "cell_type": "code",
   "execution_count": null,
   "metadata": {},
   "outputs": [],
   "source": [
    "bestInInts = In(b_, Integers)\n",
    "bestInInts"
   ]
  },
  {
   "cell_type": "code",
   "execution_count": null,
   "metadata": {},
   "outputs": [],
   "source": [
    "posDomainInFullDomain = Forall(eps, Forall(l, In(l, fullDomain), domain=posDomain), domain=NaturalsPos)\n",
    "posDomainInFullDomain"
   ]
  },
  {
   "cell_type": "code",
   "execution_count": null,
   "metadata": {},
   "outputs": [],
   "source": [
    "negDomainInFullDomain = Forall(eps, Forall(l, In(l, fullDomain), domain=negDomain), domain=NaturalsPos)\n",
    "negDomainInFullDomain"
   ]
  },
  {
   "cell_type": "markdown",
   "metadata": {},
   "source": [
    "This derives from $\\delta$ being the difference between $\\delta$ and its best $t$-bit estimate (without going over):"
   ]
  },
  {
   "cell_type": "code",
   "execution_count": null,
   "metadata": {},
   "outputs": [],
   "source": [
    "scaledDeltaInInterval = In(Multiply(two_pow_t, delta_), IntervalCO(zero, one))\n",
    "scaledDeltaInInterval"
   ]
  },
  {
   "cell_type": "code",
   "execution_count": null,
   "metadata": {},
   "outputs": [],
   "source": [
    "deltaInReals = In(delta_, Reals)\n",
    "deltaInReals"
   ]
  },
  {
   "cell_type": "code",
   "execution_count": null,
   "metadata": {},
   "outputs": [],
   "source": [
    "successProbInReals = Forall(eps, In(Psuccess(eps), Reals), domain=NaturalsPos)\n",
    "successProbInReals"
   ]
  },
  {
   "cell_type": "code",
   "execution_count": null,
   "metadata": {},
   "outputs": [],
   "source": [
    "all_alpha_l_in_complexes = Forall(l, In(alpha_l, Complexes), Integers)\n",
    "all_alpha_l_in_complexes"
   ]
  },
  {
   "cell_type": "code",
   "execution_count": null,
   "metadata": {},
   "outputs": [],
   "source": [
    "all_abs_alpha_l_nonneg = Forall(l, And(In(Abs(alpha_l), Reals), GreaterThanEquals(Abs(alpha_l), zero)), Integers)\n",
    "all_abs_alpha_l_nonneg"
   ]
  },
  {
   "cell_type": "markdown",
   "metadata": {},
   "source": [
    "Follows from scaledDeltaInInterval:"
   ]
  },
  {
   "cell_type": "code",
   "execution_count": null,
   "metadata": {},
   "outputs": [],
   "source": [
    "scaledDelta_notEq_nonzeroInt = Forall(l, NotEquals(Multiply(two_pow_t, delta_), l), domain=Integers, conditions = NotEquals(l, zero))\n",
    "scaledDelta_notEq_nonzeroInt"
   ]
  },
  {
   "cell_type": "code",
   "execution_count": null,
   "metadata": {},
   "outputs": [],
   "source": [
    "delta_notEq_scaledNonzeroInt = Forall(l, NotEquals(delta_, Fraction(l, two_pow_t)), domain=Integers, conditions = NotEquals(l, zero))\n",
    "delta_notEq_scaledNonzeroInt"
   ]
  },
  {
   "cell_type": "code",
   "execution_count": null,
   "metadata": {},
   "outputs": [],
   "source": [
    "deltaDiffInInterval = Forall(l, In(Subtract(delta_, Fraction(l, two_pow_t)), IntervalCO(Neg(Fraction(one, two)), Fraction(one, two))), domain=fullDomain)\n",
    "deltaDiffInInterval"
   ]
  },
  {
   "cell_type": "code",
   "execution_count": null,
   "metadata": {},
   "outputs": [],
   "source": [
    "scaledDeltaDiffInInterval = Forall(l, In(Multiply(two, pi, Subtract(delta_, Fraction(l, two_pow_t))), IntervalCC(Neg(pi), pi)), domain=fullDomain)\n",
    "scaledDeltaDiffInInterval"
   ]
  },
  {
   "cell_type": "code",
   "execution_count": null,
   "metadata": {},
   "outputs": [],
   "source": [
    "nonIntDeltaDiff = Forall(l, NotIn(Subtract(delta_, Fraction(l, two_pow_t)), Integers), \n",
    "                         domain=fullDomain,\n",
    "                         conditions = [NotEquals(l, zero)])\n",
    "nonIntDeltaDiff"
   ]
  },
  {
   "cell_type": "markdown",
   "metadata": {},
   "source": [
    "Success probability as sum of individual success event probabilities:"
   ]
  },
  {
   "cell_type": "code",
   "execution_count": null,
   "metadata": {},
   "outputs": [],
   "source": [
    "success_sum = Forall(eps, GreaterThanEquals(Psuccess(eps), Summation(l, Prob(Equals(m_, ModAdd(b_, l)), m_), \n",
    "                                                          DiscreteContiguousSet(Neg(eps), eps))),\n",
    "                    domain=NaturalsPos)\n",
    "success_sum"
   ]
  },
  {
   "cell_type": "markdown",
   "metadata": {},
   "source": [
    "Failure probability as sum of individual failure event probabilities in terms of $\\alpha_l$, amplitude of $\\lvert \\Psi \\rangle$ for a state specified relative to $b$ (the best outcome state):"
   ]
  },
  {
   "cell_type": "code",
   "execution_count": null,
   "metadata": {},
   "outputs": [],
   "source": [
    "fail_sum = Forall(eps, LessThanEquals(Pfail(eps), Add(Summation(l, alpha_l_sqrd, \n",
    "                                                            negDomain),\n",
    "                                                  Summation(l, alpha_l_sqrd, \n",
    "                                                            posDomain))),\n",
    "                 domain=epsDomain)\n",
    "fail_sum"
   ]
  },
  {
   "cell_type": "markdown",
   "metadata": {},
   "source": [
    "Modulo addition may be converted to regular addition within $2 \\pi i$ exponentiation:"
   ]
  },
  {
   "cell_type": "code",
   "execution_count": null,
   "metadata": {},
   "outputs": [],
   "source": [
    "exp2pi_i_modadd = Forall((a, b), Equals(exp2pi_i_on_two_pow_t(ModAdd(a, b)), \n",
    "                                       exp2pi_i_on_two_pow_t(Add(a, b))), domain=Integers)\n",
    "exp2pi_i_modadd"
   ]
  },
  {
   "cell_type": "markdown",
   "metadata": {},
   "source": [
    "Direct evaluation of $\\alpha_l$ (via an intermediate step first):"
   ]
  },
  {
   "cell_type": "code",
   "execution_count": null,
   "metadata": {},
   "outputs": [],
   "source": [
    "from proveit.expression import LATEX\n",
    "intermediateQPE = Forall(k, \n",
    "                         Circuit([[Input(ket0), Hgate, CTRL_DN, \n",
    "                                   Output(Add(ScalarProd(invRoot2, ket0), \n",
    "                                              ScalarProd(Fraction(exp2pi_i(phase_, Exponentiate(two, k)), \n",
    "                                                                  Sqrt(two)), \n",
    "                                                         ket1)))],\n",
    "                                  [Input(Ket(u_)), MultiWire(n_), Gate(U_pow_two_pow_k), Output(Ket(u_))]]),\n",
    "                         domain=Naturals)\n",
    "print(intermediateQPE.formatted(LATEX))"
   ]
  },
  {
   "cell_type": "code",
   "execution_count": null,
   "metadata": {},
   "outputs": [],
   "source": [
    "alpha_l_eval = Forall(l, Equals(alpha_l, \n",
    "                                Multiply(Fraction(one, two_pow_t),\n",
    "                                         Summation(k, Multiply(expNeg2pi_i_on_two_pow_t(k, ModAdd(b_, l)), \n",
    "                                                          exp2pi_i(phase_, k)),\n",
    "                                                   DiscreteContiguousSet(zero, Subtract(two_pow_t, one))))),\n",
    "                     domain=Integers)\n",
    "alpha_l_eval"
   ]
  },
  {
   "cell_type": "markdown",
   "metadata": {},
   "source": [
    "Evaluation of $\\alpha_l$ after performing the geometric series summation in terms of $\\delta$:"
   ]
  },
  {
   "cell_type": "code",
   "execution_count": null,
   "metadata": {},
   "outputs": [],
   "source": [
    "phaseFromBest = Equals(phase_, Add(Fraction(b_, two_pow_t), delta_))\n",
    "phaseFromBest"
   ]
  },
  {
   "cell_type": "code",
   "execution_count": null,
   "metadata": {},
   "outputs": [],
   "source": [
    "alpha_l_summed = Forall(l, Equals(alpha_l, Multiply(Fraction(one, two_pow_t), \n",
    "                                                    Fraction(Subtract(one, exp2pi_i(Subtract(Multiply(two_pow_t, delta_), l))),\n",
    "                                                             Subtract(one, exp2pi_i(Subtract(delta_, Fraction(l, two_pow_t))))))),\n",
    "                       domain=Integers)\n",
    "alpha_l_summed"
   ]
  },
  {
   "cell_type": "code",
   "execution_count": null,
   "metadata": {},
   "outputs": [],
   "source": [
    "alpha_l_summed_abs = Forall(l,\n",
    "                           Equals(Abs(alpha_l),\n",
    "                        Fraction(\n",
    "                                Abs(Subtract(one,\n",
    "                                            Exponentiate(e,\n",
    "                                                        Multiply(two,pi,i,\n",
    "                                                                Subtract(\n",
    "                                                                        Multiply(\n",
    "                                                                                Exponentiate(two,t_),delta_),\n",
    "                                                                        l)\n",
    "                )))\n",
    "    ),\n",
    "                            Multiply(Exponentiate(two,t_),    \n",
    "                            Abs(Subtract(one,\n",
    "                                            Exponentiate(e,\n",
    "                                                        Multiply(two,pi,i,\n",
    "                                                                Subtract(\n",
    "                                                                        delta_,\n",
    "                                                                        Fraction(l,Exponentiate(two,t_))\n",
    "                                \n",
    "\n",
    ")\n",
    "                                                                 )\n",
    "                    )\n",
    "                                             )\n",
    "                                    ))\n",
    "        )\n",
    "    ),\n",
    "                           domain=Integers)\n",
    "alpha_l_summed_abs"
   ]
  },
  {
   "cell_type": "markdown",
   "metadata": {},
   "source": [
    "$| \\alpha_l |^2$ inequality to bound the failure probability:"
   ]
  },
  {
   "cell_type": "code",
   "execution_count": null,
   "metadata": {},
   "outputs": [],
   "source": [
    "alpha_l_sqrd_ineq = Forall(l, LessThanEquals(alpha_l_sqrd, \n",
    "                                             Fraction(one, \n",
    "                                                      Multiply(four, \n",
    "                                                               Exponentiate(Subtract(l, \n",
    "                                                                                     Multiply(two_pow_t, \n",
    "                                                                                              delta_)), \n",
    "                                                                            two)))),\n",
    "                           domain=fullDomain,\n",
    "                           conditions=NotEquals(l, zero))\n",
    "alpha_l_sqrd_ineq"
   ]
  },
  {
   "cell_type": "markdown",
   "metadata": {},
   "source": [
    "A bound on the failure probability:"
   ]
  },
  {
   "cell_type": "code",
   "execution_count": null,
   "metadata": {},
   "outputs": [],
   "source": [
    "fail_ineq = Forall(eps, LessThanEquals(Pfail(eps), Multiply(Fraction(one,two), \n",
    "                                                            Add(Fraction(one,eps), \n",
    "                                                                Fraction(one, Exponentiate(eps, two))))), \n",
    "                   domain=epsDomain)\n",
    "fail_ineq"
   ]
  },
  {
   "cell_type": "code",
   "execution_count": null,
   "metadata": {},
   "outputs": [],
   "source": [
    "%end_theorems"
   ]
  },
  {
   "cell_type": "code",
   "execution_count": null,
   "metadata": {},
   "outputs": [],
   "source": []
  },
  {
   "cell_type": "code",
   "execution_count": null,
   "metadata": {},
   "outputs": [],
   "source": []
  }
 ],
 "metadata": {
  "kernelspec": {
   "display_name": "Python 3",
   "language": "python",
   "name": "python3"
  }
 },
 "nbformat": 4,
 "nbformat_minor": 0
}
