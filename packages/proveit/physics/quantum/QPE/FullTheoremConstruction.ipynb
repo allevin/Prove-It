{
 "cells": [
  {
   "cell_type": "code",
   "execution_count": 1,
   "metadata": {
    "collapsed": false
   },
   "outputs": [],
   "source": [
    "#import sys\n",
    "#from proveit.expression import Literal, LATEX, STRING, Operation\n",
    "##from proveit.statement import *\n",
    "#from proveit.basiclogic.genericOps import AssociativeOperation, BinaryOperation, OperationOverInstances\n",
    "#from proveit.everythingLiteral import EVERYTHING\n",
    "from proveit.number.arithmeticOps import *\n",
    "from proveit.number.variables import a,b,c,m,n,t,eps,phi,U,SUm,C2m,H,Hm,u,e,i,pi,k,l,zero,one,two,infinity\n",
    "from proveit.number.variables import minusOne, minusTwo,Z,Zp,R,zeroToOne,tFunc,tFunc_n_eps,QPE,QPEfunc\n",
    "#import proveit.number.variables as var\n",
    "from proveit.basiclogic.boolean.quantifiers import Forall\n",
    "from proveit.basiclogic.set.setOps import In\n",
    "from proveit.basiclogic import Equals"
   ]
  },
  {
   "cell_type": "code",
   "execution_count": 11,
   "metadata": {
    "collapsed": true
   },
   "outputs": [],
   "source": [
    "def wrap1(arg1):\n",
    "    return Forall([m,n,t,eps],\n",
    "             arg1,\n",
    "             conditions=[In(m,Zp),In(n,Zp),In(t,Zp),In(eps,zeroToOne),Equals(t,tFunc_n_eps)])"
   ]
  },
  {
   "cell_type": "code",
   "execution_count": 12,
   "metadata": {
    "collapsed": false
   },
   "outputs": [
    {
     "data": {
      "text/plain": [
       "proveit.FORALL({'domain':proveit.EVERYTHING, 'instance_mapping':[(\\m,\\n,\\t,\\eps)->{'instance_expression':proveit.number.Z, 'conditions':proveit.IN({'domain':proveit.number.Z^+, 'elements':\\m}),proveit.IN({'domain':proveit.number.Z^+, 'elements':\\n}),proveit.IN({'domain':proveit.number.Z^+, 'elements':\\t}),proveit.IN({'domain':proveit.number.zeroToOne, 'elements':\\eps}),proveit.basiclogic.equality.EQUALS(\\t,proveit.number.tFunc(\\n,\\eps))}]})"
      ]
     },
     "execution_count": 12,
     "metadata": {},
     "output_type": "execute_result"
    }
   ],
   "source": [
    "wrap1(Z)"
   ]
  },
  {
   "cell_type": "code",
   "execution_count": 13,
   "metadata": {
    "collapsed": true
   },
   "outputs": [],
   "source": [
    "def wrap2(arg2):\n",
    "    return Forall([U,u,phi],\n",
    "       arg2,conditions=[In(U,SUm),\n",
    "          In(u,Hm),\n",
    "          In(phi,zeroToOne),\n",
    "            Equals(\n",
    "                Multiply(U,u),\n",
    "                Multiply(\n",
    "                    Exponentiate(\n",
    "                        e,\n",
    "                        Multiply(two,pi,i,phi)\n",
    "                        ),\n",
    "                    u)\n",
    "                )\n",
    "             ]\n",
    "            )"
   ]
  },
  {
   "cell_type": "code",
   "execution_count": 14,
   "metadata": {
    "collapsed": true
   },
   "outputs": [],
   "source": [
    "PrArg = LessThanEquals(\n",
    "    Abs(\n",
    "        Subtract(\n",
    "            QPEfunc,\n",
    "            phi)\n",
    "    ),\n",
    "    Exponentiate(\n",
    "        two,\n",
    "    Multiply(minusOne,\n",
    "             n)\n",
    "        ))"
   ]
  },
  {
   "cell_type": "code",
   "execution_count": 15,
   "metadata": {
    "collapsed": false
   },
   "outputs": [
    {
     "name": "stdout",
     "output_type": "stream",
     "text": [
      "Pr[(|(QPE(U, ket_u, t) - phi)| <= 2^((minusOne * n)))]\n"
     ]
    }
   ],
   "source": [
    "print(Pr(PrArg))"
   ]
  },
  {
   "cell_type": "code",
   "execution_count": 16,
   "metadata": {
    "collapsed": false
   },
   "outputs": [
    {
     "name": "stdout",
     "output_type": "stream",
     "text": [
      "\\forall_{m, n, t, \\varepsilon | m \\in \\mathbb{Z}^+, n \\in \\mathbb{Z}^+, t \\in \\mathbb{Z}^+, \\varepsilon \\in [0,1], t = tFunc(n, \\varepsilon)} \\left[\\forall_{U, |u\\rangle, \\phi | U \\in U(m), |u\\rangle \\in \\mathcal{H}(m), \\phi \\in [0,1], \\left(U \\cdot |u\\rangle\\right) = \\left(e^{\\left(2 \\cdot \\pi \\cdot i \\cdot \\phi\\right)} \\cdot |u\\rangle\\right)} \\left(Pr[\\left(|\\left(QPE(U, |u\\rangle, t) - \\phi\\right)| \\leq 2^{\\left(-1 \\cdot n\\right)}\\right)] \\geq \\left(1 - \\varepsilon\\right)\\right)\\right]\n"
     ]
    }
   ],
   "source": [
    "print(wrap1(wrap2( GreaterThanEquals(Pr(PrArg),Subtract(one,eps)))).formatted(LATEX))"
   ]
  },
  {
   "cell_type": "markdown",
   "metadata": {},
   "source": [
    "$$\n",
    "\\forall_{m, n, t, \\varepsilon | m \\in \\mathbb{Z}^+, n \\in \\mathbb{Z}^+, t \\in \\mathbb{Z}^+, \\varepsilon \\in [0,1], t = tFunc(n, \\varepsilon)} \\left[\\forall_{U, |u\\rangle, \\phi | U \\in U(m), |u\\rangle \\in \\mathcal{H}(m), \\phi \\in [0,1], \\left(U \\cdot |u\\rangle\\right) = \\left(e^{\\left(2 \\cdot \\pi \\cdot i \\cdot \\phi\\right)} \\cdot |u\\rangle\\right)} \\left(Pr[\\left(|\\left(QPE(U, |u\\rangle, t) - \\phi\\right)| \\leq 2^{\\left(-1 \\cdot n\\right)}\\right)] \\geq \\left(1 - \\varepsilon\\right)\\right)\\right]\n",
    "$$"
   ]
  },
  {
   "cell_type": "code",
   "execution_count": null,
   "metadata": {
    "collapsed": true
   },
   "outputs": [],
   "source": []
  }
 ],
 "metadata": {
  "kernelspec": {
   "display_name": "Python 3",
   "language": "python",
   "name": "python3"
  },
  "language_info": {
   "codemirror_mode": {
    "name": "ipython",
    "version": 3
   },
   "file_extension": ".py",
   "mimetype": "text/x-python",
   "name": "python",
   "nbconvert_exporter": "python",
   "pygments_lexer": "ipython3"
  }
 },
 "nbformat": 4,
 "nbformat_minor": 0
}
