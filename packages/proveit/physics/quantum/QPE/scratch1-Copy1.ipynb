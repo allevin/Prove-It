{
 "cells": [
  {
   "cell_type": "code",
   "execution_count": null,
   "metadata": {},
   "outputs": [],
   "source": [
    "from qpeScratch import *"
   ]
  },
  {
   "cell_type": "code",
   "execution_count": null,
   "metadata": {},
   "outputs": [],
   "source": [
    "print(Forall([m,n,t],tFunc_n_eps,[In(m,Zp),In(n,Zp),In(t,Zp)]).formatted(LATEX))"
   ]
  },
  {
   "cell_type": "code",
   "execution_count": null,
   "metadata": {},
   "outputs": [],
   "source": [
    "print(Forall([m,n,t,eps],\n",
    "             tFunc_n_eps,\n",
    "             [In(m,Zp),In(n,Zp),In(t,Zp),In(eps,zeroToOne),Equals(t,tFunc_n_eps)]).formatted(LATEX))"
   ]
  },
  {
   "cell_type": "code",
   "execution_count": null,
   "metadata": {},
   "outputs": [],
   "source": [
    "def wrap1(arg1):\n",
    "    return Forall([m,n,t,eps],\n",
    "             arg1,\n",
    "             [In(m,Zp),In(n,Zp),In(t,Zp),In(eps,zeroToOne),Equals(t,tFunc_n_eps)])"
   ]
  },
  {
   "cell_type": "code",
   "execution_count": null,
   "metadata": {},
   "outputs": [],
   "source": [
    "wrap1(z)"
   ]
  },
  {
   "cell_type": "code",
   "execution_count": null,
   "metadata": {},
   "outputs": [],
   "source": [
    "Forall([U,u,phi],\n",
    "       z,[In(U,SUm),\n",
    "          In(u,C2m),\n",
    "          In(phi,zeroToOne)])"
   ]
  },
  {
   "cell_type": "code",
   "execution_count": null,
   "metadata": {},
   "outputs": [],
   "source": [
    "def wrap2(arg2):\n",
    "    return Forall([U,u,phi],\n",
    "       arg2,[In(U,SUm),\n",
    "          In(u,C2m),\n",
    "          In(phi,zeroToOne),\n",
    "            Equals(\n",
    "                Multiply(U,u),\n",
    "                Multiply(\n",
    "                    Exponentiate(\n",
    "                        e,\n",
    "                        Multiply(two,pi,i,phi)\n",
    "                        ),\n",
    "                    u)\n",
    "                )\n",
    "             ]\n",
    "            )"
   ]
  },
  {
   "cell_type": "code",
   "execution_count": null,
   "metadata": {},
   "outputs": [],
   "source": [
    "QPE = Variable('QPE')\n",
    "QPEfunc = Operation(QPE,(U,u,t))"
   ]
  },
  {
   "cell_type": "code",
   "execution_count": null,
   "metadata": {},
   "outputs": [],
   "source": [
    "print(subtract(a,b).formatted(LATEX))"
   ]
  },
  {
   "cell_type": "code",
   "execution_count": null,
   "metadata": {},
   "outputs": [],
   "source": [
    "print(Abs(subtract(a,b)).formatted(LATEX,fenced=True))"
   ]
  },
  {
   "cell_type": "code",
   "execution_count": null,
   "metadata": {},
   "outputs": [],
   "source": [
    "print(Abs(subtract(QPEfunc,phi)))"
   ]
  },
  {
   "cell_type": "code",
   "execution_count": null,
   "metadata": {},
   "outputs": [],
   "source": [
    "q=Add(a,b)"
   ]
  },
  {
   "cell_type": "code",
   "execution_count": null,
   "metadata": {},
   "outputs": [],
   "source": [
    "q.formattedOperator(LATEX)"
   ]
  },
  {
   "cell_type": "code",
   "execution_count": null,
   "metadata": {},
   "outputs": [],
   "source": [
    "print(LessThanEquals(a,b).formatted(STRING))"
   ]
  },
  {
   "cell_type": "code",
   "execution_count": null,
   "metadata": {},
   "outputs": [],
   "source": [
    "print(LessThanEquals(a,b).formatted(LATEX))"
   ]
  },
  {
   "cell_type": "code",
   "execution_count": null,
   "metadata": {},
   "outputs": [],
   "source": [
    "print(Abs(LessThanEquals(a,b)).formatted(STRING))"
   ]
  },
  {
   "cell_type": "code",
   "execution_count": null,
   "metadata": {},
   "outputs": [],
   "source": [
    "PrArg = LessThanEquals(\n",
    "    Abs(\n",
    "        subtract(\n",
    "            QPEfunc,\n",
    "            phi)\n",
    "    ),\n",
    "    Exponentiate(\n",
    "        two,\n",
    "    Multiply(minusOne,\n",
    "             n)\n",
    "        ))"
   ]
  },
  {
   "cell_type": "code",
   "execution_count": null,
   "metadata": {},
   "outputs": [],
   "source": [
    "print(PrArg)"
   ]
  },
  {
   "cell_type": "code",
   "execution_count": null,
   "metadata": {},
   "outputs": [],
   "source": [
    "print(Pr(PrArg))"
   ]
  },
  {
   "cell_type": "code",
   "execution_count": null,
   "metadata": {},
   "outputs": [],
   "source": [
    "print(Divide(a,b).formatted(LATEX))"
   ]
  },
  {
   "cell_type": "code",
   "execution_count": null,
   "metadata": {},
   "outputs": [],
   "source": [
    "Multiply(minusOne,\n",
    "             n)"
   ]
  },
  {
   "cell_type": "code",
   "execution_count": null,
   "metadata": {},
   "outputs": [],
   "source": [
    "print(wrap1(wrap2( GreaterThanEquals(Pr(PrArg),subtract(one,eps)))).formatted(LATEX))"
   ]
  },
  {
   "cell_type": "code",
   "execution_count": null,
   "metadata": {},
   "outputs": [],
   "source": [
    "Pr "
   ]
  },
  {
   "cell_type": "code",
   "execution_count": null,
   "metadata": {},
   "outputs": [],
   "source": [
    "print('$$\\phi$$')"
   ]
  },
  {
   "cell_type": "markdown",
   "metadata": {},
   "source": [
    "'$$\\phi$$'"
   ]
  },
  {
   "cell_type": "markdown",
   "metadata": {},
   "source": [
    "$$\\forall_{m \\in \\mathbb{Z}^+, n \\in \\mathbb{Z}^+, t \\in \\mathbb{Z}^+, \\varepsilon \\in [0,1], t = tFunc(n,\\varepsilon)} \\forall_{U \\in SU(m), |u\\rangle \\in C^{2^m}, \\phi \\in [0,1], (U \\cdot |u\\rangle) = ((e ^ (2 \\cdot \\pi \\cdot i \\cdot \\phi)) \\cdot |u\\rangle)} Pr[(|(QPE(U,|u\\rangle,t) - \\phi)| \\leq (2 ^ (-1 \\cdot n)))] \\geq (1 - \\varepsilon)$$\n"
   ]
  },
  {
   "cell_type": "code",
   "execution_count": null,
   "metadata": {},
   "outputs": [],
   "source": [
    "print(Multiply(a,b).formatted(LATEX))"
   ]
  },
  {
   "cell_type": "code",
   "execution_count": null,
   "metadata": {},
   "outputs": [],
   "source": [
    "v = Variable('ket_v',{LATEX:r'|v\\rangle'})"
   ]
  },
  {
   "cell_type": "code",
   "execution_count": null,
   "metadata": {},
   "outputs": [],
   "source": [
    "print(v.formatted(LATEX))"
   ]
  },
  {
   "cell_type": "markdown",
   "metadata": {},
   "source": [
    "$$\\mathbb{Z}^+$$"
   ]
  },
  {
   "cell_type": "code",
   "execution_count": null,
   "metadata": {},
   "outputs": [],
   "source": [
    "print(Equals(\n",
    "                Multiply(U,u),\n",
    "                Multiply(\n",
    "                    Exponentiate(\n",
    "                        e,\n",
    "                        Multiply(two,pi,i,phi)\n",
    "                        ),\n",
    "                    u)\n",
    "                ))"
   ]
  },
  {
   "cell_type": "code",
   "execution_count": null,
   "metadata": {},
   "outputs": [],
   "source": [
    "Multiply(two,pi,i,phi)"
   ]
  },
  {
   "cell_type": "code",
   "execution_count": null,
   "metadata": {},
   "outputs": [],
   "source": [
    "print(Equals(Multiply(U,u),U))"
   ]
  },
  {
   "cell_type": "code",
   "execution_count": null,
   "metadata": {},
   "outputs": [],
   "source": []
  }
 ],
 "metadata": {
  "kernelspec": {
   "display_name": "Python 3",
   "language": "python",
   "name": "python3"
  }
 },
 "nbformat": 4,
 "nbformat_minor": 0
}
