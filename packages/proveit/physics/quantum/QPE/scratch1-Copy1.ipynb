{
 "cells": [
  {
   "cell_type": "code",
   "execution_count": 2,
   "metadata": {
    "collapsed": false
   },
   "outputs": [
    {
     "name": "stdout",
     "output_type": "stream",
     "text": [
      "proveit.numbers\n",
      "numbers.arithmetic\n"
     ]
    }
   ],
   "source": [
    "from qpeScratch import *"
   ]
  },
  {
   "cell_type": "code",
   "execution_count": 3,
   "metadata": {
    "collapsed": false
   },
   "outputs": [
    {
     "name": "stdout",
     "output_type": "stream",
     "text": [
      "\\forall_{m \\in \\mathbb{Z}^+, n \\in \\mathbb{Z}^+, t \\in \\mathbb{Z}^+} tFunc(n,\\varepsilon)\n"
     ]
    }
   ],
   "source": [
    "print(Forall([m,n,t],tFunc_n_eps,[In(m,Zp),In(n,Zp),In(t,Zp)]).formatted(LATEX))"
   ]
  },
  {
   "cell_type": "code",
   "execution_count": 4,
   "metadata": {
    "collapsed": false
   },
   "outputs": [
    {
     "name": "stdout",
     "output_type": "stream",
     "text": [
      "\\forall_{m \\in \\mathbb{Z}^+, n \\in \\mathbb{Z}^+, t \\in \\mathbb{Z}^+, \\varepsilon \\in [0,1], t = tFunc(n,\\varepsilon)} tFunc(n,\\varepsilon)\n"
     ]
    }
   ],
   "source": [
    "print(Forall([m,n,t,eps],\n",
    "             tFunc_n_eps,\n",
    "             [In(m,Zp),In(n,Zp),In(t,Zp),In(eps,zeroToOne),Equals(t,tFunc_n_eps)]).formatted(LATEX))"
   ]
  },
  {
   "cell_type": "code",
   "execution_count": 5,
   "metadata": {
    "collapsed": true
   },
   "outputs": [],
   "source": [
    "def wrap1(arg1):\n",
    "    return Forall([m,n,t,eps],\n",
    "             arg1,\n",
    "             [In(m,Zp),In(n,Zp),In(t,Zp),In(eps,zeroToOne),Equals(t,tFunc_n_eps)])"
   ]
  },
  {
   "cell_type": "code",
   "execution_count": 6,
   "metadata": {
    "collapsed": false
   },
   "outputs": [
    {
     "data": {
      "text/plain": [
       "\\basiclogic.booleans.FORALL([(\\m,\\n,\\t,\\eps)->\\z|\\basiclogic.sets.IN(\\m,\\Z^+),\\basiclogic.sets.IN(\\n,\\Z^+),\\basiclogic.sets.IN(\\t,\\Z^+),\\basiclogic.sets.IN(\\eps,\\zeroToOne),\\basiclogic.equality.EQUALS(\\t,\\tFunc(\\n,\\eps))])"
      ]
     },
     "execution_count": 6,
     "metadata": {},
     "output_type": "execute_result"
    }
   ],
   "source": [
    "wrap1(z)"
   ]
  },
  {
   "cell_type": "code",
   "execution_count": 7,
   "metadata": {
    "collapsed": false
   },
   "outputs": [
    {
     "data": {
      "text/plain": [
       "\\basiclogic.booleans.FORALL([(\\U,\\ket_u,\\phi)->\\z|\\basiclogic.sets.IN(\\U,\\SU(m)),\\basiclogic.sets.IN(\\ket_u,\\C^(2^m)),\\basiclogic.sets.IN(\\phi,\\zeroToOne)])"
      ]
     },
     "execution_count": 7,
     "metadata": {},
     "output_type": "execute_result"
    }
   ],
   "source": [
    "Forall([U,u,phi],\n",
    "       z,[In(U,SUm),\n",
    "          In(u,C2m),\n",
    "          In(phi,zeroToOne)])"
   ]
  },
  {
   "cell_type": "code",
   "execution_count": 8,
   "metadata": {
    "collapsed": false
   },
   "outputs": [],
   "source": [
    "def wrap2(arg2):\n",
    "    return Forall([U,u,phi],\n",
    "       arg2,[In(U,SUm),\n",
    "          In(u,C2m),\n",
    "          In(phi,zeroToOne),\n",
    "            Equals(\n",
    "                Multiply(U,u),\n",
    "                Multiply(\n",
    "                    Exponentiate(\n",
    "                        e,\n",
    "                        Multiply(two,pi,i,phi)\n",
    "                        ),\n",
    "                    u)\n",
    "                )\n",
    "             ]\n",
    "            )"
   ]
  },
  {
   "cell_type": "code",
   "execution_count": 9,
   "metadata": {
    "collapsed": true
   },
   "outputs": [],
   "source": [
    "QPE = Variable('QPE')\n",
    "QPEfunc = Operation(QPE,(U,u,t))"
   ]
  },
  {
   "cell_type": "code",
   "execution_count": 10,
   "metadata": {
    "collapsed": false
   },
   "outputs": [
    {
     "name": "stdout",
     "output_type": "stream",
     "text": [
      "a - b\n"
     ]
    }
   ],
   "source": [
    "print(Subtract(a,b).formatted(LATEX))"
   ]
  },
  {
   "cell_type": "code",
   "execution_count": 11,
   "metadata": {
    "collapsed": false
   },
   "outputs": [
    {
     "name": "stdout",
     "output_type": "stream",
     "text": [
      "|(a - b)|\n"
     ]
    }
   ],
   "source": [
    "print(Abs(Subtract(a,b)).formatted(LATEX,fenced=True))"
   ]
  },
  {
   "cell_type": "code",
   "execution_count": 12,
   "metadata": {
    "collapsed": false
   },
   "outputs": [
    {
     "name": "stdout",
     "output_type": "stream",
     "text": [
      "|(QPE(U,ket_u,t) - phi)|\n"
     ]
    }
   ],
   "source": [
    "print(Abs(Subtract(QPEfunc,phi)))"
   ]
  },
  {
   "cell_type": "code",
   "execution_count": 13,
   "metadata": {
    "collapsed": false
   },
   "outputs": [],
   "source": [
    "q=Add(a,b)"
   ]
  },
  {
   "cell_type": "code",
   "execution_count": 14,
   "metadata": {
    "collapsed": false
   },
   "outputs": [
    {
     "data": {
      "text/plain": [
       "'+'"
      ]
     },
     "execution_count": 14,
     "metadata": {},
     "output_type": "execute_result"
    }
   ],
   "source": [
    "q.formattedOperator(LATEX)"
   ]
  },
  {
   "cell_type": "code",
   "execution_count": 15,
   "metadata": {
    "collapsed": false
   },
   "outputs": [
    {
     "name": "stdout",
     "output_type": "stream",
     "text": [
      "a <= b\n"
     ]
    }
   ],
   "source": [
    "print(LessThanEquals(a,b).formatted(STRING))"
   ]
  },
  {
   "cell_type": "code",
   "execution_count": 16,
   "metadata": {
    "collapsed": false
   },
   "outputs": [
    {
     "name": "stdout",
     "output_type": "stream",
     "text": [
      "a \\leq b\n"
     ]
    }
   ],
   "source": [
    "print(LessThanEquals(a,b).formatted(LATEX))"
   ]
  },
  {
   "cell_type": "code",
   "execution_count": 17,
   "metadata": {
    "collapsed": false
   },
   "outputs": [
    {
     "name": "stdout",
     "output_type": "stream",
     "text": [
      "|(a <= b)|\n"
     ]
    }
   ],
   "source": [
    "print(Abs(LessThanEquals(a,b)).formatted(STRING))"
   ]
  },
  {
   "cell_type": "code",
   "execution_count": 18,
   "metadata": {
    "collapsed": false
   },
   "outputs": [],
   "source": [
    "PrArg = LessThanEquals(\n",
    "    Abs(\n",
    "        Subtract(\n",
    "            QPEfunc,\n",
    "            phi)\n",
    "    ),\n",
    "    Exponentiate(\n",
    "        two,\n",
    "    Multiply(minusOne,\n",
    "             n)\n",
    "        ))"
   ]
  },
  {
   "cell_type": "code",
   "execution_count": 19,
   "metadata": {
    "collapsed": false
   },
   "outputs": [
    {
     "name": "stdout",
     "output_type": "stream",
     "text": [
      "|(QPE(U,ket_u,t) - phi)| <= (2 ** (minusOne * n))\n"
     ]
    }
   ],
   "source": [
    "print(PrArg)"
   ]
  },
  {
   "cell_type": "code",
   "execution_count": 20,
   "metadata": {
    "collapsed": false
   },
   "outputs": [
    {
     "name": "stdout",
     "output_type": "stream",
     "text": [
      "Pr[(|(QPE(U,ket_u,t) - phi)| <= (2 ** (minusOne * n)))]\n"
     ]
    }
   ],
   "source": [
    "print(Pr(PrArg))"
   ]
  },
  {
   "cell_type": "code",
   "execution_count": 21,
   "metadata": {
    "collapsed": false
   },
   "outputs": [
    {
     "name": "stdout",
     "output_type": "stream",
     "text": [
      "a \\div b\n"
     ]
    }
   ],
   "source": [
    "print(Divide(a,b).formatted(LATEX))"
   ]
  },
  {
   "cell_type": "code",
   "execution_count": 22,
   "metadata": {
    "collapsed": false
   },
   "outputs": [
    {
     "data": {
      "text/plain": [
       "\\numbers.arithmetic.MULTIPY(\\minusOne,\\n)"
      ]
     },
     "execution_count": 22,
     "metadata": {},
     "output_type": "execute_result"
    }
   ],
   "source": [
    "Multiply(minusOne,\n",
    "             n)"
   ]
  },
  {
   "cell_type": "code",
   "execution_count": 23,
   "metadata": {
    "collapsed": false,
    "scrolled": true
   },
   "outputs": [
    {
     "name": "stdout",
     "output_type": "stream",
     "text": [
      "\\forall_{m \\in \\mathbb{Z}^+, n \\in \\mathbb{Z}^+, t \\in \\mathbb{Z}^+, \\varepsilon \\in [0,1], t = tFunc(n,\\varepsilon)} \\forall_{U \\in SU(m), |u\\rangle \\in C^{2^m}, \\phi \\in [0,1], (U \\cdot |u\\rangle) = ((e ^ (2 \\cdot \\pi \\cdot i \\cdot \\phi)) \\cdot |u\\rangle)} Pr[(|(QPE(U,|u\\rangle,t) - \\phi)| \\leq (2 ^ (-1 \\cdot n)))] \\geq (1 - \\varepsilon)\n"
     ]
    }
   ],
   "source": [
    "print(wrap1(wrap2( GreaterThanEquals(Pr(PrArg),Subtract(one,eps)))).formatted(LATEX))"
   ]
  },
  {
   "cell_type": "code",
   "execution_count": 23,
   "metadata": {
    "collapsed": false
   },
   "outputs": [
    {
     "data": {
      "text/plain": [
       "<class proveit.numbers.arithmetic.Pr at 0x105d842c0>"
      ]
     },
     "execution_count": 23,
     "metadata": {},
     "output_type": "execute_result"
    }
   ],
   "source": [
    "Pr "
   ]
  },
  {
   "cell_type": "code",
   "execution_count": 25,
   "metadata": {
    "collapsed": false
   },
   "outputs": [
    {
     "name": "stdout",
     "output_type": "stream",
     "text": [
      "$$\\phi$$\n"
     ]
    }
   ],
   "source": [
    "print('$$\\phi$$')"
   ]
  },
  {
   "cell_type": "markdown",
   "metadata": {},
   "source": [
    "'$$\\phi$$'"
   ]
  },
  {
   "cell_type": "markdown",
   "metadata": {},
   "source": [
    "$$\\forall_{m \\in \\mathbb{Z}^+, n \\in \\mathbb{Z}^+, t \\in \\mathbb{Z}^+, \\varepsilon \\in [0,1], t = tFunc(n,\\varepsilon)} \\forall_{U \\in SU(m), |u\\rangle \\in C^{2^m}, \\phi \\in [0,1], (U \\cdot |u\\rangle) = ((e ^ (2 \\cdot \\pi \\cdot i \\cdot \\phi)) \\cdot |u\\rangle)} Pr[(|(QPE(U,|u\\rangle,t) - \\phi)| \\leq (2 ^ (-1 \\cdot n)))] \\geq (1 - \\varepsilon)$$\n"
   ]
  },
  {
   "cell_type": "code",
   "execution_count": 25,
   "metadata": {
    "collapsed": false
   },
   "outputs": [
    {
     "name": "stdout",
     "output_type": "stream",
     "text": [
      "a \\cdot b\n"
     ]
    }
   ],
   "source": [
    "print(Multiply(a,b).formatted(LATEX))"
   ]
  },
  {
   "cell_type": "code",
   "execution_count": 31,
   "metadata": {
    "collapsed": true
   },
   "outputs": [],
   "source": [
    "v = Variable('ket_v',{LATEX:r'|v\\rangle'})"
   ]
  },
  {
   "cell_type": "code",
   "execution_count": 32,
   "metadata": {
    "collapsed": false
   },
   "outputs": [
    {
     "name": "stdout",
     "output_type": "stream",
     "text": [
      "|v\\rangle\n"
     ]
    }
   ],
   "source": [
    "print(v.formatted(LATEX))"
   ]
  },
  {
   "cell_type": "markdown",
   "metadata": {},
   "source": [
    "$$\\mathbb{Z}^+$$"
   ]
  },
  {
   "cell_type": "code",
   "execution_count": 30,
   "metadata": {
    "collapsed": false
   },
   "outputs": [
    {
     "name": "stdout",
     "output_type": "stream",
     "text": [
      "(U * ket_u) = ((e ** (2 * pi * i * phi)) * ket_u)\n"
     ]
    }
   ],
   "source": [
    "print(Equals(\n",
    "                Multiply(U,u),\n",
    "                Multiply(\n",
    "                    Exponentiate(\n",
    "                        e,\n",
    "                        Multiply(two,pi,i,phi)\n",
    "                        ),\n",
    "                    u)\n",
    "                ))"
   ]
  },
  {
   "cell_type": "code",
   "execution_count": 28,
   "metadata": {
    "collapsed": false
   },
   "outputs": [
    {
     "data": {
      "text/plain": [
       "\\numbers.arithmetic.MULTIPY(\\2,\\pi,\\i,\\phi)"
      ]
     },
     "execution_count": 28,
     "metadata": {},
     "output_type": "execute_result"
    }
   ],
   "source": [
    "Multiply(two,pi,i,phi)"
   ]
  },
  {
   "cell_type": "code",
   "execution_count": 32,
   "metadata": {
    "collapsed": false
   },
   "outputs": [
    {
     "name": "stdout",
     "output_type": "stream",
     "text": [
      "(U * ket_u) = U\n"
     ]
    }
   ],
   "source": [
    "print(Equals(Multiply(U,u),U))"
   ]
  },
  {
   "cell_type": "code",
   "execution_count": null,
   "metadata": {
    "collapsed": true
   },
   "outputs": [],
   "source": []
  }
 ],
 "metadata": {
  "kernelspec": {
   "display_name": "Python 3",
   "language": "python",
   "name": "python3"
  },
  "language_info": {
   "codemirror_mode": {
    "name": "ipython",
    "version": 3
   },
   "file_extension": ".py",
   "mimetype": "text/x-python",
   "name": "python",
   "nbconvert_exporter": "python",
   "pygments_lexer": "ipython3"
  }
 },
 "nbformat": 4,
 "nbformat_minor": 0
}
