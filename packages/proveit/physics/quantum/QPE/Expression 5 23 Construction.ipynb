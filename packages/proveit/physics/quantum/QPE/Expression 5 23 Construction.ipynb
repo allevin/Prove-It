{
 "cells": [
  {
   "cell_type": "code",
   "execution_count": 1,
   "metadata": {
    "collapsed": false
   },
   "outputs": [],
   "source": [
    "from proveit.number.arithmeticOps import *\n",
    "from proveit.number.variables import a,b,c,m,n,t,eps,phi,U,SUm,C2m,H,Hm,u,e,i,pi,k,l,zero,one,two,infinity\n",
    "from proveit.number.variables import minusOne, minusTwo,Z,Zp,R,zeroToOne,tFunc,tFunc_n_eps,QPE,QPEfunc\n",
    "from proveit.basiclogic.boolean.quantifiers import Forall, Exists\n",
    "from proveit.basiclogic.set.setOps import In"
   ]
  },
  {
   "cell_type": "code",
   "execution_count": 2,
   "metadata": {
    "collapsed": true
   },
   "outputs": [],
   "source": [
    "prefactor = Fraction(one,Exponentiate(two,t))"
   ]
  },
  {
   "cell_type": "code",
   "execution_count": 3,
   "metadata": {
    "collapsed": false
   },
   "outputs": [],
   "source": [
    "exp1Arg = Fraction(Multiply(minusTwo,pi,i,k,l),Exponentiate(two,t))"
   ]
  },
  {
   "cell_type": "code",
   "execution_count": 4,
   "metadata": {
    "collapsed": true
   },
   "outputs": [],
   "source": [
    "exp2Arg = Multiply(two,pi,i,phi,k)"
   ]
  },
  {
   "cell_type": "code",
   "execution_count": 54,
   "metadata": {
    "collapsed": true
   },
   "outputs": [],
   "source": [
    "summand0 = Multiply(Exponentiate(e,exp1Arg),Exponentiate(e,exp2Arg),Ket(l))\n",
    "summand1 = Summation(k,summand0,DiscreteContiguousSet(zero,Subtract(Exponentiate(two,t),one)))"
   ]
  },
  {
   "cell_type": "code",
   "execution_count": 55,
   "metadata": {
    "collapsed": false
   },
   "outputs": [],
   "source": [
    "fullExp = Multiply(prefactor,\n",
    "                   Summation([l],\n",
    "                       summand1,\n",
    "                       DiscreteContiguousSet(zero,Subtract(Exponentiate(two,t),one)))\n",
    "                  )"
   ]
  },
  {
   "cell_type": "code",
   "execution_count": 40,
   "metadata": {
    "collapsed": false
   },
   "outputs": [
    {
     "name": "stdout",
     "output_type": "stream",
     "text": [
      "\\frac{1}{2^{t}} \\cdot [\\sum_{l \\in \\{0\\ldots 2^{t} - 1\\}} \\sum_{k \\in \\{0\\ldots 2^{t} - 1\\}} e^{\\frac{(-2 \\cdot \\pi \\cdot i \\cdot k \\cdot l)}{2^{t}}} \\cdot e^{(2 \\cdot \\pi \\cdot i \\cdot \\phi \\cdot k)} \\cdot |l\\rangle]\n"
     ]
    }
   ],
   "source": [
    "print(fullExp.formatted(LATEX))"
   ]
  },
  {
   "cell_type": "code",
   "execution_count": 58,
   "metadata": {
    "collapsed": false
   },
   "outputs": [
    {
     "data": {
      "text/latex": [
       "$$\n",
       "\\frac{1}{2^{t}} \\cdot [\\sum_{l \\in \\{0\\ldots 2^{t} - 1\\}} \\sum_{k \\in \\{0\\ldots 2^{t} - 1\\}} e^{\\frac{(-2 \\cdot \\pi \\cdot i \\cdot k \\cdot l)}{2^{t}}} \\cdot e^{(2 \\cdot \\pi \\cdot i \\cdot \\phi \\cdot k)} \\cdot |l\\rangle]\n",
       "$$"
      ],
      "text/plain": [
       "<IPython.core.display.Latex object>"
      ]
     },
     "metadata": {},
     "output_type": "display_data"
    }
   ],
   "source": [
    "%%latex\n",
    "$$\n",
    "\\frac{1}{2^{t}} \\cdot [\\sum_{l \\in \\{0\\ldots 2^{t} - 1\\}} \\sum_{k \\in \\{0\\ldots 2^{t} - 1\\}} e^{\\frac{(-2 \\cdot \\pi \\cdot i \\cdot k \\cdot l)}{2^{t}}} \\cdot e^{(2 \\cdot \\pi \\cdot i \\cdot \\phi \\cdot k)} \\cdot |l\\rangle]\n",
    "$$"
   ]
  },
  {
   "cell_type": "code",
   "execution_count": 64,
   "metadata": {
    "collapsed": false
   },
   "outputs": [
    {
     "data": {
      "text/plain": [
       "\\k"
      ]
     },
     "execution_count": 64,
     "metadata": {},
     "output_type": "execute_result"
    }
   ],
   "source": [
    "summand1.instanceVars[0]"
   ]
  },
  {
   "cell_type": "code",
   "execution_count": 66,
   "metadata": {
    "collapsed": false
   },
   "outputs": [
    {
     "name": "stdout",
     "output_type": "stream",
     "text": [
      "e^{\\frac{(-2 \\cdot \\pi \\cdot i \\cdot k \\cdot l)}{2^{t}}} \\cdot e^{(2 \\cdot \\pi \\cdot i \\cdot \\phi \\cdot k)} \\cdot |l\\rangle\n"
     ]
    }
   ],
   "source": [
    "print(summand1.instanceExpr.formatted(LATEX))"
   ]
  },
  {
   "cell_type": "code",
   "execution_count": 67,
   "metadata": {
    "collapsed": false
   },
   "outputs": [
    {
     "data": {
      "text/plain": [
       "proveit.number.DISCRETECONTIGUOUSSET(proveit.number.0,proveit.number.SUBTRACT(proveit.number.EXPONENTIATE(proveit.number.2,\\t),proveit.number.1))"
      ]
     },
     "execution_count": 67,
     "metadata": {},
     "output_type": "execute_result"
    }
   ],
   "source": [
    "summand1.domain"
   ]
  },
  {
   "cell_type": "code",
   "execution_count": null,
   "metadata": {
    "collapsed": true
   },
   "outputs": [],
   "source": []
  }
 ],
 "metadata": {
  "kernelspec": {
   "display_name": "Python 3",
   "language": "python",
   "name": "python3"
  },
  "language_info": {
   "codemirror_mode": {
    "name": "ipython",
    "version": 3
   },
   "file_extension": ".py",
   "mimetype": "text/x-python",
   "name": "python",
   "nbconvert_exporter": "python",
   "pygments_lexer": "ipython3"
  }
 },
 "nbformat": 4,
 "nbformat_minor": 0
}
