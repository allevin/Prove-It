{
 "cells": [
  {
   "cell_type": "code",
   "execution_count": 1,
   "metadata": {
    "collapsed": true
   },
   "outputs": [],
   "source": [
    "from proveit.physics.quantum.QPE.axioms import tInNaturalsPos\n",
    "from proveit.physics.quantum.QPE.theorems import two_pow_t_less_one_in_posnats\n",
    "from proveit.physics.quantum.QPE.common import t_, two_pow_t\n",
    "from proveit.number.real.theorems import powIneq, greaterThanEqualsSubtract\n",
    "from proveit.number.natural.axioms import oneAddOne, naturalsPosDef\n",
    "from proveit.number.numberSets import deduceInReals, deduceInNaturals\n",
    "from proveit.number import Subtract\n",
    "from proveit.common import a, b, c, n, X\n",
    "from proveit.number.common import one, two"
   ]
  },
  {
   "cell_type": "code",
   "execution_count": 2,
   "metadata": {
    "collapsed": false
   },
   "outputs": [
    {
     "data": {
      "text/latex": [
       "$\\left(2^{t} - 1\\right) \\in \\mathbb{N}^+$"
      ],
      "text/plain": [
       "$\\left(2^{t} - 1\\right) \\in \\mathbb{N}^+$"
      ]
     },
     "execution_count": 2,
     "metadata": {},
     "output_type": "execute_result"
    }
   ],
   "source": [
    "two_pow_t_less_one_in_posnats.beginProof()"
   ]
  },
  {
   "cell_type": "code",
   "execution_count": 3,
   "metadata": {
    "collapsed": false
   },
   "outputs": [
    {
     "data": {
      "text/latex": [
       "$t \\in \\mathbb{N}^+$"
      ],
      "text/plain": [
       "$t \\in \\mathbb{N}^+$"
      ]
     },
     "execution_count": 3,
     "metadata": {},
     "output_type": "execute_result"
    }
   ],
   "source": [
    "tInNaturalsPos"
   ]
  },
  {
   "cell_type": "code",
   "execution_count": 4,
   "metadata": {
    "collapsed": false
   },
   "outputs": [
    {
     "data": {
      "text/latex": [
       "$t \\geq 1$"
      ],
      "text/plain": [
       "$t \\geq 1$"
      ]
     },
     "execution_count": 4,
     "metadata": {},
     "output_type": "execute_result"
    }
   ],
   "source": [
    "tInNaturalsPos.domain.deduceMemberLowerBound(t_).proven()"
   ]
  },
  {
   "cell_type": "code",
   "execution_count": 5,
   "metadata": {
    "collapsed": false
   },
   "outputs": [
    {
     "data": {
      "text/latex": [
       "$\\left(1 + 1\\right) = 2$"
      ],
      "text/plain": [
       "$\\left(1 + 1\\right) = 2$"
      ]
     },
     "execution_count": 5,
     "metadata": {},
     "output_type": "execute_result"
    }
   ],
   "source": [
    "oneAddOne"
   ]
  },
  {
   "cell_type": "code",
   "execution_count": 6,
   "metadata": {
    "collapsed": false
   },
   "outputs": [
    {
     "data": {
      "text/latex": [
       "$\\left(1 + 1\\right) > 1$"
      ],
      "text/plain": [
       "$\\left(1 + 1\\right) > 1$"
      ]
     },
     "execution_count": 6,
     "metadata": {},
     "output_type": "execute_result"
    }
   ],
   "source": [
    "oneAddOneMoreThanOne = oneAddOne.lhs.deduceStrictIncrease(0)\n",
    "oneAddOneMoreThanOne.proven()"
   ]
  },
  {
   "cell_type": "code",
   "execution_count": 7,
   "metadata": {
    "collapsed": false
   },
   "outputs": [
    {
     "data": {
      "text/latex": [
       "$2 \\geq 1$"
      ],
      "text/plain": [
       "$2 \\geq 1$"
      ]
     },
     "execution_count": 7,
     "metadata": {},
     "output_type": "execute_result"
    }
   ],
   "source": [
    "oneAddOne.subRightSideInto(oneAddOneMoreThanOne).deriveRelaxed().proven()"
   ]
  },
  {
   "cell_type": "code",
   "execution_count": 8,
   "metadata": {
    "collapsed": false
   },
   "outputs": [
    {
     "data": {
      "text/latex": [
       "$\\forall_{a, b, c \\in \\mathbb{R}~|~a \\geq 1, b \\geq c} \\left(a^{b} \\geq a^{c}\\right)$"
      ],
      "text/plain": [
       "$\\forall_{a, b, c \\in \\mathbb{R}~|~a \\geq 1, b \\geq c} \\left(a^{b} \\geq a^{c}\\right)$"
      ]
     },
     "execution_count": 8,
     "metadata": {},
     "output_type": "execute_result"
    }
   ],
   "source": [
    "powIneq"
   ]
  },
  {
   "cell_type": "code",
   "execution_count": 9,
   "metadata": {
    "collapsed": false
   },
   "outputs": [
    {
     "data": {
      "text/latex": [
       "$2^{t} \\geq 2^{1}$"
      ],
      "text/plain": [
       "$2^{t} \\geq 2^{1}$"
      ]
     },
     "execution_count": 9,
     "metadata": {},
     "output_type": "execute_result"
    }
   ],
   "source": [
    "deduceInReals([one, two, t_])\n",
    "two_pow_t_ineq0 = powIneq.specialize({a:two, b:t_, c:one})\n",
    "two_pow_t_ineq0.proven()"
   ]
  },
  {
   "cell_type": "code",
   "execution_count": 10,
   "metadata": {
    "collapsed": false
   },
   "outputs": [
    {
     "data": {
      "text/latex": [
       "$2^{t} \\geq 2$"
      ],
      "text/plain": [
       "$2^{t} \\geq 2$"
      ]
     },
     "execution_count": 10,
     "metadata": {},
     "output_type": "execute_result"
    }
   ],
   "source": [
    "two_pow_t_ineq1 = two_pow_t_ineq0.rhs.simplification().subRightSideInto(two_pow_t_ineq0)\n",
    "two_pow_t_ineq1.proven()"
   ]
  },
  {
   "cell_type": "code",
   "execution_count": 11,
   "metadata": {
    "collapsed": false
   },
   "outputs": [
    {
     "data": {
      "text/latex": [
       "$\\forall_{a, b, c \\in \\mathbb{R}~|~a \\geq b} \\left(\\left(a - c\\right) \\geq \\left(b - c\\right)\\right)$"
      ],
      "text/plain": [
       "$\\forall_{a, b, c \\in \\mathbb{R}~|~a \\geq b} \\left(\\left(a - c\\right) \\geq \\left(b - c\\right)\\right)$"
      ]
     },
     "execution_count": 11,
     "metadata": {},
     "output_type": "execute_result"
    }
   ],
   "source": [
    "greaterThanEqualsSubtract"
   ]
  },
  {
   "cell_type": "code",
   "execution_count": 12,
   "metadata": {
    "collapsed": false
   },
   "outputs": [
    {
     "data": {
      "text/latex": [
       "$\\left(2^{t} - 1\\right) \\geq \\left(2 - 1\\right)$"
      ],
      "text/plain": [
       "$\\left(2^{t} - 1\\right) \\geq \\left(2 - 1\\right)$"
      ]
     },
     "execution_count": 12,
     "metadata": {},
     "output_type": "execute_result"
    }
   ],
   "source": [
    "deduceInReals([one, two, two_pow_t])\n",
    "two_pow_t_less_one_ineq0 = greaterThanEqualsSubtract.specialize({a:two_pow_t, b:two, c:one}).proven()\n",
    "two_pow_t_less_one_ineq0"
   ]
  },
  {
   "cell_type": "code",
   "execution_count": 13,
   "metadata": {
    "collapsed": false
   },
   "outputs": [
    {
     "data": {
      "text/latex": [
       "$\\left(\\left(1 + 1\\right) - 1\\right) = \\left(2 - 1\\right)$"
      ],
      "text/plain": [
       "$\\left(\\left(1 + 1\\right) - 1\\right) = \\left(2 - 1\\right)$"
      ]
     },
     "execution_count": 13,
     "metadata": {},
     "output_type": "execute_result"
    }
   ],
   "source": [
    "onePlusOneMinusOneEq0 = oneAddOne.substitution(Subtract(X, one), X)\n",
    "onePlusOneMinusOneEq0.proven()"
   ]
  },
  {
   "cell_type": "code",
   "execution_count": 14,
   "metadata": {
    "collapsed": false
   },
   "outputs": [
    {
     "data": {
      "text/latex": [
       "$1 = \\left(2 - 1\\right)$"
      ],
      "text/plain": [
       "$1 = \\left(2 - 1\\right)$"
      ]
     },
     "execution_count": 14,
     "metadata": {},
     "output_type": "execute_result"
    }
   ],
   "source": [
    "onePlusOneMinusOneEq1 = onePlusOneMinusOneEq0.lhs.cancel().applyTransitivity(onePlusOneMinusOneEq0)\n",
    "onePlusOneMinusOneEq1.proven()"
   ]
  },
  {
   "cell_type": "code",
   "execution_count": 15,
   "metadata": {
    "collapsed": false
   },
   "outputs": [
    {
     "data": {
      "text/latex": [
       "$\\left(2^{t} - 1\\right) \\geq 1$"
      ],
      "text/plain": [
       "$\\left(2^{t} - 1\\right) \\geq 1$"
      ]
     },
     "execution_count": 15,
     "metadata": {},
     "output_type": "execute_result"
    }
   ],
   "source": [
    "two_pow_t_less_one_ineq1 = onePlusOneMinusOneEq1.subLeftSideInto(two_pow_t_less_one_ineq0).proven()\n",
    "two_pow_t_less_one_ineq1.proven()"
   ]
  },
  {
   "cell_type": "code",
   "execution_count": 16,
   "metadata": {
    "collapsed": false
   },
   "outputs": [
    {
     "name": "stdout",
     "output_type": "stream",
     "text": [
      "root (2^(t) - 1) in NaturalsPos \n",
      "  implication ((2^(t) - 1) >= 1) => ((2^(t) - 1) in NaturalsPos) \n",
      "    implication (((2^(t) - 1) in NaturalsPos) <=> ((2^(t) - 1) >= 1)) => (((2^(t) - 1) >= 1) => ((2^(t) - 1) in NaturalsPos)) \n",
      "      specializing forall_{A, B} ((A <=> B) => (B => A)) \n",
      "        by theorem proveit.basiclogic.boolean.iffImpliesLeft\n",
      "    hypothesis ((2^(t) - 1) in NaturalsPos) <=> ((2^(t) - 1) >= 1) \n",
      "      specializing forall_{n in Naturals} ((n in NaturalsPos) <=> (n >= 1)) \n",
      "        by axiom proveit.number.natural.naturalsPosDef\n",
      "      condition (2^(t) - 1) in Naturals \n",
      "        specializing forall_{a, b in Integers | a >= b} ((a - b) in Naturals) \n",
      "          by theorem proveit.number.integer.subtractClosureNats\n",
      "        condition 1 in Integers \n",
      "          specializing forall_{a in NaturalsPos} (a in Integers) \n",
      "            by theorem proveit.number.natural.inNatPos_inIntegers\n",
      "          condition 1 in NaturalsPos \n",
      "        condition 2^(t) in Integers \n",
      "          specializing forall_{a in NaturalsPos} (a in Integers)  proven above\n",
      "          condition 2^(t) in NaturalsPos \n",
      "            specializing forall_{a, b in Naturals | a != 0} (a^(b) in NaturalsPos) \n",
      "              by theorem proveit.number.natural.powClosure\n",
      "            condition 2 != 0 \n",
      "              specializing forall_{a in Reals | a > 0} (a != 0) \n",
      "                by theorem proveit.number.real.positive_implies_notzero\n",
      "              condition 2 in Reals \n",
      "                specializing forall_{a in NaturalsPos} (a in Reals) \n",
      "                  by theorem proveit.number.natural.inNatPos_inReals\n",
      "                condition 2 in NaturalsPos \n",
      "                  by theorem proveit.number.natural.twoInNaturalsPos\n",
      "              condition 2 > 0 \n",
      "                implication (2 in RealsPos) => (2 > 0) \n",
      "                  implication ((2 in RealsPos) <=> (2 > 0)) => ((2 in RealsPos) => (2 > 0)) \n",
      "                    specializing forall_{A, B} ((A <=> B) => (A => B)) \n",
      "                      by theorem proveit.basiclogic.boolean.iffImpliesRight\n",
      "                  hypothesis (2 in RealsPos) <=> (2 > 0) \n",
      "                    specializing forall_{a in Reals} ((a in RealsPos) <=> (a > 0)) \n",
      "                      by theorem proveit.number.real.inRealsPos_iff_positive\n",
      "                    condition 2 in Reals  proven above\n",
      "                hypothesis 2 in RealsPos \n",
      "                  specializing forall_{a in NaturalsPos} (a in RealsPos) \n",
      "                    by theorem proveit.number.natural.inNatPos_inRealsPos\n",
      "                  condition 2 in NaturalsPos  proven above\n",
      "            condition 2 in Naturals \n",
      "              specializing forall_{a in NaturalsPos} (a in Naturals) \n",
      "                by theorem proveit.number.natural.inNatPos_inNaturals\n",
      "              condition 2 in NaturalsPos  proven above\n",
      "            condition t in Naturals \n",
      "              specializing forall_{a in NaturalsPos} (a in Naturals)  proven above\n",
      "              condition t in NaturalsPos \n",
      "                by axiom proveit.physics.quantum.QPE.tInNaturalsPos\n",
      "        condition 2^(t) >= 1 \n",
      "          specializing forall_{n in NaturalsPos} (n >= 1) \n",
      "            by theorem proveit.number.natural.naturalsPosLowerBound\n",
      "          condition 2^(t) in NaturalsPos  proven above\n",
      "  hypothesis (2^(t) - 1) >= 1 \n",
      "    implication ((2^(t) - 1) >= (2 - 1)) => ((2^(t) - 1) >= 1) \n",
      "      implication (1 = (2 - 1)) => (((2^(t) - 1) >= (2 - 1)) => ((2^(t) - 1) >= 1)) \n",
      "        specializing forall_{P, x, y} ((x = y) => (P(y) => P(x))) \n",
      "          by theorem proveit.basiclogic.equality.lhsSubstitution\n",
      "      hypothesis 1 = (2 - 1) \n",
      "        implication (((1 + 1) - 1) = (2 - 1)) => (1 = (2 - 1)) \n",
      "          implication (1 = ((1 + 1) - 1)) => ((((1 + 1) - 1) = (2 - 1)) => (1 = (2 - 1))) \n",
      "            specializing forall_{x, y, z} ((x = y) => ((y = z) => (x = z))) \n",
      "              by axiom proveit.basiclogic.equality.equalsTransitivity\n",
      "          hypothesis 1 = ((1 + 1) - 1) \n",
      "            implication (((1 + 1) - 1) = 1) => (1 = ((1 + 1) - 1)) \n",
      "              specializing forall_{x, y} ((x = y) => (y = x)) \n",
      "                by axiom proveit.basiclogic.equality.equalsSymmetry\n",
      "            hypothesis ((1 + 1) - 1) = 1 \n",
      "              specializing forall_{x, y in Complexes} (((y + x) - y) = x) \n",
      "                by theorem proveit.number.complex.subtractCancelLeftSumSingleRight\n",
      "              condition 1 in Complexes \n",
      "                specializing forall_{a in NaturalsPos} (a in Complexes) \n",
      "                  by theorem proveit.number.natural.inNatPos_inComplexes\n",
      "                condition 1 in NaturalsPos  proven above\n",
      "        hypothesis ((1 + 1) - 1) = (2 - 1) \n",
      "          implication ((1 + 1) = 2) => (((1 + 1) - 1) = (2 - 1)) \n",
      "            specializing forall_{f, x, y} ((x = y) => (f(x) = f(y))) \n",
      "              by axiom proveit.basiclogic.equality.substitution\n",
      "          hypothesis (1 + 1) = 2 \n",
      "            by axiom proveit.number.natural.oneAddOne\n",
      "    hypothesis (2^(t) - 1) >= (2 - 1) \n",
      "      specializing forall_{a, b, c in Reals | a >= b} ((a - c) >= (b - c)) \n",
      "        by theorem proveit.number.real.greaterThanEqualsSubtract\n",
      "      condition 1 in Reals \n",
      "        specializing forall_{a in NaturalsPos} (a in Reals)  proven above\n",
      "        condition 1 in NaturalsPos  proven above\n",
      "      condition 2 in Reals  proven above\n",
      "      condition 2^(t) >= 2 \n",
      "        implication (2^(t) >= 2^(1)) => (2^(t) >= 2) \n",
      "          implication (2^(1) = 2) => ((2^(t) >= 2^(1)) => (2^(t) >= 2)) \n",
      "            specializing forall_{P, x, y} ((x = y) => (P(x) => P(y))) \n",
      "              by theorem proveit.basiclogic.equality.rhsSubstitution\n",
      "          hypothesis 2^(1) = 2 \n",
      "            specializing forall_{a in Complexes} (a^(1) = a) \n",
      "              by theorem proveit.number.complex.powOneUnchanged\n",
      "            condition 2 in Complexes \n",
      "              specializing forall_{a in NaturalsPos} (a in Complexes)  proven above\n",
      "              condition 2 in NaturalsPos  proven above\n",
      "        hypothesis 2^(t) >= 2^(1) \n",
      "          specializing forall_{a, b, c in Reals | a >= 1, b >= c} (a^(b) >= a^(c)) \n",
      "            by theorem proveit.number.real.powIneq\n",
      "          condition 2 >= 1 \n",
      "            specializing forall_{a, b in Reals | a > b} (a >= b) \n",
      "              by theorem proveit.number.real.relaxGreaterThan\n",
      "            condition 2 > 1 \n",
      "              implication ((1 + 1) > 1) => (2 > 1) \n",
      "                implication ((1 + 1) = 2) => (((1 + 1) > 1) => (2 > 1)) \n",
      "                  specializing forall_{P, x, y} ((x = y) => (P(x) => P(y)))  proven above\n",
      "                hypothesis (1 + 1) = 2  proven above\n",
      "              hypothesis (1 + 1) > 1 \n",
      "                specializing forall_{b in Reals} ((b + 1) > b) \n",
      "                  specializing forall_{..a.., ..c.. in RealsPos} [forall_{b in Reals} (( .. + a + ..  + b +  .. + c + .. ) > b)] \n",
      "                    by theorem proveit.number.real.strictlyIncreasingAdditions\n",
      "                  condition 1 in RealsPos \n",
      "                    specializing forall_{a in NaturalsPos} (a in RealsPos)  proven above\n",
      "                    condition 1 in NaturalsPos  proven above\n",
      "                condition 1 in Reals  proven above\n",
      "            condition 1 in Reals  proven above\n",
      "            condition 2 in Reals  proven above\n",
      "          condition 2 in Reals  proven above\n",
      "          condition 1 in Reals  proven above\n",
      "          condition t in Reals \n",
      "            specializing forall_{a in NaturalsPos} (a in Reals)  proven above\n",
      "            condition t in NaturalsPos  proven above\n",
      "          condition t >= 1 \n",
      "            specializing forall_{n in NaturalsPos} (n >= 1)  proven above\n",
      "            condition t in NaturalsPos  proven above\n",
      "      condition 2^(t) in Reals \n",
      "        specializing forall_{a in NaturalsPos} (a in Reals)  proven above\n",
      "        condition 2^(t) in NaturalsPos  proven above\n",
      "proveit.basiclogic.equality.equalsSymmetry\n",
      "proveit.basiclogic.equality.equalsTransitivity\n",
      "proveit.basiclogic.equality.substitution\n",
      "proveit.number.natural.naturalsPosDef\n",
      "proveit.number.natural.oneAddOne\n",
      "proveit.physics.quantum.QPE.tInNaturalsPos\n",
      "proveit.basiclogic.boolean.iffImpliesLeft\n",
      "proveit.basiclogic.boolean.iffImpliesRight\n",
      "proveit.basiclogic.equality.lhsSubstitution\n",
      "proveit.basiclogic.equality.rhsSubstitution\n",
      "proveit.number.complex.powOneUnchanged\n",
      "proveit.number.complex.subtractCancelLeftSumSingleRight\n",
      "proveit.number.integer.subtractClosureNats\n",
      "proveit.number.natural.inNatPos_inComplexes\n",
      "proveit.number.natural.inNatPos_inIntegers\n",
      "proveit.number.natural.inNatPos_inNaturals\n",
      "proveit.number.natural.inNatPos_inReals\n",
      "proveit.number.natural.inNatPos_inRealsPos\n",
      "proveit.number.natural.naturalsPosLowerBound\n",
      "proveit.number.natural.powClosure\n",
      "proveit.number.natural.twoInNaturalsPos\n",
      "proveit.number.real.greaterThanEqualsSubtract\n",
      "proveit.number.real.inRealsPos_iff_positive\n",
      "proveit.number.real.positive_implies_notzero\n",
      "proveit.number.real.powIneq\n",
      "proveit.number.real.relaxGreaterThan\n",
      "proveit.number.real.strictlyIncreasingAdditions\n",
      "Number of used axioms: 6\n",
      "Number of used theorms: 21\n",
      "Number of derivation tree nodes: 76\n"
     ]
    },
    {
     "data": {
      "text/latex": [
       "$\\left(2^{t} - 1\\right) \\in \\mathbb{N}^+$"
      ],
      "text/plain": [
       "$\\left(2^{t} - 1\\right) \\in \\mathbb{N}^+$"
      ]
     },
     "execution_count": 16,
     "metadata": {},
     "output_type": "execute_result"
    }
   ],
   "source": [
    "deduceInNaturals(two_pow_t_less_one_ineq1.lhs)\n",
    "naturalsPosDef.specialize({n:two_pow_t_less_one_ineq1.lhs}).deriveLeft().qed()"
   ]
  },
  {
   "cell_type": "code",
   "execution_count": null,
   "metadata": {
    "collapsed": true
   },
   "outputs": [],
   "source": []
  }
 ],
 "metadata": {
  "kernelspec": {
   "display_name": "Python 3",
   "language": "python",
   "name": "python3"
  },
  "language_info": {
   "codemirror_mode": {
    "name": "ipython",
    "version": 3
   },
   "file_extension": ".py",
   "mimetype": "text/x-python",
   "name": "python",
   "nbconvert_exporter": "python",
   "pygments_lexer": "ipython3"
  }
 },
 "nbformat": 4,
 "nbformat_minor": 0
}
