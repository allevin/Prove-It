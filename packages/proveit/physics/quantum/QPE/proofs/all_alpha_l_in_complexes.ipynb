{
 "cells": [
  {
   "cell_type": "code",
   "execution_count": 14,
   "metadata": {
    "collapsed": false
   },
   "outputs": [],
   "source": [
    "from proveit.basiclogic import In\n",
    "from proveit.physics.quantum.QPE.theorems import all_alpha_l_in_complexes, bestInInts\n",
    "from proveit.physics.quantum.QPE.axioms import tInNaturalsPos, alphaDef, modAddDef, PsiKetInQRegSpace\n",
    "from proveit.physics.quantum.QPE.common import two_pow_t, b_, t_, Psi_\n",
    "from proveit.physics.quantum.QPE.phaseEstOps import ModAdd\n",
    "from proveit.physics.quantum.theorems import registerQubitComplexAmplitude\n",
    "from proveit.common import a, b, k, l, n, Psi\n",
    "from proveit.number.numberSets import Integers"
   ]
  },
  {
   "cell_type": "code",
   "execution_count": 2,
   "metadata": {
    "collapsed": false
   },
   "outputs": [
    {
     "data": {
      "image/png": "[encoded data removed]",
      "text/plain": [
       "$\\forall_{ l  \\in \\mathbb{Z}} \\left(\\alpha_{l} \\in \\mathbb{C}\\right)$"
      ]
     },
     "execution_count": 2,
     "metadata": {},
     "output_type": "execute_result"
    }
   ],
   "source": [
    "all_alpha_l_in_complexes.beginProof()"
   ]
  },
  {
   "cell_type": "code",
   "execution_count": 3,
   "metadata": {
    "collapsed": false
   },
   "outputs": [
    {
     "data": {
      "image/png": "[encoded data removed]",
      "text/plain": [
       "$l \\in \\mathbb{Z}$"
      ]
     },
     "execution_count": 3,
     "metadata": {},
     "output_type": "execute_result"
    }
   ],
   "source": [
    "lInInts = In(l, Integers)\n",
    "lInInts"
   ]
  },
  {
   "cell_type": "code",
   "execution_count": 4,
   "metadata": {
    "collapsed": false
   },
   "outputs": [
    {
     "data": {
      "image/png": "[encoded data removed]",
      "text/plain": [
       "$\\forall_{ l  \\in \\mathbb{Z}} \\left(\\alpha_{l} = \\prescript{}{t}\\langle b \\oplus l \\rvert\\Psi \\rangle\\right)$"
      ]
     },
     "execution_count": 4,
     "metadata": {},
     "output_type": "execute_result"
    }
   ],
   "source": [
    "alphaDef"
   ]
  },
  {
   "cell_type": "code",
   "execution_count": 5,
   "metadata": {
    "collapsed": false
   },
   "outputs": [
    {
     "data": {
      "image/png": "[encoded data removed]",
      "text/plain": [
       "$\\alpha_{l} = \\prescript{}{t}\\langle b \\oplus l \\rvert\\Psi \\rangle$"
      ]
     },
     "execution_count": 5,
     "metadata": {},
     "output_type": "execute_result"
    }
   ],
   "source": [
    "alphaDefSpec = alphaDef.specialize()\n",
    "alphaDefSpec.proven({lInInts})"
   ]
  },
  {
   "cell_type": "code",
   "execution_count": 6,
   "metadata": {
    "collapsed": false
   },
   "outputs": [
    {
     "data": {
      "image/png": "[encoded data removed]",
      "text/plain": [
       "$\\forall_{ a , b  \\in \\mathbb{Z}} \\left(\\left(a \\oplus b\\right) = \\left(\\left( a + b \\right) ~\\rm{mod}~ \\left(2^{t}\\right)\\right)\\right)$"
      ]
     },
     "execution_count": 6,
     "metadata": {},
     "output_type": "execute_result"
    }
   ],
   "source": [
    "modAddDef"
   ]
  },
  {
   "cell_type": "code",
   "execution_count": 7,
   "metadata": {
    "collapsed": false
   },
   "outputs": [
    {
     "data": {
      "image/png": "[encoded data removed]",
      "text/plain": [
       "$\\left(b \\oplus l\\right) = \\left(\\left( b + l \\right) ~\\rm{mod}~ \\left(2^{t}\\right)\\right)$"
      ]
     },
     "execution_count": 7,
     "metadata": {},
     "output_type": "execute_result"
    }
   ],
   "source": [
    "modAddUnfolding = modAddDef.specialize({a:b_, b:l})\n",
    "modAddUnfolding.proven({lInInts})"
   ]
  },
  {
   "cell_type": "code",
   "execution_count": 8,
   "metadata": {
    "collapsed": false
   },
   "outputs": [
    {
     "data": {
      "image/png": "[encoded data removed]",
      "text/plain": [
       "$\\left(\\left( b + l \\right) ~\\rm{mod}~ \\left(2^{t}\\right)\\right) \\in \\{0\\ldots \\left(\\left(2^{t}\\right) - 1\\right)\\}$"
      ]
     },
     "execution_count": 8,
     "metadata": {},
     "output_type": "execute_result"
    }
   ],
   "source": [
    "unfoldedModAddInInterval = modAddUnfolding.rhs.deduceInInterval({lInInts})\n",
    "unfoldedModAddInInterval.proven({lInInts})"
   ]
  },
  {
   "cell_type": "code",
   "execution_count": 9,
   "metadata": {
    "collapsed": false
   },
   "outputs": [
    {
     "data": {
      "image/png": "[encoded data removed]",
      "text/plain": [
       "$\\left(b \\oplus l\\right) \\in \\{0\\ldots \\left(\\left(2^{t}\\right) - 1\\right)\\}$"
      ]
     },
     "execution_count": 9,
     "metadata": {},
     "output_type": "execute_result"
    }
   ],
   "source": [
    "modAddUnfolding.subLeftSideInto(unfoldedModAddInInterval).proven({lInInts})"
   ]
  },
  {
   "cell_type": "code",
   "execution_count": 10,
   "metadata": {
    "collapsed": false
   },
   "outputs": [
    {
     "data": {
      "image/png": "[encoded data removed]",
      "text/plain": [
       "$\\forall_{ n  \\in \\mathbb{N}^+} \\left[\\forall_{ k  \\in \\{0\\ldots \\left(\\left(2^{n}\\right) - 1\\right)\\}} \\left[\\forall_{ \\Psi ~|~ \\left(\\lvert \\Psi \\rangle \\in \\left(\\mathbb{C}^{2}\\right)^{\\otimes n}\\right) } \\left(\\prescript{}{n}\\langle k \\rvert\\Psi \\rangle \\in \\mathbb{C}\\right)\\right]\\right]$"
      ]
     },
     "execution_count": 10,
     "metadata": {},
     "output_type": "execute_result"
    }
   ],
   "source": [
    "registerQubitComplexAmplitude"
   ]
  },
  {
   "cell_type": "code",
   "execution_count": 15,
   "metadata": {
    "collapsed": false
   },
   "outputs": [
    {
     "data": {
      "image/png": "[encoded data removed]",
      "text/plain": [
       "$\\prescript{}{t}\\langle b \\oplus l \\rvert\\Psi \\rangle \\in \\mathbb{C}$"
      ]
     },
     "execution_count": 15,
     "metadata": {},
     "output_type": "execute_result"
    }
   ],
   "source": [
    "braKetInComplexes = registerQubitComplexAmplitude.specialize({n:t_}).specialize({k:ModAdd(b_, l)}).specialize({Psi:Psi_})\n",
    "braKetInComplexes.proven({lInInts})"
   ]
  },
  {
   "cell_type": "code",
   "execution_count": 16,
   "metadata": {
    "collapsed": false
   },
   "outputs": [
    {
     "name": "stdout",
     "output_type": "stream",
     "text": [
      "root $\\forall_{ l  \\in \\mathbb{Z}} \\left(\\alpha_{l} \\in \\mathbb{C}\\right)$ \n",
      "Number of used axioms: 0\n",
      "Number of used theorms: 0\n",
      "Number of derivation tree nodes: 1\n"
     ]
    },
    {
     "data": {
      "image/png": "[encoded data removed]",
      "text/plain": [
       "$\\forall_{ l  \\in \\mathbb{Z}} \\left(\\alpha_{l} \\in \\mathbb{C}\\right)$"
      ]
     },
     "execution_count": 16,
     "metadata": {},
     "output_type": "execute_result"
    }
   ],
   "source": [
    "alphaDefSpec.subLeftSideInto(braKetInComplexes).generalize(l, domain=Integers).qed()"
   ]
  },
  {
   "cell_type": "code",
   "execution_count": null,
   "metadata": {
    "collapsed": true
   },
   "outputs": [],
   "source": []
  }
 ],
 "metadata": {
  "kernelspec": {
   "display_name": "Python 3",
   "language": "python",
   "name": "python3"
  },
  "language_info": {
   "codemirror_mode": {
    "name": "ipython",
    "version": 3
   },
   "file_extension": ".py",
   "mimetype": "text/x-python",
   "name": "python",
   "nbconvert_exporter": "python",
   "pygments_lexer": "ipython3"
  }
 },
 "nbformat": 4,
 "nbformat_minor": 0
}
