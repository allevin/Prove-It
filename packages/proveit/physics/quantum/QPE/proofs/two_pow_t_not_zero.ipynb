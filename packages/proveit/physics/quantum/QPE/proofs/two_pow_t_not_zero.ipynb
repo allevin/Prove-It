{
 "cells": [
  {
   "cell_type": "code",
   "execution_count": 1,
   "metadata": {
    "collapsed": true
   },
   "outputs": [],
   "source": [
    "from proveit.physics.quantum.QPE.axioms import tInNaturalsPos\n",
    "from proveit.physics.quantum.QPE.theorems import two_pow_t_not_zero \n",
    "from proveit.physics.quantum.QPE.common import t_\n",
    "from proveit.number.common import two\n",
    "from proveit.number.numberSets import deduceNotZero\n",
    "from proveit.basiclogic import In\n",
    "from proveit.number import Exponentiate"
   ]
  },
  {
   "cell_type": "code",
   "execution_count": null,
   "metadata": {
    "collapsed": true
   },
   "outputs": [],
   "source": [
    "two_pow_t_not_zero.beginProof()"
   ]
  },
  {
   "cell_type": "code",
   "execution_count": 2,
   "metadata": {
    "collapsed": false
   },
   "outputs": [
    {
     "data": {
      "text/latex": [
       "$2^{t} \\neq 0$"
      ],
      "text/plain": [
       "2^(t) != 0"
      ]
     },
     "execution_count": 2,
     "metadata": {},
     "output_type": "execute_result"
    }
   ],
   "source": [
    "deduceNotZero(Exponentiate(two, t_)).qed()"
   ]
  },
  {
   "cell_type": "code",
   "execution_count": null,
   "metadata": {
    "collapsed": true
   },
   "outputs": [],
   "source": []
  }
 ],
 "metadata": {
  "kernelspec": {
   "display_name": "Python 3",
   "language": "python",
   "name": "python3"
  },
  "language_info": {
   "codemirror_mode": {
    "name": "ipython",
    "version": 3
   },
   "file_extension": ".py",
   "mimetype": "text/x-python",
   "name": "python",
   "nbconvert_exporter": "python",
   "pygments_lexer": "ipython3"
  }
 },
 "nbformat": 4,
 "nbformat_minor": 0
}
