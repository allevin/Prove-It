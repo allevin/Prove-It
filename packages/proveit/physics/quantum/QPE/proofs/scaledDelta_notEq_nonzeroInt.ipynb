{
 "cells": [
  {
   "cell_type": "code",
   "execution_count": 1,
   "metadata": {
    "collapsed": false
   },
   "outputs": [],
   "source": [
    "from proveit.basiclogic import Implies, FALSE, In, Equals, NotEquals, autoSubstitute\n",
    "from proveit.physics.quantum.QPE.theorems import scaledDelta_notEq_nonzeroInt, two_pow_t_in_posnats, scaledDeltaInInterval, deltaInReals\n",
    "from proveit.physics.quantum.QPE.common import two_pow_t \n",
    "from proveit.common import a, b, c, l, n, x\n",
    "from proveit.number import IntervalOO\n",
    "from proveit.number.common import zero, one\n",
    "from proveit.number.numberSets import Integers, deduceInReals, deduceInIntegers\n",
    "from proveit.number.real.theorems import notIntIfBetweenSuccessiveInts\n",
    "from proveit.number.natural.axioms import zeroAddOne\n",
    "from IPython.display import display"
   ]
  },
  {
   "cell_type": "code",
   "execution_count": 2,
   "metadata": {
    "collapsed": false
   },
   "outputs": [
    {
     "data": {
      "text/plain": [
       "$\\forall_{l \\in \\mathbb{Z}~|~l \\neq 0} \\left(\\left(2^{t} \\cdot \\delta\\right) \\neq l\\right)$"
      ]
     },
     "execution_count": 2,
     "metadata": {},
     "output_type": "execute_result"
    }
   ],
   "source": [
    "scaledDelta_notEq_nonzeroInt.beginProof()"
   ]
  },
  {
   "cell_type": "code",
   "execution_count": 3,
   "metadata": {
    "collapsed": false
   },
   "outputs": [
    {
     "data": {
      "text/plain": [
       "$l \\in \\mathbb{Z}$"
      ]
     },
     "metadata": {},
     "output_type": "display_data"
    },
    {
     "data": {
      "text/plain": [
       "$l \\neq 0$"
      ]
     },
     "metadata": {},
     "output_type": "display_data"
    }
   ],
   "source": [
    "lInInts = In(l, Integers)\n",
    "lNotZero = NotEquals(l, zero)\n",
    "assumptions = {lInInts, lNotZero}\n",
    "display(lInInts)\n",
    "display(lNotZero)"
   ]
  },
  {
   "cell_type": "code",
   "execution_count": 4,
   "metadata": {
    "collapsed": false
   },
   "outputs": [
    {
     "data": {
      "text/plain": [
       "$\\left(2^{t} \\cdot \\delta\\right) \\in \\left[0,1\\right)$"
      ]
     },
     "execution_count": 4,
     "metadata": {},
     "output_type": "execute_result"
    }
   ],
   "source": [
    "scaledDelta = scaledDeltaInInterval.element\n",
    "scaledDeltaInInterval"
   ]
  },
  {
   "cell_type": "code",
   "execution_count": 5,
   "metadata": {
    "collapsed": false
   },
   "outputs": [
    {
     "data": {
      "text/plain": [
       "$\\left(2^{t} \\cdot \\delta\\right) = l$"
      ]
     },
     "execution_count": 5,
     "metadata": {},
     "output_type": "execute_result"
    }
   ],
   "source": [
    "contradiction = Equals(scaledDelta, l)\n",
    "contradiction"
   ]
  },
  {
   "cell_type": "code",
   "execution_count": 6,
   "metadata": {
    "collapsed": false
   },
   "outputs": [
    {
     "data": {
      "text/plain": [
       "$0 \\leq l$"
      ]
     },
     "execution_count": 6,
     "metadata": {},
     "output_type": "execute_result"
    }
   ],
   "source": [
    "lLowerBoundLoose = contradiction.subRightSideInto(scaledDeltaInInterval.domain.deduceMemberLowerBound(scaledDelta))\n",
    "lLowerBoundLoose.proven({contradiction})"
   ]
  },
  {
   "cell_type": "code",
   "execution_count": 7,
   "metadata": {
    "collapsed": false
   },
   "outputs": [
    {
     "data": {
      "text/plain": [
       "$l < 1$"
      ]
     },
     "execution_count": 7,
     "metadata": {},
     "output_type": "execute_result"
    }
   ],
   "source": [
    "lUpperBound = contradiction.subRightSideInto(scaledDeltaInInterval.domain.deduceMemberUpperBound(scaledDelta))\n",
    "lUpperBound.proven({contradiction})"
   ]
  },
  {
   "cell_type": "code",
   "execution_count": 8,
   "metadata": {
    "collapsed": false
   },
   "outputs": [
    {
     "data": {
      "text/plain": [
       "$\\lnot \\left(0 = l\\right)$"
      ]
     },
     "execution_count": 8,
     "metadata": {},
     "output_type": "execute_result"
    }
   ],
   "source": [
    "lNotZero.deriveReversed().unfold().proven(assumptions)"
   ]
  },
  {
   "cell_type": "code",
   "execution_count": 9,
   "metadata": {
    "collapsed": false
   },
   "outputs": [
    {
     "data": {
      "text/plain": [
       "$0 < l$"
      ]
     },
     "execution_count": 9,
     "metadata": {},
     "output_type": "execute_result"
    }
   ],
   "source": [
    "lLowerBoundTight = lLowerBoundLoose.unfold(assumptions).deriveLeftIfNotRight()\n",
    "lLowerBoundTight.deduceInBooleans(assumptions)\n",
    "lLowerBoundTight.proven({contradiction} | assumptions)"
   ]
  },
  {
   "cell_type": "code",
   "execution_count": 10,
   "metadata": {
    "collapsed": false
   },
   "outputs": [
    {
     "data": {
      "text/plain": [
       "$l \\in \\left(0,1\\right)$"
      ]
     },
     "execution_count": 10,
     "metadata": {},
     "output_type": "execute_result"
    }
   ],
   "source": [
    "deduceInReals(l, {contradiction} | assumptions)\n",
    "deduceInReals(zero)\n",
    "deduceInReals(one)\n",
    "In(l, IntervalOO(zero, one)).concludeAsFolded().proven({contradiction} | assumptions)"
   ]
  },
  {
   "cell_type": "code",
   "execution_count": 11,
   "metadata": {
    "collapsed": false
   },
   "outputs": [
    {
     "data": {
      "text/plain": [
       "$l \\notin \\mathbb{Z}$"
      ]
     },
     "execution_count": 11,
     "metadata": {},
     "output_type": "execute_result"
    }
   ],
   "source": [
    "deduceInIntegers(zero)\n",
    "lNotInt = zeroAddOne.subRightSideInto(notIntIfBetweenSuccessiveInts.specialize({n:zero, x:l})).specialize()\n",
    "lNotInt.proven({contradiction} | assumptions)"
   ]
  },
  {
   "cell_type": "code",
   "execution_count": 12,
   "metadata": {
    "collapsed": false
   },
   "outputs": [
    {
     "data": {
      "text/plain": [
       "$\\mathtt{FALSE}$"
      ]
     },
     "execution_count": 12,
     "metadata": {},
     "output_type": "execute_result"
    }
   ],
   "source": [
    "lNotInt.unfold().deriveContradiction().conclusion.proven({contradiction} | assumptions)"
   ]
  },
  {
   "cell_type": "code",
   "execution_count": 13,
   "metadata": {
    "collapsed": false
   },
   "outputs": [
    {
     "data": {
      "text/plain": [
       "$\\left(2^{t} \\cdot \\delta\\right) \\neq l$"
      ]
     },
     "execution_count": 13,
     "metadata": {},
     "output_type": "execute_result"
    }
   ],
   "source": [
    "contradiction.deduceInBool()\n",
    "ineq = Implies(contradiction, FALSE).deriveViaContradiction().deriveNotEquals().proven(assumptions)\n",
    "ineq"
   ]
  },
  {
   "cell_type": "code",
   "execution_count": 15,
   "metadata": {
    "collapsed": false
   },
   "outputs": [
    {
     "name": "stdout",
     "output_type": "stream",
     "text": [
      "root forall_{l in Integers | l != 0} ((2^(t) * delta) != l) \n",
      "  generalizing (2^(t) * delta) != l  assuming l in Integers, l != 0 \n",
      "    implication not((2^(t) * delta) = l) => ((2^(t) * delta) != l) \n",
      "      specializing forall_{x, y} (not(x = y) => (x != y)) \n",
      "        by theorem proveit.basiclogic.equality.foldNotEquals\n",
      "    hypothesis not((2^(t) * delta) = l)  assuming l in Integers, l != 0 \n",
      "      implication (((2^(t) * delta) = l) => FALSE) => not((2^(t) * delta) = l) \n",
      "        specializing forall_{A in BOOLEANS} ((A => FALSE) => not(A)) \n",
      "          by theorem proveit.basiclogic.boolean.hypotheticalContradiction\n",
      "        condition ((2^(t) * delta) = l) in BOOLEANS \n",
      "          specializing forall_{x, y} ((x = y) in BOOLEANS) \n",
      "            by axiom proveit.basiclogic.equality.equalityInBool\n",
      "      hypothesis ((2^(t) * delta) = l) => FALSE  assuming l in Integers, l != 0 \n",
      "        hypothetically reasoning FALSE  assuming l in Integers, l != 0, (2^(t) * delta) = l \n",
      "          implication (l in Integers) => FALSE  assuming l in Integers, l != 0, (2^(t) * delta) = l \n",
      "            implication not(l in Integers) => ((l in Integers) => FALSE) \n",
      "              specializing forall_{A} (not(A) => (A => FALSE)) \n",
      "                by theorem proveit.basiclogic.boolean.contradictionFromNegation\n",
      "            hypothesis not(l in Integers)  assuming l in Integers, l != 0, (2^(t) * delta) = l \n",
      "              implication (l not in Integers) => not(l in Integers) \n",
      "                specializing forall_{x, S} ((x not in S) => not(x in S)) \n",
      "                  by theorem proveit.basiclogic.set.unfoldNotIn\n",
      "              hypothesis l not in Integers  assuming l in Integers, l != 0, (2^(t) * delta) = l \n",
      "                specializing forall_{l in (0,1)} (l not in Integers) \n",
      "                  implication [forall_{l in (0,(0 + 1))} (l not in Integers)] => [forall_{l in (0,1)} (l not in Integers)] \n",
      "                    implication ((0 + 1) = 1) => ([forall_{l in (0,(0 + 1))} (l not in Integers)] => [forall_{l in (0,1)} (l not in Integers)]) \n",
      "                      specializing forall_{P, x, y} ((x = y) => (P(x) => P(y))) \n",
      "                        by theorem proveit.basiclogic.equality.rhsSubstitution\n",
      "                    hypothesis (0 + 1) = 1 \n",
      "                      by axiom proveit.number.natural.zeroAddOne\n",
      "                  hypothesis forall_{l in (0,(0 + 1))} (l not in Integers) \n",
      "                    specializing forall_{n in Integers} [forall_{x in (n,(n + 1))} (x not in Integers)] \n",
      "                      by theorem proveit.number.real.betweenSuccessiveInts_notInt\n",
      "                    condition 0 in Integers \n",
      "                      specializing forall_{a in Naturals} (a in Integers) \n",
      "                        by theorem proveit.number.natural.inIntegers\n",
      "                      condition 0 in Naturals \n",
      "                condition l in (0,1)  assuming l in Integers, l != 0, (2^(t) * delta) = l \n",
      "                  specializing forall_{a, b, x in Reals | a < x, x < b} (x in (a,b)) \n",
      "                    by theorem proveit.number.real.inIntervalOO\n",
      "                  condition l in Reals  assuming l in Integers \n",
      "                    specializing forall_{a in Integers} (a in Reals) \n",
      "                      by theorem proveit.number.integer.inReals\n",
      "                    condition l in Integers  assuming l in Integers \n",
      "                  condition 0 in Reals \n",
      "                    specializing forall_{a in Naturals} (a in Reals) \n",
      "                      by theorem proveit.number.natural.inReals\n",
      "                    condition 0 in Naturals  proven above\n",
      "                  condition l < 1  assuming (2^(t) * delta) = l \n",
      "                    implication ((2^(t) * delta) < 1) => (l < 1)  assuming (2^(t) * delta) = l \n",
      "                      implication ((2^(t) * delta) = l) => (((2^(t) * delta) < 1) => (l < 1)) \n",
      "                        specializing forall_{P, x, y} ((x = y) => (P(x) => P(y)))  proven above\n",
      "                      hypothesis (2^(t) * delta) = l  assuming (2^(t) * delta) = l \n",
      "                    hypothesis (2^(t) * delta) < 1 \n",
      "                      specializing forall_{x in [0,1)} (x < 1) \n",
      "                        specializing forall_{a, b in Reals} [forall_{x in [a,b)} (x < b)] \n",
      "                          by theorem proveit.number.real.intervalCOUpperBound\n",
      "                        condition 0 in Reals  proven above\n",
      "                        condition 1 in Reals \n",
      "                          specializing forall_{a in NaturalsPos} (a in Reals) \n",
      "                            by theorem proveit.number.natural.inNatPos_inReals\n",
      "                          condition 1 in NaturalsPos \n",
      "                            by theorem proveit.number.natural.oneInNaturalsPos\n",
      "                      condition (2^(t) * delta) in [0,1) \n",
      "                        by theorem proveit.physics.quantum.QPE.scaledDeltaInInterval\n",
      "                  condition 0 < l  assuming l in Integers, l != 0, (2^(t) * delta) = l \n",
      "                    implication ((0 < l) or (0 = l)) => (0 < l)  assuming l in Integers, l != 0 \n",
      "                      specializing forall_{A, B | A in BOOLEANS, not(B)} ((A or B) => A) \n",
      "                        by theorem proveit.basiclogic.boolean.orImpliesLeftIfNotRight\n",
      "                      condition (0 < l) in BOOLEANS \n",
      "                        specializing forall_{a, b} ((a < b) in BOOLEANS) \n",
      "                          by theorem proveit.number.real.lessThanInBools\n",
      "                      condition not(0 = l)  assuming l in Integers, l != 0 \n",
      "                        implication (0 != l) => not(0 = l) \n",
      "                          specializing forall_{x, y} ((x != y) => not(x = y)) \n",
      "                            by theorem proveit.basiclogic.equality.unfoldNotEquals\n",
      "                        hypothesis 0 != l  assuming l != 0 \n",
      "                          implication (l != 0) => (0 != l) \n",
      "                            specializing forall_{x, y} ((x != y) => (y != x)) \n",
      "                              by theorem proveit.basiclogic.equality.notEqualsSymmetry\n",
      "                          hypothesis l != 0  assuming l != 0 \n",
      "                    hypothesis (0 < l) or (0 = l)  assuming l in Integers, (2^(t) * delta) = l \n",
      "                      specializing forall_{x, y in Reals | x <= y} ((x < y) or (x = y)) \n",
      "                        by axiom proveit.number.real.lessThanEqualsDef\n",
      "                      condition 0 <= l  assuming (2^(t) * delta) = l \n",
      "                        implication (0 <= (2^(t) * delta)) => (0 <= l)  assuming (2^(t) * delta) = l \n",
      "                          implication ((2^(t) * delta) = l) => ((0 <= (2^(t) * delta)) => (0 <= l)) \n",
      "                            specializing forall_{P, x, y} ((x = y) => (P(x) => P(y)))  proven above\n",
      "                          hypothesis (2^(t) * delta) = l  assuming (2^(t) * delta) = l  proven above\n",
      "                        hypothesis 0 <= (2^(t) * delta) \n",
      "                          specializing forall_{x in [0,1)} (0 <= x) \n",
      "                            specializing forall_{a, b in Reals} [forall_{x in [a,b)} (a <= x)] \n",
      "                              by theorem proveit.number.real.intervalCOLowerBound\n",
      "                            condition 0 in Reals  proven above\n",
      "                            condition 1 in Reals  proven above\n",
      "                          condition (2^(t) * delta) in [0,1)  proven above\n",
      "                      condition 0 in Reals  proven above\n",
      "                      condition l in Reals  assuming l in Integers  proven above\n",
      "                  condition 1 in Reals  proven above\n",
      "          hypothesis l in Integers  assuming l in Integers  proven above\n",
      "proveit.basiclogic.equality.equalityInBool\n",
      "proveit.number.natural.zeroAddOne\n",
      "proveit.number.real.lessThanEqualsDef\n",
      "proveit.basiclogic.boolean.contradictionFromNegation\n",
      "proveit.basiclogic.boolean.hypotheticalContradiction\n",
      "proveit.basiclogic.boolean.orImpliesLeftIfNotRight\n",
      "proveit.basiclogic.equality.foldNotEquals\n",
      "proveit.basiclogic.equality.notEqualsSymmetry\n",
      "proveit.basiclogic.equality.rhsSubstitution\n",
      "proveit.basiclogic.equality.unfoldNotEquals\n",
      "proveit.basiclogic.set.unfoldNotIn\n",
      "proveit.number.integer.inReals\n",
      "proveit.number.natural.inIntegers\n",
      "proveit.number.natural.inNatPos_inReals\n",
      "proveit.number.natural.inReals\n",
      "proveit.number.natural.oneInNaturalsPos\n",
      "proveit.number.real.betweenSuccessiveInts_notInt\n",
      "proveit.number.real.inIntervalOO\n",
      "proveit.number.real.intervalCOLowerBound\n",
      "proveit.number.real.intervalCOUpperBound\n",
      "proveit.number.real.lessThanInBools\n",
      "proveit.physics.quantum.QPE.scaledDeltaInInterval\n",
      "Number of used axioms: 3\n",
      "Number of used theorms: 19\n",
      "Number of derivation tree nodes: 66\n"
     ]
    },
    {
     "data": {
      "text/plain": [
       "$\\forall_{l \\in \\mathbb{Z}~|~l \\neq 0} \\left(\\left(2^{t} \\cdot \\delta\\right) \\neq l\\right)$"
      ]
     },
     "execution_count": 15,
     "metadata": {},
     "output_type": "execute_result"
    }
   ],
   "source": [
    "ineq.generalize(l, domain=Integers, conditions=[NotEquals(l, zero)]).qed()"
   ]
  },
  {
   "cell_type": "code",
   "execution_count": null,
   "metadata": {
    "collapsed": true
   },
   "outputs": [],
   "source": []
  },
  {
   "cell_type": "code",
   "execution_count": null,
   "metadata": {
    "collapsed": true
   },
   "outputs": [],
   "source": []
  }
 ],
 "metadata": {
  "kernelspec": {
   "display_name": "Python 3",
   "language": "python",
   "name": "python3"
  },
  "language_info": {
   "codemirror_mode": {
    "name": "ipython",
    "version": 3
   },
   "file_extension": ".py",
   "mimetype": "text/x-python",
   "name": "python",
   "nbconvert_exporter": "python",
   "pygments_lexer": "ipython3"
  }
 },
 "nbformat": 4,
 "nbformat_minor": 0
}
