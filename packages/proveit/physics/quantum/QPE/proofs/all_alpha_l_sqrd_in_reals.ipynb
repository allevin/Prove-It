{
 "cells": [
  {
   "cell_type": "code",
   "execution_count": 1,
   "metadata": {
    "collapsed": false
   },
   "outputs": [],
   "source": [
    "from proveit.basiclogic import In\n",
    "from proveit.physics.quantum.QPE.theorems import all_alpha_l_in_complexes\n",
    "from proveit.physics.quantum.QPE.common import l, alpha_l\n",
    "from proveit.number import Abs, Exponentiate\n",
    "from proveit.number.common import two\n",
    "from proveit.number.numberSets import Integers, Reals, deduceInReals"
   ]
  },
  {
   "cell_type": "code",
   "execution_count": 2,
   "metadata": {
    "collapsed": true
   },
   "outputs": [],
   "source": [
    "lInInts = In(l, Integers)"
   ]
  },
  {
   "cell_type": "code",
   "execution_count": 3,
   "metadata": {
    "collapsed": false
   },
   "outputs": [
    {
     "data": {
      "text/latex": [
       "$\\forall_{l \\in \\mathbb{Z}} \\left(\\alpha_{l} \\in \\mathbb{C}\\right)$"
      ],
      "text/plain": [
       "forall_{l in Integers} (alpha_{l} in Complexes)"
      ]
     },
     "execution_count": 3,
     "metadata": {},
     "output_type": "execute_result"
    }
   ],
   "source": [
    "all_alpha_l_in_complexes"
   ]
  },
  {
   "cell_type": "code",
   "execution_count": 4,
   "metadata": {
    "collapsed": false
   },
   "outputs": [
    {
     "data": {
      "text/latex": [
       "$\\alpha_{l} \\in \\mathbb{C}$"
      ],
      "text/plain": [
       "alpha_{l} in Complexes"
      ]
     },
     "execution_count": 4,
     "metadata": {},
     "output_type": "execute_result"
    }
   ],
   "source": [
    "all_alpha_l_in_complexes.specialize().proven({lInInts})"
   ]
  },
  {
   "cell_type": "code",
   "execution_count": 5,
   "metadata": {
    "collapsed": false
   },
   "outputs": [
    {
     "data": {
      "text/latex": [
       "$\\forall_{l \\in \\mathbb{Z}} \\left(\\left|\\alpha_{l}\\right|^{2} \\in \\mathbb{R}\\right)$"
      ],
      "text/plain": [
       "forall_{l in Integers} (|alpha_{l}|^(2) in Reals)"
      ]
     },
     "execution_count": 5,
     "metadata": {},
     "output_type": "execute_result"
    }
   ],
   "source": [
    "deduceInReals(Exponentiate(Abs(alpha_l), two), {lInInts}).generalize(l, domain=Integers).proven()"
   ]
  },
  {
   "cell_type": "code",
   "execution_count": null,
   "metadata": {
    "collapsed": true
   },
   "outputs": [],
   "source": []
  }
 ],
 "metadata": {
  "kernelspec": {
   "display_name": "Python 3",
   "language": "python",
   "name": "python3"
  },
  "language_info": {
   "codemirror_mode": {
    "name": "ipython",
    "version": 3
   },
   "file_extension": ".py",
   "mimetype": "text/x-python",
   "name": "python",
   "nbconvert_exporter": "python",
   "pygments_lexer": "ipython3"
  }
 },
 "nbformat": 4,
 "nbformat_minor": 0
}
