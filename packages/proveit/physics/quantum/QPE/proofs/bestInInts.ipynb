{
 "cells": [
  {
   "cell_type": "code",
   "execution_count": 1,
   "metadata": {
    "collapsed": false
   },
   "outputs": [],
   "source": [
    "from proveit.physics.quantum.QPE.axioms import bestDef, tInNaturalsPos\n",
    "from proveit.physics.quantum.QPE.theorems import bestInInts, phaseInReals"
   ]
  },
  {
   "cell_type": "code",
   "execution_count": 2,
   "metadata": {
    "collapsed": false
   },
   "outputs": [
    {
     "data": {
      "text/latex": [
       "$b \\in \\mathbb{Z}$"
      ],
      "text/plain": [
       "$b \\in \\mathbb{Z}$"
      ]
     },
     "execution_count": 2,
     "metadata": {},
     "output_type": "execute_result"
    }
   ],
   "source": [
    "bestInInts.beginProof()"
   ]
  },
  {
   "cell_type": "code",
   "execution_count": 3,
   "metadata": {
    "collapsed": false
   },
   "outputs": [
    {
     "data": {
      "text/latex": [
       "$b = \\lfloor  \\varphi \\cdot 2^{t} \\rfloor$"
      ],
      "text/plain": [
       "$b = \\lfloor  \\varphi \\cdot 2^{t} \\rfloor$"
      ]
     },
     "execution_count": 3,
     "metadata": {},
     "output_type": "execute_result"
    }
   ],
   "source": [
    "bestDef"
   ]
  },
  {
   "cell_type": "code",
   "execution_count": 4,
   "metadata": {
    "collapsed": false
   },
   "outputs": [
    {
     "data": {
      "text/latex": [
       "$\\lfloor  \\varphi \\cdot 2^{t} \\rfloor \\in \\mathbb{Z}$"
      ],
      "text/plain": [
       "$\\lfloor  \\varphi \\cdot 2^{t} \\rfloor \\in \\mathbb{Z}$"
      ]
     },
     "execution_count": 4,
     "metadata": {},
     "output_type": "execute_result"
    }
   ],
   "source": [
    "bestDefRhsInInts = bestDef.rhs.deduceInIntegers().proven()\n",
    "bestDefRhsInInts"
   ]
  },
  {
   "cell_type": "code",
   "execution_count": 5,
   "metadata": {
    "collapsed": false
   },
   "outputs": [
    {
     "name": "stdout",
     "output_type": "stream",
     "text": [
      "root $b \\in \\mathbb{Z}$ \n",
      "  implication $\\left(\\lfloor  \\varphi \\cdot 2^{t} \\rfloor \\in \\mathbb{Z}\\right) \\Rightarrow \\left(b \\in \\mathbb{Z}\\right)$ \n",
      "    implication $\\left(b = \\lfloor  \\varphi \\cdot 2^{t} \\rfloor\\right) \\Rightarrow \\left(\\left(\\lfloor  \\varphi \\cdot 2^{t} \\rfloor \\in \\mathbb{Z}\\right) \\Rightarrow \\left(b \\in \\mathbb{Z}\\right)\\right)$ \n",
      "      specializing $\\forall_{ P , x , y } \\left(\\left(x = y\\right) \\Rightarrow \\left(P\\left( y \\right) \\Rightarrow P\\left( x \\right)\\right)\\right)$ \n",
      "        by theorem proveit.basiclogic.equality.lhsSubstitution\n",
      "    hypothesis $b = \\lfloor  \\varphi \\cdot 2^{t} \\rfloor$ \n",
      "      by axiom proveit.physics.quantum.QPE.bestDef\n",
      "  hypothesis $\\lfloor  \\varphi \\cdot 2^{t} \\rfloor \\in \\mathbb{Z}$ \n",
      "    specializing $\\forall_{ a  \\in \\mathbb{R}} \\left(\\lfloor a\\rfloor \\in \\mathbb{Z}\\right)$ \n",
      "      by theorem proveit.number.real.floorClosure\n",
      "    condition $\\left( \\varphi \\cdot 2^{t} \\right) \\in \\mathbb{R}$ \n",
      "      specializing $\\forall_{~.., x_{\\Box} ,..~ \\in \\mathbb{R}} \\left(\\left(~..\\cdot x_{\\Box} \\cdot..~\\right) \\in \\mathbb{R}\\right)$ \n",
      "        by theorem proveit.number.real.multClosure\n",
      "      condition $\\varphi \\in \\mathbb{R}$ \n",
      "        by theorem proveit.physics.quantum.QPE.phaseInReals\n",
      "      condition $2^{t} \\in \\mathbb{R}$ \n",
      "        specializing $\\forall_{ a  \\in \\mathbb{N}^+} \\left(a \\in \\mathbb{R}\\right)$ \n",
      "          by theorem proveit.number.natural.inNatPos_inReals\n",
      "        condition $2^{t} \\in \\mathbb{N}^+$ \n",
      "          specializing $\\forall_{ a , b  \\in \\mathbb{N}~|~ \\left(a \\neq 0\\right) } \\left(a^{b} \\in \\mathbb{N}^+\\right)$ \n",
      "            by theorem proveit.number.natural.powClosure\n",
      "          condition $2 \\neq 0$ \n",
      "            specializing $\\forall_{ a  \\in \\mathbb{R}~|~ \\left(a > 0\\right) } \\left(a \\neq 0\\right)$ \n",
      "              by theorem proveit.number.real.positive_implies_notzero\n",
      "            condition $2 \\in \\mathbb{R}$ \n",
      "              specializing $\\forall_{ a  \\in \\mathbb{N}^+} \\left(a \\in \\mathbb{R}\\right)$  proven above\n",
      "              condition $2 \\in \\mathbb{N}^+$ \n",
      "            condition $2 > 0$ \n",
      "              implication $\\left(2 \\in \\mathbb{R}^+\\right) \\Rightarrow \\left(2 > 0\\right)$ \n",
      "                implication $\\left(\\left(2 \\in \\mathbb{R}^+\\right) \\Leftrightarrow \\left(2 > 0\\right)\\right) \\Rightarrow \\left(\\left(2 \\in \\mathbb{R}^+\\right) \\Rightarrow \\left(2 > 0\\right)\\right)$ \n",
      "                  specializing $\\forall_{ A , B } \\left(\\left(A \\Leftrightarrow B\\right) \\Rightarrow \\left(A \\Rightarrow B\\right)\\right)$ \n",
      "                    by theorem proveit.basiclogic.boolean.iffImpliesRight\n",
      "                hypothesis $\\left(2 \\in \\mathbb{R}^+\\right) \\Leftrightarrow \\left(2 > 0\\right)$ \n",
      "                  specializing $\\forall_{ a  \\in \\mathbb{R}} \\left(\\left(a \\in \\mathbb{R}^+\\right) \\Leftrightarrow \\left(a > 0\\right)\\right)$ \n",
      "                    by theorem proveit.number.real.inRealsPos_iff_positive\n",
      "                  condition $2 \\in \\mathbb{R}$  proven above\n",
      "              hypothesis $2 \\in \\mathbb{R}^+$ \n",
      "                specializing $\\forall_{ a  \\in \\mathbb{N}^+} \\left(a \\in \\mathbb{R}^+\\right)$ \n",
      "                  by theorem proveit.number.natural.inNatPos_inRealsPos\n",
      "                condition $2 \\in \\mathbb{N}^+$  proven above\n",
      "          condition $2 \\in \\mathbb{N}$ \n",
      "            specializing $\\forall_{ a  \\in \\mathbb{N}^+} \\left(a \\in \\mathbb{N}\\right)$ \n",
      "              by theorem proveit.number.natural.inNatPos_inNaturals\n",
      "            condition $2 \\in \\mathbb{N}^+$  proven above\n",
      "          condition $t \\in \\mathbb{N}$ \n",
      "            specializing $\\forall_{ a  \\in \\mathbb{N}^+} \\left(a \\in \\mathbb{N}\\right)$  proven above\n",
      "            condition $t \\in \\mathbb{N}^+$ \n",
      "              by axiom proveit.physics.quantum.QPE.tInNaturalsPos\n",
      "proveit.physics.quantum.QPE.bestDef\n",
      "proveit.physics.quantum.QPE.tInNaturalsPos\n",
      "proveit.basiclogic.boolean.iffImpliesRight\n",
      "proveit.basiclogic.equality.lhsSubstitution\n",
      "proveit.number.natural.inNatPos_inNaturals\n",
      "proveit.number.natural.inNatPos_inReals\n",
      "proveit.number.natural.inNatPos_inRealsPos\n",
      "proveit.number.natural.powClosure\n",
      "proveit.number.real.floorClosure\n",
      "proveit.number.real.inRealsPos_iff_positive\n",
      "proveit.number.real.multClosure\n",
      "proveit.number.real.positive_implies_notzero\n",
      "proveit.physics.quantum.QPE.phaseInReals\n",
      "Number of used axioms: 2\n",
      "Number of used theorms: 11\n",
      "Number of derivation tree nodes: 30\n"
     ]
    },
    {
     "data": {
      "text/latex": [
       "$b \\in \\mathbb{Z}$"
      ],
      "text/plain": [
       "$b \\in \\mathbb{Z}$"
      ]
     },
     "execution_count": 5,
     "metadata": {},
     "output_type": "execute_result"
    }
   ],
   "source": [
    "bestDef.subLeftSideInto(bestDefRhsInInts).qed()"
   ]
  },
  {
   "cell_type": "code",
   "execution_count": null,
   "metadata": {
    "collapsed": true
   },
   "outputs": [],
   "source": []
  }
 ],
 "metadata": {
  "kernelspec": {
   "display_name": "Python 3",
   "language": "python",
   "name": "python3"
  },
  "language_info": {
   "codemirror_mode": {
    "name": "ipython",
    "version": 3
   },
   "file_extension": ".py",
   "mimetype": "text/x-python",
   "name": "python",
   "nbconvert_exporter": "python",
   "pygments_lexer": "ipython3"
  }
 },
 "nbformat": 4,
 "nbformat_minor": 0
}
