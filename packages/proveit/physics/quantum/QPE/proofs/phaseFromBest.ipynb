{
 "cells": [
  {
   "cell_type": "code",
   "execution_count": 1,
   "metadata": {
    "collapsed": false
   },
   "outputs": [],
   "source": [
    "from proveit.basiclogic import autoSubstitute\n",
    "from proveit.physics.quantum.QPE.axioms import deltaDef\n",
    "from proveit.physics.quantum.QPE.theorems import phaseFromBest, two_pow_t_in_posnats, bestInInts, phaseInReals\n",
    "from proveit.physics.quantum.QPE.common import phase_\n",
    "from proveit.common import a, b, X\n",
    "from proveit.number import Add\n",
    "from proveit.number.numberSets import deduceInComplexes\n",
    "from proveit.number.complex.theorems import cancelSubThenAdd"
   ]
  },
  {
   "cell_type": "code",
   "execution_count": 2,
   "metadata": {
    "collapsed": false
   },
   "outputs": [
    {
     "data": {
      "text/latex": [
       "$\\varphi = \\left(\\frac{b}{2^{t}} + \\delta\\right)$"
      ],
      "text/plain": [
       "$\\varphi = \\left(\\frac{b}{2^{t}} + \\delta\\right)$"
      ]
     },
     "execution_count": 2,
     "metadata": {},
     "output_type": "execute_result"
    }
   ],
   "source": [
    "phaseFromBest.beginProof()"
   ]
  },
  {
   "cell_type": "code",
   "execution_count": 3,
   "metadata": {
    "collapsed": false
   },
   "outputs": [
    {
     "data": {
      "text/latex": [
       "$\\delta = \\left(\\varphi - \\frac{b}{2^{t}}\\right)$"
      ],
      "text/plain": [
       "$\\delta = \\left(\\varphi - \\frac{b}{2^{t}}\\right)$"
      ]
     },
     "execution_count": 3,
     "metadata": {},
     "output_type": "execute_result"
    }
   ],
   "source": [
    "deltaDef"
   ]
  },
  {
   "cell_type": "code",
   "execution_count": 4,
   "metadata": {
    "collapsed": false
   },
   "outputs": [
    {
     "data": {
      "text/latex": [
       "$\\frac{b}{2^{t}}$"
      ],
      "text/plain": [
       "$\\frac{b}{2^{t}}$"
      ]
     },
     "execution_count": 4,
     "metadata": {},
     "output_type": "execute_result"
    }
   ],
   "source": [
    "b_term = deltaDef.rhs.operands[1]\n",
    "b_term"
   ]
  },
  {
   "cell_type": "code",
   "execution_count": 5,
   "metadata": {
    "collapsed": false
   },
   "outputs": [
    {
     "data": {
      "text/latex": [
       "$\\left(\\frac{b}{2^{t}} + \\delta\\right) = \\left(\\frac{b}{2^{t}} + \\left(\\varphi - \\frac{b}{2^{t}}\\right)\\right)$"
      ],
      "text/plain": [
       "$\\left(\\frac{b}{2^{t}} + \\delta\\right) = \\left(\\frac{b}{2^{t}} + \\left(\\varphi - \\frac{b}{2^{t}}\\right)\\right)$"
      ]
     },
     "execution_count": 5,
     "metadata": {},
     "output_type": "execute_result"
    }
   ],
   "source": [
    "X0 = deltaDef.substitution(Add(b_term, X), X)\n",
    "X0.proven()"
   ]
  },
  {
   "cell_type": "code",
   "execution_count": 6,
   "metadata": {
    "collapsed": false
   },
   "outputs": [
    {
     "data": {
      "text/latex": [
       "$\\left(\\frac{b}{2^{t}} + \\delta\\right) = \\left(\\left(\\varphi - \\frac{b}{2^{t}}\\right) + \\frac{b}{2^{t}}\\right)$"
      ],
      "text/plain": [
       "$\\left(\\frac{b}{2^{t}} + \\delta\\right) = \\left(\\left(\\varphi - \\frac{b}{2^{t}}\\right) + \\frac{b}{2^{t}}\\right)$"
      ]
     },
     "execution_count": 6,
     "metadata": {},
     "output_type": "execute_result"
    }
   ],
   "source": [
    "X1 = autoSubstitute(X0, 'commute', [], superExpr=X0.rhs)\n",
    "X1.proven()"
   ]
  },
  {
   "cell_type": "code",
   "execution_count": 7,
   "metadata": {
    "collapsed": false
   },
   "outputs": [
    {
     "data": {
      "text/latex": [
       "$\\forall_{a, b \\in \\mathbb{C}} \\left(\\left(\\left(a - b\\right) + b\\right) = a\\right)$"
      ],
      "text/plain": [
       "$\\forall_{a, b \\in \\mathbb{C}} \\left(\\left(\\left(a - b\\right) + b\\right) = a\\right)$"
      ]
     },
     "execution_count": 7,
     "metadata": {},
     "output_type": "execute_result"
    }
   ],
   "source": [
    "cancelSubThenAdd"
   ]
  },
  {
   "cell_type": "code",
   "execution_count": 8,
   "metadata": {
    "collapsed": false
   },
   "outputs": [
    {
     "data": {
      "text/latex": [
       "$\\left(\\left(\\varphi - \\frac{b}{2^{t}}\\right) + \\frac{b}{2^{t}}\\right) = \\varphi$"
      ],
      "text/plain": [
       "$\\left(\\left(\\varphi - \\frac{b}{2^{t}}\\right) + \\frac{b}{2^{t}}\\right) = \\varphi$"
      ]
     },
     "execution_count": 8,
     "metadata": {},
     "output_type": "execute_result"
    }
   ],
   "source": [
    "deduceInComplexes(phase_)\n",
    "deduceInComplexes(b_term)\n",
    "X2 = cancelSubThenAdd.specialize({a:phase_, b:b_term})\n",
    "X2.proven()"
   ]
  },
  {
   "cell_type": "code",
   "execution_count": 9,
   "metadata": {
    "collapsed": false
   },
   "outputs": [
    {
     "data": {
      "text/latex": [
       "$\\left(\\frac{b}{2^{t}} + \\delta\\right) = \\varphi$"
      ],
      "text/plain": [
       "$\\left(\\frac{b}{2^{t}} + \\delta\\right) = \\varphi$"
      ]
     },
     "execution_count": 9,
     "metadata": {},
     "output_type": "execute_result"
    }
   ],
   "source": [
    "X3 = X1.applyTransitivity(X2)\n",
    "X3.proven()"
   ]
  },
  {
   "cell_type": "code",
   "execution_count": 10,
   "metadata": {
    "collapsed": false
   },
   "outputs": [
    {
     "name": "stdout",
     "output_type": "stream",
     "text": [
      "root phase = (b / 2^(t) + delta) \n",
      "  implication ((b / 2^(t) + delta) = phase) => (phase = (b / 2^(t) + delta)) \n",
      "    specializing forall_{x, y} ((x = y) => (y = x)) \n",
      "      by axiom proveit.basiclogic.equality.equalsSymmetry\n",
      "  hypothesis (b / 2^(t) + delta) = phase \n",
      "    implication (((phase - b / 2^(t)) + b / 2^(t)) = phase) => ((b / 2^(t) + delta) = phase) \n",
      "      implication ((b / 2^(t) + delta) = ((phase - b / 2^(t)) + b / 2^(t))) => ((((phase - b / 2^(t)) + b / 2^(t)) = phase) => ((b / 2^(t) + delta) = phase)) \n",
      "        specializing forall_{x, y, z} ((x = y) => ((y = z) => (x = z))) \n",
      "          by axiom proveit.basiclogic.equality.equalsTransitivity\n",
      "      hypothesis (b / 2^(t) + delta) = ((phase - b / 2^(t)) + b / 2^(t)) \n",
      "        implication ((b / 2^(t) + delta) = (b / 2^(t) + (phase - b / 2^(t)))) => ((b / 2^(t) + delta) = ((phase - b / 2^(t)) + b / 2^(t))) \n",
      "          implication ((b / 2^(t) + (phase - b / 2^(t))) = ((phase - b / 2^(t)) + b / 2^(t))) => (((b / 2^(t) + delta) = (b / 2^(t) + (phase - b / 2^(t)))) => ((b / 2^(t) + delta) = ((phase - b / 2^(t)) + b / 2^(t)))) \n",
      "            specializing forall_{P, x, y} ((x = y) => (P(x) => P(y))) \n",
      "              by theorem proveit.basiclogic.equality.rhsSubstitution\n",
      "          hypothesis (b / 2^(t) + (phase - b / 2^(t))) = ((phase - b / 2^(t)) + b / 2^(t)) \n",
      "            specializing forall_{..v.., ..w.., ..x.., ..y.., ..z.. in Complexes} (( .. + v + ... + w + ... + x + ... + y + ... + z + .. ) = ( .. + v + ... + y + ... + x + ... + w + ... + z + .. )) \n",
      "              by theorem proveit.number.complex.addComm\n",
      "            condition b / 2^(t) in Complexes \n",
      "              specializing forall_{a in Reals} (a in Complexes) \n",
      "                by theorem proveit.number.real.inComplexes\n",
      "              condition b / 2^(t) in Reals \n",
      "                specializing forall_{a, b in Reals | b != 0} (a / b in Reals) \n",
      "                  by theorem proveit.number.real.fractionClosure\n",
      "                condition 2^(t) != 0 \n",
      "                  specializing forall_{a in Reals | a > 0} (a != 0) \n",
      "                    by theorem proveit.number.real.positive_implies_notzero\n",
      "                  condition 2^(t) > 0 \n",
      "                    implication (2^(t) in RealsPos) => (2^(t) > 0) \n",
      "                      implication ((2^(t) in RealsPos) <=> (2^(t) > 0)) => ((2^(t) in RealsPos) => (2^(t) > 0)) \n",
      "                        specializing forall_{A, B} ((A <=> B) => (A => B)) \n",
      "                          by theorem proveit.basiclogic.boolean.iffImpliesRight\n",
      "                      hypothesis (2^(t) in RealsPos) <=> (2^(t) > 0) \n",
      "                        specializing forall_{a in Reals} ((a in RealsPos) <=> (a > 0)) \n",
      "                          by theorem proveit.number.real.inRealsPos_iff_positive\n",
      "                        condition 2^(t) in Reals \n",
      "                          specializing forall_{a in NaturalsPos} (a in Reals) \n",
      "                            by theorem proveit.number.natural.inNatPos_inReals\n",
      "                          condition 2^(t) in NaturalsPos \n",
      "                            by theorem proveit.physics.quantum.QPE.two_pow_t_in_posnats\n",
      "                    hypothesis 2^(t) in RealsPos \n",
      "                      specializing forall_{a in NaturalsPos} (a in RealsPos) \n",
      "                        by theorem proveit.number.natural.inNatPos_inRealsPos\n",
      "                      condition 2^(t) in NaturalsPos  proven above\n",
      "                  condition 2^(t) in Reals  proven above\n",
      "                condition 2^(t) in Reals  proven above\n",
      "                condition b in Reals \n",
      "                  specializing forall_{a in Integers} (a in Reals) \n",
      "                    by theorem proveit.number.integer.inReals\n",
      "                  condition b in Integers \n",
      "                    by theorem proveit.physics.quantum.QPE.bestInInts\n",
      "            condition (phase - b / 2^(t)) in Complexes \n",
      "              specializing forall_{a in Reals} (a in Complexes)  proven above\n",
      "              condition (phase - b / 2^(t)) in Reals \n",
      "                specializing forall_{a, b in Reals} ((a - b) in Reals) \n",
      "                  by theorem proveit.number.real.subtractClosure\n",
      "                condition b / 2^(t) in Reals  proven above\n",
      "                condition phase in Reals \n",
      "                  by theorem proveit.physics.quantum.QPE.phaseInReals\n",
      "        hypothesis (b / 2^(t) + delta) = (b / 2^(t) + (phase - b / 2^(t))) \n",
      "          implication (delta = (phase - b / 2^(t))) => ((b / 2^(t) + delta) = (b / 2^(t) + (phase - b / 2^(t)))) \n",
      "            specializing forall_{f, x, y} ((x = y) => (f(x) = f(y))) \n",
      "              by axiom proveit.basiclogic.equality.substitution\n",
      "          hypothesis delta = (phase - b / 2^(t)) \n",
      "            by axiom proveit.physics.quantum.QPE.deltaDef\n",
      "    hypothesis ((phase - b / 2^(t)) + b / 2^(t)) = phase \n",
      "      specializing forall_{a, b in Complexes} (((a - b) + b) = a) \n",
      "        by theorem proveit.number.complex.cancelSubThenAdd\n",
      "      condition phase in Complexes \n",
      "        specializing forall_{a in Reals} (a in Complexes)  proven above\n",
      "        condition phase in Reals  proven above\n",
      "      condition b / 2^(t) in Complexes  proven above\n",
      "proveit.basiclogic.equality.equalsSymmetry\n",
      "proveit.basiclogic.equality.equalsTransitivity\n",
      "proveit.basiclogic.equality.substitution\n",
      "proveit.physics.quantum.QPE.deltaDef\n",
      "proveit.basiclogic.boolean.iffImpliesRight\n",
      "proveit.basiclogic.equality.rhsSubstitution\n",
      "proveit.number.complex.addComm\n",
      "proveit.number.complex.cancelSubThenAdd\n",
      "proveit.number.integer.inReals\n",
      "proveit.number.natural.inNatPos_inReals\n",
      "proveit.number.natural.inNatPos_inRealsPos\n",
      "proveit.number.real.fractionClosure\n",
      "proveit.number.real.inComplexes\n",
      "proveit.number.real.inRealsPos_iff_positive\n",
      "proveit.number.real.positive_implies_notzero\n",
      "proveit.number.real.subtractClosure\n",
      "proveit.physics.quantum.QPE.bestInInts\n",
      "proveit.physics.quantum.QPE.phaseInReals\n",
      "proveit.physics.quantum.QPE.two_pow_t_in_posnats\n",
      "Number of used axioms: 4\n",
      "Number of used theorms: 15\n",
      "Number of derivation tree nodes: 44\n"
     ]
    },
    {
     "data": {
      "text/latex": [
       "$\\varphi = \\left(\\frac{b}{2^{t}} + \\delta\\right)$"
      ],
      "text/plain": [
       "$\\varphi = \\left(\\frac{b}{2^{t}} + \\delta\\right)$"
      ]
     },
     "execution_count": 10,
     "metadata": {},
     "output_type": "execute_result"
    }
   ],
   "source": [
    "X3.deriveReversed().qed()"
   ]
  },
  {
   "cell_type": "code",
   "execution_count": null,
   "metadata": {
    "collapsed": true
   },
   "outputs": [],
   "source": []
  }
 ],
 "metadata": {
  "kernelspec": {
   "display_name": "Python 3",
   "language": "python",
   "name": "python3"
  },
  "language_info": {
   "codemirror_mode": {
    "name": "ipython",
    "version": 3
   },
   "file_extension": ".py",
   "mimetype": "text/x-python",
   "name": "python",
   "nbconvert_exporter": "python",
   "pygments_lexer": "ipython3"
  }
 },
 "nbformat": 4,
 "nbformat_minor": 0
}
