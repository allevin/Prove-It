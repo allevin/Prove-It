{
 "cells": [
  {
   "cell_type": "code",
   "execution_count": 1,
   "metadata": {
    "collapsed": true
   },
   "outputs": [],
   "source": [
    "from proveit.basiclogic import In\n",
    "from proveit.physics.quantum.QPE.axioms import modAddDef\n",
    "from proveit.physics.quantum.QPE.theorems import modAddClosure, two_pow_t_in_posnats\n",
    "from proveit.number.numberSets import Integers, deduceInIntegers\n",
    "from proveit.number.common import a, b"
   ]
  },
  {
   "cell_type": "code",
   "execution_count": null,
   "metadata": {
    "collapsed": true
   },
   "outputs": [],
   "source": [
    "modAddClosure.beginProof()"
   ]
  },
  {
   "cell_type": "code",
   "execution_count": 2,
   "metadata": {
    "collapsed": true
   },
   "outputs": [],
   "source": [
    "assumptions = {In(a, Integers), In(b, Integers)}"
   ]
  },
  {
   "cell_type": "code",
   "execution_count": 3,
   "metadata": {
    "collapsed": false
   },
   "outputs": [
    {
     "data": {
      "text/latex": [
       "$\\left(a \\oplus b\\right) = \\left(\\left(a + b\\right) ~\\rm{mod}~ 2^{t}\\right)$"
      ],
      "text/plain": [
       "(a MOD_ADD b) = ((a + b) mod 2^(t))"
      ]
     },
     "execution_count": 3,
     "metadata": {},
     "output_type": "execute_result"
    }
   ],
   "source": [
    "modAddDefSpec = modAddDef.specialize()\n",
    "modAddDefSpec"
   ]
  },
  {
   "cell_type": "code",
   "execution_count": 4,
   "metadata": {
    "collapsed": false
   },
   "outputs": [
    {
     "data": {
      "text/latex": [
       "$\\left(\\left(a + b\\right) ~\\rm{mod}~ 2^{t}\\right) \\in \\mathbb{Z}$"
      ],
      "text/plain": [
       "((a + b) mod 2^(t)) in Integers"
      ]
     },
     "execution_count": 4,
     "metadata": {},
     "output_type": "execute_result"
    }
   ],
   "source": [
    "moduloInIntegers = deduceInIntegers(modAddDefSpec.rhs, assumptions)\n",
    "moduloInIntegers.proven(assumptions)"
   ]
  },
  {
   "cell_type": "code",
   "execution_count": 5,
   "metadata": {
    "collapsed": false
   },
   "outputs": [
    {
     "data": {
      "text/latex": [
       "$\\left(a \\oplus b\\right) \\in \\mathbb{Z}$"
      ],
      "text/plain": [
       "(a MOD_ADD b) in Integers"
      ]
     },
     "execution_count": 5,
     "metadata": {},
     "output_type": "execute_result"
    }
   ],
   "source": [
    "modAddInIntegers = modAddDefSpec.subLeftSideInto(moduloInIntegers).proven(assumptions)\n",
    "modAddInIntegers"
   ]
  },
  {
   "cell_type": "code",
   "execution_count": 6,
   "metadata": {
    "collapsed": false
   },
   "outputs": [
    {
     "data": {
      "text/latex": [
       "$\\forall_{a, b \\in \\mathbb{Z}} \\left(\\left(a \\oplus b\\right) \\in \\mathbb{Z}\\right)$"
      ],
      "text/plain": [
       "forall_{a, b in Integers} ((a MOD_ADD b) in Integers)"
      ]
     },
     "execution_count": 6,
     "metadata": {},
     "output_type": "execute_result"
    }
   ],
   "source": [
    "modAddInIntegers.generalize((a, b), domain=Integers).qed()"
   ]
  },
  {
   "cell_type": "code",
   "execution_count": null,
   "metadata": {
    "collapsed": true
   },
   "outputs": [],
   "source": []
  }
 ],
 "metadata": {
  "kernelspec": {
   "display_name": "Python 3",
   "language": "python",
   "name": "python3"
  },
  "language_info": {
   "codemirror_mode": {
    "name": "ipython",
    "version": 3
   },
   "file_extension": ".py",
   "mimetype": "text/x-python",
   "name": "python",
   "nbconvert_exporter": "python",
   "pygments_lexer": "ipython3"
  }
 },
 "nbformat": 4,
 "nbformat_minor": 0
}
