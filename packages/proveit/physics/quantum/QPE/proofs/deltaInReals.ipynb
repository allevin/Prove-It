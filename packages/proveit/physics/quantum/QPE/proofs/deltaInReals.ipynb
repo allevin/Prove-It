{
 "cells": [
  {
   "cell_type": "code",
   "execution_count": 1,
   "metadata": {
    "collapsed": true
   },
   "outputs": [],
   "source": [
    "from proveit.physics.quantum.QPE.axioms import deltaDef\n",
    "from proveit.physics.quantum.QPE.theorems import deltaInReals, phaseInReals, bestInInts, two_pow_t_in_posnats\n",
    "from proveit.number.numberSets import deduceInReals\n"
   ]
  },
  {
   "cell_type": "code",
   "execution_count": 2,
   "metadata": {
    "collapsed": false
   },
   "outputs": [
    {
     "data": {
      "text/plain": [
       "$\\delta \\in \\mathbb{R}$"
      ]
     },
     "execution_count": 2,
     "metadata": {},
     "output_type": "execute_result"
    }
   ],
   "source": [
    "deltaInReals.beginProof()"
   ]
  },
  {
   "cell_type": "code",
   "execution_count": 3,
   "metadata": {
    "collapsed": false
   },
   "outputs": [
    {
     "data": {
      "text/plain": [
       "$\\left(\\varphi - \\frac{b}{2^{t}}\\right) \\in \\mathbb{R}$"
      ]
     },
     "execution_count": 3,
     "metadata": {},
     "output_type": "execute_result"
    }
   ],
   "source": [
    "rhsInReals = deduceInReals(deltaDef.rhs)\n",
    "rhsInReals"
   ]
  },
  {
   "cell_type": "code",
   "execution_count": 4,
   "metadata": {
    "collapsed": false
   },
   "outputs": [
    {
     "name": "stdout",
     "output_type": "stream",
     "text": [
      "root delta in Reals \n",
      "  implication ((phase - b / 2^(t)) in Reals) => (delta in Reals) \n",
      "    implication (delta = (phase - b / 2^(t))) => (((phase - b / 2^(t)) in Reals) => (delta in Reals)) \n",
      "      specializing forall_{P, x, y} ((x = y) => (P(y) => P(x))) \n",
      "        by theorem proveit.basiclogic.equality.lhsSubstitution\n",
      "    hypothesis delta = (phase - b / 2^(t)) \n",
      "      by axiom proveit.physics.quantum.QPE.deltaDef\n",
      "  hypothesis (phase - b / 2^(t)) in Reals \n",
      "    specializing forall_{a, b in Reals} ((a - b) in Reals) \n",
      "      by theorem proveit.number.real.subtractClosure\n",
      "    condition b / 2^(t) in Reals \n",
      "      specializing forall_{a, b in Reals | b != 0} (a / b in Reals) \n",
      "        by theorem proveit.number.real.fractionClosure\n",
      "      condition 2^(t) != 0 \n",
      "        specializing forall_{a in Reals | a > 0} (a != 0) \n",
      "          by theorem proveit.number.real.positive_implies_notzero\n",
      "        condition 2^(t) > 0 \n",
      "          implication (2^(t) in RealsPos) => (2^(t) > 0) \n",
      "            implication ((2^(t) in RealsPos) <=> (2^(t) > 0)) => ((2^(t) in RealsPos) => (2^(t) > 0)) \n",
      "              specializing forall_{A, B} ((A <=> B) => (A => B)) \n",
      "                by theorem proveit.basiclogic.boolean.iffImpliesRight\n",
      "            hypothesis (2^(t) in RealsPos) <=> (2^(t) > 0) \n",
      "              specializing forall_{a in Reals} ((a in RealsPos) <=> (a > 0)) \n",
      "                by theorem proveit.number.real.inRealsPos_iff_positive\n",
      "              condition 2^(t) in Reals \n",
      "                specializing forall_{a in NaturalsPos} (a in Reals) \n",
      "                  by theorem proveit.number.natural.inNatPos_inReals\n",
      "                condition 2^(t) in NaturalsPos \n",
      "                  by theorem proveit.physics.quantum.QPE.two_pow_t_in_posnats\n",
      "          hypothesis 2^(t) in RealsPos \n",
      "            specializing forall_{a in NaturalsPos} (a in RealsPos) \n",
      "              by theorem proveit.number.natural.inNatPos_inRealsPos\n",
      "            condition 2^(t) in NaturalsPos  proven above\n",
      "        condition 2^(t) in Reals  proven above\n",
      "      condition b in Reals \n",
      "        specializing forall_{a in Integers} (a in Reals) \n",
      "          by theorem proveit.number.integer.inReals\n",
      "        condition b in Integers \n",
      "          by theorem proveit.physics.quantum.QPE.bestInInts\n",
      "      condition 2^(t) in Reals  proven above\n",
      "    condition phase in Reals \n",
      "      by theorem proveit.physics.quantum.QPE.phaseInReals\n",
      "proveit.physics.quantum.QPE.deltaDef\n",
      "proveit.basiclogic.boolean.iffImpliesRight\n",
      "proveit.basiclogic.equality.lhsSubstitution\n",
      "proveit.number.integer.inReals\n",
      "proveit.number.natural.inNatPos_inReals\n",
      "proveit.number.natural.inNatPos_inRealsPos\n",
      "proveit.number.real.fractionClosure\n",
      "proveit.number.real.inRealsPos_iff_positive\n",
      "proveit.number.real.positive_implies_notzero\n",
      "proveit.number.real.subtractClosure\n",
      "proveit.physics.quantum.QPE.bestInInts\n",
      "proveit.physics.quantum.QPE.phaseInReals\n",
      "proveit.physics.quantum.QPE.two_pow_t_in_posnats\n",
      "Number of used axioms: 1\n",
      "Number of used theorms: 12\n",
      "Number of derivation tree nodes: 26\n"
     ]
    },
    {
     "data": {
      "text/plain": [
       "$\\delta \\in \\mathbb{R}$"
      ]
     },
     "execution_count": 4,
     "metadata": {},
     "output_type": "execute_result"
    }
   ],
   "source": [
    "deltaDef.subLeftSideInto(rhsInReals).qed()"
   ]
  },
  {
   "cell_type": "code",
   "execution_count": null,
   "metadata": {
    "collapsed": true
   },
   "outputs": [],
   "source": []
  }
 ],
 "metadata": {
  "kernelspec": {
   "display_name": "Python 3",
   "language": "python",
   "name": "python3"
  },
  "language_info": {
   "codemirror_mode": {
    "name": "ipython",
    "version": 3
   },
   "file_extension": ".py",
   "mimetype": "text/x-python",
   "name": "python",
   "nbconvert_exporter": "python",
   "pygments_lexer": "ipython3"
  }
 },
 "nbformat": 4,
 "nbformat_minor": 0
}
