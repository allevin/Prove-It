{
 "cells": [
  {
   "cell_type": "code",
   "execution_count": 1,
   "metadata": {
    "collapsed": false
   },
   "outputs": [],
   "source": [
    "from proveit.basiclogic import autoSubstitute, autoSubstitution, In, Equation, extractSubExpr\n",
    "from proveit.common import a, b, k, l, r, x\n",
    "from proveit.number import Exponentiate, Add, Subtract, Multiply, Summation\n",
    "from proveit.number.numberSets import deducePositive, deduceInComplexes\n",
    "from proveit.number.common import Complexes, Integers, one, two, pi, i, e\n",
    "from proveit.physics.quantum.QPE.axioms import tInNaturalsPos, modAddDef\n",
    "from proveit.physics.quantum.QPE.theorems import alpha_l_summed, phaseInReals, deltaInReals\n",
    "from proveit.physics.quantum.QPE.theorems import alpha_l_eval, bestInInts, phaseFromBest, two_pow_t_less_one_in_posnats\n",
    "from proveit.physics.quantum.QPE.common import t_, b_, two_pow_t, phase_, delta_\n",
    "from proveit.physics.quantum.QPE.phaseEstOps import ModAdd\n",
    "from proveit.trigonometry.theorems import exp_neg2pi_i_x"
   ]
  },
  {
   "cell_type": "code",
   "execution_count": 2,
   "metadata": {
    "collapsed": false
   },
   "outputs": [
    {
     "data": {
      "text/plain": [
       "$\\forall_{ l  \\in \\mathbb{Z}} \\left(\\alpha_{l} = \\left( \\frac{1}{2^{t}} \\cdot \\frac{1 - \\left(e^{ 2 \\cdot \\pi \\cdot i \\cdot \\left(\\left( \\left(2^{t}\\right) \\cdot \\delta \\right) - l\\right) }\\right)}{1 - \\left(e^{ 2 \\cdot \\pi \\cdot i \\cdot \\left(\\delta - \\frac{l}{2^{t}}\\right) }\\right)} \\right)\\right)$"
      ]
     },
     "execution_count": 2,
     "metadata": {},
     "output_type": "execute_result"
    }
   ],
   "source": [
    "alpha_l_summed.beginProof()"
   ]
  },
  {
   "cell_type": "code",
   "execution_count": 3,
   "metadata": {
    "collapsed": false
   },
   "outputs": [
    {
     "data": {
      "text/plain": [
       "$\\alpha_{l} = \\left( \\frac{1}{2^{t}} \\cdot \\left(\\sum_{k=0}^{\\left(2^{t}\\right) - 1} \\left( \\left(e^{\\frac{-\\left( 2 \\cdot \\pi \\cdot i \\cdot k \\cdot \\left(b \\oplus l\\right) \\right)}{2^{t}}}\\right) \\cdot \\left(e^{ 2 \\cdot \\pi \\cdot i \\cdot \\varphi \\cdot k }\\right) \\right)\\right) \\right)$"
      ]
     },
     "execution_count": 3,
     "metadata": {},
     "output_type": "execute_result"
    }
   ],
   "source": [
    "alpha_l_eq1 = alpha_l_eval.specialize()\n",
    "alpha_l_eq1"
   ]
  },
  {
   "cell_type": "code",
   "execution_count": 4,
   "metadata": {
    "collapsed": false
   },
   "outputs": [
    {
     "data": {
      "text/plain": [
       "$\\sum_{k=0}^{\\left(2^{t}\\right) - 1}  \\left(e^{\\frac{-\\left( 2 \\cdot \\pi \\cdot i \\cdot k \\cdot \\left(b \\oplus l\\right) \\right)}{2^{t}}}\\right) \\cdot \\left(e^{ 2 \\cdot \\pi \\cdot i \\cdot \\varphi \\cdot k }\\right) $"
      ]
     },
     "execution_count": 4,
     "metadata": {},
     "output_type": "execute_result"
    }
   ],
   "source": [
    "alpha_l_summation = alpha_l_eq1.rhs.operands[1]\n",
    "alpha_l_summation"
   ]
  },
  {
   "cell_type": "code",
   "execution_count": 5,
   "metadata": {
    "collapsed": false
   },
   "outputs": [
    {
     "data": {
      "text/plain": [
       "$\\{0\\ldots \\left(2^{t}\\right) - 1\\}$"
      ]
     },
     "execution_count": 5,
     "metadata": {},
     "output_type": "execute_result"
    }
   ],
   "source": [
    "kDomain = alpha_l_summation.domain\n",
    "kDomain"
   ]
  },
  {
   "cell_type": "code",
   "execution_count": 6,
   "metadata": {
    "collapsed": false
   },
   "outputs": [
    {
     "data": {
      "text/plain": [
       "$k \\in \\mathbb{Z}$"
      ]
     },
     "execution_count": 6,
     "metadata": {},
     "output_type": "execute_result"
    }
   ],
   "source": [
    "assumptions = {In(k, kDomain), In(l, Integers)}\n",
    "kDomain.deduceMemberInIntegers(k, assumptions=assumptions).proven(assumptions)"
   ]
  },
  {
   "cell_type": "code",
   "execution_count": 7,
   "metadata": {
    "collapsed": true
   },
   "outputs": [],
   "source": [
    "equation = Equation()"
   ]
  },
  {
   "cell_type": "code",
   "execution_count": 8,
   "metadata": {
    "collapsed": false
   },
   "outputs": [
    {
     "data": {
      "text/plain": [
       "$\\left( \\left(e^{\\frac{-\\left( 2 \\cdot \\pi \\cdot i \\cdot k \\cdot \\left(b \\oplus l\\right) \\right)}{2^{t}}}\\right) \\cdot \\left(e^{ 2 \\cdot \\pi \\cdot i \\cdot \\varphi \\cdot k }\\right) \\right) = \\left( \\left(\\left(\\left(e^{\\frac{-\\left( 2 \\cdot \\pi \\cdot i \\cdot \\left(b \\oplus l\\right) \\right)}{2^{t}}}\\right)\\right)^{k}\\right) \\cdot \\left(e^{ 2 \\cdot \\pi \\cdot i \\cdot \\varphi \\cdot k }\\right) \\right)$"
      ]
     },
     "execution_count": 8,
     "metadata": {},
     "output_type": "execute_result"
    }
   ],
   "source": [
    "equation.update(autoSubstitution(alpha_l_summation.instanceExpr, 'raiseExpFactor', [k], \n",
    "                                 {'assumptions':assumptions}, subExprClass=Exponentiate,\n",
    "                                 suppressWarnings=True)).proven(assumptions)"
   ]
  },
  {
   "cell_type": "code",
   "execution_count": 9,
   "metadata": {
    "collapsed": false
   },
   "outputs": [
    {
     "data": {
      "text/plain": [
       "$\\left( \\left(e^{\\frac{-\\left( 2 \\cdot \\pi \\cdot i \\cdot k \\cdot \\left(b \\oplus l\\right) \\right)}{2^{t}}}\\right) \\cdot \\left(e^{ 2 \\cdot \\pi \\cdot i \\cdot \\varphi \\cdot k }\\right) \\right) = \\left( \\left(\\left(\\left(e^{\\frac{-\\left( 2 \\cdot \\pi \\cdot i \\cdot \\left(b \\oplus l\\right) \\right)}{2^{t}}}\\right)\\right)^{k}\\right) \\cdot \\left(\\left(\\left(e^{ 2 \\cdot \\pi \\cdot i \\cdot \\varphi }\\right)\\right)^{k}\\right) \\right)$"
      ]
     },
     "execution_count": 9,
     "metadata": {},
     "output_type": "execute_result"
    }
   ],
   "source": [
    "equation.update(autoSubstitution(equation.eqExpr.rhs, 'raiseExpFactor', [k], {'assumptions':assumptions}, \n",
    "                        subExprClass=Exponentiate, suppressWarnings=True)).proven(assumptions)"
   ]
  },
  {
   "cell_type": "code",
   "execution_count": 10,
   "metadata": {
    "collapsed": false
   },
   "outputs": [
    {
     "data": {
      "text/plain": [
       "$\\left(b \\oplus l\\right) = \\left(\\left( b + l \\right) ~\\rm{mod}~ \\left(2^{t}\\right)\\right)$"
      ]
     },
     "execution_count": 10,
     "metadata": {},
     "output_type": "execute_result"
    }
   ],
   "source": [
    "modAddDefSpec = modAddDef.specialize({a:b_, b:l})\n",
    "modAddDefSpec"
   ]
  },
  {
   "cell_type": "code",
   "execution_count": 11,
   "metadata": {
    "collapsed": false
   },
   "outputs": [
    {
     "data": {
      "text/plain": [
       "$\\left( \\left(e^{\\frac{-\\left( 2 \\cdot \\pi \\cdot i \\cdot k \\cdot \\left(b \\oplus l\\right) \\right)}{2^{t}}}\\right) \\cdot \\left(e^{ 2 \\cdot \\pi \\cdot i \\cdot \\varphi \\cdot k }\\right) \\right) = \\left( \\left(\\left(\\left(e^{\\frac{-\\left( 2 \\cdot \\pi \\cdot i \\cdot \\left(\\left( b + l \\right) ~\\rm{mod}~ \\left(2^{t}\\right)\\right) \\right)}{2^{t}}}\\right)\\right)^{k}\\right) \\cdot \\left(\\left(\\left(e^{ 2 \\cdot \\pi \\cdot i \\cdot \\varphi }\\right)\\right)^{k}\\right) \\right)$"
      ]
     },
     "execution_count": 11,
     "metadata": {},
     "output_type": "execute_result"
    }
   ],
   "source": [
    "equation.update(modAddDefSpec.substitution(equation.eqExpr.rhs)).proven(assumptions)"
   ]
  },
  {
   "cell_type": "code",
   "execution_count": 12,
   "metadata": {
    "collapsed": false
   },
   "outputs": [
    {
     "data": {
      "text/plain": [
       "$\\left(e^{\\frac{-\\left( 2 \\cdot \\pi \\cdot i \\cdot \\left(\\left( b + l \\right) ~\\rm{mod}~ \\left(2^{t}\\right)\\right) \\right)}{2^{t}}}\\right) = \\left(e^{\\frac{-\\left( 2 \\cdot \\pi \\cdot i \\cdot \\left( b + l \\right) \\right)}{2^{t}}}\\right)$"
      ]
     },
     "execution_count": 12,
     "metadata": {},
     "output_type": "execute_result"
    }
   ],
   "source": [
    "Add(b_, l).deduceInReals(assumptions)\n",
    "two_pow_t.deduceInReals()\n",
    "exp_neg2pi_i_x_spec = exp_neg2pi_i_x.specialize({x:Add(b_, l), r:two_pow_t}).proven(assumptions)\n",
    "exp_neg2pi_i_x_spec"
   ]
  },
  {
   "cell_type": "code",
   "execution_count": 13,
   "metadata": {
    "collapsed": false
   },
   "outputs": [
    {
     "data": {
      "text/plain": [
       "$\\left( \\left(e^{\\frac{-\\left( 2 \\cdot \\pi \\cdot i \\cdot k \\cdot \\left(b \\oplus l\\right) \\right)}{2^{t}}}\\right) \\cdot \\left(e^{ 2 \\cdot \\pi \\cdot i \\cdot \\varphi \\cdot k }\\right) \\right) = \\left( \\left(\\left(\\left(e^{\\frac{-\\left( 2 \\cdot \\pi \\cdot i \\cdot \\left( b + l \\right) \\right)}{2^{t}}}\\right)\\right)^{k}\\right) \\cdot \\left(\\left(\\left(e^{ 2 \\cdot \\pi \\cdot i \\cdot \\varphi }\\right)\\right)^{k}\\right) \\right)$"
      ]
     },
     "execution_count": 13,
     "metadata": {},
     "output_type": "execute_result"
    }
   ],
   "source": [
    "equation.update(exp_neg2pi_i_x_spec.substitution(equation.eqExpr.rhs)).proven(assumptions)"
   ]
  },
  {
   "cell_type": "code",
   "execution_count": 14,
   "metadata": {
    "collapsed": false
   },
   "outputs": [
    {
     "data": {
      "text/plain": [
       "{$k \\in \\{0\\ldots \\left(\\left(2^{t}\\right) - 1\\right)\\}$, $l \\in \\mathbb{Z}$}"
      ]
     },
     "execution_count": 14,
     "metadata": {},
     "output_type": "execute_result"
    }
   ],
   "source": [
    "assumptions"
   ]
  },
  {
   "cell_type": "code",
   "execution_count": 15,
   "metadata": {
    "collapsed": false
   },
   "outputs": [
    {
     "data": {
      "text/plain": [
       "$ \\left(\\left(\\left(e^{\\frac{-\\left( 2 \\cdot \\pi \\cdot i \\cdot \\left( b + l \\right) \\right)}{2^{t}}}\\right)\\right)^{k}\\right) \\cdot \\left(\\left(\\left(e^{ 2 \\cdot \\pi \\cdot i \\cdot \\varphi }\\right)\\right)^{k}\\right) $"
      ]
     },
     "execution_count": 15,
     "metadata": {},
     "output_type": "execute_result"
    }
   ],
   "source": [
    "equation.eqExpr.rhs"
   ]
  },
  {
   "cell_type": "code",
   "execution_count": 16,
   "metadata": {
    "collapsed": false
   },
   "outputs": [
    {
     "data": {
      "text/plain": [
       "$\\left( \\left(e^{\\frac{-\\left( 2 \\cdot \\pi \\cdot i \\cdot k \\cdot \\left(b \\oplus l\\right) \\right)}{2^{t}}}\\right) \\cdot \\left(e^{ 2 \\cdot \\pi \\cdot i \\cdot \\varphi \\cdot k }\\right) \\right) = \\left(\\left( \\left(e^{\\frac{-\\left( 2 \\cdot \\pi \\cdot i \\cdot \\left( b + l \\right) \\right)}{2^{t}}}\\right) \\cdot \\left(e^{ 2 \\cdot \\pi \\cdot i \\cdot \\varphi }\\right) \\right)^{k}\\right)$"
      ]
     },
     "execution_count": 16,
     "metadata": {},
     "output_type": "execute_result"
    }
   ],
   "source": [
    "equation.update(equation.eqExpr.rhs.combineExponents(assumptions=assumptions)).proven(assumptions)"
   ]
  },
  {
   "cell_type": "code",
   "execution_count": 17,
   "metadata": {
    "collapsed": false
   },
   "outputs": [
    {
     "data": {
      "text/plain": [
       "$\\left( \\left(e^{\\frac{-\\left( 2 \\cdot \\pi \\cdot i \\cdot k \\cdot \\left(b \\oplus l\\right) \\right)}{2^{t}}}\\right) \\cdot \\left(e^{ 2 \\cdot \\pi \\cdot i \\cdot \\varphi \\cdot k }\\right) \\right) = \\left(\\left( \\left(e^{ 2 \\cdot \\pi \\cdot i \\cdot \\varphi }\\right) \\cdot \\left(e^{\\frac{-\\left( 2 \\cdot \\pi \\cdot i \\cdot \\left( b + l \\right) \\right)}{2^{t}}}\\right) \\right)^{k}\\right)$"
      ]
     },
     "execution_count": 17,
     "metadata": {},
     "output_type": "execute_result"
    }
   ],
   "source": [
    "equation.update(autoSubstitution(equation.eqExpr.rhs, 'commute', [], {'assumptions':assumptions}, subExprClass=Multiply)).proven(assumptions)"
   ]
  },
  {
   "cell_type": "code",
   "execution_count": 18,
   "metadata": {
    "collapsed": false
   },
   "outputs": [
    {
     "data": {
      "text/plain": [
       "$\\left( \\left(e^{\\frac{-\\left( 2 \\cdot \\pi \\cdot i \\cdot k \\cdot \\left(b \\oplus l\\right) \\right)}{2^{t}}}\\right) \\cdot \\left(e^{ 2 \\cdot \\pi \\cdot i \\cdot \\varphi \\cdot k }\\right) \\right) = \\left(\\left(\\left(e^{\\left( 2 \\cdot \\pi \\cdot i \\cdot \\varphi \\right) - \\frac{ 2 \\cdot \\pi \\cdot i \\cdot \\left( b + l \\right) }{2^{t}}}\\right)\\right)^{k}\\right)$"
      ]
     },
     "execution_count": 18,
     "metadata": {},
     "output_type": "execute_result"
    }
   ],
   "source": [
    "equation.update(autoSubstitution(equation.eqExpr.rhs, 'combineExponents', [], {'assumptions':assumptions}, subExprClass=Multiply)).proven(assumptions)"
   ]
  },
  {
   "cell_type": "code",
   "execution_count": 19,
   "metadata": {
    "collapsed": false
   },
   "outputs": [
    {
     "data": {
      "text/plain": [
       "$\\left(\\left( 2 \\cdot \\pi \\cdot i \\cdot \\varphi \\right) - \\frac{ 2 \\cdot \\pi \\cdot i \\cdot \\left( b + l \\right) }{2^{t}}\\right) = \\left( 2 \\cdot \\pi \\cdot i \\cdot \\left(\\varphi - \\frac{ b + l }{2^{t}}\\right) \\right)$"
      ]
     },
     "execution_count": 19,
     "metadata": {},
     "output_type": "execute_result"
    }
   ],
   "source": [
    "equation.eqExpr.rhs.base.exponent.factor(Multiply(two, pi, i), assumptions=assumptions)"
   ]
  },
  {
   "cell_type": "code",
   "execution_count": 20,
   "metadata": {
    "collapsed": false
   },
   "outputs": [
    {
     "data": {
      "text/plain": [
       "$\\left( \\left(e^{\\frac{-\\left( 2 \\cdot \\pi \\cdot i \\cdot k \\cdot \\left(b \\oplus l\\right) \\right)}{2^{t}}}\\right) \\cdot \\left(e^{ 2 \\cdot \\pi \\cdot i \\cdot \\varphi \\cdot k }\\right) \\right) = \\left(\\left(\\left(e^{ 2 \\cdot \\pi \\cdot i \\cdot \\left(\\varphi - \\frac{ b + l }{2^{t}}\\right) }\\right)\\right)^{k}\\right)$"
      ]
     },
     "execution_count": 20,
     "metadata": {},
     "output_type": "execute_result"
    }
   ],
   "source": [
    "equation.update(autoSubstitution(equation.eqExpr.rhs, 'factor', [Multiply(two, pi, i)], {'assumptions':assumptions}, subExprClass=Subtract)).proven(assumptions)"
   ]
  },
  {
   "cell_type": "code",
   "execution_count": 21,
   "metadata": {
    "collapsed": false
   },
   "outputs": [
    {
     "data": {
      "text/plain": [
       "$\\forall_{ k  \\in \\{0\\ldots \\left(\\left(2^{t}\\right) - 1\\right)\\}} \\left(\\left( \\left(e^{\\frac{-\\left( 2 \\cdot \\pi \\cdot i \\cdot k \\cdot \\left(b \\oplus l\\right) \\right)}{2^{t}}}\\right) \\cdot \\left(e^{ 2 \\cdot \\pi \\cdot i \\cdot \\varphi \\cdot k }\\right) \\right) = \\left(\\left(\\left(e^{ 2 \\cdot \\pi \\cdot i \\cdot \\left(\\varphi - \\frac{ b + l }{2^{t}}\\right) }\\right)\\right)^{k}\\right)\\right)$"
      ]
     },
     "execution_count": 21,
     "metadata": {},
     "output_type": "execute_result"
    }
   ],
   "source": [
    "equivalenceForallInstances = equation.eqExpr.generalize(k, domain=kDomain).proven(assumptions)\n",
    "equivalenceForallInstances"
   ]
  },
  {
   "cell_type": "code",
   "execution_count": 22,
   "metadata": {
    "collapsed": false
   },
   "outputs": [
    {
     "data": {
      "text/plain": [
       "$\\left(\\sum_{k=0}^{\\left(2^{t}\\right) - 1} \\left( \\left(e^{\\frac{-\\left( 2 \\cdot \\pi \\cdot i \\cdot k \\cdot \\left(b \\oplus l\\right) \\right)}{2^{t}}}\\right) \\cdot \\left(e^{ 2 \\cdot \\pi \\cdot i \\cdot \\varphi \\cdot k }\\right) \\right)\\right) = \\left(\\sum_{k=0}^{\\left(2^{t}\\right) - 1} \\left(\\left(\\left(e^{ 2 \\cdot \\pi \\cdot i \\cdot \\left(\\varphi - \\frac{ b + l }{2^{t}}\\right) }\\right)\\right)^{k}\\right)\\right)$"
      ]
     },
     "execution_count": 22,
     "metadata": {},
     "output_type": "execute_result"
    }
   ],
   "source": [
    "summationEquivalence = alpha_l_summation.instanceSubstitution(equivalenceForallInstances).proven(assumptions)\n",
    "summationEquivalence"
   ]
  },
  {
   "cell_type": "code",
   "execution_count": 23,
   "metadata": {
    "collapsed": false
   },
   "outputs": [
    {
     "data": {
      "text/plain": [
       "$\\alpha_{l} = \\left( \\frac{1}{2^{t}} \\cdot \\left(\\sum_{k=0}^{\\left(2^{t}\\right) - 1} \\left(\\left(\\left(e^{ 2 \\cdot \\pi \\cdot i \\cdot \\left(\\varphi - \\frac{ b + l }{2^{t}}\\right) }\\right)\\right)^{k}\\right)\\right) \\right)$"
      ]
     },
     "execution_count": 23,
     "metadata": {},
     "output_type": "execute_result"
    }
   ],
   "source": [
    "alpha_l_eq2 = summationEquivalence.subRightSideInto(alpha_l_eq1).proven(assumptions)\n",
    "alpha_l_eq2"
   ]
  },
  {
   "cell_type": "code",
   "execution_count": 24,
   "metadata": {
    "collapsed": false
   },
   "outputs": [
    {
     "data": {
      "text/plain": [
       "$\\alpha_{l} = \\left( \\frac{1}{2^{t}} \\cdot \\left(\\sum_{k=0}^{\\left(2^{t}\\right) - 1} \\left(\\left(\\left(e^{ 2 \\cdot \\pi \\cdot i \\cdot \\left(\\left( \\frac{b}{2^{t}} + \\delta \\right) - \\frac{ b + l }{2^{t}}\\right) }\\right)\\right)^{k}\\right)\\right) \\right)$"
      ]
     },
     "execution_count": 24,
     "metadata": {},
     "output_type": "execute_result"
    }
   ],
   "source": [
    "alpha_l_eq3 = phaseFromBest.subRightSideInto(alpha_l_eq2).proven(assumptions)\n",
    "alpha_l_eq3"
   ]
  },
  {
   "cell_type": "code",
   "execution_count": 25,
   "metadata": {
    "collapsed": false
   },
   "outputs": [
    {
     "data": {
      "text/plain": [
       "$\\sum_{k=0}^{\\left(2^{t}\\right) - 1} \\left(\\left(e^{ 2 \\cdot \\pi \\cdot i \\cdot \\left(\\left( \\frac{b}{2^{t}} + \\delta \\right) - \\frac{ b + l }{2^{t}}\\right) }\\right)\\right)^{k}$"
      ]
     },
     "execution_count": 25,
     "metadata": {},
     "output_type": "execute_result"
    }
   ],
   "source": [
    "extractSubExpr(alpha_l_eq3, subExprClass=Summation)"
   ]
  },
  {
   "cell_type": "code",
   "execution_count": 26,
   "metadata": {
    "collapsed": false
   },
   "outputs": [
    {
     "data": {
      "text/plain": [
       "$\\left( \\frac{b}{2^{t}} + \\delta \\right) - \\frac{ b + l }{2^{t}}$"
      ]
     },
     "execution_count": 26,
     "metadata": {},
     "output_type": "execute_result"
    }
   ],
   "source": [
    "phase1 = extractSubExpr(extractSubExpr(alpha_l_eq3, subExprClass=Summation).summand, subExprClass=Subtract)\n",
    "phase1"
   ]
  },
  {
   "cell_type": "code",
   "execution_count": 27,
   "metadata": {
    "collapsed": false
   },
   "outputs": [
    {
     "data": {
      "text/plain": [
       "$\\left(\\left( \\frac{b}{2^{t}} + \\delta \\right) - \\frac{ b + l }{2^{t}}\\right) = \\left(\\left( \\frac{b}{2^{t}} + \\delta \\right) - \\left( \\frac{b}{2^{t}} + \\frac{l}{2^{t}} \\right)\\right)$"
      ]
     },
     "execution_count": 27,
     "metadata": {},
     "output_type": "execute_result"
    }
   ],
   "source": [
    "phaseEq = Equation(phase1.operands[1].distribute(assumptions=assumptions).substitution(phase1))\n",
    "phaseEq.eqExpr.proven(assumptions)"
   ]
  },
  {
   "cell_type": "code",
   "execution_count": 28,
   "metadata": {
    "collapsed": false
   },
   "outputs": [
    {
     "data": {
      "text/plain": [
       "$\\left(\\left( \\frac{b}{2^{t}} + \\delta \\right) - \\frac{ b + l }{2^{t}}\\right) = \\left(\\delta - \\frac{l}{2^{t}}\\right)$"
      ]
     },
     "execution_count": 28,
     "metadata": {},
     "output_type": "execute_result"
    }
   ],
   "source": [
    "phaseEq.update(phaseEq.eqExpr.rhs.cancel(assumptions=assumptions)).proven(assumptions)"
   ]
  },
  {
   "cell_type": "code",
   "execution_count": 29,
   "metadata": {
    "collapsed": false
   },
   "outputs": [
    {
     "data": {
      "text/plain": [
       "$\\alpha_{l} = \\left( \\frac{1}{2^{t}} \\cdot \\left(\\sum_{k=0}^{\\left(2^{t}\\right) - 1} \\left(\\left(\\left(e^{ 2 \\cdot \\pi \\cdot i \\cdot \\left(\\delta - \\frac{l}{2^{t}}\\right) }\\right)\\right)^{k}\\right)\\right) \\right)$"
      ]
     },
     "execution_count": 29,
     "metadata": {},
     "output_type": "execute_result"
    }
   ],
   "source": [
    "alpha_l_eq4 = phaseEq.eqExpr.subRightSideInto(alpha_l_eq3)\n",
    "alpha_l_eq4.proven(assumptions)"
   ]
  },
  {
   "cell_type": "code",
   "execution_count": 30,
   "metadata": {
    "collapsed": false
   },
   "outputs": [
    {
     "data": {
      "text/plain": [
       "$0 < \\left(\\left(2^{t}\\right) - 1\\right)$"
      ]
     },
     "execution_count": 30,
     "metadata": {},
     "output_type": "execute_result"
    }
   ],
   "source": [
    "deducePositive(Subtract(two_pow_t, one)).deriveReversed().proven(assumptions)"
   ]
  },
  {
   "cell_type": "code",
   "execution_count": 31,
   "metadata": {
    "collapsed": false
   },
   "outputs": [
    {
     "data": {
      "text/plain": [
       "$\\alpha_{l} = \\left( \\frac{1}{2^{t}} \\cdot \\frac{\\left(\\left(\\left(e^{ 2 \\cdot \\pi \\cdot i \\cdot \\left(\\delta - \\frac{l}{2^{t}}\\right) }\\right)\\right)^{ \\left(\\left(2^{t}\\right) - 1\\right) + 1 }\\right) - \\left(\\left(\\left(e^{ 2 \\cdot \\pi \\cdot i \\cdot \\left(\\delta - \\frac{l}{2^{t}}\\right) }\\right)\\right)^{0}\\right)}{\\left(e^{ 2 \\cdot \\pi \\cdot i \\cdot \\left(\\delta - \\frac{l}{2^{t}}\\right) }\\right) - 1} \\right)$"
      ]
     },
     "execution_count": 31,
     "metadata": {},
     "output_type": "execute_result"
    }
   ],
   "source": [
    "alpha_l_eq5 = autoSubstitute(alpha_l_eq4, 'reduceGeomSum', [], {'assumptions':assumptions}, subExprClass=Summation)\n",
    "alpha_l_eq5.proven(assumptions)"
   ]
  },
  {
   "cell_type": "code",
   "execution_count": 32,
   "metadata": {
    "collapsed": false
   },
   "outputs": [
    {
     "data": {
      "text/plain": [
       "$\\alpha_{l} = \\left( \\frac{1}{2^{t}} \\cdot \\frac{\\left(\\left(\\left(e^{ 2 \\cdot \\pi \\cdot i \\cdot \\left(\\delta - \\frac{l}{2^{t}}\\right) }\\right)\\right)^{ \\left(\\left(2^{t}\\right) - 1\\right) + 1 }\\right) - 1}{\\left(e^{ 2 \\cdot \\pi \\cdot i \\cdot \\left(\\delta - \\frac{l}{2^{t}}\\right) }\\right) - 1} \\right)$"
      ]
     },
     "execution_count": 32,
     "metadata": {},
     "output_type": "execute_result"
    }
   ],
   "source": [
    "alpha_l_eq6 = autoSubstitute(alpha_l_eq5, 'simplification', [], {'assumptions':assumptions}, subExprClass=Exponentiate, suppressWarnings=True)\n",
    "alpha_l_eq6.proven(assumptions)"
   ]
  },
  {
   "cell_type": "code",
   "execution_count": 33,
   "metadata": {
    "collapsed": false
   },
   "outputs": [
    {
     "data": {
      "text/plain": [
       "$\\alpha_{l} = \\left( \\frac{1}{2^{t}} \\cdot \\frac{\\left(\\left(\\left(e^{ 2 \\cdot \\pi \\cdot i \\cdot \\left(\\delta - \\frac{l}{2^{t}}\\right) }\\right)\\right)^{2^{t}}\\right) - 1}{\\left(e^{ 2 \\cdot \\pi \\cdot i \\cdot \\left(\\delta - \\frac{l}{2^{t}}\\right) }\\right) - 1} \\right)$"
      ]
     },
     "execution_count": 33,
     "metadata": {},
     "output_type": "execute_result"
    }
   ],
   "source": [
    "from proveit.number.complex.theorems import cancelSubThenAdd\n",
    "from proveit.number.common import a, b\n",
    "deduceInComplexes([two_pow_t, one])\n",
    "exponentSimplification = cancelSubThenAdd.specialize({a:two_pow_t, b:one}).proven(assumptions)\n",
    "alpha_l_eq7 = exponentSimplification.subRightSideInto(alpha_l_eq6)\n",
    "alpha_l_eq7"
   ]
  },
  {
   "cell_type": "code",
   "execution_count": 34,
   "metadata": {
    "collapsed": false
   },
   "outputs": [
    {
     "data": {
      "text/plain": [
       "$\\alpha_{l} = \\left( \\frac{1}{2^{t}} \\cdot \\frac{\\left(e^{ \\left( 2 \\cdot \\pi \\cdot i \\cdot \\left(\\delta - \\frac{l}{2^{t}}\\right) \\right) \\cdot \\left(2^{t}\\right) }\\right) - 1}{\\left(e^{ 2 \\cdot \\pi \\cdot i \\cdot \\left(\\delta - \\frac{l}{2^{t}}\\right) }\\right) - 1} \\right)$"
      ]
     },
     "execution_count": 34,
     "metadata": {},
     "output_type": "execute_result"
    }
   ],
   "source": [
    "alpha_l_eq8 = autoSubstitute(alpha_l_eq7, 'lowerOuterPow', [], {'assumptions':assumptions}, subExprClass=Exponentiate, suppressWarnings=True)\n",
    "alpha_l_eq8.proven(assumptions)"
   ]
  },
  {
   "cell_type": "code",
   "execution_count": 35,
   "metadata": {
    "collapsed": false
   },
   "outputs": [
    {
     "data": {
      "text/plain": [
       "$\\alpha_{l} = \\left( \\frac{1}{2^{t}} \\cdot \\frac{\\left(e^{ 2 \\cdot \\pi \\cdot i \\cdot \\left(\\delta - \\frac{l}{2^{t}}\\right) \\cdot \\left(2^{t}\\right) }\\right) - 1}{\\left(e^{ 2 \\cdot \\pi \\cdot i \\cdot \\left(\\delta - \\frac{l}{2^{t}}\\right) }\\right) - 1} \\right)$"
      ]
     },
     "execution_count": 35,
     "metadata": {},
     "output_type": "execute_result"
    }
   ],
   "source": [
    "alpha_l_eq9 = autoSubstitute(alpha_l_eq8, 'ungroup', [0], {'assumptions':assumptions}, subExprClass=Multiply, suppressWarnings=True)\n",
    "alpha_l_eq9.proven(assumptions)"
   ]
  },
  {
   "cell_type": "code",
   "execution_count": 36,
   "metadata": {
    "collapsed": false
   },
   "outputs": [
    {
     "data": {
      "text/plain": [
       "$\\alpha_{l} = \\left( \\frac{1}{2^{t}} \\cdot \\frac{\\left(e^{ 2 \\cdot \\pi \\cdot i \\cdot \\left( \\left(\\delta - \\frac{l}{2^{t}}\\right) \\cdot \\left(2^{t}\\right) \\right) }\\right) - 1}{\\left(e^{ 2 \\cdot \\pi \\cdot i \\cdot \\left(\\delta - \\frac{l}{2^{t}}\\right) }\\right) - 1} \\right)$"
      ]
     },
     "execution_count": 36,
     "metadata": {},
     "output_type": "execute_result"
    }
   ],
   "source": [
    "alpha_l_eq10 = autoSubstitute(alpha_l_eq9, 'group', [3,5], {'assumptions':assumptions}, subExprClass=Multiply, suppressWarnings=True)\n",
    "alpha_l_eq10.proven(assumptions)"
   ]
  },
  {
   "cell_type": "code",
   "execution_count": 37,
   "metadata": {
    "collapsed": false
   },
   "outputs": [
    {
     "data": {
      "text/plain": [
       "$\\alpha_{l} = \\left( \\frac{1}{2^{t}} \\cdot \\frac{\\left(e^{ 2 \\cdot \\pi \\cdot i \\cdot \\left( \\left(2^{t}\\right) \\cdot \\left(\\delta - \\frac{l}{2^{t}}\\right) \\right) }\\right) - 1}{\\left(e^{ 2 \\cdot \\pi \\cdot i \\cdot \\left(\\delta - \\frac{l}{2^{t}}\\right) }\\right) - 1} \\right)$"
      ]
     },
     "execution_count": 37,
     "metadata": {},
     "output_type": "execute_result"
    }
   ],
   "source": [
    "alpha_l_eq11 = autoSubstitute(alpha_l_eq10, 'commute', [], {'assumptions':assumptions}, subExprClass=Multiply, criteria=lambda expr:len(expr.operands)==2, suppressWarnings=True)\n",
    "alpha_l_eq11.proven(assumptions)"
   ]
  },
  {
   "cell_type": "code",
   "execution_count": 38,
   "metadata": {
    "collapsed": false
   },
   "outputs": [
    {
     "data": {
      "text/plain": [
       "$\\alpha_{l} = \\left( \\frac{1}{2^{t}} \\cdot \\frac{\\left(e^{ 2 \\cdot \\pi \\cdot i \\cdot \\left(\\left( \\left(2^{t}\\right) \\cdot \\delta \\right) - \\left( \\left(2^{t}\\right) \\cdot \\frac{l}{2^{t}} \\right)\\right) }\\right) - 1}{\\left(e^{ 2 \\cdot \\pi \\cdot i \\cdot \\left(\\delta - \\frac{l}{2^{t}}\\right) }\\right) - 1} \\right)$"
      ]
     },
     "execution_count": 38,
     "metadata": {},
     "output_type": "execute_result"
    }
   ],
   "source": [
    "alpha_l_eq12 = autoSubstitute(alpha_l_eq11, 'distribute', [1], {'assumptions':assumptions}, superExpr=alpha_l_eq11.rhs.operands[1].numerator, suppressWarnings=True)\n",
    "alpha_l_eq12.proven(assumptions)"
   ]
  },
  {
   "cell_type": "code",
   "execution_count": 39,
   "metadata": {
    "collapsed": false
   },
   "outputs": [
    {
     "data": {
      "text/plain": [
       "$\\alpha_{l} = \\left( \\frac{1}{2^{t}} \\cdot \\frac{\\left(e^{ 2 \\cdot \\pi \\cdot i \\cdot \\left(\\left( \\left(2^{t}\\right) \\cdot \\delta \\right) - l\\right) }\\right) - 1}{\\left(e^{ 2 \\cdot \\pi \\cdot i \\cdot \\left(\\delta - \\frac{l}{2^{t}}\\right) }\\right) - 1} \\right)$"
      ]
     },
     "execution_count": 39,
     "metadata": {},
     "output_type": "execute_result"
    }
   ],
   "source": [
    "from proveit.number.complex.theorems import fracCancel5\n",
    "from proveit.common import x,y\n",
    "deduceInComplexes([two_pow_t, l], assumptions=assumptions)\n",
    "cancellation = fracCancel5.specialize({x:two_pow_t, y:l}).proven(assumptions)\n",
    "alpha_l_eq13 = cancellation.subRightSideInto(alpha_l_eq12)\n",
    "alpha_l_eq13.proven(assumptions)"
   ]
  },
  {
   "cell_type": "code",
   "execution_count": 40,
   "metadata": {
    "collapsed": false
   },
   "outputs": [
    {
     "data": {
      "text/plain": [
       "$\\alpha_{l} = \\left( \\frac{1}{2^{t}} \\cdot \\frac{1 - \\left(e^{ 2 \\cdot \\pi \\cdot i \\cdot \\left(\\left( \\left(2^{t}\\right) \\cdot \\delta \\right) - l\\right) }\\right)}{1 - \\left(e^{ 2 \\cdot \\pi \\cdot i \\cdot \\left(\\delta - \\frac{l}{2^{t}}\\right) }\\right)} \\right)$"
      ]
     },
     "execution_count": 40,
     "metadata": {},
     "output_type": "execute_result"
    }
   ],
   "source": [
    "from proveit.number.complex.theorems import reverseFractionOfSubtractions\n",
    "from proveit.common import w,x,y,z\n",
    "frac = alpha_l_eq13.rhs.operands[1]\n",
    "(wVal, xVal), (yVal, zVal) = frac.numerator.operands, frac.denominator.operands\n",
    "deduceInComplexes([wVal, xVal, yVal, zVal], assumptions=assumptions)\n",
    "reversal = reverseFractionOfSubtractions.specialize({w:wVal, x:xVal, y:yVal, z:zVal}).proven(assumptions)\n",
    "alpha_l_eq14 = reversal.subRightSideInto(alpha_l_eq13)\n",
    "alpha_l_eq14.proven(assumptions)"
   ]
  },
  {
   "cell_type": "code",
   "execution_count": 41,
   "metadata": {
    "collapsed": false
   },
   "outputs": [
    {
     "name": "stdout",
     "output_type": "stream",
     "text": [
      "root $\\forall_{ l  \\in \\mathbb{Z}} \\left(\\alpha_{l} = \\left( \\frac{1}{2^{t}} \\cdot \\frac{1 - \\left(e^{ 2 \\cdot \\pi \\cdot i \\cdot \\left(\\left( \\left(2^{t}\\right) \\cdot \\delta \\right) - l\\right) }\\right)}{1 - \\left(e^{ 2 \\cdot \\pi \\cdot i \\cdot \\left(\\delta - \\frac{l}{2^{t}}\\right) }\\right)} \\right)\\right)$ \n",
      "  generalizing $\\alpha_{l} = \\left( \\frac{1}{2^{t}} \\cdot \\frac{1 - \\left(e^{ 2 \\cdot \\pi \\cdot i \\cdot \\left(\\left( \\left(2^{t}\\right) \\cdot \\delta \\right) - l\\right) }\\right)}{1 - \\left(e^{ 2 \\cdot \\pi \\cdot i \\cdot \\left(\\delta - \\frac{l}{2^{t}}\\right) }\\right)} \\right)$  assuming $l \\in \\mathbb{Z}$ \n",
      "    implication $\\left(\\alpha_{l} = \\left( \\frac{1}{2^{t}} \\cdot \\frac{\\left(e^{ 2 \\cdot \\pi \\cdot i \\cdot \\left(\\left( \\left(2^{t}\\right) \\cdot \\delta \\right) - l\\right) }\\right) - 1}{\\left(e^{ 2 \\cdot \\pi \\cdot i \\cdot \\left(\\delta - \\frac{l}{2^{t}}\\right) }\\right) - 1} \\right)\\right) \\Rightarrow \\left(\\alpha_{l} = \\left( \\frac{1}{2^{t}} \\cdot \\frac{1 - \\left(e^{ 2 \\cdot \\pi \\cdot i \\cdot \\left(\\left( \\left(2^{t}\\right) \\cdot \\delta \\right) - l\\right) }\\right)}{1 - \\left(e^{ 2 \\cdot \\pi \\cdot i \\cdot \\left(\\delta - \\frac{l}{2^{t}}\\right) }\\right)} \\right)\\right)$  assuming $l \\in \\mathbb{Z}$ \n",
      "      implication $\\left(\\frac{\\left(e^{ 2 \\cdot \\pi \\cdot i \\cdot \\left(\\left( \\left(2^{t}\\right) \\cdot \\delta \\right) - l\\right) }\\right) - 1}{\\left(e^{ 2 \\cdot \\pi \\cdot i \\cdot \\left(\\delta - \\frac{l}{2^{t}}\\right) }\\right) - 1} = \\frac{1 - \\left(e^{ 2 \\cdot \\pi \\cdot i \\cdot \\left(\\left( \\left(2^{t}\\right) \\cdot \\delta \\right) - l\\right) }\\right)}{1 - \\left(e^{ 2 \\cdot \\pi \\cdot i \\cdot \\left(\\delta - \\frac{l}{2^{t}}\\right) }\\right)}\\right) \\Rightarrow \\left(\\left(\\alpha_{l} = \\left( \\frac{1}{2^{t}} \\cdot \\frac{\\left(e^{ 2 \\cdot \\pi \\cdot i \\cdot \\left(\\left( \\left(2^{t}\\right) \\cdot \\delta \\right) - l\\right) }\\right) - 1}{\\left(e^{ 2 \\cdot \\pi \\cdot i \\cdot \\left(\\delta - \\frac{l}{2^{t}}\\right) }\\right) - 1} \\right)\\right) \\Rightarrow \\left(\\alpha_{l} = \\left( \\frac{1}{2^{t}} \\cdot \\frac{1 - \\left(e^{ 2 \\cdot \\pi \\cdot i \\cdot \\left(\\left( \\left(2^{t}\\right) \\cdot \\delta \\right) - l\\right) }\\right)}{1 - \\left(e^{ 2 \\cdot \\pi \\cdot i \\cdot \\left(\\delta - \\frac{l}{2^{t}}\\right) }\\right)} \\right)\\right)\\right)$ \n",
      "        specializing $\\forall_{ P , x , y } \\left(\\left(x = y\\right) \\Rightarrow \\left(P\\left( x \\right) \\Rightarrow P\\left( y \\right)\\right)\\right)$ \n",
      "          by theorem proveit.basiclogic.equality.rhsSubstitution\n",
      "      hypothesis $\\frac{\\left(e^{ 2 \\cdot \\pi \\cdot i \\cdot \\left(\\left( \\left(2^{t}\\right) \\cdot \\delta \\right) - l\\right) }\\right) - 1}{\\left(e^{ 2 \\cdot \\pi \\cdot i \\cdot \\left(\\delta - \\frac{l}{2^{t}}\\right) }\\right) - 1} = \\frac{1 - \\left(e^{ 2 \\cdot \\pi \\cdot i \\cdot \\left(\\left( \\left(2^{t}\\right) \\cdot \\delta \\right) - l\\right) }\\right)}{1 - \\left(e^{ 2 \\cdot \\pi \\cdot i \\cdot \\left(\\delta - \\frac{l}{2^{t}}\\right) }\\right)}$  assuming $l \\in \\mathbb{Z}$ \n",
      "        specializing $\\forall_{ w , x , y , z  \\in \\mathbb{C}} \\left(\\frac{w - x}{y - z} = \\frac{x - w}{z - y}\\right)$ \n",
      "          by theorem proveit.number.complex.reverseFractionOfSubtractions\n",
      "        condition $\\left(e^{ 2 \\cdot \\pi \\cdot i \\cdot \\left(\\delta - \\frac{l}{2^{t}}\\right) }\\right) \\in \\mathbb{C}$  assuming $l \\in \\mathbb{Z}$ \n",
      "          specializing $\\forall_{ a , b  \\in \\mathbb{C}~|~ \\left(a \\neq 0\\right) } \\left(\\left(a^{b}\\right) \\in \\mathbb{C}\\right)$ \n",
      "            by theorem proveit.number.complex.powClosure\n",
      "          condition $e \\neq 0$ \n",
      "            specializing $\\forall_{ a  \\in \\mathbb{R}~|~ \\left(a > 0\\right) } \\left(a \\neq 0\\right)$ \n",
      "              by theorem proveit.number.real.positive_implies_notzero\n",
      "            condition $e \\in \\mathbb{R}$ \n",
      "              specializing $\\forall_{ a  \\in \\mathbb{R}^+} \\left(a \\in \\mathbb{R}\\right)$ \n",
      "                by theorem proveit.number.real.inRealsPos_inReals\n",
      "              condition $e \\in \\mathbb{R}^+$ \n",
      "                by theorem proveit.number.real.eInRealsPos\n",
      "            condition $e > 0$ \n",
      "              implication $\\left(e \\in \\mathbb{R}^+\\right) \\Rightarrow \\left(e > 0\\right)$ \n",
      "                implication $\\left(\\left(e \\in \\mathbb{R}^+\\right) \\Leftrightarrow \\left(e > 0\\right)\\right) \\Rightarrow \\left(\\left(e \\in \\mathbb{R}^+\\right) \\Rightarrow \\left(e > 0\\right)\\right)$ \n",
      "                  specializing $\\forall_{ A , B } \\left(\\left(A \\Leftrightarrow B\\right) \\Rightarrow \\left(A \\Rightarrow B\\right)\\right)$ \n",
      "                    by theorem proveit.basiclogic.boolean.iffImpliesRight\n",
      "                hypothesis $\\left(e \\in \\mathbb{R}^+\\right) \\Leftrightarrow \\left(e > 0\\right)$ \n",
      "                  specializing $\\forall_{ a  \\in \\mathbb{R}} \\left(\\left(a \\in \\mathbb{R}^+\\right) \\Leftrightarrow \\left(a > 0\\right)\\right)$ \n",
      "                    by theorem proveit.number.real.inRealsPos_iff_positive\n",
      "                  condition $e \\in \\mathbb{R}$  proven above\n",
      "              hypothesis $e \\in \\mathbb{R}^+$  proven above\n",
      "          condition $e \\in \\mathbb{C}$ \n",
      "            specializing $\\forall_{ a  \\in \\mathbb{R}^+} \\left(a \\in \\mathbb{C}\\right)$ \n",
      "              by theorem proveit.number.real.inRealsPos_inComplexes\n",
      "            condition $e \\in \\mathbb{R}^+$  proven above\n",
      "          condition $\\left( 2 \\cdot \\pi \\cdot i \\cdot \\left(\\delta - \\frac{l}{2^{t}}\\right) \\right) \\in \\mathbb{C}$  assuming $l \\in \\mathbb{Z}$ \n",
      "            specializing $\\forall_{~.., x_{\\Box} ,..~ \\in \\mathbb{C}} \\left(\\left(~..\\cdot x_{\\Box} \\cdot..~\\right) \\in \\mathbb{C}\\right)$ \n",
      "              by theorem proveit.number.complex.multClosure\n",
      "            condition $\\pi \\in \\mathbb{C}$ \n",
      "              specializing $\\forall_{ a  \\in \\mathbb{R}^+} \\left(a \\in \\mathbb{C}\\right)$  proven above\n",
      "              condition $\\pi \\in \\mathbb{R}^+$ \n",
      "            condition $i \\in \\mathbb{C}$ \n",
      "            condition $\\left(\\delta - \\frac{l}{2^{t}}\\right) \\in \\mathbb{C}$  assuming $l \\in \\mathbb{Z}$ \n",
      "              specializing $\\forall_{ a  \\in \\mathbb{R}} \\left(a \\in \\mathbb{C}\\right)$ \n",
      "                by theorem proveit.number.real.inComplexes\n",
      "              condition $\\left(\\delta - \\frac{l}{2^{t}}\\right) \\in \\mathbb{R}$  assuming $l \\in \\mathbb{Z}$ \n",
      "                specializing $\\forall_{ a , b  \\in \\mathbb{R}} \\left(\\left(a - b\\right) \\in \\mathbb{R}\\right)$ \n",
      "                  by theorem proveit.number.real.subtractClosure\n",
      "                condition $\\frac{l}{2^{t}} \\in \\mathbb{R}$  assuming $l \\in \\mathbb{Z}$ \n",
      "                  specializing $\\forall_{ a , b  \\in \\mathbb{R}~|~ \\left(b \\neq 0\\right) } \\left(\\frac{a}{b} \\in \\mathbb{R}\\right)$ \n",
      "                    by theorem proveit.number.real.fractionClosure\n",
      "                  condition $\\left(2^{t}\\right) \\neq 0$ \n",
      "                    specializing $\\forall_{ a  \\in \\mathbb{R}~|~ \\left(a > 0\\right) } \\left(a \\neq 0\\right)$  proven above\n",
      "                    condition $\\left(2^{t}\\right) > 0$ \n",
      "                      implication $\\left(\\left(2^{t}\\right) \\in \\mathbb{R}^+\\right) \\Rightarrow \\left(\\left(2^{t}\\right) > 0\\right)$ \n",
      "                        implication $\\left(\\left(\\left(2^{t}\\right) \\in \\mathbb{R}^+\\right) \\Leftrightarrow \\left(\\left(2^{t}\\right) > 0\\right)\\right) \\Rightarrow \\left(\\left(\\left(2^{t}\\right) \\in \\mathbb{R}^+\\right) \\Rightarrow \\left(\\left(2^{t}\\right) > 0\\right)\\right)$ \n",
      "                          specializing $\\forall_{ A , B } \\left(\\left(A \\Leftrightarrow B\\right) \\Rightarrow \\left(A \\Rightarrow B\\right)\\right)$  proven above\n",
      "                        hypothesis $\\left(\\left(2^{t}\\right) \\in \\mathbb{R}^+\\right) \\Leftrightarrow \\left(\\left(2^{t}\\right) > 0\\right)$ \n",
      "                          specializing $\\forall_{ a  \\in \\mathbb{R}} \\left(\\left(a \\in \\mathbb{R}^+\\right) \\Leftrightarrow \\left(a > 0\\right)\\right)$  proven above\n",
      "                          condition $\\left(2^{t}\\right) \\in \\mathbb{R}$ \n",
      "                            specializing $\\forall_{ a  \\in \\mathbb{N}^+} \\left(a \\in \\mathbb{R}\\right)$ \n",
      "                              by theorem proveit.number.natural.inNatPos_inReals\n",
      "                            condition $\\left(2^{t}\\right) \\in \\mathbb{N}^+$ \n",
      "                              specializing $\\forall_{ a , b  \\in \\mathbb{N}~|~ \\left(a \\neq 0\\right) } \\left(\\left(a^{b}\\right) \\in \\mathbb{N}^+\\right)$ \n",
      "                                by theorem proveit.number.natural.powClosure\n",
      "                              condition $t \\in \\mathbb{N}$ \n",
      "                                specializing $\\forall_{ a  \\in \\mathbb{N}^+} \\left(a \\in \\mathbb{N}\\right)$ \n",
      "                                  by theorem proveit.number.natural.inNatPos_inNaturals\n",
      "                                condition $t \\in \\mathbb{N}^+$ \n",
      "                                  by axiom proveit.physics.quantum.QPE.tInNaturalsPos\n",
      "                              condition $2 \\in \\mathbb{N}$ \n",
      "                                by theorem proveit.number.natural.twoInNaturals\n",
      "                              condition $2 \\neq 0$ \n",
      "                                specializing $\\forall_{ a  \\in \\mathbb{R}~|~ \\left(a > 0\\right) } \\left(a \\neq 0\\right)$  proven above\n",
      "                                condition $2 > 0$ \n",
      "                                  implication $\\left(2 \\in \\mathbb{R}^+\\right) \\Rightarrow \\left(2 > 0\\right)$ \n",
      "                                    implication $\\left(\\left(2 \\in \\mathbb{R}^+\\right) \\Leftrightarrow \\left(2 > 0\\right)\\right) \\Rightarrow \\left(\\left(2 \\in \\mathbb{R}^+\\right) \\Rightarrow \\left(2 > 0\\right)\\right)$ \n",
      "                                      specializing $\\forall_{ A , B } \\left(\\left(A \\Leftrightarrow B\\right) \\Rightarrow \\left(A \\Rightarrow B\\right)\\right)$  proven above\n",
      "                                    hypothesis $\\left(2 \\in \\mathbb{R}^+\\right) \\Leftrightarrow \\left(2 > 0\\right)$ \n",
      "                                      specializing $\\forall_{ a  \\in \\mathbb{R}} \\left(\\left(a \\in \\mathbb{R}^+\\right) \\Leftrightarrow \\left(a > 0\\right)\\right)$  proven above\n",
      "                                      condition $2 \\in \\mathbb{R}$ \n",
      "                                        specializing $\\forall_{ a  \\in \\mathbb{N}^+} \\left(a \\in \\mathbb{R}\\right)$  proven above\n",
      "                                        condition $2 \\in \\mathbb{N}^+$ \n",
      "                                          by theorem proveit.number.natural.twoInNaturalsPos\n",
      "                                  hypothesis $2 \\in \\mathbb{R}^+$ \n",
      "                                    specializing $\\forall_{ a  \\in \\mathbb{N}^+} \\left(a \\in \\mathbb{R}^+\\right)$ \n",
      "                                      by theorem proveit.number.natural.inNatPos_inRealsPos\n",
      "                                    condition $2 \\in \\mathbb{N}^+$  proven above\n",
      "                                condition $2 \\in \\mathbb{R}$  proven above\n",
      "                      hypothesis $\\left(2^{t}\\right) \\in \\mathbb{R}^+$ \n",
      "                        specializing $\\forall_{ a  \\in \\mathbb{N}^+} \\left(a \\in \\mathbb{R}^+\\right)$  proven above\n",
      "                        condition $\\left(2^{t}\\right) \\in \\mathbb{N}^+$  proven above\n",
      "                    condition $\\left(2^{t}\\right) \\in \\mathbb{R}$  proven above\n",
      "                  condition $l \\in \\mathbb{R}$  assuming $l \\in \\mathbb{Z}$ \n",
      "                    specializing $\\forall_{ a  \\in \\mathbb{Z}} \\left(a \\in \\mathbb{R}\\right)$ \n",
      "                      by theorem proveit.number.integer.inReals\n",
      "                    condition $l \\in \\mathbb{Z}$  assuming $l \\in \\mathbb{Z}$ \n",
      "                  condition $\\left(2^{t}\\right) \\in \\mathbb{R}$  proven above\n",
      "                condition $\\delta \\in \\mathbb{R}$ \n",
      "                  by theorem proveit.physics.quantum.QPE.deltaInReals\n",
      "            condition $2 \\in \\mathbb{C}$ \n",
      "              specializing $\\forall_{ a  \\in \\mathbb{N}^+} \\left(a \\in \\mathbb{C}\\right)$ \n",
      "                by theorem proveit.number.natural.inNatPos_inComplexes\n",
      "              condition $2 \\in \\mathbb{N}^+$  proven above\n",
      "        condition $1 \\in \\mathbb{C}$ \n",
      "          specializing $\\forall_{ a  \\in \\mathbb{N}^+} \\left(a \\in \\mathbb{C}\\right)$  proven above\n",
      "          condition $1 \\in \\mathbb{N}^+$ \n",
      "            by theorem proveit.number.natural.oneInNaturalsPos\n",
      "        condition $\\left(e^{ 2 \\cdot \\pi \\cdot i \\cdot \\left(\\left( \\left(2^{t}\\right) \\cdot \\delta \\right) - l\\right) }\\right) \\in \\mathbb{C}$  assuming $l \\in \\mathbb{Z}$ \n",
      "          specializing $\\forall_{ a , b  \\in \\mathbb{C}~|~ \\left(a \\neq 0\\right) } \\left(\\left(a^{b}\\right) \\in \\mathbb{C}\\right)$  proven above\n",
      "          condition $\\left( 2 \\cdot \\pi \\cdot i \\cdot \\left(\\left( \\left(2^{t}\\right) \\cdot \\delta \\right) - l\\right) \\right) \\in \\mathbb{C}$  assuming $l \\in \\mathbb{Z}$ \n",
      "            specializing $\\forall_{~.., x_{\\Box} ,..~ \\in \\mathbb{C}} \\left(\\left(~..\\cdot x_{\\Box} \\cdot..~\\right) \\in \\mathbb{C}\\right)$  proven above\n",
      "            condition $\\pi \\in \\mathbb{C}$  proven above\n",
      "            condition $i \\in \\mathbb{C}$  proven above\n",
      "            condition $\\left(\\left( \\left(2^{t}\\right) \\cdot \\delta \\right) - l\\right) \\in \\mathbb{C}$  assuming $l \\in \\mathbb{Z}$ \n",
      "              specializing $\\forall_{ a  \\in \\mathbb{R}} \\left(a \\in \\mathbb{C}\\right)$  proven above\n",
      "              condition $\\left(\\left( \\left(2^{t}\\right) \\cdot \\delta \\right) - l\\right) \\in \\mathbb{R}$  assuming $l \\in \\mathbb{Z}$ \n",
      "                specializing $\\forall_{ a , b  \\in \\mathbb{R}} \\left(\\left(a - b\\right) \\in \\mathbb{R}\\right)$  proven above\n",
      "                condition $l \\in \\mathbb{R}$  assuming $l \\in \\mathbb{Z}$  proven above\n",
      "                condition $\\left( \\left(2^{t}\\right) \\cdot \\delta \\right) \\in \\mathbb{R}$ \n",
      "                  specializing $\\forall_{~.., x_{\\Box} ,..~ \\in \\mathbb{R}} \\left(\\left(~..\\cdot x_{\\Box} \\cdot..~\\right) \\in \\mathbb{R}\\right)$ \n",
      "                    by theorem proveit.number.real.multClosure\n",
      "                  condition $\\left(2^{t}\\right) \\in \\mathbb{R}$  proven above\n",
      "                  condition $\\delta \\in \\mathbb{R}$  proven above\n",
      "            condition $2 \\in \\mathbb{C}$  proven above\n",
      "          condition $e \\neq 0$  proven above\n",
      "          condition $e \\in \\mathbb{C}$  proven above\n",
      "    hypothesis $\\alpha_{l} = \\left( \\frac{1}{2^{t}} \\cdot \\frac{\\left(e^{ 2 \\cdot \\pi \\cdot i \\cdot \\left(\\left( \\left(2^{t}\\right) \\cdot \\delta \\right) - l\\right) }\\right) - 1}{\\left(e^{ 2 \\cdot \\pi \\cdot i \\cdot \\left(\\delta - \\frac{l}{2^{t}}\\right) }\\right) - 1} \\right)$  assuming $l \\in \\mathbb{Z}$ \n",
      "      implication $\\left(\\alpha_{l} = \\left( \\frac{1}{2^{t}} \\cdot \\frac{\\left(e^{ 2 \\cdot \\pi \\cdot i \\cdot \\left(\\left( \\left(2^{t}\\right) \\cdot \\delta \\right) - \\left( \\left(2^{t}\\right) \\cdot \\frac{l}{2^{t}} \\right)\\right) }\\right) - 1}{\\left(e^{ 2 \\cdot \\pi \\cdot i \\cdot \\left(\\delta - \\frac{l}{2^{t}}\\right) }\\right) - 1} \\right)\\right) \\Rightarrow \\left(\\alpha_{l} = \\left( \\frac{1}{2^{t}} \\cdot \\frac{\\left(e^{ 2 \\cdot \\pi \\cdot i \\cdot \\left(\\left( \\left(2^{t}\\right) \\cdot \\delta \\right) - l\\right) }\\right) - 1}{\\left(e^{ 2 \\cdot \\pi \\cdot i \\cdot \\left(\\delta - \\frac{l}{2^{t}}\\right) }\\right) - 1} \\right)\\right)$  assuming $l \\in \\mathbb{Z}$ \n",
      "        implication $\\left(\\left( \\left(2^{t}\\right) \\cdot \\frac{l}{2^{t}} \\right) = l\\right) \\Rightarrow \\left(\\left(\\alpha_{l} = \\left( \\frac{1}{2^{t}} \\cdot \\frac{\\left(e^{ 2 \\cdot \\pi \\cdot i \\cdot \\left(\\left( \\left(2^{t}\\right) \\cdot \\delta \\right) - \\left( \\left(2^{t}\\right) \\cdot \\frac{l}{2^{t}} \\right)\\right) }\\right) - 1}{\\left(e^{ 2 \\cdot \\pi \\cdot i \\cdot \\left(\\delta - \\frac{l}{2^{t}}\\right) }\\right) - 1} \\right)\\right) \\Rightarrow \\left(\\alpha_{l} = \\left( \\frac{1}{2^{t}} \\cdot \\frac{\\left(e^{ 2 \\cdot \\pi \\cdot i \\cdot \\left(\\left( \\left(2^{t}\\right) \\cdot \\delta \\right) - l\\right) }\\right) - 1}{\\left(e^{ 2 \\cdot \\pi \\cdot i \\cdot \\left(\\delta - \\frac{l}{2^{t}}\\right) }\\right) - 1} \\right)\\right)\\right)$ \n",
      "          specializing $\\forall_{ P , x , y } \\left(\\left(x = y\\right) \\Rightarrow \\left(P\\left( x \\right) \\Rightarrow P\\left( y \\right)\\right)\\right)$  proven above\n",
      "        hypothesis $\\left( \\left(2^{t}\\right) \\cdot \\frac{l}{2^{t}} \\right) = l$  assuming $l \\in \\mathbb{Z}$ \n",
      "          specializing $\\forall_{ x , y  \\in \\mathbb{C}~|~ \\left(x \\neq 0\\right) } \\left(\\left( x \\cdot \\frac{y}{x} \\right) = y\\right)$ \n",
      "            by theorem proveit.number.complex.fracCancel5\n",
      "          condition $\\left(2^{t}\\right) \\neq 0$  proven above\n",
      "          condition $\\left(2^{t}\\right) \\in \\mathbb{C}$ \n",
      "            specializing $\\forall_{ a  \\in \\mathbb{N}^+} \\left(a \\in \\mathbb{C}\\right)$  proven above\n",
      "            condition $\\left(2^{t}\\right) \\in \\mathbb{N}^+$  proven above\n",
      "          condition $l \\in \\mathbb{C}$  assuming $l \\in \\mathbb{Z}$ \n",
      "            specializing $\\forall_{ a  \\in \\mathbb{Z}} \\left(a \\in \\mathbb{C}\\right)$ \n",
      "              by theorem proveit.number.integer.inComplexes\n",
      "            condition $l \\in \\mathbb{Z}$  assuming $l \\in \\mathbb{Z}$  proven above\n",
      "      hypothesis $\\alpha_{l} = \\left( \\frac{1}{2^{t}} \\cdot \\frac{\\left(e^{ 2 \\cdot \\pi \\cdot i \\cdot \\left(\\left( \\left(2^{t}\\right) \\cdot \\delta \\right) - \\left( \\left(2^{t}\\right) \\cdot \\frac{l}{2^{t}} \\right)\\right) }\\right) - 1}{\\left(e^{ 2 \\cdot \\pi \\cdot i \\cdot \\left(\\delta - \\frac{l}{2^{t}}\\right) }\\right) - 1} \\right)$  assuming $l \\in \\mathbb{Z}$ \n",
      "        implication $\\left(\\alpha_{l} = \\left( \\frac{1}{2^{t}} \\cdot \\frac{\\left(e^{ 2 \\cdot \\pi \\cdot i \\cdot \\left( \\left(2^{t}\\right) \\cdot \\left(\\delta - \\frac{l}{2^{t}}\\right) \\right) }\\right) - 1}{\\left(e^{ 2 \\cdot \\pi \\cdot i \\cdot \\left(\\delta - \\frac{l}{2^{t}}\\right) }\\right) - 1} \\right)\\right) \\Rightarrow \\left(\\alpha_{l} = \\left( \\frac{1}{2^{t}} \\cdot \\frac{\\left(e^{ 2 \\cdot \\pi \\cdot i \\cdot \\left(\\left( \\left(2^{t}\\right) \\cdot \\delta \\right) - \\left( \\left(2^{t}\\right) \\cdot \\frac{l}{2^{t}} \\right)\\right) }\\right) - 1}{\\left(e^{ 2 \\cdot \\pi \\cdot i \\cdot \\left(\\delta - \\frac{l}{2^{t}}\\right) }\\right) - 1} \\right)\\right)$  assuming $l \\in \\mathbb{Z}$ \n",
      "          implication $\\left(\\left( \\left(2^{t}\\right) \\cdot \\left(\\delta - \\frac{l}{2^{t}}\\right) \\right) = \\left(\\left( \\left(2^{t}\\right) \\cdot \\delta \\right) - \\left( \\left(2^{t}\\right) \\cdot \\frac{l}{2^{t}} \\right)\\right)\\right) \\Rightarrow \\left(\\left(\\alpha_{l} = \\left( \\frac{1}{2^{t}} \\cdot \\frac{\\left(e^{ 2 \\cdot \\pi \\cdot i \\cdot \\left( \\left(2^{t}\\right) \\cdot \\left(\\delta - \\frac{l}{2^{t}}\\right) \\right) }\\right) - 1}{\\left(e^{ 2 \\cdot \\pi \\cdot i \\cdot \\left(\\delta - \\frac{l}{2^{t}}\\right) }\\right) - 1} \\right)\\right) \\Rightarrow \\left(\\alpha_{l} = \\left( \\frac{1}{2^{t}} \\cdot \\frac{\\left(e^{ 2 \\cdot \\pi \\cdot i \\cdot \\left(\\left( \\left(2^{t}\\right) \\cdot \\delta \\right) - \\left( \\left(2^{t}\\right) \\cdot \\frac{l}{2^{t}} \\right)\\right) }\\right) - 1}{\\left(e^{ 2 \\cdot \\pi \\cdot i \\cdot \\left(\\delta - \\frac{l}{2^{t}}\\right) }\\right) - 1} \\right)\\right)\\right)$ \n",
      "            specializing $\\forall_{ P , x , y } \\left(\\left(x = y\\right) \\Rightarrow \\left(P\\left( x \\right) \\Rightarrow P\\left( y \\right)\\right)\\right)$  proven above\n",
      "          hypothesis $\\left( \\left(2^{t}\\right) \\cdot \\left(\\delta - \\frac{l}{2^{t}}\\right) \\right) = \\left(\\left( \\left(2^{t}\\right) \\cdot \\delta \\right) - \\left( \\left(2^{t}\\right) \\cdot \\frac{l}{2^{t}} \\right)\\right)$  assuming $l \\in \\mathbb{Z}$ \n",
      "            specializing $\\forall_{~.., w_{\\Box} ,..~, x , y ,~.., z_{\\Box} ,..~ \\in \\mathbb{C}} \\left(\\left(~..\\cdot w_{\\Box} \\cdot..~\\cdot \\left(x - y\\right) \\cdot~..\\cdot z_{\\Box} \\cdot..~\\right) = \\left(\\left(~..\\cdot w_{\\Box} \\cdot..~\\cdot x \\cdot~..\\cdot z_{\\Box} \\cdot..~\\right) - \\left(~..\\cdot w_{\\Box} \\cdot..~\\cdot y \\cdot~..\\cdot z_{\\Box} \\cdot..~\\right)\\right)\\right)$ \n",
      "              by theorem proveit.number.complex.distributeThroughSubtract\n",
      "            condition $\\left(2^{t}\\right) \\in \\mathbb{C}$  proven above\n",
      "            condition $\\frac{l}{2^{t}} \\in \\mathbb{C}$  assuming $l \\in \\mathbb{Z}$ \n",
      "              specializing $\\forall_{ a  \\in \\mathbb{R}} \\left(a \\in \\mathbb{C}\\right)$  proven above\n",
      "              condition $\\frac{l}{2^{t}} \\in \\mathbb{R}$  assuming $l \\in \\mathbb{Z}$  proven above\n",
      "            condition $\\delta \\in \\mathbb{C}$ \n",
      "              specializing $\\forall_{ a  \\in \\mathbb{R}} \\left(a \\in \\mathbb{C}\\right)$  proven above\n",
      "              condition $\\delta \\in \\mathbb{R}$  proven above\n",
      "        hypothesis $\\alpha_{l} = \\left( \\frac{1}{2^{t}} \\cdot \\frac{\\left(e^{ 2 \\cdot \\pi \\cdot i \\cdot \\left( \\left(2^{t}\\right) \\cdot \\left(\\delta - \\frac{l}{2^{t}}\\right) \\right) }\\right) - 1}{\\left(e^{ 2 \\cdot \\pi \\cdot i \\cdot \\left(\\delta - \\frac{l}{2^{t}}\\right) }\\right) - 1} \\right)$  assuming $l \\in \\mathbb{Z}$ \n",
      "          implication $\\left(\\alpha_{l} = \\left( \\frac{1}{2^{t}} \\cdot \\frac{\\left(e^{ 2 \\cdot \\pi \\cdot i \\cdot \\left( \\left(\\delta - \\frac{l}{2^{t}}\\right) \\cdot \\left(2^{t}\\right) \\right) }\\right) - 1}{\\left(e^{ 2 \\cdot \\pi \\cdot i \\cdot \\left(\\delta - \\frac{l}{2^{t}}\\right) }\\right) - 1} \\right)\\right) \\Rightarrow \\left(\\alpha_{l} = \\left( \\frac{1}{2^{t}} \\cdot \\frac{\\left(e^{ 2 \\cdot \\pi \\cdot i \\cdot \\left( \\left(2^{t}\\right) \\cdot \\left(\\delta - \\frac{l}{2^{t}}\\right) \\right) }\\right) - 1}{\\left(e^{ 2 \\cdot \\pi \\cdot i \\cdot \\left(\\delta - \\frac{l}{2^{t}}\\right) }\\right) - 1} \\right)\\right)$  assuming $l \\in \\mathbb{Z}$ \n",
      "            implication $\\left(\\left( \\left(\\delta - \\frac{l}{2^{t}}\\right) \\cdot \\left(2^{t}\\right) \\right) = \\left( \\left(2^{t}\\right) \\cdot \\left(\\delta - \\frac{l}{2^{t}}\\right) \\right)\\right) \\Rightarrow \\left(\\left(\\alpha_{l} = \\left( \\frac{1}{2^{t}} \\cdot \\frac{\\left(e^{ 2 \\cdot \\pi \\cdot i \\cdot \\left( \\left(\\delta - \\frac{l}{2^{t}}\\right) \\cdot \\left(2^{t}\\right) \\right) }\\right) - 1}{\\left(e^{ 2 \\cdot \\pi \\cdot i \\cdot \\left(\\delta - \\frac{l}{2^{t}}\\right) }\\right) - 1} \\right)\\right) \\Rightarrow \\left(\\alpha_{l} = \\left( \\frac{1}{2^{t}} \\cdot \\frac{\\left(e^{ 2 \\cdot \\pi \\cdot i \\cdot \\left( \\left(2^{t}\\right) \\cdot \\left(\\delta - \\frac{l}{2^{t}}\\right) \\right) }\\right) - 1}{\\left(e^{ 2 \\cdot \\pi \\cdot i \\cdot \\left(\\delta - \\frac{l}{2^{t}}\\right) }\\right) - 1} \\right)\\right)\\right)$ \n",
      "              specializing $\\forall_{ P , x , y } \\left(\\left(x = y\\right) \\Rightarrow \\left(P\\left( x \\right) \\Rightarrow P\\left( y \\right)\\right)\\right)$  proven above\n",
      "            hypothesis $\\left( \\left(\\delta - \\frac{l}{2^{t}}\\right) \\cdot \\left(2^{t}\\right) \\right) = \\left( \\left(2^{t}\\right) \\cdot \\left(\\delta - \\frac{l}{2^{t}}\\right) \\right)$  assuming $l \\in \\mathbb{Z}$ \n",
      "              specializing $\\forall_{~.., v_{\\Box} ,..., w_{\\Box} ,..., x_{\\Box} ,..., y_{\\Box} ,..., z_{\\Box} ,..~ \\in \\mathbb{C}} \\left(\\left(~..\\cdot v_{\\Box} \\cdot...\\cdot w_{\\Box} \\cdot...\\cdot x_{\\Box} \\cdot...\\cdot y_{\\Box} \\cdot...\\cdot z_{\\Box} \\cdot..~\\right) = \\left(~..\\cdot v_{\\Box} \\cdot...\\cdot y_{\\Box} \\cdot...\\cdot x_{\\Box} \\cdot...\\cdot w_{\\Box} \\cdot...\\cdot z_{\\Box} \\cdot..~\\right)\\right)$ \n",
      "                by theorem proveit.number.complex.multComm\n",
      "              condition $\\left(2^{t}\\right) \\in \\mathbb{C}$  proven above\n",
      "              condition $\\left(\\delta - \\frac{l}{2^{t}}\\right) \\in \\mathbb{C}$  assuming $l \\in \\mathbb{Z}$  proven above\n",
      "          hypothesis $\\alpha_{l} = \\left( \\frac{1}{2^{t}} \\cdot \\frac{\\left(e^{ 2 \\cdot \\pi \\cdot i \\cdot \\left( \\left(\\delta - \\frac{l}{2^{t}}\\right) \\cdot \\left(2^{t}\\right) \\right) }\\right) - 1}{\\left(e^{ 2 \\cdot \\pi \\cdot i \\cdot \\left(\\delta - \\frac{l}{2^{t}}\\right) }\\right) - 1} \\right)$  assuming $l \\in \\mathbb{Z}$ \n",
      "            implication $\\left(\\alpha_{l} = \\left( \\frac{1}{2^{t}} \\cdot \\frac{\\left(e^{ 2 \\cdot \\pi \\cdot i \\cdot \\left(\\delta - \\frac{l}{2^{t}}\\right) \\cdot \\left(2^{t}\\right) }\\right) - 1}{\\left(e^{ 2 \\cdot \\pi \\cdot i \\cdot \\left(\\delta - \\frac{l}{2^{t}}\\right) }\\right) - 1} \\right)\\right) \\Rightarrow \\left(\\alpha_{l} = \\left( \\frac{1}{2^{t}} \\cdot \\frac{\\left(e^{ 2 \\cdot \\pi \\cdot i \\cdot \\left( \\left(\\delta - \\frac{l}{2^{t}}\\right) \\cdot \\left(2^{t}\\right) \\right) }\\right) - 1}{\\left(e^{ 2 \\cdot \\pi \\cdot i \\cdot \\left(\\delta - \\frac{l}{2^{t}}\\right) }\\right) - 1} \\right)\\right)$ \n",
      "              implication $\\left(\\left( 2 \\cdot \\pi \\cdot i \\cdot \\left(\\delta - \\frac{l}{2^{t}}\\right) \\cdot \\left(2^{t}\\right) \\right) = \\left( 2 \\cdot \\pi \\cdot i \\cdot \\left( \\left(\\delta - \\frac{l}{2^{t}}\\right) \\cdot \\left(2^{t}\\right) \\right) \\right)\\right) \\Rightarrow \\left(\\left(\\alpha_{l} = \\left( \\frac{1}{2^{t}} \\cdot \\frac{\\left(e^{ 2 \\cdot \\pi \\cdot i \\cdot \\left(\\delta - \\frac{l}{2^{t}}\\right) \\cdot \\left(2^{t}\\right) }\\right) - 1}{\\left(e^{ 2 \\cdot \\pi \\cdot i \\cdot \\left(\\delta - \\frac{l}{2^{t}}\\right) }\\right) - 1} \\right)\\right) \\Rightarrow \\left(\\alpha_{l} = \\left( \\frac{1}{2^{t}} \\cdot \\frac{\\left(e^{ 2 \\cdot \\pi \\cdot i \\cdot \\left( \\left(\\delta - \\frac{l}{2^{t}}\\right) \\cdot \\left(2^{t}\\right) \\right) }\\right) - 1}{\\left(e^{ 2 \\cdot \\pi \\cdot i \\cdot \\left(\\delta - \\frac{l}{2^{t}}\\right) }\\right) - 1} \\right)\\right)\\right)$ \n",
      "                specializing $\\forall_{ P , x , y } \\left(\\left(x = y\\right) \\Rightarrow \\left(P\\left( x \\right) \\Rightarrow P\\left( y \\right)\\right)\\right)$  proven above\n",
      "              hypothesis $\\left( 2 \\cdot \\pi \\cdot i \\cdot \\left(\\delta - \\frac{l}{2^{t}}\\right) \\cdot \\left(2^{t}\\right) \\right) = \\left( 2 \\cdot \\pi \\cdot i \\cdot \\left( \\left(\\delta - \\frac{l}{2^{t}}\\right) \\cdot \\left(2^{t}\\right) \\right) \\right)$ \n",
      "                specializing $\\forall_{~.., x_{\\Box} ,..., y_{\\Box} ,..., z_{\\Box} ,..~} \\left(\\left(~..\\cdot x_{\\Box} \\cdot...\\cdot y_{\\Box} \\cdot...\\cdot z_{\\Box} \\cdot..~\\right) = \\left(~..\\cdot x_{\\Box} \\cdot..~\\cdot \\left(~..\\cdot y_{\\Box} \\cdot..~\\right) \\cdot~..\\cdot z_{\\Box} \\cdot..~\\right)\\right)$ \n",
      "                  by axiom proveit.number.multAssoc\n",
      "            hypothesis $\\alpha_{l} = \\left( \\frac{1}{2^{t}} \\cdot \\frac{\\left(e^{ 2 \\cdot \\pi \\cdot i \\cdot \\left(\\delta - \\frac{l}{2^{t}}\\right) \\cdot \\left(2^{t}\\right) }\\right) - 1}{\\left(e^{ 2 \\cdot \\pi \\cdot i \\cdot \\left(\\delta - \\frac{l}{2^{t}}\\right) }\\right) - 1} \\right)$  assuming $l \\in \\mathbb{Z}$ \n",
      "              implication $\\left(\\alpha_{l} = \\left( \\frac{1}{2^{t}} \\cdot \\frac{\\left(e^{ \\left( 2 \\cdot \\pi \\cdot i \\cdot \\left(\\delta - \\frac{l}{2^{t}}\\right) \\right) \\cdot \\left(2^{t}\\right) }\\right) - 1}{\\left(e^{ 2 \\cdot \\pi \\cdot i \\cdot \\left(\\delta - \\frac{l}{2^{t}}\\right) }\\right) - 1} \\right)\\right) \\Rightarrow \\left(\\alpha_{l} = \\left( \\frac{1}{2^{t}} \\cdot \\frac{\\left(e^{ 2 \\cdot \\pi \\cdot i \\cdot \\left(\\delta - \\frac{l}{2^{t}}\\right) \\cdot \\left(2^{t}\\right) }\\right) - 1}{\\left(e^{ 2 \\cdot \\pi \\cdot i \\cdot \\left(\\delta - \\frac{l}{2^{t}}\\right) }\\right) - 1} \\right)\\right)$ \n",
      "                implication $\\left(\\left( \\left( 2 \\cdot \\pi \\cdot i \\cdot \\left(\\delta - \\frac{l}{2^{t}}\\right) \\right) \\cdot \\left(2^{t}\\right) \\right) = \\left( 2 \\cdot \\pi \\cdot i \\cdot \\left(\\delta - \\frac{l}{2^{t}}\\right) \\cdot \\left(2^{t}\\right) \\right)\\right) \\Rightarrow \\left(\\left(\\alpha_{l} = \\left( \\frac{1}{2^{t}} \\cdot \\frac{\\left(e^{ \\left( 2 \\cdot \\pi \\cdot i \\cdot \\left(\\delta - \\frac{l}{2^{t}}\\right) \\right) \\cdot \\left(2^{t}\\right) }\\right) - 1}{\\left(e^{ 2 \\cdot \\pi \\cdot i \\cdot \\left(\\delta - \\frac{l}{2^{t}}\\right) }\\right) - 1} \\right)\\right) \\Rightarrow \\left(\\alpha_{l} = \\left( \\frac{1}{2^{t}} \\cdot \\frac{\\left(e^{ 2 \\cdot \\pi \\cdot i \\cdot \\left(\\delta - \\frac{l}{2^{t}}\\right) \\cdot \\left(2^{t}\\right) }\\right) - 1}{\\left(e^{ 2 \\cdot \\pi \\cdot i \\cdot \\left(\\delta - \\frac{l}{2^{t}}\\right) }\\right) - 1} \\right)\\right)\\right)$ \n",
      "                  specializing $\\forall_{ P , x , y } \\left(\\left(x = y\\right) \\Rightarrow \\left(P\\left( x \\right) \\Rightarrow P\\left( y \\right)\\right)\\right)$  proven above\n",
      "                hypothesis $\\left( \\left( 2 \\cdot \\pi \\cdot i \\cdot \\left(\\delta - \\frac{l}{2^{t}}\\right) \\right) \\cdot \\left(2^{t}\\right) \\right) = \\left( 2 \\cdot \\pi \\cdot i \\cdot \\left(\\delta - \\frac{l}{2^{t}}\\right) \\cdot \\left(2^{t}\\right) \\right)$ \n",
      "                  specializing $\\forall_{~.., x_{\\Box} ,..., y_{\\Box} ,..., z_{\\Box} ,..~} \\left(\\left(~..\\cdot x_{\\Box} \\cdot..~\\cdot \\left(~..\\cdot y_{\\Box} \\cdot..~\\right) \\cdot~..\\cdot z_{\\Box} \\cdot..~\\right) = \\left(~..\\cdot x_{\\Box} \\cdot...\\cdot y_{\\Box} \\cdot...\\cdot z_{\\Box} \\cdot..~\\right)\\right)$ \n",
      "                    by theorem proveit.number.multAssocRev\n",
      "              hypothesis $\\alpha_{l} = \\left( \\frac{1}{2^{t}} \\cdot \\frac{\\left(e^{ \\left( 2 \\cdot \\pi \\cdot i \\cdot \\left(\\delta - \\frac{l}{2^{t}}\\right) \\right) \\cdot \\left(2^{t}\\right) }\\right) - 1}{\\left(e^{ 2 \\cdot \\pi \\cdot i \\cdot \\left(\\delta - \\frac{l}{2^{t}}\\right) }\\right) - 1} \\right)$  assuming $l \\in \\mathbb{Z}$ \n",
      "                implication $\\left(\\alpha_{l} = \\left( \\frac{1}{2^{t}} \\cdot \\frac{\\left(\\left(\\left(e^{ 2 \\cdot \\pi \\cdot i \\cdot \\left(\\delta - \\frac{l}{2^{t}}\\right) }\\right)\\right)^{2^{t}}\\right) - 1}{\\left(e^{ 2 \\cdot \\pi \\cdot i \\cdot \\left(\\delta - \\frac{l}{2^{t}}\\right) }\\right) - 1} \\right)\\right) \\Rightarrow \\left(\\alpha_{l} = \\left( \\frac{1}{2^{t}} \\cdot \\frac{\\left(e^{ \\left( 2 \\cdot \\pi \\cdot i \\cdot \\left(\\delta - \\frac{l}{2^{t}}\\right) \\right) \\cdot \\left(2^{t}\\right) }\\right) - 1}{\\left(e^{ 2 \\cdot \\pi \\cdot i \\cdot \\left(\\delta - \\frac{l}{2^{t}}\\right) }\\right) - 1} \\right)\\right)$  assuming $l \\in \\mathbb{Z}$ \n",
      "                  implication $\\left(\\left(\\left(\\left(e^{ 2 \\cdot \\pi \\cdot i \\cdot \\left(\\delta - \\frac{l}{2^{t}}\\right) }\\right)\\right)^{2^{t}}\\right) = \\left(e^{ \\left( 2 \\cdot \\pi \\cdot i \\cdot \\left(\\delta - \\frac{l}{2^{t}}\\right) \\right) \\cdot \\left(2^{t}\\right) }\\right)\\right) \\Rightarrow \\left(\\left(\\alpha_{l} = \\left( \\frac{1}{2^{t}} \\cdot \\frac{\\left(\\left(\\left(e^{ 2 \\cdot \\pi \\cdot i \\cdot \\left(\\delta - \\frac{l}{2^{t}}\\right) }\\right)\\right)^{2^{t}}\\right) - 1}{\\left(e^{ 2 \\cdot \\pi \\cdot i \\cdot \\left(\\delta - \\frac{l}{2^{t}}\\right) }\\right) - 1} \\right)\\right) \\Rightarrow \\left(\\alpha_{l} = \\left( \\frac{1}{2^{t}} \\cdot \\frac{\\left(e^{ \\left( 2 \\cdot \\pi \\cdot i \\cdot \\left(\\delta - \\frac{l}{2^{t}}\\right) \\right) \\cdot \\left(2^{t}\\right) }\\right) - 1}{\\left(e^{ 2 \\cdot \\pi \\cdot i \\cdot \\left(\\delta - \\frac{l}{2^{t}}\\right) }\\right) - 1} \\right)\\right)\\right)$ \n",
      "                    specializing $\\forall_{ P , x , y } \\left(\\left(x = y\\right) \\Rightarrow \\left(P\\left( x \\right) \\Rightarrow P\\left( y \\right)\\right)\\right)$  proven above\n",
      "                  hypothesis $\\left(\\left(\\left(e^{ 2 \\cdot \\pi \\cdot i \\cdot \\left(\\delta - \\frac{l}{2^{t}}\\right) }\\right)\\right)^{2^{t}}\\right) = \\left(e^{ \\left( 2 \\cdot \\pi \\cdot i \\cdot \\left(\\delta - \\frac{l}{2^{t}}\\right) \\right) \\cdot \\left(2^{t}\\right) }\\right)$  assuming $l \\in \\mathbb{Z}$ \n",
      "                    specializing $\\forall_{ a , b  \\in \\mathbb{C}~|~ \\left(a \\neq 0\\right) } \\left(\\left(\\left(\\left(a^{b}\\right)\\right)^{2^{t}}\\right) = \\left(a^{ b \\cdot \\left(2^{t}\\right) }\\right)\\right)$ \n",
      "                      specializing $\\forall_{ n  \\in \\mathbb{Z}} \\left[\\forall_{ a , b  \\in \\mathbb{C}~|~ \\left(a \\neq 0\\right) } \\left(\\left(\\left(\\left(a^{b}\\right)\\right)^{n}\\right) = \\left(a^{ b \\cdot n }\\right)\\right)\\right]$ \n",
      "                        by theorem proveit.number.complex.intPowOfPow\n",
      "                      condition $\\left(2^{t}\\right) \\in \\mathbb{Z}$ \n",
      "                        specializing $\\forall_{ a  \\in \\mathbb{N}^+} \\left(a \\in \\mathbb{Z}\\right)$ \n",
      "                          by theorem proveit.number.natural.inNatPos_inIntegers\n",
      "                        condition $\\left(2^{t}\\right) \\in \\mathbb{N}^+$  proven above\n",
      "                    condition $e \\neq 0$  proven above\n",
      "                    condition $e \\in \\mathbb{C}$  proven above\n",
      "                    condition $\\left( 2 \\cdot \\pi \\cdot i \\cdot \\left(\\delta - \\frac{l}{2^{t}}\\right) \\right) \\in \\mathbb{C}$  assuming $l \\in \\mathbb{Z}$  proven above\n",
      "                hypothesis $\\alpha_{l} = \\left( \\frac{1}{2^{t}} \\cdot \\frac{\\left(\\left(\\left(e^{ 2 \\cdot \\pi \\cdot i \\cdot \\left(\\delta - \\frac{l}{2^{t}}\\right) }\\right)\\right)^{2^{t}}\\right) - 1}{\\left(e^{ 2 \\cdot \\pi \\cdot i \\cdot \\left(\\delta - \\frac{l}{2^{t}}\\right) }\\right) - 1} \\right)$  assuming $l \\in \\mathbb{Z}$ \n",
      "                  implication $\\left(\\alpha_{l} = \\left( \\frac{1}{2^{t}} \\cdot \\frac{\\left(\\left(\\left(e^{ 2 \\cdot \\pi \\cdot i \\cdot \\left(\\delta - \\frac{l}{2^{t}}\\right) }\\right)\\right)^{ \\left(\\left(2^{t}\\right) - 1\\right) + 1 }\\right) - 1}{\\left(e^{ 2 \\cdot \\pi \\cdot i \\cdot \\left(\\delta - \\frac{l}{2^{t}}\\right) }\\right) - 1} \\right)\\right) \\Rightarrow \\left(\\alpha_{l} = \\left( \\frac{1}{2^{t}} \\cdot \\frac{\\left(\\left(\\left(e^{ 2 \\cdot \\pi \\cdot i \\cdot \\left(\\delta - \\frac{l}{2^{t}}\\right) }\\right)\\right)^{2^{t}}\\right) - 1}{\\left(e^{ 2 \\cdot \\pi \\cdot i \\cdot \\left(\\delta - \\frac{l}{2^{t}}\\right) }\\right) - 1} \\right)\\right)$ \n",
      "                    implication $\\left(\\left( \\left(\\left(2^{t}\\right) - 1\\right) + 1 \\right) = \\left(2^{t}\\right)\\right) \\Rightarrow \\left(\\left(\\alpha_{l} = \\left( \\frac{1}{2^{t}} \\cdot \\frac{\\left(\\left(\\left(e^{ 2 \\cdot \\pi \\cdot i \\cdot \\left(\\delta - \\frac{l}{2^{t}}\\right) }\\right)\\right)^{ \\left(\\left(2^{t}\\right) - 1\\right) + 1 }\\right) - 1}{\\left(e^{ 2 \\cdot \\pi \\cdot i \\cdot \\left(\\delta - \\frac{l}{2^{t}}\\right) }\\right) - 1} \\right)\\right) \\Rightarrow \\left(\\alpha_{l} = \\left( \\frac{1}{2^{t}} \\cdot \\frac{\\left(\\left(\\left(e^{ 2 \\cdot \\pi \\cdot i \\cdot \\left(\\delta - \\frac{l}{2^{t}}\\right) }\\right)\\right)^{2^{t}}\\right) - 1}{\\left(e^{ 2 \\cdot \\pi \\cdot i \\cdot \\left(\\delta - \\frac{l}{2^{t}}\\right) }\\right) - 1} \\right)\\right)\\right)$ \n",
      "                      specializing $\\forall_{ P , x , y } \\left(\\left(x = y\\right) \\Rightarrow \\left(P\\left( x \\right) \\Rightarrow P\\left( y \\right)\\right)\\right)$  proven above\n",
      "                    hypothesis $\\left( \\left(\\left(2^{t}\\right) - 1\\right) + 1 \\right) = \\left(2^{t}\\right)$ \n",
      "                      specializing $\\forall_{ a , b  \\in \\mathbb{C}} \\left(\\left( \\left(a - b\\right) + b \\right) = a\\right)$ \n",
      "                        by theorem proveit.number.complex.cancelSubThenAdd\n",
      "                      condition $\\left(2^{t}\\right) \\in \\mathbb{C}$  proven above\n",
      "                      condition $1 \\in \\mathbb{C}$  proven above\n",
      "                  hypothesis $\\alpha_{l} = \\left( \\frac{1}{2^{t}} \\cdot \\frac{\\left(\\left(\\left(e^{ 2 \\cdot \\pi \\cdot i \\cdot \\left(\\delta - \\frac{l}{2^{t}}\\right) }\\right)\\right)^{ \\left(\\left(2^{t}\\right) - 1\\right) + 1 }\\right) - 1}{\\left(e^{ 2 \\cdot \\pi \\cdot i \\cdot \\left(\\delta - \\frac{l}{2^{t}}\\right) }\\right) - 1} \\right)$  assuming $l \\in \\mathbb{Z}$ \n",
      "                    implication $\\left(\\alpha_{l} = \\left( \\frac{1}{2^{t}} \\cdot \\frac{\\left(\\left(\\left(e^{ 2 \\cdot \\pi \\cdot i \\cdot \\left(\\delta - \\frac{l}{2^{t}}\\right) }\\right)\\right)^{ \\left(\\left(2^{t}\\right) - 1\\right) + 1 }\\right) - \\left(\\left(\\left(e^{ 2 \\cdot \\pi \\cdot i \\cdot \\left(\\delta - \\frac{l}{2^{t}}\\right) }\\right)\\right)^{0}\\right)}{\\left(e^{ 2 \\cdot \\pi \\cdot i \\cdot \\left(\\delta - \\frac{l}{2^{t}}\\right) }\\right) - 1} \\right)\\right) \\Rightarrow \\left(\\alpha_{l} = \\left( \\frac{1}{2^{t}} \\cdot \\frac{\\left(\\left(\\left(e^{ 2 \\cdot \\pi \\cdot i \\cdot \\left(\\delta - \\frac{l}{2^{t}}\\right) }\\right)\\right)^{ \\left(\\left(2^{t}\\right) - 1\\right) + 1 }\\right) - 1}{\\left(e^{ 2 \\cdot \\pi \\cdot i \\cdot \\left(\\delta - \\frac{l}{2^{t}}\\right) }\\right) - 1} \\right)\\right)$  assuming $l \\in \\mathbb{Z}$ \n",
      "                      implication $\\left(\\left(\\left(\\left(e^{ 2 \\cdot \\pi \\cdot i \\cdot \\left(\\delta - \\frac{l}{2^{t}}\\right) }\\right)\\right)^{0}\\right) = 1\\right) \\Rightarrow \\left(\\left(\\alpha_{l} = \\left( \\frac{1}{2^{t}} \\cdot \\frac{\\left(\\left(\\left(e^{ 2 \\cdot \\pi \\cdot i \\cdot \\left(\\delta - \\frac{l}{2^{t}}\\right) }\\right)\\right)^{ \\left(\\left(2^{t}\\right) - 1\\right) + 1 }\\right) - \\left(\\left(\\left(e^{ 2 \\cdot \\pi \\cdot i \\cdot \\left(\\delta - \\frac{l}{2^{t}}\\right) }\\right)\\right)^{0}\\right)}{\\left(e^{ 2 \\cdot \\pi \\cdot i \\cdot \\left(\\delta - \\frac{l}{2^{t}}\\right) }\\right) - 1} \\right)\\right) \\Rightarrow \\left(\\alpha_{l} = \\left( \\frac{1}{2^{t}} \\cdot \\frac{\\left(\\left(\\left(e^{ 2 \\cdot \\pi \\cdot i \\cdot \\left(\\delta - \\frac{l}{2^{t}}\\right) }\\right)\\right)^{ \\left(\\left(2^{t}\\right) - 1\\right) + 1 }\\right) - 1}{\\left(e^{ 2 \\cdot \\pi \\cdot i \\cdot \\left(\\delta - \\frac{l}{2^{t}}\\right) }\\right) - 1} \\right)\\right)\\right)$ \n",
      "                        specializing $\\forall_{ P , x , y } \\left(\\left(x = y\\right) \\Rightarrow \\left(P\\left( x \\right) \\Rightarrow P\\left( y \\right)\\right)\\right)$  proven above\n",
      "                      hypothesis $\\left(\\left(\\left(e^{ 2 \\cdot \\pi \\cdot i \\cdot \\left(\\delta - \\frac{l}{2^{t}}\\right) }\\right)\\right)^{0}\\right) = 1$  assuming $l \\in \\mathbb{Z}$ \n",
      "                        specializing $\\forall_{ a  \\in \\mathbb{C}~|~ \\left(a \\neq 0\\right) } \\left(\\left(a^{0}\\right) = 1\\right)$ \n",
      "                          by theorem proveit.number.complex.powZeroEqOne\n",
      "                        condition $\\left(e^{ 2 \\cdot \\pi \\cdot i \\cdot \\left(\\delta - \\frac{l}{2^{t}}\\right) }\\right) \\neq 0$  assuming $l \\in \\mathbb{Z}$ \n",
      "                          specializing $\\forall_{ a , b  \\in \\mathbb{C}~|~ \\left(a \\neq 0\\right) } \\left(\\left(a^{b}\\right) \\neq 0\\right)$ \n",
      "                            by theorem proveit.number.complex.powNotEqZero\n",
      "                          condition $e \\neq 0$  proven above\n",
      "                          condition $e \\in \\mathbb{C}$  proven above\n",
      "                          condition $\\left( 2 \\cdot \\pi \\cdot i \\cdot \\left(\\delta - \\frac{l}{2^{t}}\\right) \\right) \\in \\mathbb{C}$  assuming $l \\in \\mathbb{Z}$  proven above\n",
      "                        condition $\\left(e^{ 2 \\cdot \\pi \\cdot i \\cdot \\left(\\delta - \\frac{l}{2^{t}}\\right) }\\right) \\in \\mathbb{C}$  assuming $l \\in \\mathbb{Z}$  proven above\n",
      "                    hypothesis $\\alpha_{l} = \\left( \\frac{1}{2^{t}} \\cdot \\frac{\\left(\\left(\\left(e^{ 2 \\cdot \\pi \\cdot i \\cdot \\left(\\delta - \\frac{l}{2^{t}}\\right) }\\right)\\right)^{ \\left(\\left(2^{t}\\right) - 1\\right) + 1 }\\right) - \\left(\\left(\\left(e^{ 2 \\cdot \\pi \\cdot i \\cdot \\left(\\delta - \\frac{l}{2^{t}}\\right) }\\right)\\right)^{0}\\right)}{\\left(e^{ 2 \\cdot \\pi \\cdot i \\cdot \\left(\\delta - \\frac{l}{2^{t}}\\right) }\\right) - 1} \\right)$  assuming $l \\in \\mathbb{Z}$ \n",
      "                      implication $\\left(\\alpha_{l} = \\left( \\frac{1}{2^{t}} \\cdot \\left(\\sum_{k=0}^{\\left(2^{t}\\right) - 1} \\left(\\left(\\left(e^{ 2 \\cdot \\pi \\cdot i \\cdot \\left(\\delta - \\frac{l}{2^{t}}\\right) }\\right)\\right)^{k}\\right)\\right) \\right)\\right) \\Rightarrow \\left(\\alpha_{l} = \\left( \\frac{1}{2^{t}} \\cdot \\frac{\\left(\\left(\\left(e^{ 2 \\cdot \\pi \\cdot i \\cdot \\left(\\delta - \\frac{l}{2^{t}}\\right) }\\right)\\right)^{ \\left(\\left(2^{t}\\right) - 1\\right) + 1 }\\right) - \\left(\\left(\\left(e^{ 2 \\cdot \\pi \\cdot i \\cdot \\left(\\delta - \\frac{l}{2^{t}}\\right) }\\right)\\right)^{0}\\right)}{\\left(e^{ 2 \\cdot \\pi \\cdot i \\cdot \\left(\\delta - \\frac{l}{2^{t}}\\right) }\\right) - 1} \\right)\\right)$  assuming $l \\in \\mathbb{Z}$ \n",
      "                        implication $\\left(\\left(\\sum_{k=0}^{\\left(2^{t}\\right) - 1} \\left(\\left(\\left(e^{ 2 \\cdot \\pi \\cdot i \\cdot \\left(\\delta - \\frac{l}{2^{t}}\\right) }\\right)\\right)^{k}\\right)\\right) = \\frac{\\left(\\left(\\left(e^{ 2 \\cdot \\pi \\cdot i \\cdot \\left(\\delta - \\frac{l}{2^{t}}\\right) }\\right)\\right)^{ \\left(\\left(2^{t}\\right) - 1\\right) + 1 }\\right) - \\left(\\left(\\left(e^{ 2 \\cdot \\pi \\cdot i \\cdot \\left(\\delta - \\frac{l}{2^{t}}\\right) }\\right)\\right)^{0}\\right)}{\\left(e^{ 2 \\cdot \\pi \\cdot i \\cdot \\left(\\delta - \\frac{l}{2^{t}}\\right) }\\right) - 1}\\right) \\Rightarrow \\left(\\left(\\alpha_{l} = \\left( \\frac{1}{2^{t}} \\cdot \\left(\\sum_{k=0}^{\\left(2^{t}\\right) - 1} \\left(\\left(\\left(e^{ 2 \\cdot \\pi \\cdot i \\cdot \\left(\\delta - \\frac{l}{2^{t}}\\right) }\\right)\\right)^{k}\\right)\\right) \\right)\\right) \\Rightarrow \\left(\\alpha_{l} = \\left( \\frac{1}{2^{t}} \\cdot \\frac{\\left(\\left(\\left(e^{ 2 \\cdot \\pi \\cdot i \\cdot \\left(\\delta - \\frac{l}{2^{t}}\\right) }\\right)\\right)^{ \\left(\\left(2^{t}\\right) - 1\\right) + 1 }\\right) - \\left(\\left(\\left(e^{ 2 \\cdot \\pi \\cdot i \\cdot \\left(\\delta - \\frac{l}{2^{t}}\\right) }\\right)\\right)^{0}\\right)}{\\left(e^{ 2 \\cdot \\pi \\cdot i \\cdot \\left(\\delta - \\frac{l}{2^{t}}\\right) }\\right) - 1} \\right)\\right)\\right)$ \n",
      "                          specializing $\\forall_{ P , x , y } \\left(\\left(x = y\\right) \\Rightarrow \\left(P\\left( x \\right) \\Rightarrow P\\left( y \\right)\\right)\\right)$  proven above\n",
      "                        hypothesis $\\left(\\sum_{k=0}^{\\left(2^{t}\\right) - 1} \\left(\\left(\\left(e^{ 2 \\cdot \\pi \\cdot i \\cdot \\left(\\delta - \\frac{l}{2^{t}}\\right) }\\right)\\right)^{k}\\right)\\right) = \\frac{\\left(\\left(\\left(e^{ 2 \\cdot \\pi \\cdot i \\cdot \\left(\\delta - \\frac{l}{2^{t}}\\right) }\\right)\\right)^{ \\left(\\left(2^{t}\\right) - 1\\right) + 1 }\\right) - \\left(\\left(\\left(e^{ 2 \\cdot \\pi \\cdot i \\cdot \\left(\\delta - \\frac{l}{2^{t}}\\right) }\\right)\\right)^{0}\\right)}{\\left(e^{ 2 \\cdot \\pi \\cdot i \\cdot \\left(\\delta - \\frac{l}{2^{t}}\\right) }\\right) - 1}$  assuming $l \\in \\mathbb{Z}$ \n",
      "                          specializing $\\forall_{ x , k , l ~|~ \\left(k \\in \\mathbb{Z}\\right) , \\left(l \\in \\mathbb{Z}\\right) , \\left(x \\in \\mathbb{C}\\right) , \\left(k < l\\right) } \\left(\\left(\\sum_{m=k}^{l} \\left(x^{m}\\right)\\right) = \\frac{\\left(x^{ l + 1 }\\right) - \\left(x^{k}\\right)}{x - 1}\\right)$ \n",
      "                            by theorem proveit.number.complex.finGeomSum\n",
      "                          condition $0 \\in \\mathbb{Z}$ \n",
      "                            specializing $\\forall_{ a  \\in \\mathbb{N}} \\left(a \\in \\mathbb{Z}\\right)$ \n",
      "                              by theorem proveit.number.natural.inIntegers\n",
      "                            condition $0 \\in \\mathbb{N}$ \n",
      "                          condition $0 < \\left(\\left(2^{t}\\right) - 1\\right)$ \n",
      "                            implication $\\left(\\left(\\left(2^{t}\\right) - 1\\right) > 0\\right) \\Rightarrow \\left(0 < \\left(\\left(2^{t}\\right) - 1\\right)\\right)$ \n",
      "                              specializing $\\forall_{ x , y } \\left(\\left(x > y\\right) \\Rightarrow \\left(y < x\\right)\\right)$ \n",
      "                                by axiom proveit.number.reverseGreaterThan\n",
      "                            hypothesis $\\left(\\left(2^{t}\\right) - 1\\right) > 0$ \n",
      "                              implication $\\left(\\left(\\left(2^{t}\\right) - 1\\right) \\in \\mathbb{R}^+\\right) \\Rightarrow \\left(\\left(\\left(2^{t}\\right) - 1\\right) > 0\\right)$ \n",
      "                                implication $\\left(\\left(\\left(\\left(2^{t}\\right) - 1\\right) \\in \\mathbb{R}^+\\right) \\Leftrightarrow \\left(\\left(\\left(2^{t}\\right) - 1\\right) > 0\\right)\\right) \\Rightarrow \\left(\\left(\\left(\\left(2^{t}\\right) - 1\\right) \\in \\mathbb{R}^+\\right) \\Rightarrow \\left(\\left(\\left(2^{t}\\right) - 1\\right) > 0\\right)\\right)$ \n",
      "                                  specializing $\\forall_{ A , B } \\left(\\left(A \\Leftrightarrow B\\right) \\Rightarrow \\left(A \\Rightarrow B\\right)\\right)$  proven above\n",
      "                                hypothesis $\\left(\\left(\\left(2^{t}\\right) - 1\\right) \\in \\mathbb{R}^+\\right) \\Leftrightarrow \\left(\\left(\\left(2^{t}\\right) - 1\\right) > 0\\right)$ \n",
      "                                  specializing $\\forall_{ a  \\in \\mathbb{R}} \\left(\\left(a \\in \\mathbb{R}^+\\right) \\Leftrightarrow \\left(a > 0\\right)\\right)$  proven above\n",
      "                                  condition $\\left(\\left(2^{t}\\right) - 1\\right) \\in \\mathbb{R}$ \n",
      "                                    specializing $\\forall_{ a  \\in \\mathbb{N}^+} \\left(a \\in \\mathbb{R}\\right)$  proven above\n",
      "                                    condition $\\left(\\left(2^{t}\\right) - 1\\right) \\in \\mathbb{N}^+$ \n",
      "                                      by theorem proveit.physics.quantum.QPE.two_pow_t_less_one_in_posnats\n",
      "                              hypothesis $\\left(\\left(2^{t}\\right) - 1\\right) \\in \\mathbb{R}^+$ \n",
      "                                specializing $\\forall_{ a  \\in \\mathbb{N}^+} \\left(a \\in \\mathbb{R}^+\\right)$  proven above\n",
      "                                condition $\\left(\\left(2^{t}\\right) - 1\\right) \\in \\mathbb{N}^+$  proven above\n",
      "                          condition $\\left(\\left(2^{t}\\right) - 1\\right) \\in \\mathbb{Z}$ \n",
      "                            specializing $\\forall_{ a  \\in \\mathbb{N}^+} \\left(a \\in \\mathbb{Z}\\right)$  proven above\n",
      "                            condition $\\left(\\left(2^{t}\\right) - 1\\right) \\in \\mathbb{N}^+$  proven above\n",
      "                          condition $\\left(e^{ 2 \\cdot \\pi \\cdot i \\cdot \\left(\\delta - \\frac{l}{2^{t}}\\right) }\\right) \\in \\mathbb{C}$  assuming $l \\in \\mathbb{Z}$  proven above\n",
      "                      hypothesis $\\alpha_{l} = \\left( \\frac{1}{2^{t}} \\cdot \\left(\\sum_{k=0}^{\\left(2^{t}\\right) - 1} \\left(\\left(\\left(e^{ 2 \\cdot \\pi \\cdot i \\cdot \\left(\\delta - \\frac{l}{2^{t}}\\right) }\\right)\\right)^{k}\\right)\\right) \\right)$  assuming $l \\in \\mathbb{Z}$ \n",
      "                        implication $\\left(\\alpha_{l} = \\left( \\frac{1}{2^{t}} \\cdot \\left(\\sum_{k=0}^{\\left(2^{t}\\right) - 1} \\left(\\left(\\left(e^{ 2 \\cdot \\pi \\cdot i \\cdot \\left(\\left( \\frac{b}{2^{t}} + \\delta \\right) - \\frac{ b + l }{2^{t}}\\right) }\\right)\\right)^{k}\\right)\\right) \\right)\\right) \\Rightarrow \\left(\\alpha_{l} = \\left( \\frac{1}{2^{t}} \\cdot \\left(\\sum_{k=0}^{\\left(2^{t}\\right) - 1} \\left(\\left(\\left(e^{ 2 \\cdot \\pi \\cdot i \\cdot \\left(\\delta - \\frac{l}{2^{t}}\\right) }\\right)\\right)^{k}\\right)\\right) \\right)\\right)$  assuming $l \\in \\mathbb{Z}$ \n",
      "                          implication $\\left(\\left(\\left( \\frac{b}{2^{t}} + \\delta \\right) - \\frac{ b + l }{2^{t}}\\right) = \\left(\\delta - \\frac{l}{2^{t}}\\right)\\right) \\Rightarrow \\left(\\left(\\alpha_{l} = \\left( \\frac{1}{2^{t}} \\cdot \\left(\\sum_{k=0}^{\\left(2^{t}\\right) - 1} \\left(\\left(\\left(e^{ 2 \\cdot \\pi \\cdot i \\cdot \\left(\\left( \\frac{b}{2^{t}} + \\delta \\right) - \\frac{ b + l }{2^{t}}\\right) }\\right)\\right)^{k}\\right)\\right) \\right)\\right) \\Rightarrow \\left(\\alpha_{l} = \\left( \\frac{1}{2^{t}} \\cdot \\left(\\sum_{k=0}^{\\left(2^{t}\\right) - 1} \\left(\\left(\\left(e^{ 2 \\cdot \\pi \\cdot i \\cdot \\left(\\delta - \\frac{l}{2^{t}}\\right) }\\right)\\right)^{k}\\right)\\right) \\right)\\right)\\right)$ \n",
      "                            specializing $\\forall_{ P , x , y } \\left(\\left(x = y\\right) \\Rightarrow \\left(P\\left( x \\right) \\Rightarrow P\\left( y \\right)\\right)\\right)$  proven above\n",
      "                          hypothesis $\\left(\\left( \\frac{b}{2^{t}} + \\delta \\right) - \\frac{ b + l }{2^{t}}\\right) = \\left(\\delta - \\frac{l}{2^{t}}\\right)$  assuming $l \\in \\mathbb{Z}$ \n",
      "                            implication $\\left(\\left(\\left( \\frac{b}{2^{t}} + \\delta \\right) - \\left( \\frac{b}{2^{t}} + \\frac{l}{2^{t}} \\right)\\right) = \\left(\\delta - \\frac{l}{2^{t}}\\right)\\right) \\Rightarrow \\left(\\left(\\left( \\frac{b}{2^{t}} + \\delta \\right) - \\frac{ b + l }{2^{t}}\\right) = \\left(\\delta - \\frac{l}{2^{t}}\\right)\\right)$  assuming $l \\in \\mathbb{Z}$ \n",
      "                              implication $\\left(\\left(\\left( \\frac{b}{2^{t}} + \\delta \\right) - \\frac{ b + l }{2^{t}}\\right) = \\left(\\left( \\frac{b}{2^{t}} + \\delta \\right) - \\left( \\frac{b}{2^{t}} + \\frac{l}{2^{t}} \\right)\\right)\\right) \\Rightarrow \\left(\\left(\\left(\\left( \\frac{b}{2^{t}} + \\delta \\right) - \\left( \\frac{b}{2^{t}} + \\frac{l}{2^{t}} \\right)\\right) = \\left(\\delta - \\frac{l}{2^{t}}\\right)\\right) \\Rightarrow \\left(\\left(\\left( \\frac{b}{2^{t}} + \\delta \\right) - \\frac{ b + l }{2^{t}}\\right) = \\left(\\delta - \\frac{l}{2^{t}}\\right)\\right)\\right)$ \n",
      "                                specializing $\\forall_{ x , y , z } \\left(\\left(x = y\\right) \\Rightarrow \\left(\\left(y = z\\right) \\Rightarrow \\left(x = z\\right)\\right)\\right)$ \n",
      "                                  by axiom proveit.basiclogic.equality.equalsTransitivity\n",
      "                              hypothesis $\\left(\\left( \\frac{b}{2^{t}} + \\delta \\right) - \\frac{ b + l }{2^{t}}\\right) = \\left(\\left( \\frac{b}{2^{t}} + \\delta \\right) - \\left( \\frac{b}{2^{t}} + \\frac{l}{2^{t}} \\right)\\right)$  assuming $l \\in \\mathbb{Z}$ \n",
      "                                implication $\\left(\\frac{ b + l }{2^{t}} = \\left( \\frac{b}{2^{t}} + \\frac{l}{2^{t}} \\right)\\right) \\Rightarrow \\left(\\left(\\left( \\frac{b}{2^{t}} + \\delta \\right) - \\frac{ b + l }{2^{t}}\\right) = \\left(\\left( \\frac{b}{2^{t}} + \\delta \\right) - \\left( \\frac{b}{2^{t}} + \\frac{l}{2^{t}} \\right)\\right)\\right)$ \n",
      "                                  specializing $\\forall_{ f , x , y } \\left(\\left(x = y\\right) \\Rightarrow \\left(f\\left( x \\right) = f\\left( y \\right)\\right)\\right)$ \n",
      "                                    by axiom proveit.basiclogic.equality.substitution\n",
      "                                hypothesis $\\frac{ b + l }{2^{t}} = \\left( \\frac{b}{2^{t}} + \\frac{l}{2^{t}} \\right)$  assuming $l \\in \\mathbb{Z}$ \n",
      "                                  specializing $\\forall_{~.., x_{\\Box} ,..~, y  \\in \\mathbb{C}~|~ \\left(y \\neq 0\\right) } \\left(\\frac{~..+ x_{\\Box} +..~}{y} = \\left(~..+ \\frac{x_{\\Box}}{y} +..~\\right)\\right)$ \n",
      "                                    by theorem proveit.number.complex.distributeFractionThroughSum\n",
      "                                  condition $\\left(2^{t}\\right) \\neq 0$  proven above\n",
      "                                  condition $\\left(2^{t}\\right) \\in \\mathbb{C}$  proven above\n",
      "                                  condition $l \\in \\mathbb{C}$  assuming $l \\in \\mathbb{Z}$  proven above\n",
      "                                  condition $b \\in \\mathbb{C}$ \n",
      "                                    specializing $\\forall_{ a  \\in \\mathbb{Z}} \\left(a \\in \\mathbb{C}\\right)$  proven above\n",
      "                                    condition $b \\in \\mathbb{Z}$ \n",
      "                                      by theorem proveit.physics.quantum.QPE.bestInInts\n",
      "                            hypothesis $\\left(\\left( \\frac{b}{2^{t}} + \\delta \\right) - \\left( \\frac{b}{2^{t}} + \\frac{l}{2^{t}} \\right)\\right) = \\left(\\delta - \\frac{l}{2^{t}}\\right)$  assuming $l \\in \\mathbb{Z}$ \n",
      "                              specializing $\\forall_{ x , y , z  \\in \\mathbb{C}} \\left(\\left(\\left( x + y \\right) - \\left( x + z \\right)\\right) = \\left(y - z\\right)\\right)$ \n",
      "                                by theorem proveit.number.complex.subtractCancelElimSums\n",
      "                              condition $\\frac{l}{2^{t}} \\in \\mathbb{C}$  assuming $l \\in \\mathbb{Z}$  proven above\n",
      "                              condition $\\frac{b}{2^{t}} \\in \\mathbb{C}$ \n",
      "                                specializing $\\forall_{ a  \\in \\mathbb{R}} \\left(a \\in \\mathbb{C}\\right)$  proven above\n",
      "                                condition $\\frac{b}{2^{t}} \\in \\mathbb{R}$ \n",
      "                                  specializing $\\forall_{ a , b  \\in \\mathbb{R}~|~ \\left(b \\neq 0\\right) } \\left(\\frac{a}{b} \\in \\mathbb{R}\\right)$  proven above\n",
      "                                  condition $\\left(2^{t}\\right) \\neq 0$  proven above\n",
      "                                  condition $b \\in \\mathbb{R}$ \n",
      "                                    specializing $\\forall_{ a  \\in \\mathbb{Z}} \\left(a \\in \\mathbb{R}\\right)$  proven above\n",
      "                                    condition $b \\in \\mathbb{Z}$  proven above\n",
      "                                  condition $\\left(2^{t}\\right) \\in \\mathbb{R}$  proven above\n",
      "                              condition $\\delta \\in \\mathbb{C}$  proven above\n",
      "                        hypothesis $\\alpha_{l} = \\left( \\frac{1}{2^{t}} \\cdot \\left(\\sum_{k=0}^{\\left(2^{t}\\right) - 1} \\left(\\left(\\left(e^{ 2 \\cdot \\pi \\cdot i \\cdot \\left(\\left( \\frac{b}{2^{t}} + \\delta \\right) - \\frac{ b + l }{2^{t}}\\right) }\\right)\\right)^{k}\\right)\\right) \\right)$  assuming $l \\in \\mathbb{Z}$ \n",
      "                          implication $\\left(\\alpha_{l} = \\left( \\frac{1}{2^{t}} \\cdot \\left(\\sum_{k=0}^{\\left(2^{t}\\right) - 1} \\left(\\left(\\left(e^{ 2 \\cdot \\pi \\cdot i \\cdot \\left(\\varphi - \\frac{ b + l }{2^{t}}\\right) }\\right)\\right)^{k}\\right)\\right) \\right)\\right) \\Rightarrow \\left(\\alpha_{l} = \\left( \\frac{1}{2^{t}} \\cdot \\left(\\sum_{k=0}^{\\left(2^{t}\\right) - 1} \\left(\\left(\\left(e^{ 2 \\cdot \\pi \\cdot i \\cdot \\left(\\left( \\frac{b}{2^{t}} + \\delta \\right) - \\frac{ b + l }{2^{t}}\\right) }\\right)\\right)^{k}\\right)\\right) \\right)\\right)$ \n",
      "                            implication $\\left(\\varphi = \\left( \\frac{b}{2^{t}} + \\delta \\right)\\right) \\Rightarrow \\left(\\left(\\alpha_{l} = \\left( \\frac{1}{2^{t}} \\cdot \\left(\\sum_{k=0}^{\\left(2^{t}\\right) - 1} \\left(\\left(\\left(e^{ 2 \\cdot \\pi \\cdot i \\cdot \\left(\\varphi - \\frac{ b + l }{2^{t}}\\right) }\\right)\\right)^{k}\\right)\\right) \\right)\\right) \\Rightarrow \\left(\\alpha_{l} = \\left( \\frac{1}{2^{t}} \\cdot \\left(\\sum_{k=0}^{\\left(2^{t}\\right) - 1} \\left(\\left(\\left(e^{ 2 \\cdot \\pi \\cdot i \\cdot \\left(\\left( \\frac{b}{2^{t}} + \\delta \\right) - \\frac{ b + l }{2^{t}}\\right) }\\right)\\right)^{k}\\right)\\right) \\right)\\right)\\right)$ \n",
      "                              specializing $\\forall_{ P , x , y } \\left(\\left(x = y\\right) \\Rightarrow \\left(P\\left( x \\right) \\Rightarrow P\\left( y \\right)\\right)\\right)$  proven above\n",
      "                            hypothesis $\\varphi = \\left( \\frac{b}{2^{t}} + \\delta \\right)$ \n",
      "                              by theorem proveit.physics.quantum.QPE.phaseFromBest\n",
      "                          hypothesis $\\alpha_{l} = \\left( \\frac{1}{2^{t}} \\cdot \\left(\\sum_{k=0}^{\\left(2^{t}\\right) - 1} \\left(\\left(\\left(e^{ 2 \\cdot \\pi \\cdot i \\cdot \\left(\\varphi - \\frac{ b + l }{2^{t}}\\right) }\\right)\\right)^{k}\\right)\\right) \\right)$  assuming $l \\in \\mathbb{Z}$ \n",
      "                            implication $\\left(\\alpha_{l} = \\left( \\frac{1}{2^{t}} \\cdot \\left(\\sum_{k=0}^{\\left(2^{t}\\right) - 1} \\left( \\left(e^{\\frac{-\\left( 2 \\cdot \\pi \\cdot i \\cdot k \\cdot \\left(b \\oplus l\\right) \\right)}{2^{t}}}\\right) \\cdot \\left(e^{ 2 \\cdot \\pi \\cdot i \\cdot \\varphi \\cdot k }\\right) \\right)\\right) \\right)\\right) \\Rightarrow \\left(\\alpha_{l} = \\left( \\frac{1}{2^{t}} \\cdot \\left(\\sum_{k=0}^{\\left(2^{t}\\right) - 1} \\left(\\left(\\left(e^{ 2 \\cdot \\pi \\cdot i \\cdot \\left(\\varphi - \\frac{ b + l }{2^{t}}\\right) }\\right)\\right)^{k}\\right)\\right) \\right)\\right)$  assuming $l \\in \\mathbb{Z}$ \n",
      "                              implication $\\left(\\left(\\sum_{k=0}^{\\left(2^{t}\\right) - 1} \\left( \\left(e^{\\frac{-\\left( 2 \\cdot \\pi \\cdot i \\cdot k \\cdot \\left(b \\oplus l\\right) \\right)}{2^{t}}}\\right) \\cdot \\left(e^{ 2 \\cdot \\pi \\cdot i \\cdot \\varphi \\cdot k }\\right) \\right)\\right) = \\left(\\sum_{k=0}^{\\left(2^{t}\\right) - 1} \\left(\\left(\\left(e^{ 2 \\cdot \\pi \\cdot i \\cdot \\left(\\varphi - \\frac{ b + l }{2^{t}}\\right) }\\right)\\right)^{k}\\right)\\right)\\right) \\Rightarrow \\left(\\left(\\alpha_{l} = \\left( \\frac{1}{2^{t}} \\cdot \\left(\\sum_{k=0}^{\\left(2^{t}\\right) - 1} \\left( \\left(e^{\\frac{-\\left( 2 \\cdot \\pi \\cdot i \\cdot k \\cdot \\left(b \\oplus l\\right) \\right)}{2^{t}}}\\right) \\cdot \\left(e^{ 2 \\cdot \\pi \\cdot i \\cdot \\varphi \\cdot k }\\right) \\right)\\right) \\right)\\right) \\Rightarrow \\left(\\alpha_{l} = \\left( \\frac{1}{2^{t}} \\cdot \\left(\\sum_{k=0}^{\\left(2^{t}\\right) - 1} \\left(\\left(\\left(e^{ 2 \\cdot \\pi \\cdot i \\cdot \\left(\\varphi - \\frac{ b + l }{2^{t}}\\right) }\\right)\\right)^{k}\\right)\\right) \\right)\\right)\\right)$ \n",
      "                                specializing $\\forall_{ P , x , y } \\left(\\left(x = y\\right) \\Rightarrow \\left(P\\left( x \\right) \\Rightarrow P\\left( y \\right)\\right)\\right)$  proven above\n",
      "                              hypothesis $\\left(\\sum_{k=0}^{\\left(2^{t}\\right) - 1} \\left( \\left(e^{\\frac{-\\left( 2 \\cdot \\pi \\cdot i \\cdot k \\cdot \\left(b \\oplus l\\right) \\right)}{2^{t}}}\\right) \\cdot \\left(e^{ 2 \\cdot \\pi \\cdot i \\cdot \\varphi \\cdot k }\\right) \\right)\\right) = \\left(\\sum_{k=0}^{\\left(2^{t}\\right) - 1} \\left(\\left(\\left(e^{ 2 \\cdot \\pi \\cdot i \\cdot \\left(\\varphi - \\frac{ b + l }{2^{t}}\\right) }\\right)\\right)^{k}\\right)\\right)$  assuming $l \\in \\mathbb{Z}$ \n",
      "                                implication $\\left[\\forall_{ k  \\in \\{0\\ldots \\left(\\left(2^{t}\\right) - 1\\right)\\}} \\left(\\left( \\left(e^{\\frac{-\\left( 2 \\cdot \\pi \\cdot i \\cdot k \\cdot \\left(b \\oplus l\\right) \\right)}{2^{t}}}\\right) \\cdot \\left(e^{ 2 \\cdot \\pi \\cdot i \\cdot \\varphi \\cdot k }\\right) \\right) = \\left(\\left(\\left(e^{ 2 \\cdot \\pi \\cdot i \\cdot \\left(\\varphi - \\frac{ b + l }{2^{t}}\\right) }\\right)\\right)^{k}\\right)\\right)\\right] \\Rightarrow \\left(\\left(\\sum_{k=0}^{\\left(2^{t}\\right) - 1} \\left( \\left(e^{\\frac{-\\left( 2 \\cdot \\pi \\cdot i \\cdot k \\cdot \\left(b \\oplus l\\right) \\right)}{2^{t}}}\\right) \\cdot \\left(e^{ 2 \\cdot \\pi \\cdot i \\cdot \\varphi \\cdot k }\\right) \\right)\\right) = \\left(\\sum_{k=0}^{\\left(2^{t}\\right) - 1} \\left(\\left(\\left(e^{ 2 \\cdot \\pi \\cdot i \\cdot \\left(\\varphi - \\frac{ b + l }{2^{t}}\\right) }\\right)\\right)^{k}\\right)\\right)\\right)$ \n",
      "                                  specializing $\\forall_{ \\Upsilon ,~.., Q_{\\Box} ,..~, f , g , S } \\left(\\left[\\forall_{~.., x_{\\Box} ,..~ \\in S~|~~.., Q_{\\Box}\\left(~.., x_{\\Box} ,..~\\right) ,..~} \\left(f\\left(~.., x_{\\Box} ,..~\\right) = g\\left(~.., x_{\\Box} ,..~\\right)\\right)\\right] \\Rightarrow \\left(\\left[\\Upsilon_{~.., y_{\\Box} ,..~ \\in S~|~~.., Q_{\\Box}\\left(~.., y_{\\Box} ,..~\\right) ,..~} f\\left(~.., y_{\\Box} ,..~\\right)\\right] = \\left[\\Upsilon_{~.., z_{\\Box} ,..~ \\in S~|~~.., Q_{\\Box}\\left(~.., z_{\\Box} ,..~\\right) ,..~} g\\left(~.., z_{\\Box} ,..~\\right)\\right]\\right)\\right)$ \n",
      "                                    by axiom proveit.basiclogic.instanceSubstitution\n",
      "                                hypothesis $\\forall_{ k  \\in \\{0\\ldots \\left(\\left(2^{t}\\right) - 1\\right)\\}} \\left(\\left( \\left(e^{\\frac{-\\left( 2 \\cdot \\pi \\cdot i \\cdot k \\cdot \\left(b \\oplus l\\right) \\right)}{2^{t}}}\\right) \\cdot \\left(e^{ 2 \\cdot \\pi \\cdot i \\cdot \\varphi \\cdot k }\\right) \\right) = \\left(\\left(\\left(e^{ 2 \\cdot \\pi \\cdot i \\cdot \\left(\\varphi - \\frac{ b + l }{2^{t}}\\right) }\\right)\\right)^{k}\\right)\\right)$  assuming $l \\in \\mathbb{Z}$ \n",
      "                                  generalizing $\\left( \\left(e^{\\frac{-\\left( 2 \\cdot \\pi \\cdot i \\cdot k \\cdot \\left(b \\oplus l\\right) \\right)}{2^{t}}}\\right) \\cdot \\left(e^{ 2 \\cdot \\pi \\cdot i \\cdot \\varphi \\cdot k }\\right) \\right) = \\left(\\left(\\left(e^{ 2 \\cdot \\pi \\cdot i \\cdot \\left(\\varphi - \\frac{ b + l }{2^{t}}\\right) }\\right)\\right)^{k}\\right)$  assuming $l \\in \\mathbb{Z}$, $k \\in \\{0\\ldots \\left(\\left(2^{t}\\right) - 1\\right)\\}$ \n",
      "                                    implication $\\left(\\left(\\left(\\left(e^{\\left( 2 \\cdot \\pi \\cdot i \\cdot \\varphi \\right) - \\frac{ 2 \\cdot \\pi \\cdot i \\cdot \\left( b + l \\right) }{2^{t}}}\\right)\\right)^{k}\\right) = \\left(\\left(\\left(e^{ 2 \\cdot \\pi \\cdot i \\cdot \\left(\\varphi - \\frac{ b + l }{2^{t}}\\right) }\\right)\\right)^{k}\\right)\\right) \\Rightarrow \\left(\\left( \\left(e^{\\frac{-\\left( 2 \\cdot \\pi \\cdot i \\cdot k \\cdot \\left(b \\oplus l\\right) \\right)}{2^{t}}}\\right) \\cdot \\left(e^{ 2 \\cdot \\pi \\cdot i \\cdot \\varphi \\cdot k }\\right) \\right) = \\left(\\left(\\left(e^{ 2 \\cdot \\pi \\cdot i \\cdot \\left(\\varphi - \\frac{ b + l }{2^{t}}\\right) }\\right)\\right)^{k}\\right)\\right)$  assuming $l \\in \\mathbb{Z}$, $k \\in \\{0\\ldots \\left(\\left(2^{t}\\right) - 1\\right)\\}$ \n",
      "                                      implication $\\left(\\left( \\left(e^{\\frac{-\\left( 2 \\cdot \\pi \\cdot i \\cdot k \\cdot \\left(b \\oplus l\\right) \\right)}{2^{t}}}\\right) \\cdot \\left(e^{ 2 \\cdot \\pi \\cdot i \\cdot \\varphi \\cdot k }\\right) \\right) = \\left(\\left(\\left(e^{\\left( 2 \\cdot \\pi \\cdot i \\cdot \\varphi \\right) - \\frac{ 2 \\cdot \\pi \\cdot i \\cdot \\left( b + l \\right) }{2^{t}}}\\right)\\right)^{k}\\right)\\right) \\Rightarrow \\left(\\left(\\left(\\left(\\left(e^{\\left( 2 \\cdot \\pi \\cdot i \\cdot \\varphi \\right) - \\frac{ 2 \\cdot \\pi \\cdot i \\cdot \\left( b + l \\right) }{2^{t}}}\\right)\\right)^{k}\\right) = \\left(\\left(\\left(e^{ 2 \\cdot \\pi \\cdot i \\cdot \\left(\\varphi - \\frac{ b + l }{2^{t}}\\right) }\\right)\\right)^{k}\\right)\\right) \\Rightarrow \\left(\\left( \\left(e^{\\frac{-\\left( 2 \\cdot \\pi \\cdot i \\cdot k \\cdot \\left(b \\oplus l\\right) \\right)}{2^{t}}}\\right) \\cdot \\left(e^{ 2 \\cdot \\pi \\cdot i \\cdot \\varphi \\cdot k }\\right) \\right) = \\left(\\left(\\left(e^{ 2 \\cdot \\pi \\cdot i \\cdot \\left(\\varphi - \\frac{ b + l }{2^{t}}\\right) }\\right)\\right)^{k}\\right)\\right)\\right)$ \n",
      "                                        specializing $\\forall_{ x , y , z } \\left(\\left(x = y\\right) \\Rightarrow \\left(\\left(y = z\\right) \\Rightarrow \\left(x = z\\right)\\right)\\right)$  proven above\n",
      "                                      hypothesis $\\left( \\left(e^{\\frac{-\\left( 2 \\cdot \\pi \\cdot i \\cdot k \\cdot \\left(b \\oplus l\\right) \\right)}{2^{t}}}\\right) \\cdot \\left(e^{ 2 \\cdot \\pi \\cdot i \\cdot \\varphi \\cdot k }\\right) \\right) = \\left(\\left(\\left(e^{\\left( 2 \\cdot \\pi \\cdot i \\cdot \\varphi \\right) - \\frac{ 2 \\cdot \\pi \\cdot i \\cdot \\left( b + l \\right) }{2^{t}}}\\right)\\right)^{k}\\right)$  assuming $l \\in \\mathbb{Z}$, $k \\in \\{0\\ldots \\left(\\left(2^{t}\\right) - 1\\right)\\}$ \n",
      "                                        implication $\\left(\\left(\\left( \\left(e^{ 2 \\cdot \\pi \\cdot i \\cdot \\varphi }\\right) \\cdot \\left(e^{\\frac{-\\left( 2 \\cdot \\pi \\cdot i \\cdot \\left( b + l \\right) \\right)}{2^{t}}}\\right) \\right)^{k}\\right) = \\left(\\left(\\left(e^{\\left( 2 \\cdot \\pi \\cdot i \\cdot \\varphi \\right) - \\frac{ 2 \\cdot \\pi \\cdot i \\cdot \\left( b + l \\right) }{2^{t}}}\\right)\\right)^{k}\\right)\\right) \\Rightarrow \\left(\\left( \\left(e^{\\frac{-\\left( 2 \\cdot \\pi \\cdot i \\cdot k \\cdot \\left(b \\oplus l\\right) \\right)}{2^{t}}}\\right) \\cdot \\left(e^{ 2 \\cdot \\pi \\cdot i \\cdot \\varphi \\cdot k }\\right) \\right) = \\left(\\left(\\left(e^{\\left( 2 \\cdot \\pi \\cdot i \\cdot \\varphi \\right) - \\frac{ 2 \\cdot \\pi \\cdot i \\cdot \\left( b + l \\right) }{2^{t}}}\\right)\\right)^{k}\\right)\\right)$  assuming $l \\in \\mathbb{Z}$, $k \\in \\{0\\ldots \\left(\\left(2^{t}\\right) - 1\\right)\\}$ \n",
      "                                          implication $\\left(\\left( \\left(e^{\\frac{-\\left( 2 \\cdot \\pi \\cdot i \\cdot k \\cdot \\left(b \\oplus l\\right) \\right)}{2^{t}}}\\right) \\cdot \\left(e^{ 2 \\cdot \\pi \\cdot i \\cdot \\varphi \\cdot k }\\right) \\right) = \\left(\\left( \\left(e^{ 2 \\cdot \\pi \\cdot i \\cdot \\varphi }\\right) \\cdot \\left(e^{\\frac{-\\left( 2 \\cdot \\pi \\cdot i \\cdot \\left( b + l \\right) \\right)}{2^{t}}}\\right) \\right)^{k}\\right)\\right) \\Rightarrow \\left(\\left(\\left(\\left( \\left(e^{ 2 \\cdot \\pi \\cdot i \\cdot \\varphi }\\right) \\cdot \\left(e^{\\frac{-\\left( 2 \\cdot \\pi \\cdot i \\cdot \\left( b + l \\right) \\right)}{2^{t}}}\\right) \\right)^{k}\\right) = \\left(\\left(\\left(e^{\\left( 2 \\cdot \\pi \\cdot i \\cdot \\varphi \\right) - \\frac{ 2 \\cdot \\pi \\cdot i \\cdot \\left( b + l \\right) }{2^{t}}}\\right)\\right)^{k}\\right)\\right) \\Rightarrow \\left(\\left( \\left(e^{\\frac{-\\left( 2 \\cdot \\pi \\cdot i \\cdot k \\cdot \\left(b \\oplus l\\right) \\right)}{2^{t}}}\\right) \\cdot \\left(e^{ 2 \\cdot \\pi \\cdot i \\cdot \\varphi \\cdot k }\\right) \\right) = \\left(\\left(\\left(e^{\\left( 2 \\cdot \\pi \\cdot i \\cdot \\varphi \\right) - \\frac{ 2 \\cdot \\pi \\cdot i \\cdot \\left( b + l \\right) }{2^{t}}}\\right)\\right)^{k}\\right)\\right)\\right)$ \n",
      "                                            specializing $\\forall_{ x , y , z } \\left(\\left(x = y\\right) \\Rightarrow \\left(\\left(y = z\\right) \\Rightarrow \\left(x = z\\right)\\right)\\right)$  proven above\n",
      "                                          hypothesis $\\left( \\left(e^{\\frac{-\\left( 2 \\cdot \\pi \\cdot i \\cdot k \\cdot \\left(b \\oplus l\\right) \\right)}{2^{t}}}\\right) \\cdot \\left(e^{ 2 \\cdot \\pi \\cdot i \\cdot \\varphi \\cdot k }\\right) \\right) = \\left(\\left( \\left(e^{ 2 \\cdot \\pi \\cdot i \\cdot \\varphi }\\right) \\cdot \\left(e^{\\frac{-\\left( 2 \\cdot \\pi \\cdot i \\cdot \\left( b + l \\right) \\right)}{2^{t}}}\\right) \\right)^{k}\\right)$  assuming $l \\in \\mathbb{Z}$, $k \\in \\{0\\ldots \\left(\\left(2^{t}\\right) - 1\\right)\\}$ \n",
      "                                            implication $\\left(\\left(\\left( \\left(e^{\\frac{-\\left( 2 \\cdot \\pi \\cdot i \\cdot \\left( b + l \\right) \\right)}{2^{t}}}\\right) \\cdot \\left(e^{ 2 \\cdot \\pi \\cdot i \\cdot \\varphi }\\right) \\right)^{k}\\right) = \\left(\\left( \\left(e^{ 2 \\cdot \\pi \\cdot i \\cdot \\varphi }\\right) \\cdot \\left(e^{\\frac{-\\left( 2 \\cdot \\pi \\cdot i \\cdot \\left( b + l \\right) \\right)}{2^{t}}}\\right) \\right)^{k}\\right)\\right) \\Rightarrow \\left(\\left( \\left(e^{\\frac{-\\left( 2 \\cdot \\pi \\cdot i \\cdot k \\cdot \\left(b \\oplus l\\right) \\right)}{2^{t}}}\\right) \\cdot \\left(e^{ 2 \\cdot \\pi \\cdot i \\cdot \\varphi \\cdot k }\\right) \\right) = \\left(\\left( \\left(e^{ 2 \\cdot \\pi \\cdot i \\cdot \\varphi }\\right) \\cdot \\left(e^{\\frac{-\\left( 2 \\cdot \\pi \\cdot i \\cdot \\left( b + l \\right) \\right)}{2^{t}}}\\right) \\right)^{k}\\right)\\right)$  assuming $l \\in \\mathbb{Z}$, $k \\in \\{0\\ldots \\left(\\left(2^{t}\\right) - 1\\right)\\}$ \n",
      "                                              implication $\\left(\\left( \\left(e^{\\frac{-\\left( 2 \\cdot \\pi \\cdot i \\cdot k \\cdot \\left(b \\oplus l\\right) \\right)}{2^{t}}}\\right) \\cdot \\left(e^{ 2 \\cdot \\pi \\cdot i \\cdot \\varphi \\cdot k }\\right) \\right) = \\left(\\left( \\left(e^{\\frac{-\\left( 2 \\cdot \\pi \\cdot i \\cdot \\left( b + l \\right) \\right)}{2^{t}}}\\right) \\cdot \\left(e^{ 2 \\cdot \\pi \\cdot i \\cdot \\varphi }\\right) \\right)^{k}\\right)\\right) \\Rightarrow \\left(\\left(\\left(\\left( \\left(e^{\\frac{-\\left( 2 \\cdot \\pi \\cdot i \\cdot \\left( b + l \\right) \\right)}{2^{t}}}\\right) \\cdot \\left(e^{ 2 \\cdot \\pi \\cdot i \\cdot \\varphi }\\right) \\right)^{k}\\right) = \\left(\\left( \\left(e^{ 2 \\cdot \\pi \\cdot i \\cdot \\varphi }\\right) \\cdot \\left(e^{\\frac{-\\left( 2 \\cdot \\pi \\cdot i \\cdot \\left( b + l \\right) \\right)}{2^{t}}}\\right) \\right)^{k}\\right)\\right) \\Rightarrow \\left(\\left( \\left(e^{\\frac{-\\left( 2 \\cdot \\pi \\cdot i \\cdot k \\cdot \\left(b \\oplus l\\right) \\right)}{2^{t}}}\\right) \\cdot \\left(e^{ 2 \\cdot \\pi \\cdot i \\cdot \\varphi \\cdot k }\\right) \\right) = \\left(\\left( \\left(e^{ 2 \\cdot \\pi \\cdot i \\cdot \\varphi }\\right) \\cdot \\left(e^{\\frac{-\\left( 2 \\cdot \\pi \\cdot i \\cdot \\left( b + l \\right) \\right)}{2^{t}}}\\right) \\right)^{k}\\right)\\right)\\right)$ \n",
      "                                                specializing $\\forall_{ x , y , z } \\left(\\left(x = y\\right) \\Rightarrow \\left(\\left(y = z\\right) \\Rightarrow \\left(x = z\\right)\\right)\\right)$  proven above\n",
      "                                              hypothesis $\\left( \\left(e^{\\frac{-\\left( 2 \\cdot \\pi \\cdot i \\cdot k \\cdot \\left(b \\oplus l\\right) \\right)}{2^{t}}}\\right) \\cdot \\left(e^{ 2 \\cdot \\pi \\cdot i \\cdot \\varphi \\cdot k }\\right) \\right) = \\left(\\left( \\left(e^{\\frac{-\\left( 2 \\cdot \\pi \\cdot i \\cdot \\left( b + l \\right) \\right)}{2^{t}}}\\right) \\cdot \\left(e^{ 2 \\cdot \\pi \\cdot i \\cdot \\varphi }\\right) \\right)^{k}\\right)$  assuming $l \\in \\mathbb{Z}$, $k \\in \\{0\\ldots \\left(\\left(2^{t}\\right) - 1\\right)\\}$ \n",
      "                                                implication $\\left(\\left( \\left(\\left(\\left(e^{\\frac{-\\left( 2 \\cdot \\pi \\cdot i \\cdot \\left( b + l \\right) \\right)}{2^{t}}}\\right)\\right)^{k}\\right) \\cdot \\left(\\left(\\left(e^{ 2 \\cdot \\pi \\cdot i \\cdot \\varphi }\\right)\\right)^{k}\\right) \\right) = \\left(\\left( \\left(e^{\\frac{-\\left( 2 \\cdot \\pi \\cdot i \\cdot \\left( b + l \\right) \\right)}{2^{t}}}\\right) \\cdot \\left(e^{ 2 \\cdot \\pi \\cdot i \\cdot \\varphi }\\right) \\right)^{k}\\right)\\right) \\Rightarrow \\left(\\left( \\left(e^{\\frac{-\\left( 2 \\cdot \\pi \\cdot i \\cdot k \\cdot \\left(b \\oplus l\\right) \\right)}{2^{t}}}\\right) \\cdot \\left(e^{ 2 \\cdot \\pi \\cdot i \\cdot \\varphi \\cdot k }\\right) \\right) = \\left(\\left( \\left(e^{\\frac{-\\left( 2 \\cdot \\pi \\cdot i \\cdot \\left( b + l \\right) \\right)}{2^{t}}}\\right) \\cdot \\left(e^{ 2 \\cdot \\pi \\cdot i \\cdot \\varphi }\\right) \\right)^{k}\\right)\\right)$  assuming $l \\in \\mathbb{Z}$, $k \\in \\{0\\ldots \\left(\\left(2^{t}\\right) - 1\\right)\\}$ \n",
      "                                                  implication $\\left(\\left( \\left(e^{\\frac{-\\left( 2 \\cdot \\pi \\cdot i \\cdot k \\cdot \\left(b \\oplus l\\right) \\right)}{2^{t}}}\\right) \\cdot \\left(e^{ 2 \\cdot \\pi \\cdot i \\cdot \\varphi \\cdot k }\\right) \\right) = \\left( \\left(\\left(\\left(e^{\\frac{-\\left( 2 \\cdot \\pi \\cdot i \\cdot \\left( b + l \\right) \\right)}{2^{t}}}\\right)\\right)^{k}\\right) \\cdot \\left(\\left(\\left(e^{ 2 \\cdot \\pi \\cdot i \\cdot \\varphi }\\right)\\right)^{k}\\right) \\right)\\right) \\Rightarrow \\left(\\left(\\left( \\left(\\left(\\left(e^{\\frac{-\\left( 2 \\cdot \\pi \\cdot i \\cdot \\left( b + l \\right) \\right)}{2^{t}}}\\right)\\right)^{k}\\right) \\cdot \\left(\\left(\\left(e^{ 2 \\cdot \\pi \\cdot i \\cdot \\varphi }\\right)\\right)^{k}\\right) \\right) = \\left(\\left( \\left(e^{\\frac{-\\left( 2 \\cdot \\pi \\cdot i \\cdot \\left( b + l \\right) \\right)}{2^{t}}}\\right) \\cdot \\left(e^{ 2 \\cdot \\pi \\cdot i \\cdot \\varphi }\\right) \\right)^{k}\\right)\\right) \\Rightarrow \\left(\\left( \\left(e^{\\frac{-\\left( 2 \\cdot \\pi \\cdot i \\cdot k \\cdot \\left(b \\oplus l\\right) \\right)}{2^{t}}}\\right) \\cdot \\left(e^{ 2 \\cdot \\pi \\cdot i \\cdot \\varphi \\cdot k }\\right) \\right) = \\left(\\left( \\left(e^{\\frac{-\\left( 2 \\cdot \\pi \\cdot i \\cdot \\left( b + l \\right) \\right)}{2^{t}}}\\right) \\cdot \\left(e^{ 2 \\cdot \\pi \\cdot i \\cdot \\varphi }\\right) \\right)^{k}\\right)\\right)\\right)$ \n",
      "                                                    specializing $\\forall_{ x , y , z } \\left(\\left(x = y\\right) \\Rightarrow \\left(\\left(y = z\\right) \\Rightarrow \\left(x = z\\right)\\right)\\right)$  proven above\n",
      "                                                  hypothesis $\\left( \\left(e^{\\frac{-\\left( 2 \\cdot \\pi \\cdot i \\cdot k \\cdot \\left(b \\oplus l\\right) \\right)}{2^{t}}}\\right) \\cdot \\left(e^{ 2 \\cdot \\pi \\cdot i \\cdot \\varphi \\cdot k }\\right) \\right) = \\left( \\left(\\left(\\left(e^{\\frac{-\\left( 2 \\cdot \\pi \\cdot i \\cdot \\left( b + l \\right) \\right)}{2^{t}}}\\right)\\right)^{k}\\right) \\cdot \\left(\\left(\\left(e^{ 2 \\cdot \\pi \\cdot i \\cdot \\varphi }\\right)\\right)^{k}\\right) \\right)$  assuming $l \\in \\mathbb{Z}$, $k \\in \\{0\\ldots \\left(\\left(2^{t}\\right) - 1\\right)\\}$ \n",
      "                                                    implication $\\left(\\left( \\left(\\left(\\left(e^{\\frac{-\\left( 2 \\cdot \\pi \\cdot i \\cdot \\left(\\left( b + l \\right) ~\\rm{mod}~ \\left(2^{t}\\right)\\right) \\right)}{2^{t}}}\\right)\\right)^{k}\\right) \\cdot \\left(\\left(\\left(e^{ 2 \\cdot \\pi \\cdot i \\cdot \\varphi }\\right)\\right)^{k}\\right) \\right) = \\left( \\left(\\left(\\left(e^{\\frac{-\\left( 2 \\cdot \\pi \\cdot i \\cdot \\left( b + l \\right) \\right)}{2^{t}}}\\right)\\right)^{k}\\right) \\cdot \\left(\\left(\\left(e^{ 2 \\cdot \\pi \\cdot i \\cdot \\varphi }\\right)\\right)^{k}\\right) \\right)\\right) \\Rightarrow \\left(\\left( \\left(e^{\\frac{-\\left( 2 \\cdot \\pi \\cdot i \\cdot k \\cdot \\left(b \\oplus l\\right) \\right)}{2^{t}}}\\right) \\cdot \\left(e^{ 2 \\cdot \\pi \\cdot i \\cdot \\varphi \\cdot k }\\right) \\right) = \\left( \\left(\\left(\\left(e^{\\frac{-\\left( 2 \\cdot \\pi \\cdot i \\cdot \\left( b + l \\right) \\right)}{2^{t}}}\\right)\\right)^{k}\\right) \\cdot \\left(\\left(\\left(e^{ 2 \\cdot \\pi \\cdot i \\cdot \\varphi }\\right)\\right)^{k}\\right) \\right)\\right)$  assuming $l \\in \\mathbb{Z}$, $k \\in \\{0\\ldots \\left(\\left(2^{t}\\right) - 1\\right)\\}$ \n",
      "                                                      implication $\\left(\\left( \\left(e^{\\frac{-\\left( 2 \\cdot \\pi \\cdot i \\cdot k \\cdot \\left(b \\oplus l\\right) \\right)}{2^{t}}}\\right) \\cdot \\left(e^{ 2 \\cdot \\pi \\cdot i \\cdot \\varphi \\cdot k }\\right) \\right) = \\left( \\left(\\left(\\left(e^{\\frac{-\\left( 2 \\cdot \\pi \\cdot i \\cdot \\left(\\left( b + l \\right) ~\\rm{mod}~ \\left(2^{t}\\right)\\right) \\right)}{2^{t}}}\\right)\\right)^{k}\\right) \\cdot \\left(\\left(\\left(e^{ 2 \\cdot \\pi \\cdot i \\cdot \\varphi }\\right)\\right)^{k}\\right) \\right)\\right) \\Rightarrow \\left(\\left(\\left( \\left(\\left(\\left(e^{\\frac{-\\left( 2 \\cdot \\pi \\cdot i \\cdot \\left(\\left( b + l \\right) ~\\rm{mod}~ \\left(2^{t}\\right)\\right) \\right)}{2^{t}}}\\right)\\right)^{k}\\right) \\cdot \\left(\\left(\\left(e^{ 2 \\cdot \\pi \\cdot i \\cdot \\varphi }\\right)\\right)^{k}\\right) \\right) = \\left( \\left(\\left(\\left(e^{\\frac{-\\left( 2 \\cdot \\pi \\cdot i \\cdot \\left( b + l \\right) \\right)}{2^{t}}}\\right)\\right)^{k}\\right) \\cdot \\left(\\left(\\left(e^{ 2 \\cdot \\pi \\cdot i \\cdot \\varphi }\\right)\\right)^{k}\\right) \\right)\\right) \\Rightarrow \\left(\\left( \\left(e^{\\frac{-\\left( 2 \\cdot \\pi \\cdot i \\cdot k \\cdot \\left(b \\oplus l\\right) \\right)}{2^{t}}}\\right) \\cdot \\left(e^{ 2 \\cdot \\pi \\cdot i \\cdot \\varphi \\cdot k }\\right) \\right) = \\left( \\left(\\left(\\left(e^{\\frac{-\\left( 2 \\cdot \\pi \\cdot i \\cdot \\left( b + l \\right) \\right)}{2^{t}}}\\right)\\right)^{k}\\right) \\cdot \\left(\\left(\\left(e^{ 2 \\cdot \\pi \\cdot i \\cdot \\varphi }\\right)\\right)^{k}\\right) \\right)\\right)\\right)$ \n",
      "                                                        specializing $\\forall_{ x , y , z } \\left(\\left(x = y\\right) \\Rightarrow \\left(\\left(y = z\\right) \\Rightarrow \\left(x = z\\right)\\right)\\right)$  proven above\n",
      "                                                      hypothesis $\\left( \\left(e^{\\frac{-\\left( 2 \\cdot \\pi \\cdot i \\cdot k \\cdot \\left(b \\oplus l\\right) \\right)}{2^{t}}}\\right) \\cdot \\left(e^{ 2 \\cdot \\pi \\cdot i \\cdot \\varphi \\cdot k }\\right) \\right) = \\left( \\left(\\left(\\left(e^{\\frac{-\\left( 2 \\cdot \\pi \\cdot i \\cdot \\left(\\left( b + l \\right) ~\\rm{mod}~ \\left(2^{t}\\right)\\right) \\right)}{2^{t}}}\\right)\\right)^{k}\\right) \\cdot \\left(\\left(\\left(e^{ 2 \\cdot \\pi \\cdot i \\cdot \\varphi }\\right)\\right)^{k}\\right) \\right)$  assuming $l \\in \\mathbb{Z}$, $k \\in \\{0\\ldots \\left(\\left(2^{t}\\right) - 1\\right)\\}$ \n",
      "                                                        implication $\\left(\\left( \\left(\\left(\\left(e^{\\frac{-\\left( 2 \\cdot \\pi \\cdot i \\cdot \\left(b \\oplus l\\right) \\right)}{2^{t}}}\\right)\\right)^{k}\\right) \\cdot \\left(\\left(\\left(e^{ 2 \\cdot \\pi \\cdot i \\cdot \\varphi }\\right)\\right)^{k}\\right) \\right) = \\left( \\left(\\left(\\left(e^{\\frac{-\\left( 2 \\cdot \\pi \\cdot i \\cdot \\left(\\left( b + l \\right) ~\\rm{mod}~ \\left(2^{t}\\right)\\right) \\right)}{2^{t}}}\\right)\\right)^{k}\\right) \\cdot \\left(\\left(\\left(e^{ 2 \\cdot \\pi \\cdot i \\cdot \\varphi }\\right)\\right)^{k}\\right) \\right)\\right) \\Rightarrow \\left(\\left( \\left(e^{\\frac{-\\left( 2 \\cdot \\pi \\cdot i \\cdot k \\cdot \\left(b \\oplus l\\right) \\right)}{2^{t}}}\\right) \\cdot \\left(e^{ 2 \\cdot \\pi \\cdot i \\cdot \\varphi \\cdot k }\\right) \\right) = \\left( \\left(\\left(\\left(e^{\\frac{-\\left( 2 \\cdot \\pi \\cdot i \\cdot \\left(\\left( b + l \\right) ~\\rm{mod}~ \\left(2^{t}\\right)\\right) \\right)}{2^{t}}}\\right)\\right)^{k}\\right) \\cdot \\left(\\left(\\left(e^{ 2 \\cdot \\pi \\cdot i \\cdot \\varphi }\\right)\\right)^{k}\\right) \\right)\\right)$  assuming $l \\in \\mathbb{Z}$, $k \\in \\{0\\ldots \\left(\\left(2^{t}\\right) - 1\\right)\\}$ \n",
      "                                                          implication $\\left(\\left( \\left(e^{\\frac{-\\left( 2 \\cdot \\pi \\cdot i \\cdot k \\cdot \\left(b \\oplus l\\right) \\right)}{2^{t}}}\\right) \\cdot \\left(e^{ 2 \\cdot \\pi \\cdot i \\cdot \\varphi \\cdot k }\\right) \\right) = \\left( \\left(\\left(\\left(e^{\\frac{-\\left( 2 \\cdot \\pi \\cdot i \\cdot \\left(b \\oplus l\\right) \\right)}{2^{t}}}\\right)\\right)^{k}\\right) \\cdot \\left(\\left(\\left(e^{ 2 \\cdot \\pi \\cdot i \\cdot \\varphi }\\right)\\right)^{k}\\right) \\right)\\right) \\Rightarrow \\left(\\left(\\left( \\left(\\left(\\left(e^{\\frac{-\\left( 2 \\cdot \\pi \\cdot i \\cdot \\left(b \\oplus l\\right) \\right)}{2^{t}}}\\right)\\right)^{k}\\right) \\cdot \\left(\\left(\\left(e^{ 2 \\cdot \\pi \\cdot i \\cdot \\varphi }\\right)\\right)^{k}\\right) \\right) = \\left( \\left(\\left(\\left(e^{\\frac{-\\left( 2 \\cdot \\pi \\cdot i \\cdot \\left(\\left( b + l \\right) ~\\rm{mod}~ \\left(2^{t}\\right)\\right) \\right)}{2^{t}}}\\right)\\right)^{k}\\right) \\cdot \\left(\\left(\\left(e^{ 2 \\cdot \\pi \\cdot i \\cdot \\varphi }\\right)\\right)^{k}\\right) \\right)\\right) \\Rightarrow \\left(\\left( \\left(e^{\\frac{-\\left( 2 \\cdot \\pi \\cdot i \\cdot k \\cdot \\left(b \\oplus l\\right) \\right)}{2^{t}}}\\right) \\cdot \\left(e^{ 2 \\cdot \\pi \\cdot i \\cdot \\varphi \\cdot k }\\right) \\right) = \\left( \\left(\\left(\\left(e^{\\frac{-\\left( 2 \\cdot \\pi \\cdot i \\cdot \\left(\\left( b + l \\right) ~\\rm{mod}~ \\left(2^{t}\\right)\\right) \\right)}{2^{t}}}\\right)\\right)^{k}\\right) \\cdot \\left(\\left(\\left(e^{ 2 \\cdot \\pi \\cdot i \\cdot \\varphi }\\right)\\right)^{k}\\right) \\right)\\right)\\right)$ \n",
      "                                                            specializing $\\forall_{ x , y , z } \\left(\\left(x = y\\right) \\Rightarrow \\left(\\left(y = z\\right) \\Rightarrow \\left(x = z\\right)\\right)\\right)$  proven above\n",
      "                                                          hypothesis $\\left( \\left(e^{\\frac{-\\left( 2 \\cdot \\pi \\cdot i \\cdot k \\cdot \\left(b \\oplus l\\right) \\right)}{2^{t}}}\\right) \\cdot \\left(e^{ 2 \\cdot \\pi \\cdot i \\cdot \\varphi \\cdot k }\\right) \\right) = \\left( \\left(\\left(\\left(e^{\\frac{-\\left( 2 \\cdot \\pi \\cdot i \\cdot \\left(b \\oplus l\\right) \\right)}{2^{t}}}\\right)\\right)^{k}\\right) \\cdot \\left(\\left(\\left(e^{ 2 \\cdot \\pi \\cdot i \\cdot \\varphi }\\right)\\right)^{k}\\right) \\right)$  assuming $l \\in \\mathbb{Z}$, $k \\in \\{0\\ldots \\left(\\left(2^{t}\\right) - 1\\right)\\}$ \n",
      "                                                            implication $\\left(\\left( \\left(\\left(\\left(e^{\\frac{-\\left( 2 \\cdot \\pi \\cdot i \\cdot \\left(b \\oplus l\\right) \\right)}{2^{t}}}\\right)\\right)^{k}\\right) \\cdot \\left(e^{ 2 \\cdot \\pi \\cdot i \\cdot \\varphi \\cdot k }\\right) \\right) = \\left( \\left(\\left(\\left(e^{\\frac{-\\left( 2 \\cdot \\pi \\cdot i \\cdot \\left(b \\oplus l\\right) \\right)}{2^{t}}}\\right)\\right)^{k}\\right) \\cdot \\left(\\left(\\left(e^{ 2 \\cdot \\pi \\cdot i \\cdot \\varphi }\\right)\\right)^{k}\\right) \\right)\\right) \\Rightarrow \\left(\\left( \\left(e^{\\frac{-\\left( 2 \\cdot \\pi \\cdot i \\cdot k \\cdot \\left(b \\oplus l\\right) \\right)}{2^{t}}}\\right) \\cdot \\left(e^{ 2 \\cdot \\pi \\cdot i \\cdot \\varphi \\cdot k }\\right) \\right) = \\left( \\left(\\left(\\left(e^{\\frac{-\\left( 2 \\cdot \\pi \\cdot i \\cdot \\left(b \\oplus l\\right) \\right)}{2^{t}}}\\right)\\right)^{k}\\right) \\cdot \\left(\\left(\\left(e^{ 2 \\cdot \\pi \\cdot i \\cdot \\varphi }\\right)\\right)^{k}\\right) \\right)\\right)$  assuming $l \\in \\mathbb{Z}$, $k \\in \\{0\\ldots \\left(\\left(2^{t}\\right) - 1\\right)\\}$ \n",
      "                                                              implication $\\left(\\left( \\left(e^{\\frac{-\\left( 2 \\cdot \\pi \\cdot i \\cdot k \\cdot \\left(b \\oplus l\\right) \\right)}{2^{t}}}\\right) \\cdot \\left(e^{ 2 \\cdot \\pi \\cdot i \\cdot \\varphi \\cdot k }\\right) \\right) = \\left( \\left(\\left(\\left(e^{\\frac{-\\left( 2 \\cdot \\pi \\cdot i \\cdot \\left(b \\oplus l\\right) \\right)}{2^{t}}}\\right)\\right)^{k}\\right) \\cdot \\left(e^{ 2 \\cdot \\pi \\cdot i \\cdot \\varphi \\cdot k }\\right) \\right)\\right) \\Rightarrow \\left(\\left(\\left( \\left(\\left(\\left(e^{\\frac{-\\left( 2 \\cdot \\pi \\cdot i \\cdot \\left(b \\oplus l\\right) \\right)}{2^{t}}}\\right)\\right)^{k}\\right) \\cdot \\left(e^{ 2 \\cdot \\pi \\cdot i \\cdot \\varphi \\cdot k }\\right) \\right) = \\left( \\left(\\left(\\left(e^{\\frac{-\\left( 2 \\cdot \\pi \\cdot i \\cdot \\left(b \\oplus l\\right) \\right)}{2^{t}}}\\right)\\right)^{k}\\right) \\cdot \\left(\\left(\\left(e^{ 2 \\cdot \\pi \\cdot i \\cdot \\varphi }\\right)\\right)^{k}\\right) \\right)\\right) \\Rightarrow \\left(\\left( \\left(e^{\\frac{-\\left( 2 \\cdot \\pi \\cdot i \\cdot k \\cdot \\left(b \\oplus l\\right) \\right)}{2^{t}}}\\right) \\cdot \\left(e^{ 2 \\cdot \\pi \\cdot i \\cdot \\varphi \\cdot k }\\right) \\right) = \\left( \\left(\\left(\\left(e^{\\frac{-\\left( 2 \\cdot \\pi \\cdot i \\cdot \\left(b \\oplus l\\right) \\right)}{2^{t}}}\\right)\\right)^{k}\\right) \\cdot \\left(\\left(\\left(e^{ 2 \\cdot \\pi \\cdot i \\cdot \\varphi }\\right)\\right)^{k}\\right) \\right)\\right)\\right)$ \n",
      "                                                                specializing $\\forall_{ x , y , z } \\left(\\left(x = y\\right) \\Rightarrow \\left(\\left(y = z\\right) \\Rightarrow \\left(x = z\\right)\\right)\\right)$  proven above\n",
      "                                                              hypothesis $\\left( \\left(e^{\\frac{-\\left( 2 \\cdot \\pi \\cdot i \\cdot k \\cdot \\left(b \\oplus l\\right) \\right)}{2^{t}}}\\right) \\cdot \\left(e^{ 2 \\cdot \\pi \\cdot i \\cdot \\varphi \\cdot k }\\right) \\right) = \\left( \\left(\\left(\\left(e^{\\frac{-\\left( 2 \\cdot \\pi \\cdot i \\cdot \\left(b \\oplus l\\right) \\right)}{2^{t}}}\\right)\\right)^{k}\\right) \\cdot \\left(e^{ 2 \\cdot \\pi \\cdot i \\cdot \\varphi \\cdot k }\\right) \\right)$  assuming $l \\in \\mathbb{Z}$, $k \\in \\{0\\ldots \\left(\\left(2^{t}\\right) - 1\\right)\\}$ \n",
      "                                                                implication $\\left(\\left(e^{\\frac{-\\left( 2 \\cdot \\pi \\cdot i \\cdot k \\cdot \\left(b \\oplus l\\right) \\right)}{2^{t}}}\\right) = \\left(\\left(\\left(e^{\\frac{-\\left( 2 \\cdot \\pi \\cdot i \\cdot \\left(b \\oplus l\\right) \\right)}{2^{t}}}\\right)\\right)^{k}\\right)\\right) \\Rightarrow \\left(\\left( \\left(e^{\\frac{-\\left( 2 \\cdot \\pi \\cdot i \\cdot k \\cdot \\left(b \\oplus l\\right) \\right)}{2^{t}}}\\right) \\cdot \\left(e^{ 2 \\cdot \\pi \\cdot i \\cdot \\varphi \\cdot k }\\right) \\right) = \\left( \\left(\\left(\\left(e^{\\frac{-\\left( 2 \\cdot \\pi \\cdot i \\cdot \\left(b \\oplus l\\right) \\right)}{2^{t}}}\\right)\\right)^{k}\\right) \\cdot \\left(e^{ 2 \\cdot \\pi \\cdot i \\cdot \\varphi \\cdot k }\\right) \\right)\\right)$ \n",
      "                                                                  specializing $\\forall_{ f , x , y } \\left(\\left(x = y\\right) \\Rightarrow \\left(f\\left( x \\right) = f\\left( y \\right)\\right)\\right)$  proven above\n",
      "                                                                hypothesis $\\left(e^{\\frac{-\\left( 2 \\cdot \\pi \\cdot i \\cdot k \\cdot \\left(b \\oplus l\\right) \\right)}{2^{t}}}\\right) = \\left(\\left(\\left(e^{\\frac{-\\left( 2 \\cdot \\pi \\cdot i \\cdot \\left(b \\oplus l\\right) \\right)}{2^{t}}}\\right)\\right)^{k}\\right)$  assuming $l \\in \\mathbb{Z}$, $k \\in \\{0\\ldots \\left(\\left(2^{t}\\right) - 1\\right)\\}$ \n",
      "                                                                  implication $\\left(\\left(e^{ \\frac{-\\left( 2 \\cdot \\pi \\cdot i \\cdot \\left(b \\oplus l\\right) \\right)}{2^{t}} \\cdot k }\\right) = \\left(\\left(\\left(e^{\\frac{-\\left( 2 \\cdot \\pi \\cdot i \\cdot \\left(b \\oplus l\\right) \\right)}{2^{t}}}\\right)\\right)^{k}\\right)\\right) \\Rightarrow \\left(\\left(e^{\\frac{-\\left( 2 \\cdot \\pi \\cdot i \\cdot k \\cdot \\left(b \\oplus l\\right) \\right)}{2^{t}}}\\right) = \\left(\\left(\\left(e^{\\frac{-\\left( 2 \\cdot \\pi \\cdot i \\cdot \\left(b \\oplus l\\right) \\right)}{2^{t}}}\\right)\\right)^{k}\\right)\\right)$  assuming $l \\in \\mathbb{Z}$, $k \\in \\{0\\ldots \\left(\\left(2^{t}\\right) - 1\\right)\\}$ \n",
      "                                                                    implication $\\left(\\left(e^{\\frac{-\\left( 2 \\cdot \\pi \\cdot i \\cdot k \\cdot \\left(b \\oplus l\\right) \\right)}{2^{t}}}\\right) = \\left(e^{ \\frac{-\\left( 2 \\cdot \\pi \\cdot i \\cdot \\left(b \\oplus l\\right) \\right)}{2^{t}} \\cdot k }\\right)\\right) \\Rightarrow \\left(\\left(\\left(e^{ \\frac{-\\left( 2 \\cdot \\pi \\cdot i \\cdot \\left(b \\oplus l\\right) \\right)}{2^{t}} \\cdot k }\\right) = \\left(\\left(\\left(e^{\\frac{-\\left( 2 \\cdot \\pi \\cdot i \\cdot \\left(b \\oplus l\\right) \\right)}{2^{t}}}\\right)\\right)^{k}\\right)\\right) \\Rightarrow \\left(\\left(e^{\\frac{-\\left( 2 \\cdot \\pi \\cdot i \\cdot k \\cdot \\left(b \\oplus l\\right) \\right)}{2^{t}}}\\right) = \\left(\\left(\\left(e^{\\frac{-\\left( 2 \\cdot \\pi \\cdot i \\cdot \\left(b \\oplus l\\right) \\right)}{2^{t}}}\\right)\\right)^{k}\\right)\\right)\\right)$ \n",
      "                                                                      specializing $\\forall_{ x , y , z } \\left(\\left(x = y\\right) \\Rightarrow \\left(\\left(y = z\\right) \\Rightarrow \\left(x = z\\right)\\right)\\right)$  proven above\n",
      "                                                                    hypothesis $\\left(e^{\\frac{-\\left( 2 \\cdot \\pi \\cdot i \\cdot k \\cdot \\left(b \\oplus l\\right) \\right)}{2^{t}}}\\right) = \\left(e^{ \\frac{-\\left( 2 \\cdot \\pi \\cdot i \\cdot \\left(b \\oplus l\\right) \\right)}{2^{t}} \\cdot k }\\right)$  assuming $l \\in \\mathbb{Z}$, $k \\in \\{0\\ldots \\left(\\left(2^{t}\\right) - 1\\right)\\}$ \n",
      "                                                                      implication $\\left(\\frac{-\\left( 2 \\cdot \\pi \\cdot i \\cdot k \\cdot \\left(b \\oplus l\\right) \\right)}{2^{t}} = \\left( \\frac{-\\left( 2 \\cdot \\pi \\cdot i \\cdot \\left(b \\oplus l\\right) \\right)}{2^{t}} \\cdot k \\right)\\right) \\Rightarrow \\left(\\left(e^{\\frac{-\\left( 2 \\cdot \\pi \\cdot i \\cdot k \\cdot \\left(b \\oplus l\\right) \\right)}{2^{t}}}\\right) = \\left(e^{ \\frac{-\\left( 2 \\cdot \\pi \\cdot i \\cdot \\left(b \\oplus l\\right) \\right)}{2^{t}} \\cdot k }\\right)\\right)$ \n",
      "                                                                        specializing $\\forall_{ f , x , y } \\left(\\left(x = y\\right) \\Rightarrow \\left(f\\left( x \\right) = f\\left( y \\right)\\right)\\right)$  proven above\n",
      "                                                                      hypothesis $\\frac{-\\left( 2 \\cdot \\pi \\cdot i \\cdot k \\cdot \\left(b \\oplus l\\right) \\right)}{2^{t}} = \\left( \\frac{-\\left( 2 \\cdot \\pi \\cdot i \\cdot \\left(b \\oplus l\\right) \\right)}{2^{t}} \\cdot k \\right)$  assuming $l \\in \\mathbb{Z}$, $k \\in \\{0\\ldots \\left(\\left(2^{t}\\right) - 1\\right)\\}$ \n",
      "                                                                        implication $\\left(\\frac{ \\left(-\\left( 2 \\cdot \\pi \\cdot i \\cdot \\left(b \\oplus l\\right) \\right)\\right) \\cdot k }{2^{t}} = \\left( \\frac{-\\left( 2 \\cdot \\pi \\cdot i \\cdot \\left(b \\oplus l\\right) \\right)}{2^{t}} \\cdot k \\right)\\right) \\Rightarrow \\left(\\frac{-\\left( 2 \\cdot \\pi \\cdot i \\cdot k \\cdot \\left(b \\oplus l\\right) \\right)}{2^{t}} = \\left( \\frac{-\\left( 2 \\cdot \\pi \\cdot i \\cdot \\left(b \\oplus l\\right) \\right)}{2^{t}} \\cdot k \\right)\\right)$  assuming $l \\in \\mathbb{Z}$, $k \\in \\{0\\ldots \\left(\\left(2^{t}\\right) - 1\\right)\\}$ \n",
      "                                                                          implication $\\left(\\frac{-\\left( 2 \\cdot \\pi \\cdot i \\cdot k \\cdot \\left(b \\oplus l\\right) \\right)}{2^{t}} = \\frac{ \\left(-\\left( 2 \\cdot \\pi \\cdot i \\cdot \\left(b \\oplus l\\right) \\right)\\right) \\cdot k }{2^{t}}\\right) \\Rightarrow \\left(\\left(\\frac{ \\left(-\\left( 2 \\cdot \\pi \\cdot i \\cdot \\left(b \\oplus l\\right) \\right)\\right) \\cdot k }{2^{t}} = \\left( \\frac{-\\left( 2 \\cdot \\pi \\cdot i \\cdot \\left(b \\oplus l\\right) \\right)}{2^{t}} \\cdot k \\right)\\right) \\Rightarrow \\left(\\frac{-\\left( 2 \\cdot \\pi \\cdot i \\cdot k \\cdot \\left(b \\oplus l\\right) \\right)}{2^{t}} = \\left( \\frac{-\\left( 2 \\cdot \\pi \\cdot i \\cdot \\left(b \\oplus l\\right) \\right)}{2^{t}} \\cdot k \\right)\\right)\\right)$ \n",
      "                                                                            specializing $\\forall_{ x , y , z } \\left(\\left(x = y\\right) \\Rightarrow \\left(\\left(y = z\\right) \\Rightarrow \\left(x = z\\right)\\right)\\right)$  proven above\n",
      "                                                                          hypothesis $\\frac{-\\left( 2 \\cdot \\pi \\cdot i \\cdot k \\cdot \\left(b \\oplus l\\right) \\right)}{2^{t}} = \\frac{ \\left(-\\left( 2 \\cdot \\pi \\cdot i \\cdot \\left(b \\oplus l\\right) \\right)\\right) \\cdot k }{2^{t}}$  assuming $l \\in \\mathbb{Z}$, $k \\in \\{0\\ldots \\left(\\left(2^{t}\\right) - 1\\right)\\}$ \n",
      "                                                                            implication $\\left(\\left(-\\left( 2 \\cdot \\pi \\cdot i \\cdot k \\cdot \\left(b \\oplus l\\right) \\right)\\right) = \\left( \\left(-\\left( 2 \\cdot \\pi \\cdot i \\cdot \\left(b \\oplus l\\right) \\right)\\right) \\cdot k \\right)\\right) \\Rightarrow \\left(\\frac{-\\left( 2 \\cdot \\pi \\cdot i \\cdot k \\cdot \\left(b \\oplus l\\right) \\right)}{2^{t}} = \\frac{ \\left(-\\left( 2 \\cdot \\pi \\cdot i \\cdot \\left(b \\oplus l\\right) \\right)\\right) \\cdot k }{2^{t}}\\right)$ \n",
      "                                                                              specializing $\\forall_{ f , x , y } \\left(\\left(x = y\\right) \\Rightarrow \\left(f\\left( x \\right) = f\\left( y \\right)\\right)\\right)$  proven above\n",
      "                                                                            hypothesis $\\left(-\\left( 2 \\cdot \\pi \\cdot i \\cdot k \\cdot \\left(b \\oplus l\\right) \\right)\\right) = \\left( \\left(-\\left( 2 \\cdot \\pi \\cdot i \\cdot \\left(b \\oplus l\\right) \\right)\\right) \\cdot k \\right)$  assuming $l \\in \\mathbb{Z}$, $k \\in \\{0\\ldots \\left(\\left(2^{t}\\right) - 1\\right)\\}$ \n",
      "                                                                              implication $\\left(\\left(-\\left( \\left( 2 \\cdot \\pi \\cdot i \\cdot \\left(b \\oplus l\\right) \\right) \\cdot k \\right)\\right) = \\left( \\left(-\\left( 2 \\cdot \\pi \\cdot i \\cdot \\left(b \\oplus l\\right) \\right)\\right) \\cdot k \\right)\\right) \\Rightarrow \\left(\\left(-\\left( 2 \\cdot \\pi \\cdot i \\cdot k \\cdot \\left(b \\oplus l\\right) \\right)\\right) = \\left( \\left(-\\left( 2 \\cdot \\pi \\cdot i \\cdot \\left(b \\oplus l\\right) \\right)\\right) \\cdot k \\right)\\right)$  assuming $l \\in \\mathbb{Z}$, $k \\in \\{0\\ldots \\left(\\left(2^{t}\\right) - 1\\right)\\}$ \n",
      "                                                                                implication $\\left(\\left(-\\left( 2 \\cdot \\pi \\cdot i \\cdot k \\cdot \\left(b \\oplus l\\right) \\right)\\right) = \\left(-\\left( \\left( 2 \\cdot \\pi \\cdot i \\cdot \\left(b \\oplus l\\right) \\right) \\cdot k \\right)\\right)\\right) \\Rightarrow \\left(\\left(\\left(-\\left( \\left( 2 \\cdot \\pi \\cdot i \\cdot \\left(b \\oplus l\\right) \\right) \\cdot k \\right)\\right) = \\left( \\left(-\\left( 2 \\cdot \\pi \\cdot i \\cdot \\left(b \\oplus l\\right) \\right)\\right) \\cdot k \\right)\\right) \\Rightarrow \\left(\\left(-\\left( 2 \\cdot \\pi \\cdot i \\cdot k \\cdot \\left(b \\oplus l\\right) \\right)\\right) = \\left( \\left(-\\left( 2 \\cdot \\pi \\cdot i \\cdot \\left(b \\oplus l\\right) \\right)\\right) \\cdot k \\right)\\right)\\right)$ \n",
      "                                                                                  specializing $\\forall_{ x , y , z } \\left(\\left(x = y\\right) \\Rightarrow \\left(\\left(y = z\\right) \\Rightarrow \\left(x = z\\right)\\right)\\right)$  proven above\n",
      "                                                                                hypothesis $\\left(-\\left( 2 \\cdot \\pi \\cdot i \\cdot k \\cdot \\left(b \\oplus l\\right) \\right)\\right) = \\left(-\\left( \\left( 2 \\cdot \\pi \\cdot i \\cdot \\left(b \\oplus l\\right) \\right) \\cdot k \\right)\\right)$  assuming $l \\in \\mathbb{Z}$, $k \\in \\{0\\ldots \\left(\\left(2^{t}\\right) - 1\\right)\\}$ \n",
      "                                                                                  implication $\\left(\\left( 2 \\cdot \\pi \\cdot i \\cdot k \\cdot \\left(b \\oplus l\\right) \\right) = \\left( \\left( 2 \\cdot \\pi \\cdot i \\cdot \\left(b \\oplus l\\right) \\right) \\cdot k \\right)\\right) \\Rightarrow \\left(\\left(-\\left( 2 \\cdot \\pi \\cdot i \\cdot k \\cdot \\left(b \\oplus l\\right) \\right)\\right) = \\left(-\\left( \\left( 2 \\cdot \\pi \\cdot i \\cdot \\left(b \\oplus l\\right) \\right) \\cdot k \\right)\\right)\\right)$ \n",
      "                                                                                    specializing $\\forall_{ f , x , y } \\left(\\left(x = y\\right) \\Rightarrow \\left(f\\left( x \\right) = f\\left( y \\right)\\right)\\right)$  proven above\n",
      "                                                                                  hypothesis $\\left( 2 \\cdot \\pi \\cdot i \\cdot k \\cdot \\left(b \\oplus l\\right) \\right) = \\left( \\left( 2 \\cdot \\pi \\cdot i \\cdot \\left(b \\oplus l\\right) \\right) \\cdot k \\right)$  assuming $l \\in \\mathbb{Z}$, $k \\in \\{0\\ldots \\left(\\left(2^{t}\\right) - 1\\right)\\}$ \n",
      "                                                                                    implication $\\left(\\left( 2 \\cdot \\pi \\cdot i \\cdot \\left(b \\oplus l\\right) \\cdot k \\right) = \\left( \\left( 2 \\cdot \\pi \\cdot i \\cdot \\left(b \\oplus l\\right) \\right) \\cdot k \\right)\\right) \\Rightarrow \\left(\\left( 2 \\cdot \\pi \\cdot i \\cdot k \\cdot \\left(b \\oplus l\\right) \\right) = \\left( \\left( 2 \\cdot \\pi \\cdot i \\cdot \\left(b \\oplus l\\right) \\right) \\cdot k \\right)\\right)$  assuming $l \\in \\mathbb{Z}$, $k \\in \\{0\\ldots \\left(\\left(2^{t}\\right) - 1\\right)\\}$ \n",
      "                                                                                      implication $\\left(\\left( 2 \\cdot \\pi \\cdot i \\cdot k \\cdot \\left(b \\oplus l\\right) \\right) = \\left( 2 \\cdot \\pi \\cdot i \\cdot \\left(b \\oplus l\\right) \\cdot k \\right)\\right) \\Rightarrow \\left(\\left(\\left( 2 \\cdot \\pi \\cdot i \\cdot \\left(b \\oplus l\\right) \\cdot k \\right) = \\left( \\left( 2 \\cdot \\pi \\cdot i \\cdot \\left(b \\oplus l\\right) \\right) \\cdot k \\right)\\right) \\Rightarrow \\left(\\left( 2 \\cdot \\pi \\cdot i \\cdot k \\cdot \\left(b \\oplus l\\right) \\right) = \\left( \\left( 2 \\cdot \\pi \\cdot i \\cdot \\left(b \\oplus l\\right) \\right) \\cdot k \\right)\\right)\\right)$ \n",
      "                                                                                        specializing $\\forall_{ x , y , z } \\left(\\left(x = y\\right) \\Rightarrow \\left(\\left(y = z\\right) \\Rightarrow \\left(x = z\\right)\\right)\\right)$  proven above\n",
      "                                                                                      hypothesis $\\left( 2 \\cdot \\pi \\cdot i \\cdot k \\cdot \\left(b \\oplus l\\right) \\right) = \\left( 2 \\cdot \\pi \\cdot i \\cdot \\left(b \\oplus l\\right) \\cdot k \\right)$  assuming $l \\in \\mathbb{Z}$, $k \\in \\{0\\ldots \\left(\\left(2^{t}\\right) - 1\\right)\\}$ \n",
      "                                                                                        specializing $\\forall_{~.., v_{\\Box} ,..., w_{\\Box} ,..., x_{\\Box} ,..., y_{\\Box} ,..., z_{\\Box} ,..~ \\in \\mathbb{C}} \\left(\\left(~..\\cdot v_{\\Box} \\cdot...\\cdot w_{\\Box} \\cdot...\\cdot x_{\\Box} \\cdot...\\cdot y_{\\Box} \\cdot...\\cdot z_{\\Box} \\cdot..~\\right) = \\left(~..\\cdot v_{\\Box} \\cdot...\\cdot y_{\\Box} \\cdot...\\cdot x_{\\Box} \\cdot...\\cdot w_{\\Box} \\cdot...\\cdot z_{\\Box} \\cdot..~\\right)\\right)$  proven above\n",
      "                                                                                        condition $\\pi \\in \\mathbb{C}$  proven above\n",
      "                                                                                        condition $i \\in \\mathbb{C}$  proven above\n",
      "                                                                                        condition $k \\in \\mathbb{C}$  assuming $l \\in \\mathbb{Z}$, $k \\in \\{0\\ldots \\left(\\left(2^{t}\\right) - 1\\right)\\}$ \n",
      "                                                                                          specializing $\\forall_{ a  \\in \\mathbb{Z}} \\left(a \\in \\mathbb{C}\\right)$  proven above\n",
      "                                                                                          condition $k \\in \\mathbb{Z}$  assuming $l \\in \\mathbb{Z}$, $k \\in \\{0\\ldots \\left(\\left(2^{t}\\right) - 1\\right)\\}$ \n",
      "                                                                                            specializing $\\forall_{ n  \\in \\{0\\ldots \\left(\\left(2^{t}\\right) - 1\\right)\\}} \\left(n \\in \\mathbb{Z}\\right)$ \n",
      "                                                                                              specializing $\\forall_{ a , b  \\in \\mathbb{Z}} \\left[\\forall_{ n  \\in \\{a\\ldots b\\}} \\left(n \\in \\mathbb{Z}\\right)\\right]$ \n",
      "                                                                                                by theorem proveit.number.integer.allInDiscreteInterval_InInts\n",
      "                                                                                              condition $0 \\in \\mathbb{Z}$  proven above\n",
      "                                                                                              condition $\\left(\\left(2^{t}\\right) - 1\\right) \\in \\mathbb{Z}$  proven above\n",
      "                                                                                            condition $k \\in \\{0\\ldots \\left(\\left(2^{t}\\right) - 1\\right)\\}$  assuming $k \\in \\{0\\ldots \\left(\\left(2^{t}\\right) - 1\\right)\\}$ \n",
      "                                                                                        condition $\\left(b \\oplus l\\right) \\in \\mathbb{C}$  assuming $l \\in \\mathbb{Z}$ \n",
      "                                                                                          specializing $\\forall_{ a  \\in \\mathbb{Z}} \\left(a \\in \\mathbb{C}\\right)$  proven above\n",
      "                                                                                          condition $\\left(b \\oplus l\\right) \\in \\mathbb{Z}$  assuming $l \\in \\mathbb{Z}$ \n",
      "                                                                                            specializing $\\forall_{ a , b  \\in \\mathbb{Z}} \\left(\\left(a \\oplus b\\right) \\in \\mathbb{Z}\\right)$ \n",
      "                                                                                              by theorem proveit.physics.quantum.QPE.modAddClosure\n",
      "                                                                                            condition $l \\in \\mathbb{Z}$  assuming $l \\in \\mathbb{Z}$  proven above\n",
      "                                                                                            condition $b \\in \\mathbb{Z}$  proven above\n",
      "                                                                                        condition $2 \\in \\mathbb{C}$  proven above\n",
      "                                                                                    hypothesis $\\left( 2 \\cdot \\pi \\cdot i \\cdot \\left(b \\oplus l\\right) \\cdot k \\right) = \\left( \\left( 2 \\cdot \\pi \\cdot i \\cdot \\left(b \\oplus l\\right) \\right) \\cdot k \\right)$ \n",
      "                                                                                      specializing $\\forall_{~.., x_{\\Box} ,..., y_{\\Box} ,..., z_{\\Box} ,..~} \\left(\\left(~..\\cdot x_{\\Box} \\cdot...\\cdot y_{\\Box} \\cdot...\\cdot z_{\\Box} \\cdot..~\\right) = \\left(~..\\cdot x_{\\Box} \\cdot..~\\cdot \\left(~..\\cdot y_{\\Box} \\cdot..~\\right) \\cdot~..\\cdot z_{\\Box} \\cdot..~\\right)\\right)$  proven above\n",
      "                                                                              hypothesis $\\left(-\\left( \\left( 2 \\cdot \\pi \\cdot i \\cdot \\left(b \\oplus l\\right) \\right) \\cdot k \\right)\\right) = \\left( \\left(-\\left( 2 \\cdot \\pi \\cdot i \\cdot \\left(b \\oplus l\\right) \\right)\\right) \\cdot k \\right)$  assuming $l \\in \\mathbb{Z}$, $k \\in \\{0\\ldots \\left(\\left(2^{t}\\right) - 1\\right)\\}$ \n",
      "                                                                                specializing $\\forall_{ x , y  \\in \\mathbb{C}} \\left(\\left(-\\left( x \\cdot y \\right)\\right) = \\left( \\left(-x\\right) \\cdot y \\right)\\right)$ \n",
      "                                                                                  by theorem proveit.number.complex.negTimesPosRev\n",
      "                                                                                condition $k \\in \\mathbb{C}$  assuming $l \\in \\mathbb{Z}$, $k \\in \\{0\\ldots \\left(\\left(2^{t}\\right) - 1\\right)\\}$  proven above\n",
      "                                                                                condition $\\left( 2 \\cdot \\pi \\cdot i \\cdot \\left(b \\oplus l\\right) \\right) \\in \\mathbb{C}$  assuming $l \\in \\mathbb{Z}$ \n",
      "                                                                                  specializing $\\forall_{~.., x_{\\Box} ,..~ \\in \\mathbb{C}} \\left(\\left(~..\\cdot x_{\\Box} \\cdot..~\\right) \\in \\mathbb{C}\\right)$  proven above\n",
      "                                                                                  condition $\\pi \\in \\mathbb{C}$  proven above\n",
      "                                                                                  condition $i \\in \\mathbb{C}$  proven above\n",
      "                                                                                  condition $\\left(b \\oplus l\\right) \\in \\mathbb{C}$  assuming $l \\in \\mathbb{Z}$  proven above\n",
      "                                                                                  condition $2 \\in \\mathbb{C}$  proven above\n",
      "                                                                        hypothesis $\\frac{ \\left(-\\left( 2 \\cdot \\pi \\cdot i \\cdot \\left(b \\oplus l\\right) \\right)\\right) \\cdot k }{2^{t}} = \\left( \\frac{-\\left( 2 \\cdot \\pi \\cdot i \\cdot \\left(b \\oplus l\\right) \\right)}{2^{t}} \\cdot k \\right)$  assuming $l \\in \\mathbb{Z}$, $k \\in \\{0\\ldots \\left(\\left(2^{t}\\right) - 1\\right)\\}$ \n",
      "                                                                          specializing $\\forall_{~.., w_{\\Box} ,..~, x , y ,~.., z_{\\Box} ,..~ \\in \\mathbb{C}} \\left(\\frac{~..\\cdot w_{\\Box} \\cdot..~\\cdot x \\cdot~..\\cdot z_{\\Box} \\cdot..~}{y} = \\left(~..\\cdot w_{\\Box} \\cdot..~\\cdot \\frac{x}{y} \\cdot~..\\cdot z_{\\Box} \\cdot..~\\right)\\right)$ \n",
      "                                                                            by theorem proveit.number.complex.fracInProdRev\n",
      "                                                                          condition $\\left(2^{t}\\right) \\in \\mathbb{C}$  proven above\n",
      "                                                                          condition $k \\in \\mathbb{C}$  assuming $l \\in \\mathbb{Z}$, $k \\in \\{0\\ldots \\left(\\left(2^{t}\\right) - 1\\right)\\}$  proven above\n",
      "                                                                          condition $\\left(-\\left( 2 \\cdot \\pi \\cdot i \\cdot \\left(b \\oplus l\\right) \\right)\\right) \\in \\mathbb{C}$  assuming $l \\in \\mathbb{Z}$ \n",
      "                                                                            specializing $\\forall_{ a  \\in \\mathbb{C}} \\left(\\left(-a\\right) \\in \\mathbb{C}\\right)$ \n",
      "                                                                              by theorem proveit.number.complex.negClosure\n",
      "                                                                            condition $\\left( 2 \\cdot \\pi \\cdot i \\cdot \\left(b \\oplus l\\right) \\right) \\in \\mathbb{C}$  assuming $l \\in \\mathbb{Z}$  proven above\n",
      "                                                                  hypothesis $\\left(e^{ \\frac{-\\left( 2 \\cdot \\pi \\cdot i \\cdot \\left(b \\oplus l\\right) \\right)}{2^{t}} \\cdot k }\\right) = \\left(\\left(\\left(e^{\\frac{-\\left( 2 \\cdot \\pi \\cdot i \\cdot \\left(b \\oplus l\\right) \\right)}{2^{t}}}\\right)\\right)^{k}\\right)$  assuming $l \\in \\mathbb{Z}$, $k \\in \\{0\\ldots \\left(\\left(2^{t}\\right) - 1\\right)\\}$ \n",
      "                                                                    implication $\\left(\\left(\\left(\\left(e^{\\frac{-\\left( 2 \\cdot \\pi \\cdot i \\cdot \\left(b \\oplus l\\right) \\right)}{2^{t}}}\\right)\\right)^{k}\\right) = \\left(e^{ \\frac{-\\left( 2 \\cdot \\pi \\cdot i \\cdot \\left(b \\oplus l\\right) \\right)}{2^{t}} \\cdot k }\\right)\\right) \\Rightarrow \\left(\\left(e^{ \\frac{-\\left( 2 \\cdot \\pi \\cdot i \\cdot \\left(b \\oplus l\\right) \\right)}{2^{t}} \\cdot k }\\right) = \\left(\\left(\\left(e^{\\frac{-\\left( 2 \\cdot \\pi \\cdot i \\cdot \\left(b \\oplus l\\right) \\right)}{2^{t}}}\\right)\\right)^{k}\\right)\\right)$ \n",
      "                                                                      specializing $\\forall_{ x , y } \\left(\\left(x = y\\right) \\Rightarrow \\left(y = x\\right)\\right)$ \n",
      "                                                                        by axiom proveit.basiclogic.equality.equalsSymmetry\n",
      "                                                                    hypothesis $\\left(\\left(\\left(e^{\\frac{-\\left( 2 \\cdot \\pi \\cdot i \\cdot \\left(b \\oplus l\\right) \\right)}{2^{t}}}\\right)\\right)^{k}\\right) = \\left(e^{ \\frac{-\\left( 2 \\cdot \\pi \\cdot i \\cdot \\left(b \\oplus l\\right) \\right)}{2^{t}} \\cdot k }\\right)$  assuming $l \\in \\mathbb{Z}$, $k \\in \\{0\\ldots \\left(\\left(2^{t}\\right) - 1\\right)\\}$ \n",
      "                                                                      specializing $\\forall_{ a , b  \\in \\mathbb{C}~|~ \\left(a \\neq 0\\right) } \\left(\\left(\\left(\\left(a^{b}\\right)\\right)^{k}\\right) = \\left(a^{ b \\cdot k }\\right)\\right)$  assuming $l \\in \\mathbb{Z}$, $k \\in \\{0\\ldots \\left(\\left(2^{t}\\right) - 1\\right)\\}$ \n",
      "                                                                        specializing $\\forall_{ n  \\in \\mathbb{Z}} \\left[\\forall_{ a , b  \\in \\mathbb{C}~|~ \\left(a \\neq 0\\right) } \\left(\\left(\\left(\\left(a^{b}\\right)\\right)^{n}\\right) = \\left(a^{ b \\cdot n }\\right)\\right)\\right]$  proven above\n",
      "                                                                        condition $k \\in \\mathbb{Z}$  assuming $l \\in \\mathbb{Z}$, $k \\in \\{0\\ldots \\left(\\left(2^{t}\\right) - 1\\right)\\}$  proven above\n",
      "                                                                      condition $e \\neq 0$  proven above\n",
      "                                                                      condition $\\frac{-\\left( 2 \\cdot \\pi \\cdot i \\cdot \\left(b \\oplus l\\right) \\right)}{2^{t}} \\in \\mathbb{C}$  assuming $l \\in \\mathbb{Z}$ \n",
      "                                                                        specializing $\\forall_{ a , b  \\in \\mathbb{C}~|~ \\left(b \\neq 0\\right) } \\left(\\frac{a}{b} \\in \\mathbb{C}\\right)$ \n",
      "                                                                          by theorem proveit.number.complex.fractionClosure\n",
      "                                                                        condition $\\left(2^{t}\\right) \\neq 0$  proven above\n",
      "                                                                        condition $\\left(2^{t}\\right) \\in \\mathbb{C}$  proven above\n",
      "                                                                        condition $\\left(-\\left( 2 \\cdot \\pi \\cdot i \\cdot \\left(b \\oplus l\\right) \\right)\\right) \\in \\mathbb{C}$  assuming $l \\in \\mathbb{Z}$  proven above\n",
      "                                                                      condition $e \\in \\mathbb{C}$  proven above\n",
      "                                                            hypothesis $\\left( \\left(\\left(\\left(e^{\\frac{-\\left( 2 \\cdot \\pi \\cdot i \\cdot \\left(b \\oplus l\\right) \\right)}{2^{t}}}\\right)\\right)^{k}\\right) \\cdot \\left(e^{ 2 \\cdot \\pi \\cdot i \\cdot \\varphi \\cdot k }\\right) \\right) = \\left( \\left(\\left(\\left(e^{\\frac{-\\left( 2 \\cdot \\pi \\cdot i \\cdot \\left(b \\oplus l\\right) \\right)}{2^{t}}}\\right)\\right)^{k}\\right) \\cdot \\left(\\left(\\left(e^{ 2 \\cdot \\pi \\cdot i \\cdot \\varphi }\\right)\\right)^{k}\\right) \\right)$  assuming $l \\in \\mathbb{Z}$, $k \\in \\{0\\ldots \\left(\\left(2^{t}\\right) - 1\\right)\\}$ \n",
      "                                                              implication $\\left(\\left(e^{ 2 \\cdot \\pi \\cdot i \\cdot \\varphi \\cdot k }\\right) = \\left(\\left(\\left(e^{ 2 \\cdot \\pi \\cdot i \\cdot \\varphi }\\right)\\right)^{k}\\right)\\right) \\Rightarrow \\left(\\left( \\left(\\left(\\left(e^{\\frac{-\\left( 2 \\cdot \\pi \\cdot i \\cdot \\left(b \\oplus l\\right) \\right)}{2^{t}}}\\right)\\right)^{k}\\right) \\cdot \\left(e^{ 2 \\cdot \\pi \\cdot i \\cdot \\varphi \\cdot k }\\right) \\right) = \\left( \\left(\\left(\\left(e^{\\frac{-\\left( 2 \\cdot \\pi \\cdot i \\cdot \\left(b \\oplus l\\right) \\right)}{2^{t}}}\\right)\\right)^{k}\\right) \\cdot \\left(\\left(\\left(e^{ 2 \\cdot \\pi \\cdot i \\cdot \\varphi }\\right)\\right)^{k}\\right) \\right)\\right)$ \n",
      "                                                                specializing $\\forall_{ f , x , y } \\left(\\left(x = y\\right) \\Rightarrow \\left(f\\left( x \\right) = f\\left( y \\right)\\right)\\right)$  proven above\n",
      "                                                              hypothesis $\\left(e^{ 2 \\cdot \\pi \\cdot i \\cdot \\varphi \\cdot k }\\right) = \\left(\\left(\\left(e^{ 2 \\cdot \\pi \\cdot i \\cdot \\varphi }\\right)\\right)^{k}\\right)$  assuming $l \\in \\mathbb{Z}$, $k \\in \\{0\\ldots \\left(\\left(2^{t}\\right) - 1\\right)\\}$ \n",
      "                                                                implication $\\left(\\left(e^{ \\left( 2 \\cdot \\pi \\cdot i \\cdot \\varphi \\right) \\cdot k }\\right) = \\left(\\left(\\left(e^{ 2 \\cdot \\pi \\cdot i \\cdot \\varphi }\\right)\\right)^{k}\\right)\\right) \\Rightarrow \\left(\\left(e^{ 2 \\cdot \\pi \\cdot i \\cdot \\varphi \\cdot k }\\right) = \\left(\\left(\\left(e^{ 2 \\cdot \\pi \\cdot i \\cdot \\varphi }\\right)\\right)^{k}\\right)\\right)$ \n",
      "                                                                  implication $\\left(\\left(e^{ 2 \\cdot \\pi \\cdot i \\cdot \\varphi \\cdot k }\\right) = \\left(e^{ \\left( 2 \\cdot \\pi \\cdot i \\cdot \\varphi \\right) \\cdot k }\\right)\\right) \\Rightarrow \\left(\\left(\\left(e^{ \\left( 2 \\cdot \\pi \\cdot i \\cdot \\varphi \\right) \\cdot k }\\right) = \\left(\\left(\\left(e^{ 2 \\cdot \\pi \\cdot i \\cdot \\varphi }\\right)\\right)^{k}\\right)\\right) \\Rightarrow \\left(\\left(e^{ 2 \\cdot \\pi \\cdot i \\cdot \\varphi \\cdot k }\\right) = \\left(\\left(\\left(e^{ 2 \\cdot \\pi \\cdot i \\cdot \\varphi }\\right)\\right)^{k}\\right)\\right)\\right)$ \n",
      "                                                                    specializing $\\forall_{ x , y , z } \\left(\\left(x = y\\right) \\Rightarrow \\left(\\left(y = z\\right) \\Rightarrow \\left(x = z\\right)\\right)\\right)$  proven above\n",
      "                                                                  hypothesis $\\left(e^{ 2 \\cdot \\pi \\cdot i \\cdot \\varphi \\cdot k }\\right) = \\left(e^{ \\left( 2 \\cdot \\pi \\cdot i \\cdot \\varphi \\right) \\cdot k }\\right)$ \n",
      "                                                                    implication $\\left(\\left( 2 \\cdot \\pi \\cdot i \\cdot \\varphi \\cdot k \\right) = \\left( \\left( 2 \\cdot \\pi \\cdot i \\cdot \\varphi \\right) \\cdot k \\right)\\right) \\Rightarrow \\left(\\left(e^{ 2 \\cdot \\pi \\cdot i \\cdot \\varphi \\cdot k }\\right) = \\left(e^{ \\left( 2 \\cdot \\pi \\cdot i \\cdot \\varphi \\right) \\cdot k }\\right)\\right)$ \n",
      "                                                                      specializing $\\forall_{ f , x , y } \\left(\\left(x = y\\right) \\Rightarrow \\left(f\\left( x \\right) = f\\left( y \\right)\\right)\\right)$  proven above\n",
      "                                                                    hypothesis $\\left( 2 \\cdot \\pi \\cdot i \\cdot \\varphi \\cdot k \\right) = \\left( \\left( 2 \\cdot \\pi \\cdot i \\cdot \\varphi \\right) \\cdot k \\right)$ \n",
      "                                                                      specializing $\\forall_{~.., x_{\\Box} ,..., y_{\\Box} ,..., z_{\\Box} ,..~} \\left(\\left(~..\\cdot x_{\\Box} \\cdot...\\cdot y_{\\Box} \\cdot...\\cdot z_{\\Box} \\cdot..~\\right) = \\left(~..\\cdot x_{\\Box} \\cdot..~\\cdot \\left(~..\\cdot y_{\\Box} \\cdot..~\\right) \\cdot~..\\cdot z_{\\Box} \\cdot..~\\right)\\right)$  proven above\n",
      "                                                                hypothesis $\\left(e^{ \\left( 2 \\cdot \\pi \\cdot i \\cdot \\varphi \\right) \\cdot k }\\right) = \\left(\\left(\\left(e^{ 2 \\cdot \\pi \\cdot i \\cdot \\varphi }\\right)\\right)^{k}\\right)$  assuming $l \\in \\mathbb{Z}$, $k \\in \\{0\\ldots \\left(\\left(2^{t}\\right) - 1\\right)\\}$ \n",
      "                                                                  implication $\\left(\\left(\\left(\\left(e^{ 2 \\cdot \\pi \\cdot i \\cdot \\varphi }\\right)\\right)^{k}\\right) = \\left(e^{ \\left( 2 \\cdot \\pi \\cdot i \\cdot \\varphi \\right) \\cdot k }\\right)\\right) \\Rightarrow \\left(\\left(e^{ \\left( 2 \\cdot \\pi \\cdot i \\cdot \\varphi \\right) \\cdot k }\\right) = \\left(\\left(\\left(e^{ 2 \\cdot \\pi \\cdot i \\cdot \\varphi }\\right)\\right)^{k}\\right)\\right)$ \n",
      "                                                                    specializing $\\forall_{ x , y } \\left(\\left(x = y\\right) \\Rightarrow \\left(y = x\\right)\\right)$  proven above\n",
      "                                                                  hypothesis $\\left(\\left(\\left(e^{ 2 \\cdot \\pi \\cdot i \\cdot \\varphi }\\right)\\right)^{k}\\right) = \\left(e^{ \\left( 2 \\cdot \\pi \\cdot i \\cdot \\varphi \\right) \\cdot k }\\right)$  assuming $l \\in \\mathbb{Z}$, $k \\in \\{0\\ldots \\left(\\left(2^{t}\\right) - 1\\right)\\}$ \n",
      "                                                                    specializing $\\forall_{ a , b  \\in \\mathbb{C}~|~ \\left(a \\neq 0\\right) } \\left(\\left(\\left(\\left(a^{b}\\right)\\right)^{k}\\right) = \\left(a^{ b \\cdot k }\\right)\\right)$  assuming $l \\in \\mathbb{Z}$, $k \\in \\{0\\ldots \\left(\\left(2^{t}\\right) - 1\\right)\\}$  proven above\n",
      "                                                                    condition $\\left( 2 \\cdot \\pi \\cdot i \\cdot \\varphi \\right) \\in \\mathbb{C}$ \n",
      "                                                                      specializing $\\forall_{~.., x_{\\Box} ,..~ \\in \\mathbb{C}} \\left(\\left(~..\\cdot x_{\\Box} \\cdot..~\\right) \\in \\mathbb{C}\\right)$  proven above\n",
      "                                                                      condition $\\pi \\in \\mathbb{C}$  proven above\n",
      "                                                                      condition $i \\in \\mathbb{C}$  proven above\n",
      "                                                                      condition $\\varphi \\in \\mathbb{C}$ \n",
      "                                                                        specializing $\\forall_{ a  \\in \\mathbb{R}} \\left(a \\in \\mathbb{C}\\right)$  proven above\n",
      "                                                                        condition $\\varphi \\in \\mathbb{R}$ \n",
      "                                                                          by theorem proveit.physics.quantum.QPE.phaseInReals\n",
      "                                                                      condition $2 \\in \\mathbb{C}$  proven above\n",
      "                                                                    condition $e \\neq 0$  proven above\n",
      "                                                                    condition $e \\in \\mathbb{C}$  proven above\n",
      "                                                        hypothesis $\\left( \\left(\\left(\\left(e^{\\frac{-\\left( 2 \\cdot \\pi \\cdot i \\cdot \\left(b \\oplus l\\right) \\right)}{2^{t}}}\\right)\\right)^{k}\\right) \\cdot \\left(\\left(\\left(e^{ 2 \\cdot \\pi \\cdot i \\cdot \\varphi }\\right)\\right)^{k}\\right) \\right) = \\left( \\left(\\left(\\left(e^{\\frac{-\\left( 2 \\cdot \\pi \\cdot i \\cdot \\left(\\left( b + l \\right) ~\\rm{mod}~ \\left(2^{t}\\right)\\right) \\right)}{2^{t}}}\\right)\\right)^{k}\\right) \\cdot \\left(\\left(\\left(e^{ 2 \\cdot \\pi \\cdot i \\cdot \\varphi }\\right)\\right)^{k}\\right) \\right)$  assuming $l \\in \\mathbb{Z}$ \n",
      "                                                          implication $\\left(\\left(b \\oplus l\\right) = \\left(\\left( b + l \\right) ~\\rm{mod}~ \\left(2^{t}\\right)\\right)\\right) \\Rightarrow \\left(\\left( \\left(\\left(\\left(e^{\\frac{-\\left( 2 \\cdot \\pi \\cdot i \\cdot \\left(b \\oplus l\\right) \\right)}{2^{t}}}\\right)\\right)^{k}\\right) \\cdot \\left(\\left(\\left(e^{ 2 \\cdot \\pi \\cdot i \\cdot \\varphi }\\right)\\right)^{k}\\right) \\right) = \\left( \\left(\\left(\\left(e^{\\frac{-\\left( 2 \\cdot \\pi \\cdot i \\cdot \\left(\\left( b + l \\right) ~\\rm{mod}~ \\left(2^{t}\\right)\\right) \\right)}{2^{t}}}\\right)\\right)^{k}\\right) \\cdot \\left(\\left(\\left(e^{ 2 \\cdot \\pi \\cdot i \\cdot \\varphi }\\right)\\right)^{k}\\right) \\right)\\right)$ \n",
      "                                                            specializing $\\forall_{ f , x , y } \\left(\\left(x = y\\right) \\Rightarrow \\left(f\\left( x \\right) = f\\left( y \\right)\\right)\\right)$  proven above\n",
      "                                                          hypothesis $\\left(b \\oplus l\\right) = \\left(\\left( b + l \\right) ~\\rm{mod}~ \\left(2^{t}\\right)\\right)$  assuming $l \\in \\mathbb{Z}$ \n",
      "                                                            specializing $\\forall_{ a , b  \\in \\mathbb{Z}} \\left(\\left(a \\oplus b\\right) = \\left(\\left( a + b \\right) ~\\rm{mod}~ \\left(2^{t}\\right)\\right)\\right)$ \n",
      "                                                              by axiom proveit.physics.quantum.QPE.modAddDef\n",
      "                                                            condition $l \\in \\mathbb{Z}$  assuming $l \\in \\mathbb{Z}$  proven above\n",
      "                                                            condition $b \\in \\mathbb{Z}$  proven above\n",
      "                                                    hypothesis $\\left( \\left(\\left(\\left(e^{\\frac{-\\left( 2 \\cdot \\pi \\cdot i \\cdot \\left(\\left( b + l \\right) ~\\rm{mod}~ \\left(2^{t}\\right)\\right) \\right)}{2^{t}}}\\right)\\right)^{k}\\right) \\cdot \\left(\\left(\\left(e^{ 2 \\cdot \\pi \\cdot i \\cdot \\varphi }\\right)\\right)^{k}\\right) \\right) = \\left( \\left(\\left(\\left(e^{\\frac{-\\left( 2 \\cdot \\pi \\cdot i \\cdot \\left( b + l \\right) \\right)}{2^{t}}}\\right)\\right)^{k}\\right) \\cdot \\left(\\left(\\left(e^{ 2 \\cdot \\pi \\cdot i \\cdot \\varphi }\\right)\\right)^{k}\\right) \\right)$  assuming $l \\in \\mathbb{Z}$, $k \\in \\{0\\ldots \\left(\\left(2^{t}\\right) - 1\\right)\\}$ \n",
      "                                                      implication $\\left(\\left(e^{\\frac{-\\left( 2 \\cdot \\pi \\cdot i \\cdot \\left(\\left( b + l \\right) ~\\rm{mod}~ \\left(2^{t}\\right)\\right) \\right)}{2^{t}}}\\right) = \\left(e^{\\frac{-\\left( 2 \\cdot \\pi \\cdot i \\cdot \\left( b + l \\right) \\right)}{2^{t}}}\\right)\\right) \\Rightarrow \\left(\\left( \\left(\\left(\\left(e^{\\frac{-\\left( 2 \\cdot \\pi \\cdot i \\cdot \\left(\\left( b + l \\right) ~\\rm{mod}~ \\left(2^{t}\\right)\\right) \\right)}{2^{t}}}\\right)\\right)^{k}\\right) \\cdot \\left(\\left(\\left(e^{ 2 \\cdot \\pi \\cdot i \\cdot \\varphi }\\right)\\right)^{k}\\right) \\right) = \\left( \\left(\\left(\\left(e^{\\frac{-\\left( 2 \\cdot \\pi \\cdot i \\cdot \\left( b + l \\right) \\right)}{2^{t}}}\\right)\\right)^{k}\\right) \\cdot \\left(\\left(\\left(e^{ 2 \\cdot \\pi \\cdot i \\cdot \\varphi }\\right)\\right)^{k}\\right) \\right)\\right)$ \n",
      "                                                        specializing $\\forall_{ f , x , y } \\left(\\left(x = y\\right) \\Rightarrow \\left(f\\left( x \\right) = f\\left( y \\right)\\right)\\right)$  proven above\n",
      "                                                      hypothesis $\\left(e^{\\frac{-\\left( 2 \\cdot \\pi \\cdot i \\cdot \\left(\\left( b + l \\right) ~\\rm{mod}~ \\left(2^{t}\\right)\\right) \\right)}{2^{t}}}\\right) = \\left(e^{\\frac{-\\left( 2 \\cdot \\pi \\cdot i \\cdot \\left( b + l \\right) \\right)}{2^{t}}}\\right)$  assuming $l \\in \\mathbb{Z}$, $k \\in \\{0\\ldots \\left(\\left(2^{t}\\right) - 1\\right)\\}$ \n",
      "                                                        specializing $\\forall_{ x , r  \\in \\mathbb{R}} \\left(\\left(e^{\\frac{-\\left( 2 \\cdot \\pi \\cdot i \\cdot \\left(x ~\\rm{mod}~ r\\right) \\right)}{r}}\\right) = \\left(e^{\\frac{-\\left( 2 \\cdot \\pi \\cdot i \\cdot x \\right)}{r}}\\right)\\right)$ \n",
      "                                                          by theorem proveit.trigonometry.exp_neg2pi_i_x\n",
      "                                                        condition $\\left( b + l \\right) \\in \\mathbb{R}$  assuming $l \\in \\mathbb{Z}$ \n",
      "                                                          specializing $\\forall_{ a  \\in \\mathbb{Z}} \\left(a \\in \\mathbb{R}\\right)$  proven above\n",
      "                                                          condition $\\left( b + l \\right) \\in \\mathbb{Z}$  assuming $l \\in \\mathbb{Z}$ \n",
      "                                                            specializing $\\forall_{~.., x_{\\Box} ,..~ \\in \\mathbb{Z}} \\left(\\left(~..+ x_{\\Box} +..~\\right) \\in \\mathbb{Z}\\right)$ \n",
      "                                                              by theorem proveit.number.integer.addClosure\n",
      "                                                            condition $l \\in \\mathbb{Z}$  assuming $l \\in \\mathbb{Z}$  proven above\n",
      "                                                            condition $b \\in \\mathbb{Z}$  proven above\n",
      "                                                        condition $\\left(2^{t}\\right) \\in \\mathbb{R}$  proven above\n",
      "                                                hypothesis $\\left( \\left(\\left(\\left(e^{\\frac{-\\left( 2 \\cdot \\pi \\cdot i \\cdot \\left( b + l \\right) \\right)}{2^{t}}}\\right)\\right)^{k}\\right) \\cdot \\left(\\left(\\left(e^{ 2 \\cdot \\pi \\cdot i \\cdot \\varphi }\\right)\\right)^{k}\\right) \\right) = \\left(\\left( \\left(e^{\\frac{-\\left( 2 \\cdot \\pi \\cdot i \\cdot \\left( b + l \\right) \\right)}{2^{t}}}\\right) \\cdot \\left(e^{ 2 \\cdot \\pi \\cdot i \\cdot \\varphi }\\right) \\right)^{k}\\right)$  assuming $l \\in \\mathbb{Z}$, $k \\in \\{0\\ldots \\left(\\left(2^{t}\\right) - 1\\right)\\}$ \n",
      "                                                  specializing $\\forall_{ a , b  \\in \\mathbb{C}~|~ \\left(a \\neq 0\\right) , \\left(b \\neq 0\\right) } \\left(\\left( \\left(a^{k}\\right) \\cdot \\left(b^{k}\\right) \\right) = \\left(\\left( a \\cdot b \\right)^{k}\\right)\\right)$  assuming $l \\in \\mathbb{Z}$, $k \\in \\{0\\ldots \\left(\\left(2^{t}\\right) - 1\\right)\\}$ \n",
      "                                                    specializing $\\forall_{ n  \\in \\mathbb{Z}} \\left[\\forall_{ a , b  \\in \\mathbb{C}~|~ \\left(a \\neq 0\\right) , \\left(b \\neq 0\\right) } \\left(\\left( \\left(a^{n}\\right) \\cdot \\left(b^{n}\\right) \\right) = \\left(\\left( a \\cdot b \\right)^{n}\\right)\\right)\\right]$ \n",
      "                                                      by theorem proveit.number.complex.intPowOfProdRev\n",
      "                                                    condition $k \\in \\mathbb{Z}$  assuming $l \\in \\mathbb{Z}$, $k \\in \\{0\\ldots \\left(\\left(2^{t}\\right) - 1\\right)\\}$  proven above\n",
      "                                                  condition $\\left(e^{ 2 \\cdot \\pi \\cdot i \\cdot \\varphi }\\right) \\neq 0$ \n",
      "                                                    specializing $\\forall_{ a , b  \\in \\mathbb{C}~|~ \\left(a \\neq 0\\right) } \\left(\\left(a^{b}\\right) \\neq 0\\right)$  proven above\n",
      "                                                    condition $\\left( 2 \\cdot \\pi \\cdot i \\cdot \\varphi \\right) \\in \\mathbb{C}$  proven above\n",
      "                                                    condition $e \\neq 0$  proven above\n",
      "                                                    condition $e \\in \\mathbb{C}$  proven above\n",
      "                                                  condition $\\left(e^{\\frac{-\\left( 2 \\cdot \\pi \\cdot i \\cdot \\left( b + l \\right) \\right)}{2^{t}}}\\right) \\in \\mathbb{C}$  assuming $l \\in \\mathbb{Z}$ \n",
      "                                                    specializing $\\forall_{ a , b  \\in \\mathbb{C}~|~ \\left(a \\neq 0\\right) } \\left(\\left(a^{b}\\right) \\in \\mathbb{C}\\right)$  proven above\n",
      "                                                    condition $\\frac{-\\left( 2 \\cdot \\pi \\cdot i \\cdot \\left( b + l \\right) \\right)}{2^{t}} \\in \\mathbb{C}$  assuming $l \\in \\mathbb{Z}$ \n",
      "                                                      specializing $\\forall_{ a , b  \\in \\mathbb{C}~|~ \\left(b \\neq 0\\right) } \\left(\\frac{a}{b} \\in \\mathbb{C}\\right)$  proven above\n",
      "                                                      condition $\\left(2^{t}\\right) \\neq 0$  proven above\n",
      "                                                      condition $\\left(2^{t}\\right) \\in \\mathbb{C}$  proven above\n",
      "                                                      condition $\\left(-\\left( 2 \\cdot \\pi \\cdot i \\cdot \\left( b + l \\right) \\right)\\right) \\in \\mathbb{C}$  assuming $l \\in \\mathbb{Z}$ \n",
      "                                                        specializing $\\forall_{ a  \\in \\mathbb{C}} \\left(\\left(-a\\right) \\in \\mathbb{C}\\right)$  proven above\n",
      "                                                        condition $\\left( 2 \\cdot \\pi \\cdot i \\cdot \\left( b + l \\right) \\right) \\in \\mathbb{C}$  assuming $l \\in \\mathbb{Z}$ \n",
      "                                                          specializing $\\forall_{~.., x_{\\Box} ,..~ \\in \\mathbb{C}} \\left(\\left(~..\\cdot x_{\\Box} \\cdot..~\\right) \\in \\mathbb{C}\\right)$  proven above\n",
      "                                                          condition $\\pi \\in \\mathbb{C}$  proven above\n",
      "                                                          condition $i \\in \\mathbb{C}$  proven above\n",
      "                                                          condition $\\left( b + l \\right) \\in \\mathbb{C}$  assuming $l \\in \\mathbb{Z}$ \n",
      "                                                            specializing $\\forall_{ a  \\in \\mathbb{Z}} \\left(a \\in \\mathbb{C}\\right)$  proven above\n",
      "                                                            condition $\\left( b + l \\right) \\in \\mathbb{Z}$  assuming $l \\in \\mathbb{Z}$  proven above\n",
      "                                                          condition $2 \\in \\mathbb{C}$  proven above\n",
      "                                                    condition $e \\neq 0$  proven above\n",
      "                                                    condition $e \\in \\mathbb{C}$  proven above\n",
      "                                                  condition $\\left(e^{\\frac{-\\left( 2 \\cdot \\pi \\cdot i \\cdot \\left( b + l \\right) \\right)}{2^{t}}}\\right) \\neq 0$  assuming $l \\in \\mathbb{Z}$ \n",
      "                                                    specializing $\\forall_{ a , b  \\in \\mathbb{C}~|~ \\left(a \\neq 0\\right) } \\left(\\left(a^{b}\\right) \\neq 0\\right)$  proven above\n",
      "                                                    condition $\\frac{-\\left( 2 \\cdot \\pi \\cdot i \\cdot \\left( b + l \\right) \\right)}{2^{t}} \\in \\mathbb{C}$  assuming $l \\in \\mathbb{Z}$  proven above\n",
      "                                                    condition $e \\neq 0$  proven above\n",
      "                                                    condition $e \\in \\mathbb{C}$  proven above\n",
      "                                                  condition $\\left(e^{ 2 \\cdot \\pi \\cdot i \\cdot \\varphi }\\right) \\in \\mathbb{C}$ \n",
      "                                                    specializing $\\forall_{ a , b  \\in \\mathbb{C}~|~ \\left(a \\neq 0\\right) } \\left(\\left(a^{b}\\right) \\in \\mathbb{C}\\right)$  proven above\n",
      "                                                    condition $\\left( 2 \\cdot \\pi \\cdot i \\cdot \\varphi \\right) \\in \\mathbb{C}$  proven above\n",
      "                                                    condition $e \\neq 0$  proven above\n",
      "                                                    condition $e \\in \\mathbb{C}$  proven above\n",
      "                                            hypothesis $\\left(\\left( \\left(e^{\\frac{-\\left( 2 \\cdot \\pi \\cdot i \\cdot \\left( b + l \\right) \\right)}{2^{t}}}\\right) \\cdot \\left(e^{ 2 \\cdot \\pi \\cdot i \\cdot \\varphi }\\right) \\right)^{k}\\right) = \\left(\\left( \\left(e^{ 2 \\cdot \\pi \\cdot i \\cdot \\varphi }\\right) \\cdot \\left(e^{\\frac{-\\left( 2 \\cdot \\pi \\cdot i \\cdot \\left( b + l \\right) \\right)}{2^{t}}}\\right) \\right)^{k}\\right)$  assuming $l \\in \\mathbb{Z}$ \n",
      "                                              implication $\\left(\\left( \\left(e^{\\frac{-\\left( 2 \\cdot \\pi \\cdot i \\cdot \\left( b + l \\right) \\right)}{2^{t}}}\\right) \\cdot \\left(e^{ 2 \\cdot \\pi \\cdot i \\cdot \\varphi }\\right) \\right) = \\left( \\left(e^{ 2 \\cdot \\pi \\cdot i \\cdot \\varphi }\\right) \\cdot \\left(e^{\\frac{-\\left( 2 \\cdot \\pi \\cdot i \\cdot \\left( b + l \\right) \\right)}{2^{t}}}\\right) \\right)\\right) \\Rightarrow \\left(\\left(\\left( \\left(e^{\\frac{-\\left( 2 \\cdot \\pi \\cdot i \\cdot \\left( b + l \\right) \\right)}{2^{t}}}\\right) \\cdot \\left(e^{ 2 \\cdot \\pi \\cdot i \\cdot \\varphi }\\right) \\right)^{k}\\right) = \\left(\\left( \\left(e^{ 2 \\cdot \\pi \\cdot i \\cdot \\varphi }\\right) \\cdot \\left(e^{\\frac{-\\left( 2 \\cdot \\pi \\cdot i \\cdot \\left( b + l \\right) \\right)}{2^{t}}}\\right) \\right)^{k}\\right)\\right)$ \n",
      "                                                specializing $\\forall_{ f , x , y } \\left(\\left(x = y\\right) \\Rightarrow \\left(f\\left( x \\right) = f\\left( y \\right)\\right)\\right)$  proven above\n",
      "                                              hypothesis $\\left( \\left(e^{\\frac{-\\left( 2 \\cdot \\pi \\cdot i \\cdot \\left( b + l \\right) \\right)}{2^{t}}}\\right) \\cdot \\left(e^{ 2 \\cdot \\pi \\cdot i \\cdot \\varphi }\\right) \\right) = \\left( \\left(e^{ 2 \\cdot \\pi \\cdot i \\cdot \\varphi }\\right) \\cdot \\left(e^{\\frac{-\\left( 2 \\cdot \\pi \\cdot i \\cdot \\left( b + l \\right) \\right)}{2^{t}}}\\right) \\right)$  assuming $l \\in \\mathbb{Z}$ \n",
      "                                                specializing $\\forall_{~.., v_{\\Box} ,..., w_{\\Box} ,..., x_{\\Box} ,..., y_{\\Box} ,..., z_{\\Box} ,..~ \\in \\mathbb{C}} \\left(\\left(~..\\cdot v_{\\Box} \\cdot...\\cdot w_{\\Box} \\cdot...\\cdot x_{\\Box} \\cdot...\\cdot y_{\\Box} \\cdot...\\cdot z_{\\Box} \\cdot..~\\right) = \\left(~..\\cdot v_{\\Box} \\cdot...\\cdot y_{\\Box} \\cdot...\\cdot x_{\\Box} \\cdot...\\cdot w_{\\Box} \\cdot...\\cdot z_{\\Box} \\cdot..~\\right)\\right)$  proven above\n",
      "                                                condition $\\left(e^{\\frac{-\\left( 2 \\cdot \\pi \\cdot i \\cdot \\left( b + l \\right) \\right)}{2^{t}}}\\right) \\in \\mathbb{C}$  assuming $l \\in \\mathbb{Z}$  proven above\n",
      "                                                condition $\\left(e^{ 2 \\cdot \\pi \\cdot i \\cdot \\varphi }\\right) \\in \\mathbb{C}$  proven above\n",
      "                                        hypothesis $\\left(\\left( \\left(e^{ 2 \\cdot \\pi \\cdot i \\cdot \\varphi }\\right) \\cdot \\left(e^{\\frac{-\\left( 2 \\cdot \\pi \\cdot i \\cdot \\left( b + l \\right) \\right)}{2^{t}}}\\right) \\right)^{k}\\right) = \\left(\\left(\\left(e^{\\left( 2 \\cdot \\pi \\cdot i \\cdot \\varphi \\right) - \\frac{ 2 \\cdot \\pi \\cdot i \\cdot \\left( b + l \\right) }{2^{t}}}\\right)\\right)^{k}\\right)$  assuming $l \\in \\mathbb{Z}$ \n",
      "                                          implication $\\left(\\left( \\left(e^{ 2 \\cdot \\pi \\cdot i \\cdot \\varphi }\\right) \\cdot \\left(e^{\\frac{-\\left( 2 \\cdot \\pi \\cdot i \\cdot \\left( b + l \\right) \\right)}{2^{t}}}\\right) \\right) = \\left(e^{\\left( 2 \\cdot \\pi \\cdot i \\cdot \\varphi \\right) - \\frac{ 2 \\cdot \\pi \\cdot i \\cdot \\left( b + l \\right) }{2^{t}}}\\right)\\right) \\Rightarrow \\left(\\left(\\left( \\left(e^{ 2 \\cdot \\pi \\cdot i \\cdot \\varphi }\\right) \\cdot \\left(e^{\\frac{-\\left( 2 \\cdot \\pi \\cdot i \\cdot \\left( b + l \\right) \\right)}{2^{t}}}\\right) \\right)^{k}\\right) = \\left(\\left(\\left(e^{\\left( 2 \\cdot \\pi \\cdot i \\cdot \\varphi \\right) - \\frac{ 2 \\cdot \\pi \\cdot i \\cdot \\left( b + l \\right) }{2^{t}}}\\right)\\right)^{k}\\right)\\right)$ \n",
      "                                            specializing $\\forall_{ f , x , y } \\left(\\left(x = y\\right) \\Rightarrow \\left(f\\left( x \\right) = f\\left( y \\right)\\right)\\right)$  proven above\n",
      "                                          hypothesis $\\left( \\left(e^{ 2 \\cdot \\pi \\cdot i \\cdot \\varphi }\\right) \\cdot \\left(e^{\\frac{-\\left( 2 \\cdot \\pi \\cdot i \\cdot \\left( b + l \\right) \\right)}{2^{t}}}\\right) \\right) = \\left(e^{\\left( 2 \\cdot \\pi \\cdot i \\cdot \\varphi \\right) - \\frac{ 2 \\cdot \\pi \\cdot i \\cdot \\left( b + l \\right) }{2^{t}}}\\right)$  assuming $l \\in \\mathbb{Z}$ \n",
      "                                            specializing $\\forall_{ a , b , c , d  \\in \\mathbb{C}~|~ \\left(a \\neq 0\\right) , \\left(d \\neq 0\\right) } \\left(\\left( \\left(a^{b}\\right) \\cdot \\left(a^{\\frac{-c}{d}}\\right) \\right) = \\left(a^{b - \\frac{c}{d}}\\right)\\right)$ \n",
      "                                              by theorem proveit.number.complex.diffFracInPowRev\n",
      "                                            condition $\\left(2^{t}\\right) \\in \\mathbb{C}$  proven above\n",
      "                                            condition $e \\neq 0$  proven above\n",
      "                                            condition $e \\in \\mathbb{C}$  proven above\n",
      "                                            condition $\\left( 2 \\cdot \\pi \\cdot i \\cdot \\left( b + l \\right) \\right) \\in \\mathbb{C}$  assuming $l \\in \\mathbb{Z}$  proven above\n",
      "                                            condition $\\left(2^{t}\\right) \\neq 0$  proven above\n",
      "                                            condition $\\left( 2 \\cdot \\pi \\cdot i \\cdot \\varphi \\right) \\in \\mathbb{C}$  proven above\n",
      "                                    hypothesis $\\left(\\left(\\left(e^{\\left( 2 \\cdot \\pi \\cdot i \\cdot \\varphi \\right) - \\frac{ 2 \\cdot \\pi \\cdot i \\cdot \\left( b + l \\right) }{2^{t}}}\\right)\\right)^{k}\\right) = \\left(\\left(\\left(e^{ 2 \\cdot \\pi \\cdot i \\cdot \\left(\\varphi - \\frac{ b + l }{2^{t}}\\right) }\\right)\\right)^{k}\\right)$  assuming $l \\in \\mathbb{Z}$ \n",
      "                                      implication $\\left(\\left(\\left( 2 \\cdot \\pi \\cdot i \\cdot \\varphi \\right) - \\frac{ 2 \\cdot \\pi \\cdot i \\cdot \\left( b + l \\right) }{2^{t}}\\right) = \\left( 2 \\cdot \\pi \\cdot i \\cdot \\left(\\varphi - \\frac{ b + l }{2^{t}}\\right) \\right)\\right) \\Rightarrow \\left(\\left(\\left(\\left(e^{\\left( 2 \\cdot \\pi \\cdot i \\cdot \\varphi \\right) - \\frac{ 2 \\cdot \\pi \\cdot i \\cdot \\left( b + l \\right) }{2^{t}}}\\right)\\right)^{k}\\right) = \\left(\\left(\\left(e^{ 2 \\cdot \\pi \\cdot i \\cdot \\left(\\varphi - \\frac{ b + l }{2^{t}}\\right) }\\right)\\right)^{k}\\right)\\right)$ \n",
      "                                        specializing $\\forall_{ f , x , y } \\left(\\left(x = y\\right) \\Rightarrow \\left(f\\left( x \\right) = f\\left( y \\right)\\right)\\right)$  proven above\n",
      "                                      hypothesis $\\left(\\left( 2 \\cdot \\pi \\cdot i \\cdot \\varphi \\right) - \\frac{ 2 \\cdot \\pi \\cdot i \\cdot \\left( b + l \\right) }{2^{t}}\\right) = \\left( 2 \\cdot \\pi \\cdot i \\cdot \\left(\\varphi - \\frac{ b + l }{2^{t}}\\right) \\right)$  assuming $l \\in \\mathbb{Z}$ \n",
      "                                        implication $\\left(\\left(\\left( 2 \\cdot \\pi \\cdot i \\cdot \\varphi \\right) - \\left( 2 \\cdot \\pi \\cdot i \\cdot \\frac{ b + l }{2^{t}} \\right)\\right) = \\left( 2 \\cdot \\pi \\cdot i \\cdot \\left(\\varphi - \\frac{ b + l }{2^{t}}\\right) \\right)\\right) \\Rightarrow \\left(\\left(\\left( 2 \\cdot \\pi \\cdot i \\cdot \\varphi \\right) - \\frac{ 2 \\cdot \\pi \\cdot i \\cdot \\left( b + l \\right) }{2^{t}}\\right) = \\left( 2 \\cdot \\pi \\cdot i \\cdot \\left(\\varphi - \\frac{ b + l }{2^{t}}\\right) \\right)\\right)$  assuming $l \\in \\mathbb{Z}$ \n",
      "                                          implication $\\left(\\left(\\left( 2 \\cdot \\pi \\cdot i \\cdot \\varphi \\right) - \\frac{ 2 \\cdot \\pi \\cdot i \\cdot \\left( b + l \\right) }{2^{t}}\\right) = \\left(\\left( 2 \\cdot \\pi \\cdot i \\cdot \\varphi \\right) - \\left( 2 \\cdot \\pi \\cdot i \\cdot \\frac{ b + l }{2^{t}} \\right)\\right)\\right) \\Rightarrow \\left(\\left(\\left(\\left( 2 \\cdot \\pi \\cdot i \\cdot \\varphi \\right) - \\left( 2 \\cdot \\pi \\cdot i \\cdot \\frac{ b + l }{2^{t}} \\right)\\right) = \\left( 2 \\cdot \\pi \\cdot i \\cdot \\left(\\varphi - \\frac{ b + l }{2^{t}}\\right) \\right)\\right) \\Rightarrow \\left(\\left(\\left( 2 \\cdot \\pi \\cdot i \\cdot \\varphi \\right) - \\frac{ 2 \\cdot \\pi \\cdot i \\cdot \\left( b + l \\right) }{2^{t}}\\right) = \\left( 2 \\cdot \\pi \\cdot i \\cdot \\left(\\varphi - \\frac{ b + l }{2^{t}}\\right) \\right)\\right)\\right)$ \n",
      "                                            specializing $\\forall_{ x , y , z } \\left(\\left(x = y\\right) \\Rightarrow \\left(\\left(y = z\\right) \\Rightarrow \\left(x = z\\right)\\right)\\right)$  proven above\n",
      "                                          hypothesis $\\left(\\left( 2 \\cdot \\pi \\cdot i \\cdot \\varphi \\right) - \\frac{ 2 \\cdot \\pi \\cdot i \\cdot \\left( b + l \\right) }{2^{t}}\\right) = \\left(\\left( 2 \\cdot \\pi \\cdot i \\cdot \\varphi \\right) - \\left( 2 \\cdot \\pi \\cdot i \\cdot \\frac{ b + l }{2^{t}} \\right)\\right)$  assuming $l \\in \\mathbb{Z}$ \n",
      "                                            implication $\\left(\\frac{ 2 \\cdot \\pi \\cdot i \\cdot \\left( b + l \\right) }{2^{t}} = \\left( 2 \\cdot \\pi \\cdot i \\cdot \\frac{ b + l }{2^{t}} \\right)\\right) \\Rightarrow \\left(\\left(\\left( 2 \\cdot \\pi \\cdot i \\cdot \\varphi \\right) - \\frac{ 2 \\cdot \\pi \\cdot i \\cdot \\left( b + l \\right) }{2^{t}}\\right) = \\left(\\left( 2 \\cdot \\pi \\cdot i \\cdot \\varphi \\right) - \\left( 2 \\cdot \\pi \\cdot i \\cdot \\frac{ b + l }{2^{t}} \\right)\\right)\\right)$ \n",
      "                                              specializing $\\forall_{ f , x , y } \\left(\\left(x = y\\right) \\Rightarrow \\left(f\\left( x \\right) = f\\left( y \\right)\\right)\\right)$  proven above\n",
      "                                            hypothesis $\\frac{ 2 \\cdot \\pi \\cdot i \\cdot \\left( b + l \\right) }{2^{t}} = \\left( 2 \\cdot \\pi \\cdot i \\cdot \\frac{ b + l }{2^{t}} \\right)$  assuming $l \\in \\mathbb{Z}$ \n",
      "                                              specializing $\\forall_{~.., w_{\\Box} ,..~, x , y ,~.., z_{\\Box} ,..~ \\in \\mathbb{C}} \\left(\\frac{~..\\cdot w_{\\Box} \\cdot..~\\cdot x \\cdot~..\\cdot z_{\\Box} \\cdot..~}{y} = \\left(~..\\cdot w_{\\Box} \\cdot..~\\cdot \\frac{x}{y} \\cdot~..\\cdot z_{\\Box} \\cdot..~\\right)\\right)$  proven above\n",
      "                                              condition $\\left(2^{t}\\right) \\in \\mathbb{C}$  proven above\n",
      "                                              condition $\\pi \\in \\mathbb{C}$  proven above\n",
      "                                              condition $i \\in \\mathbb{C}$  proven above\n",
      "                                              condition $\\left( b + l \\right) \\in \\mathbb{C}$  assuming $l \\in \\mathbb{Z}$  proven above\n",
      "                                              condition $2 \\in \\mathbb{C}$  proven above\n",
      "                                        hypothesis $\\left(\\left( 2 \\cdot \\pi \\cdot i \\cdot \\varphi \\right) - \\left( 2 \\cdot \\pi \\cdot i \\cdot \\frac{ b + l }{2^{t}} \\right)\\right) = \\left( 2 \\cdot \\pi \\cdot i \\cdot \\left(\\varphi - \\frac{ b + l }{2^{t}}\\right) \\right)$  assuming $l \\in \\mathbb{Z}$ \n",
      "                                          specializing $\\forall_{~.., w_{\\Box} ,..~, x , y ,~.., z_{\\Box} ,..~ \\in \\mathbb{C}} \\left(\\left(\\left(~..\\cdot w_{\\Box} \\cdot..~\\cdot x \\cdot~..\\cdot z_{\\Box} \\cdot..~\\right) - \\left(~..\\cdot w_{\\Box} \\cdot..~\\cdot y \\cdot~..\\cdot z_{\\Box} \\cdot..~\\right)\\right) = \\left(~..\\cdot w_{\\Box} \\cdot..~\\cdot \\left(x - y\\right) \\cdot~..\\cdot z_{\\Box} \\cdot..~\\right)\\right)$ \n",
      "                                            by theorem proveit.number.complex.distributeThroughSubtractRev\n",
      "                                          condition $\\pi \\in \\mathbb{C}$  proven above\n",
      "                                          condition $i \\in \\mathbb{C}$  proven above\n",
      "                                          condition $\\varphi \\in \\mathbb{C}$  proven above\n",
      "                                          condition $\\frac{ b + l }{2^{t}} \\in \\mathbb{C}$  assuming $l \\in \\mathbb{Z}$ \n",
      "                                            specializing $\\forall_{ a  \\in \\mathbb{R}} \\left(a \\in \\mathbb{C}\\right)$  proven above\n",
      "                                            condition $\\frac{ b + l }{2^{t}} \\in \\mathbb{R}$  assuming $l \\in \\mathbb{Z}$ \n",
      "                                              specializing $\\forall_{ a , b  \\in \\mathbb{R}~|~ \\left(b \\neq 0\\right) } \\left(\\frac{a}{b} \\in \\mathbb{R}\\right)$  proven above\n",
      "                                              condition $\\left(2^{t}\\right) \\neq 0$  proven above\n",
      "                                              condition $\\left( b + l \\right) \\in \\mathbb{R}$  assuming $l \\in \\mathbb{Z}$  proven above\n",
      "                                              condition $\\left(2^{t}\\right) \\in \\mathbb{R}$  proven above\n",
      "                                          condition $2 \\in \\mathbb{C}$  proven above\n",
      "                            hypothesis $\\alpha_{l} = \\left( \\frac{1}{2^{t}} \\cdot \\left(\\sum_{k=0}^{\\left(2^{t}\\right) - 1} \\left( \\left(e^{\\frac{-\\left( 2 \\cdot \\pi \\cdot i \\cdot k \\cdot \\left(b \\oplus l\\right) \\right)}{2^{t}}}\\right) \\cdot \\left(e^{ 2 \\cdot \\pi \\cdot i \\cdot \\varphi \\cdot k }\\right) \\right)\\right) \\right)$  assuming $l \\in \\mathbb{Z}$ \n",
      "                              specializing $\\forall_{ l  \\in \\mathbb{Z}} \\left(\\alpha_{l} = \\left( \\frac{1}{2^{t}} \\cdot \\left(\\sum_{k=0}^{\\left(2^{t}\\right) - 1} \\left( \\left(e^{\\frac{-\\left( 2 \\cdot \\pi \\cdot i \\cdot k \\cdot \\left(b \\oplus l\\right) \\right)}{2^{t}}}\\right) \\cdot \\left(e^{ 2 \\cdot \\pi \\cdot i \\cdot \\varphi \\cdot k }\\right) \\right)\\right) \\right)\\right)$ \n",
      "                                by theorem proveit.physics.quantum.QPE.alpha_l_eval\n",
      "                              condition $l \\in \\mathbb{Z}$  assuming $l \\in \\mathbb{Z}$  proven above\n",
      "proveit.basiclogic.equality.equalsSymmetry\n",
      "proveit.basiclogic.equality.equalsTransitivity\n",
      "proveit.basiclogic.equality.substitution\n",
      "proveit.basiclogic.instanceSubstitution\n",
      "proveit.number.multAssoc\n",
      "proveit.number.reverseGreaterThan\n",
      "proveit.physics.quantum.QPE.modAddDef\n",
      "proveit.physics.quantum.QPE.tInNaturalsPos\n",
      "proveit.basiclogic.boolean.iffImpliesRight\n",
      "proveit.basiclogic.equality.rhsSubstitution\n",
      "proveit.number.complex.cancelSubThenAdd\n",
      "proveit.number.complex.diffFracInPowRev\n",
      "proveit.number.complex.distributeFractionThroughSum\n",
      "proveit.number.complex.distributeThroughSubtract\n",
      "proveit.number.complex.distributeThroughSubtractRev\n",
      "proveit.number.complex.finGeomSum\n",
      "proveit.number.complex.fracCancel5\n",
      "proveit.number.complex.fracInProdRev\n",
      "proveit.number.complex.fractionClosure\n",
      "proveit.number.complex.intPowOfPow\n",
      "proveit.number.complex.intPowOfProdRev\n",
      "proveit.number.complex.multClosure\n",
      "proveit.number.complex.multComm\n",
      "proveit.number.complex.negClosure\n",
      "proveit.number.complex.negTimesPosRev\n",
      "proveit.number.complex.powClosure\n",
      "proveit.number.complex.powNotEqZero\n",
      "proveit.number.complex.powZeroEqOne\n",
      "proveit.number.complex.reverseFractionOfSubtractions\n",
      "proveit.number.complex.subtractCancelElimSums\n",
      "proveit.number.integer.addClosure\n",
      "proveit.number.integer.allInDiscreteInterval_InInts\n",
      "proveit.number.integer.inComplexes\n",
      "proveit.number.integer.inReals\n",
      "proveit.number.multAssocRev\n",
      "proveit.number.natural.inIntegers\n",
      "proveit.number.natural.inNatPos_inComplexes\n",
      "proveit.number.natural.inNatPos_inIntegers\n",
      "proveit.number.natural.inNatPos_inNaturals\n",
      "proveit.number.natural.inNatPos_inReals\n",
      "proveit.number.natural.inNatPos_inRealsPos\n",
      "proveit.number.natural.oneInNaturalsPos\n",
      "proveit.number.natural.powClosure\n",
      "proveit.number.natural.twoInNaturals\n",
      "proveit.number.natural.twoInNaturalsPos\n",
      "proveit.number.real.eInRealsPos\n",
      "proveit.number.real.fractionClosure\n",
      "proveit.number.real.inComplexes\n",
      "proveit.number.real.inRealsPos_iff_positive\n",
      "proveit.number.real.inRealsPos_inComplexes\n",
      "proveit.number.real.inRealsPos_inReals\n",
      "proveit.number.real.multClosure\n",
      "proveit.number.real.positive_implies_notzero\n",
      "proveit.number.real.subtractClosure\n",
      "proveit.physics.quantum.QPE.alpha_l_eval\n",
      "proveit.physics.quantum.QPE.bestInInts\n",
      "proveit.physics.quantum.QPE.deltaInReals\n",
      "proveit.physics.quantum.QPE.modAddClosure\n",
      "proveit.physics.quantum.QPE.phaseFromBest\n",
      "proveit.physics.quantum.QPE.phaseInReals\n",
      "proveit.physics.quantum.QPE.two_pow_t_less_one_in_posnats\n",
      "proveit.trigonometry.exp_neg2pi_i_x\n",
      "Number of used axioms: 8\n",
      "Number of used theorms: 54\n",
      "Number of derivation tree nodes: 291\n"
     ]
    },
    {
     "data": {
      "text/plain": [
       "$\\forall_{ l  \\in \\mathbb{Z}} \\left(\\alpha_{l} = \\left( \\frac{1}{2^{t}} \\cdot \\frac{1 - \\left(e^{ 2 \\cdot \\pi \\cdot i \\cdot \\left(\\left( \\left(2^{t}\\right) \\cdot \\delta \\right) - l\\right) }\\right)}{1 - \\left(e^{ 2 \\cdot \\pi \\cdot i \\cdot \\left(\\delta - \\frac{l}{2^{t}}\\right) }\\right)} \\right)\\right)$"
      ]
     },
     "execution_count": 41,
     "metadata": {},
     "output_type": "execute_result"
    }
   ],
   "source": [
    "alpha_l_eq14.generalize(l, domain=Integers).qed()"
   ]
  },
  {
   "cell_type": "code",
   "execution_count": null,
   "metadata": {
    "collapsed": true
   },
   "outputs": [],
   "source": []
  }
 ],
 "metadata": {
  "kernelspec": {
   "display_name": "Python 3",
   "language": "python",
   "name": "python3"
  },
  "language_info": {
   "codemirror_mode": {
    "name": "ipython",
    "version": 3
   },
   "file_extension": ".py",
   "mimetype": "text/x-python",
   "name": "python",
   "nbconvert_exporter": "python",
   "pygments_lexer": "ipython3"
  }
 },
 "nbformat": 4,
 "nbformat_minor": 0
}
