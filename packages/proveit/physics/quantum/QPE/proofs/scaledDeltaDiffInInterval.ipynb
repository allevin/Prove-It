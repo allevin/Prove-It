{
 "cells": [
  {
   "cell_type": "code",
   "execution_count": 1,
   "metadata": {
    "collapsed": true
   },
   "outputs": [],
   "source": [
    "from proveit.basiclogic import In, autoSubstitute\n",
    "from proveit.physics.quantum.QPE.theorems import scaledDeltaDiffInInterval, deltaDiffInInterval\n",
    "from proveit.physics.quantum.QPE.common import fullDomain\n",
    "from proveit.common import l, x, y\n",
    "from proveit.number import Multiply, Fraction\n",
    "from proveit.number.common import one, two, pi\n",
    "from proveit.number.numberSets import deduceInComplexes\n",
    "from proveit.number.complex.theorems import posTimesNeg\n",
    "from IPython.display import display"
   ]
  },
  {
   "cell_type": "code",
   "execution_count": 2,
   "metadata": {
    "collapsed": false
   },
   "outputs": [
    {
     "data": {
      "text/latex": [
       "$\\forall_{ l  \\in \\{\\left( \\left(-2^{t - 1}\\right) + 1 \\right)\\ldots 2^{t - 1}\\}} \\left(\\left( 2 \\cdot \\pi \\cdot \\left(\\delta - \\frac{l}{2^{t}}\\right) \\right) \\in \\left[\\left(-\\pi\\right),\\pi\\right]\\right)$"
      ],
      "text/plain": [
       "$\\forall_{ l  \\in \\{\\left( \\left(-2^{t - 1}\\right) + 1 \\right)\\ldots 2^{t - 1}\\}} \\left(\\left( 2 \\cdot \\pi \\cdot \\left(\\delta - \\frac{l}{2^{t}}\\right) \\right) \\in \\left[\\left(-\\pi\\right),\\pi\\right]\\right)$"
      ]
     },
     "execution_count": 2,
     "metadata": {},
     "output_type": "execute_result"
    }
   ],
   "source": [
    "scaledDeltaDiffInInterval.beginProof()"
   ]
  },
  {
   "cell_type": "code",
   "execution_count": 3,
   "metadata": {
    "collapsed": false
   },
   "outputs": [
    {
     "data": {
      "text/latex": [
       "$l \\in \\{\\left( \\left(-2^{t - 1}\\right) + 1 \\right)\\ldots 2^{t - 1}\\}$"
      ],
      "text/plain": [
       "$l \\in \\{\\left( \\left(-2^{t - 1}\\right) + 1 \\right)\\ldots 2^{t - 1}\\}$"
      ]
     },
     "metadata": {},
     "output_type": "display_data"
    }
   ],
   "source": [
    "lInDomain = In(l, fullDomain)\n",
    "display(lInDomain)"
   ]
  },
  {
   "cell_type": "code",
   "execution_count": 4,
   "metadata": {
    "collapsed": false
   },
   "outputs": [
    {
     "data": {
      "text/latex": [
       "$\\forall_{ l  \\in \\{\\left( \\left(-2^{t - 1}\\right) + 1 \\right)\\ldots 2^{t - 1}\\}} \\left(\\left(\\delta - \\frac{l}{2^{t}}\\right) \\in \\left[\\left(-\\frac{1}{2}\\right),\\frac{1}{2}\\right)\\right)$"
      ],
      "text/plain": [
       "$\\forall_{ l  \\in \\{\\left( \\left(-2^{t - 1}\\right) + 1 \\right)\\ldots 2^{t - 1}\\}} \\left(\\left(\\delta - \\frac{l}{2^{t}}\\right) \\in \\left[\\left(-\\frac{1}{2}\\right),\\frac{1}{2}\\right)\\right)$"
      ]
     },
     "execution_count": 4,
     "metadata": {},
     "output_type": "execute_result"
    }
   ],
   "source": [
    "deltaDiffInInterval"
   ]
  },
  {
   "cell_type": "code",
   "execution_count": 5,
   "metadata": {
    "collapsed": false
   },
   "outputs": [
    {
     "data": {
      "text/latex": [
       "$\\left(\\delta - \\frac{l}{2^{t}}\\right) \\in \\left[\\left(-\\frac{1}{2}\\right),\\frac{1}{2}\\right)$"
      ],
      "text/plain": [
       "$\\left(\\delta - \\frac{l}{2^{t}}\\right) \\in \\left[\\left(-\\frac{1}{2}\\right),\\frac{1}{2}\\right)$"
      ]
     },
     "metadata": {},
     "output_type": "display_data"
    },
    {
     "data": {
      "text/latex": [
       "$\\left(\\delta - \\frac{l}{2^{t}}\\right) \\in \\mathbb{R}$"
      ],
      "text/plain": [
       "$\\left(\\delta - \\frac{l}{2^{t}}\\right) \\in \\mathbb{R}$"
      ]
     },
     "metadata": {},
     "output_type": "display_data"
    }
   ],
   "source": [
    "deltaDiffInIntervalSpec = deltaDiffInInterval.specialize()\n",
    "display(deltaDiffInIntervalSpec.proven({lInDomain}))\n",
    "display(deltaDiffInIntervalSpec.domain.deduceMemberInReals(deltaDiffInIntervalSpec.element).proven({lInDomain}))"
   ]
  },
  {
   "cell_type": "code",
   "execution_count": 6,
   "metadata": {
    "collapsed": false
   },
   "outputs": [
    {
     "data": {
      "text/latex": [
       "$\\left(\\delta - \\frac{l}{2^{t}}\\right) \\in \\left[\\left(-\\frac{1}{2}\\right),\\frac{1}{2}\\right]$"
      ],
      "text/plain": [
       "$\\left(\\delta - \\frac{l}{2^{t}}\\right) \\in \\left[\\left(-\\frac{1}{2}\\right),\\frac{1}{2}\\right]$"
      ]
     },
     "execution_count": 6,
     "metadata": {},
     "output_type": "execute_result"
    }
   ],
   "source": [
    "scaledDeltaDiffInDomain0 = deltaDiffInIntervalSpec.domain.deduceRelaxedMembership(deltaDiffInIntervalSpec.element)\n",
    "scaledDeltaDiffInDomain0.proven({lInDomain})"
   ]
  },
  {
   "cell_type": "code",
   "execution_count": 7,
   "metadata": {
    "collapsed": false
   },
   "outputs": [
    {
     "data": {
      "text/latex": [
       "$\\left( \\left( 2 \\cdot \\pi \\right) \\cdot \\left(\\delta - \\frac{l}{2^{t}}\\right) \\right) \\in \\left[\\left( \\left( 2 \\cdot \\pi \\right) \\cdot \\left(-\\frac{1}{2}\\right) \\right),\\left( \\left( 2 \\cdot \\pi \\right) \\cdot \\frac{1}{2} \\right)\\right]$"
      ],
      "text/plain": [
       "$\\left( \\left( 2 \\cdot \\pi \\right) \\cdot \\left(\\delta - \\frac{l}{2^{t}}\\right) \\right) \\in \\left[\\left( \\left( 2 \\cdot \\pi \\right) \\cdot \\left(-\\frac{1}{2}\\right) \\right),\\left( \\left( 2 \\cdot \\pi \\right) \\cdot \\frac{1}{2} \\right)\\right]$"
      ]
     },
     "execution_count": 7,
     "metadata": {},
     "output_type": "execute_result"
    }
   ],
   "source": [
    "two_pi = Multiply(two, pi)\n",
    "scaledDeltaDiffInDomain1 = scaledDeltaDiffInDomain0.domain.deduceRescaledMembership(scaledDeltaDiffInDomain0.element, two_pi)\n",
    "scaledDeltaDiffInDomain1.proven({lInDomain})"
   ]
  },
  {
   "cell_type": "code",
   "execution_count": 8,
   "metadata": {
    "collapsed": false
   },
   "outputs": [
    {
     "data": {
      "text/latex": [
       "$\\left( 2 \\cdot \\pi \\cdot \\left(\\delta - \\frac{l}{2^{t}}\\right) \\right) \\in \\left[\\left( \\left( 2 \\cdot \\pi \\right) \\cdot \\left(-\\frac{1}{2}\\right) \\right),\\left( \\left( 2 \\cdot \\pi \\right) \\cdot \\frac{1}{2} \\right)\\right]$"
      ],
      "text/plain": [
       "$\\left( 2 \\cdot \\pi \\cdot \\left(\\delta - \\frac{l}{2^{t}}\\right) \\right) \\in \\left[\\left( \\left( 2 \\cdot \\pi \\right) \\cdot \\left(-\\frac{1}{2}\\right) \\right),\\left( \\left( 2 \\cdot \\pi \\right) \\cdot \\frac{1}{2} \\right)\\right]$"
      ]
     },
     "execution_count": 8,
     "metadata": {},
     "output_type": "execute_result"
    }
   ],
   "source": [
    "scaledDeltaDiffInDomain2 = autoSubstitute(scaledDeltaDiffInDomain1, 'ungroup', [0], {'assumptions':{lInDomain}}, superExpr=scaledDeltaDiffInDomain1.element)\n",
    "scaledDeltaDiffInDomain2.proven({lInDomain})"
   ]
  },
  {
   "cell_type": "code",
   "execution_count": 9,
   "metadata": {
    "collapsed": false
   },
   "outputs": [
    {
     "data": {
      "text/latex": [
       "$\\forall_{ x , y  \\in \\mathbb{C}} \\left(\\left( x \\cdot \\left(-y\\right) \\right) = \\left(-\\left( x \\cdot y \\right)\\right)\\right)$"
      ],
      "text/plain": [
       "$\\forall_{ x , y  \\in \\mathbb{C}} \\left(\\left( x \\cdot \\left(-y\\right) \\right) = \\left(-\\left( x \\cdot y \\right)\\right)\\right)$"
      ]
     },
     "execution_count": 9,
     "metadata": {},
     "output_type": "execute_result"
    }
   ],
   "source": [
    "posTimesNeg"
   ]
  },
  {
   "cell_type": "code",
   "execution_count": 10,
   "metadata": {
    "collapsed": false
   },
   "outputs": [
    {
     "data": {
      "text/latex": [
       "$\\left( \\left( 2 \\cdot \\pi \\right) \\cdot \\left(-\\frac{1}{2}\\right) \\right) = \\left(-\\left( \\left( 2 \\cdot \\pi \\right) \\cdot \\frac{1}{2} \\right)\\right)$"
      ],
      "text/plain": [
       "$\\left( \\left( 2 \\cdot \\pi \\right) \\cdot \\left(-\\frac{1}{2}\\right) \\right) = \\left(-\\left( \\left( 2 \\cdot \\pi \\right) \\cdot \\frac{1}{2} \\right)\\right)$"
      ]
     },
     "execution_count": 10,
     "metadata": {},
     "output_type": "execute_result"
    }
   ],
   "source": [
    "deduceInComplexes(two_pi)\n",
    "deduceInComplexes(Fraction(one, two))\n",
    "lowerBoundEqn = posTimesNeg.specialize({x:two_pi, y:Fraction(one, two)})\n",
    "lowerBoundEqn.proven()"
   ]
  },
  {
   "cell_type": "code",
   "execution_count": 11,
   "metadata": {
    "collapsed": false
   },
   "outputs": [
    {
     "data": {
      "text/latex": [
       "$\\left( 2 \\cdot \\pi \\cdot \\left(\\delta - \\frac{l}{2^{t}}\\right) \\right) \\in \\left[\\left(-\\left( \\left( 2 \\cdot \\pi \\right) \\cdot \\frac{1}{2} \\right)\\right),\\left( \\left( 2 \\cdot \\pi \\right) \\cdot \\frac{1}{2} \\right)\\right]$"
      ],
      "text/plain": [
       "$\\left( 2 \\cdot \\pi \\cdot \\left(\\delta - \\frac{l}{2^{t}}\\right) \\right) \\in \\left[\\left(-\\left( \\left( 2 \\cdot \\pi \\right) \\cdot \\frac{1}{2} \\right)\\right),\\left( \\left( 2 \\cdot \\pi \\right) \\cdot \\frac{1}{2} \\right)\\right]$"
      ]
     },
     "execution_count": 11,
     "metadata": {},
     "output_type": "execute_result"
    }
   ],
   "source": [
    "scaledDeltaDiffInDomain3 = lowerBoundEqn.subRightSideInto(scaledDeltaDiffInDomain2)\n",
    "scaledDeltaDiffInDomain3.proven({lInDomain})"
   ]
  },
  {
   "cell_type": "code",
   "execution_count": 12,
   "metadata": {
    "collapsed": false
   },
   "outputs": [
    {
     "data": {
      "text/latex": [
       "$\\left( 2 \\cdot \\pi \\cdot \\left(\\delta - \\frac{l}{2^{t}}\\right) \\right) \\in \\left[\\left(-\\frac{ 2 \\cdot \\pi }{2}\\right),\\frac{ 2 \\cdot \\pi }{2}\\right]$"
      ],
      "text/plain": [
       "$\\left( 2 \\cdot \\pi \\cdot \\left(\\delta - \\frac{l}{2^{t}}\\right) \\right) \\in \\left[\\left(-\\frac{ 2 \\cdot \\pi }{2}\\right),\\frac{ 2 \\cdot \\pi }{2}\\right]$"
      ]
     },
     "execution_count": 12,
     "metadata": {},
     "output_type": "execute_result"
    }
   ],
   "source": [
    "scaledDeltaDiffInDomain4 = autoSubstitute(scaledDeltaDiffInDomain3, 'distribute', [1], {'assumptions':{lInDomain}}, superExpr=scaledDeltaDiffInDomain3.domain.upperBound)\n",
    "scaledDeltaDiffInDomain4.proven({lInDomain})"
   ]
  },
  {
   "cell_type": "code",
   "execution_count": 13,
   "metadata": {
    "collapsed": false
   },
   "outputs": [
    {
     "data": {
      "text/latex": [
       "$\\left( 2 \\cdot \\pi \\cdot \\left(\\delta - \\frac{l}{2^{t}}\\right) \\right) \\in \\left[\\left(-\\pi\\right),\\pi\\right]$"
      ],
      "text/plain": [
       "$\\left( 2 \\cdot \\pi \\cdot \\left(\\delta - \\frac{l}{2^{t}}\\right) \\right) \\in \\left[\\left(-\\pi\\right),\\pi\\right]$"
      ]
     },
     "execution_count": 13,
     "metadata": {},
     "output_type": "execute_result"
    }
   ],
   "source": [
    "scaledDeltaDiffInDomain = autoSubstitute(scaledDeltaDiffInDomain4, 'cancel', [two], {'assumptions':{lInDomain}}, superExpr=scaledDeltaDiffInDomain4.domain.upperBound)\n",
    "scaledDeltaDiffInDomain.proven({lInDomain})"
   ]
  },
  {
   "cell_type": "code",
   "execution_count": 14,
   "metadata": {
    "collapsed": false
   },
   "outputs": [
    {
     "name": "stdout",
     "output_type": "stream",
     "text": [
      "root $\\forall_{ l  \\in \\{\\left( \\left(-2^{t - 1}\\right) + 1 \\right)\\ldots 2^{t - 1}\\}} \\left(\\left( 2 \\cdot \\pi \\cdot \\left(\\delta - \\frac{l}{2^{t}}\\right) \\right) \\in \\left[\\left(-\\pi\\right),\\pi\\right]\\right)$ \n",
      "  generalizing $\\left( 2 \\cdot \\pi \\cdot \\left(\\delta - \\frac{l}{2^{t}}\\right) \\right) \\in \\left[\\left(-\\pi\\right),\\pi\\right]$  assuming $l \\in \\{\\left( \\left(-2^{t - 1}\\right) + 1 \\right)\\ldots 2^{t - 1}\\}$ \n",
      "    implication $\\left(\\left( 2 \\cdot \\pi \\cdot \\left(\\delta - \\frac{l}{2^{t}}\\right) \\right) \\in \\left[\\left(-\\frac{ 2 \\cdot \\pi }{2}\\right),\\frac{ 2 \\cdot \\pi }{2}\\right]\\right) \\Rightarrow \\left(\\left( 2 \\cdot \\pi \\cdot \\left(\\delta - \\frac{l}{2^{t}}\\right) \\right) \\in \\left[\\left(-\\pi\\right),\\pi\\right]\\right)$ \n",
      "      implication $\\left(\\frac{ 2 \\cdot \\pi }{2} = \\pi\\right) \\Rightarrow \\left(\\left(\\left( 2 \\cdot \\pi \\cdot \\left(\\delta - \\frac{l}{2^{t}}\\right) \\right) \\in \\left[\\left(-\\frac{ 2 \\cdot \\pi }{2}\\right),\\frac{ 2 \\cdot \\pi }{2}\\right]\\right) \\Rightarrow \\left(\\left( 2 \\cdot \\pi \\cdot \\left(\\delta - \\frac{l}{2^{t}}\\right) \\right) \\in \\left[\\left(-\\pi\\right),\\pi\\right]\\right)\\right)$ \n",
      "        specializing $\\forall_{ P , x , y } \\left(\\left(x = y\\right) \\Rightarrow \\left(P\\left( x \\right) \\Rightarrow P\\left( y \\right)\\right)\\right)$ \n",
      "          by theorem proveit.basiclogic.equality.rhsSubstitution\n",
      "      hypothesis $\\frac{ 2 \\cdot \\pi }{2} = \\pi$ \n",
      "        specializing $\\forall_{ x , y  \\in \\mathbb{C}~|~ \\left(x \\neq 0\\right) } \\left(\\frac{ x \\cdot y }{x} = y\\right)$ \n",
      "          by theorem proveit.number.complex.fracCancel2\n",
      "        condition $\\pi \\in \\mathbb{C}$ \n",
      "          specializing $\\forall_{ a  \\in \\mathbb{R}^+} \\left(a \\in \\mathbb{C}\\right)$ \n",
      "            by theorem proveit.number.real.inRealsPos_inComplexes\n",
      "          condition $\\pi \\in \\mathbb{R}^+$ \n",
      "        condition $2 \\neq 0$ \n",
      "          specializing $\\forall_{ a  \\in \\mathbb{R}~|~ \\left(a > 0\\right) } \\left(a \\neq 0\\right)$ \n",
      "            by theorem proveit.number.real.positive_implies_notzero\n",
      "          condition $2 \\in \\mathbb{R}$ \n",
      "            specializing $\\forall_{ a  \\in \\mathbb{N}^+} \\left(a \\in \\mathbb{R}\\right)$ \n",
      "              by theorem proveit.number.natural.inNatPos_inReals\n",
      "            condition $2 \\in \\mathbb{N}^+$ \n",
      "          condition $2 > 0$ \n",
      "            implication $\\left(2 \\in \\mathbb{R}^+\\right) \\Rightarrow \\left(2 > 0\\right)$ \n",
      "              implication $\\left(\\left(2 \\in \\mathbb{R}^+\\right) \\Leftrightarrow \\left(2 > 0\\right)\\right) \\Rightarrow \\left(\\left(2 \\in \\mathbb{R}^+\\right) \\Rightarrow \\left(2 > 0\\right)\\right)$ \n",
      "                specializing $\\forall_{ A , B } \\left(\\left(A \\Leftrightarrow B\\right) \\Rightarrow \\left(A \\Rightarrow B\\right)\\right)$ \n",
      "                  by theorem proveit.basiclogic.boolean.iffImpliesRight\n",
      "              hypothesis $\\left(2 \\in \\mathbb{R}^+\\right) \\Leftrightarrow \\left(2 > 0\\right)$ \n",
      "                specializing $\\forall_{ a  \\in \\mathbb{R}} \\left(\\left(a \\in \\mathbb{R}^+\\right) \\Leftrightarrow \\left(a > 0\\right)\\right)$ \n",
      "                  by theorem proveit.number.real.inRealsPos_iff_positive\n",
      "                condition $2 \\in \\mathbb{R}$  proven above\n",
      "            hypothesis $2 \\in \\mathbb{R}^+$ \n",
      "              specializing $\\forall_{ a  \\in \\mathbb{N}^+} \\left(a \\in \\mathbb{R}^+\\right)$ \n",
      "                by theorem proveit.number.natural.inNatPos_inRealsPos\n",
      "              condition $2 \\in \\mathbb{N}^+$  proven above\n",
      "        condition $2 \\in \\mathbb{C}$ \n",
      "          specializing $\\forall_{ a  \\in \\mathbb{N}^+} \\left(a \\in \\mathbb{C}\\right)$ \n",
      "            by theorem proveit.number.natural.inNatPos_inComplexes\n",
      "          condition $2 \\in \\mathbb{N}^+$  proven above\n",
      "    hypothesis $\\left( 2 \\cdot \\pi \\cdot \\left(\\delta - \\frac{l}{2^{t}}\\right) \\right) \\in \\left[\\left(-\\frac{ 2 \\cdot \\pi }{2}\\right),\\frac{ 2 \\cdot \\pi }{2}\\right]$  assuming $l \\in \\{\\left( \\left(-2^{t - 1}\\right) + 1 \\right)\\ldots 2^{t - 1}\\}$ \n",
      "      implication $\\left(\\left( 2 \\cdot \\pi \\cdot \\left(\\delta - \\frac{l}{2^{t}}\\right) \\right) \\in \\left[\\left(-\\left( \\left( 2 \\cdot \\pi \\right) \\cdot \\frac{1}{2} \\right)\\right),\\left( \\left( 2 \\cdot \\pi \\right) \\cdot \\frac{1}{2} \\right)\\right]\\right) \\Rightarrow \\left(\\left( 2 \\cdot \\pi \\cdot \\left(\\delta - \\frac{l}{2^{t}}\\right) \\right) \\in \\left[\\left(-\\frac{ 2 \\cdot \\pi }{2}\\right),\\frac{ 2 \\cdot \\pi }{2}\\right]\\right)$ \n",
      "        implication $\\left(\\left( \\left( 2 \\cdot \\pi \\right) \\cdot \\frac{1}{2} \\right) = \\frac{ 2 \\cdot \\pi }{2}\\right) \\Rightarrow \\left(\\left(\\left( 2 \\cdot \\pi \\cdot \\left(\\delta - \\frac{l}{2^{t}}\\right) \\right) \\in \\left[\\left(-\\left( \\left( 2 \\cdot \\pi \\right) \\cdot \\frac{1}{2} \\right)\\right),\\left( \\left( 2 \\cdot \\pi \\right) \\cdot \\frac{1}{2} \\right)\\right]\\right) \\Rightarrow \\left(\\left( 2 \\cdot \\pi \\cdot \\left(\\delta - \\frac{l}{2^{t}}\\right) \\right) \\in \\left[\\left(-\\frac{ 2 \\cdot \\pi }{2}\\right),\\frac{ 2 \\cdot \\pi }{2}\\right]\\right)\\right)$ \n",
      "          specializing $\\forall_{ P , x , y } \\left(\\left(x = y\\right) \\Rightarrow \\left(P\\left( x \\right) \\Rightarrow P\\left( y \\right)\\right)\\right)$  proven above\n",
      "        hypothesis $\\left( \\left( 2 \\cdot \\pi \\right) \\cdot \\frac{1}{2} \\right) = \\frac{ 2 \\cdot \\pi }{2}$ \n",
      "          implication $\\left(\\left( \\left( 2 \\cdot \\pi \\right) \\cdot \\frac{1}{2} \\right) = \\frac{ \\left( 2 \\cdot \\pi \\right) \\cdot 1 }{2}\\right) \\Rightarrow \\left(\\left( \\left( 2 \\cdot \\pi \\right) \\cdot \\frac{1}{2} \\right) = \\frac{ 2 \\cdot \\pi }{2}\\right)$ \n",
      "            implication $\\left(\\left( \\left( 2 \\cdot \\pi \\right) \\cdot 1 \\right) = \\left( 2 \\cdot \\pi \\right)\\right) \\Rightarrow \\left(\\left(\\left( \\left( 2 \\cdot \\pi \\right) \\cdot \\frac{1}{2} \\right) = \\frac{ \\left( 2 \\cdot \\pi \\right) \\cdot 1 }{2}\\right) \\Rightarrow \\left(\\left( \\left( 2 \\cdot \\pi \\right) \\cdot \\frac{1}{2} \\right) = \\frac{ 2 \\cdot \\pi }{2}\\right)\\right)$ \n",
      "              specializing $\\forall_{ P , x , y } \\left(\\left(x = y\\right) \\Rightarrow \\left(P\\left( x \\right) \\Rightarrow P\\left( y \\right)\\right)\\right)$  proven above\n",
      "            hypothesis $\\left( \\left( 2 \\cdot \\pi \\right) \\cdot 1 \\right) = \\left( 2 \\cdot \\pi \\right)$ \n",
      "              implication $\\left(\\left( 1 \\cdot \\left( 2 \\cdot \\pi \\right) \\right) = \\left( 2 \\cdot \\pi \\right)\\right) \\Rightarrow \\left(\\left( \\left( 2 \\cdot \\pi \\right) \\cdot 1 \\right) = \\left( 2 \\cdot \\pi \\right)\\right)$ \n",
      "                implication $\\left(\\left( \\left( 2 \\cdot \\pi \\right) \\cdot 1 \\right) = \\left( 1 \\cdot \\left( 2 \\cdot \\pi \\right) \\right)\\right) \\Rightarrow \\left(\\left(\\left( 1 \\cdot \\left( 2 \\cdot \\pi \\right) \\right) = \\left( 2 \\cdot \\pi \\right)\\right) \\Rightarrow \\left(\\left( \\left( 2 \\cdot \\pi \\right) \\cdot 1 \\right) = \\left( 2 \\cdot \\pi \\right)\\right)\\right)$ \n",
      "                  specializing $\\forall_{ x , y , z } \\left(\\left(x = y\\right) \\Rightarrow \\left(\\left(y = z\\right) \\Rightarrow \\left(x = z\\right)\\right)\\right)$ \n",
      "                    by axiom proveit.basiclogic.equality.equalsTransitivity\n",
      "                hypothesis $\\left( \\left( 2 \\cdot \\pi \\right) \\cdot 1 \\right) = \\left( 1 \\cdot \\left( 2 \\cdot \\pi \\right) \\right)$ \n",
      "                  specializing $\\forall_{~.., v_{\\Box} ,..., w_{\\Box} ,..., x_{\\Box} ,..., y_{\\Box} ,..., z_{\\Box} ,..~ \\in \\mathbb{C}} \\left(\\left(~..\\cdot v_{\\Box} \\cdot...\\cdot w_{\\Box} \\cdot...\\cdot x_{\\Box} \\cdot...\\cdot y_{\\Box} \\cdot...\\cdot z_{\\Box} \\cdot..~\\right) = \\left(~..\\cdot v_{\\Box} \\cdot...\\cdot y_{\\Box} \\cdot...\\cdot x_{\\Box} \\cdot...\\cdot w_{\\Box} \\cdot...\\cdot z_{\\Box} \\cdot..~\\right)\\right)$ \n",
      "                    by theorem proveit.number.complex.multComm\n",
      "                  condition $\\left( 2 \\cdot \\pi \\right) \\in \\mathbb{C}$ \n",
      "                    specializing $\\forall_{ a  \\in \\mathbb{R}^+} \\left(a \\in \\mathbb{C}\\right)$  proven above\n",
      "                    condition $\\left( 2 \\cdot \\pi \\right) \\in \\mathbb{R}^+$ \n",
      "                      specializing $\\forall_{~.., x_{\\Box} ,..~ \\in \\mathbb{R}^+} \\left(\\left(~..\\cdot x_{\\Box} \\cdot..~\\right) \\in \\mathbb{R}^+\\right)$ \n",
      "                        by theorem proveit.number.real.multPosClosure\n",
      "                      condition $\\pi \\in \\mathbb{R}^+$  proven above\n",
      "                      condition $2 \\in \\mathbb{R}^+$  proven above\n",
      "                  condition $1 \\in \\mathbb{C}$ \n",
      "                    specializing $\\forall_{ a  \\in \\mathbb{N}^+} \\left(a \\in \\mathbb{C}\\right)$  proven above\n",
      "                    condition $1 \\in \\mathbb{N}^+$ \n",
      "                      by theorem proveit.number.natural.oneInNaturalsPos\n",
      "              hypothesis $\\left( 1 \\cdot \\left( 2 \\cdot \\pi \\right) \\right) = \\left( 2 \\cdot \\pi \\right)$ \n",
      "                specializing $\\forall_{ x  \\in \\mathbb{C}} \\left(\\left( 1 \\cdot x \\right) = x\\right)$ \n",
      "                  by theorem proveit.number.complex.prodOne\n",
      "                condition $\\left( 2 \\cdot \\pi \\right) \\in \\mathbb{C}$  proven above\n",
      "          hypothesis $\\left( \\left( 2 \\cdot \\pi \\right) \\cdot \\frac{1}{2} \\right) = \\frac{ \\left( 2 \\cdot \\pi \\right) \\cdot 1 }{2}$ \n",
      "            specializing $\\forall_{~.., w_{\\Box} ,..~, x , y ,~.., z_{\\Box} ,..~ \\in \\mathbb{C}} \\left(\\left(~..\\cdot w_{\\Box} \\cdot..~\\cdot \\frac{x}{y} \\cdot~..\\cdot z_{\\Box} \\cdot..~\\right) = \\frac{~..\\cdot w_{\\Box} \\cdot..~\\cdot x \\cdot~..\\cdot z_{\\Box} \\cdot..~}{y}\\right)$ \n",
      "              by theorem proveit.number.complex.fracInProd\n",
      "            condition $2 \\in \\mathbb{C}$  proven above\n",
      "            condition $\\left( 2 \\cdot \\pi \\right) \\in \\mathbb{C}$  proven above\n",
      "            condition $1 \\in \\mathbb{C}$  proven above\n",
      "      hypothesis $\\left( 2 \\cdot \\pi \\cdot \\left(\\delta - \\frac{l}{2^{t}}\\right) \\right) \\in \\left[\\left(-\\left( \\left( 2 \\cdot \\pi \\right) \\cdot \\frac{1}{2} \\right)\\right),\\left( \\left( 2 \\cdot \\pi \\right) \\cdot \\frac{1}{2} \\right)\\right]$  assuming $l \\in \\{\\left( \\left(-2^{t - 1}\\right) + 1 \\right)\\ldots 2^{t - 1}\\}$ \n",
      "        implication $\\left(\\left( 2 \\cdot \\pi \\cdot \\left(\\delta - \\frac{l}{2^{t}}\\right) \\right) \\in \\left[\\left( \\left( 2 \\cdot \\pi \\right) \\cdot \\left(-\\frac{1}{2}\\right) \\right),\\left( \\left( 2 \\cdot \\pi \\right) \\cdot \\frac{1}{2} \\right)\\right]\\right) \\Rightarrow \\left(\\left( 2 \\cdot \\pi \\cdot \\left(\\delta - \\frac{l}{2^{t}}\\right) \\right) \\in \\left[\\left(-\\left( \\left( 2 \\cdot \\pi \\right) \\cdot \\frac{1}{2} \\right)\\right),\\left( \\left( 2 \\cdot \\pi \\right) \\cdot \\frac{1}{2} \\right)\\right]\\right)$ \n",
      "          implication $\\left(\\left( \\left( 2 \\cdot \\pi \\right) \\cdot \\left(-\\frac{1}{2}\\right) \\right) = \\left(-\\left( \\left( 2 \\cdot \\pi \\right) \\cdot \\frac{1}{2} \\right)\\right)\\right) \\Rightarrow \\left(\\left(\\left( 2 \\cdot \\pi \\cdot \\left(\\delta - \\frac{l}{2^{t}}\\right) \\right) \\in \\left[\\left( \\left( 2 \\cdot \\pi \\right) \\cdot \\left(-\\frac{1}{2}\\right) \\right),\\left( \\left( 2 \\cdot \\pi \\right) \\cdot \\frac{1}{2} \\right)\\right]\\right) \\Rightarrow \\left(\\left( 2 \\cdot \\pi \\cdot \\left(\\delta - \\frac{l}{2^{t}}\\right) \\right) \\in \\left[\\left(-\\left( \\left( 2 \\cdot \\pi \\right) \\cdot \\frac{1}{2} \\right)\\right),\\left( \\left( 2 \\cdot \\pi \\right) \\cdot \\frac{1}{2} \\right)\\right]\\right)\\right)$ \n",
      "            specializing $\\forall_{ P , x , y } \\left(\\left(x = y\\right) \\Rightarrow \\left(P\\left( x \\right) \\Rightarrow P\\left( y \\right)\\right)\\right)$  proven above\n",
      "          hypothesis $\\left( \\left( 2 \\cdot \\pi \\right) \\cdot \\left(-\\frac{1}{2}\\right) \\right) = \\left(-\\left( \\left( 2 \\cdot \\pi \\right) \\cdot \\frac{1}{2} \\right)\\right)$ \n",
      "            specializing $\\forall_{ x , y  \\in \\mathbb{C}} \\left(\\left( x \\cdot \\left(-y\\right) \\right) = \\left(-\\left( x \\cdot y \\right)\\right)\\right)$ \n",
      "              by theorem proveit.number.complex.posTimesNeg\n",
      "            condition $\\frac{1}{2} \\in \\mathbb{C}$ \n",
      "              specializing $\\forall_{ a  \\in \\mathbb{R}^+} \\left(a \\in \\mathbb{C}\\right)$  proven above\n",
      "              condition $\\frac{1}{2} \\in \\mathbb{R}^+$ \n",
      "                specializing $\\forall_{ a , b  \\in \\mathbb{R}^+~|~ \\left(b \\neq 0\\right) } \\left(\\frac{a}{b} \\in \\mathbb{R}^+\\right)$ \n",
      "                  by theorem proveit.number.real.fractionPosClosure\n",
      "                condition $2 \\neq 0$  proven above\n",
      "                condition $1 \\in \\mathbb{R}^+$ \n",
      "                  specializing $\\forall_{ a  \\in \\mathbb{N}^+} \\left(a \\in \\mathbb{R}^+\\right)$  proven above\n",
      "                  condition $1 \\in \\mathbb{N}^+$  proven above\n",
      "                condition $2 \\in \\mathbb{R}^+$  proven above\n",
      "            condition $\\left( 2 \\cdot \\pi \\right) \\in \\mathbb{C}$  proven above\n",
      "        hypothesis $\\left( 2 \\cdot \\pi \\cdot \\left(\\delta - \\frac{l}{2^{t}}\\right) \\right) \\in \\left[\\left( \\left( 2 \\cdot \\pi \\right) \\cdot \\left(-\\frac{1}{2}\\right) \\right),\\left( \\left( 2 \\cdot \\pi \\right) \\cdot \\frac{1}{2} \\right)\\right]$  assuming $l \\in \\{\\left( \\left(-2^{t - 1}\\right) + 1 \\right)\\ldots 2^{t - 1}\\}$ \n",
      "          implication $\\left(\\left( \\left( 2 \\cdot \\pi \\right) \\cdot \\left(\\delta - \\frac{l}{2^{t}}\\right) \\right) \\in \\left[\\left( \\left( 2 \\cdot \\pi \\right) \\cdot \\left(-\\frac{1}{2}\\right) \\right),\\left( \\left( 2 \\cdot \\pi \\right) \\cdot \\frac{1}{2} \\right)\\right]\\right) \\Rightarrow \\left(\\left( 2 \\cdot \\pi \\cdot \\left(\\delta - \\frac{l}{2^{t}}\\right) \\right) \\in \\left[\\left( \\left( 2 \\cdot \\pi \\right) \\cdot \\left(-\\frac{1}{2}\\right) \\right),\\left( \\left( 2 \\cdot \\pi \\right) \\cdot \\frac{1}{2} \\right)\\right]\\right)$  assuming $l \\in \\{\\left( \\left(-2^{t - 1}\\right) + 1 \\right)\\ldots 2^{t - 1}\\}$ \n",
      "            implication $\\left(\\left( \\left( 2 \\cdot \\pi \\right) \\cdot \\left(\\delta - \\frac{l}{2^{t}}\\right) \\right) = \\left( 2 \\cdot \\pi \\cdot \\left(\\delta - \\frac{l}{2^{t}}\\right) \\right)\\right) \\Rightarrow \\left(\\left(\\left( \\left( 2 \\cdot \\pi \\right) \\cdot \\left(\\delta - \\frac{l}{2^{t}}\\right) \\right) \\in \\left[\\left( \\left( 2 \\cdot \\pi \\right) \\cdot \\left(-\\frac{1}{2}\\right) \\right),\\left( \\left( 2 \\cdot \\pi \\right) \\cdot \\frac{1}{2} \\right)\\right]\\right) \\Rightarrow \\left(\\left( 2 \\cdot \\pi \\cdot \\left(\\delta - \\frac{l}{2^{t}}\\right) \\right) \\in \\left[\\left( \\left( 2 \\cdot \\pi \\right) \\cdot \\left(-\\frac{1}{2}\\right) \\right),\\left( \\left( 2 \\cdot \\pi \\right) \\cdot \\frac{1}{2} \\right)\\right]\\right)\\right)$ \n",
      "              specializing $\\forall_{ P , x , y } \\left(\\left(x = y\\right) \\Rightarrow \\left(P\\left( x \\right) \\Rightarrow P\\left( y \\right)\\right)\\right)$  proven above\n",
      "            hypothesis $\\left( \\left( 2 \\cdot \\pi \\right) \\cdot \\left(\\delta - \\frac{l}{2^{t}}\\right) \\right) = \\left( 2 \\cdot \\pi \\cdot \\left(\\delta - \\frac{l}{2^{t}}\\right) \\right)$  assuming $l \\in \\{\\left( \\left(-2^{t - 1}\\right) + 1 \\right)\\ldots 2^{t - 1}\\}$ \n",
      "              specializing $\\forall_{~.., x_{\\Box} ,..., y_{\\Box} ,..., z_{\\Box} ,..~ \\in \\mathbb{C}} \\left(\\left(~..\\cdot x_{\\Box} \\cdot..~\\cdot \\left(~..\\cdot y_{\\Box} \\cdot..~\\right) \\cdot~..\\cdot z_{\\Box} \\cdot..~\\right) = \\left(~..\\cdot x_{\\Box} \\cdot...\\cdot y_{\\Box} \\cdot...\\cdot z_{\\Box} \\cdot..~\\right)\\right)$ \n",
      "                by theorem proveit.number.complex.multAssocRev\n",
      "              condition $\\pi \\in \\mathbb{C}$  proven above\n",
      "              condition $\\left(\\delta - \\frac{l}{2^{t}}\\right) \\in \\mathbb{C}$  assuming $l \\in \\{\\left( \\left(-2^{t - 1}\\right) + 1 \\right)\\ldots 2^{t - 1}\\}$ \n",
      "                specializing $\\forall_{ a  \\in \\mathbb{R}} \\left(a \\in \\mathbb{C}\\right)$ \n",
      "                  by theorem proveit.number.real.inComplexes\n",
      "                condition $\\left(\\delta - \\frac{l}{2^{t}}\\right) \\in \\mathbb{R}$  assuming $l \\in \\{\\left( \\left(-2^{t - 1}\\right) + 1 \\right)\\ldots 2^{t - 1}\\}$ \n",
      "                  specializing $\\forall_{ x  \\in \\left[\\left(-\\frac{1}{2}\\right),\\frac{1}{2}\\right)} \\left(x \\in \\mathbb{R}\\right)$ \n",
      "                    specializing $\\forall_{ a , b  \\in \\mathbb{R}} \\left[\\forall_{ x  \\in \\left[a,b\\right)} \\left(x \\in \\mathbb{R}\\right)\\right]$ \n",
      "                      by theorem proveit.number.real.allInIntervalCO_InReals\n",
      "                    condition $\\left(-\\frac{1}{2}\\right) \\in \\mathbb{R}$ \n",
      "                      specializing $\\forall_{ a  \\in \\mathbb{R}} \\left(\\left(-a\\right) \\in \\mathbb{R}\\right)$ \n",
      "                        by theorem proveit.number.real.negClosure\n",
      "                      condition $\\frac{1}{2} \\in \\mathbb{R}$ \n",
      "                        specializing $\\forall_{ a  \\in \\mathbb{R}^+} \\left(a \\in \\mathbb{R}\\right)$ \n",
      "                          by theorem proveit.number.real.inRealsPos_inReals\n",
      "                        condition $\\frac{1}{2} \\in \\mathbb{R}^+$  proven above\n",
      "                    condition $\\frac{1}{2} \\in \\mathbb{R}$  proven above\n",
      "                  condition $\\left(\\delta - \\frac{l}{2^{t}}\\right) \\in \\left[\\left(-\\frac{1}{2}\\right),\\frac{1}{2}\\right)$  assuming $l \\in \\{\\left( \\left(-2^{t - 1}\\right) + 1 \\right)\\ldots 2^{t - 1}\\}$ \n",
      "                    specializing $\\forall_{ l  \\in \\{\\left( \\left(-2^{t - 1}\\right) + 1 \\right)\\ldots 2^{t - 1}\\}} \\left(\\left(\\delta - \\frac{l}{2^{t}}\\right) \\in \\left[\\left(-\\frac{1}{2}\\right),\\frac{1}{2}\\right)\\right)$ \n",
      "                      by theorem proveit.physics.quantum.QPE.deltaDiffInInterval\n",
      "                    condition $l \\in \\{\\left( \\left(-2^{t - 1}\\right) + 1 \\right)\\ldots 2^{t - 1}\\}$  assuming $l \\in \\{\\left( \\left(-2^{t - 1}\\right) + 1 \\right)\\ldots 2^{t - 1}\\}$ \n",
      "              condition $2 \\in \\mathbb{C}$  proven above\n",
      "          hypothesis $\\left( \\left( 2 \\cdot \\pi \\right) \\cdot \\left(\\delta - \\frac{l}{2^{t}}\\right) \\right) \\in \\left[\\left( \\left( 2 \\cdot \\pi \\right) \\cdot \\left(-\\frac{1}{2}\\right) \\right),\\left( \\left( 2 \\cdot \\pi \\right) \\cdot \\frac{1}{2} \\right)\\right]$  assuming $l \\in \\{\\left( \\left(-2^{t - 1}\\right) + 1 \\right)\\ldots 2^{t - 1}\\}$ \n",
      "            specializing $\\forall_{ x  \\in \\left[\\left(-\\frac{1}{2}\\right),\\frac{1}{2}\\right]} \\left(\\left( \\left( 2 \\cdot \\pi \\right) \\cdot x \\right) \\in \\left[\\left( \\left( 2 \\cdot \\pi \\right) \\cdot \\left(-\\frac{1}{2}\\right) \\right),\\left( \\left( 2 \\cdot \\pi \\right) \\cdot \\frac{1}{2} \\right)\\right]\\right)$ \n",
      "              specializing $\\forall_{ a , b , c  \\in \\mathbb{R}} \\left[\\forall_{ x  \\in \\left[a,b\\right]} \\left(\\left( c \\cdot x \\right) \\in \\left[\\left( c \\cdot a \\right),\\left( c \\cdot b \\right)\\right]\\right)\\right]$ \n",
      "                by theorem proveit.number.real.rescaleInIntervalCC\n",
      "              condition $\\left( 2 \\cdot \\pi \\right) \\in \\mathbb{R}$ \n",
      "                specializing $\\forall_{ a  \\in \\mathbb{R}^+} \\left(a \\in \\mathbb{R}\\right)$  proven above\n",
      "                condition $\\left( 2 \\cdot \\pi \\right) \\in \\mathbb{R}^+$  proven above\n",
      "              condition $\\left(-\\frac{1}{2}\\right) \\in \\mathbb{R}$  proven above\n",
      "              condition $\\frac{1}{2} \\in \\mathbb{R}$  proven above\n",
      "            condition $\\left(\\delta - \\frac{l}{2^{t}}\\right) \\in \\left[\\left(-\\frac{1}{2}\\right),\\frac{1}{2}\\right]$  assuming $l \\in \\{\\left( \\left(-2^{t - 1}\\right) + 1 \\right)\\ldots 2^{t - 1}\\}$ \n",
      "              specializing $\\forall_{ x  \\in \\left[\\left(-\\frac{1}{2}\\right),\\frac{1}{2}\\right)} \\left(x \\in \\left[\\left(-\\frac{1}{2}\\right),\\frac{1}{2}\\right]\\right)$ \n",
      "                specializing $\\forall_{ a , b  \\in \\mathbb{R}} \\left[\\forall_{ x  \\in \\left[a,b\\right)} \\left(x \\in \\left[a,b\\right]\\right)\\right]$ \n",
      "                  by theorem proveit.number.real.relaxIntervalCO\n",
      "                condition $\\left(-\\frac{1}{2}\\right) \\in \\mathbb{R}$  proven above\n",
      "                condition $\\frac{1}{2} \\in \\mathbb{R}$  proven above\n",
      "              condition $\\left(\\delta - \\frac{l}{2^{t}}\\right) \\in \\left[\\left(-\\frac{1}{2}\\right),\\frac{1}{2}\\right)$  assuming $l \\in \\{\\left( \\left(-2^{t - 1}\\right) + 1 \\right)\\ldots 2^{t - 1}\\}$  proven above\n",
      "proveit.basiclogic.equality.equalsTransitivity\n",
      "proveit.basiclogic.boolean.iffImpliesRight\n",
      "proveit.basiclogic.equality.rhsSubstitution\n",
      "proveit.number.complex.fracCancel2\n",
      "proveit.number.complex.fracInProd\n",
      "proveit.number.complex.multAssocRev\n",
      "proveit.number.complex.multComm\n",
      "proveit.number.complex.posTimesNeg\n",
      "proveit.number.complex.prodOne\n",
      "proveit.number.natural.inNatPos_inComplexes\n",
      "proveit.number.natural.inNatPos_inReals\n",
      "proveit.number.natural.inNatPos_inRealsPos\n",
      "proveit.number.natural.oneInNaturalsPos\n",
      "proveit.number.real.allInIntervalCO_InReals\n",
      "proveit.number.real.fractionPosClosure\n",
      "proveit.number.real.inComplexes\n",
      "proveit.number.real.inRealsPos_iff_positive\n",
      "proveit.number.real.inRealsPos_inComplexes\n",
      "proveit.number.real.inRealsPos_inReals\n",
      "proveit.number.real.multPosClosure\n",
      "proveit.number.real.negClosure\n",
      "proveit.number.real.positive_implies_notzero\n",
      "proveit.number.real.relaxIntervalCO\n",
      "proveit.number.real.rescaleInIntervalCC\n",
      "proveit.physics.quantum.QPE.deltaDiffInInterval\n",
      "Number of used axioms: 1\n",
      "Number of used theorms: 24\n",
      "Number of derivation tree nodes: 79\n"
     ]
    },
    {
     "data": {
      "text/latex": [
       "$\\forall_{ l  \\in \\{\\left( \\left(-2^{t - 1}\\right) + 1 \\right)\\ldots 2^{t - 1}\\}} \\left(\\left( 2 \\cdot \\pi \\cdot \\left(\\delta - \\frac{l}{2^{t}}\\right) \\right) \\in \\left[\\left(-\\pi\\right),\\pi\\right]\\right)$"
      ],
      "text/plain": [
       "$\\forall_{ l  \\in \\{\\left( \\left(-2^{t - 1}\\right) + 1 \\right)\\ldots 2^{t - 1}\\}} \\left(\\left( 2 \\cdot \\pi \\cdot \\left(\\delta - \\frac{l}{2^{t}}\\right) \\right) \\in \\left[\\left(-\\pi\\right),\\pi\\right]\\right)$"
      ]
     },
     "execution_count": 14,
     "metadata": {},
     "output_type": "execute_result"
    }
   ],
   "source": [
    "scaledDeltaDiffInDomain.generalize(l, domain=fullDomain).qed()"
   ]
  },
  {
   "cell_type": "code",
   "execution_count": null,
   "metadata": {
    "collapsed": true
   },
   "outputs": [],
   "source": []
  }
 ],
 "metadata": {
  "kernelspec": {
   "display_name": "Python 3",
   "language": "python",
   "name": "python3"
  },
  "language_info": {
   "codemirror_mode": {
    "name": "ipython",
    "version": 3
   },
   "file_extension": ".py",
   "mimetype": "text/x-python",
   "name": "python",
   "nbconvert_exporter": "python",
   "pygments_lexer": "ipython3"
  }
 },
 "nbformat": 4,
 "nbformat_minor": 0
}
