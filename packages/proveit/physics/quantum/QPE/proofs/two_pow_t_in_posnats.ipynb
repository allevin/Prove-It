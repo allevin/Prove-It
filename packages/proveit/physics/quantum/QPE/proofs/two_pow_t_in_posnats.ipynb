{
 "cells": [
  {
   "cell_type": "code",
   "execution_count": null,
   "metadata": {
    "collapsed": false
   },
   "outputs": [],
   "source": [
    "from proveit.physics.quantum.QPE.axioms import tInNaturalsPos\n",
    "from proveit.physics.quantum.QPE.common import t_\n",
    "from proveit.physics.quantum.QPE.theorems import two_pow_t_in_posnats\n",
    "from proveit.number.common import two\n",
    "from proveit.number.numberSets import NaturalsPos, deduceInNaturalsPos\n",
    "from proveit.basiclogic import In\n",
    "from proveit.number import Exponentiate"
   ]
  },
  {
   "cell_type": "code",
   "execution_count": 2,
   "metadata": {
    "collapsed": false
   },
   "outputs": [
    {
     "data": {
      "text/latex": [
       "$2^{t} \\in \\mathbb{N}^+$"
      ],
      "text/plain": [
       "2^(t) in NaturalsPos"
      ]
     },
     "execution_count": 2,
     "metadata": {},
     "output_type": "execute_result"
    }
   ],
   "source": [
    "two_pow_t_in_posnats.beginProof()"
   ]
  },
  {
   "cell_type": "code",
   "execution_count": 3,
   "metadata": {
    "collapsed": false
   },
   "outputs": [],
   "source": [
    "two_pow_t_in_posnats.statement._isNamedTheorem = False"
   ]
  },
  {
   "cell_type": "code",
   "execution_count": 4,
   "metadata": {
    "collapsed": false
   },
   "outputs": [
    {
     "name": "stdout",
     "output_type": "stream",
     "text": [
      "root 2^(t) in NaturalsPos \n",
      "  specializing forall_{a, b in Naturals | a != 0} (a^(b) in NaturalsPos) \n",
      "    by theorem proveit.number.natural.powClosure\n",
      "  condition 2 != 0 \n",
      "    specializing forall_{a in Reals | a > 0} (a != 0) \n",
      "      by theorem proveit.number.real.positive_implies_notzero\n",
      "    condition 2 > 0 \n",
      "      implication (2 in RealsPos) => (2 > 0) \n",
      "        implication ((2 in RealsPos) <=> (2 > 0)) => ((2 in RealsPos) => (2 > 0)) \n",
      "          specializing forall_{A, B} ((A <=> B) => (A => B)) \n",
      "            by theorem proveit.basiclogic.boolean.iffImpliesRight\n",
      "        hypothesis (2 in RealsPos) <=> (2 > 0) \n",
      "          specializing forall_{a in Reals} ((a in RealsPos) <=> (a > 0)) \n",
      "            by theorem proveit.number.real.inRealsPos_iff_positive\n",
      "          condition 2 in Reals \n",
      "            specializing forall_{a in NaturalsPos} (a in Reals) \n",
      "              by theorem proveit.number.natural.inNatPos_inReals\n",
      "            condition 2 in NaturalsPos \n",
      "      hypothesis 2 in RealsPos \n",
      "        specializing forall_{a in NaturalsPos} (a in RealsPos) \n",
      "          by theorem proveit.number.natural.inNatPos_inRealsPos\n",
      "        condition 2 in NaturalsPos  proven above\n",
      "    condition 2 in Reals  proven above\n",
      "  condition 2 in Naturals \n",
      "    specializing forall_{a in NaturalsPos} (a in Naturals) \n",
      "      by theorem proveit.number.natural.inNatPos_inNaturals\n",
      "    condition 2 in NaturalsPos  proven above\n",
      "  condition t in Naturals \n",
      "    specializing forall_{a in NaturalsPos} (a in Naturals)  proven above\n",
      "    condition t in NaturalsPos \n",
      "      by axiom proveit.physics.quantum.QPE.tInNaturalsPos\n",
      "Number of derivation tree nodes: 23\n"
     ]
    },
    {
     "data": {
      "text/latex": [
       "$2^{t} \\in \\mathbb{N}^+$"
      ],
      "text/plain": [
       "2^(t) in NaturalsPos"
      ]
     },
     "execution_count": 4,
     "metadata": {},
     "output_type": "execute_result"
    }
   ],
   "source": [
    "deduceInNaturalsPos(Exponentiate(two, t_)).qed()"
   ]
  },
  {
   "cell_type": "code",
   "execution_count": null,
   "metadata": {
    "collapsed": true
   },
   "outputs": [],
   "source": []
  }
 ],
 "metadata": {
  "kernelspec": {
   "display_name": "Python 3",
   "language": "python",
   "name": "python3"
  },
  "language_info": {
   "codemirror_mode": {
    "name": "ipython",
    "version": 3
   },
   "file_extension": ".py",
   "mimetype": "text/x-python",
   "name": "python",
   "nbconvert_exporter": "python",
   "pygments_lexer": "ipython3"
  }
 },
 "nbformat": 4,
 "nbformat_minor": 0
}
