{
 "cells": [
  {
   "cell_type": "code",
   "execution_count": 1,
   "metadata": {
    "collapsed": false
   },
   "outputs": [],
   "source": [
    "from proveit.basiclogic import In, Implies, FALSE, Equals, NotEquals, autoSubstitute\n",
    "from proveit.physics.quantum.QPE.theorems import delta_notEq_scaledNonzeroInt, scaledDelta_notEq_nonzeroInt, two_pow_t_in_posnats\n",
    "from proveit.physics.quantum.QPE.common import two_pow_t, delta_\n",
    "from proveit.number.real.theorems import divIneqThm1\n",
    "from proveit.number.numberSets import Integers\n",
    "from proveit.number.number import zero\n",
    "from proveit.number import Multiply, Fraction\n",
    "from proveit.common import l, X\n",
    "from IPython.display import display"
   ]
  },
  {
   "cell_type": "code",
   "execution_count": 2,
   "metadata": {
    "collapsed": false
   },
   "outputs": [
    {
     "data": {
      "text/plain": [
       "$\\forall_{l \\in \\mathbb{Z}~|~l \\neq 0} \\left(\\delta \\neq \\frac{l}{2^{t}}\\right)$"
      ]
     },
     "execution_count": 2,
     "metadata": {},
     "output_type": "execute_result"
    }
   ],
   "source": [
    "delta_notEq_scaledNonzeroInt.beginProof()"
   ]
  },
  {
   "cell_type": "code",
   "execution_count": 3,
   "metadata": {
    "collapsed": false
   },
   "outputs": [
    {
     "data": {
      "text/plain": [
       "$l \\in \\mathbb{Z}$"
      ]
     },
     "metadata": {},
     "output_type": "display_data"
    },
    {
     "data": {
      "text/plain": [
       "$l \\neq 0$"
      ]
     },
     "metadata": {},
     "output_type": "display_data"
    }
   ],
   "source": [
    "lInInts = In(l, Integers)\n",
    "lNotZero = NotEquals(l, zero)\n",
    "assumptions = {lInInts, lNotZero}\n",
    "display(lInInts)\n",
    "display(lNotZero)"
   ]
  },
  {
   "cell_type": "code",
   "execution_count": 4,
   "metadata": {
    "collapsed": false
   },
   "outputs": [
    {
     "data": {
      "text/plain": [
       "$\\forall_{l \\in \\mathbb{Z}~|~l \\neq 0} \\left(\\left(2^{t} \\cdot \\delta\\right) \\neq l\\right)$"
      ]
     },
     "execution_count": 4,
     "metadata": {},
     "output_type": "execute_result"
    }
   ],
   "source": [
    "scaledDelta_notEq_nonzeroInt"
   ]
  },
  {
   "cell_type": "code",
   "execution_count": 5,
   "metadata": {
    "collapsed": false
   },
   "outputs": [
    {
     "data": {
      "text/plain": [
       "$\\delta = \\frac{l}{2^{t}}$"
      ]
     },
     "execution_count": 5,
     "metadata": {},
     "output_type": "execute_result"
    }
   ],
   "source": [
    "contradiction0 = Equals(delta_, Fraction(l, two_pow_t))\n",
    "contradiction0"
   ]
  },
  {
   "cell_type": "code",
   "execution_count": 6,
   "metadata": {
    "collapsed": false
   },
   "outputs": [
    {
     "data": {
      "text/plain": [
       "$\\left(2^{t} \\cdot \\delta\\right) = \\left(2^{t} \\cdot \\frac{l}{2^{t}}\\right)$"
      ]
     },
     "execution_count": 6,
     "metadata": {},
     "output_type": "execute_result"
    }
   ],
   "source": [
    "contradiction1 = contradiction0.substitution(Multiply(two_pow_t, X), X)\n",
    "contradiction1.proven({contradiction0})"
   ]
  },
  {
   "cell_type": "code",
   "execution_count": 7,
   "metadata": {
    "collapsed": false
   },
   "outputs": [
    {
     "data": {
      "text/plain": [
       "$\\left(2^{t} \\cdot \\delta\\right) = \\frac{2^{t} \\cdot l}{2^{t}}$"
      ]
     },
     "execution_count": 7,
     "metadata": {},
     "output_type": "execute_result"
    }
   ],
   "source": [
    "contradiction2 = autoSubstitute(contradiction1, 'distribute', [1], {'assumptions':assumptions}, superExpr=contradiction1.rhs)\n",
    "contradiction2.proven({contradiction0} | assumptions)"
   ]
  },
  {
   "cell_type": "code",
   "execution_count": 8,
   "metadata": {
    "collapsed": false
   },
   "outputs": [
    {
     "data": {
      "text/plain": [
       "$\\left(2^{t} \\cdot \\delta\\right) = l$"
      ]
     },
     "execution_count": 8,
     "metadata": {},
     "output_type": "execute_result"
    }
   ],
   "source": [
    "contradiction3 = autoSubstitute(contradiction2, 'cancel', [two_pow_t], {'assumptions':assumptions}, superExpr=contradiction2.rhs)\n",
    "contradiction3.proven({contradiction0} | assumptions)"
   ]
  },
  {
   "cell_type": "code",
   "execution_count": 9,
   "metadata": {
    "collapsed": false
   },
   "outputs": [
    {
     "data": {
      "text/plain": [
       "$\\mathtt{FALSE}$"
      ]
     },
     "execution_count": 9,
     "metadata": {},
     "output_type": "execute_result"
    }
   ],
   "source": [
    "scaledDelta_notEq_nonzeroInt.specialize().unfold().deriveContradiction().deriveConclusion().proven({contradiction0} | assumptions)"
   ]
  },
  {
   "cell_type": "code",
   "execution_count": 10,
   "metadata": {
    "collapsed": false
   },
   "outputs": [
    {
     "data": {
      "text/plain": [
       "$\\delta \\neq \\frac{l}{2^{t}}$"
      ]
     },
     "execution_count": 10,
     "metadata": {},
     "output_type": "execute_result"
    }
   ],
   "source": [
    "contradiction0.deduceInBool()\n",
    "ineq = Implies(contradiction0, FALSE).deriveViaContradiction().deriveNotEquals().proven(assumptions)\n",
    "ineq"
   ]
  },
  {
   "cell_type": "code",
   "execution_count": 12,
   "metadata": {
    "collapsed": false
   },
   "outputs": [
    {
     "name": "stdout",
     "output_type": "stream",
     "text": [
      "root forall_{l in Integers | l != 0} (delta != l / 2^(t)) \n",
      "  generalizing delta != l / 2^(t)  assuming l != 0, l in Integers \n",
      "    implication not(delta = l / 2^(t)) => (delta != l / 2^(t)) \n",
      "      specializing forall_{x, y} (not(x = y) => (x != y)) \n",
      "        by theorem proveit.basiclogic.equality.foldNotEquals\n",
      "    hypothesis not(delta = l / 2^(t))  assuming l != 0, l in Integers \n",
      "      implication ((delta = l / 2^(t)) => FALSE) => not(delta = l / 2^(t)) \n",
      "        specializing forall_{A in BOOLEANS} ((A => FALSE) => not(A)) \n",
      "          by theorem proveit.basiclogic.boolean.hypotheticalContradiction\n",
      "        condition (delta = l / 2^(t)) in BOOLEANS \n",
      "          specializing forall_{x, y} ((x = y) in BOOLEANS) \n",
      "            by axiom proveit.basiclogic.equality.equalityInBool\n",
      "      hypothesis (delta = l / 2^(t)) => FALSE  assuming l != 0, l in Integers \n",
      "        hypothetically reasoning FALSE  assuming l != 0, delta = l / 2^(t), l in Integers \n",
      "          implication ((2^(t) * delta) = l) => FALSE  assuming l != 0, l in Integers \n",
      "            implication not((2^(t) * delta) = l) => (((2^(t) * delta) = l) => FALSE) \n",
      "              specializing forall_{A} (not(A) => (A => FALSE)) \n",
      "                by theorem proveit.basiclogic.boolean.contradictionFromNegation\n",
      "            hypothesis not((2^(t) * delta) = l)  assuming l != 0, l in Integers \n",
      "              implication ((2^(t) * delta) != l) => not((2^(t) * delta) = l) \n",
      "                specializing forall_{x, y} ((x != y) => not(x = y)) \n",
      "                  by theorem proveit.basiclogic.equality.unfoldNotEquals\n",
      "              hypothesis (2^(t) * delta) != l  assuming l != 0, l in Integers \n",
      "                specializing forall_{l in Integers | l != 0} ((2^(t) * delta) != l) \n",
      "                  by theorem proveit.physics.quantum.QPE.scaledDelta_notEq_nonzeroInt\n",
      "                condition l != 0  assuming l != 0 \n",
      "                condition l in Integers  assuming l in Integers \n",
      "          hypothesis (2^(t) * delta) = l  assuming l != 0, delta = l / 2^(t), l in Integers \n",
      "            implication ((2^(t) * delta) = (2^(t) * l) / 2^(t)) => ((2^(t) * delta) = l)  assuming l in Integers \n",
      "              implication ((2^(t) * l) / 2^(t) = l) => (((2^(t) * delta) = (2^(t) * l) / 2^(t)) => ((2^(t) * delta) = l)) \n",
      "                specializing forall_{P, x, y} ((x = y) => (P(x) => P(y))) \n",
      "                  by theorem proveit.basiclogic.equality.rhsSubstitution\n",
      "              hypothesis (2^(t) * l) / 2^(t) = l  assuming l in Integers \n",
      "                specializing forall_{x, y in Complexes | x != 0} ((x * y) / x = y) \n",
      "                  by theorem proveit.number.complex.fracCancel2\n",
      "                condition l in Complexes  assuming l in Integers \n",
      "                  specializing forall_{a in Integers} (a in Complexes) \n",
      "                    by theorem proveit.number.integer.inComplexes\n",
      "                  condition l in Integers  assuming l in Integers  proven above\n",
      "                condition 2^(t) != 0 \n",
      "                  specializing forall_{a in Reals | a > 0} (a != 0) \n",
      "                    by theorem proveit.number.real.positive_implies_notzero\n",
      "                  condition 2^(t) > 0 \n",
      "                    implication (2^(t) in RealsPos) => (2^(t) > 0) \n",
      "                      implication ((2^(t) in RealsPos) <=> (2^(t) > 0)) => ((2^(t) in RealsPos) => (2^(t) > 0)) \n",
      "                        specializing forall_{A, B} ((A <=> B) => (A => B)) \n",
      "                          by theorem proveit.basiclogic.boolean.iffImpliesRight\n",
      "                      hypothesis (2^(t) in RealsPos) <=> (2^(t) > 0) \n",
      "                        specializing forall_{a in Reals} ((a in RealsPos) <=> (a > 0)) \n",
      "                          by theorem proveit.number.real.inRealsPos_iff_positive\n",
      "                        condition 2^(t) in Reals \n",
      "                          specializing forall_{a in NaturalsPos} (a in Reals) \n",
      "                            by theorem proveit.number.natural.inNatPos_inReals\n",
      "                          condition 2^(t) in NaturalsPos \n",
      "                            by theorem proveit.physics.quantum.QPE.two_pow_t_in_posnats\n",
      "                    hypothesis 2^(t) in RealsPos \n",
      "                      specializing forall_{a in NaturalsPos} (a in RealsPos) \n",
      "                        by theorem proveit.number.natural.inNatPos_inRealsPos\n",
      "                      condition 2^(t) in NaturalsPos  proven above\n",
      "                  condition 2^(t) in Reals  proven above\n",
      "                condition 2^(t) in Complexes \n",
      "                  specializing forall_{a in NaturalsPos} (a in Complexes) \n",
      "                    by theorem proveit.number.natural.inNatPos_inComplexes\n",
      "                  condition 2^(t) in NaturalsPos  proven above\n",
      "            hypothesis (2^(t) * delta) = (2^(t) * l) / 2^(t)  assuming l != 0, delta = l / 2^(t), l in Integers \n",
      "              implication ((2^(t) * delta) = (2^(t) * l / 2^(t))) => ((2^(t) * delta) = (2^(t) * l) / 2^(t))  assuming l in Integers \n",
      "                implication ((2^(t) * l / 2^(t)) = (2^(t) * l) / 2^(t)) => (((2^(t) * delta) = (2^(t) * l / 2^(t))) => ((2^(t) * delta) = (2^(t) * l) / 2^(t))) \n",
      "                  specializing forall_{P, x, y} ((x = y) => (P(x) => P(y)))  proven above\n",
      "                hypothesis (2^(t) * l / 2^(t)) = (2^(t) * l) / 2^(t)  assuming l in Integers \n",
      "                  specializing forall_{..w.., x, y, ..z.. in Complexes} (( .. * w * ..  * x / y *  .. * z * .. ) = ( .. * w * ..  * x *  .. * z * .. ) / y) \n",
      "                    by theorem proveit.number.complex.fracInProd\n",
      "                  condition l in Complexes  assuming l in Integers  proven above\n",
      "                  condition 2^(t) in Complexes  proven above\n",
      "              hypothesis (2^(t) * delta) = (2^(t) * l / 2^(t))  assuming delta = l / 2^(t) \n",
      "                implication (delta = l / 2^(t)) => ((2^(t) * delta) = (2^(t) * l / 2^(t))) \n",
      "                  specializing forall_{f, x, y} ((x = y) => (f(x) = f(y))) \n",
      "                    by axiom proveit.basiclogic.equality.substitution\n",
      "                hypothesis delta = l / 2^(t)  assuming delta = l / 2^(t) \n",
      "proveit.basiclogic.equality.equalityInBool\n",
      "proveit.basiclogic.equality.substitution\n",
      "proveit.basiclogic.boolean.contradictionFromNegation\n",
      "proveit.basiclogic.boolean.hypotheticalContradiction\n",
      "proveit.basiclogic.boolean.iffImpliesRight\n",
      "proveit.basiclogic.equality.foldNotEquals\n",
      "proveit.basiclogic.equality.rhsSubstitution\n",
      "proveit.basiclogic.equality.unfoldNotEquals\n",
      "proveit.number.complex.fracCancel2\n",
      "proveit.number.complex.fracInProd\n",
      "proveit.number.integer.inComplexes\n",
      "proveit.number.natural.inNatPos_inComplexes\n",
      "proveit.number.natural.inNatPos_inReals\n",
      "proveit.number.natural.inNatPos_inRealsPos\n",
      "proveit.number.real.inRealsPos_iff_positive\n",
      "proveit.number.real.positive_implies_notzero\n",
      "proveit.physics.quantum.QPE.scaledDelta_notEq_nonzeroInt\n",
      "proveit.physics.quantum.QPE.two_pow_t_in_posnats\n",
      "Number of used axioms: 2\n",
      "Number of used theorms: 16\n",
      "Number of derivation tree nodes: 53\n"
     ]
    },
    {
     "data": {
      "text/plain": [
       "$\\forall_{l \\in \\mathbb{Z}~|~l \\neq 0} \\left(\\delta \\neq \\frac{l}{2^{t}}\\right)$"
      ]
     },
     "execution_count": 12,
     "metadata": {},
     "output_type": "execute_result"
    }
   ],
   "source": [
    "ineq.generalize(l, domain=Integers, conditions=[NotEquals(l, zero)]).qed()"
   ]
  },
  {
   "cell_type": "code",
   "execution_count": null,
   "metadata": {
    "collapsed": true
   },
   "outputs": [],
   "source": []
  },
  {
   "cell_type": "code",
   "execution_count": null,
   "metadata": {
    "collapsed": true
   },
   "outputs": [],
   "source": []
  }
 ],
 "metadata": {
  "kernelspec": {
   "display_name": "Python 3",
   "language": "python",
   "name": "python3"
  },
  "language_info": {
   "codemirror_mode": {
    "name": "ipython",
    "version": 3
   },
   "file_extension": ".py",
   "mimetype": "text/x-python",
   "name": "python",
   "nbconvert_exporter": "python",
   "pygments_lexer": "ipython3"
  }
 },
 "nbformat": 4,
 "nbformat_minor": 0
}
