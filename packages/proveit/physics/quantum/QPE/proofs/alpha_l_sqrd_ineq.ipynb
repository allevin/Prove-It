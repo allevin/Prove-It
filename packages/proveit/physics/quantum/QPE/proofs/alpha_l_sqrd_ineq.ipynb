{
 "cells": [
  {
   "cell_type": "code",
   "execution_count": 1,
   "metadata": {
    "collapsed": false
   },
   "outputs": [],
   "source": [
    "from proveit.number.arithmeticOps import *\n",
    "from proveit.number.relation import Relation\n",
    "from proveit.number.real.theorems import divIneqThm1, divIneqThm1cor, ineqThm9, ineqThm10, ineqThm10a\n",
    "from proveit.number.complex.theorems import absProd, oneExp, expOne, intPowOfPow\n",
    "from proveit.number.axioms import multAssoc\n",
    "from proveit.number.complex.theorems import multOne, sumInPow, diffSquareComm\n",
    "from proveit.number.complex.theorems import fracCancel2, fracCancel4, multComm, natsPosPowOfProd, squarePosIneq, \\\n",
    "    absIsNonNeg\n",
    "from proveit.basiclogic import In, autoSubstitute, autoSubstitution, NotEquals\n",
    "from proveit.number.real.theorems import absTwoPi, absPos, squarePosEq, relaxGreaterThan, relaxLessThan\n",
    "from proveit.number.natural.theorems import twoSquared\n",
    "from proveit.number.numberSets import deduceNotZero\n",
    "from proveit.number.common import *\n",
    "from proveit.trigonometry.theorems import exp_2pi_i_nonInt, boundedUnitModulusDiff\n",
    "from proveit.physics.quantum.QPE.axioms import tInNaturalsPos\n",
    "from proveit.physics.quantum.QPE.theorems import alpha_l_sqrd_ineq, two_pow_tMinusOne_in_posnats, phaseInReals\n",
    "from proveit.physics.quantum.QPE.theorems import deltaInReals\n",
    "from proveit.physics.quantum.QPE.theorems import scaledDeltaInInterval, delta_notEq_scaledNonzeroInt, scaledDelta_notEq_nonzeroInt\n",
    "from proveit.physics.quantum.QPE.theorems import nonIntDeltaDiff, scaledDeltaDiffInInterval\n",
    "from proveit.physics.quantum.QPE.theorems import all_alpha_l_in_complexes, all_abs_alpha_l_nonneg, alpha_l_summed, alpha_l_summed_abs\n",
    "from proveit.physics.quantum.QPE.common import t_, delta_, alpha_l, two_pow_t, two_pow_t_minus_one\n",
    "from proveit.basiclogic.equality.eqOps import extractSubExpr\n",
    "from IPython.display import display"
   ]
  },
  {
   "cell_type": "code",
   "execution_count": 2,
   "metadata": {
    "collapsed": false
   },
   "outputs": [
    {
     "data": {
      "text/plain": [
       "$\\forall_{ l  \\in \\{\\left( \\left(-\\left(2^{t - 1}\\right)\\right) + 1 \\right)\\ldots \\left(2^{t - 1}\\right)\\}~|~ \\left(l \\neq 0\\right) } \\left(\\left(\\left|\\alpha_{l}\\right|^{2}\\right) \\leq \\frac{1}{ 4 \\cdot \\left(\\left(l - \\left( \\left(2^{t}\\right) \\cdot \\delta \\right)\\right)^{2}\\right) }\\right)$"
      ]
     },
     "execution_count": 2,
     "metadata": {},
     "output_type": "execute_result"
    }
   ],
   "source": [
    "alpha_l_sqrd_ineq.beginProof()"
   ]
  },
  {
   "cell_type": "code",
   "execution_count": 3,
   "metadata": {
    "collapsed": false
   },
   "outputs": [
    {
     "data": {
      "text/plain": [
       "$l \\in \\{\\left( \\left(-\\left(2^{t - 1}\\right)\\right) + 1 \\right)\\ldots \\left(2^{t - 1}\\right)\\}$"
      ]
     },
     "metadata": {},
     "output_type": "display_data"
    },
    {
     "data": {
      "text/plain": [
       "$l \\neq 0$"
      ]
     },
     "metadata": {},
     "output_type": "display_data"
    }
   ],
   "source": [
    "domain = DiscreteContiguousSet(Add(Neg(two_pow_t_minus_one), one), two_pow_t_minus_one)\n",
    "display(In(l, domain))\n",
    "display(NotEquals(l, zero))\n",
    "assumptions = {In(l,domain), NotEquals(l, zero)}"
   ]
  },
  {
   "cell_type": "code",
   "execution_count": 4,
   "metadata": {
    "collapsed": false
   },
   "outputs": [
    {
     "data": {
      "text/plain": [
       "$l \\in \\mathbb{Z}$"
      ]
     },
     "metadata": {},
     "output_type": "display_data"
    },
    {
     "data": {
      "text/plain": [
       "$\\left( \\left(-\\left(2^{t - 1}\\right)\\right) + 1 \\right) \\leq l$"
      ]
     },
     "metadata": {},
     "output_type": "display_data"
    },
    {
     "data": {
      "text/plain": [
       "$l \\leq \\left(2^{t - 1}\\right)$"
      ]
     },
     "metadata": {},
     "output_type": "display_data"
    }
   ],
   "source": [
    "display(domain.deduceMemberInIntegers(l, assumptions=assumptions).proven(assumptions))\n",
    "display(domain.deduceMemberLowerBound(l, assumptions=assumptions).proven(assumptions))\n",
    "display(domain.deduceMemberUpperBound(l, assumptions=assumptions).proven(assumptions))"
   ]
  },
  {
   "cell_type": "code",
   "execution_count": 5,
   "metadata": {
    "collapsed": false
   },
   "outputs": [
    {
     "data": {
      "text/plain": [
       "$\\left|\\alpha_{l}\\right| = \\frac{\\left|1 - \\left(e^{ 2 \\cdot \\pi \\cdot i \\cdot \\left(\\left( \\left(2^{t}\\right) \\cdot \\delta \\right) - l\\right) }\\right)\\right|}{ \\left(2^{t}\\right) \\cdot \\left|\\left(1 - \\left(e^{ 2 \\cdot \\pi \\cdot i \\cdot \\left(\\delta - \\frac{l}{2^{t}}\\right) }\\right)\\right)\\right| }$"
      ]
     },
     "execution_count": 5,
     "metadata": {},
     "output_type": "execute_result"
    }
   ],
   "source": [
    "abs_alpha_l = alpha_l_summed_abs.specialize().proven(assumptions)\n",
    "abs_alpha_l"
   ]
  },
  {
   "cell_type": "code",
   "execution_count": 6,
   "metadata": {
    "collapsed": false
   },
   "outputs": [
    {
     "data": {
      "text/plain": [
       "$\\forall_{ x  \\in \\mathbb{R}~|~ \\left(x \\notin \\mathbb{Z}\\right) } \\left(\\left(e^{ 2 \\cdot \\pi \\cdot i \\cdot x }\\right) \\neq 1\\right)$"
      ]
     },
     "execution_count": 6,
     "metadata": {},
     "output_type": "execute_result"
    }
   ],
   "source": [
    "exp_2pi_i_nonInt"
   ]
  },
  {
   "cell_type": "code",
   "execution_count": 7,
   "metadata": {
    "collapsed": false
   },
   "outputs": [
    {
     "data": {
      "text/plain": [
       "$\\delta \\neq \\frac{l}{2^{t}}$"
      ]
     },
     "metadata": {},
     "output_type": "display_data"
    },
    {
     "data": {
      "text/plain": [
       "$\\left( \\left(2^{t}\\right) \\cdot \\delta \\right) \\neq l$"
      ]
     },
     "metadata": {},
     "output_type": "display_data"
    },
    {
     "data": {
      "text/plain": [
       "$\\left(\\delta - \\frac{l}{2^{t}}\\right) \\notin \\mathbb{Z}$"
      ]
     },
     "metadata": {},
     "output_type": "display_data"
    },
    {
     "data": {
      "text/plain": [
       "$\\left(\\delta - \\frac{l}{2^{t}}\\right) \\in \\mathbb{R}$"
      ]
     },
     "metadata": {},
     "output_type": "display_data"
    },
    {
     "data": {
      "text/plain": [
       "$\\left( 2 \\cdot \\pi \\cdot \\left(\\delta - \\frac{l}{2^{t}}\\right) \\right) \\in \\left[\\left(-\\pi\\right),\\pi\\right]$"
      ]
     },
     "metadata": {},
     "output_type": "display_data"
    },
    {
     "data": {
      "text/plain": [
       "$\\left(e^{ 2 \\cdot \\pi \\cdot i \\cdot \\left(\\delta - \\frac{l}{2^{t}}\\right) }\\right) \\neq 1$"
      ]
     },
     "metadata": {},
     "output_type": "display_data"
    },
    {
     "data": {
      "text/plain": [
       "$\\left(e^{ i \\cdot 2 \\cdot \\pi \\cdot \\left(\\delta - \\frac{l}{2^{t}}\\right) }\\right) \\neq 1$"
      ]
     },
     "metadata": {},
     "output_type": "display_data"
    },
    {
     "data": {
      "text/plain": [
       "$\\left(e^{ i \\cdot \\left( 2 \\cdot \\pi \\cdot \\left(\\delta - \\frac{l}{2^{t}}\\right) \\right) }\\right) \\neq 1$"
      ]
     },
     "metadata": {},
     "output_type": "display_data"
    }
   ],
   "source": [
    "display(delta_notEq_scaledNonzeroInt.specialize().proven(assumptions))\n",
    "display(scaledDelta_notEq_nonzeroInt.specialize().proven(assumptions))\n",
    "nonIntDeltaDiffSpec = nonIntDeltaDiff.specialize()\n",
    "display(nonIntDeltaDiffSpec.proven(assumptions))\n",
    "display(nonIntDeltaDiffSpec.element.deduceInReals(assumptions).proven(assumptions))\n",
    "display(scaledDeltaDiffInInterval.specialize().proven(assumptions))\n",
    "expNotOne = exp_2pi_i_nonInt.specialize({x:nonIntDeltaDiffSpec.element}).proven(assumptions)\n",
    "display(expNotOne)\n",
    "display(autoSubstitute(expNotOne, 'factor', [i], {'assumptions':assumptions, 'pull':'left'}).proven(assumptions))\n",
    "display(autoSubstitute(expNotOne, 'factor', [i], {'assumptions':assumptions, 'pull':'left', 'groupRemainder':'True'}).proven(assumptions))"
   ]
  },
  {
   "cell_type": "code",
   "execution_count": 8,
   "metadata": {
    "collapsed": false
   },
   "outputs": [
    {
     "data": {
      "text/plain": [
       "$\\alpha_{l} \\in \\mathbb{C}$"
      ]
     },
     "metadata": {},
     "output_type": "display_data"
    },
    {
     "data": {
      "text/plain": [
       "$\\left|\\alpha_{l}\\right| \\in \\mathbb{R}$"
      ]
     },
     "metadata": {},
     "output_type": "display_data"
    },
    {
     "data": {
      "text/plain": [
       "$\\left|\\alpha_{l}\\right| \\geq 0$"
      ]
     },
     "metadata": {},
     "output_type": "display_data"
    }
   ],
   "source": [
    "display(all_alpha_l_in_complexes.specialize())\n",
    "abs_alpha_l_real_and_nonneg = all_abs_alpha_l_nonneg.specialize().decompose()\n",
    "display(abs_alpha_l_real_and_nonneg[0])\n",
    "display(abs_alpha_l_real_and_nonneg[1])"
   ]
  },
  {
   "cell_type": "code",
   "execution_count": 9,
   "metadata": {
    "collapsed": false
   },
   "outputs": [
    {
     "data": {
      "text/plain": [
       "$2 \\in \\mathbb{R}$"
      ]
     },
     "metadata": {},
     "output_type": "display_data"
    },
    {
     "data": {
      "text/plain": [
       "$2 > 0$"
      ]
     },
     "metadata": {},
     "output_type": "display_data"
    },
    {
     "data": {
      "text/plain": [
       "$\\pi \\in \\mathbb{R}$"
      ]
     },
     "metadata": {},
     "output_type": "display_data"
    },
    {
     "data": {
      "text/plain": [
       "$\\left( 2 \\cdot \\pi \\right) \\in \\mathbb{R}$"
      ]
     },
     "metadata": {},
     "output_type": "display_data"
    },
    {
     "data": {
      "text/plain": [
       "$\\left( 2 \\cdot \\pi \\right) \\in \\mathbb{C}$"
      ]
     },
     "metadata": {},
     "output_type": "display_data"
    },
    {
     "data": {
      "text/plain": [
       "$\\left(2^{t}\\right) \\in \\mathbb{R}$"
      ]
     },
     "metadata": {},
     "output_type": "display_data"
    },
    {
     "data": {
      "text/plain": [
       "$\\left(2^{t}\\right) > 0$"
      ]
     },
     "metadata": {},
     "output_type": "display_data"
    },
    {
     "data": {
      "text/plain": [
       "$\\left(2^{ t + 1 }\\right) \\in \\mathbb{R}$"
      ]
     },
     "metadata": {},
     "output_type": "display_data"
    },
    {
     "data": {
      "text/plain": [
       "$\\left(2^{ t + 1 }\\right) \\in \\mathbb{C}$"
      ]
     },
     "metadata": {},
     "output_type": "display_data"
    },
    {
     "data": {
      "text/plain": [
       "$\\left( 2 \\cdot \\pi \\cdot \\left(\\left( \\left(2^{t}\\right) \\cdot \\delta \\right) - l\\right) \\right) \\in \\mathbb{R}$"
      ]
     },
     "metadata": {},
     "output_type": "display_data"
    }
   ],
   "source": [
    "display(deduceInReals(two))\n",
    "display(deducePositive(two))\n",
    "display(deduceInReals(pi))\n",
    "display(deduceInReals(Multiply(two,pi)))\n",
    "display(deduceInComplexes(Multiply(two,pi)))\n",
    "display(deduceInReals(two_pow_t,assumptions))\n",
    "display(deducePositive(two_pow_t,assumptions))\n",
    "display(deduceInReals(Exponentiate(two, Add(t_, one))))\n",
    "display(deduceInComplexes(Exponentiate(two,Add(t_,one))))\n",
    "display(deduceInReals(Multiply(two,pi,Subtract(Multiply(Exponentiate(two,t_),delta_),l)),assumptions))"
   ]
  },
  {
   "cell_type": "code",
   "execution_count": 10,
   "metadata": {
    "collapsed": false
   },
   "outputs": [
    {
     "data": {
      "text/plain": [
       "$\\left|\\alpha_{l}\\right| = \\frac{\\left|1 - \\left(e^{ i \\cdot 2 \\cdot \\pi \\cdot \\left(\\left( \\left(2^{t}\\right) \\cdot \\delta \\right) - l\\right) }\\right)\\right|}{ \\left(2^{t}\\right) \\cdot \\left|\\left(1 - \\left(e^{ 2 \\cdot \\pi \\cdot i \\cdot \\left(\\delta - \\frac{l}{2^{t}}\\right) }\\right)\\right)\\right| }$"
      ]
     },
     "execution_count": 10,
     "metadata": {},
     "output_type": "execute_result"
    }
   ],
   "source": [
    "X1 = autoSubstitute(abs_alpha_l, 'factor', [i], {'assumptions':assumptions,'pull':'left'}, superExpr=abs_alpha_l.rhs.numerator, suppressWarnings=True).proven(assumptions)\n",
    "X1"
   ]
  },
  {
   "cell_type": "code",
   "execution_count": 11,
   "metadata": {
    "collapsed": false
   },
   "outputs": [
    {
     "data": {
      "text/plain": [
       "$\\left|\\alpha_{l}\\right| = \\frac{\\left|1 - \\left(e^{ i \\cdot 2 \\cdot \\pi \\cdot \\left(\\left( \\left(2^{t}\\right) \\cdot \\delta \\right) - l\\right) }\\right)\\right|}{ \\left(2^{t}\\right) \\cdot \\left|\\left(1 - \\left(e^{ i \\cdot 2 \\cdot \\pi \\cdot \\left(\\delta - \\frac{l}{2^{t}}\\right) }\\right)\\right)\\right| }$"
      ]
     },
     "execution_count": 11,
     "metadata": {},
     "output_type": "execute_result"
    }
   ],
   "source": [
    "X2 = autoSubstitute(X1, 'factor', [i], {'assumptions':assumptions}, superExpr=abs_alpha_l.rhs.denominator, suppressWarnings=True).proven(assumptions)\n",
    "X2"
   ]
  },
  {
   "cell_type": "code",
   "execution_count": 12,
   "metadata": {
    "collapsed": false
   },
   "outputs": [
    {
     "data": {
      "text/plain": [
       "$\\left|\\left(1 - \\left(e^{ i \\cdot \\left( 2 \\cdot \\pi \\cdot \\left(\\left( \\left(2^{t}\\right) \\cdot \\delta \\right) - l\\right) \\right) }\\right)\\right)\\right| \\leq 2$"
      ]
     },
     "execution_count": 12,
     "metadata": {},
     "output_type": "execute_result"
    }
   ],
   "source": [
    "Y1 = ineqThm9.specialize({theta:Multiply(two,pi,Subtract(Multiply(Exponentiate(two,t_),delta_),l))}).proven(assumptions)\n",
    "Y1"
   ]
  },
  {
   "cell_type": "code",
   "execution_count": 13,
   "metadata": {
    "collapsed": false
   },
   "outputs": [
    {
     "data": {
      "text/plain": [
       "$\\left( \\left(2^{t}\\right) \\cdot \\left|\\left(1 - \\left(e^{ i \\cdot 2 \\cdot \\pi \\cdot \\left(\\delta - \\frac{l}{2^{t}}\\right) }\\right)\\right)\\right| \\right) \\in \\mathbb{R}^+$"
      ]
     },
     "execution_count": 13,
     "metadata": {},
     "output_type": "execute_result"
    }
   ],
   "source": [
    "#deduceNotZero(Subtract(one,Exponentiate(e,Multiply(i,two,pi,Subtract(delta_,Fraction(l,Exponentiate(two,t_)))))),assumptions)\n",
    "deduceInRealsPos(X2.rhs.denominator,assumptions)"
   ]
  },
  {
   "cell_type": "code",
   "execution_count": 14,
   "metadata": {
    "collapsed": false
   },
   "outputs": [
    {
     "data": {
      "text/plain": [
       "$\\forall_{ a , b , c  \\in \\mathbb{R}~|~ \\left(a \\leq c\\right) , \\left(b > 0\\right) } \\left(\\frac{a}{b} \\leq \\frac{c}{b}\\right)$"
      ]
     },
     "execution_count": 14,
     "metadata": {},
     "output_type": "execute_result"
    }
   ],
   "source": [
    "divIneqThm1"
   ]
  },
  {
   "cell_type": "code",
   "execution_count": 15,
   "metadata": {
    "collapsed": false
   },
   "outputs": [
    {
     "data": {
      "text/plain": [
       "$\\left( \\left(2^{t}\\right) \\cdot \\left|\\left(1 - \\left(e^{ i \\cdot 2 \\cdot \\pi \\cdot \\left(\\delta - \\frac{l}{2^{t}}\\right) }\\right)\\right)\\right| \\right) \\in \\mathbb{R}$"
      ]
     },
     "metadata": {},
     "output_type": "display_data"
    },
    {
     "data": {
      "text/plain": [
       "$\\left( \\left(2^{t}\\right) \\cdot \\left|\\left(1 - \\left(e^{ i \\cdot 2 \\cdot \\pi \\cdot \\left(\\delta - \\frac{l}{2^{t}}\\right) }\\right)\\right)\\right| \\right) > 0$"
      ]
     },
     "metadata": {},
     "output_type": "display_data"
    },
    {
     "data": {
      "text/plain": [
       "$\\left|\\left(1 - \\left(e^{ i \\cdot \\left( 2 \\cdot \\pi \\cdot \\left(\\left( \\left(2^{t}\\right) \\cdot \\delta \\right) - l\\right) \\right) }\\right)\\right)\\right| \\in \\mathbb{R}$"
      ]
     },
     "metadata": {},
     "output_type": "display_data"
    }
   ],
   "source": [
    "display(deduceInReals(X2.rhs.denominator, assumptions).proven(assumptions))\n",
    "display(deducePositive(X2.rhs.denominator,assumptions).proven(assumptions))\n",
    "display(deduceInReals(Y1.lhs, assumptions).proven(assumptions))"
   ]
  },
  {
   "cell_type": "code",
   "execution_count": 16,
   "metadata": {
    "collapsed": false
   },
   "outputs": [
    {
     "data": {
      "text/plain": [
       "$\\frac{\\left|1 - \\left(e^{ i \\cdot \\left( 2 \\cdot \\pi \\cdot \\left(\\left( \\left(2^{t}\\right) \\cdot \\delta \\right) - l\\right) \\right) }\\right)\\right|}{ \\left(2^{t}\\right) \\cdot \\left|\\left(1 - \\left(e^{ i \\cdot 2 \\cdot \\pi \\cdot \\left(\\delta - \\frac{l}{2^{t}}\\right) }\\right)\\right)\\right| } \\leq \\frac{2}{ \\left(2^{t}\\right) \\cdot \\left|\\left(1 - \\left(e^{ i \\cdot 2 \\cdot \\pi \\cdot \\left(\\delta - \\frac{l}{2^{t}}\\right) }\\right)\\right)\\right| }$"
      ]
     },
     "execution_count": 16,
     "metadata": {},
     "output_type": "execute_result"
    }
   ],
   "source": [
    "Y2 = divIneqThm1.specialize({a:Y1.lhs,b:X2.rhs.denominator,c:Y1.rhs}).proven(assumptions)\n",
    "Y2"
   ]
  },
  {
   "cell_type": "code",
   "execution_count": 17,
   "metadata": {
    "collapsed": false
   },
   "outputs": [
    {
     "data": {
      "text/plain": [
       "$\\left|\\alpha_{l}\\right| = \\frac{\\left|1 - \\left(e^{ i \\cdot \\left( 2 \\cdot \\pi \\cdot \\left(\\left( \\left(2^{t}\\right) \\cdot \\delta \\right) - l\\right) \\right) }\\right)\\right|}{ \\left(2^{t}\\right) \\cdot \\left|\\left(1 - \\left(e^{ i \\cdot 2 \\cdot \\pi \\cdot \\left(\\delta - \\frac{l}{2^{t}}\\right) }\\right)\\right)\\right| }$"
      ]
     },
     "execution_count": 17,
     "metadata": {},
     "output_type": "execute_result"
    }
   ],
   "source": [
    "X2a = Multiply(i,two,pi,Subtract(Multiply(Exponentiate(two,t_),delta_),l)).group(1,4,assumptions=assumptions).subRightSideInto(X2).proven(assumptions)\n",
    "X2a"
   ]
  },
  {
   "cell_type": "code",
   "execution_count": 18,
   "metadata": {
    "collapsed": false
   },
   "outputs": [
    {
     "data": {
      "text/plain": [
       "$\\left|\\alpha_{l}\\right| \\leq \\frac{2}{ \\left(2^{t}\\right) \\cdot \\left|\\left(1 - \\left(e^{ i \\cdot 2 \\cdot \\pi \\cdot \\left(\\delta - \\frac{l}{2^{t}}\\right) }\\right)\\right)\\right| }$"
      ]
     },
     "execution_count": 18,
     "metadata": {},
     "output_type": "execute_result"
    }
   ],
   "source": [
    "X5 = Relation(X2a).update(Y2).proven(assumptions)\n",
    "X5"
   ]
  },
  {
   "cell_type": "code",
   "execution_count": 19,
   "metadata": {
    "collapsed": false
   },
   "outputs": [
    {
     "data": {
      "text/plain": [
       "$\\left|\\alpha_{l}\\right| \\leq \\frac{2}{ \\left(2^{t}\\right) \\cdot \\left|\\left(1 - \\left(e^{ i \\cdot \\left( 2 \\cdot \\pi \\cdot \\left(\\delta - \\frac{l}{2^{t}}\\right) \\right) }\\right)\\right)\\right| }$"
      ]
     },
     "execution_count": 19,
     "metadata": {},
     "output_type": "execute_result"
    }
   ],
   "source": [
    "X5a = multAssoc.specialize({xEtc:i,\n",
    "                            yEtc:[two,pi,Subtract(delta_,Fraction(l,Exponentiate(two,t_)))],\n",
    "                            zEtc:[]}).subRightSideInto(X5).proven(assumptions)\n",
    "X5a"
   ]
  },
  {
   "cell_type": "code",
   "execution_count": 20,
   "metadata": {
    "collapsed": false
   },
   "outputs": [
    {
     "data": {
      "text/plain": [
       "$\\frac{ 2 \\cdot \\left|\\left( 2 \\cdot \\pi \\cdot \\left(\\delta - \\frac{l}{2^{t}}\\right) \\right)\\right| }{\\pi} \\leq \\left|\\left(1 - \\left(e^{ i \\cdot \\left( 2 \\cdot \\pi \\cdot \\left(\\delta - \\frac{l}{2^{t}}\\right) \\right) }\\right)\\right)\\right|$"
      ]
     },
     "execution_count": 20,
     "metadata": {},
     "output_type": "execute_result"
    }
   ],
   "source": [
    "Y5_0 = boundedUnitModulusDiff.specialize(\n",
    "    {theta:Multiply(two,pi, Subtract(delta_,Fraction(l,Exponentiate(two,t_))))}).proven(assumptions).deriveReversed().proven(assumptions)\n",
    "Y5_0"
   ]
  },
  {
   "cell_type": "code",
   "execution_count": 21,
   "metadata": {
    "collapsed": false
   },
   "outputs": [
    {
     "data": {
      "text/plain": [
       "$\\frac{ 2 \\cdot \\left|\\left( 2 \\cdot \\pi \\cdot \\left(\\delta - \\frac{l}{2^{t}}\\right) \\right)\\right| }{\\pi} \\in \\mathbb{R}$"
      ]
     },
     "metadata": {},
     "output_type": "display_data"
    },
    {
     "data": {
      "text/plain": [
       "$\\left|\\left(1 - \\left(e^{ i \\cdot \\left( 2 \\cdot \\pi \\cdot \\left(\\delta - \\frac{l}{2^{t}}\\right) \\right) }\\right)\\right)\\right| \\in \\mathbb{R}$"
      ]
     },
     "metadata": {},
     "output_type": "display_data"
    }
   ],
   "source": [
    "display(deduceInReals(Y5_0.lhs,assumptions))\n",
    "display(deduceInReals(Y5_0.rhs,assumptions))"
   ]
  },
  {
   "cell_type": "code",
   "execution_count": 22,
   "metadata": {
    "collapsed": false
   },
   "outputs": [
    {
     "data": {
      "text/plain": [
       "$\\left( \\left(2^{t}\\right) \\cdot \\left|\\left(1 - \\left(e^{ i \\cdot \\left( 2 \\cdot \\pi \\cdot \\left(\\delta - \\frac{l}{2^{t}}\\right) \\right) }\\right)\\right)\\right| \\right) \\geq \\left( \\left(2^{t}\\right) \\cdot \\frac{ 2 \\cdot \\left|\\left( 2 \\cdot \\pi \\cdot \\left(\\delta - \\frac{l}{2^{t}}\\right) \\right)\\right| }{\\pi} \\right)$"
      ]
     },
     "execution_count": 22,
     "metadata": {},
     "output_type": "execute_result"
    }
   ],
   "source": [
    "Y6 = divIneqThm1cor.specialize({a:Y5_0.lhs,c:Y5_0.rhs,b:Exponentiate(two,t_)}).proven(assumptions).deriveReversed().proven(assumptions)\n",
    "Y6"
   ]
  },
  {
   "cell_type": "code",
   "execution_count": 23,
   "metadata": {
    "collapsed": false
   },
   "outputs": [
    {
     "data": {
      "text/plain": [
       "$\\left( \\left(2^{t}\\right) \\cdot \\left|\\left(1 - \\left(e^{ i \\cdot \\left( 2 \\cdot \\pi \\cdot \\left(\\delta - \\frac{l}{2^{t}}\\right) \\right) }\\right)\\right)\\right| \\right) \\geq \\left( \\left(2^{t}\\right) \\cdot \\frac{ 2 \\cdot \\left|\\left( \\left( 2 \\cdot \\pi \\right) \\cdot \\left(\\delta - \\frac{l}{2^{t}}\\right) \\right)\\right| }{\\pi} \\right)$"
      ]
     },
     "execution_count": 23,
     "metadata": {},
     "output_type": "execute_result"
    }
   ],
   "source": [
    "Y7 = autoSubstitute(Y6, 'group', [0,2], {'assumptions':assumptions}, superExpr=Y6.rhs, suppressWarnings=True).proven(assumptions)\n",
    "Y7"
   ]
  },
  {
   "cell_type": "code",
   "execution_count": 24,
   "metadata": {
    "collapsed": false
   },
   "outputs": [
    {
     "data": {
      "text/plain": [
       "$\\left|\\left( \\left( 2 \\cdot \\pi \\right) \\cdot \\left(\\delta - \\frac{l}{2^{t}}\\right) \\right)\\right| = \\left( \\left|\\left( 2 \\cdot \\pi \\right)\\right| \\cdot \\left|\\left(\\delta - \\frac{l}{2^{t}}\\right)\\right| \\right)$"
      ]
     },
     "execution_count": 24,
     "metadata": {},
     "output_type": "execute_result"
    }
   ],
   "source": [
    "Y8 = absProd.specialize({xEtc:[Multiply(two,pi),Subtract(delta_,Fraction(l,Exponentiate(two,t_)))]}).proven(assumptions)\n",
    "Y8"
   ]
  },
  {
   "cell_type": "code",
   "execution_count": 25,
   "metadata": {
    "collapsed": false
   },
   "outputs": [
    {
     "data": {
      "text/plain": [
       "$\\left( \\left(2^{t}\\right) \\cdot \\left|\\left(1 - \\left(e^{ i \\cdot \\left( 2 \\cdot \\pi \\cdot \\left(\\delta - \\frac{l}{2^{t}}\\right) \\right) }\\right)\\right)\\right| \\right) \\geq \\left( \\left(2^{t}\\right) \\cdot \\frac{ 2 \\cdot \\left( \\left|\\left( 2 \\cdot \\pi \\right)\\right| \\cdot \\left|\\left(\\delta - \\frac{l}{2^{t}}\\right)\\right| \\right) }{\\pi} \\right)$"
      ]
     },
     "execution_count": 25,
     "metadata": {},
     "output_type": "execute_result"
    }
   ],
   "source": [
    "Y9 = Y8.subRightSideInto(Y7).proven(assumptions)\n",
    "Y9"
   ]
  },
  {
   "cell_type": "code",
   "execution_count": 26,
   "metadata": {
    "collapsed": false
   },
   "outputs": [
    {
     "data": {
      "text/plain": [
       "$\\left( \\left(2^{t}\\right) \\cdot \\left|\\left(1 - \\left(e^{ i \\cdot \\left( 2 \\cdot \\pi \\cdot \\left(\\delta - \\frac{l}{2^{t}}\\right) \\right) }\\right)\\right)\\right| \\right) \\geq \\left( \\left(2^{t}\\right) \\cdot \\frac{ 2 \\cdot \\left( \\left( 2 \\cdot \\pi \\right) \\cdot \\left|\\left(\\delta - \\frac{l}{2^{t}}\\right)\\right| \\right) }{\\pi} \\right)$"
      ]
     },
     "execution_count": 26,
     "metadata": {},
     "output_type": "execute_result"
    }
   ],
   "source": [
    "Y10 = absPos.specialize({a:Multiply(two,pi)}).subRightSideInto(Y9).proven(assumptions)\n",
    "Y10"
   ]
  },
  {
   "cell_type": "code",
   "execution_count": 27,
   "metadata": {
    "collapsed": false
   },
   "outputs": [
    {
     "data": {
      "text/plain": [
       "$ 2 \\cdot \\left( 2 \\cdot \\pi \\right) \\cdot \\left|\\left(\\delta - \\frac{l}{2^{t}}\\right)\\right| $"
      ]
     },
     "execution_count": 27,
     "metadata": {},
     "output_type": "execute_result"
    }
   ],
   "source": [
    "Y11_0 = Multiply(two,\n",
    "                Multiply(two,pi),\n",
    "                Abs(Subtract(delta_,Fraction(l,Exponentiate(two,t_)))))\n",
    "Y11_0"
   ]
  },
  {
   "cell_type": "code",
   "execution_count": 28,
   "metadata": {
    "collapsed": false
   },
   "outputs": [
    {
     "data": {
      "text/plain": [
       "$\\left( 2 \\cdot \\left( 2 \\cdot \\pi \\right) \\cdot \\left|\\left(\\delta - \\frac{l}{2^{t}}\\right)\\right| \\right) = \\left( 2 \\cdot \\left( \\left( 2 \\cdot \\pi \\right) \\cdot \\left|\\left(\\delta - \\frac{l}{2^{t}}\\right)\\right| \\right) \\right)$"
      ]
     },
     "execution_count": 28,
     "metadata": {},
     "output_type": "execute_result"
    }
   ],
   "source": [
    "Y11 = Y11_0.group(1,3,assumptions).proven(assumptions)\n",
    "Y11"
   ]
  },
  {
   "cell_type": "code",
   "execution_count": 29,
   "metadata": {
    "collapsed": false
   },
   "outputs": [
    {
     "data": {
      "text/plain": [
       "$\\left( \\left(2^{t}\\right) \\cdot \\left|\\left(1 - \\left(e^{ i \\cdot \\left( 2 \\cdot \\pi \\cdot \\left(\\delta - \\frac{l}{2^{t}}\\right) \\right) }\\right)\\right)\\right| \\right) \\geq \\left( \\left(2^{t}\\right) \\cdot \\frac{ 2 \\cdot \\left( 2 \\cdot \\pi \\right) \\cdot \\left|\\left(\\delta - \\frac{l}{2^{t}}\\right)\\right| }{\\pi} \\right)$"
      ]
     },
     "execution_count": 29,
     "metadata": {},
     "output_type": "execute_result"
    }
   ],
   "source": [
    "Y12 = Y11.subLeftSideInto(Y10).proven(assumptions)\n",
    "Y12"
   ]
  },
  {
   "cell_type": "code",
   "execution_count": 30,
   "metadata": {
    "collapsed": false
   },
   "outputs": [
    {
     "data": {
      "text/plain": [
       "$\\left( 2 \\cdot 2 \\cdot \\pi \\cdot \\left|\\left(\\delta - \\frac{l}{2^{t}}\\right)\\right| \\right) = \\left( 2 \\cdot \\left( 2 \\cdot \\pi \\right) \\cdot \\left|\\left(\\delta - \\frac{l}{2^{t}}\\right)\\right| \\right)$"
      ]
     },
     "execution_count": 30,
     "metadata": {},
     "output_type": "execute_result"
    }
   ],
   "source": [
    "Y13 = multAssoc.specialize({xEtc:two, yEtc:[two,pi],\n",
    "                            zEtc:Abs(Subtract(delta_,Fraction(l,Exponentiate(two,t_))))}).proven(assumptions)\n",
    "Y13"
   ]
  },
  {
   "cell_type": "code",
   "execution_count": 31,
   "metadata": {
    "collapsed": false
   },
   "outputs": [
    {
     "data": {
      "text/plain": [
       "$\\left( \\left(2^{t}\\right) \\cdot \\left|\\left(1 - \\left(e^{ i \\cdot \\left( 2 \\cdot \\pi \\cdot \\left(\\delta - \\frac{l}{2^{t}}\\right) \\right) }\\right)\\right)\\right| \\right) \\geq \\left( \\left(2^{t}\\right) \\cdot \\frac{ 2 \\cdot 2 \\cdot \\pi \\cdot \\left|\\left(\\delta - \\frac{l}{2^{t}}\\right)\\right| }{\\pi} \\right)$"
      ]
     },
     "execution_count": 31,
     "metadata": {},
     "output_type": "execute_result"
    }
   ],
   "source": [
    "Y14 = Y13.subLeftSideInto(Y12).proven(assumptions)\n",
    "Y14"
   ]
  },
  {
   "cell_type": "code",
   "execution_count": 32,
   "metadata": {
    "collapsed": false
   },
   "outputs": [
    {
     "data": {
      "text/plain": [
       "$\\left( 2 \\cdot 2 \\cdot \\left|\\left(\\delta - \\frac{l}{2^{t}}\\right)\\right| \\right) \\in \\mathbb{C}$"
      ]
     },
     "metadata": {},
     "output_type": "display_data"
    },
    {
     "data": {
      "text/plain": [
       "$\\left|\\left(\\delta - \\frac{l}{2^{t}}\\right)\\right| \\in \\mathbb{C}$"
      ]
     },
     "metadata": {},
     "output_type": "display_data"
    }
   ],
   "source": [
    "display(deduceInComplexes(Multiply(two,two,Abs(Subtract(delta_,Fraction(l,Exponentiate(two,t_))))),assumptions))\n",
    "display(deduceInComplexes(Abs(Subtract(delta_,Fraction(l,Exponentiate(two,t_)))),assumptions))\n"
   ]
  },
  {
   "cell_type": "code",
   "execution_count": 33,
   "metadata": {
    "collapsed": false
   },
   "outputs": [
    {
     "data": {
      "text/plain": [
       "$\\frac{ 2 \\cdot 2 \\cdot \\pi \\cdot \\left|\\left(\\delta - \\frac{l}{2^{t}}\\right)\\right| }{\\pi} = \\left( 2 \\cdot 2 \\cdot \\left|\\left(\\delta - \\frac{l}{2^{t}}\\right)\\right| \\right)$"
      ]
     },
     "execution_count": 33,
     "metadata": {},
     "output_type": "execute_result"
    }
   ],
   "source": [
    "Y15_0 = Y14.rhs.operands[1].cancel(pi,assumptions=assumptions).proven(assumptions)\n",
    "Y15_0"
   ]
  },
  {
   "cell_type": "code",
   "execution_count": 34,
   "metadata": {
    "collapsed": false
   },
   "outputs": [
    {
     "data": {
      "text/plain": [
       "$\\left( \\left(2^{t}\\right) \\cdot \\left|\\left(1 - \\left(e^{ i \\cdot \\left( 2 \\cdot \\pi \\cdot \\left(\\delta - \\frac{l}{2^{t}}\\right) \\right) }\\right)\\right)\\right| \\right) \\geq \\left( \\left(2^{t}\\right) \\cdot \\left( 2 \\cdot 2 \\cdot \\left|\\left(\\delta - \\frac{l}{2^{t}}\\right)\\right| \\right) \\right)$"
      ]
     },
     "execution_count": 34,
     "metadata": {},
     "output_type": "execute_result"
    }
   ],
   "source": [
    "Y15 = Y14.rhs.operands[1].cancel(pi,assumptions=assumptions).subRightSideInto(Y14).proven(assumptions)\n",
    "Y15"
   ]
  },
  {
   "cell_type": "code",
   "execution_count": 35,
   "metadata": {
    "collapsed": false
   },
   "outputs": [
    {
     "data": {
      "text/plain": [
       "$\\left( \\left(2^{t}\\right) \\cdot \\left( 2 \\cdot 2 \\cdot \\left|\\left(\\delta - \\frac{l}{2^{t}}\\right)\\right| \\right) \\right) > 0$"
      ]
     },
     "metadata": {},
     "output_type": "display_data"
    },
    {
     "data": {
      "text/plain": [
       "$\\left( \\left(2^{t}\\right) \\cdot \\left( 2 \\cdot 2 \\cdot \\left|\\left(\\delta - \\frac{l}{2^{t}}\\right)\\right| \\right) \\right) \\in \\mathbb{R}$"
      ]
     },
     "metadata": {},
     "output_type": "display_data"
    }
   ],
   "source": [
    "Y18 = deducePositive(Y15.rhs, assumptions).proven(assumptions)\n",
    "display(Y18)\n",
    "display(deduceInReals(Y18.lhs,assumptions).proven(assumptions))"
   ]
  },
  {
   "cell_type": "code",
   "execution_count": 36,
   "metadata": {
    "collapsed": false
   },
   "outputs": [
    {
     "data": {
      "text/plain": [
       "$\\left( \\left(2^{t}\\right) \\cdot \\left|\\left(1 - \\left(e^{ i \\cdot \\left( 2 \\cdot \\pi \\cdot \\left(\\delta - \\frac{l}{2^{t}}\\right) \\right) }\\right)\\right)\\right| \\right) > 0$"
      ]
     },
     "execution_count": 36,
     "metadata": {},
     "output_type": "execute_result"
    }
   ],
   "source": [
    "deducePositive(X5a.rhs.denominator, assumptions).proven(assumptions)"
   ]
  },
  {
   "cell_type": "code",
   "execution_count": 37,
   "metadata": {
    "collapsed": false
   },
   "outputs": [
    {
     "data": {
      "text/plain": [
       "$\\left|\\alpha_{l}\\right| \\leq \\frac{2}{ \\left(2^{t}\\right) \\cdot \\left( 2 \\cdot 2 \\cdot \\left|\\left(\\delta - \\frac{l}{2^{t}}\\right)\\right| \\right) }$"
      ]
     },
     "execution_count": 37,
     "metadata": {},
     "output_type": "execute_result"
    }
   ],
   "source": [
    "X19 = ineqThm10a.specialize({w:X5.lhs,\n",
    "                      x:X5a.rhs.numerator,\n",
    "                      y:X5a.rhs.denominator,\n",
    "                      z:Y18.lhs}).proven(assumptions)\n",
    "X19"
   ]
  },
  {
   "cell_type": "code",
   "execution_count": 38,
   "metadata": {
    "collapsed": false
   },
   "outputs": [
    {
     "data": {
      "text/plain": [
       "$\\left|\\alpha_{l}\\right| \\leq \\frac{2}{ \\left(2^{t}\\right) \\cdot 2 \\cdot 2 \\cdot \\left|\\left(\\delta - \\frac{l}{2^{t}}\\right)\\right| }$"
      ]
     },
     "execution_count": 38,
     "metadata": {},
     "output_type": "execute_result"
    }
   ],
   "source": [
    "X20 = X19.rhs.denominator.ungroup(1,assumptions=assumptions).subRightSideInto(X19).proven(assumptions)\n",
    "X20"
   ]
  },
  {
   "cell_type": "code",
   "execution_count": 39,
   "metadata": {
    "collapsed": false
   },
   "outputs": [
    {
     "data": {
      "text/plain": [
       "$\\left|\\alpha_{l}\\right| \\leq \\frac{1}{ \\left(2^{t}\\right) \\cdot 2 \\cdot \\left|\\left(\\delta - \\frac{l}{2^{t}}\\right)\\right| }$"
      ]
     },
     "execution_count": 39,
     "metadata": {},
     "output_type": "execute_result"
    }
   ],
   "source": [
    "#21 omitted intentionally\n",
    "X22 = X20.rhs.cancel(two,'left',assumptions).subRightSideInto(X20).proven(assumptions)\n",
    "X22"
   ]
  },
  {
   "cell_type": "code",
   "execution_count": 40,
   "metadata": {
    "collapsed": false
   },
   "outputs": [
    {
     "data": {
      "text/plain": [
       "$\\left|\\left(\\delta - \\frac{l}{2^{t}}\\right)\\right| \\in \\mathbb{C}$"
      ]
     },
     "execution_count": 40,
     "metadata": {},
     "output_type": "execute_result"
    }
   ],
   "source": [
    "deduceInComplexes(Abs(Subtract(delta_,Fraction(l,Exponentiate(two,t_)))), assumptions)"
   ]
  },
  {
   "cell_type": "code",
   "execution_count": 41,
   "metadata": {
    "collapsed": false
   },
   "outputs": [
    {
     "data": {
      "text/plain": [
       "$2 \\in \\mathbb{C}$"
      ]
     },
     "execution_count": 41,
     "metadata": {},
     "output_type": "execute_result"
    }
   ],
   "source": [
    "deduceInComplexes(two)"
   ]
  },
  {
   "cell_type": "code",
   "execution_count": 42,
   "metadata": {
    "collapsed": false
   },
   "outputs": [
    {
     "data": {
      "text/plain": [
       "$t \\in \\mathbb{C}$"
      ]
     },
     "execution_count": 42,
     "metadata": {},
     "output_type": "execute_result"
    }
   ],
   "source": [
    "deduceInComplexes(t_)"
   ]
  },
  {
   "cell_type": "code",
   "execution_count": 43,
   "metadata": {
    "collapsed": false
   },
   "outputs": [
    {
     "data": {
      "text/plain": [
       "$\\left|\\alpha_{l}\\right| \\leq \\frac{1}{ \\left(2^{ t + 1 }\\right) \\cdot \\left|\\left(\\delta - \\frac{l}{2^{t}}\\right)\\right| }$"
      ]
     },
     "execution_count": 43,
     "metadata": {},
     "output_type": "execute_result"
    }
   ],
   "source": [
    "#23 omitted intentionally\n",
    "X24 = X22.rhs.denominator.combineExponents(0, 2, assumptions=assumptions).subRightSideInto(X22).proven(assumptions)\n",
    "X24"
   ]
  },
  {
   "cell_type": "code",
   "execution_count": 44,
   "metadata": {
    "collapsed": false
   },
   "outputs": [
    {
     "data": {
      "text/plain": [
       "$\\frac{1}{ \\left(2^{ t + 1 }\\right) \\cdot \\left|\\left(\\delta - \\frac{l}{2^{t}}\\right)\\right| } \\in \\mathbb{R}$"
      ]
     },
     "execution_count": 44,
     "metadata": {},
     "output_type": "execute_result"
    }
   ],
   "source": [
    "deduceInReals(X24.rhs,assumptions)"
   ]
  },
  {
   "cell_type": "code",
   "execution_count": 45,
   "metadata": {
    "collapsed": false
   },
   "outputs": [
    {
     "data": {
      "text/plain": [
       "$\\forall_{ a  \\in \\mathbb{C}} \\left[\\forall_{ b  \\in \\mathbb{R}~|~ \\left(\\left|a\\right| \\leq b\\right) } \\left(\\left(\\left|a\\right|^{2}\\right) \\leq \\left(b^{2}\\right)\\right)\\right]$"
      ]
     },
     "execution_count": 45,
     "metadata": {},
     "output_type": "execute_result"
    }
   ],
   "source": [
    "squarePosIneq"
   ]
  },
  {
   "cell_type": "code",
   "execution_count": 46,
   "metadata": {
    "collapsed": false
   },
   "outputs": [
    {
     "data": {
      "text/plain": [
       "$\\left(\\left|\\alpha_{l}\\right|^{2}\\right) \\leq \\left(\\left(\\frac{1}{ \\left(2^{ t + 1 }\\right) \\cdot \\left|\\left(\\delta - \\frac{l}{2^{t}}\\right)\\right| }\\right)^{2}\\right)$"
      ]
     },
     "execution_count": 46,
     "metadata": {},
     "output_type": "execute_result"
    }
   ],
   "source": [
    "X25 = squarePosIneq.specialize({a:alpha_l}).specialize({b:X24.rhs})\n",
    "X25.proven(assumptions)"
   ]
  },
  {
   "cell_type": "code",
   "execution_count": 47,
   "metadata": {
    "collapsed": false
   },
   "outputs": [
    {
     "data": {
      "text/plain": [
       "$\\left(\\left|\\alpha_{l}\\right|^{2}\\right) \\leq \\frac{1^{2}}{\\left( \\left(2^{ t + 1 }\\right) \\cdot \\left|\\left(\\delta - \\frac{l}{2^{t}}\\right)\\right| \\right)^{2}}$"
      ]
     },
     "execution_count": 47,
     "metadata": {},
     "output_type": "execute_result"
    }
   ],
   "source": [
    "X26 = X25.rhs.distributeExponent(assumptions=assumptions).subRightSideInto(X25)\n",
    "X26.proven(assumptions)"
   ]
  },
  {
   "cell_type": "code",
   "execution_count": 49,
   "metadata": {
    "collapsed": false
   },
   "outputs": [
    {
     "data": {
      "text/plain": [
       "$\\left|\\left(\\delta - \\frac{l}{2^{t}}\\right)\\right| \\in \\mathbb{C}$"
      ]
     },
     "execution_count": 49,
     "metadata": {},
     "output_type": "execute_result"
    }
   ],
   "source": [
    "deduceInComplexes(Abs(Subtract(delta_,Fraction(l,Exponentiate(two,t_)))), assumptions)"
   ]
  },
  {
   "cell_type": "code",
   "execution_count": 50,
   "metadata": {
    "collapsed": false
   },
   "outputs": [
    {
     "data": {
      "text/plain": [
       "$\\forall_{ n  \\in \\mathbb{N}^+} \\left[\\forall_{ a , b  \\in \\mathbb{C}} \\left(\\left(\\left( a \\cdot b \\right)^{n}\\right) = \\left( \\left(a^{n}\\right) \\cdot \\left(b^{n}\\right) \\right)\\right)\\right]$"
      ]
     },
     "execution_count": 50,
     "metadata": {},
     "output_type": "execute_result"
    }
   ],
   "source": [
    "natsPosPowOfProd"
   ]
  },
  {
   "cell_type": "code",
   "execution_count": 51,
   "metadata": {
    "collapsed": false
   },
   "outputs": [
    {
     "data": {
      "text/plain": [
       "$\\left(\\left|\\alpha_{l}\\right|^{2}\\right) \\leq \\frac{1^{2}}{ \\left(\\left(\\left(2^{ t + 1 }\\right)\\right)^{2}\\right) \\cdot \\left(\\left|\\left(\\delta - \\frac{l}{2^{t}}\\right)\\right|^{2}\\right) }$"
      ]
     },
     "execution_count": 51,
     "metadata": {},
     "output_type": "execute_result"
    }
   ],
   "source": [
    "aSub = Exponentiate(two,Add(t_,one))\n",
    "bSub = Abs(Subtract(delta_,Fraction(l,Exponentiate(two,t_))))\n",
    "X27 = natsPosPowOfProd.specialize({n:two}).specialize({a:aSub, b:bSub}).subRightSideInto(X26)\n",
    "X27.proven(assumptions)"
   ]
  },
  {
   "cell_type": "code",
   "execution_count": 52,
   "metadata": {
    "collapsed": false
   },
   "outputs": [
    {
     "data": {
      "text/plain": [
       "$\\left(\\left|\\alpha_{l}\\right|^{2}\\right) \\leq \\frac{1}{ \\left(\\left(\\left(2^{ t + 1 }\\right)\\right)^{2}\\right) \\cdot \\left(\\left|\\left(\\delta - \\frac{l}{2^{t}}\\right)\\right|^{2}\\right) }$"
      ]
     },
     "execution_count": 52,
     "metadata": {},
     "output_type": "execute_result"
    }
   ],
   "source": [
    "X28 = expOne.specialize({x:two}).subRightSideInto(X27)\n",
    "X28.proven(assumptions)"
   ]
  },
  {
   "cell_type": "code",
   "execution_count": 53,
   "metadata": {
    "collapsed": false
   },
   "outputs": [
    {
     "data": {
      "text/plain": [
       "$\\forall_{ n  \\in \\mathbb{Z}} \\left[\\forall_{ a , b  \\in \\mathbb{C}~|~ \\left(a \\neq 0\\right) } \\left(\\left(\\left(\\left(a^{b}\\right)\\right)^{n}\\right) = \\left(a^{ b \\cdot n }\\right)\\right)\\right]$"
      ]
     },
     "execution_count": 53,
     "metadata": {},
     "output_type": "execute_result"
    }
   ],
   "source": [
    "intPowOfPow"
   ]
  },
  {
   "cell_type": "code",
   "execution_count": 54,
   "metadata": {
    "collapsed": false
   },
   "outputs": [
    {
     "data": {
      "text/plain": [
       "$\\left(\\left|\\alpha_{l}\\right|^{2}\\right) \\leq \\frac{1}{ \\left(2^{ \\left( t + 1 \\right) \\cdot 2 }\\right) \\cdot \\left(\\left|\\left(\\delta - \\frac{l}{2^{t}}\\right)\\right|^{2}\\right) }$"
      ]
     },
     "execution_count": 54,
     "metadata": {},
     "output_type": "execute_result"
    }
   ],
   "source": [
    "deduceNotZero(two)\n",
    "deduceInIntegers(two)\n",
    "deduceInComplexes([two, Add(t_,one)])\n",
    "X29 = intPowOfPow.specialize({n:two}).specialize({a:two,b:Add(t_,one)}).subRightSideInto(X28)\n",
    "X29.proven(assumptions)"
   ]
  },
  {
   "cell_type": "code",
   "execution_count": 55,
   "metadata": {
    "collapsed": false
   },
   "outputs": [
    {
     "data": {
      "text/plain": [
       "$\\left(\\left|\\alpha_{l}\\right|^{2}\\right) \\leq \\frac{1}{ \\left(2^{ \\left( t \\cdot 2 \\right) + \\left( 1 \\cdot 2 \\right) }\\right) \\cdot \\left(\\left|\\left(\\delta - \\frac{l}{2^{t}}\\right)\\right|^{2}\\right) }$"
      ]
     },
     "execution_count": 55,
     "metadata": {},
     "output_type": "execute_result"
    }
   ],
   "source": [
    "X30 = X29.rhs.denominator.factors[0].exponent.distribute(0).subRightSideInto(X29)\n",
    "X30.proven(assumptions)"
   ]
  },
  {
   "cell_type": "code",
   "execution_count": 56,
   "metadata": {
    "collapsed": false
   },
   "outputs": [
    {
     "data": {
      "text/plain": [
       "$\\left(\\left|\\alpha_{l}\\right|^{2}\\right) \\leq \\frac{1}{ \\left(2^{ \\left( t \\cdot 2 \\right) + 2 }\\right) \\cdot \\left(\\left|\\left(\\delta - \\frac{l}{2^{t}}\\right)\\right|^{2}\\right) }$"
      ]
     },
     "execution_count": 56,
     "metadata": {},
     "output_type": "execute_result"
    }
   ],
   "source": [
    "X31 = multOne.specialize({x:two}).subRightSideInto(X30)\n",
    "X31.proven(assumptions)"
   ]
  },
  {
   "cell_type": "code",
   "execution_count": 57,
   "metadata": {
    "collapsed": false
   },
   "outputs": [
    {
     "data": {
      "text/plain": [
       "$\\left( t \\cdot 2 \\right) \\in \\mathbb{C}$"
      ]
     },
     "execution_count": 57,
     "metadata": {},
     "output_type": "execute_result"
    }
   ],
   "source": [
    "deduceInComplexes(Multiply(t_,two),assumptions)"
   ]
  },
  {
   "cell_type": "code",
   "execution_count": 58,
   "metadata": {
    "collapsed": false
   },
   "outputs": [
    {
     "data": {
      "text/plain": [
       "$\\left(\\left|\\alpha_{l}\\right|^{2}\\right) \\leq \\frac{1}{ \\left( \\left(2^{ t \\cdot 2 }\\right) \\cdot \\left(2^{2}\\right) \\right) \\cdot \\left(\\left|\\left(\\delta - \\frac{l}{2^{t}}\\right)\\right|^{2}\\right) }$"
      ]
     },
     "execution_count": 58,
     "metadata": {},
     "output_type": "execute_result"
    }
   ],
   "source": [
    "X32 = sumInPow.specialize({a:two,b:Multiply(t_,two),c:two}).subRightSideInto(X31)\n",
    "X32.proven(assumptions)"
   ]
  },
  {
   "cell_type": "code",
   "execution_count": 59,
   "metadata": {
    "collapsed": false
   },
   "outputs": [
    {
     "data": {
      "text/plain": [
       "$\\left(\\left|\\alpha_{l}\\right|^{2}\\right) \\leq \\frac{1}{ \\left( \\left(2^{ t \\cdot 2 }\\right) \\cdot \\left(2^{2}\\right) \\right) \\cdot \\left(\\left(\\delta - \\frac{l}{2^{t}}\\right)^{2}\\right) }$"
      ]
     },
     "execution_count": 59,
     "metadata": {},
     "output_type": "execute_result"
    }
   ],
   "source": [
    "X33 = squarePosEq.specialize({a:Subtract(delta_,Fraction(l,Exponentiate(two,t_)))}).subRightSideInto(X32)\n",
    "X33.proven(assumptions)"
   ]
  },
  {
   "cell_type": "code",
   "execution_count": 60,
   "metadata": {
    "collapsed": false
   },
   "outputs": [
    {
     "data": {
      "text/plain": [
       "$\\delta \\in \\mathbb{C}$"
      ]
     },
     "execution_count": 60,
     "metadata": {},
     "output_type": "execute_result"
    }
   ],
   "source": [
    "deduceInComplexes(Fraction(l,Exponentiate(two,t_)),assumptions)\n",
    "deduceInComplexes(delta_,assumptions)"
   ]
  },
  {
   "cell_type": "code",
   "execution_count": 61,
   "metadata": {
    "collapsed": false
   },
   "outputs": [
    {
     "data": {
      "text/plain": [
       "$\\left(\\left|\\alpha_{l}\\right|^{2}\\right) \\leq \\frac{1}{ \\left( \\left(2^{ t \\cdot 2 }\\right) \\cdot \\left(2^{2}\\right) \\right) \\cdot \\left(\\left(\\frac{l}{2^{t}} - \\delta\\right)^{2}\\right) }$"
      ]
     },
     "execution_count": 61,
     "metadata": {},
     "output_type": "execute_result"
    }
   ],
   "source": [
    "X34 = diffSquareComm.specialize({a:delta_,b:Fraction(l,Exponentiate(two,t_))}).subRightSideInto(X33) \n",
    "X34.proven(assumptions)"
   ]
  },
  {
   "cell_type": "code",
   "execution_count": 62,
   "metadata": {
    "collapsed": false
   },
   "outputs": [
    {
     "data": {
      "text/plain": [
       "$\\left(\\left|\\alpha_{l}\\right|^{2}\\right) \\leq \\frac{1}{ \\left( \\left(\\left(\\left(2^{t}\\right)\\right)^{2}\\right) \\cdot \\left(2^{2}\\right) \\right) \\cdot \\left(\\left(\\frac{l}{2^{t}} - \\delta\\right)^{2}\\right) }$"
      ]
     },
     "execution_count": 62,
     "metadata": {},
     "output_type": "execute_result"
    }
   ],
   "source": [
    "X35 = intPowOfPow.specialize({n:two}).specialize({a:two,b:t_}).subLeftSideInto(X34)\n",
    "X35.proven(assumptions)"
   ]
  },
  {
   "cell_type": "code",
   "execution_count": 63,
   "metadata": {
    "collapsed": false
   },
   "outputs": [
    {
     "data": {
      "text/plain": [
       "$\\frac{1}{ \\left( \\left(\\left(\\left(2^{t}\\right)\\right)^{2}\\right) \\cdot \\left(2^{2}\\right) \\right) \\cdot \\left(\\left(\\frac{l}{2^{t}} - \\delta\\right)^{2}\\right) } \\in \\mathbb{C}$"
      ]
     },
     "execution_count": 63,
     "metadata": {},
     "output_type": "execute_result"
    }
   ],
   "source": [
    "deduceInComplexes(X35.rhs, assumptions)"
   ]
  },
  {
   "cell_type": "code",
   "execution_count": 64,
   "metadata": {
    "collapsed": false
   },
   "outputs": [
    {
     "data": {
      "text/plain": [
       "$\\left(\\left(\\frac{l}{2^{t}} - \\delta\\right)^{2}\\right) \\in \\mathbb{C}$"
      ]
     },
     "execution_count": 64,
     "metadata": {},
     "output_type": "execute_result"
    }
   ],
   "source": [
    "deduceInComplexes(X35.rhs.denominator.operands[0].operands[0],assumptions)\n",
    "deduceInComplexes(X35.rhs.denominator.operands[0].operands[1],assumptions)\n",
    "deduceInComplexes(X35.rhs.denominator.operands[1],assumptions)"
   ]
  },
  {
   "cell_type": "code",
   "execution_count": 65,
   "metadata": {
    "collapsed": false
   },
   "outputs": [
    {
     "data": {
      "text/plain": [
       "$\\left(\\left|\\alpha_{l}\\right|^{2}\\right) \\leq \\frac{1}{ \\left(\\left(\\left(2^{t}\\right)\\right)^{2}\\right) \\cdot \\left(2^{2}\\right) \\cdot \\left(\\left(\\frac{l}{2^{t}} - \\delta\\right)^{2}\\right) }$"
      ]
     },
     "execution_count": 65,
     "metadata": {},
     "output_type": "execute_result"
    }
   ],
   "source": [
    "X36 = multAssoc.specialize({xEtc:[],\n",
    "                      yEtc:X35.rhs.denominator.operands[0].operands,\n",
    "                      zEtc:X35.rhs.denominator.operands[1]}).subLeftSideInto(X35).proven(assumptions)\n",
    "X36"
   ]
  },
  {
   "cell_type": "code",
   "execution_count": 66,
   "metadata": {
    "collapsed": false
   },
   "outputs": [
    {
     "data": {
      "text/plain": [
       "$\\left(\\left|\\alpha_{l}\\right|^{2}\\right) \\leq \\frac{1}{ \\left(2^{2}\\right) \\cdot \\left(\\left(\\left(2^{t}\\right)\\right)^{2}\\right) \\cdot \\left(\\left(\\frac{l}{2^{t}} - \\delta\\right)^{2}\\right) }$"
      ]
     },
     "execution_count": 66,
     "metadata": {},
     "output_type": "execute_result"
    }
   ],
   "source": [
    "X37 = X36.rhs.denominator.commute(0,1,1,2,assumptions).subRightSideInto(X36).proven(assumptions)\n",
    "X37"
   ]
  },
  {
   "cell_type": "code",
   "execution_count": 67,
   "metadata": {
    "collapsed": false
   },
   "outputs": [
    {
     "data": {
      "text/plain": [
       "$\\left(\\left|\\alpha_{l}\\right|^{2}\\right) \\leq \\frac{1}{ \\left(2^{2}\\right) \\cdot \\left( \\left(\\left(\\left(2^{t}\\right)\\right)^{2}\\right) \\cdot \\left(\\left(\\frac{l}{2^{t}} - \\delta\\right)^{2}\\right) \\right) }$"
      ]
     },
     "execution_count": 67,
     "metadata": {},
     "output_type": "execute_result"
    }
   ],
   "source": [
    "X38 = X37.rhs.denominator.group(1,assumptions=assumptions).subRightSideInto(X37).proven(assumptions)\n",
    "X38"
   ]
  },
  {
   "cell_type": "code",
   "execution_count": 68,
   "metadata": {
    "collapsed": false
   },
   "outputs": [
    {
     "data": {
      "text/plain": [
       "$\\left(2^{t}\\right) \\in \\mathbb{C}$"
      ]
     },
     "execution_count": 68,
     "metadata": {},
     "output_type": "execute_result"
    }
   ],
   "source": [
    "deduceInComplexes(Exponentiate(two,t_))"
   ]
  },
  {
   "cell_type": "code",
   "execution_count": 69,
   "metadata": {
    "collapsed": false
   },
   "outputs": [
    {
     "data": {
      "text/plain": [
       "$\\left(\\frac{l}{2^{t}} - \\delta\\right) \\in \\mathbb{C}$"
      ]
     },
     "execution_count": 69,
     "metadata": {},
     "output_type": "execute_result"
    }
   ],
   "source": [
    "deduceInComplexes(Subtract(\n",
    "                Fraction(l,Exponentiate(two,t_))\n",
    "                ,delta_), assumptions)"
   ]
  },
  {
   "cell_type": "code",
   "execution_count": 70,
   "metadata": {
    "collapsed": false
   },
   "outputs": [],
   "source": [
    "X39 = X38.rhs.denominator.factors[1].combineExponents(assumptions=assumptions).subRightSideInto(X38).proven(assumptions)"
   ]
  },
  {
   "cell_type": "code",
   "execution_count": 71,
   "metadata": {
    "collapsed": false
   },
   "outputs": [
    {
     "data": {
      "text/plain": [
       "$\\left(\\left|\\alpha_{l}\\right|^{2}\\right) \\leq \\frac{1}{ \\left(2^{2}\\right) \\cdot \\left(\\left( \\left(\\frac{l}{2^{t}} - \\delta\\right) \\cdot \\left(2^{t}\\right) \\right)^{2}\\right) }$"
      ]
     },
     "execution_count": 71,
     "metadata": {},
     "output_type": "execute_result"
    }
   ],
   "source": [
    "X40 = X39.rhs.denominator.operands[1].base.commute(assumptions=assumptions).subRightSideInto(X39).proven(assumptions)\n",
    "X40"
   ]
  },
  {
   "cell_type": "code",
   "execution_count": 72,
   "metadata": {
    "collapsed": false
   },
   "outputs": [
    {
     "data": {
      "text/plain": [
       "$\\left(\\left|\\alpha_{l}\\right|^{2}\\right) \\leq \\frac{1}{ \\left(2^{2}\\right) \\cdot \\left(\\left(\\left( \\frac{l}{2^{t}} \\cdot \\left(2^{t}\\right) \\right) - \\left( \\delta \\cdot \\left(2^{t}\\right) \\right)\\right)^{2}\\right) }$"
      ]
     },
     "execution_count": 72,
     "metadata": {},
     "output_type": "execute_result"
    }
   ],
   "source": [
    "X41 = X40.rhs.denominator.factors[1].base.distribute(0, assumptions=assumptions).subRightSideInto(X40)\n",
    "X41.proven(assumptions)"
   ]
  },
  {
   "cell_type": "code",
   "execution_count": 73,
   "metadata": {
    "collapsed": false
   },
   "outputs": [
    {
     "data": {
      "text/plain": [
       "$l \\in \\mathbb{C}$"
      ]
     },
     "execution_count": 73,
     "metadata": {},
     "output_type": "execute_result"
    }
   ],
   "source": [
    "deduceInComplexes(l,assumptions)"
   ]
  },
  {
   "cell_type": "code",
   "execution_count": 74,
   "metadata": {
    "collapsed": false
   },
   "outputs": [
    {
     "data": {
      "text/plain": [
       "$\\left(\\left|\\alpha_{l}\\right|^{2}\\right) \\leq \\frac{1}{ \\left(2^{2}\\right) \\cdot \\left(\\left(l - \\left( \\delta \\cdot \\left(2^{t}\\right) \\right)\\right)^{2}\\right) }$"
      ]
     },
     "execution_count": 74,
     "metadata": {},
     "output_type": "execute_result"
    }
   ],
   "source": [
    "X42 = fracCancel4.specialize({x:l,y:Exponentiate(two,t_)}).subRightSideInto(X41)\n",
    "X42.proven(assumptions)"
   ]
  },
  {
   "cell_type": "code",
   "execution_count": 75,
   "metadata": {
    "collapsed": false
   },
   "outputs": [
    {
     "data": {
      "text/plain": [
       "$\\left(\\left|\\alpha_{l}\\right|^{2}\\right) \\leq \\frac{1}{ 4 \\cdot \\left(\\left(l - \\left( \\delta \\cdot \\left(2^{t}\\right) \\right)\\right)^{2}\\right) }$"
      ]
     },
     "execution_count": 75,
     "metadata": {},
     "output_type": "execute_result"
    }
   ],
   "source": [
    "X43 = twoSquared.specialize({}).subRightSideInto(X42)\n",
    "X43.proven(assumptions)"
   ]
  },
  {
   "cell_type": "code",
   "execution_count": 76,
   "metadata": {
    "collapsed": false
   },
   "outputs": [
    {
     "data": {
      "text/plain": [
       "$\\left(\\left|\\alpha_{l}\\right|^{2}\\right) \\leq \\frac{1}{ 4 \\cdot \\left(\\left(l - \\left( \\left(2^{t}\\right) \\cdot \\delta \\right)\\right)^{2}\\right) }$"
      ]
     },
     "execution_count": 76,
     "metadata": {},
     "output_type": "execute_result"
    }
   ],
   "source": [
    "X44 = X43.rhs.denominator.operands[1].base.operands[1].commute(assumptions=assumptions).subRightSideInto(X43).proven(assumptions)\n",
    "X44"
   ]
  },
  {
   "cell_type": "code",
   "execution_count": 77,
   "metadata": {
    "collapsed": false
   },
   "outputs": [
    {
     "name": "stdout",
     "output_type": "stream",
     "text": [
      "root $\\forall_{ l  \\in \\{\\left( \\left(-\\left(2^{t - 1}\\right)\\right) + 1 \\right)\\ldots \\left(2^{t - 1}\\right)\\}~|~ \\left(l \\neq 0\\right) } \\left(\\left(\\left|\\alpha_{l}\\right|^{2}\\right) \\leq \\frac{1}{ 4 \\cdot \\left(\\left(l - \\left( \\left(2^{t}\\right) \\cdot \\delta \\right)\\right)^{2}\\right) }\\right)$ \n",
      "  generalizing $\\left(\\left|\\alpha_{l}\\right|^{2}\\right) \\leq \\frac{1}{ 4 \\cdot \\left(\\left(l - \\left( \\left(2^{t}\\right) \\cdot \\delta \\right)\\right)^{2}\\right) }$  assuming $l \\neq 0$, $l \\in \\{\\left( \\left(-\\left(2^{t - 1}\\right)\\right) + 1 \\right)\\ldots \\left(2^{t - 1}\\right)\\}$ \n",
      "    implication $\\left(\\left(\\left|\\alpha_{l}\\right|^{2}\\right) \\leq \\frac{1}{ 4 \\cdot \\left(\\left(l - \\left( \\delta \\cdot \\left(2^{t}\\right) \\right)\\right)^{2}\\right) }\\right) \\Rightarrow \\left(\\left(\\left|\\alpha_{l}\\right|^{2}\\right) \\leq \\frac{1}{ 4 \\cdot \\left(\\left(l - \\left( \\left(2^{t}\\right) \\cdot \\delta \\right)\\right)^{2}\\right) }\\right)$ \n",
      "      implication $\\left(\\left( \\delta \\cdot \\left(2^{t}\\right) \\right) = \\left( \\left(2^{t}\\right) \\cdot \\delta \\right)\\right) \\Rightarrow \\left(\\left(\\left(\\left|\\alpha_{l}\\right|^{2}\\right) \\leq \\frac{1}{ 4 \\cdot \\left(\\left(l - \\left( \\delta \\cdot \\left(2^{t}\\right) \\right)\\right)^{2}\\right) }\\right) \\Rightarrow \\left(\\left(\\left|\\alpha_{l}\\right|^{2}\\right) \\leq \\frac{1}{ 4 \\cdot \\left(\\left(l - \\left( \\left(2^{t}\\right) \\cdot \\delta \\right)\\right)^{2}\\right) }\\right)\\right)$ \n",
      "        specializing $\\forall_{ P , x , y } \\left(\\left(x = y\\right) \\Rightarrow \\left(P\\left( x \\right) \\Rightarrow P\\left( y \\right)\\right)\\right)$ \n",
      "          by theorem proveit.basiclogic.equality.rhsSubstitution\n",
      "      hypothesis $\\left( \\delta \\cdot \\left(2^{t}\\right) \\right) = \\left( \\left(2^{t}\\right) \\cdot \\delta \\right)$ \n",
      "        specializing $\\forall_{~.., v_{\\Box} ,..., w_{\\Box} ,..., x_{\\Box} ,..., y_{\\Box} ,..., z_{\\Box} ,..~ \\in \\mathbb{C}} \\left(\\left(~..\\cdot v_{\\Box} \\cdot...\\cdot w_{\\Box} \\cdot...\\cdot x_{\\Box} \\cdot...\\cdot y_{\\Box} \\cdot...\\cdot z_{\\Box} \\cdot..~\\right) = \\left(~..\\cdot v_{\\Box} \\cdot...\\cdot y_{\\Box} \\cdot...\\cdot x_{\\Box} \\cdot...\\cdot w_{\\Box} \\cdot...\\cdot z_{\\Box} \\cdot..~\\right)\\right)$ \n",
      "          by theorem proveit.number.complex.multComm\n",
      "        condition $\\delta \\in \\mathbb{C}$ \n",
      "          specializing $\\forall_{ a  \\in \\mathbb{R}} \\left(a \\in \\mathbb{C}\\right)$ \n",
      "            by theorem proveit.number.real.inComplexes\n",
      "          condition $\\delta \\in \\mathbb{R}$ \n",
      "            by theorem proveit.physics.quantum.QPE.deltaInReals\n",
      "        condition $\\left(2^{t}\\right) \\in \\mathbb{C}$ \n",
      "          specializing $\\forall_{ a  \\in \\mathbb{N}^+} \\left(a \\in \\mathbb{C}\\right)$ \n",
      "            by theorem proveit.number.natural.inNatPos_inComplexes\n",
      "          condition $\\left(2^{t}\\right) \\in \\mathbb{N}^+$ \n",
      "            specializing $\\forall_{ a , b  \\in \\mathbb{N}~|~ \\left(a \\neq 0\\right) } \\left(\\left(a^{b}\\right) \\in \\mathbb{N}^+\\right)$ \n",
      "              by theorem proveit.number.natural.powClosure\n",
      "            condition $2 \\neq 0$ \n",
      "              specializing $\\forall_{ a  \\in \\mathbb{R}~|~ \\left(a > 0\\right) } \\left(a \\neq 0\\right)$ \n",
      "                by theorem proveit.number.real.positive_implies_notzero\n",
      "              condition $2 \\in \\mathbb{R}$ \n",
      "                specializing $\\forall_{ a  \\in \\mathbb{N}^+} \\left(a \\in \\mathbb{R}\\right)$ \n",
      "                  by theorem proveit.number.natural.inNatPos_inReals\n",
      "                condition $2 \\in \\mathbb{N}^+$ \n",
      "                  by theorem proveit.number.natural.twoInNaturalsPos\n",
      "              condition $2 > 0$ \n",
      "                implication $\\left(2 \\in \\mathbb{R}^+\\right) \\Rightarrow \\left(2 > 0\\right)$ \n",
      "                  implication $\\left(\\left(2 \\in \\mathbb{R}^+\\right) \\Leftrightarrow \\left(2 > 0\\right)\\right) \\Rightarrow \\left(\\left(2 \\in \\mathbb{R}^+\\right) \\Rightarrow \\left(2 > 0\\right)\\right)$ \n",
      "                    specializing $\\forall_{ A , B } \\left(\\left(A \\Leftrightarrow B\\right) \\Rightarrow \\left(A \\Rightarrow B\\right)\\right)$ \n",
      "                      by theorem proveit.basiclogic.boolean.iffImpliesRight\n",
      "                  hypothesis $\\left(2 \\in \\mathbb{R}^+\\right) \\Leftrightarrow \\left(2 > 0\\right)$ \n",
      "                    specializing $\\forall_{ a  \\in \\mathbb{R}} \\left(\\left(a \\in \\mathbb{R}^+\\right) \\Leftrightarrow \\left(a > 0\\right)\\right)$ \n",
      "                      by theorem proveit.number.real.inRealsPos_iff_positive\n",
      "                    condition $2 \\in \\mathbb{R}$  proven above\n",
      "                hypothesis $2 \\in \\mathbb{R}^+$ \n",
      "                  specializing $\\forall_{ a  \\in \\mathbb{N}^+} \\left(a \\in \\mathbb{R}^+\\right)$ \n",
      "                    by theorem proveit.number.natural.inNatPos_inRealsPos\n",
      "                  condition $2 \\in \\mathbb{N}^+$  proven above\n",
      "            condition $2 \\in \\mathbb{N}$ \n",
      "              specializing $\\forall_{ a  \\in \\mathbb{N}^+} \\left(a \\in \\mathbb{N}\\right)$ \n",
      "                by theorem proveit.number.natural.inNatPos_inNaturals\n",
      "              condition $2 \\in \\mathbb{N}^+$  proven above\n",
      "            condition $t \\in \\mathbb{N}$ \n",
      "              specializing $\\forall_{ a  \\in \\mathbb{N}^+} \\left(a \\in \\mathbb{N}\\right)$  proven above\n",
      "              condition $t \\in \\mathbb{N}^+$ \n",
      "                by axiom proveit.physics.quantum.QPE.tInNaturalsPos\n",
      "    hypothesis $\\left(\\left|\\alpha_{l}\\right|^{2}\\right) \\leq \\frac{1}{ 4 \\cdot \\left(\\left(l - \\left( \\delta \\cdot \\left(2^{t}\\right) \\right)\\right)^{2}\\right) }$  assuming $l \\neq 0$, $l \\in \\{\\left( \\left(-\\left(2^{t - 1}\\right)\\right) + 1 \\right)\\ldots \\left(2^{t - 1}\\right)\\}$ \n",
      "      implication $\\left(\\left(\\left|\\alpha_{l}\\right|^{2}\\right) \\leq \\frac{1}{ \\left(2^{2}\\right) \\cdot \\left(\\left(l - \\left( \\delta \\cdot \\left(2^{t}\\right) \\right)\\right)^{2}\\right) }\\right) \\Rightarrow \\left(\\left(\\left|\\alpha_{l}\\right|^{2}\\right) \\leq \\frac{1}{ 4 \\cdot \\left(\\left(l - \\left( \\delta \\cdot \\left(2^{t}\\right) \\right)\\right)^{2}\\right) }\\right)$ \n",
      "        implication $\\left(\\left(2^{2}\\right) = 4\\right) \\Rightarrow \\left(\\left(\\left(\\left|\\alpha_{l}\\right|^{2}\\right) \\leq \\frac{1}{ \\left(2^{2}\\right) \\cdot \\left(\\left(l - \\left( \\delta \\cdot \\left(2^{t}\\right) \\right)\\right)^{2}\\right) }\\right) \\Rightarrow \\left(\\left(\\left|\\alpha_{l}\\right|^{2}\\right) \\leq \\frac{1}{ 4 \\cdot \\left(\\left(l - \\left( \\delta \\cdot \\left(2^{t}\\right) \\right)\\right)^{2}\\right) }\\right)\\right)$ \n",
      "          specializing $\\forall_{ P , x , y } \\left(\\left(x = y\\right) \\Rightarrow \\left(P\\left( x \\right) \\Rightarrow P\\left( y \\right)\\right)\\right)$  proven above\n",
      "        hypothesis $\\left(2^{2}\\right) = 4$ \n",
      "          by theorem proveit.number.natural.twoSquared\n",
      "      hypothesis $\\left(\\left|\\alpha_{l}\\right|^{2}\\right) \\leq \\frac{1}{ \\left(2^{2}\\right) \\cdot \\left(\\left(l - \\left( \\delta \\cdot \\left(2^{t}\\right) \\right)\\right)^{2}\\right) }$  assuming $l \\neq 0$, $l \\in \\{\\left( \\left(-\\left(2^{t - 1}\\right)\\right) + 1 \\right)\\ldots \\left(2^{t - 1}\\right)\\}$ \n",
      "        implication $\\left(\\left(\\left|\\alpha_{l}\\right|^{2}\\right) \\leq \\frac{1}{ \\left(2^{2}\\right) \\cdot \\left(\\left(\\left( \\frac{l}{2^{t}} \\cdot \\left(2^{t}\\right) \\right) - \\left( \\delta \\cdot \\left(2^{t}\\right) \\right)\\right)^{2}\\right) }\\right) \\Rightarrow \\left(\\left(\\left|\\alpha_{l}\\right|^{2}\\right) \\leq \\frac{1}{ \\left(2^{2}\\right) \\cdot \\left(\\left(l - \\left( \\delta \\cdot \\left(2^{t}\\right) \\right)\\right)^{2}\\right) }\\right)$  assuming $l \\neq 0$, $l \\in \\{\\left( \\left(-\\left(2^{t - 1}\\right)\\right) + 1 \\right)\\ldots \\left(2^{t - 1}\\right)\\}$ \n",
      "          implication $\\left(\\left( \\frac{l}{2^{t}} \\cdot \\left(2^{t}\\right) \\right) = l\\right) \\Rightarrow \\left(\\left(\\left(\\left|\\alpha_{l}\\right|^{2}\\right) \\leq \\frac{1}{ \\left(2^{2}\\right) \\cdot \\left(\\left(\\left( \\frac{l}{2^{t}} \\cdot \\left(2^{t}\\right) \\right) - \\left( \\delta \\cdot \\left(2^{t}\\right) \\right)\\right)^{2}\\right) }\\right) \\Rightarrow \\left(\\left(\\left|\\alpha_{l}\\right|^{2}\\right) \\leq \\frac{1}{ \\left(2^{2}\\right) \\cdot \\left(\\left(l - \\left( \\delta \\cdot \\left(2^{t}\\right) \\right)\\right)^{2}\\right) }\\right)\\right)$ \n",
      "            specializing $\\forall_{ P , x , y } \\left(\\left(x = y\\right) \\Rightarrow \\left(P\\left( x \\right) \\Rightarrow P\\left( y \\right)\\right)\\right)$  proven above\n",
      "          hypothesis $\\left( \\frac{l}{2^{t}} \\cdot \\left(2^{t}\\right) \\right) = l$  assuming $l \\neq 0$, $l \\in \\{\\left( \\left(-\\left(2^{t - 1}\\right)\\right) + 1 \\right)\\ldots \\left(2^{t - 1}\\right)\\}$ \n",
      "            specializing $\\forall_{ x , y  \\in \\mathbb{C}~|~ \\left(y \\neq 0\\right) } \\left(\\left( \\frac{x}{y} \\cdot y \\right) = x\\right)$ \n",
      "              by theorem proveit.number.complex.fracCancel4\n",
      "            condition $l \\in \\mathbb{C}$  assuming $l \\neq 0$, $l \\in \\{\\left( \\left(-\\left(2^{t - 1}\\right)\\right) + 1 \\right)\\ldots \\left(2^{t - 1}\\right)\\}$ \n",
      "              specializing $\\forall_{ a  \\in \\mathbb{Z}} \\left(a \\in \\mathbb{C}\\right)$ \n",
      "                by theorem proveit.number.integer.inComplexes\n",
      "              condition $l \\in \\mathbb{Z}$  assuming $l \\neq 0$, $l \\in \\{\\left( \\left(-\\left(2^{t - 1}\\right)\\right) + 1 \\right)\\ldots \\left(2^{t - 1}\\right)\\}$ \n",
      "                specializing $\\forall_{ n  \\in \\{\\left( \\left(-\\left(2^{t - 1}\\right)\\right) + 1 \\right)\\ldots \\left(2^{t - 1}\\right)\\}} \\left(n \\in \\mathbb{Z}\\right)$ \n",
      "                  specializing $\\forall_{ a , b  \\in \\mathbb{Z}} \\left[\\forall_{ n  \\in \\{a\\ldots b\\}} \\left(n \\in \\mathbb{Z}\\right)\\right]$ \n",
      "                    by theorem proveit.number.integer.allInDiscreteInterval_InInts\n",
      "                  condition $\\left( \\left(-\\left(2^{t - 1}\\right)\\right) + 1 \\right) \\in \\mathbb{Z}$ \n",
      "                    specializing $\\forall_{~.., x_{\\Box} ,..~ \\in \\mathbb{Z}} \\left(\\left(~..+ x_{\\Box} +..~\\right) \\in \\mathbb{Z}\\right)$ \n",
      "                      by theorem proveit.number.integer.addClosure\n",
      "                    condition $1 \\in \\mathbb{Z}$ \n",
      "                      specializing $\\forall_{ a  \\in \\mathbb{N}^+} \\left(a \\in \\mathbb{Z}\\right)$ \n",
      "                        by theorem proveit.number.natural.inNatPos_inIntegers\n",
      "                      condition $1 \\in \\mathbb{N}^+$ \n",
      "                    condition $\\left(-\\left(2^{t - 1}\\right)\\right) \\in \\mathbb{Z}$ \n",
      "                      specializing $\\forall_{ a  \\in \\mathbb{Z}} \\left(\\left(-a\\right) \\in \\mathbb{Z}\\right)$ \n",
      "                        by theorem proveit.number.integer.negClosure\n",
      "                      condition $\\left(2^{t - 1}\\right) \\in \\mathbb{Z}$ \n",
      "                        specializing $\\forall_{ a  \\in \\mathbb{N}^+} \\left(a \\in \\mathbb{Z}\\right)$  proven above\n",
      "                        condition $\\left(2^{t - 1}\\right) \\in \\mathbb{N}^+$ \n",
      "                          by theorem proveit.physics.quantum.QPE.two_pow_tMinusOne_in_posnats\n",
      "                  condition $\\left(2^{t - 1}\\right) \\in \\mathbb{Z}$  proven above\n",
      "                condition $l \\in \\{\\left( \\left(-\\left(2^{t - 1}\\right)\\right) + 1 \\right)\\ldots \\left(2^{t - 1}\\right)\\}$  assuming $l \\in \\{\\left( \\left(-\\left(2^{t - 1}\\right)\\right) + 1 \\right)\\ldots \\left(2^{t - 1}\\right)\\}$ \n",
      "            condition $\\left(2^{t}\\right) \\neq 0$ \n",
      "              specializing $\\forall_{ a  \\in \\mathbb{R}~|~ \\left(a > 0\\right) } \\left(a \\neq 0\\right)$  proven above\n",
      "              condition $\\left(2^{t}\\right) > 0$ \n",
      "                implication $\\left(\\left(2^{t}\\right) \\in \\mathbb{R}^+\\right) \\Rightarrow \\left(\\left(2^{t}\\right) > 0\\right)$ \n",
      "                  implication $\\left(\\left(\\left(2^{t}\\right) \\in \\mathbb{R}^+\\right) \\Leftrightarrow \\left(\\left(2^{t}\\right) > 0\\right)\\right) \\Rightarrow \\left(\\left(\\left(2^{t}\\right) \\in \\mathbb{R}^+\\right) \\Rightarrow \\left(\\left(2^{t}\\right) > 0\\right)\\right)$ \n",
      "                    specializing $\\forall_{ A , B } \\left(\\left(A \\Leftrightarrow B\\right) \\Rightarrow \\left(A \\Rightarrow B\\right)\\right)$  proven above\n",
      "                  hypothesis $\\left(\\left(2^{t}\\right) \\in \\mathbb{R}^+\\right) \\Leftrightarrow \\left(\\left(2^{t}\\right) > 0\\right)$ \n",
      "                    specializing $\\forall_{ a  \\in \\mathbb{R}} \\left(\\left(a \\in \\mathbb{R}^+\\right) \\Leftrightarrow \\left(a > 0\\right)\\right)$  proven above\n",
      "                    condition $\\left(2^{t}\\right) \\in \\mathbb{R}$ \n",
      "                      specializing $\\forall_{ a  \\in \\mathbb{N}^+} \\left(a \\in \\mathbb{R}\\right)$  proven above\n",
      "                      condition $\\left(2^{t}\\right) \\in \\mathbb{N}^+$  proven above\n",
      "                hypothesis $\\left(2^{t}\\right) \\in \\mathbb{R}^+$ \n",
      "                  specializing $\\forall_{ a  \\in \\mathbb{N}^+} \\left(a \\in \\mathbb{R}^+\\right)$  proven above\n",
      "                  condition $\\left(2^{t}\\right) \\in \\mathbb{N}^+$  proven above\n",
      "              condition $\\left(2^{t}\\right) \\in \\mathbb{R}$  proven above\n",
      "            condition $\\left(2^{t}\\right) \\in \\mathbb{C}$  proven above\n",
      "        hypothesis $\\left(\\left|\\alpha_{l}\\right|^{2}\\right) \\leq \\frac{1}{ \\left(2^{2}\\right) \\cdot \\left(\\left(\\left( \\frac{l}{2^{t}} \\cdot \\left(2^{t}\\right) \\right) - \\left( \\delta \\cdot \\left(2^{t}\\right) \\right)\\right)^{2}\\right) }$  assuming $l \\neq 0$, $l \\in \\{\\left( \\left(-\\left(2^{t - 1}\\right)\\right) + 1 \\right)\\ldots \\left(2^{t - 1}\\right)\\}$ \n",
      "          implication $\\left(\\left(\\left|\\alpha_{l}\\right|^{2}\\right) \\leq \\frac{1}{ \\left(2^{2}\\right) \\cdot \\left(\\left( \\left(\\frac{l}{2^{t}} - \\delta\\right) \\cdot \\left(2^{t}\\right) \\right)^{2}\\right) }\\right) \\Rightarrow \\left(\\left(\\left|\\alpha_{l}\\right|^{2}\\right) \\leq \\frac{1}{ \\left(2^{2}\\right) \\cdot \\left(\\left(\\left( \\frac{l}{2^{t}} \\cdot \\left(2^{t}\\right) \\right) - \\left( \\delta \\cdot \\left(2^{t}\\right) \\right)\\right)^{2}\\right) }\\right)$  assuming $l \\neq 0$, $l \\in \\{\\left( \\left(-\\left(2^{t - 1}\\right)\\right) + 1 \\right)\\ldots \\left(2^{t - 1}\\right)\\}$ \n",
      "            implication $\\left(\\left( \\left(\\frac{l}{2^{t}} - \\delta\\right) \\cdot \\left(2^{t}\\right) \\right) = \\left(\\left( \\frac{l}{2^{t}} \\cdot \\left(2^{t}\\right) \\right) - \\left( \\delta \\cdot \\left(2^{t}\\right) \\right)\\right)\\right) \\Rightarrow \\left(\\left(\\left(\\left|\\alpha_{l}\\right|^{2}\\right) \\leq \\frac{1}{ \\left(2^{2}\\right) \\cdot \\left(\\left( \\left(\\frac{l}{2^{t}} - \\delta\\right) \\cdot \\left(2^{t}\\right) \\right)^{2}\\right) }\\right) \\Rightarrow \\left(\\left(\\left|\\alpha_{l}\\right|^{2}\\right) \\leq \\frac{1}{ \\left(2^{2}\\right) \\cdot \\left(\\left(\\left( \\frac{l}{2^{t}} \\cdot \\left(2^{t}\\right) \\right) - \\left( \\delta \\cdot \\left(2^{t}\\right) \\right)\\right)^{2}\\right) }\\right)\\right)$ \n",
      "              specializing $\\forall_{ P , x , y } \\left(\\left(x = y\\right) \\Rightarrow \\left(P\\left( x \\right) \\Rightarrow P\\left( y \\right)\\right)\\right)$  proven above\n",
      "            hypothesis $\\left( \\left(\\frac{l}{2^{t}} - \\delta\\right) \\cdot \\left(2^{t}\\right) \\right) = \\left(\\left( \\frac{l}{2^{t}} \\cdot \\left(2^{t}\\right) \\right) - \\left( \\delta \\cdot \\left(2^{t}\\right) \\right)\\right)$  assuming $l \\neq 0$, $l \\in \\{\\left( \\left(-\\left(2^{t - 1}\\right)\\right) + 1 \\right)\\ldots \\left(2^{t - 1}\\right)\\}$ \n",
      "              specializing $\\forall_{~.., w_{\\Box} ,..~, x , y ,~.., z_{\\Box} ,..~ \\in \\mathbb{C}} \\left(\\left(~..\\cdot w_{\\Box} \\cdot..~\\cdot \\left(x - y\\right) \\cdot~..\\cdot z_{\\Box} \\cdot..~\\right) = \\left(\\left(~..\\cdot w_{\\Box} \\cdot..~\\cdot x \\cdot~..\\cdot z_{\\Box} \\cdot..~\\right) - \\left(~..\\cdot w_{\\Box} \\cdot..~\\cdot y \\cdot~..\\cdot z_{\\Box} \\cdot..~\\right)\\right)\\right)$ \n",
      "                by theorem proveit.number.complex.distributeThroughSubtract\n",
      "              condition $\\delta \\in \\mathbb{C}$  proven above\n",
      "              condition $\\frac{l}{2^{t}} \\in \\mathbb{C}$  assuming $l \\neq 0$, $l \\in \\{\\left( \\left(-\\left(2^{t - 1}\\right)\\right) + 1 \\right)\\ldots \\left(2^{t - 1}\\right)\\}$ \n",
      "                specializing $\\forall_{ a  \\in \\mathbb{R}} \\left(a \\in \\mathbb{C}\\right)$  proven above\n",
      "                condition $\\frac{l}{2^{t}} \\in \\mathbb{R}$  assuming $l \\neq 0$, $l \\in \\{\\left( \\left(-\\left(2^{t - 1}\\right)\\right) + 1 \\right)\\ldots \\left(2^{t - 1}\\right)\\}$ \n",
      "                  specializing $\\forall_{ a , b  \\in \\mathbb{R}~|~ \\left(b \\neq 0\\right) } \\left(\\frac{a}{b} \\in \\mathbb{R}\\right)$ \n",
      "                    by theorem proveit.number.real.fractionClosure\n",
      "                  condition $\\left(2^{t}\\right) \\in \\mathbb{R}$  proven above\n",
      "                  condition $l \\in \\mathbb{R}$  assuming $l \\neq 0$, $l \\in \\{\\left( \\left(-\\left(2^{t - 1}\\right)\\right) + 1 \\right)\\ldots \\left(2^{t - 1}\\right)\\}$ \n",
      "                    specializing $\\forall_{ a  \\in \\mathbb{Z}} \\left(a \\in \\mathbb{R}\\right)$ \n",
      "                      by theorem proveit.number.integer.inReals\n",
      "                    condition $l \\in \\mathbb{Z}$  assuming $l \\neq 0$, $l \\in \\{\\left( \\left(-\\left(2^{t - 1}\\right)\\right) + 1 \\right)\\ldots \\left(2^{t - 1}\\right)\\}$  proven above\n",
      "                  condition $\\left(2^{t}\\right) \\neq 0$  proven above\n",
      "              condition $\\left(2^{t}\\right) \\in \\mathbb{C}$  proven above\n",
      "          hypothesis $\\left(\\left|\\alpha_{l}\\right|^{2}\\right) \\leq \\frac{1}{ \\left(2^{2}\\right) \\cdot \\left(\\left( \\left(\\frac{l}{2^{t}} - \\delta\\right) \\cdot \\left(2^{t}\\right) \\right)^{2}\\right) }$  assuming $l \\neq 0$, $l \\in \\{\\left( \\left(-\\left(2^{t - 1}\\right)\\right) + 1 \\right)\\ldots \\left(2^{t - 1}\\right)\\}$ \n",
      "            implication $\\left(\\left(\\left|\\alpha_{l}\\right|^{2}\\right) \\leq \\frac{1}{ \\left(2^{2}\\right) \\cdot \\left(\\left( \\left(2^{t}\\right) \\cdot \\left(\\frac{l}{2^{t}} - \\delta\\right) \\right)^{2}\\right) }\\right) \\Rightarrow \\left(\\left(\\left|\\alpha_{l}\\right|^{2}\\right) \\leq \\frac{1}{ \\left(2^{2}\\right) \\cdot \\left(\\left( \\left(\\frac{l}{2^{t}} - \\delta\\right) \\cdot \\left(2^{t}\\right) \\right)^{2}\\right) }\\right)$  assuming $l \\neq 0$, $l \\in \\{\\left( \\left(-\\left(2^{t - 1}\\right)\\right) + 1 \\right)\\ldots \\left(2^{t - 1}\\right)\\}$ \n",
      "              implication $\\left(\\left( \\left(2^{t}\\right) \\cdot \\left(\\frac{l}{2^{t}} - \\delta\\right) \\right) = \\left( \\left(\\frac{l}{2^{t}} - \\delta\\right) \\cdot \\left(2^{t}\\right) \\right)\\right) \\Rightarrow \\left(\\left(\\left(\\left|\\alpha_{l}\\right|^{2}\\right) \\leq \\frac{1}{ \\left(2^{2}\\right) \\cdot \\left(\\left( \\left(2^{t}\\right) \\cdot \\left(\\frac{l}{2^{t}} - \\delta\\right) \\right)^{2}\\right) }\\right) \\Rightarrow \\left(\\left(\\left|\\alpha_{l}\\right|^{2}\\right) \\leq \\frac{1}{ \\left(2^{2}\\right) \\cdot \\left(\\left( \\left(\\frac{l}{2^{t}} - \\delta\\right) \\cdot \\left(2^{t}\\right) \\right)^{2}\\right) }\\right)\\right)$ \n",
      "                specializing $\\forall_{ P , x , y } \\left(\\left(x = y\\right) \\Rightarrow \\left(P\\left( x \\right) \\Rightarrow P\\left( y \\right)\\right)\\right)$  proven above\n",
      "              hypothesis $\\left( \\left(2^{t}\\right) \\cdot \\left(\\frac{l}{2^{t}} - \\delta\\right) \\right) = \\left( \\left(\\frac{l}{2^{t}} - \\delta\\right) \\cdot \\left(2^{t}\\right) \\right)$  assuming $l \\neq 0$, $l \\in \\{\\left( \\left(-\\left(2^{t - 1}\\right)\\right) + 1 \\right)\\ldots \\left(2^{t - 1}\\right)\\}$ \n",
      "                specializing $\\forall_{~.., v_{\\Box} ,..., w_{\\Box} ,..., x_{\\Box} ,..., y_{\\Box} ,..., z_{\\Box} ,..~ \\in \\mathbb{C}} \\left(\\left(~..\\cdot v_{\\Box} \\cdot...\\cdot w_{\\Box} \\cdot...\\cdot x_{\\Box} \\cdot...\\cdot y_{\\Box} \\cdot...\\cdot z_{\\Box} \\cdot..~\\right) = \\left(~..\\cdot v_{\\Box} \\cdot...\\cdot y_{\\Box} \\cdot...\\cdot x_{\\Box} \\cdot...\\cdot w_{\\Box} \\cdot...\\cdot z_{\\Box} \\cdot..~\\right)\\right)$  proven above\n",
      "                condition $\\left(\\frac{l}{2^{t}} - \\delta\\right) \\in \\mathbb{C}$  assuming $l \\neq 0$, $l \\in \\{\\left( \\left(-\\left(2^{t - 1}\\right)\\right) + 1 \\right)\\ldots \\left(2^{t - 1}\\right)\\}$ \n",
      "                  specializing $\\forall_{ a  \\in \\mathbb{R}} \\left(a \\in \\mathbb{C}\\right)$  proven above\n",
      "                  condition $\\left(\\frac{l}{2^{t}} - \\delta\\right) \\in \\mathbb{R}$  assuming $l \\neq 0$, $l \\in \\{\\left( \\left(-\\left(2^{t - 1}\\right)\\right) + 1 \\right)\\ldots \\left(2^{t - 1}\\right)\\}$ \n",
      "                    specializing $\\forall_{ a , b  \\in \\mathbb{R}} \\left(\\left(a - b\\right) \\in \\mathbb{R}\\right)$ \n",
      "                      by theorem proveit.number.real.subtractClosure\n",
      "                    condition $\\delta \\in \\mathbb{R}$  proven above\n",
      "                    condition $\\frac{l}{2^{t}} \\in \\mathbb{R}$  assuming $l \\neq 0$, $l \\in \\{\\left( \\left(-\\left(2^{t - 1}\\right)\\right) + 1 \\right)\\ldots \\left(2^{t - 1}\\right)\\}$  proven above\n",
      "                condition $\\left(2^{t}\\right) \\in \\mathbb{C}$  proven above\n",
      "            hypothesis $\\left(\\left|\\alpha_{l}\\right|^{2}\\right) \\leq \\frac{1}{ \\left(2^{2}\\right) \\cdot \\left(\\left( \\left(2^{t}\\right) \\cdot \\left(\\frac{l}{2^{t}} - \\delta\\right) \\right)^{2}\\right) }$  assuming $l \\neq 0$, $l \\in \\{\\left( \\left(-\\left(2^{t - 1}\\right)\\right) + 1 \\right)\\ldots \\left(2^{t - 1}\\right)\\}$ \n",
      "              implication $\\left(\\left(\\left|\\alpha_{l}\\right|^{2}\\right) \\leq \\frac{1}{ \\left(2^{2}\\right) \\cdot \\left( \\left(\\left(\\left(2^{t}\\right)\\right)^{2}\\right) \\cdot \\left(\\left(\\frac{l}{2^{t}} - \\delta\\right)^{2}\\right) \\right) }\\right) \\Rightarrow \\left(\\left(\\left|\\alpha_{l}\\right|^{2}\\right) \\leq \\frac{1}{ \\left(2^{2}\\right) \\cdot \\left(\\left( \\left(2^{t}\\right) \\cdot \\left(\\frac{l}{2^{t}} - \\delta\\right) \\right)^{2}\\right) }\\right)$  assuming $l \\neq 0$, $l \\in \\{\\left( \\left(-\\left(2^{t - 1}\\right)\\right) + 1 \\right)\\ldots \\left(2^{t - 1}\\right)\\}$ \n",
      "                implication $\\left(\\left( \\left(\\left(\\left(2^{t}\\right)\\right)^{2}\\right) \\cdot \\left(\\left(\\frac{l}{2^{t}} - \\delta\\right)^{2}\\right) \\right) = \\left(\\left( \\left(2^{t}\\right) \\cdot \\left(\\frac{l}{2^{t}} - \\delta\\right) \\right)^{2}\\right)\\right) \\Rightarrow \\left(\\left(\\left(\\left|\\alpha_{l}\\right|^{2}\\right) \\leq \\frac{1}{ \\left(2^{2}\\right) \\cdot \\left( \\left(\\left(\\left(2^{t}\\right)\\right)^{2}\\right) \\cdot \\left(\\left(\\frac{l}{2^{t}} - \\delta\\right)^{2}\\right) \\right) }\\right) \\Rightarrow \\left(\\left(\\left|\\alpha_{l}\\right|^{2}\\right) \\leq \\frac{1}{ \\left(2^{2}\\right) \\cdot \\left(\\left( \\left(2^{t}\\right) \\cdot \\left(\\frac{l}{2^{t}} - \\delta\\right) \\right)^{2}\\right) }\\right)\\right)$ \n",
      "                  specializing $\\forall_{ P , x , y } \\left(\\left(x = y\\right) \\Rightarrow \\left(P\\left( x \\right) \\Rightarrow P\\left( y \\right)\\right)\\right)$  proven above\n",
      "                hypothesis $\\left( \\left(\\left(\\left(2^{t}\\right)\\right)^{2}\\right) \\cdot \\left(\\left(\\frac{l}{2^{t}} - \\delta\\right)^{2}\\right) \\right) = \\left(\\left( \\left(2^{t}\\right) \\cdot \\left(\\frac{l}{2^{t}} - \\delta\\right) \\right)^{2}\\right)$  assuming $l \\neq 0$, $l \\in \\{\\left( \\left(-\\left(2^{t - 1}\\right)\\right) + 1 \\right)\\ldots \\left(2^{t - 1}\\right)\\}$ \n",
      "                  specializing $\\forall_{ a , b  \\in \\mathbb{C}} \\left(\\left( \\left(a^{2}\\right) \\cdot \\left(b^{2}\\right) \\right) = \\left(\\left( a \\cdot b \\right)^{2}\\right)\\right)$ \n",
      "                    specializing $\\forall_{ n  \\in \\mathbb{N}^+} \\left[\\forall_{ a , b  \\in \\mathbb{C}} \\left(\\left( \\left(a^{n}\\right) \\cdot \\left(b^{n}\\right) \\right) = \\left(\\left( a \\cdot b \\right)^{n}\\right)\\right)\\right]$ \n",
      "                      by theorem proveit.number.complex.natsPosPowOfProdRev\n",
      "                    condition $2 \\in \\mathbb{N}^+$  proven above\n",
      "                  condition $\\left(\\frac{l}{2^{t}} - \\delta\\right) \\in \\mathbb{C}$  assuming $l \\neq 0$, $l \\in \\{\\left( \\left(-\\left(2^{t - 1}\\right)\\right) + 1 \\right)\\ldots \\left(2^{t - 1}\\right)\\}$  proven above\n",
      "                  condition $\\left(2^{t}\\right) \\in \\mathbb{C}$  proven above\n",
      "              hypothesis $\\left(\\left|\\alpha_{l}\\right|^{2}\\right) \\leq \\frac{1}{ \\left(2^{2}\\right) \\cdot \\left( \\left(\\left(\\left(2^{t}\\right)\\right)^{2}\\right) \\cdot \\left(\\left(\\frac{l}{2^{t}} - \\delta\\right)^{2}\\right) \\right) }$  assuming $l \\neq 0$, $l \\in \\{\\left( \\left(-\\left(2^{t - 1}\\right)\\right) + 1 \\right)\\ldots \\left(2^{t - 1}\\right)\\}$ \n",
      "                implication $\\left(\\left(\\left|\\alpha_{l}\\right|^{2}\\right) \\leq \\frac{1}{ \\left(2^{2}\\right) \\cdot \\left(\\left(\\left(2^{t}\\right)\\right)^{2}\\right) \\cdot \\left(\\left(\\frac{l}{2^{t}} - \\delta\\right)^{2}\\right) }\\right) \\Rightarrow \\left(\\left(\\left|\\alpha_{l}\\right|^{2}\\right) \\leq \\frac{1}{ \\left(2^{2}\\right) \\cdot \\left( \\left(\\left(\\left(2^{t}\\right)\\right)^{2}\\right) \\cdot \\left(\\left(\\frac{l}{2^{t}} - \\delta\\right)^{2}\\right) \\right) }\\right)$ \n",
      "                  implication $\\left(\\left( \\left(2^{2}\\right) \\cdot \\left(\\left(\\left(2^{t}\\right)\\right)^{2}\\right) \\cdot \\left(\\left(\\frac{l}{2^{t}} - \\delta\\right)^{2}\\right) \\right) = \\left( \\left(2^{2}\\right) \\cdot \\left( \\left(\\left(\\left(2^{t}\\right)\\right)^{2}\\right) \\cdot \\left(\\left(\\frac{l}{2^{t}} - \\delta\\right)^{2}\\right) \\right) \\right)\\right) \\Rightarrow \\left(\\left(\\left(\\left|\\alpha_{l}\\right|^{2}\\right) \\leq \\frac{1}{ \\left(2^{2}\\right) \\cdot \\left(\\left(\\left(2^{t}\\right)\\right)^{2}\\right) \\cdot \\left(\\left(\\frac{l}{2^{t}} - \\delta\\right)^{2}\\right) }\\right) \\Rightarrow \\left(\\left(\\left|\\alpha_{l}\\right|^{2}\\right) \\leq \\frac{1}{ \\left(2^{2}\\right) \\cdot \\left( \\left(\\left(\\left(2^{t}\\right)\\right)^{2}\\right) \\cdot \\left(\\left(\\frac{l}{2^{t}} - \\delta\\right)^{2}\\right) \\right) }\\right)\\right)$ \n",
      "                    specializing $\\forall_{ P , x , y } \\left(\\left(x = y\\right) \\Rightarrow \\left(P\\left( x \\right) \\Rightarrow P\\left( y \\right)\\right)\\right)$  proven above\n",
      "                  hypothesis $\\left( \\left(2^{2}\\right) \\cdot \\left(\\left(\\left(2^{t}\\right)\\right)^{2}\\right) \\cdot \\left(\\left(\\frac{l}{2^{t}} - \\delta\\right)^{2}\\right) \\right) = \\left( \\left(2^{2}\\right) \\cdot \\left( \\left(\\left(\\left(2^{t}\\right)\\right)^{2}\\right) \\cdot \\left(\\left(\\frac{l}{2^{t}} - \\delta\\right)^{2}\\right) \\right) \\right)$ \n",
      "                    specializing $\\forall_{~.., x_{\\Box} ,..., y_{\\Box} ,..., z_{\\Box} ,..~} \\left(\\left(~..\\cdot x_{\\Box} \\cdot...\\cdot y_{\\Box} \\cdot...\\cdot z_{\\Box} \\cdot..~\\right) = \\left(~..\\cdot x_{\\Box} \\cdot..~\\cdot \\left(~..\\cdot y_{\\Box} \\cdot..~\\right) \\cdot~..\\cdot z_{\\Box} \\cdot..~\\right)\\right)$ \n",
      "                      by axiom proveit.number.multAssoc\n",
      "                hypothesis $\\left(\\left|\\alpha_{l}\\right|^{2}\\right) \\leq \\frac{1}{ \\left(2^{2}\\right) \\cdot \\left(\\left(\\left(2^{t}\\right)\\right)^{2}\\right) \\cdot \\left(\\left(\\frac{l}{2^{t}} - \\delta\\right)^{2}\\right) }$  assuming $l \\neq 0$, $l \\in \\{\\left( \\left(-\\left(2^{t - 1}\\right)\\right) + 1 \\right)\\ldots \\left(2^{t - 1}\\right)\\}$ \n",
      "                  implication $\\left(\\left(\\left|\\alpha_{l}\\right|^{2}\\right) \\leq \\frac{1}{ \\left(\\left(\\left(2^{t}\\right)\\right)^{2}\\right) \\cdot \\left(2^{2}\\right) \\cdot \\left(\\left(\\frac{l}{2^{t}} - \\delta\\right)^{2}\\right) }\\right) \\Rightarrow \\left(\\left(\\left|\\alpha_{l}\\right|^{2}\\right) \\leq \\frac{1}{ \\left(2^{2}\\right) \\cdot \\left(\\left(\\left(2^{t}\\right)\\right)^{2}\\right) \\cdot \\left(\\left(\\frac{l}{2^{t}} - \\delta\\right)^{2}\\right) }\\right)$  assuming $l \\neq 0$, $l \\in \\{\\left( \\left(-\\left(2^{t - 1}\\right)\\right) + 1 \\right)\\ldots \\left(2^{t - 1}\\right)\\}$ \n",
      "                    implication $\\left(\\left( \\left(\\left(\\left(2^{t}\\right)\\right)^{2}\\right) \\cdot \\left(2^{2}\\right) \\cdot \\left(\\left(\\frac{l}{2^{t}} - \\delta\\right)^{2}\\right) \\right) = \\left( \\left(2^{2}\\right) \\cdot \\left(\\left(\\left(2^{t}\\right)\\right)^{2}\\right) \\cdot \\left(\\left(\\frac{l}{2^{t}} - \\delta\\right)^{2}\\right) \\right)\\right) \\Rightarrow \\left(\\left(\\left(\\left|\\alpha_{l}\\right|^{2}\\right) \\leq \\frac{1}{ \\left(\\left(\\left(2^{t}\\right)\\right)^{2}\\right) \\cdot \\left(2^{2}\\right) \\cdot \\left(\\left(\\frac{l}{2^{t}} - \\delta\\right)^{2}\\right) }\\right) \\Rightarrow \\left(\\left(\\left|\\alpha_{l}\\right|^{2}\\right) \\leq \\frac{1}{ \\left(2^{2}\\right) \\cdot \\left(\\left(\\left(2^{t}\\right)\\right)^{2}\\right) \\cdot \\left(\\left(\\frac{l}{2^{t}} - \\delta\\right)^{2}\\right) }\\right)\\right)$ \n",
      "                      specializing $\\forall_{ P , x , y } \\left(\\left(x = y\\right) \\Rightarrow \\left(P\\left( x \\right) \\Rightarrow P\\left( y \\right)\\right)\\right)$  proven above\n",
      "                    hypothesis $\\left( \\left(\\left(\\left(2^{t}\\right)\\right)^{2}\\right) \\cdot \\left(2^{2}\\right) \\cdot \\left(\\left(\\frac{l}{2^{t}} - \\delta\\right)^{2}\\right) \\right) = \\left( \\left(2^{2}\\right) \\cdot \\left(\\left(\\left(2^{t}\\right)\\right)^{2}\\right) \\cdot \\left(\\left(\\frac{l}{2^{t}} - \\delta\\right)^{2}\\right) \\right)$  assuming $l \\neq 0$, $l \\in \\{\\left( \\left(-\\left(2^{t - 1}\\right)\\right) + 1 \\right)\\ldots \\left(2^{t - 1}\\right)\\}$ \n",
      "                      specializing $\\forall_{~.., v_{\\Box} ,..., w_{\\Box} ,..., x_{\\Box} ,..., y_{\\Box} ,..., z_{\\Box} ,..~ \\in \\mathbb{C}} \\left(\\left(~..\\cdot v_{\\Box} \\cdot...\\cdot w_{\\Box} \\cdot...\\cdot x_{\\Box} \\cdot...\\cdot y_{\\Box} \\cdot...\\cdot z_{\\Box} \\cdot..~\\right) = \\left(~..\\cdot v_{\\Box} \\cdot...\\cdot y_{\\Box} \\cdot...\\cdot x_{\\Box} \\cdot...\\cdot w_{\\Box} \\cdot...\\cdot z_{\\Box} \\cdot..~\\right)\\right)$  proven above\n",
      "                      condition $\\left(\\left(\\frac{l}{2^{t}} - \\delta\\right)^{2}\\right) \\in \\mathbb{C}$  assuming $l \\neq 0$, $l \\in \\{\\left( \\left(-\\left(2^{t - 1}\\right)\\right) + 1 \\right)\\ldots \\left(2^{t - 1}\\right)\\}$ \n",
      "                        specializing $\\forall_{ a  \\in \\mathbb{R}^+} \\left(a \\in \\mathbb{C}\\right)$ \n",
      "                          by theorem proveit.number.real.inRealsPos_inComplexes\n",
      "                        condition $\\left(\\left(\\frac{l}{2^{t}} - \\delta\\right)^{2}\\right) \\in \\mathbb{R}^+$  assuming $l \\neq 0$, $l \\in \\{\\left( \\left(-\\left(2^{t - 1}\\right)\\right) + 1 \\right)\\ldots \\left(2^{t - 1}\\right)\\}$ \n",
      "                          specializing $\\forall_{ a  \\in \\mathbb{R}~|~ \\left(a \\neq 0\\right) } \\left(\\left(a^{2}\\right) \\in \\mathbb{R}^+\\right)$ \n",
      "                            by theorem proveit.number.real.sqrdClosure\n",
      "                          condition $\\left(\\frac{l}{2^{t}} - \\delta\\right) \\in \\mathbb{R}$  assuming $l \\neq 0$, $l \\in \\{\\left( \\left(-\\left(2^{t - 1}\\right)\\right) + 1 \\right)\\ldots \\left(2^{t - 1}\\right)\\}$  proven above\n",
      "                          condition $\\left(\\frac{l}{2^{t}} - \\delta\\right) \\neq 0$  assuming $l \\neq 0$, $l \\in \\{\\left( \\left(-\\left(2^{t - 1}\\right)\\right) + 1 \\right)\\ldots \\left(2^{t - 1}\\right)\\}$ \n",
      "                            specializing $\\forall_{ a , b  \\in \\mathbb{C}~|~ \\left(a \\neq b\\right) } \\left(\\left(a - b\\right) \\neq 0\\right)$ \n",
      "                              by theorem proveit.number.complex.diffNotEqZero\n",
      "                            condition $\\delta \\in \\mathbb{C}$  proven above\n",
      "                            condition $\\frac{l}{2^{t}} \\in \\mathbb{C}$  assuming $l \\neq 0$, $l \\in \\{\\left( \\left(-\\left(2^{t - 1}\\right)\\right) + 1 \\right)\\ldots \\left(2^{t - 1}\\right)\\}$  proven above\n",
      "                            condition $\\frac{l}{2^{t}} \\neq \\delta$  assuming $l \\neq 0$, $l \\in \\{\\left( \\left(-\\left(2^{t - 1}\\right)\\right) + 1 \\right)\\ldots \\left(2^{t - 1}\\right)\\}$ \n",
      "                              implication $\\left(\\delta \\neq \\frac{l}{2^{t}}\\right) \\Rightarrow \\left(\\frac{l}{2^{t}} \\neq \\delta\\right)$ \n",
      "                                specializing $\\forall_{ x , y } \\left(\\left(x \\neq y\\right) \\Rightarrow \\left(y \\neq x\\right)\\right)$ \n",
      "                                  by theorem proveit.basiclogic.equality.notEqualsSymmetry\n",
      "                              hypothesis $\\delta \\neq \\frac{l}{2^{t}}$  assuming $l \\neq 0$, $l \\in \\{\\left( \\left(-\\left(2^{t - 1}\\right)\\right) + 1 \\right)\\ldots \\left(2^{t - 1}\\right)\\}$ \n",
      "                                specializing $\\forall_{ l  \\in \\mathbb{Z}~|~ \\left(l \\neq 0\\right) } \\left(\\delta \\neq \\frac{l}{2^{t}}\\right)$ \n",
      "                                  by theorem proveit.physics.quantum.QPE.delta_notEq_scaledNonzeroInt\n",
      "                                condition $l \\neq 0$  assuming $l \\neq 0$ \n",
      "                                condition $l \\in \\mathbb{Z}$  assuming $l \\neq 0$, $l \\in \\{\\left( \\left(-\\left(2^{t - 1}\\right)\\right) + 1 \\right)\\ldots \\left(2^{t - 1}\\right)\\}$  proven above\n",
      "                      condition $\\left(\\left(\\left(2^{t}\\right)\\right)^{2}\\right) \\in \\mathbb{C}$ \n",
      "                        specializing $\\forall_{ a  \\in \\mathbb{N}^+} \\left(a \\in \\mathbb{C}\\right)$  proven above\n",
      "                        condition $\\left(\\left(\\left(2^{t}\\right)\\right)^{2}\\right) \\in \\mathbb{N}^+$ \n",
      "                          specializing $\\forall_{ a , b  \\in \\mathbb{N}~|~ \\left(a \\neq 0\\right) } \\left(\\left(a^{b}\\right) \\in \\mathbb{N}^+\\right)$  proven above\n",
      "                          condition $2 \\in \\mathbb{N}$  proven above\n",
      "                          condition $\\left(2^{t}\\right) \\in \\mathbb{N}$ \n",
      "                            specializing $\\forall_{ a  \\in \\mathbb{N}^+} \\left(a \\in \\mathbb{N}\\right)$  proven above\n",
      "                            condition $\\left(2^{t}\\right) \\in \\mathbb{N}^+$  proven above\n",
      "                          condition $\\left(2^{t}\\right) \\neq 0$  proven above\n",
      "                      condition $\\left(2^{2}\\right) \\in \\mathbb{C}$ \n",
      "                        specializing $\\forall_{ a  \\in \\mathbb{N}^+} \\left(a \\in \\mathbb{C}\\right)$  proven above\n",
      "                        condition $\\left(2^{2}\\right) \\in \\mathbb{N}^+$ \n",
      "                          specializing $\\forall_{ a , b  \\in \\mathbb{N}~|~ \\left(a \\neq 0\\right) } \\left(\\left(a^{b}\\right) \\in \\mathbb{N}^+\\right)$  proven above\n",
      "                          condition $2 \\neq 0$  proven above\n",
      "                          condition $2 \\in \\mathbb{N}$  proven above\n",
      "                  hypothesis $\\left(\\left|\\alpha_{l}\\right|^{2}\\right) \\leq \\frac{1}{ \\left(\\left(\\left(2^{t}\\right)\\right)^{2}\\right) \\cdot \\left(2^{2}\\right) \\cdot \\left(\\left(\\frac{l}{2^{t}} - \\delta\\right)^{2}\\right) }$  assuming $l \\neq 0$, $l \\in \\{\\left( \\left(-\\left(2^{t - 1}\\right)\\right) + 1 \\right)\\ldots \\left(2^{t - 1}\\right)\\}$ \n",
      "                    implication $\\left(\\left(\\left|\\alpha_{l}\\right|^{2}\\right) \\leq \\frac{1}{ \\left( \\left(\\left(\\left(2^{t}\\right)\\right)^{2}\\right) \\cdot \\left(2^{2}\\right) \\right) \\cdot \\left(\\left(\\frac{l}{2^{t}} - \\delta\\right)^{2}\\right) }\\right) \\Rightarrow \\left(\\left(\\left|\\alpha_{l}\\right|^{2}\\right) \\leq \\frac{1}{ \\left(\\left(\\left(2^{t}\\right)\\right)^{2}\\right) \\cdot \\left(2^{2}\\right) \\cdot \\left(\\left(\\frac{l}{2^{t}} - \\delta\\right)^{2}\\right) }\\right)$ \n",
      "                      implication $\\left(\\left( \\left(\\left(\\left(2^{t}\\right)\\right)^{2}\\right) \\cdot \\left(2^{2}\\right) \\cdot \\left(\\left(\\frac{l}{2^{t}} - \\delta\\right)^{2}\\right) \\right) = \\left( \\left( \\left(\\left(\\left(2^{t}\\right)\\right)^{2}\\right) \\cdot \\left(2^{2}\\right) \\right) \\cdot \\left(\\left(\\frac{l}{2^{t}} - \\delta\\right)^{2}\\right) \\right)\\right) \\Rightarrow \\left(\\left(\\left(\\left|\\alpha_{l}\\right|^{2}\\right) \\leq \\frac{1}{ \\left( \\left(\\left(\\left(2^{t}\\right)\\right)^{2}\\right) \\cdot \\left(2^{2}\\right) \\right) \\cdot \\left(\\left(\\frac{l}{2^{t}} - \\delta\\right)^{2}\\right) }\\right) \\Rightarrow \\left(\\left(\\left|\\alpha_{l}\\right|^{2}\\right) \\leq \\frac{1}{ \\left(\\left(\\left(2^{t}\\right)\\right)^{2}\\right) \\cdot \\left(2^{2}\\right) \\cdot \\left(\\left(\\frac{l}{2^{t}} - \\delta\\right)^{2}\\right) }\\right)\\right)$ \n",
      "                        specializing $\\forall_{ P , x , y } \\left(\\left(x = y\\right) \\Rightarrow \\left(P\\left( y \\right) \\Rightarrow P\\left( x \\right)\\right)\\right)$ \n",
      "                          by theorem proveit.basiclogic.equality.lhsSubstitution\n",
      "                      hypothesis $\\left( \\left(\\left(\\left(2^{t}\\right)\\right)^{2}\\right) \\cdot \\left(2^{2}\\right) \\cdot \\left(\\left(\\frac{l}{2^{t}} - \\delta\\right)^{2}\\right) \\right) = \\left( \\left( \\left(\\left(\\left(2^{t}\\right)\\right)^{2}\\right) \\cdot \\left(2^{2}\\right) \\right) \\cdot \\left(\\left(\\frac{l}{2^{t}} - \\delta\\right)^{2}\\right) \\right)$ \n",
      "                        specializing $\\forall_{~.., x_{\\Box} ,..., y_{\\Box} ,..., z_{\\Box} ,..~} \\left(\\left(~..\\cdot x_{\\Box} \\cdot...\\cdot y_{\\Box} \\cdot...\\cdot z_{\\Box} \\cdot..~\\right) = \\left(~..\\cdot x_{\\Box} \\cdot..~\\cdot \\left(~..\\cdot y_{\\Box} \\cdot..~\\right) \\cdot~..\\cdot z_{\\Box} \\cdot..~\\right)\\right)$  proven above\n",
      "                    hypothesis $\\left(\\left|\\alpha_{l}\\right|^{2}\\right) \\leq \\frac{1}{ \\left( \\left(\\left(\\left(2^{t}\\right)\\right)^{2}\\right) \\cdot \\left(2^{2}\\right) \\right) \\cdot \\left(\\left(\\frac{l}{2^{t}} - \\delta\\right)^{2}\\right) }$  assuming $l \\neq 0$, $l \\in \\{\\left( \\left(-\\left(2^{t - 1}\\right)\\right) + 1 \\right)\\ldots \\left(2^{t - 1}\\right)\\}$ \n",
      "                      implication $\\left(\\left(\\left|\\alpha_{l}\\right|^{2}\\right) \\leq \\frac{1}{ \\left( \\left(2^{ t \\cdot 2 }\\right) \\cdot \\left(2^{2}\\right) \\right) \\cdot \\left(\\left(\\frac{l}{2^{t}} - \\delta\\right)^{2}\\right) }\\right) \\Rightarrow \\left(\\left(\\left|\\alpha_{l}\\right|^{2}\\right) \\leq \\frac{1}{ \\left( \\left(\\left(\\left(2^{t}\\right)\\right)^{2}\\right) \\cdot \\left(2^{2}\\right) \\right) \\cdot \\left(\\left(\\frac{l}{2^{t}} - \\delta\\right)^{2}\\right) }\\right)$ \n",
      "                        implication $\\left(\\left(\\left(\\left(2^{t}\\right)\\right)^{2}\\right) = \\left(2^{ t \\cdot 2 }\\right)\\right) \\Rightarrow \\left(\\left(\\left(\\left|\\alpha_{l}\\right|^{2}\\right) \\leq \\frac{1}{ \\left( \\left(2^{ t \\cdot 2 }\\right) \\cdot \\left(2^{2}\\right) \\right) \\cdot \\left(\\left(\\frac{l}{2^{t}} - \\delta\\right)^{2}\\right) }\\right) \\Rightarrow \\left(\\left(\\left|\\alpha_{l}\\right|^{2}\\right) \\leq \\frac{1}{ \\left( \\left(\\left(\\left(2^{t}\\right)\\right)^{2}\\right) \\cdot \\left(2^{2}\\right) \\right) \\cdot \\left(\\left(\\frac{l}{2^{t}} - \\delta\\right)^{2}\\right) }\\right)\\right)$ \n",
      "                          specializing $\\forall_{ P , x , y } \\left(\\left(x = y\\right) \\Rightarrow \\left(P\\left( y \\right) \\Rightarrow P\\left( x \\right)\\right)\\right)$  proven above\n",
      "                        hypothesis $\\left(\\left(\\left(2^{t}\\right)\\right)^{2}\\right) = \\left(2^{ t \\cdot 2 }\\right)$ \n",
      "                          specializing $\\forall_{ a , b  \\in \\mathbb{C}~|~ \\left(a \\neq 0\\right) } \\left(\\left(\\left(\\left(a^{b}\\right)\\right)^{2}\\right) = \\left(a^{ b \\cdot 2 }\\right)\\right)$ \n",
      "                            specializing $\\forall_{ n  \\in \\mathbb{Z}} \\left[\\forall_{ a , b  \\in \\mathbb{C}~|~ \\left(a \\neq 0\\right) } \\left(\\left(\\left(\\left(a^{b}\\right)\\right)^{n}\\right) = \\left(a^{ b \\cdot n }\\right)\\right)\\right]$ \n",
      "                              by theorem proveit.number.complex.intPowOfPow\n",
      "                            condition $2 \\in \\mathbb{Z}$ \n",
      "                              specializing $\\forall_{ a  \\in \\mathbb{N}^+} \\left(a \\in \\mathbb{Z}\\right)$  proven above\n",
      "                              condition $2 \\in \\mathbb{N}^+$  proven above\n",
      "                          condition $2 \\neq 0$  proven above\n",
      "                          condition $2 \\in \\mathbb{C}$ \n",
      "                            specializing $\\forall_{ a  \\in \\mathbb{N}^+} \\left(a \\in \\mathbb{C}\\right)$  proven above\n",
      "                            condition $2 \\in \\mathbb{N}^+$  proven above\n",
      "                          condition $t \\in \\mathbb{C}$ \n",
      "                            specializing $\\forall_{ a  \\in \\mathbb{N}^+} \\left(a \\in \\mathbb{C}\\right)$  proven above\n",
      "                            condition $t \\in \\mathbb{N}^+$  proven above\n",
      "                      hypothesis $\\left(\\left|\\alpha_{l}\\right|^{2}\\right) \\leq \\frac{1}{ \\left( \\left(2^{ t \\cdot 2 }\\right) \\cdot \\left(2^{2}\\right) \\right) \\cdot \\left(\\left(\\frac{l}{2^{t}} - \\delta\\right)^{2}\\right) }$  assuming $l \\neq 0$, $l \\in \\{\\left( \\left(-\\left(2^{t - 1}\\right)\\right) + 1 \\right)\\ldots \\left(2^{t - 1}\\right)\\}$ \n",
      "                        implication $\\left(\\left(\\left|\\alpha_{l}\\right|^{2}\\right) \\leq \\frac{1}{ \\left( \\left(2^{ t \\cdot 2 }\\right) \\cdot \\left(2^{2}\\right) \\right) \\cdot \\left(\\left(\\delta - \\frac{l}{2^{t}}\\right)^{2}\\right) }\\right) \\Rightarrow \\left(\\left(\\left|\\alpha_{l}\\right|^{2}\\right) \\leq \\frac{1}{ \\left( \\left(2^{ t \\cdot 2 }\\right) \\cdot \\left(2^{2}\\right) \\right) \\cdot \\left(\\left(\\frac{l}{2^{t}} - \\delta\\right)^{2}\\right) }\\right)$  assuming $l \\neq 0$, $l \\in \\{\\left( \\left(-\\left(2^{t - 1}\\right)\\right) + 1 \\right)\\ldots \\left(2^{t - 1}\\right)\\}$ \n",
      "                          implication $\\left(\\left(\\left(\\delta - \\frac{l}{2^{t}}\\right)^{2}\\right) = \\left(\\left(\\frac{l}{2^{t}} - \\delta\\right)^{2}\\right)\\right) \\Rightarrow \\left(\\left(\\left(\\left|\\alpha_{l}\\right|^{2}\\right) \\leq \\frac{1}{ \\left( \\left(2^{ t \\cdot 2 }\\right) \\cdot \\left(2^{2}\\right) \\right) \\cdot \\left(\\left(\\delta - \\frac{l}{2^{t}}\\right)^{2}\\right) }\\right) \\Rightarrow \\left(\\left(\\left|\\alpha_{l}\\right|^{2}\\right) \\leq \\frac{1}{ \\left( \\left(2^{ t \\cdot 2 }\\right) \\cdot \\left(2^{2}\\right) \\right) \\cdot \\left(\\left(\\frac{l}{2^{t}} - \\delta\\right)^{2}\\right) }\\right)\\right)$ \n",
      "                            specializing $\\forall_{ P , x , y } \\left(\\left(x = y\\right) \\Rightarrow \\left(P\\left( x \\right) \\Rightarrow P\\left( y \\right)\\right)\\right)$  proven above\n",
      "                          hypothesis $\\left(\\left(\\delta - \\frac{l}{2^{t}}\\right)^{2}\\right) = \\left(\\left(\\frac{l}{2^{t}} - \\delta\\right)^{2}\\right)$  assuming $l \\neq 0$, $l \\in \\{\\left( \\left(-\\left(2^{t - 1}\\right)\\right) + 1 \\right)\\ldots \\left(2^{t - 1}\\right)\\}$ \n",
      "                            specializing $\\forall_{ a , b  \\in \\mathbb{C}} \\left(\\left(\\left(a - b\\right)^{2}\\right) = \\left(\\left(b - a\\right)^{2}\\right)\\right)$ \n",
      "                              by theorem proveit.number.complex.diffSquareComm\n",
      "                            condition $\\delta \\in \\mathbb{C}$  proven above\n",
      "                            condition $\\frac{l}{2^{t}} \\in \\mathbb{C}$  assuming $l \\neq 0$, $l \\in \\{\\left( \\left(-\\left(2^{t - 1}\\right)\\right) + 1 \\right)\\ldots \\left(2^{t - 1}\\right)\\}$  proven above\n",
      "                        hypothesis $\\left(\\left|\\alpha_{l}\\right|^{2}\\right) \\leq \\frac{1}{ \\left( \\left(2^{ t \\cdot 2 }\\right) \\cdot \\left(2^{2}\\right) \\right) \\cdot \\left(\\left(\\delta - \\frac{l}{2^{t}}\\right)^{2}\\right) }$  assuming $l \\neq 0$, $l \\in \\{\\left( \\left(-\\left(2^{t - 1}\\right)\\right) + 1 \\right)\\ldots \\left(2^{t - 1}\\right)\\}$ \n",
      "                          implication $\\left(\\left(\\left|\\alpha_{l}\\right|^{2}\\right) \\leq \\frac{1}{ \\left( \\left(2^{ t \\cdot 2 }\\right) \\cdot \\left(2^{2}\\right) \\right) \\cdot \\left(\\left|\\left(\\delta - \\frac{l}{2^{t}}\\right)\\right|^{2}\\right) }\\right) \\Rightarrow \\left(\\left(\\left|\\alpha_{l}\\right|^{2}\\right) \\leq \\frac{1}{ \\left( \\left(2^{ t \\cdot 2 }\\right) \\cdot \\left(2^{2}\\right) \\right) \\cdot \\left(\\left(\\delta - \\frac{l}{2^{t}}\\right)^{2}\\right) }\\right)$  assuming $l \\neq 0$, $l \\in \\{\\left( \\left(-\\left(2^{t - 1}\\right)\\right) + 1 \\right)\\ldots \\left(2^{t - 1}\\right)\\}$ \n",
      "                            implication $\\left(\\left(\\left|\\left(\\delta - \\frac{l}{2^{t}}\\right)\\right|^{2}\\right) = \\left(\\left(\\delta - \\frac{l}{2^{t}}\\right)^{2}\\right)\\right) \\Rightarrow \\left(\\left(\\left(\\left|\\alpha_{l}\\right|^{2}\\right) \\leq \\frac{1}{ \\left( \\left(2^{ t \\cdot 2 }\\right) \\cdot \\left(2^{2}\\right) \\right) \\cdot \\left(\\left|\\left(\\delta - \\frac{l}{2^{t}}\\right)\\right|^{2}\\right) }\\right) \\Rightarrow \\left(\\left(\\left|\\alpha_{l}\\right|^{2}\\right) \\leq \\frac{1}{ \\left( \\left(2^{ t \\cdot 2 }\\right) \\cdot \\left(2^{2}\\right) \\right) \\cdot \\left(\\left(\\delta - \\frac{l}{2^{t}}\\right)^{2}\\right) }\\right)\\right)$ \n",
      "                              specializing $\\forall_{ P , x , y } \\left(\\left(x = y\\right) \\Rightarrow \\left(P\\left( x \\right) \\Rightarrow P\\left( y \\right)\\right)\\right)$  proven above\n",
      "                            hypothesis $\\left(\\left|\\left(\\delta - \\frac{l}{2^{t}}\\right)\\right|^{2}\\right) = \\left(\\left(\\delta - \\frac{l}{2^{t}}\\right)^{2}\\right)$  assuming $l \\neq 0$, $l \\in \\{\\left( \\left(-\\left(2^{t - 1}\\right)\\right) + 1 \\right)\\ldots \\left(2^{t - 1}\\right)\\}$ \n",
      "                              specializing $\\forall_{ a  \\in \\mathbb{R}} \\left(\\left(\\left|a\\right|^{2}\\right) = \\left(a^{2}\\right)\\right)$ \n",
      "                                by theorem proveit.number.real.squarePosEq\n",
      "                              condition $\\left(\\delta - \\frac{l}{2^{t}}\\right) \\in \\mathbb{R}$  assuming $l \\neq 0$, $l \\in \\{\\left( \\left(-\\left(2^{t - 1}\\right)\\right) + 1 \\right)\\ldots \\left(2^{t - 1}\\right)\\}$ \n",
      "                                specializing $\\forall_{ a , b  \\in \\mathbb{R}} \\left(\\left(a - b\\right) \\in \\mathbb{R}\\right)$  proven above\n",
      "                                condition $\\delta \\in \\mathbb{R}$  proven above\n",
      "                                condition $\\frac{l}{2^{t}} \\in \\mathbb{R}$  assuming $l \\neq 0$, $l \\in \\{\\left( \\left(-\\left(2^{t - 1}\\right)\\right) + 1 \\right)\\ldots \\left(2^{t - 1}\\right)\\}$  proven above\n",
      "                          hypothesis $\\left(\\left|\\alpha_{l}\\right|^{2}\\right) \\leq \\frac{1}{ \\left( \\left(2^{ t \\cdot 2 }\\right) \\cdot \\left(2^{2}\\right) \\right) \\cdot \\left(\\left|\\left(\\delta - \\frac{l}{2^{t}}\\right)\\right|^{2}\\right) }$  assuming $l \\neq 0$, $l \\in \\{\\left( \\left(-\\left(2^{t - 1}\\right)\\right) + 1 \\right)\\ldots \\left(2^{t - 1}\\right)\\}$ \n",
      "                            implication $\\left(\\left(\\left|\\alpha_{l}\\right|^{2}\\right) \\leq \\frac{1}{ \\left(2^{ \\left( t \\cdot 2 \\right) + 2 }\\right) \\cdot \\left(\\left|\\left(\\delta - \\frac{l}{2^{t}}\\right)\\right|^{2}\\right) }\\right) \\Rightarrow \\left(\\left(\\left|\\alpha_{l}\\right|^{2}\\right) \\leq \\frac{1}{ \\left( \\left(2^{ t \\cdot 2 }\\right) \\cdot \\left(2^{2}\\right) \\right) \\cdot \\left(\\left|\\left(\\delta - \\frac{l}{2^{t}}\\right)\\right|^{2}\\right) }\\right)$ \n",
      "                              implication $\\left(\\left(2^{ \\left( t \\cdot 2 \\right) + 2 }\\right) = \\left( \\left(2^{ t \\cdot 2 }\\right) \\cdot \\left(2^{2}\\right) \\right)\\right) \\Rightarrow \\left(\\left(\\left(\\left|\\alpha_{l}\\right|^{2}\\right) \\leq \\frac{1}{ \\left(2^{ \\left( t \\cdot 2 \\right) + 2 }\\right) \\cdot \\left(\\left|\\left(\\delta - \\frac{l}{2^{t}}\\right)\\right|^{2}\\right) }\\right) \\Rightarrow \\left(\\left(\\left|\\alpha_{l}\\right|^{2}\\right) \\leq \\frac{1}{ \\left( \\left(2^{ t \\cdot 2 }\\right) \\cdot \\left(2^{2}\\right) \\right) \\cdot \\left(\\left|\\left(\\delta - \\frac{l}{2^{t}}\\right)\\right|^{2}\\right) }\\right)\\right)$ \n",
      "                                specializing $\\forall_{ P , x , y } \\left(\\left(x = y\\right) \\Rightarrow \\left(P\\left( x \\right) \\Rightarrow P\\left( y \\right)\\right)\\right)$  proven above\n",
      "                              hypothesis $\\left(2^{ \\left( t \\cdot 2 \\right) + 2 }\\right) = \\left( \\left(2^{ t \\cdot 2 }\\right) \\cdot \\left(2^{2}\\right) \\right)$ \n",
      "                                specializing $\\forall_{ a , b , c  \\in \\mathbb{C}~|~ \\left(a \\neq 0\\right) } \\left(\\left(a^{ b + c }\\right) = \\left( \\left(a^{b}\\right) \\cdot \\left(a^{c}\\right) \\right)\\right)$ \n",
      "                                  by theorem proveit.number.complex.sumInPow\n",
      "                                condition $2 \\neq 0$  proven above\n",
      "                                condition $2 \\in \\mathbb{C}$  proven above\n",
      "                                condition $\\left( t \\cdot 2 \\right) \\in \\mathbb{C}$ \n",
      "                                  specializing $\\forall_{ a  \\in \\mathbb{R}^+} \\left(a \\in \\mathbb{C}\\right)$  proven above\n",
      "                                  condition $\\left( t \\cdot 2 \\right) \\in \\mathbb{R}^+$ \n",
      "                                    specializing $\\forall_{~.., x_{\\Box} ,..~ \\in \\mathbb{R}^+} \\left(\\left(~..\\cdot x_{\\Box} \\cdot..~\\right) \\in \\mathbb{R}^+\\right)$ \n",
      "                                      by theorem proveit.number.real.multPosClosure\n",
      "                                    condition $t \\in \\mathbb{R}^+$ \n",
      "                                      specializing $\\forall_{ a  \\in \\mathbb{N}^+} \\left(a \\in \\mathbb{R}^+\\right)$  proven above\n",
      "                                      condition $t \\in \\mathbb{N}^+$  proven above\n",
      "                                    condition $2 \\in \\mathbb{R}^+$  proven above\n",
      "                            hypothesis $\\left(\\left|\\alpha_{l}\\right|^{2}\\right) \\leq \\frac{1}{ \\left(2^{ \\left( t \\cdot 2 \\right) + 2 }\\right) \\cdot \\left(\\left|\\left(\\delta - \\frac{l}{2^{t}}\\right)\\right|^{2}\\right) }$  assuming $l \\neq 0$, $l \\in \\{\\left( \\left(-\\left(2^{t - 1}\\right)\\right) + 1 \\right)\\ldots \\left(2^{t - 1}\\right)\\}$ \n",
      "                              implication $\\left(\\left(\\left|\\alpha_{l}\\right|^{2}\\right) \\leq \\frac{1}{ \\left(2^{ \\left( t \\cdot 2 \\right) + \\left( 1 \\cdot 2 \\right) }\\right) \\cdot \\left(\\left|\\left(\\delta - \\frac{l}{2^{t}}\\right)\\right|^{2}\\right) }\\right) \\Rightarrow \\left(\\left(\\left|\\alpha_{l}\\right|^{2}\\right) \\leq \\frac{1}{ \\left(2^{ \\left( t \\cdot 2 \\right) + 2 }\\right) \\cdot \\left(\\left|\\left(\\delta - \\frac{l}{2^{t}}\\right)\\right|^{2}\\right) }\\right)$ \n",
      "                                implication $\\left(\\left( 1 \\cdot 2 \\right) = 2\\right) \\Rightarrow \\left(\\left(\\left(\\left|\\alpha_{l}\\right|^{2}\\right) \\leq \\frac{1}{ \\left(2^{ \\left( t \\cdot 2 \\right) + \\left( 1 \\cdot 2 \\right) }\\right) \\cdot \\left(\\left|\\left(\\delta - \\frac{l}{2^{t}}\\right)\\right|^{2}\\right) }\\right) \\Rightarrow \\left(\\left(\\left|\\alpha_{l}\\right|^{2}\\right) \\leq \\frac{1}{ \\left(2^{ \\left( t \\cdot 2 \\right) + 2 }\\right) \\cdot \\left(\\left|\\left(\\delta - \\frac{l}{2^{t}}\\right)\\right|^{2}\\right) }\\right)\\right)$ \n",
      "                                  specializing $\\forall_{ P , x , y } \\left(\\left(x = y\\right) \\Rightarrow \\left(P\\left( x \\right) \\Rightarrow P\\left( y \\right)\\right)\\right)$  proven above\n",
      "                                hypothesis $\\left( 1 \\cdot 2 \\right) = 2$ \n",
      "                                  specializing $\\forall_{ x  \\in \\mathbb{C}} \\left(\\left( 1 \\cdot x \\right) = x\\right)$ \n",
      "                                    by theorem proveit.number.complex.multOne\n",
      "                                  condition $2 \\in \\mathbb{C}$  proven above\n",
      "                              hypothesis $\\left(\\left|\\alpha_{l}\\right|^{2}\\right) \\leq \\frac{1}{ \\left(2^{ \\left( t \\cdot 2 \\right) + \\left( 1 \\cdot 2 \\right) }\\right) \\cdot \\left(\\left|\\left(\\delta - \\frac{l}{2^{t}}\\right)\\right|^{2}\\right) }$  assuming $l \\neq 0$, $l \\in \\{\\left( \\left(-\\left(2^{t - 1}\\right)\\right) + 1 \\right)\\ldots \\left(2^{t - 1}\\right)\\}$ \n",
      "                                implication $\\left(\\left(\\left|\\alpha_{l}\\right|^{2}\\right) \\leq \\frac{1}{ \\left(2^{ \\left( t + 1 \\right) \\cdot 2 }\\right) \\cdot \\left(\\left|\\left(\\delta - \\frac{l}{2^{t}}\\right)\\right|^{2}\\right) }\\right) \\Rightarrow \\left(\\left(\\left|\\alpha_{l}\\right|^{2}\\right) \\leq \\frac{1}{ \\left(2^{ \\left( t \\cdot 2 \\right) + \\left( 1 \\cdot 2 \\right) }\\right) \\cdot \\left(\\left|\\left(\\delta - \\frac{l}{2^{t}}\\right)\\right|^{2}\\right) }\\right)$ \n",
      "                                  implication $\\left(\\left( \\left( t + 1 \\right) \\cdot 2 \\right) = \\left( \\left( t \\cdot 2 \\right) + \\left( 1 \\cdot 2 \\right) \\right)\\right) \\Rightarrow \\left(\\left(\\left(\\left|\\alpha_{l}\\right|^{2}\\right) \\leq \\frac{1}{ \\left(2^{ \\left( t + 1 \\right) \\cdot 2 }\\right) \\cdot \\left(\\left|\\left(\\delta - \\frac{l}{2^{t}}\\right)\\right|^{2}\\right) }\\right) \\Rightarrow \\left(\\left(\\left|\\alpha_{l}\\right|^{2}\\right) \\leq \\frac{1}{ \\left(2^{ \\left( t \\cdot 2 \\right) + \\left( 1 \\cdot 2 \\right) }\\right) \\cdot \\left(\\left|\\left(\\delta - \\frac{l}{2^{t}}\\right)\\right|^{2}\\right) }\\right)\\right)$ \n",
      "                                    specializing $\\forall_{ P , x , y } \\left(\\left(x = y\\right) \\Rightarrow \\left(P\\left( x \\right) \\Rightarrow P\\left( y \\right)\\right)\\right)$  proven above\n",
      "                                  hypothesis $\\left( \\left( t + 1 \\right) \\cdot 2 \\right) = \\left( \\left( t \\cdot 2 \\right) + \\left( 1 \\cdot 2 \\right) \\right)$ \n",
      "                                    specializing $\\forall_{~.., x_{\\Box} ,..., y_{\\Box} ,..., z_{\\Box} ,..~ \\in \\mathbb{C}} \\left(\\left(~..\\cdot x_{\\Box} \\cdot..~\\cdot \\left(~..+ y_{\\Box} +..~\\right) \\cdot~..\\cdot z_{\\Box} \\cdot..~\\right) = \\left(~..+ \\left(~..\\cdot x_{\\Box} \\cdot..~\\cdot y_{\\Box} \\cdot~..\\cdot z_{\\Box} \\cdot..~\\right) +..~\\right)\\right)$ \n",
      "                                      by theorem proveit.number.complex.distributeThroughSum\n",
      "                                    condition $1 \\in \\mathbb{C}$ \n",
      "                                      specializing $\\forall_{ a  \\in \\mathbb{N}^+} \\left(a \\in \\mathbb{C}\\right)$  proven above\n",
      "                                      condition $1 \\in \\mathbb{N}^+$  proven above\n",
      "                                    condition $2 \\in \\mathbb{C}$  proven above\n",
      "                                    condition $t \\in \\mathbb{C}$  proven above\n",
      "                                hypothesis $\\left(\\left|\\alpha_{l}\\right|^{2}\\right) \\leq \\frac{1}{ \\left(2^{ \\left( t + 1 \\right) \\cdot 2 }\\right) \\cdot \\left(\\left|\\left(\\delta - \\frac{l}{2^{t}}\\right)\\right|^{2}\\right) }$  assuming $l \\neq 0$, $l \\in \\{\\left( \\left(-\\left(2^{t - 1}\\right)\\right) + 1 \\right)\\ldots \\left(2^{t - 1}\\right)\\}$ \n",
      "                                  implication $\\left(\\left(\\left|\\alpha_{l}\\right|^{2}\\right) \\leq \\frac{1}{ \\left(\\left(\\left(2^{ t + 1 }\\right)\\right)^{2}\\right) \\cdot \\left(\\left|\\left(\\delta - \\frac{l}{2^{t}}\\right)\\right|^{2}\\right) }\\right) \\Rightarrow \\left(\\left(\\left|\\alpha_{l}\\right|^{2}\\right) \\leq \\frac{1}{ \\left(2^{ \\left( t + 1 \\right) \\cdot 2 }\\right) \\cdot \\left(\\left|\\left(\\delta - \\frac{l}{2^{t}}\\right)\\right|^{2}\\right) }\\right)$ \n",
      "                                    implication $\\left(\\left(\\left(\\left(2^{ t + 1 }\\right)\\right)^{2}\\right) = \\left(2^{ \\left( t + 1 \\right) \\cdot 2 }\\right)\\right) \\Rightarrow \\left(\\left(\\left(\\left|\\alpha_{l}\\right|^{2}\\right) \\leq \\frac{1}{ \\left(\\left(\\left(2^{ t + 1 }\\right)\\right)^{2}\\right) \\cdot \\left(\\left|\\left(\\delta - \\frac{l}{2^{t}}\\right)\\right|^{2}\\right) }\\right) \\Rightarrow \\left(\\left(\\left|\\alpha_{l}\\right|^{2}\\right) \\leq \\frac{1}{ \\left(2^{ \\left( t + 1 \\right) \\cdot 2 }\\right) \\cdot \\left(\\left|\\left(\\delta - \\frac{l}{2^{t}}\\right)\\right|^{2}\\right) }\\right)\\right)$ \n",
      "                                      specializing $\\forall_{ P , x , y } \\left(\\left(x = y\\right) \\Rightarrow \\left(P\\left( x \\right) \\Rightarrow P\\left( y \\right)\\right)\\right)$  proven above\n",
      "                                    hypothesis $\\left(\\left(\\left(2^{ t + 1 }\\right)\\right)^{2}\\right) = \\left(2^{ \\left( t + 1 \\right) \\cdot 2 }\\right)$ \n",
      "                                      specializing $\\forall_{ a , b  \\in \\mathbb{C}~|~ \\left(a \\neq 0\\right) } \\left(\\left(\\left(\\left(a^{b}\\right)\\right)^{2}\\right) = \\left(a^{ b \\cdot 2 }\\right)\\right)$  proven above\n",
      "                                      condition $2 \\neq 0$  proven above\n",
      "                                      condition $2 \\in \\mathbb{C}$  proven above\n",
      "                                      condition $\\left( t + 1 \\right) \\in \\mathbb{C}$ \n",
      "                                        specializing $\\forall_{ a  \\in \\mathbb{N}^+} \\left(a \\in \\mathbb{C}\\right)$  proven above\n",
      "                                        condition $\\left( t + 1 \\right) \\in \\mathbb{N}^+$ \n",
      "                                          specializing $\\forall_{~.., a_{\\Box} ,..~, b ,~.., c_{\\Box} ,..~ \\in \\mathbb{N}~|~ \\left(b > 0\\right) } \\left(\\left(~..+ a_{\\Box} +..~+ b +~..+ c_{\\Box} +..~\\right) \\in \\mathbb{N}^+\\right)$ \n",
      "                                            by theorem proveit.number.natural.sumInNatsPos\n",
      "                                          condition $1 \\in \\mathbb{N}$ \n",
      "                                            specializing $\\forall_{ a  \\in \\mathbb{N}^+} \\left(a \\in \\mathbb{N}\\right)$  proven above\n",
      "                                            condition $1 \\in \\mathbb{N}^+$  proven above\n",
      "                                          condition $t > 0$ \n",
      "                                            implication $\\left(t \\in \\mathbb{R}^+\\right) \\Rightarrow \\left(t > 0\\right)$ \n",
      "                                              implication $\\left(\\left(t \\in \\mathbb{R}^+\\right) \\Leftrightarrow \\left(t > 0\\right)\\right) \\Rightarrow \\left(\\left(t \\in \\mathbb{R}^+\\right) \\Rightarrow \\left(t > 0\\right)\\right)$ \n",
      "                                                specializing $\\forall_{ A , B } \\left(\\left(A \\Leftrightarrow B\\right) \\Rightarrow \\left(A \\Rightarrow B\\right)\\right)$  proven above\n",
      "                                              hypothesis $\\left(t \\in \\mathbb{R}^+\\right) \\Leftrightarrow \\left(t > 0\\right)$ \n",
      "                                                specializing $\\forall_{ a  \\in \\mathbb{R}} \\left(\\left(a \\in \\mathbb{R}^+\\right) \\Leftrightarrow \\left(a > 0\\right)\\right)$  proven above\n",
      "                                                condition $t \\in \\mathbb{R}$ \n",
      "                                                  specializing $\\forall_{ a  \\in \\mathbb{N}^+} \\left(a \\in \\mathbb{R}\\right)$  proven above\n",
      "                                                  condition $t \\in \\mathbb{N}^+$  proven above\n",
      "                                            hypothesis $t \\in \\mathbb{R}^+$  proven above\n",
      "                                          condition $t \\in \\mathbb{N}$  proven above\n",
      "                                  hypothesis $\\left(\\left|\\alpha_{l}\\right|^{2}\\right) \\leq \\frac{1}{ \\left(\\left(\\left(2^{ t + 1 }\\right)\\right)^{2}\\right) \\cdot \\left(\\left|\\left(\\delta - \\frac{l}{2^{t}}\\right)\\right|^{2}\\right) }$  assuming $l \\neq 0$, $l \\in \\{\\left( \\left(-\\left(2^{t - 1}\\right)\\right) + 1 \\right)\\ldots \\left(2^{t - 1}\\right)\\}$ \n",
      "                                    implication $\\left(\\left(\\left|\\alpha_{l}\\right|^{2}\\right) \\leq \\frac{1^{2}}{ \\left(\\left(\\left(2^{ t + 1 }\\right)\\right)^{2}\\right) \\cdot \\left(\\left|\\left(\\delta - \\frac{l}{2^{t}}\\right)\\right|^{2}\\right) }\\right) \\Rightarrow \\left(\\left(\\left|\\alpha_{l}\\right|^{2}\\right) \\leq \\frac{1}{ \\left(\\left(\\left(2^{ t + 1 }\\right)\\right)^{2}\\right) \\cdot \\left(\\left|\\left(\\delta - \\frac{l}{2^{t}}\\right)\\right|^{2}\\right) }\\right)$ \n",
      "                                      implication $\\left(\\left(1^{2}\\right) = 1\\right) \\Rightarrow \\left(\\left(\\left(\\left|\\alpha_{l}\\right|^{2}\\right) \\leq \\frac{1^{2}}{ \\left(\\left(\\left(2^{ t + 1 }\\right)\\right)^{2}\\right) \\cdot \\left(\\left|\\left(\\delta - \\frac{l}{2^{t}}\\right)\\right|^{2}\\right) }\\right) \\Rightarrow \\left(\\left(\\left|\\alpha_{l}\\right|^{2}\\right) \\leq \\frac{1}{ \\left(\\left(\\left(2^{ t + 1 }\\right)\\right)^{2}\\right) \\cdot \\left(\\left|\\left(\\delta - \\frac{l}{2^{t}}\\right)\\right|^{2}\\right) }\\right)\\right)$ \n",
      "                                        specializing $\\forall_{ P , x , y } \\left(\\left(x = y\\right) \\Rightarrow \\left(P\\left( x \\right) \\Rightarrow P\\left( y \\right)\\right)\\right)$  proven above\n",
      "                                      hypothesis $\\left(1^{2}\\right) = 1$ \n",
      "                                        specializing $\\forall_{ x  \\in \\mathbb{C}} \\left(\\left(1^{x}\\right) = 1\\right)$ \n",
      "                                          by theorem proveit.number.complex.expOne\n",
      "                                        condition $2 \\in \\mathbb{C}$  proven above\n",
      "                                    hypothesis $\\left(\\left|\\alpha_{l}\\right|^{2}\\right) \\leq \\frac{1^{2}}{ \\left(\\left(\\left(2^{ t + 1 }\\right)\\right)^{2}\\right) \\cdot \\left(\\left|\\left(\\delta - \\frac{l}{2^{t}}\\right)\\right|^{2}\\right) }$  assuming $l \\neq 0$, $l \\in \\{\\left( \\left(-\\left(2^{t - 1}\\right)\\right) + 1 \\right)\\ldots \\left(2^{t - 1}\\right)\\}$ \n",
      "                                      implication $\\left(\\left(\\left|\\alpha_{l}\\right|^{2}\\right) \\leq \\frac{1^{2}}{\\left( \\left(2^{ t + 1 }\\right) \\cdot \\left|\\left(\\delta - \\frac{l}{2^{t}}\\right)\\right| \\right)^{2}}\\right) \\Rightarrow \\left(\\left(\\left|\\alpha_{l}\\right|^{2}\\right) \\leq \\frac{1^{2}}{ \\left(\\left(\\left(2^{ t + 1 }\\right)\\right)^{2}\\right) \\cdot \\left(\\left|\\left(\\delta - \\frac{l}{2^{t}}\\right)\\right|^{2}\\right) }\\right)$  assuming $l \\neq 0$, $l \\in \\{\\left( \\left(-\\left(2^{t - 1}\\right)\\right) + 1 \\right)\\ldots \\left(2^{t - 1}\\right)\\}$ \n",
      "                                        implication $\\left(\\left(\\left( \\left(2^{ t + 1 }\\right) \\cdot \\left|\\left(\\delta - \\frac{l}{2^{t}}\\right)\\right| \\right)^{2}\\right) = \\left( \\left(\\left(\\left(2^{ t + 1 }\\right)\\right)^{2}\\right) \\cdot \\left(\\left|\\left(\\delta - \\frac{l}{2^{t}}\\right)\\right|^{2}\\right) \\right)\\right) \\Rightarrow \\left(\\left(\\left(\\left|\\alpha_{l}\\right|^{2}\\right) \\leq \\frac{1^{2}}{\\left( \\left(2^{ t + 1 }\\right) \\cdot \\left|\\left(\\delta - \\frac{l}{2^{t}}\\right)\\right| \\right)^{2}}\\right) \\Rightarrow \\left(\\left(\\left|\\alpha_{l}\\right|^{2}\\right) \\leq \\frac{1^{2}}{ \\left(\\left(\\left(2^{ t + 1 }\\right)\\right)^{2}\\right) \\cdot \\left(\\left|\\left(\\delta - \\frac{l}{2^{t}}\\right)\\right|^{2}\\right) }\\right)\\right)$ \n",
      "                                          specializing $\\forall_{ P , x , y } \\left(\\left(x = y\\right) \\Rightarrow \\left(P\\left( x \\right) \\Rightarrow P\\left( y \\right)\\right)\\right)$  proven above\n",
      "                                        hypothesis $\\left(\\left( \\left(2^{ t + 1 }\\right) \\cdot \\left|\\left(\\delta - \\frac{l}{2^{t}}\\right)\\right| \\right)^{2}\\right) = \\left( \\left(\\left(\\left(2^{ t + 1 }\\right)\\right)^{2}\\right) \\cdot \\left(\\left|\\left(\\delta - \\frac{l}{2^{t}}\\right)\\right|^{2}\\right) \\right)$  assuming $l \\neq 0$, $l \\in \\{\\left( \\left(-\\left(2^{t - 1}\\right)\\right) + 1 \\right)\\ldots \\left(2^{t - 1}\\right)\\}$ \n",
      "                                          specializing $\\forall_{ a , b  \\in \\mathbb{C}} \\left(\\left(\\left( a \\cdot b \\right)^{2}\\right) = \\left( \\left(a^{2}\\right) \\cdot \\left(b^{2}\\right) \\right)\\right)$ \n",
      "                                            specializing $\\forall_{ n  \\in \\mathbb{N}^+} \\left[\\forall_{ a , b  \\in \\mathbb{C}} \\left(\\left(\\left( a \\cdot b \\right)^{n}\\right) = \\left( \\left(a^{n}\\right) \\cdot \\left(b^{n}\\right) \\right)\\right)\\right]$ \n",
      "                                              by theorem proveit.number.complex.natsPosPowOfProd\n",
      "                                            condition $2 \\in \\mathbb{N}^+$  proven above\n",
      "                                          condition $\\left|\\left(\\delta - \\frac{l}{2^{t}}\\right)\\right| \\in \\mathbb{C}$  assuming $l \\neq 0$, $l \\in \\{\\left( \\left(-\\left(2^{t - 1}\\right)\\right) + 1 \\right)\\ldots \\left(2^{t - 1}\\right)\\}$ \n",
      "                                            specializing $\\forall_{ a  \\in \\mathbb{R}^+} \\left(a \\in \\mathbb{C}\\right)$  proven above\n",
      "                                            condition $\\left|\\left(\\delta - \\frac{l}{2^{t}}\\right)\\right| \\in \\mathbb{R}^+$  assuming $l \\neq 0$, $l \\in \\{\\left( \\left(-\\left(2^{t - 1}\\right)\\right) + 1 \\right)\\ldots \\left(2^{t - 1}\\right)\\}$ \n",
      "                                              specializing $\\forall_{ a  \\in \\mathbb{C}~|~ \\left(a \\neq 0\\right) } \\left(\\left|a\\right| \\in \\mathbb{R}^+\\right)$ \n",
      "                                                by theorem proveit.number.complex.absPosClosure\n",
      "                                              condition $\\left(\\delta - \\frac{l}{2^{t}}\\right) \\neq 0$  assuming $l \\neq 0$, $l \\in \\{\\left( \\left(-\\left(2^{t - 1}\\right)\\right) + 1 \\right)\\ldots \\left(2^{t - 1}\\right)\\}$ \n",
      "                                                specializing $\\forall_{ a , b  \\in \\mathbb{C}~|~ \\left(a \\neq b\\right) } \\left(\\left(a - b\\right) \\neq 0\\right)$  proven above\n",
      "                                                condition $\\delta \\neq \\frac{l}{2^{t}}$  assuming $l \\neq 0$, $l \\in \\{\\left( \\left(-\\left(2^{t - 1}\\right)\\right) + 1 \\right)\\ldots \\left(2^{t - 1}\\right)\\}$  proven above\n",
      "                                                condition $\\delta \\in \\mathbb{C}$  proven above\n",
      "                                                condition $\\frac{l}{2^{t}} \\in \\mathbb{C}$  assuming $l \\neq 0$, $l \\in \\{\\left( \\left(-\\left(2^{t - 1}\\right)\\right) + 1 \\right)\\ldots \\left(2^{t - 1}\\right)\\}$  proven above\n",
      "                                              condition $\\left(\\delta - \\frac{l}{2^{t}}\\right) \\in \\mathbb{C}$  assuming $l \\neq 0$, $l \\in \\{\\left( \\left(-\\left(2^{t - 1}\\right)\\right) + 1 \\right)\\ldots \\left(2^{t - 1}\\right)\\}$ \n",
      "                                                specializing $\\forall_{ a  \\in \\mathbb{R}} \\left(a \\in \\mathbb{C}\\right)$  proven above\n",
      "                                                condition $\\left(\\delta - \\frac{l}{2^{t}}\\right) \\in \\mathbb{R}$  assuming $l \\neq 0$, $l \\in \\{\\left( \\left(-\\left(2^{t - 1}\\right)\\right) + 1 \\right)\\ldots \\left(2^{t - 1}\\right)\\}$  proven above\n",
      "                                          condition $\\left(2^{ t + 1 }\\right) \\in \\mathbb{C}$ \n",
      "                                            specializing $\\forall_{ a  \\in \\mathbb{N}^+} \\left(a \\in \\mathbb{C}\\right)$  proven above\n",
      "                                            condition $\\left(2^{ t + 1 }\\right) \\in \\mathbb{N}^+$ \n",
      "                                              specializing $\\forall_{ a , b  \\in \\mathbb{N}~|~ \\left(a \\neq 0\\right) } \\left(\\left(a^{b}\\right) \\in \\mathbb{N}^+\\right)$  proven above\n",
      "                                              condition $2 \\neq 0$  proven above\n",
      "                                              condition $2 \\in \\mathbb{N}$  proven above\n",
      "                                              condition $\\left( t + 1 \\right) \\in \\mathbb{N}$ \n",
      "                                                specializing $\\forall_{ a  \\in \\mathbb{N}^+} \\left(a \\in \\mathbb{N}\\right)$  proven above\n",
      "                                                condition $\\left( t + 1 \\right) \\in \\mathbb{N}^+$  proven above\n",
      "                                      hypothesis $\\left(\\left|\\alpha_{l}\\right|^{2}\\right) \\leq \\frac{1^{2}}{\\left( \\left(2^{ t + 1 }\\right) \\cdot \\left|\\left(\\delta - \\frac{l}{2^{t}}\\right)\\right| \\right)^{2}}$  assuming $l \\neq 0$, $l \\in \\{\\left( \\left(-\\left(2^{t - 1}\\right)\\right) + 1 \\right)\\ldots \\left(2^{t - 1}\\right)\\}$ \n",
      "                                        implication $\\left(\\left(\\left|\\alpha_{l}\\right|^{2}\\right) \\leq \\left(\\left(\\frac{1}{ \\left(2^{ t + 1 }\\right) \\cdot \\left|\\left(\\delta - \\frac{l}{2^{t}}\\right)\\right| }\\right)^{2}\\right)\\right) \\Rightarrow \\left(\\left(\\left|\\alpha_{l}\\right|^{2}\\right) \\leq \\frac{1^{2}}{\\left( \\left(2^{ t + 1 }\\right) \\cdot \\left|\\left(\\delta - \\frac{l}{2^{t}}\\right)\\right| \\right)^{2}}\\right)$  assuming $l \\neq 0$, $l \\in \\{\\left( \\left(-\\left(2^{t - 1}\\right)\\right) + 1 \\right)\\ldots \\left(2^{t - 1}\\right)\\}$ \n",
      "                                          implication $\\left(\\left(\\left(\\frac{1}{ \\left(2^{ t + 1 }\\right) \\cdot \\left|\\left(\\delta - \\frac{l}{2^{t}}\\right)\\right| }\\right)^{2}\\right) = \\frac{1^{2}}{\\left( \\left(2^{ t + 1 }\\right) \\cdot \\left|\\left(\\delta - \\frac{l}{2^{t}}\\right)\\right| \\right)^{2}}\\right) \\Rightarrow \\left(\\left(\\left(\\left|\\alpha_{l}\\right|^{2}\\right) \\leq \\left(\\left(\\frac{1}{ \\left(2^{ t + 1 }\\right) \\cdot \\left|\\left(\\delta - \\frac{l}{2^{t}}\\right)\\right| }\\right)^{2}\\right)\\right) \\Rightarrow \\left(\\left(\\left|\\alpha_{l}\\right|^{2}\\right) \\leq \\frac{1^{2}}{\\left( \\left(2^{ t + 1 }\\right) \\cdot \\left|\\left(\\delta - \\frac{l}{2^{t}}\\right)\\right| \\right)^{2}}\\right)\\right)$ \n",
      "                                            specializing $\\forall_{ P , x , y } \\left(\\left(x = y\\right) \\Rightarrow \\left(P\\left( x \\right) \\Rightarrow P\\left( y \\right)\\right)\\right)$  proven above\n",
      "                                          hypothesis $\\left(\\left(\\frac{1}{ \\left(2^{ t + 1 }\\right) \\cdot \\left|\\left(\\delta - \\frac{l}{2^{t}}\\right)\\right| }\\right)^{2}\\right) = \\frac{1^{2}}{\\left( \\left(2^{ t + 1 }\\right) \\cdot \\left|\\left(\\delta - \\frac{l}{2^{t}}\\right)\\right| \\right)^{2}}$  assuming $l \\neq 0$, $l \\in \\{\\left( \\left(-\\left(2^{t - 1}\\right)\\right) + 1 \\right)\\ldots \\left(2^{t - 1}\\right)\\}$ \n",
      "                                            specializing $\\forall_{ a , b ~|~ \\left(a \\neq 0\\right) , \\left(b \\neq 0\\right) } \\left(\\left(\\left(\\frac{a}{b}\\right)^{2}\\right) = \\frac{a^{2}}{b^{2}}\\right)$ \n",
      "                                              specializing $\\forall_{ n  \\in \\mathbb{Z}} \\left[\\forall_{ a , b ~|~ \\left(a \\neq 0\\right) , \\left(b \\neq 0\\right) } \\left(\\left(\\left(\\frac{a}{b}\\right)^{n}\\right) = \\frac{a^{n}}{b^{n}}\\right)\\right]$ \n",
      "                                                by theorem proveit.number.complex.fracIntExpRev\n",
      "                                              condition $2 \\in \\mathbb{Z}$  proven above\n",
      "                                            condition $1 \\neq 0$ \n",
      "                                              specializing $\\forall_{ a  \\in \\mathbb{R}~|~ \\left(a > 0\\right) } \\left(a \\neq 0\\right)$  proven above\n",
      "                                              condition $1 > 0$ \n",
      "                                                implication $\\left(1 \\in \\mathbb{R}^+\\right) \\Rightarrow \\left(1 > 0\\right)$ \n",
      "                                                  implication $\\left(\\left(1 \\in \\mathbb{R}^+\\right) \\Leftrightarrow \\left(1 > 0\\right)\\right) \\Rightarrow \\left(\\left(1 \\in \\mathbb{R}^+\\right) \\Rightarrow \\left(1 > 0\\right)\\right)$ \n",
      "                                                    specializing $\\forall_{ A , B } \\left(\\left(A \\Leftrightarrow B\\right) \\Rightarrow \\left(A \\Rightarrow B\\right)\\right)$  proven above\n",
      "                                                  hypothesis $\\left(1 \\in \\mathbb{R}^+\\right) \\Leftrightarrow \\left(1 > 0\\right)$ \n",
      "                                                    specializing $\\forall_{ a  \\in \\mathbb{R}} \\left(\\left(a \\in \\mathbb{R}^+\\right) \\Leftrightarrow \\left(a > 0\\right)\\right)$  proven above\n",
      "                                                    condition $1 \\in \\mathbb{R}$ \n",
      "                                                      specializing $\\forall_{ a  \\in \\mathbb{N}^+} \\left(a \\in \\mathbb{R}\\right)$  proven above\n",
      "                                                      condition $1 \\in \\mathbb{N}^+$  proven above\n",
      "                                                hypothesis $1 \\in \\mathbb{R}^+$ \n",
      "                                                  specializing $\\forall_{ a  \\in \\mathbb{N}^+} \\left(a \\in \\mathbb{R}^+\\right)$  proven above\n",
      "                                                  condition $1 \\in \\mathbb{N}^+$  proven above\n",
      "                                              condition $1 \\in \\mathbb{R}$  proven above\n",
      "                                            condition $\\left( \\left(2^{ t + 1 }\\right) \\cdot \\left|\\left(\\delta - \\frac{l}{2^{t}}\\right)\\right| \\right) \\neq 0$  assuming $l \\neq 0$, $l \\in \\{\\left( \\left(-\\left(2^{t - 1}\\right)\\right) + 1 \\right)\\ldots \\left(2^{t - 1}\\right)\\}$ \n",
      "                                              specializing $\\forall_{ a  \\in \\mathbb{R}~|~ \\left(a > 0\\right) } \\left(a \\neq 0\\right)$  proven above\n",
      "                                              condition $\\left( \\left(2^{ t + 1 }\\right) \\cdot \\left|\\left(\\delta - \\frac{l}{2^{t}}\\right)\\right| \\right) \\in \\mathbb{R}$  assuming $l \\neq 0$, $l \\in \\{\\left( \\left(-\\left(2^{t - 1}\\right)\\right) + 1 \\right)\\ldots \\left(2^{t - 1}\\right)\\}$ \n",
      "                                                specializing $\\forall_{ a  \\in \\mathbb{R}^+} \\left(a \\in \\mathbb{R}\\right)$ \n",
      "                                                  by theorem proveit.number.real.inRealsPos_inReals\n",
      "                                                condition $\\left( \\left(2^{ t + 1 }\\right) \\cdot \\left|\\left(\\delta - \\frac{l}{2^{t}}\\right)\\right| \\right) \\in \\mathbb{R}^+$  assuming $l \\neq 0$, $l \\in \\{\\left( \\left(-\\left(2^{t - 1}\\right)\\right) + 1 \\right)\\ldots \\left(2^{t - 1}\\right)\\}$ \n",
      "                                                  specializing $\\forall_{~.., x_{\\Box} ,..~ \\in \\mathbb{R}^+} \\left(\\left(~..\\cdot x_{\\Box} \\cdot..~\\right) \\in \\mathbb{R}^+\\right)$  proven above\n",
      "                                                  condition $\\left|\\left(\\delta - \\frac{l}{2^{t}}\\right)\\right| \\in \\mathbb{R}^+$  assuming $l \\neq 0$, $l \\in \\{\\left( \\left(-\\left(2^{t - 1}\\right)\\right) + 1 \\right)\\ldots \\left(2^{t - 1}\\right)\\}$  proven above\n",
      "                                                  condition $\\left(2^{ t + 1 }\\right) \\in \\mathbb{R}^+$ \n",
      "                                                    specializing $\\forall_{ a  \\in \\mathbb{N}^+} \\left(a \\in \\mathbb{R}^+\\right)$  proven above\n",
      "                                                    condition $\\left(2^{ t + 1 }\\right) \\in \\mathbb{N}^+$  proven above\n",
      "                                              condition $\\left( \\left(2^{ t + 1 }\\right) \\cdot \\left|\\left(\\delta - \\frac{l}{2^{t}}\\right)\\right| \\right) > 0$  assuming $l \\neq 0$, $l \\in \\{\\left( \\left(-\\left(2^{t - 1}\\right)\\right) + 1 \\right)\\ldots \\left(2^{t - 1}\\right)\\}$ \n",
      "                                                implication $\\left(\\left( \\left(2^{ t + 1 }\\right) \\cdot \\left|\\left(\\delta - \\frac{l}{2^{t}}\\right)\\right| \\right) \\in \\mathbb{R}^+\\right) \\Rightarrow \\left(\\left( \\left(2^{ t + 1 }\\right) \\cdot \\left|\\left(\\delta - \\frac{l}{2^{t}}\\right)\\right| \\right) > 0\\right)$ \n",
      "                                                  hypothetically reasoning $\\left( \\left(2^{ t + 1 }\\right) \\cdot \\left|\\left(\\delta - \\frac{l}{2^{t}}\\right)\\right| \\right) > 0$  assuming $\\left( \\left(2^{ t + 1 }\\right) \\cdot \\left|\\left(\\delta - \\frac{l}{2^{t}}\\right)\\right| \\right) \\in \\mathbb{R}^+$ \n",
      "                                                    implication $\\left(\\left( \\left(2^{ t + 1 }\\right) \\cdot \\left|\\left(\\delta - \\frac{l}{2^{t}}\\right)\\right| \\right) \\in \\mathbb{R}^+\\right) \\Rightarrow \\left(\\left( \\left(2^{ t + 1 }\\right) \\cdot \\left|\\left(\\delta - \\frac{l}{2^{t}}\\right)\\right| \\right) > 0\\right)$  assuming $\\left( \\left(2^{ t + 1 }\\right) \\cdot \\left|\\left(\\delta - \\frac{l}{2^{t}}\\right)\\right| \\right) \\in \\mathbb{R}^+$ \n",
      "                                                      implication $\\left(\\left(\\left( \\left(2^{ t + 1 }\\right) \\cdot \\left|\\left(\\delta - \\frac{l}{2^{t}}\\right)\\right| \\right) \\in \\mathbb{R}^+\\right) \\Leftrightarrow \\left(\\left( \\left(2^{ t + 1 }\\right) \\cdot \\left|\\left(\\delta - \\frac{l}{2^{t}}\\right)\\right| \\right) > 0\\right)\\right) \\Rightarrow \\left(\\left(\\left( \\left(2^{ t + 1 }\\right) \\cdot \\left|\\left(\\delta - \\frac{l}{2^{t}}\\right)\\right| \\right) \\in \\mathbb{R}^+\\right) \\Rightarrow \\left(\\left( \\left(2^{ t + 1 }\\right) \\cdot \\left|\\left(\\delta - \\frac{l}{2^{t}}\\right)\\right| \\right) > 0\\right)\\right)$ \n",
      "                                                        specializing $\\forall_{ A , B } \\left(\\left(A \\Leftrightarrow B\\right) \\Rightarrow \\left(A \\Rightarrow B\\right)\\right)$  proven above\n",
      "                                                      hypothesis $\\left(\\left( \\left(2^{ t + 1 }\\right) \\cdot \\left|\\left(\\delta - \\frac{l}{2^{t}}\\right)\\right| \\right) \\in \\mathbb{R}^+\\right) \\Leftrightarrow \\left(\\left( \\left(2^{ t + 1 }\\right) \\cdot \\left|\\left(\\delta - \\frac{l}{2^{t}}\\right)\\right| \\right) > 0\\right)$  assuming $\\left( \\left(2^{ t + 1 }\\right) \\cdot \\left|\\left(\\delta - \\frac{l}{2^{t}}\\right)\\right| \\right) \\in \\mathbb{R}^+$ \n",
      "                                                        specializing $\\forall_{ a  \\in \\mathbb{R}} \\left(\\left(a \\in \\mathbb{R}^+\\right) \\Leftrightarrow \\left(a > 0\\right)\\right)$  proven above\n",
      "                                                        condition $\\left( \\left(2^{ t + 1 }\\right) \\cdot \\left|\\left(\\delta - \\frac{l}{2^{t}}\\right)\\right| \\right) \\in \\mathbb{R}$  assuming $\\left( \\left(2^{ t + 1 }\\right) \\cdot \\left|\\left(\\delta - \\frac{l}{2^{t}}\\right)\\right| \\right) \\in \\mathbb{R}^+$ \n",
      "                                                          specializing $\\forall_{ a  \\in \\mathbb{R}^+} \\left(a \\in \\mathbb{R}\\right)$  proven above\n",
      "                                                          condition $\\left( \\left(2^{ t + 1 }\\right) \\cdot \\left|\\left(\\delta - \\frac{l}{2^{t}}\\right)\\right| \\right) \\in \\mathbb{R}^+$  assuming $\\left( \\left(2^{ t + 1 }\\right) \\cdot \\left|\\left(\\delta - \\frac{l}{2^{t}}\\right)\\right| \\right) \\in \\mathbb{R}^+$ \n",
      "                                                    hypothesis $\\left( \\left(2^{ t + 1 }\\right) \\cdot \\left|\\left(\\delta - \\frac{l}{2^{t}}\\right)\\right| \\right) \\in \\mathbb{R}^+$  assuming $\\left( \\left(2^{ t + 1 }\\right) \\cdot \\left|\\left(\\delta - \\frac{l}{2^{t}}\\right)\\right| \\right) \\in \\mathbb{R}^+$  proven above\n",
      "                                                hypothesis $\\left( \\left(2^{ t + 1 }\\right) \\cdot \\left|\\left(\\delta - \\frac{l}{2^{t}}\\right)\\right| \\right) \\in \\mathbb{R}^+$  assuming $l \\neq 0$, $l \\in \\{\\left( \\left(-\\left(2^{t - 1}\\right)\\right) + 1 \\right)\\ldots \\left(2^{t - 1}\\right)\\}$  proven above\n",
      "                                        hypothesis $\\left(\\left|\\alpha_{l}\\right|^{2}\\right) \\leq \\left(\\left(\\frac{1}{ \\left(2^{ t + 1 }\\right) \\cdot \\left|\\left(\\delta - \\frac{l}{2^{t}}\\right)\\right| }\\right)^{2}\\right)$  assuming $l \\neq 0$, $l \\in \\{\\left( \\left(-\\left(2^{t - 1}\\right)\\right) + 1 \\right)\\ldots \\left(2^{t - 1}\\right)\\}$ \n",
      "                                          specializing $\\forall_{ b  \\in \\mathbb{R}~|~ \\left(\\left|\\alpha_{l}\\right| \\leq b\\right) } \\left(\\left(\\left|\\alpha_{l}\\right|^{2}\\right) \\leq \\left(b^{2}\\right)\\right)$  assuming $l \\neq 0$, $l \\in \\{\\left( \\left(-\\left(2^{t - 1}\\right)\\right) + 1 \\right)\\ldots \\left(2^{t - 1}\\right)\\}$ \n",
      "                                            specializing $\\forall_{ a  \\in \\mathbb{C}} \\left[\\forall_{ b  \\in \\mathbb{R}~|~ \\left(\\left|a\\right| \\leq b\\right) } \\left(\\left(\\left|a\\right|^{2}\\right) \\leq \\left(b^{2}\\right)\\right)\\right]$ \n",
      "                                              by theorem proveit.number.complex.squarePosIneq\n",
      "                                            condition $\\alpha_{l} \\in \\mathbb{C}$  assuming $l \\neq 0$, $l \\in \\{\\left( \\left(-\\left(2^{t - 1}\\right)\\right) + 1 \\right)\\ldots \\left(2^{t - 1}\\right)\\}$ \n",
      "                                              specializing $\\forall_{ l  \\in \\mathbb{Z}} \\left(\\alpha_{l} \\in \\mathbb{C}\\right)$ \n",
      "                                                by theorem proveit.physics.quantum.QPE.all_alpha_l_in_complexes\n",
      "                                              condition $l \\in \\mathbb{Z}$  assuming $l \\neq 0$, $l \\in \\{\\left( \\left(-\\left(2^{t - 1}\\right)\\right) + 1 \\right)\\ldots \\left(2^{t - 1}\\right)\\}$  proven above\n",
      "                                          condition $\\frac{1}{ \\left(2^{ t + 1 }\\right) \\cdot \\left|\\left(\\delta - \\frac{l}{2^{t}}\\right)\\right| } \\in \\mathbb{R}$  assuming $l \\neq 0$, $l \\in \\{\\left( \\left(-\\left(2^{t - 1}\\right)\\right) + 1 \\right)\\ldots \\left(2^{t - 1}\\right)\\}$ \n",
      "                                            specializing $\\forall_{ a  \\in \\mathbb{R}^+} \\left(a \\in \\mathbb{R}\\right)$  proven above\n",
      "                                            condition $\\frac{1}{ \\left(2^{ t + 1 }\\right) \\cdot \\left|\\left(\\delta - \\frac{l}{2^{t}}\\right)\\right| } \\in \\mathbb{R}^+$  assuming $l \\neq 0$, $l \\in \\{\\left( \\left(-\\left(2^{t - 1}\\right)\\right) + 1 \\right)\\ldots \\left(2^{t - 1}\\right)\\}$ \n",
      "                                              specializing $\\forall_{ a , b  \\in \\mathbb{R}^+~|~ \\left(b \\neq 0\\right) } \\left(\\frac{a}{b} \\in \\mathbb{R}^+\\right)$ \n",
      "                                                by theorem proveit.number.real.fractionPosClosure\n",
      "                                              condition $\\left( \\left(2^{ t + 1 }\\right) \\cdot \\left|\\left(\\delta - \\frac{l}{2^{t}}\\right)\\right| \\right) \\in \\mathbb{R}^+$  assuming $l \\neq 0$, $l \\in \\{\\left( \\left(-\\left(2^{t - 1}\\right)\\right) + 1 \\right)\\ldots \\left(2^{t - 1}\\right)\\}$  proven above\n",
      "                                              condition $1 \\in \\mathbb{R}^+$  proven above\n",
      "                                              condition $\\left( \\left(2^{ t + 1 }\\right) \\cdot \\left|\\left(\\delta - \\frac{l}{2^{t}}\\right)\\right| \\right) \\neq 0$  assuming $l \\neq 0$, $l \\in \\{\\left( \\left(-\\left(2^{t - 1}\\right)\\right) + 1 \\right)\\ldots \\left(2^{t - 1}\\right)\\}$  proven above\n",
      "                                          condition $\\left|\\alpha_{l}\\right| \\leq \\frac{1}{ \\left(2^{ t + 1 }\\right) \\cdot \\left|\\left(\\delta - \\frac{l}{2^{t}}\\right)\\right| }$  assuming $l \\neq 0$, $l \\in \\{\\left( \\left(-\\left(2^{t - 1}\\right)\\right) + 1 \\right)\\ldots \\left(2^{t - 1}\\right)\\}$ \n",
      "                                            implication $\\left(\\left|\\alpha_{l}\\right| \\leq \\frac{1}{ \\left(2^{t}\\right) \\cdot 2 \\cdot \\left|\\left(\\delta - \\frac{l}{2^{t}}\\right)\\right| }\\right) \\Rightarrow \\left(\\left|\\alpha_{l}\\right| \\leq \\frac{1}{ \\left(2^{ t + 1 }\\right) \\cdot \\left|\\left(\\delta - \\frac{l}{2^{t}}\\right)\\right| }\\right)$ \n",
      "                                              implication $\\left(\\left( \\left(2^{t}\\right) \\cdot 2 \\cdot \\left|\\left(\\delta - \\frac{l}{2^{t}}\\right)\\right| \\right) = \\left( \\left(2^{ t + 1 }\\right) \\cdot \\left|\\left(\\delta - \\frac{l}{2^{t}}\\right)\\right| \\right)\\right) \\Rightarrow \\left(\\left(\\left|\\alpha_{l}\\right| \\leq \\frac{1}{ \\left(2^{t}\\right) \\cdot 2 \\cdot \\left|\\left(\\delta - \\frac{l}{2^{t}}\\right)\\right| }\\right) \\Rightarrow \\left(\\left|\\alpha_{l}\\right| \\leq \\frac{1}{ \\left(2^{ t + 1 }\\right) \\cdot \\left|\\left(\\delta - \\frac{l}{2^{t}}\\right)\\right| }\\right)\\right)$ \n",
      "                                                specializing $\\forall_{ P , x , y } \\left(\\left(x = y\\right) \\Rightarrow \\left(P\\left( x \\right) \\Rightarrow P\\left( y \\right)\\right)\\right)$  proven above\n",
      "                                              hypothesis $\\left( \\left(2^{t}\\right) \\cdot 2 \\cdot \\left|\\left(\\delta - \\frac{l}{2^{t}}\\right)\\right| \\right) = \\left( \\left(2^{ t + 1 }\\right) \\cdot \\left|\\left(\\delta - \\frac{l}{2^{t}}\\right)\\right| \\right)$ \n",
      "                                                implication $\\left(\\left( \\left( \\left(2^{t}\\right) \\cdot 2 \\right) \\cdot \\left|\\left(\\delta - \\frac{l}{2^{t}}\\right)\\right| \\right) = \\left( \\left(2^{ t + 1 }\\right) \\cdot \\left|\\left(\\delta - \\frac{l}{2^{t}}\\right)\\right| \\right)\\right) \\Rightarrow \\left(\\left( \\left(2^{t}\\right) \\cdot 2 \\cdot \\left|\\left(\\delta - \\frac{l}{2^{t}}\\right)\\right| \\right) = \\left( \\left(2^{ t + 1 }\\right) \\cdot \\left|\\left(\\delta - \\frac{l}{2^{t}}\\right)\\right| \\right)\\right)$ \n",
      "                                                  implication $\\left(\\left( \\left(2^{t}\\right) \\cdot 2 \\cdot \\left|\\left(\\delta - \\frac{l}{2^{t}}\\right)\\right| \\right) = \\left( \\left( \\left(2^{t}\\right) \\cdot 2 \\right) \\cdot \\left|\\left(\\delta - \\frac{l}{2^{t}}\\right)\\right| \\right)\\right) \\Rightarrow \\left(\\left(\\left( \\left( \\left(2^{t}\\right) \\cdot 2 \\right) \\cdot \\left|\\left(\\delta - \\frac{l}{2^{t}}\\right)\\right| \\right) = \\left( \\left(2^{ t + 1 }\\right) \\cdot \\left|\\left(\\delta - \\frac{l}{2^{t}}\\right)\\right| \\right)\\right) \\Rightarrow \\left(\\left( \\left(2^{t}\\right) \\cdot 2 \\cdot \\left|\\left(\\delta - \\frac{l}{2^{t}}\\right)\\right| \\right) = \\left( \\left(2^{ t + 1 }\\right) \\cdot \\left|\\left(\\delta - \\frac{l}{2^{t}}\\right)\\right| \\right)\\right)\\right)$ \n",
      "                                                    specializing $\\forall_{ x , y , z } \\left(\\left(x = y\\right) \\Rightarrow \\left(\\left(y = z\\right) \\Rightarrow \\left(x = z\\right)\\right)\\right)$ \n",
      "                                                      by axiom proveit.basiclogic.equality.equalsTransitivity\n",
      "                                                  hypothesis $\\left( \\left(2^{t}\\right) \\cdot 2 \\cdot \\left|\\left(\\delta - \\frac{l}{2^{t}}\\right)\\right| \\right) = \\left( \\left( \\left(2^{t}\\right) \\cdot 2 \\right) \\cdot \\left|\\left(\\delta - \\frac{l}{2^{t}}\\right)\\right| \\right)$ \n",
      "                                                    specializing $\\forall_{~.., x_{\\Box} ,..., y_{\\Box} ,..., z_{\\Box} ,..~} \\left(\\left(~..\\cdot x_{\\Box} \\cdot...\\cdot y_{\\Box} \\cdot...\\cdot z_{\\Box} \\cdot..~\\right) = \\left(~..\\cdot x_{\\Box} \\cdot..~\\cdot \\left(~..\\cdot y_{\\Box} \\cdot..~\\right) \\cdot~..\\cdot z_{\\Box} \\cdot..~\\right)\\right)$  proven above\n",
      "                                                hypothesis $\\left( \\left( \\left(2^{t}\\right) \\cdot 2 \\right) \\cdot \\left|\\left(\\delta - \\frac{l}{2^{t}}\\right)\\right| \\right) = \\left( \\left(2^{ t + 1 }\\right) \\cdot \\left|\\left(\\delta - \\frac{l}{2^{t}}\\right)\\right| \\right)$ \n",
      "                                                  implication $\\left(\\left( \\left(2^{t}\\right) \\cdot 2 \\right) = \\left(2^{ t + 1 }\\right)\\right) \\Rightarrow \\left(\\left( \\left( \\left(2^{t}\\right) \\cdot 2 \\right) \\cdot \\left|\\left(\\delta - \\frac{l}{2^{t}}\\right)\\right| \\right) = \\left( \\left(2^{ t + 1 }\\right) \\cdot \\left|\\left(\\delta - \\frac{l}{2^{t}}\\right)\\right| \\right)\\right)$ \n",
      "                                                    specializing $\\forall_{ f , x , y } \\left(\\left(x = y\\right) \\Rightarrow \\left(f\\left( x \\right) = f\\left( y \\right)\\right)\\right)$ \n",
      "                                                      by axiom proveit.basiclogic.equality.substitution\n",
      "                                                  hypothesis $\\left( \\left(2^{t}\\right) \\cdot 2 \\right) = \\left(2^{ t + 1 }\\right)$ \n",
      "                                                    specializing $\\forall_{ a , b  \\in \\mathbb{C}~|~ \\left(a \\neq 0\\right) } \\left(\\left( \\left(a^{b}\\right) \\cdot a \\right) = \\left(a^{ b + 1 }\\right)\\right)$ \n",
      "                                                      by theorem proveit.number.complex.addOneRightInPowRev\n",
      "                                                    condition $2 \\neq 0$  proven above\n",
      "                                                    condition $2 \\in \\mathbb{C}$  proven above\n",
      "                                                    condition $t \\in \\mathbb{C}$  proven above\n",
      "                                            hypothesis $\\left|\\alpha_{l}\\right| \\leq \\frac{1}{ \\left(2^{t}\\right) \\cdot 2 \\cdot \\left|\\left(\\delta - \\frac{l}{2^{t}}\\right)\\right| }$  assuming $l \\neq 0$, $l \\in \\{\\left( \\left(-\\left(2^{t - 1}\\right)\\right) + 1 \\right)\\ldots \\left(2^{t - 1}\\right)\\}$ \n",
      "                                              implication $\\left(\\left|\\alpha_{l}\\right| \\leq \\frac{2}{ \\left(2^{t}\\right) \\cdot 2 \\cdot 2 \\cdot \\left|\\left(\\delta - \\frac{l}{2^{t}}\\right)\\right| }\\right) \\Rightarrow \\left(\\left|\\alpha_{l}\\right| \\leq \\frac{1}{ \\left(2^{t}\\right) \\cdot 2 \\cdot \\left|\\left(\\delta - \\frac{l}{2^{t}}\\right)\\right| }\\right)$  assuming $l \\neq 0$, $l \\in \\{\\left( \\left(-\\left(2^{t - 1}\\right)\\right) + 1 \\right)\\ldots \\left(2^{t - 1}\\right)\\}$ \n",
      "                                                implication $\\left(\\frac{2}{ \\left(2^{t}\\right) \\cdot 2 \\cdot 2 \\cdot \\left|\\left(\\delta - \\frac{l}{2^{t}}\\right)\\right| } = \\frac{1}{ \\left(2^{t}\\right) \\cdot 2 \\cdot \\left|\\left(\\delta - \\frac{l}{2^{t}}\\right)\\right| }\\right) \\Rightarrow \\left(\\left(\\left|\\alpha_{l}\\right| \\leq \\frac{2}{ \\left(2^{t}\\right) \\cdot 2 \\cdot 2 \\cdot \\left|\\left(\\delta - \\frac{l}{2^{t}}\\right)\\right| }\\right) \\Rightarrow \\left(\\left|\\alpha_{l}\\right| \\leq \\frac{1}{ \\left(2^{t}\\right) \\cdot 2 \\cdot \\left|\\left(\\delta - \\frac{l}{2^{t}}\\right)\\right| }\\right)\\right)$ \n",
      "                                                  specializing $\\forall_{ P , x , y } \\left(\\left(x = y\\right) \\Rightarrow \\left(P\\left( x \\right) \\Rightarrow P\\left( y \\right)\\right)\\right)$  proven above\n",
      "                                                hypothesis $\\frac{2}{ \\left(2^{t}\\right) \\cdot 2 \\cdot 2 \\cdot \\left|\\left(\\delta - \\frac{l}{2^{t}}\\right)\\right| } = \\frac{1}{ \\left(2^{t}\\right) \\cdot 2 \\cdot \\left|\\left(\\delta - \\frac{l}{2^{t}}\\right)\\right| }$  assuming $l \\neq 0$, $l \\in \\{\\left( \\left(-\\left(2^{t - 1}\\right)\\right) + 1 \\right)\\ldots \\left(2^{t - 1}\\right)\\}$ \n",
      "                                                  implication $\\left(\\frac{2}{ 2 \\cdot \\left( \\left(2^{t}\\right) \\cdot 2 \\cdot \\left|\\left(\\delta - \\frac{l}{2^{t}}\\right)\\right| \\right) } = \\frac{1}{ \\left(2^{t}\\right) \\cdot 2 \\cdot \\left|\\left(\\delta - \\frac{l}{2^{t}}\\right)\\right| }\\right) \\Rightarrow \\left(\\frac{2}{ \\left(2^{t}\\right) \\cdot 2 \\cdot 2 \\cdot \\left|\\left(\\delta - \\frac{l}{2^{t}}\\right)\\right| } = \\frac{1}{ \\left(2^{t}\\right) \\cdot 2 \\cdot \\left|\\left(\\delta - \\frac{l}{2^{t}}\\right)\\right| }\\right)$  assuming $l \\neq 0$, $l \\in \\{\\left( \\left(-\\left(2^{t - 1}\\right)\\right) + 1 \\right)\\ldots \\left(2^{t - 1}\\right)\\}$ \n",
      "                                                    implication $\\left(\\frac{2}{ \\left(2^{t}\\right) \\cdot 2 \\cdot 2 \\cdot \\left|\\left(\\delta - \\frac{l}{2^{t}}\\right)\\right| } = \\frac{2}{ 2 \\cdot \\left( \\left(2^{t}\\right) \\cdot 2 \\cdot \\left|\\left(\\delta - \\frac{l}{2^{t}}\\right)\\right| \\right) }\\right) \\Rightarrow \\left(\\left(\\frac{2}{ 2 \\cdot \\left( \\left(2^{t}\\right) \\cdot 2 \\cdot \\left|\\left(\\delta - \\frac{l}{2^{t}}\\right)\\right| \\right) } = \\frac{1}{ \\left(2^{t}\\right) \\cdot 2 \\cdot \\left|\\left(\\delta - \\frac{l}{2^{t}}\\right)\\right| }\\right) \\Rightarrow \\left(\\frac{2}{ \\left(2^{t}\\right) \\cdot 2 \\cdot 2 \\cdot \\left|\\left(\\delta - \\frac{l}{2^{t}}\\right)\\right| } = \\frac{1}{ \\left(2^{t}\\right) \\cdot 2 \\cdot \\left|\\left(\\delta - \\frac{l}{2^{t}}\\right)\\right| }\\right)\\right)$ \n",
      "                                                      specializing $\\forall_{ x , y , z } \\left(\\left(x = y\\right) \\Rightarrow \\left(\\left(y = z\\right) \\Rightarrow \\left(x = z\\right)\\right)\\right)$  proven above\n",
      "                                                    hypothesis $\\frac{2}{ \\left(2^{t}\\right) \\cdot 2 \\cdot 2 \\cdot \\left|\\left(\\delta - \\frac{l}{2^{t}}\\right)\\right| } = \\frac{2}{ 2 \\cdot \\left( \\left(2^{t}\\right) \\cdot 2 \\cdot \\left|\\left(\\delta - \\frac{l}{2^{t}}\\right)\\right| \\right) }$  assuming $l \\neq 0$, $l \\in \\{\\left( \\left(-\\left(2^{t - 1}\\right)\\right) + 1 \\right)\\ldots \\left(2^{t - 1}\\right)\\}$ \n",
      "                                                      implication $\\left(\\left( \\left(2^{t}\\right) \\cdot 2 \\cdot 2 \\cdot \\left|\\left(\\delta - \\frac{l}{2^{t}}\\right)\\right| \\right) = \\left( 2 \\cdot \\left( \\left(2^{t}\\right) \\cdot 2 \\cdot \\left|\\left(\\delta - \\frac{l}{2^{t}}\\right)\\right| \\right) \\right)\\right) \\Rightarrow \\left(\\frac{2}{ \\left(2^{t}\\right) \\cdot 2 \\cdot 2 \\cdot \\left|\\left(\\delta - \\frac{l}{2^{t}}\\right)\\right| } = \\frac{2}{ 2 \\cdot \\left( \\left(2^{t}\\right) \\cdot 2 \\cdot \\left|\\left(\\delta - \\frac{l}{2^{t}}\\right)\\right| \\right) }\\right)$ \n",
      "                                                        specializing $\\forall_{ f , x , y } \\left(\\left(x = y\\right) \\Rightarrow \\left(f\\left( x \\right) = f\\left( y \\right)\\right)\\right)$  proven above\n",
      "                                                      hypothesis $\\left( \\left(2^{t}\\right) \\cdot 2 \\cdot 2 \\cdot \\left|\\left(\\delta - \\frac{l}{2^{t}}\\right)\\right| \\right) = \\left( 2 \\cdot \\left( \\left(2^{t}\\right) \\cdot 2 \\cdot \\left|\\left(\\delta - \\frac{l}{2^{t}}\\right)\\right| \\right) \\right)$  assuming $l \\neq 0$, $l \\in \\{\\left( \\left(-\\left(2^{t - 1}\\right)\\right) + 1 \\right)\\ldots \\left(2^{t - 1}\\right)\\}$ \n",
      "                                                        implication $\\left(\\left( 2 \\cdot \\left(2^{t}\\right) \\cdot 2 \\cdot \\left|\\left(\\delta - \\frac{l}{2^{t}}\\right)\\right| \\right) = \\left( 2 \\cdot \\left( \\left(2^{t}\\right) \\cdot 2 \\cdot \\left|\\left(\\delta - \\frac{l}{2^{t}}\\right)\\right| \\right) \\right)\\right) \\Rightarrow \\left(\\left( \\left(2^{t}\\right) \\cdot 2 \\cdot 2 \\cdot \\left|\\left(\\delta - \\frac{l}{2^{t}}\\right)\\right| \\right) = \\left( 2 \\cdot \\left( \\left(2^{t}\\right) \\cdot 2 \\cdot \\left|\\left(\\delta - \\frac{l}{2^{t}}\\right)\\right| \\right) \\right)\\right)$  assuming $l \\neq 0$, $l \\in \\{\\left( \\left(-\\left(2^{t - 1}\\right)\\right) + 1 \\right)\\ldots \\left(2^{t - 1}\\right)\\}$ \n",
      "                                                          implication $\\left(\\left( \\left(2^{t}\\right) \\cdot 2 \\cdot 2 \\cdot \\left|\\left(\\delta - \\frac{l}{2^{t}}\\right)\\right| \\right) = \\left( 2 \\cdot \\left(2^{t}\\right) \\cdot 2 \\cdot \\left|\\left(\\delta - \\frac{l}{2^{t}}\\right)\\right| \\right)\\right) \\Rightarrow \\left(\\left(\\left( 2 \\cdot \\left(2^{t}\\right) \\cdot 2 \\cdot \\left|\\left(\\delta - \\frac{l}{2^{t}}\\right)\\right| \\right) = \\left( 2 \\cdot \\left( \\left(2^{t}\\right) \\cdot 2 \\cdot \\left|\\left(\\delta - \\frac{l}{2^{t}}\\right)\\right| \\right) \\right)\\right) \\Rightarrow \\left(\\left( \\left(2^{t}\\right) \\cdot 2 \\cdot 2 \\cdot \\left|\\left(\\delta - \\frac{l}{2^{t}}\\right)\\right| \\right) = \\left( 2 \\cdot \\left( \\left(2^{t}\\right) \\cdot 2 \\cdot \\left|\\left(\\delta - \\frac{l}{2^{t}}\\right)\\right| \\right) \\right)\\right)\\right)$ \n",
      "                                                            specializing $\\forall_{ x , y , z } \\left(\\left(x = y\\right) \\Rightarrow \\left(\\left(y = z\\right) \\Rightarrow \\left(x = z\\right)\\right)\\right)$  proven above\n",
      "                                                          hypothesis $\\left( \\left(2^{t}\\right) \\cdot 2 \\cdot 2 \\cdot \\left|\\left(\\delta - \\frac{l}{2^{t}}\\right)\\right| \\right) = \\left( 2 \\cdot \\left(2^{t}\\right) \\cdot 2 \\cdot \\left|\\left(\\delta - \\frac{l}{2^{t}}\\right)\\right| \\right)$  assuming $l \\neq 0$, $l \\in \\{\\left( \\left(-\\left(2^{t - 1}\\right)\\right) + 1 \\right)\\ldots \\left(2^{t - 1}\\right)\\}$ \n",
      "                                                            specializing $\\forall_{~.., v_{\\Box} ,..., w_{\\Box} ,..., x_{\\Box} ,..., y_{\\Box} ,..., z_{\\Box} ,..~ \\in \\mathbb{C}} \\left(\\left(~..\\cdot v_{\\Box} \\cdot...\\cdot w_{\\Box} \\cdot...\\cdot x_{\\Box} \\cdot...\\cdot y_{\\Box} \\cdot...\\cdot z_{\\Box} \\cdot..~\\right) = \\left(~..\\cdot v_{\\Box} \\cdot...\\cdot y_{\\Box} \\cdot...\\cdot x_{\\Box} \\cdot...\\cdot w_{\\Box} \\cdot...\\cdot z_{\\Box} \\cdot..~\\right)\\right)$  proven above\n",
      "                                                            condition $2 \\in \\mathbb{C}$  proven above\n",
      "                                                            condition $\\left(2^{t}\\right) \\in \\mathbb{C}$  proven above\n",
      "                                                            condition $\\left|\\left(\\delta - \\frac{l}{2^{t}}\\right)\\right| \\in \\mathbb{C}$  assuming $l \\neq 0$, $l \\in \\{\\left( \\left(-\\left(2^{t - 1}\\right)\\right) + 1 \\right)\\ldots \\left(2^{t - 1}\\right)\\}$  proven above\n",
      "                                                        hypothesis $\\left( 2 \\cdot \\left(2^{t}\\right) \\cdot 2 \\cdot \\left|\\left(\\delta - \\frac{l}{2^{t}}\\right)\\right| \\right) = \\left( 2 \\cdot \\left( \\left(2^{t}\\right) \\cdot 2 \\cdot \\left|\\left(\\delta - \\frac{l}{2^{t}}\\right)\\right| \\right) \\right)$ \n",
      "                                                          specializing $\\forall_{~.., x_{\\Box} ,..., y_{\\Box} ,..., z_{\\Box} ,..~} \\left(\\left(~..\\cdot x_{\\Box} \\cdot...\\cdot y_{\\Box} \\cdot...\\cdot z_{\\Box} \\cdot..~\\right) = \\left(~..\\cdot x_{\\Box} \\cdot..~\\cdot \\left(~..\\cdot y_{\\Box} \\cdot..~\\right) \\cdot~..\\cdot z_{\\Box} \\cdot..~\\right)\\right)$  proven above\n",
      "                                                  hypothesis $\\frac{2}{ 2 \\cdot \\left( \\left(2^{t}\\right) \\cdot 2 \\cdot \\left|\\left(\\delta - \\frac{l}{2^{t}}\\right)\\right| \\right) } = \\frac{1}{ \\left(2^{t}\\right) \\cdot 2 \\cdot \\left|\\left(\\delta - \\frac{l}{2^{t}}\\right)\\right| }$  assuming $l \\neq 0$, $l \\in \\{\\left( \\left(-\\left(2^{t - 1}\\right)\\right) + 1 \\right)\\ldots \\left(2^{t - 1}\\right)\\}$ \n",
      "                                                    specializing $\\forall_{ x , y  \\in \\mathbb{C}~|~ \\left(x \\neq 0\\right) } \\left(\\frac{x}{ x \\cdot y } = \\frac{1}{y}\\right)$ \n",
      "                                                      by theorem proveit.number.complex.fracCancel3\n",
      "                                                    condition $2 \\neq 0$  proven above\n",
      "                                                    condition $2 \\in \\mathbb{C}$  proven above\n",
      "                                                    condition $\\left( \\left(2^{t}\\right) \\cdot 2 \\cdot \\left|\\left(\\delta - \\frac{l}{2^{t}}\\right)\\right| \\right) \\in \\mathbb{C}$  assuming $l \\neq 0$, $l \\in \\{\\left( \\left(-\\left(2^{t - 1}\\right)\\right) + 1 \\right)\\ldots \\left(2^{t - 1}\\right)\\}$ \n",
      "                                                      specializing $\\forall_{ a  \\in \\mathbb{R}^+} \\left(a \\in \\mathbb{C}\\right)$  proven above\n",
      "                                                      condition $\\left( \\left(2^{t}\\right) \\cdot 2 \\cdot \\left|\\left(\\delta - \\frac{l}{2^{t}}\\right)\\right| \\right) \\in \\mathbb{R}^+$  assuming $l \\neq 0$, $l \\in \\{\\left( \\left(-\\left(2^{t - 1}\\right)\\right) + 1 \\right)\\ldots \\left(2^{t - 1}\\right)\\}$ \n",
      "                                                        specializing $\\forall_{~.., x_{\\Box} ,..~ \\in \\mathbb{R}^+} \\left(\\left(~..\\cdot x_{\\Box} \\cdot..~\\right) \\in \\mathbb{R}^+\\right)$  proven above\n",
      "                                                        condition $\\left|\\left(\\delta - \\frac{l}{2^{t}}\\right)\\right| \\in \\mathbb{R}^+$  assuming $l \\neq 0$, $l \\in \\{\\left( \\left(-\\left(2^{t - 1}\\right)\\right) + 1 \\right)\\ldots \\left(2^{t - 1}\\right)\\}$  proven above\n",
      "                                                        condition $\\left(2^{t}\\right) \\in \\mathbb{R}^+$  proven above\n",
      "                                                        condition $2 \\in \\mathbb{R}^+$  proven above\n",
      "                                              hypothesis $\\left|\\alpha_{l}\\right| \\leq \\frac{2}{ \\left(2^{t}\\right) \\cdot 2 \\cdot 2 \\cdot \\left|\\left(\\delta - \\frac{l}{2^{t}}\\right)\\right| }$  assuming $l \\neq 0$, $l \\in \\{\\left( \\left(-\\left(2^{t - 1}\\right)\\right) + 1 \\right)\\ldots \\left(2^{t - 1}\\right)\\}$ \n",
      "                                                implication $\\left(\\left|\\alpha_{l}\\right| \\leq \\frac{2}{ \\left(2^{t}\\right) \\cdot \\left( 2 \\cdot 2 \\cdot \\left|\\left(\\delta - \\frac{l}{2^{t}}\\right)\\right| \\right) }\\right) \\Rightarrow \\left(\\left|\\alpha_{l}\\right| \\leq \\frac{2}{ \\left(2^{t}\\right) \\cdot 2 \\cdot 2 \\cdot \\left|\\left(\\delta - \\frac{l}{2^{t}}\\right)\\right| }\\right)$ \n",
      "                                                  implication $\\left(\\left( \\left(2^{t}\\right) \\cdot \\left( 2 \\cdot 2 \\cdot \\left|\\left(\\delta - \\frac{l}{2^{t}}\\right)\\right| \\right) \\right) = \\left( \\left(2^{t}\\right) \\cdot 2 \\cdot 2 \\cdot \\left|\\left(\\delta - \\frac{l}{2^{t}}\\right)\\right| \\right)\\right) \\Rightarrow \\left(\\left(\\left|\\alpha_{l}\\right| \\leq \\frac{2}{ \\left(2^{t}\\right) \\cdot \\left( 2 \\cdot 2 \\cdot \\left|\\left(\\delta - \\frac{l}{2^{t}}\\right)\\right| \\right) }\\right) \\Rightarrow \\left(\\left|\\alpha_{l}\\right| \\leq \\frac{2}{ \\left(2^{t}\\right) \\cdot 2 \\cdot 2 \\cdot \\left|\\left(\\delta - \\frac{l}{2^{t}}\\right)\\right| }\\right)\\right)$ \n",
      "                                                    specializing $\\forall_{ P , x , y } \\left(\\left(x = y\\right) \\Rightarrow \\left(P\\left( x \\right) \\Rightarrow P\\left( y \\right)\\right)\\right)$  proven above\n",
      "                                                  hypothesis $\\left( \\left(2^{t}\\right) \\cdot \\left( 2 \\cdot 2 \\cdot \\left|\\left(\\delta - \\frac{l}{2^{t}}\\right)\\right| \\right) \\right) = \\left( \\left(2^{t}\\right) \\cdot 2 \\cdot 2 \\cdot \\left|\\left(\\delta - \\frac{l}{2^{t}}\\right)\\right| \\right)$ \n",
      "                                                    specializing $\\forall_{~.., x_{\\Box} ,..., y_{\\Box} ,..., z_{\\Box} ,..~} \\left(\\left(~..\\cdot x_{\\Box} \\cdot..~\\cdot \\left(~..\\cdot y_{\\Box} \\cdot..~\\right) \\cdot~..\\cdot z_{\\Box} \\cdot..~\\right) = \\left(~..\\cdot x_{\\Box} \\cdot...\\cdot y_{\\Box} \\cdot...\\cdot z_{\\Box} \\cdot..~\\right)\\right)$ \n",
      "                                                      by theorem proveit.number.multAssocRev\n",
      "                                                hypothesis $\\left|\\alpha_{l}\\right| \\leq \\frac{2}{ \\left(2^{t}\\right) \\cdot \\left( 2 \\cdot 2 \\cdot \\left|\\left(\\delta - \\frac{l}{2^{t}}\\right)\\right| \\right) }$  assuming $l \\neq 0$, $l \\in \\{\\left( \\left(-\\left(2^{t - 1}\\right)\\right) + 1 \\right)\\ldots \\left(2^{t - 1}\\right)\\}$ \n",
      "                                                  specializing $\\forall_{ w , x , y , z  \\in \\mathbb{R}~|~ \\left(w \\leq \\frac{x}{y}\\right) , \\left(y \\geq z\\right) , \\left(w \\geq 0\\right) , \\left(x > 0\\right) , \\left(y > 0\\right) , \\left(z > 0\\right) } \\left(w \\leq \\frac{x}{z}\\right)$ \n",
      "                                                    by theorem proveit.number.real.ineqThm10a\n",
      "                                                  condition $\\left( \\left(2^{t}\\right) \\cdot \\left|\\left(1 - \\left(e^{ i \\cdot \\left( 2 \\cdot \\pi \\cdot \\left(\\delta - \\frac{l}{2^{t}}\\right) \\right) }\\right)\\right)\\right| \\right) \\in \\mathbb{R}$  assuming $l \\neq 0$, $l \\in \\{\\left( \\left(-\\left(2^{t - 1}\\right)\\right) + 1 \\right)\\ldots \\left(2^{t - 1}\\right)\\}$ \n",
      "                                                    specializing $\\forall_{ a  \\in \\mathbb{R}^+} \\left(a \\in \\mathbb{R}\\right)$  proven above\n",
      "                                                    condition $\\left( \\left(2^{t}\\right) \\cdot \\left|\\left(1 - \\left(e^{ i \\cdot \\left( 2 \\cdot \\pi \\cdot \\left(\\delta - \\frac{l}{2^{t}}\\right) \\right) }\\right)\\right)\\right| \\right) \\in \\mathbb{R}^+$  assuming $l \\neq 0$, $l \\in \\{\\left( \\left(-\\left(2^{t - 1}\\right)\\right) + 1 \\right)\\ldots \\left(2^{t - 1}\\right)\\}$ \n",
      "                                                      specializing $\\forall_{~.., x_{\\Box} ,..~ \\in \\mathbb{R}^+} \\left(\\left(~..\\cdot x_{\\Box} \\cdot..~\\right) \\in \\mathbb{R}^+\\right)$  proven above\n",
      "                                                      condition $\\left(2^{t}\\right) \\in \\mathbb{R}^+$  proven above\n",
      "                                                      condition $\\left|\\left(1 - \\left(e^{ i \\cdot \\left( 2 \\cdot \\pi \\cdot \\left(\\delta - \\frac{l}{2^{t}}\\right) \\right) }\\right)\\right)\\right| \\in \\mathbb{R}^+$  assuming $l \\neq 0$, $l \\in \\{\\left( \\left(-\\left(2^{t - 1}\\right)\\right) + 1 \\right)\\ldots \\left(2^{t - 1}\\right)\\}$ \n",
      "                                                        specializing $\\forall_{ a  \\in \\mathbb{C}~|~ \\left(a \\neq 0\\right) } \\left(\\left|a\\right| \\in \\mathbb{R}^+\\right)$  proven above\n",
      "                                                        condition $\\left(1 - \\left(e^{ i \\cdot \\left( 2 \\cdot \\pi \\cdot \\left(\\delta - \\frac{l}{2^{t}}\\right) \\right) }\\right)\\right) \\neq 0$  assuming $l \\neq 0$, $l \\in \\{\\left( \\left(-\\left(2^{t - 1}\\right)\\right) + 1 \\right)\\ldots \\left(2^{t - 1}\\right)\\}$ \n",
      "                                                          specializing $\\forall_{ a , b  \\in \\mathbb{C}~|~ \\left(a \\neq b\\right) } \\left(\\left(a - b\\right) \\neq 0\\right)$  proven above\n",
      "                                                          condition $1 \\in \\mathbb{C}$  proven above\n",
      "                                                          condition $\\left(e^{ i \\cdot \\left( 2 \\cdot \\pi \\cdot \\left(\\delta - \\frac{l}{2^{t}}\\right) \\right) }\\right) \\in \\mathbb{C}$  assuming $l \\neq 0$, $l \\in \\{\\left( \\left(-\\left(2^{t - 1}\\right)\\right) + 1 \\right)\\ldots \\left(2^{t - 1}\\right)\\}$ \n",
      "                                                            specializing $\\forall_{ a , b  \\in \\mathbb{C}~|~ \\left(a \\neq 0\\right) } \\left(\\left(a^{b}\\right) \\in \\mathbb{C}\\right)$ \n",
      "                                                              by theorem proveit.number.complex.powClosure\n",
      "                                                            condition $e \\neq 0$ \n",
      "                                                              specializing $\\forall_{ a  \\in \\mathbb{R}~|~ \\left(a > 0\\right) } \\left(a \\neq 0\\right)$  proven above\n",
      "                                                              condition $e \\in \\mathbb{R}$ \n",
      "                                                                specializing $\\forall_{ a  \\in \\mathbb{R}^+} \\left(a \\in \\mathbb{R}\\right)$  proven above\n",
      "                                                                condition $e \\in \\mathbb{R}^+$ \n",
      "                                                                  by theorem proveit.number.real.eInRealsPos\n",
      "                                                              condition $e > 0$ \n",
      "                                                                implication $\\left(e \\in \\mathbb{R}^+\\right) \\Rightarrow \\left(e > 0\\right)$ \n",
      "                                                                  implication $\\left(\\left(e \\in \\mathbb{R}^+\\right) \\Leftrightarrow \\left(e > 0\\right)\\right) \\Rightarrow \\left(\\left(e \\in \\mathbb{R}^+\\right) \\Rightarrow \\left(e > 0\\right)\\right)$ \n",
      "                                                                    specializing $\\forall_{ A , B } \\left(\\left(A \\Leftrightarrow B\\right) \\Rightarrow \\left(A \\Rightarrow B\\right)\\right)$  proven above\n",
      "                                                                  hypothesis $\\left(e \\in \\mathbb{R}^+\\right) \\Leftrightarrow \\left(e > 0\\right)$ \n",
      "                                                                    specializing $\\forall_{ a  \\in \\mathbb{R}} \\left(\\left(a \\in \\mathbb{R}^+\\right) \\Leftrightarrow \\left(a > 0\\right)\\right)$  proven above\n",
      "                                                                    condition $e \\in \\mathbb{R}$  proven above\n",
      "                                                                hypothesis $e \\in \\mathbb{R}^+$  proven above\n",
      "                                                            condition $\\left( i \\cdot \\left( 2 \\cdot \\pi \\cdot \\left(\\delta - \\frac{l}{2^{t}}\\right) \\right) \\right) \\in \\mathbb{C}$  assuming $l \\neq 0$, $l \\in \\{\\left( \\left(-\\left(2^{t - 1}\\right)\\right) + 1 \\right)\\ldots \\left(2^{t - 1}\\right)\\}$ \n",
      "                                                              specializing $\\forall_{~.., x_{\\Box} ,..~ \\in \\mathbb{C}} \\left(\\left(~..\\cdot x_{\\Box} \\cdot..~\\right) \\in \\mathbb{C}\\right)$ \n",
      "                                                                by theorem proveit.number.complex.multClosure\n",
      "                                                              condition $\\left( 2 \\cdot \\pi \\cdot \\left(\\delta - \\frac{l}{2^{t}}\\right) \\right) \\in \\mathbb{C}$  assuming $l \\neq 0$, $l \\in \\{\\left( \\left(-\\left(2^{t - 1}\\right)\\right) + 1 \\right)\\ldots \\left(2^{t - 1}\\right)\\}$ \n",
      "                                                                specializing $\\forall_{ a  \\in \\mathbb{R}} \\left(a \\in \\mathbb{C}\\right)$  proven above\n",
      "                                                                condition $\\left( 2 \\cdot \\pi \\cdot \\left(\\delta - \\frac{l}{2^{t}}\\right) \\right) \\in \\mathbb{R}$  assuming $l \\neq 0$, $l \\in \\{\\left( \\left(-\\left(2^{t - 1}\\right)\\right) + 1 \\right)\\ldots \\left(2^{t - 1}\\right)\\}$ \n",
      "                                                                  specializing $\\forall_{~.., x_{\\Box} ,..~ \\in \\mathbb{R}} \\left(\\left(~..\\cdot x_{\\Box} \\cdot..~\\right) \\in \\mathbb{R}\\right)$ \n",
      "                                                                    by theorem proveit.number.real.multClosure\n",
      "                                                                  condition $\\pi \\in \\mathbb{R}$ \n",
      "                                                                    specializing $\\forall_{ a  \\in \\mathbb{R}^+} \\left(a \\in \\mathbb{R}\\right)$  proven above\n",
      "                                                                    condition $\\pi \\in \\mathbb{R}^+$ \n",
      "                                                                  condition $2 \\in \\mathbb{R}$  proven above\n",
      "                                                                  condition $\\left(\\delta - \\frac{l}{2^{t}}\\right) \\in \\mathbb{R}$  assuming $l \\neq 0$, $l \\in \\{\\left( \\left(-\\left(2^{t - 1}\\right)\\right) + 1 \\right)\\ldots \\left(2^{t - 1}\\right)\\}$  proven above\n",
      "                                                              condition $i \\in \\mathbb{C}$ \n",
      "                                                            condition $e \\in \\mathbb{C}$ \n",
      "                                                              specializing $\\forall_{ a  \\in \\mathbb{R}^+} \\left(a \\in \\mathbb{C}\\right)$  proven above\n",
      "                                                              condition $e \\in \\mathbb{R}^+$  proven above\n",
      "                                                          condition $1 \\neq \\left(e^{ i \\cdot \\left( 2 \\cdot \\pi \\cdot \\left(\\delta - \\frac{l}{2^{t}}\\right) \\right) }\\right)$  assuming $l \\neq 0$, $l \\in \\{\\left( \\left(-\\left(2^{t - 1}\\right)\\right) + 1 \\right)\\ldots \\left(2^{t - 1}\\right)\\}$ \n",
      "                                                            implication $\\left(\\left(e^{ i \\cdot \\left( 2 \\cdot \\pi \\cdot \\left(\\delta - \\frac{l}{2^{t}}\\right) \\right) }\\right) \\neq 1\\right) \\Rightarrow \\left(1 \\neq \\left(e^{ i \\cdot \\left( 2 \\cdot \\pi \\cdot \\left(\\delta - \\frac{l}{2^{t}}\\right) \\right) }\\right)\\right)$ \n",
      "                                                              specializing $\\forall_{ x , y } \\left(\\left(x \\neq y\\right) \\Rightarrow \\left(y \\neq x\\right)\\right)$  proven above\n",
      "                                                            hypothesis $\\left(e^{ i \\cdot \\left( 2 \\cdot \\pi \\cdot \\left(\\delta - \\frac{l}{2^{t}}\\right) \\right) }\\right) \\neq 1$  assuming $l \\neq 0$, $l \\in \\{\\left( \\left(-\\left(2^{t - 1}\\right)\\right) + 1 \\right)\\ldots \\left(2^{t - 1}\\right)\\}$ \n",
      "                                                              implication $\\left(\\left(e^{ 2 \\cdot \\pi \\cdot i \\cdot \\left(\\delta - \\frac{l}{2^{t}}\\right) }\\right) \\neq 1\\right) \\Rightarrow \\left(\\left(e^{ i \\cdot \\left( 2 \\cdot \\pi \\cdot \\left(\\delta - \\frac{l}{2^{t}}\\right) \\right) }\\right) \\neq 1\\right)$  assuming $l \\neq 0$, $l \\in \\{\\left( \\left(-\\left(2^{t - 1}\\right)\\right) + 1 \\right)\\ldots \\left(2^{t - 1}\\right)\\}$ \n",
      "                                                                implication $\\left(\\left( 2 \\cdot \\pi \\cdot i \\cdot \\left(\\delta - \\frac{l}{2^{t}}\\right) \\right) = \\left( i \\cdot \\left( 2 \\cdot \\pi \\cdot \\left(\\delta - \\frac{l}{2^{t}}\\right) \\right) \\right)\\right) \\Rightarrow \\left(\\left(\\left(e^{ 2 \\cdot \\pi \\cdot i \\cdot \\left(\\delta - \\frac{l}{2^{t}}\\right) }\\right) \\neq 1\\right) \\Rightarrow \\left(\\left(e^{ i \\cdot \\left( 2 \\cdot \\pi \\cdot \\left(\\delta - \\frac{l}{2^{t}}\\right) \\right) }\\right) \\neq 1\\right)\\right)$ \n",
      "                                                                  specializing $\\forall_{ P , x , y } \\left(\\left(x = y\\right) \\Rightarrow \\left(P\\left( x \\right) \\Rightarrow P\\left( y \\right)\\right)\\right)$  proven above\n",
      "                                                                hypothesis $\\left( 2 \\cdot \\pi \\cdot i \\cdot \\left(\\delta - \\frac{l}{2^{t}}\\right) \\right) = \\left( i \\cdot \\left( 2 \\cdot \\pi \\cdot \\left(\\delta - \\frac{l}{2^{t}}\\right) \\right) \\right)$  assuming $l \\neq 0$, $l \\in \\{\\left( \\left(-\\left(2^{t - 1}\\right)\\right) + 1 \\right)\\ldots \\left(2^{t - 1}\\right)\\}$ \n",
      "                                                                  implication $\\left(\\left( i \\cdot 2 \\cdot \\pi \\cdot \\left(\\delta - \\frac{l}{2^{t}}\\right) \\right) = \\left( i \\cdot \\left( 2 \\cdot \\pi \\cdot \\left(\\delta - \\frac{l}{2^{t}}\\right) \\right) \\right)\\right) \\Rightarrow \\left(\\left( 2 \\cdot \\pi \\cdot i \\cdot \\left(\\delta - \\frac{l}{2^{t}}\\right) \\right) = \\left( i \\cdot \\left( 2 \\cdot \\pi \\cdot \\left(\\delta - \\frac{l}{2^{t}}\\right) \\right) \\right)\\right)$  assuming $l \\neq 0$, $l \\in \\{\\left( \\left(-\\left(2^{t - 1}\\right)\\right) + 1 \\right)\\ldots \\left(2^{t - 1}\\right)\\}$ \n",
      "                                                                    implication $\\left(\\left( 2 \\cdot \\pi \\cdot i \\cdot \\left(\\delta - \\frac{l}{2^{t}}\\right) \\right) = \\left( i \\cdot 2 \\cdot \\pi \\cdot \\left(\\delta - \\frac{l}{2^{t}}\\right) \\right)\\right) \\Rightarrow \\left(\\left(\\left( i \\cdot 2 \\cdot \\pi \\cdot \\left(\\delta - \\frac{l}{2^{t}}\\right) \\right) = \\left( i \\cdot \\left( 2 \\cdot \\pi \\cdot \\left(\\delta - \\frac{l}{2^{t}}\\right) \\right) \\right)\\right) \\Rightarrow \\left(\\left( 2 \\cdot \\pi \\cdot i \\cdot \\left(\\delta - \\frac{l}{2^{t}}\\right) \\right) = \\left( i \\cdot \\left( 2 \\cdot \\pi \\cdot \\left(\\delta - \\frac{l}{2^{t}}\\right) \\right) \\right)\\right)\\right)$ \n",
      "                                                                      specializing $\\forall_{ x , y , z } \\left(\\left(x = y\\right) \\Rightarrow \\left(\\left(y = z\\right) \\Rightarrow \\left(x = z\\right)\\right)\\right)$  proven above\n",
      "                                                                    hypothesis $\\left( 2 \\cdot \\pi \\cdot i \\cdot \\left(\\delta - \\frac{l}{2^{t}}\\right) \\right) = \\left( i \\cdot 2 \\cdot \\pi \\cdot \\left(\\delta - \\frac{l}{2^{t}}\\right) \\right)$  assuming $l \\neq 0$, $l \\in \\{\\left( \\left(-\\left(2^{t - 1}\\right)\\right) + 1 \\right)\\ldots \\left(2^{t - 1}\\right)\\}$ \n",
      "                                                                      specializing $\\forall_{~.., v_{\\Box} ,..., w_{\\Box} ,..., x_{\\Box} ,..., y_{\\Box} ,..., z_{\\Box} ,..~ \\in \\mathbb{C}} \\left(\\left(~..\\cdot v_{\\Box} \\cdot...\\cdot w_{\\Box} \\cdot...\\cdot x_{\\Box} \\cdot...\\cdot y_{\\Box} \\cdot...\\cdot z_{\\Box} \\cdot..~\\right) = \\left(~..\\cdot v_{\\Box} \\cdot...\\cdot y_{\\Box} \\cdot...\\cdot x_{\\Box} \\cdot...\\cdot w_{\\Box} \\cdot...\\cdot z_{\\Box} \\cdot..~\\right)\\right)$  proven above\n",
      "                                                                      condition $2 \\in \\mathbb{C}$  proven above\n",
      "                                                                      condition $\\pi \\in \\mathbb{C}$ \n",
      "                                                                        specializing $\\forall_{ a  \\in \\mathbb{R}^+} \\left(a \\in \\mathbb{C}\\right)$  proven above\n",
      "                                                                        condition $\\pi \\in \\mathbb{R}^+$  proven above\n",
      "                                                                      condition $i \\in \\mathbb{C}$  proven above\n",
      "                                                                      condition $\\left(\\delta - \\frac{l}{2^{t}}\\right) \\in \\mathbb{C}$  assuming $l \\neq 0$, $l \\in \\{\\left( \\left(-\\left(2^{t - 1}\\right)\\right) + 1 \\right)\\ldots \\left(2^{t - 1}\\right)\\}$  proven above\n",
      "                                                                  hypothesis $\\left( i \\cdot 2 \\cdot \\pi \\cdot \\left(\\delta - \\frac{l}{2^{t}}\\right) \\right) = \\left( i \\cdot \\left( 2 \\cdot \\pi \\cdot \\left(\\delta - \\frac{l}{2^{t}}\\right) \\right) \\right)$ \n",
      "                                                                    specializing $\\forall_{~.., x_{\\Box} ,..., y_{\\Box} ,..., z_{\\Box} ,..~} \\left(\\left(~..\\cdot x_{\\Box} \\cdot...\\cdot y_{\\Box} \\cdot...\\cdot z_{\\Box} \\cdot..~\\right) = \\left(~..\\cdot x_{\\Box} \\cdot..~\\cdot \\left(~..\\cdot y_{\\Box} \\cdot..~\\right) \\cdot~..\\cdot z_{\\Box} \\cdot..~\\right)\\right)$  proven above\n",
      "                                                              hypothesis $\\left(e^{ 2 \\cdot \\pi \\cdot i \\cdot \\left(\\delta - \\frac{l}{2^{t}}\\right) }\\right) \\neq 1$  assuming $l \\neq 0$, $l \\in \\{\\left( \\left(-\\left(2^{t - 1}\\right)\\right) + 1 \\right)\\ldots \\left(2^{t - 1}\\right)\\}$ \n",
      "                                                                specializing $\\forall_{ x  \\in \\mathbb{R}~|~ \\left(x \\notin \\mathbb{Z}\\right) } \\left(\\left(e^{ 2 \\cdot \\pi \\cdot i \\cdot x }\\right) \\neq 1\\right)$ \n",
      "                                                                  by theorem proveit.trigonometry.exp_2pi_i_nonInt\n",
      "                                                                condition $\\left(\\delta - \\frac{l}{2^{t}}\\right) \\notin \\mathbb{Z}$  assuming $l \\neq 0$, $l \\in \\{\\left( \\left(-\\left(2^{t - 1}\\right)\\right) + 1 \\right)\\ldots \\left(2^{t - 1}\\right)\\}$ \n",
      "                                                                  specializing $\\forall_{ l  \\in \\{\\left( \\left(-\\left(2^{t - 1}\\right)\\right) + 1 \\right)\\ldots \\left(2^{t - 1}\\right)\\}~|~ \\left(l \\neq 0\\right) } \\left(\\left(\\delta - \\frac{l}{2^{t}}\\right) \\notin \\mathbb{Z}\\right)$ \n",
      "                                                                    by theorem proveit.physics.quantum.QPE.nonIntDeltaDiff\n",
      "                                                                  condition $l \\neq 0$  assuming $l \\neq 0$  proven above\n",
      "                                                                  condition $l \\in \\{\\left( \\left(-\\left(2^{t - 1}\\right)\\right) + 1 \\right)\\ldots \\left(2^{t - 1}\\right)\\}$  assuming $l \\in \\{\\left( \\left(-\\left(2^{t - 1}\\right)\\right) + 1 \\right)\\ldots \\left(2^{t - 1}\\right)\\}$  proven above\n",
      "                                                                condition $\\left(\\delta - \\frac{l}{2^{t}}\\right) \\in \\mathbb{R}$  assuming $l \\neq 0$, $l \\in \\{\\left( \\left(-\\left(2^{t - 1}\\right)\\right) + 1 \\right)\\ldots \\left(2^{t - 1}\\right)\\}$  proven above\n",
      "                                                        condition $\\left(1 - \\left(e^{ i \\cdot \\left( 2 \\cdot \\pi \\cdot \\left(\\delta - \\frac{l}{2^{t}}\\right) \\right) }\\right)\\right) \\in \\mathbb{C}$  assuming $l \\neq 0$, $l \\in \\{\\left( \\left(-\\left(2^{t - 1}\\right)\\right) + 1 \\right)\\ldots \\left(2^{t - 1}\\right)\\}$ \n",
      "                                                          specializing $\\forall_{ a , b  \\in \\mathbb{C}} \\left(\\left(a - b\\right) \\in \\mathbb{C}\\right)$ \n",
      "                                                            by theorem proveit.number.complex.subtractClosure\n",
      "                                                          condition $1 \\in \\mathbb{C}$  proven above\n",
      "                                                          condition $\\left(e^{ i \\cdot \\left( 2 \\cdot \\pi \\cdot \\left(\\delta - \\frac{l}{2^{t}}\\right) \\right) }\\right) \\in \\mathbb{C}$  assuming $l \\neq 0$, $l \\in \\{\\left( \\left(-\\left(2^{t - 1}\\right)\\right) + 1 \\right)\\ldots \\left(2^{t - 1}\\right)\\}$  proven above\n",
      "                                                  condition $2 \\in \\mathbb{R}$  proven above\n",
      "                                                  condition $2 > 0$  proven above\n",
      "                                                  condition $\\left|\\alpha_{l}\\right| \\leq \\frac{2}{ \\left(2^{t}\\right) \\cdot \\left|\\left(1 - \\left(e^{ i \\cdot \\left( 2 \\cdot \\pi \\cdot \\left(\\delta - \\frac{l}{2^{t}}\\right) \\right) }\\right)\\right)\\right| }$  assuming $l \\neq 0$, $l \\in \\{\\left( \\left(-\\left(2^{t - 1}\\right)\\right) + 1 \\right)\\ldots \\left(2^{t - 1}\\right)\\}$ \n",
      "                                                    implication $\\left(\\left|\\alpha_{l}\\right| \\leq \\frac{2}{ \\left(2^{t}\\right) \\cdot \\left|\\left(1 - \\left(e^{ i \\cdot 2 \\cdot \\pi \\cdot \\left(\\delta - \\frac{l}{2^{t}}\\right) }\\right)\\right)\\right| }\\right) \\Rightarrow \\left(\\left|\\alpha_{l}\\right| \\leq \\frac{2}{ \\left(2^{t}\\right) \\cdot \\left|\\left(1 - \\left(e^{ i \\cdot \\left( 2 \\cdot \\pi \\cdot \\left(\\delta - \\frac{l}{2^{t}}\\right) \\right) }\\right)\\right)\\right| }\\right)$ \n",
      "                                                      implication $\\left(\\left( i \\cdot 2 \\cdot \\pi \\cdot \\left(\\delta - \\frac{l}{2^{t}}\\right) \\right) = \\left( i \\cdot \\left( 2 \\cdot \\pi \\cdot \\left(\\delta - \\frac{l}{2^{t}}\\right) \\right) \\right)\\right) \\Rightarrow \\left(\\left(\\left|\\alpha_{l}\\right| \\leq \\frac{2}{ \\left(2^{t}\\right) \\cdot \\left|\\left(1 - \\left(e^{ i \\cdot 2 \\cdot \\pi \\cdot \\left(\\delta - \\frac{l}{2^{t}}\\right) }\\right)\\right)\\right| }\\right) \\Rightarrow \\left(\\left|\\alpha_{l}\\right| \\leq \\frac{2}{ \\left(2^{t}\\right) \\cdot \\left|\\left(1 - \\left(e^{ i \\cdot \\left( 2 \\cdot \\pi \\cdot \\left(\\delta - \\frac{l}{2^{t}}\\right) \\right) }\\right)\\right)\\right| }\\right)\\right)$ \n",
      "                                                        specializing $\\forall_{ P , x , y } \\left(\\left(x = y\\right) \\Rightarrow \\left(P\\left( x \\right) \\Rightarrow P\\left( y \\right)\\right)\\right)$  proven above\n",
      "                                                      hypothesis $\\left( i \\cdot 2 \\cdot \\pi \\cdot \\left(\\delta - \\frac{l}{2^{t}}\\right) \\right) = \\left( i \\cdot \\left( 2 \\cdot \\pi \\cdot \\left(\\delta - \\frac{l}{2^{t}}\\right) \\right) \\right)$  proven above\n",
      "                                                    hypothesis $\\left|\\alpha_{l}\\right| \\leq \\frac{2}{ \\left(2^{t}\\right) \\cdot \\left|\\left(1 - \\left(e^{ i \\cdot 2 \\cdot \\pi \\cdot \\left(\\delta - \\frac{l}{2^{t}}\\right) }\\right)\\right)\\right| }$  assuming $l \\neq 0$, $l \\in \\{\\left( \\left(-\\left(2^{t - 1}\\right)\\right) + 1 \\right)\\ldots \\left(2^{t - 1}\\right)\\}$ \n",
      "                                                      implication $\\left(\\frac{\\left|1 - \\left(e^{ i \\cdot \\left( 2 \\cdot \\pi \\cdot \\left(\\left( \\left(2^{t}\\right) \\cdot \\delta \\right) - l\\right) \\right) }\\right)\\right|}{ \\left(2^{t}\\right) \\cdot \\left|\\left(1 - \\left(e^{ i \\cdot 2 \\cdot \\pi \\cdot \\left(\\delta - \\frac{l}{2^{t}}\\right) }\\right)\\right)\\right| } \\leq \\frac{2}{ \\left(2^{t}\\right) \\cdot \\left|\\left(1 - \\left(e^{ i \\cdot 2 \\cdot \\pi \\cdot \\left(\\delta - \\frac{l}{2^{t}}\\right) }\\right)\\right)\\right| }\\right) \\Rightarrow \\left(\\left|\\alpha_{l}\\right| \\leq \\frac{2}{ \\left(2^{t}\\right) \\cdot \\left|\\left(1 - \\left(e^{ i \\cdot 2 \\cdot \\pi \\cdot \\left(\\delta - \\frac{l}{2^{t}}\\right) }\\right)\\right)\\right| }\\right)$  assuming $l \\neq 0$, $l \\in \\{\\left( \\left(-\\left(2^{t - 1}\\right)\\right) + 1 \\right)\\ldots \\left(2^{t - 1}\\right)\\}$ \n",
      "                                                        implication $\\left(\\left|\\alpha_{l}\\right| = \\frac{\\left|1 - \\left(e^{ i \\cdot \\left( 2 \\cdot \\pi \\cdot \\left(\\left( \\left(2^{t}\\right) \\cdot \\delta \\right) - l\\right) \\right) }\\right)\\right|}{ \\left(2^{t}\\right) \\cdot \\left|\\left(1 - \\left(e^{ i \\cdot 2 \\cdot \\pi \\cdot \\left(\\delta - \\frac{l}{2^{t}}\\right) }\\right)\\right)\\right| }\\right) \\Rightarrow \\left(\\left(\\frac{\\left|1 - \\left(e^{ i \\cdot \\left( 2 \\cdot \\pi \\cdot \\left(\\left( \\left(2^{t}\\right) \\cdot \\delta \\right) - l\\right) \\right) }\\right)\\right|}{ \\left(2^{t}\\right) \\cdot \\left|\\left(1 - \\left(e^{ i \\cdot 2 \\cdot \\pi \\cdot \\left(\\delta - \\frac{l}{2^{t}}\\right) }\\right)\\right)\\right| } \\leq \\frac{2}{ \\left(2^{t}\\right) \\cdot \\left|\\left(1 - \\left(e^{ i \\cdot 2 \\cdot \\pi \\cdot \\left(\\delta - \\frac{l}{2^{t}}\\right) }\\right)\\right)\\right| }\\right) \\Rightarrow \\left(\\left|\\alpha_{l}\\right| \\leq \\frac{2}{ \\left(2^{t}\\right) \\cdot \\left|\\left(1 - \\left(e^{ i \\cdot 2 \\cdot \\pi \\cdot \\left(\\delta - \\frac{l}{2^{t}}\\right) }\\right)\\right)\\right| }\\right)\\right)$ \n",
      "                                                          specializing $\\forall_{ P , x , y } \\left(\\left(x = y\\right) \\Rightarrow \\left(P\\left( y \\right) \\Rightarrow P\\left( x \\right)\\right)\\right)$  proven above\n",
      "                                                        hypothesis $\\left|\\alpha_{l}\\right| = \\frac{\\left|1 - \\left(e^{ i \\cdot \\left( 2 \\cdot \\pi \\cdot \\left(\\left( \\left(2^{t}\\right) \\cdot \\delta \\right) - l\\right) \\right) }\\right)\\right|}{ \\left(2^{t}\\right) \\cdot \\left|\\left(1 - \\left(e^{ i \\cdot 2 \\cdot \\pi \\cdot \\left(\\delta - \\frac{l}{2^{t}}\\right) }\\right)\\right)\\right| }$  assuming $l \\neq 0$, $l \\in \\{\\left( \\left(-\\left(2^{t - 1}\\right)\\right) + 1 \\right)\\ldots \\left(2^{t - 1}\\right)\\}$ \n",
      "                                                          implication $\\left(\\left|\\alpha_{l}\\right| = \\frac{\\left|1 - \\left(e^{ i \\cdot 2 \\cdot \\pi \\cdot \\left(\\left( \\left(2^{t}\\right) \\cdot \\delta \\right) - l\\right) }\\right)\\right|}{ \\left(2^{t}\\right) \\cdot \\left|\\left(1 - \\left(e^{ i \\cdot 2 \\cdot \\pi \\cdot \\left(\\delta - \\frac{l}{2^{t}}\\right) }\\right)\\right)\\right| }\\right) \\Rightarrow \\left(\\left|\\alpha_{l}\\right| = \\frac{\\left|1 - \\left(e^{ i \\cdot \\left( 2 \\cdot \\pi \\cdot \\left(\\left( \\left(2^{t}\\right) \\cdot \\delta \\right) - l\\right) \\right) }\\right)\\right|}{ \\left(2^{t}\\right) \\cdot \\left|\\left(1 - \\left(e^{ i \\cdot 2 \\cdot \\pi \\cdot \\left(\\delta - \\frac{l}{2^{t}}\\right) }\\right)\\right)\\right| }\\right)$ \n",
      "                                                            implication $\\left(\\left( i \\cdot 2 \\cdot \\pi \\cdot \\left(\\left( \\left(2^{t}\\right) \\cdot \\delta \\right) - l\\right) \\right) = \\left( i \\cdot \\left( 2 \\cdot \\pi \\cdot \\left(\\left( \\left(2^{t}\\right) \\cdot \\delta \\right) - l\\right) \\right) \\right)\\right) \\Rightarrow \\left(\\left(\\left|\\alpha_{l}\\right| = \\frac{\\left|1 - \\left(e^{ i \\cdot 2 \\cdot \\pi \\cdot \\left(\\left( \\left(2^{t}\\right) \\cdot \\delta \\right) - l\\right) }\\right)\\right|}{ \\left(2^{t}\\right) \\cdot \\left|\\left(1 - \\left(e^{ i \\cdot 2 \\cdot \\pi \\cdot \\left(\\delta - \\frac{l}{2^{t}}\\right) }\\right)\\right)\\right| }\\right) \\Rightarrow \\left(\\left|\\alpha_{l}\\right| = \\frac{\\left|1 - \\left(e^{ i \\cdot \\left( 2 \\cdot \\pi \\cdot \\left(\\left( \\left(2^{t}\\right) \\cdot \\delta \\right) - l\\right) \\right) }\\right)\\right|}{ \\left(2^{t}\\right) \\cdot \\left|\\left(1 - \\left(e^{ i \\cdot 2 \\cdot \\pi \\cdot \\left(\\delta - \\frac{l}{2^{t}}\\right) }\\right)\\right)\\right| }\\right)\\right)$ \n",
      "                                                              specializing $\\forall_{ P , x , y } \\left(\\left(x = y\\right) \\Rightarrow \\left(P\\left( x \\right) \\Rightarrow P\\left( y \\right)\\right)\\right)$  proven above\n",
      "                                                            hypothesis $\\left( i \\cdot 2 \\cdot \\pi \\cdot \\left(\\left( \\left(2^{t}\\right) \\cdot \\delta \\right) - l\\right) \\right) = \\left( i \\cdot \\left( 2 \\cdot \\pi \\cdot \\left(\\left( \\left(2^{t}\\right) \\cdot \\delta \\right) - l\\right) \\right) \\right)$ \n",
      "                                                              specializing $\\forall_{~.., x_{\\Box} ,..., y_{\\Box} ,..., z_{\\Box} ,..~} \\left(\\left(~..\\cdot x_{\\Box} \\cdot...\\cdot y_{\\Box} \\cdot...\\cdot z_{\\Box} \\cdot..~\\right) = \\left(~..\\cdot x_{\\Box} \\cdot..~\\cdot \\left(~..\\cdot y_{\\Box} \\cdot..~\\right) \\cdot~..\\cdot z_{\\Box} \\cdot..~\\right)\\right)$  proven above\n",
      "                                                          hypothesis $\\left|\\alpha_{l}\\right| = \\frac{\\left|1 - \\left(e^{ i \\cdot 2 \\cdot \\pi \\cdot \\left(\\left( \\left(2^{t}\\right) \\cdot \\delta \\right) - l\\right) }\\right)\\right|}{ \\left(2^{t}\\right) \\cdot \\left|\\left(1 - \\left(e^{ i \\cdot 2 \\cdot \\pi \\cdot \\left(\\delta - \\frac{l}{2^{t}}\\right) }\\right)\\right)\\right| }$  assuming $l \\neq 0$, $l \\in \\{\\left( \\left(-\\left(2^{t - 1}\\right)\\right) + 1 \\right)\\ldots \\left(2^{t - 1}\\right)\\}$ \n",
      "                                                            implication $\\left(\\left|\\alpha_{l}\\right| = \\frac{\\left|1 - \\left(e^{ i \\cdot 2 \\cdot \\pi \\cdot \\left(\\left( \\left(2^{t}\\right) \\cdot \\delta \\right) - l\\right) }\\right)\\right|}{ \\left(2^{t}\\right) \\cdot \\left|\\left(1 - \\left(e^{ 2 \\cdot \\pi \\cdot i \\cdot \\left(\\delta - \\frac{l}{2^{t}}\\right) }\\right)\\right)\\right| }\\right) \\Rightarrow \\left(\\left|\\alpha_{l}\\right| = \\frac{\\left|1 - \\left(e^{ i \\cdot 2 \\cdot \\pi \\cdot \\left(\\left( \\left(2^{t}\\right) \\cdot \\delta \\right) - l\\right) }\\right)\\right|}{ \\left(2^{t}\\right) \\cdot \\left|\\left(1 - \\left(e^{ i \\cdot 2 \\cdot \\pi \\cdot \\left(\\delta - \\frac{l}{2^{t}}\\right) }\\right)\\right)\\right| }\\right)$  assuming $l \\neq 0$, $l \\in \\{\\left( \\left(-\\left(2^{t - 1}\\right)\\right) + 1 \\right)\\ldots \\left(2^{t - 1}\\right)\\}$ \n",
      "                                                              implication $\\left(\\left( 2 \\cdot \\pi \\cdot i \\cdot \\left(\\delta - \\frac{l}{2^{t}}\\right) \\right) = \\left( i \\cdot 2 \\cdot \\pi \\cdot \\left(\\delta - \\frac{l}{2^{t}}\\right) \\right)\\right) \\Rightarrow \\left(\\left(\\left|\\alpha_{l}\\right| = \\frac{\\left|1 - \\left(e^{ i \\cdot 2 \\cdot \\pi \\cdot \\left(\\left( \\left(2^{t}\\right) \\cdot \\delta \\right) - l\\right) }\\right)\\right|}{ \\left(2^{t}\\right) \\cdot \\left|\\left(1 - \\left(e^{ 2 \\cdot \\pi \\cdot i \\cdot \\left(\\delta - \\frac{l}{2^{t}}\\right) }\\right)\\right)\\right| }\\right) \\Rightarrow \\left(\\left|\\alpha_{l}\\right| = \\frac{\\left|1 - \\left(e^{ i \\cdot 2 \\cdot \\pi \\cdot \\left(\\left( \\left(2^{t}\\right) \\cdot \\delta \\right) - l\\right) }\\right)\\right|}{ \\left(2^{t}\\right) \\cdot \\left|\\left(1 - \\left(e^{ i \\cdot 2 \\cdot \\pi \\cdot \\left(\\delta - \\frac{l}{2^{t}}\\right) }\\right)\\right)\\right| }\\right)\\right)$ \n",
      "                                                                specializing $\\forall_{ P , x , y } \\left(\\left(x = y\\right) \\Rightarrow \\left(P\\left( x \\right) \\Rightarrow P\\left( y \\right)\\right)\\right)$  proven above\n",
      "                                                              hypothesis $\\left( 2 \\cdot \\pi \\cdot i \\cdot \\left(\\delta - \\frac{l}{2^{t}}\\right) \\right) = \\left( i \\cdot 2 \\cdot \\pi \\cdot \\left(\\delta - \\frac{l}{2^{t}}\\right) \\right)$  assuming $l \\neq 0$, $l \\in \\{\\left( \\left(-\\left(2^{t - 1}\\right)\\right) + 1 \\right)\\ldots \\left(2^{t - 1}\\right)\\}$  proven above\n",
      "                                                            hypothesis $\\left|\\alpha_{l}\\right| = \\frac{\\left|1 - \\left(e^{ i \\cdot 2 \\cdot \\pi \\cdot \\left(\\left( \\left(2^{t}\\right) \\cdot \\delta \\right) - l\\right) }\\right)\\right|}{ \\left(2^{t}\\right) \\cdot \\left|\\left(1 - \\left(e^{ 2 \\cdot \\pi \\cdot i \\cdot \\left(\\delta - \\frac{l}{2^{t}}\\right) }\\right)\\right)\\right| }$  assuming $l \\neq 0$, $l \\in \\{\\left( \\left(-\\left(2^{t - 1}\\right)\\right) + 1 \\right)\\ldots \\left(2^{t - 1}\\right)\\}$ \n",
      "                                                              implication $\\left(\\left|\\alpha_{l}\\right| = \\frac{\\left|1 - \\left(e^{ 2 \\cdot \\pi \\cdot i \\cdot \\left(\\left( \\left(2^{t}\\right) \\cdot \\delta \\right) - l\\right) }\\right)\\right|}{ \\left(2^{t}\\right) \\cdot \\left|\\left(1 - \\left(e^{ 2 \\cdot \\pi \\cdot i \\cdot \\left(\\delta - \\frac{l}{2^{t}}\\right) }\\right)\\right)\\right| }\\right) \\Rightarrow \\left(\\left|\\alpha_{l}\\right| = \\frac{\\left|1 - \\left(e^{ i \\cdot 2 \\cdot \\pi \\cdot \\left(\\left( \\left(2^{t}\\right) \\cdot \\delta \\right) - l\\right) }\\right)\\right|}{ \\left(2^{t}\\right) \\cdot \\left|\\left(1 - \\left(e^{ 2 \\cdot \\pi \\cdot i \\cdot \\left(\\delta - \\frac{l}{2^{t}}\\right) }\\right)\\right)\\right| }\\right)$  assuming $l \\neq 0$, $l \\in \\{\\left( \\left(-\\left(2^{t - 1}\\right)\\right) + 1 \\right)\\ldots \\left(2^{t - 1}\\right)\\}$ \n",
      "                                                                implication $\\left(\\left( 2 \\cdot \\pi \\cdot i \\cdot \\left(\\left( \\left(2^{t}\\right) \\cdot \\delta \\right) - l\\right) \\right) = \\left( i \\cdot 2 \\cdot \\pi \\cdot \\left(\\left( \\left(2^{t}\\right) \\cdot \\delta \\right) - l\\right) \\right)\\right) \\Rightarrow \\left(\\left(\\left|\\alpha_{l}\\right| = \\frac{\\left|1 - \\left(e^{ 2 \\cdot \\pi \\cdot i \\cdot \\left(\\left( \\left(2^{t}\\right) \\cdot \\delta \\right) - l\\right) }\\right)\\right|}{ \\left(2^{t}\\right) \\cdot \\left|\\left(1 - \\left(e^{ 2 \\cdot \\pi \\cdot i \\cdot \\left(\\delta - \\frac{l}{2^{t}}\\right) }\\right)\\right)\\right| }\\right) \\Rightarrow \\left(\\left|\\alpha_{l}\\right| = \\frac{\\left|1 - \\left(e^{ i \\cdot 2 \\cdot \\pi \\cdot \\left(\\left( \\left(2^{t}\\right) \\cdot \\delta \\right) - l\\right) }\\right)\\right|}{ \\left(2^{t}\\right) \\cdot \\left|\\left(1 - \\left(e^{ 2 \\cdot \\pi \\cdot i \\cdot \\left(\\delta - \\frac{l}{2^{t}}\\right) }\\right)\\right)\\right| }\\right)\\right)$ \n",
      "                                                                  specializing $\\forall_{ P , x , y } \\left(\\left(x = y\\right) \\Rightarrow \\left(P\\left( x \\right) \\Rightarrow P\\left( y \\right)\\right)\\right)$  proven above\n",
      "                                                                hypothesis $\\left( 2 \\cdot \\pi \\cdot i \\cdot \\left(\\left( \\left(2^{t}\\right) \\cdot \\delta \\right) - l\\right) \\right) = \\left( i \\cdot 2 \\cdot \\pi \\cdot \\left(\\left( \\left(2^{t}\\right) \\cdot \\delta \\right) - l\\right) \\right)$  assuming $l \\neq 0$, $l \\in \\{\\left( \\left(-\\left(2^{t - 1}\\right)\\right) + 1 \\right)\\ldots \\left(2^{t - 1}\\right)\\}$ \n",
      "                                                                  specializing $\\forall_{~.., v_{\\Box} ,..., w_{\\Box} ,..., x_{\\Box} ,..., y_{\\Box} ,..., z_{\\Box} ,..~ \\in \\mathbb{C}} \\left(\\left(~..\\cdot v_{\\Box} \\cdot...\\cdot w_{\\Box} \\cdot...\\cdot x_{\\Box} \\cdot...\\cdot y_{\\Box} \\cdot...\\cdot z_{\\Box} \\cdot..~\\right) = \\left(~..\\cdot v_{\\Box} \\cdot...\\cdot y_{\\Box} \\cdot...\\cdot x_{\\Box} \\cdot...\\cdot w_{\\Box} \\cdot...\\cdot z_{\\Box} \\cdot..~\\right)\\right)$  proven above\n",
      "                                                                  condition $2 \\in \\mathbb{C}$  proven above\n",
      "                                                                  condition $\\pi \\in \\mathbb{C}$  proven above\n",
      "                                                                  condition $i \\in \\mathbb{C}$  proven above\n",
      "                                                                  condition $\\left(\\left( \\left(2^{t}\\right) \\cdot \\delta \\right) - l\\right) \\in \\mathbb{C}$  assuming $l \\neq 0$, $l \\in \\{\\left( \\left(-\\left(2^{t - 1}\\right)\\right) + 1 \\right)\\ldots \\left(2^{t - 1}\\right)\\}$ \n",
      "                                                                    specializing $\\forall_{ a  \\in \\mathbb{R}} \\left(a \\in \\mathbb{C}\\right)$  proven above\n",
      "                                                                    condition $\\left(\\left( \\left(2^{t}\\right) \\cdot \\delta \\right) - l\\right) \\in \\mathbb{R}$  assuming $l \\neq 0$, $l \\in \\{\\left( \\left(-\\left(2^{t - 1}\\right)\\right) + 1 \\right)\\ldots \\left(2^{t - 1}\\right)\\}$ \n",
      "                                                                      specializing $\\forall_{ a , b  \\in \\mathbb{R}} \\left(\\left(a - b\\right) \\in \\mathbb{R}\\right)$  proven above\n",
      "                                                                      condition $\\left( \\left(2^{t}\\right) \\cdot \\delta \\right) \\in \\mathbb{R}$ \n",
      "                                                                        specializing $\\forall_{~.., x_{\\Box} ,..~ \\in \\mathbb{R}} \\left(\\left(~..\\cdot x_{\\Box} \\cdot..~\\right) \\in \\mathbb{R}\\right)$  proven above\n",
      "                                                                        condition $\\delta \\in \\mathbb{R}$  proven above\n",
      "                                                                        condition $\\left(2^{t}\\right) \\in \\mathbb{R}$  proven above\n",
      "                                                                      condition $l \\in \\mathbb{R}$  assuming $l \\neq 0$, $l \\in \\{\\left( \\left(-\\left(2^{t - 1}\\right)\\right) + 1 \\right)\\ldots \\left(2^{t - 1}\\right)\\}$  proven above\n",
      "                                                              hypothesis $\\left|\\alpha_{l}\\right| = \\frac{\\left|1 - \\left(e^{ 2 \\cdot \\pi \\cdot i \\cdot \\left(\\left( \\left(2^{t}\\right) \\cdot \\delta \\right) - l\\right) }\\right)\\right|}{ \\left(2^{t}\\right) \\cdot \\left|\\left(1 - \\left(e^{ 2 \\cdot \\pi \\cdot i \\cdot \\left(\\delta - \\frac{l}{2^{t}}\\right) }\\right)\\right)\\right| }$  assuming $l \\neq 0$, $l \\in \\{\\left( \\left(-\\left(2^{t - 1}\\right)\\right) + 1 \\right)\\ldots \\left(2^{t - 1}\\right)\\}$ \n",
      "                                                                specializing $\\forall_{ l  \\in \\mathbb{Z}} \\left(\\left|\\alpha_{l}\\right| = \\frac{\\left|1 - \\left(e^{ 2 \\cdot \\pi \\cdot i \\cdot \\left(\\left( \\left(2^{t}\\right) \\cdot \\delta \\right) - l\\right) }\\right)\\right|}{ \\left(2^{t}\\right) \\cdot \\left|\\left(1 - \\left(e^{ 2 \\cdot \\pi \\cdot i \\cdot \\left(\\delta - \\frac{l}{2^{t}}\\right) }\\right)\\right)\\right| }\\right)$ \n",
      "                                                                  by theorem proveit.physics.quantum.QPE.alpha_l_summed_abs\n",
      "                                                                condition $l \\in \\mathbb{Z}$  assuming $l \\neq 0$, $l \\in \\{\\left( \\left(-\\left(2^{t - 1}\\right)\\right) + 1 \\right)\\ldots \\left(2^{t - 1}\\right)\\}$  proven above\n",
      "                                                      hypothesis $\\frac{\\left|1 - \\left(e^{ i \\cdot \\left( 2 \\cdot \\pi \\cdot \\left(\\left( \\left(2^{t}\\right) \\cdot \\delta \\right) - l\\right) \\right) }\\right)\\right|}{ \\left(2^{t}\\right) \\cdot \\left|\\left(1 - \\left(e^{ i \\cdot 2 \\cdot \\pi \\cdot \\left(\\delta - \\frac{l}{2^{t}}\\right) }\\right)\\right)\\right| } \\leq \\frac{2}{ \\left(2^{t}\\right) \\cdot \\left|\\left(1 - \\left(e^{ i \\cdot 2 \\cdot \\pi \\cdot \\left(\\delta - \\frac{l}{2^{t}}\\right) }\\right)\\right)\\right| }$  assuming $l \\neq 0$, $l \\in \\{\\left( \\left(-\\left(2^{t - 1}\\right)\\right) + 1 \\right)\\ldots \\left(2^{t - 1}\\right)\\}$ \n",
      "                                                        specializing $\\forall_{ a , b , c  \\in \\mathbb{R}~|~ \\left(a \\leq c\\right) , \\left(b > 0\\right) } \\left(\\frac{a}{b} \\leq \\frac{c}{b}\\right)$ \n",
      "                                                          by theorem proveit.number.real.divIneqThm1\n",
      "                                                        condition $\\left( \\left(2^{t}\\right) \\cdot \\left|\\left(1 - \\left(e^{ i \\cdot 2 \\cdot \\pi \\cdot \\left(\\delta - \\frac{l}{2^{t}}\\right) }\\right)\\right)\\right| \\right) > 0$  assuming $l \\neq 0$, $l \\in \\{\\left( \\left(-\\left(2^{t - 1}\\right)\\right) + 1 \\right)\\ldots \\left(2^{t - 1}\\right)\\}$ \n",
      "                                                          implication $\\left(\\left( \\left(2^{t}\\right) \\cdot \\left|\\left(1 - \\left(e^{ i \\cdot 2 \\cdot \\pi \\cdot \\left(\\delta - \\frac{l}{2^{t}}\\right) }\\right)\\right)\\right| \\right) \\in \\mathbb{R}^+\\right) \\Rightarrow \\left(\\left( \\left(2^{t}\\right) \\cdot \\left|\\left(1 - \\left(e^{ i \\cdot 2 \\cdot \\pi \\cdot \\left(\\delta - \\frac{l}{2^{t}}\\right) }\\right)\\right)\\right| \\right) > 0\\right)$  assuming $l \\neq 0$, $l \\in \\{\\left( \\left(-\\left(2^{t - 1}\\right)\\right) + 1 \\right)\\ldots \\left(2^{t - 1}\\right)\\}$ \n",
      "                                                            implication $\\left(\\left(\\left( \\left(2^{t}\\right) \\cdot \\left|\\left(1 - \\left(e^{ i \\cdot 2 \\cdot \\pi \\cdot \\left(\\delta - \\frac{l}{2^{t}}\\right) }\\right)\\right)\\right| \\right) \\in \\mathbb{R}^+\\right) \\Leftrightarrow \\left(\\left( \\left(2^{t}\\right) \\cdot \\left|\\left(1 - \\left(e^{ i \\cdot 2 \\cdot \\pi \\cdot \\left(\\delta - \\frac{l}{2^{t}}\\right) }\\right)\\right)\\right| \\right) > 0\\right)\\right) \\Rightarrow \\left(\\left(\\left( \\left(2^{t}\\right) \\cdot \\left|\\left(1 - \\left(e^{ i \\cdot 2 \\cdot \\pi \\cdot \\left(\\delta - \\frac{l}{2^{t}}\\right) }\\right)\\right)\\right| \\right) \\in \\mathbb{R}^+\\right) \\Rightarrow \\left(\\left( \\left(2^{t}\\right) \\cdot \\left|\\left(1 - \\left(e^{ i \\cdot 2 \\cdot \\pi \\cdot \\left(\\delta - \\frac{l}{2^{t}}\\right) }\\right)\\right)\\right| \\right) > 0\\right)\\right)$ \n",
      "                                                              specializing $\\forall_{ A , B } \\left(\\left(A \\Leftrightarrow B\\right) \\Rightarrow \\left(A \\Rightarrow B\\right)\\right)$  proven above\n",
      "                                                            hypothesis $\\left(\\left( \\left(2^{t}\\right) \\cdot \\left|\\left(1 - \\left(e^{ i \\cdot 2 \\cdot \\pi \\cdot \\left(\\delta - \\frac{l}{2^{t}}\\right) }\\right)\\right)\\right| \\right) \\in \\mathbb{R}^+\\right) \\Leftrightarrow \\left(\\left( \\left(2^{t}\\right) \\cdot \\left|\\left(1 - \\left(e^{ i \\cdot 2 \\cdot \\pi \\cdot \\left(\\delta - \\frac{l}{2^{t}}\\right) }\\right)\\right)\\right| \\right) > 0\\right)$  assuming $l \\neq 0$, $l \\in \\{\\left( \\left(-\\left(2^{t - 1}\\right)\\right) + 1 \\right)\\ldots \\left(2^{t - 1}\\right)\\}$ \n",
      "                                                              specializing $\\forall_{ a  \\in \\mathbb{R}} \\left(\\left(a \\in \\mathbb{R}^+\\right) \\Leftrightarrow \\left(a > 0\\right)\\right)$  proven above\n",
      "                                                              condition $\\left( \\left(2^{t}\\right) \\cdot \\left|\\left(1 - \\left(e^{ i \\cdot 2 \\cdot \\pi \\cdot \\left(\\delta - \\frac{l}{2^{t}}\\right) }\\right)\\right)\\right| \\right) \\in \\mathbb{R}$  assuming $l \\neq 0$, $l \\in \\{\\left( \\left(-\\left(2^{t - 1}\\right)\\right) + 1 \\right)\\ldots \\left(2^{t - 1}\\right)\\}$ \n",
      "                                                                specializing $\\forall_{ a  \\in \\mathbb{R}^+} \\left(a \\in \\mathbb{R}\\right)$  proven above\n",
      "                                                                condition $\\left( \\left(2^{t}\\right) \\cdot \\left|\\left(1 - \\left(e^{ i \\cdot 2 \\cdot \\pi \\cdot \\left(\\delta - \\frac{l}{2^{t}}\\right) }\\right)\\right)\\right| \\right) \\in \\mathbb{R}^+$  assuming $l \\neq 0$, $l \\in \\{\\left( \\left(-\\left(2^{t - 1}\\right)\\right) + 1 \\right)\\ldots \\left(2^{t - 1}\\right)\\}$ \n",
      "                                                                  specializing $\\forall_{~.., x_{\\Box} ,..~ \\in \\mathbb{R}^+} \\left(\\left(~..\\cdot x_{\\Box} \\cdot..~\\right) \\in \\mathbb{R}^+\\right)$  proven above\n",
      "                                                                  condition $\\left|\\left(1 - \\left(e^{ i \\cdot 2 \\cdot \\pi \\cdot \\left(\\delta - \\frac{l}{2^{t}}\\right) }\\right)\\right)\\right| \\in \\mathbb{R}^+$  assuming $l \\neq 0$, $l \\in \\{\\left( \\left(-\\left(2^{t - 1}\\right)\\right) + 1 \\right)\\ldots \\left(2^{t - 1}\\right)\\}$ \n",
      "                                                                    specializing $\\forall_{ a  \\in \\mathbb{C}~|~ \\left(a \\neq 0\\right) } \\left(\\left|a\\right| \\in \\mathbb{R}^+\\right)$  proven above\n",
      "                                                                    condition $\\left(1 - \\left(e^{ i \\cdot 2 \\cdot \\pi \\cdot \\left(\\delta - \\frac{l}{2^{t}}\\right) }\\right)\\right) \\in \\mathbb{C}$  assuming $l \\neq 0$, $l \\in \\{\\left( \\left(-\\left(2^{t - 1}\\right)\\right) + 1 \\right)\\ldots \\left(2^{t - 1}\\right)\\}$ \n",
      "                                                                      specializing $\\forall_{ a , b  \\in \\mathbb{C}} \\left(\\left(a - b\\right) \\in \\mathbb{C}\\right)$  proven above\n",
      "                                                                      condition $1 \\in \\mathbb{C}$  proven above\n",
      "                                                                      condition $\\left(e^{ i \\cdot 2 \\cdot \\pi \\cdot \\left(\\delta - \\frac{l}{2^{t}}\\right) }\\right) \\in \\mathbb{C}$  assuming $l \\neq 0$, $l \\in \\{\\left( \\left(-\\left(2^{t - 1}\\right)\\right) + 1 \\right)\\ldots \\left(2^{t - 1}\\right)\\}$ \n",
      "                                                                        specializing $\\forall_{ a , b  \\in \\mathbb{C}~|~ \\left(a \\neq 0\\right) } \\left(\\left(a^{b}\\right) \\in \\mathbb{C}\\right)$  proven above\n",
      "                                                                        condition $e \\neq 0$  proven above\n",
      "                                                                        condition $e \\in \\mathbb{C}$  proven above\n",
      "                                                                        condition $\\left( i \\cdot 2 \\cdot \\pi \\cdot \\left(\\delta - \\frac{l}{2^{t}}\\right) \\right) \\in \\mathbb{C}$  assuming $l \\neq 0$, $l \\in \\{\\left( \\left(-\\left(2^{t - 1}\\right)\\right) + 1 \\right)\\ldots \\left(2^{t - 1}\\right)\\}$ \n",
      "                                                                          specializing $\\forall_{~.., x_{\\Box} ,..~ \\in \\mathbb{C}} \\left(\\left(~..\\cdot x_{\\Box} \\cdot..~\\right) \\in \\mathbb{C}\\right)$  proven above\n",
      "                                                                          condition $2 \\in \\mathbb{C}$  proven above\n",
      "                                                                          condition $\\pi \\in \\mathbb{C}$  proven above\n",
      "                                                                          condition $i \\in \\mathbb{C}$  proven above\n",
      "                                                                          condition $\\left(\\delta - \\frac{l}{2^{t}}\\right) \\in \\mathbb{C}$  assuming $l \\neq 0$, $l \\in \\{\\left( \\left(-\\left(2^{t - 1}\\right)\\right) + 1 \\right)\\ldots \\left(2^{t - 1}\\right)\\}$  proven above\n",
      "                                                                    condition $\\left(1 - \\left(e^{ i \\cdot 2 \\cdot \\pi \\cdot \\left(\\delta - \\frac{l}{2^{t}}\\right) }\\right)\\right) \\neq 0$  assuming $l \\neq 0$, $l \\in \\{\\left( \\left(-\\left(2^{t - 1}\\right)\\right) + 1 \\right)\\ldots \\left(2^{t - 1}\\right)\\}$ \n",
      "                                                                      specializing $\\forall_{ a , b  \\in \\mathbb{C}~|~ \\left(a \\neq b\\right) } \\left(\\left(a - b\\right) \\neq 0\\right)$  proven above\n",
      "                                                                      condition $1 \\in \\mathbb{C}$  proven above\n",
      "                                                                      condition $1 \\neq \\left(e^{ i \\cdot 2 \\cdot \\pi \\cdot \\left(\\delta - \\frac{l}{2^{t}}\\right) }\\right)$  assuming $l \\neq 0$, $l \\in \\{\\left( \\left(-\\left(2^{t - 1}\\right)\\right) + 1 \\right)\\ldots \\left(2^{t - 1}\\right)\\}$ \n",
      "                                                                        implication $\\left(\\left(e^{ i \\cdot 2 \\cdot \\pi \\cdot \\left(\\delta - \\frac{l}{2^{t}}\\right) }\\right) \\neq 1\\right) \\Rightarrow \\left(1 \\neq \\left(e^{ i \\cdot 2 \\cdot \\pi \\cdot \\left(\\delta - \\frac{l}{2^{t}}\\right) }\\right)\\right)$ \n",
      "                                                                          specializing $\\forall_{ x , y } \\left(\\left(x \\neq y\\right) \\Rightarrow \\left(y \\neq x\\right)\\right)$  proven above\n",
      "                                                                        hypothesis $\\left(e^{ i \\cdot 2 \\cdot \\pi \\cdot \\left(\\delta - \\frac{l}{2^{t}}\\right) }\\right) \\neq 1$  assuming $l \\neq 0$, $l \\in \\{\\left( \\left(-\\left(2^{t - 1}\\right)\\right) + 1 \\right)\\ldots \\left(2^{t - 1}\\right)\\}$ \n",
      "                                                                          implication $\\left(\\left(e^{ 2 \\cdot \\pi \\cdot i \\cdot \\left(\\delta - \\frac{l}{2^{t}}\\right) }\\right) \\neq 1\\right) \\Rightarrow \\left(\\left(e^{ i \\cdot 2 \\cdot \\pi \\cdot \\left(\\delta - \\frac{l}{2^{t}}\\right) }\\right) \\neq 1\\right)$  assuming $l \\neq 0$, $l \\in \\{\\left( \\left(-\\left(2^{t - 1}\\right)\\right) + 1 \\right)\\ldots \\left(2^{t - 1}\\right)\\}$ \n",
      "                                                                            implication $\\left(\\left( 2 \\cdot \\pi \\cdot i \\cdot \\left(\\delta - \\frac{l}{2^{t}}\\right) \\right) = \\left( i \\cdot 2 \\cdot \\pi \\cdot \\left(\\delta - \\frac{l}{2^{t}}\\right) \\right)\\right) \\Rightarrow \\left(\\left(\\left(e^{ 2 \\cdot \\pi \\cdot i \\cdot \\left(\\delta - \\frac{l}{2^{t}}\\right) }\\right) \\neq 1\\right) \\Rightarrow \\left(\\left(e^{ i \\cdot 2 \\cdot \\pi \\cdot \\left(\\delta - \\frac{l}{2^{t}}\\right) }\\right) \\neq 1\\right)\\right)$ \n",
      "                                                                              specializing $\\forall_{ P , x , y } \\left(\\left(x = y\\right) \\Rightarrow \\left(P\\left( x \\right) \\Rightarrow P\\left( y \\right)\\right)\\right)$  proven above\n",
      "                                                                            hypothesis $\\left( 2 \\cdot \\pi \\cdot i \\cdot \\left(\\delta - \\frac{l}{2^{t}}\\right) \\right) = \\left( i \\cdot 2 \\cdot \\pi \\cdot \\left(\\delta - \\frac{l}{2^{t}}\\right) \\right)$  assuming $l \\neq 0$, $l \\in \\{\\left( \\left(-\\left(2^{t - 1}\\right)\\right) + 1 \\right)\\ldots \\left(2^{t - 1}\\right)\\}$  proven above\n",
      "                                                                          hypothesis $\\left(e^{ 2 \\cdot \\pi \\cdot i \\cdot \\left(\\delta - \\frac{l}{2^{t}}\\right) }\\right) \\neq 1$  assuming $l \\neq 0$, $l \\in \\{\\left( \\left(-\\left(2^{t - 1}\\right)\\right) + 1 \\right)\\ldots \\left(2^{t - 1}\\right)\\}$  proven above\n",
      "                                                                      condition $\\left(e^{ i \\cdot 2 \\cdot \\pi \\cdot \\left(\\delta - \\frac{l}{2^{t}}\\right) }\\right) \\in \\mathbb{C}$  assuming $l \\neq 0$, $l \\in \\{\\left( \\left(-\\left(2^{t - 1}\\right)\\right) + 1 \\right)\\ldots \\left(2^{t - 1}\\right)\\}$  proven above\n",
      "                                                                  condition $\\left(2^{t}\\right) \\in \\mathbb{R}^+$  proven above\n",
      "                                                          hypothesis $\\left( \\left(2^{t}\\right) \\cdot \\left|\\left(1 - \\left(e^{ i \\cdot 2 \\cdot \\pi \\cdot \\left(\\delta - \\frac{l}{2^{t}}\\right) }\\right)\\right)\\right| \\right) \\in \\mathbb{R}^+$  assuming $l \\neq 0$, $l \\in \\{\\left( \\left(-\\left(2^{t - 1}\\right)\\right) + 1 \\right)\\ldots \\left(2^{t - 1}\\right)\\}$  proven above\n",
      "                                                        condition $\\left( \\left(2^{t}\\right) \\cdot \\left|\\left(1 - \\left(e^{ i \\cdot 2 \\cdot \\pi \\cdot \\left(\\delta - \\frac{l}{2^{t}}\\right) }\\right)\\right)\\right| \\right) \\in \\mathbb{R}$  assuming $l \\neq 0$, $l \\in \\{\\left( \\left(-\\left(2^{t - 1}\\right)\\right) + 1 \\right)\\ldots \\left(2^{t - 1}\\right)\\}$  proven above\n",
      "                                                        condition $2 \\in \\mathbb{R}$  proven above\n",
      "                                                        condition $\\left|\\left(1 - \\left(e^{ i \\cdot \\left( 2 \\cdot \\pi \\cdot \\left(\\left( \\left(2^{t}\\right) \\cdot \\delta \\right) - l\\right) \\right) }\\right)\\right)\\right| \\in \\mathbb{R}$  assuming $l \\neq 0$, $l \\in \\{\\left( \\left(-\\left(2^{t - 1}\\right)\\right) + 1 \\right)\\ldots \\left(2^{t - 1}\\right)\\}$ \n",
      "                                                          specializing $\\forall_{ a  \\in \\mathbb{C}} \\left(\\left|a\\right| \\in \\mathbb{R}\\right)$ \n",
      "                                                            by theorem proveit.number.complex.absClosure\n",
      "                                                          condition $\\left(1 - \\left(e^{ i \\cdot \\left( 2 \\cdot \\pi \\cdot \\left(\\left( \\left(2^{t}\\right) \\cdot \\delta \\right) - l\\right) \\right) }\\right)\\right) \\in \\mathbb{C}$  assuming $l \\neq 0$, $l \\in \\{\\left( \\left(-\\left(2^{t - 1}\\right)\\right) + 1 \\right)\\ldots \\left(2^{t - 1}\\right)\\}$ \n",
      "                                                            specializing $\\forall_{ a , b  \\in \\mathbb{C}} \\left(\\left(a - b\\right) \\in \\mathbb{C}\\right)$  proven above\n",
      "                                                            condition $1 \\in \\mathbb{C}$  proven above\n",
      "                                                            condition $\\left(e^{ i \\cdot \\left( 2 \\cdot \\pi \\cdot \\left(\\left( \\left(2^{t}\\right) \\cdot \\delta \\right) - l\\right) \\right) }\\right) \\in \\mathbb{C}$  assuming $l \\neq 0$, $l \\in \\{\\left( \\left(-\\left(2^{t - 1}\\right)\\right) + 1 \\right)\\ldots \\left(2^{t - 1}\\right)\\}$ \n",
      "                                                              specializing $\\forall_{ a , b  \\in \\mathbb{C}~|~ \\left(a \\neq 0\\right) } \\left(\\left(a^{b}\\right) \\in \\mathbb{C}\\right)$  proven above\n",
      "                                                              condition $e \\neq 0$  proven above\n",
      "                                                              condition $e \\in \\mathbb{C}$  proven above\n",
      "                                                              condition $\\left( i \\cdot \\left( 2 \\cdot \\pi \\cdot \\left(\\left( \\left(2^{t}\\right) \\cdot \\delta \\right) - l\\right) \\right) \\right) \\in \\mathbb{C}$  assuming $l \\neq 0$, $l \\in \\{\\left( \\left(-\\left(2^{t - 1}\\right)\\right) + 1 \\right)\\ldots \\left(2^{t - 1}\\right)\\}$ \n",
      "                                                                specializing $\\forall_{~.., x_{\\Box} ,..~ \\in \\mathbb{C}} \\left(\\left(~..\\cdot x_{\\Box} \\cdot..~\\right) \\in \\mathbb{C}\\right)$  proven above\n",
      "                                                                condition $\\left( 2 \\cdot \\pi \\cdot \\left(\\left( \\left(2^{t}\\right) \\cdot \\delta \\right) - l\\right) \\right) \\in \\mathbb{C}$  assuming $l \\neq 0$, $l \\in \\{\\left( \\left(-\\left(2^{t - 1}\\right)\\right) + 1 \\right)\\ldots \\left(2^{t - 1}\\right)\\}$ \n",
      "                                                                  specializing $\\forall_{ a  \\in \\mathbb{R}} \\left(a \\in \\mathbb{C}\\right)$  proven above\n",
      "                                                                  condition $\\left( 2 \\cdot \\pi \\cdot \\left(\\left( \\left(2^{t}\\right) \\cdot \\delta \\right) - l\\right) \\right) \\in \\mathbb{R}$  assuming $l \\neq 0$, $l \\in \\{\\left( \\left(-\\left(2^{t - 1}\\right)\\right) + 1 \\right)\\ldots \\left(2^{t - 1}\\right)\\}$ \n",
      "                                                                    specializing $\\forall_{~.., x_{\\Box} ,..~ \\in \\mathbb{R}} \\left(\\left(~..\\cdot x_{\\Box} \\cdot..~\\right) \\in \\mathbb{R}\\right)$  proven above\n",
      "                                                                    condition $\\pi \\in \\mathbb{R}$  proven above\n",
      "                                                                    condition $\\left(\\left( \\left(2^{t}\\right) \\cdot \\delta \\right) - l\\right) \\in \\mathbb{R}$  assuming $l \\neq 0$, $l \\in \\{\\left( \\left(-\\left(2^{t - 1}\\right)\\right) + 1 \\right)\\ldots \\left(2^{t - 1}\\right)\\}$  proven above\n",
      "                                                                    condition $2 \\in \\mathbb{R}$  proven above\n",
      "                                                                condition $i \\in \\mathbb{C}$  proven above\n",
      "                                                        condition $\\left|\\left(1 - \\left(e^{ i \\cdot \\left( 2 \\cdot \\pi \\cdot \\left(\\left( \\left(2^{t}\\right) \\cdot \\delta \\right) - l\\right) \\right) }\\right)\\right)\\right| \\leq 2$  assuming $l \\neq 0$, $l \\in \\{\\left( \\left(-\\left(2^{t - 1}\\right)\\right) + 1 \\right)\\ldots \\left(2^{t - 1}\\right)\\}$ \n",
      "                                                          specializing $\\forall_{ \\theta  \\in \\mathbb{R}} \\left(\\left|\\left(1 - \\left(e^{ i \\cdot \\theta }\\right)\\right)\\right| \\leq 2\\right)$ \n",
      "                                                            by theorem proveit.number.real.ineqThm9\n",
      "                                                          condition $\\left( 2 \\cdot \\pi \\cdot \\left(\\left( \\left(2^{t}\\right) \\cdot \\delta \\right) - l\\right) \\right) \\in \\mathbb{R}$  assuming $l \\neq 0$, $l \\in \\{\\left( \\left(-\\left(2^{t - 1}\\right)\\right) + 1 \\right)\\ldots \\left(2^{t - 1}\\right)\\}$  proven above\n",
      "                                                  condition $\\left|\\alpha_{l}\\right| \\in \\mathbb{R}$  assuming $l \\neq 0$, $l \\in \\{\\left( \\left(-\\left(2^{t - 1}\\right)\\right) + 1 \\right)\\ldots \\left(2^{t - 1}\\right)\\}$ \n",
      "                                                    implication $\\left( \\left(\\left|\\alpha_{l}\\right| \\in \\mathbb{R}\\right) \\land \\left(\\left|\\alpha_{l}\\right| \\geq 0\\right) \\right) \\Rightarrow \\left(\\left|\\alpha_{l}\\right| \\in \\mathbb{R}\\right)$ \n",
      "                                                      specializing $\\forall_{~.., A_{\\Box} ,..~, B ,~.., C_{\\Box} ,..~} \\left(\\left(~..\\land A_{\\Box} \\land..~\\land B \\land~..\\land C_{\\Box} \\land..~\\right) \\Rightarrow B\\right)$ \n",
      "                                                        by axiom proveit.basiclogic.boolean.andImpliesEach\n",
      "                                                    hypothesis $ \\left(\\left|\\alpha_{l}\\right| \\in \\mathbb{R}\\right) \\land \\left(\\left|\\alpha_{l}\\right| \\geq 0\\right) $  assuming $l \\neq 0$, $l \\in \\{\\left( \\left(-\\left(2^{t - 1}\\right)\\right) + 1 \\right)\\ldots \\left(2^{t - 1}\\right)\\}$ \n",
      "                                                      specializing $\\forall_{ l  \\in \\mathbb{Z}} \\left( \\left(\\left|\\alpha_{l}\\right| \\in \\mathbb{R}\\right) \\land \\left(\\left|\\alpha_{l}\\right| \\geq 0\\right) \\right)$ \n",
      "                                                        by theorem proveit.physics.quantum.QPE.all_abs_alpha_l_nonneg\n",
      "                                                      condition $l \\in \\mathbb{Z}$  assuming $l \\neq 0$, $l \\in \\{\\left( \\left(-\\left(2^{t - 1}\\right)\\right) + 1 \\right)\\ldots \\left(2^{t - 1}\\right)\\}$  proven above\n",
      "                                                  condition $\\left( \\left(2^{t}\\right) \\cdot \\left|\\left(1 - \\left(e^{ i \\cdot \\left( 2 \\cdot \\pi \\cdot \\left(\\delta - \\frac{l}{2^{t}}\\right) \\right) }\\right)\\right)\\right| \\right) \\geq \\left( \\left(2^{t}\\right) \\cdot \\left( 2 \\cdot 2 \\cdot \\left|\\left(\\delta - \\frac{l}{2^{t}}\\right)\\right| \\right) \\right)$  assuming $l \\neq 0$, $l \\in \\{\\left( \\left(-\\left(2^{t - 1}\\right)\\right) + 1 \\right)\\ldots \\left(2^{t - 1}\\right)\\}$ \n",
      "                                                    implication $\\left(\\left( \\left(2^{t}\\right) \\cdot \\left|\\left(1 - \\left(e^{ i \\cdot \\left( 2 \\cdot \\pi \\cdot \\left(\\delta - \\frac{l}{2^{t}}\\right) \\right) }\\right)\\right)\\right| \\right) \\geq \\left( \\left(2^{t}\\right) \\cdot \\frac{ 2 \\cdot 2 \\cdot \\pi \\cdot \\left|\\left(\\delta - \\frac{l}{2^{t}}\\right)\\right| }{\\pi} \\right)\\right) \\Rightarrow \\left(\\left( \\left(2^{t}\\right) \\cdot \\left|\\left(1 - \\left(e^{ i \\cdot \\left( 2 \\cdot \\pi \\cdot \\left(\\delta - \\frac{l}{2^{t}}\\right) \\right) }\\right)\\right)\\right| \\right) \\geq \\left( \\left(2^{t}\\right) \\cdot \\left( 2 \\cdot 2 \\cdot \\left|\\left(\\delta - \\frac{l}{2^{t}}\\right)\\right| \\right) \\right)\\right)$  assuming $l \\neq 0$, $l \\in \\{\\left( \\left(-\\left(2^{t - 1}\\right)\\right) + 1 \\right)\\ldots \\left(2^{t - 1}\\right)\\}$ \n",
      "                                                      implication $\\left(\\frac{ 2 \\cdot 2 \\cdot \\pi \\cdot \\left|\\left(\\delta - \\frac{l}{2^{t}}\\right)\\right| }{\\pi} = \\left( 2 \\cdot 2 \\cdot \\left|\\left(\\delta - \\frac{l}{2^{t}}\\right)\\right| \\right)\\right) \\Rightarrow \\left(\\left(\\left( \\left(2^{t}\\right) \\cdot \\left|\\left(1 - \\left(e^{ i \\cdot \\left( 2 \\cdot \\pi \\cdot \\left(\\delta - \\frac{l}{2^{t}}\\right) \\right) }\\right)\\right)\\right| \\right) \\geq \\left( \\left(2^{t}\\right) \\cdot \\frac{ 2 \\cdot 2 \\cdot \\pi \\cdot \\left|\\left(\\delta - \\frac{l}{2^{t}}\\right)\\right| }{\\pi} \\right)\\right) \\Rightarrow \\left(\\left( \\left(2^{t}\\right) \\cdot \\left|\\left(1 - \\left(e^{ i \\cdot \\left( 2 \\cdot \\pi \\cdot \\left(\\delta - \\frac{l}{2^{t}}\\right) \\right) }\\right)\\right)\\right| \\right) \\geq \\left( \\left(2^{t}\\right) \\cdot \\left( 2 \\cdot 2 \\cdot \\left|\\left(\\delta - \\frac{l}{2^{t}}\\right)\\right| \\right) \\right)\\right)\\right)$ \n",
      "                                                        specializing $\\forall_{ P , x , y } \\left(\\left(x = y\\right) \\Rightarrow \\left(P\\left( x \\right) \\Rightarrow P\\left( y \\right)\\right)\\right)$  proven above\n",
      "                                                      hypothesis $\\frac{ 2 \\cdot 2 \\cdot \\pi \\cdot \\left|\\left(\\delta - \\frac{l}{2^{t}}\\right)\\right| }{\\pi} = \\left( 2 \\cdot 2 \\cdot \\left|\\left(\\delta - \\frac{l}{2^{t}}\\right)\\right| \\right)$  assuming $l \\neq 0$, $l \\in \\{\\left( \\left(-\\left(2^{t - 1}\\right)\\right) + 1 \\right)\\ldots \\left(2^{t - 1}\\right)\\}$ \n",
      "                                                        implication $\\left(\\frac{ \\pi \\cdot \\left( 2 \\cdot 2 \\cdot \\left|\\left(\\delta - \\frac{l}{2^{t}}\\right)\\right| \\right) }{\\pi} = \\left( 2 \\cdot 2 \\cdot \\left|\\left(\\delta - \\frac{l}{2^{t}}\\right)\\right| \\right)\\right) \\Rightarrow \\left(\\frac{ 2 \\cdot 2 \\cdot \\pi \\cdot \\left|\\left(\\delta - \\frac{l}{2^{t}}\\right)\\right| }{\\pi} = \\left( 2 \\cdot 2 \\cdot \\left|\\left(\\delta - \\frac{l}{2^{t}}\\right)\\right| \\right)\\right)$  assuming $l \\neq 0$, $l \\in \\{\\left( \\left(-\\left(2^{t - 1}\\right)\\right) + 1 \\right)\\ldots \\left(2^{t - 1}\\right)\\}$ \n",
      "                                                          implication $\\left(\\frac{ 2 \\cdot 2 \\cdot \\pi \\cdot \\left|\\left(\\delta - \\frac{l}{2^{t}}\\right)\\right| }{\\pi} = \\frac{ \\pi \\cdot \\left( 2 \\cdot 2 \\cdot \\left|\\left(\\delta - \\frac{l}{2^{t}}\\right)\\right| \\right) }{\\pi}\\right) \\Rightarrow \\left(\\left(\\frac{ \\pi \\cdot \\left( 2 \\cdot 2 \\cdot \\left|\\left(\\delta - \\frac{l}{2^{t}}\\right)\\right| \\right) }{\\pi} = \\left( 2 \\cdot 2 \\cdot \\left|\\left(\\delta - \\frac{l}{2^{t}}\\right)\\right| \\right)\\right) \\Rightarrow \\left(\\frac{ 2 \\cdot 2 \\cdot \\pi \\cdot \\left|\\left(\\delta - \\frac{l}{2^{t}}\\right)\\right| }{\\pi} = \\left( 2 \\cdot 2 \\cdot \\left|\\left(\\delta - \\frac{l}{2^{t}}\\right)\\right| \\right)\\right)\\right)$ \n",
      "                                                            specializing $\\forall_{ x , y , z } \\left(\\left(x = y\\right) \\Rightarrow \\left(\\left(y = z\\right) \\Rightarrow \\left(x = z\\right)\\right)\\right)$  proven above\n",
      "                                                          hypothesis $\\frac{ 2 \\cdot 2 \\cdot \\pi \\cdot \\left|\\left(\\delta - \\frac{l}{2^{t}}\\right)\\right| }{\\pi} = \\frac{ \\pi \\cdot \\left( 2 \\cdot 2 \\cdot \\left|\\left(\\delta - \\frac{l}{2^{t}}\\right)\\right| \\right) }{\\pi}$  assuming $l \\neq 0$, $l \\in \\{\\left( \\left(-\\left(2^{t - 1}\\right)\\right) + 1 \\right)\\ldots \\left(2^{t - 1}\\right)\\}$ \n",
      "                                                            implication $\\left(\\left( 2 \\cdot 2 \\cdot \\pi \\cdot \\left|\\left(\\delta - \\frac{l}{2^{t}}\\right)\\right| \\right) = \\left( \\pi \\cdot \\left( 2 \\cdot 2 \\cdot \\left|\\left(\\delta - \\frac{l}{2^{t}}\\right)\\right| \\right) \\right)\\right) \\Rightarrow \\left(\\frac{ 2 \\cdot 2 \\cdot \\pi \\cdot \\left|\\left(\\delta - \\frac{l}{2^{t}}\\right)\\right| }{\\pi} = \\frac{ \\pi \\cdot \\left( 2 \\cdot 2 \\cdot \\left|\\left(\\delta - \\frac{l}{2^{t}}\\right)\\right| \\right) }{\\pi}\\right)$ \n",
      "                                                              specializing $\\forall_{ f , x , y } \\left(\\left(x = y\\right) \\Rightarrow \\left(f\\left( x \\right) = f\\left( y \\right)\\right)\\right)$  proven above\n",
      "                                                            hypothesis $\\left( 2 \\cdot 2 \\cdot \\pi \\cdot \\left|\\left(\\delta - \\frac{l}{2^{t}}\\right)\\right| \\right) = \\left( \\pi \\cdot \\left( 2 \\cdot 2 \\cdot \\left|\\left(\\delta - \\frac{l}{2^{t}}\\right)\\right| \\right) \\right)$  assuming $l \\neq 0$, $l \\in \\{\\left( \\left(-\\left(2^{t - 1}\\right)\\right) + 1 \\right)\\ldots \\left(2^{t - 1}\\right)\\}$ \n",
      "                                                              implication $\\left(\\left( \\pi \\cdot 2 \\cdot 2 \\cdot \\left|\\left(\\delta - \\frac{l}{2^{t}}\\right)\\right| \\right) = \\left( \\pi \\cdot \\left( 2 \\cdot 2 \\cdot \\left|\\left(\\delta - \\frac{l}{2^{t}}\\right)\\right| \\right) \\right)\\right) \\Rightarrow \\left(\\left( 2 \\cdot 2 \\cdot \\pi \\cdot \\left|\\left(\\delta - \\frac{l}{2^{t}}\\right)\\right| \\right) = \\left( \\pi \\cdot \\left( 2 \\cdot 2 \\cdot \\left|\\left(\\delta - \\frac{l}{2^{t}}\\right)\\right| \\right) \\right)\\right)$  assuming $l \\neq 0$, $l \\in \\{\\left( \\left(-\\left(2^{t - 1}\\right)\\right) + 1 \\right)\\ldots \\left(2^{t - 1}\\right)\\}$ \n",
      "                                                                implication $\\left(\\left( 2 \\cdot 2 \\cdot \\pi \\cdot \\left|\\left(\\delta - \\frac{l}{2^{t}}\\right)\\right| \\right) = \\left( \\pi \\cdot 2 \\cdot 2 \\cdot \\left|\\left(\\delta - \\frac{l}{2^{t}}\\right)\\right| \\right)\\right) \\Rightarrow \\left(\\left(\\left( \\pi \\cdot 2 \\cdot 2 \\cdot \\left|\\left(\\delta - \\frac{l}{2^{t}}\\right)\\right| \\right) = \\left( \\pi \\cdot \\left( 2 \\cdot 2 \\cdot \\left|\\left(\\delta - \\frac{l}{2^{t}}\\right)\\right| \\right) \\right)\\right) \\Rightarrow \\left(\\left( 2 \\cdot 2 \\cdot \\pi \\cdot \\left|\\left(\\delta - \\frac{l}{2^{t}}\\right)\\right| \\right) = \\left( \\pi \\cdot \\left( 2 \\cdot 2 \\cdot \\left|\\left(\\delta - \\frac{l}{2^{t}}\\right)\\right| \\right) \\right)\\right)\\right)$ \n",
      "                                                                  specializing $\\forall_{ x , y , z } \\left(\\left(x = y\\right) \\Rightarrow \\left(\\left(y = z\\right) \\Rightarrow \\left(x = z\\right)\\right)\\right)$  proven above\n",
      "                                                                hypothesis $\\left( 2 \\cdot 2 \\cdot \\pi \\cdot \\left|\\left(\\delta - \\frac{l}{2^{t}}\\right)\\right| \\right) = \\left( \\pi \\cdot 2 \\cdot 2 \\cdot \\left|\\left(\\delta - \\frac{l}{2^{t}}\\right)\\right| \\right)$  assuming $l \\neq 0$, $l \\in \\{\\left( \\left(-\\left(2^{t - 1}\\right)\\right) + 1 \\right)\\ldots \\left(2^{t - 1}\\right)\\}$ \n",
      "                                                                  specializing $\\forall_{~.., v_{\\Box} ,..., w_{\\Box} ,..., x_{\\Box} ,..., y_{\\Box} ,..., z_{\\Box} ,..~ \\in \\mathbb{C}} \\left(\\left(~..\\cdot v_{\\Box} \\cdot...\\cdot w_{\\Box} \\cdot...\\cdot x_{\\Box} \\cdot...\\cdot y_{\\Box} \\cdot...\\cdot z_{\\Box} \\cdot..~\\right) = \\left(~..\\cdot v_{\\Box} \\cdot...\\cdot y_{\\Box} \\cdot...\\cdot x_{\\Box} \\cdot...\\cdot w_{\\Box} \\cdot...\\cdot z_{\\Box} \\cdot..~\\right)\\right)$  proven above\n",
      "                                                                  condition $2 \\in \\mathbb{C}$  proven above\n",
      "                                                                  condition $\\pi \\in \\mathbb{C}$  proven above\n",
      "                                                                  condition $\\left|\\left(\\delta - \\frac{l}{2^{t}}\\right)\\right| \\in \\mathbb{C}$  assuming $l \\neq 0$, $l \\in \\{\\left( \\left(-\\left(2^{t - 1}\\right)\\right) + 1 \\right)\\ldots \\left(2^{t - 1}\\right)\\}$  proven above\n",
      "                                                              hypothesis $\\left( \\pi \\cdot 2 \\cdot 2 \\cdot \\left|\\left(\\delta - \\frac{l}{2^{t}}\\right)\\right| \\right) = \\left( \\pi \\cdot \\left( 2 \\cdot 2 \\cdot \\left|\\left(\\delta - \\frac{l}{2^{t}}\\right)\\right| \\right) \\right)$ \n",
      "                                                                specializing $\\forall_{~.., x_{\\Box} ,..., y_{\\Box} ,..., z_{\\Box} ,..~} \\left(\\left(~..\\cdot x_{\\Box} \\cdot...\\cdot y_{\\Box} \\cdot...\\cdot z_{\\Box} \\cdot..~\\right) = \\left(~..\\cdot x_{\\Box} \\cdot..~\\cdot \\left(~..\\cdot y_{\\Box} \\cdot..~\\right) \\cdot~..\\cdot z_{\\Box} \\cdot..~\\right)\\right)$  proven above\n",
      "                                                        hypothesis $\\frac{ \\pi \\cdot \\left( 2 \\cdot 2 \\cdot \\left|\\left(\\delta - \\frac{l}{2^{t}}\\right)\\right| \\right) }{\\pi} = \\left( 2 \\cdot 2 \\cdot \\left|\\left(\\delta - \\frac{l}{2^{t}}\\right)\\right| \\right)$  assuming $l \\neq 0$, $l \\in \\{\\left( \\left(-\\left(2^{t - 1}\\right)\\right) + 1 \\right)\\ldots \\left(2^{t - 1}\\right)\\}$ \n",
      "                                                          specializing $\\forall_{ x , y  \\in \\mathbb{C}~|~ \\left(x \\neq 0\\right) } \\left(\\frac{ x \\cdot y }{x} = y\\right)$ \n",
      "                                                            by theorem proveit.number.complex.fracCancel2\n",
      "                                                          condition $\\pi \\neq 0$ \n",
      "                                                            specializing $\\forall_{ a  \\in \\mathbb{R}~|~ \\left(a > 0\\right) } \\left(a \\neq 0\\right)$  proven above\n",
      "                                                            condition $\\pi \\in \\mathbb{R}$  proven above\n",
      "                                                            condition $\\pi > 0$ \n",
      "                                                              implication $\\left(\\pi \\in \\mathbb{R}^+\\right) \\Rightarrow \\left(\\pi > 0\\right)$ \n",
      "                                                                implication $\\left(\\left(\\pi \\in \\mathbb{R}^+\\right) \\Leftrightarrow \\left(\\pi > 0\\right)\\right) \\Rightarrow \\left(\\left(\\pi \\in \\mathbb{R}^+\\right) \\Rightarrow \\left(\\pi > 0\\right)\\right)$ \n",
      "                                                                  specializing $\\forall_{ A , B } \\left(\\left(A \\Leftrightarrow B\\right) \\Rightarrow \\left(A \\Rightarrow B\\right)\\right)$  proven above\n",
      "                                                                hypothesis $\\left(\\pi \\in \\mathbb{R}^+\\right) \\Leftrightarrow \\left(\\pi > 0\\right)$ \n",
      "                                                                  specializing $\\forall_{ a  \\in \\mathbb{R}} \\left(\\left(a \\in \\mathbb{R}^+\\right) \\Leftrightarrow \\left(a > 0\\right)\\right)$  proven above\n",
      "                                                                  condition $\\pi \\in \\mathbb{R}$  proven above\n",
      "                                                              hypothesis $\\pi \\in \\mathbb{R}^+$  proven above\n",
      "                                                          condition $\\pi \\in \\mathbb{C}$  proven above\n",
      "                                                          condition $\\left( 2 \\cdot 2 \\cdot \\left|\\left(\\delta - \\frac{l}{2^{t}}\\right)\\right| \\right) \\in \\mathbb{C}$  assuming $l \\neq 0$, $l \\in \\{\\left( \\left(-\\left(2^{t - 1}\\right)\\right) + 1 \\right)\\ldots \\left(2^{t - 1}\\right)\\}$ \n",
      "                                                            specializing $\\forall_{ a  \\in \\mathbb{R}^+} \\left(a \\in \\mathbb{C}\\right)$  proven above\n",
      "                                                            condition $\\left( 2 \\cdot 2 \\cdot \\left|\\left(\\delta - \\frac{l}{2^{t}}\\right)\\right| \\right) \\in \\mathbb{R}^+$  assuming $l \\neq 0$, $l \\in \\{\\left( \\left(-\\left(2^{t - 1}\\right)\\right) + 1 \\right)\\ldots \\left(2^{t - 1}\\right)\\}$ \n",
      "                                                              specializing $\\forall_{~.., x_{\\Box} ,..~ \\in \\mathbb{R}^+} \\left(\\left(~..\\cdot x_{\\Box} \\cdot..~\\right) \\in \\mathbb{R}^+\\right)$  proven above\n",
      "                                                              condition $\\left|\\left(\\delta - \\frac{l}{2^{t}}\\right)\\right| \\in \\mathbb{R}^+$  assuming $l \\neq 0$, $l \\in \\{\\left( \\left(-\\left(2^{t - 1}\\right)\\right) + 1 \\right)\\ldots \\left(2^{t - 1}\\right)\\}$  proven above\n",
      "                                                              condition $2 \\in \\mathbb{R}^+$  proven above\n",
      "                                                    hypothesis $\\left( \\left(2^{t}\\right) \\cdot \\left|\\left(1 - \\left(e^{ i \\cdot \\left( 2 \\cdot \\pi \\cdot \\left(\\delta - \\frac{l}{2^{t}}\\right) \\right) }\\right)\\right)\\right| \\right) \\geq \\left( \\left(2^{t}\\right) \\cdot \\frac{ 2 \\cdot 2 \\cdot \\pi \\cdot \\left|\\left(\\delta - \\frac{l}{2^{t}}\\right)\\right| }{\\pi} \\right)$  assuming $l \\neq 0$, $l \\in \\{\\left( \\left(-\\left(2^{t - 1}\\right)\\right) + 1 \\right)\\ldots \\left(2^{t - 1}\\right)\\}$ \n",
      "                                                      implication $\\left(\\left( \\left(2^{t}\\right) \\cdot \\left|\\left(1 - \\left(e^{ i \\cdot \\left( 2 \\cdot \\pi \\cdot \\left(\\delta - \\frac{l}{2^{t}}\\right) \\right) }\\right)\\right)\\right| \\right) \\geq \\left( \\left(2^{t}\\right) \\cdot \\frac{ 2 \\cdot \\left( 2 \\cdot \\pi \\right) \\cdot \\left|\\left(\\delta - \\frac{l}{2^{t}}\\right)\\right| }{\\pi} \\right)\\right) \\Rightarrow \\left(\\left( \\left(2^{t}\\right) \\cdot \\left|\\left(1 - \\left(e^{ i \\cdot \\left( 2 \\cdot \\pi \\cdot \\left(\\delta - \\frac{l}{2^{t}}\\right) \\right) }\\right)\\right)\\right| \\right) \\geq \\left( \\left(2^{t}\\right) \\cdot \\frac{ 2 \\cdot 2 \\cdot \\pi \\cdot \\left|\\left(\\delta - \\frac{l}{2^{t}}\\right)\\right| }{\\pi} \\right)\\right)$  assuming $l \\neq 0$, $l \\in \\{\\left( \\left(-\\left(2^{t - 1}\\right)\\right) + 1 \\right)\\ldots \\left(2^{t - 1}\\right)\\}$ \n",
      "                                                        implication $\\left(\\left( 2 \\cdot 2 \\cdot \\pi \\cdot \\left|\\left(\\delta - \\frac{l}{2^{t}}\\right)\\right| \\right) = \\left( 2 \\cdot \\left( 2 \\cdot \\pi \\right) \\cdot \\left|\\left(\\delta - \\frac{l}{2^{t}}\\right)\\right| \\right)\\right) \\Rightarrow \\left(\\left(\\left( \\left(2^{t}\\right) \\cdot \\left|\\left(1 - \\left(e^{ i \\cdot \\left( 2 \\cdot \\pi \\cdot \\left(\\delta - \\frac{l}{2^{t}}\\right) \\right) }\\right)\\right)\\right| \\right) \\geq \\left( \\left(2^{t}\\right) \\cdot \\frac{ 2 \\cdot \\left( 2 \\cdot \\pi \\right) \\cdot \\left|\\left(\\delta - \\frac{l}{2^{t}}\\right)\\right| }{\\pi} \\right)\\right) \\Rightarrow \\left(\\left( \\left(2^{t}\\right) \\cdot \\left|\\left(1 - \\left(e^{ i \\cdot \\left( 2 \\cdot \\pi \\cdot \\left(\\delta - \\frac{l}{2^{t}}\\right) \\right) }\\right)\\right)\\right| \\right) \\geq \\left( \\left(2^{t}\\right) \\cdot \\frac{ 2 \\cdot 2 \\cdot \\pi \\cdot \\left|\\left(\\delta - \\frac{l}{2^{t}}\\right)\\right| }{\\pi} \\right)\\right)\\right)$ \n",
      "                                                          specializing $\\forall_{ P , x , y } \\left(\\left(x = y\\right) \\Rightarrow \\left(P\\left( y \\right) \\Rightarrow P\\left( x \\right)\\right)\\right)$  proven above\n",
      "                                                        hypothesis $\\left( 2 \\cdot 2 \\cdot \\pi \\cdot \\left|\\left(\\delta - \\frac{l}{2^{t}}\\right)\\right| \\right) = \\left( 2 \\cdot \\left( 2 \\cdot \\pi \\right) \\cdot \\left|\\left(\\delta - \\frac{l}{2^{t}}\\right)\\right| \\right)$  assuming $l \\neq 0$, $l \\in \\{\\left( \\left(-\\left(2^{t - 1}\\right)\\right) + 1 \\right)\\ldots \\left(2^{t - 1}\\right)\\}$ \n",
      "                                                          specializing $\\forall_{~.., x_{\\Box} ,..., y_{\\Box} ,..., z_{\\Box} ,..~} \\left(\\left(~..\\cdot x_{\\Box} \\cdot...\\cdot y_{\\Box} \\cdot...\\cdot z_{\\Box} \\cdot..~\\right) = \\left(~..\\cdot x_{\\Box} \\cdot..~\\cdot \\left(~..\\cdot y_{\\Box} \\cdot..~\\right) \\cdot~..\\cdot z_{\\Box} \\cdot..~\\right)\\right)$  proven above\n",
      "                                                      hypothesis $\\left( \\left(2^{t}\\right) \\cdot \\left|\\left(1 - \\left(e^{ i \\cdot \\left( 2 \\cdot \\pi \\cdot \\left(\\delta - \\frac{l}{2^{t}}\\right) \\right) }\\right)\\right)\\right| \\right) \\geq \\left( \\left(2^{t}\\right) \\cdot \\frac{ 2 \\cdot \\left( 2 \\cdot \\pi \\right) \\cdot \\left|\\left(\\delta - \\frac{l}{2^{t}}\\right)\\right| }{\\pi} \\right)$  assuming $l \\neq 0$, $l \\in \\{\\left( \\left(-\\left(2^{t - 1}\\right)\\right) + 1 \\right)\\ldots \\left(2^{t - 1}\\right)\\}$ \n",
      "                                                        implication $\\left(\\left( \\left(2^{t}\\right) \\cdot \\left|\\left(1 - \\left(e^{ i \\cdot \\left( 2 \\cdot \\pi \\cdot \\left(\\delta - \\frac{l}{2^{t}}\\right) \\right) }\\right)\\right)\\right| \\right) \\geq \\left( \\left(2^{t}\\right) \\cdot \\frac{ 2 \\cdot \\left( \\left( 2 \\cdot \\pi \\right) \\cdot \\left|\\left(\\delta - \\frac{l}{2^{t}}\\right)\\right| \\right) }{\\pi} \\right)\\right) \\Rightarrow \\left(\\left( \\left(2^{t}\\right) \\cdot \\left|\\left(1 - \\left(e^{ i \\cdot \\left( 2 \\cdot \\pi \\cdot \\left(\\delta - \\frac{l}{2^{t}}\\right) \\right) }\\right)\\right)\\right| \\right) \\geq \\left( \\left(2^{t}\\right) \\cdot \\frac{ 2 \\cdot \\left( 2 \\cdot \\pi \\right) \\cdot \\left|\\left(\\delta - \\frac{l}{2^{t}}\\right)\\right| }{\\pi} \\right)\\right)$  assuming $l \\neq 0$, $l \\in \\{\\left( \\left(-\\left(2^{t - 1}\\right)\\right) + 1 \\right)\\ldots \\left(2^{t - 1}\\right)\\}$ \n",
      "                                                          implication $\\left(\\left( 2 \\cdot \\left( 2 \\cdot \\pi \\right) \\cdot \\left|\\left(\\delta - \\frac{l}{2^{t}}\\right)\\right| \\right) = \\left( 2 \\cdot \\left( \\left( 2 \\cdot \\pi \\right) \\cdot \\left|\\left(\\delta - \\frac{l}{2^{t}}\\right)\\right| \\right) \\right)\\right) \\Rightarrow \\left(\\left(\\left( \\left(2^{t}\\right) \\cdot \\left|\\left(1 - \\left(e^{ i \\cdot \\left( 2 \\cdot \\pi \\cdot \\left(\\delta - \\frac{l}{2^{t}}\\right) \\right) }\\right)\\right)\\right| \\right) \\geq \\left( \\left(2^{t}\\right) \\cdot \\frac{ 2 \\cdot \\left( \\left( 2 \\cdot \\pi \\right) \\cdot \\left|\\left(\\delta - \\frac{l}{2^{t}}\\right)\\right| \\right) }{\\pi} \\right)\\right) \\Rightarrow \\left(\\left( \\left(2^{t}\\right) \\cdot \\left|\\left(1 - \\left(e^{ i \\cdot \\left( 2 \\cdot \\pi \\cdot \\left(\\delta - \\frac{l}{2^{t}}\\right) \\right) }\\right)\\right)\\right| \\right) \\geq \\left( \\left(2^{t}\\right) \\cdot \\frac{ 2 \\cdot \\left( 2 \\cdot \\pi \\right) \\cdot \\left|\\left(\\delta - \\frac{l}{2^{t}}\\right)\\right| }{\\pi} \\right)\\right)\\right)$ \n",
      "                                                            specializing $\\forall_{ P , x , y } \\left(\\left(x = y\\right) \\Rightarrow \\left(P\\left( y \\right) \\Rightarrow P\\left( x \\right)\\right)\\right)$  proven above\n",
      "                                                          hypothesis $\\left( 2 \\cdot \\left( 2 \\cdot \\pi \\right) \\cdot \\left|\\left(\\delta - \\frac{l}{2^{t}}\\right)\\right| \\right) = \\left( 2 \\cdot \\left( \\left( 2 \\cdot \\pi \\right) \\cdot \\left|\\left(\\delta - \\frac{l}{2^{t}}\\right)\\right| \\right) \\right)$  assuming $l \\neq 0$, $l \\in \\{\\left( \\left(-\\left(2^{t - 1}\\right)\\right) + 1 \\right)\\ldots \\left(2^{t - 1}\\right)\\}$ \n",
      "                                                            specializing $\\forall_{~.., x_{\\Box} ,..., y_{\\Box} ,..., z_{\\Box} ,..~} \\left(\\left(~..\\cdot x_{\\Box} \\cdot...\\cdot y_{\\Box} \\cdot...\\cdot z_{\\Box} \\cdot..~\\right) = \\left(~..\\cdot x_{\\Box} \\cdot..~\\cdot \\left(~..\\cdot y_{\\Box} \\cdot..~\\right) \\cdot~..\\cdot z_{\\Box} \\cdot..~\\right)\\right)$  proven above\n",
      "                                                        hypothesis $\\left( \\left(2^{t}\\right) \\cdot \\left|\\left(1 - \\left(e^{ i \\cdot \\left( 2 \\cdot \\pi \\cdot \\left(\\delta - \\frac{l}{2^{t}}\\right) \\right) }\\right)\\right)\\right| \\right) \\geq \\left( \\left(2^{t}\\right) \\cdot \\frac{ 2 \\cdot \\left( \\left( 2 \\cdot \\pi \\right) \\cdot \\left|\\left(\\delta - \\frac{l}{2^{t}}\\right)\\right| \\right) }{\\pi} \\right)$  assuming $l \\neq 0$, $l \\in \\{\\left( \\left(-\\left(2^{t - 1}\\right)\\right) + 1 \\right)\\ldots \\left(2^{t - 1}\\right)\\}$ \n",
      "                                                          implication $\\left(\\left( \\left(2^{t}\\right) \\cdot \\left|\\left(1 - \\left(e^{ i \\cdot \\left( 2 \\cdot \\pi \\cdot \\left(\\delta - \\frac{l}{2^{t}}\\right) \\right) }\\right)\\right)\\right| \\right) \\geq \\left( \\left(2^{t}\\right) \\cdot \\frac{ 2 \\cdot \\left( \\left|\\left( 2 \\cdot \\pi \\right)\\right| \\cdot \\left|\\left(\\delta - \\frac{l}{2^{t}}\\right)\\right| \\right) }{\\pi} \\right)\\right) \\Rightarrow \\left(\\left( \\left(2^{t}\\right) \\cdot \\left|\\left(1 - \\left(e^{ i \\cdot \\left( 2 \\cdot \\pi \\cdot \\left(\\delta - \\frac{l}{2^{t}}\\right) \\right) }\\right)\\right)\\right| \\right) \\geq \\left( \\left(2^{t}\\right) \\cdot \\frac{ 2 \\cdot \\left( \\left( 2 \\cdot \\pi \\right) \\cdot \\left|\\left(\\delta - \\frac{l}{2^{t}}\\right)\\right| \\right) }{\\pi} \\right)\\right)$ \n",
      "                                                            implication $\\left(\\left|\\left( 2 \\cdot \\pi \\right)\\right| = \\left( 2 \\cdot \\pi \\right)\\right) \\Rightarrow \\left(\\left(\\left( \\left(2^{t}\\right) \\cdot \\left|\\left(1 - \\left(e^{ i \\cdot \\left( 2 \\cdot \\pi \\cdot \\left(\\delta - \\frac{l}{2^{t}}\\right) \\right) }\\right)\\right)\\right| \\right) \\geq \\left( \\left(2^{t}\\right) \\cdot \\frac{ 2 \\cdot \\left( \\left|\\left( 2 \\cdot \\pi \\right)\\right| \\cdot \\left|\\left(\\delta - \\frac{l}{2^{t}}\\right)\\right| \\right) }{\\pi} \\right)\\right) \\Rightarrow \\left(\\left( \\left(2^{t}\\right) \\cdot \\left|\\left(1 - \\left(e^{ i \\cdot \\left( 2 \\cdot \\pi \\cdot \\left(\\delta - \\frac{l}{2^{t}}\\right) \\right) }\\right)\\right)\\right| \\right) \\geq \\left( \\left(2^{t}\\right) \\cdot \\frac{ 2 \\cdot \\left( \\left( 2 \\cdot \\pi \\right) \\cdot \\left|\\left(\\delta - \\frac{l}{2^{t}}\\right)\\right| \\right) }{\\pi} \\right)\\right)\\right)$ \n",
      "                                                              specializing $\\forall_{ P , x , y } \\left(\\left(x = y\\right) \\Rightarrow \\left(P\\left( x \\right) \\Rightarrow P\\left( y \\right)\\right)\\right)$  proven above\n",
      "                                                            hypothesis $\\left|\\left( 2 \\cdot \\pi \\right)\\right| = \\left( 2 \\cdot \\pi \\right)$ \n",
      "                                                              specializing $\\forall_{ a  \\in \\mathbb{R}^+} \\left(\\left|a\\right| = a\\right)$ \n",
      "                                                                by theorem proveit.number.real.absPos\n",
      "                                                              condition $\\left( 2 \\cdot \\pi \\right) \\in \\mathbb{R}^+$ \n",
      "                                                                by theorem proveit.number.real.absTwoPi\n",
      "                                                          hypothesis $\\left( \\left(2^{t}\\right) \\cdot \\left|\\left(1 - \\left(e^{ i \\cdot \\left( 2 \\cdot \\pi \\cdot \\left(\\delta - \\frac{l}{2^{t}}\\right) \\right) }\\right)\\right)\\right| \\right) \\geq \\left( \\left(2^{t}\\right) \\cdot \\frac{ 2 \\cdot \\left( \\left|\\left( 2 \\cdot \\pi \\right)\\right| \\cdot \\left|\\left(\\delta - \\frac{l}{2^{t}}\\right)\\right| \\right) }{\\pi} \\right)$  assuming $l \\neq 0$, $l \\in \\{\\left( \\left(-\\left(2^{t - 1}\\right)\\right) + 1 \\right)\\ldots \\left(2^{t - 1}\\right)\\}$ \n",
      "                                                            implication $\\left(\\left( \\left(2^{t}\\right) \\cdot \\left|\\left(1 - \\left(e^{ i \\cdot \\left( 2 \\cdot \\pi \\cdot \\left(\\delta - \\frac{l}{2^{t}}\\right) \\right) }\\right)\\right)\\right| \\right) \\geq \\left( \\left(2^{t}\\right) \\cdot \\frac{ 2 \\cdot \\left|\\left( \\left( 2 \\cdot \\pi \\right) \\cdot \\left(\\delta - \\frac{l}{2^{t}}\\right) \\right)\\right| }{\\pi} \\right)\\right) \\Rightarrow \\left(\\left( \\left(2^{t}\\right) \\cdot \\left|\\left(1 - \\left(e^{ i \\cdot \\left( 2 \\cdot \\pi \\cdot \\left(\\delta - \\frac{l}{2^{t}}\\right) \\right) }\\right)\\right)\\right| \\right) \\geq \\left( \\left(2^{t}\\right) \\cdot \\frac{ 2 \\cdot \\left( \\left|\\left( 2 \\cdot \\pi \\right)\\right| \\cdot \\left|\\left(\\delta - \\frac{l}{2^{t}}\\right)\\right| \\right) }{\\pi} \\right)\\right)$  assuming $l \\neq 0$, $l \\in \\{\\left( \\left(-\\left(2^{t - 1}\\right)\\right) + 1 \\right)\\ldots \\left(2^{t - 1}\\right)\\}$ \n",
      "                                                              implication $\\left(\\left|\\left( \\left( 2 \\cdot \\pi \\right) \\cdot \\left(\\delta - \\frac{l}{2^{t}}\\right) \\right)\\right| = \\left( \\left|\\left( 2 \\cdot \\pi \\right)\\right| \\cdot \\left|\\left(\\delta - \\frac{l}{2^{t}}\\right)\\right| \\right)\\right) \\Rightarrow \\left(\\left(\\left( \\left(2^{t}\\right) \\cdot \\left|\\left(1 - \\left(e^{ i \\cdot \\left( 2 \\cdot \\pi \\cdot \\left(\\delta - \\frac{l}{2^{t}}\\right) \\right) }\\right)\\right)\\right| \\right) \\geq \\left( \\left(2^{t}\\right) \\cdot \\frac{ 2 \\cdot \\left|\\left( \\left( 2 \\cdot \\pi \\right) \\cdot \\left(\\delta - \\frac{l}{2^{t}}\\right) \\right)\\right| }{\\pi} \\right)\\right) \\Rightarrow \\left(\\left( \\left(2^{t}\\right) \\cdot \\left|\\left(1 - \\left(e^{ i \\cdot \\left( 2 \\cdot \\pi \\cdot \\left(\\delta - \\frac{l}{2^{t}}\\right) \\right) }\\right)\\right)\\right| \\right) \\geq \\left( \\left(2^{t}\\right) \\cdot \\frac{ 2 \\cdot \\left( \\left|\\left( 2 \\cdot \\pi \\right)\\right| \\cdot \\left|\\left(\\delta - \\frac{l}{2^{t}}\\right)\\right| \\right) }{\\pi} \\right)\\right)\\right)$ \n",
      "                                                                specializing $\\forall_{ P , x , y } \\left(\\left(x = y\\right) \\Rightarrow \\left(P\\left( x \\right) \\Rightarrow P\\left( y \\right)\\right)\\right)$  proven above\n",
      "                                                              hypothesis $\\left|\\left( \\left( 2 \\cdot \\pi \\right) \\cdot \\left(\\delta - \\frac{l}{2^{t}}\\right) \\right)\\right| = \\left( \\left|\\left( 2 \\cdot \\pi \\right)\\right| \\cdot \\left|\\left(\\delta - \\frac{l}{2^{t}}\\right)\\right| \\right)$  assuming $l \\neq 0$, $l \\in \\{\\left( \\left(-\\left(2^{t - 1}\\right)\\right) + 1 \\right)\\ldots \\left(2^{t - 1}\\right)\\}$ \n",
      "                                                                specializing $\\forall_{~.., x_{\\Box} ,..~ \\in \\mathbb{C}} \\left(\\left|\\left(~..\\cdot x_{\\Box} \\cdot..~\\right)\\right| = \\left(~..\\cdot \\left|x_{\\Box}\\right| \\cdot..~\\right)\\right)$ \n",
      "                                                                  by theorem proveit.number.complex.absProd\n",
      "                                                                condition $\\left( 2 \\cdot \\pi \\right) \\in \\mathbb{C}$ \n",
      "                                                                  specializing $\\forall_{ a  \\in \\mathbb{R}^+} \\left(a \\in \\mathbb{C}\\right)$  proven above\n",
      "                                                                  condition $\\left( 2 \\cdot \\pi \\right) \\in \\mathbb{R}^+$  proven above\n",
      "                                                                condition $\\left(\\delta - \\frac{l}{2^{t}}\\right) \\in \\mathbb{C}$  assuming $l \\neq 0$, $l \\in \\{\\left( \\left(-\\left(2^{t - 1}\\right)\\right) + 1 \\right)\\ldots \\left(2^{t - 1}\\right)\\}$  proven above\n",
      "                                                            hypothesis $\\left( \\left(2^{t}\\right) \\cdot \\left|\\left(1 - \\left(e^{ i \\cdot \\left( 2 \\cdot \\pi \\cdot \\left(\\delta - \\frac{l}{2^{t}}\\right) \\right) }\\right)\\right)\\right| \\right) \\geq \\left( \\left(2^{t}\\right) \\cdot \\frac{ 2 \\cdot \\left|\\left( \\left( 2 \\cdot \\pi \\right) \\cdot \\left(\\delta - \\frac{l}{2^{t}}\\right) \\right)\\right| }{\\pi} \\right)$  assuming $l \\neq 0$, $l \\in \\{\\left( \\left(-\\left(2^{t - 1}\\right)\\right) + 1 \\right)\\ldots \\left(2^{t - 1}\\right)\\}$ \n",
      "                                                              implication $\\left(\\left( \\left(2^{t}\\right) \\cdot \\left|\\left(1 - \\left(e^{ i \\cdot \\left( 2 \\cdot \\pi \\cdot \\left(\\delta - \\frac{l}{2^{t}}\\right) \\right) }\\right)\\right)\\right| \\right) \\geq \\left( \\left(2^{t}\\right) \\cdot \\frac{ 2 \\cdot \\left|\\left( 2 \\cdot \\pi \\cdot \\left(\\delta - \\frac{l}{2^{t}}\\right) \\right)\\right| }{\\pi} \\right)\\right) \\Rightarrow \\left(\\left( \\left(2^{t}\\right) \\cdot \\left|\\left(1 - \\left(e^{ i \\cdot \\left( 2 \\cdot \\pi \\cdot \\left(\\delta - \\frac{l}{2^{t}}\\right) \\right) }\\right)\\right)\\right| \\right) \\geq \\left( \\left(2^{t}\\right) \\cdot \\frac{ 2 \\cdot \\left|\\left( \\left( 2 \\cdot \\pi \\right) \\cdot \\left(\\delta - \\frac{l}{2^{t}}\\right) \\right)\\right| }{\\pi} \\right)\\right)$ \n",
      "                                                                implication $\\left(\\left( 2 \\cdot \\pi \\cdot \\left(\\delta - \\frac{l}{2^{t}}\\right) \\right) = \\left( \\left( 2 \\cdot \\pi \\right) \\cdot \\left(\\delta - \\frac{l}{2^{t}}\\right) \\right)\\right) \\Rightarrow \\left(\\left(\\left( \\left(2^{t}\\right) \\cdot \\left|\\left(1 - \\left(e^{ i \\cdot \\left( 2 \\cdot \\pi \\cdot \\left(\\delta - \\frac{l}{2^{t}}\\right) \\right) }\\right)\\right)\\right| \\right) \\geq \\left( \\left(2^{t}\\right) \\cdot \\frac{ 2 \\cdot \\left|\\left( 2 \\cdot \\pi \\cdot \\left(\\delta - \\frac{l}{2^{t}}\\right) \\right)\\right| }{\\pi} \\right)\\right) \\Rightarrow \\left(\\left( \\left(2^{t}\\right) \\cdot \\left|\\left(1 - \\left(e^{ i \\cdot \\left( 2 \\cdot \\pi \\cdot \\left(\\delta - \\frac{l}{2^{t}}\\right) \\right) }\\right)\\right)\\right| \\right) \\geq \\left( \\left(2^{t}\\right) \\cdot \\frac{ 2 \\cdot \\left|\\left( \\left( 2 \\cdot \\pi \\right) \\cdot \\left(\\delta - \\frac{l}{2^{t}}\\right) \\right)\\right| }{\\pi} \\right)\\right)\\right)$ \n",
      "                                                                  specializing $\\forall_{ P , x , y } \\left(\\left(x = y\\right) \\Rightarrow \\left(P\\left( x \\right) \\Rightarrow P\\left( y \\right)\\right)\\right)$  proven above\n",
      "                                                                hypothesis $\\left( 2 \\cdot \\pi \\cdot \\left(\\delta - \\frac{l}{2^{t}}\\right) \\right) = \\left( \\left( 2 \\cdot \\pi \\right) \\cdot \\left(\\delta - \\frac{l}{2^{t}}\\right) \\right)$ \n",
      "                                                                  specializing $\\forall_{~.., x_{\\Box} ,..., y_{\\Box} ,..., z_{\\Box} ,..~} \\left(\\left(~..\\cdot x_{\\Box} \\cdot...\\cdot y_{\\Box} \\cdot...\\cdot z_{\\Box} \\cdot..~\\right) = \\left(~..\\cdot x_{\\Box} \\cdot..~\\cdot \\left(~..\\cdot y_{\\Box} \\cdot..~\\right) \\cdot~..\\cdot z_{\\Box} \\cdot..~\\right)\\right)$  proven above\n",
      "                                                              hypothesis $\\left( \\left(2^{t}\\right) \\cdot \\left|\\left(1 - \\left(e^{ i \\cdot \\left( 2 \\cdot \\pi \\cdot \\left(\\delta - \\frac{l}{2^{t}}\\right) \\right) }\\right)\\right)\\right| \\right) \\geq \\left( \\left(2^{t}\\right) \\cdot \\frac{ 2 \\cdot \\left|\\left( 2 \\cdot \\pi \\cdot \\left(\\delta - \\frac{l}{2^{t}}\\right) \\right)\\right| }{\\pi} \\right)$  assuming $l \\neq 0$, $l \\in \\{\\left( \\left(-\\left(2^{t - 1}\\right)\\right) + 1 \\right)\\ldots \\left(2^{t - 1}\\right)\\}$ \n",
      "                                                                implication $\\left(\\left( \\left(2^{t}\\right) \\cdot \\frac{ 2 \\cdot \\left|\\left( 2 \\cdot \\pi \\cdot \\left(\\delta - \\frac{l}{2^{t}}\\right) \\right)\\right| }{\\pi} \\right) \\leq \\left( \\left(2^{t}\\right) \\cdot \\left|\\left(1 - \\left(e^{ i \\cdot \\left( 2 \\cdot \\pi \\cdot \\left(\\delta - \\frac{l}{2^{t}}\\right) \\right) }\\right)\\right)\\right| \\right)\\right) \\Rightarrow \\left(\\left( \\left(2^{t}\\right) \\cdot \\left|\\left(1 - \\left(e^{ i \\cdot \\left( 2 \\cdot \\pi \\cdot \\left(\\delta - \\frac{l}{2^{t}}\\right) \\right) }\\right)\\right)\\right| \\right) \\geq \\left( \\left(2^{t}\\right) \\cdot \\frac{ 2 \\cdot \\left|\\left( 2 \\cdot \\pi \\cdot \\left(\\delta - \\frac{l}{2^{t}}\\right) \\right)\\right| }{\\pi} \\right)\\right)$ \n",
      "                                                                  specializing $\\forall_{ x , y } \\left(\\left(x \\leq y\\right) \\Rightarrow \\left(y \\geq x\\right)\\right)$ \n",
      "                                                                    by axiom proveit.number.reverseLessThanEquals\n",
      "                                                                hypothesis $\\left( \\left(2^{t}\\right) \\cdot \\frac{ 2 \\cdot \\left|\\left( 2 \\cdot \\pi \\cdot \\left(\\delta - \\frac{l}{2^{t}}\\right) \\right)\\right| }{\\pi} \\right) \\leq \\left( \\left(2^{t}\\right) \\cdot \\left|\\left(1 - \\left(e^{ i \\cdot \\left( 2 \\cdot \\pi \\cdot \\left(\\delta - \\frac{l}{2^{t}}\\right) \\right) }\\right)\\right)\\right| \\right)$  assuming $l \\neq 0$, $l \\in \\{\\left( \\left(-\\left(2^{t - 1}\\right)\\right) + 1 \\right)\\ldots \\left(2^{t - 1}\\right)\\}$ \n",
      "                                                                  specializing $\\forall_{ a , b , c  \\in \\mathbb{R}~|~ \\left(a \\leq c\\right) , \\left(b > 0\\right) } \\left(\\left( b \\cdot a \\right) \\leq \\left( b \\cdot c \\right)\\right)$ \n",
      "                                                                    by theorem proveit.number.real.divIneqThm1cor\n",
      "                                                                  condition $\\left(2^{t}\\right) > 0$  proven above\n",
      "                                                                  condition $\\left|\\left(1 - \\left(e^{ i \\cdot \\left( 2 \\cdot \\pi \\cdot \\left(\\delta - \\frac{l}{2^{t}}\\right) \\right) }\\right)\\right)\\right| \\in \\mathbb{R}$  assuming $l \\neq 0$, $l \\in \\{\\left( \\left(-\\left(2^{t - 1}\\right)\\right) + 1 \\right)\\ldots \\left(2^{t - 1}\\right)\\}$ \n",
      "                                                                    specializing $\\forall_{ a  \\in \\mathbb{R}^+} \\left(a \\in \\mathbb{R}\\right)$  proven above\n",
      "                                                                    condition $\\left|\\left(1 - \\left(e^{ i \\cdot \\left( 2 \\cdot \\pi \\cdot \\left(\\delta - \\frac{l}{2^{t}}\\right) \\right) }\\right)\\right)\\right| \\in \\mathbb{R}^+$  assuming $l \\neq 0$, $l \\in \\{\\left( \\left(-\\left(2^{t - 1}\\right)\\right) + 1 \\right)\\ldots \\left(2^{t - 1}\\right)\\}$  proven above\n",
      "                                                                  condition $\\frac{ 2 \\cdot \\left|\\left( 2 \\cdot \\pi \\cdot \\left(\\delta - \\frac{l}{2^{t}}\\right) \\right)\\right| }{\\pi} \\leq \\left|\\left(1 - \\left(e^{ i \\cdot \\left( 2 \\cdot \\pi \\cdot \\left(\\delta - \\frac{l}{2^{t}}\\right) \\right) }\\right)\\right)\\right|$  assuming $l \\neq 0$, $l \\in \\{\\left( \\left(-\\left(2^{t - 1}\\right)\\right) + 1 \\right)\\ldots \\left(2^{t - 1}\\right)\\}$ \n",
      "                                                                    implication $\\left(\\left|\\left(1 - \\left(e^{ i \\cdot \\left( 2 \\cdot \\pi \\cdot \\left(\\delta - \\frac{l}{2^{t}}\\right) \\right) }\\right)\\right)\\right| \\geq \\frac{ 2 \\cdot \\left|\\left( 2 \\cdot \\pi \\cdot \\left(\\delta - \\frac{l}{2^{t}}\\right) \\right)\\right| }{\\pi}\\right) \\Rightarrow \\left(\\frac{ 2 \\cdot \\left|\\left( 2 \\cdot \\pi \\cdot \\left(\\delta - \\frac{l}{2^{t}}\\right) \\right)\\right| }{\\pi} \\leq \\left|\\left(1 - \\left(e^{ i \\cdot \\left( 2 \\cdot \\pi \\cdot \\left(\\delta - \\frac{l}{2^{t}}\\right) \\right) }\\right)\\right)\\right|\\right)$ \n",
      "                                                                      specializing $\\forall_{ x , y } \\left(\\left(x \\geq y\\right) \\Rightarrow \\left(y \\leq x\\right)\\right)$ \n",
      "                                                                        by axiom proveit.number.reverseGreaterThanEquals\n",
      "                                                                    hypothesis $\\left|\\left(1 - \\left(e^{ i \\cdot \\left( 2 \\cdot \\pi \\cdot \\left(\\delta - \\frac{l}{2^{t}}\\right) \\right) }\\right)\\right)\\right| \\geq \\frac{ 2 \\cdot \\left|\\left( 2 \\cdot \\pi \\cdot \\left(\\delta - \\frac{l}{2^{t}}\\right) \\right)\\right| }{\\pi}$  assuming $l \\neq 0$, $l \\in \\{\\left( \\left(-\\left(2^{t - 1}\\right)\\right) + 1 \\right)\\ldots \\left(2^{t - 1}\\right)\\}$ \n",
      "                                                                      specializing $\\forall_{ \\theta  \\in \\left[\\left(-\\pi\\right),\\pi\\right]} \\left(\\left|\\left(1 - \\left(e^{ i \\cdot \\theta }\\right)\\right)\\right| \\geq \\frac{ 2 \\cdot \\left|\\theta\\right| }{\\pi}\\right)$ \n",
      "                                                                        by theorem proveit.trigonometry.boundedUnitModulusDiff\n",
      "                                                                      condition $\\left( 2 \\cdot \\pi \\cdot \\left(\\delta - \\frac{l}{2^{t}}\\right) \\right) \\in \\left[\\left(-\\pi\\right),\\pi\\right]$  assuming $l \\neq 0$, $l \\in \\{\\left( \\left(-\\left(2^{t - 1}\\right)\\right) + 1 \\right)\\ldots \\left(2^{t - 1}\\right)\\}$ \n",
      "                                                                        specializing $\\forall_{ l  \\in \\{\\left( \\left(-\\left(2^{t - 1}\\right)\\right) + 1 \\right)\\ldots \\left(2^{t - 1}\\right)\\}} \\left(\\left( 2 \\cdot \\pi \\cdot \\left(\\delta - \\frac{l}{2^{t}}\\right) \\right) \\in \\left[\\left(-\\pi\\right),\\pi\\right]\\right)$ \n",
      "                                                                          by theorem proveit.physics.quantum.QPE.scaledDeltaDiffInInterval\n",
      "                                                                        condition $l \\in \\{\\left( \\left(-\\left(2^{t - 1}\\right)\\right) + 1 \\right)\\ldots \\left(2^{t - 1}\\right)\\}$  assuming $l \\in \\{\\left( \\left(-\\left(2^{t - 1}\\right)\\right) + 1 \\right)\\ldots \\left(2^{t - 1}\\right)\\}$  proven above\n",
      "                                                                  condition $\\left(2^{t}\\right) \\in \\mathbb{R}$  proven above\n",
      "                                                                  condition $\\frac{ 2 \\cdot \\left|\\left( 2 \\cdot \\pi \\cdot \\left(\\delta - \\frac{l}{2^{t}}\\right) \\right)\\right| }{\\pi} \\in \\mathbb{R}$  assuming $l \\neq 0$, $l \\in \\{\\left( \\left(-\\left(2^{t - 1}\\right)\\right) + 1 \\right)\\ldots \\left(2^{t - 1}\\right)\\}$ \n",
      "                                                                    specializing $\\forall_{ a  \\in \\mathbb{R}^+} \\left(a \\in \\mathbb{R}\\right)$  proven above\n",
      "                                                                    condition $\\frac{ 2 \\cdot \\left|\\left( 2 \\cdot \\pi \\cdot \\left(\\delta - \\frac{l}{2^{t}}\\right) \\right)\\right| }{\\pi} \\in \\mathbb{R}^+$  assuming $l \\neq 0$, $l \\in \\{\\left( \\left(-\\left(2^{t - 1}\\right)\\right) + 1 \\right)\\ldots \\left(2^{t - 1}\\right)\\}$ \n",
      "                                                                      specializing $\\forall_{ a , b  \\in \\mathbb{R}^+~|~ \\left(b \\neq 0\\right) } \\left(\\frac{a}{b} \\in \\mathbb{R}^+\\right)$  proven above\n",
      "                                                                      condition $\\pi \\neq 0$  proven above\n",
      "                                                                      condition $\\left( 2 \\cdot \\left|\\left( 2 \\cdot \\pi \\cdot \\left(\\delta - \\frac{l}{2^{t}}\\right) \\right)\\right| \\right) \\in \\mathbb{R}^+$  assuming $l \\neq 0$, $l \\in \\{\\left( \\left(-\\left(2^{t - 1}\\right)\\right) + 1 \\right)\\ldots \\left(2^{t - 1}\\right)\\}$ \n",
      "                                                                        specializing $\\forall_{~.., x_{\\Box} ,..~ \\in \\mathbb{R}^+} \\left(\\left(~..\\cdot x_{\\Box} \\cdot..~\\right) \\in \\mathbb{R}^+\\right)$  proven above\n",
      "                                                                        condition $\\left|\\left( 2 \\cdot \\pi \\cdot \\left(\\delta - \\frac{l}{2^{t}}\\right) \\right)\\right| \\in \\mathbb{R}^+$  assuming $l \\neq 0$, $l \\in \\{\\left( \\left(-\\left(2^{t - 1}\\right)\\right) + 1 \\right)\\ldots \\left(2^{t - 1}\\right)\\}$ \n",
      "                                                                          specializing $\\forall_{ a  \\in \\mathbb{C}~|~ \\left(a \\neq 0\\right) } \\left(\\left|a\\right| \\in \\mathbb{R}^+\\right)$  proven above\n",
      "                                                                          condition $\\left( 2 \\cdot \\pi \\cdot \\left(\\delta - \\frac{l}{2^{t}}\\right) \\right) \\in \\mathbb{C}$  assuming $l \\neq 0$, $l \\in \\{\\left( \\left(-\\left(2^{t - 1}\\right)\\right) + 1 \\right)\\ldots \\left(2^{t - 1}\\right)\\}$  proven above\n",
      "                                                                          condition $\\left( 2 \\cdot \\pi \\cdot \\left(\\delta - \\frac{l}{2^{t}}\\right) \\right) \\neq 0$  assuming $l \\neq 0$, $l \\in \\{\\left( \\left(-\\left(2^{t - 1}\\right)\\right) + 1 \\right)\\ldots \\left(2^{t - 1}\\right)\\}$ \n",
      "                                                                            specializing $\\forall_{~.., x_{\\Box} ,..~ \\in \\left(\\mathbb{C} - \\{0\\}\\right)} \\left(\\left(~..\\cdot x_{\\Box} \\cdot..~\\right) \\neq 0\\right)$ \n",
      "                                                                              by theorem proveit.number.complex.multNotEqZero\n",
      "                                                                            condition $\\left(\\delta - \\frac{l}{2^{t}}\\right) \\in \\left(\\mathbb{C} - \\{0\\}\\right)$  assuming $l \\neq 0$, $l \\in \\{\\left( \\left(-\\left(2^{t - 1}\\right)\\right) + 1 \\right)\\ldots \\left(2^{t - 1}\\right)\\}$ \n",
      "                                                                              specializing $\\forall_{ a  \\in \\mathbb{C}~|~ \\left(a \\neq 0\\right) } \\left(a \\in \\left(\\mathbb{C} - \\{0\\}\\right)\\right)$ \n",
      "                                                                                by theorem proveit.number.complex.inComplexesSansZero\n",
      "                                                                              condition $\\left(\\delta - \\frac{l}{2^{t}}\\right) \\neq 0$  assuming $l \\neq 0$, $l \\in \\{\\left( \\left(-\\left(2^{t - 1}\\right)\\right) + 1 \\right)\\ldots \\left(2^{t - 1}\\right)\\}$  proven above\n",
      "                                                                              condition $\\left(\\delta - \\frac{l}{2^{t}}\\right) \\in \\mathbb{C}$  assuming $l \\neq 0$, $l \\in \\{\\left( \\left(-\\left(2^{t - 1}\\right)\\right) + 1 \\right)\\ldots \\left(2^{t - 1}\\right)\\}$  proven above\n",
      "                                                                            condition $2 \\in \\left(\\mathbb{C} - \\{0\\}\\right)$ \n",
      "                                                                              specializing $\\forall_{ a  \\in \\mathbb{C}~|~ \\left(a \\neq 0\\right) } \\left(a \\in \\left(\\mathbb{C} - \\{0\\}\\right)\\right)$  proven above\n",
      "                                                                              condition $2 \\neq 0$  proven above\n",
      "                                                                              condition $2 \\in \\mathbb{C}$  proven above\n",
      "                                                                            condition $\\pi \\in \\left(\\mathbb{C} - \\{0\\}\\right)$ \n",
      "                                                                              specializing $\\forall_{ a  \\in \\mathbb{C}~|~ \\left(a \\neq 0\\right) } \\left(a \\in \\left(\\mathbb{C} - \\{0\\}\\right)\\right)$  proven above\n",
      "                                                                              condition $\\pi \\neq 0$  proven above\n",
      "                                                                              condition $\\pi \\in \\mathbb{C}$  proven above\n",
      "                                                                        condition $2 \\in \\mathbb{R}^+$  proven above\n",
      "                                                                      condition $\\pi \\in \\mathbb{R}^+$  proven above\n",
      "                                                  condition $\\left( \\left(2^{t}\\right) \\cdot \\left|\\left(1 - \\left(e^{ i \\cdot \\left( 2 \\cdot \\pi \\cdot \\left(\\delta - \\frac{l}{2^{t}}\\right) \\right) }\\right)\\right)\\right| \\right) > 0$  assuming $l \\neq 0$, $l \\in \\{\\left( \\left(-\\left(2^{t - 1}\\right)\\right) + 1 \\right)\\ldots \\left(2^{t - 1}\\right)\\}$ \n",
      "                                                    implication $\\left(\\left( \\left(2^{t}\\right) \\cdot \\left|\\left(1 - \\left(e^{ i \\cdot \\left( 2 \\cdot \\pi \\cdot \\left(\\delta - \\frac{l}{2^{t}}\\right) \\right) }\\right)\\right)\\right| \\right) \\in \\mathbb{R}^+\\right) \\Rightarrow \\left(\\left( \\left(2^{t}\\right) \\cdot \\left|\\left(1 - \\left(e^{ i \\cdot \\left( 2 \\cdot \\pi \\cdot \\left(\\delta - \\frac{l}{2^{t}}\\right) \\right) }\\right)\\right)\\right| \\right) > 0\\right)$ \n",
      "                                                      hypothetically reasoning $\\left( \\left(2^{t}\\right) \\cdot \\left|\\left(1 - \\left(e^{ i \\cdot \\left( 2 \\cdot \\pi \\cdot \\left(\\delta - \\frac{l}{2^{t}}\\right) \\right) }\\right)\\right)\\right| \\right) > 0$  assuming $\\left( \\left(2^{t}\\right) \\cdot \\left|\\left(1 - \\left(e^{ i \\cdot \\left( 2 \\cdot \\pi \\cdot \\left(\\delta - \\frac{l}{2^{t}}\\right) \\right) }\\right)\\right)\\right| \\right) \\in \\mathbb{R}^+$ \n",
      "                                                        implication $\\left(\\left( \\left(2^{t}\\right) \\cdot \\left|\\left(1 - \\left(e^{ i \\cdot \\left( 2 \\cdot \\pi \\cdot \\left(\\delta - \\frac{l}{2^{t}}\\right) \\right) }\\right)\\right)\\right| \\right) \\in \\mathbb{R}^+\\right) \\Rightarrow \\left(\\left( \\left(2^{t}\\right) \\cdot \\left|\\left(1 - \\left(e^{ i \\cdot \\left( 2 \\cdot \\pi \\cdot \\left(\\delta - \\frac{l}{2^{t}}\\right) \\right) }\\right)\\right)\\right| \\right) > 0\\right)$  assuming $\\left( \\left(2^{t}\\right) \\cdot \\left|\\left(1 - \\left(e^{ i \\cdot \\left( 2 \\cdot \\pi \\cdot \\left(\\delta - \\frac{l}{2^{t}}\\right) \\right) }\\right)\\right)\\right| \\right) \\in \\mathbb{R}^+$ \n",
      "                                                          implication $\\left(\\left(\\left( \\left(2^{t}\\right) \\cdot \\left|\\left(1 - \\left(e^{ i \\cdot \\left( 2 \\cdot \\pi \\cdot \\left(\\delta - \\frac{l}{2^{t}}\\right) \\right) }\\right)\\right)\\right| \\right) \\in \\mathbb{R}^+\\right) \\Leftrightarrow \\left(\\left( \\left(2^{t}\\right) \\cdot \\left|\\left(1 - \\left(e^{ i \\cdot \\left( 2 \\cdot \\pi \\cdot \\left(\\delta - \\frac{l}{2^{t}}\\right) \\right) }\\right)\\right)\\right| \\right) > 0\\right)\\right) \\Rightarrow \\left(\\left(\\left( \\left(2^{t}\\right) \\cdot \\left|\\left(1 - \\left(e^{ i \\cdot \\left( 2 \\cdot \\pi \\cdot \\left(\\delta - \\frac{l}{2^{t}}\\right) \\right) }\\right)\\right)\\right| \\right) \\in \\mathbb{R}^+\\right) \\Rightarrow \\left(\\left( \\left(2^{t}\\right) \\cdot \\left|\\left(1 - \\left(e^{ i \\cdot \\left( 2 \\cdot \\pi \\cdot \\left(\\delta - \\frac{l}{2^{t}}\\right) \\right) }\\right)\\right)\\right| \\right) > 0\\right)\\right)$ \n",
      "                                                            specializing $\\forall_{ A , B } \\left(\\left(A \\Leftrightarrow B\\right) \\Rightarrow \\left(A \\Rightarrow B\\right)\\right)$  proven above\n",
      "                                                          hypothesis $\\left(\\left( \\left(2^{t}\\right) \\cdot \\left|\\left(1 - \\left(e^{ i \\cdot \\left( 2 \\cdot \\pi \\cdot \\left(\\delta - \\frac{l}{2^{t}}\\right) \\right) }\\right)\\right)\\right| \\right) \\in \\mathbb{R}^+\\right) \\Leftrightarrow \\left(\\left( \\left(2^{t}\\right) \\cdot \\left|\\left(1 - \\left(e^{ i \\cdot \\left( 2 \\cdot \\pi \\cdot \\left(\\delta - \\frac{l}{2^{t}}\\right) \\right) }\\right)\\right)\\right| \\right) > 0\\right)$  assuming $\\left( \\left(2^{t}\\right) \\cdot \\left|\\left(1 - \\left(e^{ i \\cdot \\left( 2 \\cdot \\pi \\cdot \\left(\\delta - \\frac{l}{2^{t}}\\right) \\right) }\\right)\\right)\\right| \\right) \\in \\mathbb{R}^+$ \n",
      "                                                            specializing $\\forall_{ a  \\in \\mathbb{R}} \\left(\\left(a \\in \\mathbb{R}^+\\right) \\Leftrightarrow \\left(a > 0\\right)\\right)$  proven above\n",
      "                                                            condition $\\left( \\left(2^{t}\\right) \\cdot \\left|\\left(1 - \\left(e^{ i \\cdot \\left( 2 \\cdot \\pi \\cdot \\left(\\delta - \\frac{l}{2^{t}}\\right) \\right) }\\right)\\right)\\right| \\right) \\in \\mathbb{R}$  assuming $\\left( \\left(2^{t}\\right) \\cdot \\left|\\left(1 - \\left(e^{ i \\cdot \\left( 2 \\cdot \\pi \\cdot \\left(\\delta - \\frac{l}{2^{t}}\\right) \\right) }\\right)\\right)\\right| \\right) \\in \\mathbb{R}^+$ \n",
      "                                                              specializing $\\forall_{ a  \\in \\mathbb{R}^+} \\left(a \\in \\mathbb{R}\\right)$  proven above\n",
      "                                                              condition $\\left( \\left(2^{t}\\right) \\cdot \\left|\\left(1 - \\left(e^{ i \\cdot \\left( 2 \\cdot \\pi \\cdot \\left(\\delta - \\frac{l}{2^{t}}\\right) \\right) }\\right)\\right)\\right| \\right) \\in \\mathbb{R}^+$  assuming $\\left( \\left(2^{t}\\right) \\cdot \\left|\\left(1 - \\left(e^{ i \\cdot \\left( 2 \\cdot \\pi \\cdot \\left(\\delta - \\frac{l}{2^{t}}\\right) \\right) }\\right)\\right)\\right| \\right) \\in \\mathbb{R}^+$ \n",
      "                                                        hypothesis $\\left( \\left(2^{t}\\right) \\cdot \\left|\\left(1 - \\left(e^{ i \\cdot \\left( 2 \\cdot \\pi \\cdot \\left(\\delta - \\frac{l}{2^{t}}\\right) \\right) }\\right)\\right)\\right| \\right) \\in \\mathbb{R}^+$  assuming $\\left( \\left(2^{t}\\right) \\cdot \\left|\\left(1 - \\left(e^{ i \\cdot \\left( 2 \\cdot \\pi \\cdot \\left(\\delta - \\frac{l}{2^{t}}\\right) \\right) }\\right)\\right)\\right| \\right) \\in \\mathbb{R}^+$  proven above\n",
      "                                                    hypothesis $\\left( \\left(2^{t}\\right) \\cdot \\left|\\left(1 - \\left(e^{ i \\cdot \\left( 2 \\cdot \\pi \\cdot \\left(\\delta - \\frac{l}{2^{t}}\\right) \\right) }\\right)\\right)\\right| \\right) \\in \\mathbb{R}^+$  assuming $l \\neq 0$, $l \\in \\{\\left( \\left(-\\left(2^{t - 1}\\right)\\right) + 1 \\right)\\ldots \\left(2^{t - 1}\\right)\\}$  proven above\n",
      "                                                  condition $\\left|\\alpha_{l}\\right| \\geq 0$  assuming $l \\neq 0$, $l \\in \\{\\left( \\left(-\\left(2^{t - 1}\\right)\\right) + 1 \\right)\\ldots \\left(2^{t - 1}\\right)\\}$ \n",
      "                                                    implication $\\left( \\left(\\left|\\alpha_{l}\\right| \\in \\mathbb{R}\\right) \\land \\left(\\left|\\alpha_{l}\\right| \\geq 0\\right) \\right) \\Rightarrow \\left(\\left|\\alpha_{l}\\right| \\geq 0\\right)$ \n",
      "                                                      specializing $\\forall_{~.., A_{\\Box} ,..~, B ,~.., C_{\\Box} ,..~} \\left(\\left(~..\\land A_{\\Box} \\land..~\\land B \\land~..\\land C_{\\Box} \\land..~\\right) \\Rightarrow B\\right)$  proven above\n",
      "                                                    hypothesis $ \\left(\\left|\\alpha_{l}\\right| \\in \\mathbb{R}\\right) \\land \\left(\\left|\\alpha_{l}\\right| \\geq 0\\right) $  assuming $l \\neq 0$, $l \\in \\{\\left( \\left(-\\left(2^{t - 1}\\right)\\right) + 1 \\right)\\ldots \\left(2^{t - 1}\\right)\\}$  proven above\n",
      "                                                  condition $\\left( \\left(2^{t}\\right) \\cdot \\left( 2 \\cdot 2 \\cdot \\left|\\left(\\delta - \\frac{l}{2^{t}}\\right)\\right| \\right) \\right) \\in \\mathbb{R}$  assuming $l \\neq 0$, $l \\in \\{\\left( \\left(-\\left(2^{t - 1}\\right)\\right) + 1 \\right)\\ldots \\left(2^{t - 1}\\right)\\}$ \n",
      "                                                    specializing $\\forall_{ a  \\in \\mathbb{R}^+} \\left(a \\in \\mathbb{R}\\right)$  proven above\n",
      "                                                    condition $\\left( \\left(2^{t}\\right) \\cdot \\left( 2 \\cdot 2 \\cdot \\left|\\left(\\delta - \\frac{l}{2^{t}}\\right)\\right| \\right) \\right) \\in \\mathbb{R}^+$  assuming $l \\neq 0$, $l \\in \\{\\left( \\left(-\\left(2^{t - 1}\\right)\\right) + 1 \\right)\\ldots \\left(2^{t - 1}\\right)\\}$ \n",
      "                                                      specializing $\\forall_{~.., x_{\\Box} ,..~ \\in \\mathbb{R}^+} \\left(\\left(~..\\cdot x_{\\Box} \\cdot..~\\right) \\in \\mathbb{R}^+\\right)$  proven above\n",
      "                                                      condition $\\left( 2 \\cdot 2 \\cdot \\left|\\left(\\delta - \\frac{l}{2^{t}}\\right)\\right| \\right) \\in \\mathbb{R}^+$  assuming $l \\neq 0$, $l \\in \\{\\left( \\left(-\\left(2^{t - 1}\\right)\\right) + 1 \\right)\\ldots \\left(2^{t - 1}\\right)\\}$  proven above\n",
      "                                                      condition $\\left(2^{t}\\right) \\in \\mathbb{R}^+$  proven above\n",
      "                                                  condition $\\left( \\left(2^{t}\\right) \\cdot \\left( 2 \\cdot 2 \\cdot \\left|\\left(\\delta - \\frac{l}{2^{t}}\\right)\\right| \\right) \\right) > 0$  assuming $l \\neq 0$, $l \\in \\{\\left( \\left(-\\left(2^{t - 1}\\right)\\right) + 1 \\right)\\ldots \\left(2^{t - 1}\\right)\\}$ \n",
      "                                                    implication $\\left(\\left( \\left(2^{t}\\right) \\cdot \\left( 2 \\cdot 2 \\cdot \\left|\\left(\\delta - \\frac{l}{2^{t}}\\right)\\right| \\right) \\right) \\in \\mathbb{R}^+\\right) \\Rightarrow \\left(\\left( \\left(2^{t}\\right) \\cdot \\left( 2 \\cdot 2 \\cdot \\left|\\left(\\delta - \\frac{l}{2^{t}}\\right)\\right| \\right) \\right) > 0\\right)$ \n",
      "                                                      hypothetically reasoning $\\left( \\left(2^{t}\\right) \\cdot \\left( 2 \\cdot 2 \\cdot \\left|\\left(\\delta - \\frac{l}{2^{t}}\\right)\\right| \\right) \\right) > 0$  assuming $\\left( \\left(2^{t}\\right) \\cdot \\left( 2 \\cdot 2 \\cdot \\left|\\left(\\delta - \\frac{l}{2^{t}}\\right)\\right| \\right) \\right) \\in \\mathbb{R}^+$ \n",
      "                                                        implication $\\left(\\left( \\left(2^{t}\\right) \\cdot \\left( 2 \\cdot 2 \\cdot \\left|\\left(\\delta - \\frac{l}{2^{t}}\\right)\\right| \\right) \\right) \\in \\mathbb{R}^+\\right) \\Rightarrow \\left(\\left( \\left(2^{t}\\right) \\cdot \\left( 2 \\cdot 2 \\cdot \\left|\\left(\\delta - \\frac{l}{2^{t}}\\right)\\right| \\right) \\right) > 0\\right)$  assuming $\\left( \\left(2^{t}\\right) \\cdot \\left( 2 \\cdot 2 \\cdot \\left|\\left(\\delta - \\frac{l}{2^{t}}\\right)\\right| \\right) \\right) \\in \\mathbb{R}^+$ \n",
      "                                                          implication $\\left(\\left(\\left( \\left(2^{t}\\right) \\cdot \\left( 2 \\cdot 2 \\cdot \\left|\\left(\\delta - \\frac{l}{2^{t}}\\right)\\right| \\right) \\right) \\in \\mathbb{R}^+\\right) \\Leftrightarrow \\left(\\left( \\left(2^{t}\\right) \\cdot \\left( 2 \\cdot 2 \\cdot \\left|\\left(\\delta - \\frac{l}{2^{t}}\\right)\\right| \\right) \\right) > 0\\right)\\right) \\Rightarrow \\left(\\left(\\left( \\left(2^{t}\\right) \\cdot \\left( 2 \\cdot 2 \\cdot \\left|\\left(\\delta - \\frac{l}{2^{t}}\\right)\\right| \\right) \\right) \\in \\mathbb{R}^+\\right) \\Rightarrow \\left(\\left( \\left(2^{t}\\right) \\cdot \\left( 2 \\cdot 2 \\cdot \\left|\\left(\\delta - \\frac{l}{2^{t}}\\right)\\right| \\right) \\right) > 0\\right)\\right)$ \n",
      "                                                            specializing $\\forall_{ A , B } \\left(\\left(A \\Leftrightarrow B\\right) \\Rightarrow \\left(A \\Rightarrow B\\right)\\right)$  proven above\n",
      "                                                          hypothesis $\\left(\\left( \\left(2^{t}\\right) \\cdot \\left( 2 \\cdot 2 \\cdot \\left|\\left(\\delta - \\frac{l}{2^{t}}\\right)\\right| \\right) \\right) \\in \\mathbb{R}^+\\right) \\Leftrightarrow \\left(\\left( \\left(2^{t}\\right) \\cdot \\left( 2 \\cdot 2 \\cdot \\left|\\left(\\delta - \\frac{l}{2^{t}}\\right)\\right| \\right) \\right) > 0\\right)$  assuming $\\left( \\left(2^{t}\\right) \\cdot \\left( 2 \\cdot 2 \\cdot \\left|\\left(\\delta - \\frac{l}{2^{t}}\\right)\\right| \\right) \\right) \\in \\mathbb{R}^+$ \n",
      "                                                            specializing $\\forall_{ a  \\in \\mathbb{R}} \\left(\\left(a \\in \\mathbb{R}^+\\right) \\Leftrightarrow \\left(a > 0\\right)\\right)$  proven above\n",
      "                                                            condition $\\left( \\left(2^{t}\\right) \\cdot \\left( 2 \\cdot 2 \\cdot \\left|\\left(\\delta - \\frac{l}{2^{t}}\\right)\\right| \\right) \\right) \\in \\mathbb{R}$  assuming $\\left( \\left(2^{t}\\right) \\cdot \\left( 2 \\cdot 2 \\cdot \\left|\\left(\\delta - \\frac{l}{2^{t}}\\right)\\right| \\right) \\right) \\in \\mathbb{R}^+$ \n",
      "                                                              specializing $\\forall_{ a  \\in \\mathbb{R}^+} \\left(a \\in \\mathbb{R}\\right)$  proven above\n",
      "                                                              condition $\\left( \\left(2^{t}\\right) \\cdot \\left( 2 \\cdot 2 \\cdot \\left|\\left(\\delta - \\frac{l}{2^{t}}\\right)\\right| \\right) \\right) \\in \\mathbb{R}^+$  assuming $\\left( \\left(2^{t}\\right) \\cdot \\left( 2 \\cdot 2 \\cdot \\left|\\left(\\delta - \\frac{l}{2^{t}}\\right)\\right| \\right) \\right) \\in \\mathbb{R}^+$ \n",
      "                                                        hypothesis $\\left( \\left(2^{t}\\right) \\cdot \\left( 2 \\cdot 2 \\cdot \\left|\\left(\\delta - \\frac{l}{2^{t}}\\right)\\right| \\right) \\right) \\in \\mathbb{R}^+$  assuming $\\left( \\left(2^{t}\\right) \\cdot \\left( 2 \\cdot 2 \\cdot \\left|\\left(\\delta - \\frac{l}{2^{t}}\\right)\\right| \\right) \\right) \\in \\mathbb{R}^+$  proven above\n",
      "                                                    hypothesis $\\left( \\left(2^{t}\\right) \\cdot \\left( 2 \\cdot 2 \\cdot \\left|\\left(\\delta - \\frac{l}{2^{t}}\\right)\\right| \\right) \\right) \\in \\mathbb{R}^+$  assuming $l \\neq 0$, $l \\in \\{\\left( \\left(-\\left(2^{t - 1}\\right)\\right) + 1 \\right)\\ldots \\left(2^{t - 1}\\right)\\}$  proven above\n",
      "proveit.basiclogic.boolean.andImpliesEach\n",
      "proveit.basiclogic.equality.equalsTransitivity\n",
      "proveit.basiclogic.equality.substitution\n",
      "proveit.number.multAssoc\n",
      "proveit.number.reverseGreaterThanEquals\n",
      "proveit.number.reverseLessThanEquals\n",
      "proveit.physics.quantum.QPE.tInNaturalsPos\n",
      "proveit.basiclogic.boolean.iffImpliesRight\n",
      "proveit.basiclogic.equality.lhsSubstitution\n",
      "proveit.basiclogic.equality.notEqualsSymmetry\n",
      "proveit.basiclogic.equality.rhsSubstitution\n",
      "proveit.number.complex.absClosure\n",
      "proveit.number.complex.absPosClosure\n",
      "proveit.number.complex.absProd\n",
      "proveit.number.complex.addOneRightInPowRev\n",
      "proveit.number.complex.diffNotEqZero\n",
      "proveit.number.complex.diffSquareComm\n",
      "proveit.number.complex.distributeThroughSubtract\n",
      "proveit.number.complex.distributeThroughSum\n",
      "proveit.number.complex.expOne\n",
      "proveit.number.complex.fracCancel2\n",
      "proveit.number.complex.fracCancel3\n",
      "proveit.number.complex.fracCancel4\n",
      "proveit.number.complex.fracIntExpRev\n",
      "proveit.number.complex.inComplexesSansZero\n",
      "proveit.number.complex.intPowOfPow\n",
      "proveit.number.complex.multClosure\n",
      "proveit.number.complex.multComm\n",
      "proveit.number.complex.multNotEqZero\n",
      "proveit.number.complex.multOne\n",
      "proveit.number.complex.natsPosPowOfProd\n",
      "proveit.number.complex.natsPosPowOfProdRev\n",
      "proveit.number.complex.powClosure\n",
      "proveit.number.complex.squarePosIneq\n",
      "proveit.number.complex.subtractClosure\n",
      "proveit.number.complex.sumInPow\n",
      "proveit.number.integer.addClosure\n",
      "proveit.number.integer.allInDiscreteInterval_InInts\n",
      "proveit.number.integer.inComplexes\n",
      "proveit.number.integer.inReals\n",
      "proveit.number.integer.negClosure\n",
      "proveit.number.multAssocRev\n",
      "proveit.number.natural.inNatPos_inComplexes\n",
      "proveit.number.natural.inNatPos_inIntegers\n",
      "proveit.number.natural.inNatPos_inNaturals\n",
      "proveit.number.natural.inNatPos_inReals\n",
      "proveit.number.natural.inNatPos_inRealsPos\n",
      "proveit.number.natural.powClosure\n",
      "proveit.number.natural.sumInNatsPos\n",
      "proveit.number.natural.twoInNaturalsPos\n",
      "proveit.number.natural.twoSquared\n",
      "proveit.number.real.absPos\n",
      "proveit.number.real.absTwoPi\n",
      "proveit.number.real.divIneqThm1\n",
      "proveit.number.real.divIneqThm1cor\n",
      "proveit.number.real.eInRealsPos\n",
      "proveit.number.real.fractionClosure\n",
      "proveit.number.real.fractionPosClosure\n",
      "proveit.number.real.inComplexes\n",
      "proveit.number.real.inRealsPos_iff_positive\n",
      "proveit.number.real.inRealsPos_inComplexes\n",
      "proveit.number.real.inRealsPos_inReals\n",
      "proveit.number.real.ineqThm10a\n",
      "proveit.number.real.ineqThm9\n",
      "proveit.number.real.multClosure\n",
      "proveit.number.real.multPosClosure\n",
      "proveit.number.real.positive_implies_notzero\n",
      "proveit.number.real.sqrdClosure\n",
      "proveit.number.real.squarePosEq\n",
      "proveit.number.real.subtractClosure\n",
      "proveit.physics.quantum.QPE.all_abs_alpha_l_nonneg\n",
      "proveit.physics.quantum.QPE.all_alpha_l_in_complexes\n",
      "proveit.physics.quantum.QPE.alpha_l_summed_abs\n",
      "proveit.physics.quantum.QPE.deltaInReals\n",
      "proveit.physics.quantum.QPE.delta_notEq_scaledNonzeroInt\n",
      "proveit.physics.quantum.QPE.nonIntDeltaDiff\n",
      "proveit.physics.quantum.QPE.scaledDeltaDiffInInterval\n",
      "proveit.physics.quantum.QPE.two_pow_tMinusOne_in_posnats\n",
      "proveit.trigonometry.boundedUnitModulusDiff\n",
      "proveit.trigonometry.exp_2pi_i_nonInt\n",
      "Number of used axioms: 7\n",
      "Number of used theorms: 73\n",
      "Number of derivation tree nodes: 441\n"
     ]
    },
    {
     "data": {
      "text/plain": [
       "$\\forall_{ l  \\in \\{\\left( \\left(-\\left(2^{t - 1}\\right)\\right) + 1 \\right)\\ldots \\left(2^{t - 1}\\right)\\}~|~ \\left(l \\neq 0\\right) } \\left(\\left(\\left|\\alpha_{l}\\right|^{2}\\right) \\leq \\frac{1}{ 4 \\cdot \\left(\\left(l - \\left( \\left(2^{t}\\right) \\cdot \\delta \\right)\\right)^{2}\\right) }\\right)$"
      ]
     },
     "execution_count": 77,
     "metadata": {},
     "output_type": "execute_result"
    }
   ],
   "source": [
    "X44.generalize(l,domain=domain,conditions=[NotEquals(l, zero)]).qed()"
   ]
  },
  {
   "cell_type": "code",
   "execution_count": null,
   "metadata": {
    "collapsed": true
   },
   "outputs": [],
   "source": []
  },
  {
   "cell_type": "code",
   "execution_count": null,
   "metadata": {
    "collapsed": true
   },
   "outputs": [],
   "source": []
  }
 ],
 "metadata": {
  "kernelspec": {
   "display_name": "Python 3",
   "language": "python",
   "name": "python3"
  },
  "language_info": {
   "codemirror_mode": {
    "name": "ipython",
    "version": 3
   },
   "file_extension": ".py",
   "mimetype": "text/x-python",
   "name": "python",
   "nbconvert_exporter": "python",
   "pygments_lexer": "ipython3"
  }
 },
 "nbformat": 4,
 "nbformat_minor": 0
}
