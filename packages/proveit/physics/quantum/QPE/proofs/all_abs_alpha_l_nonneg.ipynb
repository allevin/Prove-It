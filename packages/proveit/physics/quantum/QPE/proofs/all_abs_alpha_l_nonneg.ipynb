{
 "cells": [
  {
   "cell_type": "code",
   "execution_count": 24,
   "metadata": {
    "collapsed": false
   },
   "outputs": [],
   "source": [
    "from proveit.basiclogic import In, compose\n",
    "from proveit.physics.quantum.QPE.theorems import all_abs_alpha_l_nonneg, all_alpha_l_in_complexes\n",
    "from proveit.physics.quantum.QPE.common import l, alpha_l\n",
    "from proveit.common import a\n",
    "from proveit.number import Abs, Exponentiate\n",
    "from proveit.number.common import two\n",
    "from proveit.number.complex.theorems import absIsNonNeg\n",
    "from proveit.number.numberSets import Integers, Reals, deduceInReals"
   ]
  },
  {
   "cell_type": "code",
   "execution_count": 25,
   "metadata": {
    "collapsed": false
   },
   "outputs": [
    {
     "data": {
      "text/latex": [
       "$\\forall_{l \\in \\mathbb{Z}} \\left(\\left(\\left|\\alpha_{l}\\right| \\in \\mathbb{R}\\right) \\land \\left(\\left|\\alpha_{l}\\right| \\geq 0\\right)\\right)$"
      ],
      "text/plain": [
       "$\\forall_{l \\in \\mathbb{Z}} \\left(\\left(\\left|\\alpha_{l}\\right| \\in \\mathbb{R}\\right) \\land \\left(\\left|\\alpha_{l}\\right| \\geq 0\\right)\\right)$"
      ]
     },
     "execution_count": 25,
     "metadata": {},
     "output_type": "execute_result"
    }
   ],
   "source": [
    "all_abs_alpha_l_nonneg.beginProof()"
   ]
  },
  {
   "cell_type": "code",
   "execution_count": 26,
   "metadata": {
    "collapsed": true
   },
   "outputs": [],
   "source": [
    "lInInts = In(l, Integers)"
   ]
  },
  {
   "cell_type": "code",
   "execution_count": 27,
   "metadata": {
    "collapsed": false
   },
   "outputs": [
    {
     "data": {
      "text/latex": [
       "$\\forall_{l \\in \\mathbb{Z}} \\left(\\alpha_{l} \\in \\mathbb{C}\\right)$"
      ],
      "text/plain": [
       "$\\forall_{l \\in \\mathbb{Z}} \\left(\\alpha_{l} \\in \\mathbb{C}\\right)$"
      ]
     },
     "execution_count": 27,
     "metadata": {},
     "output_type": "execute_result"
    }
   ],
   "source": [
    "all_alpha_l_in_complexes"
   ]
  },
  {
   "cell_type": "code",
   "execution_count": 28,
   "metadata": {
    "collapsed": false
   },
   "outputs": [
    {
     "data": {
      "text/latex": [
       "$\\alpha_{l} \\in \\mathbb{C}$"
      ],
      "text/plain": [
       "$\\alpha_{l} \\in \\mathbb{C}$"
      ]
     },
     "execution_count": 28,
     "metadata": {},
     "output_type": "execute_result"
    }
   ],
   "source": [
    "all_alpha_l_in_complexes.specialize().proven({lInInts})"
   ]
  },
  {
   "cell_type": "code",
   "execution_count": 32,
   "metadata": {
    "collapsed": false
   },
   "outputs": [
    {
     "data": {
      "text/latex": [
       "$\\left|\\alpha_{l}\\right| \\in \\mathbb{R}$"
      ],
      "text/plain": [
       "$\\left|\\alpha_{l}\\right| \\in \\mathbb{R}$"
      ]
     },
     "execution_count": 32,
     "metadata": {},
     "output_type": "execute_result"
    }
   ],
   "source": [
    "abs_alpha_l_in_reals = deduceInReals(Abs(alpha_l), {lInInts}).proven({lInInts})\n",
    "abs_alpha_l_in_reals"
   ]
  },
  {
   "cell_type": "code",
   "execution_count": 30,
   "metadata": {
    "collapsed": false
   },
   "outputs": [
    {
     "data": {
      "text/latex": [
       "$\\forall_{a \\in \\mathbb{C}} \\left(\\left|a\\right| \\geq 0\\right)$"
      ],
      "text/plain": [
       "$\\forall_{a \\in \\mathbb{C}} \\left(\\left|a\\right| \\geq 0\\right)$"
      ]
     },
     "execution_count": 30,
     "metadata": {},
     "output_type": "execute_result"
    }
   ],
   "source": [
    "absIsNonNeg"
   ]
  },
  {
   "cell_type": "code",
   "execution_count": 34,
   "metadata": {
    "collapsed": false
   },
   "outputs": [
    {
     "data": {
      "text/latex": [
       "$\\left|\\alpha_{l}\\right| \\geq 0$"
      ],
      "text/plain": [
       "$\\left|\\alpha_{l}\\right| \\geq 0$"
      ]
     },
     "execution_count": 34,
     "metadata": {},
     "output_type": "execute_result"
    }
   ],
   "source": [
    "abs_alpha_l_in_nonneg = absIsNonNeg.specialize({a:alpha_l})\n",
    "abs_alpha_l_in_nonneg"
   ]
  },
  {
   "cell_type": "code",
   "execution_count": 36,
   "metadata": {
    "collapsed": false
   },
   "outputs": [
    {
     "name": "stdout",
     "output_type": "stream",
     "text": [
      "root forall_{l in Integers} ((|alpha_{l}| in Reals) and (|alpha_{l}| >= 0)) \n",
      "  generalizing (|alpha_{l}| in Reals) and (|alpha_{l}| >= 0)  assuming l in Integers \n",
      "    specializing forall_{A, B | A, B} (A and B) \n",
      "      by theorem proveit.basiclogic.boolean.conjunctionIntro\n",
      "    condition |alpha_{l}| in Reals  assuming l in Integers \n",
      "      specializing forall_{a in Complexes} (|a| in Reals) \n",
      "        by theorem proveit.number.complex.absClosure\n",
      "      condition alpha_{l} in Complexes  assuming l in Integers \n",
      "        specializing forall_{l in Integers} (alpha_{l} in Complexes) \n",
      "          by theorem proveit.physics.quantum.QPE.all_alpha_l_in_complexes\n",
      "        condition l in Integers  assuming l in Integers \n",
      "    condition |alpha_{l}| >= 0  assuming l in Integers \n",
      "      specializing forall_{a in Complexes} (|a| >= 0) \n",
      "        by theorem proveit.number.complex.absIsNonNeg\n",
      "      condition alpha_{l} in Complexes  assuming l in Integers  proven above\n",
      "proveit.basiclogic.boolean.conjunctionIntro\n",
      "proveit.number.complex.absClosure\n",
      "proveit.number.complex.absIsNonNeg\n",
      "proveit.physics.quantum.QPE.all_alpha_l_in_complexes\n",
      "Number of used axioms: 0\n",
      "Number of used theorms: 4\n",
      "Number of derivation tree nodes: 10\n"
     ]
    },
    {
     "data": {
      "text/latex": [
       "$\\forall_{l \\in \\mathbb{Z}} \\left(\\left(\\left|\\alpha_{l}\\right| \\in \\mathbb{R}\\right) \\land \\left(\\left|\\alpha_{l}\\right| \\geq 0\\right)\\right)$"
      ],
      "text/plain": [
       "$\\forall_{l \\in \\mathbb{Z}} \\left(\\left(\\left|\\alpha_{l}\\right| \\in \\mathbb{R}\\right) \\land \\left(\\left|\\alpha_{l}\\right| \\geq 0\\right)\\right)$"
      ]
     },
     "execution_count": 36,
     "metadata": {},
     "output_type": "execute_result"
    }
   ],
   "source": [
    "compose(abs_alpha_l_in_reals, abs_alpha_l_in_nonneg).generalize(l, domain=Integers).qed()"
   ]
  },
  {
   "cell_type": "code",
   "execution_count": null,
   "metadata": {
    "collapsed": true
   },
   "outputs": [],
   "source": []
  }
 ],
 "metadata": {
  "kernelspec": {
   "display_name": "Python 3",
   "language": "python",
   "name": "python3"
  },
  "language_info": {
   "codemirror_mode": {
    "name": "ipython",
    "version": 3
   },
   "file_extension": ".py",
   "mimetype": "text/x-python",
   "name": "python",
   "nbconvert_exporter": "python",
   "pygments_lexer": "ipython3"
  }
 },
 "nbformat": 4,
 "nbformat_minor": 0
}
