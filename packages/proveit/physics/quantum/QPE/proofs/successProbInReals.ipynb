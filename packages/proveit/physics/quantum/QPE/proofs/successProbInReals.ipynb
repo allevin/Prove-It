{
 "cells": [
  {
   "cell_type": "code",
   "execution_count": 1,
   "metadata": {
    "collapsed": false
   },
   "outputs": [],
   "source": [
    "from proveit.physics.quantum.QPE.theorems import successProbInReals\n",
    "from proveit.physics.quantum.QPE.axioms import successDef\n",
    "from proveit.number.numberSets import NaturalsPos\n",
    "from proveit.common import eps\n",
    "from proveit.basiclogic import In"
   ]
  },
  {
   "cell_type": "code",
   "execution_count": 2,
   "metadata": {
    "collapsed": false
   },
   "outputs": [
    {
     "data": {
      "text/latex": [
       "$\\forall_{ \\varepsilon  \\in \\mathbb{N}^+} \\left(P_{\\rm success}\\left( \\varepsilon \\right) \\in \\mathbb{R}\\right)$"
      ],
      "text/plain": [
       "$\\forall_{ \\varepsilon  \\in \\mathbb{N}^+} \\left(P_{\\rm success}\\left( \\varepsilon \\right) \\in \\mathbb{R}\\right)$"
      ]
     },
     "execution_count": 2,
     "metadata": {},
     "output_type": "execute_result"
    }
   ],
   "source": [
    "successProbInReals.beginProof()"
   ]
  },
  {
   "cell_type": "code",
   "execution_count": 3,
   "metadata": {
    "collapsed": false
   },
   "outputs": [
    {
     "data": {
      "text/latex": [
       "$\\forall_{ \\varepsilon  \\in \\mathbb{N}^+} \\left(P_{\\rm success}\\left( \\varepsilon \\right) = Pr_{m}[\\left|\\left(m - b\\right)\\right|_{{\\rm mod}~2^{t}} \\leq \\varepsilon]\\right)$"
      ],
      "text/plain": [
       "$\\forall_{ \\varepsilon  \\in \\mathbb{N}^+} \\left(P_{\\rm success}\\left( \\varepsilon \\right) = Pr_{m}[\\left|\\left(m - b\\right)\\right|_{{\\rm mod}~2^{t}} \\leq \\varepsilon]\\right)$"
      ]
     },
     "execution_count": 3,
     "metadata": {},
     "output_type": "execute_result"
    }
   ],
   "source": [
    "successDef"
   ]
  },
  {
   "cell_type": "code",
   "execution_count": 4,
   "metadata": {
    "collapsed": false
   },
   "outputs": [
    {
     "data": {
      "text/latex": [
       "$\\varepsilon \\in \\mathbb{N}^+$"
      ],
      "text/plain": [
       "$\\varepsilon \\in \\mathbb{N}^+$"
      ]
     },
     "execution_count": 4,
     "metadata": {},
     "output_type": "execute_result"
    }
   ],
   "source": [
    "epsInNatsPos = In(eps, NaturalsPos)\n",
    "epsInNatsPos"
   ]
  },
  {
   "cell_type": "code",
   "execution_count": 5,
   "metadata": {
    "collapsed": false
   },
   "outputs": [
    {
     "data": {
      "text/latex": [
       "$P_{\\rm success}\\left( \\varepsilon \\right) = Pr_{m}[\\left|\\left(m - b\\right)\\right|_{{\\rm mod}~2^{t}} \\leq \\varepsilon]$"
      ],
      "text/plain": [
       "$P_{\\rm success}\\left( \\varepsilon \\right) = Pr_{m}[\\left|\\left(m - b\\right)\\right|_{{\\rm mod}~2^{t}} \\leq \\varepsilon]$"
      ]
     },
     "execution_count": 5,
     "metadata": {},
     "output_type": "execute_result"
    }
   ],
   "source": [
    "successDefSpec = successDef.specialize()\n",
    "successDefSpec.proven({epsInNatsPos})"
   ]
  },
  {
   "cell_type": "code",
   "execution_count": 6,
   "metadata": {
    "collapsed": false
   },
   "outputs": [
    {
     "data": {
      "text/latex": [
       "$Pr_{m}[\\left|\\left(m - b\\right)\\right|_{{\\rm mod}~2^{t}} \\leq \\varepsilon] \\in \\mathbb{R}$"
      ],
      "text/plain": [
       "$Pr_{m}[\\left|\\left(m - b\\right)\\right|_{{\\rm mod}~2^{t}} \\leq \\varepsilon] \\in \\mathbb{R}$"
      ]
     },
     "execution_count": 6,
     "metadata": {},
     "output_type": "execute_result"
    }
   ],
   "source": [
    "rhsInReals = successDefSpec.rhs.deduceInReals()\n",
    "rhsInReals.proven()"
   ]
  },
  {
   "cell_type": "code",
   "execution_count": 7,
   "metadata": {
    "collapsed": false
   },
   "outputs": [
    {
     "name": "stdout",
     "output_type": "stream",
     "text": [
      "root $\\forall_{ \\varepsilon  \\in \\mathbb{N}^+} \\left(P_{\\rm success}\\left( \\varepsilon \\right) \\in \\mathbb{R}\\right)$ \n",
      "  generalizing $P_{\\rm success}\\left( \\varepsilon \\right) \\in \\mathbb{R}$  assuming $\\varepsilon \\in \\mathbb{N}^+$ \n",
      "    implication $\\left(Pr_{m}[\\left|\\left(m - b\\right)\\right|_{{\\rm mod}~2^{t}} \\leq \\varepsilon] \\in \\mathbb{R}\\right) \\Rightarrow \\left(P_{\\rm success}\\left( \\varepsilon \\right) \\in \\mathbb{R}\\right)$  assuming $\\varepsilon \\in \\mathbb{N}^+$ \n",
      "      implication $\\left(P_{\\rm success}\\left( \\varepsilon \\right) = Pr_{m}[\\left|\\left(m - b\\right)\\right|_{{\\rm mod}~2^{t}} \\leq \\varepsilon]\\right) \\Rightarrow \\left(\\left(Pr_{m}[\\left|\\left(m - b\\right)\\right|_{{\\rm mod}~2^{t}} \\leq \\varepsilon] \\in \\mathbb{R}\\right) \\Rightarrow \\left(P_{\\rm success}\\left( \\varepsilon \\right) \\in \\mathbb{R}\\right)\\right)$ \n",
      "        specializing $\\forall_{ P , x , y } \\left(\\left(x = y\\right) \\Rightarrow \\left(P\\left( y \\right) \\Rightarrow P\\left( x \\right)\\right)\\right)$ \n",
      "          by theorem proveit.basiclogic.equality.lhsSubstitution\n",
      "      hypothesis $P_{\\rm success}\\left( \\varepsilon \\right) = Pr_{m}[\\left|\\left(m - b\\right)\\right|_{{\\rm mod}~2^{t}} \\leq \\varepsilon]$  assuming $\\varepsilon \\in \\mathbb{N}^+$ \n",
      "        specializing $\\forall_{ \\varepsilon  \\in \\mathbb{N}^+} \\left(P_{\\rm success}\\left( \\varepsilon \\right) = Pr_{m}[\\left|\\left(m - b\\right)\\right|_{{\\rm mod}~2^{t}} \\leq \\varepsilon]\\right)$ \n",
      "          by axiom proveit.physics.quantum.QPE.successDef\n",
      "        condition $\\varepsilon \\in \\mathbb{N}^+$  assuming $\\varepsilon \\in \\mathbb{N}^+$ \n",
      "    hypothesis $Pr_{m}[\\left|\\left(m - b\\right)\\right|_{{\\rm mod}~2^{t}} \\leq \\varepsilon] \\in \\mathbb{R}$ \n",
      "      specializing $\\forall_{ x , X } \\left(Pr_{x}[X] \\in \\mathbb{R}\\right)$ \n",
      "        by theorem proveit.statistics.probInReals\n",
      "proveit.physics.quantum.QPE.successDef\n",
      "proveit.basiclogic.equality.lhsSubstitution\n",
      "proveit.statistics.probInReals\n",
      "Number of used axioms: 1\n",
      "Number of used theorms: 2\n",
      "Number of derivation tree nodes: 10\n"
     ]
    },
    {
     "data": {
      "text/latex": [
       "$\\forall_{ \\varepsilon  \\in \\mathbb{N}^+} \\left(P_{\\rm success}\\left( \\varepsilon \\right) \\in \\mathbb{R}\\right)$"
      ],
      "text/plain": [
       "$\\forall_{ \\varepsilon  \\in \\mathbb{N}^+} \\left(P_{\\rm success}\\left( \\varepsilon \\right) \\in \\mathbb{R}\\right)$"
      ]
     },
     "execution_count": 7,
     "metadata": {},
     "output_type": "execute_result"
    }
   ],
   "source": [
    "successDefSpec.subLeftSideInto(rhsInReals).generalize(eps, domain=NaturalsPos).qed()"
   ]
  },
  {
   "cell_type": "code",
   "execution_count": null,
   "metadata": {
    "collapsed": true
   },
   "outputs": [],
   "source": []
  }
 ],
 "metadata": {
  "kernelspec": {
   "display_name": "Python 3",
   "language": "python",
   "name": "python3"
  },
  "language_info": {
   "codemirror_mode": {
    "name": "ipython",
    "version": 3
   },
   "file_extension": ".py",
   "mimetype": "text/x-python",
   "name": "python",
   "nbconvert_exporter": "python",
   "pygments_lexer": "ipython3"
  }
 },
 "nbformat": 4,
 "nbformat_minor": 0
}
