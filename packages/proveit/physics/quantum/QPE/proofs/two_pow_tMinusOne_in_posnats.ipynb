{
 "cells": [
  {
   "cell_type": "code",
   "execution_count": 2,
   "metadata": {
    "collapsed": false
   },
   "outputs": [],
   "source": [
    "from proveit.physics.quantum.QPE.axioms import tInNaturalsPos\n",
    "from proveit.physics.quantum.QPE.theorems import two_pow_tMinusOne_in_posnats\n",
    "from proveit.physics.quantum.QPE.common import t_\n",
    "from proveit.number.common import one, two\n",
    "from proveit.number.numberSets import NaturalsPos, deduceInNaturalsPos\n",
    "from proveit.basiclogic import In\n",
    "from proveit.number import Exponentiate, Subtract"
   ]
  },
  {
   "cell_type": "code",
   "execution_count": 3,
   "metadata": {
    "collapsed": false
   },
   "outputs": [
    {
     "data": {
      "text/latex": [
       "$2^{t - 1} \\in \\mathbb{N}^+$"
      ],
      "text/plain": [
       "$2^{t - 1} \\in \\mathbb{N}^+$"
      ]
     },
     "execution_count": 3,
     "metadata": {},
     "output_type": "execute_result"
    }
   ],
   "source": [
    "two_pow_tMinusOne_in_posnats.beginProof()"
   ]
  },
  {
   "cell_type": "code",
   "execution_count": 4,
   "metadata": {
    "collapsed": false
   },
   "outputs": [
    {
     "name": "stdout",
     "output_type": "stream",
     "text": [
      "root 2^(t - 1) in NaturalsPos \n",
      "  specializing forall_{a, b in Naturals | a != 0} (a^(b) in NaturalsPos) \n",
      "    by theorem proveit.number.natural.powClosure\n",
      "  condition 2 != 0 \n",
      "    specializing forall_{a in Reals | a > 0} (a != 0) \n",
      "      by theorem proveit.number.real.positive_implies_notzero\n",
      "    condition 2 > 0 \n",
      "      implication (2 in RealsPos) => (2 > 0) \n",
      "        implication ((2 in RealsPos) <=> (2 > 0)) => ((2 in RealsPos) => (2 > 0)) \n",
      "          specializing forall_{A, B} ((A <=> B) => (A => B)) \n",
      "            by theorem proveit.basiclogic.boolean.iffImpliesRight\n",
      "        hypothesis (2 in RealsPos) <=> (2 > 0) \n",
      "          specializing forall_{a in Reals} ((a in RealsPos) <=> (a > 0)) \n",
      "            by theorem proveit.number.real.inRealsPos_iff_positive\n",
      "          condition 2 in Reals \n",
      "            specializing forall_{a in NaturalsPos} (a in Reals) \n",
      "              by theorem proveit.number.natural.inNatPos_inReals\n",
      "            condition 2 in NaturalsPos \n",
      "      hypothesis 2 in RealsPos \n",
      "        specializing forall_{a in NaturalsPos} (a in RealsPos) \n",
      "          by theorem proveit.number.natural.inNatPos_inRealsPos\n",
      "        condition 2 in NaturalsPos  proven above\n",
      "    condition 2 in Reals  proven above\n",
      "  condition 2 in Naturals \n",
      "    specializing forall_{a in NaturalsPos} (a in Naturals) \n",
      "      by theorem proveit.number.natural.inNatPos_inNaturals\n",
      "    condition 2 in NaturalsPos  proven above\n",
      "  condition (t - 1) in Naturals \n",
      "    specializing forall_{a, b in Integers | a >= b} ((a - b) in Naturals) \n",
      "      by theorem proveit.number.integer.subtractClosureNats\n",
      "    condition 1 in Integers \n",
      "      specializing forall_{a in NaturalsPos} (a in Integers) \n",
      "        by theorem proveit.number.natural.inNatPos_inIntegers\n",
      "      condition 1 in NaturalsPos \n",
      "        by theorem proveit.number.natural.oneInNaturalsPos\n",
      "    condition t in Integers \n",
      "      specializing forall_{a in NaturalsPos} (a in Integers)  proven above\n",
      "      condition t in NaturalsPos \n",
      "        by axiom proveit.physics.quantum.QPE.tInNaturalsPos\n",
      "    condition t >= 1 \n",
      "      specializing forall_{n in NaturalsPos} (n >= 1) \n",
      "        by theorem proveit.number.natural.naturalsPosLowerBound\n",
      "      condition t in NaturalsPos  proven above\n",
      "proveit.physics.quantum.QPE.tInNaturalsPos\n",
      "proveit.basiclogic.boolean.iffImpliesRight\n",
      "proveit.number.integer.subtractClosureNats\n",
      "proveit.number.natural.inNatPos_inIntegers\n",
      "proveit.number.natural.inNatPos_inNaturals\n",
      "proveit.number.natural.inNatPos_inReals\n",
      "proveit.number.natural.inNatPos_inRealsPos\n",
      "proveit.number.natural.naturalsPosLowerBound\n",
      "proveit.number.natural.oneInNaturalsPos\n",
      "proveit.number.natural.powClosure\n",
      "proveit.number.real.inRealsPos_iff_positive\n",
      "proveit.number.real.positive_implies_notzero\n",
      "Number of used axioms: 1\n",
      "Number of used theorms: 11\n",
      "Number of derivation tree nodes: 26\n"
     ]
    },
    {
     "data": {
      "text/latex": [
       "$2^{t - 1} \\in \\mathbb{N}^+$"
      ],
      "text/plain": [
       "$2^{t - 1} \\in \\mathbb{N}^+$"
      ]
     },
     "execution_count": 4,
     "metadata": {},
     "output_type": "execute_result"
    }
   ],
   "source": [
    "deduceInNaturalsPos(Exponentiate(two, Subtract(t_, one))).qed()"
   ]
  },
  {
   "cell_type": "code",
   "execution_count": null,
   "metadata": {
    "collapsed": true
   },
   "outputs": [],
   "source": []
  }
 ],
 "metadata": {
  "kernelspec": {
   "display_name": "Python 3",
   "language": "python",
   "name": "python3"
  },
  "language_info": {
   "codemirror_mode": {
    "name": "ipython",
    "version": 3
   },
   "file_extension": ".py",
   "mimetype": "text/x-python",
   "name": "python",
   "nbconvert_exporter": "python",
   "pygments_lexer": "ipython3"
  }
 },
 "nbformat": 4,
 "nbformat_minor": 0
}
