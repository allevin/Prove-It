{
 "cells": [
  {
   "cell_type": "code",
   "execution_count": 1,
   "metadata": {
    "collapsed": false
   },
   "outputs": [],
   "source": [
    "from proveit.basiclogic import autoSubstitute, autoSubstitution, In, Equation, And, compose\n",
    "from proveit.number.arithmeticOps import *\n",
    "from proveit.common import a, b, k, l, r, x, eps\n",
    "from proveit.number import Exponentiate, Add, Subtract, Multiply, Abs\n",
    "from proveit.number.common import *\n",
    "from proveit.physics.quantum.QPE.axioms import tInNaturalsPos, modAddDef\n",
    "from proveit.physics.quantum.QPE.theorems import fail_ineq, posDomainInFullDomain, negDomainInFullDomain, \\\n",
    "    two_pow_tMinusOne_in_posnats, phaseInReals, all_alpha_l_in_complexes, all_abs_alpha_l_nonneg, deltaInReals, scaledDeltaInInterval, \\\n",
    "    scaledDelta_notEq_nonzeroInt, alpha_l_sqrd_ineq, fail_sum\n",
    "from proveit.physics.quantum.QPE.common import alpha_l, alpha_l_sqrd, t_, delta_, two_pow_t_minus_one, \\\n",
    "    fullDomain, negDomain, posDomain, epsDomain\n",
    "from proveit.physics.quantum.QPE.phaseEstOps import Psuccess, Pfail, ModAdd\n",
    "from proveit.number.complex.theorems import cancelSubAndAdd, negNeg, cancelAddNeg, addNegAsSubtract, \\\n",
    "    subTwoAddOne, addTwice\n",
    "from proveit.number.natural.axioms import oneAddOne\n",
    "from proveit.number.integer.theorems import sumIneq1, indexShift, sumEq, evenFuncSum, sumIntegrateIneq1\n",
    "from proveit.number.relation import Relation\n",
    "from proveit.number.real.theorems import sumFactor_temp, sumIneq2, ineqThm5, ineqThm6a, ineqThm7a, ineqThm8a, \\\n",
    "    simplifyQuarterTimesTwo, boundedInvSqrdIntegral, inverseSqrdIsEvenFunc, inverseSqrdIsMonDecFunc\n",
    "from proveit.basiclogic.set import Union\n",
    "from IPython.display import display"
   ]
  },
  {
   "cell_type": "code",
   "execution_count": 2,
   "metadata": {
    "collapsed": false
   },
   "outputs": [
    {
     "data": {
      "image/png": "[encoded data removed]",
      "text/plain": [
       "$\\forall_{ \\varepsilon  \\in \\{1\\ldots \\left(\\left(2^{t - 1}\\right) - 2\\right)\\}} \\left(P_{\\rm fail}\\left( \\varepsilon \\right) \\leq \\left( \\frac{1}{2} \\cdot \\left( \\frac{1}{\\varepsilon} + \\frac{1}{\\varepsilon^{2}} \\right) \\right)\\right)$"
      ]
     },
     "execution_count": 2,
     "metadata": {},
     "output_type": "execute_result"
    }
   ],
   "source": [
    "fail_ineq.beginProof()"
   ]
  },
  {
   "cell_type": "code",
   "execution_count": 3,
   "metadata": {
    "collapsed": true
   },
   "outputs": [],
   "source": [
    "def showExprTree(expr, indent = ''):\n",
    "    print(indent + str(expr.__class__) + \": \" + str(expr))\n",
    "    for subExpr in expr._subExpressions:\n",
    "        showExprTree(subExpr, indent + '  ')"
   ]
  },
  {
   "cell_type": "code",
   "execution_count": 4,
   "metadata": {
    "collapsed": false
   },
   "outputs": [
    {
     "data": {
      "image/png": "[encoded data removed]",
      "text/plain": [
       "$\\varepsilon \\in \\{1\\ldots \\left(\\left(2^{t - 1}\\right) - 2\\right)\\}$"
      ]
     },
     "metadata": {},
     "output_type": "display_data"
    },
    {
     "data": {
      "image/png": "[encoded data removed]",
      "text/plain": [
       "$\\varepsilon \\in \\mathbb{N}^+$"
      ]
     },
     "metadata": {},
     "output_type": "display_data"
    },
    {
     "data": {
      "image/png": "[encoded data removed]",
      "text/plain": [
       "$\\varepsilon \\geq 1$"
      ]
     },
     "metadata": {},
     "output_type": "display_data"
    },
    {
     "data": {
      "image/png": "[encoded data removed]",
      "text/plain": [
       "$\\varepsilon \\leq \\left(\\left(2^{t - 1}\\right) - 2\\right)$"
      ]
     },
     "metadata": {},
     "output_type": "display_data"
    }
   ],
   "source": [
    "epsInDomain = In(eps, epsDomain)\n",
    "display(epsInDomain)\n",
    "display(epsDomain.deduceMemberInNaturalsPos(eps).proven({epsInDomain}))\n",
    "epsLowerBound = epsDomain.deduceMemberLowerBound(eps).deriveReversed().proven({epsInDomain})\n",
    "display(epsLowerBound)\n",
    "epsUpperBound = epsDomain.deduceMemberUpperBound(eps).proven({epsInDomain})\n",
    "display(epsUpperBound)"
   ]
  },
  {
   "cell_type": "code",
   "execution_count": 5,
   "metadata": {
    "collapsed": false
   },
   "outputs": [
    {
     "data": {
      "image/png": "[encoded data removed]",
      "text/plain": [
       "$P_{\\rm fail}\\left( \\varepsilon \\right) \\leq \\left( \\left(\\sum_{l= \\left(-\\left(2^{t - 1}\\right)\\right) + 1 }^{-\\left( \\varepsilon + 1 \\right)} \\left(\\left|\\alpha_{l}\\right|^{2}\\right)\\right) + \\left(\\sum_{l= \\varepsilon + 1 }^{2^{t - 1}} \\left(\\left|\\alpha_{l}\\right|^{2}\\right)\\right) \\right)$"
      ]
     },
     "execution_count": 5,
     "metadata": {},
     "output_type": "execute_result"
    }
   ],
   "source": [
    "fail_sum_special = fail_sum.specialize().proven({epsInDomain})\n",
    "fail_sum_special"
   ]
  },
  {
   "cell_type": "code",
   "execution_count": 6,
   "metadata": {
    "collapsed": false
   },
   "outputs": [
    {
     "data": {
      "image/png": "[encoded data removed]",
      "text/plain": [
       "$\\{ \\left(-\\left(2^{t - 1}\\right)\\right) + 1 \\ldots -\\left( \\varepsilon + 1 \\right)\\}$"
      ]
     },
     "metadata": {},
     "output_type": "display_data"
    },
    {
     "data": {
      "image/png": "[encoded data removed]",
      "text/plain": [
       "$\\{ \\varepsilon + 1 \\ldots 2^{t - 1}\\}$"
      ]
     },
     "metadata": {},
     "output_type": "display_data"
    },
    {
     "data": {
      "image/png": "[encoded data removed]",
      "text/plain": [
       "$\\{ \\left(-\\left(2^{t - 1}\\right)\\right) + 1 \\ldots 2^{t - 1}\\}$"
      ]
     },
     "metadata": {},
     "output_type": "display_data"
    }
   ],
   "source": [
    "display(negDomain)\n",
    "display(posDomain)\n",
    "display(fullDomain)"
   ]
  },
  {
   "cell_type": "code",
   "execution_count": 7,
   "metadata": {
    "collapsed": false
   },
   "outputs": [
    {
     "data": {
      "image/png": "[encoded data removed]",
      "text/plain": [
       "$l \\in \\{\\left( \\left(-\\left(2^{t - 1}\\right)\\right) + 1 \\right)\\ldots \\left(2^{t - 1}\\right)\\}$"
      ]
     },
     "metadata": {},
     "output_type": "display_data"
    },
    {
     "data": {
      "image/png": "[encoded data removed]",
      "text/plain": [
       "$l \\neq 0$"
      ]
     },
     "metadata": {},
     "output_type": "display_data"
    }
   ],
   "source": [
    "lInDomain = In(l, fullDomain)\n",
    "lNotZero = NotEquals(l, zero)\n",
    "display(lInDomain)\n",
    "display(lNotZero)\n"
   ]
  },
  {
   "cell_type": "code",
   "execution_count": 8,
   "metadata": {
    "collapsed": false
   },
   "outputs": [
    {
     "data": {
      "image/png": "[encoded data removed]",
      "text/plain": [
       "$l \\in \\{\\left( \\left(-\\left(2^{t - 1}\\right)\\right) + 1 \\right)\\ldots \\left(2^{t - 1}\\right)\\}$"
      ]
     },
     "metadata": {},
     "output_type": "display_data"
    },
    {
     "data": {
      "image/png": "[encoded data removed]",
      "text/plain": [
       "$l \\in \\{\\left( \\left(-\\left(2^{t - 1}\\right)\\right) + 1 \\right)\\ldots \\left(2^{t - 1}\\right)\\}$"
      ]
     },
     "metadata": {},
     "output_type": "display_data"
    },
    {
     "data": {
      "image/png": "[encoded data removed]",
      "text/plain": [
       "$l \\in \\mathbb{Z}$"
      ]
     },
     "metadata": {},
     "output_type": "display_data"
    },
    {
     "data": {
      "image/png": "[encoded data removed]",
      "text/plain": [
       "$l \\in \\mathbb{Z}$"
      ]
     },
     "metadata": {},
     "output_type": "display_data"
    }
   ],
   "source": [
    "display(negDomainInFullDomain.specialize().specialize().proven({epsInDomain, In(l, negDomain)}))\n",
    "display(posDomainInFullDomain.specialize().specialize().proven({epsInDomain, In(l, posDomain)}))\n",
    "display(negDomain.deduceMemberInIntegers(l, {epsInDomain}).proven({epsInDomain, In(l,negDomain)}))\n",
    "display(posDomain.deduceMemberInIntegers(l, {epsInDomain}).proven({epsInDomain, In(l,posDomain)}))"
   ]
  },
  {
   "cell_type": "code",
   "execution_count": 9,
   "metadata": {
    "collapsed": false
   },
   "outputs": [
    {
     "data": {
      "image/png": "[encoded data removed]",
      "text/plain": [
       "$l < 0$"
      ]
     },
     "metadata": {},
     "output_type": "display_data"
    },
    {
     "data": {
      "image/png": "[encoded data removed]",
      "text/plain": [
       "$l \\leq 0$"
      ]
     },
     "metadata": {},
     "output_type": "display_data"
    },
    {
     "data": {
      "image/png": "[encoded data removed]",
      "text/plain": [
       "$l > 0$"
      ]
     },
     "metadata": {},
     "output_type": "display_data"
    }
   ],
   "source": [
    "lInNegDomainIsNeg = negDomain.deduceMemberIsNegative(l, {epsInDomain})\n",
    "display(lInNegDomainIsNeg.proven({epsInDomain, In(l, negDomain)}))\n",
    "display(lInNegDomainIsNeg.deriveRelaxed({epsInDomain, In(l, negDomain)}).proven({epsInDomain, In(l, negDomain)}))\n",
    "display(posDomain.deduceMemberIsPositive(l, {epsInDomain}).proven({epsInDomain, In(l, posDomain)}))"
   ]
  },
  {
   "cell_type": "code",
   "execution_count": 10,
   "metadata": {
    "collapsed": false
   },
   "outputs": [
    {
     "data": {
      "image/png": "[encoded data removed]",
      "text/plain": [
       "$\\left( \\varepsilon + 1 \\right) > 1$"
      ]
     },
     "metadata": {},
     "output_type": "display_data"
    },
    {
     "data": {
      "image/png": "[encoded data removed]",
      "text/plain": [
       "$l \\geq \\left( \\varepsilon + 1 \\right)$"
      ]
     },
     "metadata": {},
     "output_type": "display_data"
    },
    {
     "data": {
      "image/png": "[encoded data removed]",
      "text/plain": [
       "$l > 1$"
      ]
     },
     "metadata": {},
     "output_type": "display_data"
    },
    {
     "data": {
      "image/png": "[encoded data removed]",
      "text/plain": [
       "$\\left(l - 1\\right) > 0$"
      ]
     },
     "metadata": {},
     "output_type": "display_data"
    }
   ],
   "source": [
    "epsPlusOneIneq = Add(eps, one).deduceStrictIncrease(1, {epsInDomain}).proven({epsInDomain})\n",
    "display(epsPlusOneIneq)\n",
    "posDomainLowerBound = posDomain.deduceMemberLowerBound(l, {epsInDomain}).deriveReversed()\n",
    "display(posDomainLowerBound)\n",
    "posDomainGreaterThanOne = posDomainLowerBound.applyTransitivity(epsPlusOneIneq).proven({epsInDomain, In(l, posDomain)})\n",
    "display(posDomainGreaterThanOne)\n",
    "display(deducePositive(Subtract(l, one), {epsInDomain, In(l, posDomain)}).proven({epsInDomain, In(l, posDomain)}))\n"
   ]
  },
  {
   "cell_type": "code",
   "execution_count": 11,
   "metadata": {
    "collapsed": false
   },
   "outputs": [
    {
     "data": {
      "image/png": "[encoded data removed]",
      "text/plain": [
       "$l \\neq 0$"
      ]
     },
     "metadata": {},
     "output_type": "display_data"
    },
    {
     "data": {
      "image/png": "[encoded data removed]",
      "text/plain": [
       "$l \\neq 0$"
      ]
     },
     "metadata": {},
     "output_type": "display_data"
    }
   ],
   "source": [
    "display(deduceNotZero(l, {epsInDomain, In(l, negDomain)}).proven({epsInDomain, In(l, negDomain)}))\n",
    "display(deduceNotZero(l, {epsInDomain, In(l, posDomain)}).proven({epsInDomain, In(l, posDomain)}))"
   ]
  },
  {
   "cell_type": "code",
   "execution_count": 12,
   "metadata": {
    "collapsed": false
   },
   "outputs": [
    {
     "data": {
      "image/png": "[encoded data removed]",
      "text/plain": [
       "$\\left(\\left|\\alpha_{l}\\right|^{2}\\right) \\leq \\frac{1}{ 4 \\cdot \\left(\\left(l - \\left( \\left(2^{t}\\right) \\cdot \\delta \\right)\\right)^{2}\\right) }$"
      ]
     },
     "execution_count": 12,
     "metadata": {},
     "output_type": "execute_result"
    }
   ],
   "source": [
    "Y0 = alpha_l_sqrd_ineq.specialize().proven({lInDomain, lNotZero})\n",
    "Y0"
   ]
  },
  {
   "cell_type": "code",
   "execution_count": 13,
   "metadata": {
    "collapsed": false
   },
   "outputs": [
    {
     "data": {
      "image/png": "[encoded data removed]",
      "text/plain": [
       "$\\forall_{ l  \\in \\mathbb{Z}~|~ \\left(l \\neq 0\\right) } \\left(\\left( \\left(2^{t}\\right) \\cdot \\delta \\right) \\neq l\\right)$"
      ]
     },
     "execution_count": 13,
     "metadata": {},
     "output_type": "execute_result"
    }
   ],
   "source": [
    "scaledDelta_notEq_nonzeroInt"
   ]
  },
  {
   "cell_type": "code",
   "execution_count": 14,
   "metadata": {
    "collapsed": false
   },
   "outputs": [
    {
     "data": {
      "image/png": "[encoded data removed]",
      "text/plain": [
       "$\\left( \\left(2^{t}\\right) \\cdot \\delta \\right) \\neq l$"
      ]
     },
     "metadata": {},
     "output_type": "display_data"
    },
    {
     "data": {
      "image/png": "[encoded data removed]",
      "text/plain": [
       "$\\left( \\left(2^{t}\\right) \\cdot \\delta \\right) \\neq l$"
      ]
     },
     "metadata": {},
     "output_type": "display_data"
    }
   ],
   "source": [
    "display(scaledDelta_notEq_nonzeroInt.specialize().proven({epsInDomain, In(l, posDomain)}))\n",
    "display(scaledDelta_notEq_nonzeroInt.specialize().proven({epsInDomain, In(l, negDomain)}))"
   ]
  },
  {
   "cell_type": "code",
   "execution_count": 15,
   "metadata": {
    "collapsed": false
   },
   "outputs": [
    {
     "data": {
      "image/png": "[encoded data removed]",
      "text/plain": [
       "$\\forall_{ a , b } \\left[\\forall_{ m , n  \\in \\mathbb{Z}} \\left(\\left[\\forall_{ k  \\in \\{m\\ldots n\\}} \\left(a\\left( k \\right) \\leq b\\left( k \\right)\\right)\\right] \\Rightarrow \\left(\\left(\\sum_{l=m}^{n} a\\left( l \\right)\\right) \\leq \\left(\\sum_{l=m}^{n} b\\left( l \\right)\\right)\\right)\\right)\\right]$"
      ]
     },
     "execution_count": 15,
     "metadata": {},
     "output_type": "execute_result"
    }
   ],
   "source": [
    "sumIneq1"
   ]
  },
  {
   "cell_type": "code",
   "execution_count": 16,
   "metadata": {
    "collapsed": false
   },
   "outputs": [
    {
     "data": {
      "image/png": "[encoded data removed]",
      "text/plain": [
       "$\\forall_{ m , n  \\in \\mathbb{Z}} \\left(\\left[\\forall_{ k  \\in \\{m\\ldots n\\}} \\left(\\left(\\left|\\alpha_{k}\\right|^{2}\\right) \\leq \\frac{1}{ 4 \\cdot \\left(\\left(k - \\left( \\left(2^{t}\\right) \\cdot \\delta \\right)\\right)^{2}\\right) }\\right)\\right] \\Rightarrow \\left(\\left(\\sum_{l=m}^{n} \\left(\\left|\\alpha_{l}\\right|^{2}\\right)\\right) \\leq \\left(\\sum_{l=m}^{n} \\frac{1}{ 4 \\cdot \\left(\\left(l - \\left( \\left(2^{t}\\right) \\cdot \\delta \\right)\\right)^{2}\\right) }\\right)\\right)\\right)$"
      ]
     },
     "execution_count": 16,
     "metadata": {},
     "output_type": "execute_result"
    }
   ],
   "source": [
    "Y1a = sumIneq1.specialize({Operation(a,l):alpha_l_sqrd, Operation(b,l):Y0.rhs}).proven()\n",
    "Y1a"
   ]
  },
  {
   "cell_type": "code",
   "execution_count": 17,
   "metadata": {
    "collapsed": false
   },
   "outputs": [
    {
     "data": {
      "image/png": "[encoded data removed]",
      "text/plain": [
       "$\\left( \\left(-\\left(2^{t - 1}\\right)\\right) + 1 \\right) \\in \\mathbb{Z}$"
      ]
     },
     "metadata": {},
     "output_type": "display_data"
    },
    {
     "data": {
      "image/png": "[encoded data removed]",
      "text/plain": [
       "$\\left(-\\left( \\varepsilon + 1 \\right)\\right) \\in \\mathbb{Z}$"
      ]
     },
     "metadata": {},
     "output_type": "display_data"
    }
   ],
   "source": [
    "display(negDomain.lowerBound.deduceInIntegers().proven())\n",
    "display(negDomain.upperBound.deduceInIntegers({epsInDomain}).proven({epsInDomain}))"
   ]
  },
  {
   "cell_type": "code",
   "execution_count": 18,
   "metadata": {
    "collapsed": false
   },
   "outputs": [
    {
     "data": {
      "image/png": "[encoded data removed]",
      "text/plain": [
       "$\\left[\\forall_{ k  \\in \\{\\left( \\left(-\\left(2^{t - 1}\\right)\\right) + 1 \\right)\\ldots \\left(-\\left( \\varepsilon + 1 \\right)\\right)\\}} \\left(\\left(\\left|\\alpha_{k}\\right|^{2}\\right) \\leq \\frac{1}{ 4 \\cdot \\left(\\left(k - \\left( \\left(2^{t}\\right) \\cdot \\delta \\right)\\right)^{2}\\right) }\\right)\\right] \\Rightarrow \\left(\\left(\\sum_{l= \\left(-\\left(2^{t - 1}\\right)\\right) + 1 }^{-\\left( \\varepsilon + 1 \\right)} \\left(\\left|\\alpha_{l}\\right|^{2}\\right)\\right) \\leq \\left(\\sum_{l= \\left(-\\left(2^{t - 1}\\right)\\right) + 1 }^{-\\left( \\varepsilon + 1 \\right)} \\frac{1}{ 4 \\cdot \\left(\\left(l - \\left( \\left(2^{t}\\right) \\cdot \\delta \\right)\\right)^{2}\\right) }\\right)\\right)$"
      ]
     },
     "execution_count": 18,
     "metadata": {},
     "output_type": "execute_result"
    }
   ],
   "source": [
    "Y1 = Y1a.specialize({m:negDomain.lowerBound, n:negDomain.upperBound}).proven({epsInDomain})\n",
    "Y1"
   ]
  },
  {
   "cell_type": "code",
   "execution_count": 19,
   "metadata": {
    "collapsed": false
   },
   "outputs": [
    {
     "data": {
      "image/png": "[encoded data removed]",
      "text/plain": [
       "$\\left( \\varepsilon + 1 \\right) \\in \\mathbb{Z}$"
      ]
     },
     "metadata": {},
     "output_type": "display_data"
    },
    {
     "data": {
      "image/png": "[encoded data removed]",
      "text/plain": [
       "$\\left(2^{t - 1}\\right) \\in \\mathbb{Z}$"
      ]
     },
     "metadata": {},
     "output_type": "display_data"
    }
   ],
   "source": [
    "display(posDomain.lowerBound.deduceInIntegers({epsInDomain}).proven({epsInDomain}))\n",
    "display(posDomain.upperBound.deduceInIntegers().proven({epsInDomain}))"
   ]
  },
  {
   "cell_type": "code",
   "execution_count": 20,
   "metadata": {
    "collapsed": false
   },
   "outputs": [
    {
     "data": {
      "image/png": "[encoded data removed]",
      "text/plain": [
       "$\\left[\\forall_{ k  \\in \\{\\left( \\varepsilon + 1 \\right)\\ldots \\left(2^{t - 1}\\right)\\}} \\left(\\left(\\left|\\alpha_{k}\\right|^{2}\\right) \\leq \\frac{1}{ 4 \\cdot \\left(\\left(k - \\left( \\left(2^{t}\\right) \\cdot \\delta \\right)\\right)^{2}\\right) }\\right)\\right] \\Rightarrow \\left(\\left(\\sum_{l= \\varepsilon + 1 }^{2^{t - 1}} \\left(\\left|\\alpha_{l}\\right|^{2}\\right)\\right) \\leq \\left(\\sum_{l= \\varepsilon + 1 }^{2^{t - 1}} \\frac{1}{ 4 \\cdot \\left(\\left(l - \\left( \\left(2^{t}\\right) \\cdot \\delta \\right)\\right)^{2}\\right) }\\right)\\right)$"
      ]
     },
     "execution_count": 20,
     "metadata": {},
     "output_type": "execute_result"
    }
   ],
   "source": [
    "Y2 = Y1a.specialize({m:posDomain.lowerBound, n:posDomain.upperBound}).proven({epsInDomain})\n",
    "Y2"
   ]
  },
  {
   "cell_type": "code",
   "execution_count": 21,
   "metadata": {
    "collapsed": false
   },
   "outputs": [
    {
     "data": {
      "image/png": "[encoded data removed]",
      "text/plain": [
       "$\\forall_{ k  \\in \\{\\left( \\left(-\\left(2^{t - 1}\\right)\\right) + 1 \\right)\\ldots \\left(-\\left( \\varepsilon + 1 \\right)\\right)\\}} \\left(\\left(\\left|\\alpha_{k}\\right|^{2}\\right) \\leq \\frac{1}{ 4 \\cdot \\left(\\left(k - \\left( \\left(2^{t}\\right) \\cdot \\delta \\right)\\right)^{2}\\right) }\\right)$"
      ]
     },
     "execution_count": 21,
     "metadata": {},
     "output_type": "execute_result"
    }
   ],
   "source": [
    "Y0_negDomain = Y0.generalize(l, domain=negDomain).proven({epsInDomain})\n",
    "Y0_negDomain.relabel({l:k})"
   ]
  },
  {
   "cell_type": "code",
   "execution_count": 22,
   "metadata": {
    "collapsed": false
   },
   "outputs": [
    {
     "data": {
      "image/png": "[encoded data removed]",
      "text/plain": [
       "$\\forall_{ k  \\in \\{\\left( \\varepsilon + 1 \\right)\\ldots \\left(2^{t - 1}\\right)\\}} \\left(\\left(\\left|\\alpha_{k}\\right|^{2}\\right) \\leq \\frac{1}{ 4 \\cdot \\left(\\left(k - \\left( \\left(2^{t}\\right) \\cdot \\delta \\right)\\right)^{2}\\right) }\\right)$"
      ]
     },
     "execution_count": 22,
     "metadata": {},
     "output_type": "execute_result"
    }
   ],
   "source": [
    "Y0_posDomain = Y0.generalize(l, domain=posDomain).proven({epsInDomain})\n",
    "Y0_posDomain.relabel({l:k})"
   ]
  },
  {
   "cell_type": "code",
   "execution_count": 23,
   "metadata": {
    "collapsed": false
   },
   "outputs": [
    {
     "data": {
      "image/png": "[encoded data removed]",
      "text/plain": [
       "$\\left(\\sum_{l= \\left(-\\left(2^{t - 1}\\right)\\right) + 1 }^{-\\left( \\varepsilon + 1 \\right)} \\left(\\left|\\alpha_{l}\\right|^{2}\\right)\\right) \\leq \\left(\\sum_{l= \\left(-\\left(2^{t - 1}\\right)\\right) + 1 }^{-\\left( \\varepsilon + 1 \\right)} \\frac{1}{ 4 \\cdot \\left(\\left(l - \\left( \\left(2^{t}\\right) \\cdot \\delta \\right)\\right)^{2}\\right) }\\right)$"
      ]
     },
     "execution_count": 23,
     "metadata": {},
     "output_type": "execute_result"
    }
   ],
   "source": [
    "Y1.conclusion.proven({epsInDomain})"
   ]
  },
  {
   "cell_type": "code",
   "execution_count": 24,
   "metadata": {
    "collapsed": false
   },
   "outputs": [
    {
     "data": {
      "image/png": "[encoded data removed]",
      "text/plain": [
       "$\\left(\\sum_{l= \\varepsilon + 1 }^{2^{t - 1}} \\left(\\left|\\alpha_{l}\\right|^{2}\\right)\\right) \\leq \\left(\\sum_{l= \\varepsilon + 1 }^{2^{t - 1}} \\frac{1}{ 4 \\cdot \\left(\\left(l - \\left( \\left(2^{t}\\right) \\cdot \\delta \\right)\\right)^{2}\\right) }\\right)$"
      ]
     },
     "execution_count": 24,
     "metadata": {},
     "output_type": "execute_result"
    }
   ],
   "source": [
    "Y2.conclusion.proven({epsInDomain})"
   ]
  },
  {
   "cell_type": "code",
   "execution_count": 25,
   "metadata": {
    "collapsed": false
   },
   "outputs": [
    {
     "data": {
      "image/png": "[encoded data removed]",
      "text/plain": [
       "$\\left(\\sum_{l= \\left(-\\left(2^{t - 1}\\right)\\right) + 1 }^{-\\left( \\varepsilon + 1 \\right)} \\frac{1}{ 4 \\cdot \\left(\\left(l - \\left( \\left(2^{t}\\right) \\cdot \\delta \\right)\\right)^{2}\\right) }\\right) \\in \\mathbb{R}$"
      ]
     },
     "metadata": {},
     "output_type": "display_data"
    },
    {
     "data": {
      "image/png": "[encoded data removed]",
      "text/plain": [
       "$\\left(\\sum_{l= \\varepsilon + 1 }^{2^{t - 1}} \\frac{1}{ 4 \\cdot \\left(\\left(l - \\left( \\left(2^{t}\\right) \\cdot \\delta \\right)\\right)^{2}\\right) }\\right) \\in \\mathbb{R}$"
      ]
     },
     "metadata": {},
     "output_type": "display_data"
    }
   ],
   "source": [
    "display(Y1.conclusion.rhs.deduceInReals({epsInDomain, lInDomain}).proven({epsInDomain, lInDomain}))\n",
    "display(Y2.conclusion.rhs.deduceInReals({epsInDomain, lInDomain}).proven({epsInDomain, lInDomain}))"
   ]
  },
  {
   "cell_type": "code",
   "execution_count": 26,
   "metadata": {
    "collapsed": false
   },
   "outputs": [
    {
     "data": {
      "image/png": "[encoded data removed]",
      "text/plain": [
       "$\\alpha_{l} \\in \\mathbb{C}$"
      ]
     },
     "metadata": {},
     "output_type": "display_data"
    },
    {
     "data": {
      "image/png": "[encoded data removed]",
      "text/plain": [
       "$\\left|\\alpha_{l}\\right| \\in \\mathbb{R}$"
      ]
     },
     "metadata": {},
     "output_type": "display_data"
    },
    {
     "data": {
      "image/png": "[encoded data removed]",
      "text/plain": [
       "$\\left|\\alpha_{l}\\right| \\geq 0$"
      ]
     },
     "metadata": {},
     "output_type": "display_data"
    }
   ],
   "source": [
    "display(all_alpha_l_in_complexes.specialize())\n",
    "abs_alpha_l_real_and_nonneg = all_abs_alpha_l_nonneg.specialize().decompose()\n",
    "display(abs_alpha_l_real_and_nonneg[0])\n",
    "display(abs_alpha_l_real_and_nonneg[1])"
   ]
  },
  {
   "cell_type": "code",
   "execution_count": 27,
   "metadata": {
    "collapsed": false
   },
   "outputs": [
    {
     "data": {
      "image/png": "[encoded data removed]",
      "text/plain": [
       "$\\left(\\sum_{l= \\left(-\\left(2^{t - 1}\\right)\\right) + 1 }^{-\\left( \\varepsilon + 1 \\right)} \\left(\\left|\\alpha_{l}\\right|^{2}\\right)\\right) \\in \\mathbb{R}$"
      ]
     },
     "execution_count": 27,
     "metadata": {},
     "output_type": "execute_result"
    }
   ],
   "source": [
    "fail_sum_special.rhs.operands[0].deduceInReals({epsInDomain, lInDomain}).proven({epsInDomain, lInDomain})"
   ]
  },
  {
   "cell_type": "code",
   "execution_count": 28,
   "metadata": {
    "collapsed": false
   },
   "outputs": [
    {
     "data": {
      "image/png": "[encoded data removed]",
      "text/plain": [
       "$\\left(\\sum_{l= \\varepsilon + 1 }^{2^{t - 1}} \\left(\\left|\\alpha_{l}\\right|^{2}\\right)\\right) \\in \\mathbb{R}$"
      ]
     },
     "execution_count": 28,
     "metadata": {},
     "output_type": "execute_result"
    }
   ],
   "source": [
    "fail_sum_special.rhs.operands[1].deduceInReals({epsInDomain, lInDomain}).proven({epsInDomain, lInDomain})"
   ]
  },
  {
   "cell_type": "code",
   "execution_count": 29,
   "metadata": {
    "collapsed": false,
    "scrolled": true
   },
   "outputs": [
    {
     "data": {
      "image/png": "[encoded data removed]",
      "text/plain": [
       "$\\left( \\left(\\left(\\sum_{l= \\left(-\\left(2^{t - 1}\\right)\\right) + 1 }^{-\\left( \\varepsilon + 1 \\right)} \\left(\\left|\\alpha_{l}\\right|^{2}\\right)\\right) \\leq \\left(\\sum_{l= \\left(-\\left(2^{t - 1}\\right)\\right) + 1 }^{-\\left( \\varepsilon + 1 \\right)} \\frac{1}{ 4 \\cdot \\left(\\left(l - \\left( \\left(2^{t}\\right) \\cdot \\delta \\right)\\right)^{2}\\right) }\\right)\\right) \\land \\left(\\left(\\sum_{l= \\varepsilon + 1 }^{2^{t - 1}} \\left(\\left|\\alpha_{l}\\right|^{2}\\right)\\right) \\leq \\left(\\sum_{l= \\varepsilon + 1 }^{2^{t - 1}} \\frac{1}{ 4 \\cdot \\left(\\left(l - \\left( \\left(2^{t}\\right) \\cdot \\delta \\right)\\right)^{2}\\right) }\\right)\\right) \\right) \\Rightarrow \\left(\\left( \\left(\\sum_{l= \\left(-\\left(2^{t - 1}\\right)\\right) + 1 }^{-\\left( \\varepsilon + 1 \\right)} \\left(\\left|\\alpha_{l}\\right|^{2}\\right)\\right) + \\left(\\sum_{l= \\varepsilon + 1 }^{2^{t - 1}} \\left(\\left|\\alpha_{l}\\right|^{2}\\right)\\right) \\right) \\leq \\left( \\left(\\sum_{l= \\left(-\\left(2^{t - 1}\\right)\\right) + 1 }^{-\\left( \\varepsilon + 1 \\right)} \\frac{1}{ 4 \\cdot \\left(\\left(l - \\left( \\left(2^{t}\\right) \\cdot \\delta \\right)\\right)^{2}\\right) }\\right) + \\left(\\sum_{l= \\varepsilon + 1 }^{2^{t - 1}} \\frac{1}{ 4 \\cdot \\left(\\left(l - \\left( \\left(2^{t}\\right) \\cdot \\delta \\right)\\right)^{2}\\right) }\\right) \\right)\\right)$"
      ]
     },
     "execution_count": 29,
     "metadata": {},
     "output_type": "execute_result"
    }
   ],
   "source": [
    "Y3 = sumIneq2.specialize({a:fail_sum_special.rhs.operands[0], b:fail_sum_special.rhs.operands[1], c:Y1.conclusion.rhs, d:Y2.conclusion.rhs}).proven({epsInDomain})\n",
    "Y3"
   ]
  },
  {
   "cell_type": "code",
   "execution_count": 30,
   "metadata": {
    "collapsed": false
   },
   "outputs": [
    {
     "data": {
      "image/png": "[encoded data removed]",
      "text/plain": [
       "$ \\left(\\left(\\sum_{l= \\left(-\\left(2^{t - 1}\\right)\\right) + 1 }^{-\\left( \\varepsilon + 1 \\right)} \\left(\\left|\\alpha_{l}\\right|^{2}\\right)\\right) \\leq \\left(\\sum_{l= \\left(-\\left(2^{t - 1}\\right)\\right) + 1 }^{-\\left( \\varepsilon + 1 \\right)} \\frac{1}{ 4 \\cdot \\left(\\left(l - \\left( \\left(2^{t}\\right) \\cdot \\delta \\right)\\right)^{2}\\right) }\\right)\\right) \\land \\left(\\left(\\sum_{l= \\varepsilon + 1 }^{2^{t - 1}} \\left(\\left|\\alpha_{l}\\right|^{2}\\right)\\right) \\leq \\left(\\sum_{l= \\varepsilon + 1 }^{2^{t - 1}} \\frac{1}{ 4 \\cdot \\left(\\left(l - \\left( \\left(2^{t}\\right) \\cdot \\delta \\right)\\right)^{2}\\right) }\\right)\\right) $"
      ]
     },
     "metadata": {},
     "output_type": "display_data"
    },
    {
     "data": {
      "image/png": "[encoded data removed]",
      "text/plain": [
       "$\\left( \\left(\\sum_{l= \\left(-\\left(2^{t - 1}\\right)\\right) + 1 }^{-\\left( \\varepsilon + 1 \\right)} \\left(\\left|\\alpha_{l}\\right|^{2}\\right)\\right) + \\left(\\sum_{l= \\varepsilon + 1 }^{2^{t - 1}} \\left(\\left|\\alpha_{l}\\right|^{2}\\right)\\right) \\right) \\leq \\left( \\left(\\sum_{l= \\left(-\\left(2^{t - 1}\\right)\\right) + 1 }^{-\\left( \\varepsilon + 1 \\right)} \\frac{1}{ 4 \\cdot \\left(\\left(l - \\left( \\left(2^{t}\\right) \\cdot \\delta \\right)\\right)^{2}\\right) }\\right) + \\left(\\sum_{l= \\varepsilon + 1 }^{2^{t - 1}} \\frac{1}{ 4 \\cdot \\left(\\left(l - \\left( \\left(2^{t}\\right) \\cdot \\delta \\right)\\right)^{2}\\right) }\\right) \\right)$"
      ]
     },
     "metadata": {},
     "output_type": "display_data"
    }
   ],
   "source": [
    "Q = Y3.hypothesis.concludeViaComposition().proven({epsInDomain})\n",
    "display(Q)\n",
    "display(Y3.conclusion.proven({epsInDomain}))"
   ]
  },
  {
   "cell_type": "code",
   "execution_count": 31,
   "metadata": {
    "collapsed": false
   },
   "outputs": [
    {
     "data": {
      "image/png": "[encoded data removed]",
      "text/plain": [
       "$P_{\\rm fail}\\left( \\varepsilon \\right) \\leq \\left( \\left(\\sum_{l= \\left(-\\left(2^{t - 1}\\right)\\right) + 1 }^{-\\left( \\varepsilon + 1 \\right)} \\frac{1}{ 4 \\cdot \\left(\\left(l - \\left( \\left(2^{t}\\right) \\cdot \\delta \\right)\\right)^{2}\\right) }\\right) + \\left(\\sum_{l= \\varepsilon + 1 }^{2^{t - 1}} \\frac{1}{ 4 \\cdot \\left(\\left(l - \\left( \\left(2^{t}\\right) \\cdot \\delta \\right)\\right)^{2}\\right) }\\right) \\right)$"
      ]
     },
     "execution_count": 31,
     "metadata": {},
     "output_type": "execute_result"
    }
   ],
   "source": [
    "X1 = Relation(fail_sum_special).update(Y3.conclusion).proven({epsInDomain})\n",
    "X1"
   ]
  },
  {
   "cell_type": "code",
   "execution_count": 32,
   "metadata": {
    "collapsed": false
   },
   "outputs": [
    {
     "data": {
      "image/png": "[encoded data removed]",
      "text/plain": [
       "$\\frac{1}{ 4 \\cdot \\left(\\left(l - \\left( \\left(2^{t}\\right) \\cdot \\delta \\right)\\right)^{2}\\right) }$"
      ]
     },
     "execution_count": 32,
     "metadata": {},
     "output_type": "execute_result"
    }
   ],
   "source": [
    "X1_summand = X1.rhs.operands[0].summand\n",
    "X1_summand"
   ]
  },
  {
   "cell_type": "code",
   "execution_count": 33,
   "metadata": {
    "collapsed": false
   },
   "outputs": [
    {
     "data": {
      "image/png": "[encoded data removed]",
      "text/plain": [
       "$\\frac{1}{ 4 \\cdot \\left(\\left(l - \\left( \\left(2^{t}\\right) \\cdot \\delta \\right)\\right)^{2}\\right) } = \\left( \\frac{1}{4} \\cdot \\frac{1}{\\left(l - \\left( \\left(2^{t}\\right) \\cdot \\delta \\right)\\right)^{2}} \\right)$"
      ]
     },
     "execution_count": 33,
     "metadata": {},
     "output_type": "execute_result"
    }
   ],
   "source": [
    "Y4 = X1_summand.factor(Fraction(one,four),'left',assumptions={epsInDomain, In(l, posDomain)}).proven({epsInDomain, In(l, posDomain)})\n",
    "X1_summand.factor(Fraction(one,four),'left',assumptions={epsInDomain, In(l, negDomain)}).proven({epsInDomain, In(l, negDomain)})\n",
    "Y4"
   ]
  },
  {
   "cell_type": "code",
   "execution_count": 34,
   "metadata": {
    "collapsed": false
   },
   "outputs": [
    {
     "data": {
      "image/png": "[encoded data removed]",
      "text/plain": [
       "$ \\left(\\sum_{l= \\left(-\\left(2^{t - 1}\\right)\\right) + 1 }^{-\\left( \\varepsilon + 1 \\right)} \\frac{1}{ 4 \\cdot \\left(\\left(l - \\left( \\left(2^{t}\\right) \\cdot \\delta \\right)\\right)^{2}\\right) }\\right) + \\left(\\sum_{l= \\varepsilon + 1 }^{2^{t - 1}} \\frac{1}{ 4 \\cdot \\left(\\left(l - \\left( \\left(2^{t}\\right) \\cdot \\delta \\right)\\right)^{2}\\right) }\\right) $"
      ]
     },
     "execution_count": 34,
     "metadata": {},
     "output_type": "execute_result"
    }
   ],
   "source": [
    "X1.rhs"
   ]
  },
  {
   "cell_type": "code",
   "execution_count": 35,
   "metadata": {
    "collapsed": false
   },
   "outputs": [
    {
     "data": {
      "image/png": "[encoded data removed]",
      "text/plain": [
       "$\\forall_{ l  \\in \\{\\left( \\left(-\\left(2^{t - 1}\\right)\\right) + 1 \\right)\\ldots \\left(-\\left( \\varepsilon + 1 \\right)\\right)\\}} \\left(\\frac{1}{ 4 \\cdot \\left(\\left(l - \\left( \\left(2^{t}\\right) \\cdot \\delta \\right)\\right)^{2}\\right) } = \\left( \\frac{1}{4} \\cdot \\frac{1}{\\left(l - \\left( \\left(2^{t}\\right) \\cdot \\delta \\right)\\right)^{2}} \\right)\\right)$"
      ]
     },
     "execution_count": 35,
     "metadata": {},
     "output_type": "execute_result"
    }
   ],
   "source": [
    "Y4_sum1equivForAllInstances = Y4.generalize(l,negDomain)\n",
    "Y4_sum1equivForAllInstances.proven({epsInDomain})"
   ]
  },
  {
   "cell_type": "code",
   "execution_count": 36,
   "metadata": {
    "collapsed": false
   },
   "outputs": [
    {
     "data": {
      "image/png": "[encoded data removed]",
      "text/plain": [
       "$\\forall_{ l  \\in \\{\\left( \\varepsilon + 1 \\right)\\ldots \\left(2^{t - 1}\\right)\\}} \\left(\\frac{1}{ 4 \\cdot \\left(\\left(l - \\left( \\left(2^{t}\\right) \\cdot \\delta \\right)\\right)^{2}\\right) } = \\left( \\frac{1}{4} \\cdot \\frac{1}{\\left(l - \\left( \\left(2^{t}\\right) \\cdot \\delta \\right)\\right)^{2}} \\right)\\right)$"
      ]
     },
     "execution_count": 36,
     "metadata": {},
     "output_type": "execute_result"
    }
   ],
   "source": [
    "Y4_sum2equivForAllInstances = Y4.generalize(l,posDomain)\n",
    "Y4_sum2equivForAllInstances.proven({epsInDomain})"
   ]
  },
  {
   "cell_type": "code",
   "execution_count": 37,
   "metadata": {
    "collapsed": false
   },
   "outputs": [
    {
     "data": {
      "image/png": "[encoded data removed]",
      "text/plain": [
       "$\\left(\\sum_{l= \\left(-\\left(2^{t - 1}\\right)\\right) + 1 }^{-\\left( \\varepsilon + 1 \\right)} \\frac{1}{ 4 \\cdot \\left(\\left(l - \\left( \\left(2^{t}\\right) \\cdot \\delta \\right)\\right)^{2}\\right) }\\right) = \\left(\\sum_{l= \\left(-\\left(2^{t - 1}\\right)\\right) + 1 }^{-\\left( \\varepsilon + 1 \\right)} \\left( \\frac{1}{4} \\cdot \\frac{1}{\\left(l - \\left( \\left(2^{t}\\right) \\cdot \\delta \\right)\\right)^{2}} \\right)\\right)$"
      ]
     },
     "execution_count": 37,
     "metadata": {},
     "output_type": "execute_result"
    }
   ],
   "source": [
    "Y5_sum1 = X1.rhs.operands[0].instanceSubstitution(Y4_sum1equivForAllInstances)\n",
    "Y5_sum1.proven({epsInDomain})"
   ]
  },
  {
   "cell_type": "code",
   "execution_count": 38,
   "metadata": {
    "collapsed": false
   },
   "outputs": [
    {
     "data": {
      "image/png": "[encoded data removed]",
      "text/plain": [
       "$\\left(\\sum_{l= \\varepsilon + 1 }^{2^{t - 1}} \\frac{1}{ 4 \\cdot \\left(\\left(l - \\left( \\left(2^{t}\\right) \\cdot \\delta \\right)\\right)^{2}\\right) }\\right) = \\left(\\sum_{l= \\varepsilon + 1 }^{2^{t - 1}} \\left( \\frac{1}{4} \\cdot \\frac{1}{\\left(l - \\left( \\left(2^{t}\\right) \\cdot \\delta \\right)\\right)^{2}} \\right)\\right)$"
      ]
     },
     "execution_count": 38,
     "metadata": {},
     "output_type": "execute_result"
    }
   ],
   "source": [
    "Y5_sum2 = X1.rhs.operands[1].instanceSubstitution(Y4_sum2equivForAllInstances)\n",
    "Y5_sum2.proven({epsInDomain})"
   ]
  },
  {
   "cell_type": "code",
   "execution_count": 39,
   "metadata": {
    "collapsed": false
   },
   "outputs": [
    {
     "data": {
      "image/png": "[encoded data removed]",
      "text/plain": [
       "$P_{\\rm fail}\\left( \\varepsilon \\right) \\leq \\left( \\left(\\sum_{l= \\left(-\\left(2^{t - 1}\\right)\\right) + 1 }^{-\\left( \\varepsilon + 1 \\right)} \\left( \\frac{1}{4} \\cdot \\frac{1}{\\left(l - \\left( \\left(2^{t}\\right) \\cdot \\delta \\right)\\right)^{2}} \\right)\\right) + \\left(\\sum_{l= \\varepsilon + 1 }^{2^{t - 1}} \\left( \\frac{1}{4} \\cdot \\frac{1}{\\left(l - \\left( \\left(2^{t}\\right) \\cdot \\delta \\right)\\right)^{2}} \\right)\\right) \\right)$"
      ]
     },
     "execution_count": 39,
     "metadata": {},
     "output_type": "execute_result"
    }
   ],
   "source": [
    "X2 = Y5_sum1.subRightSideInto(X1)\n",
    "X3 = Y5_sum2.subRightSideInto(X2)\n",
    "X3.proven({epsInDomain})"
   ]
  },
  {
   "cell_type": "code",
   "execution_count": 40,
   "metadata": {
    "collapsed": false
   },
   "outputs": [
    {
     "data": {
      "image/png": "[encoded data removed]",
      "text/plain": [
       "$\\forall_{ x  \\in \\mathbb{R}~|~ \\left(0 \\leq x\\right) , \\left(x \\leq 1\\right) } \\left[\\forall_{ a  \\in \\mathbb{R}~|~ \\left(a \\geq 0\\right) } \\left[\\forall_{ l  \\in \\mathbb{Z}~|~ \\left(l \\leq 0\\right) } \\left(\\left( a \\cdot \\frac{1}{\\left(l - x\\right)^{2}} \\right) \\leq \\left( a \\cdot \\frac{1}{l^{2}} \\right)\\right)\\right]\\right]$"
      ]
     },
     "execution_count": 40,
     "metadata": {},
     "output_type": "execute_result"
    }
   ],
   "source": [
    "ineqThm7a"
   ]
  },
  {
   "cell_type": "code",
   "execution_count": 41,
   "metadata": {
    "collapsed": false
   },
   "outputs": [
    {
     "data": {
      "image/png": "[encoded data removed]",
      "text/plain": [
       "$\\frac{1}{4} \\in \\mathbb{R}$"
      ]
     },
     "metadata": {},
     "output_type": "display_data"
    },
    {
     "data": {
      "image/png": "[encoded data removed]",
      "text/plain": [
       "$\\frac{1}{4} \\geq 0$"
      ]
     },
     "metadata": {},
     "output_type": "display_data"
    }
   ],
   "source": [
    "display(Fraction(one,four).deduceInReals().proven())\n",
    "display(deducePositive(Fraction(one, four)).deriveRelaxed().proven())"
   ]
  },
  {
   "cell_type": "code",
   "execution_count": 42,
   "metadata": {
    "collapsed": false
   },
   "outputs": [
    {
     "data": {
      "image/png": "[encoded data removed]",
      "text/plain": [
       "$0 \\leq \\left( \\left(2^{t}\\right) \\cdot \\delta \\right)$"
      ]
     },
     "metadata": {},
     "output_type": "display_data"
    },
    {
     "data": {
      "image/png": "[encoded data removed]",
      "text/plain": [
       "$\\left( \\left(2^{t}\\right) \\cdot \\delta \\right) \\leq 1$"
      ]
     },
     "metadata": {},
     "output_type": "display_data"
    }
   ],
   "source": [
    "display(scaledDeltaInInterval.domain.deduceMemberLowerBound(scaledDeltaInInterval.element).proven())\n",
    "display(scaledDeltaInInterval.domain.deduceMemberUpperBound(scaledDeltaInInterval.element).deriveRelaxed().proven())"
   ]
  },
  {
   "cell_type": "code",
   "execution_count": 43,
   "metadata": {
    "collapsed": false
   },
   "outputs": [
    {
     "data": {
      "image/png": "[encoded data removed]",
      "text/plain": [
       "$\\forall_{ x  \\in \\mathbb{R}~|~ \\left(0 \\leq x\\right) , \\left(x \\leq 1\\right) } \\left[\\forall_{ a  \\in \\mathbb{R}~|~ \\left(a \\geq 0\\right) } \\left[\\forall_{ l  \\in \\mathbb{Z}~|~ \\left(l \\leq 0\\right) } \\left(\\left( a \\cdot \\frac{1}{\\left(l - x\\right)^{2}} \\right) \\leq \\left( a \\cdot \\frac{1}{l^{2}} \\right)\\right)\\right]\\right]$"
      ]
     },
     "execution_count": 43,
     "metadata": {},
     "output_type": "execute_result"
    }
   ],
   "source": [
    "ineqThm7a"
   ]
  },
  {
   "cell_type": "code",
   "execution_count": 44,
   "metadata": {
    "collapsed": false
   },
   "outputs": [
    {
     "data": {
      "image/png": "[encoded data removed]",
      "text/plain": [
       "$\\forall_{ k  \\in \\{\\left( \\left(-\\left(2^{t - 1}\\right)\\right) + 1 \\right)\\ldots \\left(-\\left( \\varepsilon + 1 \\right)\\right)\\}} \\left(\\left( \\frac{1}{4} \\cdot \\frac{1}{\\left(k - \\left( \\left(2^{t}\\right) \\cdot \\delta \\right)\\right)^{2}} \\right) \\leq \\left( \\frac{1}{4} \\cdot \\frac{1}{k^{2}} \\right)\\right)$"
      ]
     },
     "execution_count": 44,
     "metadata": {},
     "output_type": "execute_result"
    }
   ],
   "source": [
    "Y6 = ineqThm7a.specialize({x:Multiply(Exponentiate(two,t_), delta_)}).specialize({a:Fraction(one,four)})\n",
    "Y6.specialize().generalize(l, domain=negDomain).relabel({l:k}).proven({epsInDomain})"
   ]
  },
  {
   "cell_type": "code",
   "execution_count": 45,
   "metadata": {
    "collapsed": false
   },
   "outputs": [
    {
     "data": {
      "image/png": "[encoded data removed]",
      "text/plain": [
       "$\\forall_{ x  \\in \\mathbb{R}~|~ \\left(0 \\leq x\\right) , \\left(x \\leq 1\\right) } \\left[\\forall_{ a  \\in \\mathbb{R}~|~ \\left(a \\geq 0\\right) } \\left[\\forall_{ l  \\in \\mathbb{Z}~|~ \\left(l > 0\\right) } \\left(\\left( a \\cdot \\frac{1}{\\left(l - x\\right)^{2}} \\right) \\leq \\left( a \\cdot \\frac{1}{\\left(l - 1\\right)^{2}} \\right)\\right)\\right]\\right]$"
      ]
     },
     "execution_count": 45,
     "metadata": {},
     "output_type": "execute_result"
    }
   ],
   "source": [
    "ineqThm8a"
   ]
  },
  {
   "cell_type": "code",
   "execution_count": 46,
   "metadata": {
    "collapsed": false
   },
   "outputs": [
    {
     "data": {
      "image/png": "[encoded data removed]",
      "text/plain": [
       "$\\forall_{ k  \\in \\{\\left( \\varepsilon + 1 \\right)\\ldots \\left(2^{t - 1}\\right)\\}} \\left(\\left( \\frac{1}{4} \\cdot \\frac{1}{\\left(k - \\left( \\left(2^{t}\\right) \\cdot \\delta \\right)\\right)^{2}} \\right) \\leq \\left( \\frac{1}{4} \\cdot \\frac{1}{\\left(k - 1\\right)^{2}} \\right)\\right)$"
      ]
     },
     "execution_count": 46,
     "metadata": {},
     "output_type": "execute_result"
    }
   ],
   "source": [
    "Y7 = ineqThm8a.specialize({x:Multiply(Exponentiate(two,t_), delta_)}).specialize({a:Fraction(one,four)}).proven()\n",
    "Y7.specialize().generalize(l, domain=posDomain).relabel({l:k}).proven({epsInDomain})"
   ]
  },
  {
   "cell_type": "code",
   "execution_count": 47,
   "metadata": {
    "collapsed": false
   },
   "outputs": [
    {
     "data": {
      "image/png": "[encoded data removed]",
      "text/plain": [
       "$\\forall_{ a , b } \\left[\\forall_{ m , n  \\in \\mathbb{Z}} \\left(\\left[\\forall_{ k  \\in \\{m\\ldots n\\}} \\left(a\\left( k \\right) \\leq b\\left( k \\right)\\right)\\right] \\Rightarrow \\left(\\left(\\sum_{l=m}^{n} a\\left( l \\right)\\right) \\leq \\left(\\sum_{l=m}^{n} b\\left( l \\right)\\right)\\right)\\right)\\right]$"
      ]
     },
     "execution_count": 47,
     "metadata": {},
     "output_type": "execute_result"
    }
   ],
   "source": [
    "sumIneq1"
   ]
  },
  {
   "cell_type": "code",
   "execution_count": 48,
   "metadata": {
    "collapsed": false
   },
   "outputs": [
    {
     "data": {
      "image/png": "[encoded data removed]",
      "text/plain": [
       "$\\left[\\forall_{ k  \\in \\{\\left( \\left(-\\left(2^{t - 1}\\right)\\right) + 1 \\right)\\ldots \\left(-\\left( \\varepsilon + 1 \\right)\\right)\\}} \\left(\\left( \\frac{1}{4} \\cdot \\frac{1}{\\left(k - \\left( \\left(2^{t}\\right) \\cdot \\delta \\right)\\right)^{2}} \\right) \\leq \\left( \\frac{1}{4} \\cdot \\frac{1}{k^{2}} \\right)\\right)\\right] \\Rightarrow \\left(\\left(\\sum_{l= \\left(-\\left(2^{t - 1}\\right)\\right) + 1 }^{-\\left( \\varepsilon + 1 \\right)} \\left( \\frac{1}{4} \\cdot \\frac{1}{\\left(l - \\left( \\left(2^{t}\\right) \\cdot \\delta \\right)\\right)^{2}} \\right)\\right) \\leq \\left(\\sum_{l= \\left(-\\left(2^{t - 1}\\right)\\right) + 1 }^{-\\left( \\varepsilon + 1 \\right)} \\left( \\frac{1}{4} \\cdot \\frac{1}{l^{2}} \\right)\\right)\\right)$"
      ]
     },
     "execution_count": 48,
     "metadata": {},
     "output_type": "execute_result"
    }
   ],
   "source": [
    "Y8 = sumIneq1.specialize({Operation(a,l):Y6.specialize().lhs, Operation(b,l):Y6.specialize().rhs}).specialize({m:negDomain.lowerBound, n:negDomain.upperBound})\n",
    "Y8.proven({epsInDomain})"
   ]
  },
  {
   "cell_type": "code",
   "execution_count": 49,
   "metadata": {
    "collapsed": false
   },
   "outputs": [
    {
     "data": {
      "image/png": "[encoded data removed]",
      "text/plain": [
       "$\\left[\\forall_{ k  \\in \\{\\left( \\varepsilon + 1 \\right)\\ldots \\left(2^{t - 1}\\right)\\}} \\left(\\left( \\frac{1}{4} \\cdot \\frac{1}{\\left(k - \\left( \\left(2^{t}\\right) \\cdot \\delta \\right)\\right)^{2}} \\right) \\leq \\left( \\frac{1}{4} \\cdot \\frac{1}{\\left(k - 1\\right)^{2}} \\right)\\right)\\right] \\Rightarrow \\left(\\left(\\sum_{l= \\varepsilon + 1 }^{2^{t - 1}} \\left( \\frac{1}{4} \\cdot \\frac{1}{\\left(l - \\left( \\left(2^{t}\\right) \\cdot \\delta \\right)\\right)^{2}} \\right)\\right) \\leq \\left(\\sum_{l= \\varepsilon + 1 }^{2^{t - 1}} \\left( \\frac{1}{4} \\cdot \\frac{1}{\\left(l - 1\\right)^{2}} \\right)\\right)\\right)$"
      ]
     },
     "execution_count": 49,
     "metadata": {},
     "output_type": "execute_result"
    }
   ],
   "source": [
    "Y9 = sumIneq1.specialize({Operation(a,l):Y7.specialize().lhs, Operation(b,l):Y7.specialize().rhs}).specialize({m:posDomain.lowerBound, n:posDomain.upperBound})\n",
    "Y9.proven({epsInDomain})"
   ]
  },
  {
   "cell_type": "code",
   "execution_count": 50,
   "metadata": {
    "collapsed": false
   },
   "outputs": [
    {
     "data": {
      "image/png": "[encoded data removed]",
      "text/plain": [
       "$ \\left(\\left(\\sum_{l= \\left(-\\left(2^{t - 1}\\right)\\right) + 1 }^{-\\left( \\varepsilon + 1 \\right)} \\left( \\frac{1}{4} \\cdot \\frac{1}{\\left(l - \\left( \\left(2^{t}\\right) \\cdot \\delta \\right)\\right)^{2}} \\right)\\right) \\leq \\left(\\sum_{l= \\left(-\\left(2^{t - 1}\\right)\\right) + 1 }^{-\\left( \\varepsilon + 1 \\right)} \\left( \\frac{1}{4} \\cdot \\frac{1}{l^{2}} \\right)\\right)\\right) \\land \\left(\\left(\\sum_{l= \\varepsilon + 1 }^{2^{t - 1}} \\left( \\frac{1}{4} \\cdot \\frac{1}{\\left(l - \\left( \\left(2^{t}\\right) \\cdot \\delta \\right)\\right)^{2}} \\right)\\right) \\leq \\left(\\sum_{l= \\varepsilon + 1 }^{2^{t - 1}} \\left( \\frac{1}{4} \\cdot \\frac{1}{\\left(l - 1\\right)^{2}} \\right)\\right)\\right) $"
      ]
     },
     "execution_count": 50,
     "metadata": {},
     "output_type": "execute_result"
    }
   ],
   "source": [
    "compose(Y8.conclusion, Y9.conclusion).proven({epsInDomain})"
   ]
  },
  {
   "cell_type": "code",
   "execution_count": 51,
   "metadata": {
    "collapsed": false
   },
   "outputs": [
    {
     "data": {
      "image/png": "[encoded data removed]",
      "text/plain": [
       "$\\forall_{ a , b , c , d  \\in \\mathbb{R}} \\left(\\left( \\left(a \\leq c\\right) \\land \\left(b \\leq d\\right) \\right) \\Rightarrow \\left(\\left( a + b \\right) \\leq \\left( c + d \\right)\\right)\\right)$"
      ]
     },
     "execution_count": 51,
     "metadata": {},
     "output_type": "execute_result"
    }
   ],
   "source": [
    "sumIneq2"
   ]
  },
  {
   "cell_type": "code",
   "execution_count": 52,
   "metadata": {
    "collapsed": false
   },
   "outputs": [
    {
     "data": {
      "image/png": "[encoded data removed]",
      "text/plain": [
       "$\\sum_{l= \\varepsilon + 1 }^{2^{t - 1}}  \\frac{1}{4} \\cdot \\frac{1}{\\left(l - 1\\right)^{2}} $"
      ]
     },
     "execution_count": 52,
     "metadata": {},
     "output_type": "execute_result"
    }
   ],
   "source": [
    "Y9.conclusion.rhs"
   ]
  },
  {
   "cell_type": "code",
   "execution_count": 53,
   "metadata": {
    "collapsed": false
   },
   "outputs": [
    {
     "data": {
      "image/png": "[encoded data removed]",
      "text/plain": [
       "$\\left(l - 1\\right) > 0$"
      ]
     },
     "execution_count": 53,
     "metadata": {},
     "output_type": "execute_result"
    }
   ],
   "source": [
    "deducePositive(Subtract(l, one), assumptions={epsInDomain, In(l, posDomain)})"
   ]
  },
  {
   "cell_type": "code",
   "execution_count": 54,
   "metadata": {
    "collapsed": false
   },
   "outputs": [
    {
     "data": {
      "image/png": "[encoded data removed]",
      "text/plain": [
       "$\\left(\\sum_{l= \\left(-\\left(2^{t - 1}\\right)\\right) + 1 }^{-\\left( \\varepsilon + 1 \\right)} \\left( \\frac{1}{4} \\cdot \\frac{1}{\\left(l - \\left( \\left(2^{t}\\right) \\cdot \\delta \\right)\\right)^{2}} \\right)\\right) \\in \\mathbb{R}$"
      ]
     },
     "metadata": {},
     "output_type": "display_data"
    },
    {
     "data": {
      "image/png": "[encoded data removed]",
      "text/plain": [
       "$\\left(\\sum_{l= \\varepsilon + 1 }^{2^{t - 1}} \\left( \\frac{1}{4} \\cdot \\frac{1}{\\left(l - \\left( \\left(2^{t}\\right) \\cdot \\delta \\right)\\right)^{2}} \\right)\\right) \\in \\mathbb{R}$"
      ]
     },
     "metadata": {},
     "output_type": "display_data"
    },
    {
     "data": {
      "image/png": "[encoded data removed]",
      "text/plain": [
       "$\\left(\\sum_{l= \\left(-\\left(2^{t - 1}\\right)\\right) + 1 }^{-\\left( \\varepsilon + 1 \\right)} \\left( \\frac{1}{4} \\cdot \\frac{1}{l^{2}} \\right)\\right) \\in \\mathbb{R}$"
      ]
     },
     "metadata": {},
     "output_type": "display_data"
    },
    {
     "data": {
      "image/png": "[encoded data removed]",
      "text/plain": [
       "$\\left(\\sum_{l= \\varepsilon + 1 }^{2^{t - 1}} \\left( \\frac{1}{4} \\cdot \\frac{1}{\\left(l - 1\\right)^{2}} \\right)\\right) \\in \\mathbb{R}$"
      ]
     },
     "metadata": {},
     "output_type": "display_data"
    }
   ],
   "source": [
    "display(X3.rhs.operands[0].deduceInReals({epsInDomain}))\n",
    "display(X3.rhs.operands[1].deduceInReals({epsInDomain}))\n",
    "display(Y8.conclusion.rhs.deduceInReals({epsInDomain}))\n",
    "display(Y9.conclusion.rhs.deduceInReals({epsInDomain}))"
   ]
  },
  {
   "cell_type": "code",
   "execution_count": 55,
   "metadata": {
    "collapsed": false
   },
   "outputs": [
    {
     "data": {
      "image/png": "[encoded data removed]",
      "text/plain": [
       "$\\left( \\left(\\left(\\sum_{l= \\left(-\\left(2^{t - 1}\\right)\\right) + 1 }^{-\\left( \\varepsilon + 1 \\right)} \\left( \\frac{1}{4} \\cdot \\frac{1}{\\left(l - \\left( \\left(2^{t}\\right) \\cdot \\delta \\right)\\right)^{2}} \\right)\\right) \\leq \\left(\\sum_{l= \\left(-\\left(2^{t - 1}\\right)\\right) + 1 }^{-\\left( \\varepsilon + 1 \\right)} \\left( \\frac{1}{4} \\cdot \\frac{1}{l^{2}} \\right)\\right)\\right) \\land \\left(\\left(\\sum_{l= \\varepsilon + 1 }^{2^{t - 1}} \\left( \\frac{1}{4} \\cdot \\frac{1}{\\left(l - \\left( \\left(2^{t}\\right) \\cdot \\delta \\right)\\right)^{2}} \\right)\\right) \\leq \\left(\\sum_{l= \\varepsilon + 1 }^{2^{t - 1}} \\left( \\frac{1}{4} \\cdot \\frac{1}{\\left(l - 1\\right)^{2}} \\right)\\right)\\right) \\right) \\Rightarrow \\left(\\left( \\left(\\sum_{l= \\left(-\\left(2^{t - 1}\\right)\\right) + 1 }^{-\\left( \\varepsilon + 1 \\right)} \\left( \\frac{1}{4} \\cdot \\frac{1}{\\left(l - \\left( \\left(2^{t}\\right) \\cdot \\delta \\right)\\right)^{2}} \\right)\\right) + \\left(\\sum_{l= \\varepsilon + 1 }^{2^{t - 1}} \\left( \\frac{1}{4} \\cdot \\frac{1}{\\left(l - \\left( \\left(2^{t}\\right) \\cdot \\delta \\right)\\right)^{2}} \\right)\\right) \\right) \\leq \\left( \\left(\\sum_{l= \\left(-\\left(2^{t - 1}\\right)\\right) + 1 }^{-\\left( \\varepsilon + 1 \\right)} \\left( \\frac{1}{4} \\cdot \\frac{1}{l^{2}} \\right)\\right) + \\left(\\sum_{l= \\varepsilon + 1 }^{2^{t - 1}} \\left( \\frac{1}{4} \\cdot \\frac{1}{\\left(l - 1\\right)^{2}} \\right)\\right) \\right)\\right)$"
      ]
     },
     "execution_count": 55,
     "metadata": {},
     "output_type": "execute_result"
    }
   ],
   "source": [
    "Y10 = sumIneq2.specialize({a:X3.rhs.operands[0], b:X3.rhs.operands[1], c:Y8.conclusion.rhs, d:Y9.conclusion.rhs})\n",
    "Y10.proven({In(Y9.conclusion.rhs,Reals), epsInDomain, lInDomain})"
   ]
  },
  {
   "cell_type": "code",
   "execution_count": 56,
   "metadata": {
    "collapsed": false
   },
   "outputs": [
    {
     "data": {
      "image/png": "[encoded data removed]",
      "text/plain": [
       "$\\left( \\left(\\sum_{l= \\left(-\\left(2^{t - 1}\\right)\\right) + 1 }^{-\\left( \\varepsilon + 1 \\right)} \\left( \\frac{1}{4} \\cdot \\frac{1}{\\left(l - \\left( \\left(2^{t}\\right) \\cdot \\delta \\right)\\right)^{2}} \\right)\\right) + \\left(\\sum_{l= \\varepsilon + 1 }^{2^{t - 1}} \\left( \\frac{1}{4} \\cdot \\frac{1}{\\left(l - \\left( \\left(2^{t}\\right) \\cdot \\delta \\right)\\right)^{2}} \\right)\\right) \\right) \\leq \\left( \\left(\\sum_{l= \\left(-\\left(2^{t - 1}\\right)\\right) + 1 }^{-\\left( \\varepsilon + 1 \\right)} \\left( \\frac{1}{4} \\cdot \\frac{1}{l^{2}} \\right)\\right) + \\left(\\sum_{l= \\varepsilon + 1 }^{2^{t - 1}} \\left( \\frac{1}{4} \\cdot \\frac{1}{\\left(l - 1\\right)^{2}} \\right)\\right) \\right)$"
      ]
     },
     "execution_count": 56,
     "metadata": {},
     "output_type": "execute_result"
    }
   ],
   "source": [
    "Y10.conclusion.proven({epsInDomain, lInDomain})"
   ]
  },
  {
   "cell_type": "code",
   "execution_count": 57,
   "metadata": {
    "collapsed": false
   },
   "outputs": [
    {
     "data": {
      "image/png": "[encoded data removed]",
      "text/plain": [
       "$\\varepsilon \\in \\{1\\ldots \\left(\\left(2^{t - 1}\\right) - 2\\right)\\}$"
      ]
     },
     "execution_count": 57,
     "metadata": {},
     "output_type": "execute_result"
    }
   ],
   "source": [
    "X4 = Relation(X3).update(Y10.conclusion)\n",
    "epsInDomain"
   ]
  },
  {
   "cell_type": "code",
   "execution_count": 58,
   "metadata": {
    "collapsed": false
   },
   "outputs": [
    {
     "data": {
      "image/png": "[encoded data removed]",
      "text/plain": [
       "$\\left( \\left(\\sum_{l= \\left(-\\left(2^{t - 1}\\right)\\right) + 1 }^{-\\left( \\varepsilon + 1 \\right)} \\left( \\frac{1}{4} \\cdot \\frac{1}{l^{2}} \\right)\\right) + \\left(\\sum_{l= \\varepsilon + 1 }^{2^{t - 1}} \\left( \\frac{1}{4} \\cdot \\frac{1}{\\left(l - 1\\right)^{2}} \\right)\\right) \\right) \\in \\mathbb{C}$"
      ]
     },
     "execution_count": 58,
     "metadata": {},
     "output_type": "execute_result"
    }
   ],
   "source": [
    "deduceInComplexes(X4.rhs, {epsInDomain}).proven({epsInDomain})"
   ]
  },
  {
   "cell_type": "code",
   "execution_count": 59,
   "metadata": {
    "collapsed": false
   },
   "outputs": [
    {
     "data": {
      "image/png": "[encoded data removed]",
      "text/plain": [
       "$\\left(\\sum_{l= \\left(-\\left(2^{t - 1}\\right)\\right) + 1 }^{-\\left( \\varepsilon + 1 \\right)} \\left( \\frac{1}{4} \\cdot \\frac{1}{l^{2}} \\right)\\right) = \\left( \\frac{1}{4} \\cdot \\left(\\sum_{l= \\left(-\\left(2^{t - 1}\\right)\\right) + 1 }^{-\\left( \\varepsilon + 1 \\right)} \\frac{1}{l^{2}}\\right) \\right)$"
      ]
     },
     "execution_count": 59,
     "metadata": {},
     "output_type": "execute_result"
    }
   ],
   "source": [
    "X4.rhs.operands[0].factor(Fraction(one,four),assumptions={epsInDomain})"
   ]
  },
  {
   "cell_type": "code",
   "execution_count": 60,
   "metadata": {
    "collapsed": false
   },
   "outputs": [
    {
     "data": {
      "image/png": "[encoded data removed]",
      "text/plain": [
       "$\\left(\\sum_{l= \\left(-\\left(2^{t - 1}\\right)\\right) + 1 }^{-\\left( \\varepsilon + 1 \\right)} \\left( \\frac{1}{4} \\cdot \\frac{1}{l^{2}} \\right)\\right) = \\left( \\frac{1}{4} \\cdot \\left(\\sum_{l= \\left(-\\left(2^{t - 1}\\right)\\right) + 1 }^{-\\left( \\varepsilon + 1 \\right)} \\frac{1}{l^{2}}\\right) \\right)$"
      ]
     },
     "execution_count": 60,
     "metadata": {},
     "output_type": "execute_result"
    }
   ],
   "source": [
    "X4.rhs.operands[0].factor(Fraction(one,four),assumptions={epsInDomain}).proven({epsInDomain})"
   ]
  },
  {
   "cell_type": "code",
   "execution_count": 61,
   "metadata": {
    "collapsed": false
   },
   "outputs": [
    {
     "data": {
      "image/png": "[encoded data removed]",
      "text/plain": [
       "$P_{\\rm fail}\\left( \\varepsilon \\right) \\leq \\left( \\left( \\frac{1}{4} \\cdot \\left(\\sum_{l= \\left(-\\left(2^{t - 1}\\right)\\right) + 1 }^{-\\left( \\varepsilon + 1 \\right)} \\frac{1}{l^{2}}\\right) \\right) + \\left( \\frac{1}{4} \\cdot \\left(\\sum_{l= \\varepsilon + 1 }^{2^{t - 1}} \\frac{1}{\\left(l - 1\\right)^{2}}\\right) \\right) \\right)$"
      ]
     },
     "execution_count": 61,
     "metadata": {},
     "output_type": "execute_result"
    }
   ],
   "source": [
    "X5 = X4.rhs.operands[0].factor(Fraction(one,four),assumptions={epsInDomain}).subRightSideInto(X4).proven({epsInDomain})\n",
    "X6 = X5.rhs.operands[1].factor(Fraction(one,four),assumptions={epsInDomain}).subRightSideInto(X5).proven({epsInDomain})\n",
    "X6"
   ]
  },
  {
   "cell_type": "code",
   "execution_count": 62,
   "metadata": {
    "collapsed": false
   },
   "outputs": [
    {
     "data": {
      "image/png": "[encoded data removed]",
      "text/plain": [
       "$P_{\\rm fail}\\left( \\varepsilon \\right) \\leq \\left( \\frac{1}{4} \\cdot \\left( \\left(\\sum_{l= \\left(-\\left(2^{t - 1}\\right)\\right) + 1 }^{-\\left( \\varepsilon + 1 \\right)} \\frac{1}{l^{2}}\\right) + \\left(\\sum_{l= \\varepsilon + 1 }^{2^{t - 1}} \\frac{1}{\\left(l - 1\\right)^{2}}\\right) \\right) \\right)$"
      ]
     },
     "execution_count": 62,
     "metadata": {},
     "output_type": "execute_result"
    }
   ],
   "source": [
    "X7 = X6.rhs.factor(Fraction(one, four), pull='left', assumptions={epsInDomain}).subRightSideInto(X6)\n",
    "X7.proven({epsInDomain})"
   ]
  },
  {
   "cell_type": "code",
   "execution_count": 63,
   "metadata": {
    "collapsed": false
   },
   "outputs": [
    {
     "data": {
      "image/png": "[encoded data removed]",
      "text/plain": [
       "$\\forall_{ f } \\left[\\forall_{ a , b , c  \\in \\mathbb{Z}} \\left(\\left(\\sum_{x=a}^{b} f\\left( x \\right)\\right) = \\left(\\sum_{x= a + c }^{ b + c } f\\left( x - c \\right)\\right)\\right)\\right]$"
      ]
     },
     "execution_count": 63,
     "metadata": {},
     "output_type": "execute_result"
    }
   ],
   "source": [
    "indexShift"
   ]
  },
  {
   "cell_type": "code",
   "execution_count": 64,
   "metadata": {
    "collapsed": false
   },
   "outputs": [
    {
     "data": {
      "image/png": "[encoded data removed]",
      "text/plain": [
       "$P_{\\rm fail}\\left( \\varepsilon \\right) \\leq \\left( \\frac{1}{4} \\cdot \\left( \\left(\\sum_{l= \\left(-\\left(2^{t - 1}\\right)\\right) + 1 }^{-\\left( \\varepsilon + 1 \\right)} \\frac{1}{l^{2}}\\right) + \\left(\\sum_{l= \\left( \\varepsilon + 1 \\right) + \\left(-1\\right) }^{ \\left(2^{t - 1}\\right) + \\left(-1\\right) } \\frac{1}{\\left(\\left(l - \\left(-1\\right)\\right) - 1\\right)^{2}}\\right) \\right) \\right)$"
      ]
     },
     "execution_count": 64,
     "metadata": {},
     "output_type": "execute_result"
    }
   ],
   "source": [
    "deduceInIntegers(negDomain.lowerBound, {epsInDomain})\n",
    "deduceInIntegers(negDomain.upperBound, {epsInDomain})\n",
    "deduceInIntegers(Neg(one))\n",
    "Y11 = indexShift.specialize({Operation(f,l):X7.rhs.operands[1].operands[1].summand,x:l}).specialize({c:Neg(one),a:X7.rhs.operands[1].operands[1].domain.lowerBound, b:X7.rhs.operands[1].operands[1].domain.upperBound}).subRightSideInto(X7)\n",
    "Y11.proven({epsInDomain})"
   ]
  },
  {
   "cell_type": "code",
   "execution_count": 65,
   "metadata": {
    "collapsed": false
   },
   "outputs": [
    {
     "data": {
      "image/png": "[encoded data removed]",
      "text/plain": [
       "$\\{ \\left( \\varepsilon + 1 \\right) + \\left(-1\\right) \\ldots  \\left(2^{t - 1}\\right) + \\left(-1\\right) \\}$"
      ]
     },
     "execution_count": 65,
     "metadata": {},
     "output_type": "execute_result"
    }
   ],
   "source": [
    "shiftedDomain = Y11.rhs.operands[1].operands[1].domain\n",
    "shiftedDomain"
   ]
  },
  {
   "cell_type": "code",
   "execution_count": 66,
   "metadata": {
    "collapsed": false
   },
   "outputs": [
    {
     "data": {
      "image/png": "[encoded data removed]",
      "text/plain": [
       "$\\frac{1}{\\left(\\left(l - \\left(-1\\right)\\right) - 1\\right)^{2}}$"
      ]
     },
     "execution_count": 66,
     "metadata": {},
     "output_type": "execute_result"
    }
   ],
   "source": [
    "summandToSimplify = Y11.rhs.operands[1].operands[1].summand\n",
    "summandToSimplify"
   ]
  },
  {
   "cell_type": "code",
   "execution_count": 67,
   "metadata": {
    "collapsed": false
   },
   "outputs": [
    {
     "data": {
      "image/png": "[encoded data removed]",
      "text/plain": [
       "$\\forall_{ a , b  \\in \\mathbb{C}} \\left(\\left(\\left(a - \\left(-b\\right)\\right) - b\\right) = a\\right)$"
      ]
     },
     "execution_count": 67,
     "metadata": {},
     "output_type": "execute_result"
    }
   ],
   "source": [
    "cancelSubAndAdd"
   ]
  },
  {
   "cell_type": "code",
   "execution_count": 68,
   "metadata": {
    "collapsed": false
   },
   "outputs": [
    {
     "data": {
      "image/png": "[encoded data removed]",
      "text/plain": [
       "$\\left(\\left(l - \\left(-1\\right)\\right) - 1\\right) = l$"
      ]
     },
     "execution_count": 68,
     "metadata": {},
     "output_type": "execute_result"
    }
   ],
   "source": [
    "lShiftCancellation = cancelSubAndAdd.specialize({a:l,b:one})\n",
    "lShiftCancellation"
   ]
  },
  {
   "cell_type": "code",
   "execution_count": 69,
   "metadata": {
    "collapsed": false
   },
   "outputs": [
    {
     "data": {
      "image/png": "[encoded data removed]",
      "text/plain": [
       "$l \\in \\mathbb{Z}$"
      ]
     },
     "metadata": {},
     "output_type": "display_data"
    },
    {
     "data": {
      "image/png": "[encoded data removed]",
      "text/plain": [
       "$\\left(\\left(l - \\left(-1\\right)\\right) - 1\\right) \\in \\mathbb{C}$"
      ]
     },
     "metadata": {},
     "output_type": "display_data"
    },
    {
     "data": {
      "image/png": "[encoded data removed]",
      "text/plain": [
       "$l \\in \\mathbb{C}$"
      ]
     },
     "metadata": {},
     "output_type": "display_data"
    },
    {
     "data": {
      "image/png": "[encoded data removed]",
      "text/plain": [
       "$\\frac{1}{\\left(\\left(l - \\left(-1\\right)\\right) - 1\\right)^{2}} = \\frac{1}{l^{2}}$"
      ]
     },
     "metadata": {},
     "output_type": "display_data"
    },
    {
     "data": {
      "image/png": "[encoded data removed]",
      "text/plain": [
       "$\\forall_{ k  \\in \\{\\left( \\left( \\varepsilon + 1 \\right) + \\left(-1\\right) \\right)\\ldots \\left( \\left(2^{t - 1}\\right) + \\left(-1\\right) \\right)\\}} \\left(\\frac{1}{\\left(\\left(k - \\left(-1\\right)\\right) - 1\\right)^{2}} = \\frac{1}{k^{2}}\\right)$"
      ]
     },
     "execution_count": 69,
     "metadata": {},
     "output_type": "execute_result"
    }
   ],
   "source": [
    "display(shiftedDomain.deduceMemberInIntegers(l, {epsInDomain}).proven({epsInDomain, In(l, shiftedDomain)}))\n",
    "display(deduceInComplexes(lShiftCancellation.lhs, {epsInDomain, In(l, shiftedDomain)}))\n",
    "display(deduceInComplexes(lShiftCancellation.rhs, {epsInDomain, In(l, shiftedDomain)}))\n",
    "summandSimplification = lShiftCancellation.substitution(summandToSimplify)\n",
    "display(summandSimplification)\n",
    "summandSimplification.generalize(l, domain=shiftedDomain).relabel({l:k}).proven({epsInDomain})"
   ]
  },
  {
   "cell_type": "code",
   "execution_count": 70,
   "metadata": {
    "collapsed": false
   },
   "outputs": [
    {
     "data": {
      "image/png": "[encoded data removed]",
      "text/plain": [
       "$\\forall_{ f , g } \\left[\\forall_{ m , n  \\in \\mathbb{Z}} \\left(\\left[\\forall_{ k  \\in \\{m\\ldots n\\}} \\left(f\\left( k \\right) = g\\left( k \\right)\\right)\\right] \\Rightarrow \\left(\\left(\\sum_{l=m}^{n} f\\left( l \\right)\\right) = \\left(\\sum_{l=m}^{n} g\\left( l \\right)\\right)\\right)\\right)\\right]$"
      ]
     },
     "execution_count": 70,
     "metadata": {},
     "output_type": "execute_result"
    }
   ],
   "source": [
    "sumEq"
   ]
  },
  {
   "cell_type": "code",
   "execution_count": 71,
   "metadata": {
    "collapsed": false
   },
   "outputs": [
    {
     "data": {
      "image/png": "[encoded data removed]",
      "text/plain": [
       "$\\left(\\sum_{l= \\left( \\varepsilon + 1 \\right) + \\left(-1\\right) }^{ \\left(2^{t - 1}\\right) + \\left(-1\\right) } \\frac{1}{\\left(\\left(l - \\left(-1\\right)\\right) - 1\\right)^{2}}\\right) = \\left(\\sum_{l= \\left( \\varepsilon + 1 \\right) + \\left(-1\\right) }^{ \\left(2^{t - 1}\\right) + \\left(-1\\right) } \\frac{1}{l^{2}}\\right)$"
      ]
     },
     "execution_count": 71,
     "metadata": {},
     "output_type": "execute_result"
    }
   ],
   "source": [
    "deduceInIntegers(shiftedDomain.lowerBound, {epsInDomain})\n",
    "deduceInIntegers(shiftedDomain.upperBound, {epsInDomain})\n",
    "Y12 = sumEq.specialize({Operation(f,l):summandToSimplify, Operation(g,l):summandSimplification.rhs}).specialize({m:shiftedDomain.lowerBound, n:shiftedDomain.upperBound})\n",
    "Y12.conclusion.proven({epsInDomain})"
   ]
  },
  {
   "cell_type": "code",
   "execution_count": 72,
   "metadata": {
    "collapsed": false
   },
   "outputs": [
    {
     "data": {
      "image/png": "[encoded data removed]",
      "text/plain": [
       "$P_{\\rm fail}\\left( \\varepsilon \\right) \\leq \\left( \\frac{1}{4} \\cdot \\left( \\left(\\sum_{l= \\left(-\\left(2^{t - 1}\\right)\\right) + 1 }^{-\\left( \\varepsilon + 1 \\right)} \\frac{1}{l^{2}}\\right) + \\left(\\sum_{l= \\left( \\varepsilon + 1 \\right) + \\left(-1\\right) }^{ \\left(2^{t - 1}\\right) + \\left(-1\\right) } \\frac{1}{l^{2}}\\right) \\right) \\right)$"
      ]
     },
     "execution_count": 72,
     "metadata": {},
     "output_type": "execute_result"
    }
   ],
   "source": [
    "X8 = Y12.conclusion.subRightSideInto(Y11)\n",
    "X8.proven({epsInDomain})"
   ]
  },
  {
   "cell_type": "code",
   "execution_count": 73,
   "metadata": {
    "collapsed": false
   },
   "outputs": [
    {
     "data": {
      "image/png": "[encoded data removed]",
      "text/plain": [
       "$\\forall_{ f  \\in EvenFuncs} \\left[\\forall_{ a , b  \\in \\mathbb{Z}} \\left(\\left(\\sum_{x=a}^{b} f\\left( x \\right)\\right) = \\left(\\sum_{x=-b}^{-a} f\\left( x \\right)\\right)\\right)\\right]$"
      ]
     },
     "execution_count": 73,
     "metadata": {},
     "output_type": "execute_result"
    }
   ],
   "source": [
    "evenFuncSum"
   ]
  },
  {
   "cell_type": "code",
   "execution_count": 74,
   "metadata": {
    "collapsed": false
   },
   "outputs": [
    {
     "data": {
      "image/png": "[encoded data removed]",
      "text/plain": [
       "$P_{\\rm fail}\\left( \\varepsilon \\right) \\leq \\left( \\frac{1}{4} \\cdot \\left( \\left(\\sum_{l=-\\left(-\\left( \\varepsilon + 1 \\right)\\right)}^{-\\left( \\left(-\\left(2^{t - 1}\\right)\\right) + 1 \\right)} \\frac{1}{l^{2}}\\right) + \\left(\\sum_{l= \\left( \\varepsilon + 1 \\right) + \\left(-1\\right) }^{ \\left(2^{t - 1}\\right) + \\left(-1\\right) } \\frac{1}{l^{2}}\\right) \\right) \\right)$"
      ]
     },
     "execution_count": 74,
     "metadata": {},
     "output_type": "execute_result"
    }
   ],
   "source": [
    "X9 = evenFuncSum.specialize({Operation(f,l):X8.rhs.operands[1].operands[0].summand, x:l}).specialize({a:X8.rhs.operands[1].operands[0].domain.lowerBound, b:X8.rhs.operands[1].operands[0].domain.upperBound}).subRightSideInto(X8)\n",
    "X9.proven({epsInDomain})"
   ]
  },
  {
   "cell_type": "code",
   "execution_count": 75,
   "metadata": {
    "collapsed": false
   },
   "outputs": [
    {
     "data": {
      "image/png": "[encoded data removed]",
      "text/plain": [
       "$\\left(-\\left( \\left(-\\left(2^{t - 1}\\right)\\right) + 1 \\right)\\right) = \\left( \\left(2^{t - 1}\\right) + \\left(-1\\right) \\right)$"
      ]
     },
     "execution_count": 75,
     "metadata": {},
     "output_type": "execute_result"
    }
   ],
   "source": [
    "cleanLimits1a = X9.rhs.operands[1].terms[0].domain.upperBound.distribute()\n",
    "cleanLimits1a.proven()"
   ]
  },
  {
   "cell_type": "code",
   "execution_count": 76,
   "metadata": {
    "collapsed": false
   },
   "outputs": [
    {
     "data": {
      "image/png": "[encoded data removed]",
      "text/plain": [
       "$\\left(-\\left( \\left(-\\left(2^{t - 1}\\right)\\right) + 1 \\right)\\right) = \\left(\\left(2^{t - 1}\\right) - 1\\right)$"
      ]
     },
     "execution_count": 76,
     "metadata": {},
     "output_type": "execute_result"
    }
   ],
   "source": [
    "cleanLimits1 = cleanLimits1a.rhs.subtractionFolding(1).subRightSideInto(cleanLimits1a)\n",
    "cleanLimits1.proven()"
   ]
  },
  {
   "cell_type": "code",
   "execution_count": 77,
   "metadata": {
    "collapsed": false
   },
   "outputs": [
    {
     "data": {
      "image/png": "[encoded data removed]",
      "text/plain": [
       "$\\left(-\\left(-\\left( \\varepsilon + 1 \\right)\\right)\\right) = \\left( \\varepsilon + 1 \\right)$"
      ]
     },
     "execution_count": 77,
     "metadata": {},
     "output_type": "execute_result"
    }
   ],
   "source": [
    "cleanLimits2 = X9.rhs.operands[1].terms[0].domain.lowerBound.simplification({epsInDomain})\n",
    "cleanLimits2.proven({epsInDomain})"
   ]
  },
  {
   "cell_type": "code",
   "execution_count": 78,
   "metadata": {
    "collapsed": false
   },
   "outputs": [
    {
     "data": {
      "image/png": "[encoded data removed]",
      "text/plain": [
       "$\\left( \\left(2^{t - 1}\\right) + \\left(-1\\right) \\right) = \\left(\\left(2^{t - 1}\\right) - 1\\right)$"
      ]
     },
     "execution_count": 78,
     "metadata": {},
     "output_type": "execute_result"
    }
   ],
   "source": [
    "cleanLimits3 = addNegAsSubtract.specialize({x:two_pow_t_minus_one, y:one})\n",
    "cleanLimits3.proven({epsInDomain})"
   ]
  },
  {
   "cell_type": "code",
   "execution_count": 79,
   "metadata": {
    "collapsed": false
   },
   "outputs": [
    {
     "data": {
      "image/png": "[encoded data removed]",
      "text/plain": [
       "$\\left( \\left( \\varepsilon + 1 \\right) + \\left(-1\\right) \\right) = \\varepsilon$"
      ]
     },
     "execution_count": 79,
     "metadata": {},
     "output_type": "execute_result"
    }
   ],
   "source": [
    "deduceInComplexes(eps, {epsInDomain})\n",
    "cleanLimits4 = cancelAddNeg.specialize({a:eps, b:one})\n",
    "cleanLimits4.proven({epsInDomain})"
   ]
  },
  {
   "cell_type": "code",
   "execution_count": 80,
   "metadata": {
    "collapsed": false
   },
   "outputs": [
    {
     "data": {
      "image/png": "[encoded data removed]",
      "text/plain": [
       "$P_{\\rm fail}\\left( \\varepsilon \\right) \\leq \\left( \\frac{1}{4} \\cdot \\left( \\left(\\sum_{l= \\varepsilon + 1 }^{\\left(2^{t - 1}\\right) - 1} \\frac{1}{l^{2}}\\right) + \\left(\\sum_{l=\\varepsilon}^{\\left(2^{t - 1}\\right) - 1} \\frac{1}{l^{2}}\\right) \\right) \\right)$"
      ]
     },
     "execution_count": 80,
     "metadata": {},
     "output_type": "execute_result"
    }
   ],
   "source": [
    "X10 = cleanLimits1.subRightSideInto(X9)\n",
    "X10 = cleanLimits2.subRightSideInto(X10)\n",
    "X10 = cleanLimits3.subRightSideInto(X10)\n",
    "X10 = cleanLimits4.subRightSideInto(X10)\n",
    "X10.proven({epsInDomain})"
   ]
  },
  {
   "cell_type": "code",
   "execution_count": 81,
   "metadata": {
    "collapsed": false
   },
   "outputs": [
    {
     "data": {
      "image/png": "[encoded data removed]",
      "text/plain": [
       "$\\sum_{l=\\varepsilon}^{\\left(2^{t - 1}\\right) - 1} \\frac{1}{l^{2}}$"
      ]
     },
     "execution_count": 81,
     "metadata": {},
     "output_type": "execute_result"
    }
   ],
   "source": [
    "X10secondSummation = X10.rhs.operands[1].operands[1]\n",
    "X10secondSummation"
   ]
  },
  {
   "cell_type": "code",
   "execution_count": 82,
   "metadata": {
    "collapsed": false
   },
   "outputs": [
    {
     "data": {
      "image/png": "[encoded data removed]",
      "text/plain": [
       "$l \\in \\mathbb{Z}$"
      ]
     },
     "execution_count": 82,
     "metadata": {},
     "output_type": "execute_result"
    }
   ],
   "source": [
    "X10secondSummation.domain.deduceMemberInIntegers(l, {epsInDomain}).proven({epsInDomain, In(l, X10secondSummation.domain)})"
   ]
  },
  {
   "cell_type": "code",
   "execution_count": 83,
   "metadata": {
    "collapsed": false
   },
   "outputs": [
    {
     "data": {
      "image/png": "[encoded data removed]",
      "text/plain": [
       "$\\varepsilon \\leq l$"
      ]
     },
     "execution_count": 83,
     "metadata": {},
     "output_type": "execute_result"
    }
   ],
   "source": [
    "X10secondSummationLowerBound = X10secondSummation.domain.deduceMemberLowerBound(l, {epsInDomain})\n",
    "X10secondSummationLowerBound.proven({epsInDomain, In(l, X10secondSummation.domain)})"
   ]
  },
  {
   "cell_type": "code",
   "execution_count": 84,
   "metadata": {
    "collapsed": false
   },
   "outputs": [
    {
     "data": {
      "image/png": "[encoded data removed]",
      "text/plain": [
       "$l > 0$"
      ]
     },
     "execution_count": 84,
     "metadata": {},
     "output_type": "execute_result"
    }
   ],
   "source": [
    "deducePositive(eps, {epsInDomain}).applyTransitivity(X10secondSummationLowerBound)"
   ]
  },
  {
   "cell_type": "code",
   "execution_count": 85,
   "metadata": {
    "collapsed": false
   },
   "outputs": [
    {
     "data": {
      "image/png": "[encoded data removed]",
      "text/plain": [
       "$\\left( \\left(\\left(2^{t - 1}\\right) - 2\\right) + 1 \\right) > \\varepsilon$"
      ]
     },
     "execution_count": 85,
     "metadata": {},
     "output_type": "execute_result"
    }
   ],
   "source": [
    "epsStrictUpperBound1 = Add(epsUpperBound.rhs, one).deduceStrictIncrease(0, {epsInDomain}).applyTransitivity(epsUpperBound)\n",
    "epsStrictUpperBound1.proven({epsInDomain})"
   ]
  },
  {
   "cell_type": "code",
   "execution_count": 86,
   "metadata": {
    "collapsed": false
   },
   "outputs": [
    {
     "data": {
      "image/png": "[encoded data removed]",
      "text/plain": [
       "$\\left(\\left(2^{t - 1}\\right) - 1\\right) > \\varepsilon$"
      ]
     },
     "execution_count": 86,
     "metadata": {},
     "output_type": "execute_result"
    }
   ],
   "source": [
    "epsStrictUpperBound2 = epsStrictUpperBound1.applyTransitivity(subTwoAddOne.specialize({a:two_pow_t_minus_one}))\n",
    "epsStrictUpperBound2.proven({epsInDomain})"
   ]
  },
  {
   "cell_type": "code",
   "execution_count": 87,
   "metadata": {
    "collapsed": false
   },
   "outputs": [
    {
     "data": {
      "image/png": "[encoded data removed]",
      "text/plain": [
       "$\\varepsilon < \\left(\\left(2^{t - 1}\\right) - 1\\right)$"
      ]
     },
     "execution_count": 87,
     "metadata": {},
     "output_type": "execute_result"
    }
   ],
   "source": [
    "epsStrictUpperBound = epsStrictUpperBound2.deriveReversed()\n",
    "epsStrictUpperBound.proven({epsInDomain})"
   ]
  },
  {
   "cell_type": "code",
   "execution_count": 88,
   "metadata": {
    "collapsed": false
   },
   "outputs": [
    {
     "data": {
      "image/png": "[encoded data removed]",
      "text/plain": [
       "$\\left(\\sum_{l=\\varepsilon}^{\\left(2^{t - 1}\\right) - 1} \\frac{1}{l^{2}}\\right) = \\left( \\frac{1}{\\varepsilon^{2}} + \\left(\\sum_{l= \\varepsilon + 1 }^{\\left(2^{t - 1}\\right) - 1} \\frac{1}{l^{2}}\\right) \\right)$"
      ]
     },
     "execution_count": 88,
     "metadata": {},
     "output_type": "execute_result"
    }
   ],
   "source": [
    "Y13 = X10.rhs.operands[1].operands[1].splitOffFirst({epsInDomain})\n",
    "Y13.proven({epsInDomain})"
   ]
  },
  {
   "cell_type": "code",
   "execution_count": 89,
   "metadata": {
    "collapsed": false
   },
   "outputs": [
    {
     "data": {
      "image/png": "[encoded data removed]",
      "text/plain": [
       "$\\left(\\left(\\sum_{l=\\varepsilon}^{\\left(2^{t - 1}\\right) - 1} \\frac{1}{l^{2}}\\right) - \\frac{1}{\\varepsilon^{2}}\\right) = \\left(\\left( \\frac{1}{\\varepsilon^{2}} + \\left(\\sum_{l= \\varepsilon + 1 }^{\\left(2^{t - 1}\\right) - 1} \\frac{1}{l^{2}}\\right) \\right) - \\frac{1}{\\varepsilon^{2}}\\right)$"
      ]
     },
     "execution_count": 89,
     "metadata": {},
     "output_type": "execute_result"
    }
   ],
   "source": [
    "Y14 = Y13.substitution(Subtract(X, Fraction(one, Exponentiate(eps, two))), X)\n",
    "Y14.proven({epsInDomain})"
   ]
  },
  {
   "cell_type": "code",
   "execution_count": 90,
   "metadata": {
    "collapsed": false
   },
   "outputs": [
    {
     "data": {
      "image/png": "[encoded data removed]",
      "text/plain": [
       "$\\left( \\varepsilon + 1 \\right) \\leq l$"
      ]
     },
     "execution_count": 90,
     "metadata": {},
     "output_type": "execute_result"
    }
   ],
   "source": [
    "X10firstSummation = X10.rhs.operands[1].operands[0]\n",
    "X10firstSummationLowerBound = X10firstSummation.domain.deduceMemberLowerBound(l, {epsInDomain})\n",
    "X10firstSummationLowerBound.proven({epsInDomain, In(l, X10firstSummation.domain)})"
   ]
  },
  {
   "cell_type": "code",
   "execution_count": 91,
   "metadata": {
    "collapsed": false
   },
   "outputs": [
    {
     "data": {
      "image/png": "[encoded data removed]",
      "text/plain": [
       "$l > \\varepsilon$"
      ]
     },
     "execution_count": 91,
     "metadata": {},
     "output_type": "execute_result"
    }
   ],
   "source": [
    "X10firstSummationStrictLowerBound = X10firstSummationLowerBound.lhs.deduceStrictIncrease(0, {epsInDomain}).applyTransitivity(X10firstSummationLowerBound)\n",
    "X10firstSummationStrictLowerBound.proven({epsInDomain, In(l, X10firstSummation.domain)})"
   ]
  },
  {
   "cell_type": "code",
   "execution_count": 92,
   "metadata": {
    "collapsed": false
   },
   "outputs": [
    {
     "data": {
      "image/png": "[encoded data removed]",
      "text/plain": [
       "$l > 0$"
      ]
     },
     "execution_count": 92,
     "metadata": {},
     "output_type": "execute_result"
    }
   ],
   "source": [
    "deducePositive(eps, {epsInDomain}).applyTransitivity(X10firstSummationStrictLowerBound).proven({epsInDomain, In(l, X10firstSummation.domain)})"
   ]
  },
  {
   "cell_type": "code",
   "execution_count": 93,
   "metadata": {
    "collapsed": false
   },
   "outputs": [
    {
     "data": {
      "image/png": "[encoded data removed]",
      "text/plain": [
       "$\\left(\\left(\\sum_{l=\\varepsilon}^{\\left(2^{t - 1}\\right) - 1} \\frac{1}{l^{2}}\\right) - \\frac{1}{\\varepsilon^{2}}\\right) = \\left(\\sum_{l= \\varepsilon + 1 }^{\\left(2^{t - 1}\\right) - 1} \\frac{1}{l^{2}}\\right)$"
      ]
     },
     "execution_count": 93,
     "metadata": {},
     "output_type": "execute_result"
    }
   ],
   "source": [
    "Y15 = Y14.rhs.cancel(assumptions={epsInDomain}).subRightSideInto(Y14)\n",
    "Y15.proven({epsInDomain})"
   ]
  },
  {
   "cell_type": "code",
   "execution_count": 94,
   "metadata": {
    "collapsed": false
   },
   "outputs": [
    {
     "data": {
      "image/png": "[encoded data removed]",
      "text/plain": [
       "$P_{\\rm fail}\\left( \\varepsilon \\right) \\leq \\left( \\frac{1}{4} \\cdot \\left( \\left(\\left(\\sum_{l=\\varepsilon}^{\\left(2^{t - 1}\\right) - 1} \\frac{1}{l^{2}}\\right) - \\frac{1}{\\varepsilon^{2}}\\right) + \\left(\\sum_{l=\\varepsilon}^{\\left(2^{t - 1}\\right) - 1} \\frac{1}{l^{2}}\\right) \\right) \\right)$"
      ]
     },
     "execution_count": 94,
     "metadata": {},
     "output_type": "execute_result"
    }
   ],
   "source": [
    "X11 = Y15.subLeftSideInto(X10)\n",
    "X11.proven({epsInDomain})"
   ]
  },
  {
   "cell_type": "code",
   "execution_count": 95,
   "metadata": {
    "collapsed": false
   },
   "outputs": [
    {
     "data": {
      "image/png": "[encoded data removed]",
      "text/plain": [
       "$ \\left(\\left(\\sum_{l=\\varepsilon}^{\\left(2^{t - 1}\\right) - 1} \\frac{1}{l^{2}}\\right) - \\frac{1}{\\varepsilon^{2}}\\right) + \\left(\\sum_{l=\\varepsilon}^{\\left(2^{t - 1}\\right) - 1} \\frac{1}{l^{2}}\\right) $"
      ]
     },
     "execution_count": 95,
     "metadata": {},
     "output_type": "execute_result"
    }
   ],
   "source": [
    "termToBound = X11.rhs.operands[1]\n",
    "groupAndUngroupAssumptions = {In(eps,Complexes), In(termToBound.operands[1],Complexes), NotEquals(eps,zero)}\n",
    "termToBound"
   ]
  },
  {
   "cell_type": "code",
   "execution_count": 96,
   "metadata": {
    "collapsed": false
   },
   "outputs": [
    {
     "data": {
      "image/png": "[encoded data removed]",
      "text/plain": [
       "$\\{\\varepsilon\\ldots \\left(2^{t - 1}\\right) - 1\\}$"
      ]
     },
     "execution_count": 96,
     "metadata": {},
     "output_type": "execute_result"
    }
   ],
   "source": [
    "shiftedPosDomain = termToBound.operands[0].operands[0].domain\n",
    "shiftedPosDomain"
   ]
  },
  {
   "cell_type": "code",
   "execution_count": 97,
   "metadata": {
    "collapsed": false
   },
   "outputs": [
    {
     "data": {
      "image/png": "[encoded data removed]",
      "text/plain": [
       "$l \\in \\mathbb{Z}$"
      ]
     },
     "metadata": {},
     "output_type": "display_data"
    },
    {
     "data": {
      "image/png": "[encoded data removed]",
      "text/plain": [
       "$l > 0$"
      ]
     },
     "metadata": {},
     "output_type": "display_data"
    }
   ],
   "source": [
    "display(shiftedPosDomain.deduceMemberInIntegers(l, {epsInDomain, \n",
    "                                                    In(l, shiftedPosDomain)}).proven({epsInDomain, In(l, shiftedPosDomain)}))\n",
    "lGreaterThanEps = shiftedPosDomain.deduceMemberLowerBound(l, {epsInDomain}).deriveReversed()\n",
    "display(lGreaterThanEps.applyTransitivity(deducePositive(eps, {epsInDomain})).proven({epsInDomain, In(l, shiftedPosDomain)}))"
   ]
  },
  {
   "cell_type": "code",
   "execution_count": 98,
   "metadata": {
    "collapsed": false
   },
   "outputs": [
    {
     "data": {
      "image/png": "[encoded data removed]",
      "text/plain": [
       "$\\left( \\left(\\left(\\sum_{l=\\varepsilon}^{\\left(2^{t - 1}\\right) - 1} \\frac{1}{l^{2}}\\right) - \\frac{1}{\\varepsilon^{2}}\\right) + \\left(\\sum_{l=\\varepsilon}^{\\left(2^{t - 1}\\right) - 1} \\frac{1}{l^{2}}\\right) \\right) = \\left( \\left(\\sum_{l=\\varepsilon}^{\\left(2^{t - 1}\\right) - 1} \\frac{1}{l^{2}}\\right) + \\left(\\left(\\sum_{l=\\varepsilon}^{\\left(2^{t - 1}\\right) - 1} \\frac{1}{l^{2}}\\right) - \\frac{1}{\\varepsilon^{2}}\\right) \\right)$"
      ]
     },
     "execution_count": 98,
     "metadata": {},
     "output_type": "execute_result"
    }
   ],
   "source": [
    "Y16 = termToBound.commute(assumptions={epsInDomain})\n",
    "Y16.proven({epsInDomain})"
   ]
  },
  {
   "cell_type": "code",
   "execution_count": 99,
   "metadata": {
    "collapsed": false
   },
   "outputs": [
    {
     "data": {
      "image/png": "[encoded data removed]",
      "text/plain": [
       "$\\left( \\left(\\sum_{l=\\varepsilon}^{\\left(2^{t - 1}\\right) - 1} \\frac{1}{l^{2}}\\right) + \\left(-\\frac{1}{\\varepsilon^{2}}\\right) \\right) = \\left(\\left(\\sum_{l=\\varepsilon}^{\\left(2^{t - 1}\\right) - 1} \\frac{1}{l^{2}}\\right) - \\frac{1}{\\varepsilon^{2}}\\right)$"
      ]
     },
     "execution_count": 99,
     "metadata": {},
     "output_type": "execute_result"
    }
   ],
   "source": [
    "deduceInComplexes(termToBound.operands[0].operands[0], {epsInDomain})\n",
    "deduceInComplexes(termToBound.operands[0].operands[1], {epsInDomain})\n",
    "Y17 = addNegAsSubtract.specialize({x:termToBound.operands[0].operands[0],y:termToBound.operands[0].operands[1]})\n",
    "Y17.proven({epsInDomain})"
   ]
  },
  {
   "cell_type": "code",
   "execution_count": 100,
   "metadata": {
    "collapsed": false
   },
   "outputs": [
    {
     "data": {
      "image/png": "[encoded data removed]",
      "text/plain": [
       "$\\left( \\left(\\left(\\sum_{l=\\varepsilon}^{\\left(2^{t - 1}\\right) - 1} \\frac{1}{l^{2}}\\right) - \\frac{1}{\\varepsilon^{2}}\\right) + \\left(\\sum_{l=\\varepsilon}^{\\left(2^{t - 1}\\right) - 1} \\frac{1}{l^{2}}\\right) \\right) = \\left( \\left(\\sum_{l=\\varepsilon}^{\\left(2^{t - 1}\\right) - 1} \\frac{1}{l^{2}}\\right) + \\left( \\left(\\sum_{l=\\varepsilon}^{\\left(2^{t - 1}\\right) - 1} \\frac{1}{l^{2}}\\right) + \\left(-\\frac{1}{\\varepsilon^{2}}\\right) \\right) \\right)$"
      ]
     },
     "execution_count": 100,
     "metadata": {},
     "output_type": "execute_result"
    }
   ],
   "source": [
    "eqn = Equation(Y16)\n",
    "Y18 = eqn.update(Y17.deriveReversed().substitution(Y16.rhs)).proven({epsInDomain})\n",
    "Y18"
   ]
  },
  {
   "cell_type": "code",
   "execution_count": 101,
   "metadata": {
    "collapsed": false
   },
   "outputs": [
    {
     "data": {
      "image/png": "[encoded data removed]",
      "text/plain": [
       "$\\left( \\left(\\left(\\sum_{l=\\varepsilon}^{\\left(2^{t - 1}\\right) - 1} \\frac{1}{l^{2}}\\right) - \\frac{1}{\\varepsilon^{2}}\\right) + \\left(\\sum_{l=\\varepsilon}^{\\left(2^{t - 1}\\right) - 1} \\frac{1}{l^{2}}\\right) \\right) = \\left( \\left(\\sum_{l=\\varepsilon}^{\\left(2^{t - 1}\\right) - 1} \\frac{1}{l^{2}}\\right) + \\left(\\sum_{l=\\varepsilon}^{\\left(2^{t - 1}\\right) - 1} \\frac{1}{l^{2}}\\right) + \\left(-\\frac{1}{\\varepsilon^{2}}\\right) \\right)$"
      ]
     },
     "execution_count": 101,
     "metadata": {},
     "output_type": "execute_result"
    }
   ],
   "source": [
    "Y19 = eqn.update(Y18.rhs.ungroup(1, {epsInDomain}))\n",
    "Y19.proven({epsInDomain})"
   ]
  },
  {
   "cell_type": "code",
   "execution_count": 102,
   "metadata": {
    "collapsed": false
   },
   "outputs": [
    {
     "data": {
      "image/png": "[encoded data removed]",
      "text/plain": [
       "$\\left( \\left(\\left(\\sum_{l=\\varepsilon}^{\\left(2^{t - 1}\\right) - 1} \\frac{1}{l^{2}}\\right) - \\frac{1}{\\varepsilon^{2}}\\right) + \\left(\\sum_{l=\\varepsilon}^{\\left(2^{t - 1}\\right) - 1} \\frac{1}{l^{2}}\\right) \\right) = \\left( \\left( \\left(\\sum_{l=\\varepsilon}^{\\left(2^{t - 1}\\right) - 1} \\frac{1}{l^{2}}\\right) + \\left(\\sum_{l=\\varepsilon}^{\\left(2^{t - 1}\\right) - 1} \\frac{1}{l^{2}}\\right) \\right) + \\left(-\\frac{1}{\\varepsilon^{2}}\\right) \\right)$"
      ]
     },
     "execution_count": 102,
     "metadata": {},
     "output_type": "execute_result"
    }
   ],
   "source": [
    "Y20 = Equation(Y19).update(Y19.rhs.group(0,2, assumptions=groupAndUngroupAssumptions))\n",
    "Y20.proven({epsInDomain})"
   ]
  },
  {
   "cell_type": "code",
   "execution_count": 103,
   "metadata": {
    "collapsed": false
   },
   "outputs": [
    {
     "data": {
      "image/png": "[encoded data removed]",
      "text/plain": [
       "$\\forall_{ a  \\in \\mathbb{C}} \\left(\\left( a + a \\right) = \\left( 2 \\cdot a \\right)\\right)$"
      ]
     },
     "execution_count": 103,
     "metadata": {},
     "output_type": "execute_result"
    }
   ],
   "source": [
    "addTwice"
   ]
  },
  {
   "cell_type": "code",
   "execution_count": 104,
   "metadata": {
    "collapsed": false
   },
   "outputs": [
    {
     "data": {
      "image/png": "[encoded data removed]",
      "text/plain": [
       "$\\left( \\left(\\sum_{l=\\varepsilon}^{\\left(2^{t - 1}\\right) - 1} \\frac{1}{l^{2}}\\right) + \\left(\\sum_{l=\\varepsilon}^{\\left(2^{t - 1}\\right) - 1} \\frac{1}{l^{2}}\\right) \\right) = \\left( 2 \\cdot \\left(\\sum_{l=\\varepsilon}^{\\left(2^{t - 1}\\right) - 1} \\frac{1}{l^{2}}\\right) \\right)$"
      ]
     },
     "execution_count": 104,
     "metadata": {},
     "output_type": "execute_result"
    }
   ],
   "source": [
    "deduceInComplexes(Y19.rhs.operands[0], {epsInDomain})\n",
    "Y21 = addTwice.specialize({a:Y19.rhs.operands[0]})\n",
    "Y21.proven({epsInDomain})"
   ]
  },
  {
   "cell_type": "code",
   "execution_count": 105,
   "metadata": {
    "collapsed": false
   },
   "outputs": [
    {
     "data": {
      "image/png": "[encoded data removed]",
      "text/plain": [
       "$\\left( \\left(\\left(\\sum_{l=\\varepsilon}^{\\left(2^{t - 1}\\right) - 1} \\frac{1}{l^{2}}\\right) - \\frac{1}{\\varepsilon^{2}}\\right) + \\left(\\sum_{l=\\varepsilon}^{\\left(2^{t - 1}\\right) - 1} \\frac{1}{l^{2}}\\right) \\right) = \\left( \\left( 2 \\cdot \\left(\\sum_{l=\\varepsilon}^{\\left(2^{t - 1}\\right) - 1} \\frac{1}{l^{2}}\\right) \\right) + \\left(-\\frac{1}{\\varepsilon^{2}}\\right) \\right)$"
      ]
     },
     "execution_count": 105,
     "metadata": {},
     "output_type": "execute_result"
    }
   ],
   "source": [
    "Y22 = Y21.subRightSideInto(Y20)\n",
    "Y22.proven({epsInDomain})"
   ]
  },
  {
   "cell_type": "code",
   "execution_count": 106,
   "metadata": {
    "collapsed": false
   },
   "outputs": [
    {
     "data": {
      "image/png": "[encoded data removed]",
      "text/plain": [
       "$\\forall_{ a , b  \\in \\mathbb{R}~|~ \\left(b \\leq 0\\right) } \\left(\\left( a + b \\right) \\leq a\\right)$"
      ]
     },
     "execution_count": 106,
     "metadata": {},
     "output_type": "execute_result"
    }
   ],
   "source": [
    "ineqThm6a"
   ]
  },
  {
   "cell_type": "code",
   "execution_count": 107,
   "metadata": {
    "collapsed": false
   },
   "outputs": [
    {
     "data": {
      "image/png": "[encoded data removed]",
      "text/plain": [
       "$\\left(-\\frac{1}{\\varepsilon^{2}}\\right) \\leq 0$"
      ]
     },
     "execution_count": 107,
     "metadata": {},
     "output_type": "execute_result"
    }
   ],
   "source": [
    "deduceNegative(Y22.rhs.operands[1], {epsInDomain}).deriveRelaxed({epsInDomain})"
   ]
  },
  {
   "cell_type": "code",
   "execution_count": 108,
   "metadata": {
    "collapsed": false
   },
   "outputs": [
    {
     "data": {
      "image/png": "[encoded data removed]",
      "text/plain": [
       "$\\left( \\left( 2 \\cdot \\left(\\sum_{l=\\varepsilon}^{\\left(2^{t - 1}\\right) - 1} \\frac{1}{l^{2}}\\right) \\right) + \\left(-\\frac{1}{\\varepsilon^{2}}\\right) \\right) \\leq \\left( 2 \\cdot \\left(\\sum_{l=\\varepsilon}^{\\left(2^{t - 1}\\right) - 1} \\frac{1}{l^{2}}\\right) \\right)$"
      ]
     },
     "execution_count": 108,
     "metadata": {},
     "output_type": "execute_result"
    }
   ],
   "source": [
    "deduceInReals(Y22.rhs.operands[0], {epsInDomain})\n",
    "deduceInReals(Y22.rhs.operands[1], {epsInDomain})\n",
    "Y23 = ineqThm6a.specialize({a:Y22.rhs.operands[0], b:Y22.rhs.operands[1]})\n",
    "Y23.proven({epsInDomain})"
   ]
  },
  {
   "cell_type": "code",
   "execution_count": 109,
   "metadata": {
    "collapsed": false
   },
   "outputs": [
    {
     "data": {
      "image/png": "[encoded data removed]",
      "text/plain": [
       "$\\left( 2 \\cdot \\left(\\sum_{l=\\varepsilon}^{\\left(2^{t - 1}\\right) - 1} \\frac{1}{l^{2}}\\right) \\right) \\geq \\left( \\left(\\left(\\sum_{l=\\varepsilon}^{\\left(2^{t - 1}\\right) - 1} \\frac{1}{l^{2}}\\right) - \\frac{1}{\\varepsilon^{2}}\\right) + \\left(\\sum_{l=\\varepsilon}^{\\left(2^{t - 1}\\right) - 1} \\frac{1}{l^{2}}\\right) \\right)$"
      ]
     },
     "execution_count": 109,
     "metadata": {},
     "output_type": "execute_result"
    }
   ],
   "source": [
    "Y24 = Relation(Y22).update(Y23).deriveReversed()\n",
    "Y24.proven({epsInDomain})"
   ]
  },
  {
   "cell_type": "code",
   "execution_count": 110,
   "metadata": {
    "collapsed": false
   },
   "outputs": [
    {
     "data": {
      "image/png": "[encoded data removed]",
      "text/plain": [
       "$\\forall_{ a , b , c  \\in \\mathbb{R}~|~ \\left(c > 0\\right) , \\left(a \\geq b\\right) } \\left(\\left( c \\cdot a \\right) \\geq \\left( c \\cdot b \\right)\\right)$"
      ]
     },
     "execution_count": 110,
     "metadata": {},
     "output_type": "execute_result"
    }
   ],
   "source": [
    "ineqThm5"
   ]
  },
  {
   "cell_type": "code",
   "execution_count": 111,
   "metadata": {
    "collapsed": false
   },
   "outputs": [
    {
     "data": {
      "image/png": "[encoded data removed]",
      "text/plain": [
       "$\\left( \\frac{1}{4} \\cdot \\left( 2 \\cdot \\left(\\sum_{l=\\varepsilon}^{\\left(2^{t - 1}\\right) - 1} \\frac{1}{l^{2}}\\right) \\right) \\right) \\geq \\left( \\frac{1}{4} \\cdot \\left( \\left(\\left(\\sum_{l=\\varepsilon}^{\\left(2^{t - 1}\\right) - 1} \\frac{1}{l^{2}}\\right) - \\frac{1}{\\varepsilon^{2}}\\right) + \\left(\\sum_{l=\\varepsilon}^{\\left(2^{t - 1}\\right) - 1} \\frac{1}{l^{2}}\\right) \\right) \\right)$"
      ]
     },
     "execution_count": 111,
     "metadata": {},
     "output_type": "execute_result"
    }
   ],
   "source": [
    "deduceInReals(Y24.lhs, {epsInDomain})\n",
    "deduceInReals(Y24.rhs, {epsInDomain})\n",
    "Y25 = ineqThm5.specialize({a:Y24.lhs, b:Y24.rhs, c:Fraction(one,four)})\n",
    "Y25.proven({epsInDomain})"
   ]
  },
  {
   "cell_type": "code",
   "execution_count": null,
   "metadata": {
    "collapsed": false
   },
   "outputs": [
    {
     "data": {
      "image/png": "[encoded data removed]",
      "text/plain": [
       "$P_{\\rm fail}\\left( \\varepsilon \\right) \\leq \\left( \\frac{1}{4} \\cdot \\left( 2 \\cdot \\left(\\sum_{l=\\varepsilon}^{\\left(2^{t - 1}\\right) - 1} \\frac{1}{l^{2}}\\right) \\right) \\right)$"
      ]
     },
     "execution_count": 112,
     "metadata": {},
     "output_type": "execute_result"
    }
   ],
   "source": [
    "X12 = Relation(X11).update(Y25)\n",
    "X12.proven({epsInDomain})"
   ]
  },
  {
   "cell_type": "code",
   "execution_count": null,
   "metadata": {
    "collapsed": false
   },
   "outputs": [],
   "source": [
    "X13 = Relation(X12).update(X12.rhs.ungroup(1, assumptions=groupAndUngroupAssumptions))\n",
    "X13.proven({epsInDomain})"
   ]
  },
  {
   "cell_type": "code",
   "execution_count": null,
   "metadata": {
    "collapsed": false
   },
   "outputs": [],
   "source": [
    "Y26 = simplifyQuarterTimesTwo.subRightSideInto(X13.rhs.group(0,2, assumptions=groupAndUngroupAssumptions))\n",
    "Y26.proven({epsInDomain})"
   ]
  },
  {
   "cell_type": "code",
   "execution_count": null,
   "metadata": {
    "collapsed": false
   },
   "outputs": [],
   "source": [
    "X14 = Relation(X13).update(Y26)\n",
    "X14.proven({epsInDomain})"
   ]
  },
  {
   "cell_type": "code",
   "execution_count": null,
   "metadata": {
    "collapsed": false
   },
   "outputs": [],
   "source": [
    "sumIntegrateIneq1"
   ]
  },
  {
   "cell_type": "code",
   "execution_count": null,
   "metadata": {
    "collapsed": false
   },
   "outputs": [],
   "source": [
    "inverseSqrdIsMonDecFunc"
   ]
  },
  {
   "cell_type": "code",
   "execution_count": null,
   "metadata": {
    "collapsed": false
   },
   "outputs": [],
   "source": [
    "sumIntegrateIneq1"
   ]
  },
  {
   "cell_type": "code",
   "execution_count": null,
   "metadata": {
    "collapsed": false
   },
   "outputs": [],
   "source": [
    "epsStrictUpperBound.deriveRelaxed({epsInDomain})"
   ]
  },
  {
   "cell_type": "code",
   "execution_count": null,
   "metadata": {
    "collapsed": false
   },
   "outputs": [],
   "source": [
    "deduceInIntegers(shiftedPosDomain.lowerBound, {epsInDomain})\n",
    "deduceInIntegers(shiftedPosDomain.upperBound)\n",
    "Y27 = sumIntegrateIneq1.specialize({Operation(f,l):X14.rhs.operands[1].summand, x:l}).specialize({a:shiftedPosDomain.lowerBound,b:shiftedPosDomain.upperBound})\n",
    "Y27.proven({epsInDomain})"
   ]
  },
  {
   "cell_type": "code",
   "execution_count": null,
   "metadata": {
    "collapsed": false
   },
   "outputs": [],
   "source": [
    "boundedInvSqrdIntegral"
   ]
  },
  {
   "cell_type": "code",
   "execution_count": null,
   "metadata": {
    "collapsed": false
   },
   "outputs": [],
   "source": [
    "deducePositive(eps, {epsInDomain}).applyTransitivity(epsStrictUpperBound).proven({epsInDomain})\n",
    "deduceInRealsPos(epsStrictUpperBound.rhs, {epsInDomain}).proven({epsInDomain})"
   ]
  },
  {
   "cell_type": "code",
   "execution_count": null,
   "metadata": {
    "collapsed": false
   },
   "outputs": [],
   "source": [
    "Y28 = boundedInvSqrdIntegral.specialize({a:eps, b:epsStrictUpperBound.rhs})\n",
    "Y28.proven({epsInDomain})"
   ]
  },
  {
   "cell_type": "code",
   "execution_count": null,
   "metadata": {
    "collapsed": false
   },
   "outputs": [],
   "source": [
    "lLowerBound = Y28.lhs.domain.deduceMemberLowerBound(l, {epsInDomain})\n",
    "lLowerBound.deriveReversed().applyTransitivity(deducePositive(eps, {epsInDomain})).proven({epsInDomain, In(l, Y28.lhs.domain)})\n",
    "Y29 = Y28.deriveShifted(Fraction(one, Exponentiate(eps, two)), assumptions={epsInDomain})\n",
    "Y29.proven({epsInDomain})"
   ]
  },
  {
   "cell_type": "code",
   "execution_count": null,
   "metadata": {
    "collapsed": false
   },
   "outputs": [],
   "source": [
    "Y30 = autoSubstitute(Y29, 'commute', [], {'assumptions':{epsInDomain}}, superExpr=Y29.lhs).applyTransitivity(Y27)\n",
    "Y30.proven({epsInDomain})"
   ]
  },
  {
   "cell_type": "code",
   "execution_count": null,
   "metadata": {
    "collapsed": false
   },
   "outputs": [],
   "source": [
    "ineqThm5"
   ]
  },
  {
   "cell_type": "code",
   "execution_count": null,
   "metadata": {
    "collapsed": false
   },
   "outputs": [],
   "source": [
    "Y30.deriveReversed().proven({epsInDomain})\n",
    "deduceInReals(Fraction(one,two))\n",
    "deducePositive(Fraction(one, two))\n",
    "deduceInReals(Y30.lhs, {epsInDomain})\n",
    "deduceInReals(Y30.rhs, {epsInDomain})\n",
    "Y31 = ineqThm5.specialize({a:Y30.rhs, b:Y30.lhs, c:Fraction(one,two)})\n",
    "Y31.proven({epsInDomain})"
   ]
  },
  {
   "cell_type": "code",
   "execution_count": null,
   "metadata": {
    "collapsed": false
   },
   "outputs": [],
   "source": [
    "X15 = Relation(X14).update(Y31)\n",
    "X15.proven({epsInDomain})"
   ]
  },
  {
   "cell_type": "code",
   "execution_count": null,
   "metadata": {
    "collapsed": false
   },
   "outputs": [],
   "source": [
    "X15.generalize(eps, domain=epsInDomain.domain).qed()"
   ]
  },
  {
   "cell_type": "code",
   "execution_count": null,
   "metadata": {
    "collapsed": true
   },
   "outputs": [],
   "source": []
  },
  {
   "cell_type": "code",
   "execution_count": null,
   "metadata": {
    "collapsed": true
   },
   "outputs": [],
   "source": []
  },
  {
   "cell_type": "code",
   "execution_count": null,
   "metadata": {
    "collapsed": true
   },
   "outputs": [],
   "source": []
  },
  {
   "cell_type": "code",
   "execution_count": null,
   "metadata": {
    "collapsed": true
   },
   "outputs": [],
   "source": []
  },
  {
   "cell_type": "code",
   "execution_count": null,
   "metadata": {
    "collapsed": true
   },
   "outputs": [],
   "source": []
  },
  {
   "cell_type": "code",
   "execution_count": null,
   "metadata": {
    "collapsed": true
   },
   "outputs": [],
   "source": []
  }
 ],
 "metadata": {
  "kernelspec": {
   "display_name": "Python 3",
   "language": "python",
   "name": "python3"
  },
  "language_info": {
   "codemirror_mode": {
    "name": "ipython",
    "version": 3
   },
   "file_extension": ".py",
   "mimetype": "text/x-python",
   "name": "python",
   "nbconvert_exporter": "python",
   "pygments_lexer": "ipython3"
  }
 },
 "nbformat": 4,
 "nbformat_minor": 0
}
