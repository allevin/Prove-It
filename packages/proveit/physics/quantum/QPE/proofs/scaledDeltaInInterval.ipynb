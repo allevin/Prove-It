{
 "cells": [
  {
   "cell_type": "code",
   "execution_count": 1,
   "metadata": {
    "collapsed": false
   },
   "outputs": [],
   "source": [
    "from proveit.basiclogic import Equation, autoSubstitute\n",
    "from proveit.physics.quantum.QPE.axioms import bestDef, deltaDef, phaseInInterval\n",
    "from proveit.physics.quantum.QPE.common import b_, two_pow_t\n",
    "from proveit.physics.quantum.QPE.theorems import scaledDeltaInInterval, two_pow_t_in_posnats, phaseInReals, bestInInts\n",
    "from proveit.number import Multiply, Fraction, Floor\n",
    "from proveit.number.real.axioms import floorDef\n",
    "from proveit.number.numberSets import deduceInReals\n",
    "from proveit.common import x, X"
   ]
  },
  {
   "cell_type": "code",
   "execution_count": null,
   "metadata": {
    "collapsed": true
   },
   "outputs": [],
   "source": [
    "scaledDeltaInInterval.beginProof()"
   ]
  },
  {
   "cell_type": "code",
   "execution_count": 2,
   "metadata": {
    "collapsed": false
   },
   "outputs": [
    {
     "data": {
      "text/latex": [
       "$\\varphi \\in \\left[0,1\\right)$"
      ],
      "text/plain": [
       "phase in [0,1)"
      ]
     },
     "execution_count": 2,
     "metadata": {},
     "output_type": "execute_result"
    }
   ],
   "source": [
    "phaseInInterval"
   ]
  },
  {
   "cell_type": "code",
   "execution_count": 3,
   "metadata": {
    "collapsed": false
   },
   "outputs": [
    {
     "data": {
      "text/latex": [
       "$b = \\lfloor \\varphi \\cdot 2^{t}\\rfloor$"
      ],
      "text/plain": [
       "b = FLOOR(phase * 2^(t))"
      ]
     },
     "execution_count": 3,
     "metadata": {},
     "output_type": "execute_result"
    }
   ],
   "source": [
    "bestDef"
   ]
  },
  {
   "cell_type": "code",
   "execution_count": 4,
   "metadata": {
    "collapsed": false
   },
   "outputs": [
    {
     "data": {
      "text/latex": [
       "$\\delta = \\left(\\varphi - \\frac{b}{2^{t}}\\right)$"
      ],
      "text/plain": [
       "delta = (phase - b / 2^(t))"
      ]
     },
     "execution_count": 4,
     "metadata": {},
     "output_type": "execute_result"
    }
   ],
   "source": [
    "deltaDef"
   ]
  },
  {
   "cell_type": "code",
   "execution_count": 5,
   "metadata": {
    "collapsed": false
   },
   "outputs": [
    {
     "data": {
      "text/latex": [
       "$\\left(2^{t} \\cdot \\delta\\right) = \\left(2^{t} \\cdot \\left(\\varphi - \\frac{b}{2^{t}}\\right)\\right)$"
      ],
      "text/plain": [
       "(2^(t) * delta) = (2^(t) * (phase - b / 2^(t)))"
      ]
     },
     "execution_count": 5,
     "metadata": {},
     "output_type": "execute_result"
    }
   ],
   "source": [
    "X0 = deltaDef.substitution(Multiply(two_pow_t, X), X)\n",
    "X0.proven()"
   ]
  },
  {
   "cell_type": "code",
   "execution_count": 6,
   "metadata": {
    "collapsed": false
   },
   "outputs": [
    {
     "data": {
      "text/latex": [
       "$\\left(2^{t} \\cdot \\delta\\right) = \\left(\\left(2^{t} \\cdot \\varphi\\right) - \\left(2^{t} \\cdot \\frac{b}{2^{t}}\\right)\\right)$"
      ],
      "text/plain": [
       "(2^(t) * delta) = ((2^(t) * phase) - (2^(t) * b / 2^(t)))"
      ]
     },
     "execution_count": 6,
     "metadata": {},
     "output_type": "execute_result"
    }
   ],
   "source": [
    "X1 = X0.applyTransitivity(X0.rhs.distribute(1))\n",
    "X1.proven()"
   ]
  },
  {
   "cell_type": "code",
   "execution_count": 7,
   "metadata": {
    "collapsed": false
   },
   "outputs": [
    {
     "data": {
      "text/latex": [
       "$\\left(2^{t} \\cdot \\delta\\right) = \\left(\\left(2^{t} \\cdot \\varphi\\right) - \\frac{2^{t} \\cdot b}{2^{t}}\\right)$"
      ],
      "text/plain": [
       "(2^(t) * delta) = ((2^(t) * phase) - (2^(t) * b) / 2^(t))"
      ]
     },
     "execution_count": 7,
     "metadata": {},
     "output_type": "execute_result"
    }
   ],
   "source": [
    "X2 = Fraction(Multiply(two_pow_t, b_), two_pow_t).factor(two_pow_t).subLeftSideInto(X1)\n",
    "X2.proven()"
   ]
  },
  {
   "cell_type": "code",
   "execution_count": 8,
   "metadata": {
    "collapsed": false
   },
   "outputs": [
    {
     "data": {
      "text/latex": [
       "$\\left(2^{t} \\cdot \\delta\\right) = \\left(\\left(2^{t} \\cdot \\varphi\\right) - b\\right)$"
      ],
      "text/plain": [
       "(2^(t) * delta) = ((2^(t) * phase) - b)"
      ]
     },
     "execution_count": 8,
     "metadata": {},
     "output_type": "execute_result"
    }
   ],
   "source": [
    "X3 = autoSubstitute(X2, 'cancel', [two_pow_t], subExprClass=Fraction)\n",
    "X3.proven()"
   ]
  },
  {
   "cell_type": "code",
   "execution_count": 9,
   "metadata": {
    "collapsed": false
   },
   "outputs": [
    {
     "data": {
      "text/latex": [
       "$\\left(2^{t} \\cdot \\delta\\right) = \\left(\\left(2^{t} \\cdot \\varphi\\right) - \\lfloor \\varphi \\cdot 2^{t}\\rfloor\\right)$"
      ],
      "text/plain": [
       "(2^(t) * delta) = ((2^(t) * phase) - FLOOR(phase * 2^(t)))"
      ]
     },
     "execution_count": 9,
     "metadata": {},
     "output_type": "execute_result"
    }
   ],
   "source": [
    "X4 = bestDef.subRightSideInto(X3)\n",
    "X4.proven()"
   ]
  },
  {
   "cell_type": "code",
   "execution_count": 10,
   "metadata": {
    "collapsed": false
   },
   "outputs": [
    {
     "data": {
      "text/latex": [
       "$\\left(2^{t} \\cdot \\delta\\right) = \\left(\\left(2^{t} \\cdot \\varphi\\right) - \\lfloor 2^{t} \\cdot \\varphi\\rfloor\\right)$"
      ],
      "text/plain": [
       "(2^(t) * delta) = ((2^(t) * phase) - FLOOR(2^(t) * phase))"
      ]
     },
     "execution_count": 10,
     "metadata": {},
     "output_type": "execute_result"
    }
   ],
   "source": [
    "X5 = autoSubstitute(X4, 'commute', [], superExpr=X4.rhs.operands[1])\n",
    "X5"
   ]
  },
  {
   "cell_type": "code",
   "execution_count": 11,
   "metadata": {
    "collapsed": false
   },
   "outputs": [
    {
     "data": {
      "text/latex": [
       "$\\forall_{x \\in \\mathbb{R}} \\left(\\left(\\lfloor x\\rfloor \\in \\mathbb{Z}\\right) \\land \\left(\\left(x - \\lfloor x\\rfloor\\right) \\in \\left[0,1\\right)\\right)\\right)$"
      ],
      "text/plain": [
       "forall_{x in Reals} ((FLOOR(x) in Integers) and ((x - FLOOR(x)) in [0,1)))"
      ]
     },
     "execution_count": 11,
     "metadata": {},
     "output_type": "execute_result"
    }
   ],
   "source": [
    "floorDef"
   ]
  },
  {
   "cell_type": "code",
   "execution_count": 12,
   "metadata": {
    "collapsed": false
   },
   "outputs": [
    {
     "data": {
      "text/latex": [
       "$\\left(\\left(2^{t} \\cdot \\varphi\\right) - \\lfloor 2^{t} \\cdot \\varphi\\rfloor\\right) \\in \\left[0,1\\right)$"
      ],
      "text/plain": [
       "((2^(t) * phase) - FLOOR(2^(t) * phase)) in [0,1)"
      ]
     },
     "execution_count": 12,
     "metadata": {},
     "output_type": "execute_result"
    }
   ],
   "source": [
    "deduceInReals(X5.rhs.operands[0])\n",
    "floorDefProperty = floorDef.specialize({x:X5.rhs.operands[0]}).deriveRight()\n",
    "floorDefProperty.proven()"
   ]
  },
  {
   "cell_type": "code",
   "execution_count": 13,
   "metadata": {
    "collapsed": false
   },
   "outputs": [
    {
     "data": {
      "text/latex": [
       "$\\left(2^{t} \\cdot \\delta\\right) \\in \\left[0,1\\right)$"
      ],
      "text/plain": [
       "(2^(t) * delta) in [0,1)"
      ]
     },
     "execution_count": 13,
     "metadata": {},
     "output_type": "execute_result"
    }
   ],
   "source": [
    "X5.subLeftSideInto(floorDefProperty).qed()"
   ]
  },
  {
   "cell_type": "code",
   "execution_count": null,
   "metadata": {
    "collapsed": true
   },
   "outputs": [],
   "source": []
  }
 ],
 "metadata": {
  "kernelspec": {
   "display_name": "Python 3",
   "language": "python",
   "name": "python3"
  },
  "language_info": {
   "codemirror_mode": {
    "name": "ipython",
    "version": 3
   },
   "file_extension": ".py",
   "mimetype": "text/x-python",
   "name": "python",
   "nbconvert_exporter": "python",
   "pygments_lexer": "ipython3"
  }
 },
 "nbformat": 4,
 "nbformat_minor": 0
}
