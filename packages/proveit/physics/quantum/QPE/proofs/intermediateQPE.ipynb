{
 "cells": [
  {
   "cell_type": "code",
   "execution_count": 1,
   "metadata": {
    "collapsed": false,
    "deletable": true,
    "editable": true
   },
   "outputs": [],
   "source": [
    "from proveit.physics.quantum.QPE.theorems import intermediateQPE, phaseInReals\n",
    "from proveit.physics.quantum.QPE.axioms import nInNatPos, unitaryU, uKetRegister, eigenUu\n",
    "from proveit.physics.quantum.QPE.common import U_, u_, n_, U_pow_two_pow_k\n",
    "from proveit.physics.quantum import Ket\n",
    "from proveit.physics.quantum.axioms import ketZeroInQubitSpace, ketOneInQubitSpace, hadamardOnZero, \\\n",
    "    zeroControlledNgate, oneControlledNgate\n",
    "from proveit.physics.quantum.theorems import unitaryHadamard, ketPlusDistributed, pregatedControlledNgateEquiv, \\\n",
    "    controlledNgateEquiv, superpositionControlledNgate, scaledQubitStateInQubitSpace, \\\n",
    "    summedQubitStateInQubitSpace, scaledQubitRegisterStateInQubitRegisterSpace\n",
    "from proveit.physics.quantum.common import ket0, ket1, H, invRoot2, QubitSpace\n",
    "from proveit.basiclogic import In, compose, Equation, Equals\n",
    "from proveit.linalg import ScalarProd, MatrixProd\n",
    "from proveit.linalg.theorems import intPowSUclosure, eigenPow\n",
    "from proveit.number.numberSets import Naturals, deduceInNaturalsPos, deduceInComplexes\n",
    "from proveit.number import Add, Exponentiate, Fraction, Sqrt\n",
    "from proveit.number.common import zero, one, two\n",
    "from proveit.common import a, b, c, d, k, n, u, x, y, z, A, U, X, alpha, xEtc\n",
    "from IPython.display import display"
   ]
  },
  {
   "cell_type": "code",
   "execution_count": 2,
   "metadata": {
    "collapsed": false,
    "deletable": true,
    "editable": true
   },
   "outputs": [
    {
     "data": {
      "image/png": "[encoded data removed]",
      "text/plain": [
       "$\\forall_{ k  \\in \\mathbb{N}} \\left[\n",
       "\\begin{array}{cc}\n",
       "\\Qcircuit @C=1em @R=.7em { & \\lstick{\\lvert 0 \\rangle} & \\gate{H} & \\ctrl{1} & \\rstick{ \\left(\\frac{1}{\\sqrt{2}}   \\lvert 0 \\rangle\\right) + \\left(\\frac{e^{ 2 \\cdot \\pi \\cdot i \\cdot \\varphi \\cdot \\left(2^{k}\\right) }}{\\sqrt{2}}   \\lvert 1 \\rangle\\right) } \\qw \\\\  & \\lstick{\\lvert u \\rangle} & /^{n} \\qw & \\gate{U^{2^{k}}} & \\rstick{\\lvert u \\rangle} \\qw} & ~ \n",
       "\\end{array}\n",
       "\\right]$"
      ]
     },
     "execution_count": 2,
     "metadata": {},
     "output_type": "execute_result"
    }
   ],
   "source": [
    "intermediateQPE.beginProof()"
   ]
  },
  {
   "cell_type": "code",
   "execution_count": 3,
   "metadata": {
    "collapsed": false,
    "deletable": true,
    "editable": true
   },
   "outputs": [
    {
     "data": {
      "image/png": "[encoded data removed]",
      "text/plain": [
       "$U^{2^{k}}$"
      ]
     },
     "metadata": {},
     "output_type": "display_data"
    },
    {
     "data": {
      "image/png": "[encoded data removed]",
      "text/plain": [
       "$k \\in \\mathbb{N}$"
      ]
     },
     "metadata": {},
     "output_type": "display_data"
    }
   ],
   "source": [
    "display(U_pow_two_pow_k)\n",
    "kInNats = In(k, Naturals)\n",
    "display(kInNats)"
   ]
  },
  {
   "cell_type": "code",
   "execution_count": 4,
   "metadata": {
    "collapsed": false,
    "deletable": true,
    "editable": true
   },
   "outputs": [
    {
     "data": {
      "image/png": "[encoded data removed]",
      "text/plain": [
       "$\\forall_{ n , k  \\in \\mathbb{N}^+} \\left[\\forall_{ U  \\in SU\\left( n \\right)} \\left(\\left(U^{k}\\right) \\in SU\\left( n \\right)\\right)\\right]$"
      ]
     },
     "execution_count": 4,
     "metadata": {},
     "output_type": "execute_result"
    }
   ],
   "source": [
    "intPowSUclosure"
   ]
  },
  {
   "cell_type": "code",
   "execution_count": 5,
   "metadata": {
    "collapsed": false,
    "deletable": true,
    "editable": true
   },
   "outputs": [
    {
     "data": {
      "image/png": "[encoded data removed]",
      "text/plain": [
       "$\\left(U^{2^{k}}\\right) \\in SU\\left( 2^{n} \\right)$"
      ]
     },
     "execution_count": 5,
     "metadata": {},
     "output_type": "execute_result"
    }
   ],
   "source": [
    "deduceInNaturalsPos(Exponentiate(two, k), {kInNats}).proven({kInNats})\n",
    "deduceInNaturalsPos(Exponentiate(two, n_)).proven()\n",
    "intPowSUclosure.specialize({n:Exponentiate(two, n_), k:Exponentiate(two, k)}).specialize({U:U_}).proven({kInNats})"
   ]
  },
  {
   "cell_type": "code",
   "execution_count": 6,
   "metadata": {
    "collapsed": false,
    "deletable": true,
    "editable": true
   },
   "outputs": [
    {
     "data": {
      "image/png": "[encoded data removed]",
      "text/plain": [
       "$\\forall_{ n  \\in \\mathbb{N}^+} \\left[\\forall_{ U  \\in SU\\left( 2^{n} \\right)} \\left[\\forall_{ u  \\in SU\\left( 2 \\right)} \\left[\\forall_{ a , b  \\in \\left(\\mathbb{C}^{2}\\right)} \\left[\\forall_{ x , y  \\in \\left(\\mathbb{C}^{2}\\right)^{\\otimes n}} \\left(\\left[\n",
       "\\begin{array}{cc}\n",
       "\\Qcircuit @C=1em @R=.7em { & \\lstick{a} & \\gate{u} & \\ctrl{1} & \\rstick{b} \\qw \\\\  & \\lstick{x} & /^{n} \\qw & \\gate{U} & \\rstick{y} \\qw} & ~ \n",
       "\\end{array}\n",
       "\\right] = \\left[\n",
       "\\begin{array}{cc}\n",
       "\\Qcircuit @C=1em @R=.7em { & \\lstick{ u   a } & \\qw & \\ctrl{1} & \\rstick{b} \\qw \\\\  & \\lstick{x} & /^{n} \\qw & \\gate{U} & \\rstick{y} \\qw} & ~ \n",
       "\\end{array}\n",
       "\\right]\\right)\\right]\\right]\\right]\\right]$"
      ]
     },
     "execution_count": 6,
     "metadata": {},
     "output_type": "execute_result"
    }
   ],
   "source": [
    "pregatedControlledNgateEquiv"
   ]
  },
  {
   "cell_type": "code",
   "execution_count": 7,
   "metadata": {
    "collapsed": false,
    "deletable": true,
    "editable": true
   },
   "outputs": [
    {
     "data": {
      "image/png": "[encoded data removed]",
      "text/plain": [
       "$\\left[\n",
       "\\begin{array}{cc}\n",
       "\\Qcircuit @C=1em @R=.7em { & \\lstick{\\lvert 0 \\rangle} & \\gate{H} & \\ctrl{1} & \\rstick{b} \\qw \\\\  & \\lstick{\\lvert u \\rangle} & /^{n} \\qw & \\gate{U^{2^{k}}} & \\rstick{\\lvert u \\rangle} \\qw} & ~ \n",
       "\\end{array}\n",
       "\\right] = \\left[\n",
       "\\begin{array}{cc}\n",
       "\\Qcircuit @C=1em @R=.7em { & \\lstick{ H   \\lvert 0 \\rangle } & \\qw & \\ctrl{1} & \\rstick{b} \\qw \\\\  & \\lstick{\\lvert u \\rangle} & /^{n} \\qw & \\gate{U^{2^{k}}} & \\rstick{\\lvert u \\rangle} \\qw} & ~ \n",
       "\\end{array}\n",
       "\\right]$"
      ]
     },
     "execution_count": 7,
     "metadata": {},
     "output_type": "execute_result"
    }
   ],
   "source": [
    "bQubitState = In(b, QubitSpace)\n",
    "circuitEquiv1 = pregatedControlledNgateEquiv.specialize({n:n_}).specialize({U:U_pow_two_pow_k}).specialize({u:H}).specialize({a:ket0}).specialize({x:Ket(u_), y:Ket(u_)})\n",
    "circuitEquiv1.proven({bQubitState, kInNats})"
   ]
  },
  {
   "cell_type": "code",
   "execution_count": 8,
   "metadata": {
    "collapsed": false,
    "deletable": true,
    "editable": true
   },
   "outputs": [
    {
     "data": {
      "image/png": "[encoded data removed]",
      "text/plain": [
       "$\\left[\n",
       "\\begin{array}{cc}\n",
       "\\Qcircuit @C=1em @R=.7em { & \\lstick{\\lvert 0 \\rangle} & \\gate{H} & \\ctrl{1} & \\rstick{b} \\qw \\\\  & \\lstick{\\lvert u \\rangle} & /^{n} \\qw & \\gate{U^{2^{k}}} & \\rstick{\\lvert u \\rangle} \\qw} & ~ \n",
       "\\end{array}\n",
       "\\right] = \\left[\n",
       "\\begin{array}{cc}\n",
       "\\Qcircuit @C=1em @R=.7em { & \\lstick{\\lvert + \\rangle} & \\qw & \\ctrl{1} & \\rstick{b} \\qw \\\\  & \\lstick{\\lvert u \\rangle} & /^{n} \\qw & \\gate{U^{2^{k}}} & \\rstick{\\lvert u \\rangle} \\qw} & ~ \n",
       "\\end{array}\n",
       "\\right]$"
      ]
     },
     "execution_count": 8,
     "metadata": {},
     "output_type": "execute_result"
    }
   ],
   "source": [
    "circuitEquiv2 = hadamardOnZero.subRightSideInto(circuitEquiv1)\n",
    "circuitEquiv2.proven({bQubitState, kInNats})"
   ]
  },
  {
   "cell_type": "code",
   "execution_count": 9,
   "metadata": {
    "collapsed": false,
    "deletable": true,
    "editable": true
   },
   "outputs": [
    {
     "data": {
      "image/png": "[encoded data removed]",
      "text/plain": [
       "$\\left[\n",
       "\\begin{array}{cc}\n",
       "\\Qcircuit @C=1em @R=.7em { & \\lstick{\\lvert 0 \\rangle} & \\gate{H} & \\ctrl{1} & \\rstick{b} \\qw \\\\  & \\lstick{\\lvert u \\rangle} & /^{n} \\qw & \\gate{U^{2^{k}}} & \\rstick{\\lvert u \\rangle} \\qw} & ~ \n",
       "\\end{array}\n",
       "\\right] = \\left[\n",
       "\\begin{array}{cc}\n",
       "\\Qcircuit @C=1em @R=.7em { & \\lstick{ \\left(\\frac{1}{\\sqrt{2}}   \\lvert 0 \\rangle\\right) + \\left(\\frac{1}{\\sqrt{2}}   \\lvert 1 \\rangle\\right) } & \\qw & \\ctrl{1} & \\rstick{b} \\qw \\\\  & \\lstick{\\lvert u \\rangle} & /^{n} \\qw & \\gate{U^{2^{k}}} & \\rstick{\\lvert u \\rangle} \\qw} & ~ \n",
       "\\end{array}\n",
       "\\right]$"
      ]
     },
     "execution_count": 9,
     "metadata": {},
     "output_type": "execute_result"
    }
   ],
   "source": [
    "circuitEquiv3 = ketPlusDistributed.subRightSideInto(circuitEquiv2)\n",
    "circuitEquiv3.proven({bQubitState, kInNats})"
   ]
  },
  {
   "cell_type": "code",
   "execution_count": 10,
   "metadata": {
    "collapsed": false,
    "deletable": true,
    "editable": true
   },
   "outputs": [
    {
     "data": {
      "image/png": "[encoded data removed]",
      "text/plain": [
       "$\\forall_{ n  \\in \\mathbb{N}^+} \\left[\\forall_{ U  \\in SU\\left( 2^{n} \\right)} \\left[\\forall_{ x  \\in \\left(\\mathbb{C}^{2}\\right)^{\\otimes n}} \\left[\\forall_{ \\alpha  \\in \\mathbb{C}} \\left[\n",
       "\\begin{array}{cc}\n",
       "\\Qcircuit @C=1em @R=.7em { & \\lstick{\\alpha   \\lvert 0 \\rangle} & \\qw & \\ctrl{1} & \\rstick{\\alpha   \\lvert 0 \\rangle} \\qw \\\\  & \\lstick{x} & /^{n} \\qw & \\gate{U} & \\rstick{x} \\qw} & ~ \n",
       "\\end{array}\n",
       "\\right]\\right]\\right]\\right]$"
      ]
     },
     "execution_count": 10,
     "metadata": {},
     "output_type": "execute_result"
    }
   ],
   "source": [
    "zeroControlledNgate"
   ]
  },
  {
   "cell_type": "code",
   "execution_count": 11,
   "metadata": {
    "collapsed": false,
    "deletable": true,
    "editable": true
   },
   "outputs": [
    {
     "data": {
      "image/png": "[encoded data removed]",
      "text/plain": [
       "$\\begin{array}{cc}\n",
       "\\Qcircuit @C=1em @R=.7em { & \\lstick{\\frac{1}{\\sqrt{2}}   \\lvert 0 \\rangle} & \\qw & \\ctrl{1} & \\rstick{\\frac{1}{\\sqrt{2}}   \\lvert 0 \\rangle} \\qw \\\\  & \\lstick{\\lvert u \\rangle} & /^{n} \\qw & \\gate{U^{2^{k}}} & \\rstick{\\lvert u \\rangle} \\qw} & ~ \n",
       "\\end{array}$"
      ]
     },
     "execution_count": 11,
     "metadata": {},
     "output_type": "execute_result"
    }
   ],
   "source": [
    "deduceInComplexes(invRoot2)\n",
    "zeroControlledUpowGate = zeroControlledNgate.specialize({n:n_}).specialize({U:U_pow_two_pow_k}).specialize({x:Ket(u_)}).specialize({alpha:invRoot2})\n",
    "zeroControlledUpowGate.proven({kInNats})"
   ]
  },
  {
   "cell_type": "code",
   "execution_count": 12,
   "metadata": {
    "collapsed": false,
    "deletable": true,
    "editable": true
   },
   "outputs": [
    {
     "data": {
      "image/png": "[encoded data removed]",
      "text/plain": [
       "$\\forall_{ n  \\in \\mathbb{N}^+} \\left[\\forall_{ U  \\in SU\\left( 2^{n} \\right)} \\left[\\forall_{ x  \\in \\left(\\mathbb{C}^{2}\\right)^{\\otimes n}} \\left[\\forall_{ \\alpha  \\in \\mathbb{C}} \\left[\n",
       "\\begin{array}{cc}\n",
       "\\Qcircuit @C=1em @R=.7em { & \\lstick{\\alpha   \\lvert 1 \\rangle} & \\qw & \\ctrl{1} & \\rstick{\\alpha   \\lvert 1 \\rangle} \\qw \\\\  & \\lstick{x} & /^{n} \\qw & \\gate{U} & \\rstick{ U   x } \\qw} & ~ \n",
       "\\end{array}\n",
       "\\right]\\right]\\right]\\right]$"
      ]
     },
     "execution_count": 12,
     "metadata": {},
     "output_type": "execute_result"
    }
   ],
   "source": [
    "oneControlledNgate"
   ]
  },
  {
   "cell_type": "code",
   "execution_count": 13,
   "metadata": {
    "collapsed": false,
    "deletable": true,
    "editable": true
   },
   "outputs": [
    {
     "data": {
      "image/png": "[encoded data removed]",
      "text/plain": [
       "$\\begin{array}{cc}\n",
       "\\Qcircuit @C=1em @R=.7em { & \\lstick{\\frac{1}{\\sqrt{2}}   \\lvert 1 \\rangle} & \\qw & \\ctrl{1} & \\rstick{\\frac{1}{\\sqrt{2}}   \\lvert 1 \\rangle} \\qw \\\\  & \\lstick{\\lvert u \\rangle} & /^{n} \\qw & \\gate{U^{2^{k}}} & \\rstick{ \\left(U^{2^{k}}\\right)   \\lvert u \\rangle } \\qw} & ~ \n",
       "\\end{array}$"
      ]
     },
     "execution_count": 13,
     "metadata": {},
     "output_type": "execute_result"
    }
   ],
   "source": [
    "oneControlledUpowGate = oneControlledNgate.specialize({n:n_}).specialize({U:U_pow_two_pow_k}).specialize({x:Ket(u_)}).specialize({alpha:invRoot2})\n",
    "oneControlledUpowGate.proven({kInNats})"
   ]
  },
  {
   "cell_type": "code",
   "execution_count": 14,
   "metadata": {
    "collapsed": false,
    "deletable": true,
    "editable": true
   },
   "outputs": [
    {
     "data": {
      "image/png": "[encoded data removed]",
      "text/plain": [
       "$\\forall_{ k  \\in \\mathbb{N}^+} \\left[\\forall_{ b  \\in \\mathbb{C}} \\left[\\forall_{ A , x } \\left(\\left(\\left( A   x \\right) = \\left(b   x\\right)\\right) \\Rightarrow \\left(\\left( \\left(A^{k}\\right)   x \\right) = \\left(\\left(b^{k}\\right)   x\\right)\\right)\\right)\\right]\\right]$"
      ]
     },
     "metadata": {},
     "output_type": "display_data"
    },
    {
     "data": {
      "image/png": "[encoded data removed]",
      "text/plain": [
       "$\\left( U   \\lvert u \\rangle \\right) = \\left(\\left(e^{ 2 \\cdot \\pi \\cdot i \\cdot \\varphi }\\right)   \\lvert u \\rangle\\right)$"
      ]
     },
     "metadata": {},
     "output_type": "display_data"
    },
    {
     "data": {
      "image/png": "[encoded data removed]",
      "text/plain": [
       "$\\left(2^{k}\\right) \\in \\mathbb{N}^+$"
      ]
     },
     "metadata": {},
     "output_type": "display_data"
    },
    {
     "data": {
      "image/png": "[encoded data removed]",
      "text/plain": [
       "$\\left(e^{ 2 \\cdot \\pi \\cdot i \\cdot \\varphi }\\right) \\in \\mathbb{C}$"
      ]
     },
     "metadata": {},
     "output_type": "display_data"
    }
   ],
   "source": [
    "display(eigenPow)\n",
    "display(eigenUu)\n",
    "eigenValueU = eigenUu.rhs.scalar\n",
    "display(deduceInNaturalsPos(Exponentiate(two, k), {kInNats}).proven({kInNats}))\n",
    "display(deduceInComplexes(eigenValueU).proven())"
   ]
  },
  {
   "cell_type": "code",
   "execution_count": 15,
   "metadata": {
    "collapsed": false,
    "deletable": true,
    "editable": true
   },
   "outputs": [
    {
     "data": {
      "image/png": "[encoded data removed]",
      "text/plain": [
       "$\\left( \\left(U^{2^{k}}\\right)   \\lvert u \\rangle \\right) = \\left(\\left(\\left(\\left(e^{ 2 \\cdot \\pi \\cdot i \\cdot \\varphi }\\right)\\right)^{2^{k}}\\right)   \\lvert u \\rangle\\right)$"
      ]
     },
     "execution_count": 15,
     "metadata": {},
     "output_type": "execute_result"
    }
   ],
   "source": [
    "eigenUpow_u1 = eigenPow.specialize({k:Exponentiate(two, k)}).specialize({b:eigenValueU}).specialize({A:U_, x:Ket(u_)}).deriveConclusion()\n",
    "eigenUpow_u1.proven({kInNats})"
   ]
  },
  {
   "cell_type": "code",
   "execution_count": 16,
   "metadata": {
    "collapsed": false,
    "deletable": true,
    "editable": true
   },
   "outputs": [
    {
     "data": {
      "image/png": "[encoded data removed]",
      "text/plain": [
       "$\\left( \\left(U^{2^{k}}\\right)   \\lvert u \\rangle \\right) = \\left(\\left(e^{ \\left( 2 \\cdot \\pi \\cdot i \\cdot \\varphi \\right) \\cdot \\left(2^{k}\\right) }\\right)   \\lvert u \\rangle\\right)$"
      ]
     },
     "execution_count": 16,
     "metadata": {},
     "output_type": "execute_result"
    }
   ],
   "source": [
    "eigenUpow_u2 = eigenUpow_u1.rhs.scalar.lowerOuterPow({kInNats}).subRightSideInto(eigenUpow_u1)\n",
    "eigenUpow_u2.proven({kInNats})"
   ]
  },
  {
   "cell_type": "code",
   "execution_count": 17,
   "metadata": {
    "collapsed": false,
    "deletable": true,
    "editable": true
   },
   "outputs": [
    {
     "data": {
      "image/png": "[encoded data removed]",
      "text/plain": [
       "$\\left( \\left(U^{2^{k}}\\right)   \\lvert u \\rangle \\right) = \\left(\\left(e^{ 2 \\cdot \\pi \\cdot i \\cdot \\varphi \\cdot \\left(2^{k}\\right) }\\right)   \\lvert u \\rangle\\right)$"
      ]
     },
     "execution_count": 17,
     "metadata": {},
     "output_type": "execute_result"
    }
   ],
   "source": [
    "eigenUpow_u = eigenUpow_u2.rhs.scalar.exponent.ungroup(0, {kInNats}).subRightSideInto(eigenUpow_u2)\n",
    "eigenUpow_u.proven({kInNats})"
   ]
  },
  {
   "cell_type": "code",
   "execution_count": 18,
   "metadata": {
    "collapsed": false,
    "deletable": true,
    "editable": true
   },
   "outputs": [
    {
     "data": {
      "image/png": "[encoded data removed]",
      "text/plain": [
       "$\\left( \\left(U^{2^{k}}\\right)   \\lvert u \\rangle \\right) \\in \\left(\\mathbb{C}^{2}\\right)^{\\otimes n}$"
      ]
     },
     "execution_count": 18,
     "metadata": {},
     "output_type": "execute_result"
    }
   ],
   "source": [
    "phaseFactor = eigenUpow_u.rhs.scalar\n",
    "deduceInComplexes(phaseFactor, {kInNats})\n",
    "scaled_u_inQregSpace = scaledQubitRegisterStateInQubitRegisterSpace.specialize({n:n_}).specialize({x:Ket(u_)}).specialize({alpha:phaseFactor})\n",
    "eigenUpow_u.subLeftSideInto(scaled_u_inQregSpace).proven({kInNats})"
   ]
  },
  {
   "cell_type": "code",
   "execution_count": 19,
   "metadata": {
    "collapsed": false,
    "deletable": true,
    "editable": true
   },
   "outputs": [
    {
     "data": {
      "image/png": "[encoded data removed]",
      "text/plain": [
       "$\\frac{1}{\\sqrt{2}} \\in \\mathbb{C}$"
      ]
     },
     "metadata": {},
     "output_type": "display_data"
    },
    {
     "data": {
      "image/png": "[encoded data removed]",
      "text/plain": [
       "$\\left(\\frac{1}{\\sqrt{2}}   \\lvert 1 \\rangle\\right) \\in \\left(\\mathbb{C}^{2}\\right)$"
      ]
     },
     "metadata": {},
     "output_type": "display_data"
    },
    {
     "data": {
      "image/png": "[encoded data removed]",
      "text/plain": [
       "$\\left(\\frac{e^{ 2 \\cdot \\pi \\cdot i \\cdot \\varphi \\cdot \\left(2^{k}\\right) }}{\\sqrt{2}}   \\lvert 1 \\rangle\\right) \\in \\left(\\mathbb{C}^{2}\\right)$"
      ]
     },
     "metadata": {},
     "output_type": "display_data"
    }
   ],
   "source": [
    "display(deduceInComplexes(invRoot2))\n",
    "display(scaledQubitStateInQubitSpace.specialize({x:ket1}).specialize({alpha:invRoot2}).proven())\n",
    "scaledPhaseFactor = Fraction(phaseFactor, Sqrt(two))\n",
    "deduceInComplexes(scaledPhaseFactor, {kInNats})\n",
    "display(scaledQubitStateInQubitSpace.specialize({x:ket1}).specialize({alpha:scaledPhaseFactor}).proven({kInNats}))"
   ]
  },
  {
   "cell_type": "code",
   "execution_count": 20,
   "metadata": {
    "collapsed": false,
    "deletable": true,
    "editable": true
   },
   "outputs": [
    {
     "data": {
      "image/png": "[encoded data removed]",
      "text/plain": [
       "$\\forall_{ n  \\in \\mathbb{N}^+} \\left[\\forall_{ U  \\in SU\\left( 2^{n} \\right)} \\left[\\forall_{ a , b , c  \\in \\left(\\mathbb{C}^{2}\\right)} \\left[\\forall_{ x , y , z  \\in \\left(\\mathbb{C}^{2}\\right)^{\\otimes n}} \\left(\\left(\\left[\n",
       "\\begin{array}{cc}\n",
       "\\Qcircuit @C=1em @R=.7em { & \\lstick{a} & \\qw & \\ctrl{1} & \\rstick{b} \\qw \\\\  & \\lstick{x} & /^{n} \\qw & \\gate{U} & \\rstick{y} \\qw} & ~ \n",
       "\\end{array}\n",
       "\\right] = \\left[\n",
       "\\begin{array}{cc}\n",
       "\\Qcircuit @C=1em @R=.7em { & \\lstick{a} & \\qw & \\ctrl{1} & \\rstick{c} \\qw \\\\  & \\lstick{x} & /^{n} \\qw & \\gate{U} & \\rstick{z} \\qw} & ~ \n",
       "\\end{array}\n",
       "\\right]\\right) \\Leftrightarrow \\left(\\left( b \\otimes y \\right) = \\left( c \\otimes z \\right)\\right)\\right)\\right]\\right]\\right]$"
      ]
     },
     "execution_count": 20,
     "metadata": {},
     "output_type": "execute_result"
    }
   ],
   "source": [
    "controlledNgateEquiv"
   ]
  },
  {
   "cell_type": "code",
   "execution_count": 21,
   "metadata": {
    "collapsed": false,
    "deletable": true,
    "editable": true
   },
   "outputs": [
    {
     "data": {
      "image/png": "[encoded data removed]",
      "text/plain": [
       "$\\left(\\left[\n",
       "\\begin{array}{cc}\n",
       "\\Qcircuit @C=1em @R=.7em { & \\lstick{\\frac{1}{\\sqrt{2}}   \\lvert 1 \\rangle} & \\qw & \\ctrl{1} & \\rstick{\\frac{1}{\\sqrt{2}}   \\lvert 1 \\rangle} \\qw \\\\  & \\lstick{\\lvert u \\rangle} & /^{n} \\qw & \\gate{U^{2^{k}}} & \\rstick{ \\left(U^{2^{k}}\\right)   \\lvert u \\rangle } \\qw} & ~ \n",
       "\\end{array}\n",
       "\\right] = \\left[\n",
       "\\begin{array}{cc}\n",
       "\\Qcircuit @C=1em @R=.7em { & \\lstick{\\frac{1}{\\sqrt{2}}   \\lvert 1 \\rangle} & \\qw & \\ctrl{1} & \\rstick{\\frac{e^{ 2 \\cdot \\pi \\cdot i \\cdot \\varphi \\cdot \\left(2^{k}\\right) }}{\\sqrt{2}}   \\lvert 1 \\rangle} \\qw \\\\  & \\lstick{\\lvert u \\rangle} & /^{n} \\qw & \\gate{U^{2^{k}}} & \\rstick{\\lvert u \\rangle} \\qw} & ~ \n",
       "\\end{array}\n",
       "\\right]\\right) \\Leftrightarrow \\left(\\left( \\left(\\frac{1}{\\sqrt{2}}   \\lvert 1 \\rangle\\right) \\otimes \\left( \\left(U^{2^{k}}\\right)   \\lvert u \\rangle \\right) \\right) = \\left( \\left(\\frac{e^{ 2 \\cdot \\pi \\cdot i \\cdot \\varphi \\cdot \\left(2^{k}\\right) }}{\\sqrt{2}}   \\lvert 1 \\rangle\\right) \\otimes \\lvert u \\rangle \\right)\\right)$"
      ]
     },
     "execution_count": 21,
     "metadata": {},
     "output_type": "execute_result"
    }
   ],
   "source": [
    "oneControlledUpowGateEquiv = controlledNgateEquiv.specialize({n:n_}).specialize({U:U_pow_two_pow_k}).specialize({a:ScalarProd(invRoot2, ket1), b:ScalarProd(invRoot2, ket1), c:ScalarProd(scaledPhaseFactor, ket1)}).specialize({x:Ket(u_), y:MatrixProd(U_pow_two_pow_k, Ket(u_)), z:Ket(u_)})\n",
    "oneControlledUpowGateEquiv.proven({kInNats}) "
   ]
  },
  {
   "cell_type": "code",
   "execution_count": 22,
   "metadata": {
    "collapsed": false,
    "deletable": true,
    "editable": true
   },
   "outputs": [
    {
     "data": {
      "image/png": "[encoded data removed]",
      "text/plain": [
       "$\\left( \\left(\\frac{1}{\\sqrt{2}}   \\lvert 1 \\rangle\\right) \\otimes \\left(\\left(e^{ 2 \\cdot \\pi \\cdot i \\cdot \\varphi \\cdot \\left(2^{k}\\right) }\\right)   \\lvert u \\rangle\\right) \\right) = \\left( \\left(\\frac{e^{ 2 \\cdot \\pi \\cdot i \\cdot \\varphi \\cdot \\left(2^{k}\\right) }}{\\sqrt{2}}   \\lvert 1 \\rangle\\right) \\otimes \\lvert u \\rangle \\right)$"
      ]
     },
     "execution_count": 22,
     "metadata": {},
     "output_type": "execute_result"
    }
   ],
   "source": [
    "tensorProdEq = eigenUpow_u.subRightSideInto(oneControlledUpowGateEquiv.operands[1])\n",
    "tensorProdEq"
   ]
  },
  {
   "cell_type": "code",
   "execution_count": 23,
   "metadata": {
    "collapsed": false,
    "deletable": true,
    "editable": true
   },
   "outputs": [
    {
     "data": {
      "image/png": "[encoded data removed]",
      "text/plain": [
       "$\\left( \\left(\\frac{1}{\\sqrt{2}}   \\lvert 1 \\rangle\\right) \\otimes \\left(\\left(e^{ 2 \\cdot \\pi \\cdot i \\cdot \\varphi \\cdot \\left(2^{k}\\right) }\\right)   \\lvert u \\rangle\\right) \\right) = \\left(\\left( \\left(e^{ 2 \\cdot \\pi \\cdot i \\cdot \\varphi \\cdot \\left(2^{k}\\right) }\\right) \\cdot \\frac{1}{\\sqrt{2}} \\right)   \\left( \\lvert 1 \\rangle \\otimes \\lvert u \\rangle \\right)\\right)$"
      ]
     },
     "execution_count": 23,
     "metadata": {},
     "output_type": "execute_result"
    }
   ],
   "source": [
    "tensorProdLhsEq = Equation()\n",
    "tensorProdLhsEq.update(tensorProdEq.lhs.factor(phaseFactor)).proven()\n",
    "tensorProdLhsEq.update(tensorProdLhsEq.eqExpr.rhs.factor(invRoot2)).proven()"
   ]
  },
  {
   "cell_type": "code",
   "execution_count": 24,
   "metadata": {
    "collapsed": false,
    "deletable": true,
    "editable": true
   },
   "outputs": [
    {
     "data": {
      "image/png": "[encoded data removed]",
      "text/plain": [
       "$\\left( \\left(\\frac{1}{\\sqrt{2}}   \\lvert 1 \\rangle\\right) \\otimes \\left(\\left(e^{ 2 \\cdot \\pi \\cdot i \\cdot \\varphi \\cdot \\left(2^{k}\\right) }\\right)   \\lvert u \\rangle\\right) \\right) = \\left(\\frac{e^{ 2 \\cdot \\pi \\cdot i \\cdot \\varphi \\cdot \\left(2^{k}\\right) }}{\\sqrt{2}}   \\left( \\lvert 1 \\rangle \\otimes \\lvert u \\rangle \\right)\\right)$"
      ]
     },
     "execution_count": 24,
     "metadata": {},
     "output_type": "execute_result"
    }
   ],
   "source": [
    "tensorProdLhsEq.eqExpr.rhs.scalar.distribute(1, {kInNats}).subRightSideInto(tensorProdLhsEq.eqExpr).proven({kInNats})"
   ]
  },
  {
   "cell_type": "code",
   "execution_count": 25,
   "metadata": {
    "collapsed": false,
    "deletable": true,
    "editable": true
   },
   "outputs": [
    {
     "data": {
      "image/png": "[encoded data removed]",
      "text/plain": [
       "$\\left( \\left(\\frac{e^{ 2 \\cdot \\pi \\cdot i \\cdot \\varphi \\cdot \\left(2^{k}\\right) }}{\\sqrt{2}}   \\lvert 1 \\rangle\\right) \\otimes \\lvert u \\rangle \\right) = \\left(\\frac{e^{ 2 \\cdot \\pi \\cdot i \\cdot \\varphi \\cdot \\left(2^{k}\\right) }}{\\sqrt{2}}   \\left( \\lvert 1 \\rangle \\otimes \\lvert u \\rangle \\right)\\right)$"
      ]
     },
     "execution_count": 25,
     "metadata": {},
     "output_type": "execute_result"
    }
   ],
   "source": [
    "tensorProdRhsEq = tensorProdEq.rhs.factor(scaledPhaseFactor)\n",
    "tensorProdRhsEq.proven()"
   ]
  },
  {
   "cell_type": "code",
   "execution_count": 26,
   "metadata": {
    "collapsed": false,
    "deletable": true,
    "editable": true
   },
   "outputs": [
    {
     "data": {
      "image/png": "[encoded data removed]",
      "text/plain": [
       "$\\left( \\left(\\frac{1}{\\sqrt{2}}   \\lvert 1 \\rangle\\right) \\otimes \\left(\\left(e^{ 2 \\cdot \\pi \\cdot i \\cdot \\varphi \\cdot \\left(2^{k}\\right) }\\right)   \\lvert u \\rangle\\right) \\right) = \\left( \\left(\\frac{e^{ 2 \\cdot \\pi \\cdot i \\cdot \\varphi \\cdot \\left(2^{k}\\right) }}{\\sqrt{2}}   \\lvert 1 \\rangle\\right) \\otimes \\lvert u \\rangle \\right)$"
      ]
     },
     "execution_count": 26,
     "metadata": {},
     "output_type": "execute_result"
    }
   ],
   "source": [
    "tensorProdEq2 = Equals(tensorProdRhsEq.rhs, tensorProdRhsEq.rhs).concludeViaReflexivity().proven()\n",
    "tensorProdEq3 = tensorProdLhsEq.eqExpr.subLeftSideInto(Equals(X, tensorProdRhsEq.rhs), X).proven({kInNats})\n",
    "tensorProdRhsEq.subLeftSideInto(tensorProdEq3).proven({kInNats}) # tensorProdEq now proven"
   ]
  },
  {
   "cell_type": "code",
   "execution_count": 27,
   "metadata": {
    "collapsed": false,
    "deletable": true,
    "editable": true
   },
   "outputs": [
    {
     "data": {
      "image/png": "[encoded data removed]",
      "text/plain": [
       "$\\left( \\left(\\frac{1}{\\sqrt{2}}   \\lvert 1 \\rangle\\right) \\otimes \\left( \\left(U^{2^{k}}\\right)   \\lvert u \\rangle \\right) \\right) = \\left( \\left(\\frac{e^{ 2 \\cdot \\pi \\cdot i \\cdot \\varphi \\cdot \\left(2^{k}\\right) }}{\\sqrt{2}}   \\lvert 1 \\rangle\\right) \\otimes \\lvert u \\rangle \\right)$"
      ]
     },
     "execution_count": 27,
     "metadata": {},
     "output_type": "execute_result"
    }
   ],
   "source": [
    "eigenUpow_u.subLeftSideInto(tensorProdEq).proven({kInNats})"
   ]
  },
  {
   "cell_type": "code",
   "execution_count": 28,
   "metadata": {
    "collapsed": false,
    "deletable": true,
    "editable": true
   },
   "outputs": [
    {
     "data": {
      "image/png": "[encoded data removed]",
      "text/plain": [
       "$\\begin{array}{cc}\n",
       "\\Qcircuit @C=1em @R=.7em { & \\lstick{\\frac{1}{\\sqrt{2}}   \\lvert 1 \\rangle} & \\qw & \\ctrl{1} & \\rstick{\\frac{e^{ 2 \\cdot \\pi \\cdot i \\cdot \\varphi \\cdot \\left(2^{k}\\right) }}{\\sqrt{2}}   \\lvert 1 \\rangle} \\qw \\\\  & \\lstick{\\lvert u \\rangle} & /^{n} \\qw & \\gate{U^{2^{k}}} & \\rstick{\\lvert u \\rangle} \\qw} & ~ \n",
       "\\end{array}$"
      ]
     },
     "execution_count": 28,
     "metadata": {},
     "output_type": "execute_result"
    }
   ],
   "source": [
    "oneControlledUpowGate = oneControlledUpowGateEquiv.deriveLeft().deriveRightViaEquivalence()\n",
    "oneControlledUpowGate.proven({kInNats})"
   ]
  },
  {
   "cell_type": "code",
   "execution_count": 29,
   "metadata": {
    "collapsed": false,
    "deletable": true,
    "editable": true
   },
   "outputs": [
    {
     "data": {
      "image/png": "[encoded data removed]",
      "text/plain": [
       "$ \\left[\n",
       "\\begin{array}{cc}\n",
       "\\Qcircuit @C=1em @R=.7em { & \\lstick{\\frac{1}{\\sqrt{2}}   \\lvert 0 \\rangle} & \\qw & \\ctrl{1} & \\rstick{\\frac{1}{\\sqrt{2}}   \\lvert 0 \\rangle} \\qw \\\\  & \\lstick{\\lvert u \\rangle} & /^{n} \\qw & \\gate{U^{2^{k}}} & \\rstick{\\lvert u \\rangle} \\qw} & ~ \n",
       "\\end{array}\n",
       "\\right] \\land \\left[\n",
       "\\begin{array}{cc}\n",
       "\\Qcircuit @C=1em @R=.7em { & \\lstick{\\frac{1}{\\sqrt{2}}   \\lvert 1 \\rangle} & \\qw & \\ctrl{1} & \\rstick{\\frac{e^{ 2 \\cdot \\pi \\cdot i \\cdot \\varphi \\cdot \\left(2^{k}\\right) }}{\\sqrt{2}}   \\lvert 1 \\rangle} \\qw \\\\  & \\lstick{\\lvert u \\rangle} & /^{n} \\qw & \\gate{U^{2^{k}}} & \\rstick{\\lvert u \\rangle} \\qw} & ~ \n",
       "\\end{array}\n",
       "\\right] $"
      ]
     },
     "execution_count": 29,
     "metadata": {},
     "output_type": "execute_result"
    }
   ],
   "source": [
    "compose(zeroControlledUpowGate, oneControlledUpowGate).proven({kInNats})"
   ]
  },
  {
   "cell_type": "code",
   "execution_count": 30,
   "metadata": {
    "collapsed": false,
    "deletable": true,
    "editable": true
   },
   "outputs": [
    {
     "data": {
      "image/png": "[encoded data removed]",
      "text/plain": [
       "$\\forall_{ n  \\in \\mathbb{N}^+} \\left[\\forall_{ U  \\in SU\\left( 2^{n} \\right)} \\left[\\forall_{ a , b , c , d  \\in \\left(\\mathbb{C}^{2}\\right)} \\left[\\forall_{ x , y  \\in \\left(\\mathbb{C}^{2}\\right)^{\\otimes n}} \\left(\\left( \\left[\n",
       "\\begin{array}{cc}\n",
       "\\Qcircuit @C=1em @R=.7em { & \\lstick{a} & \\qw & \\ctrl{1} & \\rstick{c} \\qw \\\\  & \\lstick{x} & /^{n} \\qw & \\gate{U} & \\rstick{y} \\qw} & ~ \n",
       "\\end{array}\n",
       "\\right] \\land \\left[\n",
       "\\begin{array}{cc}\n",
       "\\Qcircuit @C=1em @R=.7em { & \\lstick{b} & \\qw & \\ctrl{1} & \\rstick{d} \\qw \\\\  & \\lstick{x} & /^{n} \\qw & \\gate{U} & \\rstick{y} \\qw} & ~ \n",
       "\\end{array}\n",
       "\\right] \\right) \\Rightarrow \\left[\n",
       "\\begin{array}{cc}\n",
       "\\Qcircuit @C=1em @R=.7em { & \\lstick{ a + b } & \\qw & \\ctrl{1} & \\rstick{ c + d } \\qw \\\\  & \\lstick{x} & /^{n} \\qw & \\gate{U} & \\rstick{y} \\qw} & ~ \n",
       "\\end{array}\n",
       "\\right]\\right)\\right]\\right]\\right]$"
      ]
     },
     "execution_count": 30,
     "metadata": {},
     "output_type": "execute_result"
    }
   ],
   "source": [
    "superpositionControlledNgate"
   ]
  },
  {
   "cell_type": "code",
   "execution_count": 31,
   "metadata": {
    "collapsed": false,
    "deletable": true,
    "editable": true
   },
   "outputs": [
    {
     "data": {
      "image/png": "[encoded data removed]",
      "text/plain": [
       "$\\begin{array}{cc}\n",
       "\\Qcircuit @C=1em @R=.7em { & \\lstick{ \\left(\\frac{1}{\\sqrt{2}}   \\lvert 0 \\rangle\\right) + \\left(\\frac{1}{\\sqrt{2}}   \\lvert 1 \\rangle\\right) } & \\qw & \\ctrl{1} & \\rstick{ \\left(\\frac{1}{\\sqrt{2}}   \\lvert 0 \\rangle\\right) + \\left(\\frac{e^{ 2 \\cdot \\pi \\cdot i \\cdot \\varphi \\cdot \\left(2^{k}\\right) }}{\\sqrt{2}}   \\lvert 1 \\rangle\\right) } \\qw \\\\  & \\lstick{\\lvert u \\rangle} & /^{n} \\qw & \\gate{U^{2^{k}}} & \\rstick{\\lvert u \\rangle} \\qw} & ~ \n",
       "\\end{array}$"
      ]
     },
     "execution_count": 31,
     "metadata": {},
     "output_type": "execute_result"
    }
   ],
   "source": [
    "scaledQubitStateInQubitSpace.specialize({x:ket0}).specialize({alpha:invRoot2}).proven()\n",
    "scaledQubitStateInQubitSpace.specialize({x:ket1}).specialize({alpha:scaledPhaseFactor}).proven({kInNats})\n",
    "superPositionControlledUpowGate = superpositionControlledNgate.specialize({n:n_}).specialize({U:U_pow_two_pow_k}).specialize({a:ScalarProd(invRoot2, ket0), b:ScalarProd(invRoot2, ket1), c:ScalarProd(invRoot2, ket0), d:ScalarProd(scaledPhaseFactor, ket1)}).specialize({x:Ket(u_), y:Ket(u_)}).deriveConclusion()\n",
    "superPositionControlledUpowGate.proven({kInNats})"
   ]
  },
  {
   "cell_type": "code",
   "execution_count": 32,
   "metadata": {
    "collapsed": false,
    "deletable": true,
    "editable": true
   },
   "outputs": [
    {
     "data": {
      "image/png": "[encoded data removed]",
      "text/plain": [
       "$\\forall_{~.., x_{\\Box} ,..~ \\in \\left(\\mathbb{C}^{2}\\right)} \\left(\\left(~..+ x_{\\Box} +..~\\right) \\in \\left(\\mathbb{C}^{2}\\right)\\right)$"
      ]
     },
     "execution_count": 32,
     "metadata": {},
     "output_type": "execute_result"
    }
   ],
   "source": [
    "summedQubitStateInQubitSpace"
   ]
  },
  {
   "cell_type": "code",
   "execution_count": 33,
   "metadata": {
    "collapsed": false,
    "deletable": true,
    "editable": true
   },
   "outputs": [
    {
     "data": {
      "image/png": "[encoded data removed]",
      "text/plain": [
       "$\\left( \\left(\\frac{1}{\\sqrt{2}}   \\lvert 0 \\rangle\\right) + \\left(\\frac{e^{ 2 \\cdot \\pi \\cdot i \\cdot \\varphi \\cdot \\left(2^{k}\\right) }}{\\sqrt{2}}   \\lvert 1 \\rangle\\right) \\right) \\in \\left(\\mathbb{C}^{2}\\right)$"
      ]
     },
     "execution_count": 33,
     "metadata": {},
     "output_type": "execute_result"
    }
   ],
   "source": [
    "topOutputState = Add(ScalarProd(invRoot2, ket0), ScalarProd(scaledPhaseFactor, ket1))\n",
    "summedQubitStateInQubitSpace.specialize({xEtc:topOutputState.terms}).proven({kInNats})"
   ]
  },
  {
   "cell_type": "code",
   "execution_count": 34,
   "metadata": {
    "collapsed": false,
    "deletable": true,
    "editable": true
   },
   "outputs": [
    {
     "data": {
      "image/png": "[encoded data removed]",
      "text/plain": [
       "$\\begin{array}{cc}\n",
       "\\Qcircuit @C=1em @R=.7em { & \\lstick{\\lvert 0 \\rangle} & \\gate{H} & \\ctrl{1} & \\rstick{ \\left(\\frac{1}{\\sqrt{2}}   \\lvert 0 \\rangle\\right) + \\left(\\frac{e^{ 2 \\cdot \\pi \\cdot i \\cdot \\varphi \\cdot \\left(2^{k}\\right) }}{\\sqrt{2}}   \\lvert 1 \\rangle\\right) } \\qw \\\\  & \\lstick{\\lvert u \\rangle} & /^{n} \\qw & \\gate{U^{2^{k}}} & \\rstick{\\lvert u \\rangle} \\qw} & ~ \n",
       "\\end{array}$"
      ]
     },
     "execution_count": 34,
     "metadata": {},
     "output_type": "execute_result"
    }
   ],
   "source": [
    "intermediateCircuit = circuitEquiv3.generalize(b, domain=QubitSpace).specialize({b:topOutputState}).deriveLeftViaEquivalence()\n",
    "intermediateCircuit.proven({kInNats})"
   ]
  },
  {
   "cell_type": "code",
   "execution_count": 35,
   "metadata": {
    "collapsed": false,
    "deletable": true,
    "editable": true
   },
   "outputs": [
    {
     "name": "stdout",
     "output_type": "stream",
     "text": [
      "root $\\forall_{ k  \\in \\mathbb{N}} \\left[\n",
      "\\begin{array}{cc}\n",
      "\\Qcircuit @C=1em @R=.7em { & \\lstick{\\lvert 0 \\rangle} & \\gate{H} & \\ctrl{1} & \\rstick{ \\left(\\frac{1}{\\sqrt{2}}   \\lvert 0 \\rangle\\right) + \\left(\\frac{e^{ 2 \\cdot \\pi \\cdot i \\cdot \\varphi \\cdot \\left(2^{k}\\right) }}{\\sqrt{2}}   \\lvert 1 \\rangle\\right) } \\qw \\\\  & \\lstick{\\lvert u \\rangle} & /^{n} \\qw & \\gate{U^{2^{k}}} & \\rstick{\\lvert u \\rangle} \\qw} & ~ \n",
      "\\end{array}\n",
      "\\right]$ \n",
      "  generalizing $\\begin{array}{cc}\n",
      "\\Qcircuit @C=1em @R=.7em { & \\lstick{\\lvert 0 \\rangle} & \\gate{H} & \\ctrl{1} & \\rstick{ \\left(\\frac{1}{\\sqrt{2}}   \\lvert 0 \\rangle\\right) + \\left(\\frac{e^{ 2 \\cdot \\pi \\cdot i \\cdot \\varphi \\cdot \\left(2^{k}\\right) }}{\\sqrt{2}}   \\lvert 1 \\rangle\\right) } \\qw \\\\  & \\lstick{\\lvert u \\rangle} & /^{n} \\qw & \\gate{U^{2^{k}}} & \\rstick{\\lvert u \\rangle} \\qw} & ~ \n",
      "\\end{array}$  assuming $k \\in \\mathbb{N}$ \n",
      "    implication $\\left[\n",
      "\\begin{array}{cc}\n",
      "\\Qcircuit @C=1em @R=.7em { & \\lstick{ \\left(\\frac{1}{\\sqrt{2}}   \\lvert 0 \\rangle\\right) + \\left(\\frac{1}{\\sqrt{2}}   \\lvert 1 \\rangle\\right) } & \\qw & \\ctrl{1} & \\rstick{ \\left(\\frac{1}{\\sqrt{2}}   \\lvert 0 \\rangle\\right) + \\left(\\frac{e^{ 2 \\cdot \\pi \\cdot i \\cdot \\varphi \\cdot \\left(2^{k}\\right) }}{\\sqrt{2}}   \\lvert 1 \\rangle\\right) } \\qw \\\\  & \\lstick{\\lvert u \\rangle} & /^{n} \\qw & \\gate{U^{2^{k}}} & \\rstick{\\lvert u \\rangle} \\qw} & ~ \n",
      "\\end{array}\n",
      "\\right] \\Rightarrow \\left[\n",
      "\\begin{array}{cc}\n",
      "\\Qcircuit @C=1em @R=.7em { & \\lstick{\\lvert 0 \\rangle} & \\gate{H} & \\ctrl{1} & \\rstick{ \\left(\\frac{1}{\\sqrt{2}}   \\lvert 0 \\rangle\\right) + \\left(\\frac{e^{ 2 \\cdot \\pi \\cdot i \\cdot \\varphi \\cdot \\left(2^{k}\\right) }}{\\sqrt{2}}   \\lvert 1 \\rangle\\right) } \\qw \\\\  & \\lstick{\\lvert u \\rangle} & /^{n} \\qw & \\gate{U^{2^{k}}} & \\rstick{\\lvert u \\rangle} \\qw} & ~ \n",
      "\\end{array}\n",
      "\\right]$  assuming $k \\in \\mathbb{N}$ \n",
      "      implication $\\left(\\left[\n",
      "\\begin{array}{cc}\n",
      "\\Qcircuit @C=1em @R=.7em { & \\lstick{\\lvert 0 \\rangle} & \\gate{H} & \\ctrl{1} & \\rstick{ \\left(\\frac{1}{\\sqrt{2}}   \\lvert 0 \\rangle\\right) + \\left(\\frac{e^{ 2 \\cdot \\pi \\cdot i \\cdot \\varphi \\cdot \\left(2^{k}\\right) }}{\\sqrt{2}}   \\lvert 1 \\rangle\\right) } \\qw \\\\  & \\lstick{\\lvert u \\rangle} & /^{n} \\qw & \\gate{U^{2^{k}}} & \\rstick{\\lvert u \\rangle} \\qw} & ~ \n",
      "\\end{array}\n",
      "\\right] = \\left[\n",
      "\\begin{array}{cc}\n",
      "\\Qcircuit @C=1em @R=.7em { & \\lstick{ \\left(\\frac{1}{\\sqrt{2}}   \\lvert 0 \\rangle\\right) + \\left(\\frac{1}{\\sqrt{2}}   \\lvert 1 \\rangle\\right) } & \\qw & \\ctrl{1} & \\rstick{ \\left(\\frac{1}{\\sqrt{2}}   \\lvert 0 \\rangle\\right) + \\left(\\frac{e^{ 2 \\cdot \\pi \\cdot i \\cdot \\varphi \\cdot \\left(2^{k}\\right) }}{\\sqrt{2}}   \\lvert 1 \\rangle\\right) } \\qw \\\\  & \\lstick{\\lvert u \\rangle} & /^{n} \\qw & \\gate{U^{2^{k}}} & \\rstick{\\lvert u \\rangle} \\qw} & ~ \n",
      "\\end{array}\n",
      "\\right]\\right) \\Rightarrow \\left(\\left[\n",
      "\\begin{array}{cc}\n",
      "\\Qcircuit @C=1em @R=.7em { & \\lstick{ \\left(\\frac{1}{\\sqrt{2}}   \\lvert 0 \\rangle\\right) + \\left(\\frac{1}{\\sqrt{2}}   \\lvert 1 \\rangle\\right) } & \\qw & \\ctrl{1} & \\rstick{ \\left(\\frac{1}{\\sqrt{2}}   \\lvert 0 \\rangle\\right) + \\left(\\frac{e^{ 2 \\cdot \\pi \\cdot i \\cdot \\varphi \\cdot \\left(2^{k}\\right) }}{\\sqrt{2}}   \\lvert 1 \\rangle\\right) } \\qw \\\\  & \\lstick{\\lvert u \\rangle} & /^{n} \\qw & \\gate{U^{2^{k}}} & \\rstick{\\lvert u \\rangle} \\qw} & ~ \n",
      "\\end{array}\n",
      "\\right] \\Rightarrow \\left[\n",
      "\\begin{array}{cc}\n",
      "\\Qcircuit @C=1em @R=.7em { & \\lstick{\\lvert 0 \\rangle} & \\gate{H} & \\ctrl{1} & \\rstick{ \\left(\\frac{1}{\\sqrt{2}}   \\lvert 0 \\rangle\\right) + \\left(\\frac{e^{ 2 \\cdot \\pi \\cdot i \\cdot \\varphi \\cdot \\left(2^{k}\\right) }}{\\sqrt{2}}   \\lvert 1 \\rangle\\right) } \\qw \\\\  & \\lstick{\\lvert u \\rangle} & /^{n} \\qw & \\gate{U^{2^{k}}} & \\rstick{\\lvert u \\rangle} \\qw} & ~ \n",
      "\\end{array}\n",
      "\\right]\\right)$ \n",
      "        specializing $\\forall_{ P , x , y } \\left(\\left(x = y\\right) \\Rightarrow \\left(P\\left( y \\right) \\Rightarrow P\\left( x \\right)\\right)\\right)$ \n",
      "          by theorem proveit.basiclogic.equality.lhsSubstitution\n",
      "      hypothesis $\\left[\n",
      "\\begin{array}{cc}\n",
      "\\Qcircuit @C=1em @R=.7em { & \\lstick{\\lvert 0 \\rangle} & \\gate{H} & \\ctrl{1} & \\rstick{ \\left(\\frac{1}{\\sqrt{2}}   \\lvert 0 \\rangle\\right) + \\left(\\frac{e^{ 2 \\cdot \\pi \\cdot i \\cdot \\varphi \\cdot \\left(2^{k}\\right) }}{\\sqrt{2}}   \\lvert 1 \\rangle\\right) } \\qw \\\\  & \\lstick{\\lvert u \\rangle} & /^{n} \\qw & \\gate{U^{2^{k}}} & \\rstick{\\lvert u \\rangle} \\qw} & ~ \n",
      "\\end{array}\n",
      "\\right] = \\left[\n",
      "\\begin{array}{cc}\n",
      "\\Qcircuit @C=1em @R=.7em { & \\lstick{ \\left(\\frac{1}{\\sqrt{2}}   \\lvert 0 \\rangle\\right) + \\left(\\frac{1}{\\sqrt{2}}   \\lvert 1 \\rangle\\right) } & \\qw & \\ctrl{1} & \\rstick{ \\left(\\frac{1}{\\sqrt{2}}   \\lvert 0 \\rangle\\right) + \\left(\\frac{e^{ 2 \\cdot \\pi \\cdot i \\cdot \\varphi \\cdot \\left(2^{k}\\right) }}{\\sqrt{2}}   \\lvert 1 \\rangle\\right) } \\qw \\\\  & \\lstick{\\lvert u \\rangle} & /^{n} \\qw & \\gate{U^{2^{k}}} & \\rstick{\\lvert u \\rangle} \\qw} & ~ \n",
      "\\end{array}\n",
      "\\right]$  assuming $k \\in \\mathbb{N}$ \n",
      "        specializing $\\forall_{ b  \\in \\left(\\mathbb{C}^{2}\\right)} \\left(\\left[\n",
      "\\begin{array}{cc}\n",
      "\\Qcircuit @C=1em @R=.7em { & \\lstick{\\lvert 0 \\rangle} & \\gate{H} & \\ctrl{1} & \\rstick{b} \\qw \\\\  & \\lstick{\\lvert u \\rangle} & /^{n} \\qw & \\gate{U^{2^{k}}} & \\rstick{\\lvert u \\rangle} \\qw} & ~ \n",
      "\\end{array}\n",
      "\\right] = \\left[\n",
      "\\begin{array}{cc}\n",
      "\\Qcircuit @C=1em @R=.7em { & \\lstick{ \\left(\\frac{1}{\\sqrt{2}}   \\lvert 0 \\rangle\\right) + \\left(\\frac{1}{\\sqrt{2}}   \\lvert 1 \\rangle\\right) } & \\qw & \\ctrl{1} & \\rstick{b} \\qw \\\\  & \\lstick{\\lvert u \\rangle} & /^{n} \\qw & \\gate{U^{2^{k}}} & \\rstick{\\lvert u \\rangle} \\qw} & ~ \n",
      "\\end{array}\n",
      "\\right]\\right)$  assuming $k \\in \\mathbb{N}$ \n",
      "          generalizing $\\left[\n",
      "\\begin{array}{cc}\n",
      "\\Qcircuit @C=1em @R=.7em { & \\lstick{\\lvert 0 \\rangle} & \\gate{H} & \\ctrl{1} & \\rstick{b} \\qw \\\\  & \\lstick{\\lvert u \\rangle} & /^{n} \\qw & \\gate{U^{2^{k}}} & \\rstick{\\lvert u \\rangle} \\qw} & ~ \n",
      "\\end{array}\n",
      "\\right] = \\left[\n",
      "\\begin{array}{cc}\n",
      "\\Qcircuit @C=1em @R=.7em { & \\lstick{ \\left(\\frac{1}{\\sqrt{2}}   \\lvert 0 \\rangle\\right) + \\left(\\frac{1}{\\sqrt{2}}   \\lvert 1 \\rangle\\right) } & \\qw & \\ctrl{1} & \\rstick{b} \\qw \\\\  & \\lstick{\\lvert u \\rangle} & /^{n} \\qw & \\gate{U^{2^{k}}} & \\rstick{\\lvert u \\rangle} \\qw} & ~ \n",
      "\\end{array}\n",
      "\\right]$  assuming $b \\in \\left(\\mathbb{C}^{2}\\right)$, $k \\in \\mathbb{N}$ \n",
      "            implication $\\left(\\left[\n",
      "\\begin{array}{cc}\n",
      "\\Qcircuit @C=1em @R=.7em { & \\lstick{\\lvert 0 \\rangle} & \\gate{H} & \\ctrl{1} & \\rstick{b} \\qw \\\\  & \\lstick{\\lvert u \\rangle} & /^{n} \\qw & \\gate{U^{2^{k}}} & \\rstick{\\lvert u \\rangle} \\qw} & ~ \n",
      "\\end{array}\n",
      "\\right] = \\left[\n",
      "\\begin{array}{cc}\n",
      "\\Qcircuit @C=1em @R=.7em { & \\lstick{\\lvert + \\rangle} & \\qw & \\ctrl{1} & \\rstick{b} \\qw \\\\  & \\lstick{\\lvert u \\rangle} & /^{n} \\qw & \\gate{U^{2^{k}}} & \\rstick{\\lvert u \\rangle} \\qw} & ~ \n",
      "\\end{array}\n",
      "\\right]\\right) \\Rightarrow \\left(\\left[\n",
      "\\begin{array}{cc}\n",
      "\\Qcircuit @C=1em @R=.7em { & \\lstick{\\lvert 0 \\rangle} & \\gate{H} & \\ctrl{1} & \\rstick{b} \\qw \\\\  & \\lstick{\\lvert u \\rangle} & /^{n} \\qw & \\gate{U^{2^{k}}} & \\rstick{\\lvert u \\rangle} \\qw} & ~ \n",
      "\\end{array}\n",
      "\\right] = \\left[\n",
      "\\begin{array}{cc}\n",
      "\\Qcircuit @C=1em @R=.7em { & \\lstick{ \\left(\\frac{1}{\\sqrt{2}}   \\lvert 0 \\rangle\\right) + \\left(\\frac{1}{\\sqrt{2}}   \\lvert 1 \\rangle\\right) } & \\qw & \\ctrl{1} & \\rstick{b} \\qw \\\\  & \\lstick{\\lvert u \\rangle} & /^{n} \\qw & \\gate{U^{2^{k}}} & \\rstick{\\lvert u \\rangle} \\qw} & ~ \n",
      "\\end{array}\n",
      "\\right]\\right)$ \n",
      "              implication $\\left(\\lvert + \\rangle = \\left( \\left(\\frac{1}{\\sqrt{2}}   \\lvert 0 \\rangle\\right) + \\left(\\frac{1}{\\sqrt{2}}   \\lvert 1 \\rangle\\right) \\right)\\right) \\Rightarrow \\left(\\left(\\left[\n",
      "\\begin{array}{cc}\n",
      "\\Qcircuit @C=1em @R=.7em { & \\lstick{\\lvert 0 \\rangle} & \\gate{H} & \\ctrl{1} & \\rstick{b} \\qw \\\\  & \\lstick{\\lvert u \\rangle} & /^{n} \\qw & \\gate{U^{2^{k}}} & \\rstick{\\lvert u \\rangle} \\qw} & ~ \n",
      "\\end{array}\n",
      "\\right] = \\left[\n",
      "\\begin{array}{cc}\n",
      "\\Qcircuit @C=1em @R=.7em { & \\lstick{\\lvert + \\rangle} & \\qw & \\ctrl{1} & \\rstick{b} \\qw \\\\  & \\lstick{\\lvert u \\rangle} & /^{n} \\qw & \\gate{U^{2^{k}}} & \\rstick{\\lvert u \\rangle} \\qw} & ~ \n",
      "\\end{array}\n",
      "\\right]\\right) \\Rightarrow \\left(\\left[\n",
      "\\begin{array}{cc}\n",
      "\\Qcircuit @C=1em @R=.7em { & \\lstick{\\lvert 0 \\rangle} & \\gate{H} & \\ctrl{1} & \\rstick{b} \\qw \\\\  & \\lstick{\\lvert u \\rangle} & /^{n} \\qw & \\gate{U^{2^{k}}} & \\rstick{\\lvert u \\rangle} \\qw} & ~ \n",
      "\\end{array}\n",
      "\\right] = \\left[\n",
      "\\begin{array}{cc}\n",
      "\\Qcircuit @C=1em @R=.7em { & \\lstick{ \\left(\\frac{1}{\\sqrt{2}}   \\lvert 0 \\rangle\\right) + \\left(\\frac{1}{\\sqrt{2}}   \\lvert 1 \\rangle\\right) } & \\qw & \\ctrl{1} & \\rstick{b} \\qw \\\\  & \\lstick{\\lvert u \\rangle} & /^{n} \\qw & \\gate{U^{2^{k}}} & \\rstick{\\lvert u \\rangle} \\qw} & ~ \n",
      "\\end{array}\n",
      "\\right]\\right)\\right)$ \n",
      "                specializing $\\forall_{ P , x , y } \\left(\\left(x = y\\right) \\Rightarrow \\left(P\\left( x \\right) \\Rightarrow P\\left( y \\right)\\right)\\right)$ \n",
      "                  by theorem proveit.basiclogic.equality.rhsSubstitution\n",
      "              hypothesis $\\lvert + \\rangle = \\left( \\left(\\frac{1}{\\sqrt{2}}   \\lvert 0 \\rangle\\right) + \\left(\\frac{1}{\\sqrt{2}}   \\lvert 1 \\rangle\\right) \\right)$ \n",
      "                by theorem proveit.physics.quantum.ketPlusDistributed\n",
      "            hypothesis $\\left[\n",
      "\\begin{array}{cc}\n",
      "\\Qcircuit @C=1em @R=.7em { & \\lstick{\\lvert 0 \\rangle} & \\gate{H} & \\ctrl{1} & \\rstick{b} \\qw \\\\  & \\lstick{\\lvert u \\rangle} & /^{n} \\qw & \\gate{U^{2^{k}}} & \\rstick{\\lvert u \\rangle} \\qw} & ~ \n",
      "\\end{array}\n",
      "\\right] = \\left[\n",
      "\\begin{array}{cc}\n",
      "\\Qcircuit @C=1em @R=.7em { & \\lstick{\\lvert + \\rangle} & \\qw & \\ctrl{1} & \\rstick{b} \\qw \\\\  & \\lstick{\\lvert u \\rangle} & /^{n} \\qw & \\gate{U^{2^{k}}} & \\rstick{\\lvert u \\rangle} \\qw} & ~ \n",
      "\\end{array}\n",
      "\\right]$  assuming $b \\in \\left(\\mathbb{C}^{2}\\right)$, $k \\in \\mathbb{N}$ \n",
      "              implication $\\left(\\left[\n",
      "\\begin{array}{cc}\n",
      "\\Qcircuit @C=1em @R=.7em { & \\lstick{\\lvert 0 \\rangle} & \\gate{H} & \\ctrl{1} & \\rstick{b} \\qw \\\\  & \\lstick{\\lvert u \\rangle} & /^{n} \\qw & \\gate{U^{2^{k}}} & \\rstick{\\lvert u \\rangle} \\qw} & ~ \n",
      "\\end{array}\n",
      "\\right] = \\left[\n",
      "\\begin{array}{cc}\n",
      "\\Qcircuit @C=1em @R=.7em { & \\lstick{ H   \\lvert 0 \\rangle } & \\qw & \\ctrl{1} & \\rstick{b} \\qw \\\\  & \\lstick{\\lvert u \\rangle} & /^{n} \\qw & \\gate{U^{2^{k}}} & \\rstick{\\lvert u \\rangle} \\qw} & ~ \n",
      "\\end{array}\n",
      "\\right]\\right) \\Rightarrow \\left(\\left[\n",
      "\\begin{array}{cc}\n",
      "\\Qcircuit @C=1em @R=.7em { & \\lstick{\\lvert 0 \\rangle} & \\gate{H} & \\ctrl{1} & \\rstick{b} \\qw \\\\  & \\lstick{\\lvert u \\rangle} & /^{n} \\qw & \\gate{U^{2^{k}}} & \\rstick{\\lvert u \\rangle} \\qw} & ~ \n",
      "\\end{array}\n",
      "\\right] = \\left[\n",
      "\\begin{array}{cc}\n",
      "\\Qcircuit @C=1em @R=.7em { & \\lstick{\\lvert + \\rangle} & \\qw & \\ctrl{1} & \\rstick{b} \\qw \\\\  & \\lstick{\\lvert u \\rangle} & /^{n} \\qw & \\gate{U^{2^{k}}} & \\rstick{\\lvert u \\rangle} \\qw} & ~ \n",
      "\\end{array}\n",
      "\\right]\\right)$ \n",
      "                implication $\\left(\\left( H   \\lvert 0 \\rangle \\right) = \\lvert + \\rangle\\right) \\Rightarrow \\left(\\left(\\left[\n",
      "\\begin{array}{cc}\n",
      "\\Qcircuit @C=1em @R=.7em { & \\lstick{\\lvert 0 \\rangle} & \\gate{H} & \\ctrl{1} & \\rstick{b} \\qw \\\\  & \\lstick{\\lvert u \\rangle} & /^{n} \\qw & \\gate{U^{2^{k}}} & \\rstick{\\lvert u \\rangle} \\qw} & ~ \n",
      "\\end{array}\n",
      "\\right] = \\left[\n",
      "\\begin{array}{cc}\n",
      "\\Qcircuit @C=1em @R=.7em { & \\lstick{ H   \\lvert 0 \\rangle } & \\qw & \\ctrl{1} & \\rstick{b} \\qw \\\\  & \\lstick{\\lvert u \\rangle} & /^{n} \\qw & \\gate{U^{2^{k}}} & \\rstick{\\lvert u \\rangle} \\qw} & ~ \n",
      "\\end{array}\n",
      "\\right]\\right) \\Rightarrow \\left(\\left[\n",
      "\\begin{array}{cc}\n",
      "\\Qcircuit @C=1em @R=.7em { & \\lstick{\\lvert 0 \\rangle} & \\gate{H} & \\ctrl{1} & \\rstick{b} \\qw \\\\  & \\lstick{\\lvert u \\rangle} & /^{n} \\qw & \\gate{U^{2^{k}}} & \\rstick{\\lvert u \\rangle} \\qw} & ~ \n",
      "\\end{array}\n",
      "\\right] = \\left[\n",
      "\\begin{array}{cc}\n",
      "\\Qcircuit @C=1em @R=.7em { & \\lstick{\\lvert + \\rangle} & \\qw & \\ctrl{1} & \\rstick{b} \\qw \\\\  & \\lstick{\\lvert u \\rangle} & /^{n} \\qw & \\gate{U^{2^{k}}} & \\rstick{\\lvert u \\rangle} \\qw} & ~ \n",
      "\\end{array}\n",
      "\\right]\\right)\\right)$ \n",
      "                  specializing $\\forall_{ P , x , y } \\left(\\left(x = y\\right) \\Rightarrow \\left(P\\left( x \\right) \\Rightarrow P\\left( y \\right)\\right)\\right)$  proven above\n",
      "                hypothesis $\\left( H   \\lvert 0 \\rangle \\right) = \\lvert + \\rangle$ \n",
      "                  by axiom proveit.physics.quantum.hadamardOnZero\n",
      "              hypothesis $\\left[\n",
      "\\begin{array}{cc}\n",
      "\\Qcircuit @C=1em @R=.7em { & \\lstick{\\lvert 0 \\rangle} & \\gate{H} & \\ctrl{1} & \\rstick{b} \\qw \\\\  & \\lstick{\\lvert u \\rangle} & /^{n} \\qw & \\gate{U^{2^{k}}} & \\rstick{\\lvert u \\rangle} \\qw} & ~ \n",
      "\\end{array}\n",
      "\\right] = \\left[\n",
      "\\begin{array}{cc}\n",
      "\\Qcircuit @C=1em @R=.7em { & \\lstick{ H   \\lvert 0 \\rangle } & \\qw & \\ctrl{1} & \\rstick{b} \\qw \\\\  & \\lstick{\\lvert u \\rangle} & /^{n} \\qw & \\gate{U^{2^{k}}} & \\rstick{\\lvert u \\rangle} \\qw} & ~ \n",
      "\\end{array}\n",
      "\\right]$  assuming $b \\in \\left(\\mathbb{C}^{2}\\right)$, $k \\in \\mathbb{N}$ \n",
      "                specializing $\\forall_{ x , y  \\in \\left(\\mathbb{C}^{2}\\right)^{\\otimes n}} \\left(\\left[\n",
      "\\begin{array}{cc}\n",
      "\\Qcircuit @C=1em @R=.7em { & \\lstick{\\lvert 0 \\rangle} & \\gate{H} & \\ctrl{1} & \\rstick{b} \\qw \\\\  & \\lstick{x} & /^{n} \\qw & \\gate{U^{2^{k}}} & \\rstick{y} \\qw} & ~ \n",
      "\\end{array}\n",
      "\\right] = \\left[\n",
      "\\begin{array}{cc}\n",
      "\\Qcircuit @C=1em @R=.7em { & \\lstick{ H   \\lvert 0 \\rangle } & \\qw & \\ctrl{1} & \\rstick{b} \\qw \\\\  & \\lstick{x} & /^{n} \\qw & \\gate{U^{2^{k}}} & \\rstick{y} \\qw} & ~ \n",
      "\\end{array}\n",
      "\\right]\\right)$  assuming $b \\in \\left(\\mathbb{C}^{2}\\right)$, $k \\in \\mathbb{N}$ \n",
      "                  specializing $\\forall_{ a , b  \\in \\left(\\mathbb{C}^{2}\\right)} \\left[\\forall_{ x , y  \\in \\left(\\mathbb{C}^{2}\\right)^{\\otimes n}} \\left(\\left[\n",
      "\\begin{array}{cc}\n",
      "\\Qcircuit @C=1em @R=.7em { & \\lstick{a} & \\gate{H} & \\ctrl{1} & \\rstick{b} \\qw \\\\  & \\lstick{x} & /^{n} \\qw & \\gate{U^{2^{k}}} & \\rstick{y} \\qw} & ~ \n",
      "\\end{array}\n",
      "\\right] = \\left[\n",
      "\\begin{array}{cc}\n",
      "\\Qcircuit @C=1em @R=.7em { & \\lstick{ H   a } & \\qw & \\ctrl{1} & \\rstick{b} \\qw \\\\  & \\lstick{x} & /^{n} \\qw & \\gate{U^{2^{k}}} & \\rstick{y} \\qw} & ~ \n",
      "\\end{array}\n",
      "\\right]\\right)\\right]$  assuming $k \\in \\mathbb{N}$ \n",
      "                    specializing $\\forall_{ u  \\in SU\\left( 2 \\right)} \\left[\\forall_{ a , b  \\in \\left(\\mathbb{C}^{2}\\right)} \\left[\\forall_{ x , y  \\in \\left(\\mathbb{C}^{2}\\right)^{\\otimes n}} \\left(\\left[\n",
      "\\begin{array}{cc}\n",
      "\\Qcircuit @C=1em @R=.7em { & \\lstick{a} & \\gate{u} & \\ctrl{1} & \\rstick{b} \\qw \\\\  & \\lstick{x} & /^{n} \\qw & \\gate{U^{2^{k}}} & \\rstick{y} \\qw} & ~ \n",
      "\\end{array}\n",
      "\\right] = \\left[\n",
      "\\begin{array}{cc}\n",
      "\\Qcircuit @C=1em @R=.7em { & \\lstick{ u   a } & \\qw & \\ctrl{1} & \\rstick{b} \\qw \\\\  & \\lstick{x} & /^{n} \\qw & \\gate{U^{2^{k}}} & \\rstick{y} \\qw} & ~ \n",
      "\\end{array}\n",
      "\\right]\\right)\\right]\\right]$  assuming $k \\in \\mathbb{N}$ \n",
      "                      specializing $\\forall_{ U  \\in SU\\left( 2^{n} \\right)} \\left[\\forall_{ u  \\in SU\\left( 2 \\right)} \\left[\\forall_{ a , b  \\in \\left(\\mathbb{C}^{2}\\right)} \\left[\\forall_{ x , y  \\in \\left(\\mathbb{C}^{2}\\right)^{\\otimes n}} \\left(\\left[\n",
      "\\begin{array}{cc}\n",
      "\\Qcircuit @C=1em @R=.7em { & \\lstick{a} & \\gate{u} & \\ctrl{1} & \\rstick{b} \\qw \\\\  & \\lstick{x} & /^{n} \\qw & \\gate{U} & \\rstick{y} \\qw} & ~ \n",
      "\\end{array}\n",
      "\\right] = \\left[\n",
      "\\begin{array}{cc}\n",
      "\\Qcircuit @C=1em @R=.7em { & \\lstick{ u   a } & \\qw & \\ctrl{1} & \\rstick{b} \\qw \\\\  & \\lstick{x} & /^{n} \\qw & \\gate{U} & \\rstick{y} \\qw} & ~ \n",
      "\\end{array}\n",
      "\\right]\\right)\\right]\\right]\\right]$ \n",
      "                        specializing $\\forall_{ n  \\in \\mathbb{N}^+} \\left[\\forall_{ U  \\in SU\\left( 2^{n} \\right)} \\left[\\forall_{ u  \\in SU\\left( 2 \\right)} \\left[\\forall_{ a , b  \\in \\left(\\mathbb{C}^{2}\\right)} \\left[\\forall_{ x , y  \\in \\left(\\mathbb{C}^{2}\\right)^{\\otimes n}} \\left(\\left[\n",
      "\\begin{array}{cc}\n",
      "\\Qcircuit @C=1em @R=.7em { & \\lstick{a} & \\gate{u} & \\ctrl{1} & \\rstick{b} \\qw \\\\  & \\lstick{x} & /^{n} \\qw & \\gate{U} & \\rstick{y} \\qw} & ~ \n",
      "\\end{array}\n",
      "\\right] = \\left[\n",
      "\\begin{array}{cc}\n",
      "\\Qcircuit @C=1em @R=.7em { & \\lstick{ u   a } & \\qw & \\ctrl{1} & \\rstick{b} \\qw \\\\  & \\lstick{x} & /^{n} \\qw & \\gate{U} & \\rstick{y} \\qw} & ~ \n",
      "\\end{array}\n",
      "\\right]\\right)\\right]\\right]\\right]\\right]$ \n",
      "                          by theorem proveit.physics.quantum.pregatedControlledNgateEquiv\n",
      "                        condition $n \\in \\mathbb{N}^+$ \n",
      "                          by axiom proveit.physics.quantum.QPE.nInNatPos\n",
      "                      condition $\\left(U^{2^{k}}\\right) \\in SU\\left( 2^{n} \\right)$  assuming $k \\in \\mathbb{N}$ \n",
      "                        specializing $\\forall_{ U  \\in SU\\left( 2^{n} \\right)} \\left(\\left(U^{2^{k}}\\right) \\in SU\\left( 2^{n} \\right)\\right)$  assuming $k \\in \\mathbb{N}$ \n",
      "                          specializing $\\forall_{ n , k  \\in \\mathbb{N}^+} \\left[\\forall_{ U  \\in SU\\left( n \\right)} \\left(\\left(U^{k}\\right) \\in SU\\left( n \\right)\\right)\\right]$ \n",
      "                            by theorem proveit.linalg.intPowSUclosure\n",
      "                          condition $\\left(2^{k}\\right) \\in \\mathbb{N}^+$  assuming $k \\in \\mathbb{N}$ \n",
      "                            specializing $\\forall_{ a , b  \\in \\mathbb{N}~|~ \\left(a \\neq 0\\right) } \\left(\\left(a^{b}\\right) \\in \\mathbb{N}^+\\right)$ \n",
      "                              by theorem proveit.number.natural.powClosure\n",
      "                            condition $2 \\neq 0$ \n",
      "                              specializing $\\forall_{ a  \\in \\mathbb{R}~|~ \\left(a > 0\\right) } \\left(a \\neq 0\\right)$ \n",
      "                                by theorem proveit.number.real.positive_implies_notzero\n",
      "                              condition $2 > 0$ \n",
      "                                implication $\\left(2 \\in \\mathbb{R}^+\\right) \\Rightarrow \\left(2 > 0\\right)$ \n",
      "                                  implication $\\left(\\left(2 \\in \\mathbb{R}^+\\right) \\Leftrightarrow \\left(2 > 0\\right)\\right) \\Rightarrow \\left(\\left(2 \\in \\mathbb{R}^+\\right) \\Rightarrow \\left(2 > 0\\right)\\right)$ \n",
      "                                    specializing $\\forall_{ A , B } \\left(\\left(A \\Leftrightarrow B\\right) \\Rightarrow \\left(A \\Rightarrow B\\right)\\right)$ \n",
      "                                      by theorem proveit.basiclogic.boolean.iffImpliesRight\n",
      "                                  hypothesis $\\left(2 \\in \\mathbb{R}^+\\right) \\Leftrightarrow \\left(2 > 0\\right)$ \n",
      "                                    specializing $\\forall_{ a  \\in \\mathbb{R}} \\left(\\left(a \\in \\mathbb{R}^+\\right) \\Leftrightarrow \\left(a > 0\\right)\\right)$ \n",
      "                                      by theorem proveit.number.real.inRealsPos_iff_positive\n",
      "                                    condition $2 \\in \\mathbb{R}$ \n",
      "                                      specializing $\\forall_{ a  \\in \\mathbb{N}^+} \\left(a \\in \\mathbb{R}\\right)$ \n",
      "                                        by theorem proveit.number.natural.inNatPos_inReals\n",
      "                                      condition $2 \\in \\mathbb{N}^+$ \n",
      "                                hypothesis $2 \\in \\mathbb{R}^+$ \n",
      "                                  specializing $\\forall_{ a  \\in \\mathbb{N}^+} \\left(a \\in \\mathbb{R}^+\\right)$ \n",
      "                                    by theorem proveit.number.natural.inNatPos_inRealsPos\n",
      "                                  condition $2 \\in \\mathbb{N}^+$  proven above\n",
      "                              condition $2 \\in \\mathbb{R}$  proven above\n",
      "                            condition $2 \\in \\mathbb{N}$ \n",
      "                              specializing $\\forall_{ a  \\in \\mathbb{N}^+} \\left(a \\in \\mathbb{N}\\right)$ \n",
      "                                by theorem proveit.number.natural.inNatPos_inNaturals\n",
      "                              condition $2 \\in \\mathbb{N}^+$  proven above\n",
      "                            condition $k \\in \\mathbb{N}$  assuming $k \\in \\mathbb{N}$ \n",
      "                          condition $\\left(2^{n}\\right) \\in \\mathbb{N}^+$ \n",
      "                            specializing $\\forall_{ a , b  \\in \\mathbb{N}~|~ \\left(a \\neq 0\\right) } \\left(\\left(a^{b}\\right) \\in \\mathbb{N}^+\\right)$  proven above\n",
      "                            condition $n \\in \\mathbb{N}$ \n",
      "                              specializing $\\forall_{ a  \\in \\mathbb{N}^+} \\left(a \\in \\mathbb{N}\\right)$  proven above\n",
      "                              condition $n \\in \\mathbb{N}^+$  proven above\n",
      "                            condition $2 \\neq 0$  proven above\n",
      "                            condition $2 \\in \\mathbb{N}$  proven above\n",
      "                        condition $U \\in SU\\left( 2^{n} \\right)$ \n",
      "                          by axiom proveit.physics.quantum.QPE.unitaryU\n",
      "                    condition $H \\in SU\\left( 2 \\right)$ \n",
      "                      by theorem proveit.physics.quantum.unitaryHadamard\n",
      "                  condition $\\lvert 0 \\rangle \\in \\left(\\mathbb{C}^{2}\\right)$ \n",
      "                    by axiom proveit.physics.quantum.ketZeroInQubitSpace\n",
      "                  condition $b \\in \\left(\\mathbb{C}^{2}\\right)$  assuming $b \\in \\left(\\mathbb{C}^{2}\\right)$ \n",
      "                condition $\\lvert u \\rangle \\in \\left(\\mathbb{C}^{2}\\right)^{\\otimes n}$ \n",
      "                  by axiom proveit.physics.quantum.QPE.uKetRegister\n",
      "        condition $\\left( \\left(\\frac{1}{\\sqrt{2}}   \\lvert 0 \\rangle\\right) + \\left(\\frac{e^{ 2 \\cdot \\pi \\cdot i \\cdot \\varphi \\cdot \\left(2^{k}\\right) }}{\\sqrt{2}}   \\lvert 1 \\rangle\\right) \\right) \\in \\left(\\mathbb{C}^{2}\\right)$  assuming $k \\in \\mathbb{N}$ \n",
      "          specializing $\\forall_{~.., x_{\\Box} ,..~ \\in \\left(\\mathbb{C}^{2}\\right)} \\left(\\left(~..+ x_{\\Box} +..~\\right) \\in \\left(\\mathbb{C}^{2}\\right)\\right)$ \n",
      "            by theorem proveit.physics.quantum.summedQubitStateInQubitSpace\n",
      "          condition $\\left(\\frac{1}{\\sqrt{2}}   \\lvert 0 \\rangle\\right) \\in \\left(\\mathbb{C}^{2}\\right)$ \n",
      "            specializing $\\forall_{ \\alpha  \\in \\mathbb{C}} \\left(\\left(\\alpha   \\lvert 0 \\rangle\\right) \\in \\left(\\mathbb{C}^{2}\\right)\\right)$ \n",
      "              specializing $\\forall_{ x  \\in \\left(\\mathbb{C}^{2}\\right)} \\left[\\forall_{ \\alpha  \\in \\mathbb{C}} \\left(\\left(\\alpha   x\\right) \\in \\left(\\mathbb{C}^{2}\\right)\\right)\\right]$ \n",
      "                by theorem proveit.physics.quantum.scaledQubitStateInQubitSpace\n",
      "              condition $\\lvert 0 \\rangle \\in \\left(\\mathbb{C}^{2}\\right)$  proven above\n",
      "            condition $\\frac{1}{\\sqrt{2}} \\in \\mathbb{C}$ \n",
      "              specializing $\\forall_{ a  \\in \\mathbb{R}^+} \\left(a \\in \\mathbb{C}\\right)$ \n",
      "                by theorem proveit.number.real.inRealsPos_inComplexes\n",
      "              condition $\\frac{1}{\\sqrt{2}} \\in \\mathbb{R}^+$ \n",
      "                specializing $\\forall_{ a , b  \\in \\mathbb{R}^+~|~ \\left(b \\neq 0\\right) } \\left(\\frac{a}{b} \\in \\mathbb{R}^+\\right)$ \n",
      "                  by theorem proveit.number.real.fractionPosClosure\n",
      "                condition $\\sqrt{2} \\neq 0$ \n",
      "                  specializing $\\forall_{ a  \\in \\mathbb{R}~|~ \\left(a > 0\\right) } \\left(a \\neq 0\\right)$  proven above\n",
      "                  condition $\\sqrt{2} > 0$ \n",
      "                    implication $\\left(\\sqrt{2} \\in \\mathbb{R}^+\\right) \\Rightarrow \\left(\\sqrt{2} > 0\\right)$ \n",
      "                      implication $\\left(\\left(\\sqrt{2} \\in \\mathbb{R}^+\\right) \\Leftrightarrow \\left(\\sqrt{2} > 0\\right)\\right) \\Rightarrow \\left(\\left(\\sqrt{2} \\in \\mathbb{R}^+\\right) \\Rightarrow \\left(\\sqrt{2} > 0\\right)\\right)$ \n",
      "                        specializing $\\forall_{ A , B } \\left(\\left(A \\Leftrightarrow B\\right) \\Rightarrow \\left(A \\Rightarrow B\\right)\\right)$  proven above\n",
      "                      hypothesis $\\left(\\sqrt{2} \\in \\mathbb{R}^+\\right) \\Leftrightarrow \\left(\\sqrt{2} > 0\\right)$ \n",
      "                        specializing $\\forall_{ a  \\in \\mathbb{R}} \\left(\\left(a \\in \\mathbb{R}^+\\right) \\Leftrightarrow \\left(a > 0\\right)\\right)$  proven above\n",
      "                        condition $\\sqrt{2} \\in \\mathbb{R}$ \n",
      "                          specializing $\\forall_{ a  \\in \\mathbb{R}^+} \\left(a \\in \\mathbb{R}\\right)$ \n",
      "                            by theorem proveit.number.real.inRealsPos_inReals\n",
      "                          condition $\\sqrt{2} \\in \\mathbb{R}^+$ \n",
      "                            specializing $\\forall_{ a  \\in \\mathbb{R}^+} \\left(\\sqrt{a} \\in \\mathbb{R}^+\\right)$ \n",
      "                              by theorem proveit.number.real.sqrtPosClosure\n",
      "                            condition $2 \\in \\mathbb{R}^+$  proven above\n",
      "                    hypothesis $\\sqrt{2} \\in \\mathbb{R}^+$  proven above\n",
      "                  condition $\\sqrt{2} \\in \\mathbb{R}$  proven above\n",
      "                condition $1 \\in \\mathbb{R}^+$ \n",
      "                  specializing $\\forall_{ a  \\in \\mathbb{N}^+} \\left(a \\in \\mathbb{R}^+\\right)$  proven above\n",
      "                  condition $1 \\in \\mathbb{N}^+$ \n",
      "                    by theorem proveit.number.natural.oneInNaturalsPos\n",
      "                condition $\\sqrt{2} \\in \\mathbb{R}^+$  proven above\n",
      "          condition $\\left(\\frac{e^{ 2 \\cdot \\pi \\cdot i \\cdot \\varphi \\cdot \\left(2^{k}\\right) }}{\\sqrt{2}}   \\lvert 1 \\rangle\\right) \\in \\left(\\mathbb{C}^{2}\\right)$  assuming $k \\in \\mathbb{N}$ \n",
      "            specializing $\\forall_{ \\alpha  \\in \\mathbb{C}} \\left(\\left(\\alpha   \\lvert 1 \\rangle\\right) \\in \\left(\\mathbb{C}^{2}\\right)\\right)$ \n",
      "              specializing $\\forall_{ x  \\in \\left(\\mathbb{C}^{2}\\right)} \\left[\\forall_{ \\alpha  \\in \\mathbb{C}} \\left(\\left(\\alpha   x\\right) \\in \\left(\\mathbb{C}^{2}\\right)\\right)\\right]$  proven above\n",
      "              condition $\\lvert 1 \\rangle \\in \\left(\\mathbb{C}^{2}\\right)$ \n",
      "                by axiom proveit.physics.quantum.ketOneInQubitSpace\n",
      "            condition $\\frac{e^{ 2 \\cdot \\pi \\cdot i \\cdot \\varphi \\cdot \\left(2^{k}\\right) }}{\\sqrt{2}} \\in \\mathbb{C}$  assuming $k \\in \\mathbb{N}$ \n",
      "              specializing $\\forall_{ a , b  \\in \\mathbb{C}~|~ \\left(b \\neq 0\\right) } \\left(\\frac{a}{b} \\in \\mathbb{C}\\right)$ \n",
      "                by theorem proveit.number.complex.fractionClosure\n",
      "              condition $\\sqrt{2} \\in \\mathbb{C}$ \n",
      "                specializing $\\forall_{ a  \\in \\mathbb{R}^+} \\left(a \\in \\mathbb{C}\\right)$  proven above\n",
      "                condition $\\sqrt{2} \\in \\mathbb{R}^+$  proven above\n",
      "              condition $\\sqrt{2} \\neq 0$  proven above\n",
      "              condition $\\left(e^{ 2 \\cdot \\pi \\cdot i \\cdot \\varphi \\cdot \\left(2^{k}\\right) }\\right) \\in \\mathbb{C}$  assuming $k \\in \\mathbb{N}$ \n",
      "                specializing $\\forall_{ a , b  \\in \\mathbb{C}~|~ \\left(a \\neq 0\\right) } \\left(\\left(a^{b}\\right) \\in \\mathbb{C}\\right)$ \n",
      "                  by theorem proveit.number.complex.powClosure\n",
      "                condition $e \\in \\mathbb{C}$ \n",
      "                  specializing $\\forall_{ a  \\in \\mathbb{R}^+} \\left(a \\in \\mathbb{C}\\right)$  proven above\n",
      "                  condition $e \\in \\mathbb{R}^+$ \n",
      "                condition $\\left( 2 \\cdot \\pi \\cdot i \\cdot \\varphi \\cdot \\left(2^{k}\\right) \\right) \\in \\mathbb{C}$  assuming $k \\in \\mathbb{N}$ \n",
      "                  specializing $\\forall_{~.., x_{\\Box} ,..~ \\in \\mathbb{C}} \\left(\\left(~..\\cdot x_{\\Box} \\cdot..~\\right) \\in \\mathbb{C}\\right)$ \n",
      "                    by theorem proveit.number.complex.multClosure\n",
      "                  condition $\\left(2^{k}\\right) \\in \\mathbb{C}$  assuming $k \\in \\mathbb{N}$ \n",
      "                    specializing $\\forall_{ a  \\in \\mathbb{N}^+} \\left(a \\in \\mathbb{C}\\right)$ \n",
      "                      by theorem proveit.number.natural.inNatPos_inComplexes\n",
      "                    condition $\\left(2^{k}\\right) \\in \\mathbb{N}^+$  assuming $k \\in \\mathbb{N}$  proven above\n",
      "                  condition $\\varphi \\in \\mathbb{C}$ \n",
      "                    specializing $\\forall_{ a  \\in \\mathbb{R}} \\left(a \\in \\mathbb{C}\\right)$ \n",
      "                      by theorem proveit.number.real.inComplexes\n",
      "                    condition $\\varphi \\in \\mathbb{R}$ \n",
      "                      by theorem proveit.physics.quantum.QPE.phaseInReals\n",
      "                  condition $2 \\in \\mathbb{C}$ \n",
      "                    specializing $\\forall_{ a  \\in \\mathbb{N}^+} \\left(a \\in \\mathbb{C}\\right)$  proven above\n",
      "                    condition $2 \\in \\mathbb{N}^+$  proven above\n",
      "                  condition $\\pi \\in \\mathbb{C}$ \n",
      "                    specializing $\\forall_{ a  \\in \\mathbb{R}^+} \\left(a \\in \\mathbb{C}\\right)$  proven above\n",
      "                    condition $\\pi \\in \\mathbb{R}^+$ \n",
      "                      by theorem proveit.number.real.piInRealsPos\n",
      "                  condition $i \\in \\mathbb{C}$ \n",
      "                condition $e \\neq 0$ \n",
      "                  specializing $\\forall_{ a  \\in \\mathbb{R}~|~ \\left(a > 0\\right) } \\left(a \\neq 0\\right)$  proven above\n",
      "                  condition $e \\in \\mathbb{R}$ \n",
      "                    specializing $\\forall_{ a  \\in \\mathbb{R}^+} \\left(a \\in \\mathbb{R}\\right)$  proven above\n",
      "                    condition $e \\in \\mathbb{R}^+$  proven above\n",
      "                  condition $e > 0$ \n",
      "                    implication $\\left(e \\in \\mathbb{R}^+\\right) \\Rightarrow \\left(e > 0\\right)$ \n",
      "                      implication $\\left(\\left(e \\in \\mathbb{R}^+\\right) \\Leftrightarrow \\left(e > 0\\right)\\right) \\Rightarrow \\left(\\left(e \\in \\mathbb{R}^+\\right) \\Rightarrow \\left(e > 0\\right)\\right)$ \n",
      "                        specializing $\\forall_{ A , B } \\left(\\left(A \\Leftrightarrow B\\right) \\Rightarrow \\left(A \\Rightarrow B\\right)\\right)$  proven above\n",
      "                      hypothesis $\\left(e \\in \\mathbb{R}^+\\right) \\Leftrightarrow \\left(e > 0\\right)$ \n",
      "                        specializing $\\forall_{ a  \\in \\mathbb{R}} \\left(\\left(a \\in \\mathbb{R}^+\\right) \\Leftrightarrow \\left(a > 0\\right)\\right)$  proven above\n",
      "                        condition $e \\in \\mathbb{R}$  proven above\n",
      "                    hypothesis $e \\in \\mathbb{R}^+$  proven above\n",
      "    hypothesis $\\begin{array}{cc}\n",
      "\\Qcircuit @C=1em @R=.7em { & \\lstick{ \\left(\\frac{1}{\\sqrt{2}}   \\lvert 0 \\rangle\\right) + \\left(\\frac{1}{\\sqrt{2}}   \\lvert 1 \\rangle\\right) } & \\qw & \\ctrl{1} & \\rstick{ \\left(\\frac{1}{\\sqrt{2}}   \\lvert 0 \\rangle\\right) + \\left(\\frac{e^{ 2 \\cdot \\pi \\cdot i \\cdot \\varphi \\cdot \\left(2^{k}\\right) }}{\\sqrt{2}}   \\lvert 1 \\rangle\\right) } \\qw \\\\  & \\lstick{\\lvert u \\rangle} & /^{n} \\qw & \\gate{U^{2^{k}}} & \\rstick{\\lvert u \\rangle} \\qw} & ~ \n",
      "\\end{array}$  assuming $k \\in \\mathbb{N}$ \n",
      "      implication $\\left( \\left[\n",
      "\\begin{array}{cc}\n",
      "\\Qcircuit @C=1em @R=.7em { & \\lstick{\\frac{1}{\\sqrt{2}}   \\lvert 0 \\rangle} & \\qw & \\ctrl{1} & \\rstick{\\frac{1}{\\sqrt{2}}   \\lvert 0 \\rangle} \\qw \\\\  & \\lstick{\\lvert u \\rangle} & /^{n} \\qw & \\gate{U^{2^{k}}} & \\rstick{\\lvert u \\rangle} \\qw} & ~ \n",
      "\\end{array}\n",
      "\\right] \\land \\left[\n",
      "\\begin{array}{cc}\n",
      "\\Qcircuit @C=1em @R=.7em { & \\lstick{\\frac{1}{\\sqrt{2}}   \\lvert 1 \\rangle} & \\qw & \\ctrl{1} & \\rstick{\\frac{e^{ 2 \\cdot \\pi \\cdot i \\cdot \\varphi \\cdot \\left(2^{k}\\right) }}{\\sqrt{2}}   \\lvert 1 \\rangle} \\qw \\\\  & \\lstick{\\lvert u \\rangle} & /^{n} \\qw & \\gate{U^{2^{k}}} & \\rstick{\\lvert u \\rangle} \\qw} & ~ \n",
      "\\end{array}\n",
      "\\right] \\right) \\Rightarrow \\left[\n",
      "\\begin{array}{cc}\n",
      "\\Qcircuit @C=1em @R=.7em { & \\lstick{ \\left(\\frac{1}{\\sqrt{2}}   \\lvert 0 \\rangle\\right) + \\left(\\frac{1}{\\sqrt{2}}   \\lvert 1 \\rangle\\right) } & \\qw & \\ctrl{1} & \\rstick{ \\left(\\frac{1}{\\sqrt{2}}   \\lvert 0 \\rangle\\right) + \\left(\\frac{e^{ 2 \\cdot \\pi \\cdot i \\cdot \\varphi \\cdot \\left(2^{k}\\right) }}{\\sqrt{2}}   \\lvert 1 \\rangle\\right) } \\qw \\\\  & \\lstick{\\lvert u \\rangle} & /^{n} \\qw & \\gate{U^{2^{k}}} & \\rstick{\\lvert u \\rangle} \\qw} & ~ \n",
      "\\end{array}\n",
      "\\right]$  assuming $k \\in \\mathbb{N}$ \n",
      "        specializing $\\forall_{ x , y  \\in \\left(\\mathbb{C}^{2}\\right)^{\\otimes n}} \\left(\\left( \\left[\n",
      "\\begin{array}{cc}\n",
      "\\Qcircuit @C=1em @R=.7em { & \\lstick{\\frac{1}{\\sqrt{2}}   \\lvert 0 \\rangle} & \\qw & \\ctrl{1} & \\rstick{\\frac{1}{\\sqrt{2}}   \\lvert 0 \\rangle} \\qw \\\\  & \\lstick{x} & /^{n} \\qw & \\gate{U^{2^{k}}} & \\rstick{y} \\qw} & ~ \n",
      "\\end{array}\n",
      "\\right] \\land \\left[\n",
      "\\begin{array}{cc}\n",
      "\\Qcircuit @C=1em @R=.7em { & \\lstick{\\frac{1}{\\sqrt{2}}   \\lvert 1 \\rangle} & \\qw & \\ctrl{1} & \\rstick{\\frac{e^{ 2 \\cdot \\pi \\cdot i \\cdot \\varphi \\cdot \\left(2^{k}\\right) }}{\\sqrt{2}}   \\lvert 1 \\rangle} \\qw \\\\  & \\lstick{x} & /^{n} \\qw & \\gate{U^{2^{k}}} & \\rstick{y} \\qw} & ~ \n",
      "\\end{array}\n",
      "\\right] \\right) \\Rightarrow \\left[\n",
      "\\begin{array}{cc}\n",
      "\\Qcircuit @C=1em @R=.7em { & \\lstick{ \\left(\\frac{1}{\\sqrt{2}}   \\lvert 0 \\rangle\\right) + \\left(\\frac{1}{\\sqrt{2}}   \\lvert 1 \\rangle\\right) } & \\qw & \\ctrl{1} & \\rstick{ \\left(\\frac{1}{\\sqrt{2}}   \\lvert 0 \\rangle\\right) + \\left(\\frac{e^{ 2 \\cdot \\pi \\cdot i \\cdot \\varphi \\cdot \\left(2^{k}\\right) }}{\\sqrt{2}}   \\lvert 1 \\rangle\\right) } \\qw \\\\  & \\lstick{x} & /^{n} \\qw & \\gate{U^{2^{k}}} & \\rstick{y} \\qw} & ~ \n",
      "\\end{array}\n",
      "\\right]\\right)$  assuming $k \\in \\mathbb{N}$ \n",
      "          specializing $\\forall_{ a , b , c , d  \\in \\left(\\mathbb{C}^{2}\\right)} \\left[\\forall_{ x , y  \\in \\left(\\mathbb{C}^{2}\\right)^{\\otimes n}} \\left(\\left( \\left[\n",
      "\\begin{array}{cc}\n",
      "\\Qcircuit @C=1em @R=.7em { & \\lstick{a} & \\qw & \\ctrl{1} & \\rstick{c} \\qw \\\\  & \\lstick{x} & /^{n} \\qw & \\gate{U^{2^{k}}} & \\rstick{y} \\qw} & ~ \n",
      "\\end{array}\n",
      "\\right] \\land \\left[\n",
      "\\begin{array}{cc}\n",
      "\\Qcircuit @C=1em @R=.7em { & \\lstick{b} & \\qw & \\ctrl{1} & \\rstick{d} \\qw \\\\  & \\lstick{x} & /^{n} \\qw & \\gate{U^{2^{k}}} & \\rstick{y} \\qw} & ~ \n",
      "\\end{array}\n",
      "\\right] \\right) \\Rightarrow \\left[\n",
      "\\begin{array}{cc}\n",
      "\\Qcircuit @C=1em @R=.7em { & \\lstick{ a + b } & \\qw & \\ctrl{1} & \\rstick{ c + d } \\qw \\\\  & \\lstick{x} & /^{n} \\qw & \\gate{U^{2^{k}}} & \\rstick{y} \\qw} & ~ \n",
      "\\end{array}\n",
      "\\right]\\right)\\right]$  assuming $k \\in \\mathbb{N}$ \n",
      "            specializing $\\forall_{ U  \\in SU\\left( 2^{n} \\right)} \\left[\\forall_{ a , b , c , d  \\in \\left(\\mathbb{C}^{2}\\right)} \\left[\\forall_{ x , y  \\in \\left(\\mathbb{C}^{2}\\right)^{\\otimes n}} \\left(\\left( \\left[\n",
      "\\begin{array}{cc}\n",
      "\\Qcircuit @C=1em @R=.7em { & \\lstick{a} & \\qw & \\ctrl{1} & \\rstick{c} \\qw \\\\  & \\lstick{x} & /^{n} \\qw & \\gate{U} & \\rstick{y} \\qw} & ~ \n",
      "\\end{array}\n",
      "\\right] \\land \\left[\n",
      "\\begin{array}{cc}\n",
      "\\Qcircuit @C=1em @R=.7em { & \\lstick{b} & \\qw & \\ctrl{1} & \\rstick{d} \\qw \\\\  & \\lstick{x} & /^{n} \\qw & \\gate{U} & \\rstick{y} \\qw} & ~ \n",
      "\\end{array}\n",
      "\\right] \\right) \\Rightarrow \\left[\n",
      "\\begin{array}{cc}\n",
      "\\Qcircuit @C=1em @R=.7em { & \\lstick{ a + b } & \\qw & \\ctrl{1} & \\rstick{ c + d } \\qw \\\\  & \\lstick{x} & /^{n} \\qw & \\gate{U} & \\rstick{y} \\qw} & ~ \n",
      "\\end{array}\n",
      "\\right]\\right)\\right]\\right]$ \n",
      "              specializing $\\forall_{ n  \\in \\mathbb{N}^+} \\left[\\forall_{ U  \\in SU\\left( 2^{n} \\right)} \\left[\\forall_{ a , b , c , d  \\in \\left(\\mathbb{C}^{2}\\right)} \\left[\\forall_{ x , y  \\in \\left(\\mathbb{C}^{2}\\right)^{\\otimes n}} \\left(\\left( \\left[\n",
      "\\begin{array}{cc}\n",
      "\\Qcircuit @C=1em @R=.7em { & \\lstick{a} & \\qw & \\ctrl{1} & \\rstick{c} \\qw \\\\  & \\lstick{x} & /^{n} \\qw & \\gate{U} & \\rstick{y} \\qw} & ~ \n",
      "\\end{array}\n",
      "\\right] \\land \\left[\n",
      "\\begin{array}{cc}\n",
      "\\Qcircuit @C=1em @R=.7em { & \\lstick{b} & \\qw & \\ctrl{1} & \\rstick{d} \\qw \\\\  & \\lstick{x} & /^{n} \\qw & \\gate{U} & \\rstick{y} \\qw} & ~ \n",
      "\\end{array}\n",
      "\\right] \\right) \\Rightarrow \\left[\n",
      "\\begin{array}{cc}\n",
      "\\Qcircuit @C=1em @R=.7em { & \\lstick{ a + b } & \\qw & \\ctrl{1} & \\rstick{ c + d } \\qw \\\\  & \\lstick{x} & /^{n} \\qw & \\gate{U} & \\rstick{y} \\qw} & ~ \n",
      "\\end{array}\n",
      "\\right]\\right)\\right]\\right]\\right]$ \n",
      "                by theorem proveit.physics.quantum.superpositionControlledNgate\n",
      "              condition $n \\in \\mathbb{N}^+$  proven above\n",
      "            condition $\\left(U^{2^{k}}\\right) \\in SU\\left( 2^{n} \\right)$  assuming $k \\in \\mathbb{N}$  proven above\n",
      "          condition $\\left(\\frac{1}{\\sqrt{2}}   \\lvert 0 \\rangle\\right) \\in \\left(\\mathbb{C}^{2}\\right)$  proven above\n",
      "          condition $\\left(\\frac{1}{\\sqrt{2}}   \\lvert 1 \\rangle\\right) \\in \\left(\\mathbb{C}^{2}\\right)$ \n",
      "            specializing $\\forall_{ \\alpha  \\in \\mathbb{C}} \\left(\\left(\\alpha   \\lvert 1 \\rangle\\right) \\in \\left(\\mathbb{C}^{2}\\right)\\right)$  proven above\n",
      "            condition $\\frac{1}{\\sqrt{2}} \\in \\mathbb{C}$  proven above\n",
      "          condition $\\left(\\frac{e^{ 2 \\cdot \\pi \\cdot i \\cdot \\varphi \\cdot \\left(2^{k}\\right) }}{\\sqrt{2}}   \\lvert 1 \\rangle\\right) \\in \\left(\\mathbb{C}^{2}\\right)$  assuming $k \\in \\mathbb{N}$  proven above\n",
      "        condition $\\lvert u \\rangle \\in \\left(\\mathbb{C}^{2}\\right)^{\\otimes n}$  proven above\n",
      "      hypothesis $ \\left[\n",
      "\\begin{array}{cc}\n",
      "\\Qcircuit @C=1em @R=.7em { & \\lstick{\\frac{1}{\\sqrt{2}}   \\lvert 0 \\rangle} & \\qw & \\ctrl{1} & \\rstick{\\frac{1}{\\sqrt{2}}   \\lvert 0 \\rangle} \\qw \\\\  & \\lstick{\\lvert u \\rangle} & /^{n} \\qw & \\gate{U^{2^{k}}} & \\rstick{\\lvert u \\rangle} \\qw} & ~ \n",
      "\\end{array}\n",
      "\\right] \\land \\left[\n",
      "\\begin{array}{cc}\n",
      "\\Qcircuit @C=1em @R=.7em { & \\lstick{\\frac{1}{\\sqrt{2}}   \\lvert 1 \\rangle} & \\qw & \\ctrl{1} & \\rstick{\\frac{e^{ 2 \\cdot \\pi \\cdot i \\cdot \\varphi \\cdot \\left(2^{k}\\right) }}{\\sqrt{2}}   \\lvert 1 \\rangle} \\qw \\\\  & \\lstick{\\lvert u \\rangle} & /^{n} \\qw & \\gate{U^{2^{k}}} & \\rstick{\\lvert u \\rangle} \\qw} & ~ \n",
      "\\end{array}\n",
      "\\right] $  assuming $k \\in \\mathbb{N}$ \n",
      "        specializing $\\forall_{ A , B ~|~ A , B } \\left( A \\land B \\right)$ \n",
      "          by theorem proveit.basiclogic.boolean.conjunctionIntro\n",
      "        condition $\\begin{array}{cc}\n",
      "\\Qcircuit @C=1em @R=.7em { & \\lstick{\\frac{1}{\\sqrt{2}}   \\lvert 1 \\rangle} & \\qw & \\ctrl{1} & \\rstick{\\frac{e^{ 2 \\cdot \\pi \\cdot i \\cdot \\varphi \\cdot \\left(2^{k}\\right) }}{\\sqrt{2}}   \\lvert 1 \\rangle} \\qw \\\\  & \\lstick{\\lvert u \\rangle} & /^{n} \\qw & \\gate{U^{2^{k}}} & \\rstick{\\lvert u \\rangle} \\qw} & ~ \n",
      "\\end{array}$  assuming $k \\in \\mathbb{N}$ \n",
      "          implication $\\left[\n",
      "\\begin{array}{cc}\n",
      "\\Qcircuit @C=1em @R=.7em { & \\lstick{\\frac{1}{\\sqrt{2}}   \\lvert 1 \\rangle} & \\qw & \\ctrl{1} & \\rstick{\\frac{1}{\\sqrt{2}}   \\lvert 1 \\rangle} \\qw \\\\  & \\lstick{\\lvert u \\rangle} & /^{n} \\qw & \\gate{U^{2^{k}}} & \\rstick{ \\left(U^{2^{k}}\\right)   \\lvert u \\rangle } \\qw} & ~ \n",
      "\\end{array}\n",
      "\\right] \\Rightarrow \\left[\n",
      "\\begin{array}{cc}\n",
      "\\Qcircuit @C=1em @R=.7em { & \\lstick{\\frac{1}{\\sqrt{2}}   \\lvert 1 \\rangle} & \\qw & \\ctrl{1} & \\rstick{\\frac{e^{ 2 \\cdot \\pi \\cdot i \\cdot \\varphi \\cdot \\left(2^{k}\\right) }}{\\sqrt{2}}   \\lvert 1 \\rangle} \\qw \\\\  & \\lstick{\\lvert u \\rangle} & /^{n} \\qw & \\gate{U^{2^{k}}} & \\rstick{\\lvert u \\rangle} \\qw} & ~ \n",
      "\\end{array}\n",
      "\\right]$  assuming $k \\in \\mathbb{N}$ \n",
      "            implication $\\left(\\left[\n",
      "\\begin{array}{cc}\n",
      "\\Qcircuit @C=1em @R=.7em { & \\lstick{\\frac{1}{\\sqrt{2}}   \\lvert 1 \\rangle} & \\qw & \\ctrl{1} & \\rstick{\\frac{1}{\\sqrt{2}}   \\lvert 1 \\rangle} \\qw \\\\  & \\lstick{\\lvert u \\rangle} & /^{n} \\qw & \\gate{U^{2^{k}}} & \\rstick{ \\left(U^{2^{k}}\\right)   \\lvert u \\rangle } \\qw} & ~ \n",
      "\\end{array}\n",
      "\\right] = \\left[\n",
      "\\begin{array}{cc}\n",
      "\\Qcircuit @C=1em @R=.7em { & \\lstick{\\frac{1}{\\sqrt{2}}   \\lvert 1 \\rangle} & \\qw & \\ctrl{1} & \\rstick{\\frac{e^{ 2 \\cdot \\pi \\cdot i \\cdot \\varphi \\cdot \\left(2^{k}\\right) }}{\\sqrt{2}}   \\lvert 1 \\rangle} \\qw \\\\  & \\lstick{\\lvert u \\rangle} & /^{n} \\qw & \\gate{U^{2^{k}}} & \\rstick{\\lvert u \\rangle} \\qw} & ~ \n",
      "\\end{array}\n",
      "\\right]\\right) \\Rightarrow \\left(\\left[\n",
      "\\begin{array}{cc}\n",
      "\\Qcircuit @C=1em @R=.7em { & \\lstick{\\frac{1}{\\sqrt{2}}   \\lvert 1 \\rangle} & \\qw & \\ctrl{1} & \\rstick{\\frac{1}{\\sqrt{2}}   \\lvert 1 \\rangle} \\qw \\\\  & \\lstick{\\lvert u \\rangle} & /^{n} \\qw & \\gate{U^{2^{k}}} & \\rstick{ \\left(U^{2^{k}}\\right)   \\lvert u \\rangle } \\qw} & ~ \n",
      "\\end{array}\n",
      "\\right] \\Rightarrow \\left[\n",
      "\\begin{array}{cc}\n",
      "\\Qcircuit @C=1em @R=.7em { & \\lstick{\\frac{1}{\\sqrt{2}}   \\lvert 1 \\rangle} & \\qw & \\ctrl{1} & \\rstick{\\frac{e^{ 2 \\cdot \\pi \\cdot i \\cdot \\varphi \\cdot \\left(2^{k}\\right) }}{\\sqrt{2}}   \\lvert 1 \\rangle} \\qw \\\\  & \\lstick{\\lvert u \\rangle} & /^{n} \\qw & \\gate{U^{2^{k}}} & \\rstick{\\lvert u \\rangle} \\qw} & ~ \n",
      "\\end{array}\n",
      "\\right]\\right)$ \n",
      "              specializing $\\forall_{ P , x , y } \\left(\\left(x = y\\right) \\Rightarrow \\left(P\\left( x \\right) \\Rightarrow P\\left( y \\right)\\right)\\right)$  proven above\n",
      "            hypothesis $\\left[\n",
      "\\begin{array}{cc}\n",
      "\\Qcircuit @C=1em @R=.7em { & \\lstick{\\frac{1}{\\sqrt{2}}   \\lvert 1 \\rangle} & \\qw & \\ctrl{1} & \\rstick{\\frac{1}{\\sqrt{2}}   \\lvert 1 \\rangle} \\qw \\\\  & \\lstick{\\lvert u \\rangle} & /^{n} \\qw & \\gate{U^{2^{k}}} & \\rstick{ \\left(U^{2^{k}}\\right)   \\lvert u \\rangle } \\qw} & ~ \n",
      "\\end{array}\n",
      "\\right] = \\left[\n",
      "\\begin{array}{cc}\n",
      "\\Qcircuit @C=1em @R=.7em { & \\lstick{\\frac{1}{\\sqrt{2}}   \\lvert 1 \\rangle} & \\qw & \\ctrl{1} & \\rstick{\\frac{e^{ 2 \\cdot \\pi \\cdot i \\cdot \\varphi \\cdot \\left(2^{k}\\right) }}{\\sqrt{2}}   \\lvert 1 \\rangle} \\qw \\\\  & \\lstick{\\lvert u \\rangle} & /^{n} \\qw & \\gate{U^{2^{k}}} & \\rstick{\\lvert u \\rangle} \\qw} & ~ \n",
      "\\end{array}\n",
      "\\right]$  assuming $k \\in \\mathbb{N}$ \n",
      "              implication $\\left(\\left( \\left(\\frac{1}{\\sqrt{2}}   \\lvert 1 \\rangle\\right) \\otimes \\left( \\left(U^{2^{k}}\\right)   \\lvert u \\rangle \\right) \\right) = \\left( \\left(\\frac{e^{ 2 \\cdot \\pi \\cdot i \\cdot \\varphi \\cdot \\left(2^{k}\\right) }}{\\sqrt{2}}   \\lvert 1 \\rangle\\right) \\otimes \\lvert u \\rangle \\right)\\right) \\Rightarrow \\left(\\left[\n",
      "\\begin{array}{cc}\n",
      "\\Qcircuit @C=1em @R=.7em { & \\lstick{\\frac{1}{\\sqrt{2}}   \\lvert 1 \\rangle} & \\qw & \\ctrl{1} & \\rstick{\\frac{1}{\\sqrt{2}}   \\lvert 1 \\rangle} \\qw \\\\  & \\lstick{\\lvert u \\rangle} & /^{n} \\qw & \\gate{U^{2^{k}}} & \\rstick{ \\left(U^{2^{k}}\\right)   \\lvert u \\rangle } \\qw} & ~ \n",
      "\\end{array}\n",
      "\\right] = \\left[\n",
      "\\begin{array}{cc}\n",
      "\\Qcircuit @C=1em @R=.7em { & \\lstick{\\frac{1}{\\sqrt{2}}   \\lvert 1 \\rangle} & \\qw & \\ctrl{1} & \\rstick{\\frac{e^{ 2 \\cdot \\pi \\cdot i \\cdot \\varphi \\cdot \\left(2^{k}\\right) }}{\\sqrt{2}}   \\lvert 1 \\rangle} \\qw \\\\  & \\lstick{\\lvert u \\rangle} & /^{n} \\qw & \\gate{U^{2^{k}}} & \\rstick{\\lvert u \\rangle} \\qw} & ~ \n",
      "\\end{array}\n",
      "\\right]\\right)$  assuming $k \\in \\mathbb{N}$ \n",
      "                implication $\\left(\\left(\\left[\n",
      "\\begin{array}{cc}\n",
      "\\Qcircuit @C=1em @R=.7em { & \\lstick{\\frac{1}{\\sqrt{2}}   \\lvert 1 \\rangle} & \\qw & \\ctrl{1} & \\rstick{\\frac{1}{\\sqrt{2}}   \\lvert 1 \\rangle} \\qw \\\\  & \\lstick{\\lvert u \\rangle} & /^{n} \\qw & \\gate{U^{2^{k}}} & \\rstick{ \\left(U^{2^{k}}\\right)   \\lvert u \\rangle } \\qw} & ~ \n",
      "\\end{array}\n",
      "\\right] = \\left[\n",
      "\\begin{array}{cc}\n",
      "\\Qcircuit @C=1em @R=.7em { & \\lstick{\\frac{1}{\\sqrt{2}}   \\lvert 1 \\rangle} & \\qw & \\ctrl{1} & \\rstick{\\frac{e^{ 2 \\cdot \\pi \\cdot i \\cdot \\varphi \\cdot \\left(2^{k}\\right) }}{\\sqrt{2}}   \\lvert 1 \\rangle} \\qw \\\\  & \\lstick{\\lvert u \\rangle} & /^{n} \\qw & \\gate{U^{2^{k}}} & \\rstick{\\lvert u \\rangle} \\qw} & ~ \n",
      "\\end{array}\n",
      "\\right]\\right) \\Leftrightarrow \\left(\\left( \\left(\\frac{1}{\\sqrt{2}}   \\lvert 1 \\rangle\\right) \\otimes \\left( \\left(U^{2^{k}}\\right)   \\lvert u \\rangle \\right) \\right) = \\left( \\left(\\frac{e^{ 2 \\cdot \\pi \\cdot i \\cdot \\varphi \\cdot \\left(2^{k}\\right) }}{\\sqrt{2}}   \\lvert 1 \\rangle\\right) \\otimes \\lvert u \\rangle \\right)\\right)\\right) \\Rightarrow \\left(\\left(\\left( \\left(\\frac{1}{\\sqrt{2}}   \\lvert 1 \\rangle\\right) \\otimes \\left( \\left(U^{2^{k}}\\right)   \\lvert u \\rangle \\right) \\right) = \\left( \\left(\\frac{e^{ 2 \\cdot \\pi \\cdot i \\cdot \\varphi \\cdot \\left(2^{k}\\right) }}{\\sqrt{2}}   \\lvert 1 \\rangle\\right) \\otimes \\lvert u \\rangle \\right)\\right) \\Rightarrow \\left(\\left[\n",
      "\\begin{array}{cc}\n",
      "\\Qcircuit @C=1em @R=.7em { & \\lstick{\\frac{1}{\\sqrt{2}}   \\lvert 1 \\rangle} & \\qw & \\ctrl{1} & \\rstick{\\frac{1}{\\sqrt{2}}   \\lvert 1 \\rangle} \\qw \\\\  & \\lstick{\\lvert u \\rangle} & /^{n} \\qw & \\gate{U^{2^{k}}} & \\rstick{ \\left(U^{2^{k}}\\right)   \\lvert u \\rangle } \\qw} & ~ \n",
      "\\end{array}\n",
      "\\right] = \\left[\n",
      "\\begin{array}{cc}\n",
      "\\Qcircuit @C=1em @R=.7em { & \\lstick{\\frac{1}{\\sqrt{2}}   \\lvert 1 \\rangle} & \\qw & \\ctrl{1} & \\rstick{\\frac{e^{ 2 \\cdot \\pi \\cdot i \\cdot \\varphi \\cdot \\left(2^{k}\\right) }}{\\sqrt{2}}   \\lvert 1 \\rangle} \\qw \\\\  & \\lstick{\\lvert u \\rangle} & /^{n} \\qw & \\gate{U^{2^{k}}} & \\rstick{\\lvert u \\rangle} \\qw} & ~ \n",
      "\\end{array}\n",
      "\\right]\\right)\\right)$ \n",
      "                  specializing $\\forall_{ A , B } \\left(\\left(A \\Leftrightarrow B\\right) \\Rightarrow \\left(B \\Rightarrow A\\right)\\right)$ \n",
      "                    by theorem proveit.basiclogic.boolean.iffImpliesLeft\n",
      "                hypothesis $\\left(\\left[\n",
      "\\begin{array}{cc}\n",
      "\\Qcircuit @C=1em @R=.7em { & \\lstick{\\frac{1}{\\sqrt{2}}   \\lvert 1 \\rangle} & \\qw & \\ctrl{1} & \\rstick{\\frac{1}{\\sqrt{2}}   \\lvert 1 \\rangle} \\qw \\\\  & \\lstick{\\lvert u \\rangle} & /^{n} \\qw & \\gate{U^{2^{k}}} & \\rstick{ \\left(U^{2^{k}}\\right)   \\lvert u \\rangle } \\qw} & ~ \n",
      "\\end{array}\n",
      "\\right] = \\left[\n",
      "\\begin{array}{cc}\n",
      "\\Qcircuit @C=1em @R=.7em { & \\lstick{\\frac{1}{\\sqrt{2}}   \\lvert 1 \\rangle} & \\qw & \\ctrl{1} & \\rstick{\\frac{e^{ 2 \\cdot \\pi \\cdot i \\cdot \\varphi \\cdot \\left(2^{k}\\right) }}{\\sqrt{2}}   \\lvert 1 \\rangle} \\qw \\\\  & \\lstick{\\lvert u \\rangle} & /^{n} \\qw & \\gate{U^{2^{k}}} & \\rstick{\\lvert u \\rangle} \\qw} & ~ \n",
      "\\end{array}\n",
      "\\right]\\right) \\Leftrightarrow \\left(\\left( \\left(\\frac{1}{\\sqrt{2}}   \\lvert 1 \\rangle\\right) \\otimes \\left( \\left(U^{2^{k}}\\right)   \\lvert u \\rangle \\right) \\right) = \\left( \\left(\\frac{e^{ 2 \\cdot \\pi \\cdot i \\cdot \\varphi \\cdot \\left(2^{k}\\right) }}{\\sqrt{2}}   \\lvert 1 \\rangle\\right) \\otimes \\lvert u \\rangle \\right)\\right)$  assuming $k \\in \\mathbb{N}$ \n",
      "                  specializing $\\forall_{ x , y , z  \\in \\left(\\mathbb{C}^{2}\\right)^{\\otimes n}} \\left(\\left(\\left[\n",
      "\\begin{array}{cc}\n",
      "\\Qcircuit @C=1em @R=.7em { & \\lstick{\\frac{1}{\\sqrt{2}}   \\lvert 1 \\rangle} & \\qw & \\ctrl{1} & \\rstick{\\frac{1}{\\sqrt{2}}   \\lvert 1 \\rangle} \\qw \\\\  & \\lstick{x} & /^{n} \\qw & \\gate{U^{2^{k}}} & \\rstick{y} \\qw} & ~ \n",
      "\\end{array}\n",
      "\\right] = \\left[\n",
      "\\begin{array}{cc}\n",
      "\\Qcircuit @C=1em @R=.7em { & \\lstick{\\frac{1}{\\sqrt{2}}   \\lvert 1 \\rangle} & \\qw & \\ctrl{1} & \\rstick{\\frac{e^{ 2 \\cdot \\pi \\cdot i \\cdot \\varphi \\cdot \\left(2^{k}\\right) }}{\\sqrt{2}}   \\lvert 1 \\rangle} \\qw \\\\  & \\lstick{x} & /^{n} \\qw & \\gate{U^{2^{k}}} & \\rstick{z} \\qw} & ~ \n",
      "\\end{array}\n",
      "\\right]\\right) \\Leftrightarrow \\left(\\left( \\left(\\frac{1}{\\sqrt{2}}   \\lvert 1 \\rangle\\right) \\otimes y \\right) = \\left( \\left(\\frac{e^{ 2 \\cdot \\pi \\cdot i \\cdot \\varphi \\cdot \\left(2^{k}\\right) }}{\\sqrt{2}}   \\lvert 1 \\rangle\\right) \\otimes z \\right)\\right)\\right)$  assuming $k \\in \\mathbb{N}$ \n",
      "                    specializing $\\forall_{ a , b , c  \\in \\left(\\mathbb{C}^{2}\\right)} \\left[\\forall_{ x , y , z  \\in \\left(\\mathbb{C}^{2}\\right)^{\\otimes n}} \\left(\\left(\\left[\n",
      "\\begin{array}{cc}\n",
      "\\Qcircuit @C=1em @R=.7em { & \\lstick{a} & \\qw & \\ctrl{1} & \\rstick{b} \\qw \\\\  & \\lstick{x} & /^{n} \\qw & \\gate{U^{2^{k}}} & \\rstick{y} \\qw} & ~ \n",
      "\\end{array}\n",
      "\\right] = \\left[\n",
      "\\begin{array}{cc}\n",
      "\\Qcircuit @C=1em @R=.7em { & \\lstick{a} & \\qw & \\ctrl{1} & \\rstick{c} \\qw \\\\  & \\lstick{x} & /^{n} \\qw & \\gate{U^{2^{k}}} & \\rstick{z} \\qw} & ~ \n",
      "\\end{array}\n",
      "\\right]\\right) \\Leftrightarrow \\left(\\left( b \\otimes y \\right) = \\left( c \\otimes z \\right)\\right)\\right)\\right]$  assuming $k \\in \\mathbb{N}$ \n",
      "                      specializing $\\forall_{ U  \\in SU\\left( 2^{n} \\right)} \\left[\\forall_{ a , b , c  \\in \\left(\\mathbb{C}^{2}\\right)} \\left[\\forall_{ x , y , z  \\in \\left(\\mathbb{C}^{2}\\right)^{\\otimes n}} \\left(\\left(\\left[\n",
      "\\begin{array}{cc}\n",
      "\\Qcircuit @C=1em @R=.7em { & \\lstick{a} & \\qw & \\ctrl{1} & \\rstick{b} \\qw \\\\  & \\lstick{x} & /^{n} \\qw & \\gate{U} & \\rstick{y} \\qw} & ~ \n",
      "\\end{array}\n",
      "\\right] = \\left[\n",
      "\\begin{array}{cc}\n",
      "\\Qcircuit @C=1em @R=.7em { & \\lstick{a} & \\qw & \\ctrl{1} & \\rstick{c} \\qw \\\\  & \\lstick{x} & /^{n} \\qw & \\gate{U} & \\rstick{z} \\qw} & ~ \n",
      "\\end{array}\n",
      "\\right]\\right) \\Leftrightarrow \\left(\\left( b \\otimes y \\right) = \\left( c \\otimes z \\right)\\right)\\right)\\right]\\right]$ \n",
      "                        specializing $\\forall_{ n  \\in \\mathbb{N}^+} \\left[\\forall_{ U  \\in SU\\left( 2^{n} \\right)} \\left[\\forall_{ a , b , c  \\in \\left(\\mathbb{C}^{2}\\right)} \\left[\\forall_{ x , y , z  \\in \\left(\\mathbb{C}^{2}\\right)^{\\otimes n}} \\left(\\left(\\left[\n",
      "\\begin{array}{cc}\n",
      "\\Qcircuit @C=1em @R=.7em { & \\lstick{a} & \\qw & \\ctrl{1} & \\rstick{b} \\qw \\\\  & \\lstick{x} & /^{n} \\qw & \\gate{U} & \\rstick{y} \\qw} & ~ \n",
      "\\end{array}\n",
      "\\right] = \\left[\n",
      "\\begin{array}{cc}\n",
      "\\Qcircuit @C=1em @R=.7em { & \\lstick{a} & \\qw & \\ctrl{1} & \\rstick{c} \\qw \\\\  & \\lstick{x} & /^{n} \\qw & \\gate{U} & \\rstick{z} \\qw} & ~ \n",
      "\\end{array}\n",
      "\\right]\\right) \\Leftrightarrow \\left(\\left( b \\otimes y \\right) = \\left( c \\otimes z \\right)\\right)\\right)\\right]\\right]\\right]$ \n",
      "                          by theorem proveit.physics.quantum.controlledNgateEquiv\n",
      "                        condition $n \\in \\mathbb{N}^+$  proven above\n",
      "                      condition $\\left(U^{2^{k}}\\right) \\in SU\\left( 2^{n} \\right)$  assuming $k \\in \\mathbb{N}$  proven above\n",
      "                    condition $\\left(\\frac{1}{\\sqrt{2}}   \\lvert 1 \\rangle\\right) \\in \\left(\\mathbb{C}^{2}\\right)$  proven above\n",
      "                    condition $\\left(\\frac{e^{ 2 \\cdot \\pi \\cdot i \\cdot \\varphi \\cdot \\left(2^{k}\\right) }}{\\sqrt{2}}   \\lvert 1 \\rangle\\right) \\in \\left(\\mathbb{C}^{2}\\right)$  assuming $k \\in \\mathbb{N}$  proven above\n",
      "                  condition $\\lvert u \\rangle \\in \\left(\\mathbb{C}^{2}\\right)^{\\otimes n}$  proven above\n",
      "                  condition $\\left( \\left(U^{2^{k}}\\right)   \\lvert u \\rangle \\right) \\in \\left(\\mathbb{C}^{2}\\right)^{\\otimes n}$  assuming $k \\in \\mathbb{N}$ \n",
      "                    implication $\\left(\\left(\\left(e^{ 2 \\cdot \\pi \\cdot i \\cdot \\varphi \\cdot \\left(2^{k}\\right) }\\right)   \\lvert u \\rangle\\right) \\in \\left(\\mathbb{C}^{2}\\right)^{\\otimes n}\\right) \\Rightarrow \\left(\\left( \\left(U^{2^{k}}\\right)   \\lvert u \\rangle \\right) \\in \\left(\\mathbb{C}^{2}\\right)^{\\otimes n}\\right)$  assuming $k \\in \\mathbb{N}$ \n",
      "                      implication $\\left(\\left( \\left(U^{2^{k}}\\right)   \\lvert u \\rangle \\right) = \\left(\\left(e^{ 2 \\cdot \\pi \\cdot i \\cdot \\varphi \\cdot \\left(2^{k}\\right) }\\right)   \\lvert u \\rangle\\right)\\right) \\Rightarrow \\left(\\left(\\left(\\left(e^{ 2 \\cdot \\pi \\cdot i \\cdot \\varphi \\cdot \\left(2^{k}\\right) }\\right)   \\lvert u \\rangle\\right) \\in \\left(\\mathbb{C}^{2}\\right)^{\\otimes n}\\right) \\Rightarrow \\left(\\left( \\left(U^{2^{k}}\\right)   \\lvert u \\rangle \\right) \\in \\left(\\mathbb{C}^{2}\\right)^{\\otimes n}\\right)\\right)$ \n",
      "                        specializing $\\forall_{ P , x , y } \\left(\\left(x = y\\right) \\Rightarrow \\left(P\\left( y \\right) \\Rightarrow P\\left( x \\right)\\right)\\right)$  proven above\n",
      "                      hypothesis $\\left( \\left(U^{2^{k}}\\right)   \\lvert u \\rangle \\right) = \\left(\\left(e^{ 2 \\cdot \\pi \\cdot i \\cdot \\varphi \\cdot \\left(2^{k}\\right) }\\right)   \\lvert u \\rangle\\right)$  assuming $k \\in \\mathbb{N}$ \n",
      "                        implication $\\left(\\left( \\left(U^{2^{k}}\\right)   \\lvert u \\rangle \\right) = \\left(\\left(e^{ \\left( 2 \\cdot \\pi \\cdot i \\cdot \\varphi \\right) \\cdot \\left(2^{k}\\right) }\\right)   \\lvert u \\rangle\\right)\\right) \\Rightarrow \\left(\\left( \\left(U^{2^{k}}\\right)   \\lvert u \\rangle \\right) = \\left(\\left(e^{ 2 \\cdot \\pi \\cdot i \\cdot \\varphi \\cdot \\left(2^{k}\\right) }\\right)   \\lvert u \\rangle\\right)\\right)$  assuming $k \\in \\mathbb{N}$ \n",
      "                          implication $\\left(\\left( \\left( 2 \\cdot \\pi \\cdot i \\cdot \\varphi \\right) \\cdot \\left(2^{k}\\right) \\right) = \\left( 2 \\cdot \\pi \\cdot i \\cdot \\varphi \\cdot \\left(2^{k}\\right) \\right)\\right) \\Rightarrow \\left(\\left(\\left( \\left(U^{2^{k}}\\right)   \\lvert u \\rangle \\right) = \\left(\\left(e^{ \\left( 2 \\cdot \\pi \\cdot i \\cdot \\varphi \\right) \\cdot \\left(2^{k}\\right) }\\right)   \\lvert u \\rangle\\right)\\right) \\Rightarrow \\left(\\left( \\left(U^{2^{k}}\\right)   \\lvert u \\rangle \\right) = \\left(\\left(e^{ 2 \\cdot \\pi \\cdot i \\cdot \\varphi \\cdot \\left(2^{k}\\right) }\\right)   \\lvert u \\rangle\\right)\\right)\\right)$ \n",
      "                            specializing $\\forall_{ P , x , y } \\left(\\left(x = y\\right) \\Rightarrow \\left(P\\left( x \\right) \\Rightarrow P\\left( y \\right)\\right)\\right)$  proven above\n",
      "                          hypothesis $\\left( \\left( 2 \\cdot \\pi \\cdot i \\cdot \\varphi \\right) \\cdot \\left(2^{k}\\right) \\right) = \\left( 2 \\cdot \\pi \\cdot i \\cdot \\varphi \\cdot \\left(2^{k}\\right) \\right)$  assuming $k \\in \\mathbb{N}$ \n",
      "                            specializing $\\forall_{~.., x_{\\Box} ,..., y_{\\Box} ,..., z_{\\Box} ,..~ \\in \\mathbb{C}} \\left(\\left(~..\\cdot x_{\\Box} \\cdot..~\\cdot \\left(~..\\cdot y_{\\Box} \\cdot..~\\right) \\cdot~..\\cdot z_{\\Box} \\cdot..~\\right) = \\left(~..\\cdot x_{\\Box} \\cdot...\\cdot y_{\\Box} \\cdot...\\cdot z_{\\Box} \\cdot..~\\right)\\right)$ \n",
      "                              by theorem proveit.number.complex.multAssocRev\n",
      "                            condition $\\left(2^{k}\\right) \\in \\mathbb{C}$  assuming $k \\in \\mathbb{N}$  proven above\n",
      "                            condition $\\varphi \\in \\mathbb{C}$  proven above\n",
      "                            condition $2 \\in \\mathbb{C}$  proven above\n",
      "                            condition $\\pi \\in \\mathbb{C}$  proven above\n",
      "                            condition $i \\in \\mathbb{C}$  proven above\n",
      "                        hypothesis $\\left( \\left(U^{2^{k}}\\right)   \\lvert u \\rangle \\right) = \\left(\\left(e^{ \\left( 2 \\cdot \\pi \\cdot i \\cdot \\varphi \\right) \\cdot \\left(2^{k}\\right) }\\right)   \\lvert u \\rangle\\right)$  assuming $k \\in \\mathbb{N}$ \n",
      "                          implication $\\left(\\left( \\left(U^{2^{k}}\\right)   \\lvert u \\rangle \\right) = \\left(\\left(\\left(\\left(e^{ 2 \\cdot \\pi \\cdot i \\cdot \\varphi }\\right)\\right)^{2^{k}}\\right)   \\lvert u \\rangle\\right)\\right) \\Rightarrow \\left(\\left( \\left(U^{2^{k}}\\right)   \\lvert u \\rangle \\right) = \\left(\\left(e^{ \\left( 2 \\cdot \\pi \\cdot i \\cdot \\varphi \\right) \\cdot \\left(2^{k}\\right) }\\right)   \\lvert u \\rangle\\right)\\right)$  assuming $k \\in \\mathbb{N}$ \n",
      "                            implication $\\left(\\left(\\left(\\left(e^{ 2 \\cdot \\pi \\cdot i \\cdot \\varphi }\\right)\\right)^{2^{k}}\\right) = \\left(e^{ \\left( 2 \\cdot \\pi \\cdot i \\cdot \\varphi \\right) \\cdot \\left(2^{k}\\right) }\\right)\\right) \\Rightarrow \\left(\\left(\\left( \\left(U^{2^{k}}\\right)   \\lvert u \\rangle \\right) = \\left(\\left(\\left(\\left(e^{ 2 \\cdot \\pi \\cdot i \\cdot \\varphi }\\right)\\right)^{2^{k}}\\right)   \\lvert u \\rangle\\right)\\right) \\Rightarrow \\left(\\left( \\left(U^{2^{k}}\\right)   \\lvert u \\rangle \\right) = \\left(\\left(e^{ \\left( 2 \\cdot \\pi \\cdot i \\cdot \\varphi \\right) \\cdot \\left(2^{k}\\right) }\\right)   \\lvert u \\rangle\\right)\\right)\\right)$ \n",
      "                              specializing $\\forall_{ P , x , y } \\left(\\left(x = y\\right) \\Rightarrow \\left(P\\left( x \\right) \\Rightarrow P\\left( y \\right)\\right)\\right)$  proven above\n",
      "                            hypothesis $\\left(\\left(\\left(e^{ 2 \\cdot \\pi \\cdot i \\cdot \\varphi }\\right)\\right)^{2^{k}}\\right) = \\left(e^{ \\left( 2 \\cdot \\pi \\cdot i \\cdot \\varphi \\right) \\cdot \\left(2^{k}\\right) }\\right)$  assuming $k \\in \\mathbb{N}$ \n",
      "                              specializing $\\forall_{ a , b , c  \\in \\mathbb{C}} \\left(\\left(\\left(\\left(a^{b}\\right)\\right)^{c}\\right) = \\left(a^{ b \\cdot c }\\right)\\right)$ \n",
      "                                by theorem proveit.number.complex.powOfPow\n",
      "                              condition $e \\in \\mathbb{C}$  proven above\n",
      "                              condition $\\left( 2 \\cdot \\pi \\cdot i \\cdot \\varphi \\right) \\in \\mathbb{C}$ \n",
      "                                specializing $\\forall_{~.., x_{\\Box} ,..~ \\in \\mathbb{C}} \\left(\\left(~..\\cdot x_{\\Box} \\cdot..~\\right) \\in \\mathbb{C}\\right)$  proven above\n",
      "                                condition $\\varphi \\in \\mathbb{C}$  proven above\n",
      "                                condition $2 \\in \\mathbb{C}$  proven above\n",
      "                                condition $\\pi \\in \\mathbb{C}$  proven above\n",
      "                                condition $i \\in \\mathbb{C}$  proven above\n",
      "                              condition $\\left(2^{k}\\right) \\in \\mathbb{C}$  assuming $k \\in \\mathbb{N}$  proven above\n",
      "                          hypothesis $\\left( \\left(U^{2^{k}}\\right)   \\lvert u \\rangle \\right) = \\left(\\left(\\left(\\left(e^{ 2 \\cdot \\pi \\cdot i \\cdot \\varphi }\\right)\\right)^{2^{k}}\\right)   \\lvert u \\rangle\\right)$  assuming $k \\in \\mathbb{N}$ \n",
      "                            implication $\\left(\\left( U   \\lvert u \\rangle \\right) = \\left(\\left(e^{ 2 \\cdot \\pi \\cdot i \\cdot \\varphi }\\right)   \\lvert u \\rangle\\right)\\right) \\Rightarrow \\left(\\left( \\left(U^{2^{k}}\\right)   \\lvert u \\rangle \\right) = \\left(\\left(\\left(\\left(e^{ 2 \\cdot \\pi \\cdot i \\cdot \\varphi }\\right)\\right)^{2^{k}}\\right)   \\lvert u \\rangle\\right)\\right)$  assuming $k \\in \\mathbb{N}$ \n",
      "                              specializing $\\forall_{ A , x } \\left(\\left(\\left( A   x \\right) = \\left(\\left(e^{ 2 \\cdot \\pi \\cdot i \\cdot \\varphi }\\right)   x\\right)\\right) \\Rightarrow \\left(\\left( \\left(A^{2^{k}}\\right)   x \\right) = \\left(\\left(\\left(\\left(e^{ 2 \\cdot \\pi \\cdot i \\cdot \\varphi }\\right)\\right)^{2^{k}}\\right)   x\\right)\\right)\\right)$  assuming $k \\in \\mathbb{N}$ \n",
      "                                specializing $\\forall_{ b  \\in \\mathbb{C}} \\left[\\forall_{ A , x } \\left(\\left(\\left( A   x \\right) = \\left(b   x\\right)\\right) \\Rightarrow \\left(\\left( \\left(A^{2^{k}}\\right)   x \\right) = \\left(\\left(b^{2^{k}}\\right)   x\\right)\\right)\\right)\\right]$  assuming $k \\in \\mathbb{N}$ \n",
      "                                  specializing $\\forall_{ k  \\in \\mathbb{N}^+} \\left[\\forall_{ b  \\in \\mathbb{C}} \\left[\\forall_{ A , x } \\left(\\left(\\left( A   x \\right) = \\left(b   x\\right)\\right) \\Rightarrow \\left(\\left( \\left(A^{k}\\right)   x \\right) = \\left(\\left(b^{k}\\right)   x\\right)\\right)\\right)\\right]\\right]$ \n",
      "                                    by theorem proveit.linalg.eigenPow\n",
      "                                  condition $\\left(2^{k}\\right) \\in \\mathbb{N}^+$  assuming $k \\in \\mathbb{N}$  proven above\n",
      "                                condition $\\left(e^{ 2 \\cdot \\pi \\cdot i \\cdot \\varphi }\\right) \\in \\mathbb{C}$ \n",
      "                                  specializing $\\forall_{ a , b  \\in \\mathbb{C}~|~ \\left(a \\neq 0\\right) } \\left(\\left(a^{b}\\right) \\in \\mathbb{C}\\right)$  proven above\n",
      "                                  condition $e \\in \\mathbb{C}$  proven above\n",
      "                                  condition $\\left( 2 \\cdot \\pi \\cdot i \\cdot \\varphi \\right) \\in \\mathbb{C}$  proven above\n",
      "                                  condition $e \\neq 0$  proven above\n",
      "                            hypothesis $\\left( U   \\lvert u \\rangle \\right) = \\left(\\left(e^{ 2 \\cdot \\pi \\cdot i \\cdot \\varphi }\\right)   \\lvert u \\rangle\\right)$ \n",
      "                              by axiom proveit.physics.quantum.QPE.eigenUu\n",
      "                    hypothesis $\\left(\\left(e^{ 2 \\cdot \\pi \\cdot i \\cdot \\varphi \\cdot \\left(2^{k}\\right) }\\right)   \\lvert u \\rangle\\right) \\in \\left(\\mathbb{C}^{2}\\right)^{\\otimes n}$  assuming $k \\in \\mathbb{N}$ \n",
      "                      specializing $\\forall_{ \\alpha  \\in \\mathbb{C}} \\left(\\left(\\alpha   \\lvert u \\rangle\\right) \\in \\left(\\mathbb{C}^{2}\\right)^{\\otimes n}\\right)$ \n",
      "                        specializing $\\forall_{ x  \\in \\left(\\mathbb{C}^{2}\\right)^{\\otimes n}} \\left[\\forall_{ \\alpha  \\in \\mathbb{C}} \\left(\\left(\\alpha   x\\right) \\in \\left(\\mathbb{C}^{2}\\right)^{\\otimes n}\\right)\\right]$ \n",
      "                          specializing $\\forall_{ n  \\in \\mathbb{N}^+} \\left[\\forall_{ x  \\in \\left(\\mathbb{C}^{2}\\right)^{\\otimes n}} \\left[\\forall_{ \\alpha  \\in \\mathbb{C}} \\left(\\left(\\alpha   x\\right) \\in \\left(\\mathbb{C}^{2}\\right)^{\\otimes n}\\right)\\right]\\right]$ \n",
      "                            by theorem proveit.physics.quantum.scaledQubitRegisterStateInQubitRegisterSpace\n",
      "                          condition $n \\in \\mathbb{N}^+$  proven above\n",
      "                        condition $\\lvert u \\rangle \\in \\left(\\mathbb{C}^{2}\\right)^{\\otimes n}$  proven above\n",
      "                      condition $\\left(e^{ 2 \\cdot \\pi \\cdot i \\cdot \\varphi \\cdot \\left(2^{k}\\right) }\\right) \\in \\mathbb{C}$  assuming $k \\in \\mathbb{N}$  proven above\n",
      "              hypothesis $\\left( \\left(\\frac{1}{\\sqrt{2}}   \\lvert 1 \\rangle\\right) \\otimes \\left( \\left(U^{2^{k}}\\right)   \\lvert u \\rangle \\right) \\right) = \\left( \\left(\\frac{e^{ 2 \\cdot \\pi \\cdot i \\cdot \\varphi \\cdot \\left(2^{k}\\right) }}{\\sqrt{2}}   \\lvert 1 \\rangle\\right) \\otimes \\lvert u \\rangle \\right)$  assuming $k \\in \\mathbb{N}$ \n",
      "                implication $\\left(\\left( \\left(\\frac{1}{\\sqrt{2}}   \\lvert 1 \\rangle\\right) \\otimes \\left(\\left(e^{ 2 \\cdot \\pi \\cdot i \\cdot \\varphi \\cdot \\left(2^{k}\\right) }\\right)   \\lvert u \\rangle\\right) \\right) = \\left( \\left(\\frac{e^{ 2 \\cdot \\pi \\cdot i \\cdot \\varphi \\cdot \\left(2^{k}\\right) }}{\\sqrt{2}}   \\lvert 1 \\rangle\\right) \\otimes \\lvert u \\rangle \\right)\\right) \\Rightarrow \\left(\\left( \\left(\\frac{1}{\\sqrt{2}}   \\lvert 1 \\rangle\\right) \\otimes \\left( \\left(U^{2^{k}}\\right)   \\lvert u \\rangle \\right) \\right) = \\left( \\left(\\frac{e^{ 2 \\cdot \\pi \\cdot i \\cdot \\varphi \\cdot \\left(2^{k}\\right) }}{\\sqrt{2}}   \\lvert 1 \\rangle\\right) \\otimes \\lvert u \\rangle \\right)\\right)$  assuming $k \\in \\mathbb{N}$ \n",
      "                  implication $\\left(\\left( \\left(U^{2^{k}}\\right)   \\lvert u \\rangle \\right) = \\left(\\left(e^{ 2 \\cdot \\pi \\cdot i \\cdot \\varphi \\cdot \\left(2^{k}\\right) }\\right)   \\lvert u \\rangle\\right)\\right) \\Rightarrow \\left(\\left(\\left( \\left(\\frac{1}{\\sqrt{2}}   \\lvert 1 \\rangle\\right) \\otimes \\left(\\left(e^{ 2 \\cdot \\pi \\cdot i \\cdot \\varphi \\cdot \\left(2^{k}\\right) }\\right)   \\lvert u \\rangle\\right) \\right) = \\left( \\left(\\frac{e^{ 2 \\cdot \\pi \\cdot i \\cdot \\varphi \\cdot \\left(2^{k}\\right) }}{\\sqrt{2}}   \\lvert 1 \\rangle\\right) \\otimes \\lvert u \\rangle \\right)\\right) \\Rightarrow \\left(\\left( \\left(\\frac{1}{\\sqrt{2}}   \\lvert 1 \\rangle\\right) \\otimes \\left( \\left(U^{2^{k}}\\right)   \\lvert u \\rangle \\right) \\right) = \\left( \\left(\\frac{e^{ 2 \\cdot \\pi \\cdot i \\cdot \\varphi \\cdot \\left(2^{k}\\right) }}{\\sqrt{2}}   \\lvert 1 \\rangle\\right) \\otimes \\lvert u \\rangle \\right)\\right)\\right)$ \n",
      "                    specializing $\\forall_{ P , x , y } \\left(\\left(x = y\\right) \\Rightarrow \\left(P\\left( y \\right) \\Rightarrow P\\left( x \\right)\\right)\\right)$  proven above\n",
      "                  hypothesis $\\left( \\left(U^{2^{k}}\\right)   \\lvert u \\rangle \\right) = \\left(\\left(e^{ 2 \\cdot \\pi \\cdot i \\cdot \\varphi \\cdot \\left(2^{k}\\right) }\\right)   \\lvert u \\rangle\\right)$  assuming $k \\in \\mathbb{N}$  proven above\n",
      "                hypothesis $\\left( \\left(\\frac{1}{\\sqrt{2}}   \\lvert 1 \\rangle\\right) \\otimes \\left(\\left(e^{ 2 \\cdot \\pi \\cdot i \\cdot \\varphi \\cdot \\left(2^{k}\\right) }\\right)   \\lvert u \\rangle\\right) \\right) = \\left( \\left(\\frac{e^{ 2 \\cdot \\pi \\cdot i \\cdot \\varphi \\cdot \\left(2^{k}\\right) }}{\\sqrt{2}}   \\lvert 1 \\rangle\\right) \\otimes \\lvert u \\rangle \\right)$  assuming $k \\in \\mathbb{N}$ \n",
      "                  implication $\\left(\\left( \\left(\\frac{1}{\\sqrt{2}}   \\lvert 1 \\rangle\\right) \\otimes \\left(\\left(e^{ 2 \\cdot \\pi \\cdot i \\cdot \\varphi \\cdot \\left(2^{k}\\right) }\\right)   \\lvert u \\rangle\\right) \\right) = \\left(\\frac{e^{ 2 \\cdot \\pi \\cdot i \\cdot \\varphi \\cdot \\left(2^{k}\\right) }}{\\sqrt{2}}   \\left( \\lvert 1 \\rangle \\otimes \\lvert u \\rangle \\right)\\right)\\right) \\Rightarrow \\left(\\left( \\left(\\frac{1}{\\sqrt{2}}   \\lvert 1 \\rangle\\right) \\otimes \\left(\\left(e^{ 2 \\cdot \\pi \\cdot i \\cdot \\varphi \\cdot \\left(2^{k}\\right) }\\right)   \\lvert u \\rangle\\right) \\right) = \\left( \\left(\\frac{e^{ 2 \\cdot \\pi \\cdot i \\cdot \\varphi \\cdot \\left(2^{k}\\right) }}{\\sqrt{2}}   \\lvert 1 \\rangle\\right) \\otimes \\lvert u \\rangle \\right)\\right)$ \n",
      "                    implication $\\left(\\left( \\left(\\frac{e^{ 2 \\cdot \\pi \\cdot i \\cdot \\varphi \\cdot \\left(2^{k}\\right) }}{\\sqrt{2}}   \\lvert 1 \\rangle\\right) \\otimes \\lvert u \\rangle \\right) = \\left(\\frac{e^{ 2 \\cdot \\pi \\cdot i \\cdot \\varphi \\cdot \\left(2^{k}\\right) }}{\\sqrt{2}}   \\left( \\lvert 1 \\rangle \\otimes \\lvert u \\rangle \\right)\\right)\\right) \\Rightarrow \\left(\\left(\\left( \\left(\\frac{1}{\\sqrt{2}}   \\lvert 1 \\rangle\\right) \\otimes \\left(\\left(e^{ 2 \\cdot \\pi \\cdot i \\cdot \\varphi \\cdot \\left(2^{k}\\right) }\\right)   \\lvert u \\rangle\\right) \\right) = \\left(\\frac{e^{ 2 \\cdot \\pi \\cdot i \\cdot \\varphi \\cdot \\left(2^{k}\\right) }}{\\sqrt{2}}   \\left( \\lvert 1 \\rangle \\otimes \\lvert u \\rangle \\right)\\right)\\right) \\Rightarrow \\left(\\left( \\left(\\frac{1}{\\sqrt{2}}   \\lvert 1 \\rangle\\right) \\otimes \\left(\\left(e^{ 2 \\cdot \\pi \\cdot i \\cdot \\varphi \\cdot \\left(2^{k}\\right) }\\right)   \\lvert u \\rangle\\right) \\right) = \\left( \\left(\\frac{e^{ 2 \\cdot \\pi \\cdot i \\cdot \\varphi \\cdot \\left(2^{k}\\right) }}{\\sqrt{2}}   \\lvert 1 \\rangle\\right) \\otimes \\lvert u \\rangle \\right)\\right)\\right)$ \n",
      "                      specializing $\\forall_{ P , x , y } \\left(\\left(x = y\\right) \\Rightarrow \\left(P\\left( y \\right) \\Rightarrow P\\left( x \\right)\\right)\\right)$  proven above\n",
      "                    hypothesis $\\left( \\left(\\frac{e^{ 2 \\cdot \\pi \\cdot i \\cdot \\varphi \\cdot \\left(2^{k}\\right) }}{\\sqrt{2}}   \\lvert 1 \\rangle\\right) \\otimes \\lvert u \\rangle \\right) = \\left(\\frac{e^{ 2 \\cdot \\pi \\cdot i \\cdot \\varphi \\cdot \\left(2^{k}\\right) }}{\\sqrt{2}}   \\left( \\lvert 1 \\rangle \\otimes \\lvert u \\rangle \\right)\\right)$ \n",
      "                      specializing $\\forall_{ \\alpha } \\left(\\left( \\left(\\alpha   \\lvert 1 \\rangle\\right) \\otimes \\lvert u \\rangle \\right) = \\left(\\alpha   \\left( \\lvert 1 \\rangle \\otimes \\lvert u \\rangle \\right)\\right)\\right)$ \n",
      "                        specializing $\\forall_{~.., x_{\\Box} ,..~, y ,~.., z_{\\Box} ,..~} \\left[\\forall_{ \\alpha } \\left(\\left(~..\\otimes x_{\\Box} \\otimes..~\\otimes \\left(\\alpha   y\\right) \\otimes~..\\otimes z_{\\Box} \\otimes..~\\right) = \\left(\\alpha   \\left(~..\\otimes x_{\\Box} \\otimes..~\\otimes y \\otimes~..\\otimes z_{\\Box} \\otimes..~\\right)\\right)\\right)\\right]$ \n",
      "                          by theorem proveit.linalg.factorScalarFromTensorProd\n",
      "                  hypothesis $\\left( \\left(\\frac{1}{\\sqrt{2}}   \\lvert 1 \\rangle\\right) \\otimes \\left(\\left(e^{ 2 \\cdot \\pi \\cdot i \\cdot \\varphi \\cdot \\left(2^{k}\\right) }\\right)   \\lvert u \\rangle\\right) \\right) = \\left(\\frac{e^{ 2 \\cdot \\pi \\cdot i \\cdot \\varphi \\cdot \\left(2^{k}\\right) }}{\\sqrt{2}}   \\left( \\lvert 1 \\rangle \\otimes \\lvert u \\rangle \\right)\\right)$  assuming $k \\in \\mathbb{N}$ \n",
      "                    implication $\\left(\\left( \\left(\\frac{1}{\\sqrt{2}}   \\lvert 1 \\rangle\\right) \\otimes \\left(\\left(e^{ 2 \\cdot \\pi \\cdot i \\cdot \\varphi \\cdot \\left(2^{k}\\right) }\\right)   \\lvert u \\rangle\\right) \\right) = \\left(\\left( \\left(e^{ 2 \\cdot \\pi \\cdot i \\cdot \\varphi \\cdot \\left(2^{k}\\right) }\\right) \\cdot \\frac{1}{\\sqrt{2}} \\right)   \\left( \\lvert 1 \\rangle \\otimes \\lvert u \\rangle \\right)\\right)\\right) \\Rightarrow \\left(\\left( \\left(\\frac{1}{\\sqrt{2}}   \\lvert 1 \\rangle\\right) \\otimes \\left(\\left(e^{ 2 \\cdot \\pi \\cdot i \\cdot \\varphi \\cdot \\left(2^{k}\\right) }\\right)   \\lvert u \\rangle\\right) \\right) = \\left(\\frac{e^{ 2 \\cdot \\pi \\cdot i \\cdot \\varphi \\cdot \\left(2^{k}\\right) }}{\\sqrt{2}}   \\left( \\lvert 1 \\rangle \\otimes \\lvert u \\rangle \\right)\\right)\\right)$  assuming $k \\in \\mathbb{N}$ \n",
      "                      implication $\\left(\\left( \\left(e^{ 2 \\cdot \\pi \\cdot i \\cdot \\varphi \\cdot \\left(2^{k}\\right) }\\right) \\cdot \\frac{1}{\\sqrt{2}} \\right) = \\frac{e^{ 2 \\cdot \\pi \\cdot i \\cdot \\varphi \\cdot \\left(2^{k}\\right) }}{\\sqrt{2}}\\right) \\Rightarrow \\left(\\left(\\left( \\left(\\frac{1}{\\sqrt{2}}   \\lvert 1 \\rangle\\right) \\otimes \\left(\\left(e^{ 2 \\cdot \\pi \\cdot i \\cdot \\varphi \\cdot \\left(2^{k}\\right) }\\right)   \\lvert u \\rangle\\right) \\right) = \\left(\\left( \\left(e^{ 2 \\cdot \\pi \\cdot i \\cdot \\varphi \\cdot \\left(2^{k}\\right) }\\right) \\cdot \\frac{1}{\\sqrt{2}} \\right)   \\left( \\lvert 1 \\rangle \\otimes \\lvert u \\rangle \\right)\\right)\\right) \\Rightarrow \\left(\\left( \\left(\\frac{1}{\\sqrt{2}}   \\lvert 1 \\rangle\\right) \\otimes \\left(\\left(e^{ 2 \\cdot \\pi \\cdot i \\cdot \\varphi \\cdot \\left(2^{k}\\right) }\\right)   \\lvert u \\rangle\\right) \\right) = \\left(\\frac{e^{ 2 \\cdot \\pi \\cdot i \\cdot \\varphi \\cdot \\left(2^{k}\\right) }}{\\sqrt{2}}   \\left( \\lvert 1 \\rangle \\otimes \\lvert u \\rangle \\right)\\right)\\right)\\right)$ \n",
      "                        specializing $\\forall_{ P , x , y } \\left(\\left(x = y\\right) \\Rightarrow \\left(P\\left( x \\right) \\Rightarrow P\\left( y \\right)\\right)\\right)$  proven above\n",
      "                      hypothesis $\\left( \\left(e^{ 2 \\cdot \\pi \\cdot i \\cdot \\varphi \\cdot \\left(2^{k}\\right) }\\right) \\cdot \\frac{1}{\\sqrt{2}} \\right) = \\frac{e^{ 2 \\cdot \\pi \\cdot i \\cdot \\varphi \\cdot \\left(2^{k}\\right) }}{\\sqrt{2}}$  assuming $k \\in \\mathbb{N}$ \n",
      "                        implication $\\left(\\left( \\left(e^{ 2 \\cdot \\pi \\cdot i \\cdot \\varphi \\cdot \\left(2^{k}\\right) }\\right) \\cdot \\frac{1}{\\sqrt{2}} \\right) = \\frac{ \\left(e^{ 2 \\cdot \\pi \\cdot i \\cdot \\varphi \\cdot \\left(2^{k}\\right) }\\right) \\cdot 1 }{\\sqrt{2}}\\right) \\Rightarrow \\left(\\left( \\left(e^{ 2 \\cdot \\pi \\cdot i \\cdot \\varphi \\cdot \\left(2^{k}\\right) }\\right) \\cdot \\frac{1}{\\sqrt{2}} \\right) = \\frac{e^{ 2 \\cdot \\pi \\cdot i \\cdot \\varphi \\cdot \\left(2^{k}\\right) }}{\\sqrt{2}}\\right)$  assuming $k \\in \\mathbb{N}$ \n",
      "                          implication $\\left(\\left( \\left(e^{ 2 \\cdot \\pi \\cdot i \\cdot \\varphi \\cdot \\left(2^{k}\\right) }\\right) \\cdot 1 \\right) = \\left(e^{ 2 \\cdot \\pi \\cdot i \\cdot \\varphi \\cdot \\left(2^{k}\\right) }\\right)\\right) \\Rightarrow \\left(\\left(\\left( \\left(e^{ 2 \\cdot \\pi \\cdot i \\cdot \\varphi \\cdot \\left(2^{k}\\right) }\\right) \\cdot \\frac{1}{\\sqrt{2}} \\right) = \\frac{ \\left(e^{ 2 \\cdot \\pi \\cdot i \\cdot \\varphi \\cdot \\left(2^{k}\\right) }\\right) \\cdot 1 }{\\sqrt{2}}\\right) \\Rightarrow \\left(\\left( \\left(e^{ 2 \\cdot \\pi \\cdot i \\cdot \\varphi \\cdot \\left(2^{k}\\right) }\\right) \\cdot \\frac{1}{\\sqrt{2}} \\right) = \\frac{e^{ 2 \\cdot \\pi \\cdot i \\cdot \\varphi \\cdot \\left(2^{k}\\right) }}{\\sqrt{2}}\\right)\\right)$ \n",
      "                            specializing $\\forall_{ P , x , y } \\left(\\left(x = y\\right) \\Rightarrow \\left(P\\left( x \\right) \\Rightarrow P\\left( y \\right)\\right)\\right)$  proven above\n",
      "                          hypothesis $\\left( \\left(e^{ 2 \\cdot \\pi \\cdot i \\cdot \\varphi \\cdot \\left(2^{k}\\right) }\\right) \\cdot 1 \\right) = \\left(e^{ 2 \\cdot \\pi \\cdot i \\cdot \\varphi \\cdot \\left(2^{k}\\right) }\\right)$  assuming $k \\in \\mathbb{N}$ \n",
      "                            implication $\\left(\\left( 1 \\cdot \\left(e^{ 2 \\cdot \\pi \\cdot i \\cdot \\varphi \\cdot \\left(2^{k}\\right) }\\right) \\right) = \\left(e^{ 2 \\cdot \\pi \\cdot i \\cdot \\varphi \\cdot \\left(2^{k}\\right) }\\right)\\right) \\Rightarrow \\left(\\left( \\left(e^{ 2 \\cdot \\pi \\cdot i \\cdot \\varphi \\cdot \\left(2^{k}\\right) }\\right) \\cdot 1 \\right) = \\left(e^{ 2 \\cdot \\pi \\cdot i \\cdot \\varphi \\cdot \\left(2^{k}\\right) }\\right)\\right)$  assuming $k \\in \\mathbb{N}$ \n",
      "                              implication $\\left(\\left( \\left(e^{ 2 \\cdot \\pi \\cdot i \\cdot \\varphi \\cdot \\left(2^{k}\\right) }\\right) \\cdot 1 \\right) = \\left( 1 \\cdot \\left(e^{ 2 \\cdot \\pi \\cdot i \\cdot \\varphi \\cdot \\left(2^{k}\\right) }\\right) \\right)\\right) \\Rightarrow \\left(\\left(\\left( 1 \\cdot \\left(e^{ 2 \\cdot \\pi \\cdot i \\cdot \\varphi \\cdot \\left(2^{k}\\right) }\\right) \\right) = \\left(e^{ 2 \\cdot \\pi \\cdot i \\cdot \\varphi \\cdot \\left(2^{k}\\right) }\\right)\\right) \\Rightarrow \\left(\\left( \\left(e^{ 2 \\cdot \\pi \\cdot i \\cdot \\varphi \\cdot \\left(2^{k}\\right) }\\right) \\cdot 1 \\right) = \\left(e^{ 2 \\cdot \\pi \\cdot i \\cdot \\varphi \\cdot \\left(2^{k}\\right) }\\right)\\right)\\right)$ \n",
      "                                specializing $\\forall_{ x , y , z } \\left(\\left(x = y\\right) \\Rightarrow \\left(\\left(y = z\\right) \\Rightarrow \\left(x = z\\right)\\right)\\right)$ \n",
      "                                  by axiom proveit.basiclogic.equality.equalsTransitivity\n",
      "                              hypothesis $\\left( \\left(e^{ 2 \\cdot \\pi \\cdot i \\cdot \\varphi \\cdot \\left(2^{k}\\right) }\\right) \\cdot 1 \\right) = \\left( 1 \\cdot \\left(e^{ 2 \\cdot \\pi \\cdot i \\cdot \\varphi \\cdot \\left(2^{k}\\right) }\\right) \\right)$  assuming $k \\in \\mathbb{N}$ \n",
      "                                specializing $\\forall_{~.., v_{\\Box} ,..., w_{\\Box} ,..., x_{\\Box} ,..., y_{\\Box} ,..., z_{\\Box} ,..~ \\in \\mathbb{C}} \\left(\\left(~..\\cdot v_{\\Box} \\cdot...\\cdot w_{\\Box} \\cdot...\\cdot x_{\\Box} \\cdot...\\cdot y_{\\Box} \\cdot...\\cdot z_{\\Box} \\cdot..~\\right) = \\left(~..\\cdot v_{\\Box} \\cdot...\\cdot y_{\\Box} \\cdot...\\cdot x_{\\Box} \\cdot...\\cdot w_{\\Box} \\cdot...\\cdot z_{\\Box} \\cdot..~\\right)\\right)$ \n",
      "                                  by theorem proveit.number.complex.multComm\n",
      "                                condition $1 \\in \\mathbb{C}$ \n",
      "                                  specializing $\\forall_{ a  \\in \\mathbb{N}^+} \\left(a \\in \\mathbb{C}\\right)$  proven above\n",
      "                                  condition $1 \\in \\mathbb{N}^+$  proven above\n",
      "                                condition $\\left(e^{ 2 \\cdot \\pi \\cdot i \\cdot \\varphi \\cdot \\left(2^{k}\\right) }\\right) \\in \\mathbb{C}$  assuming $k \\in \\mathbb{N}$  proven above\n",
      "                            hypothesis $\\left( 1 \\cdot \\left(e^{ 2 \\cdot \\pi \\cdot i \\cdot \\varphi \\cdot \\left(2^{k}\\right) }\\right) \\right) = \\left(e^{ 2 \\cdot \\pi \\cdot i \\cdot \\varphi \\cdot \\left(2^{k}\\right) }\\right)$  assuming $k \\in \\mathbb{N}$ \n",
      "                              specializing $\\forall_{ x  \\in \\mathbb{C}} \\left(\\left( 1 \\cdot x \\right) = x\\right)$ \n",
      "                                by theorem proveit.number.complex.prodOne\n",
      "                              condition $\\left(e^{ 2 \\cdot \\pi \\cdot i \\cdot \\varphi \\cdot \\left(2^{k}\\right) }\\right) \\in \\mathbb{C}$  assuming $k \\in \\mathbb{N}$  proven above\n",
      "                        hypothesis $\\left( \\left(e^{ 2 \\cdot \\pi \\cdot i \\cdot \\varphi \\cdot \\left(2^{k}\\right) }\\right) \\cdot \\frac{1}{\\sqrt{2}} \\right) = \\frac{ \\left(e^{ 2 \\cdot \\pi \\cdot i \\cdot \\varphi \\cdot \\left(2^{k}\\right) }\\right) \\cdot 1 }{\\sqrt{2}}$  assuming $k \\in \\mathbb{N}$ \n",
      "                          specializing $\\forall_{~.., w_{\\Box} ,..~, x , y ,~.., z_{\\Box} ,..~ \\in \\mathbb{C}} \\left(\\left(~..\\cdot w_{\\Box} \\cdot..~\\cdot \\frac{x}{y} \\cdot~..\\cdot z_{\\Box} \\cdot..~\\right) = \\frac{~..\\cdot w_{\\Box} \\cdot..~\\cdot x \\cdot~..\\cdot z_{\\Box} \\cdot..~}{y}\\right)$ \n",
      "                            by theorem proveit.number.complex.fracInProd\n",
      "                          condition $\\sqrt{2} \\in \\mathbb{C}$  proven above\n",
      "                          condition $1 \\in \\mathbb{C}$  proven above\n",
      "                          condition $\\left(e^{ 2 \\cdot \\pi \\cdot i \\cdot \\varphi \\cdot \\left(2^{k}\\right) }\\right) \\in \\mathbb{C}$  assuming $k \\in \\mathbb{N}$  proven above\n",
      "                    hypothesis $\\left( \\left(\\frac{1}{\\sqrt{2}}   \\lvert 1 \\rangle\\right) \\otimes \\left(\\left(e^{ 2 \\cdot \\pi \\cdot i \\cdot \\varphi \\cdot \\left(2^{k}\\right) }\\right)   \\lvert u \\rangle\\right) \\right) = \\left(\\left( \\left(e^{ 2 \\cdot \\pi \\cdot i \\cdot \\varphi \\cdot \\left(2^{k}\\right) }\\right) \\cdot \\frac{1}{\\sqrt{2}} \\right)   \\left( \\lvert 1 \\rangle \\otimes \\lvert u \\rangle \\right)\\right)$ \n",
      "                      implication $\\left(\\left(\\left(e^{ 2 \\cdot \\pi \\cdot i \\cdot \\varphi \\cdot \\left(2^{k}\\right) }\\right)   \\left( \\left(\\frac{1}{\\sqrt{2}}   \\lvert 1 \\rangle\\right) \\otimes \\lvert u \\rangle \\right)\\right) = \\left(\\left( \\left(e^{ 2 \\cdot \\pi \\cdot i \\cdot \\varphi \\cdot \\left(2^{k}\\right) }\\right) \\cdot \\frac{1}{\\sqrt{2}} \\right)   \\left( \\lvert 1 \\rangle \\otimes \\lvert u \\rangle \\right)\\right)\\right) \\Rightarrow \\left(\\left( \\left(\\frac{1}{\\sqrt{2}}   \\lvert 1 \\rangle\\right) \\otimes \\left(\\left(e^{ 2 \\cdot \\pi \\cdot i \\cdot \\varphi \\cdot \\left(2^{k}\\right) }\\right)   \\lvert u \\rangle\\right) \\right) = \\left(\\left( \\left(e^{ 2 \\cdot \\pi \\cdot i \\cdot \\varphi \\cdot \\left(2^{k}\\right) }\\right) \\cdot \\frac{1}{\\sqrt{2}} \\right)   \\left( \\lvert 1 \\rangle \\otimes \\lvert u \\rangle \\right)\\right)\\right)$ \n",
      "                        implication $\\left(\\left( \\left(\\frac{1}{\\sqrt{2}}   \\lvert 1 \\rangle\\right) \\otimes \\left(\\left(e^{ 2 \\cdot \\pi \\cdot i \\cdot \\varphi \\cdot \\left(2^{k}\\right) }\\right)   \\lvert u \\rangle\\right) \\right) = \\left(\\left(e^{ 2 \\cdot \\pi \\cdot i \\cdot \\varphi \\cdot \\left(2^{k}\\right) }\\right)   \\left( \\left(\\frac{1}{\\sqrt{2}}   \\lvert 1 \\rangle\\right) \\otimes \\lvert u \\rangle \\right)\\right)\\right) \\Rightarrow \\left(\\left(\\left(\\left(e^{ 2 \\cdot \\pi \\cdot i \\cdot \\varphi \\cdot \\left(2^{k}\\right) }\\right)   \\left( \\left(\\frac{1}{\\sqrt{2}}   \\lvert 1 \\rangle\\right) \\otimes \\lvert u \\rangle \\right)\\right) = \\left(\\left( \\left(e^{ 2 \\cdot \\pi \\cdot i \\cdot \\varphi \\cdot \\left(2^{k}\\right) }\\right) \\cdot \\frac{1}{\\sqrt{2}} \\right)   \\left( \\lvert 1 \\rangle \\otimes \\lvert u \\rangle \\right)\\right)\\right) \\Rightarrow \\left(\\left( \\left(\\frac{1}{\\sqrt{2}}   \\lvert 1 \\rangle\\right) \\otimes \\left(\\left(e^{ 2 \\cdot \\pi \\cdot i \\cdot \\varphi \\cdot \\left(2^{k}\\right) }\\right)   \\lvert u \\rangle\\right) \\right) = \\left(\\left( \\left(e^{ 2 \\cdot \\pi \\cdot i \\cdot \\varphi \\cdot \\left(2^{k}\\right) }\\right) \\cdot \\frac{1}{\\sqrt{2}} \\right)   \\left( \\lvert 1 \\rangle \\otimes \\lvert u \\rangle \\right)\\right)\\right)\\right)$ \n",
      "                          specializing $\\forall_{ x , y , z } \\left(\\left(x = y\\right) \\Rightarrow \\left(\\left(y = z\\right) \\Rightarrow \\left(x = z\\right)\\right)\\right)$  proven above\n",
      "                        hypothesis $\\left( \\left(\\frac{1}{\\sqrt{2}}   \\lvert 1 \\rangle\\right) \\otimes \\left(\\left(e^{ 2 \\cdot \\pi \\cdot i \\cdot \\varphi \\cdot \\left(2^{k}\\right) }\\right)   \\lvert u \\rangle\\right) \\right) = \\left(\\left(e^{ 2 \\cdot \\pi \\cdot i \\cdot \\varphi \\cdot \\left(2^{k}\\right) }\\right)   \\left( \\left(\\frac{1}{\\sqrt{2}}   \\lvert 1 \\rangle\\right) \\otimes \\lvert u \\rangle \\right)\\right)$ \n",
      "                          specializing $\\forall_{ \\alpha } \\left(\\left( \\left(\\frac{1}{\\sqrt{2}}   \\lvert 1 \\rangle\\right) \\otimes \\left(\\alpha   \\lvert u \\rangle\\right) \\right) = \\left(\\alpha   \\left( \\left(\\frac{1}{\\sqrt{2}}   \\lvert 1 \\rangle\\right) \\otimes \\lvert u \\rangle \\right)\\right)\\right)$ \n",
      "                            specializing $\\forall_{~.., x_{\\Box} ,..~, y ,~.., z_{\\Box} ,..~} \\left[\\forall_{ \\alpha } \\left(\\left(~..\\otimes x_{\\Box} \\otimes..~\\otimes \\left(\\alpha   y\\right) \\otimes~..\\otimes z_{\\Box} \\otimes..~\\right) = \\left(\\alpha   \\left(~..\\otimes x_{\\Box} \\otimes..~\\otimes y \\otimes~..\\otimes z_{\\Box} \\otimes..~\\right)\\right)\\right)\\right]$  proven above\n",
      "                      hypothesis $\\left(\\left(e^{ 2 \\cdot \\pi \\cdot i \\cdot \\varphi \\cdot \\left(2^{k}\\right) }\\right)   \\left( \\left(\\frac{1}{\\sqrt{2}}   \\lvert 1 \\rangle\\right) \\otimes \\lvert u \\rangle \\right)\\right) = \\left(\\left( \\left(e^{ 2 \\cdot \\pi \\cdot i \\cdot \\varphi \\cdot \\left(2^{k}\\right) }\\right) \\cdot \\frac{1}{\\sqrt{2}} \\right)   \\left( \\lvert 1 \\rangle \\otimes \\lvert u \\rangle \\right)\\right)$ \n",
      "                        implication $\\left(\\left(\\left(e^{ 2 \\cdot \\pi \\cdot i \\cdot \\varphi \\cdot \\left(2^{k}\\right) }\\right)   \\left(\\frac{1}{\\sqrt{2}}   \\left( \\lvert 1 \\rangle \\otimes \\lvert u \\rangle \\right)\\right)\\right) = \\left(\\left( \\left(e^{ 2 \\cdot \\pi \\cdot i \\cdot \\varphi \\cdot \\left(2^{k}\\right) }\\right) \\cdot \\frac{1}{\\sqrt{2}} \\right)   \\left( \\lvert 1 \\rangle \\otimes \\lvert u \\rangle \\right)\\right)\\right) \\Rightarrow \\left(\\left(\\left(e^{ 2 \\cdot \\pi \\cdot i \\cdot \\varphi \\cdot \\left(2^{k}\\right) }\\right)   \\left( \\left(\\frac{1}{\\sqrt{2}}   \\lvert 1 \\rangle\\right) \\otimes \\lvert u \\rangle \\right)\\right) = \\left(\\left( \\left(e^{ 2 \\cdot \\pi \\cdot i \\cdot \\varphi \\cdot \\left(2^{k}\\right) }\\right) \\cdot \\frac{1}{\\sqrt{2}} \\right)   \\left( \\lvert 1 \\rangle \\otimes \\lvert u \\rangle \\right)\\right)\\right)$ \n",
      "                          implication $\\left(\\left(\\left(e^{ 2 \\cdot \\pi \\cdot i \\cdot \\varphi \\cdot \\left(2^{k}\\right) }\\right)   \\left( \\left(\\frac{1}{\\sqrt{2}}   \\lvert 1 \\rangle\\right) \\otimes \\lvert u \\rangle \\right)\\right) = \\left(\\left(e^{ 2 \\cdot \\pi \\cdot i \\cdot \\varphi \\cdot \\left(2^{k}\\right) }\\right)   \\left(\\frac{1}{\\sqrt{2}}   \\left( \\lvert 1 \\rangle \\otimes \\lvert u \\rangle \\right)\\right)\\right)\\right) \\Rightarrow \\left(\\left(\\left(\\left(e^{ 2 \\cdot \\pi \\cdot i \\cdot \\varphi \\cdot \\left(2^{k}\\right) }\\right)   \\left(\\frac{1}{\\sqrt{2}}   \\left( \\lvert 1 \\rangle \\otimes \\lvert u \\rangle \\right)\\right)\\right) = \\left(\\left( \\left(e^{ 2 \\cdot \\pi \\cdot i \\cdot \\varphi \\cdot \\left(2^{k}\\right) }\\right) \\cdot \\frac{1}{\\sqrt{2}} \\right)   \\left( \\lvert 1 \\rangle \\otimes \\lvert u \\rangle \\right)\\right)\\right) \\Rightarrow \\left(\\left(\\left(e^{ 2 \\cdot \\pi \\cdot i \\cdot \\varphi \\cdot \\left(2^{k}\\right) }\\right)   \\left( \\left(\\frac{1}{\\sqrt{2}}   \\lvert 1 \\rangle\\right) \\otimes \\lvert u \\rangle \\right)\\right) = \\left(\\left( \\left(e^{ 2 \\cdot \\pi \\cdot i \\cdot \\varphi \\cdot \\left(2^{k}\\right) }\\right) \\cdot \\frac{1}{\\sqrt{2}} \\right)   \\left( \\lvert 1 \\rangle \\otimes \\lvert u \\rangle \\right)\\right)\\right)\\right)$ \n",
      "                            specializing $\\forall_{ x , y , z } \\left(\\left(x = y\\right) \\Rightarrow \\left(\\left(y = z\\right) \\Rightarrow \\left(x = z\\right)\\right)\\right)$  proven above\n",
      "                          hypothesis $\\left(\\left(e^{ 2 \\cdot \\pi \\cdot i \\cdot \\varphi \\cdot \\left(2^{k}\\right) }\\right)   \\left( \\left(\\frac{1}{\\sqrt{2}}   \\lvert 1 \\rangle\\right) \\otimes \\lvert u \\rangle \\right)\\right) = \\left(\\left(e^{ 2 \\cdot \\pi \\cdot i \\cdot \\varphi \\cdot \\left(2^{k}\\right) }\\right)   \\left(\\frac{1}{\\sqrt{2}}   \\left( \\lvert 1 \\rangle \\otimes \\lvert u \\rangle \\right)\\right)\\right)$ \n",
      "                            implication $\\left(\\left( \\left(\\frac{1}{\\sqrt{2}}   \\lvert 1 \\rangle\\right) \\otimes \\lvert u \\rangle \\right) = \\left(\\frac{1}{\\sqrt{2}}   \\left( \\lvert 1 \\rangle \\otimes \\lvert u \\rangle \\right)\\right)\\right) \\Rightarrow \\left(\\left(\\left(e^{ 2 \\cdot \\pi \\cdot i \\cdot \\varphi \\cdot \\left(2^{k}\\right) }\\right)   \\left( \\left(\\frac{1}{\\sqrt{2}}   \\lvert 1 \\rangle\\right) \\otimes \\lvert u \\rangle \\right)\\right) = \\left(\\left(e^{ 2 \\cdot \\pi \\cdot i \\cdot \\varphi \\cdot \\left(2^{k}\\right) }\\right)   \\left(\\frac{1}{\\sqrt{2}}   \\left( \\lvert 1 \\rangle \\otimes \\lvert u \\rangle \\right)\\right)\\right)\\right)$ \n",
      "                              specializing $\\forall_{ f , x , y } \\left(\\left(x = y\\right) \\Rightarrow \\left(f\\left( x \\right) = f\\left( y \\right)\\right)\\right)$ \n",
      "                                by axiom proveit.basiclogic.equality.substitution\n",
      "                            hypothesis $\\left( \\left(\\frac{1}{\\sqrt{2}}   \\lvert 1 \\rangle\\right) \\otimes \\lvert u \\rangle \\right) = \\left(\\frac{1}{\\sqrt{2}}   \\left( \\lvert 1 \\rangle \\otimes \\lvert u \\rangle \\right)\\right)$ \n",
      "                              specializing $\\forall_{ \\alpha } \\left(\\left( \\left(\\alpha   \\lvert 1 \\rangle\\right) \\otimes \\lvert u \\rangle \\right) = \\left(\\alpha   \\left( \\lvert 1 \\rangle \\otimes \\lvert u \\rangle \\right)\\right)\\right)$  proven above\n",
      "                        hypothesis $\\left(\\left(e^{ 2 \\cdot \\pi \\cdot i \\cdot \\varphi \\cdot \\left(2^{k}\\right) }\\right)   \\left(\\frac{1}{\\sqrt{2}}   \\left( \\lvert 1 \\rangle \\otimes \\lvert u \\rangle \\right)\\right)\\right) = \\left(\\left( \\left(e^{ 2 \\cdot \\pi \\cdot i \\cdot \\varphi \\cdot \\left(2^{k}\\right) }\\right) \\cdot \\frac{1}{\\sqrt{2}} \\right)   \\left( \\lvert 1 \\rangle \\otimes \\lvert u \\rangle \\right)\\right)$ \n",
      "                          specializing $\\forall_{ \\alpha , \\beta } \\left(\\left(\\alpha   \\left(\\beta   \\left( \\lvert 1 \\rangle \\otimes \\lvert u \\rangle \\right)\\right)\\right) = \\left(\\left( \\alpha \\cdot \\beta \\right)   \\left( \\lvert 1 \\rangle \\otimes \\lvert u \\rangle \\right)\\right)\\right)$ \n",
      "                            specializing $\\forall_{ x } \\left[\\forall_{ \\alpha , \\beta } \\left(\\left(\\alpha   \\left(\\beta   x\\right)\\right) = \\left(\\left( \\alpha \\cdot \\beta \\right)   x\\right)\\right)\\right]$ \n",
      "                              by theorem proveit.linalg.doublyScaledAsSinglyScaled\n",
      "          hypothesis $\\begin{array}{cc}\n",
      "\\Qcircuit @C=1em @R=.7em { & \\lstick{\\frac{1}{\\sqrt{2}}   \\lvert 1 \\rangle} & \\qw & \\ctrl{1} & \\rstick{\\frac{1}{\\sqrt{2}}   \\lvert 1 \\rangle} \\qw \\\\  & \\lstick{\\lvert u \\rangle} & /^{n} \\qw & \\gate{U^{2^{k}}} & \\rstick{ \\left(U^{2^{k}}\\right)   \\lvert u \\rangle } \\qw} & ~ \n",
      "\\end{array}$  assuming $k \\in \\mathbb{N}$ \n",
      "            specializing $\\forall_{ \\alpha  \\in \\mathbb{C}} \\left[\n",
      "\\begin{array}{cc}\n",
      "\\Qcircuit @C=1em @R=.7em { & \\lstick{\\alpha   \\lvert 1 \\rangle} & \\qw & \\ctrl{1} & \\rstick{\\alpha   \\lvert 1 \\rangle} \\qw \\\\  & \\lstick{\\lvert u \\rangle} & /^{n} \\qw & \\gate{U^{2^{k}}} & \\rstick{ \\left(U^{2^{k}}\\right)   \\lvert u \\rangle } \\qw} & ~ \n",
      "\\end{array}\n",
      "\\right]$  assuming $k \\in \\mathbb{N}$ \n",
      "              specializing $\\forall_{ x  \\in \\left(\\mathbb{C}^{2}\\right)^{\\otimes n}} \\left[\\forall_{ \\alpha  \\in \\mathbb{C}} \\left[\n",
      "\\begin{array}{cc}\n",
      "\\Qcircuit @C=1em @R=.7em { & \\lstick{\\alpha   \\lvert 1 \\rangle} & \\qw & \\ctrl{1} & \\rstick{\\alpha   \\lvert 1 \\rangle} \\qw \\\\  & \\lstick{x} & /^{n} \\qw & \\gate{U^{2^{k}}} & \\rstick{ \\left(U^{2^{k}}\\right)   x } \\qw} & ~ \n",
      "\\end{array}\n",
      "\\right]\\right]$  assuming $k \\in \\mathbb{N}$ \n",
      "                specializing $\\forall_{ U  \\in SU\\left( 2^{n} \\right)} \\left[\\forall_{ x  \\in \\left(\\mathbb{C}^{2}\\right)^{\\otimes n}} \\left[\\forall_{ \\alpha  \\in \\mathbb{C}} \\left[\n",
      "\\begin{array}{cc}\n",
      "\\Qcircuit @C=1em @R=.7em { & \\lstick{\\alpha   \\lvert 1 \\rangle} & \\qw & \\ctrl{1} & \\rstick{\\alpha   \\lvert 1 \\rangle} \\qw \\\\  & \\lstick{x} & /^{n} \\qw & \\gate{U} & \\rstick{ U   x } \\qw} & ~ \n",
      "\\end{array}\n",
      "\\right]\\right]\\right]$ \n",
      "                  specializing $\\forall_{ n  \\in \\mathbb{N}^+} \\left[\\forall_{ U  \\in SU\\left( 2^{n} \\right)} \\left[\\forall_{ x  \\in \\left(\\mathbb{C}^{2}\\right)^{\\otimes n}} \\left[\\forall_{ \\alpha  \\in \\mathbb{C}} \\left[\n",
      "\\begin{array}{cc}\n",
      "\\Qcircuit @C=1em @R=.7em { & \\lstick{\\alpha   \\lvert 1 \\rangle} & \\qw & \\ctrl{1} & \\rstick{\\alpha   \\lvert 1 \\rangle} \\qw \\\\  & \\lstick{x} & /^{n} \\qw & \\gate{U} & \\rstick{ U   x } \\qw} & ~ \n",
      "\\end{array}\n",
      "\\right]\\right]\\right]\\right]$ \n",
      "                    by axiom proveit.physics.quantum.oneControlledNgate\n",
      "                  condition $n \\in \\mathbb{N}^+$  proven above\n",
      "                condition $\\left(U^{2^{k}}\\right) \\in SU\\left( 2^{n} \\right)$  assuming $k \\in \\mathbb{N}$  proven above\n",
      "              condition $\\lvert u \\rangle \\in \\left(\\mathbb{C}^{2}\\right)^{\\otimes n}$  proven above\n",
      "            condition $\\frac{1}{\\sqrt{2}} \\in \\mathbb{C}$  proven above\n",
      "        condition $\\begin{array}{cc}\n",
      "\\Qcircuit @C=1em @R=.7em { & \\lstick{\\frac{1}{\\sqrt{2}}   \\lvert 0 \\rangle} & \\qw & \\ctrl{1} & \\rstick{\\frac{1}{\\sqrt{2}}   \\lvert 0 \\rangle} \\qw \\\\  & \\lstick{\\lvert u \\rangle} & /^{n} \\qw & \\gate{U^{2^{k}}} & \\rstick{\\lvert u \\rangle} \\qw} & ~ \n",
      "\\end{array}$  assuming $k \\in \\mathbb{N}$ \n",
      "          specializing $\\forall_{ \\alpha  \\in \\mathbb{C}} \\left[\n",
      "\\begin{array}{cc}\n",
      "\\Qcircuit @C=1em @R=.7em { & \\lstick{\\alpha   \\lvert 0 \\rangle} & \\qw & \\ctrl{1} & \\rstick{\\alpha   \\lvert 0 \\rangle} \\qw \\\\  & \\lstick{\\lvert u \\rangle} & /^{n} \\qw & \\gate{U^{2^{k}}} & \\rstick{\\lvert u \\rangle} \\qw} & ~ \n",
      "\\end{array}\n",
      "\\right]$  assuming $k \\in \\mathbb{N}$ \n",
      "            specializing $\\forall_{ x  \\in \\left(\\mathbb{C}^{2}\\right)^{\\otimes n}} \\left[\\forall_{ \\alpha  \\in \\mathbb{C}} \\left[\n",
      "\\begin{array}{cc}\n",
      "\\Qcircuit @C=1em @R=.7em { & \\lstick{\\alpha   \\lvert 0 \\rangle} & \\qw & \\ctrl{1} & \\rstick{\\alpha   \\lvert 0 \\rangle} \\qw \\\\  & \\lstick{x} & /^{n} \\qw & \\gate{U^{2^{k}}} & \\rstick{x} \\qw} & ~ \n",
      "\\end{array}\n",
      "\\right]\\right]$  assuming $k \\in \\mathbb{N}$ \n",
      "              specializing $\\forall_{ U  \\in SU\\left( 2^{n} \\right)} \\left[\\forall_{ x  \\in \\left(\\mathbb{C}^{2}\\right)^{\\otimes n}} \\left[\\forall_{ \\alpha  \\in \\mathbb{C}} \\left[\n",
      "\\begin{array}{cc}\n",
      "\\Qcircuit @C=1em @R=.7em { & \\lstick{\\alpha   \\lvert 0 \\rangle} & \\qw & \\ctrl{1} & \\rstick{\\alpha   \\lvert 0 \\rangle} \\qw \\\\  & \\lstick{x} & /^{n} \\qw & \\gate{U} & \\rstick{x} \\qw} & ~ \n",
      "\\end{array}\n",
      "\\right]\\right]\\right]$ \n",
      "                specializing $\\forall_{ n  \\in \\mathbb{N}^+} \\left[\\forall_{ U  \\in SU\\left( 2^{n} \\right)} \\left[\\forall_{ x  \\in \\left(\\mathbb{C}^{2}\\right)^{\\otimes n}} \\left[\\forall_{ \\alpha  \\in \\mathbb{C}} \\left[\n",
      "\\begin{array}{cc}\n",
      "\\Qcircuit @C=1em @R=.7em { & \\lstick{\\alpha   \\lvert 0 \\rangle} & \\qw & \\ctrl{1} & \\rstick{\\alpha   \\lvert 0 \\rangle} \\qw \\\\  & \\lstick{x} & /^{n} \\qw & \\gate{U} & \\rstick{x} \\qw} & ~ \n",
      "\\end{array}\n",
      "\\right]\\right]\\right]\\right]$ \n",
      "                  by axiom proveit.physics.quantum.zeroControlledNgate\n",
      "                condition $n \\in \\mathbb{N}^+$  proven above\n",
      "              condition $\\left(U^{2^{k}}\\right) \\in SU\\left( 2^{n} \\right)$  assuming $k \\in \\mathbb{N}$  proven above\n",
      "            condition $\\lvert u \\rangle \\in \\left(\\mathbb{C}^{2}\\right)^{\\otimes n}$  proven above\n",
      "          condition $\\frac{1}{\\sqrt{2}} \\in \\mathbb{C}$  proven above\n",
      "proveit.basiclogic.equality.equalsTransitivity\n",
      "proveit.basiclogic.equality.substitution\n",
      "proveit.physics.quantum.QPE.eigenUu\n",
      "proveit.physics.quantum.QPE.nInNatPos\n",
      "proveit.physics.quantum.QPE.uKetRegister\n",
      "proveit.physics.quantum.QPE.unitaryU\n",
      "proveit.physics.quantum.hadamardOnZero\n",
      "proveit.physics.quantum.ketOneInQubitSpace\n",
      "proveit.physics.quantum.ketZeroInQubitSpace\n",
      "proveit.physics.quantum.oneControlledNgate\n",
      "proveit.physics.quantum.zeroControlledNgate\n",
      "proveit.basiclogic.boolean.conjunctionIntro\n",
      "proveit.basiclogic.boolean.iffImpliesLeft\n",
      "proveit.basiclogic.boolean.iffImpliesRight\n",
      "proveit.basiclogic.equality.lhsSubstitution\n",
      "proveit.basiclogic.equality.rhsSubstitution\n",
      "proveit.linalg.doublyScaledAsSinglyScaled\n",
      "proveit.linalg.eigenPow\n",
      "proveit.linalg.factorScalarFromTensorProd\n",
      "proveit.linalg.intPowSUclosure\n",
      "proveit.number.complex.fracInProd\n",
      "proveit.number.complex.fractionClosure\n",
      "proveit.number.complex.multAssocRev\n",
      "proveit.number.complex.multClosure\n",
      "proveit.number.complex.multComm\n",
      "proveit.number.complex.powClosure\n",
      "proveit.number.complex.powOfPow\n",
      "proveit.number.complex.prodOne\n",
      "proveit.number.natural.inNatPos_inComplexes\n",
      "proveit.number.natural.inNatPos_inNaturals\n",
      "proveit.number.natural.inNatPos_inReals\n",
      "proveit.number.natural.inNatPos_inRealsPos\n",
      "proveit.number.natural.oneInNaturalsPos\n",
      "proveit.number.natural.powClosure\n",
      "proveit.number.real.fractionPosClosure\n",
      "proveit.number.real.inComplexes\n",
      "proveit.number.real.inRealsPos_iff_positive\n",
      "proveit.number.real.inRealsPos_inComplexes\n",
      "proveit.number.real.inRealsPos_inReals\n",
      "proveit.number.real.piInRealsPos\n",
      "proveit.number.real.positive_implies_notzero\n",
      "proveit.number.real.sqrtPosClosure\n",
      "proveit.physics.quantum.QPE.phaseInReals\n",
      "proveit.physics.quantum.controlledNgateEquiv\n",
      "proveit.physics.quantum.ketPlusDistributed\n",
      "proveit.physics.quantum.pregatedControlledNgateEquiv\n",
      "proveit.physics.quantum.scaledQubitRegisterStateInQubitRegisterSpace\n",
      "proveit.physics.quantum.scaledQubitStateInQubitSpace\n",
      "proveit.physics.quantum.summedQubitStateInQubitSpace\n",
      "proveit.physics.quantum.superpositionControlledNgate\n",
      "proveit.physics.quantum.unitaryHadamard\n",
      "Number of used axioms: 11\n",
      "Number of used theorms: 40\n",
      "Number of derivation tree nodes: 195\n"
     ]
    },
    {
     "data": {
      "image/png": "[encoded data removed]",
      "text/plain": [
       "$\\forall_{ k  \\in \\mathbb{N}} \\left[\n",
       "\\begin{array}{cc}\n",
       "\\Qcircuit @C=1em @R=.7em { & \\lstick{\\lvert 0 \\rangle} & \\gate{H} & \\ctrl{1} & \\rstick{ \\left(\\frac{1}{\\sqrt{2}}   \\lvert 0 \\rangle\\right) + \\left(\\frac{e^{ 2 \\cdot \\pi \\cdot i \\cdot \\varphi \\cdot \\left(2^{k}\\right) }}{\\sqrt{2}}   \\lvert 1 \\rangle\\right) } \\qw \\\\  & \\lstick{\\lvert u \\rangle} & /^{n} \\qw & \\gate{U^{2^{k}}} & \\rstick{\\lvert u \\rangle} \\qw} & ~ \n",
       "\\end{array}\n",
       "\\right]$"
      ]
     },
     "execution_count": 35,
     "metadata": {},
     "output_type": "execute_result"
    }
   ],
   "source": [
    "intermediateCircuit.generalize(k, domain=Naturals).qed()"
   ]
  },
  {
   "cell_type": "code",
   "execution_count": null,
   "metadata": {
    "collapsed": true,
    "deletable": true,
    "editable": true
   },
   "outputs": [],
   "source": []
  }
 ],
 "metadata": {
  "kernelspec": {
   "display_name": "Python 3",
   "language": "python",
   "name": "python3"
  },
  "language_info": {
   "codemirror_mode": {
    "name": "ipython",
    "version": 3
   },
   "file_extension": ".py",
   "mimetype": "text/x-python",
   "name": "python",
   "nbconvert_exporter": "python",
   "pygments_lexer": "ipython3"
  }
 },
 "nbformat": 4,
 "nbformat_minor": 0
}
