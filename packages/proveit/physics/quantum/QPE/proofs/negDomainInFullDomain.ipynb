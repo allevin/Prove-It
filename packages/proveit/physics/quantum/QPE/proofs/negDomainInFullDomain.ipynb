{
 "cells": [
  {
   "cell_type": "code",
   "execution_count": 2,
   "metadata": {
    "collapsed": true
   },
   "outputs": [],
   "source": [
    "from proveit.basiclogic import In\n",
    "from proveit.number import Neg\n",
    "from proveit.number.common import one\n",
    "from proveit.common import eps\n",
    "from proveit.physics.quantum.QPE.common import l, fullDomain, negDomain, two_pow_t_minus_one\n",
    "from proveit.physics.quantum.QPE.theorems import negDomainInFullDomain, two_pow_tMinusOne_in_posnats\n",
    "from proveit.number.numberSets import NaturalsPos, deducePositive, deduceNegative, deduceInIntegers\n",
    "from IPython.display import display"
   ]
  },
  {
   "cell_type": "code",
   "execution_count": 3,
   "metadata": {
    "collapsed": false
   },
   "outputs": [
    {
     "data": {
      "text/plain": [
       "$\\forall_{\\varepsilon \\in \\mathbb{N}^+} \\left[\\forall_{l \\in \\{\\left(\\left(-2^{t - 1}\\right) + 1\\right)\\ldots \\left(-\\left(\\varepsilon + 1\\right)\\right)\\}} \\left(l \\in \\{\\left(\\left(-2^{t - 1}\\right) + 1\\right)\\ldots 2^{t - 1}\\}\\right)\\right]$"
      ]
     },
     "execution_count": 3,
     "metadata": {},
     "output_type": "execute_result"
    }
   ],
   "source": [
    "negDomainInFullDomain.beginProof()"
   ]
  },
  {
   "cell_type": "code",
   "execution_count": 4,
   "metadata": {
    "collapsed": false
   },
   "outputs": [
    {
     "data": {
      "text/plain": [
       "$\\varepsilon \\in \\mathbb{N}^+$"
      ]
     },
     "metadata": {},
     "output_type": "display_data"
    },
    {
     "data": {
      "text/plain": [
       "$l \\in \\{\\left(\\left(-2^{t - 1}\\right) + 1\\right)\\ldots \\left(-\\left(\\varepsilon + 1\\right)\\right)\\}$"
      ]
     },
     "metadata": {},
     "output_type": "display_data"
    }
   ],
   "source": [
    "epsInNaturalsPos = In(eps, NaturalsPos)\n",
    "lInNegDomain = In(l, negDomain)\n",
    "assumptions = {epsInNaturalsPos, lInNegDomain}\n",
    "display(epsInNaturalsPos)\n",
    "display(lInNegDomain)"
   ]
  },
  {
   "cell_type": "code",
   "execution_count": 5,
   "metadata": {
    "collapsed": false
   },
   "outputs": [
    {
     "data": {
      "text/plain": [
       "$\\{\\left(-2^{t - 1}\\right) + 1\\ldots 2^{t - 1}\\}$"
      ]
     },
     "execution_count": 5,
     "metadata": {},
     "output_type": "execute_result"
    }
   ],
   "source": [
    "fullDomain"
   ]
  },
  {
   "cell_type": "code",
   "execution_count": 6,
   "metadata": {
    "collapsed": false
   },
   "outputs": [
    {
     "data": {
      "text/plain": [
       "$\\left(\\left(-2^{t - 1}\\right) + 1\\right) \\leq l$"
      ]
     },
     "execution_count": 6,
     "metadata": {},
     "output_type": "execute_result"
    }
   ],
   "source": [
    "negDomain.deduceMemberLowerBound(l, assumptions).proven(assumptions)"
   ]
  },
  {
   "cell_type": "code",
   "execution_count": 7,
   "metadata": {
    "collapsed": false
   },
   "outputs": [
    {
     "data": {
      "text/plain": [
       "$l \\in \\mathbb{Z}$"
      ]
     },
     "metadata": {},
     "output_type": "display_data"
    },
    {
     "data": {
      "text/plain": [
       "$l < 0$"
      ]
     },
     "metadata": {},
     "output_type": "display_data"
    }
   ],
   "source": [
    "lInInts = negDomain.deduceMemberInIntegers(l, assumptions)\n",
    "display(lInInts)\n",
    "lIsNeg = negDomain.deduceMemberIsNegative(l, assumptions)\n",
    "display(lIsNeg)"
   ]
  },
  {
   "cell_type": "code",
   "execution_count": 8,
   "metadata": {
    "collapsed": false
   },
   "outputs": [
    {
     "data": {
      "text/plain": [
       "$l \\leq 2^{t - 1}$"
      ]
     },
     "execution_count": 8,
     "metadata": {},
     "output_type": "execute_result"
    }
   ],
   "source": [
    "deducePositive(fullDomain.upperBound, assumptions).applyTransitivity(lIsNeg).deriveReversed().deriveRelaxed(assumptions).proven(assumptions)"
   ]
  },
  {
   "cell_type": "code",
   "execution_count": 9,
   "metadata": {
    "collapsed": false
   },
   "outputs": [
    {
     "name": "stdout",
     "output_type": "stream",
     "text": [
      "root forall_{eps in NaturalsPos} [forall_{l in \\{((-2^(t - 1)) + 1)...(-(eps + 1))\\}} (l in \\{((-2^(t - 1)) + 1)...2^(t - 1)\\})] \n",
      "  generalizing forall_{l in \\{((-2^(t - 1)) + 1)...(-(eps + 1))\\}} (l in \\{((-2^(t - 1)) + 1)...2^(t - 1)\\})  assuming eps in NaturalsPos \n",
      "    generalizing l in \\{((-2^(t - 1)) + 1)...2^(t - 1)\\}  assuming eps in NaturalsPos, l in \\{((-2^(t - 1)) + 1)...(-(eps + 1))\\} \n",
      "      specializing forall_{a, b, n in Integers | a <= n, n <= b} (n in \\{a...b\\}) \n",
      "        by theorem proveit.number.integer.inInterval\n",
      "      condition l in Integers  assuming eps in NaturalsPos, l in \\{((-2^(t - 1)) + 1)...(-(eps + 1))\\} \n",
      "        specializing forall_{n in \\{((-2^(t - 1)) + 1)...(-(eps + 1))\\}} (n in Integers)  assuming eps in NaturalsPos \n",
      "          specializing forall_{a, b in Integers} [forall_{n in \\{a...b\\}} (n in Integers)] \n",
      "            by theorem proveit.number.integer.allInDiscreteInterval_InInts\n",
      "          condition ((-2^(t - 1)) + 1) in Integers \n",
      "            specializing forall_{..x.. in Integers} (( .. + x + .. ) in Integers) \n",
      "              by theorem proveit.number.integer.addClosure\n",
      "            condition 1 in Integers \n",
      "              specializing forall_{a in NaturalsPos} (a in Integers) \n",
      "                by theorem proveit.number.natural.inNatPos_inIntegers\n",
      "              condition 1 in NaturalsPos \n",
      "            condition (-2^(t - 1)) in Integers \n",
      "              specializing forall_{a in Integers} ((-a) in Integers) \n",
      "                by theorem proveit.number.integer.negClosure\n",
      "              condition 2^(t - 1) in Integers \n",
      "                specializing forall_{a in NaturalsPos} (a in Integers)  proven above\n",
      "                condition 2^(t - 1) in NaturalsPos \n",
      "                  by theorem proveit.physics.quantum.QPE.two_pow_tMinusOne_in_posnats\n",
      "          condition (-(eps + 1)) in Integers  assuming eps in NaturalsPos \n",
      "            specializing forall_{a in Integers} ((-a) in Integers)  proven above\n",
      "            condition (eps + 1) in Integers  assuming eps in NaturalsPos \n",
      "              specializing forall_{a in NaturalsPos} (a in Integers)  proven above\n",
      "              condition (eps + 1) in NaturalsPos  assuming eps in NaturalsPos \n",
      "                specializing forall_{..a.., b, ..c.. in Naturals | b > 0} (( .. + a + ..  + b +  .. + c + .. ) in NaturalsPos) \n",
      "                  by theorem proveit.number.natural.sumInNatsPos\n",
      "                condition 1 in Naturals \n",
      "                  specializing forall_{a in NaturalsPos} (a in Naturals) \n",
      "                    by theorem proveit.number.natural.inNatPos_inNaturals\n",
      "                  condition 1 in NaturalsPos  proven above\n",
      "                condition eps in Naturals  assuming eps in NaturalsPos \n",
      "                  specializing forall_{a in NaturalsPos} (a in Naturals)  proven above\n",
      "                  condition eps in NaturalsPos  assuming eps in NaturalsPos \n",
      "                condition eps > 0  assuming eps in NaturalsPos \n",
      "                  implication (eps in RealsPos) => (eps > 0)  assuming eps in NaturalsPos \n",
      "                    implication ((eps in RealsPos) <=> (eps > 0)) => ((eps in RealsPos) => (eps > 0)) \n",
      "                      specializing forall_{A, B} ((A <=> B) => (A => B)) \n",
      "                        by theorem proveit.basiclogic.boolean.iffImpliesRight\n",
      "                    hypothesis (eps in RealsPos) <=> (eps > 0)  assuming eps in NaturalsPos \n",
      "                      specializing forall_{a in Reals} ((a in RealsPos) <=> (a > 0)) \n",
      "                        by theorem proveit.number.real.inRealsPos_iff_positive\n",
      "                      condition eps in Reals  assuming eps in NaturalsPos \n",
      "                        specializing forall_{a in NaturalsPos} (a in Reals) \n",
      "                          by theorem proveit.number.natural.inNatPos_inReals\n",
      "                        condition eps in NaturalsPos  assuming eps in NaturalsPos  proven above\n",
      "                  hypothesis eps in RealsPos  assuming eps in NaturalsPos \n",
      "                    specializing forall_{a in NaturalsPos} (a in RealsPos) \n",
      "                      by theorem proveit.number.natural.inNatPos_inRealsPos\n",
      "                    condition eps in NaturalsPos  assuming eps in NaturalsPos  proven above\n",
      "        condition l in \\{((-2^(t - 1)) + 1)...(-(eps + 1))\\}  assuming l in \\{((-2^(t - 1)) + 1)...(-(eps + 1))\\} \n",
      "      condition l <= 2^(t - 1)  assuming eps in NaturalsPos, l in \\{((-2^(t - 1)) + 1)...(-(eps + 1))\\} \n",
      "        specializing forall_{a, b in Reals | a < b} (a <= b) \n",
      "          by theorem proveit.number.real.relaxLessThan\n",
      "        condition l < 2^(t - 1)  assuming eps in NaturalsPos, l in \\{((-2^(t - 1)) + 1)...(-(eps + 1))\\} \n",
      "          implication (2^(t - 1) > l) => (l < 2^(t - 1)) \n",
      "            specializing forall_{x, y} ((x > y) => (y < x)) \n",
      "              by axiom proveit.number.reverseGreaterThan\n",
      "          hypothesis 2^(t - 1) > l  assuming eps in NaturalsPos, l in \\{((-2^(t - 1)) + 1)...(-(eps + 1))\\} \n",
      "            implication (0 > l) => (2^(t - 1) > l) \n",
      "              implication (2^(t - 1) > 0) => ((0 > l) => (2^(t - 1) > l)) \n",
      "                specializing forall_{x, y, z} ((x > y) => ((y > z) => (x > z))) \n",
      "                  by axiom proveit.number.greaterThanTransGreaterThanRight\n",
      "              hypothesis 2^(t - 1) > 0 \n",
      "                implication (2^(t - 1) in RealsPos) => (2^(t - 1) > 0) \n",
      "                  implication ((2^(t - 1) in RealsPos) <=> (2^(t - 1) > 0)) => ((2^(t - 1) in RealsPos) => (2^(t - 1) > 0)) \n",
      "                    specializing forall_{A, B} ((A <=> B) => (A => B))  proven above\n",
      "                  hypothesis (2^(t - 1) in RealsPos) <=> (2^(t - 1) > 0) \n",
      "                    specializing forall_{a in Reals} ((a in RealsPos) <=> (a > 0))  proven above\n",
      "                    condition 2^(t - 1) in Reals \n",
      "                      specializing forall_{a in NaturalsPos} (a in Reals)  proven above\n",
      "                      condition 2^(t - 1) in NaturalsPos  proven above\n",
      "                hypothesis 2^(t - 1) in RealsPos \n",
      "                  specializing forall_{a in NaturalsPos} (a in RealsPos)  proven above\n",
      "                  condition 2^(t - 1) in NaturalsPos  proven above\n",
      "            hypothesis 0 > l  assuming eps in NaturalsPos, l in \\{((-2^(t - 1)) + 1)...(-(eps + 1))\\} \n",
      "              implication (l < 0) => (0 > l) \n",
      "                specializing forall_{x, y} ((x < y) => (y > x)) \n",
      "                  by axiom proveit.number.reverseLessThan\n",
      "              hypothesis l < 0  assuming eps in NaturalsPos, l in \\{((-2^(t - 1)) + 1)...(-(eps + 1))\\} \n",
      "                specializing forall_{n in \\{((-2^(t - 1)) + 1)...(-(eps + 1))\\}} (n < 0)  assuming eps in NaturalsPos \n",
      "                  specializing forall_{a, b in Integers | b < 0} [forall_{n in \\{a...b\\}} (n < 0)] \n",
      "                    by theorem proveit.number.integer.allInNegativeIntervalAreNegative\n",
      "                  condition (-(eps + 1)) < 0  assuming eps in NaturalsPos \n",
      "                    specializing forall_{a in Reals | a > 0} ((-a) < 0) \n",
      "                      by theorem proveit.number.real.negatedPositiveIsNegative\n",
      "                    condition (eps + 1) in Reals  assuming eps in NaturalsPos \n",
      "                      specializing forall_{a in NaturalsPos} (a in Reals)  proven above\n",
      "                      condition (eps + 1) in NaturalsPos  assuming eps in NaturalsPos  proven above\n",
      "                    condition (eps + 1) > 0  assuming eps in NaturalsPos \n",
      "                      implication ((eps + 1) in RealsPos) => ((eps + 1) > 0)  assuming eps in NaturalsPos \n",
      "                        implication (((eps + 1) in RealsPos) <=> ((eps + 1) > 0)) => (((eps + 1) in RealsPos) => ((eps + 1) > 0)) \n",
      "                          specializing forall_{A, B} ((A <=> B) => (A => B))  proven above\n",
      "                        hypothesis ((eps + 1) in RealsPos) <=> ((eps + 1) > 0)  assuming eps in NaturalsPos \n",
      "                          specializing forall_{a in Reals} ((a in RealsPos) <=> (a > 0))  proven above\n",
      "                          condition (eps + 1) in Reals  assuming eps in NaturalsPos  proven above\n",
      "                      hypothesis (eps + 1) in RealsPos  assuming eps in NaturalsPos \n",
      "                        specializing forall_{a in NaturalsPos} (a in RealsPos)  proven above\n",
      "                        condition (eps + 1) in NaturalsPos  assuming eps in NaturalsPos  proven above\n",
      "                  condition (-(eps + 1)) in Integers  assuming eps in NaturalsPos  proven above\n",
      "                  condition ((-2^(t - 1)) + 1) in Integers  proven above\n",
      "                condition l in \\{((-2^(t - 1)) + 1)...(-(eps + 1))\\}  assuming l in \\{((-2^(t - 1)) + 1)...(-(eps + 1))\\}  proven above\n",
      "        condition 2^(t - 1) in Reals  proven above\n",
      "        condition l in Reals  assuming eps in NaturalsPos, l in \\{((-2^(t - 1)) + 1)...(-(eps + 1))\\} \n",
      "          specializing forall_{a in Integers} (a in Reals) \n",
      "            by theorem proveit.number.integer.inReals\n",
      "          condition l in Integers  assuming eps in NaturalsPos, l in \\{((-2^(t - 1)) + 1)...(-(eps + 1))\\}  proven above\n",
      "      condition ((-2^(t - 1)) + 1) in Integers  proven above\n",
      "      condition ((-2^(t - 1)) + 1) <= l  assuming eps in NaturalsPos, l in \\{((-2^(t - 1)) + 1)...(-(eps + 1))\\} \n",
      "        specializing forall_{n in \\{((-2^(t - 1)) + 1)...(-(eps + 1))\\}} (((-2^(t - 1)) + 1) <= n)  assuming eps in NaturalsPos \n",
      "          specializing forall_{a, b in Integers} [forall_{n in \\{a...b\\}} (a <= n)] \n",
      "            by theorem proveit.number.integer.intervalLowerBound\n",
      "          condition ((-2^(t - 1)) + 1) in Integers  proven above\n",
      "          condition (-(eps + 1)) in Integers  assuming eps in NaturalsPos  proven above\n",
      "        condition l in \\{((-2^(t - 1)) + 1)...(-(eps + 1))\\}  assuming l in \\{((-2^(t - 1)) + 1)...(-(eps + 1))\\}  proven above\n",
      "      condition 2^(t - 1) in Integers  proven above\n",
      "proveit.number.greaterThanTransGreaterThanRight\n",
      "proveit.number.reverseGreaterThan\n",
      "proveit.number.reverseLessThan\n",
      "proveit.basiclogic.boolean.iffImpliesRight\n",
      "proveit.number.integer.addClosure\n",
      "proveit.number.integer.allInDiscreteInterval_InInts\n",
      "proveit.number.integer.allInNegativeIntervalAreNegative\n",
      "proveit.number.integer.inInterval\n",
      "proveit.number.integer.inReals\n",
      "proveit.number.integer.intervalLowerBound\n",
      "proveit.number.integer.negClosure\n",
      "proveit.number.natural.inNatPos_inIntegers\n",
      "proveit.number.natural.inNatPos_inNaturals\n",
      "proveit.number.natural.inNatPos_inReals\n",
      "proveit.number.natural.inNatPos_inRealsPos\n",
      "proveit.number.natural.sumInNatsPos\n",
      "proveit.number.real.inRealsPos_iff_positive\n",
      "proveit.number.real.negatedPositiveIsNegative\n",
      "proveit.number.real.relaxLessThan\n",
      "proveit.physics.quantum.QPE.two_pow_tMinusOne_in_posnats\n",
      "Number of used axioms: 3\n",
      "Number of used theorms: 17\n",
      "Number of derivation tree nodes: 69\n"
     ]
    },
    {
     "data": {
      "text/plain": [
       "$\\forall_{\\varepsilon \\in \\mathbb{N}^+} \\left[\\forall_{l \\in \\{\\left(\\left(-2^{t - 1}\\right) + 1\\right)\\ldots \\left(-\\left(\\varepsilon + 1\\right)\\right)\\}} \\left(l \\in \\{\\left(\\left(-2^{t - 1}\\right) + 1\\right)\\ldots 2^{t - 1}\\}\\right)\\right]$"
      ]
     },
     "execution_count": 9,
     "metadata": {},
     "output_type": "execute_result"
    }
   ],
   "source": [
    "deduceInIntegers(fullDomain.lowerBound, assumptions)\n",
    "deduceInIntegers(fullDomain.upperBound, assumptions)\n",
    "negDomain.deduceMemberInIntegers(l, assumptions).proven(assumptions)\n",
    "In(l, fullDomain).concludeAsFolded().generalize(l, domain=negDomain).generalize(eps, domain=NaturalsPos).qed()"
   ]
  },
  {
   "cell_type": "code",
   "execution_count": null,
   "metadata": {
    "collapsed": true
   },
   "outputs": [],
   "source": []
  }
 ],
 "metadata": {
  "kernelspec": {
   "display_name": "Python 3",
   "language": "python",
   "name": "python3"
  },
  "language_info": {
   "codemirror_mode": {
    "name": "ipython",
    "version": 3
   },
   "file_extension": ".py",
   "mimetype": "text/x-python",
   "name": "python",
   "nbconvert_exporter": "python",
   "pygments_lexer": "ipython3"
  }
 },
 "nbformat": 4,
 "nbformat_minor": 0
}
