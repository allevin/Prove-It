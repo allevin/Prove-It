{
 "cells": [
  {
   "cell_type": "code",
   "execution_count": 1,
   "metadata": {
    "collapsed": false,
    "deletable": true,
    "editable": true
   },
   "outputs": [],
   "source": [
    "from proveit.basiclogic import In, autoSubstitute\n",
    "from proveit.physics.quantum.QPE.axioms import tInNaturalsPos\n",
    "from proveit.physics.quantum.QPE.theorems import deltaDiffInInterval, scaledDeltaInInterval, deltaInReals, two_pow_t_in_posnats, two_pow_tMinusOne_in_posnats\n",
    "from proveit.physics.quantum.QPE.common import fullDomain, two_pow_t, t_\n",
    "from proveit.number import IntervalCO, Neg, Fraction, Multiply, Exponentiate\n",
    "from proveit.number.common import one, two\n",
    "from proveit.number.numberSets import deduceInReals, deduceInComplexes\n",
    "from proveit.number.complex.theorems import posTimesNeg, cancelSubThenAdd\n",
    "from proveit.common import a, b, l, x, y\n",
    "from IPython.display import display"
   ]
  },
  {
   "cell_type": "code",
   "execution_count": 2,
   "metadata": {
    "collapsed": false,
    "deletable": true,
    "editable": true
   },
   "outputs": [
    {
     "data": {
      "text/latex": [
       "$\\forall_{ l  \\in \\{\\left( \\left(-\\left(2^{t - 1}\\right)\\right) + 1 \\right)\\ldots \\left(2^{t - 1}\\right)\\}} \\left(\\left(\\delta - \\frac{l}{2^{t}}\\right) \\in \\left[\\left(-\\frac{1}{2}\\right),\\frac{1}{2}\\right)\\right)$"
      ],
      "text/plain": [
       "$\\forall_{ l  \\in \\{\\left( \\left(-\\left(2^{t - 1}\\right)\\right) + 1 \\right)\\ldots \\left(2^{t - 1}\\right)\\}} \\left(\\left(\\delta - \\frac{l}{2^{t}}\\right) \\in \\left[\\left(-\\frac{1}{2}\\right),\\frac{1}{2}\\right)\\right)$"
      ]
     },
     "execution_count": 2,
     "metadata": {},
     "output_type": "execute_result"
    }
   ],
   "source": [
    "deltaDiffInInterval.beginProof()"
   ]
  },
  {
   "cell_type": "code",
   "execution_count": 3,
   "metadata": {
    "collapsed": false,
    "deletable": true,
    "editable": true
   },
   "outputs": [
    {
     "data": {
      "text/latex": [
       "$\\left( \\left(2^{t}\\right) \\cdot \\delta \\right) \\in \\left[0,1\\right)$"
      ],
      "text/plain": [
       "$\\left( \\left(2^{t}\\right) \\cdot \\delta \\right) \\in \\left[0,1\\right)$"
      ]
     },
     "execution_count": 3,
     "metadata": {},
     "output_type": "execute_result"
    }
   ],
   "source": [
    "scaledDeltaInInterval"
   ]
  },
  {
   "cell_type": "code",
   "execution_count": 4,
   "metadata": {
    "collapsed": false,
    "deletable": true,
    "editable": true
   },
   "outputs": [
    {
     "data": {
      "text/latex": [
       "$0 \\leq \\left( \\left(2^{t}\\right) \\cdot \\delta \\right)$"
      ],
      "text/plain": [
       "$0 \\leq \\left( \\left(2^{t}\\right) \\cdot \\delta \\right)$"
      ]
     },
     "execution_count": 4,
     "metadata": {},
     "output_type": "execute_result"
    }
   ],
   "source": [
    "scaledDeltaLowerBound = scaledDeltaInInterval.domain.deduceMemberLowerBound(scaledDeltaInInterval.element)\n",
    "scaledDeltaLowerBound.proven()"
   ]
  },
  {
   "cell_type": "code",
   "execution_count": 5,
   "metadata": {
    "collapsed": false,
    "deletable": true,
    "editable": true
   },
   "outputs": [
    {
     "data": {
      "text/latex": [
       "$\\left( \\left(2^{t}\\right) \\cdot \\delta \\right) < 1$"
      ],
      "text/plain": [
       "$\\left( \\left(2^{t}\\right) \\cdot \\delta \\right) < 1$"
      ]
     },
     "execution_count": 5,
     "metadata": {},
     "output_type": "execute_result"
    }
   ],
   "source": [
    "scaledDeltaUpperBound = scaledDeltaInInterval.domain.deduceMemberUpperBound(scaledDeltaInInterval.element)\n",
    "scaledDeltaUpperBound.proven()"
   ]
  },
  {
   "cell_type": "code",
   "execution_count": 6,
   "metadata": {
    "collapsed": false,
    "deletable": true,
    "editable": true
   },
   "outputs": [
    {
     "data": {
      "text/latex": [
       "$l \\in \\{\\left( \\left(-\\left(2^{t - 1}\\right)\\right) + 1 \\right)\\ldots \\left(2^{t - 1}\\right)\\}$"
      ],
      "text/plain": [
       "$l \\in \\{\\left( \\left(-\\left(2^{t - 1}\\right)\\right) + 1 \\right)\\ldots \\left(2^{t - 1}\\right)\\}$"
      ]
     },
     "metadata": {},
     "output_type": "display_data"
    },
    {
     "data": {
      "text/latex": [
       "$l \\in \\mathbb{Z}$"
      ],
      "text/plain": [
       "$l \\in \\mathbb{Z}$"
      ]
     },
     "metadata": {},
     "output_type": "display_data"
    }
   ],
   "source": [
    "lInDomain = In(l, fullDomain)\n",
    "display(lInDomain)\n",
    "display(fullDomain.deduceMemberInIntegers(l).proven({lInDomain}))"
   ]
  },
  {
   "cell_type": "code",
   "execution_count": 7,
   "metadata": {
    "collapsed": false,
    "deletable": true,
    "editable": true
   },
   "outputs": [
    {
     "data": {
      "text/latex": [
       "$\\left(-\\left( \\left(-\\left(2^{t - 1}\\right)\\right) + 1 \\right)\\right) \\geq \\left(-l\\right)$"
      ],
      "text/plain": [
       "$\\left(-\\left( \\left(-\\left(2^{t - 1}\\right)\\right) + 1 \\right)\\right) \\geq \\left(-l\\right)$"
      ]
     },
     "execution_count": 7,
     "metadata": {},
     "output_type": "execute_result"
    }
   ],
   "source": [
    "lNegatedLowerBound = lInDomain.domain.deduceMemberLowerBound(l).deriveNegated({lInDomain})\n",
    "lNegatedLowerBound.proven({lInDomain})"
   ]
  },
  {
   "cell_type": "code",
   "execution_count": 8,
   "metadata": {
    "collapsed": false,
    "deletable": true,
    "editable": true
   },
   "outputs": [
    {
     "data": {
      "text/latex": [
       "$\\left(-l\\right) \\geq \\left(-\\left(2^{t - 1}\\right)\\right)$"
      ],
      "text/plain": [
       "$\\left(-l\\right) \\geq \\left(-\\left(2^{t - 1}\\right)\\right)$"
      ]
     },
     "execution_count": 8,
     "metadata": {},
     "output_type": "execute_result"
    }
   ],
   "source": [
    "lNegatedUpperBound = lInDomain.domain.deduceMemberUpperBound(l).deriveNegated({lInDomain})\n",
    "lNegatedUpperBound.proven({lInDomain})"
   ]
  },
  {
   "cell_type": "code",
   "execution_count": 9,
   "metadata": {
    "collapsed": false,
    "deletable": true,
    "editable": true
   },
   "outputs": [
    {
     "data": {
      "text/latex": [
       "$\\left( 0 + \\left(-\\left(2^{t - 1}\\right)\\right) \\right) \\leq \\left( \\left( \\left(2^{t}\\right) \\cdot \\delta \\right) + \\left(-l\\right) \\right)$"
      ],
      "text/plain": [
       "$\\left( 0 + \\left(-\\left(2^{t - 1}\\right)\\right) \\right) \\leq \\left( \\left( \\left(2^{t}\\right) \\cdot \\delta \\right) + \\left(-l\\right) \\right)$"
      ]
     },
     "execution_count": 9,
     "metadata": {},
     "output_type": "execute_result"
    }
   ],
   "source": [
    "shiftedScaledLowerBound0 = scaledDeltaLowerBound.deriveAdded(lNegatedUpperBound, {lInDomain})\n",
    "shiftedScaledLowerBound0.proven({lInDomain})"
   ]
  },
  {
   "cell_type": "code",
   "execution_count": 10,
   "metadata": {
    "collapsed": false,
    "deletable": true,
    "editable": true
   },
   "outputs": [
    {
     "data": {
      "text/latex": [
       "$\\left(-\\left(2^{t - 1}\\right)\\right) \\leq \\left( \\left( \\left(2^{t}\\right) \\cdot \\delta \\right) + \\left(-l\\right) \\right)$"
      ],
      "text/plain": [
       "$\\left(-\\left(2^{t - 1}\\right)\\right) \\leq \\left( \\left( \\left(2^{t}\\right) \\cdot \\delta \\right) + \\left(-l\\right) \\right)$"
      ]
     },
     "execution_count": 10,
     "metadata": {},
     "output_type": "execute_result"
    }
   ],
   "source": [
    "shiftedScaledLowerBound1 = autoSubstitute(shiftedScaledLowerBound0, 'simplification', [], {'assumptions':{lInDomain}}, superExpr=shiftedScaledLowerBound0.lhs)\n",
    "shiftedScaledLowerBound1.proven({lInDomain})"
   ]
  },
  {
   "cell_type": "code",
   "execution_count": 11,
   "metadata": {
    "collapsed": false,
    "deletable": true,
    "editable": true
   },
   "outputs": [
    {
     "data": {
      "text/latex": [
       "$\\left(-\\left(2^{t - 1}\\right)\\right) \\leq \\left(\\left( \\left(2^{t}\\right) \\cdot \\delta \\right) - l\\right)$"
      ],
      "text/plain": [
       "$\\left(-\\left(2^{t - 1}\\right)\\right) \\leq \\left(\\left( \\left(2^{t}\\right) \\cdot \\delta \\right) - l\\right)$"
      ]
     },
     "execution_count": 11,
     "metadata": {},
     "output_type": "execute_result"
    }
   ],
   "source": [
    "shiftedScaledLowerBound = autoSubstitute(shiftedScaledLowerBound1, 'subtractionFolding', [], {'assumptions':{lInDomain}}, superExpr=shiftedScaledLowerBound1.rhs)\n",
    "shiftedScaledLowerBound.proven({lInDomain})"
   ]
  },
  {
   "cell_type": "code",
   "execution_count": 12,
   "metadata": {
    "collapsed": false,
    "deletable": true,
    "editable": true
   },
   "outputs": [
    {
     "data": {
      "text/latex": [
       "$\\left( \\left( \\left(2^{t}\\right) \\cdot \\delta \\right) + \\left(-l\\right) \\right) < \\left( 1 + \\left(-\\left( \\left(-\\left(2^{t - 1}\\right)\\right) + 1 \\right)\\right) \\right)$"
      ],
      "text/plain": [
       "$\\left( \\left( \\left(2^{t}\\right) \\cdot \\delta \\right) + \\left(-l\\right) \\right) < \\left( 1 + \\left(-\\left( \\left(-\\left(2^{t - 1}\\right)\\right) + 1 \\right)\\right) \\right)$"
      ]
     },
     "execution_count": 12,
     "metadata": {},
     "output_type": "execute_result"
    }
   ],
   "source": [
    "shiftedScaledUpperBound0 = scaledDeltaUpperBound.deriveAdded(lNegatedLowerBound, {lInDomain})\n",
    "shiftedScaledUpperBound0.proven({lInDomain})"
   ]
  },
  {
   "cell_type": "code",
   "execution_count": 13,
   "metadata": {
    "collapsed": false,
    "deletable": true,
    "editable": true
   },
   "outputs": [
    {
     "data": {
      "text/latex": [
       "$\\left(\\left( \\left(2^{t}\\right) \\cdot \\delta \\right) - l\\right) < \\left( 1 + \\left(-\\left( \\left(-\\left(2^{t - 1}\\right)\\right) + 1 \\right)\\right) \\right)$"
      ],
      "text/plain": [
       "$\\left(\\left( \\left(2^{t}\\right) \\cdot \\delta \\right) - l\\right) < \\left( 1 + \\left(-\\left( \\left(-\\left(2^{t - 1}\\right)\\right) + 1 \\right)\\right) \\right)$"
      ]
     },
     "execution_count": 13,
     "metadata": {},
     "output_type": "execute_result"
    }
   ],
   "source": [
    "shiftedScaledUpperBound1 = autoSubstitute(shiftedScaledUpperBound0, 'subtractionFolding', [], {'assumptions':{lInDomain}}, superExpr=shiftedScaledUpperBound0.lhs)\n",
    "shiftedScaledUpperBound1.proven({lInDomain})"
   ]
  },
  {
   "cell_type": "code",
   "execution_count": 14,
   "metadata": {
    "collapsed": false,
    "deletable": true,
    "editable": true
   },
   "outputs": [
    {
     "data": {
      "text/latex": [
       "$\\left(\\left( \\left(2^{t}\\right) \\cdot \\delta \\right) - l\\right) < \\left(1 - \\left( \\left(-\\left(2^{t - 1}\\right)\\right) + 1 \\right)\\right)$"
      ],
      "text/plain": [
       "$\\left(\\left( \\left(2^{t}\\right) \\cdot \\delta \\right) - l\\right) < \\left(1 - \\left( \\left(-\\left(2^{t - 1}\\right)\\right) + 1 \\right)\\right)$"
      ]
     },
     "execution_count": 14,
     "metadata": {},
     "output_type": "execute_result"
    }
   ],
   "source": [
    "shiftedScaledUpperBound2 = autoSubstitute(shiftedScaledUpperBound1, 'subtractionFolding', [], {'assumptions':{lInDomain}}, superExpr=shiftedScaledUpperBound1.rhs)\n",
    "shiftedScaledUpperBound2.proven({lInDomain})"
   ]
  },
  {
   "cell_type": "code",
   "execution_count": 15,
   "metadata": {
    "collapsed": false,
    "deletable": true,
    "editable": true
   },
   "outputs": [
    {
     "data": {
      "text/latex": [
       "$\\left(\\left( \\left(2^{t}\\right) \\cdot \\delta \\right) - l\\right) < \\left(2^{t - 1}\\right)$"
      ],
      "text/plain": [
       "$\\left(\\left( \\left(2^{t}\\right) \\cdot \\delta \\right) - l\\right) < \\left(2^{t - 1}\\right)$"
      ]
     },
     "execution_count": 15,
     "metadata": {},
     "output_type": "execute_result"
    }
   ],
   "source": [
    "shiftedScaledUpperBound = autoSubstitute(shiftedScaledUpperBound2, 'cancel', [], {'assumptions':{lInDomain}}, superExpr=shiftedScaledUpperBound2.rhs)\n",
    "shiftedScaledUpperBound.proven({lInDomain})"
   ]
  },
  {
   "cell_type": "code",
   "execution_count": 16,
   "metadata": {
    "collapsed": false,
    "deletable": true,
    "editable": true
   },
   "outputs": [
    {
     "data": {
      "text/latex": [
       "$\\left(\\left( \\left(2^{t}\\right) \\cdot \\delta \\right) - l\\right) \\in \\left[\\left(-\\left(2^{t - 1}\\right)\\right),\\left(2^{t - 1}\\right)\\right)$"
      ],
      "text/plain": [
       "$\\left(\\left( \\left(2^{t}\\right) \\cdot \\delta \\right) - l\\right) \\in \\left[\\left(-\\left(2^{t - 1}\\right)\\right),\\left(2^{t - 1}\\right)\\right)$"
      ]
     },
     "execution_count": 16,
     "metadata": {},
     "output_type": "execute_result"
    }
   ],
   "source": [
    "shiftedScaled = shiftedScaledUpperBound.lhs\n",
    "two_pow_tMinusOne = shiftedScaledUpperBound.rhs\n",
    "deduceInReals(shiftedScaled, {lInDomain})\n",
    "shiftedScaledInDomain = In(shiftedScaled, IntervalCO(Neg(two_pow_tMinusOne), two_pow_tMinusOne)).concludeAsFolded()\n",
    "shiftedScaledInDomain.proven({lInDomain})"
   ]
  },
  {
   "cell_type": "code",
   "execution_count": 17,
   "metadata": {
    "collapsed": true,
    "deletable": true,
    "editable": true
   },
   "outputs": [],
   "source": [
    "shiftedRescaledInDomain = list()"
   ]
  },
  {
   "cell_type": "code",
   "execution_count": 18,
   "metadata": {
    "collapsed": false,
    "deletable": true,
    "editable": true
   },
   "outputs": [
    {
     "data": {
      "text/latex": [
       "$\\left( \\frac{1}{2^{t}} \\cdot \\left(\\left( \\left(2^{t}\\right) \\cdot \\delta \\right) - l\\right) \\right) \\in \\left[\\left( \\frac{1}{2^{t}} \\cdot \\left(-\\left(2^{t - 1}\\right)\\right) \\right),\\left( \\frac{1}{2^{t}} \\cdot \\left(2^{t - 1}\\right) \\right)\\right)$"
      ],
      "text/plain": [
       "$\\left( \\frac{1}{2^{t}} \\cdot \\left(\\left( \\left(2^{t}\\right) \\cdot \\delta \\right) - l\\right) \\right) \\in \\left[\\left( \\frac{1}{2^{t}} \\cdot \\left(-\\left(2^{t - 1}\\right)\\right) \\right),\\left( \\frac{1}{2^{t}} \\cdot \\left(2^{t - 1}\\right) \\right)\\right)$"
      ]
     },
     "execution_count": 18,
     "metadata": {},
     "output_type": "execute_result"
    }
   ],
   "source": [
    "shiftedRescaledInDomain.append(shiftedScaledInDomain.domain.deduceRescaledMembership(shiftedScaledInDomain.element, Fraction(one, two_pow_t), {lInDomain}))\n",
    "shiftedRescaledInDomain[-1].proven({lInDomain})"
   ]
  },
  {
   "cell_type": "code",
   "execution_count": 19,
   "metadata": {
    "collapsed": false,
    "deletable": true,
    "editable": true
   },
   "outputs": [
    {
     "data": {
      "text/latex": [
       "$\\left(\\left( \\frac{1}{2^{t}} \\cdot \\left( \\left(2^{t}\\right) \\cdot \\delta \\right) \\right) - \\left( \\frac{1}{2^{t}} \\cdot l \\right)\\right) \\in \\left[\\left( \\frac{1}{2^{t}} \\cdot \\left(-\\left(2^{t - 1}\\right)\\right) \\right),\\left( \\frac{1}{2^{t}} \\cdot \\left(2^{t - 1}\\right) \\right)\\right)$"
      ],
      "text/plain": [
       "$\\left(\\left( \\frac{1}{2^{t}} \\cdot \\left( \\left(2^{t}\\right) \\cdot \\delta \\right) \\right) - \\left( \\frac{1}{2^{t}} \\cdot l \\right)\\right) \\in \\left[\\left( \\frac{1}{2^{t}} \\cdot \\left(-\\left(2^{t - 1}\\right)\\right) \\right),\\left( \\frac{1}{2^{t}} \\cdot \\left(2^{t - 1}\\right) \\right)\\right)$"
      ]
     },
     "execution_count": 19,
     "metadata": {},
     "output_type": "execute_result"
    }
   ],
   "source": [
    "shiftedRescaledInDomain.append(autoSubstitute(shiftedRescaledInDomain[-1], 'distribute', [1], {'assumptions':{lInDomain}}))\n",
    "shiftedRescaledInDomain[-1].proven({lInDomain})"
   ]
  },
  {
   "cell_type": "code",
   "execution_count": 20,
   "metadata": {
    "collapsed": false,
    "deletable": true,
    "editable": true
   },
   "outputs": [
    {
     "data": {
      "text/latex": [
       "$\\forall_{ x , y  \\in \\mathbb{C}} \\left(\\left( x \\cdot \\left(-y\\right) \\right) = \\left(-\\left( x \\cdot y \\right)\\right)\\right)$"
      ],
      "text/plain": [
       "$\\forall_{ x , y  \\in \\mathbb{C}} \\left(\\left( x \\cdot \\left(-y\\right) \\right) = \\left(-\\left( x \\cdot y \\right)\\right)\\right)$"
      ]
     },
     "execution_count": 20,
     "metadata": {},
     "output_type": "execute_result"
    }
   ],
   "source": [
    "posTimesNeg"
   ]
  },
  {
   "cell_type": "code",
   "execution_count": 21,
   "metadata": {
    "collapsed": false,
    "deletable": true,
    "editable": true
   },
   "outputs": [
    {
     "data": {
      "text/latex": [
       "$\\left(\\left( \\frac{1}{2^{t}} \\cdot \\left( \\left(2^{t}\\right) \\cdot \\delta \\right) \\right) - \\left( \\frac{1}{2^{t}} \\cdot l \\right)\\right) \\in \\left[\\left(-\\left( \\frac{1}{2^{t}} \\cdot \\left(2^{t - 1}\\right) \\right)\\right),\\left( \\frac{1}{2^{t}} \\cdot \\left(2^{t - 1}\\right) \\right)\\right)$"
      ],
      "text/plain": [
       "$\\left(\\left( \\frac{1}{2^{t}} \\cdot \\left( \\left(2^{t}\\right) \\cdot \\delta \\right) \\right) - \\left( \\frac{1}{2^{t}} \\cdot l \\right)\\right) \\in \\left[\\left(-\\left( \\frac{1}{2^{t}} \\cdot \\left(2^{t - 1}\\right) \\right)\\right),\\left( \\frac{1}{2^{t}} \\cdot \\left(2^{t - 1}\\right) \\right)\\right)$"
      ]
     },
     "execution_count": 21,
     "metadata": {},
     "output_type": "execute_result"
    }
   ],
   "source": [
    "shiftedRescaledInDomain.append(posTimesNeg.specialize({x:Fraction(one, two_pow_t), y:two_pow_tMinusOne}).subRightSideInto(shiftedRescaledInDomain[-1]))\n",
    "shiftedRescaledInDomain[-1].proven({lInDomain})"
   ]
  },
  {
   "cell_type": "code",
   "execution_count": 22,
   "metadata": {
    "collapsed": false,
    "deletable": true,
    "editable": true
   },
   "outputs": [
    {
     "data": {
      "text/latex": [
       "$\\left(\\frac{ \\left(2^{t}\\right) \\cdot \\delta }{2^{t}} - \\left( \\frac{1}{2^{t}} \\cdot l \\right)\\right) \\in \\left[\\left(-\\left( \\frac{1}{2^{t}} \\cdot \\left(2^{t - 1}\\right) \\right)\\right),\\left( \\frac{1}{2^{t}} \\cdot \\left(2^{t - 1}\\right) \\right)\\right)$"
      ],
      "text/plain": [
       "$\\left(\\frac{ \\left(2^{t}\\right) \\cdot \\delta }{2^{t}} - \\left( \\frac{1}{2^{t}} \\cdot l \\right)\\right) \\in \\left[\\left(-\\left( \\frac{1}{2^{t}} \\cdot \\left(2^{t - 1}\\right) \\right)\\right),\\left( \\frac{1}{2^{t}} \\cdot \\left(2^{t - 1}\\right) \\right)\\right)$"
      ]
     },
     "metadata": {},
     "output_type": "display_data"
    },
    {
     "data": {
      "text/latex": [
       "$\\left(\\frac{ \\left(2^{t}\\right) \\cdot \\delta }{2^{t}} - \\frac{l}{2^{t}}\\right) \\in \\left[\\left(-\\left( \\frac{1}{2^{t}} \\cdot \\left(2^{t - 1}\\right) \\right)\\right),\\left( \\frac{1}{2^{t}} \\cdot \\left(2^{t - 1}\\right) \\right)\\right)$"
      ],
      "text/plain": [
       "$\\left(\\frac{ \\left(2^{t}\\right) \\cdot \\delta }{2^{t}} - \\frac{l}{2^{t}}\\right) \\in \\left[\\left(-\\left( \\frac{1}{2^{t}} \\cdot \\left(2^{t - 1}\\right) \\right)\\right),\\left( \\frac{1}{2^{t}} \\cdot \\left(2^{t - 1}\\right) \\right)\\right)$"
      ]
     },
     "metadata": {},
     "output_type": "display_data"
    },
    {
     "data": {
      "text/latex": [
       "$\\left(\\frac{ \\left(2^{t}\\right) \\cdot \\delta }{2^{t}} - \\frac{l}{2^{t}}\\right) \\in \\left[\\left(-\\frac{2^{t - 1}}{2^{t}}\\right),\\frac{2^{t - 1}}{2^{t}}\\right)$"
      ],
      "text/plain": [
       "$\\left(\\frac{ \\left(2^{t}\\right) \\cdot \\delta }{2^{t}} - \\frac{l}{2^{t}}\\right) \\in \\left[\\left(-\\frac{2^{t - 1}}{2^{t}}\\right),\\frac{2^{t - 1}}{2^{t}}\\right)$"
      ]
     },
     "metadata": {},
     "output_type": "display_data"
    }
   ],
   "source": [
    "for k in range(3):\n",
    "    shiftedRescaledInDomain.append(autoSubstitute(shiftedRescaledInDomain[-1], 'distribute', [0], {'assumptions':{lInDomain}}, suppressWarnings=True))\n",
    "    display(shiftedRescaledInDomain[-1].proven({lInDomain}))"
   ]
  },
  {
   "cell_type": "code",
   "execution_count": 23,
   "metadata": {
    "collapsed": false,
    "deletable": true,
    "editable": true
   },
   "outputs": [
    {
     "data": {
      "text/latex": [
       "$\\left(\\delta - \\frac{l}{2^{t}}\\right) \\in \\left[\\left(-\\frac{2^{t - 1}}{2^{t}}\\right),\\frac{2^{t - 1}}{2^{t}}\\right)$"
      ],
      "text/plain": [
       "$\\left(\\delta - \\frac{l}{2^{t}}\\right) \\in \\left[\\left(-\\frac{2^{t - 1}}{2^{t}}\\right),\\frac{2^{t - 1}}{2^{t}}\\right)$"
      ]
     },
     "execution_count": 23,
     "metadata": {},
     "output_type": "execute_result"
    }
   ],
   "source": [
    "shiftedInDomain0 = autoSubstitute(shiftedRescaledInDomain[-1], 'cancel', [two_pow_t], {'assumptions':{lInDomain}}, subExprClass=Fraction)\n",
    "shiftedInDomain0.proven({lInDomain})"
   ]
  },
  {
   "cell_type": "code",
   "execution_count": 24,
   "metadata": {
    "collapsed": false,
    "deletable": true,
    "editable": true
   },
   "outputs": [
    {
     "ename": "ProofFailure",
     "evalue": "Proof failed: ( 2 * (2^(t - 1)) ) = (2^( 1 + (t - 1) )) assuming {}",
     "output_type": "error",
     "traceback": [
      "\u001b[0;31m---------------------------------------------------------------------------\u001b[0m",
      "\u001b[0;31mProofFailure\u001b[0m                              Traceback (most recent call last)",
      "\u001b[0;32m<ipython-input-24-789e49d94a34>\u001b[0m in \u001b[0;36m<module>\u001b[0;34m()\u001b[0m\n\u001b[1;32m      1\u001b[0m \u001b[0mtwoPowersEq0\u001b[0m \u001b[0;34m=\u001b[0m \u001b[0mMultiply\u001b[0m\u001b[0;34m(\u001b[0m\u001b[0mtwo\u001b[0m\u001b[0;34m,\u001b[0m \u001b[0mtwo_pow_tMinusOne\u001b[0m\u001b[0;34m)\u001b[0m\u001b[0;34m.\u001b[0m\u001b[0mcombineExponents\u001b[0m\u001b[0;34m(\u001b[0m\u001b[0;34m)\u001b[0m\u001b[0;34m\u001b[0m\u001b[0m\n\u001b[0;32m----> 2\u001b[0;31m \u001b[0mtwoPowersEq0\u001b[0m\u001b[0;34m.\u001b[0m\u001b[0mproven\u001b[0m\u001b[0;34m(\u001b[0m\u001b[0;34m)\u001b[0m\u001b[0;34m\u001b[0m\u001b[0m\n\u001b[0m",
      "\u001b[0;32m/Users/wwitzel/proveit/proveit/expression.pyc\u001b[0m in \u001b[0;36mproven\u001b[0;34m(self, assumptions)\u001b[0m\n\u001b[1;32m    101\u001b[0m             \u001b[0;32mreturn\u001b[0m \u001b[0;34m\"{\"\u001b[0m \u001b[0;34m+\u001b[0m \u001b[0;34m\", \"\u001b[0m\u001b[0;34m.\u001b[0m\u001b[0mjoin\u001b[0m\u001b[0;34m(\u001b[0m\u001b[0;34m[\u001b[0m\u001b[0mstr\u001b[0m\u001b[0;34m(\u001b[0m\u001b[0massumption\u001b[0m\u001b[0;34m)\u001b[0m \u001b[0;32mfor\u001b[0m \u001b[0massumption\u001b[0m \u001b[0;32min\u001b[0m \u001b[0massumptions\u001b[0m\u001b[0;34m]\u001b[0m\u001b[0;34m)\u001b[0m \u001b[0;34m+\u001b[0m \u001b[0;34m\"}\"\u001b[0m\u001b[0;34m\u001b[0m\u001b[0m\n\u001b[1;32m    102\u001b[0m         \u001b[0;32mif\u001b[0m \u001b[0mself\u001b[0m\u001b[0;34m.\u001b[0m\u001b[0misProven\u001b[0m\u001b[0;34m(\u001b[0m\u001b[0massumptions\u001b[0m\u001b[0;34m)\u001b[0m\u001b[0;34m==\u001b[0m\u001b[0mFalse\u001b[0m\u001b[0;34m:\u001b[0m\u001b[0;34m\u001b[0m\u001b[0m\n\u001b[0;32m--> 103\u001b[0;31m             \u001b[0;32mraise\u001b[0m \u001b[0mProofFailure\u001b[0m\u001b[0;34m(\u001b[0m\u001b[0;34m\"Proof failed: \"\u001b[0m \u001b[0;34m+\u001b[0m \u001b[0mstr\u001b[0m\u001b[0;34m(\u001b[0m\u001b[0mself\u001b[0m\u001b[0;34m)\u001b[0m \u001b[0;34m+\u001b[0m \u001b[0;34m\" assuming \"\u001b[0m \u001b[0;34m+\u001b[0m \u001b[0mmakeAssumptionsStr\u001b[0m\u001b[0;34m(\u001b[0m\u001b[0massumptions\u001b[0m\u001b[0;34m)\u001b[0m\u001b[0;34m)\u001b[0m\u001b[0;34m\u001b[0m\u001b[0m\n\u001b[0m\u001b[1;32m    104\u001b[0m         \u001b[0;32mreturn\u001b[0m \u001b[0mself\u001b[0m\u001b[0;34m\u001b[0m\u001b[0m\n\u001b[1;32m    105\u001b[0m \u001b[0;34m\u001b[0m\u001b[0m\n",
      "\u001b[0;31mProofFailure\u001b[0m: Proof failed: ( 2 * (2^(t - 1)) ) = (2^( 1 + (t - 1) )) assuming {}"
     ]
    }
   ],
   "source": [
    "twoPowersEq0 = Multiply(two, two_pow_tMinusOne).combineExponents()\n",
    "twoPowersEq0.proven()"
   ]
  },
  {
   "cell_type": "code",
   "execution_count": 25,
   "metadata": {
    "collapsed": false,
    "deletable": true,
    "editable": true
   },
   "outputs": [
    {
     "ename": "ProofFailure",
     "evalue": "Proof failed: ( 2 * (2^(t - 1)) ) = (2^( (t - 1) + 1 )) assuming {}",
     "output_type": "error",
     "traceback": [
      "\u001b[0;31m---------------------------------------------------------------------------\u001b[0m",
      "\u001b[0;31mProofFailure\u001b[0m                              Traceback (most recent call last)",
      "\u001b[0;32m<ipython-input-25-cc786536c817>\u001b[0m in \u001b[0;36m<module>\u001b[0;34m()\u001b[0m\n\u001b[1;32m      1\u001b[0m \u001b[0mtwoPowersEq1\u001b[0m \u001b[0;34m=\u001b[0m \u001b[0mtwoPowersEq0\u001b[0m\u001b[0;34m.\u001b[0m\u001b[0mrhs\u001b[0m\u001b[0;34m.\u001b[0m\u001b[0mexponent\u001b[0m\u001b[0;34m.\u001b[0m\u001b[0mcommute\u001b[0m\u001b[0;34m(\u001b[0m\u001b[0;34m)\u001b[0m\u001b[0;34m.\u001b[0m\u001b[0msubRightSideInto\u001b[0m\u001b[0;34m(\u001b[0m\u001b[0mtwoPowersEq0\u001b[0m\u001b[0;34m)\u001b[0m\u001b[0;34m\u001b[0m\u001b[0m\n\u001b[0;32m----> 2\u001b[0;31m \u001b[0mtwoPowersEq1\u001b[0m\u001b[0;34m.\u001b[0m\u001b[0mproven\u001b[0m\u001b[0;34m(\u001b[0m\u001b[0;34m)\u001b[0m\u001b[0;34m\u001b[0m\u001b[0m\n\u001b[0m",
      "\u001b[0;32m/Users/wwitzel/proveit/proveit/expression.pyc\u001b[0m in \u001b[0;36mproven\u001b[0;34m(self, assumptions)\u001b[0m\n\u001b[1;32m    101\u001b[0m             \u001b[0;32mreturn\u001b[0m \u001b[0;34m\"{\"\u001b[0m \u001b[0;34m+\u001b[0m \u001b[0;34m\", \"\u001b[0m\u001b[0;34m.\u001b[0m\u001b[0mjoin\u001b[0m\u001b[0;34m(\u001b[0m\u001b[0;34m[\u001b[0m\u001b[0mstr\u001b[0m\u001b[0;34m(\u001b[0m\u001b[0massumption\u001b[0m\u001b[0;34m)\u001b[0m \u001b[0;32mfor\u001b[0m \u001b[0massumption\u001b[0m \u001b[0;32min\u001b[0m \u001b[0massumptions\u001b[0m\u001b[0;34m]\u001b[0m\u001b[0;34m)\u001b[0m \u001b[0;34m+\u001b[0m \u001b[0;34m\"}\"\u001b[0m\u001b[0;34m\u001b[0m\u001b[0m\n\u001b[1;32m    102\u001b[0m         \u001b[0;32mif\u001b[0m \u001b[0mself\u001b[0m\u001b[0;34m.\u001b[0m\u001b[0misProven\u001b[0m\u001b[0;34m(\u001b[0m\u001b[0massumptions\u001b[0m\u001b[0;34m)\u001b[0m\u001b[0;34m==\u001b[0m\u001b[0mFalse\u001b[0m\u001b[0;34m:\u001b[0m\u001b[0;34m\u001b[0m\u001b[0m\n\u001b[0;32m--> 103\u001b[0;31m             \u001b[0;32mraise\u001b[0m \u001b[0mProofFailure\u001b[0m\u001b[0;34m(\u001b[0m\u001b[0;34m\"Proof failed: \"\u001b[0m \u001b[0;34m+\u001b[0m \u001b[0mstr\u001b[0m\u001b[0;34m(\u001b[0m\u001b[0mself\u001b[0m\u001b[0;34m)\u001b[0m \u001b[0;34m+\u001b[0m \u001b[0;34m\" assuming \"\u001b[0m \u001b[0;34m+\u001b[0m \u001b[0mmakeAssumptionsStr\u001b[0m\u001b[0;34m(\u001b[0m\u001b[0massumptions\u001b[0m\u001b[0;34m)\u001b[0m\u001b[0;34m)\u001b[0m\u001b[0;34m\u001b[0m\u001b[0m\n\u001b[0m\u001b[1;32m    104\u001b[0m         \u001b[0;32mreturn\u001b[0m \u001b[0mself\u001b[0m\u001b[0;34m\u001b[0m\u001b[0m\n\u001b[1;32m    105\u001b[0m \u001b[0;34m\u001b[0m\u001b[0m\n",
      "\u001b[0;31mProofFailure\u001b[0m: Proof failed: ( 2 * (2^(t - 1)) ) = (2^( (t - 1) + 1 )) assuming {}"
     ]
    }
   ],
   "source": [
    "twoPowersEq1 = twoPowersEq0.rhs.exponent.commute().subRightSideInto(twoPowersEq0)\n",
    "twoPowersEq1.proven()"
   ]
  },
  {
   "cell_type": "code",
   "execution_count": 26,
   "metadata": {
    "collapsed": false,
    "deletable": true,
    "editable": true
   },
   "outputs": [
    {
     "ename": "ProofFailure",
     "evalue": "Proof failed: (2^(t)) = ( 2 * (2^(t - 1)) ) assuming {}",
     "output_type": "error",
     "traceback": [
      "\u001b[0;31m---------------------------------------------------------------------------\u001b[0m",
      "\u001b[0;31mProofFailure\u001b[0m                              Traceback (most recent call last)",
      "\u001b[0;32m<ipython-input-26-677cc32dd82c>\u001b[0m in \u001b[0;36m<module>\u001b[0;34m()\u001b[0m\n\u001b[1;32m      1\u001b[0m \u001b[0mdeduceInComplexes\u001b[0m\u001b[0;34m(\u001b[0m\u001b[0mt_\u001b[0m\u001b[0;34m)\u001b[0m\u001b[0;34m\u001b[0m\u001b[0m\n\u001b[1;32m      2\u001b[0m \u001b[0mtwoPowersEqn\u001b[0m \u001b[0;34m=\u001b[0m \u001b[0mcancelSubThenAdd\u001b[0m\u001b[0;34m.\u001b[0m\u001b[0mspecialize\u001b[0m\u001b[0;34m(\u001b[0m\u001b[0;34m{\u001b[0m\u001b[0ma\u001b[0m\u001b[0;34m:\u001b[0m\u001b[0mt_\u001b[0m\u001b[0;34m,\u001b[0m \u001b[0mb\u001b[0m\u001b[0;34m:\u001b[0m\u001b[0mone\u001b[0m\u001b[0;34m}\u001b[0m\u001b[0;34m)\u001b[0m\u001b[0;34m.\u001b[0m\u001b[0msubRightSideInto\u001b[0m\u001b[0;34m(\u001b[0m\u001b[0mtwoPowersEq1\u001b[0m\u001b[0;34m)\u001b[0m\u001b[0;34m.\u001b[0m\u001b[0mderiveReversed\u001b[0m\u001b[0;34m(\u001b[0m\u001b[0;34m)\u001b[0m\u001b[0;34m\u001b[0m\u001b[0m\n\u001b[0;32m----> 3\u001b[0;31m \u001b[0mtwoPowersEqn\u001b[0m\u001b[0;34m.\u001b[0m\u001b[0mproven\u001b[0m\u001b[0;34m(\u001b[0m\u001b[0;34m)\u001b[0m\u001b[0;34m\u001b[0m\u001b[0m\n\u001b[0m",
      "\u001b[0;32m/Users/wwitzel/proveit/proveit/expression.pyc\u001b[0m in \u001b[0;36mproven\u001b[0;34m(self, assumptions)\u001b[0m\n\u001b[1;32m    101\u001b[0m             \u001b[0;32mreturn\u001b[0m \u001b[0;34m\"{\"\u001b[0m \u001b[0;34m+\u001b[0m \u001b[0;34m\", \"\u001b[0m\u001b[0;34m.\u001b[0m\u001b[0mjoin\u001b[0m\u001b[0;34m(\u001b[0m\u001b[0;34m[\u001b[0m\u001b[0mstr\u001b[0m\u001b[0;34m(\u001b[0m\u001b[0massumption\u001b[0m\u001b[0;34m)\u001b[0m \u001b[0;32mfor\u001b[0m \u001b[0massumption\u001b[0m \u001b[0;32min\u001b[0m \u001b[0massumptions\u001b[0m\u001b[0;34m]\u001b[0m\u001b[0;34m)\u001b[0m \u001b[0;34m+\u001b[0m \u001b[0;34m\"}\"\u001b[0m\u001b[0;34m\u001b[0m\u001b[0m\n\u001b[1;32m    102\u001b[0m         \u001b[0;32mif\u001b[0m \u001b[0mself\u001b[0m\u001b[0;34m.\u001b[0m\u001b[0misProven\u001b[0m\u001b[0;34m(\u001b[0m\u001b[0massumptions\u001b[0m\u001b[0;34m)\u001b[0m\u001b[0;34m==\u001b[0m\u001b[0mFalse\u001b[0m\u001b[0;34m:\u001b[0m\u001b[0;34m\u001b[0m\u001b[0m\n\u001b[0;32m--> 103\u001b[0;31m             \u001b[0;32mraise\u001b[0m \u001b[0mProofFailure\u001b[0m\u001b[0;34m(\u001b[0m\u001b[0;34m\"Proof failed: \"\u001b[0m \u001b[0;34m+\u001b[0m \u001b[0mstr\u001b[0m\u001b[0;34m(\u001b[0m\u001b[0mself\u001b[0m\u001b[0;34m)\u001b[0m \u001b[0;34m+\u001b[0m \u001b[0;34m\" assuming \"\u001b[0m \u001b[0;34m+\u001b[0m \u001b[0mmakeAssumptionsStr\u001b[0m\u001b[0;34m(\u001b[0m\u001b[0massumptions\u001b[0m\u001b[0;34m)\u001b[0m\u001b[0;34m)\u001b[0m\u001b[0;34m\u001b[0m\u001b[0m\n\u001b[0m\u001b[1;32m    104\u001b[0m         \u001b[0;32mreturn\u001b[0m \u001b[0mself\u001b[0m\u001b[0;34m\u001b[0m\u001b[0m\n\u001b[1;32m    105\u001b[0m \u001b[0;34m\u001b[0m\u001b[0m\n",
      "\u001b[0;31mProofFailure\u001b[0m: Proof failed: (2^(t)) = ( 2 * (2^(t - 1)) ) assuming {}"
     ]
    }
   ],
   "source": [
    "deduceInComplexes(t_)\n",
    "twoPowersEqn = cancelSubThenAdd.specialize({a:t_, b:one}).subRightSideInto(twoPowersEq1).deriveReversed()\n",
    "twoPowersEqn.proven()"
   ]
  },
  {
   "cell_type": "code",
   "execution_count": 27,
   "metadata": {
    "collapsed": false,
    "deletable": true,
    "editable": true
   },
   "outputs": [
    {
     "data": {
      "text/latex": [
       "$\\left[\\left(-\\frac{2^{t - 1}}{2^{t}}\\right),\\frac{2^{t - 1}}{2^{t}}\\right) = \\left[\\left(-\\frac{2^{t - 1}}{ 2 \\cdot \\left(2^{t - 1}\\right) }\\right),\\frac{2^{t - 1}}{ 2 \\cdot \\left(2^{t - 1}\\right) }\\right)$"
      ],
      "text/plain": [
       "$\\left[\\left(-\\frac{2^{t - 1}}{2^{t}}\\right),\\frac{2^{t - 1}}{2^{t}}\\right) = \\left[\\left(-\\frac{2^{t - 1}}{ 2 \\cdot \\left(2^{t - 1}\\right) }\\right),\\frac{2^{t - 1}}{ 2 \\cdot \\left(2^{t - 1}\\right) }\\right)$"
      ]
     },
     "execution_count": 27,
     "metadata": {},
     "output_type": "execute_result"
    }
   ],
   "source": [
    "domainEq0 = twoPowersEqn.substitution(shiftedRescaledInDomain[-1].domain)\n",
    "domainEq0"
   ]
  },
  {
   "cell_type": "code",
   "execution_count": 28,
   "metadata": {
    "collapsed": false,
    "deletable": true,
    "editable": true
   },
   "outputs": [
    {
     "data": {
      "text/latex": [
       "$\\left[\\left(-\\frac{2^{t - 1}}{2^{t}}\\right),\\frac{2^{t - 1}}{2^{t}}\\right) = \\left[\\left(-\\frac{1}{2}\\right),\\frac{1}{2}\\right)$"
      ],
      "text/plain": [
       "[(-2^(t - 1) / 2^(t)),2^(t - 1) / 2^(t)) = [(-1 / 2),1 / 2)"
      ]
     },
     "execution_count": 28,
     "metadata": {},
     "output_type": "execute_result"
    }
   ],
   "source": [
    "domainEq1 = autoSubstitute(domainEq0, 'cancel', [two_pow_tMinusOne], superExpr=domainEq0.rhs)\n",
    "domainEq1"
   ]
  },
  {
   "cell_type": "code",
   "execution_count": 29,
   "metadata": {
    "collapsed": false,
    "deletable": true,
    "editable": true
   },
   "outputs": [
    {
     "data": {
      "text/latex": [
       "$\\left(\\delta - \\frac{l}{2^{t}}\\right) \\in \\left[\\left(-\\frac{1}{2}\\right),\\frac{1}{2}\\right)$"
      ],
      "text/plain": [
       "(delta - l / 2^(t)) in [(-1 / 2),1 / 2)"
      ]
     },
     "execution_count": 29,
     "metadata": {},
     "output_type": "execute_result"
    }
   ],
   "source": [
    "shiftedInDomain = domainEq1.subRightSideInto(shiftedInDomain0)\n",
    "shiftedInDomain.proven({lInDomain})"
   ]
  },
  {
   "cell_type": "code",
   "execution_count": 31,
   "metadata": {
    "collapsed": false,
    "deletable": true,
    "editable": true
   },
   "outputs": [
    {
     "name": "stdout",
     "output_type": "stream",
     "text": [
      "root forall_{l in \\{((-2^(t - 1)) + 1)...2^(t - 1)\\}} ((delta - l / 2^(t)) in [(-1 / 2),1 / 2)) \n",
      "  generalizing (delta - l / 2^(t)) in [(-1 / 2),1 / 2)  assuming l in \\{((-2^(t - 1)) + 1)...2^(t - 1)\\} \n",
      "    implication ((delta - l / 2^(t)) in [(-2^(t - 1) / 2^(t)),2^(t - 1) / 2^(t))) => ((delta - l / 2^(t)) in [(-1 / 2),1 / 2)) \n",
      "      implication ([(-2^(t - 1) / 2^(t)),2^(t - 1) / 2^(t)) = [(-1 / 2),1 / 2)) => (((delta - l / 2^(t)) in [(-2^(t - 1) / 2^(t)),2^(t - 1) / 2^(t))) => ((delta - l / 2^(t)) in [(-1 / 2),1 / 2))) \n",
      "        specializing forall_{P, x, y} ((x = y) => (P(x) => P(y))) \n",
      "          by theorem proveit.basiclogic.equality.rhsSubstitution\n",
      "      hypothesis [(-2^(t - 1) / 2^(t)),2^(t - 1) / 2^(t)) = [(-1 / 2),1 / 2) \n",
      "        implication ([(-2^(t - 1) / 2^(t)),2^(t - 1) / 2^(t)) = [(-2^(t - 1) / (2 * 2^(t - 1))),2^(t - 1) / (2 * 2^(t - 1)))) => ([(-2^(t - 1) / 2^(t)),2^(t - 1) / 2^(t)) = [(-1 / 2),1 / 2)) \n",
      "          implication (2^(t - 1) / (2 * 2^(t - 1)) = 1 / 2) => (([(-2^(t - 1) / 2^(t)),2^(t - 1) / 2^(t)) = [(-2^(t - 1) / (2 * 2^(t - 1))),2^(t - 1) / (2 * 2^(t - 1)))) => ([(-2^(t - 1) / 2^(t)),2^(t - 1) / 2^(t)) = [(-1 / 2),1 / 2))) \n",
      "            specializing forall_{P, x, y} ((x = y) => (P(x) => P(y)))  proven above\n",
      "          hypothesis 2^(t - 1) / (2 * 2^(t - 1)) = 1 / 2 \n",
      "            implication (2^(t - 1) / (2^(t - 1) * 2) = 1 / 2) => (2^(t - 1) / (2 * 2^(t - 1)) = 1 / 2) \n",
      "              implication (2^(t - 1) / (2 * 2^(t - 1)) = 2^(t - 1) / (2^(t - 1) * 2)) => ((2^(t - 1) / (2^(t - 1) * 2) = 1 / 2) => (2^(t - 1) / (2 * 2^(t - 1)) = 1 / 2)) \n",
      "                specializing forall_{x, y, z} ((x = y) => ((y = z) => (x = z))) \n",
      "                  by axiom proveit.basiclogic.equality.equalsTransitivity\n",
      "              hypothesis 2^(t - 1) / (2 * 2^(t - 1)) = 2^(t - 1) / (2^(t - 1) * 2) \n",
      "                implication ((2 * 2^(t - 1)) = (2^(t - 1) * 2)) => (2^(t - 1) / (2 * 2^(t - 1)) = 2^(t - 1) / (2^(t - 1) * 2)) \n",
      "                  specializing forall_{f, x, y} ((x = y) => (f(x) = f(y))) \n",
      "                    by axiom proveit.basiclogic.equality.substitution\n",
      "                hypothesis (2 * 2^(t - 1)) = (2^(t - 1) * 2) \n",
      "                  specializing forall_{..v.., ..w.., ..x.., ..y.., ..z.. in Complexes} (( .. * v * ... * w * ... * x * ... * y * ... * z * .. ) = ( .. * v * ... * y * ... * x * ... * w * ... * z * .. )) \n",
      "                    by theorem proveit.number.complex.multComm\n",
      "                  condition 2 in Complexes \n",
      "                    specializing forall_{a in NaturalsPos} (a in Complexes) \n",
      "                      by theorem proveit.number.natural.inNatPos_inComplexes\n",
      "                    condition 2 in NaturalsPos \n",
      "                      by theorem proveit.number.natural.twoInNaturalsPos\n",
      "                  condition 2^(t - 1) in Complexes \n",
      "                    specializing forall_{a in NaturalsPos} (a in Complexes)  proven above\n",
      "                    condition 2^(t - 1) in NaturalsPos \n",
      "                      by theorem proveit.physics.quantum.QPE.two_pow_tMinusOne_in_posnats\n",
      "            hypothesis 2^(t - 1) / (2^(t - 1) * 2) = 1 / 2 \n",
      "              specializing forall_{x, y in Complexes | x != 0} (x / (x * y) = 1 / y) \n",
      "                by theorem proveit.number.complex.fracCancel3\n",
      "              condition 2^(t - 1) in Complexes  proven above\n",
      "              condition 2^(t - 1) != 0 \n",
      "                specializing forall_{a in Reals | a > 0} (a != 0) \n",
      "                  by theorem proveit.number.real.positive_implies_notzero\n",
      "                condition 2^(t - 1) > 0 \n",
      "                  implication (2^(t - 1) in RealsPos) => (2^(t - 1) > 0) \n",
      "                    implication ((2^(t - 1) in RealsPos) <=> (2^(t - 1) > 0)) => ((2^(t - 1) in RealsPos) => (2^(t - 1) > 0)) \n",
      "                      specializing forall_{A, B} ((A <=> B) => (A => B)) \n",
      "                        by theorem proveit.basiclogic.boolean.iffImpliesRight\n",
      "                    hypothesis (2^(t - 1) in RealsPos) <=> (2^(t - 1) > 0) \n",
      "                      specializing forall_{a in Reals} ((a in RealsPos) <=> (a > 0)) \n",
      "                        by theorem proveit.number.real.inRealsPos_iff_positive\n",
      "                      condition 2^(t - 1) in Reals \n",
      "                        specializing forall_{a in NaturalsPos} (a in Reals) \n",
      "                          by theorem proveit.number.natural.inNatPos_inReals\n",
      "                        condition 2^(t - 1) in NaturalsPos  proven above\n",
      "                  hypothesis 2^(t - 1) in RealsPos \n",
      "                    specializing forall_{a in NaturalsPos} (a in RealsPos) \n",
      "                      by theorem proveit.number.natural.inNatPos_inRealsPos\n",
      "                    condition 2^(t - 1) in NaturalsPos  proven above\n",
      "                condition 2^(t - 1) in Reals  proven above\n",
      "              condition 2 in Complexes  proven above\n",
      "        hypothesis [(-2^(t - 1) / 2^(t)),2^(t - 1) / 2^(t)) = [(-2^(t - 1) / (2 * 2^(t - 1))),2^(t - 1) / (2 * 2^(t - 1))) \n",
      "          implication (2^(t) = (2 * 2^(t - 1))) => ([(-2^(t - 1) / 2^(t)),2^(t - 1) / 2^(t)) = [(-2^(t - 1) / (2 * 2^(t - 1))),2^(t - 1) / (2 * 2^(t - 1)))) \n",
      "            specializing forall_{f, x, y} ((x = y) => (f(x) = f(y)))  proven above\n",
      "          hypothesis 2^(t) = (2 * 2^(t - 1)) \n",
      "            implication ((2 * 2^(t - 1)) = 2^(t)) => (2^(t) = (2 * 2^(t - 1))) \n",
      "              specializing forall_{x, y} ((x = y) => (y = x)) \n",
      "                by axiom proveit.basiclogic.equality.equalsSymmetry\n",
      "            hypothesis (2 * 2^(t - 1)) = 2^(t) \n",
      "              implication ((2 * 2^(t - 1)) = 2^((t - 1) + 1)) => ((2 * 2^(t - 1)) = 2^(t)) \n",
      "                implication (((t - 1) + 1) = t) => (((2 * 2^(t - 1)) = 2^((t - 1) + 1)) => ((2 * 2^(t - 1)) = 2^(t))) \n",
      "                  specializing forall_{P, x, y} ((x = y) => (P(x) => P(y)))  proven above\n",
      "                hypothesis ((t - 1) + 1) = t \n",
      "                  specializing forall_{a, b in Complexes} (((a - b) + b) = a) \n",
      "                    by theorem proveit.number.complex.cancelSubThenAdd\n",
      "                  condition t in Complexes \n",
      "                    specializing forall_{a in NaturalsPos} (a in Complexes)  proven above\n",
      "                    condition t in NaturalsPos \n",
      "                      by axiom proveit.physics.quantum.QPE.tInNaturalsPos\n",
      "                  condition 1 in Complexes \n",
      "                    specializing forall_{a in NaturalsPos} (a in Complexes)  proven above\n",
      "                    condition 1 in NaturalsPos \n",
      "                      by theorem proveit.number.natural.oneInNaturalsPos\n",
      "              hypothesis (2 * 2^(t - 1)) = 2^((t - 1) + 1) \n",
      "                implication ((2 * 2^(t - 1)) = 2^(1 + (t - 1))) => ((2 * 2^(t - 1)) = 2^((t - 1) + 1)) \n",
      "                  implication ((1 + (t - 1)) = ((t - 1) + 1)) => (((2 * 2^(t - 1)) = 2^(1 + (t - 1))) => ((2 * 2^(t - 1)) = 2^((t - 1) + 1))) \n",
      "                    specializing forall_{P, x, y} ((x = y) => (P(x) => P(y)))  proven above\n",
      "                  hypothesis (1 + (t - 1)) = ((t - 1) + 1) \n",
      "                    specializing forall_{..v.., ..w.., ..x.., ..y.., ..z.. in Complexes} (( .. + v + ... + w + ... + x + ... + y + ... + z + .. ) = ( .. + v + ... + y + ... + x + ... + w + ... + z + .. )) \n",
      "                      by theorem proveit.number.complex.addComm\n",
      "                    condition (t - 1) in Complexes \n",
      "                      specializing forall_{a in Naturals} (a in Complexes) \n",
      "                        by theorem proveit.number.natural.inComplexes\n",
      "                      condition (t - 1) in Naturals \n",
      "                        specializing forall_{a, b in Integers | a >= b} ((a - b) in Naturals) \n",
      "                          by theorem proveit.number.integer.subtractClosureNats\n",
      "                        condition 1 in Integers \n",
      "                          specializing forall_{a in NaturalsPos} (a in Integers) \n",
      "                            by theorem proveit.number.natural.inNatPos_inIntegers\n",
      "                          condition 1 in NaturalsPos  proven above\n",
      "                        condition t >= 1 \n",
      "                          specializing forall_{n in NaturalsPos} (n >= 1) \n",
      "                            by theorem proveit.number.natural.naturalsPosLowerBound\n",
      "                          condition t in NaturalsPos  proven above\n",
      "                        condition t in Integers \n",
      "                          specializing forall_{a in NaturalsPos} (a in Integers)  proven above\n",
      "                          condition t in NaturalsPos  proven above\n",
      "                    condition 1 in Complexes  proven above\n",
      "                hypothesis (2 * 2^(t - 1)) = 2^(1 + (t - 1)) \n",
      "                  specializing forall_{a, b in Complexes} ((a * a^(b)) = a^(1 + b)) \n",
      "                    by theorem proveit.number.complex.addOneLeftInPowRev\n",
      "                  condition 2 in Complexes  proven above\n",
      "                  condition (t - 1) in Complexes  proven above\n",
      "    hypothesis (delta - l / 2^(t)) in [(-2^(t - 1) / 2^(t)),2^(t - 1) / 2^(t))  assuming l in \\{((-2^(t - 1)) + 1)...2^(t - 1)\\} \n",
      "      implication (((2^(t) * delta) / 2^(t) - l / 2^(t)) in [(-2^(t - 1) / 2^(t)),2^(t - 1) / 2^(t))) => ((delta - l / 2^(t)) in [(-2^(t - 1) / 2^(t)),2^(t - 1) / 2^(t))) \n",
      "        implication ((2^(t) * delta) / 2^(t) = delta) => ((((2^(t) * delta) / 2^(t) - l / 2^(t)) in [(-2^(t - 1) / 2^(t)),2^(t - 1) / 2^(t))) => ((delta - l / 2^(t)) in [(-2^(t - 1) / 2^(t)),2^(t - 1) / 2^(t)))) \n",
      "          specializing forall_{P, x, y} ((x = y) => (P(x) => P(y)))  proven above\n",
      "        hypothesis (2^(t) * delta) / 2^(t) = delta \n",
      "          specializing forall_{x, y in Complexes | x != 0} ((x * y) / x = y) \n",
      "            by theorem proveit.number.complex.fracCancel2\n",
      "          condition 2^(t) in Complexes \n",
      "            specializing forall_{a in NaturalsPos} (a in Complexes)  proven above\n",
      "            condition 2^(t) in NaturalsPos \n",
      "              by theorem proveit.physics.quantum.QPE.two_pow_t_in_posnats\n",
      "          condition delta in Complexes \n",
      "            specializing forall_{a in Reals} (a in Complexes) \n",
      "              by theorem proveit.number.real.inComplexes\n",
      "            condition delta in Reals \n",
      "              by theorem proveit.physics.quantum.QPE.deltaInReals\n",
      "          condition 2^(t) != 0 \n",
      "            specializing forall_{a in Reals | a > 0} (a != 0)  proven above\n",
      "            condition 2^(t) in Reals \n",
      "              specializing forall_{a in NaturalsPos} (a in Reals)  proven above\n",
      "              condition 2^(t) in NaturalsPos  proven above\n",
      "            condition 2^(t) > 0 \n",
      "              implication (2^(t) in RealsPos) => (2^(t) > 0) \n",
      "                implication ((2^(t) in RealsPos) <=> (2^(t) > 0)) => ((2^(t) in RealsPos) => (2^(t) > 0)) \n",
      "                  specializing forall_{A, B} ((A <=> B) => (A => B))  proven above\n",
      "                hypothesis (2^(t) in RealsPos) <=> (2^(t) > 0) \n",
      "                  specializing forall_{a in Reals} ((a in RealsPos) <=> (a > 0))  proven above\n",
      "                  condition 2^(t) in Reals  proven above\n",
      "              hypothesis 2^(t) in RealsPos \n",
      "                specializing forall_{a in NaturalsPos} (a in RealsPos)  proven above\n",
      "                condition 2^(t) in NaturalsPos  proven above\n",
      "      hypothesis ((2^(t) * delta) / 2^(t) - l / 2^(t)) in [(-2^(t - 1) / 2^(t)),2^(t - 1) / 2^(t))  assuming l in \\{((-2^(t - 1)) + 1)...2^(t - 1)\\} \n",
      "        implication (((2^(t) * delta) / 2^(t) - l / 2^(t)) in [(-(1 / 2^(t) * 2^(t - 1))),(1 / 2^(t) * 2^(t - 1)))) => (((2^(t) * delta) / 2^(t) - l / 2^(t)) in [(-2^(t - 1) / 2^(t)),2^(t - 1) / 2^(t))) \n",
      "          implication ((1 / 2^(t) * 2^(t - 1)) = 2^(t - 1) / 2^(t)) => ((((2^(t) * delta) / 2^(t) - l / 2^(t)) in [(-(1 / 2^(t) * 2^(t - 1))),(1 / 2^(t) * 2^(t - 1)))) => (((2^(t) * delta) / 2^(t) - l / 2^(t)) in [(-2^(t - 1) / 2^(t)),2^(t - 1) / 2^(t)))) \n",
      "            specializing forall_{P, x, y} ((x = y) => (P(x) => P(y)))  proven above\n",
      "          hypothesis (1 / 2^(t) * 2^(t - 1)) = 2^(t - 1) / 2^(t) \n",
      "            implication ((1 / 2^(t) * 2^(t - 1)) = (1 * 2^(t - 1)) / 2^(t)) => ((1 / 2^(t) * 2^(t - 1)) = 2^(t - 1) / 2^(t)) \n",
      "              implication ((1 * 2^(t - 1)) = 2^(t - 1)) => (((1 / 2^(t) * 2^(t - 1)) = (1 * 2^(t - 1)) / 2^(t)) => ((1 / 2^(t) * 2^(t - 1)) = 2^(t - 1) / 2^(t))) \n",
      "                specializing forall_{P, x, y} ((x = y) => (P(x) => P(y)))  proven above\n",
      "              hypothesis (1 * 2^(t - 1)) = 2^(t - 1) \n",
      "                specializing forall_{x in Complexes} ((1 * x) = x) \n",
      "                  by theorem proveit.number.complex.prodOne\n",
      "                condition 2^(t - 1) in Complexes  proven above\n",
      "            hypothesis (1 / 2^(t) * 2^(t - 1)) = (1 * 2^(t - 1)) / 2^(t) \n",
      "              specializing forall_{..w.., x, y, ..z.. in Complexes} (( .. * w * ..  * x / y *  .. * z * .. ) = ( .. * w * ..  * x *  .. * z * .. ) / y) \n",
      "                by theorem proveit.number.complex.fracInProd\n",
      "              condition 2^(t) in Complexes  proven above\n",
      "              condition 2^(t - 1) in Complexes  proven above\n",
      "              condition 1 in Complexes  proven above\n",
      "        hypothesis ((2^(t) * delta) / 2^(t) - l / 2^(t)) in [(-(1 / 2^(t) * 2^(t - 1))),(1 / 2^(t) * 2^(t - 1)))  assuming l in \\{((-2^(t - 1)) + 1)...2^(t - 1)\\} \n",
      "          implication (((2^(t) * delta) / 2^(t) - (1 / 2^(t) * l)) in [(-(1 / 2^(t) * 2^(t - 1))),(1 / 2^(t) * 2^(t - 1)))) => (((2^(t) * delta) / 2^(t) - l / 2^(t)) in [(-(1 / 2^(t) * 2^(t - 1))),(1 / 2^(t) * 2^(t - 1))))  assuming l in \\{((-2^(t - 1)) + 1)...2^(t - 1)\\} \n",
      "            implication ((1 / 2^(t) * l) = l / 2^(t)) => ((((2^(t) * delta) / 2^(t) - (1 / 2^(t) * l)) in [(-(1 / 2^(t) * 2^(t - 1))),(1 / 2^(t) * 2^(t - 1)))) => (((2^(t) * delta) / 2^(t) - l / 2^(t)) in [(-(1 / 2^(t) * 2^(t - 1))),(1 / 2^(t) * 2^(t - 1))))) \n",
      "              specializing forall_{P, x, y} ((x = y) => (P(x) => P(y)))  proven above\n",
      "            hypothesis (1 / 2^(t) * l) = l / 2^(t)  assuming l in \\{((-2^(t - 1)) + 1)...2^(t - 1)\\} \n",
      "              implication ((1 / 2^(t) * l) = (1 * l) / 2^(t)) => ((1 / 2^(t) * l) = l / 2^(t))  assuming l in \\{((-2^(t - 1)) + 1)...2^(t - 1)\\} \n",
      "                implication ((1 * l) = l) => (((1 / 2^(t) * l) = (1 * l) / 2^(t)) => ((1 / 2^(t) * l) = l / 2^(t))) \n",
      "                  specializing forall_{P, x, y} ((x = y) => (P(x) => P(y)))  proven above\n",
      "                hypothesis (1 * l) = l  assuming l in \\{((-2^(t - 1)) + 1)...2^(t - 1)\\} \n",
      "                  specializing forall_{x in Complexes} ((1 * x) = x)  proven above\n",
      "                  condition l in Complexes  assuming l in \\{((-2^(t - 1)) + 1)...2^(t - 1)\\} \n",
      "                    specializing forall_{a in Integers} (a in Complexes) \n",
      "                      by theorem proveit.number.integer.inComplexes\n",
      "                    condition l in Integers  assuming l in \\{((-2^(t - 1)) + 1)...2^(t - 1)\\} \n",
      "                      specializing forall_{n in \\{((-2^(t - 1)) + 1)...2^(t - 1)\\}} (n in Integers) \n",
      "                        specializing forall_{a, b in Integers} [forall_{n in \\{a...b\\}} (n in Integers)] \n",
      "                          by theorem proveit.number.integer.allInDiscreteInterval_InInts\n",
      "                        condition 2^(t - 1) in Integers \n",
      "                          specializing forall_{a in NaturalsPos} (a in Integers)  proven above\n",
      "                          condition 2^(t - 1) in NaturalsPos  proven above\n",
      "                        condition ((-2^(t - 1)) + 1) in Integers \n",
      "                          specializing forall_{..x.. in Integers} (( .. + x + .. ) in Integers) \n",
      "                            by theorem proveit.number.integer.addClosure\n",
      "                          condition (-2^(t - 1)) in Integers \n",
      "                            specializing forall_{a in Integers} ((-a) in Integers) \n",
      "                              by theorem proveit.number.integer.negClosure\n",
      "                            condition 2^(t - 1) in Integers  proven above\n",
      "                          condition 1 in Integers  proven above\n",
      "                      condition l in \\{((-2^(t - 1)) + 1)...2^(t - 1)\\}  assuming l in \\{((-2^(t - 1)) + 1)...2^(t - 1)\\} \n",
      "              hypothesis (1 / 2^(t) * l) = (1 * l) / 2^(t)  assuming l in \\{((-2^(t - 1)) + 1)...2^(t - 1)\\} \n",
      "                specializing forall_{..w.., x, y, ..z.. in Complexes} (( .. * w * ..  * x / y *  .. * z * .. ) = ( .. * w * ..  * x *  .. * z * .. ) / y)  proven above\n",
      "                condition 2^(t) in Complexes  proven above\n",
      "                condition l in Complexes  assuming l in \\{((-2^(t - 1)) + 1)...2^(t - 1)\\}  proven above\n",
      "                condition 1 in Complexes  proven above\n",
      "          hypothesis ((2^(t) * delta) / 2^(t) - (1 / 2^(t) * l)) in [(-(1 / 2^(t) * 2^(t - 1))),(1 / 2^(t) * 2^(t - 1)))  assuming l in \\{((-2^(t - 1)) + 1)...2^(t - 1)\\} \n",
      "            implication (((1 / 2^(t) * (2^(t) * delta)) - (1 / 2^(t) * l)) in [(-(1 / 2^(t) * 2^(t - 1))),(1 / 2^(t) * 2^(t - 1)))) => (((2^(t) * delta) / 2^(t) - (1 / 2^(t) * l)) in [(-(1 / 2^(t) * 2^(t - 1))),(1 / 2^(t) * 2^(t - 1)))) \n",
      "              implication ((1 / 2^(t) * (2^(t) * delta)) = (2^(t) * delta) / 2^(t)) => ((((1 / 2^(t) * (2^(t) * delta)) - (1 / 2^(t) * l)) in [(-(1 / 2^(t) * 2^(t - 1))),(1 / 2^(t) * 2^(t - 1)))) => (((2^(t) * delta) / 2^(t) - (1 / 2^(t) * l)) in [(-(1 / 2^(t) * 2^(t - 1))),(1 / 2^(t) * 2^(t - 1))))) \n",
      "                specializing forall_{P, x, y} ((x = y) => (P(x) => P(y)))  proven above\n",
      "              hypothesis (1 / 2^(t) * (2^(t) * delta)) = (2^(t) * delta) / 2^(t) \n",
      "                implication ((1 / 2^(t) * (2^(t) * delta)) = (1 * (2^(t) * delta)) / 2^(t)) => ((1 / 2^(t) * (2^(t) * delta)) = (2^(t) * delta) / 2^(t)) \n",
      "                  implication ((1 * (2^(t) * delta)) = (2^(t) * delta)) => (((1 / 2^(t) * (2^(t) * delta)) = (1 * (2^(t) * delta)) / 2^(t)) => ((1 / 2^(t) * (2^(t) * delta)) = (2^(t) * delta) / 2^(t))) \n",
      "                    specializing forall_{P, x, y} ((x = y) => (P(x) => P(y)))  proven above\n",
      "                  hypothesis (1 * (2^(t) * delta)) = (2^(t) * delta) \n",
      "                    specializing forall_{x in Complexes} ((1 * x) = x)  proven above\n",
      "                    condition (2^(t) * delta) in Complexes \n",
      "                      specializing forall_{a in Reals} (a in Complexes)  proven above\n",
      "                      condition (2^(t) * delta) in Reals \n",
      "                        specializing forall_{..x.. in Reals} (( .. * x * .. ) in Reals) \n",
      "                          by theorem proveit.number.real.multClosure\n",
      "                        condition 2^(t) in Reals  proven above\n",
      "                        condition delta in Reals  proven above\n",
      "                hypothesis (1 / 2^(t) * (2^(t) * delta)) = (1 * (2^(t) * delta)) / 2^(t) \n",
      "                  specializing forall_{..w.., x, y, ..z.. in Complexes} (( .. * w * ..  * x / y *  .. * z * .. ) = ( .. * w * ..  * x *  .. * z * .. ) / y)  proven above\n",
      "                  condition 2^(t) in Complexes  proven above\n",
      "                  condition (2^(t) * delta) in Complexes  proven above\n",
      "                  condition 1 in Complexes  proven above\n",
      "            hypothesis ((1 / 2^(t) * (2^(t) * delta)) - (1 / 2^(t) * l)) in [(-(1 / 2^(t) * 2^(t - 1))),(1 / 2^(t) * 2^(t - 1)))  assuming l in \\{((-2^(t - 1)) + 1)...2^(t - 1)\\} \n",
      "              implication (((1 / 2^(t) * (2^(t) * delta)) - (1 / 2^(t) * l)) in [(1 / 2^(t) * (-2^(t - 1))),(1 / 2^(t) * 2^(t - 1)))) => (((1 / 2^(t) * (2^(t) * delta)) - (1 / 2^(t) * l)) in [(-(1 / 2^(t) * 2^(t - 1))),(1 / 2^(t) * 2^(t - 1)))) \n",
      "                implication ((1 / 2^(t) * (-2^(t - 1))) = (-(1 / 2^(t) * 2^(t - 1)))) => ((((1 / 2^(t) * (2^(t) * delta)) - (1 / 2^(t) * l)) in [(1 / 2^(t) * (-2^(t - 1))),(1 / 2^(t) * 2^(t - 1)))) => (((1 / 2^(t) * (2^(t) * delta)) - (1 / 2^(t) * l)) in [(-(1 / 2^(t) * 2^(t - 1))),(1 / 2^(t) * 2^(t - 1))))) \n",
      "                  specializing forall_{P, x, y} ((x = y) => (P(x) => P(y)))  proven above\n",
      "                hypothesis (1 / 2^(t) * (-2^(t - 1))) = (-(1 / 2^(t) * 2^(t - 1))) \n",
      "                  specializing forall_{x, y in Complexes} ((x * (-y)) = (-(x * y))) \n",
      "                    by theorem proveit.number.complex.posTimesNeg\n",
      "                  condition 2^(t - 1) in Complexes  proven above\n",
      "                  condition 1 / 2^(t) in Complexes \n",
      "                    specializing forall_{a in RealsPos} (a in Complexes) \n",
      "                      by theorem proveit.number.real.inRealsPos_inComplexes\n",
      "                    condition 1 / 2^(t) in RealsPos \n",
      "                      specializing forall_{a, b in RealsPos | b != 0} (a / b in RealsPos) \n",
      "                        by theorem proveit.number.real.fractionPosClosure\n",
      "                      condition 1 in RealsPos \n",
      "                        specializing forall_{a in NaturalsPos} (a in RealsPos)  proven above\n",
      "                        condition 1 in NaturalsPos  proven above\n",
      "                      condition 2^(t) in RealsPos  proven above\n",
      "                      condition 2^(t) != 0  proven above\n",
      "              hypothesis ((1 / 2^(t) * (2^(t) * delta)) - (1 / 2^(t) * l)) in [(1 / 2^(t) * (-2^(t - 1))),(1 / 2^(t) * 2^(t - 1)))  assuming l in \\{((-2^(t - 1)) + 1)...2^(t - 1)\\} \n",
      "                implication ((1 / 2^(t) * ((2^(t) * delta) - l)) in [(1 / 2^(t) * (-2^(t - 1))),(1 / 2^(t) * 2^(t - 1)))) => (((1 / 2^(t) * (2^(t) * delta)) - (1 / 2^(t) * l)) in [(1 / 2^(t) * (-2^(t - 1))),(1 / 2^(t) * 2^(t - 1))))  assuming l in \\{((-2^(t - 1)) + 1)...2^(t - 1)\\} \n",
      "                  implication ((1 / 2^(t) * ((2^(t) * delta) - l)) = ((1 / 2^(t) * (2^(t) * delta)) - (1 / 2^(t) * l))) => (((1 / 2^(t) * ((2^(t) * delta) - l)) in [(1 / 2^(t) * (-2^(t - 1))),(1 / 2^(t) * 2^(t - 1)))) => (((1 / 2^(t) * (2^(t) * delta)) - (1 / 2^(t) * l)) in [(1 / 2^(t) * (-2^(t - 1))),(1 / 2^(t) * 2^(t - 1))))) \n",
      "                    specializing forall_{P, x, y} ((x = y) => (P(x) => P(y)))  proven above\n",
      "                  hypothesis (1 / 2^(t) * ((2^(t) * delta) - l)) = ((1 / 2^(t) * (2^(t) * delta)) - (1 / 2^(t) * l))  assuming l in \\{((-2^(t - 1)) + 1)...2^(t - 1)\\} \n",
      "                    specializing forall_{..w.., x, y, ..z.. in Complexes} (( .. * w * ..  * (x - y) *  .. * z * .. ) = (( .. * w * ..  * x *  .. * z * .. ) - ( .. * w * ..  * y *  .. * z * .. ))) \n",
      "                      by theorem proveit.number.complex.distributeThroughSubtract\n",
      "                    condition l in Complexes  assuming l in \\{((-2^(t - 1)) + 1)...2^(t - 1)\\}  proven above\n",
      "                    condition 1 / 2^(t) in Complexes  proven above\n",
      "                    condition (2^(t) * delta) in Complexes  proven above\n",
      "                hypothesis (1 / 2^(t) * ((2^(t) * delta) - l)) in [(1 / 2^(t) * (-2^(t - 1))),(1 / 2^(t) * 2^(t - 1)))  assuming l in \\{((-2^(t - 1)) + 1)...2^(t - 1)\\} \n",
      "                  specializing forall_{x in [(-2^(t - 1)),2^(t - 1))} ((1 / 2^(t) * x) in [(1 / 2^(t) * (-2^(t - 1))),(1 / 2^(t) * 2^(t - 1)))) \n",
      "                    specializing forall_{a, b, c} [forall_{x in [a,b)} ((c * x) in [(c * a),(c * b)))] \n",
      "                      by theorem proveit.number.real.rescaleInIntervalCO\n",
      "                  condition ((2^(t) * delta) - l) in [(-2^(t - 1)),2^(t - 1))  assuming l in \\{((-2^(t - 1)) + 1)...2^(t - 1)\\} \n",
      "                    specializing forall_{a, b, x in Reals | a <= x, x < b} (x in [a,b)) \n",
      "                      by theorem proveit.number.real.inIntervalCO\n",
      "                    condition (-2^(t - 1)) <= ((2^(t) * delta) - l)  assuming l in \\{((-2^(t - 1)) + 1)...2^(t - 1)\\} \n",
      "                      implication ((-2^(t - 1)) <= ((2^(t) * delta) + (-l))) => ((-2^(t - 1)) <= ((2^(t) * delta) - l))  assuming l in \\{((-2^(t - 1)) + 1)...2^(t - 1)\\} \n",
      "                        implication (((2^(t) * delta) + (-l)) = ((2^(t) * delta) - l)) => (((-2^(t - 1)) <= ((2^(t) * delta) + (-l))) => ((-2^(t - 1)) <= ((2^(t) * delta) - l))) \n",
      "                          specializing forall_{P, x, y} ((x = y) => (P(x) => P(y)))  proven above\n",
      "                        hypothesis ((2^(t) * delta) + (-l)) = ((2^(t) * delta) - l)  assuming l in \\{((-2^(t - 1)) + 1)...2^(t - 1)\\} \n",
      "                          specializing forall_{x, y in Complexes} ((x + (-y)) = (x - y)) \n",
      "                            by theorem proveit.number.complex.addNegAsSubtract\n",
      "                          condition l in Complexes  assuming l in \\{((-2^(t - 1)) + 1)...2^(t - 1)\\}  proven above\n",
      "                          condition (2^(t) * delta) in Complexes  proven above\n",
      "                      hypothesis (-2^(t - 1)) <= ((2^(t) * delta) + (-l))  assuming l in \\{((-2^(t - 1)) + 1)...2^(t - 1)\\} \n",
      "                        implication ((0 + (-2^(t - 1))) <= ((2^(t) * delta) + (-l))) => ((-2^(t - 1)) <= ((2^(t) * delta) + (-l))) \n",
      "                          implication ((0 + (-2^(t - 1))) = (-2^(t - 1))) => (((0 + (-2^(t - 1))) <= ((2^(t) * delta) + (-l))) => ((-2^(t - 1)) <= ((2^(t) * delta) + (-l)))) \n",
      "                            specializing forall_{P, x, y} ((x = y) => (P(x) => P(y)))  proven above\n",
      "                          hypothesis (0 + (-2^(t - 1))) = (-2^(t - 1)) \n",
      "                            specializing forall_{x in Complexes} ((0 + x) = x) \n",
      "                              by theorem proveit.number.complex.addZero\n",
      "                            condition (-2^(t - 1)) in Complexes \n",
      "                              specializing forall_{a in Integers} (a in Complexes)  proven above\n",
      "                              condition (-2^(t - 1)) in Integers  proven above\n",
      "                        hypothesis (0 + (-2^(t - 1))) <= ((2^(t) * delta) + (-l))  assuming l in \\{((-2^(t - 1)) + 1)...2^(t - 1)\\} \n",
      "                          implication (((2^(t) * delta) + (-2^(t - 1))) <= ((2^(t) * delta) + (-l))) => ((0 + (-2^(t - 1))) <= ((2^(t) * delta) + (-l))) \n",
      "                            implication ((0 + (-2^(t - 1))) <= ((2^(t) * delta) + (-2^(t - 1)))) => ((((2^(t) * delta) + (-2^(t - 1))) <= ((2^(t) * delta) + (-l))) => ((0 + (-2^(t - 1))) <= ((2^(t) * delta) + (-l)))) \n",
      "                              specializing forall_{x, y, z} ((x <= y) => ((y <= z) => (x <= z))) \n",
      "                                by axiom proveit.number.lessThanEqualsTransLessThanEqualsRight\n",
      "                            hypothesis (0 + (-2^(t - 1))) <= ((2^(t) * delta) + (-2^(t - 1))) \n",
      "                              specializing forall_{a, b, c in Reals | a <= b} ((a + c) <= (b + c)) \n",
      "                                by theorem proveit.number.real.lessThanEqualsAddRight\n",
      "                              condition 0 in Reals \n",
      "                                specializing forall_{a in Naturals} (a in Reals) \n",
      "                                  by theorem proveit.number.natural.inReals\n",
      "                                condition 0 in Naturals \n",
      "                              condition 0 <= (2^(t) * delta) \n",
      "                                specializing forall_{x in [0,1)} (0 <= x) \n",
      "                                  specializing forall_{a, b in Reals} [forall_{x in [a,b)} (a <= x)] \n",
      "                                    by theorem proveit.number.real.intervalCOLowerBound\n",
      "                                  condition 0 in Reals  proven above\n",
      "                                  condition 1 in Reals \n",
      "                                    specializing forall_{a in NaturalsPos} (a in Reals)  proven above\n",
      "                                    condition 1 in NaturalsPos  proven above\n",
      "                                condition (2^(t) * delta) in [0,1) \n",
      "                                  by theorem proveit.physics.quantum.QPE.scaledDeltaInInterval\n",
      "                              condition (2^(t) * delta) in Reals  proven above\n",
      "                              condition (-2^(t - 1)) in Reals \n",
      "                                specializing forall_{a in Integers} (a in Reals) \n",
      "                                  by theorem proveit.number.integer.inReals\n",
      "                                condition (-2^(t - 1)) in Integers  proven above\n",
      "                          hypothesis ((2^(t) * delta) + (-2^(t - 1))) <= ((2^(t) * delta) + (-l))  assuming l in \\{((-2^(t - 1)) + 1)...2^(t - 1)\\} \n",
      "                            specializing forall_{a, b, c in Reals | a <= b} ((c + a) <= (c + b)) \n",
      "                              by theorem proveit.number.real.lessThanEqualsAddLeft\n",
      "                            condition (-2^(t - 1)) <= (-l)  assuming l in \\{((-2^(t - 1)) + 1)...2^(t - 1)\\} \n",
      "                              implication ((-l) >= (-2^(t - 1))) => ((-2^(t - 1)) <= (-l)) \n",
      "                                specializing forall_{x, y} ((x >= y) => (y <= x)) \n",
      "                                  by axiom proveit.number.reverseGreaterThanEquals\n",
      "                              hypothesis (-l) >= (-2^(t - 1))  assuming l in \\{((-2^(t - 1)) + 1)...2^(t - 1)\\} \n",
      "                                specializing forall_{a, b in Reals | a <= b} ((-a) >= (-b)) \n",
      "                                  by theorem proveit.number.real.negatedLessThanEquals\n",
      "                                condition l <= 2^(t - 1)  assuming l in \\{((-2^(t - 1)) + 1)...2^(t - 1)\\} \n",
      "                                  specializing forall_{n in \\{((-2^(t - 1)) + 1)...2^(t - 1)\\}} (n <= 2^(t - 1)) \n",
      "                                    specializing forall_{a, b in Integers} [forall_{n in \\{a...b\\}} (n <= b)] \n",
      "                                      by theorem proveit.number.integer.intervalUpperBound\n",
      "                                    condition 2^(t - 1) in Integers  proven above\n",
      "                                    condition ((-2^(t - 1)) + 1) in Integers  proven above\n",
      "                                  condition l in \\{((-2^(t - 1)) + 1)...2^(t - 1)\\}  assuming l in \\{((-2^(t - 1)) + 1)...2^(t - 1)\\}  proven above\n",
      "                                condition 2^(t - 1) in Reals  proven above\n",
      "                                condition l in Reals  assuming l in \\{((-2^(t - 1)) + 1)...2^(t - 1)\\} \n",
      "                                  specializing forall_{a in Integers} (a in Reals)  proven above\n",
      "                                  condition l in Integers  assuming l in \\{((-2^(t - 1)) + 1)...2^(t - 1)\\}  proven above\n",
      "                            condition (-l) in Reals  assuming l in \\{((-2^(t - 1)) + 1)...2^(t - 1)\\} \n",
      "                              specializing forall_{a in Integers} (a in Reals)  proven above\n",
      "                              condition (-l) in Integers  assuming l in \\{((-2^(t - 1)) + 1)...2^(t - 1)\\} \n",
      "                                specializing forall_{a in Integers} ((-a) in Integers)  proven above\n",
      "                                condition l in Integers  assuming l in \\{((-2^(t - 1)) + 1)...2^(t - 1)\\}  proven above\n",
      "                            condition (2^(t) * delta) in Reals  proven above\n",
      "                            condition (-2^(t - 1)) in Reals  proven above\n",
      "                    condition (-2^(t - 1)) in Reals  proven above\n",
      "                    condition 2^(t - 1) in Reals  proven above\n",
      "                    condition ((2^(t) * delta) - l) in Reals  assuming l in \\{((-2^(t - 1)) + 1)...2^(t - 1)\\} \n",
      "                      specializing forall_{a, b in Reals} ((a - b) in Reals) \n",
      "                        by theorem proveit.number.real.subtractClosure\n",
      "                      condition (2^(t) * delta) in Reals  proven above\n",
      "                      condition l in Reals  assuming l in \\{((-2^(t - 1)) + 1)...2^(t - 1)\\}  proven above\n",
      "                    condition ((2^(t) * delta) - l) < 2^(t - 1)  assuming l in \\{((-2^(t - 1)) + 1)...2^(t - 1)\\} \n",
      "                      implication (((2^(t) * delta) - l) < (1 - ((-2^(t - 1)) + 1))) => (((2^(t) * delta) - l) < 2^(t - 1)) \n",
      "                        implication ((1 - ((-2^(t - 1)) + 1)) = 2^(t - 1)) => ((((2^(t) * delta) - l) < (1 - ((-2^(t - 1)) + 1))) => (((2^(t) * delta) - l) < 2^(t - 1))) \n",
      "                          specializing forall_{P, x, y} ((x = y) => (P(x) => P(y)))  proven above\n",
      "                        hypothesis (1 - ((-2^(t - 1)) + 1)) = 2^(t - 1) \n",
      "                          implication ((-(-2^(t - 1))) = 2^(t - 1)) => ((1 - ((-2^(t - 1)) + 1)) = 2^(t - 1)) \n",
      "                            implication ((1 - ((-2^(t - 1)) + 1)) = (-(-2^(t - 1)))) => (((-(-2^(t - 1))) = 2^(t - 1)) => ((1 - ((-2^(t - 1)) + 1)) = 2^(t - 1))) \n",
      "                              specializing forall_{x, y, z} ((x = y) => ((y = z) => (x = z)))  proven above\n",
      "                            hypothesis (1 - ((-2^(t - 1)) + 1)) = (-(-2^(t - 1))) \n",
      "                              specializing forall_{x, y in Complexes} ((y - (x + y)) = (-x)) \n",
      "                                by theorem proveit.number.complex.subtractCancelRightSumSingleLeft\n",
      "                              condition (-2^(t - 1)) in Complexes  proven above\n",
      "                              condition 1 in Complexes  proven above\n",
      "                          hypothesis (-(-2^(t - 1))) = 2^(t - 1) \n",
      "                            specializing forall_{a in Complexes} ((-(-a)) = a) \n",
      "                              by theorem proveit.number.complex.negNeg\n",
      "                            condition 2^(t - 1) in Complexes  proven above\n",
      "                      hypothesis ((2^(t) * delta) - l) < (1 - ((-2^(t - 1)) + 1))  assuming l in \\{((-2^(t - 1)) + 1)...2^(t - 1)\\} \n",
      "                        implication (((2^(t) * delta) - l) < (1 + (-((-2^(t - 1)) + 1)))) => (((2^(t) * delta) - l) < (1 - ((-2^(t - 1)) + 1))) \n",
      "                          implication ((1 + (-((-2^(t - 1)) + 1))) = (1 - ((-2^(t - 1)) + 1))) => ((((2^(t) * delta) - l) < (1 + (-((-2^(t - 1)) + 1)))) => (((2^(t) * delta) - l) < (1 - ((-2^(t - 1)) + 1)))) \n",
      "                            specializing forall_{P, x, y} ((x = y) => (P(x) => P(y)))  proven above\n",
      "                          hypothesis (1 + (-((-2^(t - 1)) + 1))) = (1 - ((-2^(t - 1)) + 1)) \n",
      "                            specializing forall_{x, y in Complexes} ((x + (-y)) = (x - y))  proven above\n",
      "                            condition ((-2^(t - 1)) + 1) in Complexes \n",
      "                              specializing forall_{a in Integers} (a in Complexes)  proven above\n",
      "                              condition ((-2^(t - 1)) + 1) in Integers  proven above\n",
      "                            condition 1 in Complexes  proven above\n",
      "                        hypothesis ((2^(t) * delta) - l) < (1 + (-((-2^(t - 1)) + 1)))  assuming l in \\{((-2^(t - 1)) + 1)...2^(t - 1)\\} \n",
      "                          implication (((2^(t) * delta) + (-l)) < (1 + (-((-2^(t - 1)) + 1)))) => (((2^(t) * delta) - l) < (1 + (-((-2^(t - 1)) + 1))))  assuming l in \\{((-2^(t - 1)) + 1)...2^(t - 1)\\} \n",
      "                            implication (((2^(t) * delta) + (-l)) = ((2^(t) * delta) - l)) => ((((2^(t) * delta) + (-l)) < (1 + (-((-2^(t - 1)) + 1)))) => (((2^(t) * delta) - l) < (1 + (-((-2^(t - 1)) + 1))))) \n",
      "                              specializing forall_{P, x, y} ((x = y) => (P(x) => P(y)))  proven above\n",
      "                            hypothesis ((2^(t) * delta) + (-l)) = ((2^(t) * delta) - l)  assuming l in \\{((-2^(t - 1)) + 1)...2^(t - 1)\\}  proven above\n",
      "                          hypothesis ((2^(t) * delta) + (-l)) < (1 + (-((-2^(t - 1)) + 1)))  assuming l in \\{((-2^(t - 1)) + 1)...2^(t - 1)\\} \n",
      "                            implication ((1 + (-l)) <= (1 + (-((-2^(t - 1)) + 1)))) => (((2^(t) * delta) + (-l)) < (1 + (-((-2^(t - 1)) + 1))))  assuming l in \\{((-2^(t - 1)) + 1)...2^(t - 1)\\} \n",
      "                              implication (((2^(t) * delta) + (-l)) < (1 + (-l))) => (((1 + (-l)) <= (1 + (-((-2^(t - 1)) + 1)))) => (((2^(t) * delta) + (-l)) < (1 + (-((-2^(t - 1)) + 1))))) \n",
      "                                specializing forall_{x, y, z} ((x < y) => ((y <= z) => (x < z))) \n",
      "                                  by axiom proveit.number.lessThanTransLessThanEqualsRight\n",
      "                              hypothesis ((2^(t) * delta) + (-l)) < (1 + (-l))  assuming l in \\{((-2^(t - 1)) + 1)...2^(t - 1)\\} \n",
      "                                specializing forall_{a, b, c in Reals | a < b} ((a + c) < (b + c)) \n",
      "                                  by theorem proveit.number.real.lessThanAddRight\n",
      "                                condition (2^(t) * delta) < 1 \n",
      "                                  specializing forall_{x in [0,1)} (x < 1) \n",
      "                                    specializing forall_{a, b in Reals} [forall_{x in [a,b)} (x < b)] \n",
      "                                      by theorem proveit.number.real.intervalCOUpperBound\n",
      "                                    condition 0 in Reals  proven above\n",
      "                                    condition 1 in Reals  proven above\n",
      "                                  condition (2^(t) * delta) in [0,1)  proven above\n",
      "                                condition 1 in Reals  proven above\n",
      "                                condition (2^(t) * delta) in Reals  proven above\n",
      "                                condition (-l) in Reals  assuming l in \\{((-2^(t - 1)) + 1)...2^(t - 1)\\}  proven above\n",
      "                            hypothesis (1 + (-l)) <= (1 + (-((-2^(t - 1)) + 1)))  assuming l in \\{((-2^(t - 1)) + 1)...2^(t - 1)\\} \n",
      "                              specializing forall_{a, b, c in Reals | a <= b} ((c + a) <= (c + b))  proven above\n",
      "                              condition 1 in Reals  proven above\n",
      "                              condition (-l) in Reals  assuming l in \\{((-2^(t - 1)) + 1)...2^(t - 1)\\}  proven above\n",
      "                              condition (-((-2^(t - 1)) + 1)) in Reals \n",
      "                                specializing forall_{a in Integers} (a in Reals)  proven above\n",
      "                                condition (-((-2^(t - 1)) + 1)) in Integers \n",
      "                                  specializing forall_{a in Integers} ((-a) in Integers)  proven above\n",
      "                                  condition ((-2^(t - 1)) + 1) in Integers  proven above\n",
      "                              condition (-l) <= (-((-2^(t - 1)) + 1))  assuming l in \\{((-2^(t - 1)) + 1)...2^(t - 1)\\} \n",
      "                                implication ((-((-2^(t - 1)) + 1)) >= (-l)) => ((-l) <= (-((-2^(t - 1)) + 1))) \n",
      "                                  specializing forall_{x, y} ((x >= y) => (y <= x))  proven above\n",
      "                                hypothesis (-((-2^(t - 1)) + 1)) >= (-l)  assuming l in \\{((-2^(t - 1)) + 1)...2^(t - 1)\\} \n",
      "                                  specializing forall_{a, b in Reals | a <= b} ((-a) >= (-b))  proven above\n",
      "                                  condition l in Reals  assuming l in \\{((-2^(t - 1)) + 1)...2^(t - 1)\\}  proven above\n",
      "                                  condition ((-2^(t - 1)) + 1) <= l  assuming l in \\{((-2^(t - 1)) + 1)...2^(t - 1)\\} \n",
      "                                    specializing forall_{n in \\{((-2^(t - 1)) + 1)...2^(t - 1)\\}} (((-2^(t - 1)) + 1) <= n) \n",
      "                                      specializing forall_{a, b in Integers} [forall_{n in \\{a...b\\}} (a <= n)] \n",
      "                                        by theorem proveit.number.integer.intervalLowerBound\n",
      "                                      condition 2^(t - 1) in Integers  proven above\n",
      "                                      condition ((-2^(t - 1)) + 1) in Integers  proven above\n",
      "                                    condition l in \\{((-2^(t - 1)) + 1)...2^(t - 1)\\}  assuming l in \\{((-2^(t - 1)) + 1)...2^(t - 1)\\}  proven above\n",
      "                                  condition ((-2^(t - 1)) + 1) in Reals \n",
      "                                    specializing forall_{a in Integers} (a in Reals)  proven above\n",
      "                                    condition ((-2^(t - 1)) + 1) in Integers  proven above\n",
      "Number of derivation tree nodes: 346\n"
     ]
    },
    {
     "data": {
      "text/latex": [
       "$\\forall_{l \\in \\{\\left(\\left(-2^{t - 1}\\right) + 1\\right)\\ldots 2^{t - 1}\\}} \\left(\\left(\\delta - \\frac{l}{2^{t}}\\right) \\in \\left[\\left(-\\frac{1}{2}\\right),\\frac{1}{2}\\right)\\right)$"
      ],
      "text/plain": [
       "forall_{l in \\{((-2^(t - 1)) + 1)...2^(t - 1)\\}} ((delta - l / 2^(t)) in [(-1 / 2),1 / 2))"
      ]
     },
     "execution_count": 31,
     "metadata": {},
     "output_type": "execute_result"
    }
   ],
   "source": [
    "shiftedInDomain.generalize(l, domain=fullDomain).qed()"
   ]
  },
  {
   "cell_type": "code",
   "execution_count": null,
   "metadata": {
    "collapsed": true,
    "deletable": true,
    "editable": true
   },
   "outputs": [],
   "source": []
  }
 ],
 "metadata": {
  "kernelspec": {
   "display_name": "Python 3",
   "language": "python",
   "name": "python3"
  },
  "language_info": {
   "codemirror_mode": {
    "name": "ipython",
    "version": 3
   },
   "file_extension": ".py",
   "mimetype": "text/x-python",
   "name": "python",
   "nbconvert_exporter": "python",
   "pygments_lexer": "ipython3"
  }
 },
 "nbformat": 4,
 "nbformat_minor": 0
}
