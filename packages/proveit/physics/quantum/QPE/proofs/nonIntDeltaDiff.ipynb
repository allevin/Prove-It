{
 "cells": [
  {
   "cell_type": "code",
   "execution_count": 1,
   "metadata": {
    "collapsed": false,
    "deletable": true,
    "editable": true
   },
   "outputs": [],
   "source": [
    "from proveit.basiclogic import In, NotEquals, autoSubstitute\n",
    "from proveit.physics.quantum.QPE.theorems import nonIntDeltaDiff, two_pow_t_in_posnats, two_pow_tMinusOne_in_posnats, deltaDiffInInterval, \\\n",
    "    delta_notEq_scaledNonzeroInt, deltaInReals\n",
    "from proveit.physics.quantum.QPE.common import fullDomain, delta_\n",
    "from proveit.number.common import a, b, c, l, n, x, y,zero, one, two\n",
    "from proveit.number.arithmeticOps import IntervalOO, LessThan, GreaterThan, Neg\n",
    "from proveit.number.numberSets import deduceInReals, deducePositive, deduceInIntegers, deduceInComplexes\n",
    "from proveit.number.real.theorems import notIntIfBetweenSuccessiveInts, notEqualsIsLessThanOrGreaterThan, divIneqThm1strong\n",
    "from proveit.number.complex.theorems import addNegAsSubtract, notEq_iff_diffNotZero\n",
    "from proveit.number.natural.axioms import oneAddOne, zeroAddOne\n",
    "from IPython.display import display"
   ]
  },
  {
   "cell_type": "code",
   "execution_count": 2,
   "metadata": {
    "collapsed": false,
    "deletable": true,
    "editable": true
   },
   "outputs": [
    {
     "data": {
      "text/plain": [
       "$\\forall_{ l  \\in \\{\\left( \\left(-\\left(2^{t - 1}\\right)\\right) + 1 \\right)\\ldots \\left(2^{t - 1}\\right)\\}~|~ \\left(l \\neq 0\\right) } \\left(\\left(\\delta - \\frac{l}{2^{t}}\\right) \\notin \\mathbb{Z}\\right)$"
      ]
     },
     "execution_count": 2,
     "metadata": {},
     "output_type": "execute_result"
    }
   ],
   "source": [
    "nonIntDeltaDiff.beginProof()"
   ]
  },
  {
   "cell_type": "code",
   "execution_count": 3,
   "metadata": {
    "collapsed": false,
    "deletable": true,
    "editable": true
   },
   "outputs": [
    {
     "data": {
      "text/plain": [
       "$l \\in \\{\\left( \\left(-\\left(2^{t - 1}\\right)\\right) + 1 \\right)\\ldots \\left(2^{t - 1}\\right)\\}$"
      ]
     },
     "metadata": {},
     "output_type": "display_data"
    },
    {
     "data": {
      "text/plain": [
       "$l \\neq 0$"
      ]
     },
     "metadata": {},
     "output_type": "display_data"
    }
   ],
   "source": [
    "lInDomain = In(l, fullDomain)\n",
    "display(lInDomain)\n",
    "lNotZero = NotEquals(l, zero)\n",
    "display(lNotZero)\n",
    "assumptions = {lInDomain, lNotZero}"
   ]
  },
  {
   "cell_type": "code",
   "execution_count": 4,
   "metadata": {
    "collapsed": false,
    "deletable": true,
    "editable": true
   },
   "outputs": [
    {
     "data": {
      "text/plain": [
       "$l \\in \\mathbb{Z}$"
      ]
     },
     "execution_count": 4,
     "metadata": {},
     "output_type": "execute_result"
    }
   ],
   "source": [
    "fullDomain.deduceMemberInIntegers(l).proven(assumptions)"
   ]
  },
  {
   "cell_type": "code",
   "execution_count": 5,
   "metadata": {
    "collapsed": false,
    "deletable": true,
    "editable": true
   },
   "outputs": [
    {
     "data": {
      "text/plain": [
       "$\\forall_{ l  \\in \\{\\left( \\left(-\\left(2^{t - 1}\\right)\\right) + 1 \\right)\\ldots \\left(2^{t - 1}\\right)\\}} \\left(\\left(\\delta - \\frac{l}{2^{t}}\\right) \\in \\left[\\left(-\\frac{1}{2}\\right),\\frac{1}{2}\\right)\\right)$"
      ]
     },
     "execution_count": 5,
     "metadata": {},
     "output_type": "execute_result"
    }
   ],
   "source": [
    "deltaDiffInInterval"
   ]
  },
  {
   "cell_type": "code",
   "execution_count": 6,
   "metadata": {
    "collapsed": false,
    "deletable": true,
    "editable": true
   },
   "outputs": [
    {
     "data": {
      "text/plain": [
       "$\\left(\\delta - \\frac{l}{2^{t}}\\right) \\in \\left[\\left(-\\frac{1}{2}\\right),\\frac{1}{2}\\right)$"
      ]
     },
     "execution_count": 6,
     "metadata": {},
     "output_type": "execute_result"
    }
   ],
   "source": [
    "deltaDiffInDomain = deltaDiffInInterval.specialize().proven(assumptions)\n",
    "deltaDiffInDomain"
   ]
  },
  {
   "cell_type": "code",
   "execution_count": 7,
   "metadata": {
    "collapsed": false,
    "deletable": true,
    "editable": true
   },
   "outputs": [
    {
     "data": {
      "text/plain": [
       "$\\delta - \\frac{l}{2^{t}}$"
      ]
     },
     "execution_count": 7,
     "metadata": {},
     "output_type": "execute_result"
    }
   ],
   "source": [
    "deltaDiff = deltaDiffInDomain.element\n",
    "deltaDiff"
   ]
  },
  {
   "cell_type": "code",
   "execution_count": 8,
   "metadata": {
    "collapsed": false,
    "deletable": true,
    "editable": true
   },
   "outputs": [
    {
     "data": {
      "text/plain": [
       "$\\left(\\delta - \\frac{l}{2^{t}}\\right) \\in \\mathbb{R}$"
      ]
     },
     "execution_count": 8,
     "metadata": {},
     "output_type": "execute_result"
    }
   ],
   "source": [
    "deltaDiffInDomain.domain.deduceMemberInReals(deltaDiff)"
   ]
  },
  {
   "cell_type": "code",
   "execution_count": 9,
   "metadata": {
    "collapsed": false,
    "deletable": true,
    "editable": true
   },
   "outputs": [
    {
     "data": {
      "text/plain": [
       "$\\left(\\delta - \\frac{l}{2^{t}}\\right) < \\frac{1}{2}$"
      ]
     },
     "execution_count": 9,
     "metadata": {},
     "output_type": "execute_result"
    }
   ],
   "source": [
    "deltaDiffUpperBound = deltaDiffInDomain.domain.deduceMemberUpperBound(deltaDiff)\n",
    "deltaDiffUpperBound.proven(assumptions)"
   ]
  },
  {
   "cell_type": "code",
   "execution_count": 10,
   "metadata": {
    "collapsed": false,
    "deletable": true,
    "editable": true
   },
   "outputs": [
    {
     "data": {
      "text/plain": [
       "$\\left(-\\frac{1}{2}\\right) \\leq \\left(\\delta - \\frac{l}{2^{t}}\\right)$"
      ]
     },
     "execution_count": 10,
     "metadata": {},
     "output_type": "execute_result"
    }
   ],
   "source": [
    "deltaDiffLowerBound = deltaDiffInDomain.domain.deduceMemberLowerBound(deltaDiff)\n",
    "deltaDiffLowerBound.proven(assumptions)"
   ]
  },
  {
   "cell_type": "code",
   "execution_count": 11,
   "metadata": {
    "collapsed": false,
    "deletable": true,
    "editable": true
   },
   "outputs": [
    {
     "data": {
      "text/plain": [
       "$\\left( 1 + 1 \\right) = 2$"
      ]
     },
     "execution_count": 11,
     "metadata": {},
     "output_type": "execute_result"
    }
   ],
   "source": [
    "oneAddOne"
   ]
  },
  {
   "cell_type": "code",
   "execution_count": 12,
   "metadata": {
    "collapsed": false,
    "deletable": true,
    "editable": true
   },
   "outputs": [
    {
     "data": {
      "text/plain": [
       "$\\left( 1 + 1 \\right) > 1$"
      ]
     },
     "execution_count": 12,
     "metadata": {},
     "output_type": "execute_result"
    }
   ],
   "source": [
    "numIneq1 = oneAddOne.lhs.deduceStrictIncrease(0)\n",
    "numIneq1.proven()"
   ]
  },
  {
   "cell_type": "code",
   "execution_count": 13,
   "metadata": {
    "collapsed": false,
    "deletable": true,
    "editable": true
   },
   "outputs": [
    {
     "data": {
      "text/plain": [
       "$1 < 2$"
      ]
     },
     "execution_count": 13,
     "metadata": {},
     "output_type": "execute_result"
    }
   ],
   "source": [
    "numIneq2 = oneAddOne.subRightSideInto(numIneq1).deriveReversed()\n",
    "numIneq2.proven()"
   ]
  },
  {
   "cell_type": "code",
   "execution_count": 14,
   "metadata": {
    "collapsed": false,
    "deletable": true,
    "editable": true
   },
   "outputs": [
    {
     "data": {
      "text/plain": [
       "$\\forall_{ a , b , c  \\in \\mathbb{R}~|~ \\left(a < c\\right) , \\left(b > 0\\right) } \\left(\\frac{a}{b} < \\frac{c}{b}\\right)$"
      ]
     },
     "execution_count": 14,
     "metadata": {},
     "output_type": "execute_result"
    }
   ],
   "source": [
    "divIneqThm1strong"
   ]
  },
  {
   "cell_type": "code",
   "execution_count": 15,
   "metadata": {
    "collapsed": false,
    "deletable": true,
    "editable": true
   },
   "outputs": [
    {
     "data": {
      "text/plain": [
       "$\\frac{1}{2} < \\frac{2}{2}$"
      ]
     },
     "execution_count": 15,
     "metadata": {},
     "output_type": "execute_result"
    }
   ],
   "source": [
    "deduceInReals(one)\n",
    "deduceInReals(two)\n",
    "deducePositive(two)\n",
    "numIneq3 = divIneqThm1strong.specialize({a:one, b:two, c:two})\n",
    "numIneq3.proven()"
   ]
  },
  {
   "cell_type": "code",
   "execution_count": 16,
   "metadata": {
    "collapsed": false,
    "deletable": true,
    "editable": true
   },
   "outputs": [
    {
     "data": {
      "text/plain": [
       "$\\frac{1}{2} < 1$"
      ]
     },
     "execution_count": 16,
     "metadata": {},
     "output_type": "execute_result"
    }
   ],
   "source": [
    "halfLessThanOne = autoSubstitute(numIneq3, 'cancel', [two], superExpr=numIneq3.rhs)\n",
    "halfLessThanOne.proven()"
   ]
  },
  {
   "cell_type": "code",
   "execution_count": 17,
   "metadata": {
    "collapsed": false,
    "deletable": true,
    "editable": true
   },
   "outputs": [
    {
     "data": {
      "text/plain": [
       "$\\left(-\\frac{1}{2}\\right) > \\left(-1\\right)$"
      ]
     },
     "execution_count": 17,
     "metadata": {},
     "output_type": "execute_result"
    }
   ],
   "source": [
    "negHalfGreaterThanNegOne = halfLessThanOne.deriveNegated()\n",
    "negHalfGreaterThanNegOne.proven()"
   ]
  },
  {
   "cell_type": "code",
   "execution_count": 18,
   "metadata": {
    "collapsed": false,
    "deletable": true,
    "editable": true
   },
   "outputs": [
    {
     "data": {
      "text/plain": [
       "$\\left(\\delta - \\frac{l}{2^{t}}\\right) < 1$"
      ]
     },
     "execution_count": 18,
     "metadata": {},
     "output_type": "execute_result"
    }
   ],
   "source": [
    "deltaDiffLessThanOne = deltaDiffUpperBound.applyTransitivity(halfLessThanOne)\n",
    "deltaDiffLessThanOne"
   ]
  },
  {
   "cell_type": "code",
   "execution_count": 19,
   "metadata": {
    "collapsed": false,
    "deletable": true,
    "editable": true
   },
   "outputs": [
    {
     "data": {
      "text/plain": [
       "$\\left(-1\\right) < \\left(\\delta - \\frac{l}{2^{t}}\\right)$"
      ]
     },
     "execution_count": 19,
     "metadata": {},
     "output_type": "execute_result"
    }
   ],
   "source": [
    "deltaDiffGreaterThanNegOne = deltaDiffLowerBound.applyTransitivity(negHalfGreaterThanNegOne)\n",
    "deltaDiffGreaterThanNegOne"
   ]
  },
  {
   "cell_type": "code",
   "execution_count": 20,
   "metadata": {
    "collapsed": false,
    "deletable": true,
    "editable": true
   },
   "outputs": [
    {
     "data": {
      "text/plain": [
       "$\\left(\\delta - \\frac{l}{2^{t}}\\right) \\in \\left(0,1\\right)$"
      ]
     },
     "execution_count": 20,
     "metadata": {},
     "output_type": "execute_result"
    }
   ],
   "source": [
    "deduceInReals(zero)\n",
    "GreaterThan(deltaDiff, zero).deriveReversed()\n",
    "In(deltaDiff, IntervalOO(zero, one)).concludeAsFolded().proven(assumptions | {GreaterThan(deltaDiff, zero)})"
   ]
  },
  {
   "cell_type": "code",
   "execution_count": 21,
   "metadata": {
    "collapsed": false,
    "deletable": true,
    "editable": true
   },
   "outputs": [
    {
     "data": {
      "text/plain": [
       "$\\left(\\delta - \\frac{l}{2^{t}}\\right) \\in \\left(\\left(-1\\right),0\\right)$"
      ]
     },
     "execution_count": 21,
     "metadata": {},
     "output_type": "execute_result"
    }
   ],
   "source": [
    "deduceInReals(Neg(one))\n",
    "In(deltaDiff, IntervalOO(Neg(one), zero)).concludeAsFolded().proven(assumptions | {LessThan(deltaDiff, zero)})"
   ]
  },
  {
   "cell_type": "code",
   "execution_count": 22,
   "metadata": {
    "collapsed": false,
    "deletable": true,
    "editable": true
   },
   "outputs": [
    {
     "data": {
      "text/plain": [
       "$\\forall_{ n  \\in \\mathbb{Z}} \\left[\\forall_{ x  \\in \\left(n,\\left( n + 1 \\right)\\right)} \\left(x \\notin \\mathbb{Z}\\right)\\right]$"
      ]
     },
     "execution_count": 22,
     "metadata": {},
     "output_type": "execute_result"
    }
   ],
   "source": [
    "notIntIfBetweenSuccessiveInts"
   ]
  },
  {
   "cell_type": "code",
   "execution_count": 23,
   "metadata": {
    "collapsed": false,
    "deletable": true,
    "editable": true
   },
   "outputs": [
    {
     "data": {
      "text/plain": [
       "$\\forall_{ x  \\in \\left(0,\\left( 0 + 1 \\right)\\right)} \\left(x \\notin \\mathbb{Z}\\right)$"
      ]
     },
     "execution_count": 23,
     "metadata": {},
     "output_type": "execute_result"
    }
   ],
   "source": [
    "deduceInIntegers(zero)\n",
    "notInIntsEq1 = notIntIfBetweenSuccessiveInts.specialize({n:zero})\n",
    "notInIntsEq1.proven()"
   ]
  },
  {
   "cell_type": "code",
   "execution_count": 24,
   "metadata": {
    "collapsed": false,
    "deletable": true,
    "editable": true
   },
   "outputs": [
    {
     "data": {
      "text/plain": [
       "$\\forall_{ x  \\in \\left(0,1\\right)} \\left(x \\notin \\mathbb{Z}\\right)$"
      ]
     },
     "execution_count": 24,
     "metadata": {},
     "output_type": "execute_result"
    }
   ],
   "source": [
    "notInIntsEq2 = zeroAddOne.subRightSideInto(notInIntsEq1).proven()\n",
    "notInIntsEq2"
   ]
  },
  {
   "cell_type": "code",
   "execution_count": 25,
   "metadata": {
    "collapsed": false,
    "deletable": true,
    "editable": true
   },
   "outputs": [
    {
     "data": {
      "text/plain": [
       "$\\left(\\delta - \\frac{l}{2^{t}}\\right) \\notin \\mathbb{Z}$"
      ]
     },
     "execution_count": 25,
     "metadata": {},
     "output_type": "execute_result"
    }
   ],
   "source": [
    "notInIntsAssumingPositive = notInIntsEq2.specialize({x:deltaDiff}).proven(assumptions | {LessThan(zero, deltaDiff)})\n",
    "notInIntsAssumingPositive"
   ]
  },
  {
   "cell_type": "code",
   "execution_count": 26,
   "metadata": {
    "collapsed": false,
    "deletable": true,
    "editable": true
   },
   "outputs": [
    {
     "data": {
      "text/plain": [
       "$\\forall_{ x  \\in \\left(\\left(-1\\right),\\left( \\left(-1\\right) + 1 \\right)\\right)} \\left(x \\notin \\mathbb{Z}\\right)$"
      ]
     },
     "execution_count": 26,
     "metadata": {},
     "output_type": "execute_result"
    }
   ],
   "source": [
    "deduceInIntegers(Neg(one))\n",
    "notInIntsEq3 = notIntIfBetweenSuccessiveInts.specialize({n:Neg(one)})\n",
    "notInIntsEq3"
   ]
  },
  {
   "cell_type": "code",
   "execution_count": 27,
   "metadata": {
    "collapsed": false,
    "deletable": true,
    "editable": true
   },
   "outputs": [
    {
     "data": {
      "text/plain": [
       "$\\left( \\left(-1\\right) + 1 \\right) = \\left( 1 + \\left(-1\\right) \\right)$"
      ]
     },
     "execution_count": 27,
     "metadata": {},
     "output_type": "execute_result"
    }
   ],
   "source": [
    "negOneAddOneEq1 = notInIntsEq3.domain.upperBound.commute().proven()\n",
    "negOneAddOneEq1.proven()"
   ]
  },
  {
   "cell_type": "code",
   "execution_count": 28,
   "metadata": {
    "collapsed": false,
    "deletable": true,
    "editable": true
   },
   "outputs": [
    {
     "data": {
      "text/plain": [
       "$\\forall_{ x , y  \\in \\mathbb{C}} \\left(\\left( x + \\left(-y\\right) \\right) = \\left(x - y\\right)\\right)$"
      ]
     },
     "execution_count": 28,
     "metadata": {},
     "output_type": "execute_result"
    }
   ],
   "source": [
    "addNegAsSubtract"
   ]
  },
  {
   "cell_type": "code",
   "execution_count": 29,
   "metadata": {
    "collapsed": false,
    "deletable": true,
    "editable": true
   },
   "outputs": [
    {
     "data": {
      "text/plain": [
       "$\\left( \\left(-1\\right) + 1 \\right) = \\left(1 - 1\\right)$"
      ]
     },
     "execution_count": 29,
     "metadata": {},
     "output_type": "execute_result"
    }
   ],
   "source": [
    "deduceInComplexes(one)\n",
    "negOneAddOneEq2 = addNegAsSubtract.specialize({x:one, y:one}).subRightSideInto(negOneAddOneEq1)\n",
    "negOneAddOneEq2.proven()"
   ]
  },
  {
   "cell_type": "code",
   "execution_count": 30,
   "metadata": {
    "collapsed": false,
    "deletable": true,
    "editable": true
   },
   "outputs": [
    {
     "data": {
      "text/plain": [
       "$\\left( \\left(-1\\right) + 1 \\right) = 0$"
      ]
     },
     "execution_count": 30,
     "metadata": {},
     "output_type": "execute_result"
    }
   ],
   "source": [
    "negOneAddOne_eq_zero = negOneAddOneEq2.rhs.cancel().subRightSideInto(negOneAddOneEq2)\n",
    "negOneAddOne_eq_zero"
   ]
  },
  {
   "cell_type": "code",
   "execution_count": 31,
   "metadata": {
    "collapsed": false,
    "deletable": true,
    "editable": true
   },
   "outputs": [
    {
     "data": {
      "text/plain": [
       "$\\forall_{ x  \\in \\left(\\left(-1\\right),0\\right)} \\left(x \\notin \\mathbb{Z}\\right)$"
      ]
     },
     "execution_count": 31,
     "metadata": {},
     "output_type": "execute_result"
    }
   ],
   "source": [
    "notInIntsEq4 = negOneAddOne_eq_zero.subRightSideInto(notInIntsEq3)\n",
    "notInIntsEq4.proven()"
   ]
  },
  {
   "cell_type": "code",
   "execution_count": 32,
   "metadata": {
    "collapsed": false,
    "deletable": true,
    "editable": true
   },
   "outputs": [
    {
     "data": {
      "text/plain": [
       "$\\left(\\delta - \\frac{l}{2^{t}}\\right) \\notin \\mathbb{Z}$"
      ]
     },
     "execution_count": 32,
     "metadata": {},
     "output_type": "execute_result"
    }
   ],
   "source": [
    "notInIntsAssumingNegative = notInIntsEq4.specialize({x:deltaDiff})\n",
    "notInIntsAssumingNegative.proven(assumptions | {LessThan(zero, deltaDiff)})"
   ]
  },
  {
   "cell_type": "code",
   "execution_count": 33,
   "metadata": {
    "collapsed": false,
    "deletable": true,
    "editable": true
   },
   "outputs": [
    {
     "data": {
      "text/plain": [
       "$\\forall_{ l  \\in \\mathbb{Z}~|~ \\left(l \\neq 0\\right) } \\left(\\delta \\neq \\frac{l}{2^{t}}\\right)$"
      ]
     },
     "execution_count": 33,
     "metadata": {},
     "output_type": "execute_result"
    }
   ],
   "source": [
    "delta_notEq_scaledNonzeroInt"
   ]
  },
  {
   "cell_type": "code",
   "execution_count": 34,
   "metadata": {
    "collapsed": false,
    "deletable": true,
    "editable": true
   },
   "outputs": [
    {
     "data": {
      "text/plain": [
       "$\\delta \\neq \\frac{l}{2^{t}}$"
      ]
     },
     "execution_count": 34,
     "metadata": {},
     "output_type": "execute_result"
    }
   ],
   "source": [
    "delta_notEq_scaledNonzeroInt.specialize().proven(assumptions)"
   ]
  },
  {
   "cell_type": "code",
   "execution_count": 35,
   "metadata": {
    "collapsed": false,
    "deletable": true,
    "editable": true
   },
   "outputs": [
    {
     "data": {
      "text/plain": [
       "$\\forall_{ a , b  \\in \\mathbb{C}} \\left(\\left(a \\neq b\\right) \\Leftrightarrow \\left(\\left(a - b\\right) \\neq 0\\right)\\right)$"
      ]
     },
     "execution_count": 35,
     "metadata": {},
     "output_type": "execute_result"
    }
   ],
   "source": [
    "notEq_iff_diffNotZero"
   ]
  },
  {
   "cell_type": "code",
   "execution_count": 36,
   "metadata": {
    "collapsed": false,
    "deletable": true,
    "editable": true
   },
   "outputs": [
    {
     "data": {
      "text/plain": [
       "$\\left(\\delta - \\frac{l}{2^{t}}\\right) \\neq 0$"
      ]
     },
     "execution_count": 36,
     "metadata": {},
     "output_type": "execute_result"
    }
   ],
   "source": [
    "deduceInComplexes(delta_)\n",
    "lFrac = deltaDiff.operands[1]\n",
    "deduceInComplexes(lFrac, assumptions)\n",
    "notEq_iff_diffNotZero.specialize({a:delta_, b:lFrac}).deriveRight().proven(assumptions)"
   ]
  },
  {
   "cell_type": "code",
   "execution_count": 37,
   "metadata": {
    "collapsed": false,
    "deletable": true,
    "editable": true
   },
   "outputs": [
    {
     "data": {
      "text/plain": [
       "$\\forall_{ a , x  \\in \\mathbb{R}~|~ \\left(x \\neq a\\right) } \\left( \\left(x < a\\right) \\lor \\left(x > a\\right) \\right)$"
      ]
     },
     "execution_count": 37,
     "metadata": {},
     "output_type": "execute_result"
    }
   ],
   "source": [
    "notEqualsIsLessThanOrGreaterThan"
   ]
  },
  {
   "cell_type": "code",
   "execution_count": 38,
   "metadata": {
    "collapsed": false,
    "deletable": true,
    "editable": true
   },
   "outputs": [
    {
     "data": {
      "text/plain": [
       "$ \\left(\\left(\\delta - \\frac{l}{2^{t}}\\right) < 0\\right) \\lor \\left(\\left(\\delta - \\frac{l}{2^{t}}\\right) > 0\\right) $"
      ]
     },
     "execution_count": 38,
     "metadata": {},
     "output_type": "execute_result"
    }
   ],
   "source": [
    "deltaDiffIsPositiveOrNegative = notEqualsIsLessThanOrGreaterThan.specialize({a:zero, x:deltaDiff})\n",
    "deltaDiffIsPositiveOrNegative.proven(assumptions)"
   ]
  },
  {
   "cell_type": "code",
   "execution_count": 39,
   "metadata": {
    "collapsed": false,
    "deletable": true,
    "editable": true
   },
   "outputs": [
    {
     "data": {
      "text/plain": [
       "$\\left(\\delta - \\frac{l}{2^{t}}\\right) \\notin \\mathbb{Z}$"
      ]
     },
     "execution_count": 39,
     "metadata": {},
     "output_type": "execute_result"
    }
   ],
   "source": [
    "notInIntsAssumingNegative"
   ]
  },
  {
   "cell_type": "code",
   "execution_count": 40,
   "metadata": {
    "collapsed": false,
    "deletable": true,
    "editable": true
   },
   "outputs": [
    {
     "data": {
      "text/plain": [
       "$\\left(\\delta - \\frac{l}{2^{t}}\\right) \\notin \\mathbb{Z}$"
      ]
     },
     "execution_count": 40,
     "metadata": {},
     "output_type": "execute_result"
    }
   ],
   "source": [
    "deltaDiffIsPositiveOrNegative.operands[0].deduceInBooleans(assumptions)\n",
    "deltaDiffIsPositiveOrNegative.operands[1].deduceInBooleans(assumptions)\n",
    "notInIntsAssumingNegative.deduceInBool()\n",
    "notInInts = deltaDiffIsPositiveOrNegative.deriveCommonConclusion(notInIntsAssumingNegative)\n",
    "notInInts.proven(assumptions)"
   ]
  },
  {
   "cell_type": "code",
   "execution_count": 41,
   "metadata": {
    "collapsed": false,
    "deletable": true,
    "editable": true
   },
   "outputs": [
    {
     "name": "stdout",
     "output_type": "stream",
     "text": [
      "root $\\forall_{ l  \\in \\{\\left( \\left(-\\left(2^{t - 1}\\right)\\right) + 1 \\right)\\ldots \\left(2^{t - 1}\\right)\\}~|~ \\left(l \\neq 0\\right) } \\left(\\left(\\delta - \\frac{l}{2^{t}}\\right) \\notin \\mathbb{Z}\\right)$ \n",
      "  generalizing $\\left(\\delta - \\frac{l}{2^{t}}\\right) \\notin \\mathbb{Z}$  assuming $l \\in \\{\\left( \\left(-\\left(2^{t - 1}\\right)\\right) + 1 \\right)\\ldots \\left(2^{t - 1}\\right)\\}$, $l \\neq 0$ \n",
      "    implication $\\left( \\left(\\left(\\delta - \\frac{l}{2^{t}}\\right) < 0\\right) \\lor \\left(\\left(\\delta - \\frac{l}{2^{t}}\\right) > 0\\right) \\right) \\Rightarrow \\left(\\left(\\delta - \\frac{l}{2^{t}}\\right) \\notin \\mathbb{Z}\\right)$  assuming $l \\in \\{\\left( \\left(-\\left(2^{t - 1}\\right)\\right) + 1 \\right)\\ldots \\left(2^{t - 1}\\right)\\}$, $l \\neq 0$ \n",
      "      implication $\\left( \\left(\\left(\\left(\\delta - \\frac{l}{2^{t}}\\right) < 0\\right) \\Rightarrow \\left(\\left(\\delta - \\frac{l}{2^{t}}\\right) \\notin \\mathbb{Z}\\right)\\right) \\land \\left(\\left(\\left(\\delta - \\frac{l}{2^{t}}\\right) > 0\\right) \\Rightarrow \\left(\\left(\\delta - \\frac{l}{2^{t}}\\right) \\notin \\mathbb{Z}\\right)\\right) \\right) \\Rightarrow \\left(\\left( \\left(\\left(\\delta - \\frac{l}{2^{t}}\\right) < 0\\right) \\lor \\left(\\left(\\delta - \\frac{l}{2^{t}}\\right) > 0\\right) \\right) \\Rightarrow \\left(\\left(\\delta - \\frac{l}{2^{t}}\\right) \\notin \\mathbb{Z}\\right)\\right)$  assuming $l \\in \\{\\left( \\left(-\\left(2^{t - 1}\\right)\\right) + 1 \\right)\\ldots \\left(2^{t - 1}\\right)\\}$, $l \\neq 0$ \n",
      "        specializing $\\forall_{ A , B , C  \\in \\mathbb{B}} \\left(\\left( \\left(A \\Rightarrow C\\right) \\land \\left(B \\Rightarrow C\\right) \\right) \\Rightarrow \\left(\\left( A \\lor B \\right) \\Rightarrow C\\right)\\right)$ \n",
      "          by theorem proveit.basiclogic.boolean.hypotheticalDisjunction\n",
      "        condition $\\left(\\left(\\delta - \\frac{l}{2^{t}}\\right) < 0\\right) \\in \\mathbb{B}$  assuming $l \\in \\{\\left( \\left(-\\left(2^{t - 1}\\right)\\right) + 1 \\right)\\ldots \\left(2^{t - 1}\\right)\\}$, $l \\neq 0$ \n",
      "          specializing $\\forall_{ a , b  \\in \\mathbb{R}} \\left(\\left(a < b\\right) \\in \\mathbb{B}\\right)$ \n",
      "            by theorem proveit.number.real.lessThanInBools\n",
      "          condition $\\left(\\delta - \\frac{l}{2^{t}}\\right) \\in \\mathbb{R}$  assuming $l \\in \\{\\left( \\left(-\\left(2^{t - 1}\\right)\\right) + 1 \\right)\\ldots \\left(2^{t - 1}\\right)\\}$, $l \\neq 0$ \n",
      "            specializing $\\forall_{ x  \\in \\left[\\left(-\\frac{1}{2}\\right),\\frac{1}{2}\\right)} \\left(x \\in \\mathbb{R}\\right)$ \n",
      "              specializing $\\forall_{ a , b  \\in \\mathbb{R}} \\left[\\forall_{ x  \\in \\left[a,b\\right)} \\left(x \\in \\mathbb{R}\\right)\\right]$ \n",
      "                by theorem proveit.number.real.allInIntervalCO_InReals\n",
      "              condition $\\frac{1}{2} \\in \\mathbb{R}$ \n",
      "                specializing $\\forall_{ a  \\in \\mathbb{R}^+} \\left(a \\in \\mathbb{R}\\right)$ \n",
      "                  by theorem proveit.number.real.inRealsPos_inReals\n",
      "                condition $\\frac{1}{2} \\in \\mathbb{R}^+$ \n",
      "                  specializing $\\forall_{ a , b  \\in \\mathbb{R}^+~|~ \\left(b \\neq 0\\right) } \\left(\\frac{a}{b} \\in \\mathbb{R}^+\\right)$ \n",
      "                    by theorem proveit.number.real.fractionPosClosure\n",
      "                  condition $2 \\neq 0$ \n",
      "                    specializing $\\forall_{ a  \\in \\mathbb{R}~|~ \\left(a > 0\\right) } \\left(a \\neq 0\\right)$ \n",
      "                      by theorem proveit.number.real.positive_implies_notzero\n",
      "                    condition $2 \\in \\mathbb{R}$ \n",
      "                      specializing $\\forall_{ a  \\in \\mathbb{N}^+} \\left(a \\in \\mathbb{R}\\right)$ \n",
      "                        by theorem proveit.number.natural.inNatPos_inReals\n",
      "                      condition $2 \\in \\mathbb{N}^+$ \n",
      "                        by theorem proveit.number.natural.twoInNaturalsPos\n",
      "                    condition $2 > 0$ \n",
      "                      implication $\\left(2 \\in \\mathbb{R}^+\\right) \\Rightarrow \\left(2 > 0\\right)$ \n",
      "                        implication $\\left(\\left(2 \\in \\mathbb{R}^+\\right) \\Leftrightarrow \\left(2 > 0\\right)\\right) \\Rightarrow \\left(\\left(2 \\in \\mathbb{R}^+\\right) \\Rightarrow \\left(2 > 0\\right)\\right)$ \n",
      "                          specializing $\\forall_{ A , B } \\left(\\left(A \\Leftrightarrow B\\right) \\Rightarrow \\left(A \\Rightarrow B\\right)\\right)$ \n",
      "                            by theorem proveit.basiclogic.boolean.iffImpliesRight\n",
      "                        hypothesis $\\left(2 \\in \\mathbb{R}^+\\right) \\Leftrightarrow \\left(2 > 0\\right)$ \n",
      "                          specializing $\\forall_{ a  \\in \\mathbb{R}} \\left(\\left(a \\in \\mathbb{R}^+\\right) \\Leftrightarrow \\left(a > 0\\right)\\right)$ \n",
      "                            by theorem proveit.number.real.inRealsPos_iff_positive\n",
      "                          condition $2 \\in \\mathbb{R}$  proven above\n",
      "                      hypothesis $2 \\in \\mathbb{R}^+$ \n",
      "                        specializing $\\forall_{ a  \\in \\mathbb{N}^+} \\left(a \\in \\mathbb{R}^+\\right)$ \n",
      "                          by theorem proveit.number.natural.inNatPos_inRealsPos\n",
      "                        condition $2 \\in \\mathbb{N}^+$  proven above\n",
      "                  condition $1 \\in \\mathbb{R}^+$ \n",
      "                    specializing $\\forall_{ a  \\in \\mathbb{N}^+} \\left(a \\in \\mathbb{R}^+\\right)$  proven above\n",
      "                    condition $1 \\in \\mathbb{N}^+$ \n",
      "                  condition $2 \\in \\mathbb{R}^+$  proven above\n",
      "              condition $\\left(-\\frac{1}{2}\\right) \\in \\mathbb{R}$ \n",
      "                specializing $\\forall_{ a  \\in \\mathbb{R}} \\left(\\left(-a\\right) \\in \\mathbb{R}\\right)$ \n",
      "                  by theorem proveit.number.real.negClosure\n",
      "                condition $\\frac{1}{2} \\in \\mathbb{R}$  proven above\n",
      "            condition $\\left(\\delta - \\frac{l}{2^{t}}\\right) \\in \\left[\\left(-\\frac{1}{2}\\right),\\frac{1}{2}\\right)$  assuming $l \\in \\{\\left( \\left(-\\left(2^{t - 1}\\right)\\right) + 1 \\right)\\ldots \\left(2^{t - 1}\\right)\\}$, $l \\neq 0$ \n",
      "              specializing $\\forall_{ l  \\in \\{\\left( \\left(-\\left(2^{t - 1}\\right)\\right) + 1 \\right)\\ldots \\left(2^{t - 1}\\right)\\}} \\left(\\left(\\delta - \\frac{l}{2^{t}}\\right) \\in \\left[\\left(-\\frac{1}{2}\\right),\\frac{1}{2}\\right)\\right)$ \n",
      "                by theorem proveit.physics.quantum.QPE.deltaDiffInInterval\n",
      "              condition $l \\in \\{\\left( \\left(-\\left(2^{t - 1}\\right)\\right) + 1 \\right)\\ldots \\left(2^{t - 1}\\right)\\}$  assuming $l \\in \\{\\left( \\left(-\\left(2^{t - 1}\\right)\\right) + 1 \\right)\\ldots \\left(2^{t - 1}\\right)\\}$ \n",
      "          condition $0 \\in \\mathbb{R}$ \n",
      "            specializing $\\forall_{ a  \\in \\mathbb{N}} \\left(a \\in \\mathbb{R}\\right)$ \n",
      "              by theorem proveit.number.natural.inReals\n",
      "            condition $0 \\in \\mathbb{N}$ \n",
      "        condition $\\left(\\left(\\delta - \\frac{l}{2^{t}}\\right) \\notin \\mathbb{Z}\\right) \\in \\mathbb{B}$ \n",
      "          specializing $\\forall_{ a } \\left(\\left(a \\notin \\mathbb{Z}\\right) \\in \\mathbb{B}\\right)$ \n",
      "            by theorem proveit.number.integer.notInIntsIsBool\n",
      "        condition $\\left(\\left(\\delta - \\frac{l}{2^{t}}\\right) > 0\\right) \\in \\mathbb{B}$  assuming $l \\in \\{\\left( \\left(-\\left(2^{t - 1}\\right)\\right) + 1 \\right)\\ldots \\left(2^{t - 1}\\right)\\}$, $l \\neq 0$ \n",
      "          specializing $\\forall_{ a , b  \\in \\mathbb{R}} \\left(\\left(a > b\\right) \\in \\mathbb{B}\\right)$ \n",
      "            by theorem proveit.number.real.greaterThanInBools\n",
      "          condition $\\left(\\delta - \\frac{l}{2^{t}}\\right) \\in \\mathbb{R}$  assuming $l \\in \\{\\left( \\left(-\\left(2^{t - 1}\\right)\\right) + 1 \\right)\\ldots \\left(2^{t - 1}\\right)\\}$, $l \\neq 0$  proven above\n",
      "          condition $0 \\in \\mathbb{R}$  proven above\n",
      "      hypothesis $ \\left(\\left(\\left(\\delta - \\frac{l}{2^{t}}\\right) < 0\\right) \\Rightarrow \\left(\\left(\\delta - \\frac{l}{2^{t}}\\right) \\notin \\mathbb{Z}\\right)\\right) \\land \\left(\\left(\\left(\\delta - \\frac{l}{2^{t}}\\right) > 0\\right) \\Rightarrow \\left(\\left(\\delta - \\frac{l}{2^{t}}\\right) \\notin \\mathbb{Z}\\right)\\right) $  assuming $l \\in \\{\\left( \\left(-\\left(2^{t - 1}\\right)\\right) + 1 \\right)\\ldots \\left(2^{t - 1}\\right)\\}$, $l \\neq 0$ \n",
      "        specializing $\\forall_{ A , B ~|~ A , B } \\left( A \\land B \\right)$ \n",
      "          by theorem proveit.basiclogic.boolean.conjunctionIntro\n",
      "        condition $\\left(\\left(\\delta - \\frac{l}{2^{t}}\\right) < 0\\right) \\Rightarrow \\left(\\left(\\delta - \\frac{l}{2^{t}}\\right) \\notin \\mathbb{Z}\\right)$  assuming $l \\in \\{\\left( \\left(-\\left(2^{t - 1}\\right)\\right) + 1 \\right)\\ldots \\left(2^{t - 1}\\right)\\}$, $l \\neq 0$ \n",
      "          hypothetically reasoning $\\left(\\delta - \\frac{l}{2^{t}}\\right) \\notin \\mathbb{Z}$  assuming $l \\in \\{\\left( \\left(-\\left(2^{t - 1}\\right)\\right) + 1 \\right)\\ldots \\left(2^{t - 1}\\right)\\}$, $\\left(\\delta - \\frac{l}{2^{t}}\\right) < 0$, $l \\neq 0$ \n",
      "            specializing $\\forall_{ x  \\in \\left(\\left(-1\\right),0\\right)} \\left(x \\notin \\mathbb{Z}\\right)$ \n",
      "              implication $\\left[\\forall_{ x  \\in \\left(\\left(-1\\right),\\left( \\left(-1\\right) + 1 \\right)\\right)} \\left(x \\notin \\mathbb{Z}\\right)\\right] \\Rightarrow \\left[\\forall_{ x  \\in \\left(\\left(-1\\right),0\\right)} \\left(x \\notin \\mathbb{Z}\\right)\\right]$ \n",
      "                implication $\\left(\\left( \\left(-1\\right) + 1 \\right) = 0\\right) \\Rightarrow \\left(\\left[\\forall_{ x  \\in \\left(\\left(-1\\right),\\left( \\left(-1\\right) + 1 \\right)\\right)} \\left(x \\notin \\mathbb{Z}\\right)\\right] \\Rightarrow \\left[\\forall_{ x  \\in \\left(\\left(-1\\right),0\\right)} \\left(x \\notin \\mathbb{Z}\\right)\\right]\\right)$ \n",
      "                  specializing $\\forall_{ P , x , y } \\left(\\left(x = y\\right) \\Rightarrow \\left(P\\left( x \\right) \\Rightarrow P\\left( y \\right)\\right)\\right)$ \n",
      "                    by theorem proveit.basiclogic.equality.rhsSubstitution\n",
      "                hypothesis $\\left( \\left(-1\\right) + 1 \\right) = 0$ \n",
      "                  implication $\\left(\\left( \\left(-1\\right) + 1 \\right) = \\left(1 - 1\\right)\\right) \\Rightarrow \\left(\\left( \\left(-1\\right) + 1 \\right) = 0\\right)$ \n",
      "                    implication $\\left(\\left(1 - 1\\right) = 0\\right) \\Rightarrow \\left(\\left(\\left( \\left(-1\\right) + 1 \\right) = \\left(1 - 1\\right)\\right) \\Rightarrow \\left(\\left( \\left(-1\\right) + 1 \\right) = 0\\right)\\right)$ \n",
      "                      specializing $\\forall_{ P , x , y } \\left(\\left(x = y\\right) \\Rightarrow \\left(P\\left( x \\right) \\Rightarrow P\\left( y \\right)\\right)\\right)$  proven above\n",
      "                    hypothesis $\\left(1 - 1\\right) = 0$ \n",
      "                      specializing $\\forall_{ x  \\in \\mathbb{C}} \\left(\\left(x - x\\right) = 0\\right)$ \n",
      "                        by theorem proveit.number.complex.subtractCancelComplete\n",
      "                      condition $1 \\in \\mathbb{C}$ \n",
      "                        specializing $\\forall_{ a  \\in \\mathbb{N}^+} \\left(a \\in \\mathbb{C}\\right)$ \n",
      "                          by theorem proveit.number.natural.inNatPos_inComplexes\n",
      "                        condition $1 \\in \\mathbb{N}^+$  proven above\n",
      "                  hypothesis $\\left( \\left(-1\\right) + 1 \\right) = \\left(1 - 1\\right)$ \n",
      "                    implication $\\left(\\left( \\left(-1\\right) + 1 \\right) = \\left( 1 + \\left(-1\\right) \\right)\\right) \\Rightarrow \\left(\\left( \\left(-1\\right) + 1 \\right) = \\left(1 - 1\\right)\\right)$ \n",
      "                      implication $\\left(\\left( 1 + \\left(-1\\right) \\right) = \\left(1 - 1\\right)\\right) \\Rightarrow \\left(\\left(\\left( \\left(-1\\right) + 1 \\right) = \\left( 1 + \\left(-1\\right) \\right)\\right) \\Rightarrow \\left(\\left( \\left(-1\\right) + 1 \\right) = \\left(1 - 1\\right)\\right)\\right)$ \n",
      "                        specializing $\\forall_{ P , x , y } \\left(\\left(x = y\\right) \\Rightarrow \\left(P\\left( x \\right) \\Rightarrow P\\left( y \\right)\\right)\\right)$  proven above\n",
      "                      hypothesis $\\left( 1 + \\left(-1\\right) \\right) = \\left(1 - 1\\right)$ \n",
      "                        specializing $\\forall_{ x , y  \\in \\mathbb{C}} \\left(\\left( x + \\left(-y\\right) \\right) = \\left(x - y\\right)\\right)$ \n",
      "                          by theorem proveit.number.complex.addNegAsSubtract\n",
      "                        condition $1 \\in \\mathbb{C}$  proven above\n",
      "                    hypothesis $\\left( \\left(-1\\right) + 1 \\right) = \\left( 1 + \\left(-1\\right) \\right)$ \n",
      "                      specializing $\\forall_{~.., v_{\\Box} ,..., w_{\\Box} ,..., x_{\\Box} ,..., y_{\\Box} ,..., z_{\\Box} ,..~ \\in \\mathbb{C}} \\left(\\left(~..+ v_{\\Box} +...+ w_{\\Box} +...+ x_{\\Box} +...+ y_{\\Box} +...+ z_{\\Box} +..~\\right) = \\left(~..+ v_{\\Box} +...+ y_{\\Box} +...+ x_{\\Box} +...+ w_{\\Box} +...+ z_{\\Box} +..~\\right)\\right)$ \n",
      "                        by theorem proveit.number.complex.addComm\n",
      "                      condition $\\left(-1\\right) \\in \\mathbb{C}$ \n",
      "                        specializing $\\forall_{ a  \\in \\mathbb{Z}} \\left(a \\in \\mathbb{C}\\right)$ \n",
      "                          by theorem proveit.number.integer.inComplexes\n",
      "                        condition $\\left(-1\\right) \\in \\mathbb{Z}$ \n",
      "                          specializing $\\forall_{ a  \\in \\mathbb{Z}} \\left(\\left(-a\\right) \\in \\mathbb{Z}\\right)$ \n",
      "                            by theorem proveit.number.integer.negClosure\n",
      "                          condition $1 \\in \\mathbb{Z}$ \n",
      "                            specializing $\\forall_{ a  \\in \\mathbb{N}^+} \\left(a \\in \\mathbb{Z}\\right)$ \n",
      "                              by theorem proveit.number.natural.inNatPos_inIntegers\n",
      "                            condition $1 \\in \\mathbb{N}^+$  proven above\n",
      "                      condition $1 \\in \\mathbb{C}$  proven above\n",
      "              hypothesis $\\forall_{ x  \\in \\left(\\left(-1\\right),\\left( \\left(-1\\right) + 1 \\right)\\right)} \\left(x \\notin \\mathbb{Z}\\right)$ \n",
      "                specializing $\\forall_{ n  \\in \\mathbb{Z}} \\left[\\forall_{ x  \\in \\left(n,\\left( n + 1 \\right)\\right)} \\left(x \\notin \\mathbb{Z}\\right)\\right]$ \n",
      "                  by theorem proveit.number.real.notIntIfBetweenSuccessiveInts\n",
      "                condition $\\left(-1\\right) \\in \\mathbb{Z}$  proven above\n",
      "            condition $\\left(\\delta - \\frac{l}{2^{t}}\\right) \\in \\left(\\left(-1\\right),0\\right)$  assuming $l \\in \\{\\left( \\left(-\\left(2^{t - 1}\\right)\\right) + 1 \\right)\\ldots \\left(2^{t - 1}\\right)\\}$, $\\left(\\delta - \\frac{l}{2^{t}}\\right) < 0$, $l \\neq 0$ \n",
      "              specializing $\\forall_{ a , b , x  \\in \\mathbb{R}~|~ \\left(a < x\\right) , \\left(x < b\\right) } \\left(x \\in \\left(a,b\\right)\\right)$ \n",
      "                by theorem proveit.number.real.inIntervalOO\n",
      "              condition $\\left(-1\\right) < \\left(\\delta - \\frac{l}{2^{t}}\\right)$  assuming $l \\in \\{\\left( \\left(-\\left(2^{t - 1}\\right)\\right) + 1 \\right)\\ldots \\left(2^{t - 1}\\right)\\}$, $l \\neq 0$ \n",
      "                implication $\\left(\\left(-1\\right) < \\left(-\\frac{1}{2}\\right)\\right) \\Rightarrow \\left(\\left(-1\\right) < \\left(\\delta - \\frac{l}{2^{t}}\\right)\\right)$  assuming $l \\in \\{\\left( \\left(-\\left(2^{t - 1}\\right)\\right) + 1 \\right)\\ldots \\left(2^{t - 1}\\right)\\}$, $l \\neq 0$ \n",
      "                  implication $\\left(\\left(-\\frac{1}{2}\\right) \\leq \\left(\\delta - \\frac{l}{2^{t}}\\right)\\right) \\Rightarrow \\left(\\left(\\left(-1\\right) < \\left(-\\frac{1}{2}\\right)\\right) \\Rightarrow \\left(\\left(-1\\right) < \\left(\\delta - \\frac{l}{2^{t}}\\right)\\right)\\right)$ \n",
      "                    specializing $\\forall_{ x , y , z } \\left(\\left(x \\leq y\\right) \\Rightarrow \\left(\\left(z < x\\right) \\Rightarrow \\left(z < y\\right)\\right)\\right)$ \n",
      "                      by axiom proveit.number.lessThanEqualsTransLessThanLeft\n",
      "                  hypothesis $\\left(-\\frac{1}{2}\\right) \\leq \\left(\\delta - \\frac{l}{2^{t}}\\right)$  assuming $l \\in \\{\\left( \\left(-\\left(2^{t - 1}\\right)\\right) + 1 \\right)\\ldots \\left(2^{t - 1}\\right)\\}$, $l \\neq 0$ \n",
      "                    specializing $\\forall_{ x  \\in \\left[\\left(-\\frac{1}{2}\\right),\\frac{1}{2}\\right)} \\left(\\left(-\\frac{1}{2}\\right) \\leq x\\right)$ \n",
      "                      specializing $\\forall_{ a , b  \\in \\mathbb{R}} \\left[\\forall_{ x  \\in \\left[a,b\\right)} \\left(a \\leq x\\right)\\right]$ \n",
      "                        by theorem proveit.number.real.intervalCOLowerBound\n",
      "                      condition $\\frac{1}{2} \\in \\mathbb{R}$  proven above\n",
      "                      condition $\\left(-\\frac{1}{2}\\right) \\in \\mathbb{R}$  proven above\n",
      "                    condition $\\left(\\delta - \\frac{l}{2^{t}}\\right) \\in \\left[\\left(-\\frac{1}{2}\\right),\\frac{1}{2}\\right)$  assuming $l \\in \\{\\left( \\left(-\\left(2^{t - 1}\\right)\\right) + 1 \\right)\\ldots \\left(2^{t - 1}\\right)\\}$, $l \\neq 0$  proven above\n",
      "                hypothesis $\\left(-1\\right) < \\left(-\\frac{1}{2}\\right)$ \n",
      "                  implication $\\left(\\left(-\\frac{1}{2}\\right) > \\left(-1\\right)\\right) \\Rightarrow \\left(\\left(-1\\right) < \\left(-\\frac{1}{2}\\right)\\right)$ \n",
      "                    specializing $\\forall_{ x , y } \\left(\\left(x > y\\right) \\Rightarrow \\left(y < x\\right)\\right)$ \n",
      "                      by axiom proveit.number.reverseGreaterThan\n",
      "                  hypothesis $\\left(-\\frac{1}{2}\\right) > \\left(-1\\right)$ \n",
      "                    specializing $\\forall_{ a , b  \\in \\mathbb{R}~|~ \\left(a < b\\right) } \\left(\\left(-a\\right) > \\left(-b\\right)\\right)$ \n",
      "                      by theorem proveit.number.real.negatedLessThan\n",
      "                    condition $1 \\in \\mathbb{R}$ \n",
      "                      specializing $\\forall_{ a  \\in \\mathbb{N}^+} \\left(a \\in \\mathbb{R}\\right)$  proven above\n",
      "                      condition $1 \\in \\mathbb{N}^+$  proven above\n",
      "                    condition $\\frac{1}{2} \\in \\mathbb{R}$  proven above\n",
      "                    condition $\\frac{1}{2} < 1$ \n",
      "                      implication $\\left(\\frac{1}{2} < \\frac{2}{2}\\right) \\Rightarrow \\left(\\frac{1}{2} < 1\\right)$ \n",
      "                        implication $\\left(\\frac{2}{2} = 1\\right) \\Rightarrow \\left(\\left(\\frac{1}{2} < \\frac{2}{2}\\right) \\Rightarrow \\left(\\frac{1}{2} < 1\\right)\\right)$ \n",
      "                          specializing $\\forall_{ P , x , y } \\left(\\left(x = y\\right) \\Rightarrow \\left(P\\left( x \\right) \\Rightarrow P\\left( y \\right)\\right)\\right)$  proven above\n",
      "                        hypothesis $\\frac{2}{2} = 1$ \n",
      "                          specializing $\\forall_{ x  \\in \\mathbb{C}~|~ \\left(x \\neq 0\\right) } \\left(\\frac{x}{x} = 1\\right)$ \n",
      "                            by theorem proveit.number.complex.fracCancelComplete\n",
      "                          condition $2 \\in \\mathbb{C}$ \n",
      "                            specializing $\\forall_{ a  \\in \\mathbb{N}^+} \\left(a \\in \\mathbb{C}\\right)$  proven above\n",
      "                            condition $2 \\in \\mathbb{N}^+$  proven above\n",
      "                          condition $2 \\neq 0$  proven above\n",
      "                      hypothesis $\\frac{1}{2} < \\frac{2}{2}$ \n",
      "                        specializing $\\forall_{ a , b , c  \\in \\mathbb{R}~|~ \\left(a < c\\right) , \\left(b > 0\\right) } \\left(\\frac{a}{b} < \\frac{c}{b}\\right)$ \n",
      "                          by theorem proveit.number.real.divIneqThm1strong\n",
      "                        condition $1 < 2$ \n",
      "                          implication $\\left(2 > 1\\right) \\Rightarrow \\left(1 < 2\\right)$ \n",
      "                            specializing $\\forall_{ x , y } \\left(\\left(x > y\\right) \\Rightarrow \\left(y < x\\right)\\right)$  proven above\n",
      "                          hypothesis $2 > 1$ \n",
      "                            implication $\\left(\\left( 1 + 1 \\right) > 1\\right) \\Rightarrow \\left(2 > 1\\right)$ \n",
      "                              implication $\\left(\\left( 1 + 1 \\right) = 2\\right) \\Rightarrow \\left(\\left(\\left( 1 + 1 \\right) > 1\\right) \\Rightarrow \\left(2 > 1\\right)\\right)$ \n",
      "                                specializing $\\forall_{ P , x , y } \\left(\\left(x = y\\right) \\Rightarrow \\left(P\\left( x \\right) \\Rightarrow P\\left( y \\right)\\right)\\right)$  proven above\n",
      "                              hypothesis $\\left( 1 + 1 \\right) = 2$ \n",
      "                                by axiom proveit.number.natural.oneAddOne\n",
      "                            hypothesis $\\left( 1 + 1 \\right) > 1$ \n",
      "                              specializing $\\forall_{ b  \\in \\mathbb{R}} \\left(\\left( b + 1 \\right) > b\\right)$ \n",
      "                                specializing $\\forall_{~.., a_{\\Box} ,..., c_{\\Box} ,..~ \\in \\mathbb{R}^+} \\left[\\forall_{ b  \\in \\mathbb{R}} \\left(\\left(~..+ a_{\\Box} +..~+ b +~..+ c_{\\Box} +..~\\right) > b\\right)\\right]$ \n",
      "                                  by theorem proveit.number.real.strictlyIncreasingAdditions\n",
      "                                condition $1 \\in \\mathbb{R}^+$  proven above\n",
      "                              condition $1 \\in \\mathbb{R}$  proven above\n",
      "                        condition $2 \\in \\mathbb{R}$  proven above\n",
      "                        condition $1 \\in \\mathbb{R}$  proven above\n",
      "                        condition $2 > 0$  proven above\n",
      "              condition $\\left(\\delta - \\frac{l}{2^{t}}\\right) < 0$  assuming $\\left(\\delta - \\frac{l}{2^{t}}\\right) < 0$ \n",
      "              condition $\\left(\\delta - \\frac{l}{2^{t}}\\right) \\in \\mathbb{R}$  assuming $l \\in \\{\\left( \\left(-\\left(2^{t - 1}\\right)\\right) + 1 \\right)\\ldots \\left(2^{t - 1}\\right)\\}$, $l \\neq 0$  proven above\n",
      "              condition $0 \\in \\mathbb{R}$  proven above\n",
      "              condition $\\left(-1\\right) \\in \\mathbb{R}$ \n",
      "                specializing $\\forall_{ a  \\in \\mathbb{Z}} \\left(a \\in \\mathbb{R}\\right)$ \n",
      "                  by theorem proveit.number.integer.inReals\n",
      "                condition $\\left(-1\\right) \\in \\mathbb{Z}$  proven above\n",
      "        condition $\\left(\\left(\\delta - \\frac{l}{2^{t}}\\right) > 0\\right) \\Rightarrow \\left(\\left(\\delta - \\frac{l}{2^{t}}\\right) \\notin \\mathbb{Z}\\right)$  assuming $l \\in \\{\\left( \\left(-\\left(2^{t - 1}\\right)\\right) + 1 \\right)\\ldots \\left(2^{t - 1}\\right)\\}$, $l \\neq 0$ \n",
      "          hypothetically reasoning $\\left(\\delta - \\frac{l}{2^{t}}\\right) \\notin \\mathbb{Z}$  assuming $l \\in \\{\\left( \\left(-\\left(2^{t - 1}\\right)\\right) + 1 \\right)\\ldots \\left(2^{t - 1}\\right)\\}$, $\\left(\\delta - \\frac{l}{2^{t}}\\right) > 0$, $l \\neq 0$ \n",
      "            specializing $\\forall_{ x  \\in \\left(0,1\\right)} \\left(x \\notin \\mathbb{Z}\\right)$ \n",
      "              implication $\\left[\\forall_{ x  \\in \\left(0,\\left( 0 + 1 \\right)\\right)} \\left(x \\notin \\mathbb{Z}\\right)\\right] \\Rightarrow \\left[\\forall_{ x  \\in \\left(0,1\\right)} \\left(x \\notin \\mathbb{Z}\\right)\\right]$ \n",
      "                implication $\\left(\\left( 0 + 1 \\right) = 1\\right) \\Rightarrow \\left(\\left[\\forall_{ x  \\in \\left(0,\\left( 0 + 1 \\right)\\right)} \\left(x \\notin \\mathbb{Z}\\right)\\right] \\Rightarrow \\left[\\forall_{ x  \\in \\left(0,1\\right)} \\left(x \\notin \\mathbb{Z}\\right)\\right]\\right)$ \n",
      "                  specializing $\\forall_{ P , x , y } \\left(\\left(x = y\\right) \\Rightarrow \\left(P\\left( x \\right) \\Rightarrow P\\left( y \\right)\\right)\\right)$  proven above\n",
      "                hypothesis $\\left( 0 + 1 \\right) = 1$ \n",
      "                  by axiom proveit.number.natural.zeroAddOne\n",
      "              hypothesis $\\forall_{ x  \\in \\left(0,\\left( 0 + 1 \\right)\\right)} \\left(x \\notin \\mathbb{Z}\\right)$ \n",
      "                specializing $\\forall_{ n  \\in \\mathbb{Z}} \\left[\\forall_{ x  \\in \\left(n,\\left( n + 1 \\right)\\right)} \\left(x \\notin \\mathbb{Z}\\right)\\right]$  proven above\n",
      "                condition $0 \\in \\mathbb{Z}$ \n",
      "                  specializing $\\forall_{ a  \\in \\mathbb{N}} \\left(a \\in \\mathbb{Z}\\right)$ \n",
      "                    by theorem proveit.number.natural.inIntegers\n",
      "                  condition $0 \\in \\mathbb{N}$  proven above\n",
      "            condition $\\left(\\delta - \\frac{l}{2^{t}}\\right) \\in \\left(0,1\\right)$  assuming $l \\in \\{\\left( \\left(-\\left(2^{t - 1}\\right)\\right) + 1 \\right)\\ldots \\left(2^{t - 1}\\right)\\}$, $\\left(\\delta - \\frac{l}{2^{t}}\\right) > 0$, $l \\neq 0$ \n",
      "              specializing $\\forall_{ a , b , x  \\in \\mathbb{R}~|~ \\left(a < x\\right) , \\left(x < b\\right) } \\left(x \\in \\left(a,b\\right)\\right)$  proven above\n",
      "              condition $1 \\in \\mathbb{R}$  proven above\n",
      "              condition $\\left(\\delta - \\frac{l}{2^{t}}\\right) < 1$  assuming $l \\in \\{\\left( \\left(-\\left(2^{t - 1}\\right)\\right) + 1 \\right)\\ldots \\left(2^{t - 1}\\right)\\}$, $l \\neq 0$ \n",
      "                implication $\\left(\\frac{1}{2} < 1\\right) \\Rightarrow \\left(\\left(\\delta - \\frac{l}{2^{t}}\\right) < 1\\right)$  assuming $l \\in \\{\\left( \\left(-\\left(2^{t - 1}\\right)\\right) + 1 \\right)\\ldots \\left(2^{t - 1}\\right)\\}$, $l \\neq 0$ \n",
      "                  implication $\\left(\\left(\\delta - \\frac{l}{2^{t}}\\right) < \\frac{1}{2}\\right) \\Rightarrow \\left(\\left(\\frac{1}{2} < 1\\right) \\Rightarrow \\left(\\left(\\delta - \\frac{l}{2^{t}}\\right) < 1\\right)\\right)$ \n",
      "                    specializing $\\forall_{ x , y , z } \\left(\\left(x < y\\right) \\Rightarrow \\left(\\left(y < z\\right) \\Rightarrow \\left(x < z\\right)\\right)\\right)$ \n",
      "                      by axiom proveit.number.lessThanTransLessThanRight\n",
      "                  hypothesis $\\left(\\delta - \\frac{l}{2^{t}}\\right) < \\frac{1}{2}$  assuming $l \\in \\{\\left( \\left(-\\left(2^{t - 1}\\right)\\right) + 1 \\right)\\ldots \\left(2^{t - 1}\\right)\\}$, $l \\neq 0$ \n",
      "                    specializing $\\forall_{ x  \\in \\left[\\left(-\\frac{1}{2}\\right),\\frac{1}{2}\\right)} \\left(x < \\frac{1}{2}\\right)$ \n",
      "                      specializing $\\forall_{ a , b  \\in \\mathbb{R}} \\left[\\forall_{ x  \\in \\left[a,b\\right)} \\left(x < b\\right)\\right]$ \n",
      "                        by theorem proveit.number.real.intervalCOUpperBound\n",
      "                      condition $\\frac{1}{2} \\in \\mathbb{R}$  proven above\n",
      "                      condition $\\left(-\\frac{1}{2}\\right) \\in \\mathbb{R}$  proven above\n",
      "                    condition $\\left(\\delta - \\frac{l}{2^{t}}\\right) \\in \\left[\\left(-\\frac{1}{2}\\right),\\frac{1}{2}\\right)$  assuming $l \\in \\{\\left( \\left(-\\left(2^{t - 1}\\right)\\right) + 1 \\right)\\ldots \\left(2^{t - 1}\\right)\\}$, $l \\neq 0$  proven above\n",
      "                hypothesis $\\frac{1}{2} < 1$  proven above\n",
      "              condition $0 < \\left(\\delta - \\frac{l}{2^{t}}\\right)$  assuming $\\left(\\delta - \\frac{l}{2^{t}}\\right) > 0$ \n",
      "                implication $\\left(\\left(\\delta - \\frac{l}{2^{t}}\\right) > 0\\right) \\Rightarrow \\left(0 < \\left(\\delta - \\frac{l}{2^{t}}\\right)\\right)$ \n",
      "                  specializing $\\forall_{ x , y } \\left(\\left(x > y\\right) \\Rightarrow \\left(y < x\\right)\\right)$  proven above\n",
      "                hypothesis $\\left(\\delta - \\frac{l}{2^{t}}\\right) > 0$  assuming $\\left(\\delta - \\frac{l}{2^{t}}\\right) > 0$ \n",
      "              condition $0 \\in \\mathbb{R}$  proven above\n",
      "              condition $\\left(\\delta - \\frac{l}{2^{t}}\\right) \\in \\mathbb{R}$  assuming $l \\in \\{\\left( \\left(-\\left(2^{t - 1}\\right)\\right) + 1 \\right)\\ldots \\left(2^{t - 1}\\right)\\}$, $l \\neq 0$  proven above\n",
      "    hypothesis $ \\left(\\left(\\delta - \\frac{l}{2^{t}}\\right) < 0\\right) \\lor \\left(\\left(\\delta - \\frac{l}{2^{t}}\\right) > 0\\right) $  assuming $l \\in \\{\\left( \\left(-\\left(2^{t - 1}\\right)\\right) + 1 \\right)\\ldots \\left(2^{t - 1}\\right)\\}$, $l \\neq 0$ \n",
      "      specializing $\\forall_{ a , x  \\in \\mathbb{R}~|~ \\left(x \\neq a\\right) } \\left( \\left(x < a\\right) \\lor \\left(x > a\\right) \\right)$ \n",
      "        by theorem proveit.number.real.notEqualsIsLessThanOrGreaterThan\n",
      "      condition $\\left(\\delta - \\frac{l}{2^{t}}\\right) \\neq 0$  assuming $l \\in \\{\\left( \\left(-\\left(2^{t - 1}\\right)\\right) + 1 \\right)\\ldots \\left(2^{t - 1}\\right)\\}$, $l \\neq 0$ \n",
      "        implication $\\left(\\delta \\neq \\frac{l}{2^{t}}\\right) \\Rightarrow \\left(\\left(\\delta - \\frac{l}{2^{t}}\\right) \\neq 0\\right)$  assuming $l \\in \\{\\left( \\left(-\\left(2^{t - 1}\\right)\\right) + 1 \\right)\\ldots \\left(2^{t - 1}\\right)\\}$, $l \\neq 0$ \n",
      "          implication $\\left(\\left(\\delta \\neq \\frac{l}{2^{t}}\\right) \\Leftrightarrow \\left(\\left(\\delta - \\frac{l}{2^{t}}\\right) \\neq 0\\right)\\right) \\Rightarrow \\left(\\left(\\delta \\neq \\frac{l}{2^{t}}\\right) \\Rightarrow \\left(\\left(\\delta - \\frac{l}{2^{t}}\\right) \\neq 0\\right)\\right)$ \n",
      "            specializing $\\forall_{ A , B } \\left(\\left(A \\Leftrightarrow B\\right) \\Rightarrow \\left(A \\Rightarrow B\\right)\\right)$  proven above\n",
      "          hypothesis $\\left(\\delta \\neq \\frac{l}{2^{t}}\\right) \\Leftrightarrow \\left(\\left(\\delta - \\frac{l}{2^{t}}\\right) \\neq 0\\right)$  assuming $l \\in \\{\\left( \\left(-\\left(2^{t - 1}\\right)\\right) + 1 \\right)\\ldots \\left(2^{t - 1}\\right)\\}$, $l \\neq 0$ \n",
      "            specializing $\\forall_{ a , b  \\in \\mathbb{C}} \\left(\\left(a \\neq b\\right) \\Leftrightarrow \\left(\\left(a - b\\right) \\neq 0\\right)\\right)$ \n",
      "              by theorem proveit.number.complex.notEq_iff_diffNotZero\n",
      "            condition $\\frac{l}{2^{t}} \\in \\mathbb{C}$  assuming $l \\in \\{\\left( \\left(-\\left(2^{t - 1}\\right)\\right) + 1 \\right)\\ldots \\left(2^{t - 1}\\right)\\}$, $l \\neq 0$ \n",
      "              specializing $\\forall_{ a  \\in \\mathbb{R}} \\left(a \\in \\mathbb{C}\\right)$ \n",
      "                by theorem proveit.number.real.inComplexes\n",
      "              condition $\\frac{l}{2^{t}} \\in \\mathbb{R}$  assuming $l \\in \\{\\left( \\left(-\\left(2^{t - 1}\\right)\\right) + 1 \\right)\\ldots \\left(2^{t - 1}\\right)\\}$, $l \\neq 0$ \n",
      "                specializing $\\forall_{ a , b  \\in \\mathbb{R}~|~ \\left(b \\neq 0\\right) } \\left(\\frac{a}{b} \\in \\mathbb{R}\\right)$ \n",
      "                  by theorem proveit.number.real.fractionClosure\n",
      "                condition $\\left(2^{t}\\right) \\in \\mathbb{R}$ \n",
      "                  specializing $\\forall_{ a  \\in \\mathbb{N}^+} \\left(a \\in \\mathbb{R}\\right)$  proven above\n",
      "                  condition $\\left(2^{t}\\right) \\in \\mathbb{N}^+$ \n",
      "                    by theorem proveit.physics.quantum.QPE.two_pow_t_in_posnats\n",
      "                condition $l \\in \\mathbb{R}$  assuming $l \\in \\{\\left( \\left(-\\left(2^{t - 1}\\right)\\right) + 1 \\right)\\ldots \\left(2^{t - 1}\\right)\\}$, $l \\neq 0$ \n",
      "                  specializing $\\forall_{ a  \\in \\mathbb{Z}} \\left(a \\in \\mathbb{R}\\right)$  proven above\n",
      "                  condition $l \\in \\mathbb{Z}$  assuming $l \\in \\{\\left( \\left(-\\left(2^{t - 1}\\right)\\right) + 1 \\right)\\ldots \\left(2^{t - 1}\\right)\\}$, $l \\neq 0$ \n",
      "                    specializing $\\forall_{ n  \\in \\{\\left( \\left(-\\left(2^{t - 1}\\right)\\right) + 1 \\right)\\ldots \\left(2^{t - 1}\\right)\\}} \\left(n \\in \\mathbb{Z}\\right)$ \n",
      "                      specializing $\\forall_{ a , b  \\in \\mathbb{Z}} \\left[\\forall_{ n  \\in \\{a\\ldots b\\}} \\left(n \\in \\mathbb{Z}\\right)\\right]$ \n",
      "                        by theorem proveit.number.integer.allInDiscreteInterval_InInts\n",
      "                      condition $\\left(2^{t - 1}\\right) \\in \\mathbb{Z}$ \n",
      "                        specializing $\\forall_{ a  \\in \\mathbb{N}^+} \\left(a \\in \\mathbb{Z}\\right)$  proven above\n",
      "                        condition $\\left(2^{t - 1}\\right) \\in \\mathbb{N}^+$ \n",
      "                          by theorem proveit.physics.quantum.QPE.two_pow_tMinusOne_in_posnats\n",
      "                      condition $\\left( \\left(-\\left(2^{t - 1}\\right)\\right) + 1 \\right) \\in \\mathbb{Z}$ \n",
      "                        specializing $\\forall_{~.., x_{\\Box} ,..~ \\in \\mathbb{Z}} \\left(\\left(~..+ x_{\\Box} +..~\\right) \\in \\mathbb{Z}\\right)$ \n",
      "                          by theorem proveit.number.integer.addClosure\n",
      "                        condition $1 \\in \\mathbb{Z}$  proven above\n",
      "                        condition $\\left(-\\left(2^{t - 1}\\right)\\right) \\in \\mathbb{Z}$ \n",
      "                          specializing $\\forall_{ a  \\in \\mathbb{Z}} \\left(\\left(-a\\right) \\in \\mathbb{Z}\\right)$  proven above\n",
      "                          condition $\\left(2^{t - 1}\\right) \\in \\mathbb{Z}$  proven above\n",
      "                    condition $l \\in \\{\\left( \\left(-\\left(2^{t - 1}\\right)\\right) + 1 \\right)\\ldots \\left(2^{t - 1}\\right)\\}$  assuming $l \\in \\{\\left( \\left(-\\left(2^{t - 1}\\right)\\right) + 1 \\right)\\ldots \\left(2^{t - 1}\\right)\\}$  proven above\n",
      "                condition $\\left(2^{t}\\right) \\neq 0$ \n",
      "                  specializing $\\forall_{ a  \\in \\mathbb{R}~|~ \\left(a > 0\\right) } \\left(a \\neq 0\\right)$  proven above\n",
      "                  condition $\\left(2^{t}\\right) \\in \\mathbb{R}$  proven above\n",
      "                  condition $\\left(2^{t}\\right) > 0$ \n",
      "                    implication $\\left(\\left(2^{t}\\right) \\in \\mathbb{R}^+\\right) \\Rightarrow \\left(\\left(2^{t}\\right) > 0\\right)$ \n",
      "                      implication $\\left(\\left(\\left(2^{t}\\right) \\in \\mathbb{R}^+\\right) \\Leftrightarrow \\left(\\left(2^{t}\\right) > 0\\right)\\right) \\Rightarrow \\left(\\left(\\left(2^{t}\\right) \\in \\mathbb{R}^+\\right) \\Rightarrow \\left(\\left(2^{t}\\right) > 0\\right)\\right)$ \n",
      "                        specializing $\\forall_{ A , B } \\left(\\left(A \\Leftrightarrow B\\right) \\Rightarrow \\left(A \\Rightarrow B\\right)\\right)$  proven above\n",
      "                      hypothesis $\\left(\\left(2^{t}\\right) \\in \\mathbb{R}^+\\right) \\Leftrightarrow \\left(\\left(2^{t}\\right) > 0\\right)$ \n",
      "                        specializing $\\forall_{ a  \\in \\mathbb{R}} \\left(\\left(a \\in \\mathbb{R}^+\\right) \\Leftrightarrow \\left(a > 0\\right)\\right)$  proven above\n",
      "                        condition $\\left(2^{t}\\right) \\in \\mathbb{R}$  proven above\n",
      "                    hypothesis $\\left(2^{t}\\right) \\in \\mathbb{R}^+$ \n",
      "                      specializing $\\forall_{ a  \\in \\mathbb{N}^+} \\left(a \\in \\mathbb{R}^+\\right)$  proven above\n",
      "                      condition $\\left(2^{t}\\right) \\in \\mathbb{N}^+$  proven above\n",
      "            condition $\\delta \\in \\mathbb{C}$ \n",
      "              specializing $\\forall_{ a  \\in \\mathbb{R}} \\left(a \\in \\mathbb{C}\\right)$  proven above\n",
      "              condition $\\delta \\in \\mathbb{R}$ \n",
      "                by theorem proveit.physics.quantum.QPE.deltaInReals\n",
      "        hypothesis $\\delta \\neq \\frac{l}{2^{t}}$  assuming $l \\in \\{\\left( \\left(-\\left(2^{t - 1}\\right)\\right) + 1 \\right)\\ldots \\left(2^{t - 1}\\right)\\}$, $l \\neq 0$ \n",
      "          specializing $\\forall_{ l  \\in \\mathbb{Z}~|~ \\left(l \\neq 0\\right) } \\left(\\delta \\neq \\frac{l}{2^{t}}\\right)$ \n",
      "            by theorem proveit.physics.quantum.QPE.delta_notEq_scaledNonzeroInt\n",
      "          condition $l \\in \\mathbb{Z}$  assuming $l \\in \\{\\left( \\left(-\\left(2^{t - 1}\\right)\\right) + 1 \\right)\\ldots \\left(2^{t - 1}\\right)\\}$, $l \\neq 0$  proven above\n",
      "          condition $l \\neq 0$  assuming $l \\neq 0$ \n",
      "      condition $\\left(\\delta - \\frac{l}{2^{t}}\\right) \\in \\mathbb{R}$  assuming $l \\in \\{\\left( \\left(-\\left(2^{t - 1}\\right)\\right) + 1 \\right)\\ldots \\left(2^{t - 1}\\right)\\}$, $l \\neq 0$  proven above\n",
      "      condition $0 \\in \\mathbb{R}$  proven above\n",
      "proveit.number.lessThanEqualsTransLessThanLeft\n",
      "proveit.number.lessThanTransLessThanRight\n",
      "proveit.number.natural.oneAddOne\n",
      "proveit.number.natural.zeroAddOne\n",
      "proveit.number.reverseGreaterThan\n",
      "proveit.basiclogic.boolean.conjunctionIntro\n",
      "proveit.basiclogic.boolean.hypotheticalDisjunction\n",
      "proveit.basiclogic.boolean.iffImpliesRight\n",
      "proveit.basiclogic.equality.rhsSubstitution\n",
      "proveit.number.complex.addComm\n",
      "proveit.number.complex.addNegAsSubtract\n",
      "proveit.number.complex.fracCancelComplete\n",
      "proveit.number.complex.notEq_iff_diffNotZero\n",
      "proveit.number.complex.subtractCancelComplete\n",
      "proveit.number.integer.addClosure\n",
      "proveit.number.integer.allInDiscreteInterval_InInts\n",
      "proveit.number.integer.inComplexes\n",
      "proveit.number.integer.inReals\n",
      "proveit.number.integer.negClosure\n",
      "proveit.number.integer.notInIntsIsBool\n",
      "proveit.number.natural.inIntegers\n",
      "proveit.number.natural.inNatPos_inComplexes\n",
      "proveit.number.natural.inNatPos_inIntegers\n",
      "proveit.number.natural.inNatPos_inReals\n",
      "proveit.number.natural.inNatPos_inRealsPos\n",
      "proveit.number.natural.inReals\n",
      "proveit.number.natural.twoInNaturalsPos\n",
      "proveit.number.real.allInIntervalCO_InReals\n",
      "proveit.number.real.divIneqThm1strong\n",
      "proveit.number.real.fractionClosure\n",
      "proveit.number.real.fractionPosClosure\n",
      "proveit.number.real.greaterThanInBools\n",
      "proveit.number.real.inComplexes\n",
      "proveit.number.real.inIntervalOO\n",
      "proveit.number.real.inRealsPos_iff_positive\n",
      "proveit.number.real.inRealsPos_inReals\n",
      "proveit.number.real.intervalCOLowerBound\n",
      "proveit.number.real.intervalCOUpperBound\n",
      "proveit.number.real.lessThanInBools\n",
      "proveit.number.real.negClosure\n",
      "proveit.number.real.negatedLessThan\n",
      "proveit.number.real.notEqualsIsLessThanOrGreaterThan\n",
      "proveit.number.real.notIntIfBetweenSuccessiveInts\n",
      "proveit.number.real.positive_implies_notzero\n",
      "proveit.number.real.strictlyIncreasingAdditions\n",
      "proveit.physics.quantum.QPE.deltaDiffInInterval\n",
      "proveit.physics.quantum.QPE.deltaInReals\n",
      "proveit.physics.quantum.QPE.delta_notEq_scaledNonzeroInt\n",
      "proveit.physics.quantum.QPE.two_pow_tMinusOne_in_posnats\n",
      "proveit.physics.quantum.QPE.two_pow_t_in_posnats\n",
      "Number of used axioms: 5\n",
      "Number of used theorms: 45\n",
      "Number of derivation tree nodes: 159\n"
     ]
    },
    {
     "data": {
      "text/plain": [
       "$\\forall_{ l  \\in \\{\\left( \\left(-\\left(2^{t - 1}\\right)\\right) + 1 \\right)\\ldots \\left(2^{t - 1}\\right)\\}~|~ \\left(l \\neq 0\\right) } \\left(\\left(\\delta - \\frac{l}{2^{t}}\\right) \\notin \\mathbb{Z}\\right)$"
      ]
     },
     "execution_count": 41,
     "metadata": {},
     "output_type": "execute_result"
    }
   ],
   "source": [
    "notInInts.generalize(l, domain=fullDomain, conditions=[NotEquals(l, zero)]).qed()"
   ]
  },
  {
   "cell_type": "code",
   "execution_count": null,
   "metadata": {
    "collapsed": true,
    "deletable": true,
    "editable": true
   },
   "outputs": [],
   "source": []
  },
  {
   "cell_type": "code",
   "execution_count": null,
   "metadata": {
    "collapsed": true,
    "deletable": true,
    "editable": true
   },
   "outputs": [],
   "source": []
  }
 ],
 "metadata": {
  "kernelspec": {
   "display_name": "Python 3",
   "language": "python",
   "name": "python3"
  },
  "language_info": {
   "codemirror_mode": {
    "name": "ipython",
    "version": 3
   },
   "file_extension": ".py",
   "mimetype": "text/x-python",
   "name": "python",
   "nbconvert_exporter": "python",
   "pygments_lexer": "ipython3"
  }
 },
 "nbformat": 4,
 "nbformat_minor": 0
}
