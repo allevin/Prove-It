{
 "cells": [
  {
   "cell_type": "code",
   "execution_count": 1,
   "metadata": {
    "collapsed": false
   },
   "outputs": [],
   "source": [
    "from proveit.basiclogic import In, autoSubstitute\n",
    "from proveit.physics.quantum.QPE.theorems import alpha_l_summed_abs, alpha_l_summed, two_pow_t_in_posnats, deltaInReals\n",
    "from proveit.physics.quantum.QPE.common import two_pow_t\n",
    "from proveit.common import l, X\n",
    "from proveit.number import Abs, Fraction, Multiply\n",
    "from proveit.number.common import one\n",
    "from proveit.number.numberSets import Integers, deducePositive"
   ]
  },
  {
   "cell_type": "code",
   "execution_count": 2,
   "metadata": {
    "collapsed": false
   },
   "outputs": [
    {
     "data": {
      "text/latex": [
       "$\\forall_{ l  \\in \\mathbb{Z}} \\left(\\left|\\alpha_{l}\\right| = \\frac{\\left|1 - e^{ 2 \\cdot \\pi \\cdot i \\cdot \\left(\\left( 2^{t} \\cdot \\delta \\right) - l\\right) }\\right|}{ 2^{t} \\cdot \\left|\\left(1 - e^{ 2 \\cdot \\pi \\cdot i \\cdot \\left(\\delta - \\frac{l}{2^{t}}\\right) }\\right)\\right| }\\right)$"
      ],
      "text/plain": [
       "$\\forall_{ l  \\in \\mathbb{Z}} \\left(\\left|\\alpha_{l}\\right| = \\frac{\\left|1 - e^{ 2 \\cdot \\pi \\cdot i \\cdot \\left(\\left( 2^{t} \\cdot \\delta \\right) - l\\right) }\\right|}{ 2^{t} \\cdot \\left|\\left(1 - e^{ 2 \\cdot \\pi \\cdot i \\cdot \\left(\\delta - \\frac{l}{2^{t}}\\right) }\\right)\\right| }\\right)$"
      ]
     },
     "execution_count": 2,
     "metadata": {},
     "output_type": "execute_result"
    }
   ],
   "source": [
    "alpha_l_summed_abs.beginProof()"
   ]
  },
  {
   "cell_type": "code",
   "execution_count": 3,
   "metadata": {
    "collapsed": false
   },
   "outputs": [
    {
     "data": {
      "text/latex": [
       "$\\forall_{ l  \\in \\mathbb{Z}} \\left(\\alpha_{l} = \\left( \\frac{1}{2^{t}} \\cdot \\frac{1 - e^{ 2 \\cdot \\pi \\cdot i \\cdot \\left(\\left( 2^{t} \\cdot \\delta \\right) - l\\right) }}{1 - e^{ 2 \\cdot \\pi \\cdot i \\cdot \\left(\\delta - \\frac{l}{2^{t}}\\right) }} \\right)\\right)$"
      ],
      "text/plain": [
       "$\\forall_{ l  \\in \\mathbb{Z}} \\left(\\alpha_{l} = \\left( \\frac{1}{2^{t}} \\cdot \\frac{1 - e^{ 2 \\cdot \\pi \\cdot i \\cdot \\left(\\left( 2^{t} \\cdot \\delta \\right) - l\\right) }}{1 - e^{ 2 \\cdot \\pi \\cdot i \\cdot \\left(\\delta - \\frac{l}{2^{t}}\\right) }} \\right)\\right)$"
      ]
     },
     "execution_count": 3,
     "metadata": {},
     "output_type": "execute_result"
    }
   ],
   "source": [
    "alpha_l_summed"
   ]
  },
  {
   "cell_type": "code",
   "execution_count": 4,
   "metadata": {
    "collapsed": false
   },
   "outputs": [
    {
     "data": {
      "text/latex": [
       "$l \\in \\mathbb{Z}$"
      ],
      "text/plain": [
       "$l \\in \\mathbb{Z}$"
      ]
     },
     "execution_count": 4,
     "metadata": {},
     "output_type": "execute_result"
    }
   ],
   "source": [
    "lInInts = In(l, Integers)\n",
    "lInInts"
   ]
  },
  {
   "cell_type": "code",
   "execution_count": 5,
   "metadata": {
    "collapsed": false
   },
   "outputs": [
    {
     "data": {
      "text/latex": [
       "$\\alpha_{l} = \\left( \\frac{1}{2^{t}} \\cdot \\frac{1 - e^{ 2 \\cdot \\pi \\cdot i \\cdot \\left(\\left( 2^{t} \\cdot \\delta \\right) - l\\right) }}{1 - e^{ 2 \\cdot \\pi \\cdot i \\cdot \\left(\\delta - \\frac{l}{2^{t}}\\right) }} \\right)$"
      ],
      "text/plain": [
       "$\\alpha_{l} = \\left( \\frac{1}{2^{t}} \\cdot \\frac{1 - e^{ 2 \\cdot \\pi \\cdot i \\cdot \\left(\\left( 2^{t} \\cdot \\delta \\right) - l\\right) }}{1 - e^{ 2 \\cdot \\pi \\cdot i \\cdot \\left(\\delta - \\frac{l}{2^{t}}\\right) }} \\right)$"
      ]
     },
     "execution_count": 5,
     "metadata": {},
     "output_type": "execute_result"
    }
   ],
   "source": [
    "alpha_l_summed0 = alpha_l_summed.specialize()\n",
    "alpha_l_summed0.proven({lInInts})"
   ]
  },
  {
   "cell_type": "code",
   "execution_count": 6,
   "metadata": {
    "collapsed": false
   },
   "outputs": [
    {
     "data": {
      "text/latex": [
       "$\\frac{1 - e^{ 2 \\cdot \\pi \\cdot i \\cdot \\left(\\left( 2^{t} \\cdot \\delta \\right) - l\\right) }}{ 2^{t} \\cdot \\left(1 - e^{ 2 \\cdot \\pi \\cdot i \\cdot \\left(\\delta - \\frac{l}{2^{t}}\\right) }\\right) }$"
      ],
      "text/plain": [
       "$\\frac{1 - e^{ 2 \\cdot \\pi \\cdot i \\cdot \\left(\\left( 2^{t} \\cdot \\delta \\right) - l\\right) }}{ 2^{t} \\cdot \\left(1 - e^{ 2 \\cdot \\pi \\cdot i \\cdot \\left(\\delta - \\frac{l}{2^{t}}\\right) }\\right) }$"
      ]
     },
     "execution_count": 6,
     "metadata": {},
     "output_type": "execute_result"
    }
   ],
   "source": [
    "newFrac = Fraction(alpha_l_summed0.rhs.operands[1].numerator, Multiply(two_pow_t, alpha_l_summed0.rhs.operands[1].denominator))\n",
    "newFrac"
   ]
  },
  {
   "cell_type": "code",
   "execution_count": 7,
   "metadata": {
    "collapsed": false
   },
   "outputs": [
    {
     "data": {
      "text/latex": [
       "$\\alpha_{l} = \\frac{1 - e^{ 2 \\cdot \\pi \\cdot i \\cdot \\left(\\left( 2^{t} \\cdot \\delta \\right) - l\\right) }}{ 2^{t} \\cdot \\left(1 - e^{ 2 \\cdot \\pi \\cdot i \\cdot \\left(\\delta - \\frac{l}{2^{t}}\\right) }\\right) }$"
      ],
      "text/plain": [
       "$\\alpha_{l} = \\frac{1 - e^{ 2 \\cdot \\pi \\cdot i \\cdot \\left(\\left( 2^{t} \\cdot \\delta \\right) - l\\right) }}{ 2^{t} \\cdot \\left(1 - e^{ 2 \\cdot \\pi \\cdot i \\cdot \\left(\\delta - \\frac{l}{2^{t}}\\right) }\\right) }$"
      ]
     },
     "execution_count": 7,
     "metadata": {},
     "output_type": "execute_result"
    }
   ],
   "source": [
    "alpha_l_summed1 = newFrac.factor(Fraction(one, two_pow_t), 'left', assumptions={In(l, Integers)}).subLeftSideInto(alpha_l_summed0)\n",
    "alpha_l_summed1.proven({lInInts})"
   ]
  },
  {
   "cell_type": "code",
   "execution_count": 8,
   "metadata": {
    "collapsed": false
   },
   "outputs": [
    {
     "data": {
      "text/latex": [
       "$\\left|\\alpha_{l}\\right| = \\left|\\frac{1 - e^{ 2 \\cdot \\pi \\cdot i \\cdot \\left(\\left( 2^{t} \\cdot \\delta \\right) - l\\right) }}{ 2^{t} \\cdot \\left(1 - e^{ 2 \\cdot \\pi \\cdot i \\cdot \\left(\\delta - \\frac{l}{2^{t}}\\right) }\\right) }\\right|$"
      ],
      "text/plain": [
       "$\\left|\\alpha_{l}\\right| = \\left|\\frac{1 - e^{ 2 \\cdot \\pi \\cdot i \\cdot \\left(\\left( 2^{t} \\cdot \\delta \\right) - l\\right) }}{ 2^{t} \\cdot \\left(1 - e^{ 2 \\cdot \\pi \\cdot i \\cdot \\left(\\delta - \\frac{l}{2^{t}}\\right) }\\right) }\\right|$"
      ]
     },
     "execution_count": 8,
     "metadata": {},
     "output_type": "execute_result"
    }
   ],
   "source": [
    "abs_alpha_l_eq0 = alpha_l_summed1.substitution(Abs(X), X)\n",
    "abs_alpha_l_eq0.proven({lInInts})"
   ]
  },
  {
   "cell_type": "code",
   "execution_count": 14,
   "metadata": {
    "collapsed": false
   },
   "outputs": [
    {
     "data": {
      "text/latex": [
       "$\\left|\\alpha_{l}\\right| = \\frac{\\left|1 - e^{ 2 \\cdot \\pi \\cdot i \\cdot \\left(\\left( 2^{t} \\cdot \\delta \\right) - l\\right) }\\right|}{\\left| 2^{t} \\cdot \\left(1 - e^{ 2 \\cdot \\pi \\cdot i \\cdot \\left(\\delta - \\frac{l}{2^{t}}\\right) }\\right) \\right|}$"
      ],
      "text/plain": [
       "$\\left|\\alpha_{l}\\right| = \\frac{\\left|1 - e^{ 2 \\cdot \\pi \\cdot i \\cdot \\left(\\left( 2^{t} \\cdot \\delta \\right) - l\\right) }\\right|}{\\left| 2^{t} \\cdot \\left(1 - e^{ 2 \\cdot \\pi \\cdot i \\cdot \\left(\\delta - \\frac{l}{2^{t}}\\right) }\\right) \\right|}$"
      ]
     },
     "execution_count": 14,
     "metadata": {},
     "output_type": "execute_result"
    }
   ],
   "source": [
    "abs_alpha_l_eq1 = abs_alpha_l_eq0.rhs.distribute(assumptions={lInInts}).subRightSideInto(abs_alpha_l_eq0)\n",
    "abs_alpha_l_eq1.proven({lInInts})"
   ]
  },
  {
   "cell_type": "code",
   "execution_count": 15,
   "metadata": {
    "collapsed": false
   },
   "outputs": [
    {
     "data": {
      "text/latex": [
       "$\\left|\\alpha_{l}\\right| = \\frac{\\left|1 - e^{ 2 \\cdot \\pi \\cdot i \\cdot \\left(\\left( 2^{t} \\cdot \\delta \\right) - l\\right) }\\right|}{ \\left|2^{t}\\right| \\cdot \\left|\\left(1 - e^{ 2 \\cdot \\pi \\cdot i \\cdot \\left(\\delta - \\frac{l}{2^{t}}\\right) }\\right)\\right| }$"
      ],
      "text/plain": [
       "$\\left|\\alpha_{l}\\right| = \\frac{\\left|1 - e^{ 2 \\cdot \\pi \\cdot i \\cdot \\left(\\left( 2^{t} \\cdot \\delta \\right) - l\\right) }\\right|}{ \\left|2^{t}\\right| \\cdot \\left|\\left(1 - e^{ 2 \\cdot \\pi \\cdot i \\cdot \\left(\\delta - \\frac{l}{2^{t}}\\right) }\\right)\\right| }$"
      ]
     },
     "execution_count": 15,
     "metadata": {},
     "output_type": "execute_result"
    }
   ],
   "source": [
    "abs_alpha_l_eq2 = autoSubstitute(abs_alpha_l_eq1, 'distribute', [], {'assumptions':{lInInts}}, superExpr=abs_alpha_l_eq1.rhs.denominator)\n",
    "abs_alpha_l_eq2.proven({lInInts})"
   ]
  },
  {
   "cell_type": "code",
   "execution_count": 11,
   "metadata": {
    "collapsed": false
   },
   "outputs": [
    {
     "data": {
      "text/latex": [
       "$2^{t} \\geq 0$"
      ],
      "text/plain": [
       "$2^{t} \\geq 0$"
      ]
     },
     "execution_count": 11,
     "metadata": {},
     "output_type": "execute_result"
    }
   ],
   "source": [
    "deducePositive(two_pow_t).deriveRelaxed()"
   ]
  },
  {
   "cell_type": "code",
   "execution_count": 16,
   "metadata": {
    "collapsed": false
   },
   "outputs": [
    {
     "data": {
      "text/latex": [
       "$\\left|\\alpha_{l}\\right| = \\frac{\\left|1 - e^{ 2 \\cdot \\pi \\cdot i \\cdot \\left(\\left( 2^{t} \\cdot \\delta \\right) - l\\right) }\\right|}{ 2^{t} \\cdot \\left|\\left(1 - e^{ 2 \\cdot \\pi \\cdot i \\cdot \\left(\\delta - \\frac{l}{2^{t}}\\right) }\\right)\\right| }$"
      ],
      "text/plain": [
       "$\\left|\\alpha_{l}\\right| = \\frac{\\left|1 - e^{ 2 \\cdot \\pi \\cdot i \\cdot \\left(\\left( 2^{t} \\cdot \\delta \\right) - l\\right) }\\right|}{ 2^{t} \\cdot \\left|\\left(1 - e^{ 2 \\cdot \\pi \\cdot i \\cdot \\left(\\delta - \\frac{l}{2^{t}}\\right) }\\right)\\right| }$"
      ]
     },
     "execution_count": 16,
     "metadata": {},
     "output_type": "execute_result"
    }
   ],
   "source": [
    "abs_alpha_l_eq3 = Abs(two_pow_t).absElimination().subRightSideInto(abs_alpha_l_eq2)\n",
    "abs_alpha_l_eq3.proven({lInInts})"
   ]
  },
  {
   "cell_type": "code",
   "execution_count": 18,
   "metadata": {
    "collapsed": false
   },
   "outputs": [
    {
     "name": "stdout",
     "output_type": "stream",
     "text": [
      "root forall_{ l  in Integers} (|alpha_{l}| = |(1 - e^( 2 * pi * i * (( 2^(t) * delta ) - l) ))| / ( 2^(t) * |(1 - e^( 2 * pi * i * (delta - l / 2^(t)) ))| )) \n",
      "  generalizing |alpha_{l}| = |(1 - e^( 2 * pi * i * (( 2^(t) * delta ) - l) ))| / ( 2^(t) * |(1 - e^( 2 * pi * i * (delta - l / 2^(t)) ))| )  assuming l in Integers \n",
      "    implication (|alpha_{l}| = |(1 - e^( 2 * pi * i * (( 2^(t) * delta ) - l) ))| / ( |2^(t)| * |(1 - e^( 2 * pi * i * (delta - l / 2^(t)) ))| )) => (|alpha_{l}| = |(1 - e^( 2 * pi * i * (( 2^(t) * delta ) - l) ))| / ( 2^(t) * |(1 - e^( 2 * pi * i * (delta - l / 2^(t)) ))| )) \n",
      "      implication (|2^(t)| = 2^(t)) => ((|alpha_{l}| = |(1 - e^( 2 * pi * i * (( 2^(t) * delta ) - l) ))| / ( |2^(t)| * |(1 - e^( 2 * pi * i * (delta - l / 2^(t)) ))| )) => (|alpha_{l}| = |(1 - e^( 2 * pi * i * (( 2^(t) * delta ) - l) ))| / ( 2^(t) * |(1 - e^( 2 * pi * i * (delta - l / 2^(t)) ))| ))) \n",
      "        specializing forall_{ P , x , y } ((x = y) => (P( x ) => P( y ))) \n",
      "          by theorem proveit.basiclogic.equality.rhsSubstitution\n",
      "      hypothesis |2^(t)| = 2^(t) \n",
      "        specializing forall_{ x  in Reals |  (x >= 0) } (|x| = x) \n",
      "          by theorem proveit.number.real.absElim\n",
      "        condition 2^(t) >= 0 \n",
      "          specializing forall_{ a , b  in Reals |  (a > b) } (a >= b) \n",
      "            by theorem proveit.number.real.relaxGreaterThan\n",
      "          condition 2^(t) > 0 \n",
      "            implication (2^(t) in RealsPos) => (2^(t) > 0) \n",
      "              implication ((2^(t) in RealsPos) <=> (2^(t) > 0)) => ((2^(t) in RealsPos) => (2^(t) > 0)) \n",
      "                specializing forall_{ A , B } ((A <=> B) => (A => B)) \n",
      "                  by theorem proveit.basiclogic.boolean.iffImpliesRight\n",
      "              hypothesis (2^(t) in RealsPos) <=> (2^(t) > 0) \n",
      "                specializing forall_{ a  in Reals} ((a in RealsPos) <=> (a > 0)) \n",
      "                  by theorem proveit.number.real.inRealsPos_iff_positive\n",
      "                condition 2^(t) in Reals \n",
      "                  specializing forall_{ a  in NaturalsPos} (a in Reals) \n",
      "                    by theorem proveit.number.natural.inNatPos_inReals\n",
      "                  condition 2^(t) in NaturalsPos \n",
      "                    by theorem proveit.physics.quantum.QPE.two_pow_t_in_posnats\n",
      "            hypothesis 2^(t) in RealsPos \n",
      "              specializing forall_{ a  in NaturalsPos} (a in RealsPos) \n",
      "                by theorem proveit.number.natural.inNatPos_inRealsPos\n",
      "              condition 2^(t) in NaturalsPos  proven above\n",
      "          condition 0 in Reals \n",
      "            specializing forall_{ a  in Naturals} (a in Reals) \n",
      "              by theorem proveit.number.natural.inReals\n",
      "            condition 0 in Naturals \n",
      "          condition 2^(t) in Reals  proven above\n",
      "        condition 2^(t) in Reals  proven above\n",
      "    hypothesis |alpha_{l}| = |(1 - e^( 2 * pi * i * (( 2^(t) * delta ) - l) ))| / ( |2^(t)| * |(1 - e^( 2 * pi * i * (delta - l / 2^(t)) ))| )  assuming l in Integers \n",
      "      implication (|alpha_{l}| = |(1 - e^( 2 * pi * i * (( 2^(t) * delta ) - l) ))| / |( 2^(t) * (1 - e^( 2 * pi * i * (delta - l / 2^(t)) )) )|) => (|alpha_{l}| = |(1 - e^( 2 * pi * i * (( 2^(t) * delta ) - l) ))| / ( |2^(t)| * |(1 - e^( 2 * pi * i * (delta - l / 2^(t)) ))| ))  assuming l in Integers \n",
      "        implication (|( 2^(t) * (1 - e^( 2 * pi * i * (delta - l / 2^(t)) )) )| = ( |2^(t)| * |(1 - e^( 2 * pi * i * (delta - l / 2^(t)) ))| )) => ((|alpha_{l}| = |(1 - e^( 2 * pi * i * (( 2^(t) * delta ) - l) ))| / |( 2^(t) * (1 - e^( 2 * pi * i * (delta - l / 2^(t)) )) )|) => (|alpha_{l}| = |(1 - e^( 2 * pi * i * (( 2^(t) * delta ) - l) ))| / ( |2^(t)| * |(1 - e^( 2 * pi * i * (delta - l / 2^(t)) ))| ))) \n",
      "          specializing forall_{ P , x , y } ((x = y) => (P( x ) => P( y )))  proven above\n",
      "        hypothesis |( 2^(t) * (1 - e^( 2 * pi * i * (delta - l / 2^(t)) )) )| = ( |2^(t)| * |(1 - e^( 2 * pi * i * (delta - l / 2^(t)) ))| )  assuming l in Integers \n",
      "          specializing forall_{ .., x_{*} ,..  in Complexes} (|( ..* x_{*} *.. )| = ( ..* |x_{*}| *.. )) \n",
      "            by theorem proveit.number.complex.absProd\n",
      "          condition 2^(t) in Complexes \n",
      "            specializing forall_{ a  in NaturalsPos} (a in Complexes) \n",
      "              by theorem proveit.number.natural.inNatPos_inComplexes\n",
      "            condition 2^(t) in NaturalsPos  proven above\n",
      "          condition (1 - e^( 2 * pi * i * (delta - l / 2^(t)) )) in Complexes  assuming l in Integers \n",
      "            specializing forall_{ a , b  in Complexes} ((a - b) in Complexes) \n",
      "              by theorem proveit.number.complex.subtractClosure\n",
      "            condition 1 in Complexes \n",
      "              specializing forall_{ a  in NaturalsPos} (a in Complexes)  proven above\n",
      "              condition 1 in NaturalsPos \n",
      "            condition e^( 2 * pi * i * (delta - l / 2^(t)) ) in Complexes  assuming l in Integers \n",
      "              specializing forall_{ a , b  in Complexes |  (a != 0) } (a^(b) in Complexes) \n",
      "                by theorem proveit.number.complex.powClosure\n",
      "              condition e != 0 \n",
      "                specializing forall_{ a  in Reals |  (a > 0) } (a != 0) \n",
      "                  by theorem proveit.number.real.positive_implies_notzero\n",
      "                condition e > 0 \n",
      "                  implication (e in RealsPos) => (e > 0) \n",
      "                    implication ((e in RealsPos) <=> (e > 0)) => ((e in RealsPos) => (e > 0)) \n",
      "                      specializing forall_{ A , B } ((A <=> B) => (A => B))  proven above\n",
      "                    hypothesis (e in RealsPos) <=> (e > 0) \n",
      "                      specializing forall_{ a  in Reals} ((a in RealsPos) <=> (a > 0))  proven above\n",
      "                      condition e in Reals \n",
      "                        specializing forall_{ a  in RealsPos} (a in Reals) \n",
      "                          by theorem proveit.number.real.inRealsPos_inReals\n",
      "                        condition e in RealsPos \n",
      "                  hypothesis e in RealsPos  proven above\n",
      "                condition e in Reals  proven above\n",
      "              condition e in Complexes \n",
      "                specializing forall_{ a  in RealsPos} (a in Complexes) \n",
      "                  by theorem proveit.number.real.inRealsPos_inComplexes\n",
      "                condition e in RealsPos  proven above\n",
      "              condition ( 2 * pi * i * (delta - l / 2^(t)) ) in Complexes  assuming l in Integers \n",
      "                specializing forall_{ .., x_{*} ,..  in Complexes} (( ..* x_{*} *.. ) in Complexes) \n",
      "                  by theorem proveit.number.complex.multClosure\n",
      "                condition (delta - l / 2^(t)) in Complexes  assuming l in Integers \n",
      "                  specializing forall_{ a  in Reals} (a in Complexes) \n",
      "                    by theorem proveit.number.real.inComplexes\n",
      "                  condition (delta - l / 2^(t)) in Reals  assuming l in Integers \n",
      "                    specializing forall_{ a , b  in Reals} ((a - b) in Reals) \n",
      "                      by theorem proveit.number.real.subtractClosure\n",
      "                    condition delta in Reals \n",
      "                      by theorem proveit.physics.quantum.QPE.deltaInReals\n",
      "                    condition l / 2^(t) in Reals  assuming l in Integers \n",
      "                      specializing forall_{ a , b  in Reals |  (b != 0) } (a / b in Reals) \n",
      "                        by theorem proveit.number.real.fractionClosure\n",
      "                      condition l in Reals  assuming l in Integers \n",
      "                        specializing forall_{ a  in Integers} (a in Reals) \n",
      "                          by theorem proveit.number.integer.inReals\n",
      "                        condition l in Integers  assuming l in Integers \n",
      "                      condition 2^(t) != 0 \n",
      "                        specializing forall_{ a  in Reals |  (a > 0) } (a != 0)  proven above\n",
      "                        condition 2^(t) > 0  proven above\n",
      "                        condition 2^(t) in Reals  proven above\n",
      "                      condition 2^(t) in Reals  proven above\n",
      "                condition 2 in Complexes \n",
      "                  specializing forall_{ a  in NaturalsPos} (a in Complexes)  proven above\n",
      "                  condition 2 in NaturalsPos \n",
      "                    by theorem proveit.number.natural.twoInNaturalsPos\n",
      "                condition pi in Complexes \n",
      "                  specializing forall_{ a  in RealsPos} (a in Complexes)  proven above\n",
      "                  condition pi in RealsPos \n",
      "                    by theorem proveit.number.real.piInRealsPos\n",
      "                condition i in Complexes \n",
      "      hypothesis |alpha_{l}| = |(1 - e^( 2 * pi * i * (( 2^(t) * delta ) - l) ))| / |( 2^(t) * (1 - e^( 2 * pi * i * (delta - l / 2^(t)) )) )|  assuming l in Integers \n",
      "        implication (|alpha_{l}| = |(1 - e^( 2 * pi * i * (( 2^(t) * delta ) - l) )) / ( 2^(t) * (1 - e^( 2 * pi * i * (delta - l / 2^(t)) )) )|) => (|alpha_{l}| = |(1 - e^( 2 * pi * i * (( 2^(t) * delta ) - l) ))| / |( 2^(t) * (1 - e^( 2 * pi * i * (delta - l / 2^(t)) )) )|)  assuming l in Integers \n",
      "          implication (|(1 - e^( 2 * pi * i * (( 2^(t) * delta ) - l) )) / ( 2^(t) * (1 - e^( 2 * pi * i * (delta - l / 2^(t)) )) )| = |(1 - e^( 2 * pi * i * (( 2^(t) * delta ) - l) ))| / |( 2^(t) * (1 - e^( 2 * pi * i * (delta - l / 2^(t)) )) )|) => ((|alpha_{l}| = |(1 - e^( 2 * pi * i * (( 2^(t) * delta ) - l) )) / ( 2^(t) * (1 - e^( 2 * pi * i * (delta - l / 2^(t)) )) )|) => (|alpha_{l}| = |(1 - e^( 2 * pi * i * (( 2^(t) * delta ) - l) ))| / |( 2^(t) * (1 - e^( 2 * pi * i * (delta - l / 2^(t)) )) )|)) \n",
      "            specializing forall_{ P , x , y } ((x = y) => (P( x ) => P( y )))  proven above\n",
      "          hypothesis |(1 - e^( 2 * pi * i * (( 2^(t) * delta ) - l) )) / ( 2^(t) * (1 - e^( 2 * pi * i * (delta - l / 2^(t)) )) )| = |(1 - e^( 2 * pi * i * (( 2^(t) * delta ) - l) ))| / |( 2^(t) * (1 - e^( 2 * pi * i * (delta - l / 2^(t)) )) )|  assuming l in Integers \n",
      "            specializing forall_{ a , b  in Complexes} (|a / b| = |a| / |b|) \n",
      "              by theorem proveit.number.complex.absFrac\n",
      "            condition ( 2^(t) * (1 - e^( 2 * pi * i * (delta - l / 2^(t)) )) ) in Complexes  assuming l in Integers \n",
      "              specializing forall_{ .., x_{*} ,..  in Complexes} (( ..* x_{*} *.. ) in Complexes)  proven above\n",
      "              condition 2^(t) in Complexes  proven above\n",
      "              condition (1 - e^( 2 * pi * i * (delta - l / 2^(t)) )) in Complexes  assuming l in Integers  proven above\n",
      "            condition (1 - e^( 2 * pi * i * (( 2^(t) * delta ) - l) )) in Complexes  assuming l in Integers \n",
      "              specializing forall_{ a , b  in Complexes} ((a - b) in Complexes)  proven above\n",
      "              condition 1 in Complexes  proven above\n",
      "              condition e^( 2 * pi * i * (( 2^(t) * delta ) - l) ) in Complexes  assuming l in Integers \n",
      "                specializing forall_{ a , b  in Complexes |  (a != 0) } (a^(b) in Complexes)  proven above\n",
      "                condition e != 0  proven above\n",
      "                condition e in Complexes  proven above\n",
      "                condition ( 2 * pi * i * (( 2^(t) * delta ) - l) ) in Complexes  assuming l in Integers \n",
      "                  specializing forall_{ .., x_{*} ,..  in Complexes} (( ..* x_{*} *.. ) in Complexes)  proven above\n",
      "                  condition (( 2^(t) * delta ) - l) in Complexes  assuming l in Integers \n",
      "                    specializing forall_{ a  in Reals} (a in Complexes)  proven above\n",
      "                    condition (( 2^(t) * delta ) - l) in Reals  assuming l in Integers \n",
      "                      specializing forall_{ a , b  in Reals} ((a - b) in Reals)  proven above\n",
      "                      condition ( 2^(t) * delta ) in Reals \n",
      "                        specializing forall_{ .., x_{*} ,..  in Reals} (( ..* x_{*} *.. ) in Reals) \n",
      "                          by theorem proveit.number.real.multClosure\n",
      "                        condition delta in Reals  proven above\n",
      "                        condition 2^(t) in Reals  proven above\n",
      "                      condition l in Reals  assuming l in Integers  proven above\n",
      "                  condition 2 in Complexes  proven above\n",
      "                  condition pi in Complexes  proven above\n",
      "                  condition i in Complexes  proven above\n",
      "        hypothesis |alpha_{l}| = |(1 - e^( 2 * pi * i * (( 2^(t) * delta ) - l) )) / ( 2^(t) * (1 - e^( 2 * pi * i * (delta - l / 2^(t)) )) )|  assuming l in Integers \n",
      "          implication (alpha_{l} = (1 - e^( 2 * pi * i * (( 2^(t) * delta ) - l) )) / ( 2^(t) * (1 - e^( 2 * pi * i * (delta - l / 2^(t)) )) )) => (|alpha_{l}| = |(1 - e^( 2 * pi * i * (( 2^(t) * delta ) - l) )) / ( 2^(t) * (1 - e^( 2 * pi * i * (delta - l / 2^(t)) )) )|) \n",
      "            specializing forall_{ f , x , y } ((x = y) => (f( x ) = f( y ))) \n",
      "              by axiom proveit.basiclogic.equality.substitution\n",
      "          hypothesis alpha_{l} = (1 - e^( 2 * pi * i * (( 2^(t) * delta ) - l) )) / ( 2^(t) * (1 - e^( 2 * pi * i * (delta - l / 2^(t)) )) )  assuming l in Integers \n",
      "            implication (alpha_{l} = ( 1 / 2^(t) * (1 - e^( 2 * pi * i * (( 2^(t) * delta ) - l) )) / (1 - e^( 2 * pi * i * (delta - l / 2^(t)) )) )) => (alpha_{l} = (1 - e^( 2 * pi * i * (( 2^(t) * delta ) - l) )) / ( 2^(t) * (1 - e^( 2 * pi * i * (delta - l / 2^(t)) )) ))  assuming l in Integers \n",
      "              implication ((1 - e^( 2 * pi * i * (( 2^(t) * delta ) - l) )) / ( 2^(t) * (1 - e^( 2 * pi * i * (delta - l / 2^(t)) )) ) = ( 1 / 2^(t) * (1 - e^( 2 * pi * i * (( 2^(t) * delta ) - l) )) / (1 - e^( 2 * pi * i * (delta - l / 2^(t)) )) )) => ((alpha_{l} = ( 1 / 2^(t) * (1 - e^( 2 * pi * i * (( 2^(t) * delta ) - l) )) / (1 - e^( 2 * pi * i * (delta - l / 2^(t)) )) )) => (alpha_{l} = (1 - e^( 2 * pi * i * (( 2^(t) * delta ) - l) )) / ( 2^(t) * (1 - e^( 2 * pi * i * (delta - l / 2^(t)) )) ))) \n",
      "                specializing forall_{ P , x , y } ((x = y) => (P( y ) => P( x ))) \n",
      "                  by theorem proveit.basiclogic.equality.lhsSubstitution\n",
      "              hypothesis (1 - e^( 2 * pi * i * (( 2^(t) * delta ) - l) )) / ( 2^(t) * (1 - e^( 2 * pi * i * (delta - l / 2^(t)) )) ) = ( 1 / 2^(t) * (1 - e^( 2 * pi * i * (( 2^(t) * delta ) - l) )) / (1 - e^( 2 * pi * i * (delta - l / 2^(t)) )) )  assuming l in Integers \n",
      "                specializing forall_{ x , y , z  in Complexes} (x / ( y * z ) = ( 1 / y * x / z )) \n",
      "                  by theorem proveit.number.complex.prodOfFracsLeftNumerOneRev\n",
      "                condition 2^(t) in Complexes  proven above\n",
      "                condition (1 - e^( 2 * pi * i * (delta - l / 2^(t)) )) in Complexes  assuming l in Integers  proven above\n",
      "                condition (1 - e^( 2 * pi * i * (( 2^(t) * delta ) - l) )) in Complexes  assuming l in Integers  proven above\n",
      "            hypothesis alpha_{l} = ( 1 / 2^(t) * (1 - e^( 2 * pi * i * (( 2^(t) * delta ) - l) )) / (1 - e^( 2 * pi * i * (delta - l / 2^(t)) )) )  assuming l in Integers \n",
      "              specializing forall_{ l  in Integers} (alpha_{l} = ( 1 / 2^(t) * (1 - e^( 2 * pi * i * (( 2^(t) * delta ) - l) )) / (1 - e^( 2 * pi * i * (delta - l / 2^(t)) )) )) \n",
      "                by theorem proveit.physics.quantum.QPE.alpha_l_summed\n",
      "              condition l in Integers  assuming l in Integers  proven above\n",
      "proveit.basiclogic.equality.substitution\n",
      "proveit.basiclogic.boolean.iffImpliesRight\n",
      "proveit.basiclogic.equality.lhsSubstitution\n",
      "proveit.basiclogic.equality.rhsSubstitution\n",
      "proveit.number.complex.absFrac\n",
      "proveit.number.complex.absProd\n",
      "proveit.number.complex.multClosure\n",
      "proveit.number.complex.powClosure\n",
      "proveit.number.complex.prodOfFracsLeftNumerOneRev\n",
      "proveit.number.complex.subtractClosure\n",
      "proveit.number.integer.inReals\n",
      "proveit.number.natural.inNatPos_inComplexes\n",
      "proveit.number.natural.inNatPos_inReals\n",
      "proveit.number.natural.inNatPos_inRealsPos\n",
      "proveit.number.natural.inReals\n",
      "proveit.number.natural.twoInNaturalsPos\n",
      "proveit.number.real.absElim\n",
      "proveit.number.real.fractionClosure\n",
      "proveit.number.real.inComplexes\n",
      "proveit.number.real.inRealsPos_iff_positive\n",
      "proveit.number.real.inRealsPos_inComplexes\n",
      "proveit.number.real.inRealsPos_inReals\n",
      "proveit.number.real.multClosure\n",
      "proveit.number.real.piInRealsPos\n",
      "proveit.number.real.positive_implies_notzero\n",
      "proveit.number.real.relaxGreaterThan\n",
      "proveit.number.real.subtractClosure\n",
      "proveit.physics.quantum.QPE.alpha_l_summed\n",
      "proveit.physics.quantum.QPE.deltaInReals\n",
      "proveit.physics.quantum.QPE.two_pow_t_in_posnats\n",
      "Number of used axioms: 1\n",
      "Number of used theorms: 29\n",
      "Number of derivation tree nodes: 89\n"
     ]
    },
    {
     "data": {
      "text/latex": [
       "$\\forall_{ l  \\in \\mathbb{Z}} \\left(\\left|\\alpha_{l}\\right| = \\frac{\\left|1 - e^{ 2 \\cdot \\pi \\cdot i \\cdot \\left(\\left( 2^{t} \\cdot \\delta \\right) - l\\right) }\\right|}{ 2^{t} \\cdot \\left|\\left(1 - e^{ 2 \\cdot \\pi \\cdot i \\cdot \\left(\\delta - \\frac{l}{2^{t}}\\right) }\\right)\\right| }\\right)$"
      ],
      "text/plain": [
       "$\\forall_{ l  \\in \\mathbb{Z}} \\left(\\left|\\alpha_{l}\\right| = \\frac{\\left|1 - e^{ 2 \\cdot \\pi \\cdot i \\cdot \\left(\\left( 2^{t} \\cdot \\delta \\right) - l\\right) }\\right|}{ 2^{t} \\cdot \\left|\\left(1 - e^{ 2 \\cdot \\pi \\cdot i \\cdot \\left(\\delta - \\frac{l}{2^{t}}\\right) }\\right)\\right| }\\right)$"
      ]
     },
     "execution_count": 18,
     "metadata": {},
     "output_type": "execute_result"
    }
   ],
   "source": [
    "abs_alpha_l_eq3.generalize(l, domain=Integers).qed()"
   ]
  },
  {
   "cell_type": "code",
   "execution_count": null,
   "metadata": {
    "collapsed": true
   },
   "outputs": [],
   "source": []
  }
 ],
 "metadata": {
  "kernelspec": {
   "display_name": "Python 3",
   "language": "python",
   "name": "python3"
  },
  "language_info": {
   "codemirror_mode": {
    "name": "ipython",
    "version": 3
   },
   "file_extension": ".py",
   "mimetype": "text/x-python",
   "name": "python",
   "nbconvert_exporter": "python",
   "pygments_lexer": "ipython3"
  }
 },
 "nbformat": 4,
 "nbformat_minor": 0
}
