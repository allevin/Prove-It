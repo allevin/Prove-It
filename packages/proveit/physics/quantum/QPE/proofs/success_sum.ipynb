{
 "cells": [
  {
   "cell_type": "code",
   "execution_count": 1,
   "metadata": {
    "collapsed": false
   },
   "outputs": [],
   "source": [
    "from proveit.expression import Operation\n",
    "from proveit.basiclogic import In, compose\n",
    "from proveit.physics.quantum.QPE.axioms import successDef, modAddDef\n",
    "from proveit.physics.quantum.QPE.theorems import success_sum, two_pow_t_in_posnats, bestInInts\n",
    "from proveit.physics.quantum.QPE.common import b_, m_, two_pow_t\n",
    "from proveit.physics.quantum.QPE.phaseEstOps import ModAdd\n",
    "from proveit.number.real.theorems import modAbsSubtractCancel, absIneq\n",
    "from proveit.number import DiscreteContiguousSet, Neg, ModAbs, LessThanEquals, Subtract\n",
    "from proveit.number.numberSets import NaturalsPos, deduceInReals, deduceInIntegers, deducePositive\n",
    "from proveit.common import a, b, c, l, q, x, y, eps, P, Q, S\n",
    "from proveit.statistics.theorems import probLowerBound\n",
    "from IPython.display import display"
   ]
  },
  {
   "cell_type": "code",
   "execution_count": 2,
   "metadata": {
    "collapsed": false
   },
   "outputs": [
    {
     "data": {
      "text/latex": [
       "$\\forall_{ \\varepsilon  \\in \\mathbb{N}^+} \\left(P_{\\rm success}\\left( \\varepsilon \\right) \\geq \\left(\\sum_{l=-\\varepsilon}^{\\varepsilon} Pr_{m}[m = \\left(b \\oplus l\\right)]\\right)\\right)$"
      ],
      "text/plain": [
       "$\\forall_{ \\varepsilon  \\in \\mathbb{N}^+} \\left(P_{\\rm success}\\left( \\varepsilon \\right) \\geq \\left(\\sum_{l=-\\varepsilon}^{\\varepsilon} Pr_{m}[m = \\left(b \\oplus l\\right)]\\right)\\right)$"
      ]
     },
     "execution_count": 2,
     "metadata": {},
     "output_type": "execute_result"
    }
   ],
   "source": [
    "success_sum.beginProof()"
   ]
  },
  {
   "cell_type": "code",
   "execution_count": 3,
   "metadata": {
    "collapsed": false
   },
   "outputs": [
    {
     "data": {
      "text/latex": [
       "$\\forall_{ \\varepsilon  \\in \\mathbb{N}^+} \\left(P_{\\rm success}\\left( \\varepsilon \\right) = Pr_{m}[\\left|\\left(m - b\\right)\\right|_{{\\rm mod}~2^{t}} \\leq \\varepsilon]\\right)$"
      ],
      "text/plain": [
       "$\\forall_{ \\varepsilon  \\in \\mathbb{N}^+} \\left(P_{\\rm success}\\left( \\varepsilon \\right) = Pr_{m}[\\left|\\left(m - b\\right)\\right|_{{\\rm mod}~2^{t}} \\leq \\varepsilon]\\right)$"
      ]
     },
     "execution_count": 3,
     "metadata": {},
     "output_type": "execute_result"
    }
   ],
   "source": [
    "successDef"
   ]
  },
  {
   "cell_type": "code",
   "execution_count": 4,
   "metadata": {
    "collapsed": false
   },
   "outputs": [
    {
     "data": {
      "text/latex": [
       "$\\varepsilon \\in \\mathbb{N}^+$"
      ],
      "text/plain": [
       "$\\varepsilon \\in \\mathbb{N}^+$"
      ]
     },
     "metadata": {},
     "output_type": "display_data"
    },
    {
     "data": {
      "text/latex": [
       "$l \\in \\{\\left(-\\varepsilon\\right)\\ldots \\varepsilon\\}$"
      ],
      "text/plain": [
       "$l \\in \\{\\left(-\\varepsilon\\right)\\ldots \\varepsilon\\}$"
      ]
     },
     "metadata": {},
     "output_type": "display_data"
    }
   ],
   "source": [
    "epsInNatsPos = In(eps, NaturalsPos)\n",
    "lDomain = DiscreteContiguousSet(Neg(eps), eps)\n",
    "lInDomain = In(l, lDomain)\n",
    "assumptions = {epsInNatsPos, lInDomain}\n",
    "display(epsInNatsPos)\n",
    "display(lInDomain)"
   ]
  },
  {
   "cell_type": "code",
   "execution_count": 5,
   "metadata": {
    "collapsed": false
   },
   "outputs": [
    {
     "data": {
      "text/latex": [
       "$\\forall_{ a , b , c  \\in \\mathbb{R}} \\left(\\left|\\left(\\left(\\left( b + a \\right) ~\\rm{mod}~ c\\right) - b\\right)\\right|_{{\\rm mod}~c} \\leq \\left|a\\right|\\right)$"
      ],
      "text/plain": [
       "$\\forall_{ a , b , c  \\in \\mathbb{R}} \\left(\\left|\\left(\\left(\\left( b + a \\right) ~\\rm{mod}~ c\\right) - b\\right)\\right|_{{\\rm mod}~c} \\leq \\left|a\\right|\\right)$"
      ]
     },
     "execution_count": 5,
     "metadata": {},
     "output_type": "execute_result"
    }
   ],
   "source": [
    "modAbsSubtractCancel"
   ]
  },
  {
   "cell_type": "code",
   "execution_count": 6,
   "metadata": {
    "collapsed": false
   },
   "outputs": [
    {
     "data": {
      "text/latex": [
       "$\\left|\\left(\\left(\\left( b + l \\right) ~\\rm{mod}~ 2^{t}\\right) - b\\right)\\right|_{{\\rm mod}~2^{t}} \\leq \\left|l\\right|$"
      ],
      "text/plain": [
       "$\\left|\\left(\\left(\\left( b + l \\right) ~\\rm{mod}~ 2^{t}\\right) - b\\right)\\right|_{{\\rm mod}~2^{t}} \\leq \\left|l\\right|$"
      ]
     },
     "execution_count": 6,
     "metadata": {},
     "output_type": "execute_result"
    }
   ],
   "source": [
    "deduceInReals(two_pow_t, assumptions)\n",
    "lDomain.deduceMemberInIntegers(l, assumptions)\n",
    "deduceInReals(l, assumptions)\n",
    "deduceInReals(b_)\n",
    "modAbsDiffUpper1 = modAbsSubtractCancel.specialize({a:l, b:b_, c:two_pow_t}).proven(assumptions)\n",
    "modAbsDiffUpper1"
   ]
  },
  {
   "cell_type": "code",
   "execution_count": 7,
   "metadata": {
    "collapsed": false
   },
   "outputs": [
    {
     "data": {
      "text/latex": [
       "$\\left(-\\varepsilon\\right) \\leq l$"
      ],
      "text/plain": [
       "$\\left(-\\varepsilon\\right) \\leq l$"
      ]
     },
     "execution_count": 7,
     "metadata": {},
     "output_type": "execute_result"
    }
   ],
   "source": [
    "deduceInIntegers(eps, assumptions)\n",
    "lLowerBound = lDomain.deduceMemberLowerBound(l, assumptions).proven(assumptions)\n",
    "lLowerBound"
   ]
  },
  {
   "cell_type": "code",
   "execution_count": 8,
   "metadata": {
    "collapsed": false
   },
   "outputs": [
    {
     "data": {
      "text/latex": [
       "$l \\leq \\varepsilon$"
      ],
      "text/plain": [
       "$l \\leq \\varepsilon$"
      ]
     },
     "execution_count": 8,
     "metadata": {},
     "output_type": "execute_result"
    }
   ],
   "source": [
    "lUpperBound = lDomain.deduceMemberUpperBound(l, assumptions).proven(assumptions)\n",
    "lUpperBound"
   ]
  },
  {
   "cell_type": "code",
   "execution_count": 9,
   "metadata": {
    "collapsed": false
   },
   "outputs": [
    {
     "data": {
      "text/latex": [
       "$ \\left(\\left(-\\varepsilon\\right) \\leq l\\right) \\land \\left(l \\leq \\varepsilon\\right) $"
      ],
      "text/plain": [
       "$ \\left(\\left(-\\varepsilon\\right) \\leq l\\right) \\land \\left(l \\leq \\varepsilon\\right) $"
      ]
     },
     "execution_count": 9,
     "metadata": {},
     "output_type": "execute_result"
    }
   ],
   "source": [
    "compose(lLowerBound, lUpperBound)"
   ]
  },
  {
   "cell_type": "code",
   "execution_count": 10,
   "metadata": {
    "collapsed": false
   },
   "outputs": [
    {
     "data": {
      "text/latex": [
       "$\\forall_{ x , y  \\in \\mathbb{R}~|~ \\left(y \\geq 0\\right) } \\left(\\left(\\left|x\\right| \\leq y\\right) \\Leftrightarrow \\left( \\left(\\left(-y\\right) \\leq x\\right) \\land \\left(x \\leq y\\right) \\right)\\right)$"
      ],
      "text/plain": [
       "$\\forall_{ x , y  \\in \\mathbb{R}~|~ \\left(y \\geq 0\\right) } \\left(\\left(\\left|x\\right| \\leq y\\right) \\Leftrightarrow \\left( \\left(\\left(-y\\right) \\leq x\\right) \\land \\left(x \\leq y\\right) \\right)\\right)$"
      ]
     },
     "execution_count": 10,
     "metadata": {},
     "output_type": "execute_result"
    }
   ],
   "source": [
    "absIneq"
   ]
  },
  {
   "cell_type": "code",
   "execution_count": 11,
   "metadata": {
    "collapsed": false
   },
   "outputs": [
    {
     "data": {
      "text/latex": [
       "$\\left|l\\right| \\leq \\varepsilon$"
      ],
      "text/plain": [
       "$\\left|l\\right| \\leq \\varepsilon$"
      ]
     },
     "execution_count": 11,
     "metadata": {},
     "output_type": "execute_result"
    }
   ],
   "source": [
    "deduceInReals(eps, assumptions)\n",
    "deducePositive(eps, assumptions).deriveRelaxed(assumptions)\n",
    "abs_l_upper = absIneq.specialize({x:l, y:eps}).deriveLeft().proven(assumptions)\n",
    "abs_l_upper"
   ]
  },
  {
   "cell_type": "code",
   "execution_count": 12,
   "metadata": {
    "collapsed": false
   },
   "outputs": [
    {
     "data": {
      "text/latex": [
       "$\\left|\\left(\\left(\\left( b + l \\right) ~\\rm{mod}~ 2^{t}\\right) - b\\right)\\right|_{{\\rm mod}~2^{t}} \\leq \\varepsilon$"
      ],
      "text/plain": [
       "$\\left|\\left(\\left(\\left( b + l \\right) ~\\rm{mod}~ 2^{t}\\right) - b\\right)\\right|_{{\\rm mod}~2^{t}} \\leq \\varepsilon$"
      ]
     },
     "execution_count": 12,
     "metadata": {},
     "output_type": "execute_result"
    }
   ],
   "source": [
    "modAbsDiffUpper2 = modAbsDiffUpper1.applyTransitivity(abs_l_upper)\n",
    "modAbsDiffUpper2"
   ]
  },
  {
   "cell_type": "code",
   "execution_count": 13,
   "metadata": {
    "collapsed": false
   },
   "outputs": [
    {
     "data": {
      "text/latex": [
       "$\\left|\\left(\\left(b \\oplus l\\right) - b\\right)\\right|_{{\\rm mod}~2^{t}} \\leq \\varepsilon$"
      ],
      "text/plain": [
       "$\\left|\\left(\\left(b \\oplus l\\right) - b\\right)\\right|_{{\\rm mod}~2^{t}} \\leq \\varepsilon$"
      ]
     },
     "execution_count": 13,
     "metadata": {},
     "output_type": "execute_result"
    }
   ],
   "source": [
    "modAbsDiffUpper3 = modAddDef.specialize({a:b_, b:l}).subLeftSideInto(modAbsDiffUpper2)\n",
    "modAbsDiffUpper3"
   ]
  },
  {
   "cell_type": "code",
   "execution_count": 14,
   "metadata": {
    "collapsed": false
   },
   "outputs": [
    {
     "data": {
      "text/latex": [
       "$\\forall_{ l  \\in \\{\\left(-\\varepsilon\\right)\\ldots \\varepsilon\\}} \\left(\\left|\\left(\\left(b \\oplus l\\right) - b\\right)\\right|_{{\\rm mod}~2^{t}} \\leq \\varepsilon\\right)$"
      ],
      "text/plain": [
       "$\\forall_{ l  \\in \\{\\left(-\\varepsilon\\right)\\ldots \\varepsilon\\}} \\left(\\left|\\left(\\left(b \\oplus l\\right) - b\\right)\\right|_{{\\rm mod}~2^{t}} \\leq \\varepsilon\\right)$"
      ]
     },
     "execution_count": 14,
     "metadata": {},
     "output_type": "execute_result"
    }
   ],
   "source": [
    "modAbsDiffUpper3.generalize(l, domain=lDomain).proven({epsInNatsPos})"
   ]
  },
  {
   "cell_type": "code",
   "execution_count": 15,
   "metadata": {
    "collapsed": false
   },
   "outputs": [
    {
     "data": {
      "text/latex": [
       "$\\forall_{ P , Q , S , q } \\left(\\left[\\forall_{ x  \\in S} P\\left( Q\\left( x \\right) \\right)\\right] \\Rightarrow \\left(Pr_{q}[P\\left( q \\right)] \\geq \\left[\\sum_{ y  \\in S} Pr_{q}[q = Q\\left( y \\right)]\\right]\\right)\\right)$"
      ],
      "text/plain": [
       "$\\forall_{ P , Q , S , q } \\left(\\left[\\forall_{ x  \\in S} P\\left( Q\\left( x \\right) \\right)\\right] \\Rightarrow \\left(Pr_{q}[P\\left( q \\right)] \\geq \\left[\\sum_{ y  \\in S} Pr_{q}[q = Q\\left( y \\right)]\\right]\\right)\\right)$"
      ]
     },
     "execution_count": 15,
     "metadata": {},
     "output_type": "execute_result"
    }
   ],
   "source": [
    "probLowerBound"
   ]
  },
  {
   "cell_type": "code",
   "execution_count": 16,
   "metadata": {
    "collapsed": false
   },
   "outputs": [
    {
     "data": {
      "text/latex": [
       "$\\left[\\forall_{ l  \\in \\{\\left(-\\varepsilon\\right)\\ldots \\varepsilon\\}} \\left(\\left|\\left(\\left(b \\oplus l\\right) - b\\right)\\right|_{{\\rm mod}~2^{t}} \\leq \\varepsilon\\right)\\right] \\Rightarrow \\left(Pr_{m}[\\left|\\left(m - b\\right)\\right|_{{\\rm mod}~2^{t}} \\leq \\varepsilon] \\geq \\left(\\sum_{l=-\\varepsilon}^{\\varepsilon} Pr_{m}[m = \\left(b \\oplus l\\right)]\\right)\\right)$"
      ],
      "text/plain": [
       "$\\left[\\forall_{ l  \\in \\{\\left(-\\varepsilon\\right)\\ldots \\varepsilon\\}} \\left(\\left|\\left(\\left(b \\oplus l\\right) - b\\right)\\right|_{{\\rm mod}~2^{t}} \\leq \\varepsilon\\right)\\right] \\Rightarrow \\left(Pr_{m}[\\left|\\left(m - b\\right)\\right|_{{\\rm mod}~2^{t}} \\leq \\varepsilon] \\geq \\left(\\sum_{l=-\\varepsilon}^{\\varepsilon} Pr_{m}[m = \\left(b \\oplus l\\right)]\\right)\\right)$"
      ]
     },
     "execution_count": 16,
     "metadata": {},
     "output_type": "execute_result"
    }
   ],
   "source": [
    "probLowerBoundSpec = \\\n",
    "    probLowerBound.specialize({Operation(P, x):LessThanEquals(ModAbs(Subtract(x, b_), two_pow_t), eps),\n",
    "                               Operation(Q, x):ModAdd(b_, x),\n",
    "                               S:DiscreteContiguousSet(Neg(eps), eps), q:m_, x:l, y:l}).proven()\n",
    "probLowerBoundSpec"
   ]
  },
  {
   "cell_type": "code",
   "execution_count": 17,
   "metadata": {
    "collapsed": false
   },
   "outputs": [
    {
     "data": {
      "text/latex": [
       "$Pr_{m}[\\left|\\left(m - b\\right)\\right|_{{\\rm mod}~2^{t}} \\leq \\varepsilon] \\geq \\left(\\sum_{l=-\\varepsilon}^{\\varepsilon} Pr_{m}[m = \\left(b \\oplus l\\right)]\\right)$"
      ],
      "text/plain": [
       "$Pr_{m}[\\left|\\left(m - b\\right)\\right|_{{\\rm mod}~2^{t}} \\leq \\varepsilon] \\geq \\left(\\sum_{l=-\\varepsilon}^{\\varepsilon} Pr_{m}[m = \\left(b \\oplus l\\right)]\\right)$"
      ]
     },
     "execution_count": 17,
     "metadata": {},
     "output_type": "execute_result"
    }
   ],
   "source": [
    "probLowerBoundConclusion = probLowerBoundSpec.deriveConclusion().proven({epsInNatsPos})\n",
    "probLowerBoundConclusion"
   ]
  },
  {
   "cell_type": "code",
   "execution_count": 18,
   "metadata": {
    "collapsed": false
   },
   "outputs": [
    {
     "data": {
      "text/latex": [
       "$P_{\\rm success}\\left( \\varepsilon \\right) \\geq \\left(\\sum_{l=-\\varepsilon}^{\\varepsilon} Pr_{m}[m = \\left(b \\oplus l\\right)]\\right)$"
      ],
      "text/plain": [
       "$P_{\\rm success}\\left( \\varepsilon \\right) \\geq \\left(\\sum_{l=-\\varepsilon}^{\\varepsilon} Pr_{m}[m = \\left(b \\oplus l\\right)]\\right)$"
      ]
     },
     "execution_count": 18,
     "metadata": {},
     "output_type": "execute_result"
    }
   ],
   "source": [
    "success_sum_instance_expr = successDef.specialize().subLeftSideInto(probLowerBoundConclusion).proven({epsInNatsPos})\n",
    "success_sum_instance_expr"
   ]
  },
  {
   "cell_type": "code",
   "execution_count": 19,
   "metadata": {
    "collapsed": false
   },
   "outputs": [
    {
     "name": "stdout",
     "output_type": "stream",
     "text": [
      "root $\\forall_{ \\varepsilon  \\in \\mathbb{N}^+} \\left(P_{\\rm success}\\left( \\varepsilon \\right) \\geq \\left(\\sum_{l=-\\varepsilon}^{\\varepsilon} Pr_{m}[m = \\left(b \\oplus l\\right)]\\right)\\right)$ \n",
      "  generalizing $P_{\\rm success}\\left( \\varepsilon \\right) \\geq \\left(\\sum_{l=-\\varepsilon}^{\\varepsilon} Pr_{m}[m = \\left(b \\oplus l\\right)]\\right)$  assuming $\\varepsilon \\in \\mathbb{N}^+$ \n",
      "    implication $\\left(Pr_{m}[\\left|\\left(m - b\\right)\\right|_{{\\rm mod}~2^{t}} \\leq \\varepsilon] \\geq \\left(\\sum_{l=-\\varepsilon}^{\\varepsilon} Pr_{m}[m = \\left(b \\oplus l\\right)]\\right)\\right) \\Rightarrow \\left(P_{\\rm success}\\left( \\varepsilon \\right) \\geq \\left(\\sum_{l=-\\varepsilon}^{\\varepsilon} Pr_{m}[m = \\left(b \\oplus l\\right)]\\right)\\right)$  assuming $\\varepsilon \\in \\mathbb{N}^+$ \n",
      "      implication $\\left(P_{\\rm success}\\left( \\varepsilon \\right) = Pr_{m}[\\left|\\left(m - b\\right)\\right|_{{\\rm mod}~2^{t}} \\leq \\varepsilon]\\right) \\Rightarrow \\left(\\left(Pr_{m}[\\left|\\left(m - b\\right)\\right|_{{\\rm mod}~2^{t}} \\leq \\varepsilon] \\geq \\left(\\sum_{l=-\\varepsilon}^{\\varepsilon} Pr_{m}[m = \\left(b \\oplus l\\right)]\\right)\\right) \\Rightarrow \\left(P_{\\rm success}\\left( \\varepsilon \\right) \\geq \\left(\\sum_{l=-\\varepsilon}^{\\varepsilon} Pr_{m}[m = \\left(b \\oplus l\\right)]\\right)\\right)\\right)$ \n",
      "        specializing $\\forall_{ P , x , y } \\left(\\left(x = y\\right) \\Rightarrow \\left(P\\left( y \\right) \\Rightarrow P\\left( x \\right)\\right)\\right)$ \n",
      "          by theorem proveit.basiclogic.equality.lhsSubstitution\n",
      "      hypothesis $P_{\\rm success}\\left( \\varepsilon \\right) = Pr_{m}[\\left|\\left(m - b\\right)\\right|_{{\\rm mod}~2^{t}} \\leq \\varepsilon]$  assuming $\\varepsilon \\in \\mathbb{N}^+$ \n",
      "        specializing $\\forall_{ \\varepsilon  \\in \\mathbb{N}^+} \\left(P_{\\rm success}\\left( \\varepsilon \\right) = Pr_{m}[\\left|\\left(m - b\\right)\\right|_{{\\rm mod}~2^{t}} \\leq \\varepsilon]\\right)$ \n",
      "          by axiom proveit.physics.quantum.QPE.successDef\n",
      "        condition $\\varepsilon \\in \\mathbb{N}^+$  assuming $\\varepsilon \\in \\mathbb{N}^+$ \n",
      "    hypothesis $Pr_{m}[\\left|\\left(m - b\\right)\\right|_{{\\rm mod}~2^{t}} \\leq \\varepsilon] \\geq \\left(\\sum_{l=-\\varepsilon}^{\\varepsilon} Pr_{m}[m = \\left(b \\oplus l\\right)]\\right)$  assuming $\\varepsilon \\in \\mathbb{N}^+$ \n",
      "      implication $\\left[\\forall_{ l  \\in \\{\\left(-\\varepsilon\\right)\\ldots \\varepsilon\\}} \\left(\\left|\\left(\\left(b \\oplus l\\right) - b\\right)\\right|_{{\\rm mod}~2^{t}} \\leq \\varepsilon\\right)\\right] \\Rightarrow \\left(Pr_{m}[\\left|\\left(m - b\\right)\\right|_{{\\rm mod}~2^{t}} \\leq \\varepsilon] \\geq \\left(\\sum_{l=-\\varepsilon}^{\\varepsilon} Pr_{m}[m = \\left(b \\oplus l\\right)]\\right)\\right)$ \n",
      "        specializing $\\forall_{ P , Q , S , q } \\left(\\left[\\forall_{ x  \\in S} P\\left( Q\\left( x \\right) \\right)\\right] \\Rightarrow \\left(Pr_{q}[P\\left( q \\right)] \\geq \\left[\\sum_{ y  \\in S} Pr_{q}[q = Q\\left( y \\right)]\\right]\\right)\\right)$ \n",
      "          by theorem proveit.statistics.probLowerBound\n",
      "      hypothesis $\\forall_{ l  \\in \\{\\left(-\\varepsilon\\right)\\ldots \\varepsilon\\}} \\left(\\left|\\left(\\left(b \\oplus l\\right) - b\\right)\\right|_{{\\rm mod}~2^{t}} \\leq \\varepsilon\\right)$  assuming $\\varepsilon \\in \\mathbb{N}^+$ \n",
      "        generalizing $\\left|\\left(\\left(b \\oplus l\\right) - b\\right)\\right|_{{\\rm mod}~2^{t}} \\leq \\varepsilon$  assuming $\\varepsilon \\in \\mathbb{N}^+$, $l \\in \\{\\left(-\\varepsilon\\right)\\ldots \\varepsilon\\}$ \n",
      "          implication $\\left(\\left|\\left(\\left(\\left( b + l \\right) ~\\rm{mod}~ 2^{t}\\right) - b\\right)\\right|_{{\\rm mod}~2^{t}} \\leq \\varepsilon\\right) \\Rightarrow \\left(\\left|\\left(\\left(b \\oplus l\\right) - b\\right)\\right|_{{\\rm mod}~2^{t}} \\leq \\varepsilon\\right)$  assuming $\\varepsilon \\in \\mathbb{N}^+$, $l \\in \\{\\left(-\\varepsilon\\right)\\ldots \\varepsilon\\}$ \n",
      "            implication $\\left(\\left(b \\oplus l\\right) = \\left(\\left( b + l \\right) ~\\rm{mod}~ 2^{t}\\right)\\right) \\Rightarrow \\left(\\left(\\left|\\left(\\left(\\left( b + l \\right) ~\\rm{mod}~ 2^{t}\\right) - b\\right)\\right|_{{\\rm mod}~2^{t}} \\leq \\varepsilon\\right) \\Rightarrow \\left(\\left|\\left(\\left(b \\oplus l\\right) - b\\right)\\right|_{{\\rm mod}~2^{t}} \\leq \\varepsilon\\right)\\right)$ \n",
      "              specializing $\\forall_{ P , x , y } \\left(\\left(x = y\\right) \\Rightarrow \\left(P\\left( y \\right) \\Rightarrow P\\left( x \\right)\\right)\\right)$  proven above\n",
      "            hypothesis $\\left(b \\oplus l\\right) = \\left(\\left( b + l \\right) ~\\rm{mod}~ 2^{t}\\right)$  assuming $\\varepsilon \\in \\mathbb{N}^+$, $l \\in \\{\\left(-\\varepsilon\\right)\\ldots \\varepsilon\\}$ \n",
      "              specializing $\\forall_{ a , b  \\in \\mathbb{Z}} \\left(\\left(a \\oplus b\\right) = \\left(\\left( a + b \\right) ~\\rm{mod}~ 2^{t}\\right)\\right)$ \n",
      "                by axiom proveit.physics.quantum.QPE.modAddDef\n",
      "              condition $l \\in \\mathbb{Z}$  assuming $\\varepsilon \\in \\mathbb{N}^+$, $l \\in \\{\\left(-\\varepsilon\\right)\\ldots \\varepsilon\\}$ \n",
      "                specializing $\\forall_{ n  \\in \\{\\left(-\\varepsilon\\right)\\ldots \\varepsilon\\}} \\left(n \\in \\mathbb{Z}\\right)$  assuming $\\varepsilon \\in \\mathbb{N}^+$ \n",
      "                  specializing $\\forall_{ a , b  \\in \\mathbb{Z}} \\left[\\forall_{ n  \\in \\{a\\ldots b\\}} \\left(n \\in \\mathbb{Z}\\right)\\right]$ \n",
      "                    by theorem proveit.number.integer.allInDiscreteInterval_InInts\n",
      "                  condition $\\varepsilon \\in \\mathbb{Z}$  assuming $\\varepsilon \\in \\mathbb{N}^+$ \n",
      "                    specializing $\\forall_{ a  \\in \\mathbb{N}^+} \\left(a \\in \\mathbb{Z}\\right)$ \n",
      "                      by theorem proveit.number.natural.inNatPos_inIntegers\n",
      "                    condition $\\varepsilon \\in \\mathbb{N}^+$  assuming $\\varepsilon \\in \\mathbb{N}^+$  proven above\n",
      "                  condition $\\left(-\\varepsilon\\right) \\in \\mathbb{Z}$  assuming $\\varepsilon \\in \\mathbb{N}^+$ \n",
      "                    specializing $\\forall_{ a  \\in \\mathbb{Z}} \\left(\\left(-a\\right) \\in \\mathbb{Z}\\right)$ \n",
      "                      by theorem proveit.number.integer.negClosure\n",
      "                    condition $\\varepsilon \\in \\mathbb{Z}$  assuming $\\varepsilon \\in \\mathbb{N}^+$  proven above\n",
      "                condition $l \\in \\{\\left(-\\varepsilon\\right)\\ldots \\varepsilon\\}$  assuming $l \\in \\{\\left(-\\varepsilon\\right)\\ldots \\varepsilon\\}$ \n",
      "              condition $b \\in \\mathbb{Z}$ \n",
      "                by theorem proveit.physics.quantum.QPE.bestInInts\n",
      "          hypothesis $\\left|\\left(\\left(\\left( b + l \\right) ~\\rm{mod}~ 2^{t}\\right) - b\\right)\\right|_{{\\rm mod}~2^{t}} \\leq \\varepsilon$  assuming $\\varepsilon \\in \\mathbb{N}^+$, $l \\in \\{\\left(-\\varepsilon\\right)\\ldots \\varepsilon\\}$ \n",
      "            implication $\\left(\\left|l\\right| \\leq \\varepsilon\\right) \\Rightarrow \\left(\\left|\\left(\\left(\\left( b + l \\right) ~\\rm{mod}~ 2^{t}\\right) - b\\right)\\right|_{{\\rm mod}~2^{t}} \\leq \\varepsilon\\right)$  assuming $\\varepsilon \\in \\mathbb{N}^+$, $l \\in \\{\\left(-\\varepsilon\\right)\\ldots \\varepsilon\\}$ \n",
      "              implication $\\left(\\left|\\left(\\left(\\left( b + l \\right) ~\\rm{mod}~ 2^{t}\\right) - b\\right)\\right|_{{\\rm mod}~2^{t}} \\leq \\left|l\\right|\\right) \\Rightarrow \\left(\\left(\\left|l\\right| \\leq \\varepsilon\\right) \\Rightarrow \\left(\\left|\\left(\\left(\\left( b + l \\right) ~\\rm{mod}~ 2^{t}\\right) - b\\right)\\right|_{{\\rm mod}~2^{t}} \\leq \\varepsilon\\right)\\right)$ \n",
      "                specializing $\\forall_{ x , y , z } \\left(\\left(x \\leq y\\right) \\Rightarrow \\left(\\left(y \\leq z\\right) \\Rightarrow \\left(x \\leq z\\right)\\right)\\right)$ \n",
      "                  by axiom proveit.number.lessThanEqualsTransLessThanEqualsRight\n",
      "              hypothesis $\\left|\\left(\\left(\\left( b + l \\right) ~\\rm{mod}~ 2^{t}\\right) - b\\right)\\right|_{{\\rm mod}~2^{t}} \\leq \\left|l\\right|$  assuming $\\varepsilon \\in \\mathbb{N}^+$, $l \\in \\{\\left(-\\varepsilon\\right)\\ldots \\varepsilon\\}$ \n",
      "                specializing $\\forall_{ a , b , c  \\in \\mathbb{R}} \\left(\\left|\\left(\\left(\\left( b + a \\right) ~\\rm{mod}~ c\\right) - b\\right)\\right|_{{\\rm mod}~c} \\leq \\left|a\\right|\\right)$ \n",
      "                  by theorem proveit.number.real.modAbsSubtractCancel\n",
      "                condition $l \\in \\mathbb{R}$  assuming $\\varepsilon \\in \\mathbb{N}^+$, $l \\in \\{\\left(-\\varepsilon\\right)\\ldots \\varepsilon\\}$ \n",
      "                  specializing $\\forall_{ a  \\in \\mathbb{Z}} \\left(a \\in \\mathbb{R}\\right)$ \n",
      "                    by theorem proveit.number.integer.inReals\n",
      "                  condition $l \\in \\mathbb{Z}$  assuming $\\varepsilon \\in \\mathbb{N}^+$, $l \\in \\{\\left(-\\varepsilon\\right)\\ldots \\varepsilon\\}$  proven above\n",
      "                condition $b \\in \\mathbb{R}$ \n",
      "                  specializing $\\forall_{ a  \\in \\mathbb{Z}} \\left(a \\in \\mathbb{R}\\right)$  proven above\n",
      "                  condition $b \\in \\mathbb{Z}$  proven above\n",
      "                condition $2^{t} \\in \\mathbb{R}$ \n",
      "                  specializing $\\forall_{ a  \\in \\mathbb{N}^+} \\left(a \\in \\mathbb{R}\\right)$ \n",
      "                    by theorem proveit.number.natural.inNatPos_inReals\n",
      "                  condition $2^{t} \\in \\mathbb{N}^+$ \n",
      "                    by theorem proveit.physics.quantum.QPE.two_pow_t_in_posnats\n",
      "            hypothesis $\\left|l\\right| \\leq \\varepsilon$  assuming $\\varepsilon \\in \\mathbb{N}^+$, $l \\in \\{\\left(-\\varepsilon\\right)\\ldots \\varepsilon\\}$ \n",
      "              implication $\\left( \\left(\\left(-\\varepsilon\\right) \\leq l\\right) \\land \\left(l \\leq \\varepsilon\\right) \\right) \\Rightarrow \\left(\\left|l\\right| \\leq \\varepsilon\\right)$  assuming $\\varepsilon \\in \\mathbb{N}^+$, $l \\in \\{\\left(-\\varepsilon\\right)\\ldots \\varepsilon\\}$ \n",
      "                implication $\\left(\\left(\\left|l\\right| \\leq \\varepsilon\\right) \\Leftrightarrow \\left( \\left(\\left(-\\varepsilon\\right) \\leq l\\right) \\land \\left(l \\leq \\varepsilon\\right) \\right)\\right) \\Rightarrow \\left(\\left( \\left(\\left(-\\varepsilon\\right) \\leq l\\right) \\land \\left(l \\leq \\varepsilon\\right) \\right) \\Rightarrow \\left(\\left|l\\right| \\leq \\varepsilon\\right)\\right)$ \n",
      "                  specializing $\\forall_{ A , B } \\left(\\left(A \\Leftrightarrow B\\right) \\Rightarrow \\left(B \\Rightarrow A\\right)\\right)$ \n",
      "                    by theorem proveit.basiclogic.boolean.iffImpliesLeft\n",
      "                hypothesis $\\left(\\left|l\\right| \\leq \\varepsilon\\right) \\Leftrightarrow \\left( \\left(\\left(-\\varepsilon\\right) \\leq l\\right) \\land \\left(l \\leq \\varepsilon\\right) \\right)$  assuming $\\varepsilon \\in \\mathbb{N}^+$, $l \\in \\{\\left(-\\varepsilon\\right)\\ldots \\varepsilon\\}$ \n",
      "                  specializing $\\forall_{ x , y  \\in \\mathbb{R}~|~ \\left(y \\geq 0\\right) } \\left(\\left(\\left|x\\right| \\leq y\\right) \\Leftrightarrow \\left( \\left(\\left(-y\\right) \\leq x\\right) \\land \\left(x \\leq y\\right) \\right)\\right)$ \n",
      "                    by theorem proveit.number.real.absIneq\n",
      "                  condition $l \\in \\mathbb{R}$  assuming $\\varepsilon \\in \\mathbb{N}^+$, $l \\in \\{\\left(-\\varepsilon\\right)\\ldots \\varepsilon\\}$  proven above\n",
      "                  condition $\\varepsilon \\in \\mathbb{R}$  assuming $\\varepsilon \\in \\mathbb{N}^+$ \n",
      "                    specializing $\\forall_{ a  \\in \\mathbb{N}^+} \\left(a \\in \\mathbb{R}\\right)$  proven above\n",
      "                    condition $\\varepsilon \\in \\mathbb{N}^+$  assuming $\\varepsilon \\in \\mathbb{N}^+$  proven above\n",
      "                  condition $\\varepsilon \\geq 0$  assuming $\\varepsilon \\in \\mathbb{N}^+$ \n",
      "                    specializing $\\forall_{ a , b  \\in \\mathbb{R}~|~ \\left(a > b\\right) } \\left(a \\geq b\\right)$ \n",
      "                      by theorem proveit.number.real.relaxGreaterThan\n",
      "                    condition $\\varepsilon > 0$  assuming $\\varepsilon \\in \\mathbb{N}^+$ \n",
      "                      implication $\\left(\\varepsilon \\in \\mathbb{R}^+\\right) \\Rightarrow \\left(\\varepsilon > 0\\right)$  assuming $\\varepsilon \\in \\mathbb{N}^+$ \n",
      "                        implication $\\left(\\left(\\varepsilon \\in \\mathbb{R}^+\\right) \\Leftrightarrow \\left(\\varepsilon > 0\\right)\\right) \\Rightarrow \\left(\\left(\\varepsilon \\in \\mathbb{R}^+\\right) \\Rightarrow \\left(\\varepsilon > 0\\right)\\right)$ \n",
      "                          specializing $\\forall_{ A , B } \\left(\\left(A \\Leftrightarrow B\\right) \\Rightarrow \\left(A \\Rightarrow B\\right)\\right)$ \n",
      "                            by theorem proveit.basiclogic.boolean.iffImpliesRight\n",
      "                        hypothesis $\\left(\\varepsilon \\in \\mathbb{R}^+\\right) \\Leftrightarrow \\left(\\varepsilon > 0\\right)$  assuming $\\varepsilon \\in \\mathbb{N}^+$ \n",
      "                          specializing $\\forall_{ a  \\in \\mathbb{R}} \\left(\\left(a \\in \\mathbb{R}^+\\right) \\Leftrightarrow \\left(a > 0\\right)\\right)$ \n",
      "                            by theorem proveit.number.real.inRealsPos_iff_positive\n",
      "                          condition $\\varepsilon \\in \\mathbb{R}$  assuming $\\varepsilon \\in \\mathbb{N}^+$  proven above\n",
      "                      hypothesis $\\varepsilon \\in \\mathbb{R}^+$  assuming $\\varepsilon \\in \\mathbb{N}^+$ \n",
      "                        specializing $\\forall_{ a  \\in \\mathbb{N}^+} \\left(a \\in \\mathbb{R}^+\\right)$ \n",
      "                          by theorem proveit.number.natural.inNatPos_inRealsPos\n",
      "                        condition $\\varepsilon \\in \\mathbb{N}^+$  assuming $\\varepsilon \\in \\mathbb{N}^+$  proven above\n",
      "                    condition $0 \\in \\mathbb{R}$ \n",
      "                      specializing $\\forall_{ a  \\in \\mathbb{N}} \\left(a \\in \\mathbb{R}\\right)$ \n",
      "                        by theorem proveit.number.natural.inReals\n",
      "                      condition $0 \\in \\mathbb{N}$ \n",
      "                    condition $\\varepsilon \\in \\mathbb{R}$  assuming $\\varepsilon \\in \\mathbb{N}^+$  proven above\n",
      "              hypothesis $ \\left(\\left(-\\varepsilon\\right) \\leq l\\right) \\land \\left(l \\leq \\varepsilon\\right) $  assuming $\\varepsilon \\in \\mathbb{N}^+$, $l \\in \\{\\left(-\\varepsilon\\right)\\ldots \\varepsilon\\}$ \n",
      "                specializing $\\forall_{ A , B ~|~ A , B } \\left( A \\land B \\right)$ \n",
      "                  by theorem proveit.basiclogic.boolean.conjunctionIntro\n",
      "                condition $l \\leq \\varepsilon$  assuming $\\varepsilon \\in \\mathbb{N}^+$, $l \\in \\{\\left(-\\varepsilon\\right)\\ldots \\varepsilon\\}$ \n",
      "                  specializing $\\forall_{ n  \\in \\{\\left(-\\varepsilon\\right)\\ldots \\varepsilon\\}} \\left(n \\leq \\varepsilon\\right)$  assuming $\\varepsilon \\in \\mathbb{N}^+$ \n",
      "                    specializing $\\forall_{ a , b  \\in \\mathbb{Z}} \\left[\\forall_{ n  \\in \\{a\\ldots b\\}} \\left(n \\leq b\\right)\\right]$ \n",
      "                      by theorem proveit.number.integer.intervalUpperBound\n",
      "                    condition $\\varepsilon \\in \\mathbb{Z}$  assuming $\\varepsilon \\in \\mathbb{N}^+$  proven above\n",
      "                    condition $\\left(-\\varepsilon\\right) \\in \\mathbb{Z}$  assuming $\\varepsilon \\in \\mathbb{N}^+$  proven above\n",
      "                  condition $l \\in \\{\\left(-\\varepsilon\\right)\\ldots \\varepsilon\\}$  assuming $l \\in \\{\\left(-\\varepsilon\\right)\\ldots \\varepsilon\\}$  proven above\n",
      "                condition $\\left(-\\varepsilon\\right) \\leq l$  assuming $\\varepsilon \\in \\mathbb{N}^+$, $l \\in \\{\\left(-\\varepsilon\\right)\\ldots \\varepsilon\\}$ \n",
      "                  specializing $\\forall_{ n  \\in \\{\\left(-\\varepsilon\\right)\\ldots \\varepsilon\\}} \\left(\\left(-\\varepsilon\\right) \\leq n\\right)$  assuming $\\varepsilon \\in \\mathbb{N}^+$ \n",
      "                    specializing $\\forall_{ a , b  \\in \\mathbb{Z}} \\left[\\forall_{ n  \\in \\{a\\ldots b\\}} \\left(a \\leq n\\right)\\right]$ \n",
      "                      by theorem proveit.number.integer.intervalLowerBound\n",
      "                    condition $\\varepsilon \\in \\mathbb{Z}$  assuming $\\varepsilon \\in \\mathbb{N}^+$  proven above\n",
      "                    condition $\\left(-\\varepsilon\\right) \\in \\mathbb{Z}$  assuming $\\varepsilon \\in \\mathbb{N}^+$  proven above\n",
      "                  condition $l \\in \\{\\left(-\\varepsilon\\right)\\ldots \\varepsilon\\}$  assuming $l \\in \\{\\left(-\\varepsilon\\right)\\ldots \\varepsilon\\}$  proven above\n",
      "proveit.number.lessThanEqualsTransLessThanEqualsRight\n",
      "proveit.physics.quantum.QPE.modAddDef\n",
      "proveit.physics.quantum.QPE.successDef\n",
      "proveit.basiclogic.boolean.conjunctionIntro\n",
      "proveit.basiclogic.boolean.iffImpliesLeft\n",
      "proveit.basiclogic.boolean.iffImpliesRight\n",
      "proveit.basiclogic.equality.lhsSubstitution\n",
      "proveit.number.integer.allInDiscreteInterval_InInts\n",
      "proveit.number.integer.inReals\n",
      "proveit.number.integer.intervalLowerBound\n",
      "proveit.number.integer.intervalUpperBound\n",
      "proveit.number.integer.negClosure\n",
      "proveit.number.natural.inNatPos_inIntegers\n",
      "proveit.number.natural.inNatPos_inReals\n",
      "proveit.number.natural.inNatPos_inRealsPos\n",
      "proveit.number.natural.inReals\n",
      "proveit.number.real.absIneq\n",
      "proveit.number.real.inRealsPos_iff_positive\n",
      "proveit.number.real.modAbsSubtractCancel\n",
      "proveit.number.real.relaxGreaterThan\n",
      "proveit.physics.quantum.QPE.bestInInts\n",
      "proveit.physics.quantum.QPE.two_pow_t_in_posnats\n",
      "proveit.statistics.probLowerBound\n",
      "Number of used axioms: 3\n",
      "Number of used theorms: 20\n",
      "Number of derivation tree nodes: 66\n"
     ]
    },
    {
     "data": {
      "text/latex": [
       "$\\forall_{ \\varepsilon  \\in \\mathbb{N}^+} \\left(P_{\\rm success}\\left( \\varepsilon \\right) \\geq \\left(\\sum_{l=-\\varepsilon}^{\\varepsilon} Pr_{m}[m = \\left(b \\oplus l\\right)]\\right)\\right)$"
      ],
      "text/plain": [
       "$\\forall_{ \\varepsilon  \\in \\mathbb{N}^+} \\left(P_{\\rm success}\\left( \\varepsilon \\right) \\geq \\left(\\sum_{l=-\\varepsilon}^{\\varepsilon} Pr_{m}[m = \\left(b \\oplus l\\right)]\\right)\\right)$"
      ]
     },
     "execution_count": 19,
     "metadata": {},
     "output_type": "execute_result"
    }
   ],
   "source": [
    "success_sum_instance_expr.generalize(eps, domain=NaturalsPos).qed()"
   ]
  },
  {
   "cell_type": "code",
   "execution_count": null,
   "metadata": {
    "collapsed": true
   },
   "outputs": [],
   "source": []
  }
 ],
 "metadata": {
  "kernelspec": {
   "display_name": "Python 3",
   "language": "python",
   "name": "python3"
  },
  "language_info": {
   "codemirror_mode": {
    "name": "ipython",
    "version": 3
   },
   "file_extension": ".py",
   "mimetype": "text/x-python",
   "name": "python",
   "nbconvert_exporter": "python",
   "pygments_lexer": "ipython3"
  }
 },
 "nbformat": 4,
 "nbformat_minor": 0
}
