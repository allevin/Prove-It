{
 "cells": [
  {
   "cell_type": "code",
   "execution_count": 2,
   "metadata": {
    "collapsed": false
   },
   "outputs": [],
   "source": [
    "from proveit.common import a, b, r, x\n",
    "from proveit.basiclogic import In\n",
    "from proveit.number import Add\n",
    "from proveit.number.common import Integers\n",
    "from proveit.number.integer.theorems import inReals\n",
    "from proveit.trigonometry.theorems import exp_2pi_i_x\n",
    "from proveit.physics.quantum.QPE.axioms import modAddDef, tInNaturalsPos\n",
    "from proveit.physics.quantum.QPE.theorems import exp2pi_i_modadd\n",
    "from proveit.physics.quantum.QPE.phaseEstOps import ModAdd\n",
    "from proveit.physics.quantum.QPE.common import two_pow_t\n",
    "from IPython.display import display"
   ]
  },
  {
   "cell_type": "code",
   "execution_count": 3,
   "metadata": {
    "collapsed": false
   },
   "outputs": [
    {
     "data": {
      "text/plain": [
       "$\\forall_{a, b \\in \\mathbb{Z}} \\left(e^{\\frac{2 \\cdot \\pi \\cdot i \\cdot \\left(a \\oplus b\\right)}{2^{t}}} = e^{\\frac{2 \\cdot \\pi \\cdot i \\cdot \\left(a + b\\right)}{2^{t}}}\\right)$"
      ]
     },
     "execution_count": 3,
     "metadata": {},
     "output_type": "execute_result"
    }
   ],
   "source": [
    "exp2pi_i_modadd.beginProof()"
   ]
  },
  {
   "cell_type": "code",
   "execution_count": 4,
   "metadata": {
    "collapsed": false
   },
   "outputs": [
    {
     "data": {
      "text/plain": [
       "{$a \\in \\mathbb{Z}$, $b \\in \\mathbb{Z}$}"
      ]
     },
     "metadata": {},
     "output_type": "display_data"
    },
    {
     "data": {
      "text/plain": [
       "$\\left(a + b\\right) \\in \\mathbb{R}$"
      ]
     },
     "metadata": {},
     "output_type": "display_data"
    },
    {
     "data": {
      "text/plain": [
       "$2^{t} \\in \\mathbb{R}$"
      ]
     },
     "metadata": {},
     "output_type": "display_data"
    }
   ],
   "source": [
    "assumptions = {In(a, Integers), In(b, Integers)}\n",
    "display(assumptions)\n",
    "display(Add(a, b).deduceInReals(assumptions).proven(assumptions))\n",
    "display(two_pow_t.deduceInReals().proven())"
   ]
  },
  {
   "cell_type": "code",
   "execution_count": 5,
   "metadata": {
    "collapsed": false
   },
   "outputs": [
    {
     "data": {
      "text/plain": [
       "$e^{\\frac{2 \\cdot \\pi \\cdot i \\cdot \\left(\\left(a + b\\right) ~\\rm{mod}~ 2^{t}\\right)}{2^{t}}} = e^{\\frac{2 \\cdot \\pi \\cdot i \\cdot \\left(a + b\\right)}{2^{t}}}$"
      ]
     },
     "execution_count": 5,
     "metadata": {},
     "output_type": "execute_result"
    }
   ],
   "source": [
    "exp_2pi_i_x_spec = exp_2pi_i_x.specialize({x:Add(a, b), r:two_pow_t}).proven(assumptions)\n",
    "exp_2pi_i_x_spec"
   ]
  },
  {
   "cell_type": "code",
   "execution_count": 6,
   "metadata": {
    "collapsed": false
   },
   "outputs": [
    {
     "data": {
      "text/plain": [
       "$\\left(a \\oplus b\\right) = \\left(\\left(a + b\\right) ~\\rm{mod}~ 2^{t}\\right)$"
      ]
     },
     "execution_count": 6,
     "metadata": {},
     "output_type": "execute_result"
    }
   ],
   "source": [
    "modAddDefSpec = modAddDef.specialize().proven(assumptions)\n",
    "modAddDefSpec"
   ]
  },
  {
   "cell_type": "code",
   "execution_count": 7,
   "metadata": {
    "collapsed": false
   },
   "outputs": [
    {
     "data": {
      "text/plain": [
       "$e^{\\frac{2 \\cdot \\pi \\cdot i \\cdot \\left(a \\oplus b\\right)}{2^{t}}} = e^{\\frac{2 \\cdot \\pi \\cdot i \\cdot \\left(a + b\\right)}{2^{t}}}$"
      ]
     },
     "execution_count": 7,
     "metadata": {},
     "output_type": "execute_result"
    }
   ],
   "source": [
    "exp2pi_i_modadd_spec = modAddDefSpec.subLeftSideInto(exp_2pi_i_x_spec).proven(assumptions)\n",
    "exp2pi_i_modadd_spec"
   ]
  },
  {
   "cell_type": "code",
   "execution_count": 8,
   "metadata": {
    "collapsed": false
   },
   "outputs": [
    {
     "data": {
      "text/plain": [
       "$\\forall_{a, b \\in \\mathbb{Z}} \\left(e^{\\frac{2 \\cdot \\pi \\cdot i \\cdot \\left(a \\oplus b\\right)}{2^{t}}} = e^{\\frac{2 \\cdot \\pi \\cdot i \\cdot \\left(a + b\\right)}{2^{t}}}\\right)$"
      ]
     },
     "execution_count": 8,
     "metadata": {},
     "output_type": "execute_result"
    }
   ],
   "source": [
    "exp2pi_i_modadd = exp2pi_i_modadd_spec.generalize({a, b}, domain=Integers).proven()\n",
    "exp2pi_i_modadd"
   ]
  },
  {
   "cell_type": "code",
   "execution_count": 9,
   "metadata": {
    "collapsed": false
   },
   "outputs": [
    {
     "name": "stdout",
     "output_type": "stream",
     "text": [
      "root forall_{a, b in Integers} (e^((2 * pi * i * (a MOD_ADD b)) / 2^(t)) = e^((2 * pi * i * (a + b)) / 2^(t))) \n",
      "  generalizing e^((2 * pi * i * (a MOD_ADD b)) / 2^(t)) = e^((2 * pi * i * (a + b)) / 2^(t))  assuming a in Integers, b in Integers \n",
      "    implication (e^((2 * pi * i * ((a + b) mod 2^(t))) / 2^(t)) = e^((2 * pi * i * (a + b)) / 2^(t))) => (e^((2 * pi * i * (a MOD_ADD b)) / 2^(t)) = e^((2 * pi * i * (a + b)) / 2^(t)))  assuming a in Integers, b in Integers \n",
      "      implication ((a MOD_ADD b) = ((a + b) mod 2^(t))) => ((e^((2 * pi * i * ((a + b) mod 2^(t))) / 2^(t)) = e^((2 * pi * i * (a + b)) / 2^(t))) => (e^((2 * pi * i * (a MOD_ADD b)) / 2^(t)) = e^((2 * pi * i * (a + b)) / 2^(t)))) \n",
      "        specializing forall_{P, x, y} ((x = y) => (P(y) => P(x))) \n",
      "          by theorem proveit.basiclogic.equality.lhsSubstitution\n",
      "      hypothesis (a MOD_ADD b) = ((a + b) mod 2^(t))  assuming a in Integers, b in Integers \n",
      "        specializing forall_{a, b in Integers} ((a MOD_ADD b) = ((a + b) mod 2^(t))) \n",
      "          by axiom proveit.physics.quantum.QPE.modAddDef\n",
      "        condition a in Integers  assuming a in Integers \n",
      "        condition b in Integers  assuming b in Integers \n",
      "    hypothesis e^((2 * pi * i * ((a + b) mod 2^(t))) / 2^(t)) = e^((2 * pi * i * (a + b)) / 2^(t))  assuming a in Integers, b in Integers \n",
      "      specializing forall_{x, r in Reals} (e^((2 * pi * i * (x mod r)) / r) = e^((2 * pi * i * x) / r)) \n",
      "        by theorem proveit.trigonometry.exp_2pi_i_x\n",
      "      condition (a + b) in Reals  assuming a in Integers, b in Integers \n",
      "        specializing forall_{a in Integers} (a in Reals) \n",
      "          by theorem proveit.number.integer.inReals\n",
      "        condition (a + b) in Integers  assuming a in Integers, b in Integers \n",
      "          specializing forall_{..x.. in Integers} (( .. + x + .. ) in Integers) \n",
      "            by theorem proveit.number.integer.addClosure\n",
      "          condition a in Integers  assuming a in Integers  proven above\n",
      "          condition b in Integers  assuming b in Integers  proven above\n",
      "      condition 2^(t) in Reals \n",
      "        specializing forall_{a in NaturalsPos} (a in Reals) \n",
      "          by theorem proveit.number.natural.inNatPos_inReals\n",
      "        condition 2^(t) in NaturalsPos \n",
      "          specializing forall_{a, b in Naturals | a != 0} (a^(b) in NaturalsPos) \n",
      "            by theorem proveit.number.natural.powClosure\n",
      "          condition 2 in Naturals \n",
      "            specializing forall_{a in NaturalsPos} (a in Naturals) \n",
      "              by theorem proveit.number.natural.inNatPos_inNaturals\n",
      "            condition 2 in NaturalsPos \n",
      "          condition 2 != 0 \n",
      "            specializing forall_{a in Reals | a > 0} (a != 0) \n",
      "              by theorem proveit.number.real.positive_implies_notzero\n",
      "            condition 2 > 0 \n",
      "              implication (2 in RealsPos) => (2 > 0) \n",
      "                implication ((2 in RealsPos) <=> (2 > 0)) => ((2 in RealsPos) => (2 > 0)) \n",
      "                  specializing forall_{A, B} ((A <=> B) => (A => B)) \n",
      "                    by theorem proveit.basiclogic.boolean.iffImpliesRight\n",
      "                hypothesis (2 in RealsPos) <=> (2 > 0) \n",
      "                  specializing forall_{a in Reals} ((a in RealsPos) <=> (a > 0)) \n",
      "                    by theorem proveit.number.real.inRealsPos_iff_positive\n",
      "                  condition 2 in Reals \n",
      "                    specializing forall_{a in NaturalsPos} (a in Reals)  proven above\n",
      "                    condition 2 in NaturalsPos  proven above\n",
      "              hypothesis 2 in RealsPos \n",
      "                specializing forall_{a in NaturalsPos} (a in RealsPos) \n",
      "                  by theorem proveit.number.natural.inNatPos_inRealsPos\n",
      "                condition 2 in NaturalsPos  proven above\n",
      "            condition 2 in Reals  proven above\n",
      "          condition t in Naturals \n",
      "            specializing forall_{a in NaturalsPos} (a in Naturals)  proven above\n",
      "            condition t in NaturalsPos \n",
      "              by axiom proveit.physics.quantum.QPE.tInNaturalsPos\n",
      "proveit.physics.quantum.QPE.modAddDef\n",
      "proveit.physics.quantum.QPE.tInNaturalsPos\n",
      "proveit.basiclogic.boolean.iffImpliesRight\n",
      "proveit.basiclogic.equality.lhsSubstitution\n",
      "proveit.number.integer.addClosure\n",
      "proveit.number.integer.inReals\n",
      "proveit.number.natural.inNatPos_inNaturals\n",
      "proveit.number.natural.inNatPos_inReals\n",
      "proveit.number.natural.inNatPos_inRealsPos\n",
      "proveit.number.natural.powClosure\n",
      "proveit.number.real.inRealsPos_iff_positive\n",
      "proveit.number.real.positive_implies_notzero\n",
      "proveit.trigonometry.exp_2pi_i_x\n",
      "Number of used axioms: 2\n",
      "Number of used theorms: 11\n",
      "Number of derivation tree nodes: 35\n"
     ]
    },
    {
     "data": {
      "text/plain": [
       "$\\forall_{a, b \\in \\mathbb{Z}} \\left(e^{\\frac{2 \\cdot \\pi \\cdot i \\cdot \\left(a \\oplus b\\right)}{2^{t}}} = e^{\\frac{2 \\cdot \\pi \\cdot i \\cdot \\left(a + b\\right)}{2^{t}}}\\right)$"
      ]
     },
     "execution_count": 9,
     "metadata": {},
     "output_type": "execute_result"
    }
   ],
   "source": [
    "exp2pi_i_modadd.qed() "
   ]
  },
  {
   "cell_type": "code",
   "execution_count": null,
   "metadata": {
    "collapsed": true
   },
   "outputs": [],
   "source": []
  }
 ],
 "metadata": {
  "kernelspec": {
   "display_name": "Python 3",
   "language": "python",
   "name": "python3"
  },
  "language_info": {
   "codemirror_mode": {
    "name": "ipython",
    "version": 3
   },
   "file_extension": ".py",
   "mimetype": "text/x-python",
   "name": "python",
   "nbconvert_exporter": "python",
   "pygments_lexer": "ipython3"
  }
 },
 "nbformat": 4,
 "nbformat_minor": 0
}
