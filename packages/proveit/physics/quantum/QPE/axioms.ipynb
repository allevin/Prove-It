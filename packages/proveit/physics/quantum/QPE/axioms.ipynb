{
 "cells": [
  {
   "cell_type": "code",
   "execution_count": 1,
   "metadata": {},
   "outputs": [],
   "source": [
    "import proveit.specialStatementMagic # for %begin_axioms and %end_axioms\n",
    "from proveit.expression import Operation\n",
    "from proveit.basiclogic import Forall, In, Equals\n",
    "from proveit.number import Add, Subtract, Multiply, Exponentiate, Fraction, Abs, Floor\n",
    "from proveit.number import GreaterThanEquals, LessThanEquals, Mod, ModAbs, Round, IntervalCO, DiscreteContiguousSet\n",
    "from proveit.number.common import e, i, zero, one, two, pi, two_pi, Integers, NaturalsPos, Reals\n",
    "from proveit.number.numberSets import Naturals\n",
    "from proveit.trigonometry import AngDiff\n",
    "from proveit.linalg import MatrixProd, ScalarProd, SU, TensorProd, TensorExp\n",
    "from proveit.statistics import Prob\n",
    "from proveit.physics.quantum import Bra, Ket, RegisterBra, RegisterKet, Meas, Circuit, Gate, Input, Output, MultiWire\n",
    "from proveit.physics.quantum.common import Hgate, RegisterSU, QubitRegisterSpace, ket0, \\\n",
    "    CTRL_DN, WIRE_LINK, WIRE_DN, PASS\n",
    "from proveit.physics.quantum.QFT import InverseFourierTransform\n",
    "# Note that U_, u_, and t_ are Literals that will eventually be converted to\n",
    "# Variable counterparts through meta-reasoning.\n",
    "from proveit.physics.quantum.QPE.common import U_, n_, u_, phase_, t_, Psi_, m_, phase_m_, b_, delta_, two_pow_t,\\\n",
    "    psi_1, psi_k, psi_next, psi_t, alpha_l, U_pow_two_pow_k\n",
    "from proveit.physics.quantum.QPE import QPE, PhaseEst\n",
    "from proveit.physics.quantum.QPE.phaseEstOps import Psuccess, Pfail, ModAdd\n",
    "from proveit.common import U, u, t, eps, a, b, k, l\n",
    "from IPython.display import display"
   ]
  },
  {
   "cell_type": "code",
   "execution_count": 2,
   "metadata": {},
   "outputs": [],
   "source": [
    "%begin_axioms"
   ]
  },
  {
   "cell_type": "markdown",
   "metadata": {},
   "source": [
    "Let $U$ be a unitary operator that acts on $n$ qubits, $u$ an eigenstate of U with eigenvalue $e^{2 \\pi i \\varphi}$:"
   ]
  },
  {
   "cell_type": "code",
   "execution_count": 3,
   "metadata": {},
   "outputs": [
    {
     "data": {
      "image/png": "[encoded data removed]",
      "text/plain": [
       "$n \\in \\mathbb{N}^+$"
      ]
     },
     "metadata": {},
     "output_type": "display_data"
    },
    {
     "data": {
      "image/png": "[encoded data removed]",
      "text/plain": [
       "$U \\in SU\\left( 2^{n} \\right)$"
      ]
     },
     "metadata": {},
     "output_type": "display_data"
    },
    {
     "data": {
      "image/png": "[encoded data removed]",
      "text/plain": [
       "$\\lvert u \\rangle \\in \\left(\\mathbb{C}^{2}\\right)^{\\otimes n}$"
      ]
     },
     "metadata": {},
     "output_type": "display_data"
    },
    {
     "data": {
      "image/png": "[encoded data removed]",
      "text/plain": [
       "$\\varphi \\in \\left[0,1\\right)$"
      ]
     },
     "metadata": {},
     "output_type": "display_data"
    },
    {
     "data": {
      "image/png": "[encoded data removed]",
      "text/plain": [
       "$\\left( U   \\lvert u \\rangle \\right) = \\left(\\left(e^{ 2 \\cdot \\pi \\cdot i \\cdot \\varphi }\\right)   \\lvert u \\rangle\\right)$"
      ]
     },
     "metadata": {},
     "output_type": "display_data"
    }
   ],
   "source": [
    "nInNatPos = In(n_, NaturalsPos)\n",
    "unitaryU = In(U_, RegisterSU(n_))\n",
    "uKetRegister = In(Ket(u_), QubitRegisterSpace(n_))\n",
    "phaseInInterval = In(phase_, IntervalCO(zero, one))\n",
    "eigenUu = Equals(MatrixProd(U_, Ket(u_)), ScalarProd(Exponentiate(e, Multiply(two, pi, i, phase_)), Ket(u_)))\n",
    "display(nInNatPos)\n",
    "display(unitaryU)\n",
    "display(uKetRegister)\n",
    "display(phaseInInterval)\n",
    "display(eigenUu)  "
   ]
  },
  {
   "cell_type": "markdown",
   "metadata": {},
   "source": [
    "Define the Quantum Phase Estimation algorithm, for any $U$, $u$, and $t$ (number of bits of precision), using quantum circuit representations, broken into three stages with recursion in the middle."
   ]
  },
  {
   "cell_type": "code",
   "execution_count": 4,
   "metadata": {},
   "outputs": [
    {
     "data": {
      "image/png": "[encoded data removed]",
      "text/plain": [
       "$t \\in \\mathbb{N}^+$"
      ]
     },
     "metadata": {},
     "output_type": "display_data"
    },
    {
     "data": {
      "image/png": "[encoded data removed]",
      "text/plain": [
       "$\\forall_{ k  \\in \\mathbb{N}^+} \\left(\\lvert \\psi_{k} \\rangle \\in \\left(\\mathbb{C}^{2}\\right)^{\\otimes k}\\right)$"
      ]
     },
     "metadata": {},
     "output_type": "display_data"
    },
    {
     "data": {
      "image/png": "[encoded data removed]",
      "text/plain": [
       "$\\lvert \\Psi \\rangle \\in \\left(\\mathbb{C}^{2}\\right)^{\\otimes t}$"
      ]
     },
     "metadata": {},
     "output_type": "display_data"
    }
   ],
   "source": [
    "tInNaturalsPos = In(t_, NaturalsPos)\n",
    "psiKetsInQRegSpace = Forall(k, In(Ket(psi_k), QubitRegisterSpace(k)), domain=NaturalsPos)\n",
    "PsiKetInQRegSpace = In(Ket(Psi_), QubitRegisterSpace(t_))\n",
    "display(tInNaturalsPos)\n",
    "display(psiKetsInQRegSpace)\n",
    "display(PsiKetInQRegSpace)"
   ]
  },
  {
   "cell_type": "code",
   "execution_count": 5,
   "metadata": {},
   "outputs": [
    {
     "data": {
      "image/png": "[encoded data removed]",
      "text/plain": [
       "$\\begin{array}{cc}\n",
       "\\Qcircuit @C=1em @R=.7em { & \\lstick{\\lvert 0 \\rangle} & \\gate{H} & \\ctrl{1} & \\rstick{\\lvert \\psi_{1} \\rangle} \\qw \\\\  & \\lstick{\\lvert u \\rangle} & /^{n} \\qw & \\gate{U} & \\rstick{\\lvert u \\rangle} \\qw} & ~ \n",
       "\\end{array}$"
      ]
     },
     "execution_count": 5,
     "metadata": {},
     "output_type": "execute_result"
    }
   ],
   "source": [
    "firstQPE = Circuit([[Input(ket0), Hgate, CTRL_DN, Output(Ket(psi_1))],\n",
    "                [Input(Ket(u_)), MultiWire(n_), Gate(U_), Output(Ket(u_))]])\n",
    "firstQPE"
   ]
  },
  {
   "cell_type": "code",
   "execution_count": 6,
   "metadata": {},
   "outputs": [
    {
     "data": {
      "image/png": "[encoded data removed]",
      "text/plain": [
       "$\\forall_{ k  \\in \\mathbb{N}^+} \\left[\n",
       "\\begin{array}{cc}\n",
       "\\Qcircuit @C=1em @R=.7em { & \\lstick{\\lvert \\psi_{k} \\rangle} & /^{k} \\qw & \\qw & \\qwx[1] \\qw \\\\  & \\lstick{\\lvert 0 \\rangle} & \\gate{H} & \\ctrl{1} & \\qw & /^{ k + 1 } \\qw & \\rstick{\\lvert \\psi_{ k + 1 } \\rangle} \\qw \\\\  & \\lstick{\\lvert u \\rangle} & /^{n} \\qw & \\gate{U^{2^{k}}} & \\rstick{\\lvert u \\rangle} \\qw} & ~ \n",
       "\\end{array}\n",
       "\\right]$"
      ]
     },
     "execution_count": 6,
     "metadata": {},
     "output_type": "execute_result"
    }
   ],
   "source": [
    "midQPE = Forall(k, \n",
    "               Circuit([[Input(Ket(psi_k)), MultiWire(k), PASS, WIRE_DN, PASS, PASS],\n",
    "                [Input(ket0), Hgate, CTRL_DN, WIRE_LINK, MultiWire(Add(k, one)), Output(Ket(psi_next))],\n",
    "                [Input(Ket(u_)), MultiWire(n_), Gate(U_pow_two_pow_k), Output(Ket(u_)), PASS, PASS]]),\n",
    "       domain=NaturalsPos)\n",
    "midQPE"
   ]
  },
  {
   "cell_type": "code",
   "execution_count": 7,
   "metadata": {},
   "outputs": [
    {
     "data": {
      "image/png": "[encoded data removed]",
      "text/plain": [
       "$\\begin{array}{cc}\n",
       "\\Qcircuit @C=1em @R=.7em { & \\lstick{\\lvert \\psi_{t} \\rangle} & /^{t} \\qw & \\gate{{\\rm FT}^{\\dag}_{t}} & \\rstick{\\lvert \\Psi \\rangle} \\qw} & ~ \n",
       "\\end{array}$"
      ]
     },
     "execution_count": 7,
     "metadata": {},
     "output_type": "execute_result"
    }
   ],
   "source": [
    "finalQPE = Circuit([[Input(Ket(psi_t)), MultiWire(t_), Gate(InverseFourierTransform(t_)), Output(Ket(Psi_))]])\n",
    "finalQPE"
   ]
  },
  {
   "cell_type": "markdown",
   "metadata": {},
   "source": [
    "Let $\\lvert \\Psi \\rangle$ be the outcome of the $t$-qubit register of ${\\rm QPE}(U, t)$ acting on $\\lvert u \\rangle$, $m$ be a random variable representing the measurement of Psi with the register interpretted as an integer (via binary representation), and $\\varphi_m = 2 \\pi m/2^t$ be the random variable phase outcome of ${\\rm QPE}(U, t)$:"
   ]
  },
  {
   "cell_type": "code",
   "execution_count": 8,
   "metadata": {},
   "outputs": [
    {
     "data": {
      "image/png": "[encoded data removed]",
      "text/plain": [
       "$m = {\\cal M}\\left( \\lvert \\Psi \\rangle \\right)$"
      ]
     },
     "metadata": {},
     "output_type": "display_data"
    },
    {
     "data": {
      "image/png": "[encoded data removed]",
      "text/plain": [
       "$\\varphi_m = \\frac{m}{2^{t}}$"
      ]
     },
     "metadata": {},
     "output_type": "display_data"
    }
   ],
   "source": [
    "mDef = Equals(m_, Meas(Ket(Psi_)))\n",
    "phase_m_def = Equals(phase_m_, Fraction(m_, two_pow_t))\n",
    "display(mDef)\n",
    "display(phase_m_def)"
   ]
  },
  {
   "cell_type": "markdown",
   "metadata": {},
   "source": [
    "Let $b$ be the value for $m$ that gives the closest $\\varphi_m$ to $\\varphi$ without exceeding it, and let $\\delta$ be this difference:"
   ]
  },
  {
   "cell_type": "code",
   "execution_count": 9,
   "metadata": {},
   "outputs": [
    {
     "data": {
      "image/png": "[encoded data removed]",
      "text/plain": [
       "$b = \\lfloor  \\varphi \\cdot \\left(2^{t}\\right) \\rfloor$"
      ]
     },
     "metadata": {},
     "output_type": "display_data"
    },
    {
     "data": {
      "image/png": "[encoded data removed]",
      "text/plain": [
       "$\\delta = \\left(\\varphi - \\frac{b}{2^{t}}\\right)$"
      ]
     },
     "metadata": {},
     "output_type": "display_data"
    }
   ],
   "source": [
    "bestDef = Equals(b_, Floor(Multiply(phase_, two_pow_t)))\n",
    "deltaDef = Equals(delta_, Subtract(phase_, Fraction(b_, two_pow_t)))\n",
    "display(bestDef)\n",
    "display(deltaDef)"
   ]
  },
  {
   "cell_type": "markdown",
   "metadata": {},
   "source": [
    "The probability of success is defined as $\\theta_m$ being within some epsilon of $\\theta$: "
   ]
  },
  {
   "cell_type": "code",
   "execution_count": 10,
   "metadata": {},
   "outputs": [
    {
     "data": {
      "image/png": "[encoded data removed]",
      "text/plain": [
       "$\\forall_{ \\varepsilon  \\in \\mathbb{N}^+} \\left(P_{\\rm success}\\left( \\varepsilon \\right) = Pr_{m}[\\left|\\left(m - b\\right)\\right|_{{\\rm mod}~\\left(2^{t}\\right)} \\leq \\varepsilon]\\right)$"
      ]
     },
     "metadata": {},
     "output_type": "display_data"
    },
    {
     "data": {
      "image/png": "[encoded data removed]",
      "text/plain": [
       "$\\forall_{ \\varepsilon  \\in \\mathbb{N}^+} \\left(P_{\\rm fail}\\left( \\varepsilon \\right) = \\left(1 - P_{\\rm success}\\left( \\varepsilon \\right)\\right)\\right)$"
      ]
     },
     "metadata": {},
     "output_type": "display_data"
    }
   ],
   "source": [
    "successDef = Forall(eps, Equals(Psuccess(eps), \n",
    "                                Prob(LessThanEquals(ModAbs(Subtract(m_, b_), two_pow_t), eps), m_)), \n",
    "                    domain=NaturalsPos)\n",
    "failDef = Forall(eps, Equals(Pfail(eps), Subtract(one, Psuccess(eps))), domain=NaturalsPos)\n",
    "display(successDef)\n",
    "display(failDef)             "
   ]
  },
  {
   "cell_type": "markdown",
   "metadata": {},
   "source": [
    "Let $\\alpha_l$ be the amplitude of $\\lvert \\Psi \\rangle$ for the $b \\oplus l$ state, where $\\oplus$ is defined as addition modulo $2^t$:"
   ]
  },
  {
   "cell_type": "code",
   "execution_count": 11,
   "metadata": {},
   "outputs": [
    {
     "data": {
      "image/png": "[encoded data removed]",
      "text/plain": [
       "$\\forall_{ a , b  \\in \\mathbb{Z}} \\left(\\left(a \\oplus b\\right) = \\left(\\left( a + b \\right) ~\\rm{mod}~ \\left(2^{t}\\right)\\right)\\right)$"
      ]
     },
     "metadata": {},
     "output_type": "display_data"
    },
    {
     "data": {
      "image/png": "[encoded data removed]",
      "text/plain": [
       "$\\forall_{ l  \\in \\mathbb{Z}} \\left(\\alpha_{l} = \\prescript{}{t}\\langle b \\oplus l \\rvert\\Psi \\rangle\\right)$"
      ]
     },
     "metadata": {},
     "output_type": "display_data"
    }
   ],
   "source": [
    "modAddDef = Forall((a, b), Equals(ModAdd(a, b), Mod(Add(a, b), two_pow_t)), domain=Integers)\n",
    "alphaDef = Forall(l, Equals(alpha_l, MatrixProd(RegisterBra(ModAdd(b_, l), t_), Ket(Psi_))), domain=Integers)\n",
    "display(modAddDef)\n",
    "display(alphaDef)"
   ]
  },
  {
   "cell_type": "code",
   "execution_count": 12,
   "metadata": {},
   "outputs": [
    {
     "name": "stdout",
     "output_type": "stream",
     "text": [
      "Creating axioms *.dill and *.pv_it files in the __pv_it__ directory\n",
      "These axioms may be imported from proveit.physics.quantum.QPE.axioms\n"
     ]
    }
   ],
   "source": [
    "%end_axioms"
   ]
  },
  {
   "cell_type": "code",
   "execution_count": null,
   "metadata": {
    "collapsed": true
   },
   "outputs": [],
   "source": []
  }
 ],
 "metadata": {
  "kernelspec": {
   "display_name": "Python 3",
   "language": "python",
   "name": "python3"
  },
  "language_info": {
   "codemirror_mode": {
    "name": "ipython",
    "version": 3
   },
   "file_extension": ".py",
   "mimetype": "text/x-python",
   "name": "python",
   "nbconvert_exporter": "python",
   "pygments_lexer": "ipython3",
   "version": "3.7.0"
  }
 },
 "nbformat": 4,
 "nbformat_minor": 1
}
