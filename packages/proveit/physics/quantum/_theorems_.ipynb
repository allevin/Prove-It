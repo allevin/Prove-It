{
 "cells": [
  {
   "cell_type": "markdown",
   "metadata": {},
   "source": [
    "Theorems for context <a class=\"ProveItLink\" href=\"_context_.ipynb\">proveit.physics.quantum</a>\n",
    "========"
   ]
  },
  {
   "cell_type": "code",
   "execution_count": null,
   "metadata": {},
   "outputs": [],
   "source": [
    "import proveit\n",
    "from proveit._common_ import alpha, U, x\n",
    "from proveit.logic import Equals, Forall, InSet\n",
    "from proveit.number import zero, one, two, Add, Complexes\n",
    "from proveit.physics.quantum._common_ import (\n",
    "        H, invRoot2, ket0, ket1, ketPlus, QubitSpace)\n",
    "\n",
    "# from proveit.physics.quantum.common import I, H, Hgate, CTRL_DN, WIRE_DN, WIRE_LINK, PASS, \\\n",
    "#     , QubitRegisterSpace, RegisterSU \n",
    "from proveit.linalg import MatrixProd, ScalarProd, SU\n",
    "# the context is in the current directory:\n",
    "context = proveit.Context('.') # adds context root to sys.path if necessary"
   ]
  },
  {
   "cell_type": "code",
   "execution_count": null,
   "metadata": {},
   "outputs": [],
   "source": [
    "%begin theorems"
   ]
  },
  {
   "cell_type": "code",
   "execution_count": null,
   "metadata": {},
   "outputs": [],
   "source": [
    "unitaryHadamard = InSet(H, SU(two))"
   ]
  },
  {
   "cell_type": "code",
   "execution_count": null,
   "metadata": {},
   "outputs": [],
   "source": [
    "ketPlusDistributed = Equals(ketPlus, Add(ScalarProd(invRoot2, ket0), ScalarProd(invRoot2, ket1)))"
   ]
  },
  {
   "cell_type": "code",
   "execution_count": null,
   "metadata": {},
   "outputs": [],
   "source": [
    "scaledQubitStateInQubitSpace = Forall(\n",
    "        x,\n",
    "        Forall(alpha,\n",
    "               InSet(ScalarProd(alpha, x), QubitSpace),\n",
    "               domain=Complexes),\n",
    "        domain=QubitSpace)"
   ]
  },
  {
   "cell_type": "code",
   "execution_count": null,
   "metadata": {},
   "outputs": [],
   "source": [
    "transformedQubitStateInQubitSpace = Forall(\n",
    "        x,\n",
    "        Forall(U,\n",
    "               InSet(MatrixProd(U, x), QubitSpace),\n",
    "               domain=SU(two)),\n",
    "        domain=QubitSpace)"
   ]
  },
  {
   "cell_type": "code",
   "execution_count": null,
   "metadata": {},
   "outputs": [],
   "source": [
    "summedQubitStateInQubitSpace = Forall(xEtc, In(Add(xEtc), QubitSpace), domain=QubitSpace)"
   ]
  },
  {
   "cell_type": "code",
   "execution_count": null,
   "metadata": {},
   "outputs": [],
   "source": [
    "%end theorems"
   ]
  }
 ],
 "metadata": {
  "kernelspec": {
   "display_name": "Python 3",
   "language": "python",
   "name": "python3"
  }
 },
 "nbformat": 4,
 "nbformat_minor": 0
}
