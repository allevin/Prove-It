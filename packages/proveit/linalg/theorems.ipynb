{
 "cells": [
  {
   "cell_type": "code",
   "execution_count": 1,
   "metadata": {
    "collapsed": false
   },
   "outputs": [],
   "source": [
    "import proveit.specialStatementMagic # for %begin_theorems and %end_theorems\n",
    "from proveit.basiclogic import Equals, Forall, Iff, In, Implies\n",
    "from proveit.multiExpression import MultiVariable, Etcetera\n",
    "from proveit.linalg import ScalarProd, TensorProd, MatrixProd, TensorExp, SU\n",
    "from proveit.number.common import one\n",
    "from proveit.number.numberSets import Complexes, NaturalsPos\n",
    "from proveit.common import aEtc, b, n, k, f, x, y, z, fx, fy, xEtc, yEtc, zEtc, A, U, S, alpha, beta\n",
    "from proveit.number import Add, Multiply, Exponentiate, Summation"
   ]
  },
  {
   "cell_type": "code",
   "execution_count": 2,
   "metadata": {
    "collapsed": false
   },
   "outputs": [],
   "source": [
    "%begin_theorems"
   ]
  },
  {
   "cell_type": "code",
   "execution_count": 3,
   "metadata": {
    "collapsed": false
   },
   "outputs": [
    {
     "data": {
      "image/png": "[encoded data removed]",
      "text/plain": [
       "$\\forall_{~.., x_{\\Box} ,..~, y ,~.., z_{\\Box} ,..~} \\left[\\forall_{ \\alpha } \\left(\\left(~..\\otimes x_{\\Box} \\otimes..~\\otimes \\left(\\alpha   y\\right) \\otimes~..\\otimes z_{\\Box} \\otimes..~\\right) = \\left(\\alpha   \\left(~..\\otimes x_{\\Box} \\otimes..~\\otimes y \\otimes~..\\otimes z_{\\Box} \\otimes..~\\right)\\right)\\right)\\right]$"
      ]
     },
     "execution_count": 3,
     "metadata": {},
     "output_type": "execute_result"
    }
   ],
   "source": [
    "factorScalarFromTensorProd = Forall((xEtc, y, zEtc),\n",
    "                                    Forall(alpha,\n",
    "                                           Equals(TensorProd(xEtc, ScalarProd(alpha, y), zEtc),\n",
    "                                                 ScalarProd(alpha, TensorProd(xEtc, y, zEtc)))))\n",
    "factorScalarFromTensorProd                             "
   ]
  },
  {
   "cell_type": "code",
   "execution_count": 4,
   "metadata": {
    "collapsed": false
   },
   "outputs": [
    {
     "data": {
      "image/png": "[encoded data removed]",
      "text/plain": [
       "$\\forall_{ x } \\left[\\forall_{ \\alpha , \\beta } \\left(\\left(\\alpha   \\left(\\beta   x\\right)\\right) = \\left(\\left( \\alpha \\cdot \\beta \\right)   x\\right)\\right)\\right]$"
      ]
     },
     "execution_count": 4,
     "metadata": {},
     "output_type": "execute_result"
    }
   ],
   "source": [
    "doublyScaledAsSinglyScaled = Forall(x, Forall((alpha, beta), Equals(ScalarProd(alpha, ScalarProd(beta, x)), \n",
    "                                                      ScalarProd(Multiply(alpha, beta), x))))\n",
    "doublyScaledAsSinglyScaled"
   ]
  },
  {
   "cell_type": "code",
   "execution_count": 5,
   "metadata": {
    "collapsed": false
   },
   "outputs": [
    {
     "data": {
      "image/png": "[encoded data removed]",
      "text/plain": [
       "$\\forall_{~.., a_{\\Box} ,..~, x , y ,~.., z_{\\Box} ,..~} \\left(\\left(\\left(~..\\otimes a_{\\Box} \\otimes..~\\otimes x \\otimes~..\\otimes z_{\\Box} \\otimes..~\\right) = \\left(~..\\otimes a_{\\Box} \\otimes..~\\otimes y \\otimes~..\\otimes z_{\\Box} \\otimes..~\\right)\\right) \\Leftrightarrow \\left(x = y\\right)\\right)$"
      ]
     },
     "execution_count": 5,
     "metadata": {},
     "output_type": "execute_result"
    }
   ],
   "source": [
    "tensorProdEquivByElimination = Forall((aEtc, x, y, zEtc), Iff(Equals(TensorProd(aEtc, x, zEtc), TensorProd(aEtc, y, zEtc)),\n",
    "                                                              Equals(x, y)))\n",
    "tensorProdEquivByElimination"
   ]
  },
  {
   "cell_type": "code",
   "execution_count": 6,
   "metadata": {
    "collapsed": false
   },
   "outputs": [
    {
     "data": {
      "image/png": "[encoded data removed]",
      "text/plain": [
       "$\\forall_{ n , k  \\in \\mathbb{N}^+} \\left[\\forall_{ U  \\in SU\\left( n \\right)} \\left(\\left(U^{k}\\right) \\in SU\\left( n \\right)\\right)\\right]$"
      ]
     },
     "execution_count": 6,
     "metadata": {},
     "output_type": "execute_result"
    }
   ],
   "source": [
    "intPowSUclosure = Forall((n, k), Forall(U, In(Exponentiate(U, k), SU(n)), \n",
    "                                     domain=SU(n)), \n",
    "                      domain=NaturalsPos)\n",
    "intPowSUclosure"
   ]
  },
  {
   "cell_type": "code",
   "execution_count": 7,
   "metadata": {
    "collapsed": false
   },
   "outputs": [
    {
     "data": {
      "image/png": "[encoded data removed]",
      "text/plain": [
       "$\\forall_{ k  \\in \\mathbb{N}^+} \\left[\\forall_{ b  \\in \\mathbb{C}} \\left[\\forall_{ A , x } \\left(\\left(\\left( A   x \\right) = \\left(b   x\\right)\\right) \\Rightarrow \\left(\\left( \\left(A^{k}\\right)   x \\right) = \\left(\\left(b^{k}\\right)   x\\right)\\right)\\right)\\right]\\right]$"
      ]
     },
     "execution_count": 7,
     "metadata": {},
     "output_type": "execute_result"
    }
   ],
   "source": [
    "eigenPow = Forall(k, Forall(b, Forall((A, x), \n",
    "                            Implies(Equals(MatrixProd(A, x), ScalarProd(b, x)), \n",
    "                                    Equals(MatrixProd(Exponentiate(A, k), x), ScalarProd(Exponentiate(b, k), x)))),\n",
    "                  domain=Complexes), domain=NaturalsPos)\n",
    "eigenPow"
   ]
  },
  {
   "cell_type": "code",
   "execution_count": 8,
   "metadata": {
    "collapsed": false
   },
   "outputs": [
    {
     "data": {
      "image/png": "[encoded data removed]",
      "text/plain": [
       "$\\forall_{~.., x_{\\Box} ,..., y_{\\Box} ,..., z_{\\Box} ,..~} \\left(\\left(~..\\otimes x_{\\Box} \\otimes..~\\otimes \\left(~..+ y_{\\Box} +..~\\right) \\otimes~..\\otimes z_{\\Box} \\otimes..~\\right) = \\left(~..+ \\left(~..\\otimes x_{\\Box} \\otimes..~\\otimes y_{\\Box} \\otimes~..\\otimes z_{\\Box} \\otimes..~\\right) +..~\\right)\\right)$"
      ]
     },
     "execution_count": 8,
     "metadata": {},
     "output_type": "execute_result"
    }
   ],
   "source": [
    "distributeTensorProdOverSum = Forall((xEtc, yEtc, zEtc), \n",
    "                                     Equals(TensorProd(xEtc, Add(yEtc), zEtc),\n",
    "                                            Add(Etcetera(TensorProd(xEtc, MultiVariable(y), zEtc)))))\n",
    "distributeTensorProdOverSum"
   ]
  },
  {
   "cell_type": "code",
   "execution_count": 9,
   "metadata": {
    "collapsed": false
   },
   "outputs": [
    {
     "data": {
      "image/png": "[encoded data removed]",
      "text/plain": [
       "$\\forall_{ f , S ,~.., x_{\\Box} ,..., z_{\\Box} ,..~} \\left(\\left(~..\\otimes x_{\\Box} \\otimes..~\\otimes \\left[\\sum_{ y  \\in S} f\\left( y \\right)\\right] \\otimes~..\\otimes z_{\\Box} \\otimes..~\\right) = \\left[\\sum_{ y  \\in S} \\left(~..\\otimes x_{\\Box} \\otimes..~\\otimes f\\left( y \\right) \\otimes~..\\otimes z_{\\Box} \\otimes..~\\right)\\right]\\right)$"
      ]
     },
     "execution_count": 9,
     "metadata": {},
     "output_type": "execute_result"
    }
   ],
   "source": [
    "distributeTensorProdOverSummation = Forall((f, S, xEtc, zEtc), \n",
    "                                           Equals(TensorProd(xEtc, Summation(y, fy, domain=S), zEtc),\n",
    "                                                  Summation(y, TensorProd(xEtc, fy, zEtc), domain=S)))\n",
    "distributeTensorProdOverSummation"
   ]
  },
  {
   "cell_type": "code",
   "execution_count": 10,
   "metadata": {
    "collapsed": false
   },
   "outputs": [
    {
     "name": "stdout",
     "output_type": "stream",
     "text": [
      "Creating theorems *.dill and *.pv_it files in the __pv_it__ directory\n",
      "These theorems may be imported from proveit.linalg.theorems\n"
     ]
    }
   ],
   "source": [
    "%end_theorems"
   ]
  },
  {
   "cell_type": "code",
   "execution_count": null,
   "metadata": {
    "collapsed": true
   },
   "outputs": [],
   "source": []
  }
 ],
 "metadata": {
  "kernelspec": {
   "display_name": "Python 3",
   "language": "python",
   "name": "python3"
  },
  "language_info": {
   "codemirror_mode": {
    "name": "ipython",
    "version": 3
   },
   "file_extension": ".py",
   "mimetype": "text/x-python",
   "name": "python",
   "nbconvert_exporter": "python",
   "pygments_lexer": "ipython3"
  }
 },
 "nbformat": 4,
 "nbformat_minor": 0
}
