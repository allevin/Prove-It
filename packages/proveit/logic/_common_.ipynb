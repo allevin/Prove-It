{
 "cells": [
  {
   "cell_type": "markdown",
   "metadata": {
    "collapsed": true
   },
   "source": [
    "Common expressions for context <a href=\"_context_.ipynb\" class=\"ProveItLink\">proveit.logic</a>\n",
    "========"
   ]
  },
  {
   "cell_type": "code",
   "execution_count": 1,
   "metadata": {},
   "outputs": [
    {
     "name": "stdout",
     "output_type": "stream",
     "text": [
      "Defining common sub-expressions for context 'proveit.logic'\n",
      "Subsequent end-of-cell assignments will define common sub-expressions\n",
      "%end_common will finalize the definitions\n"
     ]
    }
   ],
   "source": [
    "import proveit\n",
    "from proveit import Lambda, Iter, Indexed, varIter, Function\n",
    "from proveit._common_ import f, g, i, j, k, l, m, n, x, y, xx, yy, zz\n",
    "from proveit._common_ import P, R, AA, BB, CC, Q, QQ, RR, fx, gx\n",
    "from proveit.logic import TRUE, FALSE, Implies, Equals\n",
    "from proveit.number import one, Len\n",
    "%begin common"
   ]
  },
  {
   "cell_type": "code",
   "execution_count": 2,
   "metadata": {},
   "outputs": [
    {
     "data": {
      "text/html": [
       "<strong id=\"iterA1m\">iterA1m:</strong> <a class=\"ProveItLink\" href=\"__pv_it/0e3205cfbcb0f55e1cf12245893bd5c9efd4b3000/expr.ipynb\"><img src=\"__pv_it/0e3205cfbcb0f55e1cf12245893bd5c9efd4b3000/expr.png\" style=\"display:inline;vertical-align:middle;\" /></a><br>"
      ],
      "text/plain": [
       "iterA1m: A_(1),...,A_(m)"
      ]
     },
     "execution_count": 2,
     "metadata": {},
     "output_type": "execute_result"
    }
   ],
   "source": [
    "iterA1m = varIter(AA, one, m)"
   ]
  },
  {
   "cell_type": "code",
   "execution_count": 3,
   "metadata": {},
   "outputs": [
    {
     "data": {
      "text/html": [
       "<strong id=\"iterB1n\">iterB1n:</strong> <a class=\"ProveItLink\" href=\"__pv_it/603b7c5ae71f173c89b1f3a89c65fc804e69cc810/expr.ipynb\"><img src=\"__pv_it/603b7c5ae71f173c89b1f3a89c65fc804e69cc810/expr.png\" style=\"display:inline;vertical-align:middle;\" /></a><br>"
      ],
      "text/plain": [
       "iterB1n: B_(1),...,B_(n)"
      ]
     },
     "execution_count": 3,
     "metadata": {},
     "output_type": "execute_result"
    }
   ],
   "source": [
    "iterB1n = varIter(BB, one, n)"
   ]
  },
  {
   "cell_type": "code",
   "execution_count": 4,
   "metadata": {},
   "outputs": [
    {
     "data": {
      "text/html": [
       "<strong id=\"iterC1n\">iterC1n:</strong> <a class=\"ProveItLink\" href=\"__pv_it/560fd3804a2344528af5718f318fae1dd658419f0/expr.ipynb\"><img src=\"__pv_it/560fd3804a2344528af5718f318fae1dd658419f0/expr.png\" style=\"display:inline;vertical-align:middle;\" /></a><br>"
      ],
      "text/plain": [
       "iterC1n: C_(1),...,C_(n)"
      ]
     },
     "execution_count": 4,
     "metadata": {},
     "output_type": "execute_result"
    }
   ],
   "source": [
    "iterC1n = varIter(CC, one, n)"
   ]
  },
  {
   "cell_type": "code",
   "execution_count": 5,
   "metadata": {},
   "outputs": [
    {
     "data": {
      "text/html": [
       "<strong id=\"xIter1l\">xIter1l:</strong> <a class=\"ProveItLink\" href=\"__pv_it/960ec66bc6e6e02c36389f41f698be7c86489cea0/expr.ipynb\"><img src=\"__pv_it/960ec66bc6e6e02c36389f41f698be7c86489cea0/expr.png\" style=\"display:inline;vertical-align:middle;\" /></a><br>"
      ],
      "text/plain": [
       "xIter1l: x_(1),...,x_(l)"
      ]
     },
     "execution_count": 5,
     "metadata": {},
     "output_type": "execute_result"
    }
   ],
   "source": [
    "xIter1l = varIter(xx, one, l)"
   ]
  },
  {
   "cell_type": "code",
   "execution_count": 6,
   "metadata": {},
   "outputs": [
    {
     "data": {
      "text/html": [
       "<strong id=\"xIter1n\">xIter1n:</strong> <a class=\"ProveItLink\" href=\"__pv_it/50d67a1ef57704e3c2a8cd553df0f56eadf6bf4b0/expr.ipynb\"><img src=\"__pv_it/50d67a1ef57704e3c2a8cd553df0f56eadf6bf4b0/expr.png\" style=\"display:inline;vertical-align:middle;\" /></a><br>"
      ],
      "text/plain": [
       "xIter1n: x_(1),...,x_(n)"
      ]
     },
     "execution_count": 6,
     "metadata": {},
     "output_type": "execute_result"
    }
   ],
   "source": [
    "xIter1n = varIter(xx, one, n)"
   ]
  },
  {
   "cell_type": "code",
   "execution_count": 7,
   "metadata": {},
   "outputs": [
    {
     "data": {
      "text/html": [
       "<strong id=\"yIter1l\">yIter1l:</strong> <a class=\"ProveItLink\" href=\"__pv_it/3ad89fee4915080bd9188e34e157122c4f50b83a0/expr.ipynb\"><img src=\"__pv_it/3ad89fee4915080bd9188e34e157122c4f50b83a0/expr.png\" style=\"display:inline;vertical-align:middle;\" /></a><br>"
      ],
      "text/plain": [
       "yIter1l: y_(1),...,y_(l)"
      ]
     },
     "execution_count": 7,
     "metadata": {},
     "output_type": "execute_result"
    }
   ],
   "source": [
    "yIter1l = varIter(yy, one, l)"
   ]
  },
  {
   "cell_type": "code",
   "execution_count": 8,
   "metadata": {},
   "outputs": [
    {
     "data": {
      "text/html": [
       "<strong id=\"yIter1n\">yIter1n:</strong> <a class=\"ProveItLink\" href=\"__pv_it/397c9c44f85940402fa718c954d83b8b7e85096b0/expr.ipynb\"><img src=\"__pv_it/397c9c44f85940402fa718c954d83b8b7e85096b0/expr.png\" style=\"display:inline;vertical-align:middle;\" /></a><br>"
      ],
      "text/plain": [
       "yIter1n: y_(1),...,y_(n)"
      ]
     },
     "execution_count": 8,
     "metadata": {},
     "output_type": "execute_result"
    }
   ],
   "source": [
    "yIter1n = varIter(yy, one, n)"
   ]
  },
  {
   "cell_type": "code",
   "execution_count": 9,
   "metadata": {},
   "outputs": [
    {
     "data": {
      "text/html": [
       "<strong id=\"zIter1l\">zIter1l:</strong> <a class=\"ProveItLink\" href=\"__pv_it/f3ce44157f027ba3624c4fb6592e3b37046f0d5f0/expr.ipynb\"><img src=\"__pv_it/f3ce44157f027ba3624c4fb6592e3b37046f0d5f0/expr.png\" style=\"display:inline;vertical-align:middle;\" /></a><br>"
      ],
      "text/plain": [
       "zIter1l: z_(1),...,z_(l)"
      ]
     },
     "execution_count": 9,
     "metadata": {},
     "output_type": "execute_result"
    }
   ],
   "source": [
    "zIter1l = varIter(zz, one, l)"
   ]
  },
  {
   "cell_type": "code",
   "execution_count": 10,
   "metadata": {},
   "outputs": [
    {
     "data": {
      "text/html": [
       "<strong id=\"f_xIter1l\">f_xIter1l:</strong> <a class=\"ProveItLink\" href=\"__pv_it/d40d8f5e12482c23b1d2424a6292de1c2abe7fd60/expr.ipynb\"><img src=\"__pv_it/d40d8f5e12482c23b1d2424a6292de1c2abe7fd60/expr.png\" style=\"display:inline;vertical-align:middle;\" /></a><br>"
      ],
      "text/plain": [
       "f_xIter1l: f(x_(1),...,x_(l))"
      ]
     },
     "execution_count": 10,
     "metadata": {},
     "output_type": "execute_result"
    }
   ],
   "source": [
    "f_xIter1l = Function(f, xIter1l)"
   ]
  },
  {
   "cell_type": "code",
   "execution_count": 11,
   "metadata": {},
   "outputs": [
    {
     "data": {
      "text/html": [
       "<strong id=\"f_yIter1l\">f_yIter1l:</strong> <a class=\"ProveItLink\" href=\"__pv_it/09ad0004ce570f0bbc9f6edfab054f7163b5adf10/expr.ipynb\"><img src=\"__pv_it/09ad0004ce570f0bbc9f6edfab054f7163b5adf10/expr.png\" style=\"display:inline;vertical-align:middle;\" /></a><br>"
      ],
      "text/plain": [
       "f_yIter1l: f(y_(1),...,y_(l))"
      ]
     },
     "execution_count": 11,
     "metadata": {},
     "output_type": "execute_result"
    }
   ],
   "source": [
    "f_yIter1l = Function(f, yIter1l)"
   ]
  },
  {
   "cell_type": "code",
   "execution_count": 12,
   "metadata": {},
   "outputs": [
    {
     "data": {
      "text/html": [
       "<strong id=\"f_zIter1l\">f_zIter1l:</strong> <a class=\"ProveItLink\" href=\"__pv_it/8f69e4e2ed172a02b1e0a7f5b2f56c676f7120950/expr.ipynb\"><img src=\"__pv_it/8f69e4e2ed172a02b1e0a7f5b2f56c676f7120950/expr.png\" style=\"display:inline;vertical-align:middle;\" /></a><br>"
      ],
      "text/plain": [
       "f_zIter1l: f(z_(1),...,z_(l))"
      ]
     },
     "execution_count": 12,
     "metadata": {},
     "output_type": "execute_result"
    }
   ],
   "source": [
    "f_zIter1l = Function(f, zIter1l)"
   ]
  },
  {
   "cell_type": "code",
   "execution_count": 13,
   "metadata": {},
   "outputs": [
    {
     "data": {
      "text/html": [
       "<strong id=\"g_xIter1l\">g_xIter1l:</strong> <a class=\"ProveItLink\" href=\"__pv_it/2d1504765bf4c20e9cd85a9d587eb0fdbeb994e70/expr.ipynb\"><img src=\"__pv_it/2d1504765bf4c20e9cd85a9d587eb0fdbeb994e70/expr.png\" style=\"display:inline;vertical-align:middle;\" /></a><br>"
      ],
      "text/plain": [
       "g_xIter1l: g(x_(1),...,x_(l))"
      ]
     },
     "execution_count": 13,
     "metadata": {},
     "output_type": "execute_result"
    }
   ],
   "source": [
    "g_xIter1l = Function(g, xIter1l)"
   ]
  },
  {
   "cell_type": "code",
   "execution_count": 14,
   "metadata": {},
   "outputs": [
    {
     "data": {
      "text/html": [
       "<strong id=\"g_yIter1l\">g_yIter1l:</strong> <a class=\"ProveItLink\" href=\"__pv_it/62fed24ffbb17f708678b53c537ffbbfae67d5990/expr.ipynb\"><img src=\"__pv_it/62fed24ffbb17f708678b53c537ffbbfae67d5990/expr.png\" style=\"display:inline;vertical-align:middle;\" /></a><br>"
      ],
      "text/plain": [
       "g_yIter1l: g(y_(1),...,y_(l))"
      ]
     },
     "execution_count": 14,
     "metadata": {},
     "output_type": "execute_result"
    }
   ],
   "source": [
    "g_yIter1l = Function(g, yIter1l)"
   ]
  },
  {
   "cell_type": "code",
   "execution_count": 15,
   "metadata": {},
   "outputs": [
    {
     "data": {
      "text/html": [
       "<strong id=\"g_zIter1l\">g_zIter1l:</strong> <a class=\"ProveItLink\" href=\"__pv_it/da24ec2f370469fcf981bc93282d5dcc009077350/expr.ipynb\"><img src=\"__pv_it/da24ec2f370469fcf981bc93282d5dcc009077350/expr.png\" style=\"display:inline;vertical-align:middle;\" /></a><br>"
      ],
      "text/plain": [
       "g_zIter1l: g(z_(1),...,z_(l))"
      ]
     },
     "execution_count": 15,
     "metadata": {},
     "output_type": "execute_result"
    }
   ],
   "source": [
    "g_zIter1l = Function(g, zIter1l)"
   ]
  },
  {
   "cell_type": "code",
   "execution_count": 16,
   "metadata": {},
   "outputs": [
    {
     "data": {
      "text/html": [
       "<strong id=\"fx_eq_gx\">fx_eq_gx:</strong> <a class=\"ProveItLink\" href=\"__pv_it/f6320177a0d686efe3cd35bece66186b4096c5fb0/expr.ipynb\"><img src=\"__pv_it/f6320177a0d686efe3cd35bece66186b4096c5fb0/expr.png\" style=\"display:inline;vertical-align:middle;\" /></a><br>"
      ],
      "text/plain": [
       "fx_eq_gx: f(x) = g(x)"
      ]
     },
     "execution_count": 16,
     "metadata": {},
     "output_type": "execute_result"
    }
   ],
   "source": [
    "fx_eq_gx = Equals(fx, gx)"
   ]
  },
  {
   "cell_type": "code",
   "execution_count": 17,
   "metadata": {
    "scrolled": true
   },
   "outputs": [
    {
     "data": {
      "text/html": [
       "<strong id=\"PofTrue\">PofTrue:</strong> <a class=\"ProveItLink\" href=\"__pv_it/e620067e5fc1a01f6e7ce2f053b97db25219d34a0/expr.ipynb\"><img src=\"__pv_it/e620067e5fc1a01f6e7ce2f053b97db25219d34a0/expr.png\" style=\"display:inline;vertical-align:middle;\" /></a><br>"
      ],
      "text/plain": [
       "PofTrue: P(TRUE)"
      ]
     },
     "execution_count": 17,
     "metadata": {},
     "output_type": "execute_result"
    }
   ],
   "source": [
    "PofTrue = Function(P, TRUE)"
   ]
  },
  {
   "cell_type": "code",
   "execution_count": 18,
   "metadata": {},
   "outputs": [
    {
     "data": {
      "text/html": [
       "<strong id=\"PofFalse\">PofFalse:</strong> <a class=\"ProveItLink\" href=\"__pv_it/4d7c4165a9fdb279e98a557bae75d7e45eb1c31a0/expr.ipynb\"><img src=\"__pv_it/4d7c4165a9fdb279e98a557bae75d7e45eb1c31a0/expr.png\" style=\"display:inline;vertical-align:middle;\" /></a><br>"
      ],
      "text/plain": [
       "PofFalse: P(FALSE)"
      ]
     },
     "execution_count": 18,
     "metadata": {},
     "output_type": "execute_result"
    }
   ],
   "source": [
    "PofFalse = Function(P, FALSE)"
   ]
  },
  {
   "cell_type": "code",
   "execution_count": 19,
   "metadata": {},
   "outputs": [
    {
     "data": {
      "text/html": [
       "<strong id=\"QimplPofTrue\">QimplPofTrue:</strong> <a class=\"ProveItLink\" href=\"__pv_it/c23bff255c761f01e52a091ba3f1fdf4285d319a0/expr.ipynb\"><img src=\"__pv_it/c23bff255c761f01e52a091ba3f1fdf4285d319a0/expr.png\" style=\"display:inline;vertical-align:middle;\" /></a><br>"
      ],
      "text/plain": [
       "QimplPofTrue: Q(TRUE) => P(TRUE)"
      ]
     },
     "execution_count": 19,
     "metadata": {},
     "output_type": "execute_result"
    }
   ],
   "source": [
    "QimplPofTrue = Implies(Function(Q, TRUE), PofTrue)"
   ]
  },
  {
   "cell_type": "code",
   "execution_count": 20,
   "metadata": {},
   "outputs": [
    {
     "data": {
      "text/html": [
       "<strong id=\"QimplPofFalse\">QimplPofFalse:</strong> <a class=\"ProveItLink\" href=\"__pv_it/1d123c26ccfeb4cf8fca953853d9541ba3d4e4650/expr.ipynb\"><img src=\"__pv_it/1d123c26ccfeb4cf8fca953853d9541ba3d4e4650/expr.png\" style=\"display:inline;vertical-align:middle;\" /></a><br>"
      ],
      "text/plain": [
       "QimplPofFalse: Q(FALSE) => P(FALSE)"
      ]
     },
     "execution_count": 20,
     "metadata": {},
     "output_type": "execute_result"
    }
   ],
   "source": [
    "QimplPofFalse = Implies(Function(Q, FALSE), PofFalse)"
   ]
  },
  {
   "cell_type": "code",
   "execution_count": 21,
   "metadata": {},
   "outputs": [
    {
     "data": {
      "text/html": [
       "<strong id=\"P_xIter1l\">P_xIter1l:</strong> <a class=\"ProveItLink\" href=\"__pv_it/0fb9fd40a9560fe372f8e4ab68ad9dbc47cc26cb0/expr.ipynb\"><img src=\"__pv_it/0fb9fd40a9560fe372f8e4ab68ad9dbc47cc26cb0/expr.png\" style=\"display:inline;vertical-align:middle;\" /></a><br>"
      ],
      "text/plain": [
       "P_xIter1l: P(x_(1),...,x_(l))"
      ]
     },
     "execution_count": 21,
     "metadata": {},
     "output_type": "execute_result"
    }
   ],
   "source": [
    "P_xIter1l = Function(P, xIter1l) "
   ]
  },
  {
   "cell_type": "code",
   "execution_count": 22,
   "metadata": {},
   "outputs": [
    {
     "data": {
      "text/html": [
       "<strong id=\"P_yIter1l\">P_yIter1l:</strong> <a class=\"ProveItLink\" href=\"__pv_it/03890e8f19b14ee20de6ae5e380e121254312d7f0/expr.ipynb\"><img src=\"__pv_it/03890e8f19b14ee20de6ae5e380e121254312d7f0/expr.png\" style=\"display:inline;vertical-align:middle;\" /></a><br>"
      ],
      "text/plain": [
       "P_yIter1l: P(y_(1),...,y_(l))"
      ]
     },
     "execution_count": 22,
     "metadata": {},
     "output_type": "execute_result"
    }
   ],
   "source": [
    "P_yIter1l = Function(P, yIter1l) "
   ]
  },
  {
   "cell_type": "code",
   "execution_count": 23,
   "metadata": {},
   "outputs": [
    {
     "data": {
      "text/html": [
       "<strong id=\"P_xIter1l_y\">P_xIter1l_y:</strong> <a class=\"ProveItLink\" href=\"__pv_it/acb8f6c9fcf163ed27211136fb550814a730ba8b0/expr.ipynb\"><img src=\"__pv_it/acb8f6c9fcf163ed27211136fb550814a730ba8b0/expr.png\" style=\"display:inline;vertical-align:middle;\" /></a><br>"
      ],
      "text/plain": [
       "P_xIter1l_y: P(x_(1) ,  ...  , x_(l) , y)"
      ]
     },
     "execution_count": 23,
     "metadata": {},
     "output_type": "execute_result"
    }
   ],
   "source": [
    "P_xIter1l_y = Function(P, [xIter1l, y]) "
   ]
  },
  {
   "cell_type": "code",
   "execution_count": 24,
   "metadata": {},
   "outputs": [
    {
     "data": {
      "text/html": [
       "<strong id=\"P_xIter1l_yIter1n\">P_xIter1l_yIter1n:</strong> <a class=\"ProveItLink\" href=\"__pv_it/dd87ee3fe79713df7ae9a628961445fb165a90650/expr.ipynb\"><img src=\"__pv_it/dd87ee3fe79713df7ae9a628961445fb165a90650/expr.png\" style=\"display:inline;vertical-align:middle;\" /></a><br>"
      ],
      "text/plain": [
       "P_xIter1l_yIter1n: P(x_(1) ,  ...  , x_(l) , y_(1) ,  ...  , y_(n))"
      ]
     },
     "execution_count": 24,
     "metadata": {},
     "output_type": "execute_result"
    }
   ],
   "source": [
    "P_xIter1l_yIter1n = Function(P, [xIter1l, yIter1n]) "
   ]
  },
  {
   "cell_type": "code",
   "execution_count": 25,
   "metadata": {},
   "outputs": [
    {
     "data": {
      "text/html": [
       "<strong id=\"iterQ1k\">iterQ1k:</strong> <a class=\"ProveItLink\" href=\"__pv_it/2253b62464982d8911c9a4cace7bff1f71fbcb330/expr.ipynb\"><img src=\"__pv_it/2253b62464982d8911c9a4cace7bff1f71fbcb330/expr.png\" style=\"display:inline;vertical-align:middle;\" /></a><br>"
      ],
      "text/plain": [
       "iterQ1k: Q_(1),...,Q_(k)"
      ]
     },
     "execution_count": 25,
     "metadata": {},
     "output_type": "execute_result"
    }
   ],
   "source": [
    "iterQ1k = varIter(QQ, one, k)"
   ]
  },
  {
   "cell_type": "code",
   "execution_count": 26,
   "metadata": {},
   "outputs": [
    {
     "data": {
      "text/html": [
       "<strong id=\"iterQ1k_x\">iterQ1k_x:</strong> <a class=\"ProveItLink\" href=\"__pv_it/6af3a310d48adf99804e49c532316a38575b96370/expr.ipynb\"><img src=\"__pv_it/6af3a310d48adf99804e49c532316a38575b96370/expr.png\" style=\"display:inline;vertical-align:middle;\" /></a><br>"
      ],
      "text/plain": [
       "iterQ1k_x: Q_(1)(x),...,Q_(k)(x)"
      ]
     },
     "execution_count": 26,
     "metadata": {},
     "output_type": "execute_result"
    }
   ],
   "source": [
    "iterQ1k_x = Iter(i, Function(Indexed(QQ, i), x), one, k)"
   ]
  },
  {
   "cell_type": "code",
   "execution_count": 27,
   "metadata": {},
   "outputs": [
    {
     "data": {
      "text/html": [
       "<strong id=\"iterQ1k_y\">iterQ1k_y:</strong> <a class=\"ProveItLink\" href=\"__pv_it/ccad57a1e51c3f68918e691c7cc48651f2b5ba810/expr.ipynb\"><img src=\"__pv_it/ccad57a1e51c3f68918e691c7cc48651f2b5ba810/expr.png\" style=\"display:inline;vertical-align:middle;\" /></a><br>"
      ],
      "text/plain": [
       "iterQ1k_y: Q_(1)(y),...,Q_(k)(y)"
      ]
     },
     "execution_count": 27,
     "metadata": {},
     "output_type": "execute_result"
    }
   ],
   "source": [
    "iterQ1k_y = Iter(i, Function(Indexed(QQ, i), y), one, k)"
   ]
  },
  {
   "cell_type": "code",
   "execution_count": 28,
   "metadata": {},
   "outputs": [
    {
     "data": {
      "text/html": [
       "<strong id=\"iterQ1k_xIter1l\">iterQ1k_xIter1l:</strong> <a class=\"ProveItLink\" href=\"__pv_it/a43fcbbaa10768e889cd8900498537b55da2ad850/expr.ipynb\"><img src=\"__pv_it/a43fcbbaa10768e889cd8900498537b55da2ad850/expr.png\" style=\"display:inline;vertical-align:middle;\" /></a><br>"
      ],
      "text/plain": [
       "iterQ1k_xIter1l: Q_(1)(x_(1),...,x_(l)),...,Q_(k)(x_(1),...,x_(l))"
      ]
     },
     "execution_count": 28,
     "metadata": {},
     "output_type": "execute_result"
    }
   ],
   "source": [
    "iterQ1k_xIter1l = Iter(i, Function(Indexed(QQ, i), xIter1l), one, k)"
   ]
  },
  {
   "cell_type": "code",
   "execution_count": 29,
   "metadata": {},
   "outputs": [
    {
     "data": {
      "text/html": [
       "<strong id=\"iterQ1i_xIter1l\">iterQ1i_xIter1l:</strong> <a class=\"ProveItLink\" href=\"__pv_it/b2cdb4e5901860028263f44c74064efa2175bfc60/expr.ipynb\"><img src=\"__pv_it/b2cdb4e5901860028263f44c74064efa2175bfc60/expr.png\" style=\"display:inline;vertical-align:middle;\" /></a><br>"
      ],
      "text/plain": [
       "iterQ1i_xIter1l: Q_(1)(x_(1),...,x_(l)),...,Q_(i)(x_(1),...,x_(l))"
      ]
     },
     "execution_count": 29,
     "metadata": {},
     "output_type": "execute_result"
    }
   ],
   "source": [
    "iterQ1i_xIter1l = Iter(j, Function(Indexed(QQ, j), xIter1l), one, i)"
   ]
  },
  {
   "cell_type": "code",
   "execution_count": 30,
   "metadata": {},
   "outputs": [
    {
     "data": {
      "text/html": [
       "<strong id=\"iterQjk_xIter1l\">iterQjk_xIter1l:</strong> <a class=\"ProveItLink\" href=\"__pv_it/c1eb3ae38c5d419bfd527c66f62d9fdf780130a70/expr.ipynb\"><img src=\"__pv_it/c1eb3ae38c5d419bfd527c66f62d9fdf780130a70/expr.png\" style=\"display:inline;vertical-align:middle;\" /></a><br>"
      ],
      "text/plain": [
       "iterQjk_xIter1l: Q_(j)(x_(1),...,x_(l)),...,Q_(k)(x_(1),...,x_(l))"
      ]
     },
     "execution_count": 30,
     "metadata": {},
     "output_type": "execute_result"
    }
   ],
   "source": [
    "iterQjk_xIter1l = Iter(i, Function(Indexed(QQ, i), xIter1l), j, k)"
   ]
  },
  {
   "cell_type": "code",
   "execution_count": 31,
   "metadata": {},
   "outputs": [
    {
     "data": {
      "text/html": [
       "<strong id=\"iterQ1k_yIter1l\">iterQ1k_yIter1l:</strong> <a class=\"ProveItLink\" href=\"__pv_it/cdee3804a74c14b41718c4177aa93bbd1cde1dd90/expr.ipynb\"><img src=\"__pv_it/cdee3804a74c14b41718c4177aa93bbd1cde1dd90/expr.png\" style=\"display:inline;vertical-align:middle;\" /></a><br>"
      ],
      "text/plain": [
       "iterQ1k_yIter1l: Q_(1)(y_(1),...,y_(l)),...,Q_(k)(y_(1),...,y_(l))"
      ]
     },
     "execution_count": 31,
     "metadata": {},
     "output_type": "execute_result"
    }
   ],
   "source": [
    "iterQ1k_yIter1l = Iter(i, Function(Indexed(QQ, i), yIter1l), one, k)"
   ]
  },
  {
   "cell_type": "code",
   "execution_count": 32,
   "metadata": {},
   "outputs": [
    {
     "data": {
      "text/html": [
       "<strong id=\"iterQ1k_zIter1l\">iterQ1k_zIter1l:</strong> <a class=\"ProveItLink\" href=\"__pv_it/c20c02e911240086abcdf12461dcb6bbda5609700/expr.ipynb\"><img src=\"__pv_it/c20c02e911240086abcdf12461dcb6bbda5609700/expr.png\" style=\"display:inline;vertical-align:middle;\" /></a><br>"
      ],
      "text/plain": [
       "iterQ1k_zIter1l: Q_(1)(z_(1),...,z_(l)),...,Q_(k)(z_(1),...,z_(l))"
      ]
     },
     "execution_count": 32,
     "metadata": {},
     "output_type": "execute_result"
    }
   ],
   "source": [
    "iterQ1k_zIter1l = Iter(i, Function(Indexed(QQ, i), zIter1l), one, k)"
   ]
  },
  {
   "cell_type": "code",
   "execution_count": 33,
   "metadata": {},
   "outputs": [
    {
     "data": {
      "text/html": [
       "<strong id=\"iterQ1k_xIter1l_y\">iterQ1k_xIter1l_y:</strong> <a class=\"ProveItLink\" href=\"__pv_it/4d36bd9f97f0838b1bb2d390ed52a4d3703f68fe0/expr.ipynb\"><img src=\"__pv_it/4d36bd9f97f0838b1bb2d390ed52a4d3703f68fe0/expr.png\" style=\"display:inline;vertical-align:middle;\" /></a><br>"
      ],
      "text/plain": [
       "iterQ1k_xIter1l_y: Q_(1)(x_(1) ,  ...  , x_(l) , y),...,Q_(k)(x_(1) ,  ...  , x_(l) , y)"
      ]
     },
     "execution_count": 33,
     "metadata": {},
     "output_type": "execute_result"
    }
   ],
   "source": [
    "iterQ1k_xIter1l_y = Iter(i, Function(Indexed(QQ, i), [xIter1l, y]), one, k)"
   ]
  },
  {
   "cell_type": "code",
   "execution_count": 34,
   "metadata": {},
   "outputs": [
    {
     "data": {
      "text/html": [
       "<strong id=\"iterR1m\">iterR1m:</strong> <a class=\"ProveItLink\" href=\"__pv_it/f333ebecc5278790d166d642aaa595b8dea021980/expr.ipynb\"><img src=\"__pv_it/f333ebecc5278790d166d642aaa595b8dea021980/expr.png\" style=\"display:inline;vertical-align:middle;\" /></a><br>"
      ],
      "text/plain": [
       "iterR1m: R_(1),...,R_(m)"
      ]
     },
     "execution_count": 34,
     "metadata": {},
     "output_type": "execute_result"
    }
   ],
   "source": [
    "iterR1m = varIter(RR, one, m)"
   ]
  },
  {
   "cell_type": "code",
   "execution_count": 35,
   "metadata": {},
   "outputs": [
    {
     "data": {
      "text/html": [
       "<strong id=\"R_xIter1l\">R_xIter1l:</strong> <a class=\"ProveItLink\" href=\"__pv_it/687b4f3b352b717aa850f3a26623b1bc560f30d90/expr.ipynb\"><img src=\"__pv_it/687b4f3b352b717aa850f3a26623b1bc560f30d90/expr.png\" style=\"display:inline;vertical-align:middle;\" /></a><br>"
      ],
      "text/plain": [
       "R_xIter1l: R(x_(1),...,x_(l))"
      ]
     },
     "execution_count": 35,
     "metadata": {},
     "output_type": "execute_result"
    }
   ],
   "source": [
    "R_xIter1l = Function(R, xIter1l) "
   ]
  },
  {
   "cell_type": "code",
   "execution_count": 36,
   "metadata": {},
   "outputs": [
    {
     "data": {
      "text/html": [
       "<strong id=\"R_zIter1l\">R_zIter1l:</strong> <a class=\"ProveItLink\" href=\"__pv_it/c0f8df92f2fb6e8d55ddcde4a2f8c30f10ff96b70/expr.ipynb\"><img src=\"__pv_it/c0f8df92f2fb6e8d55ddcde4a2f8c30f10ff96b70/expr.png\" style=\"display:inline;vertical-align:middle;\" /></a><br>"
      ],
      "text/plain": [
       "R_zIter1l: R(z_(1),...,z_(l))"
      ]
     },
     "execution_count": 36,
     "metadata": {},
     "output_type": "execute_result"
    }
   ],
   "source": [
    "R_zIter1l = Function(R, zIter1l) "
   ]
  },
  {
   "cell_type": "code",
   "execution_count": 37,
   "metadata": {},
   "outputs": [
    {
     "data": {
      "text/html": [
       "<strong id=\"iterR1m_xIter1l_yIter1n\">iterR1m_xIter1l_yIter1n:</strong> <a class=\"ProveItLink\" href=\"__pv_it/b582f0e42192ccb0787480b9dfc03370fe37e5910/expr.ipynb\"><img src=\"__pv_it/b582f0e42192ccb0787480b9dfc03370fe37e5910/expr.png\" style=\"display:inline;vertical-align:middle;\" /></a><br>"
      ],
      "text/plain": [
       "iterR1m_xIter1l_yIter1n: R_(1)(x_(1) ,  ...  , x_(l) , y_(1) ,  ...  , y_(n)),...,R_(m)(x_(1) ,  ...  , x_(l) , y_(1) ,  ...  , y_(n))"
      ]
     },
     "execution_count": 37,
     "metadata": {},
     "output_type": "execute_result"
    }
   ],
   "source": [
    "iterR1m_xIter1l_yIter1n = Iter(i, Function(Indexed(RR, i), [xIter1l, yIter1n]), one, m)"
   ]
  },
  {
   "cell_type": "code",
   "execution_count": 38,
   "metadata": {},
   "outputs": [
    {
     "name": "stdout",
     "output_type": "stream",
     "text": [
      "iterA1m expression notebook is being updated\n",
      "iterB1n expression notebook is being updated\n",
      "iterC1n expression notebook is being updated\n",
      "xIter1l expression notebook is being updated\n",
      "xIter1n expression notebook is being updated\n",
      "yIter1l expression notebook is being updated\n",
      "yIter1n expression notebook is being updated\n",
      "zIter1l expression notebook is being updated\n",
      "f_xIter1l expression notebook is being updated\n",
      "f_yIter1l expression notebook is being updated\n",
      "f_zIter1l expression notebook is being updated\n",
      "g_xIter1l expression notebook is being updated\n",
      "g_yIter1l expression notebook is being updated\n",
      "g_zIter1l expression notebook is being updated\n",
      "PofTrue expression notebook is being updated\n",
      "PofFalse expression notebook is being updated\n",
      "QimplPofTrue expression notebook is being updated\n",
      "QimplPofFalse expression notebook is being updated\n",
      "P_xIter1l expression notebook is being updated\n",
      "P_yIter1l expression notebook is being updated\n",
      "P_xIter1l_y expression notebook is being updated\n",
      "P_xIter1l_yIter1n expression notebook is being updated\n",
      "iterQ1k expression notebook is being updated\n",
      "iterQ1k_x expression notebook is being updated\n",
      "iterQ1k_y expression notebook is being updated\n",
      "iterQ1k_xIter1l expression notebook is being updated\n",
      "iterQ1i_xIter1l expression notebook is being updated\n",
      "iterQjk_xIter1l expression notebook is being updated\n",
      "iterQ1k_yIter1l expression notebook is being updated\n",
      "iterQ1k_zIter1l expression notebook is being updated\n",
      "iterQ1k_xIter1l_y expression notebook is being updated\n"
     ]
    },
    {
     "name": "stdout",
     "output_type": "stream",
     "text": [
      "iterR1m expression notebook is being updated\n",
      "R_xIter1l expression notebook is being updated\n",
      "R_zIter1l expression notebook is being updated\n",
      "iterR1m_xIter1l_yIter1n expression notebook is being updated\n",
      "Common expressions may be imported from autogenerated _common_.py\n"
     ]
    }
   ],
   "source": [
    "%end common"
   ]
  },
  {
   "cell_type": "code",
   "execution_count": null,
   "metadata": {},
   "outputs": [],
   "source": []
  }
 ],
 "metadata": {
  "kernelspec": {
   "display_name": "Python 3",
   "language": "python",
   "name": "python3"
  },
  "language_info": {
   "codemirror_mode": {
    "name": "ipython",
    "version": 3
   },
   "file_extension": ".py",
   "mimetype": "text/x-python",
   "name": "python",
   "nbconvert_exporter": "python",
   "pygments_lexer": "ipython3",
   "version": "3.7.0"
  }
 },
 "nbformat": 4,
 "nbformat_minor": 1
}
