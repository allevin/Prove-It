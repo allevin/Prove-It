{
 "cells": [
  {
   "cell_type": "markdown",
   "metadata": {},
   "source": [
    "Common expressions for context <a href=\"_context_.ipynb\" class=\"ProveItLink\">proveit.logic</a>\n",
    "========"
   ]
  },
  {
   "cell_type": "code",
   "execution_count": 1,
   "metadata": {},
   "outputs": [
    {
     "name": "stdout",
     "output_type": "stream",
     "text": [
      "Defining common sub-expressions for context 'proveit.logic'\n",
      "Subsequent end-of-cell assignments will define common sub-expressions\n",
      "%end_common will finalize the definitions\n"
     ]
    }
   ],
   "source": [
    "import proveit\n",
    "from proveit import Lambda, Iter, Indexed, varIter, Function\n",
    "from proveit._common_ import f, g, i, j, k, l, m, n, x, y, xx, yy, zz\n",
    "from proveit._common_ import P, R, AA, BB, CC, DD, Q, QQ, RR, fx, gx\n",
    "from proveit.logic import TRUE, FALSE, Implies, Equals\n",
    "from proveit.number import one, Len\n",
    "%begin common"
   ]
  },
  {
   "cell_type": "code",
   "execution_count": 2,
   "metadata": {},
   "outputs": [
    {
     "data": {
      "text/html": [
       "<strong id=\"iterA1l\">iterA1l:</strong> <a class=\"ProveItLink\" href=\"__pv_it/f1d5d95a25c17bbb9070fd94123825c861d8a5950/expr.ipynb\"><img src=\"data:image/png;base64,iVBORw0KGgoAAAANSUhEUgAAAGAAAAATBAMAAACdABVkAAAAMFBMVEX///+YmJhmZmZERES6urrc\n",
       "3Nzu7u4QEBCIiIgyMjJUVFR2dnYiIiKqqqrMzMwAAAD8et6HAAAAAXRSTlMAQObYZgAAAT5JREFU\n",
       "KM9jYAABvr8MhMH7Cwg2z28iNJzfgGDv/0VYPff/BXA23/8/RLjo/wE4m3P/f8IaZv//AGf3sP9P\n",
       "IKSe40D9Nxib9R/nfwdCGuIfzP8CYzMrMP0XAPrEAJ8GIwb9jwwMWWBbxBk4/isw8GkdwKOesYCh\n",
       "/xMDAwtIDdtfBpb/QNN58WnIv8Dg/xkYtgpANtf38npQkOHVsL68HBT2nECnM1x/lpYKCjJ8Gnjr\n",
       "0tLigWHPHwB0US0o2r9CNLCBZBNgBIKXDkxHPP8DGJ4D2VGgwLH/C9GQD9IEinYwAeexLgYF5v8L\n",
       "DM1AS/4DI239////wBrSgTaxFTNAiXSgWWz1QFf8//+Ngev///8PLFDcCfKDK4bzWQKQOHUP0DUI\n",
       "YMYAEpvtQwOCw7rzUwMhDQyrL6AnMcwQbUDlAgCe/2gOYYvpkwAAAABJRU5ErkJggg==\n",
       "\" style=\"display:inline;vertical-align:middle;\" /></a><br>"
      ],
      "text/plain": [
       "iterA1l: A_1,...,A_l"
      ]
     },
     "execution_count": 2,
     "metadata": {},
     "output_type": "execute_result"
    }
   ],
   "source": [
    "iterA1l = varIter(AA, one, l)"
   ]
  },
  {
   "cell_type": "code",
   "execution_count": 3,
   "metadata": {},
   "outputs": [
    {
     "data": {
      "text/html": [
       "<strong id=\"iterA1m\">iterA1m:</strong> <a class=\"ProveItLink\" href=\"__pv_it/b4e41261231aa78197177e12119ca2b4e368cd5e0/expr.ipynb\"><img src=\"data:image/png;base64,iVBORw0KGgoAAAANSUhEUgAAAGoAAAATBAMAAACKIoWtAAAAMFBMVEX///+YmJhmZmZERES6urrc\n",
       "3Nzu7u4QEBCIiIgyMjJUVFR2dnYiIiKqqqrMzMwAAAD8et6HAAAAAXRSTlMAQObYZgAAARtJREFU\n",
       "OMtjYAABvr8MhAGGIp7fROjCULT/FxG60BXx/f9DhAPRFXHu/09YF4aiHvb/CQR1oSti/cf534GQ\n",
       "JgxFzApM/wWADjfApwuqCAHEGTj+KzDwaR3ApwuiCAHY/jKw/Afaw4tPF0wRHHB9L6//f4CALpgi\n",
       "OLj+LC31/wcCuqCKGDU8dnE0PwDaXQsUPP8VoosN7BoQkYDMgCtK9BfgWcC4gIEhCuRa+78QXfkg\n",
       "+0AE2x9kBlxRWCcD/wNuBQb+/8DIW////z+wrnSgnQzpQCVsxTBGfQADkqIVDM8ZOC8gOR3sL1cM\n",
       "H7EEIPPqGJoZ4lnQdQlg6GJESSEfgLYJcyMJ7PzUQFAXiwHDOYbHW9GUcGCGeQOWeAAAM6tprgUf\n",
       "tmUAAAAASUVORK5CYII=\n",
       "\" style=\"display:inline;vertical-align:middle;\" /></a><br>"
      ],
      "text/plain": [
       "iterA1m: A_1,...,A_m"
      ]
     },
     "execution_count": 3,
     "metadata": {},
     "output_type": "execute_result"
    }
   ],
   "source": [
    "iterA1m = varIter(AA, one, m)"
   ]
  },
  {
   "cell_type": "code",
   "execution_count": 4,
   "metadata": {},
   "outputs": [
    {
     "data": {
      "text/html": [
       "<strong id=\"iterB1m\">iterB1m:</strong> <a class=\"ProveItLink\" href=\"__pv_it/bbc48a1335b8dde481b5298c90db15bd5c2443aa0/expr.ipynb\"><img src=\"data:image/png;base64,iVBORw0KGgoAAAANSUhEUgAAAGoAAAATBAMAAACKIoWtAAAAMFBMVEX///92dna6urqqqqoiIiKY\n",
       "mJiIiIhmZmbc3NwyMjLu7u7MzMxUVFQQEBBEREQAAAA0CE+eAAAAAXRSTlMAQObYZgAAATNJREFU\n",
       "OMtjYGB4/x8I7mxgwAswFHHNv7Vqxfvf+HVhKvr/gIGh/zt+XRiKuP8nAAX+4NeEoYjtP9C58V/x\n",
       "68JQxPcfSPhPwK8LQxH/TwaGnQQciKlo/9+ZU/4aAJ3+AI8umCI4iP/MwLDuJwN3jQMeXVBFCHD+\n",
       "FwMD038BBmZ8umCK4OC+A0jgAH5dMEUwwPG/gIGBERgd+HTBFLGWqcmw5QEjgfU/0JP9XxjAurjA\n",
       "qQdELEBmwBUt1Q9gOcAKtJLnfwPD0vseEF3rQfaBCK4vyAy4oq5MBv4NjAUM/KDE/PcpA0TX2h9A\n",
       "xlpgFHDdgzHuNzAgKTrGsJeBEzkGwP7SwPASUwMy7zZDHkM/E7quAAxdrCih8gFoWxwjkoDk9wSC\n",
       "upgeMHgz7JNAT9qYgZ6AJSIAy5KMVbzUFUQAAAAASUVORK5CYII=\n",
       "\" style=\"display:inline;vertical-align:middle;\" /></a><br>"
      ],
      "text/plain": [
       "iterB1m: B_1,...,B_m"
      ]
     },
     "execution_count": 4,
     "metadata": {},
     "output_type": "execute_result"
    }
   ],
   "source": [
    "iterB1m = varIter(BB, one, m)"
   ]
  },
  {
   "cell_type": "code",
   "execution_count": 5,
   "metadata": {},
   "outputs": [
    {
     "data": {
      "text/html": [
       "<strong id=\"iterB1n\">iterB1n:</strong> <a class=\"ProveItLink\" href=\"__pv_it/9e23f5b7dfd5b951ddec229b387f7af9f00b5dde0/expr.ipynb\"><img src=\"data:image/png;base64,iVBORw0KGgoAAAANSUhEUgAAAGYAAAATBAMAAACQHmUjAAAAMFBMVEX///92dna6urqqqqoiIiKY\n",
       "mJiIiIhmZmbc3NwyMjLu7u7MzMxUVFQQEBBEREQAAAA0CE+eAAAAAXRSTlMAQObYZgAAASFJREFU\n",
       "KM+FkjFLw1AQx/9GIyUV4yo4F0FEP0JHN/MNmtVNl7p0yNylDi5OuhREqLo66eTqbsVkca5QpdYa\n",
       "zktfHjwucL3heBd+P7i7HIARcbzdQw0BBZevN9ejme5IiDKgN9EdAdUp5vJPVwS0Stxm61t3BLRO\n",
       "nA7PdEdA4RR4WNCahB7zi/N8n1vOFMdCZbTGwO0U9U5TcUrIxssv4NEGljXHQmWkzaJ80h0LmajR\n",
       "MbDE69ccC/ntxhaXPvFovS8Y56q4E7iPebJQfy9a4R+1Rgn66YFxAnZx5z5MslD3CGGCsDjY/AOl\n",
       "kybAgJcevMM8MPiBAz1j1+153puXVGbZdoshTj3p+NX5I3cXnxjuOOXmJF7oeBlOIgnE1YuufPkH\n",
       "3MyH7aO9l/IAAAAASUVORK5CYII=\n",
       "\" style=\"display:inline;vertical-align:middle;\" /></a><br>"
      ],
      "text/plain": [
       "iterB1n: B_1,...,B_n"
      ]
     },
     "execution_count": 5,
     "metadata": {},
     "output_type": "execute_result"
    }
   ],
   "source": [
    "iterB1n = varIter(BB, one, n)"
   ]
  },
  {
   "cell_type": "code",
   "execution_count": 6,
   "metadata": {},
   "outputs": [
    {
     "data": {
      "text/html": [
       "<strong id=\"iterC1n\">iterC1n:</strong> <a class=\"ProveItLink\" href=\"__pv_it/2192f2040c884d983bca4d8278ec30c0c3fb22570/expr.ipynb\"><img src=\"data:image/png;base64,iVBORw0KGgoAAAANSUhEUgAAAGMAAAATBAMAAAB2N65nAAAAMFBMVEX////MzMyqqqp2dnaIiIhE\n",
       "RETu7u4yMjKYmJjc3NxUVFQQEBAiIiJmZma6uroAAACABxMuAAAAAXRSTlMAQObYZgAAAVBJREFU\n",
       "KM9jYGBgeHv+90qOBQx4Ad+d/7smdMF4b753snXHO+DXcb5iQsbWL1Ae838FoNB/Abxa7D8Bifcf\n",
       "Ybx/ILIerw7m/w+AJPsHCI/p/wUQdRWvFv2/IJI3AMLj/j8BRDnh1bL/J4hkUYAa8JWBIGD6H4DM\n",
       "Xf8DymAMwKmF638DMrceGgyMtw7g1MKOGp7nv4HDfQIDE24tPP8TQNRLmC3gkOPGq4X9P5jaCeX6\n",
       "gx1mxYBPCwvYYcwLGHr9nIEJKxsUYiwFUC0gB7AxIDNABNt+UNC4M7D1/WA4yMDAeb4oYcZZBogW\n",
       "tj9ARj4yA0LM+a7G2XOBgTOlgAEUQxzR/89OgGnZD2RlA41k28oAYTBkg2Oxdf+fm6DQduDbgBxf\n",
       "ByAhhw5eIrG5BXgvPEDTwoHpd+RYnM/ALYeIIk7zvw4EtTxl4LVAl8fMaCwYIgCSYGaYJUJdnAAA\n",
       "AABJRU5ErkJggg==\n",
       "\" style=\"display:inline;vertical-align:middle;\" /></a><br>"
      ],
      "text/plain": [
       "iterC1n: C_1,...,C_n"
      ]
     },
     "execution_count": 6,
     "metadata": {},
     "output_type": "execute_result"
    }
   ],
   "source": [
    "iterC1n = varIter(CC, one, n)"
   ]
  },
  {
   "cell_type": "code",
   "execution_count": 7,
   "metadata": {},
   "outputs": [
    {
     "data": {
      "text/html": [
       "<strong id=\"iterC1m\">iterC1m:</strong> <a class=\"ProveItLink\" href=\"__pv_it/4092823cb3b6db4072eaf1718c095b355964bf590/expr.ipynb\"><img src=\"data:image/png;base64,iVBORw0KGgoAAAANSUhEUgAAAGcAAAATBAMAAAB/3A4dAAAAMFBMVEX////MzMyqqqp2dnaIiIhE\n",
       "RETu7u4yMjKYmJjc3NxUVFQQEBAiIiJmZma6uroAAACABxMuAAAAAXRSTlMAQObYZgAAAWBJREFU\n",
       "KM9jYGBgeHv+90qOBQx4Ad+d/7smdCH4b753snXHO+DXc75iQsbWL3A+838FoOB/Abya7D8Bifcf\n",
       "Efx/ILIerx7m/w+AJPsHGJ/p/wUQdRWvJv2/IJI3AMbn/j8BRDnh1bT/J4hkUYAb8pWBIGD6H4Aq\n",
       "sP4HlMEYgFMT1/8GVIF6aJAw3jqAUxM7etie/waOhwkMTLg18fxPAFEvETaBw5Ebryb2/2BqJ1zA\n",
       "H+w8KwZ8mljAzmNewNDr57zAJZCBIRsUeiwFEE1sICVgIgGFsR8USO4MbH0/GE4xAFMg5/mihBln\n",
       "GSCa8kG2gQi2P8gMhjnf1Th7LjBwphQwfGSwBQpwRP8/OwGqKRsUidlAY9m2whj7wXHfuv/PTVDY\n",
       "OzBuYChCjsEDKAEET98TkDjcAiwBnB8eoGlqwNDEgcyZD7SLI8AAzuc0/+tAUNNTBh4BxuAJaGGL\n",
       "GdzYMicApOZqHm2sGtMAAAAASUVORK5CYII=\n",
       "\" style=\"display:inline;vertical-align:middle;\" /></a><br>"
      ],
      "text/plain": [
       "iterC1m: C_1,...,C_m"
      ]
     },
     "execution_count": 7,
     "metadata": {},
     "output_type": "execute_result"
    }
   ],
   "source": [
    "iterC1m = varIter(CC, one, m)"
   ]
  },
  {
   "cell_type": "code",
   "execution_count": 8,
   "metadata": {},
   "outputs": [
    {
     "data": {
      "text/html": [
       "<strong id=\"iterD1n\">iterD1n:</strong> <a class=\"ProveItLink\" href=\"__pv_it/85af61d1c5d85657f146ab6a91ce183071c105880/expr.ipynb\"><img src=\"data:image/png;base64,iVBORw0KGgoAAAANSUhEUgAAAGgAAAATBAMAAACO11WQAAAAMFBMVEX///+YmJhmZmYiIiJ2dna6\n",
       "urqqqqqIiIjc3NwyMjLu7u7MzMxUVFQQEBBEREQAAAAAQ/KVAAAAAXRSTlMAQObYZgAAAWZJREFU\n",
       "KM9jYGB4/x8I7mxgwAv4QIr+nobzueb/WrWi/jt+TQwr/69a1f6/AM7/P4GBge1/AH5N/D+BRP5X\n",
       "GJf7vwOQvP8Av6b9X4AE7z8Yl/1/ApCcfwG/pvpvQILzL8KPC4Ck/Qf8mt7/AhLM/+Gu/Qz2GAGb\n",
       "/huAlMJt2v8J7LEHDPvw6OH+rwBSCveT/Dewxwo2HcajiRHscUTEnP8B8iLQY8l4NPH8bwCF1i8Y\n",
       "/z7IN/3AEMWniRfkGw5w5DCAWQdAZhjg19T/B+SczwyM6uE+YNcKAG3/vACiiQukYgEyA0LIfwR5\n",
       "xIphYbwA8waQazdwtdufYoBoWg+0keszMgNMMJz/zbCi+M8Chq5KBv4GBn5Q8v2szQDVtBYYKlz3\n",
       "QIwHUAbXfWAQgBT9NwLlhOMMsSjuBvspAsM7rA3IvNsMSqwYmgQwowiZw/GB4XY0Er9lvjphTawP\n",
       "GFQwlLBjhnYBhggAK9+ERwe9G2EAAAAASUVORK5CYII=\n",
       "\" style=\"display:inline;vertical-align:middle;\" /></a><br>"
      ],
      "text/plain": [
       "iterD1n: D_1,...,D_n"
      ]
     },
     "execution_count": 8,
     "metadata": {},
     "output_type": "execute_result"
    }
   ],
   "source": [
    "iterD1n = varIter(DD, one, n)"
   ]
  },
  {
   "cell_type": "code",
   "execution_count": 9,
   "metadata": {},
   "outputs": [
    {
     "data": {
      "text/html": [
       "<strong id=\"xIter1l\">xIter1l:</strong> <a class=\"ProveItLink\" href=\"__pv_it/5c952d4cf87e6c6fa5893a1e2823d88cca856c440/expr.ipynb\"><img src=\"data:image/png;base64,iVBORw0KGgoAAAANSUhEUgAAAFgAAAAOBAMAAABZbMbtAAAAMFBMVEX///9ERETc3Nx2dnaYmJiI\n",
       "iIgQEBCqqqpUVFS6urrMzMwiIiIyMjJmZmbu7u4AAAAYebpBAAAAAXRSTlMAQObYZgAAAQpJREFU\n",
       "KM9jYHh7+tScHQz4AN+dPStPN4BZ2xny98UH4FP8uoDt99OvIBaHA8P/gP8ODFwCOBW3MPB/5f/C\n",
       "8OIfAzMD038FVwauGxtwKjZg0P/EEsDACVLB8g0kwr4Bj0P8E4AE8wWQQ34QVNwP8h6PAwO7AdtX\n",
       "BlYFfIqLGfIDGIIY+BUY3v/U/8mgBjGZDyT1AEbAeHz/J/2fwJTAsIyBQV+g7SfTSYji9yANvxmg\n",
       "BIzH9JEjf4LOBIZABgbW3XZtZyZAFD/7BJROZIASz4CByZevwMAQvflFDtA4UYTDwG6ehOFeTgU4\n",
       "M2sBqmIHDMUsiEj/AI9mJpu/AfgVMzQXoMiwYgYbSqIBAP1yT4NnblS2AAAAAElFTkSuQmCC\n",
       "\" style=\"display:inline;vertical-align:middle;\" /></a><br>"
      ],
      "text/plain": [
       "xIter1l: x_1,...,x_l"
      ]
     },
     "execution_count": 9,
     "metadata": {},
     "output_type": "execute_result"
    }
   ],
   "source": [
    "xIter1l = varIter(xx, one, l)"
   ]
  },
  {
   "cell_type": "code",
   "execution_count": 10,
   "metadata": {},
   "outputs": [
    {
     "data": {
      "text/html": [
       "<strong id=\"xIter1n\">xIter1n:</strong> <a class=\"ProveItLink\" href=\"__pv_it/4225590145fdd3c48fb693ed78b566c12b70cbf60/expr.ipynb\"><img src=\"data:image/png;base64,iVBORw0KGgoAAAANSUhEUgAAAF0AAAAOBAMAAAC/RQ2pAAAAMFBMVEX///9ERETc3Nx2dnaYmJiI\n",
       "iIgQEBCqqqpUVFS6urrMzMwiIiIyMjJmZmbu7u4AAAAYebpBAAAAAXRSTlMAQObYZgAAARFJREFU\n",
       "KM9jYHh7+tScHQz4AN+dPStPN8A42xny98UH4FP/uoDt99OvUA6HA8P/gP8ODFwCONW3MPB/5f8C\n",
       "5TAzMP1XcGXgurEBp3oDBv1PLAgXsHwDkewb8LjIPwGJw/GDoPr+BjiT3YDtKwOrAj71xQz5AQxB\n",
       "DL6RwUBt73/q/2RQg5jPB5J9wIDEABF8/yf9n8CUwOf5hWEXA4O+QNtPppMQ9e9Ben4zIDFABNNH\n",
       "jvwJOhOYnh5g+MTAwLrbru3MBIj6Z0A+XyJQ2TMBKIMvX4GBIXrzixygiRwBnEjeBrt/EobbORXg\n",
       "TLYFvBcmoKp3wFDPgmDqM7CtXADjMNn8DSCgfiIDrwmqJCtmWKInLAAiM1J6IwBvUwAAAABJRU5E\n",
       "rkJggg==\n",
       "\" style=\"display:inline;vertical-align:middle;\" /></a><br>"
      ],
      "text/plain": [
       "xIter1n: x_1,...,x_n"
      ]
     },
     "execution_count": 10,
     "metadata": {},
     "output_type": "execute_result"
    }
   ],
   "source": [
    "xIter1n = varIter(xx, one, n)"
   ]
  },
  {
   "cell_type": "code",
   "execution_count": 11,
   "metadata": {},
   "outputs": [
    {
     "data": {
      "text/html": [
       "<strong id=\"yIter1l\">yIter1l:</strong> <a class=\"ProveItLink\" href=\"__pv_it/bcefec454577ea0812c424a3101d515bc7379d7e0/expr.ipynb\"><img src=\"data:image/png;base64,iVBORw0KGgoAAAANSUhEUgAAAFQAAAAOBAMAAABDUCZjAAAAMFBMVEX///9UVFS6urqIiIjMzMxE\n",
       "RETu7u6qqqrc3NxmZmYiIiKYmJgQEBAyMjJ2dnYAAACf7SmQAAAAAXRSTlMAQObYZgAAASlJREFU\n",
       "KM99kb9Kw1AUxj+SkKT/4htIBwc3szg34CpY8AGse6DOLs3s0rq6mMUlFM0bGEQXHdIHEOwkdCgG\n",
       "qyVK2+uXNHYJyYV7+M69v8s59zvA9AXwULKMVx9VNxGD0NFEGTqpx+hFFLYunMo3lHYRqQb9GNft\n",
       "0zkOjCWqM+XSLUIV82OEO1MiUJ+h+wXNLe4gNFVhGQPgKMZeVIYqwpEEGj5wH4AVStDaAmxyyyE6\n",
       "wts4RdXkovMfNllticYKh1T9QBbNFO0m+C+ysMn0BVqf2KfShjeik6J2zMsnZMGmfWrIsjh/Ppnj\n",
       "mGIHtHXd626uT4moZNFWPFrgpGjxGvXzX+LuRZySGpmQV/qwCX36YxahrfHFA7B9Blx579m5nDeK\n",
       "71HxblNb/gAD52JuKg0/CwAAAABJRU5ErkJggg==\n",
       "\" style=\"display:inline;vertical-align:middle;\" /></a><br>"
      ],
      "text/plain": [
       "yIter1l: y_1,...,y_l"
      ]
     },
     "execution_count": 11,
     "metadata": {},
     "output_type": "execute_result"
    }
   ],
   "source": [
    "yIter1l = varIter(yy, one, l)"
   ]
  },
  {
   "cell_type": "code",
   "execution_count": 12,
   "metadata": {},
   "outputs": [
    {
     "data": {
      "text/html": [
       "<strong id=\"yIter1n\">yIter1n:</strong> <a class=\"ProveItLink\" href=\"__pv_it/bfe4829d8cf2d77936663504a826ef68d3520d3c0/expr.ipynb\"><img src=\"data:image/png;base64,iVBORw0KGgoAAAANSUhEUgAAAFoAAAAOBAMAAABdmRbQAAAAMFBMVEX///9UVFS6urqIiIjMzMxE\n",
       "RETu7u6qqqrc3NxmZmYiIiKYmJgQEBAyMjJ2dnYAAACf7SmQAAAAAXRSTlMAQObYZgAAAPpJREFU\n",
       "KM990b0OwVAUB/B/WmnrIwxeQKKDQcILSCQegEewa+IVOlkRE4NYLGLwBgxMBt4Ai000KUlJqNt7\n",
       "Lpo07Unuyf/k/ob7AVy2wAxR5RPp3s5U3SjsF4bmmvE7Yo1QLQSvWvqFhB3rT0I1CTGkbLRvUMO1\n",
       "EFR1ByUrUpOgWq5w3UdqLpKD/MnLexyOpJtsKfAH3rholRaJKtBdyW6Oa+XJttr+QI2LTgUZE1Dn\n",
       "U7dJesdGgz2lsgEFGA6+Iosiyzq8x+QnkczAmQs/scZQAvulriN0MnjDBYTQLKx1yG9tnoN2eZTD\n",
       "NAmpgTEbRrPzd6scwLLX/uIDG6hlSlRVtBcAAAAASUVORK5CYII=\n",
       "\" style=\"display:inline;vertical-align:middle;\" /></a><br>"
      ],
      "text/plain": [
       "yIter1n: y_1,...,y_n"
      ]
     },
     "execution_count": 12,
     "metadata": {},
     "output_type": "execute_result"
    }
   ],
   "source": [
    "yIter1n = varIter(yy, one, n)"
   ]
  },
  {
   "cell_type": "code",
   "execution_count": 13,
   "metadata": {},
   "outputs": [
    {
     "data": {
      "text/html": [
       "<strong id=\"zIter1l\">zIter1l:</strong> <a class=\"ProveItLink\" href=\"__pv_it/503efbc2290c00f2b0ee682f7bc746395dfe10a50/expr.ipynb\"><img src=\"data:image/png;base64,iVBORw0KGgoAAAANSUhEUgAAAFQAAAAOBAMAAABDUCZjAAAAMFBMVEX////MzMyqqqq6urp2dnYy\n",
       "MjJUVFSYmJiIiIgiIiJmZmYQEBDu7u5ERETc3NwAAACuGOj0AAAAAXRSTlMAQObYZgAAAO9JREFU\n",
       "KM9jYOC7f49nDwM+8Pbvg9MHQAzu//9XNuBVuv//rxlgRm15+SwGBsYLOFWyXy+vXMBw7A+IzbaA\n",
       "gXHZBHzmZjEwMIMU8IUACSZ8Sp86MDCwLAAyrAsIKGXeDiRYgaqYNjIwKOBVqi3AwMTA/4CBofoB\n",
       "A9cCsFIekPgBGAHnse9jYFjFIA009Pfu3T8PgJWeByn/yQAl4Dz93bv3z2HoBQarwqv/ORC3nv4H\n",
       "lNzLACVOA4OPZz/Q2k18678dYLgBdw/YrXaYPnoAY20UQFFagBn8MAbPB1iM8rn+asCrlCFFAVmc\n",
       "AzOckBMHAGxSSY9plZfnAAAAAElFTkSuQmCC\n",
       "\" style=\"display:inline;vertical-align:middle;\" /></a><br>"
      ],
      "text/plain": [
       "zIter1l: z_1,...,z_l"
      ]
     },
     "execution_count": 13,
     "metadata": {},
     "output_type": "execute_result"
    }
   ],
   "source": [
    "zIter1l = varIter(zz, one, l)"
   ]
  },
  {
   "cell_type": "code",
   "execution_count": 14,
   "metadata": {},
   "outputs": [
    {
     "data": {
      "text/html": [
       "<strong id=\"f_xIter1l\">f_xIter1l:</strong> <a class=\"ProveItLink\" href=\"__pv_it/28ef188530ba17a274167b74b0d8c66cfa4a799c0/expr.ipynb\"><img src=\"data:image/png;base64,iVBORw0KGgoAAAANSUhEUgAAAHYAAAAVBAMAAABh6QfWAAAAMFBMVEX///8yMjLMzMwQEBAiIiJm\n",
       "Zma6urqYmJiqqqp2dnZERETc3NyIiIhUVFTu7u4AAAAe+HC4AAAAAXRSTlMAQObYZgAAAbtJREFU\n",
       "OMtjYKAKyCFJNXsCmHp7dgOQZLpAmlVBYHJlfwGQZHxAml5GEMH37QWIOkOiF9knAAmOD2C2HYl6\n",
       "+QyABKsDiMkmAOQGOqqJ4Pf2UxGhRF8IcwXQ7su+ASATgE540sD85c0fvJZ5MNj7nT8AZk8FYn4w\n",
       "kxEYXtcZ+P/wf2dg0MKpl7eA4f+B/wV894EB2wjk71cAiTID42sCw/7f7AcYVK/g1MvJwP1/Qw0D\n",
       "QwqQnQzE/WBRfnBc14MCgKEFX/B+hrlXH4inIOm9f4GQXt6/IFIcqnctWIy5gYGhk8H+AMNpfHo5\n",
       "JjD/YeDZwPAb6mYbsChXAQPf/+z/CdwGEL2gVMbHAGXAee+/7f/GsJmBCeS1QlCygoRCAAP3L177\n",
       "hI0JYL18X0AqHaAMOG//gsvfuMUYeBZA/Mz2D6yXDShzxPOtoRjEv3z2wPzxGKiEz4oBSjwGOpTH\n",
       "Zd5lwQQGLlC0AlXyCEC8Yo3wFcjNbBswPJsNZzErgdNkLVcBhF+JqpcdM6AK4Kz3PEBPHmAwfALL\n",
       "U/A8uFM+hoBe3hkMDA+B1kVD+dyomeAAhlYeVO5tZM4ekrIgjwIDAF08csAzjIv2AAAAAElFTkSu\n",
       "QmCC\n",
       "\" style=\"display:inline;vertical-align:middle;\" /></a><br>"
      ],
      "text/plain": [
       "f_xIter1l: f(x_1,...,x_l)"
      ]
     },
     "execution_count": 14,
     "metadata": {},
     "output_type": "execute_result"
    }
   ],
   "source": [
    "f_xIter1l = Function(f, xIter1l)"
   ]
  },
  {
   "cell_type": "code",
   "execution_count": 15,
   "metadata": {},
   "outputs": [
    {
     "data": {
      "text/html": [
       "<strong id=\"f_yIter1l\">f_yIter1l:</strong> <a class=\"ProveItLink\" href=\"__pv_it/6686e6ab53cd681d9064008a75d7cd37d03412de0/expr.ipynb\"><img src=\"data:image/png;base64,iVBORw0KGgoAAAANSUhEUgAAAHMAAAAVBAMAAACHwMySAAAAMFBMVEX///8yMjLMzMwQEBAiIiJm\n",
       "Zma6urqYmJiqqqp2dnZERETc3NyIiIhUVFTu7u4AAAAe+HC4AAAAAXRSTlMAQObYZgAAAaJJREFU\n",
       "OMutk79Kw1AUxj9bbdImjdm6VXFWrIuKCC20kyB0cBERqrg52EnoIPoGtaDgINpNHIS+gLS4O/kA\n",
       "FurgIq2iBU0xnnNv0hZKAgED+e6/78c959x7gX/4Io0g7kPZvD3WSOcCbTQxLZrbcpE0GSxIk8Xo\n",
       "vpLqjWBoiUXtsIabwdCWCDvDukN/ZQnI+QIDR+wEUJ7W89TdBKL5dE21/cghR5ShSZFlgmLQ7NrE\n",
       "D0JV7yiFw3im5FSuU13UeRGYjb5jvBfaznii0oE9vgYpkrKY7XKpemh/QPVGHcc59UJc3LM+Om/h\n",
       "oOOLSkfCRe/E5DL9xylcm76odFhuwKti8oYXTEydSpRP2YDTGYyEI8SUYvJlEijHX0/pdkGgxicN\n",
       "226nP5IOveocTuRXoFw1NbtmNyWaphfRIouxAkdaluuI8WmOFejymrJ25N0FHasMOFIbyXMfjiM8\n",
       "Iy/iUawoFhRK0kbdclBltETkk462TqNLYOHFWUlC/9ayBWiVr4YXKh3xC8qBYi1tOSv3wEbuyvWN\n",
       "PkHeauCIDyekBXqwD8AfJxx8ITPLAwUAAAAASUVORK5CYII=\n",
       "\" style=\"display:inline;vertical-align:middle;\" /></a><br>"
      ],
      "text/plain": [
       "f_yIter1l: f(y_1,...,y_l)"
      ]
     },
     "execution_count": 15,
     "metadata": {},
     "output_type": "execute_result"
    }
   ],
   "source": [
    "f_yIter1l = Function(f, yIter1l)"
   ]
  },
  {
   "cell_type": "code",
   "execution_count": 16,
   "metadata": {},
   "outputs": [
    {
     "data": {
      "text/html": [
       "<strong id=\"f_zIter1l\">f_zIter1l:</strong> <a class=\"ProveItLink\" href=\"__pv_it/84f1e147eefeb0058356119580173422b7a66a2c0/expr.ipynb\"><img src=\"data:image/png;base64,iVBORw0KGgoAAAANSUhEUgAAAHIAAAAVBAMAAABoAqesAAAAMFBMVEX///8yMjLMzMwQEBAiIiJm\n",
       "Zma6urqYmJiqqqp2dnZERETc3NyIiIhUVFTu7u4AAAAe+HC4AAAAAXRSTlMAQObYZgAAAZhJREFU\n",
       "OMtjYKACyCFBLXsCmHp7dgOQZLpAijVBYHJlfwGQZHxAik5GEMH37QWIOkOS19gnAAmOD2C2HUk6\n",
       "+QyABKsDiMkmACR2/drwGK+judev5oNYsQJo72XfAJB+kPX2/7/64LWK+f//kANg1lQg5gczGYGh\n",
       "xL68vARoihZunVXl5a4MfPeB7moE8vYrgE2DxNBVBgbVK/hs5QUanQKkk4G4HyzCD9a5EeTmFnwe\n",
       "lYS6VB+IpyB0spkzENCZDIp6cajOtRC/NwCJZgUGDrw6OYwYGBoYfkNdawMW4wKFkDUDQyhEJyhu\n",
       "+BigDASveAMDawATKC4LQUkIrJMT6PN+Y2N7P7BOvi9AofcOUAacx/HZ2PjLA54FEL+y/QPrZANK\n",
       "WHDH/30A0WkPzASPgSr4rBigxOPfIC9t/X+PgQsUjWIMDDwCEC9Ywz0Dci3bBgw/ZsOTgxI49dWC\n",
       "PAgClSg62TFDpwDGeM8D9NwBBsMnsHwDS7A75WPw6+SdwcDwEGhVNCyOUXL2AQyNPCi828icPSRk\n",
       "Mh4FBgB1r2JIFvyY3gAAAABJRU5ErkJggg==\n",
       "\" style=\"display:inline;vertical-align:middle;\" /></a><br>"
      ],
      "text/plain": [
       "f_zIter1l: f(z_1,...,z_l)"
      ]
     },
     "execution_count": 16,
     "metadata": {},
     "output_type": "execute_result"
    }
   ],
   "source": [
    "f_zIter1l = Function(f, zIter1l)"
   ]
  },
  {
   "cell_type": "code",
   "execution_count": 17,
   "metadata": {},
   "outputs": [
    {
     "data": {
      "text/html": [
       "<strong id=\"g_xIter1l\">g_xIter1l:</strong> <a class=\"ProveItLink\" href=\"__pv_it/b06f9227379220545ae7690068d7efafcfcce4470/expr.ipynb\"><img src=\"data:image/png;base64,iVBORw0KGgoAAAANSUhEUgAAAHUAAAAVBAMAAACK3rzVAAAAMFBMVEX///8yMjK6uroiIiLMzMwQ\n",
       "EBCqqqru7u7c3NxUVFRERER2dnaIiIhmZmaYmJgAAAAgbmjVAAAAAXRSTlMAQObYZgAAAcJJREFU\n",
       "OMutk79Lw1AQx7+WtklqbNUKbhJxqVtFUMSlCA5uVUTQJZ11KUiHgtI4ODi1i5Ng/QNU6uSiENBB\n",
       "tKDiJIIGR39gqVirtMZ7aWtaipGAgRx3793n3t29e8B/fA7Vlvt9vTFh76i2UJ3RbTPPdlMVVZvs\n",
       "o6m6ojbZmKn20r/s7+odsQS4y4Exf8pQPRESz2cPJG9oYwjy8Lll7osR1+tSyVBbL6hhKb5Mag8g\n",
       "aNBVXYNz61d2E76S7wvxd8BNzXqJokCrUxQJvK48wXkd/JXNIFn0qnCQhyMMzMJZpNU82/K+MekO\n",
       "WmT9Eq7m68zBXYAYrLHCx59smnWqRTNYsQgPRcEMMRlXCaJixS5AVnECn2Lk7M3Bx7q9CyTyyTxW\n",
       "K+dyzDNaEzWL0wO6xIcxzuprB/eONEXBIZDcWs/znRU2wfhXVEXN4j8FWVqRcFqtuT97xaL20VgO\n",
       "7q93SBU2Rv3j5lAVMbo1TqYjjkbjkxR9m9UsMWzHmEnlpyij3kDzIzU9pkPGTDrAFYzryTSyWhPr\n",
       "NSczR8N3ANwpQqrxDfJ7ZdWaxUYEHI3VfPa2Yq81OIrN99M46IJSZ/D2HvAx8A3QynN33n2RqQAA\n",
       "AABJRU5ErkJggg==\n",
       "\" style=\"display:inline;vertical-align:middle;\" /></a><br>"
      ],
      "text/plain": [
       "g_xIter1l: g(x_1,...,x_l)"
      ]
     },
     "execution_count": 17,
     "metadata": {},
     "output_type": "execute_result"
    }
   ],
   "source": [
    "g_xIter1l = Function(g, xIter1l)"
   ]
  },
  {
   "cell_type": "code",
   "execution_count": 18,
   "metadata": {},
   "outputs": [
    {
     "data": {
      "text/html": [
       "<strong id=\"g_yIter1l\">g_yIter1l:</strong> <a class=\"ProveItLink\" href=\"__pv_it/d8bf914ca59c1231a557b37e4a8536ff504024e30/expr.ipynb\"><img src=\"data:image/png;base64,iVBORw0KGgoAAAANSUhEUgAAAHMAAAAVBAMAAACHwMySAAAAMFBMVEX///8yMjK6uroiIiLMzMwQ\n",
       "EBCqqqru7u7c3NxUVFRERER2dnaIiIhmZmaYmJgAAAAgbmjVAAAAAXRSTlMAQObYZgAAAdNJREFU\n",
       "OMutkz1Lw1AUhl/btEnbpO3iqgEdFAQLpYsOdnASxaKDH4MV3FzapXMDjgoG/AHtHxDroovFDG4W\n",
       "KriKFkdFGr9q8IN4bpJqpTQQMJDDOcl9kvc991zgP64xL4tvOwtO9YJK6Y6iL+9JY7wjr3mzd9+R\n",
       "L3lDC7+pjxRE+hvwJ9yAwzUgaWXhdQoP53fMdwWoBgzkdBcycpFVgqaTEqMKX6xLDfCZXQM3Zcz0\n",
       "VimYivTOl6ijQVLZzKNFTwMyOO00jiltbq8nOht5hP8TQ8xgBlgBZ1AakylkNd5MY6O34sAnii+o\n",
       "sjHQEWxBTDgoZyo+cuKCzhsY1zFgo6KB8AX7HnUs+gpS5IY2MyBThi04qiPG+hxuEPqIvg8bZaPF\n",
       "ox1+qmYcgxWObCIaB/+GkuI0W3hF/clC+Wd6VEw44bfazYimLJad9aO1S2sk2JuNxYM3G83S5wps\n",
       "CQv8KkuYzGBqwsyHNbaZrK3Yt2wsE55m22oJ9ildPkfoHob0jsC0PYg+8K32POd02nIbjXa3iJpB\n",
       "k0RTUxSpOgFulJDaPnT1ytYCsD141QsVP4SUjNAReaBh2qxd228EFVJysn1otS6S/QqXyWO7Cv0x\n",
       "tOPlzJ0B35PggDt3LXz4AAAAAElFTkSuQmCC\n",
       "\" style=\"display:inline;vertical-align:middle;\" /></a><br>"
      ],
      "text/plain": [
       "g_yIter1l: g(y_1,...,y_l)"
      ]
     },
     "execution_count": 18,
     "metadata": {},
     "output_type": "execute_result"
    }
   ],
   "source": [
    "g_yIter1l = Function(g, yIter1l)"
   ]
  },
  {
   "cell_type": "code",
   "execution_count": 19,
   "metadata": {},
   "outputs": [
    {
     "data": {
      "text/html": [
       "<strong id=\"g_zIter1l\">g_zIter1l:</strong> <a class=\"ProveItLink\" href=\"__pv_it/e6f1cbc2f6c115d9882a3ae5756aa69959bb14370/expr.ipynb\"><img src=\"data:image/png;base64,iVBORw0KGgoAAAANSUhEUgAAAHEAAAAVBAMAAACDNRyvAAAAMFBMVEX///8yMjK6uroiIiLMzMwQ\n",
       "EBCqqqru7u7c3NxUVFRERER2dnaIiIhmZmaYmJgAAAAgbmjVAAAAAXRSTlMAQObYZgAAAaZJREFU\n",
       "OMtjYKAcMB0gQfEjZI4nKdbwOiBxxElyoQCCyXOAJJ2vEUzWApJ0liKYikDMsX4FezheDV2/GkrB\n",
       "VnAlAIm3p18Bydsge///v4zf0fH//9qAGdwXgME0geMvkCkHxK/evbNlYGBZgFMj37p3jy8wVH5n\n",
       "YGADBtH7AoZvQMEgsBTnBQaWmwb4bJ0LjHmgAqYABoZIBpYfQJFPIGEOaSDBhk9n4waIS1k+MLB9\n",
       "Y+AxgOlUfUBAJ1MckGB8ANbJ84OBC2gGQxhITwgDQwJenakODGwM/A1g1/J9YOAHhfA6IH7awMB7\n",
       "AayTHaSsAEbAeXwRDAx3GVxBLAEG9u8M84FmMOwFWvk1NPRzAVhnPUj3ZwYoAeflh4bGmzOcgsaK\n",
       "5pnLICOVgdGZ0Pt/OsSfpcBAY49igBKlwHhijweaH8Zx/2cBwxqQXxVAmtaCU18DzC9gf2pgBg5c\n",
       "QYgDOPUxMbB/A0fyBhSdDzBTAYzB/gGYzvYwMNxv4JyAkss4Nv49gFcnw+wEBnZgEso6cw/C70RW\n",
       "xoMZISgJmrMBicNBSgY9wsAAAHN+aqJYfQdZAAAAAElFTkSuQmCC\n",
       "\" style=\"display:inline;vertical-align:middle;\" /></a><br>"
      ],
      "text/plain": [
       "g_zIter1l: g(z_1,...,z_l)"
      ]
     },
     "execution_count": 19,
     "metadata": {},
     "output_type": "execute_result"
    }
   ],
   "source": [
    "g_zIter1l = Function(g, zIter1l)"
   ]
  },
  {
   "cell_type": "code",
   "execution_count": 20,
   "metadata": {},
   "outputs": [
    {
     "data": {
      "text/html": [
       "<strong id=\"fx_eq_gx\">fx_eq_gx:</strong> <a class=\"ProveItLink\" href=\"__pv_it/0c98f1830b09975ac222c613b08476997c5183830/expr.ipynb\"><img src=\"data:image/png;base64,iVBORw0KGgoAAAANSUhEUgAAAG8AAAAVBAMAAAC6Uq30AAAAMFBMVEX///8yMjLMzMwQEBAiIiJm\n",
       "Zma6urqYmJiqqqp2dnZERETc3NyIiIhUVFTu7u4AAAAe+HC4AAAAAXRSTlMAQObYZgAAAWtJREFU\n",
       "OMtjYKAc5EDpMqKVvD27AUgyXYCKsirg0oeuZGV/AZBkfACTF8ClEU0J37cXIOoMXL4Sl0Y0JRwf\n",
       "wGw7uOhjXBrRlLA6gEg2hAO5GrDrQ1PCftk3AKR9AgMD95zbPTEMDJwB6FpKT1ZhUcJ/AOxxYAC9\n",
       "ZCgpMAG6HWxyoCAIyILddIH7KxYl+8Fhy5zAwDCB4TxDE9BJBmgW1j9g+IFFST9Ykh8o+oDhFji6\n",
       "PqBptGVg+o1FyRS4RgYGG2waOX4w8DhgUbIWLMsMCkruTwx8MKeGuICAF5DF85uBKwCLEhtIAAN9\n",
       "Xs3zgeEcMJzRkg77Bwb+BkwlfN/AssAA5vjOZcB9ADM6+P4x3N+AqYTtHyR2HRj41sybeRwU7Alo\n",
       "gZN7JgSLEh6ow6zxJbmlmEpqQS5HTdpz0JMaA98PTCWGT9DzDB96torfwHsBU0llNJTDDculvBvQ\n",
       "NHadCcerZA+UPoS76EBSAgC4qXCfIkvyDQAAAABJRU5ErkJggg==\n",
       "\" style=\"display:inline;vertical-align:middle;\" /></a><br>"
      ],
      "text/plain": [
       "fx_eq_gx: f(x) = g(x)"
      ]
     },
     "execution_count": 20,
     "metadata": {},
     "output_type": "execute_result"
    }
   ],
   "source": [
    "fx_eq_gx = Equals(fx, gx)"
   ]
  },
  {
   "cell_type": "code",
   "execution_count": 21,
   "metadata": {},
   "outputs": [
    {
     "data": {
      "text/html": [
       "<strong id=\"PofTrue\">PofTrue:</strong> <a class=\"ProveItLink\" href=\"__pv_it/e620067e5fc1a01f6e7ce2f053b97db25219d34a0/expr.ipynb\"><img src=\"data:image/png;base64,iVBORw0KGgoAAAANSUhEUgAAADEAAAAVBAMAAAAdjxsPAAAAMFBMVEX////u7u5mZmaYmJi6urqq\n",
       "qqp2dnbMzMwQEBBEREQyMjLc3NwiIiJUVFSIiIgAAAAeC3ydAAAAAXRSTlMAQObYZgAAAOtJREFU\n",
       "KM9jYCAK+MFZJmDy7f+7d89uADLYLzDonAGBkwxMBWCpXwwMnN1AmksAxCsCiy0AEezfGBhYgZjh\n",
       "HQNCxgxE8H1hYGD+BGQ0IslIgAjODwwMvF8ZGFgWIMlwBgAJfqCI/AQGBqYEJBk2BSBRn8DAfgjk\n",
       "AAMkGVaQAe+vpamBHM3hgCTD0gAk5gtAfMePLMMOtJzhDwMOGfZPUBmOADTTQN6BOBTZBcxAF3B+\n",
       "hMqAHYrkaqH5fx9AZFgOgKkyMMnlgBwJ3UhsCZToMUNi56HIcAnAmYwLUGS4L8CZvBtQY3sfnPWc\n",
       "gQEAcQM23zO0HfcAAAAASUVORK5CYII=\n",
       "\" style=\"display:inline;vertical-align:middle;\" /></a><br>"
      ],
      "text/plain": [
       "PofTrue: P(TRUE)"
      ]
     },
     "execution_count": 21,
     "metadata": {},
     "output_type": "execute_result"
    }
   ],
   "source": [
    "PofTrue = Function(P, TRUE)"
   ]
  },
  {
   "cell_type": "code",
   "execution_count": 22,
   "metadata": {},
   "outputs": [
    {
     "data": {
      "text/html": [
       "<strong id=\"PofFalse\">PofFalse:</strong> <a class=\"ProveItLink\" href=\"__pv_it/4d7c4165a9fdb279e98a557bae75d7e45eb1c31a0/expr.ipynb\"><img src=\"data:image/png;base64,iVBORw0KGgoAAAANSUhEUgAAADEAAAAVBAMAAAAdjxsPAAAAMFBMVEX////u7u5mZmaYmJi6urqq\n",
       "qqp2dnbMzMwQEBBEREQyMjLc3NwiIiJUVFSIiIgAAAAeC3ydAAAAAXRSTlMAQObYZgAAAO9JREFU\n",
       "KM9jYCAK+MFZJmDy7f+7d89uADLYL4C4+0AEUwFY6hcDA2c3kOYSAPGKwGILQAT7NwYGViBmeMeA\n",
       "kDEDEXxfGBiYPwEZjUgyEiCC8wMDA+9XBgaWBUgynAFAgh8oIj8BaGsCkgybApCoT2BgPwRygAGS\n",
       "DCvIgPfX0tRAjuZwQJJhaQAS8wUgvuNHlmEHWs7whwGHDPsnqAxHAJppIO9AHIrsAmagCzg/QmXA\n",
       "DkVytdD8vw8gMiwHGBh0zpw5cebMSaAXHJAjoRuJLYESPWZI7DwUGS4BOJNxAYoM9wU4k3cDamzv\n",
       "g7OeMzAAAAoKNyNLs78oAAAAAElFTkSuQmCC\n",
       "\" style=\"display:inline;vertical-align:middle;\" /></a><br>"
      ],
      "text/plain": [
       "PofFalse: P(FALSE)"
      ]
     },
     "execution_count": 22,
     "metadata": {},
     "output_type": "execute_result"
    }
   ],
   "source": [
    "PofFalse = Function(P, FALSE)"
   ]
  },
  {
   "cell_type": "code",
   "execution_count": 23,
   "metadata": {},
   "outputs": [
    {
     "data": {
      "text/html": [
       "<strong id=\"QimplPofTrue\">QimplPofTrue:</strong> <a class=\"ProveItLink\" href=\"__pv_it/4f6f7112e40d08b23dab002cd24a742449b13f540/expr.ipynb\"><img src=\"data:image/png;base64,iVBORw0KGgoAAAANSUhEUgAAAIUAAAAVBAMAAACakjBMAAAAMFBMVEX///+YmJiqqqq6uroQEBBE\n",
       "RETu7u4iIiLMzMwyMjKIiIhUVFRmZmZ2dnbc3NwAAADS0us6AAAAAXRSTlMAQObYZgAAAftJREFU\n",
       "OMutlD1MQjEQxw8E8hCemjg5GFkcnGAwMchC1LiYGDTOyuDC5gKOvs1BDRgSnIxsGhfZTDSBtxhd\n",
       "jKwaVFZ10MTvoMFe+2iPD3GxSdv/67W/tnfXB/C/pSNbU7bAH1NHperlbVfp+oiLNfAu8xKBs1YL\n",
       "OwuV48M8Ki0Hp3xmHLwGDlwa4EmgyHCzia275e7dKYC5Mpqj+LnOB9kYxCKsmcJtsophK6qVUamS\n",
       "bNSPln1QjH5Wt1BcsImOqGK4woqRkeqAuWkA7ZOEsQjg/UBxy6xBUAyYVYyQVAusFnzM+SnCcPrg\n",
       "McIZzHJOGSXF0GW4PtkBX1nvLRKGbsJFD9+BeXeTMoawscL0ZSG0b4BVNLt7CMOeghXuhRdWxylj\n",
       "mITDnrZiW7ku3aBwBAijI8xXg53tAM+UkaQxjQm8860WY8rQnuCdp8NkO4a2LcLbvfQLYwd7Pybb\n",
       "WNNdLH/ErQxJmhbD4au/iz9wv6fxs85QRh9xR46kh7gU9aktBXqiqA+WVTibY3sn06OWsbpZH1sI\n",
       "be/6AO8yIhgi9mnFmBed66R6VHvgwjEbvHXz0zkNGzIcZbWO5rrR/PimiV4U1zODje9M5WbL0k/0\n",
       "FW891eeGxwWx9r8gt3rLLvF2tAnh5wc1Kd+e0ZWT0lOut8gLdBp//AvvpdoD+AH0zocYbRSMxAAA\n",
       "AABJRU5ErkJggg==\n",
       "\" style=\"display:inline;vertical-align:middle;\" /></a><br>"
      ],
      "text/plain": [
       "QimplPofTrue: Q(TRUE) => P(TRUE)"
      ]
     },
     "execution_count": 23,
     "metadata": {},
     "output_type": "execute_result"
    }
   ],
   "source": [
    "QimplPofTrue = Implies(Function(Q, TRUE), PofTrue)"
   ]
  },
  {
   "cell_type": "code",
   "execution_count": 24,
   "metadata": {},
   "outputs": [
    {
     "data": {
      "text/html": [
       "<strong id=\"QimplPofFalse\">QimplPofFalse:</strong> <a class=\"ProveItLink\" href=\"__pv_it/fcaf6c287c1283084def173a29c5b3f58e0ec0c90/expr.ipynb\"><img src=\"data:image/png;base64,iVBORw0KGgoAAAANSUhEUgAAAIUAAAAVBAMAAACakjBMAAAAMFBMVEX///+YmJiqqqq6uroQEBBE\n",
       "RETu7u4iIiLMzMwyMjKIiIhUVFRmZmZ2dnbc3NwAAADS0us6AAAAAXRSTlMAQObYZgAAAf5JREFU\n",
       "OMutlD8sA1Ecx3/9m2vrkJgMjS4GUztIBIsgNUgEMdPB0s2AG91mIGlFwiRsxKKbpBJuERbRlbR0\n",
       "VQOJ/0H4/d5d3/tVqxaXvN997373Pu/9/rwD+N/Ls1VWrtgfn/ZI1SJsY76QFWJJPAnQaa2JwaP3\n",
       "g/1DUlqGbIlMg0n2woTQPIk14bbIBmqu3pQGmCiSO0GPy+IlvoPkKJphWmZLMVw5NTMhVQrfRsmz\n",
       "C4oRxrFO4hw/9CYUw9+nGGtS7WGa2sgfZ4xpjOeVxDV6u0ExYFwxeqWawnEUweSnGcMXgbtRwUDP\n",
       "GWfkFUOX5XrDDT5RHnOMoVtw3ixWwOyucEaHyLkhrg8HoX0CLJI70MwY7jQsiCw84hjgjE5WDveq\n",
       "U9v3Qv6KhDfGGJ4+MRvcuAI8cEaK1zRp433P5RpzhnYPL6Id4vUY2oZd3qaZXxibdI9Ss/VXxeLk\n",
       "Y87pkJTlMLyRyliisdKOJvY6xhmtLB0Z1h52UDynrjTo8zm9vajKWV3bG9ke5Y7VrcraQu/GdgQo\n",
       "li5780OGgS2zqhiT9s1//JUtH3BMzIlhzGKYmEuxO5/pIoa3qObxXjerD98I09N2eFb3z3OmerPm\n",
       "FWb6UtjQ18OPwwXJ+r+ggDrLfvvsaIN2nm/VR4f1GY0ZKUPFSo8MIGj+8S8sSbUD8A087YcYmx4J\n",
       "cAAAAABJRU5ErkJggg==\n",
       "\" style=\"display:inline;vertical-align:middle;\" /></a><br>"
      ],
      "text/plain": [
       "QimplPofFalse: Q(FALSE) => P(FALSE)"
      ]
     },
     "execution_count": 24,
     "metadata": {},
     "output_type": "execute_result"
    }
   ],
   "source": [
    "QimplPofFalse = Implies(Function(Q, FALSE), PofFalse)"
   ]
  },
  {
   "cell_type": "code",
   "execution_count": 25,
   "metadata": {},
   "outputs": [
    {
     "data": {
      "text/html": [
       "<strong id=\"P_xIter1l\">P_xIter1l:</strong> <a class=\"ProveItLink\" href=\"__pv_it/be4fa4a6ed691f3aa8533285941a67fc49e884f10/expr.ipynb\"><img src=\"data:image/png;base64,iVBORw0KGgoAAAANSUhEUgAAAHsAAAAVBAMAAACUF4xmAAAAMFBMVEX////u7u5mZmaYmJi6urqq\n",
       "qqp2dnbMzMwQEBBEREQyMjLc3NwiIiJUVFSIiIgAAAAeC3ydAAAAAXRSTlMAQObYZgAAAc1JREFU\n",
       "OMutUztIw1AUPTHVtIam4uTgb+ogCB3EUTO3Dp2cq4ODgzg4uIgdFFGHFtz9oCBIh4wiSFXQQRQE\n",
       "QVzEbCIq2hrFb+O9SVMNxUjAwDs5N/edvHvuew/4vyeg+5reZeGdeXFxrDGb8Ldazaj1egNC80xW\n",
       "fFa7zCA9A7U0oOg+5d0MigGIRSLBBp/yJobQAxB+IhKn0Zhbjx97aoSOw7HciUVDSYIIWWjLEolS\n",
       "bh+Z3XtPE83J4EdryaJ17QSTKUh7HK1SFTGYuhmDlP1VfopIKfKIlgJ1jHt3fzYUtfZtiv4H2dR6\n",
       "IHXu/CpPIf8u6gjQjECa4iWnYwaD+MJYu+NRfm+6XLhEXcMHfsrDn3/KL7lx9TFbLhWdz9MkSwVL\n",
       "UDQveT8yOm4Q0eziFcNJLNAOGHkDm/bqAn9jYxZxIsFMmKqcxjgbpdaFCo58EMhnzw15zZa38S/Y\n",
       "GZNKJL+GM+qWimvbf+PSp7PNfVTK0cD5hmrLm95JMMuHK1sGIUMV3x60zNECi+xf/ekqqFWo5T1R\n",
       "faO/Z8yMlg9t5RFTbnmsSi5+H90HqnnEna1cWHm4qHvLcZaEsOzObrsipXrT3JchrLmzsr8LfwV8\n",
       "AQoOgJfCVB4BAAAAAElFTkSuQmCC\n",
       "\" style=\"display:inline;vertical-align:middle;\" /></a><br>"
      ],
      "text/plain": [
       "P_xIter1l: P(x_1,...,x_l)"
      ]
     },
     "execution_count": 25,
     "metadata": {},
     "output_type": "execute_result"
    }
   ],
   "source": [
    "P_xIter1l = Function(P, xIter1l) "
   ]
  },
  {
   "cell_type": "code",
   "execution_count": 26,
   "metadata": {},
   "outputs": [
    {
     "data": {
      "text/html": [
       "<strong id=\"P_yIter1l\">P_yIter1l:</strong> <a class=\"ProveItLink\" href=\"__pv_it/50d136dfb372bdb67ae9e2d974684673607285340/expr.ipynb\"><img src=\"data:image/png;base64,iVBORw0KGgoAAAANSUhEUgAAAHgAAAAVBAMAAAB/IDdlAAAAMFBMVEX////u7u5mZmaYmJi6urqq\n",
       "qqp2dnbMzMwQEBBEREQyMjLc3NwiIiJUVFSIiIgAAAAeC3ydAAAAAXRSTlMAQObYZgAAAbBJREFU\n",
       "OMutkz1Iw1AUhU/amPRH2+IkgtRJN+3k4NRREMRZCpYOrgYnnVQQRBTaxdV2cHAzUydRcXBS7NRF\n",
       "C1kdtE2ppbSVeF/eS38oDQR8cG9vkvM1976TB/zX2vAi9idZ/rIqlVedCrXk6VWLdm4DwXP6DcU8\n",
       "wSGW1CYwQYFvb0P605QiDSrqVBx7g6UjSsEaMPUDyAVAuUlg8tENGVBcUkQJiucAH7WRCXSwXXOD\n",
       "BxQZisM01Ce2AQnq5KGD5RwOXHq1FXMm1VsU1fLOAnMqkIRq7BbwZux9jIWFQmaNr1HkhUNR5nrW\n",
       "kCwNKZe+bYUyz1qm6KIPq5YuW3CDuYJGtGG1Lm4HNsmyFpS2K8wVUZ23zWy2V5D+zd9GqMlhid2L\n",
       "OUXviiv22eUqMabjIM0RbqHa4HCc9kTqiqJ/xRWf3Krp/K/BYXsHUxd5k8MzHZKfsSInkpTVHcUV\n",
       "A64Hx6HDIWvMZj7z+si8su4oTjXxefbWCujbCVu6gBOjmwWhkGrUrWIMnbEYqum7E6B4uzQW5ooy\n",
       "OTM79Cxcgu/l2TnUkVGb2Kv6ivfhh/deTmREwx9DwYnrou8adAAAAABJRU5ErkJggg==\n",
       "\" style=\"display:inline;vertical-align:middle;\" /></a><br>"
      ],
      "text/plain": [
       "P_yIter1l: P(y_1,...,y_l)"
      ]
     },
     "execution_count": 26,
     "metadata": {},
     "output_type": "execute_result"
    }
   ],
   "source": [
    "P_yIter1l = Function(P, yIter1l) "
   ]
  },
  {
   "cell_type": "code",
   "execution_count": 27,
   "metadata": {},
   "outputs": [
    {
     "data": {
      "text/html": [
       "<strong id=\"P_xIter1l_y\">P_xIter1l_y:</strong> <a class=\"ProveItLink\" href=\"__pv_it/54e4c48f0f6c9bd3322860dd1dedf733370d42c10/expr.ipynb\"><img src=\"data:image/png;base64,iVBORw0KGgoAAAANSUhEUgAAAI8AAAAVBAMAAACNsKCFAAAAMFBMVEX////u7u5mZmaYmJi6urqq\n",
       "qqp2dnbMzMwQEBBEREQyMjLc3NwiIiJUVFSIiIgAAAAeC3ydAAAAAXRSTlMAQObYZgAAAiBJREFU\n",
       "OMu1VD1o1GAYftLcNUnj5Y5OLVjrIB0KxQzi2GZuhd7k2rSDg4h0UHAp3qCIOtyBk4v9URCkQ0YR\n",
       "5E7BDtJCoVC6FL9NRO1dz1h/2l58v++7pI1HIwQM5M3zvjzfk/d5vy8B/seVYSkXXhDxa7C9veZx\n",
       "NJe2g65Z8fgNGA85WEztZYEHbQ/I0g2LpRa6yIPlA2qTgF5ILdTHg9EAct8JjNPdu/x8fC1xjTL8\n",
       "/sby+l9Fo0ghTwYHKwSGiPUO5Tf1RIuni/rBmVYkO+OiWkD3WcK3XWhvefEpdWYjYIENrXKi0Aby\n",
       "rfw3DOyKrDvTQJ1mzKdd37wyJHb/DtVhBt4otJHaiULUwb7KkJGMm101PKYTWCI8H87Y50H9yWO2\n",
       "lmBujK8SZoCCzkA+NZozDnBcKHf4T6EPfNQ9tkymCtoPKaQ1Q8JdEnD1FiwvSegyygyfkfdkOgyr\n",
       "JK1Zfkh5RLvnV328lB0ponW0QZgpwUTgmCXcapeWYFCDKg3b2A2FZoBqZcs3n0mhQS7GfXMQZeav\n",
       "XNl55eBTuz6CSVtMrHf+MDw2l6i91emtF44U6tunpff5sa20g1ImP19WBh7Qq55IAvp3zlOxxznu\n",
       "XvciKGY00fmfOWLcmw0J18JPJLpUNy5kdwipRx9KgwlCrqbQHuF6nBf9RsyrTZYshM2iIJxyDXq9\n",
       "shDnvY5lVufWsw5CduccP3xenGem/SF9BP4A00aUYTVouqAAAAAASUVORK5CYII=\n",
       "\" style=\"display:inline;vertical-align:middle;\" /></a><br>"
      ],
      "text/plain": [
       "P_xIter1l_y: P(x_1 ,  ...  , x_l , y)"
      ]
     },
     "execution_count": 27,
     "metadata": {},
     "output_type": "execute_result"
    }
   ],
   "source": [
    "P_xIter1l_y = Function(P, [xIter1l, y]) "
   ]
  },
  {
   "cell_type": "code",
   "execution_count": 28,
   "metadata": {},
   "outputs": [
    {
     "data": {
      "text/html": [
       "<strong id=\"P_xIter1l_yIter1n\">P_xIter1l_yIter1n:</strong> <a class=\"ProveItLink\" href=\"__pv_it/079b1a752ad330f2960182c70043a49dad2e9bc80/expr.ipynb\"><img src=\"data:image/png;base64,iVBORw0KGgoAAAANSUhEUgAAAN8AAAAVBAMAAAA0pCbNAAAAMFBMVEX////u7u5mZmaYmJi6urqq\n",
       "qqp2dnbMzMwQEBBEREQyMjLc3NwiIiJUVFSIiIgAAAAeC3ydAAAAAXRSTlMAQObYZgAAApFJREFU\n",
       "SMfFlU1oE0EUx//pJt3GbTalXnqwpnjIQVT2IB7t3iqt2Jw8px48FNQePHjRBlSCekjAu40oCFJw\n",
       "vYkgqYJSJQVBKL1U9yZ+0TSu1TZttm929iNr0vG0OJCXN/t+M/+Zt29mgf/Z4mbEAscd+8NeXV0y\n",
       "mHc16h31zDh/W0DyDnPuR57DCjPyBpCgH1QzcsETzKgWIDXI6RuIXHCImWQdSP0iZ5x+g/OPxpeE\n",
       "Y2KH312ef+93p68DNeGAdiKZI5OmxGbK5GRpttcovVwTpvZArm/7YMvr9Y6UjIQt4kNE7wiZ2Tzk\n",
       "V6z3gHaqwTZtDXJ5zwk+IN1K/8TwOs+RYhs9myLeJXhLsKpZWz6fdU7FDVoBKHwS8tGFPSfIo9qU\n",
       "TMQ5ca13C/0tEc8J76QXyMx5tWIxI/1xVrIgSNJowUsOq7QWMr+FPCd4k6lesI12wdTOPwU/sZLZ\n",
       "p/HObBOTdSHPiUBQbniRmySUp/WohmiCsyiZ+Ia04W/3UkUo6BDSsTMX3JSqlhe5S9VqVS084zuM\n",
       "sWcs3b7DTMyesHWlgCvu89EKnuS5YIh1nIDYP6n1070mUdEk1z3Bc0C1vGIpD7lghomyfPsOM8pm\n",
       "qqQ/1/GFP0e1oNo6X2CIdYIB8fSrkxN684NzO96xO03brU2tPNa54FCTxt5ihV12nViJxnx/M3yb\n",
       "lnSPA0gsvrUHuCCL+ixz2omPOMXevB4qJ8N3nRRNdH6/AqI4w4ExsEPm8G1RrwVEEYfi7tXmNykf\n",
       "FtQ6xkvBBVc3HYDukGrT5aXOgvEJpY7iGHAxHPY/T8p0wxQLYjnnAOqGsqi7fHdBTsTLyGqIVcLh\n",
       "F6Ge2jne7ASO1Ka6R7sRqb+SrkT9QfwM7AIVvd6yuuhdagAAAABJRU5ErkJggg==\n",
       "\" style=\"display:inline;vertical-align:middle;\" /></a><br>"
      ],
      "text/plain": [
       "P_xIter1l_yIter1n: P(x_1 ,  ...  , x_l , y_1 ,  ...  , y_n)"
      ]
     },
     "execution_count": 28,
     "metadata": {},
     "output_type": "execute_result"
    }
   ],
   "source": [
    "P_xIter1l_yIter1n = Function(P, [xIter1l, yIter1n]) "
   ]
  },
  {
   "cell_type": "code",
   "execution_count": 29,
   "metadata": {},
   "outputs": [
    {
     "data": {
      "text/html": [
       "<strong id=\"iterQ1k\">iterQ1k:</strong> <a class=\"ProveItLink\" href=\"__pv_it/e160ad516b973623cb68b0036ccbd467290ca0dc0/expr.ipynb\"><img src=\"data:image/png;base64,iVBORw0KGgoAAAANSUhEUgAAAGMAAAATBAMAAAB2N65nAAAAMFBMVEX///+IiIh2dna6urrMzMzu\n",
       "7u4yMjJUVFSqqqrc3NxmZmYiIiIQEBBERESYmJgAAAD2nx2wAAAAAXRSTlMAQObYZgAAAXpJREFU\n",
       "KM+Fkz1MwlAUhQ9C+St/iasmzE6u6iCzSmTXpC5ORmB3kETj4gBxlEVHYwyuGpOy6IS0g4ODA4mr\n",
       "BhMVKxSe7684EB4dTt8ZvnvP7bsFgPdG7wITnsSLdVsZurcmwqQ1gWi0UB54LtTJAeUvNbK/DVo3\n",
       "I13tnkqyqySiLi0LciacyBTrKRGRyboWTneZJl0lYtaZkrpwyzySoezi55E0IrvUPj0wO34UMi/B\n",
       "mTTr+c1BByt7YxGd5DhYgs5YiwdkejwWibmeGow1WcAELaBAdD5p2wGW+CV9hHczxg9USIjg6Ekj\n",
       "RWDOP5vDupPVbsyiRFhfDZ54LkAO7Y0qK5s/MCo00zOsJgSisQTGtZR/1+6XYi678i7fmdO7nQ6m\n",
       "JGLRbd20IUR7ZIdfKpHLB3MLaQSaeZm18Holg/krI4MsiFdwsGjDZ68FJEIciSRGZ5e/RZDQrxpP\n",
       "rfrkBhAa46RwrkKipE+5Snxa2Opw9VMjhKyKiClXH3/Q+orgG8JyiQAAAABJRU5ErkJggg==\n",
       "\" style=\"display:inline;vertical-align:middle;\" /></a><br>"
      ],
      "text/plain": [
       "iterQ1k: Q_1,...,Q_k"
      ]
     },
     "execution_count": 29,
     "metadata": {},
     "output_type": "execute_result"
    }
   ],
   "source": [
    "iterQ1k = varIter(QQ, one, k)"
   ]
  },
  {
   "cell_type": "code",
   "execution_count": 30,
   "metadata": {},
   "outputs": [
    {
     "data": {
      "text/html": [
       "<strong id=\"iterQ1k_x\">iterQ1k_x:</strong> <a class=\"ProveItLink\" href=\"__pv_it/6a873854afb7c36b2ec1fe391173e2847f63d4610/expr.ipynb\"><img src=\"data:image/png;base64,iVBORw0KGgoAAAANSUhEUgAAAKUAAAAVBAMAAADVzzOcAAAAMFBMVEX///+IiIh2dna6urrMzMzu\n",
       "7u4yMjJUVFSqqqrc3NxmZmYiIiIQEBBERESYmJgAAAD2nx2wAAAAAXRSTlMAQObYZgAAAlpJREFU\n",
       "OMu1lU1oE0EUx/+bZJqkJptVFEHQJoIXT+3BgyC4Z7E09OCpkoAnEWmvRcQI4qWHpj2JHmzBiwdp\n",
       "wJMgJgo9iNo0B6EHD0sLRVEhYK3RFOObyczsR9yVHgzk7ZuP33/2vXkzC/yf39e33cdua0w+zdH9\n",
       "UBrbEvbLGlI9R40lZpT3KFLST7nYsE0muVsE5nfU4FBRe1GSAcqDlem/skom90t1HdTTzHyEZoDy\n",
       "YJuQAWS6qmtVD7JGuGSQ8mBTwIE97uT2ZE+87IIb4ZoByotlKzgv3r+kVhzmAS8evXfMAk6HawYo\n",
       "gaULs7eXgdgSVr6pOeMi1xQTy5svMjXgbkQ6FWW8gsIm8dl5Q2kpo/5dzOngwg3uZKgqYzDaKSqJ\n",
       "c+GamsJTKCyPEdyhNDTQFDvB7ZxIEQ0yJNe5PxGuqSkmxAVWxE1RqW3Ua7xsehWPJi1r/UNTU/Ea\n",
       "XOyl1LzVTl23Sz8gNTMVbh/atGpU7JqKLY29V1h6h0LksU90xtmz+ozSzFKyzeoIDNLc5kXKO4vK\n",
       "0S1NDX0881Nin4w2jhBdpgA20FyD0qRKwLzzAQvo11KJYmNd6bgtTeX6twJhqd/ZRtrqK9x/fm2X\n",
       "tlpq8vxcPjRZ4MfkCj8V9BbsHXfWpWHNKlzq4rYjMdY6dfIEL6v+fTa99URp4nXgbJ4dyGW8Cpc6\n",
       "nmjYfmxKjvY6WnNTD8bE5jsDmiY8VCtRs/xYQZ6KHsW0OL3sv7QuIVpTUFfRGvVhTJ78B+6dhbS+\n",
       "k2e5MQbryMIg5WLJ6l9Kb0E+DXtfHyCFHQb+AEB7zmm9V5VcAAAAAElFTkSuQmCC\n",
       "\" style=\"display:inline;vertical-align:middle;\" /></a><br>"
      ],
      "text/plain": [
       "iterQ1k_x: Q_1(x),...,Q_k(x)"
      ]
     },
     "execution_count": 30,
     "metadata": {},
     "output_type": "execute_result"
    }
   ],
   "source": [
    "iterQ1k_x = Iter(i, Function(Indexed(QQ, i), x), one, k)"
   ]
  },
  {
   "cell_type": "code",
   "execution_count": 31,
   "metadata": {},
   "outputs": [
    {
     "data": {
      "text/html": [
       "<strong id=\"iterQ1k_y\">iterQ1k_y:</strong> <a class=\"ProveItLink\" href=\"__pv_it/e26d04e13e851e01741cf17cc4a4bd85c7ea69a00/expr.ipynb\"><img src=\"data:image/png;base64,iVBORw0KGgoAAAANSUhEUgAAAKMAAAAVBAMAAADY0UPbAAAAMFBMVEX///+IiIh2dna6urrMzMzu\n",
       "7u4yMjJUVFSqqqrc3NxmZmYiIiIQEBBERESYmJgAAAD2nx2wAAAAAXRSTlMAQObYZgAAAtJJREFU\n",
       "OMu1lU1oE0EUx//JZvOxyaYJeioV47Ve4kXwA5qbopYuHrwYSUB6UWxzlR4aUXrxkOhFsAdjFUWK\n",
       "JHhThFSkolCbKII9qAQLnpRGbGtM045vZmc2Qs2CBwM78958/OZ9zQT4L79vCxsPuto+u4sm3TdF\n",
       "P9SeFLuqFrP7ZdF+XUSQNdScLyeFu+7EhQYKW139iOyNFDWBdQsorKo5v6UEV+TkKMiQlKOPKiFL\n",
       "X3memr62Goo7diRciEaHn8xKSvfElPQZ0ufIhhqaV4I+54K0fa5VlB5RviENhDtc6OuoMGedbUsu\n",
       "yKo4jzmn7ndmzDyGhMsZZaVB7p6cQWgNGOxN1ITLOnOsnCFtMIFbFrwllH/wIQ4eFkmhMCSG4GkC\n",
       "Uy6hZEkJHrAjPgZ4tSZ2UyCzqK7xoXILxyZEUJLw5Wdh1oHDvZFhZglwHmG7fJ8DR40KPtI5c6iJ\n",
       "ePD2qghqEjqeoY8yONIbGemoNmPnhVy1IjF8p7puosrjEaXzHCSCaxhJuSLDIvQrLeAQFBIFy7cq\n",
       "kJPN4IVU5ickMkJsI4sBuDoeYJh6pzO6aIPaLm7nS/ruwTMnHB9pDeuPqzmFNCk9/hLek/iF63y9\n",
       "rgRH87Er9dPT3I6xyxl+0z/Rdw4mYaJZ8nkJtUUoJNUAjJzGK5kXkc49zFSk4GhY2cxHOvyOtO07\n",
       "ydfex1DDBtx8en4dXoXU+PY3/b9IPMshNbIhTenXX0M2aT4Xmn1RzSIB3+KYQPKQnomXabHfLoHx\n",
       "5YcKiVfC1oq6kFpxWyAPyGdl62AdnvoJn0iBWLbXvpACyVoOkq79BNKUJK94CaLbcyPfQT+jMjFj\n",
       "xz3yjQlUdJ6kPfZsmZFr18dvy8ftEd6ScAruSINt0uqiuUM+buGESTdJl2/EdLu7IZTDpX4ej4tC\n",
       "jW0jetTCaumP0RsIxu/w8ir+peauyZ2pf/qzCcmzdwK/AeTp0Xte4TO0AAAAAElFTkSuQmCC\n",
       "\" style=\"display:inline;vertical-align:middle;\" /></a><br>"
      ],
      "text/plain": [
       "iterQ1k_y: Q_1(y),...,Q_k(y)"
      ]
     },
     "execution_count": 31,
     "metadata": {},
     "output_type": "execute_result"
    }
   ],
   "source": [
    "iterQ1k_y = Iter(i, Function(Indexed(QQ, i), y), one, k)"
   ]
  },
  {
   "cell_type": "code",
   "execution_count": 32,
   "metadata": {},
   "outputs": [
    {
     "data": {
      "text/html": [
       "<strong id=\"iterQ1k_xIter1l\">iterQ1k_xIter1l:</strong> <a class=\"ProveItLink\" href=\"__pv_it/7f6c989403921a3f57a5e2801c9fecc44b4e8bfe0/expr.ipynb\"><img src=\"data:image/png;base64,iVBORw0KGgoAAAANSUhEUgAAAUAAAAAVBAMAAADFiippAAAAMFBMVEX///+IiIh2dna6urrMzMzu\n",
       "7u4yMjJUVFSqqqrc3NxmZmYiIiIQEBBERESYmJgAAAD2nx2wAAAAAXRSTlMAQObYZgAAA2JJREFU\n",
       "SMfVVk1oE0EUftvsNt2aJit4ESnGgyKetgcLRcGAgiAtjRcLWkigKkixDd7EYoMHLz0YPSio0CpF\n",
       "8SANin8oNKgVBW3ag9CTRAvFg2JL7H91nXm7M5vdZqfM0YEZ5ue9731v3psfgP+g/Py4+sAdhQwp\n",
       "5WkpcGiSAo+atP0xDnVWiU8elvOuPiFc9oGrGTn0YVLDC0mAK7/53CnJ/U+LFv3gtUk58FpSR8ZI\n",
       "E1thU4ohSfCbaNEHDpslwaNxJwCRVTYVkfQROgVrfnAYkwTXCrBpjXZia2yqmdTj3Sebn4kV7z09\n",
       "2G3nU0M2WMwPHkp7VINKhf0pOID7n+JO3iUQz6H4ZLsw1CeykdWjc9itGQoW84PXxz2qQd5X2N8D\n",
       "I2WG1IYzPSSzS2AZJDjqRCDGRYjNxf5CxzwJo+CUcHDltZ3zJa7qmKt6smz7Wj/JtsswOo9IS3Dk\n",
       "Aq6+IXsCupX7Cur9fCBGHAaXowaEiESoEEyQg8NjO8FNruqYq1Yc+7CP9PdDEfFpO4Cr6HMUs6Yu\n",
       "L4jDr4ITXnU2WIiDa8gUYiZXdcwFHN41O7wA7TBKWUStrIdgeHFDgv0ZJ2Qighw8lK8giKpCgrb9\n",
       "HiTYP1t3NpFa5BrvCbF4ZA6UnIjgJSgasBViOXGIOXjNUNNnGuIsVxUQZPaXMcTtS23ai9EMJ/iF\n",
       "nLryYBlu2zuo0bkka9hIs1osUy9AK92gdMWC3eEjDl77fS8111DiqmguWVXVsa9Sz2dIAKagOO7u\n",
       "OQn84ERfWe+yCaYoSXpNYMNG+p9w0bxuQiO7ZrgY7bgjDh4bZlcSU6XmPJiuqmNfmbDp3HzVvUAO\n",
       "DiNIjo7ycmffadMm2Ekc1z6B03QSHa1I4rrtUcc74sIkzUOaV1yMSrhiHLx1Bj8MNBUdVSRIZVDY\n",
       "VV3m9hvoTdiFpHqnH3KCkZybC9SllnUpEnIl3ibYUxcshuCNagF/PR/c9QEvFCsuUOQQPnWIYS1x\n",
       "guR59hAsrb8D3Ct/lji5A7vBYgg+qeYN389iwAPFiwuUUkhO2O/JiEV291rvHe93S9+1YogJwrks\n",
       "aOkNCCL4GZg0vd8tNCckGN4NcMzu3lqpkLjhkVfWQ3gf6XBuAzEPuJ4RQFUBOl/lFtLlPoRb5P5P\n",
       "V6WklQT8A5SDSn4f+FcWAAAAAElFTkSuQmCC\n",
       "\" style=\"display:inline;vertical-align:middle;\" /></a><br>"
      ],
      "text/plain": [
       "iterQ1k_xIter1l: Q_1(x_1,...,x_l),...,Q_k(x_1,...,x_l)"
      ]
     },
     "execution_count": 32,
     "metadata": {},
     "output_type": "execute_result"
    }
   ],
   "source": [
    "iterQ1k_xIter1l = Iter(i, Function(Indexed(QQ, i), xIter1l), one, k)"
   ]
  },
  {
   "cell_type": "code",
   "execution_count": 33,
   "metadata": {},
   "outputs": [
    {
     "data": {
      "text/html": [
       "<strong id=\"iterQ1i_xIter1l\">iterQ1i_xIter1l:</strong> <a class=\"ProveItLink\" href=\"__pv_it/3c87d5f091fde7c4fe6595c80f38aa19292788340/expr.ipynb\"><img src=\"data:image/png;base64,iVBORw0KGgoAAAANSUhEUgAAATwAAAAVBAMAAAAp/09/AAAAMFBMVEX///+IiIh2dna6urrMzMzu\n",
       "7u4yMjJUVFSqqqrc3NxmZmYiIiIQEBBERESYmJgAAAD2nx2wAAAAAXRSTlMAQObYZgAAA1BJREFU\n",
       "SMfNVk1oE0EUfttkm25NkxW8FBHjQZGetpdCUTCgIIilFcSKFhKoeim2wZtYbPDQSw9GDwr+UBVR\n",
       "PEiL4B8KDWhFQZt460miBU+KDbH/1XXm7c5sJpudMjcXdnk78973vvczPwD//fPz49oj7y9kKhnP\n",
       "qYC3K0HHLPr9MQNNdokPHlSLrTkpnRbAwxk17PvkjSz2AFz+zcdOK+Y+LZsUwRt71KAbyTsxTT7x\n",
       "VTakmYr0vskmRfDNitCxhJv66BobiipGCH2SuRrwaUVoPQ+b1qkQX2dDHeQ9MXCq47nc8MGz/QNO\n",
       "J7Vkg9VE8FBaMAx6qrzPwj7MfIpn7x6BeAGFp9ulRT6Zja4dKaPYcCdYTQRvTgiGQZFXeW+DiQrD\n",
       "6cKRQdLPJbBNUpZwMRDjIsTL8b/Qu0AKKFkbHngb7fQSN3Sd1V1Njnd9hHTZKEwtIM4yHLqAs29I\n",
       "PsCwc18h/HAyECMB4ysxE0JEI5QPpsfBoZP2oMUNXWf1Htc77CHyXiggOv2O4SzGG8NuaZqU1OBX\n",
       "3i1seD5YyQPHHrS4oessYMGuO4UF6IYpyiFmZwV6kaUN6Y1k3HLJ6HngHj00lNJzvA8ivZH5prPJ\n",
       "1BK3eE9oJaJl0HIyepegYEIrxHPy4nLwdtrG0Sw3lNBj3lewuN3LXfrLqQyn94WstMp4BW452dPp\n",
       "GN0KUWB/ut1pW0YeDtPkpKFWjQsMXDeps5YSN0RnPlgUXO9hGvV3kvpZKMx4+SYlHy8OV4x+h16K\n",
       "UqQbAxX4n/EnUrCuWbCNbSyCmqfPwI3jk44mM6TO/LAouN61okPmxuuBRbJcGD2yYLRXO4fPWA69\n",
       "PhK2/okeDkX3oxdIRbc+6X1HAvhM+492lKDmCDRfHLyF7mN0nbuGSI8CebDMyPWOFv1IaWjuMacX\n",
       "zXldQCPr9DVHyNN4m2SHml+NjSB46igVP3izYyJQrRHhcQAPNUSwlzk9cgwL9Er+de9t8PMkxB0o\n",
       "+tXYCIKPNtTcHsYEIJ8RCUgj3eCcHRM2ye7VobvihcrYtWrK6cG5LOjpDegh+O1W8UKFzqT0IrsB\n",
       "jjnizdUqjeuCvuaHEA/jSK6+Gh+pAjcyEqA6MOfr7DuG2oVvi4ryFSVoLQn/AN03QzMW5buaAAAA\n",
       "AElFTkSuQmCC\n",
       "\" style=\"display:inline;vertical-align:middle;\" /></a><br>"
      ],
      "text/plain": [
       "iterQ1i_xIter1l: Q_1(x_1,...,x_l),...,Q_i(x_1,...,x_l)"
      ]
     },
     "execution_count": 33,
     "metadata": {},
     "output_type": "execute_result"
    }
   ],
   "source": [
    "iterQ1i_xIter1l = Iter(j, Function(Indexed(QQ, j), xIter1l), one, i)"
   ]
  },
  {
   "cell_type": "code",
   "execution_count": 34,
   "metadata": {},
   "outputs": [
    {
     "data": {
      "text/html": [
       "<strong id=\"iterQjk_xIter1l\">iterQjk_xIter1l:</strong> <a class=\"ProveItLink\" href=\"__pv_it/fe4a4f4f9ad7ac1685d0b4e8e132b7fe138a5c230/expr.ipynb\"><img src=\"data:image/png;base64,iVBORw0KGgoAAAANSUhEUgAAAT8AAAAWBAMAAABEXIbSAAAAMFBMVEX///+IiIh2dna6urrMzMzu\n",
       "7u4yMjJUVFSqqqrc3NxmZmYiIiIQEBBERESYmJgAAAD2nx2wAAAAAXRSTlMAQObYZgAAA6VJREFU\n",
       "SMfVVktoU0EUvWnymqbNT3QjWqwLP3QVN0JVMKArbWncWLCFBKpuim1xJxYbVLpx0ehC0AqtIIqI\n",
       "NCj+hXRhC0LtS8FFFy6iBVdKW2JrP2nHO/fNJC+pb8LLQvBBhjuTe889M+fOB+A/+H5Orj0u9A7Y\n",
       "ivWHyvz/RX+bqBQcZqn9MQU1LCPHXL32MB6o+U1mYHADKgWvDWPjXooADP6SY9URexjVyn/7zwHO\n",
       "PlwpOMTwNzqOTWBVDm2xCeFvUK1AjjNiI5WCwzcQ6nrX5NC4TQhtTPGnoa6erBQcOgDqctwI5MSI\n",
       "ExdVe/jyWJe6Ws50nT34yjBnFG4pYs/GTODmUKs5F/L74nCUxI3KFaxFxdrj3rVTC0qI16C/2BUk\n",
       "u9HazUniaixpAjeHWnym/FUjMJrlBtF8zssYBb8CgYUAitNiCeHOAAuyjNaPJTagKEEWEjR3UqVy\n",
       "cBEKrrRlmMjftogFGIPUIh8bXcaGihEhG2B4xR+EE5ctIarAwxJfAQ6jfcSaYB2LEM041NFxycFF\n",
       "qOtR0jJM5Heih3MMdCoQXZZJgJDmqHtDtXlzUt5WaydvTrbRSAHcCK1JKtApP8oLrnlIcUc/TtJM\n",
       "sL+3HEH3b952qwnWUWXPLRtLLcGNUCVBys8LAgn2z9dcCEcxxtNIEiPTq6AHYbuKYE2DdwEcCVhR\n",
       "S+xmMPBZY5it0VkfMcBlqIKgyB9IkMStyy3amxRiVNEh4MvgrmtiIc+YQZBLo4Ew8r1odjgL98DF\n",
       "lfgOpW5k8MbFrqfbh/iCdV+LJghchhJB7a+hMn8zlzaG6s6APoX2napeQ3jPulsP3Q4RQY2LFE0K\n",
       "I98bTvdlPZ3gSIs6LHbjhtHMrce9OS7MalgcGjKUCBZF5A2Zv15E3H3ftYR7y5gfbZ0dz9omOo0a\n",
       "1HSceAfy0D6BaDpQV8e7PX3nQ+Djxxn3LHbjBrmB58lEKoa70jXVDQJchBJB7pOPyIPL/NO8Do3H\n",
       "Us/sU17C9Cz6WKgFLrEzsalEmgq79Li86qzdqjcOpXGpm10l4FSDTQpw+BCmq44IMn4MNsvr2UzQ\n",
       "v7mG8y8ziDpQBLoUrN2qGZ4QvuBJRwk4EcwowLV5RN5t2KOMi1Jf8iK61XO/DEH3foDToCZYy9YR\n",
       "NOHbWgzu2bsaVBOEi3HQYoY5RPfxtBFZ/ErYfGk6iruXyrh5UiOFwRJwRzlwt6lyfE3iLXTT1nvI\n",
       "Ebblbg8ctpls3z57qf7V9wdSr0lIaPBoQgAAAABJRU5ErkJggg==\n",
       "\" style=\"display:inline;vertical-align:middle;\" /></a><br>"
      ],
      "text/plain": [
       "iterQjk_xIter1l: Q_j(x_1,...,x_l),...,Q_k(x_1,...,x_l)"
      ]
     },
     "execution_count": 34,
     "metadata": {},
     "output_type": "execute_result"
    }
   ],
   "source": [
    "iterQjk_xIter1l = Iter(i, Function(Indexed(QQ, i), xIter1l), j, k)"
   ]
  },
  {
   "cell_type": "code",
   "execution_count": 35,
   "metadata": {},
   "outputs": [
    {
     "data": {
      "text/html": [
       "<strong id=\"iterQ1k_yIter1l\">iterQ1k_yIter1l:</strong> <a class=\"ProveItLink\" href=\"__pv_it/230bcd246c4e82de116fc6b2cd5fff0164e37be10/expr.ipynb\"><img src=\"data:image/png;base64,iVBORw0KGgoAAAANSUhEUgAAAToAAAAVBAMAAAAk4T84AAAAMFBMVEX///+IiIh2dna6urrMzMzu\n",
       "7u4yMjJUVFSqqqrc3NxmZmYiIiIQEBBERESYmJgAAAD2nx2wAAAAAXRSTlMAQObYZgAAA1hJREFU\n",
       "SMfNlktoE0Ecxr9NdtO8mi54tTQXi/RiDiJUhUYQBG1pTnqwkIJ4UpPiTTy0UOmlhy5eBHtoFEGk\n",
       "SII3bSUBHwjWJIKHHkQDgiel6SsmadpxZvaRpMmu2fZiILOzM9/+9pv5/3dmgP/993tl51n9zinb\n",
       "eDQQ+kf/19wr5VDsX1m4ScFovGBrZE+sX7BSwNweDsHuKkWAuS2j7botgsuyd5LC3CR8CHbyHS16\n",
       "qnqTINsiBIIWnd4aHThI4uBsNaj+Hb3JH7FFkDIWnWpQc6mDs301Vump6U2n6L8/CyxZPlhXrFqo\n",
       "0tw6ydhiO24W4Etp7CEe06gxd49pfyKnuIkloa4YMFc5eUwlkrLFHvBXMFfU2MlNdmUeR3hLDBjz\n",
       "EMW7CzFvSlAV0iSN1IxF2pGQ5vFosGO2lFmoIJm/sg3GTrMLkmVcvMt73wDnHCX41sWnKdP3qgqc\n",
       "odWz5u58JMI9TsEX6pgtyifGkZadKc7O8axg5SzvZVPpX0d0C25zd5qCRXXUQlTTy2jEBjsnSyTs\n",
       "SHB2mukCdHwN7kYrGCpaElRFzNqdjyfzWhl8kjtli0RxErgKnD1ZdN8KR/9Ad/eBATOg02vlTlVU\n",
       "rCPbRTDzRSITNL2dvZFO2YEaaPR7FM4eLY9IL9MThrtvjDCOeFAlMKiExgovuEJkSfET+1XGnUju\n",
       "5a/Os4HHpqNKC7tOa3o8UIJrA8Pg7ABZRS4Lwx3LpYWMQD83TmDBiTZW1IIrhLymb1bVpWu7U/4a\n",
       "C1E13IZt0Jof99TQt4leTf9w+UYJDsMdSxH38mv6uXF3OTrmMepC+gS1grGKruhmG9M17FepUqby\n",
       "LL5PjyMIMRtrw+aSJjbnYPbj9218hsYG4j+eG+78VHASdElSI+tUWhJjEJrCf17fyUxUbCffO52H\n",
       "kB8W27AHW9dvKnCG6XKHt2Fjl4yTsuGOb72gK6JKCLSmbQGaIirQtZ9v7O1V3B2hy0G3fElowy60\n",
       "fhFscy7SBVsqyjobSUKn9X78kXbKETY8yyF4+quy2XtVRddx4DKs3XkJnSmX0n2kDbu9u77gPF21\n",
       "b0/pbMxXGxQPgMWlY/pd65mHz4KhuGOlYqmXTpixhdYhMY536UWkkd3889g5hAlhW2ciu+y/c+1n\n",
       "6K0UWV0AAAAASUVORK5CYII=\n",
       "\" style=\"display:inline;vertical-align:middle;\" /></a><br>"
      ],
      "text/plain": [
       "iterQ1k_yIter1l: Q_1(y_1,...,y_l),...,Q_k(y_1,...,y_l)"
      ]
     },
     "execution_count": 35,
     "metadata": {},
     "output_type": "execute_result"
    }
   ],
   "source": [
    "iterQ1k_yIter1l = Iter(i, Function(Indexed(QQ, i), yIter1l), one, k)"
   ]
  },
  {
   "cell_type": "code",
   "execution_count": 36,
   "metadata": {},
   "outputs": [
    {
     "data": {
      "text/html": [
       "<strong id=\"iterQ1k_zIter1l\">iterQ1k_zIter1l:</strong> <a class=\"ProveItLink\" href=\"__pv_it/3a2c375cf52938eac133590e972410415e2dc9bd0/expr.ipynb\"><img src=\"data:image/png;base64,iVBORw0KGgoAAAANSUhEUgAAATcAAAAVBAMAAADRH7SIAAAAMFBMVEX///+IiIh2dna6urrMzMzu\n",
       "7u4yMjJUVFSqqqrc3NxmZmYiIiIQEBBERESYmJgAAAD2nx2wAAAAAXRSTlMAQObYZgAAA01JREFU\n",
       "SMfNlk1oE0EUx1+abJJNNmlEjxbqxUNP9SJoC+5N0JbmpAcLCUpPYlsED+qhC0ovCl09KLQIUQTR\n",
       "IqkHDxYhBVuxELsRPFSQGlrwYr+gto1p2nHebPaLdKfOzUCGN7Nvf/t/8958APznv5Xizkund0Lg\n",
       "zWT7Ac+/G5O60w2mBNhLrF2egygpW2OhQZG4nvO1Fcswsuf0z4qgYyptIltpgJHf1lg4LUIIc58O\n",
       "9QGNW7X7fUIJzdJ/foY2zVVr6JAQINnKi72GgZKc1Q+khNiLUM+osmMNzQgBpCnOQzOjxoTVV4SS\n",
       "Ar0A8RoazTWrZnEy5R/fJL7IJ7t6L/vUPMepwJQTW/9JMXRCgzMsoRlr5mKYJ4WQcX4KDFJ9w4w2\n",
       "f58gS6hE7Jl7JoZuykF+Aw2U2M0qHJO8sro6Sddtyb/UFlZ/5eDiJsAwp+RIe13iUbMy+8XQ0SwU\n",
       "NnEoX4Fzt1ldmDtXJAehFxO8AG/R71KHTn+POEkziRrETegHMXRwCgxWEtjeY8XHOPJl2kR5hEet\n",
       "bN6hx99FqVltxlwJG2Lo0DoU0C9Jw3OL6ywfQAjO1UuAIy7O6nitAtABjrh/R1NxQ+vRa2pmG+ri\n",
       "FA3fnQbQuIT7KkShWeemNUJg+KtE6InTFmzBufskhqZp7al0S+8Kg5a4BAa2rEMsxwgsH9hIHiM5\n",
       "C/AKuqj1s8HB7oXI3dKlMQy7/04GT9gFD1ra/00HnczSjM6DgTNpisNkR2vF4k4aCRJmhjWZCZcB\n",
       "I8Wi8RZa6luJ18HxWtvVlBoGW1WtbcdBe4nOmw4apYy+v7oFTZY4XCaKNkpusMKQDBqx9Bm365Jl\n",
       "/MEEyfntNHyh1hWEopft4HjJ4x8LWWiF0Fw/E9fhRjMXL5pxHHTYXOMDS68tcTBrJx8JQb2hJk7Z\n",
       "1rRaP778vcJ7p0sQKHWFWD3rbrQLZK8F3YXG44uJIxVb3KJHXLKxYO3LlbSegia22/t7hQndBxKp\n",
       "8wHvLYGJKzduwG40HDPtPKEz+3DgqefKJB+vprji4LoGF4AvLkZ2KVJPHPZcmRiaJw7RUtY0x6qO\n",
       "g+y5bDYegwFP7+YBXnIh5xp97A9q5ET0ffaZBwK3moAqdAmSRS50RwD+Ap5tQr0UAlXKAAAAAElF\n",
       "TkSuQmCC\n",
       "\" style=\"display:inline;vertical-align:middle;\" /></a><br>"
      ],
      "text/plain": [
       "iterQ1k_zIter1l: Q_1(z_1,...,z_l),...,Q_k(z_1,...,z_l)"
      ]
     },
     "execution_count": 36,
     "metadata": {},
     "output_type": "execute_result"
    }
   ],
   "source": [
    "iterQ1k_zIter1l = Iter(i, Function(Indexed(QQ, i), zIter1l), one, k)"
   ]
  },
  {
   "cell_type": "code",
   "execution_count": 37,
   "metadata": {},
   "outputs": [
    {
     "data": {
      "text/html": [
       "<strong id=\"iterQ1k_xIter1l_y\">iterQ1k_xIter1l_y:</strong> <a class=\"ProveItLink\" href=\"__pv_it/19c48268fb81bb0aa69e89805d81fba7d0e85bee0/expr.ipynb\"><img src=\"data:image/png;base64,iVBORw0KGgoAAAANSUhEUgAAAWgAAAAVBAMAAACZAGlNAAAAMFBMVEX///+IiIh2dna6urrMzMzu\n",
       "7u4yMjJUVFSqqqrc3NxmZmYiIiIQEBBERESYmJgAAAD2nx2wAAAAAXRSTlMAQObYZgAAA/JJREFU\n",
       "SMfVVk1oE0EUfptkk6bmZwte/CmNB0XqJT1YEIUGFBRpafRgQSMNVAUttsGbtNjowUsPjR4UVGit\n",
       "pUVEEhT/UGj8qSho0whiL0pUKB4UU2L/tfHNzO6su81u6d4c2Elm5r3v+3bee7MD8J+2H28Wbqoj\n",
       "u2QR5uuKaKDGIo0vSPrvo1BWzPHJ3VbfvTxkuqyjccSs8gzg45oOA/T84nNHLUcsaraop3GGrdI4\n",
       "8UmOYOefV6YEybLoL2aLOhqosEzjC8gh8ywoUx7LOwARkzU9DYxYphHTsOo3+eP/rUzV4nOw9Ujt\n",
       "A3PHwfs7W/VZ6Y0bO+hp7FEDEG0rqWQc6mjEmvkW9CPYQ8jcqzJNk0Nxz8K+Sf4K1QHoDYOtz9hB\n",
       "T1Me0IOU3Butkv394J4CqIZkQcFsoAttWDM5KEoYTseYIdoZ8E/6F6Fpio5s9jxUYQqYVCKnEZ6x\n",
       "aspxEJm4ZPUyJWIXy9lAHQh5gPMwTHmTs7C3gy48Rw3gLiY+g2MoZYiGOzvnk8DOLPaUp+Ajhjxt\n",
       "LJrTwF1WOkEOIhOXarIS2M5Oyfgt8OJG7oAMZSJ9N12hO+KjuVeWMoncT+InJ0TYIwGG2ZE3Nuc0\n",
       "IguOP8hBZGKDo4IqqWbJAk/Bj7nSCMNEma8Y14h2zSwruismB5m0nrDjl7loTiMHh4mmIKaimZI2\n",
       "+QiagsYQEd2VLzsZap7hvq9wLeCZBCFhJvocZCRYA/4EGw6CkDZPD05j66t5T9IjzkFMRCtK5uTq\n",
       "jcJ6IOnRONsgPhqOcdGfsMYLvQW4xnZapOFXOmUkFrcVg+401MtTJ8CLCL7oPybsDx9xGue3rUSC\n",
       "N8dBKHG4pKusxJFm884++IA/ExiycciMqlHC9Okd6yy4W5joZiKcHFS0U0buP65M8FIQKtkUDEFd\n",
       "Ts5w7kAX+IjT+AdYifVxEEKsQVddZSXCGJsvj9kXmcQrT1qnsUwV0ViowuONnceCTHQEt0V8C3IX\n",
       "wdoVM5gT6+40vcTXyjIDOFyRxEknyVPuQGxVB05TP0HrgKS2DEJFExtqrLrOcSVeiRmI2bWErYUK\n",
       "bf96m4v2JNSMIi+8bUmi2VWLFyHFYAv/jBs7UJpKR5reBl+r691aUKWpQJ5dioEtRT/jFK04y0Xj\n",
       "dUQjOrf0FFI/WHmJGrhSItYvbKCTxg6UJutISbrbVbcGlDcVqFlgBh0Qwfq1sS9ksojxuNh+XXs1\n",
       "dW+al8xFw6k4NVgV8OKritFlRFOa45ANaq+mlNhUtGszM7gD77A/wCavzv9je1njKSwFk5YYlFXc\n",
       "INCJZRw0NO6YCWgJIGJwdi1539Mlzka31Qv16pWZX7BII4TgL36Cc7uUi+6LAAAAAElFTkSuQmCC\n",
       "\" style=\"display:inline;vertical-align:middle;\" /></a><br>"
      ],
      "text/plain": [
       "iterQ1k_xIter1l_y: Q_1(x_1 ,  ...  , x_l , y),...,Q_k(x_1 ,  ...  , x_l , y)"
      ]
     },
     "execution_count": 37,
     "metadata": {},
     "output_type": "execute_result"
    }
   ],
   "source": [
    "iterQ1k_xIter1l_y = Iter(i, Function(Indexed(QQ, i), [xIter1l, y]), one, k)"
   ]
  },
  {
   "cell_type": "code",
   "execution_count": 38,
   "metadata": {},
   "outputs": [
    {
     "data": {
      "text/html": [
       "<strong id=\"iterR1m\">iterR1m:</strong> <a class=\"ProveItLink\" href=\"__pv_it/e6754df57d2b4a84f1cc31abf94284b7ee1bb29a0/expr.ipynb\"><img src=\"data:image/png;base64,iVBORw0KGgoAAAANSUhEUgAAAGoAAAATCAMAAABP0misAAAAM1BMVEX////f399mZmYiIiJUVFTc\n",
       "3Ny6urqIiIjMzMx2dnaqqqru7u4yMjKYmJgQEBBEREQAAACr9lA+AAAAAXRSTlMAQObYZgAAASdJ\n",
       "REFUOMutVdmSwyAM84Y7HPb/f22BQrILLTBh/WLCMBKWHAMQA6lEQA9bsYDkiCyAPQPhHtccicjl\n",
       "bIjOPaoZkiYy9YDaYpoiqXqFWL7copoiYRYYQBDx7b4YIxGxlKKXBnatGiNFgYNzjAht2cDnVv1F\n",
       "asO/BY4p/wz64OwhVYPUBy8Cl+pj/U+pOqQ2AoWU7D5Vh9RE7Zbz6pqnVC2SP5RUhoNSqKvAvvx1\n",
       "sW28valub+3CokP68TJ9s0jreRVYl4MHaHZXZS8ZrtVg0SMJq9KUSnvmyA7mSHczjBDFL6pAouAF\n",
       "/L6ohz4g8TicdLLPfRutl1dSLDg0OBRiQQqTiSAnVEvPlx+0Cbwr8wgfp4cwjg71H1Qyicx0Gj9m\n",
       "os/Sg7L66rwAoH8R/HIFrLcAAAAASUVORK5CYII=\n",
       "\" style=\"display:inline;vertical-align:middle;\" /></a><br>"
      ],
      "text/plain": [
       "iterR1m: R_1,...,R_m"
      ]
     },
     "execution_count": 38,
     "metadata": {},
     "output_type": "execute_result"
    }
   ],
   "source": [
    "iterR1m = varIter(RR, one, m)"
   ]
  },
  {
   "cell_type": "code",
   "execution_count": 39,
   "metadata": {},
   "outputs": [
    {
     "data": {
      "text/html": [
       "<strong id=\"R_xIter1l\">R_xIter1l:</strong> <a class=\"ProveItLink\" href=\"__pv_it/efd98c7d9d13448e19fb1469e3ab3227b85ac5dd0/expr.ipynb\"><img src=\"data:image/png;base64,iVBORw0KGgoAAAANSUhEUgAAAHsAAAAVBAMAAACUF4xmAAAAMFBMVEX///92dnaYmJjc3NxmZmYi\n",
       "IiKqqqq6urrMzMwQEBDu7u4yMjJERERUVFSIiIgAAAArjcN0AAAAAXRSTlMAQObYZgAAAeFJREFU\n",
       "OMutU89LG0EU/pqVZLPm18FTCxJPvdnFm5SSehYxHurBYkn/AheCp1xyEw+SnGyhpfGQHnKIihAs\n",
       "FkLozYum3gJVB2qhByVBK7HFZH1vNiRZglsWHJi339s338z3Zt4DHm74hKvlT6W9MI9/lCVac3fa\n",
       "UFp+boHCNoM9l2olSW0DwSaBkHBJH2MTugGGacK/4ZJeYBPIApkqgRTNfOlLatGRo02/XilVJQwk\n",
       "yISr8L5hb4pi88gt1B2T+JzwX2+2JXz0kkzm5OyT9HboDqIwhRmFWrmXfoRwO3yJ4j/Ay3dX38CS\n",
       "fIJ3tB8UUx+HOhO/lx5B7Moj4KMVPkob+1I/Db59eP6y9cYd5D/LdoSrDQItINajB1v/pZ/y6uGo\n",
       "RVcvab8I/14nWsTfRkh3or9FTuAnwrolnp99VmgU+AZsNWNNTFqn8y9wKXQBG81MmoaSxSonSlcX\n",
       "IAV1MUHeCGVRqTWVXYu+xVtcow+wUW6DOeO5gXMr//xhS2CozE+9TFJePa59NSx64YoIH7m4Kh2g\n",
       "5Ujxr7niBzrggPM3+rPy610oc08OdnRvxft0p2i7wxOx06MDdE+vdBukd9Qe7Tas8uSPcKbjewLa\n",
       "tj36wuaFBh/N3gxB3R5V3DX8b+AOIvyHUh9x2kUAAAAASUVORK5CYII=\n",
       "\" style=\"display:inline;vertical-align:middle;\" /></a><br>"
      ],
      "text/plain": [
       "R_xIter1l: R(x_1,...,x_l)"
      ]
     },
     "execution_count": 39,
     "metadata": {},
     "output_type": "execute_result"
    }
   ],
   "source": [
    "R_xIter1l = Function(R, xIter1l) "
   ]
  },
  {
   "cell_type": "code",
   "execution_count": 40,
   "metadata": {},
   "outputs": [
    {
     "data": {
      "text/html": [
       "<strong id=\"R_zIter1l\">R_zIter1l:</strong> <a class=\"ProveItLink\" href=\"__pv_it/37ef50bf22913c40361b927f3d71b65b95ee795f0/expr.ipynb\"><img src=\"data:image/png;base64,iVBORw0KGgoAAAANSUhEUgAAAHYAAAAVBAMAAABh6QfWAAAAMFBMVEX///92dnaYmJjc3NxmZmYi\n",
       "IiKqqqq6urrMzMwQEBDu7u4yMjJERERUVFSIiIgAAAArjcN0AAAAAXRSTlMAQObYZgAAAbpJREFU\n",
       "OMtjYKASqCNBLVMBiHz7/+6dfSAGxwVSLPIAk38YGFZuANLcC0jRyw227h8DA+93IOMdSR5kEgAS\n",
       "fD+AhgAxwyyS9HJNABI8QKIf6FV2kLtt/hisxOt05vOHuSCWHANi/gsMbHFAmgXkiPn/v8ThtY7z\n",
       "/3/XB2CWCBD333syD+x5BaAnDimpOjAw9ODWq6OkFMLAdR/otmwg7/0ChvwGkIngGGO4wsDQchWf\n",
       "zbxAw0uBdCUQnwQ7G0iA9VqDXJ6Kz8MbYe4F4r8MDPZwveyTGAjorQR6jWETRC/HJwYGfZBlnAlA\n",
       "IrOBgQ2vXrYZDAwJDJ8hbgZFr/8DLmBcgcJqMgODC0QvKKa4GJAZYELTgIHFgQMUt9pALR+AwfXA\n",
       "iIGBERgG+TNnzo8C6+X6CpReH4DEABNsP2fO/LqA7wDYz0vO/33AwLIPGGXsQKlpzP5/F0D0zjcA\n",
       "JnOgGq45DBAGw8rPII+Z/L/FwAOK4e3IXpkMZ4HczG6A4ddieALpgKZJOFBE0cuEGU4KMMZ6PqAX\n",
       "H6DkKlhCNtzvh18vrxgDw2rUWEfJ+w8wtPKh8C6jStqRkAX5GhgAQFVwdHMMBw0AAAAASUVORK5C\n",
       "YII=\n",
       "\" style=\"display:inline;vertical-align:middle;\" /></a><br>"
      ],
      "text/plain": [
       "R_zIter1l: R(z_1,...,z_l)"
      ]
     },
     "execution_count": 40,
     "metadata": {},
     "output_type": "execute_result"
    }
   ],
   "source": [
    "R_zIter1l = Function(R, zIter1l) "
   ]
  },
  {
   "cell_type": "code",
   "execution_count": 41,
   "metadata": {},
   "outputs": [
    {
     "data": {
      "text/html": [
       "<strong id=\"iterR1m_xIter1l_yIter1n\">iterR1m_xIter1l_yIter1n:</strong> <a class=\"ProveItLink\" href=\"__pv_it/b8b102de4c7f4767c710669622f03daea86a343e0/expr.ipynb\"><img src=\"data:image/png;base64,iVBORw0KGgoAAAANSUhEUgAAAg8AAAAVCAMAAAD2Kf1EAAAAM1BMVEX////f399mZmYiIiJUVFTc\n",
       "3Ny6urqIiIjMzMx2dnaqqqru7u4yMjKYmJgQEBBEREQAAACr9lA+AAAAAXRSTlMAQObYZgAAA4tJ\n",
       "REFUaN7tmdmSrCAMhjkim2x5/6c9yOKw6djYfdHUWDU1juBP8k1MIiL0d/wd1WEhHsbq3jhl3+6h\n",
       "pp+jMwuknJECkAjJzYBtJ/L1+0N+4Q9uvqQzD6SMEYDyvwXA1uKQE+RA9eDeSzoTQToYcQCRPG7S\n",
       "HmMThAPSYvjWSzozQToYsRT4LjM2ldbMkB6QNMO3XtKZCdLByPoCiRABaMogjVlELgorThV+Uigv\n",
       "RYQyvmHDeHyBcw27PWgoT+nMBSkxAvAjrmFqs+oSLkns5hrAksF4arwUEYsbIs4KgHFPzzXc0HD7\n",
       "cE5nLkiRkSuQRikMYGPW41kfrcJL1qo9GeZ+dD3l9lGKyBVkkazcA+jMXHwXP6RfaRTHNtpRNnR6\n",
       "ndgckCIjHQqkTl4sa5ZITCiZIiRMgjRrptyPzEIE0VyDM9ev7fZgh2JQv9CoU/poA1HR6bcPc0CK\n",
       "jNZYIGNidHGSrZO1UBp+mG54GK85S+FmN1AC8Af6uUb1mA8a3NDplZQ5IEVGJqwuf4uHNeunhl3N\n",
       "RJSuE7PLYjRUtUH9QuM98dDQuY6Hb4YUGKW+eTv653wdE3rOTcSwQowMm1KJAOk8FCGXjbqaaeiF\n",
       "USbWp/WippNkGbN8NkiBUaqMwu+7aFmuEzbt3dNBiX/9JqYImaPZaU+aS5UIN+Us7Z1UoYs/THhl\n",
       "gVxDarq7hdM/TatXdGTePuR0/kVZh1Cvb4DUGPFuSB0vTyEFRmssJM7zBXFcxV2oX8T1oqtxVhJF\n",
       "c1dlSqLtSXupEmG2nE/2sGVxz2c71b1YINcgkqn88Up1+JbOz1hNJ8nyorIPQ2qNeDOkjpfnkHY3\n",
       "4se7PXgEBmtJFQ+xv2UYC7m6Fy9alBRpopY0FpUn+aU4qRSxrBjcNQ1Omz+Hqy8tUGisLK8SyfBW\n",
       "sCN9TOrQ2WX9U6u255ByIz4CqbPAOSR1sv1a1CVDLqdQcqNidScZzotBuv+ZXop/THhpgVzDuPNl\n",
       "QbTerx63GCXZ/aklgOhckE739It46H8JOqboWx1Mb18EEMsH/XZZ2CkpTHhlgVyDgHeXBp6CIfTU\n",
       "4phs41OlLRJzQRL9TVUiFCzZUOdTbjZlnO4qtnyQuf6G4LCzk5vwygK5BrV+IzmMSIXeFA9edm/A\n",
       "uBVkKkjy5g4uufo4c2ufnt0aXPBeOZ8t0NdwWMkbLZ4U0kru+vr1H/cZ//gSXw/JM/oP3jhEpvAl\n",
       "B1MAAAAASUVORK5CYII=\n",
       "\" style=\"display:inline;vertical-align:middle;\" /></a><br>"
      ],
      "text/plain": [
       "iterR1m_xIter1l_yIter1n: R_1(x_1 ,  ...  , x_l , y_1 ,  ...  , y_n),...,R_m(x_1 ,  ...  , x_l , y_1 ,  ...  , y_n)"
      ]
     },
     "execution_count": 41,
     "metadata": {},
     "output_type": "execute_result"
    }
   ],
   "source": [
    "iterR1m_xIter1l_yIter1n = Iter(i, Function(Indexed(RR, i), [xIter1l, yIter1n]), one, m)"
   ]
  },
  {
   "cell_type": "code",
   "execution_count": 42,
   "metadata": {},
   "outputs": [
    {
     "name": "stdout",
     "output_type": "stream",
     "text": [
      "Common expressions may be imported from autogenerated _common_.py\n"
     ]
    }
   ],
   "source": [
    "%end common"
   ]
  },
  {
   "cell_type": "code",
   "execution_count": null,
   "metadata": {},
   "outputs": [],
   "source": []
  }
 ],
 "metadata": {
  "kernelspec": {
   "display_name": "Python 3",
   "language": "python",
   "name": "python3"
  }
 },
 "nbformat": 4,
 "nbformat_minor": 0
}
