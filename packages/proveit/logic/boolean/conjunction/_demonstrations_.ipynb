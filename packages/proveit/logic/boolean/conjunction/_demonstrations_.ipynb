{
 "cells": [
  {
   "cell_type": "markdown",
   "metadata": {
    "collapsed": true
   },
   "source": [
    "Demonstrations for context <a class=\"ProveItLink\" href=\"_context_.ipynb\">proveit.logic.boolean.conjunction</a>\n",
    "========"
   ]
  },
  {
   "cell_type": "code",
   "execution_count": 1,
   "metadata": {},
   "outputs": [],
   "source": [
    "from proveit.logic import And, Or, Not, TRUE, FALSE\n",
    "%begin demonstrations"
   ]
  },
  {
   "cell_type": "code",
   "execution_count": 2,
   "metadata": {},
   "outputs": [],
   "source": [
    "from proveit._common_ import a, b, c, d, e, f"
   ]
  },
  {
   "cell_type": "code",
   "execution_count": 3,
   "metadata": {},
   "outputs": [
    {
     "data": {
      "text/html": [
       "<strong id=\"expr\">expr:</strong> <a class=\"ProveItLink\" href=\"__pv_it/4c8026c62c14799e3587064b73dc4b83953e8c580/expr.ipynb\"><img src=\"__pv_it/4c8026c62c14799e3587064b73dc4b83953e8c580/expr.png\" style=\"display:inline;vertical-align:middle;\" /></a><br>"
      ],
      "text/plain": [
       "expr: a and b and c and d and e and f"
      ]
     },
     "execution_count": 3,
     "metadata": {},
     "output_type": "execute_result"
    }
   ],
   "source": [
    "expr = And(a, b, c, d, e, f)"
   ]
  },
  {
   "cell_type": "code",
   "execution_count": 4,
   "metadata": {},
   "outputs": [
    {
     "data": {
      "text/html": [
       "<a class=\"ProveItLink\" href=\"__pv_it/baa12e4b0b47a3f1a4360b0cd630f213a8327a6a0/expr.ipynb\"><img src=\"__pv_it/baa12e4b0b47a3f1a4360b0cd630f213a8327a6a0/expr.png\" style=\"display:inline;vertical-align:middle;\" /></a>"
      ],
      "text/plain": [
       "a and b \\\\  and c and d and e and f"
      ]
     },
     "execution_count": 4,
     "metadata": {},
     "output_type": "execute_result"
    }
   ],
   "source": [
    "expr.copy().withWrappingAt(3)"
   ]
  },
  {
   "cell_type": "code",
   "execution_count": 5,
   "metadata": {},
   "outputs": [
    {
     "data": {
      "text/html": [
       "<strong id=\"new_expr\">new_expr:</strong> <a class=\"ProveItLink\" href=\"__pv_it/baa12e4b0b47a3f1a4360b0cd630f213a8327a6a0/expr.ipynb\"><img src=\"__pv_it/baa12e4b0b47a3f1a4360b0cd630f213a8327a6a0/expr.png\" style=\"display:inline;vertical-align:middle;\" /></a><br>"
      ],
      "text/plain": [
       "new_expr: a and b \\\\  and c and d and e and f"
      ]
     },
     "execution_count": 5,
     "metadata": {},
     "output_type": "execute_result"
    }
   ],
   "source": [
    "new_expr = expr.copy().withWrappingAt(3)"
   ]
  },
  {
   "cell_type": "code",
   "execution_count": 6,
   "metadata": {},
   "outputs": [
    {
     "data": {
      "text/html": [
       "<a class=\"ProveItLink\" href=\"__pv_it/4c8026c62c14799e3587064b73dc4b83953e8c580/expr.ipynb\"><img src=\"__pv_it/4c8026c62c14799e3587064b73dc4b83953e8c580/expr.png\" style=\"display:inline;vertical-align:middle;\" /></a>"
      ],
      "text/plain": [
       "a and b and c and d and e and f"
      ]
     },
     "execution_count": 6,
     "metadata": {},
     "output_type": "execute_result"
    }
   ],
   "source": [
    "expr"
   ]
  },
  {
   "cell_type": "code",
   "execution_count": 7,
   "metadata": {},
   "outputs": [
    {
     "data": {
      "text/html": [
       "<a class=\"ProveItLink\" href=\"__pv_it/baa12e4b0b47a3f1a4360b0cd630f213a8327a6a0/expr.ipynb\"><img src=\"__pv_it/baa12e4b0b47a3f1a4360b0cd630f213a8327a6a0/expr.png\" style=\"display:inline;vertical-align:middle;\" /></a>"
      ],
      "text/plain": [
       "a and b \\\\  and c and d and e and f"
      ]
     },
     "execution_count": 7,
     "metadata": {},
     "output_type": "execute_result"
    }
   ],
   "source": [
    "new_expr"
   ]
  },
  {
   "cell_type": "code",
   "execution_count": 8,
   "metadata": {},
   "outputs": [
    {
     "data": {
      "text/html": [
       "<strong id=\"expr\">expr:</strong> <a class=\"ProveItLink\" href=\"__pv_it/5824965cacdde9563e74cccf07df80e295794cd30/expr.ipynb\"><img src=\"__pv_it/5824965cacdde9563e74cccf07df80e295794cd30/expr.png\" style=\"display:inline;vertical-align:middle;\" /></a><br>"
      ],
      "text/plain": [
       "expr: (a or b or c) and (b or c or d) and (d or e or f)"
      ]
     },
     "execution_count": 8,
     "metadata": {},
     "output_type": "execute_result"
    }
   ],
   "source": [
    "expr = And(Or(a, b, c), Or(b, c, d), Or(d, e, f))"
   ]
  },
  {
   "cell_type": "code",
   "execution_count": 9,
   "metadata": {},
   "outputs": [
    {
     "data": {
      "text/html": [
       "<strong id=\"new_expr\">new_expr:</strong> <a class=\"ProveItLink\" href=\"__pv_it/5824965cacdde9563e74cccf07df80e295794cd30/expr.ipynb\"><img src=\"__pv_it/5824965cacdde9563e74cccf07df80e295794cd30/expr.png\" style=\"display:inline;vertical-align:middle;\" /></a><br>"
      ],
      "text/plain": [
       "new_expr: (a or b or c) and (b or c or d) and (d or e or f)"
      ]
     },
     "execution_count": 9,
     "metadata": {},
     "output_type": "execute_result"
    }
   ],
   "source": [
    "new_expr = expr.copy()"
   ]
  },
  {
   "cell_type": "code",
   "execution_count": 10,
   "metadata": {},
   "outputs": [
    {
     "data": {
      "text/html": [
       "<a class=\"ProveItLink\" href=\"__pv_it/4735ca7416649d98c3aac132471605c7128c4bcc0/expr.ipynb\"><img src=\"__pv_it/4735ca7416649d98c3aac132471605c7128c4bcc0/expr.png\" style=\"display:inline;vertical-align:middle;\" /></a>"
      ],
      "text/plain": [
       "(a or b or c) and (b or c \\\\  or d) and (d or e or f)"
      ]
     },
     "execution_count": 10,
     "metadata": {},
     "output_type": "execute_result"
    }
   ],
   "source": [
    "new_expr.innerExpr().operands[1].withWrappingAt(3)"
   ]
  },
  {
   "cell_type": "code",
   "execution_count": 11,
   "metadata": {},
   "outputs": [
    {
     "data": {
      "text/html": [
       "<a class=\"ProveItLink\" href=\"__pv_it/5824965cacdde9563e74cccf07df80e295794cd30/expr.ipynb\"><img src=\"__pv_it/5824965cacdde9563e74cccf07df80e295794cd30/expr.png\" style=\"display:inline;vertical-align:middle;\" /></a>"
      ],
      "text/plain": [
       "(a or b or c) and (b or c or d) and (d or e or f)"
      ]
     },
     "execution_count": 11,
     "metadata": {},
     "output_type": "execute_result"
    }
   ],
   "source": [
    "expr"
   ]
  },
  {
   "cell_type": "code",
   "execution_count": 12,
   "metadata": {},
   "outputs": [
    {
     "name": "stdout",
     "output_type": "stream",
     "text": [
      "True\n"
     ]
    }
   ],
   "source": [
    "print(expr==new_expr)"
   ]
  },
  {
   "cell_type": "code",
   "execution_count": 13,
   "metadata": {},
   "outputs": [
    {
     "data": {
      "text/html": [
       "<table><tr><th>&nbsp;</th><th>step type</th><th>requirements</th><th>statement</th></tr>\n",
       "<tr><td>0</td><td>axiom</td><td></td><td><span style=\"font-size:20px;\"> &#x22A2;&nbsp;<a class=\"ProveItLink\" href=\"__pv_it/8898576b5e2da836accfecb245314d00556cd07d0/expr.ipynb\"><img src=\"__pv_it/8898576b5e2da836accfecb245314d00556cd07d0/expr.png\" style=\"display:inline;vertical-align:middle;\" /></a></span></td></tr>\n",
       "<tr><td>&nbsp;</td><td colspan=4 style-\"text-align:left\"><a class=\"ProveItLink\" href=\"_axioms_.ipynb#andTT\">proveit.logic.boolean.conjunction.andTT</a></td></tr></table>"
      ],
      "text/plain": [
       "\tstep type\trequirements\tstatement\n",
       "0\taxiom\t\t|= (TRUE and TRUE) = TRUE\n",
       "\tproveit.logic.boolean.conjunction.andTT"
      ]
     },
     "execution_count": 13,
     "metadata": {},
     "output_type": "execute_result"
    }
   ],
   "source": [
    "And(TRUE, TRUE).evaluation().proof()"
   ]
  },
  {
   "cell_type": "code",
   "execution_count": 14,
   "metadata": {},
   "outputs": [
    {
     "data": {
      "text/html": [
       "<table><tr><th>&nbsp;</th><th>step type</th><th>requirements</th><th>statement</th></tr>\n",
       "<tr><td>0</td><td>specialization</td><td>1</td><td><span style=\"font-size:20px;\"> &#x22A2;&nbsp;<a class=\"ProveItLink\" href=\"__pv_it/bebacfbb3175bb722a2d1c3c2d8ad4b2cdddc1ec0/expr.ipynb\"><img src=\"__pv_it/bebacfbb3175bb722a2d1c3c2d8ad4b2cdddc1ec0/expr.png\" style=\"display:inline;vertical-align:middle;\" /></a></span></td></tr>\n",
       "<tr><td>&nbsp;</td><td colspan=4 style=\"text-align:left\"><span style=\"font-size:20px;\"><a class=\"ProveItLink\" href=\"__pv_it/13367982f60eba949e4f5b8cf20fe814bcdb1b0a0/expr.ipynb\"><img src=\"__pv_it/13367982f60eba949e4f5b8cf20fe814bcdb1b0a0/expr.png\" style=\"display:inline;vertical-align:middle;\" /></a></span></td></tr><tr><td>1</td><td>axiom</td><td></td><td><span style=\"font-size:20px;\"> &#x22A2;&nbsp;<a class=\"ProveItLink\" href=\"../../equality/__pv_it/a17ac86529407447f5f5556b4307bccf71d2487c0/expr.ipynb\"><img src=\"../../equality/__pv_it/a17ac86529407447f5f5556b4307bccf71d2487c0/expr.png\" style=\"display:inline;vertical-align:middle;\" /></a></span></td></tr>\n",
       "<tr><td>&nbsp;</td><td colspan=4 style-\"text-align:left\"><a class=\"ProveItLink\" href=\"../../equality/_axioms_.ipynb#equalsReflexivity\">proveit.logic.equality.equalsReflexivity</a></td></tr></table>"
      ],
      "text/plain": [
       "\tstep type\trequirements\tstatement\n",
       "0\tspecialization\t1\t|= 1 = 1\n",
       "\tx -> 1\n",
       "1\taxiom\t\t|= forall_{x} (x = x)\n",
       "\tproveit.logic.equality.equalsReflexivity"
      ]
     },
     "execution_count": 14,
     "metadata": {},
     "output_type": "execute_result"
    }
   ],
   "source": [
    "from proveit.number import Less, one\n",
    "Less.sort([one, one]).proof()"
   ]
  },
  {
   "cell_type": "code",
   "execution_count": 15,
   "metadata": {},
   "outputs": [
    {
     "data": {
      "text/html": [
       "<table><tr><th>&nbsp;</th><th>step type</th><th>requirements</th><th>statement</th></tr>\n",
       "<tr><td>0</td><td>specialization</td><td>1, 2, 3, 4, 5</td><td><span style=\"font-size:20px;\"> &#x22A2;&nbsp;<a class=\"ProveItLink\" href=\"__pv_it/a9e718e251f915d4ceee90af6867080678bc77320/expr.ipynb\"><img src=\"__pv_it/a9e718e251f915d4ceee90af6867080678bc77320/expr.png\" style=\"display:inline;vertical-align:middle;\" /></a></span></td></tr>\n",
       "<tr><td>&nbsp;</td><td colspan=4 style=\"text-align:left\"><span style=\"font-size:20px;\"><a class=\"ProveItLink\" href=\"__pv_it/1c96b5feab8db7e904cffd795ab9cec21a5553500/expr.ipynb\"><img src=\"__pv_it/1c96b5feab8db7e904cffd795ab9cec21a5553500/expr.png\" style=\"display:inline;vertical-align:middle;\" /></a>, <a class=\"ProveItLink\" href=\"__pv_it/413db8b566c7a94f817e86948e66915984f195b30/expr.ipynb\"><img src=\"__pv_it/413db8b566c7a94f817e86948e66915984f195b30/expr.png\" style=\"display:inline;vertical-align:middle;\" /></a></span></td></tr><tr><td>1</td><td>theorem</td><td></td><td><span style=\"font-size:20px;\"> &#x22A2;&nbsp;<a class=\"ProveItLink\" href=\"__pv_it/d1adaf6ebd8bd4b0b440191c79c28010865875a30/expr.ipynb\"><img src=\"__pv_it/d1adaf6ebd8bd4b0b440191c79c28010865875a30/expr.png\" style=\"display:inline;vertical-align:middle;\" /></a></span></td></tr>\n",
       "<tr><td>&nbsp;</td><td colspan=4 style-\"text-align:left\"><a class=\"ProveItLink\" href=\"_proofs_/trueEval.ipynb\">proveit.logic.boolean.conjunction.trueEval</a></td></tr><tr><td>2</td><td>theorem</td><td></td><td><span style=\"font-size:20px;\"> &#x22A2;&nbsp;<a class=\"ProveItLink\" href=\"../../../number/numeral/deci/__pv_it/106bf174ef7755d5609db086689abcc208d6bf3d0/expr.ipynb\"><img src=\"../../../number/numeral/deci/__pv_it/106bf174ef7755d5609db086689abcc208d6bf3d0/expr.png\" style=\"display:inline;vertical-align:middle;\" /></a></span></td></tr>\n",
       "<tr><td>&nbsp;</td><td colspan=4 style-\"text-align:left\"><a class=\"ProveItLink\" href=\"../../../number/numeral/deci/_proofs_/nat3.ipynb\">proveit.number.numeral.deci.nat3</a></td></tr><tr><td>3</td><td>axiom</td><td></td><td><span style=\"font-size:20px;\"> &#x22A2;&nbsp;<a class=\"ProveItLink\" href=\"../__pv_it/68a87cc3370287d726c7086ace789e680e4461c30/expr.ipynb\"><img src=\"../__pv_it/68a87cc3370287d726c7086ace789e680e4461c30/expr.png\" style=\"display:inline;vertical-align:middle;\" /></a></span></td></tr>\n",
       "<tr><td>&nbsp;</td><td colspan=4 style-\"text-align:left\"><a class=\"ProveItLink\" href=\"../_axioms_.ipynb#trueAxiom\">proveit.logic.boolean.trueAxiom</a></td></tr><tr><td>4</td><td>theorem</td><td></td><td><span style=\"font-size:20px;\"> &#x22A2;&nbsp;<a class=\"ProveItLink\" href=\"../../../number/numeral/deci/__pv_it/c5d3f2ba07647aec518bec1929b16561d1a340400/expr.ipynb\"><img src=\"../../../number/numeral/deci/__pv_it/c5d3f2ba07647aec518bec1929b16561d1a340400/expr.png\" style=\"display:inline;vertical-align:middle;\" /></a></span></td></tr>\n",
       "<tr><td>&nbsp;</td><td colspan=4 style-\"text-align:left\"><a class=\"ProveItLink\" href=\"../../../number/numeral/deci/_proofs_/add_1_1.ipynb\">proveit.number.numeral.deci.add_1_1</a></td></tr><tr><td>5</td><td>theorem</td><td></td><td><span style=\"font-size:20px;\"> &#x22A2;&nbsp;<a class=\"ProveItLink\" href=\"../../../number/numeral/deci/__pv_it/21aa4b60034093b61b7d779cdd54bc7d2d51c73e0/expr.ipynb\"><img src=\"../../../number/numeral/deci/__pv_it/21aa4b60034093b61b7d779cdd54bc7d2d51c73e0/expr.png\" style=\"display:inline;vertical-align:middle;\" /></a></span></td></tr>\n",
       "<tr><td>&nbsp;</td><td colspan=4 style-\"text-align:left\"><a class=\"ProveItLink\" href=\"../../../number/numeral/deci/_proofs_/add_2_1.ipynb\">proveit.number.numeral.deci.add_2_1</a></td></tr></table>"
      ],
      "text/plain": [
       "\tstep type\trequirements\tstatement\n",
       "0\tspecialization\t1, 2, 3, 4, 5\t|= (TRUE and TRUE and TRUE) = TRUE\n",
       "\t{m -> 3}, {A -> (TRUE , TRUE , TRUE)}\n",
       "1\ttheorem\t\t|= forall_{m in Naturals} [forall_{A | A_(1) ,  ...  , A_(m)} ((A_(1) and  ...  and A_(m)) = TRUE)]\n",
       "\tproveit.logic.boolean.conjunction.trueEval\n",
       "2\ttheorem\t\t|= 3 in Naturals\n",
       "\tproveit.number.numeral.deci.nat3\n",
       "3\taxiom\t\t|= TRUE\n",
       "\tproveit.logic.boolean.trueAxiom\n",
       "4\ttheorem\t\t|= (1 + 1) = 2\n",
       "\tproveit.number.numeral.deci.add_1_1\n",
       "5\ttheorem\t\t|= (2 + 1) = 3\n",
       "\tproveit.number.numeral.deci.add_2_1"
      ]
     },
     "execution_count": 15,
     "metadata": {},
     "output_type": "execute_result"
    }
   ],
   "source": [
    "And(TRUE, TRUE, TRUE).evaluation().proof()"
   ]
  },
  {
   "cell_type": "code",
   "execution_count": 16,
   "metadata": {},
   "outputs": [
    {
     "data": {
      "text/html": [
       "<table><tr><th>&nbsp;</th><th>step type</th><th>requirements</th><th>statement</th></tr>\n",
       "<tr><td>0</td><td>theorem</td><td></td><td><span style=\"font-size:20px;\"> &#x22A2;&nbsp;<a class=\"ProveItLink\" href=\"../negation/__pv_it/01165fd25131c0df966b8e8c1626e275fd04f3050/expr.ipynb\"><img src=\"../negation/__pv_it/01165fd25131c0df966b8e8c1626e275fd04f3050/expr.png\" style=\"display:inline;vertical-align:middle;\" /></a></span></td></tr>\n",
       "<tr><td>&nbsp;</td><td colspan=4 style-\"text-align:left\"><a class=\"ProveItLink\" href=\"../negation/_proofs_/notFalse.ipynb\">proveit.logic.boolean.negation.notFalse</a></td></tr></table>"
      ],
      "text/plain": [
       "proveit.logic.boolean.negation.notFalse"
      ]
     },
     "execution_count": 16,
     "metadata": {},
     "output_type": "execute_result"
    }
   ],
   "source": [
    "Not(FALSE).prove().proof()"
   ]
  },
  {
   "cell_type": "code",
   "execution_count": 17,
   "metadata": {},
   "outputs": [
    {
     "data": {
      "text/html": [
       "<table><tr><th>&nbsp;</th><th>step type</th><th>requirements</th><th>statement</th></tr>\n",
       "<tr><td>0</td><td>specialization</td><td>1, 2, 3</td><td><span style=\"font-size:20px;\"> &#x22A2;&nbsp;<a class=\"ProveItLink\" href=\"__pv_it/f5adcd719b05bafa1bd3afcd6087e46c85f514880/expr.ipynb\"><img src=\"__pv_it/f5adcd719b05bafa1bd3afcd6087e46c85f514880/expr.png\" style=\"display:inline;vertical-align:middle;\" /></a></span></td></tr>\n",
       "<tr><td>&nbsp;</td><td colspan=4 style=\"text-align:left\"><span style=\"font-size:20px;\"><a class=\"ProveItLink\" href=\"__pv_it/333f7db6a2d6fc2cddb966a041e06213434183b50/expr.ipynb\"><img src=\"__pv_it/333f7db6a2d6fc2cddb966a041e06213434183b50/expr.png\" style=\"display:inline;vertical-align:middle;\" /></a>, <a class=\"ProveItLink\" href=\"__pv_it/81cec4f76b0627d72a254a237c30a9c42144fa9f0/expr.ipynb\"><img src=\"__pv_it/81cec4f76b0627d72a254a237c30a9c42144fa9f0/expr.png\" style=\"display:inline;vertical-align:middle;\" /></a>, <a class=\"ProveItLink\" href=\"__pv_it/81a641f2ce86182ac74d053677a77135842a87500/expr.ipynb\"><img src=\"__pv_it/81a641f2ce86182ac74d053677a77135842a87500/expr.png\" style=\"display:inline;vertical-align:middle;\" /></a></span></td></tr><tr><td>1</td><td>axiom</td><td></td><td><span style=\"font-size:20px;\"> &#x22A2;&nbsp;<a class=\"ProveItLink\" href=\"../../equality/__pv_it/3e27e37ba4c21dbc2950467f18d0691b4108abf10/expr.ipynb\"><img src=\"../../equality/__pv_it/3e27e37ba4c21dbc2950467f18d0691b4108abf10/expr.png\" style=\"display:inline;vertical-align:middle;\" /></a></span></td></tr>\n",
       "<tr><td>&nbsp;</td><td colspan=4 style-\"text-align:left\"><a class=\"ProveItLink\" href=\"../../equality/_axioms_.ipynb#equalsTransitivity\">proveit.logic.equality.equalsTransitivity</a></td></tr><tr><td>2</td><td>specialization</td><td>4, 5</td><td><span style=\"font-size:20px;\"> &#x22A2;&nbsp;<a class=\"ProveItLink\" href=\"__pv_it/c73256e2fe7c2dec0e574447ee472e60213e27050/expr.ipynb\"><img src=\"__pv_it/c73256e2fe7c2dec0e574447ee472e60213e27050/expr.png\" style=\"display:inline;vertical-align:middle;\" /></a></span></td></tr>\n",
       "<tr><td>&nbsp;</td><td colspan=4 style=\"text-align:left\"><span style=\"font-size:20px;\"><a class=\"ProveItLink\" href=\"__pv_it/ad4f825b833765ccdc79228e1ee67d17ce77319b0/expr.ipynb\"><img src=\"__pv_it/ad4f825b833765ccdc79228e1ee67d17ce77319b0/expr.png\" style=\"display:inline;vertical-align:middle;\" /></a>, <a class=\"ProveItLink\" href=\"__pv_it/1f525cd2d8029edad2262aaf3fa1470f22a33f420/expr.ipynb\"><img src=\"__pv_it/1f525cd2d8029edad2262aaf3fa1470f22a33f420/expr.png\" style=\"display:inline;vertical-align:middle;\" /></a>, <a class=\"ProveItLink\" href=\"__pv_it/b66e1088aee075b38a34ff547c137806d2c4a1cf0/expr.ipynb\"><img src=\"__pv_it/b66e1088aee075b38a34ff547c137806d2c4a1cf0/expr.png\" style=\"display:inline;vertical-align:middle;\" /></a></span></td></tr><tr><td>3</td><td>specialization</td><td>6, 7, 8, 9, 10</td><td><span style=\"font-size:20px;\"> &#x22A2;&nbsp;<a class=\"ProveItLink\" href=\"__pv_it/a9e718e251f915d4ceee90af6867080678bc77320/expr.ipynb\"><img src=\"__pv_it/a9e718e251f915d4ceee90af6867080678bc77320/expr.png\" style=\"display:inline;vertical-align:middle;\" /></a></span></td></tr>\n",
       "<tr><td>&nbsp;</td><td colspan=4 style=\"text-align:left\"><span style=\"font-size:20px;\"><a class=\"ProveItLink\" href=\"__pv_it/1c96b5feab8db7e904cffd795ab9cec21a5553500/expr.ipynb\"><img src=\"__pv_it/1c96b5feab8db7e904cffd795ab9cec21a5553500/expr.png\" style=\"display:inline;vertical-align:middle;\" /></a>, <a class=\"ProveItLink\" href=\"__pv_it/413db8b566c7a94f817e86948e66915984f195b30/expr.ipynb\"><img src=\"__pv_it/413db8b566c7a94f817e86948e66915984f195b30/expr.png\" style=\"display:inline;vertical-align:middle;\" /></a></span></td></tr><tr><td>4</td><td>axiom</td><td></td><td><span style=\"font-size:20px;\"> &#x22A2;&nbsp;<a class=\"ProveItLink\" href=\"../../equality/__pv_it/6ec2193ff7f2a0001aea3e112ec0ee2dddc5beb10/expr.ipynb\"><img src=\"../../equality/__pv_it/6ec2193ff7f2a0001aea3e112ec0ee2dddc5beb10/expr.png\" style=\"display:inline;vertical-align:middle;\" /></a></span></td></tr>\n",
       "<tr><td>&nbsp;</td><td colspan=4 style-\"text-align:left\"><a class=\"ProveItLink\" href=\"../../equality/_axioms_.ipynb#substitution\">proveit.logic.equality.substitution</a></td></tr><tr><td>5</td><td>theorem</td><td></td><td><span style=\"font-size:20px;\"> &#x22A2;&nbsp;<a class=\"ProveItLink\" href=\"../negation/__pv_it/d15a94745248812aa8487be134f06c9c5d8bf36b0/expr.ipynb\"><img src=\"../negation/__pv_it/d15a94745248812aa8487be134f06c9c5d8bf36b0/expr.png\" style=\"display:inline;vertical-align:middle;\" /></a></span></td></tr>\n",
       "<tr><td>&nbsp;</td><td colspan=4 style-\"text-align:left\"><a class=\"ProveItLink\" href=\"../negation/_proofs_/notF.ipynb\">proveit.logic.boolean.negation.notF</a></td></tr><tr><td>6</td><td>theorem</td><td></td><td><span style=\"font-size:20px;\"> &#x22A2;&nbsp;<a class=\"ProveItLink\" href=\"__pv_it/d1adaf6ebd8bd4b0b440191c79c28010865875a30/expr.ipynb\"><img src=\"__pv_it/d1adaf6ebd8bd4b0b440191c79c28010865875a30/expr.png\" style=\"display:inline;vertical-align:middle;\" /></a></span></td></tr>\n",
       "<tr><td>&nbsp;</td><td colspan=4 style-\"text-align:left\"><a class=\"ProveItLink\" href=\"_proofs_/trueEval.ipynb\">proveit.logic.boolean.conjunction.trueEval</a></td></tr><tr><td>7</td><td>theorem</td><td></td><td><span style=\"font-size:20px;\"> &#x22A2;&nbsp;<a class=\"ProveItLink\" href=\"../../../number/numeral/deci/__pv_it/106bf174ef7755d5609db086689abcc208d6bf3d0/expr.ipynb\"><img src=\"../../../number/numeral/deci/__pv_it/106bf174ef7755d5609db086689abcc208d6bf3d0/expr.png\" style=\"display:inline;vertical-align:middle;\" /></a></span></td></tr>\n",
       "<tr><td>&nbsp;</td><td colspan=4 style-\"text-align:left\"><a class=\"ProveItLink\" href=\"../../../number/numeral/deci/_proofs_/nat3.ipynb\">proveit.number.numeral.deci.nat3</a></td></tr><tr><td>8</td><td>axiom</td><td></td><td><span style=\"font-size:20px;\"> &#x22A2;&nbsp;<a class=\"ProveItLink\" href=\"../__pv_it/68a87cc3370287d726c7086ace789e680e4461c30/expr.ipynb\"><img src=\"../__pv_it/68a87cc3370287d726c7086ace789e680e4461c30/expr.png\" style=\"display:inline;vertical-align:middle;\" /></a></span></td></tr>\n",
       "<tr><td>&nbsp;</td><td colspan=4 style-\"text-align:left\"><a class=\"ProveItLink\" href=\"../_axioms_.ipynb#trueAxiom\">proveit.logic.boolean.trueAxiom</a></td></tr><tr><td>9</td><td>theorem</td><td></td><td><span style=\"font-size:20px;\"> &#x22A2;&nbsp;<a class=\"ProveItLink\" href=\"../../../number/numeral/deci/__pv_it/c5d3f2ba07647aec518bec1929b16561d1a340400/expr.ipynb\"><img src=\"../../../number/numeral/deci/__pv_it/c5d3f2ba07647aec518bec1929b16561d1a340400/expr.png\" style=\"display:inline;vertical-align:middle;\" /></a></span></td></tr>\n",
       "<tr><td>&nbsp;</td><td colspan=4 style-\"text-align:left\"><a class=\"ProveItLink\" href=\"../../../number/numeral/deci/_proofs_/add_1_1.ipynb\">proveit.number.numeral.deci.add_1_1</a></td></tr><tr><td>10</td><td>theorem</td><td></td><td><span style=\"font-size:20px;\"> &#x22A2;&nbsp;<a class=\"ProveItLink\" href=\"../../../number/numeral/deci/__pv_it/21aa4b60034093b61b7d779cdd54bc7d2d51c73e0/expr.ipynb\"><img src=\"../../../number/numeral/deci/__pv_it/21aa4b60034093b61b7d779cdd54bc7d2d51c73e0/expr.png\" style=\"display:inline;vertical-align:middle;\" /></a></span></td></tr>\n",
       "<tr><td>&nbsp;</td><td colspan=4 style-\"text-align:left\"><a class=\"ProveItLink\" href=\"../../../number/numeral/deci/_proofs_/add_2_1.ipynb\">proveit.number.numeral.deci.add_2_1</a></td></tr></table>"
      ],
      "text/plain": [
       "\tstep type\trequirements\tstatement\n",
       "0\tspecialization\t1, 2, 3\t|= (TRUE and [not](FALSE) and TRUE) = TRUE\n",
       "\t{x -> (TRUE and [not](FALSE) and TRUE)}, {y -> (TRUE and TRUE and TRUE)}, {z -> TRUE}\n",
       "1\taxiom\t\t|= forall_{x, y, z | x = y , y = z} (x = z)\n",
       "\tproveit.logic.equality.equalsTransitivity\n",
       "2\tspecialization\t4, 5\t|= (TRUE and [not](FALSE) and TRUE) = (TRUE and TRUE and TRUE)\n",
       "\t{f -> [_x_ -> (TRUE and _x_ and TRUE)]}, {x -> [not](FALSE)}, {y -> TRUE}\n",
       "3\tspecialization\t6, 7, 8, 9, 10\t|= (TRUE and TRUE and TRUE) = TRUE\n",
       "\t{m -> 3}, {A -> (TRUE , TRUE , TRUE)}\n",
       "4\taxiom\t\t|= forall_{f, x, y | x = y} (f(x) = f(y))\n",
       "\tproveit.logic.equality.substitution\n",
       "5\ttheorem\t\t|= [not](FALSE) = TRUE\n",
       "\tproveit.logic.boolean.negation.notF\n",
       "6\ttheorem\t\t|= forall_{m in Naturals} [forall_{A | A_(1) ,  ...  , A_(m)} ((A_(1) and  ...  and A_(m)) = TRUE)]\n",
       "\tproveit.logic.boolean.conjunction.trueEval\n",
       "7\ttheorem\t\t|= 3 in Naturals\n",
       "\tproveit.number.numeral.deci.nat3\n",
       "8\taxiom\t\t|= TRUE\n",
       "\tproveit.logic.boolean.trueAxiom\n",
       "9\ttheorem\t\t|= (1 + 1) = 2\n",
       "\tproveit.number.numeral.deci.add_1_1\n",
       "10\ttheorem\t\t|= (2 + 1) = 3\n",
       "\tproveit.number.numeral.deci.add_2_1"
      ]
     },
     "execution_count": 17,
     "metadata": {},
     "output_type": "execute_result"
    }
   ],
   "source": [
    "And(TRUE, Not(FALSE), TRUE).evaluation().proof()"
   ]
  },
  {
   "cell_type": "code",
   "execution_count": 18,
   "metadata": {},
   "outputs": [
    {
     "data": {
      "text/html": [
       "<table><tr><th>&nbsp;</th><th>step type</th><th>requirements</th><th>statement</th></tr>\n",
       "<tr><td>0</td><td>specialization</td><td>1, 2</td><td><span style=\"font-size:20px;\"> &#x22A2;&nbsp;<a class=\"ProveItLink\" href=\"__pv_it/ab0b163a5ef2a7ca08e291e707e4a928a5fff2310/expr.ipynb\"><img src=\"__pv_it/ab0b163a5ef2a7ca08e291e707e4a928a5fff2310/expr.png\" style=\"display:inline;vertical-align:middle;\" /></a></span></td></tr>\n",
       "<tr><td>&nbsp;</td><td colspan=4 style=\"text-align:left\"><span style=\"font-size:20px;\"><a class=\"ProveItLink\" href=\"__pv_it/304fe6d64e30e5d3dd2b7ef9ff40c898384113300/expr.ipynb\"><img src=\"__pv_it/304fe6d64e30e5d3dd2b7ef9ff40c898384113300/expr.png\" style=\"display:inline;vertical-align:middle;\" /></a></span></td></tr><tr><td>1</td><td>axiom</td><td></td><td><span style=\"font-size:20px;\"> &#x22A2;&nbsp;<a class=\"ProveItLink\" href=\"../__pv_it/464b3c7344f9d4c18e61245dc2e5438b3dda88b90/expr.ipynb\"><img src=\"../__pv_it/464b3c7344f9d4c18e61245dc2e5438b3dda88b90/expr.png\" style=\"display:inline;vertical-align:middle;\" /></a></span></td></tr>\n",
       "<tr><td>&nbsp;</td><td colspan=4 style-\"text-align:left\"><a class=\"ProveItLink\" href=\"../_axioms_.ipynb#eqTrueElim\">proveit.logic.boolean.eqTrueElim</a></td></tr><tr><td>2</td><td>specialization</td><td>3, 4, 5</td><td><span style=\"font-size:20px;\"> &#x22A2;&nbsp;<a class=\"ProveItLink\" href=\"__pv_it/f5adcd719b05bafa1bd3afcd6087e46c85f514880/expr.ipynb\"><img src=\"__pv_it/f5adcd719b05bafa1bd3afcd6087e46c85f514880/expr.png\" style=\"display:inline;vertical-align:middle;\" /></a></span></td></tr>\n",
       "<tr><td>&nbsp;</td><td colspan=4 style=\"text-align:left\"><span style=\"font-size:20px;\"><a class=\"ProveItLink\" href=\"__pv_it/333f7db6a2d6fc2cddb966a041e06213434183b50/expr.ipynb\"><img src=\"__pv_it/333f7db6a2d6fc2cddb966a041e06213434183b50/expr.png\" style=\"display:inline;vertical-align:middle;\" /></a>, <a class=\"ProveItLink\" href=\"__pv_it/81cec4f76b0627d72a254a237c30a9c42144fa9f0/expr.ipynb\"><img src=\"__pv_it/81cec4f76b0627d72a254a237c30a9c42144fa9f0/expr.png\" style=\"display:inline;vertical-align:middle;\" /></a>, <a class=\"ProveItLink\" href=\"__pv_it/81a641f2ce86182ac74d053677a77135842a87500/expr.ipynb\"><img src=\"__pv_it/81a641f2ce86182ac74d053677a77135842a87500/expr.png\" style=\"display:inline;vertical-align:middle;\" /></a></span></td></tr><tr><td>3</td><td>axiom</td><td></td><td><span style=\"font-size:20px;\"> &#x22A2;&nbsp;<a class=\"ProveItLink\" href=\"../../equality/__pv_it/3e27e37ba4c21dbc2950467f18d0691b4108abf10/expr.ipynb\"><img src=\"../../equality/__pv_it/3e27e37ba4c21dbc2950467f18d0691b4108abf10/expr.png\" style=\"display:inline;vertical-align:middle;\" /></a></span></td></tr>\n",
       "<tr><td>&nbsp;</td><td colspan=4 style-\"text-align:left\"><a class=\"ProveItLink\" href=\"../../equality/_axioms_.ipynb#equalsTransitivity\">proveit.logic.equality.equalsTransitivity</a></td></tr><tr><td>4</td><td>specialization</td><td>6, 7</td><td><span style=\"font-size:20px;\"> &#x22A2;&nbsp;<a class=\"ProveItLink\" href=\"__pv_it/c73256e2fe7c2dec0e574447ee472e60213e27050/expr.ipynb\"><img src=\"__pv_it/c73256e2fe7c2dec0e574447ee472e60213e27050/expr.png\" style=\"display:inline;vertical-align:middle;\" /></a></span></td></tr>\n",
       "<tr><td>&nbsp;</td><td colspan=4 style=\"text-align:left\"><span style=\"font-size:20px;\"><a class=\"ProveItLink\" href=\"__pv_it/ad4f825b833765ccdc79228e1ee67d17ce77319b0/expr.ipynb\"><img src=\"__pv_it/ad4f825b833765ccdc79228e1ee67d17ce77319b0/expr.png\" style=\"display:inline;vertical-align:middle;\" /></a>, <a class=\"ProveItLink\" href=\"__pv_it/1f525cd2d8029edad2262aaf3fa1470f22a33f420/expr.ipynb\"><img src=\"__pv_it/1f525cd2d8029edad2262aaf3fa1470f22a33f420/expr.png\" style=\"display:inline;vertical-align:middle;\" /></a>, <a class=\"ProveItLink\" href=\"__pv_it/b66e1088aee075b38a34ff547c137806d2c4a1cf0/expr.ipynb\"><img src=\"__pv_it/b66e1088aee075b38a34ff547c137806d2c4a1cf0/expr.png\" style=\"display:inline;vertical-align:middle;\" /></a></span></td></tr><tr><td>5</td><td>specialization</td><td>8, 9, 10, 11, 12</td><td><span style=\"font-size:20px;\"> &#x22A2;&nbsp;<a class=\"ProveItLink\" href=\"__pv_it/a9e718e251f915d4ceee90af6867080678bc77320/expr.ipynb\"><img src=\"__pv_it/a9e718e251f915d4ceee90af6867080678bc77320/expr.png\" style=\"display:inline;vertical-align:middle;\" /></a></span></td></tr>\n",
       "<tr><td>&nbsp;</td><td colspan=4 style=\"text-align:left\"><span style=\"font-size:20px;\"><a class=\"ProveItLink\" href=\"__pv_it/1c96b5feab8db7e904cffd795ab9cec21a5553500/expr.ipynb\"><img src=\"__pv_it/1c96b5feab8db7e904cffd795ab9cec21a5553500/expr.png\" style=\"display:inline;vertical-align:middle;\" /></a>, <a class=\"ProveItLink\" href=\"__pv_it/413db8b566c7a94f817e86948e66915984f195b30/expr.ipynb\"><img src=\"__pv_it/413db8b566c7a94f817e86948e66915984f195b30/expr.png\" style=\"display:inline;vertical-align:middle;\" /></a></span></td></tr><tr><td>6</td><td>axiom</td><td></td><td><span style=\"font-size:20px;\"> &#x22A2;&nbsp;<a class=\"ProveItLink\" href=\"../../equality/__pv_it/6ec2193ff7f2a0001aea3e112ec0ee2dddc5beb10/expr.ipynb\"><img src=\"../../equality/__pv_it/6ec2193ff7f2a0001aea3e112ec0ee2dddc5beb10/expr.png\" style=\"display:inline;vertical-align:middle;\" /></a></span></td></tr>\n",
       "<tr><td>&nbsp;</td><td colspan=4 style-\"text-align:left\"><a class=\"ProveItLink\" href=\"../../equality/_axioms_.ipynb#substitution\">proveit.logic.equality.substitution</a></td></tr><tr><td>7</td><td>theorem</td><td></td><td><span style=\"font-size:20px;\"> &#x22A2;&nbsp;<a class=\"ProveItLink\" href=\"../negation/__pv_it/d15a94745248812aa8487be134f06c9c5d8bf36b0/expr.ipynb\"><img src=\"../negation/__pv_it/d15a94745248812aa8487be134f06c9c5d8bf36b0/expr.png\" style=\"display:inline;vertical-align:middle;\" /></a></span></td></tr>\n",
       "<tr><td>&nbsp;</td><td colspan=4 style-\"text-align:left\"><a class=\"ProveItLink\" href=\"../negation/_proofs_/notF.ipynb\">proveit.logic.boolean.negation.notF</a></td></tr><tr><td>8</td><td>theorem</td><td></td><td><span style=\"font-size:20px;\"> &#x22A2;&nbsp;<a class=\"ProveItLink\" href=\"__pv_it/d1adaf6ebd8bd4b0b440191c79c28010865875a30/expr.ipynb\"><img src=\"__pv_it/d1adaf6ebd8bd4b0b440191c79c28010865875a30/expr.png\" style=\"display:inline;vertical-align:middle;\" /></a></span></td></tr>\n",
       "<tr><td>&nbsp;</td><td colspan=4 style-\"text-align:left\"><a class=\"ProveItLink\" href=\"_proofs_/trueEval.ipynb\">proveit.logic.boolean.conjunction.trueEval</a></td></tr><tr><td>9</td><td>theorem</td><td></td><td><span style=\"font-size:20px;\"> &#x22A2;&nbsp;<a class=\"ProveItLink\" href=\"../../../number/numeral/deci/__pv_it/106bf174ef7755d5609db086689abcc208d6bf3d0/expr.ipynb\"><img src=\"../../../number/numeral/deci/__pv_it/106bf174ef7755d5609db086689abcc208d6bf3d0/expr.png\" style=\"display:inline;vertical-align:middle;\" /></a></span></td></tr>\n",
       "<tr><td>&nbsp;</td><td colspan=4 style-\"text-align:left\"><a class=\"ProveItLink\" href=\"../../../number/numeral/deci/_proofs_/nat3.ipynb\">proveit.number.numeral.deci.nat3</a></td></tr><tr><td>10</td><td>axiom</td><td></td><td><span style=\"font-size:20px;\"> &#x22A2;&nbsp;<a class=\"ProveItLink\" href=\"../__pv_it/68a87cc3370287d726c7086ace789e680e4461c30/expr.ipynb\"><img src=\"../__pv_it/68a87cc3370287d726c7086ace789e680e4461c30/expr.png\" style=\"display:inline;vertical-align:middle;\" /></a></span></td></tr>\n",
       "<tr><td>&nbsp;</td><td colspan=4 style-\"text-align:left\"><a class=\"ProveItLink\" href=\"../_axioms_.ipynb#trueAxiom\">proveit.logic.boolean.trueAxiom</a></td></tr><tr><td>11</td><td>theorem</td><td></td><td><span style=\"font-size:20px;\"> &#x22A2;&nbsp;<a class=\"ProveItLink\" href=\"../../../number/numeral/deci/__pv_it/c5d3f2ba07647aec518bec1929b16561d1a340400/expr.ipynb\"><img src=\"../../../number/numeral/deci/__pv_it/c5d3f2ba07647aec518bec1929b16561d1a340400/expr.png\" style=\"display:inline;vertical-align:middle;\" /></a></span></td></tr>\n",
       "<tr><td>&nbsp;</td><td colspan=4 style-\"text-align:left\"><a class=\"ProveItLink\" href=\"../../../number/numeral/deci/_proofs_/add_1_1.ipynb\">proveit.number.numeral.deci.add_1_1</a></td></tr><tr><td>12</td><td>theorem</td><td></td><td><span style=\"font-size:20px;\"> &#x22A2;&nbsp;<a class=\"ProveItLink\" href=\"../../../number/numeral/deci/__pv_it/21aa4b60034093b61b7d779cdd54bc7d2d51c73e0/expr.ipynb\"><img src=\"../../../number/numeral/deci/__pv_it/21aa4b60034093b61b7d779cdd54bc7d2d51c73e0/expr.png\" style=\"display:inline;vertical-align:middle;\" /></a></span></td></tr>\n",
       "<tr><td>&nbsp;</td><td colspan=4 style-\"text-align:left\"><a class=\"ProveItLink\" href=\"../../../number/numeral/deci/_proofs_/add_2_1.ipynb\">proveit.number.numeral.deci.add_2_1</a></td></tr></table>"
      ],
      "text/plain": [
       "\tstep type\trequirements\tstatement\n",
       "0\tspecialization\t1, 2\t|= TRUE and [not](FALSE) and TRUE\n",
       "\tA -> (TRUE and [not](FALSE) and TRUE)\n",
       "1\taxiom\t\t|= forall_{A | A = TRUE} A\n",
       "\tproveit.logic.boolean.eqTrueElim\n",
       "2\tspecialization\t3, 4, 5\t|= (TRUE and [not](FALSE) and TRUE) = TRUE\n",
       "\t{x -> (TRUE and [not](FALSE) and TRUE)}, {y -> (TRUE and TRUE and TRUE)}, {z -> TRUE}\n",
       "3\taxiom\t\t|= forall_{x, y, z | x = y , y = z} (x = z)\n",
       "\tproveit.logic.equality.equalsTransitivity\n",
       "4\tspecialization\t6, 7\t|= (TRUE and [not](FALSE) and TRUE) = (TRUE and TRUE and TRUE)\n",
       "\t{f -> [_x_ -> (TRUE and _x_ and TRUE)]}, {x -> [not](FALSE)}, {y -> TRUE}\n",
       "5\tspecialization\t8, 9, 10, 11, 12\t|= (TRUE and TRUE and TRUE) = TRUE\n",
       "\t{m -> 3}, {A -> (TRUE , TRUE , TRUE)}\n",
       "6\taxiom\t\t|= forall_{f, x, y | x = y} (f(x) = f(y))\n",
       "\tproveit.logic.equality.substitution\n",
       "7\ttheorem\t\t|= [not](FALSE) = TRUE\n",
       "\tproveit.logic.boolean.negation.notF\n",
       "8\ttheorem\t\t|= forall_{m in Naturals} [forall_{A | A_(1) ,  ...  , A_(m)} ((A_(1) and  ...  and A_(m)) = TRUE)]\n",
       "\tproveit.logic.boolean.conjunction.trueEval\n",
       "9\ttheorem\t\t|= 3 in Naturals\n",
       "\tproveit.number.numeral.deci.nat3\n",
       "10\taxiom\t\t|= TRUE\n",
       "\tproveit.logic.boolean.trueAxiom\n",
       "11\ttheorem\t\t|= (1 + 1) = 2\n",
       "\tproveit.number.numeral.deci.add_1_1\n",
       "12\ttheorem\t\t|= (2 + 1) = 3\n",
       "\tproveit.number.numeral.deci.add_2_1"
      ]
     },
     "execution_count": 18,
     "metadata": {},
     "output_type": "execute_result"
    }
   ],
   "source": [
    "And(TRUE, Not(FALSE), TRUE).prove().proof()"
   ]
  },
  {
   "cell_type": "code",
   "execution_count": 19,
   "metadata": {},
   "outputs": [
    {
     "data": {
      "text/html": [
       "<table><tr><th>&nbsp;</th><th>step type</th><th>requirements</th><th>statement</th></tr>\n",
       "<tr><td>0</td><td>specialization</td><td>1, 2, 3</td><td><span style=\"font-size:20px;\"> &#x22A2;&nbsp;<a class=\"ProveItLink\" href=\"__pv_it/f5adcd719b05bafa1bd3afcd6087e46c85f514880/expr.ipynb\"><img src=\"__pv_it/f5adcd719b05bafa1bd3afcd6087e46c85f514880/expr.png\" style=\"display:inline;vertical-align:middle;\" /></a></span></td></tr>\n",
       "<tr><td>&nbsp;</td><td colspan=4 style=\"text-align:left\"><span style=\"font-size:20px;\"><a class=\"ProveItLink\" href=\"__pv_it/333f7db6a2d6fc2cddb966a041e06213434183b50/expr.ipynb\"><img src=\"__pv_it/333f7db6a2d6fc2cddb966a041e06213434183b50/expr.png\" style=\"display:inline;vertical-align:middle;\" /></a>, <a class=\"ProveItLink\" href=\"__pv_it/81cec4f76b0627d72a254a237c30a9c42144fa9f0/expr.ipynb\"><img src=\"__pv_it/81cec4f76b0627d72a254a237c30a9c42144fa9f0/expr.png\" style=\"display:inline;vertical-align:middle;\" /></a>, <a class=\"ProveItLink\" href=\"__pv_it/81a641f2ce86182ac74d053677a77135842a87500/expr.ipynb\"><img src=\"__pv_it/81a641f2ce86182ac74d053677a77135842a87500/expr.png\" style=\"display:inline;vertical-align:middle;\" /></a></span></td></tr><tr><td>1</td><td>axiom</td><td></td><td><span style=\"font-size:20px;\"> &#x22A2;&nbsp;<a class=\"ProveItLink\" href=\"../../equality/__pv_it/3e27e37ba4c21dbc2950467f18d0691b4108abf10/expr.ipynb\"><img src=\"../../equality/__pv_it/3e27e37ba4c21dbc2950467f18d0691b4108abf10/expr.png\" style=\"display:inline;vertical-align:middle;\" /></a></span></td></tr>\n",
       "<tr><td>&nbsp;</td><td colspan=4 style-\"text-align:left\"><a class=\"ProveItLink\" href=\"../../equality/_axioms_.ipynb#equalsTransitivity\">proveit.logic.equality.equalsTransitivity</a></td></tr><tr><td>2</td><td>specialization</td><td>4, 5</td><td><span style=\"font-size:20px;\"> &#x22A2;&nbsp;<a class=\"ProveItLink\" href=\"__pv_it/c73256e2fe7c2dec0e574447ee472e60213e27050/expr.ipynb\"><img src=\"__pv_it/c73256e2fe7c2dec0e574447ee472e60213e27050/expr.png\" style=\"display:inline;vertical-align:middle;\" /></a></span></td></tr>\n",
       "<tr><td>&nbsp;</td><td colspan=4 style=\"text-align:left\"><span style=\"font-size:20px;\"><a class=\"ProveItLink\" href=\"__pv_it/ad4f825b833765ccdc79228e1ee67d17ce77319b0/expr.ipynb\"><img src=\"__pv_it/ad4f825b833765ccdc79228e1ee67d17ce77319b0/expr.png\" style=\"display:inline;vertical-align:middle;\" /></a>, <a class=\"ProveItLink\" href=\"__pv_it/1f525cd2d8029edad2262aaf3fa1470f22a33f420/expr.ipynb\"><img src=\"__pv_it/1f525cd2d8029edad2262aaf3fa1470f22a33f420/expr.png\" style=\"display:inline;vertical-align:middle;\" /></a>, <a class=\"ProveItLink\" href=\"__pv_it/b66e1088aee075b38a34ff547c137806d2c4a1cf0/expr.ipynb\"><img src=\"__pv_it/b66e1088aee075b38a34ff547c137806d2c4a1cf0/expr.png\" style=\"display:inline;vertical-align:middle;\" /></a></span></td></tr><tr><td>3</td><td>specialization</td><td>6, 7, 8, 9, 10</td><td><span style=\"font-size:20px;\"> &#x22A2;&nbsp;<a class=\"ProveItLink\" href=\"__pv_it/a9e718e251f915d4ceee90af6867080678bc77320/expr.ipynb\"><img src=\"__pv_it/a9e718e251f915d4ceee90af6867080678bc77320/expr.png\" style=\"display:inline;vertical-align:middle;\" /></a></span></td></tr>\n",
       "<tr><td>&nbsp;</td><td colspan=4 style=\"text-align:left\"><span style=\"font-size:20px;\"><a class=\"ProveItLink\" href=\"__pv_it/1c96b5feab8db7e904cffd795ab9cec21a5553500/expr.ipynb\"><img src=\"__pv_it/1c96b5feab8db7e904cffd795ab9cec21a5553500/expr.png\" style=\"display:inline;vertical-align:middle;\" /></a>, <a class=\"ProveItLink\" href=\"__pv_it/413db8b566c7a94f817e86948e66915984f195b30/expr.ipynb\"><img src=\"__pv_it/413db8b566c7a94f817e86948e66915984f195b30/expr.png\" style=\"display:inline;vertical-align:middle;\" /></a></span></td></tr><tr><td>4</td><td>axiom</td><td></td><td><span style=\"font-size:20px;\"> &#x22A2;&nbsp;<a class=\"ProveItLink\" href=\"../../equality/__pv_it/6ec2193ff7f2a0001aea3e112ec0ee2dddc5beb10/expr.ipynb\"><img src=\"../../equality/__pv_it/6ec2193ff7f2a0001aea3e112ec0ee2dddc5beb10/expr.png\" style=\"display:inline;vertical-align:middle;\" /></a></span></td></tr>\n",
       "<tr><td>&nbsp;</td><td colspan=4 style-\"text-align:left\"><a class=\"ProveItLink\" href=\"../../equality/_axioms_.ipynb#substitution\">proveit.logic.equality.substitution</a></td></tr><tr><td>5</td><td>theorem</td><td></td><td><span style=\"font-size:20px;\"> &#x22A2;&nbsp;<a class=\"ProveItLink\" href=\"../negation/__pv_it/d15a94745248812aa8487be134f06c9c5d8bf36b0/expr.ipynb\"><img src=\"../negation/__pv_it/d15a94745248812aa8487be134f06c9c5d8bf36b0/expr.png\" style=\"display:inline;vertical-align:middle;\" /></a></span></td></tr>\n",
       "<tr><td>&nbsp;</td><td colspan=4 style-\"text-align:left\"><a class=\"ProveItLink\" href=\"../negation/_proofs_/notF.ipynb\">proveit.logic.boolean.negation.notF</a></td></tr><tr><td>6</td><td>theorem</td><td></td><td><span style=\"font-size:20px;\"> &#x22A2;&nbsp;<a class=\"ProveItLink\" href=\"__pv_it/d1adaf6ebd8bd4b0b440191c79c28010865875a30/expr.ipynb\"><img src=\"__pv_it/d1adaf6ebd8bd4b0b440191c79c28010865875a30/expr.png\" style=\"display:inline;vertical-align:middle;\" /></a></span></td></tr>\n",
       "<tr><td>&nbsp;</td><td colspan=4 style-\"text-align:left\"><a class=\"ProveItLink\" href=\"_proofs_/trueEval.ipynb\">proveit.logic.boolean.conjunction.trueEval</a></td></tr><tr><td>7</td><td>theorem</td><td></td><td><span style=\"font-size:20px;\"> &#x22A2;&nbsp;<a class=\"ProveItLink\" href=\"../../../number/numeral/deci/__pv_it/106bf174ef7755d5609db086689abcc208d6bf3d0/expr.ipynb\"><img src=\"../../../number/numeral/deci/__pv_it/106bf174ef7755d5609db086689abcc208d6bf3d0/expr.png\" style=\"display:inline;vertical-align:middle;\" /></a></span></td></tr>\n",
       "<tr><td>&nbsp;</td><td colspan=4 style-\"text-align:left\"><a class=\"ProveItLink\" href=\"../../../number/numeral/deci/_proofs_/nat3.ipynb\">proveit.number.numeral.deci.nat3</a></td></tr><tr><td>8</td><td>axiom</td><td></td><td><span style=\"font-size:20px;\"> &#x22A2;&nbsp;<a class=\"ProveItLink\" href=\"../__pv_it/68a87cc3370287d726c7086ace789e680e4461c30/expr.ipynb\"><img src=\"../__pv_it/68a87cc3370287d726c7086ace789e680e4461c30/expr.png\" style=\"display:inline;vertical-align:middle;\" /></a></span></td></tr>\n",
       "<tr><td>&nbsp;</td><td colspan=4 style-\"text-align:left\"><a class=\"ProveItLink\" href=\"../_axioms_.ipynb#trueAxiom\">proveit.logic.boolean.trueAxiom</a></td></tr><tr><td>9</td><td>theorem</td><td></td><td><span style=\"font-size:20px;\"> &#x22A2;&nbsp;<a class=\"ProveItLink\" href=\"../../../number/numeral/deci/__pv_it/c5d3f2ba07647aec518bec1929b16561d1a340400/expr.ipynb\"><img src=\"../../../number/numeral/deci/__pv_it/c5d3f2ba07647aec518bec1929b16561d1a340400/expr.png\" style=\"display:inline;vertical-align:middle;\" /></a></span></td></tr>\n",
       "<tr><td>&nbsp;</td><td colspan=4 style-\"text-align:left\"><a class=\"ProveItLink\" href=\"../../../number/numeral/deci/_proofs_/add_1_1.ipynb\">proveit.number.numeral.deci.add_1_1</a></td></tr><tr><td>10</td><td>theorem</td><td></td><td><span style=\"font-size:20px;\"> &#x22A2;&nbsp;<a class=\"ProveItLink\" href=\"../../../number/numeral/deci/__pv_it/21aa4b60034093b61b7d779cdd54bc7d2d51c73e0/expr.ipynb\"><img src=\"../../../number/numeral/deci/__pv_it/21aa4b60034093b61b7d779cdd54bc7d2d51c73e0/expr.png\" style=\"display:inline;vertical-align:middle;\" /></a></span></td></tr>\n",
       "<tr><td>&nbsp;</td><td colspan=4 style-\"text-align:left\"><a class=\"ProveItLink\" href=\"../../../number/numeral/deci/_proofs_/add_2_1.ipynb\">proveit.number.numeral.deci.add_2_1</a></td></tr></table>"
      ],
      "text/plain": [
       "\tstep type\trequirements\tstatement\n",
       "0\tspecialization\t1, 2, 3\t|= (TRUE and [not](FALSE) and TRUE) = TRUE\n",
       "\t{x -> (TRUE and [not](FALSE) and TRUE)}, {y -> (TRUE and TRUE and TRUE)}, {z -> TRUE}\n",
       "1\taxiom\t\t|= forall_{x, y, z | x = y , y = z} (x = z)\n",
       "\tproveit.logic.equality.equalsTransitivity\n",
       "2\tspecialization\t4, 5\t|= (TRUE and [not](FALSE) and TRUE) = (TRUE and TRUE and TRUE)\n",
       "\t{f -> [_x_ -> (TRUE and _x_ and TRUE)]}, {x -> [not](FALSE)}, {y -> TRUE}\n",
       "3\tspecialization\t6, 7, 8, 9, 10\t|= (TRUE and TRUE and TRUE) = TRUE\n",
       "\t{m -> 3}, {A -> (TRUE , TRUE , TRUE)}\n",
       "4\taxiom\t\t|= forall_{f, x, y | x = y} (f(x) = f(y))\n",
       "\tproveit.logic.equality.substitution\n",
       "5\ttheorem\t\t|= [not](FALSE) = TRUE\n",
       "\tproveit.logic.boolean.negation.notF\n",
       "6\ttheorem\t\t|= forall_{m in Naturals} [forall_{A | A_(1) ,  ...  , A_(m)} ((A_(1) and  ...  and A_(m)) = TRUE)]\n",
       "\tproveit.logic.boolean.conjunction.trueEval\n",
       "7\ttheorem\t\t|= 3 in Naturals\n",
       "\tproveit.number.numeral.deci.nat3\n",
       "8\taxiom\t\t|= TRUE\n",
       "\tproveit.logic.boolean.trueAxiom\n",
       "9\ttheorem\t\t|= (1 + 1) = 2\n",
       "\tproveit.number.numeral.deci.add_1_1\n",
       "10\ttheorem\t\t|= (2 + 1) = 3\n",
       "\tproveit.number.numeral.deci.add_2_1"
      ]
     },
     "execution_count": 19,
     "metadata": {},
     "output_type": "execute_result"
    }
   ],
   "source": [
    "And(TRUE, Not(FALSE), TRUE).evaluation().proof()"
   ]
  },
  {
   "cell_type": "code",
   "execution_count": 20,
   "metadata": {},
   "outputs": [
    {
     "data": {
      "text/html": [
       "<table><tr><th>&nbsp;</th><th>step type</th><th>requirements</th><th>statement</th></tr>\n",
       "<tr><td>0</td><td>specialization</td><td>1, 2, 3</td><td><span style=\"font-size:20px;\"> &#x22A2;&nbsp;<a class=\"ProveItLink\" href=\"__pv_it/6d6e70461d97ebfd09153883ac60fa1a6af9565f0/expr.ipynb\"><img src=\"__pv_it/6d6e70461d97ebfd09153883ac60fa1a6af9565f0/expr.png\" style=\"display:inline;vertical-align:middle;\" /></a></span></td></tr>\n",
       "<tr><td>&nbsp;</td><td colspan=4 style=\"text-align:left\"><span style=\"font-size:20px;\"><a class=\"ProveItLink\" href=\"__pv_it/24a331ef9b329def23b4570400e6024a9269e9420/expr.ipynb\"><img src=\"__pv_it/24a331ef9b329def23b4570400e6024a9269e9420/expr.png\" style=\"display:inline;vertical-align:middle;\" /></a>, <a class=\"ProveItLink\" href=\"__pv_it/aa21a569b021002d80168164ffa97eb14c3599e70/expr.ipynb\"><img src=\"__pv_it/aa21a569b021002d80168164ffa97eb14c3599e70/expr.png\" style=\"display:inline;vertical-align:middle;\" /></a>, <a class=\"ProveItLink\" href=\"__pv_it/81a641f2ce86182ac74d053677a77135842a87500/expr.ipynb\"><img src=\"__pv_it/81a641f2ce86182ac74d053677a77135842a87500/expr.png\" style=\"display:inline;vertical-align:middle;\" /></a></span></td></tr><tr><td>1</td><td>axiom</td><td></td><td><span style=\"font-size:20px;\"> &#x22A2;&nbsp;<a class=\"ProveItLink\" href=\"../../equality/__pv_it/3e27e37ba4c21dbc2950467f18d0691b4108abf10/expr.ipynb\"><img src=\"../../equality/__pv_it/3e27e37ba4c21dbc2950467f18d0691b4108abf10/expr.png\" style=\"display:inline;vertical-align:middle;\" /></a></span></td></tr>\n",
       "<tr><td>&nbsp;</td><td colspan=4 style-\"text-align:left\"><a class=\"ProveItLink\" href=\"../../equality/_axioms_.ipynb#equalsTransitivity\">proveit.logic.equality.equalsTransitivity</a></td></tr><tr><td>2</td><td>specialization</td><td>4, 5</td><td><span style=\"font-size:20px;\"> &#x22A2;&nbsp;<a class=\"ProveItLink\" href=\"__pv_it/acecd1b32acfeb620124f1ef23a200d3a46673030/expr.ipynb\"><img src=\"__pv_it/acecd1b32acfeb620124f1ef23a200d3a46673030/expr.png\" style=\"display:inline;vertical-align:middle;\" /></a></span></td></tr>\n",
       "<tr><td>&nbsp;</td><td colspan=4 style=\"text-align:left\"><span style=\"font-size:20px;\"><a class=\"ProveItLink\" href=\"__pv_it/7ae2ccc4915bab2f438e4fd7924c2e9163dc6cf20/expr.ipynb\"><img src=\"__pv_it/7ae2ccc4915bab2f438e4fd7924c2e9163dc6cf20/expr.png\" style=\"display:inline;vertical-align:middle;\" /></a>, <a class=\"ProveItLink\" href=\"__pv_it/042b8f4e59f42132da6a9bf4d7a5f29305e326d80/expr.ipynb\"><img src=\"__pv_it/042b8f4e59f42132da6a9bf4d7a5f29305e326d80/expr.png\" style=\"display:inline;vertical-align:middle;\" /></a>, <a class=\"ProveItLink\" href=\"__pv_it/b66e1088aee075b38a34ff547c137806d2c4a1cf0/expr.ipynb\"><img src=\"__pv_it/b66e1088aee075b38a34ff547c137806d2c4a1cf0/expr.png\" style=\"display:inline;vertical-align:middle;\" /></a></span></td></tr><tr><td>3</td><td>axiom</td><td></td><td><span style=\"font-size:20px;\"> &#x22A2;&nbsp;<a class=\"ProveItLink\" href=\"__pv_it/8898576b5e2da836accfecb245314d00556cd07d0/expr.ipynb\"><img src=\"__pv_it/8898576b5e2da836accfecb245314d00556cd07d0/expr.png\" style=\"display:inline;vertical-align:middle;\" /></a></span></td></tr>\n",
       "<tr><td>&nbsp;</td><td colspan=4 style-\"text-align:left\"><a class=\"ProveItLink\" href=\"_axioms_.ipynb#andTT\">proveit.logic.boolean.conjunction.andTT</a></td></tr><tr><td>4</td><td>axiom</td><td></td><td><span style=\"font-size:20px;\"> &#x22A2;&nbsp;<a class=\"ProveItLink\" href=\"../../equality/__pv_it/6ec2193ff7f2a0001aea3e112ec0ee2dddc5beb10/expr.ipynb\"><img src=\"../../equality/__pv_it/6ec2193ff7f2a0001aea3e112ec0ee2dddc5beb10/expr.png\" style=\"display:inline;vertical-align:middle;\" /></a></span></td></tr>\n",
       "<tr><td>&nbsp;</td><td colspan=4 style-\"text-align:left\"><a class=\"ProveItLink\" href=\"../../equality/_axioms_.ipynb#substitution\">proveit.logic.equality.substitution</a></td></tr><tr><td>5</td><td>axiom</td><td></td><td><span style=\"font-size:20px;\"> &#x22A2;&nbsp;<a class=\"ProveItLink\" href=\"../disjunction/__pv_it/c6a5e272e6b810bb3e810161783e4a60ed64985c0/expr.ipynb\"><img src=\"../disjunction/__pv_it/c6a5e272e6b810bb3e810161783e4a60ed64985c0/expr.png\" style=\"display:inline;vertical-align:middle;\" /></a></span></td></tr>\n",
       "<tr><td>&nbsp;</td><td colspan=4 style-\"text-align:left\"><a class=\"ProveItLink\" href=\"../disjunction/_axioms_.ipynb#orTF\">proveit.logic.boolean.disjunction.orTF</a></td></tr></table>"
      ],
      "text/plain": [
       "\tstep type\trequirements\tstatement\n",
       "0\tspecialization\t1, 2, 3\t|= (TRUE and (TRUE or FALSE)) = TRUE\n",
       "\t{x -> (TRUE and (TRUE or FALSE))}, {y -> (TRUE and TRUE)}, {z -> TRUE}\n",
       "1\taxiom\t\t|= forall_{x, y, z | x = y , y = z} (x = z)\n",
       "\tproveit.logic.equality.equalsTransitivity\n",
       "2\tspecialization\t4, 5\t|= (TRUE and (TRUE or FALSE)) = (TRUE and TRUE)\n",
       "\t{f -> [_x_ -> (TRUE and _x_)]}, {x -> (TRUE or FALSE)}, {y -> TRUE}\n",
       "3\taxiom\t\t|= (TRUE and TRUE) = TRUE\n",
       "\tproveit.logic.boolean.conjunction.andTT\n",
       "4\taxiom\t\t|= forall_{f, x, y | x = y} (f(x) = f(y))\n",
       "\tproveit.logic.equality.substitution\n",
       "5\taxiom\t\t|= (TRUE or FALSE) = TRUE\n",
       "\tproveit.logic.boolean.disjunction.orTF"
      ]
     },
     "execution_count": 20,
     "metadata": {},
     "output_type": "execute_result"
    }
   ],
   "source": [
    "And(TRUE, Or(TRUE, FALSE)).evaluation().proof()"
   ]
  },
  {
   "cell_type": "code",
   "execution_count": 21,
   "metadata": {},
   "outputs": [
    {
     "data": {
      "text/html": [
       "<table><tr><th>&nbsp;</th><th>step type</th><th>requirements</th><th>statement</th></tr>\n",
       "<tr><td>0</td><td>specialization</td><td>1, 2, 3</td><td><span style=\"font-size:20px;\"> &#x22A2;&nbsp;<a class=\"ProveItLink\" href=\"__pv_it/e5544dca52d2b72d406c63b94a5c451676d6d30c0/expr.ipynb\"><img src=\"__pv_it/e5544dca52d2b72d406c63b94a5c451676d6d30c0/expr.png\" style=\"display:inline;vertical-align:middle;\" /></a></span></td></tr>\n",
       "<tr><td>&nbsp;</td><td colspan=4 style=\"text-align:left\"><span style=\"font-size:20px;\"><a class=\"ProveItLink\" href=\"__pv_it/b1622afa8d5e66280d790c2e80fae8e355ecbe510/expr.ipynb\"><img src=\"__pv_it/b1622afa8d5e66280d790c2e80fae8e355ecbe510/expr.png\" style=\"display:inline;vertical-align:middle;\" /></a>, <a class=\"ProveItLink\" href=\"__pv_it/612f32cdea269734cf776224bd1beabc290091ee0/expr.ipynb\"><img src=\"__pv_it/612f32cdea269734cf776224bd1beabc290091ee0/expr.png\" style=\"display:inline;vertical-align:middle;\" /></a>, <a class=\"ProveItLink\" href=\"__pv_it/cec685c5f22841221ec3812f18265c2706e8b7240/expr.ipynb\"><img src=\"__pv_it/cec685c5f22841221ec3812f18265c2706e8b7240/expr.png\" style=\"display:inline;vertical-align:middle;\" /></a></span></td></tr><tr><td>1</td><td>axiom</td><td></td><td><span style=\"font-size:20px;\"> &#x22A2;&nbsp;<a class=\"ProveItLink\" href=\"../../equality/__pv_it/3e27e37ba4c21dbc2950467f18d0691b4108abf10/expr.ipynb\"><img src=\"../../equality/__pv_it/3e27e37ba4c21dbc2950467f18d0691b4108abf10/expr.png\" style=\"display:inline;vertical-align:middle;\" /></a></span></td></tr>\n",
       "<tr><td>&nbsp;</td><td colspan=4 style-\"text-align:left\"><a class=\"ProveItLink\" href=\"../../equality/_axioms_.ipynb#equalsTransitivity\">proveit.logic.equality.equalsTransitivity</a></td></tr><tr><td>2</td><td>specialization</td><td>4, 5</td><td><span style=\"font-size:20px;\"> &#x22A2;&nbsp;<a class=\"ProveItLink\" href=\"__pv_it/93e3ce0427b51baed73655aaa523308e9363311d0/expr.ipynb\"><img src=\"__pv_it/93e3ce0427b51baed73655aaa523308e9363311d0/expr.png\" style=\"display:inline;vertical-align:middle;\" /></a></span></td></tr>\n",
       "<tr><td>&nbsp;</td><td colspan=4 style=\"text-align:left\"><span style=\"font-size:20px;\"><a class=\"ProveItLink\" href=\"__pv_it/04bb272564e366ba0afa1c0753c1a21a1b7533830/expr.ipynb\"><img src=\"__pv_it/04bb272564e366ba0afa1c0753c1a21a1b7533830/expr.png\" style=\"display:inline;vertical-align:middle;\" /></a>, <a class=\"ProveItLink\" href=\"__pv_it/042b8f4e59f42132da6a9bf4d7a5f29305e326d80/expr.ipynb\"><img src=\"__pv_it/042b8f4e59f42132da6a9bf4d7a5f29305e326d80/expr.png\" style=\"display:inline;vertical-align:middle;\" /></a>, <a class=\"ProveItLink\" href=\"__pv_it/b66e1088aee075b38a34ff547c137806d2c4a1cf0/expr.ipynb\"><img src=\"__pv_it/b66e1088aee075b38a34ff547c137806d2c4a1cf0/expr.png\" style=\"display:inline;vertical-align:middle;\" /></a></span></td></tr><tr><td>3</td><td>specialization</td><td>6, 7, 8, 9, 10, 11, 12</td><td><span style=\"font-size:20px;\"> &#x22A2;&nbsp;<a class=\"ProveItLink\" href=\"__pv_it/fb5d8433ae91db5c5a6bbe02c23aeff21834753d0/expr.ipynb\"><img src=\"__pv_it/fb5d8433ae91db5c5a6bbe02c23aeff21834753d0/expr.png\" style=\"display:inline;vertical-align:middle;\" /></a></span></td></tr>\n",
       "<tr><td>&nbsp;</td><td colspan=4 style=\"text-align:left\"><span style=\"font-size:20px;\"><a class=\"ProveItLink\" href=\"__pv_it/70b832c45338ae00c087f745aca552af1628b23f0/expr.ipynb\"><img src=\"__pv_it/70b832c45338ae00c087f745aca552af1628b23f0/expr.png\" style=\"display:inline;vertical-align:middle;\" /></a>, <a class=\"ProveItLink\" href=\"__pv_it/33a8af62e37711032c816e3d18b9e408573642a60/expr.ipynb\"><img src=\"__pv_it/33a8af62e37711032c816e3d18b9e408573642a60/expr.png\" style=\"display:inline;vertical-align:middle;\" /></a>, <a class=\"ProveItLink\" href=\"__pv_it/d8a3081440ed5c8bffb39b1d2331f8ab8f031b910/expr.ipynb\"><img src=\"__pv_it/d8a3081440ed5c8bffb39b1d2331f8ab8f031b910/expr.png\" style=\"display:inline;vertical-align:middle;\" /></a>, <a class=\"ProveItLink\" href=\"__pv_it/86606a70b79d5b3d21fbbaa78841023867a777d10/expr.ipynb\"><img src=\"__pv_it/86606a70b79d5b3d21fbbaa78841023867a777d10/expr.png\" style=\"display:inline;vertical-align:middle;\" /></a></span></td></tr><tr><td>4</td><td>axiom</td><td></td><td><span style=\"font-size:20px;\"> &#x22A2;&nbsp;<a class=\"ProveItLink\" href=\"../../equality/__pv_it/6ec2193ff7f2a0001aea3e112ec0ee2dddc5beb10/expr.ipynb\"><img src=\"../../equality/__pv_it/6ec2193ff7f2a0001aea3e112ec0ee2dddc5beb10/expr.png\" style=\"display:inline;vertical-align:middle;\" /></a></span></td></tr>\n",
       "<tr><td>&nbsp;</td><td colspan=4 style-\"text-align:left\"><a class=\"ProveItLink\" href=\"../../equality/_axioms_.ipynb#substitution\">proveit.logic.equality.substitution</a></td></tr><tr><td>5</td><td>axiom</td><td></td><td><span style=\"font-size:20px;\"> &#x22A2;&nbsp;<a class=\"ProveItLink\" href=\"../disjunction/__pv_it/c6a5e272e6b810bb3e810161783e4a60ed64985c0/expr.ipynb\"><img src=\"../disjunction/__pv_it/c6a5e272e6b810bb3e810161783e4a60ed64985c0/expr.png\" style=\"display:inline;vertical-align:middle;\" /></a></span></td></tr>\n",
       "<tr><td>&nbsp;</td><td colspan=4 style-\"text-align:left\"><a class=\"ProveItLink\" href=\"../disjunction/_axioms_.ipynb#orTF\">proveit.logic.boolean.disjunction.orTF</a></td></tr><tr><td>6</td><td>theorem</td><td></td><td><span style=\"font-size:20px;\"> &#x22A2;&nbsp;<a class=\"ProveItLink\" href=\"__pv_it/9061daa0c23b720b7c727bf8b12c9039567de5c60/expr.ipynb\"><img src=\"__pv_it/9061daa0c23b720b7c727bf8b12c9039567de5c60/expr.png\" style=\"display:inline;vertical-align:middle;\" /></a></span></td></tr>\n",
       "<tr><td>&nbsp;</td><td colspan=4 style-\"text-align:left\"><a class=\"ProveItLink\" href=\"_proofs_/falseEval.ipynb\">proveit.logic.boolean.conjunction.falseEval</a></td></tr><tr><td>7</td><td>theorem</td><td></td><td><span style=\"font-size:20px;\"> &#x22A2;&nbsp;<a class=\"ProveItLink\" href=\"../../../number/numeral/deci/__pv_it/286f0443dba55bdb259c90cef1db0ca273fac95e0/expr.ipynb\"><img src=\"../../../number/numeral/deci/__pv_it/286f0443dba55bdb259c90cef1db0ca273fac95e0/expr.png\" style=\"display:inline;vertical-align:middle;\" /></a></span></td></tr>\n",
       "<tr><td>&nbsp;</td><td colspan=4 style-\"text-align:left\"><a class=\"ProveItLink\" href=\"../../../number/numeral/deci/_proofs_/nat2.ipynb\">proveit.number.numeral.deci.nat2</a></td></tr><tr><td>8</td><td>theorem</td><td></td><td><span style=\"font-size:20px;\"> &#x22A2;&nbsp;<a class=\"ProveItLink\" href=\"../../../number/sets/integer/__pv_it/50688835e4f8f7c7ea93ceb53b4c2bc2c084e66a0/expr.ipynb\"><img src=\"../../../number/sets/integer/__pv_it/50688835e4f8f7c7ea93ceb53b4c2bc2c084e66a0/expr.png\" style=\"display:inline;vertical-align:middle;\" /></a></span></td></tr>\n",
       "<tr><td>&nbsp;</td><td colspan=4 style-\"text-align:left\"><a class=\"ProveItLink\" href=\"../../../number/sets/integer/_proofs_/zeroInNats.ipynb\">proveit.number.sets.integer.zeroInNats</a></td></tr><tr><td>9</td><td>specialization</td><td>13, 14</td><td><span style=\"font-size:20px;\"> &#x22A2;&nbsp;<a class=\"ProveItLink\" href=\"__pv_it/e54eb18f756cfa320620025005bca9857b5b3a400/expr.ipynb\"><img src=\"__pv_it/e54eb18f756cfa320620025005bca9857b5b3a400/expr.png\" style=\"display:inline;vertical-align:middle;\" /></a></span></td></tr>\n",
       "<tr><td>&nbsp;</td><td colspan=4 style=\"text-align:left\"><span style=\"font-size:20px;\"><a class=\"ProveItLink\" href=\"__pv_it/dbf074ee75b2f560d471a8a594007c95161090ad0/expr.ipynb\"><img src=\"__pv_it/dbf074ee75b2f560d471a8a594007c95161090ad0/expr.png\" style=\"display:inline;vertical-align:middle;\" /></a>, <a class=\"ProveItLink\" href=\"__pv_it/08464795f7dc65b032a7f58315dac8a9bb016ec40/expr.ipynb\"><img src=\"__pv_it/08464795f7dc65b032a7f58315dac8a9bb016ec40/expr.png\" style=\"display:inline;vertical-align:middle;\" /></a>, <a class=\"ProveItLink\" href=\"__pv_it/b11aa43ca78f74a04338982dfe76c13057c3451b0/expr.ipynb\"><img src=\"__pv_it/b11aa43ca78f74a04338982dfe76c13057c3451b0/expr.png\" style=\"display:inline;vertical-align:middle;\" /></a></span></td></tr><tr><td>10</td><td>specialization</td><td>15, 16</td><td><span style=\"font-size:20px;\"> &#x22A2;&nbsp;<a class=\"ProveItLink\" href=\"__pv_it/3b5bb8ace1d2307c19e917b3b7f91608cc78254d0/expr.ipynb\"><img src=\"__pv_it/3b5bb8ace1d2307c19e917b3b7f91608cc78254d0/expr.png\" style=\"display:inline;vertical-align:middle;\" /></a></span></td></tr>\n",
       "<tr><td>&nbsp;</td><td colspan=4 style=\"text-align:left\"><span style=\"font-size:20px;\"><a class=\"ProveItLink\" href=\"__pv_it/02b92c1635cb9409c0907ff705779d34a1a39aaa0/expr.ipynb\"><img src=\"__pv_it/02b92c1635cb9409c0907ff705779d34a1a39aaa0/expr.png\" style=\"display:inline;vertical-align:middle;\" /></a>, <a class=\"ProveItLink\" href=\"__pv_it/dbf074ee75b2f560d471a8a594007c95161090ad0/expr.ipynb\"><img src=\"__pv_it/dbf074ee75b2f560d471a8a594007c95161090ad0/expr.png\" style=\"display:inline;vertical-align:middle;\" /></a></span></td></tr><tr><td>11</td><td>theorem</td><td></td><td><span style=\"font-size:20px;\"> &#x22A2;&nbsp;<a class=\"ProveItLink\" href=\"../../../number/numeral/deci/__pv_it/c5d3f2ba07647aec518bec1929b16561d1a340400/expr.ipynb\"><img src=\"../../../number/numeral/deci/__pv_it/c5d3f2ba07647aec518bec1929b16561d1a340400/expr.png\" style=\"display:inline;vertical-align:middle;\" /></a></span></td></tr>\n",
       "<tr><td>&nbsp;</td><td colspan=4 style-\"text-align:left\"><a class=\"ProveItLink\" href=\"../../../number/numeral/deci/_proofs_/add_1_1.ipynb\">proveit.number.numeral.deci.add_1_1</a></td></tr><tr><td>12</td><td>theorem</td><td></td><td><span style=\"font-size:20px;\"> &#x22A2;&nbsp;<a class=\"ProveItLink\" href=\"../../../number/numeral/deci/__pv_it/d060bd26c883154e5b471568d486c4165d01a0d00/expr.ipynb\"><img src=\"../../../number/numeral/deci/__pv_it/d060bd26c883154e5b471568d486c4165d01a0d00/expr.png\" style=\"display:inline;vertical-align:middle;\" /></a></span></td></tr>\n",
       "<tr><td>&nbsp;</td><td colspan=4 style-\"text-align:left\"><a class=\"ProveItLink\" href=\"../../../number/numeral/deci/_proofs_/less_0_1.ipynb\">proveit.number.numeral.deci.less_0_1</a></td></tr><tr><td>13</td><td>theorem</td><td></td><td><span style=\"font-size:20px;\"> &#x22A2;&nbsp;<a class=\"ProveItLink\" href=\"../../set_theory/membership/__pv_it/9ac424c71798aca56b25ebe33a7a41dbaa332c490/expr.ipynb\"><img src=\"../../set_theory/membership/__pv_it/9ac424c71798aca56b25ebe33a7a41dbaa332c490/expr.png\" style=\"display:inline;vertical-align:middle;\" /></a></span></td></tr>\n",
       "<tr><td>&nbsp;</td><td colspan=4 style-\"text-align:left\"><a class=\"ProveItLink\" href=\"../../set_theory/membership/_proofs_/exp_set_2.ipynb\">proveit.logic.set_theory.membership.exp_set_2</a></td></tr><tr><td>14</td><td>theorem</td><td></td><td><span style=\"font-size:20px;\"> &#x22A2;&nbsp;<a class=\"ProveItLink\" href=\"../__pv_it/3e7350f116816f72fa422609af12e912bbd1845d0/expr.ipynb\"><img src=\"../__pv_it/3e7350f116816f72fa422609af12e912bbd1845d0/expr.png\" style=\"display:inline;vertical-align:middle;\" /></a></span></td></tr>\n",
       "<tr><td>&nbsp;</td><td colspan=4 style-\"text-align:left\"><a class=\"ProveItLink\" href=\"../_proofs_/trueInBool.ipynb\">proveit.logic.boolean.trueInBool</a></td></tr><tr><td>15</td><td>theorem</td><td></td><td><span style=\"font-size:20px;\"> &#x22A2;&nbsp;<a class=\"ProveItLink\" href=\"../../set_theory/membership/__pv_it/f96b42982943c9b9cb27fd0985ee8fe4235d65d30/expr.ipynb\"><img src=\"../../set_theory/membership/__pv_it/f96b42982943c9b9cb27fd0985ee8fe4235d65d30/expr.png\" style=\"display:inline;vertical-align:middle;\" /></a></span></td></tr>\n",
       "<tr><td>&nbsp;</td><td colspan=4 style-\"text-align:left\"><a class=\"ProveItLink\" href=\"../../set_theory/membership/_proofs_/exp_set_0.ipynb\">proveit.logic.set_theory.membership.exp_set_0</a></td></tr><tr><td>16</td><td>axiom</td><td></td><td><span style=\"font-size:20px;\"> &#x22A2;&nbsp;<a class=\"ProveItLink\" href=\"../../../number/sets/integer/__pv_it/ea45fc51e98adc6f747cb4e1e0e06e2f77959eee0/expr.ipynb\"><img src=\"../../../number/sets/integer/__pv_it/ea45fc51e98adc6f747cb4e1e0e06e2f77959eee0/expr.png\" style=\"display:inline;vertical-align:middle;\" /></a></span></td></tr>\n",
       "<tr><td>&nbsp;</td><td colspan=4 style-\"text-align:left\"><a class=\"ProveItLink\" href=\"../../../number/sets/integer/_axioms_.ipynb#listLen0\">proveit.number.sets.integer.listLen0</a></td></tr></table>"
      ],
      "text/plain": [
       "\tstep type\trequirements\tstatement\n",
       "0\tspecialization\t1, 2, 3\t|= (TRUE and (TRUE or FALSE) and FALSE) = FALSE\n",
       "\t{x -> (TRUE and (TRUE or FALSE) and FALSE)}, {y -> (TRUE and TRUE and FALSE)}, {z -> FALSE}\n",
       "1\taxiom\t\t|= forall_{x, y, z | x = y , y = z} (x = z)\n",
       "\tproveit.logic.equality.equalsTransitivity\n",
       "2\tspecialization\t4, 5\t|= (TRUE and (TRUE or FALSE) and FALSE) = (TRUE and TRUE and FALSE)\n",
       "\t{f -> [_x_ -> (TRUE and _x_ and FALSE)]}, {x -> (TRUE or FALSE)}, {y -> TRUE}\n",
       "3\tspecialization\t6, 7, 8, 9, 10, 11, 12\t|= (TRUE and TRUE and FALSE) = FALSE\n",
       "\t{m -> 2}, {n -> 0}, {A -> (TRUE , TRUE)}, {C -> ()}\n",
       "4\taxiom\t\t|= forall_{f, x, y | x = y} (f(x) = f(y))\n",
       "\tproveit.logic.equality.substitution\n",
       "5\taxiom\t\t|= (TRUE or FALSE) = TRUE\n",
       "\tproveit.logic.boolean.disjunction.orTF\n",
       "6\ttheorem\t\t|= forall_{m, n in Naturals} [forall_{(A, C) in BOOLEANS^{m} * BOOLEANS^{n}} ((A_(1) and  ...  and A_(m) and FALSE and C_(1) and  ...  and C_(n)) = FALSE)]\n",
       "\tproveit.logic.boolean.conjunction.falseEval\n",
       "7\ttheorem\t\t|= 2 in Naturals\n",
       "\tproveit.number.numeral.deci.nat2\n",
       "8\ttheorem\t\t|= 0 in Naturals\n",
       "\tproveit.number.sets.integer.zeroInNats\n",
       "9\tspecialization\t13, 14\t|= (TRUE , TRUE) in BOOLEANS^{2}\n",
       "\t{S -> BOOLEANS}, {a -> TRUE}, {b -> TRUE}\n",
       "10\tspecialization\t15, 16\t|= () in BOOLEANS^{0}\n",
       "\t{x -> ()}, {S -> BOOLEANS}\n",
       "11\ttheorem\t\t|= (1 + 1) = 2\n",
       "\tproveit.number.numeral.deci.add_1_1\n",
       "12\ttheorem\t\t|= 0 < 1\n",
       "\tproveit.number.numeral.deci.less_0_1\n",
       "13\ttheorem\t\t|= forall_{S} [forall_{a, b in S} ((a , b) in S^{2})]\n",
       "\tproveit.logic.set_theory.membership.exp_set_2\n",
       "14\ttheorem\t\t|= TRUE in BOOLEANS\n",
       "\tproveit.logic.boolean.trueInBool\n",
       "15\ttheorem\t\t|= forall_{x, S | |x| = 0} (x in S^{0})\n",
       "\tproveit.logic.set_theory.membership.exp_set_0\n",
       "16\taxiom\t\t|= |()| = 0\n",
       "\tproveit.number.sets.integer.listLen0"
      ]
     },
     "execution_count": 21,
     "metadata": {},
     "output_type": "execute_result"
    }
   ],
   "source": [
    "And(TRUE, Or(TRUE, FALSE), FALSE).evaluation().proof()"
   ]
  },
  {
   "cell_type": "code",
   "execution_count": 22,
   "metadata": {},
   "outputs": [],
   "source": [
    "%end demonstrations"
   ]
  },
  {
   "cell_type": "code",
   "execution_count": null,
   "metadata": {},
   "outputs": [],
   "source": []
  }
 ],
 "metadata": {
  "kernelspec": {
   "display_name": "Python 3",
   "language": "python",
   "name": "python3"
  },
  "language_info": {
   "codemirror_mode": {
    "name": "ipython",
    "version": 3
   },
   "file_extension": ".py",
   "mimetype": "text/x-python",
   "name": "python",
   "nbconvert_exporter": "python",
   "pygments_lexer": "ipython3",
   "version": "3.7.0"
  }
 },
 "nbformat": 4,
 "nbformat_minor": 1
}
