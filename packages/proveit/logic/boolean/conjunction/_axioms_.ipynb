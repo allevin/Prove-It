{
 "cells": [
  {
   "cell_type": "markdown",
   "metadata": {},
   "source": [
    "Axioms for context <a href=\"_context_.ipynb\" class=\"ProveItLink\">proveit.logic.boolean.conjunction</a>\n",
    "========"
   ]
  },
  {
   "cell_type": "code",
   "execution_count": 1,
   "metadata": {},
   "outputs": [],
   "source": [
    "from proveit.logic import Equals, And, TRUE, FALSE, Forall, inBool\n",
    "from proveit._common_ import A, B, n, BB\n",
    "from proveit.logic._common_ import iterB1n\n",
    "from proveit.number import NaturalsPos"
   ]
  },
  {
   "cell_type": "code",
   "execution_count": 2,
   "metadata": {},
   "outputs": [
    {
     "name": "stdout",
     "output_type": "stream",
     "text": [
      "Defining axioms for context 'proveit.logic.boolean.conjunction'\n",
      "Subsequent end-of-cell assignments will define axioms\n",
      "%end_axioms will finalize the definitions\n"
     ]
    }
   ],
   "source": [
    "%begin axioms"
   ]
  },
  {
   "cell_type": "markdown",
   "metadata": {},
   "source": [
    "### Truth table definitions:"
   ]
  },
  {
   "cell_type": "code",
   "execution_count": 3,
   "metadata": {},
   "outputs": [
    {
     "data": {
      "text/html": [
       "<strong id=\"andTT\">andTT:</strong> <a class=\"ProveItLink\" href=\"__pv_it/51838eaba66011860e5e0b82c5dd05a6c42529320/expr.ipynb\"><img src=\"data:image/png;base64,iVBORw0KGgoAAAANSUhEUgAAAHAAAAAVBAMAAABs93eRAAAAMFBMVEX////c3NwiIiJERESqqqqY\n",
       "mJh2dnZmZmYQEBDu7u4yMjJUVFTMzMyIiIi6uroAAAAs73DqAAAAAXRSTlMAQObYZgAAAQRJREFU\n",
       "OMtjYCAb8F3AJxuHW+o0A7sSGBggixaBhZQZ2A+gq4fJMKwE8XgKYOKME2Cs42ByARa7wDK8F1A1\n",
       "chWgagzDpZFjAqrGw5qoGmfg0viKAVXjvruoGpkdcGgsQ9XIuYAJVSNbAQ6NS1E1sgWwO6BoZAGH\n",
       "TtUqEFiNLNOHqpGJgXEBika+Bhw2/kPVGMvAsAdFI88H4jRqglIEURpbUDSyAGkuAUynwpMLQsYU\n",
       "RSNIE0sBskbWBThsTEfReBhEKBAVHY8gGhOg0Q8ioEngGMQNDzA1gmU4BJCFwKr4kEVm4MpVrAn4\n",
       "s2suTpmVePVxLsApJY1XI7cATilGvEXHHVwSAK+LR/LZCB/YAAAAAElFTkSuQmCC\n",
       "\" style=\"display:inline;vertical-align:middle;\" /></a><br>"
      ],
      "text/plain": [
       "andTT: (TRUE and TRUE) = TRUE"
      ]
     },
     "execution_count": 3,
     "metadata": {},
     "output_type": "execute_result"
    }
   ],
   "source": [
    "andTT = Equals(And(TRUE, TRUE), TRUE)"
   ]
  },
  {
   "cell_type": "code",
   "execution_count": 4,
   "metadata": {},
   "outputs": [
    {
     "data": {
      "text/html": [
       "<strong id=\"andTF\">andTF:</strong> <a class=\"ProveItLink\" href=\"__pv_it/4e01d34fe78a06d15877c1fac00531c6a27bf80a0/expr.ipynb\"><img src=\"data:image/png;base64,iVBORw0KGgoAAAANSUhEUgAAAHAAAAAVBAMAAABs93eRAAAAMFBMVEX////c3NwiIiJERESqqqqY\n",
       "mJh2dnZmZmYQEBDu7u4yMjJUVFTMzMyIiIi6uroAAAAs73DqAAAAAXRSTlMAQObYZgAAAQZJREFU\n",
       "OMtjYCAb8F3AJxuHW+o0A7sSGBigSciCCPYDWLSAZRhWggieApgg4wQY6ziYXIBFI1iG9wKqRq4C\n",
       "VI1huDRyTEDVeFgTVeMMXBpfMaBq3HcXVSOzAw6NZagaORcwoWpkK8ChcSmqRrYAdgcUjSzg0Kla\n",
       "BQKrkWX6UDUyMTAuQNHI14DDxn+oGmMZGPagaOT5QJxGTVCKIEpjC4pGFiDNJYDp1CJw2lJG1miK\n",
       "ohGkiaUAWSPrAhw2pqNoPAwiFIiKjkcQjQnQ6AcRdyFu0wC7jesBmi6YDIcAsihYFR+yyAxcuYo1\n",
       "AX92zcUpsxKvPs4FOKWk8WrkFsApxYi36LiDSwIAn6tGrLj25S4AAAAASUVORK5CYII=\n",
       "\" style=\"display:inline;vertical-align:middle;\" /></a><br>"
      ],
      "text/plain": [
       "andTF: (TRUE and FALSE) = FALSE"
      ]
     },
     "execution_count": 4,
     "metadata": {},
     "output_type": "execute_result"
    }
   ],
   "source": [
    "andTF = Equals(And(TRUE, FALSE), FALSE)"
   ]
  },
  {
   "cell_type": "code",
   "execution_count": 5,
   "metadata": {},
   "outputs": [
    {
     "data": {
      "text/html": [
       "<strong id=\"andFT\">andFT:</strong> <a class=\"ProveItLink\" href=\"__pv_it/00a36dba59af72bf2e5558ba96855ddd2d1315380/expr.ipynb\"><img src=\"data:image/png;base64,iVBORw0KGgoAAAANSUhEUgAAAHAAAAAVBAMAAABs93eRAAAAMFBMVEX////c3NwiIiJERESqqqqY\n",
       "mJh2dnZmZmYQEBDu7u4yMjJUVFTMzMyIiIi6uroAAAAs73DqAAAAAXRSTlMAQObYZgAAAQpJREFU\n",
       "OMtjYCAb8F3AJxuHW+o0iGBE112kBALKDOwHsGiRBZMrQQRPAUyQcQKMdRxMLsCiESzDewFVI1cB\n",
       "qsYwXBo5JqBqPKyJqnEGLo2vGFA17ruLqpHZAYfGMlSNnAuYUDWyFeDQuBRVI1sAuwOKRhZw6FSt\n",
       "AoHVyDJ9qBqZGBgXoGjka8Bh4z9UjbEMDHtQNPJ8IE6jJjRFENbYgqKRBUhzCWA6FZaQkGRMUTSC\n",
       "NLEUIGtkXYDDxnQUjYdBhAJR0fGIgYEd6IomJSUDUPSDhKBJ4BjEDQ8wk78GyNUcAsiiYFV8yCIz\n",
       "cOUq1gT82TUXp8xKvPo4F+CUksarkVsApxQj3qLjDi4JACAySBRuBPpwAAAAAElFTkSuQmCC\n",
       "\" style=\"display:inline;vertical-align:middle;\" /></a><br>"
      ],
      "text/plain": [
       "andFT: (FALSE and TRUE) = FALSE"
      ]
     },
     "execution_count": 5,
     "metadata": {},
     "output_type": "execute_result"
    }
   ],
   "source": [
    "andFT = Equals(And(FALSE, TRUE), FALSE)"
   ]
  },
  {
   "cell_type": "code",
   "execution_count": 6,
   "metadata": {},
   "outputs": [
    {
     "data": {
      "text/html": [
       "<strong id=\"andFF\">andFF:</strong> <a class=\"ProveItLink\" href=\"__pv_it/ef41cb636cc6079ee47a838c2986312582f13c980/expr.ipynb\"><img src=\"data:image/png;base64,iVBORw0KGgoAAAANSUhEUgAAAHAAAAAVBAMAAABs93eRAAAAMFBMVEX////c3NwiIiJERESqqqqY\n",
       "mJh2dnZmZmYQEBDu7u4yMjJUVFTMzMyIiIi6uroAAAAs73DqAAAAAXRSTlMAQObYZgAAAQhJREFU\n",
       "OMtjYCAb8F3AJxuHW+o0iGDEolsWRLAfYMAhw7ASRPAUwAQZJ8BYx8HkAiwawTK8F1A1chWgagzD\n",
       "pZFjAqrGw5qoGmfg0viKAVXjvruoGpkdcGgsQ9XIuYAJVSNbAQ6NS1E1sgWwO6BoZAGHTtUqEFiN\n",
       "LNOHqpGJgXEBika+Bhw2/kPVGMvAsAdFI88H4jRqQlMEYY0tKBpZgDSXAKZTi5RAQBlZoymKRpAm\n",
       "lgJkjawLcNiYjqLxMIhQICo6HgETMtAVTUpKBqDoBwndhbhNA+w2rgdoumAyHALIomBVfMgiM3Dl\n",
       "KtYE/Nk1F6fMSrz6OBfglJLGq5FbAKcUI96i4w4uCQAP+0dxtDeYeAAAAABJRU5ErkJggg==\n",
       "\" style=\"display:inline;vertical-align:middle;\" /></a><br>"
      ],
      "text/plain": [
       "andFF: (FALSE and FALSE) = FALSE"
      ]
     },
     "execution_count": 6,
     "metadata": {},
     "output_type": "execute_result"
    }
   ],
   "source": [
    "andFF = Equals(And(FALSE, FALSE), FALSE)"
   ]
  },
  {
   "cell_type": "markdown",
   "metadata": {},
   "source": [
    "### Conjunction is only well-defined when each input is a Boolean:"
   ]
  },
  {
   "cell_type": "code",
   "execution_count": 7,
   "metadata": {},
   "outputs": [
    {
     "data": {
      "text/html": [
       "<strong id=\"leftInBool\">leftInBool:</strong> <a class=\"ProveItLink\" href=\"__pv_it/a545e6bb86c1a7fe2366ae6609a03288df7054210/expr.ipynb\"><img src=\"data:image/png;base64,iVBORw0KGgoAAAANSUhEUgAAANQAAAAXBAMAAACBjHwxAAAAMFBMVEX///8QEBC6urrMzMxUVFRm\n",
       "ZmZERETc3NwyMjKqqqp2dnaIiIiYmJgiIiLu7u4AAAAU9Wx4AAAAAXRSTlMAQObYZgAAA2JJREFU\n",
       "SMe9lk1IVFEUx//z5uPpe8/nLILaFCNILax0YRRGOJSYi8gJndwUTUUjQeksQqmQpkAkKJ1FSpCL\n",
       "IaishUySbmbRtCisiKaFETXSLAyEsC9xLDTr3Hvf9MaZaRYx9ODdcz/P79xzzr3vAf/vSRZNU1Wh\n",
       "Qc0FxFnleRFIVrcQ8dXdI6mBi69DQAtwl7X7i4AqEf4p+ZLV76vS++9RP9BFLdlXBFRUiBcrOSiM\n",
       "EUcLc2PsoSKgNvBSHlwUzY9Xp9+kUcO2JHQntDvd3T1FIElBLlT1mwjZlWTGrpjrTgIpv/9tARVy\n",
       "TW5faZ559jAXW0uXuexKmg60JjpI3gL2AO28r4+XQwveRq5dEjPP8VgH0pBOb+txWMN5siLGSt1l\n",
       "XeLNdjNWW95/jZC8DlRC53vXxM41J1QnqziMmax46UovfATcB24arcmRkUNG1eIS9skLHOnLTIvo\n",
       "EMkKoAwqN+iD2LndDWnRRJUyg/QjbAbfSitQHcAs6xz3xlRFHzOsKOeytqEhxZHrp6fNtHBItLae\n",
       "Ahkr434dneIjZRHY4ybKwVynzHko0AnWfgccBmzk4olNn5KqgtFYJoqKdRnnOY1iviGUHqzlgxE/\n",
       "H/lcg8mAibKwYqeDpjr4VuahUUzVCDQPyzdFGjfibwkZ+fKKOzCeg6pgEdzNemzMWnqqow86YKJ2\n",
       "sMLN9lmnkf3SUrSRdEtudvoJZT+QMDQ62O7O0jvAm/tWoZgDJ6k+yC14iofizqLQJ01UJcuUkEq3\n",
       "TQcoe5QgNDqr1iDqOEpBS0RoVDwQ+dXJV8+5MlCPJ0Syw8IjP+UVc06QD0Mm6hpb5j24AquHrIHD\n",
       "A/0HR+3y+/0RQoWNxJfikI9+D+DJr15+HHtr/ly3p9cwhZeY0QxhD6CeD5Ki6hoTtZHeNljnQXcL\n",
       "9ZSHIM2TXh9mjF2lUVibdcybjAw0Ht2Zrm0mNTG5D/IK5KmMWM2RXorCMraR4hAuJNHj4XenLSBQ\n",
       "bYYD8azwxaWk582kIDcnrMsYWfA2hTJQZUm92YczP2P7mduVAW/rZeYDF/Rj/AjfPpX1EfnbM5v9\n",
       "rcyoC5SavvQDxivUMjMpVqsuS3dB1N6s9vYclJ73U3YjX+f5QiQ1+9aO5aAwnG+hu7j/NzbDp3k+\n",
       "Iso//fv8BrhD2ugfshjdAAAAAElFTkSuQmCC\n",
       "\" style=\"display:inline;vertical-align:middle;\" /></a><br>"
      ],
      "text/plain": [
       "leftInBool: forall_{A, B | (A and B) in BOOLEANS} (A in BOOLEANS)"
      ]
     },
     "execution_count": 7,
     "metadata": {},
     "output_type": "execute_result"
    }
   ],
   "source": [
    "leftInBool = Forall((A, B), inBool(A), conditions=[inBool(And(A, B))]) "
   ]
  },
  {
   "cell_type": "code",
   "execution_count": 8,
   "metadata": {},
   "outputs": [
    {
     "data": {
      "text/html": [
       "<strong id=\"rightInBool\">rightInBool:</strong> <a class=\"ProveItLink\" href=\"__pv_it/5dbd186f0302c14bf468a9de602795b9ae77c22f0/expr.ipynb\"><img src=\"data:image/png;base64,iVBORw0KGgoAAAANSUhEUgAAANUAAAAXBAMAAABuThcPAAAAMFBMVEX///8QEBC6urrMzMxUVFRm\n",
       "ZmZERETc3NwyMjKqqqp2dnaIiIiYmJgiIiLu7u4AAAAU9Wx4AAAAAXRSTlMAQObYZgAAAy1JREFU\n",
       "SMe9VktoE1EUPZnJZNqZadqdglSyKBZUMAtFEUqDllJB2opEFyqOgqmC1KxaUcQgSF34yULd6CK4\n",
       "0IhQBrVC6aKjC6kfsF0URBpIoUJRqiL9qBTr+80nacxCBh/My7x7Xu5597x73xvgP7ZiYJ42VUVf\n",
       "kGecvrwJgEpOAEbXfFv7pRKzduPkj8ZTgBIHHlLD9QC4aqhCIRM4GiuxRyRr9lMOyAB9ZKiaAXCN\n",
       "0K7VIk+inEuPEaLXfDlKNgCu9bQbTQPvcmz8+VrhveCqtTuBaSLxg/7+CwFQSRnaHyPPBEs3+WrR\n",
       "i6uZCBchAS2mUh+q+FDjq221FeYpLJp54GwvG/cVPQ1bXpKB1g3sBnqYcYD1txeS7cy9xKee82EO\n",
       "LOcqpIZNg5kfGZri4x5vvwor6+gCSeBNiLLwje8MMhqgN7A5fKrpw1z4nhiN5fOHxWuIZp++BMyx\n",
       "1Iia/twYJiOJeK2DTpeEj8tciwSkJY+r1nIxzYNnqbehpK1r0cciw+vpb4T405kfqbFQcHMD5kYS\n",
       "8zeC2XVM2sFJ9p86C8q4xxVJu1iL7cJhovKz5i9FXcOg7eOqp/X8y6lsNy6YEc4VzWxloJVi0Nc4\n",
       "xtIeV8jDejMurFswuqlmmjQkciBE66aVEId/Mg3Hy7mohujZRU1hHGHQlpGnPJE41w4Xk3NvXVhK\n",
       "oIYCurJvynFpi/K6yHYfe0u4iIYGtd9iS3iFUQblgedFj6vJxSLFGheWM9jJuDTst8S5183LS17L\n",
       "A52LeVzGIVNMCNHZ0cnkGTbpBNEp63HddLFtMLIOTLhaUqmURbhyIv8lsuIDK21tV8T+qZfjztm7\n",
       "OLGHFgUlNyiHkkYrA4naW+Ie1wYX62T5z2HJxIyIy+HCmvKC7+B56LRp920zSSJbHYD6G+qkb7/m\n",
       "HEwmEgw7sJFDOM25DgoN6dlatT1yXmYWoXZNycvILyQ7sj4uUg8cCxepScBKDNHjrJbvny65U/7e\n",
       "+IHha4b/LmC97lwBqni4X7oRZL9KDs5EVS6mg79tX8UVrXi13alkPF+V60m5wV7FhbuV/pgI+KMn\n",
       "LGStcKdo//ZB9AfF3uaSOjs1mgAAAABJRU5ErkJggg==\n",
       "\" style=\"display:inline;vertical-align:middle;\" /></a><br>"
      ],
      "text/plain": [
       "rightInBool: forall_{A, B | (A and B) in BOOLEANS} (B in BOOLEANS)"
      ]
     },
     "execution_count": 8,
     "metadata": {},
     "output_type": "execute_result"
    }
   ],
   "source": [
    "rightInBool = Forall((A, B), inBool(B), conditions=[inBool(And(A, B))]) "
   ]
  },
  {
   "cell_type": "markdown",
   "metadata": {},
   "source": [
    "### Definition of multi-operand conjunction:"
   ]
  },
  {
   "cell_type": "code",
   "execution_count": 9,
   "metadata": {},
   "outputs": [
    {
     "data": {
      "text/html": [
       "<strong id=\"emptyConjunction\">emptyConjunction:</strong> <a class=\"ProveItLink\" href=\"__pv_it/588b0e537a228970490a73273f97e29f25fd19bd0/expr.ipynb\"><img src=\"data:image/png;base64,iVBORw0KGgoAAAANSUhEUgAAAFYAAAAVBAMAAAAutAQGAAAAMFBMVEX///8QEBCqqqqYmJhUVFRE\n",
       "RERmZmbu7u7c3Ny6urp2dnbMzMwyMjIiIiKIiIgAAACNohqFAAAAAXRSTlMAQObYZgAAAP1JREFU\n",
       "KM9jYCABvD0NZdjcBFPzGCxxql2JyuJ2YGDbgK4m9y4IXIWoaIer5SlgYDiAxchtcBXH4Kx3QGyF\n",
       "Ty13bAFMrTgQF+JTyzLvAZTFCbKfVQGP2hqGC1AW2wIgwZWAR+1ihiQoi8cASDCBPZdzBgSOoKu9\n",
       "wNADZTFOADlEALe5zA8YWDZA1PKD1HJ/wK2WtwAUBcSpVQNSJ6BuUIC7ARZZqGqB6kDqQWpZQX5j\n",
       "PoDTXO4AIMULUQsOLjxhxgJyI98DSFyAAppnAqbaXRC1nGDOBEgcS+CIY2xpEpRu1hGpFpgm2Q8Q\n",
       "qZbDgYGlAWceug1jQPJQH8NrXEoBHNZZ2P5yjVwAAAAASUVORK5CYII=\n",
       "\" style=\"display:inline;vertical-align:middle;\" /></a><br>"
      ],
      "text/plain": [
       "emptyConjunction: [and]() = TRUE"
      ]
     },
     "execution_count": 9,
     "metadata": {},
     "output_type": "execute_result"
    }
   ],
   "source": [
    "emptyConjunction = Equals(And(), TRUE) # base case"
   ]
  },
  {
   "cell_type": "code",
   "execution_count": 10,
   "metadata": {},
   "outputs": [
    {
     "data": {
      "text/html": [
       "<strong id=\"multiConjunctionDef\">multiConjunctionDef:</strong> <a class=\"ProveItLink\" href=\"__pv_it/c6a7813c817011eb3273f1fb41f622a4be5c07450/expr.ipynb\"><img src=\"data:image/png;base64,iVBORw0KGgoAAAANSUhEUgAAAisAAAAWBAMAAADz+8FBAAAAMFBMVEX///8QEBC6urrMzMxUVFRm\n",
       "ZmZERETc3NwyMjKqqqp2dnaIiIiYmJgiIiLu7u4AAAAU9Wx4AAAAAXRSTlMAQObYZgAABhlJREFU\n",
       "WMPtWF1oXEUUPtm72f/d9Edqg9Cs6EMhaPJQi1g0Sw30QSSLNv6ktkl92CK2ZB9C0lpNFjGmD22z\n",
       "IAVfgnlo/EHBFV+EFroaLJKqWUGqCGm2PtSASczGJk2brNf5nztzZ5Om7ZseOHf33jPfnDPfzJk5\n",
       "9wL8LyYprtki/OtTq9o9OaoG8dlISk/ffjSdGHBfI72JxN0N6ivHoGDX7ewbqZFTcSjgZ5dWQ4fi\n",
       "URJkroJ9B1MkT+q2qdLsbLd9+6HGBrfN/tH5N7t73mW3EvSnYIhBxa7XWXWj1FAcPsHPTq9OSyiL\n",
       "fgKV1tVp2cEge9TLbTWLAH47Kdr6K3QiAHYHQN8Cuwm42rEgAnMa7rQL6+xUFRmDAshIRbR044Yd\n",
       "q9NC7N2VcixHFS+oSeaxnxubljEtCTmspLkTDrBs1FPfdXYXGdbbnaM/P/yj4oh/FeuMQqM2aXQ2\n",
       "JhXRgvmvzq5OC5mMlyuYq4pUkRxrT1N/R/iEXEBLNGLnReOdV4x9CEAYJ9z4Cl/lG/SG2+h8n7mh\n",
       "4oh/FeuMQhURgwq4KhWNOPJRT89bsAYtYz09PYUK5u1MkeQu0E3SW8/3oU602qNLsvHuc8Y+BMBn\n",
       "o8tkhj9/Td9ZqSUcnldx2w1YRxSqiBhUgC8rFI0YFlOp3wzgYSctNanUkeEKtLQxRUEXP6DrYgo4\n",
       "h3YGrEGZQ7FM1NiHANQgCh+XeTCitaumQTwaXFFxbQasIwp1oxUxqIBQUiimBR2fhwzopJMWbyP4\n",
       "SH4EyDVUV9pY5lNxkinA79BEH37GM86yt56YrMULl3WVN+erADSVTpwqySbv48tLJ7C8Q9wT2mNx\n",
       "a1nFnXRirQ6tU23xixhUZ8GMUEzLw4i/tWjxJBD3WMZplownIcBzchNTgDj0UVQBjrI9085CrDMD\n",
       "jz1L76PgN/mSgPGbANdk0j2o72PEvQf8CypukwNr7S1onaoiY1CdeTYIxbREIZx37n79z8EXBzRa\n",
       "kIvzZJ7aaVP0E+IH2zxTsJqbWzpYheOlpYrXRrtewy2AIdr2ElmcLpGAFnTEeGyRr01awxpCy47m\n",
       "5kUVN+/EBgtap6rIGFRn1pxQPOJwPip27D9bX4GLoWKouLf55+asg5bzQLbv0AxlazINgZs6LR40\n",
       "m2QeUH+s7Koqo0vDdUHLFVH4qRMoAHUFHGlidVrQZauKm3diGS2yU1VkDKozjZZYRkQafrV3Fr7P\n",
       "JUNFfbVMUQ+7fDRv0RbezlmuZQqIxig5Uc8gHSA2Uit9vsxpCSb57qSKAJDKL2TnIvvqz4ok2j+B\n",
       "5TKhGU9VEOlPKq7WgeW0yCgUkTFozrQkgkO70Yojpm9x69H3jrtp8XWReUpUE5eeUupgLTcfZurP\n",
       "8upzgAVFs9dvFzgtOBwcFsT42xj5IwF4L4K+Mkw35KM4Ab7T37FwDh8T5bTAHXZgOS3CWFSciRh0\n",
       "Z5GMUELLGdQNNZEUGA1NP+GiJbifdJQNk3GHbzlWywhTvCf7cPVJTgJ6CLbcgNjX5TSnZSfdCQH+\n",
       "QpdYmf1xALx2GqbrfoHer6AmbTig8QFKDojOooIbcWAZLcJI/EhnIgbdmXZAQxU6VYnJIiMdheGz\n",
       "LlrgAfxvpvUFUnX7UC438NeSR6h21w1ApHMJwbxxXo7jN1R7C55hSstuXr9fRTHHtrA/ElBDXrjx\n",
       "1D9D8+dtvZwrgP/gUhou2v1OHPYvsZQWYSR+pDMRg+4sEBdKRhwpMpN1OZV6HdHy5gx6klZp+RH/\n",
       "exEs8r5ZhSi5wE/aqjRVGTs7rZ0yJJ953F8F3IDN0OoxFf/3m3GKf0qLKYoKMVBnavHvMMUSdLV4\n",
       "dhW14p+FgeZ9BY6moS8DwVKj430uMrzGO/zQ+j4C+edg80PIs6t6HzO3V/wHC3fk7FMQKkZMTXso\n",
       "LTBmpCWGqpKucr4pH6grT2w8YPqwUEneGNy3rkg9HdCWB1ZCGj4sGD9u8KF8vJC7A2d4y+IqFwIx\n",
       "XUO3nndRrQ/G1cIkr3XbxfTeyx73zCbMLe/evzctVR/xh2hvcX9QmVCKRUsvPPw5qvdcwoYi9XiF\n",
       "RLhr/19KDU/E14+P/Be+cP8L7+lOkZ9rhzIAAAAASUVORK5CYII=\n",
       "\" style=\"display:inline;vertical-align:middle;\" /></a><br>"
      ],
      "text/plain": [
       "multiConjunctionDef: forall_{n in NaturalsPos} [forall_{A, B} ((A and B_1 and  ...  and B_n) = (A and (B_1 and  ...  and B_n)))]"
      ]
     },
     "execution_count": 10,
     "metadata": {},
     "output_type": "execute_result"
    }
   ],
   "source": [
    "multiConjunctionDef = Forall(n, Forall((A, BB), Equals(And(A, iterB1n), And(A, And(iterB1n)))),\n",
    "                             domain=NaturalsPos)"
   ]
  },
  {
   "cell_type": "code",
   "execution_count": 11,
   "metadata": {},
   "outputs": [
    {
     "name": "stdout",
     "output_type": "stream",
     "text": [
      "Axioms may be imported from autogenerated _axioms_.py\n"
     ]
    }
   ],
   "source": [
    "%end axioms"
   ]
  },
  {
   "cell_type": "code",
   "execution_count": null,
   "metadata": {},
   "outputs": [],
   "source": []
  }
 ],
 "metadata": {
  "kernelspec": {
   "display_name": "Python 3",
   "language": "python",
   "name": "python3"
  }
 },
 "nbformat": 4,
 "nbformat_minor": 0
}
