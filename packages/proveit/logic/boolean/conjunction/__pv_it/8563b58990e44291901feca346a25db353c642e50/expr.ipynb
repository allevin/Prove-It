{
 "cells": [
  {
   "cell_type": "markdown",
   "metadata": {},
   "source": [
    "Expression of type <a class=\"ProveItLink\" href=\"../../../../../../../doc/html/api/proveit.ExprTuple.html\">ExprTuple</a>\n",
    "=======================\n",
    "# from context <a class=\"ProveItLink\" href=\"../../_context_.ipynb\">proveit.logic.boolean.conjunction</a>"
   ]
  },
  {
   "cell_type": "code",
   "execution_count": 1,
   "metadata": {},
   "outputs": [],
   "source": [
    "# import Expression classes needed to build the expression\n",
    "from proveit import ExprTuple\n",
    "from proveit.logic import And, Booleans, FALSE"
   ]
  },
  {
   "cell_type": "code",
   "execution_count": 2,
   "metadata": {},
   "outputs": [
    {
     "data": {
      "text/html": [
       "<strong id=\"expr\">expr:</strong> <a class=\"ProveItLink\" href=\"expr.ipynb\"><img src=\"data:image/png;base64,iVBORw0KGgoAAAANSUhEUgAAAFsAAAAVBAMAAADbSo+2AAAAMFBMVEX////c3NwiIiJERESqqqqY\n",
       "mJh2dnZmZmYQEBDu7u4yMjJUVFTMzMyIiIi6uroAAAAs73DqAAAAAXRSTlMAQObYZgAAAT9JREFU\n",
       "KM9jYCAR8F0gVmUciDgNZspiyjLCzGFbb/WryYSBgf0AkLMSLHQcrmgCjMVTAGMx812YNS2BgWEB\n",
       "AwPvBVTlXAVYlfM+AKoNY2DgmICq/LAmVuUsATsZGGYwMLxiQFW+7y520x8aAGkHhjJU5ZwLmLAq\n",
       "PxQMdAVbAcNSVOVsAewOWJQr/e8F0iwLGPpQlTMxMC7A6pgrQMfwNTD8Q1Uey8CwB5tyBoNnQJEP\n",
       "6Mo1YfGGoZwZrLwFRTkLUAmXAC7lQMeYoigHKWUpQFY+AckxrAsY0lGUHwYRCkjKOT9BlLPWGoAD\n",
       "8hGQW6SkpKGkpAyKJJA6UESxKykpNSkpGXD2C4CS2GeNLSC7HzBwCCCnwgfgJI2SvpHkgYmANQF/\n",
       "ImdFYufCEzAxyjlBESiNXzlSXuMWQM40BMEdBgYAABhWOXZYMs0AAAAASUVORK5CYII=\n",
       "\" style=\"display:inline;vertical-align:middle;\" /></a><br>"
      ],
      "text/plain": [
       "expr: (FALSE and FALSE , BOOLEANS)"
      ]
     },
     "execution_count": 2,
     "metadata": {},
     "output_type": "execute_result"
    }
   ],
   "source": [
    "# build up the expression from sub-expressions\n",
    "expr = ExprTuple(And(FALSE, FALSE), Booleans)"
   ]
  },
  {
   "cell_type": "code",
   "execution_count": 3,
   "metadata": {},
   "outputs": [
    {
     "name": "stdout",
     "output_type": "stream",
     "text": [
      "Passed sanity check: built 'expr' is the same as the stored Expression.\n"
     ]
    }
   ],
   "source": [
    "# check that the built expression is the same as the stored expression\n",
    "%check_expr"
   ]
  },
  {
   "cell_type": "code",
   "execution_count": 4,
   "metadata": {},
   "outputs": [
    {
     "data": {
      "text/html": [
       "<table><tr><th>&nbsp;</th><th>core type</th><th>sub-expressions</th><th>expression</th></tr>\n",
       "<tr><td>0</td><td>ExprTuple</td><td>1, 2</td><td><a class=\"ProveItLink\" href=\"expr.ipynb\"><img src=\"data:image/png;base64,iVBORw0KGgoAAAANSUhEUgAAAFsAAAAVBAMAAADbSo+2AAAAMFBMVEX////c3NwiIiJERESqqqqY\n",
       "mJh2dnZmZmYQEBDu7u4yMjJUVFTMzMyIiIi6uroAAAAs73DqAAAAAXRSTlMAQObYZgAAAT9JREFU\n",
       "KM9jYCAR8F0gVmUciDgNZspiyjLCzGFbb/WryYSBgf0AkLMSLHQcrmgCjMVTAGMx812YNS2BgWEB\n",
       "AwPvBVTlXAVYlfM+AKoNY2DgmICq/LAmVuUsATsZGGYwMLxiQFW+7y520x8aAGkHhjJU5ZwLmLAq\n",
       "PxQMdAVbAcNSVOVsAewOWJQr/e8F0iwLGPpQlTMxMC7A6pgrQMfwNTD8Q1Uey8CwB5tyBoNnQJEP\n",
       "6Mo1YfGGoZwZrLwFRTkLUAmXAC7lQMeYoigHKWUpQFY+AckxrAsY0lGUHwYRCkjKOT9BlLPWGoAD\n",
       "8hGQW6SkpKGkpAyKJJA6UESxKykpNSkpGXD2C4CS2GeNLSC7HzBwCCCnwgfgJI2SvpHkgYmANQF/\n",
       "ImdFYufCEzAxyjlBESiNXzlSXuMWQM40BMEdBgYAABhWOXZYMs0AAAAASUVORK5CYII=\n",
       "\" style=\"display:inline;vertical-align:middle;\" /></a></td></tr>\n",
       "<tr><td>1</td><td>Operation</td><td>operator:&nbsp;3<br>operands:&nbsp;4<br></td><td><a class=\"ProveItLink\" href=\"../33a2f5f7983d7324def82ce5f83406db49811b410/expr.ipynb\"><img src=\"data:image/png;base64,iVBORw0KGgoAAAANSUhEUgAAADUAAAAPBAMAAAC2KZqIAAAAMFBMVEX///+qqqqYmJh2dna6urpU\n",
       "VFQyMjLu7u5EREQQEBAiIiJmZmbMzMyIiIjc3NwAAACSigvEAAAAAXRSTlMAQObYZgAAAHtJREFU\n",
       "GNNjYGBgeMuAAfguQBmn4ULPYQyeDRhy2bjleLoKcMqx+l7AKVfGsACnnBHDRpxyCxie4ZJjusDA\n",
       "egCHHFcBA08ADjlpIM7DIZcHlccix9MAMhdZbteqVStXrVoB8rkDkOAF+p571apVs1atakAKexYw\n",
       "6YAQAACUqim++g5HxgAAAABJRU5ErkJggg==\n",
       "\" style=\"display:inline;vertical-align:middle;\" /></a></td></tr>\n",
       "<tr><td>2</td><td>Literal</td><td></td><td><a class=\"ProveItLink\" href=\"../../../__pv_it/46271c8230be96415d662709611f4ed2279d702b0/expr.ipynb\"><img src=\"data:image/png;base64,iVBORw0KGgoAAAANSUhEUgAAAA0AAAAOBAMAAAAGUYvhAAAAMFBMVEX///9mZmbMzMzc3NxUVFSY\n",
       "mJju7u6IiIi6urqqqqoiIiIQEBBEREQyMjJ2dnYAAAAQvcRZAAAAAXRSTlMAQObYZgAAAElJREFU\n",
       "CNdjePvn/u01ExgYGA60s117B6YZKngh9FSWBAjfBsxnWnoMRHet/10AkS+fA6F5OB5AaIYDqDRU\n",
       "PLCGgQFoz6ktExgAgLIl8DFvGtkAAAAASUVORK5CYII=\n",
       "\" style=\"display:inline;vertical-align:middle;\" /></a></td></tr>\n",
       "<tr><td>3</td><td>Literal</td><td></td><td><a class=\"ProveItLink\" href=\"../76b5f4f4c45c0b6a9b59b297fc07dfa9555698f50/expr.ipynb\"><img src=\"data:image/png;base64,iVBORw0KGgoAAAANSUhEUgAAAAwAAAAOBAMAAADpk+DfAAAALVBMVEX///+qqqqYmJh2dnaIiIi6\n",
       "urpUVFQiIiJERETMzMxmZmYyMjLu7u7c3NwAAABvwqPxAAAAAXRSTlMAQObYZgAAAEtJREFUCNdj\n",
       "YGDgPcAAAtwLwNSMGjCV6gIieTawgyhmBS4BIMXOwLsBSKkwMGQCKaC6aQwMjEBd3BdACMScAVJd\n",
       "wJAKolwYAkAUKwAk0guX6efcigAAAABJRU5ErkJggg==\n",
       "\" style=\"display:inline;vertical-align:middle;\" /></a></td></tr>\n",
       "<tr><td>4</td><td>ExprTuple</td><td>5, 5</td><td><a class=\"ProveItLink\" href=\"../0f765c86883f159901bd422ce2aa1574ee4b44270/expr.ipynb\"><img src=\"data:image/png;base64,iVBORw0KGgoAAAANSUhEUgAAADUAAAAVBAMAAAAUZLt1AAAAMFBMVEX////c3NwiIiJERESqqqqY\n",
       "mJh2dnZmZmYQEBDu7u4yMjJUVFTMzMyIiIi6uroAAAAs73DqAAAAAXRSTlMAQObYZgAAALNJREFU\n",
       "KM9jYMAH+C5gFY4DEadBBCOyAlkQwX4ASKwEsXgKkOSOg8kFDAy8F3DIhTEwcEzAITeDgeEVAw45\n",
       "ZgeGMlxybAUMS3HJsSxg6MMlx9fA8A+XHM8HvHIteMw0RZKbgCzHuoAhHSHH+QnND4+AwaqkpNSk\n",
       "pGTA2S/AwFCkpKShpKTMwMD1gIFDACm6kNigMGNNQHBZkSMwFxZHmHKcwDhikEbwkSOYWwA9yhHg\n",
       "DgMDAMpvLh492isZAAAAAElFTkSuQmCC\n",
       "\" style=\"display:inline;vertical-align:middle;\" /></a></td></tr>\n",
       "<tr><td>5</td><td>Literal</td><td></td><td><a class=\"ProveItLink\" href=\"../../../__pv_it/8f1f7fac882de28c72b62ab80a1700b6d8fd066b0/expr.ipynb\"><img src=\"data:image/png;base64,iVBORw0KGgoAAAANSUhEUgAAAA4AAAAOBAMAAADtZjDiAAAAG1BMVEX///9EREQQEBAiIiJmZmbM\n",
       "zMyIiIjc3NwAAACryk5kAAAAAXRSTlMAQObYZgAAABlJREFUCNdjYGBgKGOAgBBa0s7GxkbGxoYA\n",
       "FMUF2aBfHgoAAAAASUVORK5CYII=\n",
       "\" style=\"display:inline;vertical-align:middle;\" /></a></td></tr>\n",
       "</table>\n"
      ],
      "text/plain": [
       "0. (FALSE and FALSE , BOOLEANS)\n",
       "   core type: ExprTuple\n",
       "   sub-expressions: 1, 2\n",
       "1. FALSE and FALSE\n",
       "   core type: Operation\n",
       "   operator: 3\n",
       "   operands: 4\n",
       "2. BOOLEANS\n",
       "   core type: Literal\n",
       "   sub-expressions: \n",
       "3. and\n",
       "   core type: Literal\n",
       "   sub-expressions: \n",
       "4. (FALSE , FALSE)\n",
       "   core type: ExprTuple\n",
       "   sub-expressions: 5, 5\n",
       "5. FALSE\n",
       "   core type: Literal\n",
       "   sub-expressions: "
      ]
     },
     "execution_count": 4,
     "metadata": {},
     "output_type": "execute_result"
    }
   ],
   "source": [
    "# display the expression information\n",
    "expr.exprInfo()"
   ]
  },
  {
   "cell_type": "code",
   "execution_count": null,
   "metadata": {},
   "outputs": [],
   "source": []
  }
 ],
 "metadata": {
  "kernelspec": {
   "display_name": "Python 3",
   "language": "python",
   "name": "python3"
  }
 },
 "nbformat": 4,
 "nbformat_minor": 0
}
