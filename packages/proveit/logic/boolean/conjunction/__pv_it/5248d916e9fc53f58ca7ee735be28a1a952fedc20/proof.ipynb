{
 "cells": [
  {
   "cell_type": "markdown",
   "metadata": {},
   "source": [
    "Show the Proof\n",
    "========"
   ]
  },
  {
   "cell_type": "code",
   "execution_count": 1,
   "metadata": {},
   "outputs": [
    {
     "data": {
      "text/html": [
       "<table><tr><th>&nbsp;</th><th>step type</th><th>requirements</th><th>statement</th></tr>\n",
       "<tr><td>0</td><td>specialization</td><td>1, 2</td><td><span style=\"font-size:20px;\"> <a class=\"ProveItLink\" href=\"proof.ipynb\" style=\"text-decoration: none\">&#x22A2;&nbsp;</a><a class=\"ProveItLink\" href=\"../2962b9ca19f6cc969174a241b549d7e26c89ed870/expr.ipynb\"><img src=\"data:image/png;base64,iVBORw0KGgoAAAANSUhEUgAAAGwAAAAVBAMAAABRZRb3AAAAMFBMVEX////c3NwiIiJERESqqqqY\n",
       "mJh2dnZmZmYQEBDu7u4yMjJUVFTMzMyIiIi6uroAAAAs73DqAAAAAXRSTlMAQObYZgAAAVhJREFU\n",
       "OMtjYCAT8F3AJ8v6AIfEaQZ2JTAwQBaFi9WgqmZbb/WryQTIWAni8RTAxBknwFgQMS40W5j5Lsya\n",
       "lsDAewFVG1cBqjbWBAxtvA8WMHBMQNV2WBNVG2cDhDd3kZIWVBtLwE6GVwyo2vbdRdXGYALhLJ2A\n",
       "sO2hAUMZqjbOBUxo2tLBpPAEhCMPBU9gWIqqjS2A3QFVmxeYNET4Tel/LwNDH6o2JgbGBajaXoAd\n",
       "YYAcJFcMGP6haotlYNiDqu08OE00ASMRFiQMBs/QtWmC4h9TG88GJNsYDJgZWlC0sQBpLgEsjlRA\n",
       "02aKog2khaUARVsUmNyKou0ZNHxh2g6DCAUsETDpAUIba60BwyOIEmgS2gcioBEOFVsHSarLD8CS\n",
       "8meNLQwMHALIKQ5sJh+yCCxxseyChCQsQyXgz45sOLLjSvzaZuEQl8avbSMOcUa8hQLvAazCAHsf\n",
       "WQ2caVefAAAAAElFTkSuQmCC\n",
       "\" style=\"display:inline;vertical-align:middle;\" /></a></span></td></tr>\n",
       "<tr><td>&nbsp;</td><td colspan=4 style=\"text-align:left\"><span style=\"font-size:20px;\"><a class=\"ProveItLink\" href=\"../../../../../__pv_it/2cbe72a7ad6f655694dd697106680215e8489b600/expr.ipynb\"><img src=\"data:image/png;base64,iVBORw0KGgoAAAANSUhEUgAAAA8AAAAOBAMAAAACpFvcAAAALVBMVEX///8QEBBERERUVFS6urqI\n",
       "iIhmZmaqqqrc3Nzu7u6YmJgyMjIiIiLMzMwAAADtIaYWAAAAAXRSTlMAQObYZgAAAFtJREFUCNdj\n",
       "YACBOwxQsA9Kc52bAGG05zVAGAFxDmCaZULdAjBjCsO9ADDDgaEvAUTzGhvbKYCVMDAwbgAxChgY\n",
       "eASANAeQwf0AyJgNxEwvGRia5HYwcOm9TgAA6BoR3jrzwFcAAAAASUVORK5CYII=\n",
       "\" style=\"display:inline;vertical-align:middle;\" /></a> : <a class=\"ProveItLink\" href=\"../17610cc95a10805239974b10cc7fd080509b7dbb0/expr.ipynb\"><img src=\"data:image/png;base64,iVBORw0KGgoAAAANSUhEUgAAADUAAAAPBAMAAAC2KZqIAAAALVBMVEX///+qqqqYmJiIiIi6urpU\n",
       "VFQyMjLu7u7c3Nx2dnbMzMxEREQiIiJmZmYAAAD5AsnGAAAAAXRSTlMAQObYZgAAAHNJREFUGNNj\n",
       "uHMGBE4zIAFesNCZDSD2WrhoO4zBdQHKQMjl4pbj2lOAU47V2QCnXBnDAZxykxgu4pQ7wNCGS47J\n",
       "gIF1AQ45ngIGrgAccrJAnIFDLgMqj0WOCxSAPGhyK6E+dwASzBDfc01gQAEsYNIBIQAAv7Mpep+L\n",
       "3wEAAAAASUVORK5CYII=\n",
       "\" style=\"display:inline;vertical-align:middle;\" /></a></span></td></tr><tr><td>1</td><td>theorem</td><td></td><td><span style=\"font-size:20px;\"> <a class=\"ProveItLink\" href=\"../../../_proofs_/inBoolIfTrue.ipynb\" style=\"text-decoration: none\">&#x22A2;&nbsp;</a><a class=\"ProveItLink\" href=\"../../../__pv_it/cc0e652b3e50bfde974674c66b274bb1625600900/expr.ipynb\"><img src=\"data:image/png;base64,iVBORw0KGgoAAAANSUhEUgAAAIgAAAAXBAMAAAAipBr3AAAAMFBMVEX///8QEBC6urrMzMxUVFRm\n",
       "ZmZERETc3NwyMjKqqqp2dnaIiIiYmJgiIiLu7u4AAAAU9Wx4AAAAAXRSTlMAQObYZgAAAhdJREFU\n",
       "OMtjYKAGeECEGm18kjwKDAwXQIzTeM1gdoBQF1CFV3zrb7w2gYEhmIFhJYjfh9cQDohrOT6giSdo\n",
       "8/WtAoozMJQBeewJeA3ZDaHO/sMwhGET0ASeBWBrWCfgNUQOTLJP/Q7hvu69ewNmyByWBwx8Agw8\n",
       "y8vLa/GawdQApri5P0GCpucBkktAHslkYPiWlnYLryGsC8CUHucfMF32AOEd5jt5QHopA4MzA0M6\n",
       "WKwdYi88OAtgjAMgkk+B+TeYm44IE937HzcA6RkMDCoMfGD38kBcywZTcl4BymBUgBjO/hVsWAJy\n",
       "wO6eBqQVGRh4GbjBVj39g2IIX/wBKIsfbIiJi8s3sGGyd+8iApaNCehXe2CAHeAF+3LdVRRDuN4G\n",
       "oBgCJCSQUh7MEIYEsCF8DSZgyQ1pKIZYs8HczQhKAJxAfBHswgsYhiiCQsoJJMLCEItiiAMrTDUb\n",
       "yF+VQNwP5vqgGALyzgkgeypY9UmG/ciG8EzghqVyrgAGSNjng739VgHJkKPbIFHMwAiKJr6roRA1\n",
       "UEPehobBUjnTBQb2xB8FDMf+t4JTbqsBPAPmioC82gSyFKSZtYDB3gDJkHAG5s8wG8VREx+nBzR2\n",
       "YPEoAGPpAGPhAMIQJiD7D0zuFP7ShmsDlPHkGwO7/x24IXz+CQwlfw+gFgW4wAtMITZMIXYHvIa4\n",
       "E2UIQzU+M7gNiDOEZMBChh4Aa/SCMsrS/6MAAAAASUVORK5CYII=\n",
       "\" style=\"display:inline;vertical-align:middle;\" /></a></span></td></tr>\n",
       "<tr><td>&nbsp;</td><td colspan=4 style-\"text-align:left\"><a class=\"ProveItLink\" href=\"../../../_proofs_/inBoolIfTrue.ipynb\">proveit.logic.boolean.inBoolIfTrue</a></td></tr><tr><td>2</td><td>theorem</td><td></td><td><span style=\"font-size:20px;\"> <a class=\"ProveItLink\" href=\"../../_proofs_/trueAndTrue.ipynb\" style=\"text-decoration: none\">&#x22A2;&nbsp;</a><a class=\"ProveItLink\" href=\"../17610cc95a10805239974b10cc7fd080509b7dbb0/expr.ipynb\"><img src=\"data:image/png;base64,iVBORw0KGgoAAAANSUhEUgAAADUAAAAPBAMAAAC2KZqIAAAALVBMVEX///+qqqqYmJiIiIi6urpU\n",
       "VFQyMjLu7u7c3Nx2dnbMzMxEREQiIiJmZmYAAAD5AsnGAAAAAXRSTlMAQObYZgAAAHNJREFUGNNj\n",
       "uHMGBE4zIAFesNCZDSD2WrhoO4zBdQHKQMjl4pbj2lOAU47V2QCnXBnDAZxykxgu4pQ7wNCGS47J\n",
       "gIF1AQ45ngIGrgAccrJAnIFDLgMqj0WOCxSAPGhyK6E+dwASzBDfc01gQAEsYNIBIQAAv7Mpep+L\n",
       "3wEAAAAASUVORK5CYII=\n",
       "\" style=\"display:inline;vertical-align:middle;\" /></a></span></td></tr>\n",
       "<tr><td>&nbsp;</td><td colspan=4 style-\"text-align:left\"><a class=\"ProveItLink\" href=\"../../_proofs_/trueAndTrue.ipynb\">proveit.logic.boolean.conjunction.trueAndTrue</a></td></tr></table>"
      ],
      "text/plain": [
       "<proveit._core_.proof._ShowProof at 0x7f94ebb3a2e8>"
      ]
     },
     "execution_count": 1,
     "metadata": {},
     "output_type": "execute_result"
    }
   ],
   "source": [
    "import proveit\n",
    "%show_proof"
   ]
  },
  {
   "cell_type": "code",
   "execution_count": null,
   "metadata": {},
   "outputs": [],
   "source": []
  }
 ],
 "metadata": {
  "kernelspec": {
   "display_name": "Python 3",
   "language": "python",
   "name": "python3"
  }
 },
 "nbformat": 4,
 "nbformat_minor": 0
}
