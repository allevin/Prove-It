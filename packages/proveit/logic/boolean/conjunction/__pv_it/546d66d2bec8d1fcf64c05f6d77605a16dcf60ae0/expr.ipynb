{
 "cells": [
  {
   "cell_type": "markdown",
   "metadata": {},
   "source": [
    "Expression of type <a class=\"ProveItLink\" href=\"../../../../../../../doc/html/api/proveit.logic.And.html\">And</a>\n",
    "=======================\n",
    "# from context <a class=\"ProveItLink\" href=\"../../_context_.ipynb\">proveit.logic.boolean.conjunction</a>"
   ]
  },
  {
   "cell_type": "code",
   "execution_count": 1,
   "metadata": {},
   "outputs": [],
   "source": [
    "# import Expression classes needed to build the expression\n",
    "from proveit._common_ import a, b, c, d, e, f\n",
    "from proveit.logic import And"
   ]
  },
  {
   "cell_type": "code",
   "execution_count": 2,
   "metadata": {},
   "outputs": [
    {
     "data": {
      "text/html": [
       "<strong id=\"expr\">expr:</strong> <a class=\"ProveItLink\" href=\"expr.ipynb\"><img src=\"data:image/png;base64,iVBORw0KGgoAAAANSUhEUgAAAHwAAAArBAMAAABIu/HCAAAAMFBMVEX///8yMjKqqqrMzMzu7u4i\n",
       "IiJmZmaYmJhEREQQEBC6urp2dnaIiIhUVFTc3NwAAAD87Fq/AAAAAXRSTlMAQObYZgAAAjpJREFU\n",
       "SMftlj9IG1Ecx7+5XC7GNH8GW6eWgLSrjlmEcxSHZChdCiW2lC6i2VwquBQXwUkHFTmog4IQUbRQ\n",
       "MkS6pTekFFoioY1Q3IqioiIZ+vu9O7x3p+DlMhV8kPfe5/ve7713v9/7E8BPUut5BEp/rCJUC2b+\n",
       "yCpSmUDW4Q+6KEt6IPPERkWUO21ZJRufV0RlCJbPHps/2zBfb3Ydi8onvBaev0RqwP/kF9CmRS2P\n",
       "Ay6UM8Q2/X/xMSLim6MVJHhWLY1Uwbd5aho5sdaIjjBHPFJAqejb/KiCfnContHviRX2Cf+hy2Xw\n",
       "TRmwTXkI8tuSf8eHisqLOG8a9l+EnZHRau2EvZqtspVB2QNyotp4F2DPdYvcwH26T/9JWlu46/Fo\n",
       "/OID4jrJEp14BQ93bV3w8XRdQw51n3kEb4fcKj8e2edyq0PxvEfwdugX+b4ptzpkT+NulvmtcECa\n",
       "7xOMlL9IBPz9Wsq4hMPyuIsxNf+D11jUqF94EQ9xTfThK5jTZUF5hUOZKbXEZYxkGhiuYMYhumyL\n",
       "GIVLMPBGZgrBKefvge/Ab3tEiwS/dAn1SbMpM61HvGPkyEHg0ja3iFm9cgnnng52ZBTyb6iZbNkj\n",
       "CqKFtWhwVRLg6cC7hu9urpNG+yfqENQTJNJ9koBlurJlBmL8DGath5RisO0Q0IunhU1Z2IM6LjNt\n",
       "Or7B97lmQiubukMUdvPjrCEL8TGxXa7Z/sNiOO/BDbpFkHivk+Mcrc10Yh7ryXc0+y6H7x/JIpV8\n",
       "uxO9LwAAAABJRU5ErkJggg==\n",
       "\" style=\"display:inline;vertical-align:middle;\" /></a><br>"
      ],
      "text/plain": [
       "expr: a and b \\\\  and c and d and e and f"
      ]
     },
     "execution_count": 2,
     "metadata": {},
     "output_type": "execute_result"
    }
   ],
   "source": [
    "# build up the expression from sub-expressions\n",
    "expr = And(a, b, c, d, e, f).withWrappingAt(3)"
   ]
  },
  {
   "cell_type": "code",
   "execution_count": 3,
   "metadata": {},
   "outputs": [
    {
     "name": "stdout",
     "output_type": "stream",
     "text": [
      "Passed sanity check: built 'expr' is the same as the stored Expression.\n"
     ]
    }
   ],
   "source": [
    "# check that the built expression is the same as the stored expression\n",
    "%check_expr"
   ]
  },
  {
   "cell_type": "code",
   "execution_count": 4,
   "metadata": {},
   "outputs": [
    {
     "data": {
      "text/html": [
       "<table><tr><th>&nbsp;</th><th>core type</th><th>sub-expressions</th><th>expression</th></tr>\n",
       "<tr><td>0</td><td>Operation</td><td>operator:&nbsp;1<br>operands:&nbsp;2<br></td><td><a class=\"ProveItLink\" href=\"expr.ipynb\"><img src=\"data:image/png;base64,iVBORw0KGgoAAAANSUhEUgAAAHwAAAArBAMAAABIu/HCAAAAMFBMVEX///8yMjKqqqrMzMzu7u4i\n",
       "IiJmZmaYmJhEREQQEBC6urp2dnaIiIhUVFTc3NwAAAD87Fq/AAAAAXRSTlMAQObYZgAAAjpJREFU\n",
       "SMftlj9IG1Ecx7+5XC7GNH8GW6eWgLSrjlmEcxSHZChdCiW2lC6i2VwquBQXwUkHFTmog4IQUbRQ\n",
       "MkS6pTekFFoioY1Q3IqioiIZ+vu9O7x3p+DlMhV8kPfe5/ve7713v9/7E8BPUut5BEp/rCJUC2b+\n",
       "yCpSmUDW4Q+6KEt6IPPERkWUO21ZJRufV0RlCJbPHps/2zBfb3Ydi8onvBaev0RqwP/kF9CmRS2P\n",
       "Ay6UM8Q2/X/xMSLim6MVJHhWLY1Uwbd5aho5sdaIjjBHPFJAqejb/KiCfnContHviRX2Cf+hy2Xw\n",
       "TRmwTXkI8tuSf8eHisqLOG8a9l+EnZHRau2EvZqtspVB2QNyotp4F2DPdYvcwH26T/9JWlu46/Fo\n",
       "/OID4jrJEp14BQ93bV3w8XRdQw51n3kEb4fcKj8e2edyq0PxvEfwdugX+b4ptzpkT+NulvmtcECa\n",
       "7xOMlL9IBPz9Wsq4hMPyuIsxNf+D11jUqF94EQ9xTfThK5jTZUF5hUOZKbXEZYxkGhiuYMYhumyL\n",
       "GIVLMPBGZgrBKefvge/Ab3tEiwS/dAn1SbMpM61HvGPkyEHg0ja3iFm9cgnnng52ZBTyb6iZbNkj\n",
       "CqKFtWhwVRLg6cC7hu9urpNG+yfqENQTJNJ9koBlurJlBmL8DGath5RisO0Q0IunhU1Z2IM6LjNt\n",
       "Or7B97lmQiubukMUdvPjrCEL8TGxXa7Z/sNiOO/BDbpFkHivk+Mcrc10Yh7ryXc0+y6H7x/JIpV8\n",
       "uxO9LwAAAABJRU5ErkJggg==\n",
       "\" style=\"display:inline;vertical-align:middle;\" /></a></td></tr>\n",
       "<tr><td>1</td><td>Literal</td><td></td><td><a class=\"ProveItLink\" href=\"../76b5f4f4c45c0b6a9b59b297fc07dfa9555698f50/expr.ipynb\"><img src=\"data:image/png;base64,iVBORw0KGgoAAAANSUhEUgAAAAwAAAAOBAMAAADpk+DfAAAALVBMVEX///+qqqqYmJh2dnaIiIi6\n",
       "urpUVFQiIiJERETMzMxmZmYyMjLu7u7c3NwAAABvwqPxAAAAAXRSTlMAQObYZgAAAEtJREFUCNdj\n",
       "YGDgPcAAAtwLwNSMGjCV6gIieTawgyhmBS4BIMXOwLsBSKkwMGQCKaC6aQwMjEBd3BdACMScAVJd\n",
       "wJAKolwYAkAUKwAk0guX6efcigAAAABJRU5ErkJggg==\n",
       "\" style=\"display:inline;vertical-align:middle;\" /></a></td></tr>\n",
       "<tr><td>2</td><td>ExprTuple</td><td>3, 4, 5, 6, 7, 8</td><td><a class=\"ProveItLink\" href=\"../c118d3751cf5232bba9e27453d6de1f0cb66513b0/expr.ipynb\"><img src=\"data:image/png;base64,iVBORw0KGgoAAAANSUhEUgAAAHgAAAAVBAMAAAB/IDdlAAAAMFBMVEX////c3NwiIiJERESqqqqY\n",
       "mJh2dnZmZmYQEBDu7u4yMjJUVFTMzMyIiIi6uroAAAAs73DqAAAAAXRSTlMAQObYZgAAAeRJREFU\n",
       "OMulVD1IG2EYfhLzdwmXu93Bbh26ZGil0CV0dMlNHRQhdGi2ch2aqVAL6lCwBikoOiSLFBEkDkIQ\n",
       "hIMuhQ5ep1JKQtopdDH1Z3AJvt/73nGHlxjRD+67h+f9+77nfe+Ae628e7e4ZJe27yFCaz0Ykv2p\n",
       "HeG2fpt4R++dMJltDqlhFCPUdMlCFtDdMX7ASe06ow0+07nLyNRu9qP1MsIk+irDAv6N8aP1JcKk\n",
       "WZrHqNIeO3r9Qdjd9oF3sFdthwHZzoWKVX+antCtR0rDCrZp75kTfQk5gyEx37pZEZ5slxLy3Iz5\n",
       "shss1Aw+UcoLpAtyl0tkypxlBRMWlyNbQwoPkHa84CkGPQyAXB9x0Zz8DM6e63tuylYWtDT/w79z\n",
       "ifdjFWwUUJeccRsnXNAo+AckW1eQfV3XYyzSIVxKVfPa/J7BlN/9kC00EM9EDjwB6kUcJhxNOThY\n",
       "BgOqbykQ2DIU7EoerPA+S3ojayUeplAndXPFdFOAjZSjQGDTG1g3tVMZMA6u4K9qZedrBxv/iT16\n",
       "Cwaotn8xCGyotF1oq6rVeWneHjKmf5E/o0GA8spd5+bReCbLPm+NBgFK0jMnI5ByQ5/krYM/rjHc\n",
       "pGfSo3WMBCGk+vXiDcN9NXZ3/A3pDq4ALN2GHWHhsXYAAAAASUVORK5CYII=\n",
       "\" style=\"display:inline;vertical-align:middle;\" /></a></td></tr>\n",
       "<tr><td>3</td><td>Variable</td><td></td><td><a class=\"ProveItLink\" href=\"../../../../../__pv_it/07527342713064c87612d00d8557c53d53d5324a0/expr.ipynb\"><img src=\"data:image/png;base64,iVBORw0KGgoAAAANSUhEUgAAAAsAAAAJBAMAAAAWSsseAAAAMFBMVEX///8yMjKqqqrMzMzu7u4i\n",
       "IiJmZmaYmJhEREQQEBC6urp2dnaIiIhUVFTc3NwAAAD87Fq/AAAAAXRSTlMAQObYZgAAAEhJREFU\n",
       "CNdjYOC7s2seAwPDygccHxgY+L4zsDUwMPB+YGA9wMDA38Dgb8DA8P4Agz6DA4O/AsNFJgMGxgKm\n",
       "MG6gyjunLE4xAAAZTBA5TB6DCwAAAABJRU5ErkJggg==\n",
       "\" style=\"display:inline;vertical-align:middle;\" /></a></td></tr>\n",
       "<tr><td>4</td><td>Variable</td><td></td><td><a class=\"ProveItLink\" href=\"../../../../../__pv_it/6840a4fa6c106149dc16a131294d0c5e44f1b0480/expr.ipynb\"><img src=\"data:image/png;base64,iVBORw0KGgoAAAANSUhEUgAAAAkAAAAOBAMAAAAPuiubAAAALVBMVEX///9mZmbMzMxERESYmJiI\n",
       "iIh2dna6urqqqqoyMjIiIiIQEBBUVFTu7u4AAAD9S1JeAAAAAXRSTlMAQObYZgAAAE1JREFUCNdj\n",
       "4D29gAEIOA+ASL4GEFl3AURmgQiGOaFHGBh4HzPwKTBwvGXgTmBgnMDAJ8DAJcBQ5wBSLncBJLWN\n",
       "gYGngRFoBO9REQYGAGrcDtUkVqASAAAAAElFTkSuQmCC\n",
       "\" style=\"display:inline;vertical-align:middle;\" /></a></td></tr>\n",
       "<tr><td>5</td><td>Variable</td><td></td><td><a class=\"ProveItLink\" href=\"../../../../../__pv_it/cbdfda466482236edba0ce44ac7ef39cda0af7a40/expr.ipynb\"><img src=\"data:image/png;base64,iVBORw0KGgoAAAANSUhEUgAAAAkAAAAJBAMAAAASvxsjAAAALVBMVEX///9mZmbc3NxUVFSYmJhE\n",
       "REQiIiIyMjK6uroQEBDMzMyIiIh2dnbu7u4AAABgFDGoAAAAAXRSTlMAQObYZgAAADZJREFUCNdj\n",
       "YOA9s3sBA8PKBvYEBt7ZDKwODMwPGICALwBE6m0Asx0YGIDiAgw8QJUyu/cyAAAmuwmycZ8WfQAA\n",
       "AABJRU5ErkJggg==\n",
       "\" style=\"display:inline;vertical-align:middle;\" /></a></td></tr>\n",
       "<tr><td>6</td><td>Variable</td><td></td><td><a class=\"ProveItLink\" href=\"../../../../../__pv_it/3a5de44ed6135dbbdbbeec6704c741e238f127300/expr.ipynb\"><img src=\"data:image/png;base64,iVBORw0KGgoAAAANSUhEUgAAAAsAAAAOBAMAAAALT/umAAAAMFBMVEX////MzMyYmJiIiIhUVFTc\n",
       "3NwyMjIiIiJ2dnbu7u6qqqpmZmYQEBBERES6uroAAABkyy6XAAAAAXRSTlMAQObYZgAAAFhJREFU\n",
       "CNdjYGBg4LuzgQEE+BeAqfcTwFQ7mGTIBmJW575fQOpNAO9PIOcTA3cCAwPLBwb2BqCeCwzzHzAw\n",
       "xBswrGeYwDB/AYMblwADmwJXNQdIm52sHQMAfyoTCZukXIEAAAAASUVORK5CYII=\n",
       "\" style=\"display:inline;vertical-align:middle;\" /></a></td></tr>\n",
       "<tr><td>7</td><td>Variable</td><td></td><td><a class=\"ProveItLink\" href=\"../../../../../__pv_it/0bc0f4a545336331111a0b22c4f05a0627b57b8f0/expr.ipynb\"><img src=\"data:image/png;base64,iVBORw0KGgoAAAANSUhEUgAAAAkAAAAJBAMAAAASvxsjAAAALVBMVEX////u7u4yMjKYmJgQEBBU\n",
       "VFTMzMy6uroiIiKqqqqIiIh2dnZmZmbc3NwAAAAyj3LLAAAAAXRSTlMAQObYZgAAADlJREFUCNdj\n",
       "YOA9veYCA8OMC7wHGHifM/AkMLA6W61lYOA7wAAEfAtAJAuQXMDApcAgA1S5Z9UCBgB6Cgz1W65k\n",
       "FgAAAABJRU5ErkJggg==\n",
       "\" style=\"display:inline;vertical-align:middle;\" /></a></td></tr>\n",
       "<tr><td>8</td><td>Variable</td><td></td><td><a class=\"ProveItLink\" href=\"../../../../../__pv_it/4d51ee1e62d011d06d4528b97697bf3da60c9de60/expr.ipynb\"><img src=\"data:image/png;base64,iVBORw0KGgoAAAANSUhEUgAAAAsAAAASBAMAAAB/WzlGAAAAMFBMVEX///8yMjLMzMwQEBAiIiJm\n",
       "Zma6urqYmJiqqqp2dnZERETc3NyIiIhUVFTu7u4AAAAe+HC4AAAAAXRSTlMAQObYZgAAAFVJREFU\n",
       "CNdjYGBgeHt2A5BkWNlfACT5vr0AcTg+gEgGVgcQyX7ZNwBE8x8AC+5XAFP9YJJhCoRaC6FswCTf\n",
       "NzDF9g9M8QiAyFoukPEMhk/AYpXRIBIAEwsRcZ82juYAAAAASUVORK5CYII=\n",
       "\" style=\"display:inline;vertical-align:middle;\" /></a></td></tr>\n",
       "</table>\n"
      ],
      "text/plain": [
       "0. a and b \\\\  and c and d and e and f\n",
       "   core type: Operation\n",
       "   operator: 1\n",
       "   operands: 2\n",
       "1. and\n",
       "   core type: Literal\n",
       "   sub-expressions: \n",
       "2. (a , b , c , d , e , f)\n",
       "   core type: ExprTuple\n",
       "   sub-expressions: 3, 4, 5, 6, 7, 8\n",
       "3. a\n",
       "   core type: Variable\n",
       "   sub-expressions: \n",
       "4. b\n",
       "   core type: Variable\n",
       "   sub-expressions: \n",
       "5. c\n",
       "   core type: Variable\n",
       "   sub-expressions: \n",
       "6. d\n",
       "   core type: Variable\n",
       "   sub-expressions: \n",
       "7. e\n",
       "   core type: Variable\n",
       "   sub-expressions: \n",
       "8. f\n",
       "   core type: Variable\n",
       "   sub-expressions: "
      ]
     },
     "execution_count": 4,
     "metadata": {},
     "output_type": "execute_result"
    }
   ],
   "source": [
    "# display the expression information\n",
    "expr.exprInfo()"
   ]
  },
  {
   "cell_type": "code",
   "execution_count": null,
   "metadata": {},
   "outputs": [],
   "source": []
  }
 ],
 "metadata": {
  "kernelspec": {
   "display_name": "Python 3",
   "language": "python",
   "name": "python3"
  }
 },
 "nbformat": 4,
 "nbformat_minor": 0
}
