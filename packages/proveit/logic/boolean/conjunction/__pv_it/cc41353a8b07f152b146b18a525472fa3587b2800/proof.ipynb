{
 "cells": [
  {
   "cell_type": "markdown",
   "metadata": {},
   "source": [
    "Show the Proof\n",
    "========"
   ]
  },
  {
   "cell_type": "code",
   "execution_count": 1,
   "metadata": {},
   "outputs": [
    {
     "data": {
      "text/html": [
       "<table><tr><th>&nbsp;</th><th>step type</th><th>requirements</th><th>statement</th></tr>\n",
       "<tr><td>0</td><td>hypothetical reasoning</td><td>1</td><td><span style=\"font-size:20px;\"> <a class=\"ProveItLink\" href=\"proof.ipynb\" style=\"text-decoration: none\">&#x22A2;&nbsp;</a><a class=\"ProveItLink\" href=\"../17e6fdfdfdd54070d98aa437955ad6d6d8d93ffc0/expr.ipynb\"><img src=\"data:image/png;base64,iVBORw0KGgoAAAANSUhEUgAAAHUAAAAVBAMAAACK3rzVAAAAMFBMVEX////c3NwiIiJERESqqqqY\n",
       "mJh2dnZmZmYQEBDu7u4yMjJUVFTMzMyIiIi6uroAAAAs73DqAAAAAXRSTlMAQObYZgAAATRJREFU\n",
       "OMtjYKAE8F3AJxuHV+9pEMGIbkCREggoM7AfwNTBDpZTMmBgWAni8hTAJBgnwFjHweQCrBZC1PNe\n",
       "QNXLVYCqNwyhgRNdL8cEVL2HNVH1zkBo4JqApvcVA6refXdR9TI7IEJ1A5reMlS9nAuYUPWyFSAs\n",
       "zkXTuxRVL1sAuwOKXpYFiGDXL0DV24eql4mBcQGKXr4GpOD1eoCi9x+q3lgGhj0oenk+IOnlXPEA\n",
       "j15NaGLBrvdUJoq9LSh6WYA0lwCmmyH+VbJE9a8pil6QPpYCZL2sSAnLGy2c01H0HgYRCjjiiHEB\n",
       "mt5HkLTdBE7bDPtAQtDUcQzikgdwDcwCCL0J4DQpgJzGwQr5kEWQ0iQPeo5gTcCfvXPxSa7Eq5Vz\n",
       "AT5Zabx6uQXwyTLiLXPu4JEDAKXCSODpNHFzAAAAAElFTkSuQmCC\n",
       "\" style=\"display:inline;vertical-align:middle;\" /></a></span></td></tr>\n",
       "<tr><td>1</td><td>axiom</td><td></td><td><span style=\"font-size:20px;\"> <a class=\"ProveItLink\" href=\"../../../_axioms_.ipynb#trueAxiom\" style=\"text-decoration: none\">&#x22A2;&nbsp;</a><a class=\"ProveItLink\" href=\"../../../__pv_it/68a87cc3370287d726c7086ace789e680e4461c30/expr.ipynb\"><img src=\"data:image/png;base64,iVBORw0KGgoAAAANSUhEUgAAAA4AAAAOBAMAAADtZjDiAAAAFVBMVEX///92dnbMzMxEREQiIiJm\n",
       "ZmYAAABAT6GXAAAAAXRSTlMAQObYZgAAABhJREFUCNdjCHEBAWcGIFBlgABa0YpADAAxegPJJk4d\n",
       "XAAAAABJRU5ErkJggg==\n",
       "\" style=\"display:inline;vertical-align:middle;\" /></a></span></td></tr>\n",
       "<tr><td>&nbsp;</td><td colspan=4 style-\"text-align:left\"><a class=\"ProveItLink\" href=\"../../../_axioms_.ipynb#trueAxiom\">proveit.logic.boolean.trueAxiom</a></td></tr></table>"
      ],
      "text/plain": [
       "<proveit._core_.proof._ShowProof at 0x7f94ebdb6550>"
      ]
     },
     "execution_count": 1,
     "metadata": {},
     "output_type": "execute_result"
    }
   ],
   "source": [
    "import proveit\n",
    "%show_proof"
   ]
  },
  {
   "cell_type": "code",
   "execution_count": null,
   "metadata": {},
   "outputs": [],
   "source": []
  }
 ],
 "metadata": {
  "kernelspec": {
   "display_name": "Python 3",
   "language": "python",
   "name": "python3"
  }
 },
 "nbformat": 4,
 "nbformat_minor": 0
}
