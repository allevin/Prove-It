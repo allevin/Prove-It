{
 "cells": [
  {
   "cell_type": "markdown",
   "metadata": {},
   "source": [
    "Expression of type <a class=\"ProveItLink\" href=\"../../../../../../../doc/html/api/proveit.logic.Forall.html\">Forall</a>\n",
    "=======================\n",
    "# from context <a class=\"ProveItLink\" href=\"../../_context_.ipynb\">proveit.logic.boolean.conjunction</a>"
   ]
  },
  {
   "cell_type": "code",
   "execution_count": 1,
   "metadata": {},
   "outputs": [],
   "source": [
    "# import Expression classes needed to build the expression\n",
    "from proveit._common_ import B\n",
    "from proveit.logic import And, Booleans, Forall, TRUE"
   ]
  },
  {
   "cell_type": "code",
   "execution_count": 2,
   "metadata": {},
   "outputs": [
    {
     "data": {
      "text/html": [
       "<strong id=\"expr\">expr:</strong> <a class=\"ProveItLink\" href=\"expr.ipynb\"><img src=\"data:image/png;base64,iVBORw0KGgoAAAANSUhEUgAAAH4AAAAWBAMAAAD0qjWMAAAAMFBMVEX///8QEBC6urrMzMxUVFRm\n",
       "ZmZERETc3NwyMjKqqqp2dnaIiIiYmJgiIiLu7u4AAAAU9Wx4AAAAAXRSTlMAQObYZgAAAexJREFU\n",
       "OMullD9IG1Ecx78muZzeXc5MHcVBcDQFuwhBsUECgkbM6aLQWDwdJGbSSZpJKZQ2S50z1biUVFSQ\n",
       "DE3BIaBgBru0Djd0bqHGWo3Y/n73oim9IHo5eL/fj/fe573f+/05WGjuK7M4cAHu/4lE5juxyfZr\n",
       "Nzc/AqSfWCJLfuYC91ZpVNBKAZAyLnj1HNAuoW0sL6+4cd8fBAIdwC/T/OKGbx+AvErOPwXmgLZF\n",
       "I/78vx0eJ7R+ZgyFhNk/XJguku6Cnib1CfggFkq53JTw0JYTZsI0szVeC0INCvNjCvox6QBUPiYO\n",
       "9NDMjlFUFX2rs87faIWFNADPuZhN8BlEqsUA1+BXYBrY7f5uqQreF518mOcCeUhlMVuhcUR+6ele\n",
       "svRTaGvQYpwYxbNjOfkkv/JHCKWUSP8ViVFO/Nwgx6paGLLQaidWGjuBg/dmD0n2FLaT9fTLv9l6\n",
       "yw4paWgd6LNXFIznHbzf4sNzFGjrNv2P7bpv4c3+GPQLhE3TzBOfzTr4J9DI2Vl6gl2s0mIlEn0l\n",
       "csIHtmfgOcW32v0N+BGAuuSCnhBqVE0vLKzE4EsJftLhv5ciuwf5GvLnRrjyxoi/pCzM2PXzbsER\n",
       "P5/FOndmRO/sNYXeX++Qfxbk2nhQhzX5a2uW991jz1/xhHaulaGUOwAAAABJRU5ErkJggg==\n",
       "\" style=\"display:inline;vertical-align:middle;\" /></a><br>"
      ],
      "text/plain": [
       "expr: forall_{B in BOOLEANS | TRUE and B} B"
      ]
     },
     "execution_count": 2,
     "metadata": {},
     "output_type": "execute_result"
    }
   ],
   "source": [
    "# build up the expression from sub-expressions\n",
    "expr = Forall([B], B, domain = Booleans, conditions = [And(TRUE, B)])"
   ]
  },
  {
   "cell_type": "code",
   "execution_count": 3,
   "metadata": {},
   "outputs": [
    {
     "name": "stdout",
     "output_type": "stream",
     "text": [
      "Passed sanity check: built 'expr' is the same as the stored Expression.\n"
     ]
    }
   ],
   "source": [
    "# check that the built expression is the same as the stored expression\n",
    "%check_expr"
   ]
  },
  {
   "cell_type": "code",
   "execution_count": 4,
   "metadata": {},
   "outputs": [
    {
     "data": {
      "text/html": [
       "<table><tr><th>&nbsp;</th><th>core type</th><th>sub-expressions</th><th>expression</th></tr>\n",
       "<tr><td>0</td><td>Operation</td><td>operator:&nbsp;1<br>operand:&nbsp;2<br></td><td><a class=\"ProveItLink\" href=\"expr.ipynb\"><img src=\"data:image/png;base64,iVBORw0KGgoAAAANSUhEUgAAAH4AAAAWBAMAAAD0qjWMAAAAMFBMVEX///8QEBC6urrMzMxUVFRm\n",
       "ZmZERETc3NwyMjKqqqp2dnaIiIiYmJgiIiLu7u4AAAAU9Wx4AAAAAXRSTlMAQObYZgAAAexJREFU\n",
       "OMullD9IG1Ecx78muZzeXc5MHcVBcDQFuwhBsUECgkbM6aLQWDwdJGbSSZpJKZQ2S50z1biUVFSQ\n",
       "DE3BIaBgBru0Djd0bqHGWo3Y/n73oim9IHo5eL/fj/fe573f+/05WGjuK7M4cAHu/4lE5juxyfZr\n",
       "Nzc/AqSfWCJLfuYC91ZpVNBKAZAyLnj1HNAuoW0sL6+4cd8fBAIdwC/T/OKGbx+AvErOPwXmgLZF\n",
       "I/78vx0eJ7R+ZgyFhNk/XJguku6Cnib1CfggFkq53JTw0JYTZsI0szVeC0INCvNjCvox6QBUPiYO\n",
       "9NDMjlFUFX2rs87faIWFNADPuZhN8BlEqsUA1+BXYBrY7f5uqQreF518mOcCeUhlMVuhcUR+6ele\n",
       "svRTaGvQYpwYxbNjOfkkv/JHCKWUSP8ViVFO/Nwgx6paGLLQaidWGjuBg/dmD0n2FLaT9fTLv9l6\n",
       "yw4paWgd6LNXFIznHbzf4sNzFGjrNv2P7bpv4c3+GPQLhE3TzBOfzTr4J9DI2Vl6gl2s0mIlEn0l\n",
       "csIHtmfgOcW32v0N+BGAuuSCnhBqVE0vLKzE4EsJftLhv5ciuwf5GvLnRrjyxoi/pCzM2PXzbsER\n",
       "P5/FOndmRO/sNYXeX++Qfxbk2nhQhzX5a2uW991jz1/xhHaulaGUOwAAAABJRU5ErkJggg==\n",
       "\" style=\"display:inline;vertical-align:middle;\" /></a></td></tr>\n",
       "<tr><td>1</td><td>Literal</td><td></td><td><a class=\"ProveItLink\" href=\"../../../quantification/universal/__pv_it/265f8c02ac1094d56e0e6410a1c1fd3500dc9f540/expr.ipynb\"><img src=\"data:image/png;base64,iVBORw0KGgoAAAANSUhEUgAAAAwAAAAQBAMAAADQT4M0AAAAMFBMVEX///8QEBC6urrMzMxUVFRm\n",
       "ZmZERETc3NwyMjKqqqp2dnaIiIiYmJgiIiLu7u4AAAAU9Wx4AAAAAXRSTlMAQObYZgAAAFhJREFU\n",
       "CNdjeMAABhdAxGmGlSCqj6EMSLInMHAAJVknMPAsLy+vBYp8S0u7BaScGRjSgZQKA18DkOJl4D4A\n",
       "pLgP8IJM4mswARuX7gSmpoKNZWDcAKZ4gCoAgTQTILaSE58AAAAASUVORK5CYII=\n",
       "\" style=\"display:inline;vertical-align:middle;\" /></a></td></tr>\n",
       "<tr><td>2</td><td>Lambda</td><td>parameter:&nbsp;12<br>body:&nbsp;12<br>conditions:&nbsp;3<br></td><td><a class=\"ProveItLink\" href=\"../9a5330d0636ca0d5bbd213dd9cae64361c1924c10/expr.ipynb\"><img src=\"data:image/png;base64,iVBORw0KGgoAAAANSUhEUgAAAM4AAAAVCAMAAAA5OCEaAAAANlBMVEX///8UFBQNDQ2qqqru7u4i\n",
       "IiJ2dnbc3NyIiIjMzMxmZmYQEBC6uroyMjJERERUVFSYmJgAAAC3B9V0AAAAAXRSTlMAQObYZgAA\n",
       "AepJREFUWMPtl2lvwyAMhtmww2mO//9nl+ZQA5iEqpUWTeMLbeIX88RHghCfG1KJvzQmf499pJhz\n",
       "nEcg/46gwhlbdaIcKJPDIIvrFg8jvLgZtwpsHn3AnKCJztiqQXgtgGCa2nvGttcUXG3GZL3NcYyG\n",
       "FdQ4g6suOEJ7QWM4ZK82o/NaxSlPYzisoMZhjUDTI32oxpFJRBjBMQHhwk9w64wOxnBYQY3DGRlK\n",
       "0ImOCkPRiV7rCz9rlBSFp6sy8rKsU07Q4jBGKgCfbAYTc4vBgXljeO5nTjqttcV0sKkkZSJwggaH\n",
       "MwqKrR3EnJ0WIzjTvJyVp3625AOMXRyIqs3WQtDgMEYQ+q1Ay6FkwyUQp3725NP5+SS/v7AY7tht\n",
       "OUGDwxh5ty/XtILHNF3jpCWG0Zz52RvcsQVhU4FNttadsMJhjEzsRmeeRLjGWbtasU7tx+xYMcse\n",
       "jlVFtjKCGoczAnwTR27/SfX97H1bZerVjtFcoy8ENQ5rFNMJzpJscIqzY0jb97Mln3F0WKvsM8BV\n",
       "RSmocVgjQN/BSVY/ggMZT3BMaJ925ceG9QuOKI29QruCI07PSJE1zCdoQBeXVAGXi7SeOgW8v0pf\n",
       "3v2nDwgyUtnZquFPTk2e/Xnr804SNxn/OMy3+m0O1/r3D9c/lZYd5mTeOFAAAAAASUVORK5CYII=\n",
       "\" style=\"display:inline;vertical-align:middle;\" /></a></td></tr>\n",
       "<tr><td>3</td><td>ExprTuple</td><td>4, 5</td><td><a class=\"ProveItLink\" href=\"../ed2048d7a0f4f2b5690c1afada8554f8cbb948020/expr.ipynb\"><img src=\"data:image/png;base64,iVBORw0KGgoAAAANSUhEUgAAAIUAAAAVBAMAAACakjBMAAAAMFBMVEX////c3NwiIiJERESqqqqY\n",
       "mJh2dnZmZmYQEBDu7u4yMjJUVFTMzMyIiIi6uroAAAAs73DqAAAAAXRSTlMAQObYZgAAAhFJREFU\n",
       "OMtjYKAG4LtAkfY4EHEaiKP/795t9QBFLuvz+hXKDhB2kRIIKKNqZt3/e/fmdQzsB4DslSCBZgYG\n",
       "9n+oagzecq5Mg/OOw1mSMAaHAQND/QOGBQwMvCCv8PwF4t/oZjDc48JixnIY4zxQ5/kNDGFA0yYA\n",
       "ubwfgW77BpbhvKWktABqhiv3BAwzeIxgYvcFGBjiExhmMDC8AnGZGxgYmDrBMqcikdwhjOkO7rew\n",
       "OLAAYo0JDMwODGUgLv8GBsbFYPMZLRF+4VG1xDRjFoMClAX0uxRQAVsBw1Kw1/beLQoASzALwM14\n",
       "pP/jAqYZqQwlUE/9vntdFUizLGDog3qNUxssMxk5TO86Y5qhwCAFYYDCcNIGYPpqYPgH89p9sENe\n",
       "gFICLEyZ+RLQzWC9wMB9gAEWhrxfge75ADEDFK3xCbAUB3cHM4MBuhlMExh4NjBAwxAcl0AzWkBe\n",
       "AxrHsB+cKCcRMMMdiBdCkgfQ3dxfwH4xhXqN8Rck6gKQzQD6ZQKqGQuh5kCShzzQ16wLGNKhXjux\n",
       "EpLE9JDMCL/MwPkJxQwekMOYYMmDp2sCOG4fAXOK/e/du5ZCtUrVwPOcUbcDA2c/JLKPQVMYKGOC\n",
       "s0cxMJuuAjma6wEDhwBaZvZeBIkXWNGAIs8HJlFyODCtsybgLx9YCRUgubC8T74ZnCBHS+NXQ6iU\n",
       "4wb5lZGysvAOAwMAa8eV70FvxFYAAAAASUVORK5CYII=\n",
       "\" style=\"display:inline;vertical-align:middle;\" /></a></td></tr>\n",
       "<tr><td>4</td><td>Operation</td><td>operator:&nbsp;6<br>operands:&nbsp;7<br></td><td><a class=\"ProveItLink\" href=\"../41a86ef0ff9417c73c472e1bdfa161b308e2753e0/expr.ipynb\"><img src=\"data:image/png;base64,iVBORw0KGgoAAAANSUhEUgAAADcAAAAPBAMAAACy3Eq1AAAAMFBMVEX///+qqqru7u4iIiJ2dnbc\n",
       "3NyIiIjMzMxmZmYQEBC6uroyMjJERERUVFSYmJgAAADLUcuvAAAAAXRSTlMAQObYZgAAAOZJREFU\n",
       "GNNjYGB4+//u3dMLGJCB95/9O20EwMw5DAwcv1AkGQ4sY9rkAmKwfwPiv+iSDFncIAbbVwYGvi9g\n",
       "MbXNxtYwSTleBSCDZwIDA/MksBn7FJB0xoAY/BcYWPeARWMUEMay2x0CMeqvpTU/AAsdRdi52P5n\n",
       "AoiRH8DAZAtiMB1AdlCaDIhxEqQApJVrsrExwkE8XA5ABsgX70EM9gvIOnkYgAax/wNy7oOCg8kA\n",
       "QxLkTdbfYKF7KJIgY0HerNwEFlJegCT5IgcYquf/3r29DyLEuqMAHvCH5wqghigD422oayEAAEv1\n",
       "Sz0foy5uAAAAAElFTkSuQmCC\n",
       "\" style=\"display:inline;vertical-align:middle;\" /></a></td></tr>\n",
       "<tr><td>5</td><td>Operation</td><td>operator:&nbsp;8<br>operands:&nbsp;9<br></td><td><a class=\"ProveItLink\" href=\"../984b1529ce3a751e43f7954c63b259844cac9dd10/expr.ipynb\"><img src=\"data:image/png;base64,iVBORw0KGgoAAAANSUhEUgAAADYAAAAPBAMAAABdHiGLAAAAMFBMVEX///8QEBCqqqqYmJiIiIi6\n",
       "urpUVFQyMjLu7u7c3Nx2dnbMzMxEREQiIiJmZmYAAABKII+GAAAAAXRSTlMAQObYZgAAAMBJREFU\n",
       "GNNjeHsXBO4woACz/2lpxwNArH0wIc4GGEuGgYHvK4oc+wMog/sLEH9DkdtzA8pg+cnAwPwLRS7V\n",
       "BcrgEWBg4JVAluMo4IWy+BMYOGsakOW4DPgUIKz9KS5vDRiQ5XgZOAsgLP8JDBzXUORMGBiyIayD\n",
       "IHkDZDmgK7dBWCDn2y9AkmMC+o59Ath7n4FEvgKSHEic6QHMe5zfke3bAyIuwLy3sQIsuAvqcxAB\n",
       "8j3f+W9p6cUogQ8Od1YkAQBG7DWkEdsDFQAAAABJRU5ErkJggg==\n",
       "\" style=\"display:inline;vertical-align:middle;\" /></a></td></tr>\n",
       "<tr><td>6</td><td>Literal</td><td></td><td><a class=\"ProveItLink\" href=\"../../../../set_theory/membership/__pv_it/088cbc857536a28d4119ad9639a84270ccb0545d0/expr.ipynb\"><img src=\"data:image/png;base64,iVBORw0KGgoAAAANSUhEUgAAAAwAAAAMBAMAAACkW0HUAAAALVBMVEX///+qqqpmZmZUVFQQEBC6\n",
       "urpERETc3NyYmJjMzMwiIiIyMjKIiIju7u4AAACYsrA9AAAAAXRSTlMAQObYZgAAADxJREFUCNdj\n",
       "YOA9vWrVBgaG2b0MQMCeCyIZ2ArA1DUwyRCyahVIyWQI7xaEYm4AU7xLIdxqTQgtvGvVBgCkcQ7e\n",
       "geM/tQAAAABJRU5ErkJggg==\n",
       "\" style=\"display:inline;vertical-align:middle;\" /></a></td></tr>\n",
       "<tr><td>7</td><td>ExprTuple</td><td>12, 10</td><td><a class=\"ProveItLink\" href=\"../46fef8cd01e90537d7ca36d1ba2c809996ed4b3a0/expr.ipynb\"><img src=\"data:image/png;base64,iVBORw0KGgoAAAANSUhEUgAAADQAAAAVBAMAAAD7ptBLAAAAMFBMVEX////c3NwiIiJERESqqqqY\n",
       "mJh2dnZmZmYQEBDu7u4yMjJUVFTMzMyIiIi6uroAAAAs73DqAAAAAXRSTlMAQObYZgAAASVJREFU\n",
       "KM9jYMAD+C5gE2V9ACROA3H0/927rR6AxbI+r1+h7MDAUANkrwQJNDMwsP+DqDd4y7kyjYGBi4GB\n",
       "F2Qez18g/g2TYrgHFGdNYOCYAOTyfgSyv8GlXLknMHA2MLwCcZkbGBiYOhG6hIG0CUMZiMu/gYFx\n",
       "8QSYFI+qJZBOZ1gK4p7fe7coAOpsg0f6P0D2ezH0gbj3BRg4tRngBt51BtIvGMBOtgBJB8ClmPkS\n",
       "gCZBpEDujk9ASDEYgKRaQN76CiT2O6BKvWAwhXqL8RcDAyeygVFAN0K8dQIYYPMVIFLhl8GOfwQM\n",
       "Pfvfu3eBPDHjIzh4jbpBZq9j4BBAioqHCCYwoFgTkKQCEEy2C9BIwZSaBcTSCC4vkqqNQMyINQHw\n",
       "HmAAAHCOVkQeB6BvAAAAAElFTkSuQmCC\n",
       "\" style=\"display:inline;vertical-align:middle;\" /></a></td></tr>\n",
       "<tr><td>8</td><td>Literal</td><td></td><td><a class=\"ProveItLink\" href=\"../76b5f4f4c45c0b6a9b59b297fc07dfa9555698f50/expr.ipynb\"><img src=\"data:image/png;base64,iVBORw0KGgoAAAANSUhEUgAAAAwAAAAOBAMAAADpk+DfAAAALVBMVEX///+qqqqYmJh2dnaIiIi6\n",
       "urpUVFQiIiJERETMzMxmZmYyMjLu7u7c3NwAAABvwqPxAAAAAXRSTlMAQObYZgAAAEtJREFUCNdj\n",
       "YGDgPcAAAtwLwNSMGjCV6gIieTawgyhmBS4BIMXOwLsBSKkwMGQCKaC6aQwMjEBd3BdACMScAVJd\n",
       "wJAKolwYAkAUKwAk0guX6efcigAAAABJRU5ErkJggg==\n",
       "\" style=\"display:inline;vertical-align:middle;\" /></a></td></tr>\n",
       "<tr><td>9</td><td>ExprTuple</td><td>11, 12</td><td><a class=\"ProveItLink\" href=\"../37daccb7f4d8f0c74c4d62e98fa64e0314d893720/expr.ipynb\"><img src=\"data:image/png;base64,iVBORw0KGgoAAAANSUhEUgAAADYAAAAVBAMAAAD/UwB2AAAAMFBMVEX////c3NwiIiJERESqqqqY\n",
       "mJh2dnZmZmYQEBDu7u4yMjJUVFTMzMyIiIi6uroAAAAs73DqAAAAAXRSTlMAQObYZgAAAPZJREFU\n",
       "KM9jYMAH+C5gFWZ9ACROM7ArgYEBVHD/792b1zEw1ADZK0ECPAUIHRxARfUPGLgYGHgvoMudB4qc\n",
       "38DAmsDAMQFd7r4AA0N8AgNnA8MrBnQ5CyDWAOowYSjDkPvNwCBlCaTTGZaiy/H8vntdFcTwYuhD\n",
       "l+P9yMAwaQOQ8YLhH7occwNQ/ivIvZhy/EA9rN/Aci3ocucDGBi4v4DNNEWSmwDznvwCICMK6FK4\n",
       "HOcnqPd4uiaA/fAIIpcAkusHain+v3v3qgCQ2DoGDgGk6EJig8KMNQEpzpAjkO0CNI6wyM0CYmkE\n",
       "FyUFbARiRuxpgvcAAwBqNEBOwzjo9wAAAABJRU5ErkJggg==\n",
       "\" style=\"display:inline;vertical-align:middle;\" /></a></td></tr>\n",
       "<tr><td>10</td><td>Literal</td><td></td><td><a class=\"ProveItLink\" href=\"../../../__pv_it/46271c8230be96415d662709611f4ed2279d702b0/expr.ipynb\"><img src=\"data:image/png;base64,iVBORw0KGgoAAAANSUhEUgAAAA0AAAAOBAMAAAAGUYvhAAAAMFBMVEX///9mZmbMzMzc3NxUVFSY\n",
       "mJju7u6IiIi6urqqqqoiIiIQEBBEREQyMjJ2dnYAAAAQvcRZAAAAAXRSTlMAQObYZgAAAElJREFU\n",
       "CNdjePvn/u01ExgYGA60s117B6YZKngh9FSWBAjfBsxnWnoMRHet/10AkS+fA6F5OB5AaIYDqDRU\n",
       "PLCGgQFoz6ktExgAgLIl8DFvGtkAAAAASUVORK5CYII=\n",
       "\" style=\"display:inline;vertical-align:middle;\" /></a></td></tr>\n",
       "<tr><td>11</td><td>Literal</td><td></td><td><a class=\"ProveItLink\" href=\"../../../__pv_it/68a87cc3370287d726c7086ace789e680e4461c30/expr.ipynb\"><img src=\"data:image/png;base64,iVBORw0KGgoAAAANSUhEUgAAAA4AAAAOBAMAAADtZjDiAAAAFVBMVEX///92dnbMzMxEREQiIiJm\n",
       "ZmYAAABAT6GXAAAAAXRSTlMAQObYZgAAABhJREFUCNdjCHEBAWcGIFBlgABa0YpADAAxegPJJk4d\n",
       "XAAAAABJRU5ErkJggg==\n",
       "\" style=\"display:inline;vertical-align:middle;\" /></a></td></tr>\n",
       "<tr><td>12</td><td>Variable</td><td></td><td><a class=\"ProveItLink\" href=\"../../../../../__pv_it/077b2ff79244fb4582cbe22c6e3356fa92a52f2f0/expr.ipynb\"><img src=\"data:image/png;base64,iVBORw0KGgoAAAANSUhEUgAAABAAAAAOBAMAAADUAYG5AAAAMFBMVEX///+qqqru7u4iIiJ2dnbc\n",
       "3NyIiIjMzMxmZmYQEBC6uroyMjJERERUVFSYmJgAAADLUcuvAAAAAXRSTlMAQObYZgAAAGpJREFU\n",
       "CNdjYGB4+//u3dMLGIBgDgMDxy8gzf4NiP8CGWxfGRj4vgAZPBMYGJgnARn8FxhY9ygAGfXX0pof\n",
       "gDTlBzAw2YIYJ0EckBBI53sHoBH/gIz7AhBjWH9DjancBLTl/N+7t/cxMAAA3u4f/5xagjYAAAAA\n",
       "SUVORK5CYII=\n",
       "\" style=\"display:inline;vertical-align:middle;\" /></a></td></tr>\n",
       "</table>\n"
      ],
      "text/plain": [
       "0. forall_{B in BOOLEANS | TRUE and B} B\n",
       "   core type: Operation\n",
       "   operator: 1\n",
       "   operand: 2\n",
       "1. forall\n",
       "   core type: Literal\n",
       "   sub-expressions: \n",
       "2. B -> B | B in BOOLEANS , TRUE and B\n",
       "   core type: Lambda\n",
       "   parameter: 12\n",
       "   body: 12\n",
       "   conditions: 3\\n3. (B in BOOLEANS , TRUE and B)\n",
       "   core type: ExprTuple\n",
       "   sub-expressions: 4, 5\n",
       "4. B in BOOLEANS\n",
       "   core type: Operation\n",
       "   operator: 6\n",
       "   operands: 7\n",
       "5. TRUE and B\n",
       "   core type: Operation\n",
       "   operator: 8\n",
       "   operands: 9\n",
       "6. in\n",
       "   core type: Literal\n",
       "   sub-expressions: \n",
       "7. (B , BOOLEANS)\n",
       "   core type: ExprTuple\n",
       "   sub-expressions: 12, 10\n",
       "8. and\n",
       "   core type: Literal\n",
       "   sub-expressions: \n",
       "9. (TRUE , B)\n",
       "   core type: ExprTuple\n",
       "   sub-expressions: 11, 12\n",
       "10. BOOLEANS\n",
       "    core type: Literal\n",
       "    sub-expressions: \n",
       "11. TRUE\n",
       "    core type: Literal\n",
       "    sub-expressions: \n",
       "12. B\n",
       "    core type: Variable\n",
       "    sub-expressions: "
      ]
     },
     "execution_count": 4,
     "metadata": {},
     "output_type": "execute_result"
    }
   ],
   "source": [
    "# display the expression information\n",
    "expr.exprInfo()"
   ]
  },
  {
   "cell_type": "code",
   "execution_count": null,
   "metadata": {},
   "outputs": [],
   "source": []
  }
 ],
 "metadata": {
  "kernelspec": {
   "display_name": "Python 3",
   "language": "python",
   "name": "python3"
  }
 },
 "nbformat": 4,
 "nbformat_minor": 0
}
