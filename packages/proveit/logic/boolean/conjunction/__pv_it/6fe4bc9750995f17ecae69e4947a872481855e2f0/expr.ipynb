{
 "cells": [
  {
   "cell_type": "markdown",
   "metadata": {},
   "source": [
    "Expression of type <a class=\"ProveItLink\" href=\"../../../../../../../doc/html/api/proveit.logic.And.html\">And</a>\n",
    "=======================\n",
    "# from context <a class=\"ProveItLink\" href=\"../../_context_.ipynb\">proveit.logic.boolean.conjunction</a>"
   ]
  },
  {
   "cell_type": "code",
   "execution_count": 1,
   "metadata": {},
   "outputs": [],
   "source": [
    "# import Expression classes needed to build the expression\n",
    "from proveit._common_ import A, B, C, D, E, F, G\n",
    "from proveit.logic import And"
   ]
  },
  {
   "cell_type": "code",
   "execution_count": 2,
   "metadata": {},
   "outputs": [
    {
     "data": {
      "text/html": [
       "<strong id=\"expr\">expr:</strong> <a class=\"ProveItLink\" href=\"expr.ipynb\"><img src=\"data:image/png;base64,iVBORw0KGgoAAAANSUhEUgAAAQ0AAAAVBAMAAACuzqZ5AAAAMFBMVEX///92dnYQEBBERERUVFS6\n",
       "urqIiIhmZmaqqqrc3Nzu7u6YmJgyMjIiIiLMzMwAAACFkkdwAAAAAXRSTlMAQObYZgAAA2lJREFU\n",
       "SMfVVk9IFGEUf7Puv5n9o3QoqINiBKGHtuim4ZJjXrTdU10KFwq75dbFIsq9eauBgiICByEj8jBB\n",
       "dehQSwqhFmvQyYuSHhN3aY3UVXvfv519W6xBITSw3878vvd+35v3fu/tAvxvly9Vc/vlvzhjuer5\n",
       "xbZpticptsSWseODzn2KX0TbiQUILFRx+BNF08xlf7E9+Z3aGRe6b+hpcZ+T2EO1eRAgsEqxafxo\n",
       "rQBnW/mjbivbEkDwB0C2mqMekWCMYmgLbdR/jwO+qw6/Dc1L8L3ci2LM0SLB/FgW4yPaaWv8OZxW\n",
       "tgVchmx4DpQD+lgh0wTzFcoVVP7jc7g0Wvz+wZD4jp6Q8fjxrFCBYB78Crcwrib+vDin8s/ytpKC\n",
       "UaAc0IiVMlIE0zBvcJv4v7NdXaQGhBa8Z6QW6/CsSAvBzrG3zrCEihfp6pfH1eVxGYlDXYZysGI3\n",
       "gEWw8Dro8LrSP8AiAyE5n31H1GccZmVp46BP2AS7ghGUuK64II1sRMmASWAlDlqacsA3CDlQxTsL\n",
       "z6Q6pf8Il9VTfv+YpZVdB+CasFo51X9TcihsBmPfcFWuOYGMtGW+bxsgmKUcvpKZsygH9KXhOvUf\n",
       "clzOJIyId5mFRwIZsMD4DAQ7hJVac30ioMsGGWD5SSSVbsoc2haEgXJA42RvE/Wft8qUUdNM8PYK\n",
       "pcArpsAxxu8QDNVYn+cZ5RavAE4L9w62NCNNnnKE86BBlGI5G+JA/Lfxc+nDUZ5AbAYeW8SGqDAr\n",
       "ilRXYhiHh58k5D4nBxuTAZ60oeJwOVA3OoxRbBMMWQfl38zTxNsE6xTh2RrGzxTPEBNCIkOwwyj7\n",
       "dVATIYhr2FKjBjwx1c9lezE+9hPMV1A1KPsnbDVG9QzPobQdVuNDNIeLtckjNd5GjCPII/Jv4dKO\n",
       "YChL7Pn4ED1exrRVFUfZn6lcHDXOZgB702iM60eOjy/TQLB9rFQZ8Am9Lwr5yfHxlTHyvnXt+Usu\n",
       "LxBMvC7xZxVd+oQ3d49MQaijhCTepBzfgY6i2TMjppLC4Dxj7OmWDdjFFjaJnqBt5y1+SLLS3ujE\n",
       "n7TeTcKBtrJrXX9Ymhx03tAfdtnEv8c8ViWedDfVNbozR03/P7xCDTsY7N2l/0HTtbeN7C7Fca/2\n",
       "ttfapTj02v8LL/8d+09+fgyhsgLXhQAAAABJRU5ErkJggg==\n",
       "\" style=\"display:inline;vertical-align:middle;\" /></a><br>"
      ],
      "text/plain": [
       "expr: A and B and (C and D) and E and F and G"
      ]
     },
     "execution_count": 2,
     "metadata": {},
     "output_type": "execute_result"
    }
   ],
   "source": [
    "# build up the expression from sub-expressions\n",
    "expr = And(A, B, And(C, D), E, F, G)"
   ]
  },
  {
   "cell_type": "code",
   "execution_count": 3,
   "metadata": {},
   "outputs": [
    {
     "name": "stdout",
     "output_type": "stream",
     "text": [
      "Passed sanity check: built 'expr' is the same as the stored Expression.\n"
     ]
    }
   ],
   "source": [
    "# check that the built expression is the same as the stored expression\n",
    "%check_expr"
   ]
  },
  {
   "cell_type": "code",
   "execution_count": 4,
   "metadata": {},
   "outputs": [
    {
     "data": {
      "text/html": [
       "<table><tr><th>&nbsp;</th><th>core type</th><th>sub-expressions</th><th>expression</th></tr>\n",
       "<tr><td>0</td><td>Operation</td><td>operator:&nbsp;8<br>operands:&nbsp;1<br></td><td><a class=\"ProveItLink\" href=\"expr.ipynb\"><img src=\"data:image/png;base64,iVBORw0KGgoAAAANSUhEUgAAAQ0AAAAVBAMAAACuzqZ5AAAAMFBMVEX///92dnYQEBBERERUVFS6\n",
       "urqIiIhmZmaqqqrc3Nzu7u6YmJgyMjIiIiLMzMwAAACFkkdwAAAAAXRSTlMAQObYZgAAA2lJREFU\n",
       "SMfVVk9IFGEUf7Puv5n9o3QoqINiBKGHtuim4ZJjXrTdU10KFwq75dbFIsq9eauBgiICByEj8jBB\n",
       "dehQSwqhFmvQyYuSHhN3aY3UVXvfv519W6xBITSw3878vvd+35v3fu/tAvxvly9Vc/vlvzhjuer5\n",
       "xbZpticptsSWseODzn2KX0TbiQUILFRx+BNF08xlf7E9+Z3aGRe6b+hpcZ+T2EO1eRAgsEqxafxo\n",
       "rQBnW/mjbivbEkDwB0C2mqMekWCMYmgLbdR/jwO+qw6/Dc1L8L3ci2LM0SLB/FgW4yPaaWv8OZxW\n",
       "tgVchmx4DpQD+lgh0wTzFcoVVP7jc7g0Wvz+wZD4jp6Q8fjxrFCBYB78Crcwrib+vDin8s/ytpKC\n",
       "UaAc0IiVMlIE0zBvcJv4v7NdXaQGhBa8Z6QW6/CsSAvBzrG3zrCEihfp6pfH1eVxGYlDXYZysGI3\n",
       "gEWw8Dro8LrSP8AiAyE5n31H1GccZmVp46BP2AS7ghGUuK64II1sRMmASWAlDlqacsA3CDlQxTsL\n",
       "z6Q6pf8Il9VTfv+YpZVdB+CasFo51X9TcihsBmPfcFWuOYGMtGW+bxsgmKUcvpKZsygH9KXhOvUf\n",
       "clzOJIyId5mFRwIZsMD4DAQ7hJVac30ioMsGGWD5SSSVbsoc2haEgXJA42RvE/Wft8qUUdNM8PYK\n",
       "pcArpsAxxu8QDNVYn+cZ5RavAE4L9w62NCNNnnKE86BBlGI5G+JA/Lfxc+nDUZ5AbAYeW8SGqDAr\n",
       "ilRXYhiHh58k5D4nBxuTAZ60oeJwOVA3OoxRbBMMWQfl38zTxNsE6xTh2RrGzxTPEBNCIkOwwyj7\n",
       "dVATIYhr2FKjBjwx1c9lezE+9hPMV1A1KPsnbDVG9QzPobQdVuNDNIeLtckjNd5GjCPII/Jv4dKO\n",
       "YChL7Pn4ED1exrRVFUfZn6lcHDXOZgB702iM60eOjy/TQLB9rFQZ8Am9Lwr5yfHxlTHyvnXt+Usu\n",
       "LxBMvC7xZxVd+oQ3d49MQaijhCTepBzfgY6i2TMjppLC4Dxj7OmWDdjFFjaJnqBt5y1+SLLS3ujE\n",
       "n7TeTcKBtrJrXX9Ymhx03tAfdtnEv8c8ViWedDfVNbozR03/P7xCDTsY7N2l/0HTtbeN7C7Fca/2\n",
       "ttfapTj02v8LL/8d+09+fgyhsgLXhQAAAABJRU5ErkJggg==\n",
       "\" style=\"display:inline;vertical-align:middle;\" /></a></td></tr>\n",
       "<tr><td>1</td><td>ExprTuple</td><td>2, 3, 4, 5, 6, 7</td><td><a class=\"ProveItLink\" href=\"../5026a024ba8d1acb3400ee39c36087edc551caf90/expr.ipynb\"><img src=\"data:image/png;base64,iVBORw0KGgoAAAANSUhEUgAAAMMAAAAVBAMAAAAJNkerAAAAMFBMVEX////c3NwiIiJERESqqqqY\n",
       "mJh2dnZmZmYQEBDu7u4yMjJUVFTMzMyIiIi6uroAAAAs73DqAAAAAXRSTlMAQObYZgAAAvVJREFU\n",
       "SMe9VUtIVGEU/sbxzni71/EuAskWzaYwCJSgMghGaOGyS1GrqNlEtYgReu4UahEu8hYE0oPGRZgK\n",
       "KbQQvAuHtrNwoIWLiqY2PSAytcQxs/M/zr3/COLKBubnnPOf75z/PC/wH36ZynZaPyeOsqLdrBZa\n",
       "M6vhq5esYr+Zup7orUM1k8L0MeberofhdC2+CQcrJjJdInJUSXbMM6ipE+irauaSj8wtX5K7WKGl\n",
       "CJzoZk6YP27cJP06JEmatdOTK4yZJcnspKIf7aej4El6JFLIA2lWz6zRkdbMD7qxqnXIM/TmQEoS\n",
       "PT/ZwgeyeD6v6Bfi9ovK5MGAFciIu6aZ1B86nmqmQLE1lmLka2AI+KbT2PyXXXTRv12ZSy+Js1XS\n",
       "znfui5x40iqiBKeQ0MxEAM8K6pDJbtxQl18bf7ELArcdVeSeojifqMjBDbEoYmIXLZ04HXXCAmzf\n",
       "RN6nKHvxXJW/GkXurr6f26vpPj9upAu4phWEpvWb0z8+HaU4s4y0twHZWMQ9dYnEMvckIR7oand4\n",
       "sYss2rSCyL7DeS2UUGSVVC1sxwZkph9KtRyGi1qW7CcrOmvr8pTJtSpwVCGTor2b+jn9QB4lXZcV\n",
       "OIiRc2OHKeZ57YJ6ZICTOxmnYVCGKg00BHAnOfvUcn5cGM/WjdCSxUMtvisjrEoXd6QV0UTc9QR2\n",
       "lhQ9E0RN30P/4WhucNsci1QQjwUM5IRK1CEh2Kl4m8dC9EPA1i5LzLB2QwoUVXJU50+ORatmCnLq\n",
       "bH5HQgy+VcRFIRQFywV4llVj4Q4EsBfEPUXzWRbOFdlp4LFwadKlgtw77gHNTMh7acWiapb3QTbt\n",
       "J/LWVfNwan0EQ9RMV2mtjVGu7EFhujx+Uy0jRzxQLBtbKBwpaYXHOVp8HVnJ0M2UwAzJJiakf1a8\n",
       "oYomoy/x0VzyXt3K567YRMFkTCtigVh5gzcmDdZWnwJrM8a0givxMt8mF7LMu42PjQna8mNY2YSp\n",
       "s+KIBCa29cP6DvgH60bj9gKbD+sAAAAASUVORK5CYII=\n",
       "\" style=\"display:inline;vertical-align:middle;\" /></a></td></tr>\n",
       "<tr><td>2</td><td>Variable</td><td></td><td><a class=\"ProveItLink\" href=\"../../../../../__pv_it/2cbe72a7ad6f655694dd697106680215e8489b600/expr.ipynb\"><img src=\"data:image/png;base64,iVBORw0KGgoAAAANSUhEUgAAAA8AAAAOBAMAAAACpFvcAAAALVBMVEX///8QEBBERERUVFS6urqI\n",
       "iIhmZmaqqqrc3Nzu7u6YmJgyMjIiIiLMzMwAAADtIaYWAAAAAXRSTlMAQObYZgAAAFtJREFUCNdj\n",
       "YACBOwxQsA9Kc52bAGG05zVAGAFxDmCaZULdAjBjCsO9ADDDgaEvAUTzGhvbKYCVMDAwbgAxChgY\n",
       "eASANAeQwf0AyJgNxEwvGRia5HYwcOm9TgAA6BoR3jrzwFcAAAAASUVORK5CYII=\n",
       "\" style=\"display:inline;vertical-align:middle;\" /></a></td></tr>\n",
       "<tr><td>3</td><td>Variable</td><td></td><td><a class=\"ProveItLink\" href=\"../../../../../__pv_it/077b2ff79244fb4582cbe22c6e3356fa92a52f2f0/expr.ipynb\"><img src=\"data:image/png;base64,iVBORw0KGgoAAAANSUhEUgAAABAAAAAOBAMAAADUAYG5AAAAMFBMVEX///+qqqru7u4iIiJ2dnbc\n",
       "3NyIiIjMzMxmZmYQEBC6uroyMjJERERUVFSYmJgAAADLUcuvAAAAAXRSTlMAQObYZgAAAGpJREFU\n",
       "CNdjYGB4+//u3dMLGIBgDgMDxy8gzf4NiP8CGWxfGRj4vgAZPBMYGJgnARn8FxhY9ygAGfXX0pof\n",
       "gDTlBzAw2YIYJ0EckBBI53sHoBH/gIz7AhBjWH9DjancBLTl/N+7t/cxMAAA3u4f/5xagjYAAAAA\n",
       "SUVORK5CYII=\n",
       "\" style=\"display:inline;vertical-align:middle;\" /></a></td></tr>\n",
       "<tr><td>4</td><td>Operation</td><td>operator:&nbsp;8<br>operands:&nbsp;9<br></td><td><a class=\"ProveItLink\" href=\"../ad514a3eb405c7dce13af51a851a1a745b8995f80/expr.ipynb\"><img src=\"data:image/png;base64,iVBORw0KGgoAAAANSUhEUgAAADgAAAAPBAMAAABD1xE4AAAAMFBMVEX////MzMyqqqoiIiIyMjK6\n",
       "uroQEBB2dnbc3NyYmJhmZmZUVFRERESIiIju7u4AAAB204erAAAAAXRSTlMAQObYZgAAAQVJREFU\n",
       "GNNjYGDgu7NrJccCBmTAu//37i0HQayyCQysyyaABftgsvwODAz6CgwMT+yAnPoGsJgXTFK+gIGB\n",
       "6x8Dg9sDICcMLMR4+AFU8n4AkPeXgesTiNMFFuKOvQCVPA/EHL8Z+h1AnIdgoScMBlDJPyBzfjOs\n",
       "n4BwZCXDIggDaCIDA+d3BvsGhKQBQwvUKx9Blnxl+A/mgR3CeYGBWwDM5fkAJNgSGPJBHCawGPMD\n",
       "BsYNEG8eABLzJzDsB2niAgtpAbEHxJsgV+dA6TqwkAdUAdCbQJN4/IAWAf0ZBXYUI8gsZpg3GcGh\n",
       "Je29SgESBAEgdwIN4lvzf/fuUwIoUcEKJgOQRACAjT4d8TvEzwAAAABJRU5ErkJggg==\n",
       "\" style=\"display:inline;vertical-align:middle;\" /></a></td></tr>\n",
       "<tr><td>5</td><td>Variable</td><td></td><td><a class=\"ProveItLink\" href=\"../../../../../__pv_it/9995c55100c62d7d8a012a35bafc852acbe03cf00/expr.ipynb\"><img src=\"data:image/png;base64,iVBORw0KGgoAAAANSUhEUgAAABAAAAAOBAMAAADUAYG5AAAALVBMVEX///8iIiKYmJjc3Nzu7u7M\n",
       "zMx2dnZmZma6urpERESqqqoyMjJUVFSIiIgAAACbLqVTAAAAAXRSTlMAQObYZgAAAGVJREFUCNdj\n",
       "YGC48+7MmdOvGYAARKwEYo63QIIdiNmeAglfIOZ+wMDGwAxk8E1gUAIpZejbc/oxmJEXwLABzNjH\n",
       "wJDAEABkvGRgMGC5ADWGzQFqjDnEGAZWUQYGn3lvzpyRE2AAAIznGVQJqiN4AAAAAElFTkSuQmCC\n",
       "\" style=\"display:inline;vertical-align:middle;\" /></a></td></tr>\n",
       "<tr><td>6</td><td>Variable</td><td></td><td><a class=\"ProveItLink\" href=\"../../../../../__pv_it/6d1586c49fb5fd7602fde2bbc54560e7304e8ccf0/expr.ipynb\"><img src=\"data:image/png;base64,iVBORw0KGgoAAAANSUhEUgAAABAAAAAOBAMAAADUAYG5AAAAMFBMVEX///9mZmYiIiLc3Nzu7u7M\n",
       "zMyqqqp2dna6urqYmJhEREQyMjIQEBBUVFSIiIgAAABBzvKsAAAAAXRSTlMAQObYZgAAAFxJREFU\n",
       "CNdjYGB4+//u3Tv/GIDgNxCvBGKO70BiBhCzfwMSqUDM/YWBmWEKkMGvwOAJUsrQL8AgDGbU7710\n",
       "AMzY78BwAcz4xMAygQFmDAiw/4AyuD9AaMf1f8GaAdy+F/r2qjhkAAAAAElFTkSuQmCC\n",
       "\" style=\"display:inline;vertical-align:middle;\" /></a></td></tr>\n",
       "<tr><td>7</td><td>Variable</td><td></td><td><a class=\"ProveItLink\" href=\"../../../../../__pv_it/994260d00d104a1ab9cf940a007fb6a4ff36f79e0/expr.ipynb\"><img src=\"data:image/png;base64,iVBORw0KGgoAAAANSUhEUgAAAA8AAAAOBAMAAAACpFvcAAAAMFBMVEX///+qqqrMzMwiIiIyMjK6\n",
       "uroQEBB2dnbc3NyYmJhmZmZUVFRERESIiIju7u4AAACtjd3MAAAAAXRSTlMAQObYZgAAAG5JREFU\n",
       "CNdjYGDgu7NrJccCBgaGsgkMrMsmMDA8sQNy6hsYGNweABnKDAxcH4E0QxcDQ78DiPGCgWH9BAYI\n",
       "sG+AMv4D8S2X4wwMaSBefQADw36Qbn8g1r/AwMDxBcjg/MnAoG0Oktf2XjVhEgMDAJHQGYM57+uu\n",
       "AAAAAElFTkSuQmCC\n",
       "\" style=\"display:inline;vertical-align:middle;\" /></a></td></tr>\n",
       "<tr><td>8</td><td>Literal</td><td></td><td><a class=\"ProveItLink\" href=\"../76b5f4f4c45c0b6a9b59b297fc07dfa9555698f50/expr.ipynb\"><img src=\"data:image/png;base64,iVBORw0KGgoAAAANSUhEUgAAAAwAAAAOBAMAAADpk+DfAAAALVBMVEX///+qqqqYmJh2dnaIiIi6\n",
       "urpUVFQiIiJERETMzMxmZmYyMjLu7u7c3NwAAABvwqPxAAAAAXRSTlMAQObYZgAAAEtJREFUCNdj\n",
       "YGDgPcAAAtwLwNSMGjCV6gIieTawgyhmBS4BIMXOwLsBSKkwMGQCKaC6aQwMjEBd3BdACMScAVJd\n",
       "wJAKolwYAkAUKwAk0guX6efcigAAAABJRU5ErkJggg==\n",
       "\" style=\"display:inline;vertical-align:middle;\" /></a></td></tr>\n",
       "<tr><td>9</td><td>ExprTuple</td><td>10, 11</td><td><a class=\"ProveItLink\" href=\"../fd54ffea77e07ef6158e0f704a03bb0a9ca178230/expr.ipynb\"><img src=\"data:image/png;base64,iVBORw0KGgoAAAANSUhEUgAAADYAAAAVBAMAAAD/UwB2AAAAMFBMVEX////c3NwiIiJERESqqqqY\n",
       "mJh2dnZmZmYQEBDu7u4yMjJUVFTMzMyIiIi6uroAAAAs73DqAAAAAXRSTlMAQObYZgAAAUBJREFU\n",
       "KM9jYMAH+C5gFWZ9ACROg1hzrcsDxCGCt//v3r34AANDDZC9EojZWhkYnrdCdfxiYGD5wsDAxcDA\n",
       "CzSSc9EEoPxHiBTPNyBRP4GBNYGBAyjM1QmytwEix/sPSJy/wMDZwPAKpMoBSDAWQOSYPwAJ+Q0M\n",
       "DCYMZUDRXyAxzgMQOX4DkD6gXDrDUgYG9q/Ijj8P8lN8AgODF0MfAwPTR2S5+yD9+4G+e8EAtJn/\n",
       "A9hMqJw9iOgAGQCS4wDL+UDlPoMC5StYroWBgfsnSAzqTJ6/QIID5J4XDKZQLtsEiKm8f4CEFdDT\n",
       "DFFAlwJd5cDAV8jAMF8B6r1TYDPSGR6BzNm1vQRIzQC6d7r9792ba8Cmr2PgEEA4/yGyX4BhBgxS\n",
       "OAhAlmO7AIkjbHKzgFgazuNFifiNoPDHniZ4DzAAAExYUFmZUn67AAAAAElFTkSuQmCC\n",
       "\" style=\"display:inline;vertical-align:middle;\" /></a></td></tr>\n",
       "<tr><td>10</td><td>Variable</td><td></td><td><a class=\"ProveItLink\" href=\"../../../../../__pv_it/985a1bdf1540838275dec15f4ad6de261cca93ce0/expr.ipynb\"><img src=\"data:image/png;base64,iVBORw0KGgoAAAANSUhEUgAAAA8AAAAOBAMAAAACpFvcAAAAMFBMVEX////MzMyqqqoiIiIyMjK6\n",
       "uroQEBB2dnbc3NyYmJhmZmZUVFRERESIiIju7u4AAAB204erAAAAAXRSTlMAQObYZgAAAGZJREFU\n",
       "CNdjYGDgu7NrJccCBgaGsgkMrMsmMDA8sQNy6hsYGNweABlhDAxcn4A0QxcDQ78DiPGQgWH9BAYI\n",
       "sG+AMv6DSaCGfBDNJMDAsB+kmwuI5S8AiTog5gSaEwXWIO29SgFIAQBC+RaDQlidVgAAAABJRU5E\n",
       "rkJggg==\n",
       "\" style=\"display:inline;vertical-align:middle;\" /></a></td></tr>\n",
       "<tr><td>11</td><td>Variable</td><td></td><td><a class=\"ProveItLink\" href=\"../../../../../__pv_it/185e6d30f167ee2ee5ef3321098dc98e0d77bc590/expr.ipynb\"><img src=\"data:image/png;base64,iVBORw0KGgoAAAANSUhEUgAAABEAAAAOBAMAAAA7w+qHAAAALVBMVEX///8QEBCYmJjc3Ny6urru\n",
       "7u5mZmZ2dnaqqqrMzMxEREQyMjJUVFSIiIgAAABETr/8AAAAAXRSTlMAQObYZgAAAGpJREFUCNdj\n",
       "YGC48+7MmV0TGEDgNQMDxwsQg/M5kMgLABK8T4DEvAtAgusBkLA7ACT4FoDEDsAk9AqAxD2QCecc\n",
       "gMQ6kAGCIOIVEDM9Ahn3FkgwgnTxvgQSqwOgxs1OADLC1r05cyoTyAAAv4Qe+njAWvgAAAAASUVO\n",
       "RK5CYII=\n",
       "\" style=\"display:inline;vertical-align:middle;\" /></a></td></tr>\n",
       "</table>\n"
      ],
      "text/plain": [
       "0. A and B and (C and D) and E and F and G\n",
       "   core type: Operation\n",
       "   operator: 8\n",
       "   operands: 1\n",
       "1. (A , B , C and D , E , F , G)\n",
       "   core type: ExprTuple\n",
       "   sub-expressions: 2, 3, 4, 5, 6, 7\n",
       "2. A\n",
       "   core type: Variable\n",
       "   sub-expressions: \n",
       "3. B\n",
       "   core type: Variable\n",
       "   sub-expressions: \n",
       "4. C and D\n",
       "   core type: Operation\n",
       "   operator: 8\n",
       "   operands: 9\n",
       "5. E\n",
       "   core type: Variable\n",
       "   sub-expressions: \n",
       "6. F\n",
       "   core type: Variable\n",
       "   sub-expressions: \n",
       "7. G\n",
       "   core type: Variable\n",
       "   sub-expressions: \n",
       "8. and\n",
       "   core type: Literal\n",
       "   sub-expressions: \n",
       "9. (C , D)\n",
       "   core type: ExprTuple\n",
       "   sub-expressions: 10, 11\n",
       "10. C\n",
       "    core type: Variable\n",
       "    sub-expressions: \n",
       "11. D\n",
       "    core type: Variable\n",
       "    sub-expressions: "
      ]
     },
     "execution_count": 4,
     "metadata": {},
     "output_type": "execute_result"
    }
   ],
   "source": [
    "# display the expression information\n",
    "expr.exprInfo()"
   ]
  },
  {
   "cell_type": "code",
   "execution_count": null,
   "metadata": {},
   "outputs": [],
   "source": []
  }
 ],
 "metadata": {
  "kernelspec": {
   "display_name": "Python 3",
   "language": "python",
   "name": "python3"
  }
 },
 "nbformat": 4,
 "nbformat_minor": 0
}
