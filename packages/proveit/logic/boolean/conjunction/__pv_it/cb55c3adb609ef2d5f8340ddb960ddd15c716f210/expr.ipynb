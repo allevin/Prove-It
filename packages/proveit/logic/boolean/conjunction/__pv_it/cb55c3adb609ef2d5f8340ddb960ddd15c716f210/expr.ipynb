{
 "cells": [
  {
   "cell_type": "markdown",
   "metadata": {},
   "source": [
    "Expression of type <a class=\"ProveItLink\" href=\"../../../../../../../doc/html/api/proveit.ExprTuple.html\">ExprTuple</a>\n",
    "=======================\n",
    "# from context <a class=\"ProveItLink\" href=\"../../_context_.ipynb\">proveit.logic.boolean.conjunction</a>"
   ]
  },
  {
   "cell_type": "code",
   "execution_count": 1,
   "metadata": {},
   "outputs": [],
   "source": [
    "# import Expression classes needed to build the expression\n",
    "from proveit import ExprTuple\n",
    "from proveit._common_ import A, B, C\n",
    "from proveit.logic import Not, Or"
   ]
  },
  {
   "cell_type": "code",
   "execution_count": 2,
   "metadata": {},
   "outputs": [
    {
     "data": {
      "text/html": [
       "<strong id=\"expr\">expr:</strong> <a class=\"ProveItLink\" href=\"expr.ipynb\"><img src=\"data:image/png;base64,iVBORw0KGgoAAAANSUhEUgAAAOYAAAAVBAMAAACgQo8/AAAAMFBMVEX////c3NwiIiJERESqqqqY\n",
       "mJh2dnZmZmYQEBDu7u4yMjJUVFTMzMyIiIi6uroAAAAs73DqAAAAAXRSTlMAQObYZgAAAtdJREFU\n",
       "SMfFVjtoVEEUvW+zf3eTVwgWQQwWYrCwUQg22U5ItSikUNTtooUYAn4KwRVttNCUIVgsiOgixFgJ\n",
       "bjQLaYQUK9gastgYBUHxh1ncde7cmbdn5oVtvXBm5s2ce+6bO5/3iP6HDb+Fhy8Gjp0d6MKWavuU\n",
       "mAhTLGgdBgrLAugZI8o0PX9wOd1rNI616brHQJHcuxeXg1lNsagDNT8vgJ6vqqhxS0+loDvR5ZZ6\n",
       "py7lyaWgyPkyDV8ra4pBEfO0YdC3E39UMc2tFUtwXAp/FTqUqrgUEFkcV8WlUFMMsjitOwaRBce/\n",
       "qXKBm2tcsL/jUlTjqV+Uq7oUEHnC7C3SFIPPuDdqApAsdlU5VOKchETJWe5ElyGlklARjhBSQCTz\n",
       "g8s9JBTBFRDIVAR9+5T8qco067AYi5LjMrJMwUM1kxlCCojs0+EfkFAEj3DDlAX9Ldfm9aJkzSRN\n",
       "J89xab3amGOPKUIKiNyImlMR7qm32s+mXi3bFszx8wHOEQW/uaqaffFaO6PLZki5Q7JgQAGRw6GN\n",
       "uRWhCydqpC2IDuF6o/Gdx/jAUIJyskzoMqHqTTWVFiEFRHq65n3UijAwpmrfjWJmSulyLGZH1ecq\n",
       "NqalgMh9vdBNJ+ZtEMiWBDZmUlUHo9wGtYSMgEuBt9hqyebWUkBklaeYcXN7FGIOlQU25m5VPeO7\n",
       "UnK6ckZGwIWPZ7Ct2qcIKSDS4gvkAhmKYMYucVPOhD4XcofptZmcj/rWxmUEXPh4vqn3+wwFRFLq\n",
       "fH4MyTkrH/BOGBOYO2hiO6STvcdq68vy5I1S3yUz2Wm81EdniZDSF1FTfXpVMr0UIRtC0JsGni2Y\n",
       "lzZ3nuNiDnLVpewgAndfCu+daXuhu3bR+xRWYoy090XdQYQpFoO/ZfoNa15HPSa46D3HRTTFYhQ/\n",
       "I8sC13b5uRyNCT73nuMimmIRYFr2Gjj23u8I/H+Tov8nERdhisE/1bblttr9W74AAAAASUVORK5C\n",
       "YII=\n",
       "\" style=\"display:inline;vertical-align:middle;\" /></a><br>"
      ],
      "text/plain": [
       "expr: ([not]([not](A) or [not](B) or [not](C)))"
      ]
     },
     "execution_count": 2,
     "metadata": {},
     "output_type": "execute_result"
    }
   ],
   "source": [
    "# build up the expression from sub-expressions\n",
    "expr = ExprTuple(Not(Or(Not(A), Not(B), Not(C))))"
   ]
  },
  {
   "cell_type": "code",
   "execution_count": 3,
   "metadata": {},
   "outputs": [
    {
     "name": "stdout",
     "output_type": "stream",
     "text": [
      "Passed sanity check: built 'expr' is the same as the stored Expression.\n"
     ]
    }
   ],
   "source": [
    "# check that the built expression is the same as the stored expression\n",
    "%check_expr"
   ]
  },
  {
   "cell_type": "code",
   "execution_count": 4,
   "metadata": {},
   "outputs": [
    {
     "data": {
      "text/html": [
       "<table><tr><th>&nbsp;</th><th>core type</th><th>sub-expressions</th><th>expression</th></tr>\n",
       "<tr><td>0</td><td>ExprTuple</td><td>1</td><td><a class=\"ProveItLink\" href=\"expr.ipynb\"><img src=\"data:image/png;base64,iVBORw0KGgoAAAANSUhEUgAAAOYAAAAVBAMAAACgQo8/AAAAMFBMVEX////c3NwiIiJERESqqqqY\n",
       "mJh2dnZmZmYQEBDu7u4yMjJUVFTMzMyIiIi6uroAAAAs73DqAAAAAXRSTlMAQObYZgAAAtdJREFU\n",
       "SMfFVjtoVEEUvW+zf3eTVwgWQQwWYrCwUQg22U5ItSikUNTtooUYAn4KwRVttNCUIVgsiOgixFgJ\n",
       "bjQLaYQUK9gastgYBUHxh1ncde7cmbdn5oVtvXBm5s2ce+6bO5/3iP6HDb+Fhy8Gjp0d6MKWavuU\n",
       "mAhTLGgdBgrLAugZI8o0PX9wOd1rNI616brHQJHcuxeXg1lNsagDNT8vgJ6vqqhxS0+loDvR5ZZ6\n",
       "py7lyaWgyPkyDV8ra4pBEfO0YdC3E39UMc2tFUtwXAp/FTqUqrgUEFkcV8WlUFMMsjitOwaRBce/\n",
       "qXKBm2tcsL/jUlTjqV+Uq7oUEHnC7C3SFIPPuDdqApAsdlU5VOKchETJWe5ElyGlklARjhBSQCTz\n",
       "g8s9JBTBFRDIVAR9+5T8qco067AYi5LjMrJMwUM1kxlCCojs0+EfkFAEj3DDlAX9Ldfm9aJkzSRN\n",
       "J89xab3amGOPKUIKiNyImlMR7qm32s+mXi3bFszx8wHOEQW/uaqaffFaO6PLZki5Q7JgQAGRw6GN\n",
       "uRWhCydqpC2IDuF6o/Gdx/jAUIJyskzoMqHqTTWVFiEFRHq65n3UijAwpmrfjWJmSulyLGZH1ecq\n",
       "NqalgMh9vdBNJ+ZtEMiWBDZmUlUHo9wGtYSMgEuBt9hqyebWUkBklaeYcXN7FGIOlQU25m5VPeO7\n",
       "UnK6ckZGwIWPZ7Ct2qcIKSDS4gvkAhmKYMYucVPOhD4XcofptZmcj/rWxmUEXPh4vqn3+wwFRFLq\n",
       "fH4MyTkrH/BOGBOYO2hiO6STvcdq68vy5I1S3yUz2Wm81EdniZDSF1FTfXpVMr0UIRtC0JsGni2Y\n",
       "lzZ3nuNiDnLVpewgAndfCu+daXuhu3bR+xRWYoy090XdQYQpFoO/ZfoNa15HPSa46D3HRTTFYhQ/\n",
       "I8sC13b5uRyNCT73nuMimmIRYFr2Gjj23u8I/H+Tov8nERdhisE/1bblttr9W74AAAAASUVORK5C\n",
       "YII=\n",
       "\" style=\"display:inline;vertical-align:middle;\" /></a></td></tr>\n",
       "<tr><td>1</td><td>Operation</td><td>operator:&nbsp;10<br>operand:&nbsp;2<br></td><td><a class=\"ProveItLink\" href=\"../46a477e32b297c83799ba878a4bc9ae8b1c3625c0/expr.ipynb\"><img src=\"data:image/png;base64,iVBORw0KGgoAAAANSUhEUgAAANcAAAAVBAMAAAAnc2Y5AAAAMFBMVEX////c3NxERESqqqqYmJgQ\n",
       "EBDu7u4yMjKIiIi6urpUVFTMzMx2dnYiIiJmZmYAAABjE816AAAAAXRSTlMAQObYZgAAAs5JREFU\n",
       "SMfFlTtoFEEYx787927vdu8RtIhYGMFHIYjXWQh6nQgHOVEUK7cJ0ULYgCgp1CsDgtlGtImcNsIW\n",
       "5gpJIchdYZEqpNDO4GlKH2dQEj0E/b557Dx2sfWD/+3NzG/+M/vNYwH+T5Q7XEY4kY09sivOZhml\n",
       "ERN7KaTiFeqT1c/vqoksj+On81DrWYhucvXo1+Z+hpjYTSEVd1EumysrMtoNVHvhAMAogtBCNJPK\n",
       "BYDHKEJCzbnU4dJS+B6NnQH+83ogGxc0oI81/S60wEA0k+JtdKhsAUNaWs9CwKViz2gC+TblDl8B\n",
       "qqzxogYsYvv0AGbAQDQTl+gyOhAyo/V8KKSis0i74yD9nUOdYtnSk3EY9TaAfMNANJMRteSGwBCO\n",
       "8fgspDZVcLqJjzUQLuQGtYFGjAEmj2CehgaiTHI7LJc9jnCMxw2hJK6xNYETwPPD8gRuU9uY44X7\n",
       "b/C5KzQQZVL7If8RgvqygfEOy5e5alTeoPlHMEVzeSB2j8dOXAF/ZZcSrvz1Ll8UDVEm1a0kS22J\n",
       "8ZPxS0geJj+Ol2mmfVazDrPsWY/UYcpj7xJO3v9mIMqkzhqKwBGBZQ6GB6cQJoNtwuvUYHWknN+J\n",
       "i0SUSYE1nMwY7LyQHAz3TrUt0wiTOHGWxoYarI/r531P8iMRZeJt03OYkcZDQmKwHLq6NJczrMZ7\n",
       "wY9qvqkGo2M2hS/vhAaiTPyfdInQsXMUBr7Y4mtyQXss//ntpM4/xo9qsn99dsz8S0FSJxHNZLoB\n",
       "5Q+ym771l4R47L4yB87xHWyf5xV3xLZaT5CPf+L4Fr2oGxnIknY4nj3f5FdJpDC2GhNcVhRFpldE\n",
       "+Vz62yTvoRVllIXo1xXduM4ghVWsj1Mr7bRqfQIH2cjqvz8xFLNW2Q1S7x5aFWkTQkxsn5AZT6xy\n",
       "rmsTnp22tAkhJpbrcBlRsj/DsNeuuGdXpEwYgvoLnCPRSh2aeaYAAAAASUVORK5CYII=\n",
       "\" style=\"display:inline;vertical-align:middle;\" /></a></td></tr>\n",
       "<tr><td>2</td><td>Operation</td><td>operator:&nbsp;3<br>operands:&nbsp;4<br></td><td><a class=\"ProveItLink\" href=\"../54cf6bf94f329d48ff1521494fe32a47d69d48e50/expr.ipynb\"><img src=\"data:image/png;base64,iVBORw0KGgoAAAANSUhEUgAAALUAAAAVBAMAAADyYbJ0AAAAMFBMVEX////c3NwiIiJERESqqqqY\n",
       "mJh2dnZmZmYQEBDu7u4yMjJUVFTMzMyIiIi6uroAAAAs73DqAAAAAXRSTlMAQObYZgAAAllJREFU\n",
       "OMu1lT1oFEEUx//nuXeX3b1kQUGISIKgaBWRCFp5nWDjViks9BpRC/HwuxDuBBstksUqBJG9QvyC\n",
       "eGJhscUdgoWkuICFjSGHjSIIEaKgB8b33tzefhwZyIEDMzvz5jdv5r15bxb4n2V0OSUwOmnkO7aO\n",
       "nOFmKSF6S/V2CrMbkdJmN3i9qEUw8uHN9Uwl36LuswT0kqop5siQAZheNF84BFQ7WuSCi9FbLnyg\n",
       "mHCJMUWQUaaexWvU5EoMaJOk3dAhCwepuexghg7ixXXvrDpkVI2tpANim0zeiwGrNH+2rEOesuAr\n",
       "MA98S7hkeZVvaZq7daonxHQ/BhylesDTIPl1bncB2RJuJGLGO+XS5zx6i+pCl2NEFxg/pkMmZJuH\n",
       "QK6Cx3Hdj8SfOAllrBgN043FQ3fl4z7okGrY3e5jlnbdy4W37mCiorwll2RJGBeovcLEfhL+AB40\n",
       "dMiUE/qghr+xCLWDoMnnaItkEgvyHQsThTIhS3dY/KlDNuRLN2KvJXRTwBb8/sJrODege4wo45cO\n",
       "mRN/tET33ZjuErmwFhqMcTqWGFyKdLfJm9a6DmlyCOaVT45EujNEmGvUPy0S651Kq6wb6ebwlkjY\n",
       "FJFguMhp6KtgUrnLvsv+DgMM9mGVVrlKuL2Et33f0yEGWfXFUbLP/ejZMVeHcfwPYYtK8KR34ZN9\n",
       "5OpGEDyXM26KYOnFTfGQ2UHBGXh1JaGpvO+N72AYZL73MCVLLvWiz2AY5NLAGysvWWpsekMgI3zj\n",
       "uwcWvkqNM40hEIt9nUn/04qtNLcHW0c+Af8AMTa1U1YnfV4AAAAASUVORK5CYII=\n",
       "\" style=\"display:inline;vertical-align:middle;\" /></a></td></tr>\n",
       "<tr><td>3</td><td>Literal</td><td></td><td><a class=\"ProveItLink\" href=\"../../../disjunction/__pv_it/087d0b4ded7c7e5bf3bba05ecb616d7a8051ff650/expr.ipynb\"><img src=\"data:image/png;base64,iVBORw0KGgoAAAANSUhEUgAAAAwAAAAOBAMAAADpk+DfAAAALVBMVEX///+YmJh2dnZmZmaqqqrc\n",
       "3NwyMjLu7u4iIiJERESIiIhUVFTMzMy6uroAAAD0I/TTAAAAAXRSTlMAQObYZgAAAEtJREFUCNdj\n",
       "uMAABDwMe0DUKoaTIKqdgS2AgYHFAITAzHYGsMQqBoa9QIqDgT0BSDE7MAkAKdYEDpAehj1SYOpk\n",
       "O5hiMwBTPAUMDAB33Atnw8aG2QAAAABJRU5ErkJggg==\n",
       "\" style=\"display:inline;vertical-align:middle;\" /></a></td></tr>\n",
       "<tr><td>4</td><td>ExprTuple</td><td>5, 6, 7</td><td><a class=\"ProveItLink\" href=\"../be92e60b776e6d7a1a8102c83385979c34de3b790/expr.ipynb\"><img src=\"data:image/png;base64,iVBORw0KGgoAAAANSUhEUgAAAHkAAAAVBAMAAACQ4lxbAAAAMFBMVEX////c3NwiIiJERESqqqqY\n",
       "mJh2dnZmZmYQEBDu7u4yMjJUVFTMzMyIiIi6uroAAAAs73DqAAAAAXRSTlMAQObYZgAAAbtJREFU\n",
       "OMullL9LAmEYx79ml55eJhQENQhBUZMuQU35H+TUWG7VEEnRj02HpoaUpoiIawj6ASU0NNygtDoo\n",
       "NLQUSkvRZGFBCdnznpzec+dQ9sI9d3ye93vP8z7P+77A/4av0KZwVpgcQzeWKVKmql1dWKB8e73m\n",
       "iLmy9HnKHJfWCO4QEC9xthCBbzMCFehmiUvBlEWdJ38+zdD+GJllP2bo32x6X9xvURcJzEUZOhGS\n",
       "Z2APeGGOQtGSJCboGWURXBVh+wFnGOus/qnpiEVdBQYmGQmowh4AXTEcmx2H+jLNQ6k+3A1zFDcC\n",
       "dKrYoVSGxBBrKyEQq3tWBBqhor4Cu2nGgkZpfAl8G0FoiqJpmZApCm0FZ4L+8M5YTX9TKZQyU/uo\n",
       "BSpX9xCWPhhL6llndfWWSR0GOhJcnadFeiuMZUQHXPXMx5tqB6k9ZT2phlq0WxTZxPTCLoqtpWLe\n",
       "wFnsk3V+Qn5rFFxvt7KdYkyiVJ5E5ahjj42cepNHkKa+YnKyud9Wa5p2RsmbGXLnG2Hx9pTg9tvP\n",
       "rB+/YrRTpaiNSi0Ocyu2ZDuhf1DLormDNtzqsmnBvGIxjnZvpnvgB/BzcyMaixFWAAAAAElFTkSu\n",
       "QmCC\n",
       "\" style=\"display:inline;vertical-align:middle;\" /></a></td></tr>\n",
       "<tr><td>5</td><td>Operation</td><td>operator:&nbsp;10<br>operand:&nbsp;8<br></td><td><a class=\"ProveItLink\" href=\"../feaa1d0e6d92ad9ead8e5ffd1f92697e3912387a0/expr.ipynb\"><img src=\"data:image/png;base64,iVBORw0KGgoAAAANSUhEUgAAABwAAAAOBAMAAADOPWE3AAAAMFBMVEX///8QEBBERES6urqIiIiq\n",
       "qqrc3Nzu7u6YmJgyMjJUVFTMzMx2dnYiIiJmZmYAAADMbjvTAAAAAXRSTlMAQObYZgAAAGNJREFU\n",
       "CNdjYEAA7gsMyIDzAwq39zsyjy3uGzKXheUzMtec9QcSj92A+wsDw9u7QHAHyGVmYPsHldkFwqtW\n",
       "fULiGjAwSCK4rEDqIoKbCqTmw1zLwD4BSOkXwFyk+DOBoen/PABSrhtHsYt+gAAAAABJRU5ErkJg\n",
       "gg==\n",
       "\" style=\"display:inline;vertical-align:middle;\" /></a></td></tr>\n",
       "<tr><td>6</td><td>Operation</td><td>operator:&nbsp;10<br>operand:&nbsp;9<br></td><td><a class=\"ProveItLink\" href=\"../1da4e2fe7c44632f084fa27ea32e26dc689384c20/expr.ipynb\"><img src=\"data:image/png;base64,iVBORw0KGgoAAAANSUhEUgAAAB0AAAAOBAMAAAAh/woJAAAAMFBMVEX///+qqqru7u7c3NyIiIgQ\n",
       "EBC6uroyMjJERESYmJhUVFTMzMx2dnYiIiJmZmYAAADtoHoAAAAAAXRSTlMAQObYZgAAAHpJREFU\n",
       "CNdjYIACzvW/Vq0oY0AA1gYGhvcJCP5+ByBegOD7GzAwzD+A4LcC8VUFBP8XA4N5E4LL/cvF7yaQ\n",
       "fnsXCO4wMLB8ZmDQhRm3i4GBIwAo9hPB5wfKcf5B8PdPYGDg+ojgg6y3L4AZDraeOxxh/Yv/q1aV\n",
       "A7UAAFRxJOZ+1MVPAAAAAElFTkSuQmCC\n",
       "\" style=\"display:inline;vertical-align:middle;\" /></a></td></tr>\n",
       "<tr><td>7</td><td>Operation</td><td>operator:&nbsp;10<br>operand:&nbsp;11<br></td><td><a class=\"ProveItLink\" href=\"../4fbdcb4671f0f96544ca64362db2c9fec03a54b30/expr.ipynb\"><img src=\"data:image/png;base64,iVBORw0KGgoAAAANSUhEUgAAAB0AAAAOBAMAAAAh/woJAAAAMFBMVEX///+qqqoyMjK6uroQEBDc\n",
       "3NyYmJhERESIiIju7u5UVFTMzMx2dnYiIiJmZmYAAABcp3IwAAAAAXRSTlMAQObYZgAAAG9JREFU\n",
       "CNdjYIABzvZ1z1gfwLkMRxIYmJ8kwLmTbgKJ8wFwvsoEIGEC5/J9BJFxcH68AoicDee/h5n09i4Q\n",
       "3GG4jzAJCHYx/AfTE+B8fxDFuAHOXw+S4kOo398ApE7C+NwMbED77ZDN3KX1TgBIAQC0Ih9XIAXH\n",
       "nQAAAABJRU5ErkJggg==\n",
       "\" style=\"display:inline;vertical-align:middle;\" /></a></td></tr>\n",
       "<tr><td>8</td><td>Variable</td><td></td><td><a class=\"ProveItLink\" href=\"../../../../../__pv_it/2cbe72a7ad6f655694dd697106680215e8489b600/expr.ipynb\"><img src=\"data:image/png;base64,iVBORw0KGgoAAAANSUhEUgAAAA8AAAAOBAMAAAACpFvcAAAALVBMVEX///8QEBBERERUVFS6urqI\n",
       "iIhmZmaqqqrc3Nzu7u6YmJgyMjIiIiLMzMwAAADtIaYWAAAAAXRSTlMAQObYZgAAAFtJREFUCNdj\n",
       "YACBOwxQsA9Kc52bAGG05zVAGAFxDmCaZULdAjBjCsO9ADDDgaEvAUTzGhvbKYCVMDAwbgAxChgY\n",
       "eASANAeQwf0AyJgNxEwvGRia5HYwcOm9TgAA6BoR3jrzwFcAAAAASUVORK5CYII=\n",
       "\" style=\"display:inline;vertical-align:middle;\" /></a></td></tr>\n",
       "<tr><td>9</td><td>Variable</td><td></td><td><a class=\"ProveItLink\" href=\"../../../../../__pv_it/077b2ff79244fb4582cbe22c6e3356fa92a52f2f0/expr.ipynb\"><img src=\"data:image/png;base64,iVBORw0KGgoAAAANSUhEUgAAABAAAAAOBAMAAADUAYG5AAAAMFBMVEX///+qqqru7u4iIiJ2dnbc\n",
       "3NyIiIjMzMxmZmYQEBC6uroyMjJERERUVFSYmJgAAADLUcuvAAAAAXRSTlMAQObYZgAAAGpJREFU\n",
       "CNdjYGB4+//u3dMLGIBgDgMDxy8gzf4NiP8CGWxfGRj4vgAZPBMYGJgnARn8FxhY9ygAGfXX0pof\n",
       "gDTlBzAw2YIYJ0EckBBI53sHoBH/gIz7AhBjWH9DjancBLTl/N+7t/cxMAAA3u4f/5xagjYAAAAA\n",
       "SUVORK5CYII=\n",
       "\" style=\"display:inline;vertical-align:middle;\" /></a></td></tr>\n",
       "<tr><td>10</td><td>Literal</td><td></td><td><a class=\"ProveItLink\" href=\"../../../negation/__pv_it/7bea79645543c2413aa17e787cca04e21046fde60/expr.ipynb\"><img src=\"data:image/png;base64,iVBORw0KGgoAAAANSUhEUgAAAAwAAAAGBAMAAAAFwGKyAAAAFVBMVEX///9UVFTMzMx2dnYiIiJm\n",
       "ZmYAAACWz4ZEAAAAAXRSTlMAQObYZgAAABRJREFUCNdjCHEBAmcGMFDEQzEBAEl+Ai6uYJv/AAAA\n",
       "AElFTkSuQmCC\n",
       "\" style=\"display:inline;vertical-align:middle;\" /></a></td></tr>\n",
       "<tr><td>11</td><td>Variable</td><td></td><td><a class=\"ProveItLink\" href=\"../../../../../__pv_it/985a1bdf1540838275dec15f4ad6de261cca93ce0/expr.ipynb\"><img src=\"data:image/png;base64,iVBORw0KGgoAAAANSUhEUgAAAA8AAAAOBAMAAAACpFvcAAAAMFBMVEX////MzMyqqqoiIiIyMjK6\n",
       "uroQEBB2dnbc3NyYmJhmZmZUVFRERESIiIju7u4AAAB204erAAAAAXRSTlMAQObYZgAAAGZJREFU\n",
       "CNdjYGDgu7NrJccCBgaGsgkMrMsmMDA8sQNy6hsYGNweABlhDAxcn4A0QxcDQ78DiPGQgWH9BAYI\n",
       "sG+AMv6DSaCGfBDNJMDAsB+kmwuI5S8AiTog5gSaEwXWIO29SgFIAQBC+RaDQlidVgAAAABJRU5E\n",
       "rkJggg==\n",
       "\" style=\"display:inline;vertical-align:middle;\" /></a></td></tr>\n",
       "</table>\n"
      ],
      "text/plain": [
       "0. ([not]([not](A) or [not](B) or [not](C)))\n",
       "   core type: ExprTuple\n",
       "   sub-expressions: 1\n",
       "1. [not]([not](A) or [not](B) or [not](C))\n",
       "   core type: Operation\n",
       "   operator: 10\n",
       "   operand: 2\n",
       "2. [not](A) or [not](B) or [not](C)\n",
       "   core type: Operation\n",
       "   operator: 3\n",
       "   operands: 4\n",
       "3. or\n",
       "   core type: Literal\n",
       "   sub-expressions: \n",
       "4. ([not](A) , [not](B) , [not](C))\n",
       "   core type: ExprTuple\n",
       "   sub-expressions: 5, 6, 7\n",
       "5. [not](A)\n",
       "   core type: Operation\n",
       "   operator: 10\n",
       "   operand: 8\n",
       "6. [not](B)\n",
       "   core type: Operation\n",
       "   operator: 10\n",
       "   operand: 9\n",
       "7. [not](C)\n",
       "   core type: Operation\n",
       "   operator: 10\n",
       "   operand: 11\n",
       "8. A\n",
       "   core type: Variable\n",
       "   sub-expressions: \n",
       "9. B\n",
       "   core type: Variable\n",
       "   sub-expressions: \n",
       "10. not\n",
       "    core type: Literal\n",
       "    sub-expressions: \n",
       "11. C\n",
       "    core type: Variable\n",
       "    sub-expressions: "
      ]
     },
     "execution_count": 4,
     "metadata": {},
     "output_type": "execute_result"
    }
   ],
   "source": [
    "# display the expression information\n",
    "expr.exprInfo()"
   ]
  },
  {
   "cell_type": "code",
   "execution_count": null,
   "metadata": {},
   "outputs": [],
   "source": []
  }
 ],
 "metadata": {
  "kernelspec": {
   "display_name": "Python 3",
   "language": "python",
   "name": "python3"
  }
 },
 "nbformat": 4,
 "nbformat_minor": 0
}
