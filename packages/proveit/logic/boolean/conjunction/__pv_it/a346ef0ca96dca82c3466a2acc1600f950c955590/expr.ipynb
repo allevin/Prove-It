{
 "cells": [
  {
   "cell_type": "markdown",
   "metadata": {},
   "source": [
    "Expression of type <a class=\"ProveItLink\" href=\"../../../../../../../doc/html/api/proveit.logic.InSet.html\">InSet</a>\n",
    "=======================\n",
    "# from context <a class=\"ProveItLink\" href=\"../../_context_.ipynb\">proveit.logic.boolean.conjunction</a>"
   ]
  },
  {
   "cell_type": "code",
   "execution_count": 1,
   "metadata": {},
   "outputs": [],
   "source": [
    "# import Expression classes needed to build the expression\n",
    "from proveit._common_ import C, D\n",
    "from proveit.logic import Booleans, InSet\n",
    "from proveit.number import Exp, two"
   ]
  },
  {
   "cell_type": "code",
   "execution_count": 2,
   "metadata": {},
   "outputs": [
    {
     "data": {
      "text/html": [
       "<strong id=\"expr\">expr:</strong> <a class=\"ProveItLink\" href=\"expr.ipynb\"><img src=\"data:image/png;base64,iVBORw0KGgoAAAANSUhEUgAAAGgAAAAZBAMAAAAvTHb2AAAAMFBMVEX////c3NwiIiJERESqqqqY\n",
       "mJh2dnZmZmYQEBDu7u4yMjJUVFTMzMyIiIi6uroAAAAs73DqAAAAAXRSTlMAQObYZgAAAe9JREFU\n",
       "OMuVVE8oBGEUf2vs7szu7Jjag4OLVi4u/kQSZQs3xYkbe7JFiogjYQ9STE4uSltiT1wkuwfuFOXq\n",
       "X3uglLI2wrLrvZlvzLfsbs1XU+977/2+7/d+730DYHeF2zXbGLfm3rINKlMdX7ZBYlDKgv1V/gGg\n",
       "XBSODRUDeUIAp2Rsts/2Vxo+33EmEe/Aik/yc0fTe7s1QTTG8Ivh54oAPERYtALV6cPoX5EanqTY\n",
       "CIATL/IhOymK0rtSLHiOXjfyHvgHghsPwD2cgYj5nmX0KfMseHsHIH8DbBjbzWigzgT1eDW5ufsI\n",
       "HnE7R1QdEwzUSZsMgEBekLc17iY/iLncM8xgxif5JLPwNKUiyKWf4tcsenJtm2FuYwGvPHViBs43\n",
       "7IeuRKNVU7L+nbVnFScjxYN8NCXeLCtSauCFuO4yTIxWPOv0WEygnYgAmQxlIRCwhBCUkAkSdVCv\n",
       "2SY6e7ifgeR9/iYBjIuXkMsHGaZ458R70eyBVF0I1MJKd6FKulC3qKJAY+LUhTjIAzF6YSITBGUS\n",
       "T31hbZJ3yDAkX7/jQIOXhpkk4vHDaaKypoI0lUskWvWWefR0x87J78A2rQTZo1IttRWV156NUXmc\n",
       "qcctZ4iz8yLjJR5irAhIKvX/qLLMvDfsVUuAHEWe+1VxyA+LaIDzXuLejQAAAABJRU5ErkJggg==\n",
       "\" style=\"display:inline;vertical-align:middle;\" /></a><br>"
      ],
      "text/plain": [
       "expr: (C , D) in BOOLEANS^{2}"
      ]
     },
     "execution_count": 2,
     "metadata": {},
     "output_type": "execute_result"
    }
   ],
   "source": [
    "# build up the expression from sub-expressions\n",
    "expr = InSet([C, D], Exp(Booleans, two))"
   ]
  },
  {
   "cell_type": "code",
   "execution_count": 3,
   "metadata": {},
   "outputs": [
    {
     "name": "stdout",
     "output_type": "stream",
     "text": [
      "Passed sanity check: built 'expr' is the same as the stored Expression.\n"
     ]
    }
   ],
   "source": [
    "# check that the built expression is the same as the stored expression\n",
    "%check_expr"
   ]
  },
  {
   "cell_type": "code",
   "execution_count": 4,
   "metadata": {},
   "outputs": [
    {
     "data": {
      "text/html": [
       "<table><tr><th>&nbsp;</th><th>core type</th><th>sub-expressions</th><th>expression</th></tr>\n",
       "<tr><td>0</td><td>Operation</td><td>operator:&nbsp;1<br>operands:&nbsp;2<br></td><td><a class=\"ProveItLink\" href=\"expr.ipynb\"><img src=\"data:image/png;base64,iVBORw0KGgoAAAANSUhEUgAAAGgAAAAZBAMAAAAvTHb2AAAAMFBMVEX////c3NwiIiJERESqqqqY\n",
       "mJh2dnZmZmYQEBDu7u4yMjJUVFTMzMyIiIi6uroAAAAs73DqAAAAAXRSTlMAQObYZgAAAe9JREFU\n",
       "OMuVVE8oBGEUf2vs7szu7Jjag4OLVi4u/kQSZQs3xYkbe7JFiogjYQ9STE4uSltiT1wkuwfuFOXq\n",
       "X3uglLI2wrLrvZlvzLfsbs1XU+977/2+7/d+730DYHeF2zXbGLfm3rINKlMdX7ZBYlDKgv1V/gGg\n",
       "XBSODRUDeUIAp2Rsts/2Vxo+33EmEe/Aik/yc0fTe7s1QTTG8Ivh54oAPERYtALV6cPoX5EanqTY\n",
       "CIATL/IhOymK0rtSLHiOXjfyHvgHghsPwD2cgYj5nmX0KfMseHsHIH8DbBjbzWigzgT1eDW5ufsI\n",
       "HnE7R1QdEwzUSZsMgEBekLc17iY/iLncM8xgxif5JLPwNKUiyKWf4tcsenJtm2FuYwGvPHViBs43\n",
       "7IeuRKNVU7L+nbVnFScjxYN8NCXeLCtSauCFuO4yTIxWPOv0WEygnYgAmQxlIRCwhBCUkAkSdVCv\n",
       "2SY6e7ifgeR9/iYBjIuXkMsHGaZ458R70eyBVF0I1MJKd6FKulC3qKJAY+LUhTjIAzF6YSITBGUS\n",
       "T31hbZJ3yDAkX7/jQIOXhpkk4vHDaaKypoI0lUskWvWWefR0x87J78A2rQTZo1IttRWV156NUXmc\n",
       "qcctZ4iz8yLjJR5irAhIKvX/qLLMvDfsVUuAHEWe+1VxyA+LaIDzXuLejQAAAABJRU5ErkJggg==\n",
       "\" style=\"display:inline;vertical-align:middle;\" /></a></td></tr>\n",
       "<tr><td>1</td><td>Literal</td><td></td><td><a class=\"ProveItLink\" href=\"../../../../set_theory/membership/__pv_it/088cbc857536a28d4119ad9639a84270ccb0545d0/expr.ipynb\"><img src=\"data:image/png;base64,iVBORw0KGgoAAAANSUhEUgAAAAwAAAAMBAMAAACkW0HUAAAALVBMVEX///+qqqpmZmZUVFQQEBC6\n",
       "urpERETc3NyYmJjMzMwiIiIyMjKIiIju7u4AAACYsrA9AAAAAXRSTlMAQObYZgAAADxJREFUCNdj\n",
       "YOA9vWrVBgaG2b0MQMCeCyIZ2ArA1DUwyRCyahVIyWQI7xaEYm4AU7xLIdxqTQgtvGvVBgCkcQ7e\n",
       "geM/tQAAAABJRU5ErkJggg==\n",
       "\" style=\"display:inline;vertical-align:middle;\" /></a></td></tr>\n",
       "<tr><td>2</td><td>ExprTuple</td><td>3, 4</td><td><a class=\"ProveItLink\" href=\"../180a02b0e899c625859a2caf4555421f55eac1800/expr.ipynb\"><img src=\"data:image/png;base64,iVBORw0KGgoAAAANSUhEUgAAAGwAAAAcBAMAAAB2akc/AAAAMFBMVEX///+qqqp2dnYiIiJERESI\n",
       "iIhmZmYQEBDc3NyYmJgyMjLu7u5UVFTMzMy6uroAAACGxKilAAAAAXRSTlMAQObYZgAAAk1JREFU\n",
       "OMudVE1r1FAUPa3zkUwmmRHcuHIQVFDBLkQUkaYIbqw4YIsbtV2IIi7sogtBoVlUF26MIi41K7to\n",
       "wdkJguhCBOtA/QGVKUp1p1OtKExnxnOTl0naySY+eC83997z3nnn3gRIN/aO1pB+5Go5T5nfU8C2\n",
       "OVobFbHMNylg+bLRwbJYL9ORHWghW+XzvbysJuc86XcVSPEooE2FRI2xd9e0ST+WXdqoL56hAh/D\n",
       "7P3rz+cOl2kc5LzAiCQWhOg+F9ZVN8gqUa9dzPJ6p9irxvxuQBc9XteQX+FzXO54nMshJ0hqMJpr\n",
       "AQ9jMFwqAJ/xiXq6aIjvFuecnPhNJU1wM/M38CIO21msmSPbP3BDG+fpssgltybBuyrpLKe2AWTK\n",
       "8dNmke92m2TaxKLUnpTu+9d4pZLWRSfCBicjmHnstLKtFkZFEQpxw42pLPyg/2SVeprYX4b/VMNw\n",
       "G8+k9rzJsBODZdtcih3uOxUjOb5D2VoHR0Ruwrq+Q3VMpimbEWI2Y7CMVQlsY60Hm/E7R5W3ZHN5\n",
       "6m6Fwe6dtuA3KLAkB+VUTkNuMY0tJCNYG2+Fk6syDyiaEzw1My+yeCHzOEnrL84hkFln3b46MH6p\n",
       "spmilR8JXIQ9HlMns24/BD3EZXnhCrkaM4Re7tbrp/xrFlYCl7Tyydth7Qc9lCR8M9LeihciaK7N\n",
       "LtmsiqLwjToW+qaEPf0u+QIcmEPhh5MAM7xE2CPOEVE0+p9U4/Gi0+eScYLznhh3kn8KFxO9uvT3\n",
       "QCXtz3LWXx+khV3H/45/umeYoKFN888AAAAASUVORK5CYII=\n",
       "\" style=\"display:inline;vertical-align:middle;\" /></a></td></tr>\n",
       "<tr><td>3</td><td>ExprTuple</td><td>5, 6</td><td><a class=\"ProveItLink\" href=\"../fd54ffea77e07ef6158e0f704a03bb0a9ca178230/expr.ipynb\"><img src=\"data:image/png;base64,iVBORw0KGgoAAAANSUhEUgAAADYAAAAVBAMAAAD/UwB2AAAAMFBMVEX////c3NwiIiJERESqqqqY\n",
       "mJh2dnZmZmYQEBDu7u4yMjJUVFTMzMyIiIi6uroAAAAs73DqAAAAAXRSTlMAQObYZgAAAUBJREFU\n",
       "KM9jYMAH+C5gFWZ9ACROg1hzrcsDxCGCt//v3r34AANDDZC9EojZWhkYnrdCdfxiYGD5wsDAxcDA\n",
       "CzSSc9EEoPxHiBTPNyBRP4GBNYGBAyjM1QmytwEix/sPSJy/wMDZwPAKpMoBSDAWQOSYPwAJ+Q0M\n",
       "DCYMZUDRXyAxzgMQOX4DkD6gXDrDUgYG9q/Ijj8P8lN8AgODF0MfAwPTR2S5+yD9+4G+e8EAtJn/\n",
       "A9hMqJw9iOgAGQCS4wDL+UDlPoMC5StYroWBgfsnSAzqTJ6/QIID5J4XDKZQLtsEiKm8f4CEFdDT\n",
       "DFFAlwJd5cDAV8jAMF8B6r1TYDPSGR6BzNm1vQRIzQC6d7r9792ba8Cmr2PgEEA4/yGyX4BhBgxS\n",
       "OAhAlmO7AIkjbHKzgFgazuNFifiNoPDHniZ4DzAAAExYUFmZUn67AAAAAElFTkSuQmCC\n",
       "\" style=\"display:inline;vertical-align:middle;\" /></a></td></tr>\n",
       "<tr><td>4</td><td>Operation</td><td>operator:&nbsp;7<br>operands:&nbsp;8<br></td><td><a class=\"ProveItLink\" href=\"../80916f78fe8f88648e548cee85f5261a65c126a40/expr.ipynb\"><img src=\"data:image/png;base64,iVBORw0KGgoAAAANSUhEUgAAABYAAAAUBAMAAAB7UtADAAAAMFBMVEX///9mZmbMzMzc3NxUVFSY\n",
       "mJju7u6IiIi6urqqqqoiIiIQEBBEREQyMjJ2dnYAAAAQvcRZAAAAAXRSTlMAQObYZgAAAIRJREFU\n",
       "CNdjYICCh0cSYEzGBMYLMDaXAfMnGJt7AtsPBjjg/IZg8z5gePvn/u01E4DsJ0B8oJ3t2jsGBtYH\n",
       "YDZDBS8DQx+DEpg9lSWB6eRMN4i4DQP3//8fQGympcegZh3oWv+7AMZuZyifg2DzcDxAsBkOYGcj\n",
       "qQmsgTCBbju1ZQKYCQDWoDT3EPNjYwAAAABJRU5ErkJggg==\n",
       "\" style=\"display:inline;vertical-align:middle;\" /></a></td></tr>\n",
       "<tr><td>5</td><td>Variable</td><td></td><td><a class=\"ProveItLink\" href=\"../../../../../__pv_it/985a1bdf1540838275dec15f4ad6de261cca93ce0/expr.ipynb\"><img src=\"data:image/png;base64,iVBORw0KGgoAAAANSUhEUgAAAA8AAAAOBAMAAAACpFvcAAAAMFBMVEX////MzMyqqqoiIiIyMjK6\n",
       "uroQEBB2dnbc3NyYmJhmZmZUVFRERESIiIju7u4AAAB204erAAAAAXRSTlMAQObYZgAAAGZJREFU\n",
       "CNdjYGDgu7NrJccCBgaGsgkMrMsmMDA8sQNy6hsYGNweABlhDAxcn4A0QxcDQ78DiPGQgWH9BAYI\n",
       "sG+AMv6DSaCGfBDNJMDAsB+kmwuI5S8AiTog5gSaEwXWIO29SgFIAQBC+RaDQlidVgAAAABJRU5E\n",
       "rkJggg==\n",
       "\" style=\"display:inline;vertical-align:middle;\" /></a></td></tr>\n",
       "<tr><td>6</td><td>Variable</td><td></td><td><a class=\"ProveItLink\" href=\"../../../../../__pv_it/185e6d30f167ee2ee5ef3321098dc98e0d77bc590/expr.ipynb\"><img src=\"data:image/png;base64,iVBORw0KGgoAAAANSUhEUgAAABEAAAAOBAMAAAA7w+qHAAAALVBMVEX///8QEBCYmJjc3Ny6urru\n",
       "7u5mZmZ2dnaqqqrMzMxEREQyMjJUVFSIiIgAAABETr/8AAAAAXRSTlMAQObYZgAAAGpJREFUCNdj\n",
       "YGC48+7MmV0TGEDgNQMDxwsQg/M5kMgLABK8T4DEvAtAgusBkLA7ACT4FoDEDsAk9AqAxD2QCecc\n",
       "gMQ6kAGCIOIVEDM9Ahn3FkgwgnTxvgQSqwOgxs1OADLC1r05cyoTyAAAv4Qe+njAWvgAAAAASUVO\n",
       "RK5CYII=\n",
       "\" style=\"display:inline;vertical-align:middle;\" /></a></td></tr>\n",
       "<tr><td>7</td><td>Literal</td><td></td><td><a class=\"ProveItLink\" href=\"../../../../../number/exponentiation/__pv_it/deb2bf23cbccdd6e6791e1b35b5b9794ce12dbd50/expr.ipynb\"><img src=\"data:image/png;base64,iVBORw0KGgoAAAANSUhEUgAAACgAAAASBAMAAADbMYGVAAAAMFBMVEX///8QEBAiIiKYmJjc3Nzu\n",
       "7u7MzMx2dnZmZma6urpERESqqqoyMjJUVFSIiIgAAAAoDOMTAAAAAXRSTlMAQObYZgAAAOBJREFU\n",
       "GNNjYGB4+//u3Tt/GNAASGAXmhjnPyDBgSbI/g1IxKEJ8nxgYGdgQRPkX8BgDKRY6q7s62OYvmze\n",
       "2wAgb/7ZO1+AVDiDkYEQQ0HTBr4DQF59AgOIKmB4z7CNbcNZBu6vQN55kEACQwDDLQYGVobfDHwg\n",
       "fb8YGBxYHwAZciD3fWXg+gB1JjvQcJZvQIXsCgz8F6DO9GBgMOH7wPCUgaeBwd4B7EwGNjUG7s9c\n",
       "AiwPgO5jkWRgiF3/9+5dfQUG1nWl5Y+B7pv+1gE9bBhqGLCAE1jEWH9jEbT5A3IwAC4sP/1L6Qlu\n",
       "AAAAAElFTkSuQmCC\n",
       "\" style=\"display:inline;vertical-align:middle;\" /></a></td></tr>\n",
       "<tr><td>8</td><td>ExprTuple</td><td>9, 10</td><td><a class=\"ProveItLink\" href=\"../414e8800f1d1efa4c79fba266b1f17989e0e26480/expr.ipynb\"><img src=\"data:image/png;base64,iVBORw0KGgoAAAANSUhEUgAAAC0AAAAVBAMAAAAgHXppAAAAMFBMVEX////c3NwiIiJERESqqqqY\n",
       "mJh2dnZmZmYQEBDu7u4yMjJUVFTMzMyIiIi6uroAAAAs73DqAAAAAXRSTlMAQObYZgAAARFJREFU\n",
       "GNN10bFLw0AUx/FvqNEmTUqwo6M4JwgObgER/wPdpFOEglAUdNTBQRD0RseACHaqq5PuLgVXldBR\n",
       "EERFnKx3efYKLd4QHp/cPd79Dv5b9d4EbZrPPa2P7tV8KuTsXxTM3OmqA8mr18nE5wg/IYewZ5xn\n",
       "X/wGYliHqip9taZKP1bcFpzDC7K/Ifu7ioOCSspe6cHCsp0mVky3uTTej7/ttMEXTOWcSp+nlaH7\n",
       "ib7TIT/ilXrzz3fNmTfrJMLhtfjRmK/hRKbP0qiPuUHQxo1wc7bENx7w3nU5m2U7mDn7mNwWT1K8\n",
       "s0gPPxjo335BNRolbkudg9u07tpqW3Iedy8vEx8uG0XNNHQm3/ERfgGi4EpwIB8kjgAAAABJRU5E\n",
       "rkJggg==\n",
       "\" style=\"display:inline;vertical-align:middle;\" /></a></td></tr>\n",
       "<tr><td>9</td><td>Literal</td><td></td><td><a class=\"ProveItLink\" href=\"../../../__pv_it/46271c8230be96415d662709611f4ed2279d702b0/expr.ipynb\"><img src=\"data:image/png;base64,iVBORw0KGgoAAAANSUhEUgAAAA0AAAAOBAMAAAAGUYvhAAAAMFBMVEX///9mZmbMzMzc3NxUVFSY\n",
       "mJju7u6IiIi6urqqqqoiIiIQEBBEREQyMjJ2dnYAAAAQvcRZAAAAAXRSTlMAQObYZgAAAElJREFU\n",
       "CNdjePvn/u01ExgYGA60s117B6YZKngh9FSWBAjfBsxnWnoMRHet/10AkS+fA6F5OB5AaIYDqDRU\n",
       "PLCGgQFoz6ktExgAgLIl8DFvGtkAAAAASUVORK5CYII=\n",
       "\" style=\"display:inline;vertical-align:middle;\" /></a></td></tr>\n",
       "<tr><td>10</td><td>Literal</td><td></td><td><a class=\"ProveItLink\" href=\"../../../../../number/numeral/__pv_it/77d407a64829263cdc16415becd4c2293f77a4bf0/expr.ipynb\"><img src=\"data:image/png;base64,iVBORw0KGgoAAAANSUhEUgAAAAkAAAAOBAMAAAAPuiubAAAAMFBMVEX///+YmJh2dnbMzMwQEBAi\n",
       "IiLu7u6qqqqIiIhUVFS6urpEREQyMjJmZmbc3NwAAACOMKdoAAAAAXRSTlMAQObYZgAAAFBJREFU\n",
       "CNdj4Lt7egEDw0sGju8MDNMYGOIZGFwSGOYvYDifwHAfKAEUSQASzJ9ATJ4NIPI2iOCYACJrGfge\n",
       "MDBfYGB8wPBUSekqUPH//18ZAIliFhc3zESNAAAAAElFTkSuQmCC\n",
       "\" style=\"display:inline;vertical-align:middle;\" /></a></td></tr>\n",
       "</table>\n"
      ],
      "text/plain": [
       "0. (C , D) in BOOLEANS^{2}\n",
       "   core type: Operation\n",
       "   operator: 1\n",
       "   operands: 2\n",
       "1. in\n",
       "   core type: Literal\n",
       "   sub-expressions: \n",
       "2. ((C , D) , BOOLEANS^{2})\n",
       "   core type: ExprTuple\n",
       "   sub-expressions: 3, 4\n",
       "3. (C , D)\n",
       "   core type: ExprTuple\n",
       "   sub-expressions: 5, 6\n",
       "4. BOOLEANS^{2}\n",
       "   core type: Operation\n",
       "   operator: 7\n",
       "   operands: 8\n",
       "5. C\n",
       "   core type: Variable\n",
       "   sub-expressions: \n",
       "6. D\n",
       "   core type: Variable\n",
       "   sub-expressions: \n",
       "7. Exp\n",
       "   core type: Literal\n",
       "   sub-expressions: \n",
       "8. (BOOLEANS , 2)\n",
       "   core type: ExprTuple\n",
       "   sub-expressions: 9, 10\n",
       "9. BOOLEANS\n",
       "   core type: Literal\n",
       "   sub-expressions: \n",
       "10. 2\n",
       "    core type: Literal\n",
       "    sub-expressions: "
      ]
     },
     "execution_count": 4,
     "metadata": {},
     "output_type": "execute_result"
    }
   ],
   "source": [
    "# display the expression information\n",
    "expr.exprInfo()"
   ]
  },
  {
   "cell_type": "code",
   "execution_count": null,
   "metadata": {},
   "outputs": [],
   "source": []
  }
 ],
 "metadata": {
  "kernelspec": {
   "display_name": "Python 3",
   "language": "python",
   "name": "python3"
  }
 },
 "nbformat": 4,
 "nbformat_minor": 0
}
