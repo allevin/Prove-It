{
 "cells": [
  {
   "cell_type": "markdown",
   "metadata": {},
   "source": [
    "Theorem Dependencies\n",
    "=======================\n",
    "\n",
    "## <a class=\"ProveItLink\" href=\"../../_context_.ipynb\">proveit.logic.boolean.conjunction</a>.<a class=\"ProveItLink\" href=\"../../_theorems_.ipynb#falseAndFalseNegated\">falseAndFalseNegated</a> \n",
    "***see <a class=\"ProveItLink\" href=\"../../_proofs_/falseAndFalseNegated.ipynb\">proof</a>***"
   ]
  },
  {
   "cell_type": "code",
   "execution_count": 1,
   "metadata": {},
   "outputs": [],
   "source": [
    "from proveit.logic.boolean.conjunction._theorems_ import falseAndFalseNegated"
   ]
  },
  {
   "cell_type": "code",
   "execution_count": 2,
   "metadata": {},
   "outputs": [
    {
     "data": {
      "text/html": [
       "<h3>Axioms required (directly or indirectly) to prove falseAndFalseNegated</h3>"
      ],
      "text/plain": [
       "<IPython.core.display.HTML object>"
      ]
     },
     "metadata": {},
     "output_type": "display_data"
    },
    {
     "data": {
      "text/html": [
       "<dl>"
      ],
      "text/plain": [
       "<IPython.core.display.HTML object>"
      ]
     },
     "metadata": {},
     "output_type": "display_data"
    },
    {
     "data": {
      "text/html": [
       "<dt><a class=\"ProveItLink\" href=\"../../_axioms_.ipynb#andFF\">proveit.logic.boolean.conjunction.andFF</a></dt><dd><a class=\"ProveItLink\" href=\"../ef41cb636cc6079ee47a838c2986312582f13c980/expr.ipynb\"><img src=\"data:image/png;base64,iVBORw0KGgoAAAANSUhEUgAAAHAAAAAVBAMAAABs93eRAAAAMFBMVEX////c3NwiIiJERESqqqqY\n",
       "mJh2dnZmZmYQEBDu7u4yMjJUVFTMzMyIiIi6uroAAAAs73DqAAAAAXRSTlMAQObYZgAAAQhJREFU\n",
       "OMtjYCAb8F3AJxuHW+o0iGDEolsWRLAfYMAhw7ASRPAUwAQZJ8BYx8HkAiwawTK8F1A1chWgagzD\n",
       "pZFjAqrGw5qoGmfg0viKAVXjvruoGpkdcGgsQ9XIuYAJVSNbAQ6NS1E1sgWwO6BoZAGHTtUqEFiN\n",
       "LNOHqpGJgXEBika+Bhw2/kPVGMvAsAdFI88H4jRqQlMEYY0tKBpZgDSXAKZTi5RAQBlZoymKRpAm\n",
       "lgJkjawLcNiYjqLxMIhQICo6HgETMtAVTUpKBqDoBwndhbhNA+w2rgdoumAyHALIomBVfMgiM3Dl\n",
       "KtYE/Nk1F6fMSrz6OBfglJLGq5FbAKcUI96i4w4uCQAP+0dxtDeYeAAAAABJRU5ErkJggg==\n",
       "\" style=\"display:inline;vertical-align:middle;\" /></a></dd>"
      ],
      "text/plain": [
       "<IPython.core.display.HTML object>"
      ]
     },
     "metadata": {},
     "output_type": "display_data"
    },
    {
     "data": {
      "text/html": [
       "<dt><a class=\"ProveItLink\" href=\"../../../negation/_axioms_.ipynb#negationIntro\">proveit.logic.boolean.negation.negationIntro</a></dt><dd><a class=\"ProveItLink\" href=\"../../../negation/__pv_it/799eb3b565b99e60491a24b404f1db01d8e6476d0/expr.ipynb\"><img src=\"data:image/png;base64,iVBORw0KGgoAAAANSUhEUgAAAIUAAAAXBAMAAADXWpFHAAAAMFBMVEX///8QEBC6urrMzMxUVFRm\n",
       "ZmZERETc3NwyMjKqqqp2dnaIiIiYmJgiIiLu7u4AAAAU9Wx4AAAAAXRSTlMAQObYZgAAActJREFU\n",
       "OMtjYKACeECacm10gUNAfAHEOE2sEcwOKDygZlYDBoaVIE4fsWZwoDib4wOQaGBgKANS7AnEmrEb\n",
       "hXf2H5A4BTGZdQKxZsghc9infgeSDxkYeJaXl9cSawRTAzKPm/sTkGQDOuBbWtotYs1gXYDM0+P8\n",
       "AyS5AhgYnBkY0sFC7RCr4AFWgCVIDyBx+BSYfwMpTqDbVBj4wC7k+QSWYYMpOa+AUA4Lc0agWOxd\n",
       "ILgFto39K4gSYGDgZeAGm/70D4oZfPEHMM3gh5lrAsIuLt9AiQQYwdwHeMGRvu4qihlcbwMImAFk\n",
       "S0DN4GswAae5DWkoZlizJWDxywSEGZxA6iLULwzpTiBRFoZYFDMcWC8weHQAwQYkM9gOIMyoBFL9\n",
       "oHAEheZUcJY5ybAf2QyeCdwfMN3BBfMfMyQi8h9AxRhBNvFdDc1/gGTG29Cwf5hmMF2Ap9HEHwUM\n",
       "x/63AuMbFEY8IL2sBQz2BkhmhDMwf2bIQPcLgzhmmnkIZ+kAA/0AwgwmIPsPpjtAGQwdrIYxnnxj\n",
       "YPe/AzeDzz+BoeQvNABZ09LE0rKw5X2w0gZMY9nwZhh2B3QRlgJSzWCoRhfYzECyGUQBFtK1AAB+\n",
       "a2tdy7eWbQAAAABJRU5ErkJggg==\n",
       "\" style=\"display:inline;vertical-align:middle;\" /></a></dd>"
      ],
      "text/plain": [
       "<IPython.core.display.HTML object>"
      ]
     },
     "metadata": {},
     "output_type": "display_data"
    },
    {
     "data": {
      "text/html": [
       "</dl>"
      ],
      "text/plain": [
       "<IPython.core.display.HTML object>"
      ]
     },
     "metadata": {},
     "output_type": "display_data"
    },
    {
     "data": {
      "text/html": [
       "<h3>Theorems that depend directly on falseAndFalseNegated</h3>"
      ],
      "text/plain": [
       "<IPython.core.display.HTML object>"
      ]
     },
     "metadata": {},
     "output_type": "display_data"
    },
    {
     "data": {
      "text/html": [
       "<dl>"
      ],
      "text/plain": [
       "<IPython.core.display.HTML object>"
      ]
     },
     "metadata": {},
     "output_type": "display_data"
    },
    {
     "data": {
      "text/html": [
       "<dt><a class=\"ProveItLink\" href=\"../../_proofs_/binaryClosure.ipynb\">proveit.logic.boolean.conjunction.binaryClosure</a></dt><dd><a class=\"ProveItLink\" href=\"../5c84df2f748f99e9970088a408218dab6d6882750/expr.ipynb\"><img src=\"data:image/png;base64,iVBORw0KGgoAAAANSUhEUgAAAMcAAAAWBAMAAACGSZV/AAAAMFBMVEX///8QEBC6urrMzMxUVFRm\n",
       "ZmZERETc3NwyMjKqqqp2dnaIiIiYmJgiIiLu7u4AAAAU9Wx4AAAAAXRSTlMAQObYZgAAA11JREFU\n",
       "SMe9Vl9Ik1EUP9vn57ft+1zSS0YYK4IiK/cg9hCxoUMNIoNYD/2dQTMp7HsILaQaghhi6YvR414q\n",
       "I4hB9RA++BUkZkTzwYhwMqFCMitCl5Vo59x7v23OufVSF+537z3nnvu753fOuRvA/2jxv9tmjeCn\n",
       "LNcOzZVd/gx7lCYv84JUYJe8bCpFM06vn/XVtAMcWi529JyZL20CkN0A90hwIy8I7bBxr23fuEgx\n",
       "SbAEAE66wJZhUmiNTH0KA4QAWmh7IB+GSmwN8PmrRT7aDgqlB5UeL2jhFSCqCxFG+PXk3nwgFrr1\n",
       "Ru5A3w8uq5wQykEd4HUYnMV8OX099laA2I0DAJPI6N3W1st52dpGsQ9xp9TvXFYlPIMG7KN4iyYe\n",
       "su54ypOtyFEhupAIBt/lBTmCXeZ07LIvsNEZKhLKWYCLzTjeZquWeIquvUO4cCCt1QCNTNjJvjfn\n",
       "/DXuFSDdFAODne2SfvPsMQTL0uzA43Ga3GLLxlRMYksbcLQjA1vwTiwTOQtaMaicXK2rq8MQBmsp\n",
       "LqwQrKDMMVERKII/jNEMZfcmdolAeuCf4MpaTJtVdtQHzoLsBStaTfuPQSQ8vVkY0AXWMJAKny8B\n",
       "oraq+WF4iErGHnaJ0lgsGXgIbEdPMeVVo4ix+GCMXzACchTUU1e+IIjj8woQ/JQw0QSvUJSjF9ov\n",
       "E0RUrAlSyEGcIbZXigSZ6qsbhnV4TtNIuOyEMFhPdFEI7JRJJLFjOG06KxMkouBnkq5oJgjRBY1V\n",
       "JCqA40xVPvComVUpgvhLzZicIyNaXMLew0pR50C8TK6SwTDbun8ZCNKlka6PYb+AQabqB3gal8Lc\n",
       "E3mPMKDspFRkOXKe6K0E8+HDMpFK4skUnnGlQLSjAW4HFnoynGN+ZgunkbFe6U0weJZi4hAGOymk\n",
       "UVAa5nUYWuqgUgTx0Bxe8vmuMY/b+YvQ4TYfyMToPvKZUDU6XNbBw5RIbrnb6eWeJEEsxP669MoR\n",
       "+ZzWzGfFXsezy2yTydkOzBJD6QRlERRMs1pBV5v5nBN/I7lfBUcku/y+OXmfAKV+XFqA/jl/HWbR\n",
       "RxcrxqCR5alfrU1lF/NST//9Sc7uYEzS2wVi25sTpDa7uEDPEOxe9QSFuGjL+ZPjzi5/mCkw/s3/\n",
       "iD9xNeHJcqW+GAAAAABJRU5ErkJggg==\n",
       "\" style=\"display:inline;vertical-align:middle;\" /></a></dd>"
      ],
      "text/plain": [
       "<IPython.core.display.HTML object>"
      ]
     },
     "metadata": {},
     "output_type": "display_data"
    },
    {
     "data": {
      "text/html": [
       "<dt><a class=\"ProveItLink\" href=\"../../_proofs_/leftFromAndExplicit.ipynb\">proveit.logic.boolean.conjunction.leftFromAndExplicit</a></dt><dd><a class=\"ProveItLink\" href=\"../d17b3b3361cac813f71ef27699985edc2c8db0330/expr.ipynb\"><img src=\"data:image/png;base64,iVBORw0KGgoAAAANSUhEUgAAAI0AAAAWBAMAAAAP0QIWAAAAMFBMVEX///8QEBC6urrMzMxUVFRm\n",
       "ZmZERETc3NwyMjKqqqp2dnaIiIiYmJgiIiLu7u4AAAAU9Wx4AAAAAXRSTlMAQObYZgAAAjtJREFU\n",
       "OMutVEFr1FAQ/po0yZpk0/4BdRFvCrsHRbBIFy3Vk93DRi9qRTE9CN09SItI273IYg82F726J60X\n",
       "ieCth8aDoHiwl3rQgkFUhFoVl1bF7eK8SbabylqR9MG8N5k3+WbeN/MeAmzPWBDT82QYR0juC+Vm\n",
       "MpwZkjES7XwiGPMNkZMiUdxEOFeHywR2b3x8ItmxvPkMzWuO8yoRjBTc8Wk5Bozwd5Xn26v2YO4P\n",
       "z0y0psqRsqNkFy+2dt+i36NlL6wKs/UtJK0XRm+oTU9f91lrleFFCxCPgYftKFMFWtIw2Pt9g61K\n",
       "HtJ3YNk+A6+2vCeOYw0Lx5pQi0A2Sk4eGBgSDoaf5p5+sMjmtAdlAcaFyc+Eo3+K4+grFFdeEupr\n",
       "4GyLHqBLHMiqHGBYz2HzlxyelvGE61Dbdy6O06eSon4U/9RhViMc6pk0EzFyVMzdUYDs3KNRgBnz\n",
       "7J2b+MlTojhskk36NTcYXUyNcFJfhXaLr9gzzLN9lkgM5FqYj9IXwzFdg/xHRQy9AnNXiCPSU5tC\n",
       "6xJVsxbtEke4REdz5ZeOc1nwo8dwVuxTTcgFigi1AOsnG8d2V2GWfoiCmeJ/pYx+bhvazuasfJjP\n",
       "JpzTkOvoDqACPS6kesem3E+bvlaF1oRGhTsenetaG0ciXho4SAV2MRVgotAJ5t0atKEluYHZVfsE\n",
       "Mfchw33otHm2qEmurPsnxac+YxdvbPkCbGh3iZ+NEXtWypFsPQ51Nv/38+RvE85fRv7fLr8BYO6Y\n",
       "y4lNU68AAAAASUVORK5CYII=\n",
       "\" style=\"display:inline;vertical-align:middle;\" /></a></dd>"
      ],
      "text/plain": [
       "<IPython.core.display.HTML object>"
      ]
     },
     "metadata": {},
     "output_type": "display_data"
    },
    {
     "data": {
      "text/html": [
       "<dt><a class=\"ProveItLink\" href=\"../../_proofs_/nandIfNeither.ipynb\">proveit.logic.boolean.conjunction.nandIfNeither</a></dt><dd><a class=\"ProveItLink\" href=\"../6c6cf740054e4cfdcd9e1ff7416524b0580365fa0/expr.ipynb\"><img src=\"data:image/png;base64,iVBORw0KGgoAAAANSUhEUgAAAOEAAAAXBAMAAAAPVjVNAAAAMFBMVEX///8QEBC6urrMzMxUVFRm\n",
       "ZmZERETc3NwyMjKqqqp2dnaIiIiYmJgiIiLu7u4AAAAU9Wx4AAAAAXRSTlMAQObYZgAAAvdJREFU\n",
       "SMe9Vj1oU1EU/pq/lzYvaXAQXGoGB0ElEYROkqKhFByaoRkUihUxdVCTQVodat+iQZA2S13NolYU\n",
       "eaJbh0Zx8Gcwg138wSgK3Sz9t5Xqvefc17zkJRki9cDpu989757vvvOXAv9dyv923GU2Ag55obQk\n",
       "wduWGY/UAUdr3nn5J5E4H4E3BtIHcm+iZcaJOmBSwWvW/m5BtQgYIB0RD22oVcKA6QT6F5Wp62rf\n",
       "vSl0GXgDUr8we/OtMraVneDq6SwTXVTGwJq4xgbwFaT6/dHRsZaDur8OMGcj9PQcUAHwhYFgl3jm\n",
       "WVfT6Q8tM55yAlf5TpEW81yVQGcPtBviezuSrMeBYTLk6O/tlVRvjE5W+85Vlu2Z1MBZXt6yv8Lg\n",
       "G+L8bY9wkvfjJ2YG5SXaDdZ9CBmU8EXOexiBMMWiilBZWZ4DT3i1SxTBZykFBkIiGE/SooQr/NJs\n",
       "FqH38hvCrEEEKAo/fpPZ2wPXmpNRWVkGgChXh3UPd48F3IlEP5W+bsJDwcIZySo43AusgWKQaurx\n",
       "HJmDJrwlJ6OysnwEBtGAUSSjjWImvNIuIBoD7woVxpBBo8Jtpsn8M4ZXWQejZSUJLUFXad1jZyQg\n",
       "ajFIWZmyku+W4enPV6KK4WNUy+ra0Zlnl+BgtKxcjZszvarVLtgZJdCEZ/+CVWpTVjtq6zLOBium\n",
       "KIivMUtnp0VhlCuM99LptLFtZdRhQO9iprvWLWIKzMuTW/IOMplBqx0PywFodQfaZDGH5lIZIjon\n",
       "Apuv/sahipWQL4nQLwaH7IEQYGRvDnpmXbj1RNTc82aWE33UOP4IK3Tpy5tFnCpLuIrGahm3rYQ6\n",
       "83AtqcGWtU85O3CpVrGJmnJKDorRUNRy0LagzaGW0bIyGi9jLKnatGDv2ULzAfVQKcn3VWj9n0RV\n",
       "Ta+k+vI1jLFtK6GOydTAzWa/Vg1EDhoeNvZb2tY+xxG9jpvLDYFDPFnWKuluythdx41mNgIOeaq0\n",
       "SopNGYs7/C+XZ4f8/gVy985Qn0xZwQAAAABJRU5ErkJggg==\n",
       "\" style=\"display:inline;vertical-align:middle;\" /></a></dd>"
      ],
      "text/plain": [
       "<IPython.core.display.HTML object>"
      ]
     },
     "metadata": {},
     "output_type": "display_data"
    },
    {
     "data": {
      "text/html": [
       "<dt><a class=\"ProveItLink\" href=\"../../_proofs_/rightFromAndExplicit.ipynb\">proveit.logic.boolean.conjunction.rightFromAndExplicit</a></dt><dd><a class=\"ProveItLink\" href=\"../fbe78acfb15e476b8fe50bf8d915d4c31916acb50/expr.ipynb\"><img src=\"data:image/png;base64,iVBORw0KGgoAAAANSUhEUgAAAI8AAAAWBAMAAAALJNIrAAAAMFBMVEX///8QEBC6urrMzMxUVFRm\n",
       "ZmZERETc3NwyMjKqqqp2dnaIiIiYmJgiIiLu7u4AAAAU9Wx4AAAAAXRSTlMAQObYZgAAAghJREFU\n",
       "OMutlDFI3GAUx/82l4tccldHF+EobhW8oeJQxGAPdapd4mRbFRoHwd5UC6IeglxxKLfonEntUjK0\n",
       "Q3EwHQqWFqqDHYrDDW0XtYKcFovYvu99l5DI2Vrig3z5fy8//rzvfY+ggiuKTbF8iGFgDFTzvXPA\n",
       "C7F5HqeUhmHgYRZPSGrDcYy6XXpMNFKT1HIco/UC8MmBsTI5OR2ryyP0bFE5x7b9JZZRFXg6Qe87\n",
       "wBgnSrwuHVm9uXNo1hclX4Qopbr2ekeIVmSKfI2H8jaboDdJtbAw77Hy76KGRCjoP4F9k0QaOuPf\n",
       "TjmvmrhGn3atIbjO7o2IESOpECUiSYa6+KB7aZ7ul9ucT7tQN6GPzvwgo9RexIiRLi+gOK5TNcYv\n",
       "EpniLT6qa3P+IIeNAt4J6To3H4SNJDJRDCg5RmScOBFqrEesCdznfPvaK7oC7pprtUR6xIjifAyo\n",
       "YIxmmV/kGt9jnfOrwNuK4siK1NthI0aSlUafCsZIaWbd4IoDbluPefeI6i4rn217XPQoFTKSSAeM\n",
       "co3i7ODvfP6ZLNwQBmoB3TwYdNr2XMaUFUWMJHKXt0zVHc82ar+nlaCdQaO76asdbSpkxIhyD3jj\n",
       "U3Xi6zG0gR3lFKtHVj/V/D3LA2mHmi2RBJWf9Km//KQCtUw9CiL0l9Fqzz+is376/39X3lUZXRDm\n",
       "JZg/T9ii0bCZRQMAAAAASUVORK5CYII=\n",
       "\" style=\"display:inline;vertical-align:middle;\" /></a></dd>"
      ],
      "text/plain": [
       "<IPython.core.display.HTML object>"
      ]
     },
     "metadata": {},
     "output_type": "display_data"
    },
    {
     "data": {
      "text/html": [
       "</dl>"
      ],
      "text/plain": [
       "<IPython.core.display.HTML object>"
      ]
     },
     "metadata": {},
     "output_type": "display_data"
    }
   ],
   "source": [
    "%dependencies falseAndFalseNegated"
   ]
  }
 ],
 "metadata": {
  "kernelspec": {
   "display_name": "Python 3",
   "language": "python",
   "name": "python3"
  }
 },
 "nbformat": 4,
 "nbformat_minor": 0
}
