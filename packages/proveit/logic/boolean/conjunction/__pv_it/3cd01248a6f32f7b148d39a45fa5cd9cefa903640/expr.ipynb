{
 "cells": [
  {
   "cell_type": "markdown",
   "metadata": {},
   "source": [
    "Expression of type <a class=\"ProveItLink\" href=\"../../../../../../../doc/html/api/proveit.logic.Not.html\">Not</a>\n",
    "=======================\n",
    "# from context <a class=\"ProveItLink\" href=\"../../_context_.ipynb\">proveit.logic.boolean.conjunction</a>"
   ]
  },
  {
   "cell_type": "code",
   "execution_count": 1,
   "metadata": {},
   "outputs": [],
   "source": [
    "# import Expression classes needed to build the expression\n",
    "from proveit import Variable\n",
    "from proveit._common_ import A\n",
    "from proveit.logic import And, Not"
   ]
  },
  {
   "cell_type": "code",
   "execution_count": 2,
   "metadata": {},
   "outputs": [
    {
     "data": {
      "text/html": [
       "<strong id=\"expr\">expr:</strong> <a class=\"ProveItLink\" href=\"expr.ipynb\"><img src=\"data:image/png;base64,iVBORw0KGgoAAAANSUhEUgAAAG0AAAAVBAMAAAC+p33JAAAAMFBMVEX////c3NxERESqqqqYmJgQ\n",
       "EBDu7u4yMjKIiIi6urpUVFTMzMx2dnYiIiJmZmYAAABjE816AAAAAXRSTlMAQObYZgAAAVtJREFU\n",
       "OMtjYKAYcDYQq9IThbcLQu0lrI9vAzKvDELVQ7lieDQWILE5IM5kuZ8A4dfh0eeDxGaFqBd+LwCm\n",
       "uXUTcOtLRWJPh1AN/RPANNcMPMHEZIBgv4EEaoK9A5iRznABWSXjiYUWL+A8ngcImRIwmcmwH2LP\n",
       "EYbHyPpyGHwdYuE85gKGt3eB4A6QHQkWmcAgDzHrAoM4sr4DDP0M1oioDkBE3U9waKxatV4BHKwN\n",
       "DFzIsZTAsAiJx/0BTR8nMFzBkcObwMC9ACUsInDoCwYxgOHEC3aDHRAXogTMbwY2rO5UAUkC9bGD\n",
       "zSqE6oUBR44PDG1wHgs0wXAD8Tlw4APj5htIAORJXoQ25i9MAYwNWONhLgODUHwhA4v+d6Ag1wRY\n",
       "yjNSAoIENo1jZ1pgHKCbJiClMwHkPAWNFCLSGcsB4rPqCSz5iAjAhpyPGKSI1sclgBJDRJcT3QwM\n",
       "AGAPSwE1BzdlAAAAAElFTkSuQmCC\n",
       "\" style=\"display:inline;vertical-align:middle;\" /></a><br>"
      ],
      "text/plain": [
       "expr: [not](A and _x_)"
      ]
     },
     "execution_count": 2,
     "metadata": {},
     "output_type": "execute_result"
    }
   ],
   "source": [
    "# build up the expression from sub-expressions\n",
    "expr = Not(And(A, Variable(\"_x_\", latexFormat = r\"{_{-}x_{-}}\")))"
   ]
  },
  {
   "cell_type": "code",
   "execution_count": 3,
   "metadata": {},
   "outputs": [
    {
     "name": "stdout",
     "output_type": "stream",
     "text": [
      "Passed sanity check: built 'expr' is the same as the stored Expression.\n"
     ]
    }
   ],
   "source": [
    "# check that the built expression is the same as the stored expression\n",
    "%check_expr"
   ]
  },
  {
   "cell_type": "code",
   "execution_count": 4,
   "metadata": {},
   "outputs": [
    {
     "data": {
      "text/html": [
       "<table><tr><th>&nbsp;</th><th>core type</th><th>sub-expressions</th><th>expression</th></tr>\n",
       "<tr><td>0</td><td>Operation</td><td>operator:&nbsp;1<br>operand:&nbsp;2<br></td><td><a class=\"ProveItLink\" href=\"expr.ipynb\"><img src=\"data:image/png;base64,iVBORw0KGgoAAAANSUhEUgAAAG0AAAAVBAMAAAC+p33JAAAAMFBMVEX////c3NxERESqqqqYmJgQ\n",
       "EBDu7u4yMjKIiIi6urpUVFTMzMx2dnYiIiJmZmYAAABjE816AAAAAXRSTlMAQObYZgAAAVtJREFU\n",
       "OMtjYKAYcDYQq9IThbcLQu0lrI9vAzKvDELVQ7lieDQWILE5IM5kuZ8A4dfh0eeDxGaFqBd+LwCm\n",
       "uXUTcOtLRWJPh1AN/RPANNcMPMHEZIBgv4EEaoK9A5iRznABWSXjiYUWL+A8ngcImRIwmcmwH2LP\n",
       "EYbHyPpyGHwdYuE85gKGt3eB4A6QHQkWmcAgDzHrAoM4sr4DDP0M1oioDkBE3U9waKxatV4BHKwN\n",
       "DFzIsZTAsAiJx/0BTR8nMFzBkcObwMC9ACUsInDoCwYxgOHEC3aDHRAXogTMbwY2rO5UAUkC9bGD\n",
       "zSqE6oUBR44PDG1wHgs0wXAD8Tlw4APj5htIAORJXoQ25i9MAYwNWONhLgODUHwhA4v+d6Ag1wRY\n",
       "yjNSAoIENo1jZ1pgHKCbJiClMwHkPAWNFCLSGcsB4rPqCSz5iAjAhpyPGKSI1sclgBJDRJcT3QwM\n",
       "AGAPSwE1BzdlAAAAAElFTkSuQmCC\n",
       "\" style=\"display:inline;vertical-align:middle;\" /></a></td></tr>\n",
       "<tr><td>1</td><td>Literal</td><td></td><td><a class=\"ProveItLink\" href=\"../../../negation/__pv_it/7bea79645543c2413aa17e787cca04e21046fde60/expr.ipynb\"><img src=\"data:image/png;base64,iVBORw0KGgoAAAANSUhEUgAAAAwAAAAGBAMAAAAFwGKyAAAAFVBMVEX///9UVFTMzMx2dnYiIiJm\n",
       "ZmYAAACWz4ZEAAAAAXRSTlMAQObYZgAAABRJREFUCNdjCHEBAmcGMFDEQzEBAEl+Ai6uYJv/AAAA\n",
       "AElFTkSuQmCC\n",
       "\" style=\"display:inline;vertical-align:middle;\" /></a></td></tr>\n",
       "<tr><td>2</td><td>Operation</td><td>operator:&nbsp;3<br>operands:&nbsp;4<br></td><td><a class=\"ProveItLink\" href=\"../34b87800b389b0dc5d32a11a0281b99640625ee60/expr.ipynb\"><img src=\"data:image/png;base64,iVBORw0KGgoAAAANSUhEUgAAAE0AAAAPBAMAAABTt1/kAAAAMFBMVEX///92dnYQEBBERERUVFS6\n",
       "urqIiIhmZmaqqqrc3Nzu7u6YmJgyMjIiIiLMzMwAAACFkkdwAAAAAXRSTlMAQObYZgAAAONJREFU\n",
       "KM9jYACBtwzEgfNQmnMBXmXc96HyPAV41c2onwBhPL6FV11CfgCE4ZqGTxnrgv4NYAbXAV5kcU4x\n",
       "z7YyJP5ShvcJYAbjBvYGJPGFDHs36CLxAxjmQ9zPy8B5AElcgCGfoQ/B5XNx8TcAs7YxMPghqVvA\n",
       "4IziPAYGJogxQN8+QXG5GjIH6CReBRCDA2g7zwRkj/xj4EJwgOp4PoBDeQJELQzsZPvAkAXnrQFi\n",
       "5l/gUAYRF+ASHL+ZFTgTYLzJ+icZuO3/gIxxBfFBId1sDAQLuMykBLNhHAaU8IH4ChsAAP9DMW2q\n",
       "u98TAAAAAElFTkSuQmCC\n",
       "\" style=\"display:inline;vertical-align:middle;\" /></a></td></tr>\n",
       "<tr><td>3</td><td>Literal</td><td></td><td><a class=\"ProveItLink\" href=\"../76b5f4f4c45c0b6a9b59b297fc07dfa9555698f50/expr.ipynb\"><img src=\"data:image/png;base64,iVBORw0KGgoAAAANSUhEUgAAAAwAAAAOBAMAAADpk+DfAAAALVBMVEX///+qqqqYmJh2dnaIiIi6\n",
       "urpUVFQiIiJERETMzMxmZmYyMjLu7u7c3NwAAABvwqPxAAAAAXRSTlMAQObYZgAAAEtJREFUCNdj\n",
       "YGDgPcAAAtwLwNSMGjCV6gIieTawgyhmBS4BIMXOwLsBSKkwMGQCKaC6aQwMjEBd3BdACMScAVJd\n",
       "wJAKolwYAkAUKwAk0guX6efcigAAAABJRU5ErkJggg==\n",
       "\" style=\"display:inline;vertical-align:middle;\" /></a></td></tr>\n",
       "<tr><td>4</td><td>ExprTuple</td><td>5, 6</td><td><a class=\"ProveItLink\" href=\"../9d6b1186d287ffcd62d1e4c1b9ab2d6e4493c51e0/expr.ipynb\"><img src=\"data:image/png;base64,iVBORw0KGgoAAAANSUhEUgAAAE0AAAAVBAMAAADx+n4ZAAAAMFBMVEX////c3NwiIiJERESqqqqY\n",
       "mJh2dnZmZmYQEBDu7u4yMjJUVFTMzMyIiIi6uroAAAAs73DqAAAAAXRSTlMAQObYZgAAAR5JREFU\n",
       "KM9jYCAW8F0gqCQORJyGsA/hUcd+AEishLDX4zNwAQMDL8RaVv0JeNSFMTBwQORF6gXwqJvBwPAK\n",
       "wrpw/wEedcwODGUQT0/wD0CRYczd6FsL57EVMCwFM+YxnEcNnmkMQQFNcB7LAoY+MOMBg3wBiroE\n",
       "hvsMPogwbmD4B6J5du/eb4CibgLDZiQezweIOj6gvxegub0XVV0LiHZgYGBqQFXG+IeBE9leU5AY\n",
       "UB3XB5BlcBDI+4HhJpzHuoAhHUjNAgXRTwbOTwgPfmVuYLyAHC6PGBiE+xcysNr/KuDsB8aJszEQ\n",
       "TOC0zUy7CuMALXvAwIEUX3wCuOONNQHBZcUVb7mIdIVPHScozKQRfFwpmxvkHkbC6f4OAwMA+SRA\n",
       "/+PgA3YAAAAASUVORK5CYII=\n",
       "\" style=\"display:inline;vertical-align:middle;\" /></a></td></tr>\n",
       "<tr><td>5</td><td>Variable</td><td></td><td><a class=\"ProveItLink\" href=\"../../../../../__pv_it/2cbe72a7ad6f655694dd697106680215e8489b600/expr.ipynb\"><img src=\"data:image/png;base64,iVBORw0KGgoAAAANSUhEUgAAAA8AAAAOBAMAAAACpFvcAAAALVBMVEX///8QEBBERERUVFS6urqI\n",
       "iIhmZmaqqqrc3Nzu7u6YmJgyMjIiIiLMzMwAAADtIaYWAAAAAXRSTlMAQObYZgAAAFtJREFUCNdj\n",
       "YACBOwxQsA9Kc52bAGG05zVAGAFxDmCaZULdAjBjCsO9ADDDgaEvAUTzGhvbKYCVMDAwbgAxChgY\n",
       "eASANAeQwf0AyJgNxEwvGRia5HYwcOm9TgAA6BoR3jrzwFcAAAAASUVORK5CYII=\n",
       "\" style=\"display:inline;vertical-align:middle;\" /></a></td></tr>\n",
       "<tr><td>6</td><td>Variable</td><td></td><td><a class=\"ProveItLink\" href=\"../5144cf74ae6a683b49b974f1b9302b432abf7e930/expr.ipynb\"><img src=\"data:image/png;base64,iVBORw0KGgoAAAANSUhEUgAAACUAAAAJBAMAAABH3vh9AAAAKlBMVEX////MzMwQEBAiIiKYmJhm\n",
       "ZmZUVFSIiIh2dnbc3Nzu7u5ERESqqqoAAABwkVEpAAAAAXRSTlMAQObYZgAAAEtJREFUCNdjYIAA\n",
       "zvbM4+EMqGAFg7ODMppYA0Mtw0E0sQUM2QyYQB1TiPMiAxeakCf7BYYqVCGeK9wKnAUw3undQLCA\n",
       "a3tXRwmMAwC3+RVNp6j0GAAAAABJRU5ErkJggg==\n",
       "\" style=\"display:inline;vertical-align:middle;\" /></a></td></tr>\n",
       "</table>\n"
      ],
      "text/plain": [
       "0. [not](A and _x_)\n",
       "   core type: Operation\n",
       "   operator: 1\n",
       "   operand: 2\n",
       "1. not\n",
       "   core type: Literal\n",
       "   sub-expressions: \n",
       "2. A and _x_\n",
       "   core type: Operation\n",
       "   operator: 3\n",
       "   operands: 4\n",
       "3. and\n",
       "   core type: Literal\n",
       "   sub-expressions: \n",
       "4. (A , _x_)\n",
       "   core type: ExprTuple\n",
       "   sub-expressions: 5, 6\n",
       "5. A\n",
       "   core type: Variable\n",
       "   sub-expressions: \n",
       "6. _x_\n",
       "   core type: Variable\n",
       "   sub-expressions: "
      ]
     },
     "execution_count": 4,
     "metadata": {},
     "output_type": "execute_result"
    }
   ],
   "source": [
    "# display the expression information\n",
    "expr.exprInfo()"
   ]
  },
  {
   "cell_type": "code",
   "execution_count": null,
   "metadata": {},
   "outputs": [],
   "source": []
  }
 ],
 "metadata": {
  "kernelspec": {
   "display_name": "Python 3",
   "language": "python",
   "name": "python3"
  }
 },
 "nbformat": 4,
 "nbformat_minor": 0
}
