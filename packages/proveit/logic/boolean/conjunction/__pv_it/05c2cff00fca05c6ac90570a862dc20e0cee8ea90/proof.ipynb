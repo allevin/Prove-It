{
 "cells": [
  {
   "cell_type": "markdown",
   "metadata": {},
   "source": [
    "Show the Proof\n",
    "========"
   ]
  },
  {
   "cell_type": "code",
   "execution_count": 1,
   "metadata": {},
   "outputs": [
    {
     "data": {
      "text/html": [
       "<table><tr><th>&nbsp;</th><th>step type</th><th>requirements</th><th>statement</th></tr>\n",
       "<tr><td>0</td><td>specialization</td><td>1, 2</td><td><span style=\"font-size:20px;\"><a class=\"ProveItLink\" href=\"../8e086b89da9ed779165cd3927812d95fdc0e689f0/expr.ipynb\"><img src=\"data:image/png;base64,iVBORw0KGgoAAAANSUhEUgAAAIEAAAAVBAMAAACTeZA2AAAAMFBMVEX////c3NxERESqqqpUVFS6\n",
       "urrMzMwyMjIQEBCIiIh2dnYiIiLu7u5mZmaYmJgAAABXZE4RAAAAAXRSTlMAQObYZgAAAkRJREFU\n",
       "OMtjYGDgu8dAJmBbJQCieHaByEi8Sp/iMqIZRHJ+ADEdICIb0JQ8+e/ioh7AwJuAKrz8U33FJgMg\n",
       "4zqIx9UAJNgPgGXYP0CVyMDUNjEw8H5lYChAM1khkqdmFZBeATdhJkTi9R+oilqYM38C8RcGhlcY\n",
       "JjBMZUcxoQcszmj7EapRG+ImBk6gAN8vBoYTEC7P9N27C6Am2LEcQDKBFeJKTs6vEJUskRMgDCag\n",
       "JDfQeCYDMDf9DZIbhJDdwLsALB7D/A+i4DgDNEj5HRgYi4B2cV0Au1EH4Qu2fTowE3iB9rM/ALsx\n",
       "AORtEFjHcBnCyPeceRskxwx2JJMA3ITo/T9AznwP4mQEMDBwBIBYrAyMfyEKNjCIQxjzBRh4toCk\n",
       "QIHFcAg5JGcagSIP6LaUNpBjwSakuLh8AsvzTWBggaQADZApQEewgaM5YvduREgysYK8rg6UjEiA\n",
       "mQAk2sH6uA/AktgXkEsXwExIQXYDE4MCUCXIFBagoRygoGYG4h1geVsgLgTHKihk/Q1gvjiNYQI4\n",
       "HLiAwc4ECi1hIK4HyxdCTQEnB8bvIH+B3c7yANkEkC/gsQmKLB6QIn1QSmJTAPkElhwyahhgscmz\n",
       "FcmEt5OQ0wPrBgZGje8CDI/+g5IzCyhUOIGRxav/xcW9DpxhwAHFIH4NnrO0WwxQUnUjcqJnZYCG\n",
       "KwJAUzWDSfVulEyGMOEVgbJkJQ5xsAl8SLkbF+ApwCEBLh94doJSvANeE1gEcJRRrZAUuBhISOI1\n",
       "YRqechIAWPqQ8OR55gUAAAAASUVORK5CYII=\n",
       "\" style=\"display:inline;vertical-align:middle;\" /></a> <a class=\"ProveItLink\" href=\"proof.ipynb\" style=\"text-decoration: none\">&#x22A2;&nbsp;</a><a class=\"ProveItLink\" href=\"../41a86ef0ff9417c73c472e1bdfa161b308e2753e0/expr.ipynb\"><img src=\"data:image/png;base64,iVBORw0KGgoAAAANSUhEUgAAADcAAAAPBAMAAACy3Eq1AAAAMFBMVEX///+qqqru7u4iIiJ2dnbc\n",
       "3NyIiIjMzMxmZmYQEBC6uroyMjJERERUVFSYmJgAAADLUcuvAAAAAXRSTlMAQObYZgAAAOZJREFU\n",
       "GNNjYGB4+//u3dMLGJCB95/9O20EwMw5DAwcv1AkGQ4sY9rkAmKwfwPiv+iSDFncIAbbVwYGvi9g\n",
       "MbXNxtYwSTleBSCDZwIDA/MksBn7FJB0xoAY/BcYWPeARWMUEMay2x0CMeqvpTU/AAsdRdi52P5n\n",
       "AoiRH8DAZAtiMB1AdlCaDIhxEqQApJVrsrExwkE8XA5ABsgX70EM9gvIOnkYgAax/wNy7oOCg8kA\n",
       "QxLkTdbfYKF7KJIgY0HerNwEFlJegCT5IgcYquf/3r29DyLEuqMAHvCH5wqghigD422oayEAAEv1\n",
       "Sz0foy5uAAAAAElFTkSuQmCC\n",
       "\" style=\"display:inline;vertical-align:middle;\" /></a></span></td></tr>\n",
       "<tr><td>&nbsp;</td><td colspan=4 style=\"text-align:left\"><span style=\"font-size:20px;\"><a class=\"ProveItLink\" href=\"../../../../../__pv_it/2cbe72a7ad6f655694dd697106680215e8489b600/expr.ipynb\"><img src=\"data:image/png;base64,iVBORw0KGgoAAAANSUhEUgAAAA8AAAAOBAMAAAACpFvcAAAALVBMVEX///8QEBBERERUVFS6urqI\n",
       "iIhmZmaqqqrc3Nzu7u6YmJgyMjIiIiLMzMwAAADtIaYWAAAAAXRSTlMAQObYZgAAAFtJREFUCNdj\n",
       "YACBOwxQsA9Kc52bAGG05zVAGAFxDmCaZULdAjBjCsO9ADDDgaEvAUTzGhvbKYCVMDAwbgAxChgY\n",
       "eASANAeQwf0AyJgNxEwvGRia5HYwcOm9TgAA6BoR3jrzwFcAAAAASUVORK5CYII=\n",
       "\" style=\"display:inline;vertical-align:middle;\" /></a> : <a class=\"ProveItLink\" href=\"../../../../../__pv_it/2cbe72a7ad6f655694dd697106680215e8489b600/expr.ipynb\"><img src=\"data:image/png;base64,iVBORw0KGgoAAAANSUhEUgAAAA8AAAAOBAMAAAACpFvcAAAALVBMVEX///8QEBBERERUVFS6urqI\n",
       "iIhmZmaqqqrc3Nzu7u6YmJgyMjIiIiLMzMwAAADtIaYWAAAAAXRSTlMAQObYZgAAAFtJREFUCNdj\n",
       "YACBOwxQsA9Kc52bAGG05zVAGAFxDmCaZULdAjBjCsO9ADDDgaEvAUTzGhvbKYCVMDAwbgAxChgY\n",
       "eASANAeQwf0AyJgNxEwvGRia5HYwcOm9TgAA6BoR3jrzwFcAAAAASUVORK5CYII=\n",
       "\" style=\"display:inline;vertical-align:middle;\" /></a>, <a class=\"ProveItLink\" href=\"../../../../../__pv_it/077b2ff79244fb4582cbe22c6e3356fa92a52f2f0/expr.ipynb\"><img src=\"data:image/png;base64,iVBORw0KGgoAAAANSUhEUgAAABAAAAAOBAMAAADUAYG5AAAAMFBMVEX///+qqqru7u4iIiJ2dnbc\n",
       "3NyIiIjMzMxmZmYQEBC6uroyMjJERERUVFSYmJgAAADLUcuvAAAAAXRSTlMAQObYZgAAAGpJREFU\n",
       "CNdjYGB4+//u3dMLGIBgDgMDxy8gzf4NiP8CGWxfGRj4vgAZPBMYGJgnARn8FxhY9ygAGfXX0pof\n",
       "gDTlBzAw2YIYJ0EckBBI53sHoBH/gIz7AhBjWH9DjancBLTl/N+7t/cxMAAA3u4f/5xagjYAAAAA\n",
       "SUVORK5CYII=\n",
       "\" style=\"display:inline;vertical-align:middle;\" /></a> : <a class=\"ProveItLink\" href=\"../../../../../__pv_it/077b2ff79244fb4582cbe22c6e3356fa92a52f2f0/expr.ipynb\"><img src=\"data:image/png;base64,iVBORw0KGgoAAAANSUhEUgAAABAAAAAOBAMAAADUAYG5AAAAMFBMVEX///+qqqru7u4iIiJ2dnbc\n",
       "3NyIiIjMzMxmZmYQEBC6uroyMjJERERUVFSYmJgAAADLUcuvAAAAAXRSTlMAQObYZgAAAGpJREFU\n",
       "CNdjYGB4+//u3dMLGIBgDgMDxy8gzf4NiP8CGWxfGRj4vgAZPBMYGJgnARn8FxhY9ygAGfXX0pof\n",
       "gDTlBzAw2YIYJ0EckBBI53sHoBH/gIz7AhBjWH9DjancBLTl/N+7t/cxMAAA3u4f/5xagjYAAAAA\n",
       "SUVORK5CYII=\n",
       "\" style=\"display:inline;vertical-align:middle;\" /></a></span></td></tr><tr><td>1</td><td>axiom</td><td></td><td><span style=\"font-size:20px;\"> <a class=\"ProveItLink\" href=\"../../_axioms_.ipynb#rightInBool\" style=\"text-decoration: none\">&#x22A2;&nbsp;</a><a class=\"ProveItLink\" href=\"../5dbd186f0302c14bf468a9de602795b9ae77c22f0/expr.ipynb\"><img src=\"data:image/png;base64,iVBORw0KGgoAAAANSUhEUgAAANUAAAAXBAMAAABuThcPAAAAMFBMVEX///8QEBC6urrMzMxUVFRm\n",
       "ZmZERETc3NwyMjKqqqp2dnaIiIiYmJgiIiLu7u4AAAAU9Wx4AAAAAXRSTlMAQObYZgAAAy1JREFU\n",
       "SMe9VktoE1EUPZnJZNqZadqdglSyKBZUMAtFEUqDllJB2opEFyqOgqmC1KxaUcQgSF34yULd6CK4\n",
       "0IhQBrVC6aKjC6kfsF0URBpIoUJRqiL9qBTr+80nacxCBh/My7x7Xu5597x73xvgP7ZiYJ42VUVf\n",
       "kGecvrwJgEpOAEbXfFv7pRKzduPkj8ZTgBIHHlLD9QC4aqhCIRM4GiuxRyRr9lMOyAB9ZKiaAXCN\n",
       "0K7VIk+inEuPEaLXfDlKNgCu9bQbTQPvcmz8+VrhveCqtTuBaSLxg/7+CwFQSRnaHyPPBEs3+WrR\n",
       "i6uZCBchAS2mUh+q+FDjq221FeYpLJp54GwvG/cVPQ1bXpKB1g3sBnqYcYD1txeS7cy9xKee82EO\n",
       "LOcqpIZNg5kfGZri4x5vvwor6+gCSeBNiLLwje8MMhqgN7A5fKrpw1z4nhiN5fOHxWuIZp++BMyx\n",
       "1Iia/twYJiOJeK2DTpeEj8tciwSkJY+r1nIxzYNnqbehpK1r0cciw+vpb4T405kfqbFQcHMD5kYS\n",
       "8zeC2XVM2sFJ9p86C8q4xxVJu1iL7cJhovKz5i9FXcOg7eOqp/X8y6lsNy6YEc4VzWxloJVi0Nc4\n",
       "xtIeV8jDejMurFswuqlmmjQkciBE66aVEId/Mg3Hy7mohujZRU1hHGHQlpGnPJE41w4Xk3NvXVhK\n",
       "oIYCurJvynFpi/K6yHYfe0u4iIYGtd9iS3iFUQblgedFj6vJxSLFGheWM9jJuDTst8S5183LS17L\n",
       "A52LeVzGIVNMCNHZ0cnkGTbpBNEp63HddLFtMLIOTLhaUqmURbhyIv8lsuIDK21tV8T+qZfjztm7\n",
       "OLGHFgUlNyiHkkYrA4naW+Ie1wYX62T5z2HJxIyIy+HCmvKC7+B56LRp920zSSJbHYD6G+qkb7/m\n",
       "HEwmEgw7sJFDOM25DgoN6dlatT1yXmYWoXZNycvILyQ7sj4uUg8cCxepScBKDNHjrJbvny65U/7e\n",
       "+IHha4b/LmC97lwBqni4X7oRZL9KDs5EVS6mg79tX8UVrXi13alkPF+V60m5wV7FhbuV/pgI+KMn\n",
       "LGStcKdo//ZB9AfF3uaSOjs1mgAAAABJRU5ErkJggg==\n",
       "\" style=\"display:inline;vertical-align:middle;\" /></a></span></td></tr>\n",
       "<tr><td>&nbsp;</td><td colspan=4 style-\"text-align:left\"><a class=\"ProveItLink\" href=\"../../_axioms_.ipynb#rightInBool\">proveit.logic.boolean.conjunction.rightInBool</a></td></tr><tr><td>2</td><td>assumption</td><td></td><td><span style=\"font-size:20px;\"><a class=\"ProveItLink\" href=\"../8e086b89da9ed779165cd3927812d95fdc0e689f0/expr.ipynb\"><img src=\"data:image/png;base64,iVBORw0KGgoAAAANSUhEUgAAAIEAAAAVBAMAAACTeZA2AAAAMFBMVEX////c3NxERESqqqpUVFS6\n",
       "urrMzMwyMjIQEBCIiIh2dnYiIiLu7u5mZmaYmJgAAABXZE4RAAAAAXRSTlMAQObYZgAAAkRJREFU\n",
       "OMtjYGDgu8dAJmBbJQCieHaByEi8Sp/iMqIZRHJ+ADEdICIb0JQ8+e/ioh7AwJuAKrz8U33FJgMg\n",
       "4zqIx9UAJNgPgGXYP0CVyMDUNjEw8H5lYChAM1khkqdmFZBeATdhJkTi9R+oilqYM38C8RcGhlcY\n",
       "JjBMZUcxoQcszmj7EapRG+ImBk6gAN8vBoYTEC7P9N27C6Am2LEcQDKBFeJKTs6vEJUskRMgDCag\n",
       "JDfQeCYDMDf9DZIbhJDdwLsALB7D/A+i4DgDNEj5HRgYi4B2cV0Au1EH4Qu2fTowE3iB9rM/ALsx\n",
       "AORtEFjHcBnCyPeceRskxwx2JJMA3ITo/T9AznwP4mQEMDBwBIBYrAyMfyEKNjCIQxjzBRh4toCk\n",
       "QIHFcAg5JGcagSIP6LaUNpBjwSakuLh8AsvzTWBggaQADZApQEewgaM5YvduREgysYK8rg6UjEiA\n",
       "mQAk2sH6uA/AktgXkEsXwExIQXYDE4MCUCXIFBagoRygoGYG4h1geVsgLgTHKihk/Q1gvjiNYQI4\n",
       "HLiAwc4ECi1hIK4HyxdCTQEnB8bvIH+B3c7yANkEkC/gsQmKLB6QIn1QSmJTAPkElhwyahhgscmz\n",
       "FcmEt5OQ0wPrBgZGje8CDI/+g5IzCyhUOIGRxav/xcW9DpxhwAHFIH4NnrO0WwxQUnUjcqJnZYCG\n",
       "KwJAUzWDSfVulEyGMOEVgbJkJQ5xsAl8SLkbF+ApwCEBLh94doJSvANeE1gEcJRRrZAUuBhISOI1\n",
       "YRqechIAWPqQ8OR55gUAAAAASUVORK5CYII=\n",
       "\" style=\"display:inline;vertical-align:middle;\" /></a> <a class=\"ProveItLink\" href=\"../0fa99c89b07023a1435c7a8225f76f1bd15e15b20/proof.ipynb\" style=\"text-decoration: none\">&#x22A2;&nbsp;</a><a class=\"ProveItLink\" href=\"../69569e49afd55367ef23d22796cb96c9c92dda870/expr.ipynb\"><img src=\"data:image/png;base64,iVBORw0KGgoAAAANSUhEUgAAAGwAAAAVBAMAAABRZRb3AAAAMFBMVEX////c3NwiIiJERESqqqqY\n",
       "mJh2dnZmZmYQEBDu7u4yMjJUVFTMzMyIiIi6uroAAAAs73DqAAAAAXRSTlMAQObYZgAAAd1JREFU\n",
       "OMtjYCAT8F3AJ8v6AIfEaQh1CF39/t+7N69jYKhBFWZbb/WryQTIWAnhr4eKM06AMjgMGBjqHzBw\n",
       "oRnHzHdh1rQEBl6IG1n1ocq5CqDy54ES5zcwsCZgaON9sICBA6JcpF4AInxYEyp/HygQn8DA2QDh\n",
       "zl2kpAXVxhKwk+EVRPTCfajf992FarMAYg2gmSZgHs/SCQjbHhowlEGCc4J/AJjBuYAJqu03A4OU\n",
       "JZBOB/OEJyAceSh4AsNSMGce2CugkApgd4AY//vudVUQwwvMNUT4Tel/LwNDH5jzgEEeEhRMDIwL\n",
       "wAzejwwMkzYAGS/AjjBADpIrBgz/wEbv3r0fIhHLwLAHIg0MCt6voBAFe6JJSQkeJAwGzyDa+IDR\n",
       "BLFEExb//ECbWL/BtPFsQLKNwYCZoQXEBnqHCRzQLECncoGj4jwwiLi/wB2pgKbNFJQygNq4PoAj\n",
       "WwCiFRJt8iAXRIFVb0XR9gwcvrNA3J/gyAYRCtBo4+maAI+ASQ8Q2lhrDRgeAeOkfyEDq/0vkCX7\n",
       "QDKgCC/+v3v3KnBUroMk1eUHYEn5s8YWYFAIIKe4B9AAQgBY4mLZBQlJWAZJwJ8d2XBkx5X4tc3C\n",
       "IS6NX9tGHOKMeAsF3gNYhQHh/nxxYwq8OgAAAABJRU5ErkJggg==\n",
       "\" style=\"display:inline;vertical-align:middle;\" /></a></span></td></tr>\n",
       "</table>"
      ],
      "text/plain": [
       "<proveit._core_.proof._ShowProof at 0x7f94eae450f0>"
      ]
     },
     "execution_count": 1,
     "metadata": {},
     "output_type": "execute_result"
    }
   ],
   "source": [
    "import proveit\n",
    "%show_proof"
   ]
  },
  {
   "cell_type": "code",
   "execution_count": null,
   "metadata": {},
   "outputs": [],
   "source": []
  }
 ],
 "metadata": {
  "kernelspec": {
   "display_name": "Python 3",
   "language": "python",
   "name": "python3"
  }
 },
 "nbformat": 4,
 "nbformat_minor": 0
}
