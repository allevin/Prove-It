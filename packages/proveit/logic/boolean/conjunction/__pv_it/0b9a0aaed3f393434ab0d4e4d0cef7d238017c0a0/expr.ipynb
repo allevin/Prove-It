{
 "cells": [
  {
   "cell_type": "markdown",
   "metadata": {},
   "source": [
    "Expression of type <a class=\"ProveItLink\" href=\"../../../../../../../doc/html/api/proveit.ExprTuple.html\">ExprTuple</a>\n",
    "=======================\n",
    "# from context <a class=\"ProveItLink\" href=\"../../_context_.ipynb\">proveit.logic.boolean.conjunction</a>"
   ]
  },
  {
   "cell_type": "code",
   "execution_count": 1,
   "metadata": {},
   "outputs": [],
   "source": [
    "# import Expression classes needed to build the expression\n",
    "from proveit import ExprTuple\n",
    "from proveit._common_ import A, B, C, D, E\n",
    "from proveit.logic import And, Booleans, Or"
   ]
  },
  {
   "cell_type": "code",
   "execution_count": 2,
   "metadata": {},
   "outputs": [
    {
     "data": {
      "text/html": [
       "<strong id=\"expr\">expr:</strong> <a class=\"ProveItLink\" href=\"expr.ipynb\"><img src=\"data:image/png;base64,iVBORw0KGgoAAAANSUhEUgAAAOYAAAAVBAMAAACgQo8/AAAAMFBMVEX////c3NwiIiJERESqqqqY\n",
       "mJh2dnZmZmYQEBDu7u4yMjJUVFTMzMyIiIi6uroAAAAs73DqAAAAAXRSTlMAQObYZgAAA3dJREFU\n",
       "SMfFVktoU0EUvUn6krx82kAFsV00IC6KC0OxoHXRgIggglkpKNpsVBTEKEU3hRa0YBE0O4tQTS1F\n",
       "uzHVLoQ+bUpF8LNowKXWxm4sQjG1ttikVu+9M/M+wUWyEAcymXdy3r0z534mAP9j1Of/BVWNU5WA\n",
       "VsDpnVjPVPx24rdhdBScGFOH9l1NbHXiH5A7Mu3EwrmyYWQzPhM+v5J9tD0O0IPrMQFl+SC8FLRr\n",
       "AL5NJ0ZUbz/Al37GXGllrwRQ90MstymsIYNgDDLmLmJL+tgZgADuR+il7SIDQTItkNAv/JQdGE36\n",
       "A+R5l/mdQEpaC63h1Ct28FC5+EavpOCozSd8QodaEvyCuqU3Qi/HcHIzEka72poDI2pggI7ex++8\n",
       "bFU6kh6zYqtt6vAXca96HgbtPg8E06D3wVcB5Oc5dsP4OciAB+26BxwYUXvjJKo44NSctOYp4tQy\n",
       "TsvgksozDFYSIuCJ28/ZiN+74YrIyPSRBEjbwyIc4+AaSTswpLpKtNA5unrGrUJHUsyyz7sQleAK\n",
       "aGTSm7J8hnbsxe+zMMrP96Q0qCFriSZezF3mbVgYUn2rVmZ6Ez55Bn63K0nL09At66pkZClcdWYS\n",
       "xRZ2/STiIbjFzwVo4f1gmgRFgcxHQN8JDgyp7mXLpxtc0t48nTvHnCg0yR1tUIaasRfazu3H70XY\n",
       "5MgbRk4cL4rq8NhDthIODKkNRVaVH08CPBfcTppucPrnRZ5jshXBCyE0XbT59NSjGLPCJ9agX+y5\n",
       "G9XhUTblMjGk+tnCYX5sNfvJCnlbVXEYVzF2wVClT4iRz+v0iHFxCw2aZA6EyEQu7sCQGlwHrjoK\n",
       "FM6BiCpl8MecOcjlea5CW/a5CO2U+3HWgnP9lch1Kk+RpBbWLs17OZ3JX51Igg2cOtLOWqPypJrS\n",
       "MioYStvjmLnA4fKsg72mqTxfy7aoMKJ2xaH+kugIItSyPN+yd9E/zF46My1r5X5U+Dz2ns0sADTe\n",
       "Hgats5Sy9S5fZ9mYHFWqyH62QFYnn8limKKJusId5E70CEUKqkVOYNt/+p3kIGhwmXt8200K1mPw\n",
       "R5z3wZu/XEgSc1IL1qVgXXbWL2qI3vfZArD3acmq78IaqNa4wHPC1kry5l1WzRir3aWeqfRJydNc\n",
       "vYHm2n0GOR5hG/KECqX6Pxyu2v+bfKwEwtPwB3LNBuY55ol4AAAAAElFTkSuQmCC\n",
       "\" style=\"display:inline;vertical-align:middle;\" /></a><br>"
      ],
      "text/plain": [
       "expr: (A or B or (C and D and E) , BOOLEANS)"
      ]
     },
     "execution_count": 2,
     "metadata": {},
     "output_type": "execute_result"
    }
   ],
   "source": [
    "# build up the expression from sub-expressions\n",
    "expr = ExprTuple(Or(A, B, And(C, D, E)), Booleans)"
   ]
  },
  {
   "cell_type": "code",
   "execution_count": 3,
   "metadata": {},
   "outputs": [
    {
     "name": "stdout",
     "output_type": "stream",
     "text": [
      "Passed sanity check: built 'expr' is the same as the stored Expression.\n"
     ]
    }
   ],
   "source": [
    "# check that the built expression is the same as the stored expression\n",
    "%check_expr"
   ]
  },
  {
   "cell_type": "code",
   "execution_count": 4,
   "metadata": {},
   "outputs": [
    {
     "data": {
      "text/html": [
       "<table><tr><th>&nbsp;</th><th>core type</th><th>sub-expressions</th><th>expression</th></tr>\n",
       "<tr><td>0</td><td>ExprTuple</td><td>1, 2</td><td><a class=\"ProveItLink\" href=\"expr.ipynb\"><img src=\"data:image/png;base64,iVBORw0KGgoAAAANSUhEUgAAAOYAAAAVBAMAAACgQo8/AAAAMFBMVEX////c3NwiIiJERESqqqqY\n",
       "mJh2dnZmZmYQEBDu7u4yMjJUVFTMzMyIiIi6uroAAAAs73DqAAAAAXRSTlMAQObYZgAAA3dJREFU\n",
       "SMfFVktoU0EUvUn6krx82kAFsV00IC6KC0OxoHXRgIggglkpKNpsVBTEKEU3hRa0YBE0O4tQTS1F\n",
       "uzHVLoQ+bUpF8LNowKXWxm4sQjG1ttikVu+9M/M+wUWyEAcymXdy3r0z534mAP9j1Of/BVWNU5WA\n",
       "VsDpnVjPVPx24rdhdBScGFOH9l1NbHXiH5A7Mu3EwrmyYWQzPhM+v5J9tD0O0IPrMQFl+SC8FLRr\n",
       "AL5NJ0ZUbz/Al37GXGllrwRQ90MstymsIYNgDDLmLmJL+tgZgADuR+il7SIDQTItkNAv/JQdGE36\n",
       "A+R5l/mdQEpaC63h1Ct28FC5+EavpOCozSd8QodaEvyCuqU3Qi/HcHIzEka72poDI2pggI7ex++8\n",
       "bFU6kh6zYqtt6vAXca96HgbtPg8E06D3wVcB5Oc5dsP4OciAB+26BxwYUXvjJKo44NSctOYp4tQy\n",
       "TsvgksozDFYSIuCJ28/ZiN+74YrIyPSRBEjbwyIc4+AaSTswpLpKtNA5unrGrUJHUsyyz7sQleAK\n",
       "aGTSm7J8hnbsxe+zMMrP96Q0qCFriSZezF3mbVgYUn2rVmZ6Ez55Bn63K0nL09At66pkZClcdWYS\n",
       "xRZ2/STiIbjFzwVo4f1gmgRFgcxHQN8JDgyp7mXLpxtc0t48nTvHnCg0yR1tUIaasRfazu3H70XY\n",
       "5MgbRk4cL4rq8NhDthIODKkNRVaVH08CPBfcTppucPrnRZ5jshXBCyE0XbT59NSjGLPCJ9agX+y5\n",
       "G9XhUTblMjGk+tnCYX5sNfvJCnlbVXEYVzF2wVClT4iRz+v0iHFxCw2aZA6EyEQu7sCQGlwHrjoK\n",
       "FM6BiCpl8MecOcjlea5CW/a5CO2U+3HWgnP9lch1Kk+RpBbWLs17OZ3JX51Igg2cOtLOWqPypJrS\n",
       "MioYStvjmLnA4fKsg72mqTxfy7aoMKJ2xaH+kugIItSyPN+yd9E/zF46My1r5X5U+Dz2ns0sADTe\n",
       "Hgats5Sy9S5fZ9mYHFWqyH62QFYnn8limKKJusId5E70CEUKqkVOYNt/+p3kIGhwmXt8200K1mPw\n",
       "R5z3wZu/XEgSc1IL1qVgXXbWL2qI3vfZArD3acmq78IaqNa4wHPC1kry5l1WzRir3aWeqfRJydNc\n",
       "vYHm2n0GOR5hG/KECqX6Pxyu2v+bfKwEwtPwB3LNBuY55ol4AAAAAElFTkSuQmCC\n",
       "\" style=\"display:inline;vertical-align:middle;\" /></a></td></tr>\n",
       "<tr><td>1</td><td>Operation</td><td>operator:&nbsp;3<br>operands:&nbsp;4<br></td><td><a class=\"ProveItLink\" href=\"../98a43e01d5dba590943af60807a790ac2b9bb06d0/expr.ipynb\"><img src=\"data:image/png;base64,iVBORw0KGgoAAAANSUhEUgAAAL0AAAAVBAMAAADhtvKAAAAAMFBMVEX///92dnYQEBBERERUVFS6\n",
       "urqIiIhmZmaqqqrc3Nzu7u6YmJgyMjIiIiLMzMwAAACFkkdwAAAAAXRSTlMAQObYZgAAAqFJREFU\n",
       "OMvNlU1oE1EQxyffH7vdFg8e6qHFmyI0eBRLFrrgSbJ4qEcDSr2ZoAcLgsmtRwMFLRLIUlAvUdKD\n",
       "Zxc/kIKQ4lEPzcGTWpJilGpj68y8t+2O9LKeDOzk7S8zs29m/vsC8N985iNHPA8WW3/9YJSGztwb\n",
       "ySwbTf7qhTu5quDX9h3nVU/6pjHe6fqZAHfJpHipULwAUHMFMz00xzqQutlh+DBINgLI7oBk4z7C\n",
       "Avh6u5sUm6Q06TKTPn71bcEW8Gp/QDPVYJe3QV3baGqeYHCFQqqwpu5WahRi4Z5hTDlWELyYEOw0\n",
       "Xi9pdUmlnfV0L77r/YQYTOG+8mVYVXfliktf63gtKXIWr/demKWw1gy34QF7JOdVpZAYoGnZglHD\n",
       "J6ABiTqHeve4pUs6H36GAM1zgmWwmhb38xl7tGFDt5pK7NuCwTcwKGWMpfBIl4d94H5gocOF6x9B\n",
       "MBP9a51DiZyARTgYFfcyxFIjp0stz/KGXGjxc3COSVf19CfAU1uwONrNxmH+DWiqRYUkUHIFi+2B\n",
       "yc+Zps06TqmgY9q6p8jTu4KNY4Z9XvEMjbLSFkCRzEnJzAHEwMLUA6X7uBLqIlaokuHejW3BKP8M\n",
       "LbK9oG+2bjX67kqGM8nBY50fZzw2zbgZzKePjU7uCBZHtxJtPQNi7tYP/TqG9cHyn1T9ydW5HtbX\n",
       "F60vkr8SywFLdPQoJ0FoOb2H5rwn9U3yp2PE8IHbm/gl3xmUv3XGE4ykZmBJl3nG6r0L5P+1Khmf\n",
       "N1s9DlqeWQejOKqG3+9beGS9C7SoWYra9On17bqqytXnxpMinoR3JcvPYfzF3zRnV557n484ZAN2\n",
       "KgzVuSejj2CrEQ7ztX/4yzgewdf0IqfP+xGcc3bk/MlGFO/7kfPfAPgDIXPHXiiDxcEAAAAASUVO\n",
       "RK5CYII=\n",
       "\" style=\"display:inline;vertical-align:middle;\" /></a></td></tr>\n",
       "<tr><td>2</td><td>Literal</td><td></td><td><a class=\"ProveItLink\" href=\"../../../__pv_it/46271c8230be96415d662709611f4ed2279d702b0/expr.ipynb\"><img src=\"data:image/png;base64,iVBORw0KGgoAAAANSUhEUgAAAA0AAAAOBAMAAAAGUYvhAAAAMFBMVEX///9mZmbMzMzc3NxUVFSY\n",
       "mJju7u6IiIi6urqqqqoiIiIQEBBEREQyMjJ2dnYAAAAQvcRZAAAAAXRSTlMAQObYZgAAAElJREFU\n",
       "CNdjePvn/u01ExgYGA60s117B6YZKngh9FSWBAjfBsxnWnoMRHet/10AkS+fA6F5OB5AaIYDqDRU\n",
       "PLCGgQFoz6ktExgAgLIl8DFvGtkAAAAASUVORK5CYII=\n",
       "\" style=\"display:inline;vertical-align:middle;\" /></a></td></tr>\n",
       "<tr><td>3</td><td>Literal</td><td></td><td><a class=\"ProveItLink\" href=\"../../../disjunction/__pv_it/087d0b4ded7c7e5bf3bba05ecb616d7a8051ff650/expr.ipynb\"><img src=\"data:image/png;base64,iVBORw0KGgoAAAANSUhEUgAAAAwAAAAOBAMAAADpk+DfAAAALVBMVEX///+YmJh2dnZmZmaqqqrc\n",
       "3NwyMjLu7u4iIiJERESIiIhUVFTMzMy6uroAAAD0I/TTAAAAAXRSTlMAQObYZgAAAEtJREFUCNdj\n",
       "uMAABDwMe0DUKoaTIKqdgS2AgYHFAITAzHYGsMQqBoa9QIqDgT0BSDE7MAkAKdYEDpAehj1SYOpk\n",
       "O5hiMwBTPAUMDAB33Atnw8aG2QAAAABJRU5ErkJggg==\n",
       "\" style=\"display:inline;vertical-align:middle;\" /></a></td></tr>\n",
       "<tr><td>4</td><td>ExprTuple</td><td>5, 6, 7</td><td><a class=\"ProveItLink\" href=\"../e2e0cd081c14b49d7c607681dfe7d4bc78262bc40/expr.ipynb\"><img src=\"data:image/png;base64,iVBORw0KGgoAAAANSUhEUgAAAJ8AAAAVBAMAAACqHiFtAAAAMFBMVEX////c3NwiIiJERESqqqqY\n",
       "mJh2dnZmZmYQEBDu7u4yMjJUVFTMzMyIiIi6uroAAAAs73DqAAAAAXRSTlMAQObYZgAAAntJREFU\n",
       "OMutVT1oU1EU/tLkNX35M6Ag1iFdBJ0aBEFdks3RTI6aRbSDNODvICSDgziYh4siKi+I+Acm2MHh\n",
       "DSkd7dCAg4NKg4siiPGnBZPaes659+blDiKUBN7hnO+8c975+e4NMPZfpjO+XCdZLCt9yYBOexAs\n",
       "vDCW++bVxUjFinq3FQQPF+1MaQoKmn6c4acKag6dU3mg2tXG2RIyV0qi7jEv9IHYL9jYDp/APEim\n",
       "VcfOrGd8K4SstJR+9wCJ+azoj7U/tU6i6lkYvnGaCk5QPcqzq5o1vlXSTpWV/oS9n1Weg/qT6U39\n",
       "1REM89Ss28Ed4IsCOqumSRymZ796MS6d7RY9+VVvL9ojkWtZGE+sjCyiRVxSq/aOl0zCATB9RKk5\n",
       "n+U91T1m9LjyMDMZYvgJhxNMVvBI7Ae6B25j8OHtPq1XS+EiT+NCOGM9kyGW6QdNnlnMx00BusgZ\n",
       "bqS/A7f0TmazYcIZTOsZMzfaXQub3EBCEtewKVUFQTuvA6M1Srqm9C2RMk+ng6QiX4HFdRtL9DCJ\n",
       "FCXqqYQZ2rZvGEXVOetKr7OIScyEh1RLj4teWLMxmmsE9yXhNbaL5KwZGtLckpq3bS4uLuoxehrS\n",
       "zR9N/hFM0XBOWj5EWqQoRavemIa8Xc/Mf05CGjoB0hskjnoWJjTkE+r4OCPbp9H9hvtD0zB1w1OG\n",
       "Q5V+ksWkuKQJQ8PXFRuTg7u0KLT5COysN+AU+hW3TrHn6eg/o67FwPLzy0VFa94qH9PbBbo7rtqY\n",
       "u0BBL7mCRBdTI8zIZPEPg9cm7PoPRkfPKYemM+pztnMhnguvr7EkdJl7e0Pburu3c5EneUyRMf4F\n",
       "vAf+AgFHu9pr3YHbAAAAAElFTkSuQmCC\n",
       "\" style=\"display:inline;vertical-align:middle;\" /></a></td></tr>\n",
       "<tr><td>5</td><td>Variable</td><td></td><td><a class=\"ProveItLink\" href=\"../../../../../__pv_it/2cbe72a7ad6f655694dd697106680215e8489b600/expr.ipynb\"><img src=\"data:image/png;base64,iVBORw0KGgoAAAANSUhEUgAAAA8AAAAOBAMAAAACpFvcAAAALVBMVEX///8QEBBERERUVFS6urqI\n",
       "iIhmZmaqqqrc3Nzu7u6YmJgyMjIiIiLMzMwAAADtIaYWAAAAAXRSTlMAQObYZgAAAFtJREFUCNdj\n",
       "YACBOwxQsA9Kc52bAGG05zVAGAFxDmCaZULdAjBjCsO9ADDDgaEvAUTzGhvbKYCVMDAwbgAxChgY\n",
       "eASANAeQwf0AyJgNxEwvGRia5HYwcOm9TgAA6BoR3jrzwFcAAAAASUVORK5CYII=\n",
       "\" style=\"display:inline;vertical-align:middle;\" /></a></td></tr>\n",
       "<tr><td>6</td><td>Variable</td><td></td><td><a class=\"ProveItLink\" href=\"../../../../../__pv_it/077b2ff79244fb4582cbe22c6e3356fa92a52f2f0/expr.ipynb\"><img src=\"data:image/png;base64,iVBORw0KGgoAAAANSUhEUgAAABAAAAAOBAMAAADUAYG5AAAAMFBMVEX///+qqqru7u4iIiJ2dnbc\n",
       "3NyIiIjMzMxmZmYQEBC6uroyMjJERERUVFSYmJgAAADLUcuvAAAAAXRSTlMAQObYZgAAAGpJREFU\n",
       "CNdjYGB4+//u3dMLGIBgDgMDxy8gzf4NiP8CGWxfGRj4vgAZPBMYGJgnARn8FxhY9ygAGfXX0pof\n",
       "gDTlBzAw2YIYJ0EckBBI53sHoBH/gIz7AhBjWH9DjancBLTl/N+7t/cxMAAA3u4f/5xagjYAAAAA\n",
       "SUVORK5CYII=\n",
       "\" style=\"display:inline;vertical-align:middle;\" /></a></td></tr>\n",
       "<tr><td>7</td><td>Operation</td><td>operator:&nbsp;8<br>operands:&nbsp;9<br></td><td><a class=\"ProveItLink\" href=\"../0ebf51db954843ff8dae4f0c37a06b00d3d317e20/expr.ipynb\"><img src=\"data:image/png;base64,iVBORw0KGgoAAAANSUhEUgAAAGAAAAAPBAMAAADpFNeEAAAAMFBMVEX////MzMyqqqoiIiIyMjK6\n",
       "uroQEBB2dnbc3NyYmJhmZmZUVFRERESIiIju7u4AAAB204erAAAAAXRSTlMAQObYZgAAAZVJREFU\n",
       "KM9VUj1LA0EQfWcSc7mLMX0CWotg/APJVRIM6FUWgugPEEwl2JgrrCz0WgtRLARFUCFpvCIRO5uk\n",
       "V/GEdCJEURRijLOze/lYuLk3Mzu7M+8tgMTjzZl+jME1Vm175VsMr4eu55U/CWy6iJy6HNsLkuMW\n",
       "MDPJUPeDoNg8DTSz9C85HJoPchNFwPhjGA4uj3TIGMCcOGGJQ9pdcNqzTV6HYTqrYtF3Mm8wPoSz\n",
       "yyFzpaGSddFLm2HlScXCLUShY98SzguHmsio5K+4jwsSViiYq4YD+l26fR62cCIBdxP75kZcQw6P\n",
       "1UL5h345p1+QwY6iVbRrfgkYgm7JYCkJgbrs8LCxBswku/EWmdE1AQ+Ba1mwCBSRxIbAI7wv5EO7\n",
       "CtoFjrhZ4ijVm8tJNFD1Jbu0pujLSxkEW+t8FKkQdnoyRH2Z2+ZteVVEMtCN8QXm0pFFSgaiP0Y6\n",
       "LPMRWo1nVDJoUvW0JEPKAG2WQKpwLnkzbcEPXZi4oGd2L8evCCOke623PS+XGXyNEbb28BO1+xm5\n",
       "/gF4VWQFRtIgswAAAABJRU5ErkJggg==\n",
       "\" style=\"display:inline;vertical-align:middle;\" /></a></td></tr>\n",
       "<tr><td>8</td><td>Literal</td><td></td><td><a class=\"ProveItLink\" href=\"../76b5f4f4c45c0b6a9b59b297fc07dfa9555698f50/expr.ipynb\"><img src=\"data:image/png;base64,iVBORw0KGgoAAAANSUhEUgAAAAwAAAAOBAMAAADpk+DfAAAALVBMVEX///+qqqqYmJh2dnaIiIi6\n",
       "urpUVFQiIiJERETMzMxmZmYyMjLu7u7c3NwAAABvwqPxAAAAAXRSTlMAQObYZgAAAEtJREFUCNdj\n",
       "YGDgPcAAAtwLwNSMGjCV6gIieTawgyhmBS4BIMXOwLsBSKkwMGQCKaC6aQwMjEBd3BdACMScAVJd\n",
       "wJAKolwYAkAUKwAk0guX6efcigAAAABJRU5ErkJggg==\n",
       "\" style=\"display:inline;vertical-align:middle;\" /></a></td></tr>\n",
       "<tr><td>9</td><td>ExprTuple</td><td>10, 11, 12</td><td><a class=\"ProveItLink\" href=\"../9b46dd346f176f4dd7279387cd96c08d0fd585db0/expr.ipynb\"><img src=\"data:image/png;base64,iVBORw0KGgoAAAANSUhEUgAAAFAAAAAVBAMAAAAjqnRBAAAAMFBMVEX////c3NwiIiJERESqqqqY\n",
       "mJh2dnZmZmYQEBDu7u4yMjJUVFTMzMyIiIi6uroAAAAs73DqAAAAAXRSTlMAQObYZgAAAZxJREFU\n",
       "KM+NUz1PAkEQfah33iEH11lY6E+g0EYLqI0FtY3XGSsxMdqYSCGJNnqdxoRINBY2olKYeAXEUgvp\n",
       "LUQbjY3gVyLgx8zeHtxVcsm+3dl5uzPzdg7o+otW/ucoVYJrXuUmllOD7ubtr+MclCXDKDUdp5DH\n",
       "Cq2PaKhZ4DErnQ2g7927K5YnK44wnaHI+r5N5LrrinwSrNqS+MKJpaFY0GgrvMG5ZmS0H4IbL/F5\n",
       "SkKvQM/gmc8nCUJp19VbIxg+kcQCYMEERrFElAZv6bKAWJxv9IhvUFI8z+IQ6P/wSyGizlhSu4ZT\n",
       "MHkxiU2gp+4n3vHNpaprqC0umL4nUOqxmggtiQmGdWmEa1AR4ThM1ARxqp0VvYSXDCUcQk4Q14CB\n",
       "LwixXBm/CbS4X8Y5EXpM+lTbDW60CMZJXNuTUeg2TXVTjUlEF4C9ESnjFbn0VykjLstCngcOd3G+\n",
       "SNMOVb+daDpFbgF9y4RepAY5EyeOoZkdZe4D7edz8BMqVsdMBXrQb6gVt83+Je7SGGpbRqCrA41/\n",
       "yl3Txa9glPEHp9Zv1gCxd98AAAAASUVORK5CYII=\n",
       "\" style=\"display:inline;vertical-align:middle;\" /></a></td></tr>\n",
       "<tr><td>10</td><td>Variable</td><td></td><td><a class=\"ProveItLink\" href=\"../../../../../__pv_it/985a1bdf1540838275dec15f4ad6de261cca93ce0/expr.ipynb\"><img src=\"data:image/png;base64,iVBORw0KGgoAAAANSUhEUgAAAA8AAAAOBAMAAAACpFvcAAAAMFBMVEX////MzMyqqqoiIiIyMjK6\n",
       "uroQEBB2dnbc3NyYmJhmZmZUVFRERESIiIju7u4AAAB204erAAAAAXRSTlMAQObYZgAAAGZJREFU\n",
       "CNdjYGDgu7NrJccCBgaGsgkMrMsmMDA8sQNy6hsYGNweABlhDAxcn4A0QxcDQ78DiPGQgWH9BAYI\n",
       "sG+AMv6DSaCGfBDNJMDAsB+kmwuI5S8AiTog5gSaEwXWIO29SgFIAQBC+RaDQlidVgAAAABJRU5E\n",
       "rkJggg==\n",
       "\" style=\"display:inline;vertical-align:middle;\" /></a></td></tr>\n",
       "<tr><td>11</td><td>Variable</td><td></td><td><a class=\"ProveItLink\" href=\"../../../../../__pv_it/185e6d30f167ee2ee5ef3321098dc98e0d77bc590/expr.ipynb\"><img src=\"data:image/png;base64,iVBORw0KGgoAAAANSUhEUgAAABEAAAAOBAMAAAA7w+qHAAAALVBMVEX///8QEBCYmJjc3Ny6urru\n",
       "7u5mZmZ2dnaqqqrMzMxEREQyMjJUVFSIiIgAAABETr/8AAAAAXRSTlMAQObYZgAAAGpJREFUCNdj\n",
       "YGC48+7MmV0TGEDgNQMDxwsQg/M5kMgLABK8T4DEvAtAgusBkLA7ACT4FoDEDsAk9AqAxD2QCecc\n",
       "gMQ6kAGCIOIVEDM9Ahn3FkgwgnTxvgQSqwOgxs1OADLC1r05cyoTyAAAv4Qe+njAWvgAAAAASUVO\n",
       "RK5CYII=\n",
       "\" style=\"display:inline;vertical-align:middle;\" /></a></td></tr>\n",
       "<tr><td>12</td><td>Variable</td><td></td><td><a class=\"ProveItLink\" href=\"../../../../../__pv_it/9995c55100c62d7d8a012a35bafc852acbe03cf00/expr.ipynb\"><img src=\"data:image/png;base64,iVBORw0KGgoAAAANSUhEUgAAABAAAAAOBAMAAADUAYG5AAAALVBMVEX///8iIiKYmJjc3Nzu7u7M\n",
       "zMx2dnZmZma6urpERESqqqoyMjJUVFSIiIgAAACbLqVTAAAAAXRSTlMAQObYZgAAAGVJREFUCNdj\n",
       "YGC48+7MmdOvGYAARKwEYo63QIIdiNmeAglfIOZ+wMDGwAxk8E1gUAIpZejbc/oxmJEXwLABzNjH\n",
       "wJDAEABkvGRgMGC5ADWGzQFqjDnEGAZWUQYGn3lvzpyRE2AAAIznGVQJqiN4AAAAAElFTkSuQmCC\n",
       "\" style=\"display:inline;vertical-align:middle;\" /></a></td></tr>\n",
       "</table>\n"
      ],
      "text/plain": [
       "0. (A or B or (C and D and E) , BOOLEANS)\n",
       "   core type: ExprTuple\n",
       "   sub-expressions: 1, 2\n",
       "1. A or B or (C and D and E)\n",
       "   core type: Operation\n",
       "   operator: 3\n",
       "   operands: 4\n",
       "2. BOOLEANS\n",
       "   core type: Literal\n",
       "   sub-expressions: \n",
       "3. or\n",
       "   core type: Literal\n",
       "   sub-expressions: \n",
       "4. (A , B , C and D and E)\n",
       "   core type: ExprTuple\n",
       "   sub-expressions: 5, 6, 7\n",
       "5. A\n",
       "   core type: Variable\n",
       "   sub-expressions: \n",
       "6. B\n",
       "   core type: Variable\n",
       "   sub-expressions: \n",
       "7. C and D and E\n",
       "   core type: Operation\n",
       "   operator: 8\n",
       "   operands: 9\n",
       "8. and\n",
       "   core type: Literal\n",
       "   sub-expressions: \n",
       "9. (C , D , E)\n",
       "   core type: ExprTuple\n",
       "   sub-expressions: 10, 11, 12\n",
       "10. C\n",
       "    core type: Variable\n",
       "    sub-expressions: \n",
       "11. D\n",
       "    core type: Variable\n",
       "    sub-expressions: \n",
       "12. E\n",
       "    core type: Variable\n",
       "    sub-expressions: "
      ]
     },
     "execution_count": 4,
     "metadata": {},
     "output_type": "execute_result"
    }
   ],
   "source": [
    "# display the expression information\n",
    "expr.exprInfo()"
   ]
  },
  {
   "cell_type": "code",
   "execution_count": null,
   "metadata": {},
   "outputs": [],
   "source": []
  }
 ],
 "metadata": {
  "kernelspec": {
   "display_name": "Python 3",
   "language": "python",
   "name": "python3"
  }
 },
 "nbformat": 4,
 "nbformat_minor": 0
}
