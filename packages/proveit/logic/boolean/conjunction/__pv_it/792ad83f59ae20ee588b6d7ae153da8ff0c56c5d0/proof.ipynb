{
 "cells": [
  {
   "cell_type": "markdown",
   "metadata": {},
   "source": [
    "Show the Proof\n",
    "========"
   ]
  },
  {
   "cell_type": "code",
   "execution_count": 1,
   "metadata": {},
   "outputs": [
    {
     "data": {
      "text/html": [
       "<table><tr><th>&nbsp;</th><th>step type</th><th>requirements</th><th>statement</th></tr>\n",
       "<tr><td>0</td><td>generalizaton</td><td>1</td><td><span style=\"font-size:20px;\"> <a class=\"ProveItLink\" href=\"proof.ipynb\" style=\"text-decoration: none\">&#x22A2;&nbsp;</a><a class=\"ProveItLink\" href=\"../57fb75bbd131e64bc97e704a3dca322a34e05ff00/expr.ipynb\"><img src=\"data:image/png;base64,iVBORw0KGgoAAAANSUhEUgAAAH0AAAAWBAMAAAAfnY6PAAAAMFBMVEX///8QEBC6urrMzMxUVFRm\n",
       "ZmZERETc3NwyMjKqqqp2dnaIiIiYmJgiIiLu7u4AAAAU9Wx4AAAAAXRSTlMAQObYZgAAAXhJREFU\n",
       "OMullD9Iw0AUh3+2Ta2XNG6O0kFwdNGlIIiCo1RscVEoClcQ0Ux2KmYTF+3inknrIlWoi0vcFBdn\n",
       "rZDBwcmlIIiLd/lzmlwRmzy493LH93GXxyVwkCweeXoYWFNe3KjinM+O4uycLvG8x8ZwNb6fYw1Q\n",
       "mvF97axebyC+jw9Kn5L4C0ANGNmtlDcjQEFSQpTvT0A3WbkFLr31u1ZrzX1wu6pQOka3AueHEn4e\n",
       "qs1KGZgyoHcqtkr0q4LwRbUgqJCv2nl+B5+BdeB68t1RCS5syU93IaiQr5vTPPegHUDjSypJdRzJ\n",
       "z74JKuyjNs9S6utm0UHOPZCy3IXkFzU7oCL+Cf8EiAltHEXXJ1hpS/4OzICK+EMczpagf2KWUtpm\n",
       "vmVFfQbfB1TgW17V+IlGm0j18OrvL/sZB9mA6hf7DholZAzPX5XOP8PWmz7VJ8hxpXzI+rvh3p/T\n",
       "bal/S7z61B9B2PuLye+v2vDHIFFN+GtL6s/9g/kGpdxsd7Az+kEAAAAASUVORK5CYII=\n",
       "\" style=\"display:inline;vertical-align:middle;\" /></a></span></td></tr>\n",
       "<tr><td>1</td><td>axiom</td><td></td><td><span style=\"font-size:20px;\"> <a class=\"ProveItLink\" href=\"../../../_axioms_.ipynb#trueAxiom\" style=\"text-decoration: none\">&#x22A2;&nbsp;</a><a class=\"ProveItLink\" href=\"../../../__pv_it/68a87cc3370287d726c7086ace789e680e4461c30/expr.ipynb\"><img src=\"data:image/png;base64,iVBORw0KGgoAAAANSUhEUgAAAA4AAAAOBAMAAADtZjDiAAAAFVBMVEX///92dnbMzMxEREQiIiJm\n",
       "ZmYAAABAT6GXAAAAAXRSTlMAQObYZgAAABhJREFUCNdjCHEBAWcGIFBlgABa0YpADAAxegPJJk4d\n",
       "XAAAAABJRU5ErkJggg==\n",
       "\" style=\"display:inline;vertical-align:middle;\" /></a></span></td></tr>\n",
       "<tr><td>&nbsp;</td><td colspan=4 style-\"text-align:left\"><a class=\"ProveItLink\" href=\"../../../_axioms_.ipynb#trueAxiom\">proveit.logic.boolean.trueAxiom</a></td></tr></table>"
      ],
      "text/plain": [
       "<proveit._core_.proof._ShowProof at 0x7f950c688a20>"
      ]
     },
     "execution_count": 1,
     "metadata": {},
     "output_type": "execute_result"
    }
   ],
   "source": [
    "import proveit\n",
    "%show_proof"
   ]
  },
  {
   "cell_type": "code",
   "execution_count": null,
   "metadata": {},
   "outputs": [],
   "source": []
  }
 ],
 "metadata": {
  "kernelspec": {
   "display_name": "Python 3",
   "language": "python",
   "name": "python3"
  }
 },
 "nbformat": 4,
 "nbformat_minor": 0
}
