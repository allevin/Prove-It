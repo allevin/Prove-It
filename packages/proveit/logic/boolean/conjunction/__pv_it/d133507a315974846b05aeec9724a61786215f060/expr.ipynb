{
 "cells": [
  {
   "cell_type": "markdown",
   "metadata": {},
   "source": [
    "Expression of type <a class=\"ProveItLink\" href=\"../../../../../../../doc/html/api/proveit.logic.Forall.html\">Forall</a>\n",
    "=======================\n",
    "# from context <a class=\"ProveItLink\" href=\"../../_context_.ipynb\">proveit.logic.boolean.conjunction</a>"
   ]
  },
  {
   "cell_type": "code",
   "execution_count": 1,
   "metadata": {},
   "outputs": [],
   "source": [
    "# import Expression classes needed to build the expression\n",
    "from proveit._common_ import B\n",
    "from proveit.logic import And, Forall, Not, TRUE"
   ]
  },
  {
   "cell_type": "code",
   "execution_count": 2,
   "metadata": {},
   "outputs": [
    {
     "data": {
      "text/html": [
       "<strong id=\"expr\">expr:</strong> <a class=\"ProveItLink\" href=\"expr.ipynb\"><img src=\"data:image/png;base64,iVBORw0KGgoAAAANSUhEUgAAALMAAAAXBAMAAACyt2M4AAAAMFBMVEX///8QEBC6urrMzMxUVFRm\n",
       "ZmZERETc3NwyMjKqqqp2dnaIiIiYmJgiIiLu7u4AAAAU9Wx4AAAAAXRSTlMAQObYZgAAAlZJREFU\n",
       "SMe1lD1oFEEUx/+b+4p3e3tiozZhCwshiFdoY3OLOdJ6xUVQCJ4Im8aPK8QEJMkSkChIvCb9NSqi\n",
       "RUSsrjBanoWxsfAD1s5GEHMoUUHf7OzevFmT2yuSB3/u7Zs3v5uZ92aAvTN/yLyRNfYxPjD1VagN\n",
       "8fE6GX2C+SkH05+EvdNzzDO96uQSMmUEeiRiK8lonjIabPVk/3shcowGcMGGRy7pBv3kGonkAj+P\n",
       "DnT0rcipUFbFQZfcrlxBppWINnhNxnR06ko0+KIJvGnjM7kk8+Hs7HzyeRzlFfV0dHo82tJF0lsf\n",
       "WVqq0A/XfZ+MPs/8TFtHf5G9QNYD5q4C+ZrUBDAD7Ls2Vb8UDNuKoYK4y6u4rqOf4Fx4Mr3O849i\n",
       "nid1BJbY4EvgaTDOS9oP4gAtNug3WrFh6+gNzIW1/gl8dejE9ksVURCrqAPHm3F0P4jvqqVR0tHm\n",
       "GtLlwMsSrvCHkr5JFdaLosAfgOn/Vt0PDkLTdBElK9GP+UuhLU9cNGsT5nIcrYI4zNBGS0OvkmRW\n",
       "hbaf3lIHgpnToqF+dyb9OFoFcZmhs3oZl0O8bOtFKpwZCquidfIezDGFfuC6rseCuB/9XVn2lUKn\n",
       "xIRi1NapQ75qPhii4bM1WFv6qhssiGP8ysg2PhVeGDt6B87+rVZvix2N2lIwxZ5LLYxsxtEqCKPJ\n",
       "2Ae11zZ+GxBd9NAWfczX4mgVhNlmU7sJV/dxqMDy96bqd6Cjyyy43aO6o4kraHnbDOzwwF5nfs4Z\n",
       "iE43pYZF5/iDfXMg+lmoYdG7Yc5ugf4BaH+faCAgty0AAAAASUVORK5CYII=\n",
       "\" style=\"display:inline;vertical-align:middle;\" /></a><br>"
      ],
      "text/plain": [
       "expr: forall_{B | [not](B)} [not](TRUE and B)"
      ]
     },
     "execution_count": 2,
     "metadata": {},
     "output_type": "execute_result"
    }
   ],
   "source": [
    "# build up the expression from sub-expressions\n",
    "expr = Forall([B], Not(And(TRUE, B)), conditions = [Not(B)])"
   ]
  },
  {
   "cell_type": "code",
   "execution_count": 3,
   "metadata": {},
   "outputs": [
    {
     "name": "stdout",
     "output_type": "stream",
     "text": [
      "Passed sanity check: built 'expr' is the same as the stored Expression.\n"
     ]
    }
   ],
   "source": [
    "# check that the built expression is the same as the stored expression\n",
    "%check_expr"
   ]
  },
  {
   "cell_type": "code",
   "execution_count": 4,
   "metadata": {},
   "outputs": [
    {
     "data": {
      "text/html": [
       "<table><tr><th>&nbsp;</th><th>core type</th><th>sub-expressions</th><th>expression</th></tr>\n",
       "<tr><td>0</td><td>Operation</td><td>operator:&nbsp;1<br>operand:&nbsp;2<br></td><td><a class=\"ProveItLink\" href=\"expr.ipynb\"><img src=\"data:image/png;base64,iVBORw0KGgoAAAANSUhEUgAAALMAAAAXBAMAAACyt2M4AAAAMFBMVEX///8QEBC6urrMzMxUVFRm\n",
       "ZmZERETc3NwyMjKqqqp2dnaIiIiYmJgiIiLu7u4AAAAU9Wx4AAAAAXRSTlMAQObYZgAAAlZJREFU\n",
       "SMe1lD1oFEEUx/+b+4p3e3tiozZhCwshiFdoY3OLOdJ6xUVQCJ4Im8aPK8QEJMkSkChIvCb9NSqi\n",
       "RUSsrjBanoWxsfAD1s5GEHMoUUHf7OzevFmT2yuSB3/u7Zs3v5uZ92aAvTN/yLyRNfYxPjD1VagN\n",
       "8fE6GX2C+SkH05+EvdNzzDO96uQSMmUEeiRiK8lonjIabPVk/3shcowGcMGGRy7pBv3kGonkAj+P\n",
       "DnT0rcipUFbFQZfcrlxBppWINnhNxnR06ko0+KIJvGnjM7kk8+Hs7HzyeRzlFfV0dHo82tJF0lsf\n",
       "WVqq0A/XfZ+MPs/8TFtHf5G9QNYD5q4C+ZrUBDAD7Ls2Vb8UDNuKoYK4y6u4rqOf4Fx4Mr3O849i\n",
       "nid1BJbY4EvgaTDOS9oP4gAtNug3WrFh6+gNzIW1/gl8dejE9ksVURCrqAPHm3F0P4jvqqVR0tHm\n",
       "GtLlwMsSrvCHkr5JFdaLosAfgOn/Vt0PDkLTdBElK9GP+UuhLU9cNGsT5nIcrYI4zNBGS0OvkmRW\n",
       "hbaf3lIHgpnToqF+dyb9OFoFcZmhs3oZl0O8bOtFKpwZCquidfIezDGFfuC6rseCuB/9XVn2lUKn\n",
       "xIRi1NapQ75qPhii4bM1WFv6qhssiGP8ysg2PhVeGDt6B87+rVZvix2N2lIwxZ5LLYxsxtEqCKPJ\n",
       "2Ae11zZ+GxBd9NAWfczX4mgVhNlmU7sJV/dxqMDy96bqd6Cjyyy43aO6o4kraHnbDOzwwF5nfs4Z\n",
       "iE43pYZF5/iDfXMg+lmoYdG7Yc5ugf4BaH+faCAgty0AAAAASUVORK5CYII=\n",
       "\" style=\"display:inline;vertical-align:middle;\" /></a></td></tr>\n",
       "<tr><td>1</td><td>Literal</td><td></td><td><a class=\"ProveItLink\" href=\"../../../quantification/universal/__pv_it/265f8c02ac1094d56e0e6410a1c1fd3500dc9f540/expr.ipynb\"><img src=\"data:image/png;base64,iVBORw0KGgoAAAANSUhEUgAAAAwAAAAQBAMAAADQT4M0AAAAMFBMVEX///8QEBC6urrMzMxUVFRm\n",
       "ZmZERETc3NwyMjKqqqp2dnaIiIiYmJgiIiLu7u4AAAAU9Wx4AAAAAXRSTlMAQObYZgAAAFhJREFU\n",
       "CNdjeMAABhdAxGmGlSCqj6EMSLInMHAAJVknMPAsLy+vBYp8S0u7BaScGRjSgZQKA18DkOJl4D4A\n",
       "pLgP8IJM4mswARuX7gSmpoKNZWDcAKZ4gCoAgTQTILaSE58AAAAASUVORK5CYII=\n",
       "\" style=\"display:inline;vertical-align:middle;\" /></a></td></tr>\n",
       "<tr><td>2</td><td>Lambda</td><td>parameter:&nbsp;11<br>body:&nbsp;3<br>conditions:&nbsp;4<br></td><td><a class=\"ProveItLink\" href=\"../dac0c2f3ffae5e8cf2d55d48f218da8f12e453ac0/expr.ipynb\"><img src=\"data:image/png;base64,iVBORw0KGgoAAAANSUhEUgAAAM0AAAAVCAMAAADSD5oZAAAANlBMVEX///8UFBQNDQ2qqqru7u4i\n",
       "IiJ2dnbc3NyIiIjMzMxmZmYQEBC6uroyMjJERERUVFSYmJgAAAC3B9V0AAAAAXRSTlMAQObYZgAA\n",
       "AftJREFUWMPVV9lywyAMdIs5ba7//9lmiomRBLZIppmpXpSwQcuCkMiy/AMT+m/j72Yeube0Q19N\n",
       "7VNRYs7xYcEzp9l4iTjZWJhgdrYMV89R01n8Vjhd5snxKwOxjsKaTITMvoaZORu8eJvN4SNHjDEc\n",
       "pKfG4zHEnNSx4Yqvhize5HLPUlYcNdvKQTpqbJBoKmJetzJcPUcNWXw4JsvxOtuL7llIR03c8bFi\n",
       "5iAW4BlqyOLLGWkfTjFwxaIN7oYHCBCqZn0ElXAIMysHPUMNDvHIOGOMk6n5DWKNzaH5NKwB6VKN\n",
       "esBOwJxHzMJDf6+GhDgyb5VxqGaNZwfbSvCmDiuIjNTI3z3s5PzJvG/QEzWElYSomWfyubffXxLY\n",
       "dhZvUsaf7Sdfqkm/dybaTs4/mW2G/uJsDlYSopa2tqRJcoGXd9WUegY6L2GeV4ND2KoqZjFS45qn\n",
       "0iZGagCC1Yjju9dNzmPm20zDrCRELdg6+9G9sW1hDWmkJlxVgapCONIqTubkob9VQ0IcmWe39sEC\n",
       "+wJoQ4pcb9tDkBob6EZR5pkKbTshXCivNj8uvLhHShZi1eDi1Q7aY65PR/D+HVfo+cV33i96Hln2\n",
       "7kfcX1942bxrSc0jPFMG+k+o4f0jeMFWD/1n1Og4j3CsPjii/qSaRZt5hPG/yUL/HOeq+QFKCBqe\n",
       "6sXBMwAAAABJRU5ErkJggg==\n",
       "\" style=\"display:inline;vertical-align:middle;\" /></a></td></tr>\n",
       "<tr><td>3</td><td>Operation</td><td>operator:&nbsp;9<br>operand:&nbsp;5<br></td><td><a class=\"ProveItLink\" href=\"../6035af408a0ed9d44bea38503df0419531e5047b0/expr.ipynb\"><img src=\"data:image/png;base64,iVBORw0KGgoAAAANSUhEUgAAAFYAAAAVBAMAAAAutAQGAAAAMFBMVEX////c3NxERESqqqqYmJgQ\n",
       "EBDu7u4yMjKIiIi6urpUVFTMzMx2dnYiIiJmZmYAAABjE816AAAAAXRSTlMAQObYZgAAATxJREFU\n",
       "KM9jYCALcDbgk2WZgMzbxcB3FwwUUFV5/V+1Sn0Cw2tksTIQwf0AxmVMgLGCGBj4fjKwIynlaEBV\n",
       "yw5jcf8A4l8MLAcQalkTUNVuugYz5CPQtX8Y2AIQaqczoKpd2QFlMAEV8YYxMCgj1L5BVctWwAtl\n",
       "8S9gYCwCWnoOobYEVS2PA58BhLV/RcdbByBtzvAWFEp3gMxIVLW8DIwFEFa/AAPbLSA9FRa0DAw/\n",
       "UdV6MDCshrBUQeqBBu/HqfYaRBQIfgGx/wEUtcEoapmBNLsAWOQLkFhvgOIGFRS1IHXMD2DBy/gd\n",
       "yHCHRg0DLEhgajeBiAuw4N1axoASZnMhaqExuRJEgGKDT//XquXg8KxEimMB5IQEToGcyCLIcYyc\n",
       "NrABngb0NIkbpCNzpPCrXYjMYcSbhzg2MAAAQj9WxJ645p4AAAAASUVORK5CYII=\n",
       "\" style=\"display:inline;vertical-align:middle;\" /></a></td></tr>\n",
       "<tr><td>4</td><td>ExprTuple</td><td>6</td><td><a class=\"ProveItLink\" href=\"../8843824c5e7a089bd60f2c14050c86b6b86a038f0/expr.ipynb\"><img src=\"data:image/png;base64,iVBORw0KGgoAAAANSUhEUgAAACsAAAAVBAMAAAAtAwouAAAAMFBMVEX////c3NwiIiJERESqqqqY\n",
       "mJh2dnZmZmYQEBDu7u4yMjJUVFTMzMyIiIi6uroAAAAs73DqAAAAAXRSTlMAQObYZgAAAO5JREFU\n",
       "GNNjYMAB+C6gi8SBiNMIfvT/3butHjCwHwCyVyKpa2ZgYP/HwLCAgYEXyQyev0D8m4EhjIGBYwJC\n",
       "mPcjAwPrNwaGGQwMr5DMYG5gYGDqBNIODGVIwvwbGBgXA3WzFTAsRRI+v/duUQCQZlnA0Ae0XAkE\n",
       "EhgY7gswcGqDvNLA8A/mig0MDBZA+j5QOc8HFGGg2xjiE8DCLQhhnq9Aer8D2BBThDDI2Yy/gGzW\n",
       "BQzpMGccADv7BCgsgA58BHceu/3v3bvA7uV6wMAhgBnWQM+zJmAK56IFLARwAgOWQRpDmBtkLiNG\n",
       "pN1hYAAA72Q6LUaD+kYAAAAASUVORK5CYII=\n",
       "\" style=\"display:inline;vertical-align:middle;\" /></a></td></tr>\n",
       "<tr><td>5</td><td>Operation</td><td>operator:&nbsp;7<br>operands:&nbsp;8<br></td><td><a class=\"ProveItLink\" href=\"../984b1529ce3a751e43f7954c63b259844cac9dd10/expr.ipynb\"><img src=\"data:image/png;base64,iVBORw0KGgoAAAANSUhEUgAAADYAAAAPBAMAAABdHiGLAAAAMFBMVEX///8QEBCqqqqYmJiIiIi6\n",
       "urpUVFQyMjLu7u7c3Nx2dnbMzMxEREQiIiJmZmYAAABKII+GAAAAAXRSTlMAQObYZgAAAMBJREFU\n",
       "GNNjeHsXBO4woACz/2lpxwNArH0wIc4GGEuGgYHvK4oc+wMog/sLEH9DkdtzA8pg+cnAwPwLRS7V\n",
       "BcrgEWBg4JVAluMo4IWy+BMYOGsakOW4DPgUIKz9KS5vDRiQ5XgZOAsgLP8JDBzXUORMGBiyIayD\n",
       "IHkDZDmgK7dBWCDn2y9AkmMC+o59Ath7n4FEvgKSHEic6QHMe5zfke3bAyIuwLy3sQIsuAvqcxAB\n",
       "8j3f+W9p6cUogQ8Od1YkAQBG7DWkEdsDFQAAAABJRU5ErkJggg==\n",
       "\" style=\"display:inline;vertical-align:middle;\" /></a></td></tr>\n",
       "<tr><td>6</td><td>Operation</td><td>operator:&nbsp;9<br>operand:&nbsp;11<br></td><td><a class=\"ProveItLink\" href=\"../1da4e2fe7c44632f084fa27ea32e26dc689384c20/expr.ipynb\"><img src=\"data:image/png;base64,iVBORw0KGgoAAAANSUhEUgAAAB0AAAAOBAMAAAAh/woJAAAAMFBMVEX///+qqqru7u7c3NyIiIgQ\n",
       "EBC6uroyMjJERESYmJhUVFTMzMx2dnYiIiJmZmYAAADtoHoAAAAAAXRSTlMAQObYZgAAAHpJREFU\n",
       "CNdjYIACzvW/Vq0oY0AA1gYGhvcJCP5+ByBegOD7GzAwzD+A4LcC8VUFBP8XA4N5E4LL/cvF7yaQ\n",
       "fnsXCO4wMLB8ZmDQhRm3i4GBIwAo9hPB5wfKcf5B8PdPYGDg+ojgg6y3L4AZDraeOxxh/Yv/q1aV\n",
       "A7UAAFRxJOZ+1MVPAAAAAElFTkSuQmCC\n",
       "\" style=\"display:inline;vertical-align:middle;\" /></a></td></tr>\n",
       "<tr><td>7</td><td>Literal</td><td></td><td><a class=\"ProveItLink\" href=\"../76b5f4f4c45c0b6a9b59b297fc07dfa9555698f50/expr.ipynb\"><img src=\"data:image/png;base64,iVBORw0KGgoAAAANSUhEUgAAAAwAAAAOBAMAAADpk+DfAAAALVBMVEX///+qqqqYmJh2dnaIiIi6\n",
       "urpUVFQiIiJERETMzMxmZmYyMjLu7u7c3NwAAABvwqPxAAAAAXRSTlMAQObYZgAAAEtJREFUCNdj\n",
       "YGDgPcAAAtwLwNSMGjCV6gIieTawgyhmBS4BIMXOwLsBSKkwMGQCKaC6aQwMjEBd3BdACMScAVJd\n",
       "wJAKolwYAkAUKwAk0guX6efcigAAAABJRU5ErkJggg==\n",
       "\" style=\"display:inline;vertical-align:middle;\" /></a></td></tr>\n",
       "<tr><td>8</td><td>ExprTuple</td><td>10, 11</td><td><a class=\"ProveItLink\" href=\"../37daccb7f4d8f0c74c4d62e98fa64e0314d893720/expr.ipynb\"><img src=\"data:image/png;base64,iVBORw0KGgoAAAANSUhEUgAAADYAAAAVBAMAAAD/UwB2AAAAMFBMVEX////c3NwiIiJERESqqqqY\n",
       "mJh2dnZmZmYQEBDu7u4yMjJUVFTMzMyIiIi6uroAAAAs73DqAAAAAXRSTlMAQObYZgAAAPZJREFU\n",
       "KM9jYMAH+C5gFWZ9ACROM7ArgYEBVHD/792b1zEw1ADZK0ECPAUIHRxARfUPGLgYGHgvoMudB4qc\n",
       "38DAmsDAMQFd7r4AA0N8AgNnA8MrBnQ5CyDWAOowYSjDkPvNwCBlCaTTGZaiy/H8vntdFcTwYuhD\n",
       "l+P9yMAwaQOQ8YLhH7occwNQ/ivIvZhy/EA9rN/Aci3ocucDGBi4v4DNNEWSmwDznvwCICMK6FK4\n",
       "HOcnqPd4uiaA/fAIIpcAkusHain+v3v3qgCQ2DoGDgGk6EJig8KMNQEpzpAjkO0CNI6wyM0CYmkE\n",
       "FyUFbARiRuxpgvcAAwBqNEBOwzjo9wAAAABJRU5ErkJggg==\n",
       "\" style=\"display:inline;vertical-align:middle;\" /></a></td></tr>\n",
       "<tr><td>9</td><td>Literal</td><td></td><td><a class=\"ProveItLink\" href=\"../../../negation/__pv_it/7bea79645543c2413aa17e787cca04e21046fde60/expr.ipynb\"><img src=\"data:image/png;base64,iVBORw0KGgoAAAANSUhEUgAAAAwAAAAGBAMAAAAFwGKyAAAAFVBMVEX///9UVFTMzMx2dnYiIiJm\n",
       "ZmYAAACWz4ZEAAAAAXRSTlMAQObYZgAAABRJREFUCNdjCHEBAmcGMFDEQzEBAEl+Ai6uYJv/AAAA\n",
       "AElFTkSuQmCC\n",
       "\" style=\"display:inline;vertical-align:middle;\" /></a></td></tr>\n",
       "<tr><td>10</td><td>Literal</td><td></td><td><a class=\"ProveItLink\" href=\"../../../__pv_it/68a87cc3370287d726c7086ace789e680e4461c30/expr.ipynb\"><img src=\"data:image/png;base64,iVBORw0KGgoAAAANSUhEUgAAAA4AAAAOBAMAAADtZjDiAAAAFVBMVEX///92dnbMzMxEREQiIiJm\n",
       "ZmYAAABAT6GXAAAAAXRSTlMAQObYZgAAABhJREFUCNdjCHEBAWcGIFBlgABa0YpADAAxegPJJk4d\n",
       "XAAAAABJRU5ErkJggg==\n",
       "\" style=\"display:inline;vertical-align:middle;\" /></a></td></tr>\n",
       "<tr><td>11</td><td>Variable</td><td></td><td><a class=\"ProveItLink\" href=\"../../../../../__pv_it/077b2ff79244fb4582cbe22c6e3356fa92a52f2f0/expr.ipynb\"><img src=\"data:image/png;base64,iVBORw0KGgoAAAANSUhEUgAAABAAAAAOBAMAAADUAYG5AAAAMFBMVEX///+qqqru7u4iIiJ2dnbc\n",
       "3NyIiIjMzMxmZmYQEBC6uroyMjJERERUVFSYmJgAAADLUcuvAAAAAXRSTlMAQObYZgAAAGpJREFU\n",
       "CNdjYGB4+//u3dMLGIBgDgMDxy8gzf4NiP8CGWxfGRj4vgAZPBMYGJgnARn8FxhY9ygAGfXX0pof\n",
       "gDTlBzAw2YIYJ0EckBBI53sHoBH/gIz7AhBjWH9DjancBLTl/N+7t/cxMAAA3u4f/5xagjYAAAAA\n",
       "SUVORK5CYII=\n",
       "\" style=\"display:inline;vertical-align:middle;\" /></a></td></tr>\n",
       "</table>\n"
      ],
      "text/plain": [
       "0. forall_{B | [not](B)} [not](TRUE and B)\n",
       "   core type: Operation\n",
       "   operator: 1\n",
       "   operand: 2\n",
       "1. forall\n",
       "   core type: Literal\n",
       "   sub-expressions: \n",
       "2. B -> [not](TRUE and B) | [not](B)\n",
       "   core type: Lambda\n",
       "   parameter: 11\n",
       "   body: 3\n",
       "   conditions: 4\\n3. [not](TRUE and B)\n",
       "   core type: Operation\n",
       "   operator: 9\n",
       "   operand: 5\n",
       "4. ([not](B))\n",
       "   core type: ExprTuple\n",
       "   sub-expressions: 6\n",
       "5. TRUE and B\n",
       "   core type: Operation\n",
       "   operator: 7\n",
       "   operands: 8\n",
       "6. [not](B)\n",
       "   core type: Operation\n",
       "   operator: 9\n",
       "   operand: 11\n",
       "7. and\n",
       "   core type: Literal\n",
       "   sub-expressions: \n",
       "8. (TRUE , B)\n",
       "   core type: ExprTuple\n",
       "   sub-expressions: 10, 11\n",
       "9. not\n",
       "   core type: Literal\n",
       "   sub-expressions: \n",
       "10. TRUE\n",
       "    core type: Literal\n",
       "    sub-expressions: \n",
       "11. B\n",
       "    core type: Variable\n",
       "    sub-expressions: "
      ]
     },
     "execution_count": 4,
     "metadata": {},
     "output_type": "execute_result"
    }
   ],
   "source": [
    "# display the expression information\n",
    "expr.exprInfo()"
   ]
  },
  {
   "cell_type": "code",
   "execution_count": null,
   "metadata": {},
   "outputs": [],
   "source": []
  }
 ],
 "metadata": {
  "kernelspec": {
   "display_name": "Python 3",
   "language": "python",
   "name": "python3"
  }
 },
 "nbformat": 4,
 "nbformat_minor": 0
}
