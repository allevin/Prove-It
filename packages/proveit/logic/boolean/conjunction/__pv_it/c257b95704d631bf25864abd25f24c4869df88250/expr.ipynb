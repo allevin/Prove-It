{
 "cells": [
  {
   "cell_type": "markdown",
   "metadata": {},
   "source": [
    "Expression of type <a class=\"ProveItLink\" href=\"../../../../../../../doc/html/api/proveit.logic.Equals.html\">Equals</a>\n",
    "=======================\n",
    "# from context <a class=\"ProveItLink\" href=\"../../_context_.ipynb\">proveit.logic.boolean.conjunction</a>"
   ]
  },
  {
   "cell_type": "code",
   "execution_count": 1,
   "metadata": {},
   "outputs": [],
   "source": [
    "# import Expression classes needed to build the expression\n",
    "from proveit.logic import And, Equals, TRUE"
   ]
  },
  {
   "cell_type": "code",
   "execution_count": 2,
   "metadata": {},
   "outputs": [
    {
     "data": {
      "text/html": [
       "<strong id=\"expr\">expr:</strong> <a class=\"ProveItLink\" href=\"expr.ipynb\"><img src=\"data:image/png;base64,iVBORw0KGgoAAAANSUhEUgAAAJgAAAAVBAMAAABIwjoUAAAAMFBMVEX////c3NwiIiJERESqqqqY\n",
       "mJh2dnZmZmYQEBDu7u4yMjJUVFTMzMyIiIi6uroAAAAs73DqAAAAAXRSTlMAQObYZgAAAV5JREFU\n",
       "OMtjYKAq4LtAqo443FKnGRiKlEBAGVmUHSykZIAsBlPGfgDdDLgBK8Hc4zBxxgkwFk8BjCUJ1wVR\n",
       "tgCLm8AyvBdQDeMqwDRsOZphYbgM45iAathhTQzDeIwmoBo2A5dhrxhQDdt3F8Mw7rcXUA1jdsBh\n",
       "WBmqYZwLmDAMm8WggGoYWwEOw5aiGsYWwO6AblgqQwmqYSzgGKhaBQKrkWX6UA1jYmBcgG6YAoMU\n",
       "qmF8DThc9g/VsFgGhj1ohrFeYOA+gGIYzwfiDNMEp2IUw5gmMPBsIM6wFhTDWIAGcAmgGuYOxAux\n",
       "eBM134BlTFEMAxnEUoBq2EKogQhlrAtwuCwdxbDDkABHNozHABwvRCWNRxD2MWiSBRHQZMuTAEmy\n",
       "DxCZDqqM6wGmYWAZDgFkIbAqPtQiCiEBAzNwlUCsCaQXgbk4ZVaSbBbnApxS0iQbxi2AU4qR5GL7\n",
       "Di4JAP0CYCBWjPS1AAAAAElFTkSuQmCC\n",
       "\" style=\"display:inline;vertical-align:middle;\" /></a><br>"
      ],
      "text/plain": [
       "expr: (TRUE and TRUE and TRUE) = TRUE"
      ]
     },
     "execution_count": 2,
     "metadata": {},
     "output_type": "execute_result"
    }
   ],
   "source": [
    "# build up the expression from sub-expressions\n",
    "expr = Equals(And(TRUE, TRUE, TRUE), TRUE)"
   ]
  },
  {
   "cell_type": "code",
   "execution_count": 3,
   "metadata": {},
   "outputs": [
    {
     "name": "stdout",
     "output_type": "stream",
     "text": [
      "Passed sanity check: built 'expr' is the same as the stored Expression.\n"
     ]
    }
   ],
   "source": [
    "# check that the built expression is the same as the stored expression\n",
    "%check_expr"
   ]
  },
  {
   "cell_type": "code",
   "execution_count": 4,
   "metadata": {},
   "outputs": [
    {
     "data": {
      "text/html": [
       "<table><tr><th>&nbsp;</th><th>core type</th><th>sub-expressions</th><th>expression</th></tr>\n",
       "<tr><td>0</td><td>Operation</td><td>operator:&nbsp;1<br>operands:&nbsp;2<br></td><td><a class=\"ProveItLink\" href=\"expr.ipynb\"><img src=\"data:image/png;base64,iVBORw0KGgoAAAANSUhEUgAAAJgAAAAVBAMAAABIwjoUAAAAMFBMVEX////c3NwiIiJERESqqqqY\n",
       "mJh2dnZmZmYQEBDu7u4yMjJUVFTMzMyIiIi6uroAAAAs73DqAAAAAXRSTlMAQObYZgAAAV5JREFU\n",
       "OMtjYKAq4LtAqo443FKnGRiKlEBAGVmUHSykZIAsBlPGfgDdDLgBK8Hc4zBxxgkwFk8BjCUJ1wVR\n",
       "tgCLm8AyvBdQDeMqwDRsOZphYbgM45iAathhTQzDeIwmoBo2A5dhrxhQDdt3F8Mw7rcXUA1jdsBh\n",
       "WBmqYZwLmDAMm8WggGoYWwEOw5aiGsYWwO6AblgqQwmqYSzgGKhaBQKrkWX6UA1jYmBcgG6YAoMU\n",
       "qmF8DThc9g/VsFgGhj1ohrFeYOA+gGIYzwfiDNMEp2IUw5gmMPBsIM6wFhTDWIAGcAmgGuYOxAux\n",
       "eBM134BlTFEMAxnEUoBq2EKogQhlrAtwuCwdxbDDkABHNozHABwvRCWNRxD2MWiSBRHQZMuTAEmy\n",
       "DxCZDqqM6wGmYWAZDgFkIbAqPtQiCiEBAzNwlUCsCaQXgbk4ZVaSbBbnApxS0iQbxi2AU4qR5GL7\n",
       "Di4JAP0CYCBWjPS1AAAAAElFTkSuQmCC\n",
       "\" style=\"display:inline;vertical-align:middle;\" /></a></td></tr>\n",
       "<tr><td>1</td><td>Literal</td><td></td><td><a class=\"ProveItLink\" href=\"../../../../equality/__pv_it/2fb26078095930560931daa0500ce419a39ea6cd0/expr.ipynb\"><img src=\"data:image/png;base64,iVBORw0KGgoAAAANSUhEUgAAAA4AAAAFBAMAAACHocAhAAAAFVBMVEX///9EREQiIiJUVFQyMjJm\n",
       "ZmYAAADubVkoAAAAAXRSTlMAQObYZgAAABRJREFUCNdjCHEBAWcGXCBICQQUAUpuAwlgGKrkAAAA\n",
       "AElFTkSuQmCC\n",
       "\" style=\"display:inline;vertical-align:middle;\" /></a></td></tr>\n",
       "<tr><td>2</td><td>ExprTuple</td><td>3, 6</td><td><a class=\"ProveItLink\" href=\"../490badca7cb1473f2a398c4c67d87e381c80781b0/expr.ipynb\"><img src=\"data:image/png;base64,iVBORw0KGgoAAAANSUhEUgAAAIQAAAAVBAMAAAB1UFtyAAAAMFBMVEX////c3NwiIiJERESqqqqY\n",
       "mJh2dnZmZmYQEBDu7u4yMjJUVFTMzMyIiIi6uroAAAAs73DqAAAAAXRSTlMAQObYZgAAAU1JREFU\n",
       "OMtjYKAC4LtAiW7WB0DiNAO7EhgYIEsVgYWUkYVQlME5NUDOSpAITwFMIeMEGOs4XLMkjIFQBudw\n",
       "MTDwXkCV4yrANGI5HiNYExg4JqDKHdbEMILHaAJuIzgbGF6hye27i2EE99sLuI1gMGEoQ5XjXMCE\n",
       "YcQsBgU8RqQzLEWVYwtgd0A3IpWhBI8RXgx9qHJMDIwL0I1QYJDCY8QLhn+ocrEMDHvQjGC9wMB9\n",
       "ALcR59GN0ASlNVQjmCYw8GzAZ0QLihwLkOYSQDXCHYgX4vOIKYocSDtLAaoRC6HGwJVNQDEiChgn\n",
       "yEYchgQfshE8BuBQRijj/IQWqY8g3ARowgIR0MR1DJqwQHkRkg0gyjj7BZD1rGPgEEDOjQ/A2R+1\n",
       "MEBIwESQtQATOGsC6WUEMoftAjSzk2/ELCCWJtkIlGJuI6iMoajg4z3AAAA/TVUlWNsDtAAAAABJ\n",
       "RU5ErkJggg==\n",
       "\" style=\"display:inline;vertical-align:middle;\" /></a></td></tr>\n",
       "<tr><td>3</td><td>Operation</td><td>operator:&nbsp;4<br>operands:&nbsp;5<br></td><td><a class=\"ProveItLink\" href=\"../f1de26f44a1a1a512cf82684d704d41d64ff61780/expr.ipynb\"><img src=\"data:image/png;base64,iVBORw0KGgoAAAANSUhEUgAAAF0AAAAPBAMAAAB0Gd4MAAAALVBMVEX///+qqqqYmJiIiIi6urpU\n",
       "VFQyMjLu7u7c3Nx2dnbMzMxEREQiIiJmZmYAAAD5AsnGAAAAAXRSTlMAQObYZgAAAMNJREFUKM9j\n",
       "uHMGBE4zIAMsYrxgoTMbQOy1cNF2OAsuxlEAY3FdQJdjyMVUz3YBt3quPQUY6lcfx62e1dkAQ32I\n",
       "MW71ZQwH0NWzJ/DgVj+J4SK6ek4FXgGc6g8wtKGr52HgSMClnsmAgXUBmpgyA0MULvU8BQxcAWhi\n",
       "wNBZiku9LBBnoIoxAtWwNeBQnwHVgyQGUst4Abt6rg1g/6GIrYYEA6r6ldDYcgASzAYoYiEgAhpj\n",
       "XBNQEiUDC5h0QBFzQEhAAAAGikMjTtyIMQAAAABJRU5ErkJggg==\n",
       "\" style=\"display:inline;vertical-align:middle;\" /></a></td></tr>\n",
       "<tr><td>4</td><td>Literal</td><td></td><td><a class=\"ProveItLink\" href=\"../76b5f4f4c45c0b6a9b59b297fc07dfa9555698f50/expr.ipynb\"><img src=\"data:image/png;base64,iVBORw0KGgoAAAANSUhEUgAAAAwAAAAOBAMAAADpk+DfAAAALVBMVEX///+qqqqYmJh2dnaIiIi6\n",
       "urpUVFQiIiJERETMzMxmZmYyMjLu7u7c3NwAAABvwqPxAAAAAXRSTlMAQObYZgAAAEtJREFUCNdj\n",
       "YGDgPcAAAtwLwNSMGjCV6gIieTawgyhmBS4BIMXOwLsBSKkwMGQCKaC6aQwMjEBd3BdACMScAVJd\n",
       "wJAKolwYAkAUKwAk0guX6efcigAAAABJRU5ErkJggg==\n",
       "\" style=\"display:inline;vertical-align:middle;\" /></a></td></tr>\n",
       "<tr><td>5</td><td>ExprTuple</td><td>6, 6, 6</td><td><a class=\"ProveItLink\" href=\"../8c132c92e990f1d51475c57f933e6c8c1cb34ef80/expr.ipynb\"><img src=\"data:image/png;base64,iVBORw0KGgoAAAANSUhEUgAAAE8AAAAVBAMAAAD1D64kAAAAMFBMVEX////c3NwiIiJERESqqqqY\n",
       "mJh2dnZmZmYQEBDu7u4yMjJUVFTMzMyIiIi6uroAAAAs73DqAAAAAXRSTlMAQObYZgAAAMBJREFU\n",
       "KM9jYCAa8F0grCYORJxmYFcCAwOwGAqnCMxWZmA/AOSsBInwFCDpR+EcB5MLGBh4LxCjMIyBgWMC\n",
       "MQpnMDC8YiBGIbMDQxlRCtkKGJYSpZBlAUMfUQr5Ghj+EaWQ5wPxCluItdoUSW4CAyYHopB1AUM6\n",
       "Qo7zEwMmBx48jyByCSC5fgFMzjEwyfWAgUMAKcUJMODgAKOQNQHBZUVOgyicXFgyI6CQE5jMGKQR\n",
       "fJS0jszhBjmDkYiscIeBAQDz1Thm4nEeMwAAAABJRU5ErkJggg==\n",
       "\" style=\"display:inline;vertical-align:middle;\" /></a></td></tr>\n",
       "<tr><td>6</td><td>Literal</td><td></td><td><a class=\"ProveItLink\" href=\"../../../__pv_it/68a87cc3370287d726c7086ace789e680e4461c30/expr.ipynb\"><img src=\"data:image/png;base64,iVBORw0KGgoAAAANSUhEUgAAAA4AAAAOBAMAAADtZjDiAAAAFVBMVEX///92dnbMzMxEREQiIiJm\n",
       "ZmYAAABAT6GXAAAAAXRSTlMAQObYZgAAABhJREFUCNdjCHEBAWcGIFBlgABa0YpADAAxegPJJk4d\n",
       "XAAAAABJRU5ErkJggg==\n",
       "\" style=\"display:inline;vertical-align:middle;\" /></a></td></tr>\n",
       "</table>\n"
      ],
      "text/plain": [
       "0. (TRUE and TRUE and TRUE) = TRUE\n",
       "   core type: Operation\n",
       "   operator: 1\n",
       "   operands: 2\n",
       "1. =\n",
       "   core type: Literal\n",
       "   sub-expressions: \n",
       "2. (TRUE and TRUE and TRUE , TRUE)\n",
       "   core type: ExprTuple\n",
       "   sub-expressions: 3, 6\n",
       "3. TRUE and TRUE and TRUE\n",
       "   core type: Operation\n",
       "   operator: 4\n",
       "   operands: 5\n",
       "4. and\n",
       "   core type: Literal\n",
       "   sub-expressions: \n",
       "5. (TRUE , TRUE , TRUE)\n",
       "   core type: ExprTuple\n",
       "   sub-expressions: 6, 6, 6\n",
       "6. TRUE\n",
       "   core type: Literal\n",
       "   sub-expressions: "
      ]
     },
     "execution_count": 4,
     "metadata": {},
     "output_type": "execute_result"
    }
   ],
   "source": [
    "# display the expression information\n",
    "expr.exprInfo()"
   ]
  },
  {
   "cell_type": "code",
   "execution_count": null,
   "metadata": {},
   "outputs": [],
   "source": []
  }
 ],
 "metadata": {
  "kernelspec": {
   "display_name": "Python 3",
   "language": "python",
   "name": "python3"
  }
 },
 "nbformat": 4,
 "nbformat_minor": 0
}
