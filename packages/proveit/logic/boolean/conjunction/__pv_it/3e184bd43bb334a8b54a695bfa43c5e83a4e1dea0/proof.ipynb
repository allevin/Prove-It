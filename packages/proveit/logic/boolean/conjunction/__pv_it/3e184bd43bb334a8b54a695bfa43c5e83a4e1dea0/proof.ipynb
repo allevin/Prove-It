{
 "cells": [
  {
   "cell_type": "markdown",
   "metadata": {},
   "source": [
    "Show the Proof\n",
    "========"
   ]
  },
  {
   "cell_type": "code",
   "execution_count": 1,
   "metadata": {},
   "outputs": [
    {
     "data": {
      "text/html": [
       "<table><tr><th>&nbsp;</th><th>step type</th><th>requirements</th><th>statement</th></tr>\n",
       "<tr><td>0</td><td>specialization</td><td>1, 2</td><td><span style=\"font-size:20px;\"> <a class=\"ProveItLink\" href=\"proof.ipynb\" style=\"text-decoration: none\">&#x22A2;&nbsp;</a><a class=\"ProveItLink\" href=\"../9707edb4ae24e4274d2bd03b8f4f271828fbf8550/expr.ipynb\"><img src=\"data:image/png;base64,iVBORw0KGgoAAAANSUhEUgAAAHUAAAAVBAMAAACK3rzVAAAAMFBMVEX////c3NwiIiJERESqqqqY\n",
       "mJh2dnZmZmYQEBDu7u4yMjJUVFTMzMyIiIi6uroAAAAs73DqAAAAAXRSTlMAQObYZgAAATRJREFU\n",
       "OMtjYKAE8F3AJxuHV+9pBnYlMDBAk5AFEewHsGpihFi4EkTwFMBFJ8BYx8HkAqx6Iep5L6Dq5SpA\n",
       "1RuG0MCJrpdjAqrew5qoemcgNHBNQNP7igFV7767qHqZHRChugFNbxmqXs4FTKh62QoQFuei6V2K\n",
       "qpctgN0BRS8LOLCKwDGhX4Cqtw9VLxMD4wIUvXwNSMHr9QBF7z9UvbEMDHtQ9PJ8QNLLueIBHr2a\n",
       "oMSCU++pTBR7W1D0sgBpLgFMN0P8q2SJ6l9TFL0gfSwFyHpZkRKWN1o4p6PoPQwiFHDEEeMCNL2P\n",
       "IOwEaMoAEXchjtRQUlIGuuQBXAMz1DOgvNMEyjscAshpHKyQD1kEKU3yoOcI1gT82TsXn+RKvFo5\n",
       "F+CTlcarl1sAnywj3jLnDh45ADj3SD0Rls3yAAAAAElFTkSuQmCC\n",
       "\" style=\"display:inline;vertical-align:middle;\" /></a></span></td></tr>\n",
       "<tr><td>&nbsp;</td><td colspan=4 style=\"text-align:left\"><span style=\"font-size:20px;\"><a class=\"ProveItLink\" href=\"../../../../../__pv_it/2cbe72a7ad6f655694dd697106680215e8489b600/expr.ipynb\"><img src=\"data:image/png;base64,iVBORw0KGgoAAAANSUhEUgAAAA8AAAAOBAMAAAACpFvcAAAALVBMVEX///8QEBBERERUVFS6urqI\n",
       "iIhmZmaqqqrc3Nzu7u6YmJgyMjIiIiLMzMwAAADtIaYWAAAAAXRSTlMAQObYZgAAAFtJREFUCNdj\n",
       "YACBOwxQsA9Kc52bAGG05zVAGAFxDmCaZULdAjBjCsO9ADDDgaEvAUTzGhvbKYCVMDAwbgAxChgY\n",
       "eASANAeQwf0AyJgNxEwvGRia5HYwcOm9TgAA6BoR3jrzwFcAAAAASUVORK5CYII=\n",
       "\" style=\"display:inline;vertical-align:middle;\" /></a> : <a class=\"ProveItLink\" href=\"../201914ef67ed1eb3f341338ac6b87f34e2dd6fc10/expr.ipynb\"><img src=\"data:image/png;base64,iVBORw0KGgoAAAANSUhEUgAAADUAAAAPBAMAAAC2KZqIAAAAMFBMVEX///8QEBCqqqqYmJiIiIi6\n",
       "urpUVFQyMjLu7u7c3Nx2dnbMzMxEREQiIiJmZmYAAABKII+GAAAAAXRSTlMAQObYZgAAAHRJREFU\n",
       "GNNjeHsXBO4woAJOByhjH1xoBozB/QBDrg63HPfZBpxybCEOOOXaGS7glFvM8Ain3AWG6bjkmB0Y\n",
       "2DbgkONtYOBOwCGnB8SVOOQqofJY5LgPgMxFk9sF9XkAkGAB+p4PGPiyd+8eQAp7VjAZgBAAAJlk\n",
       "LJfjnjY9AAAAAElFTkSuQmCC\n",
       "\" style=\"display:inline;vertical-align:middle;\" /></a>, <a class=\"ProveItLink\" href=\"../../../../../__pv_it/077b2ff79244fb4582cbe22c6e3356fa92a52f2f0/expr.ipynb\"><img src=\"data:image/png;base64,iVBORw0KGgoAAAANSUhEUgAAABAAAAAOBAMAAADUAYG5AAAAMFBMVEX///+qqqru7u4iIiJ2dnbc\n",
       "3NyIiIjMzMxmZmYQEBC6uroyMjJERERUVFSYmJgAAADLUcuvAAAAAXRSTlMAQObYZgAAAGpJREFU\n",
       "CNdjYGB4+//u3dMLGIBgDgMDxy8gzf4NiP8CGWxfGRj4vgAZPBMYGJgnARn8FxhY9ygAGfXX0pof\n",
       "gDTlBzAw2YIYJ0EckBBI53sHoBH/gIz7AhBjWH9DjancBLTl/N+7t/cxMAAA3u4f/5xagjYAAAAA\n",
       "SUVORK5CYII=\n",
       "\" style=\"display:inline;vertical-align:middle;\" /></a> : <a class=\"ProveItLink\" href=\"../../../__pv_it/8f1f7fac882de28c72b62ab80a1700b6d8fd066b0/expr.ipynb\"><img src=\"data:image/png;base64,iVBORw0KGgoAAAANSUhEUgAAAA4AAAAOBAMAAADtZjDiAAAAG1BMVEX///9EREQQEBAiIiJmZmbM\n",
       "zMyIiIjc3NwAAACryk5kAAAAAXRSTlMAQObYZgAAABlJREFUCNdjYGBgKGOAgBBa0s7GxkbGxoYA\n",
       "FMUF2aBfHgoAAAAASUVORK5CYII=\n",
       "\" style=\"display:inline;vertical-align:middle;\" /></a></span></td></tr><tr><td>1</td><td>theorem</td><td></td><td><span style=\"font-size:20px;\"> <a class=\"ProveItLink\" href=\"../../../implication/_proofs_/falseAntecedentImplication.ipynb\" style=\"text-decoration: none\">&#x22A2;&nbsp;</a><a class=\"ProveItLink\" href=\"../c608678d3767f3452d3fc2fec12a692f15be8e080/expr.ipynb\"><img src=\"data:image/png;base64,iVBORw0KGgoAAAANSUhEUgAAAK8AAAAXBAMAAACPJQJeAAAAMFBMVEX///8QEBC6urrMzMxUVFRm\n",
       "ZmZERETc3NwyMjKqqqp2dnaIiIiYmJgiIiLu7u4AAAAU9Wx4AAAAAXRSTlMAQObYZgAAAnVJREFU\n",
       "OMu1VT9oE2EU/6WX66XNH4OD4KIZHBwUTxCcJEGDFBzSJYtQrINXBzEZxOogPRwMiGgWXe2iVgQJ\n",
       "6NYhURz8M9jBOIhiKgpultK09Q/V996X613uUpqj+OC+78v73ff7vvfe712A/2Wt0DsGapu+8pye\n",
       "OV68CUN8SE1HemEv/ubzZzPQTeAh/74Zhrjz8q2e4A5AXwRs4CL9MsZD8MZVJhKfWz3yqf2mZwl4\n",
       "DcTIqVdDEEcUy+VT5UAQdOoKHfkLmKfpweTklTCZ2KumWj3j+vY4i8E0kNxFM1112bI+hCE+qaTR\n",
       "uttwfcOOULblYFyjkIZHgWPAhDgrMt5pF4+bsrWbr+Isbsj4BVkh0z+JtTtg9sTsGB84ZHMYKVuq\n",
       "saiKkkY8LVF18XZQsu0yZjA16oGHrqq5XkbqHd+KU4K4BPXtj0B6DgMrQeIOSiYnaPl8oUtK39V5\n",
       "p5mc6LQFKmQjKXV+3BQoWYM+FyTuoA4x5Slie2DtutIKKQ1vpxVxypZW0mqWQD9MvCwHiB2UbCcP\n",
       "VPRk2pPj94pX47gKVZUKTBxlXxRjgh2YfXoeAWIHJTvHHUV7YwueFOdcGRurXBIO57ZE/gp1wWaA\n",
       "Zy2X+L5lWbaLkt3jjDK+5hJf8sj4IHcLyw0R1k2qWSwJ3xnKRrX7xuMuSrafPgO7K0iUVl1ZKL1C\n",
       "Ly3lR0SOMe6eBG/Ry8iKfH9SNkw/8TrK9ygHm8b0O+bXV/uoaxpGBcYajCb8xII6ip7uoz0fOYuv\n",
       "yzAKH6moM+3iSNVHbCo08MXZ2FK2z5HwrAc32nVhc+KoP12H+yE2Nv9reuJ3NPoh3qpFt7b9Hycq\n",
       "oineXiTpAAAAAElFTkSuQmCC\n",
       "\" style=\"display:inline;vertical-align:middle;\" /></a></span></td></tr>\n",
       "<tr><td>&nbsp;</td><td colspan=4 style-\"text-align:left\"><a class=\"ProveItLink\" href=\"../../../implication/_proofs_/falseAntecedentImplication.ipynb\">proveit.logic.boolean.implication.falseAntecedentImplication</a></td></tr><tr><td>2</td><td>theorem</td><td></td><td><span style=\"font-size:20px;\"> <a class=\"ProveItLink\" href=\"../../_proofs_/trueAndFalseNegated.ipynb\" style=\"text-decoration: none\">&#x22A2;&nbsp;</a><a class=\"ProveItLink\" href=\"../1974163b78c4e2feb8497da9c7e3ab41b1215f5f0/expr.ipynb\"><img src=\"data:image/png;base64,iVBORw0KGgoAAAANSUhEUgAAAFYAAAAVBAMAAAAutAQGAAAAMFBMVEX////c3NxERESqqqqYmJgQ\n",
       "EBDu7u4yMjKIiIi6urpUVFTMzMx2dnYiIiJmZmYAAABjE816AAAAAXRSTlMAQObYZgAAAPZJREFU\n",
       "KM9jYCAPzMAnyTIBmce9gOHtXRC4hKaMsQFEvkYWYk8AkfvgKhLghjwASyOr7WBAUcv+AFUtywEk\n",
       "tWGoajddQ1XLFoBQylmAqnZlB6paBmWEWr4DKGrZCnjR1J5D8poDiloeBz4DVLXmkGC6A2SyTkBR\n",
       "y8vAWICqdiqEtwuI+VHVejAwrEZVux+n2msQUexqWQ2Q1TID5dkFcLmBCcVvIHXMD1DUukN5II8/\n",
       "QFa7CURcwBVmnBCZPdCYgMU6HzCYYu/eVWBgqESK40DkxAH2KCeyCHIcM/jgT908DRhpEidIR0nS\n",
       "C/CqXYjCk8CnlGMDAwCLNUoXqiDatAAAAABJRU5ErkJggg==\n",
       "\" style=\"display:inline;vertical-align:middle;\" /></a></span></td></tr>\n",
       "<tr><td>&nbsp;</td><td colspan=4 style-\"text-align:left\"><a class=\"ProveItLink\" href=\"../../_proofs_/trueAndFalseNegated.ipynb\">proveit.logic.boolean.conjunction.trueAndFalseNegated</a></td></tr></table>"
      ],
      "text/plain": [
       "<proveit._core_.proof._ShowProof at 0x7f94eb483cf8>"
      ]
     },
     "execution_count": 1,
     "metadata": {},
     "output_type": "execute_result"
    }
   ],
   "source": [
    "import proveit\n",
    "%show_proof"
   ]
  },
  {
   "cell_type": "code",
   "execution_count": null,
   "metadata": {},
   "outputs": [],
   "source": []
  }
 ],
 "metadata": {
  "kernelspec": {
   "display_name": "Python 3",
   "language": "python",
   "name": "python3"
  }
 },
 "nbformat": 4,
 "nbformat_minor": 0
}
