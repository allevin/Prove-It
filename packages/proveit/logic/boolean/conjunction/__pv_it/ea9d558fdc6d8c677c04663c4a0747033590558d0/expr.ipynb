{
 "cells": [
  {
   "cell_type": "markdown",
   "metadata": {},
   "source": [
    "Expression of type <a class=\"ProveItLink\" href=\"../../../../../../../doc/html/api/proveit.logic.InSet.html\">InSet</a>\n",
    "=======================\n",
    "# from context <a class=\"ProveItLink\" href=\"../../_context_.ipynb\">proveit.logic.boolean.conjunction</a>"
   ]
  },
  {
   "cell_type": "code",
   "execution_count": 1,
   "metadata": {},
   "outputs": [],
   "source": [
    "# import Expression classes needed to build the expression\n",
    "from proveit._common_ import DD, n\n",
    "from proveit.logic import Booleans, InSet\n",
    "from proveit.number import Exp"
   ]
  },
  {
   "cell_type": "code",
   "execution_count": 2,
   "metadata": {},
   "outputs": [
    {
     "data": {
      "text/html": [
       "<strong id=\"expr\">expr:</strong> <a class=\"ProveItLink\" href=\"expr.ipynb\"><img src=\"data:image/png;base64,iVBORw0KGgoAAAANSUhEUgAAAEYAAAARBAMAAACSi8f4AAAAMFBMVEX///+YmJhmZmYiIiJ2dna6\n",
       "urqqqqqIiIjc3NwyMjLu7u7MzMxUVFQQEBBEREQAAAAAQ/KVAAAAAXRSTlMAQObYZgAAASRJREFU\n",
       "KM9jYMALGNXDfUD0+/9AcGcDVjUL4wWYQTJc83+tWlH/HVXS89/8uXYJDF2VDPwNIP7/CQwMbP8D\n",
       "UBU9COea5cLAcJwhFsTj/u8AJO8/QFfDUMrJwHCbQYkVyGP/nwAk518ASy2fbGwJU5PIs4DjA8Pt\n",
       "aCCP7/8CIGn/AWzmxAVI5vQxsD5gUBEA8vg/gx0FNqdvAcIubsNXcJv3fwI7CuyeFwj3BNv/LYDz\n",
       "5L+BHQUS4HqA7ObyPDjv/A8gwQl2FOtlY2OEm/lYHWBq7oNc0v8F7OQDyObwMcCM5fgPkphvAGJz\n",
       "GWBXw/gf6DmezxAPHURRA7eL5/8Grnb7UxDO4gAkNUJ1UDY/KNY/a8MsnrQBHqeP7yRgTzBsJ6H+\n",
       "QgIAdWpqKGnzD54AAAAASUVORK5CYII=\n",
       "\" style=\"display:inline;vertical-align:middle;\" /></a><br>"
      ],
      "text/plain": [
       "expr: D in BOOLEANS^{n}"
      ]
     },
     "execution_count": 2,
     "metadata": {},
     "output_type": "execute_result"
    }
   ],
   "source": [
    "# build up the expression from sub-expressions\n",
    "expr = InSet(DD, Exp(Booleans, n))"
   ]
  },
  {
   "cell_type": "code",
   "execution_count": 3,
   "metadata": {},
   "outputs": [
    {
     "name": "stdout",
     "output_type": "stream",
     "text": [
      "Passed sanity check: built 'expr' is the same as the stored Expression.\n"
     ]
    }
   ],
   "source": [
    "# check that the built expression is the same as the stored expression\n",
    "%check_expr"
   ]
  },
  {
   "cell_type": "code",
   "execution_count": 4,
   "metadata": {},
   "outputs": [
    {
     "data": {
      "text/html": [
       "<table><tr><th>&nbsp;</th><th>core type</th><th>sub-expressions</th><th>expression</th></tr>\n",
       "<tr><td>0</td><td>Operation</td><td>operator:&nbsp;1<br>operands:&nbsp;2<br></td><td><a class=\"ProveItLink\" href=\"expr.ipynb\"><img src=\"data:image/png;base64,iVBORw0KGgoAAAANSUhEUgAAAEYAAAARBAMAAACSi8f4AAAAMFBMVEX///+YmJhmZmYiIiJ2dna6\n",
       "urqqqqqIiIjc3NwyMjLu7u7MzMxUVFQQEBBEREQAAAAAQ/KVAAAAAXRSTlMAQObYZgAAASRJREFU\n",
       "KM9jYMALGNXDfUD0+/9AcGcDVjUL4wWYQTJc83+tWlH/HVXS89/8uXYJDF2VDPwNIP7/CQwMbP8D\n",
       "UBU9COea5cLAcJwhFsTj/u8AJO8/QFfDUMrJwHCbQYkVyGP/nwAk518ASy2fbGwJU5PIs4DjA8Pt\n",
       "aCCP7/8CIGn/AWzmxAVI5vQxsD5gUBEA8vg/gx0FNqdvAcIubsNXcJv3fwI7CuyeFwj3BNv/LYDz\n",
       "5L+BHQUS4HqA7ObyPDjv/A8gwQl2FOtlY2OEm/lYHWBq7oNc0v8F7OQDyObwMcCM5fgPkphvAGJz\n",
       "GWBXw/gf6DmezxAPHURRA7eL5/8Grnb7UxDO4gAkNUJ1UDY/KNY/a8MsnrQBHqeP7yRgTzBsJ6H+\n",
       "QgIAdWpqKGnzD54AAAAASUVORK5CYII=\n",
       "\" style=\"display:inline;vertical-align:middle;\" /></a></td></tr>\n",
       "<tr><td>1</td><td>Literal</td><td></td><td><a class=\"ProveItLink\" href=\"../../../../set_theory/membership/__pv_it/088cbc857536a28d4119ad9639a84270ccb0545d0/expr.ipynb\"><img src=\"data:image/png;base64,iVBORw0KGgoAAAANSUhEUgAAAAwAAAAMBAMAAACkW0HUAAAALVBMVEX///+qqqpmZmZUVFQQEBC6\n",
       "urpERETc3NyYmJjMzMwiIiIyMjKIiIju7u4AAACYsrA9AAAAAXRSTlMAQObYZgAAADxJREFUCNdj\n",
       "YOA9vWrVBgaG2b0MQMCeCyIZ2ArA1DUwyRCyahVIyWQI7xaEYm4AU7xLIdxqTQgtvGvVBgCkcQ7e\n",
       "geM/tQAAAABJRU5ErkJggg==\n",
       "\" style=\"display:inline;vertical-align:middle;\" /></a></td></tr>\n",
       "<tr><td>2</td><td>ExprTuple</td><td>3, 4</td><td><a class=\"ProveItLink\" href=\"../0a3d6d15c4a6c09f85d039a3d7bf81e344f606c00/expr.ipynb\"><img src=\"data:image/png;base64,iVBORw0KGgoAAAANSUhEUgAAAEMAAAAVBAMAAADvM06qAAAAMFBMVEX////c3NwiIiJERESqqqqY\n",
       "mJh2dnZmZmYQEBDu7u4yMjJUVFTMzMyIiIi6uroAAAAs73DqAAAAAXRSTlMAQObYZgAAAXdJREFU\n",
       "KM99kj1Iw1AQx/+1rTZNmxacRMSCODcIDk4GxL2TbtpJQRGc6qLQwa3F1kGok10EO8XVQezuYMBN\n",
       "/KidRCy2VfwY9HmX9PVL64O8e7n75d3/cgf0Wt6tymrjqFnAtKCVKnYge8+xviIW+HhOj2J+7u/e\n",
       "fTmxlRfzaMzA0BVCYQzwdwV2izzgESWH0StKYQk4xQO9UCBIeRAQcdozukRw6wfS2NCAOcCXJWdQ\n",
       "GLSbySYyq2ZdVaSfgBzwyE63YDBabd0yCE1HIkYhAwl2huq2oOYtgfEpWVj/Og7ZXrzbgqSWcvTD\n",
       "kognjx22i6+2IKuZ6GZGIloS32zParT5bUEO4tbiDSRQdZAMqxh9QwuB3kK2ybjEMdcc+QuhRJPc\n",
       "MUHVqXXKo/xK5M1jmYwqispI9IROBxEHmb9sK7pMf4X7XN9kR65mt3EiZUjEX4Iv3DEC991jQw3w\n",
       "xjs8sW5kTQ5DT0ShYcBwuyfYfYnKOlwW/lnXwA9cr3XV4rSBsgAAAABJRU5ErkJggg==\n",
       "\" style=\"display:inline;vertical-align:middle;\" /></a></td></tr>\n",
       "<tr><td>3</td><td>Variable</td><td></td><td><a class=\"ProveItLink\" href=\"../../../../../__pv_it/63be5db80a2eafd31374ce4ae63a4cc6d20d806d0/expr.ipynb\"><img src=\"data:image/png;base64,iVBORw0KGgoAAAANSUhEUgAAABMAAAAPBAMAAAD0aukfAAAAMFBMVEX///+YmJhmZmYiIiJ2dna6\n",
       "urqqqqqIiIjc3NwyMjLu7u7MzMxUVFQQEBBEREQAAAAAQ/KVAAAAAXRSTlMAQObYZgAAAIJJREFU\n",
       "CNdjYGB4/x8I7mxgAAKu+b9Wraj/DmIy/J/AwMD2PwDI4v7vACTvPwAS7P8TgOT8C0CC7/8CIGn/\n",
       "AUjwfwZrAInu/wTWAFIr/w2soQBInv8BJDjBGu6DVPV/ARIc/w+AzDIAEoz/BRgYeD6D5Hn+b+Bq\n",
       "tz8FMhXkrs/aQBYATVcz3LtVnZwAAAAASUVORK5CYII=\n",
       "\" style=\"display:inline;vertical-align:middle;\" /></a></td></tr>\n",
       "<tr><td>4</td><td>Operation</td><td>operator:&nbsp;5<br>operands:&nbsp;6<br></td><td><a class=\"ProveItLink\" href=\"../13e3334189f48287a8dbeccd7b9b5226018a7a970/expr.ipynb\"><img src=\"data:image/png;base64,iVBORw0KGgoAAAANSUhEUgAAABgAAAAQBAMAAAD+CqKmAAAAMFBMVEX///9mZmbMzMzc3NxUVFSY\n",
       "mJju7u6IiIi6urqqqqoiIiIQEBBEREQyMjJ2dnYAAAAQvcRZAAAAAXRSTlMAQObYZgAAAHtJREFU\n",
       "CNdjYIAAVvH2JwwwkNofwKXA8PbP/dtrJjCY1TLwGzAwHGhnu/aOgcGdoZsBxGGo4GVg2MQgyAHm\n",
       "TGVJYP7AsKkJImPDwHGAQS4AxGFaegxm6IGu9b8L4Jx2hvI5SBwejgdIHIYDuDjIygJroGygQ09t\n",
       "mQBhAwCqgi7Rx3rW7gAAAABJRU5ErkJggg==\n",
       "\" style=\"display:inline;vertical-align:middle;\" /></a></td></tr>\n",
       "<tr><td>5</td><td>Literal</td><td></td><td><a class=\"ProveItLink\" href=\"../../../../../number/exponentiation/__pv_it/deb2bf23cbccdd6e6791e1b35b5b9794ce12dbd50/expr.ipynb\"><img src=\"data:image/png;base64,iVBORw0KGgoAAAANSUhEUgAAACgAAAASBAMAAADbMYGVAAAAMFBMVEX///8QEBAiIiKYmJjc3Nzu\n",
       "7u7MzMx2dnZmZma6urpERESqqqoyMjJUVFSIiIgAAAAoDOMTAAAAAXRSTlMAQObYZgAAAOBJREFU\n",
       "GNNjYGB4+//u3Tt/GNAASGAXmhjnPyDBgSbI/g1IxKEJ8nxgYGdgQRPkX8BgDKRY6q7s62OYvmze\n",
       "2wAgb/7ZO1+AVDiDkYEQQ0HTBr4DQF59AgOIKmB4z7CNbcNZBu6vQN55kEACQwDDLQYGVobfDHwg\n",
       "fb8YGBxYHwAZciD3fWXg+gB1JjvQcJZvQIXsCgz8F6DO9GBgMOH7wPCUgaeBwd4B7EwGNjUG7s9c\n",
       "AiwPgO5jkWRgiF3/9+5dfQUG1nWl5Y+B7pv+1gE9bBhqGLCAE1jEWH9jEbT5A3IwAC4sP/1L6Qlu\n",
       "AAAAAElFTkSuQmCC\n",
       "\" style=\"display:inline;vertical-align:middle;\" /></a></td></tr>\n",
       "<tr><td>6</td><td>ExprTuple</td><td>7, 8</td><td><a class=\"ProveItLink\" href=\"../2db980d10b104dffb8dcaae6f65f54508c0ed0440/expr.ipynb\"><img src=\"data:image/png;base64,iVBORw0KGgoAAAANSUhEUgAAAC8AAAAVBAMAAAAk6KpUAAAAMFBMVEX////c3NwiIiJERESqqqqY\n",
       "mJh2dnZmZmYQEBDu7u4yMjJUVFTMzMyIiIi6uroAAAAs73DqAAAAAXRSTlMAQObYZgAAARBJREFU\n",
       "KM9jYMAJ+C5gisWBiNMMWZ/Xr1B2QJZgPwAkVjIwGLzlXJmGomUBAwPvBZAEwz0uFIkwBgaOCWAJ\n",
       "V+4JyBIzGBheMUB0CKPoYHZgKANL8KhaQkTeGsreTmBgYCtgWAqSeKT/A+rohF0XOP8wMLAsYOiD\n",
       "GHXXGeKpB8oMnP+AdAPDP4gEM18CSIITKMryk4GB5wNcgsEArAUoyr0ALNGCKsG+gIE/YALIKFOE\n",
       "USCfcCQwxE9IYGBdwJAOkQi/zMD5CciUf8CQzHIA5NxHDKBANOp2YODsF2BgeMHAIHyFgYHrAQOH\n",
       "ACICBJCDhDUBzmNFBEkuJNgxJDiBLmaQhnMRUckNMpQRS9TeYWAAACqwSw3mvE6YAAAAAElFTkSu\n",
       "QmCC\n",
       "\" style=\"display:inline;vertical-align:middle;\" /></a></td></tr>\n",
       "<tr><td>7</td><td>Literal</td><td></td><td><a class=\"ProveItLink\" href=\"../../../__pv_it/46271c8230be96415d662709611f4ed2279d702b0/expr.ipynb\"><img src=\"data:image/png;base64,iVBORw0KGgoAAAANSUhEUgAAAA0AAAAOBAMAAAAGUYvhAAAAMFBMVEX///9mZmbMzMzc3NxUVFSY\n",
       "mJju7u6IiIi6urqqqqoiIiIQEBBEREQyMjJ2dnYAAAAQvcRZAAAAAXRSTlMAQObYZgAAAElJREFU\n",
       "CNdjePvn/u01ExgYGA60s117B6YZKngh9FSWBAjfBsxnWnoMRHet/10AkS+fA6F5OB5AaIYDqDRU\n",
       "PLCGgQFoz6ktExgAgLIl8DFvGtkAAAAASUVORK5CYII=\n",
       "\" style=\"display:inline;vertical-align:middle;\" /></a></td></tr>\n",
       "<tr><td>8</td><td>Variable</td><td></td><td><a class=\"ProveItLink\" href=\"../../../../../__pv_it/39dbcd3ca0390345b51c6ef7785756419e2c14390/expr.ipynb\"><img src=\"data:image/png;base64,iVBORw0KGgoAAAANSUhEUgAAAAwAAAAJBAMAAAD0ltBnAAAAMFBMVEX///8QEBCYmJhmZmaqqqoi\n",
       "IiLMzMzu7u4yMjJ2dnZUVFTc3NxERESIiIi6uroAAABbPXqjAAAAAXRSTlMAQObYZgAAAERJREFU\n",
       "CNdj4Luz++5KBgZOrl6G+gSGd6wHGOofMBQAsX8BAwivYGBgsGBg+MTOwCDJwPSdk4H7HwPnATcG\n",
       "PgEG7rMOAGtQEUwHZIDZAAAAAElFTkSuQmCC\n",
       "\" style=\"display:inline;vertical-align:middle;\" /></a></td></tr>\n",
       "</table>\n"
      ],
      "text/plain": [
       "0. D in BOOLEANS^{n}\n",
       "   core type: Operation\n",
       "   operator: 1\n",
       "   operands: 2\n",
       "1. in\n",
       "   core type: Literal\n",
       "   sub-expressions: \n",
       "2. (D , BOOLEANS^{n})\n",
       "   core type: ExprTuple\n",
       "   sub-expressions: 3, 4\n",
       "3. D\n",
       "   core type: Variable\n",
       "   sub-expressions: \n",
       "4. BOOLEANS^{n}\n",
       "   core type: Operation\n",
       "   operator: 5\n",
       "   operands: 6\n",
       "5. Exp\n",
       "   core type: Literal\n",
       "   sub-expressions: \n",
       "6. (BOOLEANS , n)\n",
       "   core type: ExprTuple\n",
       "   sub-expressions: 7, 8\n",
       "7. BOOLEANS\n",
       "   core type: Literal\n",
       "   sub-expressions: \n",
       "8. n\n",
       "   core type: Variable\n",
       "   sub-expressions: "
      ]
     },
     "execution_count": 4,
     "metadata": {},
     "output_type": "execute_result"
    }
   ],
   "source": [
    "# display the expression information\n",
    "expr.exprInfo()"
   ]
  },
  {
   "cell_type": "code",
   "execution_count": null,
   "metadata": {},
   "outputs": [],
   "source": []
  }
 ],
 "metadata": {
  "kernelspec": {
   "display_name": "Python 3",
   "language": "python",
   "name": "python3"
  }
 },
 "nbformat": 4,
 "nbformat_minor": 0
}
