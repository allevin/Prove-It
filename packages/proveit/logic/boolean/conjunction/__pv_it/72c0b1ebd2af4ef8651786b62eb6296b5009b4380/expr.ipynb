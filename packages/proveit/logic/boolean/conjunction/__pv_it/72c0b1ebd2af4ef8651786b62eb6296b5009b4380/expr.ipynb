{
 "cells": [
  {
   "cell_type": "markdown",
   "metadata": {},
   "source": [
    "Expression of type <a class=\"ProveItLink\" href=\"../../../../../../../doc/html/api/proveit.logic.And.html\">And</a>\n",
    "=======================\n",
    "# from context <a class=\"ProveItLink\" href=\"../../_context_.ipynb\">proveit.logic.boolean.conjunction</a>"
   ]
  },
  {
   "cell_type": "code",
   "execution_count": 1,
   "metadata": {},
   "outputs": [],
   "source": [
    "# import Expression classes needed to build the expression\n",
    "from proveit._common_ import C, D, E\n",
    "from proveit.logic import And"
   ]
  },
  {
   "cell_type": "code",
   "execution_count": 2,
   "metadata": {},
   "outputs": [
    {
     "data": {
      "text/html": [
       "<strong id=\"expr\">expr:</strong> <a class=\"ProveItLink\" href=\"expr.ipynb\"><img src=\"data:image/png;base64,iVBORw0KGgoAAAANSUhEUgAAAG8AAAAVBAMAAAC6Uq30AAAAMFBMVEX////c3NwiIiJERESqqqqY\n",
       "mJh2dnZmZmYQEBDu7u4yMjJUVFTMzMyIiIi6uroAAAAs73DqAAAAAXRSTlMAQObYZgAAAf5JREFU\n",
       "OMudVD1IW1EU/hJfXvJeEn1bqQ66ugXBpQ5mc+mQyc2aRUqHooLYRdBBQZeSTSkIiVLEKUGHQp8k\n",
       "Urc6NHsVg4sgiLGtgvH3nHPvJVp4KfTBO5f7nZ97zvfd94D/ftqrLd1vAj37bFYHPmRePMd/Pvj+\n",
       "+i6iu3/FJys3vl/MA5u0sReAkwXBQzkT0QCsP0Beb18avIMQK4UkdeqsUbR9IbA7of2JKzKzOQzr\n",
       "/YZJPOfZJhCjHHeJZ50TeK/XtHRP5kcVK7pOn2llnJp3qjjlumnuUR1VPtT+tjqZ7hLa0rKNnxkS\n",
       "i0AWHqYppcF7R1hw8mEzSopPLMFWBT+hRzt+I5Kh5TMQvWxyZmei6gTuEhjNwlLsjGFKy9fwix6t\n",
       "H4HwRTMxjJCm8Yg7qNTM7D3o1KVv4fJKFHTUpUmBR4AdFTDIZpFYEW+kirhS1K3DRkISY+J6LXCv\n",
       "vhE8CoVfmsRwDomSmT2EVWCeCLuGKEOPRdb1hP47MrGUkWmI3kJTxndAv46xRSZOsqRE8pbMKwIj\n",
       "MnNBJysZWbq3zF0a7ZNKfsWDlvE7lxA5EikhTsuIb5R8zPDXL5rrMhu+AsuDN/72jDRRY/nZyO3c\n",
       "pru/9YvH8J5e/Zoo9exrWGlCtad4JPuP7/V9kGOzdZ6TD/J0tU6Me0GeUOtfx0EA/ggByYHvSX3a\n",
       "LwAAAABJRU5ErkJggg==\n",
       "\" style=\"display:inline;vertical-align:middle;\" /></a><br>"
      ],
      "text/plain": [
       "expr: (C and D) and E"
      ]
     },
     "execution_count": 2,
     "metadata": {},
     "output_type": "execute_result"
    }
   ],
   "source": [
    "# build up the expression from sub-expressions\n",
    "expr = And(And(C, D), E)"
   ]
  },
  {
   "cell_type": "code",
   "execution_count": 3,
   "metadata": {},
   "outputs": [
    {
     "name": "stdout",
     "output_type": "stream",
     "text": [
      "Passed sanity check: built 'expr' is the same as the stored Expression.\n"
     ]
    }
   ],
   "source": [
    "# check that the built expression is the same as the stored expression\n",
    "%check_expr"
   ]
  },
  {
   "cell_type": "code",
   "execution_count": 4,
   "metadata": {},
   "outputs": [
    {
     "data": {
      "text/html": [
       "<table><tr><th>&nbsp;</th><th>core type</th><th>sub-expressions</th><th>expression</th></tr>\n",
       "<tr><td>0</td><td>Operation</td><td>operator:&nbsp;4<br>operands:&nbsp;1<br></td><td><a class=\"ProveItLink\" href=\"expr.ipynb\"><img src=\"data:image/png;base64,iVBORw0KGgoAAAANSUhEUgAAAG8AAAAVBAMAAAC6Uq30AAAAMFBMVEX////c3NwiIiJERESqqqqY\n",
       "mJh2dnZmZmYQEBDu7u4yMjJUVFTMzMyIiIi6uroAAAAs73DqAAAAAXRSTlMAQObYZgAAAf5JREFU\n",
       "OMudVD1IW1EU/hJfXvJeEn1bqQ66ugXBpQ5mc+mQyc2aRUqHooLYRdBBQZeSTSkIiVLEKUGHQp8k\n",
       "Urc6NHsVg4sgiLGtgvH3nHPvJVp4KfTBO5f7nZ97zvfd94D/ftqrLd1vAj37bFYHPmRePMd/Pvj+\n",
       "+i6iu3/FJys3vl/MA5u0sReAkwXBQzkT0QCsP0Beb18avIMQK4UkdeqsUbR9IbA7of2JKzKzOQzr\n",
       "/YZJPOfZJhCjHHeJZ50TeK/XtHRP5kcVK7pOn2llnJp3qjjlumnuUR1VPtT+tjqZ7hLa0rKNnxkS\n",
       "i0AWHqYppcF7R1hw8mEzSopPLMFWBT+hRzt+I5Kh5TMQvWxyZmei6gTuEhjNwlLsjGFKy9fwix6t\n",
       "H4HwRTMxjJCm8Yg7qNTM7D3o1KVv4fJKFHTUpUmBR4AdFTDIZpFYEW+kirhS1K3DRkISY+J6LXCv\n",
       "vhE8CoVfmsRwDomSmT2EVWCeCLuGKEOPRdb1hP47MrGUkWmI3kJTxndAv46xRSZOsqRE8pbMKwIj\n",
       "MnNBJysZWbq3zF0a7ZNKfsWDlvE7lxA5EikhTsuIb5R8zPDXL5rrMhu+AsuDN/72jDRRY/nZyO3c\n",
       "pru/9YvH8J5e/Zoo9exrWGlCtad4JPuP7/V9kGOzdZ6TD/J0tU6Me0GeUOtfx0EA/ggByYHvSX3a\n",
       "LwAAAABJRU5ErkJggg==\n",
       "\" style=\"display:inline;vertical-align:middle;\" /></a></td></tr>\n",
       "<tr><td>1</td><td>ExprTuple</td><td>2, 3</td><td><a class=\"ProveItLink\" href=\"../3489bb98c0d54cc067c90c3f9950a7a2ea54db550/expr.ipynb\"><img src=\"data:image/png;base64,iVBORw0KGgoAAAANSUhEUgAAAF8AAAAVBAMAAADSoS/MAAAAMFBMVEX////c3NwiIiJERESqqqqY\n",
       "mJh2dnZmZmYQEBDu7u4yMjJUVFTMzMyIiIi6uroAAAAs73DqAAAAAXRSTlMAQObYZgAAAclJREFU\n",
       "OMuVU7tOAlEQPSAs7PLsLCy0taOx0QI+wILKTqUzFkZMjDYmWkiijaGTxrjRWFhhpDBxDRDttJBe\n",
       "jY/GxEZ8JgI+ZmbvhrXxscmevbMzc++ZOXOBfz/R2t9jRxhOGNYGZtOd351nn5a1WVVGpNK0rKIZ\n",
       "YHubXi0H3ObE5ck7GQ3A9+wYMZOsBAgjxEjfoCjtQTxGVoWEXwnmnfR7Jp7FEBCkX8Yy17IgnqNe\n",
       "h8UHwalT4CSR0WsoAHe8T4q52FuXL1RIR52ge0dZRSCDODpSmKHQBv/SpUDd9DqsE3yCk/AEf5qL\n",
       "zWILCLy0e6OlAyl7JWxGM6r3DasYp6/PxArgfWgneOEx7dUln1i5Uvu0YMAulEqL1YWMeIaBAzsm\n",
       "ybCk9jHq0BCm1tU5ISgJg+LpVUoya8D/0i7IgzVJWARCb5AmM0dCIy4yvBMEE24ZxoVSn/JpIhEH\n",
       "+yQ10iLozyumLAP33W9ijHuRQnTKlo2hx5HhmELWe5QMOKxKW2/4+P29afvoMgNLt5psWqU5WhSo\n",
       "hXqJBnH3kRlcIRh3j6h0Mfptaq/dBo2GP/PLHUi7jQk13n9N0FnUrp/jI24jxPw9/7ii58AXzwB4\n",
       "+TgO2q8AAAAASUVORK5CYII=\n",
       "\" style=\"display:inline;vertical-align:middle;\" /></a></td></tr>\n",
       "<tr><td>2</td><td>Operation</td><td>operator:&nbsp;4<br>operands:&nbsp;5<br></td><td><a class=\"ProveItLink\" href=\"../ad514a3eb405c7dce13af51a851a1a745b8995f80/expr.ipynb\"><img src=\"data:image/png;base64,iVBORw0KGgoAAAANSUhEUgAAADgAAAAPBAMAAABD1xE4AAAAMFBMVEX////MzMyqqqoiIiIyMjK6\n",
       "uroQEBB2dnbc3NyYmJhmZmZUVFRERESIiIju7u4AAAB204erAAAAAXRSTlMAQObYZgAAAQVJREFU\n",
       "GNNjYGDgu7NrJccCBmTAu//37i0HQayyCQysyyaABftgsvwODAz6CgwMT+yAnPoGsJgXTFK+gIGB\n",
       "6x8Dg9sDICcMLMR4+AFU8n4AkPeXgesTiNMFFuKOvQCVPA/EHL8Z+h1AnIdgoScMBlDJPyBzfjOs\n",
       "n4BwZCXDIggDaCIDA+d3BvsGhKQBQwvUKx9Blnxl+A/mgR3CeYGBWwDM5fkAJNgSGPJBHCawGPMD\n",
       "BsYNEG8eABLzJzDsB2niAgtpAbEHxJsgV+dA6TqwkAdUAdCbQJN4/IAWAf0ZBXYUI8gsZpg3GcGh\n",
       "Je29SgESBAEgdwIN4lvzf/fuUwIoUcEKJgOQRACAjT4d8TvEzwAAAABJRU5ErkJggg==\n",
       "\" style=\"display:inline;vertical-align:middle;\" /></a></td></tr>\n",
       "<tr><td>3</td><td>Variable</td><td></td><td><a class=\"ProveItLink\" href=\"../../../../../__pv_it/9995c55100c62d7d8a012a35bafc852acbe03cf00/expr.ipynb\"><img src=\"data:image/png;base64,iVBORw0KGgoAAAANSUhEUgAAABAAAAAOBAMAAADUAYG5AAAALVBMVEX///8iIiKYmJjc3Nzu7u7M\n",
       "zMx2dnZmZma6urpERESqqqoyMjJUVFSIiIgAAACbLqVTAAAAAXRSTlMAQObYZgAAAGVJREFUCNdj\n",
       "YGC48+7MmdOvGYAARKwEYo63QIIdiNmeAglfIOZ+wMDGwAxk8E1gUAIpZejbc/oxmJEXwLABzNjH\n",
       "wJDAEABkvGRgMGC5ADWGzQFqjDnEGAZWUQYGn3lvzpyRE2AAAIznGVQJqiN4AAAAAElFTkSuQmCC\n",
       "\" style=\"display:inline;vertical-align:middle;\" /></a></td></tr>\n",
       "<tr><td>4</td><td>Literal</td><td></td><td><a class=\"ProveItLink\" href=\"../76b5f4f4c45c0b6a9b59b297fc07dfa9555698f50/expr.ipynb\"><img src=\"data:image/png;base64,iVBORw0KGgoAAAANSUhEUgAAAAwAAAAOBAMAAADpk+DfAAAALVBMVEX///+qqqqYmJh2dnaIiIi6\n",
       "urpUVFQiIiJERETMzMxmZmYyMjLu7u7c3NwAAABvwqPxAAAAAXRSTlMAQObYZgAAAEtJREFUCNdj\n",
       "YGDgPcAAAtwLwNSMGjCV6gIieTawgyhmBS4BIMXOwLsBSKkwMGQCKaC6aQwMjEBd3BdACMScAVJd\n",
       "wJAKolwYAkAUKwAk0guX6efcigAAAABJRU5ErkJggg==\n",
       "\" style=\"display:inline;vertical-align:middle;\" /></a></td></tr>\n",
       "<tr><td>5</td><td>ExprTuple</td><td>6, 7</td><td><a class=\"ProveItLink\" href=\"../fd54ffea77e07ef6158e0f704a03bb0a9ca178230/expr.ipynb\"><img src=\"data:image/png;base64,iVBORw0KGgoAAAANSUhEUgAAADYAAAAVBAMAAAD/UwB2AAAAMFBMVEX////c3NwiIiJERESqqqqY\n",
       "mJh2dnZmZmYQEBDu7u4yMjJUVFTMzMyIiIi6uroAAAAs73DqAAAAAXRSTlMAQObYZgAAAUBJREFU\n",
       "KM9jYMAH+C5gFWZ9ACROg1hzrcsDxCGCt//v3r34AANDDZC9EojZWhkYnrdCdfxiYGD5wsDAxcDA\n",
       "CzSSc9EEoPxHiBTPNyBRP4GBNYGBAyjM1QmytwEix/sPSJy/wMDZwPAKpMoBSDAWQOSYPwAJ+Q0M\n",
       "DCYMZUDRXyAxzgMQOX4DkD6gXDrDUgYG9q/Ijj8P8lN8AgODF0MfAwPTR2S5+yD9+4G+e8EAtJn/\n",
       "A9hMqJw9iOgAGQCS4wDL+UDlPoMC5StYroWBgfsnSAzqTJ6/QIID5J4XDKZQLtsEiKm8f4CEFdDT\n",
       "DFFAlwJd5cDAV8jAMF8B6r1TYDPSGR6BzNm1vQRIzQC6d7r9792ba8Cmr2PgEEA4/yGyX4BhBgxS\n",
       "OAhAlmO7AIkjbHKzgFgazuNFifiNoPDHniZ4DzAAAExYUFmZUn67AAAAAElFTkSuQmCC\n",
       "\" style=\"display:inline;vertical-align:middle;\" /></a></td></tr>\n",
       "<tr><td>6</td><td>Variable</td><td></td><td><a class=\"ProveItLink\" href=\"../../../../../__pv_it/985a1bdf1540838275dec15f4ad6de261cca93ce0/expr.ipynb\"><img src=\"data:image/png;base64,iVBORw0KGgoAAAANSUhEUgAAAA8AAAAOBAMAAAACpFvcAAAAMFBMVEX////MzMyqqqoiIiIyMjK6\n",
       "uroQEBB2dnbc3NyYmJhmZmZUVFRERESIiIju7u4AAAB204erAAAAAXRSTlMAQObYZgAAAGZJREFU\n",
       "CNdjYGDgu7NrJccCBgaGsgkMrMsmMDA8sQNy6hsYGNweABlhDAxcn4A0QxcDQ78DiPGQgWH9BAYI\n",
       "sG+AMv6DSaCGfBDNJMDAsB+kmwuI5S8AiTog5gSaEwXWIO29SgFIAQBC+RaDQlidVgAAAABJRU5E\n",
       "rkJggg==\n",
       "\" style=\"display:inline;vertical-align:middle;\" /></a></td></tr>\n",
       "<tr><td>7</td><td>Variable</td><td></td><td><a class=\"ProveItLink\" href=\"../../../../../__pv_it/185e6d30f167ee2ee5ef3321098dc98e0d77bc590/expr.ipynb\"><img src=\"data:image/png;base64,iVBORw0KGgoAAAANSUhEUgAAABEAAAAOBAMAAAA7w+qHAAAALVBMVEX///8QEBCYmJjc3Ny6urru\n",
       "7u5mZmZ2dnaqqqrMzMxEREQyMjJUVFSIiIgAAABETr/8AAAAAXRSTlMAQObYZgAAAGpJREFUCNdj\n",
       "YGC48+7MmV0TGEDgNQMDxwsQg/M5kMgLABK8T4DEvAtAgusBkLA7ACT4FoDEDsAk9AqAxD2QCecc\n",
       "gMQ6kAGCIOIVEDM9Ahn3FkgwgnTxvgQSqwOgxs1OADLC1r05cyoTyAAAv4Qe+njAWvgAAAAASUVO\n",
       "RK5CYII=\n",
       "\" style=\"display:inline;vertical-align:middle;\" /></a></td></tr>\n",
       "</table>\n"
      ],
      "text/plain": [
       "0. (C and D) and E\n",
       "   core type: Operation\n",
       "   operator: 4\n",
       "   operands: 1\n",
       "1. (C and D , E)\n",
       "   core type: ExprTuple\n",
       "   sub-expressions: 2, 3\n",
       "2. C and D\n",
       "   core type: Operation\n",
       "   operator: 4\n",
       "   operands: 5\n",
       "3. E\n",
       "   core type: Variable\n",
       "   sub-expressions: \n",
       "4. and\n",
       "   core type: Literal\n",
       "   sub-expressions: \n",
       "5. (C , D)\n",
       "   core type: ExprTuple\n",
       "   sub-expressions: 6, 7\n",
       "6. C\n",
       "   core type: Variable\n",
       "   sub-expressions: \n",
       "7. D\n",
       "   core type: Variable\n",
       "   sub-expressions: "
      ]
     },
     "execution_count": 4,
     "metadata": {},
     "output_type": "execute_result"
    }
   ],
   "source": [
    "# display the expression information\n",
    "expr.exprInfo()"
   ]
  },
  {
   "cell_type": "code",
   "execution_count": null,
   "metadata": {},
   "outputs": [],
   "source": []
  }
 ],
 "metadata": {
  "kernelspec": {
   "display_name": "Python 3",
   "language": "python",
   "name": "python3"
  }
 },
 "nbformat": 4,
 "nbformat_minor": 0
}
