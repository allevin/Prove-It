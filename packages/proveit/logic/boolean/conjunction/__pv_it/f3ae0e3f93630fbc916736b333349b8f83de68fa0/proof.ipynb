{
 "cells": [
  {
   "cell_type": "markdown",
   "metadata": {},
   "source": [
    "Show the Proof\n",
    "========"
   ]
  },
  {
   "cell_type": "code",
   "execution_count": 1,
   "metadata": {},
   "outputs": [
    {
     "data": {
      "text/html": [
       "<table><tr><th>&nbsp;</th><th>step type</th><th>requirements</th><th>statement</th></tr>\n",
       "<tr><td>0</td><td>assumption</td><td></td><td><span style=\"font-size:20px;\"><a class=\"ProveItLink\" href=\"../e82ed32feacb83e00c4d1965e96acacda6788c6d0/expr.ipynb\"><img src=\"data:image/png;base64,iVBORw0KGgoAAAANSUhEUgAAAOEAAAAVBAMAAABCnpRGAAAAMFBMVEX///9ERETc3NyqqqpUVFS6\n",
       "urrMzMwyMjIQEBCIiIh2dnYiIiLu7u5mZmaYmJgAAABJJ2g3AAAAAXRSTlMAQObYZgAAA05JREFU\n",
       "SMe9Vk1oE0EUftlks9nNbiIothftgl48COtFT2KRxOBBmpsVFVPIobdE0JNtrUr1UkoOIuTUgBcV\n",
       "xB5EVAruQbDeooKCokZQpAr2h6ZB0db3ZmY3O2sI7cWBmZ395s37Zt/fLACkPsB/avE7Nj3Mx5vY\n",
       "cwK7Wukq8qUznMoT5RWa6oviADMhmc/rmUxPXj5kPw5Fmj3f9r6xV1rTB1Yyue0AViGk5zrqybXg\n",
       "Nc3f0GCM8wWNMTOGOEcu4famhGkuDiO0aQrg9BSTUlyhOV0GOOQAlEHGoYV9H2g0vRVk/P6bxiM0\n",
       "VPkH/cS+ImE06GhU8wKqM5b5SetCcamGJ0Ql30DGVdQDFqRqIUblIFMwRMMsNxMCqV8SNok9gWQa\n",
       "TVS+cWhWaJ7O81POgYwbq+QFMMdDjLreZCfDaIry00VwITkZxFQy2HHsHx06IxfLVoXmPsLQJhFH\n",
       "xtFdBigAW0OMp6Jr9CDNms390g/KWTeIWWSYt6i3xYKchYhZTgrNS8C9YNRlPL0FftDzrsdoMU+b\n",
       "eTIIt96Q8MvR6ruGhGn0OoZb1tqRaDQsx3c780K0LOFw5lyOOewA9gWaDLNQVEH5AyI4ssIvNpj3\n",
       "JSxBohNo6+U2YxIUHpw6uSvW9Pzr43CvwMN3UIRT8SqDi5nMktBgCsleYm0EsTQxos40SySTSc2L\n",
       "WIYIgQlkiy9KOFwEqAF6oEQvPahwsCDy8BpbtxyDmxIoMRZqQcxjTDCd+z2LFz13oXzDY/Rx8q9t\n",
       "VjhjkvTF6PhR7A95lngej5OzBpwglqA3LFQxlrp1OdJKFV40uFXbOEtHw+VWZX40qLrt4l/PasA8\n",
       "+OnIg9LHIvSlO0WQGK6cTdNoqwjVo1RZwlk6UkH8GswO5qY+V8pcSsfhESmbWdxTkC84oL4Ev2LM\n",
       "iHSMj/pSbZyqZ/xBMDuQUelt2fBpfTRYnaw+LMxjIFUslVScJIvnjr3iK1kRy+YLrNc7WEho+QAO\n",
       "T1FP5gltPB+uq/794Ha42AR2mZxpB1dEagXbXGf8nyq3oUZFmlXkbu12Z9ioeIypTTD6t1WX5qVz\n",
       "uD3z70fz0cYZFbqRd3eXidmd8cPknQn+P3Bz45R7iLb7X8eNzrBeEP85fwHGn+0TJAY5iQAAAABJ\n",
       "RU5ErkJggg==\n",
       "\" style=\"display:inline;vertical-align:middle;\" /></a> <a class=\"ProveItLink\" href=\"proof.ipynb\" style=\"text-decoration: none\">&#x22A2;&nbsp;</a><a class=\"ProveItLink\" href=\"../5e6f01e5ada698c457c7d76b7b849253c73081cc0/expr.ipynb\"><img src=\"data:image/png;base64,iVBORw0KGgoAAAANSUhEUgAAAM0AAAAVBAMAAAAX/3cYAAAAMFBMVEX///92dnYQEBBERERUVFS6\n",
       "urqIiIhmZmaqqqrc3Nzu7u6YmJgyMjIiIiLMzMwAAACFkkdwAAAAAXRSTlMAQObYZgAAAwZJREFU\n",
       "SMfNVU1oE1EQnvxtfrbdBg8W6qEiCCpCgyfxhwS6IB4kwUO9KC4o9WaiPVgQTG69CAYUFQlkKaiX\n",
       "KOnBm2BQi1SFFI96aA49qSUpRqk2ts7Me5vkhSWamwtvdt/35s17M9/MLMD/9gQsFFN9VfSUO/7M\n",
       "+Vjr3ZBsmpOLKraKw0igiFw4cT2cUdYubpvmqxrAjR47Gtoxq5VgTc6rfGH+FJA3BpBNKdhbHEM2\n",
       "ih1lCFwt88IDx2ALILSB63LaxkcquBCDirz+Cu33kznNYqSOr3qiG2MxjaP0EcV4ntXeSHPGOoqs\n",
       "DXoUFBzO064MLIjZ/SxtM9AHGLYZSSPwItqNeUkcwPGSPk4L88dtGZ/v4m6R3SoO43jPiAXzYmal\n",
       "mcAlHHMCOYTjg92NnaXIov/BDZrdYy3/lPAefA0URfT/sIoTIVHIgy/HxNi3ONxz0i4+TYDCEQW7\n",
       "giOIHhY51k9ZqwTLkgZym+I8quLwDXQy7eG0ech0cHw4Tuh4c/rSJ1Cwd5QGuCdb7qTTLpiFNp0c\n",
       "55sqHmiZVaIkxJdLQZHPQ6r9ogK0nwBPEgq2lzjCr5V855xlKIiPNKVLMuXw1sY9WyIFA8SbYZrJ\n",
       "mFwvyXgjrm0qGDE9gpa2ecY865bIR4A4iT3kmIoPNcADBh7REHXjFQk+ix6LeKMv+rqCOedM0CRU\n",
       "c2KakDSg/qZzTgdH3sLwSJ6DuTAs8rHg8FdHEvwbCraP4oaqSXIlCEqOGD9kaYu4dfKJy2dMxC2c\n",
       "Y/84H7/IfKTyEYnVxo5SOMuS8jFQ6kDbQnGMLvBcrQ8qH2pRegU4/L5fan1h+RgHbQUblempo5tn\n",
       "OBdEDTvl8zXjaHVw7mdrNd54e2IJ9Hgr090vZrAtvnfyV2LniEkK4erraznhaUq2o8dx7LqihS52\n",
       "45FJtHPqN+VDTyP/7NLUJeYlH/YrPwoQRdH1cN9xwef//ffDLXLhL0oeyx3fOcB/rv1f6POU3OFI\n",
       "ZYBz7uAIJ/rrnHSH/fkBzglTTO72VdFq7vhlgD8jSdnwf/k63gAAAABJRU5ErkJggg==\n",
       "\" style=\"display:inline;vertical-align:middle;\" /></a></span></td></tr>\n",
       "</table>"
      ],
      "text/plain": [
       "<proveit._core_.proof._ShowProof at 0x7f94e98be518>"
      ]
     },
     "execution_count": 1,
     "metadata": {},
     "output_type": "execute_result"
    }
   ],
   "source": [
    "import proveit\n",
    "%show_proof"
   ]
  },
  {
   "cell_type": "code",
   "execution_count": null,
   "metadata": {},
   "outputs": [],
   "source": []
  }
 ],
 "metadata": {
  "kernelspec": {
   "display_name": "Python 3",
   "language": "python",
   "name": "python3"
  }
 },
 "nbformat": 4,
 "nbformat_minor": 0
}
