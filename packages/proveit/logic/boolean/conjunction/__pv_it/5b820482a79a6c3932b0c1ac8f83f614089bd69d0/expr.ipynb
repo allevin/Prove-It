{
 "cells": [
  {
   "cell_type": "markdown",
   "metadata": {},
   "source": [
    "Expression of type <a class=\"ProveItLink\" href=\"../../../../../../../doc/html/api/proveit.ExprTuple.html\">ExprTuple</a>\n",
    "=======================\n",
    "# from context <a class=\"ProveItLink\" href=\"../../_context_.ipynb\">proveit.logic.boolean.conjunction</a>"
   ]
  },
  {
   "cell_type": "code",
   "execution_count": 1,
   "metadata": {},
   "outputs": [],
   "source": [
    "# import Expression classes needed to build the expression\n",
    "from proveit import ExprTuple\n",
    "from proveit._common_ import D, E\n",
    "from proveit.logic import Booleans, InSet"
   ]
  },
  {
   "cell_type": "code",
   "execution_count": 2,
   "metadata": {},
   "outputs": [
    {
     "data": {
      "text/html": [
       "<strong id=\"expr\">expr:</strong> <a class=\"ProveItLink\" href=\"expr.ipynb\"><img src=\"data:image/png;base64,iVBORw0KGgoAAAANSUhEUgAAAIYAAAAVBAMAAABxpYtPAAAAMFBMVEX////c3NwiIiJERESqqqqY\n",
       "mJh2dnZmZmYQEBDu7u4yMjJUVFTMzMyIiIi6uroAAAAs73DqAAAAAXRSTlMAQObYZgAAAi5JREFU\n",
       "OMtjYKAG4LtAkXbWB0DiNBDf/r979+IDKHJs661+NZnAeCAFu36hKMj6vH6FsgMDQw2QvRIkAJRm\n",
       "+YJqATPfhVnTEmA8kH5nVAUGbzlXpjEwcDEw8IK8wvMNSNRPQDeD98ECmIf/Agl2dDMY7gENYE1g\n",
       "4ADp5P0HJM6DA4bzlpLSAqgZLAE7YT77AyTmgplzFylpwcxw5Z7AwNnA8Aqs/gOQkN8AYp6KRHLH\n",
       "QwMoh+sDAxsDI4jFs3QCkjuEgbQJQxmIyw9Sex5kBqMlkl8OBcPUAxWEQljCExB+4VEFqU5nWMoA\n",
       "80Y8KACZBRBmKP3vhXHer971EcIyRITHI/0fIH1eDH0g7n1QvO4HxfRklDC9AvNL/gEGSPByGiCH\n",
       "6V1QVL1gAIUmgz2I6AARL5SUEGHKYPAMqn49A0MCA8giviagPDxMmfmAbj8PMeMzKMF9ZYCmOLg7\n",
       "GAyYoRygAgFOcCrYgOwOZgYDkBktIAlQ7HOAXTkJqxng5MEGCk1OBQwzXjCYgpIHKPatwAHOHYBi\n",
       "xjMGTnjyEAcLb0UxA+SXKGDMQJLHqQJImOkhmcFaa8AwXwGSPBh4dMDCkx4gmRF+GRy3jxgYptv/\n",
       "3r25BiojVQPPc581tjAwzADG6Wyggt36EF8wLj8Az3NG3cA8x7COgUMALTN7L1JagMx/iCbPsgsa\n",
       "L1AATOusCQQKiAAC8mwXoHmfAjNmAbE0fiW8hAqyjaBAoqws5D3AAADnMaSXwSc3XgAAAABJRU5E\n",
       "rkJggg==\n",
       "\" style=\"display:inline;vertical-align:middle;\" /></a><br>"
      ],
      "text/plain": [
       "expr: (D in BOOLEANS , E in BOOLEANS)"
      ]
     },
     "execution_count": 2,
     "metadata": {},
     "output_type": "execute_result"
    }
   ],
   "source": [
    "# build up the expression from sub-expressions\n",
    "expr = ExprTuple(InSet(D, Booleans), InSet(E, Booleans))"
   ]
  },
  {
   "cell_type": "code",
   "execution_count": 3,
   "metadata": {},
   "outputs": [
    {
     "name": "stdout",
     "output_type": "stream",
     "text": [
      "Passed sanity check: built 'expr' is the same as the stored Expression.\n"
     ]
    }
   ],
   "source": [
    "# check that the built expression is the same as the stored expression\n",
    "%check_expr"
   ]
  },
  {
   "cell_type": "code",
   "execution_count": 4,
   "metadata": {},
   "outputs": [
    {
     "data": {
      "text/html": [
       "<table><tr><th>&nbsp;</th><th>core type</th><th>sub-expressions</th><th>expression</th></tr>\n",
       "<tr><td>0</td><td>ExprTuple</td><td>1, 2</td><td><a class=\"ProveItLink\" href=\"expr.ipynb\"><img src=\"data:image/png;base64,iVBORw0KGgoAAAANSUhEUgAAAIYAAAAVBAMAAABxpYtPAAAAMFBMVEX////c3NwiIiJERESqqqqY\n",
       "mJh2dnZmZmYQEBDu7u4yMjJUVFTMzMyIiIi6uroAAAAs73DqAAAAAXRSTlMAQObYZgAAAi5JREFU\n",
       "OMtjYKAG4LtAkXbWB0DiNBDf/r979+IDKHJs661+NZnAeCAFu36hKMj6vH6FsgMDQw2QvRIkAJRm\n",
       "+YJqATPfhVnTEmA8kH5nVAUGbzlXpjEwcDEw8IK8wvMNSNRPQDeD98ECmIf/Agl2dDMY7gENYE1g\n",
       "4ADp5P0HJM6DA4bzlpLSAqgZLAE7YT77AyTmgplzFylpwcxw5Z7AwNnA8Aqs/gOQkN8AYp6KRHLH\n",
       "QwMoh+sDAxsDI4jFs3QCkjuEgbQJQxmIyw9Sex5kBqMlkl8OBcPUAxWEQljCExB+4VEFqU5nWMoA\n",
       "80Y8KACZBRBmKP3vhXHer971EcIyRITHI/0fIH1eDH0g7n1QvO4HxfRklDC9AvNL/gEGSPByGiCH\n",
       "6V1QVL1gAIUmgz2I6AARL5SUEGHKYPAMqn49A0MCA8giviagPDxMmfmAbj8PMeMzKMF9ZYCmOLg7\n",
       "GAyYoRygAgFOcCrYgOwOZgYDkBktIAlQ7HOAXTkJqxng5MEGCk1OBQwzXjCYgpIHKPatwAHOHYBi\n",
       "xjMGTnjyEAcLb0UxA+SXKGDMQJLHqQJImOkhmcFaa8AwXwGSPBh4dMDCkx4gmRF+GRy3jxgYptv/\n",
       "3r25BiojVQPPc581tjAwzADG6Wyggt36EF8wLj8Az3NG3cA8x7COgUMALTN7L1JagMx/iCbPsgsa\n",
       "L1AATOusCQQKiAAC8mwXoHmfAjNmAbE0fiW8hAqyjaBAoqws5D3AAADnMaSXwSc3XgAAAABJRU5E\n",
       "rkJggg==\n",
       "\" style=\"display:inline;vertical-align:middle;\" /></a></td></tr>\n",
       "<tr><td>1</td><td>Operation</td><td>operator:&nbsp;4<br>operands:&nbsp;3<br></td><td><a class=\"ProveItLink\" href=\"../0763f6d8486998fbf10d5185b725b9bae35309ac0/expr.ipynb\"><img src=\"data:image/png;base64,iVBORw0KGgoAAAANSUhEUgAAADgAAAAPBAMAAABD1xE4AAAAMFBMVEX///8iIiIQEBCYmJjc3Ny6\n",
       "urru7u5mZmZ2dnaqqqrMzMxEREQyMjJUVFSIiIgAAABUCcz6AAAAAXRSTlMAQObYZgAAAONJREFU\n",
       "GNNjYGB4+//u3dMLGJABx/k9fxR3gpl/GBg4f6JIMnCzPsjJaAAyuH4AifoEdEm+gANABt9XILH+\n",
       "AVgw76CgDFSS0+AaiPEBSPhfAIlxHU5A6AzZAGTwg4j1YEnvBISxC60TYCbag2xn2IKwU/C/Hojx\n",
       "HuSN+wFAgm0DsoNegnj7QTwlEMGqKCgIdxDDhggg4zcQM38Gu+cCkk6GDdxAkX9ADhPYQDYBdEm+\n",
       "X0DOHogzL6NIRkC8uaYAIpYYgJBkrtvAkL7/793bVVAxluMLYAH/W+gmAxrgvANxLQQAAJQZSrQa\n",
       "1FaRAAAAAElFTkSuQmCC\n",
       "\" style=\"display:inline;vertical-align:middle;\" /></a></td></tr>\n",
       "<tr><td>2</td><td>Operation</td><td>operator:&nbsp;4<br>operands:&nbsp;5<br></td><td><a class=\"ProveItLink\" href=\"../4117efb2ae1b71854be913c493e95fd43d9813320/expr.ipynb\"><img src=\"data:image/png;base64,iVBORw0KGgoAAAANSUhEUgAAADcAAAAPBAMAAACy3Eq1AAAAMFBMVEX///8QEBAiIiKYmJjc3Nzu\n",
       "7u7MzMx2dnZmZma6urpERESqqqoyMjJUVFSIiIgAAAAoDOMTAAAAAXRSTlMAQObYZgAAAOJJREFU\n",
       "GNNjYGB4+//u3Tt/GJBBza/zB7U2gJkgiV0okgwL5rEeLQcxOP8BCQ50SYaXPCAG+zcgEQcWizuk\n",
       "pAOT3MwbAGTwfGBgZ2ABCbEdDkDS6QVi8C9gMIYIeQUgjGVTXgpizD975wtEaAnCzkn6Hx+AGPUJ\n",
       "DAfAIqwLkB30DuyB8wwMBQwJIGcLKSkhHMTFWQBk/GJgcGAFmcF2AVknF8MCqDfZQU5hVcCQBHvT\n",
       "Ayx0GUUSZCzQmwxsamChoAlIkhavGBhi1/+9e1cfYiDLiQR4wC+S3YAaogzcd6CuhQAAUexJAXCK\n",
       "RB0AAAAASUVORK5CYII=\n",
       "\" style=\"display:inline;vertical-align:middle;\" /></a></td></tr>\n",
       "<tr><td>3</td><td>ExprTuple</td><td>6, 8</td><td><a class=\"ProveItLink\" href=\"../fb02af353adc6b70afd5cdd94ff64eec2da7b9f60/expr.ipynb\"><img src=\"data:image/png;base64,iVBORw0KGgoAAAANSUhEUgAAADUAAAAVBAMAAAAUZLt1AAAAMFBMVEX////c3NwiIiJERESqqqqY\n",
       "mJh2dnZmZmYQEBDu7u4yMjJUVFTMzMyIiIi6uroAAAAs73DqAAAAAXRSTlMAQObYZgAAAS1JREFU\n",
       "KM9jYMAH+C5gFY4DEaeB+Pb/3bsXHwCLsa23+tVkwsDADuKuBIn8YmBg+QLRwMx3Yda0BAaGBQwM\n",
       "vCAjeb4BifoJMDneB0CJMAYGDpAI7z8gcf4CTI4lYCcDwwwGhldg/gcgIb8Bru+hAZB2YCgD8fkN\n",
       "QPrgcoeCgYaxFTAsZYAZF58AlVP63wukWRYw9IH490EO3v8AbuYVoDl8DQwgVzDYg4gOuB8YDJ4B\n",
       "3f4BIvcZiFm/Iskxg+VaQN77CyQ4DFDlgGaagrz3B0hYAd02AclM1gUM6VDvnSpgYOD8BJFjrTUA\n",
       "++ERA8N0+9+7N9cAhTn7BUBh/VljC5DD9YCBQwA5vpA4wDBjTUCSY0Vi58LiCFOOExgVDNJIckhJ\n",
       "gBtkPCP2NHGHgQEADD5XmfG0utYAAAAASUVORK5CYII=\n",
       "\" style=\"display:inline;vertical-align:middle;\" /></a></td></tr>\n",
       "<tr><td>4</td><td>Literal</td><td></td><td><a class=\"ProveItLink\" href=\"../../../../set_theory/membership/__pv_it/088cbc857536a28d4119ad9639a84270ccb0545d0/expr.ipynb\"><img src=\"data:image/png;base64,iVBORw0KGgoAAAANSUhEUgAAAAwAAAAMBAMAAACkW0HUAAAALVBMVEX///+qqqpmZmZUVFQQEBC6\n",
       "urpERETc3NyYmJjMzMwiIiIyMjKIiIju7u4AAACYsrA9AAAAAXRSTlMAQObYZgAAADxJREFUCNdj\n",
       "YOA9vWrVBgaG2b0MQMCeCyIZ2ArA1DUwyRCyahVIyWQI7xaEYm4AU7xLIdxqTQgtvGvVBgCkcQ7e\n",
       "geM/tQAAAABJRU5ErkJggg==\n",
       "\" style=\"display:inline;vertical-align:middle;\" /></a></td></tr>\n",
       "<tr><td>5</td><td>ExprTuple</td><td>7, 8</td><td><a class=\"ProveItLink\" href=\"../dea8180e4c18012dfab67fb6c0c32a4cc6e646360/expr.ipynb\"><img src=\"data:image/png;base64,iVBORw0KGgoAAAANSUhEUgAAADQAAAAVBAMAAAD7ptBLAAAAMFBMVEX////c3NwiIiJERESqqqqY\n",
       "mJh2dnZmZmYQEBDu7u4yMjJUVFTMzMyIiIi6uroAAAAs73DqAAAAAXRSTlMAQObYZgAAASRJREFU\n",
       "KM9jYMAD+C5gE2V9ACROA/Ht/7t37/oFFsv6vH6FsgMDQw2QvRIkABJ2hqg3eMu5Mo2BgYuBgRdk\n",
       "Ht9fIMEOk2K4BxRnTWDgmADksv0BEnPhUq7cExg4GxhegbhcHxjYGBgRuoSBtAlDGYjLb8AQCnOb\n",
       "wVseVUsgnc6wFMR9v3rXR7jUI/0fIPu9GPpA3PwDDAsQuhjughz7guEfiLuegSGB4QBcipkvgYHh\n",
       "PETqMwODAOcFhBSDAUiqBeYttgmoUi8YTGHeEmdgmIBsYBTQjWBvMfDoMHB+gkqFXwY7/hEDw2z7\n",
       "37t36yswcPYLgIPXqBsYvAzrGDgEkOIHiQ0MKGAwIiIJKcLYLkAjBVNqFhBLI7jI8b0RiBmxJgDe\n",
       "AwwAhDhTKamPtOEAAAAASUVORK5CYII=\n",
       "\" style=\"display:inline;vertical-align:middle;\" /></a></td></tr>\n",
       "<tr><td>6</td><td>Variable</td><td></td><td><a class=\"ProveItLink\" href=\"../../../../../__pv_it/185e6d30f167ee2ee5ef3321098dc98e0d77bc590/expr.ipynb\"><img src=\"data:image/png;base64,iVBORw0KGgoAAAANSUhEUgAAABEAAAAOBAMAAAA7w+qHAAAALVBMVEX///8QEBCYmJjc3Ny6urru\n",
       "7u5mZmZ2dnaqqqrMzMxEREQyMjJUVFSIiIgAAABETr/8AAAAAXRSTlMAQObYZgAAAGpJREFUCNdj\n",
       "YGC48+7MmV0TGEDgNQMDxwsQg/M5kMgLABK8T4DEvAtAgusBkLA7ACT4FoDEDsAk9AqAxD2QCecc\n",
       "gMQ6kAGCIOIVEDM9Ahn3FkgwgnTxvgQSqwOgxs1OADLC1r05cyoTyAAAv4Qe+njAWvgAAAAASUVO\n",
       "RK5CYII=\n",
       "\" style=\"display:inline;vertical-align:middle;\" /></a></td></tr>\n",
       "<tr><td>7</td><td>Variable</td><td></td><td><a class=\"ProveItLink\" href=\"../../../../../__pv_it/9995c55100c62d7d8a012a35bafc852acbe03cf00/expr.ipynb\"><img src=\"data:image/png;base64,iVBORw0KGgoAAAANSUhEUgAAABAAAAAOBAMAAADUAYG5AAAALVBMVEX///8iIiKYmJjc3Nzu7u7M\n",
       "zMx2dnZmZma6urpERESqqqoyMjJUVFSIiIgAAACbLqVTAAAAAXRSTlMAQObYZgAAAGVJREFUCNdj\n",
       "YGC48+7MmdOvGYAARKwEYo63QIIdiNmeAglfIOZ+wMDGwAxk8E1gUAIpZejbc/oxmJEXwLABzNjH\n",
       "wJDAEABkvGRgMGC5ADWGzQFqjDnEGAZWUQYGn3lvzpyRE2AAAIznGVQJqiN4AAAAAElFTkSuQmCC\n",
       "\" style=\"display:inline;vertical-align:middle;\" /></a></td></tr>\n",
       "<tr><td>8</td><td>Literal</td><td></td><td><a class=\"ProveItLink\" href=\"../../../__pv_it/46271c8230be96415d662709611f4ed2279d702b0/expr.ipynb\"><img src=\"data:image/png;base64,iVBORw0KGgoAAAANSUhEUgAAAA0AAAAOBAMAAAAGUYvhAAAAMFBMVEX///9mZmbMzMzc3NxUVFSY\n",
       "mJju7u6IiIi6urqqqqoiIiIQEBBEREQyMjJ2dnYAAAAQvcRZAAAAAXRSTlMAQObYZgAAAElJREFU\n",
       "CNdjePvn/u01ExgYGA60s117B6YZKngh9FSWBAjfBsxnWnoMRHet/10AkS+fA6F5OB5AaIYDqDRU\n",
       "PLCGgQFoz6ktExgAgLIl8DFvGtkAAAAASUVORK5CYII=\n",
       "\" style=\"display:inline;vertical-align:middle;\" /></a></td></tr>\n",
       "</table>\n"
      ],
      "text/plain": [
       "0. (D in BOOLEANS , E in BOOLEANS)\n",
       "   core type: ExprTuple\n",
       "   sub-expressions: 1, 2\n",
       "1. D in BOOLEANS\n",
       "   core type: Operation\n",
       "   operator: 4\n",
       "   operands: 3\n",
       "2. E in BOOLEANS\n",
       "   core type: Operation\n",
       "   operator: 4\n",
       "   operands: 5\n",
       "3. (D , BOOLEANS)\n",
       "   core type: ExprTuple\n",
       "   sub-expressions: 6, 8\n",
       "4. in\n",
       "   core type: Literal\n",
       "   sub-expressions: \n",
       "5. (E , BOOLEANS)\n",
       "   core type: ExprTuple\n",
       "   sub-expressions: 7, 8\n",
       "6. D\n",
       "   core type: Variable\n",
       "   sub-expressions: \n",
       "7. E\n",
       "   core type: Variable\n",
       "   sub-expressions: \n",
       "8. BOOLEANS\n",
       "   core type: Literal\n",
       "   sub-expressions: "
      ]
     },
     "execution_count": 4,
     "metadata": {},
     "output_type": "execute_result"
    }
   ],
   "source": [
    "# display the expression information\n",
    "expr.exprInfo()"
   ]
  },
  {
   "cell_type": "code",
   "execution_count": null,
   "metadata": {},
   "outputs": [],
   "source": []
  }
 ],
 "metadata": {
  "kernelspec": {
   "display_name": "Python 3",
   "language": "python",
   "name": "python3"
  }
 },
 "nbformat": 4,
 "nbformat_minor": 0
}
