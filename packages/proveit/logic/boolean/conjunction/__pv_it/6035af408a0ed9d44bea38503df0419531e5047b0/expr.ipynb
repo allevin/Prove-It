{
 "cells": [
  {
   "cell_type": "markdown",
   "metadata": {},
   "source": [
    "Expression of type <a class=\"ProveItLink\" href=\"../../../../../../../doc/html/api/proveit.logic.Not.html\">Not</a>\n",
    "=======================\n",
    "# from context <a class=\"ProveItLink\" href=\"../../_context_.ipynb\">proveit.logic.boolean.conjunction</a>"
   ]
  },
  {
   "cell_type": "code",
   "execution_count": 1,
   "metadata": {},
   "outputs": [],
   "source": [
    "# import Expression classes needed to build the expression\n",
    "from proveit._common_ import B\n",
    "from proveit.logic import And, Not, TRUE"
   ]
  },
  {
   "cell_type": "code",
   "execution_count": 2,
   "metadata": {},
   "outputs": [
    {
     "data": {
      "text/html": [
       "<strong id=\"expr\">expr:</strong> <a class=\"ProveItLink\" href=\"expr.ipynb\"><img src=\"data:image/png;base64,iVBORw0KGgoAAAANSUhEUgAAAFYAAAAVBAMAAAAutAQGAAAAMFBMVEX////c3NxERESqqqqYmJgQ\n",
       "EBDu7u4yMjKIiIi6urpUVFTMzMx2dnYiIiJmZmYAAABjE816AAAAAXRSTlMAQObYZgAAATxJREFU\n",
       "KM9jYCALcDbgk2WZgMzbxcB3FwwUUFV5/V+1Sn0Cw2tksTIQwf0AxmVMgLGCGBj4fjKwIynlaEBV\n",
       "yw5jcf8A4l8MLAcQalkTUNVuugYz5CPQtX8Y2AIQaqczoKpd2QFlMAEV8YYxMCgj1L5BVctWwAtl\n",
       "8S9gYCwCWnoOobYEVS2PA58BhLV/RcdbByBtzvAWFEp3gMxIVLW8DIwFEFa/AAPbLSA9FRa0DAw/\n",
       "UdV6MDCshrBUQeqBBu/HqfYaRBQIfgGx/wEUtcEoapmBNLsAWOQLkFhvgOIGFRS1IHXMD2DBy/gd\n",
       "yHCHRg0DLEhgajeBiAuw4N1axoASZnMhaqExuRJEgGKDT//XquXg8KxEimMB5IQEToGcyCLIcYyc\n",
       "NrABngb0NIkbpCNzpPCrXYjMYcSbhzg2MAAAQj9WxJ645p4AAAAASUVORK5CYII=\n",
       "\" style=\"display:inline;vertical-align:middle;\" /></a><br>"
      ],
      "text/plain": [
       "expr: [not](TRUE and B)"
      ]
     },
     "execution_count": 2,
     "metadata": {},
     "output_type": "execute_result"
    }
   ],
   "source": [
    "# build up the expression from sub-expressions\n",
    "expr = Not(And(TRUE, B))"
   ]
  },
  {
   "cell_type": "code",
   "execution_count": 3,
   "metadata": {},
   "outputs": [
    {
     "name": "stdout",
     "output_type": "stream",
     "text": [
      "Passed sanity check: built 'expr' is the same as the stored Expression.\n"
     ]
    }
   ],
   "source": [
    "# check that the built expression is the same as the stored expression\n",
    "%check_expr"
   ]
  },
  {
   "cell_type": "code",
   "execution_count": 4,
   "metadata": {},
   "outputs": [
    {
     "data": {
      "text/html": [
       "<table><tr><th>&nbsp;</th><th>core type</th><th>sub-expressions</th><th>expression</th></tr>\n",
       "<tr><td>0</td><td>Operation</td><td>operator:&nbsp;1<br>operand:&nbsp;2<br></td><td><a class=\"ProveItLink\" href=\"expr.ipynb\"><img src=\"data:image/png;base64,iVBORw0KGgoAAAANSUhEUgAAAFYAAAAVBAMAAAAutAQGAAAAMFBMVEX////c3NxERESqqqqYmJgQ\n",
       "EBDu7u4yMjKIiIi6urpUVFTMzMx2dnYiIiJmZmYAAABjE816AAAAAXRSTlMAQObYZgAAATxJREFU\n",
       "KM9jYCALcDbgk2WZgMzbxcB3FwwUUFV5/V+1Sn0Cw2tksTIQwf0AxmVMgLGCGBj4fjKwIynlaEBV\n",
       "yw5jcf8A4l8MLAcQalkTUNVuugYz5CPQtX8Y2AIQaqczoKpd2QFlMAEV8YYxMCgj1L5BVctWwAtl\n",
       "8S9gYCwCWnoOobYEVS2PA58BhLV/RcdbByBtzvAWFEp3gMxIVLW8DIwFEFa/AAPbLSA9FRa0DAw/\n",
       "UdV6MDCshrBUQeqBBu/HqfYaRBQIfgGx/wEUtcEoapmBNLsAWOQLkFhvgOIGFRS1IHXMD2DBy/gd\n",
       "yHCHRg0DLEhgajeBiAuw4N1axoASZnMhaqExuRJEgGKDT//XquXg8KxEimMB5IQEToGcyCLIcYyc\n",
       "NrABngb0NIkbpCNzpPCrXYjMYcSbhzg2MAAAQj9WxJ645p4AAAAASUVORK5CYII=\n",
       "\" style=\"display:inline;vertical-align:middle;\" /></a></td></tr>\n",
       "<tr><td>1</td><td>Literal</td><td></td><td><a class=\"ProveItLink\" href=\"../../../negation/__pv_it/7bea79645543c2413aa17e787cca04e21046fde60/expr.ipynb\"><img src=\"data:image/png;base64,iVBORw0KGgoAAAANSUhEUgAAAAwAAAAGBAMAAAAFwGKyAAAAFVBMVEX///9UVFTMzMx2dnYiIiJm\n",
       "ZmYAAACWz4ZEAAAAAXRSTlMAQObYZgAAABRJREFUCNdjCHEBAmcGMFDEQzEBAEl+Ai6uYJv/AAAA\n",
       "AElFTkSuQmCC\n",
       "\" style=\"display:inline;vertical-align:middle;\" /></a></td></tr>\n",
       "<tr><td>2</td><td>Operation</td><td>operator:&nbsp;3<br>operands:&nbsp;4<br></td><td><a class=\"ProveItLink\" href=\"../984b1529ce3a751e43f7954c63b259844cac9dd10/expr.ipynb\"><img src=\"data:image/png;base64,iVBORw0KGgoAAAANSUhEUgAAADYAAAAPBAMAAABdHiGLAAAAMFBMVEX///8QEBCqqqqYmJiIiIi6\n",
       "urpUVFQyMjLu7u7c3Nx2dnbMzMxEREQiIiJmZmYAAABKII+GAAAAAXRSTlMAQObYZgAAAMBJREFU\n",
       "GNNjeHsXBO4woACz/2lpxwNArH0wIc4GGEuGgYHvK4oc+wMog/sLEH9DkdtzA8pg+cnAwPwLRS7V\n",
       "BcrgEWBg4JVAluMo4IWy+BMYOGsakOW4DPgUIKz9KS5vDRiQ5XgZOAsgLP8JDBzXUORMGBiyIayD\n",
       "IHkDZDmgK7dBWCDn2y9AkmMC+o59Ath7n4FEvgKSHEic6QHMe5zfke3bAyIuwLy3sQIsuAvqcxAB\n",
       "8j3f+W9p6cUogQ8Od1YkAQBG7DWkEdsDFQAAAABJRU5ErkJggg==\n",
       "\" style=\"display:inline;vertical-align:middle;\" /></a></td></tr>\n",
       "<tr><td>3</td><td>Literal</td><td></td><td><a class=\"ProveItLink\" href=\"../76b5f4f4c45c0b6a9b59b297fc07dfa9555698f50/expr.ipynb\"><img src=\"data:image/png;base64,iVBORw0KGgoAAAANSUhEUgAAAAwAAAAOBAMAAADpk+DfAAAALVBMVEX///+qqqqYmJh2dnaIiIi6\n",
       "urpUVFQiIiJERETMzMxmZmYyMjLu7u7c3NwAAABvwqPxAAAAAXRSTlMAQObYZgAAAEtJREFUCNdj\n",
       "YGDgPcAAAtwLwNSMGjCV6gIieTawgyhmBS4BIMXOwLsBSKkwMGQCKaC6aQwMjEBd3BdACMScAVJd\n",
       "wJAKolwYAkAUKwAk0guX6efcigAAAABJRU5ErkJggg==\n",
       "\" style=\"display:inline;vertical-align:middle;\" /></a></td></tr>\n",
       "<tr><td>4</td><td>ExprTuple</td><td>5, 6</td><td><a class=\"ProveItLink\" href=\"../37daccb7f4d8f0c74c4d62e98fa64e0314d893720/expr.ipynb\"><img src=\"data:image/png;base64,iVBORw0KGgoAAAANSUhEUgAAADYAAAAVBAMAAAD/UwB2AAAAMFBMVEX////c3NwiIiJERESqqqqY\n",
       "mJh2dnZmZmYQEBDu7u4yMjJUVFTMzMyIiIi6uroAAAAs73DqAAAAAXRSTlMAQObYZgAAAPZJREFU\n",
       "KM9jYMAH+C5gFWZ9ACROM7ArgYEBVHD/792b1zEw1ADZK0ECPAUIHRxARfUPGLgYGHgvoMudB4qc\n",
       "38DAmsDAMQFd7r4AA0N8AgNnA8MrBnQ5CyDWAOowYSjDkPvNwCBlCaTTGZaiy/H8vntdFcTwYuhD\n",
       "l+P9yMAwaQOQ8YLhH7occwNQ/ivIvZhy/EA9rN/Aci3ocucDGBi4v4DNNEWSmwDznvwCICMK6FK4\n",
       "HOcnqPd4uiaA/fAIIpcAkusHain+v3v3qgCQ2DoGDgGk6EJig8KMNQEpzpAjkO0CNI6wyM0CYmkE\n",
       "FyUFbARiRuxpgvcAAwBqNEBOwzjo9wAAAABJRU5ErkJggg==\n",
       "\" style=\"display:inline;vertical-align:middle;\" /></a></td></tr>\n",
       "<tr><td>5</td><td>Literal</td><td></td><td><a class=\"ProveItLink\" href=\"../../../__pv_it/68a87cc3370287d726c7086ace789e680e4461c30/expr.ipynb\"><img src=\"data:image/png;base64,iVBORw0KGgoAAAANSUhEUgAAAA4AAAAOBAMAAADtZjDiAAAAFVBMVEX///92dnbMzMxEREQiIiJm\n",
       "ZmYAAABAT6GXAAAAAXRSTlMAQObYZgAAABhJREFUCNdjCHEBAWcGIFBlgABa0YpADAAxegPJJk4d\n",
       "XAAAAABJRU5ErkJggg==\n",
       "\" style=\"display:inline;vertical-align:middle;\" /></a></td></tr>\n",
       "<tr><td>6</td><td>Variable</td><td></td><td><a class=\"ProveItLink\" href=\"../../../../../__pv_it/077b2ff79244fb4582cbe22c6e3356fa92a52f2f0/expr.ipynb\"><img src=\"data:image/png;base64,iVBORw0KGgoAAAANSUhEUgAAABAAAAAOBAMAAADUAYG5AAAAMFBMVEX///+qqqru7u4iIiJ2dnbc\n",
       "3NyIiIjMzMxmZmYQEBC6uroyMjJERERUVFSYmJgAAADLUcuvAAAAAXRSTlMAQObYZgAAAGpJREFU\n",
       "CNdjYGB4+//u3dMLGIBgDgMDxy8gzf4NiP8CGWxfGRj4vgAZPBMYGJgnARn8FxhY9ygAGfXX0pof\n",
       "gDTlBzAw2YIYJ0EckBBI53sHoBH/gIz7AhBjWH9DjancBLTl/N+7t/cxMAAA3u4f/5xagjYAAAAA\n",
       "SUVORK5CYII=\n",
       "\" style=\"display:inline;vertical-align:middle;\" /></a></td></tr>\n",
       "</table>\n"
      ],
      "text/plain": [
       "0. [not](TRUE and B)\n",
       "   core type: Operation\n",
       "   operator: 1\n",
       "   operand: 2\n",
       "1. not\n",
       "   core type: Literal\n",
       "   sub-expressions: \n",
       "2. TRUE and B\n",
       "   core type: Operation\n",
       "   operator: 3\n",
       "   operands: 4\n",
       "3. and\n",
       "   core type: Literal\n",
       "   sub-expressions: \n",
       "4. (TRUE , B)\n",
       "   core type: ExprTuple\n",
       "   sub-expressions: 5, 6\n",
       "5. TRUE\n",
       "   core type: Literal\n",
       "   sub-expressions: \n",
       "6. B\n",
       "   core type: Variable\n",
       "   sub-expressions: "
      ]
     },
     "execution_count": 4,
     "metadata": {},
     "output_type": "execute_result"
    }
   ],
   "source": [
    "# display the expression information\n",
    "expr.exprInfo()"
   ]
  },
  {
   "cell_type": "code",
   "execution_count": null,
   "metadata": {},
   "outputs": [],
   "source": []
  }
 ],
 "metadata": {
  "kernelspec": {
   "display_name": "Python 3",
   "language": "python",
   "name": "python3"
  }
 },
 "nbformat": 4,
 "nbformat_minor": 0
}
