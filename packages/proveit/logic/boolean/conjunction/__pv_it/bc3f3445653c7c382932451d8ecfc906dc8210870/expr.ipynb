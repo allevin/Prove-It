{
 "cells": [
  {
   "cell_type": "markdown",
   "metadata": {},
   "source": [
    "Expression of type <a class=\"ProveItLink\" href=\"../../../../../../../doc/html/api/proveit.logic.InSet.html\">InSet</a>\n",
    "=======================\n",
    "# from context <a class=\"ProveItLink\" href=\"../../_context_.ipynb\">proveit.logic.boolean.conjunction</a>"
   ]
  },
  {
   "cell_type": "code",
   "execution_count": 1,
   "metadata": {},
   "outputs": [],
   "source": [
    "# import Expression classes needed to build the expression\n",
    "from proveit.logic import And, Booleans, FALSE, InSet, TRUE"
   ]
  },
  {
   "cell_type": "code",
   "execution_count": 2,
   "metadata": {},
   "outputs": [
    {
     "data": {
      "text/html": [
       "<strong id=\"expr\">expr:</strong> <a class=\"ProveItLink\" href=\"expr.ipynb\"><img src=\"data:image/png;base64,iVBORw0KGgoAAAANSUhEUgAAAGwAAAAVBAMAAABRZRb3AAAAMFBMVEX////c3NwiIiJERESqqqqY\n",
       "mJh2dnZmZmYQEBDu7u4yMjJUVFTMzMyIiIi6uroAAAAs73DqAAAAAXRSTlMAQObYZgAAAV5JREFU\n",
       "OMtjYCAT8F3AJ8v6AIfEaRDBiK6XXQkMDBhqUMXZ1lv9ajIBMlaCeDwFMHHGCTAWRIwLzTxmvguz\n",
       "piUw8F5A1cZVgKqNNQFDG++DBQwcE1C1HdZE1cbZAOHNXaSkBdXGErCT4RUDqrZ9d1G1MZhAOEsn\n",
       "IGx7aMBQhqqNcwETmrZ0MCk8AeHIQ8ETGJaiamMLYHdA1eYFJg0RflP638vA0IeqjYmBcQGqthdg\n",
       "RxggB8kVA4Z/qNpiGRj2oGo7D04TTcBIhAUJg8EzdG2a0PhH08azAck2BgNmhhYUbSxAmksAiyMV\n",
       "0LSZomgDaWEpQNEWBSa3omh7Bg1fmLbDIEIBSwRMeoDQxlprwPAIkmybQMkWGNkgGWiE80CS1TpI\n",
       "Ul1+AJaUP2tsYWDgEEBOcWAz+ZBFYImLZRckJGEZKgF/dmTDkR1X4tc2C4e4NH5tG3GIM+ItFHgP\n",
       "YBUGAOc4WdLTmO23AAAAAElFTkSuQmCC\n",
       "\" style=\"display:inline;vertical-align:middle;\" /></a><br>"
      ],
      "text/plain": [
       "expr: (FALSE and TRUE) in BOOLEANS"
      ]
     },
     "execution_count": 2,
     "metadata": {},
     "output_type": "execute_result"
    }
   ],
   "source": [
    "# build up the expression from sub-expressions\n",
    "expr = InSet(And(FALSE, TRUE), Booleans)"
   ]
  },
  {
   "cell_type": "code",
   "execution_count": 3,
   "metadata": {},
   "outputs": [
    {
     "name": "stdout",
     "output_type": "stream",
     "text": [
      "Passed sanity check: built 'expr' is the same as the stored Expression.\n"
     ]
    }
   ],
   "source": [
    "# check that the built expression is the same as the stored expression\n",
    "%check_expr"
   ]
  },
  {
   "cell_type": "code",
   "execution_count": 4,
   "metadata": {},
   "outputs": [
    {
     "data": {
      "text/html": [
       "<table><tr><th>&nbsp;</th><th>core type</th><th>sub-expressions</th><th>expression</th></tr>\n",
       "<tr><td>0</td><td>Operation</td><td>operator:&nbsp;1<br>operands:&nbsp;2<br></td><td><a class=\"ProveItLink\" href=\"expr.ipynb\"><img src=\"data:image/png;base64,iVBORw0KGgoAAAANSUhEUgAAAGwAAAAVBAMAAABRZRb3AAAAMFBMVEX////c3NwiIiJERESqqqqY\n",
       "mJh2dnZmZmYQEBDu7u4yMjJUVFTMzMyIiIi6uroAAAAs73DqAAAAAXRSTlMAQObYZgAAAV5JREFU\n",
       "OMtjYCAT8F3AJ8v6AIfEaRDBiK6XXQkMDBhqUMXZ1lv9ajIBMlaCeDwFMHHGCTAWRIwLzTxmvguz\n",
       "piUw8F5A1cZVgKqNNQFDG++DBQwcE1C1HdZE1cbZAOHNXaSkBdXGErCT4RUDqrZ9d1G1MZhAOEsn\n",
       "IGx7aMBQhqqNcwETmrZ0MCk8AeHIQ8ETGJaiamMLYHdA1eYFJg0RflP638vA0IeqjYmBcQGqthdg\n",
       "RxggB8kVA4Z/qNpiGRj2oGo7D04TTcBIhAUJg8EzdG2a0PhH08azAck2BgNmhhYUbSxAmksAiyMV\n",
       "0LSZomgDaWEpQNEWBSa3omh7Bg1fmLbDIEIBSwRMeoDQxlprwPAIkmybQMkWGNkgGWiE80CS1TpI\n",
       "Ul1+AJaUP2tsYWDgEEBOcWAz+ZBFYImLZRckJGEZKgF/dmTDkR1X4tc2C4e4NH5tG3GIM+ItFHgP\n",
       "YBUGAOc4WdLTmO23AAAAAElFTkSuQmCC\n",
       "\" style=\"display:inline;vertical-align:middle;\" /></a></td></tr>\n",
       "<tr><td>1</td><td>Literal</td><td></td><td><a class=\"ProveItLink\" href=\"../../../../set_theory/membership/__pv_it/088cbc857536a28d4119ad9639a84270ccb0545d0/expr.ipynb\"><img src=\"data:image/png;base64,iVBORw0KGgoAAAANSUhEUgAAAAwAAAAMBAMAAACkW0HUAAAALVBMVEX///+qqqpmZmZUVFQQEBC6\n",
       "urpERETc3NyYmJjMzMwiIiIyMjKIiIju7u4AAACYsrA9AAAAAXRSTlMAQObYZgAAADxJREFUCNdj\n",
       "YOA9vWrVBgaG2b0MQMCeCyIZ2ArA1DUwyRCyahVIyWQI7xaEYm4AU7xLIdxqTQgtvGvVBgCkcQ7e\n",
       "geM/tQAAAABJRU5ErkJggg==\n",
       "\" style=\"display:inline;vertical-align:middle;\" /></a></td></tr>\n",
       "<tr><td>2</td><td>ExprTuple</td><td>3, 4</td><td><a class=\"ProveItLink\" href=\"../fab568bee1589feebeb4d0f75359debfd3a046f60/expr.ipynb\"><img src=\"data:image/png;base64,iVBORw0KGgoAAAANSUhEUgAAAFsAAAAVBAMAAADbSo+2AAAAMFBMVEX////c3NwiIiJERESqqqqY\n",
       "mJh2dnZmZmYQEBDu7u4yMjJUVFTMzMyIiIi6uroAAAAs73DqAAAAAXRSTlMAQObYZgAAAT9JREFU\n",
       "KM9jYCAR8F0gVmUciDgNZsqiSbErgYEBiM223upXkwlQ7ACQsxIsfRymjnECjMVTAGMx812YNS2B\n",
       "gWEBAwPvBVTlXAVYlfM+AKoNY2DgmICq/LAmVuUsATsZGGYwMLxiQFW+7y520x8CvcHswFCGqpxz\n",
       "ARNW5YeCga5gK2BYiqqcLYDdAYtypf+9QJplAUMfqnImBsYFWB1zBegYvgaGf6jKYxkY9mBTzmDw\n",
       "DCjyAV25JizeMJQzg5W3oChnASrhEsClHOgYUxTlIKUsBcjKJyA5hnUBQzqK8sMgQgFJOecniHLW\n",
       "WgNwQD4CcouUlDSUlJRBkQRSB40ongSQ8n4BUBL7rLEFZPcDBg4B5IT4AJykUdI3kjwwEbAm4E/k\n",
       "rEjsXHgCJkY5JygCpfErR8pr3CB3MRKd+e4wMAAAs/RVdAiRwJ8AAAAASUVORK5CYII=\n",
       "\" style=\"display:inline;vertical-align:middle;\" /></a></td></tr>\n",
       "<tr><td>3</td><td>Operation</td><td>operator:&nbsp;5<br>operands:&nbsp;6<br></td><td><a class=\"ProveItLink\" href=\"../710f00884827e7ec166ce50d2d59b447b510c1220/expr.ipynb\"><img src=\"data:image/png;base64,iVBORw0KGgoAAAANSUhEUgAAADUAAAAPBAMAAAC2KZqIAAAAMFBMVEX///+qqqqYmJh2dna6urpU\n",
       "VFQyMjLu7u5EREQQEBAiIiJmZmbMzMyIiIjc3NwAAACSigvEAAAAAXRSTlMAQObYZgAAAHhJREFU\n",
       "GNNjYGBgeMuACrhXgUEDiH0aLvocxuDZAGUg5LJxy/F0FeCUY/W9gFOujGEBTjkjho045RYwPMMl\n",
       "x3SBgfUADjmuAgaeABxy0kCch0MuDyqPRY4HFIBcyHK7Vq1auWrVCpDPHYAEL8T3PAaowc8CJh0Q\n",
       "AgC2/yks/WNTawAAAABJRU5ErkJggg==\n",
       "\" style=\"display:inline;vertical-align:middle;\" /></a></td></tr>\n",
       "<tr><td>4</td><td>Literal</td><td></td><td><a class=\"ProveItLink\" href=\"../../../__pv_it/46271c8230be96415d662709611f4ed2279d702b0/expr.ipynb\"><img src=\"data:image/png;base64,iVBORw0KGgoAAAANSUhEUgAAAA0AAAAOBAMAAAAGUYvhAAAAMFBMVEX///9mZmbMzMzc3NxUVFSY\n",
       "mJju7u6IiIi6urqqqqoiIiIQEBBEREQyMjJ2dnYAAAAQvcRZAAAAAXRSTlMAQObYZgAAAElJREFU\n",
       "CNdjePvn/u01ExgYGA60s117B6YZKngh9FSWBAjfBsxnWnoMRHet/10AkS+fA6F5OB5AaIYDqDRU\n",
       "PLCGgQFoz6ktExgAgLIl8DFvGtkAAAAASUVORK5CYII=\n",
       "\" style=\"display:inline;vertical-align:middle;\" /></a></td></tr>\n",
       "<tr><td>5</td><td>Literal</td><td></td><td><a class=\"ProveItLink\" href=\"../76b5f4f4c45c0b6a9b59b297fc07dfa9555698f50/expr.ipynb\"><img src=\"data:image/png;base64,iVBORw0KGgoAAAANSUhEUgAAAAwAAAAOBAMAAADpk+DfAAAALVBMVEX///+qqqqYmJh2dnaIiIi6\n",
       "urpUVFQiIiJERETMzMxmZmYyMjLu7u7c3NwAAABvwqPxAAAAAXRSTlMAQObYZgAAAEtJREFUCNdj\n",
       "YGDgPcAAAtwLwNSMGjCV6gIieTawgyhmBS4BIMXOwLsBSKkwMGQCKaC6aQwMjEBd3BdACMScAVJd\n",
       "wJAKolwYAkAUKwAk0guX6efcigAAAABJRU5ErkJggg==\n",
       "\" style=\"display:inline;vertical-align:middle;\" /></a></td></tr>\n",
       "<tr><td>6</td><td>ExprTuple</td><td>7, 8</td><td><a class=\"ProveItLink\" href=\"../f33a8d5708d13f20cb034555a092a5521deab66a0/expr.ipynb\"><img src=\"data:image/png;base64,iVBORw0KGgoAAAANSUhEUgAAADUAAAAVBAMAAAAUZLt1AAAAMFBMVEX////c3NwiIiJERESqqqqY\n",
       "mJh2dnZmZmYQEBDu7u4yMjJUVFTMzMyIiIi6uroAAAAs73DqAAAAAXRSTlMAQObYZgAAALBJREFU\n",
       "KM9jYMAH+C5gFY4DEadBBCNcQZESCCgzsB8AclaCRHgKkLQcB5MLGBh4L+CQC2Ng4JiAQ24GA8Mr\n",
       "BhxyzA4MZbjk2AoYluKSY1nA0IdLjq+B4R8uOZ4PeOVa8JhpiiQ3AVmOdQFDOkKO8xOaHx4xMLAD\n",
       "A7dJScmAs18ALHoMTHI9YOAQQIouJDYozFgTEFxW5AjMhcURphwnMI4YpBF85BTALYAS5SjgDgMD\n",
       "AMUhLsE7xITaAAAAAElFTkSuQmCC\n",
       "\" style=\"display:inline;vertical-align:middle;\" /></a></td></tr>\n",
       "<tr><td>7</td><td>Literal</td><td></td><td><a class=\"ProveItLink\" href=\"../../../__pv_it/8f1f7fac882de28c72b62ab80a1700b6d8fd066b0/expr.ipynb\"><img src=\"data:image/png;base64,iVBORw0KGgoAAAANSUhEUgAAAA4AAAAOBAMAAADtZjDiAAAAG1BMVEX///9EREQQEBAiIiJmZmbM\n",
       "zMyIiIjc3NwAAACryk5kAAAAAXRSTlMAQObYZgAAABlJREFUCNdjYGBgKGOAgBBa0s7GxkbGxoYA\n",
       "FMUF2aBfHgoAAAAASUVORK5CYII=\n",
       "\" style=\"display:inline;vertical-align:middle;\" /></a></td></tr>\n",
       "<tr><td>8</td><td>Literal</td><td></td><td><a class=\"ProveItLink\" href=\"../../../__pv_it/68a87cc3370287d726c7086ace789e680e4461c30/expr.ipynb\"><img src=\"data:image/png;base64,iVBORw0KGgoAAAANSUhEUgAAAA4AAAAOBAMAAADtZjDiAAAAFVBMVEX///92dnbMzMxEREQiIiJm\n",
       "ZmYAAABAT6GXAAAAAXRSTlMAQObYZgAAABhJREFUCNdjCHEBAWcGIFBlgABa0YpADAAxegPJJk4d\n",
       "XAAAAABJRU5ErkJggg==\n",
       "\" style=\"display:inline;vertical-align:middle;\" /></a></td></tr>\n",
       "</table>\n"
      ],
      "text/plain": [
       "0. (FALSE and TRUE) in BOOLEANS\n",
       "   core type: Operation\n",
       "   operator: 1\n",
       "   operands: 2\n",
       "1. in\n",
       "   core type: Literal\n",
       "   sub-expressions: \n",
       "2. (FALSE and TRUE , BOOLEANS)\n",
       "   core type: ExprTuple\n",
       "   sub-expressions: 3, 4\n",
       "3. FALSE and TRUE\n",
       "   core type: Operation\n",
       "   operator: 5\n",
       "   operands: 6\n",
       "4. BOOLEANS\n",
       "   core type: Literal\n",
       "   sub-expressions: \n",
       "5. and\n",
       "   core type: Literal\n",
       "   sub-expressions: \n",
       "6. (FALSE , TRUE)\n",
       "   core type: ExprTuple\n",
       "   sub-expressions: 7, 8\n",
       "7. FALSE\n",
       "   core type: Literal\n",
       "   sub-expressions: \n",
       "8. TRUE\n",
       "   core type: Literal\n",
       "   sub-expressions: "
      ]
     },
     "execution_count": 4,
     "metadata": {},
     "output_type": "execute_result"
    }
   ],
   "source": [
    "# display the expression information\n",
    "expr.exprInfo()"
   ]
  },
  {
   "cell_type": "code",
   "execution_count": null,
   "metadata": {},
   "outputs": [],
   "source": []
  }
 ],
 "metadata": {
  "kernelspec": {
   "display_name": "Python 3",
   "language": "python",
   "name": "python3"
  }
 },
 "nbformat": 4,
 "nbformat_minor": 0
}
