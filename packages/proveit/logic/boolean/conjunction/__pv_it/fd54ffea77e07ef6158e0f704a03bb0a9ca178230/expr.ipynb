{
 "cells": [
  {
   "cell_type": "markdown",
   "metadata": {},
   "source": [
    "Expression of type <a class=\"ProveItLink\" href=\"../../../../../../../doc/html/api/proveit.ExprTuple.html\">ExprTuple</a>\n",
    "=======================\n",
    "# from context <a class=\"ProveItLink\" href=\"../../_context_.ipynb\">proveit.logic.boolean.conjunction</a>"
   ]
  },
  {
   "cell_type": "code",
   "execution_count": 1,
   "metadata": {},
   "outputs": [],
   "source": [
    "# import Expression classes needed to build the expression\n",
    "from proveit import ExprTuple\n",
    "from proveit._common_ import C, D"
   ]
  },
  {
   "cell_type": "code",
   "execution_count": 2,
   "metadata": {},
   "outputs": [
    {
     "data": {
      "text/html": [
       "<strong id=\"expr\">expr:</strong> <a class=\"ProveItLink\" href=\"expr.ipynb\"><img src=\"data:image/png;base64,iVBORw0KGgoAAAANSUhEUgAAADYAAAAVBAMAAAD/UwB2AAAAMFBMVEX////c3NwiIiJERESqqqqY\n",
       "mJh2dnZmZmYQEBDu7u4yMjJUVFTMzMyIiIi6uroAAAAs73DqAAAAAXRSTlMAQObYZgAAAUBJREFU\n",
       "KM9jYMAH+C5gFWZ9ACROg1hzrcsDxCGCt//v3r34AANDDZC9EojZWhkYnrdCdfxiYGD5wsDAxcDA\n",
       "CzSSc9EEoPxHiBTPNyBRP4GBNYGBAyjM1QmytwEix/sPSJy/wMDZwPAKpMoBSDAWQOSYPwAJ+Q0M\n",
       "DCYMZUDRXyAxzgMQOX4DkD6gXDrDUgYG9q/Ijj8P8lN8AgODF0MfAwPTR2S5+yD9+4G+e8EAtJn/\n",
       "A9hMqJw9iOgAGQCS4wDL+UDlPoMC5StYroWBgfsnSAzqTJ6/QIID5J4XDKZQLtsEiKm8f4CEFdDT\n",
       "DFFAlwJd5cDAV8jAMF8B6r1TYDPSGR6BzNm1vQRIzQC6d7r9792ba8Cmr2PgEEA4/yGyX4BhBgxS\n",
       "OAhAlmO7AIkjbHKzgFgazuNFifiNoPDHniZ4DzAAAExYUFmZUn67AAAAAElFTkSuQmCC\n",
       "\" style=\"display:inline;vertical-align:middle;\" /></a><br>"
      ],
      "text/plain": [
       "expr: (C , D)"
      ]
     },
     "execution_count": 2,
     "metadata": {},
     "output_type": "execute_result"
    }
   ],
   "source": [
    "# build up the expression from sub-expressions\n",
    "expr = ExprTuple(C, D)"
   ]
  },
  {
   "cell_type": "code",
   "execution_count": 3,
   "metadata": {},
   "outputs": [
    {
     "name": "stdout",
     "output_type": "stream",
     "text": [
      "Passed sanity check: built 'expr' is the same as the stored Expression.\n"
     ]
    }
   ],
   "source": [
    "# check that the built expression is the same as the stored expression\n",
    "%check_expr"
   ]
  },
  {
   "cell_type": "code",
   "execution_count": 4,
   "metadata": {},
   "outputs": [
    {
     "data": {
      "text/html": [
       "<table><tr><th>&nbsp;</th><th>core type</th><th>sub-expressions</th><th>expression</th></tr>\n",
       "<tr><td>0</td><td>ExprTuple</td><td>1, 2</td><td><a class=\"ProveItLink\" href=\"expr.ipynb\"><img src=\"data:image/png;base64,iVBORw0KGgoAAAANSUhEUgAAADYAAAAVBAMAAAD/UwB2AAAAMFBMVEX////c3NwiIiJERESqqqqY\n",
       "mJh2dnZmZmYQEBDu7u4yMjJUVFTMzMyIiIi6uroAAAAs73DqAAAAAXRSTlMAQObYZgAAAUBJREFU\n",
       "KM9jYMAH+C5gFWZ9ACROg1hzrcsDxCGCt//v3r34AANDDZC9EojZWhkYnrdCdfxiYGD5wsDAxcDA\n",
       "CzSSc9EEoPxHiBTPNyBRP4GBNYGBAyjM1QmytwEix/sPSJy/wMDZwPAKpMoBSDAWQOSYPwAJ+Q0M\n",
       "DCYMZUDRXyAxzgMQOX4DkD6gXDrDUgYG9q/Ijj8P8lN8AgODF0MfAwPTR2S5+yD9+4G+e8EAtJn/\n",
       "A9hMqJw9iOgAGQCS4wDL+UDlPoMC5StYroWBgfsnSAzqTJ6/QIID5J4XDKZQLtsEiKm8f4CEFdDT\n",
       "DFFAlwJd5cDAV8jAMF8B6r1TYDPSGR6BzNm1vQRIzQC6d7r9792ba8Cmr2PgEEA4/yGyX4BhBgxS\n",
       "OAhAlmO7AIkjbHKzgFgazuNFifiNoPDHniZ4DzAAAExYUFmZUn67AAAAAElFTkSuQmCC\n",
       "\" style=\"display:inline;vertical-align:middle;\" /></a></td></tr>\n",
       "<tr><td>1</td><td>Variable</td><td></td><td><a class=\"ProveItLink\" href=\"../../../../../__pv_it/985a1bdf1540838275dec15f4ad6de261cca93ce0/expr.ipynb\"><img src=\"data:image/png;base64,iVBORw0KGgoAAAANSUhEUgAAAA8AAAAOBAMAAAACpFvcAAAAMFBMVEX////MzMyqqqoiIiIyMjK6\n",
       "uroQEBB2dnbc3NyYmJhmZmZUVFRERESIiIju7u4AAAB204erAAAAAXRSTlMAQObYZgAAAGZJREFU\n",
       "CNdjYGDgu7NrJccCBgaGsgkMrMsmMDA8sQNy6hsYGNweABlhDAxcn4A0QxcDQ78DiPGQgWH9BAYI\n",
       "sG+AMv6DSaCGfBDNJMDAsB+kmwuI5S8AiTog5gSaEwXWIO29SgFIAQBC+RaDQlidVgAAAABJRU5E\n",
       "rkJggg==\n",
       "\" style=\"display:inline;vertical-align:middle;\" /></a></td></tr>\n",
       "<tr><td>2</td><td>Variable</td><td></td><td><a class=\"ProveItLink\" href=\"../../../../../__pv_it/185e6d30f167ee2ee5ef3321098dc98e0d77bc590/expr.ipynb\"><img src=\"data:image/png;base64,iVBORw0KGgoAAAANSUhEUgAAABEAAAAOBAMAAAA7w+qHAAAALVBMVEX///8QEBCYmJjc3Ny6urru\n",
       "7u5mZmZ2dnaqqqrMzMxEREQyMjJUVFSIiIgAAABETr/8AAAAAXRSTlMAQObYZgAAAGpJREFUCNdj\n",
       "YGC48+7MmV0TGEDgNQMDxwsQg/M5kMgLABK8T4DEvAtAgusBkLA7ACT4FoDEDsAk9AqAxD2QCecc\n",
       "gMQ6kAGCIOIVEDM9Ahn3FkgwgnTxvgQSqwOgxs1OADLC1r05cyoTyAAAv4Qe+njAWvgAAAAASUVO\n",
       "RK5CYII=\n",
       "\" style=\"display:inline;vertical-align:middle;\" /></a></td></tr>\n",
       "</table>\n"
      ],
      "text/plain": [
       "0. (C , D)\n",
       "   core type: ExprTuple\n",
       "   sub-expressions: 1, 2\n",
       "1. C\n",
       "   core type: Variable\n",
       "   sub-expressions: \n",
       "2. D\n",
       "   core type: Variable\n",
       "   sub-expressions: "
      ]
     },
     "execution_count": 4,
     "metadata": {},
     "output_type": "execute_result"
    }
   ],
   "source": [
    "# display the expression information\n",
    "expr.exprInfo()"
   ]
  },
  {
   "cell_type": "code",
   "execution_count": null,
   "metadata": {},
   "outputs": [],
   "source": []
  }
 ],
 "metadata": {
  "kernelspec": {
   "display_name": "Python 3",
   "language": "python",
   "name": "python3"
  }
 },
 "nbformat": 4,
 "nbformat_minor": 0
}
