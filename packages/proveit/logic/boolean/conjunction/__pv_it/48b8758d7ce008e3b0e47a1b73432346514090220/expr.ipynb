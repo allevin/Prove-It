{
 "cells": [
  {
   "cell_type": "markdown",
   "metadata": {},
   "source": [
    "Expression of type <a class=\"ProveItLink\" href=\"../../../../../../../doc/html/api/proveit.ExprTuple.html\">ExprTuple</a>\n",
    "=======================\n",
    "# from context <a class=\"ProveItLink\" href=\"../../_context_.ipynb\">proveit.logic.boolean.conjunction</a>"
   ]
  },
  {
   "cell_type": "code",
   "execution_count": 1,
   "metadata": {},
   "outputs": [],
   "source": [
    "# import Expression classes needed to build the expression\n",
    "from proveit import ExprTuple\n",
    "from proveit._common_ import A, B, C, D, E"
   ]
  },
  {
   "cell_type": "code",
   "execution_count": 2,
   "metadata": {},
   "outputs": [
    {
     "data": {
      "text/html": [
       "<strong id=\"expr\">expr:</strong> <a class=\"ProveItLink\" href=\"expr.ipynb\"><img src=\"data:image/png;base64,iVBORw0KGgoAAAANSUhEUgAAAIMAAAAVBAMAAACXjEALAAAAMFBMVEX////c3NwiIiJERESqqqqY\n",
       "mJh2dnZmZmYQEBDu7u4yMjJUVFTMzMyIiIi6uroAAAAs73DqAAAAAXRSTlMAQObYZgAAAkJJREFU\n",
       "OMutVDtvE0EQ/ky8ds6xj5NAQoLCNEhQxQ0S0Nj/AFeU4A5SoJyEeBRIdkGBKPCJhijicQgh8ZAw\n",
       "IgXFFbZSkiKWKCgA2dCAaDCPRMIOCTO7O75L4YZgyaPvm9mdnW9n9oD/8HO7O9l9ms2KwcviVO1R\n",
       "tPRcmPPm1cWUb/C7rSh62LGBAi2LWmGW+RPjao0TT5eAet+Sc1W4V6qWDIH0L1m2OyRWAtmC0aFm\n",
       "A4mtkmf1hcGLR8jMe4bk18nUZd033ujjFJ1pXHvrnqToETpTM/gxR79I7Zv2AP2bJwlOFwvAV+Po\n",
       "9qR0HKP/YZM4q8veZwNTAzJFWx8rr8HDVAWXTFuCkyIYI2D/cQOLIds7or6EWCJ+QvGWjI9Hmt+L\n",
       "C8yPPrw9ZHG9mmygXiIS3WHUYu3pEDe1o4+iL4q/A7fsUbNeMkWPG9i2gjMbyOlUDWzqk6OoXRLF\n",
       "DUqzZvCWttKDMpvrluQGyCBPWwcmhUudCUUxVaDWDW6ySXfG6imyFl9MCnd1imvMK8Cuhigm/TN2\n",
       "gNpcQFYu6Y+du3gs5rSQo4RSFV2YqZjHgjsRyAXO2UBhg8yJAM54LHjyVYizPIN8Bb/h/LBjkb8R\n",
       "GKKoms+eDfBYvKZN9w/Kg1ju6KZ+AvY0H0CVh77TpAIu0Ft6Slo0wcqzyxWLb5fp+V0l3wK1zFmi\n",
       "ZS85c66P6UTf3GQP3UkBfEwSGnBVi6lKxtQEDGybt/PxY//HFA7PwoGYb/t+dSdgFJJkhiWmdvTh\n",
       "ew/8BQ43qTqeMmcWAAAAAElFTkSuQmCC\n",
       "\" style=\"display:inline;vertical-align:middle;\" /></a><br>"
      ],
      "text/plain": [
       "expr: (A , B , C , D , E)"
      ]
     },
     "execution_count": 2,
     "metadata": {},
     "output_type": "execute_result"
    }
   ],
   "source": [
    "# build up the expression from sub-expressions\n",
    "expr = ExprTuple(A, B, C, D, E)"
   ]
  },
  {
   "cell_type": "code",
   "execution_count": 3,
   "metadata": {},
   "outputs": [
    {
     "name": "stdout",
     "output_type": "stream",
     "text": [
      "Passed sanity check: built 'expr' is the same as the stored Expression.\n"
     ]
    }
   ],
   "source": [
    "# check that the built expression is the same as the stored expression\n",
    "%check_expr"
   ]
  },
  {
   "cell_type": "code",
   "execution_count": 4,
   "metadata": {},
   "outputs": [
    {
     "data": {
      "text/html": [
       "<table><tr><th>&nbsp;</th><th>core type</th><th>sub-expressions</th><th>expression</th></tr>\n",
       "<tr><td>0</td><td>ExprTuple</td><td>1, 2, 3, 4, 5</td><td><a class=\"ProveItLink\" href=\"expr.ipynb\"><img src=\"data:image/png;base64,iVBORw0KGgoAAAANSUhEUgAAAIMAAAAVBAMAAACXjEALAAAAMFBMVEX////c3NwiIiJERESqqqqY\n",
       "mJh2dnZmZmYQEBDu7u4yMjJUVFTMzMyIiIi6uroAAAAs73DqAAAAAXRSTlMAQObYZgAAAkJJREFU\n",
       "OMutVDtvE0EQ/ky8ds6xj5NAQoLCNEhQxQ0S0Nj/AFeU4A5SoJyEeBRIdkGBKPCJhijicQgh8ZAw\n",
       "IgXFFbZSkiKWKCgA2dCAaDCPRMIOCTO7O75L4YZgyaPvm9mdnW9n9oD/8HO7O9l9ms2KwcviVO1R\n",
       "tPRcmPPm1cWUb/C7rSh62LGBAi2LWmGW+RPjao0TT5eAet+Sc1W4V6qWDIH0L1m2OyRWAtmC0aFm\n",
       "A4mtkmf1hcGLR8jMe4bk18nUZd033ujjFJ1pXHvrnqToETpTM/gxR79I7Zv2AP2bJwlOFwvAV+Po\n",
       "9qR0HKP/YZM4q8veZwNTAzJFWx8rr8HDVAWXTFuCkyIYI2D/cQOLIds7or6EWCJ+QvGWjI9Hmt+L\n",
       "C8yPPrw9ZHG9mmygXiIS3WHUYu3pEDe1o4+iL4q/A7fsUbNeMkWPG9i2gjMbyOlUDWzqk6OoXRLF\n",
       "DUqzZvCWttKDMpvrluQGyCBPWwcmhUudCUUxVaDWDW6ySXfG6imyFl9MCnd1imvMK8Cuhigm/TN2\n",
       "gNpcQFYu6Y+du3gs5rSQo4RSFV2YqZjHgjsRyAXO2UBhg8yJAM54LHjyVYizPIN8Bb/h/LBjkb8R\n",
       "GKKoms+eDfBYvKZN9w/Kg1ju6KZ+AvY0H0CVh77TpAIu0Ft6Slo0wcqzyxWLb5fp+V0l3wK1zFmi\n",
       "ZS85c66P6UTf3GQP3UkBfEwSGnBVi6lKxtQEDGybt/PxY//HFA7PwoGYb/t+dSdgFJJkhiWmdvTh\n",
       "ew/8BQ43qTqeMmcWAAAAAElFTkSuQmCC\n",
       "\" style=\"display:inline;vertical-align:middle;\" /></a></td></tr>\n",
       "<tr><td>1</td><td>Variable</td><td></td><td><a class=\"ProveItLink\" href=\"../../../../../__pv_it/2cbe72a7ad6f655694dd697106680215e8489b600/expr.ipynb\"><img src=\"data:image/png;base64,iVBORw0KGgoAAAANSUhEUgAAAA8AAAAOBAMAAAACpFvcAAAALVBMVEX///8QEBBERERUVFS6urqI\n",
       "iIhmZmaqqqrc3Nzu7u6YmJgyMjIiIiLMzMwAAADtIaYWAAAAAXRSTlMAQObYZgAAAFtJREFUCNdj\n",
       "YACBOwxQsA9Kc52bAGG05zVAGAFxDmCaZULdAjBjCsO9ADDDgaEvAUTzGhvbKYCVMDAwbgAxChgY\n",
       "eASANAeQwf0AyJgNxEwvGRia5HYwcOm9TgAA6BoR3jrzwFcAAAAASUVORK5CYII=\n",
       "\" style=\"display:inline;vertical-align:middle;\" /></a></td></tr>\n",
       "<tr><td>2</td><td>Variable</td><td></td><td><a class=\"ProveItLink\" href=\"../../../../../__pv_it/077b2ff79244fb4582cbe22c6e3356fa92a52f2f0/expr.ipynb\"><img src=\"data:image/png;base64,iVBORw0KGgoAAAANSUhEUgAAABAAAAAOBAMAAADUAYG5AAAAMFBMVEX///+qqqru7u4iIiJ2dnbc\n",
       "3NyIiIjMzMxmZmYQEBC6uroyMjJERERUVFSYmJgAAADLUcuvAAAAAXRSTlMAQObYZgAAAGpJREFU\n",
       "CNdjYGB4+//u3dMLGIBgDgMDxy8gzf4NiP8CGWxfGRj4vgAZPBMYGJgnARn8FxhY9ygAGfXX0pof\n",
       "gDTlBzAw2YIYJ0EckBBI53sHoBH/gIz7AhBjWH9DjancBLTl/N+7t/cxMAAA3u4f/5xagjYAAAAA\n",
       "SUVORK5CYII=\n",
       "\" style=\"display:inline;vertical-align:middle;\" /></a></td></tr>\n",
       "<tr><td>3</td><td>Variable</td><td></td><td><a class=\"ProveItLink\" href=\"../../../../../__pv_it/985a1bdf1540838275dec15f4ad6de261cca93ce0/expr.ipynb\"><img src=\"data:image/png;base64,iVBORw0KGgoAAAANSUhEUgAAAA8AAAAOBAMAAAACpFvcAAAAMFBMVEX////MzMyqqqoiIiIyMjK6\n",
       "uroQEBB2dnbc3NyYmJhmZmZUVFRERESIiIju7u4AAAB204erAAAAAXRSTlMAQObYZgAAAGZJREFU\n",
       "CNdjYGDgu7NrJccCBgaGsgkMrMsmMDA8sQNy6hsYGNweABlhDAxcn4A0QxcDQ78DiPGQgWH9BAYI\n",
       "sG+AMv6DSaCGfBDNJMDAsB+kmwuI5S8AiTog5gSaEwXWIO29SgFIAQBC+RaDQlidVgAAAABJRU5E\n",
       "rkJggg==\n",
       "\" style=\"display:inline;vertical-align:middle;\" /></a></td></tr>\n",
       "<tr><td>4</td><td>Variable</td><td></td><td><a class=\"ProveItLink\" href=\"../../../../../__pv_it/185e6d30f167ee2ee5ef3321098dc98e0d77bc590/expr.ipynb\"><img src=\"data:image/png;base64,iVBORw0KGgoAAAANSUhEUgAAABEAAAAOBAMAAAA7w+qHAAAALVBMVEX///8QEBCYmJjc3Ny6urru\n",
       "7u5mZmZ2dnaqqqrMzMxEREQyMjJUVFSIiIgAAABETr/8AAAAAXRSTlMAQObYZgAAAGpJREFUCNdj\n",
       "YGC48+7MmV0TGEDgNQMDxwsQg/M5kMgLABK8T4DEvAtAgusBkLA7ACT4FoDEDsAk9AqAxD2QCecc\n",
       "gMQ6kAGCIOIVEDM9Ahn3FkgwgnTxvgQSqwOgxs1OADLC1r05cyoTyAAAv4Qe+njAWvgAAAAASUVO\n",
       "RK5CYII=\n",
       "\" style=\"display:inline;vertical-align:middle;\" /></a></td></tr>\n",
       "<tr><td>5</td><td>Variable</td><td></td><td><a class=\"ProveItLink\" href=\"../../../../../__pv_it/9995c55100c62d7d8a012a35bafc852acbe03cf00/expr.ipynb\"><img src=\"data:image/png;base64,iVBORw0KGgoAAAANSUhEUgAAABAAAAAOBAMAAADUAYG5AAAALVBMVEX///8iIiKYmJjc3Nzu7u7M\n",
       "zMx2dnZmZma6urpERESqqqoyMjJUVFSIiIgAAACbLqVTAAAAAXRSTlMAQObYZgAAAGVJREFUCNdj\n",
       "YGC48+7MmdOvGYAARKwEYo63QIIdiNmeAglfIOZ+wMDGwAxk8E1gUAIpZejbc/oxmJEXwLABzNjH\n",
       "wJDAEABkvGRgMGC5ADWGzQFqjDnEGAZWUQYGn3lvzpyRE2AAAIznGVQJqiN4AAAAAElFTkSuQmCC\n",
       "\" style=\"display:inline;vertical-align:middle;\" /></a></td></tr>\n",
       "</table>\n"
      ],
      "text/plain": [
       "0. (A , B , C , D , E)\n",
       "   core type: ExprTuple\n",
       "   sub-expressions: 1, 2, 3, 4, 5\n",
       "1. A\n",
       "   core type: Variable\n",
       "   sub-expressions: \n",
       "2. B\n",
       "   core type: Variable\n",
       "   sub-expressions: \n",
       "3. C\n",
       "   core type: Variable\n",
       "   sub-expressions: \n",
       "4. D\n",
       "   core type: Variable\n",
       "   sub-expressions: \n",
       "5. E\n",
       "   core type: Variable\n",
       "   sub-expressions: "
      ]
     },
     "execution_count": 4,
     "metadata": {},
     "output_type": "execute_result"
    }
   ],
   "source": [
    "# display the expression information\n",
    "expr.exprInfo()"
   ]
  },
  {
   "cell_type": "code",
   "execution_count": null,
   "metadata": {},
   "outputs": [],
   "source": []
  }
 ],
 "metadata": {
  "kernelspec": {
   "display_name": "Python 3",
   "language": "python",
   "name": "python3"
  }
 },
 "nbformat": 4,
 "nbformat_minor": 0
}
