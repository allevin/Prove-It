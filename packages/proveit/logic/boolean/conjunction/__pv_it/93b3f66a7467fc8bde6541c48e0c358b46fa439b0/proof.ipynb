{
 "cells": [
  {
   "cell_type": "markdown",
   "metadata": {},
   "source": [
    "Show the Proof\n",
    "========"
   ]
  },
  {
   "cell_type": "code",
   "execution_count": 1,
   "metadata": {},
   "outputs": [
    {
     "data": {
      "text/html": [
       "<table><tr><th>&nbsp;</th><th>step type</th><th>requirements</th><th>statement</th></tr>\n",
       "<tr><td>0</td><td>specialization</td><td>1, 2</td><td><span style=\"font-size:20px;\"> <a class=\"ProveItLink\" href=\"proof.ipynb\" style=\"text-decoration: none\">&#x22A2;&nbsp;</a><a class=\"ProveItLink\" href=\"../d133507a315974846b05aeec9724a61786215f060/expr.ipynb\"><img src=\"data:image/png;base64,iVBORw0KGgoAAAANSUhEUgAAALMAAAAXBAMAAACyt2M4AAAAMFBMVEX///8QEBC6urrMzMxUVFRm\n",
       "ZmZERETc3NwyMjKqqqp2dnaIiIiYmJgiIiLu7u4AAAAU9Wx4AAAAAXRSTlMAQObYZgAAAlZJREFU\n",
       "SMe1lD1oFEEUx/+b+4p3e3tiozZhCwshiFdoY3OLOdJ6xUVQCJ4Im8aPK8QEJMkSkChIvCb9NSqi\n",
       "RUSsrjBanoWxsfAD1s5GEHMoUUHf7OzevFmT2yuSB3/u7Zs3v5uZ92aAvTN/yLyRNfYxPjD1VagN\n",
       "8fE6GX2C+SkH05+EvdNzzDO96uQSMmUEeiRiK8lonjIabPVk/3shcowGcMGGRy7pBv3kGonkAj+P\n",
       "DnT0rcipUFbFQZfcrlxBppWINnhNxnR06ko0+KIJvGnjM7kk8+Hs7HzyeRzlFfV0dHo82tJF0lsf\n",
       "WVqq0A/XfZ+MPs/8TFtHf5G9QNYD5q4C+ZrUBDAD7Ls2Vb8UDNuKoYK4y6u4rqOf4Fx4Mr3O849i\n",
       "nid1BJbY4EvgaTDOS9oP4gAtNug3WrFh6+gNzIW1/gl8dejE9ksVURCrqAPHm3F0P4jvqqVR0tHm\n",
       "GtLlwMsSrvCHkr5JFdaLosAfgOn/Vt0PDkLTdBElK9GP+UuhLU9cNGsT5nIcrYI4zNBGS0OvkmRW\n",
       "hbaf3lIHgpnToqF+dyb9OFoFcZmhs3oZl0O8bOtFKpwZCquidfIezDGFfuC6rseCuB/9XVn2lUKn\n",
       "xIRi1NapQ75qPhii4bM1WFv6qhssiGP8ysg2PhVeGDt6B87+rVZvix2N2lIwxZ5LLYxsxtEqCKPJ\n",
       "2Ae11zZ+GxBd9NAWfczX4mgVhNlmU7sJV/dxqMDy96bqd6Cjyyy43aO6o4kraHnbDOzwwF5nfs4Z\n",
       "iE43pYZF5/iDfXMg+lmoYdG7Yc5ugf4BaH+faCAgty0AAAAASUVORK5CYII=\n",
       "\" style=\"display:inline;vertical-align:middle;\" /></a></span></td></tr>\n",
       "<tr><td>&nbsp;</td><td colspan=4 style=\"text-align:left\"><span style=\"font-size:20px;\"><a class=\"ProveItLink\" href=\"../../../../../__pv_it/2cbe72a7ad6f655694dd697106680215e8489b600/expr.ipynb\"><img src=\"data:image/png;base64,iVBORw0KGgoAAAANSUhEUgAAAA8AAAAOBAMAAAACpFvcAAAALVBMVEX///8QEBBERERUVFS6urqI\n",
       "iIhmZmaqqqrc3Nzu7u6YmJgyMjIiIiLMzMwAAADtIaYWAAAAAXRSTlMAQObYZgAAAFtJREFUCNdj\n",
       "YACBOwxQsA9Kc52bAGG05zVAGAFxDmCaZULdAjBjCsO9ADDDgaEvAUTzGhvbKYCVMDAwbgAxChgY\n",
       "eASANAeQwf0AyJgNxEwvGRia5HYwcOm9TgAA6BoR3jrzwFcAAAAASUVORK5CYII=\n",
       "\" style=\"display:inline;vertical-align:middle;\" /></a> : <a class=\"ProveItLink\" href=\"../../../__pv_it/68a87cc3370287d726c7086ace789e680e4461c30/expr.ipynb\"><img src=\"data:image/png;base64,iVBORw0KGgoAAAANSUhEUgAAAA4AAAAOBAMAAADtZjDiAAAAFVBMVEX///92dnbMzMxEREQiIiJm\n",
       "ZmYAAABAT6GXAAAAAXRSTlMAQObYZgAAABhJREFUCNdjCHEBAWcGIFBlgABa0YpADAAxegPJJk4d\n",
       "XAAAAABJRU5ErkJggg==\n",
       "\" style=\"display:inline;vertical-align:middle;\" /></a></span></td></tr><tr><td>1</td><td>theorem</td><td></td><td><span style=\"font-size:20px;\"> <a class=\"ProveItLink\" href=\"../../_proofs_/nandIfLeftButNotRight.ipynb\" style=\"text-decoration: none\">&#x22A2;&nbsp;</a><a class=\"ProveItLink\" href=\"../40045ea1b0d5838ab2d85b085249b014729edc2c0/expr.ipynb\"><img src=\"data:image/png;base64,iVBORw0KGgoAAAANSUhEUgAAANYAAAAXBAMAAACFeawMAAAAMFBMVEX///8QEBC6urrMzMxUVFRm\n",
       "ZmZERETc3NwyMjKqqqp2dnaIiIiYmJgiIiLu7u4AAAAU9Wx4AAAAAXRSTlMAQObYZgAAAxxJREFU\n",
       "SMe9Vk1oE1EQ/pLNn80mLV7Ui67gQajSHAQPIgkaqrcWJBWF0nowVdA2h2Iroi0FqQfRXCrezEWs\n",
       "KBJQTz109VT10HjoRSpGUeilWLQ/KrU6b/ZviG0Oi/ogebPz7c733rxvZhf4j6Pq+8lmYQfL9e58\n",
       "Tj/dACrq4pUPKi0jLvZZ08Gae/S2xWzrCMIpso8B95Xvhg+umMyIHeCmfXnF8Qe6gS4Dw+p+4AJN\n",
       "0W4fXBPCjlsp1N/Z/FcdIE1AOoOXCizx8sJFH1zbhR2wOC52Faz0nnf2PEmO6RLek5lsgn5vYOCy\n",
       "D6rgsLjYbU3lSYPnULMjlVP0e11FRG3mLLCcz7/xwRUuiYuTFn31jsnGnKU4GovAYC/Q0E72XeAw\n",
       "0MP+Uf6/tZRrTfGTrggKXlAXRcwUXNf5/wMfD42HOGFrdXHi6SzNm1QSbgO7kOR06F+s821CvEkZ\n",
       "ESfQtCFE7KAIkLfzLQ2VlM3sMjDUzkYFg7ZmVoB5qo2gemYnkECcl/hp1cpNBsEVyZXsEjtwUTQa\n",
       "orR4mVo228aC1ssIWZuPEEec4moLSpNkmwlWzaMZhhNlhCuSq2G+3eNy0XW4KOkBzhDFswu9kSb9\n",
       "h8eVHOai18p5hj+nMFWQXAciovpcFIGi4NqmDHIkOL9j7uGnKSWh714O0XOIdYpOhlsmnvRCcmXC\n",
       "FY/LRRExBdc51RCIK7bgiGzMLa8h2quu9jul3BzrBSYZHgeeVQWXXoyrAA35fP6MQC0Zc0IsOZPQ\n",
       "6Zk15VB5SDjlpW2teppHQAk1OZPr4yCnKVFFwTWf61izo0YEiqDYLfZSr9sxCr3vGwUNGU7X6viV\n",
       "zV5T+48p14haueIIF5Bm7VB2W1KC6zi0rx6XiwJbZI8qyI5iF4AYdo+yxx4SjRkdRXQN0RlxXkFa\n",
       "1ioGbbV4KLifumVXqt9kHqikO33r4zKibbPaKsaXckeLHleSKqb/p5k2rZPx0PXfKRsMbhZzte82\n",
       "YUckYP4ZICrflf11uUIqLUdqnPs34NIK60S4JInrfgM8VmJJ1TjNDbj0f/zRE/rrEX8DLp7KEuso\n",
       "EPoAAAAASUVORK5CYII=\n",
       "\" style=\"display:inline;vertical-align:middle;\" /></a></span></td></tr>\n",
       "<tr><td>&nbsp;</td><td colspan=4 style-\"text-align:left\"><a class=\"ProveItLink\" href=\"../../_proofs_/nandIfLeftButNotRight.ipynb\">proveit.logic.boolean.conjunction.nandIfLeftButNotRight</a></td></tr><tr><td>2</td><td>axiom</td><td></td><td><span style=\"font-size:20px;\"> <a class=\"ProveItLink\" href=\"../../../_axioms_.ipynb#trueAxiom\" style=\"text-decoration: none\">&#x22A2;&nbsp;</a><a class=\"ProveItLink\" href=\"../../../__pv_it/68a87cc3370287d726c7086ace789e680e4461c30/expr.ipynb\"><img src=\"data:image/png;base64,iVBORw0KGgoAAAANSUhEUgAAAA4AAAAOBAMAAADtZjDiAAAAFVBMVEX///92dnbMzMxEREQiIiJm\n",
       "ZmYAAABAT6GXAAAAAXRSTlMAQObYZgAAABhJREFUCNdjCHEBAWcGIFBlgABa0YpADAAxegPJJk4d\n",
       "XAAAAABJRU5ErkJggg==\n",
       "\" style=\"display:inline;vertical-align:middle;\" /></a></span></td></tr>\n",
       "<tr><td>&nbsp;</td><td colspan=4 style-\"text-align:left\"><a class=\"ProveItLink\" href=\"../../../_axioms_.ipynb#trueAxiom\">proveit.logic.boolean.trueAxiom</a></td></tr></table>"
      ],
      "text/plain": [
       "<proveit._core_.proof._ShowProof at 0x7f94eb32fd30>"
      ]
     },
     "execution_count": 1,
     "metadata": {},
     "output_type": "execute_result"
    }
   ],
   "source": [
    "import proveit\n",
    "%show_proof"
   ]
  },
  {
   "cell_type": "code",
   "execution_count": null,
   "metadata": {},
   "outputs": [],
   "source": []
  }
 ],
 "metadata": {
  "kernelspec": {
   "display_name": "Python 3",
   "language": "python",
   "name": "python3"
  }
 },
 "nbformat": 4,
 "nbformat_minor": 0
}
