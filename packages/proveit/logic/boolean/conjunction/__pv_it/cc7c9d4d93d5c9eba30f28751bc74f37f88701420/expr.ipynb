{
 "cells": [
  {
   "cell_type": "markdown",
   "metadata": {},
   "source": [
    "Expression of type <a class=\"ProveItLink\" href=\"../../../../../../../doc/html/api/proveit.Lambda.html\">Lambda</a>\n",
    "=======================\n",
    "# from context <a class=\"ProveItLink\" href=\"../../_context_.ipynb\">proveit.logic.boolean.conjunction</a>"
   ]
  },
  {
   "cell_type": "code",
   "execution_count": 1,
   "metadata": {},
   "outputs": [],
   "source": [
    "# import Expression classes needed to build the expression\n",
    "from proveit import Lambda\n",
    "from proveit._common_ import B\n",
    "from proveit.logic import And, FALSE, Not"
   ]
  },
  {
   "cell_type": "code",
   "execution_count": 2,
   "metadata": {},
   "outputs": [
    {
     "data": {
      "text/html": [
       "<strong id=\"expr\">expr:</strong> <a class=\"ProveItLink\" href=\"expr.ipynb\"><img src=\"data:image/png;base64,iVBORw0KGgoAAAANSUhEUgAAAM0AAAAVCAMAAADSD5oZAAAANlBMVEX///8UFBQNDQ2qqqru7u4i\n",
       "IiJ2dnbc3NyIiIjMzMxmZmYQEBC6uroyMjJERERUVFSYmJgAAAC3B9V0AAAAAXRSTlMAQObYZgAA\n",
       "Af5JREFUWMPVV9uSwyAIza7xHm///7PbaWIjoAluZzuzPJRWKocTEciy/AMR+m/9b2beci95g7qK\n",
       "2qa8pFLSQ2JgbrOJYdFmGtnZfblqDptO8D7uXgqPTlgZFuuoWZONEDlUNzNng4O3xRw6ccgYw7H0\n",
       "2AS8hpCzOh644rMhwZuy37NcFIeNXzmWDhsbJdqKkFe/L1fNYUOCj8dmOY6zveiBZemwSRs+Vowc\n",
       "xQI0gw0Jfj8jHeJJBkYsWudueIDAQtmsD6cSLmFk5aBmsMEuHhlnjHEyN/9BqKk5tJCHNSBfslEP\n",
       "sxMw5xGyCFDfsyEujsxbZRqyWdPZwfzu3MmXKGgZsZHPZ9jJ+RN581ATNgSVuKiZZ8r5bL+/JBB/\n",
       "Fm9Sxl9Nplyyyc87k2wn51/ItkB9cTYHKnFRS1tb0iS5wMu7bPZ6BjovQZ5ng13YyioVMWLjmlHJ\n",
       "ixEbYMFsxPE76CbnMfJtpmFU4qIWbF3C6N7YtrDGPGITr6pAZSEcaRUncg5Q37IhLo7Ms74dWGBf\n",
       "AG1IkettexbExkb6oCjyTIW2HRcu7lNbGBde3CPljeWoO/75GcnFqx20h1xHRzD/jiv0fPCd+UXP\n",
       "W5at+xX3119MNu9KVvMWnigD9SfY8N4IfiFrgPozbHSat3CkDhxJf5LNxXulfuNN2lioX+tcNj+S\n",
       "2xqk3l8rrwAAAABJRU5ErkJggg==\n",
       "\" style=\"display:inline;vertical-align:middle;\" /></a><br>"
      ],
      "text/plain": [
       "expr: B -> [not](FALSE and B) | [not](B)"
      ]
     },
     "execution_count": 2,
     "metadata": {},
     "output_type": "execute_result"
    }
   ],
   "source": [
    "# build up the expression from sub-expressions\n",
    "expr = Lambda(B, Not(And(FALSE, B)), conditions = [Not(B)])"
   ]
  },
  {
   "cell_type": "code",
   "execution_count": 3,
   "metadata": {},
   "outputs": [
    {
     "name": "stdout",
     "output_type": "stream",
     "text": [
      "Passed sanity check: built 'expr' is the same as the stored Expression.\n"
     ]
    }
   ],
   "source": [
    "# check that the built expression is the same as the stored expression\n",
    "%check_expr"
   ]
  },
  {
   "cell_type": "code",
   "execution_count": 4,
   "metadata": {},
   "outputs": [
    {
     "data": {
      "text/html": [
       "<table><tr><th>&nbsp;</th><th>core type</th><th>sub-expressions</th><th>expression</th></tr>\n",
       "<tr><td>0</td><td>Lambda</td><td>parameter:&nbsp;9<br>body:&nbsp;1<br>conditions:&nbsp;2<br></td><td><a class=\"ProveItLink\" href=\"expr.ipynb\"><img src=\"data:image/png;base64,iVBORw0KGgoAAAANSUhEUgAAAM0AAAAVCAMAAADSD5oZAAAANlBMVEX///8UFBQNDQ2qqqru7u4i\n",
       "IiJ2dnbc3NyIiIjMzMxmZmYQEBC6uroyMjJERERUVFSYmJgAAAC3B9V0AAAAAXRSTlMAQObYZgAA\n",
       "Af5JREFUWMPVV9uSwyAIza7xHm///7PbaWIjoAluZzuzPJRWKocTEciy/AMR+m/9b2beci95g7qK\n",
       "2qa8pFLSQ2JgbrOJYdFmGtnZfblqDptO8D7uXgqPTlgZFuuoWZONEDlUNzNng4O3xRw6ccgYw7H0\n",
       "2AS8hpCzOh644rMhwZuy37NcFIeNXzmWDhsbJdqKkFe/L1fNYUOCj8dmOY6zveiBZemwSRs+Vowc\n",
       "xQI0gw0Jfj8jHeJJBkYsWudueIDAQtmsD6cSLmFk5aBmsMEuHhlnjHEyN/9BqKk5tJCHNSBfslEP\n",
       "sxMw5xGyCFDfsyEujsxbZRqyWdPZwfzu3MmXKGgZsZHPZ9jJ+RN581ATNgSVuKiZZ8r5bL+/JBB/\n",
       "Fm9Sxl9Nplyyyc87k2wn51/ItkB9cTYHKnFRS1tb0iS5wMu7bPZ6BjovQZ5ng13YyioVMWLjmlHJ\n",
       "ixEbYMFsxPE76CbnMfJtpmFU4qIWbF3C6N7YtrDGPGITr6pAZSEcaRUncg5Q37IhLo7Ms74dWGBf\n",
       "AG1IkettexbExkb6oCjyTIW2HRcu7lNbGBde3CPljeWoO/75GcnFqx20h1xHRzD/jiv0fPCd+UXP\n",
       "W5at+xX3119MNu9KVvMWnigD9SfY8N4IfiFrgPozbHSat3CkDhxJf5LNxXulfuNN2lioX+tcNj+S\n",
       "2xqk3l8rrwAAAABJRU5ErkJggg==\n",
       "\" style=\"display:inline;vertical-align:middle;\" /></a></td></tr>\n",
       "<tr><td>1</td><td>Operation</td><td>operator:&nbsp;7<br>operand:&nbsp;3<br></td><td><a class=\"ProveItLink\" href=\"../aed4dcdda2f3bd22a453fcf7c03b3ec7141fa1d60/expr.ipynb\"><img src=\"data:image/png;base64,iVBORw0KGgoAAAANSUhEUgAAAFYAAAAVBAMAAAAutAQGAAAAMFBMVEX////c3NxERESqqqqYmJgQ\n",
       "EBDu7u4yMjKIiIi6urpUVFTMzMx2dnYiIiJmZmYAAABjE816AAAAAXRSTlMAQObYZgAAAT5JREFU\n",
       "KM9jYCALcDbgk2WZgMzbBSIYMTV4/V+1Sn0Cw2tksTIQwf0AxmVMgLGCGBj4fjKwIynlaEBVyw5j\n",
       "cf8A4l8MLAcQalkTUNVuugYz5CPQtX8Y2AIQaqczoKpd2QFlMAEV8YYxMCgj1L5BVctWwAtl8S9g\n",
       "YCwCWnoOobYEVS2PA58BhLV/RcdbByBtzvD2LhDcATIjUdXyMjAWQFj9Agxst4D0VETQ/kRV68HA\n",
       "sBrCUgWpBxq8H6faa9DIYWD4BcT+B1DUBqOoZQbS7AJgkS9AYr0BihtUUNSC1DE/gAUv43cgwx0a\n",
       "NQywIIGp3QQiLsCCd2sZA0qYzQXGOjBIYu/eVQDFBEgIFBt8+r9WLQeHZyVSHAsgJyRwCuREFkGO\n",
       "Y+S0gQ3wNKCnSdwgHZkjhV/tQmQOI948xLGBAQClR1X6sUA92gAAAABJRU5ErkJggg==\n",
       "\" style=\"display:inline;vertical-align:middle;\" /></a></td></tr>\n",
       "<tr><td>2</td><td>ExprTuple</td><td>4</td><td><a class=\"ProveItLink\" href=\"../8843824c5e7a089bd60f2c14050c86b6b86a038f0/expr.ipynb\"><img src=\"data:image/png;base64,iVBORw0KGgoAAAANSUhEUgAAACsAAAAVBAMAAAAtAwouAAAAMFBMVEX////c3NwiIiJERESqqqqY\n",
       "mJh2dnZmZmYQEBDu7u4yMjJUVFTMzMyIiIi6uroAAAAs73DqAAAAAXRSTlMAQObYZgAAAO5JREFU\n",
       "GNNjYMAB+C6gi8SBiNMIfvT/3butHjCwHwCyVyKpa2ZgYP/HwLCAgYEXyQyev0D8m4EhjIGBYwJC\n",
       "mPcjAwPrNwaGGQwMr5DMYG5gYGDqBNIODGVIwvwbGBgXA3WzFTAsRRI+v/duUQCQZlnA0Ae0XAkE\n",
       "EhgY7gswcGqDvNLA8A/mig0MDBZA+j5QOc8HFGGg2xjiE8DCLQhhnq9Aer8D2BBThDDI2Yy/gGzW\n",
       "BQzpMGccADv7BCgsgA58BHceu/3v3bvA7uV6wMAhgBnWQM+zJmAK56IFLARwAgOWQRpDmBtkLiNG\n",
       "pN1hYAAA72Q6LUaD+kYAAAAASUVORK5CYII=\n",
       "\" style=\"display:inline;vertical-align:middle;\" /></a></td></tr>\n",
       "<tr><td>3</td><td>Operation</td><td>operator:&nbsp;5<br>operands:&nbsp;6<br></td><td><a class=\"ProveItLink\" href=\"../d70bec0bf8ae836788c786948dc6431ebd73b89a0/expr.ipynb\"><img src=\"data:image/png;base64,iVBORw0KGgoAAAANSUhEUgAAADYAAAAPBAMAAABdHiGLAAAAMFBMVEX///+qqqqYmJh2dna6urpU\n",
       "VFQyMjLu7u5EREQQEBAiIiJmZmbMzMyIiIjc3NwAAACSigvEAAAAAXRSTlMAQObYZgAAAMdJREFU\n",
       "GNNjYGBgeMuADlT/h4a2OYBYp2FCfAUw1gwGBu4vKHJsG6AMnr9A/BVF7sRyKIP3HwMD02cUuZC7\n",
       "UAbHBAYGrunIcuwJXFAWfwADX0YBshyzArcAhHU+9u4uBQZkOS4GvgQI6/4DBvalKHK6DAwxEFYn\n",
       "SF4BWQ7oyqMQFsj5+gZIcoxA37E9AHvvE5CIF0CSA4kzboB5j+8bsn0nQMQCmPdOpjMw7Fq1auWq\n",
       "VStAPgcJg3zP3f81NCwJJfDB4c6CJAAAtk823bZEI+EAAAAASUVORK5CYII=\n",
       "\" style=\"display:inline;vertical-align:middle;\" /></a></td></tr>\n",
       "<tr><td>4</td><td>Operation</td><td>operator:&nbsp;7<br>operand:&nbsp;9<br></td><td><a class=\"ProveItLink\" href=\"../1da4e2fe7c44632f084fa27ea32e26dc689384c20/expr.ipynb\"><img src=\"data:image/png;base64,iVBORw0KGgoAAAANSUhEUgAAAB0AAAAOBAMAAAAh/woJAAAAMFBMVEX///+qqqru7u7c3NyIiIgQ\n",
       "EBC6uroyMjJERESYmJhUVFTMzMx2dnYiIiJmZmYAAADtoHoAAAAAAXRSTlMAQObYZgAAAHpJREFU\n",
       "CNdjYIACzvW/Vq0oY0AA1gYGhvcJCP5+ByBegOD7GzAwzD+A4LcC8VUFBP8XA4N5E4LL/cvF7yaQ\n",
       "fnsXCO4wMLB8ZmDQhRm3i4GBIwAo9hPB5wfKcf5B8PdPYGDg+ojgg6y3L4AZDraeOxxh/Yv/q1aV\n",
       "A7UAAFRxJOZ+1MVPAAAAAElFTkSuQmCC\n",
       "\" style=\"display:inline;vertical-align:middle;\" /></a></td></tr>\n",
       "<tr><td>5</td><td>Literal</td><td></td><td><a class=\"ProveItLink\" href=\"../76b5f4f4c45c0b6a9b59b297fc07dfa9555698f50/expr.ipynb\"><img src=\"data:image/png;base64,iVBORw0KGgoAAAANSUhEUgAAAAwAAAAOBAMAAADpk+DfAAAALVBMVEX///+qqqqYmJh2dnaIiIi6\n",
       "urpUVFQiIiJERETMzMxmZmYyMjLu7u7c3NwAAABvwqPxAAAAAXRSTlMAQObYZgAAAEtJREFUCNdj\n",
       "YGDgPcAAAtwLwNSMGjCV6gIieTawgyhmBS4BIMXOwLsBSKkwMGQCKaC6aQwMjEBd3BdACMScAVJd\n",
       "wJAKolwYAkAUKwAk0guX6efcigAAAABJRU5ErkJggg==\n",
       "\" style=\"display:inline;vertical-align:middle;\" /></a></td></tr>\n",
       "<tr><td>6</td><td>ExprTuple</td><td>8, 9</td><td><a class=\"ProveItLink\" href=\"../32fa11e0d460a97a7d19a4fd36e0b53258163d570/expr.ipynb\"><img src=\"data:image/png;base64,iVBORw0KGgoAAAANSUhEUgAAADYAAAAVBAMAAAD/UwB2AAAAMFBMVEX////c3NwiIiJERESqqqqY\n",
       "mJh2dnZmZmYQEBDu7u4yMjJUVFTMzMyIiIi6uroAAAAs73DqAAAAAXRSTlMAQObYZgAAAPtJREFU\n",
       "KM9jYMAH+C5gFWZ9ACROg1iMCAWs+3/v3ryOgaEGyF4JEuApQOjgMGBgqH/AwMXAwHsBXe48UOT8\n",
       "BgbWBAaOCehy9wUYGOITGDgbGF4xoMtZALEGUIcJQxmG3G8GBilLIJ3OsBRdjuf33euqIIYXQx+6\n",
       "HO9HBoZJG4CMFwz/0OWYG4DyX0HuxZTjB+ph/QaWa0GXOx/AwMD9BWymKZLcBJj35BcAGVFAl8Ll\n",
       "OD9BvcfTNQHsh0cMDOxKSkpNSkoGnP1ALcX/d+9eFQBStI6BQwApupDYoDADBikiepAjkO0CNI6w\n",
       "yM0CYmkEFyUFbESNcmTAe4ABAJ4xQRO/+5dLAAAAAElFTkSuQmCC\n",
       "\" style=\"display:inline;vertical-align:middle;\" /></a></td></tr>\n",
       "<tr><td>7</td><td>Literal</td><td></td><td><a class=\"ProveItLink\" href=\"../../../negation/__pv_it/7bea79645543c2413aa17e787cca04e21046fde60/expr.ipynb\"><img src=\"data:image/png;base64,iVBORw0KGgoAAAANSUhEUgAAAAwAAAAGBAMAAAAFwGKyAAAAFVBMVEX///9UVFTMzMx2dnYiIiJm\n",
       "ZmYAAACWz4ZEAAAAAXRSTlMAQObYZgAAABRJREFUCNdjCHEBAmcGMFDEQzEBAEl+Ai6uYJv/AAAA\n",
       "AElFTkSuQmCC\n",
       "\" style=\"display:inline;vertical-align:middle;\" /></a></td></tr>\n",
       "<tr><td>8</td><td>Literal</td><td></td><td><a class=\"ProveItLink\" href=\"../../../__pv_it/8f1f7fac882de28c72b62ab80a1700b6d8fd066b0/expr.ipynb\"><img src=\"data:image/png;base64,iVBORw0KGgoAAAANSUhEUgAAAA4AAAAOBAMAAADtZjDiAAAAG1BMVEX///9EREQQEBAiIiJmZmbM\n",
       "zMyIiIjc3NwAAACryk5kAAAAAXRSTlMAQObYZgAAABlJREFUCNdjYGBgKGOAgBBa0s7GxkbGxoYA\n",
       "FMUF2aBfHgoAAAAASUVORK5CYII=\n",
       "\" style=\"display:inline;vertical-align:middle;\" /></a></td></tr>\n",
       "<tr><td>9</td><td>Variable</td><td></td><td><a class=\"ProveItLink\" href=\"../../../../../__pv_it/077b2ff79244fb4582cbe22c6e3356fa92a52f2f0/expr.ipynb\"><img src=\"data:image/png;base64,iVBORw0KGgoAAAANSUhEUgAAABAAAAAOBAMAAADUAYG5AAAAMFBMVEX///+qqqru7u4iIiJ2dnbc\n",
       "3NyIiIjMzMxmZmYQEBC6uroyMjJERERUVFSYmJgAAADLUcuvAAAAAXRSTlMAQObYZgAAAGpJREFU\n",
       "CNdjYGB4+//u3dMLGIBgDgMDxy8gzf4NiP8CGWxfGRj4vgAZPBMYGJgnARn8FxhY9ygAGfXX0pof\n",
       "gDTlBzAw2YIYJ0EckBBI53sHoBH/gIz7AhBjWH9DjancBLTl/N+7t/cxMAAA3u4f/5xagjYAAAAA\n",
       "SUVORK5CYII=\n",
       "\" style=\"display:inline;vertical-align:middle;\" /></a></td></tr>\n",
       "</table>\n"
      ],
      "text/plain": [
       "0. B -> [not](FALSE and B) | [not](B)\n",
       "   core type: Lambda\n",
       "   parameter: 9\n",
       "   body: 1\n",
       "   conditions: 2\\n1. [not](FALSE and B)\n",
       "   core type: Operation\n",
       "   operator: 7\n",
       "   operand: 3\n",
       "2. ([not](B))\n",
       "   core type: ExprTuple\n",
       "   sub-expressions: 4\n",
       "3. FALSE and B\n",
       "   core type: Operation\n",
       "   operator: 5\n",
       "   operands: 6\n",
       "4. [not](B)\n",
       "   core type: Operation\n",
       "   operator: 7\n",
       "   operand: 9\n",
       "5. and\n",
       "   core type: Literal\n",
       "   sub-expressions: \n",
       "6. (FALSE , B)\n",
       "   core type: ExprTuple\n",
       "   sub-expressions: 8, 9\n",
       "7. not\n",
       "   core type: Literal\n",
       "   sub-expressions: \n",
       "8. FALSE\n",
       "   core type: Literal\n",
       "   sub-expressions: \n",
       "9. B\n",
       "   core type: Variable\n",
       "   sub-expressions: "
      ]
     },
     "execution_count": 4,
     "metadata": {},
     "output_type": "execute_result"
    }
   ],
   "source": [
    "# display the expression information\n",
    "expr.exprInfo()"
   ]
  },
  {
   "cell_type": "code",
   "execution_count": null,
   "metadata": {},
   "outputs": [],
   "source": []
  }
 ],
 "metadata": {
  "kernelspec": {
   "display_name": "Python 3",
   "language": "python",
   "name": "python3"
  }
 },
 "nbformat": 4,
 "nbformat_minor": 0
}
