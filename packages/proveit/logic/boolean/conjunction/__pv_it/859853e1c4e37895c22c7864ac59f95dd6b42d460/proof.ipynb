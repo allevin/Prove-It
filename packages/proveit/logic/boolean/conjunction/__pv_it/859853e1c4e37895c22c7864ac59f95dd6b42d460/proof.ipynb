{
 "cells": [
  {
   "cell_type": "markdown",
   "metadata": {},
   "source": [
    "Show the Proof\n",
    "========"
   ]
  },
  {
   "cell_type": "code",
   "execution_count": 1,
   "metadata": {},
   "outputs": [
    {
     "data": {
      "text/html": [
       "<table><tr><th>&nbsp;</th><th>step type</th><th>requirements</th><th>statement</th></tr>\n",
       "<tr><td>0</td><td>specialization</td><td>1</td><td><span style=\"font-size:20px;\"> <a class=\"ProveItLink\" href=\"proof.ipynb\" style=\"text-decoration: none\">&#x22A2;&nbsp;</a><a class=\"ProveItLink\" href=\"../1c40e0ff82495b34b29cacf99038c22ca6ade0a50/expr.ipynb\"><img src=\"data:image/png;base64,iVBORw0KGgoAAAANSUhEUgAAAQYAAAAVBAMAAABWLl2OAAAAMFBMVEX///+YmJhmZmZERETu7u4Q\n",
       "EBAyMjJUVFQiIiLMzMyIiIi6urp2dnbc3NyqqqoAAADDagbPAAAAAXRSTlMAQObYZgAAAnhJREFU\n",
       "SMedlj9oE1Ecx3+n1yR3yaVBEQeXTCpdDG6CYIVkKUgLkqGLcdJFbMBFXFpwUCePVmcDBRFT6EE3\n",
       "QVocdAjSDIKLkCxCl0JaKxrU/Lz3L7l3f947+hse716+v/f95PfuvXewD8eLYlc3kDb2ocM61iiF\n",
       "+lV/0i94oR/FQFCUFJJbRzDk/qZgeL6TgiEoSgrJbcyw+0ufWcCmnkESJYXkJhgs/J1iKXBFzyCJ\n",
       "kpZCchMMmV3UM9zDgZ5BEiWE7CYY3kzhrC7TXmkcaRlkUULIbpzBGWbQ02X23KU/WgZZFB8hN85w\n",
       "snwCS/46VVSpl+HSQdjy/B0SdycDXLSmmoi7hRjOgI1lsC6oXidjATYPdXXgotWHKgbmFmIwR5BH\n",
       "vwZFFcN8H7Z/6BiEaE8xkXCTGbI/6w2ypZQMy/V6cEvFMwiRikG4yQzfX1RvkC2lYiguVqs9f0ud\n",
       "am80314RDBefkngsGIRIycDdjJl3n+x1lzOYt8gR+48xmEQ2K5rJU82/BnLYNc8dwBM4m1AHLmIM\n",
       "Uj7tsIa7Xd8u5ZpGkzN8JYtzbcQY5gkHKSdtxk/OA/JCY9+Zuw1D+BDPIESUQc4nHdYIty+vYdot\n",
       "lBnDNPonxjLikDLU/HqYN4E3NT/BbPh/DPEIsojoZlvWAtyPZxiLKANJo/liIjr3xO0RvIRMP3Bn\n",
       "sTUnnO8jC5gPfhlMuXbFGXjJ9yaNvXAaC2nuRViHXj6WoRQ9GaTTErIto7KTgsGIvo7BuZ2BX4nT\n",
       "hRCD8/GwpWXYgpxrXe2qGb4tzWgZ8hV4Bmufw3Wgl040sxX7MeHpBqJpduxe7UD7mF+BtqcbSBvt\n",
       "/6joHCyCI3W6AAAAAElFTkSuQmCC\n",
       "\" style=\"display:inline;vertical-align:middle;\" /></a></span></td></tr>\n",
       "<tr><td>&nbsp;</td><td colspan=4 style=\"text-align:left\"><span style=\"font-size:20px;\"><a class=\"ProveItLink\" href=\"../../../../../__pv_it/530be409e3083890784cf1d7b28c9e67e90af9360/expr.ipynb\"><img src=\"data:image/png;base64,iVBORw0KGgoAAAANSUhEUgAAAAsAAAAJBAMAAAAWSsseAAAAKlBMVEX///9ERETMzMwQEBAiIiKY\n",
       "mJju7u5mZmaqqqpUVFSIiIh2dnbc3NwAAAA/vyDhAAAAAXRSTlMAQObYZgAAAENJREFUCNdjYDi9\n",
       "8sTyBQxsG1hdmR0YuBm4LnAoMLAxcAowgADzAjB1VoEhgYH1wFoGrgSG3gBhhlMMDImrs3cFMAAA\n",
       "t0YN+iTRa+sAAAAASUVORK5CYII=\n",
       "\" style=\"display:inline;vertical-align:middle;\" /></a> : <a class=\"ProveItLink\" href=\"../81cdd1bb4955c54846295a6ce8eaae0f51fd8fe70/expr.ipynb\"><img src=\"data:image/png;base64,iVBORw0KGgoAAAANSUhEUgAAAHMAAAAVBAMAAACHwMySAAAAMFBMVEX///+YmJhmZmZERETu7u4Q\n",
       "EBAyMjJUVFQiIiLMzMyIiIi6urp2dnbc3NyqqqoAAADDagbPAAAAAXRSTlMAQObYZgAAAUVJREFU\n",
       "OMtjeMtAHuC7wHAawuL8R4RyZEU8G2BaOf4QoRVZEULr+e9EaEVWBNfK+f8HEe5FVgTXynb+P2Gt\n",
       "KIrgWlew/ncgqBVFEUwr70+2/xsI6URVBNPKrMD0XwDoGQN8WqGK0LSKMnD9V2DgVG/ApxWiCE0r\n",
       "yz8G7v9AG/nwaYUpQtXK/jU0/n8DAa0wRahan05x8f3/gYBWqCJGrV3HuRZPgGpliQPK9P+FaGUB\n",
       "Ow5EOCAz4Ioc9wtwFDAWQLVeB/nA/h9Eqz/IZhDB8gOZAVd0ZRkD/wQeBYhW/v/AmK7///8nWKsr\n",
       "0HYGV6A6lmAYI/4CA5KiKoapDGwPkJI/JA+CbNyL4UvuC8i8SIbFDPe5sWoVwNDKiJKmPgDtFeZB\n",
       "08p77NMCglq5DRg6GSafRbcVBLgwo2UBtrgCal1NZtnEtQEA9mCF6Tj6HisAAAAASUVORK5CYII=\n",
       "\" style=\"display:inline;vertical-align:middle;\" /></a></span></td></tr><tr><td>1</td><td>axiom</td><td></td><td><span style=\"font-size:20px;\"> <a class=\"ProveItLink\" href=\"../../../../equality/_axioms_.ipynb#equalsReflexivity\" style=\"text-decoration: none\">&#x22A2;&nbsp;</a><a class=\"ProveItLink\" href=\"../../../../equality/__pv_it/97b1dd4e9ed3b749f492ebdad1f4680f58c765fe0/expr.ipynb\"><img src=\"data:image/png;base64,iVBORw0KGgoAAAANSUhEUgAAAGIAAAAVBAMAAABPrCZEAAAAMFBMVEX///8QEBC6urrMzMxUVFRm\n",
       "ZmZERETc3NwyMjKqqqp2dnaIiIiYmJgiIiLu7u4AAAAU9Wx4AAAAAXRSTlMAQObYZgAAAVBJREFU\n",
       "OMtjYCAZPMAQYdqAWzWPAgPDBRDjNLKoCT4LghkYVoLoPmTBPnw6OBgYyoAUewKSGPcGfDp4FjBw\n",
       "AD3COgFJjPEBPh18Agw8y8vLa5HFNPCHVCYDw7e0tFvIQlFAXLWlciu646BiSxkYnBkY0pFleoBW\n",
       "L+C5wwgKRNYOMHBgQIjNYGBQYeBrQNYhxMDAxcD9gdMA1QqYmCIDAy8D9wFkqU9A8xhYEjC8DBWz\n",
       "B4bmAd4HaDqAAYYliCFiQB18DaBIXu20BeoMSRBRbwBOPqx3wQBiIUQM6CqGdCegKx+4MUIjJQcY\n",
       "TQX7GbjRogUmdgLIngoMASZQEEEAMPjmH0hkqEZzE0xsKdx932FSugwMz3a9Wn0ATQdMrAlkH8h+\n",
       "ZgFmmAcLCKQSCLDnauBCpDU8gAsWiM92Rq8jKrW/wCZYgk+HOzZBdjwZhNuAAQCEL1prSIrv2QAA\n",
       "AABJRU5ErkJggg==\n",
       "\" style=\"display:inline;vertical-align:middle;\" /></a></span></td></tr>\n",
       "<tr><td>&nbsp;</td><td colspan=4 style-\"text-align:left\"><a class=\"ProveItLink\" href=\"../../../../equality/_axioms_.ipynb#equalsReflexivity\">proveit.logic.equality.equalsReflexivity</a></td></tr></table>"
      ],
      "text/plain": [
       "<proveit._core_.proof._ShowProof at 0x7f94ebf8c828>"
      ]
     },
     "execution_count": 1,
     "metadata": {},
     "output_type": "execute_result"
    }
   ],
   "source": [
    "import proveit\n",
    "%show_proof"
   ]
  },
  {
   "cell_type": "code",
   "execution_count": null,
   "metadata": {},
   "outputs": [],
   "source": []
  }
 ],
 "metadata": {
  "kernelspec": {
   "display_name": "Python 3",
   "language": "python",
   "name": "python3"
  }
 },
 "nbformat": 4,
 "nbformat_minor": 0
}
