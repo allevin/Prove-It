{
 "cells": [
  {
   "cell_type": "markdown",
   "metadata": {},
   "source": [
    "Expression of type <a class=\"ProveItLink\" href=\"../../../../../../../doc/html/api/proveit.Lambda.html\">Lambda</a>\n",
    "=======================\n",
    "# from context <a class=\"ProveItLink\" href=\"../../_context_.ipynb\">proveit.logic.boolean.conjunction</a>"
   ]
  },
  {
   "cell_type": "code",
   "execution_count": 1,
   "metadata": {},
   "outputs": [],
   "source": [
    "# import Expression classes needed to build the expression\n",
    "from proveit import Lambda\n",
    "from proveit._common_ import A, B\n",
    "from proveit.logic import And, Equals, FALSE"
   ]
  },
  {
   "cell_type": "code",
   "execution_count": 2,
   "metadata": {},
   "outputs": [
    {
     "data": {
      "text/html": [
       "<strong id=\"expr\">expr:</strong> <a class=\"ProveItLink\" href=\"expr.ipynb\"><img src=\"data:image/png;base64,iVBORw0KGgoAAAANSUhEUgAAANwAAAAVCAMAAAAaY3DPAAAANlBMVEX///8UFBQNDQ2qqqru7u4i\n",
       "IiJ2dnbc3NyIiIjMzMxmZmYQEBC6uroyMjJERERUVFSYmJgAAAC3B9V0AAAAAXRSTlMAQObYZgAA\n",
       "AjpJREFUWMPVWNmWgyAMdQaUTbb//9lxFGoWbcHDPExeYtuTXC5Z7TT9dxFquMtVY/1A0jrEZvng\n",
       "JsWc4ybBt+KZiHX5NHfhWNOIps4b5DaE3AUXFw7T3MjOS6zLp0wOJakdxvGtV2kBxsfIUS4m66Jj\n",
       "E5rWWJdLmzNm4y09JcZJSz85ZkPJMS46H1WZchuck1gfcRI2o+I2YSahIzjS9ZNjNpQc4xKKxexk\n",
       "UzfxWBevm18EFFdN2g3FCaKbHLOh5BiXI4LKB3mT2wJ5tAvWB1M5iZzAF3JzQToMxVlsPzlqQ8lR\n",
       "jC09tdZ2hkcjx4owpD5hvVNZz3QvqNuvVuByIDjivELrgcQ35IR/S45hlDSVc7wlJyMoJ7divQfu\n",
       "97qyJdej/EU5nDir648ctSHkGEZNUw3S6vtrRuJAPdVH8JX5nS0xB9DW9ihGc1EOLxyT+8lRG0KO\n",
       "YdSmCZslnccR+Lggdzw5EKijU6Ipz3D+gBzFMJVkzOKOnIVN3gmst0KoHeosjXIgr8CxKA5IMQvT\n",
       "JDxOS4ZRJ4PK/q7mDOrpIWG9jTi2olRSwrIJdOIk3x+59LahMIySpsbBZQpPKDz+ajeuWla88FpR\n",
       "TOC3xHHGjwKCYcOxaXrY2D8M8RlqFVze45Q2T3XjOku0DvIrnI+LeklWB5KV2kByD7hcrF8K6wv+\n",
       "l49EWtevtzbLOo2Vur22br43sugBNsPJ3bzy9AbBj7AZT05FrB9JVCNsxpN7vRyr538zaDPERt+T\n",
       "+wH9Xx08WSveRAAAAABJRU5ErkJggg==\n",
       "\" style=\"display:inline;vertical-align:middle;\" /></a><br>"
      ],
      "text/plain": [
       "expr: B -> ((A and B) = FALSE) | B"
      ]
     },
     "execution_count": 2,
     "metadata": {},
     "output_type": "execute_result"
    }
   ],
   "source": [
    "# build up the expression from sub-expressions\n",
    "expr = Lambda(B, Equals(And(A, B), FALSE), conditions = [B])"
   ]
  },
  {
   "cell_type": "code",
   "execution_count": 3,
   "metadata": {},
   "outputs": [
    {
     "name": "stdout",
     "output_type": "stream",
     "text": [
      "Passed sanity check: built 'expr' is the same as the stored Expression.\n"
     ]
    }
   ],
   "source": [
    "# check that the built expression is the same as the stored expression\n",
    "%check_expr"
   ]
  },
  {
   "cell_type": "code",
   "execution_count": 4,
   "metadata": {},
   "outputs": [
    {
     "data": {
      "text/html": [
       "<table><tr><th>&nbsp;</th><th>core type</th><th>sub-expressions</th><th>expression</th></tr>\n",
       "<tr><td>0</td><td>Lambda</td><td>parameter:&nbsp;10<br>body:&nbsp;1<br>conditions:&nbsp;2<br></td><td><a class=\"ProveItLink\" href=\"expr.ipynb\"><img src=\"data:image/png;base64,iVBORw0KGgoAAAANSUhEUgAAANwAAAAVCAMAAAAaY3DPAAAANlBMVEX///8UFBQNDQ2qqqru7u4i\n",
       "IiJ2dnbc3NyIiIjMzMxmZmYQEBC6uroyMjJERERUVFSYmJgAAAC3B9V0AAAAAXRSTlMAQObYZgAA\n",
       "AjpJREFUWMPVWNmWgyAMdQaUTbb//9lxFGoWbcHDPExeYtuTXC5Z7TT9dxFquMtVY/1A0jrEZvng\n",
       "JsWc4ybBt+KZiHX5NHfhWNOIps4b5DaE3AUXFw7T3MjOS6zLp0wOJakdxvGtV2kBxsfIUS4m66Jj\n",
       "E5rWWJdLmzNm4y09JcZJSz85ZkPJMS46H1WZchuck1gfcRI2o+I2YSahIzjS9ZNjNpQc4xKKxexk\n",
       "UzfxWBevm18EFFdN2g3FCaKbHLOh5BiXI4LKB3mT2wJ5tAvWB1M5iZzAF3JzQToMxVlsPzlqQ8lR\n",
       "jC09tdZ2hkcjx4owpD5hvVNZz3QvqNuvVuByIDjivELrgcQ35IR/S45hlDSVc7wlJyMoJ7divQfu\n",
       "97qyJdej/EU5nDir648ctSHkGEZNUw3S6vtrRuJAPdVH8JX5nS0xB9DW9ihGc1EOLxyT+8lRG0KO\n",
       "YdSmCZslnccR+Lggdzw5EKijU6Ipz3D+gBzFMJVkzOKOnIVN3gmst0KoHeosjXIgr8CxKA5IMQvT\n",
       "JDxOS4ZRJ4PK/q7mDOrpIWG9jTi2olRSwrIJdOIk3x+59LahMIySpsbBZQpPKDz+ajeuWla88FpR\n",
       "TOC3xHHGjwKCYcOxaXrY2D8M8RlqFVze45Q2T3XjOku0DvIrnI+LeklWB5KV2kByD7hcrF8K6wv+\n",
       "l49EWtevtzbLOo2Vur22br43sugBNsPJ3bzy9AbBj7AZT05FrB9JVCNsxpN7vRyr538zaDPERt+T\n",
       "+wH9Xx08WSveRAAAAABJRU5ErkJggg==\n",
       "\" style=\"display:inline;vertical-align:middle;\" /></a></td></tr>\n",
       "<tr><td>1</td><td>Operation</td><td>operator:&nbsp;3<br>operands:&nbsp;4<br></td><td><a class=\"ProveItLink\" href=\"../0fc735d8e5882fa161f9a395b944ce0f4e1787270/expr.ipynb\"><img src=\"data:image/png;base64,iVBORw0KGgoAAAANSUhEUgAAAHAAAAAVBAMAAABs93eRAAAAMFBMVEX////c3NwiIiJERESqqqqY\n",
       "mJh2dnZmZmYQEBDu7u4yMjJUVFTMzMyIiIi6uroAAAAs73DqAAAAAXRSTlMAQObYZgAAAYxJREFU\n",
       "OMtjYCAb8F3AJ8v6AKfUaQh1CF3H/t+7N69jYKjBokUWTK6EcNZDBSVhshwGDAz1Dxi4sGg8DiJ4\n",
       "IS5l1Z8AEVwOkz0PlDi/gYE1AYdGDogGkXoBMM1jBDWA4T5QID6BgbMBh8ZXEPaF+5BQ4H4LCysL\n",
       "INYAmmKCQ2MZJGgn+AeAGbMYFKCyvxkYpCyBdDoOjUvBzHlgLwFBKkMJRJLn993rqiCGF4ioWgUC\n",
       "q5E19oGZDxjkC8AMBQYpiCTvRwaGSRuAjBc4bPwHNn737v0G4MC9wMB9ACzJDAwU3q+g0MWnkQ8Y\n",
       "ugtADKYJDDwbwJL8QIr1Gx6NLSDCAagFHOzuQLwQEo3AwOL+AnNqkRIIKCNrNAViRqBGrg8MUE3u\n",
       "8GiUB7kiCoeN6eA4APrpJ8ivII8ywaKRp2sCnuh4xMAg3L+QgdX+FzBYuR/AEmHx/927V4Gjdh2a\n",
       "LqCrNUCu5hBAzmLQuEEC2JIcJHUn4M+ubDiz60r8GmfhlJHGr3EjThlGvEUH7wEcEgCi6WcgTfwD\n",
       "wAAAAABJRU5ErkJggg==\n",
       "\" style=\"display:inline;vertical-align:middle;\" /></a></td></tr>\n",
       "<tr><td>2</td><td>ExprTuple</td><td>10</td><td><a class=\"ProveItLink\" href=\"../a1a19f6677ed3601feaa5e06d5228e69f2c236a10/expr.ipynb\"><img src=\"data:image/png;base64,iVBORw0KGgoAAAANSUhEUgAAAB0AAAAVBAMAAABI7vhRAAAAMFBMVEX////c3NwiIiJERESqqqqY\n",
       "mJh2dnZmZmYQEBDu7u4yMjJUVFTMzMyIiIi6uroAAAAs73DqAAAAAXRSTlMAQObYZgAAANhJREFU\n",
       "GNNjYEAHfBfgzDgQcRqIo//v3m31gIH9AJC9EiTYzMDA/o+BYQEDAy9IOc9fIP7NwBDGwMAxAcjn\n",
       "/cjAwPqNgWEGA8MrkHLmBgYGpk4g7cBQBuLzb2BgXAxUyFbAsBTEP7/3blEAkGZZwNAH4t8XYODU\n",
       "BrmlgeEfiG8BEgMq4PkA4QOtYohPAPNbQNZ/BRL7HcDqTaHWM/4CMlgXMKRDrT8BcjfQvkdAl9v/\n",
       "3r0LbC/XAwYOASS/A93LmoDEz4X5FwI4gf5lkEbwuUF6GRHhdYeBAQDRdzVsr93CgQAAAABJRU5E\n",
       "rkJggg==\n",
       "\" style=\"display:inline;vertical-align:middle;\" /></a></td></tr>\n",
       "<tr><td>3</td><td>Literal</td><td></td><td><a class=\"ProveItLink\" href=\"../../../../equality/__pv_it/2fb26078095930560931daa0500ce419a39ea6cd0/expr.ipynb\"><img src=\"data:image/png;base64,iVBORw0KGgoAAAANSUhEUgAAAA4AAAAFBAMAAACHocAhAAAAFVBMVEX///9EREQiIiJUVFQyMjJm\n",
       "ZmYAAADubVkoAAAAAXRSTlMAQObYZgAAABRJREFUCNdjCHEBAWcGXCBICQQUAUpuAwlgGKrkAAAA\n",
       "AElFTkSuQmCC\n",
       "\" style=\"display:inline;vertical-align:middle;\" /></a></td></tr>\n",
       "<tr><td>4</td><td>ExprTuple</td><td>5, 6</td><td><a class=\"ProveItLink\" href=\"../8082daa44b381c7bf71039c07968464372a58e3f0/expr.ipynb\"><img src=\"data:image/png;base64,iVBORw0KGgoAAAANSUhEUgAAAF0AAAAVBAMAAADWVP/xAAAAMFBMVEX////c3NwiIiJERESqqqqY\n",
       "mJh2dnZmZmYQEBDu7u4yMjJUVFTMzMyIiIi6uroAAAAs73DqAAAAAXRSTlMAQObYZgAAAZRJREFU\n",
       "KM9jYCAV8F0gWmkciDgNYR9Ck2Pd/3v35nVwriyIYD8AJFZCBNZDJSRhKjgMGBjqH8B4x8HkAgYG\n",
       "XohzWPUnQCSWw1ScB0qc34CqPgxoDESdSL0AmOYxgupjuA8UiE9AVT+DgeEVhH/hPsRq7rcw71sA\n",
       "scYEVPXMDgxlkECa4B8AZsxiUICq+M3AIGXJgKqerYBhKZgxD+xcIEhlKIEo4Pl997oqA5p6lgUM\n",
       "fWDGAwb5AjBDgUEKooD3IwPDpA1o6vkaGP6BDdu9e78BOJguMHAfgDi1AajnK5p6ng8Q9XzAcFoA\n",
       "YjBNYOCBGMoPpFi/YapvAdEOQJUNIIY7EC+EBD/Q/9xfMN1jCqQYgeq5PjBA1brDg18eaOcEZPWs\n",
       "CxjSwYEIdO9PkH0gTzDBgp+nawID5ye08HzEwCDcv5CB1f4XMIC4QZEGTiHF/3fvXgV0Emc/0J4i\n",
       "JSUNJSVloCMeMHAIIKdtaOAiCyHLA9MDawL+NM+KzMlFpGdi1HOCwlwav3rk3McNchsj8fnxDgMD\n",
       "ABegZNHJJs78AAAAAElFTkSuQmCC\n",
       "\" style=\"display:inline;vertical-align:middle;\" /></a></td></tr>\n",
       "<tr><td>5</td><td>Operation</td><td>operator:&nbsp;7<br>operands:&nbsp;8<br></td><td><a class=\"ProveItLink\" href=\"../42be287793a6c836f70efb0ab4503e1a268d24400/expr.ipynb\"><img src=\"data:image/png;base64,iVBORw0KGgoAAAANSUhEUgAAADcAAAAPBAMAAACy3Eq1AAAAMFBMVEX///92dnYQEBBERERUVFS6\n",
       "urqIiIhmZmaqqqrc3Nzu7u6YmJgyMjIiIiLMzMwAAACFkkdwAAAAAXRSTlMAQObYZgAAAPtJREFU\n",
       "GNNjYACBtwyogNv/i4vzUSjnPJSeBZNlMmBgqA+AKLy/ACJ2HCb5PgGIHcDMGfUTwDSfLVQRQz5Q\n",
       "YL8AmJmQDzGBJSwBKmkExJfAKlkX9G8AC61huACV/MLAMMcKzFoKtgIIpBkqIHJ8X9LSb0OYAQzz\n",
       "C8CMCwxzICJsPxkY1oLdw+fi4m8AdnQCA8sDsCSzAlDBb7CVQG8dADF4FzDwQZzPD6S4P4JYDUBh\n",
       "BRCjHYhPQrwJdCDLDyCDEyjJ84EBKtEO9+b8A2D3A+34BbIbZDEvzJt8OkBvTtY/ycBt/wfoXBZQ\n",
       "SLCBPFX838XlzAaUqGCF+gsBAFd8PNYBN2/JAAAAAElFTkSuQmCC\n",
       "\" style=\"display:inline;vertical-align:middle;\" /></a></td></tr>\n",
       "<tr><td>6</td><td>Literal</td><td></td><td><a class=\"ProveItLink\" href=\"../../../__pv_it/8f1f7fac882de28c72b62ab80a1700b6d8fd066b0/expr.ipynb\"><img src=\"data:image/png;base64,iVBORw0KGgoAAAANSUhEUgAAAA4AAAAOBAMAAADtZjDiAAAAG1BMVEX///9EREQQEBAiIiJmZmbM\n",
       "zMyIiIjc3NwAAACryk5kAAAAAXRSTlMAQObYZgAAABlJREFUCNdjYGBgKGOAgBBa0s7GxkbGxoYA\n",
       "FMUF2aBfHgoAAAAASUVORK5CYII=\n",
       "\" style=\"display:inline;vertical-align:middle;\" /></a></td></tr>\n",
       "<tr><td>7</td><td>Literal</td><td></td><td><a class=\"ProveItLink\" href=\"../76b5f4f4c45c0b6a9b59b297fc07dfa9555698f50/expr.ipynb\"><img src=\"data:image/png;base64,iVBORw0KGgoAAAANSUhEUgAAAAwAAAAOBAMAAADpk+DfAAAALVBMVEX///+qqqqYmJh2dnaIiIi6\n",
       "urpUVFQiIiJERETMzMxmZmYyMjLu7u7c3NwAAABvwqPxAAAAAXRSTlMAQObYZgAAAEtJREFUCNdj\n",
       "YGDgPcAAAtwLwNSMGjCV6gIieTawgyhmBS4BIMXOwLsBSKkwMGQCKaC6aQwMjEBd3BdACMScAVJd\n",
       "wJAKolwYAkAUKwAk0guX6efcigAAAABJRU5ErkJggg==\n",
       "\" style=\"display:inline;vertical-align:middle;\" /></a></td></tr>\n",
       "<tr><td>8</td><td>ExprTuple</td><td>9, 10</td><td><a class=\"ProveItLink\" href=\"../caee09fb4b5c95b986a9cee46a014afbad9bdc680/expr.ipynb\"><img src=\"data:image/png;base64,iVBORw0KGgoAAAANSUhEUgAAADUAAAAVBAMAAAAUZLt1AAAAMFBMVEX////c3NwiIiJERESqqqqY\n",
       "mJh2dnZmZmYQEBDu7u4yMjJUVFTMzMyIiIi6uroAAAAs73DqAAAAAXRSTlMAQObYZgAAATZJREFU\n",
       "KM9jYMAH+C5gFY4DEach7EMwQdb9v3dvXsfAfgDIXgkRWg/XwWHAwFD/gGEBAwMvxEhW/QkwufNA\n",
       "kfMbGMKAqiBiIvUCMLn7QFZ8AsMMBoZXEIEL9x/A5CyAWGMCA7MDQxnEsRP8A2ByvxkYpCwZGNgK\n",
       "GJaC+fPAtoABz++711WBNMsChj6wwAMG+QKoHO9HBoZJG4BGNTD8A6vdvXu/AVSOuQEo/xUo9gEi\n",
       "xwd07wKoHD9QD+s3sFwLiO/AwMDUAPMe0FHcX8BmmgK5jEA5rg8MDBNg3pMHGsK6gCEdyJ0FsuYn\n",
       "A+cnqPd4uiaA/fCIgUG4fyEDq/2vAs5+oJbi/7t3rwL5lesBA4cAUnQhsUFhxpqA4LIiR2AuIo7Q\n",
       "5ThBfpJG8JFTADfIfEbsaeIOAwMABOxNRsfkiy0AAAAASUVORK5CYII=\n",
       "\" style=\"display:inline;vertical-align:middle;\" /></a></td></tr>\n",
       "<tr><td>9</td><td>Variable</td><td></td><td><a class=\"ProveItLink\" href=\"../../../../../__pv_it/2cbe72a7ad6f655694dd697106680215e8489b600/expr.ipynb\"><img src=\"data:image/png;base64,iVBORw0KGgoAAAANSUhEUgAAAA8AAAAOBAMAAAACpFvcAAAALVBMVEX///8QEBBERERUVFS6urqI\n",
       "iIhmZmaqqqrc3Nzu7u6YmJgyMjIiIiLMzMwAAADtIaYWAAAAAXRSTlMAQObYZgAAAFtJREFUCNdj\n",
       "YACBOwxQsA9Kc52bAGG05zVAGAFxDmCaZULdAjBjCsO9ADDDgaEvAUTzGhvbKYCVMDAwbgAxChgY\n",
       "eASANAeQwf0AyJgNxEwvGRia5HYwcOm9TgAA6BoR3jrzwFcAAAAASUVORK5CYII=\n",
       "\" style=\"display:inline;vertical-align:middle;\" /></a></td></tr>\n",
       "<tr><td>10</td><td>Variable</td><td></td><td><a class=\"ProveItLink\" href=\"../../../../../__pv_it/077b2ff79244fb4582cbe22c6e3356fa92a52f2f0/expr.ipynb\"><img src=\"data:image/png;base64,iVBORw0KGgoAAAANSUhEUgAAABAAAAAOBAMAAADUAYG5AAAAMFBMVEX///+qqqru7u4iIiJ2dnbc\n",
       "3NyIiIjMzMxmZmYQEBC6uroyMjJERERUVFSYmJgAAADLUcuvAAAAAXRSTlMAQObYZgAAAGpJREFU\n",
       "CNdjYGB4+//u3dMLGIBgDgMDxy8gzf4NiP8CGWxfGRj4vgAZPBMYGJgnARn8FxhY9ygAGfXX0pof\n",
       "gDTlBzAw2YIYJ0EckBBI53sHoBH/gIz7AhBjWH9DjancBLTl/N+7t/cxMAAA3u4f/5xagjYAAAAA\n",
       "SUVORK5CYII=\n",
       "\" style=\"display:inline;vertical-align:middle;\" /></a></td></tr>\n",
       "</table>\n"
      ],
      "text/plain": [
       "0. B -> ((A and B) = FALSE) | B\n",
       "   core type: Lambda\n",
       "   parameter: 10\n",
       "   body: 1\n",
       "   conditions: 2\\n1. (A and B) = FALSE\n",
       "   core type: Operation\n",
       "   operator: 3\n",
       "   operands: 4\n",
       "2. (B)\n",
       "   core type: ExprTuple\n",
       "   sub-expressions: 10\n",
       "3. =\n",
       "   core type: Literal\n",
       "   sub-expressions: \n",
       "4. (A and B , FALSE)\n",
       "   core type: ExprTuple\n",
       "   sub-expressions: 5, 6\n",
       "5. A and B\n",
       "   core type: Operation\n",
       "   operator: 7\n",
       "   operands: 8\n",
       "6. FALSE\n",
       "   core type: Literal\n",
       "   sub-expressions: \n",
       "7. and\n",
       "   core type: Literal\n",
       "   sub-expressions: \n",
       "8. (A , B)\n",
       "   core type: ExprTuple\n",
       "   sub-expressions: 9, 10\n",
       "9. A\n",
       "   core type: Variable\n",
       "   sub-expressions: \n",
       "10. B\n",
       "    core type: Variable\n",
       "    sub-expressions: "
      ]
     },
     "execution_count": 4,
     "metadata": {},
     "output_type": "execute_result"
    }
   ],
   "source": [
    "# display the expression information\n",
    "expr.exprInfo()"
   ]
  },
  {
   "cell_type": "code",
   "execution_count": null,
   "metadata": {},
   "outputs": [],
   "source": []
  }
 ],
 "metadata": {
  "kernelspec": {
   "display_name": "Python 3",
   "language": "python",
   "name": "python3"
  }
 },
 "nbformat": 4,
 "nbformat_minor": 0
}
