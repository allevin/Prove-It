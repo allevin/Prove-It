{
 "cells": [
  {
   "cell_type": "markdown",
   "metadata": {},
   "source": [
    "Expression of type <a class=\"ProveItLink\" href=\"../../../../../../../doc/html/api/proveit.Lambda.html\">Lambda</a>\n",
    "=======================\n",
    "# from context <a class=\"ProveItLink\" href=\"../../_context_.ipynb\">proveit.logic.boolean.conjunction</a>"
   ]
  },
  {
   "cell_type": "code",
   "execution_count": 1,
   "metadata": {},
   "outputs": [],
   "source": [
    "# import Expression classes needed to build the expression\n",
    "from proveit import Lambda\n",
    "from proveit._common_ import A, B\n",
    "from proveit.logic import And"
   ]
  },
  {
   "cell_type": "code",
   "execution_count": 2,
   "metadata": {},
   "outputs": [
    {
     "data": {
      "text/html": [
       "<strong id=\"expr\">expr:</strong> <a class=\"ProveItLink\" href=\"expr.ipynb\"><img src=\"data:image/png;base64,iVBORw0KGgoAAAANSUhEUgAAAKAAAAAVCAMAAAD2FhXZAAAANlBMVEX///8UFBQNDQ2qqqru7u4i\n",
       "IiJ2dnbc3NyIiIjMzMxmZmYQEBC6uroyMjJERERUVFSYmJgAAAC3B9V0AAAAAXRSTlMAQObYZgAA\n",
       "AdpJREFUSMfNltl2hCAMhm1B2Ze8/8vWqmgSFJyxc065cQs/n9lgGP7DEOrPJb1+e2r21avJd6Yk\n",
       "gDSPGPzNRUwiT+NL+tZ0AE94XFwuFm4SBkmegH5VkttT/dD1IOcxoLdrusWnSYDzCJQoWO5wqp+n\n",
       "DmDFo2HN0gzTLUCHgZSwQJLcxJG5kOlL1wGseOI2Y3TyVoWQGOlZjyyQvGYlxPWjaANWPKsnVYgH\n",
       "H80TQRQt9rOXg4CMXsh5Kqsarj/ZNiC3n0OttbYjXoYtkbBrAzKU/kiZbbX5qxU0pZi+CE3Ayn4L\n",
       "uRzTJaBMKM0c0vu9VWDZr6lwklKHvndNwMq+hFyjUH1/jWQ4lGfo1vz2qwQR1fTizWROUmrXN9AE\n",
       "rOxLMeMi5r03IQ0EuN455LC1gkknr/Q7gNzeFNAE4grQ4kbidjNRqu0opy3aQaGU4vrtEFf2peso\n",
       "CFc5aEjfiHlvgdVWUsCErbraoZ+bRVLZbyE3Dm9gtJPR9li6hCzrxH0rMbH+w1q/3WaYvY3rzhxw\n",
       "8+g06mVxFR0s/sqzQtndjlQtzfpMnx9KMOAbPCdb3eX5zZ/estHd6h6PPD2aPulPA7Lj1otD9o9b\n",
       "j4dKDyYn9XnAQb1/5NemfnUN+AMHvBe5b4H2yAAAAABJRU5ErkJggg==\n",
       "\" style=\"display:inline;vertical-align:middle;\" /></a><br>"
      ],
      "text/plain": [
       "expr: B -> (A and B) | B"
      ]
     },
     "execution_count": 2,
     "metadata": {},
     "output_type": "execute_result"
    }
   ],
   "source": [
    "# build up the expression from sub-expressions\n",
    "expr = Lambda(B, And(A, B), conditions = [B])"
   ]
  },
  {
   "cell_type": "code",
   "execution_count": 3,
   "metadata": {},
   "outputs": [
    {
     "name": "stdout",
     "output_type": "stream",
     "text": [
      "Passed sanity check: built 'expr' is the same as the stored Expression.\n"
     ]
    }
   ],
   "source": [
    "# check that the built expression is the same as the stored expression\n",
    "%check_expr"
   ]
  },
  {
   "cell_type": "code",
   "execution_count": 4,
   "metadata": {},
   "outputs": [
    {
     "data": {
      "text/html": [
       "<table><tr><th>&nbsp;</th><th>core type</th><th>sub-expressions</th><th>expression</th></tr>\n",
       "<tr><td>0</td><td>Lambda</td><td>parameter:&nbsp;6<br>body:&nbsp;1<br>conditions:&nbsp;2<br></td><td><a class=\"ProveItLink\" href=\"expr.ipynb\"><img src=\"data:image/png;base64,iVBORw0KGgoAAAANSUhEUgAAAKAAAAAVCAMAAAD2FhXZAAAANlBMVEX///8UFBQNDQ2qqqru7u4i\n",
       "IiJ2dnbc3NyIiIjMzMxmZmYQEBC6uroyMjJERERUVFSYmJgAAAC3B9V0AAAAAXRSTlMAQObYZgAA\n",
       "AdpJREFUSMfNltl2hCAMhm1B2Ze8/8vWqmgSFJyxc065cQs/n9lgGP7DEOrPJb1+e2r21avJd6Yk\n",
       "gDSPGPzNRUwiT+NL+tZ0AE94XFwuFm4SBkmegH5VkttT/dD1IOcxoLdrusWnSYDzCJQoWO5wqp+n\n",
       "DmDFo2HN0gzTLUCHgZSwQJLcxJG5kOlL1wGseOI2Y3TyVoWQGOlZjyyQvGYlxPWjaANWPKsnVYgH\n",
       "H80TQRQt9rOXg4CMXsh5Kqsarj/ZNiC3n0OttbYjXoYtkbBrAzKU/kiZbbX5qxU0pZi+CE3Ayn4L\n",
       "uRzTJaBMKM0c0vu9VWDZr6lwklKHvndNwMq+hFyjUH1/jWQ4lGfo1vz2qwQR1fTizWROUmrXN9AE\n",
       "rOxLMeMi5r03IQ0EuN455LC1gkknr/Q7gNzeFNAE4grQ4kbidjNRqu0opy3aQaGU4vrtEFf2peso\n",
       "CFc5aEjfiHlvgdVWUsCErbraoZ+bRVLZbyE3Dm9gtJPR9li6hCzrxH0rMbH+w1q/3WaYvY3rzhxw\n",
       "8+g06mVxFR0s/sqzQtndjlQtzfpMnx9KMOAbPCdb3eX5zZ/estHd6h6PPD2aPulPA7Lj1otD9o9b\n",
       "j4dKDyYn9XnAQb1/5NemfnUN+AMHvBe5b4H2yAAAAABJRU5ErkJggg==\n",
       "\" style=\"display:inline;vertical-align:middle;\" /></a></td></tr>\n",
       "<tr><td>1</td><td>Operation</td><td>operator:&nbsp;3<br>operands:&nbsp;4<br></td><td><a class=\"ProveItLink\" href=\"../42be287793a6c836f70efb0ab4503e1a268d24400/expr.ipynb\"><img src=\"data:image/png;base64,iVBORw0KGgoAAAANSUhEUgAAADcAAAAPBAMAAACy3Eq1AAAAMFBMVEX///92dnYQEBBERERUVFS6\n",
       "urqIiIhmZmaqqqrc3Nzu7u6YmJgyMjIiIiLMzMwAAACFkkdwAAAAAXRSTlMAQObYZgAAAPtJREFU\n",
       "GNNjYACBtwyogNv/i4vzUSjnPJSeBZNlMmBgqA+AKLy/ACJ2HCb5PgGIHcDMGfUTwDSfLVQRQz5Q\n",
       "YL8AmJmQDzGBJSwBKmkExJfAKlkX9G8AC61huACV/MLAMMcKzFoKtgIIpBkqIHJ8X9LSb0OYAQzz\n",
       "C8CMCwxzICJsPxkY1oLdw+fi4m8AdnQCA8sDsCSzAlDBb7CVQG8dADF4FzDwQZzPD6S4P4JYDUBh\n",
       "BRCjHYhPQrwJdCDLDyCDEyjJ84EBKtEO9+b8A2D3A+34BbIbZDEvzJt8OkBvTtY/ycBt/wfoXBZQ\n",
       "SLCBPFX838XlzAaUqGCF+gsBAFd8PNYBN2/JAAAAAElFTkSuQmCC\n",
       "\" style=\"display:inline;vertical-align:middle;\" /></a></td></tr>\n",
       "<tr><td>2</td><td>ExprTuple</td><td>6</td><td><a class=\"ProveItLink\" href=\"../a1a19f6677ed3601feaa5e06d5228e69f2c236a10/expr.ipynb\"><img src=\"data:image/png;base64,iVBORw0KGgoAAAANSUhEUgAAAB0AAAAVBAMAAABI7vhRAAAAMFBMVEX////c3NwiIiJERESqqqqY\n",
       "mJh2dnZmZmYQEBDu7u4yMjJUVFTMzMyIiIi6uroAAAAs73DqAAAAAXRSTlMAQObYZgAAANhJREFU\n",
       "GNNjYEAHfBfgzDgQcRqIo//v3m31gIH9AJC9EiTYzMDA/o+BYQEDAy9IOc9fIP7NwBDGwMAxAcjn\n",
       "/cjAwPqNgWEGA8MrkHLmBgYGpk4g7cBQBuLzb2BgXAxUyFbAsBTEP7/3blEAkGZZwNAH4t8XYODU\n",
       "BrmlgeEfiG8BEgMq4PkA4QOtYohPAPNbQNZ/BRL7HcDqTaHWM/4CMlgXMKRDrT8BcjfQvkdAl9v/\n",
       "3r0LbC/XAwYOASS/A93LmoDEz4X5FwI4gf5lkEbwuUF6GRHhdYeBAQDRdzVsr93CgQAAAABJRU5E\n",
       "rkJggg==\n",
       "\" style=\"display:inline;vertical-align:middle;\" /></a></td></tr>\n",
       "<tr><td>3</td><td>Literal</td><td></td><td><a class=\"ProveItLink\" href=\"../76b5f4f4c45c0b6a9b59b297fc07dfa9555698f50/expr.ipynb\"><img src=\"data:image/png;base64,iVBORw0KGgoAAAANSUhEUgAAAAwAAAAOBAMAAADpk+DfAAAALVBMVEX///+qqqqYmJh2dnaIiIi6\n",
       "urpUVFQiIiJERETMzMxmZmYyMjLu7u7c3NwAAABvwqPxAAAAAXRSTlMAQObYZgAAAEtJREFUCNdj\n",
       "YGDgPcAAAtwLwNSMGjCV6gIieTawgyhmBS4BIMXOwLsBSKkwMGQCKaC6aQwMjEBd3BdACMScAVJd\n",
       "wJAKolwYAkAUKwAk0guX6efcigAAAABJRU5ErkJggg==\n",
       "\" style=\"display:inline;vertical-align:middle;\" /></a></td></tr>\n",
       "<tr><td>4</td><td>ExprTuple</td><td>5, 6</td><td><a class=\"ProveItLink\" href=\"../caee09fb4b5c95b986a9cee46a014afbad9bdc680/expr.ipynb\"><img src=\"data:image/png;base64,iVBORw0KGgoAAAANSUhEUgAAADUAAAAVBAMAAAAUZLt1AAAAMFBMVEX////c3NwiIiJERESqqqqY\n",
       "mJh2dnZmZmYQEBDu7u4yMjJUVFTMzMyIiIi6uroAAAAs73DqAAAAAXRSTlMAQObYZgAAATZJREFU\n",
       "KM9jYMAH+C5gFY4DEach7EMwQdb9v3dvXsfAfgDIXgkRWg/XwWHAwFD/gGEBAwMvxEhW/QkwufNA\n",
       "kfMbGMKAqiBiIvUCMLn7QFZ8AsMMBoZXEIEL9x/A5CyAWGMCA7MDQxnEsRP8A2ByvxkYpCwZGNgK\n",
       "GJaC+fPAtoABz++711WBNMsChj6wwAMG+QKoHO9HBoZJG4BGNTD8A6vdvXu/AVSOuQEo/xUo9gEi\n",
       "xwd07wKoHD9QD+s3sFwLiO/AwMDUAPMe0FHcX8BmmgK5jEA5rg8MDBNg3pMHGsK6gCEdyJ0FsuYn\n",
       "A+cnqPd4uiaA/fCIgUG4fyEDq/2vAs5+oJbi/7t3rwL5lesBA4cAUnQhsUFhxpqA4LIiR2AuIo7Q\n",
       "5ThBfpJG8JFTADfIfEbsaeIOAwMABOxNRsfkiy0AAAAASUVORK5CYII=\n",
       "\" style=\"display:inline;vertical-align:middle;\" /></a></td></tr>\n",
       "<tr><td>5</td><td>Variable</td><td></td><td><a class=\"ProveItLink\" href=\"../../../../../__pv_it/2cbe72a7ad6f655694dd697106680215e8489b600/expr.ipynb\"><img src=\"data:image/png;base64,iVBORw0KGgoAAAANSUhEUgAAAA8AAAAOBAMAAAACpFvcAAAALVBMVEX///8QEBBERERUVFS6urqI\n",
       "iIhmZmaqqqrc3Nzu7u6YmJgyMjIiIiLMzMwAAADtIaYWAAAAAXRSTlMAQObYZgAAAFtJREFUCNdj\n",
       "YACBOwxQsA9Kc52bAGG05zVAGAFxDmCaZULdAjBjCsO9ADDDgaEvAUTzGhvbKYCVMDAwbgAxChgY\n",
       "eASANAeQwf0AyJgNxEwvGRia5HYwcOm9TgAA6BoR3jrzwFcAAAAASUVORK5CYII=\n",
       "\" style=\"display:inline;vertical-align:middle;\" /></a></td></tr>\n",
       "<tr><td>6</td><td>Variable</td><td></td><td><a class=\"ProveItLink\" href=\"../../../../../__pv_it/077b2ff79244fb4582cbe22c6e3356fa92a52f2f0/expr.ipynb\"><img src=\"data:image/png;base64,iVBORw0KGgoAAAANSUhEUgAAABAAAAAOBAMAAADUAYG5AAAAMFBMVEX///+qqqru7u4iIiJ2dnbc\n",
       "3NyIiIjMzMxmZmYQEBC6uroyMjJERERUVFSYmJgAAADLUcuvAAAAAXRSTlMAQObYZgAAAGpJREFU\n",
       "CNdjYGB4+//u3dMLGIBgDgMDxy8gzf4NiP8CGWxfGRj4vgAZPBMYGJgnARn8FxhY9ygAGfXX0pof\n",
       "gDTlBzAw2YIYJ0EckBBI53sHoBH/gIz7AhBjWH9DjancBLTl/N+7t/cxMAAA3u4f/5xagjYAAAAA\n",
       "SUVORK5CYII=\n",
       "\" style=\"display:inline;vertical-align:middle;\" /></a></td></tr>\n",
       "</table>\n"
      ],
      "text/plain": [
       "0. B -> (A and B) | B\n",
       "   core type: Lambda\n",
       "   parameter: 6\n",
       "   body: 1\n",
       "   conditions: 2\\n1. A and B\n",
       "   core type: Operation\n",
       "   operator: 3\n",
       "   operands: 4\n",
       "2. (B)\n",
       "   core type: ExprTuple\n",
       "   sub-expressions: 6\n",
       "3. and\n",
       "   core type: Literal\n",
       "   sub-expressions: \n",
       "4. (A , B)\n",
       "   core type: ExprTuple\n",
       "   sub-expressions: 5, 6\n",
       "5. A\n",
       "   core type: Variable\n",
       "   sub-expressions: \n",
       "6. B\n",
       "   core type: Variable\n",
       "   sub-expressions: "
      ]
     },
     "execution_count": 4,
     "metadata": {},
     "output_type": "execute_result"
    }
   ],
   "source": [
    "# display the expression information\n",
    "expr.exprInfo()"
   ]
  },
  {
   "cell_type": "code",
   "execution_count": null,
   "metadata": {},
   "outputs": [],
   "source": []
  }
 ],
 "metadata": {
  "kernelspec": {
   "display_name": "Python 3",
   "language": "python",
   "name": "python3"
  }
 },
 "nbformat": 4,
 "nbformat_minor": 0
}
