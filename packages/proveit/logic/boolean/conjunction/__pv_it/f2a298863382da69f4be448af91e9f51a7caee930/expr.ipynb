{
 "cells": [
  {
   "cell_type": "markdown",
   "metadata": {},
   "source": [
    "Expression of type <a class=\"ProveItLink\" href=\"../../../../../../../doc/html/api/proveit.ExprTuple.html\">ExprTuple</a>\n",
    "=======================\n",
    "# from context <a class=\"ProveItLink\" href=\"../../_context_.ipynb\">proveit.logic.boolean.conjunction</a>"
   ]
  },
  {
   "cell_type": "code",
   "execution_count": 1,
   "metadata": {},
   "outputs": [],
   "source": [
    "# import Expression classes needed to build the expression\n",
    "from proveit import ExprTuple\n",
    "from proveit.logic import And, TRUE\n",
    "from proveit.logic.boolean.negation._theorems_ import notFalse"
   ]
  },
  {
   "cell_type": "code",
   "execution_count": 2,
   "metadata": {},
   "outputs": [
    {
     "data": {
      "text/html": [
       "<strong id=\"expr\">expr:</strong> <a class=\"ProveItLink\" href=\"expr.ipynb\"><img src=\"data:image/png;base64,iVBORw0KGgoAAAANSUhEUgAAAKIAAAAVBAMAAAA3EyjlAAAAMFBMVEX////c3NwiIiJERESqqqqY\n",
       "mJh2dnZmZmYQEBDu7u4yMjJUVFTMzMyIiIi6uroAAAAs73DqAAAAAXRSTlMAQObYZgAAAdJJREFU\n",
       "OMtjYKA+4LuAXfwtukAcEYaxPgASpxnYlcDAAEWOZwMSRxZEsB9AUYCiC86pAXJWgvUXwBQyToDQ\n",
       "XBOQdB8HkwugPEm4rQXITgBzuBgYeC+gynFBWXcZMEwMg/KW4zGRNYGBYwKq3GFNCN2JaeIMqFaj\n",
       "CbhN5GxgeIUmtw/iOL4FmCYyO4Ap7rcXcJvIYMJQhirHuYAJEtQJmCayQRTNYlDAY2I6w1JUObYA\n",
       "drBLuAIwTWSBuDuVoQSPiV4MfahyTAyMYH0cwIRVBEoQaggT+RrAlAKDFB4TXzD8Q5WLZWDYA6L5\n",
       "H0AFTiNM5PkAjs0LDNwHcJt4Ht1ETagZuE1kmgBP/dhNbEGRYwHSXAIgXztgmgjxtTsQL8Tna1MU\n",
       "OZBpIFMZmAMwTWQFh/BCqKlwXRNQTIwCxjayiYchQQ9PKUAZtNTDYwCOP4Quzk9oqecRhAtNfvtg\n",
       "GZBPAe4dYJRrKCkpAz0ACltuEAHJuhBdnP0CyEasY+AQQE544PjgAxGNmEXVDLgkwwPk4hDZBGAu\n",
       "ZE3AXtKFYQrl4igTkTlsF6ClGSZAKc2gGZQIE2cBsTR2dYwb0EW4BbCrRKkDNoK04qgVZNEF7hBR\n",
       "K/AeYAAArzNwBKw4mTQAAAAASUVORK5CYII=\n",
       "\" style=\"display:inline;vertical-align:middle;\" /></a><br>"
      ],
      "text/plain": [
       "expr: (TRUE and [not](FALSE) and TRUE , TRUE)"
      ]
     },
     "execution_count": 2,
     "metadata": {},
     "output_type": "execute_result"
    }
   ],
   "source": [
    "# build up the expression from sub-expressions\n",
    "expr = ExprTuple(And(TRUE, notFalse.expr, TRUE), TRUE)"
   ]
  },
  {
   "cell_type": "code",
   "execution_count": 3,
   "metadata": {},
   "outputs": [
    {
     "name": "stdout",
     "output_type": "stream",
     "text": [
      "Passed sanity check: built 'expr' is the same as the stored Expression.\n"
     ]
    }
   ],
   "source": [
    "# check that the built expression is the same as the stored expression\n",
    "%check_expr"
   ]
  },
  {
   "cell_type": "code",
   "execution_count": 4,
   "metadata": {},
   "outputs": [
    {
     "data": {
      "text/html": [
       "<table><tr><th>&nbsp;</th><th>core type</th><th>sub-expressions</th><th>expression</th></tr>\n",
       "<tr><td>0</td><td>ExprTuple</td><td>1, 5</td><td><a class=\"ProveItLink\" href=\"expr.ipynb\"><img src=\"data:image/png;base64,iVBORw0KGgoAAAANSUhEUgAAAKIAAAAVBAMAAAA3EyjlAAAAMFBMVEX////c3NwiIiJERESqqqqY\n",
       "mJh2dnZmZmYQEBDu7u4yMjJUVFTMzMyIiIi6uroAAAAs73DqAAAAAXRSTlMAQObYZgAAAdJJREFU\n",
       "OMtjYKA+4LuAXfwtukAcEYaxPgASpxnYlcDAAEWOZwMSRxZEsB9AUYCiC86pAXJWgvUXwBQyToDQ\n",
       "XBOQdB8HkwugPEm4rQXITgBzuBgYeC+gynFBWXcZMEwMg/KW4zGRNYGBYwKq3GFNCN2JaeIMqFaj\n",
       "CbhN5GxgeIUmtw/iOL4FmCYyO4Ap7rcXcJvIYMJQhirHuYAJEtQJmCayQRTNYlDAY2I6w1JUObYA\n",
       "drBLuAIwTWSBuDuVoQSPiV4MfahyTAyMYH0cwIRVBEoQaggT+RrAlAKDFB4TXzD8Q5WLZWDYA6L5\n",
       "H0AFTiNM5PkAjs0LDNwHcJt4Ht1ETagZuE1kmgBP/dhNbEGRYwHSXAIgXztgmgjxtTsQL8Tna1MU\n",
       "OZBpIFMZmAMwTWQFh/BCqKlwXRNQTIwCxjayiYchQQ9PKUAZtNTDYwCOP4Quzk9oqecRhAtNfvtg\n",
       "GZBPAe4dYJRrKCkpAz0ACltuEAHJuhBdnP0CyEasY+AQQE544PjgAxGNmEXVDLgkwwPk4hDZBGAu\n",
       "ZE3AXtKFYQrl4igTkTlsF6ClGSZAKc2gGZQIE2cBsTR2dYwb0EW4BbCrRKkDNoK04qgVZNEF7hBR\n",
       "K/AeYAAArzNwBKw4mTQAAAAASUVORK5CYII=\n",
       "\" style=\"display:inline;vertical-align:middle;\" /></a></td></tr>\n",
       "<tr><td>1</td><td>Operation</td><td>operator:&nbsp;2<br>operands:&nbsp;3<br></td><td><a class=\"ProveItLink\" href=\"../da368dbb14883d6a67aa45f4ed7bf0f2f7cbc7e50/expr.ipynb\"><img src=\"data:image/png;base64,iVBORw0KGgoAAAANSUhEUgAAAHsAAAAVBAMAAACUF4xmAAAAMFBMVEX///8QEBCqqqqYmJiIiIi6\n",
       "urpUVFQyMjLu7u7c3Nx2dnbMzMxEREQiIiJmZmYAAABKII+GAAAAAXRSTlMAQObYZgAAAUtJREFU\n",
       "OMtjYKAFCEEXMMWh8O1dELiDKsidgMSZAiL4NqAo4APrunsAxN4HF50BpdkbkJRCpAsgHE64DPcD\n",
       "FHkQqIPSLgwY2q2gBj/ArZ37LNRsCUztjRDOnhu4tbOFOIBp1gJM7TwKYCrVBbf2doYLkIBZgKmd\n",
       "C6yao4AXt/bFDI8gHjTA1M4EdhGXAZ8CTu0XGKaDacYAaITeQkizCoBIXgbOAlzamR0Y2MDRyx8A\n",
       "FdmGkOb+ACJNGBiycWnnbYCmF9zab0DFsGnXA+JKsOMVMLWDHc8E1MI+AYf2SqgRDDwGmNqZQX4G\n",
       "aWV6gF079wFw2MAjCSSEFnF7IAGMqn0XNNGAfMwCSjisF5Bz1EVwjmIHyaYipWjuBajZjBVMgkNN\n",
       "EjNnNsIlWQlmdytMoSUklBYoGZYBklpJ0M6ZgC7CNoGUwmoKuoA3dnUAahhkIDO7BVoAAAAASUVO\n",
       "RK5CYII=\n",
       "\" style=\"display:inline;vertical-align:middle;\" /></a></td></tr>\n",
       "<tr><td>2</td><td>Literal</td><td></td><td><a class=\"ProveItLink\" href=\"../76b5f4f4c45c0b6a9b59b297fc07dfa9555698f50/expr.ipynb\"><img src=\"data:image/png;base64,iVBORw0KGgoAAAANSUhEUgAAAAwAAAAOBAMAAADpk+DfAAAALVBMVEX///+qqqqYmJh2dnaIiIi6\n",
       "urpUVFQiIiJERETMzMxmZmYyMjLu7u7c3NwAAABvwqPxAAAAAXRSTlMAQObYZgAAAEtJREFUCNdj\n",
       "YGDgPcAAAtwLwNSMGjCV6gIieTawgyhmBS4BIMXOwLsBSKkwMGQCKaC6aQwMjEBd3BdACMScAVJd\n",
       "wJAKolwYAkAUKwAk0guX6efcigAAAABJRU5ErkJggg==\n",
       "\" style=\"display:inline;vertical-align:middle;\" /></a></td></tr>\n",
       "<tr><td>3</td><td>ExprTuple</td><td>5, 4, 5</td><td><a class=\"ProveItLink\" href=\"../a2a6d0836d14ac72e07c9369691bd983da4cbd840/expr.ipynb\"><img src=\"data:image/png;base64,iVBORw0KGgoAAAANSUhEUgAAAF0AAAAVBAMAAADWVP/xAAAAMFBMVEX////c3NwiIiJERESqqqqY\n",
       "mJh2dnZmZmYQEBDu7u4yMjJUVFTMzMyIiIi6uroAAAAs73DqAAAAAXRSTlMAQObYZgAAANpJREFU\n",
       "KM9jYCAV8F0gWmkciDjNwK4EBgZosoxwg4rA8soM7AeAnJUgEZ4CTNNQxI6DyQUMDLwXSFAfxsDA\n",
       "MYEE9TMYGF4xkKCe2YGhjBT1bAUMS0lRz7KAoQ9NDhK4CdjV8zUw/MNmPs8G7Op5PpCsvoUU9UD3\n",
       "mCKpn4BF/QRk9awLGNIR6jk/wY07gC4GD89HEPWgAOHsF2BADqYmYBqEiR0Dk1wPGDgEkJK2AJbk\n",
       "jiwGTA+sCQguK5Y0jyKWC0vPxKnnBKZnBmkEH1tOQxbjFkDJRgTBHQYGAOMwPewL5nj5AAAAAElF\n",
       "TkSuQmCC\n",
       "\" style=\"display:inline;vertical-align:middle;\" /></a></td></tr>\n",
       "<tr><td>4</td><td>Operation</td><td>operator:&nbsp;6<br>operand:&nbsp;7<br></td><td><a class=\"ProveItLink\" href=\"../../../negation/__pv_it/01165fd25131c0df966b8e8c1626e275fd04f3050/expr.ipynb\"><img src=\"data:image/png;base64,iVBORw0KGgoAAAANSUhEUgAAABwAAAAOBAMAAADOPWE3AAAAIVBMVEX///9EREQQEBCIiIjc3NxU\n",
       "VFTMzMx2dnYiIiJmZmYAAADo3DW1AAAAAXRSTlMAQObYZgAAACVJREFUCNdjYIADZwYUkEll7owO\n",
       "IGhHlU2lgMuGbhHQgqaOjkYA4xoNxELsxwMAAAAASUVORK5CYII=\n",
       "\" style=\"display:inline;vertical-align:middle;\" /></a></td></tr>\n",
       "<tr><td>5</td><td>Literal</td><td></td><td><a class=\"ProveItLink\" href=\"../../../__pv_it/68a87cc3370287d726c7086ace789e680e4461c30/expr.ipynb\"><img src=\"data:image/png;base64,iVBORw0KGgoAAAANSUhEUgAAAA4AAAAOBAMAAADtZjDiAAAAFVBMVEX///92dnbMzMxEREQiIiJm\n",
       "ZmYAAABAT6GXAAAAAXRSTlMAQObYZgAAABhJREFUCNdjCHEBAWcGIFBlgABa0YpADAAxegPJJk4d\n",
       "XAAAAABJRU5ErkJggg==\n",
       "\" style=\"display:inline;vertical-align:middle;\" /></a></td></tr>\n",
       "<tr><td>6</td><td>Literal</td><td></td><td><a class=\"ProveItLink\" href=\"../../../negation/__pv_it/7bea79645543c2413aa17e787cca04e21046fde60/expr.ipynb\"><img src=\"data:image/png;base64,iVBORw0KGgoAAAANSUhEUgAAAAwAAAAGBAMAAAAFwGKyAAAAFVBMVEX///9UVFTMzMx2dnYiIiJm\n",
       "ZmYAAACWz4ZEAAAAAXRSTlMAQObYZgAAABRJREFUCNdjCHEBAmcGMFDEQzEBAEl+Ai6uYJv/AAAA\n",
       "AElFTkSuQmCC\n",
       "\" style=\"display:inline;vertical-align:middle;\" /></a></td></tr>\n",
       "<tr><td>7</td><td>Literal</td><td></td><td><a class=\"ProveItLink\" href=\"../../../__pv_it/8f1f7fac882de28c72b62ab80a1700b6d8fd066b0/expr.ipynb\"><img src=\"data:image/png;base64,iVBORw0KGgoAAAANSUhEUgAAAA4AAAAOBAMAAADtZjDiAAAAG1BMVEX///9EREQQEBAiIiJmZmbM\n",
       "zMyIiIjc3NwAAACryk5kAAAAAXRSTlMAQObYZgAAABlJREFUCNdjYGBgKGOAgBBa0s7GxkbGxoYA\n",
       "FMUF2aBfHgoAAAAASUVORK5CYII=\n",
       "\" style=\"display:inline;vertical-align:middle;\" /></a></td></tr>\n",
       "</table>\n"
      ],
      "text/plain": [
       "0. (TRUE and [not](FALSE) and TRUE , TRUE)\n",
       "   core type: ExprTuple\n",
       "   sub-expressions: 1, 5\n",
       "1. TRUE and [not](FALSE) and TRUE\n",
       "   core type: Operation\n",
       "   operator: 2\n",
       "   operands: 3\n",
       "2. and\n",
       "   core type: Literal\n",
       "   sub-expressions: \n",
       "3. (TRUE , [not](FALSE) , TRUE)\n",
       "   core type: ExprTuple\n",
       "   sub-expressions: 5, 4, 5\n",
       "4. [not](FALSE)\n",
       "   core type: Operation\n",
       "   operator: 6\n",
       "   operand: 7\n",
       "5. TRUE\n",
       "   core type: Literal\n",
       "   sub-expressions: \n",
       "6. not\n",
       "   core type: Literal\n",
       "   sub-expressions: \n",
       "7. FALSE\n",
       "   core type: Literal\n",
       "   sub-expressions: "
      ]
     },
     "execution_count": 4,
     "metadata": {},
     "output_type": "execute_result"
    }
   ],
   "source": [
    "# display the expression information\n",
    "expr.exprInfo()"
   ]
  },
  {
   "cell_type": "code",
   "execution_count": null,
   "metadata": {},
   "outputs": [],
   "source": []
  }
 ],
 "metadata": {
  "kernelspec": {
   "display_name": "Python 3",
   "language": "python",
   "name": "python3"
  }
 },
 "nbformat": 4,
 "nbformat_minor": 0
}
