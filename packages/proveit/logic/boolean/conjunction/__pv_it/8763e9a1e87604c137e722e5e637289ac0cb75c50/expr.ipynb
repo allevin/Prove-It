{
 "cells": [
  {
   "cell_type": "markdown",
   "metadata": {},
   "source": [
    "Expression of type <a class=\"ProveItLink\" href=\"../../../../../../../doc/html/api/proveit.logic.Set.html\">Set</a>\n",
    "=======================\n",
    "# from context <a class=\"ProveItLink\" href=\"../../_context_.ipynb\">proveit.logic.boolean.conjunction</a>"
   ]
  },
  {
   "cell_type": "code",
   "execution_count": 1,
   "metadata": {},
   "outputs": [],
   "source": [
    "# import Expression classes needed to build the expression\n",
    "from proveit._common_ import E\n",
    "from proveit.logic import Booleans, InSet, Set"
   ]
  },
  {
   "cell_type": "code",
   "execution_count": 2,
   "metadata": {},
   "outputs": [
    {
     "data": {
      "text/html": [
       "<strong id=\"expr\">expr:</strong> <a class=\"ProveItLink\" href=\"expr.ipynb\"><img src=\"data:image/png;base64,iVBORw0KGgoAAAANSUhEUgAAAEsAAAAVBAMAAAD85A5eAAAAMFBMVEX////c3NxERESqqqpUVFS6\n",
       "urrMzMwyMjIQEBCIiIh2dnYiIiLu7u5mZmaYmJgAAABXZE4RAAAAAXRSTlMAQObYZgAAAUJJREFU\n",
       "KM9jYGDgu8eAD7CtEgBRPLsY8AO2ZhDJ+QFETvnv4uL+HUV6+af6ik0GQMZ1EI+rASwIUmKEaoxC\n",
       "JE/NKiC9AqGM9SeQ4EVXxjCVHVUZ1zcgcRIse7J693aYMjuWAyjK2D8wcDEwgl1cdwDJNCFU0/gV\n",
       "GN5BJIUOICxl26cDU8ZbACLjS9w/QiQVEW6L3v9jApB+D+JkBIDI9QkMYOUMPArIXpgJ8jz7BQaG\n",
       "lDawUD0DwwKGBJCXu3fvRniBiXUBkKH+gIEhAiTJ8ImBQYAHZAObA7JpTAxAw7lBSlkKYMHGBXI8\n",
       "zwYMZWC3cW2ABZssWNIPRRnIUkSAAIONgW0bWPJ0AJKyt5OQw+2I/hcXl/0Q6xhrE+BRr91igBq8\n",
       "SIDZHepTGMCuDAOAlfERVAZObzw7CaXeVjDFt5hwXgAAeXZZkSNaXAUAAAAASUVORK5CYII=\n",
       "\" style=\"display:inline;vertical-align:middle;\" /></a><br>"
      ],
      "text/plain": [
       "expr: {E in BOOLEANS}"
      ]
     },
     "execution_count": 2,
     "metadata": {},
     "output_type": "execute_result"
    }
   ],
   "source": [
    "# build up the expression from sub-expressions\n",
    "expr = Set(InSet(E, Booleans))"
   ]
  },
  {
   "cell_type": "code",
   "execution_count": 3,
   "metadata": {},
   "outputs": [
    {
     "name": "stdout",
     "output_type": "stream",
     "text": [
      "Passed sanity check: built 'expr' is the same as the stored Expression.\n"
     ]
    }
   ],
   "source": [
    "# check that the built expression is the same as the stored expression\n",
    "%check_expr"
   ]
  },
  {
   "cell_type": "code",
   "execution_count": 4,
   "metadata": {},
   "outputs": [
    {
     "data": {
      "text/html": [
       "<table><tr><th>&nbsp;</th><th>core type</th><th>sub-expressions</th><th>expression</th></tr>\n",
       "<tr><td>0</td><td>Operation</td><td>operator:&nbsp;1<br>operands:&nbsp;2<br></td><td><a class=\"ProveItLink\" href=\"expr.ipynb\"><img src=\"data:image/png;base64,iVBORw0KGgoAAAANSUhEUgAAAEsAAAAVBAMAAAD85A5eAAAAMFBMVEX////c3NxERESqqqpUVFS6\n",
       "urrMzMwyMjIQEBCIiIh2dnYiIiLu7u5mZmaYmJgAAABXZE4RAAAAAXRSTlMAQObYZgAAAUJJREFU\n",
       "KM9jYGDgu8eAD7CtEgBRPLsY8AO2ZhDJ+QFETvnv4uL+HUV6+af6ik0GQMZ1EI+rASwIUmKEaoxC\n",
       "JE/NKiC9AqGM9SeQ4EVXxjCVHVUZ1zcgcRIse7J693aYMjuWAyjK2D8wcDEwgl1cdwDJNCFU0/gV\n",
       "GN5BJIUOICxl26cDU8ZbACLjS9w/QiQVEW6L3v9jApB+D+JkBIDI9QkMYOUMPArIXpgJ8jz7BQaG\n",
       "lDawUD0DwwKGBJCXu3fvRniBiXUBkKH+gIEhAiTJ8ImBQYAHZAObA7JpTAxAw7lBSlkKYMHGBXI8\n",
       "zwYMZWC3cW2ABZssWNIPRRnIUkSAAIONgW0bWPJ0AJKyt5OQw+2I/hcXl/0Q6xhrE+BRr91igBq8\n",
       "SIDZHepTGMCuDAOAlfERVAZObzw7CaXeVjDFt5hwXgAAeXZZkSNaXAUAAAAASUVORK5CYII=\n",
       "\" style=\"display:inline;vertical-align:middle;\" /></a></td></tr>\n",
       "<tr><td>1</td><td>Literal</td><td></td><td><a class=\"ProveItLink\" href=\"../../../../set_theory/enumeration/__pv_it/07381ed5b23806e8d7914b78cb6667769e3708dd0/expr.ipynb\"><img src=\"data:image/png;base64,iVBORw0KGgoAAAANSUhEUgAAAB4AAAAOBAMAAADKyLEKAAAAMFBMVEX///8iIiIQEBCIiIjMzMzc\n",
       "3Nyqqqp2dnZEREQyMjK6urru7u5mZmZUVFSYmJgAAACI6eGPAAAAAXRSTlMAQObYZgAAALRJREFU\n",
       "CNdjYGDgu3Nm3wIGBJjHwN0PZW5yYGDgLWBgyITy8zcwMMQDxZyh/INAvD6BgcEFypcB4vjPDiBm\n",
       "TPFRrhs/LjMwMP//38rAwCbKEMPA9gEkE3fp0waG+AUMRxh4JkC01T9guPTOOICBEWgVH5C//wHD\n",
       "H5D4fqCz9oCMDGD4DLaegRXslLMMDMpAgxlOMmQxHDRgYG5gYLBk4D7KcIe7gOHC2rt9QCXsh40Z\n",
       "GCKMGQDRkC8N/Ph1XAAAAABJRU5ErkJggg==\n",
       "\" style=\"display:inline;vertical-align:middle;\" /></a></td></tr>\n",
       "<tr><td>2</td><td>ExprTuple</td><td>3</td><td><a class=\"ProveItLink\" href=\"../9c8bb18dc245fc822997ada984daf192730a5c620/expr.ipynb\"><img src=\"data:image/png;base64,iVBORw0KGgoAAAANSUhEUgAAAEQAAAAVBAMAAAAN71XTAAAAMFBMVEX////c3NwiIiJERESqqqqY\n",
       "mJh2dnZmZmYQEBDu7u4yMjJUVFTMzMyIiIi6uroAAAAs73DqAAAAAXRSTlMAQObYZgAAAUlJREFU\n",
       "KM9jYCAC8F3AJ8v6AEicBuLb/3fv3vULRS7r8/oVyg4MDDVA9kqQAEjaGVW/wVvOlWkMDFwMDLwg\n",
       "e/j+Agl2dCUM94DyrAkMHBOAXLY/QGIuWGbuIiUtmBJX7gkMnA0Mr0Bcrg8MbAyMIBbP0glIpggD\n",
       "aROGMhCX34AhFCIhPAFhEY+qJZBOZ1gK4r5fvesjRMIQ4ZZH+j9A7vRi6ANx8w8wLACLcxogO/cu\n",
       "yJMvGP6BuOsZGBIYDoC81qSkhHAuM18CA8N5iJLPDAwCnCBTeTYgm8LMYABS0gILFjaQQzkVMJS8\n",
       "YDCFBYs4WGIrihKQRVFAP4GDhYFHBywx6QGSkvDLYE8/YmCYbf979259iBWMyw/Ao9GoGxiNDOsY\n",
       "OARQo4ZlF9RHUACMAGA04QVsF6CJATeYBcTS+JVsBDkQb8LkPcAAAOJSWnVRpP5IAAAAAElFTkSu\n",
       "QmCC\n",
       "\" style=\"display:inline;vertical-align:middle;\" /></a></td></tr>\n",
       "<tr><td>3</td><td>Operation</td><td>operator:&nbsp;4<br>operands:&nbsp;5<br></td><td><a class=\"ProveItLink\" href=\"../4117efb2ae1b71854be913c493e95fd43d9813320/expr.ipynb\"><img src=\"data:image/png;base64,iVBORw0KGgoAAAANSUhEUgAAADcAAAAPBAMAAACy3Eq1AAAAMFBMVEX///8QEBAiIiKYmJjc3Nzu\n",
       "7u7MzMx2dnZmZma6urpERESqqqoyMjJUVFSIiIgAAAAoDOMTAAAAAXRSTlMAQObYZgAAAOJJREFU\n",
       "GNNjYGB4+//u3Tt/GJBBza/zB7U2gJkgiV0okgwL5rEeLQcxOP8BCQ50SYaXPCAG+zcgEQcWizuk\n",
       "pAOT3MwbAGTwfGBgZ2ABCbEdDkDS6QVi8C9gMIYIeQUgjGVTXgpizD975wtEaAnCzkn6Hx+AGPUJ\n",
       "DAfAIqwLkB30DuyB8wwMBQwJIGcLKSkhHMTFWQBk/GJgcGAFmcF2AVknF8MCqDfZQU5hVcCQBHvT\n",
       "Ayx0GUUSZCzQmwxsamChoAlIkhavGBhi1/+9e1cfYiDLiQR4wC+S3YAaogzcd6CuhQAAUexJAXCK\n",
       "RB0AAAAASUVORK5CYII=\n",
       "\" style=\"display:inline;vertical-align:middle;\" /></a></td></tr>\n",
       "<tr><td>4</td><td>Literal</td><td></td><td><a class=\"ProveItLink\" href=\"../../../../set_theory/membership/__pv_it/088cbc857536a28d4119ad9639a84270ccb0545d0/expr.ipynb\"><img src=\"data:image/png;base64,iVBORw0KGgoAAAANSUhEUgAAAAwAAAAMBAMAAACkW0HUAAAALVBMVEX///+qqqpmZmZUVFQQEBC6\n",
       "urpERETc3NyYmJjMzMwiIiIyMjKIiIju7u4AAACYsrA9AAAAAXRSTlMAQObYZgAAADxJREFUCNdj\n",
       "YOA9vWrVBgaG2b0MQMCeCyIZ2ArA1DUwyRCyahVIyWQI7xaEYm4AU7xLIdxqTQgtvGvVBgCkcQ7e\n",
       "geM/tQAAAABJRU5ErkJggg==\n",
       "\" style=\"display:inline;vertical-align:middle;\" /></a></td></tr>\n",
       "<tr><td>5</td><td>ExprTuple</td><td>6, 7</td><td><a class=\"ProveItLink\" href=\"../dea8180e4c18012dfab67fb6c0c32a4cc6e646360/expr.ipynb\"><img src=\"data:image/png;base64,iVBORw0KGgoAAAANSUhEUgAAADQAAAAVBAMAAAD7ptBLAAAAMFBMVEX////c3NwiIiJERESqqqqY\n",
       "mJh2dnZmZmYQEBDu7u4yMjJUVFTMzMyIiIi6uroAAAAs73DqAAAAAXRSTlMAQObYZgAAASRJREFU\n",
       "KM9jYMAD+C5gE2V9ACROA/Ht/7t37/oFFsv6vH6FsgMDQw2QvRIkABJ2hqg3eMu5Mo2BgYuBgRdk\n",
       "Ht9fIMEOk2K4BxRnTWDgmADksv0BEnPhUq7cExg4GxhegbhcHxjYGBgRuoSBtAlDGYjLb8AQCnOb\n",
       "wVseVUsgnc6wFMR9v3rXR7jUI/0fIPu9GPpA3PwDDAsQuhjughz7guEfiLuegSGB4QBcipkvgYHh\n",
       "PETqMwODAOcFhBSDAUiqBeYttgmoUi8YTGHeEmdgmIBsYBTQjWBvMfDoMHB+gkqFXwY7/hEDw2z7\n",
       "37t36yswcPYLgIPXqBsYvAzrGDgEkOIHiQ0MKGAwIiIJKcLYLkAjBVNqFhBLI7jI8b0RiBmxJgDe\n",
       "AwwAhDhTKamPtOEAAAAASUVORK5CYII=\n",
       "\" style=\"display:inline;vertical-align:middle;\" /></a></td></tr>\n",
       "<tr><td>6</td><td>Variable</td><td></td><td><a class=\"ProveItLink\" href=\"../../../../../__pv_it/9995c55100c62d7d8a012a35bafc852acbe03cf00/expr.ipynb\"><img src=\"data:image/png;base64,iVBORw0KGgoAAAANSUhEUgAAABAAAAAOBAMAAADUAYG5AAAALVBMVEX///8iIiKYmJjc3Nzu7u7M\n",
       "zMx2dnZmZma6urpERESqqqoyMjJUVFSIiIgAAACbLqVTAAAAAXRSTlMAQObYZgAAAGVJREFUCNdj\n",
       "YGC48+7MmdOvGYAARKwEYo63QIIdiNmeAglfIOZ+wMDGwAxk8E1gUAIpZejbc/oxmJEXwLABzNjH\n",
       "wJDAEABkvGRgMGC5ADWGzQFqjDnEGAZWUQYGn3lvzpyRE2AAAIznGVQJqiN4AAAAAElFTkSuQmCC\n",
       "\" style=\"display:inline;vertical-align:middle;\" /></a></td></tr>\n",
       "<tr><td>7</td><td>Literal</td><td></td><td><a class=\"ProveItLink\" href=\"../../../__pv_it/46271c8230be96415d662709611f4ed2279d702b0/expr.ipynb\"><img src=\"data:image/png;base64,iVBORw0KGgoAAAANSUhEUgAAAA0AAAAOBAMAAAAGUYvhAAAAMFBMVEX///9mZmbMzMzc3NxUVFSY\n",
       "mJju7u6IiIi6urqqqqoiIiIQEBBEREQyMjJ2dnYAAAAQvcRZAAAAAXRSTlMAQObYZgAAAElJREFU\n",
       "CNdjePvn/u01ExgYGA60s117B6YZKngh9FSWBAjfBsxnWnoMRHet/10AkS+fA6F5OB5AaIYDqDRU\n",
       "PLCGgQFoz6ktExgAgLIl8DFvGtkAAAAASUVORK5CYII=\n",
       "\" style=\"display:inline;vertical-align:middle;\" /></a></td></tr>\n",
       "</table>\n"
      ],
      "text/plain": [
       "0. {E in BOOLEANS}\n",
       "   core type: Operation\n",
       "   operator: 1\n",
       "   operands: 2\n",
       "1. Set\n",
       "   core type: Literal\n",
       "   sub-expressions: \n",
       "2. (E in BOOLEANS)\n",
       "   core type: ExprTuple\n",
       "   sub-expressions: 3\n",
       "3. E in BOOLEANS\n",
       "   core type: Operation\n",
       "   operator: 4\n",
       "   operands: 5\n",
       "4. in\n",
       "   core type: Literal\n",
       "   sub-expressions: \n",
       "5. (E , BOOLEANS)\n",
       "   core type: ExprTuple\n",
       "   sub-expressions: 6, 7\n",
       "6. E\n",
       "   core type: Variable\n",
       "   sub-expressions: \n",
       "7. BOOLEANS\n",
       "   core type: Literal\n",
       "   sub-expressions: "
      ]
     },
     "execution_count": 4,
     "metadata": {},
     "output_type": "execute_result"
    }
   ],
   "source": [
    "# display the expression information\n",
    "expr.exprInfo()"
   ]
  },
  {
   "cell_type": "code",
   "execution_count": null,
   "metadata": {},
   "outputs": [],
   "source": []
  }
 ],
 "metadata": {
  "kernelspec": {
   "display_name": "Python 3",
   "language": "python",
   "name": "python3"
  }
 },
 "nbformat": 4,
 "nbformat_minor": 0
}
