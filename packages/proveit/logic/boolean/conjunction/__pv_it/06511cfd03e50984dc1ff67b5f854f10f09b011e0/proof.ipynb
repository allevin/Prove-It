{
 "cells": [
  {
   "cell_type": "markdown",
   "metadata": {},
   "source": [
    "Show the Proof\n",
    "========"
   ]
  },
  {
   "cell_type": "code",
   "execution_count": 1,
   "metadata": {},
   "outputs": [
    {
     "data": {
      "text/html": [
       "<table><tr><th>&nbsp;</th><th>step type</th><th>requirements</th><th>statement</th></tr>\n",
       "<tr><td>0</td><td>specialization</td><td>1, 2</td><td><span style=\"font-size:20px;\"><a class=\"ProveItLink\" href=\"../22c8c3af63199ae84bad8df086866b663ca41b130/expr.ipynb\"><img src=\"data:image/png;base64,iVBORw0KGgoAAAANSUhEUgAAAKcAAAAVBAMAAADROuOhAAAAMFBMVEX////c3NxERESqqqpUVFS6\n",
       "urrMzMwyMjIQEBCIiIh2dnYiIiLu7u5mZmaYmJgAAABXZE4RAAAAAXRSTlMAQObYZgAAAkxJREFU\n",
       "OMutlT2IE1EQxycft5tNNnsBC7FSsPAKwXRWQpT1Wrc8wSKEFHbZ5rAST0SvsbhKuEIMXKOCkNIv\n",
       "JJ0HNoeFFoIGQcSzOD8ioqjnzJvZt++9DWfjwO99zP4z72veCwBEr+H/mXe3RVX40PKeFSx75zoK\n",
       "iihhwLtC3eCTNVKHMTwjgGbXmU+uiM5M41PLAC+AgZdU1FdMuT9mDA8NmlIrUfEyVWa1QwBvEvDJ\n",
       "Tf3bxaDrQm4ff2GxTa3FTGApBmtIB6IhKGYFvS5oK534jOUmNXtUPAZHcQtPZmcIIYYhZgSdS5nc\n",
       "guAbluU2rQ5/XtkCR7GA3MftOAxMMWhzyOR2rvKHRBSLAlJgWzEF2H8U63uCCto0h/UnjLYw8X5Q\n",
       "vFSW3stUOhGm6zefUOO4sEOd83iorx6hUb7WEkY75qD0m6oVOZ/TALYiwC1/Rhm2JPi4nv61bMw+\n",
       "Mp8w2tGP4y80H5XMDQjVjE1FGYcLaIcGAhzBdSx19wqK7VUdtNmuT9yg8zjL6KcRtEEbXk2NGLU2\n",
       "kzkqdLR6+aW0wfluKAY4TPWrsXy1p/WREbQ8YTLHPqwu0WXkkRc/qMpUUJoepK/vBTulPEkdlT7s\n",
       "UFt4bKx9PZX6poLS1FsduyllJ/+Ikdu08L0Fb3cv4pHyLvpbWiX2fDeOL6iJLwszrullwbFNmdk4\n",
       "Vzm2xzVVL8d28Sd37O4MRX2N4aDRP54+NY3U7hcV8FTg9zR8YD1KHca2asvuFxVwUvCu8tu9YX48\n",
       "IFh2w3UUFEGXUf9RfwH9I6jGHH/6ZQAAAABJRU5ErkJggg==\n",
       "\" style=\"display:inline;vertical-align:middle;\" /></a> <a class=\"ProveItLink\" href=\"proof.ipynb\" style=\"text-decoration: none\">&#x22A2;&nbsp;</a><a class=\"ProveItLink\" href=\"../42be287793a6c836f70efb0ab4503e1a268d24400/expr.ipynb\"><img src=\"data:image/png;base64,iVBORw0KGgoAAAANSUhEUgAAADcAAAAPBAMAAACy3Eq1AAAAMFBMVEX///92dnYQEBBERERUVFS6\n",
       "urqIiIhmZmaqqqrc3Nzu7u6YmJgyMjIiIiLMzMwAAACFkkdwAAAAAXRSTlMAQObYZgAAAPtJREFU\n",
       "GNNjYACBtwyogNv/i4vzUSjnPJSeBZNlMmBgqA+AKLy/ACJ2HCb5PgGIHcDMGfUTwDSfLVQRQz5Q\n",
       "YL8AmJmQDzGBJSwBKmkExJfAKlkX9G8AC61huACV/MLAMMcKzFoKtgIIpBkqIHJ8X9LSb0OYAQzz\n",
       "C8CMCwxzICJsPxkY1oLdw+fi4m8AdnQCA8sDsCSzAlDBb7CVQG8dADF4FzDwQZzPD6S4P4JYDUBh\n",
       "BRCjHYhPQrwJdCDLDyCDEyjJ84EBKtEO9+b8A2D3A+34BbIbZDEvzJt8OkBvTtY/ycBt/wfoXBZQ\n",
       "SLCBPFX838XlzAaUqGCF+gsBAFd8PNYBN2/JAAAAAElFTkSuQmCC\n",
       "\" style=\"display:inline;vertical-align:middle;\" /></a></span></td></tr>\n",
       "<tr><td>&nbsp;</td><td colspan=4 style=\"text-align:left\"><span style=\"font-size:20px;\"><a class=\"ProveItLink\" href=\"../../../../../__pv_it/2cbe72a7ad6f655694dd697106680215e8489b600/expr.ipynb\"><img src=\"data:image/png;base64,iVBORw0KGgoAAAANSUhEUgAAAA8AAAAOBAMAAAACpFvcAAAALVBMVEX///8QEBBERERUVFS6urqI\n",
       "iIhmZmaqqqrc3Nzu7u6YmJgyMjIiIiLMzMwAAADtIaYWAAAAAXRSTlMAQObYZgAAAFtJREFUCNdj\n",
       "YACBOwxQsA9Kc52bAGG05zVAGAFxDmCaZULdAjBjCsO9ADDDgaEvAUTzGhvbKYCVMDAwbgAxChgY\n",
       "eASANAeQwf0AyJgNxEwvGRia5HYwcOm9TgAA6BoR3jrzwFcAAAAASUVORK5CYII=\n",
       "\" style=\"display:inline;vertical-align:middle;\" /></a> : <a class=\"ProveItLink\" href=\"../../../../../__pv_it/2cbe72a7ad6f655694dd697106680215e8489b600/expr.ipynb\"><img src=\"data:image/png;base64,iVBORw0KGgoAAAANSUhEUgAAAA8AAAAOBAMAAAACpFvcAAAALVBMVEX///8QEBBERERUVFS6urqI\n",
       "iIhmZmaqqqrc3Nzu7u6YmJgyMjIiIiLMzMwAAADtIaYWAAAAAXRSTlMAQObYZgAAAFtJREFUCNdj\n",
       "YACBOwxQsA9Kc52bAGG05zVAGAFxDmCaZULdAjBjCsO9ADDDgaEvAUTzGhvbKYCVMDAwbgAxChgY\n",
       "eASANAeQwf0AyJgNxEwvGRia5HYwcOm9TgAA6BoR3jrzwFcAAAAASUVORK5CYII=\n",
       "\" style=\"display:inline;vertical-align:middle;\" /></a>, <a class=\"ProveItLink\" href=\"../../../../../__pv_it/077b2ff79244fb4582cbe22c6e3356fa92a52f2f0/expr.ipynb\"><img src=\"data:image/png;base64,iVBORw0KGgoAAAANSUhEUgAAABAAAAAOBAMAAADUAYG5AAAAMFBMVEX///+qqqru7u4iIiJ2dnbc\n",
       "3NyIiIjMzMxmZmYQEBC6uroyMjJERERUVFSYmJgAAADLUcuvAAAAAXRSTlMAQObYZgAAAGpJREFU\n",
       "CNdjYGB4+//u3dMLGIBgDgMDxy8gzf4NiP8CGWxfGRj4vgAZPBMYGJgnARn8FxhY9ygAGfXX0pof\n",
       "gDTlBzAw2YIYJ0EckBBI53sHoBH/gIz7AhBjWH9DjancBLTl/N+7t/cxMAAA3u4f/5xagjYAAAAA\n",
       "SUVORK5CYII=\n",
       "\" style=\"display:inline;vertical-align:middle;\" /></a> : <a class=\"ProveItLink\" href=\"../../../../../__pv_it/077b2ff79244fb4582cbe22c6e3356fa92a52f2f0/expr.ipynb\"><img src=\"data:image/png;base64,iVBORw0KGgoAAAANSUhEUgAAABAAAAAOBAMAAADUAYG5AAAAMFBMVEX///+qqqru7u4iIiJ2dnbc\n",
       "3NyIiIjMzMxmZmYQEBC6uroyMjJERERUVFSYmJgAAADLUcuvAAAAAXRSTlMAQObYZgAAAGpJREFU\n",
       "CNdjYGB4+//u3dMLGIBgDgMDxy8gzf4NiP8CGWxfGRj4vgAZPBMYGJgnARn8FxhY9ygAGfXX0pof\n",
       "gDTlBzAw2YIYJ0EckBBI53sHoBH/gIz7AhBjWH9DjancBLTl/N+7t/cxMAAA3u4f/5xagjYAAAAA\n",
       "SUVORK5CYII=\n",
       "\" style=\"display:inline;vertical-align:middle;\" /></a></span></td></tr><tr><td>1</td><td>theorem</td><td></td><td><span style=\"font-size:20px;\"> <a class=\"ProveItLink\" href=\"../../_proofs_/demorgansLawOrToAndBin.ipynb\" style=\"text-decoration: none\">&#x22A2;&nbsp;</a><a class=\"ProveItLink\" href=\"../84ad43498a359483e1ebd283e97a2e354a29e7e80/expr.ipynb\"><img src=\"data:image/png;base64,iVBORw0KGgoAAAANSUhEUgAAAPsAAAAXBAMAAAA/2iRsAAAAMFBMVEX///8QEBC6urrMzMxUVFRm\n",
       "ZmZERETc3NwyMjKqqqp2dnaIiIiYmJgiIiLu7u4AAAAU9Wx4AAAAAXRSTlMAQObYZgAAA4RJREFU\n",
       "SMfFVk1oU0EQ/pKXvyYvsXjSkzmUIqg0B8EiSIMN1VuLUEVBGg+mHrQGLLYK2iJIPIjmYL20YBDU\n",
       "iqUEfw7SQ6NetB6sh16kaCpaeikW6Y9Kqc7Ovt28PGn0YHDYZGe/3Z1vZ2d29wH/V4rVNO7OV+p9\n",
       "Tr9JobyuEv1OWe1xwGbrYqLlErwx4L5oX6sSvWX3utW8qHBXEuiIoh84Sy1/sjrsIbn35gcrwpdV\n",
       "RxN1NMUxAQSoy5utDr1L0p7rSHNtnFKJNk7AmxxmaGn3enouVGnvt8oqPx7l2rNNZeIx+r0twkdu\n",
       "L6dS7/5o6AxFKGZr12itDAayXCw5ItO/eKvAypzMc5JFoLcLCLYBzUAnYxn+v7nU3sIW3Taj/hxw\n",
       "vtTMwMgpXcNy4m6IYslV/v/IoSYZwWGJG4tjT6aFE5R7dYj0c4J8lXlSi1CtUHw2eqGX0lOMvK0a\n",
       "GpYTg1FRLNnI/1H0tbEyiV4rJVeA+Th5SERhhHhvPq9ylzcO94qTfpBWWrpBxMg5hIQdGywnkivS\n",
       "GyHskJFItPIazTw8MlI+og2REWOB6kKYE3J0irvCeXgnnfQUHV9at8RITyxEMe62wdbEZi42egqi\n",
       "ixdENEac8Q1UmT8kfaSf7yYjn+KuLzG8TDvpabUu3eCRdKTJpX022Jo4xkXKZisZwxzNAZ1fTbTd\n",
       "nu9y89G5l08FjnJXw9jjLjjoDVp9o27xSHccD+GP22BrYh0XKSdF1hJ9YEGl9oA+9n1k0xS7MsB7\n",
       "/Qrj3DUMPCuW6O+mUql+4hI2WbdG0opm4UkLOEjwCT2x0bbSO3zayNSa8EEkQFgde2NTUR48uET2\n",
       "RKbaTzPrcdrGbLn3yRqiv6ESXY4k+mC0W8M+PdFOv4Pu9C0ZmKe/EY8nqq7hgz8TiSsi3QMCMgWt\n",
       "N40mTksKSUPMQe+mhdcrejmSoEjykIZ9emK9xsixtP3xtU6hTWa0tp3yseDPwL8G/5Qj9skIhWde\n",
       "0fNImHTvjMQ17NMTJ7hYV0Gu8l36QCmfluFvnTZWMbzUvj/roI/hPR8b1uVIeKOc6wo29MQDXMof\n",
       "3HWkdEGo5TpuOiVPKWrlr2JAJDV+gyHe8JLV7or0nrQD2LUO/SwttfybYFB54PhUoFvQdj/6K35s\n",
       "PXIChXXoa6hjqGxkXClDDo+4/AMps/KCAmN/WYP6C9Usf3BHufy1/AJB+ekBwI0csgAAAABJRU5E\n",
       "rkJggg==\n",
       "\" style=\"display:inline;vertical-align:middle;\" /></a></span></td></tr>\n",
       "<tr><td>&nbsp;</td><td colspan=4 style-\"text-align:left\"><a class=\"ProveItLink\" href=\"../../_proofs_/demorgansLawOrToAndBin.ipynb\">proveit.logic.boolean.conjunction.demorgansLawOrToAndBin</a></td></tr><tr><td>2</td><td>assumption</td><td></td><td><span style=\"font-size:20px;\"><a class=\"ProveItLink\" href=\"../22c8c3af63199ae84bad8df086866b663ca41b130/expr.ipynb\"><img src=\"data:image/png;base64,iVBORw0KGgoAAAANSUhEUgAAAKcAAAAVBAMAAADROuOhAAAAMFBMVEX////c3NxERESqqqpUVFS6\n",
       "urrMzMwyMjIQEBCIiIh2dnYiIiLu7u5mZmaYmJgAAABXZE4RAAAAAXRSTlMAQObYZgAAAkxJREFU\n",
       "OMutlT2IE1EQxycft5tNNnsBC7FSsPAKwXRWQpT1Wrc8wSKEFHbZ5rAST0SvsbhKuEIMXKOCkNIv\n",
       "JJ0HNoeFFoIGQcSzOD8ioqjnzJvZt++9DWfjwO99zP4z72veCwBEr+H/mXe3RVX40PKeFSx75zoK\n",
       "iihhwLtC3eCTNVKHMTwjgGbXmU+uiM5M41PLAC+AgZdU1FdMuT9mDA8NmlIrUfEyVWa1QwBvEvDJ\n",
       "Tf3bxaDrQm4ff2GxTa3FTGApBmtIB6IhKGYFvS5oK534jOUmNXtUPAZHcQtPZmcIIYYhZgSdS5nc\n",
       "guAbluU2rQ5/XtkCR7GA3MftOAxMMWhzyOR2rvKHRBSLAlJgWzEF2H8U63uCCto0h/UnjLYw8X5Q\n",
       "vFSW3stUOhGm6zefUOO4sEOd83iorx6hUb7WEkY75qD0m6oVOZ/TALYiwC1/Rhm2JPi4nv61bMw+\n",
       "Mp8w2tGP4y80H5XMDQjVjE1FGYcLaIcGAhzBdSx19wqK7VUdtNmuT9yg8zjL6KcRtEEbXk2NGLU2\n",
       "kzkqdLR6+aW0wfluKAY4TPWrsXy1p/WREbQ8YTLHPqwu0WXkkRc/qMpUUJoepK/vBTulPEkdlT7s\n",
       "UFt4bKx9PZX6poLS1FsduyllJ/+Ikdu08L0Fb3cv4pHyLvpbWiX2fDeOL6iJLwszrullwbFNmdk4\n",
       "Vzm2xzVVL8d28Sd37O4MRX2N4aDRP54+NY3U7hcV8FTg9zR8YD1KHca2asvuFxVwUvCu8tu9YX48\n",
       "IFh2w3UUFEGXUf9RfwH9I6jGHH/6ZQAAAABJRU5ErkJggg==\n",
       "\" style=\"display:inline;vertical-align:middle;\" /></a> <a class=\"ProveItLink\" href=\"../ae07cca32ec9414be685d2c4a9262b8ad94f0b8c0/proof.ipynb\" style=\"text-decoration: none\">&#x22A2;&nbsp;</a><a class=\"ProveItLink\" href=\"../7263e8a07597ec655d1ea354994470db6b7f8d4d0/expr.ipynb\"><img src=\"data:image/png;base64,iVBORw0KGgoAAAANSUhEUgAAAJIAAAAVBAMAAABf4KrdAAAAMFBMVEX////c3NxERESqqqqYmJgQ\n",
       "EBDu7u4yMjKIiIi6urpUVFTMzMx2dnYiIiJmZmYAAABjE816AAAAAXRSTlMAQObYZgAAAfVJREFU\n",
       "OMu1lD1II0EUx18+TDYfxoCFdh4csb1010m4RgVFbbRNE6wOtjtsTkvhQLfxsIx2roWS0iYprcRC\n",
       "rRTEVsRP7jQcl3tv3pvZnV21uz/8ZmZf/vtmduZNAP6HNgVLk6+5LKU9JlChyYQixwClffu9kCO9\n",
       "1/W3lwCugTHK1plQ5A4bl0ZqyoJ2afV9ALj1IEvh8HurQqDpX9hM0WhXGyxHewVpQroDCqN5wSgx\n",
       "do9tg4Ytas4g4lgvA8x0IDMLCq2cywRynBdsk1VaPL6TuoSIo4Kc4td+BEZU6jCBfqaesC1SAspC\n",
       "2WxHF2BoFPsjQW9vjTHKeIVnSuLKl7W0yxxjd3XthAafFTcXqHM6CI8xgRwk/lI3Kxu9A2A7HNzG\n",
       "r1QUGwLqABnwGBM48P0HmplKAfoho9YWdiRxDoc2oC28lQnHCyZTqVqsRTMN4HrSf+KZ+qqMDqTo\n",
       "YMzXJdx+LsaQo42584/xr0vWGB0YxG6Z7gSf++6E6sIOKqcR+nVckHtAp61OnANqWz7VTayl6jLs\n",
       "oHIqLNTjVZA7ZqS+K7/L8KX3Hc+ddyZ7aVyiq57vf1NLXBK05oSIGrKGeuCKKHpb1FWdivsO7cdX\n",
       "HMUV5p1/FTWhaz/HHbAoBFe/ydjKl+3nuAO2hEDDgqUf0UDM4ewr/gGGMJISJzoGpgAAAABJRU5E\n",
       "rkJggg==\n",
       "\" style=\"display:inline;vertical-align:middle;\" /></a></span></td></tr>\n",
       "</table>"
      ],
      "text/plain": [
       "<proveit._core_.proof._ShowProof at 0x7f9500060710>"
      ]
     },
     "execution_count": 1,
     "metadata": {},
     "output_type": "execute_result"
    }
   ],
   "source": [
    "import proveit\n",
    "%show_proof"
   ]
  },
  {
   "cell_type": "code",
   "execution_count": null,
   "metadata": {},
   "outputs": [],
   "source": []
  }
 ],
 "metadata": {
  "kernelspec": {
   "display_name": "Python 3",
   "language": "python",
   "name": "python3"
  }
 },
 "nbformat": 4,
 "nbformat_minor": 0
}
