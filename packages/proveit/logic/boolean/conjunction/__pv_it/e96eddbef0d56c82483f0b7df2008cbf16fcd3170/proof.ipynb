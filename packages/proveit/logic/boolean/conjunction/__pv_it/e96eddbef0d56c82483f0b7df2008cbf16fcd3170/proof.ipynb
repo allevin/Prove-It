{
 "cells": [
  {
   "cell_type": "markdown",
   "metadata": {},
   "source": [
    "Show the Proof\n",
    "========"
   ]
  },
  {
   "cell_type": "code",
   "execution_count": 1,
   "metadata": {},
   "outputs": [
    {
     "data": {
      "text/html": [
       "<table><tr><th>&nbsp;</th><th>step type</th><th>requirements</th><th>statement</th></tr>\n",
       "<tr><td>0</td><td>specialization</td><td>1, 2</td><td><span style=\"font-size:20px;\"><a class=\"ProveItLink\" href=\"../5ca3c01259be0e9a8de64d4fd63930a8fd48047c0/expr.ipynb\"><img src=\"data:image/png;base64,iVBORw0KGgoAAAANSUhEUgAAAEkAAAAVBAMAAAD4Ed5jAAAAMFBMVEX///9ERETc3NyqqqpUVFS6\n",
       "urrMzMwyMjIQEBCIiIh2dnYiIiLu7u5mZmaYmJgAAABJJ2g3AAAAAXRSTlMAQObYZgAAAVVJREFU\n",
       "KM9jYGDgu8eAB7CtUgBRPLsY8AK2ZhDJ+QHK24Am/eS/i4t4AAPDdRCHqwEiyA5VzXQApqyRgYH3\n",
       "KwPDCmRVr/9AVV+AWfUTiL+gqmKy/QSRTNwDVcUJFOD7haqKk/MrRNJ1JlQVI1CCuwdVVQzzPzDN\n",
       "U8ANVcXvwMBUeACqircALBkAcgZI0wNeA4iqfM+Ztx8A6fcgTkYAiGRlYPoLluNmYCqAqJqvwMCz\n",
       "BeqdlDawUIqLy0cw4yUDgxtElQRIJcgwcSARkQASAhrYDpYD+jAFouoLyLYFQNOBmIEFZAEzEO8A\n",
       "STEDjWcHxxwbyDf+BlB3cYFiRhmI68FhqgBRCQkupu8MSCHBAzJPHhQ1iSChDbDgyqhBUsUk8V2B\n",
       "4eH/WlCYgoRA4cor/8XFvY6BAS0eIQAaLMgAiyosAKyKj5AqcPri2UkgrbaCKb7FBNM9AFFaVjVX\n",
       "8M2fAAAAAElFTkSuQmCC\n",
       "\" style=\"display:inline;vertical-align:middle;\" /></a> <a class=\"ProveItLink\" href=\"proof.ipynb\" style=\"text-decoration: none\">&#x22A2;&nbsp;</a><a class=\"ProveItLink\" href=\"../dc8512eafaec1f15c2802d89c56cd1dbdb40322e0/expr.ipynb\"><img src=\"data:image/png;base64,iVBORw0KGgoAAAANSUhEUgAAADcAAAAPBAMAAACy3Eq1AAAAMFBMVEX///+qqqru7u4iIiJ2dnbc\n",
       "3NyIiIjMzMxmZmYQEBC6uroyMjJERERUVFSYmJgAAADLUcuvAAAAAXRSTlMAQObYZgAAAPtJREFU\n",
       "GNNjYGB4+//u3dMLGNBBMYSaw8DA8QvMYlVASO4Hk+zfgPgvmMndAJfjswcrZPsKZH4Bi9QYwSUD\n",
       "+wNAFM8EBgbmSWCRW2lwyYR8sDP4LzCw7gGbwbSBGSbHpSD/AETXX0trBjMYWB5wCEAltRjqE0B0\n",
       "fgADky1YhJmBdQNUcgFDPNhxJ0EKwFqfMTBch8ix3717/wCIAfLFewcQC+jWWqiVDAycIEPY/wGJ\n",
       "+yC7GIEGcYM9wADkMk+AepP1NzgIAiAKgHygJPcHqDcrN4GDAEQYgAhtkPgnYKie/3v39j5IEIAI\n",
       "UDDEzN/KwHf+dwNyPCyAOgUOADLmPrY83QJQAAAAAElFTkSuQmCC\n",
       "\" style=\"display:inline;vertical-align:middle;\" /></a></span></td></tr>\n",
       "<tr><td>&nbsp;</td><td colspan=4 style=\"text-align:left\"><span style=\"font-size:20px;\"><a class=\"ProveItLink\" href=\"../../../../../__pv_it/2cbe72a7ad6f655694dd697106680215e8489b600/expr.ipynb\"><img src=\"data:image/png;base64,iVBORw0KGgoAAAANSUhEUgAAAA8AAAAOBAMAAAACpFvcAAAALVBMVEX///8QEBBERERUVFS6urqI\n",
       "iIhmZmaqqqrc3Nzu7u6YmJgyMjIiIiLMzMwAAADtIaYWAAAAAXRSTlMAQObYZgAAAFtJREFUCNdj\n",
       "YACBOwxQsA9Kc52bAGG05zVAGAFxDmCaZULdAjBjCsO9ADDDgaEvAUTzGhvbKYCVMDAwbgAxChgY\n",
       "eASANAeQwf0AyJgNxEwvGRia5HYwcOm9TgAA6BoR3jrzwFcAAAAASUVORK5CYII=\n",
       "\" style=\"display:inline;vertical-align:middle;\" /></a> : <a class=\"ProveItLink\" href=\"../../../../../__pv_it/2cbe72a7ad6f655694dd697106680215e8489b600/expr.ipynb\"><img src=\"data:image/png;base64,iVBORw0KGgoAAAANSUhEUgAAAA8AAAAOBAMAAAACpFvcAAAALVBMVEX///8QEBBERERUVFS6urqI\n",
       "iIhmZmaqqqrc3Nzu7u6YmJgyMjIiIiLMzMwAAADtIaYWAAAAAXRSTlMAQObYZgAAAFtJREFUCNdj\n",
       "YACBOwxQsA9Kc52bAGG05zVAGAFxDmCaZULdAjBjCsO9ADDDgaEvAUTzGhvbKYCVMDAwbgAxChgY\n",
       "eASANAeQwf0AyJgNxEwvGRia5HYwcOm9TgAA6BoR3jrzwFcAAAAASUVORK5CYII=\n",
       "\" style=\"display:inline;vertical-align:middle;\" /></a>, <a class=\"ProveItLink\" href=\"../../../../../__pv_it/077b2ff79244fb4582cbe22c6e3356fa92a52f2f0/expr.ipynb\"><img src=\"data:image/png;base64,iVBORw0KGgoAAAANSUhEUgAAABAAAAAOBAMAAADUAYG5AAAAMFBMVEX///+qqqru7u4iIiJ2dnbc\n",
       "3NyIiIjMzMxmZmYQEBC6uroyMjJERERUVFSYmJgAAADLUcuvAAAAAXRSTlMAQObYZgAAAGpJREFU\n",
       "CNdjYGB4+//u3dMLGIBgDgMDxy8gzf4NiP8CGWxfGRj4vgAZPBMYGJgnARn8FxhY9ygAGfXX0pof\n",
       "gDTlBzAw2YIYJ0EckBBI53sHoBH/gIz7AhBjWH9DjancBLTl/N+7t/cxMAAA3u4f/5xagjYAAAAA\n",
       "SUVORK5CYII=\n",
       "\" style=\"display:inline;vertical-align:middle;\" /></a> : <a class=\"ProveItLink\" href=\"../../../../../__pv_it/077b2ff79244fb4582cbe22c6e3356fa92a52f2f0/expr.ipynb\"><img src=\"data:image/png;base64,iVBORw0KGgoAAAANSUhEUgAAABAAAAAOBAMAAADUAYG5AAAAMFBMVEX///+qqqru7u4iIiJ2dnbc\n",
       "3NyIiIjMzMxmZmYQEBC6uroyMjJERERUVFSYmJgAAADLUcuvAAAAAXRSTlMAQObYZgAAAGpJREFU\n",
       "CNdjYGB4+//u3dMLGIBgDgMDxy8gzf4NiP8CGWxfGRj4vgAZPBMYGJgnARn8FxhY9ygAGfXX0pof\n",
       "gDTlBzAw2YIYJ0EckBBI53sHoBH/gIz7AhBjWH9DjancBLTl/N+7t/cxMAAA3u4f/5xagjYAAAAA\n",
       "SUVORK5CYII=\n",
       "\" style=\"display:inline;vertical-align:middle;\" /></a></span></td></tr><tr><td>1</td><td>theorem</td><td></td><td><span style=\"font-size:20px;\"> <a class=\"ProveItLink\" href=\"../../_proofs_/commute.ipynb\" style=\"text-decoration: none\">&#x22A2;&nbsp;</a><a class=\"ProveItLink\" href=\"../5ba5b004159e2095a69f90e24d4e8789a44431760/expr.ipynb\"><img src=\"data:image/png;base64,iVBORw0KGgoAAAANSUhEUgAAALMAAAAXBAMAAACyt2M4AAAAMFBMVEX///8QEBC6urrMzMxUVFRm\n",
       "ZmZERETc3NwyMjKqqqp2dnaIiIiYmJgiIiLu7u4AAAAU9Wx4AAAAAXRSTlMAQObYZgAAAt9JREFU\n",
       "SMe1VU1IVFEU/py/18x78xxaRG1kFi1aVE5QBrVQdBAhaGYxUxBISqQtwnkLSVpIsykJJGdjazeR\n",
       "EYRRu1n4ioh+CA1yUyITFLSRIv/Txs65793nbcgBRzpwj+eeM/e793znnCfw/6RU60HfRLXoc1rT\n",
       "bLytAfo4rRebyeSVeGXET5jBBPCAN3dqgBZn9hHIT7HVttLf84NUHrjG7q6dI+vMh3+d1qKDl/ZC\n",
       "78qk3pCLbgsWdg5dx6/UVwDjl9g3zcmINkpefKbI/YGBwRr4OMQqFAOiDWLfWvTy0ZmiED13uafn\n",
       "Yw3QF1jVt0C7JUg281EZORreIB0hgtqAXuEaEvruUrY9IZrLq4rlGuFcNnNJeodZNZ8pdtpiG7El\n",
       "q2acK4Aw1fEg3cguw6m0EYMeE8lKkCmvu54Bj6W9l9WkBfOD2Eah5d1+h7bEf5gr6OLirxsiEmyB\n",
       "b0WFNi9yeIzNDNAoUxAP6WZ4252MNrffk8llbh7qQN2OCrYezTjXTyA4rUJH5ok1/yybn4BOqNDc\n",
       "d1Pi1jlnhkgox/0utJkXPv9Ej4h8T+CVpUKfDlHXh77x+xdgDEnoA3yGE00xx+G0rEmY1nuXEPS2\n",
       "sivgPqix+LQPKnQLJ3HKoLR968V2b+auum2trcpSh8XQXKc1wjVj6kdF/q8xKY6MU7VKCrRR0Cm1\n",
       "Ph7cSB5Gg4S+57b1MTHwTXA/R6IlciWn+VDHI2vOZHMC8TJxUlCg57PnyvCn6WqE0jDXJPQRqnhu\n",
       "Mdkx7AwMKxoarXvVwsvNm5QH95XBkEELzaKd6WxjQoE+D/8CAiXe1hfgW/AG3VIHKP7XJMAZdFcO\n",
       "00lbG4JWhjajcO0jjjdwgngt4EYJg95HyBirPq0PpfFlGVpqlio+vpTtKGxBm6ku9P+2z5LZFRnJ\n",
       "Zm5XfFS3FTNf4TAUO6TYlrtU6a8KHaj8+cltoP8lWtV/YE8qHfYOoHchgd0C/AHjLbEL913/rAAA\n",
       "AABJRU5ErkJggg==\n",
       "\" style=\"display:inline;vertical-align:middle;\" /></a></span></td></tr>\n",
       "<tr><td>&nbsp;</td><td colspan=4 style-\"text-align:left\"><a class=\"ProveItLink\" href=\"../../_proofs_/commute.ipynb\">proveit.logic.boolean.conjunction.commute</a></td></tr><tr><td>2</td><td>assumption</td><td></td><td><span style=\"font-size:20px;\"><a class=\"ProveItLink\" href=\"../5ca3c01259be0e9a8de64d4fd63930a8fd48047c0/expr.ipynb\"><img src=\"data:image/png;base64,iVBORw0KGgoAAAANSUhEUgAAAEkAAAAVBAMAAAD4Ed5jAAAAMFBMVEX///9ERETc3NyqqqpUVFS6\n",
       "urrMzMwyMjIQEBCIiIh2dnYiIiLu7u5mZmaYmJgAAABJJ2g3AAAAAXRSTlMAQObYZgAAAVVJREFU\n",
       "KM9jYGDgu8eAB7CtUgBRPLsY8AK2ZhDJ+QHK24Am/eS/i4t4AAPDdRCHqwEiyA5VzXQApqyRgYH3\n",
       "KwPDCmRVr/9AVV+AWfUTiL+gqmKy/QSRTNwDVcUJFOD7haqKk/MrRNJ1JlQVI1CCuwdVVQzzPzDN\n",
       "U8ANVcXvwMBUeACqircALBkAcgZI0wNeA4iqfM+Ztx8A6fcgTkYAiGRlYPoLluNmYCqAqJqvwMCz\n",
       "BeqdlDawUIqLy0cw4yUDgxtElQRIJcgwcSARkQASAhrYDpYD+jAFouoLyLYFQNOBmIEFZAEzEO8A\n",
       "STEDjWcHxxwbyDf+BlB3cYFiRhmI68FhqgBRCQkupu8MSCHBAzJPHhQ1iSChDbDgyqhBUsUk8V2B\n",
       "4eH/WlCYgoRA4cor/8XFvY6BAS0eIQAaLMgAiyosAKyKj5AqcPri2UkgrbaCKb7FBNM9AFFaVjVX\n",
       "8M2fAAAAAElFTkSuQmCC\n",
       "\" style=\"display:inline;vertical-align:middle;\" /></a> <a class=\"ProveItLink\" href=\"../79b9d0fbd443c278fbc9f28286e9e19bd8f8a97b0/proof.ipynb\" style=\"text-decoration: none\">&#x22A2;&nbsp;</a><a class=\"ProveItLink\" href=\"../42be287793a6c836f70efb0ab4503e1a268d24400/expr.ipynb\"><img src=\"data:image/png;base64,iVBORw0KGgoAAAANSUhEUgAAADcAAAAPBAMAAACy3Eq1AAAAMFBMVEX///92dnYQEBBERERUVFS6\n",
       "urqIiIhmZmaqqqrc3Nzu7u6YmJgyMjIiIiLMzMwAAACFkkdwAAAAAXRSTlMAQObYZgAAAPtJREFU\n",
       "GNNjYACBtwyogNv/i4vzUSjnPJSeBZNlMmBgqA+AKLy/ACJ2HCb5PgGIHcDMGfUTwDSfLVQRQz5Q\n",
       "YL8AmJmQDzGBJSwBKmkExJfAKlkX9G8AC61huACV/MLAMMcKzFoKtgIIpBkqIHJ8X9LSb0OYAQzz\n",
       "C8CMCwxzICJsPxkY1oLdw+fi4m8AdnQCA8sDsCSzAlDBb7CVQG8dADF4FzDwQZzPD6S4P4JYDUBh\n",
       "BRCjHYhPQrwJdCDLDyCDEyjJ84EBKtEO9+b8A2D3A+34BbIbZDEvzJt8OkBvTtY/ycBt/wfoXBZQ\n",
       "SLCBPFX838XlzAaUqGCF+gsBAFd8PNYBN2/JAAAAAElFTkSuQmCC\n",
       "\" style=\"display:inline;vertical-align:middle;\" /></a></span></td></tr>\n",
       "</table>"
      ],
      "text/plain": [
       "<proveit._core_.proof._ShowProof at 0x7f94ebfc5ef0>"
      ]
     },
     "execution_count": 1,
     "metadata": {},
     "output_type": "execute_result"
    }
   ],
   "source": [
    "import proveit\n",
    "%show_proof"
   ]
  },
  {
   "cell_type": "code",
   "execution_count": null,
   "metadata": {},
   "outputs": [],
   "source": []
  }
 ],
 "metadata": {
  "kernelspec": {
   "display_name": "Python 3",
   "language": "python",
   "name": "python3"
  }
 },
 "nbformat": 4,
 "nbformat_minor": 0
}
