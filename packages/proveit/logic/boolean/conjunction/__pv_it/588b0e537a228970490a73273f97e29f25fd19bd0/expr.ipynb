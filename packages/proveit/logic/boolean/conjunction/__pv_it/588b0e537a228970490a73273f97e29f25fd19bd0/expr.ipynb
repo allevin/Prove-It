{
 "cells": [
  {
   "cell_type": "markdown",
   "metadata": {},
   "source": [
    "Axiom <a class=\"ProveItLink\" href=\"../../_axioms_.ipynb#emptyConjunction\">emptyConjunction</a> of type <a class=\"ProveItLink\" href=\"../../../../../../../doc/html/api/proveit.logic.Equals.html\">Equals</a>\n",
    "=======================\n",
    "# from context <a class=\"ProveItLink\" href=\"../../_context_.ipynb\">proveit.logic.boolean.conjunction</a>\n",
    "*** see <a class=\"ProveItLink\" href=\"dependencies.ipynb\">dependencies</a> ***"
   ]
  },
  {
   "cell_type": "code",
   "execution_count": 1,
   "metadata": {},
   "outputs": [],
   "source": [
    "# import the special expression\n",
    "from proveit.logic.boolean.conjunction._axioms_ import emptyConjunction"
   ]
  },
  {
   "cell_type": "code",
   "execution_count": 2,
   "metadata": {},
   "outputs": [
    {
     "name": "stdout",
     "output_type": "stream",
     "text": [
      "Passed sanity check: built 'emptyConjunction' is the same as the stored Expression.\n"
     ]
    }
   ],
   "source": [
    "# check that the built expression is the same as the stored expression\n",
    "%check_expr emptyConjunction"
   ]
  },
  {
   "cell_type": "code",
   "execution_count": 3,
   "metadata": {},
   "outputs": [
    {
     "data": {
      "text/html": [
       "<table><tr><th>&nbsp;</th><th>core type</th><th>sub-expressions</th><th>expression</th></tr>\n",
       "<tr><td>0</td><td>Operation</td><td>operator:&nbsp;1<br>operands:&nbsp;2<br></td><td><a class=\"ProveItLink\" href=\"expr.ipynb\"><img src=\"data:image/png;base64,iVBORw0KGgoAAAANSUhEUgAAAFYAAAAVBAMAAAAutAQGAAAAMFBMVEX///8QEBCqqqqYmJhUVFRE\n",
       "RERmZmbu7u7c3Ny6urp2dnbMzMwyMjIiIiKIiIgAAACNohqFAAAAAXRSTlMAQObYZgAAAP1JREFU\n",
       "KM9jYCABvD0NZdjcBFPzGCxxql2JyuJ2YGDbgK4m9y4IXIWoaIer5SlgYDiAxchtcBXH4Kx3QGyF\n",
       "Ty13bAFMrTgQF+JTyzLvAZTFCbKfVQGP2hqGC1AW2wIgwZWAR+1ihiQoi8cASDCBPZdzBgSOoKu9\n",
       "wNADZTFOADlEALe5zA8YWDZA1PKD1HJ/wK2WtwAUBcSpVQNSJ6BuUIC7ARZZqGqB6kDqQWpZQX5j\n",
       "PoDTXO4AIMULUQsOLjxhxgJyI98DSFyAAppnAqbaXRC1nGDOBEgcS+CIY2xpEpRu1hGpFpgm2Q8Q\n",
       "qZbDgYGlAWceug1jQPJQH8NrXEoBHNZZ2P5yjVwAAAAASUVORK5CYII=\n",
       "\" style=\"display:inline;vertical-align:middle;\" /></a></td></tr>\n",
       "<tr><td>1</td><td>Literal</td><td></td><td><a class=\"ProveItLink\" href=\"../../../../equality/__pv_it/2fb26078095930560931daa0500ce419a39ea6cd0/expr.ipynb\"><img src=\"data:image/png;base64,iVBORw0KGgoAAAANSUhEUgAAAA4AAAAFBAMAAACHocAhAAAAFVBMVEX///9EREQiIiJUVFQyMjJm\n",
       "ZmYAAADubVkoAAAAAXRSTlMAQObYZgAAABRJREFUCNdjCHEBAWcGXCBICQQUAUpuAwlgGKrkAAAA\n",
       "AElFTkSuQmCC\n",
       "\" style=\"display:inline;vertical-align:middle;\" /></a></td></tr>\n",
       "<tr><td>2</td><td>ExprTuple</td><td>3, 4</td><td><a class=\"ProveItLink\" href=\"../973bfeb17dbb8f60a879191a7c9e5b1045cf0a230/expr.ipynb\"><img src=\"data:image/png;base64,iVBORw0KGgoAAAANSUhEUgAAAFUAAAAVBAMAAADFg78FAAAAMFBMVEX////c3NwiIiJERESqqqqY\n",
       "mJh2dnZmZmYQEBDu7u4yMjJUVFTMzMyIiIi6uroAAAAs73DqAAAAAXRSTlMAQObYZgAAAVlJREFU\n",
       "KM+Vk79Lw1AQx6+tsfllzKoiFF1FRHDv5urk4CBdxKkiIs4KLi6aUZziICI49E/opINL6KxQHIWC\n",
       "+AeI37t3CY8XRAzk3uXDh+Ty7h7Rf66koNGj5jurskxot6YJeSE6qIhk8YDaw5IcLfG1bMiDGnOV\n",
       "G2ZEufXKZ4kgM4Ua95X7hnu75oL4mTHi9ax0L3Bf11yQDzWiSaFZwt9vdV0X5ESNG+po1u4hTB+6\n",
       "LsidGnt0rFm4hTCVuy7IpRodmtfMH3Mhp64L8m0Mr6BoaNxZduNP1wVRt5lxC/5wz427ieVWa+j+\n",
       "VsOGceGxz26L/83jf8tsF2Rf3HgNS9O4sl0cgi9nz97FjbhGtFt6wRsdAgRXqVhPEkH8lN1EHsem\n",
       "x2dlj5PU6jSI16vNJM9NX0q0B7hvzSTZMxnkritkoeY2BhTJ1wvLFdLAGVpRMDJnaJFea2cI5Adj\n",
       "AF44PJKP2wAAAABJRU5ErkJggg==\n",
       "\" style=\"display:inline;vertical-align:middle;\" /></a></td></tr>\n",
       "<tr><td>3</td><td>Operation</td><td>operator:&nbsp;5<br>operands:&nbsp;6<br></td><td><a class=\"ProveItLink\" href=\"../2f7602a1b37d52d7e40b1bfc37218da3063aba9a0/expr.ipynb\"><img src=\"data:image/png;base64,iVBORw0KGgoAAAANSUhEUgAAACkAAAAVBAMAAAAp9toTAAAAMFBMVEX///8QEBCqqqqYmJhUVFRE\n",
       "RERmZmbu7u7c3Ny6urp2dnbMzMwyMjIiIiKIiIgAAACNohqFAAAAAXRSTlMAQObYZgAAAN9JREFU\n",
       "GNNjYMAK3p6GMmxugql5DJZAciVcHszidmBg2wBlt8NFeQoYGA5A2cfgou+A2ArC5o4tgImKA3Eh\n",
       "hM0y7wFUlBOom4FVAcyuYbgAFWVbACS4EsDsxQxJUFEeAyDBdADMvsDQAxVlnAAyRgDEZn7AwAJ1\n",
       "Iz9IlPsDiM1bAHI8uqgakHUCaoIC3ASgCEgGJMoKso0ZZBt3AJDFCxEFOgrqMhaQWXwPIL4AOZxn\n",
       "ApDNCQ6xCRAfSyB8jBSSwJBhWIchCgxJ9gMYohwODCwNwBi6DYsqSAz1MbxmYAAA2WJAREfhQwEA\n",
       "AAAASUVORK5CYII=\n",
       "\" style=\"display:inline;vertical-align:middle;\" /></a></td></tr>\n",
       "<tr><td>4</td><td>Literal</td><td></td><td><a class=\"ProveItLink\" href=\"../../../__pv_it/68a87cc3370287d726c7086ace789e680e4461c30/expr.ipynb\"><img src=\"data:image/png;base64,iVBORw0KGgoAAAANSUhEUgAAAA4AAAAOBAMAAADtZjDiAAAAFVBMVEX///92dnbMzMxEREQiIiJm\n",
       "ZmYAAABAT6GXAAAAAXRSTlMAQObYZgAAABhJREFUCNdjCHEBAWcGIFBlgABa0YpADAAxegPJJk4d\n",
       "XAAAAABJRU5ErkJggg==\n",
       "\" style=\"display:inline;vertical-align:middle;\" /></a></td></tr>\n",
       "<tr><td>5</td><td>Literal</td><td></td><td><a class=\"ProveItLink\" href=\"../76b5f4f4c45c0b6a9b59b297fc07dfa9555698f50/expr.ipynb\"><img src=\"data:image/png;base64,iVBORw0KGgoAAAANSUhEUgAAAAwAAAAOBAMAAADpk+DfAAAALVBMVEX///+qqqqYmJh2dnaIiIi6\n",
       "urpUVFQiIiJERETMzMxmZmYyMjLu7u7c3NwAAABvwqPxAAAAAXRSTlMAQObYZgAAAEtJREFUCNdj\n",
       "YGDgPcAAAtwLwNSMGjCV6gIieTawgyhmBS4BIMXOwLsBSKkwMGQCKaC6aQwMjEBd3BdACMScAVJd\n",
       "wJAKolwYAkAUKwAk0guX6efcigAAAABJRU5ErkJggg==\n",
       "\" style=\"display:inline;vertical-align:middle;\" /></a></td></tr>\n",
       "<tr><td>6</td><td>ExprTuple</td><td></td><td><a class=\"ProveItLink\" href=\"../feb17bb8e989ce470672228f3fb01ca3e9677f560/expr.ipynb\"><img src=\"data:image/png;base64,iVBORw0KGgoAAAANSUhEUgAAAAwAAAAVBAMAAACAghKHAAAAMFBMVEX////c3NwiIiJERESqqqqY\n",
       "mJh2dnZmZmYQEBDu7u4yMjJUVFTMzMyIiIi6uroAAAAs73DqAAAAAXRSTlMAQObYZgAAAG1JREFU\n",
       "CNdjYIACvgusD4DUaQaGGiC1koGBi4GB9wIDA2sCA8cEBgbOBoZXIGUmDGUgKp1hKYjyYugDUS8Y\n",
       "/oGo8zCqBSJoCqKigGrBGh6BqHUMHAJgw4DGMrBdAFs0CyguzcCwEUgxXuA9wAAApdcX/S64IkwA\n",
       "AAAASUVORK5CYII=\n",
       "\" style=\"display:inline;vertical-align:middle;\" /></a></td></tr>\n",
       "</table>\n"
      ],
      "text/plain": [
       "0. [and]() = TRUE\n",
       "   core type: Operation\n",
       "   operator: 1\n",
       "   operands: 2\n",
       "1. =\n",
       "   core type: Literal\n",
       "   sub-expressions: \n",
       "2. ([and]() , TRUE)\n",
       "   core type: ExprTuple\n",
       "   sub-expressions: 3, 4\n",
       "3. [and]()\n",
       "   core type: Operation\n",
       "   operator: 5\n",
       "   operands: 6\n",
       "4. TRUE\n",
       "   core type: Literal\n",
       "   sub-expressions: \n",
       "5. and\n",
       "   core type: Literal\n",
       "   sub-expressions: \n",
       "6. ()\n",
       "   core type: ExprTuple\n",
       "   sub-expressions: "
      ]
     },
     "execution_count": 3,
     "metadata": {},
     "output_type": "execute_result"
    }
   ],
   "source": [
    "# display the expression information\n",
    "emptyConjunction.exprInfo()"
   ]
  },
  {
   "cell_type": "code",
   "execution_count": null,
   "metadata": {},
   "outputs": [],
   "source": []
  }
 ],
 "metadata": {
  "kernelspec": {
   "display_name": "Python 3",
   "language": "python",
   "name": "python3"
  }
 },
 "nbformat": 4,
 "nbformat_minor": 0
}
