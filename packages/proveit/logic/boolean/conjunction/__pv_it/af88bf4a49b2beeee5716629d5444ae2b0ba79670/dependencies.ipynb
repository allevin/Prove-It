{
 "cells": [
  {
   "cell_type": "markdown",
   "metadata": {},
   "source": [
    "Theorem Dependencies\n",
    "=======================\n",
    "\n",
    "## <a class=\"ProveItLink\" href=\"../../_context_.ipynb\">proveit.logic.boolean.conjunction</a>.<a class=\"ProveItLink\" href=\"../../_theorems_.ipynb#falseAndTrueNegated\">falseAndTrueNegated</a> \n",
    "***see <a class=\"ProveItLink\" href=\"../../_proofs_/falseAndTrueNegated.ipynb\">proof</a>***"
   ]
  },
  {
   "cell_type": "code",
   "execution_count": 1,
   "metadata": {},
   "outputs": [],
   "source": [
    "from proveit.logic.boolean.conjunction._theorems_ import falseAndTrueNegated"
   ]
  },
  {
   "cell_type": "code",
   "execution_count": 2,
   "metadata": {},
   "outputs": [
    {
     "data": {
      "text/html": [
       "<h3>Axioms required (directly or indirectly) to prove falseAndTrueNegated</h3>"
      ],
      "text/plain": [
       "<IPython.core.display.HTML object>"
      ]
     },
     "metadata": {},
     "output_type": "display_data"
    },
    {
     "data": {
      "text/html": [
       "<dl>"
      ],
      "text/plain": [
       "<IPython.core.display.HTML object>"
      ]
     },
     "metadata": {},
     "output_type": "display_data"
    },
    {
     "data": {
      "text/html": [
       "<dt><a class=\"ProveItLink\" href=\"../../_axioms_.ipynb#andFT\">proveit.logic.boolean.conjunction.andFT</a></dt><dd><a class=\"ProveItLink\" href=\"../00a36dba59af72bf2e5558ba96855ddd2d1315380/expr.ipynb\"><img src=\"data:image/png;base64,iVBORw0KGgoAAAANSUhEUgAAAHAAAAAVBAMAAABs93eRAAAAMFBMVEX////c3NwiIiJERESqqqqY\n",
       "mJh2dnZmZmYQEBDu7u4yMjJUVFTMzMyIiIi6uroAAAAs73DqAAAAAXRSTlMAQObYZgAAAQpJREFU\n",
       "OMtjYCAb8F3AJxuHW+o0iGBE112kBALKDOwHsGiRBZMrQQRPAUyQcQKMdRxMLsCiESzDewFVI1cB\n",
       "qsYwXBo5JqBqPKyJqnEGLo2vGFA17ruLqpHZAYfGMlSNnAuYUDWyFeDQuBRVI1sAuwOKRhZw6FSt\n",
       "AoHVyDJ9qBqZGBgXoGjka8Bh4z9UjbEMDHtQNPJ8IE6jJjRFENbYgqKRBUhzCWA6FZaQkGRMUTSC\n",
       "NLEUIGtkXYDDxnQUjYdBhAJR0fGIgYEd6IomJSUDUPSDhKBJ4BjEDQ8wk78GyNUcAsiiYFV8yCIz\n",
       "cOUq1gT82TUXp8xKvPo4F+CUksarkVsApxQj3qLjDi4JACAySBRuBPpwAAAAAElFTkSuQmCC\n",
       "\" style=\"display:inline;vertical-align:middle;\" /></a></dd>"
      ],
      "text/plain": [
       "<IPython.core.display.HTML object>"
      ]
     },
     "metadata": {},
     "output_type": "display_data"
    },
    {
     "data": {
      "text/html": [
       "<dt><a class=\"ProveItLink\" href=\"../../../negation/_axioms_.ipynb#negationIntro\">proveit.logic.boolean.negation.negationIntro</a></dt><dd><a class=\"ProveItLink\" href=\"../../../negation/__pv_it/799eb3b565b99e60491a24b404f1db01d8e6476d0/expr.ipynb\"><img src=\"data:image/png;base64,iVBORw0KGgoAAAANSUhEUgAAAIUAAAAXBAMAAADXWpFHAAAAMFBMVEX///8QEBC6urrMzMxUVFRm\n",
       "ZmZERETc3NwyMjKqqqp2dnaIiIiYmJgiIiLu7u4AAAAU9Wx4AAAAAXRSTlMAQObYZgAAActJREFU\n",
       "OMtjYKACeECacm10gUNAfAHEOE2sEcwOKDygZlYDBoaVIE4fsWZwoDib4wOQaGBgKANS7AnEmrEb\n",
       "hXf2H5A4BTGZdQKxZsghc9infgeSDxkYeJaXl9cSawRTAzKPm/sTkGQDOuBbWtotYs1gXYDM0+P8\n",
       "AyS5AhgYnBkY0sFC7RCr4AFWgCVIDyBx+BSYfwMpTqDbVBj4wC7k+QSWYYMpOa+AUA4Lc0agWOxd\n",
       "ILgFto39K4gSYGDgZeAGm/70D4oZfPEHMM3gh5lrAsIuLt9AiQQYwdwHeMGRvu4qihlcbwMImAFk\n",
       "S0DN4GswAae5DWkoZlizJWDxywSEGZxA6iLULwzpTiBRFoZYFDMcWC8weHQAwQYkM9gOIMyoBFL9\n",
       "oHAEheZUcJY5ybAf2QyeCdwfMN3BBfMfMyQi8h9AxRhBNvFdDc1/gGTG29Cwf5hmMF2Ap9HEHwUM\n",
       "x/63AuMbFEY8IL2sBQz2BkhmhDMwf2bIQPcLgzhmmnkIZ+kAA/0AwgwmIPsPpjtAGQwdrIYxnnxj\n",
       "YPe/AzeDzz+BoeQvNABZ09LE0rKw5X2w0gZMY9nwZhh2B3QRlgJSzWCoRhfYzECyGUQBFtK1AAB+\n",
       "a2tdy7eWbQAAAABJRU5ErkJggg==\n",
       "\" style=\"display:inline;vertical-align:middle;\" /></a></dd>"
      ],
      "text/plain": [
       "<IPython.core.display.HTML object>"
      ]
     },
     "metadata": {},
     "output_type": "display_data"
    },
    {
     "data": {
      "text/html": [
       "</dl>"
      ],
      "text/plain": [
       "<IPython.core.display.HTML object>"
      ]
     },
     "metadata": {},
     "output_type": "display_data"
    },
    {
     "data": {
      "text/html": [
       "<h3>Theorems that depend directly on falseAndTrueNegated</h3>"
      ],
      "text/plain": [
       "<IPython.core.display.HTML object>"
      ]
     },
     "metadata": {},
     "output_type": "display_data"
    },
    {
     "data": {
      "text/html": [
       "<dl>"
      ],
      "text/plain": [
       "<IPython.core.display.HTML object>"
      ]
     },
     "metadata": {},
     "output_type": "display_data"
    },
    {
     "data": {
      "text/html": [
       "<dt><a class=\"ProveItLink\" href=\"../../_proofs_/binaryClosure.ipynb\">proveit.logic.boolean.conjunction.binaryClosure</a></dt><dd><a class=\"ProveItLink\" href=\"../5c84df2f748f99e9970088a408218dab6d6882750/expr.ipynb\"><img src=\"data:image/png;base64,iVBORw0KGgoAAAANSUhEUgAAAMcAAAAWBAMAAACGSZV/AAAAMFBMVEX///8QEBC6urrMzMxUVFRm\n",
       "ZmZERETc3NwyMjKqqqp2dnaIiIiYmJgiIiLu7u4AAAAU9Wx4AAAAAXRSTlMAQObYZgAAA11JREFU\n",
       "SMe9Vl9Ik1EUP9vn57ft+1zSS0YYK4IiK/cg9hCxoUMNIoNYD/2dQTMp7HsILaQaghhi6YvR414q\n",
       "I4hB9RA++BUkZkTzwYhwMqFCMitCl5Vo59x7v23OufVSF+537z3nnvu753fOuRvA/2jxv9tmjeCn\n",
       "LNcOzZVd/gx7lCYv84JUYJe8bCpFM06vn/XVtAMcWi529JyZL20CkN0A90hwIy8I7bBxr23fuEgx\n",
       "SbAEAE66wJZhUmiNTH0KA4QAWmh7IB+GSmwN8PmrRT7aDgqlB5UeL2jhFSCqCxFG+PXk3nwgFrr1\n",
       "Ru5A3w8uq5wQykEd4HUYnMV8OX099laA2I0DAJPI6N3W1st52dpGsQ9xp9TvXFYlPIMG7KN4iyYe\n",
       "su54ypOtyFEhupAIBt/lBTmCXeZ07LIvsNEZKhLKWYCLzTjeZquWeIquvUO4cCCt1QCNTNjJvjfn\n",
       "/DXuFSDdFAODne2SfvPsMQTL0uzA43Ga3GLLxlRMYksbcLQjA1vwTiwTOQtaMaicXK2rq8MQBmsp\n",
       "LqwQrKDMMVERKII/jNEMZfcmdolAeuCf4MpaTJtVdtQHzoLsBStaTfuPQSQ8vVkY0AXWMJAKny8B\n",
       "oraq+WF4iErGHnaJ0lgsGXgIbEdPMeVVo4ix+GCMXzACchTUU1e+IIjj8woQ/JQw0QSvUJSjF9ov\n",
       "E0RUrAlSyEGcIbZXigSZ6qsbhnV4TtNIuOyEMFhPdFEI7JRJJLFjOG06KxMkouBnkq5oJgjRBY1V\n",
       "JCqA40xVPvComVUpgvhLzZicIyNaXMLew0pR50C8TK6SwTDbun8ZCNKlka6PYb+AQabqB3gal8Lc\n",
       "E3mPMKDspFRkOXKe6K0E8+HDMpFK4skUnnGlQLSjAW4HFnoynGN+ZgunkbFe6U0weJZi4hAGOymk\n",
       "UVAa5nUYWuqgUgTx0Bxe8vmuMY/b+YvQ4TYfyMToPvKZUDU6XNbBw5RIbrnb6eWeJEEsxP669MoR\n",
       "+ZzWzGfFXsezy2yTydkOzBJD6QRlERRMs1pBV5v5nBN/I7lfBUcku/y+OXmfAKV+XFqA/jl/HWbR\n",
       "RxcrxqCR5alfrU1lF/NST//9Sc7uYEzS2wVi25sTpDa7uEDPEOxe9QSFuGjL+ZPjzi5/mCkw/s3/\n",
       "iD9xNeHJcqW+GAAAAABJRU5ErkJggg==\n",
       "\" style=\"display:inline;vertical-align:middle;\" /></a></dd>"
      ],
      "text/plain": [
       "<IPython.core.display.HTML object>"
      ]
     },
     "metadata": {},
     "output_type": "display_data"
    },
    {
     "data": {
      "text/html": [
       "<dt><a class=\"ProveItLink\" href=\"../../_proofs_/leftFromAndExplicit.ipynb\">proveit.logic.boolean.conjunction.leftFromAndExplicit</a></dt><dd><a class=\"ProveItLink\" href=\"../d17b3b3361cac813f71ef27699985edc2c8db0330/expr.ipynb\"><img src=\"data:image/png;base64,iVBORw0KGgoAAAANSUhEUgAAAI0AAAAWBAMAAAAP0QIWAAAAMFBMVEX///8QEBC6urrMzMxUVFRm\n",
       "ZmZERETc3NwyMjKqqqp2dnaIiIiYmJgiIiLu7u4AAAAU9Wx4AAAAAXRSTlMAQObYZgAAAjtJREFU\n",
       "OMutVEFr1FAQ/po0yZpk0/4BdRFvCrsHRbBIFy3Vk93DRi9qRTE9CN09SItI273IYg82F726J60X\n",
       "ieCth8aDoHiwl3rQgkFUhFoVl1bF7eK8SbabylqR9MG8N5k3+WbeN/MeAmzPWBDT82QYR0juC+Vm\n",
       "MpwZkjES7XwiGPMNkZMiUdxEOFeHywR2b3x8ItmxvPkMzWuO8yoRjBTc8Wk5Bozwd5Xn26v2YO4P\n",
       "z0y0psqRsqNkFy+2dt+i36NlL6wKs/UtJK0XRm+oTU9f91lrleFFCxCPgYftKFMFWtIw2Pt9g61K\n",
       "HtJ3YNk+A6+2vCeOYw0Lx5pQi0A2Sk4eGBgSDoaf5p5+sMjmtAdlAcaFyc+Eo3+K4+grFFdeEupr\n",
       "4GyLHqBLHMiqHGBYz2HzlxyelvGE61Dbdy6O06eSon4U/9RhViMc6pk0EzFyVMzdUYDs3KNRgBnz\n",
       "7J2b+MlTojhskk36NTcYXUyNcFJfhXaLr9gzzLN9lkgM5FqYj9IXwzFdg/xHRQy9AnNXiCPSU5tC\n",
       "6xJVsxbtEke4REdz5ZeOc1nwo8dwVuxTTcgFigi1AOsnG8d2V2GWfoiCmeJ/pYx+bhvazuasfJjP\n",
       "JpzTkOvoDqACPS6kesem3E+bvlaF1oRGhTsenetaG0ciXho4SAV2MRVgotAJ5t0atKEluYHZVfsE\n",
       "Mfchw33otHm2qEmurPsnxac+YxdvbPkCbGh3iZ+NEXtWypFsPQ51Nv/38+RvE85fRv7fLr8BYO6Y\n",
       "y4lNU68AAAAASUVORK5CYII=\n",
       "\" style=\"display:inline;vertical-align:middle;\" /></a></dd>"
      ],
      "text/plain": [
       "<IPython.core.display.HTML object>"
      ]
     },
     "metadata": {},
     "output_type": "display_data"
    },
    {
     "data": {
      "text/html": [
       "<dt><a class=\"ProveItLink\" href=\"../../_proofs_/nandIfRightButNotLeft.ipynb\">proveit.logic.boolean.conjunction.nandIfRightButNotLeft</a></dt><dd><a class=\"ProveItLink\" href=\"../d0569cc6bbb5356494003b40b073257ea35f9a6b0/expr.ipynb\"><img src=\"data:image/png;base64,iVBORw0KGgoAAAANSUhEUgAAANYAAAAXBAMAAACFeawMAAAAMFBMVEX///8QEBC6urrMzMxUVFRm\n",
       "ZmZERETc3NwyMjKqqqp2dnaIiIiYmJgiIiLu7u4AAAAU9Wx4AAAAAXRSTlMAQObYZgAAAupJREFU\n",
       "SMe9Vk1oE0EYfZu/jWaTBi/qRSN4EKo0B6EnSdBQvaUgERRK48EUQdscxFZEGwoSD6K5VLyZi1pR\n",
       "JKCecsjqqerBeMhFKkZR6EUs0h+VUv3m291kshtzWNSBZL753s68nbdvvl3gP7am65n9Uuyp9Lry\n",
       "Of20GFAXg1cuqLxJabDf6A7YrtHSy6mhGfjjFB8F7ovcdRdcQVkRc4Eb5vCylVeywGgMBXE9cJ46\n",
       "NeuCqyrFIUNC7b3Jf8UCEgQkkngpwDLfnr/kgmuHFCsGx4XRvCHvWWvPNUq8LuMDhZEotHuTk5dc\n",
       "UHkK0mCP0VVqMe59/ZZVTtLvTRMBsZnTwGou99YFl78sDU4Y9M3bOgeLhuOoLQNT48DmYYrvAIeA\n",
       "Mc4X+f/mSmYozjM717ahCOoSeI3/P/LjofYQx02vLlefLlC/SYhwC9iNCMuhfTOebxShqAgCne61\n",
       "oVBIrpF31IQoWzgVw/QwB3VMmZ5ZA77Q2fCIObuAMEJ8i5/XDW2S8Kw5uewo+mLS0eIb8aZSaTa0\n",
       "VoHP2HyAOEI007skPEmxHmbXPGowHK7AX3dy2dEuXCS6wgrReuZB76NO+9nmihT40HsrOYa/xjGf\n",
       "d3A5UCgliWu7CCgRZn1nW483QYr5frQ1xNhB9ilGGB6oPhmHg8uBIqBLXGdEQSCu4JJlo9nW8Zqm\n",
       "vWpiv/MizaK8QI3hOeBZs811N5fLFbqgho15y4adyeg0Z0MkxEMLW8fLu63Z9jwUYdRIIzPBi5wi\n",
       "oUqd+8p2QeGpS9veR7VuZxHaxHda1BezqtaxX6nUVbH/oEjNCNuIVfx5JNg7pO5A3M7lRIGtco3K\n",
       "yxXFPABSM2uU2faSaXS1CHUDagN2LicKrqet01fuXWQeCNGtuvVpFWp6wbuOuZXMkZKNK94F7f5O\n",
       "+UPjYrFof7dJccAxResYqfK78lxPLp+Q+LAtOdiTa7BzeFEm7vkN8FiYJW5L6j259H/20eP76yv+\n",
       "BsgCyxFaw+qZAAAAAElFTkSuQmCC\n",
       "\" style=\"display:inline;vertical-align:middle;\" /></a></dd>"
      ],
      "text/plain": [
       "<IPython.core.display.HTML object>"
      ]
     },
     "metadata": {},
     "output_type": "display_data"
    },
    {
     "data": {
      "text/html": [
       "<dt><a class=\"ProveItLink\" href=\"../../../implication/_proofs_/notIffViaNotRightImpl.ipynb\">proveit.logic.boolean.implication.notIffViaNotRightImpl</a></dt><dd><a class=\"ProveItLink\" href=\"../../../implication/__pv_it/93acd11154bde9128889720515b69434910a22f20/expr.ipynb\"><img src=\"data:image/png;base64,iVBORw0KGgoAAAANSUhEUgAAAPcAAAAXBAMAAAAl5sTiAAAAMFBMVEX///8QEBC6urrMzMxUVFRm\n",
       "ZmZERETc3NwyMjKqqqp2dnaIiIiYmJgiIiLu7u4AAAAU9Wx4AAAAAXRSTlMAQObYZgAAA35JREFU\n",
       "SMfFVk1oE0EUfsk22aS73VYU2lPJQURQbA4FRQ8NNRZvDdrUkzRFmnqyC4qtlNogSPVic7CCeOlJ\n",
       "K0KJaEHJoVFBtCKthyLUVlNQD0K02D9ra+ubN7PNZrOxhyg+eDvzzUze996bNzMB+J+S/itW9hQE\n",
       "tvJU6AQDr4rklgL5QJqwWag2LgQbLoHLD6R32di1Isk96XzgmbNb6YgAtPgghl3U89jIkSLJkzbg\n",
       "9brdyroEagDGsDvG/XTFiySvzgfywLLAGKEUMiZHdYDxQZjFLqp6p7Ozp0huZywfKMp3jhWMFdqN\n",
       "2VbUN2lwY7hMl6LRqS3Nn7UfFhlzDZrGBNjnXeP4APt0GbML2D8DUBrietjwq4++NxbDDX6KwGRQ\n",
       "JoMePTvi7Qg3nYKDosRS5nojoPmkVV7022ZQPoiSlhaSI9Ps5zGuO0GjRKk8TWoFKBWs4zYZ5P1x\n",
       "n2noCcB9KOUjDmxOMo4pAZjr8iLNPeK1v5uvVLAQMngUnRVcy0AhXz/xNLkC4Fy2kt+iYFrMATYB\n",
       "1OjcbSg3vKrdBLXB4BJrZ8VBknfwKJBQQSJpjquSKiPnhidpuiwBrgkrOe1LaYbX7E36vsNgac/s\n",
       "yfFTRR4f4TNdCb4So1Z/Zsm1WC3tRiJK09/88EK3ktM+HHLzKNxsWpsHtc840464iZyAlxU1L44Z\n",
       "krfimGPySlayaYf2ejZcwgJBqUk+PAMWcomyG8CMNEej0dPb2Z6uJhvSrGBoacpETuACaj8fu84+\n",
       "GT17zHvRmioUBijLL2GUpoewltJZ8tvIFnOy21qNK+LCdB3HPYiBWi3OER0a7qUAVAsdvNToBqvP\n",
       "HnOpKp09auBg26FNhvniNsx8PDfyiJeRZ8LN4sKU2nRwh0BbMcid5jcEgdz6Q4fnG5cJM0eM+7t5\n",
       "Ixi8wjLj8XEFlZG6dKij440Wa/wWcif77QmQ5mEkjMJqqDwOznmAXXxFpfnmqbTcRGhNsz7c4noV\n",
       "shftpeQ+kNdBnrTseUTDyJzo8Bp8RfnCMtWbhp4QPQ4Am40NKCD3hJJ8XAK5cVpag6HF8NG4hdwP\n",
       "70FrjMC5Xymjqkr7w01XsT1W+En9k7Ct0GLWtz7vVuPy2LzooqkvDMjmPxM5wF5KdK45sr8A+ecC\n",
       "RrwJ0ek2j3ZvSf5AaI6kCpB7UwUi+Ff/LHMMP7NfM1wcxW8Y9+5GWhd5MwAAAABJRU5ErkJggg==\n",
       "\" style=\"display:inline;vertical-align:middle;\" /></a></dd>"
      ],
      "text/plain": [
       "<IPython.core.display.HTML object>"
      ]
     },
     "metadata": {},
     "output_type": "display_data"
    },
    {
     "data": {
      "text/html": [
       "</dl>"
      ],
      "text/plain": [
       "<IPython.core.display.HTML object>"
      ]
     },
     "metadata": {},
     "output_type": "display_data"
    }
   ],
   "source": [
    "%dependencies falseAndTrueNegated"
   ]
  }
 ],
 "metadata": {
  "kernelspec": {
   "display_name": "Python 3",
   "language": "python",
   "name": "python3"
  }
 },
 "nbformat": 4,
 "nbformat_minor": 0
}
