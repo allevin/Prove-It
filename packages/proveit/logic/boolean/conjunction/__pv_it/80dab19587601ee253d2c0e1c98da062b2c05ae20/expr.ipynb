{
 "cells": [
  {
   "cell_type": "markdown",
   "metadata": {},
   "source": [
    "Expression of type <a class=\"ProveItLink\" href=\"../../../../../../../doc/html/api/proveit.ExprTuple.html\">ExprTuple</a>\n",
    "=======================\n",
    "# from context <a class=\"ProveItLink\" href=\"../../_context_.ipynb\">proveit.logic.boolean.conjunction</a>"
   ]
  },
  {
   "cell_type": "code",
   "execution_count": 1,
   "metadata": {},
   "outputs": [],
   "source": [
    "# import Expression classes needed to build the expression\n",
    "from proveit import ExprTuple\n",
    "from proveit._common_ import C, D, E\n",
    "from proveit.logic import And, Booleans"
   ]
  },
  {
   "cell_type": "code",
   "execution_count": 2,
   "metadata": {},
   "outputs": [
    {
     "data": {
      "text/html": [
       "<strong id=\"expr\">expr:</strong> <a class=\"ProveItLink\" href=\"expr.ipynb\"><img src=\"data:image/png;base64,iVBORw0KGgoAAAANSUhEUgAAAIQAAAAVBAMAAAB1UFtyAAAAMFBMVEX////c3NwiIiJERESqqqqY\n",
       "mJh2dnZmZmYQEBDu7u4yMjJUVFTMzMyIiIi6uroAAAAs73DqAAAAAXRSTlMAQObYZgAAAktJREFU\n",
       "OMutVE1oE2EQfUmaTfYnaaCHol4C4qEgdCmKFIUGRAQRzEUEQcxFBS8qil4EC9qDCJKjVIppoWgQ\n",
       "rJ6ErNSARw8NeJTa2otFCDYURY1V5+fbbNpbSRf225fMzNt587PADlzZRi/RyWU63jOaOnyrOLjJ\n",
       "lnnbDmpHtgR8/BcEtd8CL6/PPdtbAG4TrtJtTQBfJsQUKxv3/gpwqqB4V8jB4UcV+k27ehFw6G2k\n",
       "w56hOKslFueq8V4oAalfip+GojfoSIUU+ETxyRLSFO3cZ/O4WN4NGfclUultCPRGTGrWHxbdoTjm\n",
       "lmGP4yv9usP5xvT184uGYoz/awt0m6bkzhosxKIsBuh5ADfJUQpk1+WsxA3FOr9eKSaRN/XxcTos\n",
       "i9/09o3S8xJmSdz3qOZWMaUlFA3JH4Iv4IZavz2vtToUK8M/ObkTeAjEWxFFHLGKNpVlu38F57Fb\n",
       "rVfqqERZYJGbswpy6l8TCWI4B7wRkOA/01LiZAOuqMQcUEK9Q5HIUtcWmCItFCfFMGRmjWUD54uS\n",
       "WRney7A+ObsRUcBninuUrnRfGtJHp5OTsWDPu+J8nO7pzlhY5c0UqzhoKqcWDu8TsiXKN1EV52lD\n",
       "o2MxaDSHQs5STyjfArLXdLC0ejoWng6l50uZdSzg7Qee5JXizAdp6go71V6brs3zQcNlX6eFOqSF\n",
       "c3kZeQ8ej7WDYJjCH7VkzUYecP9fIJ3rXsVlkbzlaxBZwutzBGnAaU22fxW7ZrGhy94DxSTde7bP\n",
       "kOnCr3gbe/rwZer4D6y6nb2QoO2KAAAAAElFTkSuQmCC\n",
       "\" style=\"display:inline;vertical-align:middle;\" /></a><br>"
      ],
      "text/plain": [
       "expr: (C and D and E , BOOLEANS)"
      ]
     },
     "execution_count": 2,
     "metadata": {},
     "output_type": "execute_result"
    }
   ],
   "source": [
    "# build up the expression from sub-expressions\n",
    "expr = ExprTuple(And(C, D, E), Booleans)"
   ]
  },
  {
   "cell_type": "code",
   "execution_count": 3,
   "metadata": {},
   "outputs": [
    {
     "name": "stdout",
     "output_type": "stream",
     "text": [
      "Passed sanity check: built 'expr' is the same as the stored Expression.\n"
     ]
    }
   ],
   "source": [
    "# check that the built expression is the same as the stored expression\n",
    "%check_expr"
   ]
  },
  {
   "cell_type": "code",
   "execution_count": 4,
   "metadata": {},
   "outputs": [
    {
     "data": {
      "text/html": [
       "<table><tr><th>&nbsp;</th><th>core type</th><th>sub-expressions</th><th>expression</th></tr>\n",
       "<tr><td>0</td><td>ExprTuple</td><td>1, 2</td><td><a class=\"ProveItLink\" href=\"expr.ipynb\"><img src=\"data:image/png;base64,iVBORw0KGgoAAAANSUhEUgAAAIQAAAAVBAMAAAB1UFtyAAAAMFBMVEX////c3NwiIiJERESqqqqY\n",
       "mJh2dnZmZmYQEBDu7u4yMjJUVFTMzMyIiIi6uroAAAAs73DqAAAAAXRSTlMAQObYZgAAAktJREFU\n",
       "OMutVE1oE2EQfUmaTfYnaaCHol4C4qEgdCmKFIUGRAQRzEUEQcxFBS8qil4EC9qDCJKjVIppoWgQ\n",
       "rJ6ErNSARw8NeJTa2otFCDYURY1V5+fbbNpbSRf225fMzNt587PADlzZRi/RyWU63jOaOnyrOLjJ\n",
       "lnnbDmpHtgR8/BcEtd8CL6/PPdtbAG4TrtJtTQBfJsQUKxv3/gpwqqB4V8jB4UcV+k27ehFw6G2k\n",
       "w56hOKslFueq8V4oAalfip+GojfoSIUU+ETxyRLSFO3cZ/O4WN4NGfclUultCPRGTGrWHxbdoTjm\n",
       "lmGP4yv9usP5xvT184uGYoz/awt0m6bkzhosxKIsBuh5ADfJUQpk1+WsxA3FOr9eKSaRN/XxcTos\n",
       "i9/09o3S8xJmSdz3qOZWMaUlFA3JH4Iv4IZavz2vtToUK8M/ObkTeAjEWxFFHLGKNpVlu38F57Fb\n",
       "rVfqqERZYJGbswpy6l8TCWI4B7wRkOA/01LiZAOuqMQcUEK9Q5HIUtcWmCItFCfFMGRmjWUD54uS\n",
       "WRney7A+ObsRUcBninuUrnRfGtJHp5OTsWDPu+J8nO7pzlhY5c0UqzhoKqcWDu8TsiXKN1EV52lD\n",
       "o2MxaDSHQs5STyjfArLXdLC0ejoWng6l50uZdSzg7Qee5JXizAdp6go71V6brs3zQcNlX6eFOqSF\n",
       "c3kZeQ8ej7WDYJjCH7VkzUYecP9fIJ3rXsVlkbzlaxBZwutzBGnAaU22fxW7ZrGhy94DxSTde7bP\n",
       "kOnCr3gbe/rwZer4D6y6nb2QoO2KAAAAAElFTkSuQmCC\n",
       "\" style=\"display:inline;vertical-align:middle;\" /></a></td></tr>\n",
       "<tr><td>1</td><td>Operation</td><td>operator:&nbsp;3<br>operands:&nbsp;4<br></td><td><a class=\"ProveItLink\" href=\"../0ebf51db954843ff8dae4f0c37a06b00d3d317e20/expr.ipynb\"><img src=\"data:image/png;base64,iVBORw0KGgoAAAANSUhEUgAAAGAAAAAPBAMAAADpFNeEAAAAMFBMVEX////MzMyqqqoiIiIyMjK6\n",
       "uroQEBB2dnbc3NyYmJhmZmZUVFRERESIiIju7u4AAAB204erAAAAAXRSTlMAQObYZgAAAZVJREFU\n",
       "KM9VUj1LA0EQfWcSc7mLMX0CWotg/APJVRIM6FUWgugPEEwl2JgrrCz0WgtRLARFUCFpvCIRO5uk\n",
       "V/GEdCJEURRijLOze/lYuLk3Mzu7M+8tgMTjzZl+jME1Vm175VsMr4eu55U/CWy6iJy6HNsLkuMW\n",
       "MDPJUPeDoNg8DTSz9C85HJoPchNFwPhjGA4uj3TIGMCcOGGJQ9pdcNqzTV6HYTqrYtF3Mm8wPoSz\n",
       "yyFzpaGSddFLm2HlScXCLUShY98SzguHmsio5K+4jwsSViiYq4YD+l26fR62cCIBdxP75kZcQw6P\n",
       "1UL5h345p1+QwY6iVbRrfgkYgm7JYCkJgbrs8LCxBswku/EWmdE1AQ+Ba1mwCBSRxIbAI7wv5EO7\n",
       "CtoFjrhZ4ijVm8tJNFD1Jbu0pujLSxkEW+t8FKkQdnoyRH2Z2+ZteVVEMtCN8QXm0pFFSgaiP0Y6\n",
       "LPMRWo1nVDJoUvW0JEPKAG2WQKpwLnkzbcEPXZi4oGd2L8evCCOke623PS+XGXyNEbb28BO1+xm5\n",
       "/gF4VWQFRtIgswAAAABJRU5ErkJggg==\n",
       "\" style=\"display:inline;vertical-align:middle;\" /></a></td></tr>\n",
       "<tr><td>2</td><td>Literal</td><td></td><td><a class=\"ProveItLink\" href=\"../../../__pv_it/46271c8230be96415d662709611f4ed2279d702b0/expr.ipynb\"><img src=\"data:image/png;base64,iVBORw0KGgoAAAANSUhEUgAAAA0AAAAOBAMAAAAGUYvhAAAAMFBMVEX///9mZmbMzMzc3NxUVFSY\n",
       "mJju7u6IiIi6urqqqqoiIiIQEBBEREQyMjJ2dnYAAAAQvcRZAAAAAXRSTlMAQObYZgAAAElJREFU\n",
       "CNdjePvn/u01ExgYGA60s117B6YZKngh9FSWBAjfBsxnWnoMRHet/10AkS+fA6F5OB5AaIYDqDRU\n",
       "PLCGgQFoz6ktExgAgLIl8DFvGtkAAAAASUVORK5CYII=\n",
       "\" style=\"display:inline;vertical-align:middle;\" /></a></td></tr>\n",
       "<tr><td>3</td><td>Literal</td><td></td><td><a class=\"ProveItLink\" href=\"../76b5f4f4c45c0b6a9b59b297fc07dfa9555698f50/expr.ipynb\"><img src=\"data:image/png;base64,iVBORw0KGgoAAAANSUhEUgAAAAwAAAAOBAMAAADpk+DfAAAALVBMVEX///+qqqqYmJh2dnaIiIi6\n",
       "urpUVFQiIiJERETMzMxmZmYyMjLu7u7c3NwAAABvwqPxAAAAAXRSTlMAQObYZgAAAEtJREFUCNdj\n",
       "YGDgPcAAAtwLwNSMGjCV6gIieTawgyhmBS4BIMXOwLsBSKkwMGQCKaC6aQwMjEBd3BdACMScAVJd\n",
       "wJAKolwYAkAUKwAk0guX6efcigAAAABJRU5ErkJggg==\n",
       "\" style=\"display:inline;vertical-align:middle;\" /></a></td></tr>\n",
       "<tr><td>4</td><td>ExprTuple</td><td>5, 6, 7</td><td><a class=\"ProveItLink\" href=\"../9b46dd346f176f4dd7279387cd96c08d0fd585db0/expr.ipynb\"><img src=\"data:image/png;base64,iVBORw0KGgoAAAANSUhEUgAAAFAAAAAVBAMAAAAjqnRBAAAAMFBMVEX////c3NwiIiJERESqqqqY\n",
       "mJh2dnZmZmYQEBDu7u4yMjJUVFTMzMyIiIi6uroAAAAs73DqAAAAAXRSTlMAQObYZgAAAZxJREFU\n",
       "KM+NUz1PAkEQfah33iEH11lY6E+g0EYLqI0FtY3XGSsxMdqYSCGJNnqdxoRINBY2olKYeAXEUgvp\n",
       "LUQbjY3gVyLgx8zeHtxVcsm+3dl5uzPzdg7o+otW/ucoVYJrXuUmllOD7ubtr+MclCXDKDUdp5DH\n",
       "Cq2PaKhZ4DErnQ2g7927K5YnK44wnaHI+r5N5LrrinwSrNqS+MKJpaFY0GgrvMG5ZmS0H4IbL/F5\n",
       "SkKvQM/gmc8nCUJp19VbIxg+kcQCYMEERrFElAZv6bKAWJxv9IhvUFI8z+IQ6P/wSyGizlhSu4ZT\n",
       "MHkxiU2gp+4n3vHNpaprqC0umL4nUOqxmggtiQmGdWmEa1AR4ThM1ARxqp0VvYSXDCUcQk4Q14CB\n",
       "LwixXBm/CbS4X8Y5EXpM+lTbDW60CMZJXNuTUeg2TXVTjUlEF4C9ESnjFbn0VykjLstCngcOd3G+\n",
       "SNMOVb+daDpFbgF9y4RepAY5EyeOoZkdZe4D7edz8BMqVsdMBXrQb6gVt83+Je7SGGpbRqCrA41/\n",
       "yl3Txa9glPEHp9Zv1gCxd98AAAAASUVORK5CYII=\n",
       "\" style=\"display:inline;vertical-align:middle;\" /></a></td></tr>\n",
       "<tr><td>5</td><td>Variable</td><td></td><td><a class=\"ProveItLink\" href=\"../../../../../__pv_it/985a1bdf1540838275dec15f4ad6de261cca93ce0/expr.ipynb\"><img src=\"data:image/png;base64,iVBORw0KGgoAAAANSUhEUgAAAA8AAAAOBAMAAAACpFvcAAAAMFBMVEX////MzMyqqqoiIiIyMjK6\n",
       "uroQEBB2dnbc3NyYmJhmZmZUVFRERESIiIju7u4AAAB204erAAAAAXRSTlMAQObYZgAAAGZJREFU\n",
       "CNdjYGDgu7NrJccCBgaGsgkMrMsmMDA8sQNy6hsYGNweABlhDAxcn4A0QxcDQ78DiPGQgWH9BAYI\n",
       "sG+AMv6DSaCGfBDNJMDAsB+kmwuI5S8AiTog5gSaEwXWIO29SgFIAQBC+RaDQlidVgAAAABJRU5E\n",
       "rkJggg==\n",
       "\" style=\"display:inline;vertical-align:middle;\" /></a></td></tr>\n",
       "<tr><td>6</td><td>Variable</td><td></td><td><a class=\"ProveItLink\" href=\"../../../../../__pv_it/185e6d30f167ee2ee5ef3321098dc98e0d77bc590/expr.ipynb\"><img src=\"data:image/png;base64,iVBORw0KGgoAAAANSUhEUgAAABEAAAAOBAMAAAA7w+qHAAAALVBMVEX///8QEBCYmJjc3Ny6urru\n",
       "7u5mZmZ2dnaqqqrMzMxEREQyMjJUVFSIiIgAAABETr/8AAAAAXRSTlMAQObYZgAAAGpJREFUCNdj\n",
       "YGC48+7MmV0TGEDgNQMDxwsQg/M5kMgLABK8T4DEvAtAgusBkLA7ACT4FoDEDsAk9AqAxD2QCecc\n",
       "gMQ6kAGCIOIVEDM9Ahn3FkgwgnTxvgQSqwOgxs1OADLC1r05cyoTyAAAv4Qe+njAWvgAAAAASUVO\n",
       "RK5CYII=\n",
       "\" style=\"display:inline;vertical-align:middle;\" /></a></td></tr>\n",
       "<tr><td>7</td><td>Variable</td><td></td><td><a class=\"ProveItLink\" href=\"../../../../../__pv_it/9995c55100c62d7d8a012a35bafc852acbe03cf00/expr.ipynb\"><img src=\"data:image/png;base64,iVBORw0KGgoAAAANSUhEUgAAABAAAAAOBAMAAADUAYG5AAAALVBMVEX///8iIiKYmJjc3Nzu7u7M\n",
       "zMx2dnZmZma6urpERESqqqoyMjJUVFSIiIgAAACbLqVTAAAAAXRSTlMAQObYZgAAAGVJREFUCNdj\n",
       "YGC48+7MmdOvGYAARKwEYo63QIIdiNmeAglfIOZ+wMDGwAxk8E1gUAIpZejbc/oxmJEXwLABzNjH\n",
       "wJDAEABkvGRgMGC5ADWGzQFqjDnEGAZWUQYGn3lvzpyRE2AAAIznGVQJqiN4AAAAAElFTkSuQmCC\n",
       "\" style=\"display:inline;vertical-align:middle;\" /></a></td></tr>\n",
       "</table>\n"
      ],
      "text/plain": [
       "0. (C and D and E , BOOLEANS)\n",
       "   core type: ExprTuple\n",
       "   sub-expressions: 1, 2\n",
       "1. C and D and E\n",
       "   core type: Operation\n",
       "   operator: 3\n",
       "   operands: 4\n",
       "2. BOOLEANS\n",
       "   core type: Literal\n",
       "   sub-expressions: \n",
       "3. and\n",
       "   core type: Literal\n",
       "   sub-expressions: \n",
       "4. (C , D , E)\n",
       "   core type: ExprTuple\n",
       "   sub-expressions: 5, 6, 7\n",
       "5. C\n",
       "   core type: Variable\n",
       "   sub-expressions: \n",
       "6. D\n",
       "   core type: Variable\n",
       "   sub-expressions: \n",
       "7. E\n",
       "   core type: Variable\n",
       "   sub-expressions: "
      ]
     },
     "execution_count": 4,
     "metadata": {},
     "output_type": "execute_result"
    }
   ],
   "source": [
    "# display the expression information\n",
    "expr.exprInfo()"
   ]
  },
  {
   "cell_type": "code",
   "execution_count": null,
   "metadata": {},
   "outputs": [],
   "source": []
  }
 ],
 "metadata": {
  "kernelspec": {
   "display_name": "Python 3",
   "language": "python",
   "name": "python3"
  }
 },
 "nbformat": 4,
 "nbformat_minor": 0
}
