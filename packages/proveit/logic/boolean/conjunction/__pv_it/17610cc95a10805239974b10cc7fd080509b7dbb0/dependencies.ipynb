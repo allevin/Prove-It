{
 "cells": [
  {
   "cell_type": "markdown",
   "metadata": {},
   "source": [
    "Theorem Dependencies\n",
    "=======================\n",
    "\n",
    "## <a class=\"ProveItLink\" href=\"../../_context_.ipynb\">proveit.logic.boolean.conjunction</a>.<a class=\"ProveItLink\" href=\"../../_theorems_.ipynb#trueAndTrue\">trueAndTrue</a> \n",
    "***see <a class=\"ProveItLink\" href=\"../../_proofs_/trueAndTrue.ipynb\">proof</a>***"
   ]
  },
  {
   "cell_type": "code",
   "execution_count": 1,
   "metadata": {},
   "outputs": [],
   "source": [
    "from proveit.logic.boolean.conjunction._theorems_ import trueAndTrue"
   ]
  },
  {
   "cell_type": "code",
   "execution_count": 2,
   "metadata": {},
   "outputs": [
    {
     "data": {
      "text/html": [
       "<h3>Axioms required (directly or indirectly) to prove trueAndTrue</h3>"
      ],
      "text/plain": [
       "<IPython.core.display.HTML object>"
      ]
     },
     "metadata": {},
     "output_type": "display_data"
    },
    {
     "data": {
      "text/html": [
       "<dl>"
      ],
      "text/plain": [
       "<IPython.core.display.HTML object>"
      ]
     },
     "metadata": {},
     "output_type": "display_data"
    },
    {
     "data": {
      "text/html": [
       "<dt><a class=\"ProveItLink\" href=\"../../_axioms_.ipynb#andTT\">proveit.logic.boolean.conjunction.andTT</a></dt><dd><a class=\"ProveItLink\" href=\"../51838eaba66011860e5e0b82c5dd05a6c42529320/expr.ipynb\"><img src=\"data:image/png;base64,iVBORw0KGgoAAAANSUhEUgAAAHAAAAAVBAMAAABs93eRAAAAMFBMVEX////c3NwiIiJERESqqqqY\n",
       "mJh2dnZmZmYQEBDu7u4yMjJUVFTMzMyIiIi6uroAAAAs73DqAAAAAXRSTlMAQObYZgAAAQRJREFU\n",
       "OMtjYCAb8F3AJxuHW+o0A7sSGBggixaBhZQZ2A+gq4fJMKwE8XgKYOKME2Cs42ByARa7wDK8F1A1\n",
       "chWgagzDpZFjAqrGw5qoGmfg0viKAVXjvruoGpkdcGgsQ9XIuYAJVSNbAQ6NS1E1sgWwO6BoZAGH\n",
       "TtUqEFiNLNOHqpGJgXEBika+Bhw2/kPVGMvAsAdFI88H4jRqglIEURpbUDSyAGkuAUynwpMLQsYU\n",
       "RSNIE0sBskbWBThsTEfReBhEKBAVHY8gGhOg0Q8ioEngGMQNDzA1gmU4BJCFwKr4kEVm4MpVrAn4\n",
       "s2suTpmVePVxLsApJY1XI7cATilGvEXHHVwSAK+LR/LZCB/YAAAAAElFTkSuQmCC\n",
       "\" style=\"display:inline;vertical-align:middle;\" /></a></dd>"
      ],
      "text/plain": [
       "<IPython.core.display.HTML object>"
      ]
     },
     "metadata": {},
     "output_type": "display_data"
    },
    {
     "data": {
      "text/html": [
       "<dt><a class=\"ProveItLink\" href=\"../../../_axioms_.ipynb#eqTrueElim\">proveit.logic.boolean.eqTrueElim</a></dt><dd><a class=\"ProveItLink\" href=\"../../../__pv_it/3e7bd867633eab3d515d0929d36506bc9b5772e10/expr.ipynb\"><img src=\"data:image/png;base64,iVBORw0KGgoAAAANSUhEUgAAAGgAAAAWBAMAAADeGsQjAAAAMFBMVEX///8QEBC6urrMzMxUVFRm\n",
       "ZmZERETc3NwyMjKqqqp2dnaIiIiYmJgiIiLu7u4AAAAU9Wx4AAAAAXRSTlMAQObYZgAAAUpJREFU\n",
       "OMtjeMBABrgAIk6ToIEZqGMliNFHgiaODwwMZUCaPYEETWf/ATUCPcU6gXg97FO/MzDwLC8vryXB\n",
       "Im7uT0DyW1raLRI06XH+AZLODAzpYG47mGSCe7gAmx4+BebfQEqFga8BxOX5BBZlg0mfV4AyWNPS\n",
       "xNKyoBwmBvavQIqXgfsAiPv0D4omvvgDCPMRoWvi4vIN5LMDvOBUse4qiiautwHYNAGtlwAZ2WAC\n",
       "jugNaSiarNkSsGjiBOKLIEa6E4hkYYhF0eTAeoHBowMINiBrqgTifhBjKjj5nWTYj6yJZwL3B0yb\n",
       "wEGWD/INI8gsvquhYA5M09vQsH8YmtgTfxQwHPvfCjIUpJi1gMHeAElTOAPzZ4YMDOehAh0GBv4D\n",
       "CE1MQPYfbKGHDJ58Y2D3vwPXxOefwFDy9wABTQjARk5Opp8mFiLUAADNR1FAr8G4iQAAAABJRU5E\n",
       "rkJggg==\n",
       "\" style=\"display:inline;vertical-align:middle;\" /></a></dd>"
      ],
      "text/plain": [
       "<IPython.core.display.HTML object>"
      ]
     },
     "metadata": {},
     "output_type": "display_data"
    },
    {
     "data": {
      "text/html": [
       "</dl>"
      ],
      "text/plain": [
       "<IPython.core.display.HTML object>"
      ]
     },
     "metadata": {},
     "output_type": "display_data"
    },
    {
     "data": {
      "text/html": [
       "<h3>Theorems that depend directly on trueAndTrue</h3>"
      ],
      "text/plain": [
       "<IPython.core.display.HTML object>"
      ]
     },
     "metadata": {},
     "output_type": "display_data"
    },
    {
     "data": {
      "text/html": [
       "<dl>"
      ],
      "text/plain": [
       "<IPython.core.display.HTML object>"
      ]
     },
     "metadata": {},
     "output_type": "display_data"
    },
    {
     "data": {
      "text/html": [
       "<dt><a class=\"ProveItLink\" href=\"../../_proofs_/andIfBoth.ipynb\">proveit.logic.boolean.conjunction.andIfBoth</a></dt><dd><a class=\"ProveItLink\" href=\"../cd54a2b9b31685812aa22a6f9ac65a0ec54dd2df0/expr.ipynb\"><img src=\"data:image/png;base64,iVBORw0KGgoAAAANSUhEUgAAAK0AAAAXBAMAAACL0NJjAAAAMFBMVEX///8QEBC6urrMzMxUVFRm\n",
       "ZmZERETc3NwyMjKqqqp2dnaIiIiYmJgiIiLu7u4AAAAU9Wx4AAAAAXRSTlMAQObYZgAAAsVJREFU\n",
       "OMu1lT9oE1Ecx79Ncrk2uZyZdNMMbhUaQXAQyaGhFByaoVEcShUxddHcIG1FarNoEKTNUle7WVEk\n",
       "oluGnOKgdbCDWVQwFQWXYmn6z7ZWf+/37uklkkr8c3B5v/d77/d5v3/vAvynp/pHVp3brj6hd1YI\n",
       "L1rE+i05Hm7QP/2WTJ6LQYsDd8R8vEVuuxvlhDu/ohZ2AtoikAOGaKafapFbkoPxzuVfVXFs0LsE\n",
       "zMijtUKL3N1yuDRgS9x5lx9epcPWgTkabg8Pj7aI9eXkWCzHeAx0FqUiGAUidGiQHF3JZF63yNWm\n",
       "JL56y2Hhk6w+sMOCfo18D6WAo8AgK/P8e3M53R1nKaaKxMF2ZNN9Z5RG4t4jIf28h5NyIXGs1C/W\n",
       "OiigvTA5LGNR1iKKcJQlVcyX8oDHwANX0xZzDx5LsTCLEblQtmG+EpGIfCDMx3/clDFa8K16ueaA\n",
       "9K4P6LLdcJnrTyZ7eY9RRECGeFqwabt/gWroRLia9yu8FClCm/VyQ/PSqTdAP7xcHznOkZK9e1GW\n",
       "RHhTkmvmDvDpxQwvfY7jme3lHgqyYNZg5FUeuC/pJ8IZm1TF8YuQewsyDxg8wr3ietNVenQBXq4l\n",
       "3fdtlLrVtyQoMqOTffuCKvikal99TWRGxDHJds9RZptpqlDVwzUKYTYO5WC414HbiJqLDtgSXoqN\n",
       "EdW++8fVhjbRLGYlnWXcWUpFwcOdTx/fYpsUzC/qXpAnQ3vyMLJrBAiIbIcJomWXkj03uBGFyhA8\n",
       "zUaCa0q2XXEP9wT8Na5VAb6auhi76m5fXbfzM/dD2keWjp6HvgW94smvj1K5iREbY1WMptTumd9c\n",
       "yLtK+LACvfct1XN6Od1T+Mk1qUMvfnUSTmgi3Xf9l+9kk8fMNSgM78T78XTq9+nWttyA3aA42ITr\n",
       "b9x4eVvuw0aF04Rr/Mt/VOtvjL8DRD+w3zAevUsAAAAASUVORK5CYII=\n",
       "\" style=\"display:inline;vertical-align:middle;\" /></a></dd>"
      ],
      "text/plain": [
       "<IPython.core.display.HTML object>"
      ]
     },
     "metadata": {},
     "output_type": "display_data"
    },
    {
     "data": {
      "text/html": [
       "<dt><a class=\"ProveItLink\" href=\"../../_proofs_/binaryClosure.ipynb\">proveit.logic.boolean.conjunction.binaryClosure</a></dt><dd><a class=\"ProveItLink\" href=\"../5c84df2f748f99e9970088a408218dab6d6882750/expr.ipynb\"><img src=\"data:image/png;base64,iVBORw0KGgoAAAANSUhEUgAAAMcAAAAWBAMAAACGSZV/AAAAMFBMVEX///8QEBC6urrMzMxUVFRm\n",
       "ZmZERETc3NwyMjKqqqp2dnaIiIiYmJgiIiLu7u4AAAAU9Wx4AAAAAXRSTlMAQObYZgAAA11JREFU\n",
       "SMe9Vl9Ik1EUP9vn57ft+1zSS0YYK4IiK/cg9hCxoUMNIoNYD/2dQTMp7HsILaQaghhi6YvR414q\n",
       "I4hB9RA++BUkZkTzwYhwMqFCMitCl5Vo59x7v23OufVSF+537z3nnvu753fOuRvA/2jxv9tmjeCn\n",
       "LNcOzZVd/gx7lCYv84JUYJe8bCpFM06vn/XVtAMcWi529JyZL20CkN0A90hwIy8I7bBxr23fuEgx\n",
       "SbAEAE66wJZhUmiNTH0KA4QAWmh7IB+GSmwN8PmrRT7aDgqlB5UeL2jhFSCqCxFG+PXk3nwgFrr1\n",
       "Ru5A3w8uq5wQykEd4HUYnMV8OX099laA2I0DAJPI6N3W1st52dpGsQ9xp9TvXFYlPIMG7KN4iyYe\n",
       "su54ypOtyFEhupAIBt/lBTmCXeZ07LIvsNEZKhLKWYCLzTjeZquWeIquvUO4cCCt1QCNTNjJvjfn\n",
       "/DXuFSDdFAODne2SfvPsMQTL0uzA43Ga3GLLxlRMYksbcLQjA1vwTiwTOQtaMaicXK2rq8MQBmsp\n",
       "LqwQrKDMMVERKII/jNEMZfcmdolAeuCf4MpaTJtVdtQHzoLsBStaTfuPQSQ8vVkY0AXWMJAKny8B\n",
       "oraq+WF4iErGHnaJ0lgsGXgIbEdPMeVVo4ix+GCMXzACchTUU1e+IIjj8woQ/JQw0QSvUJSjF9ov\n",
       "E0RUrAlSyEGcIbZXigSZ6qsbhnV4TtNIuOyEMFhPdFEI7JRJJLFjOG06KxMkouBnkq5oJgjRBY1V\n",
       "JCqA40xVPvComVUpgvhLzZicIyNaXMLew0pR50C8TK6SwTDbun8ZCNKlka6PYb+AQabqB3gal8Lc\n",
       "E3mPMKDspFRkOXKe6K0E8+HDMpFK4skUnnGlQLSjAW4HFnoynGN+ZgunkbFe6U0weJZi4hAGOymk\n",
       "UVAa5nUYWuqgUgTx0Bxe8vmuMY/b+YvQ4TYfyMToPvKZUDU6XNbBw5RIbrnb6eWeJEEsxP669MoR\n",
       "+ZzWzGfFXsezy2yTydkOzBJD6QRlERRMs1pBV5v5nBN/I7lfBUcku/y+OXmfAKV+XFqA/jl/HWbR\n",
       "RxcrxqCR5alfrU1lF/NST//9Sc7uYEzS2wVi25sTpDa7uEDPEOxe9QSFuGjL+ZPjzi5/mCkw/s3/\n",
       "iD9xNeHJcqW+GAAAAABJRU5ErkJggg==\n",
       "\" style=\"display:inline;vertical-align:middle;\" /></a></dd>"
      ],
      "text/plain": [
       "<IPython.core.display.HTML object>"
      ]
     },
     "metadata": {},
     "output_type": "display_data"
    },
    {
     "data": {
      "text/html": [
       "</dl>"
      ],
      "text/plain": [
       "<IPython.core.display.HTML object>"
      ]
     },
     "metadata": {},
     "output_type": "display_data"
    }
   ],
   "source": [
    "%dependencies trueAndTrue"
   ]
  }
 ],
 "metadata": {
  "kernelspec": {
   "display_name": "Python 3",
   "language": "python",
   "name": "python3"
  }
 },
 "nbformat": 4,
 "nbformat_minor": 0
}
