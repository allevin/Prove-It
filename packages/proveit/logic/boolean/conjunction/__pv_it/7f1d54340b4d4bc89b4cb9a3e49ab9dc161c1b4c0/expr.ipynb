{
 "cells": [
  {
   "cell_type": "markdown",
   "metadata": {},
   "source": [
    "Expression of type <a class=\"ProveItLink\" href=\"../../../../../../../doc/html/api/proveit.logic.InSet.html\">InSet</a>\n",
    "=======================\n",
    "# from context <a class=\"ProveItLink\" href=\"../../_context_.ipynb\">proveit.logic.boolean.conjunction</a>"
   ]
  },
  {
   "cell_type": "code",
   "execution_count": 1,
   "metadata": {},
   "outputs": [],
   "source": [
    "# import Expression classes needed to build the expression\n",
    "from proveit._common_ import C, D\n",
    "from proveit.logic import And, Booleans, InSet"
   ]
  },
  {
   "cell_type": "code",
   "execution_count": 2,
   "metadata": {},
   "outputs": [
    {
     "data": {
      "text/html": [
       "<strong id=\"expr\">expr:</strong> <a class=\"ProveItLink\" href=\"expr.ipynb\"><img src=\"data:image/png;base64,iVBORw0KGgoAAAANSUhEUgAAAG4AAAAVBAMAAABVkMbKAAAAMFBMVEX////c3NwiIiJERESqqqqY\n",
       "mJh2dnZmZmYQEBDu7u4yMjJUVFTMzMyIiIi6uroAAAAs73DqAAAAAXRSTlMAQObYZgAAAelJREFU\n",
       "OMudVDssQ2EUPpc+tGmricFg0HRSiyuppQuz6SY2ieiGicVjIKQxWHBjIGlIGtLQSDyCCJVq2Bg0\n",
       "YRNRhhKTpGXwqv+c//69Ldom7vDlPP7vnP88/gvw38+RKOk2Jos4zhEsl/uD0kCB/Tobja7EAUYL\n",
       "j5s2fW8BLxMiqPUq4BhRUJJUceINwJABsP7IU+lIBOf9YMdrBj0M+p1otoqstlcG4yoY/b949mQI\n",
       "qjD+GsIjmU89mt/+xeAiAZYJri8tuxs1nkE5gCcmmjNoqCV37EbEfWZQvwXg5enDqp7vToYh9IbQ\n",
       "sEgNClVovGoZ8zFeD6k1qn7Pkw4VwliFordLMbdx6QIL72bFtZParNfnzk4DzDCxyZnjVYAU4tIt\n",
       "mwEcJ7W6LXJ+X65kwOqzZKCLdAEccX8rwhQmpu0IuN25voCcIt4s6gaMDx5tEQDSuCwvgmfbyssH\n",
       "ciVM4m0wlZnIbHpWurXtk0GVLOZjcf3gtYgW9NHUnZzLxvfBwIcBO+n4XgEvRV02svk9UJZTBJcY\n",
       "3xlF4HOYS+o845gM97Tb68O8+zEEnPxC63t0h6/0BqG0Ghd7nW7YZSU485ePgjoK9lHsmeGQ91O8\n",
       "L3+Z92kq8j4jZXjBIva6MrztInap9H/CHv/T/A0xX3/8LOz9NwAAAABJRU5ErkJggg==\n",
       "\" style=\"display:inline;vertical-align:middle;\" /></a><br>"
      ],
      "text/plain": [
       "expr: (C and D) in BOOLEANS"
      ]
     },
     "execution_count": 2,
     "metadata": {},
     "output_type": "execute_result"
    }
   ],
   "source": [
    "# build up the expression from sub-expressions\n",
    "expr = InSet(And(C, D), Booleans)"
   ]
  },
  {
   "cell_type": "code",
   "execution_count": 3,
   "metadata": {},
   "outputs": [
    {
     "name": "stdout",
     "output_type": "stream",
     "text": [
      "Passed sanity check: built 'expr' is the same as the stored Expression.\n"
     ]
    }
   ],
   "source": [
    "# check that the built expression is the same as the stored expression\n",
    "%check_expr"
   ]
  },
  {
   "cell_type": "code",
   "execution_count": 4,
   "metadata": {},
   "outputs": [
    {
     "data": {
      "text/html": [
       "<table><tr><th>&nbsp;</th><th>core type</th><th>sub-expressions</th><th>expression</th></tr>\n",
       "<tr><td>0</td><td>Operation</td><td>operator:&nbsp;1<br>operands:&nbsp;2<br></td><td><a class=\"ProveItLink\" href=\"expr.ipynb\"><img src=\"data:image/png;base64,iVBORw0KGgoAAAANSUhEUgAAAG4AAAAVBAMAAABVkMbKAAAAMFBMVEX////c3NwiIiJERESqqqqY\n",
       "mJh2dnZmZmYQEBDu7u4yMjJUVFTMzMyIiIi6uroAAAAs73DqAAAAAXRSTlMAQObYZgAAAelJREFU\n",
       "OMudVDssQ2EUPpc+tGmricFg0HRSiyuppQuz6SY2ieiGicVjIKQxWHBjIGlIGtLQSDyCCJVq2Bg0\n",
       "YRNRhhKTpGXwqv+c//69Ldom7vDlPP7vnP88/gvw38+RKOk2Jos4zhEsl/uD0kCB/Tobja7EAUYL\n",
       "j5s2fW8BLxMiqPUq4BhRUJJUceINwJABsP7IU+lIBOf9YMdrBj0M+p1otoqstlcG4yoY/b949mQI\n",
       "qjD+GsIjmU89mt/+xeAiAZYJri8tuxs1nkE5gCcmmjNoqCV37EbEfWZQvwXg5enDqp7vToYh9IbQ\n",
       "sEgNClVovGoZ8zFeD6k1qn7Pkw4VwliFordLMbdx6QIL72bFtZParNfnzk4DzDCxyZnjVYAU4tIt\n",
       "mwEcJ7W6LXJ+X65kwOqzZKCLdAEccX8rwhQmpu0IuN25voCcIt4s6gaMDx5tEQDSuCwvgmfbyssH\n",
       "ciVM4m0wlZnIbHpWurXtk0GVLOZjcf3gtYgW9NHUnZzLxvfBwIcBO+n4XgEvRV02svk9UJZTBJcY\n",
       "3xlF4HOYS+o845gM97Tb68O8+zEEnPxC63t0h6/0BqG0Ghd7nW7YZSU485ePgjoK9lHsmeGQ91O8\n",
       "L3+Z92kq8j4jZXjBIva6MrztInap9H/CHv/T/A0xX3/8LOz9NwAAAABJRU5ErkJggg==\n",
       "\" style=\"display:inline;vertical-align:middle;\" /></a></td></tr>\n",
       "<tr><td>1</td><td>Literal</td><td></td><td><a class=\"ProveItLink\" href=\"../../../../set_theory/membership/__pv_it/088cbc857536a28d4119ad9639a84270ccb0545d0/expr.ipynb\"><img src=\"data:image/png;base64,iVBORw0KGgoAAAANSUhEUgAAAAwAAAAMBAMAAACkW0HUAAAALVBMVEX///+qqqpmZmZUVFQQEBC6\n",
       "urpERETc3NyYmJjMzMwiIiIyMjKIiIju7u4AAACYsrA9AAAAAXRSTlMAQObYZgAAADxJREFUCNdj\n",
       "YOA9vWrVBgaG2b0MQMCeCyIZ2ArA1DUwyRCyahVIyWQI7xaEYm4AU7xLIdxqTQgtvGvVBgCkcQ7e\n",
       "geM/tQAAAABJRU5ErkJggg==\n",
       "\" style=\"display:inline;vertical-align:middle;\" /></a></td></tr>\n",
       "<tr><td>2</td><td>ExprTuple</td><td>3, 4</td><td><a class=\"ProveItLink\" href=\"../79ca18fd253b93a2716d2efe68181a648278ba570/expr.ipynb\"><img src=\"data:image/png;base64,iVBORw0KGgoAAAANSUhEUgAAAFwAAAAVBAMAAAA5lpTPAAAAMFBMVEX////c3NwiIiJERESqqqqY\n",
       "mJh2dnZmZmYQEBDu7u4yMjJUVFTMzMyIiIi6uroAAAAs73DqAAAAAXRSTlMAQObYZgAAAcFJREFU\n",
       "KM+Vkz1IQlEUx4/fPn1+QENDixANTkkUEQUJ0RJBbwuCyKmgqShqCRLKIYJwjCCSIMqlaAo0TGhs\n",
       "UGg2zSUJgkSKyr7OOffq0yXswT33vHt+795z/+c8gH8+7myrpKWA5oa8/cFVrb0p5rqqJhNDwp+v\n",
       "nJ10BgHW0I/jsEYAHiIcMkQl74kBTASFH3hS4rMADtwFc1EOkbGWOeJYkHgmBGB7r+Fwh6wlBHYk\n",
       "HVt0hzBHrv0Sz2Om6lcdH3VGQQnDI76t05kGsW0qJ/FhWqvqu7fh3AsruPhBS0qabcwo8QoOtY6r\n",
       "XQM4z8ERZviiC2LVbOJ6nIflVeLF7jfSewx2AIxlHTeCISaE/ETj/K4nkxvBuQS44HnmNDgwDXDJ\n",
       "jokW7eE6bnKjUhnC7YyPc8Av6waeAJoZTcchQPgmHsnqsjBmtA4vy065bkAzXoI+eSsrV5NQM3+Y\n",
       "R6FMcZljLZkp1AbPDIJ7URSJjE/Krh7jfOAT+OQtC1kk0RIXy+LUFBkslLL0k0z2UyV2y9xiPduk\n",
       "7ynYvY19WOCWbmrNe93FJsC2+fvRGmqYFQ3cIr6Ho+Nv2tXgn1PXtfzzudLwC7TUdhwhCWseAAAA\n",
       "AElFTkSuQmCC\n",
       "\" style=\"display:inline;vertical-align:middle;\" /></a></td></tr>\n",
       "<tr><td>3</td><td>Operation</td><td>operator:&nbsp;5<br>operands:&nbsp;6<br></td><td><a class=\"ProveItLink\" href=\"../ad514a3eb405c7dce13af51a851a1a745b8995f80/expr.ipynb\"><img src=\"data:image/png;base64,iVBORw0KGgoAAAANSUhEUgAAADgAAAAPBAMAAABD1xE4AAAAMFBMVEX////MzMyqqqoiIiIyMjK6\n",
       "uroQEBB2dnbc3NyYmJhmZmZUVFRERESIiIju7u4AAAB204erAAAAAXRSTlMAQObYZgAAAQVJREFU\n",
       "GNNjYGDgu7NrJccCBmTAu//37i0HQayyCQysyyaABftgsvwODAz6CgwMT+yAnPoGsJgXTFK+gIGB\n",
       "6x8Dg9sDICcMLMR4+AFU8n4AkPeXgesTiNMFFuKOvQCVPA/EHL8Z+h1AnIdgoScMBlDJPyBzfjOs\n",
       "n4BwZCXDIggDaCIDA+d3BvsGhKQBQwvUKx9Blnxl+A/mgR3CeYGBWwDM5fkAJNgSGPJBHCawGPMD\n",
       "BsYNEG8eABLzJzDsB2niAgtpAbEHxJsgV+dA6TqwkAdUAdCbQJN4/IAWAf0ZBXYUI8gsZpg3GcGh\n",
       "Je29SgESBAEgdwIN4lvzf/fuUwIoUcEKJgOQRACAjT4d8TvEzwAAAABJRU5ErkJggg==\n",
       "\" style=\"display:inline;vertical-align:middle;\" /></a></td></tr>\n",
       "<tr><td>4</td><td>Literal</td><td></td><td><a class=\"ProveItLink\" href=\"../../../__pv_it/46271c8230be96415d662709611f4ed2279d702b0/expr.ipynb\"><img src=\"data:image/png;base64,iVBORw0KGgoAAAANSUhEUgAAAA0AAAAOBAMAAAAGUYvhAAAAMFBMVEX///9mZmbMzMzc3NxUVFSY\n",
       "mJju7u6IiIi6urqqqqoiIiIQEBBEREQyMjJ2dnYAAAAQvcRZAAAAAXRSTlMAQObYZgAAAElJREFU\n",
       "CNdjePvn/u01ExgYGA60s117B6YZKngh9FSWBAjfBsxnWnoMRHet/10AkS+fA6F5OB5AaIYDqDRU\n",
       "PLCGgQFoz6ktExgAgLIl8DFvGtkAAAAASUVORK5CYII=\n",
       "\" style=\"display:inline;vertical-align:middle;\" /></a></td></tr>\n",
       "<tr><td>5</td><td>Literal</td><td></td><td><a class=\"ProveItLink\" href=\"../76b5f4f4c45c0b6a9b59b297fc07dfa9555698f50/expr.ipynb\"><img src=\"data:image/png;base64,iVBORw0KGgoAAAANSUhEUgAAAAwAAAAOBAMAAADpk+DfAAAALVBMVEX///+qqqqYmJh2dnaIiIi6\n",
       "urpUVFQiIiJERETMzMxmZmYyMjLu7u7c3NwAAABvwqPxAAAAAXRSTlMAQObYZgAAAEtJREFUCNdj\n",
       "YGDgPcAAAtwLwNSMGjCV6gIieTawgyhmBS4BIMXOwLsBSKkwMGQCKaC6aQwMjEBd3BdACMScAVJd\n",
       "wJAKolwYAkAUKwAk0guX6efcigAAAABJRU5ErkJggg==\n",
       "\" style=\"display:inline;vertical-align:middle;\" /></a></td></tr>\n",
       "<tr><td>6</td><td>ExprTuple</td><td>7, 8</td><td><a class=\"ProveItLink\" href=\"../fd54ffea77e07ef6158e0f704a03bb0a9ca178230/expr.ipynb\"><img src=\"data:image/png;base64,iVBORw0KGgoAAAANSUhEUgAAADYAAAAVBAMAAAD/UwB2AAAAMFBMVEX////c3NwiIiJERESqqqqY\n",
       "mJh2dnZmZmYQEBDu7u4yMjJUVFTMzMyIiIi6uroAAAAs73DqAAAAAXRSTlMAQObYZgAAAUBJREFU\n",
       "KM9jYMAH+C5gFWZ9ACROg1hzrcsDxCGCt//v3r34AANDDZC9EojZWhkYnrdCdfxiYGD5wsDAxcDA\n",
       "CzSSc9EEoPxHiBTPNyBRP4GBNYGBAyjM1QmytwEix/sPSJy/wMDZwPAKpMoBSDAWQOSYPwAJ+Q0M\n",
       "DCYMZUDRXyAxzgMQOX4DkD6gXDrDUgYG9q/Ijj8P8lN8AgODF0MfAwPTR2S5+yD9+4G+e8EAtJn/\n",
       "A9hMqJw9iOgAGQCS4wDL+UDlPoMC5StYroWBgfsnSAzqTJ6/QIID5J4XDKZQLtsEiKm8f4CEFdDT\n",
       "DFFAlwJd5cDAV8jAMF8B6r1TYDPSGR6BzNm1vQRIzQC6d7r9792ba8Cmr2PgEEA4/yGyX4BhBgxS\n",
       "OAhAlmO7AIkjbHKzgFgazuNFifiNoPDHniZ4DzAAAExYUFmZUn67AAAAAElFTkSuQmCC\n",
       "\" style=\"display:inline;vertical-align:middle;\" /></a></td></tr>\n",
       "<tr><td>7</td><td>Variable</td><td></td><td><a class=\"ProveItLink\" href=\"../../../../../__pv_it/985a1bdf1540838275dec15f4ad6de261cca93ce0/expr.ipynb\"><img src=\"data:image/png;base64,iVBORw0KGgoAAAANSUhEUgAAAA8AAAAOBAMAAAACpFvcAAAAMFBMVEX////MzMyqqqoiIiIyMjK6\n",
       "uroQEBB2dnbc3NyYmJhmZmZUVFRERESIiIju7u4AAAB204erAAAAAXRSTlMAQObYZgAAAGZJREFU\n",
       "CNdjYGDgu7NrJccCBgaGsgkMrMsmMDA8sQNy6hsYGNweABlhDAxcn4A0QxcDQ78DiPGQgWH9BAYI\n",
       "sG+AMv6DSaCGfBDNJMDAsB+kmwuI5S8AiTog5gSaEwXWIO29SgFIAQBC+RaDQlidVgAAAABJRU5E\n",
       "rkJggg==\n",
       "\" style=\"display:inline;vertical-align:middle;\" /></a></td></tr>\n",
       "<tr><td>8</td><td>Variable</td><td></td><td><a class=\"ProveItLink\" href=\"../../../../../__pv_it/185e6d30f167ee2ee5ef3321098dc98e0d77bc590/expr.ipynb\"><img src=\"data:image/png;base64,iVBORw0KGgoAAAANSUhEUgAAABEAAAAOBAMAAAA7w+qHAAAALVBMVEX///8QEBCYmJjc3Ny6urru\n",
       "7u5mZmZ2dnaqqqrMzMxEREQyMjJUVFSIiIgAAABETr/8AAAAAXRSTlMAQObYZgAAAGpJREFUCNdj\n",
       "YGC48+7MmV0TGEDgNQMDxwsQg/M5kMgLABK8T4DEvAtAgusBkLA7ACT4FoDEDsAk9AqAxD2QCecc\n",
       "gMQ6kAGCIOIVEDM9Ahn3FkgwgnTxvgQSqwOgxs1OADLC1r05cyoTyAAAv4Qe+njAWvgAAAAASUVO\n",
       "RK5CYII=\n",
       "\" style=\"display:inline;vertical-align:middle;\" /></a></td></tr>\n",
       "</table>\n"
      ],
      "text/plain": [
       "0. (C and D) in BOOLEANS\n",
       "   core type: Operation\n",
       "   operator: 1\n",
       "   operands: 2\n",
       "1. in\n",
       "   core type: Literal\n",
       "   sub-expressions: \n",
       "2. (C and D , BOOLEANS)\n",
       "   core type: ExprTuple\n",
       "   sub-expressions: 3, 4\n",
       "3. C and D\n",
       "   core type: Operation\n",
       "   operator: 5\n",
       "   operands: 6\n",
       "4. BOOLEANS\n",
       "   core type: Literal\n",
       "   sub-expressions: \n",
       "5. and\n",
       "   core type: Literal\n",
       "   sub-expressions: \n",
       "6. (C , D)\n",
       "   core type: ExprTuple\n",
       "   sub-expressions: 7, 8\n",
       "7. C\n",
       "   core type: Variable\n",
       "   sub-expressions: \n",
       "8. D\n",
       "   core type: Variable\n",
       "   sub-expressions: "
      ]
     },
     "execution_count": 4,
     "metadata": {},
     "output_type": "execute_result"
    }
   ],
   "source": [
    "# display the expression information\n",
    "expr.exprInfo()"
   ]
  },
  {
   "cell_type": "code",
   "execution_count": null,
   "metadata": {},
   "outputs": [],
   "source": []
  }
 ],
 "metadata": {
  "kernelspec": {
   "display_name": "Python 3",
   "language": "python",
   "name": "python3"
  }
 },
 "nbformat": 4,
 "nbformat_minor": 0
}
