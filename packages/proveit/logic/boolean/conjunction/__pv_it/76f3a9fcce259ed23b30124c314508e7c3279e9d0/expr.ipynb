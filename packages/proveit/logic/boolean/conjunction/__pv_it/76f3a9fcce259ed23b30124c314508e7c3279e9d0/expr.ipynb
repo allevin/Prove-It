{
 "cells": [
  {
   "cell_type": "markdown",
   "metadata": {},
   "source": [
    "Expression of type <a class=\"ProveItLink\" href=\"../../../../../../../doc/html/api/proveit.logic.Or.html\">Or</a>\n",
    "=======================\n",
    "# from context <a class=\"ProveItLink\" href=\"../../_context_.ipynb\">proveit.logic.boolean.conjunction</a>"
   ]
  },
  {
   "cell_type": "code",
   "execution_count": 1,
   "metadata": {},
   "outputs": [],
   "source": [
    "# import Expression classes needed to build the expression\n",
    "from proveit._common_ import A, B, C, D, E\n",
    "from proveit.logic import And, Or"
   ]
  },
  {
   "cell_type": "code",
   "execution_count": 2,
   "metadata": {},
   "outputs": [
    {
     "data": {
      "text/html": [
       "<strong id=\"expr\">expr:</strong> <a class=\"ProveItLink\" href=\"expr.ipynb\"><img src=\"data:image/png;base64,iVBORw0KGgoAAAANSUhEUgAAAL0AAAAVBAMAAADhtvKAAAAAMFBMVEX///92dnYQEBBERERUVFS6\n",
       "urqIiIhmZmaqqqrc3Nzu7u6YmJgyMjIiIiLMzMwAAACFkkdwAAAAAXRSTlMAQObYZgAAAqpJREFU\n",
       "OMvNlT9oE1Ecx3/J5XK9P7kEBwcdKjgpQoOLIGgDveKiJjjoaECImw06KDikm2MPBHUo9CjoVCUd\n",
       "dG0QRSJCimMdGtBJKYk0StXa+vvzLs0TEc7Jg3u597n3+77f+73vvQD8N9fFxBFP44eN31645UEw\n",
       "9VJnfgkgi/zsaZ0TCzotHTpXzty261ZXdTvUmPwoKF0EaFQ05kXY5FFnbpahHalgYmNFne1rgnm9\n",
       "CWpWd514hmSyVSY9/OmVNFZjXgCwvvMQr660LtPrusaW1rAZD2FZug8aIRWAcshJBjMIVgoaO8oc\n",
       "1+R/5SHv15T+OObgVDX2nCIuACxKt0phAG287wg5jvfbaJSZvNZJKsKAh0zX9opbgHCUWVvU3gcw\n",
       "uJRmNNcEpdOWGJSYP6kxq0DtJq2T9Z1WTulvgttUu6rYAufyBCDF9XrI5eY6+LJP/qB29R1ozCMN\n",
       "Lo37mfqppiX7bG4HHcl+yBpqPhjjiSqwwPPgPmYq4rlvAI9LGktTm90hH3zhicEWd6R2wFNyMVtX\n",
       "84F5iJIKgrKkvQpLwg3k2R8ay5O+0aeZKAieAZwXz/QhBT6Msl3u4fb5ffF9WlK5BQeVpUtxGYaM\n",
       "9fOUxwqvHp3yQV4UwYZHMMomuDZdpY8ly3FKMI/Ziv1RIrOlsfSs+izgMEdjRb1waP8DGiuT8yxV\n",
       "H3uW10hX5pPYmO0vJhgyg7KewZyM11yVUPTE/nZdY714Shc1qLyGfJL+qWhof/9YpDG2GtrffyVf\n",
       "kuyNOls2uhpzcemXQgm6O9EGd3JbPmyJhRu7QfAm9phi5io4xE/IATWtjgxnCtm5nxrDXXhxk43q\n",
       "VfRj7+MfDtmYHdFoZe9E/AtbTHCYL//DX8b+BGO9KLG800ow2C4l1s+ESUbfS6x/DeAXuevHfIZc\n",
       "byoAAAAASUVORK5CYII=\n",
       "\" style=\"display:inline;vertical-align:middle;\" /></a><br>"
      ],
      "text/plain": [
       "expr: A or B or (D and E and C)"
      ]
     },
     "execution_count": 2,
     "metadata": {},
     "output_type": "execute_result"
    }
   ],
   "source": [
    "# build up the expression from sub-expressions\n",
    "expr = Or(A, B, And(D, E, C))"
   ]
  },
  {
   "cell_type": "code",
   "execution_count": 3,
   "metadata": {},
   "outputs": [
    {
     "name": "stdout",
     "output_type": "stream",
     "text": [
      "Passed sanity check: built 'expr' is the same as the stored Expression.\n"
     ]
    }
   ],
   "source": [
    "# check that the built expression is the same as the stored expression\n",
    "%check_expr"
   ]
  },
  {
   "cell_type": "code",
   "execution_count": 4,
   "metadata": {},
   "outputs": [
    {
     "data": {
      "text/html": [
       "<table><tr><th>&nbsp;</th><th>core type</th><th>sub-expressions</th><th>expression</th></tr>\n",
       "<tr><td>0</td><td>Operation</td><td>operator:&nbsp;1<br>operands:&nbsp;2<br></td><td><a class=\"ProveItLink\" href=\"expr.ipynb\"><img src=\"data:image/png;base64,iVBORw0KGgoAAAANSUhEUgAAAL0AAAAVBAMAAADhtvKAAAAAMFBMVEX///92dnYQEBBERERUVFS6\n",
       "urqIiIhmZmaqqqrc3Nzu7u6YmJgyMjIiIiLMzMwAAACFkkdwAAAAAXRSTlMAQObYZgAAAqpJREFU\n",
       "OMvNlT9oE1Ecx3/J5XK9P7kEBwcdKjgpQoOLIGgDveKiJjjoaECImw06KDikm2MPBHUo9CjoVCUd\n",
       "dG0QRSJCimMdGtBJKYk0StXa+vvzLs0TEc7Jg3u597n3+77f+73vvQD8N9fFxBFP44eN31645UEw\n",
       "9VJnfgkgi/zsaZ0TCzotHTpXzty261ZXdTvUmPwoKF0EaFQ05kXY5FFnbpahHalgYmNFne1rgnm9\n",
       "CWpWd514hmSyVSY9/OmVNFZjXgCwvvMQr660LtPrusaW1rAZD2FZug8aIRWAcshJBjMIVgoaO8oc\n",
       "1+R/5SHv15T+OObgVDX2nCIuACxKt0phAG287wg5jvfbaJSZvNZJKsKAh0zX9opbgHCUWVvU3gcw\n",
       "uJRmNNcEpdOWGJSYP6kxq0DtJq2T9Z1WTulvgttUu6rYAufyBCDF9XrI5eY6+LJP/qB29R1ozCMN\n",
       "Lo37mfqppiX7bG4HHcl+yBpqPhjjiSqwwPPgPmYq4rlvAI9LGktTm90hH3zhicEWd6R2wFNyMVtX\n",
       "84F5iJIKgrKkvQpLwg3k2R8ay5O+0aeZKAieAZwXz/QhBT6Msl3u4fb5ffF9WlK5BQeVpUtxGYaM\n",
       "9fOUxwqvHp3yQV4UwYZHMMomuDZdpY8ly3FKMI/Ziv1RIrOlsfSs+izgMEdjRb1waP8DGiuT8yxV\n",
       "H3uW10hX5pPYmO0vJhgyg7KewZyM11yVUPTE/nZdY714Shc1qLyGfJL+qWhof/9YpDG2GtrffyVf\n",
       "kuyNOls2uhpzcemXQgm6O9EGd3JbPmyJhRu7QfAm9phi5io4xE/IATWtjgxnCtm5nxrDXXhxk43q\n",
       "VfRj7+MfDtmYHdFoZe9E/AtbTHCYL//DX8b+BGO9KLG800ow2C4l1s+ESUbfS6x/DeAXuevHfIZc\n",
       "byoAAAAASUVORK5CYII=\n",
       "\" style=\"display:inline;vertical-align:middle;\" /></a></td></tr>\n",
       "<tr><td>1</td><td>Literal</td><td></td><td><a class=\"ProveItLink\" href=\"../../../disjunction/__pv_it/087d0b4ded7c7e5bf3bba05ecb616d7a8051ff650/expr.ipynb\"><img src=\"data:image/png;base64,iVBORw0KGgoAAAANSUhEUgAAAAwAAAAOBAMAAADpk+DfAAAALVBMVEX///+YmJh2dnZmZmaqqqrc\n",
       "3NwyMjLu7u4iIiJERESIiIhUVFTMzMy6uroAAAD0I/TTAAAAAXRSTlMAQObYZgAAAEtJREFUCNdj\n",
       "uMAABDwMe0DUKoaTIKqdgS2AgYHFAITAzHYGsMQqBoa9QIqDgT0BSDE7MAkAKdYEDpAehj1SYOpk\n",
       "O5hiMwBTPAUMDAB33Atnw8aG2QAAAABJRU5ErkJggg==\n",
       "\" style=\"display:inline;vertical-align:middle;\" /></a></td></tr>\n",
       "<tr><td>2</td><td>ExprTuple</td><td>3, 4, 5</td><td><a class=\"ProveItLink\" href=\"../f67cd4b0ffb3eb5287f3da0e3ef6055ea6dc20690/expr.ipynb\"><img src=\"data:image/png;base64,iVBORw0KGgoAAAANSUhEUgAAAJ8AAAAVBAMAAACqHiFtAAAAMFBMVEX////c3NwiIiJERESqqqqY\n",
       "mJh2dnZmZmYQEBDu7u4yMjJUVFTMzMyIiIi6uroAAAAs73DqAAAAAXRSTlMAQObYZgAAAnpJREFU\n",
       "OMutVb+LE1EQ/pLcJrfJJi4oHGhx1wgGhKSRUxAS8A+4NNqp6dRCLiD+6BLQysIEK/EXayH+ONAD\n",
       "CyErJmh5xQUsLPS4YKPYGPUU7uJ5zrz3ZrMraHFkYYf5vsybfTPzvRdg7E+uN75cJ9gsaf+VkFZn\n",
       "6D97YkCWQPvwX8vebfl+eyPK2W+en4/VUl1yH2nmafDbZBGo9w3Y4QFzZeXGWhLByY5EudMV5C5V\n",
       "QNFZXbFVCMKXiVleFFAFUuvKTdekSZtkUhHuZp7MvItjtB+daFfdlYSr5J2sCqCtOpvKfZ03XPIX\n",
       "mTsR7iFn+QTcAD5rprcqReIgvftkvyWua6jclyuGSw+QRCzMpdbYTgGJMi7oKlpzFUlIy3cfEvCd\n",
       "XkcltL249LWIo2YUhpv22N6mzddwXzF3VefU4wxX3u6VfKpa66cqtJLSw8GXhfZXU7zh6rKbCQ/X\n",
       "lNPHtLQ8S8HXZSZZblfmN7txxDxNzndhPOEKMoBcAyrY8f1O0XCJBuX5IWDAOmqwexx4ESisim6Y\n",
       "21I89d0Z6IQ5WuVJhxalSN0uGrkqKB+cAeqra/fCXFOV21UJr7BPjYg3RHm0PLMW0iQuq3BqSdoN\n",
       "ZJhshblOyyiTSj7AuigrLaAlMuSpaUBfTaizxAsnaoEMpyKc+u4Znp+HU6xz7tY67G9Ghs7VlgEk\n",
       "Q+eBljCbGSNDOPsjnEUVfeStkmw+ADub92CVNmp2k7hzdPIfU9UMbAazXS1hNizjW6Wh7xdmIhyW\n",
       "Fi4q/aT7mHRDN5mLfwAWlh7e/zk6elZ1BK3wb9Z2LsSzo+trLAlt1t6eEY7c3du5yDPcptgY/wLe\n",
       "A38AJu61Stp/qywAAAAASUVORK5CYII=\n",
       "\" style=\"display:inline;vertical-align:middle;\" /></a></td></tr>\n",
       "<tr><td>3</td><td>Variable</td><td></td><td><a class=\"ProveItLink\" href=\"../../../../../__pv_it/2cbe72a7ad6f655694dd697106680215e8489b600/expr.ipynb\"><img src=\"data:image/png;base64,iVBORw0KGgoAAAANSUhEUgAAAA8AAAAOBAMAAAACpFvcAAAALVBMVEX///8QEBBERERUVFS6urqI\n",
       "iIhmZmaqqqrc3Nzu7u6YmJgyMjIiIiLMzMwAAADtIaYWAAAAAXRSTlMAQObYZgAAAFtJREFUCNdj\n",
       "YACBOwxQsA9Kc52bAGG05zVAGAFxDmCaZULdAjBjCsO9ADDDgaEvAUTzGhvbKYCVMDAwbgAxChgY\n",
       "eASANAeQwf0AyJgNxEwvGRia5HYwcOm9TgAA6BoR3jrzwFcAAAAASUVORK5CYII=\n",
       "\" style=\"display:inline;vertical-align:middle;\" /></a></td></tr>\n",
       "<tr><td>4</td><td>Variable</td><td></td><td><a class=\"ProveItLink\" href=\"../../../../../__pv_it/077b2ff79244fb4582cbe22c6e3356fa92a52f2f0/expr.ipynb\"><img src=\"data:image/png;base64,iVBORw0KGgoAAAANSUhEUgAAABAAAAAOBAMAAADUAYG5AAAAMFBMVEX///+qqqru7u4iIiJ2dnbc\n",
       "3NyIiIjMzMxmZmYQEBC6uroyMjJERERUVFSYmJgAAADLUcuvAAAAAXRSTlMAQObYZgAAAGpJREFU\n",
       "CNdjYGB4+//u3dMLGIBgDgMDxy8gzf4NiP8CGWxfGRj4vgAZPBMYGJgnARn8FxhY9ygAGfXX0pof\n",
       "gDTlBzAw2YIYJ0EckBBI53sHoBH/gIz7AhBjWH9DjancBLTl/N+7t/cxMAAA3u4f/5xagjYAAAAA\n",
       "SUVORK5CYII=\n",
       "\" style=\"display:inline;vertical-align:middle;\" /></a></td></tr>\n",
       "<tr><td>5</td><td>Operation</td><td>operator:&nbsp;6<br>operands:&nbsp;7<br></td><td><a class=\"ProveItLink\" href=\"../e78d1788112802d89d7801d1873d21108898667a0/expr.ipynb\"><img src=\"data:image/png;base64,iVBORw0KGgoAAAANSUhEUgAAAGEAAAAPBAMAAAAG1ry6AAAAMFBMVEX///8iIiIQEBCYmJjc3Ny6\n",
       "urru7u5mZmZ2dnaqqqrMzMxEREQyMjJUVFSIiIgAAABUCcz6AAAAAXRSTlMAQObYZgAAAZJJREFU\n",
       "KM9dUkFLAkEU/sxddTc1T16D/kD7C2pPdQmMLt3KWxARUoeoi1LgVW9d62yi3YMkhA4R1kGCZNF7\n",
       "VEYEZZq992bWsIF98+1782a++b4B8Dz0vJsTjI14e+B5jdp4MvT0sGtkGPUB60sljbSuTtFqqypw\n",
       "we84dGDuOATsTwpZtTSa0dX1DgX1c61TW0kKBZcZfFCodCRbSupygWiGJGef63OveF5hNNmlkLqT\n",
       "bPNFdzSAHHg/xNbUZmEhviiUmW5FOkK1gO74RtDRZJCQOSU6bMInNJ9jGHHCRSmbfa/hqo4j7Muc\n",
       "dUaivbKy7WWGARhK0UgPUV1OYEnmaXfUcclhRuAc8Kg06yICm1Gwg5iYNZRCWlGm/Lv8k1Jl6LsZ\n",
       "2JZj07DljrMcLG62fyhMiFkWGRB1R3bkGR3TV2fQ5u3D8iB6FC7kNF5tZXw71IOo6y4lUN6340y5\n",
       "W1I3VXbgVBhURRAmTn6sMoGNy4HXOlAaNDmQh6EWPc77N/GPNYyLh+XbvSL+DVHYHEuZfwU9fgEF\n",
       "kG2ofvSH9gAAAABJRU5ErkJggg==\n",
       "\" style=\"display:inline;vertical-align:middle;\" /></a></td></tr>\n",
       "<tr><td>6</td><td>Literal</td><td></td><td><a class=\"ProveItLink\" href=\"../76b5f4f4c45c0b6a9b59b297fc07dfa9555698f50/expr.ipynb\"><img src=\"data:image/png;base64,iVBORw0KGgoAAAANSUhEUgAAAAwAAAAOBAMAAADpk+DfAAAALVBMVEX///+qqqqYmJh2dnaIiIi6\n",
       "urpUVFQiIiJERETMzMxmZmYyMjLu7u7c3NwAAABvwqPxAAAAAXRSTlMAQObYZgAAAEtJREFUCNdj\n",
       "YGDgPcAAAtwLwNSMGjCV6gIieTawgyhmBS4BIMXOwLsBSKkwMGQCKaC6aQwMjEBd3BdACMScAVJd\n",
       "wJAKolwYAkAUKwAk0guX6efcigAAAABJRU5ErkJggg==\n",
       "\" style=\"display:inline;vertical-align:middle;\" /></a></td></tr>\n",
       "<tr><td>7</td><td>ExprTuple</td><td>8, 9, 10</td><td><a class=\"ProveItLink\" href=\"../38fd6c1fd98dcbc636d7e13656ca5b0dcb8a53440/expr.ipynb\"><img src=\"data:image/png;base64,iVBORw0KGgoAAAANSUhEUgAAAFEAAAAVBAMAAADMaB9/AAAAMFBMVEX////c3NwiIiJERESqqqqY\n",
       "mJh2dnZmZmYQEBDu7u4yMjJUVFTMzMyIiIi6uroAAAAs73DqAAAAAXRSTlMAQObYZgAAAZFJREFU\n",
       "KM+NU71PwnAQfY0UKAJ2c3BgdrKLiwv8CUyOyqYOhi5+DCY4ODgJm8ZoQmJMNA4YGRg6QBx1wMRR\n",
       "E4mLxsUG1AFQvPt9JHUg0qSv9+7u17t7vQKjX8m7EZIWGG7pfhh43klDeRP1nudVyopZ97U1w41w\n",
       "8Jx5Fwh96BdMUFbIUWQ5i+RmFuRKcPH4F0GhpILv7HKlfThNkLcxD0Q5nvghaOqG81TKUuSMw6/A\n",
       "AfDGfMwnSF2qzAqQgy3MiGhpkjIyWBedcVdNndmBmVVmSgx2BIRdnEIXXswp2bpexVaZBX0kVMYe\n",
       "P59YhHpLOsN9xLQMM/pIchs8C9IMu8oZ8xFGXNoDgTRV3JeZHbrNTy2nAwPH0i6Kyg2RucNyfhNE\n",
       "naCcK9Kus0gRWX2W5ewTzJVEGSmn4UrS1KfMMpaUnDcUs9pKTlw3JDFJzxeeilR6BvbTPa+6xdtQ\n",
       "tGFVaVuu2pLQ/lxsZMSYLUTt4AYOJfQ1zVyAmxhGVvXW/Zdp8VedCjj+rH+QjHMnxih/xyPwCyHW\n",
       "cE5YmectAAAAAElFTkSuQmCC\n",
       "\" style=\"display:inline;vertical-align:middle;\" /></a></td></tr>\n",
       "<tr><td>8</td><td>Variable</td><td></td><td><a class=\"ProveItLink\" href=\"../../../../../__pv_it/185e6d30f167ee2ee5ef3321098dc98e0d77bc590/expr.ipynb\"><img src=\"data:image/png;base64,iVBORw0KGgoAAAANSUhEUgAAABEAAAAOBAMAAAA7w+qHAAAALVBMVEX///8QEBCYmJjc3Ny6urru\n",
       "7u5mZmZ2dnaqqqrMzMxEREQyMjJUVFSIiIgAAABETr/8AAAAAXRSTlMAQObYZgAAAGpJREFUCNdj\n",
       "YGC48+7MmV0TGEDgNQMDxwsQg/M5kMgLABK8T4DEvAtAgusBkLA7ACT4FoDEDsAk9AqAxD2QCecc\n",
       "gMQ6kAGCIOIVEDM9Ahn3FkgwgnTxvgQSqwOgxs1OADLC1r05cyoTyAAAv4Qe+njAWvgAAAAASUVO\n",
       "RK5CYII=\n",
       "\" style=\"display:inline;vertical-align:middle;\" /></a></td></tr>\n",
       "<tr><td>9</td><td>Variable</td><td></td><td><a class=\"ProveItLink\" href=\"../../../../../__pv_it/9995c55100c62d7d8a012a35bafc852acbe03cf00/expr.ipynb\"><img src=\"data:image/png;base64,iVBORw0KGgoAAAANSUhEUgAAABAAAAAOBAMAAADUAYG5AAAALVBMVEX///8iIiKYmJjc3Nzu7u7M\n",
       "zMx2dnZmZma6urpERESqqqoyMjJUVFSIiIgAAACbLqVTAAAAAXRSTlMAQObYZgAAAGVJREFUCNdj\n",
       "YGC48+7MmdOvGYAARKwEYo63QIIdiNmeAglfIOZ+wMDGwAxk8E1gUAIpZejbc/oxmJEXwLABzNjH\n",
       "wJDAEABkvGRgMGC5ADWGzQFqjDnEGAZWUQYGn3lvzpyRE2AAAIznGVQJqiN4AAAAAElFTkSuQmCC\n",
       "\" style=\"display:inline;vertical-align:middle;\" /></a></td></tr>\n",
       "<tr><td>10</td><td>Variable</td><td></td><td><a class=\"ProveItLink\" href=\"../../../../../__pv_it/985a1bdf1540838275dec15f4ad6de261cca93ce0/expr.ipynb\"><img src=\"data:image/png;base64,iVBORw0KGgoAAAANSUhEUgAAAA8AAAAOBAMAAAACpFvcAAAAMFBMVEX////MzMyqqqoiIiIyMjK6\n",
       "uroQEBB2dnbc3NyYmJhmZmZUVFRERESIiIju7u4AAAB204erAAAAAXRSTlMAQObYZgAAAGZJREFU\n",
       "CNdjYGDgu7NrJccCBgaGsgkMrMsmMDA8sQNy6hsYGNweABlhDAxcn4A0QxcDQ78DiPGQgWH9BAYI\n",
       "sG+AMv6DSaCGfBDNJMDAsB+kmwuI5S8AiTog5gSaEwXWIO29SgFIAQBC+RaDQlidVgAAAABJRU5E\n",
       "rkJggg==\n",
       "\" style=\"display:inline;vertical-align:middle;\" /></a></td></tr>\n",
       "</table>\n"
      ],
      "text/plain": [
       "0. A or B or (D and E and C)\n",
       "   core type: Operation\n",
       "   operator: 1\n",
       "   operands: 2\n",
       "1. or\n",
       "   core type: Literal\n",
       "   sub-expressions: \n",
       "2. (A , B , D and E and C)\n",
       "   core type: ExprTuple\n",
       "   sub-expressions: 3, 4, 5\n",
       "3. A\n",
       "   core type: Variable\n",
       "   sub-expressions: \n",
       "4. B\n",
       "   core type: Variable\n",
       "   sub-expressions: \n",
       "5. D and E and C\n",
       "   core type: Operation\n",
       "   operator: 6\n",
       "   operands: 7\n",
       "6. and\n",
       "   core type: Literal\n",
       "   sub-expressions: \n",
       "7. (D , E , C)\n",
       "   core type: ExprTuple\n",
       "   sub-expressions: 8, 9, 10\n",
       "8. D\n",
       "   core type: Variable\n",
       "   sub-expressions: \n",
       "9. E\n",
       "   core type: Variable\n",
       "   sub-expressions: \n",
       "10. C\n",
       "    core type: Variable\n",
       "    sub-expressions: "
      ]
     },
     "execution_count": 4,
     "metadata": {},
     "output_type": "execute_result"
    }
   ],
   "source": [
    "# display the expression information\n",
    "expr.exprInfo()"
   ]
  },
  {
   "cell_type": "code",
   "execution_count": null,
   "metadata": {},
   "outputs": [],
   "source": []
  }
 ],
 "metadata": {
  "kernelspec": {
   "display_name": "Python 3",
   "language": "python",
   "name": "python3"
  }
 },
 "nbformat": 4,
 "nbformat_minor": 0
}
