{
 "cells": [
  {
   "cell_type": "markdown",
   "metadata": {},
   "source": [
    "Expression of type <a class=\"ProveItLink\" href=\"../../../../../../../doc/html/api/proveit.ExprTuple.html\">ExprTuple</a>\n",
    "=======================\n",
    "# from context <a class=\"ProveItLink\" href=\"../../_context_.ipynb\">proveit.logic.boolean.conjunction</a>"
   ]
  },
  {
   "cell_type": "code",
   "execution_count": 1,
   "metadata": {},
   "outputs": [],
   "source": [
    "# import Expression classes needed to build the expression\n",
    "from proveit import ExprTuple\n",
    "from proveit._common_ import a, b, c, d, e, f\n",
    "from proveit.logic import Or"
   ]
  },
  {
   "cell_type": "code",
   "execution_count": 2,
   "metadata": {},
   "outputs": [
    {
     "data": {
      "text/html": [
       "<strong id=\"expr\">expr:</strong> <a class=\"ProveItLink\" href=\"expr.ipynb\"><img src=\"data:image/png;base64,iVBORw0KGgoAAAANSUhEUgAAAQMAAAAVBAMAAACwB5bKAAAAMFBMVEX////c3NwiIiJERESqqqqY\n",
       "mJh2dnZmZmYQEBDu7u4yMjJUVFTMzMyIiIi6uroAAAAs73DqAAAAAXRSTlMAQObYZgAAAo5JREFU\n",
       "SMfNlj+IE0EUxr/8uWw2a5Kttbh0FjaHoAg2wcbytrpGlHCgVykraFoV1EI4OUTwOIushRxic41w\n",
       "CAcBERSbWIlojmglNhdRi2uC783snze32VwK8Ry4yfzme/tlMvPm7QH/Qav1DvLbL3D3Lj1vbzbG\n",
       "P5ApiF90yk+NstrjT67Vpc9nydOq57nKhslxGy8YXG9G0zyaGHpy3kMAVJNzcFhRrG0ShnRNCwbv\n",
       "rETTPJoUao8eAgtAOX4Ch+aoy6/ENglDuqYFgxfj6cV9QotD6laB7+ILntDfWWETs+E6RpC8Hs+u\n",
       "7xNqcWIVmmjTR27ryi2EEofgef+Fwfalvj6+DCFmcvql/aNRIrU/uJIxs3mM8rXk4ynBN7fAe8Ib\n",
       "pDbK/ol6VzDeDCrqKmQJMZPTrl5CNIqlM27Ol0yJxSlRDHCf1vcblpqlNHEGPL2LckuwvYyChwlC\n",
       "xOwU6E2IRrE0gtUVTG2WuXYTI8rSIfI6RxtYU4cUoO4LdobhQWYKCedbMEeRdOf8e8nU5lV+DnkJ\n",
       "9Tl09FFfw0W1eT52PMH1cOeyhYQ7+icmo0jyzdAot2kJt2lDerQgdU8OoxHe/huSZ3tJWRgvJBw6\n",
       "pT33hFI7DX0QJ4BOEy+Lahuc1yqQUu4uJNMv9+wsQbB2sjHGs0x9TzC1ZXUvAixR1fWKR0u6cBxX\n",
       "C3ea1obBPkrdTiNDEKydODLlWQ3wyBXMxZF7upRf+Qpvv9qWdcXeum7WmXb/I1Z/ZAiCtRNHpjyx\n",
       "1O+ZtaumLm1lgLIrq9/bPe8yyV+mDTQjM0Or6tJSgZ5pTftq9/BXI8/pUnPZeFn/2yXce6DOnLfi\n",
       "yJS+1alXMF3kwlWV0JwHuQP9x+0z8AefivvFuZdZzgAAAABJRU5ErkJggg==\n",
       "\" style=\"display:inline;vertical-align:middle;\" /></a><br>"
      ],
      "text/plain": [
       "expr: (a or b or c , b or c or d , d or e or f)"
      ]
     },
     "execution_count": 2,
     "metadata": {},
     "output_type": "execute_result"
    }
   ],
   "source": [
    "# build up the expression from sub-expressions\n",
    "expr = ExprTuple(Or(a, b, c), Or(b, c, d), Or(d, e, f))"
   ]
  },
  {
   "cell_type": "code",
   "execution_count": 3,
   "metadata": {},
   "outputs": [
    {
     "name": "stdout",
     "output_type": "stream",
     "text": [
      "Passed sanity check: built 'expr' is the same as the stored Expression.\n"
     ]
    }
   ],
   "source": [
    "# check that the built expression is the same as the stored expression\n",
    "%check_expr"
   ]
  },
  {
   "cell_type": "code",
   "execution_count": 4,
   "metadata": {},
   "outputs": [
    {
     "data": {
      "text/html": [
       "<table><tr><th>&nbsp;</th><th>core type</th><th>sub-expressions</th><th>expression</th></tr>\n",
       "<tr><td>0</td><td>ExprTuple</td><td>1, 2, 3</td><td><a class=\"ProveItLink\" href=\"expr.ipynb\"><img src=\"data:image/png;base64,iVBORw0KGgoAAAANSUhEUgAAAQMAAAAVBAMAAACwB5bKAAAAMFBMVEX////c3NwiIiJERESqqqqY\n",
       "mJh2dnZmZmYQEBDu7u4yMjJUVFTMzMyIiIi6uroAAAAs73DqAAAAAXRSTlMAQObYZgAAAo5JREFU\n",
       "SMfNlj+IE0EUxr/8uWw2a5Kttbh0FjaHoAg2wcbytrpGlHCgVykraFoV1EI4OUTwOIushRxic41w\n",
       "CAcBERSbWIlojmglNhdRi2uC783snze32VwK8Ry4yfzme/tlMvPm7QH/Qav1DvLbL3D3Lj1vbzbG\n",
       "P5ApiF90yk+NstrjT67Vpc9nydOq57nKhslxGy8YXG9G0zyaGHpy3kMAVJNzcFhRrG0ShnRNCwbv\n",
       "rETTPJoUao8eAgtAOX4Ch+aoy6/ENglDuqYFgxfj6cV9QotD6laB7+ILntDfWWETs+E6RpC8Hs+u\n",
       "7xNqcWIVmmjTR27ryi2EEofgef+Fwfalvj6+DCFmcvql/aNRIrU/uJIxs3mM8rXk4ynBN7fAe8Ib\n",
       "pDbK/ol6VzDeDCrqKmQJMZPTrl5CNIqlM27Ol0yJxSlRDHCf1vcblpqlNHEGPL2LckuwvYyChwlC\n",
       "xOwU6E2IRrE0gtUVTG2WuXYTI8rSIfI6RxtYU4cUoO4LdobhQWYKCedbMEeRdOf8e8nU5lV+DnkJ\n",
       "9Tl09FFfw0W1eT52PMH1cOeyhYQ7+icmo0jyzdAot2kJt2lDerQgdU8OoxHe/huSZ3tJWRgvJBw6\n",
       "pT33hFI7DX0QJ4BOEy+Lahuc1yqQUu4uJNMv9+wsQbB2sjHGs0x9TzC1ZXUvAixR1fWKR0u6cBxX\n",
       "C3ea1obBPkrdTiNDEKydODLlWQ3wyBXMxZF7upRf+Qpvv9qWdcXeum7WmXb/I1Z/ZAiCtRNHpjyx\n",
       "1O+ZtaumLm1lgLIrq9/bPe8yyV+mDTQjM0Or6tJSgZ5pTftq9/BXI8/pUnPZeFn/2yXce6DOnLfi\n",
       "yJS+1alXMF3kwlWV0JwHuQP9x+0z8AefivvFuZdZzgAAAABJRU5ErkJggg==\n",
       "\" style=\"display:inline;vertical-align:middle;\" /></a></td></tr>\n",
       "<tr><td>1</td><td>Operation</td><td>operator:&nbsp;6<br>operands:&nbsp;4<br></td><td><a class=\"ProveItLink\" href=\"../ef2f8152c26230a97c8a6434e7b930231ce559b10/expr.ipynb\"><img src=\"data:image/png;base64,iVBORw0KGgoAAAANSUhEUgAAAEsAAAAPBAMAAABeqS+jAAAAMFBMVEX///8yMjKqqqrMzMzu7u4i\n",
       "IiJmZmaYmJhEREQQEBC6urp2dnaIiIhUVFTc3NwAAAD87Fq/AAAAAXRSTlMAQObYZgAAAQhJREFU\n",
       "KM9jYEAHLDcDGHADLjBpAMSMF1D5KIAXJMJzAEjwK6DyUQBzA5BgdQAS6x1Q+ahADojVQIytaHwI\n",
       "4Luzax4DVAgkxSB75joKn2X3GaADVj7g+MAAsQBsEcsPBn4DJD6D5QLGAAa+7wxsYB7QubwLgDTT\n",
       "FwbODUh8ljkMHAUMvB8YWCH+CWBwBFFsAgz8CUh8XrBd/A0M/pDQSWLYDrY8gWF9ARKfH2zX+wMM\n",
       "+gxgfz9kAAc/MNjykfnvwXb5KzBcZAIbx2sOFgC6fzYDMh9odAEDYwFTGDckgFvBhvAqsF1A4Scw\n",
       "cBsAg+2UxSlICIpBov5OOgMynyH7zBGUeDBBixckPgBMbD0TPAIqwgAAAABJRU5ErkJggg==\n",
       "\" style=\"display:inline;vertical-align:middle;\" /></a></td></tr>\n",
       "<tr><td>2</td><td>Operation</td><td>operator:&nbsp;6<br>operands:&nbsp;5<br></td><td><a class=\"ProveItLink\" href=\"../ab98a4a5f4afaceff20ecbf6044d9b054cc39d8f0/expr.ipynb\"><img src=\"data:image/png;base64,iVBORw0KGgoAAAANSUhEUgAAAEsAAAAPBAMAAABeqS+jAAAAMFBMVEX////c3NxmZmbMzMxERESY\n",
       "mJiIiIh2dna6urqqqqoyMjIiIiIQEBBUVFTu7u4AAAAiO1wTAAAAAXRSTlMAQObYZgAAAQxJREFU\n",
       "KM9j4LuzgYEA4PBRYGDgugBmggUMEFLIfP4JEMzAwAsSYUuAK0Ph9z+AYAYGZgcgwf0ArgyFXw3F\n",
       "QLAQiCchOQiZvwiI16ZdZYAKgaQY+MrTDJD5jNcqfgJFvzDwG0AsAFvEYNPAtQGZ3yPA8o+BgfMf\n",
       "A08BxLm8DSDDjjGwBCDxGb8yMC1gAGF+BZCuDQyvwF78AHUQgs8NNIZbgaEfpJtBk6EUHEYOUGUI\n",
       "/vsGcLDpg/0txQCODnlY2CH48xkegNx/HBKgpmAF/ECjA5D47ycw3OI0YOCdwHQBEqDeYEN5FRjY\n",
       "DZD4XAGcm9iBPrumihSIQKCelofMZ7yWYZKBnBDs0BIGMh8AwfREofgAvg4AAAAASUVORK5CYII=\n",
       "\" style=\"display:inline;vertical-align:middle;\" /></a></td></tr>\n",
       "<tr><td>3</td><td>Operation</td><td>operator:&nbsp;6<br>operands:&nbsp;7<br></td><td><a class=\"ProveItLink\" href=\"../b90428430339541d63aa4bc743f2998609f8fec90/expr.ipynb\"><img src=\"data:image/png;base64,iVBORw0KGgoAAAANSUhEUgAAAE8AAAASBAMAAADoCp6cAAAAMFBMVEX////MzMyYmJiIiIhUVFTc\n",
       "3NwyMjIiIiJ2dnbu7u6qqqpmZmYQEBBERES6uroAAABkyy6XAAAAAXRSTlMAQObYZgAAASVJREFU\n",
       "KM9jYGBg4LuzgQE/mGISAKb5FwBVg1kCcDkU/o31CmD6/QQGBhaQGLMBXCEyn/PfLIhgOxAzXgAS\n",
       "7BPgCpH5XB+ggtkgIhWIVyO5C4nPXQAiWZ37fjFABVPBAjusA5D5DEw+JSDfvgng/ckAsQZsHcPy\n",
       "ANYNyHygZ0FOZf3EwJ3AAHE4ywOQwD8GbgEkPhDEg/gsHxjYG8DcAoZpYO8eUjZF5gPBerCxFxjm\n",
       "QzTuYmgCC8BCH8qHhgpDvAFQAzgUwhgK4A5C4gPBFRAxfwGDGxc4AliEwEp4gKQBEh8IDoMINgWu\n",
       "ag5IEF8HG8ycwDA7AIkPihhIMNrJ2iGFOwNDt7EBCp+B7ydaGpHEwWdOYCAKqPAqEKfw2HTi1DFo\n",
       "bAWRAP1QQulI0dpiAAAAAElFTkSuQmCC\n",
       "\" style=\"display:inline;vertical-align:middle;\" /></a></td></tr>\n",
       "<tr><td>4</td><td>ExprTuple</td><td>8, 9, 10</td><td><a class=\"ProveItLink\" href=\"../d49e900d23804978f563e8d96d3cdab866f378630/expr.ipynb\"><img src=\"data:image/png;base64,iVBORw0KGgoAAAANSUhEUgAAADsAAAAVBAMAAAAKrYvGAAAAMFBMVEX////c3NwiIiJERESqqqqY\n",
       "mJh2dnZmZmYQEBDu7u4yMjJUVFTMzMyIiIi6uroAAAAs73DqAAAAAXRSTlMAQObYZgAAAThJREFU\n",
       "KM+FkrFLw0AUxn9t0qZpbNPdod1cs7jnPzCToxQHOylZ7KqCuCkduyWLg7h0EUQoBFwEl66CKdVJ\n",
       "XBoRBxfxcknhYinecPd978v78t67g39Wc7JK2Um3RyVg3nYUZkRiu1IT6iOVhdAoeNuuyrahNlAD\n",
       "8wIbwnuhmt0C01z64iiND06ywHV8kxe5F0dUfS4FfmtpSRb8xI4kepjVO+ghFyL5C8ORQf2bWld+\n",
       "d47m0TzmB6yEcla/EWL7KbCk21qSyrZDkFmWfeaebNDJ5VNoT9hikLd9JEFbugnzTQhc7vTITOWI\n",
       "MyQQHh6VkJ6YpKdvVAnEuC3XGGXApyobe03bnt5PGX6IgseHSEA/fhJ5M2qtxYxeloAYaqW7IN4S\n",
       "2FcvdEk2xYWynpMGf4GV/re08jE9wy8Jx0wlkMlGlgAAAABJRU5ErkJggg==\n",
       "\" style=\"display:inline;vertical-align:middle;\" /></a></td></tr>\n",
       "<tr><td>5</td><td>ExprTuple</td><td>9, 10, 11</td><td><a class=\"ProveItLink\" href=\"../12b22f4a016d0e247fc47d53ddfea65ff7b7a7fb0/expr.ipynb\"><img src=\"data:image/png;base64,iVBORw0KGgoAAAANSUhEUgAAADsAAAAVBAMAAAAKrYvGAAAAMFBMVEX////c3NwiIiJERESqqqqY\n",
       "mJh2dnZmZmYQEBDu7u4yMjJUVFTMzMyIiIi6uroAAAAs73DqAAAAAXRSTlMAQObYZgAAATxJREFU\n",
       "KM+Fkr9Lw2AQhp+26Y+0tunuoJtrF8Ex/4GZHKU46KRksasO4qZkdGsWEXHpIogQCLgILl2FpkQn\n",
       "cWlFHbqI931JHZoWb/jycJf3u3svgX+i0V9U2VbHE+bd6hzVhlsO5XkN1d4crWXjQ72vKRsjjy2o\n",
       "eJqysQMX8J5QNq6gYNMRuoluk5S5G4UacsHBF5RcLiX5iZVkH+NqYuKtWZiA4XMu54RKW4vPKDha\n",
       "/E1Zxm4c84Miy1XZ2jjtK5AXwdJYlfMuIy2yWlPPLbqxLp9o20fa2sp0vwKbeOryddRcp5hKJHc4\n",
       "Cro290ZI0WdPOtnlHl0ZueZSChVUHWOtpI29ysDBoWzoQ1Sd6FlDLhg+DOWtmEoz7ffCLKilFtsp\n",
       "O8wC+8kHXVA2ZTMsJ1yfJv+AmuqbW/gzDeAX8JNQTs/EzKYAAAAASUVORK5CYII=\n",
       "\" style=\"display:inline;vertical-align:middle;\" /></a></td></tr>\n",
       "<tr><td>6</td><td>Literal</td><td></td><td><a class=\"ProveItLink\" href=\"../../../disjunction/__pv_it/087d0b4ded7c7e5bf3bba05ecb616d7a8051ff650/expr.ipynb\"><img src=\"data:image/png;base64,iVBORw0KGgoAAAANSUhEUgAAAAwAAAAOBAMAAADpk+DfAAAALVBMVEX///+YmJh2dnZmZmaqqqrc\n",
       "3NwyMjLu7u4iIiJERESIiIhUVFTMzMy6uroAAAD0I/TTAAAAAXRSTlMAQObYZgAAAEtJREFUCNdj\n",
       "uMAABDwMe0DUKoaTIKqdgS2AgYHFAITAzHYGsMQqBoa9QIqDgT0BSDE7MAkAKdYEDpAehj1SYOpk\n",
       "O5hiMwBTPAUMDAB33Atnw8aG2QAAAABJRU5ErkJggg==\n",
       "\" style=\"display:inline;vertical-align:middle;\" /></a></td></tr>\n",
       "<tr><td>7</td><td>ExprTuple</td><td>11, 12, 13</td><td><a class=\"ProveItLink\" href=\"../ac202d3c1ce140e8bbf1c65c4686d59270cb553d0/expr.ipynb\"><img src=\"data:image/png;base64,iVBORw0KGgoAAAANSUhEUgAAAD8AAAAVBAMAAAADRiu8AAAAMFBMVEX////c3NwiIiJERESqqqqY\n",
       "mJh2dnZmZmYQEBDu7u4yMjJUVFTMzMyIiIi6uroAAAAs73DqAAAAAXRSTlMAQObYZgAAAVdJREFU\n",
       "KM9jYCAI+C7glosDEafBqiwKMGRn3xZgPwCkV4J5/A4YCsz8AxgWMDDwQmx4PwFdnvPfFAaGMAYG\n",
       "DohMEoYBLB+AxAwGhlcQ7nIMBewKQILZgaEMSDHuzfsCEWUsuy4AYbHu0Aa6m62AYSmQ80KA+SdE\n",
       "2EmAEeYdfpDjWBYw9AG1fWVgXwAx4B8D2GcgIA9i8DUw/GNg4P7AwJQAFuRujb0Ic4M/iOD5AFLA\n",
       "b8Aw/wHEWKTgSoIqaAEadgGofALcXiiwZoBYYcrAMN+BYRfLAU4gnwOo4AJELUMv2C8LGNIZGLgC\n",
       "WNTZGOYD/c27gGG6AOcnSECCSKA3H4GC4d7hewwzPgIF0u9eYODsBwUFH9jjXA8YOARglj6EJwCQ\n",
       "EC/Y48CgZk2AiQfAGKxAHM0M5ubCoxtdQdcksENAxkhDhXnhHgT5NawQHHAgyxjxJLk7DAwAQc1O\n",
       "jiWfZG8AAAAASUVORK5CYII=\n",
       "\" style=\"display:inline;vertical-align:middle;\" /></a></td></tr>\n",
       "<tr><td>8</td><td>Variable</td><td></td><td><a class=\"ProveItLink\" href=\"../../../../../__pv_it/07527342713064c87612d00d8557c53d53d5324a0/expr.ipynb\"><img src=\"data:image/png;base64,iVBORw0KGgoAAAANSUhEUgAAAAsAAAAJBAMAAAAWSsseAAAAMFBMVEX///8yMjKqqqrMzMzu7u4i\n",
       "IiJmZmaYmJhEREQQEBC6urp2dnaIiIhUVFTc3NwAAAD87Fq/AAAAAXRSTlMAQObYZgAAAEhJREFU\n",
       "CNdjYOC7s2seAwPDygccHxgY+L4zsDUwMPB+YGA9wMDA38Dgb8DA8P4Agz6DA4O/AsNFJgMGxgKm\n",
       "MG6gyjunLE4xAAAZTBA5TB6DCwAAAABJRU5ErkJggg==\n",
       "\" style=\"display:inline;vertical-align:middle;\" /></a></td></tr>\n",
       "<tr><td>9</td><td>Variable</td><td></td><td><a class=\"ProveItLink\" href=\"../../../../../__pv_it/6840a4fa6c106149dc16a131294d0c5e44f1b0480/expr.ipynb\"><img src=\"data:image/png;base64,iVBORw0KGgoAAAANSUhEUgAAAAkAAAAOBAMAAAAPuiubAAAALVBMVEX///9mZmbMzMxERESYmJiI\n",
       "iIh2dna6urqqqqoyMjIiIiIQEBBUVFTu7u4AAAD9S1JeAAAAAXRSTlMAQObYZgAAAE1JREFUCNdj\n",
       "4D29gAEIOA+ASL4GEFl3AURmgQiGOaFHGBh4HzPwKTBwvGXgTmBgnMDAJ8DAJcBQ5wBSLncBJLWN\n",
       "gYGngRFoBO9REQYGAGrcDtUkVqASAAAAAElFTkSuQmCC\n",
       "\" style=\"display:inline;vertical-align:middle;\" /></a></td></tr>\n",
       "<tr><td>10</td><td>Variable</td><td></td><td><a class=\"ProveItLink\" href=\"../../../../../__pv_it/cbdfda466482236edba0ce44ac7ef39cda0af7a40/expr.ipynb\"><img src=\"data:image/png;base64,iVBORw0KGgoAAAANSUhEUgAAAAkAAAAJBAMAAAASvxsjAAAALVBMVEX///9mZmbc3NxUVFSYmJhE\n",
       "REQiIiIyMjK6uroQEBDMzMyIiIh2dnbu7u4AAABgFDGoAAAAAXRSTlMAQObYZgAAADZJREFUCNdj\n",
       "YOA9s3sBA8PKBvYEBt7ZDKwODMwPGICALwBE6m0Asx0YGIDiAgw8QJUyu/cyAAAmuwmycZ8WfQAA\n",
       "AABJRU5ErkJggg==\n",
       "\" style=\"display:inline;vertical-align:middle;\" /></a></td></tr>\n",
       "<tr><td>11</td><td>Variable</td><td></td><td><a class=\"ProveItLink\" href=\"../../../../../__pv_it/3a5de44ed6135dbbdbbeec6704c741e238f127300/expr.ipynb\"><img src=\"data:image/png;base64,iVBORw0KGgoAAAANSUhEUgAAAAsAAAAOBAMAAAALT/umAAAAMFBMVEX////MzMyYmJiIiIhUVFTc\n",
       "3NwyMjIiIiJ2dnbu7u6qqqpmZmYQEBBERES6uroAAABkyy6XAAAAAXRSTlMAQObYZgAAAFhJREFU\n",
       "CNdjYGBg4LuzgQEE+BeAqfcTwFQ7mGTIBmJW575fQOpNAO9PIOcTA3cCAwPLBwb2BqCeCwzzHzAw\n",
       "xBswrGeYwDB/AYMblwADmwJXNQdIm52sHQMAfyoTCZukXIEAAAAASUVORK5CYII=\n",
       "\" style=\"display:inline;vertical-align:middle;\" /></a></td></tr>\n",
       "<tr><td>12</td><td>Variable</td><td></td><td><a class=\"ProveItLink\" href=\"../../../../../__pv_it/0bc0f4a545336331111a0b22c4f05a0627b57b8f0/expr.ipynb\"><img src=\"data:image/png;base64,iVBORw0KGgoAAAANSUhEUgAAAAkAAAAJBAMAAAASvxsjAAAALVBMVEX////u7u4yMjKYmJgQEBBU\n",
       "VFTMzMy6uroiIiKqqqqIiIh2dnZmZmbc3NwAAAAyj3LLAAAAAXRSTlMAQObYZgAAADlJREFUCNdj\n",
       "YOA9veYCA8OMC7wHGHifM/AkMLA6W61lYOA7wAAEfAtAJAuQXMDApcAgA1S5Z9UCBgB6Cgz1W65k\n",
       "FgAAAABJRU5ErkJggg==\n",
       "\" style=\"display:inline;vertical-align:middle;\" /></a></td></tr>\n",
       "<tr><td>13</td><td>Variable</td><td></td><td><a class=\"ProveItLink\" href=\"../../../../../__pv_it/4d51ee1e62d011d06d4528b97697bf3da60c9de60/expr.ipynb\"><img src=\"data:image/png;base64,iVBORw0KGgoAAAANSUhEUgAAAAsAAAASBAMAAAB/WzlGAAAAMFBMVEX///8yMjLMzMwQEBAiIiJm\n",
       "Zma6urqYmJiqqqp2dnZERETc3NyIiIhUVFTu7u4AAAAe+HC4AAAAAXRSTlMAQObYZgAAAFVJREFU\n",
       "CNdjYGBgeHt2A5BkWNlfACT5vr0AcTg+gEgGVgcQyX7ZNwBE8x8AC+5XAFP9YJJhCoRaC6FswCTf\n",
       "NzDF9g9M8QiAyFoukPEMhk/AYpXRIBIAEwsRcZ82juYAAAAASUVORK5CYII=\n",
       "\" style=\"display:inline;vertical-align:middle;\" /></a></td></tr>\n",
       "</table>\n"
      ],
      "text/plain": [
       "0. (a or b or c , b or c or d , d or e or f)\n",
       "   core type: ExprTuple\n",
       "   sub-expressions: 1, 2, 3\n",
       "1. a or b or c\n",
       "   core type: Operation\n",
       "   operator: 6\n",
       "   operands: 4\n",
       "2. b or c or d\n",
       "   core type: Operation\n",
       "   operator: 6\n",
       "   operands: 5\n",
       "3. d or e or f\n",
       "   core type: Operation\n",
       "   operator: 6\n",
       "   operands: 7\n",
       "4. (a , b , c)\n",
       "   core type: ExprTuple\n",
       "   sub-expressions: 8, 9, 10\n",
       "5. (b , c , d)\n",
       "   core type: ExprTuple\n",
       "   sub-expressions: 9, 10, 11\n",
       "6. or\n",
       "   core type: Literal\n",
       "   sub-expressions: \n",
       "7. (d , e , f)\n",
       "   core type: ExprTuple\n",
       "   sub-expressions: 11, 12, 13\n",
       "8. a\n",
       "   core type: Variable\n",
       "   sub-expressions: \n",
       "9. b\n",
       "   core type: Variable\n",
       "   sub-expressions: \n",
       "10. c\n",
       "    core type: Variable\n",
       "    sub-expressions: \n",
       "11. d\n",
       "    core type: Variable\n",
       "    sub-expressions: \n",
       "12. e\n",
       "    core type: Variable\n",
       "    sub-expressions: \n",
       "13. f\n",
       "    core type: Variable\n",
       "    sub-expressions: "
      ]
     },
     "execution_count": 4,
     "metadata": {},
     "output_type": "execute_result"
    }
   ],
   "source": [
    "# display the expression information\n",
    "expr.exprInfo()"
   ]
  },
  {
   "cell_type": "code",
   "execution_count": null,
   "metadata": {},
   "outputs": [],
   "source": []
  }
 ],
 "metadata": {
  "kernelspec": {
   "display_name": "Python 3",
   "language": "python",
   "name": "python3"
  }
 },
 "nbformat": 4,
 "nbformat_minor": 0
}
