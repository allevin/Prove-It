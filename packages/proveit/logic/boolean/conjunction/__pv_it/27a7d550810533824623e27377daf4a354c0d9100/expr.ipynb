{
 "cells": [
  {
   "cell_type": "markdown",
   "metadata": {},
   "source": [
    "Expression of type <a class=\"ProveItLink\" href=\"../../../../../../../doc/html/api/proveit.ExprTuple.html\">ExprTuple</a>\n",
    "=======================\n",
    "# from context <a class=\"ProveItLink\" href=\"../../_context_.ipynb\">proveit.logic.boolean.conjunction</a>"
   ]
  },
  {
   "cell_type": "code",
   "execution_count": 1,
   "metadata": {},
   "outputs": [],
   "source": [
    "# import Expression classes needed to build the expression\n",
    "from proveit import ExprTuple\n",
    "from proveit._common_ import C, D, E\n",
    "from proveit.logic import And"
   ]
  },
  {
   "cell_type": "code",
   "execution_count": 2,
   "metadata": {},
   "outputs": [
    {
     "data": {
      "text/html": [
       "<strong id=\"expr\">expr:</strong> <a class=\"ProveItLink\" href=\"expr.ipynb\"><img src=\"data:image/png;base64,iVBORw0KGgoAAAANSUhEUgAAANcAAAAVBAMAAAAnc2Y5AAAAMFBMVEX////c3NwiIiJERESqqqqY\n",
       "mJh2dnZmZmYQEBDu7u4yMjJUVFTMzMyIiIi6uroAAAAs73DqAAAAAXRSTlMAQObYZgAAArhJREFU\n",
       "SMe9lj1oU1EUx/9J8/VeXtJsog7NmskiuOjQbC4OmdzULKIO0ghqHYQ6WNBFuynFYqqIikOKHQo+\n",
       "aYJuOiTgqGJ1qQhi6heYVus5592Pl6SDZsiDd3K59/97577zcV+AoV7Z1nD8HGXzks38ganSju7F\n",
       "11u+f7fRPZepb/h+rfqPAn05r5bPRSpJlj6kOzEDrM3ISmRWazpA7Hsw3KnnRuk5sfF+gaFCAgOd\n",
       "LCF7oQRayVAUnTukTazLiltREu8nmengIfc194VjXukXGCok0NBcgcxkDoeBFKndq5y7S7L0vKAj\n",
       "8odMUxLq7dUbn6RYOK0+gaWswEAP+PcjcBP4xNsrciSC/ay8VdhIm8zYIg/Tn3UR1YAycn0CS1mB\n",
       "hpISaSqIkSLOk5uOpFFy7VSjOvoc+aY8aw55NfkN8RL6BZayAg2NSbncojxVcI98/7CVkygli8FI\n",
       "AnSszMPjOKvapOPXcloaEhgqJNDQtN5drIprQHTdOosiogr3Hb9pfZWHeexSW9mEa6QhgaFCAg3t\n",
       "0bujoqAsj7YlFDJzBHgarE2wucIm3kI66Ce3jQQ89AosZQUG2pIFKhKvzc5S4uyQTBZUl3P0iZAA\n",
       "R2fhLeo0RTCPXoGlrMBA1yWEDXF2mermF3RzxMi68t7ebzIpac+DdC/YLjql2swKLGUFBqpz5SeD\n",
       "MO5TWEK6gpGYuM1sktkvkwuKDbqIWsTpEVhKCcJQU/uPV3GCS6qI7JmgOYPUqi56IZg3LiWgugjP\n",
       "Grid7xKEKCUIQ3HqszV+bSr9D7zyZFnV9gobbtAbExv+0kWZS3PByam2REfv4690Fqx3CQxlBCGI\n",
       "svloSvrCXUUqFz6gpZCzPd8gu6Kv992KbahtIDqu4uUBvk2lQT5op9UnZhjOHG773f/PZQZ5sTTn\n",
       "KzKkvwVvgL9GuPB0xyf2+gAAAABJRU5ErkJggg==\n",
       "\" style=\"display:inline;vertical-align:middle;\" /></a><br>"
      ],
      "text/plain": [
       "expr: (C and D and E , D and E and C)"
      ]
     },
     "execution_count": 2,
     "metadata": {},
     "output_type": "execute_result"
    }
   ],
   "source": [
    "# build up the expression from sub-expressions\n",
    "expr = ExprTuple(And(C, D, E), And(D, E, C))"
   ]
  },
  {
   "cell_type": "code",
   "execution_count": 3,
   "metadata": {},
   "outputs": [
    {
     "name": "stdout",
     "output_type": "stream",
     "text": [
      "Passed sanity check: built 'expr' is the same as the stored Expression.\n"
     ]
    }
   ],
   "source": [
    "# check that the built expression is the same as the stored expression\n",
    "%check_expr"
   ]
  },
  {
   "cell_type": "code",
   "execution_count": 4,
   "metadata": {},
   "outputs": [
    {
     "data": {
      "text/html": [
       "<table><tr><th>&nbsp;</th><th>core type</th><th>sub-expressions</th><th>expression</th></tr>\n",
       "<tr><td>0</td><td>ExprTuple</td><td>1, 2</td><td><a class=\"ProveItLink\" href=\"expr.ipynb\"><img src=\"data:image/png;base64,iVBORw0KGgoAAAANSUhEUgAAANcAAAAVBAMAAAAnc2Y5AAAAMFBMVEX////c3NwiIiJERESqqqqY\n",
       "mJh2dnZmZmYQEBDu7u4yMjJUVFTMzMyIiIi6uroAAAAs73DqAAAAAXRSTlMAQObYZgAAArhJREFU\n",
       "SMe9lj1oU1EUx/9J8/VeXtJsog7NmskiuOjQbC4OmdzULKIO0ghqHYQ6WNBFuynFYqqIikOKHQo+\n",
       "aYJuOiTgqGJ1qQhi6heYVus5592Pl6SDZsiDd3K59/97577zcV+AoV7Z1nD8HGXzks38ganSju7F\n",
       "11u+f7fRPZepb/h+rfqPAn05r5bPRSpJlj6kOzEDrM3ISmRWazpA7Hsw3KnnRuk5sfF+gaFCAgOd\n",
       "LCF7oQRayVAUnTukTazLiltREu8nmengIfc194VjXukXGCok0NBcgcxkDoeBFKndq5y7S7L0vKAj\n",
       "8odMUxLq7dUbn6RYOK0+gaWswEAP+PcjcBP4xNsrciSC/ay8VdhIm8zYIg/Tn3UR1YAycn0CS1mB\n",
       "hpISaSqIkSLOk5uOpFFy7VSjOvoc+aY8aw55NfkN8RL6BZayAg2NSbncojxVcI98/7CVkygli8FI\n",
       "AnSszMPjOKvapOPXcloaEhgqJNDQtN5drIprQHTdOosiogr3Hb9pfZWHeexSW9mEa6QhgaFCAg3t\n",
       "0bujoqAsj7YlFDJzBHgarE2wucIm3kI66Ce3jQQ89AosZQUG2pIFKhKvzc5S4uyQTBZUl3P0iZAA\n",
       "R2fhLeo0RTCPXoGlrMBA1yWEDXF2mermF3RzxMi68t7ebzIpac+DdC/YLjql2swKLGUFBqpz5SeD\n",
       "MO5TWEK6gpGYuM1sktkvkwuKDbqIWsTpEVhKCcJQU/uPV3GCS6qI7JmgOYPUqi56IZg3LiWgugjP\n",
       "Grid7xKEKCUIQ3HqszV+bSr9D7zyZFnV9gobbtAbExv+0kWZS3PByam2REfv4690Fqx3CQxlBCGI\n",
       "svloSvrCXUUqFz6gpZCzPd8gu6Kv992KbahtIDqu4uUBvk2lQT5op9UnZhjOHG773f/PZQZ5sTTn\n",
       "KzKkvwVvgL9GuPB0xyf2+gAAAABJRU5ErkJggg==\n",
       "\" style=\"display:inline;vertical-align:middle;\" /></a></td></tr>\n",
       "<tr><td>1</td><td>Operation</td><td>operator:&nbsp;4<br>operands:&nbsp;3<br></td><td><a class=\"ProveItLink\" href=\"../0ebf51db954843ff8dae4f0c37a06b00d3d317e20/expr.ipynb\"><img src=\"data:image/png;base64,iVBORw0KGgoAAAANSUhEUgAAAGAAAAAPBAMAAADpFNeEAAAAMFBMVEX////MzMyqqqoiIiIyMjK6\n",
       "uroQEBB2dnbc3NyYmJhmZmZUVFRERESIiIju7u4AAAB204erAAAAAXRSTlMAQObYZgAAAZVJREFU\n",
       "KM9VUj1LA0EQfWcSc7mLMX0CWotg/APJVRIM6FUWgugPEEwl2JgrrCz0WgtRLARFUCFpvCIRO5uk\n",
       "V/GEdCJEURRijLOze/lYuLk3Mzu7M+8tgMTjzZl+jME1Vm175VsMr4eu55U/CWy6iJy6HNsLkuMW\n",
       "MDPJUPeDoNg8DTSz9C85HJoPchNFwPhjGA4uj3TIGMCcOGGJQ9pdcNqzTV6HYTqrYtF3Mm8wPoSz\n",
       "yyFzpaGSddFLm2HlScXCLUShY98SzguHmsio5K+4jwsSViiYq4YD+l26fR62cCIBdxP75kZcQw6P\n",
       "1UL5h345p1+QwY6iVbRrfgkYgm7JYCkJgbrs8LCxBswku/EWmdE1AQ+Ba1mwCBSRxIbAI7wv5EO7\n",
       "CtoFjrhZ4ijVm8tJNFD1Jbu0pujLSxkEW+t8FKkQdnoyRH2Z2+ZteVVEMtCN8QXm0pFFSgaiP0Y6\n",
       "LPMRWo1nVDJoUvW0JEPKAG2WQKpwLnkzbcEPXZi4oGd2L8evCCOke623PS+XGXyNEbb28BO1+xm5\n",
       "/gF4VWQFRtIgswAAAABJRU5ErkJggg==\n",
       "\" style=\"display:inline;vertical-align:middle;\" /></a></td></tr>\n",
       "<tr><td>2</td><td>Operation</td><td>operator:&nbsp;4<br>operands:&nbsp;5<br></td><td><a class=\"ProveItLink\" href=\"../e78d1788112802d89d7801d1873d21108898667a0/expr.ipynb\"><img src=\"data:image/png;base64,iVBORw0KGgoAAAANSUhEUgAAAGEAAAAPBAMAAAAG1ry6AAAAMFBMVEX///8iIiIQEBCYmJjc3Ny6\n",
       "urru7u5mZmZ2dnaqqqrMzMxEREQyMjJUVFSIiIgAAABUCcz6AAAAAXRSTlMAQObYZgAAAZJJREFU\n",
       "KM9dUkFLAkEU/sxddTc1T16D/kD7C2pPdQmMLt3KWxARUoeoi1LgVW9d62yi3YMkhA4R1kGCZNF7\n",
       "VEYEZZq992bWsIF98+1782a++b4B8Dz0vJsTjI14e+B5jdp4MvT0sGtkGPUB60sljbSuTtFqqypw\n",
       "we84dGDuOATsTwpZtTSa0dX1DgX1c61TW0kKBZcZfFCodCRbSupygWiGJGef63OveF5hNNmlkLqT\n",
       "bPNFdzSAHHg/xNbUZmEhviiUmW5FOkK1gO74RtDRZJCQOSU6bMInNJ9jGHHCRSmbfa/hqo4j7Muc\n",
       "dUaivbKy7WWGARhK0UgPUV1OYEnmaXfUcclhRuAc8Kg06yICm1Gwg5iYNZRCWlGm/Lv8k1Jl6LsZ\n",
       "2JZj07DljrMcLG62fyhMiFkWGRB1R3bkGR3TV2fQ5u3D8iB6FC7kNF5tZXw71IOo6y4lUN6340y5\n",
       "W1I3VXbgVBhURRAmTn6sMoGNy4HXOlAaNDmQh6EWPc77N/GPNYyLh+XbvSL+DVHYHEuZfwU9fgEF\n",
       "kG2ofvSH9gAAAABJRU5ErkJggg==\n",
       "\" style=\"display:inline;vertical-align:middle;\" /></a></td></tr>\n",
       "<tr><td>3</td><td>ExprTuple</td><td>8, 6, 7</td><td><a class=\"ProveItLink\" href=\"../9b46dd346f176f4dd7279387cd96c08d0fd585db0/expr.ipynb\"><img src=\"data:image/png;base64,iVBORw0KGgoAAAANSUhEUgAAAFAAAAAVBAMAAAAjqnRBAAAAMFBMVEX////c3NwiIiJERESqqqqY\n",
       "mJh2dnZmZmYQEBDu7u4yMjJUVFTMzMyIiIi6uroAAAAs73DqAAAAAXRSTlMAQObYZgAAAZxJREFU\n",
       "KM+NUz1PAkEQfah33iEH11lY6E+g0EYLqI0FtY3XGSsxMdqYSCGJNnqdxoRINBY2olKYeAXEUgvp\n",
       "LUQbjY3gVyLgx8zeHtxVcsm+3dl5uzPzdg7o+otW/ucoVYJrXuUmllOD7ubtr+MclCXDKDUdp5DH\n",
       "Cq2PaKhZ4DErnQ2g7927K5YnK44wnaHI+r5N5LrrinwSrNqS+MKJpaFY0GgrvMG5ZmS0H4IbL/F5\n",
       "SkKvQM/gmc8nCUJp19VbIxg+kcQCYMEERrFElAZv6bKAWJxv9IhvUFI8z+IQ6P/wSyGizlhSu4ZT\n",
       "MHkxiU2gp+4n3vHNpaprqC0umL4nUOqxmggtiQmGdWmEa1AR4ThM1ARxqp0VvYSXDCUcQk4Q14CB\n",
       "LwixXBm/CbS4X8Y5EXpM+lTbDW60CMZJXNuTUeg2TXVTjUlEF4C9ESnjFbn0VykjLstCngcOd3G+\n",
       "SNMOVb+daDpFbgF9y4RepAY5EyeOoZkdZe4D7edz8BMqVsdMBXrQb6gVt83+Je7SGGpbRqCrA41/\n",
       "yl3Txa9glPEHp9Zv1gCxd98AAAAASUVORK5CYII=\n",
       "\" style=\"display:inline;vertical-align:middle;\" /></a></td></tr>\n",
       "<tr><td>4</td><td>Literal</td><td></td><td><a class=\"ProveItLink\" href=\"../76b5f4f4c45c0b6a9b59b297fc07dfa9555698f50/expr.ipynb\"><img src=\"data:image/png;base64,iVBORw0KGgoAAAANSUhEUgAAAAwAAAAOBAMAAADpk+DfAAAALVBMVEX///+qqqqYmJh2dnaIiIi6\n",
       "urpUVFQiIiJERETMzMxmZmYyMjLu7u7c3NwAAABvwqPxAAAAAXRSTlMAQObYZgAAAEtJREFUCNdj\n",
       "YGDgPcAAAtwLwNSMGjCV6gIieTawgyhmBS4BIMXOwLsBSKkwMGQCKaC6aQwMjEBd3BdACMScAVJd\n",
       "wJAKolwYAkAUKwAk0guX6efcigAAAABJRU5ErkJggg==\n",
       "\" style=\"display:inline;vertical-align:middle;\" /></a></td></tr>\n",
       "<tr><td>5</td><td>ExprTuple</td><td>6, 7, 8</td><td><a class=\"ProveItLink\" href=\"../38fd6c1fd98dcbc636d7e13656ca5b0dcb8a53440/expr.ipynb\"><img src=\"data:image/png;base64,iVBORw0KGgoAAAANSUhEUgAAAFEAAAAVBAMAAADMaB9/AAAAMFBMVEX////c3NwiIiJERESqqqqY\n",
       "mJh2dnZmZmYQEBDu7u4yMjJUVFTMzMyIiIi6uroAAAAs73DqAAAAAXRSTlMAQObYZgAAAZFJREFU\n",
       "KM+NU71PwnAQfY0UKAJ2c3BgdrKLiwv8CUyOyqYOhi5+DCY4ODgJm8ZoQmJMNA4YGRg6QBx1wMRR\n",
       "E4mLxsUG1AFQvPt9JHUg0qSv9+7u17t7vQKjX8m7EZIWGG7pfhh43klDeRP1nudVyopZ97U1w41w\n",
       "8Jx5Fwh96BdMUFbIUWQ5i+RmFuRKcPH4F0GhpILv7HKlfThNkLcxD0Q5nvghaOqG81TKUuSMw6/A\n",
       "AfDGfMwnSF2qzAqQgy3MiGhpkjIyWBedcVdNndmBmVVmSgx2BIRdnEIXXswp2bpexVaZBX0kVMYe\n",
       "P59YhHpLOsN9xLQMM/pIchs8C9IMu8oZ8xFGXNoDgTRV3JeZHbrNTy2nAwPH0i6Kyg2RucNyfhNE\n",
       "naCcK9Kus0gRWX2W5ewTzJVEGSmn4UrS1KfMMpaUnDcUs9pKTlw3JDFJzxeeilR6BvbTPa+6xdtQ\n",
       "tGFVaVuu2pLQ/lxsZMSYLUTt4AYOJfQ1zVyAmxhGVvXW/Zdp8VedCjj+rH+QjHMnxih/xyPwCyHW\n",
       "cE5YmectAAAAAElFTkSuQmCC\n",
       "\" style=\"display:inline;vertical-align:middle;\" /></a></td></tr>\n",
       "<tr><td>6</td><td>Variable</td><td></td><td><a class=\"ProveItLink\" href=\"../../../../../__pv_it/185e6d30f167ee2ee5ef3321098dc98e0d77bc590/expr.ipynb\"><img src=\"data:image/png;base64,iVBORw0KGgoAAAANSUhEUgAAABEAAAAOBAMAAAA7w+qHAAAALVBMVEX///8QEBCYmJjc3Ny6urru\n",
       "7u5mZmZ2dnaqqqrMzMxEREQyMjJUVFSIiIgAAABETr/8AAAAAXRSTlMAQObYZgAAAGpJREFUCNdj\n",
       "YGC48+7MmV0TGEDgNQMDxwsQg/M5kMgLABK8T4DEvAtAgusBkLA7ACT4FoDEDsAk9AqAxD2QCecc\n",
       "gMQ6kAGCIOIVEDM9Ahn3FkgwgnTxvgQSqwOgxs1OADLC1r05cyoTyAAAv4Qe+njAWvgAAAAASUVO\n",
       "RK5CYII=\n",
       "\" style=\"display:inline;vertical-align:middle;\" /></a></td></tr>\n",
       "<tr><td>7</td><td>Variable</td><td></td><td><a class=\"ProveItLink\" href=\"../../../../../__pv_it/9995c55100c62d7d8a012a35bafc852acbe03cf00/expr.ipynb\"><img src=\"data:image/png;base64,iVBORw0KGgoAAAANSUhEUgAAABAAAAAOBAMAAADUAYG5AAAALVBMVEX///8iIiKYmJjc3Nzu7u7M\n",
       "zMx2dnZmZma6urpERESqqqoyMjJUVFSIiIgAAACbLqVTAAAAAXRSTlMAQObYZgAAAGVJREFUCNdj\n",
       "YGC48+7MmdOvGYAARKwEYo63QIIdiNmeAglfIOZ+wMDGwAxk8E1gUAIpZejbc/oxmJEXwLABzNjH\n",
       "wJDAEABkvGRgMGC5ADWGzQFqjDnEGAZWUQYGn3lvzpyRE2AAAIznGVQJqiN4AAAAAElFTkSuQmCC\n",
       "\" style=\"display:inline;vertical-align:middle;\" /></a></td></tr>\n",
       "<tr><td>8</td><td>Variable</td><td></td><td><a class=\"ProveItLink\" href=\"../../../../../__pv_it/985a1bdf1540838275dec15f4ad6de261cca93ce0/expr.ipynb\"><img src=\"data:image/png;base64,iVBORw0KGgoAAAANSUhEUgAAAA8AAAAOBAMAAAACpFvcAAAAMFBMVEX////MzMyqqqoiIiIyMjK6\n",
       "uroQEBB2dnbc3NyYmJhmZmZUVFRERESIiIju7u4AAAB204erAAAAAXRSTlMAQObYZgAAAGZJREFU\n",
       "CNdjYGDgu7NrJccCBgaGsgkMrMsmMDA8sQNy6hsYGNweABlhDAxcn4A0QxcDQ78DiPGQgWH9BAYI\n",
       "sG+AMv6DSaCGfBDNJMDAsB+kmwuI5S8AiTog5gSaEwXWIO29SgFIAQBC+RaDQlidVgAAAABJRU5E\n",
       "rkJggg==\n",
       "\" style=\"display:inline;vertical-align:middle;\" /></a></td></tr>\n",
       "</table>\n"
      ],
      "text/plain": [
       "0. (C and D and E , D and E and C)\n",
       "   core type: ExprTuple\n",
       "   sub-expressions: 1, 2\n",
       "1. C and D and E\n",
       "   core type: Operation\n",
       "   operator: 4\n",
       "   operands: 3\n",
       "2. D and E and C\n",
       "   core type: Operation\n",
       "   operator: 4\n",
       "   operands: 5\n",
       "3. (C , D , E)\n",
       "   core type: ExprTuple\n",
       "   sub-expressions: 8, 6, 7\n",
       "4. and\n",
       "   core type: Literal\n",
       "   sub-expressions: \n",
       "5. (D , E , C)\n",
       "   core type: ExprTuple\n",
       "   sub-expressions: 6, 7, 8\n",
       "6. D\n",
       "   core type: Variable\n",
       "   sub-expressions: \n",
       "7. E\n",
       "   core type: Variable\n",
       "   sub-expressions: \n",
       "8. C\n",
       "   core type: Variable\n",
       "   sub-expressions: "
      ]
     },
     "execution_count": 4,
     "metadata": {},
     "output_type": "execute_result"
    }
   ],
   "source": [
    "# display the expression information\n",
    "expr.exprInfo()"
   ]
  },
  {
   "cell_type": "code",
   "execution_count": null,
   "metadata": {},
   "outputs": [],
   "source": []
  }
 ],
 "metadata": {
  "kernelspec": {
   "display_name": "Python 3",
   "language": "python",
   "name": "python3"
  }
 },
 "nbformat": 4,
 "nbformat_minor": 0
}
