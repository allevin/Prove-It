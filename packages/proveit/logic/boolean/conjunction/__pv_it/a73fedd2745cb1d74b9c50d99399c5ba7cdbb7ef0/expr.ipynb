{
 "cells": [
  {
   "cell_type": "markdown",
   "metadata": {},
   "source": [
    "Expression of type <a class=\"ProveItLink\" href=\"../../../../../../../doc/html/api/proveit.ExprTuple.html\">ExprTuple</a>\n",
    "=======================\n",
    "# from context <a class=\"ProveItLink\" href=\"../../_context_.ipynb\">proveit.logic.boolean.conjunction</a>"
   ]
  },
  {
   "cell_type": "code",
   "execution_count": 1,
   "metadata": {},
   "outputs": [],
   "source": [
    "# import Expression classes needed to build the expression\n",
    "from proveit import ExprTuple\n",
    "from proveit._common_ import E\n",
    "from proveit.logic import Booleans\n",
    "from proveit.number import Exp, one"
   ]
  },
  {
   "cell_type": "code",
   "execution_count": 2,
   "metadata": {},
   "outputs": [
    {
     "data": {
      "text/html": [
       "<strong id=\"expr\">expr:</strong> <a class=\"ProveItLink\" href=\"expr.ipynb\"><img src=\"data:image/png;base64,iVBORw0KGgoAAAANSUhEUgAAAFIAAAAcBAMAAAAAUPW0AAAAMFBMVEX///+qqqp2dnYiIiJERESI\n",
       "iIhmZmYQEBDc3NyYmJgyMjLu7u5UVFTMzMy6uroAAACGxKilAAAAAXRSTlMAQObYZgAAAc1JREFU\n",
       "OMuVkz1IAzEYht/W/ty1vdbBxa0IOtTBDiI6iCdOokNBxUWluOqgu0gHJ3GoIo5ykyIK7SKCSwVd\n",
       "lAMLroJCEcTBVhQVteqXXO6Ho+AZSN6P5MmX5E0C/FkUFd6KMp82w8c/UB+RST7nxAN5zYLjogcy\n",
       "mKHgnGo8Y/VvNyTRC0gLMJIHL790vaCFyiaReinsdjcLcgoIZUn32UhCo14VmpVMvYvutwmyVET4\n",
       "VuwCVdZmseEgMRMRZFMeNyRhfqguWjeawZGTbI0VDTKkYpLkgQ8UmG05BJqdOVcgpV5pMbmGC+qa\n",
       "5QMvkPMk/qxNKn0jIo5/YpRkj8cfeiHHTLGOpFYG3kz7lDp2SJZZ7K8jwmcsOFafaBGx9I0ekm8W\n",
       "R2rwQ6HZNQcZiCeNOPpkkwkVEg7dJFQr5wHJomVnp2t1m6zjjGTYtFOic8vsRFH36vF3jJF0CDtx\n",
       "VRYuldIGuTUu8pOfVZIKJTn70fXTZ3Yyul4cvfMXMrRkXoNfQ4LShHOOR2bc5r3r6UUyiNFG5KSj\n",
       "r523eRdZykFJm69OGKc1JDepDlJds7tifCdB98Pvp7rK3LJ/x3TDvyQzQ3xJD59+hbfrHsg5/KP8\n",
       "AqB6dkaGzq8nAAAAAElFTkSuQmCC\n",
       "\" style=\"display:inline;vertical-align:middle;\" /></a><br>"
      ],
      "text/plain": [
       "expr: ((E) , BOOLEANS^{1})"
      ]
     },
     "execution_count": 2,
     "metadata": {},
     "output_type": "execute_result"
    }
   ],
   "source": [
    "# build up the expression from sub-expressions\n",
    "expr = ExprTuple([E], Exp(Booleans, one))"
   ]
  },
  {
   "cell_type": "code",
   "execution_count": 3,
   "metadata": {},
   "outputs": [
    {
     "name": "stdout",
     "output_type": "stream",
     "text": [
      "Passed sanity check: built 'expr' is the same as the stored Expression.\n"
     ]
    }
   ],
   "source": [
    "# check that the built expression is the same as the stored expression\n",
    "%check_expr"
   ]
  },
  {
   "cell_type": "code",
   "execution_count": 4,
   "metadata": {},
   "outputs": [
    {
     "data": {
      "text/html": [
       "<table><tr><th>&nbsp;</th><th>core type</th><th>sub-expressions</th><th>expression</th></tr>\n",
       "<tr><td>0</td><td>ExprTuple</td><td>1, 2</td><td><a class=\"ProveItLink\" href=\"expr.ipynb\"><img src=\"data:image/png;base64,iVBORw0KGgoAAAANSUhEUgAAAFIAAAAcBAMAAAAAUPW0AAAAMFBMVEX///+qqqp2dnYiIiJERESI\n",
       "iIhmZmYQEBDc3NyYmJgyMjLu7u5UVFTMzMy6uroAAACGxKilAAAAAXRSTlMAQObYZgAAAc1JREFU\n",
       "OMuVkz1IAzEYht/W/ty1vdbBxa0IOtTBDiI6iCdOokNBxUWluOqgu0gHJ3GoIo5ykyIK7SKCSwVd\n",
       "lAMLroJCEcTBVhQVteqXXO6Ho+AZSN6P5MmX5E0C/FkUFd6KMp82w8c/UB+RST7nxAN5zYLjogcy\n",
       "mKHgnGo8Y/VvNyTRC0gLMJIHL790vaCFyiaReinsdjcLcgoIZUn32UhCo14VmpVMvYvutwmyVET4\n",
       "VuwCVdZmseEgMRMRZFMeNyRhfqguWjeawZGTbI0VDTKkYpLkgQ8UmG05BJqdOVcgpV5pMbmGC+qa\n",
       "5QMvkPMk/qxNKn0jIo5/YpRkj8cfeiHHTLGOpFYG3kz7lDp2SJZZ7K8jwmcsOFafaBGx9I0ekm8W\n",
       "R2rwQ6HZNQcZiCeNOPpkkwkVEg7dJFQr5wHJomVnp2t1m6zjjGTYtFOic8vsRFH36vF3jJF0CDtx\n",
       "VRYuldIGuTUu8pOfVZIKJTn70fXTZ3Yyul4cvfMXMrRkXoNfQ4LShHOOR2bc5r3r6UUyiNFG5KSj\n",
       "r523eRdZykFJm69OGKc1JDepDlJds7tifCdB98Pvp7rK3LJ/x3TDvyQzQ3xJD59+hbfrHsg5/KP8\n",
       "AqB6dkaGzq8nAAAAAElFTkSuQmCC\n",
       "\" style=\"display:inline;vertical-align:middle;\" /></a></td></tr>\n",
       "<tr><td>1</td><td>ExprTuple</td><td>3</td><td><a class=\"ProveItLink\" href=\"../f70bc2870fc4201f2aae61790877935b77b67fac0/expr.ipynb\"><img src=\"data:image/png;base64,iVBORw0KGgoAAAANSUhEUgAAAB0AAAAVBAMAAABI7vhRAAAAMFBMVEX////c3NwiIiJERESqqqqY\n",
       "mJh2dnZmZmYQEBDu7u4yMjJUVFTMzMyIiIi6uroAAAAs73DqAAAAAXRSTlMAQObYZgAAANFJREFU\n",
       "GNNdkDsPAVEQhT/BWm+dQuMHSGjUJH4DpehUQqVWqEUpEck2ClHobaPX6ClEqUF03jM2i5hk5sy5\n",
       "d+6cmQv/Flt90qqGpfj6advzC4GF5BM9vIiXwIKolsfuEgJQAbMvqXGTMIIB7LU8dMTAA94ibeXx\n",
       "HGVFo8VY8TCdnxR9Fj3F5kJbS98OD8UZ1BDxyNHhZ0gEV2/edeWN/rs+78onxf0WdUeeSMbR28Gw\n",
       "cLXtbFovtpiJn91lXn/thzfcfR0L6lCpLw/rW8/3vzbwAlpvMwWHYVvMAAAAAElFTkSuQmCC\n",
       "\" style=\"display:inline;vertical-align:middle;\" /></a></td></tr>\n",
       "<tr><td>2</td><td>Operation</td><td>operator:&nbsp;4<br>operands:&nbsp;5<br></td><td><a class=\"ProveItLink\" href=\"../7a57ed6b4bdb39b022534e6abb16d475e24a17eb0/expr.ipynb\"><img src=\"data:image/png;base64,iVBORw0KGgoAAAANSUhEUgAAABUAAAAUBAMAAACQZWsAAAAAMFBMVEX///9mZmbMzMzc3NxUVFSY\n",
       "mJju7u6IiIi6urqqqqoiIiIQEBBEREQyMjJ2dnYAAAAQvcRZAAAAAXRSTlMAQObYZgAAAGJJREFU\n",
       "CNdjYIACpgMMcKbIAjibgZNI9ts/92+vmQAVP9DOdu0dnM1QwYtgT2VJQIjbMDC//VgAYjMtPQY1\n",
       "7EDX+t8FMHY7Q/kcBJuH4wGCzXAAOxtJTWANhAl026ktE8BMALQvLwEPcrvFAAAAAElFTkSuQmCC\n",
       "\" style=\"display:inline;vertical-align:middle;\" /></a></td></tr>\n",
       "<tr><td>3</td><td>Variable</td><td></td><td><a class=\"ProveItLink\" href=\"../../../../../__pv_it/9995c55100c62d7d8a012a35bafc852acbe03cf00/expr.ipynb\"><img src=\"data:image/png;base64,iVBORw0KGgoAAAANSUhEUgAAABAAAAAOBAMAAADUAYG5AAAALVBMVEX///8iIiKYmJjc3Nzu7u7M\n",
       "zMx2dnZmZma6urpERESqqqoyMjJUVFSIiIgAAACbLqVTAAAAAXRSTlMAQObYZgAAAGVJREFUCNdj\n",
       "YGC48+7MmdOvGYAARKwEYo63QIIdiNmeAglfIOZ+wMDGwAxk8E1gUAIpZejbc/oxmJEXwLABzNjH\n",
       "wJDAEABkvGRgMGC5ADWGzQFqjDnEGAZWUQYGn3lvzpyRE2AAAIznGVQJqiN4AAAAAElFTkSuQmCC\n",
       "\" style=\"display:inline;vertical-align:middle;\" /></a></td></tr>\n",
       "<tr><td>4</td><td>Literal</td><td></td><td><a class=\"ProveItLink\" href=\"../../../../../number/exponentiation/__pv_it/deb2bf23cbccdd6e6791e1b35b5b9794ce12dbd50/expr.ipynb\"><img src=\"data:image/png;base64,iVBORw0KGgoAAAANSUhEUgAAACgAAAASBAMAAADbMYGVAAAAMFBMVEX///8QEBAiIiKYmJjc3Nzu\n",
       "7u7MzMx2dnZmZma6urpERESqqqoyMjJUVFSIiIgAAAAoDOMTAAAAAXRSTlMAQObYZgAAAOBJREFU\n",
       "GNNjYGB4+//u3Tt/GNAASGAXmhjnPyDBgSbI/g1IxKEJ8nxgYGdgQRPkX8BgDKRY6q7s62OYvmze\n",
       "2wAgb/7ZO1+AVDiDkYEQQ0HTBr4DQF59AgOIKmB4z7CNbcNZBu6vQN55kEACQwDDLQYGVobfDHwg\n",
       "fb8YGBxYHwAZciD3fWXg+gB1JjvQcJZvQIXsCgz8F6DO9GBgMOH7wPCUgaeBwd4B7EwGNjUG7s9c\n",
       "AiwPgO5jkWRgiF3/9+5dfQUG1nWl5Y+B7pv+1gE9bBhqGLCAE1jEWH9jEbT5A3IwAC4sP/1L6Qlu\n",
       "AAAAAElFTkSuQmCC\n",
       "\" style=\"display:inline;vertical-align:middle;\" /></a></td></tr>\n",
       "<tr><td>5</td><td>ExprTuple</td><td>6, 7</td><td><a class=\"ProveItLink\" href=\"../f2d1eb76084697ebe27855f25ec8c46cd9f355d00/expr.ipynb\"><img src=\"data:image/png;base64,iVBORw0KGgoAAAANSUhEUgAAAC0AAAAVBAMAAAAgHXppAAAAMFBMVEX////c3NwiIiJERESqqqqY\n",
       "mJh2dnZmZmYQEBDu7u4yMjJUVFTMzMyIiIi6uroAAAAs73DqAAAAAXRSTlMAQObYZgAAAOdJREFU\n",
       "GNNjYMAF+C5gCMWBiNMMWZ/Xr1B2gAlaMjCwHwDSKxkYDN5yrkyDCk/+CSQWMDDwXgCJM9zjggjP\n",
       "3g0SD2Ng4JgAFnflngCR4AWJz2BgeMUAUS/MgCTO7MBQBhbnUbVEFmcrYFgKEn+k/+MCsjjLAoY+\n",
       "iDl3nZHF+RoY/kHEmfkSkMR5PsDFGQxQxVuwiQPNMUWYMwEuzrqAIR0iHn6ZgfMTsjsfMYDCzajb\n",
       "gYGzXwAYZBW/ShkYuB4wcAggQhzOBIYDawJcnBXOyoWEM7o4JzCcGaTh4vCI4wYZyIgZj3cYGAAH\n",
       "aUjXgRHQWQAAAABJRU5ErkJggg==\n",
       "\" style=\"display:inline;vertical-align:middle;\" /></a></td></tr>\n",
       "<tr><td>6</td><td>Literal</td><td></td><td><a class=\"ProveItLink\" href=\"../../../__pv_it/46271c8230be96415d662709611f4ed2279d702b0/expr.ipynb\"><img src=\"data:image/png;base64,iVBORw0KGgoAAAANSUhEUgAAAA0AAAAOBAMAAAAGUYvhAAAAMFBMVEX///9mZmbMzMzc3NxUVFSY\n",
       "mJju7u6IiIi6urqqqqoiIiIQEBBEREQyMjJ2dnYAAAAQvcRZAAAAAXRSTlMAQObYZgAAAElJREFU\n",
       "CNdjePvn/u01ExgYGA60s117B6YZKngh9FSWBAjfBsxnWnoMRHet/10AkS+fA6F5OB5AaIYDqDRU\n",
       "PLCGgQFoz6ktExgAgLIl8DFvGtkAAAAASUVORK5CYII=\n",
       "\" style=\"display:inline;vertical-align:middle;\" /></a></td></tr>\n",
       "<tr><td>7</td><td>Literal</td><td></td><td><a class=\"ProveItLink\" href=\"../../../../../number/numeral/__pv_it/9be8badea4c35b9724062cecc501d17a3158d1d20/expr.ipynb\"><img src=\"data:image/png;base64,iVBORw0KGgoAAAANSUhEUgAAAAgAAAAPBAMAAAArJJMAAAAAHlBMVEX///+YmJgyMjIQEBBmZmaI\n",
       "iIhUVFTu7u5EREQAAAAw+MI4AAAAAXRSTlMAQObYZgAAACFJREFUCNdjYGBoZ2BgqJjOwFCWBiQY\n",
       "WEklWJwnOTKAAACjEQo8HvEr3AAAAABJRU5ErkJggg==\n",
       "\" style=\"display:inline;vertical-align:middle;\" /></a></td></tr>\n",
       "</table>\n"
      ],
      "text/plain": [
       "0. ((E) , BOOLEANS^{1})\n",
       "   core type: ExprTuple\n",
       "   sub-expressions: 1, 2\n",
       "1. (E)\n",
       "   core type: ExprTuple\n",
       "   sub-expressions: 3\n",
       "2. BOOLEANS^{1}\n",
       "   core type: Operation\n",
       "   operator: 4\n",
       "   operands: 5\n",
       "3. E\n",
       "   core type: Variable\n",
       "   sub-expressions: \n",
       "4. Exp\n",
       "   core type: Literal\n",
       "   sub-expressions: \n",
       "5. (BOOLEANS , 1)\n",
       "   core type: ExprTuple\n",
       "   sub-expressions: 6, 7\n",
       "6. BOOLEANS\n",
       "   core type: Literal\n",
       "   sub-expressions: \n",
       "7. 1\n",
       "   core type: Literal\n",
       "   sub-expressions: "
      ]
     },
     "execution_count": 4,
     "metadata": {},
     "output_type": "execute_result"
    }
   ],
   "source": [
    "# display the expression information\n",
    "expr.exprInfo()"
   ]
  },
  {
   "cell_type": "code",
   "execution_count": null,
   "metadata": {},
   "outputs": [],
   "source": []
  }
 ],
 "metadata": {
  "kernelspec": {
   "display_name": "Python 3",
   "language": "python",
   "name": "python3"
  }
 },
 "nbformat": 4,
 "nbformat_minor": 0
}
