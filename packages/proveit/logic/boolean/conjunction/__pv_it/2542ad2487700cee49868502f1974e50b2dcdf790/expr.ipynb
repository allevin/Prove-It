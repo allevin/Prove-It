{
 "cells": [
  {
   "cell_type": "markdown",
   "metadata": {},
   "source": [
    "Expression of type <a class=\"ProveItLink\" href=\"../../../../../../../doc/html/api/proveit.ExprTuple.html\">ExprTuple</a>\n",
    "=======================\n",
    "# from context <a class=\"ProveItLink\" href=\"../../_context_.ipynb\">proveit.logic.boolean.conjunction</a>"
   ]
  },
  {
   "cell_type": "code",
   "execution_count": 1,
   "metadata": {},
   "outputs": [],
   "source": [
    "# import Expression classes needed to build the expression\n",
    "from proveit import ExprTuple\n",
    "from proveit._common_ import CC, m\n",
    "from proveit.logic import Booleans, InSet\n",
    "from proveit.number import Exp"
   ]
  },
  {
   "cell_type": "code",
   "execution_count": 2,
   "metadata": {},
   "outputs": [
    {
     "data": {
      "text/html": [
       "<strong id=\"expr\">expr:</strong> <a class=\"ProveItLink\" href=\"expr.ipynb\"><img src=\"data:image/png;base64,iVBORw0KGgoAAAANSUhEUgAAAFUAAAAVBAMAAADFg78FAAAAMFBMVEX////c3NwiIiJERESqqqqY\n",
       "mJh2dnZmZmYQEBDu7u4yMjJUVFTMzMyIiIi6uroAAAAs73DqAAAAAXRSTlMAQObYZgAAAZtJREFU\n",
       "KM9jYCAAWGvfZvNePgDh8F0AEUX/uwWisamd+j6AaQPrBoY4EOc0SKn+UoGpzX9RFGV9Xr9C2YFB\n",
       "8hYD/wG2AgZ2kNErgTj/C5B4/wfVRIO3nCvTGBj2Mpxg4HJgYFjAwMALdALb/wdAOa4P6GoZ7nEx\n",
       "MPQwXGaQ52NgCGNg4JjAwOD/HSTHbgBWMneRkhZMrSv3BMYPQJOD2RgYZjAwvAKK9n8EyfE6gEie\n",
       "pROQzBVm4DNg0GE4nMjAwOzAUMbAwPLfAGGz8ASEG3hULRESQP8tZWDg/h+AEDJEuPeR/o8LCAmW\n",
       "BQx9QE/9PwAX4TRA9ttdZ4RavgaGfwwMTP/B9j4EizQpKSH8xsyXAFfL8wGklus/mNMIFtmAbC4z\n",
       "gwGy2hZgAIDdwAZWxamASy3QDaZA+X6QyC2I0FYUtUhuYF3AkA6khH55MgYVQIQmPUBSG34ZJcwe\n",
       "gejg/k+FUCHG5Qfgaceo2wGhlusBA4cAWiJk2QUNBzQAjGPWBAbiQC40TRIBOIFpkkGaOLXcILcy\n",
       "XiBK7R0GBgD8IG+ILuboqgAAAABJRU5ErkJggg==\n",
       "\" style=\"display:inline;vertical-align:middle;\" /></a><br>"
      ],
      "text/plain": [
       "expr: (C in BOOLEANS^{m})"
      ]
     },
     "execution_count": 2,
     "metadata": {},
     "output_type": "execute_result"
    }
   ],
   "source": [
    "# build up the expression from sub-expressions\n",
    "expr = ExprTuple(InSet(CC, Exp(Booleans, m)))"
   ]
  },
  {
   "cell_type": "code",
   "execution_count": 3,
   "metadata": {},
   "outputs": [
    {
     "name": "stdout",
     "output_type": "stream",
     "text": [
      "Passed sanity check: built 'expr' is the same as the stored Expression.\n"
     ]
    }
   ],
   "source": [
    "# check that the built expression is the same as the stored expression\n",
    "%check_expr"
   ]
  },
  {
   "cell_type": "code",
   "execution_count": 4,
   "metadata": {},
   "outputs": [
    {
     "data": {
      "text/html": [
       "<table><tr><th>&nbsp;</th><th>core type</th><th>sub-expressions</th><th>expression</th></tr>\n",
       "<tr><td>0</td><td>ExprTuple</td><td>1</td><td><a class=\"ProveItLink\" href=\"expr.ipynb\"><img src=\"data:image/png;base64,iVBORw0KGgoAAAANSUhEUgAAAFUAAAAVBAMAAADFg78FAAAAMFBMVEX////c3NwiIiJERESqqqqY\n",
       "mJh2dnZmZmYQEBDu7u4yMjJUVFTMzMyIiIi6uroAAAAs73DqAAAAAXRSTlMAQObYZgAAAZtJREFU\n",
       "KM9jYCAAWGvfZvNePgDh8F0AEUX/uwWisamd+j6AaQPrBoY4EOc0SKn+UoGpzX9RFGV9Xr9C2YFB\n",
       "8hYD/wG2AgZ2kNErgTj/C5B4/wfVRIO3nCvTGBj2Mpxg4HJgYFjAwMALdALb/wdAOa4P6GoZ7nEx\n",
       "MPQwXGaQ52NgCGNg4JjAwOD/HSTHbgBWMneRkhZMrSv3BMYPQJOD2RgYZjAwvAKK9n8EyfE6gEie\n",
       "pROQzBVm4DNg0GE4nMjAwOzAUMbAwPLfAGGz8ASEG3hULRESQP8tZWDg/h+AEDJEuPeR/o8LCAmW\n",
       "BQx9QE/9PwAX4TRA9ttdZ4RavgaGfwwMTP/B9j4EizQpKSH8xsyXAFfL8wGklus/mNMIFtmAbC4z\n",
       "gwGy2hZgAIDdwAZWxamASy3QDaZA+X6QyC2I0FYUtUhuYF3AkA6khH55MgYVQIQmPUBSG34ZJcwe\n",
       "gejg/k+FUCHG5Qfgaceo2wGhlusBA4cAWiJk2QUNBzQAjGPWBAbiQC40TRIBOIFpkkGaOLXcILcy\n",
       "XiBK7R0GBgD8IG+ILuboqgAAAABJRU5ErkJggg==\n",
       "\" style=\"display:inline;vertical-align:middle;\" /></a></td></tr>\n",
       "<tr><td>1</td><td>Operation</td><td>operator:&nbsp;2<br>operands:&nbsp;3<br></td><td><a class=\"ProveItLink\" href=\"../edecfd19c7f9b9ad1f3e9154aca87ce26335f3bb0/expr.ipynb\"><img src=\"data:image/png;base64,iVBORw0KGgoAAAANSUhEUgAAAEcAAAARBAMAAAB9SazGAAAAMFBMVEX////MzMyqqqp2dnaIiIhE\n",
       "RETu7u4yMjKYmJjc3NxUVFQQEBAiIiJmZma6uroAAACABxMuAAAAAXRSTlMAQObYZgAAASJJREFU\n",
       "KM9jYMAHev2cF7gEgplvz/9eybEAixq2vh8Mpxi6QMw33zvZuuMdkGWZ68O/7wli4EwpYPjIYAsS\n",
       "+K/AwMD3XwDFDFY+h/RkAwYuB8YNDEVAvv0/kGg9A7oilgcFDNwCLAGcHx4wMP2/ABK9CnGE+5kz\n",
       "BVBFTA3LGOYDzeIIMGDg/j8BJOoEViTehmTSywCGpww8AozBExj0vyIs4QxDsk6mNQEusf4Hkksm\n",
       "IBSd+b8FIVH/EcFORXG4UwCce/4biOQDm/H6zBmEwxkCHiNM+gAiucGKpJBNYghghXP9wdZZgdk5\n",
       "uBRlg3zHAraDgasBRRHCOs7zRQkzzkIj9BySIo4rCIczcET/Pwvz+vSL8Aj+enoRrgSkVQPxHSoA\n",
       "ANkeVPW5fhKaAAAAAElFTkSuQmCC\n",
       "\" style=\"display:inline;vertical-align:middle;\" /></a></td></tr>\n",
       "<tr><td>2</td><td>Literal</td><td></td><td><a class=\"ProveItLink\" href=\"../../../../set_theory/membership/__pv_it/088cbc857536a28d4119ad9639a84270ccb0545d0/expr.ipynb\"><img src=\"data:image/png;base64,iVBORw0KGgoAAAANSUhEUgAAAAwAAAAMBAMAAACkW0HUAAAALVBMVEX///+qqqpmZmZUVFQQEBC6\n",
       "urpERETc3NyYmJjMzMwiIiIyMjKIiIju7u4AAACYsrA9AAAAAXRSTlMAQObYZgAAADxJREFUCNdj\n",
       "YOA9vWrVBgaG2b0MQMCeCyIZ2ArA1DUwyRCyahVIyWQI7xaEYm4AU7xLIdxqTQgtvGvVBgCkcQ7e\n",
       "geM/tQAAAABJRU5ErkJggg==\n",
       "\" style=\"display:inline;vertical-align:middle;\" /></a></td></tr>\n",
       "<tr><td>3</td><td>ExprTuple</td><td>4, 5</td><td><a class=\"ProveItLink\" href=\"../0085452d3c00f0b7b925141dccecae8f0b03c48a0/expr.ipynb\"><img src=\"data:image/png;base64,iVBORw0KGgoAAAANSUhEUgAAAEUAAAAVBAMAAADiLT7tAAAAMFBMVEX////c3NwiIiJERESqqqqY\n",
       "mJh2dnZmZmYQEBDu7u4yMjJUVFTMzMyIiIi6uroAAAAs73DqAAAAAXRSTlMAQObYZgAAAXdJREFU\n",
       "KM99ks9LAkEUx7/+2FVX3ZY6RYcO0S1wCTp0W4gOnZKEOgRhl4Iisg7dgqJuRu5F6LgXIU/5DwRC\n",
       "l6DLgjepMI+BaBYUUU1vVnNHNAdmhu97H75vHvOAf5Z0WNuOlootodr82GdpbVVksvW4tyAVsMbF\n",
       "HUdiOS178u0kt16vLicMjJYxVJRTCHCrPO3dNzrqXy0HvRbKbwDXuIViABYQpVIyq1BOafwxeFSA\n",
       "M5QwrgLLQNAEFt95LqB3mPmw6WmQU0IGLoBnimZeeC5quD4jUHVM4WYd8Bk4APxMFzvSa5HJWVfS\n",
       "u3NAmMW7mGrsw3al38I5PZYVu33wMOdK9Qg/gJeZXDy5jE9NdphIgzMKc8SxwEAXmVNqyKklF/oz\n",
       "VGsGCGV4pEzb7FNLsrBJ1/DngmcpRXCzzayUunqv8juRae6BG2rOn06nDZdRKghqQtuq1jtI9BdS\n",
       "UhysPsO2056NAUyIZgNjQsDuZcK8vMfGoHUP/AK97Gg8hNPFYgAAAABJRU5ErkJggg==\n",
       "\" style=\"display:inline;vertical-align:middle;\" /></a></td></tr>\n",
       "<tr><td>4</td><td>Variable</td><td></td><td><a class=\"ProveItLink\" href=\"../../../../../__pv_it/9242e69d4f2c65d04fc0527b82418c7c22c6da370/expr.ipynb\"><img src=\"data:image/png;base64,iVBORw0KGgoAAAANSUhEUgAAABEAAAAPBAMAAADwnzkiAAAAMFBMVEX////MzMyqqqp2dnaIiIhE\n",
       "RETu7u4yMjKYmJjc3NxUVFQQEBAiIiJmZma6uroAAACABxMuAAAAAXRSTlMAQObYZgAAAHRJREFU\n",
       "CNdjYGBgeHv+90qOBUDGm++dbN3xDgwMzP8VGBj4/gswMNj/A4oz1DMwMP2/AGJdZWDg/j8BxHJi\n",
       "YND/ygAF63/AWPUfYazz30AkH1Bx/QcQixvI8gfLWgFxNkgvSwGQ4DxflDDjLFgLR/T/syDDAbB9\n",
       "IeZrCwgeAAAAAElFTkSuQmCC\n",
       "\" style=\"display:inline;vertical-align:middle;\" /></a></td></tr>\n",
       "<tr><td>5</td><td>Operation</td><td>operator:&nbsp;6<br>operands:&nbsp;7<br></td><td><a class=\"ProveItLink\" href=\"../cd3230f1b749f120370579d7f644203995edd40c0/expr.ipynb\"><img src=\"data:image/png;base64,iVBORw0KGgoAAAANSUhEUgAAABwAAAAQBAMAAAD34QLcAAAAMFBMVEX///9mZmbMzMzc3NxUVFSY\n",
       "mJju7u6IiIi6urqqqqoiIiIQEBBEREQyMjJ2dnYAAAAQvcRZAAAAAXRSTlMAQObYZgAAAIlJREFU\n",
       "CNdjYIAAVvH2J+w1ClAeQ2p/AJcDqwPD2z/3b6+ZwGBWy8CvwCfAwHCgne3aOwYGdwZtBt4JIC5D\n",
       "BS8DwyaGGgZ7DjB3KksC8wegfAwfRNaGgeMAwyIGnccgLtPSYwxwcKBr/e8CJG47Q/kcFC4PxwMU\n",
       "LsMBfFxUxYE1cB7QC6e2TIDxALqTMY6Wq7oJAAAAAElFTkSuQmCC\n",
       "\" style=\"display:inline;vertical-align:middle;\" /></a></td></tr>\n",
       "<tr><td>6</td><td>Literal</td><td></td><td><a class=\"ProveItLink\" href=\"../../../../../number/exponentiation/__pv_it/deb2bf23cbccdd6e6791e1b35b5b9794ce12dbd50/expr.ipynb\"><img src=\"data:image/png;base64,iVBORw0KGgoAAAANSUhEUgAAACgAAAASBAMAAADbMYGVAAAAMFBMVEX///8QEBAiIiKYmJjc3Nzu\n",
       "7u7MzMx2dnZmZma6urpERESqqqoyMjJUVFSIiIgAAAAoDOMTAAAAAXRSTlMAQObYZgAAAOBJREFU\n",
       "GNNjYGB4+//u3Tt/GNAASGAXmhjnPyDBgSbI/g1IxKEJ8nxgYGdgQRPkX8BgDKRY6q7s62OYvmze\n",
       "2wAgb/7ZO1+AVDiDkYEQQ0HTBr4DQF59AgOIKmB4z7CNbcNZBu6vQN55kEACQwDDLQYGVobfDHwg\n",
       "fb8YGBxYHwAZciD3fWXg+gB1JjvQcJZvQIXsCgz8F6DO9GBgMOH7wPCUgaeBwd4B7EwGNjUG7s9c\n",
       "AiwPgO5jkWRgiF3/9+5dfQUG1nWl5Y+B7pv+1gE9bBhqGLCAE1jEWH9jEbT5A3IwAC4sP/1L6Qlu\n",
       "AAAAAElFTkSuQmCC\n",
       "\" style=\"display:inline;vertical-align:middle;\" /></a></td></tr>\n",
       "<tr><td>7</td><td>ExprTuple</td><td>8, 9</td><td><a class=\"ProveItLink\" href=\"../f66d5f376ae70e536c4a857ce811f1be891bac1e0/expr.ipynb\"><img src=\"data:image/png;base64,iVBORw0KGgoAAAANSUhEUgAAADUAAAAVBAMAAAAUZLt1AAAAMFBMVEX////c3NwiIiJERESqqqqY\n",
       "mJh2dnZmZmYQEBDu7u4yMjJUVFTMzMyIiIi6uroAAAAs73DqAAAAAXRSTlMAQObYZgAAASZJREFU\n",
       "KM9jYMAH+C5gFY4DEacZsj6vX6HsgCbHfgBIrGRgMHjLuTINXeMCBgbeCyA5hntc6HJhDAwcE8By\n",
       "rtwT0ORmMDC8YoDoE0bXx+zAUAaW41G1hIi8NZS9nfD2MtBlbAUMS0Fyj/R/QH2SsOsC57cHLB8Y\n",
       "GFgWMPRBzLzrDPHsA2UGzr8MIDm+BoZ/EDlmvgSQHCfnPwaWnwzsQA/wfIDLMRiANYIkFBg4EsBy\n",
       "LahyQB1MBQzvBSaAzDRFmAnyIVDH/AcMuxgDGFgXMKRD5MIvM3B+AjLlHzDEMzCsZQP74REDKKyN\n",
       "uh0YOPsFGBheMDAkMzB432Fg4HrAwCGAiC0BtDBjTYDzWFHCLBcSR9jkOIFeZJCGc1ESADfIAkbs\n",
       "aQLoGgA9SFM0vLRvOAAAAABJRU5ErkJggg==\n",
       "\" style=\"display:inline;vertical-align:middle;\" /></a></td></tr>\n",
       "<tr><td>8</td><td>Literal</td><td></td><td><a class=\"ProveItLink\" href=\"../../../__pv_it/46271c8230be96415d662709611f4ed2279d702b0/expr.ipynb\"><img src=\"data:image/png;base64,iVBORw0KGgoAAAANSUhEUgAAAA0AAAAOBAMAAAAGUYvhAAAAMFBMVEX///9mZmbMzMzc3NxUVFSY\n",
       "mJju7u6IiIi6urqqqqoiIiIQEBBEREQyMjJ2dnYAAAAQvcRZAAAAAXRSTlMAQObYZgAAAElJREFU\n",
       "CNdjePvn/u01ExgYGA60s117B6YZKngh9FSWBAjfBsxnWnoMRHet/10AkS+fA6F5OB5AaIYDqDRU\n",
       "PLCGgQFoz6ktExgAgLIl8DFvGtkAAAAASUVORK5CYII=\n",
       "\" style=\"display:inline;vertical-align:middle;\" /></a></td></tr>\n",
       "<tr><td>9</td><td>Variable</td><td></td><td><a class=\"ProveItLink\" href=\"../../../../../__pv_it/78af03acba5349fd70398a32ce59bae1da52f0870/expr.ipynb\"><img src=\"data:image/png;base64,iVBORw0KGgoAAAANSUhEUgAAABIAAAAJBAMAAADN8WE8AAAAMFBMVEX////MzMyYmJgQEBBmZmYi\n",
       "IiLu7u4yMjKqqqp2dnZUVFTc3NxERESIiIi6uroAAABe5jFNAAAAAXRSTlMAQObYZgAAAFtJREFU\n",
       "CNdj4Luz++5KvrsnGBg4uWoZ8ucx9DMwvGM9wJB/AcRKyH/A0J/A4M7AAKJcGRgsgSwgL4SB7zcb\n",
       "iMf2j4GrYBMD9z8Gpg8M7BcmMPAZMHAeYOBYKwAAtXMYHwtZnY0AAAAASUVORK5CYII=\n",
       "\" style=\"display:inline;vertical-align:middle;\" /></a></td></tr>\n",
       "</table>\n"
      ],
      "text/plain": [
       "0. (C in BOOLEANS^{m})\n",
       "   core type: ExprTuple\n",
       "   sub-expressions: 1\n",
       "1. C in BOOLEANS^{m}\n",
       "   core type: Operation\n",
       "   operator: 2\n",
       "   operands: 3\n",
       "2. in\n",
       "   core type: Literal\n",
       "   sub-expressions: \n",
       "3. (C , BOOLEANS^{m})\n",
       "   core type: ExprTuple\n",
       "   sub-expressions: 4, 5\n",
       "4. C\n",
       "   core type: Variable\n",
       "   sub-expressions: \n",
       "5. BOOLEANS^{m}\n",
       "   core type: Operation\n",
       "   operator: 6\n",
       "   operands: 7\n",
       "6. Exp\n",
       "   core type: Literal\n",
       "   sub-expressions: \n",
       "7. (BOOLEANS , m)\n",
       "   core type: ExprTuple\n",
       "   sub-expressions: 8, 9\n",
       "8. BOOLEANS\n",
       "   core type: Literal\n",
       "   sub-expressions: \n",
       "9. m\n",
       "   core type: Variable\n",
       "   sub-expressions: "
      ]
     },
     "execution_count": 4,
     "metadata": {},
     "output_type": "execute_result"
    }
   ],
   "source": [
    "# display the expression information\n",
    "expr.exprInfo()"
   ]
  },
  {
   "cell_type": "code",
   "execution_count": null,
   "metadata": {},
   "outputs": [],
   "source": []
  }
 ],
 "metadata": {
  "kernelspec": {
   "display_name": "Python 3",
   "language": "python",
   "name": "python3"
  }
 },
 "nbformat": 4,
 "nbformat_minor": 0
}
