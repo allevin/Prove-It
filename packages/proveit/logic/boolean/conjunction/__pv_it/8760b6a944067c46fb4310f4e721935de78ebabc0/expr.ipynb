{
 "cells": [
  {
   "cell_type": "markdown",
   "metadata": {},
   "source": [
    "Expression of type <a class=\"ProveItLink\" href=\"../../../../../../../doc/html/api/proveit.logic.Equals.html\">Equals</a>\n",
    "=======================\n",
    "# from context <a class=\"ProveItLink\" href=\"../../_context_.ipynb\">proveit.logic.boolean.conjunction</a>"
   ]
  },
  {
   "cell_type": "code",
   "execution_count": 1,
   "metadata": {},
   "outputs": [],
   "source": [
    "# import Expression classes needed to build the expression\n",
    "from proveit._common_ import m\n",
    "from proveit.logic import Equals\n",
    "from proveit.number import Add, Neg, one, zero"
   ]
  },
  {
   "cell_type": "code",
   "execution_count": 2,
   "metadata": {},
   "outputs": [
    {
     "data": {
      "text/html": [
       "<strong id=\"expr\">expr:</strong> <a class=\"ProveItLink\" href=\"expr.ipynb\"><img src=\"data:image/png;base64,iVBORw0KGgoAAAANSUhEUgAAAT8AAAAVBAMAAADCyPR8AAAAMFBMVEX////c3NwiIiJERESqqqqY\n",
       "mJh2dnZmZmYQEBDu7u4yMjJUVFTMzMyIiIi6uroAAAAs73DqAAAAAXRSTlMAQObYZgAAApJJREFU\n",
       "SMfNlj1oU1EUx/9pX77z0ji4WMRQBJ1KhnZw6yyUdnJwkGydIkWwSHGoUAo6lFSHFh0SCh0aUeLi\n",
       "okL3Dj5wNfDoJIVKBRUUDN6vPHLvPS+5JosHTh7vd9/533/ex70H+O+jGMRRekTFnViaDG1+hpHl\n",
       "cAzsdh6aQ8cq6bgBpI9iqSWGQnsMuUNgFk/N8UOVZDz7xX6asTRnFeTqo8v5AfwyfDW+o0YZFUnG\n",
       "i3e89lbvdMekyapZ0YGzXLZk0EwdE20Uv0m8qC5jVCQdPq/d650tmjS7YRY8hrOcFxj0FJhaReG7\n",
       "PtmpygGKkwuUQUHnzC+u6S6nG2R0DbhSReGPPtmazOKnC523xc4cpZhapQwKumJcn666y+kGGT2Q\n",
       "Bn/qkx3ITOVfoXEXS5Si16QMCnpTuGqJ4N9vbtldTjfI6DZpcFvm14kKGgGtWNygDAr6xbg+E7rL\n",
       "6QYZ7ZKPuCuz3gixVMc6R5dmeMxGtYVzyqCgHw0HU6Ell9gXcqElpxtktCs/kh/sbL3Vut5qvewz\n",
       "yOXuAVvUX5aKfTXDDQ6VY6/F/hP5WkR0E3yZ8YxlZlMl+7PX2BqUHeERp8UtmqnwR7zgLmc94nnw\n",
       "hTpV1iebV7mFbBf55kVCMUl+JILeNm7R5LK7nG6QUb4kXMXekT7ZisxEF8lz5ILqeMtMD7rIWcvM\n",
       "CTvs1t4bk53IZHc4VYH3Qd+p0w9+32drR6jX9NHX5kJddpfrGYxoptR/cbTVlWCMWGFtdRG1t7pH\n",
       "cJbzAoPqO/uZOnJq7/la1MyaiKastoBuIUg5vWusxXZBA9st0XU0Y+nzf2y3hshNkwXTsSMq8qVY\n",
       "+sbCifYYcgmyT+M0MahH/xxLfbs5xmWMKvcXgJskl1ajBVcAAAAASUVORK5CYII=\n",
       "\" style=\"display:inline;vertical-align:middle;\" /></a><br>"
      ],
      "text/plain": [
       "expr: (0 + ((m - 1) + 1)) = ((m - 1) + 1)"
      ]
     },
     "execution_count": 2,
     "metadata": {},
     "output_type": "execute_result"
    }
   ],
   "source": [
    "# build up the expression from sub-expressions\n",
    "subExpr1 = Add(Add(m, Neg(one)), one)\n",
    "expr = Equals(Add(zero, subExpr1), subExpr1)"
   ]
  },
  {
   "cell_type": "code",
   "execution_count": 3,
   "metadata": {},
   "outputs": [
    {
     "name": "stdout",
     "output_type": "stream",
     "text": [
      "Passed sanity check: built 'expr' is the same as the stored Expression.\n"
     ]
    }
   ],
   "source": [
    "# check that the built expression is the same as the stored expression\n",
    "%check_expr"
   ]
  },
  {
   "cell_type": "code",
   "execution_count": 4,
   "metadata": {},
   "outputs": [
    {
     "data": {
      "text/html": [
       "<table><tr><th>&nbsp;</th><th>core type</th><th>sub-expressions</th><th>expression</th></tr>\n",
       "<tr><td>0</td><td>Operation</td><td>operator:&nbsp;1<br>operands:&nbsp;2<br></td><td><a class=\"ProveItLink\" href=\"expr.ipynb\"><img src=\"data:image/png;base64,iVBORw0KGgoAAAANSUhEUgAAAT8AAAAVBAMAAADCyPR8AAAAMFBMVEX////c3NwiIiJERESqqqqY\n",
       "mJh2dnZmZmYQEBDu7u4yMjJUVFTMzMyIiIi6uroAAAAs73DqAAAAAXRSTlMAQObYZgAAApJJREFU\n",
       "SMfNlj1oU1EUx/9pX77z0ji4WMRQBJ1KhnZw6yyUdnJwkGydIkWwSHGoUAo6lFSHFh0SCh0aUeLi\n",
       "okL3Dj5wNfDoJIVKBRUUDN6vPHLvPS+5JosHTh7vd9/533/ex70H+O+jGMRRekTFnViaDG1+hpHl\n",
       "cAzsdh6aQ8cq6bgBpI9iqSWGQnsMuUNgFk/N8UOVZDz7xX6asTRnFeTqo8v5AfwyfDW+o0YZFUnG\n",
       "i3e89lbvdMekyapZ0YGzXLZk0EwdE20Uv0m8qC5jVCQdPq/d650tmjS7YRY8hrOcFxj0FJhaReG7\n",
       "PtmpygGKkwuUQUHnzC+u6S6nG2R0DbhSReGPPtmazOKnC523xc4cpZhapQwKumJcn666y+kGGT2Q\n",
       "Bn/qkx3ITOVfoXEXS5Si16QMCnpTuGqJ4N9vbtldTjfI6DZpcFvm14kKGgGtWNygDAr6xbg+E7rL\n",
       "6QYZ7ZKPuCuz3gixVMc6R5dmeMxGtYVzyqCgHw0HU6Ell9gXcqElpxtktCs/kh/sbL3Vut5qvewz\n",
       "yOXuAVvUX5aKfTXDDQ6VY6/F/hP5WkR0E3yZ8YxlZlMl+7PX2BqUHeERp8UtmqnwR7zgLmc94nnw\n",
       "hTpV1iebV7mFbBf55kVCMUl+JILeNm7R5LK7nG6QUb4kXMXekT7ZisxEF8lz5ILqeMtMD7rIWcvM\n",
       "CTvs1t4bk53IZHc4VYH3Qd+p0w9+32drR6jX9NHX5kJddpfrGYxoptR/cbTVlWCMWGFtdRG1t7pH\n",
       "cJbzAoPqO/uZOnJq7/la1MyaiKastoBuIUg5vWusxXZBA9st0XU0Y+nzf2y3hshNkwXTsSMq8qVY\n",
       "+sbCifYYcgmyT+M0MahH/xxLfbs5xmWMKvcXgJskl1ajBVcAAAAASUVORK5CYII=\n",
       "\" style=\"display:inline;vertical-align:middle;\" /></a></td></tr>\n",
       "<tr><td>1</td><td>Literal</td><td></td><td><a class=\"ProveItLink\" href=\"../../../../equality/__pv_it/2fb26078095930560931daa0500ce419a39ea6cd0/expr.ipynb\"><img src=\"data:image/png;base64,iVBORw0KGgoAAAANSUhEUgAAAA4AAAAFBAMAAACHocAhAAAAFVBMVEX///9EREQiIiJUVFQyMjJm\n",
       "ZmYAAADubVkoAAAAAXRSTlMAQObYZgAAABRJREFUCNdjCHEBAWcGXCBICQQUAUpuAwlgGKrkAAAA\n",
       "AElFTkSuQmCC\n",
       "\" style=\"display:inline;vertical-align:middle;\" /></a></td></tr>\n",
       "<tr><td>2</td><td>ExprTuple</td><td>3, 6</td><td><a class=\"ProveItLink\" href=\"../f1e7aa941083bab178d8edc6d2f81d158571c42b0/expr.ipynb\"><img src=\"data:image/png;base64,iVBORw0KGgoAAAANSUhEUgAAASAAAAAVBAMAAAAUbS4ZAAAAMFBMVEX////c3NwiIiJERESqqqqY\n",
       "mJh2dnZmZmYQEBDu7u4yMjJUVFTMzMyIiIi6uroAAAAs73DqAAAAAXRSTlMAQObYZgAAAuBJREFU\n",
       "SMfNlkFoE0EUhv9Ns0mmadZ48GIpFj0oKFKhPXgy54i0Jw896KKHnpQiGKUoVCgFRdqIF9FDQqFI\n",
       "Vyr14qFFzL2HBHsQbINLT6UQjR4qFQzOzM4m2fTNhnpy4CXZ/+2f+fbNzM4A/12zKjqVzqhmul3V\n",
       "Wli317T2dYA9/FzqSK2roFtPHnjQTe1b0fovAvGSzr4ERFx2riO7pIJs7BL39nZTe/M6//N9/lHU\n",
       "2FN8XD4BX5Sa9r6FmtKNGFv7yL2mrS6fkSpQ1fG8WhNAVxHosmlP8K+zwHdPjioIoSa0T4ivPMWm\n",
       "1cUVUgUea+0pAfRCXfhd+vZd/vMXUM4EsrsqQoAwTAE1VVjFcKCeDAHE7TnA2ONAlUA254W1cbT6\n",
       "3qoOk0ATJJCvIs4Hr3ZhYNOubWQooNgkBTSBRQVkB7KLXsSSyyjcxigJlCWBss05PQbYqxW250br\n",
       "FFC0SAFlMUcCzXnxLTKEQkUDtEMC+SoSLiz3FNgf0EDWNAW0gwY5ZA0v8gUXo3lMCen4SdHOt7xl\n",
       "EshXccQFYw1E9xEXtTAWpN9tAvXVKaCy7FpMal7guOMsPHGclRaQoLkDzJIVkl1POc4Zx3lDA0ma\n",
       "QSRsqkISqK1L3z4DuexHg8t+RgWvzWlYP9i/DBmfyrw2kUn+SskfYshGIF+MN4LZERWz4FVPFo9R\n",
       "QOMkkFTFjx5ec14bPuirxhgBZJKTelwu00iGPQ1mJ7wwGjDr6K3Yh1v27Kda1idcXAeWY4dZ9tvi\n",
       "D3KbpWB22wte1tgQoh86NsJ786/5M7/tAGqpbJ5PAGtQjt9N4PJW0B6///sufy24wS59eyLdfm9z\n",
       "60ijI3NwRzuwdbRUS1gfhR97Dmwdym7a1OFIqKYd+oexCnXs8VQTbbunpt2izmPCTh8yQo8fsr0M\n",
       "Uc3w44esRVFn7yfv79dm/PYuRJUPbayE2ZNpnd0gjz1CNcKOsKlSV3UgDGhLY/8L2kAhU039pgsA\n",
       "AAAASUVORK5CYII=\n",
       "\" style=\"display:inline;vertical-align:middle;\" /></a></td></tr>\n",
       "<tr><td>3</td><td>Operation</td><td>operator:&nbsp;9<br>operands:&nbsp;4<br></td><td><a class=\"ProveItLink\" href=\"../e38b41eefbc496f17e45e90f6a01d1b7edad05e90/expr.ipynb\"><img src=\"data:image/png;base64,iVBORw0KGgoAAAANSUhEUgAAAJsAAAAVBAMAAACj9YEXAAAAMFBMVEX///9EREQQEBCYmJh2dnaq\n",
       "qqrc3NxUVFQyMjK6uroiIiLMzMyIiIhmZmbu7u4AAADSWfX9AAAAAXRSTlMAQObYZgAAAZlJREFU\n",
       "OMu1lL9LAmEcxp/yLj09TYjWaDCovaXNNTDoDwgUgmrLIWio4aChl4hwrGiQoMEgcHO95hykGqQW\n",
       "cygIRKEfJET0vr4v4Xt+T3TogUe9z/l+eI/3fQ/4/1iurG8W/Gmj/OjlJVU6U0C06EsLePXePFIl\n",
       "8/TDPxw/audhq5vP6pbtypJ52RYD59VVLOOh4SysT8lW1H9Ga7J0bDGwri5M10PHK4h86Lpj1T66\n",
       "kWVKx+lmEpFvXXcva12vlbes8iSlMyqUjlOhe9d1e7JG8BDNRaQpnelQOk4J3ZzsSTiOpkvrrGlK\n",
       "xynxsG3ZWjOHdA1VgTYuRQp/AyMtSsepWIo3/rPK2Dlj+1064XoAEtTsOrooYwezjGW7Kd8opmej\n",
       "zKjyeV3xXRQb5mH5Njbyum5CNYFYG0FnldAFyKUQ9AL1oq5bkh1rI9BCyE0Os1HQSO1A153K8qkb\n",
       "cZi7+omO3n7dAaGcrtOp55BlZPuk55BpVOZMfQeSsn2S6noz9tJhXlCdF4kzOAXWVX0TzAxO+Zq6\n",
       "sr658aO/p5mbzbQD9DUAAAAASUVORK5CYII=\n",
       "\" style=\"display:inline;vertical-align:middle;\" /></a></td></tr>\n",
       "<tr><td>4</td><td>ExprTuple</td><td>5, 6</td><td><a class=\"ProveItLink\" href=\"../305958909709dc5f936914c801a7db00d7c0c37e0/expr.ipynb\"><img src=\"data:image/png;base64,iVBORw0KGgoAAAANSUhEUgAAAIkAAAAVBAMAAACArtDCAAAAMFBMVEX////c3NwiIiJERESqqqqY\n",
       "mJh2dnZmZmYQEBDu7u4yMjJUVFTMzMyIiIi6uroAAAAs73DqAAAAAXRSTlMAQObYZgAAAaNJREFU\n",
       "OMutlL1Lw0AYh3+pSdq0TayDUweLCG7SQQc3/4NujtLNqVIERcTBQRwctOjQgkNDwaEFoZOLCt27\n",
       "BFwtlI4dpIoKCgbfyxdNvQsUvOGS35Pj4b3cB/A/zbDEaaJtiWkXqPaOfNQVKtaBeEdIm8AKLv3v\n",
       "TZHk6os6U0R1C3oOuvddF03o+p6N3/SSlpmgiQpibRivLqYkaDobX/OCbE3QITBbRvrdpUNEWmY2\n",
       "eBai+8BCEekfl1IynuZ6d0ZvlWdRyzwL0RvX8ulSSmrqFvUdFHgW2eRZiJ6HLJReYnnULb7FOOZZ\n",
       "iNqhGVGq1PsoVHBISWosstYPxqdHPAtR2/27H4GFKXaBU14tjiXeajXOWq32OD0BW2nZW2lKrIpl\n",
       "Wnptmhmtge06NQdnp1CiKjQbKXOeY1G4f5foNj2WUOtob4xSkmwoIySt4jQrPaBHtfQA7YLt6oFT\n",
       "n5qH/Bg+efGD7z0g2Q9bAprI+HcCewkSv/05AT5V/MoVpytGWkrcW6g0dhco0TeDc5RNIc16wdVn\n",
       "oyypjJBKoeqkqBvzWUR/Aa9WkGkUmjOiAAAAAElFTkSuQmCC\n",
       "\" style=\"display:inline;vertical-align:middle;\" /></a></td></tr>\n",
       "<tr><td>5</td><td>Literal</td><td></td><td><a class=\"ProveItLink\" href=\"../../../../../number/numeral/__pv_it/ec23fc7a1b4222a5f4948b495002b97d6fa18c3c0/expr.ipynb\"><img src=\"data:image/png;base64,iVBORw0KGgoAAAANSUhEUgAAAAoAAAAOBAMAAADkjZCYAAAALVBMVEX///8QEBCYmJh2dnaqqqrc\n",
       "3NxUVFQyMjK6uroiIiLMzMyIiIhmZmbu7u4AAAAZjyHdAAAAAXRSTlMAQObYZgAAAEpJREFUCNdj\n",
       "YLiz+xQDA8MMhpsLGLgnMHAXMHAmMHA8ZeA7wMD1hCHOgIHrNZh8jES+Bss+AqlkeQrSxTyBgWEK\n",
       "w8UFDAx3rLMYAMCjFldHSx/9AAAAAElFTkSuQmCC\n",
       "\" style=\"display:inline;vertical-align:middle;\" /></a></td></tr>\n",
       "<tr><td>6</td><td>Operation</td><td>operator:&nbsp;9<br>operands:&nbsp;7<br></td><td><a class=\"ProveItLink\" href=\"../2d3a1ce56a165094390902f9581df667d048a4b00/expr.ipynb\"><img src=\"data:image/png;base64,iVBORw0KGgoAAAANSUhEUgAAAGYAAAAVBAMAAABGR4Y+AAAAMFBMVEX////c3NwiIiJERESqqqqY\n",
       "mJh2dnZmZmYQEBDu7u4yMjJUVFTMzMyIiIi6uroAAAAs73DqAAAAAXRSTlMAQObYZgAAARhJREFU\n",
       "OMtjYCAH8F3AIxmHXfg0Tg2WDAzsB7CJMqzEpWXyTyCxAJsoLy6nzd4N0hMG5XEKIIlyTMBlDy9I\n",
       "zwwoh+UCkugrBrx6mB2w6CkDhtxlwbvb+O6aYNPDVoBFz1KgOPdahvl5DP7Y9LAswKKnj4HhHZMB\n",
       "w/wL2PXwNWDR84+BYcL8Bwz+ExiqQEJSSiCgB9fD8wG7HpCGIgaGNmz2gPWwr1q1qGvVqg0w0RYg\n",
       "DbRBnYHvIyexbjNlANnA+Y+Be4EoFj2s2MIgnYGB8R8D6wcGrgsJxIb1I7D9bAYMLHtR0yN7xa9S\n",
       "BgauB6h6wKIcAnhzCkbaAQHWBLx6crHmspX4tHAuwCosjU8PN3aXM+LL23ewCQIA+z9fibYpdMAA\n",
       "AAAASUVORK5CYII=\n",
       "\" style=\"display:inline;vertical-align:middle;\" /></a></td></tr>\n",
       "<tr><td>7</td><td>ExprTuple</td><td>8, 14</td><td><a class=\"ProveItLink\" href=\"../f0a26aef9d91eb1ad42c20930bb5e66a7cd4c5a70/expr.ipynb\"><img src=\"data:image/png;base64,iVBORw0KGgoAAAANSUhEUgAAAFUAAAAVBAMAAADFg78FAAAAMFBMVEX////c3NwiIiJERESqqqqY\n",
       "mJh2dnZmZmYQEBDu7u4yMjJUVFTMzMyIiIi6uroAAAAs73DqAAAAAXRSTlMAQObYZgAAAR9JREFU\n",
       "KM9jYCAF8F0gSlkciDiNU5p5AoxlycDAfgBIr8SllNMepnbyTyCxgIGBF5cTOHfvh6qdvRukNoyB\n",
       "gWMCTjfch0nxgtTOYGB4xUCkWmYHhjJgSFwWvLuN764JfrVsBQxLgST3Wob5eQz++NWyLGDoY2B4\n",
       "x2TAMP8CIbV8DQz/GBgmzH/A4D+BoQokLKUEAnpY1PJ8AKkFKSxiYGjDby5QbQuQApqozsD3kZOQ\n",
       "G0wZQCZy/mPgXiCKRe0EuFrWBQzpDAyM/xhYPzBwXUjAVMv5CTnMHoFNZzNgYNl7AFVpef/yAM5+\n",
       "AWCyqfhVysDA9YCBQwB/ioVLA+OYNQGvWlY4KxdfmkRVywlMkwzSeNXCUyw3yDGMxOWhOwwMAOho\n",
       "V6mKZm8GAAAAAElFTkSuQmCC\n",
       "\" style=\"display:inline;vertical-align:middle;\" /></a></td></tr>\n",
       "<tr><td>8</td><td>Operation</td><td>operator:&nbsp;9<br>operands:&nbsp;10<br></td><td><a class=\"ProveItLink\" href=\"../8486c5c92c12c68148fe1fa62544dffa054103a60/expr.ipynb\"><img src=\"data:image/png;base64,iVBORw0KGgoAAAANSUhEUgAAADQAAAAPBAMAAABZ6/G2AAAAMFBMVEX////MzMyYmJgQEBBmZmYi\n",
       "IiLu7u4yMjKqqqp2dnZUVFTc3NxERESIiIi6uroAAABe5jFNAAAAAXRSTlMAQObYZgAAAIRJREFU\n",
       "GNNjYMABjuGSYMj5hksmaxVOKQZe/FJ8d3bfXcl39wQWKU6uWob8eQz9WKTesR5gyL+AVSoh/wFD\n",
       "fwKDO4i/PRQE4uDOAIq7MjBYYnMhUH0IA99vNixSlgxs/xi4CjZhSnH/Y2D6wMB+YQIWfxkwcB5g\n",
       "4FgrgCLD4vzdiQE3AADGbiqtntcDTwAAAABJRU5ErkJggg==\n",
       "\" style=\"display:inline;vertical-align:middle;\" /></a></td></tr>\n",
       "<tr><td>9</td><td>Literal</td><td></td><td><a class=\"ProveItLink\" href=\"../../../../../number/addition/__pv_it/3e6688136fa3c7aefbebe51301b7c3ebf0b69c440/expr.ipynb\"><img src=\"data:image/png;base64,iVBORw0KGgoAAAANSUhEUgAAAA4AAAAOBAMAAADtZjDiAAAAJFBMVEX///+6urpUVFQQEBAiIiIy\n",
       "MjJmZmaIiIiqqqrc3Nzu7u4AAACgHpL+AAAAAXRSTlMAQObYZgAAAB5JREFUCNdjYGBgWMkAAe2k\n",
       "0Kmhoc6hoUGk6BMHYgAHOwjcado9fwAAAABJRU5ErkJggg==\n",
       "\" style=\"display:inline;vertical-align:middle;\" /></a></td></tr>\n",
       "<tr><td>10</td><td>ExprTuple</td><td>11, 12</td><td><a class=\"ProveItLink\" href=\"../cd7c64413ac0182710059cbafe273f23259d72ce0/expr.ipynb\"><img src=\"data:image/png;base64,iVBORw0KGgoAAAANSUhEUgAAAEEAAAAVBAMAAADrxp6XAAAAMFBMVEX////c3NwiIiJERESqqqqY\n",
       "mJh2dnZmZmYQEBDu7u4yMjJUVFTMzMyIiIi6uroAAAAs73DqAAAAAXRSTlMAQObYZgAAAQZJREFU\n",
       "KM9jYCAM+C7gkYwDEadxSlsyMLAfANIrcSmY/BNILGBg4MVlyezdIBVhDAwcE3CZwQtSMYOB4RUD\n",
       "XhXMDgxlQN9cFry7je+uCTYVbAUMS4Ek91qG+XkM/thUsCxg6GNgeMdkwDD/AnYVfA0M/xgYJsx/\n",
       "wOA/gaEKIiGlBAJ6UBU8H0AqQNJFDAxt2MwAqmgBUkDd6gx8Hzmx22LKANLN+Y+Be4EowwQMFawL\n",
       "GNIZGBj/MbB+YOC6kMD5CZtvH4FNYjNgYNl7gLNfAKGAveJXKQMD1wMGDgHklCCAHrDAUGdNQOKz\n",
       "YgR9LlrsY6jgBMY+gzSSAEZK4AZZy4gvFd5hYAAA4uhD2KVNcQ0AAAAASUVORK5CYII=\n",
       "\" style=\"display:inline;vertical-align:middle;\" /></a></td></tr>\n",
       "<tr><td>11</td><td>Variable</td><td></td><td><a class=\"ProveItLink\" href=\"../../../../../__pv_it/78af03acba5349fd70398a32ce59bae1da52f0870/expr.ipynb\"><img src=\"data:image/png;base64,iVBORw0KGgoAAAANSUhEUgAAABIAAAAJBAMAAADN8WE8AAAAMFBMVEX////MzMyYmJgQEBBmZmYi\n",
       "IiLu7u4yMjKqqqp2dnZUVFTc3NxERESIiIi6uroAAABe5jFNAAAAAXRSTlMAQObYZgAAAFtJREFU\n",
       "CNdj4Luz++5KvrsnGBg4uWoZ8ucx9DMwvGM9wJB/AcRKyH/A0J/A4M7AAKJcGRgsgSwgL4SB7zcb\n",
       "iMf2j4GrYBMD9z8Gpg8M7BcmMPAZMHAeYOBYKwAAtXMYHwtZnY0AAAAASUVORK5CYII=\n",
       "\" style=\"display:inline;vertical-align:middle;\" /></a></td></tr>\n",
       "<tr><td>12</td><td>Operation</td><td>operator:&nbsp;13<br>operand:&nbsp;14<br></td><td><a class=\"ProveItLink\" href=\"../27bb768acc4707a63c4de5a0b22e13dfe76b5c980/expr.ipynb\"><img src=\"data:image/png;base64,iVBORw0KGgoAAAANSUhEUgAAABgAAAAPBAMAAAAMihLoAAAAJ1BMVEX///+YmJgQEBBmZmaIiIhU\n",
       "VFTu7u5ERES6uroiIiIyMjLc3NwAAAAKCT4sAAAAAXRSTlMAQObYZgAAACpJREFUCNdjYICDMgST\n",
       "If0Ygp0aisRhYCGTs2smCMwg3wAYYDY6ZciADABBShCHMIgXsAAAAABJRU5ErkJggg==\n",
       "\" style=\"display:inline;vertical-align:middle;\" /></a></td></tr>\n",
       "<tr><td>13</td><td>Literal</td><td></td><td><a class=\"ProveItLink\" href=\"../../../../../number/negation/__pv_it/3fc7a08bb9735faa20ef8e175f6ea95511acc9c70/expr.ipynb\"><img src=\"data:image/png;base64,iVBORw0KGgoAAAANSUhEUgAAAA4AAAACBAMAAACapPCZAAAAElBMVEX///+6uroiIiIyMjLc3NwA\n",
       "AAA6l9OrAAAAAXRSTlMAQObYZgAAABBJREFUCNdjcFYCAUUGKAAADR4BD8/TF5gAAAAASUVORK5C\n",
       "YII=\n",
       "\" style=\"display:inline;vertical-align:middle;\" /></a></td></tr>\n",
       "<tr><td>14</td><td>Literal</td><td></td><td><a class=\"ProveItLink\" href=\"../../../../../number/numeral/__pv_it/9be8badea4c35b9724062cecc501d17a3158d1d20/expr.ipynb\"><img src=\"data:image/png;base64,iVBORw0KGgoAAAANSUhEUgAAAAgAAAAPBAMAAAArJJMAAAAAHlBMVEX///+YmJgyMjIQEBBmZmaI\n",
       "iIhUVFTu7u5EREQAAAAw+MI4AAAAAXRSTlMAQObYZgAAACFJREFUCNdjYGBoZ2BgqJjOwFCWBiQY\n",
       "WEklWJwnOTKAAACjEQo8HvEr3AAAAABJRU5ErkJggg==\n",
       "\" style=\"display:inline;vertical-align:middle;\" /></a></td></tr>\n",
       "</table>\n"
      ],
      "text/plain": [
       "0. (0 + ((m - 1) + 1)) = ((m - 1) + 1)\n",
       "   core type: Operation\n",
       "   operator: 1\n",
       "   operands: 2\n",
       "1. =\n",
       "   core type: Literal\n",
       "   sub-expressions: \n",
       "2. (0 + ((m - 1) + 1) , (m - 1) + 1)\n",
       "   core type: ExprTuple\n",
       "   sub-expressions: 3, 6\n",
       "3. 0 + ((m - 1) + 1)\n",
       "   core type: Operation\n",
       "   operator: 9\n",
       "   operands: 4\n",
       "4. (0 , (m - 1) + 1)\n",
       "   core type: ExprTuple\n",
       "   sub-expressions: 5, 6\n",
       "5. 0\n",
       "   core type: Literal\n",
       "   sub-expressions: \n",
       "6. (m - 1) + 1\n",
       "   core type: Operation\n",
       "   operator: 9\n",
       "   operands: 7\n",
       "7. (m - 1 , 1)\n",
       "   core type: ExprTuple\n",
       "   sub-expressions: 8, 14\n",
       "8. m - 1\n",
       "   core type: Operation\n",
       "   operator: 9\n",
       "   operands: 10\n",
       "9. +\n",
       "   core type: Literal\n",
       "   sub-expressions: \n",
       "10. (m , -1)\n",
       "    core type: ExprTuple\n",
       "    sub-expressions: 11, 12\n",
       "11. m\n",
       "    core type: Variable\n",
       "    sub-expressions: \n",
       "12. -1\n",
       "    core type: Operation\n",
       "    operator: 13\n",
       "    operand: 14\n",
       "13. -\n",
       "    core type: Literal\n",
       "    sub-expressions: \n",
       "14. 1\n",
       "    core type: Literal\n",
       "    sub-expressions: "
      ]
     },
     "execution_count": 4,
     "metadata": {},
     "output_type": "execute_result"
    }
   ],
   "source": [
    "# display the expression information\n",
    "expr.exprInfo()"
   ]
  },
  {
   "cell_type": "code",
   "execution_count": null,
   "metadata": {},
   "outputs": [],
   "source": []
  }
 ],
 "metadata": {
  "kernelspec": {
   "display_name": "Python 3",
   "language": "python",
   "name": "python3"
  }
 },
 "nbformat": 4,
 "nbformat_minor": 0
}
