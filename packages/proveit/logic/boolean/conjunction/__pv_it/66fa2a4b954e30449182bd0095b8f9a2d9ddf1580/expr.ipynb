{
 "cells": [
  {
   "cell_type": "markdown",
   "metadata": {},
   "source": [
    "Expression of type <a class=\"ProveItLink\" href=\"../../../../../../../doc/html/api/proveit.logic.And.html\">And</a>\n",
    "=======================\n",
    "# from context <a class=\"ProveItLink\" href=\"../../_context_.ipynb\">proveit.logic.boolean.conjunction</a>"
   ]
  },
  {
   "cell_type": "code",
   "execution_count": 1,
   "metadata": {},
   "outputs": [],
   "source": [
    "# import Expression classes needed to build the expression\n",
    "from proveit._common_ import A, B, C, D, E\n",
    "from proveit.logic import And"
   ]
  },
  {
   "cell_type": "code",
   "execution_count": 2,
   "metadata": {},
   "outputs": [
    {
     "data": {
      "text/html": [
       "<strong id=\"expr\">expr:</strong> <a class=\"ProveItLink\" href=\"expr.ipynb\"><img src=\"data:image/png;base64,iVBORw0KGgoAAAANSUhEUgAAAL0AAAAVBAMAAADhtvKAAAAAMFBMVEX////c3NwiIiJERESqqqqY\n",
       "mJh2dnZmZmYQEBDu7u4yMjJUVFTMzMyIiIi6uroAAAAs73DqAAAAAXRSTlMAQObYZgAAAn5JREFU\n",
       "OMu1VT2IE0EYffnZ5JJskgUF8SxyjaDVBUFQm1x3paksNY2ohVzA30KIhYVYeIuNh6jkENFTMMEr\n",
       "LLbIcaVXJGBhoZJgowhi9H7A5Lzzm59N9ttCmMJAZpg373078+btLPC/f7mOqeK0EXtNdash2GoN\n",
       "veVXITD17s2VSDW5EoI/7HrekxCYJb3XqANLatzQ+H6fMFEEaj2OnS8jd72Mepg7AOIbISxPrHgR\n",
       "WWWPNe0q+Jk/36aJdpNhDw5TM+fgFDjX3qKm5nL9D1G4igkF7605inpEPwddAs5UGPZc9F+BBXBu\n",
       "dkevJ6ifI8NSHXxTo05XWZH57h/3MfofcoNYUlqwD4jNcG6sT02hyfVkeAUOrqoQuSfLygJM6fkh\n",
       "MHmcYQXp+0MgUeXcfBG+l2P9OixR8qkcPNbbw1lc1psffnp/EAyrlbU0XudcqVVejrDcwGsIy+/K\n",
       "UQ8FtaYpTGpPfwL3mgybdvxX5ibndkU2Wz2GJbaRFv2OXKzntYoyRh1kVJBjVCO7ybBdOUFHYvc5\n",
       "tySa2xxL95GArevnKO5yz1EXtlp0njpri2Hz0psVv/6Yuy4qb4b0RUTwCLglBpSHqNzzLP0Xladk\n",
       "dmaDYS2RpuTInxFu/9GvY1Av438BOEpdZEbuR8/NjuKvAjPC2loCi+PZbWpOuFwv4h+hMz0nQ0V+\n",
       "/xYrEYuI+vG377gMs2g7X8QZy3yOcRH/tzIeAb24b1bpGZ+BPfOLsEoDYmREBuSNcYmurBcyj2MM\n",
       "ay+vyTcr3Qvi90t0E94A46aWSf/6l/DNCd7VOqz4N7ZgwLUq5p+MiybkJePyqboJ+4Bx/Yxjwo4Y\n",
       "fx8/GnD/AlOvzy5dLbZqAAAAAElFTkSuQmCC\n",
       "\" style=\"display:inline;vertical-align:middle;\" /></a><br>"
      ],
      "text/plain": [
       "expr: (A and B and C) and D and E"
      ]
     },
     "execution_count": 2,
     "metadata": {},
     "output_type": "execute_result"
    }
   ],
   "source": [
    "# build up the expression from sub-expressions\n",
    "expr = And(And(A, B, C), D, E)"
   ]
  },
  {
   "cell_type": "code",
   "execution_count": 3,
   "metadata": {},
   "outputs": [
    {
     "name": "stdout",
     "output_type": "stream",
     "text": [
      "Passed sanity check: built 'expr' is the same as the stored Expression.\n"
     ]
    }
   ],
   "source": [
    "# check that the built expression is the same as the stored expression\n",
    "%check_expr"
   ]
  },
  {
   "cell_type": "code",
   "execution_count": 4,
   "metadata": {},
   "outputs": [
    {
     "data": {
      "text/html": [
       "<table><tr><th>&nbsp;</th><th>core type</th><th>sub-expressions</th><th>expression</th></tr>\n",
       "<tr><td>0</td><td>Operation</td><td>operator:&nbsp;5<br>operands:&nbsp;1<br></td><td><a class=\"ProveItLink\" href=\"expr.ipynb\"><img src=\"data:image/png;base64,iVBORw0KGgoAAAANSUhEUgAAAL0AAAAVBAMAAADhtvKAAAAAMFBMVEX////c3NwiIiJERESqqqqY\n",
       "mJh2dnZmZmYQEBDu7u4yMjJUVFTMzMyIiIi6uroAAAAs73DqAAAAAXRSTlMAQObYZgAAAn5JREFU\n",
       "OMu1VT2IE0EYffnZ5JJskgUF8SxyjaDVBUFQm1x3paksNY2ohVzA30KIhYVYeIuNh6jkENFTMMEr\n",
       "LLbIcaVXJGBhoZJgowhi9H7A5Lzzm59N9ttCmMJAZpg373078+btLPC/f7mOqeK0EXtNdash2GoN\n",
       "veVXITD17s2VSDW5EoI/7HrekxCYJb3XqANLatzQ+H6fMFEEaj2OnS8jd72Mepg7AOIbISxPrHgR\n",
       "WWWPNe0q+Jk/36aJdpNhDw5TM+fgFDjX3qKm5nL9D1G4igkF7605inpEPwddAs5UGPZc9F+BBXBu\n",
       "dkevJ6ifI8NSHXxTo05XWZH57h/3MfofcoNYUlqwD4jNcG6sT02hyfVkeAUOrqoQuSfLygJM6fkh\n",
       "MHmcYQXp+0MgUeXcfBG+l2P9OixR8qkcPNbbw1lc1psffnp/EAyrlbU0XudcqVVejrDcwGsIy+/K\n",
       "UQ8FtaYpTGpPfwL3mgybdvxX5ibndkU2Wz2GJbaRFv2OXKzntYoyRh1kVJBjVCO7ybBdOUFHYvc5\n",
       "tySa2xxL95GArevnKO5yz1EXtlp0njpri2Hz0psVv/6Yuy4qb4b0RUTwCLglBpSHqNzzLP0Xladk\n",
       "dmaDYS2RpuTInxFu/9GvY1Av438BOEpdZEbuR8/NjuKvAjPC2loCi+PZbWpOuFwv4h+hMz0nQ0V+\n",
       "/xYrEYuI+vG377gMs2g7X8QZy3yOcRH/tzIeAb24b1bpGZ+BPfOLsEoDYmREBuSNcYmurBcyj2MM\n",
       "ay+vyTcr3Qvi90t0E94A46aWSf/6l/DNCd7VOqz4N7ZgwLUq5p+MiybkJePyqboJ+4Bx/Yxjwo4Y\n",
       "fx8/GnD/AlOvzy5dLbZqAAAAAElFTkSuQmCC\n",
       "\" style=\"display:inline;vertical-align:middle;\" /></a></td></tr>\n",
       "<tr><td>1</td><td>ExprTuple</td><td>2, 3, 4</td><td><a class=\"ProveItLink\" href=\"../27d3fb8f30bc26cff118b3410904bb89283f78050/expr.ipynb\"><img src=\"data:image/png;base64,iVBORw0KGgoAAAANSUhEUgAAAJ8AAAAVBAMAAACqHiFtAAAAMFBMVEX////c3NwiIiJERESqqqqY\n",
       "mJh2dnZmZmYQEBDu7u4yMjJUVFTMzMyIiIi6uroAAAAs73DqAAAAAXRSTlMAQObYZgAAAn1JREFU\n",
       "OMutVT1oU1EU/l6Tl5/mvSSDIOhgFsGA0C5iBaEFB0eDopuaTR2kAfFna0CnDjY4FX/wLeJPQQMO\n",
       "Qp60gY4ZUnBw0NLo4s9ita3SxBrPPee+13cdhEICue/c73z35NzvfvcFGPgnuzS4WufU0JLYKZg5\n",
       "e6Hnv3z+z4L0m1dXrQqHLuUbR4PEu77vN7pINil+KtDwqjytmuakRoGpjoldLCF7oyRxzgNOTAQV\n",
       "u/Q9BhDm6h2f3NSFK5rSpkS7bmB3izRM5nW+DCQ3A922aEgCZ6gR+XXr+HdJLRY1Z4UWni8b2BPF\n",
       "/RzkqXtnS08Sv2l4AMwCXwVx3T8SzC9rzhh9D9SiWHJdjbt1fly10UMoWAIWEJvANUG+xDdEdm9I\n",
       "c4i754iB7fPUeF/n19RJBgVzozjNnVbwSNZ0dPeJUlKEdnrLb/fDwKZKkQNnvv1Tz77NNViyuIfb\n",
       "IiqsXxwMwfJEAyLcqRvYSD5S0FWqZbROmGyCKdkqBGr5/hoHZ4HXHMSqtGjDwPo80xaKKZulqrrg\n",
       "C6AMMqGzqgvSiU1zUAycnquHOwqwGd5UM1SNXFDaFjSfXuKCt5ilTpQDctww76xN3My6gS3UxGyh\n",
       "TXEzasNEjbd8SAG7pGtZGK8ENpRjDTGucUlveoU6jdEtS4c2VH6yPVxgXyhfKd6iShe0DZ1pXhpi\n",
       "NjX8KY/0D21D5zE9Hxb0vXUOim0+kj3Hunmc6qv0vOIqG1+h2/5MFAoxtOauk3/SM1RU5Q8rOWfJ\n",
       "DffGe74/wpU7SEW9gI54CP/FssaSD9EJXT27vOO3nm3Mom7H5e3X10AK8mHs3XFB4xXvRicZJYY1\n",
       "wL+A98BfdUG14G6ujroAAAAASUVORK5CYII=\n",
       "\" style=\"display:inline;vertical-align:middle;\" /></a></td></tr>\n",
       "<tr><td>2</td><td>Operation</td><td>operator:&nbsp;5<br>operands:&nbsp;6<br></td><td><a class=\"ProveItLink\" href=\"../0923e7892389f8c266d577b21408f3e5982677d10/expr.ipynb\"><img src=\"data:image/png;base64,iVBORw0KGgoAAAANSUhEUgAAAF8AAAAPBAMAAABw7A4xAAAAMFBMVEX///92dnYQEBBERERUVFS6\n",
       "urqIiIhmZmaqqqrc3Nzu7u6YmJgyMjIiIiLMzMwAAACFkkdwAAAAAXRSTlMAQObYZgAAAVpJREFU\n",
       "KM9jYACBtwyogNv/i4vzUTRBrmT3as4CCPs8VGwWTJLJgIGhPgBVTGgDA2vRBoiB9xdAxI7DJN8n\n",
       "ALEDitiaW0BCfgKYPaMeQvPZQjUy5AMF9gugiB0C0UEQdkI+xHaWsASoBiMgvrQAWYz9B4icDmaz\n",
       "LuiHOG0NwwWohi8MDHOsUMTmHwCR68DspWAnA4E0QwVEPd+XtPTbDChi9RsQ4RXAMB8SWhcY5kBE\n",
       "2H4yMKx1QBG7PwGuns/Fxd8AHFgJDCwPwELMCkBNv1HE/oMlwN5iBQY72IG8Cxj4IMbyAynujyhi\n",
       "+iCCA6y3ASisAGK0A/FJSDQAHczyA0XMH2Q4O4jFCdTA84EBKtEOjwZIsMDFwOEiBQk3oJt/gfwC\n",
       "8ggvLBr4dBagiHEDLQwHeXyy/kkGbvs/wGBiAcUeG8ig4v8uLmfAwYgQY3hypLwBNTWyQsMYvxgA\n",
       "4ldg9Iuqv2cAAAAASUVORK5CYII=\n",
       "\" style=\"display:inline;vertical-align:middle;\" /></a></td></tr>\n",
       "<tr><td>3</td><td>Variable</td><td></td><td><a class=\"ProveItLink\" href=\"../../../../../__pv_it/185e6d30f167ee2ee5ef3321098dc98e0d77bc590/expr.ipynb\"><img src=\"data:image/png;base64,iVBORw0KGgoAAAANSUhEUgAAABEAAAAOBAMAAAA7w+qHAAAALVBMVEX///8QEBCYmJjc3Ny6urru\n",
       "7u5mZmZ2dnaqqqrMzMxEREQyMjJUVFSIiIgAAABETr/8AAAAAXRSTlMAQObYZgAAAGpJREFUCNdj\n",
       "YGC48+7MmV0TGEDgNQMDxwsQg/M5kMgLABK8T4DEvAtAgusBkLA7ACT4FoDEDsAk9AqAxD2QCecc\n",
       "gMQ6kAGCIOIVEDM9Ahn3FkgwgnTxvgQSqwOgxs1OADLC1r05cyoTyAAAv4Qe+njAWvgAAAAASUVO\n",
       "RK5CYII=\n",
       "\" style=\"display:inline;vertical-align:middle;\" /></a></td></tr>\n",
       "<tr><td>4</td><td>Variable</td><td></td><td><a class=\"ProveItLink\" href=\"../../../../../__pv_it/9995c55100c62d7d8a012a35bafc852acbe03cf00/expr.ipynb\"><img src=\"data:image/png;base64,iVBORw0KGgoAAAANSUhEUgAAABAAAAAOBAMAAADUAYG5AAAALVBMVEX///8iIiKYmJjc3Nzu7u7M\n",
       "zMx2dnZmZma6urpERESqqqoyMjJUVFSIiIgAAACbLqVTAAAAAXRSTlMAQObYZgAAAGVJREFUCNdj\n",
       "YGC48+7MmdOvGYAARKwEYo63QIIdiNmeAglfIOZ+wMDGwAxk8E1gUAIpZejbc/oxmJEXwLABzNjH\n",
       "wJDAEABkvGRgMGC5ADWGzQFqjDnEGAZWUQYGn3lvzpyRE2AAAIznGVQJqiN4AAAAAElFTkSuQmCC\n",
       "\" style=\"display:inline;vertical-align:middle;\" /></a></td></tr>\n",
       "<tr><td>5</td><td>Literal</td><td></td><td><a class=\"ProveItLink\" href=\"../76b5f4f4c45c0b6a9b59b297fc07dfa9555698f50/expr.ipynb\"><img src=\"data:image/png;base64,iVBORw0KGgoAAAANSUhEUgAAAAwAAAAOBAMAAADpk+DfAAAALVBMVEX///+qqqqYmJh2dnaIiIi6\n",
       "urpUVFQiIiJERETMzMxmZmYyMjLu7u7c3NwAAABvwqPxAAAAAXRSTlMAQObYZgAAAEtJREFUCNdj\n",
       "YGDgPcAAAtwLwNSMGjCV6gIieTawgyhmBS4BIMXOwLsBSKkwMGQCKaC6aQwMjEBd3BdACMScAVJd\n",
       "wJAKolwYAkAUKwAk0guX6efcigAAAABJRU5ErkJggg==\n",
       "\" style=\"display:inline;vertical-align:middle;\" /></a></td></tr>\n",
       "<tr><td>6</td><td>ExprTuple</td><td>7, 8, 9</td><td><a class=\"ProveItLink\" href=\"../3f290ae5514e8ababf154639022a3e6aa30f85750/expr.ipynb\"><img src=\"data:image/png;base64,iVBORw0KGgoAAAANSUhEUgAAAE8AAAAVBAMAAAD1D64kAAAAMFBMVEX////c3NwiIiJERESqqqqY\n",
       "mJh2dnZmZmYQEBDu7u4yMjJUVFTMzMyIiIi6uroAAAAs73DqAAAAAXRSTlMAQObYZgAAAZVJREFU\n",
       "KM+NUztLA0EQ/mI8k8vjDCgIWqQStEoaQSvzD0xlqenUQjwQH11SWFmYw0pE5CwEH6CChcUVCbYp\n",
       "ErCwURJsFKsoUdCAcXbn1iSFmoWb+765b3Yeuwd0vIzS/5oZYQqMr5VTy9WdyzPF9JurFY/pyxM8\n",
       "Zs/5T7g/DqQrLplPwlhPwgbCnFmLWUpYJE/xgvHuKJmlCKYpngX96YgSlgnNphgfia9PwA7wzJ5S\n",
       "WSXDOD0jHO6rCTsAeBNY5datqaQS1oHBCYZRW9g9oMfEofTsy8rkCtXvb4ddnFbR3Ta2JKggarq+\n",
       "8Auw7fYSU4UbGXzJXRwnF3d93gyJ3xg3pKV6Q1UWGtS97Qp7aTftnXFWps1L4YbACaAro8ZIdQVr\n",
       "jHOieR+nHqOXh4SBqszBYxTdWu7ssSDOw8acmL8o7QP6qzvG0KbFRKOdH0VDNJ4HoC97AG3y09Sz\n",
       "5FtuOM4JZZcEhdO1hIgOVOCPtNy4CH4hdIRaqkm11jvYRhab1+xPoS5mN9TkbXe9lQRFGZ4OfoU7\n",
       "4BvUnmWyIUTp6gAAAABJRU5ErkJggg==\n",
       "\" style=\"display:inline;vertical-align:middle;\" /></a></td></tr>\n",
       "<tr><td>7</td><td>Variable</td><td></td><td><a class=\"ProveItLink\" href=\"../../../../../__pv_it/2cbe72a7ad6f655694dd697106680215e8489b600/expr.ipynb\"><img src=\"data:image/png;base64,iVBORw0KGgoAAAANSUhEUgAAAA8AAAAOBAMAAAACpFvcAAAALVBMVEX///8QEBBERERUVFS6urqI\n",
       "iIhmZmaqqqrc3Nzu7u6YmJgyMjIiIiLMzMwAAADtIaYWAAAAAXRSTlMAQObYZgAAAFtJREFUCNdj\n",
       "YACBOwxQsA9Kc52bAGG05zVAGAFxDmCaZULdAjBjCsO9ADDDgaEvAUTzGhvbKYCVMDAwbgAxChgY\n",
       "eASANAeQwf0AyJgNxEwvGRia5HYwcOm9TgAA6BoR3jrzwFcAAAAASUVORK5CYII=\n",
       "\" style=\"display:inline;vertical-align:middle;\" /></a></td></tr>\n",
       "<tr><td>8</td><td>Variable</td><td></td><td><a class=\"ProveItLink\" href=\"../../../../../__pv_it/077b2ff79244fb4582cbe22c6e3356fa92a52f2f0/expr.ipynb\"><img src=\"data:image/png;base64,iVBORw0KGgoAAAANSUhEUgAAABAAAAAOBAMAAADUAYG5AAAAMFBMVEX///+qqqru7u4iIiJ2dnbc\n",
       "3NyIiIjMzMxmZmYQEBC6uroyMjJERERUVFSYmJgAAADLUcuvAAAAAXRSTlMAQObYZgAAAGpJREFU\n",
       "CNdjYGB4+//u3dMLGIBgDgMDxy8gzf4NiP8CGWxfGRj4vgAZPBMYGJgnARn8FxhY9ygAGfXX0pof\n",
       "gDTlBzAw2YIYJ0EckBBI53sHoBH/gIz7AhBjWH9DjancBLTl/N+7t/cxMAAA3u4f/5xagjYAAAAA\n",
       "SUVORK5CYII=\n",
       "\" style=\"display:inline;vertical-align:middle;\" /></a></td></tr>\n",
       "<tr><td>9</td><td>Variable</td><td></td><td><a class=\"ProveItLink\" href=\"../../../../../__pv_it/985a1bdf1540838275dec15f4ad6de261cca93ce0/expr.ipynb\"><img src=\"data:image/png;base64,iVBORw0KGgoAAAANSUhEUgAAAA8AAAAOBAMAAAACpFvcAAAAMFBMVEX////MzMyqqqoiIiIyMjK6\n",
       "uroQEBB2dnbc3NyYmJhmZmZUVFRERESIiIju7u4AAAB204erAAAAAXRSTlMAQObYZgAAAGZJREFU\n",
       "CNdjYGDgu7NrJccCBgaGsgkMrMsmMDA8sQNy6hsYGNweABlhDAxcn4A0QxcDQ78DiPGQgWH9BAYI\n",
       "sG+AMv6DSaCGfBDNJMDAsB+kmwuI5S8AiTog5gSaEwXWIO29SgFIAQBC+RaDQlidVgAAAABJRU5E\n",
       "rkJggg==\n",
       "\" style=\"display:inline;vertical-align:middle;\" /></a></td></tr>\n",
       "</table>\n"
      ],
      "text/plain": [
       "0. (A and B and C) and D and E\n",
       "   core type: Operation\n",
       "   operator: 5\n",
       "   operands: 1\n",
       "1. (A and B and C , D , E)\n",
       "   core type: ExprTuple\n",
       "   sub-expressions: 2, 3, 4\n",
       "2. A and B and C\n",
       "   core type: Operation\n",
       "   operator: 5\n",
       "   operands: 6\n",
       "3. D\n",
       "   core type: Variable\n",
       "   sub-expressions: \n",
       "4. E\n",
       "   core type: Variable\n",
       "   sub-expressions: \n",
       "5. and\n",
       "   core type: Literal\n",
       "   sub-expressions: \n",
       "6. (A , B , C)\n",
       "   core type: ExprTuple\n",
       "   sub-expressions: 7, 8, 9\n",
       "7. A\n",
       "   core type: Variable\n",
       "   sub-expressions: \n",
       "8. B\n",
       "   core type: Variable\n",
       "   sub-expressions: \n",
       "9. C\n",
       "   core type: Variable\n",
       "   sub-expressions: "
      ]
     },
     "execution_count": 4,
     "metadata": {},
     "output_type": "execute_result"
    }
   ],
   "source": [
    "# display the expression information\n",
    "expr.exprInfo()"
   ]
  },
  {
   "cell_type": "code",
   "execution_count": null,
   "metadata": {},
   "outputs": [],
   "source": []
  }
 ],
 "metadata": {
  "kernelspec": {
   "display_name": "Python 3",
   "language": "python",
   "name": "python3"
  }
 },
 "nbformat": 4,
 "nbformat_minor": 0
}
