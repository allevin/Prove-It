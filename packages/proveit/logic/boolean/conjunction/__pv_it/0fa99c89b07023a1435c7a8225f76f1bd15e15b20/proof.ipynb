{
 "cells": [
  {
   "cell_type": "markdown",
   "metadata": {},
   "source": [
    "Show the Proof\n",
    "========"
   ]
  },
  {
   "cell_type": "code",
   "execution_count": 1,
   "metadata": {},
   "outputs": [
    {
     "data": {
      "text/html": [
       "<table><tr><th>&nbsp;</th><th>step type</th><th>requirements</th><th>statement</th></tr>\n",
       "<tr><td>0</td><td>assumption</td><td></td><td><span style=\"font-size:20px;\"><a class=\"ProveItLink\" href=\"../8e086b89da9ed779165cd3927812d95fdc0e689f0/expr.ipynb\"><img src=\"data:image/png;base64,iVBORw0KGgoAAAANSUhEUgAAAIEAAAAVBAMAAACTeZA2AAAAMFBMVEX////c3NxERESqqqpUVFS6\n",
       "urrMzMwyMjIQEBCIiIh2dnYiIiLu7u5mZmaYmJgAAABXZE4RAAAAAXRSTlMAQObYZgAAAkRJREFU\n",
       "OMtjYGDgu8dAJmBbJQCieHaByEi8Sp/iMqIZRHJ+ADEdICIb0JQ8+e/ioh7AwJuAKrz8U33FJgMg\n",
       "4zqIx9UAJNgPgGXYP0CVyMDUNjEw8H5lYChAM1khkqdmFZBeATdhJkTi9R+oilqYM38C8RcGhlcY\n",
       "JjBMZUcxoQcszmj7EapRG+ImBk6gAN8vBoYTEC7P9N27C6Am2LEcQDKBFeJKTs6vEJUskRMgDCag\n",
       "JDfQeCYDMDf9DZIbhJDdwLsALB7D/A+i4DgDNEj5HRgYi4B2cV0Au1EH4Qu2fTowE3iB9rM/ALsx\n",
       "AORtEFjHcBnCyPeceRskxwx2JJMA3ITo/T9AznwP4mQEMDBwBIBYrAyMfyEKNjCIQxjzBRh4toCk\n",
       "QIHFcAg5JGcagSIP6LaUNpBjwSakuLh8AsvzTWBggaQADZApQEewgaM5YvduREgysYK8rg6UjEiA\n",
       "mQAk2sH6uA/AktgXkEsXwExIQXYDE4MCUCXIFBagoRygoGYG4h1geVsgLgTHKihk/Q1gvjiNYQI4\n",
       "HLiAwc4ECi1hIK4HyxdCTQEnB8bvIH+B3c7yANkEkC/gsQmKLB6QIn1QSmJTAPkElhwyahhgscmz\n",
       "FcmEt5OQ0wPrBgZGje8CDI/+g5IzCyhUOIGRxav/xcW9DpxhwAHFIH4NnrO0WwxQUnUjcqJnZYCG\n",
       "KwJAUzWDSfVulEyGMOEVgbJkJQ5xsAl8SLkbF+ApwCEBLh94doJSvANeE1gEcJRRrZAUuBhISOI1\n",
       "YRqechIAWPqQ8OR55gUAAAAASUVORK5CYII=\n",
       "\" style=\"display:inline;vertical-align:middle;\" /></a> <a class=\"ProveItLink\" href=\"proof.ipynb\" style=\"text-decoration: none\">&#x22A2;&nbsp;</a><a class=\"ProveItLink\" href=\"../69569e49afd55367ef23d22796cb96c9c92dda870/expr.ipynb\"><img src=\"data:image/png;base64,iVBORw0KGgoAAAANSUhEUgAAAGwAAAAVBAMAAABRZRb3AAAAMFBMVEX////c3NwiIiJERESqqqqY\n",
       "mJh2dnZmZmYQEBDu7u4yMjJUVFTMzMyIiIi6uroAAAAs73DqAAAAAXRSTlMAQObYZgAAAd1JREFU\n",
       "OMtjYCAT8F3AJ8v6AIfEaQh1CF39/t+7N69jYKhBFWZbb/WryQTIWAnhr4eKM06AMjgMGBjqHzBw\n",
       "oRnHzHdh1rQEBl6IG1n1ocq5CqDy54ES5zcwsCZgaON9sICBA6JcpF4AInxYEyp/HygQn8DA2QDh\n",
       "zl2kpAXVxhKwk+EVRPTCfajf992FarMAYg2gmSZgHs/SCQjbHhowlEGCc4J/AJjBuYAJqu03A4OU\n",
       "JZBOB/OEJyAceSh4AsNSMGce2CugkApgd4AY//vudVUQwwvMNUT4Tel/LwNDH5jzgEEeEhRMDIwL\n",
       "wAzejwwMkzYAGS/AjjBADpIrBgz/wEbv3r0fIhHLwLAHIg0MCt6voBAFe6JJSQkeJAwGzyDa+IDR\n",
       "BLFEExb//ECbWL/BtPFsQLKNwYCZoQXEBnqHCRzQLECncoGj4jwwiLi/wB2pgKbNFJQygNq4PoAj\n",
       "WwCiFRJt8iAXRIFVb0XR9gwcvrNA3J/gyAYRCtBo4+maAI+ASQ8Q2lhrDRgeAeOkfyEDq/0vkCX7\n",
       "QDKgCC/+v3v3KnBUroMk1eUHYEn5s8YWYFAIIKe4B9AAQgBY4mLZBQlJWAZJwJ8d2XBkx5X4tc3C\n",
       "IS6NX9tGHOKMeAsF3gNYhQHh/nxxYwq8OgAAAABJRU5ErkJggg==\n",
       "\" style=\"display:inline;vertical-align:middle;\" /></a></span></td></tr>\n",
       "</table>"
      ],
      "text/plain": [
       "<proveit._core_.proof._ShowProof at 0x7f94e6cad9e8>"
      ]
     },
     "execution_count": 1,
     "metadata": {},
     "output_type": "execute_result"
    }
   ],
   "source": [
    "import proveit\n",
    "%show_proof"
   ]
  },
  {
   "cell_type": "code",
   "execution_count": null,
   "metadata": {},
   "outputs": [],
   "source": []
  }
 ],
 "metadata": {
  "kernelspec": {
   "display_name": "Python 3",
   "language": "python",
   "name": "python3"
  }
 },
 "nbformat": 4,
 "nbformat_minor": 0
}
