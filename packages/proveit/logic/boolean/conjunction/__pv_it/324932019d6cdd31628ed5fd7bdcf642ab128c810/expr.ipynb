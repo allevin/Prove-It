{
 "cells": [
  {
   "cell_type": "markdown",
   "metadata": {},
   "source": [
    "Expression of type <a class=\"ProveItLink\" href=\"../../../../../../../doc/html/api/proveit.logic.Forall.html\">Forall</a>\n",
    "=======================\n",
    "# from context <a class=\"ProveItLink\" href=\"../../_context_.ipynb\">proveit.logic.boolean.conjunction</a>"
   ]
  },
  {
   "cell_type": "code",
   "execution_count": 1,
   "metadata": {},
   "outputs": [],
   "source": [
    "# import Expression classes needed to build the expression\n",
    "from proveit._common_ import A, B\n",
    "from proveit.logic import And, Forall, Not"
   ]
  },
  {
   "cell_type": "code",
   "execution_count": 2,
   "metadata": {},
   "outputs": [
    {
     "data": {
      "text/html": [
       "<strong id=\"expr\">expr:</strong> <a class=\"ProveItLink\" href=\"expr.ipynb\"><img src=\"data:image/png;base64,iVBORw0KGgoAAAANSUhEUgAAAKgAAAAXBAMAAABt+RknAAAAMFBMVEX///8QEBC6urrMzMxUVFRm\n",
       "ZmZERETc3NwyMjKqqqp2dnaIiIiYmJgiIiLu7u4AAAAU9Wx4AAAAAXRSTlMAQObYZgAAArJJREFU\n",
       "OMu1VT1oU1EU/vKavyYvP7ioS43gIBRJBldJ0BDdGjARFKQVsUXQNoPYitSEglRBbJaKm1nEig4R\n",
       "dcrQ6FTqYBxc/MHo1EUUm1qrUj3n3vd8B7XPgnrg5Z57z7nf+b8B/ge1/6zSK3ij7qb5kD4zAbR4\n",
       "88hNsysjNjv1susnHbOvk81NwJcifj9wk88uu4EGZTCW5pS1PWefewaA/gQqrA+cpiUw4AbaEHxY\n",
       "R2++sgydtwVpEqQzmGdhTfnhq7qB9gjeo8HO9Jd0Zk7aUczSweMaXhMbjcO8MTo67oZpVMRmu17q\n",
       "swm1envtuh2h70kbfnbvOPBxcPCZG6ivJjaHtJ32taZiFnSdiTrA2DAQyhN/HdgDDAHdI8XCUSXW\n",
       "PlxZKuZSuk5NAXpJ/b5RKSS6jYNWh3Qa91/Q2s1hXQW2IcrcA+COkuuimXGE4zqNZOXwSyKOZ4Nl\n",
       "t5xXTAtjVgGXgbfUegbf2QpEEGZfCkCy5ID6MjCWFRdLiBb9oNzKZvuUllmHV4fjJ7DwVxK9504g\n",
       "vhnhEj4nf4SnkTp8rTVADXJfVY8uWpMRo8X87IBGK6wdXYQ5KUDfpTCn28ZTFaCbmaGDiErNNH36\n",
       "UpqC9a444WNoN1v/0si1BWiycW9YY/mbAvQEjwqBBtkjBTj9o03L5L3JEczxMYcZqsDsEaAzVDpt\n",
       "JJS33wDdLdRHZGmVD1g1Yrdp16a201LwcHv484iuCNBjlAEdt9ESLbWD5nrLJMyRT3Tbm7AH98C3\n",
       "bPYCRxTkowmuIXsUq8JYFKBkIKkLi41yTEty1kRfW2SNqUXlNsbzDmhgFYGnlmhePnE196f3FufL\n",
       "Ht3QVLFwEQ7ozFJxX9Xl6VuD1Bgt/EbwyzMYkI/0KVdQL2dn73pAcVZacP07ucuVS60L9B9Q5u8h\n",
       "vgOTZqW6DMZDKgAAAABJRU5ErkJggg==\n",
       "\" style=\"display:inline;vertical-align:middle;\" /></a><br>"
      ],
      "text/plain": [
       "expr: forall_{B | B} [not](A and B)"
      ]
     },
     "execution_count": 2,
     "metadata": {},
     "output_type": "execute_result"
    }
   ],
   "source": [
    "# build up the expression from sub-expressions\n",
    "subExpr1 = [B]\n",
    "expr = Forall(subExpr1, Not(And(A, B)), conditions = subExpr1)"
   ]
  },
  {
   "cell_type": "code",
   "execution_count": 3,
   "metadata": {},
   "outputs": [
    {
     "name": "stdout",
     "output_type": "stream",
     "text": [
      "Passed sanity check: built 'expr' is the same as the stored Expression.\n"
     ]
    }
   ],
   "source": [
    "# check that the built expression is the same as the stored expression\n",
    "%check_expr"
   ]
  },
  {
   "cell_type": "code",
   "execution_count": 4,
   "metadata": {},
   "outputs": [
    {
     "data": {
      "text/html": [
       "<table><tr><th>&nbsp;</th><th>core type</th><th>sub-expressions</th><th>expression</th></tr>\n",
       "<tr><td>0</td><td>Operation</td><td>operator:&nbsp;1<br>operand:&nbsp;2<br></td><td><a class=\"ProveItLink\" href=\"expr.ipynb\"><img src=\"data:image/png;base64,iVBORw0KGgoAAAANSUhEUgAAAKgAAAAXBAMAAABt+RknAAAAMFBMVEX///8QEBC6urrMzMxUVFRm\n",
       "ZmZERETc3NwyMjKqqqp2dnaIiIiYmJgiIiLu7u4AAAAU9Wx4AAAAAXRSTlMAQObYZgAAArJJREFU\n",
       "OMu1VT1oU1EU/vKavyYvP7ioS43gIBRJBldJ0BDdGjARFKQVsUXQNoPYitSEglRBbJaKm1nEig4R\n",
       "dcrQ6FTqYBxc/MHo1EUUm1qrUj3n3vd8B7XPgnrg5Z57z7nf+b8B/ge1/6zSK3ij7qb5kD4zAbR4\n",
       "88hNsysjNjv1susnHbOvk81NwJcifj9wk88uu4EGZTCW5pS1PWefewaA/gQqrA+cpiUw4AbaEHxY\n",
       "R2++sgydtwVpEqQzmGdhTfnhq7qB9gjeo8HO9Jd0Zk7aUczSweMaXhMbjcO8MTo67oZpVMRmu17q\n",
       "swm1envtuh2h70kbfnbvOPBxcPCZG6ivJjaHtJ32taZiFnSdiTrA2DAQyhN/HdgDDAHdI8XCUSXW\n",
       "PlxZKuZSuk5NAXpJ/b5RKSS6jYNWh3Qa91/Q2s1hXQW2IcrcA+COkuuimXGE4zqNZOXwSyKOZ4Nl\n",
       "t5xXTAtjVgGXgbfUegbf2QpEEGZfCkCy5ID6MjCWFRdLiBb9oNzKZvuUllmHV4fjJ7DwVxK9504g\n",
       "vhnhEj4nf4SnkTp8rTVADXJfVY8uWpMRo8X87IBGK6wdXYQ5KUDfpTCn28ZTFaCbmaGDiErNNH36\n",
       "UpqC9a444WNoN1v/0si1BWiycW9YY/mbAvQEjwqBBtkjBTj9o03L5L3JEczxMYcZqsDsEaAzVDpt\n",
       "JJS33wDdLdRHZGmVD1g1Yrdp16a201LwcHv484iuCNBjlAEdt9ESLbWD5nrLJMyRT3Tbm7AH98C3\n",
       "bPYCRxTkowmuIXsUq8JYFKBkIKkLi41yTEty1kRfW2SNqUXlNsbzDmhgFYGnlmhePnE196f3FufL\n",
       "Ht3QVLFwEQ7ozFJxX9Xl6VuD1Bgt/EbwyzMYkI/0KVdQL2dn73pAcVZacP07ucuVS60L9B9Q5u8h\n",
       "vgOTZqW6DMZDKgAAAABJRU5ErkJggg==\n",
       "\" style=\"display:inline;vertical-align:middle;\" /></a></td></tr>\n",
       "<tr><td>1</td><td>Literal</td><td></td><td><a class=\"ProveItLink\" href=\"../../../quantification/universal/__pv_it/265f8c02ac1094d56e0e6410a1c1fd3500dc9f540/expr.ipynb\"><img src=\"data:image/png;base64,iVBORw0KGgoAAAANSUhEUgAAAAwAAAAQBAMAAADQT4M0AAAAMFBMVEX///8QEBC6urrMzMxUVFRm\n",
       "ZmZERETc3NwyMjKqqqp2dnaIiIiYmJgiIiLu7u4AAAAU9Wx4AAAAAXRSTlMAQObYZgAAAFhJREFU\n",
       "CNdjeMAABhdAxGmGlSCqj6EMSLInMHAAJVknMPAsLy+vBYp8S0u7BaScGRjSgZQKA18DkOJl4D4A\n",
       "pLgP8IJM4mswARuX7gSmpoKNZWDcAKZ4gCoAgTQTILaSE58AAAAASUVORK5CYII=\n",
       "\" style=\"display:inline;vertical-align:middle;\" /></a></td></tr>\n",
       "<tr><td>2</td><td>Lambda</td><td>parameter:&nbsp;10<br>body:&nbsp;3<br>conditions:&nbsp;4<br></td><td><a class=\"ProveItLink\" href=\"../9f58a576882ef6b25371c7694f83716ba790ba160/expr.ipynb\"><img src=\"data:image/png;base64,iVBORw0KGgoAAAANSUhEUgAAAL4AAAAVCAMAAADPcaSCAAAANlBMVEX///8UFBQNDQ2qqqru7u4i\n",
       "IiJ2dnbc3NyIiIjMzMxmZmYQEBC6uroyMjJERERUVFSYmJgAAAC3B9V0AAAAAXRSTlMAQObYZgAA\n",
       "AhxJREFUSMfNl9lywyAMRWnZd/j/n61bwEYsrtw2M9WLMijinoAQhJD/b1T++ZROPQ18b8lB30y4\n",
       "b/JizvGw4B1SSUdUQHPyRNnoMtr8Gn9Ba0PJy0h+z1ABn2FUzmlA2be8+9UfaXVW1UcUvVKoQOIZ\n",
       "8noz7RZQTqImijv8iVblcjpSFih8yzABSU0Gp04HPiZCZWbLaPNr/Ik21K/zLRc8nh4VUIcQUI5u\n",
       "2rZBOdA6TG/wJ9qyC9KHix4S0n46YnZ7BAKOEZpTN8COOcezPCiLWl3C3OCPtEcRKaUM77UGndhv\n",
       "i0+7g9sFmLuqtGIcUUOHMobK1EO/wp9oazExHrf4LHZVbMt8hp8mQKAs/ucKZTOsiPSrMj6VnYV+\n",
       "hT/RtmJS3V6/v3Fgtivjqb22bt8F9Gdrjjl0fehrJ6JelXFT1pkAv8KfaFsD6hvPWKSxmwODXz7Z\n",
       "brFL14H32qiMwZ9z6s+Ime7wTd8BLd3gXwHamsN1+msdedmX8aCMKJ4pp/VRmf2u9jVoeCFt8M+A\n",
       "pNO127CpmTv4qZwGv8Cfcmoxadvf+LBBw+tAzJcnDLCmHs5rV4fFwkzKiMY55JhQXkB+2w7n24nf\n",
       "BmSw+Wut0zF1eydcZ+e8uhbK7RUG3o49/g9oF28D+TRA3PLjYLhHw68tiacBnAkF/YvwsQ/mh9aO\n",
       "DPPktfgyPg1grN3sUb4Yn0j1NID4F6GhP8f3+B/HkBuRJIJWpgAAAABJRU5ErkJggg==\n",
       "\" style=\"display:inline;vertical-align:middle;\" /></a></td></tr>\n",
       "<tr><td>3</td><td>Operation</td><td>operator:&nbsp;5<br>operand:&nbsp;6<br></td><td><a class=\"ProveItLink\" href=\"../901fc5ac00a73e9ce3fba7bedaf6642fd77d807b0/expr.ipynb\"><img src=\"data:image/png;base64,iVBORw0KGgoAAAANSUhEUgAAAFYAAAAVBAMAAAAutAQGAAAAMFBMVEX////c3NxERESqqqqYmJgQ\n",
       "EBDu7u4yMjKIiIi6urpUVFTMzMx2dnYiIiJmZmYAAABjE816AAAAAXRSTlMAQObYZgAAAXRJREFU\n",
       "KM9jYCAPzMAnyTIBmce9AEJdQFO0/teqRZUMDK+RBdkTINQHCJcxASrOqsDA8H4CAzuy2g4I5fsN\n",
       "qvUBVHx/AxAvYGA5gKQ2DGKc3UcId9M1qHi/AAOD/wEGtgCEUs4CMMXB8RPCXwm1h0EViK8CHaSM\n",
       "UMsHsWMa8xcwzVbAC5X4xcAgrgakzyF5zQGsZAL3DzCXx4HPABIuvzr6roAY5gxv7wLBHZB3wQHI\n",
       "ycD4D6yEl4ER6iig+3NBwTkVYuYuIOYHq921atUnsJAHA8NqMIMJ6CcOkLv2o6sFEuFgoWsQUaA4\n",
       "0EyWP6hqWUHOYwb5GSTCDAxddgFw8AL9wfUZ1Q1MIL8JA3E92KcCEPWQ4JUHOd0dmhRAHn8ACigg\n",
       "Qx8UuZtAwhegwcsdnoAaZpwXGBhVvwswOP2vA8UELNYf/V+1qhwcnJVIcRyInDigAYgEkOOYwQd/\n",
       "6uZpwEyTuEA6ModxAV61C1F4EviUcmxgAADgOliiO22GuAAAAABJRU5ErkJggg==\n",
       "\" style=\"display:inline;vertical-align:middle;\" /></a></td></tr>\n",
       "<tr><td>4</td><td>ExprTuple</td><td>10</td><td><a class=\"ProveItLink\" href=\"../a1a19f6677ed3601feaa5e06d5228e69f2c236a10/expr.ipynb\"><img src=\"data:image/png;base64,iVBORw0KGgoAAAANSUhEUgAAAB0AAAAVBAMAAABI7vhRAAAAMFBMVEX////c3NwiIiJERESqqqqY\n",
       "mJh2dnZmZmYQEBDu7u4yMjJUVFTMzMyIiIi6uroAAAAs73DqAAAAAXRSTlMAQObYZgAAANhJREFU\n",
       "GNNjYEAHfBfgzDgQcRqIo//v3m31gIH9AJC9EiTYzMDA/o+BYQEDAy9IOc9fIP7NwBDGwMAxAcjn\n",
       "/cjAwPqNgWEGA8MrkHLmBgYGpk4g7cBQBuLzb2BgXAxUyFbAsBTEP7/3blEAkGZZwNAH4t8XYODU\n",
       "BrmlgeEfiG8BEgMq4PkA4QOtYohPAPNbQNZ/BRL7HcDqTaHWM/4CMlgXMKRDrT8BcjfQvkdAl9v/\n",
       "3r0LbC/XAwYOASS/A93LmoDEz4X5FwI4gf5lkEbwuUF6GRHhdYeBAQDRdzVsr93CgQAAAABJRU5E\n",
       "rkJggg==\n",
       "\" style=\"display:inline;vertical-align:middle;\" /></a></td></tr>\n",
       "<tr><td>5</td><td>Literal</td><td></td><td><a class=\"ProveItLink\" href=\"../../../negation/__pv_it/7bea79645543c2413aa17e787cca04e21046fde60/expr.ipynb\"><img src=\"data:image/png;base64,iVBORw0KGgoAAAANSUhEUgAAAAwAAAAGBAMAAAAFwGKyAAAAFVBMVEX///9UVFTMzMx2dnYiIiJm\n",
       "ZmYAAACWz4ZEAAAAAXRSTlMAQObYZgAAABRJREFUCNdjCHEBAmcGMFDEQzEBAEl+Ai6uYJv/AAAA\n",
       "AElFTkSuQmCC\n",
       "\" style=\"display:inline;vertical-align:middle;\" /></a></td></tr>\n",
       "<tr><td>6</td><td>Operation</td><td>operator:&nbsp;7<br>operands:&nbsp;8<br></td><td><a class=\"ProveItLink\" href=\"../42be287793a6c836f70efb0ab4503e1a268d24400/expr.ipynb\"><img src=\"data:image/png;base64,iVBORw0KGgoAAAANSUhEUgAAADcAAAAPBAMAAACy3Eq1AAAAMFBMVEX///92dnYQEBBERERUVFS6\n",
       "urqIiIhmZmaqqqrc3Nzu7u6YmJgyMjIiIiLMzMwAAACFkkdwAAAAAXRSTlMAQObYZgAAAPtJREFU\n",
       "GNNjYACBtwyogNv/i4vzUSjnPJSeBZNlMmBgqA+AKLy/ACJ2HCb5PgGIHcDMGfUTwDSfLVQRQz5Q\n",
       "YL8AmJmQDzGBJSwBKmkExJfAKlkX9G8AC61huACV/MLAMMcKzFoKtgIIpBkqIHJ8X9LSb0OYAQzz\n",
       "C8CMCwxzICJsPxkY1oLdw+fi4m8AdnQCA8sDsCSzAlDBb7CVQG8dADF4FzDwQZzPD6S4P4JYDUBh\n",
       "BRCjHYhPQrwJdCDLDyCDEyjJ84EBKtEO9+b8A2D3A+34BbIbZDEvzJt8OkBvTtY/ycBt/wfoXBZQ\n",
       "SLCBPFX838XlzAaUqGCF+gsBAFd8PNYBN2/JAAAAAElFTkSuQmCC\n",
       "\" style=\"display:inline;vertical-align:middle;\" /></a></td></tr>\n",
       "<tr><td>7</td><td>Literal</td><td></td><td><a class=\"ProveItLink\" href=\"../76b5f4f4c45c0b6a9b59b297fc07dfa9555698f50/expr.ipynb\"><img src=\"data:image/png;base64,iVBORw0KGgoAAAANSUhEUgAAAAwAAAAOBAMAAADpk+DfAAAALVBMVEX///+qqqqYmJh2dnaIiIi6\n",
       "urpUVFQiIiJERETMzMxmZmYyMjLu7u7c3NwAAABvwqPxAAAAAXRSTlMAQObYZgAAAEtJREFUCNdj\n",
       "YGDgPcAAAtwLwNSMGjCV6gIieTawgyhmBS4BIMXOwLsBSKkwMGQCKaC6aQwMjEBd3BdACMScAVJd\n",
       "wJAKolwYAkAUKwAk0guX6efcigAAAABJRU5ErkJggg==\n",
       "\" style=\"display:inline;vertical-align:middle;\" /></a></td></tr>\n",
       "<tr><td>8</td><td>ExprTuple</td><td>9, 10</td><td><a class=\"ProveItLink\" href=\"../caee09fb4b5c95b986a9cee46a014afbad9bdc680/expr.ipynb\"><img src=\"data:image/png;base64,iVBORw0KGgoAAAANSUhEUgAAADUAAAAVBAMAAAAUZLt1AAAAMFBMVEX////c3NwiIiJERESqqqqY\n",
       "mJh2dnZmZmYQEBDu7u4yMjJUVFTMzMyIiIi6uroAAAAs73DqAAAAAXRSTlMAQObYZgAAATZJREFU\n",
       "KM9jYMAH+C5gFY4DEach7EMwQdb9v3dvXsfAfgDIXgkRWg/XwWHAwFD/gGEBAwMvxEhW/QkwufNA\n",
       "kfMbGMKAqiBiIvUCMLn7QFZ8AsMMBoZXEIEL9x/A5CyAWGMCA7MDQxnEsRP8A2ByvxkYpCwZGNgK\n",
       "GJaC+fPAtoABz++711WBNMsChj6wwAMG+QKoHO9HBoZJG4BGNTD8A6vdvXu/AVSOuQEo/xUo9gEi\n",
       "xwd07wKoHD9QD+s3sFwLiO/AwMDUAPMe0FHcX8BmmgK5jEA5rg8MDBNg3pMHGsK6gCEdyJ0FsuYn\n",
       "A+cnqPd4uiaA/fCIgUG4fyEDq/2vAs5+oJbi/7t3rwL5lesBA4cAUnQhsUFhxpqA4LIiR2AuIo7Q\n",
       "5ThBfpJG8JFTADfIfEbsaeIOAwMABOxNRsfkiy0AAAAASUVORK5CYII=\n",
       "\" style=\"display:inline;vertical-align:middle;\" /></a></td></tr>\n",
       "<tr><td>9</td><td>Variable</td><td></td><td><a class=\"ProveItLink\" href=\"../../../../../__pv_it/2cbe72a7ad6f655694dd697106680215e8489b600/expr.ipynb\"><img src=\"data:image/png;base64,iVBORw0KGgoAAAANSUhEUgAAAA8AAAAOBAMAAAACpFvcAAAALVBMVEX///8QEBBERERUVFS6urqI\n",
       "iIhmZmaqqqrc3Nzu7u6YmJgyMjIiIiLMzMwAAADtIaYWAAAAAXRSTlMAQObYZgAAAFtJREFUCNdj\n",
       "YACBOwxQsA9Kc52bAGG05zVAGAFxDmCaZULdAjBjCsO9ADDDgaEvAUTzGhvbKYCVMDAwbgAxChgY\n",
       "eASANAeQwf0AyJgNxEwvGRia5HYwcOm9TgAA6BoR3jrzwFcAAAAASUVORK5CYII=\n",
       "\" style=\"display:inline;vertical-align:middle;\" /></a></td></tr>\n",
       "<tr><td>10</td><td>Variable</td><td></td><td><a class=\"ProveItLink\" href=\"../../../../../__pv_it/077b2ff79244fb4582cbe22c6e3356fa92a52f2f0/expr.ipynb\"><img src=\"data:image/png;base64,iVBORw0KGgoAAAANSUhEUgAAABAAAAAOBAMAAADUAYG5AAAAMFBMVEX///+qqqru7u4iIiJ2dnbc\n",
       "3NyIiIjMzMxmZmYQEBC6uroyMjJERERUVFSYmJgAAADLUcuvAAAAAXRSTlMAQObYZgAAAGpJREFU\n",
       "CNdjYGB4+//u3dMLGIBgDgMDxy8gzf4NiP8CGWxfGRj4vgAZPBMYGJgnARn8FxhY9ygAGfXX0pof\n",
       "gDTlBzAw2YIYJ0EckBBI53sHoBH/gIz7AhBjWH9DjancBLTl/N+7t/cxMAAA3u4f/5xagjYAAAAA\n",
       "SUVORK5CYII=\n",
       "\" style=\"display:inline;vertical-align:middle;\" /></a></td></tr>\n",
       "</table>\n"
      ],
      "text/plain": [
       "0. forall_{B | B} [not](A and B)\n",
       "   core type: Operation\n",
       "   operator: 1\n",
       "   operand: 2\n",
       "1. forall\n",
       "   core type: Literal\n",
       "   sub-expressions: \n",
       "2. B -> [not](A and B) | B\n",
       "   core type: Lambda\n",
       "   parameter: 10\n",
       "   body: 3\n",
       "   conditions: 4\\n3. [not](A and B)\n",
       "   core type: Operation\n",
       "   operator: 5\n",
       "   operand: 6\n",
       "4. (B)\n",
       "   core type: ExprTuple\n",
       "   sub-expressions: 10\n",
       "5. not\n",
       "   core type: Literal\n",
       "   sub-expressions: \n",
       "6. A and B\n",
       "   core type: Operation\n",
       "   operator: 7\n",
       "   operands: 8\n",
       "7. and\n",
       "   core type: Literal\n",
       "   sub-expressions: \n",
       "8. (A , B)\n",
       "   core type: ExprTuple\n",
       "   sub-expressions: 9, 10\n",
       "9. A\n",
       "   core type: Variable\n",
       "   sub-expressions: \n",
       "10. B\n",
       "    core type: Variable\n",
       "    sub-expressions: "
      ]
     },
     "execution_count": 4,
     "metadata": {},
     "output_type": "execute_result"
    }
   ],
   "source": [
    "# display the expression information\n",
    "expr.exprInfo()"
   ]
  },
  {
   "cell_type": "code",
   "execution_count": null,
   "metadata": {},
   "outputs": [],
   "source": []
  }
 ],
 "metadata": {
  "kernelspec": {
   "display_name": "Python 3",
   "language": "python",
   "name": "python3"
  }
 },
 "nbformat": 4,
 "nbformat_minor": 0
}
