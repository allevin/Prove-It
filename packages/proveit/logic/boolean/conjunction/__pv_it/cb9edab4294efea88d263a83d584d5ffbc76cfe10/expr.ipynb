{
 "cells": [
  {
   "cell_type": "markdown",
   "metadata": {},
   "source": [
    "Expression of type <a class=\"ProveItLink\" href=\"../../../../../../../doc/html/api/proveit.logic.InSet.html\">InSet</a>\n",
    "=======================\n",
    "# from context <a class=\"ProveItLink\" href=\"../../_context_.ipynb\">proveit.logic.boolean.conjunction</a>"
   ]
  },
  {
   "cell_type": "code",
   "execution_count": 1,
   "metadata": {},
   "outputs": [],
   "source": [
    "# import Expression classes needed to build the expression\n",
    "from proveit._common_ import AA, l\n",
    "from proveit.logic import Booleans, InSet\n",
    "from proveit.number import Exp"
   ]
  },
  {
   "cell_type": "code",
   "execution_count": 2,
   "metadata": {},
   "outputs": [
    {
     "data": {
      "text/html": [
       "<strong id=\"expr\">expr:</strong> <a class=\"ProveItLink\" href=\"expr.ipynb\"><img src=\"data:image/png;base64,iVBORw0KGgoAAAANSUhEUgAAAD4AAAAVBAMAAADshECCAAAAMFBMVEX///+YmJhmZmZERES6urrc\n",
       "3Nzu7u4QEBCIiIgyMjJUVFR2dnYiIiKqqqrMzMwAAAD8et6HAAAAAXRSTlMAQObYZgAAAQZJREFU\n",
       "KM9jYMAHsr7hlWZgOYBfnlsBvzynAH55/gAIzfcXu/xzKM3zG83e+ZY/a2wZGJqh/P2/0DQyszRk\n",
       "Zm9gsIAa//8PpjyHwwSGugcQZ+7/DxXPmHPmJFSeV2AZ24cGsGgP+/8EiEETExD6XQ0YVl8AcVj/\n",
       "cf53AAsHJyDMfyMM5ygw/YcEhCnC/jP/K2AccQaO/+CAZDNAdl8vlMf2l4HlP5jNUnPmDNx9DAbe\n",
       "EHmu7+X1/8ERxbcAST+DATOEff1ZWur/D2CTDmCRZ6sFEue/gtkLUeQh5keBrLaHRFCOA0KeUQPs\n",
       "Jv7/wLBZ////P3BITHoAi5/Px9diiVDelRD3wwEAVsBP3PUqyPkAAAAASUVORK5CYII=\n",
       "\" style=\"display:inline;vertical-align:middle;\" /></a><br>"
      ],
      "text/plain": [
       "expr: A in BOOLEANS^{l}"
      ]
     },
     "execution_count": 2,
     "metadata": {},
     "output_type": "execute_result"
    }
   ],
   "source": [
    "# build up the expression from sub-expressions\n",
    "expr = InSet(AA, Exp(Booleans, l))"
   ]
  },
  {
   "cell_type": "code",
   "execution_count": 3,
   "metadata": {},
   "outputs": [
    {
     "name": "stdout",
     "output_type": "stream",
     "text": [
      "Passed sanity check: built 'expr' is the same as the stored Expression.\n"
     ]
    }
   ],
   "source": [
    "# check that the built expression is the same as the stored expression\n",
    "%check_expr"
   ]
  },
  {
   "cell_type": "code",
   "execution_count": 4,
   "metadata": {},
   "outputs": [
    {
     "data": {
      "text/html": [
       "<table><tr><th>&nbsp;</th><th>core type</th><th>sub-expressions</th><th>expression</th></tr>\n",
       "<tr><td>0</td><td>Operation</td><td>operator:&nbsp;1<br>operands:&nbsp;2<br></td><td><a class=\"ProveItLink\" href=\"expr.ipynb\"><img src=\"data:image/png;base64,iVBORw0KGgoAAAANSUhEUgAAAD4AAAAVBAMAAADshECCAAAAMFBMVEX///+YmJhmZmZERES6urrc\n",
       "3Nzu7u4QEBCIiIgyMjJUVFR2dnYiIiKqqqrMzMwAAAD8et6HAAAAAXRSTlMAQObYZgAAAQZJREFU\n",
       "KM9jYMAHsr7hlWZgOYBfnlsBvzynAH55/gAIzfcXu/xzKM3zG83e+ZY/a2wZGJqh/P2/0DQyszRk\n",
       "Zm9gsIAa//8PpjyHwwSGugcQZ+7/DxXPmHPmJFSeV2AZ24cGsGgP+/8EiEETExD6XQ0YVl8AcVj/\n",
       "cf53AAsHJyDMfyMM5ygw/YcEhCnC/jP/K2AccQaO/+CAZDNAdl8vlMf2l4HlP5jNUnPmDNx9DAbe\n",
       "EHmu7+X1/8ERxbcAST+DATOEff1ZWur/D2CTDmCRZ6sFEue/gtkLUeQh5keBrLaHRFCOA0KeUQPs\n",
       "Jv7/wLBZ////P3BITHoAi5/Px9diiVDelRD3wwEAVsBP3PUqyPkAAAAASUVORK5CYII=\n",
       "\" style=\"display:inline;vertical-align:middle;\" /></a></td></tr>\n",
       "<tr><td>1</td><td>Literal</td><td></td><td><a class=\"ProveItLink\" href=\"../../../../set_theory/membership/__pv_it/088cbc857536a28d4119ad9639a84270ccb0545d0/expr.ipynb\"><img src=\"data:image/png;base64,iVBORw0KGgoAAAANSUhEUgAAAAwAAAAMBAMAAACkW0HUAAAALVBMVEX///+qqqpmZmZUVFQQEBC6\n",
       "urpERETc3NyYmJjMzMwiIiIyMjKIiIju7u4AAACYsrA9AAAAAXRSTlMAQObYZgAAADxJREFUCNdj\n",
       "YOA9vWrVBgaG2b0MQMCeCyIZ2ArA1DUwyRCyahVIyWQI7xaEYm4AU7xLIdxqTQgtvGvVBgCkcQ7e\n",
       "geM/tQAAAABJRU5ErkJggg==\n",
       "\" style=\"display:inline;vertical-align:middle;\" /></a></td></tr>\n",
       "<tr><td>2</td><td>ExprTuple</td><td>3, 4</td><td><a class=\"ProveItLink\" href=\"../c03570c062260e28dceaec8ad74dab34cb43b86f0/expr.ipynb\"><img src=\"data:image/png;base64,iVBORw0KGgoAAAANSUhEUgAAAD0AAAAcBAMAAAAgvKpJAAAAMFBMVEX///+qqqp2dnYiIiJERESI\n",
       "iIhmZmYQEBDc3NyYmJgyMjLu7u5UVFTMzMy6uroAAACGxKilAAAAAXRSTlMAQObYZgAAAXRJREFU\n",
       "KM9jYMABuM9vYMALHsMY77DLqzEwgWneA9jlV0JlduGw5wcDQyiIPgnl3xdAkeYtYGBgbmBg4CiA\n",
       "CtgrQGitL+uXmwgwsDowMLACLWBLgAgz/Ye5w+Ep92olBpYAoB9/MzCwP4Aa/98ALs8Qx8XAfhfI\n",
       "tASKQ0UX/f+AkJfk2bCfFchMYWAIhwiyGtT/RtLfwsCjCGTOZ2A4BRHsv7D+H1ye19Ibwny/gcEH\n",
       "wnJjyP8Jk39s/z0A6qgLDMvADM4ChvhvCPNDRaCmPmAwAzP2CzC8/4KQZ+FTgAlD5M+Xl///jCTP\n",
       "4ADTvwZEM9bu3t3/H4v8BYYjIHo7MOyZ/zcwcKOZ/76BIRhIcYAUsfwXYNhvAJGfFgIxCuj/90Dq\n",
       "///fDDz///+/sP0HOH6ca6BxqcXAwH8BOVZfoKaBpQwMPArIAhNQ0yjQOF4D3PKcIF84IgmwohrP\n",
       "DLK7C3cSnwYOGwVc0hyQQJqIS56NQA4CAQCX820TkvrXtwAAAABJRU5ErkJggg==\n",
       "\" style=\"display:inline;vertical-align:middle;\" /></a></td></tr>\n",
       "<tr><td>3</td><td>Variable</td><td></td><td><a class=\"ProveItLink\" href=\"../../../../../__pv_it/eb438fefc4bd0ac977777d6dfd3e8a72dfbedbd50/expr.ipynb\"><img src=\"data:image/png;base64,iVBORw0KGgoAAAANSUhEUgAAABIAAAAPBAMAAAAbqIIhAAAAMFBMVEX///+YmJhmZmZERES6urrc\n",
       "3Nzu7u4QEBCIiIgyMjJUVFR2dnYiIiKqqqrMzMwAAAD8et6HAAAAAXRSTlMAQObYZgAAAGpJREFU\n",
       "CNdjYAABvr8MUMDzG8ba/wvK4Pv/B8ri3P8fyuph/58AZrD+4/zvAGYxKzD9FwCzxBk4/iuAGGx/\n",
       "GVj+G4BYXN/L6/8fALGuP0tL/f8BJFkLJM5/BRJRICX2QCfw/weauv7//38AzEYi08a6/oIAAAAA\n",
       "SUVORK5CYII=\n",
       "\" style=\"display:inline;vertical-align:middle;\" /></a></td></tr>\n",
       "<tr><td>4</td><td>Operation</td><td>operator:&nbsp;5<br>operands:&nbsp;6<br></td><td><a class=\"ProveItLink\" href=\"../6f7997ef4de022f44f3d2a7624211203ea29e1520/expr.ipynb\"><img src=\"data:image/png;base64,iVBORw0KGgoAAAANSUhEUgAAABMAAAAUBAMAAACdextHAAAAMFBMVEX///9mZmbMzMzc3NxUVFSY\n",
       "mJju7u6IiIi6urqqqqoiIiIQEBBEREQyMjJ2dnYAAAAQvcRZAAAAAXRSTlMAQObYZgAAAHRJREFU\n",
       "CNdjYIAANv8EBhjogrMYHiKYVxHMz3AW0wYGhrd/7t9eM4GB/QCQf6Cd7do7Bp4CMJOhgpeBWwnC\n",
       "nMqSkM8OFbVhYHkJZjItPQYx5kDX+t8FUGY7Q/kcOJOH4wGcyXAAGxOhILAGzAI659SWCSAWAIXa\n",
       "LV1ZHVMlAAAAAElFTkSuQmCC\n",
       "\" style=\"display:inline;vertical-align:middle;\" /></a></td></tr>\n",
       "<tr><td>5</td><td>Literal</td><td></td><td><a class=\"ProveItLink\" href=\"../../../../../number/exponentiation/__pv_it/deb2bf23cbccdd6e6791e1b35b5b9794ce12dbd50/expr.ipynb\"><img src=\"data:image/png;base64,iVBORw0KGgoAAAANSUhEUgAAACgAAAASBAMAAADbMYGVAAAAMFBMVEX///8QEBAiIiKYmJjc3Nzu\n",
       "7u7MzMx2dnZmZma6urpERESqqqoyMjJUVFSIiIgAAAAoDOMTAAAAAXRSTlMAQObYZgAAAOBJREFU\n",
       "GNNjYGB4+//u3Tt/GNAASGAXmhjnPyDBgSbI/g1IxKEJ8nxgYGdgQRPkX8BgDKRY6q7s62OYvmze\n",
       "2wAgb/7ZO1+AVDiDkYEQQ0HTBr4DQF59AgOIKmB4z7CNbcNZBu6vQN55kEACQwDDLQYGVobfDHwg\n",
       "fb8YGBxYHwAZciD3fWXg+gB1JjvQcJZvQIXsCgz8F6DO9GBgMOH7wPCUgaeBwd4B7EwGNjUG7s9c\n",
       "AiwPgO5jkWRgiF3/9+5dfQUG1nWl5Y+B7pv+1gE9bBhqGLCAE1jEWH9jEbT5A3IwAC4sP/1L6Qlu\n",
       "AAAAAElFTkSuQmCC\n",
       "\" style=\"display:inline;vertical-align:middle;\" /></a></td></tr>\n",
       "<tr><td>6</td><td>ExprTuple</td><td>7, 8</td><td><a class=\"ProveItLink\" href=\"../80b242fc782fadddeeaca909af1a9e0756599f580/expr.ipynb\"><img src=\"data:image/png;base64,iVBORw0KGgoAAAANSUhEUgAAACoAAAAVBAMAAADCwWEQAAAAMFBMVEX////c3NwiIiJERESqqqqY\n",
       "mJh2dnZmZmYQEBDu7u4yMjJUVFTMzMyIiIi6uroAAAAs73DqAAAAAXRSTlMAQObYZgAAAPZJREFU\n",
       "GNNjYMAO+C6gCbA+ABKnGbI+r1+h7AARYtN/wFADpFcyMBi85VyZBlUZz8DAxcDAewEkynCPCypa\n",
       "BTQigYFjAljUlXsCRLSXgYGzgeEVA0StMESQ8Q+QMGEoA4vyqFpCHfABSKQzLAWJPtL/AXUftwGQ\n",
       "8GLog5hw1xkiygGSfcHwDyLKzJcAFj1/AETARRkMwKI3wFIMLaii1pxgE0wRJoBc/JUNSEQBXQEW\n",
       "Db/MwPkJyPwzF+yyRwyg0DHqdmDg7BdgYLieCRRdx8AhgAhTKBPoY9YERMBCabYL4JBEE50FxNJw\n",
       "UVikbASFEnoM8R5gAAC6ZkRcw35cFwAAAABJRU5ErkJggg==\n",
       "\" style=\"display:inline;vertical-align:middle;\" /></a></td></tr>\n",
       "<tr><td>7</td><td>Literal</td><td></td><td><a class=\"ProveItLink\" href=\"../../../__pv_it/46271c8230be96415d662709611f4ed2279d702b0/expr.ipynb\"><img src=\"data:image/png;base64,iVBORw0KGgoAAAANSUhEUgAAAA0AAAAOBAMAAAAGUYvhAAAAMFBMVEX///9mZmbMzMzc3NxUVFSY\n",
       "mJju7u6IiIi6urqqqqoiIiIQEBBEREQyMjJ2dnYAAAAQvcRZAAAAAXRSTlMAQObYZgAAAElJREFU\n",
       "CNdjePvn/u01ExgYGA60s117B6YZKngh9FSWBAjfBsxnWnoMRHet/10AkS+fA6F5OB5AaIYDqDRU\n",
       "PLCGgQFoz6ktExgAgLIl8DFvGtkAAAAASUVORK5CYII=\n",
       "\" style=\"display:inline;vertical-align:middle;\" /></a></td></tr>\n",
       "<tr><td>8</td><td>Variable</td><td></td><td><a class=\"ProveItLink\" href=\"../../../../../__pv_it/3e5d49a51123592869b160296a6e123a424e07a70/expr.ipynb\"><img src=\"data:image/png;base64,iVBORw0KGgoAAAANSUhEUgAAAAYAAAAOBAMAAAD+sXAWAAAALVBMVEX////u7u5ERERUVFTMzMzc\n",
       "3NyIiIgQEBAyMjJmZmaYmJi6uroiIiJ2dnYAAACuOh6BAAAAAXRSTlMAQObYZgAAAD9JREFUCNdj\n",
       "YLjzmoGB6wEDA2cDAwN7AgNDnAMDwzoGBgYjIC5jYGB5wsDAVsDAwGQgwMC34AIDn2MCA9tcAQAo\n",
       "GAoWIEgceAAAAABJRU5ErkJggg==\n",
       "\" style=\"display:inline;vertical-align:middle;\" /></a></td></tr>\n",
       "</table>\n"
      ],
      "text/plain": [
       "0. A in BOOLEANS^{l}\n",
       "   core type: Operation\n",
       "   operator: 1\n",
       "   operands: 2\n",
       "1. in\n",
       "   core type: Literal\n",
       "   sub-expressions: \n",
       "2. (A , BOOLEANS^{l})\n",
       "   core type: ExprTuple\n",
       "   sub-expressions: 3, 4\n",
       "3. A\n",
       "   core type: Variable\n",
       "   sub-expressions: \n",
       "4. BOOLEANS^{l}\n",
       "   core type: Operation\n",
       "   operator: 5\n",
       "   operands: 6\n",
       "5. Exp\n",
       "   core type: Literal\n",
       "   sub-expressions: \n",
       "6. (BOOLEANS , l)\n",
       "   core type: ExprTuple\n",
       "   sub-expressions: 7, 8\n",
       "7. BOOLEANS\n",
       "   core type: Literal\n",
       "   sub-expressions: \n",
       "8. l\n",
       "   core type: Variable\n",
       "   sub-expressions: "
      ]
     },
     "execution_count": 4,
     "metadata": {},
     "output_type": "execute_result"
    }
   ],
   "source": [
    "# display the expression information\n",
    "expr.exprInfo()"
   ]
  },
  {
   "cell_type": "code",
   "execution_count": null,
   "metadata": {},
   "outputs": [],
   "source": []
  }
 ],
 "metadata": {
  "kernelspec": {
   "display_name": "Python 3",
   "language": "python",
   "name": "python3"
  }
 },
 "nbformat": 4,
 "nbformat_minor": 0
}
