{
 "cells": [
  {
   "cell_type": "markdown",
   "metadata": {},
   "source": [
    "Show the Proof\n",
    "========"
   ]
  },
  {
   "cell_type": "code",
   "execution_count": 1,
   "metadata": {},
   "outputs": [
    {
     "data": {
      "text/html": [
       "<table><tr><th>&nbsp;</th><th>step type</th><th>requirements</th><th>statement</th></tr>\n",
       "<tr><td>0</td><td>assumption</td><td></td><td><span style=\"font-size:20px;\"><a class=\"ProveItLink\" href=\"../49a2949976c5e7683fefea12e86166930679c6f70/expr.ipynb\"><img src=\"data:image/png;base64,iVBORw0KGgoAAAANSUhEUgAAARAAAAAVBAMAAAB8nqwhAAAAMFBMVEX///9ERETc3NyqqqpUVFS6\n",
       "urrMzMwyMjIQEBCIiIh2dnYiIiLu7u5mZmaYmJgAAABJJ2g3AAAAAXRSTlMAQObYZgAAA0JJREFU\n",
       "SMfNVk1oE1EQnm6TTbPZ3eYgVBRsxIMXS+LFWzFCahQpyVEP0hYCFj30h4CCWutFPJQawUsP0qIX\n",
       "TzYHESyFLqIUD0pQEEHa7EEFQWytrcVaWt/Me5vdSQtehHYhr5vvzTfv25lvpwEAex52+Lr4AFdz\n",
       "Cnb86k2JJbqovl2q2/20mcm05OvAV3vm3DYO3RNxA91bsezqVuzUb46ZdzvntQpY/eLeGFbgDfX3\n",
       "iBd1E8Ba4ZgxCnB+lG41x4sTBzb+rOOiiKPbYAc495EL4Q+u1OAJsWfU7nUVpAv1+jLDzKsixlii\n",
       "+0jFi1sTS9Vh3DA+ucXzhTHuM+POTotlMsGFHKomZN79SlBUHGivMSwyggkloWdaHRDFqvWVGNf4\n",
       "hW3k+Qys2jHGveJISzAhpXHph9C5kgQaxEZshGFVNJUmH6djTAlpQJMl04wbWQQDNJ4vsi6Qb0Gu\n",
       "RQ1t40LCznFXlgvKkticBm3ACWIa2c8kY5r9MSWkOY4VSXNuHL6rbR8rwxvVYcVNokfhudJAjgV4\n",
       "qaoLj+GdDO87PfZRavMwa8P3u+FaKRWHvIUJxu0qZpcAeL6uCrzl3KpKDzYWtVd2JA9JWfIyHJa7\n",
       "4wkwn0AQiy35QmKg9as4rFAuz7iT3aB2A1jxzDDnziS8bMLQhVvSUplMLk7iShCSQ2EvHuIGsWYa\n",
       "OSbtfgU4KZO04nKbc8UomIDuOsyBNDDupvjcv7wPfTYEcJbCwgBNpDLmgC7jl2sV97AmEiKNL3xf\n",
       "kGl/4HEbnCuwhFni2B8wVSs8LqmfxFridA/R+aJnMSpcu/gMUo0wdy4VxELr+I062CjWSMIbN9AU\n",
       "Z1waI4bDsTWvDzVuzlFzlDxioKm1FL1yitTujRH5mtQw3c+PiRpJUhRHRovDuDRG2oBjK56QGhdt\n",
       "Tkf4r+8s9gmfV4+TmdQY6b0GDFtIQVg6v0f6UI2RCxUeh8+kP92KAediQwtTQSEH7wyC3boq0oWw\n",
       "Y1Gh1GpdzmSH5EjyMNCznepd7MAFx9JrEXfiPY97IbDMTJlhIk69vD4XCsU59wvUTVb1D0G9y//C\n",
       "8v7Gf+BuI2RnLtJg7wIhNN3NZ7vgFxp1y364G36z/gVBQgo0xd4QugAAAABJRU5ErkJggg==\n",
       "\" style=\"display:inline;vertical-align:middle;\" /></a> <a class=\"ProveItLink\" href=\"proof.ipynb\" style=\"text-decoration: none\">&#x22A2;&nbsp;</a><a class=\"ProveItLink\" href=\"../d31f0f490581bf5ea6a06bb5c2c17cc2bed2b6c90/expr.ipynb\"><img src=\"data:image/png;base64,iVBORw0KGgoAAAANSUhEUgAAAP0AAAAPBAMAAADdQdTdAAAAMFBMVEX///92dnYQEBBERERUVFS6\n",
       "urqIiIhmZmaqqqrc3Nzu7u6YmJgyMjIiIiLMzMwAAACFkkdwAAAAAXRSTlMAQObYZgAAAt5JREFU\n",
       "OMullT1oU1EUx89r8/Vekpfi6pCiWzsYxc1KgqZ2iSaTjg0odWxwqSKagEM3DThURMgb/EDM8AZ1\n",
       "ULDBBqR+YASnDibYjEoTTMW0tfWec+/Ly0kEBwO5uf3d8z/nvvPxCoCf78A/T/eSyanMAHx4dMFe\n",
       "4uiCsFtpDLPUzjA78ZMz4/zMVT0n9x8Vu+scHgTwb3KmTQKcm6Stbjl2Ik7g14AWY9/4CzvGtfts\n",
       "8F6yaRusK/hGnZnirmaHMeODsNG6tA/lHLu2WPIW03rxOf3cnxftnjFteU0s0SLt7+Tlr3lc3cMn\n",
       "4gTbjIUm0M847dfXlF8f5mgjy7TaLtaK+9MwRzeZ9rXl1j07L2vtOZuVYFTECU8wli9g8uTlp+dU\n",
       "/NGWWEoJpg21QAOd+wttCfKiX+unqsl28lq3ZB3KUJP2kQToK1Y/06mjDOo1oxJW8SMxfP4E18bg\n",
       "pTp2WQ2eqDIqbamC62PaP1AphP1wWVptnJq7Jq/kMP+227ma7S8oO9QtjzHtbDXVBeD+ZnNwhWvz\n",
       "tusvAyWZ1xrck2S+CMZn6GfhrmsfBr2i7DAf6QzTRhugTvtY9fQ419aLPXdmMpmO0RhkwSOH+Qj6\n",
       "tvtZpEXZo9PnAGekNI7LAa4VszwGjQFmQQKYdk98L74/TOUHGKE7hS0wpVmnl1aHjVB82cKig5vS\n",
       "2w+Mss21ghWNLGe/wVD5drR06ShlTtQjTNlZFN9Vygi6TBf6mWcL/6IyBcQaKjqvCRiJMS2Nv2Zx\n",
       "1nZy3dOmLee1pxdoZpTtojP+suF7zHTdoj5AN/HhqE9ZTEvjvwScbTrxe1rsXBmijHOMT2fGqD/U\n",
       "+H99C4wtF8Are3hdtpYa/285boePYn4ZZsC1WLXmJ7G5fWgVgvEd4cWD1fCJe/njnWTqnXyDOAzM\n",
       "1Iwapmlc8C3ySNidvM7t7guWrNcYE3Zq+lwtNKsL9iv2D8mrhvFfLOMe/L/2D5i7+T3G1C0RAAAA\n",
       "AElFTkSuQmCC\n",
       "\" style=\"display:inline;vertical-align:middle;\" /></a></span></td></tr>\n",
       "</table>"
      ],
      "text/plain": [
       "<proveit._core_.proof._ShowProof at 0x7f94eb9eaa58>"
      ]
     },
     "execution_count": 1,
     "metadata": {},
     "output_type": "execute_result"
    }
   ],
   "source": [
    "import proveit\n",
    "%show_proof"
   ]
  },
  {
   "cell_type": "code",
   "execution_count": null,
   "metadata": {},
   "outputs": [],
   "source": []
  }
 ],
 "metadata": {
  "kernelspec": {
   "display_name": "Python 3",
   "language": "python",
   "name": "python3"
  }
 },
 "nbformat": 4,
 "nbformat_minor": 0
}
