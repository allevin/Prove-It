{
 "cells": [
  {
   "cell_type": "markdown",
   "metadata": {},
   "source": [
    "Show the Proof\n",
    "========"
   ]
  },
  {
   "cell_type": "code",
   "execution_count": 1,
   "metadata": {},
   "outputs": [
    {
     "data": {
      "text/html": [
       "<table><tr><th>&nbsp;</th><th>step type</th><th>requirements</th><th>statement</th></tr>\n",
       "<tr><td>0</td><td>assumption</td><td></td><td><span style=\"font-size:20px;\"><a class=\"ProveItLink\" href=\"../22c8c3af63199ae84bad8df086866b663ca41b130/expr.ipynb\"><img src=\"data:image/png;base64,iVBORw0KGgoAAAANSUhEUgAAAKcAAAAVBAMAAADROuOhAAAAMFBMVEX////c3NxERESqqqpUVFS6\n",
       "urrMzMwyMjIQEBCIiIh2dnYiIiLu7u5mZmaYmJgAAABXZE4RAAAAAXRSTlMAQObYZgAAAkxJREFU\n",
       "OMutlT2IE1EQxycft5tNNnsBC7FSsPAKwXRWQpT1Wrc8wSKEFHbZ5rAST0SvsbhKuEIMXKOCkNIv\n",
       "JJ0HNoeFFoIGQcSzOD8ioqjnzJvZt++9DWfjwO99zP4z72veCwBEr+H/mXe3RVX40PKeFSx75zoK\n",
       "iihhwLtC3eCTNVKHMTwjgGbXmU+uiM5M41PLAC+AgZdU1FdMuT9mDA8NmlIrUfEyVWa1QwBvEvDJ\n",
       "Tf3bxaDrQm4ff2GxTa3FTGApBmtIB6IhKGYFvS5oK534jOUmNXtUPAZHcQtPZmcIIYYhZgSdS5nc\n",
       "guAbluU2rQ5/XtkCR7GA3MftOAxMMWhzyOR2rvKHRBSLAlJgWzEF2H8U63uCCto0h/UnjLYw8X5Q\n",
       "vFSW3stUOhGm6zefUOO4sEOd83iorx6hUb7WEkY75qD0m6oVOZ/TALYiwC1/Rhm2JPi4nv61bMw+\n",
       "Mp8w2tGP4y80H5XMDQjVjE1FGYcLaIcGAhzBdSx19wqK7VUdtNmuT9yg8zjL6KcRtEEbXk2NGLU2\n",
       "kzkqdLR6+aW0wfluKAY4TPWrsXy1p/WREbQ8YTLHPqwu0WXkkRc/qMpUUJoepK/vBTulPEkdlT7s\n",
       "UFt4bKx9PZX6poLS1FsduyllJ/+Ikdu08L0Fb3cv4pHyLvpbWiX2fDeOL6iJLwszrullwbFNmdk4\n",
       "Vzm2xzVVL8d28Sd37O4MRX2N4aDRP54+NY3U7hcV8FTg9zR8YD1KHca2asvuFxVwUvCu8tu9YX48\n",
       "IFh2w3UUFEGXUf9RfwH9I6jGHH/6ZQAAAABJRU5ErkJggg==\n",
       "\" style=\"display:inline;vertical-align:middle;\" /></a> <a class=\"ProveItLink\" href=\"proof.ipynb\" style=\"text-decoration: none\">&#x22A2;&nbsp;</a><a class=\"ProveItLink\" href=\"../7263e8a07597ec655d1ea354994470db6b7f8d4d0/expr.ipynb\"><img src=\"data:image/png;base64,iVBORw0KGgoAAAANSUhEUgAAAJIAAAAVBAMAAABf4KrdAAAAMFBMVEX////c3NxERESqqqqYmJgQ\n",
       "EBDu7u4yMjKIiIi6urpUVFTMzMx2dnYiIiJmZmYAAABjE816AAAAAXRSTlMAQObYZgAAAfVJREFU\n",
       "OMu1lD1II0EUx18+TDYfxoCFdh4csb1010m4RgVFbbRNE6wOtjtsTkvhQLfxsIx2roWS0iYprcRC\n",
       "rRTEVsRP7jQcl3tv3pvZnV21uz/8ZmZf/vtmduZNAP6HNgVLk6+5LKU9JlChyYQixwClffu9kCO9\n",
       "1/W3lwCugTHK1plQ5A4bl0ZqyoJ2afV9ALj1IEvh8HurQqDpX9hM0WhXGyxHewVpQroDCqN5wSgx\n",
       "do9tg4Ytas4g4lgvA8x0IDMLCq2cywRynBdsk1VaPL6TuoSIo4Kc4td+BEZU6jCBfqaesC1SAspC\n",
       "2WxHF2BoFPsjQW9vjTHKeIVnSuLKl7W0yxxjd3XthAafFTcXqHM6CI8xgRwk/lI3Kxu9A2A7HNzG\n",
       "r1QUGwLqABnwGBM48P0HmplKAfoho9YWdiRxDoc2oC28lQnHCyZTqVqsRTMN4HrSf+KZ+qqMDqTo\n",
       "YMzXJdx+LsaQo42584/xr0vWGB0YxG6Z7gSf++6E6sIOKqcR+nVckHtAp61OnANqWz7VTayl6jLs\n",
       "oHIqLNTjVZA7ZqS+K7/L8KX3Hc+ddyZ7aVyiq57vf1NLXBK05oSIGrKGeuCKKHpb1FWdivsO7cdX\n",
       "HMUV5p1/FTWhaz/HHbAoBFe/ydjKl+3nuAO2hEDDgqUf0UDM4ewr/gGGMJISJzoGpgAAAABJRU5E\n",
       "rkJggg==\n",
       "\" style=\"display:inline;vertical-align:middle;\" /></a></span></td></tr>\n",
       "</table>"
      ],
      "text/plain": [
       "<proveit._core_.proof._ShowProof at 0x7f94eae5d470>"
      ]
     },
     "execution_count": 1,
     "metadata": {},
     "output_type": "execute_result"
    }
   ],
   "source": [
    "import proveit\n",
    "%show_proof"
   ]
  },
  {
   "cell_type": "code",
   "execution_count": null,
   "metadata": {},
   "outputs": [],
   "source": []
  }
 ],
 "metadata": {
  "kernelspec": {
   "display_name": "Python 3",
   "language": "python",
   "name": "python3"
  }
 },
 "nbformat": 4,
 "nbformat_minor": 0
}
