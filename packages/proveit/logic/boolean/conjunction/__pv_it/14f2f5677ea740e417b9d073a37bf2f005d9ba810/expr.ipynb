{
 "cells": [
  {
   "cell_type": "markdown",
   "metadata": {},
   "source": [
    "Expression of type <a class=\"ProveItLink\" href=\"../../../../../../../doc/html/api/proveit.ExprTuple.html\">ExprTuple</a>\n",
    "=======================\n",
    "# from context <a class=\"ProveItLink\" href=\"../../_context_.ipynb\">proveit.logic.boolean.conjunction</a>"
   ]
  },
  {
   "cell_type": "code",
   "execution_count": 1,
   "metadata": {},
   "outputs": [],
   "source": [
    "# import Expression classes needed to build the expression\n",
    "from proveit import ExprTuple\n",
    "from proveit.logic import Booleans\n",
    "from proveit.logic.boolean.conjunction._theorems_ import trueAndTrue"
   ]
  },
  {
   "cell_type": "code",
   "execution_count": 2,
   "metadata": {},
   "outputs": [
    {
     "data": {
      "text/html": [
       "<strong id=\"expr\">expr:</strong> <a class=\"ProveItLink\" href=\"expr.ipynb\"><img src=\"data:image/png;base64,iVBORw0KGgoAAAANSUhEUgAAAFsAAAAVBAMAAADbSo+2AAAAMFBMVEX////c3NwiIiJERESqqqqY\n",
       "mJh2dnZmZmYQEBDu7u4yMjJUVFTMzMyIiIi6uroAAAAs73DqAAAAAXRSTlMAQObYZgAAAT1JREFU\n",
       "KM9jYCAR8F0gVmUciDjNwFCkBALKyFLsYCElAxCbbb3VryYToNgBIGclWPo4TB3jBBiLpwDGYua7\n",
       "MGtaAgPDAgYG3guoyrkKsCrnfQBUG8bAwDEBVflhTazKWQJ2MjDMYGB4xYCqfN9d7KY/BHqD2YGh\n",
       "DFU55wImrMoPBQNdwVbAsBRVOVsAuwMW5Ur/e4E0ywKGPlTlTAyMC7A65grQMXwNDP9QlccyMOzB\n",
       "ppzB4BlQ5AO6ck1wvGFTzgxW3oKinAWohEsAl3KgY0xRlIOUshQgK5+A5BjWBQzpKMoPgwgFJOWc\n",
       "nyDKWWsNwAH5CCJ3DBpJIAIaUTwJIOX9AqAk9lljC8juBwwcAsgJ8QE4SaOkbyR5YCJgTcCfyFmR\n",
       "2LnwBEyMck5QBErjV46U17hB7mIkOvPdYWAAABbMVhedF8ImAAAAAElFTkSuQmCC\n",
       "\" style=\"display:inline;vertical-align:middle;\" /></a><br>"
      ],
      "text/plain": [
       "expr: (TRUE and TRUE , BOOLEANS)"
      ]
     },
     "execution_count": 2,
     "metadata": {},
     "output_type": "execute_result"
    }
   ],
   "source": [
    "# build up the expression from sub-expressions\n",
    "expr = ExprTuple(trueAndTrue.expr, Booleans)"
   ]
  },
  {
   "cell_type": "code",
   "execution_count": 3,
   "metadata": {},
   "outputs": [
    {
     "name": "stdout",
     "output_type": "stream",
     "text": [
      "Passed sanity check: built 'expr' is the same as the stored Expression.\n"
     ]
    }
   ],
   "source": [
    "# check that the built expression is the same as the stored expression\n",
    "%check_expr"
   ]
  },
  {
   "cell_type": "code",
   "execution_count": 4,
   "metadata": {},
   "outputs": [
    {
     "data": {
      "text/html": [
       "<table><tr><th>&nbsp;</th><th>core type</th><th>sub-expressions</th><th>expression</th></tr>\n",
       "<tr><td>0</td><td>ExprTuple</td><td>1, 2</td><td><a class=\"ProveItLink\" href=\"expr.ipynb\"><img src=\"data:image/png;base64,iVBORw0KGgoAAAANSUhEUgAAAFsAAAAVBAMAAADbSo+2AAAAMFBMVEX////c3NwiIiJERESqqqqY\n",
       "mJh2dnZmZmYQEBDu7u4yMjJUVFTMzMyIiIi6uroAAAAs73DqAAAAAXRSTlMAQObYZgAAAT1JREFU\n",
       "KM9jYCAR8F0gVmUciDjNwFCkBALKyFLsYCElAxCbbb3VryYToNgBIGclWPo4TB3jBBiLpwDGYua7\n",
       "MGtaAgPDAgYG3guoyrkKsCrnfQBUG8bAwDEBVflhTazKWQJ2MjDMYGB4xYCqfN9d7KY/BHqD2YGh\n",
       "DFU55wImrMoPBQNdwVbAsBRVOVsAuwMW5Ur/e4E0ywKGPlTlTAyMC7A65grQMXwNDP9QlccyMOzB\n",
       "ppzB4BlQ5AO6ck1wvGFTzgxW3oKinAWohEsAl3KgY0xRlIOUshQgK5+A5BjWBQzpKMoPgwgFJOWc\n",
       "nyDKWWsNwAH5CCJ3DBpJIAIaUTwJIOX9AqAk9lljC8juBwwcAsgJ8QE4SaOkbyR5YCJgTcCfyFmR\n",
       "2LnwBEyMck5QBErjV46U17hB7mIkOvPdYWAAABbMVhedF8ImAAAAAElFTkSuQmCC\n",
       "\" style=\"display:inline;vertical-align:middle;\" /></a></td></tr>\n",
       "<tr><td>1</td><td>Operation</td><td>operator:&nbsp;3<br>operands:&nbsp;4<br></td><td><a class=\"ProveItLink\" href=\"../17610cc95a10805239974b10cc7fd080509b7dbb0/expr.ipynb\"><img src=\"data:image/png;base64,iVBORw0KGgoAAAANSUhEUgAAADUAAAAPBAMAAAC2KZqIAAAALVBMVEX///+qqqqYmJiIiIi6urpU\n",
       "VFQyMjLu7u7c3Nx2dnbMzMxEREQiIiJmZmYAAAD5AsnGAAAAAXRSTlMAQObYZgAAAHNJREFUGNNj\n",
       "uHMGBE4zIAFesNCZDSD2WrhoO4zBdQHKQMjl4pbj2lOAU47V2QCnXBnDAZxykxgu4pQ7wNCGS47J\n",
       "gIF1AQ45ngIGrgAccrJAnIFDLgMqj0WOCxSAPGhyK6E+dwASzBDfc01gQAEsYNIBIQAAv7Mpep+L\n",
       "3wEAAAAASUVORK5CYII=\n",
       "\" style=\"display:inline;vertical-align:middle;\" /></a></td></tr>\n",
       "<tr><td>2</td><td>Literal</td><td></td><td><a class=\"ProveItLink\" href=\"../../../__pv_it/46271c8230be96415d662709611f4ed2279d702b0/expr.ipynb\"><img src=\"data:image/png;base64,iVBORw0KGgoAAAANSUhEUgAAAA0AAAAOBAMAAAAGUYvhAAAAMFBMVEX///9mZmbMzMzc3NxUVFSY\n",
       "mJju7u6IiIi6urqqqqoiIiIQEBBEREQyMjJ2dnYAAAAQvcRZAAAAAXRSTlMAQObYZgAAAElJREFU\n",
       "CNdjePvn/u01ExgYGA60s117B6YZKngh9FSWBAjfBsxnWnoMRHet/10AkS+fA6F5OB5AaIYDqDRU\n",
       "PLCGgQFoz6ktExgAgLIl8DFvGtkAAAAASUVORK5CYII=\n",
       "\" style=\"display:inline;vertical-align:middle;\" /></a></td></tr>\n",
       "<tr><td>3</td><td>Literal</td><td></td><td><a class=\"ProveItLink\" href=\"../76b5f4f4c45c0b6a9b59b297fc07dfa9555698f50/expr.ipynb\"><img src=\"data:image/png;base64,iVBORw0KGgoAAAANSUhEUgAAAAwAAAAOBAMAAADpk+DfAAAALVBMVEX///+qqqqYmJh2dnaIiIi6\n",
       "urpUVFQiIiJERETMzMxmZmYyMjLu7u7c3NwAAABvwqPxAAAAAXRSTlMAQObYZgAAAEtJREFUCNdj\n",
       "YGDgPcAAAtwLwNSMGjCV6gIieTawgyhmBS4BIMXOwLsBSKkwMGQCKaC6aQwMjEBd3BdACMScAVJd\n",
       "wJAKolwYAkAUKwAk0guX6efcigAAAABJRU5ErkJggg==\n",
       "\" style=\"display:inline;vertical-align:middle;\" /></a></td></tr>\n",
       "<tr><td>4</td><td>ExprTuple</td><td>5, 5</td><td><a class=\"ProveItLink\" href=\"../53cd4c5ad99d49f1dd2daba2e4ef227137637f4c0/expr.ipynb\"><img src=\"data:image/png;base64,iVBORw0KGgoAAAANSUhEUgAAADUAAAAVBAMAAAAUZLt1AAAAMFBMVEX////c3NwiIiJERESqqqqY\n",
       "mJh2dnZmZmYQEBDu7u4yMjJUVFTMzMyIiIi6uroAAAAs73DqAAAAAXRSTlMAQObYZgAAAK1JREFU\n",
       "KM9jYMAH+C5gFY4DEacZ2JXAwAAsVgRmKzOwHwByVoJEeAqQtBwHkwsYGHgv4JALY2DgmIBDbgYD\n",
       "wysGHHLMDgxluOTYChiW4pJjWcDQh0uOr4HhHy45ng945VrwmGmKJDcBWY51AUM6Qo7zE5ofHkHk\n",
       "EkBy/QJgzjEwyfWAgUMAKbqQ2KAwY01AcFmRIzAXFkeYcpzAOGKQRvCRUwA3yHxG7GniDgMDAJEk\n",
       "LfwxNZicAAAAAElFTkSuQmCC\n",
       "\" style=\"display:inline;vertical-align:middle;\" /></a></td></tr>\n",
       "<tr><td>5</td><td>Literal</td><td></td><td><a class=\"ProveItLink\" href=\"../../../__pv_it/68a87cc3370287d726c7086ace789e680e4461c30/expr.ipynb\"><img src=\"data:image/png;base64,iVBORw0KGgoAAAANSUhEUgAAAA4AAAAOBAMAAADtZjDiAAAAFVBMVEX///92dnbMzMxEREQiIiJm\n",
       "ZmYAAABAT6GXAAAAAXRSTlMAQObYZgAAABhJREFUCNdjCHEBAWcGIFBlgABa0YpADAAxegPJJk4d\n",
       "XAAAAABJRU5ErkJggg==\n",
       "\" style=\"display:inline;vertical-align:middle;\" /></a></td></tr>\n",
       "</table>\n"
      ],
      "text/plain": [
       "0. (TRUE and TRUE , BOOLEANS)\n",
       "   core type: ExprTuple\n",
       "   sub-expressions: 1, 2\n",
       "1. TRUE and TRUE\n",
       "   core type: Operation\n",
       "   operator: 3\n",
       "   operands: 4\n",
       "2. BOOLEANS\n",
       "   core type: Literal\n",
       "   sub-expressions: \n",
       "3. and\n",
       "   core type: Literal\n",
       "   sub-expressions: \n",
       "4. (TRUE , TRUE)\n",
       "   core type: ExprTuple\n",
       "   sub-expressions: 5, 5\n",
       "5. TRUE\n",
       "   core type: Literal\n",
       "   sub-expressions: "
      ]
     },
     "execution_count": 4,
     "metadata": {},
     "output_type": "execute_result"
    }
   ],
   "source": [
    "# display the expression information\n",
    "expr.exprInfo()"
   ]
  },
  {
   "cell_type": "code",
   "execution_count": null,
   "metadata": {},
   "outputs": [],
   "source": []
  }
 ],
 "metadata": {
  "kernelspec": {
   "display_name": "Python 3",
   "language": "python",
   "name": "python3"
  }
 },
 "nbformat": 4,
 "nbformat_minor": 0
}
