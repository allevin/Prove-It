{
 "cells": [
  {
   "cell_type": "markdown",
   "metadata": {},
   "source": [
    "Expression of type <a class=\"ProveItLink\" href=\"../../../../../../../doc/html/api/proveit.Lambda.html\">Lambda</a>\n",
    "=======================\n",
    "# from context <a class=\"ProveItLink\" href=\"../../_context_.ipynb\">proveit.logic.boolean.conjunction</a>"
   ]
  },
  {
   "cell_type": "code",
   "execution_count": 1,
   "metadata": {},
   "outputs": [],
   "source": [
    "# import Expression classes needed to build the expression\n",
    "from proveit import Lambda\n",
    "from proveit._common_ import B\n",
    "from proveit.logic import And, Booleans, FALSE, InSet, Not"
   ]
  },
  {
   "cell_type": "code",
   "execution_count": 2,
   "metadata": {},
   "outputs": [
    {
     "data": {
      "text/html": [
       "<strong id=\"expr\">expr:</strong> <a class=\"ProveItLink\" href=\"expr.ipynb\"><img src=\"data:image/png;base64,iVBORw0KGgoAAAANSUhEUgAAAQ0AAAAVCAMAAABrPkt4AAAANlBMVEX///8UFBQNDQ2qqqru7u4i\n",
       "IiJ2dnbc3NyIiIjMzMxmZmYQEBC6uroyMjJERERUVFSYmJgAAAC3B9V0AAAAAXRSTlMAQObYZgAA\n",
       "ArNJREFUWMPVmNt65CAIgLPrWYOH93/ZzUxiGhAd03b6dbmhDS2QP4Losvx+EeaXJ7jau4YJySvW\n",
       "VfT6o++WUylpkwiTcV16bTD2dmDv9sdV8zTmstVQIhQIKorbLx/inkaZwwHytcH51mya/8OBoboZ\n",
       "r425bONjoUqQWr94G+rOFXvoNAPD2gkDRwPoMxI4H4lnPaIxme2TxmJXwrZdz9SdLXujykXP0Ahy\n",
       "wsDQcFGR/ySBZdgfV83TYLOVFtQmQGmIvCQ5/rbUXTyiqyBnWijMGBgaaaWrigauRY6KndLgsnWQ\n",
       "ZWdtmDh+ncbdvkYMxNMjfmGBOpHvLSBkaGnIzanCj2hg7bFmabTZLiZKvlKcyvHFF6butoqx1nqV\n",
       "P/6EZI0WG+ReD81DGnoze4FLlgQWgDVHg8l2iYbtG0qVEuyrtkHcHZUjVerRkOkSLuzZeXWKRoYe\n",
       "DfX8BEzJfgReA9YcDSZbGftd1ApkbLJu3NXKseUE9PePQhIuu1mzsdUpowxp5OdHSo4p2TOwK1hz\n",
       "NJhs11DzbLroQ+nRbNS4q1vLpUmrpgEuX6Wx7ydocGsCz9BgsmWnwZPGEkc0qDtXqaQiOjT8tS6D\n",
       "6NBABkpDHL+DuZQsDTxRKVy2Un2aRuOubrimQKdvONSJYu7QiKMuWikI3+z0H4EzYM3Q4LJdUh7Q\n",
       "eFaK7NBo3B2V48JlrsaNGLvSTX90jIHQcLEF3Qae2GG5bLfFsXZoZG8fkWVpl49j3Pm4n1qgu3E2\n",
       "Q5YaG462vXe22DSeOoFxgevJCR3IrjR62RqgR73nqS2qkMQ+3RbuXuD+yzMDuLlr2EixP9L5bGoy\n",
       "79yCJMB7Ck3gXbckWd81TIq2WH/n/UZe3iUzJ/pPiASs/xMaJt01TEkdeJP5fhp2eZ90L7bMF6Ja\n",
       "h/X5/MduAv8BhaslnPglFecAAAAASUVORK5CYII=\n",
       "\" style=\"display:inline;vertical-align:middle;\" /></a><br>"
      ],
      "text/plain": [
       "expr: B -> [not](FALSE and B) | B in BOOLEANS , [not](B)"
      ]
     },
     "execution_count": 2,
     "metadata": {},
     "output_type": "execute_result"
    }
   ],
   "source": [
    "# build up the expression from sub-expressions\n",
    "expr = Lambda(B, Not(And(FALSE, B)), conditions = [InSet(B, Booleans), Not(B)])"
   ]
  },
  {
   "cell_type": "code",
   "execution_count": 3,
   "metadata": {},
   "outputs": [
    {
     "name": "stdout",
     "output_type": "stream",
     "text": [
      "Passed sanity check: built 'expr' is the same as the stored Expression.\n"
     ]
    }
   ],
   "source": [
    "# check that the built expression is the same as the stored expression\n",
    "%check_expr"
   ]
  },
  {
   "cell_type": "code",
   "execution_count": 4,
   "metadata": {},
   "outputs": [
    {
     "data": {
      "text/html": [
       "<table><tr><th>&nbsp;</th><th>core type</th><th>sub-expressions</th><th>expression</th></tr>\n",
       "<tr><td>0</td><td>Lambda</td><td>parameter:&nbsp;12<br>body:&nbsp;1<br>conditions:&nbsp;2<br></td><td><a class=\"ProveItLink\" href=\"expr.ipynb\"><img src=\"data:image/png;base64,iVBORw0KGgoAAAANSUhEUgAAAQ0AAAAVCAMAAABrPkt4AAAANlBMVEX///8UFBQNDQ2qqqru7u4i\n",
       "IiJ2dnbc3NyIiIjMzMxmZmYQEBC6uroyMjJERERUVFSYmJgAAAC3B9V0AAAAAXRSTlMAQObYZgAA\n",
       "ArNJREFUWMPVmNt65CAIgLPrWYOH93/ZzUxiGhAd03b6dbmhDS2QP4Losvx+EeaXJ7jau4YJySvW\n",
       "VfT6o++WUylpkwiTcV16bTD2dmDv9sdV8zTmstVQIhQIKorbLx/inkaZwwHytcH51mya/8OBoboZ\n",
       "r425bONjoUqQWr94G+rOFXvoNAPD2gkDRwPoMxI4H4lnPaIxme2TxmJXwrZdz9SdLXujykXP0Ahy\n",
       "wsDQcFGR/ySBZdgfV83TYLOVFtQmQGmIvCQ5/rbUXTyiqyBnWijMGBgaaaWrigauRY6KndLgsnWQ\n",
       "ZWdtmDh+ncbdvkYMxNMjfmGBOpHvLSBkaGnIzanCj2hg7bFmabTZLiZKvlKcyvHFF6butoqx1nqV\n",
       "P/6EZI0WG+ReD81DGnoze4FLlgQWgDVHg8l2iYbtG0qVEuyrtkHcHZUjVerRkOkSLuzZeXWKRoYe\n",
       "DfX8BEzJfgReA9YcDSZbGftd1ApkbLJu3NXKseUE9PePQhIuu1mzsdUpowxp5OdHSo4p2TOwK1hz\n",
       "NJhs11DzbLroQ+nRbNS4q1vLpUmrpgEuX6Wx7ydocGsCz9BgsmWnwZPGEkc0qDtXqaQiOjT8tS6D\n",
       "6NBABkpDHL+DuZQsDTxRKVy2Un2aRuOubrimQKdvONSJYu7QiKMuWikI3+z0H4EzYM3Q4LJdUh7Q\n",
       "eFaK7NBo3B2V48JlrsaNGLvSTX90jIHQcLEF3Qae2GG5bLfFsXZoZG8fkWVpl49j3Pm4n1qgu3E2\n",
       "Q5YaG462vXe22DSeOoFxgevJCR3IrjR62RqgR73nqS2qkMQ+3RbuXuD+yzMDuLlr2EixP9L5bGoy\n",
       "79yCJMB7Ck3gXbckWd81TIq2WH/n/UZe3iUzJ/pPiASs/xMaJt01TEkdeJP5fhp2eZ90L7bMF6Ja\n",
       "h/X5/MduAv8BhaslnPglFecAAAAASUVORK5CYII=\n",
       "\" style=\"display:inline;vertical-align:middle;\" /></a></td></tr>\n",
       "<tr><td>1</td><td>Operation</td><td>operator:&nbsp;10<br>operand:&nbsp;3<br></td><td><a class=\"ProveItLink\" href=\"../aed4dcdda2f3bd22a453fcf7c03b3ec7141fa1d60/expr.ipynb\"><img src=\"data:image/png;base64,iVBORw0KGgoAAAANSUhEUgAAAFYAAAAVBAMAAAAutAQGAAAAMFBMVEX////c3NxERESqqqqYmJgQ\n",
       "EBDu7u4yMjKIiIi6urpUVFTMzMx2dnYiIiJmZmYAAABjE816AAAAAXRSTlMAQObYZgAAAT5JREFU\n",
       "KM9jYCALcDbgk2WZgMzbBSIYMTV4/V+1Sn0Cw2tksTIQwf0AxmVMgLGCGBj4fjKwIynlaEBVyw5j\n",
       "cf8A4l8MLAcQalkTUNVuugYz5CPQtX8Y2AIQaqczoKpd2QFlMAEV8YYxMCgj1L5BVctWwAtl8S9g\n",
       "YCwCWnoOobYEVS2PA58BhLV/RcdbByBtzvD2LhDcATIjUdXyMjAWQFj9Agxst4D0VETQ/kRV68HA\n",
       "sBrCUgWpBxq8H6faa9DIYWD4BcT+B1DUBqOoZQbS7AJgkS9AYr0BihtUUNSC1DE/gAUv43cgwx0a\n",
       "NQywIIGp3QQiLsCCd2sZA0qYzQXGOjBIYu/eVQDFBEgIFBt8+r9WLQeHZyVSHAsgJyRwCuREFkGO\n",
       "Y+S0gQ3wNKCnSdwgHZkjhV/tQmQOI948xLGBAQClR1X6sUA92gAAAABJRU5ErkJggg==\n",
       "\" style=\"display:inline;vertical-align:middle;\" /></a></td></tr>\n",
       "<tr><td>2</td><td>ExprTuple</td><td>4, 5</td><td><a class=\"ProveItLink\" href=\"../f0a30760a10638b323d1961075f2d592210ea2d30/expr.ipynb\"><img src=\"data:image/png;base64,iVBORw0KGgoAAAANSUhEUgAAAGwAAAAVBAMAAABRZRb3AAAAMFBMVEX////c3NwiIiJERESqqqqY\n",
       "mJh2dnZmZmYQEBDu7u4yMjJUVFTMzMyIiIi6uroAAAAs73DqAAAAAXRSTlMAQObYZgAAAcVJREFU\n",
       "OMtjYCAT8F0gVQfrAyBxGoij/+/ebfUARS7r8/oVyg5o6vf/3r15HQNDDZC9EiTQzMDA/g9VjcFb\n",
       "zpVpaPZwGDAw1D9g4GJg4AW5kecvEP9G18ZwjwtN23mg4vMbGFgTGDgmALm8H4Eu+AaWmbtISQum\n",
       "zZV7Aqq2+wIMDPEJDJwNDK9AXOYGBgamThCLZ+kEJNuE0WyzAGINoAIThjIQl38DA+NisHrhCQhH\n",
       "8qhaomkD+kMKJJbOsBTs5r13iwLAEoYIvz3S/4EWNzy/715XBTG8GPqgbubUBjE4DZCD5K4zhFmk\n",
       "BARqkCCYtAEo8ILhH8zN90HW8TUBFcCDhJkvAWHVaUgQ8H4FuQ6iDRT28SAlPBuQbWNmMEDRBgwC\n",
       "SICfZ2gBKQaZsB+UJDgV8Gk7D3QQ9xewI02h0cb4Cyy5FUUb0JETkLSBok1+AZAdBQxLiJtPgBMZ\n",
       "w6QHSNrCLzNwfoIHIzgIeLomgCPgETA12v/evWspRJJx+QF4UjbqdmDg7BeA218MTPCrwPG0joFD\n",
       "ADVuWHZBQxKWrwQwcw4wcbEmEMhcWMTYLkAzDmnaZgGxNH5t2PL+RlAgkFwo8B5gAAAxW4JGU1ap\n",
       "qgAAAABJRU5ErkJggg==\n",
       "\" style=\"display:inline;vertical-align:middle;\" /></a></td></tr>\n",
       "<tr><td>3</td><td>Operation</td><td>operator:&nbsp;6<br>operands:&nbsp;7<br></td><td><a class=\"ProveItLink\" href=\"../d70bec0bf8ae836788c786948dc6431ebd73b89a0/expr.ipynb\"><img src=\"data:image/png;base64,iVBORw0KGgoAAAANSUhEUgAAADYAAAAPBAMAAABdHiGLAAAAMFBMVEX///+qqqqYmJh2dna6urpU\n",
       "VFQyMjLu7u5EREQQEBAiIiJmZmbMzMyIiIjc3NwAAACSigvEAAAAAXRSTlMAQObYZgAAAMdJREFU\n",
       "GNNjYGBgeMuADlT/h4a2OYBYp2FCfAUw1gwGBu4vKHJsG6AMnr9A/BVF7sRyKIP3HwMD02cUuZC7\n",
       "UAbHBAYGrunIcuwJXFAWfwADX0YBshyzArcAhHU+9u4uBQZkOS4GvgQI6/4DBvalKHK6DAwxEFYn\n",
       "SF4BWQ7oyqMQFsj5+gZIcoxA37E9AHvvE5CIF0CSA4kzboB5j+8bsn0nQMQCmPdOpjMw7Fq1auWq\n",
       "VStAPgcJg3zP3f81NCwJJfDB4c6CJAAAtk823bZEI+EAAAAASUVORK5CYII=\n",
       "\" style=\"display:inline;vertical-align:middle;\" /></a></td></tr>\n",
       "<tr><td>4</td><td>Operation</td><td>operator:&nbsp;8<br>operands:&nbsp;9<br></td><td><a class=\"ProveItLink\" href=\"../41a86ef0ff9417c73c472e1bdfa161b308e2753e0/expr.ipynb\"><img src=\"data:image/png;base64,iVBORw0KGgoAAAANSUhEUgAAADcAAAAPBAMAAACy3Eq1AAAAMFBMVEX///+qqqru7u4iIiJ2dnbc\n",
       "3NyIiIjMzMxmZmYQEBC6uroyMjJERERUVFSYmJgAAADLUcuvAAAAAXRSTlMAQObYZgAAAOZJREFU\n",
       "GNNjYGB4+//u3dMLGJCB95/9O20EwMw5DAwcv1AkGQ4sY9rkAmKwfwPiv+iSDFncIAbbVwYGvi9g\n",
       "MbXNxtYwSTleBSCDZwIDA/MksBn7FJB0xoAY/BcYWPeARWMUEMay2x0CMeqvpTU/AAsdRdi52P5n\n",
       "AoiRH8DAZAtiMB1AdlCaDIhxEqQApJVrsrExwkE8XA5ABsgX70EM9gvIOnkYgAax/wNy7oOCg8kA\n",
       "QxLkTdbfYKF7KJIgY0HerNwEFlJegCT5IgcYquf/3r29DyLEuqMAHvCH5wqghigD422oayEAAEv1\n",
       "Sz0foy5uAAAAAElFTkSuQmCC\n",
       "\" style=\"display:inline;vertical-align:middle;\" /></a></td></tr>\n",
       "<tr><td>5</td><td>Operation</td><td>operator:&nbsp;10<br>operand:&nbsp;12<br></td><td><a class=\"ProveItLink\" href=\"../1da4e2fe7c44632f084fa27ea32e26dc689384c20/expr.ipynb\"><img src=\"data:image/png;base64,iVBORw0KGgoAAAANSUhEUgAAAB0AAAAOBAMAAAAh/woJAAAAMFBMVEX///+qqqru7u7c3NyIiIgQ\n",
       "EBC6uroyMjJERESYmJhUVFTMzMx2dnYiIiJmZmYAAADtoHoAAAAAAXRSTlMAQObYZgAAAHpJREFU\n",
       "CNdjYIACzvW/Vq0oY0AA1gYGhvcJCP5+ByBegOD7GzAwzD+A4LcC8VUFBP8XA4N5E4LL/cvF7yaQ\n",
       "fnsXCO4wMLB8ZmDQhRm3i4GBIwAo9hPB5wfKcf5B8PdPYGDg+ojgg6y3L4AZDraeOxxh/Yv/q1aV\n",
       "A7UAAFRxJOZ+1MVPAAAAAElFTkSuQmCC\n",
       "\" style=\"display:inline;vertical-align:middle;\" /></a></td></tr>\n",
       "<tr><td>6</td><td>Literal</td><td></td><td><a class=\"ProveItLink\" href=\"../76b5f4f4c45c0b6a9b59b297fc07dfa9555698f50/expr.ipynb\"><img src=\"data:image/png;base64,iVBORw0KGgoAAAANSUhEUgAAAAwAAAAOBAMAAADpk+DfAAAALVBMVEX///+qqqqYmJh2dnaIiIi6\n",
       "urpUVFQiIiJERETMzMxmZmYyMjLu7u7c3NwAAABvwqPxAAAAAXRSTlMAQObYZgAAAEtJREFUCNdj\n",
       "YGDgPcAAAtwLwNSMGjCV6gIieTawgyhmBS4BIMXOwLsBSKkwMGQCKaC6aQwMjEBd3BdACMScAVJd\n",
       "wJAKolwYAkAUKwAk0guX6efcigAAAABJRU5ErkJggg==\n",
       "\" style=\"display:inline;vertical-align:middle;\" /></a></td></tr>\n",
       "<tr><td>7</td><td>ExprTuple</td><td>11, 12</td><td><a class=\"ProveItLink\" href=\"../32fa11e0d460a97a7d19a4fd36e0b53258163d570/expr.ipynb\"><img src=\"data:image/png;base64,iVBORw0KGgoAAAANSUhEUgAAADYAAAAVBAMAAAD/UwB2AAAAMFBMVEX////c3NwiIiJERESqqqqY\n",
       "mJh2dnZmZmYQEBDu7u4yMjJUVFTMzMyIiIi6uroAAAAs73DqAAAAAXRSTlMAQObYZgAAAPtJREFU\n",
       "KM9jYMAH+C5gFWZ9ACROg1iMCAWs+3/v3ryOgaEGyF4JEuApQOjgMGBgqH/AwMXAwHsBXe48UOT8\n",
       "BgbWBAaOCehy9wUYGOITGDgbGF4xoMtZALEGUIcJQxmG3G8GBilLIJ3OsBRdjuf33euqIIYXQx+6\n",
       "HO9HBoZJG4CMFwz/0OWYG4DyX0HuxZTjB+ph/QaWa0GXOx/AwMD9BWymKZLcBJj35BcAGVFAl8Ll\n",
       "OD9BvcfTNQHsh0cMDOxKSkpNSkoGnP1ALcX/d+9eFQBStI6BQwApupDYoDADBikiepAjkO0CNI6w\n",
       "yM0CYmkEFyUFbESNcmTAe4ABAJ4xQRO/+5dLAAAAAElFTkSuQmCC\n",
       "\" style=\"display:inline;vertical-align:middle;\" /></a></td></tr>\n",
       "<tr><td>8</td><td>Literal</td><td></td><td><a class=\"ProveItLink\" href=\"../../../../set_theory/membership/__pv_it/088cbc857536a28d4119ad9639a84270ccb0545d0/expr.ipynb\"><img src=\"data:image/png;base64,iVBORw0KGgoAAAANSUhEUgAAAAwAAAAMBAMAAACkW0HUAAAALVBMVEX///+qqqpmZmZUVFQQEBC6\n",
       "urpERETc3NyYmJjMzMwiIiIyMjKIiIju7u4AAACYsrA9AAAAAXRSTlMAQObYZgAAADxJREFUCNdj\n",
       "YOA9vWrVBgaG2b0MQMCeCyIZ2ArA1DUwyRCyahVIyWQI7xaEYm4AU7xLIdxqTQgtvGvVBgCkcQ7e\n",
       "geM/tQAAAABJRU5ErkJggg==\n",
       "\" style=\"display:inline;vertical-align:middle;\" /></a></td></tr>\n",
       "<tr><td>9</td><td>ExprTuple</td><td>12, 13</td><td><a class=\"ProveItLink\" href=\"../46fef8cd01e90537d7ca36d1ba2c809996ed4b3a0/expr.ipynb\"><img src=\"data:image/png;base64,iVBORw0KGgoAAAANSUhEUgAAADQAAAAVBAMAAAD7ptBLAAAAMFBMVEX////c3NwiIiJERESqqqqY\n",
       "mJh2dnZmZmYQEBDu7u4yMjJUVFTMzMyIiIi6uroAAAAs73DqAAAAAXRSTlMAQObYZgAAASVJREFU\n",
       "KM9jYMAD+C5gE2V9ACROA3H0/927rR6AxbI+r1+h7MDAUANkrwQJNDMwsP+DqDd4y7kyjYGBi4GB\n",
       "F2Qez18g/g2TYrgHFGdNYOCYAOTyfgSyv8GlXLknMHA2MLwCcZkbGBiYOhG6hIG0CUMZiMu/gYFx\n",
       "8QSYFI+qJZBOZ1gK4p7fe7coAOpsg0f6P0D2ezH0gbj3BRg4tRngBt51BtIvGMBOtgBJB8ClmPkS\n",
       "gCZBpEDujk9ASDEYgKRaQN76CiT2O6BKvWAwhXqL8RcDAyeygVFAN0K8dQIYYPMVIFLhl8GOfwQM\n",
       "Pfvfu3eBPDHjIzh4jbpBZq9j4BBAioqHCCYwoFgTkKQCEEy2C9BIwZSaBcTSCC4vkqqNQMyINQHw\n",
       "HmAAAHCOVkQeB6BvAAAAAElFTkSuQmCC\n",
       "\" style=\"display:inline;vertical-align:middle;\" /></a></td></tr>\n",
       "<tr><td>10</td><td>Literal</td><td></td><td><a class=\"ProveItLink\" href=\"../../../negation/__pv_it/7bea79645543c2413aa17e787cca04e21046fde60/expr.ipynb\"><img src=\"data:image/png;base64,iVBORw0KGgoAAAANSUhEUgAAAAwAAAAGBAMAAAAFwGKyAAAAFVBMVEX///9UVFTMzMx2dnYiIiJm\n",
       "ZmYAAACWz4ZEAAAAAXRSTlMAQObYZgAAABRJREFUCNdjCHEBAmcGMFDEQzEBAEl+Ai6uYJv/AAAA\n",
       "AElFTkSuQmCC\n",
       "\" style=\"display:inline;vertical-align:middle;\" /></a></td></tr>\n",
       "<tr><td>11</td><td>Literal</td><td></td><td><a class=\"ProveItLink\" href=\"../../../__pv_it/8f1f7fac882de28c72b62ab80a1700b6d8fd066b0/expr.ipynb\"><img src=\"data:image/png;base64,iVBORw0KGgoAAAANSUhEUgAAAA4AAAAOBAMAAADtZjDiAAAAG1BMVEX///9EREQQEBAiIiJmZmbM\n",
       "zMyIiIjc3NwAAACryk5kAAAAAXRSTlMAQObYZgAAABlJREFUCNdjYGBgKGOAgBBa0s7GxkbGxoYA\n",
       "FMUF2aBfHgoAAAAASUVORK5CYII=\n",
       "\" style=\"display:inline;vertical-align:middle;\" /></a></td></tr>\n",
       "<tr><td>12</td><td>Variable</td><td></td><td><a class=\"ProveItLink\" href=\"../../../../../__pv_it/077b2ff79244fb4582cbe22c6e3356fa92a52f2f0/expr.ipynb\"><img src=\"data:image/png;base64,iVBORw0KGgoAAAANSUhEUgAAABAAAAAOBAMAAADUAYG5AAAAMFBMVEX///+qqqru7u4iIiJ2dnbc\n",
       "3NyIiIjMzMxmZmYQEBC6uroyMjJERERUVFSYmJgAAADLUcuvAAAAAXRSTlMAQObYZgAAAGpJREFU\n",
       "CNdjYGB4+//u3dMLGIBgDgMDxy8gzf4NiP8CGWxfGRj4vgAZPBMYGJgnARn8FxhY9ygAGfXX0pof\n",
       "gDTlBzAw2YIYJ0EckBBI53sHoBH/gIz7AhBjWH9DjancBLTl/N+7t/cxMAAA3u4f/5xagjYAAAAA\n",
       "SUVORK5CYII=\n",
       "\" style=\"display:inline;vertical-align:middle;\" /></a></td></tr>\n",
       "<tr><td>13</td><td>Literal</td><td></td><td><a class=\"ProveItLink\" href=\"../../../__pv_it/46271c8230be96415d662709611f4ed2279d702b0/expr.ipynb\"><img src=\"data:image/png;base64,iVBORw0KGgoAAAANSUhEUgAAAA0AAAAOBAMAAAAGUYvhAAAAMFBMVEX///9mZmbMzMzc3NxUVFSY\n",
       "mJju7u6IiIi6urqqqqoiIiIQEBBEREQyMjJ2dnYAAAAQvcRZAAAAAXRSTlMAQObYZgAAAElJREFU\n",
       "CNdjePvn/u01ExgYGA60s117B6YZKngh9FSWBAjfBsxnWnoMRHet/10AkS+fA6F5OB5AaIYDqDRU\n",
       "PLCGgQFoz6ktExgAgLIl8DFvGtkAAAAASUVORK5CYII=\n",
       "\" style=\"display:inline;vertical-align:middle;\" /></a></td></tr>\n",
       "</table>\n"
      ],
      "text/plain": [
       "0. B -> [not](FALSE and B) | B in BOOLEANS , [not](B)\n",
       "   core type: Lambda\n",
       "   parameter: 12\n",
       "   body: 1\n",
       "   conditions: 2\\n1. [not](FALSE and B)\n",
       "   core type: Operation\n",
       "   operator: 10\n",
       "   operand: 3\n",
       "2. (B in BOOLEANS , [not](B))\n",
       "   core type: ExprTuple\n",
       "   sub-expressions: 4, 5\n",
       "3. FALSE and B\n",
       "   core type: Operation\n",
       "   operator: 6\n",
       "   operands: 7\n",
       "4. B in BOOLEANS\n",
       "   core type: Operation\n",
       "   operator: 8\n",
       "   operands: 9\n",
       "5. [not](B)\n",
       "   core type: Operation\n",
       "   operator: 10\n",
       "   operand: 12\n",
       "6. and\n",
       "   core type: Literal\n",
       "   sub-expressions: \n",
       "7. (FALSE , B)\n",
       "   core type: ExprTuple\n",
       "   sub-expressions: 11, 12\n",
       "8. in\n",
       "   core type: Literal\n",
       "   sub-expressions: \n",
       "9. (B , BOOLEANS)\n",
       "   core type: ExprTuple\n",
       "   sub-expressions: 12, 13\n",
       "10. not\n",
       "    core type: Literal\n",
       "    sub-expressions: \n",
       "11. FALSE\n",
       "    core type: Literal\n",
       "    sub-expressions: \n",
       "12. B\n",
       "    core type: Variable\n",
       "    sub-expressions: \n",
       "13. BOOLEANS\n",
       "    core type: Literal\n",
       "    sub-expressions: "
      ]
     },
     "execution_count": 4,
     "metadata": {},
     "output_type": "execute_result"
    }
   ],
   "source": [
    "# display the expression information\n",
    "expr.exprInfo()"
   ]
  },
  {
   "cell_type": "code",
   "execution_count": null,
   "metadata": {},
   "outputs": [],
   "source": []
  }
 ],
 "metadata": {
  "kernelspec": {
   "display_name": "Python 3",
   "language": "python",
   "name": "python3"
  }
 },
 "nbformat": 4,
 "nbformat_minor": 0
}
