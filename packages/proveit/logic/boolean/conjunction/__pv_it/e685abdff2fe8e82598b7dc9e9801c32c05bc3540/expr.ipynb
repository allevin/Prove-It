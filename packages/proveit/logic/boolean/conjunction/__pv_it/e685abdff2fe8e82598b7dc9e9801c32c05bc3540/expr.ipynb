{
 "cells": [
  {
   "cell_type": "markdown",
   "metadata": {},
   "source": [
    "Expression of type <a class=\"ProveItLink\" href=\"../../../../../../../doc/html/api/proveit.ExprTuple.html\">ExprTuple</a>\n",
    "=======================\n",
    "# from context <a class=\"ProveItLink\" href=\"../../_context_.ipynb\">proveit.logic.boolean.conjunction</a>"
   ]
  },
  {
   "cell_type": "code",
   "execution_count": 1,
   "metadata": {},
   "outputs": [],
   "source": [
    "# import Expression classes needed to build the expression\n",
    "from proveit import ExprTuple\n",
    "from proveit._common_ import S, d\n",
    "from proveit.logic import InSet"
   ]
  },
  {
   "cell_type": "code",
   "execution_count": 2,
   "metadata": {},
   "outputs": [
    {
     "data": {
      "text/html": [
       "<strong id=\"expr\">expr:</strong> <a class=\"ProveItLink\" href=\"expr.ipynb\"><img src=\"data:image/png;base64,iVBORw0KGgoAAAANSUhEUgAAAD4AAAAVBAMAAADshECCAAAAMFBMVEX////c3NwiIiJERESqqqqY\n",
       "mJh2dnZmZmYQEBDu7u4yMjJUVFTMzMyIiIi6uroAAAAs73DqAAAAAXRSTlMAQObYZgAAAUpJREFU\n",
       "KM9jYCAE+C7glGJ9ACROgxVZFKDJRZdXxjHUABkrwVx+B1RprgCGyR8YuBgYeCHGv5+AKr+NgYFl\n",
       "AQNrAgMHRCIJTM5dpKQFZjD+YWDgucDA2cDwCqJ+OYjgWQozhe8LkHeAgcGEoQykem/eF5CoMNwS\n",
       "xv93wHQ6w1Ig+UKA+SeIZ4iw//7/zwJAyouhD6j4KwP7AiCH0wAhzxjd3wnSyfCPgYH7AwNTAsjS\n",
       "JiUlqPuAgO0rkDgPkuc3YJgPCimeDXDtAUDTIPItDAzyFxj8GYBO41SASXMCQ5PxI9h8UwaG+Q4M\n",
       "u1iAnmHYCpMHBg0DO8i0KKAPgGHJos4GEp70ACrPrsvAcBniv0cg7987fA/s6OUHIPLcfLs3B4AY\n",
       "6xg4BJBCnWUXwv1gdzSAogA3YLsAi1/sYBYQS+OR3whyFO70xXuAAQA2Sk1lwnHPWAAAAABJRU5E\n",
       "rkJggg==\n",
       "\" style=\"display:inline;vertical-align:middle;\" /></a><br>"
      ],
      "text/plain": [
       "expr: (d in S)"
      ]
     },
     "execution_count": 2,
     "metadata": {},
     "output_type": "execute_result"
    }
   ],
   "source": [
    "# build up the expression from sub-expressions\n",
    "expr = ExprTuple(InSet(d, S))"
   ]
  },
  {
   "cell_type": "code",
   "execution_count": 3,
   "metadata": {},
   "outputs": [
    {
     "name": "stdout",
     "output_type": "stream",
     "text": [
      "Passed sanity check: built 'expr' is the same as the stored Expression.\n"
     ]
    }
   ],
   "source": [
    "# check that the built expression is the same as the stored expression\n",
    "%check_expr"
   ]
  },
  {
   "cell_type": "code",
   "execution_count": 4,
   "metadata": {},
   "outputs": [
    {
     "data": {
      "text/html": [
       "<table><tr><th>&nbsp;</th><th>core type</th><th>sub-expressions</th><th>expression</th></tr>\n",
       "<tr><td>0</td><td>ExprTuple</td><td>1</td><td><a class=\"ProveItLink\" href=\"expr.ipynb\"><img src=\"data:image/png;base64,iVBORw0KGgoAAAANSUhEUgAAAD4AAAAVBAMAAADshECCAAAAMFBMVEX////c3NwiIiJERESqqqqY\n",
       "mJh2dnZmZmYQEBDu7u4yMjJUVFTMzMyIiIi6uroAAAAs73DqAAAAAXRSTlMAQObYZgAAAUpJREFU\n",
       "KM9jYCAE+C7glGJ9ACROgxVZFKDJRZdXxjHUABkrwVx+B1RprgCGyR8YuBgYeCHGv5+AKr+NgYFl\n",
       "AQNrAgMHRCIJTM5dpKQFZjD+YWDgucDA2cDwCqJ+OYjgWQozhe8LkHeAgcGEoQykem/eF5CoMNwS\n",
       "xv93wHQ6w1Ig+UKA+SeIZ4iw//7/zwJAyouhD6j4KwP7AiCH0wAhzxjd3wnSyfCPgYH7AwNTAsjS\n",
       "JiUlqPuAgO0rkDgPkuc3YJgPCimeDXDtAUDTIPItDAzyFxj8GYBO41SASXMCQ5PxI9h8UwaG+Q4M\n",
       "u1iAnmHYCpMHBg0DO8i0KKAPgGHJos4GEp70ACrPrsvAcBniv0cg7987fA/s6OUHIPLcfLs3B4AY\n",
       "6xg4BJBCnWUXwv1gdzSAogA3YLsAi1/sYBYQS+OR3whyFO70xXuAAQA2Sk1lwnHPWAAAAABJRU5E\n",
       "rkJggg==\n",
       "\" style=\"display:inline;vertical-align:middle;\" /></a></td></tr>\n",
       "<tr><td>1</td><td>Operation</td><td>operator:&nbsp;2<br>operands:&nbsp;3<br></td><td><a class=\"ProveItLink\" href=\"../ef8c1a68e3c70dbd9f32ef0d93f44c1ba1b7326e0/expr.ipynb\"><img src=\"data:image/png;base64,iVBORw0KGgoAAAANSUhEUgAAADIAAAAPBAMAAABU9YHxAAAAMFBMVEX////MzMyYmJiIiIhUVFTc\n",
       "3NwyMjIiIiJ2dnbu7u6qqqpmZmYQEBBERES6uroAAABkyy6XAAAAAXRSTlMAQObYZgAAAOVJREFU\n",
       "GNNjYGBg4LuzgQEVqOzeqQdm8C9AlWBTYJj7Acx6PwFVxoOBgSsBzGoHk5PTy8vADNaPDAyMBmBm\n",
       "NohgTILp5PsF5AkAVTj3/QLxY+FGsv43BNNvAnh/guirCHvs//8NACr4xMANso3zAkKGVeX8SQYG\n",
       "lg8M7A0gw4+Xl0NdAAQcn4B+ucAw/wHIAQ5wLQpAE4Ay8QYM6xmAlnMWwCQ4gSHC+pWBYf4CBjcu\n",
       "oBMZnGAyIE9yO4BCgquaAyQw/QFUhruYgcEW5A5nO1k7sIOyBSAyLHwuvgooocXlhnAbEAAA+LMx\n",
       "RVIZXQ8AAAAASUVORK5CYII=\n",
       "\" style=\"display:inline;vertical-align:middle;\" /></a></td></tr>\n",
       "<tr><td>2</td><td>Literal</td><td></td><td><a class=\"ProveItLink\" href=\"../../../../set_theory/membership/__pv_it/088cbc857536a28d4119ad9639a84270ccb0545d0/expr.ipynb\"><img src=\"data:image/png;base64,iVBORw0KGgoAAAANSUhEUgAAAAwAAAAMBAMAAACkW0HUAAAALVBMVEX///+qqqpmZmZUVFQQEBC6\n",
       "urpERETc3NyYmJjMzMwiIiIyMjKIiIju7u4AAACYsrA9AAAAAXRSTlMAQObYZgAAADxJREFUCNdj\n",
       "YOA9vWrVBgaG2b0MQMCeCyIZ2ArA1DUwyRCyahVIyWQI7xaEYm4AU7xLIdxqTQgtvGvVBgCkcQ7e\n",
       "geM/tQAAAABJRU5ErkJggg==\n",
       "\" style=\"display:inline;vertical-align:middle;\" /></a></td></tr>\n",
       "<tr><td>3</td><td>ExprTuple</td><td>4, 5</td><td><a class=\"ProveItLink\" href=\"../a742d05bae802371565614796ee14da4ef628c540/expr.ipynb\"><img src=\"data:image/png;base64,iVBORw0KGgoAAAANSUhEUgAAAC4AAAAVBAMAAADLKsFqAAAAMFBMVEX////c3NwiIiJERESqqqqY\n",
       "mJh2dnZmZmYQEBDu7u4yMjJUVFTMzMyIiIi6uroAAAAs73DqAAAAAXRSTlMAQObYZgAAASRJREFU\n",
       "GNNjYMAF+C5gCLE+ABKnwZIWBVCx6PLKOIYaIGMlmMvvABHmCmCY/IGBi4GBF2LM+wkQ8W0MDCwL\n",
       "GFgTGDggAkkQYcY/DAw8Fxg4GxheQQSWQx3xBSh+gIHBhKEMpGpv3heo+v93wHQ6w1Ig+UKA+SfU\n",
       "Off/fxYAUl4MfUBFXxnYF0DFGaP7O0EqGf4xMHB/YGBKgHuK7SuQOA8S5zdgmP8AIhjAwMAJEW9h\n",
       "YJC/wODPAHYuJ9DXjB/B5pgyMMx3YNjFcoCTAewlBvYNQEYU0EVAv7OoszHMVwCK6TIwXIa48xHI\n",
       "+fcO32OYAdTPzbd7cwBIfB0DhwDMIQ8RAQ0MB1a4CwMQ4mwXYOGMKj4LiKWhbF6kCNsI8jlmPPIe\n",
       "YAAADChGzeXMoJoAAAAASUVORK5CYII=\n",
       "\" style=\"display:inline;vertical-align:middle;\" /></a></td></tr>\n",
       "<tr><td>4</td><td>Variable</td><td></td><td><a class=\"ProveItLink\" href=\"../../../../../__pv_it/3a5de44ed6135dbbdbbeec6704c741e238f127300/expr.ipynb\"><img src=\"data:image/png;base64,iVBORw0KGgoAAAANSUhEUgAAAAsAAAAOBAMAAAALT/umAAAAMFBMVEX////MzMyYmJiIiIhUVFTc\n",
       "3NwyMjIiIiJ2dnbu7u6qqqpmZmYQEBBERES6uroAAABkyy6XAAAAAXRSTlMAQObYZgAAAFhJREFU\n",
       "CNdjYGBg4LuzgQEE+BeAqfcTwFQ7mGTIBmJW575fQOpNAO9PIOcTA3cCAwPLBwb2BqCeCwzzHzAw\n",
       "xBswrGeYwDB/AYMblwADmwJXNQdIm52sHQMAfyoTCZukXIEAAAAASUVORK5CYII=\n",
       "\" style=\"display:inline;vertical-align:middle;\" /></a></td></tr>\n",
       "<tr><td>5</td><td>Variable</td><td></td><td><a class=\"ProveItLink\" href=\"../../../../../__pv_it/abeee18594afe51bfb1be95d9591fbba24ac53f30/expr.ipynb\"><img src=\"data:image/png;base64,iVBORw0KGgoAAAANSUhEUgAAAA0AAAAOBAMAAAAGUYvhAAAAMFBMVEX///8iIiIQEBCIiIjMzMzc\n",
       "3Nyqqqp2dnZEREQyMjK6urru7u5mZmZUVFSYmJgAAACI6eGPAAAAAXRSTlMAQObYZgAAAF1JREFU\n",
       "CNdjYGDgu3Nm3wIGBoZ5DNz9QIq3gIEhE0jHOzAwOAPp9QkMDC4g/megABAw///fCmbEXfq0Acxg\n",
       "qH8ANAVI7wfSe0BKAyBGnAXigwYMzA1A+sLau31ACgAz0hhbkhGHbwAAAABJRU5ErkJggg==\n",
       "\" style=\"display:inline;vertical-align:middle;\" /></a></td></tr>\n",
       "</table>\n"
      ],
      "text/plain": [
       "0. (d in S)\n",
       "   core type: ExprTuple\n",
       "   sub-expressions: 1\n",
       "1. d in S\n",
       "   core type: Operation\n",
       "   operator: 2\n",
       "   operands: 3\n",
       "2. in\n",
       "   core type: Literal\n",
       "   sub-expressions: \n",
       "3. (d , S)\n",
       "   core type: ExprTuple\n",
       "   sub-expressions: 4, 5\n",
       "4. d\n",
       "   core type: Variable\n",
       "   sub-expressions: \n",
       "5. S\n",
       "   core type: Variable\n",
       "   sub-expressions: "
      ]
     },
     "execution_count": 4,
     "metadata": {},
     "output_type": "execute_result"
    }
   ],
   "source": [
    "# display the expression information\n",
    "expr.exprInfo()"
   ]
  },
  {
   "cell_type": "code",
   "execution_count": null,
   "metadata": {},
   "outputs": [],
   "source": []
  }
 ],
 "metadata": {
  "kernelspec": {
   "display_name": "Python 3",
   "language": "python",
   "name": "python3"
  }
 },
 "nbformat": 4,
 "nbformat_minor": 0
}
