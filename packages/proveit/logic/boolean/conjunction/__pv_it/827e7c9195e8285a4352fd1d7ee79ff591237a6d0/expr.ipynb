{
 "cells": [
  {
   "cell_type": "markdown",
   "metadata": {},
   "source": [
    "Expression of type <a class=\"ProveItLink\" href=\"../../../../../../../doc/html/api/proveit.logic.Equals.html\">Equals</a>\n",
    "=======================\n",
    "# from context <a class=\"ProveItLink\" href=\"../../_context_.ipynb\">proveit.logic.boolean.conjunction</a>"
   ]
  },
  {
   "cell_type": "code",
   "execution_count": 1,
   "metadata": {},
   "outputs": [],
   "source": [
    "# import Expression classes needed to build the expression\n",
    "from proveit.logic import And, Equals, FALSE, TRUE\n",
    "from proveit.logic.boolean.disjunction._theorems_ import trueOrFalse"
   ]
  },
  {
   "cell_type": "code",
   "execution_count": 2,
   "metadata": {},
   "outputs": [
    {
     "data": {
      "text/html": [
       "<strong id=\"expr\">expr:</strong> <a class=\"ProveItLink\" href=\"expr.ipynb\"><img src=\"data:image/png;base64,iVBORw0KGgoAAAANSUhEUgAAAM4AAAAVBAMAAAD8yMwbAAAAMFBMVEX////c3NwiIiJERESqqqqY\n",
       "mJh2dnZmZmYQEBDu7u4yMjJUVFTMzMyIiIi6uroAAAAs73DqAAAAAXRSTlMAQObYZgAAAdBJREFU\n",
       "SMe9lbFLw0AUxl+rbdo0rZ0VQXSxWxHduxWcOjkIQhfpWkScHFRcXCRzpzqI6CB1l1IoKuJg/gEh\n",
       "OIngvyBe7pL0vrtrShYfNK/9+O79eq/Xd0T/FRXPrP8kLcr56XQWb2St8qiD7AzogMtrij/Dv9ex\n",
       "VmeaTrTMn7e8aje2uyLbPL+Ee+bPEU2stmJXdTl4kbKHHDt890ESpzSKnaE110a7qmucgouccU3k\n",
       "C5njBD3NulK94gnaVV3jfBNyhmIjlb7MoSv2asr1aBPsmq5xjpBT7Gd5ttrAaYasibUDdlXXOdfI\n",
       "ybesBu97CzisZ04d6m2DXdGtOx4DiXOJnCxleMcKPnDYGSj5UO8L7Kqu7+cXOXtEj0FeQA6tUA/r\n",
       "vYNd1WdyasEf18A5pH1Tvcg+m3MOnHmW7WrQtwZyFtmO9P7EdkXHCcOLbAEnWBQspjk8B1R68pCz\n",
       "C3ZFN+ynA5yx+C3YQeoix9lwDec3ts8+15/CFI6LYTRyKmL1c2y+oaghZ7wh92BXdCnYMF4PhnGh\n",
       "Kqt+PDVPFf8rfhTzZWJH3XRjtM36TvKtlffS6eG9oIftJnJ6KXWiJbOcGSRyHlLq0T047RacEuVR\n",
       "Op3+AMx5h3AT53vdAAAAAElFTkSuQmCC\n",
       "\" style=\"display:inline;vertical-align:middle;\" /></a><br>"
      ],
      "text/plain": [
       "expr: (TRUE and (TRUE or FALSE) and FALSE) = FALSE"
      ]
     },
     "execution_count": 2,
     "metadata": {},
     "output_type": "execute_result"
    }
   ],
   "source": [
    "# build up the expression from sub-expressions\n",
    "expr = Equals(And(TRUE, trueOrFalse.expr, FALSE), FALSE)"
   ]
  },
  {
   "cell_type": "code",
   "execution_count": 3,
   "metadata": {},
   "outputs": [
    {
     "name": "stdout",
     "output_type": "stream",
     "text": [
      "Passed sanity check: built 'expr' is the same as the stored Expression.\n"
     ]
    }
   ],
   "source": [
    "# check that the built expression is the same as the stored expression\n",
    "%check_expr"
   ]
  },
  {
   "cell_type": "code",
   "execution_count": 4,
   "metadata": {},
   "outputs": [
    {
     "data": {
      "text/html": [
       "<table><tr><th>&nbsp;</th><th>core type</th><th>sub-expressions</th><th>expression</th></tr>\n",
       "<tr><td>0</td><td>Operation</td><td>operator:&nbsp;1<br>operands:&nbsp;2<br></td><td><a class=\"ProveItLink\" href=\"expr.ipynb\"><img src=\"data:image/png;base64,iVBORw0KGgoAAAANSUhEUgAAAM4AAAAVBAMAAAD8yMwbAAAAMFBMVEX////c3NwiIiJERESqqqqY\n",
       "mJh2dnZmZmYQEBDu7u4yMjJUVFTMzMyIiIi6uroAAAAs73DqAAAAAXRSTlMAQObYZgAAAdBJREFU\n",
       "SMe9lbFLw0AUxl+rbdo0rZ0VQXSxWxHduxWcOjkIQhfpWkScHFRcXCRzpzqI6CB1l1IoKuJg/gEh\n",
       "OIngvyBe7pL0vrtrShYfNK/9+O79eq/Xd0T/FRXPrP8kLcr56XQWb2St8qiD7AzogMtrij/Dv9ex\n",
       "VmeaTrTMn7e8aje2uyLbPL+Ee+bPEU2stmJXdTl4kbKHHDt890ESpzSKnaE110a7qmucgouccU3k\n",
       "C5njBD3NulK94gnaVV3jfBNyhmIjlb7MoSv2asr1aBPsmq5xjpBT7Gd5ttrAaYasibUDdlXXOdfI\n",
       "ybesBu97CzisZ04d6m2DXdGtOx4DiXOJnCxleMcKPnDYGSj5UO8L7Kqu7+cXOXtEj0FeQA6tUA/r\n",
       "vYNd1WdyasEf18A5pH1Tvcg+m3MOnHmW7WrQtwZyFtmO9P7EdkXHCcOLbAEnWBQspjk8B1R68pCz\n",
       "C3ZFN+ynA5yx+C3YQeoix9lwDec3ts8+15/CFI6LYTRyKmL1c2y+oaghZ7wh92BXdCnYMF4PhnGh\n",
       "Kqt+PDVPFf8rfhTzZWJH3XRjtM36TvKtlffS6eG9oIftJnJ6KXWiJbOcGSRyHlLq0T047RacEuVR\n",
       "Op3+AMx5h3AT53vdAAAAAElFTkSuQmCC\n",
       "\" style=\"display:inline;vertical-align:middle;\" /></a></td></tr>\n",
       "<tr><td>1</td><td>Literal</td><td></td><td><a class=\"ProveItLink\" href=\"../../../../equality/__pv_it/2fb26078095930560931daa0500ce419a39ea6cd0/expr.ipynb\"><img src=\"data:image/png;base64,iVBORw0KGgoAAAANSUhEUgAAAA4AAAAFBAMAAACHocAhAAAAFVBMVEX///9EREQiIiJUVFQyMjJm\n",
       "ZmYAAADubVkoAAAAAXRSTlMAQObYZgAAABRJREFUCNdjCHEBAWcGXCBICQQUAUpuAwlgGKrkAAAA\n",
       "AElFTkSuQmCC\n",
       "\" style=\"display:inline;vertical-align:middle;\" /></a></td></tr>\n",
       "<tr><td>2</td><td>ExprTuple</td><td>3, 10</td><td><a class=\"ProveItLink\" href=\"../4c033938a66592596270ff782a13492e527a62f10/expr.ipynb\"><img src=\"data:image/png;base64,iVBORw0KGgoAAAANSUhEUgAAALsAAAAVBAMAAADsqILHAAAAMFBMVEX////c3NwiIiJERESqqqqY\n",
       "mJh2dnZmZmYQEBDu7u4yMjJUVFTMzMyIiIi6uroAAAAs73DqAAAAAXRSTlMAQObYZgAAAdFJREFU\n",
       "OMu1lT1Lw2AQgN/0K81HY2alILrYrQju3bp26qZ0ESehiDiruLhoxuIUB5Fu/QEiQlERl/wAheAo\n",
       "COIPEN+PJL17e027GGiuvXvuafImuTD2z5sX0fmv3K6dBcySeWXmmtyaqOaO2IFMr+tddbEzH/S0\n",
       "EZHMUMr6GRWoaMv4nJyh3CdGlQsxDhWQqUW4Ziff3gHGHGGuRbC1i3FSz5lqgGvjhornUO+KhSsE\n",
       "sHWAcVLPmU+tdq8O2wuhnl3zTxu1FlsQp/WcOcI1KyzIaPaQvp38xSRX6UOc1nPmBtcqHVMelt1B\n",
       "er4wbhO1lkKI03rOXOBagRmyrxojPb+sToxavWOI03rO/OLaNmN3Ii5hPVtlV7jV/YY4reeMpm+I\n",
       "54zQH7JdSp/iM/VnqFbi0fbF4rSwfpkf//TiZPjMxdlCNcGKHlbEl5Y5jxFuLYcQzxSBxuwh/Vit\n",
       "c3rfTfTuZsCmb8wMTxXWj8Z8qFoveajSeeCppqfsdG9V4GNuQ445O4a4mIqnfCpalz5mqj4ce3E2\n",
       "wE60gfii/R5gPBvvPmbKPXpYd+cM8306XdaZIc3ZQa7dCufrJbNCc8YoV+/4dD7SGWPGy7Ceq39b\n",
       "4GXImT9fU4gPSEcqkAAAAABJRU5ErkJggg==\n",
       "\" style=\"display:inline;vertical-align:middle;\" /></a></td></tr>\n",
       "<tr><td>3</td><td>Operation</td><td>operator:&nbsp;4<br>operands:&nbsp;5<br></td><td><a class=\"ProveItLink\" href=\"../fc32d3159ef3ff97a3ca42b93bcadba1cc67538d0/expr.ipynb\"><img src=\"data:image/png;base64,iVBORw0KGgoAAAANSUhEUgAAAJQAAAAVBAMAAABS/tqaAAAAMFBMVEX///8QEBCqqqqYmJiIiIi6\n",
       "urpUVFQyMjLu7u7c3Nx2dnbMzMxEREQiIiJmZmYAAABKII+GAAAAAXRSTlMAQObYZgAAAW9JREFU\n",
       "OMu1lL9Lw0AUx18bm9ieCSK49y8QB12cMri5ZBCcBBenLgGXdpF0cs1Q1LGgszg5SJCCs1C3DhaC\n",
       "oyC4uJu7/Lpv+gx28EHv9d778IEc947on6Pl1nV3f6l/zmW8YfGBHFWeTyr0SC7O/YJllOWnonKd\n",
       "5b5cRJxuPLXRUb+Cl4pSdZ6mFVdX9eSyr6N7iHMq8RKo3Ah0VSSXmY4OEedU5mF63Eekq6yQqBnr\n",
       "6FoXcE51QVOVP0AlNVJXop0YcE51Q+8qn4FKflwEaNMHnFNN6UrlTVQlR34KaGsdcEZluGSqK/ON\n",
       "KptWfUDFF+CMyg5InDAqp9vZZlQFzqi2kt9A/tlAVdu3ifnAAmdUg6xPz6ii3g6qDB/wRZWYqHNJ\n",
       "4q6iimaoUpehxDXVY3ZBvXxmjlPVOBdYcT75r2ryLQ/wol6+LMXwNkKcexHgfoh4XRjj+v7tEk9f\n",
       "v7Zb3LK/xGVt1wyXULVrH+QDvvwDO596UXzuKj0AAAAASUVORK5CYII=\n",
       "\" style=\"display:inline;vertical-align:middle;\" /></a></td></tr>\n",
       "<tr><td>4</td><td>Literal</td><td></td><td><a class=\"ProveItLink\" href=\"../76b5f4f4c45c0b6a9b59b297fc07dfa9555698f50/expr.ipynb\"><img src=\"data:image/png;base64,iVBORw0KGgoAAAANSUhEUgAAAAwAAAAOBAMAAADpk+DfAAAALVBMVEX///+qqqqYmJh2dnaIiIi6\n",
       "urpUVFQiIiJERETMzMxmZmYyMjLu7u7c3NwAAABvwqPxAAAAAXRSTlMAQObYZgAAAEtJREFUCNdj\n",
       "YGDgPcAAAtwLwNSMGjCV6gIieTawgyhmBS4BIMXOwLsBSKkwMGQCKaC6aQwMjEBd3BdACMScAVJd\n",
       "wJAKolwYAkAUKwAk0guX6efcigAAAABJRU5ErkJggg==\n",
       "\" style=\"display:inline;vertical-align:middle;\" /></a></td></tr>\n",
       "<tr><td>5</td><td>ExprTuple</td><td>9, 6, 10</td><td><a class=\"ProveItLink\" href=\"../7867e3998f0af352602e1e7fcf60bb064f8dd15f0/expr.ipynb\"><img src=\"data:image/png;base64,iVBORw0KGgoAAAANSUhEUgAAAHYAAAAVBAMAAABh6QfWAAAAMFBMVEX////c3NwiIiJERESqqqqY\n",
       "mJh2dnZmZmYQEBDu7u4yMjJUVFTMzMyIiIi6uroAAAAs73DqAAAAAXRSTlMAQObYZgAAARxJREFU\n",
       "OMtjYKAE8F0gSxvrAyBxmoFdCQwMwGJFYLYymkrGCxicGiBeCWLwFCDJHYc6CEweYMCQh3C4GBh4\n",
       "L+DSyw3SBpHGppc1gYFjAi69PCBPME3ApZezgeEVAy69DAuB2J0Bl14GE4Yy3Hrdofpx6E1nWIpb\n",
       "L9C9PAa49Xox9OHWCwwn7ge49b5g+IdbL4MCwywG3HrP49VbwpCKV28LHr1SQJvxudkUiTsBTS/3\n",
       "0Qsoyieg6I0ChjScy/kJTS+P0QRkvTB5eBw9gnATQHL9AmDOMbjrloNJUF5pAuYVsDyMw8CwjoFD\n",
       "ACk7CqBln5No2RVZHpgmWROQ8iShPIvMYbsAzYNk6AVFvTSCS6gEQZHfiF4kEA94DzAAAJhJTkie\n",
       "nowDAAAAAElFTkSuQmCC\n",
       "\" style=\"display:inline;vertical-align:middle;\" /></a></td></tr>\n",
       "<tr><td>6</td><td>Operation</td><td>operator:&nbsp;7<br>operands:&nbsp;8<br></td><td><a class=\"ProveItLink\" href=\"../../../disjunction/__pv_it/7ee56ac56fe7319585c441261a5a8301695cb6a90/expr.ipynb\"><img src=\"data:image/png;base64,iVBORw0KGgoAAAANSUhEUgAAADUAAAAPBAMAAAC2KZqIAAAAMFBMVEX///8QEBCYmJiqqqrc3Nwy\n",
       "MjLu7u6IiIhUVFS6urp2dnbMzMxEREQiIiJmZmYAAADfOGkeAAAAAXRSTlMAQObYZgAAAHhJREFU\n",
       "GNNjeHsXBO4woAKWAihjH4TiBJMbwCT3A1Q5DpAwewFWOe4DQII3AascQwgQ2zFgl7ODymOTA5oH\n",
       "NhebHNAdHBNwyDFcYEhlwCX3mGERTjlXoE5cchybCnDKcZ9NQJfbBQ/iODDJBwx82bt3D6AG/zYU\n",
       "HgBsMC5BQDKFNgAAAABJRU5ErkJggg==\n",
       "\" style=\"display:inline;vertical-align:middle;\" /></a></td></tr>\n",
       "<tr><td>7</td><td>Literal</td><td></td><td><a class=\"ProveItLink\" href=\"../../../disjunction/__pv_it/087d0b4ded7c7e5bf3bba05ecb616d7a8051ff650/expr.ipynb\"><img src=\"data:image/png;base64,iVBORw0KGgoAAAANSUhEUgAAAAwAAAAOBAMAAADpk+DfAAAALVBMVEX///+YmJh2dnZmZmaqqqrc\n",
       "3NwyMjLu7u4iIiJERESIiIhUVFTMzMy6uroAAAD0I/TTAAAAAXRSTlMAQObYZgAAAEtJREFUCNdj\n",
       "uMAABDwMe0DUKoaTIKqdgS2AgYHFAITAzHYGsMQqBoa9QIqDgT0BSDE7MAkAKdYEDpAehj1SYOpk\n",
       "O5hiMwBTPAUMDAB33Atnw8aG2QAAAABJRU5ErkJggg==\n",
       "\" style=\"display:inline;vertical-align:middle;\" /></a></td></tr>\n",
       "<tr><td>8</td><td>ExprTuple</td><td>9, 10</td><td><a class=\"ProveItLink\" href=\"../../../disjunction/__pv_it/0f60990fe1c69084ca218cead46950bf14732b6a0/expr.ipynb\"><img src=\"data:image/png;base64,iVBORw0KGgoAAAANSUhEUgAAADUAAAAVBAMAAAAUZLt1AAAAMFBMVEX////c3NwiIiJERESqqqqY\n",
       "mJh2dnZmZmYQEBDu7u4yMjJUVFTMzMyIiIi6uroAAAAs73DqAAAAAXRSTlMAQObYZgAAALFJREFU\n",
       "KM9jYMAH+C5gFY4DEacZ2JXAwAAmLAsi2A8AiZUgFk8BkpbjYHIBAwPvBRxyYQwMHBNwyM1gYHjF\n",
       "gEOO2YGhDJccWwHDUlxyLAsY+nDJ8TUw/MMlx/MBr1wLHjNNkeQmIMuxLmBIR8hxfkLzwyOIXAJI\n",
       "rl+AgaFISUlDSUmZgYHrAQOHAFJ0IbFBYcaagOCyIkdgLiyOMOU4gXHEII3gI6cAbpD5jNjTxB0G\n",
       "BgCWci1ZX87w6gAAAABJRU5ErkJggg==\n",
       "\" style=\"display:inline;vertical-align:middle;\" /></a></td></tr>\n",
       "<tr><td>9</td><td>Literal</td><td></td><td><a class=\"ProveItLink\" href=\"../../../__pv_it/68a87cc3370287d726c7086ace789e680e4461c30/expr.ipynb\"><img src=\"data:image/png;base64,iVBORw0KGgoAAAANSUhEUgAAAA4AAAAOBAMAAADtZjDiAAAAFVBMVEX///92dnbMzMxEREQiIiJm\n",
       "ZmYAAABAT6GXAAAAAXRSTlMAQObYZgAAABhJREFUCNdjCHEBAWcGIFBlgABa0YpADAAxegPJJk4d\n",
       "XAAAAABJRU5ErkJggg==\n",
       "\" style=\"display:inline;vertical-align:middle;\" /></a></td></tr>\n",
       "<tr><td>10</td><td>Literal</td><td></td><td><a class=\"ProveItLink\" href=\"../../../__pv_it/8f1f7fac882de28c72b62ab80a1700b6d8fd066b0/expr.ipynb\"><img src=\"data:image/png;base64,iVBORw0KGgoAAAANSUhEUgAAAA4AAAAOBAMAAADtZjDiAAAAG1BMVEX///9EREQQEBAiIiJmZmbM\n",
       "zMyIiIjc3NwAAACryk5kAAAAAXRSTlMAQObYZgAAABlJREFUCNdjYGBgKGOAgBBa0s7GxkbGxoYA\n",
       "FMUF2aBfHgoAAAAASUVORK5CYII=\n",
       "\" style=\"display:inline;vertical-align:middle;\" /></a></td></tr>\n",
       "</table>\n"
      ],
      "text/plain": [
       "0. (TRUE and (TRUE or FALSE) and FALSE) = FALSE\n",
       "   core type: Operation\n",
       "   operator: 1\n",
       "   operands: 2\n",
       "1. =\n",
       "   core type: Literal\n",
       "   sub-expressions: \n",
       "2. (TRUE and (TRUE or FALSE) and FALSE , FALSE)\n",
       "   core type: ExprTuple\n",
       "   sub-expressions: 3, 10\n",
       "3. TRUE and (TRUE or FALSE) and FALSE\n",
       "   core type: Operation\n",
       "   operator: 4\n",
       "   operands: 5\n",
       "4. and\n",
       "   core type: Literal\n",
       "   sub-expressions: \n",
       "5. (TRUE , TRUE or FALSE , FALSE)\n",
       "   core type: ExprTuple\n",
       "   sub-expressions: 9, 6, 10\n",
       "6. TRUE or FALSE\n",
       "   core type: Operation\n",
       "   operator: 7\n",
       "   operands: 8\n",
       "7. or\n",
       "   core type: Literal\n",
       "   sub-expressions: \n",
       "8. (TRUE , FALSE)\n",
       "   core type: ExprTuple\n",
       "   sub-expressions: 9, 10\n",
       "9. TRUE\n",
       "   core type: Literal\n",
       "   sub-expressions: \n",
       "10. FALSE\n",
       "    core type: Literal\n",
       "    sub-expressions: "
      ]
     },
     "execution_count": 4,
     "metadata": {},
     "output_type": "execute_result"
    }
   ],
   "source": [
    "# display the expression information\n",
    "expr.exprInfo()"
   ]
  },
  {
   "cell_type": "code",
   "execution_count": null,
   "metadata": {},
   "outputs": [],
   "source": []
  }
 ],
 "metadata": {
  "kernelspec": {
   "display_name": "Python 3",
   "language": "python",
   "name": "python3"
  }
 },
 "nbformat": 4,
 "nbformat_minor": 0
}
