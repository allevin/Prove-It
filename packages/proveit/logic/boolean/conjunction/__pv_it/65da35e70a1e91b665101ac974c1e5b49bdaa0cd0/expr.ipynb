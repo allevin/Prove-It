{
 "cells": [
  {
   "cell_type": "markdown",
   "metadata": {},
   "source": [
    "Expression of type <a class=\"ProveItLink\" href=\"../../../../../../../doc/html/api/proveit.ExprTuple.html\">ExprTuple</a>\n",
    "=======================\n",
    "# from context <a class=\"ProveItLink\" href=\"../../_context_.ipynb\">proveit.logic.boolean.conjunction</a>"
   ]
  },
  {
   "cell_type": "code",
   "execution_count": 1,
   "metadata": {},
   "outputs": [],
   "source": [
    "# import Expression classes needed to build the expression\n",
    "from proveit import ExprTuple\n",
    "from proveit._common_ import BB, m\n",
    "from proveit.logic import Booleans, InSet\n",
    "from proveit.number import Exp"
   ]
  },
  {
   "cell_type": "code",
   "execution_count": 2,
   "metadata": {},
   "outputs": [
    {
     "data": {
      "text/html": [
       "<strong id=\"expr\">expr:</strong> <a class=\"ProveItLink\" href=\"expr.ipynb\"><img src=\"data:image/png;base64,iVBORw0KGgoAAAANSUhEUgAAAFYAAAAVBAMAAAAutAQGAAAAMFBMVEX////c3NwiIiJERESqqqqY\n",
       "mJh2dnZmZmYQEBDu7u4yMjJUVFTMzMyIiIi6uroAAAAs73DqAAAAAXRSTlMAQObYZgAAAaZJREFU\n",
       "KM+Nkj9IQlEUxj8zxX9PBado0IyWCHxFDk0K0dIUNAQt2lJQS1NTQURLGGmFQ0EQgpQNaUNLED1o\n",
       "iRoU3IJCnCSQoj9kFt3O9VlepcgD9953v/fj8J1zD/BP6BaKM1JWUS/WDOBjFCHlNzZ6P9KS0qWg\n",
       "y9HlipYxubK17vuog6afkvudfrRdw6boZ4F50hL8B5MB52t9RrloTEwCp7iAyQ+YAIkswMJod743\n",
       "srglYBVZOK1kPAhDhGSJkdfASwXZibm7v9khc0TzQJlH9eRzEXdc1jLaPLv80xKPCHkdsMrowfkE\n",
       "3fsxx2VbGbhULTgiNQ+WrgHB0xTi/EiXDmIlf0XprfnNe0oZgR3GGj8Cz8BmmX8ZZbG2m0GBLeCT\n",
       "H2dv9CYsyF9mye2u1aa1BmtsWmXDLs6meGkpMa8Wssgu065h9C563mMYXX+yBXj5fDCqy/lYUY7r\n",
       "WNHDOHUCMDM7ouGOirKRE9ixbF3P8tRdPmUlr6po9pSf2ekL+QX2EAZ7wxC2nlT70BD0xrogmgt9\n",
       "pjqTTcQ2rfYm2SNeTKYpVFLwBdC0f5hzFeIhAAAAAElFTkSuQmCC\n",
       "\" style=\"display:inline;vertical-align:middle;\" /></a><br>"
      ],
      "text/plain": [
       "expr: (B in BOOLEANS^{m})"
      ]
     },
     "execution_count": 2,
     "metadata": {},
     "output_type": "execute_result"
    }
   ],
   "source": [
    "# build up the expression from sub-expressions\n",
    "expr = ExprTuple(InSet(BB, Exp(Booleans, m)))"
   ]
  },
  {
   "cell_type": "code",
   "execution_count": 3,
   "metadata": {},
   "outputs": [
    {
     "name": "stdout",
     "output_type": "stream",
     "text": [
      "Passed sanity check: built 'expr' is the same as the stored Expression.\n"
     ]
    }
   ],
   "source": [
    "# check that the built expression is the same as the stored expression\n",
    "%check_expr"
   ]
  },
  {
   "cell_type": "code",
   "execution_count": 4,
   "metadata": {},
   "outputs": [
    {
     "data": {
      "text/html": [
       "<table><tr><th>&nbsp;</th><th>core type</th><th>sub-expressions</th><th>expression</th></tr>\n",
       "<tr><td>0</td><td>ExprTuple</td><td>1</td><td><a class=\"ProveItLink\" href=\"expr.ipynb\"><img src=\"data:image/png;base64,iVBORw0KGgoAAAANSUhEUgAAAFYAAAAVBAMAAAAutAQGAAAAMFBMVEX////c3NwiIiJERESqqqqY\n",
       "mJh2dnZmZmYQEBDu7u4yMjJUVFTMzMyIiIi6uroAAAAs73DqAAAAAXRSTlMAQObYZgAAAaZJREFU\n",
       "KM+Nkj9IQlEUxj8zxX9PBado0IyWCHxFDk0K0dIUNAQt2lJQS1NTQURLGGmFQ0EQgpQNaUNLED1o\n",
       "iRoU3IJCnCSQoj9kFt3O9VlepcgD9953v/fj8J1zD/BP6BaKM1JWUS/WDOBjFCHlNzZ6P9KS0qWg\n",
       "y9HlipYxubK17vuog6afkvudfrRdw6boZ4F50hL8B5MB52t9RrloTEwCp7iAyQ+YAIkswMJod743\n",
       "srglYBVZOK1kPAhDhGSJkdfASwXZibm7v9khc0TzQJlH9eRzEXdc1jLaPLv80xKPCHkdsMrowfkE\n",
       "3fsxx2VbGbhULTgiNQ+WrgHB0xTi/EiXDmIlf0XprfnNe0oZgR3GGj8Cz8BmmX8ZZbG2m0GBLeCT\n",
       "H2dv9CYsyF9mye2u1aa1BmtsWmXDLs6meGkpMa8Wssgu065h9C563mMYXX+yBXj5fDCqy/lYUY7r\n",
       "WNHDOHUCMDM7ouGOirKRE9ixbF3P8tRdPmUlr6po9pSf2ekL+QX2EAZ7wxC2nlT70BD0xrogmgt9\n",
       "pjqTTcQ2rfYm2SNeTKYpVFLwBdC0f5hzFeIhAAAAAElFTkSuQmCC\n",
       "\" style=\"display:inline;vertical-align:middle;\" /></a></td></tr>\n",
       "<tr><td>1</td><td>Operation</td><td>operator:&nbsp;2<br>operands:&nbsp;3<br></td><td><a class=\"ProveItLink\" href=\"../61079b06bfc332c2d41f3d228a9c8a4ede0792350/expr.ipynb\"><img src=\"data:image/png;base64,iVBORw0KGgoAAAANSUhEUgAAAEgAAAARBAMAAACMQvdLAAAAMFBMVEX///92dna6urqqqqoiIiKY\n",
       "mJiIiIhmZmbc3NwyMjLu7u7MzMxUVFQQEBBEREQAAAA0CE+eAAAAAXRSTlMAQObYZgAAATtJREFU\n",
       "KM9jYMAHWMvUZNjyNgBZ7/8DwZ0N2BQt1Q9gOcB6AMjimn9r1Yr3v1FkJf/Nn+tnwNCVycC/gbEA\n",
       "JPL/AQND/3dUMx6occ0SZGA4xrCXgdMAyOf+nwBU9AddEUMSJwPDbYY8hn4mIJ/tP9A98V/Bcsum\n",
       "uHjCFJnyLOD4ADQrjhHI5/sPJPwngKS4py5AMqmPgekBgzfDPgkgn/8nA8NOiG19CxDWcbu+QrJ+\n",
       "/9+ZU/4agJkvEG5S8f+bgKQo/jMDw7qfIBbXA2SHp9khKTr/i4GB6b8AkMV0xcUF4XA+JgGEovsO\n",
       "IEWgYOU+gGwSHwPCYI7/wBBlBIUVA5cDLkWs/4GO7v8CZh9FUYRkHc//Boal9z3A7CUKSIrC8+Bq\n",
       "+EFp4O9TqNXTN8Aj+MkdAxwJiPkk1HcoAADpXGyWUbA0SgAAAABJRU5ErkJggg==\n",
       "\" style=\"display:inline;vertical-align:middle;\" /></a></td></tr>\n",
       "<tr><td>2</td><td>Literal</td><td></td><td><a class=\"ProveItLink\" href=\"../../../../set_theory/membership/__pv_it/088cbc857536a28d4119ad9639a84270ccb0545d0/expr.ipynb\"><img src=\"data:image/png;base64,iVBORw0KGgoAAAANSUhEUgAAAAwAAAAMBAMAAACkW0HUAAAALVBMVEX///+qqqpmZmZUVFQQEBC6\n",
       "urpERETc3NyYmJjMzMwiIiIyMjKIiIju7u4AAACYsrA9AAAAAXRSTlMAQObYZgAAADxJREFUCNdj\n",
       "YOA9vWrVBgaG2b0MQMCeCyIZ2ArA1DUwyRCyahVIyWQI7xaEYm4AU7xLIdxqTQgtvGvVBgCkcQ7e\n",
       "geM/tQAAAABJRU5ErkJggg==\n",
       "\" style=\"display:inline;vertical-align:middle;\" /></a></td></tr>\n",
       "<tr><td>3</td><td>ExprTuple</td><td>4, 5</td><td><a class=\"ProveItLink\" href=\"../c770feff7d70380d8a23b69eb073f77612d0bc0f0/expr.ipynb\"><img src=\"data:image/png;base64,iVBORw0KGgoAAAANSUhEUgAAAEYAAAAVBAMAAAAJGoXuAAAAMFBMVEX////c3NwiIiJERESqqqqY\n",
       "mJh2dnZmZmYQEBDu7u4yMjJUVFTMzMyIiIi6uroAAAAs73DqAAAAAXRSTlMAQObYZgAAAYFJREFU\n",
       "KM99kjtLA0EQx/8x3JHXJQErsbiI2Ak5RAurHIiNVcBCsMnZKGhjZaVgYSMRE5GA2iiCYCxM/ADi\n",
       "gY1okYN0gqKpghB8Y4ziOpvnSmIWdoeZ+TE7L+CfIy0V5pSsWVG8FhBidKKmyCQewx1pKQ3pjpQr\n",
       "us7U6vZG6LvsnH1NHfbq6LqGz5TngUWyJbmDaYD6UYmgFZzJaeAUF3DpgAtQ6Ct4GL3qV43BLTnW\n",
       "kIXqpcQMOOJkVhjlEnmvM6PuuO2JIo3LlMcyHrjZzugJ7jXidMKroR/nU6QPYoGbfSXgsvoVMZ6+\n",
       "YaHCGRxwkSke7Rf1GpMLFi2BGcM6F5E3YLNUj4ObEYHJ44eLs0/qJTPqjN1rNJhMhYkFOJNuMNBE\n",
       "ZoVeG6N+ysxqzeQxxOfHKF/1hXrR6q9JqgxwMz8SsR5gN1BhJrJ/as9Rd/jUizzg1nN5pgNRXWCO\n",
       "4fCLG3HfvEg0C8kQDeFmRraqu9GG2aHbLehKi6U94c2x0O4oJn4B9GJ5ANp18RUAAAAASUVORK5C\n",
       "YII=\n",
       "\" style=\"display:inline;vertical-align:middle;\" /></a></td></tr>\n",
       "<tr><td>4</td><td>Variable</td><td></td><td><a class=\"ProveItLink\" href=\"../../../../../__pv_it/a275d402e75fbbde925e8ebdcbfd239a2138849c0/expr.ipynb\"><img src=\"data:image/png;base64,iVBORw0KGgoAAAANSUhEUgAAABIAAAAPBAMAAAAbqIIhAAAAMFBMVEX///92dna6urqqqqoiIiKY\n",
       "mJiIiIhmZmbc3NwyMjLu7u7MzMxUVFQQEBBEREQAAAA0CE+eAAAAAXRSTlMAQObYZgAAAIdJREFU\n",
       "CNdjYGB4/x8I7mxgYGDgmn9r1Yr3v4Eshv8PGBj6vwMZ3P8TgKw/QBbbf6Ca+K9AFt9/IOE/AUjw\n",
       "/2Rg2AmSZNj/d+aUvwYgVvxnBoZ1P0Gs878YGJj+CwBZ9x1ArAMMDBz/CxgYGEFmsv4Hqu7/ApTk\n",
       "+d/AsPS+B9A0kEv+PmVgAADmSjTeJ9tS4QAAAABJRU5ErkJggg==\n",
       "\" style=\"display:inline;vertical-align:middle;\" /></a></td></tr>\n",
       "<tr><td>5</td><td>Operation</td><td>operator:&nbsp;6<br>operands:&nbsp;7<br></td><td><a class=\"ProveItLink\" href=\"../cd3230f1b749f120370579d7f644203995edd40c0/expr.ipynb\"><img src=\"data:image/png;base64,iVBORw0KGgoAAAANSUhEUgAAABwAAAAQBAMAAAD34QLcAAAAMFBMVEX///9mZmbMzMzc3NxUVFSY\n",
       "mJju7u6IiIi6urqqqqoiIiIQEBBEREQyMjJ2dnYAAAAQvcRZAAAAAXRSTlMAQObYZgAAAIlJREFU\n",
       "CNdjYIAAVvH2J+w1ClAeQ2p/AJcDqwPD2z/3b6+ZwGBWy8CvwCfAwHCgne3aOwYGdwZtBt4JIC5D\n",
       "BS8DwyaGGgZ7DjB3KksC8wegfAwfRNaGgeMAwyIGnccgLtPSYwxwcKBr/e8CJG47Q/kcFC4PxwMU\n",
       "LsMBfFxUxYE1cB7QC6e2TIDxALqTMY6Wq7oJAAAAAElFTkSuQmCC\n",
       "\" style=\"display:inline;vertical-align:middle;\" /></a></td></tr>\n",
       "<tr><td>6</td><td>Literal</td><td></td><td><a class=\"ProveItLink\" href=\"../../../../../number/exponentiation/__pv_it/deb2bf23cbccdd6e6791e1b35b5b9794ce12dbd50/expr.ipynb\"><img src=\"data:image/png;base64,iVBORw0KGgoAAAANSUhEUgAAACgAAAASBAMAAADbMYGVAAAAMFBMVEX///8QEBAiIiKYmJjc3Nzu\n",
       "7u7MzMx2dnZmZma6urpERESqqqoyMjJUVFSIiIgAAAAoDOMTAAAAAXRSTlMAQObYZgAAAOBJREFU\n",
       "GNNjYGB4+//u3Tt/GNAASGAXmhjnPyDBgSbI/g1IxKEJ8nxgYGdgQRPkX8BgDKRY6q7s62OYvmze\n",
       "2wAgb/7ZO1+AVDiDkYEQQ0HTBr4DQF59AgOIKmB4z7CNbcNZBu6vQN55kEACQwDDLQYGVobfDHwg\n",
       "fb8YGBxYHwAZciD3fWXg+gB1JjvQcJZvQIXsCgz8F6DO9GBgMOH7wPCUgaeBwd4B7EwGNjUG7s9c\n",
       "AiwPgO5jkWRgiF3/9+5dfQUG1nWl5Y+B7pv+1gE9bBhqGLCAE1jEWH9jEbT5A3IwAC4sP/1L6Qlu\n",
       "AAAAAElFTkSuQmCC\n",
       "\" style=\"display:inline;vertical-align:middle;\" /></a></td></tr>\n",
       "<tr><td>7</td><td>ExprTuple</td><td>8, 9</td><td><a class=\"ProveItLink\" href=\"../f66d5f376ae70e536c4a857ce811f1be891bac1e0/expr.ipynb\"><img src=\"data:image/png;base64,iVBORw0KGgoAAAANSUhEUgAAADUAAAAVBAMAAAAUZLt1AAAAMFBMVEX////c3NwiIiJERESqqqqY\n",
       "mJh2dnZmZmYQEBDu7u4yMjJUVFTMzMyIiIi6uroAAAAs73DqAAAAAXRSTlMAQObYZgAAASZJREFU\n",
       "KM9jYMAH+C5gFY4DEacZsj6vX6HsgCbHfgBIrGRgMHjLuTINXeMCBgbeCyA5hntc6HJhDAwcE8By\n",
       "rtwT0ORmMDC8YoDoE0bXx+zAUAaW41G1hIi8NZS9nfD2MtBlbAUMS0Fyj/R/QH2SsOsC57cHLB8Y\n",
       "GFgWMPRBzLzrDPHsA2UGzr8MIDm+BoZ/EDlmvgSQHCfnPwaWnwzsQA/wfIDLMRiANYIkFBg4EsBy\n",
       "LahyQB1MBQzvBSaAzDRFmAnyIVDH/AcMuxgDGFgXMKRD5MIvM3B+AjLlHzDEMzCsZQP74REDKKyN\n",
       "uh0YOPsFGBheMDAkMzB432Fg4HrAwCGAiC0BtDBjTYDzWFHCLBcSR9jkOIFeZJCGc1ESADfIAkbs\n",
       "aQLoGgA9SFM0vLRvOAAAAABJRU5ErkJggg==\n",
       "\" style=\"display:inline;vertical-align:middle;\" /></a></td></tr>\n",
       "<tr><td>8</td><td>Literal</td><td></td><td><a class=\"ProveItLink\" href=\"../../../__pv_it/46271c8230be96415d662709611f4ed2279d702b0/expr.ipynb\"><img src=\"data:image/png;base64,iVBORw0KGgoAAAANSUhEUgAAAA0AAAAOBAMAAAAGUYvhAAAAMFBMVEX///9mZmbMzMzc3NxUVFSY\n",
       "mJju7u6IiIi6urqqqqoiIiIQEBBEREQyMjJ2dnYAAAAQvcRZAAAAAXRSTlMAQObYZgAAAElJREFU\n",
       "CNdjePvn/u01ExgYGA60s117B6YZKngh9FSWBAjfBsxnWnoMRHet/10AkS+fA6F5OB5AaIYDqDRU\n",
       "PLCGgQFoz6ktExgAgLIl8DFvGtkAAAAASUVORK5CYII=\n",
       "\" style=\"display:inline;vertical-align:middle;\" /></a></td></tr>\n",
       "<tr><td>9</td><td>Variable</td><td></td><td><a class=\"ProveItLink\" href=\"../../../../../__pv_it/78af03acba5349fd70398a32ce59bae1da52f0870/expr.ipynb\"><img src=\"data:image/png;base64,iVBORw0KGgoAAAANSUhEUgAAABIAAAAJBAMAAADN8WE8AAAAMFBMVEX////MzMyYmJgQEBBmZmYi\n",
       "IiLu7u4yMjKqqqp2dnZUVFTc3NxERESIiIi6uroAAABe5jFNAAAAAXRSTlMAQObYZgAAAFtJREFU\n",
       "CNdj4Luz++5KvrsnGBg4uWoZ8ucx9DMwvGM9wJB/AcRKyH/A0J/A4M7AAKJcGRgsgSwgL4SB7zcb\n",
       "iMf2j4GrYBMD9z8Gpg8M7BcmMPAZMHAeYOBYKwAAtXMYHwtZnY0AAAAASUVORK5CYII=\n",
       "\" style=\"display:inline;vertical-align:middle;\" /></a></td></tr>\n",
       "</table>\n"
      ],
      "text/plain": [
       "0. (B in BOOLEANS^{m})\n",
       "   core type: ExprTuple\n",
       "   sub-expressions: 1\n",
       "1. B in BOOLEANS^{m}\n",
       "   core type: Operation\n",
       "   operator: 2\n",
       "   operands: 3\n",
       "2. in\n",
       "   core type: Literal\n",
       "   sub-expressions: \n",
       "3. (B , BOOLEANS^{m})\n",
       "   core type: ExprTuple\n",
       "   sub-expressions: 4, 5\n",
       "4. B\n",
       "   core type: Variable\n",
       "   sub-expressions: \n",
       "5. BOOLEANS^{m}\n",
       "   core type: Operation\n",
       "   operator: 6\n",
       "   operands: 7\n",
       "6. Exp\n",
       "   core type: Literal\n",
       "   sub-expressions: \n",
       "7. (BOOLEANS , m)\n",
       "   core type: ExprTuple\n",
       "   sub-expressions: 8, 9\n",
       "8. BOOLEANS\n",
       "   core type: Literal\n",
       "   sub-expressions: \n",
       "9. m\n",
       "   core type: Variable\n",
       "   sub-expressions: "
      ]
     },
     "execution_count": 4,
     "metadata": {},
     "output_type": "execute_result"
    }
   ],
   "source": [
    "# display the expression information\n",
    "expr.exprInfo()"
   ]
  },
  {
   "cell_type": "code",
   "execution_count": null,
   "metadata": {},
   "outputs": [],
   "source": []
  }
 ],
 "metadata": {
  "kernelspec": {
   "display_name": "Python 3",
   "language": "python",
   "name": "python3"
  }
 },
 "nbformat": 4,
 "nbformat_minor": 0
}
