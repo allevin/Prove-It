{
 "cells": [
  {
   "cell_type": "markdown",
   "metadata": {},
   "source": [
    "Expression of type <a class=\"ProveItLink\" href=\"../../../../../../../doc/html/api/proveit.logic.InSet.html\">InSet</a>\n",
    "=======================\n",
    "# from context <a class=\"ProveItLink\" href=\"../../_context_.ipynb\">proveit.logic.boolean.conjunction</a>"
   ]
  },
  {
   "cell_type": "code",
   "execution_count": 1,
   "metadata": {},
   "outputs": [],
   "source": [
    "# import Expression classes needed to build the expression\n",
    "from proveit._common_ import A, B, C, D\n",
    "from proveit.logic import Booleans, InSet\n",
    "from proveit.number import Exp, four"
   ]
  },
  {
   "cell_type": "code",
   "execution_count": 2,
   "metadata": {},
   "outputs": [
    {
     "data": {
      "text/html": [
       "<strong id=\"expr\">expr:</strong> <a class=\"ProveItLink\" href=\"expr.ipynb\"><img src=\"data:image/png;base64,iVBORw0KGgoAAAANSUhEUgAAAJoAAAAZBAMAAAA79SpSAAAAMFBMVEX////c3NwiIiJERESqqqqY\n",
       "mJh2dnZmZmYQEBDu7u4yMjJUVFTMzMyIiIi6uroAAAAs73DqAAAAAXRSTlMAQObYZgAAApFJREFU\n",
       "OMutVEtoE1EUPXE6ppNMJoEKQl0EIgXdmCCIFoQGRFy46KwUNzYrfyANSG0XQgq6UjChbkT8REFs\n",
       "FGxBQTCLiLgyiwa6EMTa0o1FEKqtYo223vs+yaSaQCAP5nLeO2/Ou7/3gM6NADo5BnMdFLOGO6kW\n",
       "utdJtTes5lTa/Otkk/UUq5Ulfq0XzVK1+OxpLRmzL0Z8aRkJES8PAv5XjSrnVqYmdyZhRlitINem\n",
       "amx3AsgsqMkZF86YK3E4T3VLAvlNTiW+WIVTuANSC8lAzXgthTO0MjMt8a3dZIYjikiRY2vAsX/U\n",
       "8DGAI6OZEXRLlW2ZiCbnCQ2lJJ5kdkkT5LD9B7ipkvA+FssrtcNB2hjN4bOkKvM6Nhygb5c8w7/K\n",
       "drsiBujzVQEjKaZvT3h86+GEP8dFseDkBl2tRvt7+yWMirNvK2KFPpvYraIqvv56pHafmjwU9q7I\n",
       "lhh2de5dn8IZ15MeDhLmD6BLnGHUUpNYjP9Uf18XdgHRtG7pr8CEKkI84u3132SC6xTIOE9veKsw\n",
       "d0jCdXFssVhKKM6gvaHvEm8Iq6ptLHP7EGszwFIsVq+C4aTqag5t010Unpbx8Miy6VLdGubzhlyt\n",
       "Vvb6ZkA6c4UNFWnLuG432h9clbjEbvk9fYjL0JFO/E9tH5eH1ALLKiRuN65lTguc1QT5aPDNMUUY\n",
       "QderpiI9zR3PWVmD9U21m301Jycm+fgpoghqN/sRA9kh1h6P2vFZCReBnux9mAO/0laW3LqwUSw+\n",
       "pmPFBOUno0mJLSb2ixQGZKP3Xqrd+r3XkuqOe5rA8TaE04zQNwtHH8Q2PwBmyoMbiCYYON/i8Su0\n",
       "q2blW6jtqMOGV7jSBCMYaaHma/cl/9Cc+gulr7pgD/92DAAAAABJRU5ErkJggg==\n",
       "\" style=\"display:inline;vertical-align:middle;\" /></a><br>"
      ],
      "text/plain": [
       "expr: (A , B , C , D) in BOOLEANS^{4}"
      ]
     },
     "execution_count": 2,
     "metadata": {},
     "output_type": "execute_result"
    }
   ],
   "source": [
    "# build up the expression from sub-expressions\n",
    "expr = InSet([A, B, C, D], Exp(Booleans, four))"
   ]
  },
  {
   "cell_type": "code",
   "execution_count": 3,
   "metadata": {},
   "outputs": [
    {
     "name": "stdout",
     "output_type": "stream",
     "text": [
      "Passed sanity check: built 'expr' is the same as the stored Expression.\n"
     ]
    }
   ],
   "source": [
    "# check that the built expression is the same as the stored expression\n",
    "%check_expr"
   ]
  },
  {
   "cell_type": "code",
   "execution_count": 4,
   "metadata": {},
   "outputs": [
    {
     "data": {
      "text/html": [
       "<table><tr><th>&nbsp;</th><th>core type</th><th>sub-expressions</th><th>expression</th></tr>\n",
       "<tr><td>0</td><td>Operation</td><td>operator:&nbsp;1<br>operands:&nbsp;2<br></td><td><a class=\"ProveItLink\" href=\"expr.ipynb\"><img src=\"data:image/png;base64,iVBORw0KGgoAAAANSUhEUgAAAJoAAAAZBAMAAAA79SpSAAAAMFBMVEX////c3NwiIiJERESqqqqY\n",
       "mJh2dnZmZmYQEBDu7u4yMjJUVFTMzMyIiIi6uroAAAAs73DqAAAAAXRSTlMAQObYZgAAApFJREFU\n",
       "OMutVEtoE1EUPXE6ppNMJoEKQl0EIgXdmCCIFoQGRFy46KwUNzYrfyANSG0XQgq6UjChbkT8REFs\n",
       "FGxBQTCLiLgyiwa6EMTa0o1FEKqtYo223vs+yaSaQCAP5nLeO2/Ou7/3gM6NADo5BnMdFLOGO6kW\n",
       "utdJtTes5lTa/Otkk/UUq5Ulfq0XzVK1+OxpLRmzL0Z8aRkJES8PAv5XjSrnVqYmdyZhRlitINem\n",
       "amx3AsgsqMkZF86YK3E4T3VLAvlNTiW+WIVTuANSC8lAzXgthTO0MjMt8a3dZIYjikiRY2vAsX/U\n",
       "8DGAI6OZEXRLlW2ZiCbnCQ2lJJ5kdkkT5LD9B7ipkvA+FssrtcNB2hjN4bOkKvM6Nhygb5c8w7/K\n",
       "drsiBujzVQEjKaZvT3h86+GEP8dFseDkBl2tRvt7+yWMirNvK2KFPpvYraIqvv56pHafmjwU9q7I\n",
       "lhh2de5dn8IZ15MeDhLmD6BLnGHUUpNYjP9Uf18XdgHRtG7pr8CEKkI84u3132SC6xTIOE9veKsw\n",
       "d0jCdXFssVhKKM6gvaHvEm8Iq6ptLHP7EGszwFIsVq+C4aTqag5t010Unpbx8Miy6VLdGubzhlyt\n",
       "Vvb6ZkA6c4UNFWnLuG432h9clbjEbvk9fYjL0JFO/E9tH5eH1ALLKiRuN65lTguc1QT5aPDNMUUY\n",
       "QderpiI9zR3PWVmD9U21m301Jycm+fgpoghqN/sRA9kh1h6P2vFZCReBnux9mAO/0laW3LqwUSw+\n",
       "pmPFBOUno0mJLSb2ixQGZKP3Xqrd+r3XkuqOe5rA8TaE04zQNwtHH8Q2PwBmyoMbiCYYON/i8Su0\n",
       "q2blW6jtqMOGV7jSBCMYaaHma/cl/9Cc+gulr7pgD/92DAAAAABJRU5ErkJggg==\n",
       "\" style=\"display:inline;vertical-align:middle;\" /></a></td></tr>\n",
       "<tr><td>1</td><td>Literal</td><td></td><td><a class=\"ProveItLink\" href=\"../../../../set_theory/membership/__pv_it/088cbc857536a28d4119ad9639a84270ccb0545d0/expr.ipynb\"><img src=\"data:image/png;base64,iVBORw0KGgoAAAANSUhEUgAAAAwAAAAMBAMAAACkW0HUAAAALVBMVEX///+qqqpmZmZUVFQQEBC6\n",
       "urpERETc3NyYmJjMzMwiIiIyMjKIiIju7u4AAACYsrA9AAAAAXRSTlMAQObYZgAAADxJREFUCNdj\n",
       "YOA9vWrVBgaG2b0MQMCeCyIZ2ArA1DUwyRCyahVIyWQI7xaEYm4AU7xLIdxqTQgtvGvVBgCkcQ7e\n",
       "geM/tQAAAABJRU5ErkJggg==\n",
       "\" style=\"display:inline;vertical-align:middle;\" /></a></td></tr>\n",
       "<tr><td>2</td><td>ExprTuple</td><td>3, 4</td><td><a class=\"ProveItLink\" href=\"../b2385384c393fef690c2e62094fbc43c84ed8b880/expr.ipynb\"><img src=\"data:image/png;base64,iVBORw0KGgoAAAANSUhEUgAAAJ4AAAAcBAMAAABi0xubAAAAMFBMVEX///+qqqp2dnYiIiJERESI\n",
       "iIhmZmYQEBDc3NyYmJgyMjLu7u5UVFTMzMy6uroAAACGxKilAAAAAXRSTlMAQObYZgAAAvBJREFU\n",
       "SMetVU1IVFEU/kZ9o88383QRQSuHoIJa6CIqifBFi+gHHEhrYykRhkSMrYKInEBaSDBTRMtyEVkp\n",
       "+SBKEEoDCYqBMdqFMIL0g4uaMSP/7Zz7M/OcFBLeg3vud+4573v3/Nz7AL+eSvj71LgK/PCFzqp1\n",
       "EWEQHvWFzxhxMcFg2PWF7yPxGVEC72nY0U2+/eCflQjx4QBQ0UnKhFz7pI1meik19jyfmqZ3HRVt\n",
       "EresplKPxhEc18bds4N9e6thxpmvBQiyY7+0Dea/Vu4AsUml7ErCvphUygIQyAG9eVfni9W/HS/B\n",
       "fDTK6S1Dhms25FOZoZWMKtTwQRK1camEZ0jEXNz18OFcJba2xzqA0iQyvBvJczMW106thB5GJO5j\n",
       "6zddxhX5tSEv37YQuSRoBB2coaVpaYm26ghxlMZ++ZVgjuUtZSjLkkiMoqzau79uTvlbEll8oKXz\n",
       "wmC7NTpJWAJ6TkiYEKl6rQxVDkQmStoKfOF65Qp7ESdpeiqUNyJrMktLzafrFY4lvW0hXCgTgXxB\n",
       "nKmGP/n3lvGYphtCmURCf9SYA16ocjTEvXyt3CjpSdidnnibtyhcsYJ9NK0I7lQq7egskbcxL/Gq\n",
       "kLryjSyuknfWw1dmq9JZuQKfTXXWQVTR3swZibtYBHT/znJfzRfzwcnvb4CmK4ypYKU6iAzlLJST\n",
       "OM1bC+oE/VbNvibeAt8yxmg6xpD4KrMqMG4/rqurK7BHGYxlEscJmhyKVRyvPYdTNO3kU8BpW4T1\n",
       "S7Vf+JorFZP2+TWuDNx+n7lqol9G6iTf/SZ97rP4SdMU0N31BGbjQpvVRVu7QIf+GYUsFEwMtFcr\n",
       "/KqR7onL4nbn1h+aE/fBkeu6uUt6UUWZLve0hO1tD3sjgzpv34v/IVGEKHQzUlgyvXZzAwzsEDJZ\n",
       "xDcSR7iucF/9P5/Vuy7fPRqHadwuLK25qaMbYIRE8EbxJX2IRg83y2bv+7Prrppc9EDEt19wt5B3\n",
       "fOO7BN+fv3Et2w313pTyAAAAAElFTkSuQmCC\n",
       "\" style=\"display:inline;vertical-align:middle;\" /></a></td></tr>\n",
       "<tr><td>3</td><td>ExprTuple</td><td>5, 6, 7, 8</td><td><a class=\"ProveItLink\" href=\"../8dc7b16fdb66b67ef402636d7d0da333f49c83890/expr.ipynb\"><img src=\"data:image/png;base64,iVBORw0KGgoAAAANSUhEUgAAAGkAAAAVBAMAAAC3TN2zAAAAMFBMVEX////c3NwiIiJERESqqqqY\n",
       "mJh2dnZmZmYQEBDu7u4yMjJUVFTMzMyIiIi6uroAAAAs73DqAAAAAXRSTlMAQObYZgAAAfBJREFU\n",
       "OMudVDFLW1EU/tJ4G595eQYUBB2cCu2kS6mCYP6Bb3LUbOogBkpbtwTaqUMTOomU8hxEW0EFB8E3\n",
       "JLhmMODgohhcWjpFawuaVnvOPfc2r0OgeuGe953z3XPv98657wH3G17tjglTbKqC921QlZvhzqb1\n",
       "nMPdF7Gchiki9saARIWcT0Jv/d2rcxjI140z68Nb9AV3B8BEBqBHSgSqoZLNOqDIwbbg5SdkFtKG\n",
       "yNJBV8Ak7Syre/Npm3VKaDoreJ3Zr5YgAe5vYAn4JpHaqdWEEZqPZa/EJds+Q4zTjDWBeAYvpZCl\n",
       "Cd9mUbx/VOBgwPaDIb7TdIl9mMOqDnzUb6OH2zw5emRw3o9UnMVB/QQ6ArzTkToGc4ZMnQPvTTGG\n",
       "0pGs1C8yyRsSVsCN3iYMy8OGjBdowQ/Bt9qa6sYb3BZi3YZkeeQGJqt7W3TwKLLpqBiC9532ddYb\n",
       "DlDrHhRsuyievBRc5mMSkT7iNbTCp1xOyupqGCncLq5dyS6cswSdGeebpALM8A1g1VdwLky73Lcl\n",
       "cRSd+SVtCGqXu8aAKn8G9BRXoMavc06Rjnl+G4afSaR2UN14lRHsMPFMv2JXHZ2R4nrRQnvtCL5R\n",
       "KttyVZRTbTAw3/pS/j/L4R4NtPx/vupaG4wky43d9Q9wDPwB+mqFhV2344EAAAAASUVORK5CYII=\n",
       "\" style=\"display:inline;vertical-align:middle;\" /></a></td></tr>\n",
       "<tr><td>4</td><td>Operation</td><td>operator:&nbsp;9<br>operands:&nbsp;10<br></td><td><a class=\"ProveItLink\" href=\"../2a67cfb1d5e4f1919e496e6aad098b5cd7560a810/expr.ipynb\"><img src=\"data:image/png;base64,iVBORw0KGgoAAAANSUhEUgAAABYAAAAUBAMAAAB7UtADAAAAMFBMVEX///9mZmbMzMzc3NxUVFSY\n",
       "mJju7u6IiIi6urqqqqoiIiIQEBBEREQyMjJ2dnYAAAAQvcRZAAAAAXRSTlMAQObYZgAAAHdJREFU\n",
       "CNdjYIABXgYEmJ8AZ7K9R7DZ8xFsTST2AyD77Z/7t9dMYGA1AIkfaGe79o4hnQHCZqjgZZgoKC8K\n",
       "Zk9lAYrZQ8VtGBhY/T1BbKalx6CGHeha/7sAxm5nKJ+DYPNwPECwGQ5gZyOpCayBMIFuO7VlApgJ\n",
       "AMGLMBpL2829AAAAAElFTkSuQmCC\n",
       "\" style=\"display:inline;vertical-align:middle;\" /></a></td></tr>\n",
       "<tr><td>5</td><td>Variable</td><td></td><td><a class=\"ProveItLink\" href=\"../../../../../__pv_it/2cbe72a7ad6f655694dd697106680215e8489b600/expr.ipynb\"><img src=\"data:image/png;base64,iVBORw0KGgoAAAANSUhEUgAAAA8AAAAOBAMAAAACpFvcAAAALVBMVEX///8QEBBERERUVFS6urqI\n",
       "iIhmZmaqqqrc3Nzu7u6YmJgyMjIiIiLMzMwAAADtIaYWAAAAAXRSTlMAQObYZgAAAFtJREFUCNdj\n",
       "YACBOwxQsA9Kc52bAGG05zVAGAFxDmCaZULdAjBjCsO9ADDDgaEvAUTzGhvbKYCVMDAwbgAxChgY\n",
       "eASANAeQwf0AyJgNxEwvGRia5HYwcOm9TgAA6BoR3jrzwFcAAAAASUVORK5CYII=\n",
       "\" style=\"display:inline;vertical-align:middle;\" /></a></td></tr>\n",
       "<tr><td>6</td><td>Variable</td><td></td><td><a class=\"ProveItLink\" href=\"../../../../../__pv_it/077b2ff79244fb4582cbe22c6e3356fa92a52f2f0/expr.ipynb\"><img src=\"data:image/png;base64,iVBORw0KGgoAAAANSUhEUgAAABAAAAAOBAMAAADUAYG5AAAAMFBMVEX///+qqqru7u4iIiJ2dnbc\n",
       "3NyIiIjMzMxmZmYQEBC6uroyMjJERERUVFSYmJgAAADLUcuvAAAAAXRSTlMAQObYZgAAAGpJREFU\n",
       "CNdjYGB4+//u3dMLGIBgDgMDxy8gzf4NiP8CGWxfGRj4vgAZPBMYGJgnARn8FxhY9ygAGfXX0pof\n",
       "gDTlBzAw2YIYJ0EckBBI53sHoBH/gIz7AhBjWH9DjancBLTl/N+7t/cxMAAA3u4f/5xagjYAAAAA\n",
       "SUVORK5CYII=\n",
       "\" style=\"display:inline;vertical-align:middle;\" /></a></td></tr>\n",
       "<tr><td>7</td><td>Variable</td><td></td><td><a class=\"ProveItLink\" href=\"../../../../../__pv_it/985a1bdf1540838275dec15f4ad6de261cca93ce0/expr.ipynb\"><img src=\"data:image/png;base64,iVBORw0KGgoAAAANSUhEUgAAAA8AAAAOBAMAAAACpFvcAAAAMFBMVEX////MzMyqqqoiIiIyMjK6\n",
       "uroQEBB2dnbc3NyYmJhmZmZUVFRERESIiIju7u4AAAB204erAAAAAXRSTlMAQObYZgAAAGZJREFU\n",
       "CNdjYGDgu7NrJccCBgaGsgkMrMsmMDA8sQNy6hsYGNweABlhDAxcn4A0QxcDQ78DiPGQgWH9BAYI\n",
       "sG+AMv6DSaCGfBDNJMDAsB+kmwuI5S8AiTog5gSaEwXWIO29SgFIAQBC+RaDQlidVgAAAABJRU5E\n",
       "rkJggg==\n",
       "\" style=\"display:inline;vertical-align:middle;\" /></a></td></tr>\n",
       "<tr><td>8</td><td>Variable</td><td></td><td><a class=\"ProveItLink\" href=\"../../../../../__pv_it/185e6d30f167ee2ee5ef3321098dc98e0d77bc590/expr.ipynb\"><img src=\"data:image/png;base64,iVBORw0KGgoAAAANSUhEUgAAABEAAAAOBAMAAAA7w+qHAAAALVBMVEX///8QEBCYmJjc3Ny6urru\n",
       "7u5mZmZ2dnaqqqrMzMxEREQyMjJUVFSIiIgAAABETr/8AAAAAXRSTlMAQObYZgAAAGpJREFUCNdj\n",
       "YGC48+7MmV0TGEDgNQMDxwsQg/M5kMgLABK8T4DEvAtAgusBkLA7ACT4FoDEDsAk9AqAxD2QCecc\n",
       "gMQ6kAGCIOIVEDM9Ahn3FkgwgnTxvgQSqwOgxs1OADLC1r05cyoTyAAAv4Qe+njAWvgAAAAASUVO\n",
       "RK5CYII=\n",
       "\" style=\"display:inline;vertical-align:middle;\" /></a></td></tr>\n",
       "<tr><td>9</td><td>Literal</td><td></td><td><a class=\"ProveItLink\" href=\"../../../../../number/exponentiation/__pv_it/deb2bf23cbccdd6e6791e1b35b5b9794ce12dbd50/expr.ipynb\"><img src=\"data:image/png;base64,iVBORw0KGgoAAAANSUhEUgAAACgAAAASBAMAAADbMYGVAAAAMFBMVEX///8QEBAiIiKYmJjc3Nzu\n",
       "7u7MzMx2dnZmZma6urpERESqqqoyMjJUVFSIiIgAAAAoDOMTAAAAAXRSTlMAQObYZgAAAOBJREFU\n",
       "GNNjYGB4+//u3Tt/GNAASGAXmhjnPyDBgSbI/g1IxKEJ8nxgYGdgQRPkX8BgDKRY6q7s62OYvmze\n",
       "2wAgb/7ZO1+AVDiDkYEQQ0HTBr4DQF59AgOIKmB4z7CNbcNZBu6vQN55kEACQwDDLQYGVobfDHwg\n",
       "fb8YGBxYHwAZciD3fWXg+gB1JjvQcJZvQIXsCgz8F6DO9GBgMOH7wPCUgaeBwd4B7EwGNjUG7s9c\n",
       "AiwPgO5jkWRgiF3/9+5dfQUG1nWl5Y+B7pv+1gE9bBhqGLCAE1jEWH9jEbT5A3IwAC4sP/1L6Qlu\n",
       "AAAAAElFTkSuQmCC\n",
       "\" style=\"display:inline;vertical-align:middle;\" /></a></td></tr>\n",
       "<tr><td>10</td><td>ExprTuple</td><td>11, 12</td><td><a class=\"ProveItLink\" href=\"../99d9e2a7ce1678a36d25eb1d98e07cd4f4d6b5730/expr.ipynb\"><img src=\"data:image/png;base64,iVBORw0KGgoAAAANSUhEUgAAAC0AAAAVBAMAAAAgHXppAAAAMFBMVEX////c3NwiIiJERESqqqqY\n",
       "mJh2dnZmZmYQEBDu7u4yMjJUVFTMzMyIiIi6uroAAAAs73DqAAAAAXRSTlMAQObYZgAAAQJJREFU\n",
       "GNNjYMAF+C5gCMWBiNMMWZ/Xr1B2gAnybGBgPwCkVzIwGLzlXJkGE2cyYGBYwMDAewEkznCPCyZ+\n",
       "AygexsDAMQEs7so9ASLMGAUUn8HA8IoBol4YqpyNCyjO7MBQBhbnUbWEigeCxNkKGJaCxB/p/4C6\n",
       "lvMCSJxlAUMfxJy7zlBjGEDifA0M/yDizHwJYHEfsDjPB7g4gwHYmASYeAuKOMvu3fu7L4DMMUWY\n",
       "A/EBB1AB6wKGdIh4+GUGzk9wcaA7HzGAws2o24GBs18A5KD93wMYuB4wcAggQhzOBIYDawJcnBXO\n",
       "yoWEM7o4JzCcGaTh4vCI4wYZyIgZj3cYGADgx0Rx/3IEeAAAAABJRU5ErkJggg==\n",
       "\" style=\"display:inline;vertical-align:middle;\" /></a></td></tr>\n",
       "<tr><td>11</td><td>Literal</td><td></td><td><a class=\"ProveItLink\" href=\"../../../__pv_it/46271c8230be96415d662709611f4ed2279d702b0/expr.ipynb\"><img src=\"data:image/png;base64,iVBORw0KGgoAAAANSUhEUgAAAA0AAAAOBAMAAAAGUYvhAAAAMFBMVEX///9mZmbMzMzc3NxUVFSY\n",
       "mJju7u6IiIi6urqqqqoiIiIQEBBEREQyMjJ2dnYAAAAQvcRZAAAAAXRSTlMAQObYZgAAAElJREFU\n",
       "CNdjePvn/u01ExgYGA60s117B6YZKngh9FSWBAjfBsxnWnoMRHet/10AkS+fA6F5OB5AaIYDqDRU\n",
       "PLCGgQFoz6ktExgAgLIl8DFvGtkAAAAASUVORK5CYII=\n",
       "\" style=\"display:inline;vertical-align:middle;\" /></a></td></tr>\n",
       "<tr><td>12</td><td>Literal</td><td></td><td><a class=\"ProveItLink\" href=\"../../../../../number/numeral/__pv_it/23412ce59ea7e77353d2f9225e02248e73651ca00/expr.ipynb\"><img src=\"data:image/png;base64,iVBORw0KGgoAAAANSUhEUgAAAAoAAAAPBAMAAAAv0UM9AAAALVBMVEX///9mZmaqqqru7u52dnYy\n",
       "MjKYmJjc3NwQEBCIiIhEREQiIiJUVFTMzMwAAACUDTcXAAAAAXRSTlMAQObYZgAAAD5JREFUCNdj\n",
       "YGBguMMAArtABGcXiCyLApEOIJKtAERaMoBIBxDJdAFEmjCASJ0zZ16cBCkF64KQPu/EwBwGACv6\n",
       "DSRgin9qAAAAAElFTkSuQmCC\n",
       "\" style=\"display:inline;vertical-align:middle;\" /></a></td></tr>\n",
       "</table>\n"
      ],
      "text/plain": [
       "0. (A , B , C , D) in BOOLEANS^{4}\n",
       "   core type: Operation\n",
       "   operator: 1\n",
       "   operands: 2\n",
       "1. in\n",
       "   core type: Literal\n",
       "   sub-expressions: \n",
       "2. ((A , B , C , D) , BOOLEANS^{4})\n",
       "   core type: ExprTuple\n",
       "   sub-expressions: 3, 4\n",
       "3. (A , B , C , D)\n",
       "   core type: ExprTuple\n",
       "   sub-expressions: 5, 6, 7, 8\n",
       "4. BOOLEANS^{4}\n",
       "   core type: Operation\n",
       "   operator: 9\n",
       "   operands: 10\n",
       "5. A\n",
       "   core type: Variable\n",
       "   sub-expressions: \n",
       "6. B\n",
       "   core type: Variable\n",
       "   sub-expressions: \n",
       "7. C\n",
       "   core type: Variable\n",
       "   sub-expressions: \n",
       "8. D\n",
       "   core type: Variable\n",
       "   sub-expressions: \n",
       "9. Exp\n",
       "   core type: Literal\n",
       "   sub-expressions: \n",
       "10. (BOOLEANS , 4)\n",
       "    core type: ExprTuple\n",
       "    sub-expressions: 11, 12\n",
       "11. BOOLEANS\n",
       "    core type: Literal\n",
       "    sub-expressions: \n",
       "12. 4\n",
       "    core type: Literal\n",
       "    sub-expressions: "
      ]
     },
     "execution_count": 4,
     "metadata": {},
     "output_type": "execute_result"
    }
   ],
   "source": [
    "# display the expression information\n",
    "expr.exprInfo()"
   ]
  },
  {
   "cell_type": "code",
   "execution_count": null,
   "metadata": {},
   "outputs": [],
   "source": []
  }
 ],
 "metadata": {
  "kernelspec": {
   "display_name": "Python 3",
   "language": "python",
   "name": "python3"
  }
 },
 "nbformat": 4,
 "nbformat_minor": 0
}
