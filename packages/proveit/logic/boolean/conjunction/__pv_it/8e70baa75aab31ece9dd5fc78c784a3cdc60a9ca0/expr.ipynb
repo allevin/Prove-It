{
 "cells": [
  {
   "cell_type": "markdown",
   "metadata": {},
   "source": [
    "Expression of type <a class=\"ProveItLink\" href=\"../../../../../../../doc/html/api/proveit.logic.And.html\">And</a>\n",
    "=======================\n",
    "# from context <a class=\"ProveItLink\" href=\"../../_context_.ipynb\">proveit.logic.boolean.conjunction</a>"
   ]
  },
  {
   "cell_type": "code",
   "execution_count": 1,
   "metadata": {},
   "outputs": [],
   "source": [
    "# import Expression classes needed to build the expression\n",
    "from proveit._common_ import A, B, C, D, E\n",
    "from proveit.logic import And"
   ]
  },
  {
   "cell_type": "code",
   "execution_count": 2,
   "metadata": {},
   "outputs": [
    {
     "data": {
      "text/html": [
       "<strong id=\"expr\">expr:</strong> <a class=\"ProveItLink\" href=\"expr.ipynb\"><img src=\"data:image/png;base64,iVBORw0KGgoAAAANSUhEUgAAAL8AAAAVBAMAAADlQyK9AAAAMFBMVEX///8iIiIQEBCYmJjc3Ny6\n",
       "urru7u5mZmZ2dnaqqqrMzMxEREQyMjJUVFSIiIgAAABUCcz6AAAAAXRSTlMAQObYZgAAArpJREFU\n",
       "OMvFVU1oE1EQ/tLsZrP5a/DQmygivSi43gT/9qQIYkMPequ5CVIk6kH00qJgj+2tFw/Raw2pvQmF\n",
       "Bq16KJIIFsG6JnexVfyrbWJ8M7Mb9wUt7MnAe7v7vXnfzPtm5gX4T7+xqBvihX8ufex63kpZx1IN\n",
       "eeT7bI8r28U+qsSHN9eNEm71meaaHc+r1+i1Ddg/BT3lr2aK8vgkn0Yx2HYAsL7p2G0H5jUHGegU\n",
       "GFTk9jyFuammCTF/4S+uy+Pwd99fKTjZLzU6GjY+pKZpF/FJaBS42FITGeUoomqL9z/ywxqWIGe/\n",
       "yufcUHBuBcQ3NewJbRlVSu2FRoFpJXuCaNOkwwiLnh1jPzBrQpcTNbDqnwhpxRIbDmMWi3tajccI\n",
       "UwB1YBIuaUU6VdnBOCSrlhz3vP1F0liLBbo2YKwUw9gIx3JZjSmEKYBtxB1+YXVOMuUd3BR9eSVR\n",
       "IMnVL+lYM7Kp+n79qqNhE06g+T2EKWC2vbrLbxtUok2uvTzOMjTAXyaMH/wZgyGaYcNFYreG7XED\n",
       "B6MIUyC5FRTWEk37uFlayHJDDLKDiudts8UJ4K3YLpATJ4x1GSfVqhoFlXgSKdFK4Sx2rOh3mDhQ\n",
       "00G2VfVSEQednpoBdogmuxw46FFQag1c8UsbA5RozKqxzBKRvLYau3i7KuYMK5GiOJozYaxJwVs9\n",
       "iXoU0gZ3qRa31LTIlbHsWyBNKpyRUhMiuxS0gdHWsGrAg2MaBbeBUfLb4CFvT81z8ihBJapDyg85\n",
       "npPk+W3w4DnCWFz1wQU+3pRGwbHdV04uLXW8NbmosqR8jiIy8zAW2i6OdqnxV4PLw1K2755Km/Uu\n",
       "lMrLG1LDz8IUiTV1Lb76rN9/JvzUAvvDeOHP4g4YXxUhip1/R6L/gyRbUawzxcgOxiNZG43IDl5H\n",
       "Mz8XlT9X/jv+G5X9yoAqxC1IAAAAAElFTkSuQmCC\n",
       "\" style=\"display:inline;vertical-align:middle;\" /></a><br>"
      ],
      "text/plain": [
       "expr: D and (A and B and C) and E"
      ]
     },
     "execution_count": 2,
     "metadata": {},
     "output_type": "execute_result"
    }
   ],
   "source": [
    "# build up the expression from sub-expressions\n",
    "expr = And(D, And(A, B, C), E)"
   ]
  },
  {
   "cell_type": "code",
   "execution_count": 3,
   "metadata": {},
   "outputs": [
    {
     "name": "stdout",
     "output_type": "stream",
     "text": [
      "Passed sanity check: built 'expr' is the same as the stored Expression.\n"
     ]
    }
   ],
   "source": [
    "# check that the built expression is the same as the stored expression\n",
    "%check_expr"
   ]
  },
  {
   "cell_type": "code",
   "execution_count": 4,
   "metadata": {},
   "outputs": [
    {
     "data": {
      "text/html": [
       "<table><tr><th>&nbsp;</th><th>core type</th><th>sub-expressions</th><th>expression</th></tr>\n",
       "<tr><td>0</td><td>Operation</td><td>operator:&nbsp;5<br>operands:&nbsp;1<br></td><td><a class=\"ProveItLink\" href=\"expr.ipynb\"><img src=\"data:image/png;base64,iVBORw0KGgoAAAANSUhEUgAAAL8AAAAVBAMAAADlQyK9AAAAMFBMVEX///8iIiIQEBCYmJjc3Ny6\n",
       "urru7u5mZmZ2dnaqqqrMzMxEREQyMjJUVFSIiIgAAABUCcz6AAAAAXRSTlMAQObYZgAAArpJREFU\n",
       "OMvFVU1oE1EQ/tLsZrP5a/DQmygivSi43gT/9qQIYkMPequ5CVIk6kH00qJgj+2tFw/Raw2pvQmF\n",
       "Bq16KJIIFsG6JnexVfyrbWJ8M7Mb9wUt7MnAe7v7vXnfzPtm5gX4T7+xqBvihX8ufex63kpZx1IN\n",
       "eeT7bI8r28U+qsSHN9eNEm71meaaHc+r1+i1Ddg/BT3lr2aK8vgkn0Yx2HYAsL7p2G0H5jUHGegU\n",
       "GFTk9jyFuammCTF/4S+uy+Pwd99fKTjZLzU6GjY+pKZpF/FJaBS42FITGeUoomqL9z/ywxqWIGe/\n",
       "yufcUHBuBcQ3NewJbRlVSu2FRoFpJXuCaNOkwwiLnh1jPzBrQpcTNbDqnwhpxRIbDmMWi3tajccI\n",
       "UwB1YBIuaUU6VdnBOCSrlhz3vP1F0liLBbo2YKwUw9gIx3JZjSmEKYBtxB1+YXVOMuUd3BR9eSVR\n",
       "IMnVL+lYM7Kp+n79qqNhE06g+T2EKWC2vbrLbxtUok2uvTzOMjTAXyaMH/wZgyGaYcNFYreG7XED\n",
       "B6MIUyC5FRTWEk37uFlayHJDDLKDiudts8UJ4K3YLpATJ4x1GSfVqhoFlXgSKdFK4Sx2rOh3mDhQ\n",
       "00G2VfVSEQednpoBdogmuxw46FFQag1c8UsbA5RozKqxzBKRvLYau3i7KuYMK5GiOJozYaxJwVs9\n",
       "iXoU0gZ3qRa31LTIlbHsWyBNKpyRUhMiuxS0gdHWsGrAg2MaBbeBUfLb4CFvT81z8ihBJapDyg85\n",
       "npPk+W3w4DnCWFz1wQU+3pRGwbHdV04uLXW8NbmosqR8jiIy8zAW2i6OdqnxV4PLw1K2755Km/Uu\n",
       "lMrLG1LDz8IUiTV1Lb76rN9/JvzUAvvDeOHP4g4YXxUhip1/R6L/gyRbUawzxcgOxiNZG43IDl5H\n",
       "Mz8XlT9X/jv+G5X9yoAqxC1IAAAAAElFTkSuQmCC\n",
       "\" style=\"display:inline;vertical-align:middle;\" /></a></td></tr>\n",
       "<tr><td>1</td><td>ExprTuple</td><td>2, 3, 4</td><td><a class=\"ProveItLink\" href=\"../e68e01b6b319d0578160247368ede622e56fcb090/expr.ipynb\"><img src=\"data:image/png;base64,iVBORw0KGgoAAAANSUhEUgAAAJ8AAAAVBAMAAACqHiFtAAAAMFBMVEX////c3NwiIiJERESqqqqY\n",
       "mJh2dnZmZmYQEBDu7u4yMjJUVFTMzMyIiIi6uroAAAAs73DqAAAAAXRSTlMAQObYZgAAAn5JREFU\n",
       "OMutVU1oE0EU/jZxk2x30wQURD2Yu0KLIEoVsuChF6G56EUwuYgnMf6gxxZsD73YHEtFTZUi4sHe\n",
       "hCyS4EnwkNxVEr0IgpgqCiZaffPeTDLpwUPJwGxmvjfvm3nvfTMBxt4mW+Pjuqg+b6in6/2odtqy\n",
       "vNqx8sLfKJrp7ADvn7pd2C/Dt2Sv9ZBs0PipAjJVYC4crn2ufw8Y4A6Q3B7FEkvApyU96VE/AxBN\n",
       "miNulsjh14DPnarI4IkGgj/U+yOY94jWJLZ03siOJHAeSLFruyNOuu2bzwrPMU2cJkf35wg2sayI\n",
       "FvRpf6sUAKvAZwby1J3+gLDVlnz5X3TF4uQYWx7B5lWGnLLYJ7pIwKF1IW4x8B3DkGjfylyBB2vI\n",
       "CZLZhPO4YmNOj+NuaPs0zvFJy9gwKTIhUXuAppziEm4K0nz5/rrsYbDkD7vgX5/VOJt7qrjLKVIp\n",
       "8LeNuYPDEkoOBwVpZ+EdgY3FtmzCqw1VYM4ps8S79EktmJJGUX2ai92CLzGdVKQFG8t0OeShzEog\n",
       "OOgKYUb5FwsmhUTO+8UqCDYZUuktlmwsxYRntQvVIOu1mHCRU9QS7Uqj8sX4tLPU1/nMKmH10MZ8\n",
       "Vm3ZkmGiwiEf5xTRaeN0ZbiOTsgy0I6zRoZS1gEWaA5vIEN1C90qLmsZBnQBvG+iC2JX+wcqETEj\n",
       "w9d8R4dYMcTkNeBhTmSI4KjI5iPx3KCrfYIO6a3QBdm7sg4336NgfKVudTWTeXo7NkTWBkNQe6H0\n",
       "s0qHv0f2aIqZO0hl7acsO/KwaQ39H/tgm+nquSVr7u7iDSzYkyvm+RoToafUdsgCdvF4p+2Jr1Lm\n",
       "jPEv4B3wDyN8teB+116fAAAAAElFTkSuQmCC\n",
       "\" style=\"display:inline;vertical-align:middle;\" /></a></td></tr>\n",
       "<tr><td>2</td><td>Variable</td><td></td><td><a class=\"ProveItLink\" href=\"../../../../../__pv_it/185e6d30f167ee2ee5ef3321098dc98e0d77bc590/expr.ipynb\"><img src=\"data:image/png;base64,iVBORw0KGgoAAAANSUhEUgAAABEAAAAOBAMAAAA7w+qHAAAALVBMVEX///8QEBCYmJjc3Ny6urru\n",
       "7u5mZmZ2dnaqqqrMzMxEREQyMjJUVFSIiIgAAABETr/8AAAAAXRSTlMAQObYZgAAAGpJREFUCNdj\n",
       "YGC48+7MmV0TGEDgNQMDxwsQg/M5kMgLABK8T4DEvAtAgusBkLA7ACT4FoDEDsAk9AqAxD2QCecc\n",
       "gMQ6kAGCIOIVEDM9Ahn3FkgwgnTxvgQSqwOgxs1OADLC1r05cyoTyAAAv4Qe+njAWvgAAAAASUVO\n",
       "RK5CYII=\n",
       "\" style=\"display:inline;vertical-align:middle;\" /></a></td></tr>\n",
       "<tr><td>3</td><td>Operation</td><td>operator:&nbsp;5<br>operands:&nbsp;6<br></td><td><a class=\"ProveItLink\" href=\"../0923e7892389f8c266d577b21408f3e5982677d10/expr.ipynb\"><img src=\"data:image/png;base64,iVBORw0KGgoAAAANSUhEUgAAAF8AAAAPBAMAAABw7A4xAAAAMFBMVEX///92dnYQEBBERERUVFS6\n",
       "urqIiIhmZmaqqqrc3Nzu7u6YmJgyMjIiIiLMzMwAAACFkkdwAAAAAXRSTlMAQObYZgAAAVpJREFU\n",
       "KM9jYACBtwyogNv/i4vzUTRBrmT3as4CCPs8VGwWTJLJgIGhPgBVTGgDA2vRBoiB9xdAxI7DJN8n\n",
       "ALEDitiaW0BCfgKYPaMeQvPZQjUy5AMF9gugiB0C0UEQdkI+xHaWsASoBiMgvrQAWYz9B4icDmaz\n",
       "LuiHOG0NwwWohi8MDHOsUMTmHwCR68DspWAnA4E0QwVEPd+XtPTbDChi9RsQ4RXAMB8SWhcY5kBE\n",
       "2H4yMKx1QBG7PwGuns/Fxd8AHFgJDCwPwELMCkBNv1HE/oMlwN5iBQY72IG8Cxj4IMbyAynujyhi\n",
       "+iCCA6y3ASisAGK0A/FJSDQAHczyA0XMH2Q4O4jFCdTA84EBKtEOjwZIsMDFwOEiBQk3oJt/gfwC\n",
       "8ggvLBr4dBagiHEDLQwHeXyy/kkGbvs/wGBiAcUeG8ig4v8uLmfAwYgQY3hypLwBNTWyQsMYvxgA\n",
       "4ldg9Iuqv2cAAAAASUVORK5CYII=\n",
       "\" style=\"display:inline;vertical-align:middle;\" /></a></td></tr>\n",
       "<tr><td>4</td><td>Variable</td><td></td><td><a class=\"ProveItLink\" href=\"../../../../../__pv_it/9995c55100c62d7d8a012a35bafc852acbe03cf00/expr.ipynb\"><img src=\"data:image/png;base64,iVBORw0KGgoAAAANSUhEUgAAABAAAAAOBAMAAADUAYG5AAAALVBMVEX///8iIiKYmJjc3Nzu7u7M\n",
       "zMx2dnZmZma6urpERESqqqoyMjJUVFSIiIgAAACbLqVTAAAAAXRSTlMAQObYZgAAAGVJREFUCNdj\n",
       "YGC48+7MmdOvGYAARKwEYo63QIIdiNmeAglfIOZ+wMDGwAxk8E1gUAIpZejbc/oxmJEXwLABzNjH\n",
       "wJDAEABkvGRgMGC5ADWGzQFqjDnEGAZWUQYGn3lvzpyRE2AAAIznGVQJqiN4AAAAAElFTkSuQmCC\n",
       "\" style=\"display:inline;vertical-align:middle;\" /></a></td></tr>\n",
       "<tr><td>5</td><td>Literal</td><td></td><td><a class=\"ProveItLink\" href=\"../76b5f4f4c45c0b6a9b59b297fc07dfa9555698f50/expr.ipynb\"><img src=\"data:image/png;base64,iVBORw0KGgoAAAANSUhEUgAAAAwAAAAOBAMAAADpk+DfAAAALVBMVEX///+qqqqYmJh2dnaIiIi6\n",
       "urpUVFQiIiJERETMzMxmZmYyMjLu7u7c3NwAAABvwqPxAAAAAXRSTlMAQObYZgAAAEtJREFUCNdj\n",
       "YGDgPcAAAtwLwNSMGjCV6gIieTawgyhmBS4BIMXOwLsBSKkwMGQCKaC6aQwMjEBd3BdACMScAVJd\n",
       "wJAKolwYAkAUKwAk0guX6efcigAAAABJRU5ErkJggg==\n",
       "\" style=\"display:inline;vertical-align:middle;\" /></a></td></tr>\n",
       "<tr><td>6</td><td>ExprTuple</td><td>7, 8, 9</td><td><a class=\"ProveItLink\" href=\"../3f290ae5514e8ababf154639022a3e6aa30f85750/expr.ipynb\"><img src=\"data:image/png;base64,iVBORw0KGgoAAAANSUhEUgAAAE8AAAAVBAMAAAD1D64kAAAAMFBMVEX////c3NwiIiJERESqqqqY\n",
       "mJh2dnZmZmYQEBDu7u4yMjJUVFTMzMyIiIi6uroAAAAs73DqAAAAAXRSTlMAQObYZgAAAZVJREFU\n",
       "KM+NUztLA0EQ/mI8k8vjDCgIWqQStEoaQSvzD0xlqenUQjwQH11SWFmYw0pE5CwEH6CChcUVCbYp\n",
       "ErCwURJsFKsoUdCAcXbn1iSFmoWb+765b3Yeuwd0vIzS/5oZYQqMr5VTy9WdyzPF9JurFY/pyxM8\n",
       "Zs/5T7g/DqQrLplPwlhPwgbCnFmLWUpYJE/xgvHuKJmlCKYpngX96YgSlgnNphgfia9PwA7wzJ5S\n",
       "WSXDOD0jHO6rCTsAeBNY5datqaQS1oHBCYZRW9g9oMfEofTsy8rkCtXvb4ddnFbR3Ta2JKggarq+\n",
       "8Auw7fYSU4UbGXzJXRwnF3d93gyJ3xg3pKV6Q1UWGtS97Qp7aTftnXFWps1L4YbACaAro8ZIdQVr\n",
       "jHOieR+nHqOXh4SBqszBYxTdWu7ssSDOw8acmL8o7QP6qzvG0KbFRKOdH0VDNJ4HoC97AG3y09Sz\n",
       "5FtuOM4JZZcEhdO1hIgOVOCPtNy4CH4hdIRaqkm11jvYRhab1+xPoS5mN9TkbXe9lQRFGZ4OfoU7\n",
       "4BvUnmWyIUTp6gAAAABJRU5ErkJggg==\n",
       "\" style=\"display:inline;vertical-align:middle;\" /></a></td></tr>\n",
       "<tr><td>7</td><td>Variable</td><td></td><td><a class=\"ProveItLink\" href=\"../../../../../__pv_it/2cbe72a7ad6f655694dd697106680215e8489b600/expr.ipynb\"><img src=\"data:image/png;base64,iVBORw0KGgoAAAANSUhEUgAAAA8AAAAOBAMAAAACpFvcAAAALVBMVEX///8QEBBERERUVFS6urqI\n",
       "iIhmZmaqqqrc3Nzu7u6YmJgyMjIiIiLMzMwAAADtIaYWAAAAAXRSTlMAQObYZgAAAFtJREFUCNdj\n",
       "YACBOwxQsA9Kc52bAGG05zVAGAFxDmCaZULdAjBjCsO9ADDDgaEvAUTzGhvbKYCVMDAwbgAxChgY\n",
       "eASANAeQwf0AyJgNxEwvGRia5HYwcOm9TgAA6BoR3jrzwFcAAAAASUVORK5CYII=\n",
       "\" style=\"display:inline;vertical-align:middle;\" /></a></td></tr>\n",
       "<tr><td>8</td><td>Variable</td><td></td><td><a class=\"ProveItLink\" href=\"../../../../../__pv_it/077b2ff79244fb4582cbe22c6e3356fa92a52f2f0/expr.ipynb\"><img src=\"data:image/png;base64,iVBORw0KGgoAAAANSUhEUgAAABAAAAAOBAMAAADUAYG5AAAAMFBMVEX///+qqqru7u4iIiJ2dnbc\n",
       "3NyIiIjMzMxmZmYQEBC6uroyMjJERERUVFSYmJgAAADLUcuvAAAAAXRSTlMAQObYZgAAAGpJREFU\n",
       "CNdjYGB4+//u3dMLGIBgDgMDxy8gzf4NiP8CGWxfGRj4vgAZPBMYGJgnARn8FxhY9ygAGfXX0pof\n",
       "gDTlBzAw2YIYJ0EckBBI53sHoBH/gIz7AhBjWH9DjancBLTl/N+7t/cxMAAA3u4f/5xagjYAAAAA\n",
       "SUVORK5CYII=\n",
       "\" style=\"display:inline;vertical-align:middle;\" /></a></td></tr>\n",
       "<tr><td>9</td><td>Variable</td><td></td><td><a class=\"ProveItLink\" href=\"../../../../../__pv_it/985a1bdf1540838275dec15f4ad6de261cca93ce0/expr.ipynb\"><img src=\"data:image/png;base64,iVBORw0KGgoAAAANSUhEUgAAAA8AAAAOBAMAAAACpFvcAAAAMFBMVEX////MzMyqqqoiIiIyMjK6\n",
       "uroQEBB2dnbc3NyYmJhmZmZUVFRERESIiIju7u4AAAB204erAAAAAXRSTlMAQObYZgAAAGZJREFU\n",
       "CNdjYGDgu7NrJccCBgaGsgkMrMsmMDA8sQNy6hsYGNweABlhDAxcn4A0QxcDQ78DiPGQgWH9BAYI\n",
       "sG+AMv6DSaCGfBDNJMDAsB+kmwuI5S8AiTog5gSaEwXWIO29SgFIAQBC+RaDQlidVgAAAABJRU5E\n",
       "rkJggg==\n",
       "\" style=\"display:inline;vertical-align:middle;\" /></a></td></tr>\n",
       "</table>\n"
      ],
      "text/plain": [
       "0. D and (A and B and C) and E\n",
       "   core type: Operation\n",
       "   operator: 5\n",
       "   operands: 1\n",
       "1. (D , A and B and C , E)\n",
       "   core type: ExprTuple\n",
       "   sub-expressions: 2, 3, 4\n",
       "2. D\n",
       "   core type: Variable\n",
       "   sub-expressions: \n",
       "3. A and B and C\n",
       "   core type: Operation\n",
       "   operator: 5\n",
       "   operands: 6\n",
       "4. E\n",
       "   core type: Variable\n",
       "   sub-expressions: \n",
       "5. and\n",
       "   core type: Literal\n",
       "   sub-expressions: \n",
       "6. (A , B , C)\n",
       "   core type: ExprTuple\n",
       "   sub-expressions: 7, 8, 9\n",
       "7. A\n",
       "   core type: Variable\n",
       "   sub-expressions: \n",
       "8. B\n",
       "   core type: Variable\n",
       "   sub-expressions: \n",
       "9. C\n",
       "   core type: Variable\n",
       "   sub-expressions: "
      ]
     },
     "execution_count": 4,
     "metadata": {},
     "output_type": "execute_result"
    }
   ],
   "source": [
    "# display the expression information\n",
    "expr.exprInfo()"
   ]
  },
  {
   "cell_type": "code",
   "execution_count": null,
   "metadata": {},
   "outputs": [],
   "source": []
  }
 ],
 "metadata": {
  "kernelspec": {
   "display_name": "Python 3",
   "language": "python",
   "name": "python3"
  }
 },
 "nbformat": 4,
 "nbformat_minor": 0
}
