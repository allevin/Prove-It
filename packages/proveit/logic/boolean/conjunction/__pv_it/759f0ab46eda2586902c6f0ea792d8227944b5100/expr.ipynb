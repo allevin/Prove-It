{
 "cells": [
  {
   "cell_type": "markdown",
   "metadata": {},
   "source": [
    "Expression of type <a class=\"ProveItLink\" href=\"../../../../../../../doc/html/api/proveit.logic.InSet.html\">InSet</a>\n",
    "=======================\n",
    "# from context <a class=\"ProveItLink\" href=\"../../_context_.ipynb\">proveit.logic.boolean.conjunction</a>"
   ]
  },
  {
   "cell_type": "code",
   "execution_count": 1,
   "metadata": {},
   "outputs": [],
   "source": [
    "# import Expression classes needed to build the expression\n",
    "from proveit._common_ import D, E\n",
    "from proveit.logic import Booleans, InSet\n",
    "from proveit.number import Exp, two"
   ]
  },
  {
   "cell_type": "code",
   "execution_count": 2,
   "metadata": {},
   "outputs": [
    {
     "data": {
      "text/html": [
       "<strong id=\"expr\">expr:</strong> <a class=\"ProveItLink\" href=\"expr.ipynb\"><img src=\"data:image/png;base64,iVBORw0KGgoAAAANSUhEUgAAAGkAAAAZBAMAAADAjh3IAAAAMFBMVEX////c3NwiIiJERESqqqqY\n",
       "mJh2dnZmZmYQEBDu7u4yMjJUVFTMzMyIiIi6uroAAAAs73DqAAAAAXRSTlMAQObYZgAAAfVJREFU\n",
       "OMtjYCAVsBXvZCAdVDJUkaFLkUH+AOm6WhjmPyDDMgb/CQwMfBewy8Xh1LUMiE8D8e3/u3cvhrmW\n",
       "d//v3bvXL2BHcz3beqtfTSYgxgYgsRIk9IuBgeULTJ5/AZBnwLAAzQpmvguzpiUwMISBTAY5kOcb\n",
       "kKifAJV+DxIqAMui6eJ9sICBL4HnAAMHSC3vPyBxHubBfKDbOC8wzIDwOG8pKS2A6mIJ2Mlw2MV7\n",
       "AsMrsMAHICG/AaprPQNDAoMAA7MDmHcqEsmuhwYM/f//MzCUgX1iALILpuszA2sAyNcFIA6jJZIL\n",
       "DwVDfbGUAea4+ASICN+v3esFgDQLxF0CCF1K/3uh7D4QcR8UyvuhUc72h4ELrLsBRE5GCY0rBhA2\n",
       "KBwY7EFEB1SW6wMDGwMPMGBBnmV4oaSECA0Gg2dIuj4DMetXWHQZMDAyzIXpOo1sF4MBMywxAuX/\n",
       "AgkOA+ToyoS5cBJWXaag6PoDJKwmMHDCo4sRGH6sYHdxB6DogrowHRpdp4Dq5itAo4vh0AFYyHPq\n",
       "IelirYU66BEDw3T737s31wDZMz4CVW0GpuRNn0ChAglTqRp46v2ssQVqAocAUlJ7iJzuoCmKwXuR\n",
       "EnpCZmBNQOIEIMvk4suZK3Ho4lyAT5c0gsmLLM4tgE8XI44S4A4ePQCIiIwPxlbcMwAAAABJRU5E\n",
       "rkJggg==\n",
       "\" style=\"display:inline;vertical-align:middle;\" /></a><br>"
      ],
      "text/plain": [
       "expr: (D , E) in BOOLEANS^{2}"
      ]
     },
     "execution_count": 2,
     "metadata": {},
     "output_type": "execute_result"
    }
   ],
   "source": [
    "# build up the expression from sub-expressions\n",
    "expr = InSet([D, E], Exp(Booleans, two))"
   ]
  },
  {
   "cell_type": "code",
   "execution_count": 3,
   "metadata": {},
   "outputs": [
    {
     "name": "stdout",
     "output_type": "stream",
     "text": [
      "Passed sanity check: built 'expr' is the same as the stored Expression.\n"
     ]
    }
   ],
   "source": [
    "# check that the built expression is the same as the stored expression\n",
    "%check_expr"
   ]
  },
  {
   "cell_type": "code",
   "execution_count": 4,
   "metadata": {},
   "outputs": [
    {
     "data": {
      "text/html": [
       "<table><tr><th>&nbsp;</th><th>core type</th><th>sub-expressions</th><th>expression</th></tr>\n",
       "<tr><td>0</td><td>Operation</td><td>operator:&nbsp;1<br>operands:&nbsp;2<br></td><td><a class=\"ProveItLink\" href=\"expr.ipynb\"><img src=\"data:image/png;base64,iVBORw0KGgoAAAANSUhEUgAAAGkAAAAZBAMAAADAjh3IAAAAMFBMVEX////c3NwiIiJERESqqqqY\n",
       "mJh2dnZmZmYQEBDu7u4yMjJUVFTMzMyIiIi6uroAAAAs73DqAAAAAXRSTlMAQObYZgAAAfVJREFU\n",
       "OMtjYCAVsBXvZCAdVDJUkaFLkUH+AOm6WhjmPyDDMgb/CQwMfBewy8Xh1LUMiE8D8e3/u3cvhrmW\n",
       "d//v3bvXL2BHcz3beqtfTSYgxgYgsRIk9IuBgeULTJ5/AZBnwLAAzQpmvguzpiUwMISBTAY5kOcb\n",
       "kKifAJV+DxIqAMui6eJ9sICBL4HnAAMHSC3vPyBxHubBfKDbOC8wzIDwOG8pKS2A6mIJ2Mlw2MV7\n",
       "AsMrsMAHICG/AaprPQNDAoMAA7MDmHcqEsmuhwYM/f//MzCUgX1iALILpuszA2sAyNcFIA6jJZIL\n",
       "DwVDfbGUAea4+ASICN+v3esFgDQLxF0CCF1K/3uh7D4QcR8UyvuhUc72h4ELrLsBRE5GCY0rBhA2\n",
       "KBwY7EFEB1SW6wMDGwMPMGBBnmV4oaSECA0Gg2dIuj4DMetXWHQZMDAyzIXpOo1sF4MBMywxAuX/\n",
       "AgkOA+ToyoS5cBJWXaag6PoDJKwmMHDCo4sRGH6sYHdxB6DogrowHRpdp4Dq5itAo4vh0AFYyHPq\n",
       "IelirYU66BEDw3T737s31wDZMz4CVW0GpuRNn0ChAglTqRp46v2ssQVqAocAUlJ7iJzuoCmKwXuR\n",
       "EnpCZmBNQOIEIMvk4suZK3Ho4lyAT5c0gsmLLM4tgE8XI44S4A4ePQCIiIwPxlbcMwAAAABJRU5E\n",
       "rkJggg==\n",
       "\" style=\"display:inline;vertical-align:middle;\" /></a></td></tr>\n",
       "<tr><td>1</td><td>Literal</td><td></td><td><a class=\"ProveItLink\" href=\"../../../../set_theory/membership/__pv_it/088cbc857536a28d4119ad9639a84270ccb0545d0/expr.ipynb\"><img src=\"data:image/png;base64,iVBORw0KGgoAAAANSUhEUgAAAAwAAAAMBAMAAACkW0HUAAAALVBMVEX///+qqqpmZmZUVFQQEBC6\n",
       "urpERETc3NyYmJjMzMwiIiIyMjKIiIju7u4AAACYsrA9AAAAAXRSTlMAQObYZgAAADxJREFUCNdj\n",
       "YOA9vWrVBgaG2b0MQMCeCyIZ2ArA1DUwyRCyahVIyWQI7xaEYm4AU7xLIdxqTQgtvGvVBgCkcQ7e\n",
       "geM/tQAAAABJRU5ErkJggg==\n",
       "\" style=\"display:inline;vertical-align:middle;\" /></a></td></tr>\n",
       "<tr><td>2</td><td>ExprTuple</td><td>3, 4</td><td><a class=\"ProveItLink\" href=\"../6139fac6fb8819abf5349a73a0199c8b4ef608b40/expr.ipynb\"><img src=\"data:image/png;base64,iVBORw0KGgoAAAANSUhEUgAAAG0AAAAcBAMAAACZqCwBAAAAMFBMVEX///+qqqp2dnYiIiJERESI\n",
       "iIhmZmYQEBDc3NyYmJgyMjLu7u5UVFTMzMy6uroAAACGxKilAAAAAXRSTlMAQObYZgAAAk5JREFU\n",
       "OMudVE1oE0EU/pom2023u0mhR6F78eLFgODPQYyXHorSSBEvSnuIF71UtCB46F704KWxiNBLuwh6\n",
       "sdClIIUiRMGL6YILek8QhJ5M0BYkjabv7c4045oetgsz+96897355r03AyT7UuVtHOe7iztS/JEE\n",
       "dx6LQSqUzPdJcPdQbUSILS8Z03EP1/n/iafvRzit/L/0Ehh0AH1OcM187vi1q9J6s+v7tTa0QOZx\n",
       "fbJ9/zIL7EpDmyVlmLnmXCKRl8A2jTHAlXraKm1t2MASycY+MNQgISRcp1VtX7hZezRpkZvEZRou\n",
       "LNskChfImxcf8TRDEcw9yesPTW+BTQU3UNnG19ETxK0M3ODgIZspGnpHuA23kIJO7nllv50iFrpd\n",
       "UlaBGvOx2bLLCZK4XBHL4b6zPdyX57JkTQ9XOHgFgmL2p7Ss1X7zf8A9xJ3pzkvS9QCvIXKT4RON\n",
       "/BWW00GUSmtO4XmtKJTFBs4yKcalWxxBuq0DNihzZquHQ/GbUKr5Hi7HwVYrwkKHdYxSHJfu7bfG\n",
       "u3DS6uSFB2r5Ut6/PBVcgI+8xrvMEKv0G2qGw/I94UTxKb04z6aDaZlsKp/JSaoWovLBvChMxq8I\n",
       "l70t80L1azKrAowyNfIEd/Em5f/dVMf3L4UB6OjGgsN9vXvug6zDKUoH+z5UL8qOqoR9Zjmxu/SK\n",
       "Ksa9sqQuVlTlJE/ZGMwgSmZB3qN+OMPth8vyOfky6sobk1E9RkKGpRhukM/2lKXHR7wTt/quvgg7\n",
       "1076hupROZ4lxWkejv0dAFiwnhvtc4AxAAAAAElFTkSuQmCC\n",
       "\" style=\"display:inline;vertical-align:middle;\" /></a></td></tr>\n",
       "<tr><td>3</td><td>ExprTuple</td><td>5, 6</td><td><a class=\"ProveItLink\" href=\"../7cd0d86dc8745a37001613191fefd14bae84ecb90/expr.ipynb\"><img src=\"data:image/png;base64,iVBORw0KGgoAAAANSUhEUgAAADcAAAAVBAMAAAAQkWtIAAAAMFBMVEX////c3NwiIiJERESqqqqY\n",
       "mJh2dnZmZmYQEBDu7u4yMjJUVFTMzMyIiIi6uroAAAAs73DqAAAAAXRSTlMAQObYZgAAATlJREFU\n",
       "KM99Uq9Pw0AYfc3W0pYV6hH8CzUYzPgTUEiYIwhCFYoEBAIFc2BImhAEqoTJE1uQIJiHZAsSQ8MA\n",
       "sY0f7+vukhODJvcu77277+71O+Dfb647XV8XuOd4/FHqoqPVqD1SKs9mhF+JMASq72bPfEaWgBhJ\n",
       "1donYb+pzVeRUqwBvkjRN+HBHL7DgkEXZ8CL0EpBWLzWZg40EKOygt3ylER2GnMAd5WTl+ISpuJG\n",
       "Q2cbqjzmXM1wLLwn1273J6Y3RlguOoBcBXWBI101LOChxgjFxBxwuB8mZgIH56V5KDG/CH5ix9wq\n",
       "yy5JzDFhmYGbJqaTslSGTR3zjjR40zFx2ymjPAOn9ZFq7VEKTmIELTbhRlaFffix3T6b8Pe5DYu7\n",
       "dkO3TcummAFbhgVLsB/FrBzh/PFMnoBfhNxX4uxpHFQAAAAASUVORK5CYII=\n",
       "\" style=\"display:inline;vertical-align:middle;\" /></a></td></tr>\n",
       "<tr><td>4</td><td>Operation</td><td>operator:&nbsp;7<br>operands:&nbsp;8<br></td><td><a class=\"ProveItLink\" href=\"../80916f78fe8f88648e548cee85f5261a65c126a40/expr.ipynb\"><img src=\"data:image/png;base64,iVBORw0KGgoAAAANSUhEUgAAABYAAAAUBAMAAAB7UtADAAAAMFBMVEX///9mZmbMzMzc3NxUVFSY\n",
       "mJju7u6IiIi6urqqqqoiIiIQEBBEREQyMjJ2dnYAAAAQvcRZAAAAAXRSTlMAQObYZgAAAIRJREFU\n",
       "CNdjYICCh0cSYEzGBMYLMDaXAfMnGJt7AtsPBjjg/IZg8z5gePvn/u01E4DsJ0B8oJ3t2jsGBtYH\n",
       "YDZDBS8DQx+DEpg9lSWB6eRMN4i4DQP3//8fQGympcegZh3oWv+7AMZuZyifg2DzcDxAsBkOYGcj\n",
       "qQmsgTCBbju1ZQKYCQDWoDT3EPNjYwAAAABJRU5ErkJggg==\n",
       "\" style=\"display:inline;vertical-align:middle;\" /></a></td></tr>\n",
       "<tr><td>5</td><td>Variable</td><td></td><td><a class=\"ProveItLink\" href=\"../../../../../__pv_it/185e6d30f167ee2ee5ef3321098dc98e0d77bc590/expr.ipynb\"><img src=\"data:image/png;base64,iVBORw0KGgoAAAANSUhEUgAAABEAAAAOBAMAAAA7w+qHAAAALVBMVEX///8QEBCYmJjc3Ny6urru\n",
       "7u5mZmZ2dnaqqqrMzMxEREQyMjJUVFSIiIgAAABETr/8AAAAAXRSTlMAQObYZgAAAGpJREFUCNdj\n",
       "YGC48+7MmV0TGEDgNQMDxwsQg/M5kMgLABK8T4DEvAtAgusBkLA7ACT4FoDEDsAk9AqAxD2QCecc\n",
       "gMQ6kAGCIOIVEDM9Ahn3FkgwgnTxvgQSqwOgxs1OADLC1r05cyoTyAAAv4Qe+njAWvgAAAAASUVO\n",
       "RK5CYII=\n",
       "\" style=\"display:inline;vertical-align:middle;\" /></a></td></tr>\n",
       "<tr><td>6</td><td>Variable</td><td></td><td><a class=\"ProveItLink\" href=\"../../../../../__pv_it/9995c55100c62d7d8a012a35bafc852acbe03cf00/expr.ipynb\"><img src=\"data:image/png;base64,iVBORw0KGgoAAAANSUhEUgAAABAAAAAOBAMAAADUAYG5AAAALVBMVEX///8iIiKYmJjc3Nzu7u7M\n",
       "zMx2dnZmZma6urpERESqqqoyMjJUVFSIiIgAAACbLqVTAAAAAXRSTlMAQObYZgAAAGVJREFUCNdj\n",
       "YGC48+7MmdOvGYAARKwEYo63QIIdiNmeAglfIOZ+wMDGwAxk8E1gUAIpZejbc/oxmJEXwLABzNjH\n",
       "wJDAEABkvGRgMGC5ADWGzQFqjDnEGAZWUQYGn3lvzpyRE2AAAIznGVQJqiN4AAAAAElFTkSuQmCC\n",
       "\" style=\"display:inline;vertical-align:middle;\" /></a></td></tr>\n",
       "<tr><td>7</td><td>Literal</td><td></td><td><a class=\"ProveItLink\" href=\"../../../../../number/exponentiation/__pv_it/deb2bf23cbccdd6e6791e1b35b5b9794ce12dbd50/expr.ipynb\"><img src=\"data:image/png;base64,iVBORw0KGgoAAAANSUhEUgAAACgAAAASBAMAAADbMYGVAAAAMFBMVEX///8QEBAiIiKYmJjc3Nzu\n",
       "7u7MzMx2dnZmZma6urpERESqqqoyMjJUVFSIiIgAAAAoDOMTAAAAAXRSTlMAQObYZgAAAOBJREFU\n",
       "GNNjYGB4+//u3Tt/GNAASGAXmhjnPyDBgSbI/g1IxKEJ8nxgYGdgQRPkX8BgDKRY6q7s62OYvmze\n",
       "2wAgb/7ZO1+AVDiDkYEQQ0HTBr4DQF59AgOIKmB4z7CNbcNZBu6vQN55kEACQwDDLQYGVobfDHwg\n",
       "fb8YGBxYHwAZciD3fWXg+gB1JjvQcJZvQIXsCgz8F6DO9GBgMOH7wPCUgaeBwd4B7EwGNjUG7s9c\n",
       "AiwPgO5jkWRgiF3/9+5dfQUG1nWl5Y+B7pv+1gE9bBhqGLCAE1jEWH9jEbT5A3IwAC4sP/1L6Qlu\n",
       "AAAAAElFTkSuQmCC\n",
       "\" style=\"display:inline;vertical-align:middle;\" /></a></td></tr>\n",
       "<tr><td>8</td><td>ExprTuple</td><td>9, 10</td><td><a class=\"ProveItLink\" href=\"../414e8800f1d1efa4c79fba266b1f17989e0e26480/expr.ipynb\"><img src=\"data:image/png;base64,iVBORw0KGgoAAAANSUhEUgAAAC0AAAAVBAMAAAAgHXppAAAAMFBMVEX////c3NwiIiJERESqqqqY\n",
       "mJh2dnZmZmYQEBDu7u4yMjJUVFTMzMyIiIi6uroAAAAs73DqAAAAAXRSTlMAQObYZgAAARFJREFU\n",
       "GNN10bFLw0AUx/FvqNEmTUqwo6M4JwgObgER/wPdpFOEglAUdNTBQRD0RseACHaqq5PuLgVXldBR\n",
       "EERFnKx3efYKLd4QHp/cPd79Dv5b9d4EbZrPPa2P7tV8KuTsXxTM3OmqA8mr18nE5wg/IYewZ5xn\n",
       "X/wGYliHqip9taZKP1bcFpzDC7K/Ifu7ioOCSspe6cHCsp0mVky3uTTej7/ttMEXTOWcSp+nlaH7\n",
       "ib7TIT/ilXrzz3fNmTfrJMLhtfjRmK/hRKbP0qiPuUHQxo1wc7bENx7w3nU5m2U7mDn7mNwWT1K8\n",
       "s0gPPxjo335BNRolbkudg9u07tpqW3Iedy8vEx8uG0XNNHQm3/ERfgGi4EpwIB8kjgAAAABJRU5E\n",
       "rkJggg==\n",
       "\" style=\"display:inline;vertical-align:middle;\" /></a></td></tr>\n",
       "<tr><td>9</td><td>Literal</td><td></td><td><a class=\"ProveItLink\" href=\"../../../__pv_it/46271c8230be96415d662709611f4ed2279d702b0/expr.ipynb\"><img src=\"data:image/png;base64,iVBORw0KGgoAAAANSUhEUgAAAA0AAAAOBAMAAAAGUYvhAAAAMFBMVEX///9mZmbMzMzc3NxUVFSY\n",
       "mJju7u6IiIi6urqqqqoiIiIQEBBEREQyMjJ2dnYAAAAQvcRZAAAAAXRSTlMAQObYZgAAAElJREFU\n",
       "CNdjePvn/u01ExgYGA60s117B6YZKngh9FSWBAjfBsxnWnoMRHet/10AkS+fA6F5OB5AaIYDqDRU\n",
       "PLCGgQFoz6ktExgAgLIl8DFvGtkAAAAASUVORK5CYII=\n",
       "\" style=\"display:inline;vertical-align:middle;\" /></a></td></tr>\n",
       "<tr><td>10</td><td>Literal</td><td></td><td><a class=\"ProveItLink\" href=\"../../../../../number/numeral/__pv_it/77d407a64829263cdc16415becd4c2293f77a4bf0/expr.ipynb\"><img src=\"data:image/png;base64,iVBORw0KGgoAAAANSUhEUgAAAAkAAAAOBAMAAAAPuiubAAAAMFBMVEX///+YmJh2dnbMzMwQEBAi\n",
       "IiLu7u6qqqqIiIhUVFS6urpEREQyMjJmZmbc3NwAAACOMKdoAAAAAXRSTlMAQObYZgAAAFBJREFU\n",
       "CNdj4Lt7egEDw0sGju8MDNMYGOIZGFwSGOYvYDifwHAfKAEUSQASzJ9ATJ4NIPI2iOCYACJrGfge\n",
       "MDBfYGB8wPBUSekqUPH//18ZAIliFhc3zESNAAAAAElFTkSuQmCC\n",
       "\" style=\"display:inline;vertical-align:middle;\" /></a></td></tr>\n",
       "</table>\n"
      ],
      "text/plain": [
       "0. (D , E) in BOOLEANS^{2}\n",
       "   core type: Operation\n",
       "   operator: 1\n",
       "   operands: 2\n",
       "1. in\n",
       "   core type: Literal\n",
       "   sub-expressions: \n",
       "2. ((D , E) , BOOLEANS^{2})\n",
       "   core type: ExprTuple\n",
       "   sub-expressions: 3, 4\n",
       "3. (D , E)\n",
       "   core type: ExprTuple\n",
       "   sub-expressions: 5, 6\n",
       "4. BOOLEANS^{2}\n",
       "   core type: Operation\n",
       "   operator: 7\n",
       "   operands: 8\n",
       "5. D\n",
       "   core type: Variable\n",
       "   sub-expressions: \n",
       "6. E\n",
       "   core type: Variable\n",
       "   sub-expressions: \n",
       "7. Exp\n",
       "   core type: Literal\n",
       "   sub-expressions: \n",
       "8. (BOOLEANS , 2)\n",
       "   core type: ExprTuple\n",
       "   sub-expressions: 9, 10\n",
       "9. BOOLEANS\n",
       "   core type: Literal\n",
       "   sub-expressions: \n",
       "10. 2\n",
       "    core type: Literal\n",
       "    sub-expressions: "
      ]
     },
     "execution_count": 4,
     "metadata": {},
     "output_type": "execute_result"
    }
   ],
   "source": [
    "# display the expression information\n",
    "expr.exprInfo()"
   ]
  },
  {
   "cell_type": "code",
   "execution_count": null,
   "metadata": {},
   "outputs": [],
   "source": []
  }
 ],
 "metadata": {
  "kernelspec": {
   "display_name": "Python 3",
   "language": "python",
   "name": "python3"
  }
 },
 "nbformat": 4,
 "nbformat_minor": 0
}
