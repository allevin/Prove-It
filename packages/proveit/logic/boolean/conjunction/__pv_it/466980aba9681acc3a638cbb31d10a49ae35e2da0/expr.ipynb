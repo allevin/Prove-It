{
 "cells": [
  {
   "cell_type": "markdown",
   "metadata": {},
   "source": [
    "Expression of type <a class=\"ProveItLink\" href=\"../../../../../../../doc/html/api/proveit.logic.Forall.html\">Forall</a>\n",
    "=======================\n",
    "# from context <a class=\"ProveItLink\" href=\"../../_context_.ipynb\">proveit.logic.boolean.conjunction</a>"
   ]
  },
  {
   "cell_type": "code",
   "execution_count": 1,
   "metadata": {},
   "outputs": [],
   "source": [
    "# import Expression classes needed to build the expression\n",
    "from proveit._common_ import A, B\n",
    "from proveit.logic import And, Forall"
   ]
  },
  {
   "cell_type": "code",
   "execution_count": 2,
   "metadata": {},
   "outputs": [
    {
     "data": {
      "text/html": [
       "<strong id=\"expr\">expr:</strong> <a class=\"ProveItLink\" href=\"expr.ipynb\"><img src=\"data:image/png;base64,iVBORw0KGgoAAAANSUhEUgAAAKIAAAAXBAMAAAB624nuAAAAMFBMVEX///8QEBC6urrMzMxUVFRm\n",
       "ZmZERETc3NwyMjKqqqp2dnaIiIiYmJgiIiLu7u4AAAAU9Wx4AAAAAXRSTlMAQObYZgAAAqNJREFU\n",
       "OMutVU1oE0EU/pI02TTZ3QYPgpcawYMHJRG0N0loQy0IJmByEYqKmCpIswdp8VAaPBiEYnNRvJlL\n",
       "sV4kghfJISt4qCjYg7mo1EUUelP6r5Xqe7M/2WINW3VgJu/Nm/ne3zcb4L8PY5fn/fVOVjkOzLPw\n",
       "0jviMZrPf2Yyl+O/mU7QPAM8ZPm2d0RxdC8QXBKq5MpxmmYYGOPt854Bo5x0YJPmitDDuXbGHwhd\n",
       "riFMP8GqZ0QfxxRdp6vfhd634Jiun9MANQb5wfj4hPekD/ESigFKr9D7G46p3uTSXgHWisW33hHP\n",
       "8tKThnRTFFAtKw4JjPs6/cwAA8AI0F0q5C8Ki9PDii3cXS0MJi15ipfUqcawLtSI7lTsI1Jc43vA\n",
       "QXJE0jPgsbDYXZKXnJLHEI1Z8h5emhrUN0JVIJUtSxyT3KUDvBllf3kgobkRP//gGFgKpuFft3aF\n",
       "mwuMqltEHjANgUwmy1dT1Dhd4ZK8A4a3xfioxaTle0odwXk3IhPndY2lBZPyXEbiQdlEVMu8py5D\n",
       "rrgRA/UiraN86EsSc5qFuI9NHH2W69dNeYZNE6lKzMwaI/3sYrMxaLgRuzjkQO0ViYnGk1G7plct\n",
       "Okobgt+aiUo6IYa/kjBH8w5nFClD7nUjvkCTiGfQq8Is9c1+bDMWHY+K19jHiyjIIu9vWQd83PRQ\n",
       "Duo3F6LaKpQMHIdMvi9R4jZHjlCjSiuZoSmT37wwx8f2VyCXNijcG0wO9t9ThX/ZhRjUkEritFDJ\n",
       "U8Lmo09z8z1u9aQ9VJtmmDQwkXMhHiYneoB2nkLagtRyuFnr/KYi9uczMl3I30Ib8dMapOz7Loo+\n",
       "hNnVwlB1+9fsz2Nxhz3Xl02ypntc64x4sjPiTkPq+K8QTe4e8S9G+h/v/wLf6p+WCn5mzAAAAABJ\n",
       "RU5ErkJggg==\n",
       "\" style=\"display:inline;vertical-align:middle;\" /></a><br>"
      ],
      "text/plain": [
       "expr: forall_{B | A and B} (B and A)"
      ]
     },
     "execution_count": 2,
     "metadata": {},
     "output_type": "execute_result"
    }
   ],
   "source": [
    "# build up the expression from sub-expressions\n",
    "expr = Forall([B], And(B, A), conditions = [And(A, B)])"
   ]
  },
  {
   "cell_type": "code",
   "execution_count": 3,
   "metadata": {},
   "outputs": [
    {
     "name": "stdout",
     "output_type": "stream",
     "text": [
      "Passed sanity check: built 'expr' is the same as the stored Expression.\n"
     ]
    }
   ],
   "source": [
    "# check that the built expression is the same as the stored expression\n",
    "%check_expr"
   ]
  },
  {
   "cell_type": "code",
   "execution_count": 4,
   "metadata": {},
   "outputs": [
    {
     "data": {
      "text/html": [
       "<table><tr><th>&nbsp;</th><th>core type</th><th>sub-expressions</th><th>expression</th></tr>\n",
       "<tr><td>0</td><td>Operation</td><td>operator:&nbsp;1<br>operand:&nbsp;2<br></td><td><a class=\"ProveItLink\" href=\"expr.ipynb\"><img src=\"data:image/png;base64,iVBORw0KGgoAAAANSUhEUgAAAKIAAAAXBAMAAAB624nuAAAAMFBMVEX///8QEBC6urrMzMxUVFRm\n",
       "ZmZERETc3NwyMjKqqqp2dnaIiIiYmJgiIiLu7u4AAAAU9Wx4AAAAAXRSTlMAQObYZgAAAqNJREFU\n",
       "OMutVU1oE0EU/pI02TTZ3QYPgpcawYMHJRG0N0loQy0IJmByEYqKmCpIswdp8VAaPBiEYnNRvJlL\n",
       "sV4kghfJISt4qCjYg7mo1EUUelP6r5Xqe7M/2WINW3VgJu/Nm/ne3zcb4L8PY5fn/fVOVjkOzLPw\n",
       "0jviMZrPf2Yyl+O/mU7QPAM8ZPm2d0RxdC8QXBKq5MpxmmYYGOPt854Bo5x0YJPmitDDuXbGHwhd\n",
       "riFMP8GqZ0QfxxRdp6vfhd634Jiun9MANQb5wfj4hPekD/ESigFKr9D7G46p3uTSXgHWisW33hHP\n",
       "8tKThnRTFFAtKw4JjPs6/cwAA8AI0F0q5C8Ki9PDii3cXS0MJi15ipfUqcawLtSI7lTsI1Jc43vA\n",
       "QXJE0jPgsbDYXZKXnJLHEI1Z8h5emhrUN0JVIJUtSxyT3KUDvBllf3kgobkRP//gGFgKpuFft3aF\n",
       "mwuMqltEHjANgUwmy1dT1Dhd4ZK8A4a3xfioxaTle0odwXk3IhPndY2lBZPyXEbiQdlEVMu8py5D\n",
       "rrgRA/UiraN86EsSc5qFuI9NHH2W69dNeYZNE6lKzMwaI/3sYrMxaLgRuzjkQO0ViYnGk1G7plct\n",
       "Okobgt+aiUo6IYa/kjBH8w5nFClD7nUjvkCTiGfQq8Is9c1+bDMWHY+K19jHiyjIIu9vWQd83PRQ\n",
       "Duo3F6LaKpQMHIdMvi9R4jZHjlCjSiuZoSmT37wwx8f2VyCXNijcG0wO9t9ThX/ZhRjUkEritFDJ\n",
       "U8Lmo09z8z1u9aQ9VJtmmDQwkXMhHiYneoB2nkLagtRyuFnr/KYi9uczMl3I30Ib8dMapOz7Loo+\n",
       "hNnVwlB1+9fsz2Nxhz3Xl02ypntc64x4sjPiTkPq+K8QTe4e8S9G+h/v/wLf6p+WCn5mzAAAAABJ\n",
       "RU5ErkJggg==\n",
       "\" style=\"display:inline;vertical-align:middle;\" /></a></td></tr>\n",
       "<tr><td>1</td><td>Literal</td><td></td><td><a class=\"ProveItLink\" href=\"../../../quantification/universal/__pv_it/265f8c02ac1094d56e0e6410a1c1fd3500dc9f540/expr.ipynb\"><img src=\"data:image/png;base64,iVBORw0KGgoAAAANSUhEUgAAAAwAAAAQBAMAAADQT4M0AAAAMFBMVEX///8QEBC6urrMzMxUVFRm\n",
       "ZmZERETc3NwyMjKqqqp2dnaIiIiYmJgiIiLu7u4AAAAU9Wx4AAAAAXRSTlMAQObYZgAAAFhJREFU\n",
       "CNdjeMAABhdAxGmGlSCqj6EMSLInMHAAJVknMPAsLy+vBYp8S0u7BaScGRjSgZQKA18DkOJl4D4A\n",
       "pLgP8IJM4mswARuX7gSmpoKNZWDcAKZ4gCoAgTQTILaSE58AAAAASUVORK5CYII=\n",
       "\" style=\"display:inline;vertical-align:middle;\" /></a></td></tr>\n",
       "<tr><td>2</td><td>Lambda</td><td>parameter:&nbsp;10<br>body:&nbsp;3<br>conditions:&nbsp;4<br></td><td><a class=\"ProveItLink\" href=\"../f63b8ec53bfd8384496e959a5f963a4ffb699b6c0/expr.ipynb\"><img src=\"data:image/png;base64,iVBORw0KGgoAAAANSUhEUgAAAMYAAAAVCAMAAAAq72HuAAAANlBMVEX///8UFBQNDQ2qqqru7u4i\n",
       "IiJ2dnbc3NyIiIjMzMxmZmYQEBC6uroyMjJERERUVFSYmJgAAAC3B9V0AAAAAXRSTlMAQObYZgAA\n",
       "AhJJREFUWMPNV1l2wyAMdAs2+3b/y5bUYBYJm8TNa/ixk6fRaIQQ8rJ8wiLsf3g1fx3rNfhr038R\n",
       "lHchuLismXQn3CtAse5PKaZkZPMnolZ2JwhzOgw9BzKKokJ+mZJxmA+d9uQi8PR0Myr4UVIDoJFY\n",
       "9taQAvHbhIxiPnIKyHnYz5gP24wMdfjHgcKucDsYkcl4oepaRmU+cgrIbfK7KjpzvktR4ECnOWwB\n",
       "PNLmaC25lFGbD5wC8n1XmLElmLZ+Sc0rS+YRYEx2xILjqelCgs9hyysZjfnAaU8ei4tzLtca1kFc\n",
       "FafxpTohMAYVf8ou31SXWo5ZMRcyWnPcKSBPRUZXN5RBXSlUpc+AO5R1gT4gLORN0OpCRmuOOwXk\n",
       "uch4tY3fX2uzVKnU8oYBF/+bRCfai+axgj0SeS6jM8edAvLcsOp+0xe3K0yVIAS47A1FuD67cRvN\n",
       "pIzOHHfak4ssxwUykiGr5qfIEQ0CJKkUTIUguaXMFVVvjjoF5Ln/smBGZ0PUp836rnE3wMxEZHUH\n",
       "dPeyPz3iwBx1CshTkQllaN23mxPekMplDBQWJILmoG2+l08bLjTHnPbk0u4TljF+drzdfeHAcobS\n",
       "bcWsCr/J9NE+DRT9JFnJwMyh0xeiRoaRk88Djb523XtiGHna6QuD/XYPv/G3fG88vQy9g6Zzg/r7\n",
       "F3N30I59iIyF3fiI5QL+dVfGD+h0HE+ROkHKAAAAAElFTkSuQmCC\n",
       "\" style=\"display:inline;vertical-align:middle;\" /></a></td></tr>\n",
       "<tr><td>3</td><td>Operation</td><td>operator:&nbsp;7<br>operands:&nbsp;5<br></td><td><a class=\"ProveItLink\" href=\"../dc8512eafaec1f15c2802d89c56cd1dbdb40322e0/expr.ipynb\"><img src=\"data:image/png;base64,iVBORw0KGgoAAAANSUhEUgAAADcAAAAPBAMAAACy3Eq1AAAAMFBMVEX///+qqqru7u4iIiJ2dnbc\n",
       "3NyIiIjMzMxmZmYQEBC6uroyMjJERERUVFSYmJgAAADLUcuvAAAAAXRSTlMAQObYZgAAAPtJREFU\n",
       "GNNjYGB4+//u3dMLGNBBMYSaw8DA8QvMYlVASO4Hk+zfgPgvmMndAJfjswcrZPsKZH4Bi9QYwSUD\n",
       "+wNAFM8EBgbmSWCRW2lwyYR8sDP4LzCw7gGbwbSBGSbHpSD/AETXX0trBjMYWB5wCEAltRjqE0B0\n",
       "fgADky1YhJmBdQNUcgFDPNhxJ0EKwFqfMTBch8ix3717/wCIAfLFewcQC+jWWqiVDAycIEPY/wGJ\n",
       "+yC7GIEGcYM9wADkMk+AepP1NzgIAiAKgHygJPcHqDcrN4GDAEQYgAhtkPgnYKie/3v39j5IEIAI\n",
       "UDDEzN/KwHf+dwNyPCyAOgUOADLmPrY83QJQAAAAAElFTkSuQmCC\n",
       "\" style=\"display:inline;vertical-align:middle;\" /></a></td></tr>\n",
       "<tr><td>4</td><td>ExprTuple</td><td>6</td><td><a class=\"ProveItLink\" href=\"../edc675b550e00237b8f33d3ad1242ca5308fb5730/expr.ipynb\"><img src=\"data:image/png;base64,iVBORw0KGgoAAAANSUhEUgAAAEMAAAAVBAMAAADvM06qAAAAMFBMVEX////c3NwiIiJERESqqqqY\n",
       "mJh2dnZmZmYQEBDu7u4yMjJUVFTMzMyIiIi6uroAAAAs73DqAAAAAXRSTlMAQObYZgAAAWdJREFU\n",
       "KM+NUjtIw1AUPW19Wpv0A7pYh3YR3CyCoFO7ddTJUbuIk1BQXJvByUGDkzhIOojUQQOOGVpcHZrN\n",
       "RWlwFIQKKmhAve++RItg8MLL/ZyTdz/vAv+QjBuFrsjPtbKvfmGi7TuX5xjpkN1SoYsAmgg5yRLQ\n",
       "8GABaZVHzJgKOQ0pXQK6NpaJrKDxRo61PhtQ0aPAag2HwIMKuD2PtfYYVj9PZ9pEooJt1Za5uMTG\n",
       "EYoBxQfyC8BwHSfsH3NqkjVsKYbu391MkR6ysMcBD4U6G0XkFSX9BBzYdL+BD/7FcdolbsyF1mFK\n",
       "wiDaC0F9RclQZ5Y04iZ0mylZUuKVKTvSrxBoSKNKp6nGQuVrz5xojtwYUVJ9BHD1eywFullYWOdO\n",
       "KfebrEkWFA/Hou+a3PQ9MLbfhCi/U0uanB8/yean45zJUaU8JHODixFMYEDoAUQtep02fpbhDxmV\n",
       "s5iMpGiyjljkYt4CX0FZVvBnpCd9AAAAAElFTkSuQmCC\n",
       "\" style=\"display:inline;vertical-align:middle;\" /></a></td></tr>\n",
       "<tr><td>5</td><td>ExprTuple</td><td>10, 9</td><td><a class=\"ProveItLink\" href=\"../1d9a4008d5668a743cd8f9a815871ca1c5e3cf130/expr.ipynb\"><img src=\"data:image/png;base64,iVBORw0KGgoAAAANSUhEUgAAADYAAAAVBAMAAAD/UwB2AAAAMFBMVEX////c3NwiIiJERESqqqqY\n",
       "mJh2dnZmZmYQEBDu7u4yMjJUVFTMzMyIiIi6uroAAAAs73DqAAAAAXRSTlMAQObYZgAAAS5JREFU\n",
       "KM9jYMAH+C5gFWZ9ACROA3H0/927rR4gJA4BcQ0QrwRxmhkY2P8h5NYDMRcDAy/ISJ6/QPwbYZ7+\n",
       "BCCRwMABpBh4PwLZ3+ByIvUCDAycDQyvQBzmBgYGpk643IX7ILtNGMpAHP4NDIyLJ8BdPsE/AEil\n",
       "MywF8c7vvVsUANc2j+E8yBFeDH0g3n0BBk5tuNwDBvkCIPWCAexyC5A8TCPP7t37DUCGQeRAzo9P\n",
       "gFnHwMCxACzXAlL5FUjsd4DKAWmmBrCZplDvMf4CegkkxQiU4/oAZEQBXQrx3glg2M1XAHJmgQR+\n",
       "gv3wCBiS9r937wL5ZQZQv3D/QgZW+19Ah65j4BBAipiHSGxgmLEmIPEDkNhsF6BxhEUOZK80gsuL\n",
       "HPEbQW7GniZ4DzAAAJGlTQr2mfDRAAAAAElFTkSuQmCC\n",
       "\" style=\"display:inline;vertical-align:middle;\" /></a></td></tr>\n",
       "<tr><td>6</td><td>Operation</td><td>operator:&nbsp;7<br>operands:&nbsp;8<br></td><td><a class=\"ProveItLink\" href=\"../42be287793a6c836f70efb0ab4503e1a268d24400/expr.ipynb\"><img src=\"data:image/png;base64,iVBORw0KGgoAAAANSUhEUgAAADcAAAAPBAMAAACy3Eq1AAAAMFBMVEX///92dnYQEBBERERUVFS6\n",
       "urqIiIhmZmaqqqrc3Nzu7u6YmJgyMjIiIiLMzMwAAACFkkdwAAAAAXRSTlMAQObYZgAAAPtJREFU\n",
       "GNNjYACBtwyogNv/i4vzUSjnPJSeBZNlMmBgqA+AKLy/ACJ2HCb5PgGIHcDMGfUTwDSfLVQRQz5Q\n",
       "YL8AmJmQDzGBJSwBKmkExJfAKlkX9G8AC61huACV/MLAMMcKzFoKtgIIpBkqIHJ8X9LSb0OYAQzz\n",
       "C8CMCwxzICJsPxkY1oLdw+fi4m8AdnQCA8sDsCSzAlDBb7CVQG8dADF4FzDwQZzPD6S4P4JYDUBh\n",
       "BRCjHYhPQrwJdCDLDyCDEyjJ84EBKtEO9+b8A2D3A+34BbIbZDEvzJt8OkBvTtY/ycBt/wfoXBZQ\n",
       "SLCBPFX838XlzAaUqGCF+gsBAFd8PNYBN2/JAAAAAElFTkSuQmCC\n",
       "\" style=\"display:inline;vertical-align:middle;\" /></a></td></tr>\n",
       "<tr><td>7</td><td>Literal</td><td></td><td><a class=\"ProveItLink\" href=\"../76b5f4f4c45c0b6a9b59b297fc07dfa9555698f50/expr.ipynb\"><img src=\"data:image/png;base64,iVBORw0KGgoAAAANSUhEUgAAAAwAAAAOBAMAAADpk+DfAAAALVBMVEX///+qqqqYmJh2dnaIiIi6\n",
       "urpUVFQiIiJERETMzMxmZmYyMjLu7u7c3NwAAABvwqPxAAAAAXRSTlMAQObYZgAAAEtJREFUCNdj\n",
       "YGDgPcAAAtwLwNSMGjCV6gIieTawgyhmBS4BIMXOwLsBSKkwMGQCKaC6aQwMjEBd3BdACMScAVJd\n",
       "wJAKolwYAkAUKwAk0guX6efcigAAAABJRU5ErkJggg==\n",
       "\" style=\"display:inline;vertical-align:middle;\" /></a></td></tr>\n",
       "<tr><td>8</td><td>ExprTuple</td><td>9, 10</td><td><a class=\"ProveItLink\" href=\"../caee09fb4b5c95b986a9cee46a014afbad9bdc680/expr.ipynb\"><img src=\"data:image/png;base64,iVBORw0KGgoAAAANSUhEUgAAADUAAAAVBAMAAAAUZLt1AAAAMFBMVEX////c3NwiIiJERESqqqqY\n",
       "mJh2dnZmZmYQEBDu7u4yMjJUVFTMzMyIiIi6uroAAAAs73DqAAAAAXRSTlMAQObYZgAAATZJREFU\n",
       "KM9jYMAH+C5gFY4DEach7EMwQdb9v3dvXsfAfgDIXgkRWg/XwWHAwFD/gGEBAwMvxEhW/QkwufNA\n",
       "kfMbGMKAqiBiIvUCMLn7QFZ8AsMMBoZXEIEL9x/A5CyAWGMCA7MDQxnEsRP8A2ByvxkYpCwZGNgK\n",
       "GJaC+fPAtoABz++711WBNMsChj6wwAMG+QKoHO9HBoZJG4BGNTD8A6vdvXu/AVSOuQEo/xUo9gEi\n",
       "xwd07wKoHD9QD+s3sFwLiO/AwMDUAPMe0FHcX8BmmgK5jEA5rg8MDBNg3pMHGsK6gCEdyJ0FsuYn\n",
       "A+cnqPd4uiaA/fCIgUG4fyEDq/2vAs5+oJbi/7t3rwL5lesBA4cAUnQhsUFhxpqA4LIiR2AuIo7Q\n",
       "5ThBfpJG8JFTADfIfEbsaeIOAwMABOxNRsfkiy0AAAAASUVORK5CYII=\n",
       "\" style=\"display:inline;vertical-align:middle;\" /></a></td></tr>\n",
       "<tr><td>9</td><td>Variable</td><td></td><td><a class=\"ProveItLink\" href=\"../../../../../__pv_it/2cbe72a7ad6f655694dd697106680215e8489b600/expr.ipynb\"><img src=\"data:image/png;base64,iVBORw0KGgoAAAANSUhEUgAAAA8AAAAOBAMAAAACpFvcAAAALVBMVEX///8QEBBERERUVFS6urqI\n",
       "iIhmZmaqqqrc3Nzu7u6YmJgyMjIiIiLMzMwAAADtIaYWAAAAAXRSTlMAQObYZgAAAFtJREFUCNdj\n",
       "YACBOwxQsA9Kc52bAGG05zVAGAFxDmCaZULdAjBjCsO9ADDDgaEvAUTzGhvbKYCVMDAwbgAxChgY\n",
       "eASANAeQwf0AyJgNxEwvGRia5HYwcOm9TgAA6BoR3jrzwFcAAAAASUVORK5CYII=\n",
       "\" style=\"display:inline;vertical-align:middle;\" /></a></td></tr>\n",
       "<tr><td>10</td><td>Variable</td><td></td><td><a class=\"ProveItLink\" href=\"../../../../../__pv_it/077b2ff79244fb4582cbe22c6e3356fa92a52f2f0/expr.ipynb\"><img src=\"data:image/png;base64,iVBORw0KGgoAAAANSUhEUgAAABAAAAAOBAMAAADUAYG5AAAAMFBMVEX///+qqqru7u4iIiJ2dnbc\n",
       "3NyIiIjMzMxmZmYQEBC6uroyMjJERERUVFSYmJgAAADLUcuvAAAAAXRSTlMAQObYZgAAAGpJREFU\n",
       "CNdjYGB4+//u3dMLGIBgDgMDxy8gzf4NiP8CGWxfGRj4vgAZPBMYGJgnARn8FxhY9ygAGfXX0pof\n",
       "gDTlBzAw2YIYJ0EckBBI53sHoBH/gIz7AhBjWH9DjancBLTl/N+7t/cxMAAA3u4f/5xagjYAAAAA\n",
       "SUVORK5CYII=\n",
       "\" style=\"display:inline;vertical-align:middle;\" /></a></td></tr>\n",
       "</table>\n"
      ],
      "text/plain": [
       "0. forall_{B | A and B} (B and A)\n",
       "   core type: Operation\n",
       "   operator: 1\n",
       "   operand: 2\n",
       "1. forall\n",
       "   core type: Literal\n",
       "   sub-expressions: \n",
       "2. B -> (B and A) | A and B\n",
       "   core type: Lambda\n",
       "   parameter: 10\n",
       "   body: 3\n",
       "   conditions: 4\\n3. B and A\n",
       "   core type: Operation\n",
       "   operator: 7\n",
       "   operands: 5\n",
       "4. (A and B)\n",
       "   core type: ExprTuple\n",
       "   sub-expressions: 6\n",
       "5. (B , A)\n",
       "   core type: ExprTuple\n",
       "   sub-expressions: 10, 9\n",
       "6. A and B\n",
       "   core type: Operation\n",
       "   operator: 7\n",
       "   operands: 8\n",
       "7. and\n",
       "   core type: Literal\n",
       "   sub-expressions: \n",
       "8. (A , B)\n",
       "   core type: ExprTuple\n",
       "   sub-expressions: 9, 10\n",
       "9. A\n",
       "   core type: Variable\n",
       "   sub-expressions: \n",
       "10. B\n",
       "    core type: Variable\n",
       "    sub-expressions: "
      ]
     },
     "execution_count": 4,
     "metadata": {},
     "output_type": "execute_result"
    }
   ],
   "source": [
    "# display the expression information\n",
    "expr.exprInfo()"
   ]
  },
  {
   "cell_type": "code",
   "execution_count": null,
   "metadata": {},
   "outputs": [],
   "source": []
  }
 ],
 "metadata": {
  "kernelspec": {
   "display_name": "Python 3",
   "language": "python",
   "name": "python3"
  }
 },
 "nbformat": 4,
 "nbformat_minor": 0
}
