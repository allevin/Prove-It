{
 "cells": [
  {
   "cell_type": "markdown",
   "metadata": {},
   "source": [
    "Theorem Dependencies\n",
    "=======================\n",
    "\n",
    "## <a class=\"ProveItLink\" href=\"../../_context_.ipynb\">proveit.logic.boolean.conjunction</a>.<a class=\"ProveItLink\" href=\"../../_theorems_.ipynb#nandIfNotLeft\">nandIfNotLeft</a> \n",
    "***see <a class=\"ProveItLink\" href=\"../../_proofs_/nandIfNotLeft.ipynb\">proof</a>***"
   ]
  },
  {
   "cell_type": "code",
   "execution_count": 1,
   "metadata": {},
   "outputs": [],
   "source": [
    "from proveit.logic.boolean.conjunction._theorems_ import nandIfNotLeft"
   ]
  },
  {
   "cell_type": "code",
   "execution_count": 2,
   "metadata": {},
   "outputs": [
    {
     "data": {
      "text/html": [
       "<h3>This theorem has not been proven yet.</h3>"
      ],
      "text/plain": [
       "<IPython.core.display.HTML object>"
      ]
     },
     "metadata": {},
     "output_type": "display_data"
    },
    {
     "data": {
      "text/html": [
       "<h3>Theorems that depend directly on nandIfNotLeft</h3>"
      ],
      "text/plain": [
       "<IPython.core.display.HTML object>"
      ]
     },
     "metadata": {},
     "output_type": "display_data"
    },
    {
     "data": {
      "text/html": [
       "<dl>"
      ],
      "text/plain": [
       "<IPython.core.display.HTML object>"
      ]
     },
     "metadata": {},
     "output_type": "display_data"
    },
    {
     "data": {
      "text/html": [
       "<dt><a class=\"ProveItLink\" href=\"../../_proofs_/falsifiedAndIfNotLeft.ipynb\">proveit.logic.boolean.conjunction.falsifiedAndIfNotLeft</a></dt><dd><a class=\"ProveItLink\" href=\"../8965417de52b985bcd336e48f23328fadca565260/expr.ipynb\"><img src=\"data:image/png;base64,iVBORw0KGgoAAAANSUhEUgAAAPMAAAAXBAMAAAAsDWSYAAAAMFBMVEX///8QEBC6urrMzMxUVFRm\n",
       "ZmZERETc3NwyMjKqqqp2dnaIiIiYmJgiIiLu7u4AAAAU9Wx4AAAAAXRSTlMAQObYZgAAAvNJREFU\n",
       "SMfFVk1oE0EU/tJNsrHZxOJJT0bwIKg0B6UnSdBQvbUgFRVK68EUQdscpK2INhSlPUjtpeLNXqoV\n",
       "RRbUUw+NnqoebA/1IBWjKPQiltIflVJ983a2TWYzKSyoH7zd2fftzLfz5r2ZBf4fiv671tiO6WEl\n",
       "dMxLsmnReONL+pA0whFVs2kp09gPnKzQ7aq4hJLAQ9EY8iU9tNnztnRdd7lAO9CWQKRCt8N8zQPd\n",
       "dDPb/ShHbcfEJD/KdbvpkikiUmlYozrp10CEOoWG/UgHio4RrrTl+G5cclNnkhxvRxGv00l/og9+\n",
       "0NNzzVe890kj2JNOPgX3u1l3jmyGvuOCTjpM013JZt/7kj4rjdK8eK/AjXknawlLQG8n3cd00rXN\n",
       "wDGggx8G+HpnuaUxyeOVd1BYwi1pwGdeWsJjnHE4Y2ni+Zxo3BWX04MCN8qkt1Ge7UU8z6my6GRM\n",
       "HaK8QOHyalFYwg5pQAJ9zdyYRq9MwVXgW5oae3SzrqFhYohytL6usSuURs2qV1plCYvSYGQyTVwj\n",
       "lo2gE5MwDRwVXVI6aWOB3ijEOC2fzLIrZiM07ZVW2VJpWpoAB44GMtLMbaeb9Wsr6XiedyTDzrLr\n",
       "exJTOY+0hyXskgbK1RivwshGTqQokMGfbsBbPwi88wQcHUe5LtDKrvqJZ53wSHtYwkVpJklHFtxU\n",
       "HNko6z4RiSndrC3BjnAEX2GSXePAi+Km9P1sNpuvwMq6GeOKopfXRWjEgsfcsjZ2FrcqLgREYcRn\n",
       "W7p4zPMU1eHyWbdXYAkHHevePQCr6weNFEzI7RWnfmcyg5y8/YouxX6GYx8RL1ti0FAOKU5OWqD6\n",
       "pCrtZcUn5xzbPERlpZWg0kYKdyOVOEBZWTAHYK7DnIUq7WXFJ4+i4vFQilrtcf7IbXxZgdk0Z6xh\n",
       "fLnlxLAinazAKoemDvM6wtnGSvesknbY+8+hPF+WVgXHdUQwpzgaqko3KM+m7ViVIz2pY56qjkJV\n",
       "6cK/+l8M/m2BP0mr16Cw7Md2AAAAAElFTkSuQmCC\n",
       "\" style=\"display:inline;vertical-align:middle;\" /></a></dd>"
      ],
      "text/plain": [
       "<IPython.core.display.HTML object>"
      ]
     },
     "metadata": {},
     "output_type": "display_data"
    },
    {
     "data": {
      "text/html": [
       "</dl>"
      ],
      "text/plain": [
       "<IPython.core.display.HTML object>"
      ]
     },
     "metadata": {},
     "output_type": "display_data"
    }
   ],
   "source": [
    "%dependencies nandIfNotLeft"
   ]
  }
 ],
 "metadata": {
  "kernelspec": {
   "display_name": "Python 3",
   "language": "python",
   "name": "python3"
  }
 },
 "nbformat": 4,
 "nbformat_minor": 0
}
