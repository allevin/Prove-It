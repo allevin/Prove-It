{
 "cells": [
  {
   "cell_type": "markdown",
   "metadata": {},
   "source": [
    "Expression of type <a class=\"ProveItLink\" href=\"../../../../../../../doc/html/api/proveit.ExprTuple.html\">ExprTuple</a>\n",
    "=======================\n",
    "# from context <a class=\"ProveItLink\" href=\"../../_context_.ipynb\">proveit.logic.boolean.conjunction</a>"
   ]
  },
  {
   "cell_type": "code",
   "execution_count": 1,
   "metadata": {},
   "outputs": [],
   "source": [
    "# import Expression classes needed to build the expression\n",
    "from proveit import ExprTuple\n",
    "from proveit._common_ import A, B, C, D, E, F, G\n",
    "from proveit.logic import And"
   ]
  },
  {
   "cell_type": "code",
   "execution_count": 2,
   "metadata": {},
   "outputs": [
    {
     "data": {
      "text/html": [
       "<strong id=\"expr\">expr:</strong> <a class=\"ProveItLink\" href=\"expr.ipynb\"><img src=\"data:image/png;base64,iVBORw0KGgoAAAANSUhEUgAAAMMAAAAVBAMAAAAJNkerAAAAMFBMVEX////c3NwiIiJERESqqqqY\n",
       "mJh2dnZmZmYQEBDu7u4yMjJUVFTMzMyIiIi6uroAAAAs73DqAAAAAXRSTlMAQObYZgAAAvVJREFU\n",
       "SMe9VUtIVGEU/sbxzni71/EuAskWzaYwCJSgMghGaOGyS1GrqNlEtYgReu4UahEu8hYE0oPGRZgK\n",
       "KbQQvAuHtrNwoIWLiqY2PSAytcQxs/M/zr3/COLKBubnnPOf75z/PC/wH36ZynZaPyeOsqLdrBZa\n",
       "M6vhq5esYr+Zup7orUM1k8L0MeberofhdC2+CQcrJjJdInJUSXbMM6ipE+irauaSj8wtX5K7WKGl\n",
       "CJzoZk6YP27cJP06JEmatdOTK4yZJcnspKIf7aej4El6JFLIA2lWz6zRkdbMD7qxqnXIM/TmQEoS\n",
       "PT/ZwgeyeD6v6Bfi9ovK5MGAFciIu6aZ1B86nmqmQLE1lmLka2AI+KbT2PyXXXTRv12ZSy+Js1XS\n",
       "znfui5x40iqiBKeQ0MxEAM8K6pDJbtxQl18bf7ELArcdVeSeojifqMjBDbEoYmIXLZ04HXXCAmzf\n",
       "RN6nKHvxXJW/GkXurr6f26vpPj9upAu4phWEpvWb0z8+HaU4s4y0twHZWMQ9dYnEMvckIR7oand4\n",
       "sYss2rSCyL7DeS2UUGSVVC1sxwZkph9KtRyGi1qW7CcrOmvr8pTJtSpwVCGTor2b+jn9QB4lXZcV\n",
       "OIiRc2OHKeZ57YJ6ZICTOxmnYVCGKg00BHAnOfvUcn5cGM/WjdCSxUMtvisjrEoXd6QV0UTc9QR2\n",
       "lhQ9E0RN30P/4WhucNsci1QQjwUM5IRK1CEh2Kl4m8dC9EPA1i5LzLB2QwoUVXJU50+ORatmCnLq\n",
       "bH5HQgy+VcRFIRQFywV4llVj4Q4EsBfEPUXzWRbOFdlp4LFwadKlgtw77gHNTMh7acWiapb3QTbt\n",
       "J/LWVfNwan0EQ9RMV2mtjVGu7EFhujx+Uy0jRzxQLBtbKBwpaYXHOVp8HVnJ0M2UwAzJJiakf1a8\n",
       "oYomoy/x0VzyXt3K567YRMFkTCtigVh5gzcmDdZWnwJrM8a0givxMt8mF7LMu42PjQna8mNY2YSp\n",
       "s+KIBCa29cP6DvgH60bj9gKbD+sAAAAASUVORK5CYII=\n",
       "\" style=\"display:inline;vertical-align:middle;\" /></a><br>"
      ],
      "text/plain": [
       "expr: (A , B , C and D , E , F , G)"
      ]
     },
     "execution_count": 2,
     "metadata": {},
     "output_type": "execute_result"
    }
   ],
   "source": [
    "# build up the expression from sub-expressions\n",
    "expr = ExprTuple(A, B, And(C, D), E, F, G)"
   ]
  },
  {
   "cell_type": "code",
   "execution_count": 3,
   "metadata": {},
   "outputs": [
    {
     "name": "stdout",
     "output_type": "stream",
     "text": [
      "Passed sanity check: built 'expr' is the same as the stored Expression.\n"
     ]
    }
   ],
   "source": [
    "# check that the built expression is the same as the stored expression\n",
    "%check_expr"
   ]
  },
  {
   "cell_type": "code",
   "execution_count": 4,
   "metadata": {},
   "outputs": [
    {
     "data": {
      "text/html": [
       "<table><tr><th>&nbsp;</th><th>core type</th><th>sub-expressions</th><th>expression</th></tr>\n",
       "<tr><td>0</td><td>ExprTuple</td><td>1, 2, 3, 4, 5, 6</td><td><a class=\"ProveItLink\" href=\"expr.ipynb\"><img src=\"data:image/png;base64,iVBORw0KGgoAAAANSUhEUgAAAMMAAAAVBAMAAAAJNkerAAAAMFBMVEX////c3NwiIiJERESqqqqY\n",
       "mJh2dnZmZmYQEBDu7u4yMjJUVFTMzMyIiIi6uroAAAAs73DqAAAAAXRSTlMAQObYZgAAAvVJREFU\n",
       "SMe9VUtIVGEU/sbxzni71/EuAskWzaYwCJSgMghGaOGyS1GrqNlEtYgReu4UahEu8hYE0oPGRZgK\n",
       "KbQQvAuHtrNwoIWLiqY2PSAytcQxs/M/zr3/COLKBubnnPOf75z/PC/wH36ZynZaPyeOsqLdrBZa\n",
       "M6vhq5esYr+Zup7orUM1k8L0MeberofhdC2+CQcrJjJdInJUSXbMM6ipE+irauaSj8wtX5K7WKGl\n",
       "CJzoZk6YP27cJP06JEmatdOTK4yZJcnspKIf7aej4El6JFLIA2lWz6zRkdbMD7qxqnXIM/TmQEoS\n",
       "PT/ZwgeyeD6v6Bfi9ovK5MGAFciIu6aZ1B86nmqmQLE1lmLka2AI+KbT2PyXXXTRv12ZSy+Js1XS\n",
       "znfui5x40iqiBKeQ0MxEAM8K6pDJbtxQl18bf7ELArcdVeSeojifqMjBDbEoYmIXLZ04HXXCAmzf\n",
       "RN6nKHvxXJW/GkXurr6f26vpPj9upAu4phWEpvWb0z8+HaU4s4y0twHZWMQ9dYnEMvckIR7oand4\n",
       "sYss2rSCyL7DeS2UUGSVVC1sxwZkph9KtRyGi1qW7CcrOmvr8pTJtSpwVCGTor2b+jn9QB4lXZcV\n",
       "OIiRc2OHKeZ57YJ6ZICTOxmnYVCGKg00BHAnOfvUcn5cGM/WjdCSxUMtvisjrEoXd6QV0UTc9QR2\n",
       "lhQ9E0RN30P/4WhucNsci1QQjwUM5IRK1CEh2Kl4m8dC9EPA1i5LzLB2QwoUVXJU50+ORatmCnLq\n",
       "bH5HQgy+VcRFIRQFywV4llVj4Q4EsBfEPUXzWRbOFdlp4LFwadKlgtw77gHNTMh7acWiapb3QTbt\n",
       "J/LWVfNwan0EQ9RMV2mtjVGu7EFhujx+Uy0jRzxQLBtbKBwpaYXHOVp8HVnJ0M2UwAzJJiakf1a8\n",
       "oYomoy/x0VzyXt3K567YRMFkTCtigVh5gzcmDdZWnwJrM8a0givxMt8mF7LMu42PjQna8mNY2YSp\n",
       "s+KIBCa29cP6DvgH60bj9gKbD+sAAAAASUVORK5CYII=\n",
       "\" style=\"display:inline;vertical-align:middle;\" /></a></td></tr>\n",
       "<tr><td>1</td><td>Variable</td><td></td><td><a class=\"ProveItLink\" href=\"../../../../../__pv_it/2cbe72a7ad6f655694dd697106680215e8489b600/expr.ipynb\"><img src=\"data:image/png;base64,iVBORw0KGgoAAAANSUhEUgAAAA8AAAAOBAMAAAACpFvcAAAALVBMVEX///8QEBBERERUVFS6urqI\n",
       "iIhmZmaqqqrc3Nzu7u6YmJgyMjIiIiLMzMwAAADtIaYWAAAAAXRSTlMAQObYZgAAAFtJREFUCNdj\n",
       "YACBOwxQsA9Kc52bAGG05zVAGAFxDmCaZULdAjBjCsO9ADDDgaEvAUTzGhvbKYCVMDAwbgAxChgY\n",
       "eASANAeQwf0AyJgNxEwvGRia5HYwcOm9TgAA6BoR3jrzwFcAAAAASUVORK5CYII=\n",
       "\" style=\"display:inline;vertical-align:middle;\" /></a></td></tr>\n",
       "<tr><td>2</td><td>Variable</td><td></td><td><a class=\"ProveItLink\" href=\"../../../../../__pv_it/077b2ff79244fb4582cbe22c6e3356fa92a52f2f0/expr.ipynb\"><img src=\"data:image/png;base64,iVBORw0KGgoAAAANSUhEUgAAABAAAAAOBAMAAADUAYG5AAAAMFBMVEX///+qqqru7u4iIiJ2dnbc\n",
       "3NyIiIjMzMxmZmYQEBC6uroyMjJERERUVFSYmJgAAADLUcuvAAAAAXRSTlMAQObYZgAAAGpJREFU\n",
       "CNdjYGB4+//u3dMLGIBgDgMDxy8gzf4NiP8CGWxfGRj4vgAZPBMYGJgnARn8FxhY9ygAGfXX0pof\n",
       "gDTlBzAw2YIYJ0EckBBI53sHoBH/gIz7AhBjWH9DjancBLTl/N+7t/cxMAAA3u4f/5xagjYAAAAA\n",
       "SUVORK5CYII=\n",
       "\" style=\"display:inline;vertical-align:middle;\" /></a></td></tr>\n",
       "<tr><td>3</td><td>Operation</td><td>operator:&nbsp;7<br>operands:&nbsp;8<br></td><td><a class=\"ProveItLink\" href=\"../ad514a3eb405c7dce13af51a851a1a745b8995f80/expr.ipynb\"><img src=\"data:image/png;base64,iVBORw0KGgoAAAANSUhEUgAAADgAAAAPBAMAAABD1xE4AAAAMFBMVEX////MzMyqqqoiIiIyMjK6\n",
       "uroQEBB2dnbc3NyYmJhmZmZUVFRERESIiIju7u4AAAB204erAAAAAXRSTlMAQObYZgAAAQVJREFU\n",
       "GNNjYGDgu7NrJccCBmTAu//37i0HQayyCQysyyaABftgsvwODAz6CgwMT+yAnPoGsJgXTFK+gIGB\n",
       "6x8Dg9sDICcMLMR4+AFU8n4AkPeXgesTiNMFFuKOvQCVPA/EHL8Z+h1AnIdgoScMBlDJPyBzfjOs\n",
       "n4BwZCXDIggDaCIDA+d3BvsGhKQBQwvUKx9Blnxl+A/mgR3CeYGBWwDM5fkAJNgSGPJBHCawGPMD\n",
       "BsYNEG8eABLzJzDsB2niAgtpAbEHxJsgV+dA6TqwkAdUAdCbQJN4/IAWAf0ZBXYUI8gsZpg3GcGh\n",
       "Je29SgESBAEgdwIN4lvzf/fuUwIoUcEKJgOQRACAjT4d8TvEzwAAAABJRU5ErkJggg==\n",
       "\" style=\"display:inline;vertical-align:middle;\" /></a></td></tr>\n",
       "<tr><td>4</td><td>Variable</td><td></td><td><a class=\"ProveItLink\" href=\"../../../../../__pv_it/9995c55100c62d7d8a012a35bafc852acbe03cf00/expr.ipynb\"><img src=\"data:image/png;base64,iVBORw0KGgoAAAANSUhEUgAAABAAAAAOBAMAAADUAYG5AAAALVBMVEX///8iIiKYmJjc3Nzu7u7M\n",
       "zMx2dnZmZma6urpERESqqqoyMjJUVFSIiIgAAACbLqVTAAAAAXRSTlMAQObYZgAAAGVJREFUCNdj\n",
       "YGC48+7MmdOvGYAARKwEYo63QIIdiNmeAglfIOZ+wMDGwAxk8E1gUAIpZejbc/oxmJEXwLABzNjH\n",
       "wJDAEABkvGRgMGC5ADWGzQFqjDnEGAZWUQYGn3lvzpyRE2AAAIznGVQJqiN4AAAAAElFTkSuQmCC\n",
       "\" style=\"display:inline;vertical-align:middle;\" /></a></td></tr>\n",
       "<tr><td>5</td><td>Variable</td><td></td><td><a class=\"ProveItLink\" href=\"../../../../../__pv_it/6d1586c49fb5fd7602fde2bbc54560e7304e8ccf0/expr.ipynb\"><img src=\"data:image/png;base64,iVBORw0KGgoAAAANSUhEUgAAABAAAAAOBAMAAADUAYG5AAAAMFBMVEX///9mZmYiIiLc3Nzu7u7M\n",
       "zMyqqqp2dna6urqYmJhEREQyMjIQEBBUVFSIiIgAAABBzvKsAAAAAXRSTlMAQObYZgAAAFxJREFU\n",
       "CNdjYGB4+//u3Tv/GIDgNxCvBGKO70BiBhCzfwMSqUDM/YWBmWEKkMGvwOAJUsrQL8AgDGbU7710\n",
       "AMzY78BwAcz4xMAygQFmDAiw/4AyuD9AaMf1f8GaAdy+F/r2qjhkAAAAAElFTkSuQmCC\n",
       "\" style=\"display:inline;vertical-align:middle;\" /></a></td></tr>\n",
       "<tr><td>6</td><td>Variable</td><td></td><td><a class=\"ProveItLink\" href=\"../../../../../__pv_it/994260d00d104a1ab9cf940a007fb6a4ff36f79e0/expr.ipynb\"><img src=\"data:image/png;base64,iVBORw0KGgoAAAANSUhEUgAAAA8AAAAOBAMAAAACpFvcAAAAMFBMVEX///+qqqrMzMwiIiIyMjK6\n",
       "uroQEBB2dnbc3NyYmJhmZmZUVFRERESIiIju7u4AAACtjd3MAAAAAXRSTlMAQObYZgAAAG5JREFU\n",
       "CNdjYGDgu7NrJccCBgaGsgkMrMsmMDA8sQNy6hsYGNweABnKDAxcH4E0QxcDQ78DiPGCgWH9BAYI\n",
       "sG+AMv4D8S2X4wwMaSBefQADw36Qbn8g1r/AwMDxBcjg/MnAoG0Oktf2XjVhEgMDAJHQGYM57+uu\n",
       "AAAAAElFTkSuQmCC\n",
       "\" style=\"display:inline;vertical-align:middle;\" /></a></td></tr>\n",
       "<tr><td>7</td><td>Literal</td><td></td><td><a class=\"ProveItLink\" href=\"../76b5f4f4c45c0b6a9b59b297fc07dfa9555698f50/expr.ipynb\"><img src=\"data:image/png;base64,iVBORw0KGgoAAAANSUhEUgAAAAwAAAAOBAMAAADpk+DfAAAALVBMVEX///+qqqqYmJh2dnaIiIi6\n",
       "urpUVFQiIiJERETMzMxmZmYyMjLu7u7c3NwAAABvwqPxAAAAAXRSTlMAQObYZgAAAEtJREFUCNdj\n",
       "YGDgPcAAAtwLwNSMGjCV6gIieTawgyhmBS4BIMXOwLsBSKkwMGQCKaC6aQwMjEBd3BdACMScAVJd\n",
       "wJAKolwYAkAUKwAk0guX6efcigAAAABJRU5ErkJggg==\n",
       "\" style=\"display:inline;vertical-align:middle;\" /></a></td></tr>\n",
       "<tr><td>8</td><td>ExprTuple</td><td>9, 10</td><td><a class=\"ProveItLink\" href=\"../fd54ffea77e07ef6158e0f704a03bb0a9ca178230/expr.ipynb\"><img src=\"data:image/png;base64,iVBORw0KGgoAAAANSUhEUgAAADYAAAAVBAMAAAD/UwB2AAAAMFBMVEX////c3NwiIiJERESqqqqY\n",
       "mJh2dnZmZmYQEBDu7u4yMjJUVFTMzMyIiIi6uroAAAAs73DqAAAAAXRSTlMAQObYZgAAAUBJREFU\n",
       "KM9jYMAH+C5gFWZ9ACROg1hzrcsDxCGCt//v3r34AANDDZC9EojZWhkYnrdCdfxiYGD5wsDAxcDA\n",
       "CzSSc9EEoPxHiBTPNyBRP4GBNYGBAyjM1QmytwEix/sPSJy/wMDZwPAKpMoBSDAWQOSYPwAJ+Q0M\n",
       "DCYMZUDRXyAxzgMQOX4DkD6gXDrDUgYG9q/Ijj8P8lN8AgODF0MfAwPTR2S5+yD9+4G+e8EAtJn/\n",
       "A9hMqJw9iOgAGQCS4wDL+UDlPoMC5StYroWBgfsnSAzqTJ6/QIID5J4XDKZQLtsEiKm8f4CEFdDT\n",
       "DFFAlwJd5cDAV8jAMF8B6r1TYDPSGR6BzNm1vQRIzQC6d7r9792ba8Cmr2PgEEA4/yGyX4BhBgxS\n",
       "OAhAlmO7AIkjbHKzgFgazuNFifiNoPDHniZ4DzAAAExYUFmZUn67AAAAAElFTkSuQmCC\n",
       "\" style=\"display:inline;vertical-align:middle;\" /></a></td></tr>\n",
       "<tr><td>9</td><td>Variable</td><td></td><td><a class=\"ProveItLink\" href=\"../../../../../__pv_it/985a1bdf1540838275dec15f4ad6de261cca93ce0/expr.ipynb\"><img src=\"data:image/png;base64,iVBORw0KGgoAAAANSUhEUgAAAA8AAAAOBAMAAAACpFvcAAAAMFBMVEX////MzMyqqqoiIiIyMjK6\n",
       "uroQEBB2dnbc3NyYmJhmZmZUVFRERESIiIju7u4AAAB204erAAAAAXRSTlMAQObYZgAAAGZJREFU\n",
       "CNdjYGDgu7NrJccCBgaGsgkMrMsmMDA8sQNy6hsYGNweABlhDAxcn4A0QxcDQ78DiPGQgWH9BAYI\n",
       "sG+AMv6DSaCGfBDNJMDAsB+kmwuI5S8AiTog5gSaEwXWIO29SgFIAQBC+RaDQlidVgAAAABJRU5E\n",
       "rkJggg==\n",
       "\" style=\"display:inline;vertical-align:middle;\" /></a></td></tr>\n",
       "<tr><td>10</td><td>Variable</td><td></td><td><a class=\"ProveItLink\" href=\"../../../../../__pv_it/185e6d30f167ee2ee5ef3321098dc98e0d77bc590/expr.ipynb\"><img src=\"data:image/png;base64,iVBORw0KGgoAAAANSUhEUgAAABEAAAAOBAMAAAA7w+qHAAAALVBMVEX///8QEBCYmJjc3Ny6urru\n",
       "7u5mZmZ2dnaqqqrMzMxEREQyMjJUVFSIiIgAAABETr/8AAAAAXRSTlMAQObYZgAAAGpJREFUCNdj\n",
       "YGC48+7MmV0TGEDgNQMDxwsQg/M5kMgLABK8T4DEvAtAgusBkLA7ACT4FoDEDsAk9AqAxD2QCecc\n",
       "gMQ6kAGCIOIVEDM9Ahn3FkgwgnTxvgQSqwOgxs1OADLC1r05cyoTyAAAv4Qe+njAWvgAAAAASUVO\n",
       "RK5CYII=\n",
       "\" style=\"display:inline;vertical-align:middle;\" /></a></td></tr>\n",
       "</table>\n"
      ],
      "text/plain": [
       "0. (A , B , C and D , E , F , G)\n",
       "   core type: ExprTuple\n",
       "   sub-expressions: 1, 2, 3, 4, 5, 6\n",
       "1. A\n",
       "   core type: Variable\n",
       "   sub-expressions: \n",
       "2. B\n",
       "   core type: Variable\n",
       "   sub-expressions: \n",
       "3. C and D\n",
       "   core type: Operation\n",
       "   operator: 7\n",
       "   operands: 8\n",
       "4. E\n",
       "   core type: Variable\n",
       "   sub-expressions: \n",
       "5. F\n",
       "   core type: Variable\n",
       "   sub-expressions: \n",
       "6. G\n",
       "   core type: Variable\n",
       "   sub-expressions: \n",
       "7. and\n",
       "   core type: Literal\n",
       "   sub-expressions: \n",
       "8. (C , D)\n",
       "   core type: ExprTuple\n",
       "   sub-expressions: 9, 10\n",
       "9. C\n",
       "   core type: Variable\n",
       "   sub-expressions: \n",
       "10. D\n",
       "    core type: Variable\n",
       "    sub-expressions: "
      ]
     },
     "execution_count": 4,
     "metadata": {},
     "output_type": "execute_result"
    }
   ],
   "source": [
    "# display the expression information\n",
    "expr.exprInfo()"
   ]
  },
  {
   "cell_type": "code",
   "execution_count": null,
   "metadata": {},
   "outputs": [],
   "source": []
  }
 ],
 "metadata": {
  "kernelspec": {
   "display_name": "Python 3",
   "language": "python",
   "name": "python3"
  }
 },
 "nbformat": 4,
 "nbformat_minor": 0
}
