{
 "cells": [
  {
   "cell_type": "markdown",
   "metadata": {},
   "source": [
    "Expression of type <a class=\"ProveItLink\" href=\"../../../../../../../doc/html/api/proveit.logic.Forall.html\">Forall</a>\n",
    "=======================\n",
    "# from context <a class=\"ProveItLink\" href=\"../../_context_.ipynb\">proveit.logic.boolean.conjunction</a>"
   ]
  },
  {
   "cell_type": "code",
   "execution_count": 1,
   "metadata": {},
   "outputs": [],
   "source": [
    "# import Expression classes needed to build the expression\n",
    "from proveit._common_ import A, B\n",
    "from proveit.logic import Forall, Implies, Not"
   ]
  },
  {
   "cell_type": "code",
   "execution_count": 2,
   "metadata": {},
   "outputs": [
    {
     "data": {
      "text/html": [
       "<strong id=\"expr\">expr:</strong> <a class=\"ProveItLink\" href=\"expr.ipynb\"><img src=\"data:image/png;base64,iVBORw0KGgoAAAANSUhEUgAAAK8AAAAXBAMAAACPJQJeAAAAMFBMVEX///8QEBC6urrMzMxUVFRm\n",
       "ZmZERETc3NwyMjKqqqp2dnaIiIiYmJgiIiLu7u4AAAAU9Wx4AAAAAXRSTlMAQObYZgAAAnVJREFU\n",
       "OMu1VT9oE2EU/6WX66XNH4OD4KIZHBwUTxCcJEGDFBzSJYtQrINXBzEZxOogPRwMiGgWXe2iVgQJ\n",
       "6NYhURz8M9jBOIhiKgpultK09Q/V996X613uUpqj+OC+78v73ff7vvfe712A/2Wt0DsGapu+8pye\n",
       "OV68CUN8SE1HemEv/ubzZzPQTeAh/74Zhrjz8q2e4A5AXwRs4CL9MsZD8MZVJhKfWz3yqf2mZwl4\n",
       "DcTIqVdDEEcUy+VT5UAQdOoKHfkLmKfpweTklTCZ2KumWj3j+vY4i8E0kNxFM1112bI+hCE+qaTR\n",
       "uttwfcOOULblYFyjkIZHgWPAhDgrMt5pF4+bsrWbr+Isbsj4BVkh0z+JtTtg9sTsGB84ZHMYKVuq\n",
       "saiKkkY8LVF18XZQsu0yZjA16oGHrqq5XkbqHd+KU4K4BPXtj0B6DgMrQeIOSiYnaPl8oUtK39V5\n",
       "p5mc6LQFKmQjKXV+3BQoWYM+FyTuoA4x5Slie2DtutIKKQ1vpxVxypZW0mqWQD9MvCwHiB2UbCcP\n",
       "VPRk2pPj94pX47gKVZUKTBxlXxRjgh2YfXoeAWIHJTvHHUV7YwueFOdcGRurXBIO57ZE/gp1wWaA\n",
       "Zy2X+L5lWbaLkt3jjDK+5hJf8sj4IHcLyw0R1k2qWSwJ3xnKRrX7xuMuSrafPgO7K0iUVl1ZKL1C\n",
       "Ly3lR0SOMe6eBG/Ry8iKfH9SNkw/8TrK9ygHm8b0O+bXV/uoaxpGBcYajCb8xII6ip7uoz0fOYuv\n",
       "yzAKH6moM+3iSNVHbCo08MXZ2FK2z5HwrAc32nVhc+KoP12H+yE2Nv9reuJ3NPoh3qpFt7b9Hycq\n",
       "oineXiTpAAAAAElFTkSuQmCC\n",
       "\" style=\"display:inline;vertical-align:middle;\" /></a><br>"
      ],
      "text/plain": [
       "expr: forall_{A, B | [not](A)} (A => B)"
      ]
     },
     "execution_count": 2,
     "metadata": {},
     "output_type": "execute_result"
    }
   ],
   "source": [
    "# build up the expression from sub-expressions\n",
    "expr = Forall([A, B], Implies(A, B), conditions = [Not(A)])"
   ]
  },
  {
   "cell_type": "code",
   "execution_count": 3,
   "metadata": {},
   "outputs": [
    {
     "name": "stdout",
     "output_type": "stream",
     "text": [
      "Passed sanity check: built 'expr' is the same as the stored Expression.\n"
     ]
    }
   ],
   "source": [
    "# check that the built expression is the same as the stored expression\n",
    "%check_expr"
   ]
  },
  {
   "cell_type": "code",
   "execution_count": 4,
   "metadata": {},
   "outputs": [
    {
     "data": {
      "text/html": [
       "<table><tr><th>&nbsp;</th><th>core type</th><th>sub-expressions</th><th>expression</th></tr>\n",
       "<tr><td>0</td><td>Operation</td><td>operator:&nbsp;4<br>operand:&nbsp;1<br></td><td><a class=\"ProveItLink\" href=\"expr.ipynb\"><img src=\"data:image/png;base64,iVBORw0KGgoAAAANSUhEUgAAAK8AAAAXBAMAAACPJQJeAAAAMFBMVEX///8QEBC6urrMzMxUVFRm\n",
       "ZmZERETc3NwyMjKqqqp2dnaIiIiYmJgiIiLu7u4AAAAU9Wx4AAAAAXRSTlMAQObYZgAAAnVJREFU\n",
       "OMu1VT9oE2EU/6WX66XNH4OD4KIZHBwUTxCcJEGDFBzSJYtQrINXBzEZxOogPRwMiGgWXe2iVgQJ\n",
       "6NYhURz8M9jBOIhiKgpultK09Q/V996X613uUpqj+OC+78v73ff7vvfe712A/2Wt0DsGapu+8pye\n",
       "OV68CUN8SE1HemEv/ubzZzPQTeAh/74Zhrjz8q2e4A5AXwRs4CL9MsZD8MZVJhKfWz3yqf2mZwl4\n",
       "DcTIqVdDEEcUy+VT5UAQdOoKHfkLmKfpweTklTCZ2KumWj3j+vY4i8E0kNxFM1112bI+hCE+qaTR\n",
       "uttwfcOOULblYFyjkIZHgWPAhDgrMt5pF4+bsrWbr+Isbsj4BVkh0z+JtTtg9sTsGB84ZHMYKVuq\n",
       "saiKkkY8LVF18XZQsu0yZjA16oGHrqq5XkbqHd+KU4K4BPXtj0B6DgMrQeIOSiYnaPl8oUtK39V5\n",
       "p5mc6LQFKmQjKXV+3BQoWYM+FyTuoA4x5Slie2DtutIKKQ1vpxVxypZW0mqWQD9MvCwHiB2UbCcP\n",
       "VPRk2pPj94pX47gKVZUKTBxlXxRjgh2YfXoeAWIHJTvHHUV7YwueFOdcGRurXBIO57ZE/gp1wWaA\n",
       "Zy2X+L5lWbaLkt3jjDK+5hJf8sj4IHcLyw0R1k2qWSwJ3xnKRrX7xuMuSrafPgO7K0iUVl1ZKL1C\n",
       "Ly3lR0SOMe6eBG/Ry8iKfH9SNkw/8TrK9ygHm8b0O+bXV/uoaxpGBcYajCb8xII6ip7uoz0fOYuv\n",
       "yzAKH6moM+3iSNVHbCo08MXZ2FK2z5HwrAc32nVhc+KoP12H+yE2Nv9reuJ3NPoh3qpFt7b9Hycq\n",
       "oineXiTpAAAAAElFTkSuQmCC\n",
       "\" style=\"display:inline;vertical-align:middle;\" /></a></td></tr>\n",
       "<tr><td>1</td><td>Lambda</td><td>parameter:&nbsp;11<br>body:&nbsp;2<br>conditions:&nbsp;3<br></td><td><a class=\"ProveItLink\" href=\"../c94a66bc04b67b1a219c31dc1945dd5b1f238fcd0/expr.ipynb\"><img src=\"data:image/png;base64,iVBORw0KGgoAAAANSUhEUgAAAOUAAAAVCAMAAACOhdk9AAAANlBMVEX///92dnYUFBQNDQ0QEBBE\n",
       "RERUVFS6urqIiIhmZmaqqqrc3Nzu7u6YmJgyMjIiIiLMzMwAAACuIkBbAAAAAXRSTlMAQObYZgAA\n",
       "AnxJREFUWMPVWNm22yAMNK3ZV/3/z94YDAGBHcJx21O9OImJxiONlmTb/mdT+o+5Ft4FM3uYiwcQ\n",
       "LU8X53l7g/CvfQU/d+5w/T5qb2kEtoLw8soA2MuoizxkGLOaYIkxHcyzJKp86zat7d1ZhMN2Gi8S\n",
       "IhG3zBJhWg9mmqWm55vyYixuMYUw+DSAOK9RDZYsskSYWknQ0yxLkqS6TcgcwkAP4jxqIfIz+xpL\n",
       "jClejvk8S0t0tNtK426bQuCs+4gmWps/A0XVEkuEyc2mwFbhbTu26lwDPcyTOwxZ38UIzdN2LSwJ\n",
       "VTt6ppnIFZYI0/B3KaQYtseZwa5ZbHs0yUFRkFIyGpASK1IdgvSVgcRlyYQQ0hcHyi2wxJjHaV1D\n",
       "IZaGaeQ6qszklNsoMLGjsqzFghHQfHd8UJbGZy3z/RPLKmpkjBmO2cSg6pe/f/nG9re8T9dHHESO\n",
       "tYxPw1F3qUqiR8Bxd3VMclmKrLcA87nMQxpjpsO7u8zlxjh2fTD0WchepHBuVyx7BPRkjpiuLEuL\n",
       "XWOJMFXuZ5cspe5cv9RaNhsDIW5gaFDspWkNEJq69NS0ZXmmkIGaVWzHEmFq1a8JLcsgBq6pLgnm\n",
       "8OoVjOKxR+12jdBUJRtPSw2l8N23LBFmaSG0WhPE9XKSXau3QIlLLQjRJHK7RqhntxtPy7CXfeGr\n",
       "SRI6TE13iEqzFMDJ2a0gCrKEgsqkW7QIcZ+WwE8ItFW6pGlVd9UkSi14epJ8z+qSpS2JSfQ4BLzh\n",
       "ze2M4eOJ1Q1v3XrXOgpR+y5mljyFKf45S+Li5uPU1B6+Ymb9l9dzubz5TcAegcyb119kKbwP8zSf\n",
       "+EdEhAyMWIlJlj+X2RzsSJy34gAAAABJRU5ErkJggg==\n",
       "\" style=\"display:inline;vertical-align:middle;\" /></a></td></tr>\n",
       "<tr><td>2</td><td>Operation</td><td>operator:&nbsp;4<br>operand:&nbsp;5<br></td><td><a class=\"ProveItLink\" href=\"../61f03c2880cf8555e2cf8c79b360120ca30cb2820/expr.ipynb\"><img src=\"data:image/png;base64,iVBORw0KGgoAAAANSUhEUgAAAHMAAAAVBAMAAACHwMySAAAAMFBMVEX///8QEBC6urrMzMxUVFRm\n",
       "ZmZERETc3NwyMjKqqqp2dnaIiIiYmJgiIiLu7u4AAAAU9Wx4AAAAAXRSTlMAQObYZgAAAe1JREFU\n",
       "OMudVDssBFEUPXaN/ZidFYVEwxYKjSDRCmEiEoUtViMRRGIVkt1CfAoxURAibKOmERENUSp8oqKg\n",
       "EAURS6UU/19w77wZM2NHVrxk3n3v3nfuO+/eswv8f6RdfJ61rLBd+o54ceD01whT64bZ+1TVvgik\n",
       "KmCF97POsLGdc72vCJBuAQ0YpJ2vyxHMF3zli7TLu7xv9N0D+4CfnFLKAc0R50Y6kxlEKO8TJX0F\n",
       "LsksDw2NOimVC7O2FbF8ZeYirwAIlZCl6x57e0+d0HZR5vTCtuULmkUP18M3QbSCUaARiAOBRFus\n",
       "x4jO6PMV6vTj0rk+HoxgXctmB6cMaExFoRk7wLoRLdTnCMaiNiqBcWG3klCOmRQTRz5niQGVRllu\n",
       "9Uqqaquj8NciYzfDCeC9oZJth7iiZ0AHbFAPVVqzIb3Tou7UFxwuCqiisXiUO8iTxqlinqiAoQLb\n",
       "W08E0vtOU2tKEEa8gS9522wy297PKqGo/8b21Hqrrb5nFgxTmmcZBzXIJcaxJX4Zt/DDgg7b2lrN\n",
       "+uDmIId7kBeF8mKEK0iepZOQE89WiePCSIl7tVlvnp/1IjPRcAqeO1OIyUzRV/10XH6vxtIYNe+Q\n",
       "F//wO1/91tlcW2wqU+u/D0Vz9w9kh+Ym3f2+7H8wG8AX12l6Ikkl68cAAAAASUVORK5CYII=\n",
       "\" style=\"display:inline;vertical-align:middle;\" /></a></td></tr>\n",
       "<tr><td>3</td><td>ExprTuple</td><td>6</td><td><a class=\"ProveItLink\" href=\"../bed5ee56e4e535aff02542c7368f32dd0bcbaa980/expr.ipynb\"><img src=\"data:image/png;base64,iVBORw0KGgoAAAANSUhEUgAAACoAAAAVBAMAAADCwWEQAAAAMFBMVEX////c3NwiIiJERESqqqqY\n",
       "mJh2dnZmZmYQEBDu7u4yMjJUVFTMzMyIiIi6uroAAAAs73DqAAAAAXRSTlMAQObYZgAAANFJREFU\n",
       "GNNjYMAO+C6gCbA+ABKnUYQOAXENEK9EEV0PxFwMDLwoBrDqTwASCQwcE5BFReoFGBg4GxheoRhw\n",
       "4T7IKhOGMhT3TPAPAFLpDEuRRecxnAdZ48XQx8DArgQCCUDuAwb5AiD1guEfVBnPBiDevXu/AZB9\n",
       "HkWUj4GBYwFYtAVJ1IGBgakBbIIpQpQRKMr1AciOAroCCg4wzAKSzD/BLnsEd5Zw/0IGVvtfQEes\n",
       "Y+AQwAhboI9ZEzBE2S6ghyQIgMyXxhDdCMSM6DHEe4ABAF28MLkf4s+JAAAAAElFTkSuQmCC\n",
       "\" style=\"display:inline;vertical-align:middle;\" /></a></td></tr>\n",
       "<tr><td>4</td><td>Literal</td><td></td><td><a class=\"ProveItLink\" href=\"../../../quantification/universal/__pv_it/265f8c02ac1094d56e0e6410a1c1fd3500dc9f540/expr.ipynb\"><img src=\"data:image/png;base64,iVBORw0KGgoAAAANSUhEUgAAAAwAAAAQBAMAAADQT4M0AAAAMFBMVEX///8QEBC6urrMzMxUVFRm\n",
       "ZmZERETc3NwyMjKqqqp2dnaIiIiYmJgiIiLu7u4AAAAU9Wx4AAAAAXRSTlMAQObYZgAAAFhJREFU\n",
       "CNdjeMAABhdAxGmGlSCqj6EMSLInMHAAJVknMPAsLy+vBYp8S0u7BaScGRjSgZQKA18DkOJl4D4A\n",
       "pLgP8IJM4mswARuX7gSmpoKNZWDcAKZ4gCoAgTQTILaSE58AAAAASUVORK5CYII=\n",
       "\" style=\"display:inline;vertical-align:middle;\" /></a></td></tr>\n",
       "<tr><td>5</td><td>Lambda</td><td>parameter:&nbsp;12<br>body:&nbsp;7<br></td><td><a class=\"ProveItLink\" href=\"../5ce81e865128ce6c055a95340891828326bbd0980/expr.ipynb\"><img src=\"data:image/png;base64,iVBORw0KGgoAAAANSUhEUgAAAIAAAAAVCAMAAAC5SxYJAAAANlBMVEX///8UFBQNDQ2qqqru7u4i\n",
       "IiJ2dnbc3NyIiIjMzMxmZmYQEBC6uroyMjJERERUVFSYmJgAAAC3B9V0AAAAAXRSTlMAQObYZgAA\n",
       "AZRJREFUSMfVVkuWrSAMtJvwJ0D2v9mnFz8B4TbH4+QxERSqQlJJXJb/cwTzAkgO5ywRpXVEDHNH\n",
       "bapWcpqyJnL2/OLj5+FozgKEakXzt66J8LwDmf2ZZlBMFYAsCXq7ei8boqwORNIFi9TUNTi2Fm4/\n",
       "/dVNXSLw+/u4T6SHGQVihbmidgMXOt5siaIo6+IQjfHkrzgWIfjKcTcFWATlrqHqniotkXJHRIwx\n",
       "TjKcRtiJewbZPghXYD/GSTbI3STQEAnkkQGZRgZAYmH2zOPbVN+ILvzQk8BFFHwVGXP58vdHVsOz\n",
       "OLOp3bI6URzJBZBbeyeyxCJTJUFbWxLDYQaUmcdRwUIFdwkwomKAPexJJAYGOJ5o/twlDk33NSAj\n",
       "NBJoiUoIjuTUhAMN2ErPMZ8l4GspFGlQBS6ijCwy1rPSYb4UtT131gAfFnVLocZBFWBEG5SLpUEg\n",
       "5tlW+HGPjp5wu1FeAbCTB7Gpjz2i2e7XlmI91TL/3gL+YSNXyztDPf2tQHiFH/DpSZ1eMSDpx0f1\n",
       "G79kZlPJP8sQEb6jEzX0AAAAAElFTkSuQmCC\n",
       "\" style=\"display:inline;vertical-align:middle;\" /></a></td></tr>\n",
       "<tr><td>6</td><td>Operation</td><td>operator:&nbsp;8<br>operand:&nbsp;11<br></td><td><a class=\"ProveItLink\" href=\"../feaa1d0e6d92ad9ead8e5ffd1f92697e3912387a0/expr.ipynb\"><img src=\"data:image/png;base64,iVBORw0KGgoAAAANSUhEUgAAABwAAAAOBAMAAADOPWE3AAAAMFBMVEX///8QEBBERES6urqIiIiq\n",
       "qqrc3Nzu7u6YmJgyMjJUVFTMzMx2dnYiIiJmZmYAAADMbjvTAAAAAXRSTlMAQObYZgAAAGNJREFU\n",
       "CNdjYEAA7gsMyIDzAwq39zsyjy3uGzKXheUzMtec9QcSj92A+wsDw9u7QHAHyGVmYPsHldkFwqtW\n",
       "fULiGjAwSCK4rEDqIoKbCqTmw1zLwD4BSOkXwFyk+DOBoen/PABSrhtHsYt+gAAAAABJRU5ErkJg\n",
       "gg==\n",
       "\" style=\"display:inline;vertical-align:middle;\" /></a></td></tr>\n",
       "<tr><td>7</td><td>Operation</td><td>operator:&nbsp;9<br>operands:&nbsp;10<br></td><td><a class=\"ProveItLink\" href=\"../ab822dd92f6f587d42cbcb4e55df2d568cc3b3260/expr.ipynb\"><img src=\"data:image/png;base64,iVBORw0KGgoAAAANSUhEUgAAAEAAAAAPBAMAAACmSdRUAAAAMFBMVEX///92dnYQEBBERERUVFS6\n",
       "urqIiIhmZmaqqqrc3Nzu7u6YmJgyMjIiIiLMzMwAAACFkkdwAAAAAXRSTlMAQObYZgAAAOhJREFU\n",
       "GNNjYACBtwxYwJb/Li42ARD2eWwKGJQZGNi/glnc9xcghOFMvm9A/AXMnFE/AaHgFIzB9hOo9SOY\n",
       "mZAfgFAQAmMwKzAw8GqBWKwL+jcgFDAmQBn8Dgych8EWLmV4DxZkvwsG36EK3rul1UI0BjDML0By\n",
       "PMdRCJ0/gYHrCti1Li7+BsjeW6MKpoxAikBGsDIwMB1Akuc7CPEpyIf7BYBEA9CxCkhuuAyR5/sN\n",
       "JPyBkpxAzPMByQkOiGDg/AOyEeTlXwgFc5CC4REw1Cbrn2Tgtv+D8IYlhGK3/+LicxpbFD1A5QIA\n",
       "YgVCLvPPxacAAAAASUVORK5CYII=\n",
       "\" style=\"display:inline;vertical-align:middle;\" /></a></td></tr>\n",
       "<tr><td>8</td><td>Literal</td><td></td><td><a class=\"ProveItLink\" href=\"../../../negation/__pv_it/7bea79645543c2413aa17e787cca04e21046fde60/expr.ipynb\"><img src=\"data:image/png;base64,iVBORw0KGgoAAAANSUhEUgAAAAwAAAAGBAMAAAAFwGKyAAAAFVBMVEX///9UVFTMzMx2dnYiIiJm\n",
       "ZmYAAACWz4ZEAAAAAXRSTlMAQObYZgAAABRJREFUCNdjCHEBAmcGMFDEQzEBAEl+Ai6uYJv/AAAA\n",
       "AElFTkSuQmCC\n",
       "\" style=\"display:inline;vertical-align:middle;\" /></a></td></tr>\n",
       "<tr><td>9</td><td>Literal</td><td></td><td><a class=\"ProveItLink\" href=\"../../../implication/__pv_it/e5c030cabcb650938f92dee8256fe11cd12bf9b30/expr.ipynb\"><img src=\"data:image/png;base64,iVBORw0KGgoAAAANSUhEUgAAABMAAAANBAMAAAC5okgUAAAALVBMVEX////c3NxERETMzMwQEBCq\n",
       "qqoiIiJmZmaIiIh2dnZUVFS6uroyMjLu7u4AAACPpZJTAAAAAXRSTlMAQObYZgAAAD1JREFUCNdj\n",
       "YAABXgY44LkAZ3IvQAjPABFlaSCQV4AQjtkAZ/IegbNt5sLUpunC5aPgLMYDcCaTAJzJDCIA2yMN\n",
       "HCCUuIIAAAAASUVORK5CYII=\n",
       "\" style=\"display:inline;vertical-align:middle;\" /></a></td></tr>\n",
       "<tr><td>10</td><td>ExprTuple</td><td>11, 12</td><td><a class=\"ProveItLink\" href=\"../caee09fb4b5c95b986a9cee46a014afbad9bdc680/expr.ipynb\"><img src=\"data:image/png;base64,iVBORw0KGgoAAAANSUhEUgAAADUAAAAVBAMAAAAUZLt1AAAAMFBMVEX////c3NwiIiJERESqqqqY\n",
       "mJh2dnZmZmYQEBDu7u4yMjJUVFTMzMyIiIi6uroAAAAs73DqAAAAAXRSTlMAQObYZgAAATZJREFU\n",
       "KM9jYMAH+C5gFY4DEach7EMwQdb9v3dvXsfAfgDIXgkRWg/XwWHAwFD/gGEBAwMvxEhW/QkwufNA\n",
       "kfMbGMKAqiBiIvUCMLn7QFZ8AsMMBoZXEIEL9x/A5CyAWGMCA7MDQxnEsRP8A2ByvxkYpCwZGNgK\n",
       "GJaC+fPAtoABz++711WBNMsChj6wwAMG+QKoHO9HBoZJG4BGNTD8A6vdvXu/AVSOuQEo/xUo9gEi\n",
       "xwd07wKoHD9QD+s3sFwLiO/AwMDUAPMe0FHcX8BmmgK5jEA5rg8MDBNg3pMHGsK6gCEdyJ0FsuYn\n",
       "A+cnqPd4uiaA/fCIgUG4fyEDq/2vAs5+oJbi/7t3rwL5lesBA4cAUnQhsUFhxpqA4LIiR2AuIo7Q\n",
       "5ThBfpJG8JFTADfIfEbsaeIOAwMABOxNRsfkiy0AAAAASUVORK5CYII=\n",
       "\" style=\"display:inline;vertical-align:middle;\" /></a></td></tr>\n",
       "<tr><td>11</td><td>Variable</td><td></td><td><a class=\"ProveItLink\" href=\"../../../../../__pv_it/2cbe72a7ad6f655694dd697106680215e8489b600/expr.ipynb\"><img src=\"data:image/png;base64,iVBORw0KGgoAAAANSUhEUgAAAA8AAAAOBAMAAAACpFvcAAAALVBMVEX///8QEBBERERUVFS6urqI\n",
       "iIhmZmaqqqrc3Nzu7u6YmJgyMjIiIiLMzMwAAADtIaYWAAAAAXRSTlMAQObYZgAAAFtJREFUCNdj\n",
       "YACBOwxQsA9Kc52bAGG05zVAGAFxDmCaZULdAjBjCsO9ADDDgaEvAUTzGhvbKYCVMDAwbgAxChgY\n",
       "eASANAeQwf0AyJgNxEwvGRia5HYwcOm9TgAA6BoR3jrzwFcAAAAASUVORK5CYII=\n",
       "\" style=\"display:inline;vertical-align:middle;\" /></a></td></tr>\n",
       "<tr><td>12</td><td>Variable</td><td></td><td><a class=\"ProveItLink\" href=\"../../../../../__pv_it/077b2ff79244fb4582cbe22c6e3356fa92a52f2f0/expr.ipynb\"><img src=\"data:image/png;base64,iVBORw0KGgoAAAANSUhEUgAAABAAAAAOBAMAAADUAYG5AAAAMFBMVEX///+qqqru7u4iIiJ2dnbc\n",
       "3NyIiIjMzMxmZmYQEBC6uroyMjJERERUVFSYmJgAAADLUcuvAAAAAXRSTlMAQObYZgAAAGpJREFU\n",
       "CNdjYGB4+//u3dMLGIBgDgMDxy8gzf4NiP8CGWxfGRj4vgAZPBMYGJgnARn8FxhY9ygAGfXX0pof\n",
       "gDTlBzAw2YIYJ0EckBBI53sHoBH/gIz7AhBjWH9DjancBLTl/N+7t/cxMAAA3u4f/5xagjYAAAAA\n",
       "SUVORK5CYII=\n",
       "\" style=\"display:inline;vertical-align:middle;\" /></a></td></tr>\n",
       "</table>\n"
      ],
      "text/plain": [
       "0. forall_{A, B | [not](A)} (A => B)\n",
       "   core type: Operation\n",
       "   operator: 4\n",
       "   operand: 1\n",
       "1. A -> [forall_{B} (A => B)] | [not](A)\n",
       "   core type: Lambda\n",
       "   parameter: 11\n",
       "   body: 2\n",
       "   conditions: 3\\n2. forall_{B} (A => B)\n",
       "   core type: Operation\n",
       "   operator: 4\n",
       "   operand: 5\n",
       "3. ([not](A))\n",
       "   core type: ExprTuple\n",
       "   sub-expressions: 6\n",
       "4. forall\n",
       "   core type: Literal\n",
       "   sub-expressions: \n",
       "5. B -> (A => B)\n",
       "   core type: Lambda\n",
       "   parameter: 12\n",
       "   body: 7\n",
       "6. [not](A)\n",
       "   core type: Operation\n",
       "   operator: 8\n",
       "   operand: 11\n",
       "7. A => B\n",
       "   core type: Operation\n",
       "   operator: 9\n",
       "   operands: 10\n",
       "8. not\n",
       "   core type: Literal\n",
       "   sub-expressions: \n",
       "9. =>\n",
       "   core type: Literal\n",
       "   sub-expressions: \n",
       "10. (A , B)\n",
       "    core type: ExprTuple\n",
       "    sub-expressions: 11, 12\n",
       "11. A\n",
       "    core type: Variable\n",
       "    sub-expressions: \n",
       "12. B\n",
       "    core type: Variable\n",
       "    sub-expressions: "
      ]
     },
     "execution_count": 4,
     "metadata": {},
     "output_type": "execute_result"
    }
   ],
   "source": [
    "# display the expression information\n",
    "expr.exprInfo()"
   ]
  },
  {
   "cell_type": "code",
   "execution_count": null,
   "metadata": {},
   "outputs": [],
   "source": []
  }
 ],
 "metadata": {
  "kernelspec": {
   "display_name": "Python 3",
   "language": "python",
   "name": "python3"
  }
 },
 "nbformat": 4,
 "nbformat_minor": 0
}
