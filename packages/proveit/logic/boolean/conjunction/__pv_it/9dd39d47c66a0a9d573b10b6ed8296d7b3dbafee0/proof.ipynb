{
 "cells": [
  {
   "cell_type": "markdown",
   "metadata": {},
   "source": [
    "Show the Proof\n",
    "========"
   ]
  },
  {
   "cell_type": "code",
   "execution_count": 1,
   "metadata": {},
   "outputs": [
    {
     "data": {
      "text/html": [
       "<table><tr><th>&nbsp;</th><th>step type</th><th>requirements</th><th>statement</th></tr>\n",
       "<tr><td>0</td><td>assumption</td><td></td><td><span style=\"font-size:20px;\"><a class=\"ProveItLink\" href=\"../1aac8e3ae4bed9d1afe78eba0ca5ec0d4a9987660/expr.ipynb\"><img src=\"data:image/png;base64,iVBORw0KGgoAAAANSUhEUgAAANEAAAAVBAMAAAAqbRZ+AAAAMFBMVEX////c3NxERESqqqpUVFS6\n",
       "urrMzMwyMjIQEBCIiIh2dnYiIiLu7u5mZmaYmJgAAABXZE4RAAAAAXRSTlMAQObYZgAAAvRJREFU\n",
       "SMe1Vk1oE0EUfrv52fxsftCDeBB6EFuwkiDiTc0htXiQ5tiiQigBe2vwJDS19f9SShFUckrAg9pT\n",
       "EAU1osGT4iUq6EHURfRgVdKG1qpo63tvdjczLfGgMbAzu9+8ed/MN++9CQBE38B//vln49SZd6kd\n",
       "6ojLD+2oTlMbnKfXlEAqa0zer6bT3Zk14OOtr60tChIcWEz3bwOIZFXLq82J4zeS+PKSvkKT2Bg1\n",
       "HjHmhYVWc2xP4fQlFQtNAxyZVrFYHmAfusyvWVTXkFmYxf6ay1QUA59+it6oO9v+js+igplj6D60\n",
       "oNqNlnFFOHluHRNcNBSmKbHEPcIBDN9zZEEg+kPBDLL1Tap2pYxY1SN7NZer1bzNtNdbk5h8YtfB\n",
       "oBAK+uw9go6D4SkFe0u6a3XVLkEY7l1P8ufRz9KeNsh7ipQZP+xZEUvKhx39U6Adq8mYtsxfWdWu\n",
       "CULlEK9A622p57/f6zBFcD+GxRMzJACRW5Gkrf+B4itLwSIrrVNw7XgeqexhcfS4y3TowbcZ7Bv0\n",
       "MYISBziQfaD94vEwaHYQleJg3lSw8EKLybULfsXGu+Sc30M5Ioo77dDJnSORmCmXTjd5/CPAfmHZ\n",
       "Q2yWjMU4EUzVTicwgCx+Hh2sVlsRofvoaLrRyWDWYcLmPE/EiMoJJgrwRlnGAuxrt2oX6yI7y2HK\n",
       "yXvSAQfD5MOL5AGS24PPbRr24FYNltpPhzKQlDEvp1xdtRudEUluq/dkHROfUwgrkE4CbcRngjMm\n",
       "LryIdBLB5mJ8+KGaaldCXfQCRQVr5rVkJlLPjXIKTpOMEuRimOCKk04jBVCwRhJ8T0HFMJ384+yM\n",
       "ic1bEtOXC3I++Sqg9SzH4d0q2feBXZ8iCSycJ0SOOhj4+w8+BwUzn2Ed3sEZZohqvOmFW2G3n0kq\n",
       "1eikXKzskIe/wOxqBLvGqkqxbTHNdejOu94GZ6aodGv868/Mtxng+8m8Q5Uq1REmb7zNnXuWu+gV\n",
       "bDZ3hOnSH/5H/AY2ftiH3PkhuAAAAABJRU5ErkJggg==\n",
       "\" style=\"display:inline;vertical-align:middle;\" /></a> <a class=\"ProveItLink\" href=\"proof.ipynb\" style=\"text-decoration: none\">&#x22A2;&nbsp;</a><a class=\"ProveItLink\" href=\"../2efd9aa44db557aee3d255d4cd8fe36a35c2e6570/expr.ipynb\"><img src=\"data:image/png;base64,iVBORw0KGgoAAAANSUhEUgAAALwAAAAVBAMAAAAOdJm+AAAAMFBMVEX////c3NwiIiJERESqqqqY\n",
       "mJh2dnZmZmYQEBDu7u4yMjJUVFTMzMyIiIi6uroAAAAs73DqAAAAAXRSTlMAQObYZgAAAplJREFU\n",
       "OMu1VU1oE1EQ/tJk26bJpgEFsR4SAkL10lUqaC/preDFgDcv5iLqScHfgxIpHkTQLj0oBJVWKbUK\n",
       "tqIimkNCj/bQgIIHkUQPVQRBaVow0cZ5b3azmWgOQgzs7L5v5s2b/ebLLPCff5FiJ7IY5TaOJb4t\n",
       "tsbna7knj1rA4OvnZ3wnBfSunsvdKwAXZGT3/Eh1fJge5ng97+Bb3YBeC8iUJXYshcj5lMSqQKAC\n",
       "9LVU4o8UszfSMJkbY8hmeNb1L5NjeUFg2R1kTkQFFl4nk7FhpP9Ib5an0MtpN2d4V3i3cwxKBBxO\n",
       "C+y+un+WceYGlxK8xOvbdxM7nfSB1At8YbRYYh5CX91O76Vr0G7GeirKbpFx/m9kYvSWw3zsjO1V\n",
       "/8HCWZaPfYApzSLupK8BA/sEFptS9paM67fAJB7Vy022R87iQRszenFHU02/IzjtcFp7/3Y7BJZJ\n",
       "edQ24vQ+ReJ+vdzlcZ+oXwOu60UZMdZbHAMOp9+ByQWBDUW99I24EokS+bLTk6DV3No3FjZ0qblc\n",
       "XjuMIkIFdlOrzDWB1bXDlnFJZa6o19AkjycSjdbCWuH0EZK5JrbLRphL7qebsS6wCWUCBRm3qg5b\n",
       "c9M7oJvej8vqeZQ2aGGN0TXNnBLRoYrA8qrwHggs/Mv5BzrkxFvS76FHH6XvUwLTW8YasmepNDDd\n",
       "xeMQmPmTzIg695B2PBPpV7Sesmr5Q9WiyuhyZR++agvMoJf5pNvrYUr2r7QqWJiTZS+9cdHCR9Lq\n",
       "xDSMZJWCQsqpx8QpmlQPtBA9DEsPz41CYDeTNPh4mvH4880W3JG2OviUeIs2D2dHpfh3zB0KgZes\n",
       "HHfwpjvz2ehu89mY60z6bBt8W2fSP26D+zryMTQLf4V/AwhDzEtnbO5uAAAAAElFTkSuQmCC\n",
       "\" style=\"display:inline;vertical-align:middle;\" /></a></span></td></tr>\n",
       "</table>"
      ],
      "text/plain": [
       "<proveit._core_.proof._ShowProof at 0x7f94ebcfddd8>"
      ]
     },
     "execution_count": 1,
     "metadata": {},
     "output_type": "execute_result"
    }
   ],
   "source": [
    "import proveit\n",
    "%show_proof"
   ]
  },
  {
   "cell_type": "code",
   "execution_count": null,
   "metadata": {},
   "outputs": [],
   "source": []
  }
 ],
 "metadata": {
  "kernelspec": {
   "display_name": "Python 3",
   "language": "python",
   "name": "python3"
  }
 },
 "nbformat": 4,
 "nbformat_minor": 0
}
