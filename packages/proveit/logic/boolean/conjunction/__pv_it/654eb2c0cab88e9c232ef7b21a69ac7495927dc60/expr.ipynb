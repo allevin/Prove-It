{
 "cells": [
  {
   "cell_type": "markdown",
   "metadata": {},
   "source": [
    "Expression of type <a class=\"ProveItLink\" href=\"../../../../../../../doc/html/api/proveit.logic.And.html\">And</a>\n",
    "=======================\n",
    "# from context <a class=\"ProveItLink\" href=\"../../_context_.ipynb\">proveit.logic.boolean.conjunction</a>"
   ]
  },
  {
   "cell_type": "code",
   "execution_count": 1,
   "metadata": {},
   "outputs": [],
   "source": [
    "# import Expression classes needed to build the expression\n",
    "from proveit._common_ import A, B, C, D, E\n",
    "from proveit.logic import And"
   ]
  },
  {
   "cell_type": "code",
   "execution_count": 2,
   "metadata": {},
   "outputs": [
    {
     "data": {
      "text/html": [
       "<strong id=\"expr\">expr:</strong> <a class=\"ProveItLink\" href=\"expr.ipynb\"><img src=\"data:image/png;base64,iVBORw0KGgoAAAANSUhEUgAAAK8AAAAPBAMAAABgoIKoAAAAMFBMVEX///8iIiIQEBCYmJjc3Ny6\n",
       "urru7u5mZmZ2dnaqqqrMzMxEREQyMjJUVFSIiIgAAABUCcz6AAAAAXRSTlMAQObYZgAAAkRJREFU\n",
       "OMt9VD1oE2EYfmIuudw1TYtDN1EcXBQ8Z1FvUgShwUE3zSZIkaqD6NKi4NpsXatrDamdCw1adCiS\n",
       "OBTBeia72Cr+1TYxvj/33d1XwYN77+W593nv/Xm+A/B5GEXrC9h/+eP7gDMUt1K1seKnd3edaQuq\n",
       "dAdR1G6x2we834qeTwPKX/Tp1AxyHHB/2NjDAIU7gU0do6TeEpe2Q2ZGQ1+niU/9jD9gCvL/0D2w\n",
       "sKkJMnOhTb3eI8MBFa6i2RPu86Q8Z/67OosTpkcC8jsW9oLDL8OmztFYi5xuhHue7DA2eq2XjKqi\n",
       "XWNjK0ZGjgC5Y1nMlQFegE1tA7PgLsZ4Hk1JPIVkY1e8b7qeVs7MrgNnvZbFJmVFN2FT95DXqcsU\n",
       "zs2y+wj3zbqrPFK6SoFbV6j5cet2YGEzQbqShFroR22d+jZLrSs6GselOK4A55c4OTgthbZDFA9Z\n",
       "2OEwTZxQS7soq7fK5iibfA+jsaAbUbQnzlngvULLnDzIYkPBazaVZFqCrzMhXAaaq8HvaBZq4IQ4\n",
       "tP+GQoNkYgY7ycZbsKm0Mge3YnniAC8Q83SvyVuP7oPikCDL0rHP3+7Ws1iXi3VhU0XGj1lXu2RW\n",
       "pJ+1OAK4qLLRBN60kbHTt7CmyZGlsozllLOMnwnVX5LFiJ549vyxRV1MLOOnr5DF8qTjq6FNlXqe\n",
       "UPIbq4No84FqnJVRoSqc5X6I00M+pBv8go+DS3EfXurxMBgab+7VbWpxk35Vb7/av6qCWVvmqqYv\n",
       "/of9S/0Lne24CHlFO0IAAAAASUVORK5CYII=\n",
       "\" style=\"display:inline;vertical-align:middle;\" /></a><br>"
      ],
      "text/plain": [
       "expr: D and A and B and C and E"
      ]
     },
     "execution_count": 2,
     "metadata": {},
     "output_type": "execute_result"
    }
   ],
   "source": [
    "# build up the expression from sub-expressions\n",
    "expr = And(D, A, B, C, E)"
   ]
  },
  {
   "cell_type": "code",
   "execution_count": 3,
   "metadata": {},
   "outputs": [
    {
     "name": "stdout",
     "output_type": "stream",
     "text": [
      "Passed sanity check: built 'expr' is the same as the stored Expression.\n"
     ]
    }
   ],
   "source": [
    "# check that the built expression is the same as the stored expression\n",
    "%check_expr"
   ]
  },
  {
   "cell_type": "code",
   "execution_count": 4,
   "metadata": {},
   "outputs": [
    {
     "data": {
      "text/html": [
       "<table><tr><th>&nbsp;</th><th>core type</th><th>sub-expressions</th><th>expression</th></tr>\n",
       "<tr><td>0</td><td>Operation</td><td>operator:&nbsp;1<br>operands:&nbsp;2<br></td><td><a class=\"ProveItLink\" href=\"expr.ipynb\"><img src=\"data:image/png;base64,iVBORw0KGgoAAAANSUhEUgAAAK8AAAAPBAMAAABgoIKoAAAAMFBMVEX///8iIiIQEBCYmJjc3Ny6\n",
       "urru7u5mZmZ2dnaqqqrMzMxEREQyMjJUVFSIiIgAAABUCcz6AAAAAXRSTlMAQObYZgAAAkRJREFU\n",
       "OMt9VD1oE2EYfmIuudw1TYtDN1EcXBQ8Z1FvUgShwUE3zSZIkaqD6NKi4NpsXatrDamdCw1adCiS\n",
       "OBTBeia72Cr+1TYxvj/33d1XwYN77+W593nv/Xm+A/B5GEXrC9h/+eP7gDMUt1K1seKnd3edaQuq\n",
       "dAdR1G6x2we834qeTwPKX/Tp1AxyHHB/2NjDAIU7gU0do6TeEpe2Q2ZGQ1+niU/9jD9gCvL/0D2w\n",
       "sKkJMnOhTb3eI8MBFa6i2RPu86Q8Z/67OosTpkcC8jsW9oLDL8OmztFYi5xuhHue7DA2eq2XjKqi\n",
       "XWNjK0ZGjgC5Y1nMlQFegE1tA7PgLsZ4Hk1JPIVkY1e8b7qeVs7MrgNnvZbFJmVFN2FT95DXqcsU\n",
       "zs2y+wj3zbqrPFK6SoFbV6j5cet2YGEzQbqShFroR22d+jZLrSs6GselOK4A55c4OTgthbZDFA9Z\n",
       "2OEwTZxQS7soq7fK5iibfA+jsaAbUbQnzlngvULLnDzIYkPBazaVZFqCrzMhXAaaq8HvaBZq4IQ4\n",
       "tP+GQoNkYgY7ycZbsKm0Mge3YnniAC8Q83SvyVuP7oPikCDL0rHP3+7Ws1iXi3VhU0XGj1lXu2RW\n",
       "pJ+1OAK4qLLRBN60kbHTt7CmyZGlsozllLOMnwnVX5LFiJ549vyxRV1MLOOnr5DF8qTjq6FNlXqe\n",
       "UPIbq4No84FqnJVRoSqc5X6I00M+pBv8go+DS3EfXurxMBgab+7VbWpxk35Vb7/av6qCWVvmqqYv\n",
       "/of9S/0Lne24CHlFO0IAAAAASUVORK5CYII=\n",
       "\" style=\"display:inline;vertical-align:middle;\" /></a></td></tr>\n",
       "<tr><td>1</td><td>Literal</td><td></td><td><a class=\"ProveItLink\" href=\"../76b5f4f4c45c0b6a9b59b297fc07dfa9555698f50/expr.ipynb\"><img src=\"data:image/png;base64,iVBORw0KGgoAAAANSUhEUgAAAAwAAAAOBAMAAADpk+DfAAAALVBMVEX///+qqqqYmJh2dnaIiIi6\n",
       "urpUVFQiIiJERETMzMxmZmYyMjLu7u7c3NwAAABvwqPxAAAAAXRSTlMAQObYZgAAAEtJREFUCNdj\n",
       "YGDgPcAAAtwLwNSMGjCV6gIieTawgyhmBS4BIMXOwLsBSKkwMGQCKaC6aQwMjEBd3BdACMScAVJd\n",
       "wJAKolwYAkAUKwAk0guX6efcigAAAABJRU5ErkJggg==\n",
       "\" style=\"display:inline;vertical-align:middle;\" /></a></td></tr>\n",
       "<tr><td>2</td><td>ExprTuple</td><td>3, 4, 5, 6, 7</td><td><a class=\"ProveItLink\" href=\"../7183f112baa2409f07509d56f0f9dc8c3cd6b5f90/expr.ipynb\"><img src=\"data:image/png;base64,iVBORw0KGgoAAAANSUhEUgAAAIMAAAAVBAMAAACXjEALAAAAMFBMVEX////c3NwiIiJERESqqqqY\n",
       "mJh2dnZmZmYQEBDu7u4yMjJUVFTMzMyIiIi6uroAAAAs73DqAAAAAXRSTlMAQObYZgAAAj9JREFU\n",
       "OMutVDFoE2EU/q7JXfKnueQGwaGDHQsuWYRSh2br4hAUXASbTRzEVEQXoYIWWgfNZpfSwyLilGIH\n",
       "oUdJcRI7tLtKo4voYmttxaRa3/v//10uQ5bWg/vve/fde/9773v/Af/hKmydxPsqLxt0vz+KoqX1\n",
       "LpEfFnSFmLGWWAvn71ZOG+g3O1HUCDPs9ZJftIH0z26I3E4MHwCZvxZ7M8CXGWsUQ/IpgVaf68gf\n",
       "0DJdj/0u/o7z+UN3x2D1jL7wdi3znR1ruAxk2dHnfTbjpjgT8h18Qu6BzW2OW3ffMjepBLWFeeAb\n",
       "mylO/Mxy7OdL6kiRx8CcwdNlDl+zTAOoIkCqjDu6rhJnEYf4mt4XWFyGs2QqdNq6Gun6HtwK96eG\n",
       "55AaJquWVC3ugLk21z7eqhiY2e+ZhXbUCOiZDvGY7W0O3RTtCnB+yZfbAdRZAwd2kyG8Q+RgeqOr\n",
       "HudlVtiNKNoTPMphTBpFrbTq6u4hT3LtmBDs4cZ5UjaPBHe6FWZ1iAvSpBIcLOgQD634yJYsmaZ7\n",
       "RMaC4zbLGg/qYaklx+K6LuQci3hIyxj1Xbf+lFFMyViwEko28uq2FB4LFtgNcc2OxTsy1Q8uNuTm\n",
       "1LE4bMfiLR0BbUyWUZiymDfBm3Ut6mfg6XgnWrnH3k8COKPtAJeOXmCeEsgQs8qys4H86uvbFqsV\n",
       "On6veMdcC9kgKXbS+IQ+Rg9BA+5WE7abJCv9jB7ihhz2Y4fQnRtKvEj+wHz0MXqIQS7dOdGP7wPw\n",
       "D4GaqOAEF6UbAAAAAElFTkSuQmCC\n",
       "\" style=\"display:inline;vertical-align:middle;\" /></a></td></tr>\n",
       "<tr><td>3</td><td>Variable</td><td></td><td><a class=\"ProveItLink\" href=\"../../../../../__pv_it/185e6d30f167ee2ee5ef3321098dc98e0d77bc590/expr.ipynb\"><img src=\"data:image/png;base64,iVBORw0KGgoAAAANSUhEUgAAABEAAAAOBAMAAAA7w+qHAAAALVBMVEX///8QEBCYmJjc3Ny6urru\n",
       "7u5mZmZ2dnaqqqrMzMxEREQyMjJUVFSIiIgAAABETr/8AAAAAXRSTlMAQObYZgAAAGpJREFUCNdj\n",
       "YGC48+7MmV0TGEDgNQMDxwsQg/M5kMgLABK8T4DEvAtAgusBkLA7ACT4FoDEDsAk9AqAxD2QCecc\n",
       "gMQ6kAGCIOIVEDM9Ahn3FkgwgnTxvgQSqwOgxs1OADLC1r05cyoTyAAAv4Qe+njAWvgAAAAASUVO\n",
       "RK5CYII=\n",
       "\" style=\"display:inline;vertical-align:middle;\" /></a></td></tr>\n",
       "<tr><td>4</td><td>Variable</td><td></td><td><a class=\"ProveItLink\" href=\"../../../../../__pv_it/2cbe72a7ad6f655694dd697106680215e8489b600/expr.ipynb\"><img src=\"data:image/png;base64,iVBORw0KGgoAAAANSUhEUgAAAA8AAAAOBAMAAAACpFvcAAAALVBMVEX///8QEBBERERUVFS6urqI\n",
       "iIhmZmaqqqrc3Nzu7u6YmJgyMjIiIiLMzMwAAADtIaYWAAAAAXRSTlMAQObYZgAAAFtJREFUCNdj\n",
       "YACBOwxQsA9Kc52bAGG05zVAGAFxDmCaZULdAjBjCsO9ADDDgaEvAUTzGhvbKYCVMDAwbgAxChgY\n",
       "eASANAeQwf0AyJgNxEwvGRia5HYwcOm9TgAA6BoR3jrzwFcAAAAASUVORK5CYII=\n",
       "\" style=\"display:inline;vertical-align:middle;\" /></a></td></tr>\n",
       "<tr><td>5</td><td>Variable</td><td></td><td><a class=\"ProveItLink\" href=\"../../../../../__pv_it/077b2ff79244fb4582cbe22c6e3356fa92a52f2f0/expr.ipynb\"><img src=\"data:image/png;base64,iVBORw0KGgoAAAANSUhEUgAAABAAAAAOBAMAAADUAYG5AAAAMFBMVEX///+qqqru7u4iIiJ2dnbc\n",
       "3NyIiIjMzMxmZmYQEBC6uroyMjJERERUVFSYmJgAAADLUcuvAAAAAXRSTlMAQObYZgAAAGpJREFU\n",
       "CNdjYGB4+//u3dMLGIBgDgMDxy8gzf4NiP8CGWxfGRj4vgAZPBMYGJgnARn8FxhY9ygAGfXX0pof\n",
       "gDTlBzAw2YIYJ0EckBBI53sHoBH/gIz7AhBjWH9DjancBLTl/N+7t/cxMAAA3u4f/5xagjYAAAAA\n",
       "SUVORK5CYII=\n",
       "\" style=\"display:inline;vertical-align:middle;\" /></a></td></tr>\n",
       "<tr><td>6</td><td>Variable</td><td></td><td><a class=\"ProveItLink\" href=\"../../../../../__pv_it/985a1bdf1540838275dec15f4ad6de261cca93ce0/expr.ipynb\"><img src=\"data:image/png;base64,iVBORw0KGgoAAAANSUhEUgAAAA8AAAAOBAMAAAACpFvcAAAAMFBMVEX////MzMyqqqoiIiIyMjK6\n",
       "uroQEBB2dnbc3NyYmJhmZmZUVFRERESIiIju7u4AAAB204erAAAAAXRSTlMAQObYZgAAAGZJREFU\n",
       "CNdjYGDgu7NrJccCBgaGsgkMrMsmMDA8sQNy6hsYGNweABlhDAxcn4A0QxcDQ78DiPGQgWH9BAYI\n",
       "sG+AMv6DSaCGfBDNJMDAsB+kmwuI5S8AiTog5gSaEwXWIO29SgFIAQBC+RaDQlidVgAAAABJRU5E\n",
       "rkJggg==\n",
       "\" style=\"display:inline;vertical-align:middle;\" /></a></td></tr>\n",
       "<tr><td>7</td><td>Variable</td><td></td><td><a class=\"ProveItLink\" href=\"../../../../../__pv_it/9995c55100c62d7d8a012a35bafc852acbe03cf00/expr.ipynb\"><img src=\"data:image/png;base64,iVBORw0KGgoAAAANSUhEUgAAABAAAAAOBAMAAADUAYG5AAAALVBMVEX///8iIiKYmJjc3Nzu7u7M\n",
       "zMx2dnZmZma6urpERESqqqoyMjJUVFSIiIgAAACbLqVTAAAAAXRSTlMAQObYZgAAAGVJREFUCNdj\n",
       "YGC48+7MmdOvGYAARKwEYo63QIIdiNmeAglfIOZ+wMDGwAxk8E1gUAIpZejbc/oxmJEXwLABzNjH\n",
       "wJDAEABkvGRgMGC5ADWGzQFqjDnEGAZWUQYGn3lvzpyRE2AAAIznGVQJqiN4AAAAAElFTkSuQmCC\n",
       "\" style=\"display:inline;vertical-align:middle;\" /></a></td></tr>\n",
       "</table>\n"
      ],
      "text/plain": [
       "0. D and A and B and C and E\n",
       "   core type: Operation\n",
       "   operator: 1\n",
       "   operands: 2\n",
       "1. and\n",
       "   core type: Literal\n",
       "   sub-expressions: \n",
       "2. (D , A , B , C , E)\n",
       "   core type: ExprTuple\n",
       "   sub-expressions: 3, 4, 5, 6, 7\n",
       "3. D\n",
       "   core type: Variable\n",
       "   sub-expressions: \n",
       "4. A\n",
       "   core type: Variable\n",
       "   sub-expressions: \n",
       "5. B\n",
       "   core type: Variable\n",
       "   sub-expressions: \n",
       "6. C\n",
       "   core type: Variable\n",
       "   sub-expressions: \n",
       "7. E\n",
       "   core type: Variable\n",
       "   sub-expressions: "
      ]
     },
     "execution_count": 4,
     "metadata": {},
     "output_type": "execute_result"
    }
   ],
   "source": [
    "# display the expression information\n",
    "expr.exprInfo()"
   ]
  },
  {
   "cell_type": "code",
   "execution_count": null,
   "metadata": {},
   "outputs": [],
   "source": []
  }
 ],
 "metadata": {
  "kernelspec": {
   "display_name": "Python 3",
   "language": "python",
   "name": "python3"
  }
 },
 "nbformat": 4,
 "nbformat_minor": 0
}
