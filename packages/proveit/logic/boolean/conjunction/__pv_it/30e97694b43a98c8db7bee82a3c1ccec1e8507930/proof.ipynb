{
 "cells": [
  {
   "cell_type": "markdown",
   "metadata": {},
   "source": [
    "Show the Proof\n",
    "========"
   ]
  },
  {
   "cell_type": "code",
   "execution_count": 1,
   "metadata": {},
   "outputs": [
    {
     "data": {
      "text/html": [
       "<table><tr><th>&nbsp;</th><th>step type</th><th>requirements</th><th>statement</th></tr>\n",
       "<tr><td>0</td><td>assumption</td><td></td><td><span style=\"font-size:20px;\"><a class=\"ProveItLink\" href=\"../2d214310f3dd497bd1d0dee896804f88374bfb620/expr.ipynb\"><img src=\"data:image/png;base64,iVBORw0KGgoAAAANSUhEUgAAAMEAAAAVBAMAAAANw5eWAAAAMFBMVEX///9ERETc3NyqqqpUVFS6\n",
       "urrMzMwyMjIQEBCIiIh2dnYiIiLu7u5mZmaYmJgAAABJJ2g3AAAAAXRSTlMAQObYZgAAAmpJREFU\n",
       "SMe1lTFs01AQhi9O4tSOnTIg2gUlEnOlsLAhOrhEDKgZGUCkUoZuNRIbFIIQsFRVB5ZOjcSCWMiA\n",
       "UIuQyMDCFmBgQICRWBASoVVKRFVa7u75Je8sxvpJjuPv/efz/b73DAClz5DSsJ9U6OS9gNSGfZd+\n",
       "nV/xVScx/e0wCKbqCfjm+KdoRhBnfhDUTiRkDzG2NgT4QBduS8FCnMnqatkdAH9XMncV4MqqZJMh\n",
       "wLlqIhbvDqcBHpsZfuzHmXq6xD94DATzbuAt3B2pW2rjk+xLlsdY8GUG66wKhIWXunwEpT3BCisU\n",
       "3ZK6jbp6GpO5v8lRmcFxlCEwtx6rMjhRXBHsC5lh9aSuTGwgGVrugiUzXM4eKCPCovZ3FqxrXZNZ\n",
       "Q75qSN02aDeN2GPwk86cwQ95sh4X6kZ+Nfb3wvrHSDD/YNwtIx3HKTfHsVev19j0Pv0sckPmwfrL\n",
       "c0WwwtjfCnjPBCvujDOMdA5ZntuVsU8bEOpX37zPqBkE2/znO8B5pZqmLJHJJrmhPanLEJxoydjb\n",
       "AG0gN6fwBpfYVizkAc9hNzSViqztt002wRnOSB1ajrpIxuLTVrw1rIric1ROFo9NmspiWQXeTWwy\n",
       "fb5qshx3fU/qltbU4jQZLwe3G78Hl3aLU6oypcj29HJQzTNitg40dRvoQeamZLwcZsDoVo/qKFPo\n",
       "AqGOXg6LHDlm/Srk34FkuBzs5QSjHch+bmSwpocV+HpIujlCtG78Mm5ot9Q60gzs2sX3IJj3Fve4\n",
       "kw2pe42xwasOJPYlNeLWhSNi/8lwxIMzlNLMwN8HbyvFb9w9PpUepfqd/gf0Y8GHWbh5tAAAAABJ\n",
       "RU5ErkJggg==\n",
       "\" style=\"display:inline;vertical-align:middle;\" /></a> <a class=\"ProveItLink\" href=\"proof.ipynb\" style=\"text-decoration: none\">&#x22A2;&nbsp;</a><a class=\"ProveItLink\" href=\"../1a27c112d3464a260e006cec570f79882f78d7300/expr.ipynb\"><img src=\"data:image/png;base64,iVBORw0KGgoAAAANSUhEUgAAAK8AAAAPBAMAAABgoIKoAAAAMFBMVEX///92dnYQEBBERERUVFS6\n",
       "urqIiIhmZmaqqqrc3Nzu7u6YmJgyMjIiIiLMzMwAAACFkkdwAAAAAXRSTlMAQObYZgAAAhNJREFU\n",
       "OMutlM9LG0EUx79qEpOsbsSjHiI9FxI8SksCLngqCR7q0YClPUb0YKHQ5OaxQg+VEsheqpdY8h8o\n",
       "tqUIhQSPetCDx4qRpEVNTPrezGQ3L+cuzOzu5/3YN995OwBf15CXlWk5iz+GYHRt6V1kXaBXPcf5\n",
       "dindQhTr1I70S83Az33raBIoZCWbriK4UZWsA4TvhmJjlDSc1AVeuJr97BtvcjTSglXOaIrvCGbf\n",
       "0lRwZewqxUKvbLeg/e3n5gPIEzicEuyY78vSL/THFDEYGydtooohl9erDrzMGeM8jVN3kI2rFX+S\n",
       "fmMNmsppGUu6TkFVGnQ/aOkqqBtjCygtCFZW2/FV+sVYSi2ZH9uEpdPhi1kNZvHWaNd6/eYcghWq\n",
       "/sZ7fipOS+axYMepaWWRRVlrXUfJaHcPHKQFu9jxE3t+eW61TFawkS4mTHmOk1HdYeUQ0E05NkfJ\n",
       "24L1lMGVfimenkg20cAIbFU7ta0ScNKFrcuM0c26FSzBU/hS+jU5ZXsoNokI9vipSHiOH7ZpnGjt\n",
       "SNDAnWAZLnYcgtl/zb80GKvaeIZGpKjKN4Ztr411G3jspu8/wEJdmp65MpbbWP35Fdb0gb/Pn57s\n",
       "t7H91BXMogWsqA30Gbfx73XJ1PFwTck/Jk5gpTpkDvDuhriwTTpbfqn28hmuvm8VIdh+io6q95JF\n",
       "Fyn2xaM4loKm9/4P+wd88a4pVNlNhQAAAABJRU5ErkJggg==\n",
       "\" style=\"display:inline;vertical-align:middle;\" /></a></span></td></tr>\n",
       "</table>"
      ],
      "text/plain": [
       "<proveit._core_.proof._ShowProof at 0x7f94ead58a20>"
      ]
     },
     "execution_count": 1,
     "metadata": {},
     "output_type": "execute_result"
    }
   ],
   "source": [
    "import proveit\n",
    "%show_proof"
   ]
  },
  {
   "cell_type": "code",
   "execution_count": null,
   "metadata": {},
   "outputs": [],
   "source": []
  }
 ],
 "metadata": {
  "kernelspec": {
   "display_name": "Python 3",
   "language": "python",
   "name": "python3"
  }
 },
 "nbformat": 4,
 "nbformat_minor": 0
}
