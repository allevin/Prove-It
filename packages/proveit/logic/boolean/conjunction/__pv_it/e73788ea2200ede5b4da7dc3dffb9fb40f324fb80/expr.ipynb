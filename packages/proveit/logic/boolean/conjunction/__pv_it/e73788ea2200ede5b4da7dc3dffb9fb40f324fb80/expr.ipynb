{
 "cells": [
  {
   "cell_type": "markdown",
   "metadata": {},
   "source": [
    "Expression of type <a class=\"ProveItLink\" href=\"../../../../../../../doc/html/api/proveit.logic.Or.html\">Or</a>\n",
    "=======================\n",
    "# from context <a class=\"ProveItLink\" href=\"../../_context_.ipynb\">proveit.logic.boolean.conjunction</a>"
   ]
  },
  {
   "cell_type": "code",
   "execution_count": 1,
   "metadata": {},
   "outputs": [],
   "source": [
    "# import Expression classes needed to build the expression\n",
    "from proveit import Variable\n",
    "from proveit._common_ import A, B\n",
    "from proveit.logic import Or"
   ]
  },
  {
   "cell_type": "code",
   "execution_count": 2,
   "metadata": {},
   "outputs": [
    {
     "data": {
      "text/html": [
       "<strong id=\"expr\">expr:</strong> <a class=\"ProveItLink\" href=\"expr.ipynb\"><img src=\"data:image/png;base64,iVBORw0KGgoAAAANSUhEUgAAAHQAAAAPBAMAAADHUfYWAAAAMFBMVEX///92dnYQEBBERERUVFS6\n",
       "urqIiIhmZmaqqqrc3Nzu7u6YmJgyMjIiIiLMzMwAAACFkkdwAAAAAXRSTlMAQObYZgAAAWNJREFU\n",
       "KM9jYACBtwyoYMt/FxebAAZiwHkQwQpmPgCTygwM7F/RxLAC7vsLgCQLSAVbAkiA7xsQf0EVww5m\n",
       "1E8AqTcAErwgQxjYfgLN+4gqhh0k5IP9dRKI28ECzApADVqoYlgB64L+DQxQJSfBIvwODJyHF6CK\n",
       "QcDElBnpSO5fyvAezAM6DOxABob3bmm1YNOQxMCAS4D7NtMFBD+AYX4BAyQ4WCAxkj+BgesKA6oY\n",
       "GDAysH3gQAQ4n4uLP8TgCwxrIEJGIO0bUMUgtjKwGCB7lYGB6QCYVcEgDRECxct+AVQxKGBCjqkG\n",
       "oI8UwKw5DBBv8P0GEv4NKGIwMP8BAzyuOIFKeD6AmSyvIUaCopXzDwOKGDTxTMhnYINrBXmF+RfE\n",
       "NtsF8Gh9dIoBRQwC+jcYMUyDcSbrn2Tgtv8DDmKG42CS3f6Li89pmAKIGIcxEFgxLE5cKLYBxkEB\n",
       "r7AkmFe4UhIAgN5cvbH1UB8AAAAASUVORK5CYII=\n",
       "\" style=\"display:inline;vertical-align:middle;\" /></a><br>"
      ],
      "text/plain": [
       "expr: A or B or _x_"
      ]
     },
     "execution_count": 2,
     "metadata": {},
     "output_type": "execute_result"
    }
   ],
   "source": [
    "# build up the expression from sub-expressions\n",
    "expr = Or(A, B, Variable(\"_x_\", latexFormat = r\"{_{-}x_{-}}\"))"
   ]
  },
  {
   "cell_type": "code",
   "execution_count": 3,
   "metadata": {},
   "outputs": [
    {
     "name": "stdout",
     "output_type": "stream",
     "text": [
      "Passed sanity check: built 'expr' is the same as the stored Expression.\n"
     ]
    }
   ],
   "source": [
    "# check that the built expression is the same as the stored expression\n",
    "%check_expr"
   ]
  },
  {
   "cell_type": "code",
   "execution_count": 4,
   "metadata": {},
   "outputs": [
    {
     "data": {
      "text/html": [
       "<table><tr><th>&nbsp;</th><th>core type</th><th>sub-expressions</th><th>expression</th></tr>\n",
       "<tr><td>0</td><td>Operation</td><td>operator:&nbsp;1<br>operands:&nbsp;2<br></td><td><a class=\"ProveItLink\" href=\"expr.ipynb\"><img src=\"data:image/png;base64,iVBORw0KGgoAAAANSUhEUgAAAHQAAAAPBAMAAADHUfYWAAAAMFBMVEX///92dnYQEBBERERUVFS6\n",
       "urqIiIhmZmaqqqrc3Nzu7u6YmJgyMjIiIiLMzMwAAACFkkdwAAAAAXRSTlMAQObYZgAAAWNJREFU\n",
       "KM9jYACBtwyoYMt/FxebAAZiwHkQwQpmPgCTygwM7F/RxLAC7vsLgCQLSAVbAkiA7xsQf0EVww5m\n",
       "1E8AqTcAErwgQxjYfgLN+4gqhh0k5IP9dRKI28ECzApADVqoYlgB64L+DQxQJSfBIvwODJyHF6CK\n",
       "QcDElBnpSO5fyvAezAM6DOxABob3bmm1YNOQxMCAS4D7NtMFBD+AYX4BAyQ4WCAxkj+BgesKA6oY\n",
       "GDAysH3gQAQ4n4uLP8TgCwxrIEJGIO0bUMUgtjKwGCB7lYGB6QCYVcEgDRECxct+AVQxKGBCjqkG\n",
       "oI8UwKw5DBBv8P0GEv4NKGIwMP8BAzyuOIFKeD6AmSyvIUaCopXzDwOKGDTxTMhnYINrBXmF+RfE\n",
       "NtsF8Gh9dIoBRQwC+jcYMUyDcSbrn2Tgtv8DDmKG42CS3f6Li89pmAKIGIcxEFgxLE5cKLYBxkEB\n",
       "r7AkmFe4UhIAgN5cvbH1UB8AAAAASUVORK5CYII=\n",
       "\" style=\"display:inline;vertical-align:middle;\" /></a></td></tr>\n",
       "<tr><td>1</td><td>Literal</td><td></td><td><a class=\"ProveItLink\" href=\"../../../disjunction/__pv_it/087d0b4ded7c7e5bf3bba05ecb616d7a8051ff650/expr.ipynb\"><img src=\"data:image/png;base64,iVBORw0KGgoAAAANSUhEUgAAAAwAAAAOBAMAAADpk+DfAAAALVBMVEX///+YmJh2dnZmZmaqqqrc\n",
       "3NwyMjLu7u4iIiJERESIiIhUVFTMzMy6uroAAAD0I/TTAAAAAXRSTlMAQObYZgAAAEtJREFUCNdj\n",
       "uMAABDwMe0DUKoaTIKqdgS2AgYHFAITAzHYGsMQqBoa9QIqDgT0BSDE7MAkAKdYEDpAehj1SYOpk\n",
       "O5hiMwBTPAUMDAB33Atnw8aG2QAAAABJRU5ErkJggg==\n",
       "\" style=\"display:inline;vertical-align:middle;\" /></a></td></tr>\n",
       "<tr><td>2</td><td>ExprTuple</td><td>3, 4, 5</td><td><a class=\"ProveItLink\" href=\"../719f441dab0d57d8924ba0a5814fc5f0640fdfb40/expr.ipynb\"><img src=\"data:image/png;base64,iVBORw0KGgoAAAANSUhEUgAAAGcAAAAVBAMAAACphe0AAAAAMFBMVEX////c3NwiIiJERESqqqqY\n",
       "mJh2dnZmZmYQEBDu7u4yMjJUVFTMzMyIiIi6uroAAAAs73DqAAAAAXRSTlMAQObYZgAAAYtJREFU\n",
       "OMtjYCAL8F0gTX0ciDgNYR+CCbLu/7178zrcmtgPAImVEPZ6uCiHAQND/QPcuhYwMPBCXMeqPwEm\n",
       "eB4ocn4Dbk1hQHMhikXqBWCC94Gs+ATcmmYwMLyCsC7chzvIAog1JuDWxOzAUAYJwgn+ATDB3wwM\n",
       "UpYoyhhzN/rWwnlsBQxLwYx5YJ+AAc/vu9dVUc2exhAU0ATnsSxg6AMzHjDIF0DFeD8yMExCDYcE\n",
       "hvsMPoiIbWD4BzZ99+79BjAnNwA1fkXRNIFhMxKP5wNEEx8wFBdAxfiBtrB+Q/N8L6qmFhDtwMDA\n",
       "1ACLJmCIcH9B1cP4h4ET2XmmIDGgJq4PIGdAo0l+AZQDAYG8HxhuwnmsCxjSgdQskFd+MnB+gkYT\n",
       "T9cEKAcSXF+ZGxgvIAf5IwYG4f6FDKz2vwo4+4GWFP/fvXsV0IVgjrMxEEzgtM1MuwrjAN30gIFD\n",
       "ACmXCDDg4KAlI1akVMaKLMeKKxnlIrIG0Zo4QXEjjeCj5GFcGZob5GxGErP7HQYGAOGuYhHezw2n\n",
       "AAAAAElFTkSuQmCC\n",
       "\" style=\"display:inline;vertical-align:middle;\" /></a></td></tr>\n",
       "<tr><td>3</td><td>Variable</td><td></td><td><a class=\"ProveItLink\" href=\"../../../../../__pv_it/2cbe72a7ad6f655694dd697106680215e8489b600/expr.ipynb\"><img src=\"data:image/png;base64,iVBORw0KGgoAAAANSUhEUgAAAA8AAAAOBAMAAAACpFvcAAAALVBMVEX///8QEBBERERUVFS6urqI\n",
       "iIhmZmaqqqrc3Nzu7u6YmJgyMjIiIiLMzMwAAADtIaYWAAAAAXRSTlMAQObYZgAAAFtJREFUCNdj\n",
       "YACBOwxQsA9Kc52bAGG05zVAGAFxDmCaZULdAjBjCsO9ADDDgaEvAUTzGhvbKYCVMDAwbgAxChgY\n",
       "eASANAeQwf0AyJgNxEwvGRia5HYwcOm9TgAA6BoR3jrzwFcAAAAASUVORK5CYII=\n",
       "\" style=\"display:inline;vertical-align:middle;\" /></a></td></tr>\n",
       "<tr><td>4</td><td>Variable</td><td></td><td><a class=\"ProveItLink\" href=\"../../../../../__pv_it/077b2ff79244fb4582cbe22c6e3356fa92a52f2f0/expr.ipynb\"><img src=\"data:image/png;base64,iVBORw0KGgoAAAANSUhEUgAAABAAAAAOBAMAAADUAYG5AAAAMFBMVEX///+qqqru7u4iIiJ2dnbc\n",
       "3NyIiIjMzMxmZmYQEBC6uroyMjJERERUVFSYmJgAAADLUcuvAAAAAXRSTlMAQObYZgAAAGpJREFU\n",
       "CNdjYGB4+//u3dMLGIBgDgMDxy8gzf4NiP8CGWxfGRj4vgAZPBMYGJgnARn8FxhY9ygAGfXX0pof\n",
       "gDTlBzAw2YIYJ0EckBBI53sHoBH/gIz7AhBjWH9DjancBLTl/N+7t/cxMAAA3u4f/5xagjYAAAAA\n",
       "SUVORK5CYII=\n",
       "\" style=\"display:inline;vertical-align:middle;\" /></a></td></tr>\n",
       "<tr><td>5</td><td>Variable</td><td></td><td><a class=\"ProveItLink\" href=\"../5144cf74ae6a683b49b974f1b9302b432abf7e930/expr.ipynb\"><img src=\"data:image/png;base64,iVBORw0KGgoAAAANSUhEUgAAACUAAAAJBAMAAABH3vh9AAAAKlBMVEX////MzMwQEBAiIiKYmJhm\n",
       "ZmZUVFSIiIh2dnbc3Nzu7u5ERESqqqoAAABwkVEpAAAAAXRSTlMAQObYZgAAAEtJREFUCNdjYIAA\n",
       "zvbM4+EMqGAFg7ODMppYA0Mtw0E0sQUM2QyYQB1TiPMiAxeakCf7BYYqVCGeK9wKnAUw3undQLCA\n",
       "a3tXRwmMAwC3+RVNp6j0GAAAAABJRU5ErkJggg==\n",
       "\" style=\"display:inline;vertical-align:middle;\" /></a></td></tr>\n",
       "</table>\n"
      ],
      "text/plain": [
       "0. A or B or _x_\n",
       "   core type: Operation\n",
       "   operator: 1\n",
       "   operands: 2\n",
       "1. or\n",
       "   core type: Literal\n",
       "   sub-expressions: \n",
       "2. (A , B , _x_)\n",
       "   core type: ExprTuple\n",
       "   sub-expressions: 3, 4, 5\n",
       "3. A\n",
       "   core type: Variable\n",
       "   sub-expressions: \n",
       "4. B\n",
       "   core type: Variable\n",
       "   sub-expressions: \n",
       "5. _x_\n",
       "   core type: Variable\n",
       "   sub-expressions: "
      ]
     },
     "execution_count": 4,
     "metadata": {},
     "output_type": "execute_result"
    }
   ],
   "source": [
    "# display the expression information\n",
    "expr.exprInfo()"
   ]
  },
  {
   "cell_type": "code",
   "execution_count": null,
   "metadata": {},
   "outputs": [],
   "source": []
  }
 ],
 "metadata": {
  "kernelspec": {
   "display_name": "Python 3",
   "language": "python",
   "name": "python3"
  }
 },
 "nbformat": 4,
 "nbformat_minor": 0
}
