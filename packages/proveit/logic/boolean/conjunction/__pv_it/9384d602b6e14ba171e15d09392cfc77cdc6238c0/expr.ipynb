{
 "cells": [
  {
   "cell_type": "markdown",
   "metadata": {},
   "source": [
    "Expression of type <a class=\"ProveItLink\" href=\"../../../../../../../doc/html/api/proveit.logic.Equals.html\">Equals</a>\n",
    "=======================\n",
    "# from context <a class=\"ProveItLink\" href=\"../../_context_.ipynb\">proveit.logic.boolean.conjunction</a>"
   ]
  },
  {
   "cell_type": "code",
   "execution_count": 1,
   "metadata": {},
   "outputs": [],
   "source": [
    "# import Expression classes needed to build the expression\n",
    "from proveit.logic import And, Equals, TRUE\n",
    "from proveit.logic.boolean.negation._theorems_ import notFalse"
   ]
  },
  {
   "cell_type": "code",
   "execution_count": 2,
   "metadata": {},
   "outputs": [
    {
     "data": {
      "text/html": [
       "<strong id=\"expr\">expr:</strong> <a class=\"ProveItLink\" href=\"expr.ipynb\"><img src=\"data:image/png;base64,iVBORw0KGgoAAAANSUhEUgAAALYAAAAVBAMAAAAZVgl3AAAAMFBMVEX////c3NwiIiJERESqqqqY\n",
       "mJh2dnZmZmYQEBDu7u4yMjJUVFTMzMyIiIi6uroAAAAs73DqAAAAAXRSTlMAQObYZgAAAblJREFU\n",
       "OMu1lD1LA0EQhicxn5fLkVZtQqzSiWhvF7CyshCUNJJKOERSiEUQa7kypIpFkCiI9iIHAS0svB9g\n",
       "IFhJQPAXiHez97GT24FtHMjs7ruzT5bbmQH4T7M8TT0/Uwce8uw3gJNGYGspPbYM/s85DYhOFd1F\n",
       "ZMwb4/I1xjjhZCwFm3bgjXC1HOvi1FBxY9ypepRt2GKseil2vi1WNwvsPY5dcih70hRjyUmxyz2x\n",
       "2HAou8+x50DZz1MxziHFhk30lW+Pspe2GXaXssvDrJh0FewO+gHUKbtgM+wRZRd2i+IWIwV7B/0R\n",
       "nFJ2Dh/z7DawO3nnirKzkBHP7utFTKV2wv5CX4cVyrZ6zL1/KfsA4AkkHcyHhP2O2eJBxSVs80eP\n",
       "3YyKhmVnHaFpsC8JO+dDjJqkEzZ+k5b/u1Z8E1rcuLNF2AE3Z0s6Ye9DyG0Rdn7I3LtD2BPxWIkO\n",
       "4NIcNNfxxbVy8FPMX8LKCdxU0kGky0Wj4TPvg8qZSQ1BnDIUDRJ3SjVZwigrrUNc81YSF1mfa7FR\n",
       "A9LQC0ynP2b791hbH6gDy0OWvaqtP6oDKzWWnfE09aqrDvzgyH8zpH2iGjJN5AAAAABJRU5ErkJg\n",
       "gg==\n",
       "\" style=\"display:inline;vertical-align:middle;\" /></a><br>"
      ],
      "text/plain": [
       "expr: (TRUE and [not](FALSE) and TRUE) = TRUE"
      ]
     },
     "execution_count": 2,
     "metadata": {},
     "output_type": "execute_result"
    }
   ],
   "source": [
    "# build up the expression from sub-expressions\n",
    "expr = Equals(And(TRUE, notFalse.expr, TRUE), TRUE)"
   ]
  },
  {
   "cell_type": "code",
   "execution_count": 3,
   "metadata": {},
   "outputs": [
    {
     "name": "stdout",
     "output_type": "stream",
     "text": [
      "Passed sanity check: built 'expr' is the same as the stored Expression.\n"
     ]
    }
   ],
   "source": [
    "# check that the built expression is the same as the stored expression\n",
    "%check_expr"
   ]
  },
  {
   "cell_type": "code",
   "execution_count": 4,
   "metadata": {},
   "outputs": [
    {
     "data": {
      "text/html": [
       "<table><tr><th>&nbsp;</th><th>core type</th><th>sub-expressions</th><th>expression</th></tr>\n",
       "<tr><td>0</td><td>Operation</td><td>operator:&nbsp;1<br>operands:&nbsp;2<br></td><td><a class=\"ProveItLink\" href=\"expr.ipynb\"><img src=\"data:image/png;base64,iVBORw0KGgoAAAANSUhEUgAAALYAAAAVBAMAAAAZVgl3AAAAMFBMVEX////c3NwiIiJERESqqqqY\n",
       "mJh2dnZmZmYQEBDu7u4yMjJUVFTMzMyIiIi6uroAAAAs73DqAAAAAXRSTlMAQObYZgAAAblJREFU\n",
       "OMu1lD1LA0EQhicxn5fLkVZtQqzSiWhvF7CyshCUNJJKOERSiEUQa7kypIpFkCiI9iIHAS0svB9g\n",
       "IFhJQPAXiHez97GT24FtHMjs7ruzT5bbmQH4T7M8TT0/Uwce8uw3gJNGYGspPbYM/s85DYhOFd1F\n",
       "ZMwb4/I1xjjhZCwFm3bgjXC1HOvi1FBxY9ypepRt2GKseil2vi1WNwvsPY5dcih70hRjyUmxyz2x\n",
       "2HAou8+x50DZz1MxziHFhk30lW+Pspe2GXaXssvDrJh0FewO+gHUKbtgM+wRZRd2i+IWIwV7B/0R\n",
       "nFJ2Dh/z7DawO3nnirKzkBHP7utFTKV2wv5CX4cVyrZ6zL1/KfsA4AkkHcyHhP2O2eJBxSVs80eP\n",
       "3YyKhmVnHaFpsC8JO+dDjJqkEzZ+k5b/u1Z8E1rcuLNF2AE3Z0s6Ye9DyG0Rdn7I3LtD2BPxWIkO\n",
       "4NIcNNfxxbVy8FPMX8LKCdxU0kGky0Wj4TPvg8qZSQ1BnDIUDRJ3SjVZwigrrUNc81YSF1mfa7FR\n",
       "A9LQC0ynP2b791hbH6gDy0OWvaqtP6oDKzWWnfE09aqrDvzgyH8zpH2iGjJN5AAAAABJRU5ErkJg\n",
       "gg==\n",
       "\" style=\"display:inline;vertical-align:middle;\" /></a></td></tr>\n",
       "<tr><td>1</td><td>Literal</td><td></td><td><a class=\"ProveItLink\" href=\"../../../../equality/__pv_it/2fb26078095930560931daa0500ce419a39ea6cd0/expr.ipynb\"><img src=\"data:image/png;base64,iVBORw0KGgoAAAANSUhEUgAAAA4AAAAFBAMAAACHocAhAAAAFVBMVEX///9EREQiIiJUVFQyMjJm\n",
       "ZmYAAADubVkoAAAAAXRSTlMAQObYZgAAABRJREFUCNdjCHEBAWcGXCBICQQUAUpuAwlgGKrkAAAA\n",
       "AElFTkSuQmCC\n",
       "\" style=\"display:inline;vertical-align:middle;\" /></a></td></tr>\n",
       "<tr><td>2</td><td>ExprTuple</td><td>3, 7</td><td><a class=\"ProveItLink\" href=\"../f2a298863382da69f4be448af91e9f51a7caee930/expr.ipynb\"><img src=\"data:image/png;base64,iVBORw0KGgoAAAANSUhEUgAAAKIAAAAVBAMAAAA3EyjlAAAAMFBMVEX////c3NwiIiJERESqqqqY\n",
       "mJh2dnZmZmYQEBDu7u4yMjJUVFTMzMyIiIi6uroAAAAs73DqAAAAAXRSTlMAQObYZgAAAdJJREFU\n",
       "OMtjYKA+4LuAXfwtukAcEYaxPgASpxnYlcDAAEWOZwMSRxZEsB9AUYCiC86pAXJWgvUXwBQyToDQ\n",
       "XBOQdB8HkwugPEm4rQXITgBzuBgYeC+gynFBWXcZMEwMg/KW4zGRNYGBYwKq3GFNCN2JaeIMqFaj\n",
       "CbhN5GxgeIUmtw/iOL4FmCYyO4Ap7rcXcJvIYMJQhirHuYAJEtQJmCayQRTNYlDAY2I6w1JUObYA\n",
       "drBLuAIwTWSBuDuVoQSPiV4MfahyTAyMYH0cwIRVBEoQaggT+RrAlAKDFB4TXzD8Q5WLZWDYA6L5\n",
       "H0AFTiNM5PkAjs0LDNwHcJt4Ht1ETagZuE1kmgBP/dhNbEGRYwHSXAIgXztgmgjxtTsQL8Tna1MU\n",
       "OZBpIFMZmAMwTWQFh/BCqKlwXRNQTIwCxjayiYchQQ9PKUAZtNTDYwCOP4Quzk9oqecRhAtNfvtg\n",
       "GZBPAe4dYJRrKCkpAz0ACltuEAHJuhBdnP0CyEasY+AQQE544PjgAxGNmEXVDLgkwwPk4hDZBGAu\n",
       "ZE3AXtKFYQrl4igTkTlsF6ClGSZAKc2gGZQIE2cBsTR2dYwb0EW4BbCrRKkDNoK04qgVZNEF7hBR\n",
       "K/AeYAAArzNwBKw4mTQAAAAASUVORK5CYII=\n",
       "\" style=\"display:inline;vertical-align:middle;\" /></a></td></tr>\n",
       "<tr><td>3</td><td>Operation</td><td>operator:&nbsp;4<br>operands:&nbsp;5<br></td><td><a class=\"ProveItLink\" href=\"../da368dbb14883d6a67aa45f4ed7bf0f2f7cbc7e50/expr.ipynb\"><img src=\"data:image/png;base64,iVBORw0KGgoAAAANSUhEUgAAAHsAAAAVBAMAAACUF4xmAAAAMFBMVEX///8QEBCqqqqYmJiIiIi6\n",
       "urpUVFQyMjLu7u7c3Nx2dnbMzMxEREQiIiJmZmYAAABKII+GAAAAAXRSTlMAQObYZgAAAUtJREFU\n",
       "OMtjYKAFCEEXMMWh8O1dELiDKsidgMSZAiL4NqAo4APrunsAxN4HF50BpdkbkJRCpAsgHE64DPcD\n",
       "FHkQqIPSLgwY2q2gBj/ArZ37LNRsCUztjRDOnhu4tbOFOIBp1gJM7TwKYCrVBbf2doYLkIBZgKmd\n",
       "C6yao4AXt/bFDI8gHjTA1M4EdhGXAZ8CTu0XGKaDacYAaITeQkizCoBIXgbOAlzamR0Y2MDRyx8A\n",
       "FdmGkOb+ACJNGBiycWnnbYCmF9zab0DFsGnXA+JKsOMVMLWDHc8E1MI+AYf2SqgRDDwGmNqZQX4G\n",
       "aWV6gF079wFw2MAjCSSEFnF7IAGMqn0XNNGAfMwCSjisF5Bz1EVwjmIHyaYipWjuBajZjBVMgkNN\n",
       "EjNnNsIlWQlmdytMoSUklBYoGZYBklpJ0M6ZgC7CNoGUwmoKuoA3dnUAahhkIDO7BVoAAAAASUVO\n",
       "RK5CYII=\n",
       "\" style=\"display:inline;vertical-align:middle;\" /></a></td></tr>\n",
       "<tr><td>4</td><td>Literal</td><td></td><td><a class=\"ProveItLink\" href=\"../76b5f4f4c45c0b6a9b59b297fc07dfa9555698f50/expr.ipynb\"><img src=\"data:image/png;base64,iVBORw0KGgoAAAANSUhEUgAAAAwAAAAOBAMAAADpk+DfAAAALVBMVEX///+qqqqYmJh2dnaIiIi6\n",
       "urpUVFQiIiJERETMzMxmZmYyMjLu7u7c3NwAAABvwqPxAAAAAXRSTlMAQObYZgAAAEtJREFUCNdj\n",
       "YGDgPcAAAtwLwNSMGjCV6gIieTawgyhmBS4BIMXOwLsBSKkwMGQCKaC6aQwMjEBd3BdACMScAVJd\n",
       "wJAKolwYAkAUKwAk0guX6efcigAAAABJRU5ErkJggg==\n",
       "\" style=\"display:inline;vertical-align:middle;\" /></a></td></tr>\n",
       "<tr><td>5</td><td>ExprTuple</td><td>7, 6, 7</td><td><a class=\"ProveItLink\" href=\"../a2a6d0836d14ac72e07c9369691bd983da4cbd840/expr.ipynb\"><img src=\"data:image/png;base64,iVBORw0KGgoAAAANSUhEUgAAAF0AAAAVBAMAAADWVP/xAAAAMFBMVEX////c3NwiIiJERESqqqqY\n",
       "mJh2dnZmZmYQEBDu7u4yMjJUVFTMzMyIiIi6uroAAAAs73DqAAAAAXRSTlMAQObYZgAAANpJREFU\n",
       "KM9jYCAV8F0gWmkciDjNwK4EBgZosoxwg4rA8soM7AeAnJUgEZ4CTNNQxI6DyQUMDLwXSFAfxsDA\n",
       "MYEE9TMYGF4xkKCe2YGhjBT1bAUMS0lRz7KAoQ9NDhK4CdjV8zUw/MNmPs8G7Op5PpCsvoUU9UD3\n",
       "mCKpn4BF/QRk9awLGNIR6jk/wY07gC4GD89HEPWgAOHsF2BADqYmYBqEiR0Dk1wPGDgEkJK2AJbk\n",
       "jiwGTA+sCQguK5Y0jyKWC0vPxKnnBKZnBmkEH1tOQxbjFkDJRgTBHQYGAOMwPewL5nj5AAAAAElF\n",
       "TkSuQmCC\n",
       "\" style=\"display:inline;vertical-align:middle;\" /></a></td></tr>\n",
       "<tr><td>6</td><td>Operation</td><td>operator:&nbsp;8<br>operand:&nbsp;9<br></td><td><a class=\"ProveItLink\" href=\"../../../negation/__pv_it/01165fd25131c0df966b8e8c1626e275fd04f3050/expr.ipynb\"><img src=\"data:image/png;base64,iVBORw0KGgoAAAANSUhEUgAAABwAAAAOBAMAAADOPWE3AAAAIVBMVEX///9EREQQEBCIiIjc3NxU\n",
       "VFTMzMx2dnYiIiJmZmYAAADo3DW1AAAAAXRSTlMAQObYZgAAACVJREFUCNdjYIADZwYUkEll7owO\n",
       "IGhHlU2lgMuGbhHQgqaOjkYA4xoNxELsxwMAAAAASUVORK5CYII=\n",
       "\" style=\"display:inline;vertical-align:middle;\" /></a></td></tr>\n",
       "<tr><td>7</td><td>Literal</td><td></td><td><a class=\"ProveItLink\" href=\"../../../__pv_it/68a87cc3370287d726c7086ace789e680e4461c30/expr.ipynb\"><img src=\"data:image/png;base64,iVBORw0KGgoAAAANSUhEUgAAAA4AAAAOBAMAAADtZjDiAAAAFVBMVEX///92dnbMzMxEREQiIiJm\n",
       "ZmYAAABAT6GXAAAAAXRSTlMAQObYZgAAABhJREFUCNdjCHEBAWcGIFBlgABa0YpADAAxegPJJk4d\n",
       "XAAAAABJRU5ErkJggg==\n",
       "\" style=\"display:inline;vertical-align:middle;\" /></a></td></tr>\n",
       "<tr><td>8</td><td>Literal</td><td></td><td><a class=\"ProveItLink\" href=\"../../../negation/__pv_it/7bea79645543c2413aa17e787cca04e21046fde60/expr.ipynb\"><img src=\"data:image/png;base64,iVBORw0KGgoAAAANSUhEUgAAAAwAAAAGBAMAAAAFwGKyAAAAFVBMVEX///9UVFTMzMx2dnYiIiJm\n",
       "ZmYAAACWz4ZEAAAAAXRSTlMAQObYZgAAABRJREFUCNdjCHEBAmcGMFDEQzEBAEl+Ai6uYJv/AAAA\n",
       "AElFTkSuQmCC\n",
       "\" style=\"display:inline;vertical-align:middle;\" /></a></td></tr>\n",
       "<tr><td>9</td><td>Literal</td><td></td><td><a class=\"ProveItLink\" href=\"../../../__pv_it/8f1f7fac882de28c72b62ab80a1700b6d8fd066b0/expr.ipynb\"><img src=\"data:image/png;base64,iVBORw0KGgoAAAANSUhEUgAAAA4AAAAOBAMAAADtZjDiAAAAG1BMVEX///9EREQQEBAiIiJmZmbM\n",
       "zMyIiIjc3NwAAACryk5kAAAAAXRSTlMAQObYZgAAABlJREFUCNdjYGBgKGOAgBBa0s7GxkbGxoYA\n",
       "FMUF2aBfHgoAAAAASUVORK5CYII=\n",
       "\" style=\"display:inline;vertical-align:middle;\" /></a></td></tr>\n",
       "</table>\n"
      ],
      "text/plain": [
       "0. (TRUE and [not](FALSE) and TRUE) = TRUE\n",
       "   core type: Operation\n",
       "   operator: 1\n",
       "   operands: 2\n",
       "1. =\n",
       "   core type: Literal\n",
       "   sub-expressions: \n",
       "2. (TRUE and [not](FALSE) and TRUE , TRUE)\n",
       "   core type: ExprTuple\n",
       "   sub-expressions: 3, 7\n",
       "3. TRUE and [not](FALSE) and TRUE\n",
       "   core type: Operation\n",
       "   operator: 4\n",
       "   operands: 5\n",
       "4. and\n",
       "   core type: Literal\n",
       "   sub-expressions: \n",
       "5. (TRUE , [not](FALSE) , TRUE)\n",
       "   core type: ExprTuple\n",
       "   sub-expressions: 7, 6, 7\n",
       "6. [not](FALSE)\n",
       "   core type: Operation\n",
       "   operator: 8\n",
       "   operand: 9\n",
       "7. TRUE\n",
       "   core type: Literal\n",
       "   sub-expressions: \n",
       "8. not\n",
       "   core type: Literal\n",
       "   sub-expressions: \n",
       "9. FALSE\n",
       "   core type: Literal\n",
       "   sub-expressions: "
      ]
     },
     "execution_count": 4,
     "metadata": {},
     "output_type": "execute_result"
    }
   ],
   "source": [
    "# display the expression information\n",
    "expr.exprInfo()"
   ]
  },
  {
   "cell_type": "code",
   "execution_count": null,
   "metadata": {},
   "outputs": [],
   "source": []
  }
 ],
 "metadata": {
  "kernelspec": {
   "display_name": "Python 3",
   "language": "python",
   "name": "python3"
  }
 },
 "nbformat": 4,
 "nbformat_minor": 0
}
