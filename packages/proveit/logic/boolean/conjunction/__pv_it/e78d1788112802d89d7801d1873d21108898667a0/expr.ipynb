{
 "cells": [
  {
   "cell_type": "markdown",
   "metadata": {},
   "source": [
    "Expression of type <a class=\"ProveItLink\" href=\"../../../../../../../doc/html/api/proveit.logic.And.html\">And</a>\n",
    "=======================\n",
    "# from context <a class=\"ProveItLink\" href=\"../../_context_.ipynb\">proveit.logic.boolean.conjunction</a>"
   ]
  },
  {
   "cell_type": "code",
   "execution_count": 1,
   "metadata": {},
   "outputs": [],
   "source": [
    "# import Expression classes needed to build the expression\n",
    "from proveit._common_ import C, D, E\n",
    "from proveit.logic import And"
   ]
  },
  {
   "cell_type": "code",
   "execution_count": 2,
   "metadata": {},
   "outputs": [
    {
     "data": {
      "text/html": [
       "<strong id=\"expr\">expr:</strong> <a class=\"ProveItLink\" href=\"expr.ipynb\"><img src=\"data:image/png;base64,iVBORw0KGgoAAAANSUhEUgAAAGEAAAAPBAMAAAAG1ry6AAAAMFBMVEX///8iIiIQEBCYmJjc3Ny6\n",
       "urru7u5mZmZ2dnaqqqrMzMxEREQyMjJUVFSIiIgAAABUCcz6AAAAAXRSTlMAQObYZgAAAZJJREFU\n",
       "KM9dUkFLAkEU/sxddTc1T16D/kD7C2pPdQmMLt3KWxARUoeoi1LgVW9d62yi3YMkhA4R1kGCZNF7\n",
       "VEYEZZq992bWsIF98+1782a++b4B8Dz0vJsTjI14e+B5jdp4MvT0sGtkGPUB60sljbSuTtFqqypw\n",
       "we84dGDuOATsTwpZtTSa0dX1DgX1c61TW0kKBZcZfFCodCRbSupygWiGJGef63OveF5hNNmlkLqT\n",
       "bPNFdzSAHHg/xNbUZmEhviiUmW5FOkK1gO74RtDRZJCQOSU6bMInNJ9jGHHCRSmbfa/hqo4j7Muc\n",
       "dUaivbKy7WWGARhK0UgPUV1OYEnmaXfUcclhRuAc8Kg06yICm1Gwg5iYNZRCWlGm/Lv8k1Jl6LsZ\n",
       "2JZj07DljrMcLG62fyhMiFkWGRB1R3bkGR3TV2fQ5u3D8iB6FC7kNF5tZXw71IOo6y4lUN6340y5\n",
       "W1I3VXbgVBhURRAmTn6sMoGNy4HXOlAaNDmQh6EWPc77N/GPNYyLh+XbvSL+DVHYHEuZfwU9fgEF\n",
       "kG2ofvSH9gAAAABJRU5ErkJggg==\n",
       "\" style=\"display:inline;vertical-align:middle;\" /></a><br>"
      ],
      "text/plain": [
       "expr: D and E and C"
      ]
     },
     "execution_count": 2,
     "metadata": {},
     "output_type": "execute_result"
    }
   ],
   "source": [
    "# build up the expression from sub-expressions\n",
    "expr = And(D, E, C)"
   ]
  },
  {
   "cell_type": "code",
   "execution_count": 3,
   "metadata": {},
   "outputs": [
    {
     "name": "stdout",
     "output_type": "stream",
     "text": [
      "Passed sanity check: built 'expr' is the same as the stored Expression.\n"
     ]
    }
   ],
   "source": [
    "# check that the built expression is the same as the stored expression\n",
    "%check_expr"
   ]
  },
  {
   "cell_type": "code",
   "execution_count": 4,
   "metadata": {},
   "outputs": [
    {
     "data": {
      "text/html": [
       "<table><tr><th>&nbsp;</th><th>core type</th><th>sub-expressions</th><th>expression</th></tr>\n",
       "<tr><td>0</td><td>Operation</td><td>operator:&nbsp;1<br>operands:&nbsp;2<br></td><td><a class=\"ProveItLink\" href=\"expr.ipynb\"><img src=\"data:image/png;base64,iVBORw0KGgoAAAANSUhEUgAAAGEAAAAPBAMAAAAG1ry6AAAAMFBMVEX///8iIiIQEBCYmJjc3Ny6\n",
       "urru7u5mZmZ2dnaqqqrMzMxEREQyMjJUVFSIiIgAAABUCcz6AAAAAXRSTlMAQObYZgAAAZJJREFU\n",
       "KM9dUkFLAkEU/sxddTc1T16D/kD7C2pPdQmMLt3KWxARUoeoi1LgVW9d62yi3YMkhA4R1kGCZNF7\n",
       "VEYEZZq992bWsIF98+1782a++b4B8Dz0vJsTjI14e+B5jdp4MvT0sGtkGPUB60sljbSuTtFqqypw\n",
       "we84dGDuOATsTwpZtTSa0dX1DgX1c61TW0kKBZcZfFCodCRbSupygWiGJGef63OveF5hNNmlkLqT\n",
       "bPNFdzSAHHg/xNbUZmEhviiUmW5FOkK1gO74RtDRZJCQOSU6bMInNJ9jGHHCRSmbfa/hqo4j7Muc\n",
       "dUaivbKy7WWGARhK0UgPUV1OYEnmaXfUcclhRuAc8Kg06yICm1Gwg5iYNZRCWlGm/Lv8k1Jl6LsZ\n",
       "2JZj07DljrMcLG62fyhMiFkWGRB1R3bkGR3TV2fQ5u3D8iB6FC7kNF5tZXw71IOo6y4lUN6340y5\n",
       "W1I3VXbgVBhURRAmTn6sMoGNy4HXOlAaNDmQh6EWPc77N/GPNYyLh+XbvSL+DVHYHEuZfwU9fgEF\n",
       "kG2ofvSH9gAAAABJRU5ErkJggg==\n",
       "\" style=\"display:inline;vertical-align:middle;\" /></a></td></tr>\n",
       "<tr><td>1</td><td>Literal</td><td></td><td><a class=\"ProveItLink\" href=\"../76b5f4f4c45c0b6a9b59b297fc07dfa9555698f50/expr.ipynb\"><img src=\"data:image/png;base64,iVBORw0KGgoAAAANSUhEUgAAAAwAAAAOBAMAAADpk+DfAAAALVBMVEX///+qqqqYmJh2dnaIiIi6\n",
       "urpUVFQiIiJERETMzMxmZmYyMjLu7u7c3NwAAABvwqPxAAAAAXRSTlMAQObYZgAAAEtJREFUCNdj\n",
       "YGDgPcAAAtwLwNSMGjCV6gIieTawgyhmBS4BIMXOwLsBSKkwMGQCKaC6aQwMjEBd3BdACMScAVJd\n",
       "wJAKolwYAkAUKwAk0guX6efcigAAAABJRU5ErkJggg==\n",
       "\" style=\"display:inline;vertical-align:middle;\" /></a></td></tr>\n",
       "<tr><td>2</td><td>ExprTuple</td><td>3, 4, 5</td><td><a class=\"ProveItLink\" href=\"../38fd6c1fd98dcbc636d7e13656ca5b0dcb8a53440/expr.ipynb\"><img src=\"data:image/png;base64,iVBORw0KGgoAAAANSUhEUgAAAFEAAAAVBAMAAADMaB9/AAAAMFBMVEX////c3NwiIiJERESqqqqY\n",
       "mJh2dnZmZmYQEBDu7u4yMjJUVFTMzMyIiIi6uroAAAAs73DqAAAAAXRSTlMAQObYZgAAAZFJREFU\n",
       "KM+NU71PwnAQfY0UKAJ2c3BgdrKLiwv8CUyOyqYOhi5+DCY4ODgJm8ZoQmJMNA4YGRg6QBx1wMRR\n",
       "E4mLxsUG1AFQvPt9JHUg0qSv9+7u17t7vQKjX8m7EZIWGG7pfhh43klDeRP1nudVyopZ97U1w41w\n",
       "8Jx5Fwh96BdMUFbIUWQ5i+RmFuRKcPH4F0GhpILv7HKlfThNkLcxD0Q5nvghaOqG81TKUuSMw6/A\n",
       "AfDGfMwnSF2qzAqQgy3MiGhpkjIyWBedcVdNndmBmVVmSgx2BIRdnEIXXswp2bpexVaZBX0kVMYe\n",
       "P59YhHpLOsN9xLQMM/pIchs8C9IMu8oZ8xFGXNoDgTRV3JeZHbrNTy2nAwPH0i6Kyg2RucNyfhNE\n",
       "naCcK9Kus0gRWX2W5ewTzJVEGSmn4UrS1KfMMpaUnDcUs9pKTlw3JDFJzxeeilR6BvbTPa+6xdtQ\n",
       "tGFVaVuu2pLQ/lxsZMSYLUTt4AYOJfQ1zVyAmxhGVvXW/Zdp8VedCjj+rH+QjHMnxih/xyPwCyHW\n",
       "cE5YmectAAAAAElFTkSuQmCC\n",
       "\" style=\"display:inline;vertical-align:middle;\" /></a></td></tr>\n",
       "<tr><td>3</td><td>Variable</td><td></td><td><a class=\"ProveItLink\" href=\"../../../../../__pv_it/185e6d30f167ee2ee5ef3321098dc98e0d77bc590/expr.ipynb\"><img src=\"data:image/png;base64,iVBORw0KGgoAAAANSUhEUgAAABEAAAAOBAMAAAA7w+qHAAAALVBMVEX///8QEBCYmJjc3Ny6urru\n",
       "7u5mZmZ2dnaqqqrMzMxEREQyMjJUVFSIiIgAAABETr/8AAAAAXRSTlMAQObYZgAAAGpJREFUCNdj\n",
       "YGC48+7MmV0TGEDgNQMDxwsQg/M5kMgLABK8T4DEvAtAgusBkLA7ACT4FoDEDsAk9AqAxD2QCecc\n",
       "gMQ6kAGCIOIVEDM9Ahn3FkgwgnTxvgQSqwOgxs1OADLC1r05cyoTyAAAv4Qe+njAWvgAAAAASUVO\n",
       "RK5CYII=\n",
       "\" style=\"display:inline;vertical-align:middle;\" /></a></td></tr>\n",
       "<tr><td>4</td><td>Variable</td><td></td><td><a class=\"ProveItLink\" href=\"../../../../../__pv_it/9995c55100c62d7d8a012a35bafc852acbe03cf00/expr.ipynb\"><img src=\"data:image/png;base64,iVBORw0KGgoAAAANSUhEUgAAABAAAAAOBAMAAADUAYG5AAAALVBMVEX///8iIiKYmJjc3Nzu7u7M\n",
       "zMx2dnZmZma6urpERESqqqoyMjJUVFSIiIgAAACbLqVTAAAAAXRSTlMAQObYZgAAAGVJREFUCNdj\n",
       "YGC48+7MmdOvGYAARKwEYo63QIIdiNmeAglfIOZ+wMDGwAxk8E1gUAIpZejbc/oxmJEXwLABzNjH\n",
       "wJDAEABkvGRgMGC5ADWGzQFqjDnEGAZWUQYGn3lvzpyRE2AAAIznGVQJqiN4AAAAAElFTkSuQmCC\n",
       "\" style=\"display:inline;vertical-align:middle;\" /></a></td></tr>\n",
       "<tr><td>5</td><td>Variable</td><td></td><td><a class=\"ProveItLink\" href=\"../../../../../__pv_it/985a1bdf1540838275dec15f4ad6de261cca93ce0/expr.ipynb\"><img src=\"data:image/png;base64,iVBORw0KGgoAAAANSUhEUgAAAA8AAAAOBAMAAAACpFvcAAAAMFBMVEX////MzMyqqqoiIiIyMjK6\n",
       "uroQEBB2dnbc3NyYmJhmZmZUVFRERESIiIju7u4AAAB204erAAAAAXRSTlMAQObYZgAAAGZJREFU\n",
       "CNdjYGDgu7NrJccCBgaGsgkMrMsmMDA8sQNy6hsYGNweABlhDAxcn4A0QxcDQ78DiPGQgWH9BAYI\n",
       "sG+AMv6DSaCGfBDNJMDAsB+kmwuI5S8AiTog5gSaEwXWIO29SgFIAQBC+RaDQlidVgAAAABJRU5E\n",
       "rkJggg==\n",
       "\" style=\"display:inline;vertical-align:middle;\" /></a></td></tr>\n",
       "</table>\n"
      ],
      "text/plain": [
       "0. D and E and C\n",
       "   core type: Operation\n",
       "   operator: 1\n",
       "   operands: 2\n",
       "1. and\n",
       "   core type: Literal\n",
       "   sub-expressions: \n",
       "2. (D , E , C)\n",
       "   core type: ExprTuple\n",
       "   sub-expressions: 3, 4, 5\n",
       "3. D\n",
       "   core type: Variable\n",
       "   sub-expressions: \n",
       "4. E\n",
       "   core type: Variable\n",
       "   sub-expressions: \n",
       "5. C\n",
       "   core type: Variable\n",
       "   sub-expressions: "
      ]
     },
     "execution_count": 4,
     "metadata": {},
     "output_type": "execute_result"
    }
   ],
   "source": [
    "# display the expression information\n",
    "expr.exprInfo()"
   ]
  },
  {
   "cell_type": "code",
   "execution_count": null,
   "metadata": {},
   "outputs": [],
   "source": []
  }
 ],
 "metadata": {
  "kernelspec": {
   "display_name": "Python 3",
   "language": "python",
   "name": "python3"
  }
 },
 "nbformat": 4,
 "nbformat_minor": 0
}
