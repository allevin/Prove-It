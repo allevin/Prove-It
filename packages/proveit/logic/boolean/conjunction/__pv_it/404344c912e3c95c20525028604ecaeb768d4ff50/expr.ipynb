{
 "cells": [
  {
   "cell_type": "markdown",
   "metadata": {},
   "source": [
    "Expression of type <a class=\"ProveItLink\" href=\"../../../../../../../doc/html/api/proveit.logic.Forall.html\">Forall</a>\n",
    "=======================\n",
    "# from context <a class=\"ProveItLink\" href=\"../../_context_.ipynb\">proveit.logic.boolean.conjunction</a>"
   ]
  },
  {
   "cell_type": "code",
   "execution_count": 1,
   "metadata": {},
   "outputs": [],
   "source": [
    "# import Expression classes needed to build the expression\n",
    "from proveit._common_ import A, B\n",
    "from proveit.logic import And, Forall"
   ]
  },
  {
   "cell_type": "code",
   "execution_count": 2,
   "metadata": {},
   "outputs": [
    {
     "data": {
      "text/html": [
       "<strong id=\"expr\">expr:</strong> <a class=\"ProveItLink\" href=\"expr.ipynb\"><img src=\"data:image/png;base64,iVBORw0KGgoAAAANSUhEUgAAAGkAAAAWBAMAAAAx2K8dAAAAMFBMVEX///8QEBC6urrMzMxUVFRm\n",
       "ZmZERETc3NwyMjKqqqp2dnaIiIiYmJgiIiLu7u4AAAAU9Wx4AAAAAXRSTlMAQObYZgAAAbhJREFU\n",
       "OMudVDFMAkEQHHjeR/4BSytDYWkChZZGooRYqQVvZ8QYocOvxIZAbNRGbbS2ExuDiRaGAuw0mogF\n",
       "jVJ8oaUxUZCgRt3jQc/ExAuX3N7c3s7u3e7+w0Qno8TEhai1NlkNhVeAfbbZEA5iiwKzPiwRVKLC\n",
       "rJEczSCc9DB5S5hVMICrXWh7yWRKPA1zNK8p0EssdiPOqgLLCVrHgDjQvahH5pt6X9tgtQ12ano4\n",
       "YEGpmj+uMNAPT4aWU+CwedDOjPb0ne4eqD0WVOvAQ5CAG2qRlgjgN3jW/TsJF0NyEPa6pewitsoO\n",
       "1KKb9cctMPMr1kGZxDBz6M5BLllKL8XRXgl4MoNMPkNb5VlSLkYywS7/GMCZ0SoXeXE0GIqPkrC/\n",
       "5cMmz3Kw0NLuJUF//ijBlSvNPGGbRXdloPXxrHMU6Bmmk2CWcmV+l0vqbWJbjj1zCp4Gx/KU9UUT\n",
       "Q9CobRboklb3TH+GQmtFK7GM692C/ZljyQZGAphobsmbP/BnzdMmUlMca4AcFSXSnED5gFL+k+Ta\n",
       "1CPr+GHdvUCZrDjoFl3I1vTxf9ub+2qU1hQY0Y5+CZ2xggI2X2rCcHNEzNqkAAAAAElFTkSuQmCC\n",
       "\" style=\"display:inline;vertical-align:middle;\" /></a><br>"
      ],
      "text/plain": [
       "expr: forall_{B | A and B} B"
      ]
     },
     "execution_count": 2,
     "metadata": {},
     "output_type": "execute_result"
    }
   ],
   "source": [
    "# build up the expression from sub-expressions\n",
    "expr = Forall([B], B, conditions = [And(A, B)])"
   ]
  },
  {
   "cell_type": "code",
   "execution_count": 3,
   "metadata": {},
   "outputs": [
    {
     "name": "stdout",
     "output_type": "stream",
     "text": [
      "Passed sanity check: built 'expr' is the same as the stored Expression.\n"
     ]
    }
   ],
   "source": [
    "# check that the built expression is the same as the stored expression\n",
    "%check_expr"
   ]
  },
  {
   "cell_type": "code",
   "execution_count": 4,
   "metadata": {},
   "outputs": [
    {
     "data": {
      "text/html": [
       "<table><tr><th>&nbsp;</th><th>core type</th><th>sub-expressions</th><th>expression</th></tr>\n",
       "<tr><td>0</td><td>Operation</td><td>operator:&nbsp;1<br>operand:&nbsp;2<br></td><td><a class=\"ProveItLink\" href=\"expr.ipynb\"><img src=\"data:image/png;base64,iVBORw0KGgoAAAANSUhEUgAAAGkAAAAWBAMAAAAx2K8dAAAAMFBMVEX///8QEBC6urrMzMxUVFRm\n",
       "ZmZERETc3NwyMjKqqqp2dnaIiIiYmJgiIiLu7u4AAAAU9Wx4AAAAAXRSTlMAQObYZgAAAbhJREFU\n",
       "OMudVDFMAkEQHHjeR/4BSytDYWkChZZGooRYqQVvZ8QYocOvxIZAbNRGbbS2ExuDiRaGAuw0mogF\n",
       "jVJ8oaUxUZCgRt3jQc/ExAuX3N7c3s7u3e7+w0Qno8TEhai1NlkNhVeAfbbZEA5iiwKzPiwRVKLC\n",
       "rJEczSCc9DB5S5hVMICrXWh7yWRKPA1zNK8p0EssdiPOqgLLCVrHgDjQvahH5pt6X9tgtQ12ano4\n",
       "YEGpmj+uMNAPT4aWU+CwedDOjPb0ne4eqD0WVOvAQ5CAG2qRlgjgN3jW/TsJF0NyEPa6pewitsoO\n",
       "1KKb9cctMPMr1kGZxDBz6M5BLllKL8XRXgl4MoNMPkNb5VlSLkYywS7/GMCZ0SoXeXE0GIqPkrC/\n",
       "5cMmz3Kw0NLuJUF//ijBlSvNPGGbRXdloPXxrHMU6Bmmk2CWcmV+l0vqbWJbjj1zCp4Gx/KU9UUT\n",
       "Q9CobRboklb3TH+GQmtFK7GM692C/ZljyQZGAphobsmbP/BnzdMmUlMca4AcFSXSnED5gFL+k+Ta\n",
       "1CPr+GHdvUCZrDjoFl3I1vTxf9ub+2qU1hQY0Y5+CZ2xggI2X2rCcHNEzNqkAAAAAElFTkSuQmCC\n",
       "\" style=\"display:inline;vertical-align:middle;\" /></a></td></tr>\n",
       "<tr><td>1</td><td>Literal</td><td></td><td><a class=\"ProveItLink\" href=\"../../../quantification/universal/__pv_it/265f8c02ac1094d56e0e6410a1c1fd3500dc9f540/expr.ipynb\"><img src=\"data:image/png;base64,iVBORw0KGgoAAAANSUhEUgAAAAwAAAAQBAMAAADQT4M0AAAAMFBMVEX///8QEBC6urrMzMxUVFRm\n",
       "ZmZERETc3NwyMjKqqqp2dnaIiIiYmJgiIiLu7u4AAAAU9Wx4AAAAAXRSTlMAQObYZgAAAFhJREFU\n",
       "CNdjeMAABhdAxGmGlSCqj6EMSLInMHAAJVknMPAsLy+vBYp8S0u7BaScGRjSgZQKA18DkOJl4D4A\n",
       "pLgP8IJM4mswARuX7gSmpoKNZWDcAKZ4gCoAgTQTILaSE58AAAAASUVORK5CYII=\n",
       "\" style=\"display:inline;vertical-align:middle;\" /></a></td></tr>\n",
       "<tr><td>2</td><td>Lambda</td><td>parameter:&nbsp;8<br>body:&nbsp;8<br>conditions:&nbsp;3<br></td><td><a class=\"ProveItLink\" href=\"../daeaef7c6443fc64beedc81ca8cc3e6c0e33413f0/expr.ipynb\"><img src=\"data:image/png;base64,iVBORw0KGgoAAAANSUhEUgAAAIwAAAAVCAMAAACjd/aHAAAANlBMVEX///8UFBQNDQ2qqqru7u4i\n",
       "IiJ2dnbc3NyIiIjMzMxmZmYQEBC6uroyMjJERERUVFSYmJgAAAC3B9V0AAAAAXRSTlMAQObYZgAA\n",
       "AXdJREFUSMftlttyhCAMhm2B5XzI+79sWZFKIKg7a2f2otwgjP/PByHRZbmvMbl8Tnu4O1xSBIi5\n",
       "Be/eEZAwWrxsZcPaGbi6OUpAwnjAY8nPrDSorY/XWEgBBZME4NW9ObNSUO5egsc1GFJAwEhmAF1r\n",
       "HQQ/sQq29MLyazCkgIBReS00G51SJ1blhKQPu7XHWcuwAyGgYBxfGKRmgmdbcWyVw6WUMqKVdZLI\n",
       "cZxHAQHD3X4ltleywrBDqy1sXMQpDI9yjDMSEDDPsQTTbVH65ciqhk01R/r9JVCzbewpwQijn/Uj\n",
       "Qmhyaz2lqJcDq5pUbW70tSq6Ic599vUwZWibgyiZpOOBla5QEdgMxkgUZ0IwwLCaJfvMFjEv51Y1\n",
       "0yX42Z3RiioNSNDDSDaU4ArBzNxqC5u2nrcVAt1fqjRgQQfDK2f4LcE6jDvtrEwoXyrv07WCNxU0\n",
       "MDJYWM8h5ZfrF2C/drXwvbz2fb8Qjnz86P+Zf5g/bupdmB+o0RSMS+TG3QAAAABJRU5ErkJggg==\n",
       "\" style=\"display:inline;vertical-align:middle;\" /></a></td></tr>\n",
       "<tr><td>3</td><td>ExprTuple</td><td>4</td><td><a class=\"ProveItLink\" href=\"../edc675b550e00237b8f33d3ad1242ca5308fb5730/expr.ipynb\"><img src=\"data:image/png;base64,iVBORw0KGgoAAAANSUhEUgAAAEMAAAAVBAMAAADvM06qAAAAMFBMVEX////c3NwiIiJERESqqqqY\n",
       "mJh2dnZmZmYQEBDu7u4yMjJUVFTMzMyIiIi6uroAAAAs73DqAAAAAXRSTlMAQObYZgAAAWdJREFU\n",
       "KM+NUjtIw1AUPW19Wpv0A7pYh3YR3CyCoFO7ddTJUbuIk1BQXJvByUGDkzhIOojUQQOOGVpcHZrN\n",
       "RWlwFIQKKmhAve++RItg8MLL/ZyTdz/vAv+QjBuFrsjPtbKvfmGi7TuX5xjpkN1SoYsAmgg5yRLQ\n",
       "8GABaZVHzJgKOQ0pXQK6NpaJrKDxRo61PhtQ0aPAag2HwIMKuD2PtfYYVj9PZ9pEooJt1Za5uMTG\n",
       "EYoBxQfyC8BwHSfsH3NqkjVsKYbu391MkR6ysMcBD4U6G0XkFSX9BBzYdL+BD/7FcdolbsyF1mFK\n",
       "wiDaC0F9RclQZ5Y04iZ0mylZUuKVKTvSrxBoSKNKp6nGQuVrz5xojtwYUVJ9BHD1eywFullYWOdO\n",
       "KfebrEkWFA/Hou+a3PQ9MLbfhCi/U0uanB8/yean45zJUaU8JHODixFMYEDoAUQtep02fpbhDxmV\n",
       "s5iMpGiyjljkYt4CX0FZVvBnpCd9AAAAAElFTkSuQmCC\n",
       "\" style=\"display:inline;vertical-align:middle;\" /></a></td></tr>\n",
       "<tr><td>4</td><td>Operation</td><td>operator:&nbsp;5<br>operands:&nbsp;6<br></td><td><a class=\"ProveItLink\" href=\"../42be287793a6c836f70efb0ab4503e1a268d24400/expr.ipynb\"><img src=\"data:image/png;base64,iVBORw0KGgoAAAANSUhEUgAAADcAAAAPBAMAAACy3Eq1AAAAMFBMVEX///92dnYQEBBERERUVFS6\n",
       "urqIiIhmZmaqqqrc3Nzu7u6YmJgyMjIiIiLMzMwAAACFkkdwAAAAAXRSTlMAQObYZgAAAPtJREFU\n",
       "GNNjYACBtwyogNv/i4vzUSjnPJSeBZNlMmBgqA+AKLy/ACJ2HCb5PgGIHcDMGfUTwDSfLVQRQz5Q\n",
       "YL8AmJmQDzGBJSwBKmkExJfAKlkX9G8AC61huACV/MLAMMcKzFoKtgIIpBkqIHJ8X9LSb0OYAQzz\n",
       "C8CMCwxzICJsPxkY1oLdw+fi4m8AdnQCA8sDsCSzAlDBb7CVQG8dADF4FzDwQZzPD6S4P4JYDUBh\n",
       "BRCjHYhPQrwJdCDLDyCDEyjJ84EBKtEO9+b8A2D3A+34BbIbZDEvzJt8OkBvTtY/ycBt/wfoXBZQ\n",
       "SLCBPFX838XlzAaUqGCF+gsBAFd8PNYBN2/JAAAAAElFTkSuQmCC\n",
       "\" style=\"display:inline;vertical-align:middle;\" /></a></td></tr>\n",
       "<tr><td>5</td><td>Literal</td><td></td><td><a class=\"ProveItLink\" href=\"../76b5f4f4c45c0b6a9b59b297fc07dfa9555698f50/expr.ipynb\"><img src=\"data:image/png;base64,iVBORw0KGgoAAAANSUhEUgAAAAwAAAAOBAMAAADpk+DfAAAALVBMVEX///+qqqqYmJh2dnaIiIi6\n",
       "urpUVFQiIiJERETMzMxmZmYyMjLu7u7c3NwAAABvwqPxAAAAAXRSTlMAQObYZgAAAEtJREFUCNdj\n",
       "YGDgPcAAAtwLwNSMGjCV6gIieTawgyhmBS4BIMXOwLsBSKkwMGQCKaC6aQwMjEBd3BdACMScAVJd\n",
       "wJAKolwYAkAUKwAk0guX6efcigAAAABJRU5ErkJggg==\n",
       "\" style=\"display:inline;vertical-align:middle;\" /></a></td></tr>\n",
       "<tr><td>6</td><td>ExprTuple</td><td>7, 8</td><td><a class=\"ProveItLink\" href=\"../caee09fb4b5c95b986a9cee46a014afbad9bdc680/expr.ipynb\"><img src=\"data:image/png;base64,iVBORw0KGgoAAAANSUhEUgAAADUAAAAVBAMAAAAUZLt1AAAAMFBMVEX////c3NwiIiJERESqqqqY\n",
       "mJh2dnZmZmYQEBDu7u4yMjJUVFTMzMyIiIi6uroAAAAs73DqAAAAAXRSTlMAQObYZgAAATZJREFU\n",
       "KM9jYMAH+C5gFY4DEach7EMwQdb9v3dvXsfAfgDIXgkRWg/XwWHAwFD/gGEBAwMvxEhW/QkwufNA\n",
       "kfMbGMKAqiBiIvUCMLn7QFZ8AsMMBoZXEIEL9x/A5CyAWGMCA7MDQxnEsRP8A2ByvxkYpCwZGNgK\n",
       "GJaC+fPAtoABz++711WBNMsChj6wwAMG+QKoHO9HBoZJG4BGNTD8A6vdvXu/AVSOuQEo/xUo9gEi\n",
       "xwd07wKoHD9QD+s3sFwLiO/AwMDUAPMe0FHcX8BmmgK5jEA5rg8MDBNg3pMHGsK6gCEdyJ0FsuYn\n",
       "A+cnqPd4uiaA/fCIgUG4fyEDq/2vAs5+oJbi/7t3rwL5lesBA4cAUnQhsUFhxpqA4LIiR2AuIo7Q\n",
       "5ThBfpJG8JFTADfIfEbsaeIOAwMABOxNRsfkiy0AAAAASUVORK5CYII=\n",
       "\" style=\"display:inline;vertical-align:middle;\" /></a></td></tr>\n",
       "<tr><td>7</td><td>Variable</td><td></td><td><a class=\"ProveItLink\" href=\"../../../../../__pv_it/2cbe72a7ad6f655694dd697106680215e8489b600/expr.ipynb\"><img src=\"data:image/png;base64,iVBORw0KGgoAAAANSUhEUgAAAA8AAAAOBAMAAAACpFvcAAAALVBMVEX///8QEBBERERUVFS6urqI\n",
       "iIhmZmaqqqrc3Nzu7u6YmJgyMjIiIiLMzMwAAADtIaYWAAAAAXRSTlMAQObYZgAAAFtJREFUCNdj\n",
       "YACBOwxQsA9Kc52bAGG05zVAGAFxDmCaZULdAjBjCsO9ADDDgaEvAUTzGhvbKYCVMDAwbgAxChgY\n",
       "eASANAeQwf0AyJgNxEwvGRia5HYwcOm9TgAA6BoR3jrzwFcAAAAASUVORK5CYII=\n",
       "\" style=\"display:inline;vertical-align:middle;\" /></a></td></tr>\n",
       "<tr><td>8</td><td>Variable</td><td></td><td><a class=\"ProveItLink\" href=\"../../../../../__pv_it/077b2ff79244fb4582cbe22c6e3356fa92a52f2f0/expr.ipynb\"><img src=\"data:image/png;base64,iVBORw0KGgoAAAANSUhEUgAAABAAAAAOBAMAAADUAYG5AAAAMFBMVEX///+qqqru7u4iIiJ2dnbc\n",
       "3NyIiIjMzMxmZmYQEBC6uroyMjJERERUVFSYmJgAAADLUcuvAAAAAXRSTlMAQObYZgAAAGpJREFU\n",
       "CNdjYGB4+//u3dMLGIBgDgMDxy8gzf4NiP8CGWxfGRj4vgAZPBMYGJgnARn8FxhY9ygAGfXX0pof\n",
       "gDTlBzAw2YIYJ0EckBBI53sHoBH/gIz7AhBjWH9DjancBLTl/N+7t/cxMAAA3u4f/5xagjYAAAAA\n",
       "SUVORK5CYII=\n",
       "\" style=\"display:inline;vertical-align:middle;\" /></a></td></tr>\n",
       "</table>\n"
      ],
      "text/plain": [
       "0. forall_{B | A and B} B\n",
       "   core type: Operation\n",
       "   operator: 1\n",
       "   operand: 2\n",
       "1. forall\n",
       "   core type: Literal\n",
       "   sub-expressions: \n",
       "2. B -> B | A and B\n",
       "   core type: Lambda\n",
       "   parameter: 8\n",
       "   body: 8\n",
       "   conditions: 3\\n3. (A and B)\n",
       "   core type: ExprTuple\n",
       "   sub-expressions: 4\n",
       "4. A and B\n",
       "   core type: Operation\n",
       "   operator: 5\n",
       "   operands: 6\n",
       "5. and\n",
       "   core type: Literal\n",
       "   sub-expressions: \n",
       "6. (A , B)\n",
       "   core type: ExprTuple\n",
       "   sub-expressions: 7, 8\n",
       "7. A\n",
       "   core type: Variable\n",
       "   sub-expressions: \n",
       "8. B\n",
       "   core type: Variable\n",
       "   sub-expressions: "
      ]
     },
     "execution_count": 4,
     "metadata": {},
     "output_type": "execute_result"
    }
   ],
   "source": [
    "# display the expression information\n",
    "expr.exprInfo()"
   ]
  },
  {
   "cell_type": "code",
   "execution_count": null,
   "metadata": {},
   "outputs": [],
   "source": []
  }
 ],
 "metadata": {
  "kernelspec": {
   "display_name": "Python 3",
   "language": "python",
   "name": "python3"
  }
 },
 "nbformat": 4,
 "nbformat_minor": 0
}
