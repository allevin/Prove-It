{
 "cells": [
  {
   "cell_type": "markdown",
   "metadata": {},
   "source": [
    "Theorem Dependencies\n",
    "=======================\n",
    "\n",
    "## <a class=\"ProveItLink\" href=\"../../_context_.ipynb\">proveit.logic.boolean.conjunction</a>.<a class=\"ProveItLink\" href=\"../../_theorems_.ipynb#andIfBoth\">andIfBoth</a> \n",
    "***see <a class=\"ProveItLink\" href=\"../../_proofs_/andIfBoth.ipynb\">proof</a>***"
   ]
  },
  {
   "cell_type": "code",
   "execution_count": 1,
   "metadata": {},
   "outputs": [],
   "source": [
    "from proveit.logic.boolean.conjunction._theorems_ import andIfBoth"
   ]
  },
  {
   "cell_type": "code",
   "execution_count": 2,
   "metadata": {},
   "outputs": [
    {
     "data": {
      "text/html": [
       "<h3>Axioms required (directly or indirectly) to prove andIfBoth</h3>"
      ],
      "text/plain": [
       "<IPython.core.display.HTML object>"
      ]
     },
     "metadata": {},
     "output_type": "display_data"
    },
    {
     "data": {
      "text/html": [
       "<dl>"
      ],
      "text/plain": [
       "<IPython.core.display.HTML object>"
      ]
     },
     "metadata": {},
     "output_type": "display_data"
    },
    {
     "data": {
      "text/html": [
       "<dt><a class=\"ProveItLink\" href=\"../../_axioms_.ipynb#andTT\">proveit.logic.boolean.conjunction.andTT</a></dt><dd><a class=\"ProveItLink\" href=\"../51838eaba66011860e5e0b82c5dd05a6c42529320/expr.ipynb\"><img src=\"data:image/png;base64,iVBORw0KGgoAAAANSUhEUgAAAHAAAAAVBAMAAABs93eRAAAAMFBMVEX////c3NwiIiJERESqqqqY\n",
       "mJh2dnZmZmYQEBDu7u4yMjJUVFTMzMyIiIi6uroAAAAs73DqAAAAAXRSTlMAQObYZgAAAQRJREFU\n",
       "OMtjYCAb8F3AJxuHW+o0A7sSGBggixaBhZQZ2A+gq4fJMKwE8XgKYOKME2Cs42ByARa7wDK8F1A1\n",
       "chWgagzDpZFjAqrGw5qoGmfg0viKAVXjvruoGpkdcGgsQ9XIuYAJVSNbAQ6NS1E1sgWwO6BoZAGH\n",
       "TtUqEFiNLNOHqpGJgXEBika+Bhw2/kPVGMvAsAdFI88H4jRqglIEURpbUDSyAGkuAUynwpMLQsYU\n",
       "RSNIE0sBskbWBThsTEfReBhEKBAVHY8gGhOg0Q8ioEngGMQNDzA1gmU4BJCFwKr4kEVm4MpVrAn4\n",
       "s2suTpmVePVxLsApJY1XI7cATilGvEXHHVwSAK+LR/LZCB/YAAAAAElFTkSuQmCC\n",
       "\" style=\"display:inline;vertical-align:middle;\" /></a></dd>"
      ],
      "text/plain": [
       "<IPython.core.display.HTML object>"
      ]
     },
     "metadata": {},
     "output_type": "display_data"
    },
    {
     "data": {
      "text/html": [
       "<dt><a class=\"ProveItLink\" href=\"../../../_axioms_.ipynb#eqTrueElim\">proveit.logic.boolean.eqTrueElim</a></dt><dd><a class=\"ProveItLink\" href=\"../../../__pv_it/3e7bd867633eab3d515d0929d36506bc9b5772e10/expr.ipynb\"><img src=\"data:image/png;base64,iVBORw0KGgoAAAANSUhEUgAAAGgAAAAWBAMAAADeGsQjAAAAMFBMVEX///8QEBC6urrMzMxUVFRm\n",
       "ZmZERETc3NwyMjKqqqp2dnaIiIiYmJgiIiLu7u4AAAAU9Wx4AAAAAXRSTlMAQObYZgAAAUpJREFU\n",
       "OMtjeMBABrgAIk6ToIEZqGMliNFHgiaODwwMZUCaPYEETWf/ATUCPcU6gXg97FO/MzDwLC8vryXB\n",
       "Im7uT0DyW1raLRI06XH+AZLODAzpYG47mGSCe7gAmx4+BebfQEqFga8BxOX5BBZlg0mfV4AyWNPS\n",
       "xNKyoBwmBvavQIqXgfsAiPv0D4omvvgDCPMRoWvi4vIN5LMDvOBUse4qiiautwHYNAGtlwAZ2WAC\n",
       "jugNaSiarNkSsGjiBOKLIEa6E4hkYYhF0eTAeoHBowMINiBrqgTifhBjKjj5nWTYj6yJZwL3B0yb\n",
       "wEGWD/INI8gsvquhYA5M09vQsH8YmtgTfxQwHPvfCjIUpJi1gMHeAElTOAPzZ4YMDOehAh0GBv4D\n",
       "CE1MQPYfbKGHDJ58Y2D3vwPXxOefwFDy9wABTQjARk5Opp8mFiLUAADNR1FAr8G4iQAAAABJRU5E\n",
       "rkJggg==\n",
       "\" style=\"display:inline;vertical-align:middle;\" /></a></dd>"
      ],
      "text/plain": [
       "<IPython.core.display.HTML object>"
      ]
     },
     "metadata": {},
     "output_type": "display_data"
    },
    {
     "data": {
      "text/html": [
       "<dt><a class=\"ProveItLink\" href=\"../../../_axioms_.ipynb#eqTrueIntro\">proveit.logic.boolean.eqTrueIntro</a></dt><dd><a class=\"ProveItLink\" href=\"../../../__pv_it/d0cb838f1f1e44deadf0499da151f8dae5a0de4f0/expr.ipynb\"><img src=\"data:image/png;base64,iVBORw0KGgoAAAANSUhEUgAAAIwAAAAXBAMAAAArT7qNAAAAMFBMVEX///8QEBC6urrMzMxUVFRm\n",
       "ZmZERETc3NwyMjKqqqp2dnaIiIiYmJgiIiLu7u4AAAAU9Wx4AAAAAXRSTlMAQObYZgAAAaxJREFU\n",
       "OMtjYKAOeEBYCdMG/PI8CgwMF0CM03iVmUAoW3Rx1rtgkMAQzMCwEiTQh9cYqGw/FinmABDJwcBQ\n",
       "BqTYE/CZwg3xE8/9B7iM4VnAwAGUZJ2AzxhGiPbK+AJcxvAJMPAsLy+vxesnDQi1Yb8CLmMYMhkY\n",
       "vqWl3cJrTBQkuh7MP4DTmKUMDM4MDOlgdjtEOUxFO4zRAyYfMdiDw4i1AwwcUIyZwcCgwsDXAA6n\n",
       "T2ARNlhi+AQzRghMKjDUB+B0jSIDAy8DN9i1T/+gGAPlAgHYPGYXF/8EnMbYA+PzAC84KtZdRTEG\n",
       "yoUZA/QrYwM+Y/gawKmUeUMasjEwLhBIgghgkuAVQEm6aJ5iSHcCsVgYYpGNgXGBIAeUQIHGcHzA\n",
       "6ZoTQDwVnK1OMuxHNgbGhcQmwwuQzD98Ec7ACIpIvquh+Q8QxsC5QKALzDHy7Qw8+T8wo4p5AZhq\n",
       "AkUtSD1rAYO9AcIYOBdkTQGhkoRPAMbSYWDgP4AwBs6FZDwCgAtWID35xsDufwduDIJLuBiBhhwa\n",
       "YMMUKiFkjDtRxrATKES5DYgyhhzAQpYuAAUAaqwIkhhoAAAAAElFTkSuQmCC\n",
       "\" style=\"display:inline;vertical-align:middle;\" /></a></dd>"
      ],
      "text/plain": [
       "<IPython.core.display.HTML object>"
      ]
     },
     "metadata": {},
     "output_type": "display_data"
    },
    {
     "data": {
      "text/html": [
       "<dt><a class=\"ProveItLink\" href=\"../../../../equality/_axioms_.ipynb#equalsTransitivity\">proveit.logic.equality.equalsTransitivity</a></dt><dd><a class=\"ProveItLink\" href=\"../../../../equality/__pv_it/15953cfebb497c481d8be77ed0e16c42a27f82610/expr.ipynb\"><img src=\"data:image/png;base64,iVBORw0KGgoAAAANSUhEUgAAANEAAAAXBAMAAABnpbd1AAAAMFBMVEX///8QEBC6urrMzMxUVFRm\n",
       "ZmZERETc3NwyMjKqqqp2dnaIiIiYmJgiIiLu7u4AAAAU9Wx4AAAAAXRSTlMAQObYZgAAAoBJREFU\n",
       "SMe9VUtoE1EUPZOZZvLrJLQLFVFScKFUMcVC3UglhQotSFYiFiGrVqyLQcQoogQRKihF0Lqwm8GN\n",
       "n0AIWAO2ooNQBD+QlYggRBeKuokIdtOF976Zya+daOHhgXDe3Jt55913PwP8N1TlbdXv73pBvwov\n",
       "XssQUg/6+7pSwANezMpQCnW6njxwlkjPylBa6uR85Zyk64YMpe2dnJ+A2L1c7qIMoUC+kzdIwfye\n",
       "nPwgQ6nLojQUDs1PtDv6evQSIhlgBJjyO+aGCsIGvuOtvY0fjl5lXOGlfurxESBMEe+A4Rd3cCNK\n",
       "ShKw8Bw32+wGjMN06ATQjagtQyme5DEwuo7nDDdbDaTTXZWlBGxdJwcZV8nID9KqkF6gNg6UobDs\n",
       "gdnzDaXIQv+IN2+yopZdEoPh/Ve3RRRm/RfdFuH4R8Y74bgj5Oj2MJWm3aqj/M8fcXOA7ellq6FU\n",
       "1LJbNE7wNaO0otIbghwLtN3HvAugHLyM1vCsLaSwBY2aiWthrsJVdp2tl/agLNzfmm4vGfLyqH+u\n",
       "RLN1chPudT3VcXg1mKCKbsX+5TeXhZfCFr4VYR7DuNgy2ZynuOm9pVlaqUECp+vpqMCYLj582p6m\n",
       "TOwnHSbEO8Y4M2pCZXMPepn2YahJaQCpoHNXSlJJiYJWPIuaUr1zbPrLNHIwHMlHcM5Eb6BGpI7t\n",
       "ytaV1Np9WF7PpPZCnxHkYvDu7aYh6o+Ct/jyZKKIYRu3ynmiaGCzWVcypucWvTYIj5+AuirIRalv\n",
       "5l++Gu3DwdZNToDt2085TmPMoTXQO3wJNbP1o2kGrZ1MvkoneWAPObQWF/yVHrU+xhBesph8leYX\n",
       "OXKHpEKTudkfgDCcYn7TElEAAAAASUVORK5CYII=\n",
       "\" style=\"display:inline;vertical-align:middle;\" /></a></dd>"
      ],
      "text/plain": [
       "<IPython.core.display.HTML object>"
      ]
     },
     "metadata": {},
     "output_type": "display_data"
    },
    {
     "data": {
      "text/html": [
       "<dt><a class=\"ProveItLink\" href=\"../../../../equality/_axioms_.ipynb#substitution\">proveit.logic.equality.substitution</a></dt><dd><a class=\"ProveItLink\" href=\"../../../../equality/__pv_it/8d36a51e21a3e1f2d1a576f0cfdfe721d403af1e0/expr.ipynb\"><img src=\"data:image/png;base64,iVBORw0KGgoAAAANSUhEUgAAAO8AAAAXBAMAAAARnwX+AAAAMFBMVEX///8QEBC6urrMzMxUVFRm\n",
       "ZmZERETc3NwyMjKqqqp2dnaIiIiYmJgiIiLu7u4AAAAU9Wx4AAAAAXRSTlMAQObYZgAAAvdJREFU\n",
       "SMfFVj1oFEEUfvef293bHKayECJYpIk5wcYqRyRGTBPUQgyiNonCgVuI8QfNIggWEq5QsLttDglB\n",
       "OTAemhRZJIVoc7UorE0QLXIYMIUiznszO7O3uznJQfDBm/123jfzZt+99+YA/pd4vS5MNqLYGPw3\n",
       "/63QFr586MHxURzMyQmJUc7EEEOcTInrIr4s9OCY1mQXf3es74shhjk21xvskbu0e786RW7zcFVi\n",
       "irUTZYY577n2sR85U9294wQlRy2AKazFKDPM+cLVeDY3d7eHSA/ReCGASa5GmWFOtsr158zMxx4c\n",
       "n8dh/cC4j28v33rFolmPEBXHrDsw74E2BaTHAWYxSOON6O5dquMRjb98bDrGpwSrkKeUuA9JytDJ\n",
       "0ZJtWAPI21wPgYl5llmZiu7eJen24ZDb8rEGejvPiuRghKg4xzItmGEFXeRaAN1lhkLc13Vx/AOH\n",
       "fNvHJqSJPBohKo6XaODnp9pcdbeACdfv9eBYaymcaMQ7DnBqXmpLOTZt7CnGtWk0L40ts3glmyL7\n",
       "uWM+SW2vKctiPyVoWeH5ErZfCnXmMwlfHeCcA72oQg2zY2h4R6fzTiRYon/vt46oL6bJk5gtDWkA\n",
       "qKivRGxYa6B7YpvOgpcceECnMGyu8IRiQXWQ5Ml6bxiayrGY7DAI/uagj2vuZbgDceWkOHAWRlyQ\n",
       "5SSOVOG0bRpPwWTwN96Wu/gGgGEcRjwfb6x8W8IcvR9xrDiwsXrRYr1ykCsYniwPSBVT/GUg4Bgn\n",
       "r1CopYEdl20BrwN4p5bZwXmuWqa/4g/ATWtUszX2gIFkWzmmSSG+ga4Do1wJXw1auAsFOemWiSm2\n",
       "JBTEVzEP7sab6RfsAY+btnJMk0J8A11ziYVW8IpE+RpJrQCn4GQdoHZl2upk+Gu7HLs5K92IrWNp\n",
       "YHIdjLolsZCJsOMgJ796mj3TFldxga+zSk3x15SVdYbiG4g04CECUfWxXtq54/icl0LF/xEMuiEO\n",
       "yY7mxDuWhr2W8t5t/RfNBeNeS11EOAAAAABJRU5ErkJggg==\n",
       "\" style=\"display:inline;vertical-align:middle;\" /></a></dd>"
      ],
      "text/plain": [
       "<IPython.core.display.HTML object>"
      ]
     },
     "metadata": {},
     "output_type": "display_data"
    },
    {
     "data": {
      "text/html": [
       "</dl>"
      ],
      "text/plain": [
       "<IPython.core.display.HTML object>"
      ]
     },
     "metadata": {},
     "output_type": "display_data"
    },
    {
     "data": {
      "text/html": [
       "<h3>Theorems that depend directly on andIfBoth</h3>"
      ],
      "text/plain": [
       "<IPython.core.display.HTML object>"
      ]
     },
     "metadata": {},
     "output_type": "display_data"
    },
    {
     "data": {
      "text/html": [
       "<dl>"
      ],
      "text/plain": [
       "<IPython.core.display.HTML object>"
      ]
     },
     "metadata": {},
     "output_type": "display_data"
    },
    {
     "data": {
      "text/html": [
       "<dt><a class=\"ProveItLink\" href=\"../../../disjunction/_proofs_/demorgansLawAndToOrBinExplicit.ipynb\">proveit.logic.boolean.disjunction.demorgansLawAndToOrBinExplicit</a></dt><dd><a class=\"ProveItLink\" href=\"../../../disjunction/__pv_it/3f128eb8aa42c4906b681dddf02c5b3afd650eed0/expr.ipynb\"><img src=\"data:image/png;base64,iVBORw0KGgoAAAANSUhEUgAAARAAAAAXBAMAAAAxVg0qAAAAMFBMVEX///8QEBC6urrMzMxUVFRm\n",
       "ZmZERETc3NwyMjKqqqp2dnaIiIiYmJgiIiLu7u4AAAAU9Wx4AAAAAXRSTlMAQObYZgAAA+tJREFU\n",
       "SMfNVl1oFFcU/nZnf5LdyRj6ZB/UVaQIKpmHFkWrWXSJPpmAWUGpmlYcFa1ZUNQqmiDIqojmQUVQ\n",
       "cBH8gyIr6EPJQ1ZEUHxo+qAPGnQoKgGrLRq1/qCec+7M7MyoEcEVL7sz595vztzv3PPdMxf4Wpr9\n",
       "ZaaJlodD9QzQz8bVmhP5Xt1mhBm0DuVatgPzgdPc31tzIs4M+2R1xDTlGukAlmZQB2ygXrKj1jzS\n",
       "KjP6bVZCzKyONNOtOQu9hDqC4j21JhJRUvxtaYGuGsfdoEb6aODPEoxG6Cc3btxa88xMULdyX4Zv\n",
       "RfofUCM/0/8v4rQKeGpZNz7hlesok6avXx+AgkAVW6S2jn20AodEUQFDwKa1dD8OzAZWAB508Em+\n",
       "xQxNnqmayRKwudotQiv5IUWhM9++jIEqtkeuf4skJC2akqU21Ht+gI1DwHgY3SKkR0pPjUg3Kmv3\n",
       "7h0SAHxaTgS67HPMD6l2ATgrgId94wTU1eZIN6aCSz8DHmTJGEv0kJbp7r4SKJ5FlND7+Z9QLt0f\n",
       "FyZymAKu1ib2GWSjpCCntQNNBQYG3REJUsvlWtWr+l0kQTGneeJmuleUgM9cE6ihjHg/0r9se0hE\n",
       "Uv+EiVAWEwWvxz68GbUBuAnmdhNYLEDM9BOh+hGRxcdC/K7GR9Bq6C8UEaNbqp5WtgT618TlAi6J\n",
       "xksTl4SJUAQRryM+XBASgwpSzXgMvShA2l28b/lCRaJBPbRJFXSan5IRe65SgxWzeCjGQVBr6j1H\n",
       "Khbi5fyosEY0AqZ6PfGJUlDT9IpAznflZW+LLQBj0tawmIlI3X/K8UeHIZeRLna8zJtJ2F1Bn0Cn\n",
       "SGu2knu5FJ9eJXLCsqxufvN4x3Z8mMBaYk5QioZXAqlu6KMF8MjR7hRZJF6reH61vTKijbSdByLM\n",
       "zriW7xRwOWWnR7tuWatZI6nginTUE5H9ju348HxtxKk+6+6dRBuM50Eik+lbMqYIvfN/2TbYoYYX\n",
       "vMnldsqqb+c9yATiBTSLsugNTaaRVSvyDpEomd+5RJQPDcVsmj/a4RIZ0YPoY/BA1PWMFIKVaWao\n",
       "UhmewCaRfyVZRPI1krQV5jip2RIiYlAaH7hExIe/Vz+QMnuMfpdIl42tFDgBulvRPOMDLeWq+s5T\n",
       "JFsHtFc49SQ/l0R1LyMFzQqJ1cQt73NlKh/EM5gnz9xS6UdqX759Fy9yhn/BY8CH2mD4nOJZJ0gj\n",
       "XvNt3z84+IAPHSV43QsMhYE6r7N+eCJzQv0p73/MR+Qe5TN4ejnsg8JAtdgmhz0qpsNft8pHidTT\n",
       "I0cCYNYPhYDsZz5N+N93kRLo55+y/VAQSH3CyfwtuSsLv7mURRcAAAAASUVORK5CYII=\n",
       "\" style=\"display:inline;vertical-align:middle;\" /></a></dd>"
      ],
      "text/plain": [
       "<IPython.core.display.HTML object>"
      ]
     },
     "metadata": {},
     "output_type": "display_data"
    },
    {
     "data": {
      "text/html": [
       "<dt><a class=\"ProveItLink\" href=\"../../../implication/_proofs_/iffIntro.ipynb\">proveit.logic.boolean.implication.iffIntro</a></dt><dd><a class=\"ProveItLink\" href=\"../../../implication/__pv_it/468b0f952ed299315e5578d38fcceb95afda5fef0/expr.ipynb\"><img src=\"data:image/png;base64,iVBORw0KGgoAAAANSUhEUgAAAPEAAAAXBAMAAAAo+LSlAAAAMFBMVEX///8QEBC6urrMzMxUVFRm\n",
       "ZmZERETc3NwyMjKqqqp2dnaIiIiYmJgiIiLu7u4AAAAU9Wx4AAAAAXRSTlMAQObYZgAAA0dJREFU\n",
       "SMfFVk1oE0EU/prtZpMm2dYfBC81Bw89KI0gKog01FgKHhow24JQqkjTHsTsodh6qI0XgyA2BxU8\n",
       "2YtYKUhEBaGHRvHgz8EeLIJamoqCCNXS9E9bq29mdpPdpLU9pDiwM7vzvn3fzPfem13gv7VM6V06\n",
       "UutCntE1ym5el5R5vxiOrGZ7/icU6vRDDgD32PO1kjIb3vpXNe4A5BkgDpynJ+VUKYk9QmzvxGqB\n",
       "lJbomgVeAS6yy8lSMpcJxgttujFB+5PC5rIWaE2/gEka7nZ395ZU7BoxpEb8Fg06DKOzCvBV00ib\n",
       "nY9G35eU+aRI8MzttHg+xLoew1gZhHKZRKkgEY6aC0rw/uac1hDgr5qeXHreqzumRc7YcUWwq7z/\n",
       "hDoRb2nLOLUJI+3qjg+3shW5KQS7ocZ5RsyIxKiCp4rrYrp847f4fwo8sOOKYFt570efiO0TEfYa\n",
       "YR7Rob5l+2Kqw8Nl+bLMTXIQjgUrs9qWtviPALW6DVcE4zuQQqEmXjGTRt0o2/lwmrETUpqmBEj7\n",
       "+Kruj3GTLwV51MpcMSXWfov3H4BWO86dtMEMZopVGZdSPSZme4T2s0ydAcGsxvmZI6Wi3PQjgBe6\n",
       "lfmwU6zayWbVLLwJO87IEhMG7GQdLccnguEe5+2dCDoTtikp1EZHPZsrN/ZSO/zoHKzMQdpaczQa\n",
       "7dzGtrI03JDJ42Saj14KmDDRzjJtyblrWjxfZ92UnitnZZGlCRPkBn/lJUa4bZCyKGNh9iY9hgf5\n",
       "BGkah7fajgO0gBWGO3R9ZQ5WjPdYOOrz5byPpTmrKpSxCKhjWow7aichkxbmKa3Z8CC163CGof6E\n",
       "DQccaLHCsJeO5F0JeGOLIvKsdIzzWY7Nhhp51blYqnsZo6yjjqtGfmsDFuYWSFk81qixVKlMwpFF\n",
       "Dudh85GwCTNOT73gaCF3auEZPpm720Ne00oCygqUMUucHVQBy/hO7RuTpi+D3jByOJUZhnIwIz4D\n",
       "Gzjohsybz/NQmj5S5g3OaY3JPLNKRdn1O21+dSv6tcgVnqF5nBS0wTb2zRWHl6V5LffOAtvFNXBK\n",
       "0cewa33m8sKIHPwH81q44qas/zf0sHAivUHm9Kb+GpZv8q/nX+S68mb99E0nAAAAAElFTkSuQmCC\n",
       "\" style=\"display:inline;vertical-align:middle;\" /></a></dd>"
      ],
      "text/plain": [
       "<IPython.core.display.HTML object>"
      ]
     },
     "metadata": {},
     "output_type": "display_data"
    },
    {
     "data": {
      "text/html": [
       "</dl>"
      ],
      "text/plain": [
       "<IPython.core.display.HTML object>"
      ]
     },
     "metadata": {},
     "output_type": "display_data"
    }
   ],
   "source": [
    "%dependencies andIfBoth"
   ]
  }
 ],
 "metadata": {
  "kernelspec": {
   "display_name": "Python 3",
   "language": "python",
   "name": "python3"
  }
 },
 "nbformat": 4,
 "nbformat_minor": 0
}
