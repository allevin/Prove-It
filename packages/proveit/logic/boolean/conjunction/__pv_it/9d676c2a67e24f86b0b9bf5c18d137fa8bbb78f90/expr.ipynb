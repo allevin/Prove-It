{
 "cells": [
  {
   "cell_type": "markdown",
   "metadata": {},
   "source": [
    "Expression of type <a class=\"ProveItLink\" href=\"../../../../../../../doc/html/api/proveit.ExprTuple.html\">ExprTuple</a>\n",
    "=======================\n",
    "# from context <a class=\"ProveItLink\" href=\"../../_context_.ipynb\">proveit.logic.boolean.conjunction</a>"
   ]
  },
  {
   "cell_type": "code",
   "execution_count": 1,
   "metadata": {},
   "outputs": [],
   "source": [
    "# import Expression classes needed to build the expression\n",
    "from proveit import ExprTuple\n",
    "from proveit._common_ import a, b, c, d, e, f\n",
    "from proveit.logic import Or"
   ]
  },
  {
   "cell_type": "code",
   "execution_count": 2,
   "metadata": {},
   "outputs": [
    {
     "data": {
      "text/html": [
       "<strong id=\"expr\">expr:</strong> <a class=\"ProveItLink\" href=\"expr.ipynb\"><img src=\"data:image/png;base64,iVBORw0KGgoAAAANSUhEUgAAAQEAAAAyBAMAAACuW3N5AAAAMFBMVEX///9ERESIiIiYmJju7u4y\n",
       "MjLMzMwQEBDc3NwiIiKqqqpUVFRmZma6urp2dnYAAACcPvpdAAAAAXRSTlMAQObYZgAABBBJREFU\n",
       "WMPFmU1IVFEUx884b74/cRMRlAy1CnMoWgU5LSLKxQzUQtCFktAyEwqJqNm0UnACF1ERsykRggkj\n",
       "XYVDUUmLnDbZboZauSjUZmFS0P2ce56M5j1Kc8H33pn37nnn3XvO/3ffE4C1eAVa0XoyjcOPLQkA\n",
       "Ypf0Ufx5ayKAk/pg2rqrM1fYiwgiZbkP3rDv6xPDFhPHA/QQbipvNfuuiaJ4Bn7ztg56BFMyF0sZ\n",
       "+65V0cefZJtQhh6BT07DbULXZbnrZX/PdlMN63zrrRO69qVegLp7r0jNHylSOvTzTYhQi84qJAbk\n",
       "DIiZgCsVH6k6uvkUVgmCGK5DoCazMMK7OyPgSVMiSPA0fk/oGM1BQiRRAc6KolihKgIfuVuEjqEy\n",
       "VMUzf4Bv4lGSxAjCLBX9G0CSg0VRhHdBTP8EVROcNTaVlFJgaShrOHJZ3DvBBoSUB3APwDNMmb5i\n",
       "VFaQf39GCXycJs7zAIEkgT3OzBtc0IzvqcPuKz79K716jub5risPWRcVRGX6DXuMvUUb2urERhNw\n",
       "YW8HS2LaSkWV07rN8k3KsMfYtnpbbwIu5M35c0Hsr3ZAdxF3HOSbScMeY1u2eKEJuJC3sFKQbBm6\n",
       "XBnkY5MTLhv2GJtCvc3gQt6iKs2Ykizm5TJl5vsoyPO+vGGPsa3YM3asWsTggvGvCy5v3rmHMpJA\n",
       "DublKC3lPStqjAYxe7RtxZ7YKBzKYHCF78M49q6AwC8p8ILkQ/ATokmVJ68we7RtxZ6JNLwFBC6Y\n",
       "qMA77J39ogY0NKwiYGgJiahC4OQwe7RtxR7m8zEgcMHciVQee2dVqFNDR8ASIiuiihbjacwebVux\n",
       "Z5UVGyBwwW/NVOWtscgyETC0lIBPXTAXcrFH2zbsCa6xYnMQuGBNn1HeAA5AYxYk47JFeBkWgzB7\n",
       "3M0ebXP2ODu4PXPnbEAk9xSBC0ZYTmBv4hedibIafenwo7hUjUk3e7TN2ZNtXg2xfUYxnF9scxGm\n",
       "yzUELjgCzgL2pmdJVKNUpOBM52AnXkA32KNswZ5z6/i+RvUTRledO+yJxlKf2ysYXPHXKbe3mF4T\n",
       "sPzq3rRM9Ge2sb9gQhvVr6JrYvntwKW9tamS4KpctVlZ4GuR6i+jn7078XOqoS2MTNkaMQKk+v22\n",
       "EVw/r48YnQMWhd7mspTqM6LgpeaOqvb0gj5iKxTSKk0WklR9RpQ6kNs8caUKRvU5UXL0CK4RV+tg\n",
       "VJ8TpUZ2wVfrpDcWMKrPiUL/EOZdJ761ySZUv0EU+ltblfwVRqi+IQrpzbUmOUxsQvUNUchv794V\n",
       "cv9+F1Eorc8FSvs2tOtvmhJ1U9Cy5imTv+btUVuSRRQcbVkED9T+SasCiJY3H/zvZh69vTUBmK/7\n",
       "EG3NfzjOiDz8C7E6FHPTwFGGAAAAAElFTkSuQmCC\n",
       "\" style=\"display:inline;vertical-align:middle;\" /></a><br>"
      ],
      "text/plain": [
       "expr: (a or b or c , b or c \\\\  or d , d or e or f)"
      ]
     },
     "execution_count": 2,
     "metadata": {},
     "output_type": "execute_result"
    }
   ],
   "source": [
    "# build up the expression from sub-expressions\n",
    "expr = ExprTuple(Or(a, b, c), Or(b, c, d).withWrappingAt(3), Or(d, e, f))"
   ]
  },
  {
   "cell_type": "code",
   "execution_count": 3,
   "metadata": {},
   "outputs": [
    {
     "name": "stdout",
     "output_type": "stream",
     "text": [
      "Passed sanity check: built 'expr' is the same as the stored Expression.\n"
     ]
    }
   ],
   "source": [
    "# check that the built expression is the same as the stored expression\n",
    "%check_expr"
   ]
  },
  {
   "cell_type": "code",
   "execution_count": 4,
   "metadata": {},
   "outputs": [
    {
     "data": {
      "text/html": [
       "<table><tr><th>&nbsp;</th><th>core type</th><th>sub-expressions</th><th>expression</th></tr>\n",
       "<tr><td>0</td><td>ExprTuple</td><td>1, 2, 3</td><td><a class=\"ProveItLink\" href=\"expr.ipynb\"><img src=\"data:image/png;base64,iVBORw0KGgoAAAANSUhEUgAAAQEAAAAyBAMAAACuW3N5AAAAMFBMVEX///9ERESIiIiYmJju7u4y\n",
       "MjLMzMwQEBDc3NwiIiKqqqpUVFRmZma6urp2dnYAAACcPvpdAAAAAXRSTlMAQObYZgAABBBJREFU\n",
       "WMPFmU1IVFEUx884b74/cRMRlAy1CnMoWgU5LSLKxQzUQtCFktAyEwqJqNm0UnACF1ERsykRggkj\n",
       "XYVDUUmLnDbZboZauSjUZmFS0P2ce56M5j1Kc8H33pn37nnn3XvO/3ffE4C1eAVa0XoyjcOPLQkA\n",
       "Ypf0Ufx5ayKAk/pg2rqrM1fYiwgiZbkP3rDv6xPDFhPHA/QQbipvNfuuiaJ4Bn7ztg56BFMyF0sZ\n",
       "+65V0cefZJtQhh6BT07DbULXZbnrZX/PdlMN63zrrRO69qVegLp7r0jNHylSOvTzTYhQi84qJAbk\n",
       "DIiZgCsVH6k6uvkUVgmCGK5DoCazMMK7OyPgSVMiSPA0fk/oGM1BQiRRAc6KolihKgIfuVuEjqEy\n",
       "VMUzf4Bv4lGSxAjCLBX9G0CSg0VRhHdBTP8EVROcNTaVlFJgaShrOHJZ3DvBBoSUB3APwDNMmb5i\n",
       "VFaQf39GCXycJs7zAIEkgT3OzBtc0IzvqcPuKz79K716jub5risPWRcVRGX6DXuMvUUb2urERhNw\n",
       "YW8HS2LaSkWV07rN8k3KsMfYtnpbbwIu5M35c0Hsr3ZAdxF3HOSbScMeY1u2eKEJuJC3sFKQbBm6\n",
       "XBnkY5MTLhv2GJtCvc3gQt6iKs2Ykizm5TJl5vsoyPO+vGGPsa3YM3asWsTggvGvCy5v3rmHMpJA\n",
       "DublKC3lPStqjAYxe7RtxZ7YKBzKYHCF78M49q6AwC8p8ILkQ/ATokmVJ68we7RtxZ6JNLwFBC6Y\n",
       "qMA77J39ogY0NKwiYGgJiahC4OQwe7RtxR7m8zEgcMHciVQee2dVqFNDR8ASIiuiihbjacwebVux\n",
       "Z5UVGyBwwW/NVOWtscgyETC0lIBPXTAXcrFH2zbsCa6xYnMQuGBNn1HeAA5AYxYk47JFeBkWgzB7\n",
       "3M0ebXP2ODu4PXPnbEAk9xSBC0ZYTmBv4hedibIafenwo7hUjUk3e7TN2ZNtXg2xfUYxnF9scxGm\n",
       "yzUELjgCzgL2pmdJVKNUpOBM52AnXkA32KNswZ5z6/i+RvUTRledO+yJxlKf2ysYXPHXKbe3mF4T\n",
       "sPzq3rRM9Ge2sb9gQhvVr6JrYvntwKW9tamS4KpctVlZ4GuR6i+jn7078XOqoS2MTNkaMQKk+v22\n",
       "EVw/r48YnQMWhd7mspTqM6LgpeaOqvb0gj5iKxTSKk0WklR9RpQ6kNs8caUKRvU5UXL0CK4RV+tg\n",
       "VJ8TpUZ2wVfrpDcWMKrPiUL/EOZdJ761ySZUv0EU+ltblfwVRqi+IQrpzbUmOUxsQvUNUchv794V\n",
       "cv9+F1Eorc8FSvs2tOtvmhJ1U9Cy5imTv+btUVuSRRQcbVkED9T+SasCiJY3H/zvZh69vTUBmK/7\n",
       "EG3NfzjOiDz8C7E6FHPTwFGGAAAAAElFTkSuQmCC\n",
       "\" style=\"display:inline;vertical-align:middle;\" /></a></td></tr>\n",
       "<tr><td>1</td><td>Operation</td><td>operator:&nbsp;6<br>operands:&nbsp;4<br></td><td><a class=\"ProveItLink\" href=\"../ef2f8152c26230a97c8a6434e7b930231ce559b10/expr.ipynb\"><img src=\"data:image/png;base64,iVBORw0KGgoAAAANSUhEUgAAAEsAAAAPBAMAAABeqS+jAAAAMFBMVEX///8yMjKqqqrMzMzu7u4i\n",
       "IiJmZmaYmJhEREQQEBC6urp2dnaIiIhUVFTc3NwAAAD87Fq/AAAAAXRSTlMAQObYZgAAAQhJREFU\n",
       "KM9jYEAHLDcDGHADLjBpAMSMF1D5KIAXJMJzAEjwK6DyUQBzA5BgdQAS6x1Q+ahADojVQIytaHwI\n",
       "4Luzax4DVAgkxSB75joKn2X3GaADVj7g+MAAsQBsEcsPBn4DJD6D5QLGAAa+7wxsYB7QubwLgDTT\n",
       "FwbODUh8ljkMHAUMvB8YWCH+CWBwBFFsAgz8CUh8XrBd/A0M/pDQSWLYDrY8gWF9ARKfH2zX+wMM\n",
       "+gxgfz9kAAc/MNjykfnvwXb5KzBcZAIbx2sOFgC6fzYDMh9odAEDYwFTGDckgFvBhvAqsF1A4Scw\n",
       "cBsAg+2UxSlICIpBov5OOgMynyH7zBGUeDBBixckPgBMbD0TPAIqwgAAAABJRU5ErkJggg==\n",
       "\" style=\"display:inline;vertical-align:middle;\" /></a></td></tr>\n",
       "<tr><td>2</td><td>Operation</td><td>operator:&nbsp;6<br>operands:&nbsp;5<br></td><td><a class=\"ProveItLink\" href=\"../0de71fc98eb2a67e46a35169e586b03cbc6fd4f10/expr.ipynb\"><img src=\"data:image/png;base64,iVBORw0KGgoAAAANSUhEUgAAACkAAAAoBAMAAACREs5gAAAAMFBMVEX////c3NxmZmbMzMxERESY\n",
       "mJiIiIh2dna6urqqqqoyMjIiIiIQEBBUVFTu7u4AAAAiO1wTAAAAAXRSTlMAQObYZgAAAS9JREFU\n",
       "KM9j4LuzgQEL4LoAIjnAbAO4KP8EEMkLEmBLgIv2PwCRzA5AgvsBXLQaQi0E4kkIc9emXWWAioBk\n",
       "GPjK0wwY+L4w8BtAdINNYbBp4NrAwPmPgacAYhNvA0jpMQaWAAamBQz8CiA1GxhegR3zAURyKzD0\n",
       "B4AYmgylYIc6QJ2rD3aQFAPYk/JgNwOtOg52C68phA/UGMDAO4EJ7GUGZm+wFl4FBnagy66pQh2+\n",
       "CEKpp+UhB5Mdw0gEHD4KCDYiiUBSBwNaEulHJAmkJFKNZBwiiSxCEoUmEcZrFT+RRKFJpEeA5R+S\n",
       "KCSJMH4FpQ4kAE4iwATCXYAsCk4iwATyvgFZFJxEgAlkPsMDJFFwEnk/geEWpwGSKDiJcAVwbmJH\n",
       "CRaQ6xmvZZhkMOBOIgDVk0ShcDcfeAAAAABJRU5ErkJggg==\n",
       "\" style=\"display:inline;vertical-align:middle;\" /></a></td></tr>\n",
       "<tr><td>3</td><td>Operation</td><td>operator:&nbsp;6<br>operands:&nbsp;7<br></td><td><a class=\"ProveItLink\" href=\"../b90428430339541d63aa4bc743f2998609f8fec90/expr.ipynb\"><img src=\"data:image/png;base64,iVBORw0KGgoAAAANSUhEUgAAAE8AAAASBAMAAADoCp6cAAAAMFBMVEX////MzMyYmJiIiIhUVFTc\n",
       "3NwyMjIiIiJ2dnbu7u6qqqpmZmYQEBBERES6uroAAABkyy6XAAAAAXRSTlMAQObYZgAAASVJREFU\n",
       "KM9jYGBg4LuzgQE/mGISAKb5FwBVg1kCcDkU/o31CmD6/QQGBhaQGLMBXCEyn/PfLIhgOxAzXgAS\n",
       "7BPgCpH5XB+ggtkgIhWIVyO5C4nPXQAiWZ37fjFABVPBAjusA5D5DEw+JSDfvgng/ckAsQZsHcPy\n",
       "ANYNyHygZ0FOZf3EwJ3AAHE4ywOQwD8GbgEkPhDEg/gsHxjYG8DcAoZpYO8eUjZF5gPBerCxFxjm\n",
       "QzTuYmgCC8BCH8qHhgpDvAFQAzgUwhgK4A5C4gPBFRAxfwGDGxc4AliEwEp4gKQBEh8IDoMINgWu\n",
       "ag5IEF8HG8ycwDA7AIkPihhIMNrJ2iGFOwNDt7EBCp+B7ydaGpHEwWdOYCAKqPAqEKfw2HTi1DFo\n",
       "bAWRAP1QQulI0dpiAAAAAElFTkSuQmCC\n",
       "\" style=\"display:inline;vertical-align:middle;\" /></a></td></tr>\n",
       "<tr><td>4</td><td>ExprTuple</td><td>8, 9, 10</td><td><a class=\"ProveItLink\" href=\"../d49e900d23804978f563e8d96d3cdab866f378630/expr.ipynb\"><img src=\"data:image/png;base64,iVBORw0KGgoAAAANSUhEUgAAADsAAAAVBAMAAAAKrYvGAAAAMFBMVEX////c3NwiIiJERESqqqqY\n",
       "mJh2dnZmZmYQEBDu7u4yMjJUVFTMzMyIiIi6uroAAAAs73DqAAAAAXRSTlMAQObYZgAAAThJREFU\n",
       "KM+FkrFLw0AUxn9t0qZpbNPdod1cs7jnPzCToxQHOylZ7KqCuCkduyWLg7h0EUQoBFwEl66CKdVJ\n",
       "XBoRBxfxcknhYinecPd978v78t67g39Wc7JK2Um3RyVg3nYUZkRiu1IT6iOVhdAoeNuuyrahNlAD\n",
       "8wIbwnuhmt0C01z64iiND06ywHV8kxe5F0dUfS4FfmtpSRb8xI4kepjVO+ghFyL5C8ORQf2bWld+\n",
       "d47m0TzmB6yEcla/EWL7KbCk21qSyrZDkFmWfeaebNDJ5VNoT9hikLd9JEFbugnzTQhc7vTITOWI\n",
       "MyQQHh6VkJ6YpKdvVAnEuC3XGGXApyobe03bnt5PGX6IgseHSEA/fhJ5M2qtxYxeloAYaqW7IN4S\n",
       "2FcvdEk2xYWynpMGf4GV/re08jE9wy8Jx0wlkMlGlgAAAABJRU5ErkJggg==\n",
       "\" style=\"display:inline;vertical-align:middle;\" /></a></td></tr>\n",
       "<tr><td>5</td><td>ExprTuple</td><td>9, 10, 11</td><td><a class=\"ProveItLink\" href=\"../12b22f4a016d0e247fc47d53ddfea65ff7b7a7fb0/expr.ipynb\"><img src=\"data:image/png;base64,iVBORw0KGgoAAAANSUhEUgAAADsAAAAVBAMAAAAKrYvGAAAAMFBMVEX////c3NwiIiJERESqqqqY\n",
       "mJh2dnZmZmYQEBDu7u4yMjJUVFTMzMyIiIi6uroAAAAs73DqAAAAAXRSTlMAQObYZgAAATxJREFU\n",
       "KM+Fkr9Lw2AQhp+26Y+0tunuoJtrF8Ex/4GZHKU46KRksasO4qZkdGsWEXHpIogQCLgILl2FpkQn\n",
       "cWlFHbqI931JHZoWb/jycJf3u3svgX+i0V9U2VbHE+bd6hzVhlsO5XkN1d4crWXjQ72vKRsjjy2o\n",
       "eJqysQMX8J5QNq6gYNMRuoluk5S5G4UacsHBF5RcLiX5iZVkH+NqYuKtWZiA4XMu54RKW4vPKDha\n",
       "/E1Zxm4c84Miy1XZ2jjtK5AXwdJYlfMuIy2yWlPPLbqxLp9o20fa2sp0vwKbeOryddRcp5hKJHc4\n",
       "Cro290ZI0WdPOtnlHl0ZueZSChVUHWOtpI29ysDBoWzoQ1Sd6FlDLhg+DOWtmEoz7ffCLKilFtsp\n",
       "O8wC+8kHXVA2ZTMsJ1yfJv+AmuqbW/gzDeAX8JNQTs/EzKYAAAAASUVORK5CYII=\n",
       "\" style=\"display:inline;vertical-align:middle;\" /></a></td></tr>\n",
       "<tr><td>6</td><td>Literal</td><td></td><td><a class=\"ProveItLink\" href=\"../../../disjunction/__pv_it/087d0b4ded7c7e5bf3bba05ecb616d7a8051ff650/expr.ipynb\"><img src=\"data:image/png;base64,iVBORw0KGgoAAAANSUhEUgAAAAwAAAAOBAMAAADpk+DfAAAALVBMVEX///+YmJh2dnZmZmaqqqrc\n",
       "3NwyMjLu7u4iIiJERESIiIhUVFTMzMy6uroAAAD0I/TTAAAAAXRSTlMAQObYZgAAAEtJREFUCNdj\n",
       "uMAABDwMe0DUKoaTIKqdgS2AgYHFAITAzHYGsMQqBoa9QIqDgT0BSDE7MAkAKdYEDpAehj1SYOpk\n",
       "O5hiMwBTPAUMDAB33Atnw8aG2QAAAABJRU5ErkJggg==\n",
       "\" style=\"display:inline;vertical-align:middle;\" /></a></td></tr>\n",
       "<tr><td>7</td><td>ExprTuple</td><td>11, 12, 13</td><td><a class=\"ProveItLink\" href=\"../ac202d3c1ce140e8bbf1c65c4686d59270cb553d0/expr.ipynb\"><img src=\"data:image/png;base64,iVBORw0KGgoAAAANSUhEUgAAAD8AAAAVBAMAAAADRiu8AAAAMFBMVEX////c3NwiIiJERESqqqqY\n",
       "mJh2dnZmZmYQEBDu7u4yMjJUVFTMzMyIiIi6uroAAAAs73DqAAAAAXRSTlMAQObYZgAAAVdJREFU\n",
       "KM9jYCAI+C7glosDEafBqiwKMGRn3xZgPwCkV4J5/A4YCsz8AxgWMDDwQmx4PwFdnvPfFAaGMAYG\n",
       "DohMEoYBLB+AxAwGhlcQ7nIMBewKQILZgaEMSDHuzfsCEWUsuy4AYbHu0Aa6m62AYSmQ80KA+SdE\n",
       "2EmAEeYdfpDjWBYw9AG1fWVgXwAx4B8D2GcgIA9i8DUw/GNg4P7AwJQAFuRujb0Ic4M/iOD5AFLA\n",
       "b8Aw/wHEWKTgSoIqaAEadgGofALcXiiwZoBYYcrAMN+BYRfLAU4gnwOo4AJELUMv2C8LGNIZGLgC\n",
       "WNTZGOYD/c27gGG6AOcnSECCSKA3H4GC4d7hewwzPgIF0u9eYODsBwUFH9jjXA8YOARglj6EJwCQ\n",
       "EC/Y48CgZk2AiQfAGKxAHM0M5ubCoxtdQdcksENAxkhDhXnhHgT5NawQHHAgyxjxJLk7DAwAQc1O\n",
       "jiWfZG8AAAAASUVORK5CYII=\n",
       "\" style=\"display:inline;vertical-align:middle;\" /></a></td></tr>\n",
       "<tr><td>8</td><td>Variable</td><td></td><td><a class=\"ProveItLink\" href=\"../../../../../__pv_it/07527342713064c87612d00d8557c53d53d5324a0/expr.ipynb\"><img src=\"data:image/png;base64,iVBORw0KGgoAAAANSUhEUgAAAAsAAAAJBAMAAAAWSsseAAAAMFBMVEX///8yMjKqqqrMzMzu7u4i\n",
       "IiJmZmaYmJhEREQQEBC6urp2dnaIiIhUVFTc3NwAAAD87Fq/AAAAAXRSTlMAQObYZgAAAEhJREFU\n",
       "CNdjYOC7s2seAwPDygccHxgY+L4zsDUwMPB+YGA9wMDA38Dgb8DA8P4Agz6DA4O/AsNFJgMGxgKm\n",
       "MG6gyjunLE4xAAAZTBA5TB6DCwAAAABJRU5ErkJggg==\n",
       "\" style=\"display:inline;vertical-align:middle;\" /></a></td></tr>\n",
       "<tr><td>9</td><td>Variable</td><td></td><td><a class=\"ProveItLink\" href=\"../../../../../__pv_it/6840a4fa6c106149dc16a131294d0c5e44f1b0480/expr.ipynb\"><img src=\"data:image/png;base64,iVBORw0KGgoAAAANSUhEUgAAAAkAAAAOBAMAAAAPuiubAAAALVBMVEX///9mZmbMzMxERESYmJiI\n",
       "iIh2dna6urqqqqoyMjIiIiIQEBBUVFTu7u4AAAD9S1JeAAAAAXRSTlMAQObYZgAAAE1JREFUCNdj\n",
       "4D29gAEIOA+ASL4GEFl3AURmgQiGOaFHGBh4HzPwKTBwvGXgTmBgnMDAJ8DAJcBQ5wBSLncBJLWN\n",
       "gYGngRFoBO9REQYGAGrcDtUkVqASAAAAAElFTkSuQmCC\n",
       "\" style=\"display:inline;vertical-align:middle;\" /></a></td></tr>\n",
       "<tr><td>10</td><td>Variable</td><td></td><td><a class=\"ProveItLink\" href=\"../../../../../__pv_it/cbdfda466482236edba0ce44ac7ef39cda0af7a40/expr.ipynb\"><img src=\"data:image/png;base64,iVBORw0KGgoAAAANSUhEUgAAAAkAAAAJBAMAAAASvxsjAAAALVBMVEX///9mZmbc3NxUVFSYmJhE\n",
       "REQiIiIyMjK6uroQEBDMzMyIiIh2dnbu7u4AAABgFDGoAAAAAXRSTlMAQObYZgAAADZJREFUCNdj\n",
       "YOA9s3sBA8PKBvYEBt7ZDKwODMwPGICALwBE6m0Asx0YGIDiAgw8QJUyu/cyAAAmuwmycZ8WfQAA\n",
       "AABJRU5ErkJggg==\n",
       "\" style=\"display:inline;vertical-align:middle;\" /></a></td></tr>\n",
       "<tr><td>11</td><td>Variable</td><td></td><td><a class=\"ProveItLink\" href=\"../../../../../__pv_it/3a5de44ed6135dbbdbbeec6704c741e238f127300/expr.ipynb\"><img src=\"data:image/png;base64,iVBORw0KGgoAAAANSUhEUgAAAAsAAAAOBAMAAAALT/umAAAAMFBMVEX////MzMyYmJiIiIhUVFTc\n",
       "3NwyMjIiIiJ2dnbu7u6qqqpmZmYQEBBERES6uroAAABkyy6XAAAAAXRSTlMAQObYZgAAAFhJREFU\n",
       "CNdjYGBg4LuzgQEE+BeAqfcTwFQ7mGTIBmJW575fQOpNAO9PIOcTA3cCAwPLBwb2BqCeCwzzHzAw\n",
       "xBswrGeYwDB/AYMblwADmwJXNQdIm52sHQMAfyoTCZukXIEAAAAASUVORK5CYII=\n",
       "\" style=\"display:inline;vertical-align:middle;\" /></a></td></tr>\n",
       "<tr><td>12</td><td>Variable</td><td></td><td><a class=\"ProveItLink\" href=\"../../../../../__pv_it/0bc0f4a545336331111a0b22c4f05a0627b57b8f0/expr.ipynb\"><img src=\"data:image/png;base64,iVBORw0KGgoAAAANSUhEUgAAAAkAAAAJBAMAAAASvxsjAAAALVBMVEX////u7u4yMjKYmJgQEBBU\n",
       "VFTMzMy6uroiIiKqqqqIiIh2dnZmZmbc3NwAAAAyj3LLAAAAAXRSTlMAQObYZgAAADlJREFUCNdj\n",
       "YOA9veYCA8OMC7wHGHifM/AkMLA6W61lYOA7wAAEfAtAJAuQXMDApcAgA1S5Z9UCBgB6Cgz1W65k\n",
       "FgAAAABJRU5ErkJggg==\n",
       "\" style=\"display:inline;vertical-align:middle;\" /></a></td></tr>\n",
       "<tr><td>13</td><td>Variable</td><td></td><td><a class=\"ProveItLink\" href=\"../../../../../__pv_it/4d51ee1e62d011d06d4528b97697bf3da60c9de60/expr.ipynb\"><img src=\"data:image/png;base64,iVBORw0KGgoAAAANSUhEUgAAAAsAAAASBAMAAAB/WzlGAAAAMFBMVEX///8yMjLMzMwQEBAiIiJm\n",
       "Zma6urqYmJiqqqp2dnZERETc3NyIiIhUVFTu7u4AAAAe+HC4AAAAAXRSTlMAQObYZgAAAFVJREFU\n",
       "CNdjYGBgeHt2A5BkWNlfACT5vr0AcTg+gEgGVgcQyX7ZNwBE8x8AC+5XAFP9YJJhCoRaC6FswCTf\n",
       "NzDF9g9M8QiAyFoukPEMhk/AYpXRIBIAEwsRcZ82juYAAAAASUVORK5CYII=\n",
       "\" style=\"display:inline;vertical-align:middle;\" /></a></td></tr>\n",
       "</table>\n"
      ],
      "text/plain": [
       "0. (a or b or c , b or c \\\\  or d , d or e or f)\n",
       "   core type: ExprTuple\n",
       "   sub-expressions: 1, 2, 3\n",
       "1. a or b or c\n",
       "   core type: Operation\n",
       "   operator: 6\n",
       "   operands: 4\n",
       "2. b or c \\\\  or d\n",
       "   core type: Operation\n",
       "   operator: 6\n",
       "   operands: 5\n",
       "3. d or e or f\n",
       "   core type: Operation\n",
       "   operator: 6\n",
       "   operands: 7\n",
       "4. (a , b , c)\n",
       "   core type: ExprTuple\n",
       "   sub-expressions: 8, 9, 10\n",
       "5. (b , c , d)\n",
       "   core type: ExprTuple\n",
       "   sub-expressions: 9, 10, 11\n",
       "6. or\n",
       "   core type: Literal\n",
       "   sub-expressions: \n",
       "7. (d , e , f)\n",
       "   core type: ExprTuple\n",
       "   sub-expressions: 11, 12, 13\n",
       "8. a\n",
       "   core type: Variable\n",
       "   sub-expressions: \n",
       "9. b\n",
       "   core type: Variable\n",
       "   sub-expressions: \n",
       "10. c\n",
       "    core type: Variable\n",
       "    sub-expressions: \n",
       "11. d\n",
       "    core type: Variable\n",
       "    sub-expressions: \n",
       "12. e\n",
       "    core type: Variable\n",
       "    sub-expressions: \n",
       "13. f\n",
       "    core type: Variable\n",
       "    sub-expressions: "
      ]
     },
     "execution_count": 4,
     "metadata": {},
     "output_type": "execute_result"
    }
   ],
   "source": [
    "# display the expression information\n",
    "expr.exprInfo()"
   ]
  },
  {
   "cell_type": "code",
   "execution_count": null,
   "metadata": {},
   "outputs": [],
   "source": []
  }
 ],
 "metadata": {
  "kernelspec": {
   "display_name": "Python 3",
   "language": "python",
   "name": "python3"
  }
 },
 "nbformat": 4,
 "nbformat_minor": 0
}
