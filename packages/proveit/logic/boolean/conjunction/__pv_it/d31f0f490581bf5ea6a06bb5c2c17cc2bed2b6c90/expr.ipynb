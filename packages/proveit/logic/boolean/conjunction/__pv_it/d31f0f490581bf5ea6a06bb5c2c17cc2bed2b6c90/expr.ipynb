{
 "cells": [
  {
   "cell_type": "markdown",
   "metadata": {},
   "source": [
    "Expression of type <a class=\"ProveItLink\" href=\"../../../../../../../doc/html/api/proveit.logic.And.html\">And</a>\n",
    "=======================\n",
    "# from context <a class=\"ProveItLink\" href=\"../../_context_.ipynb\">proveit.logic.boolean.conjunction</a>"
   ]
  },
  {
   "cell_type": "code",
   "execution_count": 1,
   "metadata": {},
   "outputs": [],
   "source": [
    "# import Expression classes needed to build the expression\n",
    "from proveit._common_ import A, B, C, D, E, F, G\n",
    "from proveit.logic import And"
   ]
  },
  {
   "cell_type": "code",
   "execution_count": 2,
   "metadata": {},
   "outputs": [
    {
     "data": {
      "text/html": [
       "<strong id=\"expr\">expr:</strong> <a class=\"ProveItLink\" href=\"expr.ipynb\"><img src=\"data:image/png;base64,iVBORw0KGgoAAAANSUhEUgAAAP0AAAAPBAMAAADdQdTdAAAAMFBMVEX///92dnYQEBBERERUVFS6\n",
       "urqIiIhmZmaqqqrc3Nzu7u6YmJgyMjIiIiLMzMwAAACFkkdwAAAAAXRSTlMAQObYZgAAAt5JREFU\n",
       "OMullT1oU1EUx89r8/Vekpfi6pCiWzsYxc1KgqZ2iSaTjg0odWxwqSKagEM3DThURMgb/EDM8AZ1\n",
       "ULDBBqR+YASnDibYjEoTTMW0tfWec+/Ly0kEBwO5uf3d8z/nvvPxCoCf78A/T/eSyanMAHx4dMFe\n",
       "4uiCsFtpDLPUzjA78ZMz4/zMVT0n9x8Vu+scHgTwb3KmTQKcm6Stbjl2Ik7g14AWY9/4CzvGtfts\n",
       "8F6yaRusK/hGnZnirmaHMeODsNG6tA/lHLu2WPIW03rxOf3cnxftnjFteU0s0SLt7+Tlr3lc3cMn\n",
       "4gTbjIUm0M847dfXlF8f5mgjy7TaLtaK+9MwRzeZ9rXl1j07L2vtOZuVYFTECU8wli9g8uTlp+dU\n",
       "/NGWWEoJpg21QAOd+wttCfKiX+unqsl28lq3ZB3KUJP2kQToK1Y/06mjDOo1oxJW8SMxfP4E18bg\n",
       "pTp2WQ2eqDIqbamC62PaP1AphP1wWVptnJq7Jq/kMP+227ma7S8oO9QtjzHtbDXVBeD+ZnNwhWvz\n",
       "tusvAyWZ1xrck2S+CMZn6GfhrmsfBr2i7DAf6QzTRhugTvtY9fQ419aLPXdmMpmO0RhkwSOH+Qj6\n",
       "tvtZpEXZo9PnAGekNI7LAa4VszwGjQFmQQKYdk98L74/TOUHGKE7hS0wpVmnl1aHjVB82cKig5vS\n",
       "2w+Mss21ghWNLGe/wVD5drR06ShlTtQjTNlZFN9Vygi6TBf6mWcL/6IyBcQaKjqvCRiJMS2Nv2Zx\n",
       "1nZy3dOmLee1pxdoZpTtojP+suF7zHTdoj5AN/HhqE9ZTEvjvwScbTrxe1rsXBmijHOMT2fGqD/U\n",
       "+H99C4wtF8Are3hdtpYa/285boePYn4ZZsC1WLXmJ7G5fWgVgvEd4cWD1fCJe/njnWTqnXyDOAzM\n",
       "1Iwapmlc8C3ySNidvM7t7guWrNcYE3Zq+lwtNKsL9iv2D8mrhvFfLOMe/L/2D5i7+T3G1C0RAAAA\n",
       "AElFTkSuQmCC\n",
       "\" style=\"display:inline;vertical-align:middle;\" /></a><br>"
      ],
      "text/plain": [
       "expr: A and B and C and D and E and F and G"
      ]
     },
     "execution_count": 2,
     "metadata": {},
     "output_type": "execute_result"
    }
   ],
   "source": [
    "# build up the expression from sub-expressions\n",
    "expr = And(A, B, C, D, E, F, G)"
   ]
  },
  {
   "cell_type": "code",
   "execution_count": 3,
   "metadata": {},
   "outputs": [
    {
     "name": "stdout",
     "output_type": "stream",
     "text": [
      "Passed sanity check: built 'expr' is the same as the stored Expression.\n"
     ]
    }
   ],
   "source": [
    "# check that the built expression is the same as the stored expression\n",
    "%check_expr"
   ]
  },
  {
   "cell_type": "code",
   "execution_count": 4,
   "metadata": {},
   "outputs": [
    {
     "data": {
      "text/html": [
       "<table><tr><th>&nbsp;</th><th>core type</th><th>sub-expressions</th><th>expression</th></tr>\n",
       "<tr><td>0</td><td>Operation</td><td>operator:&nbsp;1<br>operands:&nbsp;2<br></td><td><a class=\"ProveItLink\" href=\"expr.ipynb\"><img src=\"data:image/png;base64,iVBORw0KGgoAAAANSUhEUgAAAP0AAAAPBAMAAADdQdTdAAAAMFBMVEX///92dnYQEBBERERUVFS6\n",
       "urqIiIhmZmaqqqrc3Nzu7u6YmJgyMjIiIiLMzMwAAACFkkdwAAAAAXRSTlMAQObYZgAAAt5JREFU\n",
       "OMullT1oU1EUx89r8/Vekpfi6pCiWzsYxc1KgqZ2iSaTjg0odWxwqSKagEM3DThURMgb/EDM8AZ1\n",
       "ULDBBqR+YASnDibYjEoTTMW0tfWec+/Ly0kEBwO5uf3d8z/nvvPxCoCf78A/T/eSyanMAHx4dMFe\n",
       "4uiCsFtpDLPUzjA78ZMz4/zMVT0n9x8Vu+scHgTwb3KmTQKcm6Stbjl2Ik7g14AWY9/4CzvGtfts\n",
       "8F6yaRusK/hGnZnirmaHMeODsNG6tA/lHLu2WPIW03rxOf3cnxftnjFteU0s0SLt7+Tlr3lc3cMn\n",
       "4gTbjIUm0M847dfXlF8f5mgjy7TaLtaK+9MwRzeZ9rXl1j07L2vtOZuVYFTECU8wli9g8uTlp+dU\n",
       "/NGWWEoJpg21QAOd+wttCfKiX+unqsl28lq3ZB3KUJP2kQToK1Y/06mjDOo1oxJW8SMxfP4E18bg\n",
       "pTp2WQ2eqDIqbamC62PaP1AphP1wWVptnJq7Jq/kMP+227ma7S8oO9QtjzHtbDXVBeD+ZnNwhWvz\n",
       "tusvAyWZ1xrck2S+CMZn6GfhrmsfBr2i7DAf6QzTRhugTvtY9fQ419aLPXdmMpmO0RhkwSOH+Qj6\n",
       "tvtZpEXZo9PnAGekNI7LAa4VszwGjQFmQQKYdk98L74/TOUHGKE7hS0wpVmnl1aHjVB82cKig5vS\n",
       "2w+Mss21ghWNLGe/wVD5drR06ShlTtQjTNlZFN9Vygi6TBf6mWcL/6IyBcQaKjqvCRiJMS2Nv2Zx\n",
       "1nZy3dOmLee1pxdoZpTtojP+suF7zHTdoj5AN/HhqE9ZTEvjvwScbTrxe1rsXBmijHOMT2fGqD/U\n",
       "+H99C4wtF8Are3hdtpYa/285boePYn4ZZsC1WLXmJ7G5fWgVgvEd4cWD1fCJe/njnWTqnXyDOAzM\n",
       "1Iwapmlc8C3ySNidvM7t7guWrNcYE3Zq+lwtNKsL9iv2D8mrhvFfLOMe/L/2D5i7+T3G1C0RAAAA\n",
       "AElFTkSuQmCC\n",
       "\" style=\"display:inline;vertical-align:middle;\" /></a></td></tr>\n",
       "<tr><td>1</td><td>Literal</td><td></td><td><a class=\"ProveItLink\" href=\"../76b5f4f4c45c0b6a9b59b297fc07dfa9555698f50/expr.ipynb\"><img src=\"data:image/png;base64,iVBORw0KGgoAAAANSUhEUgAAAAwAAAAOBAMAAADpk+DfAAAALVBMVEX///+qqqqYmJh2dnaIiIi6\n",
       "urpUVFQiIiJERETMzMxmZmYyMjLu7u7c3NwAAABvwqPxAAAAAXRSTlMAQObYZgAAAEtJREFUCNdj\n",
       "YGDgPcAAAtwLwNSMGjCV6gIieTawgyhmBS4BIMXOwLsBSKkwMGQCKaC6aQwMjEBd3BdACMScAVJd\n",
       "wJAKolwYAkAUKwAk0guX6efcigAAAABJRU5ErkJggg==\n",
       "\" style=\"display:inline;vertical-align:middle;\" /></a></td></tr>\n",
       "<tr><td>2</td><td>ExprTuple</td><td>3, 4, 5, 6, 7, 8, 9</td><td><a class=\"ProveItLink\" href=\"../47773b05aa47627e3f95ed192aba6f34d24fdf6f0/expr.ipynb\"><img src=\"data:image/png;base64,iVBORw0KGgoAAAANSUhEUgAAALMAAAAVBAMAAAD/f8IzAAAAMFBMVEX////c3NwiIiJERESqqqqY\n",
       "mJh2dnZmZmYQEBDu7u4yMjJUVFTMzMyIiIi6uroAAAAs73DqAAAAAXRSTlMAQObYZgAAArVJREFU\n",
       "OMu1VTuIE1EUvWOcZMfMTAIKC1psGkVBSBp/ICRgK+w0CoJoOrWQRMRPlwUtZIvNKIiL31iIugE3\n",
       "aKFkigTbFAlYbKGy0Uax2biuC9norve+z8zLwnQmMC/3vHvPnffOOy8BGOHH7oyi6xkaWjx+Lyf1\n",
       "xsB780oi48PbK1qRhRYm6kdl4uOG59XXFPDur8qINTF8yWfm/ReOZQBKXQHOO2Bfd3icqABM5mQZ\n",
       "tT2mggNDDKy1uB562pVlbZxp13h8fx8OhaRI5AFifakjLTImwarUwGecxDXyljtKSdl6EaOzeR6/\n",
       "oOx3mcCtmGLbEP2DwyMJVnA4HjBQ3VmAHzzZWZQSwGF89vIXxogC4yKRxUcbCLCtB1HQJOhjeGqI\n",
       "EcnBVb4jd9KRrZG88wgPJyo0PhSJX/iYsnUiAyf840mk4K7KuI0bKcIzNvOYKcw+5uDzwm4RlxzF\n",
       "T0wLfVWgpWr9p59aKsKlTYytFZhhQRcmimLOQsYdcYrppNLaInXj6wIVmlDxU4Xq66lNDHsKWKnp\n",
       "eY2MmItgkfWbxxtsFN6J9MiZogWZNQ9NCVyoBYyFuYPYssdb28iRa0jUgm2X2daavrpoHScQPmlI\n",
       "EZfBEPO32Ca6rPVNivEebJHLaWNRfIXHDVcxLzuNG6qto65ia4UxzwWhO6TlmJn4zsnWdM6u7HZB\n",
       "JnD1Eby7hm/rcQnWfeGIodHd1Ctwjm4QKdkHY1nY2px2OdBx9d+SIoG2Np/j95MUtzWY+xUAgoGn\n",
       "1NoDzHxfAbaXn4KeXSsaZVzwZfylmUNNGIBW9VqOxwYlDpHss2ihB9mB56VTHNzLDsh6PsM5Ta/r\n",
       "wpjiL1v1mh2WgC8hYKgKL7qeD6CucvSQGMAJAUNVF4Mf1f/c2iAv7wrw0P9NJyQGKwyoVXESRxvJ\n",
       "H9gngH+n1Nst3akSxAAAAABJRU5ErkJggg==\n",
       "\" style=\"display:inline;vertical-align:middle;\" /></a></td></tr>\n",
       "<tr><td>3</td><td>Variable</td><td></td><td><a class=\"ProveItLink\" href=\"../../../../../__pv_it/2cbe72a7ad6f655694dd697106680215e8489b600/expr.ipynb\"><img src=\"data:image/png;base64,iVBORw0KGgoAAAANSUhEUgAAAA8AAAAOBAMAAAACpFvcAAAALVBMVEX///8QEBBERERUVFS6urqI\n",
       "iIhmZmaqqqrc3Nzu7u6YmJgyMjIiIiLMzMwAAADtIaYWAAAAAXRSTlMAQObYZgAAAFtJREFUCNdj\n",
       "YACBOwxQsA9Kc52bAGG05zVAGAFxDmCaZULdAjBjCsO9ADDDgaEvAUTzGhvbKYCVMDAwbgAxChgY\n",
       "eASANAeQwf0AyJgNxEwvGRia5HYwcOm9TgAA6BoR3jrzwFcAAAAASUVORK5CYII=\n",
       "\" style=\"display:inline;vertical-align:middle;\" /></a></td></tr>\n",
       "<tr><td>4</td><td>Variable</td><td></td><td><a class=\"ProveItLink\" href=\"../../../../../__pv_it/077b2ff79244fb4582cbe22c6e3356fa92a52f2f0/expr.ipynb\"><img src=\"data:image/png;base64,iVBORw0KGgoAAAANSUhEUgAAABAAAAAOBAMAAADUAYG5AAAAMFBMVEX///+qqqru7u4iIiJ2dnbc\n",
       "3NyIiIjMzMxmZmYQEBC6uroyMjJERERUVFSYmJgAAADLUcuvAAAAAXRSTlMAQObYZgAAAGpJREFU\n",
       "CNdjYGB4+//u3dMLGIBgDgMDxy8gzf4NiP8CGWxfGRj4vgAZPBMYGJgnARn8FxhY9ygAGfXX0pof\n",
       "gDTlBzAw2YIYJ0EckBBI53sHoBH/gIz7AhBjWH9DjancBLTl/N+7t/cxMAAA3u4f/5xagjYAAAAA\n",
       "SUVORK5CYII=\n",
       "\" style=\"display:inline;vertical-align:middle;\" /></a></td></tr>\n",
       "<tr><td>5</td><td>Variable</td><td></td><td><a class=\"ProveItLink\" href=\"../../../../../__pv_it/985a1bdf1540838275dec15f4ad6de261cca93ce0/expr.ipynb\"><img src=\"data:image/png;base64,iVBORw0KGgoAAAANSUhEUgAAAA8AAAAOBAMAAAACpFvcAAAAMFBMVEX////MzMyqqqoiIiIyMjK6\n",
       "uroQEBB2dnbc3NyYmJhmZmZUVFRERESIiIju7u4AAAB204erAAAAAXRSTlMAQObYZgAAAGZJREFU\n",
       "CNdjYGDgu7NrJccCBgaGsgkMrMsmMDA8sQNy6hsYGNweABlhDAxcn4A0QxcDQ78DiPGQgWH9BAYI\n",
       "sG+AMv6DSaCGfBDNJMDAsB+kmwuI5S8AiTog5gSaEwXWIO29SgFIAQBC+RaDQlidVgAAAABJRU5E\n",
       "rkJggg==\n",
       "\" style=\"display:inline;vertical-align:middle;\" /></a></td></tr>\n",
       "<tr><td>6</td><td>Variable</td><td></td><td><a class=\"ProveItLink\" href=\"../../../../../__pv_it/185e6d30f167ee2ee5ef3321098dc98e0d77bc590/expr.ipynb\"><img src=\"data:image/png;base64,iVBORw0KGgoAAAANSUhEUgAAABEAAAAOBAMAAAA7w+qHAAAALVBMVEX///8QEBCYmJjc3Ny6urru\n",
       "7u5mZmZ2dnaqqqrMzMxEREQyMjJUVFSIiIgAAABETr/8AAAAAXRSTlMAQObYZgAAAGpJREFUCNdj\n",
       "YGC48+7MmV0TGEDgNQMDxwsQg/M5kMgLABK8T4DEvAtAgusBkLA7ACT4FoDEDsAk9AqAxD2QCecc\n",
       "gMQ6kAGCIOIVEDM9Ahn3FkgwgnTxvgQSqwOgxs1OADLC1r05cyoTyAAAv4Qe+njAWvgAAAAASUVO\n",
       "RK5CYII=\n",
       "\" style=\"display:inline;vertical-align:middle;\" /></a></td></tr>\n",
       "<tr><td>7</td><td>Variable</td><td></td><td><a class=\"ProveItLink\" href=\"../../../../../__pv_it/9995c55100c62d7d8a012a35bafc852acbe03cf00/expr.ipynb\"><img src=\"data:image/png;base64,iVBORw0KGgoAAAANSUhEUgAAABAAAAAOBAMAAADUAYG5AAAALVBMVEX///8iIiKYmJjc3Nzu7u7M\n",
       "zMx2dnZmZma6urpERESqqqoyMjJUVFSIiIgAAACbLqVTAAAAAXRSTlMAQObYZgAAAGVJREFUCNdj\n",
       "YGC48+7MmdOvGYAARKwEYo63QIIdiNmeAglfIOZ+wMDGwAxk8E1gUAIpZejbc/oxmJEXwLABzNjH\n",
       "wJDAEABkvGRgMGC5ADWGzQFqjDnEGAZWUQYGn3lvzpyRE2AAAIznGVQJqiN4AAAAAElFTkSuQmCC\n",
       "\" style=\"display:inline;vertical-align:middle;\" /></a></td></tr>\n",
       "<tr><td>8</td><td>Variable</td><td></td><td><a class=\"ProveItLink\" href=\"../../../../../__pv_it/6d1586c49fb5fd7602fde2bbc54560e7304e8ccf0/expr.ipynb\"><img src=\"data:image/png;base64,iVBORw0KGgoAAAANSUhEUgAAABAAAAAOBAMAAADUAYG5AAAAMFBMVEX///9mZmYiIiLc3Nzu7u7M\n",
       "zMyqqqp2dna6urqYmJhEREQyMjIQEBBUVFSIiIgAAABBzvKsAAAAAXRSTlMAQObYZgAAAFxJREFU\n",
       "CNdjYGB4+//u3Tv/GIDgNxCvBGKO70BiBhCzfwMSqUDM/YWBmWEKkMGvwOAJUsrQL8AgDGbU7710\n",
       "AMzY78BwAcz4xMAygQFmDAiw/4AyuD9AaMf1f8GaAdy+F/r2qjhkAAAAAElFTkSuQmCC\n",
       "\" style=\"display:inline;vertical-align:middle;\" /></a></td></tr>\n",
       "<tr><td>9</td><td>Variable</td><td></td><td><a class=\"ProveItLink\" href=\"../../../../../__pv_it/994260d00d104a1ab9cf940a007fb6a4ff36f79e0/expr.ipynb\"><img src=\"data:image/png;base64,iVBORw0KGgoAAAANSUhEUgAAAA8AAAAOBAMAAAACpFvcAAAAMFBMVEX///+qqqrMzMwiIiIyMjK6\n",
       "uroQEBB2dnbc3NyYmJhmZmZUVFRERESIiIju7u4AAACtjd3MAAAAAXRSTlMAQObYZgAAAG5JREFU\n",
       "CNdjYGDgu7NrJccCBgaGsgkMrMsmMDA8sQNy6hsYGNweABnKDAxcH4E0QxcDQ78DiPGCgWH9BAYI\n",
       "sG+AMv4D8S2X4wwMaSBefQADw36Qbn8g1r/AwMDxBcjg/MnAoG0Oktf2XjVhEgMDAJHQGYM57+uu\n",
       "AAAAAElFTkSuQmCC\n",
       "\" style=\"display:inline;vertical-align:middle;\" /></a></td></tr>\n",
       "</table>\n"
      ],
      "text/plain": [
       "0. A and B and C and D and E and F and G\n",
       "   core type: Operation\n",
       "   operator: 1\n",
       "   operands: 2\n",
       "1. and\n",
       "   core type: Literal\n",
       "   sub-expressions: \n",
       "2. (A , B , C , D , E , F , G)\n",
       "   core type: ExprTuple\n",
       "   sub-expressions: 3, 4, 5, 6, 7, 8, 9\n",
       "3. A\n",
       "   core type: Variable\n",
       "   sub-expressions: \n",
       "4. B\n",
       "   core type: Variable\n",
       "   sub-expressions: \n",
       "5. C\n",
       "   core type: Variable\n",
       "   sub-expressions: \n",
       "6. D\n",
       "   core type: Variable\n",
       "   sub-expressions: \n",
       "7. E\n",
       "   core type: Variable\n",
       "   sub-expressions: \n",
       "8. F\n",
       "   core type: Variable\n",
       "   sub-expressions: \n",
       "9. G\n",
       "   core type: Variable\n",
       "   sub-expressions: "
      ]
     },
     "execution_count": 4,
     "metadata": {},
     "output_type": "execute_result"
    }
   ],
   "source": [
    "# display the expression information\n",
    "expr.exprInfo()"
   ]
  },
  {
   "cell_type": "code",
   "execution_count": null,
   "metadata": {},
   "outputs": [],
   "source": []
  }
 ],
 "metadata": {
  "kernelspec": {
   "display_name": "Python 3",
   "language": "python",
   "name": "python3"
  }
 },
 "nbformat": 4,
 "nbformat_minor": 0
}
