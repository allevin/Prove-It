{
 "cells": [
  {
   "cell_type": "markdown",
   "metadata": {},
   "source": [
    "Show the Proof\n",
    "========"
   ]
  },
  {
   "cell_type": "code",
   "execution_count": 1,
   "metadata": {},
   "outputs": [
    {
     "data": {
      "text/html": [
       "<table><tr><th>&nbsp;</th><th>step type</th><th>requirements</th><th>statement</th></tr>\n",
       "<tr><td>0</td><td>assumption</td><td></td><td><span style=\"font-size:20px;\"><a class=\"ProveItLink\" href=\"../982750f92fa82ca17ae9cdb7ed194989bd70715f0/expr.ipynb\"><img src=\"data:image/png;base64,iVBORw0KGgoAAAANSUhEUgAAAO0AAAAVBAMAAABYonTIAAAAMFBMVEX////c3NxERESqqqpUVFS6\n",
       "urrMzMwyMjIQEBCIiIh2dnYiIiLu7u5mZmaYmJgAAABXZE4RAAAAAXRSTlMAQObYZgAAAxZJREFU\n",
       "SMe9Vj1oFEEUfnuX+9+9LGhjIRYpkspcl0qIcEYsJNd5osIRrkh3hxiwOPU0RBtBsRBS5cAmiodX\n",
       "WPgTMJWXMpWKwXiIEoyFf3cERT3nvZndfTtzxM6Bb2Z25pvvzbyZN7MAkN2E/5ri91ws7Ceh1pMK\n",
       "ofRBb4jd1BqyBZ1iiCCFaPF5/Ex9CU1mUoK1tACckqZRDqrv+/n8aAFe6KtiIvat45vWOlGI9hKz\n",
       "dJ3TE6sSrAXnVcUaLSlOjTVGuCLm1YMEhClcZLkDsVcdohBt2bS7qBCkT79Eto21KY8AKebm+A+B\n",
       "LmQbYQoTaa+I7IFLFKINsHtdwU/Woa8iX8PqDGaoAUm2mJToz/4Eux6mMJHzyC4CUYhm2o1VJZhs\n",
       "qifySA59JM5hdB0bTzBCRIzPCCsjwClMxPmO+X6QlJGBdp2GRJBOR/8gCbVQMEEx8JoRhifBOitW\n",
       "1AROYSIHaArPQVKanl2HLy/RkQiOYgH3D6JV5UByJFxkjMqxxQ0cMQGcwkTe+tUJhc/4MSvOoPMU\n",
       "k5hisiCxgd8Y2DGwfmNRV2flCAkssCFLLtgP5QYyChN55np2iwoJ4ZXyVR5xwwUJP0jL+fw37KMg\n",
       "z4AtndNjQ8ZEuSSWVAFOYSJ9KvFsVRRgVPCLpd3sivo1366TS3cMu110XMOz61GYyA3a+BKzm8HN\n",
       "H6oykWROwrMbFcUj389WNSN75oMhcTx20znPzx6FiUzjUh3uZ9rfdIvZjXQkPLt7RHEJ71Y5uamP\n",
       "sudgMATD19oR9S3gFCZSwUvmPijKlhlHJRkvFDPyvqO9Gl/122ZWZE8zGILhO1sL2hSFiWRF/J5x\n",
       "QY+j8L3RklB31diOC+/6F8QJlNuVUGqngoAf7+aPUljNAacEImLJ595Ir88pDLgnLytoaU1NXt2P\n",
       "Sddg2PUwZYDILvckPQDb5pC72lPaMBhp7UUeIIIUopHd7D/eQZppVWuoGaJt7dsUIUrbf3/tx6Hn\n",
       "Z1IinIZ0v+41RA9r36YIURDxBem0O7xzn0Io3dYbLP0/J6X/kZgiSEHQ/9VfPwbmC1rh1Z4AAAAA\n",
       "SUVORK5CYII=\n",
       "\" style=\"display:inline;vertical-align:middle;\" /></a> <a class=\"ProveItLink\" href=\"proof.ipynb\" style=\"text-decoration: none\">&#x22A2;&nbsp;</a><a class=\"ProveItLink\" href=\"../46a477e32b297c83799ba878a4bc9ae8b1c3625c0/expr.ipynb\"><img src=\"data:image/png;base64,iVBORw0KGgoAAAANSUhEUgAAANcAAAAVBAMAAAAnc2Y5AAAAMFBMVEX////c3NxERESqqqqYmJgQ\n",
       "EBDu7u4yMjKIiIi6urpUVFTMzMx2dnYiIiJmZmYAAABjE816AAAAAXRSTlMAQObYZgAAAs5JREFU\n",
       "SMfFlTtoFEEYx787927vdu8RtIhYGMFHIYjXWQh6nQgHOVEUK7cJ0ULYgCgp1CsDgtlGtImcNsIW\n",
       "5gpJIchdYZEqpNDO4GlKH2dQEj0E/b557Dx2sfWD/+3NzG/+M/vNYwH+T5Q7XEY4kY09sivOZhml\n",
       "ERN7KaTiFeqT1c/vqoksj+On81DrWYhucvXo1+Z+hpjYTSEVd1EumysrMtoNVHvhAMAogtBCNJPK\n",
       "BYDHKEJCzbnU4dJS+B6NnQH+83ogGxc0oI81/S60wEA0k+JtdKhsAUNaWs9CwKViz2gC+TblDl8B\n",
       "qqzxogYsYvv0AGbAQDQTl+gyOhAyo/V8KKSis0i74yD9nUOdYtnSk3EY9TaAfMNANJMRteSGwBCO\n",
       "8fgspDZVcLqJjzUQLuQGtYFGjAEmj2CehgaiTHI7LJc9jnCMxw2hJK6xNYETwPPD8gRuU9uY44X7\n",
       "b/C5KzQQZVL7If8RgvqygfEOy5e5alTeoPlHMEVzeSB2j8dOXAF/ZZcSrvz1Ll8UDVEm1a0kS22J\n",
       "8ZPxS0geJj+Ol2mmfVazDrPsWY/UYcpj7xJO3v9mIMqkzhqKwBGBZQ6GB6cQJoNtwuvUYHWknN+J\n",
       "i0SUSYE1nMwY7LyQHAz3TrUt0wiTOHGWxoYarI/r531P8iMRZeJt03OYkcZDQmKwHLq6NJczrMZ7\n",
       "wY9qvqkGo2M2hS/vhAaiTPyfdInQsXMUBr7Y4mtyQXss//ntpM4/xo9qsn99dsz8S0FSJxHNZLoB\n",
       "5Q+ym771l4R47L4yB87xHWyf5xV3xLZaT5CPf+L4Fr2oGxnIknY4nj3f5FdJpDC2GhNcVhRFpldE\n",
       "+Vz62yTvoRVllIXo1xXduM4ghVWsj1Mr7bRqfQIH2cjqvz8xFLNW2Q1S7x5aFWkTQkxsn5AZT6xy\n",
       "rmsTnp22tAkhJpbrcBlRsj/DsNeuuGdXpEwYgvoLnCPRSh2aeaYAAAAASUVORK5CYII=\n",
       "\" style=\"display:inline;vertical-align:middle;\" /></a></span></td></tr>\n",
       "</table>"
      ],
      "text/plain": [
       "<proveit._core_.proof._ShowProof at 0x7f94e7632320>"
      ]
     },
     "execution_count": 1,
     "metadata": {},
     "output_type": "execute_result"
    }
   ],
   "source": [
    "import proveit\n",
    "%show_proof"
   ]
  },
  {
   "cell_type": "code",
   "execution_count": null,
   "metadata": {},
   "outputs": [],
   "source": []
  }
 ],
 "metadata": {
  "kernelspec": {
   "display_name": "Python 3",
   "language": "python",
   "name": "python3"
  }
 },
 "nbformat": 4,
 "nbformat_minor": 0
}
