{
 "cells": [
  {
   "cell_type": "markdown",
   "metadata": {},
   "source": [
    "Expression of type <a class=\"ProveItLink\" href=\"../../../../../../../doc/html/api/proveit.logic.Set.html\">Set</a>\n",
    "=======================\n",
    "# from context <a class=\"ProveItLink\" href=\"../../_context_.ipynb\">proveit.logic.boolean.conjunction</a>"
   ]
  },
  {
   "cell_type": "code",
   "execution_count": 1,
   "metadata": {},
   "outputs": [],
   "source": [
    "# import Expression classes needed to build the expression\n",
    "from proveit._common_ import A, B, C, D, E\n",
    "from proveit.logic import And, Set"
   ]
  },
  {
   "cell_type": "code",
   "execution_count": 2,
   "metadata": {},
   "outputs": [
    {
     "data": {
      "text/html": [
       "<strong id=\"expr\">expr:</strong> <a class=\"ProveItLink\" href=\"expr.ipynb\"><img src=\"data:image/png;base64,iVBORw0KGgoAAAANSUhEUgAAAMEAAAAVBAMAAAANw5eWAAAAMFBMVEX///9ERETc3NyqqqpUVFS6\n",
       "urrMzMwyMjIQEBCIiIh2dnYiIiLu7u5mZmaYmJgAAABJJ2g3AAAAAXRSTlMAQObYZgAAAmpJREFU\n",
       "SMe1lTFs01AQhi9O4tSOnTIg2gUlEnOlsLAhOrhEDKgZGUCkUoZuNRIbFIIQsFRVB5ZOjcSCWMiA\n",
       "UIuQyMDCFmBgQICRWBASoVVKRFVa7u75Je8sxvpJjuPv/efz/b73DAClz5DSsJ9U6OS9gNSGfZd+\n",
       "nV/xVScx/e0wCKbqCfjm+KdoRhBnfhDUTiRkDzG2NgT4QBduS8FCnMnqatkdAH9XMncV4MqqZJMh\n",
       "wLlqIhbvDqcBHpsZfuzHmXq6xD94DATzbuAt3B2pW2rjk+xLlsdY8GUG66wKhIWXunwEpT3BCisU\n",
       "3ZK6jbp6GpO5v8lRmcFxlCEwtx6rMjhRXBHsC5lh9aSuTGwgGVrugiUzXM4eKCPCovZ3FqxrXZNZ\n",
       "Q75qSN02aDeN2GPwk86cwQ95sh4X6kZ+Nfb3wvrHSDD/YNwtIx3HKTfHsVev19j0Pv0sckPmwfrL\n",
       "c0WwwtjfCnjPBCvujDOMdA5ZntuVsU8bEOpX37zPqBkE2/znO8B5pZqmLJHJJrmhPanLEJxoydjb\n",
       "AG0gN6fwBpfYVizkAc9hNzSViqztt002wRnOSB1ajrpIxuLTVrw1rIric1ROFo9NmspiWQXeTWwy\n",
       "fb5qshx3fU/qltbU4jQZLwe3G78Hl3aLU6oypcj29HJQzTNitg40dRvoQeamZLwcZsDoVo/qKFPo\n",
       "AqGOXg6LHDlm/Srk34FkuBzs5QSjHch+bmSwpocV+HpIujlCtG78Mm5ot9Q60gzs2sX3IJj3Fve4\n",
       "kw2pe42xwasOJPYlNeLWhSNi/8lwxIMzlNLMwN8HbyvFb9w9PpUepfqd/gf0Y8GHWbh5tAAAAABJ\n",
       "RU5ErkJggg==\n",
       "\" style=\"display:inline;vertical-align:middle;\" /></a><br>"
      ],
      "text/plain": [
       "expr: {A and B and C and D and E}"
      ]
     },
     "execution_count": 2,
     "metadata": {},
     "output_type": "execute_result"
    }
   ],
   "source": [
    "# build up the expression from sub-expressions\n",
    "expr = Set(And(A, B, C, D, E))"
   ]
  },
  {
   "cell_type": "code",
   "execution_count": 3,
   "metadata": {},
   "outputs": [
    {
     "name": "stdout",
     "output_type": "stream",
     "text": [
      "Passed sanity check: built 'expr' is the same as the stored Expression.\n"
     ]
    }
   ],
   "source": [
    "# check that the built expression is the same as the stored expression\n",
    "%check_expr"
   ]
  },
  {
   "cell_type": "code",
   "execution_count": 4,
   "metadata": {},
   "outputs": [
    {
     "data": {
      "text/html": [
       "<table><tr><th>&nbsp;</th><th>core type</th><th>sub-expressions</th><th>expression</th></tr>\n",
       "<tr><td>0</td><td>Operation</td><td>operator:&nbsp;1<br>operands:&nbsp;2<br></td><td><a class=\"ProveItLink\" href=\"expr.ipynb\"><img src=\"data:image/png;base64,iVBORw0KGgoAAAANSUhEUgAAAMEAAAAVBAMAAAANw5eWAAAAMFBMVEX///9ERETc3NyqqqpUVFS6\n",
       "urrMzMwyMjIQEBCIiIh2dnYiIiLu7u5mZmaYmJgAAABJJ2g3AAAAAXRSTlMAQObYZgAAAmpJREFU\n",
       "SMe1lTFs01AQhi9O4tSOnTIg2gUlEnOlsLAhOrhEDKgZGUCkUoZuNRIbFIIQsFRVB5ZOjcSCWMiA\n",
       "UIuQyMDCFmBgQICRWBASoVVKRFVa7u75Je8sxvpJjuPv/efz/b73DAClz5DSsJ9U6OS9gNSGfZd+\n",
       "nV/xVScx/e0wCKbqCfjm+KdoRhBnfhDUTiRkDzG2NgT4QBduS8FCnMnqatkdAH9XMncV4MqqZJMh\n",
       "wLlqIhbvDqcBHpsZfuzHmXq6xD94DATzbuAt3B2pW2rjk+xLlsdY8GUG66wKhIWXunwEpT3BCisU\n",
       "3ZK6jbp6GpO5v8lRmcFxlCEwtx6rMjhRXBHsC5lh9aSuTGwgGVrugiUzXM4eKCPCovZ3FqxrXZNZ\n",
       "Q75qSN02aDeN2GPwk86cwQ95sh4X6kZ+Nfb3wvrHSDD/YNwtIx3HKTfHsVev19j0Pv0sckPmwfrL\n",
       "c0WwwtjfCnjPBCvujDOMdA5ZntuVsU8bEOpX37zPqBkE2/znO8B5pZqmLJHJJrmhPanLEJxoydjb\n",
       "AG0gN6fwBpfYVizkAc9hNzSViqztt002wRnOSB1ajrpIxuLTVrw1rIric1ROFo9NmspiWQXeTWwy\n",
       "fb5qshx3fU/qltbU4jQZLwe3G78Hl3aLU6oypcj29HJQzTNitg40dRvoQeamZLwcZsDoVo/qKFPo\n",
       "AqGOXg6LHDlm/Srk34FkuBzs5QSjHch+bmSwpocV+HpIujlCtG78Mm5ot9Q60gzs2sX3IJj3Fve4\n",
       "kw2pe42xwasOJPYlNeLWhSNi/8lwxIMzlNLMwN8HbyvFb9w9PpUepfqd/gf0Y8GHWbh5tAAAAABJ\n",
       "RU5ErkJggg==\n",
       "\" style=\"display:inline;vertical-align:middle;\" /></a></td></tr>\n",
       "<tr><td>1</td><td>Literal</td><td></td><td><a class=\"ProveItLink\" href=\"../../../../set_theory/enumeration/__pv_it/07381ed5b23806e8d7914b78cb6667769e3708dd0/expr.ipynb\"><img src=\"data:image/png;base64,iVBORw0KGgoAAAANSUhEUgAAAB4AAAAOBAMAAADKyLEKAAAAMFBMVEX///8iIiIQEBCIiIjMzMzc\n",
       "3Nyqqqp2dnZEREQyMjK6urru7u5mZmZUVFSYmJgAAACI6eGPAAAAAXRSTlMAQObYZgAAALRJREFU\n",
       "CNdjYGDgu3Nm3wIGBJjHwN0PZW5yYGDgLWBgyITy8zcwMMQDxZyh/INAvD6BgcEFypcB4vjPDiBm\n",
       "TPFRrhs/LjMwMP//38rAwCbKEMPA9gEkE3fp0waG+AUMRxh4JkC01T9guPTOOICBEWgVH5C//wHD\n",
       "H5D4fqCz9oCMDGD4DLaegRXslLMMDMpAgxlOMmQxHDRgYG5gYLBk4D7KcIe7gOHC2rt9QCXsh40Z\n",
       "GCKMGQDRkC8N/Ph1XAAAAABJRU5ErkJggg==\n",
       "\" style=\"display:inline;vertical-align:middle;\" /></a></td></tr>\n",
       "<tr><td>2</td><td>ExprTuple</td><td>3</td><td><a class=\"ProveItLink\" href=\"../fb29fb7be17044dbc0bdd48739608bc75d2b62bd0/expr.ipynb\"><img src=\"data:image/png;base64,iVBORw0KGgoAAAANSUhEUgAAALsAAAAVBAMAAADsqILHAAAAMFBMVEX////c3NwiIiJERESqqqqY\n",
       "mJh2dnZmZmYQEBDu7u4yMjJUVFTMzMyIiIi6uroAAAAs73DqAAAAAXRSTlMAQObYZgAAAnZJREFU\n",
       "OMu1lT1oU1EUx/9p8pKmefkABbEO6SLo1CAI6pJsHc3kqFlEHaQBtToIyeAgDu3DRSkqKSJ+gQl2\n",
       "cHhDQkc7JODgoJLgoghiaj/ApLaec+9NXk5m34OcvPzuOefd93//nAf4fCRafnU+z2Fdn6+NrVn1\n",
       "vrv6ZgxGP7y7ESgK9GnfdZ82ZFqcat1qJcL4pUZVs3R4kDOZAUodyS7nkbiVl6wHhLbGapMVghlQ\n",
       "jGttrFlHrzwfpDRpoVkTbPk4hfmUYPYOhZIja39x0yLO0Sb1ysGSrrJPmMugTeBCQbAX/P1d5sX3\n",
       "zFZGa+dJlmgLD4EfGrTaWofYz8GTPkWfY84oiygNDsm8YJdCuiZrSekCUgjmsKDt45zVki5jxqT0\n",
       "genTgqUrHB/JvGQGAxG92k1Y3C5cxDP1+4m5P1zEdaNp/8vHoxCslPfMMcxTdVrEIUv03CprHapg\n",
       "UYEO0tpvM5g2mm4A92uCzaa89sO8Nruv3hEsvIspdZky9tRWXbeeUQZqIaZNHCzTJbYF21cLjszL\n",
       "crgr2VQXYdjUtqvbJ8hBStgJB7becpK+rB3BljiEGjJvkxtvj9VmEMBj1f4O/87RYplP5uizojUl\n",
       "oWNbgtV54xEIZv81/8DRWmX7K0qck3QWyKkbMstzQ9trqwxZ01SNsvguhTOOrGXb8+ywKrikHEVa\n",
       "/+G98DYmBra37zmCWXQz39Tj9Rjb/n1RMjVg1hrKmF+BA0srsLI9SoqxA9SYuEaT6pUyosew/vpm\n",
       "DoI9yNLguy1ZdJVq3/7mR9zBZGp0OBuX4v8wGgpWwb9XyVVvIPtwRNkZR3xrH2PdA769DD8D/wA3\n",
       "rc8ufPe7gAAAAABJRU5ErkJggg==\n",
       "\" style=\"display:inline;vertical-align:middle;\" /></a></td></tr>\n",
       "<tr><td>3</td><td>Operation</td><td>operator:&nbsp;4<br>operands:&nbsp;5<br></td><td><a class=\"ProveItLink\" href=\"../1a27c112d3464a260e006cec570f79882f78d7300/expr.ipynb\"><img src=\"data:image/png;base64,iVBORw0KGgoAAAANSUhEUgAAAK8AAAAPBAMAAABgoIKoAAAAMFBMVEX///92dnYQEBBERERUVFS6\n",
       "urqIiIhmZmaqqqrc3Nzu7u6YmJgyMjIiIiLMzMwAAACFkkdwAAAAAXRSTlMAQObYZgAAAhNJREFU\n",
       "OMutlM9LG0EUx79qEpOsbsSjHiI9FxI8SksCLngqCR7q0YClPUb0YKHQ5OaxQg+VEsheqpdY8h8o\n",
       "tqUIhQSPetCDx4qRpEVNTPrezGQ3L+cuzOzu5/3YN995OwBf15CXlWk5iz+GYHRt6V1kXaBXPcf5\n",
       "dindQhTr1I70S83Az33raBIoZCWbriK4UZWsA4TvhmJjlDSc1AVeuJr97BtvcjTSglXOaIrvCGbf\n",
       "0lRwZewqxUKvbLeg/e3n5gPIEzicEuyY78vSL/THFDEYGydtooohl9erDrzMGeM8jVN3kI2rFX+S\n",
       "fmMNmsppGUu6TkFVGnQ/aOkqqBtjCygtCFZW2/FV+sVYSi2ZH9uEpdPhi1kNZvHWaNd6/eYcghWq\n",
       "/sZ7fipOS+axYMepaWWRRVlrXUfJaHcPHKQFu9jxE3t+eW61TFawkS4mTHmOk1HdYeUQ0E05NkfJ\n",
       "24L1lMGVfimenkg20cAIbFU7ta0ScNKFrcuM0c26FSzBU/hS+jU5ZXsoNokI9vipSHiOH7ZpnGjt\n",
       "SNDAnWAZLnYcgtl/zb80GKvaeIZGpKjKN4Ztr411G3jspu8/wEJdmp65MpbbWP35Fdb0gb/Pn57s\n",
       "t7H91BXMogWsqA30Gbfx73XJ1PFwTck/Jk5gpTpkDvDuhriwTTpbfqn28hmuvm8VIdh+io6q95JF\n",
       "Fyn2xaM4loKm9/4P+wd88a4pVNlNhQAAAABJRU5ErkJggg==\n",
       "\" style=\"display:inline;vertical-align:middle;\" /></a></td></tr>\n",
       "<tr><td>4</td><td>Literal</td><td></td><td><a class=\"ProveItLink\" href=\"../76b5f4f4c45c0b6a9b59b297fc07dfa9555698f50/expr.ipynb\"><img src=\"data:image/png;base64,iVBORw0KGgoAAAANSUhEUgAAAAwAAAAOBAMAAADpk+DfAAAALVBMVEX///+qqqqYmJh2dnaIiIi6\n",
       "urpUVFQiIiJERETMzMxmZmYyMjLu7u7c3NwAAABvwqPxAAAAAXRSTlMAQObYZgAAAEtJREFUCNdj\n",
       "YGDgPcAAAtwLwNSMGjCV6gIieTawgyhmBS4BIMXOwLsBSKkwMGQCKaC6aQwMjEBd3BdACMScAVJd\n",
       "wJAKolwYAkAUKwAk0guX6efcigAAAABJRU5ErkJggg==\n",
       "\" style=\"display:inline;vertical-align:middle;\" /></a></td></tr>\n",
       "<tr><td>5</td><td>ExprTuple</td><td>6, 7, 8, 9, 10</td><td><a class=\"ProveItLink\" href=\"../48b8758d7ce008e3b0e47a1b73432346514090220/expr.ipynb\"><img src=\"data:image/png;base64,iVBORw0KGgoAAAANSUhEUgAAAIMAAAAVBAMAAACXjEALAAAAMFBMVEX////c3NwiIiJERESqqqqY\n",
       "mJh2dnZmZmYQEBDu7u4yMjJUVFTMzMyIiIi6uroAAAAs73DqAAAAAXRSTlMAQObYZgAAAkJJREFU\n",
       "OMutVDtvE0EQ/ky8ds6xj5NAQoLCNEhQxQ0S0Nj/AFeU4A5SoJyEeBRIdkGBKPCJhijicQgh8ZAw\n",
       "IgXFFbZSkiKWKCgA2dCAaDCPRMIOCTO7O75L4YZgyaPvm9mdnW9n9oD/8HO7O9l9ms2KwcviVO1R\n",
       "tPRcmPPm1cWUb/C7rSh62LGBAi2LWmGW+RPjao0TT5eAet+Sc1W4V6qWDIH0L1m2OyRWAtmC0aFm\n",
       "A4mtkmf1hcGLR8jMe4bk18nUZd033ujjFJ1pXHvrnqToETpTM/gxR79I7Zv2AP2bJwlOFwvAV+Po\n",
       "9qR0HKP/YZM4q8veZwNTAzJFWx8rr8HDVAWXTFuCkyIYI2D/cQOLIds7or6EWCJ+QvGWjI9Hmt+L\n",
       "C8yPPrw9ZHG9mmygXiIS3WHUYu3pEDe1o4+iL4q/A7fsUbNeMkWPG9i2gjMbyOlUDWzqk6OoXRLF\n",
       "DUqzZvCWttKDMpvrluQGyCBPWwcmhUudCUUxVaDWDW6ySXfG6imyFl9MCnd1imvMK8Cuhigm/TN2\n",
       "gNpcQFYu6Y+du3gs5rSQo4RSFV2YqZjHgjsRyAXO2UBhg8yJAM54LHjyVYizPIN8Bb/h/LBjkb8R\n",
       "GKKoms+eDfBYvKZN9w/Kg1ju6KZ+AvY0H0CVh77TpAIu0Ft6Slo0wcqzyxWLb5fp+V0l3wK1zFmi\n",
       "ZS85c66P6UTf3GQP3UkBfEwSGnBVi6lKxtQEDGybt/PxY//HFA7PwoGYb/t+dSdgFJJkhiWmdvTh\n",
       "ew/8BQ43qTqeMmcWAAAAAElFTkSuQmCC\n",
       "\" style=\"display:inline;vertical-align:middle;\" /></a></td></tr>\n",
       "<tr><td>6</td><td>Variable</td><td></td><td><a class=\"ProveItLink\" href=\"../../../../../__pv_it/2cbe72a7ad6f655694dd697106680215e8489b600/expr.ipynb\"><img src=\"data:image/png;base64,iVBORw0KGgoAAAANSUhEUgAAAA8AAAAOBAMAAAACpFvcAAAALVBMVEX///8QEBBERERUVFS6urqI\n",
       "iIhmZmaqqqrc3Nzu7u6YmJgyMjIiIiLMzMwAAADtIaYWAAAAAXRSTlMAQObYZgAAAFtJREFUCNdj\n",
       "YACBOwxQsA9Kc52bAGG05zVAGAFxDmCaZULdAjBjCsO9ADDDgaEvAUTzGhvbKYCVMDAwbgAxChgY\n",
       "eASANAeQwf0AyJgNxEwvGRia5HYwcOm9TgAA6BoR3jrzwFcAAAAASUVORK5CYII=\n",
       "\" style=\"display:inline;vertical-align:middle;\" /></a></td></tr>\n",
       "<tr><td>7</td><td>Variable</td><td></td><td><a class=\"ProveItLink\" href=\"../../../../../__pv_it/077b2ff79244fb4582cbe22c6e3356fa92a52f2f0/expr.ipynb\"><img src=\"data:image/png;base64,iVBORw0KGgoAAAANSUhEUgAAABAAAAAOBAMAAADUAYG5AAAAMFBMVEX///+qqqru7u4iIiJ2dnbc\n",
       "3NyIiIjMzMxmZmYQEBC6uroyMjJERERUVFSYmJgAAADLUcuvAAAAAXRSTlMAQObYZgAAAGpJREFU\n",
       "CNdjYGB4+//u3dMLGIBgDgMDxy8gzf4NiP8CGWxfGRj4vgAZPBMYGJgnARn8FxhY9ygAGfXX0pof\n",
       "gDTlBzAw2YIYJ0EckBBI53sHoBH/gIz7AhBjWH9DjancBLTl/N+7t/cxMAAA3u4f/5xagjYAAAAA\n",
       "SUVORK5CYII=\n",
       "\" style=\"display:inline;vertical-align:middle;\" /></a></td></tr>\n",
       "<tr><td>8</td><td>Variable</td><td></td><td><a class=\"ProveItLink\" href=\"../../../../../__pv_it/985a1bdf1540838275dec15f4ad6de261cca93ce0/expr.ipynb\"><img src=\"data:image/png;base64,iVBORw0KGgoAAAANSUhEUgAAAA8AAAAOBAMAAAACpFvcAAAAMFBMVEX////MzMyqqqoiIiIyMjK6\n",
       "uroQEBB2dnbc3NyYmJhmZmZUVFRERESIiIju7u4AAAB204erAAAAAXRSTlMAQObYZgAAAGZJREFU\n",
       "CNdjYGDgu7NrJccCBgaGsgkMrMsmMDA8sQNy6hsYGNweABlhDAxcn4A0QxcDQ78DiPGQgWH9BAYI\n",
       "sG+AMv6DSaCGfBDNJMDAsB+kmwuI5S8AiTog5gSaEwXWIO29SgFIAQBC+RaDQlidVgAAAABJRU5E\n",
       "rkJggg==\n",
       "\" style=\"display:inline;vertical-align:middle;\" /></a></td></tr>\n",
       "<tr><td>9</td><td>Variable</td><td></td><td><a class=\"ProveItLink\" href=\"../../../../../__pv_it/185e6d30f167ee2ee5ef3321098dc98e0d77bc590/expr.ipynb\"><img src=\"data:image/png;base64,iVBORw0KGgoAAAANSUhEUgAAABEAAAAOBAMAAAA7w+qHAAAALVBMVEX///8QEBCYmJjc3Ny6urru\n",
       "7u5mZmZ2dnaqqqrMzMxEREQyMjJUVFSIiIgAAABETr/8AAAAAXRSTlMAQObYZgAAAGpJREFUCNdj\n",
       "YGC48+7MmV0TGEDgNQMDxwsQg/M5kMgLABK8T4DEvAtAgusBkLA7ACT4FoDEDsAk9AqAxD2QCecc\n",
       "gMQ6kAGCIOIVEDM9Ahn3FkgwgnTxvgQSqwOgxs1OADLC1r05cyoTyAAAv4Qe+njAWvgAAAAASUVO\n",
       "RK5CYII=\n",
       "\" style=\"display:inline;vertical-align:middle;\" /></a></td></tr>\n",
       "<tr><td>10</td><td>Variable</td><td></td><td><a class=\"ProveItLink\" href=\"../../../../../__pv_it/9995c55100c62d7d8a012a35bafc852acbe03cf00/expr.ipynb\"><img src=\"data:image/png;base64,iVBORw0KGgoAAAANSUhEUgAAABAAAAAOBAMAAADUAYG5AAAALVBMVEX///8iIiKYmJjc3Nzu7u7M\n",
       "zMx2dnZmZma6urpERESqqqoyMjJUVFSIiIgAAACbLqVTAAAAAXRSTlMAQObYZgAAAGVJREFUCNdj\n",
       "YGC48+7MmdOvGYAARKwEYo63QIIdiNmeAglfIOZ+wMDGwAxk8E1gUAIpZejbc/oxmJEXwLABzNjH\n",
       "wJDAEABkvGRgMGC5ADWGzQFqjDnEGAZWUQYGn3lvzpyRE2AAAIznGVQJqiN4AAAAAElFTkSuQmCC\n",
       "\" style=\"display:inline;vertical-align:middle;\" /></a></td></tr>\n",
       "</table>\n"
      ],
      "text/plain": [
       "0. {A and B and C and D and E}\n",
       "   core type: Operation\n",
       "   operator: 1\n",
       "   operands: 2\n",
       "1. Set\n",
       "   core type: Literal\n",
       "   sub-expressions: \n",
       "2. (A and B and C and D and E)\n",
       "   core type: ExprTuple\n",
       "   sub-expressions: 3\n",
       "3. A and B and C and D and E\n",
       "   core type: Operation\n",
       "   operator: 4\n",
       "   operands: 5\n",
       "4. and\n",
       "   core type: Literal\n",
       "   sub-expressions: \n",
       "5. (A , B , C , D , E)\n",
       "   core type: ExprTuple\n",
       "   sub-expressions: 6, 7, 8, 9, 10\n",
       "6. A\n",
       "   core type: Variable\n",
       "   sub-expressions: \n",
       "7. B\n",
       "   core type: Variable\n",
       "   sub-expressions: \n",
       "8. C\n",
       "   core type: Variable\n",
       "   sub-expressions: \n",
       "9. D\n",
       "   core type: Variable\n",
       "   sub-expressions: \n",
       "10. E\n",
       "    core type: Variable\n",
       "    sub-expressions: "
      ]
     },
     "execution_count": 4,
     "metadata": {},
     "output_type": "execute_result"
    }
   ],
   "source": [
    "# display the expression information\n",
    "expr.exprInfo()"
   ]
  },
  {
   "cell_type": "code",
   "execution_count": null,
   "metadata": {},
   "outputs": [],
   "source": []
  }
 ],
 "metadata": {
  "kernelspec": {
   "display_name": "Python 3",
   "language": "python",
   "name": "python3"
  }
 },
 "nbformat": 4,
 "nbformat_minor": 0
}
