{
 "cells": [
  {
   "cell_type": "markdown",
   "metadata": {},
   "source": [
    "Expression of type <a class=\"ProveItLink\" href=\"../../../../../../../doc/html/api/proveit.logic.Forall.html\">Forall</a>\n",
    "=======================\n",
    "# from context <a class=\"ProveItLink\" href=\"../../_context_.ipynb\">proveit.logic.boolean.conjunction</a>"
   ]
  },
  {
   "cell_type": "code",
   "execution_count": 1,
   "metadata": {},
   "outputs": [],
   "source": [
    "# import Expression classes needed to build the expression\n",
    "from proveit._common_ import B\n",
    "from proveit.logic import And, Booleans, FALSE, Forall"
   ]
  },
  {
   "cell_type": "code",
   "execution_count": 2,
   "metadata": {},
   "outputs": [
    {
     "data": {
      "text/html": [
       "<strong id=\"expr\">expr:</strong> <a class=\"ProveItLink\" href=\"expr.ipynb\"><img src=\"data:image/png;base64,iVBORw0KGgoAAAANSUhEUgAAAH4AAAAWBAMAAAD0qjWMAAAAMFBMVEX///8QEBC6urrMzMxUVFRm\n",
       "ZmZERETc3NwyMjKqqqp2dnaIiIiYmJgiIiLu7u4AAAAU9Wx4AAAAAXRSTlMAQObYZgAAAetJREFU\n",
       "OMullD9IG1Ecx78muZy9u5yZHMVB6JgUdBFCpQ0iCDZiThcDWvF0kCRTnUSnlkJRl3a+SeNS0qKC\n",
       "ZOgJHQQFHXSxHW7oXEHj/1L9/e5FI71Q2svB+73fvfc+v/v9ewcH9T17LLZ9gF9vksnJVqywPu/n\n",
       "y82AdIxXpMkjPvDgNY0yGikB0qIPXj0HtCtoy9PTM37cD0eBSAtwZpqHfvimLsivyfnnwATwKGek\n",
       "x/44EfBCH06N7rhQn/aWMjbNbdDnaNoEPomNrUJhWHh452mV16JQo0L9koe+T3MEKptJAzFaWTNs\n",
       "VdE/t3p5hYXUhcC5WB1lG0SqdoR78BuQAdYf/3RUBR9tL5/gtUgR0p5YLdPYtUDet5Omn0B7Ay3F\n",
       "hVECa46Xz3KUR3Fs5UX5f5F4wYWfeMa5ui51O2h0Cyv1f/fGH7R2SMZKq9lq+eUL1t6zQ8octBZ0\n",
       "ujsKBooePuyw8QIl2rkv/xO37xv4cDgF/RIJ0zSLxFuWh++ARs6OUwhus0q5crLnnagJG2xaROAE\n",
       "Pyrfr8H3AXRLLimEeK1umnUwk0IoL/ghj/9ByuwG5N+QD2rhyoKRfktVeOn2z9LUg/wNmqOmaYUc\n",
       "fi+cGj1/vWsKxV+9IQ825Mr4rxtW56+tXj70D2duAUp5dq4Mzh3pAAAAAElFTkSuQmCC\n",
       "\" style=\"display:inline;vertical-align:middle;\" /></a><br>"
      ],
      "text/plain": [
       "expr: forall_{B in BOOLEANS | FALSE and B} B"
      ]
     },
     "execution_count": 2,
     "metadata": {},
     "output_type": "execute_result"
    }
   ],
   "source": [
    "# build up the expression from sub-expressions\n",
    "expr = Forall([B], B, domain = Booleans, conditions = [And(FALSE, B)])"
   ]
  },
  {
   "cell_type": "code",
   "execution_count": 3,
   "metadata": {},
   "outputs": [
    {
     "name": "stdout",
     "output_type": "stream",
     "text": [
      "Passed sanity check: built 'expr' is the same as the stored Expression.\n"
     ]
    }
   ],
   "source": [
    "# check that the built expression is the same as the stored expression\n",
    "%check_expr"
   ]
  },
  {
   "cell_type": "code",
   "execution_count": 4,
   "metadata": {},
   "outputs": [
    {
     "data": {
      "text/html": [
       "<table><tr><th>&nbsp;</th><th>core type</th><th>sub-expressions</th><th>expression</th></tr>\n",
       "<tr><td>0</td><td>Operation</td><td>operator:&nbsp;1<br>operand:&nbsp;2<br></td><td><a class=\"ProveItLink\" href=\"expr.ipynb\"><img src=\"data:image/png;base64,iVBORw0KGgoAAAANSUhEUgAAAH4AAAAWBAMAAAD0qjWMAAAAMFBMVEX///8QEBC6urrMzMxUVFRm\n",
       "ZmZERETc3NwyMjKqqqp2dnaIiIiYmJgiIiLu7u4AAAAU9Wx4AAAAAXRSTlMAQObYZgAAAetJREFU\n",
       "OMullD9IG1Ecx78muZy9u5yZHMVB6JgUdBFCpQ0iCDZiThcDWvF0kCRTnUSnlkJRl3a+SeNS0qKC\n",
       "ZOgJHQQFHXSxHW7oXEHj/1L9/e5FI71Q2svB+73fvfc+v/v9ewcH9T17LLZ9gF9vksnJVqywPu/n\n",
       "y82AdIxXpMkjPvDgNY0yGikB0qIPXj0HtCtoy9PTM37cD0eBSAtwZpqHfvimLsivyfnnwATwKGek\n",
       "x/44EfBCH06N7rhQn/aWMjbNbdDnaNoEPomNrUJhWHh452mV16JQo0L9koe+T3MEKptJAzFaWTNs\n",
       "VdE/t3p5hYXUhcC5WB1lG0SqdoR78BuQAdYf/3RUBR9tL5/gtUgR0p5YLdPYtUDet5Omn0B7Ay3F\n",
       "hVECa46Xz3KUR3Fs5UX5f5F4wYWfeMa5ui51O2h0Cyv1f/fGH7R2SMZKq9lq+eUL1t6zQ8octBZ0\n",
       "ujsKBooePuyw8QIl2rkv/xO37xv4cDgF/RIJ0zSLxFuWh++ARs6OUwhus0q5crLnnagJG2xaROAE\n",
       "Pyrfr8H3AXRLLimEeK1umnUwk0IoL/ghj/9ByuwG5N+QD2rhyoKRfktVeOn2z9LUg/wNmqOmaYUc\n",
       "fi+cGj1/vWsKxV+9IQ825Mr4rxtW56+tXj70D2duAUp5dq4Mzh3pAAAAAElFTkSuQmCC\n",
       "\" style=\"display:inline;vertical-align:middle;\" /></a></td></tr>\n",
       "<tr><td>1</td><td>Literal</td><td></td><td><a class=\"ProveItLink\" href=\"../../../quantification/universal/__pv_it/265f8c02ac1094d56e0e6410a1c1fd3500dc9f540/expr.ipynb\"><img src=\"data:image/png;base64,iVBORw0KGgoAAAANSUhEUgAAAAwAAAAQBAMAAADQT4M0AAAAMFBMVEX///8QEBC6urrMzMxUVFRm\n",
       "ZmZERETc3NwyMjKqqqp2dnaIiIiYmJgiIiLu7u4AAAAU9Wx4AAAAAXRSTlMAQObYZgAAAFhJREFU\n",
       "CNdjeMAABhdAxGmGlSCqj6EMSLInMHAAJVknMPAsLy+vBYp8S0u7BaScGRjSgZQKA18DkOJl4D4A\n",
       "pLgP8IJM4mswARuX7gSmpoKNZWDcAKZ4gCoAgTQTILaSE58AAAAASUVORK5CYII=\n",
       "\" style=\"display:inline;vertical-align:middle;\" /></a></td></tr>\n",
       "<tr><td>2</td><td>Lambda</td><td>parameter:&nbsp;12<br>body:&nbsp;12<br>conditions:&nbsp;3<br></td><td><a class=\"ProveItLink\" href=\"../5384ac458702f86f6a31600a51f804983b3d653f0/expr.ipynb\"><img src=\"data:image/png;base64,iVBORw0KGgoAAAANSUhEUgAAAM4AAAAVCAMAAAA5OCEaAAAANlBMVEX///8UFBQNDQ2qqqru7u4i\n",
       "IiJ2dnbc3NyIiIjMzMxmZmYQEBC6uroyMjJERERUVFSYmJgAAAC3B9V0AAAAAXRSTlMAQObYZgAA\n",
       "Ae1JREFUWMPtl+eO5CAMgNnFDtUG3v9lL5uiDWAStkg3Op1/DDOKCx8uE5T6PdFG/UuyxNfYR06l\n",
       "pFWY4k8MGpw5rwsVpkIBWQtPjf3WZgJviy+zBywZdNmZ88oqWgUEy9I/c15AhKfNuGKPNc3RiAYt\n",
       "zqTXDUfZqGgOh/zTZmzZuziXZQ5HNGhxRCWwhKtQi6OzSjCD4xjhIQ6HfcUAcziiQYsjKTnKMMiO\n",
       "4anspGjtQ5w9S4b4M1Sded30qWDQ4whKhkEuNodZeCTgwLoxvI+zFp211mO+6DQmdSFIBh2OpMRG\n",
       "7B3EUoI0xHqcZXXn9W2co/gA0xAHkumrtTLocAQl4PEosHqq2HBLxG2cs/hs+TzJ9zesJFynrWTQ\n",
       "4QhKMZzuulHwsSzPOHnLYXJ3cc4Bdx1B2HVgV63tJGxwBCWXhtlZF8XPOPtUq/y0cdyJlYoe4XhT\n",
       "Vatg0OJISoA/xNHHbzLjOOfcNoVGveOsNOgrgxZHVEr5BmcrNrjFOTG0H8c5is8Fuviq5wxIXVEb\n",
       "tDiiEmAc4GRvP5IDBW9wHPen3cTxvL/BEeW5v9ChwRVnpGTIO+EVlDGkrVQgHIftjwm0fXLXwOdf\n",
       "6Zd3/9sXBJ2onmyNxJtbUxS/vvR9J6sXkf84wrv6y1yu7d+/XP8B2XQd7PY30y4AAAAASUVORK5C\n",
       "YII=\n",
       "\" style=\"display:inline;vertical-align:middle;\" /></a></td></tr>\n",
       "<tr><td>3</td><td>ExprTuple</td><td>4, 5</td><td><a class=\"ProveItLink\" href=\"../e60df9d7c5b4e9acc7c86a5a5955b1f9a19e16a00/expr.ipynb\"><img src=\"data:image/png;base64,iVBORw0KGgoAAAANSUhEUgAAAIUAAAAVBAMAAACakjBMAAAAMFBMVEX////c3NwiIiJERESqqqqY\n",
       "mJh2dnZmZmYQEBDu7u4yMjJUVFTMzMyIiIi6uroAAAAs73DqAAAAAXRSTlMAQObYZgAAAhJJREFU\n",
       "OMtjYKAG4LtAkfY4EHEaiKP/795t9QBFLuvz+hXKDnCuLIZm1v2/d29ex8B+AMheCRJoZmBg/4eq\n",
       "xuAt58o0OO84nCUJY3AYMDDUP2BYwMDAC/IKz18g/o1uBsM9LixmLIcxzgN1nt/AEAY0bQKQy/sR\n",
       "6LZvYBnOW0pKC6BmuHJPwDCDxwgmdl+AgSE+gWEGA8MrEJe5gYGBqRMscyoSyR3CmO7gfguLAwsg\n",
       "1pjAwOzAUAbi8m9gYFwMNp/REuEXHlVLTDNmMShAWUC/SwEVsBUwLAV7be/dogCwBLMA3IxH+j8u\n",
       "YJqRylAC9dTvu9dVgTTLAoY+qNc4tcEyk5HD9K4zphkKDFIQBigMJ20Apq8Ghn8wr90HO+SFkhIi\n",
       "TJn5EtDNYL3AwH2AARaGvF+B7vkAMQMUrfEJsBQHdwczgwG6GUwTGHg2MEDDEByXQDNaQF4DGsew\n",
       "H5woJxEwwx2IF0KSB9Dd3F/AfjGFeo3xFyTqApDNAPplAqoZC6HmQJKHPNDXrAsY0qFeO7ESksT0\n",
       "kMwIv8zA+QnFDB6Qw5hgyYOnawI4bh8Bc4r97927lkK1StXA85xRtwMDZz/QuiIlJQ0lJWWQM0EZ\n",
       "E5w9ioHZdBXI0VwPGDgE0PKj9yJIvMCKBhR5PjCJksOBaZ01AX/5wEqoAMmF5X3yzeAEOVoavxpC\n",
       "pRw3yK+MlJWFdxgYAJfElUzNSUAGAAAAAElFTkSuQmCC\n",
       "\" style=\"display:inline;vertical-align:middle;\" /></a></td></tr>\n",
       "<tr><td>4</td><td>Operation</td><td>operator:&nbsp;6<br>operands:&nbsp;7<br></td><td><a class=\"ProveItLink\" href=\"../41a86ef0ff9417c73c472e1bdfa161b308e2753e0/expr.ipynb\"><img src=\"data:image/png;base64,iVBORw0KGgoAAAANSUhEUgAAADcAAAAPBAMAAACy3Eq1AAAAMFBMVEX///+qqqru7u4iIiJ2dnbc\n",
       "3NyIiIjMzMxmZmYQEBC6uroyMjJERERUVFSYmJgAAADLUcuvAAAAAXRSTlMAQObYZgAAAOZJREFU\n",
       "GNNjYGB4+//u3dMLGJCB95/9O20EwMw5DAwcv1AkGQ4sY9rkAmKwfwPiv+iSDFncIAbbVwYGvi9g\n",
       "MbXNxtYwSTleBSCDZwIDA/MksBn7FJB0xoAY/BcYWPeARWMUEMay2x0CMeqvpTU/AAsdRdi52P5n\n",
       "AoiRH8DAZAtiMB1AdlCaDIhxEqQApJVrsrExwkE8XA5ABsgX70EM9gvIOnkYgAax/wNy7oOCg8kA\n",
       "QxLkTdbfYKF7KJIgY0HerNwEFlJegCT5IgcYquf/3r29DyLEuqMAHvCH5wqghigD422oayEAAEv1\n",
       "Sz0foy5uAAAAAElFTkSuQmCC\n",
       "\" style=\"display:inline;vertical-align:middle;\" /></a></td></tr>\n",
       "<tr><td>5</td><td>Operation</td><td>operator:&nbsp;8<br>operands:&nbsp;9<br></td><td><a class=\"ProveItLink\" href=\"../d70bec0bf8ae836788c786948dc6431ebd73b89a0/expr.ipynb\"><img src=\"data:image/png;base64,iVBORw0KGgoAAAANSUhEUgAAADYAAAAPBAMAAABdHiGLAAAAMFBMVEX///+qqqqYmJh2dna6urpU\n",
       "VFQyMjLu7u5EREQQEBAiIiJmZmbMzMyIiIjc3NwAAACSigvEAAAAAXRSTlMAQObYZgAAAMdJREFU\n",
       "GNNjYGBgeMuADlT/h4a2OYBYp2FCfAUw1gwGBu4vKHJsG6AMnr9A/BVF7sRyKIP3HwMD02cUuZC7\n",
       "UAbHBAYGrunIcuwJXFAWfwADX0YBshyzArcAhHU+9u4uBQZkOS4GvgQI6/4DBvalKHK6DAwxEFYn\n",
       "SF4BWQ7oyqMQFsj5+gZIcoxA37E9AHvvE5CIF0CSA4kzboB5j+8bsn0nQMQCmPdOpjMw7Fq1auWq\n",
       "VStAPgcJg3zP3f81NCwJJfDB4c6CJAAAtk823bZEI+EAAAAASUVORK5CYII=\n",
       "\" style=\"display:inline;vertical-align:middle;\" /></a></td></tr>\n",
       "<tr><td>6</td><td>Literal</td><td></td><td><a class=\"ProveItLink\" href=\"../../../../set_theory/membership/__pv_it/088cbc857536a28d4119ad9639a84270ccb0545d0/expr.ipynb\"><img src=\"data:image/png;base64,iVBORw0KGgoAAAANSUhEUgAAAAwAAAAMBAMAAACkW0HUAAAALVBMVEX///+qqqpmZmZUVFQQEBC6\n",
       "urpERETc3NyYmJjMzMwiIiIyMjKIiIju7u4AAACYsrA9AAAAAXRSTlMAQObYZgAAADxJREFUCNdj\n",
       "YOA9vWrVBgaG2b0MQMCeCyIZ2ArA1DUwyRCyahVIyWQI7xaEYm4AU7xLIdxqTQgtvGvVBgCkcQ7e\n",
       "geM/tQAAAABJRU5ErkJggg==\n",
       "\" style=\"display:inline;vertical-align:middle;\" /></a></td></tr>\n",
       "<tr><td>7</td><td>ExprTuple</td><td>12, 10</td><td><a class=\"ProveItLink\" href=\"../46fef8cd01e90537d7ca36d1ba2c809996ed4b3a0/expr.ipynb\"><img src=\"data:image/png;base64,iVBORw0KGgoAAAANSUhEUgAAADQAAAAVBAMAAAD7ptBLAAAAMFBMVEX////c3NwiIiJERESqqqqY\n",
       "mJh2dnZmZmYQEBDu7u4yMjJUVFTMzMyIiIi6uroAAAAs73DqAAAAAXRSTlMAQObYZgAAASVJREFU\n",
       "KM9jYMAD+C5gE2V9ACROA3H0/927rR6AxbI+r1+h7MDAUANkrwQJNDMwsP+DqDd4y7kyjYGBi4GB\n",
       "F2Qez18g/g2TYrgHFGdNYOCYAOTyfgSyv8GlXLknMHA2MLwCcZkbGBiYOhG6hIG0CUMZiMu/gYFx\n",
       "8QSYFI+qJZBOZ1gK4p7fe7coAOpsg0f6P0D2ezH0gbj3BRg4tRngBt51BtIvGMBOtgBJB8ClmPkS\n",
       "gCZBpEDujk9ASDEYgKRaQN76CiT2O6BKvWAwhXqL8RcDAyeygVFAN0K8dQIYYPMVIFLhl8GOfwQM\n",
       "Pfvfu3eBPDHjIzh4jbpBZq9j4BBAioqHCCYwoFgTkKQCEEy2C9BIwZSaBcTSCC4vkqqNQMyINQHw\n",
       "HmAAAHCOVkQeB6BvAAAAAElFTkSuQmCC\n",
       "\" style=\"display:inline;vertical-align:middle;\" /></a></td></tr>\n",
       "<tr><td>8</td><td>Literal</td><td></td><td><a class=\"ProveItLink\" href=\"../76b5f4f4c45c0b6a9b59b297fc07dfa9555698f50/expr.ipynb\"><img src=\"data:image/png;base64,iVBORw0KGgoAAAANSUhEUgAAAAwAAAAOBAMAAADpk+DfAAAALVBMVEX///+qqqqYmJh2dnaIiIi6\n",
       "urpUVFQiIiJERETMzMxmZmYyMjLu7u7c3NwAAABvwqPxAAAAAXRSTlMAQObYZgAAAEtJREFUCNdj\n",
       "YGDgPcAAAtwLwNSMGjCV6gIieTawgyhmBS4BIMXOwLsBSKkwMGQCKaC6aQwMjEBd3BdACMScAVJd\n",
       "wJAKolwYAkAUKwAk0guX6efcigAAAABJRU5ErkJggg==\n",
       "\" style=\"display:inline;vertical-align:middle;\" /></a></td></tr>\n",
       "<tr><td>9</td><td>ExprTuple</td><td>11, 12</td><td><a class=\"ProveItLink\" href=\"../32fa11e0d460a97a7d19a4fd36e0b53258163d570/expr.ipynb\"><img src=\"data:image/png;base64,iVBORw0KGgoAAAANSUhEUgAAADYAAAAVBAMAAAD/UwB2AAAAMFBMVEX////c3NwiIiJERESqqqqY\n",
       "mJh2dnZmZmYQEBDu7u4yMjJUVFTMzMyIiIi6uroAAAAs73DqAAAAAXRSTlMAQObYZgAAAPtJREFU\n",
       "KM9jYMAH+C5gFWZ9ACROg1iMCAWs+3/v3ryOgaEGyF4JEuApQOjgMGBgqH/AwMXAwHsBXe48UOT8\n",
       "BgbWBAaOCehy9wUYGOITGDgbGF4xoMtZALEGUIcJQxmG3G8GBilLIJ3OsBRdjuf33euqIIYXQx+6\n",
       "HO9HBoZJG4CMFwz/0OWYG4DyX0HuxZTjB+ph/QaWa0GXOx/AwMD9BWymKZLcBJj35BcAGVFAl8Ll\n",
       "OD9BvcfTNQHsh0cMDOxKSkpNSkoGnP1ALcX/d+9eFQBStI6BQwApupDYoDADBikiepAjkO0CNI6w\n",
       "yM0CYmkEFyUFbESNcmTAe4ABAJ4xQRO/+5dLAAAAAElFTkSuQmCC\n",
       "\" style=\"display:inline;vertical-align:middle;\" /></a></td></tr>\n",
       "<tr><td>10</td><td>Literal</td><td></td><td><a class=\"ProveItLink\" href=\"../../../__pv_it/46271c8230be96415d662709611f4ed2279d702b0/expr.ipynb\"><img src=\"data:image/png;base64,iVBORw0KGgoAAAANSUhEUgAAAA0AAAAOBAMAAAAGUYvhAAAAMFBMVEX///9mZmbMzMzc3NxUVFSY\n",
       "mJju7u6IiIi6urqqqqoiIiIQEBBEREQyMjJ2dnYAAAAQvcRZAAAAAXRSTlMAQObYZgAAAElJREFU\n",
       "CNdjePvn/u01ExgYGA60s117B6YZKngh9FSWBAjfBsxnWnoMRHet/10AkS+fA6F5OB5AaIYDqDRU\n",
       "PLCGgQFoz6ktExgAgLIl8DFvGtkAAAAASUVORK5CYII=\n",
       "\" style=\"display:inline;vertical-align:middle;\" /></a></td></tr>\n",
       "<tr><td>11</td><td>Literal</td><td></td><td><a class=\"ProveItLink\" href=\"../../../__pv_it/8f1f7fac882de28c72b62ab80a1700b6d8fd066b0/expr.ipynb\"><img src=\"data:image/png;base64,iVBORw0KGgoAAAANSUhEUgAAAA4AAAAOBAMAAADtZjDiAAAAG1BMVEX///9EREQQEBAiIiJmZmbM\n",
       "zMyIiIjc3NwAAACryk5kAAAAAXRSTlMAQObYZgAAABlJREFUCNdjYGBgKGOAgBBa0s7GxkbGxoYA\n",
       "FMUF2aBfHgoAAAAASUVORK5CYII=\n",
       "\" style=\"display:inline;vertical-align:middle;\" /></a></td></tr>\n",
       "<tr><td>12</td><td>Variable</td><td></td><td><a class=\"ProveItLink\" href=\"../../../../../__pv_it/077b2ff79244fb4582cbe22c6e3356fa92a52f2f0/expr.ipynb\"><img src=\"data:image/png;base64,iVBORw0KGgoAAAANSUhEUgAAABAAAAAOBAMAAADUAYG5AAAAMFBMVEX///+qqqru7u4iIiJ2dnbc\n",
       "3NyIiIjMzMxmZmYQEBC6uroyMjJERERUVFSYmJgAAADLUcuvAAAAAXRSTlMAQObYZgAAAGpJREFU\n",
       "CNdjYGB4+//u3dMLGIBgDgMDxy8gzf4NiP8CGWxfGRj4vgAZPBMYGJgnARn8FxhY9ygAGfXX0pof\n",
       "gDTlBzAw2YIYJ0EckBBI53sHoBH/gIz7AhBjWH9DjancBLTl/N+7t/cxMAAA3u4f/5xagjYAAAAA\n",
       "SUVORK5CYII=\n",
       "\" style=\"display:inline;vertical-align:middle;\" /></a></td></tr>\n",
       "</table>\n"
      ],
      "text/plain": [
       "0. forall_{B in BOOLEANS | FALSE and B} B\n",
       "   core type: Operation\n",
       "   operator: 1\n",
       "   operand: 2\n",
       "1. forall\n",
       "   core type: Literal\n",
       "   sub-expressions: \n",
       "2. B -> B | B in BOOLEANS , FALSE and B\n",
       "   core type: Lambda\n",
       "   parameter: 12\n",
       "   body: 12\n",
       "   conditions: 3\\n3. (B in BOOLEANS , FALSE and B)\n",
       "   core type: ExprTuple\n",
       "   sub-expressions: 4, 5\n",
       "4. B in BOOLEANS\n",
       "   core type: Operation\n",
       "   operator: 6\n",
       "   operands: 7\n",
       "5. FALSE and B\n",
       "   core type: Operation\n",
       "   operator: 8\n",
       "   operands: 9\n",
       "6. in\n",
       "   core type: Literal\n",
       "   sub-expressions: \n",
       "7. (B , BOOLEANS)\n",
       "   core type: ExprTuple\n",
       "   sub-expressions: 12, 10\n",
       "8. and\n",
       "   core type: Literal\n",
       "   sub-expressions: \n",
       "9. (FALSE , B)\n",
       "   core type: ExprTuple\n",
       "   sub-expressions: 11, 12\n",
       "10. BOOLEANS\n",
       "    core type: Literal\n",
       "    sub-expressions: \n",
       "11. FALSE\n",
       "    core type: Literal\n",
       "    sub-expressions: \n",
       "12. B\n",
       "    core type: Variable\n",
       "    sub-expressions: "
      ]
     },
     "execution_count": 4,
     "metadata": {},
     "output_type": "execute_result"
    }
   ],
   "source": [
    "# display the expression information\n",
    "expr.exprInfo()"
   ]
  },
  {
   "cell_type": "code",
   "execution_count": null,
   "metadata": {},
   "outputs": [],
   "source": []
  }
 ],
 "metadata": {
  "kernelspec": {
   "display_name": "Python 3",
   "language": "python",
   "name": "python3"
  }
 },
 "nbformat": 4,
 "nbformat_minor": 0
}
