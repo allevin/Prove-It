{
 "cells": [
  {
   "cell_type": "markdown",
   "metadata": {},
   "source": [
    "Show the Proof\n",
    "========"
   ]
  },
  {
   "cell_type": "code",
   "execution_count": 1,
   "metadata": {},
   "outputs": [
    {
     "data": {
      "text/html": [
       "<table><tr><th>&nbsp;</th><th>step type</th><th>requirements</th><th>statement</th></tr>\n",
       "<tr><td>0</td><td>assumption</td><td></td><td><span style=\"font-size:20px;\"><a class=\"ProveItLink\" href=\"../58da5fc193432deb90a6a0cd9f4a860cf066404c0/expr.ipynb\"><img src=\"data:image/png;base64,iVBORw0KGgoAAAANSUhEUgAAANEAAAAVBAMAAAAqbRZ+AAAAMFBMVEX///9ERETc3NyqqqpUVFS6\n",
       "urrMzMwyMjIQEBCIiIh2dnYiIiLu7u5mZmaYmJgAAABJJ2g3AAAAAXRSTlMAQObYZgAAAupJREFU\n",
       "SMe1Vk1oE0EUftn87mY3ERTbiyagVyFe9CSKbAwepLlZUDGFHHpLBD2Z1ohUL6Xk4CWnBryIIPYg\n",
       "ohJwD4J4qwoKihpBkCIYWxKDUtu+NzOb7FtFugcDOzv77bz3zX7vZwIAqQ/wn3+xO1m6mY8D2EQb\n",
       "QVlSRaK6RlP9uyJe8q35vGnbY0WOlWl4vut95wCD9YmeXdjts7+J9oUBvKb5GxqMunwRF4zCc0wi\n",
       "VwGsPsdqZLAAcG5BPGqO8pquAhzNcQwGeB2EOE1ve5m+rtN4goam/MifePUYpqN45mV0ZazJ3S0r\n",
       "p5UW7mqdY1G0BwtSLR+TdkQYT9HQlpIgkPrFsASSxOfJizSaaiuvi0W5My9m/CClwaz7mHS9L3aE\n",
       "WRKWuwrhi+Q8w07j9ZFE0uSSfFN5zRDW4xiGwwANYKeP6Wx4g27kMZ6V2h8D7YLDsLfobyAStiTG\n",
       "alJ5XQWltAdL74BvdL/rMllVsaCoPr6t1ELtTzbfdTg2i8s3RtlldKzcMKRS6REG5y8WREAO49Wl\n",
       "ybRIrShov0FFPq+0z4J5n2NzqOfaiCkJWlVKTyGJ9BkG90ogZpMqTcrXZaHY9qqyNtXKcWLrMAx9\n",
       "pUUxmOJxReUlhAhM1BkGVwBagCpX6GEMHU2WVB3dEO+tnCElA5K922IYMiUE0yFX1bIbElzbYRjF\n",
       "Lms2JFOS/ERou2G8HspsdyMao4BM5BiGTSUiqmaZZ0+lIQvdi4lyMhypnoiTQV1on/xaUbsrMCwn\n",
       "mWgjbK8KvuHwilhEXUI1jolyoqb1xZvlIgwZh1UeldN0DRhGCdvNQfQlDKt8SZVTbMaHUXeLPfBm\n",
       "OTJp44MsfNqc8XYTK4NNc9YtQtVhzpCqhVOv5FNe5aX5AnvpnhLD4Cna20+I85K/7w0PE+cvB4zC\n",
       "ElkvqsoD/o390Y22d9i0gh+DRsNlSgVgglpwpmfD88l8FMBsf3Cm46T+nJTk1vbNtMCnu15S/yO2\n",
       "AB2k1eXRN139AAAAAElFTkSuQmCC\n",
       "\" style=\"display:inline;vertical-align:middle;\" /></a> <a class=\"ProveItLink\" href=\"proof.ipynb\" style=\"text-decoration: none\">&#x22A2;&nbsp;</a><a class=\"ProveItLink\" href=\"../98a43e01d5dba590943af60807a790ac2b9bb06d0/expr.ipynb\"><img src=\"data:image/png;base64,iVBORw0KGgoAAAANSUhEUgAAAL0AAAAVBAMAAADhtvKAAAAAMFBMVEX///92dnYQEBBERERUVFS6\n",
       "urqIiIhmZmaqqqrc3Nzu7u6YmJgyMjIiIiLMzMwAAACFkkdwAAAAAXRSTlMAQObYZgAAAqFJREFU\n",
       "OMvNlU1oE1EQxyffH7vdFg8e6qHFmyI0eBRLFrrgSbJ4qEcDSr2ZoAcLgsmtRwMFLRLIUlAvUdKD\n",
       "Zxc/kIKQ4lEPzcGTWpJilGpj68y8t+2O9LKeDOzk7S8zs29m/vsC8N985iNHPA8WW3/9YJSGztwb\n",
       "ySwbTf7qhTu5quDX9h3nVU/6pjHe6fqZAHfJpHipULwAUHMFMz00xzqQutlh+DBINgLI7oBk4z7C\n",
       "Avh6u5sUm6Q06TKTPn71bcEW8Gp/QDPVYJe3QV3baGqeYHCFQqqwpu5WahRi4Z5hTDlWELyYEOw0\n",
       "Xi9pdUmlnfV0L77r/YQYTOG+8mVYVXfliktf63gtKXIWr/demKWw1gy34QF7JOdVpZAYoGnZglHD\n",
       "J6ABiTqHeve4pUs6H36GAM1zgmWwmhb38xl7tGFDt5pK7NuCwTcwKGWMpfBIl4d94H5gocOF6x9B\n",
       "MBP9a51DiZyARTgYFfcyxFIjp0stz/KGXGjxc3COSVf19CfAU1uwONrNxmH+DWiqRYUkUHIFi+2B\n",
       "yc+Zps06TqmgY9q6p8jTu4KNY4Z9XvEMjbLSFkCRzEnJzAHEwMLUA6X7uBLqIlaokuHejW3BKP8M\n",
       "LbK9oG+2bjX67kqGM8nBY50fZzw2zbgZzKePjU7uCBZHtxJtPQNi7tYP/TqG9cHyn1T9ydW5HtbX\n",
       "F60vkr8SywFLdPQoJ0FoOb2H5rwn9U3yp2PE8IHbm/gl3xmUv3XGE4ykZmBJl3nG6r0L5P+1Khmf\n",
       "N1s9DlqeWQejOKqG3+9beGS9C7SoWYra9On17bqqytXnxpMinoR3JcvPYfzF3zRnV557n484ZAN2\n",
       "KgzVuSejj2CrEQ7ztX/4yzgewdf0IqfP+xGcc3bk/MlGFO/7kfPfAPgDIXPHXiiDxcEAAAAASUVO\n",
       "RK5CYII=\n",
       "\" style=\"display:inline;vertical-align:middle;\" /></a></span></td></tr>\n",
       "</table>"
      ],
      "text/plain": [
       "<proveit._core_.proof._ShowProof at 0x7f95000254e0>"
      ]
     },
     "execution_count": 1,
     "metadata": {},
     "output_type": "execute_result"
    }
   ],
   "source": [
    "import proveit\n",
    "%show_proof"
   ]
  },
  {
   "cell_type": "code",
   "execution_count": null,
   "metadata": {},
   "outputs": [],
   "source": []
  }
 ],
 "metadata": {
  "kernelspec": {
   "display_name": "Python 3",
   "language": "python",
   "name": "python3"
  }
 },
 "nbformat": 4,
 "nbformat_minor": 0
}
