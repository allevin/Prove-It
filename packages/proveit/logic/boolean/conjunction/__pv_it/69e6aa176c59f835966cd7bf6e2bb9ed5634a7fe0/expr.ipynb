{
 "cells": [
  {
   "cell_type": "markdown",
   "metadata": {},
   "source": [
    "Expression of type <a class=\"ProveItLink\" href=\"../../../../../../../doc/html/api/proveit.Lambda.html\">Lambda</a>\n",
    "=======================\n",
    "# from context <a class=\"ProveItLink\" href=\"../../_context_.ipynb\">proveit.logic.boolean.conjunction</a>"
   ]
  },
  {
   "cell_type": "code",
   "execution_count": 1,
   "metadata": {},
   "outputs": [],
   "source": [
    "# import Expression classes needed to build the expression\n",
    "from proveit import Lambda\n",
    "from proveit._common_ import A, B\n",
    "from proveit.logic import And, Equals, FALSE, Not"
   ]
  },
  {
   "cell_type": "code",
   "execution_count": 2,
   "metadata": {},
   "outputs": [
    {
     "data": {
      "text/html": [
       "<strong id=\"expr\">expr:</strong> <a class=\"ProveItLink\" href=\"expr.ipynb\"><img src=\"data:image/png;base64,iVBORw0KGgoAAAANSUhEUgAAAOkAAAAVCAMAAACUuTmzAAAANlBMVEX///8UFBQNDQ2qqqru7u4i\n",
       "IiJ2dnbc3NyIiIjMzMxmZmYQEBC6uroyMjJERERUVFSYmJgAAAC3B9V0AAAAAXRSTlMAQObYZgAA\n",
       "AktJREFUWMPVWMm2oyAQTTcgk0z//7PtixBrQB/k6KJrUyY5VZdLjeb1+t9F6EfdrwbrLySv99gs\n",
       "M35yKiVtEsOglU1Y109qCsbZwePp4zo7NldMO8R83B2VMapBYl0/FXJCSe0wTBhkah3AmIwpJWaL\n",
       "qTqNQBuDdb1AVTC14OiRMUxe5plym0umjJgpe1nnMgTuJdZ7BIUrqDnYqEhQCYz080y5zSVTRixW\n",
       "e+XlSDsKWFenm1sEmlZD+hWFiWKaKbe5ZMqI7bHVIcp+PQjk3i1Y77TlS5QMvpCbC9KiKMzi5pky\n",
       "m0umFHHLYmOMU+Cg5IwJxjpkrN+81qMo6gm2X53ARUNgxHGfLgBJF0xFmGDKEGs2S5XOmMoEStCv\n",
       "WL9D+nN1BR5JvS+zUzQHzOrnY8psAFOnPrL0EVs2myP9/v5RSDyowfYIvrI/UyuVCJrkO77Jdorm\n",
       "A2PLPFNm041pHfQMsbVg0HrpEpCAvw7T/cmDEO59F60WDOZxphTRNsapiBOmDs4PL7Deiqd1uKOc\n",
       "6umCBmekMCATHUyg+GX2UqYMsQ0dXcJJnVo0LmLGehulbElqDIVjs+2AyWE+pjmMM2WINZutB8sd\n",
       "noR4yrZG37Rs4PGzJNnIr4zDPDhlbAfRxX0LDnBoXG8OCmodfXlHMG+O2gJ4lHXbHnowv75Q1Jz2\n",
       "IKeZzemUmSfW2QY11p3L6D4SGd0Gr22W9fWctDV7dEU/kcXcYfMo05O3ttnwhFtsnmWqE9ZfSdK3\n",
       "2DzL9PM3gP7+3xVj77Exg0z/Adx4HeeN9NrEAAAAAElFTkSuQmCC\n",
       "\" style=\"display:inline;vertical-align:middle;\" /></a><br>"
      ],
      "text/plain": [
       "expr: B -> ((A and B) = FALSE) | [not](B)"
      ]
     },
     "execution_count": 2,
     "metadata": {},
     "output_type": "execute_result"
    }
   ],
   "source": [
    "# build up the expression from sub-expressions\n",
    "expr = Lambda(B, Equals(And(A, B), FALSE), conditions = [Not(B)])"
   ]
  },
  {
   "cell_type": "code",
   "execution_count": 3,
   "metadata": {},
   "outputs": [
    {
     "name": "stdout",
     "output_type": "stream",
     "text": [
      "Passed sanity check: built 'expr' is the same as the stored Expression.\n"
     ]
    }
   ],
   "source": [
    "# check that the built expression is the same as the stored expression\n",
    "%check_expr"
   ]
  },
  {
   "cell_type": "code",
   "execution_count": 4,
   "metadata": {},
   "outputs": [
    {
     "data": {
      "text/html": [
       "<table><tr><th>&nbsp;</th><th>core type</th><th>sub-expressions</th><th>expression</th></tr>\n",
       "<tr><td>0</td><td>Lambda</td><td>parameter:&nbsp;12<br>body:&nbsp;1<br>conditions:&nbsp;2<br></td><td><a class=\"ProveItLink\" href=\"expr.ipynb\"><img src=\"data:image/png;base64,iVBORw0KGgoAAAANSUhEUgAAAOkAAAAVCAMAAACUuTmzAAAANlBMVEX///8UFBQNDQ2qqqru7u4i\n",
       "IiJ2dnbc3NyIiIjMzMxmZmYQEBC6uroyMjJERERUVFSYmJgAAAC3B9V0AAAAAXRSTlMAQObYZgAA\n",
       "AktJREFUWMPVWMm2oyAQTTcgk0z//7PtixBrQB/k6KJrUyY5VZdLjeb1+t9F6EfdrwbrLySv99gs\n",
       "M35yKiVtEsOglU1Y109qCsbZwePp4zo7NldMO8R83B2VMapBYl0/FXJCSe0wTBhkah3AmIwpJWaL\n",
       "qTqNQBuDdb1AVTC14OiRMUxe5plym0umjJgpe1nnMgTuJdZ7BIUrqDnYqEhQCYz080y5zSVTRixW\n",
       "e+XlSDsKWFenm1sEmlZD+hWFiWKaKbe5ZMqI7bHVIcp+PQjk3i1Y77TlS5QMvpCbC9KiKMzi5pky\n",
       "m0umFHHLYmOMU+Cg5IwJxjpkrN+81qMo6gm2X53ARUNgxHGfLgBJF0xFmGDKEGs2S5XOmMoEStCv\n",
       "WL9D+nN1BR5JvS+zUzQHzOrnY8psAFOnPrL0EVs2myP9/v5RSDyowfYIvrI/UyuVCJrkO77Jdorm\n",
       "A2PLPFNm041pHfQMsbVg0HrpEpCAvw7T/cmDEO59F60WDOZxphTRNsapiBOmDs4PL7Deiqd1uKOc\n",
       "6umCBmekMCATHUyg+GX2UqYMsQ0dXcJJnVo0LmLGehulbElqDIVjs+2AyWE+pjmMM2WINZutB8sd\n",
       "noR4yrZG37Rs4PGzJNnIr4zDPDhlbAfRxX0LDnBoXG8OCmodfXlHMG+O2gJ4lHXbHnowv75Q1Jz2\n",
       "IKeZzemUmSfW2QY11p3L6D4SGd0Gr22W9fWctDV7dEU/kcXcYfMo05O3ttnwhFtsnmWqE9ZfSdK3\n",
       "2DzL9PM3gP7+3xVj77Exg0z/Adx4HeeN9NrEAAAAAElFTkSuQmCC\n",
       "\" style=\"display:inline;vertical-align:middle;\" /></a></td></tr>\n",
       "<tr><td>1</td><td>Operation</td><td>operator:&nbsp;3<br>operands:&nbsp;4<br></td><td><a class=\"ProveItLink\" href=\"../0fc735d8e5882fa161f9a395b944ce0f4e1787270/expr.ipynb\"><img src=\"data:image/png;base64,iVBORw0KGgoAAAANSUhEUgAAAHAAAAAVBAMAAABs93eRAAAAMFBMVEX////c3NwiIiJERESqqqqY\n",
       "mJh2dnZmZmYQEBDu7u4yMjJUVFTMzMyIiIi6uroAAAAs73DqAAAAAXRSTlMAQObYZgAAAYxJREFU\n",
       "OMtjYCAb8F3AJ8v6AKfUaQh1CF3H/t+7N69jYKjBokUWTK6EcNZDBSVhshwGDAz1Dxi4sGg8DiJ4\n",
       "IS5l1Z8AEVwOkz0PlDi/gYE1AYdGDogGkXoBMM1jBDWA4T5QID6BgbMBh8ZXEPaF+5BQ4H4LCysL\n",
       "INYAmmKCQ2MZJGgn+AeAGbMYFKCyvxkYpCyBdDoOjUvBzHlgLwFBKkMJRJLn993rqiCGF4ioWgUC\n",
       "q5E19oGZDxjkC8AMBQYpiCTvRwaGSRuAjBc4bPwHNn737v0G4MC9wMB9ACzJDAwU3q+g0MWnkQ8Y\n",
       "ugtADKYJDDwbwJL8QIr1Gx6NLSDCAagFHOzuQLwQEo3AwOL+AnNqkRIIKCNrNAViRqBGrg8MUE3u\n",
       "8GiUB7kiCoeN6eA4APrpJ8ivII8ywaKRp2sCnuh4xMAg3L+QgdX+FzBYuR/AEmHx/927V4Gjdh2a\n",
       "LqCrNUCu5hBAzmLQuEEC2JIcJHUn4M+ubDiz60r8GmfhlJHGr3EjThlGvEUH7wEcEgCi6WcgTfwD\n",
       "wAAAAABJRU5ErkJggg==\n",
       "\" style=\"display:inline;vertical-align:middle;\" /></a></td></tr>\n",
       "<tr><td>2</td><td>ExprTuple</td><td>5</td><td><a class=\"ProveItLink\" href=\"../8843824c5e7a089bd60f2c14050c86b6b86a038f0/expr.ipynb\"><img src=\"data:image/png;base64,iVBORw0KGgoAAAANSUhEUgAAACsAAAAVBAMAAAAtAwouAAAAMFBMVEX////c3NwiIiJERESqqqqY\n",
       "mJh2dnZmZmYQEBDu7u4yMjJUVFTMzMyIiIi6uroAAAAs73DqAAAAAXRSTlMAQObYZgAAAO5JREFU\n",
       "GNNjYMAB+C6gi8SBiNMIfvT/3butHjCwHwCyVyKpa2ZgYP/HwLCAgYEXyQyev0D8m4EhjIGBYwJC\n",
       "mPcjAwPrNwaGGQwMr5DMYG5gYGDqBNIODGVIwvwbGBgXA3WzFTAsRRI+v/duUQCQZlnA0Ae0XAkE\n",
       "EhgY7gswcGqDvNLA8A/mig0MDBZA+j5QOc8HFGGg2xjiE8DCLQhhnq9Aer8D2BBThDDI2Yy/gGzW\n",
       "BQzpMGccADv7BCgsgA58BHceu/3v3bvA7uV6wMAhgBnWQM+zJmAK56IFLARwAgOWQRpDmBtkLiNG\n",
       "pN1hYAAA72Q6LUaD+kYAAAAASUVORK5CYII=\n",
       "\" style=\"display:inline;vertical-align:middle;\" /></a></td></tr>\n",
       "<tr><td>3</td><td>Literal</td><td></td><td><a class=\"ProveItLink\" href=\"../../../../equality/__pv_it/2fb26078095930560931daa0500ce419a39ea6cd0/expr.ipynb\"><img src=\"data:image/png;base64,iVBORw0KGgoAAAANSUhEUgAAAA4AAAAFBAMAAACHocAhAAAAFVBMVEX///9EREQiIiJUVFQyMjJm\n",
       "ZmYAAADubVkoAAAAAXRSTlMAQObYZgAAABRJREFUCNdjCHEBAWcGXCBICQQUAUpuAwlgGKrkAAAA\n",
       "AElFTkSuQmCC\n",
       "\" style=\"display:inline;vertical-align:middle;\" /></a></td></tr>\n",
       "<tr><td>4</td><td>ExprTuple</td><td>6, 7</td><td><a class=\"ProveItLink\" href=\"../8082daa44b381c7bf71039c07968464372a58e3f0/expr.ipynb\"><img src=\"data:image/png;base64,iVBORw0KGgoAAAANSUhEUgAAAF0AAAAVBAMAAADWVP/xAAAAMFBMVEX////c3NwiIiJERESqqqqY\n",
       "mJh2dnZmZmYQEBDu7u4yMjJUVFTMzMyIiIi6uroAAAAs73DqAAAAAXRSTlMAQObYZgAAAZRJREFU\n",
       "KM9jYCAV8F0gWmkciDgNYR9Ck2Pd/3v35nVwriyIYD8AJFZCBNZDJSRhKjgMGBjqH8B4x8HkAgYG\n",
       "XohzWPUnQCSWw1ScB0qc34CqPgxoDESdSL0AmOYxgupjuA8UiE9AVT+DgeEVhH/hPsRq7rcw71sA\n",
       "scYEVPXMDgxlkECa4B8AZsxiUICq+M3AIGXJgKqerYBhKZgxD+xcIEhlKIEo4Pl997oqA5p6lgUM\n",
       "fWDGAwb5AjBDgUEKooD3IwPDpA1o6vkaGP6BDdu9e78BOJguMHAfgDi1AajnK5p6ng8Q9XzAcFoA\n",
       "YjBNYOCBGMoPpFi/YapvAdEOQJUNIIY7EC+EBD/Q/9xfMN1jCqQYgeq5PjBA1brDg18eaOcEZPWs\n",
       "CxjSwYEIdO9PkH0gTzDBgp+nawID5ye08HzEwCDcv5CB1f4XMIC4QZEGTiHF/3fvXgV0Emc/0J4i\n",
       "JSUNJSVloCMeMHAIIKdtaOAiCyHLA9MDawL+NM+KzMlFpGdi1HOCwlwav3rk3McNchsj8fnxDgMD\n",
       "ABegZNHJJs78AAAAAElFTkSuQmCC\n",
       "\" style=\"display:inline;vertical-align:middle;\" /></a></td></tr>\n",
       "<tr><td>5</td><td>Operation</td><td>operator:&nbsp;8<br>operand:&nbsp;12<br></td><td><a class=\"ProveItLink\" href=\"../1da4e2fe7c44632f084fa27ea32e26dc689384c20/expr.ipynb\"><img src=\"data:image/png;base64,iVBORw0KGgoAAAANSUhEUgAAAB0AAAAOBAMAAAAh/woJAAAAMFBMVEX///+qqqru7u7c3NyIiIgQ\n",
       "EBC6uroyMjJERESYmJhUVFTMzMx2dnYiIiJmZmYAAADtoHoAAAAAAXRSTlMAQObYZgAAAHpJREFU\n",
       "CNdjYIACzvW/Vq0oY0AA1gYGhvcJCP5+ByBegOD7GzAwzD+A4LcC8VUFBP8XA4N5E4LL/cvF7yaQ\n",
       "fnsXCO4wMLB8ZmDQhRm3i4GBIwAo9hPB5wfKcf5B8PdPYGDg+ojgg6y3L4AZDraeOxxh/Yv/q1aV\n",
       "A7UAAFRxJOZ+1MVPAAAAAElFTkSuQmCC\n",
       "\" style=\"display:inline;vertical-align:middle;\" /></a></td></tr>\n",
       "<tr><td>6</td><td>Operation</td><td>operator:&nbsp;9<br>operands:&nbsp;10<br></td><td><a class=\"ProveItLink\" href=\"../42be287793a6c836f70efb0ab4503e1a268d24400/expr.ipynb\"><img src=\"data:image/png;base64,iVBORw0KGgoAAAANSUhEUgAAADcAAAAPBAMAAACy3Eq1AAAAMFBMVEX///92dnYQEBBERERUVFS6\n",
       "urqIiIhmZmaqqqrc3Nzu7u6YmJgyMjIiIiLMzMwAAACFkkdwAAAAAXRSTlMAQObYZgAAAPtJREFU\n",
       "GNNjYACBtwyogNv/i4vzUSjnPJSeBZNlMmBgqA+AKLy/ACJ2HCb5PgGIHcDMGfUTwDSfLVQRQz5Q\n",
       "YL8AmJmQDzGBJSwBKmkExJfAKlkX9G8AC61huACV/MLAMMcKzFoKtgIIpBkqIHJ8X9LSb0OYAQzz\n",
       "C8CMCwxzICJsPxkY1oLdw+fi4m8AdnQCA8sDsCSzAlDBb7CVQG8dADF4FzDwQZzPD6S4P4JYDUBh\n",
       "BRCjHYhPQrwJdCDLDyCDEyjJ84EBKtEO9+b8A2D3A+34BbIbZDEvzJt8OkBvTtY/ycBt/wfoXBZQ\n",
       "SLCBPFX838XlzAaUqGCF+gsBAFd8PNYBN2/JAAAAAElFTkSuQmCC\n",
       "\" style=\"display:inline;vertical-align:middle;\" /></a></td></tr>\n",
       "<tr><td>7</td><td>Literal</td><td></td><td><a class=\"ProveItLink\" href=\"../../../__pv_it/8f1f7fac882de28c72b62ab80a1700b6d8fd066b0/expr.ipynb\"><img src=\"data:image/png;base64,iVBORw0KGgoAAAANSUhEUgAAAA4AAAAOBAMAAADtZjDiAAAAG1BMVEX///9EREQQEBAiIiJmZmbM\n",
       "zMyIiIjc3NwAAACryk5kAAAAAXRSTlMAQObYZgAAABlJREFUCNdjYGBgKGOAgBBa0s7GxkbGxoYA\n",
       "FMUF2aBfHgoAAAAASUVORK5CYII=\n",
       "\" style=\"display:inline;vertical-align:middle;\" /></a></td></tr>\n",
       "<tr><td>8</td><td>Literal</td><td></td><td><a class=\"ProveItLink\" href=\"../../../negation/__pv_it/7bea79645543c2413aa17e787cca04e21046fde60/expr.ipynb\"><img src=\"data:image/png;base64,iVBORw0KGgoAAAANSUhEUgAAAAwAAAAGBAMAAAAFwGKyAAAAFVBMVEX///9UVFTMzMx2dnYiIiJm\n",
       "ZmYAAACWz4ZEAAAAAXRSTlMAQObYZgAAABRJREFUCNdjCHEBAmcGMFDEQzEBAEl+Ai6uYJv/AAAA\n",
       "AElFTkSuQmCC\n",
       "\" style=\"display:inline;vertical-align:middle;\" /></a></td></tr>\n",
       "<tr><td>9</td><td>Literal</td><td></td><td><a class=\"ProveItLink\" href=\"../76b5f4f4c45c0b6a9b59b297fc07dfa9555698f50/expr.ipynb\"><img src=\"data:image/png;base64,iVBORw0KGgoAAAANSUhEUgAAAAwAAAAOBAMAAADpk+DfAAAALVBMVEX///+qqqqYmJh2dnaIiIi6\n",
       "urpUVFQiIiJERETMzMxmZmYyMjLu7u7c3NwAAABvwqPxAAAAAXRSTlMAQObYZgAAAEtJREFUCNdj\n",
       "YGDgPcAAAtwLwNSMGjCV6gIieTawgyhmBS4BIMXOwLsBSKkwMGQCKaC6aQwMjEBd3BdACMScAVJd\n",
       "wJAKolwYAkAUKwAk0guX6efcigAAAABJRU5ErkJggg==\n",
       "\" style=\"display:inline;vertical-align:middle;\" /></a></td></tr>\n",
       "<tr><td>10</td><td>ExprTuple</td><td>11, 12</td><td><a class=\"ProveItLink\" href=\"../caee09fb4b5c95b986a9cee46a014afbad9bdc680/expr.ipynb\"><img src=\"data:image/png;base64,iVBORw0KGgoAAAANSUhEUgAAADUAAAAVBAMAAAAUZLt1AAAAMFBMVEX////c3NwiIiJERESqqqqY\n",
       "mJh2dnZmZmYQEBDu7u4yMjJUVFTMzMyIiIi6uroAAAAs73DqAAAAAXRSTlMAQObYZgAAATZJREFU\n",
       "KM9jYMAH+C5gFY4DEach7EMwQdb9v3dvXsfAfgDIXgkRWg/XwWHAwFD/gGEBAwMvxEhW/QkwufNA\n",
       "kfMbGMKAqiBiIvUCMLn7QFZ8AsMMBoZXEIEL9x/A5CyAWGMCA7MDQxnEsRP8A2ByvxkYpCwZGNgK\n",
       "GJaC+fPAtoABz++711WBNMsChj6wwAMG+QKoHO9HBoZJG4BGNTD8A6vdvXu/AVSOuQEo/xUo9gEi\n",
       "xwd07wKoHD9QD+s3sFwLiO/AwMDUAPMe0FHcX8BmmgK5jEA5rg8MDBNg3pMHGsK6gCEdyJ0FsuYn\n",
       "A+cnqPd4uiaA/fCIgUG4fyEDq/2vAs5+oJbi/7t3rwL5lesBA4cAUnQhsUFhxpqA4LIiR2AuIo7Q\n",
       "5ThBfpJG8JFTADfIfEbsaeIOAwMABOxNRsfkiy0AAAAASUVORK5CYII=\n",
       "\" style=\"display:inline;vertical-align:middle;\" /></a></td></tr>\n",
       "<tr><td>11</td><td>Variable</td><td></td><td><a class=\"ProveItLink\" href=\"../../../../../__pv_it/2cbe72a7ad6f655694dd697106680215e8489b600/expr.ipynb\"><img src=\"data:image/png;base64,iVBORw0KGgoAAAANSUhEUgAAAA8AAAAOBAMAAAACpFvcAAAALVBMVEX///8QEBBERERUVFS6urqI\n",
       "iIhmZmaqqqrc3Nzu7u6YmJgyMjIiIiLMzMwAAADtIaYWAAAAAXRSTlMAQObYZgAAAFtJREFUCNdj\n",
       "YACBOwxQsA9Kc52bAGG05zVAGAFxDmCaZULdAjBjCsO9ADDDgaEvAUTzGhvbKYCVMDAwbgAxChgY\n",
       "eASANAeQwf0AyJgNxEwvGRia5HYwcOm9TgAA6BoR3jrzwFcAAAAASUVORK5CYII=\n",
       "\" style=\"display:inline;vertical-align:middle;\" /></a></td></tr>\n",
       "<tr><td>12</td><td>Variable</td><td></td><td><a class=\"ProveItLink\" href=\"../../../../../__pv_it/077b2ff79244fb4582cbe22c6e3356fa92a52f2f0/expr.ipynb\"><img src=\"data:image/png;base64,iVBORw0KGgoAAAANSUhEUgAAABAAAAAOBAMAAADUAYG5AAAAMFBMVEX///+qqqru7u4iIiJ2dnbc\n",
       "3NyIiIjMzMxmZmYQEBC6uroyMjJERERUVFSYmJgAAADLUcuvAAAAAXRSTlMAQObYZgAAAGpJREFU\n",
       "CNdjYGB4+//u3dMLGIBgDgMDxy8gzf4NiP8CGWxfGRj4vgAZPBMYGJgnARn8FxhY9ygAGfXX0pof\n",
       "gDTlBzAw2YIYJ0EckBBI53sHoBH/gIz7AhBjWH9DjancBLTl/N+7t/cxMAAA3u4f/5xagjYAAAAA\n",
       "SUVORK5CYII=\n",
       "\" style=\"display:inline;vertical-align:middle;\" /></a></td></tr>\n",
       "</table>\n"
      ],
      "text/plain": [
       "0. B -> ((A and B) = FALSE) | [not](B)\n",
       "   core type: Lambda\n",
       "   parameter: 12\n",
       "   body: 1\n",
       "   conditions: 2\\n1. (A and B) = FALSE\n",
       "   core type: Operation\n",
       "   operator: 3\n",
       "   operands: 4\n",
       "2. ([not](B))\n",
       "   core type: ExprTuple\n",
       "   sub-expressions: 5\n",
       "3. =\n",
       "   core type: Literal\n",
       "   sub-expressions: \n",
       "4. (A and B , FALSE)\n",
       "   core type: ExprTuple\n",
       "   sub-expressions: 6, 7\n",
       "5. [not](B)\n",
       "   core type: Operation\n",
       "   operator: 8\n",
       "   operand: 12\n",
       "6. A and B\n",
       "   core type: Operation\n",
       "   operator: 9\n",
       "   operands: 10\n",
       "7. FALSE\n",
       "   core type: Literal\n",
       "   sub-expressions: \n",
       "8. not\n",
       "   core type: Literal\n",
       "   sub-expressions: \n",
       "9. and\n",
       "   core type: Literal\n",
       "   sub-expressions: \n",
       "10. (A , B)\n",
       "    core type: ExprTuple\n",
       "    sub-expressions: 11, 12\n",
       "11. A\n",
       "    core type: Variable\n",
       "    sub-expressions: \n",
       "12. B\n",
       "    core type: Variable\n",
       "    sub-expressions: "
      ]
     },
     "execution_count": 4,
     "metadata": {},
     "output_type": "execute_result"
    }
   ],
   "source": [
    "# display the expression information\n",
    "expr.exprInfo()"
   ]
  },
  {
   "cell_type": "code",
   "execution_count": null,
   "metadata": {},
   "outputs": [],
   "source": []
  }
 ],
 "metadata": {
  "kernelspec": {
   "display_name": "Python 3",
   "language": "python",
   "name": "python3"
  }
 },
 "nbformat": 4,
 "nbformat_minor": 0
}
