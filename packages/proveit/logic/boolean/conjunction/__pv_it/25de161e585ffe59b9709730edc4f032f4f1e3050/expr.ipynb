{
 "cells": [
  {
   "cell_type": "markdown",
   "metadata": {},
   "source": [
    "Expression of type <a class=\"ProveItLink\" href=\"../../../../../../../doc/html/api/proveit.logic.Equals.html\">Equals</a>\n",
    "=======================\n",
    "# from context <a class=\"ProveItLink\" href=\"../../_context_.ipynb\">proveit.logic.boolean.conjunction</a>"
   ]
  },
  {
   "cell_type": "code",
   "execution_count": 1,
   "metadata": {},
   "outputs": [],
   "source": [
    "# import Expression classes needed to build the expression\n",
    "from proveit.logic import And, Equals, TRUE\n",
    "from proveit.logic.boolean.disjunction._theorems_ import trueOrFalse"
   ]
  },
  {
   "cell_type": "code",
   "execution_count": 2,
   "metadata": {},
   "outputs": [
    {
     "data": {
      "text/html": [
       "<strong id=\"expr\">expr:</strong> <a class=\"ProveItLink\" href=\"expr.ipynb\"><img src=\"data:image/png;base64,iVBORw0KGgoAAAANSUhEUgAAAKgAAAAVBAMAAAAgMbgsAAAAMFBMVEX////c3NwiIiJERESqqqqY\n",
       "mJh2dnZmZmYQEBDu7u4yMjJUVFTMzMyIiIi6uroAAAAs73DqAAAAAXRSTlMAQObYZgAAAX5JREFU\n",
       "OMu1lDFLw0AYht/E2GgSS2ZFEF3sVgR3t65ObkoXcRKCiIOTg7NkFKc4iFT/gkihqIhLfoCF4Ojk\n",
       "LxBz913SfMkFksEX3rvrc3xv75K7AP+ibtyOkw6Ua/QBe12q34xjVTT2mMx1Igs2gJH45QUZN0I1\n",
       "KPKubFXGm2wj5bLk7FLMQx01Ytwd5yQL3VPWhi6EPHTSo55xTzwCMyyGXitrQ7/BQ5+n1HN+m3pQ\n",
       "LMPcDlkbesZDFyOTBpwPVPAstBOQtaF3PLSza9Pfc55u3euzUCsiA+cPQo/F2SseasKgd8p5+pLc\n",
       "hIV2L8jalf7y0H3gCRq+hhtWBu+H3CS0J069hp/isEXoJSu20t7xqxzL6Vprtp9fo9nsNisWgVZQ\n",
       "5XBfYh46H5G1Kz1ixRN6fhUObytE8yP1RTVDdfRFM61y4D7/ZGzKvToJuaxXeR39IkryzwfnwHup\n",
       "uO6a0rMZtuOZjpX1GrXk2XUm12ilJVenwSfXyIjbcdKnslZ/0Wh0G1nAJhoAAAAASUVORK5CYII=\n",
       "\" style=\"display:inline;vertical-align:middle;\" /></a><br>"
      ],
      "text/plain": [
       "expr: (TRUE and (TRUE or FALSE)) = TRUE"
      ]
     },
     "execution_count": 2,
     "metadata": {},
     "output_type": "execute_result"
    }
   ],
   "source": [
    "# build up the expression from sub-expressions\n",
    "expr = Equals(And(TRUE, trueOrFalse.expr), TRUE)"
   ]
  },
  {
   "cell_type": "code",
   "execution_count": 3,
   "metadata": {},
   "outputs": [
    {
     "name": "stdout",
     "output_type": "stream",
     "text": [
      "Passed sanity check: built 'expr' is the same as the stored Expression.\n"
     ]
    }
   ],
   "source": [
    "# check that the built expression is the same as the stored expression\n",
    "%check_expr"
   ]
  },
  {
   "cell_type": "code",
   "execution_count": 4,
   "metadata": {},
   "outputs": [
    {
     "data": {
      "text/html": [
       "<table><tr><th>&nbsp;</th><th>core type</th><th>sub-expressions</th><th>expression</th></tr>\n",
       "<tr><td>0</td><td>Operation</td><td>operator:&nbsp;1<br>operands:&nbsp;2<br></td><td><a class=\"ProveItLink\" href=\"expr.ipynb\"><img src=\"data:image/png;base64,iVBORw0KGgoAAAANSUhEUgAAAKgAAAAVBAMAAAAgMbgsAAAAMFBMVEX////c3NwiIiJERESqqqqY\n",
       "mJh2dnZmZmYQEBDu7u4yMjJUVFTMzMyIiIi6uroAAAAs73DqAAAAAXRSTlMAQObYZgAAAX5JREFU\n",
       "OMu1lDFLw0AYht/E2GgSS2ZFEF3sVgR3t65ObkoXcRKCiIOTg7NkFKc4iFT/gkihqIhLfoCF4Ojk\n",
       "LxBz913SfMkFksEX3rvrc3xv75K7AP+ibtyOkw6Ua/QBe12q34xjVTT2mMx1Igs2gJH45QUZN0I1\n",
       "KPKubFXGm2wj5bLk7FLMQx01Ytwd5yQL3VPWhi6EPHTSo55xTzwCMyyGXitrQ7/BQ5+n1HN+m3pQ\n",
       "LMPcDlkbesZDFyOTBpwPVPAstBOQtaF3PLSza9Pfc55u3euzUCsiA+cPQo/F2SseasKgd8p5+pLc\n",
       "hIV2L8jalf7y0H3gCRq+hhtWBu+H3CS0J069hp/isEXoJSu20t7xqxzL6Vprtp9fo9nsNisWgVZQ\n",
       "5XBfYh46H5G1Kz1ixRN6fhUObytE8yP1RTVDdfRFM61y4D7/ZGzKvToJuaxXeR39IkryzwfnwHup\n",
       "uO6a0rMZtuOZjpX1GrXk2XUm12ilJVenwSfXyIjbcdKnslZ/0Wh0G1nAJhoAAAAASUVORK5CYII=\n",
       "\" style=\"display:inline;vertical-align:middle;\" /></a></td></tr>\n",
       "<tr><td>1</td><td>Literal</td><td></td><td><a class=\"ProveItLink\" href=\"../../../../equality/__pv_it/2fb26078095930560931daa0500ce419a39ea6cd0/expr.ipynb\"><img src=\"data:image/png;base64,iVBORw0KGgoAAAANSUhEUgAAAA4AAAAFBAMAAACHocAhAAAAFVBMVEX///9EREQiIiJUVFQyMjJm\n",
       "ZmYAAADubVkoAAAAAXRSTlMAQObYZgAAABRJREFUCNdjCHEBAWcGXCBICQQUAUpuAwlgGKrkAAAA\n",
       "AElFTkSuQmCC\n",
       "\" style=\"display:inline;vertical-align:middle;\" /></a></td></tr>\n",
       "<tr><td>2</td><td>ExprTuple</td><td>3, 9</td><td><a class=\"ProveItLink\" href=\"../3da9d80d08c0a098822bbebe3712e582824ab2040/expr.ipynb\"><img src=\"data:image/png;base64,iVBORw0KGgoAAAANSUhEUgAAAJcAAAAVBAMAAAC5yWGZAAAAMFBMVEX////c3NwiIiJERESqqqqY\n",
       "mJh2dnZmZmYQEBDu7u4yMjJUVFTMzMyIiIi6uroAAAAs73DqAAAAAXRSTlMAQObYZgAAAcZJREFU\n",
       "OMutlL9Lw0AUx7/9kaZJ05hZEUSnbkV071Zw6tRBULqIk1BEnByquLhoxuIUBxEXqbuUQlERB/sH\n",
       "KAQnEQTxDxBzd0l6L1eigw96r3f93qf37t57wL+aPZq8/pG2SfOVpXU2PEKf51Ylv1k9bPPlhcSm\n",
       "DP/zvXgeqfRBMLnkW9ux1hXe5P4+PD0fBxhLTZkvVB5QHlGYGX57kWQoMY5QhlKtpcCaQNGlsGFF\n",
       "+CMZZrEryLoSzOgosC7wDgrriyPZngzDWfCpQ5YuKbBcDbsUZnhZ7vUWgdVD4Fi6qcAKbZxTWKGh\n",
       "1/jVNQgsCNGqEtiKAst7OKawLDI8wKJPYMHll3wCe1NgdgffFLYG3DA/RWGYwykI7EmBWZ9JWIVl\n",
       "8QTYDjb+ADsksHzgTYeFWaOw6eBsv4e5TGAMxIDI0QdA6XZEYatscGWY5oVPHMGG4n74OxOYtehC\n",
       "SQ3jK5Ear0IRVkc/qiRbRHUXh3Ih0i+o6QPeE64Y7MSRVKaPoiOXrB+X9X6iWTzQqSgnW97cTVSs\n",
       "ZM30LljgV6jJS1tRC1LNdFNhIutkmMGSfWayOtNLhV3zUW7SJSfunKrNprHKA2XpGfgBMh5xrsej\n",
       "7VEAAAAASUVORK5CYII=\n",
       "\" style=\"display:inline;vertical-align:middle;\" /></a></td></tr>\n",
       "<tr><td>3</td><td>Operation</td><td>operator:&nbsp;4<br>operands:&nbsp;5<br></td><td><a class=\"ProveItLink\" href=\"../219323f33c5b0fc278d32ee90f89d1ffe2bd9d4b0/expr.ipynb\"><img src=\"data:image/png;base64,iVBORw0KGgoAAAANSUhEUgAAAGwAAAAVBAMAAABRZRb3AAAAMFBMVEX///8QEBCqqqqYmJiIiIi6\n",
       "urpUVFQyMjLu7u7c3Nx2dnbMzMxEREQiIiJmZmYAAABKII+GAAAAAXRSTlMAQObYZgAAAT9JREFU\n",
       "OMtjYKAmCMEnyRzAwPD2LgjcQZXgTsAuzsDpACJfg9n74KIzoDR7A5J4ANggqHkPwNJo2uqgtAuy\n",
       "eDZCBKqNeQGKNu6zDRCGBLK2PSDiBrI2DgEUbWwhYKczsBYga2OfwMDA9ABZG8MhFG3tDBfANN8C\n",
       "ZG0gLSCtSNrWoWhbzPAIYr4Bip9vQB2K0KaOou0Cw3QwzRiAog0YHKmo2gKRpZkdGNg2gBj8qNp4\n",
       "GTgKULXtR5FuAMUzpjY+BS4DPNr0gLgS7EgFFG2cBbwMeBxZCdXKwIMaJAzZJmjazJGkuQ+A/QEE\n",
       "XA9Qte25gaYNHAG7oJEN8hELKMJZIdG3C6aYHaKYD5i2Ze/eBZpeipS6WREJVxItQzSg8iGJCxNY\n",
       "4c+NXA7Yxdkb8GprxyHOmYBXWyYuiSn4dLFsYAAAIBRaTX6frgYAAAAASUVORK5CYII=\n",
       "\" style=\"display:inline;vertical-align:middle;\" /></a></td></tr>\n",
       "<tr><td>4</td><td>Literal</td><td></td><td><a class=\"ProveItLink\" href=\"../76b5f4f4c45c0b6a9b59b297fc07dfa9555698f50/expr.ipynb\"><img src=\"data:image/png;base64,iVBORw0KGgoAAAANSUhEUgAAAAwAAAAOBAMAAADpk+DfAAAALVBMVEX///+qqqqYmJh2dnaIiIi6\n",
       "urpUVFQiIiJERETMzMxmZmYyMjLu7u7c3NwAAABvwqPxAAAAAXRSTlMAQObYZgAAAEtJREFUCNdj\n",
       "YGDgPcAAAtwLwNSMGjCV6gIieTawgyhmBS4BIMXOwLsBSKkwMGQCKaC6aQwMjEBd3BdACMScAVJd\n",
       "wJAKolwYAkAUKwAk0guX6efcigAAAABJRU5ErkJggg==\n",
       "\" style=\"display:inline;vertical-align:middle;\" /></a></td></tr>\n",
       "<tr><td>5</td><td>ExprTuple</td><td>9, 6</td><td><a class=\"ProveItLink\" href=\"../a5238973fc9738d40ba4c23ba4f7cbf0214203100/expr.ipynb\"><img src=\"data:image/png;base64,iVBORw0KGgoAAAANSUhEUgAAAF0AAAAVBAMAAADWVP/xAAAAMFBMVEX////c3NwiIiJERESqqqqY\n",
       "mJh2dnZmZmYQEBDu7u4yMjJUVFTMzMyIiIi6uroAAAAs73DqAAAAAXRSTlMAQObYZgAAAQ1JREFU\n",
       "KM9jYCAV8F0gWmkciDjNwK4EBgZgMRQOAsiC5Q4AiZUgFk8BkhyUwwcmD0DEjoPJBQwMvBdwqecG\n",
       "KeW9gKw+jIGBYwIu9TwgNzFNQFY/g4HhFQMu9QwLgdidAVk9swNDGW717lA9CPVsBQxLcasHuoXH\n",
       "AEU9ywKGPtzqgX7lfoCinq+B4R9u9QwKDLMYUNTzfMCrvoQhFUN9Cx71UkAb0N1jiqRkApp67qMX\n",
       "UNWzLmBIRyjh/ISmnsdoAgN6eD6CyCSA1PcLIDhgsBxCFSkpaSgpKTMwcD1g4BBAStoCaKnyJBof\n",
       "mB5YExBcVkIZIBeWnolTzwlMzwzSCD6hnMYNci8j8fnxDgMDAHVaQe0XO784AAAAAElFTkSuQmCC\n",
       "\" style=\"display:inline;vertical-align:middle;\" /></a></td></tr>\n",
       "<tr><td>6</td><td>Operation</td><td>operator:&nbsp;7<br>operands:&nbsp;8<br></td><td><a class=\"ProveItLink\" href=\"../../../disjunction/__pv_it/7ee56ac56fe7319585c441261a5a8301695cb6a90/expr.ipynb\"><img src=\"data:image/png;base64,iVBORw0KGgoAAAANSUhEUgAAADUAAAAPBAMAAAC2KZqIAAAAMFBMVEX///8QEBCYmJiqqqrc3Nwy\n",
       "MjLu7u6IiIhUVFS6urp2dnbMzMxEREQiIiJmZmYAAADfOGkeAAAAAXRSTlMAQObYZgAAAHhJREFU\n",
       "GNNjeHsXBO4woAKWAihjH4TiBJMbwCT3A1Q5DpAwewFWOe4DQII3AascQwgQ2zFgl7ODymOTA5oH\n",
       "NhebHNAdHBNwyDFcYEhlwCX3mGERTjlXoE5cchybCnDKcZ9NQJfbBQ/iODDJBwx82bt3D6AG/zYU\n",
       "HgBsMC5BQDKFNgAAAABJRU5ErkJggg==\n",
       "\" style=\"display:inline;vertical-align:middle;\" /></a></td></tr>\n",
       "<tr><td>7</td><td>Literal</td><td></td><td><a class=\"ProveItLink\" href=\"../../../disjunction/__pv_it/087d0b4ded7c7e5bf3bba05ecb616d7a8051ff650/expr.ipynb\"><img src=\"data:image/png;base64,iVBORw0KGgoAAAANSUhEUgAAAAwAAAAOBAMAAADpk+DfAAAALVBMVEX///+YmJh2dnZmZmaqqqrc\n",
       "3NwyMjLu7u4iIiJERESIiIhUVFTMzMy6uroAAAD0I/TTAAAAAXRSTlMAQObYZgAAAEtJREFUCNdj\n",
       "uMAABDwMe0DUKoaTIKqdgS2AgYHFAITAzHYGsMQqBoa9QIqDgT0BSDE7MAkAKdYEDpAehj1SYOpk\n",
       "O5hiMwBTPAUMDAB33Atnw8aG2QAAAABJRU5ErkJggg==\n",
       "\" style=\"display:inline;vertical-align:middle;\" /></a></td></tr>\n",
       "<tr><td>8</td><td>ExprTuple</td><td>9, 10</td><td><a class=\"ProveItLink\" href=\"../../../disjunction/__pv_it/0f60990fe1c69084ca218cead46950bf14732b6a0/expr.ipynb\"><img src=\"data:image/png;base64,iVBORw0KGgoAAAANSUhEUgAAADUAAAAVBAMAAAAUZLt1AAAAMFBMVEX////c3NwiIiJERESqqqqY\n",
       "mJh2dnZmZmYQEBDu7u4yMjJUVFTMzMyIiIi6uroAAAAs73DqAAAAAXRSTlMAQObYZgAAALFJREFU\n",
       "KM9jYMAH+C5gFY4DEacZ2JXAwAAmLAsi2A8AiZUgFk8BkpbjYHIBAwPvBRxyYQwMHBNwyM1gYHjF\n",
       "gEOO2YGhDJccWwHDUlxyLAsY+nDJ8TUw/MMlx/MBr1wLHjNNkeQmIMuxLmBIR8hxfkLzwyOIXAJI\n",
       "rl+AgaFISUlDSUmZgYHrAQOHAFJ0IbFBYcaagOCyIkdgLiyOMOU4gXHEII3gI6cAbpD5jNjTxB0G\n",
       "BgCWci1ZX87w6gAAAABJRU5ErkJggg==\n",
       "\" style=\"display:inline;vertical-align:middle;\" /></a></td></tr>\n",
       "<tr><td>9</td><td>Literal</td><td></td><td><a class=\"ProveItLink\" href=\"../../../__pv_it/68a87cc3370287d726c7086ace789e680e4461c30/expr.ipynb\"><img src=\"data:image/png;base64,iVBORw0KGgoAAAANSUhEUgAAAA4AAAAOBAMAAADtZjDiAAAAFVBMVEX///92dnbMzMxEREQiIiJm\n",
       "ZmYAAABAT6GXAAAAAXRSTlMAQObYZgAAABhJREFUCNdjCHEBAWcGIFBlgABa0YpADAAxegPJJk4d\n",
       "XAAAAABJRU5ErkJggg==\n",
       "\" style=\"display:inline;vertical-align:middle;\" /></a></td></tr>\n",
       "<tr><td>10</td><td>Literal</td><td></td><td><a class=\"ProveItLink\" href=\"../../../__pv_it/8f1f7fac882de28c72b62ab80a1700b6d8fd066b0/expr.ipynb\"><img src=\"data:image/png;base64,iVBORw0KGgoAAAANSUhEUgAAAA4AAAAOBAMAAADtZjDiAAAAG1BMVEX///9EREQQEBAiIiJmZmbM\n",
       "zMyIiIjc3NwAAACryk5kAAAAAXRSTlMAQObYZgAAABlJREFUCNdjYGBgKGOAgBBa0s7GxkbGxoYA\n",
       "FMUF2aBfHgoAAAAASUVORK5CYII=\n",
       "\" style=\"display:inline;vertical-align:middle;\" /></a></td></tr>\n",
       "</table>\n"
      ],
      "text/plain": [
       "0. (TRUE and (TRUE or FALSE)) = TRUE\n",
       "   core type: Operation\n",
       "   operator: 1\n",
       "   operands: 2\n",
       "1. =\n",
       "   core type: Literal\n",
       "   sub-expressions: \n",
       "2. (TRUE and (TRUE or FALSE) , TRUE)\n",
       "   core type: ExprTuple\n",
       "   sub-expressions: 3, 9\n",
       "3. TRUE and (TRUE or FALSE)\n",
       "   core type: Operation\n",
       "   operator: 4\n",
       "   operands: 5\n",
       "4. and\n",
       "   core type: Literal\n",
       "   sub-expressions: \n",
       "5. (TRUE , TRUE or FALSE)\n",
       "   core type: ExprTuple\n",
       "   sub-expressions: 9, 6\n",
       "6. TRUE or FALSE\n",
       "   core type: Operation\n",
       "   operator: 7\n",
       "   operands: 8\n",
       "7. or\n",
       "   core type: Literal\n",
       "   sub-expressions: \n",
       "8. (TRUE , FALSE)\n",
       "   core type: ExprTuple\n",
       "   sub-expressions: 9, 10\n",
       "9. TRUE\n",
       "   core type: Literal\n",
       "   sub-expressions: \n",
       "10. FALSE\n",
       "    core type: Literal\n",
       "    sub-expressions: "
      ]
     },
     "execution_count": 4,
     "metadata": {},
     "output_type": "execute_result"
    }
   ],
   "source": [
    "# display the expression information\n",
    "expr.exprInfo()"
   ]
  },
  {
   "cell_type": "code",
   "execution_count": null,
   "metadata": {},
   "outputs": [],
   "source": []
  }
 ],
 "metadata": {
  "kernelspec": {
   "display_name": "Python 3",
   "language": "python",
   "name": "python3"
  }
 },
 "nbformat": 4,
 "nbformat_minor": 0
}
