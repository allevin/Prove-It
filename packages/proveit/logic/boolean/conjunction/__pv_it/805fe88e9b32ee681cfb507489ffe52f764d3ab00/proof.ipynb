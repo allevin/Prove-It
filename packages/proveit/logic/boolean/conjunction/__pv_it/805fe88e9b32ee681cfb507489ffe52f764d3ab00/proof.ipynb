{
 "cells": [
  {
   "cell_type": "markdown",
   "metadata": {},
   "source": [
    "Show the Proof\n",
    "========"
   ]
  },
  {
   "cell_type": "code",
   "execution_count": 1,
   "metadata": {},
   "outputs": [
    {
     "data": {
      "text/html": [
       "<table><tr><th>&nbsp;</th><th>step type</th><th>requirements</th><th>statement</th></tr>\n",
       "<tr><td>0</td><td>specialization</td><td>1, 2, 3</td><td><span style=\"font-size:20px;\"><a class=\"ProveItLink\" href=\"../bc6eba17783e26927cd0fad6c73e0fa0d22c5a230/expr.ipynb\"><img src=\"data:image/png;base64,iVBORw0KGgoAAAANSUhEUgAAAIsAAAAVBAMAAACEWwD/AAAAMFBMVEX///9ERETc3NyqqqpUVFS6\n",
       "urrMzMwyMjIQEBCIiIh2dnYiIiLu7u5mZmaYmJgAAABJJ2g3AAAAAXRSTlMAQObYZgAAAhhJREFU\n",
       "OMtjYGDgu8dACWBbpQCieHYxUAbYmkEk5wcoNxtVlqte/Hu3MIz35L+Li3gAioLlH+srNhoAGdfB\n",
       "yhugwvVotjCyTjh+agGM18jAwPsVVYFAJE/NKiC9AtkYvv0HMIzhDCiAufwnEH9BN4ZhKju6Mcr3\n",
       "wUHFwDN99+4CqDHMD3ygWjg/AS36BWaerN69HWaMHcsBNGMmzId4Pf0NkmuCBGAcoCruHrC76g4g\n",
       "uUYRzTWsB+wfgGgmGSRPZT+EaeF3YGAqBHMUDyA8xbZPBmYML8T7RxnyJ4A1KyCM2f2/E8bJ95x5\n",
       "G2wNgxAibKL3/wDpeQ/iZED8EsCgfwFEH0QJ4skwT81XYODZAg46AeQgnmkIpNmBGlPaIDHh4uIP\n",
       "VhCxezciiBkEoqBaJEBGgZzD2g2UhwcxIysoRYgDJSISwEHDwMAB1pyC7BoGAUYoBxTX70Fa2ByQ\n",
       "XcPIALSbGyTOAtYNTI3c4LA+jdUYtn9Awh+UZHk2YBgDDhsukDgTUAU7OFewPEAxJoqBB5ZsmL6D\n",
       "hf1QjAF5ChHhx0Ha/oCDcCuSMXw3BRjOb4Amm4wasPDpACRj3k5ETjeK/UUMfPLfwVGlfg2eNT/u\n",
       "cGZgOAF0CK/8Fxf3Oog4U20CPGtKtxigZwY4MKneXYDMD0KTZ3aHxhQMYDcGHTwgVOCAjeGj2Bhw\n",
       "ecOzE78iToKlXyukoFlMeVkMAJ7qlyJQudk2AAAAAElFTkSuQmCC\n",
       "\" style=\"display:inline;vertical-align:middle;\" /></a> <a class=\"ProveItLink\" href=\"proof.ipynb\" style=\"text-decoration: none\">&#x22A2;&nbsp;</a><a class=\"ProveItLink\" href=\"../69569e49afd55367ef23d22796cb96c9c92dda870/expr.ipynb\"><img src=\"data:image/png;base64,iVBORw0KGgoAAAANSUhEUgAAAGwAAAAVBAMAAABRZRb3AAAAMFBMVEX////c3NwiIiJERESqqqqY\n",
       "mJh2dnZmZmYQEBDu7u4yMjJUVFTMzMyIiIi6uroAAAAs73DqAAAAAXRSTlMAQObYZgAAAd1JREFU\n",
       "OMtjYCAT8F3AJ8v6AIfEaQh1CF39/t+7N69jYKhBFWZbb/WryQTIWAnhr4eKM06AMjgMGBjqHzBw\n",
       "oRnHzHdh1rQEBl6IG1n1ocq5CqDy54ES5zcwsCZgaON9sICBA6JcpF4AInxYEyp/HygQn8DA2QDh\n",
       "zl2kpAXVxhKwk+EVRPTCfajf992FarMAYg2gmSZgHs/SCQjbHhowlEGCc4J/AJjBuYAJqu03A4OU\n",
       "JZBOB/OEJyAceSh4AsNSMGce2CugkApgd4AY//vudVUQwwvMNUT4Tel/LwNDH5jzgEEeEhRMDIwL\n",
       "wAzejwwMkzYAGS/AjjBADpIrBgz/wEbv3r0fIhHLwLAHIg0MCt6voBAFe6JJSQkeJAwGzyDa+IDR\n",
       "BLFEExb//ECbWL/BtPFsQLKNwYCZoQXEBnqHCRzQLECncoGj4jwwiLi/wB2pgKbNFJQygNq4PoAj\n",
       "WwCiFRJt8iAXRIFVb0XR9gwcvrNA3J/gyAYRCtBo4+maAI+ASQ8Q2lhrDRgeAeOkfyEDq/0vkCX7\n",
       "QDKgCC/+v3v3KnBUroMk1eUHYEn5s8YWYFAIIKe4B9AAQgBY4mLZBQlJWAZJwJ8d2XBkx5X4tc3C\n",
       "IS6NX9tGHOKMeAsF3gNYhQHh/nxxYwq8OgAAAABJRU5ErkJggg==\n",
       "\" style=\"display:inline;vertical-align:middle;\" /></a></span></td></tr>\n",
       "<tr><td>&nbsp;</td><td colspan=4 style=\"text-align:left\"><span style=\"font-size:20px;\"><a class=\"ProveItLink\" href=\"../../../../../__pv_it/2cbe72a7ad6f655694dd697106680215e8489b600/expr.ipynb\"><img src=\"data:image/png;base64,iVBORw0KGgoAAAANSUhEUgAAAA8AAAAOBAMAAAACpFvcAAAALVBMVEX///8QEBBERERUVFS6urqI\n",
       "iIhmZmaqqqrc3Nzu7u6YmJgyMjIiIiLMzMwAAADtIaYWAAAAAXRSTlMAQObYZgAAAFtJREFUCNdj\n",
       "YACBOwxQsA9Kc52bAGG05zVAGAFxDmCaZULdAjBjCsO9ADDDgaEvAUTzGhvbKYCVMDAwbgAxChgY\n",
       "eASANAeQwf0AyJgNxEwvGRia5HYwcOm9TgAA6BoR3jrzwFcAAAAASUVORK5CYII=\n",
       "\" style=\"display:inline;vertical-align:middle;\" /></a> : <a class=\"ProveItLink\" href=\"../../../../../__pv_it/2cbe72a7ad6f655694dd697106680215e8489b600/expr.ipynb\"><img src=\"data:image/png;base64,iVBORw0KGgoAAAANSUhEUgAAAA8AAAAOBAMAAAACpFvcAAAALVBMVEX///8QEBBERERUVFS6urqI\n",
       "iIhmZmaqqqrc3Nzu7u6YmJgyMjIiIiLMzMwAAADtIaYWAAAAAXRSTlMAQObYZgAAAFtJREFUCNdj\n",
       "YACBOwxQsA9Kc52bAGG05zVAGAFxDmCaZULdAjBjCsO9ADDDgaEvAUTzGhvbKYCVMDAwbgAxChgY\n",
       "eASANAeQwf0AyJgNxEwvGRia5HYwcOm9TgAA6BoR3jrzwFcAAAAASUVORK5CYII=\n",
       "\" style=\"display:inline;vertical-align:middle;\" /></a>, <a class=\"ProveItLink\" href=\"../../../../../__pv_it/077b2ff79244fb4582cbe22c6e3356fa92a52f2f0/expr.ipynb\"><img src=\"data:image/png;base64,iVBORw0KGgoAAAANSUhEUgAAABAAAAAOBAMAAADUAYG5AAAAMFBMVEX///+qqqru7u4iIiJ2dnbc\n",
       "3NyIiIjMzMxmZmYQEBC6uroyMjJERERUVFSYmJgAAADLUcuvAAAAAXRSTlMAQObYZgAAAGpJREFU\n",
       "CNdjYGB4+//u3dMLGIBgDgMDxy8gzf4NiP8CGWxfGRj4vgAZPBMYGJgnARn8FxhY9ygAGfXX0pof\n",
       "gDTlBzAw2YIYJ0EckBBI53sHoBH/gIz7AhBjWH9DjancBLTl/N+7t/cxMAAA3u4f/5xagjYAAAAA\n",
       "SUVORK5CYII=\n",
       "\" style=\"display:inline;vertical-align:middle;\" /></a> : <a class=\"ProveItLink\" href=\"../../../../../__pv_it/077b2ff79244fb4582cbe22c6e3356fa92a52f2f0/expr.ipynb\"><img src=\"data:image/png;base64,iVBORw0KGgoAAAANSUhEUgAAABAAAAAOBAMAAADUAYG5AAAAMFBMVEX///+qqqru7u4iIiJ2dnbc\n",
       "3NyIiIjMzMxmZmYQEBC6uroyMjJERERUVFSYmJgAAADLUcuvAAAAAXRSTlMAQObYZgAAAGpJREFU\n",
       "CNdjYGB4+//u3dMLGIBgDgMDxy8gzf4NiP8CGWxfGRj4vgAZPBMYGJgnARn8FxhY9ygAGfXX0pof\n",
       "gDTlBzAw2YIYJ0EckBBI53sHoBH/gIz7AhBjWH9DjancBLTl/N+7t/cxMAAA3u4f/5xagjYAAAAA\n",
       "SUVORK5CYII=\n",
       "\" style=\"display:inline;vertical-align:middle;\" /></a></span></td></tr><tr><td>1</td><td>theorem</td><td></td><td><span style=\"font-size:20px;\"> <a class=\"ProveItLink\" href=\"../../_proofs_/binaryClosure.ipynb\" style=\"text-decoration: none\">&#x22A2;&nbsp;</a><a class=\"ProveItLink\" href=\"../5c84df2f748f99e9970088a408218dab6d6882750/expr.ipynb\"><img src=\"data:image/png;base64,iVBORw0KGgoAAAANSUhEUgAAAMcAAAAWBAMAAACGSZV/AAAAMFBMVEX///8QEBC6urrMzMxUVFRm\n",
       "ZmZERETc3NwyMjKqqqp2dnaIiIiYmJgiIiLu7u4AAAAU9Wx4AAAAAXRSTlMAQObYZgAAA11JREFU\n",
       "SMe9Vl9Ik1EUP9vn57ft+1zSS0YYK4IiK/cg9hCxoUMNIoNYD/2dQTMp7HsILaQaghhi6YvR414q\n",
       "I4hB9RA++BUkZkTzwYhwMqFCMitCl5Vo59x7v23OufVSF+537z3nnvu753fOuRvA/2jxv9tmjeCn\n",
       "LNcOzZVd/gx7lCYv84JUYJe8bCpFM06vn/XVtAMcWi529JyZL20CkN0A90hwIy8I7bBxr23fuEgx\n",
       "SbAEAE66wJZhUmiNTH0KA4QAWmh7IB+GSmwN8PmrRT7aDgqlB5UeL2jhFSCqCxFG+PXk3nwgFrr1\n",
       "Ru5A3w8uq5wQykEd4HUYnMV8OX099laA2I0DAJPI6N3W1st52dpGsQ9xp9TvXFYlPIMG7KN4iyYe\n",
       "su54ypOtyFEhupAIBt/lBTmCXeZ07LIvsNEZKhLKWYCLzTjeZquWeIquvUO4cCCt1QCNTNjJvjfn\n",
       "/DXuFSDdFAODne2SfvPsMQTL0uzA43Ga3GLLxlRMYksbcLQjA1vwTiwTOQtaMaicXK2rq8MQBmsp\n",
       "LqwQrKDMMVERKII/jNEMZfcmdolAeuCf4MpaTJtVdtQHzoLsBStaTfuPQSQ8vVkY0AXWMJAKny8B\n",
       "oraq+WF4iErGHnaJ0lgsGXgIbEdPMeVVo4ix+GCMXzACchTUU1e+IIjj8woQ/JQw0QSvUJSjF9ov\n",
       "E0RUrAlSyEGcIbZXigSZ6qsbhnV4TtNIuOyEMFhPdFEI7JRJJLFjOG06KxMkouBnkq5oJgjRBY1V\n",
       "JCqA40xVPvComVUpgvhLzZicIyNaXMLew0pR50C8TK6SwTDbun8ZCNKlka6PYb+AQabqB3gal8Lc\n",
       "E3mPMKDspFRkOXKe6K0E8+HDMpFK4skUnnGlQLSjAW4HFnoynGN+ZgunkbFe6U0weJZi4hAGOymk\n",
       "UVAa5nUYWuqgUgTx0Bxe8vmuMY/b+YvQ4TYfyMToPvKZUDU6XNbBw5RIbrnb6eWeJEEsxP669MoR\n",
       "+ZzWzGfFXsezy2yTydkOzBJD6QRlERRMs1pBV5v5nBN/I7lfBUcku/y+OXmfAKV+XFqA/jl/HWbR\n",
       "RxcrxqCR5alfrU1lF/NST//9Sc7uYEzS2wVi25sTpDa7uEDPEOxe9QSFuGjL+ZPjzi5/mCkw/s3/\n",
       "iD9xNeHJcqW+GAAAAABJRU5ErkJggg==\n",
       "\" style=\"display:inline;vertical-align:middle;\" /></a></span></td></tr>\n",
       "<tr><td>&nbsp;</td><td colspan=4 style-\"text-align:left\"><a class=\"ProveItLink\" href=\"../../_proofs_/binaryClosure.ipynb\">proveit.logic.boolean.conjunction.binaryClosure</a></td></tr><tr><td>2</td><td>assumption</td><td></td><td><span style=\"font-size:20px;\"><a class=\"ProveItLink\" href=\"../3612ec1dc3b8c98c2193921a926214e0c20eaba70/expr.ipynb\"><img src=\"data:image/png;base64,iVBORw0KGgoAAAANSUhEUgAAAEkAAAAVBAMAAAD4Ed5jAAAAMFBMVEX///9ERETc3NyqqqpUVFS6\n",
       "urrMzMwyMjIQEBCIiIh2dnYiIiLu7u5mZmaYmJgAAABJJ2g3AAAAAXRSTlMAQObYZgAAAS5JREFU\n",
       "KM9jYGDgu8eAB7CtUgBRPLsY8AK2ZhDJ+QHK24Aqu/xjfcVGAyDjOojH1QARZf+AZohAJE/NKiC9\n",
       "AlnV6z8YqhimsqOpYrL9BJHkmb57dwFUlR3LAVRVnJxfIarS3yCZpYhmVgzzP4iZMggb2fbJwFTx\n",
       "go3nCWD7CZZjVICrit7/YwKQfg/iZASASFYGpr9guYPIrp9pCPL8BQaGlDawUIqLy0cwI2L3boTr\n",
       "GVkXABniD4DCCSAhoIHtEOXIZjEyCDAwcINUsoA0MgPxDrDcaQxVYHdxgWJGGYjrwXIsD5BVgWyE\n",
       "hwQPyDz5A2DPbkVS9XYiUngxSXxXYHj4vxYsqX4NHtvSLQbo8QgHJtUQP8IAdlXoAKyKj5AqcPri\n",
       "2UkgrbaCKb7FBNM9AKQsUzxrU6Y9AAAAAElFTkSuQmCC\n",
       "\" style=\"display:inline;vertical-align:middle;\" /></a> <a class=\"ProveItLink\" href=\"../dc2523262ffa0ce1920b871c7f702fb73e741c290/proof.ipynb\" style=\"text-decoration: none\">&#x22A2;&nbsp;</a><a class=\"ProveItLink\" href=\"../18d84e6b10643c76412edd0e67904c254c981c030/expr.ipynb\"><img src=\"data:image/png;base64,iVBORw0KGgoAAAANSUhEUgAAADYAAAAPBAMAAABdHiGLAAAAMFBMVEX///92dnYQEBBERERUVFS6\n",
       "urqIiIhmZmaqqqrc3Nzu7u6YmJgyMjIiIiLMzMwAAACFkkdwAAAAAXRSTlMAQObYZgAAANJJREFU\n",
       "GNNjYACBtwwogPG8zR9dCyjnPKocAzNrwpqFAmAm9/0FGHJsAQfAzBn1EyBiy87evQOV49jgBRZK\n",
       "yA8A03ynFyD0RRqAWKwL+jeAhSYvQJj5djOYs5ThfQJYyBJh393/amBWAMP8AhDNZYDslgwQj8/F\n",
       "xR9itu7du3C3MBgEgoQYGJjA7uVzQNLHYMAMZDQwMPAqgM28gC7HCZTj+QAW8kaRA5q5BsT+BRZa\n",
       "G4CQ4y4zYJisf5KB2/4P2KGcxx/AwvrzJQ+0MObwgbgTAgCMvTlc/0QYTQAAAABJRU5ErkJggg==\n",
       "\" style=\"display:inline;vertical-align:middle;\" /></a></span></td></tr>\n",
       "<tr><td>3</td><td>assumption</td><td></td><td><span style=\"font-size:20px;\"><a class=\"ProveItLink\" href=\"../914e2e75adaf19a4938e0413a1a8fbb4767549080/expr.ipynb\"><img src=\"data:image/png;base64,iVBORw0KGgoAAAANSUhEUgAAAEsAAAAVBAMAAAD85A5eAAAAMFBMVEX////c3NxERESqqqpUVFS6\n",
       "urrMzMwyMjIQEBCIiIh2dnYiIiLu7u5mZmaYmJgAAABXZE4RAAAAAXRSTlMAQObYZgAAAUJJREFU\n",
       "KM9jYGDgu8eAD7CtEgBRPLsY8AO2ZhDJ+QFEPvnv4qIegCK9/FN9xSYDIOM6iMfVABZsYmDg/Ypq\n",
       "jEIkT80qIL0CoYztJxB/QVfGMJUdVRnnR6BffoFlT1bv3g5TZsdyAEUZE5Dk7gGbW3cAyTQhVNP4\n",
       "HRgYi8DyQgcQlrLt04Ep4y0AkfmeM28/AEsqItwWvf/HBCD9HsTJAAfDfAEGni3gYFRA9sJMIyDN\n",
       "foGBIaUNLKQBUgoyjrV7926EF5hYFwAZ6kCJiASQECgs3oOE2ByQTWNiABrODRJnAbmN7R+Q8AcF\n",
       "Oc8GDGVgt3FtgAYb43ewpB+KMpCliAABBVtGDVjydACSsreTkMONV/+Li3sdRJKxNgEe9dotBqjB\n",
       "iwSY3aE+hQHsyjAAWBkfQWXg9Mazk1DqbQVTfIsJ5wUARE9btOyT4dIAAAAASUVORK5CYII=\n",
       "\" style=\"display:inline;vertical-align:middle;\" /></a> <a class=\"ProveItLink\" href=\"../c8fb2ead5ce9bf67050d1f45aa1e107c886568230/proof.ipynb\" style=\"text-decoration: none\">&#x22A2;&nbsp;</a><a class=\"ProveItLink\" href=\"../41a86ef0ff9417c73c472e1bdfa161b308e2753e0/expr.ipynb\"><img src=\"data:image/png;base64,iVBORw0KGgoAAAANSUhEUgAAADcAAAAPBAMAAACy3Eq1AAAAMFBMVEX///+qqqru7u4iIiJ2dnbc\n",
       "3NyIiIjMzMxmZmYQEBC6uroyMjJERERUVFSYmJgAAADLUcuvAAAAAXRSTlMAQObYZgAAAOZJREFU\n",
       "GNNjYGB4+//u3dMLGJCB95/9O20EwMw5DAwcv1AkGQ4sY9rkAmKwfwPiv+iSDFncIAbbVwYGvi9g\n",
       "MbXNxtYwSTleBSCDZwIDA/MksBn7FJB0xoAY/BcYWPeARWMUEMay2x0CMeqvpTU/AAsdRdi52P5n\n",
       "AoiRH8DAZAtiMB1AdlCaDIhxEqQApJVrsrExwkE8XA5ABsgX70EM9gvIOnkYgAax/wNy7oOCg8kA\n",
       "QxLkTdbfYKF7KJIgY0HerNwEFlJegCT5IgcYquf/3r29DyLEuqMAHvCH5wqghigD422oayEAAEv1\n",
       "Sz0foy5uAAAAAElFTkSuQmCC\n",
       "\" style=\"display:inline;vertical-align:middle;\" /></a></span></td></tr>\n",
       "</table>"
      ],
      "text/plain": [
       "<proveit._core_.proof._ShowProof at 0x7f94eb2c8908>"
      ]
     },
     "execution_count": 1,
     "metadata": {},
     "output_type": "execute_result"
    }
   ],
   "source": [
    "import proveit\n",
    "%show_proof"
   ]
  },
  {
   "cell_type": "code",
   "execution_count": null,
   "metadata": {},
   "outputs": [],
   "source": []
  }
 ],
 "metadata": {
  "kernelspec": {
   "display_name": "Python 3",
   "language": "python",
   "name": "python3"
  }
 },
 "nbformat": 4,
 "nbformat_minor": 0
}
