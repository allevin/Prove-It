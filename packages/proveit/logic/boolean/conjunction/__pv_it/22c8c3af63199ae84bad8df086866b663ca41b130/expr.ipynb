{
 "cells": [
  {
   "cell_type": "markdown",
   "metadata": {},
   "source": [
    "Expression of type <a class=\"ProveItLink\" href=\"../../../../../../../doc/html/api/proveit.logic.Set.html\">Set</a>\n",
    "=======================\n",
    "# from context <a class=\"ProveItLink\" href=\"../../_context_.ipynb\">proveit.logic.boolean.conjunction</a>"
   ]
  },
  {
   "cell_type": "code",
   "execution_count": 1,
   "metadata": {},
   "outputs": [],
   "source": [
    "# import Expression classes needed to build the expression\n",
    "from proveit._common_ import A, B\n",
    "from proveit.logic import Not, Or, Set"
   ]
  },
  {
   "cell_type": "code",
   "execution_count": 2,
   "metadata": {},
   "outputs": [
    {
     "data": {
      "text/html": [
       "<strong id=\"expr\">expr:</strong> <a class=\"ProveItLink\" href=\"expr.ipynb\"><img src=\"data:image/png;base64,iVBORw0KGgoAAAANSUhEUgAAAKcAAAAVBAMAAADROuOhAAAAMFBMVEX////c3NxERESqqqpUVFS6\n",
       "urrMzMwyMjIQEBCIiIh2dnYiIiLu7u5mZmaYmJgAAABXZE4RAAAAAXRSTlMAQObYZgAAAkxJREFU\n",
       "OMutlT2IE1EQxycft5tNNnsBC7FSsPAKwXRWQpT1Wrc8wSKEFHbZ5rAST0SvsbhKuEIMXKOCkNIv\n",
       "JJ0HNoeFFoIGQcSzOD8ioqjnzJvZt++9DWfjwO99zP4z72veCwBEr+H/mXe3RVX40PKeFSx75zoK\n",
       "iihhwLtC3eCTNVKHMTwjgGbXmU+uiM5M41PLAC+AgZdU1FdMuT9mDA8NmlIrUfEyVWa1QwBvEvDJ\n",
       "Tf3bxaDrQm4ff2GxTa3FTGApBmtIB6IhKGYFvS5oK534jOUmNXtUPAZHcQtPZmcIIYYhZgSdS5nc\n",
       "guAbluU2rQ5/XtkCR7GA3MftOAxMMWhzyOR2rvKHRBSLAlJgWzEF2H8U63uCCto0h/UnjLYw8X5Q\n",
       "vFSW3stUOhGm6zefUOO4sEOd83iorx6hUb7WEkY75qD0m6oVOZ/TALYiwC1/Rhm2JPi4nv61bMw+\n",
       "Mp8w2tGP4y80H5XMDQjVjE1FGYcLaIcGAhzBdSx19wqK7VUdtNmuT9yg8zjL6KcRtEEbXk2NGLU2\n",
       "kzkqdLR6+aW0wfluKAY4TPWrsXy1p/WREbQ8YTLHPqwu0WXkkRc/qMpUUJoepK/vBTulPEkdlT7s\n",
       "UFt4bKx9PZX6poLS1FsduyllJ/+Ikdu08L0Fb3cv4pHyLvpbWiX2fDeOL6iJLwszrullwbFNmdk4\n",
       "Vzm2xzVVL8d28Sd37O4MRX2N4aDRP54+NY3U7hcV8FTg9zR8YD1KHca2asvuFxVwUvCu8tu9YX48\n",
       "IFh2w3UUFEGXUf9RfwH9I6jGHH/6ZQAAAABJRU5ErkJggg==\n",
       "\" style=\"display:inline;vertical-align:middle;\" /></a><br>"
      ],
      "text/plain": [
       "expr: {[not]([not](A) or [not](B))}"
      ]
     },
     "execution_count": 2,
     "metadata": {},
     "output_type": "execute_result"
    }
   ],
   "source": [
    "# build up the expression from sub-expressions\n",
    "expr = Set(Not(Or(Not(A), Not(B))))"
   ]
  },
  {
   "cell_type": "code",
   "execution_count": 3,
   "metadata": {},
   "outputs": [
    {
     "name": "stdout",
     "output_type": "stream",
     "text": [
      "Passed sanity check: built 'expr' is the same as the stored Expression.\n"
     ]
    }
   ],
   "source": [
    "# check that the built expression is the same as the stored expression\n",
    "%check_expr"
   ]
  },
  {
   "cell_type": "code",
   "execution_count": 4,
   "metadata": {},
   "outputs": [
    {
     "data": {
      "text/html": [
       "<table><tr><th>&nbsp;</th><th>core type</th><th>sub-expressions</th><th>expression</th></tr>\n",
       "<tr><td>0</td><td>Operation</td><td>operator:&nbsp;1<br>operands:&nbsp;2<br></td><td><a class=\"ProveItLink\" href=\"expr.ipynb\"><img src=\"data:image/png;base64,iVBORw0KGgoAAAANSUhEUgAAAKcAAAAVBAMAAADROuOhAAAAMFBMVEX////c3NxERESqqqpUVFS6\n",
       "urrMzMwyMjIQEBCIiIh2dnYiIiLu7u5mZmaYmJgAAABXZE4RAAAAAXRSTlMAQObYZgAAAkxJREFU\n",
       "OMutlT2IE1EQxycft5tNNnsBC7FSsPAKwXRWQpT1Wrc8wSKEFHbZ5rAST0SvsbhKuEIMXKOCkNIv\n",
       "JJ0HNoeFFoIGQcSzOD8ioqjnzJvZt++9DWfjwO99zP4z72veCwBEr+H/mXe3RVX40PKeFSx75zoK\n",
       "iihhwLtC3eCTNVKHMTwjgGbXmU+uiM5M41PLAC+AgZdU1FdMuT9mDA8NmlIrUfEyVWa1QwBvEvDJ\n",
       "Tf3bxaDrQm4ff2GxTa3FTGApBmtIB6IhKGYFvS5oK534jOUmNXtUPAZHcQtPZmcIIYYhZgSdS5nc\n",
       "guAbluU2rQ5/XtkCR7GA3MftOAxMMWhzyOR2rvKHRBSLAlJgWzEF2H8U63uCCto0h/UnjLYw8X5Q\n",
       "vFSW3stUOhGm6zefUOO4sEOd83iorx6hUb7WEkY75qD0m6oVOZ/TALYiwC1/Rhm2JPi4nv61bMw+\n",
       "Mp8w2tGP4y80H5XMDQjVjE1FGYcLaIcGAhzBdSx19wqK7VUdtNmuT9yg8zjL6KcRtEEbXk2NGLU2\n",
       "kzkqdLR6+aW0wfluKAY4TPWrsXy1p/WREbQ8YTLHPqwu0WXkkRc/qMpUUJoepK/vBTulPEkdlT7s\n",
       "UFt4bKx9PZX6poLS1FsduyllJ/+Ikdu08L0Fb3cv4pHyLvpbWiX2fDeOL6iJLwszrullwbFNmdk4\n",
       "Vzm2xzVVL8d28Sd37O4MRX2N4aDRP54+NY3U7hcV8FTg9zR8YD1KHca2asvuFxVwUvCu8tu9YX48\n",
       "IFh2w3UUFEGXUf9RfwH9I6jGHH/6ZQAAAABJRU5ErkJggg==\n",
       "\" style=\"display:inline;vertical-align:middle;\" /></a></td></tr>\n",
       "<tr><td>1</td><td>Literal</td><td></td><td><a class=\"ProveItLink\" href=\"../../../../set_theory/enumeration/__pv_it/07381ed5b23806e8d7914b78cb6667769e3708dd0/expr.ipynb\"><img src=\"data:image/png;base64,iVBORw0KGgoAAAANSUhEUgAAAB4AAAAOBAMAAADKyLEKAAAAMFBMVEX///8iIiIQEBCIiIjMzMzc\n",
       "3Nyqqqp2dnZEREQyMjK6urru7u5mZmZUVFSYmJgAAACI6eGPAAAAAXRSTlMAQObYZgAAALRJREFU\n",
       "CNdjYGDgu3Nm3wIGBJjHwN0PZW5yYGDgLWBgyITy8zcwMMQDxZyh/INAvD6BgcEFypcB4vjPDiBm\n",
       "TPFRrhs/LjMwMP//38rAwCbKEMPA9gEkE3fp0waG+AUMRxh4JkC01T9guPTOOICBEWgVH5C//wHD\n",
       "H5D4fqCz9oCMDGD4DLaegRXslLMMDMpAgxlOMmQxHDRgYG5gYLBk4D7KcIe7gOHC2rt9QCXsh40Z\n",
       "GCKMGQDRkC8N/Ph1XAAAAABJRU5ErkJggg==\n",
       "\" style=\"display:inline;vertical-align:middle;\" /></a></td></tr>\n",
       "<tr><td>2</td><td>ExprTuple</td><td>3</td><td><a class=\"ProveItLink\" href=\"../17505840677fcab888a136ee22256efd6200c4be0/expr.ipynb\"><img src=\"data:image/png;base64,iVBORw0KGgoAAAANSUhEUgAAAKEAAAAVBAMAAADcJJPmAAAAMFBMVEX////c3NwiIiJERESqqqqY\n",
       "mJh2dnZmZmYQEBDu7u4yMjJUVFTMzMyIiIi6uroAAAAs73DqAAAAAXRSTlMAQObYZgAAAiNJREFU\n",
       "OMutVL9rFEEU/vbiJfdjzyxolRSKrUVEDIhN0gVsTJVCIblGUgkikiqQg6SxiVdKCtlDQkiTH61L\n",
       "yBIQlBSXPyDhjlQhlRYKJnj63szs7Js5iY0Pvp19337zZt6+NwP8f7t+5DkOwVbsXjVF2awADuWX\n",
       "Q5/AAWHRmy8Uz34nyaMuhlJYYFNqN30C24SK2phyU3iKZQrTA2JY1GQG7DgEimNNetTprZoagaMI\n",
       "fxEugRlYlJpiPjsOgZtLEVBu8Nx79Cg04Spq32jBH8A7WJzL+efwCBx1uCwP+LVFmIKnGKDFCm9o\n",
       "nLRYkPMXDPKqNp9M0zAPE60FTzG8g+AD7XnwpcW6DLBuYO092vzTHkNnrDJ3FO29k1e85rXYYpVq\n",
       "dYeN//6qRk50cYsWxpkpW1V1plR0IpTvcjINi15WtB169AwyIkySfd5WWzG3saZGqXhIY4c2GX61\n",
       "uDIi9WApthFf43lfRGoczNWdiCsy4opBRlDxCo0sa4zQLuEqwu807k86WY/LiOMGhghIWqGF8VQx\n",
       "1U+6tYWC2zG44JMQW8xnVUtNlwiCf9vAT8uF93VrCwW342c+lKJ7TmWznBpou/G2heLEBem2NLGR\n",
       "q7QNTVwmH1UzVboWpUiewgguoU2dQrIvuco3cQrVLWDvhbpHaBt078O/KPBC4B+3Gdua5/crynEO\n",
       "jMovoz6hbNfz+xXVKAcCmRI7gX/n11KP6FPgOMcfdPuta5pBO7AAAAAASUVORK5CYII=\n",
       "\" style=\"display:inline;vertical-align:middle;\" /></a></td></tr>\n",
       "<tr><td>3</td><td>Operation</td><td>operator:&nbsp;10<br>operand:&nbsp;4<br></td><td><a class=\"ProveItLink\" href=\"../7263e8a07597ec655d1ea354994470db6b7f8d4d0/expr.ipynb\"><img src=\"data:image/png;base64,iVBORw0KGgoAAAANSUhEUgAAAJIAAAAVBAMAAABf4KrdAAAAMFBMVEX////c3NxERESqqqqYmJgQ\n",
       "EBDu7u4yMjKIiIi6urpUVFTMzMx2dnYiIiJmZmYAAABjE816AAAAAXRSTlMAQObYZgAAAfVJREFU\n",
       "OMu1lD1II0EUx18+TDYfxoCFdh4csb1010m4RgVFbbRNE6wOtjtsTkvhQLfxsIx2roWS0iYprcRC\n",
       "rRTEVsRP7jQcl3tv3pvZnV21uz/8ZmZf/vtmduZNAP6HNgVLk6+5LKU9JlChyYQixwClffu9kCO9\n",
       "1/W3lwCugTHK1plQ5A4bl0ZqyoJ2afV9ALj1IEvh8HurQqDpX9hM0WhXGyxHewVpQroDCqN5wSgx\n",
       "do9tg4Ytas4g4lgvA8x0IDMLCq2cywRynBdsk1VaPL6TuoSIo4Kc4td+BEZU6jCBfqaesC1SAspC\n",
       "2WxHF2BoFPsjQW9vjTHKeIVnSuLKl7W0yxxjd3XthAafFTcXqHM6CI8xgRwk/lI3Kxu9A2A7HNzG\n",
       "r1QUGwLqABnwGBM48P0HmplKAfoho9YWdiRxDoc2oC28lQnHCyZTqVqsRTMN4HrSf+KZ+qqMDqTo\n",
       "YMzXJdx+LsaQo42584/xr0vWGB0YxG6Z7gSf++6E6sIOKqcR+nVckHtAp61OnANqWz7VTayl6jLs\n",
       "oHIqLNTjVZA7ZqS+K7/L8KX3Hc+ddyZ7aVyiq57vf1NLXBK05oSIGrKGeuCKKHpb1FWdivsO7cdX\n",
       "HMUV5p1/FTWhaz/HHbAoBFe/ydjKl+3nuAO2hEDDgqUf0UDM4ewr/gGGMJISJzoGpgAAAABJRU5E\n",
       "rkJggg==\n",
       "\" style=\"display:inline;vertical-align:middle;\" /></a></td></tr>\n",
       "<tr><td>4</td><td>Operation</td><td>operator:&nbsp;5<br>operands:&nbsp;6<br></td><td><a class=\"ProveItLink\" href=\"../099b7b78110b57500aa129ff021981c6671ef9b40/expr.ipynb\"><img src=\"data:image/png;base64,iVBORw0KGgoAAAANSUhEUgAAAG8AAAAVBAMAAAC6Uq30AAAAMFBMVEX////c3NwiIiJERESqqqqY\n",
       "mJh2dnZmZmYQEBDu7u4yMjJUVFTMzMyIiIi6uroAAAAs73DqAAAAAXRSTlMAQObYZgAAAetJREFU\n",
       "OMudVDFIAzEUfbVerXetCjpVxCIobooo6GQ3wcVOHRy0izgJRcVJsIKLDno4FQc5BxEdtOJ4gyI4\n",
       "iEPdXBSLkwhCBRW0oP6fa3u53GYgl+TnvZ+X/38O+HdrulUMWlGFvKqGKf7ceEyX1JcVWCTvOj0v\n",
       "22fHaLig+aEHdEJdF0LEkgHQTXc/3A+sFGEBUY9SrY9AWppmBnOczQcJUCBLIY8UuTBlYttKC9CY\n",
       "ZX3kGnVic10CPNL+dBo54MWj9PaRIzPI0z3qY0K0JQGGqfeaCCaw5ImwOZGkYRYVEpPRkJYQZSA2\n",
       "AoQy2JeJu+IOGIcjU8iFnpQCXH6466ax3sImuezixn6L6MzQ8AwnMIbIaJi+84zoIeMbsE3Zacri\n",
       "R0pWxLbP+ZCCsMSxI8bmakFQxoMUt+gHIUseIuUubNWIi5jxEZsJpX0K4ppETNDNslWpiNGZQmrC\n",
       "JRbovsa7kDrkEgOE0Es0nxQW48qpjWDSJXIaO0mUZjmhd6qLrxT8qqYDkQGnNkKZqm+RxsiGKWxP\n",
       "tVC3bu1BG/0m2LFjOKgkN16DLPza9hEL0IsIt/gemig5ateV9ar/LeYqFe1tIeWFpvzEOd+z4raj\n",
       "rHXTp4mT1u4jnirrQF5FGHy/gPrriF6ouA7VcA/8ARIpd3cdRAd+AAAAAElFTkSuQmCC\n",
       "\" style=\"display:inline;vertical-align:middle;\" /></a></td></tr>\n",
       "<tr><td>5</td><td>Literal</td><td></td><td><a class=\"ProveItLink\" href=\"../../../disjunction/__pv_it/087d0b4ded7c7e5bf3bba05ecb616d7a8051ff650/expr.ipynb\"><img src=\"data:image/png;base64,iVBORw0KGgoAAAANSUhEUgAAAAwAAAAOBAMAAADpk+DfAAAALVBMVEX///+YmJh2dnZmZmaqqqrc\n",
       "3NwyMjLu7u4iIiJERESIiIhUVFTMzMy6uroAAAD0I/TTAAAAAXRSTlMAQObYZgAAAEtJREFUCNdj\n",
       "uMAABDwMe0DUKoaTIKqdgS2AgYHFAITAzHYGsMQqBoa9QIqDgT0BSDE7MAkAKdYEDpAehj1SYOpk\n",
       "O5hiMwBTPAUMDAB33Atnw8aG2QAAAABJRU5ErkJggg==\n",
       "\" style=\"display:inline;vertical-align:middle;\" /></a></td></tr>\n",
       "<tr><td>6</td><td>ExprTuple</td><td>7, 8</td><td><a class=\"ProveItLink\" href=\"../00c05ccc47c117964962fd4a31bd37c34eda9df40/expr.ipynb\"><img src=\"data:image/png;base64,iVBORw0KGgoAAAANSUhEUgAAAFEAAAAVBAMAAADMaB9/AAAAMFBMVEX////c3NwiIiJERESqqqqY\n",
       "mJh2dnZmZmYQEBDu7u4yMjJUVFTMzMyIiIi6uroAAAAs73DqAAAAAXRSTlMAQObYZgAAAVdJREFU\n",
       "KM9jYCAe8F0gQlEciDiNInQITQnr/t+7N69jYD8AZK9EkVmPbhqHAQND/QOGBQwMvCiWs+pPQFN5\n",
       "Hih/fgNDGFAPipRIvQCayvtAgfgEhhkMDK9QxC/cf4Cm0gKINSYwMDswlKGEwwT/ADSVvxkYpCwZ\n",
       "GNgKGJYiC88DOwsZ8Py+e10VSLMsYOhjYGBXAoEEIP8Bg3wBREURSEgN6OGPDAyTNgBta2D4B9MM\n",
       "5PLs3r3fAMlAYFAzNwBVfwVKfUBRyQcMigWoKvmBwqzfwCpbkFQ6MDAwNaCqPA/0IfcXsO2mCJWM\n",
       "QJVcHxgYJiCpBAWnPNAe1gUM6TDhAwyzgCTzTwbOT3CPg4OTp2sCOJQewe0S7l/IwGr/q4CzHxFP\n",
       "xf93714FCmKuBwwcApjpEFMIFJusCRiirFgSaC5GqsOhkhMUeNIYwlgyATfIQYzE5I47DAwA/tdW\n",
       "XzreP5oAAAAASUVORK5CYII=\n",
       "\" style=\"display:inline;vertical-align:middle;\" /></a></td></tr>\n",
       "<tr><td>7</td><td>Operation</td><td>operator:&nbsp;10<br>operand:&nbsp;9<br></td><td><a class=\"ProveItLink\" href=\"../feaa1d0e6d92ad9ead8e5ffd1f92697e3912387a0/expr.ipynb\"><img src=\"data:image/png;base64,iVBORw0KGgoAAAANSUhEUgAAABwAAAAOBAMAAADOPWE3AAAAMFBMVEX///8QEBBERES6urqIiIiq\n",
       "qqrc3Nzu7u6YmJgyMjJUVFTMzMx2dnYiIiJmZmYAAADMbjvTAAAAAXRSTlMAQObYZgAAAGNJREFU\n",
       "CNdjYEAA7gsMyIDzAwq39zsyjy3uGzKXheUzMtec9QcSj92A+wsDw9u7QHAHyGVmYPsHldkFwqtW\n",
       "fULiGjAwSCK4rEDqIoKbCqTmw1zLwD4BSOkXwFyk+DOBoen/PABSrhtHsYt+gAAAAABJRU5ErkJg\n",
       "gg==\n",
       "\" style=\"display:inline;vertical-align:middle;\" /></a></td></tr>\n",
       "<tr><td>8</td><td>Operation</td><td>operator:&nbsp;10<br>operand:&nbsp;11<br></td><td><a class=\"ProveItLink\" href=\"../1da4e2fe7c44632f084fa27ea32e26dc689384c20/expr.ipynb\"><img src=\"data:image/png;base64,iVBORw0KGgoAAAANSUhEUgAAAB0AAAAOBAMAAAAh/woJAAAAMFBMVEX///+qqqru7u7c3NyIiIgQ\n",
       "EBC6uroyMjJERESYmJhUVFTMzMx2dnYiIiJmZmYAAADtoHoAAAAAAXRSTlMAQObYZgAAAHpJREFU\n",
       "CNdjYIACzvW/Vq0oY0AA1gYGhvcJCP5+ByBegOD7GzAwzD+A4LcC8VUFBP8XA4N5E4LL/cvF7yaQ\n",
       "fnsXCO4wMLB8ZmDQhRm3i4GBIwAo9hPB5wfKcf5B8PdPYGDg+ojgg6y3L4AZDraeOxxh/Yv/q1aV\n",
       "A7UAAFRxJOZ+1MVPAAAAAElFTkSuQmCC\n",
       "\" style=\"display:inline;vertical-align:middle;\" /></a></td></tr>\n",
       "<tr><td>9</td><td>Variable</td><td></td><td><a class=\"ProveItLink\" href=\"../../../../../__pv_it/2cbe72a7ad6f655694dd697106680215e8489b600/expr.ipynb\"><img src=\"data:image/png;base64,iVBORw0KGgoAAAANSUhEUgAAAA8AAAAOBAMAAAACpFvcAAAALVBMVEX///8QEBBERERUVFS6urqI\n",
       "iIhmZmaqqqrc3Nzu7u6YmJgyMjIiIiLMzMwAAADtIaYWAAAAAXRSTlMAQObYZgAAAFtJREFUCNdj\n",
       "YACBOwxQsA9Kc52bAGG05zVAGAFxDmCaZULdAjBjCsO9ADDDgaEvAUTzGhvbKYCVMDAwbgAxChgY\n",
       "eASANAeQwf0AyJgNxEwvGRia5HYwcOm9TgAA6BoR3jrzwFcAAAAASUVORK5CYII=\n",
       "\" style=\"display:inline;vertical-align:middle;\" /></a></td></tr>\n",
       "<tr><td>10</td><td>Literal</td><td></td><td><a class=\"ProveItLink\" href=\"../../../negation/__pv_it/7bea79645543c2413aa17e787cca04e21046fde60/expr.ipynb\"><img src=\"data:image/png;base64,iVBORw0KGgoAAAANSUhEUgAAAAwAAAAGBAMAAAAFwGKyAAAAFVBMVEX///9UVFTMzMx2dnYiIiJm\n",
       "ZmYAAACWz4ZEAAAAAXRSTlMAQObYZgAAABRJREFUCNdjCHEBAmcGMFDEQzEBAEl+Ai6uYJv/AAAA\n",
       "AElFTkSuQmCC\n",
       "\" style=\"display:inline;vertical-align:middle;\" /></a></td></tr>\n",
       "<tr><td>11</td><td>Variable</td><td></td><td><a class=\"ProveItLink\" href=\"../../../../../__pv_it/077b2ff79244fb4582cbe22c6e3356fa92a52f2f0/expr.ipynb\"><img src=\"data:image/png;base64,iVBORw0KGgoAAAANSUhEUgAAABAAAAAOBAMAAADUAYG5AAAAMFBMVEX///+qqqru7u4iIiJ2dnbc\n",
       "3NyIiIjMzMxmZmYQEBC6uroyMjJERERUVFSYmJgAAADLUcuvAAAAAXRSTlMAQObYZgAAAGpJREFU\n",
       "CNdjYGB4+//u3dMLGIBgDgMDxy8gzf4NiP8CGWxfGRj4vgAZPBMYGJgnARn8FxhY9ygAGfXX0pof\n",
       "gDTlBzAw2YIYJ0EckBBI53sHoBH/gIz7AhBjWH9DjancBLTl/N+7t/cxMAAA3u4f/5xagjYAAAAA\n",
       "SUVORK5CYII=\n",
       "\" style=\"display:inline;vertical-align:middle;\" /></a></td></tr>\n",
       "</table>\n"
      ],
      "text/plain": [
       "0. {[not]([not](A) or [not](B))}\n",
       "   core type: Operation\n",
       "   operator: 1\n",
       "   operands: 2\n",
       "1. Set\n",
       "   core type: Literal\n",
       "   sub-expressions: \n",
       "2. ([not]([not](A) or [not](B)))\n",
       "   core type: ExprTuple\n",
       "   sub-expressions: 3\n",
       "3. [not]([not](A) or [not](B))\n",
       "   core type: Operation\n",
       "   operator: 10\n",
       "   operand: 4\n",
       "4. [not](A) or [not](B)\n",
       "   core type: Operation\n",
       "   operator: 5\n",
       "   operands: 6\n",
       "5. or\n",
       "   core type: Literal\n",
       "   sub-expressions: \n",
       "6. ([not](A) , [not](B))\n",
       "   core type: ExprTuple\n",
       "   sub-expressions: 7, 8\n",
       "7. [not](A)\n",
       "   core type: Operation\n",
       "   operator: 10\n",
       "   operand: 9\n",
       "8. [not](B)\n",
       "   core type: Operation\n",
       "   operator: 10\n",
       "   operand: 11\n",
       "9. A\n",
       "   core type: Variable\n",
       "   sub-expressions: \n",
       "10. not\n",
       "    core type: Literal\n",
       "    sub-expressions: \n",
       "11. B\n",
       "    core type: Variable\n",
       "    sub-expressions: "
      ]
     },
     "execution_count": 4,
     "metadata": {},
     "output_type": "execute_result"
    }
   ],
   "source": [
    "# display the expression information\n",
    "expr.exprInfo()"
   ]
  },
  {
   "cell_type": "code",
   "execution_count": null,
   "metadata": {},
   "outputs": [],
   "source": []
  }
 ],
 "metadata": {
  "kernelspec": {
   "display_name": "Python 3",
   "language": "python",
   "name": "python3"
  }
 },
 "nbformat": 4,
 "nbformat_minor": 0
}
