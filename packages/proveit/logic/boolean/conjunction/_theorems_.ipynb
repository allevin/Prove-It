{
 "cells": [
  {
   "cell_type": "markdown",
   "metadata": {
    "collapsed": true
   },
   "source": [
    "Theorems for context <a href=\"_context_.ipynb\" class=\"ProveItLink\">proveit.logic.boolean.conjunction</a>\n",
    "========"
   ]
  },
  {
   "cell_type": "code",
   "execution_count": 1,
   "metadata": {},
   "outputs": [
    {
     "name": "stdout",
     "output_type": "stream",
     "text": [
      "Defining theorems for context 'proveit.logic.boolean.conjunction'\n",
      "Subsequent end-of-cell assignments will define theorems\n",
      "'%end theorems' will finalize the definitions\n"
     ]
    }
   ],
   "source": [
    "from proveit import varIter\n",
    "from proveit._common_ import A, B, AA, CC, i, j, k, l, m, n\n",
    "from proveit.logic import And, Not, TRUE, FALSE, Forall, inBool, Booleans, Equals\n",
    "from proveit.logic._common_ import iterA1m, iterC1n\n",
    "from proveit.number import Naturals, LessEq, LesserSequence, one, Add, Exp\n",
    "%begin theorems"
   ]
  },
  {
   "cell_type": "code",
   "execution_count": 2,
   "metadata": {},
   "outputs": [
    {
     "data": {
      "text/html": [
       "<strong id=\"trueAndTrue\"><a class=\"ProveItLink\" href=\"_proofs_/trueAndTrue.ipynb\">trueAndTrue</a>:</strong> <a class=\"ProveItLink\" href=\"__pv_it/bdfd35db99acac40938f2384f916c2d0ae02fba80/expr.ipynb\"><img src=\"__pv_it/bdfd35db99acac40938f2384f916c2d0ae02fba80/expr.png\" style=\"display:inline;vertical-align:middle;\" /></a><br>"
      ],
      "text/plain": [
       "trueAndTrue: TRUE and TRUE"
      ]
     },
     "execution_count": 2,
     "metadata": {},
     "output_type": "execute_result"
    }
   ],
   "source": [
    "trueAndTrue = And(TRUE, TRUE)"
   ]
  },
  {
   "cell_type": "code",
   "execution_count": 3,
   "metadata": {},
   "outputs": [
    {
     "data": {
      "text/html": [
       "<strong id=\"trueAndFalseNegated\"><a class=\"ProveItLink\" href=\"_proofs_/trueAndFalseNegated.ipynb\">trueAndFalseNegated</a>:</strong> <a class=\"ProveItLink\" href=\"__pv_it/7f2fc15a9f23e5089f6bb79aeb43e3459be023490/expr.ipynb\"><img src=\"__pv_it/7f2fc15a9f23e5089f6bb79aeb43e3459be023490/expr.png\" style=\"display:inline;vertical-align:middle;\" /></a><br>"
      ],
      "text/plain": [
       "trueAndFalseNegated: [not](TRUE and FALSE)"
      ]
     },
     "execution_count": 3,
     "metadata": {},
     "output_type": "execute_result"
    }
   ],
   "source": [
    "trueAndFalseNegated = Not(And(TRUE, FALSE))"
   ]
  },
  {
   "cell_type": "code",
   "execution_count": 4,
   "metadata": {},
   "outputs": [
    {
     "data": {
      "text/html": [
       "<strong id=\"falseAndTrueNegated\"><a class=\"ProveItLink\" href=\"_proofs_/falseAndTrueNegated.ipynb\">falseAndTrueNegated</a>:</strong> <a class=\"ProveItLink\" href=\"__pv_it/e3698de5523b3ba396528b983003062ac08fceee0/expr.ipynb\"><img src=\"__pv_it/e3698de5523b3ba396528b983003062ac08fceee0/expr.png\" style=\"display:inline;vertical-align:middle;\" /></a><br>"
      ],
      "text/plain": [
       "falseAndTrueNegated: [not](FALSE and TRUE)"
      ]
     },
     "execution_count": 4,
     "metadata": {},
     "output_type": "execute_result"
    }
   ],
   "source": [
    "falseAndTrueNegated = Not(And(FALSE, TRUE))"
   ]
  },
  {
   "cell_type": "code",
   "execution_count": 5,
   "metadata": {},
   "outputs": [
    {
     "data": {
      "text/html": [
       "<strong id=\"falseAndFalseNegated\"><a class=\"ProveItLink\" href=\"_proofs_/falseAndFalseNegated.ipynb\">falseAndFalseNegated</a>:</strong> <a class=\"ProveItLink\" href=\"__pv_it/99f89db8ce399898d7e20ab5de2549e20139671f0/expr.ipynb\"><img src=\"__pv_it/99f89db8ce399898d7e20ab5de2549e20139671f0/expr.png\" style=\"display:inline;vertical-align:middle;\" /></a><br>"
      ],
      "text/plain": [
       "falseAndFalseNegated: [not](FALSE and FALSE)"
      ]
     },
     "execution_count": 5,
     "metadata": {},
     "output_type": "execute_result"
    }
   ],
   "source": [
    "falseAndFalseNegated = Not(And(FALSE, FALSE))"
   ]
  },
  {
   "cell_type": "code",
   "execution_count": 6,
   "metadata": {},
   "outputs": [
    {
     "data": {
      "text/html": [
       "<strong id=\"andIfBoth\"><a class=\"ProveItLink\" href=\"_proofs_/andIfBoth.ipynb\">andIfBoth</a>:</strong> <a class=\"ProveItLink\" href=\"__pv_it/75b95a60b89ba91524c4552093030c827fffaab20/expr.ipynb\"><img src=\"__pv_it/75b95a60b89ba91524c4552093030c827fffaab20/expr.png\" style=\"display:inline;vertical-align:middle;\" /></a><br>"
      ],
      "text/plain": [
       "andIfBoth: forall_{A, B | A , B} (A and B)"
      ]
     },
     "execution_count": 6,
     "metadata": {},
     "output_type": "execute_result"
    }
   ],
   "source": [
    "andIfBoth = Forall((A, B), And(A, B), conditions=[A, B])"
   ]
  },
  {
   "cell_type": "code",
   "execution_count": 7,
   "metadata": {},
   "outputs": [
    {
     "data": {
      "text/html": [
       "<strong id=\"nandIfNotRight\"><a class=\"ProveItLink\" href=\"_proofs_/nandIfNotRight.ipynb\">nandIfNotRight</a>:</strong> <a class=\"ProveItLink\" href=\"__pv_it/417bc04e47c3b38c12ecfc460c405cb41b06ef570/expr.ipynb\"><img src=\"__pv_it/417bc04e47c3b38c12ecfc460c405cb41b06ef570/expr.png\" style=\"display:inline;vertical-align:middle;\" /></a><br>"
      ],
      "text/plain": [
       "nandIfNotRight: forall_{A, B | A , [not](B)} [not](A and B)"
      ]
     },
     "execution_count": 7,
     "metadata": {},
     "output_type": "execute_result"
    }
   ],
   "source": [
    "nandIfNotRight = Forall((A, B), Not(And(A, B)), conditions=[A, Not(B)])"
   ]
  },
  {
   "cell_type": "code",
   "execution_count": 8,
   "metadata": {},
   "outputs": [
    {
     "data": {
      "text/html": [
       "<strong id=\"nandIfNotLeft\"><a class=\"ProveItLink\" href=\"_proofs_/nandIfNotLeft.ipynb\">nandIfNotLeft</a>:</strong> <a class=\"ProveItLink\" href=\"__pv_it/2b831a15e206d612e357daaf99ef3fd3ae7175110/expr.ipynb\"><img src=\"__pv_it/2b831a15e206d612e357daaf99ef3fd3ae7175110/expr.png\" style=\"display:inline;vertical-align:middle;\" /></a><br>"
      ],
      "text/plain": [
       "nandIfNotLeft: forall_{A, B | [not](A) , B} [not](A and B)"
      ]
     },
     "execution_count": 8,
     "metadata": {},
     "output_type": "execute_result"
    }
   ],
   "source": [
    "nandIfNotLeft = Forall((A, B), Not(And(A, B)), conditions=[Not(A), B])"
   ]
  },
  {
   "cell_type": "code",
   "execution_count": 9,
   "metadata": {},
   "outputs": [
    {
     "data": {
      "text/html": [
       "<strong id=\"nandIfNeither\"><a class=\"ProveItLink\" href=\"_proofs_/nandIfNeither.ipynb\">nandIfNeither</a>:</strong> <a class=\"ProveItLink\" href=\"__pv_it/e8d9562af10b7e518119f6ffd94d7140d085e8830/expr.ipynb\"><img src=\"__pv_it/e8d9562af10b7e518119f6ffd94d7140d085e8830/expr.png\" style=\"display:inline;vertical-align:middle;\" /></a><br>"
      ],
      "text/plain": [
       "nandIfNeither: forall_{A, B | [not](A) , [not](B)} [not](A and B)"
      ]
     },
     "execution_count": 9,
     "metadata": {},
     "output_type": "execute_result"
    }
   ],
   "source": [
    "nandIfNeither = Forall((A, B), Not(And(A, B)), conditions=[Not(A), Not(B)])"
   ]
  },
  {
   "cell_type": "code",
   "execution_count": 10,
   "metadata": {},
   "outputs": [
    {
     "data": {
      "text/html": [
       "<strong id=\"falsifiedAndIfNotRight\"><a class=\"ProveItLink\" href=\"_proofs_/falsifiedAndIfNotRight.ipynb\">falsifiedAndIfNotRight</a>:</strong> <a class=\"ProveItLink\" href=\"__pv_it/52649cf2253daa123258fe8792cb007aa9c7fff80/expr.ipynb\"><img src=\"__pv_it/52649cf2253daa123258fe8792cb007aa9c7fff80/expr.png\" style=\"display:inline;vertical-align:middle;\" /></a><br>"
      ],
      "text/plain": [
       "falsifiedAndIfNotRight: forall_{A, B | A , [not](B)} ((A and B) = FALSE)"
      ]
     },
     "execution_count": 10,
     "metadata": {},
     "output_type": "execute_result"
    }
   ],
   "source": [
    "falsifiedAndIfNotRight = Forall((A, B), Equals(And(A, B), FALSE), conditions=[A, Not(B)])"
   ]
  },
  {
   "cell_type": "code",
   "execution_count": 11,
   "metadata": {},
   "outputs": [
    {
     "data": {
      "text/html": [
       "<strong id=\"falsifiedAndIfNotLeft\"><a class=\"ProveItLink\" href=\"_proofs_/falsifiedAndIfNotLeft.ipynb\">falsifiedAndIfNotLeft</a>:</strong> <a class=\"ProveItLink\" href=\"__pv_it/6c097f46b8b53eac07e3482d8baff303fcb970f80/expr.ipynb\"><img src=\"__pv_it/6c097f46b8b53eac07e3482d8baff303fcb970f80/expr.png\" style=\"display:inline;vertical-align:middle;\" /></a><br>"
      ],
      "text/plain": [
       "falsifiedAndIfNotLeft: forall_{A, B | [not](A) , B} ((A and B) = FALSE)"
      ]
     },
     "execution_count": 11,
     "metadata": {},
     "output_type": "execute_result"
    }
   ],
   "source": [
    "falsifiedAndIfNotLeft = Forall((A, B), Equals(And(A, B), FALSE), conditions=[Not(A), B])"
   ]
  },
  {
   "cell_type": "code",
   "execution_count": 12,
   "metadata": {},
   "outputs": [
    {
     "data": {
      "text/html": [
       "<strong id=\"falsifiedAndIfNeither\"><a class=\"ProveItLink\" href=\"_proofs_/falsifiedAndIfNeither.ipynb\">falsifiedAndIfNeither</a>:</strong> <a class=\"ProveItLink\" href=\"__pv_it/db709c852c495893e83180f64916084bc58b04e40/expr.ipynb\"><img src=\"__pv_it/db709c852c495893e83180f64916084bc58b04e40/expr.png\" style=\"display:inline;vertical-align:middle;\" /></a><br>"
      ],
      "text/plain": [
       "falsifiedAndIfNeither: forall_{A, B | [not](A) , [not](B)} ((A and B) = FALSE)"
      ]
     },
     "execution_count": 12,
     "metadata": {},
     "output_type": "execute_result"
    }
   ],
   "source": [
    "falsifiedAndIfNeither = Forall((A, B), Equals(And(A, B), FALSE), conditions=[Not(A), Not(B)])"
   ]
  },
  {
   "cell_type": "code",
   "execution_count": null,
   "metadata": {},
   "outputs": [],
   "source": []
  },
  {
   "cell_type": "code",
   "execution_count": 13,
   "metadata": {},
   "outputs": [
    {
     "data": {
      "text/html": [
       "<strong id=\"leftFromAnd\"><a class=\"ProveItLink\" href=\"_proofs_/leftFromAnd.ipynb\">leftFromAnd</a>:</strong> <a class=\"ProveItLink\" href=\"__pv_it/02f63a5ed79febf39563abd5215f100e326a61450/expr.ipynb\"><img src=\"__pv_it/02f63a5ed79febf39563abd5215f100e326a61450/expr.png\" style=\"display:inline;vertical-align:middle;\" /></a><br>"
      ],
      "text/plain": [
       "leftFromAnd: forall_{A, B | A and B} A"
      ]
     },
     "execution_count": 13,
     "metadata": {},
     "output_type": "execute_result"
    }
   ],
   "source": [
    "leftFromAnd = Forall((A, B), A, conditions=[And(A, B)])"
   ]
  },
  {
   "cell_type": "code",
   "execution_count": 14,
   "metadata": {},
   "outputs": [
    {
     "data": {
      "text/html": [
       "<strong id=\"rightFromAnd\"><a class=\"ProveItLink\" href=\"_proofs_/rightFromAnd.ipynb\">rightFromAnd</a>:</strong> <a class=\"ProveItLink\" href=\"__pv_it/1b5e5e518179ae13e36f4a6579623945616718820/expr.ipynb\"><img src=\"__pv_it/1b5e5e518179ae13e36f4a6579623945616718820/expr.png\" style=\"display:inline;vertical-align:middle;\" /></a><br>"
      ],
      "text/plain": [
       "rightFromAnd: forall_{A, B | A and B} B"
      ]
     },
     "execution_count": 14,
     "metadata": {},
     "output_type": "execute_result"
    }
   ],
   "source": [
    "rightFromAnd = Forall((A, B), B, conditions=[And(A, B)])"
   ]
  },
  {
   "cell_type": "code",
   "execution_count": 15,
   "metadata": {},
   "outputs": [
    {
     "data": {
      "text/html": [
       "<strong id=\"commutation\"><a class=\"ProveItLink\" href=\"_proofs_/commutation.ipynb\">commutation</a>:</strong> <a class=\"ProveItLink\" href=\"__pv_it/52759371165fcf5f5dfad56a4551a88ae17543680/expr.ipynb\"><img src=\"__pv_it/52759371165fcf5f5dfad56a4551a88ae17543680/expr.png\" style=\"display:inline;vertical-align:middle;\" /></a><br>"
      ],
      "text/plain": [
       "commutation: forall_{A, B} ((A and B) = (B and A))"
      ]
     },
     "execution_count": 15,
     "metadata": {},
     "output_type": "execute_result"
    }
   ],
   "source": [
    "commutation = Forall((A, B), Equals(And(A, B), And(B, A)))"
   ]
  },
  {
   "cell_type": "code",
   "execution_count": 16,
   "metadata": {},
   "outputs": [
    {
     "data": {
      "text/html": [
       "<strong id=\"eachInBool\"><a class=\"ProveItLink\" href=\"_proofs_/eachInBool.ipynb\">eachInBool</a>:</strong> <a class=\"ProveItLink\" href=\"__pv_it/81fc425dde8f03145b0d23fe6dc559746fc0fd200/expr.ipynb\"><img src=\"__pv_it/81fc425dde8f03145b0d23fe6dc559746fc0fd200/expr.png\" style=\"display:inline;vertical-align:middle;\" /></a><br>"
      ],
      "text/plain": [
       "eachInBool: forall_{m, n in Naturals} [forall_{A, B, C | (A_(1) and  ...  and A_(m) and B and C_(1) and  ...  and C_(n)) in BOOLEANS} (B in BOOLEANS)]"
      ]
     },
     "execution_count": 16,
     "metadata": {},
     "output_type": "execute_result"
    }
   ],
   "source": [
    "eachInBool = Forall((m, n), Forall((AA, B, CC), inBool(B), conditions=inBool(And(iterA1m, B, iterC1n))),\n",
    "                    domain=Naturals)"
   ]
  },
  {
   "cell_type": "code",
   "execution_count": 17,
   "metadata": {},
   "outputs": [
    {
     "data": {
      "text/html": [
       "<strong id=\"anyFromAnd\"><a class=\"ProveItLink\" href=\"_proofs_/anyFromAnd.ipynb\">anyFromAnd</a>:</strong> <a class=\"ProveItLink\" href=\"__pv_it/ef248b5a85b41c747306cc7288859fb1e2dd3dfb0/expr.ipynb\"><img src=\"__pv_it/ef248b5a85b41c747306cc7288859fb1e2dd3dfb0/expr.png\" style=\"display:inline;vertical-align:middle;\" /></a><br>"
      ],
      "text/plain": [
       "anyFromAnd: forall_{m, n in Naturals} [forall_{A, B, C | A_(1) and  ...  and A_(m) and B and C_(1) and  ...  and C_(n)} B]"
      ]
     },
     "execution_count": 17,
     "metadata": {},
     "output_type": "execute_result"
    }
   ],
   "source": [
    "anyFromAnd = Forall((m, n), Forall((AA, B, CC), B, conditions=[And(iterA1m, B, iterC1n)]),\n",
    "                    domain=Naturals)"
   ]
  },
  {
   "cell_type": "code",
   "execution_count": 18,
   "metadata": {},
   "outputs": [
    {
     "data": {
      "text/html": [
       "<strong id=\"andIfAll\"><a class=\"ProveItLink\" href=\"_proofs_/andIfAll.ipynb\">andIfAll</a>:</strong> <a class=\"ProveItLink\" href=\"__pv_it/1db742efb2330119f711b05175ef94080dc0bb010/expr.ipynb\"><img src=\"__pv_it/1db742efb2330119f711b05175ef94080dc0bb010/expr.png\" style=\"display:inline;vertical-align:middle;\" /></a><br>"
      ],
      "text/plain": [
       "andIfAll: forall_{m in Naturals} [forall_{A | A_(1) ,  ...  , A_(m)} (A_(1) and  ...  and A_(m))]"
      ]
     },
     "execution_count": 18,
     "metadata": {},
     "output_type": "execute_result"
    }
   ],
   "source": [
    "andIfAll = Forall(m, Forall(AA, And(iterA1m), conditions=iterA1m), domain=Naturals)"
   ]
  },
  {
   "cell_type": "code",
   "execution_count": 19,
   "metadata": {},
   "outputs": [
    {
     "data": {
      "text/html": [
       "<strong id=\"groupSwap\"><a class=\"ProveItLink\" href=\"_proofs_/groupSwap.ipynb\">groupSwap</a>:</strong> <a class=\"ProveItLink\" href=\"__pv_it/fdffd974168ff9c744e065027a81a2a6efce0c700/expr.ipynb\"><img src=\"__pv_it/fdffd974168ff9c744e065027a81a2a6efce0c700/expr.png\" style=\"display:inline;vertical-align:middle;\" /></a><br>"
      ],
      "text/plain": [
       "groupSwap: forall_{i, j, k, l, m in Naturals | i <= j <= k <= l <= m} [forall_{A | A_(1) and  ...  and A_(m)} (A_(1) and  ...  and A_(i) and A_(k + 1) and  ...  and A_(l) and A_(j + 1) and  ...  and A_(k) and A_(i + 1) and  ...  and A_(j) and A_(l + 1) and  ...  and A_(m))]"
      ]
     },
     "execution_count": 19,
     "metadata": {},
     "output_type": "execute_result"
    }
   ],
   "source": [
    "groupSwap = Forall((i,j,k,l,m), \n",
    "                   Forall(AA, And(varIter(AA, one, i), varIter(AA, Add(k, one), l), varIter(AA, Add(j, one), k), \n",
    "                                  varIter(AA, Add(i, one), j), varIter(AA, Add(l, one), m)),\n",
    "                          conditions=[And(iterA1m)]),\n",
    "                   domain = Naturals, conditions=[LesserSequence([LessEq._operator_]*4, (i,j,k,l,m))])"
   ]
  },
  {
   "cell_type": "code",
   "execution_count": 20,
   "metadata": {},
   "outputs": [
    {
     "data": {
      "text/html": [
       "<strong id=\"trueEval\"><a class=\"ProveItLink\" href=\"_proofs_/trueEval.ipynb\">trueEval</a>:</strong> <a class=\"ProveItLink\" href=\"__pv_it/6eea0452f585e71e48a26a1691dfeae268babcb70/expr.ipynb\"><img src=\"__pv_it/6eea0452f585e71e48a26a1691dfeae268babcb70/expr.png\" style=\"display:inline;vertical-align:middle;\" /></a><br>"
      ],
      "text/plain": [
       "trueEval: forall_{m in Naturals} [forall_{A | A_(1) ,  ...  , A_(m)} ((A_(1) and  ...  and A_(m)) = TRUE)]"
      ]
     },
     "execution_count": 20,
     "metadata": {},
     "output_type": "execute_result"
    }
   ],
   "source": [
    "trueEval = Forall(m, Forall(AA, Equals(And(iterA1m), TRUE), conditions=iterA1m),\n",
    "                             domain=Naturals)"
   ]
  },
  {
   "cell_type": "code",
   "execution_count": 21,
   "metadata": {},
   "outputs": [
    {
     "data": {
      "text/html": [
       "<strong id=\"falseEval\"><a class=\"ProveItLink\" href=\"_proofs_/falseEval.ipynb\">falseEval</a>:</strong> <a class=\"ProveItLink\" href=\"__pv_it/a8e2dd8c274a443252b4615d2a6951ce168cb94f0/expr.ipynb\"><img src=\"__pv_it/a8e2dd8c274a443252b4615d2a6951ce168cb94f0/expr.png\" style=\"display:inline;vertical-align:middle;\" /></a><br>"
      ],
      "text/plain": [
       "falseEval: forall_{m, n in Naturals} [forall_{(A, C) in BOOLEANS^{m} * BOOLEANS^{n}} ((A_(1) and  ...  and A_(m) and FALSE and C_(1) and  ...  and C_(n)) = FALSE)]"
      ]
     },
     "execution_count": 21,
     "metadata": {},
     "output_type": "execute_result"
    }
   ],
   "source": [
    "falseEval = Forall((m, n), Forall((AA, CC), Equals(And(iterA1m, FALSE, iterC1n), FALSE), \n",
    "                                             domains=[Exp(Booleans, m), Exp(Booleans, n)]),\n",
    "                              domain=Naturals)"
   ]
  },
  {
   "cell_type": "code",
   "execution_count": 22,
   "metadata": {},
   "outputs": [
    {
     "data": {
      "text/html": [
       "<strong id=\"binaryClosure\"><a class=\"ProveItLink\" href=\"_proofs_/binaryClosure.ipynb\">binaryClosure</a>:</strong> <a class=\"ProveItLink\" href=\"__pv_it/db231832813911a43c94d9aac942a8f7522f9d770/expr.ipynb\"><img src=\"__pv_it/db231832813911a43c94d9aac942a8f7522f9d770/expr.png\" style=\"display:inline;vertical-align:middle;\" /></a><br>"
      ],
      "text/plain": [
       "binaryClosure: forall_{A, B in BOOLEANS} ((A and B) in BOOLEANS)"
      ]
     },
     "execution_count": 22,
     "metadata": {},
     "output_type": "execute_result"
    }
   ],
   "source": [
    "binaryClosure = Forall((A, B), inBool(And(A, B)), domain=Booleans)"
   ]
  },
  {
   "cell_type": "code",
   "execution_count": 23,
   "metadata": {},
   "outputs": [
    {
     "data": {
      "text/html": [
       "<strong id=\"closure\"><a class=\"ProveItLink\" href=\"_proofs_/closure.ipynb\">closure</a>:</strong> <a class=\"ProveItLink\" href=\"__pv_it/eefb086659fe0a7249349cf21f9c8b3d1216e4b60/expr.ipynb\"><img src=\"__pv_it/eefb086659fe0a7249349cf21f9c8b3d1216e4b60/expr.png\" style=\"display:inline;vertical-align:middle;\" /></a><br>"
      ],
      "text/plain": [
       "closure: forall_{m in Naturals} [forall_{A in BOOLEANS^{m}} ((A_(1) and  ...  and A_(m)) in BOOLEANS)]"
      ]
     },
     "execution_count": 23,
     "metadata": {},
     "output_type": "execute_result"
    }
   ],
   "source": [
    "closure = Forall(m, Forall(AA, inBool(And(iterA1m)), domain=Exp(Booleans, m)),\n",
    "                 domain=Naturals)"
   ]
  },
  {
   "cell_type": "code",
   "execution_count": 24,
   "metadata": {},
   "outputs": [
    {
     "name": "stdout",
     "output_type": "stream",
     "text": [
      "Modifying theorem groupSwap in proveit.logic.boolean.conjunction context\n",
      "groupSwap expression notebook is being updated\n",
      "Theorems may be imported from autogenerated _theorems_.py\n"
     ]
    }
   ],
   "source": [
    "%end theorems"
   ]
  },
  {
   "cell_type": "code",
   "execution_count": null,
   "metadata": {},
   "outputs": [],
   "source": []
  }
 ],
 "metadata": {
  "kernelspec": {
   "display_name": "Python 2",
   "language": "python",
   "name": "python2"
  },
  "language_info": {
   "codemirror_mode": {
    "name": "ipython",
    "version": 2
   },
   "file_extension": ".py",
   "mimetype": "text/x-python",
   "name": "python",
   "nbconvert_exporter": "python",
   "pygments_lexer": "ipython2",
   "version": "2.7.11"
  }
 },
 "nbformat": 4,
 "nbformat_minor": 1
}
