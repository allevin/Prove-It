{
 "cells": [
  {
   "cell_type": "markdown",
   "metadata": {},
   "source": [
    "Theorems for context <a href=\"_context_.ipynb\" class=\"ProveItLink\">proveit.logic.boolean.conjunction</a>\n",
    "========"
   ]
  },
  {
   "cell_type": "code",
   "execution_count": null,
   "metadata": {},
   "outputs": [],
   "source": [
    "from proveit import varIter, Iter, Indexed\n",
    "from proveit._common_ import A, B, C, D, E, AA, BB,CC, DD, EE, i, j, k, l, m, n\n",
    "from proveit.logic import And, Or, Not, TRUE, FALSE, Forall, inBool, Booleans, Equals\n",
    "from proveit.logic._common_ import iterA1m, iterC1n\n",
    "from proveit.number import Naturals, LessEq, LesserSequence, one, Add, Exp\n",
    "%begin theorems"
   ]
  },
  {
   "cell_type": "code",
   "execution_count": null,
   "metadata": {},
   "outputs": [],
   "source": [
    "trueAndTrue = And(TRUE, TRUE)"
   ]
  },
  {
   "cell_type": "code",
   "execution_count": null,
   "metadata": {},
   "outputs": [],
   "source": [
    "trueAndFalseNegated = Not(And(TRUE, FALSE))"
   ]
  },
  {
   "cell_type": "code",
   "execution_count": null,
   "metadata": {},
   "outputs": [],
   "source": [
    "falseAndTrueNegated = Not(And(FALSE, TRUE))"
   ]
  },
  {
   "cell_type": "code",
   "execution_count": null,
   "metadata": {},
   "outputs": [],
   "source": [
    "falseAndFalseNegated = Not(And(FALSE, FALSE))"
   ]
  },
  {
   "cell_type": "code",
   "execution_count": null,
   "metadata": {},
   "outputs": [],
   "source": [
    "andIfBoth = Forall((A, B), And(A, B), conditions=[A, B])"
   ]
  },
  {
   "cell_type": "code",
   "execution_count": null,
   "metadata": {},
   "outputs": [],
   "source": [
    "nandIfLeftButNotRight = Forall((A, B), Not(And(A, B)), conditions=[A, Not(B)])"
   ]
  },
  {
   "cell_type": "code",
   "execution_count": null,
   "metadata": {},
   "outputs": [],
   "source": [
    "nandIfRightButNotLeft = Forall((A, B), Not(And(A, B)), conditions=[Not(A), B])"
   ]
  },
  {
   "cell_type": "code",
   "execution_count": null,
   "metadata": {},
   "outputs": [],
   "source": [
    "nandIfNeither = Forall((A, B), Not(And(A, B)), conditions=[Not(A), Not(B)])"
   ]
  },
  {
   "cell_type": "code",
   "execution_count": null,
   "metadata": {},
   "outputs": [],
   "source": [
    "nandIfNotRight = Forall((A,B), Not(And(A,B)), conditions=[Not(B)], domain = Booleans)"
   ]
  },
  {
   "cell_type": "code",
   "execution_count": null,
   "metadata": {},
   "outputs": [],
   "source": [
    "nandIfNotLeft = Forall((A,B), Not(And(A,B)), conditions=[Not(A)], domain = Booleans)"
   ]
  },
  {
   "cell_type": "code",
   "execution_count": null,
   "metadata": {},
   "outputs": [],
   "source": [
    "nandIfNotOne = Forall((m, n), Forall((iterA1m, B, iterC1n), Not(And(iterA1m,B,iterC1n)), conditions=[Not(B)]),\n",
    "                    domain=Naturals)"
   ]
  },
  {
   "cell_type": "code",
   "execution_count": null,
   "metadata": {},
   "outputs": [],
   "source": [
    "falsifiedAndIfNotRight = Forall((A, B), Equals(And(A, B), FALSE), conditions=[A, Not(B)])"
   ]
  },
  {
   "cell_type": "code",
   "execution_count": null,
   "metadata": {},
   "outputs": [],
   "source": [
    "falsifiedAndIfNotLeft = Forall((A, B), Equals(And(A, B), FALSE), conditions=[Not(A), B])"
   ]
  },
  {
   "cell_type": "code",
   "execution_count": null,
   "metadata": {},
   "outputs": [],
   "source": [
    "falsifiedAndIfNeither = Forall((A, B), Equals(And(A, B), FALSE), conditions=[Not(A), Not(B)])"
   ]
  },
  {
   "cell_type": "code",
   "execution_count": null,
   "metadata": {},
   "outputs": [],
   "source": []
  },
  {
   "cell_type": "markdown",
   "metadata": {},
   "source": [
    "***Proving this theorem for use in general case"
   ]
  },
  {
   "cell_type": "code",
   "execution_count": null,
   "metadata": {},
   "outputs": [],
   "source": [
    "leftFromAndExplicit = Forall((A,B), A, domain = Booleans, conditions = [And(A,B)])"
   ]
  },
  {
   "cell_type": "code",
   "execution_count": null,
   "metadata": {},
   "outputs": [],
   "source": [
    "leftFromAnd = Forall((A, B), A, conditions=[And(A, B)])"
   ]
  },
  {
   "cell_type": "markdown",
   "metadata": {},
   "source": [
    "***Proving this theorem for use in general case"
   ]
  },
  {
   "cell_type": "code",
   "execution_count": null,
   "metadata": {},
   "outputs": [],
   "source": [
    "rightFromAndExplicit = Forall((A,B), B, domain = Booleans, conditions = [And(A,B)])"
   ]
  },
  {
   "cell_type": "code",
   "execution_count": null,
   "metadata": {},
   "outputs": [],
   "source": [
    "rightFromAnd = Forall((A, B), B, conditions=[And(A, B)])"
   ]
  },
  {
   "cell_type": "markdown",
   "metadata": {},
   "source": [
    "**Unproven**"
   ]
  },
  {
   "cell_type": "code",
   "execution_count": null,
   "metadata": {},
   "outputs": [],
   "source": [
    "commutation = Forall((A, B), Equals(And(A, B), And(B, A)), domain = Booleans)"
   ]
  },
  {
   "cell_type": "code",
   "execution_count": null,
   "metadata": {},
   "outputs": [],
   "source": [
    "eachInBool = Forall((m, n), Forall((AA, B, CC), inBool(B), conditions=inBool(And(iterA1m, B, iterC1n))),\n",
    "                    domain=Naturals)"
   ]
  },
  {
   "cell_type": "code",
   "execution_count": null,
   "metadata": {},
   "outputs": [],
   "source": [
    "anyFromAnd = Forall((m, n), Forall((AA, B, CC), B, conditions=[And(iterA1m, B, iterC1n)]),\n",
    "                    domain=Naturals)"
   ]
  },
  {
   "cell_type": "code",
   "execution_count": null,
   "metadata": {},
   "outputs": [],
   "source": [
    "andIfAll = Forall(m, Forall(AA, And(iterA1m), conditions=iterA1m), domain=Naturals)"
   ]
  },
  {
   "cell_type": "code",
   "execution_count": null,
   "metadata": {},
   "outputs": [],
   "source": [
    "group = Forall((l,m,n), Forall((AA,BB,CC),And(Iter(i, Indexed(AA,i), one, l), And(Iter(j,Indexed(BB,j),one,m)), Iter(k, Indexed(CC,k),one,n)), conditions=[And(Iter(i, Indexed(AA,i), one, l), Iter(j,Indexed(BB,j),one,m), Iter(k, Indexed(CC,k),one,n))], domains = [Exp(Booleans,l), Exp(Booleans,m), Exp(Booleans,n)]),domain = Naturals)"
   ]
  },
  {
   "cell_type": "code",
   "execution_count": null,
   "metadata": {},
   "outputs": [],
   "source": [
    "swap = Forall((l,m, n),Forall((AA,B,CC,D,EE), And(varIter(AA, one, l), D, varIter(CC, one, m), B, varIter(EE, one, n)), conditions=[And(varIter(AA, one, l), B, varIter(CC, one, m), D, varIter(EE, one, n))], domains = [Exp(Booleans, l), Booleans, Exp(Booleans,m), Booleans, Exp(Booleans, n)]), domain = Naturals)"
   ]
  },
  {
   "cell_type": "markdown",
   "metadata": {},
   "source": [
    "## DELETE"
   ]
  },
  {
   "cell_type": "code",
   "execution_count": null,
   "metadata": {},
   "outputs": [],
   "source": [
    "groupSwap = Forall((i,j,k,l,m), \n",
    "                   Forall(AA, And(varIter(AA, one, i), varIter(AA, Add(k, one), l), varIter(AA, Add(j, one), k), \n",
    "                                  varIter(AA, Add(i, one), j), varIter(AA, Add(l, one), m)),\n",
    "                          conditions=[And(iterA1m)]),\n",
    "                   domain = Naturals, conditions=[LesserSequence([LessEq._operator_]*4, (i,j,k,l,m))])"
   ]
  },
  {
   "cell_type": "code",
   "execution_count": null,
   "metadata": {},
   "outputs": [],
   "source": [
    "trueEval = Forall(m, Forall(AA, Equals(And(iterA1m), TRUE), conditions=iterA1m),\n",
    "                             domain=Naturals)"
   ]
  },
  {
   "cell_type": "code",
   "execution_count": null,
   "metadata": {},
   "outputs": [],
   "source": [
    "falseEval = Forall((m, n), Forall((AA, CC), Equals(And(iterA1m, FALSE, iterC1n), FALSE), \n",
    "                                             domains=[Exp(Booleans, m), Exp(Booleans, n)]),\n",
    "                              domain=Naturals)"
   ]
  },
  {
   "cell_type": "code",
   "execution_count": null,
   "metadata": {},
   "outputs": [],
   "source": [
    "binaryClosure = Forall((A, B), inBool(And(A, B)), domain=Booleans)"
   ]
  },
  {
   "cell_type": "code",
   "execution_count": null,
   "metadata": {},
   "outputs": [],
   "source": [
    "closure = Forall(m, Forall(AA, inBool(And(iterA1m)), domain=Exp(Booleans, m)),\n",
    "                 domain=Naturals)"
   ]
  },
  {
   "cell_type": "code",
   "execution_count": null,
   "metadata": {},
   "outputs": [],
   "source": [
    "demorgansLawOrToAndBin = Forall((A,B), And(A,B), conditions=[Not(Or(Not(A), Not(B)))], domain=Booleans)"
   ]
  },
  {
   "cell_type": "code",
   "execution_count": null,
   "metadata": {},
   "outputs": [],
   "source": [
    "demorgansLawOrToAnd = Forall(m, Forall(AA, And(iterA1m), conditions=[Not(Or(Iter(i, Not(Indexed(AA,i)), one, m)))], domain=Exp(Booleans, m)),domain = Naturals)"
   ]
  },
  {
   "cell_type": "code",
   "execution_count": null,
   "metadata": {},
   "outputs": [],
   "source": [
    "%end theorems"
   ]
  },
  {
   "cell_type": "code",
   "execution_count": null,
   "metadata": {},
   "outputs": [],
   "source": []
  }
 ],
 "metadata": {
  "kernelspec": {
   "display_name": "Python 3",
   "language": "python",
   "name": "python3"
  }
 },
 "nbformat": 4,
 "nbformat_minor": 0
}
