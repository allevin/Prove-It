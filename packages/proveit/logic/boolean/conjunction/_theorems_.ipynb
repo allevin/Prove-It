{
 "cells": [
  {
   "cell_type": "markdown",
   "metadata": {},
   "source": [
    "Theorems for context <a href=\"_context_.ipynb\" class=\"ProveItLink\">proveit.logic.boolean.conjunction</a>\n",
    "========"
   ]
  },
  {
   "cell_type": "code",
   "execution_count": 1,
   "metadata": {},
   "outputs": [
    {
     "name": "stdout",
     "output_type": "stream",
     "text": [
      "Defining theorems for context 'proveit.logic.boolean.conjunction'\n",
      "Subsequent end-of-cell assignments will define theorems\n",
      "'%end theorems' will finalize the definitions\n"
     ]
    }
   ],
   "source": [
    "from proveit import varIter, Iter, Indexed\n",
    "from proveit._common_ import A, B, C, D, E, AA, BB,CC, DD, i, j, k, l, m, n\n",
    "from proveit.logic import And, Or, Not, TRUE, FALSE, Forall, inBool, Booleans, Equals\n",
    "from proveit.logic._common_ import iterA1l, iterA1m, iterB1m, iterC1m, iterC1n, iterD1n\n",
    "from proveit.number import Naturals, LessEq, LesserSequence, one, Add, Exp\n",
    "%begin theorems"
   ]
  },
  {
   "cell_type": "code",
   "execution_count": 2,
   "metadata": {},
   "outputs": [
    {
     "data": {
      "text/html": [
       "<strong id=\"trueAndTrue\"><a class=\"ProveItLink\" href=\"_proofs_/trueAndTrue.ipynb\">trueAndTrue</a>:</strong> <a class=\"ProveItLink\" href=\"__pv_it/17610cc95a10805239974b10cc7fd080509b7dbb0/expr.ipynb\"><img src=\"data:image/png;base64,iVBORw0KGgoAAAANSUhEUgAAADUAAAAPBAMAAAC2KZqIAAAALVBMVEX///+qqqqYmJiIiIi6urpU\n",
       "VFQyMjLu7u7c3Nx2dnbMzMxEREQiIiJmZmYAAAD5AsnGAAAAAXRSTlMAQObYZgAAAHNJREFUGNNj\n",
       "uHMGBE4zIAFesNCZDSD2WrhoO4zBdQHKQMjl4pbj2lOAU47V2QCnXBnDAZxykxgu4pQ7wNCGS47J\n",
       "gIF1AQ45ngIGrgAccrJAnIFDLgMqj0WOCxSAPGhyK6E+dwASzBDfc01gQAEsYNIBIQAAv7Mpep+L\n",
       "3wEAAAAASUVORK5CYII=\n",
       "\" style=\"display:inline;vertical-align:middle;\" /></a><br>"
      ],
      "text/plain": [
       "trueAndTrue: TRUE and TRUE"
      ]
     },
     "execution_count": 2,
     "metadata": {},
     "output_type": "execute_result"
    }
   ],
   "source": [
    "trueAndTrue = And(TRUE, TRUE)"
   ]
  },
  {
   "cell_type": "code",
   "execution_count": 3,
   "metadata": {},
   "outputs": [
    {
     "data": {
      "text/html": [
       "<strong id=\"trueAndFalseNegated\"><a class=\"ProveItLink\" href=\"_proofs_/trueAndFalseNegated.ipynb\">trueAndFalseNegated</a>:</strong> <a class=\"ProveItLink\" href=\"__pv_it/1974163b78c4e2feb8497da9c7e3ab41b1215f5f0/expr.ipynb\"><img src=\"data:image/png;base64,iVBORw0KGgoAAAANSUhEUgAAAFYAAAAVBAMAAAAutAQGAAAAMFBMVEX////c3NxERESqqqqYmJgQ\n",
       "EBDu7u4yMjKIiIi6urpUVFTMzMx2dnYiIiJmZmYAAABjE816AAAAAXRSTlMAQObYZgAAAPZJREFU\n",
       "KM9jYCAPzMAnyTIBmce9gOHtXRC4hKaMsQFEvkYWYk8AkfvgKhLghjwASyOr7WBAUcv+AFUtywEk\n",
       "tWGoajddQ1XLFoBQylmAqnZlB6paBmWEWr4DKGrZCnjR1J5D8poDiloeBz4DVLXmkGC6A2SyTkBR\n",
       "y8vAWICqdiqEtwuI+VHVejAwrEZVux+n2msQUexqWQ2Q1TID5dkFcLmBCcVvIHXMD1DUukN5II8/\n",
       "QFa7CURcwBVmnBCZPdCYgMU6HzCYYu/eVWBgqESK40DkxAH2KCeyCHIcM/jgT908DRhpEidIR0nS\n",
       "C/CqXYjCk8CnlGMDAwCLNUoXqiDatAAAAABJRU5ErkJggg==\n",
       "\" style=\"display:inline;vertical-align:middle;\" /></a><br>"
      ],
      "text/plain": [
       "trueAndFalseNegated: [not](TRUE and FALSE)"
      ]
     },
     "execution_count": 3,
     "metadata": {},
     "output_type": "execute_result"
    }
   ],
   "source": [
    "trueAndFalseNegated = Not(And(TRUE, FALSE))"
   ]
  },
  {
   "cell_type": "code",
   "execution_count": 4,
   "metadata": {},
   "outputs": [
    {
     "data": {
      "text/html": [
       "<strong id=\"falseAndTrueNegated\"><a class=\"ProveItLink\" href=\"_proofs_/falseAndTrueNegated.ipynb\">falseAndTrueNegated</a>:</strong> <a class=\"ProveItLink\" href=\"__pv_it/af88bf4a49b2beeee5716629d5444ae2b0ba79670/expr.ipynb\"><img src=\"data:image/png;base64,iVBORw0KGgoAAAANSUhEUgAAAFYAAAAVBAMAAAAutAQGAAAAMFBMVEX////c3NxERESqqqqYmJgQ\n",
       "EBDu7u4yMjKIiIi6urpUVFTMzMx2dnYiIiJmZmYAAABjE816AAAAAXRSTlMAQObYZgAAAPhJREFU\n",
       "KM9jYCAPzMAnyTIBmce9AERKoKnhuwsGCgyvkUXZE0DkPhiXMQFuyAOwNLLaDgYUtewPUNWyHEBS\n",
       "G4aqdtM1VLVsAQilnAWoald2oKplUEbyxAEUtWwFvGhqzyF5zQFFLY8DnwGqWnOGt6AQuQNksk5A\n",
       "UcvLwFiAqnYqhLcLiPlR1XowMKxGVbsfp9prEFHsalkNkNUyA+XZBXC5gQnFbyB1zA9Q1LpDeSCP\n",
       "P0BWuwlEXMAVZpxAGWCgXL179xIoJhCxzsANCflKpDgORE4cYI9yIosgxzGDD/7UzdOAkSZxgnRk\n",
       "DuMCvGoXovAk8Cnl2MAAABt/SjW+Cnc/AAAAAElFTkSuQmCC\n",
       "\" style=\"display:inline;vertical-align:middle;\" /></a><br>"
      ],
      "text/plain": [
       "falseAndTrueNegated: [not](FALSE and TRUE)"
      ]
     },
     "execution_count": 4,
     "metadata": {},
     "output_type": "execute_result"
    }
   ],
   "source": [
    "falseAndTrueNegated = Not(And(FALSE, TRUE))"
   ]
  },
  {
   "cell_type": "code",
   "execution_count": 5,
   "metadata": {},
   "outputs": [
    {
     "data": {
      "text/html": [
       "<strong id=\"falseAndFalseNegated\"><a class=\"ProveItLink\" href=\"_proofs_/falseAndFalseNegated.ipynb\">falseAndFalseNegated</a>:</strong> <a class=\"ProveItLink\" href=\"__pv_it/212e6c10e2f0b1a158435422d7236785ea7f49540/expr.ipynb\"><img src=\"data:image/png;base64,iVBORw0KGgoAAAANSUhEUgAAAFYAAAAVBAMAAAAutAQGAAAAMFBMVEX////c3NxERESqqqqYmJgQ\n",
       "EBDu7u4yMjKIiIi6urpUVFTMzMx2dnYiIiJmZmYAAABjE816AAAAAXRSTlMAQObYZgAAAPtJREFU\n",
       "KM9jYCAPzMAnyTIBmce9AERKYCpjbACRr5GF2BNA5D64igS4IQ/A0shqOxhQ1LI/QFXLcgBJbRiq\n",
       "2k3XUNWyBSCUchagql3ZgaqWQRmhlu8Ailq2Al40teeQvOaAopbHgc8AVa05w9u7QHAHyGSdgKKW\n",
       "l4GxAFXtVAhvFxDzo6r1YGBYjap2P0611yCi2NWyGiCrZQbKswvgcgMTit9A6pgfoKh1h/JAHn+A\n",
       "rHYTiLiAK8w4gTLAQLl69+4lUEzAYp0PGEyxd+8qMDBUIsVxIHLiAHuUE1kEOY4ZfPCnbp4GjDSJ\n",
       "E6SjJOkFeNUuROFJ4FPKsYEBAI5PSWtze3oSAAAAAElFTkSuQmCC\n",
       "\" style=\"display:inline;vertical-align:middle;\" /></a><br>"
      ],
      "text/plain": [
       "falseAndFalseNegated: [not](FALSE and FALSE)"
      ]
     },
     "execution_count": 5,
     "metadata": {},
     "output_type": "execute_result"
    }
   ],
   "source": [
    "falseAndFalseNegated = Not(And(FALSE, FALSE))"
   ]
  },
  {
   "cell_type": "code",
   "execution_count": 6,
   "metadata": {},
   "outputs": [
    {
     "data": {
      "text/html": [
       "<strong id=\"andIfBoth\"><a class=\"ProveItLink\" href=\"_proofs_/andIfBoth.ipynb\">andIfBoth</a>:</strong> <a class=\"ProveItLink\" href=\"__pv_it/cd54a2b9b31685812aa22a6f9ac65a0ec54dd2df0/expr.ipynb\"><img src=\"data:image/png;base64,iVBORw0KGgoAAAANSUhEUgAAAK0AAAAXBAMAAACL0NJjAAAAMFBMVEX///8QEBC6urrMzMxUVFRm\n",
       "ZmZERETc3NwyMjKqqqp2dnaIiIiYmJgiIiLu7u4AAAAU9Wx4AAAAAXRSTlMAQObYZgAAAsVJREFU\n",
       "OMu1lT9oE1Ecx79Ncrk2uZyZdNMMbhUaQXAQyaGhFByaoVEcShUxddHcIG1FarNoEKTNUle7WVEk\n",
       "oluGnOKgdbCDWVQwFQWXYmn6z7ZWf+/37uklkkr8c3B5v/d77/d5v3/vAvynp/pHVp3brj6hd1YI\n",
       "L1rE+i05Hm7QP/2WTJ6LQYsDd8R8vEVuuxvlhDu/ohZ2AtoikAOGaKafapFbkoPxzuVfVXFs0LsE\n",
       "zMijtUKL3N1yuDRgS9x5lx9epcPWgTkabg8Pj7aI9eXkWCzHeAx0FqUiGAUidGiQHF3JZF63yNWm\n",
       "JL56y2Hhk6w+sMOCfo18D6WAo8AgK/P8e3M53R1nKaaKxMF2ZNN9Z5RG4t4jIf28h5NyIXGs1C/W\n",
       "OiigvTA5LGNR1iKKcJQlVcyX8oDHwANX0xZzDx5LsTCLEblQtmG+EpGIfCDMx3/clDFa8K16ueaA\n",
       "9K4P6LLdcJnrTyZ7eY9RRECGeFqwabt/gWroRLia9yu8FClCm/VyQ/PSqTdAP7xcHznOkZK9e1GW\n",
       "RHhTkmvmDvDpxQwvfY7jme3lHgqyYNZg5FUeuC/pJ8IZm1TF8YuQewsyDxg8wr3ietNVenQBXq4l\n",
       "3fdtlLrVtyQoMqOTffuCKvikal99TWRGxDHJds9RZptpqlDVwzUKYTYO5WC414HbiJqLDtgSXoqN\n",
       "EdW++8fVhjbRLGYlnWXcWUpFwcOdTx/fYpsUzC/qXpAnQ3vyMLJrBAiIbIcJomWXkj03uBGFyhA8\n",
       "zUaCa0q2XXEP9wT8Na5VAb6auhi76m5fXbfzM/dD2keWjp6HvgW94smvj1K5iREbY1WMptTumd9c\n",
       "yLtK+LACvfct1XN6Od1T+Mk1qUMvfnUSTmgi3Xf9l+9kk8fMNSgM78T78XTq9+nWttyA3aA42ITr\n",
       "b9x4eVvuw0aF04Rr/Mt/VOtvjL8DRD+w3zAevUsAAAAASUVORK5CYII=\n",
       "\" style=\"display:inline;vertical-align:middle;\" /></a><br>"
      ],
      "text/plain": [
       "andIfBoth: forall_{A, B | A , B} (A and B)"
      ]
     },
     "execution_count": 6,
     "metadata": {},
     "output_type": "execute_result"
    }
   ],
   "source": [
    "andIfBoth = Forall((A, B), And(A, B), conditions=[A, B])"
   ]
  },
  {
   "cell_type": "code",
   "execution_count": 7,
   "metadata": {},
   "outputs": [
    {
     "data": {
      "text/html": [
       "<strong id=\"nandIfLeftButNotRight\"><a class=\"ProveItLink\" href=\"_proofs_/nandIfLeftButNotRight.ipynb\">nandIfLeftButNotRight</a>:</strong> <a class=\"ProveItLink\" href=\"__pv_it/40045ea1b0d5838ab2d85b085249b014729edc2c0/expr.ipynb\"><img src=\"data:image/png;base64,iVBORw0KGgoAAAANSUhEUgAAANYAAAAXBAMAAACFeawMAAAAMFBMVEX///8QEBC6urrMzMxUVFRm\n",
       "ZmZERETc3NwyMjKqqqp2dnaIiIiYmJgiIiLu7u4AAAAU9Wx4AAAAAXRSTlMAQObYZgAAAxxJREFU\n",
       "SMe9Vk1oE1EQ/pLNn80mLV7Ui67gQajSHAQPIgkaqrcWJBWF0nowVdA2h2Iroi0FqQfRXCrezEWs\n",
       "KBJQTz109VT10HjoRSpGUeilWLQ/KrU6b/ZviG0Oi/ogebPz7c733rxvZhf4j6Pq+8lmYQfL9e58\n",
       "Tj/dACrq4pUPKi0jLvZZ08Gae/S2xWzrCMIpso8B95Xvhg+umMyIHeCmfXnF8Qe6gS4Dw+p+4AJN\n",
       "0W4fXBPCjlsp1N/Z/FcdIE1AOoOXCizx8sJFH1zbhR2wOC52Faz0nnf2PEmO6RLek5lsgn5vYOCy\n",
       "D6rgsLjYbU3lSYPnULMjlVP0e11FRG3mLLCcz7/xwRUuiYuTFn31jsnGnKU4GovAYC/Q0E72XeAw\n",
       "0MP+Uf6/tZRrTfGTrggKXlAXRcwUXNf5/wMfD42HOGFrdXHi6SzNm1QSbgO7kOR06F+s821CvEkZ\n",
       "ESfQtCFE7KAIkLfzLQ2VlM3sMjDUzkYFg7ZmVoB5qo2gemYnkECcl/hp1cpNBsEVyZXsEjtwUTQa\n",
       "orR4mVo228aC1ssIWZuPEEec4moLSpNkmwlWzaMZhhNlhCuSq2G+3eNy0XW4KOkBzhDFswu9kSb9\n",
       "h8eVHOai18p5hj+nMFWQXAciovpcFIGi4NqmDHIkOL9j7uGnKSWh714O0XOIdYpOhlsmnvRCcmXC\n",
       "FY/LRRExBdc51RCIK7bgiGzMLa8h2quu9jul3BzrBSYZHgeeVQWXXoyrAA35fP6MQC0Zc0IsOZPQ\n",
       "6Zk15VB5SDjlpW2teppHQAk1OZPr4yCnKVFFwTWf61izo0YEiqDYLfZSr9sxCr3vGwUNGU7X6viV\n",
       "zV5T+48p14haueIIF5Bm7VB2W1KC6zi0rx6XiwJbZI8qyI5iF4AYdo+yxx4SjRkdRXQN0RlxXkFa\n",
       "1ioGbbV4KLifumVXqt9kHqikO33r4zKibbPaKsaXckeLHleSKqb/p5k2rZPx0PXfKRsMbhZzte82\n",
       "YUckYP4ZICrflf11uUIqLUdqnPs34NIK60S4JInrfgM8VmJJ1TjNDbj0f/zRE/rrEX8DLp7KEuso\n",
       "EPoAAAAASUVORK5CYII=\n",
       "\" style=\"display:inline;vertical-align:middle;\" /></a><br>"
      ],
      "text/plain": [
       "nandIfLeftButNotRight: forall_{A, B | A , [not](B)} [not](A and B)"
      ]
     },
     "execution_count": 7,
     "metadata": {},
     "output_type": "execute_result"
    }
   ],
   "source": [
    "nandIfLeftButNotRight = Forall((A, B), Not(And(A, B)), conditions=[A, Not(B)])"
   ]
  },
  {
   "cell_type": "code",
   "execution_count": 8,
   "metadata": {},
   "outputs": [
    {
     "data": {
      "text/html": [
       "<strong id=\"nandIfRightButNotLeft\"><a class=\"ProveItLink\" href=\"_proofs_/nandIfRightButNotLeft.ipynb\">nandIfRightButNotLeft</a>:</strong> <a class=\"ProveItLink\" href=\"__pv_it/d0569cc6bbb5356494003b40b073257ea35f9a6b0/expr.ipynb\"><img src=\"data:image/png;base64,iVBORw0KGgoAAAANSUhEUgAAANYAAAAXBAMAAACFeawMAAAAMFBMVEX///8QEBC6urrMzMxUVFRm\n",
       "ZmZERETc3NwyMjKqqqp2dnaIiIiYmJgiIiLu7u4AAAAU9Wx4AAAAAXRSTlMAQObYZgAAAupJREFU\n",
       "SMe9Vk1oE0EYfZu/jWaTBi/qRSN4EKo0B6EnSdBQvaUgERRK48EUQdscxFZEGwoSD6K5VLyZi1pR\n",
       "JKCecsjqqerBeMhFKkZR6EUs0h+VUv3m291kshtzWNSBZL753s68nbdvvl3gP7am65n9Uuyp9Lry\n",
       "Of20GFAXg1cuqLxJabDf6A7YrtHSy6mhGfjjFB8F7ovcdRdcQVkRc4Eb5vCylVeywGgMBXE9cJ46\n",
       "NeuCqyrFIUNC7b3Jf8UCEgQkkngpwDLfnr/kgmuHFCsGx4XRvCHvWWvPNUq8LuMDhZEotHuTk5dc\n",
       "UHkK0mCP0VVqMe59/ZZVTtLvTRMBsZnTwGou99YFl78sDU4Y9M3bOgeLhuOoLQNT48DmYYrvAIeA\n",
       "Mc4X+f/mSmYozjM717ahCOoSeI3/P/LjofYQx02vLlefLlC/SYhwC9iNCMuhfTOebxShqAgCne61\n",
       "oVBIrpF31IQoWzgVw/QwB3VMmZ5ZA77Q2fCIObuAMEJ8i5/XDW2S8Kw5uewo+mLS0eIb8aZSaTa0\n",
       "VoHP2HyAOEI007skPEmxHmbXPGowHK7AX3dy2dEuXCS6wgrReuZB76NO+9nmihT40HsrOYa/xjGf\n",
       "d3A5UCgliWu7CCgRZn1nW483QYr5frQ1xNhB9ilGGB6oPhmHg8uBIqBLXGdEQSCu4JJlo9nW8Zqm\n",
       "vWpiv/MizaK8QI3hOeBZs811N5fLFbqgho15y4adyeg0Z0MkxEMLW8fLu63Z9jwUYdRIIzPBi5wi\n",
       "oUqd+8p2QeGpS9veR7VuZxHaxHda1BezqtaxX6nUVbH/oEjNCNuIVfx5JNg7pO5A3M7lRIGtco3K\n",
       "yxXFPABSM2uU2faSaXS1CHUDagN2LicKrqet01fuXWQeCNGtuvVpFWp6wbuOuZXMkZKNK94F7f5O\n",
       "+UPjYrFof7dJccAxResYqfK78lxPLp+Q+LAtOdiTa7BzeFEm7vkN8FiYJW5L6j259H/20eP76yv+\n",
       "BsgCyxFaw+qZAAAAAElFTkSuQmCC\n",
       "\" style=\"display:inline;vertical-align:middle;\" /></a><br>"
      ],
      "text/plain": [
       "nandIfRightButNotLeft: forall_{A, B | [not](A) , B} [not](A and B)"
      ]
     },
     "execution_count": 8,
     "metadata": {},
     "output_type": "execute_result"
    }
   ],
   "source": [
    "nandIfRightButNotLeft = Forall((A, B), Not(And(A, B)), conditions=[Not(A), B])"
   ]
  },
  {
   "cell_type": "code",
   "execution_count": 9,
   "metadata": {},
   "outputs": [
    {
     "data": {
      "text/html": [
       "<strong id=\"nandIfNeither\"><a class=\"ProveItLink\" href=\"_proofs_/nandIfNeither.ipynb\">nandIfNeither</a>:</strong> <a class=\"ProveItLink\" href=\"__pv_it/6c6cf740054e4cfdcd9e1ff7416524b0580365fa0/expr.ipynb\"><img src=\"data:image/png;base64,iVBORw0KGgoAAAANSUhEUgAAAOEAAAAXBAMAAAAPVjVNAAAAMFBMVEX///8QEBC6urrMzMxUVFRm\n",
       "ZmZERETc3NwyMjKqqqp2dnaIiIiYmJgiIiLu7u4AAAAU9Wx4AAAAAXRSTlMAQObYZgAAAvdJREFU\n",
       "SMe9Vj1oU1EU/pq/lzYvaXAQXGoGB0ElEYROkqKhFByaoRkUihUxdVCTQVodat+iQZA2S13NolYU\n",
       "eaJbh0Zx8Gcwg138wSgK3Sz9t5Xqvefc17zkJRki9cDpu989757vvvOXAv9dyv923GU2Ag55obQk\n",
       "wduWGY/UAUdr3nn5J5E4H4E3BtIHcm+iZcaJOmBSwWvW/m5BtQgYIB0RD22oVcKA6QT6F5Wp62rf\n",
       "vSl0GXgDUr8we/OtMraVneDq6SwTXVTGwJq4xgbwFaT6/dHRsZaDur8OMGcj9PQcUAHwhYFgl3jm\n",
       "WVfT6Q8tM55yAlf5TpEW81yVQGcPtBviezuSrMeBYTLk6O/tlVRvjE5W+85Vlu2Z1MBZXt6yv8Lg\n",
       "G+L8bY9wkvfjJ2YG5SXaDdZ9CBmU8EXOexiBMMWiilBZWZ4DT3i1SxTBZykFBkIiGE/SooQr/NJs\n",
       "FqH38hvCrEEEKAo/fpPZ2wPXmpNRWVkGgChXh3UPd48F3IlEP5W+bsJDwcIZySo43AusgWKQaurx\n",
       "HJmDJrwlJ6OysnwEBtGAUSSjjWImvNIuIBoD7woVxpBBo8Jtpsn8M4ZXWQejZSUJLUFXad1jZyQg\n",
       "ajFIWZmyku+W4enPV6KK4WNUy+ra0Zlnl+BgtKxcjZszvarVLtgZJdCEZ/+CVWpTVjtq6zLOBium\n",
       "KIivMUtnp0VhlCuM99LptLFtZdRhQO9iprvWLWIKzMuTW/IOMplBqx0PywFodQfaZDGH5lIZIjon\n",
       "Apuv/sahipWQL4nQLwaH7IEQYGRvDnpmXbj1RNTc82aWE33UOP4IK3Tpy5tFnCpLuIrGahm3rYQ6\n",
       "83AtqcGWtU85O3CpVrGJmnJKDorRUNRy0LagzaGW0bIyGi9jLKnatGDv2ULzAfVQKcn3VWj9n0RV\n",
       "Ta+k+vI1jLFtK6GOydTAzWa/Vg1EDhoeNvZb2tY+xxG9jpvLDYFDPFnWKuluythdx41mNgIOeaq0\n",
       "SopNGYs7/C+XZ4f8/gVy985Qn0xZwQAAAABJRU5ErkJggg==\n",
       "\" style=\"display:inline;vertical-align:middle;\" /></a><br>"
      ],
      "text/plain": [
       "nandIfNeither: forall_{A, B | [not](A) , [not](B)} [not](A and B)"
      ]
     },
     "execution_count": 9,
     "metadata": {},
     "output_type": "execute_result"
    }
   ],
   "source": [
    "nandIfNeither = Forall((A, B), Not(And(A, B)), conditions=[Not(A), Not(B)])"
   ]
  },
  {
   "cell_type": "code",
   "execution_count": 10,
   "metadata": {},
   "outputs": [
    {
     "data": {
      "text/html": [
       "<strong id=\"nandIfNotRight\"><a class=\"ProveItLink\" href=\"_proofs_/nandIfNotRight.ipynb\">nandIfNotRight</a>:</strong> <a class=\"ProveItLink\" href=\"__pv_it/76cf54230d436297ebcc3d6dd79e4e16b1651e810/expr.ipynb\"><img src=\"data:image/png;base64,iVBORw0KGgoAAAANSUhEUgAAANkAAAAXBAMAAAB0cveBAAAAMFBMVEX///8QEBC6urrMzMxUVFRm\n",
       "ZmZERETc3NwyMjKqqqp2dnaIiIiYmJgiIiLu7u4AAAAU9Wx4AAAAAXRSTlMAQObYZgAAAvZJREFU\n",
       "SMe9VUtoE0EY/prNdmteBg+CBzWIB6GKEQQPIg0atOChveSgWF/gtuCjOUiriDWXWihSc6lX96JW\n",
       "FFnQWw+NouDjYA/WgyhGUSlUtJS21gfVmf+fbbbZrOCi/vBn55t/Zr6Z/xXgv0o5+NaQ7Qc8ck/p\n",
       "qARPArFtrgG2Va25/zOb7UhBT4P0upwbCMQ2UANcVLDHmV8uaKaAAki7xMc4GIQsantB7LWKTK+a\n",
       "174LnQYeg7RBmPViELa6shecPpBnkuPKGP0irvANeAPS2LXu7rOBHLmuBrBHUvQNN6qH1yeB+Crx\n",
       "LbLOmuaLQGx7vSBUvlyiwThnH7A0A+O8eGeklXUH0E6GPvq9NJPbma46N+UaV+wX3EsYvEUTv+km\n",
       "9vB80+7hNnmBJQXWtUgUKMBTHOckokke9ff38k3dSVSxLxMBfyXFYkDXOtdKg1Gc4uUjeSSeyVcn\n",
       "WeOI0pnvf5BZzyAkIjuR2wfbmljjYVN2IVNO2mUcoGWzLbQ2ZiPMDjgkGcX52iRrtBSn/Lk1Rua4\n",
       "DX0U0cM9nwRb5KOHje212UIiN8lP4kSaBUTy46lVYUsUqA1otknmz2k8zOMBJZjVuN/DxnYpK9xs\n",
       "BETOxcnLg04aaNJhLcWKJ9G+nXIWbbR34/CdE1z6sHMrvXFju5RjbjYJDHFqw6STcINOuRlz0rcF\n",
       "VgySYx5hhPYOAXfLmsVv07dW2CKmaXYoO81ecS6QVmBc1te85Jcb4k65bZJNzakA1MmkTYzlOumQ\n",
       "I8JZRe25aR6VcYssflu9shPY4K4AAbpW9yHWOSeODKdUL9M7p7PNVBwNKVbEJIueRxNl0VfhrHQi\n",
       "w2+rwUZ2blZ5d+dyg5CnSp3OpWS9KPuS0QdjHoZIzl3Kk2eq2ZSd0txyl6H1+8ZzQynJu1kYLS9F\n",
       "Bg3N5JqFoz6kqLrNqizRHLvvP46PyAbCTcR9w4XRVRG3BfH5QzrpCzwSzrMuki211/qwGbYf8Mht\n",
       "pYuk9Eds/0gyf+ugX4AT3CkTUBU0AAAAAElFTkSuQmCC\n",
       "\" style=\"display:inline;vertical-align:middle;\" /></a><br>"
      ],
      "text/plain": [
       "nandIfNotRight: forall_{A, B in BOOLEANS | [not](B)} [not](A and B)"
      ]
     },
     "execution_count": 10,
     "metadata": {},
     "output_type": "execute_result"
    }
   ],
   "source": [
    "nandIfNotRight = Forall((A,B), Not(And(A,B)), conditions=[Not(B)], domain = Booleans)"
   ]
  },
  {
   "cell_type": "code",
   "execution_count": 11,
   "metadata": {},
   "outputs": [
    {
     "data": {
      "text/html": [
       "<strong id=\"nandIfNotLeft\"><a class=\"ProveItLink\" href=\"_proofs_/nandIfNotLeft.ipynb\">nandIfNotLeft</a>:</strong> <a class=\"ProveItLink\" href=\"__pv_it/246fb8da221cb6f97e48b9101f02598bef443c590/expr.ipynb\"><img src=\"data:image/png;base64,iVBORw0KGgoAAAANSUhEUgAAANkAAAAXBAMAAAB0cveBAAAAMFBMVEX///8QEBC6urrMzMxUVFRm\n",
       "ZmZERETc3NwyMjKqqqp2dnaIiIiYmJgiIiLu7u4AAAAU9Wx4AAAAAXRSTlMAQObYZgAAAy1JREFU\n",
       "SMe9VU1oE0EUfslms2l2sw0e/LlIDoJC/YlQEBRp0CAFD61ILIrFVjDtodo9FKuIkov2IppLPOei\n",
       "RpSyqPXSQ1cRqRUxgr1IhQgVvFRLTWv9a515b7adJKZiUB+8nXkzb+bb+ea9NwD/VQq1L/XaktGw\n",
       "ousjoXluPKsJrVHqKzFq8mU+jxfj8e4IqFFAvcXHrtSEJq8KEEeBaWFfcCdWM5gZgBSgnmaN1lEL\n",
       "mC4TOUzN8wVhX3TP/I1pEWAMUPlPqela0Dzyla/Hr5b5LEBOikmdDRhfAd4CqnGzv/98TURukgMm\n",
       "RXvrM2T7GsTB/WGAEPsVf5p0Lpl8XRPaEamvZrHZWved7PcgwqU+Btolds5gK+legC6cGMDvtdnE\n",
       "vmjZvpESK2BRe1kec/jXjPBr4nIHDlOnaf9wO5+rS5FuABNpMIgEIwx6mDxHc7mj2CkNohcCfBU7\n",
       "0hsu7FweHPOCNktzeThDnRELzFd8KkwaAh1/7B2RoMbAy27WHEo4etC8G6lAM4851JmRUq0e/Rrj\n",
       "8Tn6ZRt8RFAnR2QLlGlS3Qlh/AyO43TIBpVx/mDjh4IehEGnAi041VoNjX3W0iYFN92LnIzsMpqZ\n",
       "wpqg2Emc/hiFUQsMvqMe9A4VKtB2+YW5TkLz8ByqY/oShzJuGCicsJb0MpPQtQdjFtrRcdvw/VPs\n",
       "1jGe1QMTlfcWU0W49Uhofs7BWaZXlwIu46abNs+5TZFCBlc/hRF0zAE8LMBOdA3CQXsJLZhMJrvZ\n",
       "krQuqtN1Fz9KwY3B1svJUPiCkJtu23mFczMAPHxHczyBjnCCkZmG3Wxrm6FlsyVn8wNMJQ6J6rRF\n",
       "zu48aJ3zFjxZ5CXLFxGFTe0txpsxUwIRUjA4impBE0bRF0ZmFCbF2SrR2kD5JCqXJcGtKXmKKrNU\n",
       "VC4hm1lcOdoAaAugseD0WYTWZpehedkFiXphZKXdxn5TeG4LRZmcA61lgkVQbjbRzELIPI7ZfaOn\n",
       "NEoUs6UD+n44VV+casLvlIqIJMZyVrF7WzKqPEh9Ul+LrYjGufJZZYM7fu1bBU2TH7hzK6LdE1oi\n",
       "zh+h/SOJ/a2NfgI39NOLom9JpgAAAABJRU5ErkJggg==\n",
       "\" style=\"display:inline;vertical-align:middle;\" /></a><br>"
      ],
      "text/plain": [
       "nandIfNotLeft: forall_{A, B in BOOLEANS | [not](A)} [not](A and B)"
      ]
     },
     "execution_count": 11,
     "metadata": {},
     "output_type": "execute_result"
    }
   ],
   "source": [
    "nandIfNotLeft = Forall((A,B), Not(And(A,B)), conditions=[Not(A)], domain = Booleans)"
   ]
  },
  {
   "cell_type": "code",
   "execution_count": 12,
   "metadata": {},
   "outputs": [
    {
     "data": {
      "text/html": [
       "<strong id=\"nandIfNotOne\"><a class=\"ProveItLink\" href=\"_proofs_/nandIfNotOne.ipynb\">nandIfNotOne</a>:</strong> <a class=\"ProveItLink\" href=\"__pv_it/85f6b70cf6e65261586299074bda7f58860901e20/expr.ipynb\"><img src=\"data:image/png;base64,iVBORw0KGgoAAAANSUhEUgAAAq8AAAAZBAMAAADtQ9rvAAAAMFBMVEX///8QEBC6urrMzMxUVFRm\n",
       "ZmZERETc3NwyMjKqqqp2dnaIiIiYmJgiIiLu7u4AAAAU9Wx4AAAAAXRSTlMAQObYZgAAB0lJREFU\n",
       "aN7tWnuIVFUY//beec+du7MaihXORqGByI5RK+gfO6yigpRTuYTa5pQ49jLnD3El01kCFUPcgTD6\n",
       "x9zA1MBorBBpBccnopVTmVKxeiUIQXNXd3273s7jPs6590zcEZxKPHDmfve73+Oe3/3Od75zdgG8\n",
       "tUDvKXjQvLbxvd1eRWMP0KqmBVOgeQVW/VfeUCoyN+PopaVQpZHqFKR2/aHcwbuSVxppx8CWMeOY\n",
       "B2BJzCrFGgP7NEPLKXo9012lkYoKB/WpU19vdOB0Zn3uwohb3nFl5V80OgL2c3y/wQOwEfzZQ1qN\n",
       "gWXfzHAe0VPspKvwRqtsklfgdEYA+C/zvC9voJ+mAZEhoQNOPmR0BOwyfMl4AJYILasxrlF2hvQY\n",
       "E1svs2inxZqrmUzAKbA6Mgo0eZDjRXQcwaF+kSGRA15e6aYdAYvDwF/wACwJnjk1BraOjcfR9PKB\n",
       "3s8wm08LFeXFtiavwOpEryEcbnK8zVfwrz8jMiRywMurcdoRsMq2jo6VnqqCox0dHeUaA/skm8w6\n",
       "KRjlxB2G29ojVPSNs2LdocDqBBAGsdEcL3GN6BQEhoQOHPJv0I6AhavZ7G+egK3PZhd31xjYuQzt\n",
       "p87zya7LNlPtFBeC58CKAV6B06lPQXCNxvLCeqaiIRHfKf8Z7RjYKQCLPAHrS0IgV2Ng17OZsUQu\n",
       "C2H+bWZhKonz2A47a/EKnE7LzJ72Esfz6aWKhkR8p/zHtGNgn0BfyxOwUgp9JjInb4hlmrghfnSl\n",
       "bVqSUIcbTq4QLDEcW2IehJe0zV5AyWEoUHtxQ9FaR+oiJQ57cVprthZV4duXYblBmQrcQmzo7M2B\n",
       "eoLjhfSkmYidhoQObHnaHqMdAxuDaEmcnle/ADtfYXZeZdhDV5SbYmATXKJAA4rGia9HNSnhdsGz\n",
       "A+yjfQA7KXWZKWHrCbB9BWi6CvDMs/TBMTLlXA3V2z5jxIYC02ydVzG4JZYX00lmGGs6YAwJHVjy\n",
       "ZgVCOwY2WooJ1r3zbS/D4YgW0Rhg9wBdOZ+/KsTVn+DSjT8FEk7s4SGNhIajOdgcsLNR9OcqADur\n",
       "oUEfQtdN9MFpfg9hBaVmbSdMBbvZOrjSOt7N8kI6eTDSdMAYEjqw5V3Aqp2CN4u+tuoifFdMc8Ce\n",
       "oy6kXy+JTx42xznXRfDj/N6Ha+cJLmkHmwP2d4B2So1igK3DmSY8/OLFvG4BG0a5JCRI/BtRX0sl\n",
       "TAX7k1o6Ms69swosL0qmdiRlOrANiR3Y8q5UAItaUWTPG7clugvLYArgEBY68OEKDtjAUhIzsbG6\n",
       "sLT7Kc9VNX1JOIJfdT7OXX+4pB1sFlh1ABRjMG8zwAbwnD1bwNMvZ44bgxEmiRq/kmoSZMwbiYSp\n",
       "cOirb1M9C3gdXMYGr3M8lUy73daXswypnBOLb8lj+4g6QjsBdiOKqwtNpVhKwXeYSgJJ5AciFyax\n",
       "wIbbjYoCbzaecyIVSddzVU1TzzfvkMxL6z2f42Mk+PKQBVa61TNNs6sX0pLYAXrhaVhWL5jjbqbr\n",
       "CBognu19ZYOQM+aBnKmg7r8NJ+Agp0PK2AkbeN7K658Ev0+bwNqGLNuYYPiGPLb/M19uQR0a4qrd\n",
       "UJ/Eb06onEzyzgHo3sICC48QX6OhqwiTRjqBnaCFuJOL7WgRwtpky6fJnzomLGU7gN2azWY7IdIJ\n",
       "irHLGs/ijUak63dQhaOj+UeBbTW3uuoIHJ0Zg/A1mtthU2Hi+U4YoN/J0vEvGZw6Yz1vBxUriaGX\n",
       "wATWNmTZxgTDN+SDyD5eUd6nnQCr4OHNRPkuRMqlmShHyCez2bcQsO/9xQH7A6HQYoDUXOfePzYk\n",
       "Btn7hWRBRkPDCSYOMSewlO2O2AwEUAAYFV0dq8V9Swpso7NUY4s37tjKV5TjsK6SjoC3qYKhCg58\n",
       "RSnObWmNNhx2QV6iVJukpmjESpM110E3ysDHy25gUf5WhkCZs6f1EC1nETRNGLxZJezVBSxlI/mU\n",
       "C9j6AkgD9qGG1Y66ga3i1CEZzQT7G70rbKrWvj/dCBEUxLhbwAb7UaQejsDyHKKGPw7TKbBw1AUs\n",
       "ygTQ0k+ARcIbYLmGf3IoE4CsQ3gXDJPSEFwLwTsQ/AUTZ2+AjKIXAYtuqLRmsZF83AVsXoOV6crH\n",
       "hncHbB5/xkz3PQM2D3VPJckO6hwwwEoZlHqbt0FLCVFzS/An+rTSmkbwgRPYM4OgJC4VMLAtJfka\n",
       "tOTwTymG0sM+fRRMUcuRAq5jtl9pm0EI9YtLJ5IEWHRDpXM2e4qxCbKBTUa62mavM++W8n/vsNq7\n",
       "XfOqG/gYiCXlN71vyat1MAb8O4AE5HTHq9JmboW2ohzr2NLy7RQjzFDlcDqmoCls7VAsAznmxqbK\n",
       "0f2aq45lwWSLhxXwH2/RJO1uYOVc5bMCrk1+uMAIW5SaiRQCXwNMNJ+YhLzzc4ZrUWpG2QH/BOz/\n",
       "tLmAVcAjsLywUinwoSTkguvo4H4HtvLp1j3+vwLffYXr+N7U38ElZz7wIroWAAAAAElFTkSuQmCC\n",
       "\" style=\"display:inline;vertical-align:middle;\" /></a><br>"
      ],
      "text/plain": [
       "nandIfNotOne: forall_{m, n in Naturals} [forall_{A_1,...,A_m, B, C_1,...,C_n | [not](B)} [not](A_1 and  ...  and A_m and B and C_1 and  ...  and C_n)]"
      ]
     },
     "execution_count": 12,
     "metadata": {},
     "output_type": "execute_result"
    }
   ],
   "source": [
    "nandIfNotOne = Forall((m, n), Forall((iterA1m, B, iterC1n), Not(And(iterA1m,B,iterC1n)), conditions=[Not(B)]),\n",
    "                    domain=Naturals)"
   ]
  },
  {
   "cell_type": "code",
   "execution_count": 13,
   "metadata": {},
   "outputs": [
    {
     "data": {
      "text/html": [
       "<strong id=\"falsifiedAndIfNotRight\"><a class=\"ProveItLink\" href=\"_proofs_/falsifiedAndIfNotRight.ipynb\">falsifiedAndIfNotRight</a>:</strong> <a class=\"ProveItLink\" href=\"__pv_it/596c1cdb03c4ec54b4456372fc7b6e2892a0f3c60/expr.ipynb\"><img src=\"data:image/png;base64,iVBORw0KGgoAAAANSUhEUgAAAPMAAAAXBAMAAAAsDWSYAAAAMFBMVEX///8QEBC6urrMzMxUVFRm\n",
       "ZmZERETc3NwyMjKqqqp2dnaIiIiYmJgiIiLu7u4AAAAU9Wx4AAAAAXRSTlMAQObYZgAAAydJREFU\n",
       "SMfFVk1oE0EU/pLNn8kmFk96MoIHQaU5KB5EEjRUby1I6g+U1oOpgrY5lLYi2lKU9iA1l4o3eylW\n",
       "FAmopx4aPVU9tD3Ug1SMouClWGp/VGr1zdvZ3TFmWgioH7zdyXz75pt5895MgP+HUvWu3oJlephx\n",
       "HfOMbEo0XlYlvU8a4VC5Zv1iuq4POF7B7bJ4+BPAPdEYrEp60PW8Kbuu2pynBWiOI1TBbT8/e4FO\n",
       "egVbqlGOFCwTi3wr9+26TSaJSKZgDuukXwAhcvLnq5H2lCwjXGrO8du4aKfOOHVMDiNWo5N+RxO+\n",
       "29V1pap475JGKIxb+eTbbWfdGbJpmsd5nXSAlruczb6uSvq0NErz0p0iNz5ZWUtYBLrb6D2ikw43\n",
       "AEeAVv7Rz89bS5m6BI9nfxrKuW4OS7ghDXjPW0t4gFMWZyyOPZkVjdvicXJA4Npv0psoz3Yi1sup\n",
       "smBlTA0ivEEBW25SKU6HJWyRBsTR08CNKXTLFFwB5lLU2KFbtZeGiSLC0fq4yl3+FLwrqnSsuei6\n",
       "OSxhQRqMdLqea8QswGfFJEADR8SASZ20MU9fFKOclg9nuCtagH9KlQ7PNbhuDqtK09Z4OHA0kJFi\n",
       "bjO9zO8bScd6+UQyClnu+pzARE6VPhhQqt5hCdukgXI1yrsw5GRMkiLl+2YHvOmNwKs/Ao7Ww1wX\n",
       "aOKu2rHHbVClU84yVZZwQVqQpEPzdqIOOWXdIyIxoVu1KdghHvo5xrlrFHhaUqTNfEQMG85ms+cU\n",
       "VtbNCFcUfbwmAifCE7XL2tha2qi44BGFEZvJtPOYZymqeUV6LtO4Jn0CCkvYa1nn9n6Y7V9pJF9c\n",
       "Hq9o/JlOD3B29pXpUuynOfYh8bEpJP05JDk5aYNqE4r0CRhfXGmHFVPOWeZeorLSFFQ6SGEfpBJ7\n",
       "KCuLwX4E1xCcUfbaS3NfRbdMPJcVUx5GxetBRVh7nd+3Gx+WEayfNVYxupQ5lnelY1SwHT+KSQ6e\n",
       "obBll6YOn3SEdYypN7zSDqhEsZJ7h7R1cFRH+HJlHQc00kauknuwYNk6V3pCxzwq7yhqpM1/+3/R\n",
       "97cFfgHZtdahK2JwEgAAAABJRU5ErkJggg==\n",
       "\" style=\"display:inline;vertical-align:middle;\" /></a><br>"
      ],
      "text/plain": [
       "falsifiedAndIfNotRight: forall_{A, B | A , [not](B)} ((A and B) = FALSE)"
      ]
     },
     "execution_count": 13,
     "metadata": {},
     "output_type": "execute_result"
    }
   ],
   "source": [
    "falsifiedAndIfNotRight = Forall((A, B), Equals(And(A, B), FALSE), conditions=[A, Not(B)])"
   ]
  },
  {
   "cell_type": "code",
   "execution_count": 14,
   "metadata": {},
   "outputs": [
    {
     "data": {
      "text/html": [
       "<strong id=\"falsifiedAndIfNotLeft\"><a class=\"ProveItLink\" href=\"_proofs_/falsifiedAndIfNotLeft.ipynb\">falsifiedAndIfNotLeft</a>:</strong> <a class=\"ProveItLink\" href=\"__pv_it/8965417de52b985bcd336e48f23328fadca565260/expr.ipynb\"><img src=\"data:image/png;base64,iVBORw0KGgoAAAANSUhEUgAAAPMAAAAXBAMAAAAsDWSYAAAAMFBMVEX///8QEBC6urrMzMxUVFRm\n",
       "ZmZERETc3NwyMjKqqqp2dnaIiIiYmJgiIiLu7u4AAAAU9Wx4AAAAAXRSTlMAQObYZgAAAvNJREFU\n",
       "SMfFVk1oE0EU/tJNsrHZxOJJT0bwIKg0B6UnSdBQvbUgFRVK68EUQdscpK2INhSlPUjtpeLNXqoV\n",
       "RRbUUw+NnqoebA/1IBWjKPQiltIflVJ983a2TWYzKSyoH7zd2fftzLfz5r2ZBf4fiv671tiO6WEl\n",
       "dMxLsmnReONL+pA0whFVs2kp09gPnKzQ7aq4hJLAQ9EY8iU9tNnztnRdd7lAO9CWQKRCt8N8zQPd\n",
       "dDPb/ShHbcfEJD/KdbvpkikiUmlYozrp10CEOoWG/UgHio4RrrTl+G5cclNnkhxvRxGv00l/og9+\n",
       "0NNzzVe890kj2JNOPgX3u1l3jmyGvuOCTjpM013JZt/7kj4rjdK8eK/AjXknawlLQG8n3cd00rXN\n",
       "wDGggx8G+HpnuaUxyeOVd1BYwi1pwGdeWsJjnHE4Y2ni+Zxo3BWX04MCN8qkt1Ge7UU8z6my6GRM\n",
       "HaK8QOHyalFYwg5pQAJ9zdyYRq9MwVXgW5oae3SzrqFhYohytL6usSuURs2qV1plCYvSYGQyTVwj\n",
       "lo2gE5MwDRwVXVI6aWOB3ijEOC2fzLIrZiM07ZVW2VJpWpoAB44GMtLMbaeb9Wsr6XiedyTDzrLr\n",
       "exJTOY+0hyXskgbK1RivwshGTqQokMGfbsBbPwi88wQcHUe5LtDKrvqJZ53wSHtYwkVpJklHFtxU\n",
       "HNko6z4RiSndrC3BjnAEX2GSXePAi+Km9P1sNpuvwMq6GeOKopfXRWjEgsfcsjZ2FrcqLgREYcRn\n",
       "W7p4zPMU1eHyWbdXYAkHHevePQCr6weNFEzI7RWnfmcyg5y8/YouxX6GYx8RL1ti0FAOKU5OWqD6\n",
       "pCrtZcUn5xzbPERlpZWg0kYKdyOVOEBZWTAHYK7DnIUq7WXFJ4+i4vFQilrtcf7IbXxZgdk0Z6xh\n",
       "fLnlxLAinazAKoemDvM6wtnGSvesknbY+8+hPF+WVgXHdUQwpzgaqko3KM+m7ViVIz2pY56qjkJV\n",
       "6cK/+l8M/m2BP0mr16Cw7Md2AAAAAElFTkSuQmCC\n",
       "\" style=\"display:inline;vertical-align:middle;\" /></a><br>"
      ],
      "text/plain": [
       "falsifiedAndIfNotLeft: forall_{A, B | [not](A) , B} ((A and B) = FALSE)"
      ]
     },
     "execution_count": 14,
     "metadata": {},
     "output_type": "execute_result"
    }
   ],
   "source": [
    "falsifiedAndIfNotLeft = Forall((A, B), Equals(And(A, B), FALSE), conditions=[Not(A), B])"
   ]
  },
  {
   "cell_type": "code",
   "execution_count": 15,
   "metadata": {},
   "outputs": [
    {
     "data": {
      "text/html": [
       "<strong id=\"falsifiedAndIfNeither\"><a class=\"ProveItLink\" href=\"_proofs_/falsifiedAndIfNeither.ipynb\">falsifiedAndIfNeither</a>:</strong> <a class=\"ProveItLink\" href=\"__pv_it/1955d68f28a3df2bfac352034815e4c7f00771b00/expr.ipynb\"><img src=\"data:image/png;base64,iVBORw0KGgoAAAANSUhEUgAAAP8AAAAXBAMAAAA2MYQWAAAAMFBMVEX///8QEBC6urrMzMxUVFRm\n",
       "ZmZERETc3NwyMjKqqqp2dnaIiIiYmJgiIiLu7u4AAAAU9Wx4AAAAAXRSTlMAQObYZgAAAxpJREFU\n",
       "SMfFVktoE0EY/ppHt202afAgeKk5eBBUGkHpSVo0lIKH9tCACsWKmHpQswdpFanNQY2CtLnUq72o\n",
       "FUUieuuhUTz4OFjBevCBqSj0ZkmfWqn+88/sbvPYtDRQf/h2Z+bLzHzzP2YD/G/LVrqAKy3hbM/L\n",
       "MhOi8aYCAfsUyA4UUC/+RiKnQ/CGS0y7JB6CuS8agxUIGLTnD6mhyya3lfbIAYkS0/bzk5heemnd\n",
       "G9/fl5Yg07+qeF5VnHuZMAe8dhRATA1N8qY2LqAqK0F28bgh9z2rhPgWSdVvYMpRADH6vb6+/goi\n",
       "sFOBLD0e4rdnl8rJ6iDgb6B3ykmAYBZisY8VCDimQKWQvZ3hxrTMbKC+Bdo18kZdh5MAwRwCeriT\n",
       "5Oet+WgrZ60rf0LSbtbGo50nzc5NBeAbmuXJH+Ko5JoPj3UJTbWchUeuC7uSJ0AwOxBgXs/JTArC\n",
       "F2Tv5O2vWGnPgMdme4sCEMKAPOkELkhu3EDgvThL0MkDgvHDx5778YeHvC1wLRYLUKy0TqDRUO2c\n",
       "AtyRSDtXk56GR1b+CSGCFnfPOAkQjC/j56R9NMlD/jS8E8UCFCvtE9CFQgEUsip2JS3nbmGOKhBv\n",
       "R9YSEEjwPeZOx3joZxgvjSIBJssWmIVupcQ2BVA++9nVw2bGuIXX2lNmCLq+CPtQFAL0HOTaUYdq\n",
       "HHt6DkUCPPaRadbyWKv1CTmjoNFGNTNmug6b14C2JIKScPIAM8Ps8VcY56FRyrGsLeBuLBZLWKzs\n",
       "1SWgN5gL3VGYFlNWxLlFIvjNa2DvINYqQ1SJ4glMRuO87ymKQirfA902y73qDgR+meQeid7tSejx\n",
       "JVrPE1IXtDc+F2njCq0JFexO0XjH0WBGF0t7DTRz6tLKjeFCARbLvfoUXLPWVWxI2AFSNbnKphyv\n",
       "MZvZTfdWRktCW4E2iUIBJit7A1n0W07VRyTK2YO1me8L0No/U9qOzkfbUgUCwhbLvbqhaOeNkp9j\n",
       "Bwsk1s3oq9rVRT/XSy5yXsHZPMa6maayAppKLqKlJZztyfqZTFkBmc39t+rZnG3+ATaf2ZWRe727\n",
       "AAAAAElFTkSuQmCC\n",
       "\" style=\"display:inline;vertical-align:middle;\" /></a><br>"
      ],
      "text/plain": [
       "falsifiedAndIfNeither: forall_{A, B | [not](A) , [not](B)} ((A and B) = FALSE)"
      ]
     },
     "execution_count": 15,
     "metadata": {},
     "output_type": "execute_result"
    }
   ],
   "source": [
    "falsifiedAndIfNeither = Forall((A, B), Equals(And(A, B), FALSE), conditions=[Not(A), Not(B)])"
   ]
  },
  {
   "cell_type": "code",
   "execution_count": null,
   "metadata": {},
   "outputs": [],
   "source": []
  },
  {
   "cell_type": "markdown",
   "metadata": {},
   "source": [
    "***Proving this theorem for use in general case"
   ]
  },
  {
   "cell_type": "code",
   "execution_count": 16,
   "metadata": {},
   "outputs": [
    {
     "data": {
      "text/html": [
       "<strong id=\"leftFromAndExplicit\"><a class=\"ProveItLink\" href=\"_proofs_/leftFromAndExplicit.ipynb\">leftFromAndExplicit</a>:</strong> <a class=\"ProveItLink\" href=\"__pv_it/d17b3b3361cac813f71ef27699985edc2c8db0330/expr.ipynb\"><img src=\"data:image/png;base64,iVBORw0KGgoAAAANSUhEUgAAAI0AAAAWBAMAAAAP0QIWAAAAMFBMVEX///8QEBC6urrMzMxUVFRm\n",
       "ZmZERETc3NwyMjKqqqp2dnaIiIiYmJgiIiLu7u4AAAAU9Wx4AAAAAXRSTlMAQObYZgAAAjtJREFU\n",
       "OMutVEFr1FAQ/po0yZpk0/4BdRFvCrsHRbBIFy3Vk93DRi9qRTE9CN09SItI273IYg82F726J60X\n",
       "ieCth8aDoHiwl3rQgkFUhFoVl1bF7eK8SbabylqR9MG8N5k3+WbeN/MeAmzPWBDT82QYR0juC+Vm\n",
       "MpwZkjES7XwiGPMNkZMiUdxEOFeHywR2b3x8ItmxvPkMzWuO8yoRjBTc8Wk5Bozwd5Xn26v2YO4P\n",
       "z0y0psqRsqNkFy+2dt+i36NlL6wKs/UtJK0XRm+oTU9f91lrleFFCxCPgYftKFMFWtIw2Pt9g61K\n",
       "HtJ3YNk+A6+2vCeOYw0Lx5pQi0A2Sk4eGBgSDoaf5p5+sMjmtAdlAcaFyc+Eo3+K4+grFFdeEupr\n",
       "4GyLHqBLHMiqHGBYz2HzlxyelvGE61Dbdy6O06eSon4U/9RhViMc6pk0EzFyVMzdUYDs3KNRgBnz\n",
       "7J2b+MlTojhskk36NTcYXUyNcFJfhXaLr9gzzLN9lkgM5FqYj9IXwzFdg/xHRQy9AnNXiCPSU5tC\n",
       "6xJVsxbtEke4REdz5ZeOc1nwo8dwVuxTTcgFigi1AOsnG8d2V2GWfoiCmeJ/pYx+bhvazuasfJjP\n",
       "JpzTkOvoDqACPS6kesem3E+bvlaF1oRGhTsenetaG0ciXho4SAV2MRVgotAJ5t0atKEluYHZVfsE\n",
       "Mfchw33otHm2qEmurPsnxac+YxdvbPkCbGh3iZ+NEXtWypFsPQ51Nv/38+RvE85fRv7fLr8BYO6Y\n",
       "y4lNU68AAAAASUVORK5CYII=\n",
       "\" style=\"display:inline;vertical-align:middle;\" /></a><br>"
      ],
      "text/plain": [
       "leftFromAndExplicit: forall_{A, B in BOOLEANS | A and B} A"
      ]
     },
     "execution_count": 16,
     "metadata": {},
     "output_type": "execute_result"
    }
   ],
   "source": [
    "leftFromAndExplicit = Forall((A,B), A, domain = Booleans, conditions = [And(A,B)])"
   ]
  },
  {
   "cell_type": "code",
   "execution_count": 17,
   "metadata": {},
   "outputs": [
    {
     "data": {
      "text/html": [
       "<strong id=\"leftFromAnd\"><a class=\"ProveItLink\" href=\"_proofs_/leftFromAnd.ipynb\">leftFromAnd</a>:</strong> <a class=\"ProveItLink\" href=\"__pv_it/9305e156b95e373335f01fdce705474fd4313c0c0/expr.ipynb\"><img src=\"data:image/png;base64,iVBORw0KGgoAAAANSUhEUgAAAHkAAAAWBAMAAAAWdi71AAAAMFBMVEX///8QEBC6urrMzMxUVFRm\n",
       "ZmZERETc3NwyMjKqqqp2dnaIiIiYmJgiIiLu7u4AAAAU9Wx4AAAAAXRSTlMAQObYZgAAAe1JREFU\n",
       "OMulU79P20AU/rATO00cw18AGTpWSoaiSkWIqEURE2SI26kCqSJsiQcU1AElW8RCvJS13RoWFCQ2\n",
       "BtytVYeyZGmRalWt1AUVNeKXCBHvXWz1hhAhc9K7++7d++6+954ND/cZhzx9CcOcJttmsBmG3SCr\n",
       "kOlLIcjGD0o6RhZ1QrDfLNp0xYe1tfUwwlsHKZrPisVvIciK986l5TmwIvZ1MW+dWrmMOA7iYrYP\n",
       "HpStwuvA+xMzLVoewqyJKvzrF2MMiTEGWhD3NRWgj8BugFOo5mlJIsES8LsrvNEslHOZbS7y8XuG\n",
       "BSDtC1FnZxe4Uwk3Kb63nbZwJ1uIHsrs+DG9oR4x/A68CtIGRliyWXssLmsVhftvBp9smT2l0Rva\n",
       "H47swKj7XupxUiS48ozniH9ten+vBJmdZSlPDZKvXO3n/N9CJ3bshNFbIfQzDoS/ScXxJLbhJCiq\n",
       "BJIZr8EY73tZitZjNMKVN9tWWZCWSbwjsY+tFz2oebodWh7mpXBWJuowyhdcdINZURszos10nM5I\n",
       "7JdQO4h4vB11oHQGfjqP6NDV69B70NtS3grl28UktcZB1cN6fhD51xn0hSO1i+apNef8Z5vU1NVr\n",
       "d57gUrxhFTaG/nUS1iRs+zZ8PLmFfbfh3ostj8gdYm4A5612L6oIvYAAAAAASUVORK5CYII=\n",
       "\" style=\"display:inline;vertical-align:middle;\" /></a><br>"
      ],
      "text/plain": [
       "leftFromAnd: forall_{A, B | A and B} A"
      ]
     },
     "execution_count": 17,
     "metadata": {},
     "output_type": "execute_result"
    }
   ],
   "source": [
    "leftFromAnd = Forall((A, B), A, conditions=[And(A, B)])"
   ]
  },
  {
   "cell_type": "markdown",
   "metadata": {},
   "source": [
    "***Proving this theorem for use in general case"
   ]
  },
  {
   "cell_type": "code",
   "execution_count": 18,
   "metadata": {},
   "outputs": [
    {
     "data": {
      "text/html": [
       "<strong id=\"rightFromAndExplicit\"><a class=\"ProveItLink\" href=\"_proofs_/rightFromAndExplicit.ipynb\">rightFromAndExplicit</a>:</strong> <a class=\"ProveItLink\" href=\"__pv_it/fbe78acfb15e476b8fe50bf8d915d4c31916acb50/expr.ipynb\"><img src=\"data:image/png;base64,iVBORw0KGgoAAAANSUhEUgAAAI8AAAAWBAMAAAALJNIrAAAAMFBMVEX///8QEBC6urrMzMxUVFRm\n",
       "ZmZERETc3NwyMjKqqqp2dnaIiIiYmJgiIiLu7u4AAAAU9Wx4AAAAAXRSTlMAQObYZgAAAghJREFU\n",
       "OMutlDFI3GAUx/82l4tccldHF+EobhW8oeJQxGAPdapd4mRbFRoHwd5UC6IeglxxKLfonEntUjK0\n",
       "Q3EwHQqWFqqDHYrDDW0XtYKcFovYvu99l5DI2Vrig3z5fy8//rzvfY+ggiuKTbF8iGFgDFTzvXPA\n",
       "C7F5HqeUhmHgYRZPSGrDcYy6XXpMNFKT1HIco/UC8MmBsTI5OR2ryyP0bFE5x7b9JZZRFXg6Qe87\n",
       "wBgnSrwuHVm9uXNo1hclX4Qopbr2ekeIVmSKfI2H8jaboDdJtbAw77Hy76KGRCjoP4F9k0QaOuPf\n",
       "TjmvmrhGn3atIbjO7o2IESOpECUiSYa6+KB7aZ7ul9ucT7tQN6GPzvwgo9RexIiRLi+gOK5TNcYv\n",
       "EpniLT6qa3P+IIeNAt4J6To3H4SNJDJRDCg5RmScOBFqrEesCdznfPvaK7oC7pprtUR6xIjifAyo\n",
       "YIxmmV/kGt9jnfOrwNuK4siK1NthI0aSlUafCsZIaWbd4IoDbluPefeI6i4rn217XPQoFTKSSAeM\n",
       "co3i7ODvfP6ZLNwQBmoB3TwYdNr2XMaUFUWMJHKXt0zVHc82ar+nlaCdQaO76asdbSpkxIhyD3jj\n",
       "U3Xi6zG0gR3lFKtHVj/V/D3LA2mHmi2RBJWf9Km//KQCtUw9CiL0l9Fqzz+is376/39X3lUZXRDm\n",
       "JZg/T9ii0bCZRQMAAAAASUVORK5CYII=\n",
       "\" style=\"display:inline;vertical-align:middle;\" /></a><br>"
      ],
      "text/plain": [
       "rightFromAndExplicit: forall_{A, B in BOOLEANS | A and B} B"
      ]
     },
     "execution_count": 18,
     "metadata": {},
     "output_type": "execute_result"
    }
   ],
   "source": [
    "rightFromAndExplicit = Forall((A,B), B, domain = Booleans, conditions = [And(A,B)])"
   ]
  },
  {
   "cell_type": "code",
   "execution_count": 19,
   "metadata": {},
   "outputs": [
    {
     "data": {
      "text/html": [
       "<strong id=\"rightFromAnd\"><a class=\"ProveItLink\" href=\"_proofs_/rightFromAnd.ipynb\">rightFromAnd</a>:</strong> <a class=\"ProveItLink\" href=\"__pv_it/84389c7315709a89edc9d21ba0add480e4cdc1630/expr.ipynb\"><img src=\"data:image/png;base64,iVBORw0KGgoAAAANSUhEUgAAAHoAAAAWBAMAAAD9QZX2AAAAMFBMVEX///8QEBC6urrMzMxUVFRm\n",
       "ZmZERETc3NwyMjKqqqp2dnaIiIiYmJgiIiLu7u4AAAAU9Wx4AAAAAXRSTlMAQObYZgAAAftJREFU\n",
       "OMulUz1MFEEU/rxjd+F2br2KklBQmtyZSEy04KIXQkLiXXGLFRFjPKy4LQhUxKu4mBjdRmo6oCFH\n",
       "YncFS0KhsZCCa5RiC01siIY7QH5E3xuG3JgAumGS2fnmvfnefPPeW4S4ytjgz4fItPXfudyzXiwx\n",
       "fhX91m7A2MEUIWssMjl+RLOFTnq44Udm2/uAOIRYmJ6eiS7cTAHJHmCvVPoUnX09C2uWZN8HxqWh\n",
       "Kr9zu+5gRqJedbDTU6Cr7BafKDwwXB8NaO2DU+G92JFmkYKdkugslR/PwmANWFFw1YOzSWsSNgfB\n",
       "12NpNrKI7ets5xG75xkWgbQS8pgjkMMOkrLflhvSnKzB2NDZie0CFWeL4WdgVN3dYlEU0qnckgWs\n",
       "laT5ewbvPJ191yRgfmMVTYiqKjcLzXOhx+/xvkOFTdffTkBnZ1nKHUEqY0f1wbBdbusnozdS6Hus\n",
       "SvsiJSfU2MK3fwAToMwmKhA97XLflP19rcaqGm5Zkp6SeF9jb7sjJ4gXKDrMApyD09SWW7mhl6fR\n",
       "mWV4GJBlJnc6o7EfIt5ERwiTOsRHrHlu79wgZ2BVYZ3AamjvjtF7j9FPL/XxPMRM4Tzylz1Y+S3K\n",
       "5OKuO+S32U5+DJO/gge8Tbx2iy8u616hb7Tf1lPz8nH7Avb/jeBK7L9G9t9H/gD0boGsCIdNUAAA\n",
       "AABJRU5ErkJggg==\n",
       "\" style=\"display:inline;vertical-align:middle;\" /></a><br>"
      ],
      "text/plain": [
       "rightFromAnd: forall_{A, B | A and B} B"
      ]
     },
     "execution_count": 19,
     "metadata": {},
     "output_type": "execute_result"
    }
   ],
   "source": [
    "rightFromAnd = Forall((A, B), B, conditions=[And(A, B)])"
   ]
  },
  {
   "cell_type": "markdown",
   "metadata": {},
   "source": [
    "**Unproven**"
   ]
  },
  {
   "cell_type": "code",
   "execution_count": 20,
   "metadata": {},
   "outputs": [
    {
     "data": {
      "text/html": [
       "<strong id=\"eachInBool\"><a class=\"ProveItLink\" href=\"_proofs_/eachInBool.ipynb\">eachInBool</a>:</strong> <a class=\"ProveItLink\" href=\"__pv_it/aa38640603436f50c075cd7f502c14203564f2dd0/expr.ipynb\"><img src=\"data:image/png;base64,iVBORw0KGgoAAAANSUhEUgAAAewAAAAZBAMAAAABLABNAAAAMFBMVEX///8QEBC6urrMzMxUVFRm\n",
       "ZmZERETc3NwyMjKqqqp2dnaIiIiYmJgiIiLu7u4AAAAU9Wx4AAAAAXRSTlMAQObYZgAABiJJREFU\n",
       "WMPlWH1sFFUQn+61d+3e3l4rf6BiuRKJTSSGIxFiSpq7UIIaDBxKNQjIgfGqUfD+ILQRoRcT/EgU\n",
       "LlH/0oSLQcD4kUPSRgKJBw2NVgJFCShysERjGqAI0gDy4Tkzb/f27fUoGxNJxZfc3szsvHnv92be\n",
       "zNsH4K4tzyfhdmlK/qhb1X64ndrK/ytswy1s/b+CadKIb/cI2OzG71zADtCflh31qD1RnObcoZmz\n",
       "XnOI1Q3PX65/AaAqzLA/Idl6F7DVNP5VG6MeNk+xIg6wpMEh9yrZgVMZgBTDXoVPX9wFbFZaNfpj\n",
       "fCc9IhiVkWgpbH8DYu5j2LQ4VWk3KY1CYsHohz2eHl9juT2QYf70O/kfTdg1uTkAJxm2tqW9fY2r\n",
       "TN7X3t4++hO6QkEMS/F3kDek523D9nYjRqw3zQXsYiJx1BXsYCKxPONqaF/41kCsKSOr4ikOAXSs\n",
       "YH6VYQd5cy8yaoxhtwC0uYJdGQYvH9WUP8WgL7fOf5YpbWl9Wxe/EcqvSFo3aJNL95VtTTZYtvXW\n",
       "HV4dY0+W8UJ1jl4M7ew6Jvg2e2/nC+NooBTDngh6qnwlWPc4bHvGhq1EYYDpiitCthtgGwOs2w8T\n",
       "rrFp8SIua5VvoWEztqw5DJZrE+4xlFCOyY9M0Tdbty4yyQrK3/5LAIOc0fS4nNJ2IKfUMuwA+HPD\n",
       "bZ9uXQS9qqEa0imtH3YxPe+ikM1Hp5H7Nx4XA1mwa7KyFoADoWCqQvFSmWkt4zCIMekovmT9uiFS\n",
       "FjZyg97VmvOr+pdmuQrSvxeh+XndlPp8vpjSIH4/evMcw/bnAsOLsX/Z2rOwLxtzwN4Fx9nST+eF\n",
       "7GeAxTRuAbeyp9aGzVuhqAWeY3IICeaBjbWlMmGNaMkgQLPsE2J+v4DEFMHjvoPuxrOGX4UvchLs\n",
       "IB1ZrliHl6K3Ie4twtZTD6LOwkmb/N2UiYgC2EuKPe+udsAeEDYCjQWW6hdAe4M8d5mYsA27QtZC\n",
       "4YBcPQXzfedfJTLTGtGSQYAV8g4kZgkJfjG9kwWNdrlfVbrM0SooaURwDSo5t+j9pbDNIIe2GQBn\n",
       "JucCUY1QERXmowz0qGeaZNjelRxIH0OB/5WrO2fxieiqDYCfD9laWCehSZMcJhg1FvyjRGZaI9oy\n",
       "OIez1j4pLIgJSedjTDfVDL9qnhVS3pxZtjvFej3mgI1BromUBu8jpLVfQTBMqZ2ppEiRPZDZJMOu\n",
       "Wcxjj4cNPLKaAo3OBoxAl2BPLGo1jSUXgeQwwUwxqq+WyExrRJsGubPXqJbCghhec3NanhQ0MWwV\n",
       "njBXg0Fg2fbcKXQGG2zY2sJ4sYBBBXWYjdulmovKbJgAnsOJxIsI+9VBGTaM4+itqytwsHtjoFMg\n",
       "BS9YgW3Cfs/WOoLjx+Bb21+COVgXGiqRCWtMWwaxM0wFzS51zNDGh9oi7OZEIpFF2BkzcSo40ycL\n",
       "M2e+aYaYb13Y+hS5ePBRqnANArZG0MZAN3Ry2R0DrYoeFd5Wpjtg76cH7vwDzAXToNAEK6/xYtmw\n",
       "77O1cOaVhlXXwGLUKGjXQVuwa8betCUT1pi2DB4RgW7nfGbm0r7NYmecoxKHX01vW7BhbOmB4BGR\n",
       "ya12Urpm8J3DcXpV6EgiNeZeeFjAhj6j9JoBoxci51AROg1YE0NCD6VhWkyCPVjUoplPxVmlfeuh\n",
       "w8AHMxjj4ClATTfcocRMBdMa05ZBESqwQ3TtMARzEmPiOeqMHtcyUJkUsJ+ytnzfTQ5en0qwcdl+\n",
       "gGlbMAUi9XQOfsNIUF5vgMphtysnhkALnU9HcuqG1vlvcdI8daK+RU5pWBBNLZo5Jaa45xJEkvhg\n",
       "JoDhv7twF7To/fQ1yzLTGtOWQREqaJS7RpKC0T8/fwjjtsWHCaGqAfRlfFzZ/JLjw/PGTU+Vu1Sy\n",
       "ku5m3NsjXirlhhFF2H57N+LMyRvF60cH018TC2hOmeM9dvaB+ImQlJl+/x6D07iKe9vxQRAdETZH\n",
       "RylsT9LlXVpR0dFDwLYPhNPvHuGTVo+rae/2G7+/SWftM4APyr1aPSLs7eWuEDW3V4ha2R5m7vrw\n",
       "Vn1lRv/tm9O8q3tyMxVot+jDU/1nV1xK/tDf5O/0WHWOHaMAAAAASUVORK5CYII=\n",
       "\" style=\"display:inline;vertical-align:middle;\" /></a><br>"
      ],
      "text/plain": [
       "eachInBool: forall_{m, n in Naturals} [forall_{A, B, C | (A_1 and  ...  and A_m and B and C_1 and  ...  and C_n) in BOOLEANS} (B in BOOLEANS)]"
      ]
     },
     "execution_count": 20,
     "metadata": {},
     "output_type": "execute_result"
    }
   ],
   "source": [
    "eachInBool = Forall((m, n), Forall((AA, B, CC), inBool(B), conditions=inBool(And(iterA1m, B, iterC1n))),\n",
    "                    domain=Naturals)"
   ]
  },
  {
   "cell_type": "code",
   "execution_count": 21,
   "metadata": {},
   "outputs": [
    {
     "data": {
      "text/html": [
       "<strong id=\"anyFromAnd\"><a class=\"ProveItLink\" href=\"_proofs_/anyFromAnd.ipynb\">anyFromAnd</a>:</strong> <a class=\"ProveItLink\" href=\"__pv_it/de916100a568ccbba5668561c01a749c3ae406a10/expr.ipynb\"><img src=\"data:image/png;base64,iVBORw0KGgoAAAANSUhEUgAAAZAAAAAZBAMAAADtWWVbAAAAMFBMVEX///8QEBC6urrMzMxUVFRm\n",
       "ZmZERETc3NwyMjKqqqp2dnaIiIiYmJgiIiLu7u4AAAAU9Wx4AAAAAXRSTlMAQObYZgAABJ5JREFU\n",
       "WMPdWE1sG0UU/rJ27GS9u06IBALUOBVIHBDEkWgPqZCtJiqVIoFB8aFAkAvCQUJtfajqSNAmF4qQ\n",
       "ULoSgksPzaHQcksFRKBEYqs0VQlVa6CAKKTdUxVBgf6kTduUmjczu/bY3jh7w2Ike9+b9zPvm3nz\n",
       "ZmcBf23HQg6N25SF835VC2jstvv/A8T2C8RocCB8qr/1AURnD22ywQCcKPb3v9HFgHzK2HEfQFST\n",
       "Hi12oy3F/UDzNQZkDzHhjA8gXGlPo+EIrNBviQFhc9xs+tnsbNm2NRqQyDLl+x0GRDuSz+/1VbXm\n",
       "8/l8wxWvUBugd/LyezObPe8LSDSb3THRaECiSYT32xxIHzDsC0gwjhA/3pXbvKt1V3rwNU5p29cN\n",
       "f8ElpaP2dj1n3dWp/NGN9Ja4y5S8ebVqYWJgesgSB+KjMMa899E7L+DYK2UgShKLnG66I/qOA8d4\n",
       "1O1nsP4uX2jX1lXxbrHqhdXaEGlz56DkzetdpFr4dQ7GOQFER8Sqtfgj/TJOqrZqSyd7ATOcfv6m\n",
       "6BukuWVLdOiC2HQSEFcFqIhZMM0xqUqqvCcJZdmRl715GMtC3rYzMBYHErH02sMh8uq+v3B6MlUB\n",
       "ZAYX+Kz8clX0/QoM0cMoUlYE2mQgJRUEfpPXWDBPHGor9z3NZlGfRHNByCVvtcayUDSqvDg7wYEY\n",
       "Y0/R2r70+OHIFEtTRgFzTGn2g7cqgCwGkozUHyvyXuM6tHfZdN5iTFwG4qpQz6JcYgTz/ei9ct9O\n",
       "ltd/x3EqJ+SSt1pjWSjQsTR7zhQvjcObgcvdlp7UWJyMioPvmln1cq8MJLS7i5Efo8ifysr0FiZu\n",
       "WikP5jyFyrNE9WpS3gpGTUWvlSOZOM12//TnOx25683TWBqqfIyEbzlvvx9SkPu+RDSupiCoXIAn\n",
       "5ywmDstAWof40J04wN+41DFonawCsrAMGYhQ6X2ATTikSiKYHrtFgm630P9Rqhy2kDvevI2locrH\n",
       "SM+4A6SJhTWAHrTwqjiA9Qj8lM2+SUDe/lMGgod52rS3F3mKhVIwWJWNXmdOZCCOys8EKYVvyrMv\n",
       "mO/aY0ulvg3QaNTXKbtMIXe9eRpLQ4mysWupf+v77n1EY8F2YAqj/BjoQFoxkmJFlE0VQM6wP9pB\n",
       "ZzkXNaEwx8G7HL4ExFGhWIJ2uZI5jJqE9g+0bTOb50yeQVTCaD6640LuevM0doRzB0+sdrEKXyH5\n",
       "SRUjOaI6HsEzAgjm7eqLFaUNEldIEaM29qaIMGImNqYkII4Ki2UDpbEZHseITX+cocxCoIjWKdyn\n",
       "pNg84yuE7yH8o6PsevM0doQHM02rAVEy+AEbjyBhEfWihUu0V5X9XQjW3BAvLkGLXTUTlnogPfge\n",
       "RWzh94vr+uTN7qiwWNiWzQSWkcjRH2d0SrrjxQfRZxToYkDzTEZHb6S3mo6y683T2BEG4yNrXnXd\n",
       "MvEJ7ZG6V12rhpAPRN4oFnZelr5aVDCF1pSuIcyywVNez1jHzJNrAAnkfN7ZS4oVFhVANj1U53Zg\n",
       "ZFQz9Nnq8rrGlzBvrQFE8/vxQfO0CDX+V5QFX9+1gv/Zd61z/wK9bYodzZUk9QAAAABJRU5ErkJg\n",
       "gg==\n",
       "\" style=\"display:inline;vertical-align:middle;\" /></a><br>"
      ],
      "text/plain": [
       "anyFromAnd: forall_{m, n in Naturals} [forall_{A, B, C | A_1 and  ...  and A_m and B and C_1 and  ...  and C_n} B]"
      ]
     },
     "execution_count": 21,
     "metadata": {},
     "output_type": "execute_result"
    }
   ],
   "source": [
    "anyFromAnd = Forall((m, n), Forall((AA, B, CC), B, conditions=[And(iterA1m, B, iterC1n)]),\n",
    "                    domain=Naturals)"
   ]
  },
  {
   "cell_type": "code",
   "execution_count": 22,
   "metadata": {},
   "outputs": [
    {
     "data": {
      "text/html": [
       "<strong id=\"someFromAnd\"><a class=\"ProveItLink\" href=\"_proofs_/someFromAnd.ipynb\">someFromAnd</a>:</strong> <a class=\"ProveItLink\" href=\"__pv_it/cdcda29088b282f834199164be5bd1c759121d6f0/expr.ipynb\"><img src=\"data:image/png;base64,iVBORw0KGgoAAAANSUhEUgAAAmQAAAAZBAMAAABtHC+5AAAAMFBMVEX///8QEBC6urrMzMxUVFRm\n",
       "ZmZERETc3NwyMjKqqqp2dnaIiIiYmJgiIiLu7u4AAAAU9Wx4AAAAAXRSTlMAQObYZgAABrVJREFU\n",
       "WMPtWV2ME1UUPu30b9vplAYF0UBL/HtA3CHKxkBMG3jwwUSqkQf8o2hSElG2D4TdBKX1QYOJsk0M\n",
       "TzxQExCJD6BGFCFh+FkSF8IWJRLRdevLupFlaeUfdhnP/ZmZOzvTpWv0oehNdvbcc86ce+93zzn3\n",
       "3CnAFFpg4Az8x5t34OyU9KPwf4N1UJ0SZErLrnQe/nXq2O5Sm48qol9favYPM8gq5N/xZiGjfibv\n",
       "aT3EpDQ+lJ45o793Xmz+reH66Oh63cTYr1LIdhF6c7OQhUv4L1RtPcjYnPUsQOGyyQw2WIjJj13B\n",
       "jp4xBUUK2Xqikm0WMqq5vgXjcj91NR3jo3DJwjHTAF+Dn7pJIEubgj4KGYHfX2o6/RN/XNGCkM0h\n",
       "jwiJsf4xk9nxq7uyyT+IQSzrmin4jUIm7+zqerv5E7Ovq6ur0oK1QZGlc3wMFk3ukv3u2ia/s4aL\n",
       "viacByUCGVzJ5c42D1ksl3uz3HqQ+emcY7j6J6y4VIruVZPF14sg9VhxCeEMhQzP0NXNQ+ZTIZBv\n",
       "wexPgytV3/Rh3UpCYc09I5l8Sb9n0+AsQdJWpJA9gKiCsqzaHGTeNAwzV7/OzCfq8XFWdMirZq/+\n",
       "iorMcLg+mbV2cb4f6/HEzw1V3aTmcG5totCTJM9+nM8QepqUNU6zYoNTjvFlvQRKp6DjnUYhi0IE\n",
       "t2B+o3rm3efg81eE6r8CB9gkbjBefwZCNKF64ydhLqUC5kRvTAZZQgxwGY/+Hq0hAk6pNZxb6poo\n",
       "jFHIlt1CkV6WnmfZ+DgNMWcz+T4dHaldWIRUo5BFtCgKdri9e275S3AsXA1XBcgOADtOnr3CeCs1\n",
       "CNNKZxvyI1dtkBk6ALb0xzr+BC9twrSHC9ydERhmlEyUcgPWcC7WRaEAWaJCIEtDG4MMlR53W7bJ\n",
       "94yTYLjkgEwpEvkHLq9GXt04Cif2ZGyQDdM6Grw/1RlvMA8hEn8KOcClaSJkpg5Iv4iOyzrzt01j\n",
       "/SeJ+0RxgT0lgWE0h5QZEIZzWheF3N/Jy7QoDWNtxiBrw17IJS9bfFr17r7pCExYvQQfZEvkF+dt\n",
       "j+xVOQXQS7SOfLTBBllgHd2w6MM64+K5vZJsrJ+cxYoqQmbqQGBYvLmxzveFW6y/liSLWA38RgSs\n",
       "FTOMQ8oMCMM5rYtCztV4aoICeg6DjMDSRl2XzFIxCIFPcl9Qr0DvF9+m979GLLD0D1sqfEtG2rVo\n",
       "Wk5zSqXXAzgSHlkkQtb2MiV3gE6h89Zzq+iZ4rE2w4CM6TyD1CJZcBzWCWdif4KEzi2VTxD3n5GL\n",
       "l5gyYxhOI0oFA8ZwrtaFuQjVAaamPIwkzhiQdQBNzYgWib8LFU5YfFh2FZRD43nl8BichqNWkQEe\n",
       "PPAiJK9s/AZiKjVOqLxEU8QRKG8XIYP76ErmQA89JyM3uJchAHyrDMiYzqKZxFVAcBzWWVAN4cJw\n",
       "6wLVEKmzy8SPqDJjGPALUtEAH87dujAXI6IQghj9LvEGGJAtMS5SygxS2Gc5YfGJvj5Dg+C5Ilyk\n",
       "2T6UZJDJiEiArv9pWAChEqPmgvRjLrcGIXvrvA2yk5SKx9nVK4Cza68RyMgHAo8IGdfBXZUy8J3l\n",
       "N6xzKp7AvIrOvRBkHLIziYmZKnMGbzapYMAYztW6MBejzbRlKwpZ0lYQWc3J9+3BKHzfvDDx9PgY\n",
       "eU6HvVDwMmq5V0kzL/Murjo+MWKm66fjehCug2STfWMUaQEyroOL8lWtU5R3wmmQx+ktH0MLnwl0\n",
       "2GsMMsYAM/BMae/Wo4+s4AaM4VytcyHq2y7UEyBrvnnUSDZYQyg/EyC7EIHufLCG4xwLM2r6/fAU\n",
       "gwz6HJBhzEGqhopQKEJbXUVKSZSgIyNAxnXIohbiikvBzdBdxQftYFxibQ1ymbgF7IMgwrVtuuE0\n",
       "yKCq3VWbdGvWk3yQWzOGc7XOhag/4ePP34SsgH4mZ8uk5rcg8+2ClObNwg/QsZNRL2gwhLh630uC\n",
       "z/Ehe/ASyIl6KaWFEuMDcax0Uxr8MTh7qZj+uQ5ZFMnRWekqpPL4oJ0ohuwhfZYvSdwCX3hHHzh1\n",
       "d9VwGmRQ1VTeJvWp58nnPWrAGM7VOhf61G7rE5hwUwx+enlqH0kfgqgqvZ4HX16AjDTNQX2CuWzS\n",
       "b/+aCyWUsrThoshIZgEkdqIjECRrEJVtDFsnClugotmtTWodDjxqWt7wD9xUvwQ7ZFLeSd3m55IG\n",
       "r9ggW3zvJB/j/F/b+5MqwxD62Bq1+ReGoE/7N34use5xLtRtIGvwSgDu5LZuStrR5n7H9N3BgHkH\n",
       "Tv8FcaNcYjR7SlcAAAAASUVORK5CYII=\n",
       "\" style=\"display:inline;vertical-align:middle;\" /></a><br>"
      ],
      "text/plain": [
       "someFromAnd: forall_{l, m, n in Naturals} [forall_{A, B, C | A_1 and  ...  and A_l and B_1 and  ...  and B_m and C_1 and  ...  and C_n} (B_1 and  ...  and B_m)]"
      ]
     },
     "execution_count": 22,
     "metadata": {},
     "output_type": "execute_result"
    }
   ],
   "source": [
    "someFromAnd = Forall((l,m, n),Forall((AA,BB,CC), And(iterB1m), conditions=[And(varIter(AA, one, l), varIter(BB, one, m), varIter(CC, one, n))]), domain = Naturals)"
   ]
  },
  {
   "cell_type": "code",
   "execution_count": 23,
   "metadata": {},
   "outputs": [
    {
     "data": {
      "text/html": [
       "<strong id=\"andIfAll\"><a class=\"ProveItLink\" href=\"_proofs_/andIfAll.ipynb\">andIfAll</a>:</strong> <a class=\"ProveItLink\" href=\"__pv_it/29b8878e0df3d0cca6345c4e3a3dbe4c5d4cb28e0/expr.ipynb\"><img src=\"data:image/png;base64,iVBORw0KGgoAAAANSUhEUgAAAWAAAAAZBAMAAAD9FenCAAAAMFBMVEX///8QEBC6urrMzMxUVFRm\n",
       "ZmZERETc3NwyMjKqqqp2dnaIiIiYmJgiIiLu7u4AAAAU9Wx4AAAAAXRSTlMAQObYZgAABDNJREFU\n",
       "WMPVmF1oFFcUx0/2I7s7e2eSGGxpH9yFShWCZAIav5AsEfpSmqYPeRAfOlTcgCDsg2hQdPdFgj4k\n",
       "85JHqQ9KKC1haWgoTWm3qfGhgbpaoTQQswEfBCWu3/iV8X7MvXNndrqzkUD0QO7cnfzP3t/cc+65\n",
       "dxYgwI4u5OCdsdDCfKCmDO+UHXv/gCuBwJU1GKeDXXrMVfrJDjMMmM7gXD3gIEUDFs6w6+LFVTrK\n",
       "DlGdAn9H+iP1gIMUDVicRUmxMtLN2P+E7ozTdTsUKPBx4mrUAw5SNGDTdoAteUXE+/3FZ6WMcDn8\n",
       "RYHJw0fNesBBigZsE7uct6rSze5b/ulz1Jl5t8MSBUbjJ06crrvoghQNlM8CvSTLqRXpbu+0rzjS\n",
       "UeRdj0OzScva02x2vn5ZC1AEW5Qtnbw++tC5qRVUX/Edp5K6HUDpp8D7AQbrAwtFJ0uMkJi55/4+\n",
       "nZ4Eipfo5TB8/Yqkgj18yT/PfoADvGs7cEsUKPBm/Kxul10D6eTGigMsFCk2U81c2PTCHzjlqV5N\n",
       "adKiVvj9CcCOL9hNFWIF/xkasnu2g5NZrRRYhWRJCtRPAyVkTMCENMNcEU0ZbuCvnvpnQMpTU1oo\n",
       "8H0TOonDBXZzjoauxlARIjrrcgexHKsUOFlSpYI4tWW5guaiLmCu2PZtqws49N8DX2Cu8wB/2dZm\n",
       "vXaAcY3Y7uOMh+LbDHfwAGsF7IcOdlxKTumASG1Eu3cWZWCqwHYjv+ICVrdYvrWf65yUIMmaaF9e\n",
       "zlsCOIFHivscBMfw3zBT2A6zP/6SmT7kpAQM9gLc6yypGZSBOI2KPvGnDEwVZJG2PHQBXwYLT12f\n",
       "d0ihc+oRyaglTK1aOQ5MYAk0aMAb+vTDNrRw0GZewU24QrjYooMxzHTmZ2jRcdnYw4AVpU8GHqOF\n",
       "pqsSfykDhzfBaBH2fOgFFjpXPYp9RjwtkwN38y+/zxuNhD9s0PUIjkPsbgEe4ckRZQ2aSKH+HLog\n",
       "bsK+bDZbRHrs71syMFXA9bbUYxlYxSmGs+1fL7DQOcsbf4llrUDEsizdBu7lW/aSYTfaB2TbIOme\n",
       "JOMJh0gx3ArnSFDSDBiRULTDFORDcJvNMHzymwxMFUoG0GsZ+BLAtXItMNOhA7/2zoo664oCA067\n",
       "KrrzbM4/xQrQk0asmuZbs31yquI5vqpAJMeA0UTNAb4LL19LAsYZAT1VCjyUi43AUIU0OVuXmIIN\n",
       "oX752OIBbtzyECkiA5f27yXgkAH/QPc4aN/gD1txk/ECqzj8f1gfOcCLjwGlHpgEuKcUfgY9OdKU\n",
       "uG6/VlZMz/GS2snRg6sD/hRUPXwkx3avmlckBedw0CtSs+sTSQln5xG9cqJfReLom1mDtxYa/bd6\n",
       "p3MB7/3YhLCop6KnGYrZPClUp9YAeBLWBJiuUp/eur01L9T+LhFZx98lbr4BSKhTo4sOv00AAAAA\n",
       "SUVORK5CYII=\n",
       "\" style=\"display:inline;vertical-align:middle;\" /></a><br>"
      ],
      "text/plain": [
       "andIfAll: forall_{m in Naturals} [forall_{A | A_1 ,  ...  , A_m} (A_1 and  ...  and A_m)]"
      ]
     },
     "execution_count": 23,
     "metadata": {},
     "output_type": "execute_result"
    }
   ],
   "source": [
    "andIfAll = Forall(m, Forall(AA, And(iterA1m), conditions=iterA1m), domain=Naturals)"
   ]
  },
  {
   "cell_type": "code",
   "execution_count": 24,
   "metadata": {},
   "outputs": [
    {
     "data": {
      "text/html": [
       "<strong id=\"trueEval\"><a class=\"ProveItLink\" href=\"_proofs_/trueEval.ipynb\">trueEval</a>:</strong> <a class=\"ProveItLink\" href=\"__pv_it/7be78e617b505486e1d03d6ede8fbeb1bbc1d4800/expr.ipynb\"><img src=\"data:image/png;base64,iVBORw0KGgoAAAANSUhEUgAAAZwAAAAZBAMAAAD3ZYXVAAAAMFBMVEX///8QEBC6urrMzMxUVFRm\n",
       "ZmZERETc3NwyMjKqqqp2dnaIiIiYmJgiIiLu7u4AAAAU9Wx4AAAAAXRSTlMAQObYZgAABJxJREFU\n",
       "WMPdmF2IG1UUx88mk00yuTObtWjRhyaiWGGRnQVdtSIZtqAPYo1IH0ofHBRTFAp5ELsoNkEQPx66\n",
       "87Lgi7gPLUWUJVhcxBUdqxXpgkYtiIVtU/BBULZprRW13fF+zL1zJ7mTydo+tB442bvc/5mZ371n\n",
       "zpkZgATbu1qH68RSqycTNW24juz5/xtOJxGncxXOMxE4toq7wVg54GicCJUZDl39lUE4SYohLG0z\n",
       "J3Z6YYPBckDG6pnMrFJz4AmG8y75c2AQTpJiCMt1mGPTfVuayMZs/f5wGA1oKtaqSk/BcF4gB3UG\n",
       "4SQphrDlwEnq+PLdmKuqA16Vci0ScDwOBy1QHLJoGXcQTpJiCNsSOLY3/a40MX1KnZx7w12LBpyJ\n",
       "wzGLFAcd3rfv5YGlIEkxRENoMsdWaJfWpZmZZWWANtHiw56AUTcGB55lhfpirXZycKFOUCRbZoE5\n",
       "toY1dz6cMJuGMuCXsD9EA0CvxuEcYjjbAfYMxhGKSbY0KbHqf6ljJnuWMOcxx/YMPHmJJFlwcZ46\n",
       "i9+HXXwYBHDLk03OvE7NjuC8xXBux2sUPdh9O8uFGzshjlCU2AqPcuHI32qcUk8tHikzxzdsET77\n",
       "A+CeR9mEAdmmeg1neT9hAWHeFuN251aGY0DBk7b/w50echZhUdodrsiUnCjO4xfVuVXqqYNjZeYA\n",
       "Z12YJEFvs4kVuvX9PbEFWtBgeIC49m4cToXhFDxDKv5LW9c6aCUTweGKu94pRnBSP51T4nCdAuex\n",
       "8XH/coiD69rdigPg0/GmywOGxjGb+Iho98TBwpIFiEyh++9tyThUge37xnoEx9jqK7sg14XJ5jKH\n",
       "/Ka1tYYvcPL4bDnFA/s89teYIgg49sHH9vLTPNnEo4Ai2WDPDMBvk55hI5v1VmQtfiHjUAUpKmPn\n",
       "IziHwMdLvqP3YoQurK4ecziDmQy/znEISp5eDFkWkw8oyjxrMyzAPHoJTsCX5NqacbvzdYAzj694\n",
       "/0cwZuEiuI3h6PoOGWeels2pTu4fGSe9BeZasG1z7+GFLlJdiWcfItG+y3Gm+QlMkk9n28Eg7dAq\n",
       "AWFA9tcm/E5LcWKhhhHSsh6BKci58GCtVmshK/vNKRmHKuC78dIFGcfAaY0z/MfewwtdWI7azH1/\n",
       "HTTf960AZ4Y/AJk3kZ1wgoFGbrMCOacI0FrpIrxBNrTcj8Pq6CsBDiIbvAmWoJGCn9nuwG2fyjhU\n",
       "oduALss4BwG+bffjMB3a9cnMMdFTNgcujOGUI10spA8nxd1nFZxst6x8yAlKclF6fct28f58pYNW\n",
       "Zzhose/1bQqXG1/CwbkGlS7Fma1nD8Bsh/zUA11+CW5IVeUHx+P9OMNbA7QWcvA2vBen0FsSTsqB\n",
       "H2D6MJhP4X/uxD92L46BE+tz/+YQ5/QFQKVzLsGpeOk/oVInPx7XbTfbuqt4QaD24tzujeHcAYaV\n",
       "fq7e1/Hl5yLVy7WO752kl+vRyH8k2cI+LEbtfNVA4rXGZn7FpsV+h3n4P38riOA8cIsLaXESMTId\n",
       "3R09IlQvBX6ldiRuomBdHRxaOxSja/RLzmr/dzbtmv3OduJfePN3WYqK/vsAAAAASUVORK5CYII=\n",
       "\" style=\"display:inline;vertical-align:middle;\" /></a><br>"
      ],
      "text/plain": [
       "trueEval: forall_{m in Naturals} [forall_{A | A_1 ,  ...  , A_m} ((A_1 and  ...  and A_m) = TRUE)]"
      ]
     },
     "execution_count": 24,
     "metadata": {},
     "output_type": "execute_result"
    }
   ],
   "source": [
    "trueEval = Forall(m, Forall(AA, Equals(And(iterA1m), TRUE), conditions=iterA1m),\n",
    "                             domain=Naturals)"
   ]
  },
  {
   "cell_type": "code",
   "execution_count": 25,
   "metadata": {},
   "outputs": [
    {
     "data": {
      "text/html": [
       "<strong id=\"falseEval\"><a class=\"ProveItLink\" href=\"_proofs_/falseEval.ipynb\">falseEval</a>:</strong> <a class=\"ProveItLink\" href=\"__pv_it/f828cfc131f444d903f672a49c7fd7e59ba9b4870/expr.ipynb\"><img src=\"data:image/png;base64,iVBORw0KGgoAAAANSUhEUgAAAmwAAAAZBAMAAAB+y29NAAAAMFBMVEX///8QEBC6urrMzMxUVFRm\n",
       "ZmZERETc3NwyMjKqqqp2dnaIiIiYmJgiIiLu7u4AAAAU9Wx4AAAAAXRSTlMAQObYZgAABtVJREFU\n",
       "WMPtWV1sVEUUPnt32+7evb2lYDDGYIuiaAhSE7chEKUpMTwQQ0Er8puFh+VBCPuwoYQ/+yCihNA1\n",
       "yhMifeDPYOgiocFQ4/JTNEWxRsFIKN0mBokUaCm/Cl7P/Nx7596dC3ctJiQwyezOnplzZs4355w5\n",
       "MwvgrxR3/QqPCitK12m/Q0sfoSWUFOT8wqbfp63KsIoleKtA3sIYlHnGY8mjBTA8290/RauhzcOe\n",
       "gw4z2DrJ13EfsFF70zKDhe1lXonMvwrkvQvDynzUujcke4f/7V/62Jvf6oeWMgWLqrzmoD0p+Jy0\n",
       "N/qATU3jVzg3WNg22tO1XBU71sjHlwgzOhkcPLE8WgsxzXEDUkEyGaqBCioGx6tRMjJm9aRgGZEY\n",
       "9wEbHbRssKhFM6wSlzPuiD1r5QzhOttHnQwOnpibphqVhLtPJkgqo+UK+Wzivzo8YeugsBH7KUr7\n",
       "ORKIjcwaLGyBHKtEjxZDjFtL5NZQfdZW3MHg5Im5aVuvUZeKywTJZEQMCutbnNzjCVsPhU3b2dCw\n",
       "2tdJ2tHQ0NA5WNie5xXL1wFDQCo0Rh42aw9aTSeDkyfmplXcoMadlgmSyQgYSfL1lZlwpb1gIz0p\n",
       "gOuJxGlfsJUlEkuaBwvbbF4xMgyEqR/xch6kW6I3WqmPi8HJE3PRIkbcU5BUxtbrDrJa5wUb6UHY\n",
       "JgMs8gVbqAqKcUdK8g+ZtH/YNvCKu1ZXZGTtji/kAUDNWhHExeDkibloIddQUZBUxrTbDnKEnglv\n",
       "f0DKe445SA/CNgo3whdsSg1uDcAKerrzDEpbMGLRfpjgH7ahvAIcgigJJ0FuFZ2w3OMoMlfHGYQi\n",
       "8MRctLB5JEJ1niCpjKYBZ/oyxMvaSE+KyItm5cFy7QzYO1+4JXRCG35SNQMsg1LKT8DI26By3/lu\n",
       "1665Thna+vVrHdKv8Ar6LTzt4xB8k/kIJoQhWa50nLqDwCAKF3hiLlopC4OjIfa6WxBIZXT/QxVK\n",
       "msr3ecFGehC2aLZUcoZdqJ8Lx9ScmhNgawM8jCI0gk5nkWArEqI3qLnq++uzUVX/slKb1VbbbvlD\n",
       "pvnC09C++WgebKH+8goDIYsw2HANwRqJWmet5NhkECxR4Im5aGF26D4OsMUtCKQymihOAd+w6Y0S\n",
       "cdGFay7B95k6B2znyQQkvIHyWz81AOIJwSF0H1tHX8pFVdiTjbTCUAWd6QXcyiqETe2FzfGAKfgJ\n",
       "XuGjVy/9YfRZsG3Cui5/HREUFGaqmAx2EXliLlqUOqlaY8ImCAKpjG+ok25zOum8LlJOyZwUFtWi\n",
       "gnPGbIu2kplIC6CdDDjy8UoHbMUpdEYKQOlo6gNFNwl2yHUQNBJ1oqqyPweT9U5yo8AI3E6sbcx8\n",
       "dAMrBi3mVSfYdd+wYFvHVWBX35zZIJpGaEAzGeyV2jwCbCZNryD+fABM2CxBumMSW0YP8Z9oI9cf\n",
       "tEYva9PYkQCbcOG947KlNfQaS1pV7G5xRO2dIMIWmYcf48mv7UBTgYB54xsFYWqjRdPPYAiM1JVq\n",
       "JDUmUGbqR2SRue1FPnI7rymi1dJbJmz0YKAZwmX8rd/hDRbP6QiTwV6pzWPDZtNW3/ys5Ic6CzZL\n",
       "0OVOcRJ7fEn3h7lVJ039752AQACj1ZoDUFZFh5JWMkjzsyPQvE2EDZ6kCOFkT0ETCXFlV/jOjWeH\n",
       "KTrpGxk9rqaL9xFbfI3GtqKJcA46zHNhLKtlBprrNMMY4LCFKvnFC3pQEX04b0At6SR5qsVgr9Tm\n",
       "QV/6ifmSTYNjFXdmggWbJYiKtSYRxmsLjJNJrj9aZ6ULM2sO0kNg0wg0U+ElCNNAPhVGQvBUIvEO\n",
       "wrbqogO2E1g/IT/Kyw2y32UkHgQobK8kEokMwtZsJ8TRMxQ2VXVcrpJC3KVBh8Km0HZl3gZX2p1m\n",
       "sVYq45HQtngJ8hhP9JdfrkC4XPEyDFrhXYW16hW9hlmbMjHnfqZ8jgXOH4m2odt0GkL8nVubAFt7\n",
       "KJ0Pm9bMqgu2Aoq9Un9lS8Hy61H6bs/+3QJsJX2o/jEVliexNewZmMJgg4482C5SH4VJfThWr0hD\n",
       "dR19FQglGWwzrVsiRrZZ1ElXej0c/SfYzJX+X7Ax/b1vAHqjAJsSh5+heidMymJrdhbOod0q71dC\n",
       "KO9RHBOd7qugVfSnJ2Xhz+4RNIecAfpCmu7uWGy/lZInPUx3E1nXe7Jg47jKXdcKe/k0V+q3rGia\n",
       "U6h81D+U9OqnPSk31dRxB8Y26X8JwpuCjQfugIqxzdduZlh9sMu+u/e4YQsmve+k3Ejj+WMjDzwM\n",
       "97m4YdPgXrDBp/ljQ/CQw+b9AmL9T6rl37j3PFygKV2//Avt8jpZIQQl9QAAAABJRU5ErkJggg==\n",
       "\" style=\"display:inline;vertical-align:middle;\" /></a><br>"
      ],
      "text/plain": [
       "falseEval: forall_{m, n in Naturals} [forall_{(A, C) in BOOLEANS^{m} * BOOLEANS^{n}} ((A_1 and  ...  and A_m and FALSE and C_1 and  ...  and C_n) = FALSE)]"
      ]
     },
     "execution_count": 25,
     "metadata": {},
     "output_type": "execute_result"
    }
   ],
   "source": [
    "falseEval = Forall((m, n), Forall((AA, CC), Equals(And(iterA1m, FALSE, iterC1n), FALSE), \n",
    "                                             domains=[Exp(Booleans, m), Exp(Booleans, n)]),\n",
    "                              domain=Naturals)"
   ]
  },
  {
   "cell_type": "code",
   "execution_count": 26,
   "metadata": {},
   "outputs": [
    {
     "data": {
      "text/html": [
       "<strong id=\"binaryClosure\"><a class=\"ProveItLink\" href=\"_proofs_/binaryClosure.ipynb\">binaryClosure</a>:</strong> <a class=\"ProveItLink\" href=\"__pv_it/5c84df2f748f99e9970088a408218dab6d6882750/expr.ipynb\"><img src=\"data:image/png;base64,iVBORw0KGgoAAAANSUhEUgAAAMcAAAAWBAMAAACGSZV/AAAAMFBMVEX///8QEBC6urrMzMxUVFRm\n",
       "ZmZERETc3NwyMjKqqqp2dnaIiIiYmJgiIiLu7u4AAAAU9Wx4AAAAAXRSTlMAQObYZgAAA11JREFU\n",
       "SMe9Vl9Ik1EUP9vn57ft+1zSS0YYK4IiK/cg9hCxoUMNIoNYD/2dQTMp7HsILaQaghhi6YvR414q\n",
       "I4hB9RA++BUkZkTzwYhwMqFCMitCl5Vo59x7v23OufVSF+537z3nnvu753fOuRvA/2jxv9tmjeCn\n",
       "LNcOzZVd/gx7lCYv84JUYJe8bCpFM06vn/XVtAMcWi529JyZL20CkN0A90hwIy8I7bBxr23fuEgx\n",
       "SbAEAE66wJZhUmiNTH0KA4QAWmh7IB+GSmwN8PmrRT7aDgqlB5UeL2jhFSCqCxFG+PXk3nwgFrr1\n",
       "Ru5A3w8uq5wQykEd4HUYnMV8OX099laA2I0DAJPI6N3W1st52dpGsQ9xp9TvXFYlPIMG7KN4iyYe\n",
       "su54ypOtyFEhupAIBt/lBTmCXeZ07LIvsNEZKhLKWYCLzTjeZquWeIquvUO4cCCt1QCNTNjJvjfn\n",
       "/DXuFSDdFAODne2SfvPsMQTL0uzA43Ga3GLLxlRMYksbcLQjA1vwTiwTOQtaMaicXK2rq8MQBmsp\n",
       "LqwQrKDMMVERKII/jNEMZfcmdolAeuCf4MpaTJtVdtQHzoLsBStaTfuPQSQ8vVkY0AXWMJAKny8B\n",
       "oraq+WF4iErGHnaJ0lgsGXgIbEdPMeVVo4ix+GCMXzACchTUU1e+IIjj8woQ/JQw0QSvUJSjF9ov\n",
       "E0RUrAlSyEGcIbZXigSZ6qsbhnV4TtNIuOyEMFhPdFEI7JRJJLFjOG06KxMkouBnkq5oJgjRBY1V\n",
       "JCqA40xVPvComVUpgvhLzZicIyNaXMLew0pR50C8TK6SwTDbun8ZCNKlka6PYb+AQabqB3gal8Lc\n",
       "E3mPMKDspFRkOXKe6K0E8+HDMpFK4skUnnGlQLSjAW4HFnoynGN+ZgunkbFe6U0weJZi4hAGOymk\n",
       "UVAa5nUYWuqgUgTx0Bxe8vmuMY/b+YvQ4TYfyMToPvKZUDU6XNbBw5RIbrnb6eWeJEEsxP669MoR\n",
       "+ZzWzGfFXsezy2yTydkOzBJD6QRlERRMs1pBV5v5nBN/I7lfBUcku/y+OXmfAKV+XFqA/jl/HWbR\n",
       "RxcrxqCR5alfrU1lF/NST//9Sc7uYEzS2wVi25sTpDa7uEDPEOxe9QSFuGjL+ZPjzi5/mCkw/s3/\n",
       "iD9xNeHJcqW+GAAAAABJRU5ErkJggg==\n",
       "\" style=\"display:inline;vertical-align:middle;\" /></a><br>"
      ],
      "text/plain": [
       "binaryClosure: forall_{A, B in BOOLEANS} ((A and B) in BOOLEANS)"
      ]
     },
     "execution_count": 26,
     "metadata": {},
     "output_type": "execute_result"
    }
   ],
   "source": [
    "binaryClosure = Forall((A, B), inBool(And(A, B)), domain=Booleans)"
   ]
  },
  {
   "cell_type": "code",
   "execution_count": 27,
   "metadata": {},
   "outputs": [
    {
     "data": {
      "text/html": [
       "<strong id=\"closure\"><a class=\"ProveItLink\" href=\"_proofs_/closure.ipynb\">closure</a>:</strong> <a class=\"ProveItLink\" href=\"__pv_it/89d8f3f8e68a6ecdc039dc8bb991ed9c5d9277e50/expr.ipynb\"><img src=\"data:image/png;base64,iVBORw0KGgoAAAANSUhEUgAAAVgAAAAVBAMAAADx8+t1AAAAMFBMVEX///8QEBC6urrMzMxUVFRm\n",
       "ZmZERETc3NwyMjKqqqp2dnaIiIiYmJgiIiLu7u4AAAAU9Wx4AAAAAXRSTlMAQObYZgAABHpJREFU\n",
       "SMfVlmtoHFUUgE9mN/uYmZ2k1scPsR1RWiFIR9D4AO2Qggq+tpQipUqHilsUI/tDsqLYrEIpijbz\n",
       "p+IPhWWpNoqEJdJFTNTFGgkNtEMtUqVppuCPQjUmPgJK7XjvPXdm7u7O7Cb0lwfOZHPOPfd+99xz\n",
       "HwD/J3E7epWzD6yumwGuRLbaa0QQAlQ9ugm1z54Gh/6ei+tH1nOsba3LeAkTlcpCZY2wYsCOFt/4\n",
       "ytjrP9hor8LH1HQoHlam0864XcajDXgj2TMFRzomcr8whhiQaW1oDWiHPkF7FUZoj1Y8LPONdEvO\n",
       "FFe6qJ4jziIfHXBAqAIxQK20wcJkBu1Vlo9eOx6WZX1XN9gNXIm85S0JjsHz0WUzHGa8KUDrx7+X\n",
       "3pk/68O+n3SZvQrq0VLpNegAe6JUKjldWKUyKt2SzsYrgmdoKjIgORDsgpaA53Ayb7tCZkfQXgVY\n",
       "KRR+6gTbVygMd9syvRVUIqPG2O9Cosq5yICLEMy/OQA+ZN8RNyyDxLkX0U5gtwHs6wSbNCBVZOn7\n",
       "O35/NVCJPAt7LtPl5/GN6BL7NKwsHuDLe+wbElm3LyzX0E5gbyXTb+7pnp26cp3rw0omyQOVnn+4\n",
       "f3Z8/KnmiB4dlWyEfvj6L4C7HkNHDtLlKFgHXvZ3FAYEcjNbEEvcYFPvor1K+1Mawrod29lQrQmY\n",
       "CDJLOp5mv7evcL8ia5O6umt6aMbPWp+OCvCbDVtouw/QMcdWrv2Mr9EFAzEgOBvYIt40Px9usJRU\n",
       "YXYCqzRywllY37zoqnO9Iuw0sB0t/bjM/YoME41sHa6R8m2wT6xb5/0bwpLIOyNgyYj+FeIHNMEm\n",
       "TDGzKbB8WK1MulN3DxxR6gaodHj13rtrAuxFDM1t9lz0K7J0zIVtmiP7me2xUSG7fnFx1Atgs6R5\n",
       "ptgOe5joQWzBA2YmvzCnngnKwGmDxTKAfUMAv2xp5EzVxAtENSaOC7Cpl3Tcpp6OfqV3+zlSHdl8\n",
       "TuU9phqocIEQ57yiD0tBKTBo4H/YKh7kwEGA9s1lOAPf0g3BzI82wdIymEXYw2Qa+z+HPkPOw30I\n",
       "K8uPh7DZp9nKbICxGvpJGeyoaZZspz7zD408avpBSu7ZPuwgbiZSmf5Ho0uesNjegzAgfakMf7Bj\n",
       "C4+uX3UBdqYeHF3QQ0+GR+AOyNhwf6FQqKlG+uT5EBZuZFVAastEP4GtNJ+8koPqeVcg6XmewWGH\n",
       "/Kv4gsU/2vX0SqC9KnTYICBZS/TDm8TyBj4pDhjBQ2b4WhvtFFalK7Me6jAqwc+YWbjlKwH2JP11\n",
       "BOCUg/52WLiBayAIy/IjtV94oTM4/AzFSi/pwXWbfZifBsI1XPUfR0skt9/JkCwirCrULPAqgK1L\n",
       "6CewT7a8GU9wbYFdvYxCsqZaFZBjHqPU7sNKFnwPg0dB20v+uY18zBbYhT9B3bhsM//s+EcvxD8R\n",
       "mbwytnttsJsgZySeL/L7J+p+DmHDGZCabL5uO/qDZ6uJetXyUAd7tUusMm+sbpBXuV6lKEa8/cvT\n",
       "/wHKVWAygtUwmgAAAABJRU5ErkJggg==\n",
       "\" style=\"display:inline;vertical-align:middle;\" /></a><br>"
      ],
      "text/plain": [
       "closure: forall_{m in Naturals} [forall_{A in BOOLEANS^{m}} ((A_1 and  ...  and A_m) in BOOLEANS)]"
      ]
     },
     "execution_count": 27,
     "metadata": {},
     "output_type": "execute_result"
    }
   ],
   "source": [
    "closure = Forall(m, Forall(AA, inBool(And(iterA1m)), domain=Exp(Booleans, m)),\n",
    "                 domain=Naturals)"
   ]
  },
  {
   "cell_type": "code",
   "execution_count": 28,
   "metadata": {},
   "outputs": [
    {
     "data": {
      "text/html": [
       "<strong id=\"demorgansLawOrToAndBin\"><a class=\"ProveItLink\" href=\"_proofs_/demorgansLawOrToAndBin.ipynb\">demorgansLawOrToAndBin</a>:</strong> <a class=\"ProveItLink\" href=\"__pv_it/84ad43498a359483e1ebd283e97a2e354a29e7e80/expr.ipynb\"><img src=\"data:image/png;base64,iVBORw0KGgoAAAANSUhEUgAAAPsAAAAXBAMAAAA/2iRsAAAAMFBMVEX///8QEBC6urrMzMxUVFRm\n",
       "ZmZERETc3NwyMjKqqqp2dnaIiIiYmJgiIiLu7u4AAAAU9Wx4AAAAAXRSTlMAQObYZgAAA4RJREFU\n",
       "SMfFVk1oU0EQ/pKXvyYvsXjSkzmUIqg0B8EiSIMN1VuLUEVBGg+mHrQGLLYK2iJIPIjmYL20YBDU\n",
       "iqUEfw7SQ6NetB6sh16kaCpaeikW6Y9Kqc7Ovt28PGn0YHDYZGe/3Z1vZ2d29wH/V4rVNO7OV+p9\n",
       "Tr9JobyuEv1OWe1xwGbrYqLlErwx4L5oX6sSvWX3utW8qHBXEuiIoh84Sy1/sjrsIbn35gcrwpdV\n",
       "RxN1NMUxAQSoy5utDr1L0p7rSHNtnFKJNk7AmxxmaGn3enouVGnvt8oqPx7l2rNNZeIx+r0twkdu\n",
       "L6dS7/5o6AxFKGZr12itDAayXCw5ItO/eKvAypzMc5JFoLcLCLYBzUAnYxn+v7nU3sIW3Taj/hxw\n",
       "vtTMwMgpXcNy4m6IYslV/v/IoSYZwWGJG4tjT6aFE5R7dYj0c4J8lXlSi1CtUHw2eqGX0lOMvK0a\n",
       "GpYTg1FRLNnI/1H0tbEyiV4rJVeA+Th5SERhhHhvPq9ylzcO94qTfpBWWrpBxMg5hIQdGywnkivS\n",
       "GyHskJFItPIazTw8MlI+og2REWOB6kKYE3J0irvCeXgnnfQUHV9at8RITyxEMe62wdbEZi42egqi\n",
       "ixdENEac8Q1UmT8kfaSf7yYjn+KuLzG8TDvpabUu3eCRdKTJpX022Jo4xkXKZisZwxzNAZ1fTbTd\n",
       "nu9y89G5l08FjnJXw9jjLjjoDVp9o27xSHccD+GP22BrYh0XKSdF1hJ9YEGl9oA+9n1k0xS7MsB7\n",
       "/Qrj3DUMPCuW6O+mUql+4hI2WbdG0opm4UkLOEjwCT2x0bbSO3zayNSa8EEkQFgde2NTUR48uET2\n",
       "RKbaTzPrcdrGbLn3yRqiv6ESXY4k+mC0W8M+PdFOv4Pu9C0ZmKe/EY8nqq7hgz8TiSsi3QMCMgWt\n",
       "N40mTksKSUPMQe+mhdcrejmSoEjykIZ9emK9xsixtP3xtU6hTWa0tp3yseDPwL8G/5Qj9skIhWde\n",
       "0fNImHTvjMQ17NMTJ7hYV0Gu8l36QCmfluFvnTZWMbzUvj/roI/hPR8b1uVIeKOc6wo29MQDXMof\n",
       "3HWkdEGo5TpuOiVPKWrlr2JAJDV+gyHe8JLV7or0nrQD2LUO/SwttfybYFB54PhUoFvQdj/6K35s\n",
       "PXIChXXoa6hjqGxkXClDDo+4/AMps/KCAmN/WYP6C9Usf3BHufy1/AJB+ekBwI0csgAAAABJRU5E\n",
       "rkJggg==\n",
       "\" style=\"display:inline;vertical-align:middle;\" /></a><br>"
      ],
      "text/plain": [
       "demorgansLawOrToAndBin: forall_{A, B | [not]([not](A) or [not](B))} (A and B)"
      ]
     },
     "execution_count": 28,
     "metadata": {},
     "output_type": "execute_result"
    }
   ],
   "source": [
    "demorgansLawOrToAndBin = Forall((A,B), And(A,B), conditions=[Not(Or(Not(A), Not(B)))])"
   ]
  },
  {
   "cell_type": "code",
   "execution_count": 29,
   "metadata": {},
   "outputs": [
    {
     "data": {
      "text/html": [
       "<strong id=\"demorgansLawOrToAnd\"><a class=\"ProveItLink\" href=\"_proofs_/demorgansLawOrToAnd.ipynb\">demorgansLawOrToAnd</a>:</strong> <a class=\"ProveItLink\" href=\"__pv_it/7f81c6224d01747a373b1e6e942b70d8d28b80b80/expr.ipynb\"><img src=\"data:image/png;base64,iVBORw0KGgoAAAANSUhEUgAAAbQAAAAZBAMAAACr78bxAAAAMFBMVEX///8QEBC6urrMzMxUVFRm\n",
       "ZmZERETc3NwyMjKqqqp2dnaIiIiYmJgiIiLu7u4AAAAU9Wx4AAAAAXRSTlMAQObYZgAABVJJREFU\n",
       "WMPdmF1oHFUUgM/+zu7s7Gxi0VIfuguWVCiSCUiMEc2SgH0Q2lUsIj64KKbiiwGLlYpmX/WhHaF9\n",
       "smCRahUlXVoMavzZttaHBnTVQrHQdAuigjbZNGlKtM147s/MPbM72TWyKPUyO3vvmTN37nfuueee\n",
       "GYDWJX7hHNyMJXzhfDuVNNysZdf/Ga3WFq32r45oi/iLLK/xviFb1U8KtCr7m26F1kajsyWSl8/9\n",
       "Y403Xjyk6jGLo73P6ntbobXR6GxJSB85ukiE2iqOQ+S6kycXShztRaZSbIXWRqOzZUpOnnOD8hZW\n",
       "sYOSDzlVcuEMR2Nmitmt0NpodLZslIM+6hBh/0ywMpG/7tTJhUsczTiye/crLcNIG43Obkcl8f95\n",
       "yCFOODwVrK3kqWp2he7GNg/+S6Oj51sH/1YaGq7YF5qkydWVm4vNDxkARDDQFhJOzlMwS8FbEJGP\n",
       "W/uukCt6gaONAOxsjeZp9Ioh5Mj1PTgOFZvCMmRHDgV2tkdVe5WHD/JDOmJFWL0Qc7AWEStcrwSv\n",
       "ByJ/Bp68Tk1b4mibkN5/y8COXOrWmkLzNLJixDSkYD2uWiE3ZL8diEZuzCp4PccO2YGonICUU4DI\n",
       "o1U5Bq0UbHZXbnTBl1epX3dxtDSkKmSSP9pRMYoTMEFmzdWIZYuNI0yWAd5UzYeXZOVXSLEV4C0F\n",
       "/mPKruNli8SvlHEzHM1chrCDCkmBNs0dp7ko+ZwNvUt0d6xztFQlTVbs5ObZmjEd86G5Gne91dWI\n",
       "Fh+j7hz+cV7WolbKJmmcaDBlWdyueBlRQxdo0fnuLAvmEg3j4N1BaEq+vbvbt1tINLOE140nthxO\n",
       "TVpgsJ3CuPeeMkXjGli+H19pRAvhTw0yvdmNa6ky09pKXXErV5bF7crdy9xQF+KL540HZn9hwVyg\n",
       "JXFMibFmMiVPrpudHcfd4vSxT/NTTyuHhJ3DAL/3VtJ5Iw8J7rnWxCmKxjVY2MlcaUQbQAupdfAO\n",
       "sLi2jfWdh2OgqQSBNwZIBMuQgLaJH8ILmOebG1jidM1FY8NP8s2Z2c10K0R+CQ2SdsbMk9fhLHzF\n",
       "CEQYgQPYwasfQ8bCkDko0HR9G0U7wB/RV0v8qdD00dHRZ9mQkELUIbIR9pVhcD1w3p8hqkzNG6j8\n",
       "LmqWSFeufQZI1IZd7AHPL7to/ezEaibzubmqrCi59iAzimNrv5VgAe3rBX8IsdX9EPRBwob78dFl\n",
       "w9K+maFoXAO+684u+mctDvvx+XlZhzR6PDbOCTQ9R96YeGO/55xeV41oYRxqxkG33u44CxJt2E3A\n",
       "zNvYDBVlRckdZwWijuNY0XKkC15jE5oTaAab3nUwCeNh+EnMGtzxBUXjGnoejBuNaD04mqKLdhjg\n",
       "26pAQ6FZfIwEXtbocdFEV8bjnw2fZmurx7sEsN63mqreNhpuXmvN8pCVKmr1nJtoyTyhjvP2tS58\n",
       "CNGMiaZX0b4aJq2NaJdx1FVZR3+EobpAM3Db+hBn8KWathdPonHZRRNdJSfhlnBBJLNnaGLbgPb3\n",
       "yzhEy0YRH/0BQUMr/wD9R8B8Cht34infiJZGXzvhbPChRYDtCjOyfnERjOy8zdFiaLo5TKuGxiLX\n",
       "8CQacpOx3K5GzKrOZu0Rfvhfari937taXhNaD6StyHNjYpts+oCAEaHc7gMCiZBsw/qk4TJDY5FW\n",
       "86WPUpmWarKQNsTblRdltXwHkmzue//o20iRriEW/XzlvtttX4biV/Y1dTt+nGc0JE95uQNox6ED\n",
       "aHAQh1ZpVgm2/cFgG/PjP/iiFfAdko4bQw6cas7Jg9/4jcCXmgnw0rpOfoc8+xcKnIRdLkZ3vwAA\n",
       "AABJRU5ErkJggg==\n",
       "\" style=\"display:inline;vertical-align:middle;\" /></a><br>"
      ],
      "text/plain": [
       "demorgansLawOrToAnd: forall_{m in Naturals} [forall_{A | [not]([not](A_1) or  ...  or [not](A_m))} (A_1 and  ...  and A_m)]"
      ]
     },
     "execution_count": 29,
     "metadata": {},
     "output_type": "execute_result"
    }
   ],
   "source": [
    "demorgansLawOrToAnd = Forall(m, Forall(AA, And(iterA1m), conditions=[Not(Or(Iter(i, Not(Indexed(AA,i)), one, m)))]),domain = Naturals)"
   ]
  },
  {
   "cell_type": "code",
   "execution_count": 30,
   "metadata": {},
   "outputs": [
    {
     "data": {
      "text/html": [
       "<strong id=\"commutation\"><a class=\"ProveItLink\" href=\"_proofs_/commutation.ipynb\">commutation</a>:</strong> <a class=\"ProveItLink\" href=\"__pv_it/11398191b8290f9641eebe5258baeba927e17be90/expr.ipynb\"><img src=\"data:image/png;base64,iVBORw0KGgoAAAANSUhEUgAAAQMAAAAWBAMAAAA2k+RkAAAAMFBMVEX///8QEBC6urrMzMxUVFRm\n",
       "ZmZERETc3NwyMjKqqqp2dnaIiIiYmJgiIiLu7u4AAAAU9Wx4AAAAAXRSTlMAQObYZgAAA8pJREFU\n",
       "SMfFlkloU1EUhv/k9fkyW1w4LNQoLgSnCKILkQQNKrhoQeJCHKpgVBSbhTggahC0IqLdKO7MxglB\n",
       "Auqqiz5FxQGxgroQhygqhTohba0D1XPOva/tS14Sd15407nvu/e885977gP+fyv922v+Ip1m1Hoj\n",
       "Eq9C1SRu0rWLHx7UdWEeHUZKbo2uspGaetNLDwErvalbf9LpLZXuLYIQZgK4xM8n6rrAbwRUxAJf\n",
       "lclyAuhrAdbHEfCmMJYm+uYmqJ3kkejIA7u4q6WeB2GOaIe6fzioroFm3ZmkzmQKkYInZfyio9dN\n",
       "UOhekztM3FefZrbXc8HH/k9Sn3Lqu7LNf6U7O3PAowJijZ5UmF6P/HQTwN71BDHxhnov7N69v64O\n",
       "0zm38urTwiqqWKyjgg10PKbZtnpRGEXzRCe5CaDYyelBxCj6/P5s9nldF1bTYapAzw7+lmssH9Wd\n",
       "FOU9O+h6zovC6BSsIyU3AX/prK2IEImzBNgs5jY5n+7LLE1UuHCclbRlnDiLSy1ka/2M3o7rL/jm\n",
       "DJ/Mo9JSDoXkio61tpsA3koCMRGk2E4j7yRBVHwjjQgrUSPHjh22NTKGlZWV5YfVJ6YoLK0Mif2J\n",
       "p5xS7vgYnSmxJ24CiONgsyL8rBPCMtF7FV8zBT+N2ZNZg2KhZ6pG2L3R4sK8dLofupYsgSN2mOFk\n",
       "uQvfnEzptF0EjHS6qUURBi3xsB0Vpa48Va4WYXYhvPHAZ3Ih9LHCBTqNF9MrVXlEbJXy3i7wenxU\n",
       "cBEUSvjywy7E8mI3ilnp/ZLA3RxuS9YWZqzTg01gIVjIIGc/W4IUyEBOxKZPbPjhCGG+lNbiUAbH\n",
       "p6ndRYAeo43DQmDzYrY2YK30zum4tkNqFrmQmejkwnYOOD/s1YVNBgs2O2XhIAN3y6OwXWeKNeAm\n",
       "rHZdY4mIMHlKav49dAp2EbhRMgoqCuZCPRivN14+krmtLNx8OBsMiW2ML3ktynM6U+ZKoR4mutk+\n",
       "OLwo4ePlEXuakZGxibRoN55ls9s4F0J6sFksYBesDQM53PlzmMsMdMleRdvQUYnWoXIXiDJbe9PL\n",
       "j6vC5BC7Jrch0jrQLESAMyzCU5s5JKUckKhzErGUisKQCz7WcNzI4fUKHdE8CnSuPvFm6GkmZbZt\n",
       "tcEahEVLY5kWYp+zq7Ay92tX0FDFz0HlxlVJXHYe3vXDanpB2XuxL7OckuVDXEpT1vbYrKu17iqb\n",
       "dU0ili93e+juPOXCyLaTEzlVc8BllaadqEc05MpsC6q+bXGU99X8pUhUoWoSV8uN9v/4e/0LcLwM\n",
       "SRtopNYAAAAASUVORK5CYII=\n",
       "\" style=\"display:inline;vertical-align:middle;\" /></a><br>"
      ],
      "text/plain": [
       "commutation: forall_{A, B in BOOLEANS} ((A and B) = (B and A))"
      ]
     },
     "execution_count": 30,
     "metadata": {},
     "output_type": "execute_result"
    }
   ],
   "source": [
    "commutation = Forall((A, B), Equals(And(A, B), And(B, A)), domain=Booleans)"
   ]
  },
  {
   "cell_type": "code",
   "execution_count": 31,
   "metadata": {},
   "outputs": [
    {
     "data": {
      "text/html": [
       "<strong id=\"commute\"><a class=\"ProveItLink\" href=\"_proofs_/commute.ipynb\">commute</a>:</strong> <a class=\"ProveItLink\" href=\"__pv_it/5ba5b004159e2095a69f90e24d4e8789a44431760/expr.ipynb\"><img src=\"data:image/png;base64,iVBORw0KGgoAAAANSUhEUgAAALMAAAAXBAMAAACyt2M4AAAAMFBMVEX///8QEBC6urrMzMxUVFRm\n",
       "ZmZERETc3NwyMjKqqqp2dnaIiIiYmJgiIiLu7u4AAAAU9Wx4AAAAAXRSTlMAQObYZgAAAt9JREFU\n",
       "SMe1VU1IVFEU/py/18x78xxaRG1kFi1aVE5QBrVQdBAhaGYxUxBISqQtwnkLSVpIsykJJGdjazeR\n",
       "EYRRu1n4ioh+CA1yUyITFLSRIv/Txs65793nbcgBRzpwj+eeM/e793znnCfw/6RU60HfRLXoc1rT\n",
       "bLytAfo4rRebyeSVeGXET5jBBPCAN3dqgBZn9hHIT7HVttLf84NUHrjG7q6dI+vMh3+d1qKDl/ZC\n",
       "78qk3pCLbgsWdg5dx6/UVwDjl9g3zcmINkpefKbI/YGBwRr4OMQqFAOiDWLfWvTy0ZmiED13uafn\n",
       "Yw3QF1jVt0C7JUg281EZORreIB0hgtqAXuEaEvruUrY9IZrLq4rlGuFcNnNJeodZNZ8pdtpiG7El\n",
       "q2acK4Aw1fEg3cguw6m0EYMeE8lKkCmvu54Bj6W9l9WkBfOD2Eah5d1+h7bEf5gr6OLirxsiEmyB\n",
       "b0WFNi9yeIzNDNAoUxAP6WZ4252MNrffk8llbh7qQN2OCrYezTjXTyA4rUJH5ok1/yybn4BOqNDc\n",
       "d1Pi1jlnhkgox/0utJkXPv9Ej4h8T+CVpUKfDlHXh77x+xdgDEnoA3yGE00xx+G0rEmY1nuXEPS2\n",
       "sivgPqix+LQPKnQLJ3HKoLR968V2b+auum2trcpSh8XQXKc1wjVj6kdF/q8xKY6MU7VKCrRR0Cm1\n",
       "Ph7cSB5Gg4S+57b1MTHwTXA/R6IlciWn+VDHI2vOZHMC8TJxUlCg57PnyvCn6WqE0jDXJPQRqnhu\n",
       "Mdkx7AwMKxoarXvVwsvNm5QH95XBkEELzaKd6WxjQoE+D/8CAiXe1hfgW/AG3VIHKP7XJMAZdFcO\n",
       "00lbG4JWhjajcO0jjjdwgngt4EYJg95HyBirPq0PpfFlGVpqlio+vpTtKGxBm6ku9P+2z5LZFRnJ\n",
       "Zm5XfFS3FTNf4TAUO6TYlrtU6a8KHaj8+cltoP8lWtV/YE8qHfYOoHchgd0C/AHjLbEL913/rAAA\n",
       "AABJRU5ErkJggg==\n",
       "\" style=\"display:inline;vertical-align:middle;\" /></a><br>"
      ],
      "text/plain": [
       "commute: forall_{A, B | A and B} (B and A)"
      ]
     },
     "execution_count": 31,
     "metadata": {},
     "output_type": "execute_result"
    }
   ],
   "source": [
    "commute = Forall((A, B), And(B, A), conditions=[And(A, B)])"
   ]
  },
  {
   "cell_type": "code",
   "execution_count": 32,
   "metadata": {},
   "outputs": [
    {
     "data": {
      "text/html": [
       "<strong id=\"rightwardCommutation\"><a class=\"ProveItLink\" href=\"_proofs_/rightwardCommutation.ipynb\">rightwardCommutation</a>:</strong> <a class=\"ProveItLink\" href=\"__pv_it/28be359a605d26065d58046a2c1cba5ccb5bd8f50/expr.ipynb\"><img src=\"data:image/png;base64,iVBORw0KGgoAAAANSUhEUgAABTUAAAAaBAMAAACUZaXiAAAAMFBMVEX///8QEBC6urrMzMxUVFRm\n",
       "ZmZERETc3NwyMjKqqqp2dnaIiIiYmJgiIiLu7u4AAAAU9Wx4AAAAAXRSTlMAQObYZgAAC+RJREFU\n",
       "eNrtW31sFMcVf/dl3+3t7UGI0lYVsWmb0ApRrk1KI6L2TkBBbdT6CDhpvk2iGrWEcn+ggELAblRK\n",
       "QCh3VRupUupwf5AE1ChcEkHTQuRLwDQibTBqSdUW40OKCipgbMw32Nv52Jmd3Z3jZl3H/SM30pz3\n",
       "3uz7zXtvfjvzduYMoF5W9OWgXuplQsrMvqKf23vrEauXCSuNGaj44abxf7AxWKIVldAVn7rqCrf1\n",
       "Dy3UMz6sesS8Obdf1tJgojI0z4eVK7HGzSnr23uSO2bQP+mCT/+lCtVNH5fYOL3xraE304q5SSbD\n",
       "DxS5mSDapQnl5p1WRSVx1aeuTEFvOT9/wbPuFeTyn4x3V6o7Fuzfkjt9yzVp20lzYGCt6SNIRn50\n",
       "4EQ3A4t4hzVkEaO/6NN/mcKNTJevrtVjI4ul0xv//i+2KuLmDvz9eUVuavg5jFYmlJvP2/btPC82\n",
       "rK+yFgjmiQpcHmgDeKzZIdNM5FjQTClj78QT8qxhaVvyMvrYek5ukdQBsxMgZjZb3zo9N1oR18wM\n",
       "+EB1KayvYnotHE9sxD6EWFbxRmWgHBpRqyJuPoX/tClyk9z41IRSM16iFU8f5ojYskGuEM3a842o\n",
       "wOVphJbOOGQ7CZPyytgaCWR0UNpvGk/WgYtSi0DmQMjE01sTG4SDnhv3WMBmL6ijuhU2VDG9Fo4n\n",
       "NmIfQiyreKMwUE4NvUgr4iZ+JiMFRW6SCeyBCeVmoEIrdmanKS50K+QP/OxjtveiApd35wAOFUVZ\n",
       "zCRhuk8Ze+sFsvq2SfvtxhNTdEhqEcgciOOZCfKTLPlxz5230j+bzUFQR3UpMLnH9Bo4ntg4+rBj\n",
       "Wc0bhYFyahiTaEXc1F9dvXqd8nv6wdWrV0/s6/qXrYrKOwFT8DI8Q57Szd3DLx0KXL4U1cMVURYw\n",
       "yebYH5Sxmy6RmBak/a4cxZmuKbVILLyTBmJlP+NRg3umCNJVPt7bNArqqC4FJveYXgPHExtHH3Ys\n",
       "q3mjMFAujR/TirgJF9vb/6nMzWR7+4rihHLzQasiY4ejYhZzUr6nZXQmeEIjKthylIOu+alDtvWi\n",
       "+3Xmxtgxs+0G/ZKFNDkks0jeSZJkHiabaTT3IhuhEe9I5c+BOqpLwZJ7TK+F44mNow87ltW8URgo\n",
       "l8bLtGJuzgNYpszNcAoaxrYBH9oyNm5usSp6vLIRs2w3vCZPLrQyz1AcClweOr9n11GnrOW6C6QG\n",
       "dli0w4NPFsH0RZlF8k7SF4gaI02MTJM/fA6Xn5PUhPb2I3jsOqijuhQsucf0Wjie2Ih9CLGs5o3C\n",
       "QLk0fkMr5uaXEIPBaKkocTOYQY8B0lPavnL6/MTYuHmTVQHeRYkJGvZQG7NmjXTbCBrZiy5VsFzj\n",
       "8jha1M5kHPfm2VurInbUTFXvVyfZU/c1DiZY5Aqn1cmhKyTpYitfcJI75SaTvz4JuvEgzlZEZQof\n",
       "j4py23RFnPzwDfoQYun1ZjYoDpTL/2m0Ym4mII4epZnVprsN98Ibj3JuoroXfT5NYkg3tmMrW5dQ\n",
       "3ulLpy7bhS8WmZObUJ4wx4E0aWzcPGdVMK5AED1boSV0hdBLeBL3lg/ISiAoWK5xeQMyJH7dIesn\n",
       "wxfMqWInaBo7XdpvmCRo+VEGJljk3BvknbRcIqRhs0No0HVnknDzbAFmocn4G99XRGUKwV5Rzk1X\n",
       "xWGxkfZhx9LrDeug9kC5/E/TirkZLycqdJH3lFOtD8MBraJVbG7uBfx2RWaEwFU2PcEbxP7JH8I0\n",
       "aihKQw51gmYle+9v3/6wvU+lb968ga0rpEV/YO/cnoKjtefF/R5uhocmN+FULkaHHBkdykhsPsZ3\n",
       "6pnCy055EmnpVx2yPGFDIKeKHaUvOp+R9hvAmWajWWRggkXOeYN30oQf2w5+TFCFmy2TJ5MtsS5F\n",
       "VKZA01cmt01XxOGxkfVhx1LiTRcoDpTLf4GbRuedPKVzbS0+vn4A/lzKitw8ifuJkel3kZVSLQGY\n",
       "hU3feoxO8ogViKHhKzhXAGNXazmuGW826/wVqlQ89QXWA26J7YabgllH64ttAfb9c1aFX3574ATe\n",
       "E7GG/AVUN3ptjiGgKA0kU9jilKfLxDhR1k3WrW3K2HGyMGoZab8deL8/OsLBBIschXfSSHbI8/yF\n",
       "ga7pj/Th8hEhBn5wY1MGBjpMzs2aqFyBZqtMbpuuiMNjI+vDjqXEmy5QGyi3/8KaDsvmog/MKf2h\n",
       "Gdviu1PWFUAPvnPfr9aK3GxYhR5i8joU/If1KvovFEi8hGKvQySuCeRP/AKZs3dPH6jENXi9HEZ6\n",
       "X0HIKcQ+7TQEUbz3AWmBeUYvPnASWsMpnqI8aVUDE7T/Eh/yjZbb9AcB+IMc9mN3Y4ToXOGSU463\n",
       "5Do6HbLj+CmLdypjG2Sf+G0UoTf/mNnzhBP/EF46Wo5xMFvLgWh3ouPXk/BIhaDh7+78rwGz63gB\n",
       "L8g5NuROVMOLyhWSOVHOTXfj2G46cVhsbHIIfdix9HrDuFlzoNz+v08r4eYLvRanTs8qJzLkUB9f\n",
       "pejh2T7t9ByBmzFMQzKpJabTDMEYBh33H8FHdQYx/iyarbQL+DxDz5LZMbirkjhN9vh78Mw441G8\n",
       "g4/aSAv0xrIJ3dGagL1fde4owCoc05VX2JCTFw28CWGMsI+zvSzDJ3cwBfq42PKlSPmzFYessX9T\n",
       "5ZkjoI697vJLjX9Br1nvXYe/wX4nfsswnHjnfIVzk7dgDBuRd4IS1JSxtv8HBO2vsj0kLGhcQDYC\n",
       "C2zIHag2tI3KFb7mcImZ7sHhbrpxrNjY5LDb7Fh6vWEd1A6m239hDwkC+FQQI6x/G5IpEhl8lQuR\n",
       "VXgfFLcJ3ITPo3oXJQ3dPAxe27MA3xCwj/e3IrSGa3gLIEpW7siioxD5PT5SwlwttU4tYyb2WC1G\n",
       "m1ZoeMvR+m84yFLSmbQmTfQktJjmsDXkeBomZ5nGLWB9HMc+zGVnfFyBuGbL7zPnz3+OgnMZeosz\n",
       "j+Q4N2tiAxxoGrkfhe9UJwzTfJa34d/UmEdSHMxuwRg2Iu8kiRVGFlM08lbQ7N5778Wwo2gQTbQ2\n",
       "dXlRbWiOaivsdrjETAc3DnfThcNiY5PDbrNj6fWGdaAyUE7/n6WVcFNHzGogZtyDHrJogV5Ng9BH\n",
       "7e3LETefOSNy80PAnEPPw62QJ0oamu/xoVryHJuuYSdidXIYc3gOzSphMd0giHyHZJSRu3GamhVb\n",
       "3K32BkrOlYnTIQ+S62ZPGtNsN7IVsSSXy2R+scMlNCtvqoJvcVPWs7yTcImkmt4zS8dLV5dP1OVV\n",
       "5H5xODlk4ZHJusBfMC3/hTNLiwF34M8psBs6gvSqNWhk6LwZvFvkJi6/xtM0egvM0B1uvFtDyUhX\n",
       "e8g307nzLvhWe3t7CTGwSN+E4kcJ+zQNHyiWCTeL9jGT2GpvWBRpdQ+5+oH8Her3+sZOxdsaB5vH\n",
       "BwyhRbII63eehoPeIVcvU6rsRfvG4eRQLH47sPzX0FyCK+fm2TisyTUOoofjgEavpnwRFlJuwkE3\n",
       "N2+nb26HiCBZgOCw9XKO9MnxUwWMwzl838fWvGkxsCdcYOzTs991c1NoFYrwG7kxDTly7RPjZgd6\n",
       "1vW24jhxswMCX0+R3Q1Xcfwq0eeQG4OlcaEOI8cnyE3q/0lyzClwM7wD0uVgG8pFZ79Krx5EWR96\n",
       "iIO/aIYwuLh5hizpkB5ENIaOCqzLogujqQCzs9C4EUIo4Z35d/K8h3OUm/fT1CWLj6/Qqr0WbwKg\n",
       "dx/e4m4Vyiqrshhtv+Dvt83hHerx94t9OyRSoZ/kxgcMoUVeAxoyF5SwW/V0/iF/qN+T/8jMLw4j\n",
       "h3LxbajlP54RF7qchrLn6pX25a4zS76d2n8e9KahQrqs5VuXbCI7Xf/pnzoPkfY6/MzsO0w2Fe8F\n",
       "43Gyw/7Kk0TvNvyrbn3z5vYy4A3NxXaLq9UxMCVaPy3lLYls7afH/XiKVgc3QznvlfsYlekXvITm\n",
       "F7qtgFYnDeWbUC/14ruI3NQlV1W4abR5aGzz+Zt2wlVnZb2MCzdrlz7+/+m/9dBYl6QG4XqA62Ws\n",
       "ZWZfZmyKutJv5F6vR7he/ofyXyvjN+pLGZg6AAAAAElFTkSuQmCC\n",
       "\" style=\"display:inline;vertical-align:middle;\" /></a><br>"
      ],
      "text/plain": [
       "rightwardCommutation: forall_{l, m, n in Naturals} [forall_{(A, B, C, D) in BOOLEANS^{l} * BOOLEANS * BOOLEANS^{m} * BOOLEANS^{n}} ((A_1 and  ...  and A_l and B and C_1 and  ...  and C_m and D_1 and  ...  and D_n) = (A_1 and  ...  and A_l and C_1 and  ...  and C_m and B and D_1 and  ...  and D_n))]"
      ]
     },
     "execution_count": 32,
     "metadata": {},
     "output_type": "execute_result"
    }
   ],
   "source": [
    "rightwardCommutation = Forall((l, m, n),Forall((AA,B,CC,DD), Equals(And(iterA1l, B, iterC1m, iterD1n), And(iterA1l, iterC1m, B, iterD1n)), \n",
    "                                               domains = [Exp(Booleans, l), Booleans, Exp(Booleans,m), Exp(Booleans, n)]), \n",
    "                              domain = Naturals)"
   ]
  },
  {
   "cell_type": "code",
   "execution_count": 33,
   "metadata": {},
   "outputs": [
    {
     "data": {
      "text/html": [
       "<strong id=\"leftwardCommutation\"><a class=\"ProveItLink\" href=\"_proofs_/leftwardCommutation.ipynb\">leftwardCommutation</a>:</strong> <a class=\"ProveItLink\" href=\"__pv_it/6d1dfae76a5283971844fef3ce49958970a4e79a0/expr.ipynb\"><img src=\"data:image/png;base64,iVBORw0KGgoAAAANSUhEUgAABTgAAAAaBAMAAABhmy5SAAAAMFBMVEX///8QEBC6urrMzMxUVFRm\n",
       "ZmZERETc3NwyMjKqqqp2dnaIiIiYmJgiIiLu7u4AAAAU9Wx4AAAAAXRSTlMAQObYZgAACzNJREFU\n",
       "eNrtW31sHEcVf/fl+/Q5JggEiNgBwodClANCqIiErVShogh8oY1QPmiuSLhCaZT7wzRVDfEVEVJF\n",
       "UB+CIqSAaqC0KVTNUUSEaKIcCa6qFBFXfFREcXwV0ERK4tg4aUmaZHlvZnZmZ2/ON+u45o/ek+a8\n",
       "+3bfzHu//c3Mm9k1gL1sHy9CS1qyMBIePxnk9rEWYi1ZQBmAWhByZv8PLi4XBaWnHNDWZLDDQXlr\n",
       "zr6SoAaBG2gjg+lbxVmm2zCKVNifyJV5iH9eXJ7NQA8neG1HRUFysuHwBUtytjP0KgvJzUgvLyQT\n",
       "IwGNTQbZ4SWTZ3bM2Fcyq0H24Lot8bzv/huTZ468HsDNs87k5KDjwnpH/Q2r+J/2q/MQv9nl+cRE\n",
       "D8eqNi9isRwvSM4n6fxhS3KmqCcmagtJTmpNtJhyej0X4g3c2KUONQOpdwoAQ5eNBmCs32/gtflp\n",
       "FcLrq74GSgBJp7upp1Lf8V/8efQ/bsT1d4rnc+BSg0DNfuvxS73RZTtMGht4r+nhWCGsIVYSZQDu\n",
       "o7sKluRkN963oLP6s6LQJOV4s95E3myw2zOreQ1cfYT69NAlowGY6q8z8NicPU2cKfoaoPGqq9DU\n",
       "U6nvoREx9Ko7r9cNd2kxqzvXGwQKZly0+F292WU7TBobeG30cKwQ1hA7LsoAG5ViZUtysi68cUHJ\n",
       "uUQUlL3OlOfC6tPmNGC7Gjm8BlKfdnDKOHHNaACm+v0GXpsH6e9SfwME5/CiZp4q/RHKJRPT7iS3\n",
       "yH9jiNecOOA0CBTMuGiAuXqzy3aYNDTQbPRwrBDWEHtZlAHIPLFz5zesV+vHd+7cuaCL9nCJFwph\n",
       "rOuG58raZ40G0eUy2dEMpL6NnvBEyWSgiazfb+CxibEVytf8DdCzmJhq5qnS7yA32yXzvuq/8YP8\n",
       "z+GQUwN7v32ACX0Dl+0waWig2fjCsUFYQ6ytzMsAwKv9/SetydnR3799ZCHJGRvhBWUoN+zJY7Kl\n",
       "dnM2rna8NAOpp4zolktGAy1Jl/X7DTw2Q+zx/NPXAJt8nUXNPFV6Nvt2yKHmF/47N/EUbSbhSWSb\n",
       "+63H7+rNLtth0thAs/GFY4GwjlgqzwuSE9f891iTM5qDtrntxN9Sndt6qMoLyldgq2ceSVXNychT\n",
       "Ku3QDKS+Z/qh706XjQZeUfX7DTw2W6uGenouszSq0MxTqY84lHz1yCTtR6xXPsSErWi+wweUfMyp\n",
       "BvBbj9/Vm122w6SxgfeaPxwLhHXEkiVekJzvQwpDtq9mRc5wL/YD7MQ2W2JJffcrNydyhrp5wXXC\n",
       "IjhCQawW2yoQL5mdvN9dWHCDf93Q9SdwXnsFO36k4DfQRNXvGhgamSgaGqb7MY2qNPNU6jMs5VKb\n",
       "T0v9d76F/f4BK80H8FuP39U3dNkCk3oD0zUZTiCEGWIilVvEywDdk8bOtKLRNuPuL8Cv75LkxHII\n",
       "fx9gdfAt4VTXdOd1Xm963aZzFPt6p7PrJES0+T80t2m9o5sXgItlWIm98eOf4xdeYGN+nWQqNLqD\n",
       "xyA8puv78GGFnZHInWN+A01U/cLA1AjPq2q+Bl6jEd+pNfFU6aMOgTYs88Me/51scs5eQS8KYO+3\n",
       "Fr/Um122w6TOwHjNDScAwgIxl3NTvCA509X2miHPITm3YQs8l6qlaoqch4CWWKxLhMSW8Ik8JNj0\n",
       "ETkFcDdzB7OREyX4mXB7797dVbUBxU9H9/3xwxs1DZfn9+/fApmNh3rryNnX2cm2Un7CL5yWW9N6\n",
       "d6zJLXthkMrr+i6aAJxeSI75DTRR9bsGhka62AyR8zVAudPQ1WaeKn2I0rO4etRmckanO7som7P2\n",
       "W4tf6s0u22FSb2C6JsOxR9hFrI6c2dIqmdb4tte+vGsS/lTJe8l5ltpJsoFyvcgqMItJse3YlRjy\n",
       "DxmOyNXoFZYAEL8rI+fewzauuLDTfYVQ9zJNI9pMZZ/pTh4ENzkOlXmB5OLJySFHkjOJkCcM2e8j\n",
       "WPbwO4QBz1ilPk5TYwqnEAGdMtBzElm/NDA0wpKhGPgaoCcxPNbMU6Vn+4UJtYfJpvXYOBM2DLyD\n",
       "fr73qckztDVk67cev9SbXbbCxGBgAl6GY4+wi1jdtA73rMUfGlgzm5c/lj6YE0cAo3Tnse8PesnZ\n",
       "NoDDGFsThf8h1mOYxSRohs++E3/WsL4ygyy7TIM543dlJHUeqJEPYc05fhrNXaCXUx5NGCl4DMkJ\n",
       "T1fhVpmltVV5gZfLtD1RdB85hZXMuzNUVk5VewQayqCjqOlZRjSkoJMXslplqn7XQKGjbHro8TwN\n",
       "vgbQ3ej1WjNPlZ7tF/adFqjj7OF/jveSITF04rV6v2WtPr/1+KXe7LIVJvUGJkxkOAEQFoiNPvN7\n",
       "ommmxAuR8xGsI0Ij1fmV1fbeTK84yrFXSHAsdf6THnImv+Tmj+0fEEkC9s6tNCWlaJ9qkmU7eISD\n",
       "abrC+V0ZWX4XnK6yzf5RcdqO/o5VvRpc0mXySM7wb2swlj5a07cV4p9m+2Fl95Gvdh3K0ohzcUwc\n",
       "sByc7VBIg4+ApqeM6HzXSy506oKsgw5U/dJAoaNsMtgplxX9DeSygxOfhyaeelrom4Ezhy/VBOqG\n",
       "FIsUA9TAjit1fiuXdb/1+JXe7LIVJvUGJkxkOAEQ5ohlj16Dv+hbSRDCvpSmGnb9DjpyLEWhoyJf\n",
       "0ByDkcc85IR30bYQR4zvuoWn++9m80673Dx5FI/aXqelPeN3ZcO7q7CZANmI9OOnr+C4uS3n1SBR\n",
       "kafp2PpTkC1knnKH+DFeHOcGBuE4OfHI17qvNrNvo1GiIA6i3e7bPmlwELz6DvbJDA1FHDplIOug\n",
       "A1W/NFDoKBtY9a0NfDtEb+A6+3hjVk+Vngycv+UE6qj4pp+cK1i1NehznBm/38pl3W89fqVv5LIF\n",
       "JvUGJkxkOIEQJsTi50psBk9080LkzCD32hjUn8Vulijzo6UQ+Xt//zYk59cveMn5Z6DdJ+wQS2CY\n",
       "GaWvipGzQ2b0B/CoYwYiJc7vykhsjdhSX6ed+jR35innhDu09wlvF0UKf+S8X9S/UFIXXdnWQM+h\n",
       "M1xoVL9Ex2Rj0s3qqbmFpebXl8Wb8Htbo9YCY2LQz4pJYISjFUo1Pa8vRfgfo9/FcBCGwvxoQzjb\n",
       "y0fO8BovOUl+QOMkrgXZDW24llxJM3oImZhlxBruZqMnkpPxG1PKlFjunGJUdE99msNVRs4RbQvK\n",
       "/QrA98jtZXGDDdZk0NewCh1LCeopQx1ntLqXfdqnIEH9Xhxgg3l+MQlcWygXyyN1fgW8uOS8mIb7\n",
       "i/Ep7AnPpfjR4vfCbZyccNxPzvdjwdT9BFOEkJhHaPqO4WDN1044A2VfLEK4wPmt2DgaLfvI6dFk\n",
       "8p8xkNPzydycHnl2qjI/0LnovHHk5KizTQ6fPDx3vxvG/8ZjEpicQxD6aI7eCbEiyRl9Enqq4QLm\n",
       "o6uf4EebMC9EFoe/3Q1R8JHzApvVoWcKeUwva5PTOTyi9eTPIb4HIpj0rniJdfjbxLQ+yEeAPL3I\n",
       "kqc+zSgtj5CcX9TQjPfy4soDw5uDRXy7+ZOr+P7LwT6adtGxlsCectQ5ZroM3ITft9v/+8D8YhK4\n",
       "Nhz0YrjWiBZ58UYN1bqjx/u3+V5fyg3XiUuQ6Zou91QTXdfHO3Gt3VOFf6/7ZQ0i1+BBZ/xF2jeN\n",
       "dTN+Z/bu7ec1LqNPnNWprgnn6SPw5/c/fq/u8aAobxZJG6bheOVNBMBvRPGSM1KsP/K/WXXxK8/C\n",
       "6Iyakev53ZKWWIuHnBnDUQNyZguzMPoT8v59LXxbMj/kbC7j8v/WfzwLo9VY2tvCtyVzlvD4X+dm\n",
       "mLHZnkjVWgi35Gbkf9mcilA3INO0AAAAAElFTkSuQmCC\n",
       "\" style=\"display:inline;vertical-align:middle;\" /></a><br>"
      ],
      "text/plain": [
       "leftwardCommutation: forall_{l, m, n in Naturals} [forall_{(A, B, C, D) in BOOLEANS^{l} * BOOLEANS^{m} * BOOLEANS * BOOLEANS^{n}} ((A_1 and  ...  and A_l and B_1 and  ...  and B_m and C and D_1 and  ...  and D_n) = (A_1 and  ...  and A_l and C and B_1 and  ...  and B_m and D_1 and  ...  and D_n))]"
      ]
     },
     "execution_count": 33,
     "metadata": {},
     "output_type": "execute_result"
    }
   ],
   "source": [
    "leftwardCommutation = Forall((l, m, n),Forall((AA,BB,C,DD), Equals(And(iterA1l, iterB1m, C, iterD1n), And(iterA1l, C, iterB1m, iterD1n)), \n",
    "                                               domains = [Exp(Booleans, l), Exp(Booleans,m), Booleans, Exp(Booleans, n)]), \n",
    "                              domain = Naturals)"
   ]
  },
  {
   "cell_type": "code",
   "execution_count": 34,
   "metadata": {},
   "outputs": [
    {
     "data": {
      "text/html": [
       "<strong id=\"rightwardCommute\"><a class=\"ProveItLink\" href=\"_proofs_/rightwardCommute.ipynb\">rightwardCommute</a>:</strong> <a class=\"ProveItLink\" href=\"__pv_it/0c68e2d30ddbee7bc665fa9a6b47af82b5e3e6400/expr.ipynb\"><img src=\"data:image/png;base64,iVBORw0KGgoAAAANSUhEUgAAA98AAAAZBAMAAADahIC3AAAAMFBMVEX///8QEBC6urrMzMxUVFRm\n",
       "ZmZERETc3NwyMjKqqqp2dnaIiIiYmJgiIiLu7u4AAAAU9Wx4AAAAAXRSTlMAQObYZgAACcFJREFU\n",
       "aN7tWmtoXMcVPvvQvh9SHey+4pVpS34Y1xvaqMWh3UU2SSE0Wjd2S+q62bREbim29kewTBVbaiEx\n",
       "KSa7pQQKwfUWnARDi2RKTYIdtMGx2ypppNA4pg95rynEpnX0tmXJkW/nnJm5d+7urHy3tJAoHvDV\n",
       "PM58Z+Z8M2fOzBrAfdo9XoDb6cOcNoyXmxEfu22xD3sKZsFohvDESjPAev4nU2qum29BV+vdad5R\n",
       "eK0JmM9Vp++PZd1K95gs3ZF2Dx/ADtObRSnWzgmnbfu6S8Lj1HNoxfDtE9aulpvrF1/U8V09VLiy\n",
       "+kYTDvb6HxKv9mit+Zq5ZcsP2p11ieLNiUvDTeDDZXNios+UCh7ihB/D/DMuCY/gTggZK4ZwMZWI\n",
       "qW6zYIP5HbCzg3Ma8UHc9htnXeNETGZNr5nW6lgN0DJTU2cOAITNdu2IQDeB5HX2OTIjJ8sJ34t/\n",
       "8i4JJ8G9K8ejnxQe3VTDk1BOL/yk7RjMpXrxCFERmnKNM0hMFLVtPraRfXM1dSb6oVReNyLnMpaK\n",
       "M+iIPNekTy8T4bjIW0ouCSdX8PDKIXwt//Mzc0qp7Ligd/+7rR0bGjTrxY9cxW9L3i1O2CRevqnV\n",
       "EZ1nBC3W1KFHgGKrbkSOZCkeRp8TmpZHQisRHnuxt3e/6yh9pLe3d+UE694Bbsmx1E2ltvOkVti/\n",
       "3jptX/GYRp14ap6wSm5xPCZdcl/W6ggwcuJra+pIaXVKNyJHshT34LTi1uL8IREO17q7/+aa8GR3\n",
       "9+7yiiG8hU+lP12cUWKjgbg+ArKupcHZkH2SSvGwWXMu3grnyLVldCSzEHzKqKmjc8Rs1YyogWI6\n",
       "qZJyh8PznHAWtu9yTbg/DYGV8/oSqtCfx+CR9+3KSEV/wv3GOssCuRazUivut6vc4XS9v4yOzAMn\n",
       "d1Zq667SQZ7XjEiv2EeHRsZaWL/khH+WLQlIdBmuCPdm2boib8hvouGe7du+z0OCR+/c9XvMbDXb\n",
       "UsJlyG3gXVjWsaqtNqCKqU1n297pc8ZFimrdfk5Nty053JOHBhhrhWG0ZYe4ckFwQD/7fSL3KjtO\n",
       "c9JkUjxkhdsucYqzy+gYLkDi7Zq60QU6yIekAmVEzjujVByjQ9++yK3jhMchytbShkY31Se/Ace/\n",
       "a7+0jcEpbqtFOXk4Tqy1vQnraM3GWHA5yjXKxehZXI5wZ6sEdGDq0rpPG96Uc1cpqnVplEUs19WK\n",
       "JBE+WYKNbBfc83Ve+To5vboUG0L3Ri5zgV2m8tJkUjzOj/W7XONUKW7wFrQ6HkWmKs66rnlaV4ZU\n",
       "YLc4k6XYT1FC0YpPMpzwaCVukH+vT//e/h04GzEihk34KeAh4FbhKLaxqyfCHrnAQ0umhlHkX3AQ\n",
       "vtXyKhGH76lpLSuAZQempmN4yaCNoGIpqgUaqIUuZsGuUh3hXW1tdM06zCuZ0i/q9o0hn2n8020p\n",
       "PB2fd4iHeGy0xjVOkaIvT0GrA29ko2VnXQpP7/5FS4Hd4kyWYg+e3kGzXEN4YgCbD2l6Rr93YALe\n",
       "GMqphF/mOrx/FaHA3wF24qpHh+ajeCLOXFX0qkq4JQzwFXVL8oLV6vuHDYh5BVPTcRI94t1OLEW1\n",
       "QAO1UGV4w+oh4EH2w6smJvpNi/AwEwhpwpRn2b+DlPv5Vycu4T3ukEM8Si49knWNM0wu/ai2zYd+\n",
       "ja9Nqy5Ir0PFMYtwe0SOZCvux2UTsp8MhEuHXZ3sgxsptmP90eiJtMgBnEGp07/oUwkPPE67In4X\n",
       "92CJWYih0hZ0lQlyMJPMFhEH4VKYpT2qw+UFqzVw2QbEvIKp6fgIVvzTiaWo5mjWqzJBI6uDKuEB\n",
       "XCUXS+iPC9KOaCu0Gf/dwLA+B4WJIfEJXDvz3GSKOL2IvASucS6iY4sOKFa329CvBfnpY9XFMCr0\n",
       "o18ThFsthkOLpRhGadlcEGwC/FEQ/uyY2EhXNlbiWXrMx1wayManI1c2KYSHd4oIn19MvDdO3oet\n",
       "HvuJ9wibeOCGSjgXfhBXbvkNZdvxArV+mU1mU6xiAWJeYuo7phx3UN4uVPtxRIQmExXCaGHH03WE\n",
       "2SV4H11xS9KOHXKmk+yTwO1BH1+ewiGWHsdcz4LwPZY47L/+q+Cfc+AaJ1h92njinGp1uw2v4XfT\n",
       "e7dd5zfTib7qg5YCq4VwLS3KiLpm4dIrc4Zg07qWgYfZIIq9D7wEyTQagXIFHzn/01A+qhAOnyJl\n",
       "a6FIlouwFYrvA8kZucpgkHVLziqEc+FNa3AiRkjZX1TgrQE2oD24wgQg5gVmg4604AwnFlft+zU6\n",
       "tD2g+AQOjcGh4+nay2ZkmjeZLU1Wz+3YKZ9cL7LRJ1aD+PhRXZTNOWkyh9RlmrNkMluc3RpSS98C\n",
       "i49b4eAdxDxXUK1utbX0zG35Gj9kVb2mufSQrcBqIVxLi60YO5jn0oJNVvFTQXiMmS1AQ3iAHYqh\n",
       "Es+tA9873d0/YoQ/8Z5K+Jvkhlmck+VXUgxaBcMeft1o51vNIlwIn2fZeyBmB028wFtZV18O/iQB\n",
       "KS8x9R2JuVYnllAdL0g0uf+pEJoRu9xOa9TCYfsq6a2/OzrumTT1oQbiTeLYVte0aesON2xpoBjZ\n",
       "tJ5WRfjyBfyughPQ7+W57d5Elu9w770q4SBCjVEqJUvgnRXxMcOl5x0DEm8VFMKF8Hnune13A17g\n",
       "rXsBHXFAAlJeYuo7YsjtH4o9fKrzTEm2C9VIOEeTb5Acmt1P3lsDZ56zf7Ieqbej68RNpklN4ihW\n",
       "d5maVUBsMg83pBA+GYV9heAUs+/ZCM+t+gzczwmHkVrCmRuGzBSTg34D9udYJpEqQUcOggfBxw6S\n",
       "DefBJlwII29sp8HLsM8IPsM+vCBaR3CT4kM0B6S8wGzQ8SLzA49B+AR8zJsT7VI1Ek4IJM4+HDoz\n",
       "Bt7xAjyX99hPbcZ/b0dmsv8JH9Lq/z/COZv0YmYR7j8GmYo3D3+Bjhd57tsVeJd5B+9T7eCHGsKr\n",
       "cxBLTZcylUhx+7anGWMV+Ff1zs10nfiJOf6WvOPlFWHkDaOpAGQKvnn24QXR2sljs7wApLzAbNAx\n",
       "8dvpt5lX35wYi5REu1SNhBMCibMPFUKppfGPo1tI2+9TQeUe++PijqbM6D+mr28WR1rddWpWAXA2\n",
       "af+qE4ZKXe4FdoY7n1adqVKXiTnaHT8nMN6CwP9xY6uFCxXAU0DeW9X88h3Hwrl4zFlFhDsQHIU4\n",
       "nPq8JdoHH5kUTdcQ7ivU5+re0p3ProW6Dl9qSPi9n1zuR/cdjX+RWbZjIh8pBX5XM6zjx5ab+Lsw\n",
       "UoGPalIJj4F+mzYmPFbfodJ4h99OHzDCb53Gm/1/6dnbFv5gpQ3j2f8Azt7GHPX1p8cAAAAASUVO\n",
       "RK5CYII=\n",
       "\" style=\"display:inline;vertical-align:middle;\" /></a><br>"
      ],
      "text/plain": [
       "rightwardCommute: forall_{l, m, n in Naturals} [forall_{A, B, C, D | A_1 and  ...  and A_l and B and C_1 and  ...  and C_m and D_1 and  ...  and D_n} (A_1 and  ...  and A_l and C_1 and  ...  and C_m and B and D_1 and  ...  and D_n)]"
      ]
     },
     "execution_count": 34,
     "metadata": {},
     "output_type": "execute_result"
    }
   ],
   "source": [
    "rightwardCommute = Forall((l, m, n), Forall((AA,B,CC,DD), And(iterA1l, iterC1m, B, iterD1n),\n",
    "                                            conditions=[And(iterA1l, B, iterC1m, iterD1n)]), \n",
    "                              domain = Naturals)"
   ]
  },
  {
   "cell_type": "code",
   "execution_count": 35,
   "metadata": {},
   "outputs": [
    {
     "data": {
      "text/html": [
       "<strong id=\"leftwardCommute\"><a class=\"ProveItLink\" href=\"_proofs_/leftwardCommute.ipynb\">leftwardCommute</a>:</strong> <a class=\"ProveItLink\" href=\"__pv_it/fab21a7b21132234b9a72c1fbd8641c7de98373c0/expr.ipynb\"><img src=\"data:image/png;base64,iVBORw0KGgoAAAANSUhEUgAAA+EAAAAZBAMAAACsvjI8AAAAMFBMVEX///8QEBC6urrMzMxUVFRm\n",
       "ZmZERETc3NwyMjKqqqp2dnaIiIiYmJgiIiLu7u4AAAAU9Wx4AAAAAXRSTlMAQObYZgAACcFJREFU\n",
       "aN7tWmuMG1cVPuvx+jEej3dZSNpSxVvx+hGFdQUJKFFlK1UAgei60ICaQuPycAUhXf+A7IpAbJBK\n",
       "CqK1paoIqUIxolCKULM8lAIJWpc0FaQV6/Io4rFdR4IkUlJnd7N5bbIZzrn3zp079viFitRucyWP\n",
       "75x77jl3znfPY64N0H3bOZODa+013dbNlHthr16z2Gu+BVNQ6wVxc6UZYC3/SpZ6nNfthDEL2xsT\n",
       "XcsNEP/8ra+MsAZpxjBHnDnuc10iHmUzJ1cM4FqKf8+We5zoOeHUZ7ZWvuQmmcU19RNjZ7sXfHK+\n",
       "Xt9leaNqFq/WT0xd7mGZJ616fbdl4/VRjvgT1H+oS8R12tqh2opBXDyKbqXUwNfi+fY4XdcEm67f\n",
       "CPC2GxtEWBmA/LmOsiU9dh5vrLS3YqsAELaGe5B2ES/7Fuyn5Yjvoq9Ml4gzxl0rJ6gfFDHaUkuU\n",
       "UNqb+X4lqKsTBN18EO2sX3CL0MjB8osdZUt68jIhnvJUrFkUWeKZHqQt4aXvvB3Wywxx2ub9pS4R\n",
       "Z8HgzpWD+Br+9S1rTiFueMk7A+x0PEqdYNNDJMw34BYRoQA9faWTbIc+hRnAsCqeiiMW4VQc6EHa\n",
       "JVrYvJ0VBhjixuPj41/tulY/Oj4+vnJKdl+BW7Iav6pQNx/0ZPavlfWLa4JN305wBNNuEQGLkn6h\n",
       "k2yHPoZbKXrRW3HAIuhn53qQRsuMWjb9cwxxOJ/N/qNrxGPZ7M7yikG8nz9KPlFcUOqjQtS7CnLe\n",
       "Tl0TBD3IYDITbhGUSN+72FG2Q8dUrRVT3opjy4xjoAdpNDNm+zj8kCOOxfu9XSPuT0Bg5RzDhHj0\n",
       "/Cxsv6JUZRXvJPdTJ525Jgh6v6eI5PwDD86XOsqWdM267oHZ61soTp5jHJkepFHISdp5HL7LEX8r\n",
       "7gkwR2tdIe5L4ZZjAfESFx6fH1zmQeeXW598ip6cKNx3fDJ6XmondkRd9vetwfg/W3Eq2pwW2bLt\n",
       "lNiEim4vj24a7WNlrzEAU2TLDZwYhWDB++kn7AqIT/j3VZUeveCwOiKm8cmPo59rmbayJd3AVG2O\n",
       "FbwVkzBM5pOdVuqShslcvs/dxBGPQgS3+rpWb6z3fwR+drdz5laFQ9xYS2IVaQix3X1LBQIs3kxj\n",
       "bcATUUBadqkd4nEVBQNNWay0YpXalAX+C+AeOS51e85uHI0xxM+UYATdYP2HOfE5FvaamjFJAQ6U\n",
       "Cb6qSo+x9Go2iBjFXeGzytod1XayHbqfUvXIkrfiUdpUIavWYaWqNHKFoqw5khzxSCVaYyHe40hh\n",
       "6yfgWb2m1xzEDwGvA28XoWJ7BXRyEB/WmGG2kUcRr9GSC/HbZVxxuVhZuJ4IU7odHPenFYKL2dam\n",
       "0EbQGt+xxx3dXqrUUQXx0cFBizLk9zgRn+/dXo5Tk+c1YoKeVul9DPGHG0TEKS7iy1a42k62Q++j\n",
       "hYwseiuOk0fllzqtVJFGGTxolRsQNws0/G2PmZFP7anD85NpFfGTXLvv76IcmM1BiILNMRSrsYA7\n",
       "ixBMpVXEJTNzSJd3Ylu3T5Qit1REcCyWFIKL2dbm0MwbsLNJjkvdXqqUURF7SFF4qF7PWxLxMDKE\n",
       "PEqVR/Czl3OICbwKsOl+5klptwh2lqJjHOaIt5Lt0Nlhzf7Lnor5a3qx2mmlijTaOqFlaIjqcO9m\n",
       "vFDAMO5a+1jkQEL0AI4Q1+GHd6uIB77I/CL6DosT8cm30x7aTyGNSCYZb78LcckMgZPqqS+/+VNe\n",
       "RJ37Cjw49ttB7b5CI7OtzaHp5Fp1Ma7o9lCljgoyYXasRC8wOduOZCuyGQ/Q7MIWv1cY35kQy6l0\n",
       "jWDilpIieCLNo8k54s5AzSXboVOqDmKFfeTnv0kd/DS4FLPXdP9yrWmlraVRBhx9ScAJ8HuB+CO4\n",
       "Go387PRIJZoyUqKXAGbww/rpjQri4U+KOp8f9vnms/ew0vJFucMogo9Nqohz5tuwt9FQ3Jbf6OnY\n",
       "AmgYYrTy8xTRVmUHS5yZE1Rmqc2hRTPKuK3bW5WyMrsSRLsE38fedEu2HTfYT3rGvpjkJKz0Yi89\n",
       "csLN4KJPl8D3cbcIlkhPx/9mIy4HmEgpW5mAqdp8ejln/u4K/AWecSvwWwlz9+xt0LTS1tLOwonf\n",
       "LtYEnPLtDPrQCBGSu+dXEEuw7ES9nMa86TCUH1MQhzezZayBIjNdZEl4nSw2dOrxnwIE4px542ry\n",
       "WlDclt/cXAuhd+B2DtTo3HeqTD7OmDlBZZbaHFqsrIwL3S1UKSuz0w0+kWVdRVtaSOd23Gyfvh7L\n",
       "iIu5isxNGzxCzywnHAAXXfvAFvEWJUXE2G9XXwAbcTnARErZDp34rVUVCJ4qwFleW0kFTNgy/RrS\n",
       "uNK20v6aEHAi4esCcQMBDTD8PoT7NlTivZtAezGb3YGIf+VlFfE/sjiNtQvL54EFdEsKrJROT7GY\n",
       "siC8SSIumHGna2n4g5Nb+c0Lg3HMNhhi1oOBqseGsdJhzIKgMkttDq0PETcnxbit21uVsjK7rVZv\n",
       "uB2HXe+VzuZwBu22owXdSwRHvIVsD7p/EqPuN1spaLtSLzrBKU9ZRQ3zLroOwQHI+3hvq89McR/3\n",
       "bVIRZw2zwjS7owp1ipzpY/h5ktW/mJVfXq0iLpgRBn/Nqd/FjY5vTMvsFxoMV3iN44a+yBHnBJWZ\n",
       "azPuPLT5SEnQ+jMse/JxW7e3KjF65NFn5MDRZjt234Z6+KU63OPRdF8ikgnODbcY7XWlDE6006SC\n",
       "+JkITOSCc7gZntV5b+gt8H6OOBxtRBzjNCTnkA/yBQjPJ4J7qZzRE0RJVsEn/h0VUJkJhvUIZyn4\n",
       "EEzU8MJuMKiDZtGvOuiH8Gt2VrlvyPZSJDDWiRpn5trCB+ANvrSQZmJe/4HoS93eqsToo5k+59Ct\n",
       "9r/b0Zyb/P8hnkcvNzLlVwhxDic7O5OI+5+AZMWXgT/Dhsd5b1sFjuMe831jGPzQgPjsIhjx+VKy\n",
       "EoovzwzeDdoVMO/Yhi7OKdeJmimgMhMMVHVktAuQzOGF3UQx3j9tXY/Jyk+5Bb5mzbzwpprtpUhg\n",
       "rMkcYxba4FazqovqLgP/2fKTmuhL3Z6q7FF/YsIxhXKC/eXiXb3Z8YPd/3Em+ONzvf2N5O0QTWif\n",
       "b3Ge3fNKOZzMg9UnhkpT70fZHQ2nrO4mZxjNMtQTGNYQBnoC+RTqTfQ0BGk5KrOL4JpZDaejhpvm\n",
       "Gm+rCuveQ++UnLvh9dMiiQbEtVxzr+lc3X3AKfne4znThfimG9q4RP9T7vu2zGZGLwV+0ebR2s6G\n",
       "43C0Aq/bpiJuePTaI240Obt7ZgCutVcz4p3bTI//V/dfM/Crra2bSf0X3S3psCBfgi0AAAAASUVO\n",
       "RK5CYII=\n",
       "\" style=\"display:inline;vertical-align:middle;\" /></a><br>"
      ],
      "text/plain": [
       "leftwardCommute: forall_{l, m, n in Naturals} [forall_{A, B, C, D | A_1 and  ...  and A_l and B_1 and  ...  and B_m and C and D_1 and  ...  and D_n} (A_1 and  ...  and A_l and C and B_1 and  ...  and B_m and D_1 and  ...  and D_n)]"
      ]
     },
     "execution_count": 35,
     "metadata": {},
     "output_type": "execute_result"
    }
   ],
   "source": [
    "leftwardCommute = Forall((l, m, n), Forall((AA,BB,C,DD), And(iterA1l, C, iterB1m,iterD1n),\n",
    "                                            conditions=[And(iterA1l, iterB1m, C, iterD1n)]), \n",
    "                              domain = Naturals)"
   ]
  },
  {
   "cell_type": "code",
   "execution_count": 36,
   "metadata": {},
   "outputs": [
    {
     "data": {
      "text/html": [
       "<strong id=\"association\"><a class=\"ProveItLink\" href=\"_proofs_/association.ipynb\">association</a>:</strong> <a class=\"ProveItLink\" href=\"__pv_it/7f615cfab5e90394313057d1b9a00466dcf8691f0/expr.ipynb\"><img src=\"data:image/png;base64,iVBORw0KGgoAAAANSUhEUgAABMYAAAAaBAMAAACukE24AAAAMFBMVEX///8QEBC6urrMzMxUVFRm\n",
       "ZmZERETc3NwyMjKqqqp2dnaIiIiYmJgiIiLu7u4AAAAU9Wx4AAAAAXRSTlMAQObYZgAACllJREFU\n",
       "aN7tW2tsXMUVPvuy93mNAaVFVbChEKii1NtCI1SkehVURVVVeSmkKATCppUcqU3k/WHFiEe8f1JC\n",
       "lOKtWn6lNFaVQKKgektEBCUVm4dTZFoSqdCqCMfrP4AaY7xxiPOwuZ0zM3fu7J3Z3Xvt9Z92R5rN\n",
       "eGbOt/MdfXfmzLkbAPdl+3gWmqVZPBX/+Idepp9reqxZvJd+KHnRmLHMmi+wSkrgqkdbnUGLSUr5\n",
       "AfcgtQ38j5s3Z097oCPNP6ln2yimFKwPV39zctFsTy6ZMdw5UV4fTwm0k0xjdHN616XGEvhPvLBc\n",
       "GruXV1IS1zzaag0+LU9P7zDde72mgX9ib3ZqxXX3EpPnh5Jatg1jimDG0K3Tn/TNLpqtskavjGHN\n",
       "lb8aJ/oKAo0i9sNh/PsFlxqL5sk/4dJyaewFeykjl+SBnfr5rdJKZAPR33aZ/GGmtQZaIKeBPDaC\n",
       "+0fXbF2wndr5OS1bt0zlfi1TCmZmAAa/cO82J9tcTQb1GUdNog+/Jdocr/2wA20zLjVGJ+5YLonF\n",
       "CqzieWAuyCO79AZh2z0VBqK/+zo6MaUz0AM5DaSxqNmJf83UBdulnT+mY+uaqdSvZUrBAib5HLzk\n",
       "3m1OtmM1GdRlDCMX8XNIQhujGsNdKZR3G/Pj47JxuTTmK7GKbEZMOQLZrn+A1p636csGov9t8gzG\n",
       "zaLOQA/kNJDG9tMNIpSpB2Yt1jF/UsfWNVOpX8uUgsVwBzk7795tTraTNRnUZRxhW+JPJLRJqrH4\n",
       "KwMDz7q+V44NDAws2/Xybl5J+YvPlPwTXK0PAde9JZoVBqK/jzyDiStaAz2Q00Aa65ijG0a+Hpi1\n",
       "WMf8lryGrWumUr+W6d0shicfEzn3bnOy5WuswqAuY59Jc1tvSmhY+wEu9/Z+6Fpjbb2924eXS2OP\n",
       "8ko28Nkw3aet2FSfNjFyCREpyAZ2v5mDwFBKZ1AFyGEgjUXMTNVvrwyk2WKd86NpDVu3TKV+PVMK\n",
       "1kbkct8lD25zsuVrrMKgHmPYf1lhjJVojNxdt7rWWDAJLZ4SsfcV3c/dyyuRfzokH1iv6s/naFEc\n",
       "8hUGoj9gfnX3xC1aAz2Q00AaC5rFqt9eUfhinfMjuL+EdtOSAo9MpX49UwrWXd79q3LevdsUtpFc\n",
       "LQb1GEPPvMIYK9HYHUSfYPSUXGnMnyKqJQ9TjXRApDIH4yFxcCOvACdIbEGegEDG+uIntZd4aLUO\n",
       "BmbAWYj+OLnnGH2kvVYx0AMJA3UsLO74dcD4YsOODIj/Bg1bt0ylfj1TCnaWXAM/vuLebQpbvkaF\n",
       "gTvGMDSrMMbaj5Yxotc11RJ+u34Mf9osNEbqcfL5FMVgucBoR7l9gR3I8S0rt74eqDhLfR72vIu8\n",
       "gnGV3IAzEHiY7cHxAu6fanmXbsKSAWch+oMYuXRdg+/8yGlQBcgy0IwlWBR0Vz0wa7FivuXIGQ1b\n",
       "t0zt/ipMKVjPl5g5GHbtNoUtW6PCwCVjmPiSyiIroWElGosVEwTroM73FzY8BmeipWjJ1thxwLsF\n",
       "fVB8fHVn0xCmu6S//T24bR7+wL96z55dRTvR8c6hQ49BfOPxdaPWfssmjO47rWgsWG7vMMm3RZiz\n",
       "yPoCKc3yzos8pmVwsLLfh7f8LhKhvOQ0qAIkDNSxMLvNfaUemLVYe34tjblkavdXYUrBOvCgMVOu\n",
       "3aawZWtUGbhjDEPU3KfRmJG7V0QHjgzOT3dOw98KaVljnyJchG5bD/IQ74kiROktdz9ZRGyOHqao\n",
       "zsLwhdvttFAsarzWGTkGN/pF8Esn7MuIre4WXuHX35v+xJwRnn+R1Oc0hzIBCjNClsHeyn6ajxy5\n",
       "bjlJMqgCJAzUMZoYgGiqHpi1WHu+dA6FxmnJgDemUn8VpghGs6lRs+DabQpbdlaqDNwxpqkQgAOa\n",
       "sxK2riMfeE2Nb1p9IHYsyVsAozjz1G+eljXW0k8uNTTs9/+7zLonshDGY9PANQVuwI2TqrMwHJ0C\n",
       "gu0nG9cpojH4YxEeMM7hu4JvkK9IsgnBpAgatvFqoMcm5oTnn+NE2OvSktVAvhEqWGEwV9mPAUor\n",
       "PvXMSfZASQbTGIy+9ufUWz+rGDM6UBlvgAJm45TkxYr5iIUudYYyHphK/VWYbuPhFQwuqGACx6jD\n",
       "lq1RYVDHfeJ7JnHTieW4eihanMX88OI5Kg2Aqa5iIkXfaGIryV4tnIpOfVfSWORxK8hK3MXzNGRL\n",
       "fQJjsBBmWowk5pxH2Ta1ejOcL2LSNp4mGvO/XoJzkXQiTpO+o3xCAo5/k3v9IK/9yK3vquUsGsLS\n",
       "W/Pn5G9jgTdYJEpnWAaUhdTfMwfGiYWs5SQxIDBoQzUwTs7D+3C6cuzZK79v/XsaFDCBQz/sxfL5\n",
       "iPUPXe7CA1O7vxrTgzS8ysJUx78UMBvH4TaFLV2jwqCO++z5rRPPl575wFKPnLsAH77CwYk734C2\n",
       "JP0ebGVZ8H4Khg9IGoOvYUKC0WJ5Gn+5dwvd93181yV3T6rOwoaVRdiURUURQcVCD34ERiaabzmK\n",
       "7wqI6tiEj2HMuiKvYbXNJOLtMc1Z7qxgp/WyZJKs0ljBG7hFAmBWUBhQFnY//qzAXFEUThIDAoM2\n",
       "VIPWCzmYZSGPGAM407HwCKhgAod+2Ivl8xELN51wp0NjHpiK/mpMOZhplnFDc4DZOJVuU9nSNSoM\n",
       "6rhPmh/fYn6Q5ephaFhRY3EioRY654fwLQjnWes2CPyzt/cXRGPPfCZr7D3AdAeR760wRI1i1/g+\n",
       "1naRbaGBHFNnYTh0PzN8OI3xGDxkp51D36+YwO+gWSliBOEsP213KnFApz1oJUoK+n7uJM1Alf5g\n",
       "gWwUzy8GTF1ssEDDHPVdknumar+T6ZLcJthOVrHzyJiqR36XxAnfg583wTEY9LPWBr+RYvuY/35Z\n",
       "Y1h+i7tjezt7m9pCpNWFN4q2WXaMEo1RdZJwK8pffxSpxobtrEbsI6oxawK/aA6z6nCWhxee91QZ\n",
       "eMnrm9NkLNM609kQMF8ylCZIR5QrfyOZLg3MYnukQe5D9TC0I5LGPo/Bk9nWGaLAM1HWuunrsJ5p\n",
       "DMacGlvFrg9naYeP6OttPByD81TC4M8wdQoJxdM/cGpsNJhXNSb/tmdRziIsGuOkQfJsxzPDDQEb\n",
       "BN+3k5jndpaGMl0KmMXWyDXGfUw9iEYRLY0FD0N30Z8h0enaV1jrURIqEWn7f9kJQXBo7DN6VEL3\n",
       "DJEjDOYgUk6SltGRh7Vp+kyt52fl00xQGOMTjT0izkoSjW2UJlilX1oRrvXQF95+Dhk8rO9/amiT\n",
       "Ny+tgkQy8PNsQ8BWQehVsjQVrKFMlwJmsQ1mG+M+ph5Eo4jS0qCotF4mJ17luySRdZu4BPGOcr67\n",
       "GO5YGG/fTARXhP9MrMQ8cKiTqjO+Z08vBcKE2EPwzqGXtwmkO/EnkmKC7Z0Cq/+D5ajmcW8k00aA\n",
       "HW0446MO+Qeyakt5X8mjqXwNYUJYVWez/B8XSWNxTauKxoxMLWHua7q1WfQaq1/Gxf+v/F0tYaaa\n",
       "bm0WOzgbf39xhvEav9ix3jw1S7Ow8l/qouGwscoIHwAAAABJRU5ErkJggg==\n",
       "\" style=\"display:inline;vertical-align:middle;\" /></a><br>"
      ],
      "text/plain": [
       "association: forall_{l, m, n in Naturals} [forall_{(A, B, C) in BOOLEANS^{l} * BOOLEANS^{m} * BOOLEANS^{n}} ((A_1 and  ...  and A_l and B_1 and  ...  and B_m and C_1 and  ...  and C_n) = (A_1 and  ...  and A_l and (B_1 and  ...  and B_m) and C_1 and  ...  and C_n))]"
      ]
     },
     "execution_count": 36,
     "metadata": {},
     "output_type": "execute_result"
    }
   ],
   "source": [
    "association = Forall((l,m,n), Forall((AA,BB,CC), Equals(And(iterA1l, iterB1m, iterC1n), \n",
    "                                                        And(iterA1l, And(iterB1m), iterC1n)),\n",
    "                                     domains = [Exp(Booleans,l), Exp(Booleans,m), Exp(Booleans,n)]),\n",
    "                     domain=Naturals)"
   ]
  },
  {
   "cell_type": "code",
   "execution_count": 37,
   "metadata": {},
   "outputs": [
    {
     "data": {
      "text/html": [
       "<strong id=\"disassociation\"><a class=\"ProveItLink\" href=\"_proofs_/disassociation.ipynb\">disassociation</a>:</strong> <a class=\"ProveItLink\" href=\"__pv_it/476071c00e6b276235b4d495e727fa43a9c7e8320/expr.ipynb\"><img src=\"data:image/png;base64,iVBORw0KGgoAAAANSUhEUgAABMYAAAAaBAMAAACukE24AAAAMFBMVEX///8QEBC6urrMzMxUVFRm\n",
       "ZmZERETc3NwyMjKqqqp2dnaIiIiYmJgiIiLu7u4AAAAU9Wx4AAAAAXRSTlMAQObYZgAACqdJREFU\n",
       "aN7tW2tsVMcVPvuwvc9rHCJoVIGdtklaIeqtkqKokcqKqEVVVbFpQlNCgE2rGqkN8v6wcBQSvD9K\n",
       "QxCNt2rzi6ZYFSSgVGUbFJQWKpaHaeS0wVKTVI1ivPxJokKMFwPmYXN7zjzunfvy3rXXUqXuSLNc\n",
       "z8z59nznfnfmzNwFwH/ZMpKDRmmUmkpw5MNahg83ItYotZceKNeiMW2eNV/kFUvoRo22rgbLAJp1\n",
       "LJWH/QPZDU463dyg35k7XYNv94xWVifSHmjMSyorC3Vg3E3e35maNdv6Mj3JNcYmp3d8aixJ/ySK\n",
       "86WxB0TFkrxZo62bQYjYfloZG9uq+4+63aDJbhoc3Z27uOiWf8Dl1/+mneguuqMJL7GMDsydMWj9\n",
       "S8c+6Z6YNdv6MmVse+Ag/f2ST43F6FGLlOdLYy+Zrhy6onZsdx/foniiGsh25mnrNWzQM65GrmB2\n",
       "g7yt/xDNH50TVQGl0zEdoxaUtzHvGCfiGdPTHtQ8IuHGGEDPAvRd9R86O1vVZu5M80xjW8k261Nj\n",
       "bODW+ZJYvMgrPdv6tNqzw90gYobGYiDbj7Il6BYFMe1m5A5mNxiy9sf0DvprvCqgdPrQZfrst6Ip\n",
       "5aj4Wn3YnRq4R8KVMbZiAPuu+A+dna1iUwemQ0xj9BQ1FXxqjM0y6+ZLY4Eyr8TmkK6uJlvcH6AV\n",
       "50z6qoFsX0ofx/E5TOglNyN3MLvBeWv/XjZJNGWrAUqno3yS+IEVTSlL+T+79HF3auAeCVfGEKdZ\n",
       "5OyU/9DZ2So2dWB6nmks8Vpv7/O+95VDvb2987a9/LKoWP4a0JXYhJe5p4CrjhqXFgPRHmTrUjfe\n",
       "uuR1VyN3MLtBc8HS3z7J7mWhGqB0OqCzE58/W9GUpIevnvHh9tsAfkE9GFMOT5ld3n/o7GwVmzow\n",
       "pdoDcK2r60PfGmvt6toyMF8ae0JUnLwnImyelnmp+7GJlk8amYJqINubmKd6HkL9aTcjDzCbAcQy\n",
       "an9Uz3p6YU2mhdN7r1maY/b1hnsJfan+y/5BPRjjDUK5PHilhtDZ2Zo29WBKFTWG+9bNvjUWTkFz\n",
       "TQexD5b8j90tKso/06RO339wX59jJWORtxjI9kiJJSif2zl6l6uRO5jdAKJ5tT+slzy9sBTp9Jop\n",
       "SzNH++FOKj83vAT4CWya8g/qwRjTq8rOX1YK/kPnYGva1IMpVdTYl1CfoK0p+9JYMI2qxYdohqOA\n",
       "qPX8pYZDgztEBTiBeQU+AaGs/OJnXDfv0CIXBW4gWMj2AD3nCdzraN349wqHkTuYYWAsZgvU/oix\n",
       "z68CKJ3utx4kcDQ1C2WzUWIBHL/qH9SDMaZiuBX8+Lr/0DnYmjb1YEq1hyzjqNflXgd9O74Pf9po\n",
       "aAzrMfx8lmHwM8BYe6Vtmi/IiaeWbH4zZFlLAzXMeZdFBe0G7oCzEHqMz8GJIs2fzvIOm4QVA8FC\n",
       "trd2sKcR70LnTfj69+xGHmDSwAzBuNqf5FnQfdUADadHWZoVzFnQlMK8hEsF6MSlxi+oB2OcS27T\n",
       "6cGA79A52Jo29WBKFTUWLyURa79b3C+sfRLOxMqxsqmxY0B7C/aQBIRnZzMQYbNksO1duHsKfi++\n",
       "eteuHSXzoOPtAweehMS6Y6sG5XzLBwzuOe3QWLjS1k47+SgPFPoXSru4d844sZUG+y3t7O4FaIff\n",
       "iRnKK3YjDzDDwKox2R/hu7nF1QANp/uZeaCKxta0tbGzCJ+gHowxT6fFRk/7Dp2DrWlTD6ZCY1r+\n",
       "ASMPsp1X/Wj7GPy9mFE19inBRdm09YhI8TaVIMZ2uXvRifgkW0xJncWBC18wj4PiMe2NjugRuCNo\n",
       "JL1swJ6sMdXdJSr86ptjn9BOXgTqZawvuCzKCBThhKTBbkt7gNTMziMP3ZKBUow8wAwDy+pm9LPD\n",
       "AYilqwEaTh9nK8g+61q5YYTKByC9jC4cG+vTwTeoB2N+mhrTi75D52Br2tSDqVgrYfMq/KBtamL9\n",
       "sn3xIylxBTBII0/9epuqseYefOxY2h/8d0W8A8lBhJZNjXwKLaCJk6mzOBC7CIgdxCCeQo3BH0vw\n",
       "sDZM7wq+gl+R4gPCKSNheFpUjYQ2Omlo7AVBhL8uLcsL4hvlez5pMGlpby6JBKWFnngeKNOorAIq\n",
       "7dJg8I2/pI/+mIKRV/u1dprE3wIHoIlVtjh9nh7FeF7ElKNZMlby8nyB1qacN6hmi4Q7Y5ZeQd+0\n",
       "M3QGhlaFrWnjydQWupmYJnjODy8PM2kAXOwsJdPsjSZdpfhrj1Oxi99QNBbdIJOs5H3ifAYfv02U\n",
       "gzXRKYuWoqP6QT5NLdsI50p0aJvIoMaCb5ZhOJpJJtih76AYkIRjXxXR3i9qD3HrviEDxdJXtmu+\n",
       "hH9r0+KCZ6JshDRgLMx2dkywZhK0E9PG3TM6DRx2oYAJA+3kFLwHpyWM2f/89d+1/CMDDkADi32Y\n",
       "TreMvlh+7n0ZU+fZBTW0fJsdbRW8QRljE9SDMaZXObjY/i9H6EwMW+gcbJUv8WJqDd2MTMXZBQTo\n",
       "FQ4N3P4WtKZYDOgqx5P3UzCwT9EYfJ4OJLgi+PlMsNL1FFvhAmLGxb0nU2dx7ZISrM+RolBQ8aZH\n",
       "PgItGys0H6Z3Bag6PuBjGJJb5OW8tuoo3jW6PiECFe4Q75ngPHqpLRIXNEXyFzGGAWNhtgfRnH5W\n",
       "oC8qGYEyOg0cdmG2S4OWC3mYYJKPdKj9AGfapx8HJ6CBxT5Mp3EnpL+fEzEVaJbtF/PyNspDx4XA\n",
       "C5QxNkC9GLeyX1HQWmALnYlhDZ2Treq5B1Nr6GZkSpU0lkAJNbMx34WvQaTAr+6G0AddXT9DjT33\n",
       "maqxd4GOO1C+S6GfGcVvinms9TKfQkN5rs7iQNND3PCxDOVj8Kh55Nz0LcsAsQfNKRkjGIEKsusO\n",
       "Rx7QYXbKZadobV+sdr7iYeQFFi7iJPGifPvjYjcjoIvTFFO3d0mL5wBqZzzr0Bls3Wxmz5S/SxK3\n",
       "9376XAhHoC/Ir9YGtTSfx4IPqRqj8huaHXEjxAY0o7Q6aUfROsGXUdQYUyemWzHx2qPENDZgnmrE\n",
       "P2IakwPERnOAV1uganjheb/17yFnoGoAS8WzLeMYu9c9BtQKSDF1Q5uLl3bGsw+dZFtfpq8rGrsU\n",
       "h2dyLeOowDMxfrXwi7CaawyG7Bq7l28fzrKGAOrrOC2O4SkmYQhmuToNCSUy37FrbDBccGpM/W3P\n",
       "rAKFLCzF8iukWgPVh892IjtAJ9R1iTyPqQvaXLy0M5516CTb+jJlbKXGwgdhZSmYhX/Citf41ROY\n",
       "KqGsg7/ogDDYNPYZWyph5TjKEfryEK2k8EprL8CKDJuKVou1chsXFOX4qLHHjbUSs7F1ygBZehSP\n",
       "yNcDV2v7OWT4oI2scjT0bP/62iJ1LyRToZ/mIOzx7qxWQB5TF7S5eGlnPOvQSbb1ZcrYKncUSo6r\n",
       "V3HFs75LMk7dRq9Aor1SWFmKtE+PtG1EwZXgP6NL6By4qYOpM7FrVxcDogOxR+HtA68+bSDdQz+R\n",
       "NAaYkSnyWreyrQ4Yh6Ge5fA8efm/Vw5LtorGQjnnleN9pcimCjMIEyJOdTbK/3FRNJZwufLQmJad\n",
       "SZh7GmFtFHeNVS8jxv+v/O1Mwkw3wtooZnI28t7sDBMz/GInVm4EtlHU8l8z29w9P6K16AAAAABJ\n",
       "RU5ErkJggg==\n",
       "\" style=\"display:inline;vertical-align:middle;\" /></a><br>"
      ],
      "text/plain": [
       "disassociation: forall_{l, m, n in Naturals} [forall_{(A, B, C) in BOOLEANS^{l} * BOOLEANS^{m} * BOOLEANS^{n}} ((A_1 and  ...  and A_l and (B_1 and  ...  and B_m) and C_1 and  ...  and C_n) = (A_1 and  ...  and A_l and B_1 and  ...  and B_m and C_1 and  ...  and C_n))]"
      ]
     },
     "execution_count": 37,
     "metadata": {},
     "output_type": "execute_result"
    }
   ],
   "source": [
    "disassociation = Forall((l,m,n), Forall((AA,BB,CC), Equals(And(iterA1l, And(iterB1m), iterC1n),\n",
    "                                                           And(iterA1l, iterB1m, iterC1n)),\n",
    "                                     domains = [Exp(Booleans,l), Exp(Booleans,m), Exp(Booleans,n)]),\n",
    "                     domain=Naturals)"
   ]
  },
  {
   "cell_type": "code",
   "execution_count": 38,
   "metadata": {},
   "outputs": [
    {
     "data": {
      "text/html": [
       "<strong id=\"associate\"><a class=\"ProveItLink\" href=\"_proofs_/associate.ipynb\">associate</a>:</strong> <a class=\"ProveItLink\" href=\"__pv_it/5bb27c32bb1602a217dc28cae1f6013fb7561d490/expr.ipynb\"><img src=\"data:image/png;base64,iVBORw0KGgoAAAANSUhEUgAAA5cAAAAZBAMAAABX6cfjAAAAMFBMVEX///8QEBC6urrMzMxUVFRm\n",
       "ZmZERETc3NwyMjKqqqp2dnaIiIiYmJgiIiLu7u4AAAAU9Wx4AAAAAXRSTlMAQObYZgAACO1JREFU\n",
       "aN7tWnuIXNUZ/+ax87xzZ8dtlbQ1k6UtLYSYCTVriZRdEqhQqTuttaC2ZlScIDFm/hA3GJvdFqxt\n",
       "aTMDJSBIyQhJNaC4UppWDOxImrSNYsb6CLauO6ESQ5smOzZqjLu5Pd953XPuPXcebUCX5sDexznf\n",
       "73fO/X7nfOcxC9B72jJbgUvpk5pWzdb7MW9e8tgnOcXHoNWPmPaS/dKV7DZa6xNnAoSnAbY6JH2q\n",
       "0DuRB2Ct8Fl8ca59nTXWO6NiT9mImHS4vdCjmBmKnF56Wka4k+bqfQJNgKvJn11dfvqdrf/uncgL\n",
       "uNEXJs/90X5+a+++1exvZGLuw+edPYqZwn6aaC09MXmbU47a8+MBH7LDfdQAIp96yykBTL5nBJnJ\n",
       "PICEpzzlEN+GnUI3QtFo3T7BxLwfb6UexaSG9y/BKPscD5qOOu8nimbjh5QoqwJ4fhpHQ8Qh18mz\n",
       "RpCRzAuw6nr50+/itdqVUDRat0c2Iib22YFaj2LSTnnzEhRzObv9zJlXMkfeMofkLe6IVQEiP4S3\n",
       "NI6JowtGkJHMC7AHtfKkQ0X6bldC3miPPbIRMa3HJyZ+0PNq9sjExMQSXNSGp5hDm/kLSu7654zG\n",
       "0ZVy4tIAIv/LeIk5OKFOmUBmMi8A7tbKQw7d9j3blZA32mt/NxUT3i+X/9qzmNlyeUt96Yk5wNo8\n",
       "Wai+qyxJpjJG45PuHkwDiPxb8JI9B/DVs0aQmcwLgL1a+e73g1uhraN4o732e5mYGwA29SxmtACx\n",
       "JXhykGjQ212wcUFZ3DTM08uT7kSiAUT+z+lk2v7JL9o1I8hM5gXAI1r5+EJwK9QkGu21f4SJ+QWi\n",
       "NtjjrZ7EDI+RLkMD14eMO9/OLbJ4cDj3+nYax+UOanXHqVgrfczJ5f8WZKlU4iZZnSlZt1+56bfK\n",
       "e4i2yRqEGVxOjrDMDMSnzJ+5TdAwwNsXtPzL8HKUfP8JMtgiJS8ogEwAZBrWyqti09KFUDS66tkV\n",
       "DTMxM5Am/XZV0AbtoW/DM7e5J0BNOMDcc563sQgJ2kmGP9cK5+kAkEvjfMeArJVaxGfVRpCprERp\n",
       "vKzONEXmXoJhFZClYp6pwWoSndZ+k2W+QKOSvyNMY/wBBRBuavk08I5fwI1BPfKdphcUQMYBykJZ\n",
       "K5+jHSZc6UYoGi3sFTYUM93ItEQE96R/3vQ9OJxqpVqumAeAraa+xWP2xgaksLcnF4nRTEUVcyAv\n",
       "ZdVUreulKfpGXP90MchYVOIClOoMgN2kjekPfGKO53LOIrn/imW+xbb/vr7fkkcMHJAqavlUzDyG\n",
       "KbIJTTa9oAAyAdDFlOVVumoOVboRikZLe11Me+pqMRF4UvqOHafhxemiKuZJVkX4jTY/IalAAiPu\n",
       "GRz2a0AVc9XuQTG831TH+pt66ddwfGWI66u1IGNRiQtQqvMDbNwFRAbVMIvUyaHTpycdKWaSSJQw\n",
       "zP+7yN/DzIID2Iwr85fhzhx3BimydeS+d0EBZBKgh1lZPkPD5h7oQigbLe31MAub1pML9mPr1pV7\n",
       "0vsL/AngEFod/OV2VczYfbSTZ77ksEzyrRtxMGzESP53Tcy/TIplfeyk0h7+IkvvRWR2HgbOBxqL\n",
       "SlyAUp0fMIBTk60GqRjKcZwomsEVPRMTfZKkYw6/xBYP1IW7qIUAZCta/j3oIDx/mVyUvpeFtkbo\n",
       "5guA6+M/aeXHMdKlp/yEksvWGi3smVKUjYq5q8n78anVjcwYPbrFpwLQmfZg6tQ6Rczk9/lK2KGi\n",
       "htvl25fRKOL2ORE+i1kSkKKIXWcpsxt7oaUREg8i9RdxNXR5OUe+9gajsayEjT0E8OrM7KGPfEso\n",
       "8v3xr9PdXk2IOSI+ycbQe6bJH+gChC7/JWANaPk4I0WJxqfyx4Tv3ULJgw9KvgC4Pt6rVzb309aD\n",
       "r4GP0OWiF9loYc+UklsTCBHHpBG84/eQLdAJAp8qEToYDkJ9jyImfJbWtRyq1J3p83zQUG1bqphr\n",
       "WomPIPIY9up7QVk2shdaCncSb7XwXHGmjiNz3RVGY1kJG2UIYNUFsGMn0n/gwSWM41wgLnVICGZi\n",
       "rhfHfPbl2NNL/CG6QpzYScB+0PLJWjGLP4G075G+dwslDz64+RLg+vhHGo4swJ3XKn5Cl4teZKOF\n",
       "PVWKsVExLaJBjBJeTzphosaehiHyerm8mYj54L9UMV+iUZasDOjcGSN+W41zMT3xHVTFfDmXJ3vk\n",
       "DKkpUoQ/uwOLvbBSAlgLFqlx6wqyOgA4ZjSWldBEAbw6M3sW55OQNjSvUF+YmCyy+FfCoG2vMG3W\n",
       "80PqRMt8bwAFkQkf0+M8Q3lnQn+jr6eTLz/O4yuEr+B1CPbDZJg93RS2x9jIDF+rigl84j1K30LE\n",
       "xzM4MMZJqItOK2KmxsBaZGKSYBhzj6noCyvFc/sbKCBP+uE5KqbBmFVi3Xxg/aEaB/DqzOzRBfqR\n",
       "hx79g8w/4hez9zSk7xGsus/3/ZBxH6cCfuzqlxCVYmxSzDNp2FaJzxMXHE6xp6HPw3VMTDjiFZNE\n",
       "WRidJ3YwOQXJdiH+MBz/ECJ3qXPmGrK2dpiYa4lStfhO2NYiF/rCS4lbyFCCZyFOhNw9RMU0GLNK\n",
       "kvvhsnCRA3h1ZnY7X4ORIjxaCnl/AvuvxLTnPX7f+T/4XvgYTsJFEZMpRdmkmNF9MNoIl+AVGHmc\n",
       "Pd3SgBNkUId/vAKi4BFz7ixY+XZttJHIL87mboPIAthPtV8tKGJmSBh+3llG3Y3LmlLkAxitkAt9\n",
       "4aVkZsAlTAx+6My+/OkWFdNvzCuBDXYzVeMAXp2ZHf4xd+UGPHp0z1Diyp7tgeqt/QnwDc9J1n2K\n",
       "L594r7+f6oWP2UgxiNMnIVOKsqnfCA3f06/Lmz3HeXqSCEvNLWm7ZuJunGPkPKO+ZE5BHFshrY91\n",
       "MIZmspixdEBndjhwlWTefhFPeuMX4V8t0oWL2CDGpooZqfiffGez+lGftLsmSMzIM/s6/ZjxO/39\n",
       "2s90OM21S6la7Dd6Azqyn4AjDfg/SqqYFhjHWQcxLcOg9o7MS+ljEbN7mu3t/2bHLvn140irZsf+\n",
       "A1sfkF4huuIzAAAAAElFTkSuQmCC\n",
       "\" style=\"display:inline;vertical-align:middle;\" /></a><br>"
      ],
      "text/plain": [
       "associate: forall_{l, m, n in Naturals} [forall_{A, B, C | A_1 and  ...  and A_l and B_1 and  ...  and B_m and C_1 and  ...  and C_n} (A_1 and  ...  and A_l and (B_1 and  ...  and B_m) and C_1 and  ...  and C_n)]"
      ]
     },
     "execution_count": 38,
     "metadata": {},
     "output_type": "execute_result"
    }
   ],
   "source": [
    "associate = Forall((l,m,n), Forall((AA,BB,CC), And(iterA1l, And(iterB1m), iterC1n), \n",
    "                                   conditions=[And(iterA1l, iterB1m, iterC1n)]),\n",
    "                   domain=Naturals)"
   ]
  },
  {
   "cell_type": "code",
   "execution_count": 39,
   "metadata": {},
   "outputs": [
    {
     "data": {
      "text/html": [
       "<strong id=\"disassociate\"><a class=\"ProveItLink\" href=\"_proofs_/disassociate.ipynb\">disassociate</a>:</strong> <a class=\"ProveItLink\" href=\"__pv_it/05755271d488cb5ac62fbe2850b431af401e72750/expr.ipynb\"><img src=\"data:image/png;base64,iVBORw0KGgoAAAANSUhEUgAAA5QAAAAZBAMAAAC83nzgAAAAMFBMVEX///8QEBC6urrMzMxUVFRm\n",
       "ZmZERETc3NwyMjKqqqp2dnaIiIiYmJgiIiLu7u4AAAAU9Wx4AAAAAXRSTlMAQObYZgAACQ9JREFU\n",
       "aN7tWmuMW8UVPvb129feuGlDeXqj0lCJonUKpCgI1kp+8AM1cVFRBRRiWnUjlYb4R5SNoGS3P2ha\n",
       "KcoaAb94ZJEINGraXVo1pU2qOE+pgZKljYhKWdZRJRqVPNYNZPPa3p45M3fuzPXYXMMisSIjrT2v\n",
       "77tz55tz5sx4AYKnVeMVuJQ+myk8/nYn3ccuzdhnOK2BeidSZmf72h2lL+tchzgTIOZgaiwNTtIe\n",
       "EL7f+WJlXwevovTfw6UkU3stoJQZ9mWPzlopb+JfmfMd4oyAY42TJ9c6heAs7QDhiY2V4/MuBFdS\n",
       "7R8tkJRbWX5TQClTVfxK1GetlOI9Rz5QK9eb+8aV11QBsr7rDBackhFg5PcDVMwIs/ue04HJ9P6D\n",
       "JOVahisHlJI6rp21SqaFf3Wm1drHzZ0T3pxrAFnfe4EpUzQBwMjvByiYlNPNSpNByXz9D5KUzMai\n",
       "1aBhD1vW98xaKUN8qSdGHHUfXGU2gEXvevOqAmT9LrQJ26mZAGDk9wMUzOYPyVGWg5L5+h8lKe2X\n",
       "+/sfCxzBHuzv75+9gezX+NefQ46iXuR6896/ZIfMagBZvxptInPWCFCTx+8HKJj8FHmNalAyX/9Y\n",
       "lUkJZ/r63g4sZVdf36rhWSvlvXwbOp0g9+QGI+ZDVnYwI/ctFeDVO4NgDRVNAD3Ykfw+gIJJOuWW\n",
       "TzeR+funSiQlRscrA0sZKUDs07gniBc66V39mE/ZyJdwKap6uW3mHSNVk9uOBpD1lvPln09cbgRo\n",
       "SfL7AQomorvdjyTz908OkpTX4hKA7PJ6ICnDRVwYFAzzk1Yq38hNc5s/kHvrUdqr5QLuaTvlWusj\n",
       "GpUhveDk8v90C4tltf3g1St/3/IRckgifYE+d0OahZFW2X2rdcbzB8QHRZYDxBTJetupQnY15hc1\n",
       "AXyzJvgloPkhCXlECUaW8B1pwnNIygykUeIbWh2OH78LXnnAu+0Zg508ghAnrUMlSFxkmflX1cN5\n",
       "WivS9vNtXbHWWlapTMnGfX7IXYopd7WEc2/A/JYYb0gi/Zd81zkIo3+yvsP9Hp6SIyaX8Br5KwUg\n",
       "pkjWR9j+2XMebv6WH6APXPK7AMNDMnwvvi4omezvqjRJUqZrGazfYpqL9+/+HhxI1VN1T8qdwEOr\n",
       "b5/hdStqkGLRVHIaO+2qqFJG81JUTdNhvTXF0KMKlajznA11R8FGSnInETSbcTDpqRYYZUiqlJFG\n",
       "Lu/gqyS5lPjyVtHw7u/KCwUXsEWvD7EDSg8eOJ/zA3TrlvwS0PyQBI+QLwtK5vXXpMwO3iS3Ed8x\n",
       "7PvrT8LroyVVymN8XOF/NHjdRAUSzNeeYqfVhaBKecPmOe6T3lHt/B299Ta0G9p/XSpRJxMVMijY\n",
       "kHTJSzlNlvkZa04LjDIkkWijeuL2k/92JqWUT+PfhuZ3T+KySfBl4AI26vUDbNmNXHBnXwFoyeOX\n",
       "gOaHpMlhpopBybz+moOFlUvwgy1t+77rX0xvL4gcwH7Wa++Tj6pSxtaQc8tcJ8JzXB4rmH2sYIby\n",
       "L03Kvw38z40bjqlXkcf01ocRGVKpRJ1MVOiahKjnm3ZwmiiL7LOFFhhlSCL9mHVnek5MSSk3iBni\n",
       "98t1N8MmMkleQAKm9PpD59iBf8ydfa+hrpJ5/BKw/7d/Ku74gYbJkot6FZrI9EFJMtmfcTG9eNgD\n",
       "T4+JpX28p5Yp2kWRK9B1EOxNHV+sSJm8n7JbgIfn4Ubfg7TW86PavkcBchc6tAjDLrYVi+EFarVw\n",
       "oVvDrwPc4lExANVJK6ZCz7y+nBcnXctpQmKJLwMTJt8UQzEXuYYNb/U5V0oKfijwP4Xl7LTI8PCD\n",
       "ergAbv1e/fIpyO6errizLxskB2U8fheQ3XMRDsM+neyxs8/H/1qCJjJ9UB6Z6M+4/u4dRiCEr5xm\n",
       "nda/Cl0FVku5ikUmsheGX1SkhCtpAq6BIZqo9HlhSqRsXZVyYT1xAawXmJt4GBSL4QVqBVybsXqC\n",
       "pBFUBKA6acVU2DWsWuUtnIatFVyviy8DE0YZkuvy0boddCfLHee0kDLS7V7oHcVxZ+eJDCwRxu8B\n",
       "aIq8evYzhzOvJmdfNkgOynj8LiD+/iCc5huvxGCwnZ/+LjST6YPyyER/xsWcRaKbS2nj68ao/U7c\n",
       "WhJVnpsP1lt9fQ+hlD85oUr5BvnXXI7fJcZwMnvYTSA57zmqlG/m8rjFZ1AZqwR/8QyGF3grAm4G\n",
       "uwpPeVQMQHVu4oXV3RhGKlISTRfbDdE5HwETRhmSe3Gnbj9cyjBo5yeZur1Gd3mMmuvF7BsaWvBH\n",
       "RtHAfzEzZJFRtk2Kizvxkjeyz7mwHQbCPHd3OFvkVhm+VZWSEm6kh6gUQhl3MStbXmO8ipS4J9vT\n",
       "XEr0mTHv4VTgrex2fhkDLPCoGGCZcqIRhTwux7Ow/5l9X2dn5AWcJnKRVh1J2YzhQ7Lv2SmjA3u4\n",
       "ScoOLnBvbNHwXKc3wYV0OT7ZPSNkoUK0hEy/UqQ8lYZ1lfgkzsuBFM/N/QrcwaWEg34p0b9C7yT2\n",
       "g4FBSDYK8Q1wFDeTH6p75UKMmx0QRgbpanwTrKvjBxVEK04tWhf8EU6wAI+oGIDXUe91dV6IY4Cz\n",
       "eS48Uw51f5V+CSCabL4Ki0okpQHDh5Tcrljmpk8gJU7RzEg5wBZYeXhGyAYg9I0CP5y5Uka2Qm8t\n",
       "XMY9dNHLPHdvDd5DvcM/64YI+KSc+ADsfKPaW0vkp8dzD4B1EbK/bhwuKFJm0AHvdi53jQzK1hT0\n",
       "VvCDCqIVfT+LcmLsvCSoGIDXUe/eCi/81Bl/80t1PB+foB9Y7+I08J+Jq9lJ+giYMGJIS5V7kzXK\n",
       "VeEvP+zsJ/TIVnP9I0P3dTb9CyBTsH5UmRGyBRDdhkOr6O8GtabcS7hX6hd3epIIG3w3N96hFp/C\n",
       "HiRHrhYyxyHOZlX9SQABvM6dcrWQwVB8rMZ+atU4j0AbzFh6j4x94rP3HyDapd/5lqlVac413cHq\n",
       "l3qy3zdbSWm9srXNEKJ/cK9vysEA76FNPlTgl0NeuvWKNpe92bK9DT4PSZHSBqONtZHSNhi03yoD\n",
       "pmc783VwKbWT8qPTeLD/gy1+jHHYHf3I9ZtLwjWdU8YP/x+ou4qnpDuHawAAAABJRU5ErkJggg==\n",
       "\" style=\"display:inline;vertical-align:middle;\" /></a><br>"
      ],
      "text/plain": [
       "disassociate: forall_{l, m, n in Naturals} [forall_{A, B, C | A_1 and  ...  and A_l and (B_1 and  ...  and B_m) and C_1 and  ...  and C_n} (A_1 and  ...  and A_l and B_1 and  ...  and B_m and C_1 and  ...  and C_n)]"
      ]
     },
     "execution_count": 39,
     "metadata": {},
     "output_type": "execute_result"
    }
   ],
   "source": [
    "disassociate = Forall((l,m,n), Forall((AA,BB,CC), And(iterA1l, iterB1m, iterC1n), \n",
    "                                      conditions=[And(iterA1l, And(iterB1m), iterC1n)]),\n",
    "                   domain=Naturals)"
   ]
  },
  {
   "cell_type": "code",
   "execution_count": 40,
   "metadata": {},
   "outputs": [
    {
     "name": "stdout",
     "output_type": "stream",
     "text": [
      "Theorems may be imported from autogenerated _theorems_.py\n"
     ]
    }
   ],
   "source": [
    "%end theorems"
   ]
  },
  {
   "cell_type": "code",
   "execution_count": null,
   "metadata": {},
   "outputs": [],
   "source": []
  }
 ],
 "metadata": {
  "kernelspec": {
   "display_name": "Python 3",
   "language": "python",
   "name": "python3"
  }
 },
 "nbformat": 4,
 "nbformat_minor": 0
}
