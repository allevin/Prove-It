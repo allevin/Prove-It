{
 "cells": [
  {
   "cell_type": "markdown",
   "metadata": {},
   "source": [
    "Proof of <a class=\"ProveItLink\" href=\"../../../../_context_.ipynb\">proveit</a>.<a class=\"ProveItLink\" href=\"../../../_context_.ipynb\">logic</a>.<a class=\"ProveItLink\" href=\"../../_context_.ipynb\">boolean</a>.<a class=\"ProveItLink\" href=\"../_context_.ipynb\">conjunction</a>.<a class=\"ProveItLink\" href=\"../_theorems_.ipynb#disassociation\">disassociation</a> theorem\n",
    "========"
   ]
  },
  {
   "cell_type": "code",
   "execution_count": 1,
   "metadata": {},
   "outputs": [],
   "source": [
    "import proveit\n",
    "context = proveit.Context('..') # the theorem's context is in the parent directory"
   ]
  },
  {
   "cell_type": "code",
   "execution_count": 2,
   "metadata": {},
   "outputs": [
    {
     "name": "stdout",
     "output_type": "stream",
     "text": [
      "Beginning proof of disassociation\n",
      "Recorded 'presuming' information\n",
      "Presuming previous theorems (applied transitively).\n"
     ]
    },
    {
     "data": {
      "text/html": [
       "<strong id=\"disassociation\">disassociation:</strong> <a class=\"ProveItLink\" href=\"../__pv_it/476071c00e6b276235b4d495e727fa43a9c7e8320/expr.ipynb\"><img src=\"data:image/png;base64,iVBORw0KGgoAAAANSUhEUgAABMYAAAAaBAMAAACukE24AAAAMFBMVEX///8QEBC6urrMzMxUVFRm\n",
       "ZmZERETc3NwyMjKqqqp2dnaIiIiYmJgiIiLu7u4AAAAU9Wx4AAAAAXRSTlMAQObYZgAACqdJREFU\n",
       "aN7tW2tsVMcVPvuwvc9rHCJoVIGdtklaIeqtkqKokcqKqEVVVbFpQlNCgE2rGqkN8v6wcBQSvD9K\n",
       "QxCNt2rzi6ZYFSSgVGUbFJQWKpaHaeS0wVKTVI1ivPxJokKMFwPmYXN7zjzunfvy3rXXUqXuSLNc\n",
       "z8z59nznfnfmzNwFwH/ZMpKDRmmUmkpw5MNahg83ItYotZceKNeiMW2eNV/kFUvoRo22rgbLAJp1\n",
       "LJWH/QPZDU463dyg35k7XYNv94xWVifSHmjMSyorC3Vg3E3e35maNdv6Mj3JNcYmp3d8aixJ/ySK\n",
       "86WxB0TFkrxZo62bQYjYfloZG9uq+4+63aDJbhoc3Z27uOiWf8Dl1/+mneguuqMJL7GMDsydMWj9\n",
       "S8c+6Z6YNdv6MmVse+Ag/f2ST43F6FGLlOdLYy+Zrhy6onZsdx/foniiGsh25mnrNWzQM65GrmB2\n",
       "g7yt/xDNH50TVQGl0zEdoxaUtzHvGCfiGdPTHtQ8IuHGGEDPAvRd9R86O1vVZu5M80xjW8k261Nj\n",
       "bODW+ZJYvMgrPdv6tNqzw90gYobGYiDbj7Il6BYFMe1m5A5mNxiy9sf0DvprvCqgdPrQZfrst6Ip\n",
       "5aj4Wn3YnRq4R8KVMbZiAPuu+A+dna1iUwemQ0xj9BQ1FXxqjM0y6+ZLY4Eyr8TmkK6uJlvcH6AV\n",
       "50z6qoFsX0ofx/E5TOglNyN3MLvBeWv/XjZJNGWrAUqno3yS+IEVTSlL+T+79HF3auAeCVfGEKdZ\n",
       "5OyU/9DZ2So2dWB6nmks8Vpv7/O+95VDvb2987a9/LKoWP4a0JXYhJe5p4CrjhqXFgPRHmTrUjfe\n",
       "uuR1VyN3MLtBc8HS3z7J7mWhGqB0OqCzE58/W9GUpIevnvHh9tsAfkE9GFMOT5ld3n/o7GwVmzow\n",
       "pdoDcK2r60PfGmvt6toyMF8ae0JUnLwnImyelnmp+7GJlk8amYJqINubmKd6HkL9aTcjDzCbAcQy\n",
       "an9Uz3p6YU2mhdN7r1maY/b1hnsJfan+y/5BPRjjDUK5PHilhtDZ2Zo29WBKFTWG+9bNvjUWTkFz\n",
       "TQexD5b8j90tKso/06RO339wX59jJWORtxjI9kiJJSif2zl6l6uRO5jdAKJ5tT+slzy9sBTp9Jop\n",
       "SzNH++FOKj83vAT4CWya8g/qwRjTq8rOX1YK/kPnYGva1IMpVdTYl1CfoK0p+9JYMI2qxYdohqOA\n",
       "qPX8pYZDgztEBTiBeQU+AaGs/OJnXDfv0CIXBW4gWMj2AD3nCdzraN349wqHkTuYYWAsZgvU/oix\n",
       "z68CKJ3utx4kcDQ1C2WzUWIBHL/qH9SDMaZiuBX8+Lr/0DnYmjb1YEq1hyzjqNflXgd9O74Pf9po\n",
       "aAzrMfx8lmHwM8BYe6Vtmi/IiaeWbH4zZFlLAzXMeZdFBe0G7oCzEHqMz8GJIs2fzvIOm4QVA8FC\n",
       "trd2sKcR70LnTfj69+xGHmDSwAzBuNqf5FnQfdUADadHWZoVzFnQlMK8hEsF6MSlxi+oB2OcS27T\n",
       "6cGA79A52Jo29WBKFTUWLyURa79b3C+sfRLOxMqxsqmxY0B7C/aQBIRnZzMQYbNksO1duHsKfi++\n",
       "eteuHSXzoOPtAweehMS6Y6sG5XzLBwzuOe3QWLjS1k47+SgPFPoXSru4d844sZUG+y3t7O4FaIff\n",
       "iRnKK3YjDzDDwKox2R/hu7nF1QANp/uZeaCKxta0tbGzCJ+gHowxT6fFRk/7Dp2DrWlTD6ZCY1r+\n",
       "ASMPsp1X/Wj7GPy9mFE19inBRdm09YhI8TaVIMZ2uXvRifgkW0xJncWBC18wj4PiMe2NjugRuCNo\n",
       "JL1swJ6sMdXdJSr86ptjn9BOXgTqZawvuCzKCBThhKTBbkt7gNTMziMP3ZKBUow8wAwDy+pm9LPD\n",
       "AYilqwEaTh9nK8g+61q5YYTKByC9jC4cG+vTwTeoB2N+mhrTi75D52Br2tSDqVgrYfMq/KBtamL9\n",
       "sn3xIylxBTBII0/9epuqseYefOxY2h/8d0W8A8lBhJZNjXwKLaCJk6mzOBC7CIgdxCCeQo3BH0vw\n",
       "sDZM7wq+gl+R4gPCKSNheFpUjYQ2Omlo7AVBhL8uLcsL4hvlez5pMGlpby6JBKWFnngeKNOorAIq\n",
       "7dJg8I2/pI/+mIKRV/u1dprE3wIHoIlVtjh9nh7FeF7ElKNZMlby8nyB1qacN6hmi4Q7Y5ZeQd+0\n",
       "M3QGhlaFrWnjydQWupmYJnjODy8PM2kAXOwsJdPsjSZdpfhrj1Oxi99QNBbdIJOs5H3ifAYfv02U\n",
       "gzXRKYuWoqP6QT5NLdsI50p0aJvIoMaCb5ZhOJpJJtih76AYkIRjXxXR3i9qD3HrviEDxdJXtmu+\n",
       "hH9r0+KCZ6JshDRgLMx2dkywZhK0E9PG3TM6DRx2oYAJA+3kFLwHpyWM2f/89d+1/CMDDkADi32Y\n",
       "TreMvlh+7n0ZU+fZBTW0fJsdbRW8QRljE9SDMaZXObjY/i9H6EwMW+gcbJUv8WJqDd2MTMXZBQTo\n",
       "FQ4N3P4WtKZYDOgqx5P3UzCwT9EYfJ4OJLgi+PlMsNL1FFvhAmLGxb0nU2dx7ZISrM+RolBQ8aZH\n",
       "PgItGys0H6Z3Bag6PuBjGJJb5OW8tuoo3jW6PiECFe4Q75ngPHqpLRIXNEXyFzGGAWNhtgfRnH5W\n",
       "oC8qGYEyOg0cdmG2S4OWC3mYYJKPdKj9AGfapx8HJ6CBxT5Mp3EnpL+fEzEVaJbtF/PyNspDx4XA\n",
       "C5QxNkC9GLeyX1HQWmALnYlhDZ2Treq5B1Nr6GZkSpU0lkAJNbMx34WvQaTAr+6G0AddXT9DjT33\n",
       "maqxd4GOO1C+S6GfGcVvinms9TKfQkN5rs7iQNND3PCxDOVj8Kh55Nz0LcsAsQfNKRkjGIEKsusO\n",
       "Rx7QYXbKZadobV+sdr7iYeQFFi7iJPGifPvjYjcjoIvTFFO3d0mL5wBqZzzr0Bls3Wxmz5S/SxK3\n",
       "9376XAhHoC/Ir9YGtTSfx4IPqRqj8huaHXEjxAY0o7Q6aUfROsGXUdQYUyemWzHx2qPENDZgnmrE\n",
       "P2IakwPERnOAV1uganjheb/17yFnoGoAS8WzLeMYu9c9BtQKSDF1Q5uLl3bGsw+dZFtfpq8rGrsU\n",
       "h2dyLeOowDMxfrXwi7CaawyG7Bq7l28fzrKGAOrrOC2O4SkmYQhmuToNCSUy37FrbDBccGpM/W3P\n",
       "rAKFLCzF8iukWgPVh892IjtAJ9R1iTyPqQvaXLy0M5516CTb+jJlbKXGwgdhZSmYhX/Citf41ROY\n",
       "KqGsg7/ogDDYNPYZWyph5TjKEfryEK2k8EprL8CKDJuKVou1chsXFOX4qLHHjbUSs7F1ygBZehSP\n",
       "yNcDV2v7OWT4oI2scjT0bP/62iJ1LyRToZ/mIOzx7qxWQB5TF7S5eGlnPOvQSbb1ZcrYKncUSo6r\n",
       "V3HFs75LMk7dRq9Aor1SWFmKtE+PtG1EwZXgP6NL6By4qYOpM7FrVxcDogOxR+HtA68+bSDdQz+R\n",
       "NAaYkSnyWreyrQ4Yh6Ge5fA8efm/Vw5LtorGQjnnleN9pcimCjMIEyJOdTbK/3FRNJZwufLQmJad\n",
       "SZh7GmFtFHeNVS8jxv+v/O1Mwkw3wtooZnI28t7sDBMz/GInVm4EtlHU8l8z29w9P6K16AAAAABJ\n",
       "RU5ErkJggg==\n",
       "\" style=\"display:inline;vertical-align:middle;\" /></a><br>(see <a class=\"ProveItLink\" href=\"../__pv_it/476071c00e6b276235b4d495e727fa43a9c7e8320/dependencies.ipynb\">dependencies</a>)<br>"
      ],
      "text/plain": [
       "disassociation: forall_{l, m, n in Naturals} [forall_{(A, B, C) in BOOLEANS^{l} * BOOLEANS^{m} * BOOLEANS^{n}} ((A_1 and  ...  and A_l and (B_1 and  ...  and B_m) and C_1 and  ...  and C_n) = (A_1 and  ...  and A_l and B_1 and  ...  and B_m and C_1 and  ...  and C_n))]"
      ]
     },
     "execution_count": 2,
     "metadata": {},
     "output_type": "execute_result"
    }
   ],
   "source": [
    "%proving disassociation presuming []"
   ]
  },
  {
   "cell_type": "code",
   "execution_count": null,
   "metadata": {},
   "outputs": [],
   "source": []
  }
 ],
 "metadata": {
  "kernelspec": {
   "display_name": "Python 3",
   "language": "python",
   "name": "python3"
  }
 },
 "nbformat": 4,
 "nbformat_minor": 0
}
