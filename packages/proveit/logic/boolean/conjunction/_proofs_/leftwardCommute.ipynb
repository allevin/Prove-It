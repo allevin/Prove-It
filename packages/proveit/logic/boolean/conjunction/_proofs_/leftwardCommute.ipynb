{
 "cells": [
  {
   "cell_type": "markdown",
   "metadata": {},
   "source": [
    "Proof of <a class=\"ProveItLink\" href=\"../../../../_context_.ipynb\">proveit</a>.<a class=\"ProveItLink\" href=\"../../../_context_.ipynb\">logic</a>.<a class=\"ProveItLink\" href=\"../../_context_.ipynb\">boolean</a>.<a class=\"ProveItLink\" href=\"../_context_.ipynb\">conjunction</a>.<a class=\"ProveItLink\" href=\"../_theorems_.ipynb#leftwardCommute\">leftwardCommute</a> theorem\n",
    "========"
   ]
  },
  {
   "cell_type": "code",
   "execution_count": 1,
   "metadata": {},
   "outputs": [],
   "source": [
    "import proveit\n",
    "context = proveit.Context('..') # the theorem's context is in the parent directory"
   ]
  },
  {
   "cell_type": "code",
   "execution_count": 2,
   "metadata": {},
   "outputs": [
    {
     "name": "stdout",
     "output_type": "stream",
     "text": [
      "Beginning proof of leftwardCommute\n",
      "Recorded 'presuming' information\n",
      "Presuming previous theorems (applied transitively).\n"
     ]
    },
    {
     "data": {
      "text/html": [
       "<strong id=\"leftwardCommute\">leftwardCommute:</strong> <a class=\"ProveItLink\" href=\"../__pv_it/fab21a7b21132234b9a72c1fbd8641c7de98373c0/expr.ipynb\"><img src=\"data:image/png;base64,iVBORw0KGgoAAAANSUhEUgAAA+EAAAAZBAMAAACsvjI8AAAAMFBMVEX///8QEBC6urrMzMxUVFRm\n",
       "ZmZERETc3NwyMjKqqqp2dnaIiIiYmJgiIiLu7u4AAAAU9Wx4AAAAAXRSTlMAQObYZgAACcFJREFU\n",
       "aN7tWmuMG1cVPuvx+jEej3dZSNpSxVvx+hGFdQUJKFFlK1UAgei60ICaQuPycAUhXf+A7IpAbJBK\n",
       "CqK1paoIqUIxolCKULM8lAIJWpc0FaQV6/Io4rFdR4IkUlJnd7N5bbIZzrn3zp079viFitRucyWP\n",
       "75x77jl3znfPY64N0H3bOZODa+013dbNlHthr16z2Gu+BVNQ6wVxc6UZYC3/SpZ6nNfthDEL2xsT\n",
       "XcsNEP/8ra+MsAZpxjBHnDnuc10iHmUzJ1cM4FqKf8+We5zoOeHUZ7ZWvuQmmcU19RNjZ7sXfHK+\n",
       "Xt9leaNqFq/WT0xd7mGZJ616fbdl4/VRjvgT1H+oS8R12tqh2opBXDyKbqXUwNfi+fY4XdcEm67f\n",
       "CPC2GxtEWBmA/LmOsiU9dh5vrLS3YqsAELaGe5B2ES/7Fuyn5Yjvoq9Ml4gzxl0rJ6gfFDHaUkuU\n",
       "UNqb+X4lqKsTBN18EO2sX3CL0MjB8osdZUt68jIhnvJUrFkUWeKZHqQt4aXvvB3Wywxx2ub9pS4R\n",
       "Z8HgzpWD+Br+9S1rTiFueMk7A+x0PEqdYNNDJMw34BYRoQA9faWTbIc+hRnAsCqeiiMW4VQc6EHa\n",
       "JVrYvJ0VBhjixuPj41/tulY/Oj4+vnJKdl+BW7Iav6pQNx/0ZPavlfWLa4JN305wBNNuEQGLkn6h\n",
       "k2yHPoZbKXrRW3HAIuhn53qQRsuMWjb9cwxxOJ/N/qNrxGPZ7M7yikG8nz9KPlFcUOqjQtS7CnLe\n",
       "Tl0TBD3IYDITbhGUSN+72FG2Q8dUrRVT3opjy4xjoAdpNDNm+zj8kCOOxfu9XSPuT0Bg5RzDhHj0\n",
       "/Cxsv6JUZRXvJPdTJ525Jgh6v6eI5PwDD86XOsqWdM267oHZ61soTp5jHJkepFHISdp5HL7LEX8r\n",
       "7gkwR2tdIe5L4ZZjAfESFx6fH1zmQeeXW598ip6cKNx3fDJ6XmondkRd9vetwfg/W3Eq2pwW2bLt\n",
       "lNiEim4vj24a7WNlrzEAU2TLDZwYhWDB++kn7AqIT/j3VZUeveCwOiKm8cmPo59rmbayJd3AVG2O\n",
       "FbwVkzBM5pOdVuqShslcvs/dxBGPQgS3+rpWb6z3fwR+drdz5laFQ9xYS2IVaQix3X1LBQIs3kxj\n",
       "bcATUUBadqkd4nEVBQNNWay0YpXalAX+C+AeOS51e85uHI0xxM+UYATdYP2HOfE5FvaamjFJAQ6U\n",
       "Cb6qSo+x9Go2iBjFXeGzytod1XayHbqfUvXIkrfiUdpUIavWYaWqNHKFoqw5khzxSCVaYyHe40hh\n",
       "6yfgWb2m1xzEDwGvA28XoWJ7BXRyEB/WmGG2kUcRr9GSC/HbZVxxuVhZuJ4IU7odHPenFYKL2dam\n",
       "0EbQGt+xxx3dXqrUUQXx0cFBizLk9zgRn+/dXo5Tk+c1YoKeVul9DPGHG0TEKS7iy1a42k62Q++j\n",
       "hYwseiuOk0fllzqtVJFGGTxolRsQNws0/G2PmZFP7anD85NpFfGTXLvv76IcmM1BiILNMRSrsYA7\n",
       "ixBMpVXEJTNzSJd3Ylu3T5Qit1REcCyWFIKL2dbm0MwbsLNJjkvdXqqUURF7SFF4qF7PWxLxMDKE\n",
       "PEqVR/Czl3OICbwKsOl+5klptwh2lqJjHOaIt5Lt0Nlhzf7Lnor5a3qx2mmlijTaOqFlaIjqcO9m\n",
       "vFDAMO5a+1jkQEL0AI4Q1+GHd6uIB77I/CL6DosT8cm30x7aTyGNSCYZb78LcckMgZPqqS+/+VNe\n",
       "RJ37Cjw49ttB7b5CI7OtzaHp5Fp1Ma7o9lCljgoyYXasRC8wOduOZCuyGQ/Q7MIWv1cY35kQy6l0\n",
       "jWDilpIieCLNo8k54s5AzSXboVOqDmKFfeTnv0kd/DS4FLPXdP9yrWmlraVRBhx9ScAJ8HuB+CO4\n",
       "Go387PRIJZoyUqKXAGbww/rpjQri4U+KOp8f9vnms/ew0vJFucMogo9Nqohz5tuwt9FQ3Jbf6OnY\n",
       "AmgYYrTy8xTRVmUHS5yZE1Rmqc2hRTPKuK3bW5WyMrsSRLsE38fedEu2HTfYT3rGvpjkJKz0Yi89\n",
       "csLN4KJPl8D3cbcIlkhPx/9mIy4HmEgpW5mAqdp8ejln/u4K/AWecSvwWwlz9+xt0LTS1tLOwonf\n",
       "LtYEnPLtDPrQCBGSu+dXEEuw7ES9nMa86TCUH1MQhzezZayBIjNdZEl4nSw2dOrxnwIE4px542ry\n",
       "WlDclt/cXAuhd+B2DtTo3HeqTD7OmDlBZZbaHFqsrIwL3S1UKSuz0w0+kWVdRVtaSOd23Gyfvh7L\n",
       "iIu5isxNGzxCzywnHAAXXfvAFvEWJUXE2G9XXwAbcTnARErZDp34rVUVCJ4qwFleW0kFTNgy/RrS\n",
       "uNK20v6aEHAi4esCcQMBDTD8PoT7NlTivZtAezGb3YGIf+VlFfE/sjiNtQvL54EFdEsKrJROT7GY\n",
       "siC8SSIumHGna2n4g5Nb+c0Lg3HMNhhi1oOBqseGsdJhzIKgMkttDq0PETcnxbit21uVsjK7rVZv\n",
       "uB2HXe+VzuZwBu22owXdSwRHvIVsD7p/EqPuN1spaLtSLzrBKU9ZRQ3zLroOwQHI+3hvq89McR/3\n",
       "bVIRZw2zwjS7owp1ipzpY/h5ktW/mJVfXq0iLpgRBn/Nqd/FjY5vTMvsFxoMV3iN44a+yBHnBJWZ\n",
       "azPuPLT5SEnQ+jMse/JxW7e3KjF65NFn5MDRZjt234Z6+KU63OPRdF8ikgnODbcY7XWlDE6006SC\n",
       "+JkITOSCc7gZntV5b+gt8H6OOBxtRBzjNCTnkA/yBQjPJ4J7qZzRE0RJVsEn/h0VUJkJhvUIZyn4\n",
       "EEzU8MJuMKiDZtGvOuiH8Gt2VrlvyPZSJDDWiRpn5trCB+ANvrSQZmJe/4HoS93eqsToo5k+59Ct\n",
       "9r/b0Zyb/P8hnkcvNzLlVwhxDic7O5OI+5+AZMWXgT/Dhsd5b1sFjuMe831jGPzQgPjsIhjx+VKy\n",
       "EoovzwzeDdoVMO/Yhi7OKdeJmimgMhMMVHVktAuQzOGF3UQx3j9tXY/Jyk+5Bb5mzbzwpprtpUhg\n",
       "rMkcYxba4FazqovqLgP/2fKTmuhL3Z6q7FF/YsIxhXKC/eXiXb3Z8YPd/3Em+ONzvf2N5O0QTWif\n",
       "b3Ge3fNKOZzMg9UnhkpT70fZHQ2nrO4mZxjNMtQTGNYQBnoC+RTqTfQ0BGk5KrOL4JpZDaejhpvm\n",
       "Gm+rCuveQ++UnLvh9dMiiQbEtVxzr+lc3X3AKfne4znThfimG9q4RP9T7vu2zGZGLwV+0ebR2s6G\n",
       "43C0Aq/bpiJuePTaI240Obt7ZgCutVcz4p3bTI//V/dfM/Crra2bSf0X3S3psCBfgi0AAAAASUVO\n",
       "RK5CYII=\n",
       "\" style=\"display:inline;vertical-align:middle;\" /></a><br>(see <a class=\"ProveItLink\" href=\"../__pv_it/fab21a7b21132234b9a72c1fbd8641c7de98373c0/dependencies.ipynb\">dependencies</a>)<br>"
      ],
      "text/plain": [
       "leftwardCommute: forall_{l, m, n in Naturals} [forall_{A, B, C, D | A_1 and  ...  and A_l and B_1 and  ...  and B_m and C and D_1 and  ...  and D_n} (A_1 and  ...  and A_l and C and B_1 and  ...  and B_m and D_1 and  ...  and D_n)]"
      ]
     },
     "execution_count": 2,
     "metadata": {},
     "output_type": "execute_result"
    }
   ],
   "source": [
    "%proving leftwardCommute presuming []"
   ]
  },
  {
   "cell_type": "code",
   "execution_count": null,
   "metadata": {},
   "outputs": [],
   "source": []
  }
 ],
 "metadata": {
  "kernelspec": {
   "display_name": "Python 3",
   "language": "python",
   "name": "python3"
  }
 },
 "nbformat": 4,
 "nbformat_minor": 0
}
