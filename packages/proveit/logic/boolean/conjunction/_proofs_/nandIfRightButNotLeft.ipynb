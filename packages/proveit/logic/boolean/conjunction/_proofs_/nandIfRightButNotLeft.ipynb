{
 "cells": [
  {
   "cell_type": "markdown",
   "metadata": {},
   "source": [
    "Proof of <a class=\"ProveItLink\" href=\"../../../../_context_.ipynb\">proveit</a>.<a class=\"ProveItLink\" href=\"../../../_context_.ipynb\">logic</a>.<a class=\"ProveItLink\" href=\"../../_context_.ipynb\">boolean</a>.<a class=\"ProveItLink\" href=\"../_context_.ipynb\">conjunction</a>.<a class=\"ProveItLink\" href=\"../_theorems_.ipynb#nandIfRightButNotLeft\">nandIfRightButNotLeft</a> theorem\n",
    "========"
   ]
  },
  {
   "cell_type": "code",
   "execution_count": 1,
   "metadata": {},
   "outputs": [],
   "source": [
    "import proveit\n",
    "from proveit._common_ import A, B\n",
    "from proveit import defaults\n",
    "from proveit.logic.boolean.conjunction._theorems_ import falseAndTrueNegated\n",
    "from proveit.logic.boolean.conjunction._axioms_ import andFT\n",
    "from proveit.logic.boolean.negation._axioms_ import negationIntro, negationElim\n",
    "from proveit.logic.equality._axioms_ import equalsTransitivity\n",
    "from proveit.logic.boolean._axioms_ import eqTrueIntro\n",
    "context = proveit.Context('..') # the theorem's context is in the parent directory"
   ]
  },
  {
   "cell_type": "code",
   "execution_count": 2,
   "metadata": {},
   "outputs": [
    {
     "name": "stdout",
     "output_type": "stream",
     "text": [
      "Beginning proof of nandIfRightButNotLeft\n",
      "Recorded 'presuming' information\n",
      "Presuming previous theorems (applied transitively).\n"
     ]
    },
    {
     "data": {
      "text/html": [
       "<strong id=\"nandIfRightButNotLeft\">nandIfRightButNotLeft:</strong> <a class=\"ProveItLink\" href=\"../__pv_it/d0569cc6bbb5356494003b40b073257ea35f9a6b0/expr.ipynb\"><img src=\"data:image/png;base64,iVBORw0KGgoAAAANSUhEUgAAANYAAAAXBAMAAACFeawMAAAAMFBMVEX///8QEBC6urrMzMxUVFRm\n",
       "ZmZERETc3NwyMjKqqqp2dnaIiIiYmJgiIiLu7u4AAAAU9Wx4AAAAAXRSTlMAQObYZgAAAupJREFU\n",
       "SMe9Vk1oE0EYfZu/jWaTBi/qRSN4EKo0B6EnSdBQvaUgERRK48EUQdscxFZEGwoSD6K5VLyZi1pR\n",
       "JKCecsjqqerBeMhFKkZR6EUs0h+VUv3m291kshtzWNSBZL753s68nbdvvl3gP7am65n9Uuyp9Lry\n",
       "Of20GFAXg1cuqLxJabDf6A7YrtHSy6mhGfjjFB8F7ovcdRdcQVkRc4Eb5vCylVeywGgMBXE9cJ46\n",
       "NeuCqyrFIUNC7b3Jf8UCEgQkkngpwDLfnr/kgmuHFCsGx4XRvCHvWWvPNUq8LuMDhZEotHuTk5dc\n",
       "UHkK0mCP0VVqMe59/ZZVTtLvTRMBsZnTwGou99YFl78sDU4Y9M3bOgeLhuOoLQNT48DmYYrvAIeA\n",
       "Mc4X+f/mSmYozjM717ahCOoSeI3/P/LjofYQx02vLlefLlC/SYhwC9iNCMuhfTOebxShqAgCne61\n",
       "oVBIrpF31IQoWzgVw/QwB3VMmZ5ZA77Q2fCIObuAMEJ8i5/XDW2S8Kw5uewo+mLS0eIb8aZSaTa0\n",
       "VoHP2HyAOEI007skPEmxHmbXPGowHK7AX3dy2dEuXCS6wgrReuZB76NO+9nmihT40HsrOYa/xjGf\n",
       "d3A5UCgliWu7CCgRZn1nW483QYr5frQ1xNhB9ilGGB6oPhmHg8uBIqBLXGdEQSCu4JJlo9nW8Zqm\n",
       "vWpiv/MizaK8QI3hOeBZs811N5fLFbqgho15y4adyeg0Z0MkxEMLW8fLu63Z9jwUYdRIIzPBi5wi\n",
       "oUqd+8p2QeGpS9veR7VuZxHaxHda1BezqtaxX6nUVbH/oEjNCNuIVfx5JNg7pO5A3M7lRIGtco3K\n",
       "yxXFPABSM2uU2faSaXS1CHUDagN2LicKrqet01fuXWQeCNGtuvVpFWp6wbuOuZXMkZKNK94F7f5O\n",
       "+UPjYrFof7dJccAxResYqfK78lxPLp+Q+LAtOdiTa7BzeFEm7vkN8FiYJW5L6j259H/20eP76yv+\n",
       "BsgCyxFaw+qZAAAAAElFTkSuQmCC\n",
       "\" style=\"display:inline;vertical-align:middle;\" /></a><br>(see <a class=\"ProveItLink\" href=\"../__pv_it/d0569cc6bbb5356494003b40b073257ea35f9a6b0/dependencies.ipynb\">dependencies</a>)<br>"
      ],
      "text/plain": [
       "nandIfRightButNotLeft: forall_{A, B | [not](A) , B} [not](A and B)"
      ]
     },
     "execution_count": 2,
     "metadata": {},
     "output_type": "execute_result"
    }
   ],
   "source": [
    "%proving nandIfRightButNotLeft presuming []"
   ]
  },
  {
   "cell_type": "code",
   "execution_count": 3,
   "metadata": {},
   "outputs": [
    {
     "data": {
      "text/html": [
       "<strong id=\"defaults.assumptions\">defaults.assumptions:</strong> <a class=\"ProveItLink\" href=\"../__pv_it/ebf5636be815bb02f85ac03dbaee8f96b026f1d20/expr.ipynb\"><img src=\"data:image/png;base64,iVBORw0KGgoAAAANSUhEUgAAAEMAAAAVBAMAAADvM06qAAAAMFBMVEX////c3NwiIiJERESqqqqY\n",
       "mJh2dnZmZmYQEBDu7u4yMjJUVFTMzMyIiIi6uroAAAAs73DqAAAAAXRSTlMAQObYZgAAAUdJREFU\n",
       "KM9jYCAC8F3AJxsHIk6jCB2CMVj3/969eR0D+wEgeyWKkvVwFocBA0P9A4YFDAy8KPaw6k+AMc8D\n",
       "Jc5vYAgDKp6ArESkXgDGvA9kxScwzGBgeIViz4X7D2BMCyDWmMDA7MBQhuK7Cf4BMPZvBgYpSwYG\n",
       "tgKGpchK5oFdAAY8v+9eVwXSLAsY+hgY2JVAIAHIf8AgXwBVwvuRgWHSBqDBDQz/YLqAXJ7du/cb\n",
       "QPnMDUBlX4FiH1CU8AE9uADK5wfyWb+BlbQgKXFgYGBqgAUL0N3cX8AWmSKUMAKVcH1gYJgACxZ5\n",
       "oJGsCxjSYb45wDAL5ISfDJyfoMHC0zUB7OlHcB8L9y9kYLX/VcDZDzSg+P/u3atAYcT1gIFDADN5\n",
       "IAsBI4A1AUMJKzInFyMxoCvhBAWCNIYS5OTBDbKUEW/CvMPAAAC/jFIHxgZ0KQAAAABJRU5ErkJg\n",
       "gg==\n",
       "\" style=\"display:inline;vertical-align:middle;\" /></a><br>"
      ],
      "text/plain": [
       "defaults.assumptions: ([not](A) , B)"
      ]
     },
     "execution_count": 3,
     "metadata": {},
     "output_type": "execute_result"
    }
   ],
   "source": [
    "defaults.assumptions = nandIfRightButNotLeft.allConditions()"
   ]
  },
  {
   "cell_type": "code",
   "execution_count": 4,
   "metadata": {},
   "outputs": [
    {
     "data": {
      "text/html": [
       "<strong id=\"AeqF\">AeqF:</strong> <span style=\"font-size:20px;\"><a class=\"ProveItLink\" href=\"../__pv_it/edd8455a49d47780786b5faa6e783100cb7d31cc0/expr.ipynb\"><img src=\"data:image/png;base64,iVBORw0KGgoAAAANSUhEUgAAADAAAAAVBAMAAADyTXAxAAAAMFBMVEX///9ERETc3NyqqqpUVFS6\n",
       "urrMzMwyMjIQEBCIiIh2dnYiIiLu7u5mZmaYmJgAAABJJ2g3AAAAAXRSTlMAQObYZgAAALxJREFU\n",
       "KM9jYGDgu8eABrIWgUieXQwYIMMASHB+QBFj2wAkeAuABFcDigT7B5gYmsTrP9glmGw/YZfg5PyK\n",
       "XSKG+R9MDOwCGOAJYPsJpPhALsgIYGC4vRsIQP5hZWD6C1JQy8CQ0gZTnQLCLi4fQWzGOgaGiAQk\n",
       "CaDudhAbpJulACHBDKR2wOzg2oCQUAZS9RjOZWPgAWmWP4DhDyaJ7woMD//XYg8rMMAvwYdFAhwa\n",
       "PDuxxGAAiORbjC3OAaHOM6CzgdAAAAAAAElFTkSuQmCC\n",
       "\" style=\"display:inline;vertical-align:middle;\" /></a> <a class=\"ProveItLink\" href=\"../__pv_it/79e00b44288d72a400b12a7c7023d5ffdeb3eeec0/proof.ipynb\" style=\"text-decoration: none\">&#x22A2;&nbsp;</a><a class=\"ProveItLink\" href=\"../__pv_it/426f24f13399e2dc2a5e99c45fae64cafe24cc1a0/expr.ipynb\"><img src=\"data:image/png;base64,iVBORw0KGgoAAAANSUhEUgAAADoAAAAOBAMAAACMfhKgAAAALVBMVEX///8QEBBERERUVFS6urqI\n",
       "iIhmZmaqqqrc3Nzu7u6YmJgyMjIiIiLMzMwAAADtIaYWAAAAAXRSTlMAQObYZgAAAHpJREFUGNNj\n",
       "YACBOwyYoBXO2odF9hqMwXVuAh7Z9rwGPLIBcQ64ZVkm1C3ALTuF4V4AiM7eDQKb0WQdGPoScOrl\n",
       "NTa2U8Apy8LAwLgBp2wBAwOPAIiRcwYEDqHIcgBluR/g0jsbiJle4pBtktvBwKX3Gs3RQEsOAi0B\n",
       "AOmUK3k+2YIcAAAAAElFTkSuQmCC\n",
       "\" style=\"display:inline;vertical-align:middle;\" /></a></span><br>"
      ],
      "text/plain": [
       "AeqF: {[not](A)} |- A = FALSE"
      ]
     },
     "execution_count": 4,
     "metadata": {},
     "output_type": "execute_result"
    }
   ],
   "source": [
    "AeqF = A.evaluation()"
   ]
  },
  {
   "cell_type": "code",
   "execution_count": 5,
   "metadata": {},
   "outputs": [
    {
     "data": {
      "text/html": [
       "<strong id=\"BeqT\">BeqT:</strong> <span style=\"font-size:20px;\"><a class=\"ProveItLink\" href=\"../__pv_it/547fd547e34cf8546442bd6aea990dbe0adf77b90/expr.ipynb\"><img src=\"data:image/png;base64,iVBORw0KGgoAAAANSUhEUgAAACMAAAAVBAMAAAA+1EraAAAAMFBMVEX////c3NxERESqqqpUVFS6\n",
       "urrMzMwyMjIQEBCIiIh2dnYiIiLu7u5mZmaYmJgAAABXZE4RAAAAAXRSTlMAQObYZgAAAMtJREFU\n",
       "GNNjYGDgu8cAA2yrBEAUzy4GBGBrBpGcH4AEn/8XF6dSIOM6SIirAURyKDAw3A9gYFiBEMqfAMQO\n",
       "KELzgea+X4AipAHEOw6gCH1hYBDXYYAK8RaALP8yc+4+EO89iMgIALnkIwPDaaDpDOwXGBhS2kDi\n",
       "TEDdnP9ALPUHDAwRCUAGP1AF3y8ggxtoKwMLyKx8oBzLZ5hZXBugzpIvYEB2BNBZbO0HkIUu/Xdx\n",
       "KX/AgKIKDnAJ8aEIgcOLZydyqLaCKb7FqGEPACcgN6r4rcm/AAAAAElFTkSuQmCC\n",
       "\" style=\"display:inline;vertical-align:middle;\" /></a> <a class=\"ProveItLink\" href=\"../__pv_it/b4a9eaf13913698174caaa1018ea980fea45883e0/proof.ipynb\" style=\"text-decoration: none\">&#x22A2;&nbsp;</a><a class=\"ProveItLink\" href=\"../__pv_it/832229df1740961f676ef0929f5b88a1d2e69c8f0/expr.ipynb\"><img src=\"data:image/png;base64,iVBORw0KGgoAAAANSUhEUgAAADwAAAAOBAMAAACBYGLnAAAAMFBMVEX///+qqqru7u4iIiJ2dnbc\n",
       "3NyIiIjMzMxmZmYQEBC6uroyMjJERERUVFSYmJgAAADLUcuvAAAAAXRSTlMAQObYZgAAAItJREFU\n",
       "GNNjYGB4+//u3dMLGFBBszEI2ICYcxgYOH4xYIAKCMX+DYj/4pRm+8rAwPcFpzTPBAYG5kk4pfkv\n",
       "MLDuUcApXX8trfkBmNW9GwT2okrnBzAw2TLg1H0SpOQBTmmQn9474JJm/wck7gugBRVcGuRt1t84\n",
       "7QZ5u3ITLmmO83/v3t6HRZahBIgBOGYufu9fDlQAAAAASUVORK5CYII=\n",
       "\" style=\"display:inline;vertical-align:middle;\" /></a></span><br>"
      ],
      "text/plain": [
       "BeqT: {B} |- B = TRUE"
      ]
     },
     "execution_count": 5,
     "metadata": {},
     "output_type": "execute_result"
    }
   ],
   "source": [
    "BeqT = B.evaluation()"
   ]
  },
  {
   "cell_type": "code",
   "execution_count": 6,
   "metadata": {},
   "outputs": [
    {
     "data": {
      "text/html": [
       "<strong id=\"FandB\">FandB:</strong> <span style=\"font-size:20px;\"><a class=\"ProveItLink\" href=\"../__pv_it/547fd547e34cf8546442bd6aea990dbe0adf77b90/expr.ipynb\"><img src=\"data:image/png;base64,iVBORw0KGgoAAAANSUhEUgAAACMAAAAVBAMAAAA+1EraAAAAMFBMVEX////c3NxERESqqqpUVFS6\n",
       "urrMzMwyMjIQEBCIiIh2dnYiIiLu7u5mZmaYmJgAAABXZE4RAAAAAXRSTlMAQObYZgAAAMtJREFU\n",
       "GNNjYGDgu8cAA2yrBEAUzy4GBGBrBpGcH4AEn/8XF6dSIOM6SIirAURyKDAw3A9gYFiBEMqfAMQO\n",
       "KELzgea+X4AipAHEOw6gCH1hYBDXYYAK8RaALP8yc+4+EO89iMgIALnkIwPDaaDpDOwXGBhS2kDi\n",
       "TEDdnP9ALPUHDAwRCUAGP1AF3y8ggxtoKwMLyKx8oBzLZ5hZXBugzpIvYEB2BNBZbO0HkIUu/Xdx\n",
       "KX/AgKIKDnAJ8aEIgcOLZydyqLaCKb7FqGEPACcgN6r4rcm/AAAAAElFTkSuQmCC\n",
       "\" style=\"display:inline;vertical-align:middle;\" /></a> <a class=\"ProveItLink\" href=\"../__pv_it/6aaa77e04f4347dd78b744c5d26d34e204ed943f0/proof.ipynb\" style=\"text-decoration: none\">&#x22A2;&nbsp;</a><a class=\"ProveItLink\" href=\"../__pv_it/aed4dcdda2f3bd22a453fcf7c03b3ec7141fa1d60/expr.ipynb\"><img src=\"data:image/png;base64,iVBORw0KGgoAAAANSUhEUgAAAFYAAAAVBAMAAAAutAQGAAAAMFBMVEX////c3NxERESqqqqYmJgQ\n",
       "EBDu7u4yMjKIiIi6urpUVFTMzMx2dnYiIiJmZmYAAABjE816AAAAAXRSTlMAQObYZgAAAT5JREFU\n",
       "KM9jYCALcDbgk2WZgMzbBSIYMTV4/V+1Sn0Cw2tksTIQwf0AxmVMgLGCGBj4fjKwIynlaEBVyw5j\n",
       "cf8A4l8MLAcQalkTUNVuugYz5CPQtX8Y2AIQaqczoKpd2QFlMAEV8YYxMCgj1L5BVctWwAtl8S9g\n",
       "YCwCWnoOobYEVS2PA58BhLV/RcdbByBtzvD2LhDcATIjUdXyMjAWQFj9Agxst4D0VETQ/kRV68HA\n",
       "sBrCUgWpBxq8H6faa9DIYWD4BcT+B1DUBqOoZQbS7AJgkS9AYr0BihtUUNSC1DE/gAUv43cgwx0a\n",
       "NQywIIGp3QQiLsCCd2sZA0qYzQXGOjBIYu/eVQDFBEgIFBt8+r9WLQeHZyVSHAsgJyRwCuREFkGO\n",
       "Y+S0gQ3wNKCnSdwgHZkjhV/tQmQOI948xLGBAQClR1X6sUA92gAAAABJRU5ErkJggg==\n",
       "\" style=\"display:inline;vertical-align:middle;\" /></a></span><br>"
      ],
      "text/plain": [
       "FandB: {B} |- [not](FALSE and B)"
      ]
     },
     "execution_count": 6,
     "metadata": {},
     "output_type": "execute_result"
    }
   ],
   "source": [
    "FandB = BeqT.subLeftSideInto(falseAndTrueNegated)"
   ]
  },
  {
   "cell_type": "code",
   "execution_count": 7,
   "metadata": {},
   "outputs": [
    {
     "data": {
      "text/html": [
       "<span style=\"font-size:20px;\"><a class=\"ProveItLink\" href=\"../__pv_it/fe4160547ec19c44be9e6faea0178bfac848cc180/expr.ipynb\"><img src=\"data:image/png;base64,iVBORw0KGgoAAAANSUhEUgAAAEkAAAAVBAMAAAD4Ed5jAAAAMFBMVEX///9ERETc3NyqqqpUVFS6\n",
       "urrMzMwyMjIQEBCIiIh2dnYiIiLu7u5mZmaYmJgAAABJJ2g3AAAAAXRSTlMAQObYZgAAAS5JREFU\n",
       "KM9jYGDgu8eAB7CtUgBRPLsY8AK2ZhDJ+QFVcAOM9eS/i4t4AAPDdRCHqwFFFTtCUyMDA+9XBoYV\n",
       "WFS9/gM39ScQf8Gqisn2E4zJCWTx/cKqipPzK4zJCJTg7sGqKob5H4zJ78DAVHgAqoq3AEkRTwDI\n",
       "NRCQ7znz9gMg/R7EyQB69vZuIACFGysD01+YqvkKDDxbQL6+wMCQ0gYTTQFhF5ePML4ESCXIMHEg\n",
       "EZGApApobjtM1ReQbQuAPgBiBpYChCpmILUDFlwgb/gbQN3FtQGhShlI1QP9AAsupu8M6CHBxsAD\n",
       "Mlb+AMP5DdDgyqjBUMXAJPFdgeHh/1qGE0BjeOW/uLjXMTBgj0cwCELm4FT1AEMVHyFV4PTFsxND\n",
       "ESdKsmwFU3yLCaZ7AHwiVWZ0YmYbAAAAAElFTkSuQmCC\n",
       "\" style=\"display:inline;vertical-align:middle;\" /></a> <a class=\"ProveItLink\" href=\"../__pv_it/f626ef132363a465d5464029af98e79fca2b04610/proof.ipynb\" style=\"text-decoration: none\">&#x22A2;&nbsp;</a><a class=\"ProveItLink\" href=\"../__pv_it/901fc5ac00a73e9ce3fba7bedaf6642fd77d807b0/expr.ipynb\"><img src=\"data:image/png;base64,iVBORw0KGgoAAAANSUhEUgAAAFYAAAAVBAMAAAAutAQGAAAAMFBMVEX////c3NxERESqqqqYmJgQ\n",
       "EBDu7u4yMjKIiIi6urpUVFTMzMx2dnYiIiJmZmYAAABjE816AAAAAXRSTlMAQObYZgAAAXRJREFU\n",
       "KM9jYCAPzMAnyTIBmce9AEJdQFO0/teqRZUMDK+RBdkTINQHCJcxASrOqsDA8H4CAzuy2g4I5fsN\n",
       "qvUBVHx/AxAvYGA5gKQ2DGKc3UcId9M1qHi/AAOD/wEGtgCEUs4CMMXB8RPCXwm1h0EViK8CHaSM\n",
       "UMsHsWMa8xcwzVbAC5X4xcAgrgakzyF5zQGsZAL3DzCXx4HPABIuvzr6roAY5gxv7wLBHZB3wQHI\n",
       "ycD4D6yEl4ER6iig+3NBwTkVYuYuIOYHq921atUnsJAHA8NqMIMJ6CcOkLv2o6sFEuFgoWsQUaA4\n",
       "0EyWP6hqWUHOYwb5GSTCDAxddgFw8AL9wfUZ1Q1MIL8JA3E92KcCEPWQ4JUHOd0dmhRAHn8ACigg\n",
       "Qx8UuZtAwhegwcsdnoAaZpwXGBhVvwswOP2vA8UELNYf/V+1qhwcnJVIcRyInDigAYgEkOOYwQd/\n",
       "6uZpwEyTuEA6ModxAV61C1F4EviUcmxgAADgOliiO22GuAAAAABJRU5ErkJggg==\n",
       "\" style=\"display:inline;vertical-align:middle;\" /></a></span>"
      ],
      "text/plain": [
       "{[not](A) , B} |- [not](A and B)"
      ]
     },
     "execution_count": 7,
     "metadata": {},
     "output_type": "execute_result"
    }
   ],
   "source": [
    "AeqF.subLeftSideInto(FandB)"
   ]
  },
  {
   "cell_type": "code",
   "execution_count": 8,
   "metadata": {},
   "outputs": [
    {
     "data": {
      "text/html": [
       "<table><tr><th>&nbsp;</th><th>step type</th><th>requirements</th><th>statement</th></tr>\n",
       "<tr><td>0</td><td>generalizaton</td><td>1</td><td><span style=\"font-size:20px;\"> <a class=\"ProveItLink\" href=\"../__pv_it/f032db4d9ef9f1ba43aa8a7b379154fdeee4c1ce0/proof.ipynb\" style=\"text-decoration: none\">&#x22A2;&nbsp;</a><a class=\"ProveItLink\" href=\"../__pv_it/d0569cc6bbb5356494003b40b073257ea35f9a6b0/expr.ipynb\"><img src=\"data:image/png;base64,iVBORw0KGgoAAAANSUhEUgAAANYAAAAXBAMAAACFeawMAAAAMFBMVEX///8QEBC6urrMzMxUVFRm\n",
       "ZmZERETc3NwyMjKqqqp2dnaIiIiYmJgiIiLu7u4AAAAU9Wx4AAAAAXRSTlMAQObYZgAAAupJREFU\n",
       "SMe9Vk1oE0EYfZu/jWaTBi/qRSN4EKo0B6EnSdBQvaUgERRK48EUQdscxFZEGwoSD6K5VLyZi1pR\n",
       "JKCecsjqqerBeMhFKkZR6EUs0h+VUv3m291kshtzWNSBZL753s68nbdvvl3gP7am65n9Uuyp9Lry\n",
       "Of20GFAXg1cuqLxJabDf6A7YrtHSy6mhGfjjFB8F7ovcdRdcQVkRc4Eb5vCylVeywGgMBXE9cJ46\n",
       "NeuCqyrFIUNC7b3Jf8UCEgQkkngpwDLfnr/kgmuHFCsGx4XRvCHvWWvPNUq8LuMDhZEotHuTk5dc\n",
       "UHkK0mCP0VVqMe59/ZZVTtLvTRMBsZnTwGou99YFl78sDU4Y9M3bOgeLhuOoLQNT48DmYYrvAIeA\n",
       "Mc4X+f/mSmYozjM717ahCOoSeI3/P/LjofYQx02vLlefLlC/SYhwC9iNCMuhfTOebxShqAgCne61\n",
       "oVBIrpF31IQoWzgVw/QwB3VMmZ5ZA77Q2fCIObuAMEJ8i5/XDW2S8Kw5uewo+mLS0eIb8aZSaTa0\n",
       "VoHP2HyAOEI007skPEmxHmbXPGowHK7AX3dy2dEuXCS6wgrReuZB76NO+9nmihT40HsrOYa/xjGf\n",
       "d3A5UCgliWu7CCgRZn1nW483QYr5frQ1xNhB9ilGGB6oPhmHg8uBIqBLXGdEQSCu4JJlo9nW8Zqm\n",
       "vWpiv/MizaK8QI3hOeBZs811N5fLFbqgho15y4adyeg0Z0MkxEMLW8fLu63Z9jwUYdRIIzPBi5wi\n",
       "oUqd+8p2QeGpS9veR7VuZxHaxHda1BezqtaxX6nUVbH/oEjNCNuIVfx5JNg7pO5A3M7lRIGtco3K\n",
       "yxXFPABSM2uU2faSaXS1CHUDagN2LicKrqet01fuXWQeCNGtuvVpFWp6wbuOuZXMkZKNK94F7f5O\n",
       "+UPjYrFof7dJccAxResYqfK78lxPLp+Q+LAtOdiTa7BzeFEm7vkN8FiYJW5L6j259H/20eP76yv+\n",
       "BsgCyxFaw+qZAAAAAElFTkSuQmCC\n",
       "\" style=\"display:inline;vertical-align:middle;\" /></a></span></td></tr>\n",
       "<tr><td>1</td><td>specialization</td><td>4, 2, 3</td><td><span style=\"font-size:20px;\"><a class=\"ProveItLink\" href=\"../__pv_it/fe4160547ec19c44be9e6faea0178bfac848cc180/expr.ipynb\"><img src=\"data:image/png;base64,iVBORw0KGgoAAAANSUhEUgAAAEkAAAAVBAMAAAD4Ed5jAAAAMFBMVEX///9ERETc3NyqqqpUVFS6\n",
       "urrMzMwyMjIQEBCIiIh2dnYiIiLu7u5mZmaYmJgAAABJJ2g3AAAAAXRSTlMAQObYZgAAAS5JREFU\n",
       "KM9jYGDgu8eAB7CtUgBRPLsY8AK2ZhDJ+QFVcAOM9eS/i4t4AAPDdRCHqwFFFTtCUyMDA+9XBoYV\n",
       "WFS9/gM39ScQf8Gqisn2E4zJCWTx/cKqipPzK4zJCJTg7sGqKob5H4zJ78DAVHgAqoq3AEkRTwDI\n",
       "NRCQ7znz9gMg/R7EyQB69vZuIACFGysD01+YqvkKDDxbQL6+wMCQ0gYTTQFhF5ePML4ESCXIMHEg\n",
       "EZGApApobjtM1ReQbQuAPgBiBpYChCpmILUDFlwgb/gbQN3FtQGhShlI1QP9AAsupu8M6CHBxsAD\n",
       "Mlb+AMP5DdDgyqjBUMXAJPFdgeHh/1qGE0BjeOW/uLjXMTBgj0cwCELm4FT1AEMVHyFV4PTFsxND\n",
       "ESdKsmwFU3yLCaZ7AHwiVWZ0YmYbAAAAAElFTkSuQmCC\n",
       "\" style=\"display:inline;vertical-align:middle;\" /></a> <a class=\"ProveItLink\" href=\"../__pv_it/f626ef132363a465d5464029af98e79fca2b04610/proof.ipynb\" style=\"text-decoration: none\">&#x22A2;&nbsp;</a><a class=\"ProveItLink\" href=\"../__pv_it/901fc5ac00a73e9ce3fba7bedaf6642fd77d807b0/expr.ipynb\"><img src=\"data:image/png;base64,iVBORw0KGgoAAAANSUhEUgAAAFYAAAAVBAMAAAAutAQGAAAAMFBMVEX////c3NxERESqqqqYmJgQ\n",
       "EBDu7u4yMjKIiIi6urpUVFTMzMx2dnYiIiJmZmYAAABjE816AAAAAXRSTlMAQObYZgAAAXRJREFU\n",
       "KM9jYCAPzMAnyTIBmce9AEJdQFO0/teqRZUMDK+RBdkTINQHCJcxASrOqsDA8H4CAzuy2g4I5fsN\n",
       "qvUBVHx/AxAvYGA5gKQ2DGKc3UcId9M1qHi/AAOD/wEGtgCEUs4CMMXB8RPCXwm1h0EViK8CHaSM\n",
       "UMsHsWMa8xcwzVbAC5X4xcAgrgakzyF5zQGsZAL3DzCXx4HPABIuvzr6roAY5gxv7wLBHZB3wQHI\n",
       "ycD4D6yEl4ER6iig+3NBwTkVYuYuIOYHq921atUnsJAHA8NqMIMJ6CcOkLv2o6sFEuFgoWsQUaA4\n",
       "0EyWP6hqWUHOYwb5GSTCDAxddgFw8AL9wfUZ1Q1MIL8JA3E92KcCEPWQ4JUHOd0dmhRAHn8ACigg\n",
       "Qx8UuZtAwhegwcsdnoAaZpwXGBhVvwswOP2vA8UELNYf/V+1qhwcnJVIcRyInDigAYgEkOOYwQd/\n",
       "6uZpwEyTuEA6ModxAV61C1F4EviUcmxgAADgOliiO22GuAAAAABJRU5ErkJggg==\n",
       "\" style=\"display:inline;vertical-align:middle;\" /></a></span></td></tr>\n",
       "<tr><td>&nbsp;</td><td colspan=4 style=\"text-align:left\"><span style=\"font-size:20px;\"><a class=\"ProveItLink\" href=\"../__pv_it/fd4b0a418766985890fb332a124e981d1643d8330/expr.ipynb\"><img src=\"data:image/png;base64,iVBORw0KGgoAAAANSUhEUgAAAEkAAAAVBAMAAAD4Ed5jAAAAMFBMVEX////u7u5mZmaYmJi6urqq\n",
       "qqp2dnbMzMwQEBBEREQyMjLc3NwiIiJUVFSIiIgAAAAeC3ydAAAAAXRSTlMAQObYZgAAAR1JREFU\n",
       "KM9jYCAZsDzAJmoCJt/+v3v37AYQqxarXqYCMPWLgYGzG8RYiN2KBSCC/RsDAysQM/A9wK7KDETw\n",
       "fWFgYP4EZHAIYFclASI4PzAw8H4FMrxweIozAEjwA+2VnwBkqCEktr3d+ghuP5sCkKhPYGA/BOIt\n",
       "hitiTGA+zHEAxmMFOf/9tTQ1cEC0wFWxMfB9YC2AB2MDkJgPc/QXhFkMvBMQ1rMDHc7whwFDFdC/\n",
       "D1BVsX+C8VqRVO0vYBBAtpEPbsRkuBrmDe8Z+OCqmIGu5/wI4yXBVcUbzGDYx4AUEkLz/8Kc4AP0\n",
       "9EwgmMgg+UwszwDGYeByQA5jjg14YgjhmgTsqvJQudhTDuMCVP5erKp40RzCjTWBPWdgAADdXkSh\n",
       "Sa6TGQAAAABJRU5ErkJggg==\n",
       "\" style=\"display:inline;vertical-align:middle;\" /></a> : <a class=\"ProveItLink\" href=\"../__pv_it/7786d3d8a32d5fa5d3561834b6b389ae959fdd910/expr.ipynb\"><img src=\"data:image/png;base64,iVBORw0KGgoAAAANSUhEUgAAAG4AAAAVBAMAAABVkMbKAAAAMFBMVEX////c3NxERESqqqqYmJgQ\n",
       "EBDu7u4yMjKIiIi6urpUVFTMzMx2dnYiIiJmZmYAAABjE816AAAAAXRSTlMAQObYZgAAAW9JREFU\n",
       "OMtjYKAYcDYQq5JlAjJvFxEa1v9ataiSgeE1smAZbvWMCVAGqwIDw/sJDOxIchx4nMn+AMrYD1S0\n",
       "fwEDywGEHGsCbn2brkEZ/QIMDP4HGNgCEHLT8fhrZQeUoQrEV4EWKCPk3iCYMl3CfciuZivghbJ+\n",
       "MTCIqwHpcwjJEoSyAyxXWC8g6eNx4DMAM7h/dfRdATHMGd7eBYI7QGYkQhkDxwfmDUj6eBkYCyBh\n",
       "95GBIXcBkDEVEXU/EfYxcCmgeM+DgWE1mMEEDA+OL6BwxaYPGLaocXINlij4gXax/EHVF4ykUH4D\n",
       "A1KsMANjj10AHH0ODAxcn1HdqYJITQL9DBxI+kB6mB/Aok8e5FV3iAw3StDaO6gySCDHOoi4AI0+\n",
       "7vAE1HiYCzRUCQjUGJJ6ck44wDigWAcRoJh/9H/VqnIHEK8SKSwEcKUWcK7hRBZBTmfIaZUQ4Gkg\n",
       "Lh+hg3RkjhTx+haiZE6iywmODQwAO9pUFtRBsq0AAAAASUVORK5CYII=\n",
       "\" style=\"display:inline;vertical-align:middle;\" /></a>, <a class=\"ProveItLink\" href=\"../../../../__pv_it/530be409e3083890784cf1d7b28c9e67e90af9360/expr.ipynb\"><img src=\"data:image/png;base64,iVBORw0KGgoAAAANSUhEUgAAAAsAAAAJBAMAAAAWSsseAAAAKlBMVEX///9ERETMzMwQEBAiIiKY\n",
       "mJju7u5mZmaqqqpUVFSIiIh2dnbc3NwAAAA/vyDhAAAAAXRSTlMAQObYZgAAAENJREFUCNdjYDi9\n",
       "8sTyBQxsG1hdmR0YuBm4LnAoMLAxcAowgADzAjB1VoEhgYH1wFoGrgSG3gBhhlMMDImrs3cFMAAA\n",
       "t0YN+iTRa+sAAAAASUVORK5CYII=\n",
       "\" style=\"display:inline;vertical-align:middle;\" /></a> : <a class=\"ProveItLink\" href=\"../../../../__pv_it/2cbe72a7ad6f655694dd697106680215e8489b600/expr.ipynb\"><img src=\"data:image/png;base64,iVBORw0KGgoAAAANSUhEUgAAAA8AAAAOBAMAAAACpFvcAAAALVBMVEX///8QEBBERERUVFS6urqI\n",
       "iIhmZmaqqqrc3Nzu7u6YmJgyMjIiIiLMzMwAAADtIaYWAAAAAXRSTlMAQObYZgAAAFtJREFUCNdj\n",
       "YACBOwxQsA9Kc52bAGG05zVAGAFxDmCaZULdAjBjCsO9ADDDgaEvAUTzGhvbKYCVMDAwbgAxChgY\n",
       "eASANAeQwf0AyJgNxEwvGRia5HYwcOm9TgAA6BoR3jrzwFcAAAAASUVORK5CYII=\n",
       "\" style=\"display:inline;vertical-align:middle;\" /></a>, <a class=\"ProveItLink\" href=\"../../../../__pv_it/f8b9edf8e16034727f0aad55bb83e392c3db40d40/expr.ipynb\"><img src=\"data:image/png;base64,iVBORw0KGgoAAAANSUhEUgAAAAsAAAANBAMAAACN24kIAAAAMFBMVEX///+YmJhUVFQyMjIQEBBE\n",
       "REQiIiKqqqrMzMyIiIi6urrc3NxmZmZ2dnbu7u4AAADXeCicAAAAAXRSTlMAQObYZgAAAFhJREFU\n",
       "CNdj4LtzgWH/AwZerg8M8xkY2nkSGEIZGB6wTGD4ycDAUP+A4weQOszA6QCkbBhYFYDUIYb1AkDq\n",
       "6czzGxhA4BoQMyXwuQMptgusF4AU+8xTQBIAUqMVoSp/SLMAAAAASUVORK5CYII=\n",
       "\" style=\"display:inline;vertical-align:middle;\" /></a> : <a class=\"ProveItLink\" href=\"../../__pv_it/8f1f7fac882de28c72b62ab80a1700b6d8fd066b0/expr.ipynb\"><img src=\"data:image/png;base64,iVBORw0KGgoAAAANSUhEUgAAAA4AAAAOBAMAAADtZjDiAAAAG1BMVEX///9EREQQEBAiIiJmZmbM\n",
       "zMyIiIjc3NwAAACryk5kAAAAAXRSTlMAQObYZgAAABlJREFUCNdjYGBgKGOAgBBa0s7GxkbGxoYA\n",
       "FMUF2aBfHgoAAAAASUVORK5CYII=\n",
       "\" style=\"display:inline;vertical-align:middle;\" /></a></span></td></tr><tr><td>2</td><td>specialization</td><td>4, 5, 6</td><td><span style=\"font-size:20px;\"><a class=\"ProveItLink\" href=\"../__pv_it/547fd547e34cf8546442bd6aea990dbe0adf77b90/expr.ipynb\"><img src=\"data:image/png;base64,iVBORw0KGgoAAAANSUhEUgAAACMAAAAVBAMAAAA+1EraAAAAMFBMVEX////c3NxERESqqqpUVFS6\n",
       "urrMzMwyMjIQEBCIiIh2dnYiIiLu7u5mZmaYmJgAAABXZE4RAAAAAXRSTlMAQObYZgAAAMtJREFU\n",
       "GNNjYGDgu8cAA2yrBEAUzy4GBGBrBpGcH4AEn/8XF6dSIOM6SIirAURyKDAw3A9gYFiBEMqfAMQO\n",
       "KELzgea+X4AipAHEOw6gCH1hYBDXYYAK8RaALP8yc+4+EO89iMgIALnkIwPDaaDpDOwXGBhS2kDi\n",
       "TEDdnP9ALPUHDAwRCUAGP1AF3y8ggxtoKwMLyKx8oBzLZ5hZXBugzpIvYEB2BNBZbO0HkIUu/Xdx\n",
       "KX/AgKIKDnAJ8aEIgcOLZydyqLaCKb7FqGEPACcgN6r4rcm/AAAAAElFTkSuQmCC\n",
       "\" style=\"display:inline;vertical-align:middle;\" /></a> <a class=\"ProveItLink\" href=\"../__pv_it/6aaa77e04f4347dd78b744c5d26d34e204ed943f0/proof.ipynb\" style=\"text-decoration: none\">&#x22A2;&nbsp;</a><a class=\"ProveItLink\" href=\"../__pv_it/aed4dcdda2f3bd22a453fcf7c03b3ec7141fa1d60/expr.ipynb\"><img src=\"data:image/png;base64,iVBORw0KGgoAAAANSUhEUgAAAFYAAAAVBAMAAAAutAQGAAAAMFBMVEX////c3NxERESqqqqYmJgQ\n",
       "EBDu7u4yMjKIiIi6urpUVFTMzMx2dnYiIiJmZmYAAABjE816AAAAAXRSTlMAQObYZgAAAT5JREFU\n",
       "KM9jYCALcDbgk2WZgMzbBSIYMTV4/V+1Sn0Cw2tksTIQwf0AxmVMgLGCGBj4fjKwIynlaEBVyw5j\n",
       "cf8A4l8MLAcQalkTUNVuugYz5CPQtX8Y2AIQaqczoKpd2QFlMAEV8YYxMCgj1L5BVctWwAtl8S9g\n",
       "YCwCWnoOobYEVS2PA58BhLV/RcdbByBtzvD2LhDcATIjUdXyMjAWQFj9Agxst4D0VETQ/kRV68HA\n",
       "sBrCUgWpBxq8H6faa9DIYWD4BcT+B1DUBqOoZQbS7AJgkS9AYr0BihtUUNSC1DE/gAUv43cgwx0a\n",
       "NQywIIGp3QQiLsCCd2sZA0qYzQXGOjBIYu/eVQDFBEgIFBt8+r9WLQeHZyVSHAsgJyRwCuREFkGO\n",
       "Y+S0gQ3wNKCnSdwgHZkjhV/tQmQOI948xLGBAQClR1X6sUA92gAAAABJRU5ErkJggg==\n",
       "\" style=\"display:inline;vertical-align:middle;\" /></a></span></td></tr>\n",
       "<tr><td>&nbsp;</td><td colspan=4 style=\"text-align:left\"><span style=\"font-size:20px;\"><a class=\"ProveItLink\" href=\"../__pv_it/fd4b0a418766985890fb332a124e981d1643d8330/expr.ipynb\"><img src=\"data:image/png;base64,iVBORw0KGgoAAAANSUhEUgAAAEkAAAAVBAMAAAD4Ed5jAAAAMFBMVEX////u7u5mZmaYmJi6urqq\n",
       "qqp2dnbMzMwQEBBEREQyMjLc3NwiIiJUVFSIiIgAAAAeC3ydAAAAAXRSTlMAQObYZgAAAR1JREFU\n",
       "KM9jYCAZsDzAJmoCJt/+v3v37AYQqxarXqYCMPWLgYGzG8RYiN2KBSCC/RsDAysQM/A9wK7KDETw\n",
       "fWFgYP4EZHAIYFclASI4PzAw8H4FMrxweIozAEjwA+2VnwBkqCEktr3d+ghuP5sCkKhPYGA/BOIt\n",
       "hitiTGA+zHEAxmMFOf/9tTQ1cEC0wFWxMfB9YC2AB2MDkJgPc/QXhFkMvBMQ1rMDHc7whwFDFdC/\n",
       "D1BVsX+C8VqRVO0vYBBAtpEPbsRkuBrmDe8Z+OCqmIGu5/wI4yXBVcUbzGDYx4AUEkLz/8Kc4AP0\n",
       "9EwgmMgg+UwszwDGYeByQA5jjg14YgjhmgTsqvJQudhTDuMCVP5erKp40RzCjTWBPWdgAADdXkSh\n",
       "Sa6TGQAAAABJRU5ErkJggg==\n",
       "\" style=\"display:inline;vertical-align:middle;\" /></a> : <a class=\"ProveItLink\" href=\"../__pv_it/ef2993e93629785107fae59005cb3925bcff0f040/expr.ipynb\"><img src=\"data:image/png;base64,iVBORw0KGgoAAAANSUhEUgAAAG4AAAAVBAMAAABVkMbKAAAAMFBMVEX////c3NxERESqqqqYmJgQ\n",
       "EBDu7u4yMjKIiIi6urpUVFTMzMx2dnYiIiJmZmYAAABjE816AAAAAXRSTlMAQObYZgAAAS1JREFU\n",
       "OMtjYKAczCBWIcsEZB73AhApQYzG18gc9gQQuQ/OF8Otjx2Z08GAqq8Oj0MPIHHCUPVx6ybg1McW\n",
       "gGBzFqDq45rRgNtCZQST7wCqvnSGC8gqZbqE+xAGnUPyqwOqviMMj5FddoDlCivCIHOGt3eB4A6Q\n",
       "yToBVd8FBnEkfTwMHB+YN8C5UyHULiDmR9XH0sDAtQHJPgYuBSRj9uPUx5sATQgwwNqAXR+rAYo+\n",
       "OyAuRNYnv4EhAZs7mVDDpRCqF+ZsgX4GDoQ+d2gcg3z+AFkfN8g3vAh99g6qyEkXKR44gaEMDNyr\n",
       "d+9eAsU6yLccQC8xKwGBGkNST84JBxiHgaESyQOByL7hBJMTiEhnDD7E51SeBox8RBRIR+YwLiBa\n",
       "30IUngSx2jg2MAAA7chE1RYh5s8AAAAASUVORK5CYII=\n",
       "\" style=\"display:inline;vertical-align:middle;\" /></a>, <a class=\"ProveItLink\" href=\"../../../../__pv_it/530be409e3083890784cf1d7b28c9e67e90af9360/expr.ipynb\"><img src=\"data:image/png;base64,iVBORw0KGgoAAAANSUhEUgAAAAsAAAAJBAMAAAAWSsseAAAAKlBMVEX///9ERETMzMwQEBAiIiKY\n",
       "mJju7u5mZmaqqqpUVFSIiIh2dnbc3NwAAAA/vyDhAAAAAXRSTlMAQObYZgAAAENJREFUCNdjYDi9\n",
       "8sTyBQxsG1hdmR0YuBm4LnAoMLAxcAowgADzAjB1VoEhgYH1wFoGrgSG3gBhhlMMDImrs3cFMAAA\n",
       "t0YN+iTRa+sAAAAASUVORK5CYII=\n",
       "\" style=\"display:inline;vertical-align:middle;\" /></a> : <a class=\"ProveItLink\" href=\"../../../../__pv_it/077b2ff79244fb4582cbe22c6e3356fa92a52f2f0/expr.ipynb\"><img src=\"data:image/png;base64,iVBORw0KGgoAAAANSUhEUgAAABAAAAAOBAMAAADUAYG5AAAAMFBMVEX///+qqqru7u4iIiJ2dnbc\n",
       "3NyIiIjMzMxmZmYQEBC6uroyMjJERERUVFSYmJgAAADLUcuvAAAAAXRSTlMAQObYZgAAAGpJREFU\n",
       "CNdjYGB4+//u3dMLGIBgDgMDxy8gzf4NiP8CGWxfGRj4vgAZPBMYGJgnARn8FxhY9ygAGfXX0pof\n",
       "gDTlBzAw2YIYJ0EckBBI53sHoBH/gIz7AhBjWH9DjancBLTl/N+7t/cxMAAA3u4f/5xagjYAAAAA\n",
       "SUVORK5CYII=\n",
       "\" style=\"display:inline;vertical-align:middle;\" /></a>, <a class=\"ProveItLink\" href=\"../../../../__pv_it/f8b9edf8e16034727f0aad55bb83e392c3db40d40/expr.ipynb\"><img src=\"data:image/png;base64,iVBORw0KGgoAAAANSUhEUgAAAAsAAAANBAMAAACN24kIAAAAMFBMVEX///+YmJhUVFQyMjIQEBBE\n",
       "REQiIiKqqqrMzMyIiIi6urrc3NxmZmZ2dnbu7u4AAADXeCicAAAAAXRSTlMAQObYZgAAAFhJREFU\n",
       "CNdj4LtzgWH/AwZerg8M8xkY2nkSGEIZGB6wTGD4ycDAUP+A4weQOszA6QCkbBhYFYDUIYb1AkDq\n",
       "6czzGxhA4BoQMyXwuQMptgusF4AU+8xTQBIAUqMVoSp/SLMAAAAASUVORK5CYII=\n",
       "\" style=\"display:inline;vertical-align:middle;\" /></a> : <a class=\"ProveItLink\" href=\"../../__pv_it/68a87cc3370287d726c7086ace789e680e4461c30/expr.ipynb\"><img src=\"data:image/png;base64,iVBORw0KGgoAAAANSUhEUgAAAA4AAAAOBAMAAADtZjDiAAAAFVBMVEX///92dnbMzMxEREQiIiJm\n",
       "ZmYAAABAT6GXAAAAAXRSTlMAQObYZgAAABhJREFUCNdjCHEBAWcGIFBlgABa0YpADAAxegPJJk4d\n",
       "XAAAAABJRU5ErkJggg==\n",
       "\" style=\"display:inline;vertical-align:middle;\" /></a></span></td></tr><tr><td>3</td><td>specialization</td><td>7, 8</td><td><span style=\"font-size:20px;\"><a class=\"ProveItLink\" href=\"../__pv_it/edd8455a49d47780786b5faa6e783100cb7d31cc0/expr.ipynb\"><img src=\"data:image/png;base64,iVBORw0KGgoAAAANSUhEUgAAADAAAAAVBAMAAADyTXAxAAAAMFBMVEX///9ERETc3NyqqqpUVFS6\n",
       "urrMzMwyMjIQEBCIiIh2dnYiIiLu7u5mZmaYmJgAAABJJ2g3AAAAAXRSTlMAQObYZgAAALxJREFU\n",
       "KM9jYGDgu8eABrIWgUieXQwYIMMASHB+QBFj2wAkeAuABFcDigT7B5gYmsTrP9glmGw/YZfg5PyK\n",
       "XSKG+R9MDOwCGOAJYPsJpPhALsgIYGC4vRsIQP5hZWD6C1JQy8CQ0gZTnQLCLi4fQWzGOgaGiAQk\n",
       "CaDudhAbpJulACHBDKR2wOzg2oCQUAZS9RjOZWPgAWmWP4DhDyaJ7woMD//XYg8rMMAvwYdFAhwa\n",
       "PDuxxGAAiORbjC3OAaHOM6CzgdAAAAAAAElFTkSuQmCC\n",
       "\" style=\"display:inline;vertical-align:middle;\" /></a> <a class=\"ProveItLink\" href=\"../__pv_it/79e00b44288d72a400b12a7c7023d5ffdeb3eeec0/proof.ipynb\" style=\"text-decoration: none\">&#x22A2;&nbsp;</a><a class=\"ProveItLink\" href=\"../__pv_it/426f24f13399e2dc2a5e99c45fae64cafe24cc1a0/expr.ipynb\"><img src=\"data:image/png;base64,iVBORw0KGgoAAAANSUhEUgAAADoAAAAOBAMAAACMfhKgAAAALVBMVEX///8QEBBERERUVFS6urqI\n",
       "iIhmZmaqqqrc3Nzu7u6YmJgyMjIiIiLMzMwAAADtIaYWAAAAAXRSTlMAQObYZgAAAHpJREFUGNNj\n",
       "YACBOwyYoBXO2odF9hqMwXVuAh7Z9rwGPLIBcQ64ZVkm1C3ALTuF4V4AiM7eDQKb0WQdGPoScOrl\n",
       "NTa2U8Apy8LAwLgBp2wBAwOPAIiRcwYEDqHIcgBluR/g0jsbiJle4pBtktvBwKX3Gs3RQEsOAi0B\n",
       "AOmUK3k+2YIcAAAAAElFTkSuQmCC\n",
       "\" style=\"display:inline;vertical-align:middle;\" /></a></span></td></tr>\n",
       "<tr><td>&nbsp;</td><td colspan=4 style=\"text-align:left\"><span style=\"font-size:20px;\"><a class=\"ProveItLink\" href=\"../../../../__pv_it/2cbe72a7ad6f655694dd697106680215e8489b600/expr.ipynb\"><img src=\"data:image/png;base64,iVBORw0KGgoAAAANSUhEUgAAAA8AAAAOBAMAAAACpFvcAAAALVBMVEX///8QEBBERERUVFS6urqI\n",
       "iIhmZmaqqqrc3Nzu7u6YmJgyMjIiIiLMzMwAAADtIaYWAAAAAXRSTlMAQObYZgAAAFtJREFUCNdj\n",
       "YACBOwxQsA9Kc52bAGG05zVAGAFxDmCaZULdAjBjCsO9ADDDgaEvAUTzGhvbKYCVMDAwbgAxChgY\n",
       "eASANAeQwf0AyJgNxEwvGRia5HYwcOm9TgAA6BoR3jrzwFcAAAAASUVORK5CYII=\n",
       "\" style=\"display:inline;vertical-align:middle;\" /></a> : <a class=\"ProveItLink\" href=\"../../../../__pv_it/2cbe72a7ad6f655694dd697106680215e8489b600/expr.ipynb\"><img src=\"data:image/png;base64,iVBORw0KGgoAAAANSUhEUgAAAA8AAAAOBAMAAAACpFvcAAAALVBMVEX///8QEBBERERUVFS6urqI\n",
       "iIhmZmaqqqrc3Nzu7u6YmJgyMjIiIiLMzMwAAADtIaYWAAAAAXRSTlMAQObYZgAAAFtJREFUCNdj\n",
       "YACBOwxQsA9Kc52bAGG05zVAGAFxDmCaZULdAjBjCsO9ADDDgaEvAUTzGhvbKYCVMDAwbgAxChgY\n",
       "eASANAeQwf0AyJgNxEwvGRia5HYwcOm9TgAA6BoR3jrzwFcAAAAASUVORK5CYII=\n",
       "\" style=\"display:inline;vertical-align:middle;\" /></a></span></td></tr><tr><td>4</td><td>theorem</td><td></td><td><span style=\"font-size:20px;\"> <a class=\"ProveItLink\" href=\"../../../equality/_proofs_/subLeftSideInto.ipynb\" style=\"text-decoration: none\">&#x22A2;&nbsp;</a><a class=\"ProveItLink\" href=\"../../../equality/__pv_it/3ec60be0054bb218e4347eeddae1ab877388efa90/expr.ipynb\"><img src=\"data:image/png;base64,iVBORw0KGgoAAAANSUhEUgAAAMIAAAAXBAMAAACrPI2eAAAAMFBMVEX///8QEBC6urrMzMxUVFRm\n",
       "ZmZERETc3NwyMjKqqqp2dnaIiIiYmJgiIiLu7u4AAAAU9Wx4AAAAAXRSTlMAQObYZgAAAsZJREFU\n",
       "SMe1Vk1oE1EQ/pLd5m832+BFvEgED0KRRhA8NmhRsRdBeyke1oOtf5CAYlARFy8VFPVSEXJwEYq1\n",
       "ouRQD/bSFS+CiDkoghQpgkW8NKixttTqvL/ta8OCSjqwmdlvv51v38y8R4B1t5l1yRqvCW/ngToL\n",
       "XrYn78Tv3t43ZRbtVNAh4AHzN9r06T+BxMZVCVPAOXJJtz0CxiKQpgtWTUG2jxQ1ouNWexSsr5Sy\n",
       "SUEs7K6Tg32/UrnUpiIlGoC5QMG2FewE8GNw8P3fJTjDf9PRhE4PmGMVH6DrwsT5J1SsUWAPMETv\n",
       "lfoPD7UOnXC3m/17y0j6oth+pEKPD+MtC65TeXx7OkaDegfYCoek8Qx41Lps2a4cMnV1g3uRClMH\n",
       "xgf4sG4AMrAa6QKwBcjCCgjsBV7PRCiYRdjLqErwc6RCSSWgjjsw+YT20AAEWfZgGtgftYZsANOD\n",
       "KqJZiFL4hRUFGqiaVHA8tgGdb7Df0domuqgv6HKxWVOYK+BVGTmJ82GXRGhkGE2lsIn9XC6wI4mq\n",
       "hKHdrKeL40fIPTZdeurU5o2cptA9PhrA8CQeL0qieZXsWkjm20HYaepdeQoWKbyg2xF2NGU8/iif\n",
       "Yj1JfqxbrqYwxueqKHHDC4nQyUgsKwUa0bvBUVwUoahX4qAcaT4Lpm/WNIVjfB8UJc4VJFEnfyp9\n",
       "V4fFdmB28stD9hFX2CyyRnfKg2MHWB9j+VhBU1jga3AlHnclMcGrFJI1i5W1U0NtFsKSw0ZjDH5y\n",
       "GLFCtzZLxjznUjE5bvuSqNJJsmZ2uCszalmZm3SQG0vOqZHJGWMJ6b7jmsJYk3/jBwi8Iy+J8l1F\n",
       "1i08vddsHlu5Cvr0/SDsKQSeConCFFm3syrYtxrfpdzJuNeqMAuBV0OiMEXWLSmLY63pUKBcdRKt\n",
       "CmmJF0OiMEX+LzNX3T0XLfvH/w5/AOrJuu1B3OWnAAAAAElFTkSuQmCC\n",
       "\" style=\"display:inline;vertical-align:middle;\" /></a></span></td></tr>\n",
       "<tr><td>&nbsp;</td><td colspan=4 style-\"text-align:left\"><a class=\"ProveItLink\" href=\"../../../equality/_proofs_/subLeftSideInto.ipynb\">proveit.logic.equality.subLeftSideInto</a></td></tr><tr><td>5</td><td>theorem</td><td></td><td><span style=\"font-size:20px;\"> <a class=\"ProveItLink\" href=\"falseAndTrueNegated.ipynb\" style=\"text-decoration: none\">&#x22A2;&nbsp;</a><a class=\"ProveItLink\" href=\"../__pv_it/af88bf4a49b2beeee5716629d5444ae2b0ba79670/expr.ipynb\"><img src=\"data:image/png;base64,iVBORw0KGgoAAAANSUhEUgAAAFYAAAAVBAMAAAAutAQGAAAAMFBMVEX////c3NxERESqqqqYmJgQ\n",
       "EBDu7u4yMjKIiIi6urpUVFTMzMx2dnYiIiJmZmYAAABjE816AAAAAXRSTlMAQObYZgAAAPhJREFU\n",
       "KM9jYCAPzMAnyTIBmce9AERKoKnhuwsGCgyvkUXZE0DkPhiXMQFuyAOwNLLaDgYUtewPUNWyHEBS\n",
       "G4aqdtM1VLVsAQilnAWoald2oKplUEbyxAEUtWwFvGhqzyF5zQFFLY8DnwGqWnOGt6AQuQNksk5A\n",
       "UcvLwFiAqnYqhLcLiPlR1XowMKxGVbsfp9prEFHsalkNkNUyA+XZBXC5gQnFbyB1zA9Q1LpDeSCP\n",
       "P0BWuwlEXMAVZpxAGWCgXL179xIoJhCxzsANCflKpDgORE4cYI9yIosgxzGDD/7UzdOAkSZxgnRk\n",
       "DuMCvGoXovAk8Cnl2MAAABt/SjW+Cnc/AAAAAElFTkSuQmCC\n",
       "\" style=\"display:inline;vertical-align:middle;\" /></a></span></td></tr>\n",
       "<tr><td>&nbsp;</td><td colspan=4 style-\"text-align:left\"><a class=\"ProveItLink\" href=\"falseAndTrueNegated.ipynb\">proveit.logic.boolean.conjunction.falseAndTrueNegated</a></td></tr><tr><td>6</td><td>specialization</td><td>9, 10</td><td><span style=\"font-size:20px;\"><a class=\"ProveItLink\" href=\"../__pv_it/547fd547e34cf8546442bd6aea990dbe0adf77b90/expr.ipynb\"><img src=\"data:image/png;base64,iVBORw0KGgoAAAANSUhEUgAAACMAAAAVBAMAAAA+1EraAAAAMFBMVEX////c3NxERESqqqpUVFS6\n",
       "urrMzMwyMjIQEBCIiIh2dnYiIiLu7u5mZmaYmJgAAABXZE4RAAAAAXRSTlMAQObYZgAAAMtJREFU\n",
       "GNNjYGDgu8cAA2yrBEAUzy4GBGBrBpGcH4AEn/8XF6dSIOM6SIirAURyKDAw3A9gYFiBEMqfAMQO\n",
       "KELzgea+X4AipAHEOw6gCH1hYBDXYYAK8RaALP8yc+4+EO89iMgIALnkIwPDaaDpDOwXGBhS2kDi\n",
       "TEDdnP9ALPUHDAwRCUAGP1AF3y8ggxtoKwMLyKx8oBzLZ5hZXBugzpIvYEB2BNBZbO0HkIUu/Xdx\n",
       "KX/AgKIKDnAJ8aEIgcOLZydyqLaCKb7FqGEPACcgN6r4rcm/AAAAAElFTkSuQmCC\n",
       "\" style=\"display:inline;vertical-align:middle;\" /></a> <a class=\"ProveItLink\" href=\"../__pv_it/b4a9eaf13913698174caaa1018ea980fea45883e0/proof.ipynb\" style=\"text-decoration: none\">&#x22A2;&nbsp;</a><a class=\"ProveItLink\" href=\"../__pv_it/832229df1740961f676ef0929f5b88a1d2e69c8f0/expr.ipynb\"><img src=\"data:image/png;base64,iVBORw0KGgoAAAANSUhEUgAAADwAAAAOBAMAAACBYGLnAAAAMFBMVEX///+qqqru7u4iIiJ2dnbc\n",
       "3NyIiIjMzMxmZmYQEBC6uroyMjJERERUVFSYmJgAAADLUcuvAAAAAXRSTlMAQObYZgAAAItJREFU\n",
       "GNNjYGB4+//u3dMLGFBBszEI2ICYcxgYOH4xYIAKCMX+DYj/4pRm+8rAwPcFpzTPBAYG5kk4pfkv\n",
       "MLDuUcApXX8trfkBmNW9GwT2okrnBzAw2TLg1H0SpOQBTmmQn9474JJm/wck7gugBRVcGuRt1t84\n",
       "7QZ5u3ITLmmO83/v3t6HRZahBIgBOGYufu9fDlQAAAAASUVORK5CYII=\n",
       "\" style=\"display:inline;vertical-align:middle;\" /></a></span></td></tr>\n",
       "<tr><td>&nbsp;</td><td colspan=4 style=\"text-align:left\"><span style=\"font-size:20px;\"><a class=\"ProveItLink\" href=\"../../../../__pv_it/2cbe72a7ad6f655694dd697106680215e8489b600/expr.ipynb\"><img src=\"data:image/png;base64,iVBORw0KGgoAAAANSUhEUgAAAA8AAAAOBAMAAAACpFvcAAAALVBMVEX///8QEBBERERUVFS6urqI\n",
       "iIhmZmaqqqrc3Nzu7u6YmJgyMjIiIiLMzMwAAADtIaYWAAAAAXRSTlMAQObYZgAAAFtJREFUCNdj\n",
       "YACBOwxQsA9Kc52bAGG05zVAGAFxDmCaZULdAjBjCsO9ADDDgaEvAUTzGhvbKYCVMDAwbgAxChgY\n",
       "eASANAeQwf0AyJgNxEwvGRia5HYwcOm9TgAA6BoR3jrzwFcAAAAASUVORK5CYII=\n",
       "\" style=\"display:inline;vertical-align:middle;\" /></a> : <a class=\"ProveItLink\" href=\"../../../../__pv_it/077b2ff79244fb4582cbe22c6e3356fa92a52f2f0/expr.ipynb\"><img src=\"data:image/png;base64,iVBORw0KGgoAAAANSUhEUgAAABAAAAAOBAMAAADUAYG5AAAAMFBMVEX///+qqqru7u4iIiJ2dnbc\n",
       "3NyIiIjMzMxmZmYQEBC6uroyMjJERERUVFSYmJgAAADLUcuvAAAAAXRSTlMAQObYZgAAAGpJREFU\n",
       "CNdjYGB4+//u3dMLGIBgDgMDxy8gzf4NiP8CGWxfGRj4vgAZPBMYGJgnARn8FxhY9ygAGfXX0pof\n",
       "gDTlBzAw2YIYJ0EckBBI53sHoBH/gIz7AhBjWH9DjancBLTl/N+7t/cxMAAA3u4f/5xagjYAAAAA\n",
       "SUVORK5CYII=\n",
       "\" style=\"display:inline;vertical-align:middle;\" /></a></span></td></tr><tr><td>7</td><td>axiom</td><td></td><td><span style=\"font-size:20px;\"> <a class=\"ProveItLink\" href=\"../../negation/_axioms_.ipynb#negationElim\" style=\"text-decoration: none\">&#x22A2;&nbsp;</a><a class=\"ProveItLink\" href=\"../../negation/__pv_it/3b08940eb52ec7364a09d58733ea5eec05fbe9620/expr.ipynb\"><img src=\"data:image/png;base64,iVBORw0KGgoAAAANSUhEUgAAAJcAAAAXBAMAAAD0AcCSAAAAMFBMVEX///8QEBC6urrMzMxUVFRm\n",
       "ZmZERETc3NwyMjKqqqp2dnaIiIiYmJgiIiLu7u4AAAAU9Wx4AAAAAXRSTlMAQObYZgAAAbxJREFU\n",
       "OMtjYKAmeECsQqYN+OUPAfEFEOM0EYaZQChbLFLVIILVgIFhJYjRR4RhUDX9WKRMwWQDA0MZkGJP\n",
       "IGwWN8SXPPcf4DLsFAMDB1CSdQJhwxghhlTGF+Ay7CHQquXl5bVE+FIDQm3Yr4DLMDagk76lpd0i\n",
       "wrAoSJQ+mH8Al2FcAQwMzgwM6WBOO0Q5qrp2GKMHTD5isAeHXUQHCLSgGMYJjAEVBr4GcNB+gjgW\n",
       "xSyoIBAIgUkFhvoAXC5jEmBg4GXgBrv86R8shkEFgQBsKrOLi38CLsOYPwDj/AAvOKLWXcViGFQQ\n",
       "ZhgwDBgb8BnG1wBO28wb0jANgwkCgSSIAMYXrwCIEXsXBK5heJMh3QnEZGGIxTQMJggEOaDEDTSM\n",
       "4wMul/GA3DwVnD1PMuxHMmxZWlpaA0IQCJYC8QuQ/D98SYOBERTZfFdD8x+guiwBIQgEusCcJ9/O\n",
       "wJP/Ay06gT6+CPYxByg584DUsxYw2BugGwYXBFlZQChZP4SzdBgY+A+gGwYXBFm5gJBhq2GMJ98Y\n",
       "2P3voBpmgBAkppjiw5Jm2HApLiFgGEsBCYaxEyi2NzOQYBg5gIUCvQCemG+1sUJnVwAAAABJRU5E\n",
       "rkJggg==\n",
       "\" style=\"display:inline;vertical-align:middle;\" /></a></span></td></tr>\n",
       "<tr><td>&nbsp;</td><td colspan=4 style-\"text-align:left\"><a class=\"ProveItLink\" href=\"../../negation/_axioms_.ipynb#negationElim\">proveit.logic.boolean.negation.negationElim</a></td></tr><tr><td>8</td><td>assumption</td><td></td><td><span style=\"font-size:20px;\"><a class=\"ProveItLink\" href=\"../__pv_it/edd8455a49d47780786b5faa6e783100cb7d31cc0/expr.ipynb\"><img src=\"data:image/png;base64,iVBORw0KGgoAAAANSUhEUgAAADAAAAAVBAMAAADyTXAxAAAAMFBMVEX///9ERETc3NyqqqpUVFS6\n",
       "urrMzMwyMjIQEBCIiIh2dnYiIiLu7u5mZmaYmJgAAABJJ2g3AAAAAXRSTlMAQObYZgAAALxJREFU\n",
       "KM9jYGDgu8eABrIWgUieXQwYIMMASHB+QBFj2wAkeAuABFcDigT7B5gYmsTrP9glmGw/YZfg5PyK\n",
       "XSKG+R9MDOwCGOAJYPsJpPhALsgIYGC4vRsIQP5hZWD6C1JQy8CQ0gZTnQLCLi4fQWzGOgaGiAQk\n",
       "CaDudhAbpJulACHBDKR2wOzg2oCQUAZS9RjOZWPgAWmWP4DhDyaJ7woMD//XYg8rMMAvwYdFAhwa\n",
       "PDuxxGAAiORbjC3OAaHOM6CzgdAAAAAAAElFTkSuQmCC\n",
       "\" style=\"display:inline;vertical-align:middle;\" /></a> <a class=\"ProveItLink\" href=\"../__pv_it/04d7501518712e5b9d432219fd2131665990c4a50/proof.ipynb\" style=\"text-decoration: none\">&#x22A2;&nbsp;</a><a class=\"ProveItLink\" href=\"../__pv_it/feaa1d0e6d92ad9ead8e5ffd1f92697e3912387a0/expr.ipynb\"><img src=\"data:image/png;base64,iVBORw0KGgoAAAANSUhEUgAAABwAAAAOBAMAAADOPWE3AAAAMFBMVEX///8QEBBERES6urqIiIiq\n",
       "qqrc3Nzu7u6YmJgyMjJUVFTMzMx2dnYiIiJmZmYAAADMbjvTAAAAAXRSTlMAQObYZgAAAGNJREFU\n",
       "CNdjYEAA7gsMyIDzAwq39zsyjy3uGzKXheUzMtec9QcSj92A+wsDw9u7QHAHyGVmYPsHldkFwqtW\n",
       "fULiGjAwSCK4rEDqIoKbCqTmw1zLwD4BSOkXwFyk+DOBoen/PABSrhtHsYt+gAAAAABJRU5ErkJg\n",
       "gg==\n",
       "\" style=\"display:inline;vertical-align:middle;\" /></a></span></td></tr>\n",
       "<tr><td>9</td><td>axiom</td><td></td><td><span style=\"font-size:20px;\"> <a class=\"ProveItLink\" href=\"../../_axioms_.ipynb#eqTrueIntro\" style=\"text-decoration: none\">&#x22A2;&nbsp;</a><a class=\"ProveItLink\" href=\"../../__pv_it/d0cb838f1f1e44deadf0499da151f8dae5a0de4f0/expr.ipynb\"><img src=\"data:image/png;base64,iVBORw0KGgoAAAANSUhEUgAAAIwAAAAXBAMAAAArT7qNAAAAMFBMVEX///8QEBC6urrMzMxUVFRm\n",
       "ZmZERETc3NwyMjKqqqp2dnaIiIiYmJgiIiLu7u4AAAAU9Wx4AAAAAXRSTlMAQObYZgAAAaxJREFU\n",
       "OMtjYKAOeEBYCdMG/PI8CgwMF0CM03iVmUAoW3Rx1rtgkMAQzMCwEiTQh9cYqGw/FinmABDJwcBQ\n",
       "BqTYE/CZwg3xE8/9B7iM4VnAwAGUZJ2AzxhGiPbK+AJcxvAJMPAsLy+vxesnDQi1Yb8CLmMYMhkY\n",
       "vqWl3cJrTBQkuh7MP4DTmKUMDM4MDOlgdjtEOUxFO4zRAyYfMdiDw4i1AwwcUIyZwcCgwsDXAA6n\n",
       "T2ARNlhi+AQzRghMKjDUB+B0jSIDAy8DN9i1T/+gGAPlAgHYPGYXF/8EnMbYA+PzAC84KtZdRTEG\n",
       "yoUZA/QrYwM+Y/gawKmUeUMasjEwLhBIgghgkuAVQEm6aJ5iSHcCsVgYYpGNgXGBIAeUQIHGcHzA\n",
       "6ZoTQDwVnK1OMuxHNgbGhcQmwwuQzD98Ec7ACIpIvquh+Q8QxsC5QKALzDHy7Qw8+T8wo4p5AZhq\n",
       "AkUtSD1rAYO9AcIYOBdkTQGhkoRPAMbSYWDgP4AwBs6FZDwCgAtWID35xsDufwduDIJLuBiBhhwa\n",
       "YMMUKiFkjDtRxrATKES5DYgyhhzAQpYuAAUAaqwIkhhoAAAAAElFTkSuQmCC\n",
       "\" style=\"display:inline;vertical-align:middle;\" /></a></span></td></tr>\n",
       "<tr><td>&nbsp;</td><td colspan=4 style-\"text-align:left\"><a class=\"ProveItLink\" href=\"../../_axioms_.ipynb#eqTrueIntro\">proveit.logic.boolean.eqTrueIntro</a></td></tr><tr><td>10</td><td>assumption</td><td></td><td><span style=\"font-size:20px;\"><a class=\"ProveItLink\" href=\"../__pv_it/547fd547e34cf8546442bd6aea990dbe0adf77b90/expr.ipynb\"><img src=\"data:image/png;base64,iVBORw0KGgoAAAANSUhEUgAAACMAAAAVBAMAAAA+1EraAAAAMFBMVEX////c3NxERESqqqpUVFS6\n",
       "urrMzMwyMjIQEBCIiIh2dnYiIiLu7u5mZmaYmJgAAABXZE4RAAAAAXRSTlMAQObYZgAAAMtJREFU\n",
       "GNNjYGDgu8cAA2yrBEAUzy4GBGBrBpGcH4AEn/8XF6dSIOM6SIirAURyKDAw3A9gYFiBEMqfAMQO\n",
       "KELzgea+X4AipAHEOw6gCH1hYBDXYYAK8RaALP8yc+4+EO89iMgIALnkIwPDaaDpDOwXGBhS2kDi\n",
       "TEDdnP9ALPUHDAwRCUAGP1AF3y8ggxtoKwMLyKx8oBzLZ5hZXBugzpIvYEB2BNBZbO0HkIUu/Xdx\n",
       "KX/AgKIKDnAJ8aEIgcOLZydyqLaCKb7FqGEPACcgN6r4rcm/AAAAAElFTkSuQmCC\n",
       "\" style=\"display:inline;vertical-align:middle;\" /></a> <a class=\"ProveItLink\" href=\"../__pv_it/833aa83659a0310dae4142c972aaa6b925a3bbea0/proof.ipynb\" style=\"text-decoration: none\">&#x22A2;&nbsp;</a><a class=\"ProveItLink\" href=\"../../../../__pv_it/077b2ff79244fb4582cbe22c6e3356fa92a52f2f0/expr.ipynb\"><img src=\"data:image/png;base64,iVBORw0KGgoAAAANSUhEUgAAABAAAAAOBAMAAADUAYG5AAAAMFBMVEX///+qqqru7u4iIiJ2dnbc\n",
       "3NyIiIjMzMxmZmYQEBC6uroyMjJERERUVFSYmJgAAADLUcuvAAAAAXRSTlMAQObYZgAAAGpJREFU\n",
       "CNdjYGB4+//u3dMLGIBgDgMDxy8gzf4NiP8CGWxfGRj4vgAZPBMYGJgnARn8FxhY9ygAGfXX0pof\n",
       "gDTlBzAw2YIYJ0EckBBI53sHoBH/gIz7AhBjWH9DjancBLTl/N+7t/cxMAAA3u4f/5xagjYAAAAA\n",
       "SUVORK5CYII=\n",
       "\" style=\"display:inline;vertical-align:middle;\" /></a></span></td></tr>\n",
       "</table>"
      ],
      "text/plain": [
       "\tstep type\trequirements\tstatement\n",
       "0\tgeneralizaton\t1\t|- forall_{A, B | [not](A) , B} [not](A and B)\n",
       "1\tspecialization\t4, 2, 3\t{[not](A) , B} |- [not](A and B)\n",
       "\tP(_x_) : [not](_x_ and B), x : A, y : FALSE\n",
       "2\tspecialization\t4, 5, 6\t{B} |- [not](FALSE and B)\n",
       "\tP(_x_) : [not](FALSE and _x_), x : B, y : TRUE\n",
       "3\tspecialization\t7, 8\t{[not](A)} |- A = FALSE\n",
       "\tA : A\n",
       "4\ttheorem\t\t|- forall_{P, x, y | P(y) , x = y} P(x)\n",
       "\tproveit.logic.equality.subLeftSideInto\n",
       "5\ttheorem\t\t|- [not](FALSE and TRUE)\n",
       "\tproveit.logic.boolean.conjunction.falseAndTrueNegated\n",
       "6\tspecialization\t9, 10\t{B} |- B = TRUE\n",
       "\tA : B\n",
       "7\taxiom\t\t|- forall_{A | [not](A)} (A = FALSE)\n",
       "\tproveit.logic.boolean.negation.negationElim\n",
       "8\tassumption\t\t{[not](A)} |- [not](A)\n",
       "9\taxiom\t\t|- forall_{A | A} (A = TRUE)\n",
       "\tproveit.logic.boolean.eqTrueIntro\n",
       "10\tassumption\t\t{B} |- B"
      ]
     },
     "execution_count": 8,
     "metadata": {},
     "output_type": "execute_result"
    }
   ],
   "source": [
    "%qed"
   ]
  }
 ],
 "metadata": {
  "kernelspec": {
   "display_name": "Python 3",
   "language": "python",
   "name": "python3"
  }
 },
 "nbformat": 4,
 "nbformat_minor": 0
}
