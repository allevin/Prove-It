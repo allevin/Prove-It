{
 "cells": [
  {
   "cell_type": "markdown",
   "metadata": {
    "collapsed": true,
    "deletable": true,
    "editable": true
   },
   "source": [
    "Proof of <a class=\"ProveItLink\" href=\"../../../../_context_.ipynb\">proveit</a>.<a class=\"ProveItLink\" href=\"../../../_context_.ipynb\">logic</a>.<a class=\"ProveItLink\" href=\"../../_context_.ipynb\">boolean</a>.<a class=\"ProveItLink\" href=\"../_context_.ipynb\">conjunction</a>.<a class=\"ProveItLink\" href=\"../_theorems_.ipynb#andIfBoth\">andIfBoth</a> theorem\n",
    "========"
   ]
  },
  {
   "cell_type": "code",
   "execution_count": 1,
   "metadata": {
    "collapsed": false,
    "deletable": true,
    "editable": true
   },
   "outputs": [],
   "source": [
    "import proveit\n",
    "from proveit._common_ import A, B\n",
    "from proveit.logic.boolean.conjunction._theorems_ import trueAndTrue\n",
    "context = proveit.Context('..') # the theorem's context is in the parent directory"
   ]
  },
  {
   "cell_type": "code",
   "execution_count": 2,
   "metadata": {
    "collapsed": false,
    "deletable": true,
    "editable": true
   },
   "outputs": [
    {
     "name": "stdout",
     "output_type": "stream",
     "text": [
      "Beginning proof of andIfBoth\n",
      "Recorded 'presuming' information\n"
     ]
    },
    {
     "name": "stdout",
     "output_type": "stream",
     "text": [
      "Presuming proveit.logic.equality.subLeftSideInto theorem(s) (and any of their dependencies).\n",
      "Presuming previous theorem(s) in this context (and any of their dependencies).\n"
     ]
    },
    {
     "data": {
      "text/html": [
       "<strong id=\"andIfBoth\">andIfBoth:</strong> <a class=\"ProveItLink\" href=\"../__pv_it/75b95a60b89ba91524c4552093030c827fffaab20/expr.ipynb\"><img src=\"../__pv_it/75b95a60b89ba91524c4552093030c827fffaab20/expr.png\" style=\"display:inline;vertical-align:middle;\" /></a><br>(see <a class=\"ProveItLink\" href=\"../__pv_it/75b95a60b89ba91524c4552093030c827fffaab20/dependencies.ipynb\">dependencies</a>)<br>"
      ],
      "text/plain": [
       "andIfBoth: forall_{A, B | A , B} (A and B)"
      ]
     },
     "execution_count": 2,
     "metadata": {},
     "output_type": "execute_result"
    }
   ],
   "source": [
    "%proving andIfBoth presuming [proveit.logic.equality.subLeftSideInto]"
   ]
  },
  {
   "cell_type": "code",
   "execution_count": 3,
   "metadata": {
    "collapsed": false,
    "deletable": true,
    "editable": true
   },
   "outputs": [
    {
     "data": {
      "text/html": [
       "<strong id=\"AeqT\">AeqT:</strong> <span style=\"font-size:20px;\"><a class=\"ProveItLink\" href=\"../__pv_it/158bdc91074824c720728a23dba5d58593c8cc480/expr.ipynb\"><img src=\"../__pv_it/158bdc91074824c720728a23dba5d58593c8cc480/expr.png\" style=\"display:inline;vertical-align:middle;\" /></a> &#x22A2;&nbsp;<a class=\"ProveItLink\" href=\"../__pv_it/f4d6ed37799a8ea3909d9764c457e2a3fa701b6f0/expr.ipynb\"><img src=\"../__pv_it/f4d6ed37799a8ea3909d9764c457e2a3fa701b6f0/expr.png\" style=\"display:inline;vertical-align:middle;\" /></a></span><br>"
      ],
      "text/plain": [
       "AeqT: {A} |= A = TRUE"
      ]
     },
     "execution_count": 3,
     "metadata": {},
     "output_type": "execute_result"
    }
   ],
   "source": [
    "AeqT = A.evaluation([A])"
   ]
  },
  {
   "cell_type": "code",
   "execution_count": 4,
   "metadata": {
    "collapsed": false,
    "deletable": true,
    "editable": true
   },
   "outputs": [
    {
     "data": {
      "text/html": [
       "<strong id=\"BeqT\">BeqT:</strong> <span style=\"font-size:20px;\"><a class=\"ProveItLink\" href=\"../__pv_it/1612ee39be24e00576045a5f0471ba42a9eab2970/expr.ipynb\"><img src=\"../__pv_it/1612ee39be24e00576045a5f0471ba42a9eab2970/expr.png\" style=\"display:inline;vertical-align:middle;\" /></a> &#x22A2;&nbsp;<a class=\"ProveItLink\" href=\"../__pv_it/7f8413a78900282a37dba43b921b29b8acb133c80/expr.ipynb\"><img src=\"../__pv_it/7f8413a78900282a37dba43b921b29b8acb133c80/expr.png\" style=\"display:inline;vertical-align:middle;\" /></a></span><br>"
      ],
      "text/plain": [
       "BeqT: {B} |= B = TRUE"
      ]
     },
     "execution_count": 4,
     "metadata": {},
     "output_type": "execute_result"
    }
   ],
   "source": [
    "BeqT = B.evaluation([B])"
   ]
  },
  {
   "cell_type": "code",
   "execution_count": 5,
   "metadata": {
    "collapsed": false
   },
   "outputs": [
    {
     "data": {
      "text/html": [
       "<span style=\"font-size:20px;\"> &#x22A2;&nbsp;<a class=\"ProveItLink\" href=\"../__pv_it/bdfd35db99acac40938f2384f916c2d0ae02fba80/expr.ipynb\"><img src=\"../__pv_it/bdfd35db99acac40938f2384f916c2d0ae02fba80/expr.png\" style=\"display:inline;vertical-align:middle;\" /></a></span>"
      ],
      "text/plain": [
       "|= TRUE and TRUE"
      ]
     },
     "execution_count": 5,
     "metadata": {},
     "output_type": "execute_result"
    }
   ],
   "source": [
    "trueAndTrue"
   ]
  },
  {
   "cell_type": "code",
   "execution_count": 6,
   "metadata": {
    "collapsed": false,
    "deletable": true,
    "editable": true
   },
   "outputs": [
    {
     "data": {
      "text/html": [
       "<strong id=\"AandT\">AandT:</strong> <span style=\"font-size:20px;\"><a class=\"ProveItLink\" href=\"../__pv_it/158bdc91074824c720728a23dba5d58593c8cc480/expr.ipynb\"><img src=\"../__pv_it/158bdc91074824c720728a23dba5d58593c8cc480/expr.png\" style=\"display:inline;vertical-align:middle;\" /></a> &#x22A2;&nbsp;<a class=\"ProveItLink\" href=\"../__pv_it/650ade5b04e50ac1d4df18fa02510d825adb21970/expr.ipynb\"><img src=\"../__pv_it/650ade5b04e50ac1d4df18fa02510d825adb21970/expr.png\" style=\"display:inline;vertical-align:middle;\" /></a></span><br>"
      ],
      "text/plain": [
       "AandT: {A} |= A and TRUE"
      ]
     },
     "execution_count": 6,
     "metadata": {},
     "output_type": "execute_result"
    }
   ],
   "source": [
    "AandT = AeqT.subLeftSideInto(trueAndTrue.innerExpr().operands[0])"
   ]
  },
  {
   "cell_type": "code",
   "execution_count": 7,
   "metadata": {
    "collapsed": false,
    "deletable": true,
    "editable": true
   },
   "outputs": [
    {
     "data": {
      "text/html": [
       "<strong id=\"AandB\">AandB:</strong> <span style=\"font-size:20px;\"><a class=\"ProveItLink\" href=\"../__pv_it/5cd9b33b88e1a628ed00ab113cff428eab1aa3cc0/expr.ipynb\"><img src=\"../__pv_it/5cd9b33b88e1a628ed00ab113cff428eab1aa3cc0/expr.png\" style=\"display:inline;vertical-align:middle;\" /></a> &#x22A2;&nbsp;<a class=\"ProveItLink\" href=\"../__pv_it/edf5921e70ecbc490c6ad683c7c61276640c86b60/expr.ipynb\"><img src=\"../__pv_it/edf5921e70ecbc490c6ad683c7c61276640c86b60/expr.png\" style=\"display:inline;vertical-align:middle;\" /></a></span><br>"
      ],
      "text/plain": [
       "AandB: {A , B} |= A and B"
      ]
     },
     "execution_count": 7,
     "metadata": {},
     "output_type": "execute_result"
    }
   ],
   "source": [
    "AandB = BeqT.subLeftSideInto(AandT, assumptions=[A, B])"
   ]
  },
  {
   "cell_type": "code",
   "execution_count": 8,
   "metadata": {
    "collapsed": false,
    "deletable": true,
    "editable": true
   },
   "outputs": [
    {
     "data": {
      "text/html": [
       "<table><tr><th>&nbsp;</th><th>step type</th><th>requirements</th><th>statement</th></tr>\n",
       "<tr><td>0</td><td>generalizaton</td><td>1</td><td><span style=\"font-size:20px;\"> &#x22A2;&nbsp;<a class=\"ProveItLink\" href=\"../__pv_it/75b95a60b89ba91524c4552093030c827fffaab20/expr.ipynb\"><img src=\"../__pv_it/75b95a60b89ba91524c4552093030c827fffaab20/expr.png\" style=\"display:inline;vertical-align:middle;\" /></a></span></td></tr>\n",
       "<tr><td>1</td><td>specialization</td><td>4, 2, 3</td><td><span style=\"font-size:20px;\"><a class=\"ProveItLink\" href=\"../__pv_it/5cd9b33b88e1a628ed00ab113cff428eab1aa3cc0/expr.ipynb\"><img src=\"../__pv_it/5cd9b33b88e1a628ed00ab113cff428eab1aa3cc0/expr.png\" style=\"display:inline;vertical-align:middle;\" /></a> &#x22A2;&nbsp;<a class=\"ProveItLink\" href=\"../__pv_it/edf5921e70ecbc490c6ad683c7c61276640c86b60/expr.ipynb\"><img src=\"../__pv_it/edf5921e70ecbc490c6ad683c7c61276640c86b60/expr.png\" style=\"display:inline;vertical-align:middle;\" /></a></span></td></tr>\n",
       "<tr><td>&nbsp;</td><td colspan=4 style=\"text-align:left\"><span style=\"font-size:20px;\"><a class=\"ProveItLink\" href=\"../__pv_it/aa53f6717e19e3754b769a58e8393be00bbb13e70/expr.ipynb\"><img src=\"../__pv_it/aa53f6717e19e3754b769a58e8393be00bbb13e70/expr.png\" style=\"display:inline;vertical-align:middle;\" /></a>, <a class=\"ProveItLink\" href=\"../__pv_it/1d0e5a907bd01d1ded18c9fd07d79a35a8b62cad0/expr.ipynb\"><img src=\"../__pv_it/1d0e5a907bd01d1ded18c9fd07d79a35a8b62cad0/expr.png\" style=\"display:inline;vertical-align:middle;\" /></a>, <a class=\"ProveItLink\" href=\"../__pv_it/d510ca974ccb4c4a0bdf28224a03f23bf255e6730/expr.ipynb\"><img src=\"../__pv_it/d510ca974ccb4c4a0bdf28224a03f23bf255e6730/expr.png\" style=\"display:inline;vertical-align:middle;\" /></a></span></td></tr><tr><td>2</td><td>specialization</td><td>4, 5, 6</td><td><span style=\"font-size:20px;\"><a class=\"ProveItLink\" href=\"../__pv_it/158bdc91074824c720728a23dba5d58593c8cc480/expr.ipynb\"><img src=\"../__pv_it/158bdc91074824c720728a23dba5d58593c8cc480/expr.png\" style=\"display:inline;vertical-align:middle;\" /></a> &#x22A2;&nbsp;<a class=\"ProveItLink\" href=\"../__pv_it/650ade5b04e50ac1d4df18fa02510d825adb21970/expr.ipynb\"><img src=\"../__pv_it/650ade5b04e50ac1d4df18fa02510d825adb21970/expr.png\" style=\"display:inline;vertical-align:middle;\" /></a></span></td></tr>\n",
       "<tr><td>&nbsp;</td><td colspan=4 style=\"text-align:left\"><span style=\"font-size:20px;\"><a class=\"ProveItLink\" href=\"../__pv_it/375e83dc6f271a5051ca8e2fe766a48c49a5a26c0/expr.ipynb\"><img src=\"../__pv_it/375e83dc6f271a5051ca8e2fe766a48c49a5a26c0/expr.png\" style=\"display:inline;vertical-align:middle;\" /></a>, <a class=\"ProveItLink\" href=\"../__pv_it/cd33168b129274a9bf719c22609ca986d1a849530/expr.ipynb\"><img src=\"../__pv_it/cd33168b129274a9bf719c22609ca986d1a849530/expr.png\" style=\"display:inline;vertical-align:middle;\" /></a>, <a class=\"ProveItLink\" href=\"../__pv_it/d510ca974ccb4c4a0bdf28224a03f23bf255e6730/expr.ipynb\"><img src=\"../__pv_it/d510ca974ccb4c4a0bdf28224a03f23bf255e6730/expr.png\" style=\"display:inline;vertical-align:middle;\" /></a></span></td></tr><tr><td>3</td><td>specialization</td><td>8, 7</td><td><span style=\"font-size:20px;\"><a class=\"ProveItLink\" href=\"../__pv_it/1612ee39be24e00576045a5f0471ba42a9eab2970/expr.ipynb\"><img src=\"../__pv_it/1612ee39be24e00576045a5f0471ba42a9eab2970/expr.png\" style=\"display:inline;vertical-align:middle;\" /></a> &#x22A2;&nbsp;<a class=\"ProveItLink\" href=\"../__pv_it/7f8413a78900282a37dba43b921b29b8acb133c80/expr.ipynb\"><img src=\"../__pv_it/7f8413a78900282a37dba43b921b29b8acb133c80/expr.png\" style=\"display:inline;vertical-align:middle;\" /></a></span></td></tr>\n",
       "<tr><td>&nbsp;</td><td colspan=4 style=\"text-align:left\"><span style=\"font-size:20px;\"><a class=\"ProveItLink\" href=\"../__pv_it/788ef5511dfca54206679fdb7d1131e45dc4c3d50/expr.ipynb\"><img src=\"../__pv_it/788ef5511dfca54206679fdb7d1131e45dc4c3d50/expr.png\" style=\"display:inline;vertical-align:middle;\" /></a></span></td></tr><tr><td>4</td><td>theorem</td><td></td><td><span style=\"font-size:20px;\"> &#x22A2;&nbsp;<a class=\"ProveItLink\" href=\"../../../equality/__pv_it/6425c7b64708730992bfb72314f6aeaa5dc1d76c0/expr.ipynb\"><img src=\"../../../equality/__pv_it/6425c7b64708730992bfb72314f6aeaa5dc1d76c0/expr.png\" style=\"display:inline;vertical-align:middle;\" /></a></span></td></tr>\n",
       "<tr><td>&nbsp;</td><td colspan=4 style-\"text-align:left\"><a class=\"ProveItLink\" href=\"../../../equality/_proofs_/subLeftSideInto.ipynb\">proveit.logic.equality.subLeftSideInto</a></td></tr><tr><td>5</td><td>theorem</td><td></td><td><span style=\"font-size:20px;\"> &#x22A2;&nbsp;<a class=\"ProveItLink\" href=\"../__pv_it/bdfd35db99acac40938f2384f916c2d0ae02fba80/expr.ipynb\"><img src=\"../__pv_it/bdfd35db99acac40938f2384f916c2d0ae02fba80/expr.png\" style=\"display:inline;vertical-align:middle;\" /></a></span></td></tr>\n",
       "<tr><td>&nbsp;</td><td colspan=4 style-\"text-align:left\"><a class=\"ProveItLink\" href=\"trueAndTrue.ipynb\">proveit.logic.boolean.conjunction.trueAndTrue</a></td></tr><tr><td>6</td><td>specialization</td><td>8, 9</td><td><span style=\"font-size:20px;\"><a class=\"ProveItLink\" href=\"../__pv_it/158bdc91074824c720728a23dba5d58593c8cc480/expr.ipynb\"><img src=\"../__pv_it/158bdc91074824c720728a23dba5d58593c8cc480/expr.png\" style=\"display:inline;vertical-align:middle;\" /></a> &#x22A2;&nbsp;<a class=\"ProveItLink\" href=\"../__pv_it/f4d6ed37799a8ea3909d9764c457e2a3fa701b6f0/expr.ipynb\"><img src=\"../__pv_it/f4d6ed37799a8ea3909d9764c457e2a3fa701b6f0/expr.png\" style=\"display:inline;vertical-align:middle;\" /></a></span></td></tr>\n",
       "<tr><td>&nbsp;</td><td colspan=4 style=\"text-align:left\"><span style=\"font-size:20px;\"><a class=\"ProveItLink\" href=\"../__pv_it/e2ee195baea449ecf67452694c66cbd67b2c19580/expr.ipynb\"><img src=\"../__pv_it/e2ee195baea449ecf67452694c66cbd67b2c19580/expr.png\" style=\"display:inline;vertical-align:middle;\" /></a></span></td></tr><tr><td>7</td><td>assumption</td><td></td><td><span style=\"font-size:20px;\"><a class=\"ProveItLink\" href=\"../__pv_it/1612ee39be24e00576045a5f0471ba42a9eab2970/expr.ipynb\"><img src=\"../__pv_it/1612ee39be24e00576045a5f0471ba42a9eab2970/expr.png\" style=\"display:inline;vertical-align:middle;\" /></a> &#x22A2;&nbsp;<a class=\"ProveItLink\" href=\"../../../../__pv_it/077b2ff79244fb4582cbe22c6e3356fa92a52f2f0/expr.ipynb\"><img src=\"../../../../__pv_it/077b2ff79244fb4582cbe22c6e3356fa92a52f2f0/expr.png\" style=\"display:inline;vertical-align:middle;\" /></a></span></td></tr>\n",
       "<tr><td>8</td><td>axiom</td><td></td><td><span style=\"font-size:20px;\"> &#x22A2;&nbsp;<a class=\"ProveItLink\" href=\"../../__pv_it/17736e5847b2b74f86dc8cccbef45d3aeb8a06e80/expr.ipynb\"><img src=\"../../__pv_it/17736e5847b2b74f86dc8cccbef45d3aeb8a06e80/expr.png\" style=\"display:inline;vertical-align:middle;\" /></a></span></td></tr>\n",
       "<tr><td>&nbsp;</td><td colspan=4 style-\"text-align:left\"><a class=\"ProveItLink\" href=\"../../_axioms_.ipynb#eqTrueIntro\">proveit.logic.boolean.eqTrueIntro</a></td></tr><tr><td>9</td><td>assumption</td><td></td><td><span style=\"font-size:20px;\"><a class=\"ProveItLink\" href=\"../__pv_it/158bdc91074824c720728a23dba5d58593c8cc480/expr.ipynb\"><img src=\"../__pv_it/158bdc91074824c720728a23dba5d58593c8cc480/expr.png\" style=\"display:inline;vertical-align:middle;\" /></a> &#x22A2;&nbsp;<a class=\"ProveItLink\" href=\"../../../../__pv_it/2cbe72a7ad6f655694dd697106680215e8489b600/expr.ipynb\"><img src=\"../../../../__pv_it/2cbe72a7ad6f655694dd697106680215e8489b600/expr.png\" style=\"display:inline;vertical-align:middle;\" /></a></span></td></tr>\n",
       "</table>"
      ],
      "text/plain": [
       "\tstep type\trequirements\tstatement\n",
       "0\tgeneralizaton\t1\t|= forall_{A, B | A , B} (A and B)\n",
       "1\tspecialization\t4, 2, 3\t{A , B} |= A and B\n",
       "\tP -> [_x_ -> (A and _x_)], x -> B, y -> TRUE\n",
       "2\tspecialization\t4, 5, 6\t{A} |= A and TRUE\n",
       "\tP -> [_x_ -> (_x_ and TRUE)], x -> A, y -> TRUE\n",
       "3\tspecialization\t8, 7\t{B} |= B = TRUE\n",
       "\tA -> B\n",
       "4\ttheorem\t\t|= forall_{P, x, y | P(y) , x = y} P(x)\n",
       "\tproveit.logic.equality.subLeftSideInto\n",
       "5\ttheorem\t\t|= TRUE and TRUE\n",
       "\tproveit.logic.boolean.conjunction.trueAndTrue\n",
       "6\tspecialization\t8, 9\t{A} |= A = TRUE\n",
       "\tA -> A\n",
       "7\tassumption\t\t{B} |= B\n",
       "8\taxiom\t\t|= forall_{A | A} (A = TRUE)\n",
       "\tproveit.logic.boolean.eqTrueIntro\n",
       "9\tassumption\t\t{A} |= A"
      ]
     },
     "execution_count": 8,
     "metadata": {},
     "output_type": "execute_result"
    }
   ],
   "source": [
    "# To do this manually, execute AandB.generalize((A, B), conditions=[A, B]).\n",
    "# But this can be figured out via automation.\n",
    "%qed"
   ]
  },
  {
   "cell_type": "code",
   "execution_count": 9,
   "metadata": {
    "collapsed": true,
    "deletable": true,
    "editable": true
   },
   "outputs": [],
   "source": []
  }
 ],
 "metadata": {
  "kernelspec": {
   "display_name": "Python 3",
   "language": "python",
   "name": "python3"
  },
  "language_info": {
   "codemirror_mode": {
    "name": "ipython",
    "version": 3
   },
   "file_extension": ".py",
   "mimetype": "text/x-python",
   "name": "python",
   "nbconvert_exporter": "python",
   "pygments_lexer": "ipython3",
   "version": "3.7.0"
  }
 },
 "nbformat": 4,
 "nbformat_minor": 0
}
