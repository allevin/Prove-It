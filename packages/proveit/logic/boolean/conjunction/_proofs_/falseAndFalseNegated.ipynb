{
 "cells": [
  {
   "cell_type": "markdown",
   "metadata": {},
   "source": [
    "Proof of <a class=\"ProveItLink\" href=\"../../../../_context_.ipynb\">proveit</a>.<a class=\"ProveItLink\" href=\"../../../_context_.ipynb\">logic</a>.<a class=\"ProveItLink\" href=\"../../_context_.ipynb\">boolean</a>.<a class=\"ProveItLink\" href=\"../_context_.ipynb\">conjunction</a>.<a class=\"ProveItLink\" href=\"../_theorems_.ipynb#falseAndFalseNegated\">falseAndFalseNegated</a> theorem\n",
    "========"
   ]
  },
  {
   "cell_type": "code",
   "execution_count": 1,
   "metadata": {},
   "outputs": [],
   "source": [
    "import proveit\n",
    "from proveit.logic.boolean.conjunction._axioms_ import andFF\n",
    "context = proveit.Context('..') # the theorem's context is in the parent directory"
   ]
  },
  {
   "cell_type": "code",
   "execution_count": 2,
   "metadata": {},
   "outputs": [
    {
     "name": "stdout",
     "output_type": "stream",
     "text": [
      "Beginning proof of falseAndFalseNegated\n",
      "Recorded 'presuming' information\n",
      "falseAndFalseNegated has been proven.  Now simply execute \"%qed\".\n"
     ]
    },
    {
     "data": {
      "text/html": [
       "<strong id=\"falseAndFalseNegated\">falseAndFalseNegated:</strong> <a class=\"ProveItLink\" href=\"../__pv_it/212e6c10e2f0b1a158435422d7236785ea7f49540/expr.ipynb\"><img src=\"data:image/png;base64,iVBORw0KGgoAAAANSUhEUgAAAFYAAAAVBAMAAAAutAQGAAAAMFBMVEX////c3NxERESqqqqYmJgQ\n",
       "EBDu7u4yMjKIiIi6urpUVFTMzMx2dnYiIiJmZmYAAABjE816AAAAAXRSTlMAQObYZgAAAPtJREFU\n",
       "KM9jYCAPzMAnyTIBmce9AERKYCpjbACRr5GF2BNA5D64igS4IQ/A0shqOxhQ1LI/QFXLcgBJbRiq\n",
       "2k3XUNWyBSCUchagql3ZgaqWQRmhlu8Ailq2Al40teeQvOaAopbHgc8AVa05w9u7QHAHyGSdgKKW\n",
       "l4GxAFXtVAhvFxDzo6r1YGBYjap2P0611yCi2NWyGiCrZQbKswvgcgMTit9A6pgfoKh1h/JAHn+A\n",
       "rHYTiLiAK8w4gTLAQLl69+4lUEzAYp0PGEyxd+8qMDBUIsVxIHLiAHuUE1kEOY4ZfPCnbp4GjDSJ\n",
       "E6SjJOkFeNUuROFJ4FPKsYEBAI5PSWtze3oSAAAAAElFTkSuQmCC\n",
       "\" style=\"display:inline;vertical-align:middle;\" /></a><br>(see <a class=\"ProveItLink\" href=\"../__pv_it/212e6c10e2f0b1a158435422d7236785ea7f49540/dependencies.ipynb\">dependencies</a>)<br>"
      ],
      "text/plain": [
       "falseAndFalseNegated: [not](FALSE and FALSE)"
      ]
     },
     "execution_count": 2,
     "metadata": {},
     "output_type": "execute_result"
    }
   ],
   "source": [
    "%proving falseAndFalseNegated presuming []"
   ]
  },
  {
   "cell_type": "code",
   "execution_count": 3,
   "metadata": {},
   "outputs": [
    {
     "data": {
      "text/html": [
       "<table><tr><th>&nbsp;</th><th>step type</th><th>requirements</th><th>statement</th></tr>\n",
       "<tr><td>0</td><td>specialization</td><td>1, 2</td><td><span style=\"font-size:20px;\"> <a class=\"ProveItLink\" href=\"../__pv_it/865954c0a432d27352e9656427035adb862cb85a0/proof.ipynb\" style=\"text-decoration: none\">&#x22A2;&nbsp;</a><a class=\"ProveItLink\" href=\"../__pv_it/212e6c10e2f0b1a158435422d7236785ea7f49540/expr.ipynb\"><img src=\"data:image/png;base64,iVBORw0KGgoAAAANSUhEUgAAAFYAAAAVBAMAAAAutAQGAAAAMFBMVEX////c3NxERESqqqqYmJgQ\n",
       "EBDu7u4yMjKIiIi6urpUVFTMzMx2dnYiIiJmZmYAAABjE816AAAAAXRSTlMAQObYZgAAAPtJREFU\n",
       "KM9jYCAPzMAnyTIBmce9AERKYCpjbACRr5GF2BNA5D64igS4IQ/A0shqOxhQ1LI/QFXLcgBJbRiq\n",
       "2k3XUNWyBSCUchagql3ZgaqWQRmhlu8Ailq2Al40teeQvOaAopbHgc8AVa05w9u7QHAHyGSdgKKW\n",
       "l4GxAFXtVAhvFxDzo6r1YGBYjap2P0611yCi2NWyGiCrZQbKswvgcgMTit9A6pgfoKh1h/JAHn+A\n",
       "rHYTiLiAK8w4gTLAQLl69+4lUEzAYp0PGEyxd+8qMDBUIsVxIHLiAHuUE1kEOY4ZfPCnbp4GjDSJ\n",
       "E6SjJOkFeNUuROFJ4FPKsYEBAI5PSWtze3oSAAAAAElFTkSuQmCC\n",
       "\" style=\"display:inline;vertical-align:middle;\" /></a></span></td></tr>\n",
       "<tr><td>&nbsp;</td><td colspan=4 style=\"text-align:left\"><span style=\"font-size:20px;\"><a class=\"ProveItLink\" href=\"../../../../__pv_it/2cbe72a7ad6f655694dd697106680215e8489b600/expr.ipynb\"><img src=\"data:image/png;base64,iVBORw0KGgoAAAANSUhEUgAAAA8AAAAOBAMAAAACpFvcAAAALVBMVEX///8QEBBERERUVFS6urqI\n",
       "iIhmZmaqqqrc3Nzu7u6YmJgyMjIiIiLMzMwAAADtIaYWAAAAAXRSTlMAQObYZgAAAFtJREFUCNdj\n",
       "YACBOwxQsA9Kc52bAGG05zVAGAFxDmCaZULdAjBjCsO9ADDDgaEvAUTzGhvbKYCVMDAwbgAxChgY\n",
       "eASANAeQwf0AyJgNxEwvGRia5HYwcOm9TgAA6BoR3jrzwFcAAAAASUVORK5CYII=\n",
       "\" style=\"display:inline;vertical-align:middle;\" /></a> : <a class=\"ProveItLink\" href=\"../__pv_it/33a2f5f7983d7324def82ce5f83406db49811b410/expr.ipynb\"><img src=\"data:image/png;base64,iVBORw0KGgoAAAANSUhEUgAAADUAAAAPBAMAAAC2KZqIAAAAMFBMVEX///+qqqqYmJh2dna6urpU\n",
       "VFQyMjLu7u5EREQQEBAiIiJmZmbMzMyIiIjc3NwAAACSigvEAAAAAXRSTlMAQObYZgAAAHtJREFU\n",
       "GNNjYGBgeMuAAfguQBmn4ULPYQyeDRhy2bjleLoKcMqx+l7AKVfGsACnnBHDRpxyCxie4ZJjusDA\n",
       "egCHHFcBA08ADjlpIM7DIZcHlccix9MAMhdZbteqVStXrVoB8rkDkOAF+p571apVs1atakAKexYw\n",
       "6YAQAACUqim++g5HxgAAAABJRU5ErkJggg==\n",
       "\" style=\"display:inline;vertical-align:middle;\" /></a></span></td></tr><tr><td>1</td><td>axiom</td><td></td><td><span style=\"font-size:20px;\"> <a class=\"ProveItLink\" href=\"../../negation/_axioms_.ipynb#negationIntro\" style=\"text-decoration: none\">&#x22A2;&nbsp;</a><a class=\"ProveItLink\" href=\"../../negation/__pv_it/799eb3b565b99e60491a24b404f1db01d8e6476d0/expr.ipynb\"><img src=\"data:image/png;base64,iVBORw0KGgoAAAANSUhEUgAAAIUAAAAXBAMAAADXWpFHAAAAMFBMVEX///8QEBC6urrMzMxUVFRm\n",
       "ZmZERETc3NwyMjKqqqp2dnaIiIiYmJgiIiLu7u4AAAAU9Wx4AAAAAXRSTlMAQObYZgAAActJREFU\n",
       "OMtjYKACeECacm10gUNAfAHEOE2sEcwOKDygZlYDBoaVIE4fsWZwoDib4wOQaGBgKANS7AnEmrEb\n",
       "hXf2H5A4BTGZdQKxZsghc9infgeSDxkYeJaXl9cSawRTAzKPm/sTkGQDOuBbWtotYs1gXYDM0+P8\n",
       "AyS5AhgYnBkY0sFC7RCr4AFWgCVIDyBx+BSYfwMpTqDbVBj4wC7k+QSWYYMpOa+AUA4Lc0agWOxd\n",
       "ILgFto39K4gSYGDgZeAGm/70D4oZfPEHMM3gh5lrAsIuLt9AiQQYwdwHeMGRvu4qihlcbwMImAFk\n",
       "S0DN4GswAae5DWkoZlizJWDxywSEGZxA6iLULwzpTiBRFoZYFDMcWC8weHQAwQYkM9gOIMyoBFL9\n",
       "oHAEheZUcJY5ybAf2QyeCdwfMN3BBfMfMyQi8h9AxRhBNvFdDc1/gGTG29Cwf5hmMF2Ap9HEHwUM\n",
       "x/63AuMbFEY8IL2sBQz2BkhmhDMwf2bIQPcLgzhmmnkIZ+kAA/0AwgwmIPsPpjtAGQwdrIYxnnxj\n",
       "YPe/AzeDzz+BoeQvNABZ09LE0rKw5X2w0gZMY9nwZhh2B3QRlgJSzWCoRhfYzECyGUQBFtK1AAB+\n",
       "a2tdy7eWbQAAAABJRU5ErkJggg==\n",
       "\" style=\"display:inline;vertical-align:middle;\" /></a></span></td></tr>\n",
       "<tr><td>&nbsp;</td><td colspan=4 style-\"text-align:left\"><a class=\"ProveItLink\" href=\"../../negation/_axioms_.ipynb#negationIntro\">proveit.logic.boolean.negation.negationIntro</a></td></tr><tr><td>2</td><td>axiom</td><td></td><td><span style=\"font-size:20px;\"> <a class=\"ProveItLink\" href=\"../_axioms_.ipynb#andFF\" style=\"text-decoration: none\">&#x22A2;&nbsp;</a><a class=\"ProveItLink\" href=\"../__pv_it/ef41cb636cc6079ee47a838c2986312582f13c980/expr.ipynb\"><img src=\"data:image/png;base64,iVBORw0KGgoAAAANSUhEUgAAAHAAAAAVBAMAAABs93eRAAAAMFBMVEX////c3NwiIiJERESqqqqY\n",
       "mJh2dnZmZmYQEBDu7u4yMjJUVFTMzMyIiIi6uroAAAAs73DqAAAAAXRSTlMAQObYZgAAAQhJREFU\n",
       "OMtjYCAb8F3AJxuHW+o0iGDEolsWRLAfYMAhw7ASRPAUwAQZJ8BYx8HkAiwawTK8F1A1chWgagzD\n",
       "pZFjAqrGw5qoGmfg0viKAVXjvruoGpkdcGgsQ9XIuYAJVSNbAQ6NS1E1sgWwO6BoZAGHTtUqEFiN\n",
       "LNOHqpGJgXEBika+Bhw2/kPVGMvAsAdFI88H4jRqQlMEYY0tKBpZgDSXAKZTi5RAQBlZoymKRpAm\n",
       "lgJkjawLcNiYjqLxMIhQICo6HgETMtAVTUpKBqDoBwndhbhNA+w2rgdoumAyHALIomBVfMgiM3Dl\n",
       "KtYE/Nk1F6fMSrz6OBfglJLGq5FbAKcUI96i4w4uCQAP+0dxtDeYeAAAAABJRU5ErkJggg==\n",
       "\" style=\"display:inline;vertical-align:middle;\" /></a></span></td></tr>\n",
       "<tr><td>&nbsp;</td><td colspan=4 style-\"text-align:left\"><a class=\"ProveItLink\" href=\"../_axioms_.ipynb#andFF\">proveit.logic.boolean.conjunction.andFF</a></td></tr></table>"
      ],
      "text/plain": [
       "\tstep type\trequirements\tstatement\n",
       "0\tspecialization\t1, 2\t|- [not](FALSE and FALSE)\n",
       "\tA : FALSE and FALSE\n",
       "1\taxiom\t\t|- forall_{A | A = FALSE} [not](A)\n",
       "\tproveit.logic.boolean.negation.negationIntro\n",
       "2\taxiom\t\t|- (FALSE and FALSE) = FALSE\n",
       "\tproveit.logic.boolean.conjunction.andFF"
      ]
     },
     "execution_count": 3,
     "metadata": {},
     "output_type": "execute_result"
    }
   ],
   "source": [
    "%qed"
   ]
  },
  {
   "cell_type": "code",
   "execution_count": null,
   "metadata": {},
   "outputs": [],
   "source": []
  }
 ],
 "metadata": {
  "kernelspec": {
   "display_name": "Python 3",
   "language": "python",
   "name": "python3"
  }
 },
 "nbformat": 4,
 "nbformat_minor": 0
}
