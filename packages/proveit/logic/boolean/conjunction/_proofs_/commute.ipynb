{
 "cells": [
  {
   "cell_type": "markdown",
   "metadata": {},
   "source": [
    "Proof of <a class=\"ProveItLink\" href=\"../../../../_context_.ipynb\">proveit</a>.<a class=\"ProveItLink\" href=\"../../../_context_.ipynb\">logic</a>.<a class=\"ProveItLink\" href=\"../../_context_.ipynb\">boolean</a>.<a class=\"ProveItLink\" href=\"../_context_.ipynb\">conjunction</a>.<a class=\"ProveItLink\" href=\"../_theorems_.ipynb#commute\">commute</a> theorem\n",
    "========"
   ]
  },
  {
   "cell_type": "code",
   "execution_count": 1,
   "metadata": {},
   "outputs": [],
   "source": [
    "import proveit\n",
    "context = proveit.Context('..') # the theorem's context is in the parent directory"
   ]
  },
  {
   "cell_type": "code",
   "execution_count": 2,
   "metadata": {},
   "outputs": [
    {
     "name": "stdout",
     "output_type": "stream",
     "text": [
      "Beginning proof of commute\n",
      "Recorded 'presuming' information\n",
      "Presuming previous theorems (applied transitively).\n"
     ]
    },
    {
     "data": {
      "text/html": [
       "<strong id=\"commute\">commute:</strong> <a class=\"ProveItLink\" href=\"../__pv_it/5ba5b004159e2095a69f90e24d4e8789a44431760/expr.ipynb\"><img src=\"data:image/png;base64,iVBORw0KGgoAAAANSUhEUgAAALMAAAAXBAMAAACyt2M4AAAAMFBMVEX///8QEBC6urrMzMxUVFRm\n",
       "ZmZERETc3NwyMjKqqqp2dnaIiIiYmJgiIiLu7u4AAAAU9Wx4AAAAAXRSTlMAQObYZgAAAt9JREFU\n",
       "SMe1VU1IVFEU/py/18x78xxaRG1kFi1aVE5QBrVQdBAhaGYxUxBISqQtwnkLSVpIsykJJGdjazeR\n",
       "EYRRu1n4ioh+CA1yUyITFLSRIv/Txs65793nbcgBRzpwj+eeM/e793znnCfw/6RU60HfRLXoc1rT\n",
       "bLytAfo4rRebyeSVeGXET5jBBPCAN3dqgBZn9hHIT7HVttLf84NUHrjG7q6dI+vMh3+d1qKDl/ZC\n",
       "78qk3pCLbgsWdg5dx6/UVwDjl9g3zcmINkpefKbI/YGBwRr4OMQqFAOiDWLfWvTy0ZmiED13uafn\n",
       "Yw3QF1jVt0C7JUg281EZORreIB0hgtqAXuEaEvruUrY9IZrLq4rlGuFcNnNJeodZNZ8pdtpiG7El\n",
       "q2acK4Aw1fEg3cguw6m0EYMeE8lKkCmvu54Bj6W9l9WkBfOD2Eah5d1+h7bEf5gr6OLirxsiEmyB\n",
       "b0WFNi9yeIzNDNAoUxAP6WZ4252MNrffk8llbh7qQN2OCrYezTjXTyA4rUJH5ok1/yybn4BOqNDc\n",
       "d1Pi1jlnhkgox/0utJkXPv9Ej4h8T+CVpUKfDlHXh77x+xdgDEnoA3yGE00xx+G0rEmY1nuXEPS2\n",
       "sivgPqix+LQPKnQLJ3HKoLR968V2b+auum2trcpSh8XQXKc1wjVj6kdF/q8xKY6MU7VKCrRR0Cm1\n",
       "Ph7cSB5Gg4S+57b1MTHwTXA/R6IlciWn+VDHI2vOZHMC8TJxUlCg57PnyvCn6WqE0jDXJPQRqnhu\n",
       "Mdkx7AwMKxoarXvVwsvNm5QH95XBkEELzaKd6WxjQoE+D/8CAiXe1hfgW/AG3VIHKP7XJMAZdFcO\n",
       "00lbG4JWhjajcO0jjjdwgngt4EYJg95HyBirPq0PpfFlGVpqlio+vpTtKGxBm6ku9P+2z5LZFRnJ\n",
       "Zm5XfFS3FTNf4TAUO6TYlrtU6a8KHaj8+cltoP8lWtV/YE8qHfYOoHchgd0C/AHjLbEL913/rAAA\n",
       "AABJRU5ErkJggg==\n",
       "\" style=\"display:inline;vertical-align:middle;\" /></a><br>(see <a class=\"ProveItLink\" href=\"../__pv_it/5ba5b004159e2095a69f90e24d4e8789a44431760/dependencies.ipynb\">dependencies</a>)<br>"
      ],
      "text/plain": [
       "commute: forall_{A, B | A and B} (B and A)"
      ]
     },
     "execution_count": 2,
     "metadata": {},
     "output_type": "execute_result"
    }
   ],
   "source": [
    "%proving commute presuming []"
   ]
  },
  {
   "cell_type": "code",
   "execution_count": null,
   "metadata": {},
   "outputs": [],
   "source": []
  }
 ],
 "metadata": {
  "kernelspec": {
   "display_name": "Python 3",
   "language": "python",
   "name": "python3"
  }
 },
 "nbformat": 4,
 "nbformat_minor": 0
}
