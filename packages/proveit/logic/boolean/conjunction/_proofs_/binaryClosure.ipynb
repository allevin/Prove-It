{
 "cells": [
  {
   "cell_type": "markdown",
   "metadata": {
    "collapsed": true
   },
   "source": [
    "Proof of <a class=\"ProveItLink\" href=\"../../../../_context_.ipynb\">proveit</a>.<a class=\"ProveItLink\" href=\"../../../_context_.ipynb\">logic</a>.<a class=\"ProveItLink\" href=\"../../_context_.ipynb\">boolean</a>.<a class=\"ProveItLink\" href=\"../_context_.ipynb\">conjunction</a>.<a class=\"ProveItLink\" href=\"../_theorems_.ipynb#binaryClosure\">binaryClosure</a> theorem\n",
    "========"
   ]
  },
  {
   "cell_type": "code",
   "execution_count": 1,
   "metadata": {},
   "outputs": [],
   "source": [
    "import proveit\n",
    "from proveit.logic.boolean._theorems_ import foldForallOverBool\n",
    "# we need to import these to derive their side-effects:\n",
    "from proveit.logic.boolean.conjunction._theorems_ import falseAndTrueNegated, trueAndFalseNegated, falseAndFalseNegated\n",
    "context = proveit.Context('..') # the theorem's context is in the parent directory"
   ]
  },
  {
   "cell_type": "code",
   "execution_count": 2,
   "metadata": {
    "scrolled": true
   },
   "outputs": [
    {
     "name": "stdout",
     "output_type": "stream",
     "text": [
      "Beginning proof of binaryClosure\n",
      "Recorded 'presuming' information\n"
     ]
    },
    {
     "name": "stdout",
     "output_type": "stream",
     "text": [
      "Presuming proveit.logic.boolean.foldForallOverBool theorem (applied transitively).\n",
      "Presuming previous theorems (applied transitively).\n"
     ]
    },
    {
     "data": {
      "text/html": [
       "<strong id=\"binaryClosure\">binaryClosure:</strong> <a class=\"ProveItLink\" href=\"../__pv_it/244f893d22edfe0a615f2950c7e545acc3d4e4a30/expr.ipynb\"><img src=\"../__pv_it/244f893d22edfe0a615f2950c7e545acc3d4e4a30/expr.png\" style=\"display:inline;vertical-align:middle;\" /></a><br>(see <a class=\"ProveItLink\" href=\"../__pv_it/244f893d22edfe0a615f2950c7e545acc3d4e4a30/dependencies.ipynb\">dependencies</a>)<br>"
      ],
      "text/plain": [
       "binaryClosure: forall_{A, B in BOOLEANS} ((A and B) in BOOLEANS)"
      ]
     },
     "execution_count": 2,
     "metadata": {},
     "output_type": "execute_result"
    }
   ],
   "source": [
    "%proving binaryClosure presuming [foldForallOverBool]"
   ]
  },
  {
   "cell_type": "code",
   "execution_count": 3,
   "metadata": {},
   "outputs": [
    {
     "data": {
      "text/html": [
       "<table><tr><th>&nbsp;</th><th>step type</th><th>requirements</th><th>statement</th></tr>\n",
       "<tr><td>0</td><td>specialization</td><td>5, 1, 2</td><td><span style=\"font-size:20px;\"> &#x22A2;&nbsp;<a class=\"ProveItLink\" href=\"../__pv_it/244f893d22edfe0a615f2950c7e545acc3d4e4a30/expr.ipynb\"><img src=\"../__pv_it/244f893d22edfe0a615f2950c7e545acc3d4e4a30/expr.png\" style=\"display:inline;vertical-align:middle;\" /></a></span></td></tr>\n",
       "<tr><td>&nbsp;</td><td colspan=4 style=\"text-align:left\"><span style=\"font-size:20px;\"><a class=\"ProveItLink\" href=\"../../../../__pv_it/d2c2aa3c0d5707e464a75d67a5b95d12c40fc6e30/expr.ipynb\"><img src=\"../../../../__pv_it/d2c2aa3c0d5707e464a75d67a5b95d12c40fc6e30/expr.png\" style=\"display:inline;vertical-align:middle;\" /></a> : <a class=\"ProveItLink\" href=\"../__pv_it/d9e07ed01381a43ef75ac20d227fc80be3067c290/expr.ipynb\"><img src=\"../__pv_it/d9e07ed01381a43ef75ac20d227fc80be3067c290/expr.png\" style=\"display:inline;vertical-align:middle;\" /></a></span></td></tr><tr><td>1</td><td>specialization</td><td>5, 3, 4</td><td><span style=\"font-size:20px;\"> &#x22A2;&nbsp;<a class=\"ProveItLink\" href=\"../__pv_it/aeed53f4ba3c280c7125a3b39c2661a0d3c2034b0/expr.ipynb\"><img src=\"../__pv_it/aeed53f4ba3c280c7125a3b39c2661a0d3c2034b0/expr.png\" style=\"display:inline;vertical-align:middle;\" /></a></span></td></tr>\n",
       "<tr><td>&nbsp;</td><td colspan=4 style=\"text-align:left\"><span style=\"font-size:20px;\"><a class=\"ProveItLink\" href=\"../__pv_it/ad095e13b01bc019c369fe6e303d02452e55c56f0/expr.ipynb\"><img src=\"../__pv_it/ad095e13b01bc019c369fe6e303d02452e55c56f0/expr.png\" style=\"display:inline;vertical-align:middle;\" /></a> : <a class=\"ProveItLink\" href=\"../__pv_it/12c82cf2ddf28b1da991c79cd51181bb5b3b4d130/expr.ipynb\"><img src=\"../__pv_it/12c82cf2ddf28b1da991c79cd51181bb5b3b4d130/expr.png\" style=\"display:inline;vertical-align:middle;\" /></a>, relabeling <a class=\"ProveItLink\" href=\"../../../../__pv_it/2cbe72a7ad6f655694dd697106680215e8489b600/expr.ipynb\"><img src=\"../../../../__pv_it/2cbe72a7ad6f655694dd697106680215e8489b600/expr.png\" style=\"display:inline;vertical-align:middle;\" /></a> : <a class=\"ProveItLink\" href=\"../../../../__pv_it/077b2ff79244fb4582cbe22c6e3356fa92a52f2f0/expr.ipynb\"><img src=\"../../../../__pv_it/077b2ff79244fb4582cbe22c6e3356fa92a52f2f0/expr.png\" style=\"display:inline;vertical-align:middle;\" /></a></span></td></tr><tr><td>2</td><td>specialization</td><td>5, 6, 7</td><td><span style=\"font-size:20px;\"> &#x22A2;&nbsp;<a class=\"ProveItLink\" href=\"../__pv_it/a1a3c6701dbaed9a832eb62f4acae98bc62598890/expr.ipynb\"><img src=\"../__pv_it/a1a3c6701dbaed9a832eb62f4acae98bc62598890/expr.png\" style=\"display:inline;vertical-align:middle;\" /></a></span></td></tr>\n",
       "<tr><td>&nbsp;</td><td colspan=4 style=\"text-align:left\"><span style=\"font-size:20px;\"><a class=\"ProveItLink\" href=\"../__pv_it/ad095e13b01bc019c369fe6e303d02452e55c56f0/expr.ipynb\"><img src=\"../__pv_it/ad095e13b01bc019c369fe6e303d02452e55c56f0/expr.png\" style=\"display:inline;vertical-align:middle;\" /></a> : <a class=\"ProveItLink\" href=\"../__pv_it/fc86c5ce247b4fb6c7c672c345aa3819ff31a8aa0/expr.ipynb\"><img src=\"../__pv_it/fc86c5ce247b4fb6c7c672c345aa3819ff31a8aa0/expr.png\" style=\"display:inline;vertical-align:middle;\" /></a>, relabeling <a class=\"ProveItLink\" href=\"../../../../__pv_it/2cbe72a7ad6f655694dd697106680215e8489b600/expr.ipynb\"><img src=\"../../../../__pv_it/2cbe72a7ad6f655694dd697106680215e8489b600/expr.png\" style=\"display:inline;vertical-align:middle;\" /></a> : <a class=\"ProveItLink\" href=\"../../../../__pv_it/077b2ff79244fb4582cbe22c6e3356fa92a52f2f0/expr.ipynb\"><img src=\"../../../../__pv_it/077b2ff79244fb4582cbe22c6e3356fa92a52f2f0/expr.png\" style=\"display:inline;vertical-align:middle;\" /></a></span></td></tr><tr><td>3</td><td>specialization</td><td>8, 9</td><td><span style=\"font-size:20px;\"> &#x22A2;&nbsp;<a class=\"ProveItLink\" href=\"../__pv_it/1797fc94c6448883cbbb3d1433b07e6bd8d4d5cc0/expr.ipynb\"><img src=\"../__pv_it/1797fc94c6448883cbbb3d1433b07e6bd8d4d5cc0/expr.png\" style=\"display:inline;vertical-align:middle;\" /></a></span></td></tr>\n",
       "<tr><td>&nbsp;</td><td colspan=4 style=\"text-align:left\"><span style=\"font-size:20px;\"><a class=\"ProveItLink\" href=\"../../../../__pv_it/2cbe72a7ad6f655694dd697106680215e8489b600/expr.ipynb\"><img src=\"../../../../__pv_it/2cbe72a7ad6f655694dd697106680215e8489b600/expr.png\" style=\"display:inline;vertical-align:middle;\" /></a> : <a class=\"ProveItLink\" href=\"../__pv_it/bdfd35db99acac40938f2384f916c2d0ae02fba80/expr.ipynb\"><img src=\"../__pv_it/bdfd35db99acac40938f2384f916c2d0ae02fba80/expr.png\" style=\"display:inline;vertical-align:middle;\" /></a></span></td></tr><tr><td>4</td><td>specialization</td><td>12, 10</td><td><span style=\"font-size:20px;\"> &#x22A2;&nbsp;<a class=\"ProveItLink\" href=\"../__pv_it/3e770eb5565a3e9fe0b027a384c572b4ed9356890/expr.ipynb\"><img src=\"../__pv_it/3e770eb5565a3e9fe0b027a384c572b4ed9356890/expr.png\" style=\"display:inline;vertical-align:middle;\" /></a></span></td></tr>\n",
       "<tr><td>&nbsp;</td><td colspan=4 style=\"text-align:left\"><span style=\"font-size:20px;\"><a class=\"ProveItLink\" href=\"../../../../__pv_it/2cbe72a7ad6f655694dd697106680215e8489b600/expr.ipynb\"><img src=\"../../../../__pv_it/2cbe72a7ad6f655694dd697106680215e8489b600/expr.png\" style=\"display:inline;vertical-align:middle;\" /></a> : <a class=\"ProveItLink\" href=\"../__pv_it/18ff389cf43fee9afbaa2483be6ccf0362070b4c0/expr.ipynb\"><img src=\"../__pv_it/18ff389cf43fee9afbaa2483be6ccf0362070b4c0/expr.png\" style=\"display:inline;vertical-align:middle;\" /></a></span></td></tr><tr><td>5</td><td>theorem</td><td></td><td><span style=\"font-size:20px;\"> &#x22A2;&nbsp;<a class=\"ProveItLink\" href=\"../../__pv_it/aee6960d17505c798b9d1f24ff6ef5d96fac5a9a0/expr.ipynb\"><img src=\"../../__pv_it/aee6960d17505c798b9d1f24ff6ef5d96fac5a9a0/expr.png\" style=\"display:inline;vertical-align:middle;\" /></a></span></td></tr>\n",
       "<tr><td>&nbsp;</td><td colspan=4 style-\"text-align:left\"><a class=\"ProveItLink\" href=\"../../_proofs_/foldForallOverBool.ipynb\">proveit.logic.boolean.foldForallOverBool</a></td></tr><tr><td>6</td><td>specialization</td><td>12, 11</td><td><span style=\"font-size:20px;\"> &#x22A2;&nbsp;<a class=\"ProveItLink\" href=\"../__pv_it/77b7651f346fb894442f7d1d365dbf5b2d0ab3790/expr.ipynb\"><img src=\"../__pv_it/77b7651f346fb894442f7d1d365dbf5b2d0ab3790/expr.png\" style=\"display:inline;vertical-align:middle;\" /></a></span></td></tr>\n",
       "<tr><td>&nbsp;</td><td colspan=4 style=\"text-align:left\"><span style=\"font-size:20px;\"><a class=\"ProveItLink\" href=\"../../../../__pv_it/2cbe72a7ad6f655694dd697106680215e8489b600/expr.ipynb\"><img src=\"../../../../__pv_it/2cbe72a7ad6f655694dd697106680215e8489b600/expr.png\" style=\"display:inline;vertical-align:middle;\" /></a> : <a class=\"ProveItLink\" href=\"../__pv_it/28d3eb18ba0bdc0f99da6ba52e9f7711f86081f20/expr.ipynb\"><img src=\"../__pv_it/28d3eb18ba0bdc0f99da6ba52e9f7711f86081f20/expr.png\" style=\"display:inline;vertical-align:middle;\" /></a></span></td></tr><tr><td>7</td><td>specialization</td><td>12, 13</td><td><span style=\"font-size:20px;\"> &#x22A2;&nbsp;<a class=\"ProveItLink\" href=\"../__pv_it/3a9d23499ab7cd6c0f559103076750720b08c0ec0/expr.ipynb\"><img src=\"../__pv_it/3a9d23499ab7cd6c0f559103076750720b08c0ec0/expr.png\" style=\"display:inline;vertical-align:middle;\" /></a></span></td></tr>\n",
       "<tr><td>&nbsp;</td><td colspan=4 style=\"text-align:left\"><span style=\"font-size:20px;\"><a class=\"ProveItLink\" href=\"../../../../__pv_it/2cbe72a7ad6f655694dd697106680215e8489b600/expr.ipynb\"><img src=\"../../../../__pv_it/2cbe72a7ad6f655694dd697106680215e8489b600/expr.png\" style=\"display:inline;vertical-align:middle;\" /></a> : <a class=\"ProveItLink\" href=\"../__pv_it/21485fbfbadad34c833f6cd2b0016387d44a19bf0/expr.ipynb\"><img src=\"../__pv_it/21485fbfbadad34c833f6cd2b0016387d44a19bf0/expr.png\" style=\"display:inline;vertical-align:middle;\" /></a></span></td></tr><tr><td>8</td><td>theorem</td><td></td><td><span style=\"font-size:20px;\"> &#x22A2;&nbsp;<a class=\"ProveItLink\" href=\"../../__pv_it/1d8cf37f5c705c7f67ba9cbc584342aedfb4c1440/expr.ipynb\"><img src=\"../../__pv_it/1d8cf37f5c705c7f67ba9cbc584342aedfb4c1440/expr.png\" style=\"display:inline;vertical-align:middle;\" /></a></span></td></tr>\n",
       "<tr><td>&nbsp;</td><td colspan=4 style-\"text-align:left\"><a class=\"ProveItLink\" href=\"../../_proofs_/inBoolIfTrue.ipynb\">proveit.logic.boolean.inBoolIfTrue</a></td></tr><tr><td>9</td><td>theorem</td><td></td><td><span style=\"font-size:20px;\"> &#x22A2;&nbsp;<a class=\"ProveItLink\" href=\"../__pv_it/bdfd35db99acac40938f2384f916c2d0ae02fba80/expr.ipynb\"><img src=\"../__pv_it/bdfd35db99acac40938f2384f916c2d0ae02fba80/expr.png\" style=\"display:inline;vertical-align:middle;\" /></a></span></td></tr>\n",
       "<tr><td>&nbsp;</td><td colspan=4 style-\"text-align:left\"><a class=\"ProveItLink\" href=\"trueAndTrue.ipynb\">proveit.logic.boolean.conjunction.trueAndTrue</a></td></tr><tr><td>10</td><td>theorem</td><td></td><td><span style=\"font-size:20px;\"> &#x22A2;&nbsp;<a class=\"ProveItLink\" href=\"../__pv_it/7f2fc15a9f23e5089f6bb79aeb43e3459be023490/expr.ipynb\"><img src=\"../__pv_it/7f2fc15a9f23e5089f6bb79aeb43e3459be023490/expr.png\" style=\"display:inline;vertical-align:middle;\" /></a></span></td></tr>\n",
       "<tr><td>&nbsp;</td><td colspan=4 style-\"text-align:left\"><a class=\"ProveItLink\" href=\"trueAndFalseNegated.ipynb\">proveit.logic.boolean.conjunction.trueAndFalseNegated</a></td></tr><tr><td>11</td><td>theorem</td><td></td><td><span style=\"font-size:20px;\"> &#x22A2;&nbsp;<a class=\"ProveItLink\" href=\"../__pv_it/e3698de5523b3ba396528b983003062ac08fceee0/expr.ipynb\"><img src=\"../__pv_it/e3698de5523b3ba396528b983003062ac08fceee0/expr.png\" style=\"display:inline;vertical-align:middle;\" /></a></span></td></tr>\n",
       "<tr><td>&nbsp;</td><td colspan=4 style-\"text-align:left\"><a class=\"ProveItLink\" href=\"falseAndTrueNegated.ipynb\">proveit.logic.boolean.conjunction.falseAndTrueNegated</a></td></tr><tr><td>12</td><td>theorem</td><td></td><td><span style=\"font-size:20px;\"> &#x22A2;&nbsp;<a class=\"ProveItLink\" href=\"../../__pv_it/12ae38d734bba4799de856e620724384bea97dbe0/expr.ipynb\"><img src=\"../../__pv_it/12ae38d734bba4799de856e620724384bea97dbe0/expr.png\" style=\"display:inline;vertical-align:middle;\" /></a></span></td></tr>\n",
       "<tr><td>&nbsp;</td><td colspan=4 style-\"text-align:left\"><a class=\"ProveItLink\" href=\"../../_proofs_/inBoolIfFalse.ipynb\">proveit.logic.boolean.inBoolIfFalse</a></td></tr><tr><td>13</td><td>theorem</td><td></td><td><span style=\"font-size:20px;\"> &#x22A2;&nbsp;<a class=\"ProveItLink\" href=\"../__pv_it/99f89db8ce399898d7e20ab5de2549e20139671f0/expr.ipynb\"><img src=\"../__pv_it/99f89db8ce399898d7e20ab5de2549e20139671f0/expr.png\" style=\"display:inline;vertical-align:middle;\" /></a></span></td></tr>\n",
       "<tr><td>&nbsp;</td><td colspan=4 style-\"text-align:left\"><a class=\"ProveItLink\" href=\"falseAndFalseNegated.ipynb\">proveit.logic.boolean.conjunction.falseAndFalseNegated</a></td></tr></table>"
      ],
      "text/plain": [
       "\tstep type\trequirements\tstatement\n",
       "0\tspecialization\t5, 1, 2\t|= forall_{A, B in BOOLEANS} ((A and B) in BOOLEANS)\n",
       "\tP(A) : forall_{B in BOOLEANS} ((A and B) in BOOLEANS)\n",
       "1\tspecialization\t5, 3, 4\t|= forall_{B in BOOLEANS} ((TRUE and B) in BOOLEANS)\n",
       "\tP(B) : (TRUE and B) in BOOLEANS, relabeling A : B\n",
       "2\tspecialization\t5, 6, 7\t|= forall_{B in BOOLEANS} ((FALSE and B) in BOOLEANS)\n",
       "\tP(B) : (FALSE and B) in BOOLEANS, relabeling A : B\n",
       "3\tspecialization\t8, 9\t|= (TRUE and TRUE) in BOOLEANS\n",
       "\tA : TRUE and TRUE\n",
       "4\tspecialization\t12, 10\t|= (TRUE and FALSE) in BOOLEANS\n",
       "\tA : TRUE and FALSE\n",
       "5\ttheorem\t\t|= forall_{P | P(TRUE) , P(FALSE)} [forall_{A in BOOLEANS} P(A)]\n",
       "\tproveit.logic.boolean.foldForallOverBool\n",
       "6\tspecialization\t12, 11\t|= (FALSE and TRUE) in BOOLEANS\n",
       "\tA : FALSE and TRUE\n",
       "7\tspecialization\t12, 13\t|= (FALSE and FALSE) in BOOLEANS\n",
       "\tA : FALSE and FALSE\n",
       "8\ttheorem\t\t|= forall_{A | A} (A in BOOLEANS)\n",
       "\tproveit.logic.boolean.inBoolIfTrue\n",
       "9\ttheorem\t\t|= TRUE and TRUE\n",
       "\tproveit.logic.boolean.conjunction.trueAndTrue\n",
       "10\ttheorem\t\t|= [not](TRUE and FALSE)\n",
       "\tproveit.logic.boolean.conjunction.trueAndFalseNegated\n",
       "11\ttheorem\t\t|= [not](FALSE and TRUE)\n",
       "\tproveit.logic.boolean.conjunction.falseAndTrueNegated\n",
       "12\ttheorem\t\t|= forall_{A | [not](A)} (A in BOOLEANS)\n",
       "\tproveit.logic.boolean.inBoolIfFalse\n",
       "13\ttheorem\t\t|= [not](FALSE and FALSE)\n",
       "\tproveit.logic.boolean.conjunction.falseAndFalseNegated"
      ]
     },
     "execution_count": 3,
     "metadata": {},
     "output_type": "execute_result"
    }
   ],
   "source": [
    "%qed # concludeAsFolded automatically"
   ]
  },
  {
   "cell_type": "code",
   "execution_count": null,
   "metadata": {},
   "outputs": [],
   "source": []
  }
 ],
 "metadata": {
  "kernelspec": {
   "display_name": "Python 3",
   "language": "python",
   "name": "python3"
  },
  "language_info": {
   "codemirror_mode": {
    "name": "ipython",
    "version": 3
   },
   "file_extension": ".py",
   "mimetype": "text/x-python",
   "name": "python",
   "nbconvert_exporter": "python",
   "pygments_lexer": "ipython3",
   "version": "3.7.0"
  }
 },
 "nbformat": 4,
 "nbformat_minor": 1
}
