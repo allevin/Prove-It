{
 "cells": [
  {
   "cell_type": "markdown",
   "metadata": {
    "collapsed": true
   },
   "source": [
    "Proof of <a class=\"ProveItLink\" href=\"../../../../_context_.ipynb\">proveit</a>.<a class=\"ProveItLink\" href=\"../../../_context_.ipynb\">logic</a>.<a class=\"ProveItLink\" href=\"../../_context_.ipynb\">boolean</a>.<a class=\"ProveItLink\" href=\"../_context_.ipynb\">conjunction</a>.<a class=\"ProveItLink\" href=\"../_theorems_.ipynb#leftFromAnd\">leftFromAnd</a> theorem\n",
    "========"
   ]
  },
  {
   "cell_type": "code",
   "execution_count": 1,
   "metadata": {},
   "outputs": [],
   "source": [
    "import proveit\n",
    "from proveit import defaults\n",
    "from proveit.logic import TRUE, FALSE, Booleans, Not, And, Forall, Implies\n",
    "from proveit._common_ import A, B\n",
    "from proveit.logic.boolean._theorems_ import unfoldInBoolExplicit, inBoolIfTrue, foldForallOverBool\n",
    "from proveit.logic.boolean.conjunction._axioms_ import leftInBool, rightInBool\n",
    "from proveit.logic.boolean.conjunction._theorems_ import trueAndTrue, trueAndFalseNegated, falseAndTrueNegated, falseAndFalseNegated\n",
    "from proveit.logic.equality._theorems_ import contradictionViaFalsification\n",
    "from proveit.logic.boolean.implication._theorems_ import affirmViaContradiction, falseAntecedentImplication\n",
    "context = proveit.Context('..') # the theorem's context is in the parent directory"
   ]
  },
  {
   "cell_type": "code",
   "execution_count": 2,
   "metadata": {},
   "outputs": [
    {
     "name": "stdout",
     "output_type": "stream",
     "text": [
      "Beginning proof of leftFromAnd\n",
      "Recorded 'presuming' information\n",
      "Presuming proveit.logic.boolean.foldForallOverBool, proveit.logic.boolean.implication.falseAntecedentImplication, proveit.logic.boolean.inBoolIfTrue, proveit.logic.boolean.unfoldInBoolExplicit theorems (applied transitively).\n",
      "Presuming previous theorems (applied transitively).\n"
     ]
    },
    {
     "data": {
      "text/html": [
       "<strong id=\"leftFromAnd\">leftFromAnd:</strong> <a class=\"ProveItLink\" href=\"../__pv_it/02f63a5ed79febf39563abd5215f100e326a61450/expr.ipynb\"><img src=\"../__pv_it/02f63a5ed79febf39563abd5215f100e326a61450/expr.png\" style=\"display:inline;vertical-align:middle;\" /></a><br>(see <a class=\"ProveItLink\" href=\"../__pv_it/02f63a5ed79febf39563abd5215f100e326a61450/dependencies.ipynb\">dependencies</a>)<br>"
      ],
      "text/plain": [
       "leftFromAnd: forall_{A, B | A and B} A"
      ]
     },
     "execution_count": 2,
     "metadata": {},
     "output_type": "execute_result"
    }
   ],
   "source": [
    "%proving leftFromAnd presuming [inBoolIfTrue, unfoldInBoolExplicit, falseAntecedentImplication, foldForallOverBool]"
   ]
  },
  {
   "cell_type": "code",
   "execution_count": 3,
   "metadata": {},
   "outputs": [
    {
     "data": {
      "text/html": [
       "<strong id=\"defaults.assumptions\">defaults.assumptions:</strong> <a class=\"ProveItLink\" href=\"../__pv_it/d75caefbc93457a355847fcbfc6e5ae63d493e680/expr.ipynb\"><img src=\"../__pv_it/d75caefbc93457a355847fcbfc6e5ae63d493e680/expr.png\" style=\"display:inline;vertical-align:middle;\" /></a><br>"
      ],
      "text/plain": [
       "defaults.assumptions: (A and B)"
      ]
     },
     "execution_count": 3,
     "metadata": {},
     "output_type": "execute_result"
    }
   ],
   "source": [
    "defaults.assumptions = leftFromAnd.conditions"
   ]
  },
  {
   "cell_type": "code",
   "execution_count": 4,
   "metadata": {},
   "outputs": [
    {
     "data": {
      "text/html": [
       "<span style=\"font-size:20px;\"> &#x22A2;&nbsp;<a class=\"ProveItLink\" href=\"../__pv_it/bdfd35db99acac40938f2384f916c2d0ae02fba80/expr.ipynb\"><img src=\"../__pv_it/bdfd35db99acac40938f2384f916c2d0ae02fba80/expr.png\" style=\"display:inline;vertical-align:middle;\" /></a></span>"
      ],
      "text/plain": [
       "|= TRUE and TRUE"
      ]
     },
     "execution_count": 4,
     "metadata": {},
     "output_type": "execute_result"
    }
   ],
   "source": [
    "trueAndTrue"
   ]
  },
  {
   "cell_type": "code",
   "execution_count": 5,
   "metadata": {},
   "outputs": [
    {
     "data": {
      "text/html": [
       "<span style=\"font-size:20px;\"> &#x22A2;&nbsp;<a class=\"ProveItLink\" href=\"../__pv_it/7f2fc15a9f23e5089f6bb79aeb43e3459be023490/expr.ipynb\"><img src=\"../__pv_it/7f2fc15a9f23e5089f6bb79aeb43e3459be023490/expr.png\" style=\"display:inline;vertical-align:middle;\" /></a></span>"
      ],
      "text/plain": [
       "|= [not](TRUE and FALSE)"
      ]
     },
     "execution_count": 5,
     "metadata": {},
     "output_type": "execute_result"
    }
   ],
   "source": [
    "trueAndFalseNegated"
   ]
  },
  {
   "cell_type": "code",
   "execution_count": 6,
   "metadata": {},
   "outputs": [
    {
     "data": {
      "text/html": [
       "<span style=\"font-size:20px;\"> &#x22A2;&nbsp;<a class=\"ProveItLink\" href=\"../__pv_it/e3698de5523b3ba396528b983003062ac08fceee0/expr.ipynb\"><img src=\"../__pv_it/e3698de5523b3ba396528b983003062ac08fceee0/expr.png\" style=\"display:inline;vertical-align:middle;\" /></a></span>"
      ],
      "text/plain": [
       "|= [not](FALSE and TRUE)"
      ]
     },
     "execution_count": 6,
     "metadata": {},
     "output_type": "execute_result"
    }
   ],
   "source": [
    "falseAndTrueNegated"
   ]
  },
  {
   "cell_type": "code",
   "execution_count": 7,
   "metadata": {},
   "outputs": [
    {
     "data": {
      "text/html": [
       "<span style=\"font-size:20px;\"> &#x22A2;&nbsp;<a class=\"ProveItLink\" href=\"../__pv_it/99f89db8ce399898d7e20ab5de2549e20139671f0/expr.ipynb\"><img src=\"../__pv_it/99f89db8ce399898d7e20ab5de2549e20139671f0/expr.png\" style=\"display:inline;vertical-align:middle;\" /></a></span>"
      ],
      "text/plain": [
       "|= [not](FALSE and FALSE)"
      ]
     },
     "execution_count": 7,
     "metadata": {},
     "output_type": "execute_result"
    }
   ],
   "source": [
    "falseAndFalseNegated"
   ]
  },
  {
   "cell_type": "code",
   "execution_count": 8,
   "metadata": {},
   "outputs": [
    {
     "data": {
      "text/html": [
       "<strong id=\"AandBInBool\">AandBInBool:</strong> <span style=\"font-size:20px;\"><a class=\"ProveItLink\" href=\"../__pv_it/0d13935015c66a2b9783567dc85beb267ce5b6c30/expr.ipynb\"><img src=\"../__pv_it/0d13935015c66a2b9783567dc85beb267ce5b6c30/expr.png\" style=\"display:inline;vertical-align:middle;\" /></a> &#x22A2;&nbsp;<a class=\"ProveItLink\" href=\"../__pv_it/da1cf8740e92cbd1709295d007b862182ae19c1f0/expr.ipynb\"><img src=\"../__pv_it/da1cf8740e92cbd1709295d007b862182ae19c1f0/expr.png\" style=\"display:inline;vertical-align:middle;\" /></a></span><br>"
      ],
      "text/plain": [
       "AandBInBool: {A and B} |= (A and B) in BOOLEANS"
      ]
     },
     "execution_count": 8,
     "metadata": {},
     "output_type": "execute_result"
    }
   ],
   "source": [
    "AandBInBool = inBoolIfTrue.specialize({A:And(A,B)})"
   ]
  },
  {
   "cell_type": "code",
   "execution_count": 9,
   "metadata": {},
   "outputs": [
    {
     "data": {
      "text/html": [
       "<strong id=\"AinBool\">AinBool:</strong> <span style=\"font-size:20px;\"><a class=\"ProveItLink\" href=\"../__pv_it/0d13935015c66a2b9783567dc85beb267ce5b6c30/expr.ipynb\"><img src=\"../__pv_it/0d13935015c66a2b9783567dc85beb267ce5b6c30/expr.png\" style=\"display:inline;vertical-align:middle;\" /></a> &#x22A2;&nbsp;<a class=\"ProveItLink\" href=\"../__pv_it/03a5c2b5cc6fc2c3cd686b4bcf84379b893abe210/expr.ipynb\"><img src=\"../__pv_it/03a5c2b5cc6fc2c3cd686b4bcf84379b893abe210/expr.png\" style=\"display:inline;vertical-align:middle;\" /></a></span><br>"
      ],
      "text/plain": [
       "AinBool: {A and B} |= A in BOOLEANS"
      ]
     },
     "execution_count": 9,
     "metadata": {},
     "output_type": "execute_result"
    }
   ],
   "source": [
    "AinBool = leftInBool.specialize()"
   ]
  },
  {
   "cell_type": "code",
   "execution_count": 10,
   "metadata": {},
   "outputs": [
    {
     "data": {
      "text/html": [
       "<strong id=\"BinBool\">BinBool:</strong> <span style=\"font-size:20px;\"><a class=\"ProveItLink\" href=\"../__pv_it/0d13935015c66a2b9783567dc85beb267ce5b6c30/expr.ipynb\"><img src=\"../__pv_it/0d13935015c66a2b9783567dc85beb267ce5b6c30/expr.png\" style=\"display:inline;vertical-align:middle;\" /></a> &#x22A2;&nbsp;<a class=\"ProveItLink\" href=\"../__pv_it/fe5c91c77f0659f9ea07a2e3257797875d6868370/expr.ipynb\"><img src=\"../__pv_it/fe5c91c77f0659f9ea07a2e3257797875d6868370/expr.png\" style=\"display:inline;vertical-align:middle;\" /></a></span><br>"
      ],
      "text/plain": [
       "BinBool: {A and B} |= B in BOOLEANS"
      ]
     },
     "execution_count": 10,
     "metadata": {},
     "output_type": "execute_result"
    }
   ],
   "source": [
    "BinBool = rightInBool.specialize()"
   ]
  },
  {
   "cell_type": "code",
   "execution_count": 11,
   "metadata": {},
   "outputs": [
    {
     "data": {
      "text/html": [
       "<strong id=\"AequalTrue\">AequalTrue:</strong> <a class=\"ProveItLink\" href=\"../__pv_it/f4d6ed37799a8ea3909d9764c457e2a3fa701b6f0/expr.ipynb\"><img src=\"../__pv_it/f4d6ed37799a8ea3909d9764c457e2a3fa701b6f0/expr.png\" style=\"display:inline;vertical-align:middle;\" /></a><br>\n",
       "<strong id=\"AequalFalse\">AequalFalse:</strong> <a class=\"ProveItLink\" href=\"../__pv_it/59b818aa3070d9f9cb643715737df9a2274cbc840/expr.ipynb\"><img src=\"../__pv_it/59b818aa3070d9f9cb643715737df9a2274cbc840/expr.png\" style=\"display:inline;vertical-align:middle;\" /></a><br>"
      ],
      "text/plain": [
       "AequalTrue: A = TRUE\n",
       "AequalFalse: A = FALSE"
      ]
     },
     "execution_count": 11,
     "metadata": {},
     "output_type": "execute_result"
    }
   ],
   "source": [
    "AequalTrue, AequalFalse = AinBool.unfold().operands"
   ]
  },
  {
   "cell_type": "code",
   "execution_count": 12,
   "metadata": {},
   "outputs": [
    {
     "data": {
      "text/html": [
       "<strong id=\"BequalTrue\">BequalTrue:</strong> <a class=\"ProveItLink\" href=\"../__pv_it/7f8413a78900282a37dba43b921b29b8acb133c80/expr.ipynb\"><img src=\"../__pv_it/7f8413a78900282a37dba43b921b29b8acb133c80/expr.png\" style=\"display:inline;vertical-align:middle;\" /></a><br>\n",
       "<strong id=\"BequalFalse\">BequalFalse:</strong> <a class=\"ProveItLink\" href=\"../__pv_it/0e6513d9653529587ef99bc5f365bb0e33131b8f0/expr.ipynb\"><img src=\"../__pv_it/0e6513d9653529587ef99bc5f365bb0e33131b8f0/expr.png\" style=\"display:inline;vertical-align:middle;\" /></a><br>"
      ],
      "text/plain": [
       "BequalTrue: B = TRUE\n",
       "BequalFalse: B = FALSE"
      ]
     },
     "execution_count": 12,
     "metadata": {},
     "output_type": "execute_result"
    }
   ],
   "source": [
    "BequalTrue, BequalFalse = BinBool.unfold().operands"
   ]
  },
  {
   "cell_type": "code",
   "execution_count": 13,
   "metadata": {},
   "outputs": [
    {
     "data": {
      "text/html": [
       "<strong id=\"goal\">goal:</strong> <a class=\"ProveItLink\" href=\"../__pv_it/53af61ef6bded33ee370dcadbee7145660971b3a0/expr.ipynb\"><img src=\"../__pv_it/53af61ef6bded33ee370dcadbee7145660971b3a0/expr.png\" style=\"display:inline;vertical-align:middle;\" /></a><br>"
      ],
      "text/plain": [
       "goal: forall_{A, B in BOOLEANS} ((A and B) => A)"
      ]
     },
     "execution_count": 13,
     "metadata": {},
     "output_type": "execute_result"
    }
   ],
   "source": [
    "goal = Forall((A,B), Implies(And(A,B), A), domain = Booleans)"
   ]
  },
  {
   "cell_type": "code",
   "execution_count": 14,
   "metadata": {},
   "outputs": [
    {
     "ename": "SpecializationFailure",
     "evalue": "Unable to prove forall_{A in BOOLEANS} [forall_{B in BOOLEANS} ((A and B) => A)] assuming {A and B}: Unmet specialization requirement: forall_{B in BOOLEANS} ((FALSE and B) => FALSE)",
     "output_type": "error",
     "traceback": [
      "\u001b[1;31m---------------------------------------------------------------------------\u001b[0m",
      "\u001b[1;31mProofFailure\u001b[0m                              Traceback (most recent call last)",
      "\u001b[1;32mc:\\users\\catfud\\documents\\github\\prove-it\\packages\\proveit\\_core_\\expression\\expr.py\u001b[0m in \u001b[0;36mprove\u001b[1;34m(self, assumptions, automation)\u001b[0m\n\u001b[0;32m    383\u001b[0m                     \u001b[1;31m# first attempt to prove via implication\u001b[0m\u001b[1;33m\u001b[0m\u001b[1;33m\u001b[0m\u001b[1;33m\u001b[0m\u001b[0m\n\u001b[1;32m--> 384\u001b[1;33m                     \u001b[0mconcludedTruth\u001b[0m \u001b[1;33m=\u001b[0m \u001b[0mself\u001b[0m\u001b[1;33m.\u001b[0m\u001b[0mconcludeViaImplication\u001b[0m\u001b[1;33m(\u001b[0m\u001b[0massumptions\u001b[0m\u001b[1;33m)\u001b[0m\u001b[1;33m\u001b[0m\u001b[1;33m\u001b[0m\u001b[0m\n\u001b[0m\u001b[0;32m    385\u001b[0m                 \u001b[1;32mexcept\u001b[0m\u001b[1;33m:\u001b[0m\u001b[1;33m\u001b[0m\u001b[1;33m\u001b[0m\u001b[0m\n",
      "\u001b[1;32mc:\\users\\catfud\\documents\\github\\prove-it\\packages\\proveit\\_core_\\expression\\expr.py\u001b[0m in \u001b[0;36mconcludeViaImplication\u001b[1;34m(self, assumptions)\u001b[0m\n\u001b[0;32m    430\u001b[0m         \u001b[1;32mfrom\u001b[0m \u001b[0mproveit\u001b[0m\u001b[1;33m.\u001b[0m\u001b[0mlogic\u001b[0m \u001b[1;32mimport\u001b[0m \u001b[0mconcludeViaImplication\u001b[0m\u001b[1;33m\u001b[0m\u001b[1;33m\u001b[0m\u001b[0m\n\u001b[1;32m--> 431\u001b[1;33m         \u001b[1;32mreturn\u001b[0m \u001b[0mconcludeViaImplication\u001b[0m\u001b[1;33m(\u001b[0m\u001b[0mself\u001b[0m\u001b[1;33m,\u001b[0m \u001b[0massumptions\u001b[0m\u001b[1;33m)\u001b[0m\u001b[1;33m\u001b[0m\u001b[1;33m\u001b[0m\u001b[0m\n\u001b[0m\u001b[0;32m    432\u001b[0m \u001b[1;33m\u001b[0m\u001b[0m\n",
      "\u001b[1;32mc:\\users\\catfud\\documents\\github\\prove-it\\packages\\proveit\\logic\\boolean\\implication\\implies.py\u001b[0m in \u001b[0;36mconcludeViaImplication\u001b[1;34m(consequent, assumptions)\u001b[0m\n\u001b[0;32m    234\u001b[0m                         \u001b[0mqueue\u001b[0m\u001b[1;33m.\u001b[0m\u001b[0mappend\u001b[0m\u001b[1;33m(\u001b[0m\u001b[0mlocal_antecedent\u001b[0m\u001b[1;33m)\u001b[0m\u001b[1;33m\u001b[0m\u001b[1;33m\u001b[0m\u001b[0m\n\u001b[1;32m--> 235\u001b[1;33m     \u001b[1;32mraise\u001b[0m \u001b[0mProofFailure\u001b[0m\u001b[1;33m(\u001b[0m\u001b[0mconsequent\u001b[0m\u001b[1;33m,\u001b[0m \u001b[0massumptions\u001b[0m\u001b[1;33m,\u001b[0m \u001b[1;34m'Unable to conclude via implications'\u001b[0m\u001b[1;33m)\u001b[0m\u001b[1;33m\u001b[0m\u001b[1;33m\u001b[0m\u001b[0m\n\u001b[0m\u001b[0;32m    236\u001b[0m \u001b[1;33m\u001b[0m\u001b[0m\n",
      "\u001b[1;31mProofFailure\u001b[0m: Unable to prove forall_{B in BOOLEANS} ((FALSE and B) => FALSE) assuming {A and B}: Unable to conclude via implications",
      "\nDuring handling of the above exception, another exception occurred:\n",
      "\u001b[1;31mProofFailure\u001b[0m                              Traceback (most recent call last)",
      "\u001b[1;32mc:\\users\\catfud\\documents\\github\\prove-it\\packages\\proveit\\_core_\\expression\\expr.py\u001b[0m in \u001b[0;36mprove\u001b[1;34m(self, assumptions, automation)\u001b[0m\n\u001b[0;32m    383\u001b[0m                     \u001b[1;31m# first attempt to prove via implication\u001b[0m\u001b[1;33m\u001b[0m\u001b[1;33m\u001b[0m\u001b[1;33m\u001b[0m\u001b[0m\n\u001b[1;32m--> 384\u001b[1;33m                     \u001b[0mconcludedTruth\u001b[0m \u001b[1;33m=\u001b[0m \u001b[0mself\u001b[0m\u001b[1;33m.\u001b[0m\u001b[0mconcludeViaImplication\u001b[0m\u001b[1;33m(\u001b[0m\u001b[0massumptions\u001b[0m\u001b[1;33m)\u001b[0m\u001b[1;33m\u001b[0m\u001b[1;33m\u001b[0m\u001b[0m\n\u001b[0m\u001b[0;32m    385\u001b[0m                 \u001b[1;32mexcept\u001b[0m\u001b[1;33m:\u001b[0m\u001b[1;33m\u001b[0m\u001b[1;33m\u001b[0m\u001b[0m\n",
      "\u001b[1;32mc:\\users\\catfud\\documents\\github\\prove-it\\packages\\proveit\\_core_\\expression\\expr.py\u001b[0m in \u001b[0;36mconcludeViaImplication\u001b[1;34m(self, assumptions)\u001b[0m\n\u001b[0;32m    430\u001b[0m         \u001b[1;32mfrom\u001b[0m \u001b[0mproveit\u001b[0m\u001b[1;33m.\u001b[0m\u001b[0mlogic\u001b[0m \u001b[1;32mimport\u001b[0m \u001b[0mconcludeViaImplication\u001b[0m\u001b[1;33m\u001b[0m\u001b[1;33m\u001b[0m\u001b[0m\n\u001b[1;32m--> 431\u001b[1;33m         \u001b[1;32mreturn\u001b[0m \u001b[0mconcludeViaImplication\u001b[0m\u001b[1;33m(\u001b[0m\u001b[0mself\u001b[0m\u001b[1;33m,\u001b[0m \u001b[0massumptions\u001b[0m\u001b[1;33m)\u001b[0m\u001b[1;33m\u001b[0m\u001b[1;33m\u001b[0m\u001b[0m\n\u001b[0m\u001b[0;32m    432\u001b[0m \u001b[1;33m\u001b[0m\u001b[0m\n",
      "\u001b[1;32mc:\\users\\catfud\\documents\\github\\prove-it\\packages\\proveit\\logic\\boolean\\implication\\implies.py\u001b[0m in \u001b[0;36mconcludeViaImplication\u001b[1;34m(consequent, assumptions)\u001b[0m\n\u001b[0;32m    234\u001b[0m                         \u001b[0mqueue\u001b[0m\u001b[1;33m.\u001b[0m\u001b[0mappend\u001b[0m\u001b[1;33m(\u001b[0m\u001b[0mlocal_antecedent\u001b[0m\u001b[1;33m)\u001b[0m\u001b[1;33m\u001b[0m\u001b[1;33m\u001b[0m\u001b[0m\n\u001b[1;32m--> 235\u001b[1;33m     \u001b[1;32mraise\u001b[0m \u001b[0mProofFailure\u001b[0m\u001b[1;33m(\u001b[0m\u001b[0mconsequent\u001b[0m\u001b[1;33m,\u001b[0m \u001b[0massumptions\u001b[0m\u001b[1;33m,\u001b[0m \u001b[1;34m'Unable to conclude via implications'\u001b[0m\u001b[1;33m)\u001b[0m\u001b[1;33m\u001b[0m\u001b[1;33m\u001b[0m\u001b[0m\n\u001b[0m\u001b[0;32m    236\u001b[0m \u001b[1;33m\u001b[0m\u001b[0m\n",
      "\u001b[1;31mProofFailure\u001b[0m: Unable to prove (FALSE and B) => FALSE assuming {B in BOOLEANS, A and B}: Unable to conclude via implications",
      "\nDuring handling of the above exception, another exception occurred:\n",
      "\u001b[1;31mProofFailure\u001b[0m                              Traceback (most recent call last)",
      "\u001b[1;32mc:\\users\\catfud\\documents\\github\\prove-it\\packages\\proveit\\_core_\\expression\\expr.py\u001b[0m in \u001b[0;36mprove\u001b[1;34m(self, assumptions, automation)\u001b[0m\n\u001b[0;32m    383\u001b[0m                     \u001b[1;31m# first attempt to prove via implication\u001b[0m\u001b[1;33m\u001b[0m\u001b[1;33m\u001b[0m\u001b[1;33m\u001b[0m\u001b[0m\n\u001b[1;32m--> 384\u001b[1;33m                     \u001b[0mconcludedTruth\u001b[0m \u001b[1;33m=\u001b[0m \u001b[0mself\u001b[0m\u001b[1;33m.\u001b[0m\u001b[0mconcludeViaImplication\u001b[0m\u001b[1;33m(\u001b[0m\u001b[0massumptions\u001b[0m\u001b[1;33m)\u001b[0m\u001b[1;33m\u001b[0m\u001b[1;33m\u001b[0m\u001b[0m\n\u001b[0m\u001b[0;32m    385\u001b[0m                 \u001b[1;32mexcept\u001b[0m\u001b[1;33m:\u001b[0m\u001b[1;33m\u001b[0m\u001b[1;33m\u001b[0m\u001b[0m\n",
      "\u001b[1;32mc:\\users\\catfud\\documents\\github\\prove-it\\packages\\proveit\\_core_\\expression\\expr.py\u001b[0m in \u001b[0;36mconcludeViaImplication\u001b[1;34m(self, assumptions)\u001b[0m\n\u001b[0;32m    430\u001b[0m         \u001b[1;32mfrom\u001b[0m \u001b[0mproveit\u001b[0m\u001b[1;33m.\u001b[0m\u001b[0mlogic\u001b[0m \u001b[1;32mimport\u001b[0m \u001b[0mconcludeViaImplication\u001b[0m\u001b[1;33m\u001b[0m\u001b[1;33m\u001b[0m\u001b[0m\n\u001b[1;32m--> 431\u001b[1;33m         \u001b[1;32mreturn\u001b[0m \u001b[0mconcludeViaImplication\u001b[0m\u001b[1;33m(\u001b[0m\u001b[0mself\u001b[0m\u001b[1;33m,\u001b[0m \u001b[0massumptions\u001b[0m\u001b[1;33m)\u001b[0m\u001b[1;33m\u001b[0m\u001b[1;33m\u001b[0m\u001b[0m\n\u001b[0m\u001b[0;32m    432\u001b[0m \u001b[1;33m\u001b[0m\u001b[0m\n",
      "\u001b[1;32mc:\\users\\catfud\\documents\\github\\prove-it\\packages\\proveit\\logic\\boolean\\implication\\implies.py\u001b[0m in \u001b[0;36mconcludeViaImplication\u001b[1;34m(consequent, assumptions)\u001b[0m\n\u001b[0;32m    234\u001b[0m                         \u001b[0mqueue\u001b[0m\u001b[1;33m.\u001b[0m\u001b[0mappend\u001b[0m\u001b[1;33m(\u001b[0m\u001b[0mlocal_antecedent\u001b[0m\u001b[1;33m)\u001b[0m\u001b[1;33m\u001b[0m\u001b[1;33m\u001b[0m\u001b[0m\n\u001b[1;32m--> 235\u001b[1;33m     \u001b[1;32mraise\u001b[0m \u001b[0mProofFailure\u001b[0m\u001b[1;33m(\u001b[0m\u001b[0mconsequent\u001b[0m\u001b[1;33m,\u001b[0m \u001b[0massumptions\u001b[0m\u001b[1;33m,\u001b[0m \u001b[1;34m'Unable to conclude via implications'\u001b[0m\u001b[1;33m)\u001b[0m\u001b[1;33m\u001b[0m\u001b[1;33m\u001b[0m\u001b[0m\n\u001b[0m\u001b[0;32m    236\u001b[0m \u001b[1;33m\u001b[0m\u001b[0m\n",
      "\u001b[1;31mProofFailure\u001b[0m: Unable to prove FALSE assuming {B in BOOLEANS, A and B, FALSE and B}: Unable to conclude via implications",
      "\nDuring handling of the above exception, another exception occurred:\n",
      "\u001b[1;31mNotImplementedError\u001b[0m                       Traceback (most recent call last)",
      "\u001b[1;32mc:\\users\\catfud\\documents\\github\\prove-it\\packages\\proveit\\_core_\\expression\\expr.py\u001b[0m in \u001b[0;36mprove\u001b[1;34m(self, assumptions, automation)\u001b[0m\n\u001b[0;32m    386\u001b[0m                     \u001b[1;31m# try the 'conclude' method of the specific Expression class\u001b[0m\u001b[1;33m\u001b[0m\u001b[1;33m\u001b[0m\u001b[1;33m\u001b[0m\u001b[0m\n\u001b[1;32m--> 387\u001b[1;33m                     \u001b[0mconcludedTruth\u001b[0m \u001b[1;33m=\u001b[0m \u001b[0mself\u001b[0m\u001b[1;33m.\u001b[0m\u001b[0mconclude\u001b[0m\u001b[1;33m(\u001b[0m\u001b[0massumptions\u001b[0m\u001b[1;33m)\u001b[0m\u001b[1;33m\u001b[0m\u001b[1;33m\u001b[0m\u001b[0m\n\u001b[0m\u001b[0;32m    388\u001b[0m             \u001b[1;32mif\u001b[0m \u001b[0mconcludedTruth\u001b[0m \u001b[1;32mis\u001b[0m \u001b[1;32mNone\u001b[0m\u001b[1;33m:\u001b[0m\u001b[1;33m\u001b[0m\u001b[1;33m\u001b[0m\u001b[0m\n",
      "\u001b[1;32mc:\\users\\catfud\\documents\\github\\prove-it\\packages\\proveit\\_core_\\expression\\expr.py\u001b[0m in \u001b[0;36mconclude\u001b[1;34m(self, assumptions)\u001b[0m\n\u001b[0;32m    422\u001b[0m         '''\n\u001b[1;32m--> 423\u001b[1;33m         \u001b[1;32mraise\u001b[0m \u001b[0mNotImplementedError\u001b[0m\u001b[1;33m(\u001b[0m\u001b[1;34m\"'conclude' not implemented for \"\u001b[0m \u001b[1;33m+\u001b[0m \u001b[0mstr\u001b[0m\u001b[1;33m(\u001b[0m\u001b[0mself\u001b[0m\u001b[1;33m.\u001b[0m\u001b[0m__class__\u001b[0m\u001b[1;33m)\u001b[0m\u001b[1;33m)\u001b[0m\u001b[1;33m\u001b[0m\u001b[1;33m\u001b[0m\u001b[0m\n\u001b[0m\u001b[0;32m    424\u001b[0m \u001b[1;33m\u001b[0m\u001b[0m\n",
      "\u001b[1;31mNotImplementedError\u001b[0m: 'conclude' not implemented for <class 'proveit.logic.boolean.booleans.FalseLiteral'>",
      "\nDuring handling of the above exception, another exception occurred:\n",
      "\u001b[1;31mProofFailure\u001b[0m                              Traceback (most recent call last)",
      "\u001b[1;32mc:\\users\\catfud\\documents\\github\\prove-it\\packages\\proveit\\logic\\boolean\\quantification\\universal\\forall.py\u001b[0m in \u001b[0;36mconclude\u001b[1;34m(self, assumptions)\u001b[0m\n\u001b[0;32m     51\u001b[0m             \u001b[0mextra_assumptions\u001b[0m \u001b[1;33m=\u001b[0m \u001b[0mtuple\u001b[0m\u001b[1;33m(\u001b[0m\u001b[0mself\u001b[0m\u001b[1;33m.\u001b[0m\u001b[0mconditions\u001b[0m\u001b[1;33m)\u001b[0m\u001b[1;33m\u001b[0m\u001b[1;33m\u001b[0m\u001b[0m\n\u001b[1;32m---> 52\u001b[1;33m             \u001b[0mproven_inst_expr\u001b[0m \u001b[1;33m=\u001b[0m \u001b[0mself\u001b[0m\u001b[1;33m.\u001b[0m\u001b[0minstanceExpr\u001b[0m\u001b[1;33m.\u001b[0m\u001b[0mprove\u001b[0m\u001b[1;33m(\u001b[0m\u001b[0massumptions\u001b[0m\u001b[1;33m=\u001b[0m\u001b[0mextra_assumptions\u001b[0m\u001b[1;33m+\u001b[0m\u001b[0mdefaults\u001b[0m\u001b[1;33m.\u001b[0m\u001b[0mcheckedAssumptions\u001b[0m\u001b[1;33m(\u001b[0m\u001b[0massumptions\u001b[0m\u001b[1;33m)\u001b[0m\u001b[1;33m)\u001b[0m\u001b[1;33m\u001b[0m\u001b[1;33m\u001b[0m\u001b[0m\n\u001b[0m\u001b[0;32m     53\u001b[0m             \u001b[0minstanceVarLists\u001b[0m \u001b[1;33m=\u001b[0m \u001b[1;33m[\u001b[0m\u001b[0mself\u001b[0m\u001b[1;33m.\u001b[0m\u001b[0minstanceVars\u001b[0m\u001b[1;33m]\u001b[0m\u001b[1;33m\u001b[0m\u001b[1;33m\u001b[0m\u001b[0m\n",
      "\u001b[1;32mc:\\users\\catfud\\documents\\github\\prove-it\\packages\\proveit\\_core_\\expression\\expr.py\u001b[0m in \u001b[0;36mprove\u001b[1;34m(self, assumptions, automation)\u001b[0m\n\u001b[0;32m    386\u001b[0m                     \u001b[1;31m# try the 'conclude' method of the specific Expression class\u001b[0m\u001b[1;33m\u001b[0m\u001b[1;33m\u001b[0m\u001b[1;33m\u001b[0m\u001b[0m\n\u001b[1;32m--> 387\u001b[1;33m                     \u001b[0mconcludedTruth\u001b[0m \u001b[1;33m=\u001b[0m \u001b[0mself\u001b[0m\u001b[1;33m.\u001b[0m\u001b[0mconclude\u001b[0m\u001b[1;33m(\u001b[0m\u001b[0massumptions\u001b[0m\u001b[1;33m)\u001b[0m\u001b[1;33m\u001b[0m\u001b[1;33m\u001b[0m\u001b[0m\n\u001b[0m\u001b[0;32m    388\u001b[0m             \u001b[1;32mif\u001b[0m \u001b[0mconcludedTruth\u001b[0m \u001b[1;32mis\u001b[0m \u001b[1;32mNone\u001b[0m\u001b[1;33m:\u001b[0m\u001b[1;33m\u001b[0m\u001b[1;33m\u001b[0m\u001b[0m\n",
      "\u001b[1;32mc:\\users\\catfud\\documents\\github\\prove-it\\packages\\proveit\\logic\\boolean\\implication\\implies.py\u001b[0m in \u001b[0;36mconclude\u001b[1;34m(self, assumptions)\u001b[0m\n\u001b[0;32m     84\u001b[0m         \u001b[1;31m# try to prove the implication via hypothetical reasoning.\u001b[0m\u001b[1;33m\u001b[0m\u001b[1;33m\u001b[0m\u001b[1;33m\u001b[0m\u001b[0m\n\u001b[1;32m---> 85\u001b[1;33m         \u001b[1;32mreturn\u001b[0m \u001b[0mself\u001b[0m\u001b[1;33m.\u001b[0m\u001b[0mconsequent\u001b[0m\u001b[1;33m.\u001b[0m\u001b[0mprove\u001b[0m\u001b[1;33m(\u001b[0m\u001b[0massumptions\u001b[0m \u001b[1;33m+\u001b[0m \u001b[1;33m(\u001b[0m\u001b[0mself\u001b[0m\u001b[1;33m.\u001b[0m\u001b[0mantecedent\u001b[0m\u001b[1;33m,\u001b[0m\u001b[1;33m)\u001b[0m\u001b[1;33m)\u001b[0m\u001b[1;33m.\u001b[0m\u001b[0masImplication\u001b[0m\u001b[1;33m(\u001b[0m\u001b[0mself\u001b[0m\u001b[1;33m.\u001b[0m\u001b[0mantecedent\u001b[0m\u001b[1;33m)\u001b[0m\u001b[1;33m\u001b[0m\u001b[1;33m\u001b[0m\u001b[0m\n\u001b[0m\u001b[0;32m     86\u001b[0m \u001b[1;33m\u001b[0m\u001b[0m\n",
      "\u001b[1;32mc:\\users\\catfud\\documents\\github\\prove-it\\packages\\proveit\\_core_\\expression\\expr.py\u001b[0m in \u001b[0;36mprove\u001b[1;34m(self, assumptions, automation)\u001b[0m\n\u001b[0;32m    397\u001b[0m         \u001b[1;32mexcept\u001b[0m \u001b[0mNotImplementedError\u001b[0m\u001b[1;33m:\u001b[0m\u001b[1;33m\u001b[0m\u001b[1;33m\u001b[0m\u001b[0m\n\u001b[1;32m--> 398\u001b[1;33m             \u001b[1;32mraise\u001b[0m \u001b[0mProofFailure\u001b[0m\u001b[1;33m(\u001b[0m\u001b[0mself\u001b[0m\u001b[1;33m,\u001b[0m \u001b[0massumptions\u001b[0m\u001b[1;33m,\u001b[0m \u001b[1;34m\"'conclude' method not implemented for proof automation\"\u001b[0m\u001b[1;33m)\u001b[0m\u001b[1;33m\u001b[0m\u001b[1;33m\u001b[0m\u001b[0m\n\u001b[0m\u001b[0;32m    399\u001b[0m         \u001b[1;32mfinally\u001b[0m\u001b[1;33m:\u001b[0m\u001b[1;33m\u001b[0m\u001b[1;33m\u001b[0m\u001b[0m\n",
      "\u001b[1;31mProofFailure\u001b[0m: Unable to prove FALSE assuming {B in BOOLEANS, A and B, FALSE and B}: 'conclude' method not implemented for proof automation",
      "\nDuring handling of the above exception, another exception occurred:\n",
      "\u001b[1;31mProofFailure\u001b[0m                              Traceback (most recent call last)",
      "\u001b[1;32mc:\\users\\catfud\\documents\\github\\prove-it\\packages\\proveit\\_core_\\proof.py\u001b[0m in \u001b[0;36m__init__\u001b[1;34m(self, generalTruth, numForallEliminations, specializeMap, relabelMap, assumptions)\u001b[0m\n\u001b[0;32m    723\u001b[0m                     \u001b[1;31m# (if WILDCARD_ASSUMPTIONS is included, it will be proven by assumption if there isn't an existing proof otherwise)\u001b[0m\u001b[1;33m\u001b[0m\u001b[1;33m\u001b[0m\u001b[1;33m\u001b[0m\u001b[0m\n\u001b[1;32m--> 724\u001b[1;33m                     \u001b[0mrequirementTruth\u001b[0m \u001b[1;33m=\u001b[0m \u001b[0mrequirementExpr\u001b[0m\u001b[1;33m.\u001b[0m\u001b[0mprove\u001b[0m\u001b[1;33m(\u001b[0m\u001b[0massumptions\u001b[0m\u001b[1;33m)\u001b[0m\u001b[1;33m\u001b[0m\u001b[1;33m\u001b[0m\u001b[0m\n\u001b[0m\u001b[0;32m    725\u001b[0m                     \u001b[1;32mif\u001b[0m \u001b[0mrequirementTruth\u001b[0m \u001b[1;32mnot\u001b[0m \u001b[1;32min\u001b[0m \u001b[0mrequirementTruthSet\u001b[0m\u001b[1;33m:\u001b[0m\u001b[1;33m\u001b[0m\u001b[1;33m\u001b[0m\u001b[0m\n",
      "\u001b[1;32mc:\\users\\catfud\\documents\\github\\prove-it\\packages\\proveit\\_core_\\expression\\expr.py\u001b[0m in \u001b[0;36mprove\u001b[1;34m(self, assumptions, automation)\u001b[0m\n\u001b[0;32m    386\u001b[0m                     \u001b[1;31m# try the 'conclude' method of the specific Expression class\u001b[0m\u001b[1;33m\u001b[0m\u001b[1;33m\u001b[0m\u001b[1;33m\u001b[0m\u001b[0m\n\u001b[1;32m--> 387\u001b[1;33m                     \u001b[0mconcludedTruth\u001b[0m \u001b[1;33m=\u001b[0m \u001b[0mself\u001b[0m\u001b[1;33m.\u001b[0m\u001b[0mconclude\u001b[0m\u001b[1;33m(\u001b[0m\u001b[0massumptions\u001b[0m\u001b[1;33m)\u001b[0m\u001b[1;33m\u001b[0m\u001b[1;33m\u001b[0m\u001b[0m\n\u001b[0m\u001b[0;32m    388\u001b[0m             \u001b[1;32mif\u001b[0m \u001b[0mconcludedTruth\u001b[0m \u001b[1;32mis\u001b[0m \u001b[1;32mNone\u001b[0m\u001b[1;33m:\u001b[0m\u001b[1;33m\u001b[0m\u001b[1;33m\u001b[0m\u001b[0m\n",
      "\u001b[1;32mc:\\users\\catfud\\documents\\github\\prove-it\\packages\\proveit\\logic\\boolean\\quantification\\universal\\forall.py\u001b[0m in \u001b[0;36mconclude\u001b[1;34m(self, assumptions)\u001b[0m\n\u001b[0;32m     62\u001b[0m             \u001b[1;32mif\u001b[0m \u001b[0mhasFoldAsForall\u001b[0m\u001b[1;33m:\u001b[0m\u001b[1;33m\u001b[0m\u001b[1;33m\u001b[0m\u001b[0m\n\u001b[1;32m---> 63\u001b[1;33m                 \u001b[1;32mraise\u001b[0m \u001b[0mProofFailure\u001b[0m\u001b[1;33m(\u001b[0m\u001b[0mself\u001b[0m\u001b[1;33m,\u001b[0m \u001b[0massumptions\u001b[0m\u001b[1;33m,\u001b[0m \u001b[1;34m\"Unable to conclude automatically; both the 'foldAsForall' method on the domain and automated generalization failed.\"\u001b[0m\u001b[1;33m)\u001b[0m\u001b[1;33m\u001b[0m\u001b[1;33m\u001b[0m\u001b[0m\n\u001b[0m\u001b[0;32m     64\u001b[0m             \u001b[1;32melse\u001b[0m\u001b[1;33m:\u001b[0m\u001b[1;33m\u001b[0m\u001b[1;33m\u001b[0m\u001b[0m\n",
      "\u001b[1;31mProofFailure\u001b[0m: Unable to prove forall_{B in BOOLEANS} ((FALSE and B) => FALSE) assuming {A and B}: Unable to conclude automatically; both the 'foldAsForall' method on the domain and automated generalization failed.",
      "\nDuring handling of the above exception, another exception occurred:\n",
      "\u001b[1;31mSpecializationFailure\u001b[0m                     Traceback (most recent call last)",
      "\u001b[1;32m<ipython-input-14-0b71ed73954b>\u001b[0m in \u001b[0;36m<module>\u001b[1;34m\u001b[0m\n\u001b[1;32m----> 1\u001b[1;33m \u001b[0mgoal\u001b[0m\u001b[1;33m.\u001b[0m\u001b[0mconcludeAsFolded\u001b[0m\u001b[1;33m(\u001b[0m\u001b[1;33m)\u001b[0m\u001b[1;33m\u001b[0m\u001b[1;33m\u001b[0m\u001b[0m\n\u001b[0m",
      "\u001b[1;32mc:\\users\\catfud\\documents\\github\\prove-it\\packages\\proveit\\logic\\boolean\\quantification\\universal\\forall.py\u001b[0m in \u001b[0;36mconcludeAsFolded\u001b[1;34m(self, assumptions)\u001b[0m\n\u001b[0;32m     89\u001b[0m         \u001b[1;31m#assert len(self.instanceVars)==1, \"Cannot fold a forall statement with more than 1 instance variable (not implemented beyond this)\"\u001b[0m\u001b[1;33m\u001b[0m\u001b[1;33m\u001b[0m\u001b[1;33m\u001b[0m\u001b[0m\n\u001b[0;32m     90\u001b[0m         \u001b[0mexpr\u001b[0m \u001b[1;33m=\u001b[0m \u001b[0mself\u001b[0m\u001b[1;33m.\u001b[0m\u001b[0munraveled\u001b[0m\u001b[1;33m(\u001b[0m\u001b[1;33m)\u001b[0m\u001b[1;33m\u001b[0m\u001b[1;33m\u001b[0m\u001b[0m\n\u001b[1;32m---> 91\u001b[1;33m         \u001b[0mtruth\u001b[0m \u001b[1;33m=\u001b[0m \u001b[0mexpr\u001b[0m\u001b[1;33m.\u001b[0m\u001b[0mdomain\u001b[0m\u001b[1;33m.\u001b[0m\u001b[0mfoldAsForall\u001b[0m\u001b[1;33m(\u001b[0m\u001b[0mexpr\u001b[0m\u001b[1;33m,\u001b[0m \u001b[0massumptions\u001b[0m\u001b[1;33m)\u001b[0m\u001b[1;33m\u001b[0m\u001b[1;33m\u001b[0m\u001b[0m\n\u001b[0m\u001b[0;32m     92\u001b[0m         \u001b[0mprint\u001b[0m\u001b[1;33m(\u001b[0m\u001b[0mtruth\u001b[0m\u001b[1;33m)\u001b[0m\u001b[1;33m\u001b[0m\u001b[1;33m\u001b[0m\u001b[0m\n\u001b[0;32m     93\u001b[0m         \u001b[1;32mreturn\u001b[0m \u001b[0mtruth\u001b[0m\u001b[1;33m.\u001b[0m\u001b[0mgeneralize\u001b[0m\u001b[1;33m(\u001b[0m\u001b[0mself\u001b[0m\u001b[1;33m.\u001b[0m\u001b[0minstanceVars\u001b[0m\u001b[1;33m,\u001b[0m \u001b[0mconditions\u001b[0m\u001b[1;33m=\u001b[0m\u001b[0mself\u001b[0m\u001b[1;33m.\u001b[0m\u001b[0mconditions\u001b[0m\u001b[1;33m)\u001b[0m\u001b[1;33m\u001b[0m\u001b[1;33m\u001b[0m\u001b[0m\n",
      "\u001b[1;32mc:\\users\\catfud\\documents\\github\\prove-it\\packages\\proveit\\logic\\boolean\\booleans.py\u001b[0m in \u001b[0;36mfoldAsForall\u001b[1;34m(self, forallStmt, assumptions)\u001b[0m\n\u001b[0;32m     87\u001b[0m         \u001b[1;32massert\u001b[0m\u001b[1;33m(\u001b[0m\u001b[0mlen\u001b[0m\u001b[1;33m(\u001b[0m\u001b[0mforallStmt\u001b[0m\u001b[1;33m.\u001b[0m\u001b[0minstanceVars\u001b[0m\u001b[1;33m)\u001b[0m \u001b[1;33m==\u001b[0m \u001b[1;36m1\u001b[0m\u001b[1;33m)\u001b[0m\u001b[1;33m,\u001b[0m \u001b[1;34m\"May only apply foldAsForall method of Booleans to a forall statement with 1 instance variable\"\u001b[0m\u001b[1;33m\u001b[0m\u001b[1;33m\u001b[0m\u001b[0m\n\u001b[0;32m     88\u001b[0m         \u001b[1;31m# forall_{A in Booleans} P(A), assuming P(TRUE) and P(FALSE)\u001b[0m\u001b[1;33m\u001b[0m\u001b[1;33m\u001b[0m\u001b[1;33m\u001b[0m\u001b[0m\n\u001b[1;32m---> 89\u001b[1;33m         \u001b[1;32mreturn\u001b[0m \u001b[0mfoldForallOverBool\u001b[0m\u001b[1;33m.\u001b[0m\u001b[0mspecialize\u001b[0m\u001b[1;33m(\u001b[0m\u001b[1;33m{\u001b[0m\u001b[0mOperation\u001b[0m\u001b[1;33m(\u001b[0m\u001b[0mP\u001b[0m\u001b[1;33m,\u001b[0m \u001b[0mforallStmt\u001b[0m\u001b[1;33m.\u001b[0m\u001b[0minstanceVars\u001b[0m\u001b[1;33m[\u001b[0m\u001b[1;36m0\u001b[0m\u001b[1;33m]\u001b[0m\u001b[1;33m)\u001b[0m\u001b[1;33m:\u001b[0m\u001b[0mforallStmt\u001b[0m\u001b[1;33m.\u001b[0m\u001b[0minstanceExpr\u001b[0m\u001b[1;33m}\u001b[0m\u001b[1;33m,\u001b[0m \u001b[1;33m{\u001b[0m\u001b[0mA\u001b[0m\u001b[1;33m:\u001b[0m\u001b[0mforallStmt\u001b[0m\u001b[1;33m.\u001b[0m\u001b[0minstanceVars\u001b[0m\u001b[1;33m[\u001b[0m\u001b[1;36m0\u001b[0m\u001b[1;33m]\u001b[0m\u001b[1;33m}\u001b[0m\u001b[1;33m)\u001b[0m\u001b[1;33m\u001b[0m\u001b[1;33m\u001b[0m\u001b[0m\n\u001b[0m\u001b[0;32m     90\u001b[0m \u001b[1;33m\u001b[0m\u001b[0m\n\u001b[0;32m     91\u001b[0m \u001b[1;32mclass\u001b[0m \u001b[0mBooleanMembership\u001b[0m\u001b[1;33m(\u001b[0m\u001b[0mMembership\u001b[0m\u001b[1;33m)\u001b[0m\u001b[1;33m:\u001b[0m\u001b[1;33m\u001b[0m\u001b[1;33m\u001b[0m\u001b[0m\n",
      "\u001b[1;32mc:\\users\\catfud\\documents\\github\\prove-it\\packages\\proveit\\_core_\\known_truth.py\u001b[0m in \u001b[0;36mspecialize\u001b[1;34m(self, specializeMap, relabelMap, assumptions)\u001b[0m\n\u001b[0;32m    717\u001b[0m                     \u001b[0mprocessedSubMap\u001b[0m\u001b[1;33m[\u001b[0m\u001b[0miVar\u001b[0m\u001b[1;33m]\u001b[0m \u001b[1;33m=\u001b[0m \u001b[0miVar\u001b[0m\u001b[1;33m\u001b[0m\u001b[1;33m\u001b[0m\u001b[0m\n\u001b[0;32m    718\u001b[0m \u001b[1;33m\u001b[0m\u001b[0m\n\u001b[1;32m--> 719\u001b[1;33m         \u001b[1;32mreturn\u001b[0m \u001b[0mself\u001b[0m\u001b[1;33m.\u001b[0m\u001b[0m_checkedTruth\u001b[0m\u001b[1;33m(\u001b[0m\u001b[0mSpecialization\u001b[0m\u001b[1;33m(\u001b[0m\u001b[0mself\u001b[0m\u001b[1;33m,\u001b[0m \u001b[0mnumForallEliminations\u001b[0m\u001b[1;33m=\u001b[0m\u001b[0mnumForallEliminations\u001b[0m\u001b[1;33m,\u001b[0m \u001b[0mspecializeMap\u001b[0m\u001b[1;33m=\u001b[0m\u001b[0mprocessedSubMap\u001b[0m\u001b[1;33m,\u001b[0m \u001b[0mrelabelMap\u001b[0m\u001b[1;33m=\u001b[0m\u001b[0mrelabelMap\u001b[0m\u001b[1;33m,\u001b[0m \u001b[0massumptions\u001b[0m\u001b[1;33m=\u001b[0m\u001b[0massumptions\u001b[0m\u001b[1;33m)\u001b[0m\u001b[1;33m)\u001b[0m\u001b[1;33m\u001b[0m\u001b[1;33m\u001b[0m\u001b[0m\n\u001b[0m\u001b[0;32m    720\u001b[0m \u001b[1;33m\u001b[0m\u001b[0m\n\u001b[0;32m    721\u001b[0m     \u001b[1;32mdef\u001b[0m \u001b[0mgeneralize\u001b[0m\u001b[1;33m(\u001b[0m\u001b[0mself\u001b[0m\u001b[1;33m,\u001b[0m \u001b[0mforallVarLists\u001b[0m\u001b[1;33m,\u001b[0m \u001b[0mdomainLists\u001b[0m\u001b[1;33m=\u001b[0m\u001b[1;32mNone\u001b[0m\u001b[1;33m,\u001b[0m \u001b[0mdomain\u001b[0m\u001b[1;33m=\u001b[0m\u001b[1;32mNone\u001b[0m\u001b[1;33m,\u001b[0m \u001b[0mconditions\u001b[0m\u001b[1;33m=\u001b[0m\u001b[0mtuple\u001b[0m\u001b[1;33m(\u001b[0m\u001b[1;33m)\u001b[0m\u001b[1;33m)\u001b[0m\u001b[1;33m:\u001b[0m\u001b[1;33m\u001b[0m\u001b[1;33m\u001b[0m\u001b[0m\n",
      "\u001b[1;32mc:\\users\\catfud\\documents\\github\\prove-it\\packages\\proveit\\_core_\\proof.py\u001b[0m in \u001b[0;36m__init__\u001b[1;34m(self, generalTruth, numForallEliminations, specializeMap, relabelMap, assumptions)\u001b[0m\n\u001b[0;32m    728\u001b[0m                         \u001b[0m_appendExtraAssumptions\u001b[0m\u001b[1;33m(\u001b[0m\u001b[0massumptions\u001b[0m\u001b[1;33m,\u001b[0m \u001b[0mrequirementTruth\u001b[0m\u001b[1;33m)\u001b[0m\u001b[1;33m\u001b[0m\u001b[1;33m\u001b[0m\u001b[0m\n\u001b[0;32m    729\u001b[0m                 \u001b[1;32mexcept\u001b[0m\u001b[1;33m:\u001b[0m\u001b[1;33m\u001b[0m\u001b[1;33m\u001b[0m\u001b[0m\n\u001b[1;32m--> 730\u001b[1;33m                     \u001b[1;32mraise\u001b[0m \u001b[0mFailure\u001b[0m\u001b[1;33m(\u001b[0m\u001b[0mspecializedExpr\u001b[0m\u001b[1;33m,\u001b[0m \u001b[0massumptions\u001b[0m\u001b[1;33m,\u001b[0m \u001b[1;34m'Unmet specialization requirement: '\u001b[0m \u001b[1;33m+\u001b[0m \u001b[0mstr\u001b[0m\u001b[1;33m(\u001b[0m\u001b[0mrequirementExpr\u001b[0m\u001b[1;33m)\u001b[0m\u001b[1;33m)\u001b[0m\u001b[1;33m\u001b[0m\u001b[1;33m\u001b[0m\u001b[0m\n\u001b[0m\u001b[0;32m    731\u001b[0m             \u001b[1;31m# remove any unnecessary assumptions (but keep the order that was provided)\u001b[0m\u001b[1;33m\u001b[0m\u001b[1;33m\u001b[0m\u001b[1;33m\u001b[0m\u001b[0m\n\u001b[0;32m    732\u001b[0m             \u001b[0massumptionsSet\u001b[0m \u001b[1;33m=\u001b[0m \u001b[0mgeneralTruth\u001b[0m\u001b[1;33m.\u001b[0m\u001b[0massumptionsSet\u001b[0m\u001b[1;33m\u001b[0m\u001b[1;33m\u001b[0m\u001b[0m\n",
      "\u001b[1;31mSpecializationFailure\u001b[0m: Unable to prove forall_{A in BOOLEANS} [forall_{B in BOOLEANS} ((A and B) => A)] assuming {A and B}: Unmet specialization requirement: forall_{B in BOOLEANS} ((FALSE and B) => FALSE)"
     ]
    }
   ],
   "source": [
    "goal.concludeAsFolded()"
   ]
  }
 ],
 "metadata": {
  "kernelspec": {
   "display_name": "Python 3",
   "language": "python",
   "name": "python3"
  },
  "language_info": {
   "codemirror_mode": {
    "name": "ipython",
    "version": 3
   },
   "file_extension": ".py",
   "mimetype": "text/x-python",
   "name": "python",
   "nbconvert_exporter": "python",
   "pygments_lexer": "ipython3",
   "version": "3.7.1"
  }
 },
 "nbformat": 4,
 "nbformat_minor": 1
}
