{
 "cells": [
  {
   "cell_type": "markdown",
   "metadata": {},
   "source": [
    "Proof of <a class=\"ProveItLink\" href=\"../../../../_context_.ipynb\">proveit</a>.<a class=\"ProveItLink\" href=\"../../../_context_.ipynb\">logic</a>.<a class=\"ProveItLink\" href=\"../../_context_.ipynb\">boolean</a>.<a class=\"ProveItLink\" href=\"../_context_.ipynb\">conjunction</a>.<a class=\"ProveItLink\" href=\"../_theorems_.ipynb#demorgansLawOrToAndBin\">demorgansLawOrToAndBin</a> theorem\n",
    "========"
   ]
  },
  {
   "cell_type": "code",
   "execution_count": 1,
   "metadata": {},
   "outputs": [],
   "source": [
    "import proveit\n",
    "context = proveit.Context('..') # the theorem's context is in the parent directory"
   ]
  },
  {
   "cell_type": "code",
   "execution_count": 2,
   "metadata": {},
   "outputs": [
    {
     "name": "stdout",
     "output_type": "stream",
     "text": [
      "Beginning proof of demorgansLawOrToAndBin\n",
      "Recorded 'presuming' information\n",
      "Presuming previous theorems (applied transitively).\n"
     ]
    },
    {
     "data": {
      "text/html": [
       "<strong id=\"demorgansLawOrToAndBin\">demorgansLawOrToAndBin:</strong> <a class=\"ProveItLink\" href=\"../__pv_it/84ad43498a359483e1ebd283e97a2e354a29e7e80/expr.ipynb\"><img src=\"data:image/png;base64,iVBORw0KGgoAAAANSUhEUgAAAPsAAAAXBAMAAAA/2iRsAAAAMFBMVEX///8QEBC6urrMzMxUVFRm\n",
       "ZmZERETc3NwyMjKqqqp2dnaIiIiYmJgiIiLu7u4AAAAU9Wx4AAAAAXRSTlMAQObYZgAAA4RJREFU\n",
       "SMfFVk1oU0EQ/pKXvyYvsXjSkzmUIqg0B8EiSIMN1VuLUEVBGg+mHrQGLLYK2iJIPIjmYL20YBDU\n",
       "iqUEfw7SQ6NetB6sh16kaCpaeikW6Y9Kqc7Ovt28PGn0YHDYZGe/3Z1vZ2d29wH/V4rVNO7OV+p9\n",
       "Tr9JobyuEv1OWe1xwGbrYqLlErwx4L5oX6sSvWX3utW8qHBXEuiIoh84Sy1/sjrsIbn35gcrwpdV\n",
       "RxN1NMUxAQSoy5utDr1L0p7rSHNtnFKJNk7AmxxmaGn3enouVGnvt8oqPx7l2rNNZeIx+r0twkdu\n",
       "L6dS7/5o6AxFKGZr12itDAayXCw5ItO/eKvAypzMc5JFoLcLCLYBzUAnYxn+v7nU3sIW3Taj/hxw\n",
       "vtTMwMgpXcNy4m6IYslV/v/IoSYZwWGJG4tjT6aFE5R7dYj0c4J8lXlSi1CtUHw2eqGX0lOMvK0a\n",
       "GpYTg1FRLNnI/1H0tbEyiV4rJVeA+Th5SERhhHhvPq9ylzcO94qTfpBWWrpBxMg5hIQdGywnkivS\n",
       "GyHskJFItPIazTw8MlI+og2REWOB6kKYE3J0irvCeXgnnfQUHV9at8RITyxEMe62wdbEZi42egqi\n",
       "ixdENEac8Q1UmT8kfaSf7yYjn+KuLzG8TDvpabUu3eCRdKTJpX022Jo4xkXKZisZwxzNAZ1fTbTd\n",
       "nu9y89G5l08FjnJXw9jjLjjoDVp9o27xSHccD+GP22BrYh0XKSdF1hJ9YEGl9oA+9n1k0xS7MsB7\n",
       "/Qrj3DUMPCuW6O+mUql+4hI2WbdG0opm4UkLOEjwCT2x0bbSO3zayNSa8EEkQFgde2NTUR48uET2\n",
       "RKbaTzPrcdrGbLn3yRqiv6ESXY4k+mC0W8M+PdFOv4Pu9C0ZmKe/EY8nqq7hgz8TiSsi3QMCMgWt\n",
       "N40mTksKSUPMQe+mhdcrejmSoEjykIZ9emK9xsixtP3xtU6hTWa0tp3yseDPwL8G/5Qj9skIhWde\n",
       "0fNImHTvjMQ17NMTJ7hYV0Gu8l36QCmfluFvnTZWMbzUvj/roI/hPR8b1uVIeKOc6wo29MQDXMof\n",
       "3HWkdEGo5TpuOiVPKWrlr2JAJDV+gyHe8JLV7or0nrQD2LUO/SwttfybYFB54PhUoFvQdj/6K35s\n",
       "PXIChXXoa6hjqGxkXClDDo+4/AMps/KCAmN/WYP6C9Usf3BHufy1/AJB+ekBwI0csgAAAABJRU5E\n",
       "rkJggg==\n",
       "\" style=\"display:inline;vertical-align:middle;\" /></a><br>(see <a class=\"ProveItLink\" href=\"../__pv_it/84ad43498a359483e1ebd283e97a2e354a29e7e80/dependencies.ipynb\">dependencies</a>)<br>"
      ],
      "text/plain": [
       "demorgansLawOrToAndBin: forall_{A, B | [not]([not](A) or [not](B))} (A and B)"
      ]
     },
     "execution_count": 2,
     "metadata": {},
     "output_type": "execute_result"
    }
   ],
   "source": [
    "%proving demorgansLawOrToAndBin presuming []"
   ]
  },
  {
   "cell_type": "code",
   "execution_count": null,
   "metadata": {},
   "outputs": [],
   "source": []
  }
 ],
 "metadata": {
  "kernelspec": {
   "display_name": "Python 3",
   "language": "python",
   "name": "python3"
  }
 },
 "nbformat": 4,
 "nbformat_minor": 0
}
