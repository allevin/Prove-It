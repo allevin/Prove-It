{
 "cells": [
  {
   "cell_type": "markdown",
   "metadata": {},
   "source": [
    "Proof of <a class=\"ProveItLink\" href=\"../../../../_context_.ipynb\">proveit</a>.<a class=\"ProveItLink\" href=\"../../../_context_.ipynb\">logic</a>.<a class=\"ProveItLink\" href=\"../../_context_.ipynb\">boolean</a>.<a class=\"ProveItLink\" href=\"../_context_.ipynb\">conjunction</a>.<a class=\"ProveItLink\" href=\"../_theorems_.ipynb#someFromAnd\">someFromAnd</a> theorem\n",
    "========"
   ]
  },
  {
   "cell_type": "code",
   "execution_count": 1,
   "metadata": {},
   "outputs": [],
   "source": [
    "import proveit\n",
    "context = proveit.Context('..') # the theorem's context is in the parent directory"
   ]
  },
  {
   "cell_type": "code",
   "execution_count": 2,
   "metadata": {},
   "outputs": [
    {
     "name": "stdout",
     "output_type": "stream",
     "text": [
      "Beginning proof of someFromAnd\n",
      "Recorded 'presuming' information\n",
      "Presuming previous theorems (applied transitively).\n"
     ]
    },
    {
     "data": {
      "text/html": [
       "<strong id=\"someFromAnd\">someFromAnd:</strong> <a class=\"ProveItLink\" href=\"../__pv_it/cdcda29088b282f834199164be5bd1c759121d6f0/expr.ipynb\"><img src=\"data:image/png;base64,iVBORw0KGgoAAAANSUhEUgAAAmQAAAAZBAMAAABtHC+5AAAAMFBMVEX///8QEBC6urrMzMxUVFRm\n",
       "ZmZERETc3NwyMjKqqqp2dnaIiIiYmJgiIiLu7u4AAAAU9Wx4AAAAAXRSTlMAQObYZgAABrVJREFU\n",
       "WMPtWV2ME1UUPu30b9vplAYF0UBL/HtA3CHKxkBMG3jwwUSqkQf8o2hSElG2D4TdBKX1QYOJsk0M\n",
       "TzxQExCJD6BGFCFh+FkSF8IWJRLRdevLupFlaeUfdhnP/ZmZOzvTpWv0oehNdvbcc86ce+93zzn3\n",
       "3CnAFFpg4Az8x5t34OyU9KPwf4N1UJ0SZErLrnQe/nXq2O5Sm48qol9favYPM8gq5N/xZiGjfibv\n",
       "aT3EpDQ+lJ45o793Xmz+reH66Oh63cTYr1LIdhF6c7OQhUv4L1RtPcjYnPUsQOGyyQw2WIjJj13B\n",
       "jp4xBUUK2Xqikm0WMqq5vgXjcj91NR3jo3DJwjHTAF+Dn7pJIEubgj4KGYHfX2o6/RN/XNGCkM0h\n",
       "jwiJsf4xk9nxq7uyyT+IQSzrmin4jUIm7+zqerv5E7Ovq6ur0oK1QZGlc3wMFk3ukv3u2ia/s4aL\n",
       "viacByUCGVzJ5c42D1ksl3uz3HqQ+emcY7j6J6y4VIruVZPF14sg9VhxCeEMhQzP0NXNQ+ZTIZBv\n",
       "wexPgytV3/Rh3UpCYc09I5l8Sb9n0+AsQdJWpJA9gKiCsqzaHGTeNAwzV7/OzCfq8XFWdMirZq/+\n",
       "iorMcLg+mbV2cb4f6/HEzw1V3aTmcG5totCTJM9+nM8QepqUNU6zYoNTjvFlvQRKp6DjnUYhi0IE\n",
       "t2B+o3rm3efg81eE6r8CB9gkbjBefwZCNKF64ydhLqUC5kRvTAZZQgxwGY/+Hq0hAk6pNZxb6poo\n",
       "jFHIlt1CkV6WnmfZ+DgNMWcz+T4dHaldWIRUo5BFtCgKdri9e275S3AsXA1XBcgOADtOnr3CeCs1\n",
       "CNNKZxvyI1dtkBk6ALb0xzr+BC9twrSHC9ydERhmlEyUcgPWcC7WRaEAWaJCIEtDG4MMlR53W7bJ\n",
       "94yTYLjkgEwpEvkHLq9GXt04Cif2ZGyQDdM6Grw/1RlvMA8hEn8KOcClaSJkpg5Iv4iOyzrzt01j\n",
       "/SeJ+0RxgT0lgWE0h5QZEIZzWheF3N/Jy7QoDWNtxiBrw17IJS9bfFr17r7pCExYvQQfZEvkF+dt\n",
       "j+xVOQXQS7SOfLTBBllgHd2w6MM64+K5vZJsrJ+cxYoqQmbqQGBYvLmxzveFW6y/liSLWA38RgSs\n",
       "FTOMQ8oMCMM5rYtCztV4aoICeg6DjMDSRl2XzFIxCIFPcl9Qr0DvF9+m979GLLD0D1sqfEtG2rVo\n",
       "Wk5zSqXXAzgSHlkkQtb2MiV3gE6h89Zzq+iZ4rE2w4CM6TyD1CJZcBzWCWdif4KEzi2VTxD3n5GL\n",
       "l5gyYxhOI0oFA8ZwrtaFuQjVAaamPIwkzhiQdQBNzYgWib8LFU5YfFh2FZRD43nl8BichqNWkQEe\n",
       "PPAiJK9s/AZiKjVOqLxEU8QRKG8XIYP76ErmQA89JyM3uJchAHyrDMiYzqKZxFVAcBzWWVAN4cJw\n",
       "6wLVEKmzy8SPqDJjGPALUtEAH87dujAXI6IQghj9LvEGGJAtMS5SygxS2Gc5YfGJvj5Dg+C5Ilyk\n",
       "2T6UZJDJiEiArv9pWAChEqPmgvRjLrcGIXvrvA2yk5SKx9nVK4Cza68RyMgHAo8IGdfBXZUy8J3l\n",
       "N6xzKp7AvIrOvRBkHLIziYmZKnMGbzapYMAYztW6MBejzbRlKwpZ0lYQWc3J9+3BKHzfvDDx9PgY\n",
       "eU6HvVDwMmq5V0kzL/Murjo+MWKm66fjehCug2STfWMUaQEyroOL8lWtU5R3wmmQx+ktH0MLnwl0\n",
       "2GsMMsYAM/BMae/Wo4+s4AaM4VytcyHq2y7UEyBrvnnUSDZYQyg/EyC7EIHufLCG4xwLM2r6/fAU\n",
       "gwz6HJBhzEGqhopQKEJbXUVKSZSgIyNAxnXIohbiikvBzdBdxQftYFxibQ1ymbgF7IMgwrVtuuE0\n",
       "yKCq3VWbdGvWk3yQWzOGc7XOhag/4ePP34SsgH4mZ8uk5rcg8+2ClObNwg/QsZNRL2gwhLh630uC\n",
       "z/Ehe/ASyIl6KaWFEuMDcax0Uxr8MTh7qZj+uQ5ZFMnRWekqpPL4oJ0ohuwhfZYvSdwCX3hHHzh1\n",
       "d9VwGmRQ1VTeJvWp58nnPWrAGM7VOhf61G7rE5hwUwx+enlqH0kfgqgqvZ4HX16AjDTNQX2CuWzS\n",
       "b/+aCyWUsrThoshIZgEkdqIjECRrEJVtDFsnClugotmtTWodDjxqWt7wD9xUvwQ7ZFLeSd3m55IG\n",
       "r9ggW3zvJB/j/F/b+5MqwxD62Bq1+ReGoE/7N34use5xLtRtIGvwSgDu5LZuStrR5n7H9N3BgHkH\n",
       "Tv8FcaNcYjR7SlcAAAAASUVORK5CYII=\n",
       "\" style=\"display:inline;vertical-align:middle;\" /></a><br>(see <a class=\"ProveItLink\" href=\"../__pv_it/cdcda29088b282f834199164be5bd1c759121d6f0/dependencies.ipynb\">dependencies</a>)<br>"
      ],
      "text/plain": [
       "someFromAnd: forall_{l, m, n in Naturals} [forall_{A, B, C | A_1 and  ...  and A_l and B_1 and  ...  and B_m and C_1 and  ...  and C_n} (B_1 and  ...  and B_m)]"
      ]
     },
     "execution_count": 2,
     "metadata": {},
     "output_type": "execute_result"
    }
   ],
   "source": [
    "%proving someFromAnd presuming []"
   ]
  },
  {
   "cell_type": "code",
   "execution_count": null,
   "metadata": {},
   "outputs": [],
   "source": []
  }
 ],
 "metadata": {
  "kernelspec": {
   "display_name": "Python 3",
   "language": "python",
   "name": "python3"
  }
 },
 "nbformat": 4,
 "nbformat_minor": 0
}
