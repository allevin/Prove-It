{
 "cells": [
  {
   "cell_type": "markdown",
   "metadata": {},
   "source": [
    "Proof of <a class=\"ProveItLink\" href=\"../../../../_context_.ipynb\">proveit</a>.<a class=\"ProveItLink\" href=\"../../../_context_.ipynb\">logic</a>.<a class=\"ProveItLink\" href=\"../../_context_.ipynb\">boolean</a>.<a class=\"ProveItLink\" href=\"../_context_.ipynb\">conjunction</a>.<a class=\"ProveItLink\" href=\"../_theorems_.ipynb#falsifiedAndIfNotLeft\">falsifiedAndIfNotLeft</a> theorem\n",
    "========"
   ]
  },
  {
   "cell_type": "code",
   "execution_count": 1,
   "metadata": {},
   "outputs": [],
   "source": [
    "import proveit\n",
    "from proveit import defaults\n",
    "from proveit.logic.boolean.conjunction._theorems_ import nandIfNotLeft\n",
    "context = proveit.Context('..') # the theorem's context is in the parent directory"
   ]
  },
  {
   "cell_type": "code",
   "execution_count": 2,
   "metadata": {},
   "outputs": [
    {
     "name": "stdout",
     "output_type": "stream",
     "text": [
      "Beginning proof of falsifiedAndIfNotLeft\n",
      "Recorded 'presuming' information\n",
      "Presuming previous theorems (applied transitively).\n"
     ]
    },
    {
     "data": {
      "text/html": [
       "<strong id=\"falsifiedAndIfNotLeft\">falsifiedAndIfNotLeft:</strong> <a class=\"ProveItLink\" href=\"../__pv_it/8965417de52b985bcd336e48f23328fadca565260/expr.ipynb\"><img src=\"data:image/png;base64,iVBORw0KGgoAAAANSUhEUgAAAPMAAAAXBAMAAAAsDWSYAAAAMFBMVEX///8QEBC6urrMzMxUVFRm\n",
       "ZmZERETc3NwyMjKqqqp2dnaIiIiYmJgiIiLu7u4AAAAU9Wx4AAAAAXRSTlMAQObYZgAAAvNJREFU\n",
       "SMfFVk1oE0EU/tJNsrHZxOJJT0bwIKg0B6UnSdBQvbUgFRVK68EUQdscpK2INhSlPUjtpeLNXqoV\n",
       "RRbUUw+NnqoebA/1IBWjKPQiltIflVJ983a2TWYzKSyoH7zd2fftzLfz5r2ZBf4fiv671tiO6WEl\n",
       "dMxLsmnReONL+pA0whFVs2kp09gPnKzQ7aq4hJLAQ9EY8iU9tNnztnRdd7lAO9CWQKRCt8N8zQPd\n",
       "dDPb/ShHbcfEJD/KdbvpkikiUmlYozrp10CEOoWG/UgHio4RrrTl+G5cclNnkhxvRxGv00l/og9+\n",
       "0NNzzVe890kj2JNOPgX3u1l3jmyGvuOCTjpM013JZt/7kj4rjdK8eK/AjXknawlLQG8n3cd00rXN\n",
       "wDGggx8G+HpnuaUxyeOVd1BYwi1pwGdeWsJjnHE4Y2ni+Zxo3BWX04MCN8qkt1Ge7UU8z6my6GRM\n",
       "HaK8QOHyalFYwg5pQAJ9zdyYRq9MwVXgW5oae3SzrqFhYohytL6usSuURs2qV1plCYvSYGQyTVwj\n",
       "lo2gE5MwDRwVXVI6aWOB3ijEOC2fzLIrZiM07ZVW2VJpWpoAB44GMtLMbaeb9Wsr6XiedyTDzrLr\n",
       "exJTOY+0hyXskgbK1RivwshGTqQokMGfbsBbPwi88wQcHUe5LtDKrvqJZ53wSHtYwkVpJklHFtxU\n",
       "HNko6z4RiSndrC3BjnAEX2GSXePAi+Km9P1sNpuvwMq6GeOKopfXRWjEgsfcsjZ2FrcqLgREYcRn\n",
       "W7p4zPMU1eHyWbdXYAkHHevePQCr6weNFEzI7RWnfmcyg5y8/YouxX6GYx8RL1ti0FAOKU5OWqD6\n",
       "pCrtZcUn5xzbPERlpZWg0kYKdyOVOEBZWTAHYK7DnIUq7WXFJ4+i4vFQilrtcf7IbXxZgdk0Z6xh\n",
       "fLnlxLAinazAKoemDvM6wtnGSvesknbY+8+hPF+WVgXHdUQwpzgaqko3KM+m7ViVIz2pY56qjkJV\n",
       "6cK/+l8M/m2BP0mr16Cw7Md2AAAAAElFTkSuQmCC\n",
       "\" style=\"display:inline;vertical-align:middle;\" /></a><br>(see <a class=\"ProveItLink\" href=\"../__pv_it/8965417de52b985bcd336e48f23328fadca565260/dependencies.ipynb\">dependencies</a>)<br>"
      ],
      "text/plain": [
       "falsifiedAndIfNotLeft: forall_{A, B | [not](A) , B} ((A and B) = FALSE)"
      ]
     },
     "execution_count": 2,
     "metadata": {},
     "output_type": "execute_result"
    }
   ],
   "source": [
    "%proving falsifiedAndIfNotLeft presuming []"
   ]
  },
  {
   "cell_type": "code",
   "execution_count": 3,
   "metadata": {},
   "outputs": [
    {
     "data": {
      "text/html": [
       "<strong id=\"defaults.assumptions\">defaults.assumptions:</strong> <a class=\"ProveItLink\" href=\"../__pv_it/ebf5636be815bb02f85ac03dbaee8f96b026f1d20/expr.ipynb\"><img src=\"data:image/png;base64,iVBORw0KGgoAAAANSUhEUgAAAEMAAAAVBAMAAADvM06qAAAAMFBMVEX////c3NwiIiJERESqqqqY\n",
       "mJh2dnZmZmYQEBDu7u4yMjJUVFTMzMyIiIi6uroAAAAs73DqAAAAAXRSTlMAQObYZgAAAUdJREFU\n",
       "KM9jYCAC8F3AJxsHIk6jCB2CMVj3/969eR0D+wEgeyWKkvVwFocBA0P9A4YFDAy8KPaw6k+AMc8D\n",
       "Jc5vYAgDKp6ArESkXgDGvA9kxScwzGBgeIViz4X7D2BMCyDWmMDA7MBQhuK7Cf4BMPZvBgYpSwYG\n",
       "tgKGpchK5oFdAAY8v+9eVwXSLAsY+hgY2JVAIAHIf8AgXwBVwvuRgWHSBqDBDQz/YLqAXJ7du/cb\n",
       "QPnMDUBlX4FiH1CU8AE9uADK5wfyWb+BlbQgKXFgYGBqgAUL0N3cX8AWmSKUMAKVcH1gYJgACxZ5\n",
       "oJGsCxjSYb45wDAL5ISfDJyfoMHC0zUB7OlHcB8L9y9kYLX/VcDZDzSg+P/u3atAYcT1gIFDADN5\n",
       "IAsBI4A1AUMJKzInFyMxoCvhBAWCNIYS5OTBDbKUEW/CvMPAAAC/jFIHxgZ0KQAAAABJRU5ErkJg\n",
       "gg==\n",
       "\" style=\"display:inline;vertical-align:middle;\" /></a><br>"
      ],
      "text/plain": [
       "defaults.assumptions: ([not](A) , B)"
      ]
     },
     "execution_count": 3,
     "metadata": {},
     "output_type": "execute_result"
    }
   ],
   "source": [
    "defaults.assumptions = falsifiedAndIfNotLeft.allConditions()"
   ]
  },
  {
   "cell_type": "code",
   "execution_count": 4,
   "metadata": {},
   "outputs": [
    {
     "data": {
      "text/html": [
       "<span style=\"font-size:20px;\"> <a class=\"ProveItLink\" href=\"nandIfNotLeft.ipynb\" style=\"text-decoration: none\">&#x22A2;&nbsp;</a><a class=\"ProveItLink\" href=\"../__pv_it/246fb8da221cb6f97e48b9101f02598bef443c590/expr.ipynb\"><img src=\"data:image/png;base64,iVBORw0KGgoAAAANSUhEUgAAANkAAAAXBAMAAAB0cveBAAAAMFBMVEX///8QEBC6urrMzMxUVFRm\n",
       "ZmZERETc3NwyMjKqqqp2dnaIiIiYmJgiIiLu7u4AAAAU9Wx4AAAAAXRSTlMAQObYZgAAAy1JREFU\n",
       "SMe9VU1oE0EUfslms2l2sw0e/LlIDoJC/YlQEBRp0CAFD61ILIrFVjDtodo9FKuIkov2IppLPOei\n",
       "RpSyqPXSQ1cRqRUxgr1IhQgVvFRLTWv9a515b7adJKZiUB+8nXkzb+bb+ea9NwD/VQq1L/XaktGw\n",
       "ousjoXluPKsJrVHqKzFq8mU+jxfj8e4IqFFAvcXHrtSEJq8KEEeBaWFfcCdWM5gZgBSgnmaN1lEL\n",
       "mC4TOUzN8wVhX3TP/I1pEWAMUPlPqela0Dzyla/Hr5b5LEBOikmdDRhfAd4CqnGzv/98TURukgMm\n",
       "RXvrM2T7GsTB/WGAEPsVf5p0Lpl8XRPaEamvZrHZWved7PcgwqU+Btolds5gK+legC6cGMDvtdnE\n",
       "vmjZvpESK2BRe1kec/jXjPBr4nIHDlOnaf9wO5+rS5FuABNpMIgEIwx6mDxHc7mj2CkNohcCfBU7\n",
       "0hsu7FweHPOCNktzeThDnRELzFd8KkwaAh1/7B2RoMbAy27WHEo4etC8G6lAM4851JmRUq0e/Rrj\n",
       "8Tn6ZRt8RFAnR2QLlGlS3Qlh/AyO43TIBpVx/mDjh4IehEGnAi041VoNjX3W0iYFN92LnIzsMpqZ\n",
       "wpqg2Emc/hiFUQsMvqMe9A4VKtB2+YW5TkLz8ByqY/oShzJuGCicsJb0MpPQtQdjFtrRcdvw/VPs\n",
       "1jGe1QMTlfcWU0W49Uhofs7BWaZXlwIu46abNs+5TZFCBlc/hRF0zAE8LMBOdA3CQXsJLZhMJrvZ\n",
       "krQuqtN1Fz9KwY3B1svJUPiCkJtu23mFczMAPHxHczyBjnCCkZmG3Wxrm6FlsyVn8wNMJQ6J6rRF\n",
       "zu48aJ3zFjxZ5CXLFxGFTe0txpsxUwIRUjA4impBE0bRF0ZmFCbF2SrR2kD5JCqXJcGtKXmKKrNU\n",
       "VC4hm1lcOdoAaAugseD0WYTWZpehedkFiXphZKXdxn5TeG4LRZmcA61lgkVQbjbRzELIPI7ZfaOn\n",
       "NEoUs6UD+n44VV+casLvlIqIJMZyVrF7WzKqPEh9Ul+LrYjGufJZZYM7fu1bBU2TH7hzK6LdE1oi\n",
       "zh+h/SOJ/a2NfgI39NOLom9JpgAAAABJRU5ErkJggg==\n",
       "\" style=\"display:inline;vertical-align:middle;\" /></a></span>"
      ],
      "text/plain": [
       "|- forall_{A, B in BOOLEANS | [not](A)} [not](A and B)"
      ]
     },
     "execution_count": 4,
     "metadata": {},
     "output_type": "execute_result"
    }
   ],
   "source": [
    "nandIfNotLeft"
   ]
  },
  {
   "cell_type": "code",
   "execution_count": 5,
   "metadata": {},
   "outputs": [
    {
     "data": {
      "text/html": [
       "<strong id=\"nand\">nand:</strong> <span style=\"font-size:20px;\"><a class=\"ProveItLink\" href=\"../__pv_it/fe4160547ec19c44be9e6faea0178bfac848cc180/expr.ipynb\"><img src=\"data:image/png;base64,iVBORw0KGgoAAAANSUhEUgAAAEkAAAAVBAMAAAD4Ed5jAAAAMFBMVEX///9ERETc3NyqqqpUVFS6\n",
       "urrMzMwyMjIQEBCIiIh2dnYiIiLu7u5mZmaYmJgAAABJJ2g3AAAAAXRSTlMAQObYZgAAAS5JREFU\n",
       "KM9jYGDgu8eAB7CtUgBRPLsY8AK2ZhDJ+QFVcAOM9eS/i4t4AAPDdRCHqwFFFTtCUyMDA+9XBoYV\n",
       "WFS9/gM39ScQf8Gqisn2E4zJCWTx/cKqipPzK4zJCJTg7sGqKob5H4zJ78DAVHgAqoq3AEkRTwDI\n",
       "NRCQ7znz9gMg/R7EyQB69vZuIACFGysD01+YqvkKDDxbQL6+wMCQ0gYTTQFhF5ePML4ESCXIMHEg\n",
       "EZGApApobjtM1ReQbQuAPgBiBpYChCpmILUDFlwgb/gbQN3FtQGhShlI1QP9AAsupu8M6CHBxsAD\n",
       "Mlb+AMP5DdDgyqjBUMXAJPFdgeHh/1qGE0BjeOW/uLjXMTBgj0cwCELm4FT1AEMVHyFV4PTFsxND\n",
       "ESdKsmwFU3yLCaZ7AHwiVWZ0YmYbAAAAAElFTkSuQmCC\n",
       "\" style=\"display:inline;vertical-align:middle;\" /></a> <a class=\"ProveItLink\" href=\"../__pv_it/88d087d85612a8b24a6bf6137158934da91c93420/proof.ipynb\" style=\"text-decoration: none\">&#x22A2;&nbsp;</a><a class=\"ProveItLink\" href=\"../__pv_it/901fc5ac00a73e9ce3fba7bedaf6642fd77d807b0/expr.ipynb\"><img src=\"data:image/png;base64,iVBORw0KGgoAAAANSUhEUgAAAFYAAAAVBAMAAAAutAQGAAAAMFBMVEX////c3NxERESqqqqYmJgQ\n",
       "EBDu7u4yMjKIiIi6urpUVFTMzMx2dnYiIiJmZmYAAABjE816AAAAAXRSTlMAQObYZgAAAXRJREFU\n",
       "KM9jYCAPzMAnyTIBmce9AEJdQFO0/teqRZUMDK+RBdkTINQHCJcxASrOqsDA8H4CAzuy2g4I5fsN\n",
       "qvUBVHx/AxAvYGA5gKQ2DGKc3UcId9M1qHi/AAOD/wEGtgCEUs4CMMXB8RPCXwm1h0EViK8CHaSM\n",
       "UMsHsWMa8xcwzVbAC5X4xcAgrgakzyF5zQGsZAL3DzCXx4HPABIuvzr6roAY5gxv7wLBHZB3wQHI\n",
       "ycD4D6yEl4ER6iig+3NBwTkVYuYuIOYHq921atUnsJAHA8NqMIMJ6CcOkLv2o6sFEuFgoWsQUaA4\n",
       "0EyWP6hqWUHOYwb5GSTCDAxddgFw8AL9wfUZ1Q1MIL8JA3E92KcCEPWQ4JUHOd0dmhRAHn8ACigg\n",
       "Qx8UuZtAwhegwcsdnoAaZpwXGBhVvwswOP2vA8UELNYf/V+1qhwcnJVIcRyInDigAYgEkOOYwQd/\n",
       "6uZpwEyTuEA6ModxAV61C1F4EviUcmxgAADgOliiO22GuAAAAABJRU5ErkJggg==\n",
       "\" style=\"display:inline;vertical-align:middle;\" /></a></span><br>"
      ],
      "text/plain": [
       "nand: {[not](A) , B} |- [not](A and B)"
      ]
     },
     "execution_count": 5,
     "metadata": {},
     "output_type": "execute_result"
    }
   ],
   "source": [
    "nand = nandIfNotLeft.specialize()"
   ]
  },
  {
   "cell_type": "code",
   "execution_count": 6,
   "metadata": {},
   "outputs": [
    {
     "data": {
      "text/html": [
       "<table><tr><th>&nbsp;</th><th>step type</th><th>requirements</th><th>statement</th></tr>\n",
       "<tr><td>0</td><td>generalizaton</td><td>1</td><td><span style=\"font-size:20px;\"> <a class=\"ProveItLink\" href=\"../__pv_it/7cad6b9f75d1732899ce025b44528cef4dc633a30/proof.ipynb\" style=\"text-decoration: none\">&#x22A2;&nbsp;</a><a class=\"ProveItLink\" href=\"../__pv_it/8965417de52b985bcd336e48f23328fadca565260/expr.ipynb\"><img src=\"data:image/png;base64,iVBORw0KGgoAAAANSUhEUgAAAPMAAAAXBAMAAAAsDWSYAAAAMFBMVEX///8QEBC6urrMzMxUVFRm\n",
       "ZmZERETc3NwyMjKqqqp2dnaIiIiYmJgiIiLu7u4AAAAU9Wx4AAAAAXRSTlMAQObYZgAAAvNJREFU\n",
       "SMfFVk1oE0EU/tJNsrHZxOJJT0bwIKg0B6UnSdBQvbUgFRVK68EUQdscpK2INhSlPUjtpeLNXqoV\n",
       "RRbUUw+NnqoebA/1IBWjKPQiltIflVJ983a2TWYzKSyoH7zd2fftzLfz5r2ZBf4fiv671tiO6WEl\n",
       "dMxLsmnReONL+pA0whFVs2kp09gPnKzQ7aq4hJLAQ9EY8iU9tNnztnRdd7lAO9CWQKRCt8N8zQPd\n",
       "dDPb/ShHbcfEJD/KdbvpkikiUmlYozrp10CEOoWG/UgHio4RrrTl+G5cclNnkhxvRxGv00l/og9+\n",
       "0NNzzVe890kj2JNOPgX3u1l3jmyGvuOCTjpM013JZt/7kj4rjdK8eK/AjXknawlLQG8n3cd00rXN\n",
       "wDGggx8G+HpnuaUxyeOVd1BYwi1pwGdeWsJjnHE4Y2ni+Zxo3BWX04MCN8qkt1Ge7UU8z6my6GRM\n",
       "HaK8QOHyalFYwg5pQAJ9zdyYRq9MwVXgW5oae3SzrqFhYohytL6usSuURs2qV1plCYvSYGQyTVwj\n",
       "lo2gE5MwDRwVXVI6aWOB3ijEOC2fzLIrZiM07ZVW2VJpWpoAB44GMtLMbaeb9Wsr6XiedyTDzrLr\n",
       "exJTOY+0hyXskgbK1RivwshGTqQokMGfbsBbPwi88wQcHUe5LtDKrvqJZ53wSHtYwkVpJklHFtxU\n",
       "HNko6z4RiSndrC3BjnAEX2GSXePAi+Km9P1sNpuvwMq6GeOKopfXRWjEgsfcsjZ2FrcqLgREYcRn\n",
       "W7p4zPMU1eHyWbdXYAkHHevePQCr6weNFEzI7RWnfmcyg5y8/YouxX6GYx8RL1ti0FAOKU5OWqD6\n",
       "pCrtZcUn5xzbPERlpZWg0kYKdyOVOEBZWTAHYK7DnIUq7WXFJ4+i4vFQilrtcf7IbXxZgdk0Z6xh\n",
       "fLnlxLAinazAKoemDvM6wtnGSvesknbY+8+hPF+WVgXHdUQwpzgaqko3KM+m7ViVIz2pY56qjkJV\n",
       "6cK/+l8M/m2BP0mr16Cw7Md2AAAAAElFTkSuQmCC\n",
       "\" style=\"display:inline;vertical-align:middle;\" /></a></span></td></tr>\n",
       "<tr><td>1</td><td>specialization</td><td>2, 3</td><td><span style=\"font-size:20px;\"><a class=\"ProveItLink\" href=\"../__pv_it/fe4160547ec19c44be9e6faea0178bfac848cc180/expr.ipynb\"><img src=\"data:image/png;base64,iVBORw0KGgoAAAANSUhEUgAAAEkAAAAVBAMAAAD4Ed5jAAAAMFBMVEX///9ERETc3NyqqqpUVFS6\n",
       "urrMzMwyMjIQEBCIiIh2dnYiIiLu7u5mZmaYmJgAAABJJ2g3AAAAAXRSTlMAQObYZgAAAS5JREFU\n",
       "KM9jYGDgu8eAB7CtUgBRPLsY8AK2ZhDJ+QFVcAOM9eS/i4t4AAPDdRCHqwFFFTtCUyMDA+9XBoYV\n",
       "WFS9/gM39ScQf8Gqisn2E4zJCWTx/cKqipPzK4zJCJTg7sGqKob5H4zJ78DAVHgAqoq3AEkRTwDI\n",
       "NRCQ7znz9gMg/R7EyQB69vZuIACFGysD01+YqvkKDDxbQL6+wMCQ0gYTTQFhF5ePML4ESCXIMHEg\n",
       "EZGApApobjtM1ReQbQuAPgBiBpYChCpmILUDFlwgb/gbQN3FtQGhShlI1QP9AAsupu8M6CHBxsAD\n",
       "Mlb+AMP5DdDgyqjBUMXAJPFdgeHh/1qGE0BjeOW/uLjXMTBgj0cwCELm4FT1AEMVHyFV4PTFsxND\n",
       "ESdKsmwFU3yLCaZ7AHwiVWZ0YmYbAAAAAElFTkSuQmCC\n",
       "\" style=\"display:inline;vertical-align:middle;\" /></a> <a class=\"ProveItLink\" href=\"../__pv_it/30600311347732e65179c2eb71912a761bae68560/proof.ipynb\" style=\"text-decoration: none\">&#x22A2;&nbsp;</a><a class=\"ProveItLink\" href=\"../__pv_it/0fc735d8e5882fa161f9a395b944ce0f4e1787270/expr.ipynb\"><img src=\"data:image/png;base64,iVBORw0KGgoAAAANSUhEUgAAAHAAAAAVBAMAAABs93eRAAAAMFBMVEX////c3NwiIiJERESqqqqY\n",
       "mJh2dnZmZmYQEBDu7u4yMjJUVFTMzMyIiIi6uroAAAAs73DqAAAAAXRSTlMAQObYZgAAAYxJREFU\n",
       "OMtjYCAb8F3AJ8v6AKfUaQh1CF3H/t+7N69jYKjBokUWTK6EcNZDBSVhshwGDAz1Dxi4sGg8DiJ4\n",
       "IS5l1Z8AEVwOkz0PlDi/gYE1AYdGDogGkXoBMM1jBDWA4T5QID6BgbMBh8ZXEPaF+5BQ4H4LCysL\n",
       "INYAmmKCQ2MZJGgn+AeAGbMYFKCyvxkYpCyBdDoOjUvBzHlgLwFBKkMJRJLn993rqiCGF4ioWgUC\n",
       "q5E19oGZDxjkC8AMBQYpiCTvRwaGSRuAjBc4bPwHNn737v0G4MC9wMB9ACzJDAwU3q+g0MWnkQ8Y\n",
       "ugtADKYJDDwbwJL8QIr1Gx6NLSDCAagFHOzuQLwQEo3AwOL+AnNqkRIIKCNrNAViRqBGrg8MUE3u\n",
       "8GiUB7kiCoeN6eA4APrpJ8ivII8ywaKRp2sCnuh4xMAg3L+QgdX+FzBYuR/AEmHx/927V4Gjdh2a\n",
       "LqCrNUCu5hBAzmLQuEEC2JIcJHUn4M+ubDiz60r8GmfhlJHGr3EjThlGvEUH7wEcEgCi6WcgTfwD\n",
       "wAAAAABJRU5ErkJggg==\n",
       "\" style=\"display:inline;vertical-align:middle;\" /></a></span></td></tr>\n",
       "<tr><td>&nbsp;</td><td colspan=4 style=\"text-align:left\"><span style=\"font-size:20px;\"><a class=\"ProveItLink\" href=\"../../../../__pv_it/2cbe72a7ad6f655694dd697106680215e8489b600/expr.ipynb\"><img src=\"data:image/png;base64,iVBORw0KGgoAAAANSUhEUgAAAA8AAAAOBAMAAAACpFvcAAAALVBMVEX///8QEBBERERUVFS6urqI\n",
       "iIhmZmaqqqrc3Nzu7u6YmJgyMjIiIiLMzMwAAADtIaYWAAAAAXRSTlMAQObYZgAAAFtJREFUCNdj\n",
       "YACBOwxQsA9Kc52bAGG05zVAGAFxDmCaZULdAjBjCsO9ADDDgaEvAUTzGhvbKYCVMDAwbgAxChgY\n",
       "eASANAeQwf0AyJgNxEwvGRia5HYwcOm9TgAA6BoR3jrzwFcAAAAASUVORK5CYII=\n",
       "\" style=\"display:inline;vertical-align:middle;\" /></a> : <a class=\"ProveItLink\" href=\"../__pv_it/42be287793a6c836f70efb0ab4503e1a268d24400/expr.ipynb\"><img src=\"data:image/png;base64,iVBORw0KGgoAAAANSUhEUgAAADcAAAAPBAMAAACy3Eq1AAAAMFBMVEX///92dnYQEBBERERUVFS6\n",
       "urqIiIhmZmaqqqrc3Nzu7u6YmJgyMjIiIiLMzMwAAACFkkdwAAAAAXRSTlMAQObYZgAAAPtJREFU\n",
       "GNNjYACBtwyogNv/i4vzUSjnPJSeBZNlMmBgqA+AKLy/ACJ2HCb5PgGIHcDMGfUTwDSfLVQRQz5Q\n",
       "YL8AmJmQDzGBJSwBKmkExJfAKlkX9G8AC61huACV/MLAMMcKzFoKtgIIpBkqIHJ8X9LSb0OYAQzz\n",
       "C8CMCwxzICJsPxkY1oLdw+fi4m8AdnQCA8sDsCSzAlDBb7CVQG8dADF4FzDwQZzPD6S4P4JYDUBh\n",
       "BRCjHYhPQrwJdCDLDyCDEyjJ84EBKtEO9+b8A2D3A+34BbIbZDEvzJt8OkBvTtY/ycBt/wfoXBZQ\n",
       "SLCBPFX838XlzAaUqGCF+gsBAFd8PNYBN2/JAAAAAElFTkSuQmCC\n",
       "\" style=\"display:inline;vertical-align:middle;\" /></a></span></td></tr><tr><td>2</td><td>axiom</td><td></td><td><span style=\"font-size:20px;\"> <a class=\"ProveItLink\" href=\"../../negation/_axioms_.ipynb#negationElim\" style=\"text-decoration: none\">&#x22A2;&nbsp;</a><a class=\"ProveItLink\" href=\"../../negation/__pv_it/3b08940eb52ec7364a09d58733ea5eec05fbe9620/expr.ipynb\"><img src=\"data:image/png;base64,iVBORw0KGgoAAAANSUhEUgAAAJcAAAAXBAMAAAD0AcCSAAAAMFBMVEX///8QEBC6urrMzMxUVFRm\n",
       "ZmZERETc3NwyMjKqqqp2dnaIiIiYmJgiIiLu7u4AAAAU9Wx4AAAAAXRSTlMAQObYZgAAAbxJREFU\n",
       "OMtjYKAmeECsQqYN+OUPAfEFEOM0EYaZQChbLFLVIILVgIFhJYjRR4RhUDX9WKRMwWQDA0MZkGJP\n",
       "IGwWN8SXPPcf4DLsFAMDB1CSdQJhwxghhlTGF+Ay7CHQquXl5bVE+FIDQm3Yr4DLMDagk76lpd0i\n",
       "wrAoSJQ+mH8Al2FcAQwMzgwM6WBOO0Q5qrp2GKMHTD5isAeHXUQHCLSgGMYJjAEVBr4GcNB+gjgW\n",
       "xSyoIBAIgUkFhvoAXC5jEmBg4GXgBrv86R8shkEFgQBsKrOLi38CLsOYPwDj/AAvOKLWXcViGFQQ\n",
       "ZhgwDBgb8BnG1wBO28wb0jANgwkCgSSIAMYXrwCIEXsXBK5heJMh3QnEZGGIxTQMJggEOaDEDTSM\n",
       "4wMul/GA3DwVnD1PMuxHMmxZWlpaA0IQCJYC8QuQ/D98SYOBERTZfFdD8x+guiwBIQgEusCcJ9/O\n",
       "wJP/Ay06gT6+CPYxByg584DUsxYw2BugGwYXBFlZQChZP4SzdBgY+A+gGwYXBFm5gJBhq2GMJ98Y\n",
       "2P3voBpmgBAkppjiw5Jm2HApLiFgGEsBCYaxEyi2NzOQYBg5gIUCvQCemG+1sUJnVwAAAABJRU5E\n",
       "rkJggg==\n",
       "\" style=\"display:inline;vertical-align:middle;\" /></a></span></td></tr>\n",
       "<tr><td>&nbsp;</td><td colspan=4 style-\"text-align:left\"><a class=\"ProveItLink\" href=\"../../negation/_axioms_.ipynb#negationElim\">proveit.logic.boolean.negation.negationElim</a></td></tr><tr><td>3</td><td>specialization</td><td>4, 5, 8, 6</td><td><span style=\"font-size:20px;\"><a class=\"ProveItLink\" href=\"../__pv_it/fe4160547ec19c44be9e6faea0178bfac848cc180/expr.ipynb\"><img src=\"data:image/png;base64,iVBORw0KGgoAAAANSUhEUgAAAEkAAAAVBAMAAAD4Ed5jAAAAMFBMVEX///9ERETc3NyqqqpUVFS6\n",
       "urrMzMwyMjIQEBCIiIh2dnYiIiLu7u5mZmaYmJgAAABJJ2g3AAAAAXRSTlMAQObYZgAAAS5JREFU\n",
       "KM9jYGDgu8eAB7CtUgBRPLsY8AK2ZhDJ+QFVcAOM9eS/i4t4AAPDdRCHqwFFFTtCUyMDA+9XBoYV\n",
       "WFS9/gM39ScQf8Gqisn2E4zJCWTx/cKqipPzK4zJCJTg7sGqKob5H4zJ78DAVHgAqoq3AEkRTwDI\n",
       "NRCQ7znz9gMg/R7EyQB69vZuIACFGysD01+YqvkKDDxbQL6+wMCQ0gYTTQFhF5ePML4ESCXIMHEg\n",
       "EZGApApobjtM1ReQbQuAPgBiBpYChCpmILUDFlwgb/gbQN3FtQGhShlI1QP9AAsupu8M6CHBxsAD\n",
       "Mlb+AMP5DdDgyqjBUMXAJPFdgeHh/1qGE0BjeOW/uLjXMTBgj0cwCELm4FT1AEMVHyFV4PTFsxND\n",
       "ESdKsmwFU3yLCaZ7AHwiVWZ0YmYbAAAAAElFTkSuQmCC\n",
       "\" style=\"display:inline;vertical-align:middle;\" /></a> <a class=\"ProveItLink\" href=\"../__pv_it/88d087d85612a8b24a6bf6137158934da91c93420/proof.ipynb\" style=\"text-decoration: none\">&#x22A2;&nbsp;</a><a class=\"ProveItLink\" href=\"../__pv_it/901fc5ac00a73e9ce3fba7bedaf6642fd77d807b0/expr.ipynb\"><img src=\"data:image/png;base64,iVBORw0KGgoAAAANSUhEUgAAAFYAAAAVBAMAAAAutAQGAAAAMFBMVEX////c3NxERESqqqqYmJgQ\n",
       "EBDu7u4yMjKIiIi6urpUVFTMzMx2dnYiIiJmZmYAAABjE816AAAAAXRSTlMAQObYZgAAAXRJREFU\n",
       "KM9jYCAPzMAnyTIBmce9AEJdQFO0/teqRZUMDK+RBdkTINQHCJcxASrOqsDA8H4CAzuy2g4I5fsN\n",
       "qvUBVHx/AxAvYGA5gKQ2DGKc3UcId9M1qHi/AAOD/wEGtgCEUs4CMMXB8RPCXwm1h0EViK8CHaSM\n",
       "UMsHsWMa8xcwzVbAC5X4xcAgrgakzyF5zQGsZAL3DzCXx4HPABIuvzr6roAY5gxv7wLBHZB3wQHI\n",
       "ycD4D6yEl4ER6iig+3NBwTkVYuYuIOYHq921atUnsJAHA8NqMIMJ6CcOkLv2o6sFEuFgoWsQUaA4\n",
       "0EyWP6hqWUHOYwb5GSTCDAxddgFw8AL9wfUZ1Q1MIL8JA3E92KcCEPWQ4JUHOd0dmhRAHn8ACigg\n",
       "Qx8UuZtAwhegwcsdnoAaZpwXGBhVvwswOP2vA8UELNYf/V+1qhwcnJVIcRyInDigAYgEkOOYwQd/\n",
       "6uZpwEyTuEA6ModxAV61C1F4EviUcmxgAADgOliiO22GuAAAAABJRU5ErkJggg==\n",
       "\" style=\"display:inline;vertical-align:middle;\" /></a></span></td></tr>\n",
       "<tr><td>&nbsp;</td><td colspan=4 style=\"text-align:left\"><span style=\"font-size:20px;\"><a class=\"ProveItLink\" href=\"../../../../__pv_it/2cbe72a7ad6f655694dd697106680215e8489b600/expr.ipynb\"><img src=\"data:image/png;base64,iVBORw0KGgoAAAANSUhEUgAAAA8AAAAOBAMAAAACpFvcAAAALVBMVEX///8QEBBERERUVFS6urqI\n",
       "iIhmZmaqqqrc3Nzu7u6YmJgyMjIiIiLMzMwAAADtIaYWAAAAAXRSTlMAQObYZgAAAFtJREFUCNdj\n",
       "YACBOwxQsA9Kc52bAGG05zVAGAFxDmCaZULdAjBjCsO9ADDDgaEvAUTzGhvbKYCVMDAwbgAxChgY\n",
       "eASANAeQwf0AyJgNxEwvGRia5HYwcOm9TgAA6BoR3jrzwFcAAAAASUVORK5CYII=\n",
       "\" style=\"display:inline;vertical-align:middle;\" /></a> : <a class=\"ProveItLink\" href=\"../../../../__pv_it/2cbe72a7ad6f655694dd697106680215e8489b600/expr.ipynb\"><img src=\"data:image/png;base64,iVBORw0KGgoAAAANSUhEUgAAAA8AAAAOBAMAAAACpFvcAAAALVBMVEX///8QEBBERERUVFS6urqI\n",
       "iIhmZmaqqqrc3Nzu7u6YmJgyMjIiIiLMzMwAAADtIaYWAAAAAXRSTlMAQObYZgAAAFtJREFUCNdj\n",
       "YACBOwxQsA9Kc52bAGG05zVAGAFxDmCaZULdAjBjCsO9ADDDgaEvAUTzGhvbKYCVMDAwbgAxChgY\n",
       "eASANAeQwf0AyJgNxEwvGRia5HYwcOm9TgAA6BoR3jrzwFcAAAAASUVORK5CYII=\n",
       "\" style=\"display:inline;vertical-align:middle;\" /></a>, <a class=\"ProveItLink\" href=\"../../../../__pv_it/077b2ff79244fb4582cbe22c6e3356fa92a52f2f0/expr.ipynb\"><img src=\"data:image/png;base64,iVBORw0KGgoAAAANSUhEUgAAABAAAAAOBAMAAADUAYG5AAAAMFBMVEX///+qqqru7u4iIiJ2dnbc\n",
       "3NyIiIjMzMxmZmYQEBC6uroyMjJERERUVFSYmJgAAADLUcuvAAAAAXRSTlMAQObYZgAAAGpJREFU\n",
       "CNdjYGB4+//u3dMLGIBgDgMDxy8gzf4NiP8CGWxfGRj4vgAZPBMYGJgnARn8FxhY9ygAGfXX0pof\n",
       "gDTlBzAw2YIYJ0EckBBI53sHoBH/gIz7AhBjWH9DjancBLTl/N+7t/cxMAAA3u4f/5xagjYAAAAA\n",
       "SUVORK5CYII=\n",
       "\" style=\"display:inline;vertical-align:middle;\" /></a> : <a class=\"ProveItLink\" href=\"../../../../__pv_it/077b2ff79244fb4582cbe22c6e3356fa92a52f2f0/expr.ipynb\"><img src=\"data:image/png;base64,iVBORw0KGgoAAAANSUhEUgAAABAAAAAOBAMAAADUAYG5AAAAMFBMVEX///+qqqru7u4iIiJ2dnbc\n",
       "3NyIiIjMzMxmZmYQEBC6uroyMjJERERUVFSYmJgAAADLUcuvAAAAAXRSTlMAQObYZgAAAGpJREFU\n",
       "CNdjYGB4+//u3dMLGIBgDgMDxy8gzf4NiP8CGWxfGRj4vgAZPBMYGJgnARn8FxhY9ygAGfXX0pof\n",
       "gDTlBzAw2YIYJ0EckBBI53sHoBH/gIz7AhBjWH9DjancBLTl/N+7t/cxMAAA3u4f/5xagjYAAAAA\n",
       "SUVORK5CYII=\n",
       "\" style=\"display:inline;vertical-align:middle;\" /></a></span></td></tr><tr><td>4</td><td>theorem</td><td></td><td><span style=\"font-size:20px;\"> <a class=\"ProveItLink\" href=\"nandIfNotLeft.ipynb\" style=\"text-decoration: none\">&#x22A2;&nbsp;</a><a class=\"ProveItLink\" href=\"../__pv_it/246fb8da221cb6f97e48b9101f02598bef443c590/expr.ipynb\"><img src=\"data:image/png;base64,iVBORw0KGgoAAAANSUhEUgAAANkAAAAXBAMAAAB0cveBAAAAMFBMVEX///8QEBC6urrMzMxUVFRm\n",
       "ZmZERETc3NwyMjKqqqp2dnaIiIiYmJgiIiLu7u4AAAAU9Wx4AAAAAXRSTlMAQObYZgAAAy1JREFU\n",
       "SMe9VU1oE0EUfslms2l2sw0e/LlIDoJC/YlQEBRp0CAFD61ILIrFVjDtodo9FKuIkov2IppLPOei\n",
       "RpSyqPXSQ1cRqRUxgr1IhQgVvFRLTWv9a515b7adJKZiUB+8nXkzb+bb+ea9NwD/VQq1L/XaktGw\n",
       "ousjoXluPKsJrVHqKzFq8mU+jxfj8e4IqFFAvcXHrtSEJq8KEEeBaWFfcCdWM5gZgBSgnmaN1lEL\n",
       "mC4TOUzN8wVhX3TP/I1pEWAMUPlPqela0Dzyla/Hr5b5LEBOikmdDRhfAd4CqnGzv/98TURukgMm\n",
       "RXvrM2T7GsTB/WGAEPsVf5p0Lpl8XRPaEamvZrHZWved7PcgwqU+Btolds5gK+legC6cGMDvtdnE\n",
       "vmjZvpESK2BRe1kec/jXjPBr4nIHDlOnaf9wO5+rS5FuABNpMIgEIwx6mDxHc7mj2CkNohcCfBU7\n",
       "0hsu7FweHPOCNktzeThDnRELzFd8KkwaAh1/7B2RoMbAy27WHEo4etC8G6lAM4851JmRUq0e/Rrj\n",
       "8Tn6ZRt8RFAnR2QLlGlS3Qlh/AyO43TIBpVx/mDjh4IehEGnAi041VoNjX3W0iYFN92LnIzsMpqZ\n",
       "wpqg2Emc/hiFUQsMvqMe9A4VKtB2+YW5TkLz8ByqY/oShzJuGCicsJb0MpPQtQdjFtrRcdvw/VPs\n",
       "1jGe1QMTlfcWU0W49Uhofs7BWaZXlwIu46abNs+5TZFCBlc/hRF0zAE8LMBOdA3CQXsJLZhMJrvZ\n",
       "krQuqtN1Fz9KwY3B1svJUPiCkJtu23mFczMAPHxHczyBjnCCkZmG3Wxrm6FlsyVn8wNMJQ6J6rRF\n",
       "zu48aJ3zFjxZ5CXLFxGFTe0txpsxUwIRUjA4impBE0bRF0ZmFCbF2SrR2kD5JCqXJcGtKXmKKrNU\n",
       "VC4hm1lcOdoAaAugseD0WYTWZpehedkFiXphZKXdxn5TeG4LRZmcA61lgkVQbjbRzELIPI7ZfaOn\n",
       "NEoUs6UD+n44VV+casLvlIqIJMZyVrF7WzKqPEh9Ul+LrYjGufJZZYM7fu1bBU2TH7hzK6LdE1oi\n",
       "zh+h/SOJ/a2NfgI39NOLom9JpgAAAABJRU5ErkJggg==\n",
       "\" style=\"display:inline;vertical-align:middle;\" /></a></span></td></tr>\n",
       "<tr><td>&nbsp;</td><td colspan=4 style-\"text-align:left\"><a class=\"ProveItLink\" href=\"nandIfNotLeft.ipynb\">proveit.logic.boolean.conjunction.nandIfNotLeft</a></td></tr><tr><td>5</td><td>specialization</td><td>7, 8</td><td><span style=\"font-size:20px;\"><a class=\"ProveItLink\" href=\"../__pv_it/edd8455a49d47780786b5faa6e783100cb7d31cc0/expr.ipynb\"><img src=\"data:image/png;base64,iVBORw0KGgoAAAANSUhEUgAAADAAAAAVBAMAAADyTXAxAAAAMFBMVEX///9ERETc3NyqqqpUVFS6\n",
       "urrMzMwyMjIQEBCIiIh2dnYiIiLu7u5mZmaYmJgAAABJJ2g3AAAAAXRSTlMAQObYZgAAALxJREFU\n",
       "KM9jYGDgu8eABrIWgUieXQwYIMMASHB+QBFj2wAkeAuABFcDigT7B5gYmsTrP9glmGw/YZfg5PyK\n",
       "XSKG+R9MDOwCGOAJYPsJpPhALsgIYGC4vRsIQP5hZWD6C1JQy8CQ0gZTnQLCLi4fQWzGOgaGiAQk\n",
       "CaDudhAbpJulACHBDKR2wOzg2oCQUAZS9RjOZWPgAWmWP4DhDyaJ7woMD//XYg8rMMAvwYdFAhwa\n",
       "PDuxxGAAiORbjC3OAaHOM6CzgdAAAAAAAElFTkSuQmCC\n",
       "\" style=\"display:inline;vertical-align:middle;\" /></a> <a class=\"ProveItLink\" href=\"../__pv_it/9a7177f8b80ee5f0619a9518a83c3029f03248b40/proof.ipynb\" style=\"text-decoration: none\">&#x22A2;&nbsp;</a><a class=\"ProveItLink\" href=\"../__pv_it/18d84e6b10643c76412edd0e67904c254c981c030/expr.ipynb\"><img src=\"data:image/png;base64,iVBORw0KGgoAAAANSUhEUgAAADYAAAAPBAMAAABdHiGLAAAAMFBMVEX///92dnYQEBBERERUVFS6\n",
       "urqIiIhmZmaqqqrc3Nzu7u6YmJgyMjIiIiLMzMwAAACFkkdwAAAAAXRSTlMAQObYZgAAANJJREFU\n",
       "GNNjYACBtwwogPG8zR9dCyjnPKocAzNrwpqFAmAm9/0FGHJsAQfAzBn1EyBiy87evQOV49jgBRZK\n",
       "yA8A03ynFyD0RRqAWKwL+jeAhSYvQJj5djOYs5ThfQJYyBJh393/amBWAMP8AhDNZYDslgwQj8/F\n",
       "xR9itu7du3C3MBgEgoQYGJjA7uVzQNLHYMAMZDQwMPAqgM28gC7HCZTj+QAW8kaRA5q5BsT+BRZa\n",
       "G4CQ4y4zYJisf5KB2/4P2KGcxx/AwvrzJQ+0MObwgbgTAgCMvTlc/0QYTQAAAABJRU5ErkJggg==\n",
       "\" style=\"display:inline;vertical-align:middle;\" /></a></span></td></tr>\n",
       "<tr><td>&nbsp;</td><td colspan=4 style=\"text-align:left\"><span style=\"font-size:20px;\"><a class=\"ProveItLink\" href=\"../../../../__pv_it/2cbe72a7ad6f655694dd697106680215e8489b600/expr.ipynb\"><img src=\"data:image/png;base64,iVBORw0KGgoAAAANSUhEUgAAAA8AAAAOBAMAAAACpFvcAAAALVBMVEX///8QEBBERERUVFS6urqI\n",
       "iIhmZmaqqqrc3Nzu7u6YmJgyMjIiIiLMzMwAAADtIaYWAAAAAXRSTlMAQObYZgAAAFtJREFUCNdj\n",
       "YACBOwxQsA9Kc52bAGG05zVAGAFxDmCaZULdAjBjCsO9ADDDgaEvAUTzGhvbKYCVMDAwbgAxChgY\n",
       "eASANAeQwf0AyJgNxEwvGRia5HYwcOm9TgAA6BoR3jrzwFcAAAAASUVORK5CYII=\n",
       "\" style=\"display:inline;vertical-align:middle;\" /></a> : <a class=\"ProveItLink\" href=\"../../../../__pv_it/2cbe72a7ad6f655694dd697106680215e8489b600/expr.ipynb\"><img src=\"data:image/png;base64,iVBORw0KGgoAAAANSUhEUgAAAA8AAAAOBAMAAAACpFvcAAAALVBMVEX///8QEBBERERUVFS6urqI\n",
       "iIhmZmaqqqrc3Nzu7u6YmJgyMjIiIiLMzMwAAADtIaYWAAAAAXRSTlMAQObYZgAAAFtJREFUCNdj\n",
       "YACBOwxQsA9Kc52bAGG05zVAGAFxDmCaZULdAjBjCsO9ADDDgaEvAUTzGhvbKYCVMDAwbgAxChgY\n",
       "eASANAeQwf0AyJgNxEwvGRia5HYwcOm9TgAA6BoR3jrzwFcAAAAASUVORK5CYII=\n",
       "\" style=\"display:inline;vertical-align:middle;\" /></a></span></td></tr><tr><td>6</td><td>specialization</td><td>9, 10</td><td><span style=\"font-size:20px;\"><a class=\"ProveItLink\" href=\"../__pv_it/547fd547e34cf8546442bd6aea990dbe0adf77b90/expr.ipynb\"><img src=\"data:image/png;base64,iVBORw0KGgoAAAANSUhEUgAAACMAAAAVBAMAAAA+1EraAAAAMFBMVEX////c3NxERESqqqpUVFS6\n",
       "urrMzMwyMjIQEBCIiIh2dnYiIiLu7u5mZmaYmJgAAABXZE4RAAAAAXRSTlMAQObYZgAAAMtJREFU\n",
       "GNNjYGDgu8cAA2yrBEAUzy4GBGBrBpGcH4AEn/8XF6dSIOM6SIirAURyKDAw3A9gYFiBEMqfAMQO\n",
       "KELzgea+X4AipAHEOw6gCH1hYBDXYYAK8RaALP8yc+4+EO89iMgIALnkIwPDaaDpDOwXGBhS2kDi\n",
       "TEDdnP9ALPUHDAwRCUAGP1AF3y8ggxtoKwMLyKx8oBzLZ5hZXBugzpIvYEB2BNBZbO0HkIUu/Xdx\n",
       "KX/AgKIKDnAJ8aEIgcOLZydyqLaCKb7FqGEPACcgN6r4rcm/AAAAAElFTkSuQmCC\n",
       "\" style=\"display:inline;vertical-align:middle;\" /></a> <a class=\"ProveItLink\" href=\"../__pv_it/8d7cc70ebd97d8ec67f15e4e69770efcddff7cd60/proof.ipynb\" style=\"text-decoration: none\">&#x22A2;&nbsp;</a><a class=\"ProveItLink\" href=\"../__pv_it/41a86ef0ff9417c73c472e1bdfa161b308e2753e0/expr.ipynb\"><img src=\"data:image/png;base64,iVBORw0KGgoAAAANSUhEUgAAADcAAAAPBAMAAACy3Eq1AAAAMFBMVEX///+qqqru7u4iIiJ2dnbc\n",
       "3NyIiIjMzMxmZmYQEBC6uroyMjJERERUVFSYmJgAAADLUcuvAAAAAXRSTlMAQObYZgAAAOZJREFU\n",
       "GNNjYGB4+//u3dMLGJCB95/9O20EwMw5DAwcv1AkGQ4sY9rkAmKwfwPiv+iSDFncIAbbVwYGvi9g\n",
       "MbXNxtYwSTleBSCDZwIDA/MksBn7FJB0xoAY/BcYWPeARWMUEMay2x0CMeqvpTU/AAsdRdi52P5n\n",
       "AoiRH8DAZAtiMB1AdlCaDIhxEqQApJVrsrExwkE8XA5ABsgX70EM9gvIOnkYgAax/wNy7oOCg8kA\n",
       "QxLkTdbfYKF7KJIgY0HerNwEFlJegCT5IgcYquf/3r29DyLEuqMAHvCH5wqghigD422oayEAAEv1\n",
       "Sz0foy5uAAAAAElFTkSuQmCC\n",
       "\" style=\"display:inline;vertical-align:middle;\" /></a></span></td></tr>\n",
       "<tr><td>&nbsp;</td><td colspan=4 style=\"text-align:left\"><span style=\"font-size:20px;\"><a class=\"ProveItLink\" href=\"../../../../__pv_it/2cbe72a7ad6f655694dd697106680215e8489b600/expr.ipynb\"><img src=\"data:image/png;base64,iVBORw0KGgoAAAANSUhEUgAAAA8AAAAOBAMAAAACpFvcAAAALVBMVEX///8QEBBERERUVFS6urqI\n",
       "iIhmZmaqqqrc3Nzu7u6YmJgyMjIiIiLMzMwAAADtIaYWAAAAAXRSTlMAQObYZgAAAFtJREFUCNdj\n",
       "YACBOwxQsA9Kc52bAGG05zVAGAFxDmCaZULdAjBjCsO9ADDDgaEvAUTzGhvbKYCVMDAwbgAxChgY\n",
       "eASANAeQwf0AyJgNxEwvGRia5HYwcOm9TgAA6BoR3jrzwFcAAAAASUVORK5CYII=\n",
       "\" style=\"display:inline;vertical-align:middle;\" /></a> : <a class=\"ProveItLink\" href=\"../../../../__pv_it/077b2ff79244fb4582cbe22c6e3356fa92a52f2f0/expr.ipynb\"><img src=\"data:image/png;base64,iVBORw0KGgoAAAANSUhEUgAAABAAAAAOBAMAAADUAYG5AAAAMFBMVEX///+qqqru7u4iIiJ2dnbc\n",
       "3NyIiIjMzMxmZmYQEBC6uroyMjJERERUVFSYmJgAAADLUcuvAAAAAXRSTlMAQObYZgAAAGpJREFU\n",
       "CNdjYGB4+//u3dMLGIBgDgMDxy8gzf4NiP8CGWxfGRj4vgAZPBMYGJgnARn8FxhY9ygAGfXX0pof\n",
       "gDTlBzAw2YIYJ0EckBBI53sHoBH/gIz7AhBjWH9DjancBLTl/N+7t/cxMAAA3u4f/5xagjYAAAAA\n",
       "SUVORK5CYII=\n",
       "\" style=\"display:inline;vertical-align:middle;\" /></a></span></td></tr><tr><td>7</td><td>theorem</td><td></td><td><span style=\"font-size:20px;\"> <a class=\"ProveItLink\" href=\"../../_proofs_/inBoolIfFalse.ipynb\" style=\"text-decoration: none\">&#x22A2;&nbsp;</a><a class=\"ProveItLink\" href=\"../../__pv_it/a8889ad68c7b4cf0e24624f2b3dd4b353b6fbb540/expr.ipynb\"><img src=\"data:image/png;base64,iVBORw0KGgoAAAANSUhEUgAAAJMAAAAXBAMAAAD96mDoAAAAMFBMVEX///8QEBC6urrMzMxUVFRm\n",
       "ZmZERETc3NwyMjKqqqp2dnaIiIiYmJgiIiLu7u4AAAAU9Wx4AAAAAXRSTlMAQObYZgAAAhdJREFU\n",
       "OMtjYKAeeECsQqYN+GQPAfEFEOM0EUaZQChbVFGu/owfspkMDKwGDAwrQQJ9RBgFVdOPJszGtOHF\n",
       "qwUMDA0MDGVALnsCYZO4If7juf8AwyhuBaA5pxgYOIBSrBMIG8UIMaIyvgDCf9179wbUKM4DfgwM\n",
       "D4HWLC8vryXCfxoQasN+BTDN3PMA4Sp1oK/YgM75lpZ2iwijoiDR+GD+ATCj7AHCg7bHgByuAAYG\n",
       "ZwaGdLBgO0QxqgntMEYPmHzEYA8Js3REWN39Lw2kOYHhpcLA1wAO0E8QKRSToIJAIAQmFRjqA0A0\n",
       "XwJysO8E8pgEGBh4GbjBbn76B4tRUEEgAJvJ7OLiDzaESfbuXXiwMyRoAaU+AGP5AC/Y3+uuYjEK\n",
       "KggzCuh7RrAXmB2QXMWQwAYxiq8BnI6ZN6RhGgUTBAJJEAGMJV4BsAcvoBsF8iBDuhNIiIUhFtMo\n",
       "mCAQ5ICSMtAojg9grg+KUUAP8oBcOxVsw0mG/UhGLUtLS2tACALBUiB+AZL/B+a+VUAYxROdAEkM\n",
       "DIyg6OW7Gpr/ANVVCQhBINAFpiX5dgae/B/gKGRvNYBl528XPYEMDpDZPCDVrAUM9gboRsEFQRYW\n",
       "oCY4Tg9IDMLAQzhLh4GB/wC6UXBBkIUL8OeG1TDGk28M7P53UI0yQAgSLoggyRyt0MCluASvUSwF\n",
       "JBjFjrdA3sxAglGkAxaydQIAdVKHuuxtmLQAAAAASUVORK5CYII=\n",
       "\" style=\"display:inline;vertical-align:middle;\" /></a></span></td></tr>\n",
       "<tr><td>&nbsp;</td><td colspan=4 style-\"text-align:left\"><a class=\"ProveItLink\" href=\"../../_proofs_/inBoolIfFalse.ipynb\">proveit.logic.boolean.inBoolIfFalse</a></td></tr><tr><td>8</td><td>assumption</td><td></td><td><span style=\"font-size:20px;\"><a class=\"ProveItLink\" href=\"../__pv_it/edd8455a49d47780786b5faa6e783100cb7d31cc0/expr.ipynb\"><img src=\"data:image/png;base64,iVBORw0KGgoAAAANSUhEUgAAADAAAAAVBAMAAADyTXAxAAAAMFBMVEX///9ERETc3NyqqqpUVFS6\n",
       "urrMzMwyMjIQEBCIiIh2dnYiIiLu7u5mZmaYmJgAAABJJ2g3AAAAAXRSTlMAQObYZgAAALxJREFU\n",
       "KM9jYGDgu8eABrIWgUieXQwYIMMASHB+QBFj2wAkeAuABFcDigT7B5gYmsTrP9glmGw/YZfg5PyK\n",
       "XSKG+R9MDOwCGOAJYPsJpPhALsgIYGC4vRsIQP5hZWD6C1JQy8CQ0gZTnQLCLi4fQWzGOgaGiAQk\n",
       "CaDudhAbpJulACHBDKR2wOzg2oCQUAZS9RjOZWPgAWmWP4DhDyaJ7woMD//XYg8rMMAvwYdFAhwa\n",
       "PDuxxGAAiORbjC3OAaHOM6CzgdAAAAAAAElFTkSuQmCC\n",
       "\" style=\"display:inline;vertical-align:middle;\" /></a> <a class=\"ProveItLink\" href=\"../__pv_it/04d7501518712e5b9d432219fd2131665990c4a50/proof.ipynb\" style=\"text-decoration: none\">&#x22A2;&nbsp;</a><a class=\"ProveItLink\" href=\"../__pv_it/feaa1d0e6d92ad9ead8e5ffd1f92697e3912387a0/expr.ipynb\"><img src=\"data:image/png;base64,iVBORw0KGgoAAAANSUhEUgAAABwAAAAOBAMAAADOPWE3AAAAMFBMVEX///8QEBBERES6urqIiIiq\n",
       "qqrc3Nzu7u6YmJgyMjJUVFTMzMx2dnYiIiJmZmYAAADMbjvTAAAAAXRSTlMAQObYZgAAAGNJREFU\n",
       "CNdjYEAA7gsMyIDzAwq39zsyjy3uGzKXheUzMtec9QcSj92A+wsDw9u7QHAHyGVmYPsHldkFwqtW\n",
       "fULiGjAwSCK4rEDqIoKbCqTmw1zLwD4BSOkXwFyk+DOBoen/PABSrhtHsYt+gAAAAABJRU5ErkJg\n",
       "gg==\n",
       "\" style=\"display:inline;vertical-align:middle;\" /></a></span></td></tr>\n",
       "<tr><td>9</td><td>theorem</td><td></td><td><span style=\"font-size:20px;\"> <a class=\"ProveItLink\" href=\"../../_proofs_/inBoolIfTrue.ipynb\" style=\"text-decoration: none\">&#x22A2;&nbsp;</a><a class=\"ProveItLink\" href=\"../../__pv_it/cc0e652b3e50bfde974674c66b274bb1625600900/expr.ipynb\"><img src=\"data:image/png;base64,iVBORw0KGgoAAAANSUhEUgAAAIgAAAAXBAMAAAAipBr3AAAAMFBMVEX///8QEBC6urrMzMxUVFRm\n",
       "ZmZERETc3NwyMjKqqqp2dnaIiIiYmJgiIiLu7u4AAAAU9Wx4AAAAAXRSTlMAQObYZgAAAhdJREFU\n",
       "OMtjYKAGeECEGm18kjwKDAwXQIzTeM1gdoBQF1CFV3zrb7w2gYEhmIFhJYjfh9cQDohrOT6giSdo\n",
       "8/WtAoozMJQBeewJeA3ZDaHO/sMwhGET0ASeBWBrWCfgNUQOTLJP/Q7hvu69ewNmyByWBwx8Agw8\n",
       "y8vLa/GawdQApri5P0GCpucBkktAHslkYPiWlnYLryGsC8CUHucfMF32AOEd5jt5QHopA4MzA0M6\n",
       "WKwdYi88OAtgjAMgkk+B+TeYm44IE937HzcA6RkMDCoMfGD38kBcywZTcl4BymBUgBjO/hVsWAJy\n",
       "wO6eBqQVGRh4GbjBVj39g2IIX/wBKIsfbIiJi8s3sGGyd+8iApaNCehXe2CAHeAF+3LdVRRDuN4G\n",
       "oBgCJCSQUh7MEIYEsCF8DSZgyQ1pKIZYs8HczQhKAJxAfBHswgsYhiiCQsoJJMLCEItiiAMrTDUb\n",
       "yF+VQNwP5vqgGALyzgkgeypY9UmG/ciG8EzghqVyrgAGSNjng739VgHJkKPbIFHMwAiKJr6roRA1\n",
       "UEPehobBUjnTBQb2xB8FDMf+t4JTbqsBPAPmioC82gSyFKSZtYDB3gDJkHAG5s8wG8VREx+nBzR2\n",
       "YPEoAGPpAGPhAMIQJiD7D0zuFP7ShmsDlPHkGwO7/x24IXz+CQwlfw+gFgW4wAtMITZMIXYHvIa4\n",
       "E2UIQzU+M7gNiDOEZMBChh4Aa/SCMsrS/6MAAAAASUVORK5CYII=\n",
       "\" style=\"display:inline;vertical-align:middle;\" /></a></span></td></tr>\n",
       "<tr><td>&nbsp;</td><td colspan=4 style-\"text-align:left\"><a class=\"ProveItLink\" href=\"../../_proofs_/inBoolIfTrue.ipynb\">proveit.logic.boolean.inBoolIfTrue</a></td></tr><tr><td>10</td><td>assumption</td><td></td><td><span style=\"font-size:20px;\"><a class=\"ProveItLink\" href=\"../__pv_it/547fd547e34cf8546442bd6aea990dbe0adf77b90/expr.ipynb\"><img src=\"data:image/png;base64,iVBORw0KGgoAAAANSUhEUgAAACMAAAAVBAMAAAA+1EraAAAAMFBMVEX////c3NxERESqqqpUVFS6\n",
       "urrMzMwyMjIQEBCIiIh2dnYiIiLu7u5mZmaYmJgAAABXZE4RAAAAAXRSTlMAQObYZgAAAMtJREFU\n",
       "GNNjYGDgu8cAA2yrBEAUzy4GBGBrBpGcH4AEn/8XF6dSIOM6SIirAURyKDAw3A9gYFiBEMqfAMQO\n",
       "KELzgea+X4AipAHEOw6gCH1hYBDXYYAK8RaALP8yc+4+EO89iMgIALnkIwPDaaDpDOwXGBhS2kDi\n",
       "TEDdnP9ALPUHDAwRCUAGP1AF3y8ggxtoKwMLyKx8oBzLZ5hZXBugzpIvYEB2BNBZbO0HkIUu/Xdx\n",
       "KX/AgKIKDnAJ8aEIgcOLZydyqLaCKb7FqGEPACcgN6r4rcm/AAAAAElFTkSuQmCC\n",
       "\" style=\"display:inline;vertical-align:middle;\" /></a> <a class=\"ProveItLink\" href=\"../__pv_it/833aa83659a0310dae4142c972aaa6b925a3bbea0/proof.ipynb\" style=\"text-decoration: none\">&#x22A2;&nbsp;</a><a class=\"ProveItLink\" href=\"../../../../__pv_it/077b2ff79244fb4582cbe22c6e3356fa92a52f2f0/expr.ipynb\"><img src=\"data:image/png;base64,iVBORw0KGgoAAAANSUhEUgAAABAAAAAOBAMAAADUAYG5AAAAMFBMVEX///+qqqru7u4iIiJ2dnbc\n",
       "3NyIiIjMzMxmZmYQEBC6uroyMjJERERUVFSYmJgAAADLUcuvAAAAAXRSTlMAQObYZgAAAGpJREFU\n",
       "CNdjYGB4+//u3dMLGIBgDgMDxy8gzf4NiP8CGWxfGRj4vgAZPBMYGJgnARn8FxhY9ygAGfXX0pof\n",
       "gDTlBzAw2YIYJ0EckBBI53sHoBH/gIz7AhBjWH9DjancBLTl/N+7t/cxMAAA3u4f/5xagjYAAAAA\n",
       "SUVORK5CYII=\n",
       "\" style=\"display:inline;vertical-align:middle;\" /></a></span></td></tr>\n",
       "</table>"
      ],
      "text/plain": [
       "\tstep type\trequirements\tstatement\n",
       "0\tgeneralizaton\t1\t|- forall_{A, B | [not](A) , B} ((A and B) = FALSE)\n",
       "1\tspecialization\t2, 3\t{[not](A) , B} |- (A and B) = FALSE\n",
       "\tA : A and B\n",
       "2\taxiom\t\t|- forall_{A | [not](A)} (A = FALSE)\n",
       "\tproveit.logic.boolean.negation.negationElim\n",
       "3\tspecialization\t4, 5, 8, 6\t{[not](A) , B} |- [not](A and B)\n",
       "\tA : A, B : B\n",
       "4\ttheorem\t\t|- forall_{A, B in BOOLEANS | [not](A)} [not](A and B)\n",
       "\tproveit.logic.boolean.conjunction.nandIfNotLeft\n",
       "5\tspecialization\t7, 8\t{[not](A)} |- A in BOOLEANS\n",
       "\tA : A\n",
       "6\tspecialization\t9, 10\t{B} |- B in BOOLEANS\n",
       "\tA : B\n",
       "7\ttheorem\t\t|- forall_{A | [not](A)} (A in BOOLEANS)\n",
       "\tproveit.logic.boolean.inBoolIfFalse\n",
       "8\tassumption\t\t{[not](A)} |- [not](A)\n",
       "9\ttheorem\t\t|- forall_{A | A} (A in BOOLEANS)\n",
       "\tproveit.logic.boolean.inBoolIfTrue\n",
       "10\tassumption\t\t{B} |- B"
      ]
     },
     "execution_count": 6,
     "metadata": {},
     "output_type": "execute_result"
    }
   ],
   "source": [
    "# To do this manually, we'd execute nand.equateNegatedToFalse(assumptions=conditions) and then generalize.\n",
    "# But it can figure this out via automation.\n",
    "%qed"
   ]
  },
  {
   "cell_type": "code",
   "execution_count": null,
   "metadata": {},
   "outputs": [],
   "source": []
  }
 ],
 "metadata": {
  "kernelspec": {
   "display_name": "Python 3",
   "language": "python",
   "name": "python3"
  }
 },
 "nbformat": 4,
 "nbformat_minor": 0
}
