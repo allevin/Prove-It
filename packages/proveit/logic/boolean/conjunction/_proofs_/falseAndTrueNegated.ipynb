{
 "cells": [
  {
   "cell_type": "markdown",
   "metadata": {},
   "source": [
    "Proof of <a class=\"ProveItLink\" href=\"../../../../_context_.ipynb\">proveit</a>.<a class=\"ProveItLink\" href=\"../../../_context_.ipynb\">logic</a>.<a class=\"ProveItLink\" href=\"../../_context_.ipynb\">boolean</a>.<a class=\"ProveItLink\" href=\"../_context_.ipynb\">conjunction</a>.<a class=\"ProveItLink\" href=\"../_theorems_.ipynb#falseAndTrueNegated\">falseAndTrueNegated</a> theorem\n",
    "========"
   ]
  },
  {
   "cell_type": "code",
   "execution_count": 1,
   "metadata": {},
   "outputs": [],
   "source": [
    "import proveit\n",
    "from proveit.logic.boolean.conjunction._axioms_ import andFT\n",
    "context = proveit.Context('..') # the theorem's context is in the parent directory"
   ]
  },
  {
   "cell_type": "code",
   "execution_count": 2,
   "metadata": {},
   "outputs": [
    {
     "name": "stdout",
     "output_type": "stream",
     "text": [
      "Beginning proof of falseAndTrueNegated\n",
      "Recorded 'presuming' information\n",
      "falseAndTrueNegated has been proven.  Now simply execute \"%qed\".\n"
     ]
    },
    {
     "data": {
      "text/html": [
       "<strong id=\"falseAndTrueNegated\">falseAndTrueNegated:</strong> <a class=\"ProveItLink\" href=\"../__pv_it/af88bf4a49b2beeee5716629d5444ae2b0ba79670/expr.ipynb\"><img src=\"data:image/png;base64,iVBORw0KGgoAAAANSUhEUgAAAFYAAAAVBAMAAAAutAQGAAAAMFBMVEX////c3NxERESqqqqYmJgQ\n",
       "EBDu7u4yMjKIiIi6urpUVFTMzMx2dnYiIiJmZmYAAABjE816AAAAAXRSTlMAQObYZgAAAPhJREFU\n",
       "KM9jYCAPzMAnyTIBmce9AERKoKnhuwsGCgyvkUXZE0DkPhiXMQFuyAOwNLLaDgYUtewPUNWyHEBS\n",
       "G4aqdtM1VLVsAQilnAWoald2oKplUEbyxAEUtWwFvGhqzyF5zQFFLY8DnwGqWnOGt6AQuQNksk5A\n",
       "UcvLwFiAqnYqhLcLiPlR1XowMKxGVbsfp9prEFHsalkNkNUyA+XZBXC5gQnFbyB1zA9Q1LpDeSCP\n",
       "P0BWuwlEXMAVZpxAGWCgXL179xIoJhCxzsANCflKpDgORE4cYI9yIosgxzGDD/7UzdOAkSZxgnRk\n",
       "DuMCvGoXovAk8Cnl2MAAABt/SjW+Cnc/AAAAAElFTkSuQmCC\n",
       "\" style=\"display:inline;vertical-align:middle;\" /></a><br>(see <a class=\"ProveItLink\" href=\"../__pv_it/af88bf4a49b2beeee5716629d5444ae2b0ba79670/dependencies.ipynb\">dependencies</a>)<br>"
      ],
      "text/plain": [
       "falseAndTrueNegated: [not](FALSE and TRUE)"
      ]
     },
     "execution_count": 2,
     "metadata": {},
     "output_type": "execute_result"
    }
   ],
   "source": [
    "%proving falseAndTrueNegated presuming []"
   ]
  },
  {
   "cell_type": "code",
   "execution_count": 3,
   "metadata": {},
   "outputs": [
    {
     "data": {
      "text/html": [
       "<table><tr><th>&nbsp;</th><th>step type</th><th>requirements</th><th>statement</th></tr>\n",
       "<tr><td>0</td><td>specialization</td><td>1, 2</td><td><span style=\"font-size:20px;\"> <a class=\"ProveItLink\" href=\"../__pv_it/43a3d40c18ff1b32d8cb49871c6ae0e4153191820/proof.ipynb\" style=\"text-decoration: none\">&#x22A2;&nbsp;</a><a class=\"ProveItLink\" href=\"../__pv_it/af88bf4a49b2beeee5716629d5444ae2b0ba79670/expr.ipynb\"><img src=\"data:image/png;base64,iVBORw0KGgoAAAANSUhEUgAAAFYAAAAVBAMAAAAutAQGAAAAMFBMVEX////c3NxERESqqqqYmJgQ\n",
       "EBDu7u4yMjKIiIi6urpUVFTMzMx2dnYiIiJmZmYAAABjE816AAAAAXRSTlMAQObYZgAAAPhJREFU\n",
       "KM9jYCAPzMAnyTIBmce9AERKoKnhuwsGCgyvkUXZE0DkPhiXMQFuyAOwNLLaDgYUtewPUNWyHEBS\n",
       "G4aqdtM1VLVsAQilnAWoald2oKplUEbyxAEUtWwFvGhqzyF5zQFFLY8DnwGqWnOGt6AQuQNksk5A\n",
       "UcvLwFiAqnYqhLcLiPlR1XowMKxGVbsfp9prEFHsalkNkNUyA+XZBXC5gQnFbyB1zA9Q1LpDeSCP\n",
       "P0BWuwlEXMAVZpxAGWCgXL179xIoJhCxzsANCflKpDgORE4cYI9yIosgxzGDD/7UzdOAkSZxgnRk\n",
       "DuMCvGoXovAk8Cnl2MAAABt/SjW+Cnc/AAAAAElFTkSuQmCC\n",
       "\" style=\"display:inline;vertical-align:middle;\" /></a></span></td></tr>\n",
       "<tr><td>&nbsp;</td><td colspan=4 style=\"text-align:left\"><span style=\"font-size:20px;\"><a class=\"ProveItLink\" href=\"../../../../__pv_it/2cbe72a7ad6f655694dd697106680215e8489b600/expr.ipynb\"><img src=\"data:image/png;base64,iVBORw0KGgoAAAANSUhEUgAAAA8AAAAOBAMAAAACpFvcAAAALVBMVEX///8QEBBERERUVFS6urqI\n",
       "iIhmZmaqqqrc3Nzu7u6YmJgyMjIiIiLMzMwAAADtIaYWAAAAAXRSTlMAQObYZgAAAFtJREFUCNdj\n",
       "YACBOwxQsA9Kc52bAGG05zVAGAFxDmCaZULdAjBjCsO9ADDDgaEvAUTzGhvbKYCVMDAwbgAxChgY\n",
       "eASANAeQwf0AyJgNxEwvGRia5HYwcOm9TgAA6BoR3jrzwFcAAAAASUVORK5CYII=\n",
       "\" style=\"display:inline;vertical-align:middle;\" /></a> : <a class=\"ProveItLink\" href=\"../__pv_it/710f00884827e7ec166ce50d2d59b447b510c1220/expr.ipynb\"><img src=\"data:image/png;base64,iVBORw0KGgoAAAANSUhEUgAAADUAAAAPBAMAAAC2KZqIAAAAMFBMVEX///+qqqqYmJh2dna6urpU\n",
       "VFQyMjLu7u5EREQQEBAiIiJmZmbMzMyIiIjc3NwAAACSigvEAAAAAXRSTlMAQObYZgAAAHhJREFU\n",
       "GNNjYGBgeMuACrhXgUEDiH0aLvocxuDZAGUg5LJxy/F0FeCUY/W9gFOujGEBTjkjho045RYwPMMl\n",
       "x3SBgfUADjmuAgaeABxy0kCch0MuDyqPRY4HFIBcyHK7Vq1auWrVCpDPHYAEL8T3PAaowc8CJh0Q\n",
       "AgC2/yks/WNTawAAAABJRU5ErkJggg==\n",
       "\" style=\"display:inline;vertical-align:middle;\" /></a></span></td></tr><tr><td>1</td><td>axiom</td><td></td><td><span style=\"font-size:20px;\"> <a class=\"ProveItLink\" href=\"../../negation/_axioms_.ipynb#negationIntro\" style=\"text-decoration: none\">&#x22A2;&nbsp;</a><a class=\"ProveItLink\" href=\"../../negation/__pv_it/799eb3b565b99e60491a24b404f1db01d8e6476d0/expr.ipynb\"><img src=\"data:image/png;base64,iVBORw0KGgoAAAANSUhEUgAAAIUAAAAXBAMAAADXWpFHAAAAMFBMVEX///8QEBC6urrMzMxUVFRm\n",
       "ZmZERETc3NwyMjKqqqp2dnaIiIiYmJgiIiLu7u4AAAAU9Wx4AAAAAXRSTlMAQObYZgAAActJREFU\n",
       "OMtjYKACeECacm10gUNAfAHEOE2sEcwOKDygZlYDBoaVIE4fsWZwoDib4wOQaGBgKANS7AnEmrEb\n",
       "hXf2H5A4BTGZdQKxZsghc9infgeSDxkYeJaXl9cSawRTAzKPm/sTkGQDOuBbWtotYs1gXYDM0+P8\n",
       "AyS5AhgYnBkY0sFC7RCr4AFWgCVIDyBx+BSYfwMpTqDbVBj4wC7k+QSWYYMpOa+AUA4Lc0agWOxd\n",
       "ILgFto39K4gSYGDgZeAGm/70D4oZfPEHMM3gh5lrAsIuLt9AiQQYwdwHeMGRvu4qihlcbwMImAFk\n",
       "S0DN4GswAae5DWkoZlizJWDxywSEGZxA6iLULwzpTiBRFoZYFDMcWC8weHQAwQYkM9gOIMyoBFL9\n",
       "oHAEheZUcJY5ybAf2QyeCdwfMN3BBfMfMyQi8h9AxRhBNvFdDc1/gGTG29Cwf5hmMF2Ap9HEHwUM\n",
       "x/63AuMbFEY8IL2sBQz2BkhmhDMwf2bIQPcLgzhmmnkIZ+kAA/0AwgwmIPsPpjtAGQwdrIYxnnxj\n",
       "YPe/AzeDzz+BoeQvNABZ09LE0rKw5X2w0gZMY9nwZhh2B3QRlgJSzWCoRhfYzECyGUQBFtK1AAB+\n",
       "a2tdy7eWbQAAAABJRU5ErkJggg==\n",
       "\" style=\"display:inline;vertical-align:middle;\" /></a></span></td></tr>\n",
       "<tr><td>&nbsp;</td><td colspan=4 style-\"text-align:left\"><a class=\"ProveItLink\" href=\"../../negation/_axioms_.ipynb#negationIntro\">proveit.logic.boolean.negation.negationIntro</a></td></tr><tr><td>2</td><td>axiom</td><td></td><td><span style=\"font-size:20px;\"> <a class=\"ProveItLink\" href=\"../_axioms_.ipynb#andFT\" style=\"text-decoration: none\">&#x22A2;&nbsp;</a><a class=\"ProveItLink\" href=\"../__pv_it/00a36dba59af72bf2e5558ba96855ddd2d1315380/expr.ipynb\"><img src=\"data:image/png;base64,iVBORw0KGgoAAAANSUhEUgAAAHAAAAAVBAMAAABs93eRAAAAMFBMVEX////c3NwiIiJERESqqqqY\n",
       "mJh2dnZmZmYQEBDu7u4yMjJUVFTMzMyIiIi6uroAAAAs73DqAAAAAXRSTlMAQObYZgAAAQpJREFU\n",
       "OMtjYCAb8F3AJxuHW+o0iGBE112kBALKDOwHsGiRBZMrQQRPAUyQcQKMdRxMLsCiESzDewFVI1cB\n",
       "qsYwXBo5JqBqPKyJqnEGLo2vGFA17ruLqpHZAYfGMlSNnAuYUDWyFeDQuBRVI1sAuwOKRhZw6FSt\n",
       "AoHVyDJ9qBqZGBgXoGjka8Bh4z9UjbEMDHtQNPJ8IE6jJjRFENbYgqKRBUhzCWA6FZaQkGRMUTSC\n",
       "NLEUIGtkXYDDxnQUjYdBhAJR0fGIgYEd6IomJSUDUPSDhKBJ4BjEDQ8wk78GyNUcAsiiYFV8yCIz\n",
       "cOUq1gT82TUXp8xKvPo4F+CUksarkVsApxQj3qLjDi4JACAySBRuBPpwAAAAAElFTkSuQmCC\n",
       "\" style=\"display:inline;vertical-align:middle;\" /></a></span></td></tr>\n",
       "<tr><td>&nbsp;</td><td colspan=4 style-\"text-align:left\"><a class=\"ProveItLink\" href=\"../_axioms_.ipynb#andFT\">proveit.logic.boolean.conjunction.andFT</a></td></tr></table>"
      ],
      "text/plain": [
       "\tstep type\trequirements\tstatement\n",
       "0\tspecialization\t1, 2\t|- [not](FALSE and TRUE)\n",
       "\tA : FALSE and TRUE\n",
       "1\taxiom\t\t|- forall_{A | A = FALSE} [not](A)\n",
       "\tproveit.logic.boolean.negation.negationIntro\n",
       "2\taxiom\t\t|- (FALSE and TRUE) = FALSE\n",
       "\tproveit.logic.boolean.conjunction.andFT"
      ]
     },
     "execution_count": 3,
     "metadata": {},
     "output_type": "execute_result"
    }
   ],
   "source": [
    "%qed"
   ]
  },
  {
   "cell_type": "code",
   "execution_count": null,
   "metadata": {},
   "outputs": [],
   "source": []
  }
 ],
 "metadata": {
  "kernelspec": {
   "display_name": "Python 3",
   "language": "python",
   "name": "python3"
  }
 },
 "nbformat": 4,
 "nbformat_minor": 0
}
