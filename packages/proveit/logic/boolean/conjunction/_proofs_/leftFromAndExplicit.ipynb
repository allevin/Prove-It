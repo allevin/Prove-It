{
 "cells": [
  {
   "cell_type": "markdown",
   "metadata": {
    "collapsed": true
   },
   "source": [
    "Proof of <a class=\"ProveItLink\" href=\"../../../../_context_.ipynb\">proveit</a>.<a class=\"ProveItLink\" href=\"../../../_context_.ipynb\">logic</a>.<a class=\"ProveItLink\" href=\"../../_context_.ipynb\">boolean</a>.<a class=\"ProveItLink\" href=\"../_context_.ipynb\">conjunction</a>.<a class=\"ProveItLink\" href=\"../_theorems_.ipynb#leftFromAndExplicit\">leftFromAndExplicit</a> theorem\n",
    "========"
   ]
  },
  {
   "cell_type": "code",
   "execution_count": 1,
   "metadata": {},
   "outputs": [],
   "source": [
    "import proveit\n",
    "from proveit.logic import Booleans, And, Forall, Implies\n",
    "from proveit._common_ import A, B\n",
    "from proveit.logic.boolean._theorems_ import foldForallOverBool\n",
    "context = proveit.Context('..') # the theorem's context is in the parent directory"
   ]
  },
  {
   "cell_type": "code",
   "execution_count": 2,
   "metadata": {},
   "outputs": [
    {
     "name": "stdout",
     "output_type": "stream",
     "text": [
      "Beginning proof of leftFromAndExplicit\n",
      "Recorded 'presuming' information\n",
      "Presuming proveit.logic.boolean.foldForallOverBool theorem (applied transitively).\n",
      "Presuming previous theorems (applied transitively).\n"
     ]
    },
    {
     "data": {
      "text/html": [
       "<strong id=\"leftFromAndExplicit\">leftFromAndExplicit:</strong> <a class=\"ProveItLink\" href=\"../__pv_it/c2f80befab2ab3a6e3a5975864df3eb6182717d00/expr.ipynb\"><img src=\"../__pv_it/c2f80befab2ab3a6e3a5975864df3eb6182717d00/expr.png\" style=\"display:inline;vertical-align:middle;\" /></a><br>(see <a class=\"ProveItLink\" href=\"../__pv_it/c2f80befab2ab3a6e3a5975864df3eb6182717d00/dependencies.ipynb\">dependencies</a>)<br>"
      ],
      "text/plain": [
       "leftFromAndExplicit: forall_{A, B in BOOLEANS | A and B} A"
      ]
     },
     "execution_count": 2,
     "metadata": {},
     "output_type": "execute_result"
    }
   ],
   "source": [
    "%proving leftFromAndExplicit presuming [foldForallOverBool]"
   ]
  },
  {
   "cell_type": "code",
   "execution_count": 3,
   "metadata": {},
   "outputs": [
    {
     "data": {
      "text/html": [
       "<strong id=\"goal\">goal:</strong> <a class=\"ProveItLink\" href=\"../__pv_it/25d221bd66c30cd8bd230cff29eda91c797a7c0d0/expr.ipynb\"><img src=\"../__pv_it/25d221bd66c30cd8bd230cff29eda91c797a7c0d0/expr.png\" style=\"display:inline;vertical-align:middle;\" /></a><br>"
      ],
      "text/plain": [
       "goal: forall_{A, B in BOOLEANS} ((A and B) => A)"
      ]
     },
     "execution_count": 3,
     "metadata": {},
     "output_type": "execute_result"
    }
   ],
   "source": [
    "goal = Forall((A,B), Implies(And(A,B), A), domain = Booleans)"
   ]
  },
  {
   "cell_type": "code",
   "execution_count": 4,
   "metadata": {},
   "outputs": [
    {
     "data": {
      "text/html": [
       "<span style=\"font-size:20px;\"> &#x22A2;&nbsp;<a class=\"ProveItLink\" href=\"../__pv_it/25d221bd66c30cd8bd230cff29eda91c797a7c0d0/expr.ipynb\"><img src=\"../__pv_it/25d221bd66c30cd8bd230cff29eda91c797a7c0d0/expr.png\" style=\"display:inline;vertical-align:middle;\" /></a></span>"
      ],
      "text/plain": [
       "|= forall_{A, B in BOOLEANS} ((A and B) => A)"
      ]
     },
     "execution_count": 4,
     "metadata": {},
     "output_type": "execute_result"
    }
   ],
   "source": [
    "goal.prove()"
   ]
  },
  {
   "cell_type": "code",
   "execution_count": 5,
   "metadata": {},
   "outputs": [
    {
     "data": {
      "text/html": [
       "<strong id=\"finalStep\">finalStep:</strong> <span style=\"font-size:20px;\"><a class=\"ProveItLink\" href=\"../__pv_it/1cfd36f54dadf8eaa971948fe28d325742cb751f0/expr.ipynb\"><img src=\"../__pv_it/1cfd36f54dadf8eaa971948fe28d325742cb751f0/expr.png\" style=\"display:inline;vertical-align:middle;\" /></a> &#x22A2;&nbsp;<a class=\"ProveItLink\" href=\"../__pv_it/378869707863d2441885b16858db8b5d5606921f0/expr.ipynb\"><img src=\"../__pv_it/378869707863d2441885b16858db8b5d5606921f0/expr.png\" style=\"display:inline;vertical-align:middle;\" /></a></span><br>"
      ],
      "text/plain": [
       "finalStep: {A in BOOLEANS , B in BOOLEANS} |= (A and B) => A"
      ]
     },
     "execution_count": 5,
     "metadata": {},
     "output_type": "execute_result"
    }
   ],
   "source": [
    "finalStep = goal.specialize(assumptions = list(leftFromAndExplicit.allConditions()))"
   ]
  },
  {
   "cell_type": "code",
   "execution_count": 6,
   "metadata": {},
   "outputs": [
    {
     "data": {
      "text/html": [
       "<span style=\"font-size:20px;\"><a class=\"ProveItLink\" href=\"../__pv_it/b335aaee7966e5a9236f000a29665991da000f380/expr.ipynb\"><img src=\"../__pv_it/b335aaee7966e5a9236f000a29665991da000f380/expr.png\" style=\"display:inline;vertical-align:middle;\" /></a> &#x22A2;&nbsp;<a class=\"ProveItLink\" href=\"../../../../__pv_it/2cbe72a7ad6f655694dd697106680215e8489b600/expr.ipynb\"><img src=\"../../../../__pv_it/2cbe72a7ad6f655694dd697106680215e8489b600/expr.png\" style=\"display:inline;vertical-align:middle;\" /></a></span>"
      ],
      "text/plain": [
       "{A in BOOLEANS , B in BOOLEANS , A and B} |= A"
      ]
     },
     "execution_count": 6,
     "metadata": {},
     "output_type": "execute_result"
    }
   ],
   "source": [
    "finalStep.deriveConsequent(assumptions = leftFromAndExplicit.allConditions())"
   ]
  },
  {
   "cell_type": "code",
   "execution_count": 7,
   "metadata": {},
   "outputs": [
    {
     "data": {
      "text/html": [
       "<table><tr><th>&nbsp;</th><th>step type</th><th>requirements</th><th>statement</th></tr>\n",
       "<tr><td>0</td><td>generalizaton</td><td>1</td><td><span style=\"font-size:20px;\"> &#x22A2;&nbsp;<a class=\"ProveItLink\" href=\"../__pv_it/c2f80befab2ab3a6e3a5975864df3eb6182717d00/expr.ipynb\"><img src=\"../__pv_it/c2f80befab2ab3a6e3a5975864df3eb6182717d00/expr.png\" style=\"display:inline;vertical-align:middle;\" /></a></span></td></tr>\n",
       "<tr><td>1</td><td>modus ponens</td><td>2, 3</td><td><span style=\"font-size:20px;\"><a class=\"ProveItLink\" href=\"../__pv_it/b335aaee7966e5a9236f000a29665991da000f380/expr.ipynb\"><img src=\"../__pv_it/b335aaee7966e5a9236f000a29665991da000f380/expr.png\" style=\"display:inline;vertical-align:middle;\" /></a> &#x22A2;&nbsp;<a class=\"ProveItLink\" href=\"../../../../__pv_it/2cbe72a7ad6f655694dd697106680215e8489b600/expr.ipynb\"><img src=\"../../../../__pv_it/2cbe72a7ad6f655694dd697106680215e8489b600/expr.png\" style=\"display:inline;vertical-align:middle;\" /></a></span></td></tr>\n",
       "<tr><td>2</td><td>specialization</td><td>4, 5, 6</td><td><span style=\"font-size:20px;\"><a class=\"ProveItLink\" href=\"../__pv_it/1cfd36f54dadf8eaa971948fe28d325742cb751f0/expr.ipynb\"><img src=\"../__pv_it/1cfd36f54dadf8eaa971948fe28d325742cb751f0/expr.png\" style=\"display:inline;vertical-align:middle;\" /></a> &#x22A2;&nbsp;<a class=\"ProveItLink\" href=\"../__pv_it/378869707863d2441885b16858db8b5d5606921f0/expr.ipynb\"><img src=\"../__pv_it/378869707863d2441885b16858db8b5d5606921f0/expr.png\" style=\"display:inline;vertical-align:middle;\" /></a></span></td></tr>\n",
       "<tr><td>&nbsp;</td><td colspan=4 style=\"text-align:left\"><span style=\"font-size:20px;\"><a class=\"ProveItLink\" href=\"../__pv_it/5fa8df6a7435f1eec38081ed73bf5e7109f10f640/expr.ipynb\"><img src=\"../__pv_it/5fa8df6a7435f1eec38081ed73bf5e7109f10f640/expr.png\" style=\"display:inline;vertical-align:middle;\" /></a>, <a class=\"ProveItLink\" href=\"../__pv_it/00e4b46dd5e5a908d5cc5ab396bb15e8f919bb7e0/expr.ipynb\"><img src=\"../__pv_it/00e4b46dd5e5a908d5cc5ab396bb15e8f919bb7e0/expr.png\" style=\"display:inline;vertical-align:middle;\" /></a></span></td></tr><tr><td>3</td><td>assumption</td><td></td><td><span style=\"font-size:20px;\"><a class=\"ProveItLink\" href=\"../__pv_it/0d13935015c66a2b9783567dc85beb267ce5b6c30/expr.ipynb\"><img src=\"../__pv_it/0d13935015c66a2b9783567dc85beb267ce5b6c30/expr.png\" style=\"display:inline;vertical-align:middle;\" /></a> &#x22A2;&nbsp;<a class=\"ProveItLink\" href=\"../__pv_it/edf5921e70ecbc490c6ad683c7c61276640c86b60/expr.ipynb\"><img src=\"../__pv_it/edf5921e70ecbc490c6ad683c7c61276640c86b60/expr.png\" style=\"display:inline;vertical-align:middle;\" /></a></span></td></tr>\n",
       "<tr><td>4</td><td>specialization</td><td>11, 7, 8</td><td><span style=\"font-size:20px;\"> &#x22A2;&nbsp;<a class=\"ProveItLink\" href=\"../__pv_it/25d221bd66c30cd8bd230cff29eda91c797a7c0d0/expr.ipynb\"><img src=\"../__pv_it/25d221bd66c30cd8bd230cff29eda91c797a7c0d0/expr.png\" style=\"display:inline;vertical-align:middle;\" /></a></span></td></tr>\n",
       "<tr><td>&nbsp;</td><td colspan=4 style=\"text-align:left\"><span style=\"font-size:20px;\"><a class=\"ProveItLink\" href=\"../__pv_it/42c954699407da990cd7651f2ddeb3ed07a844aa0/expr.ipynb\"><img src=\"../__pv_it/42c954699407da990cd7651f2ddeb3ed07a844aa0/expr.png\" style=\"display:inline;vertical-align:middle;\" /></a></span></td></tr><tr><td>5</td><td>assumption</td><td></td><td><span style=\"font-size:20px;\"><a class=\"ProveItLink\" href=\"../__pv_it/017ca8cfa034181c90ba15dd10869f0f4e516d6a0/expr.ipynb\"><img src=\"../__pv_it/017ca8cfa034181c90ba15dd10869f0f4e516d6a0/expr.png\" style=\"display:inline;vertical-align:middle;\" /></a> &#x22A2;&nbsp;<a class=\"ProveItLink\" href=\"../__pv_it/03a5c2b5cc6fc2c3cd686b4bcf84379b893abe210/expr.ipynb\"><img src=\"../__pv_it/03a5c2b5cc6fc2c3cd686b4bcf84379b893abe210/expr.png\" style=\"display:inline;vertical-align:middle;\" /></a></span></td></tr>\n",
       "<tr><td>6</td><td>assumption</td><td></td><td><span style=\"font-size:20px;\"><a class=\"ProveItLink\" href=\"../__pv_it/2c2e947402f53b9e11cd7769e1b5b3378595750e0/expr.ipynb\"><img src=\"../__pv_it/2c2e947402f53b9e11cd7769e1b5b3378595750e0/expr.png\" style=\"display:inline;vertical-align:middle;\" /></a> &#x22A2;&nbsp;<a class=\"ProveItLink\" href=\"../__pv_it/fe5c91c77f0659f9ea07a2e3257797875d6868370/expr.ipynb\"><img src=\"../__pv_it/fe5c91c77f0659f9ea07a2e3257797875d6868370/expr.png\" style=\"display:inline;vertical-align:middle;\" /></a></span></td></tr>\n",
       "<tr><td>7</td><td>specialization</td><td>11, 9, 10</td><td><span style=\"font-size:20px;\"> &#x22A2;&nbsp;<a class=\"ProveItLink\" href=\"../__pv_it/d9ca1fad85dca43458d33d075687f6db4f9dfafa0/expr.ipynb\"><img src=\"../__pv_it/d9ca1fad85dca43458d33d075687f6db4f9dfafa0/expr.png\" style=\"display:inline;vertical-align:middle;\" /></a></span></td></tr>\n",
       "<tr><td>&nbsp;</td><td colspan=4 style=\"text-align:left\"><span style=\"font-size:20px;\"><a class=\"ProveItLink\" href=\"../__pv_it/f1986db8774536166dc4927a44a8c13609ad52be0/expr.ipynb\"><img src=\"../__pv_it/f1986db8774536166dc4927a44a8c13609ad52be0/expr.png\" style=\"display:inline;vertical-align:middle;\" /></a>, relabeling <a class=\"ProveItLink\" href=\"../__pv_it/5d5f2788af5ab1e0877417def4ee9be126f7bc700/expr.ipynb\"><img src=\"../__pv_it/5d5f2788af5ab1e0877417def4ee9be126f7bc700/expr.png\" style=\"display:inline;vertical-align:middle;\" /></a></span></td></tr><tr><td>8</td><td>specialization</td><td>11, 12, 13</td><td><span style=\"font-size:20px;\"> &#x22A2;&nbsp;<a class=\"ProveItLink\" href=\"../__pv_it/ff60fd2436508f6ce7a3d9b98e0e6ec4396717c90/expr.ipynb\"><img src=\"../__pv_it/ff60fd2436508f6ce7a3d9b98e0e6ec4396717c90/expr.png\" style=\"display:inline;vertical-align:middle;\" /></a></span></td></tr>\n",
       "<tr><td>&nbsp;</td><td colspan=4 style=\"text-align:left\"><span style=\"font-size:20px;\"><a class=\"ProveItLink\" href=\"../__pv_it/1f71c41d1a12343f7d6aec448b1394702f7e552e0/expr.ipynb\"><img src=\"../__pv_it/1f71c41d1a12343f7d6aec448b1394702f7e552e0/expr.png\" style=\"display:inline;vertical-align:middle;\" /></a>, relabeling <a class=\"ProveItLink\" href=\"../__pv_it/5d5f2788af5ab1e0877417def4ee9be126f7bc700/expr.ipynb\"><img src=\"../__pv_it/5d5f2788af5ab1e0877417def4ee9be126f7bc700/expr.png\" style=\"display:inline;vertical-align:middle;\" /></a></span></td></tr><tr><td>9</td><td>hypothetical reasoning</td><td>14</td><td><span style=\"font-size:20px;\"> &#x22A2;&nbsp;<a class=\"ProveItLink\" href=\"../__pv_it/bbb62ae2a51ead8cc45233ce81178457e0ca68b80/expr.ipynb\"><img src=\"../__pv_it/bbb62ae2a51ead8cc45233ce81178457e0ca68b80/expr.png\" style=\"display:inline;vertical-align:middle;\" /></a></span></td></tr>\n",
       "<tr><td>10</td><td>hypothetical reasoning</td><td>14</td><td><span style=\"font-size:20px;\"> &#x22A2;&nbsp;<a class=\"ProveItLink\" href=\"../__pv_it/a49d821425c2d29e7fa49ace7c9adf510c3f72c70/expr.ipynb\"><img src=\"../__pv_it/a49d821425c2d29e7fa49ace7c9adf510c3f72c70/expr.png\" style=\"display:inline;vertical-align:middle;\" /></a></span></td></tr>\n",
       "<tr><td>11</td><td>theorem</td><td></td><td><span style=\"font-size:20px;\"> &#x22A2;&nbsp;<a class=\"ProveItLink\" href=\"../../__pv_it/aee6960d17505c798b9d1f24ff6ef5d96fac5a9a0/expr.ipynb\"><img src=\"../../__pv_it/aee6960d17505c798b9d1f24ff6ef5d96fac5a9a0/expr.png\" style=\"display:inline;vertical-align:middle;\" /></a></span></td></tr>\n",
       "<tr><td>&nbsp;</td><td colspan=4 style-\"text-align:left\"><a class=\"ProveItLink\" href=\"../../_proofs_/foldForallOverBool.ipynb\">proveit.logic.boolean.foldForallOverBool</a></td></tr><tr><td>12</td><td>specialization</td><td>16, 15</td><td><span style=\"font-size:20px;\"> &#x22A2;&nbsp;<a class=\"ProveItLink\" href=\"../__pv_it/43d200df905d973afb3f8f21ad881e6fa34d3ac20/expr.ipynb\"><img src=\"../__pv_it/43d200df905d973afb3f8f21ad881e6fa34d3ac20/expr.png\" style=\"display:inline;vertical-align:middle;\" /></a></span></td></tr>\n",
       "<tr><td>&nbsp;</td><td colspan=4 style=\"text-align:left\"><span style=\"font-size:20px;\"><a class=\"ProveItLink\" href=\"../__pv_it/862a3d2431720f405513ef8ab8538eb1bbfbf3510/expr.ipynb\"><img src=\"../__pv_it/862a3d2431720f405513ef8ab8538eb1bbfbf3510/expr.png\" style=\"display:inline;vertical-align:middle;\" /></a>, <a class=\"ProveItLink\" href=\"../__pv_it/8533b456eacfd956bf1b9015d7dab194deffcfa40/expr.ipynb\"><img src=\"../__pv_it/8533b456eacfd956bf1b9015d7dab194deffcfa40/expr.png\" style=\"display:inline;vertical-align:middle;\" /></a></span></td></tr><tr><td>13</td><td>specialization</td><td>16, 17</td><td><span style=\"font-size:20px;\"> &#x22A2;&nbsp;<a class=\"ProveItLink\" href=\"../__pv_it/39e4d9e6ba9cc7fa92b1d7770528ba990efab84a0/expr.ipynb\"><img src=\"../__pv_it/39e4d9e6ba9cc7fa92b1d7770528ba990efab84a0/expr.png\" style=\"display:inline;vertical-align:middle;\" /></a></span></td></tr>\n",
       "<tr><td>&nbsp;</td><td colspan=4 style=\"text-align:left\"><span style=\"font-size:20px;\"><a class=\"ProveItLink\" href=\"../__pv_it/5247f78efe689641823d831907f284bb455bdaaa0/expr.ipynb\"><img src=\"../__pv_it/5247f78efe689641823d831907f284bb455bdaaa0/expr.png\" style=\"display:inline;vertical-align:middle;\" /></a>, <a class=\"ProveItLink\" href=\"../__pv_it/8533b456eacfd956bf1b9015d7dab194deffcfa40/expr.ipynb\"><img src=\"../__pv_it/8533b456eacfd956bf1b9015d7dab194deffcfa40/expr.png\" style=\"display:inline;vertical-align:middle;\" /></a></span></td></tr><tr><td>14</td><td>axiom</td><td></td><td><span style=\"font-size:20px;\"> &#x22A2;&nbsp;<a class=\"ProveItLink\" href=\"../../__pv_it/68a87cc3370287d726c7086ace789e680e4461c30/expr.ipynb\"><img src=\"../../__pv_it/68a87cc3370287d726c7086ace789e680e4461c30/expr.png\" style=\"display:inline;vertical-align:middle;\" /></a></span></td></tr>\n",
       "<tr><td>&nbsp;</td><td colspan=4 style-\"text-align:left\"><a class=\"ProveItLink\" href=\"../../_axioms_.ipynb#trueAxiom\">proveit.logic.boolean.trueAxiom</a></td></tr><tr><td>15</td><td>theorem</td><td></td><td><span style=\"font-size:20px;\"> &#x22A2;&nbsp;<a class=\"ProveItLink\" href=\"../__pv_it/e3698de5523b3ba396528b983003062ac08fceee0/expr.ipynb\"><img src=\"../__pv_it/e3698de5523b3ba396528b983003062ac08fceee0/expr.png\" style=\"display:inline;vertical-align:middle;\" /></a></span></td></tr>\n",
       "<tr><td>&nbsp;</td><td colspan=4 style-\"text-align:left\"><a class=\"ProveItLink\" href=\"falseAndTrueNegated.ipynb\">proveit.logic.boolean.conjunction.falseAndTrueNegated</a></td></tr><tr><td>16</td><td>theorem</td><td></td><td><span style=\"font-size:20px;\"> &#x22A2;&nbsp;<a class=\"ProveItLink\" href=\"../../implication/__pv_it/e437b35081782bf2ed2787967e9c068b053b29620/expr.ipynb\"><img src=\"../../implication/__pv_it/e437b35081782bf2ed2787967e9c068b053b29620/expr.png\" style=\"display:inline;vertical-align:middle;\" /></a></span></td></tr>\n",
       "<tr><td>&nbsp;</td><td colspan=4 style-\"text-align:left\"><a class=\"ProveItLink\" href=\"../../implication/_proofs_/falseAntecedentImplication.ipynb\">proveit.logic.boolean.implication.falseAntecedentImplication</a></td></tr><tr><td>17</td><td>theorem</td><td></td><td><span style=\"font-size:20px;\"> &#x22A2;&nbsp;<a class=\"ProveItLink\" href=\"../__pv_it/99f89db8ce399898d7e20ab5de2549e20139671f0/expr.ipynb\"><img src=\"../__pv_it/99f89db8ce399898d7e20ab5de2549e20139671f0/expr.png\" style=\"display:inline;vertical-align:middle;\" /></a></span></td></tr>\n",
       "<tr><td>&nbsp;</td><td colspan=4 style-\"text-align:left\"><a class=\"ProveItLink\" href=\"falseAndFalseNegated.ipynb\">proveit.logic.boolean.conjunction.falseAndFalseNegated</a></td></tr></table>"
      ],
      "text/plain": [
       "\tstep type\trequirements\tstatement\n",
       "0\tgeneralizaton\t1\t|= forall_{A, B in BOOLEANS | A and B} A\n",
       "1\tmodus ponens\t2, 3\t{A in BOOLEANS , B in BOOLEANS , A and B} |= A\n",
       "2\tspecialization\t4, 5, 6\t{A in BOOLEANS , B in BOOLEANS} |= (A and B) => A\n",
       "\t{A -> A}, {B -> B}\n",
       "3\tassumption\t\t{A and B} |= A and B\n",
       "4\tspecialization\t11, 7, 8\t|= forall_{A, B in BOOLEANS} ((A and B) => A)\n",
       "\tP -> [A -> [forall_{B in BOOLEANS} ((A and B) => A)]]\n",
       "5\tassumption\t\t{A in BOOLEANS} |= A in BOOLEANS\n",
       "6\tassumption\t\t{B in BOOLEANS} |= B in BOOLEANS\n",
       "7\tspecialization\t11, 9, 10\t|= forall_{B in BOOLEANS} ((TRUE and B) => TRUE)\n",
       "\t{P -> [B -> ((TRUE and B) => TRUE)]}, relabeling {A -> B}\n",
       "8\tspecialization\t11, 12, 13\t|= forall_{B in BOOLEANS} ((FALSE and B) => FALSE)\n",
       "\t{P -> [B -> ((FALSE and B) => FALSE)]}, relabeling {A -> B}\n",
       "9\thypothetical reasoning\t14\t|= (TRUE and TRUE) => TRUE\n",
       "10\thypothetical reasoning\t14\t|= (TRUE and FALSE) => TRUE\n",
       "11\ttheorem\t\t|= forall_{P | P(TRUE) , P(FALSE)} [forall_{A in BOOLEANS} P(A)]\n",
       "\tproveit.logic.boolean.foldForallOverBool\n",
       "12\tspecialization\t16, 15\t|= (FALSE and TRUE) => FALSE\n",
       "\t{A -> (FALSE and TRUE)}, {B -> FALSE}\n",
       "13\tspecialization\t16, 17\t|= (FALSE and FALSE) => FALSE\n",
       "\t{A -> (FALSE and FALSE)}, {B -> FALSE}\n",
       "14\taxiom\t\t|= TRUE\n",
       "\tproveit.logic.boolean.trueAxiom\n",
       "15\ttheorem\t\t|= [not](FALSE and TRUE)\n",
       "\tproveit.logic.boolean.conjunction.falseAndTrueNegated\n",
       "16\ttheorem\t\t|= forall_{A, B | [not](A)} (A => B)\n",
       "\tproveit.logic.boolean.implication.falseAntecedentImplication\n",
       "17\ttheorem\t\t|= [not](FALSE and FALSE)\n",
       "\tproveit.logic.boolean.conjunction.falseAndFalseNegated"
      ]
     },
     "execution_count": 7,
     "metadata": {},
     "output_type": "execute_result"
    }
   ],
   "source": [
    "%qed"
   ]
  }
 ],
 "metadata": {
  "kernelspec": {
   "display_name": "Python 3",
   "language": "python",
   "name": "python3"
  },
  "language_info": {
   "codemirror_mode": {
    "name": "ipython",
    "version": 3
   },
   "file_extension": ".py",
   "mimetype": "text/x-python",
   "name": "python",
   "nbconvert_exporter": "python",
   "pygments_lexer": "ipython3",
   "version": "3.7.1"
  }
 },
 "nbformat": 4,
 "nbformat_minor": 1
}
