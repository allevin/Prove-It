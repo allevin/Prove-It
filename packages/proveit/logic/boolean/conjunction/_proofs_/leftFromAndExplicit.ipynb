{
 "cells": [
  {
   "cell_type": "markdown",
   "metadata": {
    "collapsed": true
   },
   "source": [
    "Proof of <a class=\"ProveItLink\" href=\"../../../../_context_.ipynb\">proveit</a>.<a class=\"ProveItLink\" href=\"../../../_context_.ipynb\">logic</a>.<a class=\"ProveItLink\" href=\"../../_context_.ipynb\">boolean</a>.<a class=\"ProveItLink\" href=\"../_context_.ipynb\">conjunction</a>.<a class=\"ProveItLink\" href=\"../_theorems_.ipynb#leftFromAndExplicit\">leftFromAndExplicit</a> theorem\n",
    "========"
   ]
  },
  {
   "cell_type": "code",
   "execution_count": 1,
   "metadata": {},
   "outputs": [],
   "source": [
    "import proveit\n",
    "# we need to import these to derive their side-effects:\n",
    "from proveit.logic.boolean.conjunction._theorems_ import falseAndTrueNegated, falseAndFalseNegated\n",
    "from proveit.logic.boolean._theorems_ import foldForallOverBool, foldConditionedForallOverBool\n",
    "context = proveit.Context('..') # the theorem's context is in the parent directory"
   ]
  },
  {
   "cell_type": "code",
   "execution_count": 2,
   "metadata": {},
   "outputs": [
    {
     "name": "stdout",
     "output_type": "stream",
     "text": [
      "Beginning proof of leftFromAndExplicit\n",
      "Recorded 'presuming' information\n",
      "Presuming proveit.logic.boolean.foldConditionedForallOverBool, proveit.logic.boolean.foldForallOverBool theorems (applied transitively).\n",
      "Presuming previous theorems (applied transitively).\n"
     ]
    },
    {
     "data": {
      "text/html": [
       "<strong id=\"leftFromAndExplicit\">leftFromAndExplicit:</strong> <a class=\"ProveItLink\" href=\"../__pv_it/c2f80befab2ab3a6e3a5975864df3eb6182717d00/expr.ipynb\"><img src=\"../__pv_it/c2f80befab2ab3a6e3a5975864df3eb6182717d00/expr.png\" style=\"display:inline;vertical-align:middle;\" /></a><br>(see <a class=\"ProveItLink\" href=\"../__pv_it/c2f80befab2ab3a6e3a5975864df3eb6182717d00/dependencies.ipynb\">dependencies</a>)<br>"
      ],
      "text/plain": [
       "leftFromAndExplicit: forall_{A, B in BOOLEANS | A and B} A"
      ]
     },
     "execution_count": 2,
     "metadata": {},
     "output_type": "execute_result"
    }
   ],
   "source": [
    "%proving leftFromAndExplicit presuming [foldForallOverBool, foldConditionedForallOverBool]"
   ]
  },
  {
   "cell_type": "code",
   "execution_count": 3,
   "metadata": {},
   "outputs": [],
   "source": [
    "#%qed"
   ]
  },
  {
   "cell_type": "code",
   "execution_count": null,
   "metadata": {},
   "outputs": [],
   "source": []
  }
 ],
 "metadata": {
  "kernelspec": {
   "display_name": "Python 3",
   "language": "python",
   "name": "python3"
  },
  "language_info": {
   "codemirror_mode": {
    "name": "ipython",
    "version": 3
   },
   "file_extension": ".py",
   "mimetype": "text/x-python",
   "name": "python",
   "nbconvert_exporter": "python",
   "pygments_lexer": "ipython3",
   "version": "3.7.3"
  }
 },
 "nbformat": 4,
 "nbformat_minor": 1
}
