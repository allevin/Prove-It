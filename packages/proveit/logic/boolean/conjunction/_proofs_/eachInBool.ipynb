{
 "cells": [
  {
   "cell_type": "markdown",
   "metadata": {},
   "source": [
    "Proof of <a class=\"ProveItLink\" href=\"../../../../_context_.ipynb\">proveit</a>.<a class=\"ProveItLink\" href=\"../../../_context_.ipynb\">logic</a>.<a class=\"ProveItLink\" href=\"../../_context_.ipynb\">boolean</a>.<a class=\"ProveItLink\" href=\"../_context_.ipynb\">conjunction</a>.<a class=\"ProveItLink\" href=\"../_theorems_.ipynb#eachInBool\">eachInBool</a> theorem\n",
    "========"
   ]
  },
  {
   "cell_type": "code",
   "execution_count": 1,
   "metadata": {},
   "outputs": [],
   "source": [
    "import proveit\n",
    "context = proveit.Context('..') # the theorem's context is in the parent directory"
   ]
  },
  {
   "cell_type": "code",
   "execution_count": 2,
   "metadata": {},
   "outputs": [
    {
     "name": "stdout",
     "output_type": "stream",
     "text": [
      "Beginning proof of eachInBool\n",
      "Recorded 'presuming' information\n",
      "Presuming previous theorems (applied transitively).\n"
     ]
    },
    {
     "data": {
      "text/html": [
       "<strong id=\"eachInBool\">eachInBool:</strong> <a class=\"ProveItLink\" href=\"../__pv_it/aa38640603436f50c075cd7f502c14203564f2dd0/expr.ipynb\"><img src=\"data:image/png;base64,iVBORw0KGgoAAAANSUhEUgAAAewAAAAZBAMAAAABLABNAAAAMFBMVEX///8QEBC6urrMzMxUVFRm\n",
       "ZmZERETc3NwyMjKqqqp2dnaIiIiYmJgiIiLu7u4AAAAU9Wx4AAAAAXRSTlMAQObYZgAABiJJREFU\n",
       "WMPlWH1sFFUQn+61d+3e3l4rf6BiuRKJTSSGIxFiSpq7UIIaDBxKNQjIgfGqUfD+ILQRoRcT/EgU\n",
       "LlH/0oSLQcD4kUPSRgKJBw2NVgJFCShysERjGqAI0gDy4Tkzb/f27fUoGxNJxZfc3szsvHnv92be\n",
       "zNsH4K4tzyfhdmlK/qhb1X64ndrK/ytswy1s/b+CadKIb/cI2OzG71zADtCflh31qD1RnObcoZmz\n",
       "XnOI1Q3PX65/AaAqzLA/Idl6F7DVNP5VG6MeNk+xIg6wpMEh9yrZgVMZgBTDXoVPX9wFbFZaNfpj\n",
       "fCc9IhiVkWgpbH8DYu5j2LQ4VWk3KY1CYsHohz2eHl9juT2QYf70O/kfTdg1uTkAJxm2tqW9fY2r\n",
       "TN7X3t4++hO6QkEMS/F3kDek523D9nYjRqw3zQXsYiJx1BXsYCKxPONqaF/41kCsKSOr4ikOAXSs\n",
       "YH6VYQd5cy8yaoxhtwC0uYJdGQYvH9WUP8WgL7fOf5YpbWl9Wxe/EcqvSFo3aJNL95VtTTZYtvXW\n",
       "HV4dY0+W8UJ1jl4M7ew6Jvg2e2/nC+NooBTDngh6qnwlWPc4bHvGhq1EYYDpiitCthtgGwOs2w8T\n",
       "rrFp8SIua5VvoWEztqw5DJZrE+4xlFCOyY9M0Tdbty4yyQrK3/5LAIOc0fS4nNJ2IKfUMuwA+HPD\n",
       "bZ9uXQS9qqEa0imtH3YxPe+ikM1Hp5H7Nx4XA1mwa7KyFoADoWCqQvFSmWkt4zCIMekovmT9uiFS\n",
       "FjZyg97VmvOr+pdmuQrSvxeh+XndlPp8vpjSIH4/evMcw/bnAsOLsX/Z2rOwLxtzwN4Fx9nST+eF\n",
       "7GeAxTRuAbeyp9aGzVuhqAWeY3IICeaBjbWlMmGNaMkgQLPsE2J+v4DEFMHjvoPuxrOGX4UvchLs\n",
       "IB1ZrliHl6K3Ie4twtZTD6LOwkmb/N2UiYgC2EuKPe+udsAeEDYCjQWW6hdAe4M8d5mYsA27QtZC\n",
       "4YBcPQXzfedfJTLTGtGSQYAV8g4kZgkJfjG9kwWNdrlfVbrM0SooaURwDSo5t+j9pbDNIIe2GQBn\n",
       "JucCUY1QERXmowz0qGeaZNjelRxIH0OB/5WrO2fxieiqDYCfD9laWCehSZMcJhg1FvyjRGZaI9oy\n",
       "OIez1j4pLIgJSedjTDfVDL9qnhVS3pxZtjvFej3mgI1BromUBu8jpLVfQTBMqZ2ppEiRPZDZJMOu\n",
       "Wcxjj4cNPLKaAo3OBoxAl2BPLGo1jSUXgeQwwUwxqq+WyExrRJsGubPXqJbCghhec3NanhQ0MWwV\n",
       "njBXg0Fg2fbcKXQGG2zY2sJ4sYBBBXWYjdulmovKbJgAnsOJxIsI+9VBGTaM4+itqytwsHtjoFMg\n",
       "BS9YgW3Cfs/WOoLjx+Bb21+COVgXGiqRCWtMWwaxM0wFzS51zNDGh9oi7OZEIpFF2BkzcSo40ycL\n",
       "M2e+aYaYb13Y+hS5ePBRqnANArZG0MZAN3Ry2R0DrYoeFd5Wpjtg76cH7vwDzAXToNAEK6/xYtmw\n",
       "77O1cOaVhlXXwGLUKGjXQVuwa8betCUT1pi2DB4RgW7nfGbm0r7NYmecoxKHX01vW7BhbOmB4BGR\n",
       "ya12Urpm8J3DcXpV6EgiNeZeeFjAhj6j9JoBoxci51AROg1YE0NCD6VhWkyCPVjUoplPxVmlfeuh\n",
       "w8AHMxjj4ClATTfcocRMBdMa05ZBESqwQ3TtMARzEmPiOeqMHtcyUJkUsJ+ytnzfTQ5en0qwcdl+\n",
       "gGlbMAUi9XQOfsNIUF5vgMphtysnhkALnU9HcuqG1vlvcdI8daK+RU5pWBBNLZo5Jaa45xJEkvhg\n",
       "JoDhv7twF7To/fQ1yzLTGtOWQREqaJS7RpKC0T8/fwjjtsWHCaGqAfRlfFzZ/JLjw/PGTU+Vu1Sy\n",
       "ku5m3NsjXirlhhFF2H57N+LMyRvF60cH018TC2hOmeM9dvaB+ImQlJl+/x6D07iKe9vxQRAdETZH\n",
       "RylsT9LlXVpR0dFDwLYPhNPvHuGTVo+rae/2G7+/SWftM4APyr1aPSLs7eWuEDW3V4ha2R5m7vrw\n",
       "Vn1lRv/tm9O8q3tyMxVot+jDU/1nV1xK/tDf5O/0WHWOHaMAAAAASUVORK5CYII=\n",
       "\" style=\"display:inline;vertical-align:middle;\" /></a><br>(see <a class=\"ProveItLink\" href=\"../__pv_it/aa38640603436f50c075cd7f502c14203564f2dd0/dependencies.ipynb\">dependencies</a>)<br>"
      ],
      "text/plain": [
       "eachInBool: forall_{m, n in Naturals} [forall_{A, B, C | (A_1 and  ...  and A_m and B and C_1 and  ...  and C_n) in BOOLEANS} (B in BOOLEANS)]"
      ]
     },
     "execution_count": 2,
     "metadata": {},
     "output_type": "execute_result"
    }
   ],
   "source": [
    "%proving eachInBool presuming []"
   ]
  },
  {
   "cell_type": "code",
   "execution_count": null,
   "metadata": {},
   "outputs": [],
   "source": []
  }
 ],
 "metadata": {
  "kernelspec": {
   "display_name": "Python 3",
   "language": "python",
   "name": "python3"
  }
 },
 "nbformat": 4,
 "nbformat_minor": 0
}
