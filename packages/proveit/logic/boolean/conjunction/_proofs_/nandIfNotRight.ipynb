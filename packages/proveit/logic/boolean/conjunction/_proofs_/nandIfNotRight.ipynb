{
 "cells": [
  {
   "cell_type": "markdown",
   "metadata": {},
   "source": [
    "Proof of <a class=\"ProveItLink\" href=\"../../../../_context_.ipynb\">proveit</a>.<a class=\"ProveItLink\" href=\"../../../_context_.ipynb\">logic</a>.<a class=\"ProveItLink\" href=\"../../_context_.ipynb\">boolean</a>.<a class=\"ProveItLink\" href=\"../_context_.ipynb\">conjunction</a>.<a class=\"ProveItLink\" href=\"../_theorems_.ipynb#nandIfNotRight\">nandIfNotRight</a> theorem\n",
    "========"
   ]
  },
  {
   "cell_type": "code",
   "execution_count": 1,
   "metadata": {},
   "outputs": [],
   "source": [
    "import proveit\n",
    "from proveit import defaults\n",
    "from proveit._common_ import A, B\n",
    "from proveit.logic.boolean.conjunction._theorems_ import nandIfLeftButNotRight, nandIfNeither\n",
    "from proveit.logic.boolean._theorems_ import foldForallOverBool\n",
    "from proveit.logic import Not, TRUE, FALSE\n",
    "context = proveit.Context('..') # the theorem's context is in the parent directory"
   ]
  },
  {
   "cell_type": "code",
   "execution_count": 2,
   "metadata": {},
   "outputs": [
    {
     "name": "stdout",
     "output_type": "stream",
     "text": [
      "Beginning proof of nandIfNotRight\n",
      "Recorded 'presuming' information\n"
     ]
    },
    {
     "name": "stdout",
     "output_type": "stream",
     "text": [
      "Presuming proveit.logic.boolean.foldForallOverBool theorem (applied transitively).\n",
      "Presuming previous theorems (applied transitively).\n"
     ]
    },
    {
     "data": {
      "text/html": [
       "<strong id=\"nandIfNotRight\">nandIfNotRight:</strong> <a class=\"ProveItLink\" href=\"../__pv_it/76cf54230d436297ebcc3d6dd79e4e16b1651e810/expr.ipynb\"><img src=\"data:image/png;base64,iVBORw0KGgoAAAANSUhEUgAAANkAAAAXBAMAAAB0cveBAAAAMFBMVEX///8QEBC6urrMzMxUVFRm\n",
       "ZmZERETc3NwyMjKqqqp2dnaIiIiYmJgiIiLu7u4AAAAU9Wx4AAAAAXRSTlMAQObYZgAAAvZJREFU\n",
       "SMe9VUtoE0EY/prNdmteBg+CBzWIB6GKEQQPIg0atOChveSgWF/gtuCjOUiriDWXWihSc6lX96JW\n",
       "FFnQWw+NouDjYA/WgyhGUSlUtJS21gfVmf+fbbbZrOCi/vBn55t/Zr6Z/xXgv0o5+NaQ7Qc8ck/p\n",
       "qARPArFtrgG2Va25/zOb7UhBT4P0upwbCMQ2UANcVLDHmV8uaKaAAki7xMc4GIQsantB7LWKTK+a\n",
       "174LnQYeg7RBmPViELa6shecPpBnkuPKGP0irvANeAPS2LXu7rOBHLmuBrBHUvQNN6qH1yeB+Crx\n",
       "LbLOmuaLQGx7vSBUvlyiwThnH7A0A+O8eGeklXUH0E6GPvq9NJPbma46N+UaV+wX3EsYvEUTv+km\n",
       "9vB80+7hNnmBJQXWtUgUKMBTHOckokke9ff38k3dSVSxLxMBfyXFYkDXOtdKg1Gc4uUjeSSeyVcn\n",
       "WeOI0pnvf5BZzyAkIjuR2wfbmljjYVN2IVNO2mUcoGWzLbQ2ZiPMDjgkGcX52iRrtBSn/Lk1Rua4\n",
       "DX0U0cM9nwRb5KOHje212UIiN8lP4kSaBUTy46lVYUsUqA1otknmz2k8zOMBJZjVuN/DxnYpK9xs\n",
       "BETOxcnLg04aaNJhLcWKJ9G+nXIWbbR34/CdE1z6sHMrvXFju5RjbjYJDHFqw6STcINOuRlz0rcF\n",
       "VgySYx5hhPYOAXfLmsVv07dW2CKmaXYoO81ecS6QVmBc1te85Jcb4k65bZJNzakA1MmkTYzlOumQ\n",
       "I8JZRe25aR6VcYssflu9shPY4K4AAbpW9yHWOSeODKdUL9M7p7PNVBwNKVbEJIueRxNl0VfhrHQi\n",
       "w2+rwUZ2blZ5d+dyg5CnSp3OpWS9KPuS0QdjHoZIzl3Kk2eq2ZSd0txyl6H1+8ZzQynJu1kYLS9F\n",
       "Bg3N5JqFoz6kqLrNqizRHLvvP46PyAbCTcR9w4XRVRG3BfH5QzrpCzwSzrMuki211/qwGbYf8Mht\n",
       "pYuk9Eds/0gyf+ugX4AT3CkTUBU0AAAAAElFTkSuQmCC\n",
       "\" style=\"display:inline;vertical-align:middle;\" /></a><br>(see <a class=\"ProveItLink\" href=\"../__pv_it/76cf54230d436297ebcc3d6dd79e4e16b1651e810/dependencies.ipynb\">dependencies</a>)<br>"
      ],
      "text/plain": [
       "nandIfNotRight: forall_{A, B in BOOLEANS | [not](B)} [not](A and B)"
      ]
     },
     "execution_count": 2,
     "metadata": {},
     "output_type": "execute_result"
    }
   ],
   "source": [
    "%proving nandIfNotRight presuming [foldForallOverBool]"
   ]
  },
  {
   "cell_type": "code",
   "execution_count": 3,
   "metadata": {},
   "outputs": [
    {
     "data": {
      "text/html": [
       "<strong id=\"defaults.assumptions\">defaults.assumptions:</strong> <a class=\"ProveItLink\" href=\"../__pv_it/9b86ccfdbd423fceaf39593d8e7578d685241c600/expr.ipynb\"><img src=\"data:image/png;base64,iVBORw0KGgoAAAANSUhEUgAAAKwAAAAVBAMAAAAp2hhWAAAAMFBMVEX////c3NwiIiJERESqqqqY\n",
       "mJh2dnZmZmYQEBDu7u4yMjJUVFTMzMyIiIi6uroAAAAs73DqAAAAAXRSTlMAQObYZgAAApxJREFU\n",
       "OMu1VU1oE0EU/tJ022yyGwP1VA8tK5WiYFepYHtpQbzowYAHUQ/mpOBJKnhqaaheVLRLBJGCGitF\n",
       "66GJqAe7SEpPYg8JKAhCTNpDKYKgVkUTtL6Zyf42pJe4sDvz3sx88+Z737wF/tMTLTQbUSrTZ0n0\n",
       "F71DbZnBykS/ZZ3eMM3BsmfC+fXM453DPrxc1Xw2B4xSf1a4Mr4tg9HC1O2EZV0G2v96J+if5dmz\n",
       "vkUhHRgvIwyoggOpz9gEq5bTNUP5Q2/VD4uPYR9snsDyWUgJhATc9vEYb+UPmpauwbbGX9amq19p\n",
       "45+8e3da223BHo74YikRyJkE5CQ+CUehJKh7c9IV7bJuGUmg5SqPe8ZwRdvhi/Ygvb00oR+XhByM\n",
       "Y3HWBgZcJCwetyC2ZRF4yI0OwyFB6RnwwRJPncx3DjPcvsdpIbCYA6tt3LA5e1Uc4dtin8PtSt8v\n",
       "nzaVavF9D+scwU3uKKPrAmtveVL2Tnc4k/dw6nV3yoqHRHdEo2eXSEEqS441cNkoppnjC9bYBCtl\n",
       "0FddnJVYuNEJGrdTFowmnFCXRArUH+x0AjZKkkvDuRsWbNDhjGWY9s+6ow1C98BSCoRg8rjCXHRb\n",
       "WpKsk6oLq7AIcuxKyd2NYPN0oMh3TsIBln9aEf7CxiJxD+wqZEu2gQp3v/DAEgmGC5bJtoud+hRp\n",
       "AZhiML95Sva6YKUxHfe7a7J9LS55quyCPfEW8jdbBjwFyjWDC2yFtDj5ANJQhUuhc9QuNeu9z4E7\n",
       "FGj7UNWcF0JE4NGCXWr2Xx+GPGlLEhepID3hx51DKObV3tFpLe22l32Kb52vKcGqq7HNlZEur5Ro\n",
       "XDzjWxXXOr62gl0YmwnLcrWj4Sp1q19BvX/LU5aEpv901AX8A0wawDdyLptOAAAAAElFTkSuQmCC\n",
       "\" style=\"display:inline;vertical-align:middle;\" /></a><br>"
      ],
      "text/plain": [
       "defaults.assumptions: (A in BOOLEANS , B in BOOLEANS , [not](B))"
      ]
     },
     "execution_count": 3,
     "metadata": {},
     "output_type": "execute_result"
    }
   ],
   "source": [
    "defaults.assumptions = nandIfNotRight.allConditions()"
   ]
  },
  {
   "cell_type": "code",
   "execution_count": 4,
   "metadata": {},
   "outputs": [
    {
     "data": {
      "text/html": [
       "<span style=\"font-size:20px;\"> <a class=\"ProveItLink\" href=\"../__pv_it/93b3f66a7467fc8bde6541c48e0c358b46fa439b0/proof.ipynb\" style=\"text-decoration: none\">&#x22A2;&nbsp;</a><a class=\"ProveItLink\" href=\"../__pv_it/d133507a315974846b05aeec9724a61786215f060/expr.ipynb\"><img src=\"data:image/png;base64,iVBORw0KGgoAAAANSUhEUgAAALMAAAAXBAMAAACyt2M4AAAAMFBMVEX///8QEBC6urrMzMxUVFRm\n",
       "ZmZERETc3NwyMjKqqqp2dnaIiIiYmJgiIiLu7u4AAAAU9Wx4AAAAAXRSTlMAQObYZgAAAlZJREFU\n",
       "SMe1lD1oFEEUx/+b+4p3e3tiozZhCwshiFdoY3OLOdJ6xUVQCJ4Im8aPK8QEJMkSkChIvCb9NSqi\n",
       "RUSsrjBanoWxsfAD1s5GEHMoUUHf7OzevFmT2yuSB3/u7Zs3v5uZ92aAvTN/yLyRNfYxPjD1VagN\n",
       "8fE6GX2C+SkH05+EvdNzzDO96uQSMmUEeiRiK8lonjIabPVk/3shcowGcMGGRy7pBv3kGonkAj+P\n",
       "DnT0rcipUFbFQZfcrlxBppWINnhNxnR06ko0+KIJvGnjM7kk8+Hs7HzyeRzlFfV0dHo82tJF0lsf\n",
       "WVqq0A/XfZ+MPs/8TFtHf5G9QNYD5q4C+ZrUBDAD7Ls2Vb8UDNuKoYK4y6u4rqOf4Fx4Mr3O849i\n",
       "nid1BJbY4EvgaTDOS9oP4gAtNug3WrFh6+gNzIW1/gl8dejE9ksVURCrqAPHm3F0P4jvqqVR0tHm\n",
       "GtLlwMsSrvCHkr5JFdaLosAfgOn/Vt0PDkLTdBElK9GP+UuhLU9cNGsT5nIcrYI4zNBGS0OvkmRW\n",
       "hbaf3lIHgpnToqF+dyb9OFoFcZmhs3oZl0O8bOtFKpwZCquidfIezDGFfuC6rseCuB/9XVn2lUKn\n",
       "xIRi1NapQ75qPhii4bM1WFv6qhssiGP8ysg2PhVeGDt6B87+rVZvix2N2lIwxZ5LLYxsxtEqCKPJ\n",
       "2Ae11zZ+GxBd9NAWfczX4mgVhNlmU7sJV/dxqMDy96bqd6Cjyyy43aO6o4kraHnbDOzwwF5nfs4Z\n",
       "iE43pYZF5/iDfXMg+lmoYdG7Yc5ugf4BaH+faCAgty0AAAAASUVORK5CYII=\n",
       "\" style=\"display:inline;vertical-align:middle;\" /></a></span>"
      ],
      "text/plain": [
       "|- forall_{B | [not](B)} [not](TRUE and B)"
      ]
     },
     "execution_count": 4,
     "metadata": {},
     "output_type": "execute_result"
    }
   ],
   "source": [
    "nandIfLeftButNotRight.specialize({A:TRUE})"
   ]
  },
  {
   "cell_type": "code",
   "execution_count": 5,
   "metadata": {},
   "outputs": [
    {
     "data": {
      "text/html": [
       "<span style=\"font-size:20px;\"> <a class=\"ProveItLink\" href=\"../__pv_it/53efc7561790a6f726ae3c6bc1f0705f47b307350/proof.ipynb\" style=\"text-decoration: none\">&#x22A2;&nbsp;</a><a class=\"ProveItLink\" href=\"../__pv_it/47fff1e541a872504dd62aaa8946c2d85204ec520/expr.ipynb\"><img src=\"data:image/png;base64,iVBORw0KGgoAAAANSUhEUgAAALMAAAAXBAMAAACyt2M4AAAAMFBMVEX///8QEBC6urrMzMxUVFRm\n",
       "ZmZERETc3NwyMjKqqqp2dnaIiIiYmJgiIiLu7u4AAAAU9Wx4AAAAAXRSTlMAQObYZgAAAlhJREFU\n",
       "SMe1lE1oE0EUx/+bz5psNuJFvZQ9eBCKmIOeE2ro1RxSQaEYEbYXP3IQWyi1iyC1IJpL77moiB4q\n",
       "4ikHq8d4sL14UBfizYsgNihVQd/s7GbebNtsDnXgn337ZuaXN/veG+D/jd6I6xJr7GVi6NI3gTbE\n",
       "y9t49ClmJyvid2HHGvNsvzp1G+kSfD0RvvvxaL5kzD/q6cH7rdAwGsBFGy6ZpJv0yDZiyXn+PTrQ\n",
       "0XdCo0yryhV0yezKCNKtWLTBczKuo5NXw8lXTeBdG5/JJJmP5+YW47/HcZ5RV0enJsIjXSJt9pCh\n",
       "UIV+OM6HePQFZqfbOvqLrAUafWD+GpCrSZ0BZoED16frl/1pWzGUE/d4Ftd19DOcD75Mv/Pyk9jn\n",
       "Sh2DJQ74Gnjuz/OUDpw4RMF6YlDEhq2jNzAf5Pon8JUKM3FQqoC8iKIOnGxG0QMnvrOSLupocw2p\n",
       "km9lCJf/Q4u+SeXXCyLBH4GZHVEPnMPQtF32EIr0MH8ptOWKRrO2YC5H0cqJowxttDT0KkmuKtPx\n",
       "U9vqg2B2UhTU785UL4pWTlxh6IyexuUAL8t6iRJnBsKqKJ2cC3NcoR85juMyJx6Gf1eSdaXQSbGh\n",
       "EJZ18khPFR8MUfCZGqxtPeoGc+IEbxmKZcbzNj3vvWgYO7wHzv2tVu+KE43ZUjDFmYstJLaiaOWE\n",
       "0WTsw9ptG+0GhI0ejKUeFmtRtHLCbLOt3ZjWfRrIH7kH0/UV6OgSc+52qe45RAta7i4Te1ywN5id\n",
       "rQxFp5pSo6Kz/MJeGIp+EWhU9H6Myn6B/gGtEJ+dXF0hhQAAAABJRU5ErkJggg==\n",
       "\" style=\"display:inline;vertical-align:middle;\" /></a></span>"
      ],
      "text/plain": [
       "|- forall_{B | [not](B)} [not](FALSE and B)"
      ]
     },
     "execution_count": 5,
     "metadata": {},
     "output_type": "execute_result"
    }
   ],
   "source": [
    "nandIfNeither.specialize({A:FALSE})"
   ]
  },
  {
   "cell_type": "code",
   "execution_count": 6,
   "metadata": {},
   "outputs": [
    {
     "data": {
      "text/html": [
       "<span style=\"font-size:20px;\"><a class=\"ProveItLink\" href=\"../__pv_it/b22b15039733798321461907c74328825d8427750/expr.ipynb\"><img src=\"data:image/png;base64,iVBORw0KGgoAAAANSUhEUgAAADEAAAAVBAMAAAAdjxsPAAAAMFBMVEX////c3NxERESqqqpUVFS6\n",
       "urrMzMwyMjIQEBCIiIh2dnYiIiLu7u5mZmaYmJgAAABXZE4RAAAAAXRSTlMAQObYZgAAAN1JREFU\n",
       "KM9jYGDgu8eABthWCYAonl0MGICtGURyfkCI8Pl/cXEqBTKug3hcDUiKORQYGO4HMDCswJDJnwDE\n",
       "Dthk5gOtfr8Am4wGEO84gE3mCwODuA4DVIa3AMm1X2bO3QdivAcRGUCn3N4NBEB/cX5kYDgNdAAD\n",
       "+wUGhpQ2mIYUBgYmoMmc/0Ac9QcMDBEJCBl+oHq+X0A2N9B9DCwFCJl8oEqWzzB7uDYgZEDekS9g\n",
       "QHc1G9g7bO0HGDD9c+m/i0v5AwYGbD6FAQIyfNhkwPHDsxNLnLZCInIx1nQAAJmFPcGxt9K+AAAA\n",
       "AElFTkSuQmCC\n",
       "\" style=\"display:inline;vertical-align:middle;\" /></a> <a class=\"ProveItLink\" href=\"../__pv_it/532f25d8af6039e27e38af5eb4c7bf767075c8c40/proof.ipynb\" style=\"text-decoration: none\">&#x22A2;&nbsp;</a><a class=\"ProveItLink\" href=\"../__pv_it/6035af408a0ed9d44bea38503df0419531e5047b0/expr.ipynb\"><img src=\"data:image/png;base64,iVBORw0KGgoAAAANSUhEUgAAAFYAAAAVBAMAAAAutAQGAAAAMFBMVEX////c3NxERESqqqqYmJgQ\n",
       "EBDu7u4yMjKIiIi6urpUVFTMzMx2dnYiIiJmZmYAAABjE816AAAAAXRSTlMAQObYZgAAATxJREFU\n",
       "KM9jYCALcDbgk2WZgMzbxcB3FwwUUFV5/V+1Sn0Cw2tksTIQwf0AxmVMgLGCGBj4fjKwIynlaEBV\n",
       "yw5jcf8A4l8MLAcQalkTUNVuugYz5CPQtX8Y2AIQaqczoKpd2QFlMAEV8YYxMCgj1L5BVctWwAtl\n",
       "8S9gYCwCWnoOobYEVS2PA58BhLV/RcdbByBtzvAWFEp3gMxIVLW8DIwFEFa/AAPbLSA9FRa0DAw/\n",
       "UdV6MDCshrBUQeqBBu/HqfYaRBQIfgGx/wEUtcEoapmBNLsAWOQLkFhvgOIGFRS1IHXMD2DBy/gd\n",
       "yHCHRg0DLEhgajeBiAuw4N1axoASZnMhaqExuRJEgGKDT//XquXg8KxEimMB5IQEToGcyCLIcYyc\n",
       "NrABngb0NIkbpCNzpPCrXYjMYcSbhzg2MAAAQj9WxJ645p4AAAAASUVORK5CYII=\n",
       "\" style=\"display:inline;vertical-align:middle;\" /></a></span>"
      ],
      "text/plain": [
       "{[not](B)} |- [not](TRUE and B)"
      ]
     },
     "execution_count": 6,
     "metadata": {},
     "output_type": "execute_result"
    }
   ],
   "source": [
    "nandIfLeftButNotRight.specialize({A:TRUE}).specialize()"
   ]
  },
  {
   "cell_type": "code",
   "execution_count": 7,
   "metadata": {},
   "outputs": [
    {
     "data": {
      "text/html": [
       "<span style=\"font-size:20px;\"><a class=\"ProveItLink\" href=\"../__pv_it/b22b15039733798321461907c74328825d8427750/expr.ipynb\"><img src=\"data:image/png;base64,iVBORw0KGgoAAAANSUhEUgAAADEAAAAVBAMAAAAdjxsPAAAAMFBMVEX////c3NxERESqqqpUVFS6\n",
       "urrMzMwyMjIQEBCIiIh2dnYiIiLu7u5mZmaYmJgAAABXZE4RAAAAAXRSTlMAQObYZgAAAN1JREFU\n",
       "KM9jYGDgu8eABthWCYAonl0MGICtGURyfkCI8Pl/cXEqBTKug3hcDUiKORQYGO4HMDCswJDJnwDE\n",
       "Dthk5gOtfr8Am4wGEO84gE3mCwODuA4DVIa3AMm1X2bO3QdivAcRGUCn3N4NBEB/cX5kYDgNdAAD\n",
       "+wUGhpQ2mIYUBgYmoMmc/0Ac9QcMDBEJCBl+oHq+X0A2N9B9DCwFCJl8oEqWzzB7uDYgZEDekS9g\n",
       "QHc1G9g7bO0HGDD9c+m/i0v5AwYGbD6FAQIyfNhkwPHDsxNLnLZCInIx1nQAAJmFPcGxt9K+AAAA\n",
       "AElFTkSuQmCC\n",
       "\" style=\"display:inline;vertical-align:middle;\" /></a> <a class=\"ProveItLink\" href=\"../__pv_it/e404a14da7d7e7994e365fc3ae161e7d44e028f90/proof.ipynb\" style=\"text-decoration: none\">&#x22A2;&nbsp;</a><a class=\"ProveItLink\" href=\"../__pv_it/aed4dcdda2f3bd22a453fcf7c03b3ec7141fa1d60/expr.ipynb\"><img src=\"data:image/png;base64,iVBORw0KGgoAAAANSUhEUgAAAFYAAAAVBAMAAAAutAQGAAAAMFBMVEX////c3NxERESqqqqYmJgQ\n",
       "EBDu7u4yMjKIiIi6urpUVFTMzMx2dnYiIiJmZmYAAABjE816AAAAAXRSTlMAQObYZgAAAT5JREFU\n",
       "KM9jYCALcDbgk2WZgMzbBSIYMTV4/V+1Sn0Cw2tksTIQwf0AxmVMgLGCGBj4fjKwIynlaEBVyw5j\n",
       "cf8A4l8MLAcQalkTUNVuugYz5CPQtX8Y2AIQaqczoKpd2QFlMAEV8YYxMCgj1L5BVctWwAtl8S9g\n",
       "YCwCWnoOobYEVS2PA58BhLV/RcdbByBtzvD2LhDcATIjUdXyMjAWQFj9Agxst4D0VETQ/kRV68HA\n",
       "sBrCUgWpBxq8H6faa9DIYWD4BcT+B1DUBqOoZQbS7AJgkS9AYr0BihtUUNSC1DE/gAUv43cgwx0a\n",
       "NQywIIGp3QQiLsCCd2sZA0qYzQXGOjBIYu/eVQDFBEgIFBt8+r9WLQeHZyVSHAsgJyRwCuREFkGO\n",
       "Y+S0gQ3wNKCnSdwgHZkjhV/tQmQOI948xLGBAQClR1X6sUA92gAAAABJRU5ErkJggg==\n",
       "\" style=\"display:inline;vertical-align:middle;\" /></a></span>"
      ],
      "text/plain": [
       "{[not](B)} |- [not](FALSE and B)"
      ]
     },
     "execution_count": 7,
     "metadata": {},
     "output_type": "execute_result"
    }
   ],
   "source": [
    "nandIfNeither.specialize({A:FALSE}).specialize()"
   ]
  },
  {
   "cell_type": "code",
   "execution_count": 8,
   "metadata": {},
   "outputs": [
    {
     "data": {
      "text/html": [
       "<table><tr><th>&nbsp;</th><th>step type</th><th>requirements</th><th>statement</th></tr>\n",
       "<tr><td>0</td><td>specialization</td><td>1, 2, 3</td><td><span style=\"font-size:20px;\"> <a class=\"ProveItLink\" href=\"../__pv_it/72ae9a173e979a19339f36f1ea440242fd2647080/proof.ipynb\" style=\"text-decoration: none\">&#x22A2;&nbsp;</a><a class=\"ProveItLink\" href=\"../__pv_it/76cf54230d436297ebcc3d6dd79e4e16b1651e810/expr.ipynb\"><img src=\"data:image/png;base64,iVBORw0KGgoAAAANSUhEUgAAANkAAAAXBAMAAAB0cveBAAAAMFBMVEX///8QEBC6urrMzMxUVFRm\n",
       "ZmZERETc3NwyMjKqqqp2dnaIiIiYmJgiIiLu7u4AAAAU9Wx4AAAAAXRSTlMAQObYZgAAAvZJREFU\n",
       "SMe9VUtoE0EY/prNdmteBg+CBzWIB6GKEQQPIg0atOChveSgWF/gtuCjOUiriDWXWihSc6lX96JW\n",
       "FFnQWw+NouDjYA/WgyhGUSlUtJS21gfVmf+fbbbZrOCi/vBn55t/Zr6Z/xXgv0o5+NaQ7Qc8ck/p\n",
       "qARPArFtrgG2Va25/zOb7UhBT4P0upwbCMQ2UANcVLDHmV8uaKaAAki7xMc4GIQsantB7LWKTK+a\n",
       "174LnQYeg7RBmPViELa6shecPpBnkuPKGP0irvANeAPS2LXu7rOBHLmuBrBHUvQNN6qH1yeB+Crx\n",
       "LbLOmuaLQGx7vSBUvlyiwThnH7A0A+O8eGeklXUH0E6GPvq9NJPbma46N+UaV+wX3EsYvEUTv+km\n",
       "9vB80+7hNnmBJQXWtUgUKMBTHOckokke9ff38k3dSVSxLxMBfyXFYkDXOtdKg1Gc4uUjeSSeyVcn\n",
       "WeOI0pnvf5BZzyAkIjuR2wfbmljjYVN2IVNO2mUcoGWzLbQ2ZiPMDjgkGcX52iRrtBSn/Lk1Rua4\n",
       "DX0U0cM9nwRb5KOHje212UIiN8lP4kSaBUTy46lVYUsUqA1otknmz2k8zOMBJZjVuN/DxnYpK9xs\n",
       "BETOxcnLg04aaNJhLcWKJ9G+nXIWbbR34/CdE1z6sHMrvXFju5RjbjYJDHFqw6STcINOuRlz0rcF\n",
       "VgySYx5hhPYOAXfLmsVv07dW2CKmaXYoO81ecS6QVmBc1te85Jcb4k65bZJNzakA1MmkTYzlOumQ\n",
       "I8JZRe25aR6VcYssflu9shPY4K4AAbpW9yHWOSeODKdUL9M7p7PNVBwNKVbEJIueRxNl0VfhrHQi\n",
       "w2+rwUZ2blZ5d+dyg5CnSp3OpWS9KPuS0QdjHoZIzl3Kk2eq2ZSd0txyl6H1+8ZzQynJu1kYLS9F\n",
       "Bg3N5JqFoz6kqLrNqizRHLvvP46PyAbCTcR9w4XRVRG3BfH5QzrpCzwSzrMuki211/qwGbYf8Mht\n",
       "pYuk9Eds/0gyf+ugX4AT3CkTUBU0AAAAAElFTkSuQmCC\n",
       "\" style=\"display:inline;vertical-align:middle;\" /></a></span></td></tr>\n",
       "<tr><td>&nbsp;</td><td colspan=4 style=\"text-align:left\"><span style=\"font-size:20px;\"><a class=\"ProveItLink\" href=\"../../../../__pv_it/d2c2aa3c0d5707e464a75d67a5b95d12c40fc6e30/expr.ipynb\"><img src=\"data:image/png;base64,iVBORw0KGgoAAAANSUhEUgAAADIAAAAVBAMAAAD2uKAMAAAAMFBMVEX////u7u5mZmaYmJi6urqq\n",
       "qqp2dnbMzMwQEBBEREQyMjLc3NwiIiJUVFSIiIgAAAAeC3ydAAAAAXRSTlMAQObYZgAAARtJREFU\n",
       "KM9jYCAKsDyAsZgdQOTb/3fvnt0AYtVChGuAWB3M+sXAwNkNYiyEyKwHYi4Qg/0bAwMrEDPwQQxj\n",
       "Pi8AJBJAAl+AjE9ABocAWGarPtBoxgYgi/MDAwPvVyDDC2LYg/cg66cCMf8CBgb5CUCGGsSBAvEG\n",
       "QCoJiOsTGNgPgcQWg2VEGOpB9kUB8ftraWpgR7eAZRwY9isAKQ8gni8A9d4XsEvv3r0PMroeiP8w\n",
       "IMuwAN24ACLD/gkm0woiAhgYeBogpvF9gclMBmJuoAwX0BsMVkDvfITJgBwqxQAVSWIQmv8XFsI+\n",
       "DAw7+1czMM//BXTcEuRI4NiAYINDBw7AoQgFbA9QYm4hgimFGqd7EczbqDLccCP4ChgAEixBiNSE\n",
       "EDoAAAAASUVORK5CYII=\n",
       "\" style=\"display:inline;vertical-align:middle;\" /></a> : <a class=\"ProveItLink\" href=\"../__pv_it/b009157e5bd35691c602c71030220f46a68b870d0/expr.ipynb\"><img src=\"data:image/png;base64,iVBORw0KGgoAAAANSUhEUgAAAMgAAAAXBAMAAAC8Hh1XAAAAMFBMVEX///8QEBC6urrMzMxUVFRm\n",
       "ZmZERETc3NwyMjKqqqp2dnaIiIiYmJgiIiLu7u4AAAAU9Wx4AAAAAXRSTlMAQObYZgAAAxNJREFU\n",
       "SMe9VU1oU0EQ/vKan/blJSle1EuNICgUaQ6ehNKgoXprpI2iKK2KqUJtcxBbkdpQkCqIzaXizVzU\n",
       "iCLxp15yaPRU6sF48KIVn+KhF3+wrbUq1Znd95ptSgKR4sJ7Ozv7883MfjML/I9mVr+lUZG1bKWV\n",
       "z+gzgkCBB8+rwagJK4MdsmsuWWO0zUVah+EKkdwO3GHd1WpAalXnrZ2j1vCCrXd0AZ1BJHk9cJY6\n",
       "T1c1IDlF9spoGe8s4Iv2RAtNtIQxxZNpYZcrVQ1IgyI75OHnOhMykqdtLydI8SKN9yT662Hc7u8f\n",
       "rAZDSyqDbbLLTgRF72y0eXCUvpcm3Gz+KeB7PP66GhBXWhkckrjmjbwQZiSPqM0BA72AHiX5JrAb\n",
       "6Abq+mIdx0uOCyrytflYa0jee15RXxH/D+IKqN3DQYuBc7nxaerr2O3rwBb4WXoKPJALJjOZw0JQ\n",
       "6WDUw1svr4Gwj7ylxv6vs6wZigqhgAGLEAvAJ6K6xns2Az542bYOoCkB/3gs79X9D4OlIK4wtAUh\n",
       "BYJKinwTZkcibWKtkYVTuuumw72/aeorM43kvI8p8YbsA55s/Wx6ddzPl4L4snAVyoBo5J5gAx1k\n",
       "ZWqAOuNnEcSf5NX+WRgjMNhrr66Nm6UgX0KYlDR1pBSQjSyQwidCOUbfiEwTstK5WAwXunexNb9y\n",
       "rSYnJ4G49k2vupOm3ONeKbnzCkgPpzKB1LLFAmBsOU2GyDuDPZxkNYdBT8JowE4BoqM9uwyix+Px\n",
       "k0CGqCETTY/aNUyyk3hLyEus4A0+O01qNphFCsPBJ7qj8C+imU7MEkg6vcITN3CCIibjpBUUB7dT\n",
       "XdpEYe77Qac5g3ah2f8nErnEHteyapg5wRYGUtBm8dHyZDUIxbdJEgfr1bKSUGvBquyyy4rVhkwM\n",
       "RuFMSJAD2RIQzxI8r6zRlJo+6crl4S7H1y41+mis4zKBHhPJeKtn5cXXIDMf25uqUOrLNJHmM6Va\n",
       "uubiU1fmAfCoj9aZiiAiMnsqLin3ypxXESs+v484+qF/AlnTFl6rg/4CNzPBNoBE2eQAAAAASUVO\n",
       "RK5CYII=\n",
       "\" style=\"display:inline;vertical-align:middle;\" /></a></span></td></tr><tr><td>1</td><td>theorem</td><td></td><td><span style=\"font-size:20px;\"> <a class=\"ProveItLink\" href=\"../../_proofs_/foldForallOverBool.ipynb\" style=\"text-decoration: none\">&#x22A2;&nbsp;</a><a class=\"ProveItLink\" href=\"../../__pv_it/d40d2f60ef66daf5542d59156613ac49d719b2620/expr.ipynb\"><img src=\"data:image/png;base64,iVBORw0KGgoAAAANSUhEUgAAAPsAAAAXBAMAAAA/2iRsAAAAMFBMVEX///8QEBC6urrMzMxUVFRm\n",
       "ZmZERETc3NwyMjKqqqp2dnaIiIiYmJgiIiLu7u4AAAAU9Wx4AAAAAXRSTlMAQObYZgAAA5NJREFU\n",
       "SMfFlk1oE1EQgKfZ/DTZzbZ4UMSDEYp6EXMQFKU22KDixWpNi0VpFNyiVBqwNHgQg5de1OaiCB4M\n",
       "QrUWLEGsIBa64kUqag6KIrUGUemltrRG29JW583b3bz80UIUF7I7O2/e++bNm5kNwP+90n9jEfn9\n",
       "7pUZ2pKmpPhAueKDFJNflIn3+Ly0ZLL48MPfweCbCJO2cUUt/hrZNLjHXq+WjffE8VFZKpSzAM41\n",
       "AqiHGRO+CyVXuGw8LdFVYliaB3DPs0Pi4VE+oZ9KguGZx4542Xja19FSqTGNtAwKFTw851vxJNRq\n",
       "Nk25G41egPLxI9FoNFVi2DkFYJ9DYTN/Tw778H6aTYOfmvah5LrnjKe7qDYu4Ks07WyixCpVMYBJ\n",
       "djotPP3Tt3R89BK+HqAN1+8IHWmjQR/dr2dCeyPgMheUEsW0OwW83Q9OSu7KSAG+LgHSWyZcptfP\n",
       "UMdy4Abha0BF5+ApwH0a5Gmo4MmkwAnQpJ3QtATcztVyM48vi7cFYJzk14byeV/fMWN4+EB/Czm1\n",
       "ytjgxQZ8bKD5XpBZKII4MZ3F2wOgLMFNOjl2G8/XMjPy28BjAxliotqKq6mDIV32qA8MTzrMgpym\n",
       "SAaDB9nsOpom6142OgqwX9i9Vwd7DNosPMY2V0tm9QJ+CMZInMCdPdr0PS17YEDnw4sg4m1YATEL\n",
       "r8ZYK1JnQHkn4Cf98DIC1RaeV6ygJbMnAn5cCjBxlzMMCout7LEN8l1LGRO/1khYb7UVfGjbw1ya\n",
       "7zdOiuO39vfqIMUsvC2QpyWzGgHv7KRQBxwp1tAQ7zg0mi17frWzHof4yimWHBx/jZWrxzxGA9+X\n",
       "ZRKeMwUtme0Q8O7jlJxxeYpXBAa/kTc555K5dq+RRaThhQcVzMjZkIs/RdWejxe0BXhYx6SJUNMS\n",
       "1GqalkR8gir0a8cP81O0BRvz+m5QOmYRd4lPU9gJVcVz8XO0z3A2+OE8Ld02ivhXTGoGaQa+GLtP\n",
       "5PehCqEn8KZrdoZIDl76RRYpC68kXN05WjIbEfHkGub6AtgjHN+c/wFWBH88SaFv9DTm4PsyVGhj\n",
       "Ft7hkxayWoemrdbOABzOw6tY0J2LunqS2s6d9oL+J3zZxwWvhUv8+D62JExmpVAby9+9+Y5nX7T7\n",
       "d2bFfcvjv1kSdrrtBVq3yZA/+lf2aXRZXsl+nLUM3q2bEma7XqC1/4P/ngHx5ZkZzXQx7UDZsD9Q\n",
       "v/BHzxS7+AAAAABJRU5ErkJggg==\n",
       "\" style=\"display:inline;vertical-align:middle;\" /></a></span></td></tr>\n",
       "<tr><td>&nbsp;</td><td colspan=4 style-\"text-align:left\"><a class=\"ProveItLink\" href=\"../../_proofs_/foldForallOverBool.ipynb\">proveit.logic.boolean.foldForallOverBool</a></td></tr><tr><td>2</td><td>generalizaton</td><td>4</td><td><span style=\"font-size:20px;\"> <a class=\"ProveItLink\" href=\"../__pv_it/23903ad87cedd6687ed6da8959b7f6e20a6143d80/proof.ipynb\" style=\"text-decoration: none\">&#x22A2;&nbsp;</a><a class=\"ProveItLink\" href=\"../__pv_it/c88bab33d6817b2ebe4c1bafd1068163e188e4b90/expr.ipynb\"><img src=\"data:image/png;base64,iVBORw0KGgoAAAANSUhEUgAAAMgAAAAXBAMAAAC8Hh1XAAAAMFBMVEX///8QEBC6urrMzMxUVFRm\n",
       "ZmZERETc3NwyMjKqqqp2dnaIiIiYmJgiIiLu7u4AAAAU9Wx4AAAAAXRSTlMAQObYZgAAAq5JREFU\n",
       "SMe9lT1oE2EYx//Jma/LJQ1OdlCiOAgiySBdHBJqSN0MmDiIH1XxqlhqBrGC1IaCqKXULIrjLdW6\n",
       "naBTBuMgFDoYBx38KJlEqB9gv6iK+n5d7i6vpxwUH/gnz//u8v7unnueN8D/iLbvXwRNLyOFluZq\n",
       "UTPvB7LXbULvWAy6Vz+4XChOAIfA9IAem/YDmZaMUrJsxCpMgEBPpBElKdElemrQByNuSsaGRK0s\n",
       "R07k8tAMUEUJO1T3AQm0JWND+hZE8qQKPDeQTIFKuz86OuanWrtkY0P6GyI5SfSC3ME5MK3q+ms/\n",
       "kCOy6UCStYTIloHLI+R7hms/MATELlTKp7uWSzvyOyuVYpZlU85LptwQtSkqryw3Hr+lyV2unYRP\n",
       "sqfAQ959k5PXmixztoOWQjzFss0QXWtw44QkEKnxhlgDPuVJsp0rgThdswxkqlisHIVpLO6QIKE8\n",
       "gmss+yqOKPmO6UDmWWFIhMkNxX/QLuOKNxO0Rd4AxxA/dfUzgagfJUjCRKj1T8iCNao95KT2zYYk\n",
       "a/R4cgnadTyjF5jG7uMS5EsWc1WW9TohvS5IjHxH2VU5UpxN63a5MNRP96DvjWIbrKBmZav8TjKN\n",
       "RyM8G3ZChl0QCoiVrDEZp6vNCd2mZVBr0LYpBn+S0D4bouq6fhaYJa3Bp3DG4mY7xoL00Y+WGBNl\n",
       "S9tuYQTo1hAuIbmuvNL18/SdqO4nCQNnSMV4d+5xtjA3/ObIKNIPOo6HfxUKN1g5JoQ0SuypI7iU\n",
       "zPMn+QOE1DfD5yRQdW4rVWmwgs4jYlsRMd7GWAkDolxXuiGRn4i8FBNjOMfH+Pv2oJpc3NyqlG8C\n",
       "79NsGPWuF69gdqVyoO651XvHByFX3CPvpBMefwAXPY0cA0Le4QGJmF5G/u/JcvmHbGzkN2qh33mw\n",
       "uQ2fDbZVAAAAAElFTkSuQmCC\n",
       "\" style=\"display:inline;vertical-align:middle;\" /></a></span></td></tr>\n",
       "<tr><td>3</td><td>generalizaton</td><td>5</td><td><span style=\"font-size:20px;\"> <a class=\"ProveItLink\" href=\"../__pv_it/356d69b3201a9e074202175cec597811767ec2fa0/proof.ipynb\" style=\"text-decoration: none\">&#x22A2;&nbsp;</a><a class=\"ProveItLink\" href=\"../__pv_it/c624c10ed3c316b2f4586ba5a1ba0219916677710/expr.ipynb\"><img src=\"data:image/png;base64,iVBORw0KGgoAAAANSUhEUgAAAMgAAAAXBAMAAAC8Hh1XAAAAMFBMVEX///8QEBC6urrMzMxUVFRm\n",
       "ZmZERETc3NwyMjKqqqp2dnaIiIiYmJgiIiLu7u4AAAAU9Wx4AAAAAXRSTlMAQObYZgAAArVJREFU\n",
       "SMe9lU1oE0EUx//Jms/dpMGTPVSieBCkJAfpxUNCDak3A2Y9iB9VcatYag5iBakNBVFLqbkoHvdS\n",
       "rbcV9JSD8SAUejAe9KCm5CRC/QCbtlRFndmZzW4ybmWh+OCffW92Mr/dN+/NAv/Dmp7/4TfcAsGU\n",
       "JFOdBoteIPuFICSQlMOtXH4KOAJTj+jYrBfIrBBIBSsMWYnxDQOnkggTl+gKvTXsgSEbQmBDwpaX\n",
       "ITcyWSg6qMKEHah4gPiaQmBDBpa486wEvNQRT4BKeTg+PuElW3vFwIYMVrlzmugVeYILMLWmaW+9\n",
       "QI6JQRsSL8e41wKujpHrHNNBYASIXFKLZ7uWSzr8e6tqPm16M84pM52QaI1nXmpVn76nzn2mPYRP\n",
       "vOfAY1Z909M3aqbnLAclATlhetvJHjao6SxwQmIIlVlBrAOfs8TZxRSDTNcsAqkSltXjMPTl3QIk\n",
       "kIV/3fS+8REp2w7akEUzMcSC5IHkn7TKmORajJbIO+AE5DPXvxBI9JMAiRkI1P8JWbJatYfcVL7b\n",
       "kHiZjsdXoNzECzrB0PedFCBf01gomV6vE9LbAYmQa9iclSHJ2bZhpwsjg/QM+lHNN2Em1FD7xD1J\n",
       "VZ+MMW/UCRntgFBApGC1ySRdbYHrLk1DtAxlp6SzNwkcsCFRTdPOA/OkNFgXzlncdDuwIAP0p87b\n",
       "RNrRtEsYPno0BAuIb0hvNO0i3ZNo55sEgXMkY6w6+50l3M9Kra/RoJNpSkDb8ejvXO6WmY4pLoUS\n",
       "eyrwr8Sz7E3+AiH5TbE+8ZWcx0pJaCy/c4QfK9wmm5goYIin61o3JPQLode8Y3Rn++ibHw9Rg4kF\n",
       "d9TibeBD0mxGrWvjJcyvqocqrke9u33k6rAHZE/a5vIBuOwaiDbE5W4ukI7vYGjTz6+cZvIO2VrL\n",
       "btVCfwCb67hhd7hnAQAAAABJRU5ErkJggg==\n",
       "\" style=\"display:inline;vertical-align:middle;\" /></a></span></td></tr>\n",
       "<tr><td>4</td><td>specialization</td><td>6, 8</td><td><span style=\"font-size:20px;\"><a class=\"ProveItLink\" href=\"../__pv_it/b22b15039733798321461907c74328825d8427750/expr.ipynb\"><img src=\"data:image/png;base64,iVBORw0KGgoAAAANSUhEUgAAADEAAAAVBAMAAAAdjxsPAAAAMFBMVEX////c3NxERESqqqpUVFS6\n",
       "urrMzMwyMjIQEBCIiIh2dnYiIiLu7u5mZmaYmJgAAABXZE4RAAAAAXRSTlMAQObYZgAAAN1JREFU\n",
       "KM9jYGDgu8eABthWCYAonl0MGICtGURyfkCI8Pl/cXEqBTKug3hcDUiKORQYGO4HMDCswJDJnwDE\n",
       "Dthk5gOtfr8Am4wGEO84gE3mCwODuA4DVIa3AMm1X2bO3QdivAcRGUCn3N4NBEB/cX5kYDgNdAAD\n",
       "+wUGhpQ2mIYUBgYmoMmc/0Ac9QcMDBEJCBl+oHq+X0A2N9B9DCwFCJl8oEqWzzB7uDYgZEDekS9g\n",
       "QHc1G9g7bO0HGDD9c+m/i0v5AwYGbD6FAQIyfNhkwPHDsxNLnLZCInIx1nQAAJmFPcGxt9K+AAAA\n",
       "AElFTkSuQmCC\n",
       "\" style=\"display:inline;vertical-align:middle;\" /></a> <a class=\"ProveItLink\" href=\"../__pv_it/532f25d8af6039e27e38af5eb4c7bf767075c8c40/proof.ipynb\" style=\"text-decoration: none\">&#x22A2;&nbsp;</a><a class=\"ProveItLink\" href=\"../__pv_it/6035af408a0ed9d44bea38503df0419531e5047b0/expr.ipynb\"><img src=\"data:image/png;base64,iVBORw0KGgoAAAANSUhEUgAAAFYAAAAVBAMAAAAutAQGAAAAMFBMVEX////c3NxERESqqqqYmJgQ\n",
       "EBDu7u4yMjKIiIi6urpUVFTMzMx2dnYiIiJmZmYAAABjE816AAAAAXRSTlMAQObYZgAAATxJREFU\n",
       "KM9jYCALcDbgk2WZgMzbxcB3FwwUUFV5/V+1Sn0Cw2tksTIQwf0AxmVMgLGCGBj4fjKwIynlaEBV\n",
       "yw5jcf8A4l8MLAcQalkTUNVuugYz5CPQtX8Y2AIQaqczoKpd2QFlMAEV8YYxMCgj1L5BVctWwAtl\n",
       "8S9gYCwCWnoOobYEVS2PA58BhLV/RcdbByBtzvAWFEp3gMxIVLW8DIwFEFa/AAPbLSA9FRa0DAw/\n",
       "UdV6MDCshrBUQeqBBu/HqfYaRBQIfgGx/wEUtcEoapmBNLsAWOQLkFhvgOIGFRS1IHXMD2DBy/gd\n",
       "yHCHRg0DLEhgajeBiAuw4N1axoASZnMhaqExuRJEgGKDT//XquXg8KxEimMB5IQEToGcyCLIcYyc\n",
       "NrABngb0NIkbpCNzpPCrXYjMYcSbhzg2MAAAQj9WxJ645p4AAAAASUVORK5CYII=\n",
       "\" style=\"display:inline;vertical-align:middle;\" /></a></span></td></tr>\n",
       "<tr><td>&nbsp;</td><td colspan=4 style=\"text-align:left\"><span style=\"font-size:20px;\"><a class=\"ProveItLink\" href=\"../../../../__pv_it/077b2ff79244fb4582cbe22c6e3356fa92a52f2f0/expr.ipynb\"><img src=\"data:image/png;base64,iVBORw0KGgoAAAANSUhEUgAAABAAAAAOBAMAAADUAYG5AAAAMFBMVEX///+qqqru7u4iIiJ2dnbc\n",
       "3NyIiIjMzMxmZmYQEBC6uroyMjJERERUVFSYmJgAAADLUcuvAAAAAXRSTlMAQObYZgAAAGpJREFU\n",
       "CNdjYGB4+//u3dMLGIBgDgMDxy8gzf4NiP8CGWxfGRj4vgAZPBMYGJgnARn8FxhY9ygAGfXX0pof\n",
       "gDTlBzAw2YIYJ0EckBBI53sHoBH/gIz7AhBjWH9DjancBLTl/N+7t/cxMAAA3u4f/5xagjYAAAAA\n",
       "SUVORK5CYII=\n",
       "\" style=\"display:inline;vertical-align:middle;\" /></a> : <a class=\"ProveItLink\" href=\"../../../../__pv_it/077b2ff79244fb4582cbe22c6e3356fa92a52f2f0/expr.ipynb\"><img src=\"data:image/png;base64,iVBORw0KGgoAAAANSUhEUgAAABAAAAAOBAMAAADUAYG5AAAAMFBMVEX///+qqqru7u4iIiJ2dnbc\n",
       "3NyIiIjMzMxmZmYQEBC6uroyMjJERERUVFSYmJgAAADLUcuvAAAAAXRSTlMAQObYZgAAAGpJREFU\n",
       "CNdjYGB4+//u3dMLGIBgDgMDxy8gzf4NiP8CGWxfGRj4vgAZPBMYGJgnARn8FxhY9ygAGfXX0pof\n",
       "gDTlBzAw2YIYJ0EckBBI53sHoBH/gIz7AhBjWH9DjancBLTl/N+7t/cxMAAA3u4f/5xagjYAAAAA\n",
       "SUVORK5CYII=\n",
       "\" style=\"display:inline;vertical-align:middle;\" /></a></span></td></tr><tr><td>5</td><td>specialization</td><td>7, 8</td><td><span style=\"font-size:20px;\"><a class=\"ProveItLink\" href=\"../__pv_it/b22b15039733798321461907c74328825d8427750/expr.ipynb\"><img src=\"data:image/png;base64,iVBORw0KGgoAAAANSUhEUgAAADEAAAAVBAMAAAAdjxsPAAAAMFBMVEX////c3NxERESqqqpUVFS6\n",
       "urrMzMwyMjIQEBCIiIh2dnYiIiLu7u5mZmaYmJgAAABXZE4RAAAAAXRSTlMAQObYZgAAAN1JREFU\n",
       "KM9jYGDgu8eABthWCYAonl0MGICtGURyfkCI8Pl/cXEqBTKug3hcDUiKORQYGO4HMDCswJDJnwDE\n",
       "Dthk5gOtfr8Am4wGEO84gE3mCwODuA4DVIa3AMm1X2bO3QdivAcRGUCn3N4NBEB/cX5kYDgNdAAD\n",
       "+wUGhpQ2mIYUBgYmoMmc/0Ac9QcMDBEJCBl+oHq+X0A2N9B9DCwFCJl8oEqWzzB7uDYgZEDekS9g\n",
       "QHc1G9g7bO0HGDD9c+m/i0v5AwYGbD6FAQIyfNhkwPHDsxNLnLZCInIx1nQAAJmFPcGxt9K+AAAA\n",
       "AElFTkSuQmCC\n",
       "\" style=\"display:inline;vertical-align:middle;\" /></a> <a class=\"ProveItLink\" href=\"../__pv_it/e404a14da7d7e7994e365fc3ae161e7d44e028f90/proof.ipynb\" style=\"text-decoration: none\">&#x22A2;&nbsp;</a><a class=\"ProveItLink\" href=\"../__pv_it/aed4dcdda2f3bd22a453fcf7c03b3ec7141fa1d60/expr.ipynb\"><img src=\"data:image/png;base64,iVBORw0KGgoAAAANSUhEUgAAAFYAAAAVBAMAAAAutAQGAAAAMFBMVEX////c3NxERESqqqqYmJgQ\n",
       "EBDu7u4yMjKIiIi6urpUVFTMzMx2dnYiIiJmZmYAAABjE816AAAAAXRSTlMAQObYZgAAAT5JREFU\n",
       "KM9jYCALcDbgk2WZgMzbBSIYMTV4/V+1Sn0Cw2tksTIQwf0AxmVMgLGCGBj4fjKwIynlaEBVyw5j\n",
       "cf8A4l8MLAcQalkTUNVuugYz5CPQtX8Y2AIQaqczoKpd2QFlMAEV8YYxMCgj1L5BVctWwAtl8S9g\n",
       "YCwCWnoOobYEVS2PA58BhLV/RcdbByBtzvD2LhDcATIjUdXyMjAWQFj9Agxst4D0VETQ/kRV68HA\n",
       "sBrCUgWpBxq8H6faa9DIYWD4BcT+B1DUBqOoZQbS7AJgkS9AYr0BihtUUNSC1DE/gAUv43cgwx0a\n",
       "NQywIIGp3QQiLsCCd2sZA0qYzQXGOjBIYu/eVQDFBEgIFBt8+r9WLQeHZyVSHAsgJyRwCuREFkGO\n",
       "Y+S0gQ3wNKCnSdwgHZkjhV/tQmQOI948xLGBAQClR1X6sUA92gAAAABJRU5ErkJggg==\n",
       "\" style=\"display:inline;vertical-align:middle;\" /></a></span></td></tr>\n",
       "<tr><td>&nbsp;</td><td colspan=4 style=\"text-align:left\"><span style=\"font-size:20px;\"><a class=\"ProveItLink\" href=\"../../../../__pv_it/077b2ff79244fb4582cbe22c6e3356fa92a52f2f0/expr.ipynb\"><img src=\"data:image/png;base64,iVBORw0KGgoAAAANSUhEUgAAABAAAAAOBAMAAADUAYG5AAAAMFBMVEX///+qqqru7u4iIiJ2dnbc\n",
       "3NyIiIjMzMxmZmYQEBC6uroyMjJERERUVFSYmJgAAADLUcuvAAAAAXRSTlMAQObYZgAAAGpJREFU\n",
       "CNdjYGB4+//u3dMLGIBgDgMDxy8gzf4NiP8CGWxfGRj4vgAZPBMYGJgnARn8FxhY9ygAGfXX0pof\n",
       "gDTlBzAw2YIYJ0EckBBI53sHoBH/gIz7AhBjWH9DjancBLTl/N+7t/cxMAAA3u4f/5xagjYAAAAA\n",
       "SUVORK5CYII=\n",
       "\" style=\"display:inline;vertical-align:middle;\" /></a> : <a class=\"ProveItLink\" href=\"../../../../__pv_it/077b2ff79244fb4582cbe22c6e3356fa92a52f2f0/expr.ipynb\"><img src=\"data:image/png;base64,iVBORw0KGgoAAAANSUhEUgAAABAAAAAOBAMAAADUAYG5AAAAMFBMVEX///+qqqru7u4iIiJ2dnbc\n",
       "3NyIiIjMzMxmZmYQEBC6uroyMjJERERUVFSYmJgAAADLUcuvAAAAAXRSTlMAQObYZgAAAGpJREFU\n",
       "CNdjYGB4+//u3dMLGIBgDgMDxy8gzf4NiP8CGWxfGRj4vgAZPBMYGJgnARn8FxhY9ygAGfXX0pof\n",
       "gDTlBzAw2YIYJ0EckBBI53sHoBH/gIz7AhBjWH9DjancBLTl/N+7t/cxMAAA3u4f/5xagjYAAAAA\n",
       "SUVORK5CYII=\n",
       "\" style=\"display:inline;vertical-align:middle;\" /></a></span></td></tr><tr><td>6</td><td>specialization</td><td>9, 10</td><td><span style=\"font-size:20px;\"> <a class=\"ProveItLink\" href=\"../__pv_it/93b3f66a7467fc8bde6541c48e0c358b46fa439b0/proof.ipynb\" style=\"text-decoration: none\">&#x22A2;&nbsp;</a><a class=\"ProveItLink\" href=\"../__pv_it/d133507a315974846b05aeec9724a61786215f060/expr.ipynb\"><img src=\"data:image/png;base64,iVBORw0KGgoAAAANSUhEUgAAALMAAAAXBAMAAACyt2M4AAAAMFBMVEX///8QEBC6urrMzMxUVFRm\n",
       "ZmZERETc3NwyMjKqqqp2dnaIiIiYmJgiIiLu7u4AAAAU9Wx4AAAAAXRSTlMAQObYZgAAAlZJREFU\n",
       "SMe1lD1oFEEUx/+b+4p3e3tiozZhCwshiFdoY3OLOdJ6xUVQCJ4Im8aPK8QEJMkSkChIvCb9NSqi\n",
       "RUSsrjBanoWxsfAD1s5GEHMoUUHf7OzevFmT2yuSB3/u7Zs3v5uZ92aAvTN/yLyRNfYxPjD1VagN\n",
       "8fE6GX2C+SkH05+EvdNzzDO96uQSMmUEeiRiK8lonjIabPVk/3shcowGcMGGRy7pBv3kGonkAj+P\n",
       "DnT0rcipUFbFQZfcrlxBppWINnhNxnR06ko0+KIJvGnjM7kk8+Hs7HzyeRzlFfV0dHo82tJF0lsf\n",
       "WVqq0A/XfZ+MPs/8TFtHf5G9QNYD5q4C+ZrUBDAD7Ls2Vb8UDNuKoYK4y6u4rqOf4Fx4Mr3O849i\n",
       "nid1BJbY4EvgaTDOS9oP4gAtNug3WrFh6+gNzIW1/gl8dejE9ksVURCrqAPHm3F0P4jvqqVR0tHm\n",
       "GtLlwMsSrvCHkr5JFdaLosAfgOn/Vt0PDkLTdBElK9GP+UuhLU9cNGsT5nIcrYI4zNBGS0OvkmRW\n",
       "hbaf3lIHgpnToqF+dyb9OFoFcZmhs3oZl0O8bOtFKpwZCquidfIezDGFfuC6rseCuB/9XVn2lUKn\n",
       "xIRi1NapQ75qPhii4bM1WFv6qhssiGP8ysg2PhVeGDt6B87+rVZvix2N2lIwxZ5LLYxsxtEqCKPJ\n",
       "2Ae11zZ+GxBd9NAWfczX4mgVhNlmU7sJV/dxqMDy96bqd6Cjyyy43aO6o4kraHnbDOzwwF5nfs4Z\n",
       "iE43pYZF5/iDfXMg+lmoYdG7Yc5ugf4BaH+faCAgty0AAAAASUVORK5CYII=\n",
       "\" style=\"display:inline;vertical-align:middle;\" /></a></span></td></tr>\n",
       "<tr><td>&nbsp;</td><td colspan=4 style=\"text-align:left\"><span style=\"font-size:20px;\"><a class=\"ProveItLink\" href=\"../../../../__pv_it/2cbe72a7ad6f655694dd697106680215e8489b600/expr.ipynb\"><img src=\"data:image/png;base64,iVBORw0KGgoAAAANSUhEUgAAAA8AAAAOBAMAAAACpFvcAAAALVBMVEX///8QEBBERERUVFS6urqI\n",
       "iIhmZmaqqqrc3Nzu7u6YmJgyMjIiIiLMzMwAAADtIaYWAAAAAXRSTlMAQObYZgAAAFtJREFUCNdj\n",
       "YACBOwxQsA9Kc52bAGG05zVAGAFxDmCaZULdAjBjCsO9ADDDgaEvAUTzGhvbKYCVMDAwbgAxChgY\n",
       "eASANAeQwf0AyJgNxEwvGRia5HYwcOm9TgAA6BoR3jrzwFcAAAAASUVORK5CYII=\n",
       "\" style=\"display:inline;vertical-align:middle;\" /></a> : <a class=\"ProveItLink\" href=\"../../__pv_it/68a87cc3370287d726c7086ace789e680e4461c30/expr.ipynb\"><img src=\"data:image/png;base64,iVBORw0KGgoAAAANSUhEUgAAAA4AAAAOBAMAAADtZjDiAAAAFVBMVEX///92dnbMzMxEREQiIiJm\n",
       "ZmYAAABAT6GXAAAAAXRSTlMAQObYZgAAABhJREFUCNdjCHEBAWcGIFBlgABa0YpADAAxegPJJk4d\n",
       "XAAAAABJRU5ErkJggg==\n",
       "\" style=\"display:inline;vertical-align:middle;\" /></a></span></td></tr><tr><td>7</td><td>specialization</td><td>11, 12</td><td><span style=\"font-size:20px;\"> <a class=\"ProveItLink\" href=\"../__pv_it/53efc7561790a6f726ae3c6bc1f0705f47b307350/proof.ipynb\" style=\"text-decoration: none\">&#x22A2;&nbsp;</a><a class=\"ProveItLink\" href=\"../__pv_it/47fff1e541a872504dd62aaa8946c2d85204ec520/expr.ipynb\"><img src=\"data:image/png;base64,iVBORw0KGgoAAAANSUhEUgAAALMAAAAXBAMAAACyt2M4AAAAMFBMVEX///8QEBC6urrMzMxUVFRm\n",
       "ZmZERETc3NwyMjKqqqp2dnaIiIiYmJgiIiLu7u4AAAAU9Wx4AAAAAXRSTlMAQObYZgAAAlhJREFU\n",
       "SMe1lE1oE0EUx/+bz5psNuJFvZQ9eBCKmIOeE2ro1RxSQaEYEbYXP3IQWyi1iyC1IJpL77moiB4q\n",
       "4ikHq8d4sL14UBfizYsgNihVQd/s7GbebNtsDnXgn337ZuaXN/veG+D/jd6I6xJr7GVi6NI3gTbE\n",
       "y9t49ClmJyvid2HHGvNsvzp1G+kSfD0RvvvxaL5kzD/q6cH7rdAwGsBFGy6ZpJv0yDZiyXn+PTrQ\n",
       "0XdCo0yryhV0yezKCNKtWLTBczKuo5NXw8lXTeBdG5/JJJmP5+YW47/HcZ5RV0enJsIjXSJt9pCh\n",
       "UIV+OM6HePQFZqfbOvqLrAUafWD+GpCrSZ0BZoED16frl/1pWzGUE/d4Ftd19DOcD75Mv/Pyk9jn\n",
       "Sh2DJQ74Gnjuz/OUDpw4RMF6YlDEhq2jNzAf5Pon8JUKM3FQqoC8iKIOnGxG0QMnvrOSLupocw2p\n",
       "km9lCJf/Q4u+SeXXCyLBH4GZHVEPnMPQtF32EIr0MH8ptOWKRrO2YC5H0cqJowxttDT0KkmuKtPx\n",
       "U9vqg2B2UhTU785UL4pWTlxh6IyexuUAL8t6iRJnBsKqKJ2cC3NcoR85juMyJx6Gf1eSdaXQSbGh\n",
       "EJZ18khPFR8MUfCZGqxtPeoGc+IEbxmKZcbzNj3vvWgYO7wHzv2tVu+KE43ZUjDFmYstJLaiaOWE\n",
       "0WTsw9ptG+0GhI0ejKUeFmtRtHLCbLOt3ZjWfRrIH7kH0/UV6OgSc+52qe45RAta7i4Te1ywN5id\n",
       "rQxFp5pSo6Kz/MJeGIp+EWhU9H6Myn6B/gGtEJ+dXF0hhQAAAABJRU5ErkJggg==\n",
       "\" style=\"display:inline;vertical-align:middle;\" /></a></span></td></tr>\n",
       "<tr><td>&nbsp;</td><td colspan=4 style=\"text-align:left\"><span style=\"font-size:20px;\"><a class=\"ProveItLink\" href=\"../../../../__pv_it/2cbe72a7ad6f655694dd697106680215e8489b600/expr.ipynb\"><img src=\"data:image/png;base64,iVBORw0KGgoAAAANSUhEUgAAAA8AAAAOBAMAAAACpFvcAAAALVBMVEX///8QEBBERERUVFS6urqI\n",
       "iIhmZmaqqqrc3Nzu7u6YmJgyMjIiIiLMzMwAAADtIaYWAAAAAXRSTlMAQObYZgAAAFtJREFUCNdj\n",
       "YACBOwxQsA9Kc52bAGG05zVAGAFxDmCaZULdAjBjCsO9ADDDgaEvAUTzGhvbKYCVMDAwbgAxChgY\n",
       "eASANAeQwf0AyJgNxEwvGRia5HYwcOm9TgAA6BoR3jrzwFcAAAAASUVORK5CYII=\n",
       "\" style=\"display:inline;vertical-align:middle;\" /></a> : <a class=\"ProveItLink\" href=\"../../__pv_it/8f1f7fac882de28c72b62ab80a1700b6d8fd066b0/expr.ipynb\"><img src=\"data:image/png;base64,iVBORw0KGgoAAAANSUhEUgAAAA4AAAAOBAMAAADtZjDiAAAAG1BMVEX///9EREQQEBAiIiJmZmbM\n",
       "zMyIiIjc3NwAAACryk5kAAAAAXRSTlMAQObYZgAAABlJREFUCNdjYGBgKGOAgBBa0s7GxkbGxoYA\n",
       "FMUF2aBfHgoAAAAASUVORK5CYII=\n",
       "\" style=\"display:inline;vertical-align:middle;\" /></a></span></td></tr><tr><td>8</td><td>assumption</td><td></td><td><span style=\"font-size:20px;\"><a class=\"ProveItLink\" href=\"../__pv_it/b22b15039733798321461907c74328825d8427750/expr.ipynb\"><img src=\"data:image/png;base64,iVBORw0KGgoAAAANSUhEUgAAADEAAAAVBAMAAAAdjxsPAAAAMFBMVEX////c3NxERESqqqpUVFS6\n",
       "urrMzMwyMjIQEBCIiIh2dnYiIiLu7u5mZmaYmJgAAABXZE4RAAAAAXRSTlMAQObYZgAAAN1JREFU\n",
       "KM9jYGDgu8eABthWCYAonl0MGICtGURyfkCI8Pl/cXEqBTKug3hcDUiKORQYGO4HMDCswJDJnwDE\n",
       "Dthk5gOtfr8Am4wGEO84gE3mCwODuA4DVIa3AMm1X2bO3QdivAcRGUCn3N4NBEB/cX5kYDgNdAAD\n",
       "+wUGhpQ2mIYUBgYmoMmc/0Ac9QcMDBEJCBl+oHq+X0A2N9B9DCwFCJl8oEqWzzB7uDYgZEDekS9g\n",
       "QHc1G9g7bO0HGDD9c+m/i0v5AwYGbD6FAQIyfNhkwPHDsxNLnLZCInIx1nQAAJmFPcGxt9K+AAAA\n",
       "AElFTkSuQmCC\n",
       "\" style=\"display:inline;vertical-align:middle;\" /></a> <a class=\"ProveItLink\" href=\"../__pv_it/659d862d8201b38a76dac4278242419974e1920f0/proof.ipynb\" style=\"text-decoration: none\">&#x22A2;&nbsp;</a><a class=\"ProveItLink\" href=\"../__pv_it/1da4e2fe7c44632f084fa27ea32e26dc689384c20/expr.ipynb\"><img src=\"data:image/png;base64,iVBORw0KGgoAAAANSUhEUgAAAB0AAAAOBAMAAAAh/woJAAAAMFBMVEX///+qqqru7u7c3NyIiIgQ\n",
       "EBC6uroyMjJERESYmJhUVFTMzMx2dnYiIiJmZmYAAADtoHoAAAAAAXRSTlMAQObYZgAAAHpJREFU\n",
       "CNdjYIACzvW/Vq0oY0AA1gYGhvcJCP5+ByBegOD7GzAwzD+A4LcC8VUFBP8XA4N5E4LL/cvF7yaQ\n",
       "fnsXCO4wMLB8ZmDQhRm3i4GBIwAo9hPB5wfKcf5B8PdPYGDg+ojgg6y3L4AZDraeOxxh/Yv/q1aV\n",
       "A7UAAFRxJOZ+1MVPAAAAAElFTkSuQmCC\n",
       "\" style=\"display:inline;vertical-align:middle;\" /></a></span></td></tr>\n",
       "<tr><td>9</td><td>theorem</td><td></td><td><span style=\"font-size:20px;\"> <a class=\"ProveItLink\" href=\"nandIfLeftButNotRight.ipynb\" style=\"text-decoration: none\">&#x22A2;&nbsp;</a><a class=\"ProveItLink\" href=\"../__pv_it/40045ea1b0d5838ab2d85b085249b014729edc2c0/expr.ipynb\"><img src=\"data:image/png;base64,iVBORw0KGgoAAAANSUhEUgAAANYAAAAXBAMAAACFeawMAAAAMFBMVEX///8QEBC6urrMzMxUVFRm\n",
       "ZmZERETc3NwyMjKqqqp2dnaIiIiYmJgiIiLu7u4AAAAU9Wx4AAAAAXRSTlMAQObYZgAAAxxJREFU\n",
       "SMe9Vk1oE1EQ/pLNn80mLV7Ui67gQajSHAQPIgkaqrcWJBWF0nowVdA2h2Iroi0FqQfRXCrezEWs\n",
       "KBJQTz109VT10HjoRSpGUeilWLQ/KrU6b/ZviG0Oi/ogebPz7c733rxvZhf4j6Pq+8lmYQfL9e58\n",
       "Tj/dACrq4pUPKi0jLvZZ08Gae/S2xWzrCMIpso8B95Xvhg+umMyIHeCmfXnF8Qe6gS4Dw+p+4AJN\n",
       "0W4fXBPCjlsp1N/Z/FcdIE1AOoOXCizx8sJFH1zbhR2wOC52Faz0nnf2PEmO6RLek5lsgn5vYOCy\n",
       "D6rgsLjYbU3lSYPnULMjlVP0e11FRG3mLLCcz7/xwRUuiYuTFn31jsnGnKU4GovAYC/Q0E72XeAw\n",
       "0MP+Uf6/tZRrTfGTrggKXlAXRcwUXNf5/wMfD42HOGFrdXHi6SzNm1QSbgO7kOR06F+s821CvEkZ\n",
       "ESfQtCFE7KAIkLfzLQ2VlM3sMjDUzkYFg7ZmVoB5qo2gemYnkECcl/hp1cpNBsEVyZXsEjtwUTQa\n",
       "orR4mVo228aC1ssIWZuPEEec4moLSpNkmwlWzaMZhhNlhCuSq2G+3eNy0XW4KOkBzhDFswu9kSb9\n",
       "h8eVHOai18p5hj+nMFWQXAciovpcFIGi4NqmDHIkOL9j7uGnKSWh714O0XOIdYpOhlsmnvRCcmXC\n",
       "FY/LRRExBdc51RCIK7bgiGzMLa8h2quu9jul3BzrBSYZHgeeVQWXXoyrAA35fP6MQC0Zc0IsOZPQ\n",
       "6Zk15VB5SDjlpW2teppHQAk1OZPr4yCnKVFFwTWf61izo0YEiqDYLfZSr9sxCr3vGwUNGU7X6viV\n",
       "zV5T+48p14haueIIF5Bm7VB2W1KC6zi0rx6XiwJbZI8qyI5iF4AYdo+yxx4SjRkdRXQN0RlxXkFa\n",
       "1ioGbbV4KLifumVXqt9kHqikO33r4zKibbPaKsaXckeLHleSKqb/p5k2rZPx0PXfKRsMbhZzte82\n",
       "YUckYP4ZICrflf11uUIqLUdqnPs34NIK60S4JInrfgM8VmJJ1TjNDbj0f/zRE/rrEX8DLp7KEuso\n",
       "EPoAAAAASUVORK5CYII=\n",
       "\" style=\"display:inline;vertical-align:middle;\" /></a></span></td></tr>\n",
       "<tr><td>&nbsp;</td><td colspan=4 style-\"text-align:left\"><a class=\"ProveItLink\" href=\"nandIfLeftButNotRight.ipynb\">proveit.logic.boolean.conjunction.nandIfLeftButNotRight</a></td></tr><tr><td>10</td><td>axiom</td><td></td><td><span style=\"font-size:20px;\"> <a class=\"ProveItLink\" href=\"../../_axioms_.ipynb#trueAxiom\" style=\"text-decoration: none\">&#x22A2;&nbsp;</a><a class=\"ProveItLink\" href=\"../../__pv_it/68a87cc3370287d726c7086ace789e680e4461c30/expr.ipynb\"><img src=\"data:image/png;base64,iVBORw0KGgoAAAANSUhEUgAAAA4AAAAOBAMAAADtZjDiAAAAFVBMVEX///92dnbMzMxEREQiIiJm\n",
       "ZmYAAABAT6GXAAAAAXRSTlMAQObYZgAAABhJREFUCNdjCHEBAWcGIFBlgABa0YpADAAxegPJJk4d\n",
       "XAAAAABJRU5ErkJggg==\n",
       "\" style=\"display:inline;vertical-align:middle;\" /></a></span></td></tr>\n",
       "<tr><td>&nbsp;</td><td colspan=4 style-\"text-align:left\"><a class=\"ProveItLink\" href=\"../../_axioms_.ipynb#trueAxiom\">proveit.logic.boolean.trueAxiom</a></td></tr><tr><td>11</td><td>theorem</td><td></td><td><span style=\"font-size:20px;\"> <a class=\"ProveItLink\" href=\"nandIfNeither.ipynb\" style=\"text-decoration: none\">&#x22A2;&nbsp;</a><a class=\"ProveItLink\" href=\"../__pv_it/6c6cf740054e4cfdcd9e1ff7416524b0580365fa0/expr.ipynb\"><img src=\"data:image/png;base64,iVBORw0KGgoAAAANSUhEUgAAAOEAAAAXBAMAAAAPVjVNAAAAMFBMVEX///8QEBC6urrMzMxUVFRm\n",
       "ZmZERETc3NwyMjKqqqp2dnaIiIiYmJgiIiLu7u4AAAAU9Wx4AAAAAXRSTlMAQObYZgAAAvdJREFU\n",
       "SMe9Vj1oU1EU/pq/lzYvaXAQXGoGB0ElEYROkqKhFByaoRkUihUxdVCTQVodat+iQZA2S13NolYU\n",
       "eaJbh0Zx8Gcwg138wSgK3Sz9t5Xqvefc17zkJRki9cDpu989757vvvOXAv9dyv923GU2Ag55obQk\n",
       "wduWGY/UAUdr3nn5J5E4H4E3BtIHcm+iZcaJOmBSwWvW/m5BtQgYIB0RD22oVcKA6QT6F5Wp62rf\n",
       "vSl0GXgDUr8we/OtMraVneDq6SwTXVTGwJq4xgbwFaT6/dHRsZaDur8OMGcj9PQcUAHwhYFgl3jm\n",
       "WVfT6Q8tM55yAlf5TpEW81yVQGcPtBviezuSrMeBYTLk6O/tlVRvjE5W+85Vlu2Z1MBZXt6yv8Lg\n",
       "G+L8bY9wkvfjJ2YG5SXaDdZ9CBmU8EXOexiBMMWiilBZWZ4DT3i1SxTBZykFBkIiGE/SooQr/NJs\n",
       "FqH38hvCrEEEKAo/fpPZ2wPXmpNRWVkGgChXh3UPd48F3IlEP5W+bsJDwcIZySo43AusgWKQaurx\n",
       "HJmDJrwlJ6OysnwEBtGAUSSjjWImvNIuIBoD7woVxpBBo8Jtpsn8M4ZXWQejZSUJLUFXad1jZyQg\n",
       "ajFIWZmyku+W4enPV6KK4WNUy+ra0Zlnl+BgtKxcjZszvarVLtgZJdCEZ/+CVWpTVjtq6zLOBium\n",
       "KIivMUtnp0VhlCuM99LptLFtZdRhQO9iprvWLWIKzMuTW/IOMplBqx0PywFodQfaZDGH5lIZIjon\n",
       "Apuv/sahipWQL4nQLwaH7IEQYGRvDnpmXbj1RNTc82aWE33UOP4IK3Tpy5tFnCpLuIrGahm3rYQ6\n",
       "83AtqcGWtU85O3CpVrGJmnJKDorRUNRy0LagzaGW0bIyGi9jLKnatGDv2ULzAfVQKcn3VWj9n0RV\n",
       "Ta+k+vI1jLFtK6GOydTAzWa/Vg1EDhoeNvZb2tY+xxG9jpvLDYFDPFnWKuluythdx41mNgIOeaq0\n",
       "SopNGYs7/C+XZ4f8/gVy985Qn0xZwQAAAABJRU5ErkJggg==\n",
       "\" style=\"display:inline;vertical-align:middle;\" /></a></span></td></tr>\n",
       "<tr><td>&nbsp;</td><td colspan=4 style-\"text-align:left\"><a class=\"ProveItLink\" href=\"nandIfNeither.ipynb\">proveit.logic.boolean.conjunction.nandIfNeither</a></td></tr><tr><td>12</td><td>theorem</td><td></td><td><span style=\"font-size:20px;\"> <a class=\"ProveItLink\" href=\"../../negation/_proofs_/notFalse.ipynb\" style=\"text-decoration: none\">&#x22A2;&nbsp;</a><a class=\"ProveItLink\" href=\"../../negation/__pv_it/01165fd25131c0df966b8e8c1626e275fd04f3050/expr.ipynb\"><img src=\"data:image/png;base64,iVBORw0KGgoAAAANSUhEUgAAABwAAAAOBAMAAADOPWE3AAAAIVBMVEX///9EREQQEBCIiIjc3NxU\n",
       "VFTMzMx2dnYiIiJmZmYAAADo3DW1AAAAAXRSTlMAQObYZgAAACVJREFUCNdjYIADZwYUkEll7owO\n",
       "IGhHlU2lgMuGbhHQgqaOjkYA4xoNxELsxwMAAAAASUVORK5CYII=\n",
       "\" style=\"display:inline;vertical-align:middle;\" /></a></span></td></tr>\n",
       "<tr><td>&nbsp;</td><td colspan=4 style-\"text-align:left\"><a class=\"ProveItLink\" href=\"../../negation/_proofs_/notFalse.ipynb\">proveit.logic.boolean.negation.notFalse</a></td></tr></table>"
      ],
      "text/plain": [
       "\tstep type\trequirements\tstatement\n",
       "0\tspecialization\t1, 2, 3\t|- forall_{A, B in BOOLEANS | [not](B)} [not](A and B)\n",
       "\tP(A) : forall_{B in BOOLEANS | [not](B)} [not](A and B)\n",
       "1\ttheorem\t\t|- forall_{P | P(TRUE) , P(FALSE)} [forall_{A in BOOLEANS} P(A)]\n",
       "\tproveit.logic.boolean.foldForallOverBool\n",
       "2\tgeneralizaton\t4\t|- forall_{B in BOOLEANS | [not](B)} [not](TRUE and B)\n",
       "3\tgeneralizaton\t5\t|- forall_{B in BOOLEANS | [not](B)} [not](FALSE and B)\n",
       "4\tspecialization\t6, 8\t{[not](B)} |- [not](TRUE and B)\n",
       "\tB : B\n",
       "5\tspecialization\t7, 8\t{[not](B)} |- [not](FALSE and B)\n",
       "\tB : B\n",
       "6\tspecialization\t9, 10\t|- forall_{B | [not](B)} [not](TRUE and B)\n",
       "\tA : TRUE\n",
       "7\tspecialization\t11, 12\t|- forall_{B | [not](B)} [not](FALSE and B)\n",
       "\tA : FALSE\n",
       "8\tassumption\t\t{[not](B)} |- [not](B)\n",
       "9\ttheorem\t\t|- forall_{A, B | A , [not](B)} [not](A and B)\n",
       "\tproveit.logic.boolean.conjunction.nandIfLeftButNotRight\n",
       "10\taxiom\t\t|- TRUE\n",
       "\tproveit.logic.boolean.trueAxiom\n",
       "11\ttheorem\t\t|- forall_{A, B | [not](A) , [not](B)} [not](A and B)\n",
       "\tproveit.logic.boolean.conjunction.nandIfNeither\n",
       "12\ttheorem\t\t|- [not](FALSE)\n",
       "\tproveit.logic.boolean.negation.notFalse"
      ]
     },
     "execution_count": 8,
     "metadata": {},
     "output_type": "execute_result"
    }
   ],
   "source": [
    "%qed"
   ]
  },
  {
   "cell_type": "code",
   "execution_count": null,
   "metadata": {},
   "outputs": [],
   "source": []
  }
 ],
 "metadata": {
  "kernelspec": {
   "display_name": "Python 3",
   "language": "python",
   "name": "python3"
  }
 },
 "nbformat": 4,
 "nbformat_minor": 0
}
