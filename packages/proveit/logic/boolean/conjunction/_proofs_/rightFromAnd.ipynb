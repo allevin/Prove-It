{
 "cells": [
  {
   "cell_type": "markdown",
   "metadata": {
    "collapsed": true
   },
   "source": [
    "Proof of <a class=\"ProveItLink\" href=\"../../../../_context_.ipynb\">proveit</a>.<a class=\"ProveItLink\" href=\"../../../_context_.ipynb\">logic</a>.<a class=\"ProveItLink\" href=\"../../_context_.ipynb\">boolean</a>.<a class=\"ProveItLink\" href=\"../_context_.ipynb\">conjunction</a>.<a class=\"ProveItLink\" href=\"../_theorems_.ipynb#rightFromAnd\">rightFromAnd</a> theorem\n",
    "========"
   ]
  },
  {
   "cell_type": "code",
   "execution_count": 1,
   "metadata": {},
   "outputs": [],
   "source": [
    "import proveit\n",
    "from proveit.logic import TRUE, FALSE, Booleans, Not, And, Forall, Implies\n",
    "from proveit._common_ import A, B\n",
    "from proveit.logic.boolean._theorems_ import unfoldInBoolExplicit, inBoolIfTrue, foldForallOverBool\n",
    "from proveit.logic.boolean.conjunction._axioms_ import leftInBool, rightInBool\n",
    "from proveit.logic.boolean.conjunction._theorems_ import trueAndTrue, trueAndFalseNegated, falseAndTrueNegated, falseAndFalseNegated\n",
    "from proveit.logic.boolean.implication._theorems_ import affirmViaContradiction, falseAntecedentImplication\n",
    "context = proveit.Context('..') # the theorem's context is in the parent directory"
   ]
  },
  {
   "cell_type": "code",
   "execution_count": 2,
   "metadata": {},
   "outputs": [
    {
     "name": "stdout",
     "output_type": "stream",
     "text": [
      "Beginning proof of rightFromAnd\n",
      "Recorded 'presuming' information\n",
      "Presuming proveit.logic.boolean.foldForallOverBool, proveit.logic.boolean.implication.falseAntecedentImplication, proveit.logic.boolean.inBoolIfTrue, proveit.logic.boolean.unfoldInBoolExplicit theorems (applied transitively).\n",
      "Presuming previous theorems (applied transitively).\n"
     ]
    },
    {
     "data": {
      "text/html": [
       "<strong id=\"rightFromAnd\">rightFromAnd:</strong> <a class=\"ProveItLink\" href=\"../__pv_it/cacedd51471fbbbbf687acfa7e76e99ae2041b550/expr.ipynb\"><img src=\"../__pv_it/cacedd51471fbbbbf687acfa7e76e99ae2041b550/expr.png\" style=\"display:inline;vertical-align:middle;\" /></a><br>(see <a class=\"ProveItLink\" href=\"../__pv_it/cacedd51471fbbbbf687acfa7e76e99ae2041b550/dependencies.ipynb\">dependencies</a>)<br>"
      ],
      "text/plain": [
       "rightFromAnd: forall_{A, B | A and B} B"
      ]
     },
     "execution_count": 2,
     "metadata": {},
     "output_type": "execute_result"
    }
   ],
   "source": [
    "%proving rightFromAnd presuming [inBoolIfTrue, unfoldInBoolExplicit, falseAntecedentImplication, foldForallOverBool]"
   ]
  },
  {
   "cell_type": "code",
   "execution_count": 3,
   "metadata": {},
   "outputs": [
    {
     "data": {
      "text/html": [
       "<strong id=\"AandBInBool\">AandBInBool:</strong> <span style=\"font-size:20px;\"><a class=\"ProveItLink\" href=\"../__pv_it/0d13935015c66a2b9783567dc85beb267ce5b6c30/expr.ipynb\"><img src=\"../__pv_it/0d13935015c66a2b9783567dc85beb267ce5b6c30/expr.png\" style=\"display:inline;vertical-align:middle;\" /></a> &#x22A2;&nbsp;<a class=\"ProveItLink\" href=\"../__pv_it/da1cf8740e92cbd1709295d007b862182ae19c1f0/expr.ipynb\"><img src=\"../__pv_it/da1cf8740e92cbd1709295d007b862182ae19c1f0/expr.png\" style=\"display:inline;vertical-align:middle;\" /></a></span><br>"
      ],
      "text/plain": [
       "AandBInBool: {A and B} |= (A and B) in BOOLEANS"
      ]
     },
     "execution_count": 3,
     "metadata": {},
     "output_type": "execute_result"
    }
   ],
   "source": [
    "AandBInBool = inBoolIfTrue.specialize({A:And(A,B)}, assumptions = rightFromAnd.allConditions())"
   ]
  },
  {
   "cell_type": "code",
   "execution_count": 4,
   "metadata": {},
   "outputs": [
    {
     "data": {
      "text/html": [
       "<strong id=\"AinBool\">AinBool:</strong> <span style=\"font-size:20px;\"><a class=\"ProveItLink\" href=\"../__pv_it/0d13935015c66a2b9783567dc85beb267ce5b6c30/expr.ipynb\"><img src=\"../__pv_it/0d13935015c66a2b9783567dc85beb267ce5b6c30/expr.png\" style=\"display:inline;vertical-align:middle;\" /></a> &#x22A2;&nbsp;<a class=\"ProveItLink\" href=\"../__pv_it/03a5c2b5cc6fc2c3cd686b4bcf84379b893abe210/expr.ipynb\"><img src=\"../__pv_it/03a5c2b5cc6fc2c3cd686b4bcf84379b893abe210/expr.png\" style=\"display:inline;vertical-align:middle;\" /></a></span><br>"
      ],
      "text/plain": [
       "AinBool: {A and B} |= A in BOOLEANS"
      ]
     },
     "execution_count": 4,
     "metadata": {},
     "output_type": "execute_result"
    }
   ],
   "source": [
    "AinBool = leftInBool.specialize(assumptions = rightFromAnd.allConditions())"
   ]
  },
  {
   "cell_type": "code",
   "execution_count": 5,
   "metadata": {},
   "outputs": [
    {
     "data": {
      "text/html": [
       "<strong id=\"BinBool\">BinBool:</strong> <span style=\"font-size:20px;\"><a class=\"ProveItLink\" href=\"../__pv_it/0d13935015c66a2b9783567dc85beb267ce5b6c30/expr.ipynb\"><img src=\"../__pv_it/0d13935015c66a2b9783567dc85beb267ce5b6c30/expr.png\" style=\"display:inline;vertical-align:middle;\" /></a> &#x22A2;&nbsp;<a class=\"ProveItLink\" href=\"../__pv_it/fe5c91c77f0659f9ea07a2e3257797875d6868370/expr.ipynb\"><img src=\"../__pv_it/fe5c91c77f0659f9ea07a2e3257797875d6868370/expr.png\" style=\"display:inline;vertical-align:middle;\" /></a></span><br>"
      ],
      "text/plain": [
       "BinBool: {A and B} |= B in BOOLEANS"
      ]
     },
     "execution_count": 5,
     "metadata": {},
     "output_type": "execute_result"
    }
   ],
   "source": [
    "BinBool = rightInBool.specialize(assumptions = rightFromAnd.allConditions())"
   ]
  },
  {
   "cell_type": "code",
   "execution_count": 6,
   "metadata": {},
   "outputs": [
    {
     "data": {
      "text/html": [
       "<strong id=\"AequalTrue\">AequalTrue:</strong> <a class=\"ProveItLink\" href=\"../__pv_it/f4d6ed37799a8ea3909d9764c457e2a3fa701b6f0/expr.ipynb\"><img src=\"../__pv_it/f4d6ed37799a8ea3909d9764c457e2a3fa701b6f0/expr.png\" style=\"display:inline;vertical-align:middle;\" /></a><br>\n",
       "<strong id=\"AequalFalse\">AequalFalse:</strong> <a class=\"ProveItLink\" href=\"../__pv_it/59b818aa3070d9f9cb643715737df9a2274cbc840/expr.ipynb\"><img src=\"../__pv_it/59b818aa3070d9f9cb643715737df9a2274cbc840/expr.png\" style=\"display:inline;vertical-align:middle;\" /></a><br>"
      ],
      "text/plain": [
       "AequalTrue: A = TRUE\n",
       "AequalFalse: A = FALSE"
      ]
     },
     "execution_count": 6,
     "metadata": {},
     "output_type": "execute_result"
    }
   ],
   "source": [
    "AequalTrue, AequalFalse = AinBool.unfold().operands"
   ]
  },
  {
   "cell_type": "code",
   "execution_count": 7,
   "metadata": {},
   "outputs": [
    {
     "data": {
      "text/html": [
       "<strong id=\"BequalTrue\">BequalTrue:</strong> <a class=\"ProveItLink\" href=\"../__pv_it/7f8413a78900282a37dba43b921b29b8acb133c80/expr.ipynb\"><img src=\"../__pv_it/7f8413a78900282a37dba43b921b29b8acb133c80/expr.png\" style=\"display:inline;vertical-align:middle;\" /></a><br>\n",
       "<strong id=\"BequalFalse\">BequalFalse:</strong> <a class=\"ProveItLink\" href=\"../__pv_it/0e6513d9653529587ef99bc5f365bb0e33131b8f0/expr.ipynb\"><img src=\"../__pv_it/0e6513d9653529587ef99bc5f365bb0e33131b8f0/expr.png\" style=\"display:inline;vertical-align:middle;\" /></a><br>"
      ],
      "text/plain": [
       "BequalTrue: B = TRUE\n",
       "BequalFalse: B = FALSE"
      ]
     },
     "execution_count": 7,
     "metadata": {},
     "output_type": "execute_result"
    }
   ],
   "source": [
    "BequalTrue, BequalFalse = BinBool.unfold().operands"
   ]
  },
  {
   "cell_type": "code",
   "execution_count": 8,
   "metadata": {},
   "outputs": [
    {
     "data": {
      "text/html": [
       "<strong id=\"goal\">goal:</strong> <a class=\"ProveItLink\" href=\"../__pv_it/7101a6743e23457f7e78be55f4f1bf24643785670/expr.ipynb\"><img src=\"../__pv_it/7101a6743e23457f7e78be55f4f1bf24643785670/expr.png\" style=\"display:inline;vertical-align:middle;\" /></a><br>"
      ],
      "text/plain": [
       "goal: forall_{A, B in BOOLEANS} ((A and B) => B)"
      ]
     },
     "execution_count": 8,
     "metadata": {},
     "output_type": "execute_result"
    }
   ],
   "source": [
    "goal = Forall((A,B), Implies(And(A,B), B), domain = Booleans)"
   ]
  },
  {
   "cell_type": "code",
   "execution_count": 9,
   "metadata": {},
   "outputs": [
    {
     "data": {
      "text/html": [
       "<strong id=\"goal2\">goal2:</strong> <a class=\"ProveItLink\" href=\"../__pv_it/7c0c21e608d48278b2306441b4ef836c09712c2f0/expr.ipynb\"><img src=\"../__pv_it/7c0c21e608d48278b2306441b4ef836c09712c2f0/expr.png\" style=\"display:inline;vertical-align:middle;\" /></a><br>"
      ],
      "text/plain": [
       "goal2: forall_{A, B in BOOLEANS} ((FALSE and B) => FALSE)"
      ]
     },
     "execution_count": 9,
     "metadata": {},
     "output_type": "execute_result"
    }
   ],
   "source": [
    "goal2 = Forall((A,B), Implies(And(FALSE,B), FALSE), domain = Booleans)"
   ]
  },
  {
   "cell_type": "code",
   "execution_count": 10,
   "metadata": {},
   "outputs": [
    {
     "data": {
      "text/html": [
       "<strong id=\"goal3\">goal3:</strong> <a class=\"ProveItLink\" href=\"../__pv_it/44db1c4cff52491c9cac677c030d1d09b7e488890/expr.ipynb\"><img src=\"../__pv_it/44db1c4cff52491c9cac677c030d1d09b7e488890/expr.png\" style=\"display:inline;vertical-align:middle;\" /></a><br>"
      ],
      "text/plain": [
       "goal3: forall_{A, B in BOOLEANS} ((FALSE and A) => FALSE)"
      ]
     },
     "execution_count": 10,
     "metadata": {},
     "output_type": "execute_result"
    }
   ],
   "source": [
    "goal3 = Forall((A,B), Implies(And(FALSE,A), FALSE), domain = Booleans)"
   ]
  },
  {
   "cell_type": "code",
   "execution_count": 11,
   "metadata": {},
   "outputs": [
    {
     "data": {
      "text/html": [
       "<span style=\"font-size:20px;\"> &#x22A2;&nbsp;<a class=\"ProveItLink\" href=\"../__pv_it/fca78379cd4142ffca4e533f262ad6e34c2306d00/expr.ipynb\"><img src=\"../__pv_it/fca78379cd4142ffca4e533f262ad6e34c2306d00/expr.png\" style=\"display:inline;vertical-align:middle;\" /></a></span>"
      ],
      "text/plain": [
       "|= forall_{A in BOOLEANS} [forall_{B in BOOLEANS} ((FALSE and A) => FALSE)]"
      ]
     },
     "execution_count": 11,
     "metadata": {},
     "output_type": "execute_result"
    }
   ],
   "source": [
    "goal3.concludeAsFolded()"
   ]
  },
  {
   "cell_type": "code",
   "execution_count": 12,
   "metadata": {},
   "outputs": [
    {
     "data": {
      "text/html": [
       "<span style=\"font-size:20px;\"> &#x22A2;&nbsp;<a class=\"ProveItLink\" href=\"../__pv_it/dc3af784b3c8e8d013b39817ef626aa3bfe13bfd0/expr.ipynb\"><img src=\"../__pv_it/dc3af784b3c8e8d013b39817ef626aa3bfe13bfd0/expr.png\" style=\"display:inline;vertical-align:middle;\" /></a></span>"
      ],
      "text/plain": [
       "|= forall_{A in BOOLEANS} [forall_{B in BOOLEANS} ((FALSE and B) => FALSE)]"
      ]
     },
     "execution_count": 12,
     "metadata": {},
     "output_type": "execute_result"
    }
   ],
   "source": [
    "goal2.concludeAsFolded()"
   ]
  },
  {
   "cell_type": "code",
   "execution_count": 13,
   "metadata": {},
   "outputs": [
    {
     "data": {
      "text/html": [
       "<span style=\"font-size:20px;\"> &#x22A2;&nbsp;<a class=\"ProveItLink\" href=\"../__pv_it/3be6c9f731d396f107cc5fa792346d61f44499e60/expr.ipynb\"><img src=\"../__pv_it/3be6c9f731d396f107cc5fa792346d61f44499e60/expr.png\" style=\"display:inline;vertical-align:middle;\" /></a></span>"
      ],
      "text/plain": [
       "|= forall_{A in BOOLEANS} [forall_{B in BOOLEANS} ((A and B) => B)]"
      ]
     },
     "execution_count": 13,
     "metadata": {},
     "output_type": "execute_result"
    }
   ],
   "source": [
    "goal.concludeAsFolded()"
   ]
  },
  {
   "cell_type": "code",
   "execution_count": 14,
   "metadata": {},
   "outputs": [
    {
     "data": {
      "text/html": [
       "<strong id=\"finalStep\">finalStep:</strong> <span style=\"font-size:20px;\"><a class=\"ProveItLink\" href=\"../__pv_it/0d13935015c66a2b9783567dc85beb267ce5b6c30/expr.ipynb\"><img src=\"../__pv_it/0d13935015c66a2b9783567dc85beb267ce5b6c30/expr.png\" style=\"display:inline;vertical-align:middle;\" /></a> &#x22A2;&nbsp;<a class=\"ProveItLink\" href=\"../__pv_it/f89f6490dcc1d67bf2f8c56ecfdec8eaf1b42f0f0/expr.ipynb\"><img src=\"../__pv_it/f89f6490dcc1d67bf2f8c56ecfdec8eaf1b42f0f0/expr.png\" style=\"display:inline;vertical-align:middle;\" /></a></span><br>"
      ],
      "text/plain": [
       "finalStep: {A and B} |= (A and B) => B"
      ]
     },
     "execution_count": 14,
     "metadata": {},
     "output_type": "execute_result"
    }
   ],
   "source": [
    "finalStep = goal.specialize(assumptions = list(rightFromAnd.allConditions()))"
   ]
  },
  {
   "cell_type": "code",
   "execution_count": 15,
   "metadata": {},
   "outputs": [
    {
     "data": {
      "text/html": [
       "<span style=\"font-size:20px;\"><a class=\"ProveItLink\" href=\"../__pv_it/0d13935015c66a2b9783567dc85beb267ce5b6c30/expr.ipynb\"><img src=\"../__pv_it/0d13935015c66a2b9783567dc85beb267ce5b6c30/expr.png\" style=\"display:inline;vertical-align:middle;\" /></a> &#x22A2;&nbsp;<a class=\"ProveItLink\" href=\"../../../../__pv_it/077b2ff79244fb4582cbe22c6e3356fa92a52f2f0/expr.ipynb\"><img src=\"../../../../__pv_it/077b2ff79244fb4582cbe22c6e3356fa92a52f2f0/expr.png\" style=\"display:inline;vertical-align:middle;\" /></a></span>"
      ],
      "text/plain": [
       "{A and B} |= B"
      ]
     },
     "execution_count": 15,
     "metadata": {},
     "output_type": "execute_result"
    }
   ],
   "source": [
    "finalStep.deriveConsequent()"
   ]
  },
  {
   "cell_type": "code",
   "execution_count": 16,
   "metadata": {},
   "outputs": [
    {
     "data": {
      "text/html": [
       "<table><tr><th>&nbsp;</th><th>step type</th><th>requirements</th><th>statement</th></tr>\n",
       "<tr><td>0</td><td>generalizaton</td><td>1</td><td><span style=\"font-size:20px;\"> &#x22A2;&nbsp;<a class=\"ProveItLink\" href=\"../__pv_it/cacedd51471fbbbbf687acfa7e76e99ae2041b550/expr.ipynb\"><img src=\"../__pv_it/cacedd51471fbbbbf687acfa7e76e99ae2041b550/expr.png\" style=\"display:inline;vertical-align:middle;\" /></a></span></td></tr>\n",
       "<tr><td>1</td><td>modus ponens</td><td>2, 17</td><td><span style=\"font-size:20px;\"><a class=\"ProveItLink\" href=\"../__pv_it/0d13935015c66a2b9783567dc85beb267ce5b6c30/expr.ipynb\"><img src=\"../__pv_it/0d13935015c66a2b9783567dc85beb267ce5b6c30/expr.png\" style=\"display:inline;vertical-align:middle;\" /></a> &#x22A2;&nbsp;<a class=\"ProveItLink\" href=\"../../../../__pv_it/077b2ff79244fb4582cbe22c6e3356fa92a52f2f0/expr.ipynb\"><img src=\"../../../../__pv_it/077b2ff79244fb4582cbe22c6e3356fa92a52f2f0/expr.png\" style=\"display:inline;vertical-align:middle;\" /></a></span></td></tr>\n",
       "<tr><td>2</td><td>specialization</td><td>3, 4, 5</td><td><span style=\"font-size:20px;\"><a class=\"ProveItLink\" href=\"../__pv_it/0d13935015c66a2b9783567dc85beb267ce5b6c30/expr.ipynb\"><img src=\"../__pv_it/0d13935015c66a2b9783567dc85beb267ce5b6c30/expr.png\" style=\"display:inline;vertical-align:middle;\" /></a> &#x22A2;&nbsp;<a class=\"ProveItLink\" href=\"../__pv_it/f89f6490dcc1d67bf2f8c56ecfdec8eaf1b42f0f0/expr.ipynb\"><img src=\"../__pv_it/f89f6490dcc1d67bf2f8c56ecfdec8eaf1b42f0f0/expr.png\" style=\"display:inline;vertical-align:middle;\" /></a></span></td></tr>\n",
       "<tr><td>&nbsp;</td><td colspan=4 style=\"text-align:left\"><span style=\"font-size:20px;\"><a class=\"ProveItLink\" href=\"../__pv_it/5fa8df6a7435f1eec38081ed73bf5e7109f10f640/expr.ipynb\"><img src=\"../__pv_it/5fa8df6a7435f1eec38081ed73bf5e7109f10f640/expr.png\" style=\"display:inline;vertical-align:middle;\" /></a>, <a class=\"ProveItLink\" href=\"../__pv_it/00e4b46dd5e5a908d5cc5ab396bb15e8f919bb7e0/expr.ipynb\"><img src=\"../__pv_it/00e4b46dd5e5a908d5cc5ab396bb15e8f919bb7e0/expr.png\" style=\"display:inline;vertical-align:middle;\" /></a></span></td></tr><tr><td>3</td><td>specialization</td><td>13, 6, 7</td><td><span style=\"font-size:20px;\"> &#x22A2;&nbsp;<a class=\"ProveItLink\" href=\"../__pv_it/7101a6743e23457f7e78be55f4f1bf24643785670/expr.ipynb\"><img src=\"../__pv_it/7101a6743e23457f7e78be55f4f1bf24643785670/expr.png\" style=\"display:inline;vertical-align:middle;\" /></a></span></td></tr>\n",
       "<tr><td>&nbsp;</td><td colspan=4 style=\"text-align:left\"><span style=\"font-size:20px;\"><a class=\"ProveItLink\" href=\"../__pv_it/ef3072916d1691736b2be74ae03cca5cef4664d60/expr.ipynb\"><img src=\"../__pv_it/ef3072916d1691736b2be74ae03cca5cef4664d60/expr.png\" style=\"display:inline;vertical-align:middle;\" /></a></span></td></tr><tr><td>4</td><td>specialization</td><td>8, 10</td><td><span style=\"font-size:20px;\"><a class=\"ProveItLink\" href=\"../__pv_it/0d13935015c66a2b9783567dc85beb267ce5b6c30/expr.ipynb\"><img src=\"../__pv_it/0d13935015c66a2b9783567dc85beb267ce5b6c30/expr.png\" style=\"display:inline;vertical-align:middle;\" /></a> &#x22A2;&nbsp;<a class=\"ProveItLink\" href=\"../__pv_it/03a5c2b5cc6fc2c3cd686b4bcf84379b893abe210/expr.ipynb\"><img src=\"../__pv_it/03a5c2b5cc6fc2c3cd686b4bcf84379b893abe210/expr.png\" style=\"display:inline;vertical-align:middle;\" /></a></span></td></tr>\n",
       "<tr><td>&nbsp;</td><td colspan=4 style=\"text-align:left\"><span style=\"font-size:20px;\"><a class=\"ProveItLink\" href=\"../__pv_it/5fa8df6a7435f1eec38081ed73bf5e7109f10f640/expr.ipynb\"><img src=\"../__pv_it/5fa8df6a7435f1eec38081ed73bf5e7109f10f640/expr.png\" style=\"display:inline;vertical-align:middle;\" /></a>, <a class=\"ProveItLink\" href=\"../__pv_it/00e4b46dd5e5a908d5cc5ab396bb15e8f919bb7e0/expr.ipynb\"><img src=\"../__pv_it/00e4b46dd5e5a908d5cc5ab396bb15e8f919bb7e0/expr.png\" style=\"display:inline;vertical-align:middle;\" /></a></span></td></tr><tr><td>5</td><td>specialization</td><td>9, 10</td><td><span style=\"font-size:20px;\"><a class=\"ProveItLink\" href=\"../__pv_it/0d13935015c66a2b9783567dc85beb267ce5b6c30/expr.ipynb\"><img src=\"../__pv_it/0d13935015c66a2b9783567dc85beb267ce5b6c30/expr.png\" style=\"display:inline;vertical-align:middle;\" /></a> &#x22A2;&nbsp;<a class=\"ProveItLink\" href=\"../__pv_it/fe5c91c77f0659f9ea07a2e3257797875d6868370/expr.ipynb\"><img src=\"../__pv_it/fe5c91c77f0659f9ea07a2e3257797875d6868370/expr.png\" style=\"display:inline;vertical-align:middle;\" /></a></span></td></tr>\n",
       "<tr><td>&nbsp;</td><td colspan=4 style=\"text-align:left\"><span style=\"font-size:20px;\"><a class=\"ProveItLink\" href=\"../__pv_it/5fa8df6a7435f1eec38081ed73bf5e7109f10f640/expr.ipynb\"><img src=\"../__pv_it/5fa8df6a7435f1eec38081ed73bf5e7109f10f640/expr.png\" style=\"display:inline;vertical-align:middle;\" /></a>, <a class=\"ProveItLink\" href=\"../__pv_it/00e4b46dd5e5a908d5cc5ab396bb15e8f919bb7e0/expr.ipynb\"><img src=\"../__pv_it/00e4b46dd5e5a908d5cc5ab396bb15e8f919bb7e0/expr.png\" style=\"display:inline;vertical-align:middle;\" /></a></span></td></tr><tr><td>6</td><td>specialization</td><td>13, 11, 12</td><td><span style=\"font-size:20px;\"> &#x22A2;&nbsp;<a class=\"ProveItLink\" href=\"../__pv_it/877fd92076f18993b0b9d9c1b40a28fff20eac890/expr.ipynb\"><img src=\"../__pv_it/877fd92076f18993b0b9d9c1b40a28fff20eac890/expr.png\" style=\"display:inline;vertical-align:middle;\" /></a></span></td></tr>\n",
       "<tr><td>&nbsp;</td><td colspan=4 style=\"text-align:left\"><span style=\"font-size:20px;\"><a class=\"ProveItLink\" href=\"../__pv_it/7a008d97bbcf1eb6725a428330666e2da9038a1e0/expr.ipynb\"><img src=\"../__pv_it/7a008d97bbcf1eb6725a428330666e2da9038a1e0/expr.png\" style=\"display:inline;vertical-align:middle;\" /></a>, relabeling <a class=\"ProveItLink\" href=\"../__pv_it/5d5f2788af5ab1e0877417def4ee9be126f7bc700/expr.ipynb\"><img src=\"../__pv_it/5d5f2788af5ab1e0877417def4ee9be126f7bc700/expr.png\" style=\"display:inline;vertical-align:middle;\" /></a></span></td></tr><tr><td>7</td><td>specialization</td><td>13, 14, 15</td><td><span style=\"font-size:20px;\"> &#x22A2;&nbsp;<a class=\"ProveItLink\" href=\"../__pv_it/4d2a606a665d972fd0c32314d637305d1bb0bb3d0/expr.ipynb\"><img src=\"../__pv_it/4d2a606a665d972fd0c32314d637305d1bb0bb3d0/expr.png\" style=\"display:inline;vertical-align:middle;\" /></a></span></td></tr>\n",
       "<tr><td>&nbsp;</td><td colspan=4 style=\"text-align:left\"><span style=\"font-size:20px;\"><a class=\"ProveItLink\" href=\"../__pv_it/1926c388dc581ce56eaaeab298e4cf5c90073ac10/expr.ipynb\"><img src=\"../__pv_it/1926c388dc581ce56eaaeab298e4cf5c90073ac10/expr.png\" style=\"display:inline;vertical-align:middle;\" /></a>, relabeling <a class=\"ProveItLink\" href=\"../__pv_it/5d5f2788af5ab1e0877417def4ee9be126f7bc700/expr.ipynb\"><img src=\"../__pv_it/5d5f2788af5ab1e0877417def4ee9be126f7bc700/expr.png\" style=\"display:inline;vertical-align:middle;\" /></a></span></td></tr><tr><td>8</td><td>axiom</td><td></td><td><span style=\"font-size:20px;\"> &#x22A2;&nbsp;<a class=\"ProveItLink\" href=\"../__pv_it/5f79a6271d13dd64521e97a5f603a863aa4a788b0/expr.ipynb\"><img src=\"../__pv_it/5f79a6271d13dd64521e97a5f603a863aa4a788b0/expr.png\" style=\"display:inline;vertical-align:middle;\" /></a></span></td></tr>\n",
       "<tr><td>&nbsp;</td><td colspan=4 style-\"text-align:left\"><a class=\"ProveItLink\" href=\"../_axioms_.ipynb#leftInBool\">proveit.logic.boolean.conjunction.leftInBool</a></td></tr><tr><td>9</td><td>axiom</td><td></td><td><span style=\"font-size:20px;\"> &#x22A2;&nbsp;<a class=\"ProveItLink\" href=\"../__pv_it/bbe8097dab65a1d1000643b5420c479491eb779b0/expr.ipynb\"><img src=\"../__pv_it/bbe8097dab65a1d1000643b5420c479491eb779b0/expr.png\" style=\"display:inline;vertical-align:middle;\" /></a></span></td></tr>\n",
       "<tr><td>&nbsp;</td><td colspan=4 style-\"text-align:left\"><a class=\"ProveItLink\" href=\"../_axioms_.ipynb#rightInBool\">proveit.logic.boolean.conjunction.rightInBool</a></td></tr><tr><td>10</td><td>specialization</td><td>16, 17</td><td><span style=\"font-size:20px;\"><a class=\"ProveItLink\" href=\"../__pv_it/0d13935015c66a2b9783567dc85beb267ce5b6c30/expr.ipynb\"><img src=\"../__pv_it/0d13935015c66a2b9783567dc85beb267ce5b6c30/expr.png\" style=\"display:inline;vertical-align:middle;\" /></a> &#x22A2;&nbsp;<a class=\"ProveItLink\" href=\"../__pv_it/da1cf8740e92cbd1709295d007b862182ae19c1f0/expr.ipynb\"><img src=\"../__pv_it/da1cf8740e92cbd1709295d007b862182ae19c1f0/expr.png\" style=\"display:inline;vertical-align:middle;\" /></a></span></td></tr>\n",
       "<tr><td>&nbsp;</td><td colspan=4 style=\"text-align:left\"><span style=\"font-size:20px;\"><a class=\"ProveItLink\" href=\"../__pv_it/a48c27523e6eb6dfea852cc16db347d8f07b35e40/expr.ipynb\"><img src=\"../__pv_it/a48c27523e6eb6dfea852cc16db347d8f07b35e40/expr.png\" style=\"display:inline;vertical-align:middle;\" /></a></span></td></tr><tr><td>11</td><td>hypothetical reasoning</td><td>19</td><td><span style=\"font-size:20px;\"> &#x22A2;&nbsp;<a class=\"ProveItLink\" href=\"../__pv_it/bbb62ae2a51ead8cc45233ce81178457e0ca68b80/expr.ipynb\"><img src=\"../__pv_it/bbb62ae2a51ead8cc45233ce81178457e0ca68b80/expr.png\" style=\"display:inline;vertical-align:middle;\" /></a></span></td></tr>\n",
       "<tr><td>12</td><td>specialization</td><td>20, 18</td><td><span style=\"font-size:20px;\"> &#x22A2;&nbsp;<a class=\"ProveItLink\" href=\"../__pv_it/15161d7c629aa375a373b53ec8f80c92cae817180/expr.ipynb\"><img src=\"../__pv_it/15161d7c629aa375a373b53ec8f80c92cae817180/expr.png\" style=\"display:inline;vertical-align:middle;\" /></a></span></td></tr>\n",
       "<tr><td>&nbsp;</td><td colspan=4 style=\"text-align:left\"><span style=\"font-size:20px;\"><a class=\"ProveItLink\" href=\"../__pv_it/8154507c32c4e06bdad5f5f0e36339d67525a24a0/expr.ipynb\"><img src=\"../__pv_it/8154507c32c4e06bdad5f5f0e36339d67525a24a0/expr.png\" style=\"display:inline;vertical-align:middle;\" /></a>, <a class=\"ProveItLink\" href=\"../__pv_it/8533b456eacfd956bf1b9015d7dab194deffcfa40/expr.ipynb\"><img src=\"../__pv_it/8533b456eacfd956bf1b9015d7dab194deffcfa40/expr.png\" style=\"display:inline;vertical-align:middle;\" /></a></span></td></tr><tr><td>13</td><td>theorem</td><td></td><td><span style=\"font-size:20px;\"> &#x22A2;&nbsp;<a class=\"ProveItLink\" href=\"../../__pv_it/aee6960d17505c798b9d1f24ff6ef5d96fac5a9a0/expr.ipynb\"><img src=\"../../__pv_it/aee6960d17505c798b9d1f24ff6ef5d96fac5a9a0/expr.png\" style=\"display:inline;vertical-align:middle;\" /></a></span></td></tr>\n",
       "<tr><td>&nbsp;</td><td colspan=4 style-\"text-align:left\"><a class=\"ProveItLink\" href=\"../../_proofs_/foldForallOverBool.ipynb\">proveit.logic.boolean.foldForallOverBool</a></td></tr><tr><td>14</td><td>hypothetical reasoning</td><td>19</td><td><span style=\"font-size:20px;\"> &#x22A2;&nbsp;<a class=\"ProveItLink\" href=\"../__pv_it/2f9631c64abc94a068dfc300a74fe4a06a4633370/expr.ipynb\"><img src=\"../__pv_it/2f9631c64abc94a068dfc300a74fe4a06a4633370/expr.png\" style=\"display:inline;vertical-align:middle;\" /></a></span></td></tr>\n",
       "<tr><td>15</td><td>specialization</td><td>20, 21</td><td><span style=\"font-size:20px;\"> &#x22A2;&nbsp;<a class=\"ProveItLink\" href=\"../__pv_it/39e4d9e6ba9cc7fa92b1d7770528ba990efab84a0/expr.ipynb\"><img src=\"../__pv_it/39e4d9e6ba9cc7fa92b1d7770528ba990efab84a0/expr.png\" style=\"display:inline;vertical-align:middle;\" /></a></span></td></tr>\n",
       "<tr><td>&nbsp;</td><td colspan=4 style=\"text-align:left\"><span style=\"font-size:20px;\"><a class=\"ProveItLink\" href=\"../__pv_it/5247f78efe689641823d831907f284bb455bdaaa0/expr.ipynb\"><img src=\"../__pv_it/5247f78efe689641823d831907f284bb455bdaaa0/expr.png\" style=\"display:inline;vertical-align:middle;\" /></a>, <a class=\"ProveItLink\" href=\"../__pv_it/8533b456eacfd956bf1b9015d7dab194deffcfa40/expr.ipynb\"><img src=\"../__pv_it/8533b456eacfd956bf1b9015d7dab194deffcfa40/expr.png\" style=\"display:inline;vertical-align:middle;\" /></a></span></td></tr><tr><td>16</td><td>theorem</td><td></td><td><span style=\"font-size:20px;\"> &#x22A2;&nbsp;<a class=\"ProveItLink\" href=\"../../__pv_it/1d8cf37f5c705c7f67ba9cbc584342aedfb4c1440/expr.ipynb\"><img src=\"../../__pv_it/1d8cf37f5c705c7f67ba9cbc584342aedfb4c1440/expr.png\" style=\"display:inline;vertical-align:middle;\" /></a></span></td></tr>\n",
       "<tr><td>&nbsp;</td><td colspan=4 style-\"text-align:left\"><a class=\"ProveItLink\" href=\"../../_proofs_/inBoolIfTrue.ipynb\">proveit.logic.boolean.inBoolIfTrue</a></td></tr><tr><td>17</td><td>assumption</td><td></td><td><span style=\"font-size:20px;\"><a class=\"ProveItLink\" href=\"../__pv_it/0d13935015c66a2b9783567dc85beb267ce5b6c30/expr.ipynb\"><img src=\"../__pv_it/0d13935015c66a2b9783567dc85beb267ce5b6c30/expr.png\" style=\"display:inline;vertical-align:middle;\" /></a> &#x22A2;&nbsp;<a class=\"ProveItLink\" href=\"../__pv_it/edf5921e70ecbc490c6ad683c7c61276640c86b60/expr.ipynb\"><img src=\"../__pv_it/edf5921e70ecbc490c6ad683c7c61276640c86b60/expr.png\" style=\"display:inline;vertical-align:middle;\" /></a></span></td></tr>\n",
       "<tr><td>18</td><td>theorem</td><td></td><td><span style=\"font-size:20px;\"> &#x22A2;&nbsp;<a class=\"ProveItLink\" href=\"../__pv_it/7f2fc15a9f23e5089f6bb79aeb43e3459be023490/expr.ipynb\"><img src=\"../__pv_it/7f2fc15a9f23e5089f6bb79aeb43e3459be023490/expr.png\" style=\"display:inline;vertical-align:middle;\" /></a></span></td></tr>\n",
       "<tr><td>&nbsp;</td><td colspan=4 style-\"text-align:left\"><a class=\"ProveItLink\" href=\"trueAndFalseNegated.ipynb\">proveit.logic.boolean.conjunction.trueAndFalseNegated</a></td></tr><tr><td>19</td><td>axiom</td><td></td><td><span style=\"font-size:20px;\"> &#x22A2;&nbsp;<a class=\"ProveItLink\" href=\"../../__pv_it/68a87cc3370287d726c7086ace789e680e4461c30/expr.ipynb\"><img src=\"../../__pv_it/68a87cc3370287d726c7086ace789e680e4461c30/expr.png\" style=\"display:inline;vertical-align:middle;\" /></a></span></td></tr>\n",
       "<tr><td>&nbsp;</td><td colspan=4 style-\"text-align:left\"><a class=\"ProveItLink\" href=\"../../_axioms_.ipynb#trueAxiom\">proveit.logic.boolean.trueAxiom</a></td></tr><tr><td>20</td><td>theorem</td><td></td><td><span style=\"font-size:20px;\"> &#x22A2;&nbsp;<a class=\"ProveItLink\" href=\"../../implication/__pv_it/e437b35081782bf2ed2787967e9c068b053b29620/expr.ipynb\"><img src=\"../../implication/__pv_it/e437b35081782bf2ed2787967e9c068b053b29620/expr.png\" style=\"display:inline;vertical-align:middle;\" /></a></span></td></tr>\n",
       "<tr><td>&nbsp;</td><td colspan=4 style-\"text-align:left\"><a class=\"ProveItLink\" href=\"../../implication/_proofs_/falseAntecedentImplication.ipynb\">proveit.logic.boolean.implication.falseAntecedentImplication</a></td></tr><tr><td>21</td><td>theorem</td><td></td><td><span style=\"font-size:20px;\"> &#x22A2;&nbsp;<a class=\"ProveItLink\" href=\"../__pv_it/99f89db8ce399898d7e20ab5de2549e20139671f0/expr.ipynb\"><img src=\"../__pv_it/99f89db8ce399898d7e20ab5de2549e20139671f0/expr.png\" style=\"display:inline;vertical-align:middle;\" /></a></span></td></tr>\n",
       "<tr><td>&nbsp;</td><td colspan=4 style-\"text-align:left\"><a class=\"ProveItLink\" href=\"falseAndFalseNegated.ipynb\">proveit.logic.boolean.conjunction.falseAndFalseNegated</a></td></tr></table>"
      ],
      "text/plain": [
       "\tstep type\trequirements\tstatement\n",
       "0\tgeneralizaton\t1\t|= forall_{A, B | A and B} B\n",
       "1\tmodus ponens\t2, 17\t{A and B} |= B\n",
       "2\tspecialization\t3, 4, 5\t{A and B} |= (A and B) => B\n",
       "\t{A -> A}, {B -> B}\n",
       "3\tspecialization\t13, 6, 7\t|= forall_{A, B in BOOLEANS} ((A and B) => B)\n",
       "\tP -> [A -> [forall_{B in BOOLEANS} ((A and B) => B)]]\n",
       "4\tspecialization\t8, 10\t{A and B} |= A in BOOLEANS\n",
       "\t{A -> A}, {B -> B}\n",
       "5\tspecialization\t9, 10\t{A and B} |= B in BOOLEANS\n",
       "\t{A -> A}, {B -> B}\n",
       "6\tspecialization\t13, 11, 12\t|= forall_{B in BOOLEANS} ((TRUE and B) => B)\n",
       "\t{P -> [B -> ((TRUE and B) => B)]}, relabeling {A -> B}\n",
       "7\tspecialization\t13, 14, 15\t|= forall_{B in BOOLEANS} ((FALSE and B) => B)\n",
       "\t{P -> [B -> ((FALSE and B) => B)]}, relabeling {A -> B}\n",
       "8\taxiom\t\t|= forall_{A, B | (A and B) in BOOLEANS} (A in BOOLEANS)\n",
       "\tproveit.logic.boolean.conjunction.leftInBool\n",
       "9\taxiom\t\t|= forall_{A, B | (A and B) in BOOLEANS} (B in BOOLEANS)\n",
       "\tproveit.logic.boolean.conjunction.rightInBool\n",
       "10\tspecialization\t16, 17\t{A and B} |= (A and B) in BOOLEANS\n",
       "\tA -> (A and B)\n",
       "11\thypothetical reasoning\t19\t|= (TRUE and TRUE) => TRUE\n",
       "12\tspecialization\t20, 18\t|= (TRUE and FALSE) => FALSE\n",
       "\t{A -> (TRUE and FALSE)}, {B -> FALSE}\n",
       "13\ttheorem\t\t|= forall_{P | P(TRUE) , P(FALSE)} [forall_{A in BOOLEANS} P(A)]\n",
       "\tproveit.logic.boolean.foldForallOverBool\n",
       "14\thypothetical reasoning\t19\t|= (FALSE and TRUE) => TRUE\n",
       "15\tspecialization\t20, 21\t|= (FALSE and FALSE) => FALSE\n",
       "\t{A -> (FALSE and FALSE)}, {B -> FALSE}\n",
       "16\ttheorem\t\t|= forall_{A | A} (A in BOOLEANS)\n",
       "\tproveit.logic.boolean.inBoolIfTrue\n",
       "17\tassumption\t\t{A and B} |= A and B\n",
       "18\ttheorem\t\t|= [not](TRUE and FALSE)\n",
       "\tproveit.logic.boolean.conjunction.trueAndFalseNegated\n",
       "19\taxiom\t\t|= TRUE\n",
       "\tproveit.logic.boolean.trueAxiom\n",
       "20\ttheorem\t\t|= forall_{A, B | [not](A)} (A => B)\n",
       "\tproveit.logic.boolean.implication.falseAntecedentImplication\n",
       "21\ttheorem\t\t|= [not](FALSE and FALSE)\n",
       "\tproveit.logic.boolean.conjunction.falseAndFalseNegated"
      ]
     },
     "execution_count": 16,
     "metadata": {},
     "output_type": "execute_result"
    }
   ],
   "source": [
    "%qed"
   ]
  }
 ],
 "metadata": {
  "kernelspec": {
   "display_name": "Python 3",
   "language": "python",
   "name": "python3"
  },
  "language_info": {
   "codemirror_mode": {
    "name": "ipython",
    "version": 3
   },
   "file_extension": ".py",
   "mimetype": "text/x-python",
   "name": "python",
   "nbconvert_exporter": "python",
   "pygments_lexer": "ipython3",
   "version": "3.7.1"
  }
 },
 "nbformat": 4,
 "nbformat_minor": 1
}
