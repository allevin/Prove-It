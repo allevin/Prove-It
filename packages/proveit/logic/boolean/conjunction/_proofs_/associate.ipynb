{
 "cells": [
  {
   "cell_type": "markdown",
   "metadata": {},
   "source": [
    "Proof of <a class=\"ProveItLink\" href=\"../../../../_context_.ipynb\">proveit</a>.<a class=\"ProveItLink\" href=\"../../../_context_.ipynb\">logic</a>.<a class=\"ProveItLink\" href=\"../../_context_.ipynb\">boolean</a>.<a class=\"ProveItLink\" href=\"../_context_.ipynb\">conjunction</a>.<a class=\"ProveItLink\" href=\"../_theorems_.ipynb#associate\">associate</a> theorem\n",
    "========"
   ]
  },
  {
   "cell_type": "code",
   "execution_count": 1,
   "metadata": {},
   "outputs": [],
   "source": [
    "import proveit\n",
    "context = proveit.Context('..') # the theorem's context is in the parent directory"
   ]
  },
  {
   "cell_type": "code",
   "execution_count": 2,
   "metadata": {},
   "outputs": [
    {
     "name": "stdout",
     "output_type": "stream",
     "text": [
      "Beginning proof of associate\n",
      "Recorded 'presuming' information\n",
      "Presuming previous theorems (applied transitively).\n"
     ]
    },
    {
     "data": {
      "text/html": [
       "<strong id=\"associate\">associate:</strong> <a class=\"ProveItLink\" href=\"../__pv_it/5bb27c32bb1602a217dc28cae1f6013fb7561d490/expr.ipynb\"><img src=\"data:image/png;base64,iVBORw0KGgoAAAANSUhEUgAAA5cAAAAZBAMAAABX6cfjAAAAMFBMVEX///8QEBC6urrMzMxUVFRm\n",
       "ZmZERETc3NwyMjKqqqp2dnaIiIiYmJgiIiLu7u4AAAAU9Wx4AAAAAXRSTlMAQObYZgAACO1JREFU\n",
       "aN7tWnuIXNUZ/+ax87xzZ8dtlbQ1k6UtLYSYCTVriZRdEqhQqTuttaC2ZlScIDFm/hA3GJvdFqxt\n",
       "aTMDJSBIyQhJNaC4UppWDOxImrSNYsb6CLauO6ESQ5smOzZqjLu5Pd953XPuPXcebUCX5sDexznf\n",
       "73fO/X7nfOcxC9B72jJbgUvpk5pWzdb7MW9e8tgnOcXHoNWPmPaS/dKV7DZa6xNnAoSnAbY6JH2q\n",
       "0DuRB2Ct8Fl8ca59nTXWO6NiT9mImHS4vdCjmBmKnF56Wka4k+bqfQJNgKvJn11dfvqdrf/uncgL\n",
       "uNEXJs/90X5+a+++1exvZGLuw+edPYqZwn6aaC09MXmbU47a8+MBH7LDfdQAIp96yykBTL5nBJnJ\n",
       "PICEpzzlEN+GnUI3QtFo3T7BxLwfb6UexaSG9y/BKPscD5qOOu8nimbjh5QoqwJ4fhpHQ8Qh18mz\n",
       "RpCRzAuw6nr50+/itdqVUDRat0c2Iib22YFaj2LSTnnzEhRzObv9zJlXMkfeMofkLe6IVQEiP4S3\n",
       "NI6JowtGkJHMC7AHtfKkQ0X6bldC3miPPbIRMa3HJyZ+0PNq9sjExMQSXNSGp5hDm/kLSu7654zG\n",
       "0ZVy4tIAIv/LeIk5OKFOmUBmMi8A7tbKQw7d9j3blZA32mt/NxUT3i+X/9qzmNlyeUt96Yk5wNo8\n",
       "Wai+qyxJpjJG45PuHkwDiPxb8JI9B/DVs0aQmcwLgL1a+e73g1uhraN4o732e5mYGwA29SxmtACx\n",
       "JXhykGjQ212wcUFZ3DTM08uT7kSiAUT+z+lk2v7JL9o1I8hM5gXAI1r5+EJwK9QkGu21f4SJ+QWi\n",
       "NtjjrZ7EDI+RLkMD14eMO9/OLbJ4cDj3+nYax+UOanXHqVgrfczJ5f8WZKlU4iZZnSlZt1+56bfK\n",
       "e4i2yRqEGVxOjrDMDMSnzJ+5TdAwwNsXtPzL8HKUfP8JMtgiJS8ogEwAZBrWyqti09KFUDS66tkV\n",
       "DTMxM5Am/XZV0AbtoW/DM7e5J0BNOMDcc563sQgJ2kmGP9cK5+kAkEvjfMeArJVaxGfVRpCprERp\n",
       "vKzONEXmXoJhFZClYp6pwWoSndZ+k2W+QKOSvyNMY/wBBRBuavk08I5fwI1BPfKdphcUQMYBykJZ\n",
       "K5+jHSZc6UYoGi3sFTYUM93ItEQE96R/3vQ9OJxqpVqumAeAraa+xWP2xgaksLcnF4nRTEUVcyAv\n",
       "ZdVUreulKfpGXP90MchYVOIClOoMgN2kjekPfGKO53LOIrn/imW+xbb/vr7fkkcMHJAqavlUzDyG\n",
       "KbIJTTa9oAAyAdDFlOVVumoOVboRikZLe11Me+pqMRF4UvqOHafhxemiKuZJVkX4jTY/IalAAiPu\n",
       "GRz2a0AVc9XuQTG831TH+pt66ddwfGWI66u1IGNRiQtQqvMDbNwFRAbVMIvUyaHTpycdKWaSSJQw\n",
       "zP+7yN/DzIID2Iwr85fhzhx3BimydeS+d0EBZBKgh1lZPkPD5h7oQigbLe31MAub1pML9mPr1pV7\n",
       "0vsL/AngEFod/OV2VczYfbSTZ77ksEzyrRtxMGzESP53Tcy/TIplfeyk0h7+IkvvRWR2HgbOBxqL\n",
       "SlyAUp0fMIBTk60GqRjKcZwomsEVPRMTfZKkYw6/xBYP1IW7qIUAZCta/j3oIDx/mVyUvpeFtkbo\n",
       "5guA6+M/aeXHMdKlp/yEksvWGi3smVKUjYq5q8n78anVjcwYPbrFpwLQmfZg6tQ6Rczk9/lK2KGi\n",
       "htvl25fRKOL2ORE+i1kSkKKIXWcpsxt7oaUREg8i9RdxNXR5OUe+9gajsayEjT0E8OrM7KGPfEso\n",
       "8v3xr9PdXk2IOSI+ycbQe6bJH+gChC7/JWANaPk4I0WJxqfyx4Tv3ULJgw9KvgC4Pt6rVzb309aD\n",
       "r4GP0OWiF9loYc+UklsTCBHHpBG84/eQLdAJAp8qEToYDkJ9jyImfJbWtRyq1J3p83zQUG1bqphr\n",
       "WomPIPIY9up7QVk2shdaCncSb7XwXHGmjiNz3RVGY1kJG2UIYNUFsGMn0n/gwSWM41wgLnVICGZi\n",
       "rhfHfPbl2NNL/CG6QpzYScB+0PLJWjGLP4G075G+dwslDz64+RLg+vhHGo4swJ3XKn5Cl4teZKOF\n",
       "PVWKsVExLaJBjBJeTzphosaehiHyerm8mYj54L9UMV+iUZasDOjcGSN+W41zMT3xHVTFfDmXJ3vk\n",
       "DKkpUoQ/uwOLvbBSAlgLFqlx6wqyOgA4ZjSWldBEAbw6M3sW55OQNjSvUF+YmCyy+FfCoG2vMG3W\n",
       "80PqRMt8bwAFkQkf0+M8Q3lnQn+jr6eTLz/O4yuEr+B1CPbDZJg93RS2x9jIDF+rigl84j1K30LE\n",
       "xzM4MMZJqItOK2KmxsBaZGKSYBhzj6noCyvFc/sbKCBP+uE5KqbBmFVi3Xxg/aEaB/DqzOzRBfqR\n",
       "hx79g8w/4hez9zSk7xGsus/3/ZBxH6cCfuzqlxCVYmxSzDNp2FaJzxMXHE6xp6HPw3VMTDjiFZNE\n",
       "WRidJ3YwOQXJdiH+MBz/ECJ3qXPmGrK2dpiYa4lStfhO2NYiF/rCS4lbyFCCZyFOhNw9RMU0GLNK\n",
       "kvvhsnCRA3h1ZnY7X4ORIjxaCnl/AvuvxLTnPX7f+T/4XvgYTsJFEZMpRdmkmNF9MNoIl+AVGHmc\n",
       "Pd3SgBNkUId/vAKi4BFz7ixY+XZttJHIL87mboPIAthPtV8tKGJmSBh+3llG3Y3LmlLkAxitkAt9\n",
       "4aVkZsAlTAx+6My+/OkWFdNvzCuBDXYzVeMAXp2ZHf4xd+UGPHp0z1Diyp7tgeqt/QnwDc9J1n2K\n",
       "L594r7+f6oWP2UgxiNMnIVOKsqnfCA3f06/Lmz3HeXqSCEvNLWm7ZuJunGPkPKO+ZE5BHFshrY91\n",
       "MIZmspixdEBndjhwlWTefhFPeuMX4V8t0oWL2CDGpooZqfiffGez+lGftLsmSMzIM/s6/ZjxO/39\n",
       "2s90OM21S6la7Dd6Azqyn4AjDfg/SqqYFhjHWQcxLcOg9o7MS+ljEbN7mu3t/2bHLvn140irZsf+\n",
       "A1sfkF4huuIzAAAAAElFTkSuQmCC\n",
       "\" style=\"display:inline;vertical-align:middle;\" /></a><br>(see <a class=\"ProveItLink\" href=\"../__pv_it/5bb27c32bb1602a217dc28cae1f6013fb7561d490/dependencies.ipynb\">dependencies</a>)<br>"
      ],
      "text/plain": [
       "associate: forall_{l, m, n in Naturals} [forall_{A, B, C | A_1 and  ...  and A_l and B_1 and  ...  and B_m and C_1 and  ...  and C_n} (A_1 and  ...  and A_l and (B_1 and  ...  and B_m) and C_1 and  ...  and C_n)]"
      ]
     },
     "execution_count": 2,
     "metadata": {},
     "output_type": "execute_result"
    }
   ],
   "source": [
    "%proving associate presuming []"
   ]
  },
  {
   "cell_type": "code",
   "execution_count": null,
   "metadata": {},
   "outputs": [],
   "source": []
  }
 ],
 "metadata": {
  "kernelspec": {
   "display_name": "Python 3",
   "language": "python",
   "name": "python3"
  }
 },
 "nbformat": 4,
 "nbformat_minor": 0
}
