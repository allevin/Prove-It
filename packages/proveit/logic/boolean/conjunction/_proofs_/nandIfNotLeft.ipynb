{
 "cells": [
  {
   "cell_type": "markdown",
   "metadata": {},
   "source": [
    "Proof of <a class=\"ProveItLink\" href=\"../../../../_context_.ipynb\">proveit</a>.<a class=\"ProveItLink\" href=\"../../../_context_.ipynb\">logic</a>.<a class=\"ProveItLink\" href=\"../../_context_.ipynb\">boolean</a>.<a class=\"ProveItLink\" href=\"../_context_.ipynb\">conjunction</a>.<a class=\"ProveItLink\" href=\"../_theorems_.ipynb#nandIfNotLeft\">nandIfNotLeft</a> theorem\n",
    "========"
   ]
  },
  {
   "cell_type": "code",
   "execution_count": 1,
   "metadata": {},
   "outputs": [],
   "source": [
    "import proveit\n",
    "from proveit import defaults\n",
    "from proveit._common_ import A, B\n",
    "from proveit.logic import Not, TRUE, FALSE\n",
    "from proveit.logic.boolean._theorems_ import foldForallOverBool\n",
    "from proveit.logic.boolean.conjunction._theorems_ import nandIfRightButNotLeft, nandIfNeither, falseAndFalseNegated, falseAndTrueNegated, nandIfNotRight\n",
    "context = proveit.Context('..') # the theorem's context is in the parent directory"
   ]
  },
  {
   "cell_type": "code",
   "execution_count": 2,
   "metadata": {},
   "outputs": [
    {
     "name": "stdout",
     "output_type": "stream",
     "text": [
      "Beginning proof of nandIfNotLeft\n",
      "Recorded 'presuming' information\n"
     ]
    },
    {
     "name": "stdout",
     "output_type": "stream",
     "text": [
      "Presuming proveit.logic.boolean.foldForallOverBool theorem (applied transitively).\n",
      "Presuming previous theorems (applied transitively).\n"
     ]
    },
    {
     "data": {
      "text/html": [
       "<strong id=\"nandIfNotLeft\">nandIfNotLeft:</strong> <a class=\"ProveItLink\" href=\"../__pv_it/246fb8da221cb6f97e48b9101f02598bef443c590/expr.ipynb\"><img src=\"data:image/png;base64,iVBORw0KGgoAAAANSUhEUgAAANkAAAAXBAMAAAB0cveBAAAAMFBMVEX///8QEBC6urrMzMxUVFRm\n",
       "ZmZERETc3NwyMjKqqqp2dnaIiIiYmJgiIiLu7u4AAAAU9Wx4AAAAAXRSTlMAQObYZgAAAy1JREFU\n",
       "SMe9VU1oE0EUfslms2l2sw0e/LlIDoJC/YlQEBRp0CAFD61ILIrFVjDtodo9FKuIkov2IppLPOei\n",
       "RpSyqPXSQ1cRqRUxgr1IhQgVvFRLTWv9a515b7adJKZiUB+8nXkzb+bb+ea9NwD/VQq1L/XaktGw\n",
       "ousjoXluPKsJrVHqKzFq8mU+jxfj8e4IqFFAvcXHrtSEJq8KEEeBaWFfcCdWM5gZgBSgnmaN1lEL\n",
       "mC4TOUzN8wVhX3TP/I1pEWAMUPlPqela0Dzyla/Hr5b5LEBOikmdDRhfAd4CqnGzv/98TURukgMm\n",
       "RXvrM2T7GsTB/WGAEPsVf5p0Lpl8XRPaEamvZrHZWved7PcgwqU+Btolds5gK+legC6cGMDvtdnE\n",
       "vmjZvpESK2BRe1kec/jXjPBr4nIHDlOnaf9wO5+rS5FuABNpMIgEIwx6mDxHc7mj2CkNohcCfBU7\n",
       "0hsu7FweHPOCNktzeThDnRELzFd8KkwaAh1/7B2RoMbAy27WHEo4etC8G6lAM4851JmRUq0e/Rrj\n",
       "8Tn6ZRt8RFAnR2QLlGlS3Qlh/AyO43TIBpVx/mDjh4IehEGnAi041VoNjX3W0iYFN92LnIzsMpqZ\n",
       "wpqg2Emc/hiFUQsMvqMe9A4VKtB2+YW5TkLz8ByqY/oShzJuGCicsJb0MpPQtQdjFtrRcdvw/VPs\n",
       "1jGe1QMTlfcWU0W49Uhofs7BWaZXlwIu46abNs+5TZFCBlc/hRF0zAE8LMBOdA3CQXsJLZhMJrvZ\n",
       "krQuqtN1Fz9KwY3B1svJUPiCkJtu23mFczMAPHxHczyBjnCCkZmG3Wxrm6FlsyVn8wNMJQ6J6rRF\n",
       "zu48aJ3zFjxZ5CXLFxGFTe0txpsxUwIRUjA4impBE0bRF0ZmFCbF2SrR2kD5JCqXJcGtKXmKKrNU\n",
       "VC4hm1lcOdoAaAugseD0WYTWZpehedkFiXphZKXdxn5TeG4LRZmcA61lgkVQbjbRzELIPI7ZfaOn\n",
       "NEoUs6UD+n44VV+casLvlIqIJMZyVrF7WzKqPEh9Ul+LrYjGufJZZYM7fu1bBU2TH7hzK6LdE1oi\n",
       "zh+h/SOJ/a2NfgI39NOLom9JpgAAAABJRU5ErkJggg==\n",
       "\" style=\"display:inline;vertical-align:middle;\" /></a><br>(see <a class=\"ProveItLink\" href=\"../__pv_it/246fb8da221cb6f97e48b9101f02598bef443c590/dependencies.ipynb\">dependencies</a>)<br>"
      ],
      "text/plain": [
       "nandIfNotLeft: forall_{A, B in BOOLEANS | [not](A)} [not](A and B)"
      ]
     },
     "execution_count": 2,
     "metadata": {},
     "output_type": "execute_result"
    }
   ],
   "source": [
    "%proving nandIfNotLeft presuming [foldForallOverBool]"
   ]
  },
  {
   "cell_type": "code",
   "execution_count": 3,
   "metadata": {},
   "outputs": [
    {
     "data": {
      "text/html": [
       "<strong id=\"defaults.assumptions\">defaults.assumptions:</strong> <a class=\"ProveItLink\" href=\"../__pv_it/de249e32db5f6c3e8f29ae2de92632bbdfd9d3800/expr.ipynb\"><img src=\"data:image/png;base64,iVBORw0KGgoAAAANSUhEUgAAAKsAAAAVBAMAAADLBgMvAAAAMFBMVEX////c3NwiIiJERESqqqqY\n",
       "mJh2dnZmZmYQEBDu7u4yMjJUVFTMzMyIiIi6uroAAAAs73DqAAAAAXRSTlMAQObYZgAAAhlJREFU\n",
       "OMtjYKAR4LtAbRPjQMRpCPsQqhTbeqtfTSaYWuDKWPf/3r15HVY97AeAnJUQsfVo+pn5LsyaloBh\n",
       "LEIZhwEDQ/0DrHoWMDDwQsKAVX8ChrG8Dxagm4qk7DxQ4/kNWPWEAS2FqBOpF4BIzV2kpAVVwhKw\n",
       "E91YuDIGhvtAVnwCVj0zGBheQRRduA/xD8/SCQibHxqgGwtTBgQWQKwxAaseZgeGMkhymOAfAGYI\n",
       "T0B46FDwBPRUA1MGBL8ZGKQssethK2BYChaYBw4qIDBEhJPS/150x8KVAZ34++51VQbselgWMPSB\n",
       "BR4wyBeAaE4D5OC/AuGxK4FAApIyIOD9yMAwaQN2PXwNDP/AVu/evR8sydcENAAW/AwGzxAO5dmA\n",
       "pAwk3wA0+it2PTwfIMbyAVPEAphmuM0MBsyoxsKVAQE/kM/6DbseoLEtIL4DAwNTA9hDCviMhSsD\n",
       "JVtg3HF/wa4HGAimQC4jUD3XB7DMVhQlzxg4kYyFKZsAS7byC7DqYWBdwJAO5M4CCf0Ey0x6gFDC\n",
       "WmvAMB/ulAMwZZyfoMmWp2sCVj2gBPYImO76FzKw2v8CxzHj8gOwYuOzxhZghvkIDwaYMs5+oEOL\n",
       "/+/evQqahtH1MHA9YOAQQE2aLLsgsQoDD7EUpWhaMPQAMy9rAv7CMwBTiJVQgZuLKBipaCwnKCal\n",
       "8SrhxSJGqDrhBgUSI9UrnTsMDAAMKbbhsWZ2VAAAAABJRU5ErkJggg==\n",
       "\" style=\"display:inline;vertical-align:middle;\" /></a><br>"
      ],
      "text/plain": [
       "defaults.assumptions: (A in BOOLEANS , [not](A) , B in BOOLEANS)"
      ]
     },
     "execution_count": 3,
     "metadata": {},
     "output_type": "execute_result"
    }
   ],
   "source": [
    "defaults.assumptions = nandIfNotLeft.allConditions()"
   ]
  },
  {
   "cell_type": "code",
   "execution_count": 4,
   "metadata": {},
   "outputs": [
    {
     "data": {
      "text/html": [
       "<span style=\"font-size:20px;\"> <a class=\"ProveItLink\" href=\"nandIfRightButNotLeft.ipynb\" style=\"text-decoration: none\">&#x22A2;&nbsp;</a><a class=\"ProveItLink\" href=\"../__pv_it/d0569cc6bbb5356494003b40b073257ea35f9a6b0/expr.ipynb\"><img src=\"data:image/png;base64,iVBORw0KGgoAAAANSUhEUgAAANYAAAAXBAMAAACFeawMAAAAMFBMVEX///8QEBC6urrMzMxUVFRm\n",
       "ZmZERETc3NwyMjKqqqp2dnaIiIiYmJgiIiLu7u4AAAAU9Wx4AAAAAXRSTlMAQObYZgAAAupJREFU\n",
       "SMe9Vk1oE0EYfZu/jWaTBi/qRSN4EKo0B6EnSdBQvaUgERRK48EUQdscxFZEGwoSD6K5VLyZi1pR\n",
       "JKCecsjqqerBeMhFKkZR6EUs0h+VUv3m291kshtzWNSBZL753s68nbdvvl3gP7am65n9Uuyp9Lry\n",
       "Of20GFAXg1cuqLxJabDf6A7YrtHSy6mhGfjjFB8F7ovcdRdcQVkRc4Eb5vCylVeywGgMBXE9cJ46\n",
       "NeuCqyrFIUNC7b3Jf8UCEgQkkngpwDLfnr/kgmuHFCsGx4XRvCHvWWvPNUq8LuMDhZEotHuTk5dc\n",
       "UHkK0mCP0VVqMe59/ZZVTtLvTRMBsZnTwGou99YFl78sDU4Y9M3bOgeLhuOoLQNT48DmYYrvAIeA\n",
       "Mc4X+f/mSmYozjM717ahCOoSeI3/P/LjofYQx02vLlefLlC/SYhwC9iNCMuhfTOebxShqAgCne61\n",
       "oVBIrpF31IQoWzgVw/QwB3VMmZ5ZA77Q2fCIObuAMEJ8i5/XDW2S8Kw5uewo+mLS0eIb8aZSaTa0\n",
       "VoHP2HyAOEI007skPEmxHmbXPGowHK7AX3dy2dEuXCS6wgrReuZB76NO+9nmihT40HsrOYa/xjGf\n",
       "d3A5UCgliWu7CCgRZn1nW483QYr5frQ1xNhB9ilGGB6oPhmHg8uBIqBLXGdEQSCu4JJlo9nW8Zqm\n",
       "vWpiv/MizaK8QI3hOeBZs811N5fLFbqgho15y4adyeg0Z0MkxEMLW8fLu63Z9jwUYdRIIzPBi5wi\n",
       "oUqd+8p2QeGpS9veR7VuZxHaxHda1BezqtaxX6nUVbH/oEjNCNuIVfx5JNg7pO5A3M7lRIGtco3K\n",
       "yxXFPABSM2uU2faSaXS1CHUDagN2LicKrqet01fuXWQeCNGtuvVpFWp6wbuOuZXMkZKNK94F7f5O\n",
       "+UPjYrFof7dJccAxResYqfK78lxPLp+Q+LAtOdiTa7BzeFEm7vkN8FiYJW5L6j259H/20eP76yv+\n",
       "BsgCyxFaw+qZAAAAAElFTkSuQmCC\n",
       "\" style=\"display:inline;vertical-align:middle;\" /></a></span>"
      ],
      "text/plain": [
       "|- forall_{A, B | [not](A) , B} [not](A and B)"
      ]
     },
     "execution_count": 4,
     "metadata": {},
     "output_type": "execute_result"
    }
   ],
   "source": [
    "nandIfRightButNotLeft"
   ]
  },
  {
   "cell_type": "code",
   "execution_count": 5,
   "metadata": {},
   "outputs": [
    {
     "data": {
      "text/html": [
       "<span style=\"font-size:20px;\"> <a class=\"ProveItLink\" href=\"nandIfNeither.ipynb\" style=\"text-decoration: none\">&#x22A2;&nbsp;</a><a class=\"ProveItLink\" href=\"../__pv_it/6c6cf740054e4cfdcd9e1ff7416524b0580365fa0/expr.ipynb\"><img src=\"data:image/png;base64,iVBORw0KGgoAAAANSUhEUgAAAOEAAAAXBAMAAAAPVjVNAAAAMFBMVEX///8QEBC6urrMzMxUVFRm\n",
       "ZmZERETc3NwyMjKqqqp2dnaIiIiYmJgiIiLu7u4AAAAU9Wx4AAAAAXRSTlMAQObYZgAAAvdJREFU\n",
       "SMe9Vj1oU1EU/pq/lzYvaXAQXGoGB0ElEYROkqKhFByaoRkUihUxdVCTQVodat+iQZA2S13NolYU\n",
       "eaJbh0Zx8Gcwg138wSgK3Sz9t5Xqvefc17zkJRki9cDpu989757vvvOXAv9dyv923GU2Ag55obQk\n",
       "wduWGY/UAUdr3nn5J5E4H4E3BtIHcm+iZcaJOmBSwWvW/m5BtQgYIB0RD22oVcKA6QT6F5Wp62rf\n",
       "vSl0GXgDUr8we/OtMraVneDq6SwTXVTGwJq4xgbwFaT6/dHRsZaDur8OMGcj9PQcUAHwhYFgl3jm\n",
       "WVfT6Q8tM55yAlf5TpEW81yVQGcPtBviezuSrMeBYTLk6O/tlVRvjE5W+85Vlu2Z1MBZXt6yv8Lg\n",
       "G+L8bY9wkvfjJ2YG5SXaDdZ9CBmU8EXOexiBMMWiilBZWZ4DT3i1SxTBZykFBkIiGE/SooQr/NJs\n",
       "FqH38hvCrEEEKAo/fpPZ2wPXmpNRWVkGgChXh3UPd48F3IlEP5W+bsJDwcIZySo43AusgWKQaurx\n",
       "HJmDJrwlJ6OysnwEBtGAUSSjjWImvNIuIBoD7woVxpBBo8Jtpsn8M4ZXWQejZSUJLUFXad1jZyQg\n",
       "ajFIWZmyku+W4enPV6KK4WNUy+ra0Zlnl+BgtKxcjZszvarVLtgZJdCEZ/+CVWpTVjtq6zLOBium\n",
       "KIivMUtnp0VhlCuM99LptLFtZdRhQO9iprvWLWIKzMuTW/IOMplBqx0PywFodQfaZDGH5lIZIjon\n",
       "Apuv/sahipWQL4nQLwaH7IEQYGRvDnpmXbj1RNTc82aWE33UOP4IK3Tpy5tFnCpLuIrGahm3rYQ6\n",
       "83AtqcGWtU85O3CpVrGJmnJKDorRUNRy0LagzaGW0bIyGi9jLKnatGDv2ULzAfVQKcn3VWj9n0RV\n",
       "Ta+k+vI1jLFtK6GOydTAzWa/Vg1EDhoeNvZb2tY+xxG9jpvLDYFDPFnWKuluythdx41mNgIOeaq0\n",
       "SopNGYs7/C+XZ4f8/gVy985Qn0xZwQAAAABJRU5ErkJggg==\n",
       "\" style=\"display:inline;vertical-align:middle;\" /></a></span>"
      ],
      "text/plain": [
       "|- forall_{A, B | [not](A) , [not](B)} [not](A and B)"
      ]
     },
     "execution_count": 5,
     "metadata": {},
     "output_type": "execute_result"
    }
   ],
   "source": [
    "nandIfNeither"
   ]
  },
  {
   "cell_type": "code",
   "execution_count": 6,
   "metadata": {},
   "outputs": [
    {
     "data": {
      "text/html": [
       "<span style=\"font-size:20px;\"><a class=\"ProveItLink\" href=\"../__pv_it/edd8455a49d47780786b5faa6e783100cb7d31cc0/expr.ipynb\"><img src=\"data:image/png;base64,iVBORw0KGgoAAAANSUhEUgAAADAAAAAVBAMAAADyTXAxAAAAMFBMVEX///9ERETc3NyqqqpUVFS6\n",
       "urrMzMwyMjIQEBCIiIh2dnYiIiLu7u5mZmaYmJgAAABJJ2g3AAAAAXRSTlMAQObYZgAAALxJREFU\n",
       "KM9jYGDgu8eABrIWgUieXQwYIMMASHB+QBFj2wAkeAuABFcDigT7B5gYmsTrP9glmGw/YZfg5PyK\n",
       "XSKG+R9MDOwCGOAJYPsJpPhALsgIYGC4vRsIQP5hZWD6C1JQy8CQ0gZTnQLCLi4fQWzGOgaGiAQk\n",
       "CaDudhAbpJulACHBDKR2wOzg2oCQUAZS9RjOZWPgAWmWP4DhDyaJ7woMD//XYg8rMMAvwYdFAhwa\n",
       "PDuxxGAAiORbjC3OAaHOM6CzgdAAAAAAAElFTkSuQmCC\n",
       "\" style=\"display:inline;vertical-align:middle;\" /></a> <a class=\"ProveItLink\" href=\"../__pv_it/c8795eb17f70066c76a068817e5d4223a37985b30/proof.ipynb\" style=\"text-decoration: none\">&#x22A2;&nbsp;</a><a class=\"ProveItLink\" href=\"../__pv_it/707a21232f28154aafaf8af6f79000ba870517b90/expr.ipynb\"><img src=\"data:image/png;base64,iVBORw0KGgoAAAANSUhEUgAAAFUAAAAVBAMAAADFg78FAAAAMFBMVEX////c3NxERESqqqqYmJgQ\n",
       "EBDu7u4yMjKIiIi6urpUVFTMzMx2dnYiIiJmZmYAAABjE816AAAAAXRSTlMAQObYZgAAASpJREFU\n",
       "KM9jYCALcDbgk/VE4e2CUHtR1by9CwKXGPg2IIuWQah6KFcMLrEPTBYgKeWAOIHlfgKEX4em1gdJ\n",
       "LStEjfB7ATDNrZuAqjYVSe10CNXQPwFMc81oQFXLZIBQ+wYSGAn2DmBGOsMFVLU8DxBqS8BkJsN+\n",
       "iHlHGB6jqmUugITJHSA7EiwygUEeov8CgziqWs4ARND+BPto1ar1CuDgaGDg2oCilvsDmlpOYHiA\n",
       "A5I3gYF7AU61wSAG0K+8YLvsgLgQpxtUgJgRqJYdrL8Qqh6hlgUacdxAfA4cUMBw/AYSADmaF2eY\n",
       "zWVgEIovZGDR/w4U5JqAiHWGPWCSfQJSHAsgp09oACIB5DhmOYA/eZ/AkiZxADbkNMkghVctF7IT\n",
       "GRjx5qFuBgYAeaBK7lMne+UAAAAASUVORK5CYII=\n",
       "\" style=\"display:inline;vertical-align:middle;\" /></a></span>"
      ],
      "text/plain": [
       "{[not](A)} |- [not](A and TRUE)"
      ]
     },
     "execution_count": 6,
     "metadata": {},
     "output_type": "execute_result"
    }
   ],
   "source": [
    "nandIfRightButNotLeft.specialize({B:TRUE})"
   ]
  },
  {
   "cell_type": "code",
   "execution_count": 7,
   "metadata": {},
   "outputs": [
    {
     "data": {
      "text/html": [
       "<span style=\"font-size:20px;\"><a class=\"ProveItLink\" href=\"../__pv_it/edd8455a49d47780786b5faa6e783100cb7d31cc0/expr.ipynb\"><img src=\"data:image/png;base64,iVBORw0KGgoAAAANSUhEUgAAADAAAAAVBAMAAADyTXAxAAAAMFBMVEX///9ERETc3NyqqqpUVFS6\n",
       "urrMzMwyMjIQEBCIiIh2dnYiIiLu7u5mZmaYmJgAAABJJ2g3AAAAAXRSTlMAQObYZgAAALxJREFU\n",
       "KM9jYGDgu8eABrIWgUieXQwYIMMASHB+QBFj2wAkeAuABFcDigT7B5gYmsTrP9glmGw/YZfg5PyK\n",
       "XSKG+R9MDOwCGOAJYPsJpPhALsgIYGC4vRsIQP5hZWD6C1JQy8CQ0gZTnQLCLi4fQWzGOgaGiAQk\n",
       "CaDudhAbpJulACHBDKR2wOzg2oCQUAZS9RjOZWPgAWmWP4DhDyaJ7woMD//XYg8rMMAvwYdFAhwa\n",
       "PDuxxGAAiORbjC3OAaHOM6CzgdAAAAAAAElFTkSuQmCC\n",
       "\" style=\"display:inline;vertical-align:middle;\" /></a> <a class=\"ProveItLink\" href=\"../__pv_it/9f53d958496243b348922344fab345738bac9cc50/proof.ipynb\" style=\"text-decoration: none\">&#x22A2;&nbsp;</a><a class=\"ProveItLink\" href=\"../__pv_it/d5a1e01250324b0396aeb39e8f5d46c16680080a0/expr.ipynb\"><img src=\"data:image/png;base64,iVBORw0KGgoAAAANSUhEUgAAAFUAAAAVBAMAAADFg78FAAAAMFBMVEX////c3NxERESqqqqYmJgQ\n",
       "EBDu7u4yMjKIiIi6urpUVFTMzMx2dnYiIiJmZmYAAABjE816AAAAAXRSTlMAQObYZgAAAS5JREFU\n",
       "KM9jYCALcDbgk/VE4e2CUHsxlEmACL4NyEJlEKoeyhWDS+wDkwVISjkgTmC5nwDh16Gp9UFSywpR\n",
       "I/xeAExz6yagqk1FUjsdQjX0TwDTXDMaUNUyGSDUvoEERoK9A5iRznABVS3PA4TaEjCZybAfYt4R\n",
       "hseoapkLGN7eBYI7QHYkWGQCgzxE/wUGcVS1nAGIoP0J9tGqVesVwMHRwMC1AUUt9wc0tZzA8AAH\n",
       "JG8CA/cCnGqDQQygX3nBdtkBcSFON6gAMSNQLTtYfyFUPUItCzTiuIH4HDiggOH4DSQAcjQvzjCb\n",
       "y8AgFF/IwKL/HSjINQEW68Bwunr37iWgfROQ4lgAOX1CAxAJIMcxywH8yfsEljSJA7Ahp0kGKbxq\n",
       "uZCdyMCINw91MzAAAIl+SkIiPhAhAAAAAElFTkSuQmCC\n",
       "\" style=\"display:inline;vertical-align:middle;\" /></a></span>"
      ],
      "text/plain": [
       "{[not](A)} |- [not](A and FALSE)"
      ]
     },
     "execution_count": 7,
     "metadata": {},
     "output_type": "execute_result"
    }
   ],
   "source": [
    "nandIfNeither.specialize({B:FALSE})"
   ]
  },
  {
   "cell_type": "code",
   "execution_count": 8,
   "metadata": {},
   "outputs": [],
   "source": [
    "#%qed"
   ]
  },
  {
   "cell_type": "code",
   "execution_count": null,
   "metadata": {},
   "outputs": [],
   "source": []
  }
 ],
 "metadata": {
  "kernelspec": {
   "display_name": "Python 3",
   "language": "python",
   "name": "python3"
  }
 },
 "nbformat": 4,
 "nbformat_minor": 0
}
