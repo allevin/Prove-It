{
 "cells": [
  {
   "cell_type": "markdown",
   "metadata": {},
   "source": [
    "Proof of <a class=\"ProveItLink\" href=\"../../../../_context_.ipynb\">proveit</a>.<a class=\"ProveItLink\" href=\"../../../_context_.ipynb\">logic</a>.<a class=\"ProveItLink\" href=\"../../_context_.ipynb\">boolean</a>.<a class=\"ProveItLink\" href=\"../_context_.ipynb\">conjunction</a>.<a class=\"ProveItLink\" href=\"../_theorems_.ipynb#nandIfLeftButNotRight\">nandIfLeftButNotRight</a> theorem\n",
    "========"
   ]
  },
  {
   "cell_type": "code",
   "execution_count": 1,
   "metadata": {},
   "outputs": [],
   "source": [
    "import proveit\n",
    "from proveit._common_ import A, B\n",
    "from proveit import defaults\n",
    "from proveit.logic.boolean.conjunction._theorems_ import trueAndFalseNegated\n",
    "from proveit.logic.boolean.conjunction._axioms_ import andTF\n",
    "from proveit.logic.boolean.negation._axioms_ import negationIntro\n",
    "context = proveit.Context('..') # the theorem's context is in the parent directory"
   ]
  },
  {
   "cell_type": "code",
   "execution_count": 2,
   "metadata": {},
   "outputs": [
    {
     "name": "stdout",
     "output_type": "stream",
     "text": [
      "Beginning proof of nandIfLeftButNotRight\n",
      "Recorded 'presuming' information\n",
      "Presuming previous theorems (applied transitively).\n"
     ]
    },
    {
     "data": {
      "text/html": [
       "<strong id=\"nandIfLeftButNotRight\">nandIfLeftButNotRight:</strong> <a class=\"ProveItLink\" href=\"../__pv_it/40045ea1b0d5838ab2d85b085249b014729edc2c0/expr.ipynb\"><img src=\"data:image/png;base64,iVBORw0KGgoAAAANSUhEUgAAANYAAAAXBAMAAACFeawMAAAAMFBMVEX///8QEBC6urrMzMxUVFRm\n",
       "ZmZERETc3NwyMjKqqqp2dnaIiIiYmJgiIiLu7u4AAAAU9Wx4AAAAAXRSTlMAQObYZgAAAxxJREFU\n",
       "SMe9Vk1oE1EQ/pLNn80mLV7Ui67gQajSHAQPIgkaqrcWJBWF0nowVdA2h2Iroi0FqQfRXCrezEWs\n",
       "KBJQTz109VT10HjoRSpGUeilWLQ/KrU6b/ZviG0Oi/ogebPz7c733rxvZhf4j6Pq+8lmYQfL9e58\n",
       "Tj/dACrq4pUPKi0jLvZZ08Gae/S2xWzrCMIpso8B95Xvhg+umMyIHeCmfXnF8Qe6gS4Dw+p+4AJN\n",
       "0W4fXBPCjlsp1N/Z/FcdIE1AOoOXCizx8sJFH1zbhR2wOC52Faz0nnf2PEmO6RLek5lsgn5vYOCy\n",
       "D6rgsLjYbU3lSYPnULMjlVP0e11FRG3mLLCcz7/xwRUuiYuTFn31jsnGnKU4GovAYC/Q0E72XeAw\n",
       "0MP+Uf6/tZRrTfGTrggKXlAXRcwUXNf5/wMfD42HOGFrdXHi6SzNm1QSbgO7kOR06F+s821CvEkZ\n",
       "ESfQtCFE7KAIkLfzLQ2VlM3sMjDUzkYFg7ZmVoB5qo2gemYnkECcl/hp1cpNBsEVyZXsEjtwUTQa\n",
       "orR4mVo228aC1ssIWZuPEEec4moLSpNkmwlWzaMZhhNlhCuSq2G+3eNy0XW4KOkBzhDFswu9kSb9\n",
       "h8eVHOai18p5hj+nMFWQXAciovpcFIGi4NqmDHIkOL9j7uGnKSWh714O0XOIdYpOhlsmnvRCcmXC\n",
       "FY/LRRExBdc51RCIK7bgiGzMLa8h2quu9jul3BzrBSYZHgeeVQWXXoyrAA35fP6MQC0Zc0IsOZPQ\n",
       "6Zk15VB5SDjlpW2teppHQAk1OZPr4yCnKVFFwTWf61izo0YEiqDYLfZSr9sxCr3vGwUNGU7X6viV\n",
       "zV5T+48p14haueIIF5Bm7VB2W1KC6zi0rx6XiwJbZI8qyI5iF4AYdo+yxx4SjRkdRXQN0RlxXkFa\n",
       "1ioGbbV4KLifumVXqt9kHqikO33r4zKibbPaKsaXckeLHleSKqb/p5k2rZPx0PXfKRsMbhZzte82\n",
       "YUckYP4ZICrflf11uUIqLUdqnPs34NIK60S4JInrfgM8VmJJ1TjNDbj0f/zRE/rrEX8DLp7KEuso\n",
       "EPoAAAAASUVORK5CYII=\n",
       "\" style=\"display:inline;vertical-align:middle;\" /></a><br>(see <a class=\"ProveItLink\" href=\"../__pv_it/40045ea1b0d5838ab2d85b085249b014729edc2c0/dependencies.ipynb\">dependencies</a>)<br>"
      ],
      "text/plain": [
       "nandIfLeftButNotRight: forall_{A, B | A , [not](B)} [not](A and B)"
      ]
     },
     "execution_count": 2,
     "metadata": {},
     "output_type": "execute_result"
    }
   ],
   "source": [
    "%proving nandIfLeftButNotRight presuming []"
   ]
  },
  {
   "cell_type": "code",
   "execution_count": 3,
   "metadata": {},
   "outputs": [
    {
     "data": {
      "text/html": [
       "<strong id=\"defaults.assumptions\">defaults.assumptions:</strong> <a class=\"ProveItLink\" href=\"../__pv_it/5e68d7c274e461ce273f7542d0fe3ddbf39a254e0/expr.ipynb\"><img src=\"data:image/png;base64,iVBORw0KGgoAAAANSUhEUgAAAEMAAAAVBAMAAADvM06qAAAAMFBMVEX////c3NwiIiJERESqqqqY\n",
       "mJh2dnZmZmYQEBDu7u4yMjJUVFTMzMyIiIi6uroAAAAs73DqAAAAAXRSTlMAQObYZgAAAUpJREFU\n",
       "KM9jYCAC8F3AJxsHIk5D2IfQ5Fj3/969eR0D+wEgeyVEaD26fg4DBob6BwwLGBh4Ifaw6k9AU3Ie\n",
       "KHF+A0MYUDFESqReAE3JfaBAfALDDAaGVxCBC/cfoCmxAGKNCQzMDgxlEG9N8A9AU/KbgUHKkoGB\n",
       "rYBhKZg/D2w1MuD5ffe6KpBmWcDQBxZ4wCBfAJEqUgICNaA3PjIwTNoANL+B4R9Yy+7d+w2QjACG\n",
       "FXMDUNlXoNQHiBI+oM8WoCrhB5rA+g2spAUk5MDAwNSAquQ80PncX8AWmQJFGIFKuD4wMExAUgIK\n",
       "FnmgyawLGNKBIrOAmPknA+cnuHfAwcLTNQHs6UcMDML9CxlY7X8VcPYjQrj4/+7dq0BBxfWAgQMp\n",
       "4PkEMFMDMAJYE5ASAJYEk4tIDDiUcILCQhrBx5L+uEF2M+JNmHcYGADtDFGeUCocqwAAAABJRU5E\n",
       "rkJggg==\n",
       "\" style=\"display:inline;vertical-align:middle;\" /></a><br>"
      ],
      "text/plain": [
       "defaults.assumptions: (A , [not](B))"
      ]
     },
     "execution_count": 3,
     "metadata": {},
     "output_type": "execute_result"
    }
   ],
   "source": [
    "defaults.assumptions = nandIfLeftButNotRight.allConditions()"
   ]
  },
  {
   "cell_type": "code",
   "execution_count": 4,
   "metadata": {},
   "outputs": [
    {
     "data": {
      "text/html": [
       "<strong id=\"AeqT\">AeqT:</strong> <span style=\"font-size:20px;\"><a class=\"ProveItLink\" href=\"../__pv_it/2700633c29669936275e69317ebd77c3a6285b9c0/expr.ipynb\"><img src=\"data:image/png;base64,iVBORw0KGgoAAAANSUhEUgAAACIAAAAVBAMAAADRFiHkAAAAMFBMVEX///9ERETc3NyqqqpUVFS6\n",
       "urrMzMwyMjIQEBCIiIh2dnYiIiLu7u5mZmaYmJgAAABJJ2g3AAAAAXRSTlMAQObYZgAAAK1JREFU\n",
       "GNNjYGDgu8cAA1mLQCTPLgYEyDAAEpwfIBy2DUCCtwBIcDVARNg/wDgwkdd/0ESYbD+hiXByfkUT\n",
       "iWH+B+OAjWfgCWD7CaT4QMZnBIBEWBmY/oLoWgaGlDawphQXl48gmrGOgSEiAcQCKmwH0SAPsIDM\n",
       "YQbiHTBzuECuVwbiemTbeUDq5A8gRJgkviswPPxfi+YvMMAhwocsAvYAz07kMAR7gG8xSjgDAMfT\n",
       "LYlEWPTfAAAAAElFTkSuQmCC\n",
       "\" style=\"display:inline;vertical-align:middle;\" /></a> <a class=\"ProveItLink\" href=\"../__pv_it/4a79dd766f2afb760bf7a57f476e5c1c97c338a30/proof.ipynb\" style=\"text-decoration: none\">&#x22A2;&nbsp;</a><a class=\"ProveItLink\" href=\"../__pv_it/ec719ecb7e05ad71b54bd77b8aee02497d0e685c0/expr.ipynb\"><img src=\"data:image/png;base64,iVBORw0KGgoAAAANSUhEUgAAADoAAAAOBAMAAACMfhKgAAAAMFBMVEX///92dnYQEBBERERUVFS6\n",
       "urqIiIhmZmaqqqrc3Nzu7u6YmJgyMjIiIiLMzMwAAACFkkdwAAAAAXRSTlMAQObYZgAAAHhJREFU\n",
       "GNNjYACBtwxooPYuCFyGcM4zYILnMAb3/QV4ZGfUT8Ajm5AfgFuWdUH/BtyySxneJ4DomjMgcARN\n",
       "NoBhfgFOvXwuLv4GOGVZGRiYDuCUbWBg4FXACCCoLCdQlucDLr1rgJj5Fw7ZyfonGbjt/2A6+iEQ\n",
       "AwC2mTBvG4O8rwAAAABJRU5ErkJggg==\n",
       "\" style=\"display:inline;vertical-align:middle;\" /></a></span><br>"
      ],
      "text/plain": [
       "AeqT: {A} |- A = TRUE"
      ]
     },
     "execution_count": 4,
     "metadata": {},
     "output_type": "execute_result"
    }
   ],
   "source": [
    "AeqT = A.evaluation([A])"
   ]
  },
  {
   "cell_type": "code",
   "execution_count": 5,
   "metadata": {},
   "outputs": [
    {
     "data": {
      "text/html": [
       "<strong id=\"BeqF\">BeqF:</strong> <span style=\"font-size:20px;\"><a class=\"ProveItLink\" href=\"../__pv_it/b22b15039733798321461907c74328825d8427750/expr.ipynb\"><img src=\"data:image/png;base64,iVBORw0KGgoAAAANSUhEUgAAADEAAAAVBAMAAAAdjxsPAAAAMFBMVEX////c3NxERESqqqpUVFS6\n",
       "urrMzMwyMjIQEBCIiIh2dnYiIiLu7u5mZmaYmJgAAABXZE4RAAAAAXRSTlMAQObYZgAAAN1JREFU\n",
       "KM9jYGDgu8eABthWCYAonl0MGICtGURyfkCI8Pl/cXEqBTKug3hcDUiKORQYGO4HMDCswJDJnwDE\n",
       "Dthk5gOtfr8Am4wGEO84gE3mCwODuA4DVIa3AMm1X2bO3QdivAcRGUCn3N4NBEB/cX5kYDgNdAAD\n",
       "+wUGhpQ2mIYUBgYmoMmc/0Ac9QcMDBEJCBl+oHq+X0A2N9B9DCwFCJl8oEqWzzB7uDYgZEDekS9g\n",
       "QHc1G9g7bO0HGDD9c+m/i0v5AwYGbD6FAQIyfNhkwPHDsxNLnLZCInIx1nQAAJmFPcGxt9K+AAAA\n",
       "AElFTkSuQmCC\n",
       "\" style=\"display:inline;vertical-align:middle;\" /></a> <a class=\"ProveItLink\" href=\"../__pv_it/9c13fe0ca2e30ca19f2965616eab0b5dfb0d693e0/proof.ipynb\" style=\"text-decoration: none\">&#x22A2;&nbsp;</a><a class=\"ProveItLink\" href=\"../__pv_it/a7f268d0300524d11cd147935bf2f1176ea177a30/expr.ipynb\"><img src=\"data:image/png;base64,iVBORw0KGgoAAAANSUhEUgAAADwAAAAOBAMAAACBYGLnAAAAMFBMVEX///+qqqru7u4iIiJ2dnbc\n",
       "3NyIiIjMzMxmZmYQEBC6uroyMjJERERUVFSYmJgAAADLUcuvAAAAAXRSTlMAQObYZgAAAI1JREFU\n",
       "GNNjYGB4+//u3dMLGDBAGJSew8DA8QtTugJCsX8D4r84pdm+MjDwfcEpzTOBgYF5Ek5p/gsMrHsU\n",
       "cErXX0trfgBmde8Ggb2o0vkBDEy2DDh1nwQpeYBTGuSn9w64pNn/AYn7AiBmszEI2KBIg7zN+hun\n",
       "3SBvV27CJc1x/u/d2/sw5ID2WALtAQABMC5m6XxmHQAAAABJRU5ErkJggg==\n",
       "\" style=\"display:inline;vertical-align:middle;\" /></a></span><br>"
      ],
      "text/plain": [
       "BeqF: {[not](B)} |- B = FALSE"
      ]
     },
     "execution_count": 5,
     "metadata": {},
     "output_type": "execute_result"
    }
   ],
   "source": [
    "BeqF = B.evaluation()"
   ]
  },
  {
   "cell_type": "code",
   "execution_count": 6,
   "metadata": {},
   "outputs": [
    {
     "data": {
      "text/html": [
       "<span style=\"font-size:20px;\"> <a class=\"ProveItLink\" href=\"trueAndFalseNegated.ipynb\" style=\"text-decoration: none\">&#x22A2;&nbsp;</a><a class=\"ProveItLink\" href=\"../__pv_it/1974163b78c4e2feb8497da9c7e3ab41b1215f5f0/expr.ipynb\"><img src=\"data:image/png;base64,iVBORw0KGgoAAAANSUhEUgAAAFYAAAAVBAMAAAAutAQGAAAAMFBMVEX////c3NxERESqqqqYmJgQ\n",
       "EBDu7u4yMjKIiIi6urpUVFTMzMx2dnYiIiJmZmYAAABjE816AAAAAXRSTlMAQObYZgAAAPZJREFU\n",
       "KM9jYCAPzMAnyTIBmce9gOHtXRC4hKaMsQFEvkYWYk8AkfvgKhLghjwASyOr7WBAUcv+AFUtywEk\n",
       "tWGoajddQ1XLFoBQylmAqnZlB6paBmWEWr4DKGrZCnjR1J5D8poDiloeBz4DVLXmkGC6A2SyTkBR\n",
       "y8vAWICqdiqEtwuI+VHVejAwrEZVux+n2msQUexqWQ2Q1TID5dkFcLmBCcVvIHXMD1DUukN5II8/\n",
       "QFa7CURcwBVmnBCZPdCYgMU6HzCYYu/eVWBgqESK40DkxAH2KCeyCHIcM/jgT908DRhpEidIR0nS\n",
       "C/CqXYjCk8CnlGMDAwCLNUoXqiDatAAAAABJRU5ErkJggg==\n",
       "\" style=\"display:inline;vertical-align:middle;\" /></a></span>"
      ],
      "text/plain": [
       "|- [not](TRUE and FALSE)"
      ]
     },
     "execution_count": 6,
     "metadata": {},
     "output_type": "execute_result"
    }
   ],
   "source": [
    "trueAndFalseNegated"
   ]
  },
  {
   "cell_type": "code",
   "execution_count": 7,
   "metadata": {},
   "outputs": [
    {
     "data": {
      "text/html": [
       "<strong id=\"AnandF\">AnandF:</strong> <span style=\"font-size:20px;\"><a class=\"ProveItLink\" href=\"../__pv_it/2700633c29669936275e69317ebd77c3a6285b9c0/expr.ipynb\"><img src=\"data:image/png;base64,iVBORw0KGgoAAAANSUhEUgAAACIAAAAVBAMAAADRFiHkAAAAMFBMVEX///9ERETc3NyqqqpUVFS6\n",
       "urrMzMwyMjIQEBCIiIh2dnYiIiLu7u5mZmaYmJgAAABJJ2g3AAAAAXRSTlMAQObYZgAAAK1JREFU\n",
       "GNNjYGDgu8cAA1mLQCTPLgYEyDAAEpwfIBy2DUCCtwBIcDVARNg/wDgwkdd/0ESYbD+hiXByfkUT\n",
       "iWH+B+OAjWfgCWD7CaT4QMZnBIBEWBmY/oLoWgaGlDawphQXl48gmrGOgSEiAcQCKmwH0SAPsIDM\n",
       "YQbiHTBzuECuVwbiemTbeUDq5A8gRJgkviswPPxfi+YvMMAhwocsAvYAz07kMAR7gG8xSjgDAMfT\n",
       "LYlEWPTfAAAAAElFTkSuQmCC\n",
       "\" style=\"display:inline;vertical-align:middle;\" /></a> <a class=\"ProveItLink\" href=\"../__pv_it/763da8c91d72daf204eacc028a788bcfe972573d0/proof.ipynb\" style=\"text-decoration: none\">&#x22A2;&nbsp;</a><a class=\"ProveItLink\" href=\"../__pv_it/d5a1e01250324b0396aeb39e8f5d46c16680080a0/expr.ipynb\"><img src=\"data:image/png;base64,iVBORw0KGgoAAAANSUhEUgAAAFUAAAAVBAMAAADFg78FAAAAMFBMVEX////c3NxERESqqqqYmJgQ\n",
       "EBDu7u4yMjKIiIi6urpUVFTMzMx2dnYiIiJmZmYAAABjE816AAAAAXRSTlMAQObYZgAAAS5JREFU\n",
       "KM9jYCALcDbgk/VE4e2CUHsxlEmACL4NyEJlEKoeyhWDS+wDkwVISjkgTmC5nwDh16Gp9UFSywpR\n",
       "I/xeAExz6yagqk1FUjsdQjX0TwDTXDMaUNUyGSDUvoEERoK9A5iRznABVS3PA4TaEjCZybAfYt4R\n",
       "hseoapkLGN7eBYI7QHYkWGQCgzxE/wUGcVS1nAGIoP0J9tGqVesVwMHRwMC1AUUt9wc0tZzA8AAH\n",
       "JG8CA/cCnGqDQQygX3nBdtkBcSFON6gAMSNQLTtYfyFUPUItCzTiuIH4HDiggOH4DSQAcjQvzjCb\n",
       "y8AgFF/IwKL/HSjINQEW68Bwunr37iWgfROQ4lgAOX1CAxAJIMcxywH8yfsEljSJA7Ahp0kGKbxq\n",
       "uZCdyMCINw91MzAAAIl+SkIiPhAhAAAAAElFTkSuQmCC\n",
       "\" style=\"display:inline;vertical-align:middle;\" /></a></span><br>"
      ],
      "text/plain": [
       "AnandF: {A} |- [not](A and FALSE)"
      ]
     },
     "execution_count": 7,
     "metadata": {},
     "output_type": "execute_result"
    }
   ],
   "source": [
    "AnandF = AeqT.subLeftSideInto(trueAndFalseNegated)"
   ]
  },
  {
   "cell_type": "code",
   "execution_count": 8,
   "metadata": {},
   "outputs": [
    {
     "data": {
      "text/html": [
       "<span style=\"font-size:20px;\"><a class=\"ProveItLink\" href=\"../__pv_it/74f196fc80191c533e74432d24e0bc97b24bea910/expr.ipynb\"><img src=\"data:image/png;base64,iVBORw0KGgoAAAANSUhEUgAAAEkAAAAVBAMAAAD4Ed5jAAAAMFBMVEX///9ERETc3NyqqqpUVFS6\n",
       "urrMzMwyMjIQEBCIiIh2dnYiIiLu7u5mZmaYmJgAAABJJ2g3AAAAAXRSTlMAQObYZgAAATRJREFU\n",
       "KM9jYGDgu8eAB7CtUgBRPLsY8AK2ZhDJ+QHK24Am/eS/i4t4AAPDdRCHqwEiyP4B3ZRGBgberwwM\n",
       "K5BVvf6DbtVPIP6CqorJ9hOaKk6gAN8vVFWcnF/RVDECJbh7UFXFMP9DU8XvwMBUeACqircAHB4B\n",
       "IGeggHzPmbcfAOn3IE5GAIhkZWD6C5Hk3Q0CCxgY5isw8GwBef4CA0NKG1guxcXlI7L/HBgYJID0\n",
       "fJBh4kAiIgEkDDSwHU3VF5BtQDO5gZiBBeQuZiDegaqKDeQbfwOou7hAMaMMxPVAPyCpAgUX03cG\n",
       "pJDgAZknf4DhPDwuE8DBlVGDpIpJ4rsCw8P/tQwnEOHPK//Fxb2OgQEtHsEgCEvSwVT1AJcqPkKq\n",
       "wOmLZydSMsCWVlvBFN9igukeAD8XVRsTY8XvAAAAAElFTkSuQmCC\n",
       "\" style=\"display:inline;vertical-align:middle;\" /></a> <a class=\"ProveItLink\" href=\"../__pv_it/4787b8e205f93b4ccd7fb1a358e4e222b6eebeab0/proof.ipynb\" style=\"text-decoration: none\">&#x22A2;&nbsp;</a><a class=\"ProveItLink\" href=\"../__pv_it/901fc5ac00a73e9ce3fba7bedaf6642fd77d807b0/expr.ipynb\"><img src=\"data:image/png;base64,iVBORw0KGgoAAAANSUhEUgAAAFYAAAAVBAMAAAAutAQGAAAAMFBMVEX////c3NxERESqqqqYmJgQ\n",
       "EBDu7u4yMjKIiIi6urpUVFTMzMx2dnYiIiJmZmYAAABjE816AAAAAXRSTlMAQObYZgAAAXRJREFU\n",
       "KM9jYCAPzMAnyTIBmce9AEJdQFO0/teqRZUMDK+RBdkTINQHCJcxASrOqsDA8H4CAzuy2g4I5fsN\n",
       "qvUBVHx/AxAvYGA5gKQ2DGKc3UcId9M1qHi/AAOD/wEGtgCEUs4CMMXB8RPCXwm1h0EViK8CHaSM\n",
       "UMsHsWMa8xcwzVbAC5X4xcAgrgakzyF5zQGsZAL3DzCXx4HPABIuvzr6roAY5gxv7wLBHZB3wQHI\n",
       "ycD4D6yEl4ER6iig+3NBwTkVYuYuIOYHq921atUnsJAHA8NqMIMJ6CcOkLv2o6sFEuFgoWsQUaA4\n",
       "0EyWP6hqWUHOYwb5GSTCDAxddgFw8AL9wfUZ1Q1MIL8JA3E92KcCEPWQ4JUHOd0dmhRAHn8ACigg\n",
       "Qx8UuZtAwhegwcsdnoAaZpwXGBhVvwswOP2vA8UELNYf/V+1qhwcnJVIcRyInDigAYgEkOOYwQd/\n",
       "6uZpwEyTuEA6ModxAV61C1F4EviUcmxgAADgOliiO22GuAAAAABJRU5ErkJggg==\n",
       "\" style=\"display:inline;vertical-align:middle;\" /></a></span>"
      ],
      "text/plain": [
       "{A , [not](B)} |- [not](A and B)"
      ]
     },
     "execution_count": 8,
     "metadata": {},
     "output_type": "execute_result"
    }
   ],
   "source": [
    "BeqF.subLeftSideInto(AnandF)"
   ]
  },
  {
   "cell_type": "code",
   "execution_count": 9,
   "metadata": {},
   "outputs": [
    {
     "data": {
      "text/html": [
       "<table><tr><th>&nbsp;</th><th>step type</th><th>requirements</th><th>statement</th></tr>\n",
       "<tr><td>0</td><td>generalizaton</td><td>1</td><td><span style=\"font-size:20px;\"> <a class=\"ProveItLink\" href=\"../__pv_it/a2ee63ccf7440c4436efdb4f5d016d446b7d3a8b0/proof.ipynb\" style=\"text-decoration: none\">&#x22A2;&nbsp;</a><a class=\"ProveItLink\" href=\"../__pv_it/40045ea1b0d5838ab2d85b085249b014729edc2c0/expr.ipynb\"><img src=\"data:image/png;base64,iVBORw0KGgoAAAANSUhEUgAAANYAAAAXBAMAAACFeawMAAAAMFBMVEX///8QEBC6urrMzMxUVFRm\n",
       "ZmZERETc3NwyMjKqqqp2dnaIiIiYmJgiIiLu7u4AAAAU9Wx4AAAAAXRSTlMAQObYZgAAAxxJREFU\n",
       "SMe9Vk1oE1EQ/pLNn80mLV7Ui67gQajSHAQPIgkaqrcWJBWF0nowVdA2h2Iroi0FqQfRXCrezEWs\n",
       "KBJQTz109VT10HjoRSpGUeilWLQ/KrU6b/ZviG0Oi/ogebPz7c733rxvZhf4j6Pq+8lmYQfL9e58\n",
       "Tj/dACrq4pUPKi0jLvZZ08Gae/S2xWzrCMIpso8B95Xvhg+umMyIHeCmfXnF8Qe6gS4Dw+p+4AJN\n",
       "0W4fXBPCjlsp1N/Z/FcdIE1AOoOXCizx8sJFH1zbhR2wOC52Faz0nnf2PEmO6RLek5lsgn5vYOCy\n",
       "D6rgsLjYbU3lSYPnULMjlVP0e11FRG3mLLCcz7/xwRUuiYuTFn31jsnGnKU4GovAYC/Q0E72XeAw\n",
       "0MP+Uf6/tZRrTfGTrggKXlAXRcwUXNf5/wMfD42HOGFrdXHi6SzNm1QSbgO7kOR06F+s821CvEkZ\n",
       "ESfQtCFE7KAIkLfzLQ2VlM3sMjDUzkYFg7ZmVoB5qo2gemYnkECcl/hp1cpNBsEVyZXsEjtwUTQa\n",
       "orR4mVo228aC1ssIWZuPEEec4moLSpNkmwlWzaMZhhNlhCuSq2G+3eNy0XW4KOkBzhDFswu9kSb9\n",
       "h8eVHOai18p5hj+nMFWQXAciovpcFIGi4NqmDHIkOL9j7uGnKSWh714O0XOIdYpOhlsmnvRCcmXC\n",
       "FY/LRRExBdc51RCIK7bgiGzMLa8h2quu9jul3BzrBSYZHgeeVQWXXoyrAA35fP6MQC0Zc0IsOZPQ\n",
       "6Zk15VB5SDjlpW2teppHQAk1OZPr4yCnKVFFwTWf61izo0YEiqDYLfZSr9sxCr3vGwUNGU7X6viV\n",
       "zV5T+48p14haueIIF5Bm7VB2W1KC6zi0rx6XiwJbZI8qyI5iF4AYdo+yxx4SjRkdRXQN0RlxXkFa\n",
       "1ioGbbV4KLifumVXqt9kHqikO33r4zKibbPaKsaXckeLHleSKqb/p5k2rZPx0PXfKRsMbhZzte82\n",
       "YUckYP4ZICrflf11uUIqLUdqnPs34NIK60S4JInrfgM8VmJJ1TjNDbj0f/zRE/rrEX8DLp7KEuso\n",
       "EPoAAAAASUVORK5CYII=\n",
       "\" style=\"display:inline;vertical-align:middle;\" /></a></span></td></tr>\n",
       "<tr><td>1</td><td>specialization</td><td>4, 2, 3</td><td><span style=\"font-size:20px;\"><a class=\"ProveItLink\" href=\"../__pv_it/74f196fc80191c533e74432d24e0bc97b24bea910/expr.ipynb\"><img src=\"data:image/png;base64,iVBORw0KGgoAAAANSUhEUgAAAEkAAAAVBAMAAAD4Ed5jAAAAMFBMVEX///9ERETc3NyqqqpUVFS6\n",
       "urrMzMwyMjIQEBCIiIh2dnYiIiLu7u5mZmaYmJgAAABJJ2g3AAAAAXRSTlMAQObYZgAAATRJREFU\n",
       "KM9jYGDgu8eAB7CtUgBRPLsY8AK2ZhDJ+QHK24Am/eS/i4t4AAPDdRCHqwEiyP4B3ZRGBgberwwM\n",
       "K5BVvf6DbtVPIP6CqorJ9hOaKk6gAN8vVFWcnF/RVDECJbh7UFXFMP9DU8XvwMBUeACqircAHB4B\n",
       "IGeggHzPmbcfAOn3IE5GAIhkZWD6C5Hk3Q0CCxgY5isw8GwBef4CA0NKG1guxcXlI7L/HBgYJID0\n",
       "fJBh4kAiIgEkDDSwHU3VF5BtQDO5gZiBBeQuZiDegaqKDeQbfwOou7hAMaMMxPVAPyCpAgUX03cG\n",
       "pJDgAZknf4DhPDwuE8DBlVGDpIpJ4rsCw8P/tQwnEOHPK//Fxb2OgQEtHsEgCEvSwVT1AJcqPkKq\n",
       "wOmLZydSMsCWVlvBFN9igukeAD8XVRsTY8XvAAAAAElFTkSuQmCC\n",
       "\" style=\"display:inline;vertical-align:middle;\" /></a> <a class=\"ProveItLink\" href=\"../__pv_it/4787b8e205f93b4ccd7fb1a358e4e222b6eebeab0/proof.ipynb\" style=\"text-decoration: none\">&#x22A2;&nbsp;</a><a class=\"ProveItLink\" href=\"../__pv_it/901fc5ac00a73e9ce3fba7bedaf6642fd77d807b0/expr.ipynb\"><img src=\"data:image/png;base64,iVBORw0KGgoAAAANSUhEUgAAAFYAAAAVBAMAAAAutAQGAAAAMFBMVEX////c3NxERESqqqqYmJgQ\n",
       "EBDu7u4yMjKIiIi6urpUVFTMzMx2dnYiIiJmZmYAAABjE816AAAAAXRSTlMAQObYZgAAAXRJREFU\n",
       "KM9jYCAPzMAnyTIBmce9AEJdQFO0/teqRZUMDK+RBdkTINQHCJcxASrOqsDA8H4CAzuy2g4I5fsN\n",
       "qvUBVHx/AxAvYGA5gKQ2DGKc3UcId9M1qHi/AAOD/wEGtgCEUs4CMMXB8RPCXwm1h0EViK8CHaSM\n",
       "UMsHsWMa8xcwzVbAC5X4xcAgrgakzyF5zQGsZAL3DzCXx4HPABIuvzr6roAY5gxv7wLBHZB3wQHI\n",
       "ycD4D6yEl4ER6iig+3NBwTkVYuYuIOYHq921atUnsJAHA8NqMIMJ6CcOkLv2o6sFEuFgoWsQUaA4\n",
       "0EyWP6hqWUHOYwb5GSTCDAxddgFw8AL9wfUZ1Q1MIL8JA3E92KcCEPWQ4JUHOd0dmhRAHn8ACigg\n",
       "Qx8UuZtAwhegwcsdnoAaZpwXGBhVvwswOP2vA8UELNYf/V+1qhwcnJVIcRyInDigAYgEkOOYwQd/\n",
       "6uZpwEyTuEA6ModxAV61C1F4EviUcmxgAADgOliiO22GuAAAAABJRU5ErkJggg==\n",
       "\" style=\"display:inline;vertical-align:middle;\" /></a></span></td></tr>\n",
       "<tr><td>&nbsp;</td><td colspan=4 style=\"text-align:left\"><span style=\"font-size:20px;\"><a class=\"ProveItLink\" href=\"../__pv_it/fd4b0a418766985890fb332a124e981d1643d8330/expr.ipynb\"><img src=\"data:image/png;base64,iVBORw0KGgoAAAANSUhEUgAAAEkAAAAVBAMAAAD4Ed5jAAAAMFBMVEX////u7u5mZmaYmJi6urqq\n",
       "qqp2dnbMzMwQEBBEREQyMjLc3NwiIiJUVFSIiIgAAAAeC3ydAAAAAXRSTlMAQObYZgAAAR1JREFU\n",
       "KM9jYCAZsDzAJmoCJt/+v3v37AYQqxarXqYCMPWLgYGzG8RYiN2KBSCC/RsDAysQM/A9wK7KDETw\n",
       "fWFgYP4EZHAIYFclASI4PzAw8H4FMrxweIozAEjwA+2VnwBkqCEktr3d+ghuP5sCkKhPYGA/BOIt\n",
       "hitiTGA+zHEAxmMFOf/9tTQ1cEC0wFWxMfB9YC2AB2MDkJgPc/QXhFkMvBMQ1rMDHc7whwFDFdC/\n",
       "D1BVsX+C8VqRVO0vYBBAtpEPbsRkuBrmDe8Z+OCqmIGu5/wI4yXBVcUbzGDYx4AUEkLz/8Kc4AP0\n",
       "9EwgmMgg+UwszwDGYeByQA5jjg14YgjhmgTsqvJQudhTDuMCVP5erKp40RzCjTWBPWdgAADdXkSh\n",
       "Sa6TGQAAAABJRU5ErkJggg==\n",
       "\" style=\"display:inline;vertical-align:middle;\" /></a> : <a class=\"ProveItLink\" href=\"../__pv_it/37f800cf11f4a39b3e250aee2980bb22b214d6c10/expr.ipynb\"><img src=\"data:image/png;base64,iVBORw0KGgoAAAANSUhEUgAAAG0AAAAVBAMAAAC+p33JAAAAMFBMVEX////c3NxERESqqqqYmJgQ\n",
       "EBDu7u4yMjKIiIi6urpUVFTMzMx2dnYiIiJmZmYAAABjE816AAAAAXRSTlMAQObYZgAAAVtJREFU\n",
       "OMtjYKAYcDYQq9IThbcLQu0lrI9vAzKvDELVQ7lieDQWILE5IM5kuZ8A4dfh0eeDxGaFqBd+LwCm\n",
       "uXUTcOtLRWJPh1AN/RPANNcMPMHEZIBgv4EEaoK9A5iRznABWSXjiYUWL+A8ngcImRIwmcmwH2LP\n",
       "EYbHyPpyGHwdYuE85gKGt3eB4A6QHQkWmcAgDzHrAoM4sr4DDP0M1oioDkBE3U9waKxatV4BHKwN\n",
       "DFzIsZTAsAiJx/0BTR8nMFzBkcObwMC9ACUsInDoCwYxgOHEC3aDHRAXogTMbwY2rO5UAUkC9bGD\n",
       "zSqE6oUBR44PDG1wHgs0wXAD8Tlw4APj5htIAORJXoQ25i9MAYwNWONhLgODUHwhA4v+d6Ag1wRY\n",
       "yjNSAoIENo1jZ1pgHKCbJiClMwHkPAWNFCLSGcsB4rPqCSz5iAjAhpyPGKSI1sclgBJDRJcT3QwM\n",
       "AGAPSwE1BzdlAAAAAElFTkSuQmCC\n",
       "\" style=\"display:inline;vertical-align:middle;\" /></a>, <a class=\"ProveItLink\" href=\"../../../../__pv_it/530be409e3083890784cf1d7b28c9e67e90af9360/expr.ipynb\"><img src=\"data:image/png;base64,iVBORw0KGgoAAAANSUhEUgAAAAsAAAAJBAMAAAAWSsseAAAAKlBMVEX///9ERETMzMwQEBAiIiKY\n",
       "mJju7u5mZmaqqqpUVFSIiIh2dnbc3NwAAAA/vyDhAAAAAXRSTlMAQObYZgAAAENJREFUCNdjYDi9\n",
       "8sTyBQxsG1hdmR0YuBm4LnAoMLAxcAowgADzAjB1VoEhgYH1wFoGrgSG3gBhhlMMDImrs3cFMAAA\n",
       "t0YN+iTRa+sAAAAASUVORK5CYII=\n",
       "\" style=\"display:inline;vertical-align:middle;\" /></a> : <a class=\"ProveItLink\" href=\"../../../../__pv_it/077b2ff79244fb4582cbe22c6e3356fa92a52f2f0/expr.ipynb\"><img src=\"data:image/png;base64,iVBORw0KGgoAAAANSUhEUgAAABAAAAAOBAMAAADUAYG5AAAAMFBMVEX///+qqqru7u4iIiJ2dnbc\n",
       "3NyIiIjMzMxmZmYQEBC6uroyMjJERERUVFSYmJgAAADLUcuvAAAAAXRSTlMAQObYZgAAAGpJREFU\n",
       "CNdjYGB4+//u3dMLGIBgDgMDxy8gzf4NiP8CGWxfGRj4vgAZPBMYGJgnARn8FxhY9ygAGfXX0pof\n",
       "gDTlBzAw2YIYJ0EckBBI53sHoBH/gIz7AhBjWH9DjancBLTl/N+7t/cxMAAA3u4f/5xagjYAAAAA\n",
       "SUVORK5CYII=\n",
       "\" style=\"display:inline;vertical-align:middle;\" /></a>, <a class=\"ProveItLink\" href=\"../../../../__pv_it/f8b9edf8e16034727f0aad55bb83e392c3db40d40/expr.ipynb\"><img src=\"data:image/png;base64,iVBORw0KGgoAAAANSUhEUgAAAAsAAAANBAMAAACN24kIAAAAMFBMVEX///+YmJhUVFQyMjIQEBBE\n",
       "REQiIiKqqqrMzMyIiIi6urrc3NxmZmZ2dnbu7u4AAADXeCicAAAAAXRSTlMAQObYZgAAAFhJREFU\n",
       "CNdj4LtzgWH/AwZerg8M8xkY2nkSGEIZGB6wTGD4ycDAUP+A4weQOszA6QCkbBhYFYDUIYb1AkDq\n",
       "6czzGxhA4BoQMyXwuQMptgusF4AU+8xTQBIAUqMVoSp/SLMAAAAASUVORK5CYII=\n",
       "\" style=\"display:inline;vertical-align:middle;\" /></a> : <a class=\"ProveItLink\" href=\"../../__pv_it/8f1f7fac882de28c72b62ab80a1700b6d8fd066b0/expr.ipynb\"><img src=\"data:image/png;base64,iVBORw0KGgoAAAANSUhEUgAAAA4AAAAOBAMAAADtZjDiAAAAG1BMVEX///9EREQQEBAiIiJmZmbM\n",
       "zMyIiIjc3NwAAACryk5kAAAAAXRSTlMAQObYZgAAABlJREFUCNdjYGBgKGOAgBBa0s7GxkbGxoYA\n",
       "FMUF2aBfHgoAAAAASUVORK5CYII=\n",
       "\" style=\"display:inline;vertical-align:middle;\" /></a></span></td></tr><tr><td>2</td><td>specialization</td><td>4, 5, 6</td><td><span style=\"font-size:20px;\"><a class=\"ProveItLink\" href=\"../__pv_it/2700633c29669936275e69317ebd77c3a6285b9c0/expr.ipynb\"><img src=\"data:image/png;base64,iVBORw0KGgoAAAANSUhEUgAAACIAAAAVBAMAAADRFiHkAAAAMFBMVEX///9ERETc3NyqqqpUVFS6\n",
       "urrMzMwyMjIQEBCIiIh2dnYiIiLu7u5mZmaYmJgAAABJJ2g3AAAAAXRSTlMAQObYZgAAAK1JREFU\n",
       "GNNjYGDgu8cAA1mLQCTPLgYEyDAAEpwfIBy2DUCCtwBIcDVARNg/wDgwkdd/0ESYbD+hiXByfkUT\n",
       "iWH+B+OAjWfgCWD7CaT4QMZnBIBEWBmY/oLoWgaGlDawphQXl48gmrGOgSEiAcQCKmwH0SAPsIDM\n",
       "YQbiHTBzuECuVwbiemTbeUDq5A8gRJgkviswPPxfi+YvMMAhwocsAvYAz07kMAR7gG8xSjgDAMfT\n",
       "LYlEWPTfAAAAAElFTkSuQmCC\n",
       "\" style=\"display:inline;vertical-align:middle;\" /></a> <a class=\"ProveItLink\" href=\"../__pv_it/763da8c91d72daf204eacc028a788bcfe972573d0/proof.ipynb\" style=\"text-decoration: none\">&#x22A2;&nbsp;</a><a class=\"ProveItLink\" href=\"../__pv_it/d5a1e01250324b0396aeb39e8f5d46c16680080a0/expr.ipynb\"><img src=\"data:image/png;base64,iVBORw0KGgoAAAANSUhEUgAAAFUAAAAVBAMAAADFg78FAAAAMFBMVEX////c3NxERESqqqqYmJgQ\n",
       "EBDu7u4yMjKIiIi6urpUVFTMzMx2dnYiIiJmZmYAAABjE816AAAAAXRSTlMAQObYZgAAAS5JREFU\n",
       "KM9jYCALcDbgk/VE4e2CUHsxlEmACL4NyEJlEKoeyhWDS+wDkwVISjkgTmC5nwDh16Gp9UFSywpR\n",
       "I/xeAExz6yagqk1FUjsdQjX0TwDTXDMaUNUyGSDUvoEERoK9A5iRznABVS3PA4TaEjCZybAfYt4R\n",
       "hseoapkLGN7eBYI7QHYkWGQCgzxE/wUGcVS1nAGIoP0J9tGqVesVwMHRwMC1AUUt9wc0tZzA8AAH\n",
       "JG8CA/cCnGqDQQygX3nBdtkBcSFON6gAMSNQLTtYfyFUPUItCzTiuIH4HDiggOH4DSQAcjQvzjCb\n",
       "y8AgFF/IwKL/HSjINQEW68Bwunr37iWgfROQ4lgAOX1CAxAJIMcxywH8yfsEljSJA7Ahp0kGKbxq\n",
       "uZCdyMCINw91MzAAAIl+SkIiPhAhAAAAAElFTkSuQmCC\n",
       "\" style=\"display:inline;vertical-align:middle;\" /></a></span></td></tr>\n",
       "<tr><td>&nbsp;</td><td colspan=4 style=\"text-align:left\"><span style=\"font-size:20px;\"><a class=\"ProveItLink\" href=\"../__pv_it/fd4b0a418766985890fb332a124e981d1643d8330/expr.ipynb\"><img src=\"data:image/png;base64,iVBORw0KGgoAAAANSUhEUgAAAEkAAAAVBAMAAAD4Ed5jAAAAMFBMVEX////u7u5mZmaYmJi6urqq\n",
       "qqp2dnbMzMwQEBBEREQyMjLc3NwiIiJUVFSIiIgAAAAeC3ydAAAAAXRSTlMAQObYZgAAAR1JREFU\n",
       "KM9jYCAZsDzAJmoCJt/+v3v37AYQqxarXqYCMPWLgYGzG8RYiN2KBSCC/RsDAysQM/A9wK7KDETw\n",
       "fWFgYP4EZHAIYFclASI4PzAw8H4FMrxweIozAEjwA+2VnwBkqCEktr3d+ghuP5sCkKhPYGA/BOIt\n",
       "hitiTGA+zHEAxmMFOf/9tTQ1cEC0wFWxMfB9YC2AB2MDkJgPc/QXhFkMvBMQ1rMDHc7whwFDFdC/\n",
       "D1BVsX+C8VqRVO0vYBBAtpEPbsRkuBrmDe8Z+OCqmIGu5/wI4yXBVcUbzGDYx4AUEkLz/8Kc4AP0\n",
       "9EwgmMgg+UwszwDGYeByQA5jjg14YgjhmgTsqvJQudhTDuMCVP5erKp40RzCjTWBPWdgAADdXkSh\n",
       "Sa6TGQAAAABJRU5ErkJggg==\n",
       "\" style=\"display:inline;vertical-align:middle;\" /></a> : <a class=\"ProveItLink\" href=\"../__pv_it/8963d716b2e7f4f588c6cf8cdd0924b710d6bc1b0/expr.ipynb\"><img src=\"data:image/png;base64,iVBORw0KGgoAAAANSUhEUgAAAG4AAAAVBAMAAABVkMbKAAAAMFBMVEX////c3NxERESqqqqYmJgQ\n",
       "EBDu7u4yMjKIiIi6urpUVFTMzMx2dnYiIiJmZmYAAABjE816AAAAAXRSTlMAQObYZgAAASxJREFU\n",
       "OMtjYKAczCBWIcsEZB73AiK0MDaAyNfIQuwJuFXDpbgfgJUiS3bgtoX9Aao+lgNIkmG49W26hqqP\n",
       "LQAhx1mAW9/KDlR9DMoIOT6E3YwnFlq8QNLGVsCLpu8ckh8c4MwcBl+HWCR9PA58Bqj6zBne3gWC\n",
       "O0AmKyJSDjD0M1gj6eNlYCxA1TcVwtsFxPwIfQkMi1C858HAsBpV336s+hgYIlD0XYOowK6P1QAp\n",
       "nn8zsCF4zEC17AK43MmECBdHjg8MbUghJgDRi6TPHcoDBRo8TTB/YQqApENorIOIC7jigRMoY6QE\n",
       "BAlsGsfOtMA4oFiHpUI+YNDH3r2rwMBQieT7QFypBRxgnMgiyOmMwYf4nMrTQFw+QgfpKJlsAdH6\n",
       "FqLwJIjVxrGBAQC+iEoqYjwP2AAAAABJRU5ErkJggg==\n",
       "\" style=\"display:inline;vertical-align:middle;\" /></a>, <a class=\"ProveItLink\" href=\"../../../../__pv_it/530be409e3083890784cf1d7b28c9e67e90af9360/expr.ipynb\"><img src=\"data:image/png;base64,iVBORw0KGgoAAAANSUhEUgAAAAsAAAAJBAMAAAAWSsseAAAAKlBMVEX///9ERETMzMwQEBAiIiKY\n",
       "mJju7u5mZmaqqqpUVFSIiIh2dnbc3NwAAAA/vyDhAAAAAXRSTlMAQObYZgAAAENJREFUCNdjYDi9\n",
       "8sTyBQxsG1hdmR0YuBm4LnAoMLAxcAowgADzAjB1VoEhgYH1wFoGrgSG3gBhhlMMDImrs3cFMAAA\n",
       "t0YN+iTRa+sAAAAASUVORK5CYII=\n",
       "\" style=\"display:inline;vertical-align:middle;\" /></a> : <a class=\"ProveItLink\" href=\"../../../../__pv_it/2cbe72a7ad6f655694dd697106680215e8489b600/expr.ipynb\"><img src=\"data:image/png;base64,iVBORw0KGgoAAAANSUhEUgAAAA8AAAAOBAMAAAACpFvcAAAALVBMVEX///8QEBBERERUVFS6urqI\n",
       "iIhmZmaqqqrc3Nzu7u6YmJgyMjIiIiLMzMwAAADtIaYWAAAAAXRSTlMAQObYZgAAAFtJREFUCNdj\n",
       "YACBOwxQsA9Kc52bAGG05zVAGAFxDmCaZULdAjBjCsO9ADDDgaEvAUTzGhvbKYCVMDAwbgAxChgY\n",
       "eASANAeQwf0AyJgNxEwvGRia5HYwcOm9TgAA6BoR3jrzwFcAAAAASUVORK5CYII=\n",
       "\" style=\"display:inline;vertical-align:middle;\" /></a>, <a class=\"ProveItLink\" href=\"../../../../__pv_it/f8b9edf8e16034727f0aad55bb83e392c3db40d40/expr.ipynb\"><img src=\"data:image/png;base64,iVBORw0KGgoAAAANSUhEUgAAAAsAAAANBAMAAACN24kIAAAAMFBMVEX///+YmJhUVFQyMjIQEBBE\n",
       "REQiIiKqqqrMzMyIiIi6urrc3NxmZmZ2dnbu7u4AAADXeCicAAAAAXRSTlMAQObYZgAAAFhJREFU\n",
       "CNdj4LtzgWH/AwZerg8M8xkY2nkSGEIZGB6wTGD4ycDAUP+A4weQOszA6QCkbBhYFYDUIYb1AkDq\n",
       "6czzGxhA4BoQMyXwuQMptgusF4AU+8xTQBIAUqMVoSp/SLMAAAAASUVORK5CYII=\n",
       "\" style=\"display:inline;vertical-align:middle;\" /></a> : <a class=\"ProveItLink\" href=\"../../__pv_it/68a87cc3370287d726c7086ace789e680e4461c30/expr.ipynb\"><img src=\"data:image/png;base64,iVBORw0KGgoAAAANSUhEUgAAAA4AAAAOBAMAAADtZjDiAAAAFVBMVEX///92dnbMzMxEREQiIiJm\n",
       "ZmYAAABAT6GXAAAAAXRSTlMAQObYZgAAABhJREFUCNdjCHEBAWcGIFBlgABa0YpADAAxegPJJk4d\n",
       "XAAAAABJRU5ErkJggg==\n",
       "\" style=\"display:inline;vertical-align:middle;\" /></a></span></td></tr><tr><td>3</td><td>specialization</td><td>7, 8</td><td><span style=\"font-size:20px;\"><a class=\"ProveItLink\" href=\"../__pv_it/b22b15039733798321461907c74328825d8427750/expr.ipynb\"><img src=\"data:image/png;base64,iVBORw0KGgoAAAANSUhEUgAAADEAAAAVBAMAAAAdjxsPAAAAMFBMVEX////c3NxERESqqqpUVFS6\n",
       "urrMzMwyMjIQEBCIiIh2dnYiIiLu7u5mZmaYmJgAAABXZE4RAAAAAXRSTlMAQObYZgAAAN1JREFU\n",
       "KM9jYGDgu8eABthWCYAonl0MGICtGURyfkCI8Pl/cXEqBTKug3hcDUiKORQYGO4HMDCswJDJnwDE\n",
       "Dthk5gOtfr8Am4wGEO84gE3mCwODuA4DVIa3AMm1X2bO3QdivAcRGUCn3N4NBEB/cX5kYDgNdAAD\n",
       "+wUGhpQ2mIYUBgYmoMmc/0Ac9QcMDBEJCBl+oHq+X0A2N9B9DCwFCJl8oEqWzzB7uDYgZEDekS9g\n",
       "QHc1G9g7bO0HGDD9c+m/i0v5AwYGbD6FAQIyfNhkwPHDsxNLnLZCInIx1nQAAJmFPcGxt9K+AAAA\n",
       "AElFTkSuQmCC\n",
       "\" style=\"display:inline;vertical-align:middle;\" /></a> <a class=\"ProveItLink\" href=\"../__pv_it/9c13fe0ca2e30ca19f2965616eab0b5dfb0d693e0/proof.ipynb\" style=\"text-decoration: none\">&#x22A2;&nbsp;</a><a class=\"ProveItLink\" href=\"../__pv_it/a7f268d0300524d11cd147935bf2f1176ea177a30/expr.ipynb\"><img src=\"data:image/png;base64,iVBORw0KGgoAAAANSUhEUgAAADwAAAAOBAMAAACBYGLnAAAAMFBMVEX///+qqqru7u4iIiJ2dnbc\n",
       "3NyIiIjMzMxmZmYQEBC6uroyMjJERERUVFSYmJgAAADLUcuvAAAAAXRSTlMAQObYZgAAAI1JREFU\n",
       "GNNjYGB4+//u3dMLGDBAGJSew8DA8QtTugJCsX8D4r84pdm+MjDwfcEpzTOBgYF5Ek5p/gsMrHsU\n",
       "cErXX0trfgBmde8Ggb2o0vkBDEy2DDh1nwQpeYBTGuSn9w64pNn/AYn7AiBmszEI2KBIg7zN+hun\n",
       "3SBvV27CJc1x/u/d2/sw5ID2WALtAQABMC5m6XxmHQAAAABJRU5ErkJggg==\n",
       "\" style=\"display:inline;vertical-align:middle;\" /></a></span></td></tr>\n",
       "<tr><td>&nbsp;</td><td colspan=4 style=\"text-align:left\"><span style=\"font-size:20px;\"><a class=\"ProveItLink\" href=\"../../../../__pv_it/2cbe72a7ad6f655694dd697106680215e8489b600/expr.ipynb\"><img src=\"data:image/png;base64,iVBORw0KGgoAAAANSUhEUgAAAA8AAAAOBAMAAAACpFvcAAAALVBMVEX///8QEBBERERUVFS6urqI\n",
       "iIhmZmaqqqrc3Nzu7u6YmJgyMjIiIiLMzMwAAADtIaYWAAAAAXRSTlMAQObYZgAAAFtJREFUCNdj\n",
       "YACBOwxQsA9Kc52bAGG05zVAGAFxDmCaZULdAjBjCsO9ADDDgaEvAUTzGhvbKYCVMDAwbgAxChgY\n",
       "eASANAeQwf0AyJgNxEwvGRia5HYwcOm9TgAA6BoR3jrzwFcAAAAASUVORK5CYII=\n",
       "\" style=\"display:inline;vertical-align:middle;\" /></a> : <a class=\"ProveItLink\" href=\"../../../../__pv_it/077b2ff79244fb4582cbe22c6e3356fa92a52f2f0/expr.ipynb\"><img src=\"data:image/png;base64,iVBORw0KGgoAAAANSUhEUgAAABAAAAAOBAMAAADUAYG5AAAAMFBMVEX///+qqqru7u4iIiJ2dnbc\n",
       "3NyIiIjMzMxmZmYQEBC6uroyMjJERERUVFSYmJgAAADLUcuvAAAAAXRSTlMAQObYZgAAAGpJREFU\n",
       "CNdjYGB4+//u3dMLGIBgDgMDxy8gzf4NiP8CGWxfGRj4vgAZPBMYGJgnARn8FxhY9ygAGfXX0pof\n",
       "gDTlBzAw2YIYJ0EckBBI53sHoBH/gIz7AhBjWH9DjancBLTl/N+7t/cxMAAA3u4f/5xagjYAAAAA\n",
       "SUVORK5CYII=\n",
       "\" style=\"display:inline;vertical-align:middle;\" /></a></span></td></tr><tr><td>4</td><td>theorem</td><td></td><td><span style=\"font-size:20px;\"> <a class=\"ProveItLink\" href=\"../../../equality/_proofs_/subLeftSideInto.ipynb\" style=\"text-decoration: none\">&#x22A2;&nbsp;</a><a class=\"ProveItLink\" href=\"../../../equality/__pv_it/3ec60be0054bb218e4347eeddae1ab877388efa90/expr.ipynb\"><img src=\"data:image/png;base64,iVBORw0KGgoAAAANSUhEUgAAAMIAAAAXBAMAAACrPI2eAAAAMFBMVEX///8QEBC6urrMzMxUVFRm\n",
       "ZmZERETc3NwyMjKqqqp2dnaIiIiYmJgiIiLu7u4AAAAU9Wx4AAAAAXRSTlMAQObYZgAAAsZJREFU\n",
       "SMe1Vk1oE1EQ/pLd5m832+BFvEgED0KRRhA8NmhRsRdBeyke1oOtf5CAYlARFy8VFPVSEXJwEYq1\n",
       "ouRQD/bSFS+CiDkoghQpgkW8NKixttTqvL/ta8OCSjqwmdlvv51v38y8R4B1t5l1yRqvCW/ngToL\n",
       "XrYn78Tv3t43ZRbtVNAh4AHzN9r06T+BxMZVCVPAOXJJtz0CxiKQpgtWTUG2jxQ1ouNWexSsr5Sy\n",
       "SUEs7K6Tg32/UrnUpiIlGoC5QMG2FewE8GNw8P3fJTjDf9PRhE4PmGMVH6DrwsT5J1SsUWAPMETv\n",
       "lfoPD7UOnXC3m/17y0j6oth+pEKPD+MtC65TeXx7OkaDegfYCoek8Qx41Lps2a4cMnV1g3uRClMH\n",
       "xgf4sG4AMrAa6QKwBcjCCgjsBV7PRCiYRdjLqErwc6RCSSWgjjsw+YT20AAEWfZgGtgftYZsANOD\n",
       "KqJZiFL4hRUFGqiaVHA8tgGdb7Df0domuqgv6HKxWVOYK+BVGTmJ82GXRGhkGE2lsIn9XC6wI4mq\n",
       "hKHdrKeL40fIPTZdeurU5o2cptA9PhrA8CQeL0qieZXsWkjm20HYaepdeQoWKbyg2xF2NGU8/iif\n",
       "Yj1JfqxbrqYwxueqKHHDC4nQyUgsKwUa0bvBUVwUoahX4qAcaT4Lpm/WNIVjfB8UJc4VJFEnfyp9\n",
       "V4fFdmB28stD9hFX2CyyRnfKg2MHWB9j+VhBU1jga3AlHnclMcGrFJI1i5W1U0NtFsKSw0ZjDH5y\n",
       "GLFCtzZLxjznUjE5bvuSqNJJsmZ2uCszalmZm3SQG0vOqZHJGWMJ6b7jmsJYk3/jBwi8Iy+J8l1F\n",
       "1i08vddsHlu5Cvr0/SDsKQSeConCFFm3syrYtxrfpdzJuNeqMAuBV0OiMEXWLSmLY63pUKBcdRKt\n",
       "CmmJF0OiMEX+LzNX3T0XLfvH/w5/AOrJuu1B3OWnAAAAAElFTkSuQmCC\n",
       "\" style=\"display:inline;vertical-align:middle;\" /></a></span></td></tr>\n",
       "<tr><td>&nbsp;</td><td colspan=4 style-\"text-align:left\"><a class=\"ProveItLink\" href=\"../../../equality/_proofs_/subLeftSideInto.ipynb\">proveit.logic.equality.subLeftSideInto</a></td></tr><tr><td>5</td><td>theorem</td><td></td><td><span style=\"font-size:20px;\"> <a class=\"ProveItLink\" href=\"trueAndFalseNegated.ipynb\" style=\"text-decoration: none\">&#x22A2;&nbsp;</a><a class=\"ProveItLink\" href=\"../__pv_it/1974163b78c4e2feb8497da9c7e3ab41b1215f5f0/expr.ipynb\"><img src=\"data:image/png;base64,iVBORw0KGgoAAAANSUhEUgAAAFYAAAAVBAMAAAAutAQGAAAAMFBMVEX////c3NxERESqqqqYmJgQ\n",
       "EBDu7u4yMjKIiIi6urpUVFTMzMx2dnYiIiJmZmYAAABjE816AAAAAXRSTlMAQObYZgAAAPZJREFU\n",
       "KM9jYCAPzMAnyTIBmce9gOHtXRC4hKaMsQFEvkYWYk8AkfvgKhLghjwASyOr7WBAUcv+AFUtywEk\n",
       "tWGoajddQ1XLFoBQylmAqnZlB6paBmWEWr4DKGrZCnjR1J5D8poDiloeBz4DVLXmkGC6A2SyTkBR\n",
       "y8vAWICqdiqEtwuI+VHVejAwrEZVux+n2msQUexqWQ2Q1TID5dkFcLmBCcVvIHXMD1DUukN5II8/\n",
       "QFa7CURcwBVmnBCZPdCYgMU6HzCYYu/eVWBgqESK40DkxAH2KCeyCHIcM/jgT908DRhpEidIR0nS\n",
       "C/CqXYjCk8CnlGMDAwCLNUoXqiDatAAAAABJRU5ErkJggg==\n",
       "\" style=\"display:inline;vertical-align:middle;\" /></a></span></td></tr>\n",
       "<tr><td>&nbsp;</td><td colspan=4 style-\"text-align:left\"><a class=\"ProveItLink\" href=\"trueAndFalseNegated.ipynb\">proveit.logic.boolean.conjunction.trueAndFalseNegated</a></td></tr><tr><td>6</td><td>specialization</td><td>9, 10</td><td><span style=\"font-size:20px;\"><a class=\"ProveItLink\" href=\"../__pv_it/2700633c29669936275e69317ebd77c3a6285b9c0/expr.ipynb\"><img src=\"data:image/png;base64,iVBORw0KGgoAAAANSUhEUgAAACIAAAAVBAMAAADRFiHkAAAAMFBMVEX///9ERETc3NyqqqpUVFS6\n",
       "urrMzMwyMjIQEBCIiIh2dnYiIiLu7u5mZmaYmJgAAABJJ2g3AAAAAXRSTlMAQObYZgAAAK1JREFU\n",
       "GNNjYGDgu8cAA1mLQCTPLgYEyDAAEpwfIBy2DUCCtwBIcDVARNg/wDgwkdd/0ESYbD+hiXByfkUT\n",
       "iWH+B+OAjWfgCWD7CaT4QMZnBIBEWBmY/oLoWgaGlDawphQXl48gmrGOgSEiAcQCKmwH0SAPsIDM\n",
       "YQbiHTBzuECuVwbiemTbeUDq5A8gRJgkviswPPxfi+YvMMAhwocsAvYAz07kMAR7gG8xSjgDAMfT\n",
       "LYlEWPTfAAAAAElFTkSuQmCC\n",
       "\" style=\"display:inline;vertical-align:middle;\" /></a> <a class=\"ProveItLink\" href=\"../__pv_it/4a79dd766f2afb760bf7a57f476e5c1c97c338a30/proof.ipynb\" style=\"text-decoration: none\">&#x22A2;&nbsp;</a><a class=\"ProveItLink\" href=\"../__pv_it/ec719ecb7e05ad71b54bd77b8aee02497d0e685c0/expr.ipynb\"><img src=\"data:image/png;base64,iVBORw0KGgoAAAANSUhEUgAAADoAAAAOBAMAAACMfhKgAAAAMFBMVEX///92dnYQEBBERERUVFS6\n",
       "urqIiIhmZmaqqqrc3Nzu7u6YmJgyMjIiIiLMzMwAAACFkkdwAAAAAXRSTlMAQObYZgAAAHhJREFU\n",
       "GNNjYACBtwxooPYuCFyGcM4zYILnMAb3/QV4ZGfUT8Ajm5AfgFuWdUH/BtyySxneJ4DomjMgcARN\n",
       "NoBhfgFOvXwuLv4GOGVZGRiYDuCUbWBg4FXACCCoLCdQlucDLr1rgJj5Fw7ZyfonGbjt/2A6+iEQ\n",
       "AwC2mTBvG4O8rwAAAABJRU5ErkJggg==\n",
       "\" style=\"display:inline;vertical-align:middle;\" /></a></span></td></tr>\n",
       "<tr><td>&nbsp;</td><td colspan=4 style=\"text-align:left\"><span style=\"font-size:20px;\"><a class=\"ProveItLink\" href=\"../../../../__pv_it/2cbe72a7ad6f655694dd697106680215e8489b600/expr.ipynb\"><img src=\"data:image/png;base64,iVBORw0KGgoAAAANSUhEUgAAAA8AAAAOBAMAAAACpFvcAAAALVBMVEX///8QEBBERERUVFS6urqI\n",
       "iIhmZmaqqqrc3Nzu7u6YmJgyMjIiIiLMzMwAAADtIaYWAAAAAXRSTlMAQObYZgAAAFtJREFUCNdj\n",
       "YACBOwxQsA9Kc52bAGG05zVAGAFxDmCaZULdAjBjCsO9ADDDgaEvAUTzGhvbKYCVMDAwbgAxChgY\n",
       "eASANAeQwf0AyJgNxEwvGRia5HYwcOm9TgAA6BoR3jrzwFcAAAAASUVORK5CYII=\n",
       "\" style=\"display:inline;vertical-align:middle;\" /></a> : <a class=\"ProveItLink\" href=\"../../../../__pv_it/2cbe72a7ad6f655694dd697106680215e8489b600/expr.ipynb\"><img src=\"data:image/png;base64,iVBORw0KGgoAAAANSUhEUgAAAA8AAAAOBAMAAAACpFvcAAAALVBMVEX///8QEBBERERUVFS6urqI\n",
       "iIhmZmaqqqrc3Nzu7u6YmJgyMjIiIiLMzMwAAADtIaYWAAAAAXRSTlMAQObYZgAAAFtJREFUCNdj\n",
       "YACBOwxQsA9Kc52bAGG05zVAGAFxDmCaZULdAjBjCsO9ADDDgaEvAUTzGhvbKYCVMDAwbgAxChgY\n",
       "eASANAeQwf0AyJgNxEwvGRia5HYwcOm9TgAA6BoR3jrzwFcAAAAASUVORK5CYII=\n",
       "\" style=\"display:inline;vertical-align:middle;\" /></a></span></td></tr><tr><td>7</td><td>axiom</td><td></td><td><span style=\"font-size:20px;\"> <a class=\"ProveItLink\" href=\"../../negation/_axioms_.ipynb#negationElim\" style=\"text-decoration: none\">&#x22A2;&nbsp;</a><a class=\"ProveItLink\" href=\"../../negation/__pv_it/3b08940eb52ec7364a09d58733ea5eec05fbe9620/expr.ipynb\"><img src=\"data:image/png;base64,iVBORw0KGgoAAAANSUhEUgAAAJcAAAAXBAMAAAD0AcCSAAAAMFBMVEX///8QEBC6urrMzMxUVFRm\n",
       "ZmZERETc3NwyMjKqqqp2dnaIiIiYmJgiIiLu7u4AAAAU9Wx4AAAAAXRSTlMAQObYZgAAAbxJREFU\n",
       "OMtjYKAmeECsQqYN+OUPAfEFEOM0EYaZQChbLFLVIILVgIFhJYjRR4RhUDX9WKRMwWQDA0MZkGJP\n",
       "IGwWN8SXPPcf4DLsFAMDB1CSdQJhwxghhlTGF+Ay7CHQquXl5bVE+FIDQm3Yr4DLMDagk76lpd0i\n",
       "wrAoSJQ+mH8Al2FcAQwMzgwM6WBOO0Q5qrp2GKMHTD5isAeHXUQHCLSgGMYJjAEVBr4GcNB+gjgW\n",
       "xSyoIBAIgUkFhvoAXC5jEmBg4GXgBrv86R8shkEFgQBsKrOLi38CLsOYPwDj/AAvOKLWXcViGFQQ\n",
       "ZhgwDBgb8BnG1wBO28wb0jANgwkCgSSIAMYXrwCIEXsXBK5heJMh3QnEZGGIxTQMJggEOaDEDTSM\n",
       "4wMul/GA3DwVnD1PMuxHMmxZWlpaA0IQCJYC8QuQ/D98SYOBERTZfFdD8x+guiwBIQgEusCcJ9/O\n",
       "wJP/Ay06gT6+CPYxByg584DUsxYw2BugGwYXBFlZQChZP4SzdBgY+A+gGwYXBFm5gJBhq2GMJ98Y\n",
       "2P3voBpmgBAkppjiw5Jm2HApLiFgGEsBCYaxEyi2NzOQYBg5gIUCvQCemG+1sUJnVwAAAABJRU5E\n",
       "rkJggg==\n",
       "\" style=\"display:inline;vertical-align:middle;\" /></a></span></td></tr>\n",
       "<tr><td>&nbsp;</td><td colspan=4 style-\"text-align:left\"><a class=\"ProveItLink\" href=\"../../negation/_axioms_.ipynb#negationElim\">proveit.logic.boolean.negation.negationElim</a></td></tr><tr><td>8</td><td>assumption</td><td></td><td><span style=\"font-size:20px;\"><a class=\"ProveItLink\" href=\"../__pv_it/b22b15039733798321461907c74328825d8427750/expr.ipynb\"><img src=\"data:image/png;base64,iVBORw0KGgoAAAANSUhEUgAAADEAAAAVBAMAAAAdjxsPAAAAMFBMVEX////c3NxERESqqqpUVFS6\n",
       "urrMzMwyMjIQEBCIiIh2dnYiIiLu7u5mZmaYmJgAAABXZE4RAAAAAXRSTlMAQObYZgAAAN1JREFU\n",
       "KM9jYGDgu8eABthWCYAonl0MGICtGURyfkCI8Pl/cXEqBTKug3hcDUiKORQYGO4HMDCswJDJnwDE\n",
       "Dthk5gOtfr8Am4wGEO84gE3mCwODuA4DVIa3AMm1X2bO3QdivAcRGUCn3N4NBEB/cX5kYDgNdAAD\n",
       "+wUGhpQ2mIYUBgYmoMmc/0Ac9QcMDBEJCBl+oHq+X0A2N9B9DCwFCJl8oEqWzzB7uDYgZEDekS9g\n",
       "QHc1G9g7bO0HGDD9c+m/i0v5AwYGbD6FAQIyfNhkwPHDsxNLnLZCInIx1nQAAJmFPcGxt9K+AAAA\n",
       "AElFTkSuQmCC\n",
       "\" style=\"display:inline;vertical-align:middle;\" /></a> <a class=\"ProveItLink\" href=\"../__pv_it/659d862d8201b38a76dac4278242419974e1920f0/proof.ipynb\" style=\"text-decoration: none\">&#x22A2;&nbsp;</a><a class=\"ProveItLink\" href=\"../__pv_it/1da4e2fe7c44632f084fa27ea32e26dc689384c20/expr.ipynb\"><img src=\"data:image/png;base64,iVBORw0KGgoAAAANSUhEUgAAAB0AAAAOBAMAAAAh/woJAAAAMFBMVEX///+qqqru7u7c3NyIiIgQ\n",
       "EBC6uroyMjJERESYmJhUVFTMzMx2dnYiIiJmZmYAAADtoHoAAAAAAXRSTlMAQObYZgAAAHpJREFU\n",
       "CNdjYIACzvW/Vq0oY0AA1gYGhvcJCP5+ByBegOD7GzAwzD+A4LcC8VUFBP8XA4N5E4LL/cvF7yaQ\n",
       "fnsXCO4wMLB8ZmDQhRm3i4GBIwAo9hPB5wfKcf5B8PdPYGDg+ojgg6y3L4AZDraeOxxh/Yv/q1aV\n",
       "A7UAAFRxJOZ+1MVPAAAAAElFTkSuQmCC\n",
       "\" style=\"display:inline;vertical-align:middle;\" /></a></span></td></tr>\n",
       "<tr><td>9</td><td>axiom</td><td></td><td><span style=\"font-size:20px;\"> <a class=\"ProveItLink\" href=\"../../_axioms_.ipynb#eqTrueIntro\" style=\"text-decoration: none\">&#x22A2;&nbsp;</a><a class=\"ProveItLink\" href=\"../../__pv_it/d0cb838f1f1e44deadf0499da151f8dae5a0de4f0/expr.ipynb\"><img src=\"data:image/png;base64,iVBORw0KGgoAAAANSUhEUgAAAIwAAAAXBAMAAAArT7qNAAAAMFBMVEX///8QEBC6urrMzMxUVFRm\n",
       "ZmZERETc3NwyMjKqqqp2dnaIiIiYmJgiIiLu7u4AAAAU9Wx4AAAAAXRSTlMAQObYZgAAAaxJREFU\n",
       "OMtjYKAOeEBYCdMG/PI8CgwMF0CM03iVmUAoW3Rx1rtgkMAQzMCwEiTQh9cYqGw/FinmABDJwcBQ\n",
       "BqTYE/CZwg3xE8/9B7iM4VnAwAGUZJ2AzxhGiPbK+AJcxvAJMPAsLy+vxesnDQi1Yb8CLmMYMhkY\n",
       "vqWl3cJrTBQkuh7MP4DTmKUMDM4MDOlgdjtEOUxFO4zRAyYfMdiDw4i1AwwcUIyZwcCgwsDXAA6n\n",
       "T2ARNlhi+AQzRghMKjDUB+B0jSIDAy8DN9i1T/+gGAPlAgHYPGYXF/8EnMbYA+PzAC84KtZdRTEG\n",
       "yoUZA/QrYwM+Y/gawKmUeUMasjEwLhBIgghgkuAVQEm6aJ5iSHcCsVgYYpGNgXGBIAeUQIHGcHzA\n",
       "6ZoTQDwVnK1OMuxHNgbGhcQmwwuQzD98Ec7ACIpIvquh+Q8QxsC5QKALzDHy7Qw8+T8wo4p5AZhq\n",
       "AkUtSD1rAYO9AcIYOBdkTQGhkoRPAMbSYWDgP4AwBs6FZDwCgAtWID35xsDufwduDIJLuBiBhhwa\n",
       "YMMUKiFkjDtRxrATKES5DYgyhhzAQpYuAAUAaqwIkhhoAAAAAElFTkSuQmCC\n",
       "\" style=\"display:inline;vertical-align:middle;\" /></a></span></td></tr>\n",
       "<tr><td>&nbsp;</td><td colspan=4 style-\"text-align:left\"><a class=\"ProveItLink\" href=\"../../_axioms_.ipynb#eqTrueIntro\">proveit.logic.boolean.eqTrueIntro</a></td></tr><tr><td>10</td><td>assumption</td><td></td><td><span style=\"font-size:20px;\"><a class=\"ProveItLink\" href=\"../__pv_it/2700633c29669936275e69317ebd77c3a6285b9c0/expr.ipynb\"><img src=\"data:image/png;base64,iVBORw0KGgoAAAANSUhEUgAAACIAAAAVBAMAAADRFiHkAAAAMFBMVEX///9ERETc3NyqqqpUVFS6\n",
       "urrMzMwyMjIQEBCIiIh2dnYiIiLu7u5mZmaYmJgAAABJJ2g3AAAAAXRSTlMAQObYZgAAAK1JREFU\n",
       "GNNjYGDgu8cAA1mLQCTPLgYEyDAAEpwfIBy2DUCCtwBIcDVARNg/wDgwkdd/0ESYbD+hiXByfkUT\n",
       "iWH+B+OAjWfgCWD7CaT4QMZnBIBEWBmY/oLoWgaGlDawphQXl48gmrGOgSEiAcQCKmwH0SAPsIDM\n",
       "YQbiHTBzuECuVwbiemTbeUDq5A8gRJgkviswPPxfi+YvMMAhwocsAvYAz07kMAR7gG8xSjgDAMfT\n",
       "LYlEWPTfAAAAAElFTkSuQmCC\n",
       "\" style=\"display:inline;vertical-align:middle;\" /></a> <a class=\"ProveItLink\" href=\"../__pv_it/ef467353f6b814293e19b3ca3a1278d5890eb4650/proof.ipynb\" style=\"text-decoration: none\">&#x22A2;&nbsp;</a><a class=\"ProveItLink\" href=\"../../../../__pv_it/2cbe72a7ad6f655694dd697106680215e8489b600/expr.ipynb\"><img src=\"data:image/png;base64,iVBORw0KGgoAAAANSUhEUgAAAA8AAAAOBAMAAAACpFvcAAAALVBMVEX///8QEBBERERUVFS6urqI\n",
       "iIhmZmaqqqrc3Nzu7u6YmJgyMjIiIiLMzMwAAADtIaYWAAAAAXRSTlMAQObYZgAAAFtJREFUCNdj\n",
       "YACBOwxQsA9Kc52bAGG05zVAGAFxDmCaZULdAjBjCsO9ADDDgaEvAUTzGhvbKYCVMDAwbgAxChgY\n",
       "eASANAeQwf0AyJgNxEwvGRia5HYwcOm9TgAA6BoR3jrzwFcAAAAASUVORK5CYII=\n",
       "\" style=\"display:inline;vertical-align:middle;\" /></a></span></td></tr>\n",
       "</table>"
      ],
      "text/plain": [
       "\tstep type\trequirements\tstatement\n",
       "0\tgeneralizaton\t1\t|- forall_{A, B | A , [not](B)} [not](A and B)\n",
       "1\tspecialization\t4, 2, 3\t{A , [not](B)} |- [not](A and B)\n",
       "\tP(_x_) : [not](A and _x_), x : B, y : FALSE\n",
       "2\tspecialization\t4, 5, 6\t{A} |- [not](A and FALSE)\n",
       "\tP(_x_) : [not](_x_ and FALSE), x : A, y : TRUE\n",
       "3\tspecialization\t7, 8\t{[not](B)} |- B = FALSE\n",
       "\tA : B\n",
       "4\ttheorem\t\t|- forall_{P, x, y | P(y) , x = y} P(x)\n",
       "\tproveit.logic.equality.subLeftSideInto\n",
       "5\ttheorem\t\t|- [not](TRUE and FALSE)\n",
       "\tproveit.logic.boolean.conjunction.trueAndFalseNegated\n",
       "6\tspecialization\t9, 10\t{A} |- A = TRUE\n",
       "\tA : A\n",
       "7\taxiom\t\t|- forall_{A | [not](A)} (A = FALSE)\n",
       "\tproveit.logic.boolean.negation.negationElim\n",
       "8\tassumption\t\t{[not](B)} |- [not](B)\n",
       "9\taxiom\t\t|- forall_{A | A} (A = TRUE)\n",
       "\tproveit.logic.boolean.eqTrueIntro\n",
       "10\tassumption\t\t{A} |- A"
      ]
     },
     "execution_count": 9,
     "metadata": {},
     "output_type": "execute_result"
    }
   ],
   "source": [
    "%qed"
   ]
  },
  {
   "cell_type": "code",
   "execution_count": null,
   "metadata": {},
   "outputs": [],
   "source": []
  }
 ],
 "metadata": {
  "kernelspec": {
   "display_name": "Python 3",
   "language": "python",
   "name": "python3"
  }
 },
 "nbformat": 4,
 "nbformat_minor": 0
}
