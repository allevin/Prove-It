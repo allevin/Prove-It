{
 "cells": [
  {
   "cell_type": "markdown",
   "metadata": {},
   "source": [
    "Proof of <a class=\"ProveItLink\" href=\"../../../../_context_.ipynb\">proveit</a>.<a class=\"ProveItLink\" href=\"../../../_context_.ipynb\">logic</a>.<a class=\"ProveItLink\" href=\"../../_context_.ipynb\">boolean</a>.<a class=\"ProveItLink\" href=\"../_context_.ipynb\">conjunction</a>.<a class=\"ProveItLink\" href=\"../_theorems_.ipynb#nandIfNotOne\">nandIfNotOne</a> theorem\n",
    "========"
   ]
  },
  {
   "cell_type": "code",
   "execution_count": 1,
   "metadata": {},
   "outputs": [],
   "source": [
    "import proveit\n",
    "context = proveit.Context('..') # the theorem's context is in the parent directory"
   ]
  },
  {
   "cell_type": "code",
   "execution_count": 2,
   "metadata": {},
   "outputs": [
    {
     "name": "stdout",
     "output_type": "stream",
     "text": [
      "Beginning proof of nandIfNotOne\n",
      "Recorded 'presuming' information\n",
      "Presuming previous theorems (applied transitively).\n"
     ]
    },
    {
     "data": {
      "text/html": [
       "<strong id=\"nandIfNotOne\">nandIfNotOne:</strong> <a class=\"ProveItLink\" href=\"../__pv_it/85f6b70cf6e65261586299074bda7f58860901e20/expr.ipynb\"><img src=\"data:image/png;base64,iVBORw0KGgoAAAANSUhEUgAAAq8AAAAZBAMAAADtQ9rvAAAAMFBMVEX///8QEBC6urrMzMxUVFRm\n",
       "ZmZERETc3NwyMjKqqqp2dnaIiIiYmJgiIiLu7u4AAAAU9Wx4AAAAAXRSTlMAQObYZgAAB0lJREFU\n",
       "aN7tWnuIVFUY//beec+du7MaihXORqGByI5RK+gfO6yigpRTuYTa5pQ49jLnD3El01kCFUPcgTD6\n",
       "x9zA1MBorBBpBccnopVTmVKxeiUIQXNXd3273s7jPs6590zcEZxKPHDmfve73+Oe3/3Od75zdgG8\n",
       "tUDvKXjQvLbxvd1eRWMP0KqmBVOgeQVW/VfeUCoyN+PopaVQpZHqFKR2/aHcwbuSVxppx8CWMeOY\n",
       "B2BJzCrFGgP7NEPLKXo9012lkYoKB/WpU19vdOB0Zn3uwohb3nFl5V80OgL2c3y/wQOwEfzZQ1qN\n",
       "gWXfzHAe0VPspKvwRqtsklfgdEYA+C/zvC9voJ+mAZEhoQNOPmR0BOwyfMl4AJYILasxrlF2hvQY\n",
       "E1svs2inxZqrmUzAKbA6Mgo0eZDjRXQcwaF+kSGRA15e6aYdAYvDwF/wACwJnjk1BraOjcfR9PKB\n",
       "3s8wm08LFeXFtiavwOpEryEcbnK8zVfwrz8jMiRywMurcdoRsMq2jo6VnqqCox0dHeUaA/skm8w6\n",
       "KRjlxB2G29ojVPSNs2LdocDqBBAGsdEcL3GN6BQEhoQOHPJv0I6AhavZ7G+egK3PZhd31xjYuQzt\n",
       "p87zya7LNlPtFBeC58CKAV6B06lPQXCNxvLCeqaiIRHfKf8Z7RjYKQCLPAHrS0IgV2Ng17OZsUQu\n",
       "C2H+bWZhKonz2A47a/EKnE7LzJ72Esfz6aWKhkR8p/zHtGNgn0BfyxOwUgp9JjInb4hlmrghfnSl\n",
       "bVqSUIcbTq4QLDEcW2IehJe0zV5AyWEoUHtxQ9FaR+oiJQ57cVprthZV4duXYblBmQrcQmzo7M2B\n",
       "eoLjhfSkmYidhoQObHnaHqMdAxuDaEmcnle/ADtfYXZeZdhDV5SbYmATXKJAA4rGia9HNSnhdsGz\n",
       "A+yjfQA7KXWZKWHrCbB9BWi6CvDMs/TBMTLlXA3V2z5jxIYC02ydVzG4JZYX00lmGGs6YAwJHVjy\n",
       "ZgVCOwY2WooJ1r3zbS/D4YgW0Rhg9wBdOZ+/KsTVn+DSjT8FEk7s4SGNhIajOdgcsLNR9OcqADur\n",
       "oUEfQtdN9MFpfg9hBaVmbSdMBbvZOrjSOt7N8kI6eTDSdMAYEjqw5V3Aqp2CN4u+tuoifFdMc8Ce\n",
       "oy6kXy+JTx42xznXRfDj/N6Ha+cJLmkHmwP2d4B2So1igK3DmSY8/OLFvG4BG0a5JCRI/BtRX0sl\n",
       "TAX7k1o6Ms69swosL0qmdiRlOrANiR3Y8q5UAItaUWTPG7clugvLYArgEBY68OEKDtjAUhIzsbG6\n",
       "sLT7Kc9VNX1JOIJfdT7OXX+4pB1sFlh1ABRjMG8zwAbwnD1bwNMvZ44bgxEmiRq/kmoSZMwbiYSp\n",
       "cOirb1M9C3gdXMYGr3M8lUy73daXswypnBOLb8lj+4g6QjsBdiOKqwtNpVhKwXeYSgJJ5AciFyax\n",
       "wIbbjYoCbzaecyIVSddzVU1TzzfvkMxL6z2f42Mk+PKQBVa61TNNs6sX0pLYAXrhaVhWL5jjbqbr\n",
       "CBognu19ZYOQM+aBnKmg7r8NJ+Agp0PK2AkbeN7K658Ev0+bwNqGLNuYYPiGPLb/M19uQR0a4qrd\n",
       "UJ/Eb06onEzyzgHo3sICC48QX6OhqwiTRjqBnaCFuJOL7WgRwtpky6fJnzomLGU7gN2azWY7IdIJ\n",
       "irHLGs/ijUak63dQhaOj+UeBbTW3uuoIHJ0Zg/A1mtthU2Hi+U4YoN/J0vEvGZw6Yz1vBxUriaGX\n",
       "wATWNmTZxgTDN+SDyD5eUd6nnQCr4OHNRPkuRMqlmShHyCez2bcQsO/9xQH7A6HQYoDUXOfePzYk\n",
       "Btn7hWRBRkPDCSYOMSewlO2O2AwEUAAYFV0dq8V9Swpso7NUY4s37tjKV5TjsK6SjoC3qYKhCg58\n",
       "RSnObWmNNhx2QV6iVJukpmjESpM110E3ysDHy25gUf5WhkCZs6f1EC1nETRNGLxZJezVBSxlI/mU\n",
       "C9j6AkgD9qGG1Y66ga3i1CEZzQT7G70rbKrWvj/dCBEUxLhbwAb7UaQejsDyHKKGPw7TKbBw1AUs\n",
       "ygTQ0k+ARcIbYLmGf3IoE4CsQ3gXDJPSEFwLwTsQ/AUTZ2+AjKIXAYtuqLRmsZF83AVsXoOV6crH\n",
       "hncHbB5/xkz3PQM2D3VPJckO6hwwwEoZlHqbt0FLCVFzS/An+rTSmkbwgRPYM4OgJC4VMLAtJfka\n",
       "tOTwTymG0sM+fRRMUcuRAq5jtl9pm0EI9YtLJ5IEWHRDpXM2e4qxCbKBTUa62mavM++W8n/vsNq7\n",
       "XfOqG/gYiCXlN71vyat1MAb8O4AE5HTHq9JmboW2ohzr2NLy7RQjzFDlcDqmoCls7VAsAznmxqbK\n",
       "0f2aq45lwWSLhxXwH2/RJO1uYOVc5bMCrk1+uMAIW5SaiRQCXwNMNJ+YhLzzc4ZrUWpG2QH/BOz/\n",
       "tLmAVcAjsLywUinwoSTkguvo4H4HtvLp1j3+vwLffYXr+N7U38ElZz7wIroWAAAAAElFTkSuQmCC\n",
       "\" style=\"display:inline;vertical-align:middle;\" /></a><br>(see <a class=\"ProveItLink\" href=\"../__pv_it/85f6b70cf6e65261586299074bda7f58860901e20/dependencies.ipynb\">dependencies</a>)<br>"
      ],
      "text/plain": [
       "nandIfNotOne: forall_{m, n in Naturals} [forall_{A_1,...,A_m, B, C_1,...,C_n | [not](B)} [not](A_1 and  ...  and A_m and B and C_1 and  ...  and C_n)]"
      ]
     },
     "execution_count": 2,
     "metadata": {},
     "output_type": "execute_result"
    }
   ],
   "source": [
    "%proving nandIfNotOne presuming []"
   ]
  },
  {
   "cell_type": "code",
   "execution_count": null,
   "metadata": {},
   "outputs": [],
   "source": []
  }
 ],
 "metadata": {
  "kernelspec": {
   "display_name": "Python 3",
   "language": "python",
   "name": "python3"
  }
 },
 "nbformat": 4,
 "nbformat_minor": 0
}
