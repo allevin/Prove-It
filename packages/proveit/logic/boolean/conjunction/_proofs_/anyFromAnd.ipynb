{
 "cells": [
  {
   "cell_type": "markdown",
   "metadata": {},
   "source": [
    "Proof of <a class=\"ProveItLink\" href=\"../../../../_context_.ipynb\">proveit</a>.<a class=\"ProveItLink\" href=\"../../../_context_.ipynb\">logic</a>.<a class=\"ProveItLink\" href=\"../../_context_.ipynb\">boolean</a>.<a class=\"ProveItLink\" href=\"../_context_.ipynb\">conjunction</a>.<a class=\"ProveItLink\" href=\"../_theorems_.ipynb#anyFromAnd\">anyFromAnd</a> theorem\n",
    "========"
   ]
  },
  {
   "cell_type": "code",
   "execution_count": 1,
   "metadata": {},
   "outputs": [],
   "source": [
    "import proveit\n",
    "context = proveit.Context('..') # the theorem's context is in the parent directory"
   ]
  },
  {
   "cell_type": "code",
   "execution_count": 2,
   "metadata": {},
   "outputs": [
    {
     "name": "stdout",
     "output_type": "stream",
     "text": [
      "Beginning proof of anyFromAnd\n",
      "Recorded 'presuming' information\n",
      "Presuming previous theorems (applied transitively).\n"
     ]
    },
    {
     "data": {
      "text/html": [
       "<strong id=\"anyFromAnd\">anyFromAnd:</strong> <a class=\"ProveItLink\" href=\"../__pv_it/de916100a568ccbba5668561c01a749c3ae406a10/expr.ipynb\"><img src=\"data:image/png;base64,iVBORw0KGgoAAAANSUhEUgAAAZAAAAAZBAMAAADtWWVbAAAAMFBMVEX///8QEBC6urrMzMxUVFRm\n",
       "ZmZERETc3NwyMjKqqqp2dnaIiIiYmJgiIiLu7u4AAAAU9Wx4AAAAAXRSTlMAQObYZgAABJ5JREFU\n",
       "WMPdWE1sG0UU/rJ27GS9u06IBALUOBVIHBDEkWgPqZCtJiqVIoFB8aFAkAvCQUJtfajqSNAmF4qQ\n",
       "ULoSgksPzaHQcksFRKBEYqs0VQlVa6CAKKTdUxVBgf6kTduUmjczu/bY3jh7w2Ike9+b9zPvm3nz\n",
       "ZmcBf23HQg6N25SF835VC2jstvv/A8T2C8RocCB8qr/1AURnD22ywQCcKPb3v9HFgHzK2HEfQFST\n",
       "Hi12oy3F/UDzNQZkDzHhjA8gXGlPo+EIrNBviQFhc9xs+tnsbNm2NRqQyDLl+x0GRDuSz+/1VbXm\n",
       "8/l8wxWvUBugd/LyezObPe8LSDSb3THRaECiSYT32xxIHzDsC0gwjhA/3pXbvKt1V3rwNU5p29cN\n",
       "f8ElpaP2dj1n3dWp/NGN9Ja4y5S8ebVqYWJgesgSB+KjMMa899E7L+DYK2UgShKLnG66I/qOA8d4\n",
       "1O1nsP4uX2jX1lXxbrHqhdXaEGlz56DkzetdpFr4dQ7GOQFER8Sqtfgj/TJOqrZqSyd7ATOcfv6m\n",
       "6BukuWVLdOiC2HQSEFcFqIhZMM0xqUqqvCcJZdmRl715GMtC3rYzMBYHErH02sMh8uq+v3B6MlUB\n",
       "ZAYX+Kz8clX0/QoM0cMoUlYE2mQgJRUEfpPXWDBPHGor9z3NZlGfRHNByCVvtcayUDSqvDg7wYEY\n",
       "Y0/R2r70+OHIFEtTRgFzTGn2g7cqgCwGkozUHyvyXuM6tHfZdN5iTFwG4qpQz6JcYgTz/ei9ct9O\n",
       "ltd/x3EqJ+SSt1pjWSjQsTR7zhQvjcObgcvdlp7UWJyMioPvmln1cq8MJLS7i5Efo8ifysr0FiZu\n",
       "WikP5jyFyrNE9WpS3gpGTUWvlSOZOM12//TnOx25683TWBqqfIyEbzlvvx9SkPu+RDSupiCoXIAn\n",
       "5ywmDstAWof40J04wN+41DFonawCsrAMGYhQ6X2ATTikSiKYHrtFgm630P9Rqhy2kDvevI2locrH\n",
       "SM+4A6SJhTWAHrTwqjiA9Qj8lM2+SUDe/lMGgod52rS3F3mKhVIwWJWNXmdOZCCOys8EKYVvyrMv\n",
       "mO/aY0ulvg3QaNTXKbtMIXe9eRpLQ4mysWupf+v77n1EY8F2YAqj/BjoQFoxkmJFlE0VQM6wP9pB\n",
       "ZzkXNaEwx8G7HL4ExFGhWIJ2uZI5jJqE9g+0bTOb50yeQVTCaD6640LuevM0doRzB0+sdrEKXyH5\n",
       "SRUjOaI6HsEzAgjm7eqLFaUNEldIEaM29qaIMGImNqYkII4Ki2UDpbEZHseITX+cocxCoIjWKdyn\n",
       "pNg84yuE7yH8o6PsevM0doQHM02rAVEy+AEbjyBhEfWihUu0V5X9XQjW3BAvLkGLXTUTlnogPfge\n",
       "RWzh94vr+uTN7qiwWNiWzQSWkcjRH2d0SrrjxQfRZxToYkDzTEZHb6S3mo6y683T2BEG4yNrXnXd\n",
       "MvEJ7ZG6V12rhpAPRN4oFnZelr5aVDCF1pSuIcyywVNez1jHzJNrAAnkfN7ZS4oVFhVANj1U53Zg\n",
       "ZFQz9Nnq8rrGlzBvrQFE8/vxQfO0CDX+V5QFX9+1gv/Zd61z/wK9bYodzZUk9QAAAABJRU5ErkJg\n",
       "gg==\n",
       "\" style=\"display:inline;vertical-align:middle;\" /></a><br>(see <a class=\"ProveItLink\" href=\"../__pv_it/de916100a568ccbba5668561c01a749c3ae406a10/dependencies.ipynb\">dependencies</a>)<br>"
      ],
      "text/plain": [
       "anyFromAnd: forall_{m, n in Naturals} [forall_{A, B, C | A_1 and  ...  and A_m and B and C_1 and  ...  and C_n} B]"
      ]
     },
     "execution_count": 2,
     "metadata": {},
     "output_type": "execute_result"
    }
   ],
   "source": [
    "%proving anyFromAnd presuming []"
   ]
  },
  {
   "cell_type": "code",
   "execution_count": null,
   "metadata": {},
   "outputs": [],
   "source": []
  }
 ],
 "metadata": {
  "kernelspec": {
   "display_name": "Python 3",
   "language": "python",
   "name": "python3"
  }
 },
 "nbformat": 4,
 "nbformat_minor": 0
}
