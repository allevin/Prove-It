{
 "cells": [
  {
   "cell_type": "markdown",
   "metadata": {},
   "source": [
    "Proof of <a class=\"ProveItLink\" href=\"../../../../_context_.ipynb\">proveit</a>.<a class=\"ProveItLink\" href=\"../../../_context_.ipynb\">logic</a>.<a class=\"ProveItLink\" href=\"../../_context_.ipynb\">boolean</a>.<a class=\"ProveItLink\" href=\"../_context_.ipynb\">conjunction</a>.<a class=\"ProveItLink\" href=\"../_theorems_.ipynb#andIfAll\">andIfAll</a> theorem\n",
    "========"
   ]
  },
  {
   "cell_type": "code",
   "execution_count": 1,
   "metadata": {},
   "outputs": [],
   "source": [
    "import proveit\n",
    "context = proveit.Context('..') # the theorem's context is in the parent directory"
   ]
  },
  {
   "cell_type": "code",
   "execution_count": 2,
   "metadata": {},
   "outputs": [
    {
     "name": "stdout",
     "output_type": "stream",
     "text": [
      "Beginning proof of andIfAll\n",
      "Recorded 'presuming' information\n",
      "Presuming previous theorems (applied transitively).\n"
     ]
    },
    {
     "data": {
      "text/html": [
       "<strong id=\"andIfAll\">andIfAll:</strong> <a class=\"ProveItLink\" href=\"../__pv_it/29b8878e0df3d0cca6345c4e3a3dbe4c5d4cb28e0/expr.ipynb\"><img src=\"data:image/png;base64,iVBORw0KGgoAAAANSUhEUgAAAWAAAAAZBAMAAAD9FenCAAAAMFBMVEX///8QEBC6urrMzMxUVFRm\n",
       "ZmZERETc3NwyMjKqqqp2dnaIiIiYmJgiIiLu7u4AAAAU9Wx4AAAAAXRSTlMAQObYZgAABDNJREFU\n",
       "WMPVmF1oFFcUx0/2I7s7e2eSGGxpH9yFShWCZAIav5AsEfpSmqYPeRAfOlTcgCDsg2hQdPdFgj4k\n",
       "85JHqQ9KKC1haWgoTWm3qfGhgbpaoTQQswEfBCWu3/iV8X7MvXNndrqzkUD0QO7cnfzP3t/cc+65\n",
       "dxYgwI4u5OCdsdDCfKCmDO+UHXv/gCuBwJU1GKeDXXrMVfrJDjMMmM7gXD3gIEUDFs6w6+LFVTrK\n",
       "DlGdAn9H+iP1gIMUDVicRUmxMtLN2P+E7ozTdTsUKPBx4mrUAw5SNGDTdoAteUXE+/3FZ6WMcDn8\n",
       "RYHJw0fNesBBigZsE7uct6rSze5b/ulz1Jl5t8MSBUbjJ06crrvoghQNlM8CvSTLqRXpbu+0rzjS\n",
       "UeRdj0OzScva02x2vn5ZC1AEW5Qtnbw++tC5qRVUX/Edp5K6HUDpp8D7AQbrAwtFJ0uMkJi55/4+\n",
       "nZ4Eipfo5TB8/Yqkgj18yT/PfoADvGs7cEsUKPBm/Kxul10D6eTGigMsFCk2U81c2PTCHzjlqV5N\n",
       "adKiVvj9CcCOL9hNFWIF/xkasnu2g5NZrRRYhWRJCtRPAyVkTMCENMNcEU0ZbuCvnvpnQMpTU1oo\n",
       "8H0TOonDBXZzjoauxlARIjrrcgexHKsUOFlSpYI4tWW5guaiLmCu2PZtqws49N8DX2Cu8wB/2dZm\n",
       "vXaAcY3Y7uOMh+LbDHfwAGsF7IcOdlxKTumASG1Eu3cWZWCqwHYjv+ICVrdYvrWf65yUIMmaaF9e\n",
       "zlsCOIFHivscBMfw3zBT2A6zP/6SmT7kpAQM9gLc6yypGZSBOI2KPvGnDEwVZJG2PHQBXwYLT12f\n",
       "d0ihc+oRyaglTK1aOQ5MYAk0aMAb+vTDNrRw0GZewU24QrjYooMxzHTmZ2jRcdnYw4AVpU8GHqOF\n",
       "pqsSfykDhzfBaBH2fOgFFjpXPYp9RjwtkwN38y+/zxuNhD9s0PUIjkPsbgEe4ckRZQ2aSKH+HLog\n",
       "bsK+bDZbRHrs71syMFXA9bbUYxlYxSmGs+1fL7DQOcsbf4llrUDEsizdBu7lW/aSYTfaB2TbIOme\n",
       "JOMJh0gx3ArnSFDSDBiRULTDFORDcJvNMHzymwxMFUoG0GsZ+BLAtXItMNOhA7/2zoo664oCA067\n",
       "KrrzbM4/xQrQk0asmuZbs31yquI5vqpAJMeA0UTNAb4LL19LAsYZAT1VCjyUi43AUIU0OVuXmIIN\n",
       "oX752OIBbtzyECkiA5f27yXgkAH/QPc4aN/gD1txk/ECqzj8f1gfOcCLjwGlHpgEuKcUfgY9OdKU\n",
       "uG6/VlZMz/GS2snRg6sD/hRUPXwkx3avmlckBedw0CtSs+sTSQln5xG9cqJfReLom1mDtxYa/bd6\n",
       "p3MB7/3YhLCop6KnGYrZPClUp9YAeBLWBJiuUp/eur01L9T+LhFZx98lbr4BSKhTo4sOv00AAAAA\n",
       "SUVORK5CYII=\n",
       "\" style=\"display:inline;vertical-align:middle;\" /></a><br>(see <a class=\"ProveItLink\" href=\"../__pv_it/29b8878e0df3d0cca6345c4e3a3dbe4c5d4cb28e0/dependencies.ipynb\">dependencies</a>)<br>"
      ],
      "text/plain": [
       "andIfAll: forall_{m in Naturals} [forall_{A | A_1 ,  ...  , A_m} (A_1 and  ...  and A_m)]"
      ]
     },
     "execution_count": 2,
     "metadata": {},
     "output_type": "execute_result"
    }
   ],
   "source": [
    "%proving andIfAll presuming []"
   ]
  },
  {
   "cell_type": "code",
   "execution_count": null,
   "metadata": {},
   "outputs": [],
   "source": []
  }
 ],
 "metadata": {
  "kernelspec": {
   "display_name": "Python 3",
   "language": "python",
   "name": "python3"
  }
 },
 "nbformat": 4,
 "nbformat_minor": 0
}
