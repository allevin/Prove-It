{
 "cells": [
  {
   "cell_type": "markdown",
   "metadata": {},
   "source": [
    "Proof of <a class=\"ProveItLink\" href=\"../../../../_context_.ipynb\">proveit</a>.<a class=\"ProveItLink\" href=\"../../../_context_.ipynb\">logic</a>.<a class=\"ProveItLink\" href=\"../../_context_.ipynb\">boolean</a>.<a class=\"ProveItLink\" href=\"../_context_.ipynb\">conjunction</a>.<a class=\"ProveItLink\" href=\"../_theorems_.ipynb#association\">association</a> theorem\n",
    "========"
   ]
  },
  {
   "cell_type": "code",
   "execution_count": 1,
   "metadata": {},
   "outputs": [],
   "source": [
    "import proveit\n",
    "context = proveit.Context('..') # the theorem's context is in the parent directory"
   ]
  },
  {
   "cell_type": "code",
   "execution_count": 2,
   "metadata": {},
   "outputs": [
    {
     "name": "stdout",
     "output_type": "stream",
     "text": [
      "Beginning proof of association\n",
      "Recorded 'presuming' information\n",
      "Presuming previous theorems (applied transitively).\n"
     ]
    },
    {
     "data": {
      "text/html": [
       "<strong id=\"association\">association:</strong> <a class=\"ProveItLink\" href=\"../__pv_it/7f615cfab5e90394313057d1b9a00466dcf8691f0/expr.ipynb\"><img src=\"data:image/png;base64,iVBORw0KGgoAAAANSUhEUgAABMYAAAAaBAMAAACukE24AAAAMFBMVEX///8QEBC6urrMzMxUVFRm\n",
       "ZmZERETc3NwyMjKqqqp2dnaIiIiYmJgiIiLu7u4AAAAU9Wx4AAAAAXRSTlMAQObYZgAACllJREFU\n",
       "aN7tW2tsXMUVPvuy93mNAaVFVbChEKii1NtCI1SkehVURVVVeSmkKATCppUcqU3k/WHFiEe8f1JC\n",
       "lOKtWn6lNFaVQKKgektEBCUVm4dTZFoSqdCqCMfrP4AaY7xxiPOwuZ0zM3fu7J3Z3Xvt9Z92R5rN\n",
       "eGbOt/MdfXfmzLkbAPdl+3gWmqVZPBX/+Idepp9reqxZvJd+KHnRmLHMmi+wSkrgqkdbnUGLSUr5\n",
       "AfcgtQ38j5s3Z097oCPNP6ln2yimFKwPV39zctFsTy6ZMdw5UV4fTwm0k0xjdHN616XGEvhPvLBc\n",
       "GruXV1IS1zzaag0+LU9P7zDde72mgX9ib3ZqxXX3EpPnh5Jatg1jimDG0K3Tn/TNLpqtskavjGHN\n",
       "lb8aJ/oKAo0i9sNh/PsFlxqL5sk/4dJyaewFeykjl+SBnfr5rdJKZAPR33aZ/GGmtQZaIKeBPDaC\n",
       "+0fXbF2wndr5OS1bt0zlfi1TCmZmAAa/cO82J9tcTQb1GUdNog+/Jdocr/2wA20zLjVGJ+5YLonF\n",
       "CqzieWAuyCO79AZh2z0VBqK/+zo6MaUz0AM5DaSxqNmJf83UBdulnT+mY+uaqdSvZUrBAib5HLzk\n",
       "3m1OtmM1GdRlDCMX8XNIQhujGsNdKZR3G/Pj47JxuTTmK7GKbEZMOQLZrn+A1p636csGov9t8gzG\n",
       "zaLOQA/kNJDG9tMNIpSpB2Yt1jF/UsfWNVOpX8uUgsVwBzk7795tTraTNRnUZRxhW+JPJLRJqrH4\n",
       "KwMDz7q+V44NDAws2/Xybl5J+YvPlPwTXK0PAde9JZoVBqK/jzyDiStaAz2Q00Aa65ijG0a+Hpi1\n",
       "WMf8lryGrWumUr+W6d0shicfEzn3bnOy5WuswqAuY59Jc1tvSmhY+wEu9/Z+6Fpjbb2924eXS2OP\n",
       "8ko28Nkw3aet2FSfNjFyCREpyAZ2v5mDwFBKZ1AFyGEgjUXMTNVvrwyk2WKd86NpDVu3TKV+PVMK\n",
       "1kbkct8lD25zsuVrrMKgHmPYf1lhjJVojNxdt7rWWDAJLZ4SsfcV3c/dyyuRfzokH1iv6s/naFEc\n",
       "8hUGoj9gfnX3xC1aAz2Q00AaC5rFqt9eUfhinfMjuL+EdtOSAo9MpX49UwrWXd79q3LevdsUtpFc\n",
       "LQb1GEPPvMIYK9HYHUSfYPSUXGnMnyKqJQ9TjXRApDIH4yFxcCOvACdIbEGegEDG+uIntZd4aLUO\n",
       "BmbAWYj+OLnnGH2kvVYx0AMJA3UsLO74dcD4YsOODIj/Bg1bt0ylfj1TCnaWXAM/vuLebQpbvkaF\n",
       "gTvGMDSrMMbaj5Yxotc11RJ+u34Mf9osNEbqcfL5FMVgucBoR7l9gR3I8S0rt74eqDhLfR72vIu8\n",
       "gnGV3IAzEHiY7cHxAu6fanmXbsKSAWch+oMYuXRdg+/8yGlQBcgy0IwlWBR0Vz0wa7FivuXIGQ1b\n",
       "t0zt/ipMKVjPl5g5GHbtNoUtW6PCwCVjmPiSyiIroWElGosVEwTroM73FzY8BmeipWjJ1thxwLsF\n",
       "fVB8fHVn0xCmu6S//T24bR7+wL96z55dRTvR8c6hQ49BfOPxdaPWfssmjO47rWgsWG7vMMm3RZiz\n",
       "yPoCKc3yzos8pmVwsLLfh7f8LhKhvOQ0qAIkDNSxMLvNfaUemLVYe34tjblkavdXYUrBOvCgMVOu\n",
       "3aawZWtUGbhjDEPU3KfRmJG7V0QHjgzOT3dOw98KaVljnyJchG5bD/IQ74kiROktdz9ZRGyOHqao\n",
       "zsLwhdvttFAsarzWGTkGN/pF8Esn7MuIre4WXuHX35v+xJwRnn+R1Oc0hzIBCjNClsHeyn6ajxy5\n",
       "bjlJMqgCJAzUMZoYgGiqHpi1WHu+dA6FxmnJgDemUn8VpghGs6lRs+DabQpbdlaqDNwxpqkQgAOa\n",
       "sxK2riMfeE2Nb1p9IHYsyVsAozjz1G+eljXW0k8uNTTs9/+7zLonshDGY9PANQVuwI2TqrMwHJ0C\n",
       "gu0nG9cpojH4YxEeMM7hu4JvkK9IsgnBpAgatvFqoMcm5oTnn+NE2OvSktVAvhEqWGEwV9mPAUor\n",
       "PvXMSfZASQbTGIy+9ufUWz+rGDM6UBlvgAJm45TkxYr5iIUudYYyHphK/VWYbuPhFQwuqGACx6jD\n",
       "lq1RYVDHfeJ7JnHTieW4eihanMX88OI5Kg2Aqa5iIkXfaGIryV4tnIpOfVfSWORxK8hK3MXzNGRL\n",
       "fQJjsBBmWowk5pxH2Ta1ejOcL2LSNp4mGvO/XoJzkXQiTpO+o3xCAo5/k3v9IK/9yK3vquUsGsLS\n",
       "W/Pn5G9jgTdYJEpnWAaUhdTfMwfGiYWs5SQxIDBoQzUwTs7D+3C6cuzZK79v/XsaFDCBQz/sxfL5\n",
       "iPUPXe7CA1O7vxrTgzS8ysJUx78UMBvH4TaFLV2jwqCO++z5rRPPl575wFKPnLsAH77CwYk734C2\n",
       "JP0ebGVZ8H4Khg9IGoOvYUKC0WJ5Gn+5dwvd93181yV3T6rOwoaVRdiURUURQcVCD34ERiaabzmK\n",
       "7wqI6tiEj2HMuiKvYbXNJOLtMc1Z7qxgp/WyZJKs0ljBG7hFAmBWUBhQFnY//qzAXFEUThIDAoM2\n",
       "VIPWCzmYZSGPGAM407HwCKhgAod+2Ivl8xELN51wp0NjHpiK/mpMOZhplnFDc4DZOJVuU9nSNSoM\n",
       "6rhPmh/fYn6Q5ephaFhRY3EioRY654fwLQjnWes2CPyzt/cXRGPPfCZr7D3AdAeR760wRI1i1/g+\n",
       "1naRbaGBHFNnYTh0PzN8OI3xGDxkp51D36+YwO+gWSliBOEsP213KnFApz1oJUoK+n7uJM1Alf5g\n",
       "gWwUzy8GTF1ssEDDHPVdknumar+T6ZLcJthOVrHzyJiqR36XxAnfg583wTEY9LPWBr+RYvuY/35Z\n",
       "Y1h+i7tjezt7m9pCpNWFN4q2WXaMEo1RdZJwK8pffxSpxobtrEbsI6oxawK/aA6z6nCWhxee91QZ\n",
       "eMnrm9NkLNM609kQMF8ylCZIR5QrfyOZLg3MYnukQe5D9TC0I5LGPo/Bk9nWGaLAM1HWuunrsJ5p\n",
       "DMacGlvFrg9naYeP6OttPByD81TC4M8wdQoJxdM/cGpsNJhXNSb/tmdRziIsGuOkQfJsxzPDDQEb\n",
       "BN+3k5jndpaGMl0KmMXWyDXGfUw9iEYRLY0FD0N30Z8h0enaV1jrURIqEWn7f9kJQXBo7DN6VEL3\n",
       "DJEjDOYgUk6SltGRh7Vp+kyt52fl00xQGOMTjT0izkoSjW2UJlilX1oRrvXQF95+Dhk8rO9/amiT\n",
       "Ny+tgkQy8PNsQ8BWQehVsjQVrKFMlwJmsQ1mG+M+ph5Eo4jS0qCotF4mJ17luySRdZu4BPGOcr67\n",
       "GO5YGG/fTARXhP9MrMQ8cKiTqjO+Z08vBcKE2EPwzqGXtwmkO/EnkmKC7Z0Cq/+D5ajmcW8k00aA\n",
       "HW0446MO+Qeyakt5X8mjqXwNYUJYVWez/B8XSWNxTauKxoxMLWHua7q1WfQaq1/Gxf+v/F0tYaaa\n",
       "bm0WOzgbf39xhvEav9ix3jw1S7Ow8l/qouGwscoIHwAAAABJRU5ErkJggg==\n",
       "\" style=\"display:inline;vertical-align:middle;\" /></a><br>(see <a class=\"ProveItLink\" href=\"../__pv_it/7f615cfab5e90394313057d1b9a00466dcf8691f0/dependencies.ipynb\">dependencies</a>)<br>"
      ],
      "text/plain": [
       "association: forall_{l, m, n in Naturals} [forall_{(A, B, C) in BOOLEANS^{l} * BOOLEANS^{m} * BOOLEANS^{n}} ((A_1 and  ...  and A_l and B_1 and  ...  and B_m and C_1 and  ...  and C_n) = (A_1 and  ...  and A_l and (B_1 and  ...  and B_m) and C_1 and  ...  and C_n))]"
      ]
     },
     "execution_count": 2,
     "metadata": {},
     "output_type": "execute_result"
    }
   ],
   "source": [
    "%proving association presuming []"
   ]
  },
  {
   "cell_type": "code",
   "execution_count": null,
   "metadata": {},
   "outputs": [],
   "source": []
  }
 ],
 "metadata": {
  "kernelspec": {
   "display_name": "Python 3",
   "language": "python",
   "name": "python3"
  }
 },
 "nbformat": 4,
 "nbformat_minor": 0
}
