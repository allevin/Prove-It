{
 "cells": [
  {
   "cell_type": "markdown",
   "metadata": {},
   "source": [
    "Proof of <a class=\"ProveItLink\" href=\"../../../../_context_.ipynb\">proveit</a>.<a class=\"ProveItLink\" href=\"../../../_context_.ipynb\">logic</a>.<a class=\"ProveItLink\" href=\"../../_context_.ipynb\">boolean</a>.<a class=\"ProveItLink\" href=\"../_context_.ipynb\">conjunction</a>.<a class=\"ProveItLink\" href=\"../_theorems_.ipynb#trueEval\">trueEval</a> theorem\n",
    "========"
   ]
  },
  {
   "cell_type": "code",
   "execution_count": 1,
   "metadata": {},
   "outputs": [],
   "source": [
    "import proveit\n",
    "context = proveit.Context('..') # the theorem's context is in the parent directory"
   ]
  },
  {
   "cell_type": "code",
   "execution_count": 2,
   "metadata": {},
   "outputs": [
    {
     "name": "stdout",
     "output_type": "stream",
     "text": [
      "Beginning proof of trueEval\n",
      "Recorded 'presuming' information\n",
      "Presuming previous theorems (applied transitively).\n"
     ]
    },
    {
     "data": {
      "text/html": [
       "<strong id=\"trueEval\">trueEval:</strong> <a class=\"ProveItLink\" href=\"../__pv_it/7be78e617b505486e1d03d6ede8fbeb1bbc1d4800/expr.ipynb\"><img src=\"data:image/png;base64,iVBORw0KGgoAAAANSUhEUgAAAZwAAAAZBAMAAAD3ZYXVAAAAMFBMVEX///8QEBC6urrMzMxUVFRm\n",
       "ZmZERETc3NwyMjKqqqp2dnaIiIiYmJgiIiLu7u4AAAAU9Wx4AAAAAXRSTlMAQObYZgAABJxJREFU\n",
       "WMPdmF2IG1UUx88mk00yuTObtWjRhyaiWGGRnQVdtSIZtqAPYo1IH0ofHBRTFAp5ELsoNkEQPx66\n",
       "87Lgi7gPLUWUJVhcxBUdqxXpgkYtiIVtU/BBULZprRW13fF+zL1zJ7mTydo+tB442bvc/5mZ371n\n",
       "zpkZgATbu1qH68RSqycTNW24juz5/xtOJxGncxXOMxE4toq7wVg54GicCJUZDl39lUE4SYohLG0z\n",
       "J3Z6YYPBckDG6pnMrFJz4AmG8y75c2AQTpJiCMt1mGPTfVuayMZs/f5wGA1oKtaqSk/BcF4gB3UG\n",
       "4SQphrDlwEnq+PLdmKuqA16Vci0ScDwOBy1QHLJoGXcQTpJiCNsSOLY3/a40MX1KnZx7w12LBpyJ\n",
       "wzGLFAcd3rfv5YGlIEkxRENoMsdWaJfWpZmZZWWANtHiw56AUTcGB55lhfpirXZycKFOUCRbZoE5\n",
       "toY1dz6cMJuGMuCXsD9EA0CvxuEcYjjbAfYMxhGKSbY0KbHqf6ljJnuWMOcxx/YMPHmJJFlwcZ46\n",
       "i9+HXXwYBHDLk03OvE7NjuC8xXBux2sUPdh9O8uFGzshjlCU2AqPcuHI32qcUk8tHikzxzdsET77\n",
       "A+CeR9mEAdmmeg1neT9hAWHeFuN251aGY0DBk7b/w50echZhUdodrsiUnCjO4xfVuVXqqYNjZeYA\n",
       "Z12YJEFvs4kVuvX9PbEFWtBgeIC49m4cToXhFDxDKv5LW9c6aCUTweGKu94pRnBSP51T4nCdAuex\n",
       "8XH/coiD69rdigPg0/GmywOGxjGb+Iho98TBwpIFiEyh++9tyThUge37xnoEx9jqK7sg14XJ5jKH\n",
       "/Ka1tYYvcPL4bDnFA/s89teYIgg49sHH9vLTPNnEo4Ai2WDPDMBvk55hI5v1VmQtfiHjUAUpKmPn\n",
       "IziHwMdLvqP3YoQurK4ecziDmQy/znEISp5eDFkWkw8oyjxrMyzAPHoJTsCX5NqacbvzdYAzj694\n",
       "/0cwZuEiuI3h6PoOGWeels2pTu4fGSe9BeZasG1z7+GFLlJdiWcfItG+y3Gm+QlMkk9n28Eg7dAq\n",
       "AWFA9tcm/E5LcWKhhhHSsh6BKci58GCtVmshK/vNKRmHKuC78dIFGcfAaY0z/MfewwtdWI7azH1/\n",
       "HTTf960AZ4Y/AJk3kZ1wgoFGbrMCOacI0FrpIrxBNrTcj8Pq6CsBDiIbvAmWoJGCn9nuwG2fyjhU\n",
       "oduALss4BwG+bffjMB3a9cnMMdFTNgcujOGUI10spA8nxd1nFZxst6x8yAlKclF6fct28f58pYNW\n",
       "Zzhose/1bQqXG1/CwbkGlS7Fma1nD8Bsh/zUA11+CW5IVeUHx+P9OMNbA7QWcvA2vBen0FsSTsqB\n",
       "H2D6MJhP4X/uxD92L46BE+tz/+YQ5/QFQKVzLsGpeOk/oVInPx7XbTfbuqt4QaD24tzujeHcAYaV\n",
       "fq7e1/Hl5yLVy7WO752kl+vRyH8k2cI+LEbtfNVA4rXGZn7FpsV+h3n4P38riOA8cIsLaXESMTId\n",
       "3R09IlQvBX6ldiRuomBdHRxaOxSja/RLzmr/dzbtmv3OduJfePN3WYqK/vsAAAAASUVORK5CYII=\n",
       "\" style=\"display:inline;vertical-align:middle;\" /></a><br>(see <a class=\"ProveItLink\" href=\"../__pv_it/7be78e617b505486e1d03d6ede8fbeb1bbc1d4800/dependencies.ipynb\">dependencies</a>)<br>"
      ],
      "text/plain": [
       "trueEval: forall_{m in Naturals} [forall_{A | A_1 ,  ...  , A_m} ((A_1 and  ...  and A_m) = TRUE)]"
      ]
     },
     "execution_count": 2,
     "metadata": {},
     "output_type": "execute_result"
    }
   ],
   "source": [
    "%proving trueEval presuming []"
   ]
  },
  {
   "cell_type": "code",
   "execution_count": null,
   "metadata": {},
   "outputs": [],
   "source": []
  }
 ],
 "metadata": {
  "kernelspec": {
   "display_name": "Python 3",
   "language": "python",
   "name": "python3"
  }
 },
 "nbformat": 4,
 "nbformat_minor": 0
}
