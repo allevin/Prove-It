{
 "cells": [
  {
   "cell_type": "markdown",
   "metadata": {},
   "source": [
    "Proof of <a class=\"ProveItLink\" href=\"../../../../_context_.ipynb\">proveit</a>.<a class=\"ProveItLink\" href=\"../../../_context_.ipynb\">logic</a>.<a class=\"ProveItLink\" href=\"../../_context_.ipynb\">boolean</a>.<a class=\"ProveItLink\" href=\"../_context_.ipynb\">conjunction</a>.<a class=\"ProveItLink\" href=\"../_theorems_.ipynb#rightwardCommute\">rightwardCommute</a> theorem\n",
    "========"
   ]
  },
  {
   "cell_type": "code",
   "execution_count": 1,
   "metadata": {},
   "outputs": [],
   "source": [
    "import proveit\n",
    "context = proveit.Context('..') # the theorem's context is in the parent directory"
   ]
  },
  {
   "cell_type": "code",
   "execution_count": 2,
   "metadata": {},
   "outputs": [
    {
     "name": "stdout",
     "output_type": "stream",
     "text": [
      "Beginning proof of rightwardCommute\n",
      "Recorded 'presuming' information\n",
      "Presuming previous theorems (applied transitively).\n"
     ]
    },
    {
     "data": {
      "text/html": [
       "<strong id=\"rightwardCommute\">rightwardCommute:</strong> <a class=\"ProveItLink\" href=\"../__pv_it/0c68e2d30ddbee7bc665fa9a6b47af82b5e3e6400/expr.ipynb\"><img src=\"data:image/png;base64,iVBORw0KGgoAAAANSUhEUgAAA98AAAAZBAMAAADahIC3AAAAMFBMVEX///8QEBC6urrMzMxUVFRm\n",
       "ZmZERETc3NwyMjKqqqp2dnaIiIiYmJgiIiLu7u4AAAAU9Wx4AAAAAXRSTlMAQObYZgAACcFJREFU\n",
       "aN7tWmtoXMcVPvvQvh9SHey+4pVpS34Y1xvaqMWh3UU2SSE0Wjd2S+q62bREbim29kewTBVbaiEx\n",
       "KSa7pQQKwfUWnARDi2RKTYIdtMGx2ypppNA4pg95rynEpnX0tmXJkW/nnJm5d+7urHy3tJAoHvDV\n",
       "PM58Z+Z8M2fOzBrAfdo9XoDb6cOcNoyXmxEfu22xD3sKZsFohvDESjPAev4nU2qum29BV+vdad5R\n",
       "eK0JmM9Vp++PZd1K95gs3ZF2Dx/ADtObRSnWzgmnbfu6S8Lj1HNoxfDtE9aulpvrF1/U8V09VLiy\n",
       "+kYTDvb6HxKv9mit+Zq5ZcsP2p11ieLNiUvDTeDDZXNios+UCh7ihB/D/DMuCY/gTggZK4ZwMZWI\n",
       "qW6zYIP5HbCzg3Ma8UHc9htnXeNETGZNr5nW6lgN0DJTU2cOAITNdu2IQDeB5HX2OTIjJ8sJ34t/\n",
       "8i4JJ8G9K8ejnxQe3VTDk1BOL/yk7RjMpXrxCFERmnKNM0hMFLVtPraRfXM1dSb6oVReNyLnMpaK\n",
       "M+iIPNekTy8T4bjIW0ouCSdX8PDKIXwt//Mzc0qp7Ligd/+7rR0bGjTrxY9cxW9L3i1O2CRevqnV\n",
       "EZ1nBC3W1KFHgGKrbkSOZCkeRp8TmpZHQisRHnuxt3e/6yh9pLe3d+UE694Bbsmx1E2ltvOkVti/\n",
       "3jptX/GYRp14ap6wSm5xPCZdcl/W6ggwcuJra+pIaXVKNyJHshT34LTi1uL8IREO17q7/+aa8GR3\n",
       "9+7yiiG8hU+lP12cUWKjgbg+ArKupcHZkH2SSvGwWXMu3grnyLVldCSzEHzKqKmjc8Rs1YyogWI6\n",
       "qZJyh8PznHAWtu9yTbg/DYGV8/oSqtCfx+CR9+3KSEV/wv3GOssCuRazUivut6vc4XS9v4yOzAMn\n",
       "d1Zq667SQZ7XjEiv2EeHRsZaWL/khH+WLQlIdBmuCPdm2boib8hvouGe7du+z0OCR+/c9XvMbDXb\n",
       "UsJlyG3gXVjWsaqtNqCKqU1n297pc8ZFimrdfk5Nty053JOHBhhrhWG0ZYe4ckFwQD/7fSL3KjtO\n",
       "c9JkUjxkhdsucYqzy+gYLkDi7Zq60QU6yIekAmVEzjujVByjQ9++yK3jhMchytbShkY31Se/Ace/\n",
       "a7+0jcEpbqtFOXk4Tqy1vQnraM3GWHA5yjXKxehZXI5wZ6sEdGDq0rpPG96Uc1cpqnVplEUs19WK\n",
       "JBE+WYKNbBfc83Ve+To5vboUG0L3Ri5zgV2m8tJkUjzOj/W7XONUKW7wFrQ6HkWmKs66rnlaV4ZU\n",
       "YLc4k6XYT1FC0YpPMpzwaCVukH+vT//e/h04GzEihk34KeAh4FbhKLaxqyfCHrnAQ0umhlHkX3AQ\n",
       "vtXyKhGH76lpLSuAZQempmN4yaCNoGIpqgUaqIUuZsGuUh3hXW1tdM06zCuZ0i/q9o0hn2n8020p\n",
       "PB2fd4iHeGy0xjVOkaIvT0GrA29ko2VnXQpP7/5FS4Hd4kyWYg+e3kGzXEN4YgCbD2l6Rr93YALe\n",
       "GMqphF/mOrx/FaHA3wF24qpHh+ajeCLOXFX0qkq4JQzwFXVL8oLV6vuHDYh5BVPTcRI94t1OLEW1\n",
       "QAO1UGV4w+oh4EH2w6smJvpNi/AwEwhpwpRn2b+DlPv5Vycu4T3ukEM8Si49knWNM0wu/ai2zYd+\n",
       "ja9Nqy5Ir0PFMYtwe0SOZCvux2UTsp8MhEuHXZ3sgxsptmP90eiJtMgBnEGp07/oUwkPPE67In4X\n",
       "92CJWYih0hZ0lQlyMJPMFhEH4VKYpT2qw+UFqzVw2QbEvIKp6fgIVvzTiaWo5mjWqzJBI6uDKuEB\n",
       "XCUXS+iPC9KOaCu0Gf/dwLA+B4WJIfEJXDvz3GSKOL2IvASucS6iY4sOKFa329CvBfnpY9XFMCr0\n",
       "o18ThFsthkOLpRhGadlcEGwC/FEQ/uyY2EhXNlbiWXrMx1wayManI1c2KYSHd4oIn19MvDdO3oet\n",
       "HvuJ9wibeOCGSjgXfhBXbvkNZdvxArV+mU1mU6xiAWJeYuo7phx3UN4uVPtxRIQmExXCaGHH03WE\n",
       "2SV4H11xS9KOHXKmk+yTwO1BH1+ewiGWHsdcz4LwPZY47L/+q+Cfc+AaJ1h92njinGp1uw2v4XfT\n",
       "e7dd5zfTib7qg5YCq4VwLS3KiLpm4dIrc4Zg07qWgYfZIIq9D7wEyTQagXIFHzn/01A+qhAOnyJl\n",
       "a6FIlouwFYrvA8kZucpgkHVLziqEc+FNa3AiRkjZX1TgrQE2oD24wgQg5gVmg4604AwnFlft+zU6\n",
       "tD2g+AQOjcGh4+nay2ZkmjeZLU1Wz+3YKZ9cL7LRJ1aD+PhRXZTNOWkyh9RlmrNkMluc3RpSS98C\n",
       "i49b4eAdxDxXUK1utbX0zG35Gj9kVb2mufSQrcBqIVxLi60YO5jn0oJNVvFTQXiMmS1AQ3iAHYqh\n",
       "Es+tA9873d0/YoQ/8Z5K+Jvkhlmck+VXUgxaBcMeft1o51vNIlwIn2fZeyBmB028wFtZV18O/iQB\n",
       "KS8x9R2JuVYnllAdL0g0uf+pEJoRu9xOa9TCYfsq6a2/OzrumTT1oQbiTeLYVte0aesON2xpoBjZ\n",
       "tJ5WRfjyBfyughPQ7+W57d5Elu9w770q4SBCjVEqJUvgnRXxMcOl5x0DEm8VFMKF8Hnune13A17g\n",
       "rXsBHXFAAlJeYuo7YsjtH4o9fKrzTEm2C9VIOEeTb5Acmt1P3lsDZ56zf7Ieqbej68RNpklN4ihW\n",
       "d5maVUBsMg83pBA+GYV9heAUs+/ZCM+t+gzczwmHkVrCmRuGzBSTg34D9udYJpEqQUcOggfBxw6S\n",
       "DefBJlwII29sp8HLsM8IPsM+vCBaR3CT4kM0B6S8wGzQ8SLzA49B+AR8zJsT7VI1Ek4IJM4+HDoz\n",
       "Bt7xAjyX99hPbcZ/b0dmsv8JH9Lq/z/COZv0YmYR7j8GmYo3D3+Bjhd57tsVeJd5B+9T7eCHGsKr\n",
       "cxBLTZcylUhx+7anGWMV+Ff1zs10nfiJOf6WvOPlFWHkDaOpAGQKvnn24QXR2sljs7wApLzAbNAx\n",
       "8dvpt5lX35wYi5REu1SNhBMCibMPFUKppfGPo1tI2+9TQeUe++PijqbM6D+mr28WR1rddWpWAXA2\n",
       "af+qE4ZKXe4FdoY7n1adqVKXiTnaHT8nMN6CwP9xY6uFCxXAU0DeW9X88h3Hwrl4zFlFhDsQHIU4\n",
       "nPq8JdoHH5kUTdcQ7ivU5+re0p3ProW6Dl9qSPi9n1zuR/cdjX+RWbZjIh8pBX5XM6zjx5ab+Lsw\n",
       "UoGPalIJj4F+mzYmPFbfodJ4h99OHzDCb53Gm/1/6dnbFv5gpQ3j2f8Azt7GHPX1p8cAAAAASUVO\n",
       "RK5CYII=\n",
       "\" style=\"display:inline;vertical-align:middle;\" /></a><br>(see <a class=\"ProveItLink\" href=\"../__pv_it/0c68e2d30ddbee7bc665fa9a6b47af82b5e3e6400/dependencies.ipynb\">dependencies</a>)<br>"
      ],
      "text/plain": [
       "rightwardCommute: forall_{l, m, n in Naturals} [forall_{A, B, C, D | A_1 and  ...  and A_l and B and C_1 and  ...  and C_m and D_1 and  ...  and D_n} (A_1 and  ...  and A_l and C_1 and  ...  and C_m and B and D_1 and  ...  and D_n)]"
      ]
     },
     "execution_count": 2,
     "metadata": {},
     "output_type": "execute_result"
    }
   ],
   "source": [
    "%proving rightwardCommute presuming []"
   ]
  },
  {
   "cell_type": "code",
   "execution_count": null,
   "metadata": {},
   "outputs": [],
   "source": []
  }
 ],
 "metadata": {
  "kernelspec": {
   "display_name": "Python 3",
   "language": "python",
   "name": "python3"
  }
 },
 "nbformat": 4,
 "nbformat_minor": 0
}
