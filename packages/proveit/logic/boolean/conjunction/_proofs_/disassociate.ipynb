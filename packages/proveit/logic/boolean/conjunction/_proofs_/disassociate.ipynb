{
 "cells": [
  {
   "cell_type": "markdown",
   "metadata": {},
   "source": [
    "Proof of <a class=\"ProveItLink\" href=\"../../../../_context_.ipynb\">proveit</a>.<a class=\"ProveItLink\" href=\"../../../_context_.ipynb\">logic</a>.<a class=\"ProveItLink\" href=\"../../_context_.ipynb\">boolean</a>.<a class=\"ProveItLink\" href=\"../_context_.ipynb\">conjunction</a>.<a class=\"ProveItLink\" href=\"../_theorems_.ipynb#disassociate\">disassociate</a> theorem\n",
    "========"
   ]
  },
  {
   "cell_type": "code",
   "execution_count": 1,
   "metadata": {},
   "outputs": [],
   "source": [
    "import proveit\n",
    "context = proveit.Context('..') # the theorem's context is in the parent directory"
   ]
  },
  {
   "cell_type": "code",
   "execution_count": 2,
   "metadata": {},
   "outputs": [
    {
     "name": "stdout",
     "output_type": "stream",
     "text": [
      "Beginning proof of disassociate\n",
      "Recorded 'presuming' information\n",
      "Presuming previous theorems (applied transitively).\n"
     ]
    },
    {
     "data": {
      "text/html": [
       "<strong id=\"disassociate\">disassociate:</strong> <a class=\"ProveItLink\" href=\"../__pv_it/05755271d488cb5ac62fbe2850b431af401e72750/expr.ipynb\"><img src=\"data:image/png;base64,iVBORw0KGgoAAAANSUhEUgAAA5QAAAAZBAMAAAC83nzgAAAAMFBMVEX///8QEBC6urrMzMxUVFRm\n",
       "ZmZERETc3NwyMjKqqqp2dnaIiIiYmJgiIiLu7u4AAAAU9Wx4AAAAAXRSTlMAQObYZgAACQ9JREFU\n",
       "aN7tWmuMW8UVPvb129feuGlDeXqj0lCJonUKpCgI1kp+8AM1cVFRBRRiWnUjlYb4R5SNoGS3P2ha\n",
       "KcoaAb94ZJEINGraXVo1pU2qOE+pgZKljYhKWdZRJRqVPNYNZPPa3p45M3fuzPXYXMMisSIjrT2v\n",
       "77tz55tz5sx4AYKnVeMVuJQ+myk8/nYn3ccuzdhnOK2BeidSZmf72h2lL+tchzgTIOZgaiwNTtIe\n",
       "EL7f+WJlXwevovTfw6UkU3stoJQZ9mWPzlopb+JfmfMd4oyAY42TJ9c6heAs7QDhiY2V4/MuBFdS\n",
       "7R8tkJRbWX5TQClTVfxK1GetlOI9Rz5QK9eb+8aV11QBsr7rDBackhFg5PcDVMwIs/ue04HJ9P6D\n",
       "JOVahisHlJI6rp21SqaFf3Wm1drHzZ0T3pxrAFnfe4EpUzQBwMjvByiYlNPNSpNByXz9D5KUzMai\n",
       "1aBhD1vW98xaKUN8qSdGHHUfXGU2gEXvevOqAmT9LrQJ26mZAGDk9wMUzOYPyVGWg5L5+h8lKe2X\n",
       "+/sfCxzBHuzv75+9gezX+NefQ46iXuR6896/ZIfMagBZvxptInPWCFCTx+8HKJj8FHmNalAyX/9Y\n",
       "lUkJZ/r63g4sZVdf36rhWSvlvXwbOp0g9+QGI+ZDVnYwI/ctFeDVO4NgDRVNAD3Ykfw+gIJJOuWW\n",
       "TzeR+funSiQlRscrA0sZKUDs07gniBc66V39mE/ZyJdwKap6uW3mHSNVk9uOBpD1lvPln09cbgRo\n",
       "SfL7AQomorvdjyTz908OkpTX4hKA7PJ6ICnDRVwYFAzzk1Yq38hNc5s/kHvrUdqr5QLuaTvlWusj\n",
       "GpUhveDk8v90C4tltf3g1St/3/IRckgifYE+d0OahZFW2X2rdcbzB8QHRZYDxBTJetupQnY15hc1\n",
       "AXyzJvgloPkhCXlECUaW8B1pwnNIygykUeIbWh2OH78LXnnAu+0Zg508ghAnrUMlSFxkmflX1cN5\n",
       "WivS9vNtXbHWWlapTMnGfX7IXYopd7WEc2/A/JYYb0gi/Zd81zkIo3+yvsP9Hp6SIyaX8Br5KwUg\n",
       "pkjWR9j+2XMebv6WH6APXPK7AMNDMnwvvi4omezvqjRJUqZrGazfYpqL9+/+HhxI1VN1T8qdwEOr\n",
       "b5/hdStqkGLRVHIaO+2qqFJG81JUTdNhvTXF0KMKlajznA11R8FGSnInETSbcTDpqRYYZUiqlJFG\n",
       "Lu/gqyS5lPjyVtHw7u/KCwUXsEWvD7EDSg8eOJ/zA3TrlvwS0PyQBI+QLwtK5vXXpMwO3iS3Ed8x\n",
       "7PvrT8LroyVVymN8XOF/NHjdRAUSzNeeYqfVhaBKecPmOe6T3lHt/B299Ta0G9p/XSpRJxMVMijY\n",
       "kHTJSzlNlvkZa04LjDIkkWijeuL2k/92JqWUT+PfhuZ3T+KySfBl4AI26vUDbNmNXHBnXwFoyeOX\n",
       "gOaHpMlhpopBybz+moOFlUvwgy1t+77rX0xvL4gcwH7Wa++Tj6pSxtaQc8tcJ8JzXB4rmH2sYIby\n",
       "L03Kvw38z40bjqlXkcf01ocRGVKpRJ1MVOiahKjnm3ZwmiiL7LOFFhhlSCL9mHVnek5MSSk3iBni\n",
       "98t1N8MmMkleQAKm9PpD59iBf8ydfa+hrpJ5/BKw/7d/Ku74gYbJkot6FZrI9EFJMtmfcTG9eNgD\n",
       "T4+JpX28p5Yp2kWRK9B1EOxNHV+sSJm8n7JbgIfn4Ubfg7TW86PavkcBchc6tAjDLrYVi+EFarVw\n",
       "oVvDrwPc4lExANVJK6ZCz7y+nBcnXctpQmKJLwMTJt8UQzEXuYYNb/U5V0oKfijwP4Xl7LTI8PCD\n",
       "ergAbv1e/fIpyO6errizLxskB2U8fheQ3XMRDsM+neyxs8/H/1qCJjJ9UB6Z6M+4/u4dRiCEr5xm\n",
       "nda/Cl0FVku5ikUmsheGX1SkhCtpAq6BIZqo9HlhSqRsXZVyYT1xAawXmJt4GBSL4QVqBVybsXqC\n",
       "pBFUBKA6acVU2DWsWuUtnIatFVyviy8DE0YZkuvy0boddCfLHee0kDLS7V7oHcVxZ+eJDCwRxu8B\n",
       "aIq8evYzhzOvJmdfNkgOynj8LiD+/iCc5huvxGCwnZ/+LjST6YPyyER/xsWcRaKbS2nj68ao/U7c\n",
       "WhJVnpsP1lt9fQ+hlD85oUr5BvnXXI7fJcZwMnvYTSA57zmqlG/m8rjFZ1AZqwR/8QyGF3grAm4G\n",
       "uwpPeVQMQHVu4oXV3RhGKlISTRfbDdE5HwETRhmSe3Gnbj9cyjBo5yeZur1Gd3mMmuvF7BsaWvBH\n",
       "RtHAfzEzZJFRtk2Kizvxkjeyz7mwHQbCPHd3OFvkVhm+VZWSEm6kh6gUQhl3MStbXmO8ipS4J9vT\n",
       "XEr0mTHv4VTgrex2fhkDLPCoGGCZcqIRhTwux7Ow/5l9X2dn5AWcJnKRVh1J2YzhQ7Lv2SmjA3u4\n",
       "ScoOLnBvbNHwXKc3wYV0OT7ZPSNkoUK0hEy/UqQ8lYZ1lfgkzsuBFM/N/QrcwaWEg34p0b9C7yT2\n",
       "g4FBSDYK8Q1wFDeTH6p75UKMmx0QRgbpanwTrKvjBxVEK04tWhf8EU6wAI+oGIDXUe91dV6IY4Cz\n",
       "eS48Uw51f5V+CSCabL4Ki0okpQHDh5Tcrljmpk8gJU7RzEg5wBZYeXhGyAYg9I0CP5y5Uka2Qm8t\n",
       "XMY9dNHLPHdvDd5DvcM/64YI+KSc+ADsfKPaW0vkp8dzD4B1EbK/bhwuKFJm0AHvdi53jQzK1hT0\n",
       "VvCDCqIVfT+LcmLsvCSoGIDXUe/eCi/81Bl/80t1PB+foB9Y7+I08J+Jq9lJ+giYMGJIS5V7kzXK\n",
       "VeEvP+zsJ/TIVnP9I0P3dTb9CyBTsH5UmRGyBRDdhkOr6O8GtabcS7hX6hd3epIIG3w3N96hFp/C\n",
       "HiRHrhYyxyHOZlX9SQABvM6dcrWQwVB8rMZ+atU4j0AbzFh6j4x94rP3HyDapd/5lqlVac413cHq\n",
       "l3qy3zdbSWm9srXNEKJ/cK9vysEA76FNPlTgl0NeuvWKNpe92bK9DT4PSZHSBqONtZHSNhi03yoD\n",
       "pmc783VwKbWT8qPTeLD/gy1+jHHYHf3I9ZtLwjWdU8YP/x+ou4qnpDuHawAAAABJRU5ErkJggg==\n",
       "\" style=\"display:inline;vertical-align:middle;\" /></a><br>(see <a class=\"ProveItLink\" href=\"../__pv_it/05755271d488cb5ac62fbe2850b431af401e72750/dependencies.ipynb\">dependencies</a>)<br>"
      ],
      "text/plain": [
       "disassociate: forall_{l, m, n in Naturals} [forall_{A, B, C | A_1 and  ...  and A_l and (B_1 and  ...  and B_m) and C_1 and  ...  and C_n} (A_1 and  ...  and A_l and B_1 and  ...  and B_m and C_1 and  ...  and C_n)]"
      ]
     },
     "execution_count": 2,
     "metadata": {},
     "output_type": "execute_result"
    }
   ],
   "source": [
    "%proving disassociate presuming []"
   ]
  },
  {
   "cell_type": "code",
   "execution_count": null,
   "metadata": {},
   "outputs": [],
   "source": []
  }
 ],
 "metadata": {
  "kernelspec": {
   "display_name": "Python 3",
   "language": "python",
   "name": "python3"
  }
 },
 "nbformat": 4,
 "nbformat_minor": 0
}
