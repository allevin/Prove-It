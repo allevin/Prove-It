{
 "cells": [
  {
   "cell_type": "markdown",
   "metadata": {},
   "source": [
    "Proof of <a class=\"ProveItLink\" href=\"../../../../_context_.ipynb\">proveit</a>.<a class=\"ProveItLink\" href=\"../../../_context_.ipynb\">logic</a>.<a class=\"ProveItLink\" href=\"../../_context_.ipynb\">boolean</a>.<a class=\"ProveItLink\" href=\"../_context_.ipynb\">conjunction</a>.<a class=\"ProveItLink\" href=\"../_theorems_.ipynb#closure\">closure</a> theorem\n",
    "========"
   ]
  },
  {
   "cell_type": "code",
   "execution_count": 1,
   "metadata": {},
   "outputs": [],
   "source": [
    "import proveit\n",
    "context = proveit.Context('..') # the theorem's context is in the parent directory"
   ]
  },
  {
   "cell_type": "code",
   "execution_count": 2,
   "metadata": {},
   "outputs": [
    {
     "name": "stdout",
     "output_type": "stream",
     "text": [
      "Beginning proof of closure\n",
      "Recorded 'presuming' information\n",
      "Presuming previous theorems (applied transitively).\n"
     ]
    },
    {
     "data": {
      "text/html": [
       "<strong id=\"closure\">closure:</strong> <a class=\"ProveItLink\" href=\"../__pv_it/89d8f3f8e68a6ecdc039dc8bb991ed9c5d9277e50/expr.ipynb\"><img src=\"data:image/png;base64,iVBORw0KGgoAAAANSUhEUgAAAVgAAAAVBAMAAADx8+t1AAAAMFBMVEX///8QEBC6urrMzMxUVFRm\n",
       "ZmZERETc3NwyMjKqqqp2dnaIiIiYmJgiIiLu7u4AAAAU9Wx4AAAAAXRSTlMAQObYZgAABHpJREFU\n",
       "SMfVlmtoHFUUgE9mN/uYmZ2k1scPsR1RWiFIR9D4AO2Qggq+tpQipUqHilsUI/tDsqLYrEIpijbz\n",
       "p+IPhWWpNoqEJdJFTNTFGgkNtEMtUqVppuCPQjUmPgJK7XjvPXdm7u7O7Cb0lwfOZHPOPfd+99xz\n",
       "HwD/J3E7epWzD6yumwGuRLbaa0QQAlQ9ugm1z54Gh/6ei+tH1nOsba3LeAkTlcpCZY2wYsCOFt/4\n",
       "ytjrP9hor8LH1HQoHlam0864XcajDXgj2TMFRzomcr8whhiQaW1oDWiHPkF7FUZoj1Y8LPONdEvO\n",
       "FFe6qJ4jziIfHXBAqAIxQK20wcJkBu1Vlo9eOx6WZX1XN9gNXIm85S0JjsHz0WUzHGa8KUDrx7+X\n",
       "3pk/68O+n3SZvQrq0VLpNegAe6JUKjldWKUyKt2SzsYrgmdoKjIgORDsgpaA53Ayb7tCZkfQXgVY\n",
       "KRR+6gTbVygMd9syvRVUIqPG2O9Cosq5yICLEMy/OQA+ZN8RNyyDxLkX0U5gtwHs6wSbNCBVZOn7\n",
       "O35/NVCJPAt7LtPl5/GN6BL7NKwsHuDLe+wbElm3LyzX0E5gbyXTb+7pnp26cp3rw0omyQOVnn+4\n",
       "f3Z8/KnmiB4dlWyEfvj6L4C7HkNHDtLlKFgHXvZ3FAYEcjNbEEvcYFPvor1K+1Mawrod29lQrQmY\n",
       "CDJLOp5mv7evcL8ia5O6umt6aMbPWp+OCvCbDVtouw/QMcdWrv2Mr9EFAzEgOBvYIt40Px9usJRU\n",
       "YXYCqzRywllY37zoqnO9Iuw0sB0t/bjM/YoME41sHa6R8m2wT6xb5/0bwpLIOyNgyYj+FeIHNMEm\n",
       "TDGzKbB8WK1MulN3DxxR6gaodHj13rtrAuxFDM1t9lz0K7J0zIVtmiP7me2xUSG7fnFx1Atgs6R5\n",
       "ptgOe5joQWzBA2YmvzCnngnKwGmDxTKAfUMAv2xp5EzVxAtENSaOC7Cpl3Tcpp6OfqV3+zlSHdl8\n",
       "TuU9phqocIEQ57yiD0tBKTBo4H/YKh7kwEGA9s1lOAPf0g3BzI82wdIymEXYw2Qa+z+HPkPOw30I\n",
       "K8uPh7DZp9nKbICxGvpJGeyoaZZspz7zD408avpBSu7ZPuwgbiZSmf5Ho0uesNjegzAgfakMf7Bj\n",
       "C4+uX3UBdqYeHF3QQ0+GR+AOyNhwf6FQqKlG+uT5EBZuZFVAastEP4GtNJ+8koPqeVcg6XmewWGH\n",
       "/Kv4gsU/2vX0SqC9KnTYICBZS/TDm8TyBj4pDhjBQ2b4WhvtFFalK7Me6jAqwc+YWbjlKwH2JP11\n",
       "BOCUg/52WLiBayAIy/IjtV94oTM4/AzFSi/pwXWbfZifBsI1XPUfR0skt9/JkCwirCrULPAqgK1L\n",
       "6CewT7a8GU9wbYFdvYxCsqZaFZBjHqPU7sNKFnwPg0dB20v+uY18zBbYhT9B3bhsM//s+EcvxD8R\n",
       "mbwytnttsJsgZySeL/L7J+p+DmHDGZCabL5uO/qDZ6uJetXyUAd7tUusMm+sbpBXuV6lKEa8/cvT\n",
       "/wHKVWAygtUwmgAAAABJRU5ErkJggg==\n",
       "\" style=\"display:inline;vertical-align:middle;\" /></a><br>(see <a class=\"ProveItLink\" href=\"../__pv_it/89d8f3f8e68a6ecdc039dc8bb991ed9c5d9277e50/dependencies.ipynb\">dependencies</a>)<br>"
      ],
      "text/plain": [
       "closure: forall_{m in Naturals} [forall_{A in BOOLEANS^{m}} ((A_1 and  ...  and A_m) in BOOLEANS)]"
      ]
     },
     "execution_count": 2,
     "metadata": {},
     "output_type": "execute_result"
    }
   ],
   "source": [
    "%proving closure presuming []"
   ]
  },
  {
   "cell_type": "code",
   "execution_count": null,
   "metadata": {},
   "outputs": [],
   "source": []
  }
 ],
 "metadata": {
  "kernelspec": {
   "display_name": "Python 3",
   "language": "python",
   "name": "python3"
  }
 },
 "nbformat": 4,
 "nbformat_minor": 0
}
