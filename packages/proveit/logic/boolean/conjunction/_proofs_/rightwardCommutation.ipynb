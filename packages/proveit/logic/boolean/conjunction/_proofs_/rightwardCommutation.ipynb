{
 "cells": [
  {
   "cell_type": "markdown",
   "metadata": {},
   "source": [
    "Proof of <a class=\"ProveItLink\" href=\"../../../../_context_.ipynb\">proveit</a>.<a class=\"ProveItLink\" href=\"../../../_context_.ipynb\">logic</a>.<a class=\"ProveItLink\" href=\"../../_context_.ipynb\">boolean</a>.<a class=\"ProveItLink\" href=\"../_context_.ipynb\">conjunction</a>.<a class=\"ProveItLink\" href=\"../_theorems_.ipynb#rightwardCommutation\">rightwardCommutation</a> theorem\n",
    "========"
   ]
  },
  {
   "cell_type": "code",
   "execution_count": 1,
   "metadata": {},
   "outputs": [],
   "source": [
    "import proveit\n",
    "context = proveit.Context('..') # the theorem's context is in the parent directory"
   ]
  },
  {
   "cell_type": "code",
   "execution_count": 2,
   "metadata": {},
   "outputs": [
    {
     "name": "stdout",
     "output_type": "stream",
     "text": [
      "Beginning proof of rightwardCommutation\n",
      "Recorded 'presuming' information\n",
      "Presuming previous theorems (applied transitively).\n"
     ]
    },
    {
     "data": {
      "text/html": [
       "<strong id=\"rightwardCommutation\">rightwardCommutation:</strong> <a class=\"ProveItLink\" href=\"../__pv_it/28be359a605d26065d58046a2c1cba5ccb5bd8f50/expr.ipynb\"><img src=\"data:image/png;base64,iVBORw0KGgoAAAANSUhEUgAABTUAAAAaBAMAAACUZaXiAAAAMFBMVEX///8QEBC6urrMzMxUVFRm\n",
       "ZmZERETc3NwyMjKqqqp2dnaIiIiYmJgiIiLu7u4AAAAU9Wx4AAAAAXRSTlMAQObYZgAAC+RJREFU\n",
       "eNrtW31sFMcVf/dl3+3t7UGI0lYVsWmb0ApRrk1KI6L2TkBBbdT6CDhpvk2iGrWEcn+ggELAblRK\n",
       "QCh3VRupUupwf5AE1ChcEkHTQuRLwDQibTBqSdUW40OKCipgbMw32Nv52Jmd3Z3jZl3H/SM30pz3\n",
       "3uz7zXtvfjvzduYMoF5W9OWgXuplQsrMvqKf23vrEauXCSuNGaj44abxf7AxWKIVldAVn7rqCrf1\n",
       "Dy3UMz6sesS8Obdf1tJgojI0z4eVK7HGzSnr23uSO2bQP+mCT/+lCtVNH5fYOL3xraE304q5SSbD\n",
       "DxS5mSDapQnl5p1WRSVx1aeuTEFvOT9/wbPuFeTyn4x3V6o7Fuzfkjt9yzVp20lzYGCt6SNIRn50\n",
       "4EQ3A4t4hzVkEaO/6NN/mcKNTJevrtVjI4ul0xv//i+2KuLmDvz9eUVuavg5jFYmlJvP2/btPC82\n",
       "rK+yFgjmiQpcHmgDeKzZIdNM5FjQTClj78QT8qxhaVvyMvrYek5ukdQBsxMgZjZb3zo9N1oR18wM\n",
       "+EB1KayvYnotHE9sxD6EWFbxRmWgHBpRqyJuPoX/tClyk9z41IRSM16iFU8f5ojYskGuEM3a842o\n",
       "wOVphJbOOGQ7CZPyytgaCWR0UNpvGk/WgYtSi0DmQMjE01sTG4SDnhv3WMBmL6ijuhU2VDG9Fo4n\n",
       "NmIfQiyreKMwUE4NvUgr4iZ+JiMFRW6SCeyBCeVmoEIrdmanKS50K+QP/OxjtveiApd35wAOFUVZ\n",
       "zCRhuk8Ze+sFsvq2SfvtxhNTdEhqEcgciOOZCfKTLPlxz5230j+bzUFQR3UpMLnH9Bo4ntg4+rBj\n",
       "Wc0bhYFyahiTaEXc1F9dvXqd8nv6wdWrV0/s6/qXrYrKOwFT8DI8Q57Szd3DLx0KXL4U1cMVURYw\n",
       "yebYH5Sxmy6RmBak/a4cxZmuKbVILLyTBmJlP+NRg3umCNJVPt7bNArqqC4FJveYXgPHExtHH3Ys\n",
       "q3mjMFAujR/TirgJF9vb/6nMzWR7+4rihHLzQasiY4ejYhZzUr6nZXQmeEIjKthylIOu+alDtvWi\n",
       "+3Xmxtgxs+0G/ZKFNDkks0jeSZJkHiabaTT3IhuhEe9I5c+BOqpLwZJ7TK+F44mNow87ltW8URgo\n",
       "l8bLtGJuzgNYpszNcAoaxrYBH9oyNm5usSp6vLIRs2w3vCZPLrQyz1AcClweOr9n11GnrOW6C6QG\n",
       "dli0w4NPFsH0RZlF8k7SF4gaI02MTJM/fA6Xn5PUhPb2I3jsOqijuhQsucf0Wjie2Ih9CLGs5o3C\n",
       "QLk0fkMr5uaXEIPBaKkocTOYQY8B0lPavnL6/MTYuHmTVQHeRYkJGvZQG7NmjXTbCBrZiy5VsFzj\n",
       "8jha1M5kHPfm2VurInbUTFXvVyfZU/c1DiZY5Aqn1cmhKyTpYitfcJI75SaTvz4JuvEgzlZEZQof\n",
       "j4py23RFnPzwDfoQYun1ZjYoDpTL/2m0Ym4mII4epZnVprsN98Ibj3JuoroXfT5NYkg3tmMrW5dQ\n",
       "3ulLpy7bhS8WmZObUJ4wx4E0aWzcPGdVMK5AED1boSV0hdBLeBL3lg/ISiAoWK5xeQMyJH7dIesn\n",
       "wxfMqWInaBo7XdpvmCRo+VEGJljk3BvknbRcIqRhs0No0HVnknDzbAFmocn4G99XRGUKwV5Rzk1X\n",
       "xWGxkfZhx9LrDeug9kC5/E/TirkZLycqdJH3lFOtD8MBraJVbG7uBfx2RWaEwFU2PcEbxP7JH8I0\n",
       "aihKQw51gmYle+9v3/6wvU+lb968ga0rpEV/YO/cnoKjtefF/R5uhocmN+FULkaHHBkdykhsPsZ3\n",
       "6pnCy055EmnpVx2yPGFDIKeKHaUvOp+R9hvAmWajWWRggkXOeYN30oQf2w5+TFCFmy2TJ5MtsS5F\n",
       "VKZA01cmt01XxOGxkfVhx1LiTRcoDpTLf4GbRuedPKVzbS0+vn4A/lzKitw8ifuJkel3kZVSLQGY\n",
       "hU3feoxO8ogViKHhKzhXAGNXazmuGW826/wVqlQ89QXWA26J7YabgllH64ttAfb9c1aFX3574ATe\n",
       "E7GG/AVUN3ptjiGgKA0kU9jilKfLxDhR1k3WrW3K2HGyMGoZab8deL8/OsLBBIschXfSSHbI8/yF\n",
       "ga7pj/Th8hEhBn5wY1MGBjpMzs2aqFyBZqtMbpuuiMNjI+vDjqXEmy5QGyi3/8KaDsvmog/MKf2h\n",
       "Gdviu1PWFUAPvnPfr9aK3GxYhR5i8joU/If1KvovFEi8hGKvQySuCeRP/AKZs3dPH6jENXi9HEZ6\n",
       "X0HIKcQ+7TQEUbz3AWmBeUYvPnASWsMpnqI8aVUDE7T/Eh/yjZbb9AcB+IMc9mN3Y4ToXOGSU463\n",
       "5Do6HbLj+CmLdypjG2Sf+G0UoTf/mNnzhBP/EF46Wo5xMFvLgWh3ouPXk/BIhaDh7+78rwGz63gB\n",
       "L8g5NuROVMOLyhWSOVHOTXfj2G46cVhsbHIIfdix9HrDuFlzoNz+v08r4eYLvRanTs8qJzLkUB9f\n",
       "pejh2T7t9ByBmzFMQzKpJabTDMEYBh33H8FHdQYx/iyarbQL+DxDz5LZMbirkjhN9vh78Mw441G8\n",
       "g4/aSAv0xrIJ3dGagL1fde4owCoc05VX2JCTFw28CWGMsI+zvSzDJ3cwBfq42PKlSPmzFYessX9T\n",
       "5ZkjoI697vJLjX9Br1nvXYe/wX4nfsswnHjnfIVzk7dgDBuRd4IS1JSxtv8HBO2vsj0kLGhcQDYC\n",
       "C2zIHag2tI3KFb7mcImZ7sHhbrpxrNjY5LDb7Fh6vWEd1A6m239hDwkC+FQQI6x/G5IpEhl8lQuR\n",
       "VXgfFLcJ3ITPo3oXJQ3dPAxe27MA3xCwj/e3IrSGa3gLIEpW7siioxD5PT5SwlwttU4tYyb2WC1G\n",
       "m1ZoeMvR+m84yFLSmbQmTfQktJjmsDXkeBomZ5nGLWB9HMc+zGVnfFyBuGbL7zPnz3+OgnMZeosz\n",
       "j+Q4N2tiAxxoGrkfhe9UJwzTfJa34d/UmEdSHMxuwRg2Iu8kiRVGFlM08lbQ7N5778Wwo2gQTbQ2\n",
       "dXlRbWiOaivsdrjETAc3DnfThcNiY5PDbrNj6fWGdaAyUE7/n6WVcFNHzGogZtyDHrJogV5Ng9BH\n",
       "7e3LETefOSNy80PAnEPPw62QJ0oamu/xoVryHJuuYSdidXIYc3gOzSphMd0giHyHZJSRu3GamhVb\n",
       "3K32BkrOlYnTIQ+S62ZPGtNsN7IVsSSXy2R+scMlNCtvqoJvcVPWs7yTcImkmt4zS8dLV5dP1OVV\n",
       "5H5xODlk4ZHJusBfMC3/hTNLiwF34M8psBs6gvSqNWhk6LwZvFvkJi6/xtM0egvM0B1uvFtDyUhX\n",
       "e8g307nzLvhWe3t7CTGwSN+E4kcJ+zQNHyiWCTeL9jGT2GpvWBRpdQ+5+oH8Her3+sZOxdsaB5vH\n",
       "BwyhRbII63eehoPeIVcvU6rsRfvG4eRQLH47sPzX0FyCK+fm2TisyTUOoofjgEavpnwRFlJuwkE3\n",
       "N2+nb26HiCBZgOCw9XKO9MnxUwWMwzl838fWvGkxsCdcYOzTs991c1NoFYrwG7kxDTly7RPjZgd6\n",
       "1vW24jhxswMCX0+R3Q1Xcfwq0eeQG4OlcaEOI8cnyE3q/0lyzClwM7wD0uVgG8pFZ79Krx5EWR96\n",
       "iIO/aIYwuLh5hizpkB5ENIaOCqzLogujqQCzs9C4EUIo4Z35d/K8h3OUm/fT1CWLj6/Qqr0WbwKg\n",
       "dx/e4m4Vyiqrshhtv+Dvt83hHerx94t9OyRSoZ/kxgcMoUVeAxoyF5SwW/V0/iF/qN+T/8jMLw4j\n",
       "h3LxbajlP54RF7qchrLn6pX25a4zS76d2n8e9KahQrqs5VuXbCI7Xf/pnzoPkfY6/MzsO0w2Fe8F\n",
       "43Gyw/7Kk0TvNvyrbn3z5vYy4A3NxXaLq9UxMCVaPy3lLYls7afH/XiKVgc3QznvlfsYlekXvITm\n",
       "F7qtgFYnDeWbUC/14ruI3NQlV1W4abR5aGzz+Zt2wlVnZb2MCzdrlz7+/+m/9dBYl6QG4XqA62Ws\n",
       "ZWZfZmyKutJv5F6vR7he/ofyXyvjN+pLGZg6AAAAAElFTkSuQmCC\n",
       "\" style=\"display:inline;vertical-align:middle;\" /></a><br>(see <a class=\"ProveItLink\" href=\"../__pv_it/28be359a605d26065d58046a2c1cba5ccb5bd8f50/dependencies.ipynb\">dependencies</a>)<br>"
      ],
      "text/plain": [
       "rightwardCommutation: forall_{l, m, n in Naturals} [forall_{(A, B, C, D) in BOOLEANS^{l} * BOOLEANS * BOOLEANS^{m} * BOOLEANS^{n}} ((A_1 and  ...  and A_l and B and C_1 and  ...  and C_m and D_1 and  ...  and D_n) = (A_1 and  ...  and A_l and C_1 and  ...  and C_m and B and D_1 and  ...  and D_n))]"
      ]
     },
     "execution_count": 2,
     "metadata": {},
     "output_type": "execute_result"
    }
   ],
   "source": [
    "%proving rightwardCommutation presuming []"
   ]
  },
  {
   "cell_type": "code",
   "execution_count": null,
   "metadata": {},
   "outputs": [],
   "source": []
  }
 ],
 "metadata": {
  "kernelspec": {
   "display_name": "Python 3",
   "language": "python",
   "name": "python3"
  }
 },
 "nbformat": 4,
 "nbformat_minor": 0
}
