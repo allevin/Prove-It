{
 "cells": [
  {
   "cell_type": "markdown",
   "metadata": {},
   "source": [
    "Proof of <a class=\"ProveItLink\" href=\"../../../../_context_.ipynb\">proveit</a>.<a class=\"ProveItLink\" href=\"../../../_context_.ipynb\">logic</a>.<a class=\"ProveItLink\" href=\"../../_context_.ipynb\">boolean</a>.<a class=\"ProveItLink\" href=\"../_context_.ipynb\">conjunction</a>.<a class=\"ProveItLink\" href=\"../_theorems_.ipynb#demorgansLawOrToAnd\">demorgansLawOrToAnd</a> theorem\n",
    "========"
   ]
  },
  {
   "cell_type": "code",
   "execution_count": 1,
   "metadata": {},
   "outputs": [],
   "source": [
    "import proveit\n",
    "context = proveit.Context('..') # the theorem's context is in the parent directory"
   ]
  },
  {
   "cell_type": "code",
   "execution_count": 2,
   "metadata": {},
   "outputs": [
    {
     "name": "stdout",
     "output_type": "stream",
     "text": [
      "Beginning proof of demorgansLawOrToAnd\n",
      "Recorded 'presuming' information\n",
      "Presuming previous theorems (applied transitively).\n"
     ]
    },
    {
     "data": {
      "text/html": [
       "<strong id=\"demorgansLawOrToAnd\">demorgansLawOrToAnd:</strong> <a class=\"ProveItLink\" href=\"../__pv_it/c927bbcd8271494286fc8aefa8202a3969d8221b0/expr.ipynb\"><img src=\"data:image/png;base64,iVBORw0KGgoAAAANSUhEUgAAAbQAAAAZBAMAAACr78bxAAAAMFBMVEX///8QEBC6urrMzMxUVFRm\n",
       "ZmZERETc3NwyMjKqqqp2dnaIiIiYmJgiIiLu7u4AAAAU9Wx4AAAAAXRSTlMAQObYZgAABVJJREFU\n",
       "WMPdmF1oHFUUgM/+zu7s7Gxi0VIfuguWVCiSCUiMEc2SgH0Q2lUsIj64KKbiiwGLlYpmX/WhHaF9\n",
       "smCRahUlXVoMavzZttaHBnTVQrHQdAuigjbZNGlKtM147s/MPbM72TWyKPUyO3vvmTN37nfuueee\n",
       "GYDWJX7hHNyMJXzhfDuVNNysZdf/Ga3WFq32r45oi/iLLK/xviFb1U8KtCr7m26F1kajsyWSl8/9\n",
       "Y403Xjyk6jGLo73P6ntbobXR6GxJSB85ukiE2iqOQ+S6kycXShztRaZSbIXWRqOzZUpOnnOD8hZW\n",
       "sYOSDzlVcuEMR2Nmitmt0NpodLZslIM+6hBh/0ywMpG/7tTJhUsczTiye/crLcNIG43Obkcl8f95\n",
       "yCFOODwVrK3kqWp2he7GNg/+S6Oj51sH/1YaGq7YF5qkydWVm4vNDxkARDDQFhJOzlMwS8FbEJGP\n",
       "W/uukCt6gaONAOxsjeZp9Ioh5Mj1PTgOFZvCMmRHDgV2tkdVe5WHD/JDOmJFWL0Qc7AWEStcrwSv\n",
       "ByJ/Bp68Tk1b4mibkN5/y8COXOrWmkLzNLJixDSkYD2uWiE3ZL8diEZuzCp4PccO2YGonICUU4DI\n",
       "o1U5Bq0UbHZXbnTBl1epX3dxtDSkKmSSP9pRMYoTMEFmzdWIZYuNI0yWAd5UzYeXZOVXSLEV4C0F\n",
       "/mPKruNli8SvlHEzHM1chrCDCkmBNs0dp7ko+ZwNvUt0d6xztFQlTVbs5ObZmjEd86G5Gne91dWI\n",
       "Fh+j7hz+cV7WolbKJmmcaDBlWdyueBlRQxdo0fnuLAvmEg3j4N1BaEq+vbvbt1tINLOE140nthxO\n",
       "TVpgsJ3CuPeeMkXjGli+H19pRAvhTw0yvdmNa6ky09pKXXErV5bF7crdy9xQF+KL540HZn9hwVyg\n",
       "JXFMibFmMiVPrpudHcfd4vSxT/NTTyuHhJ3DAL/3VtJ5Iw8J7rnWxCmKxjVY2MlcaUQbQAupdfAO\n",
       "sLi2jfWdh2OgqQSBNwZIBMuQgLaJH8ILmOebG1jidM1FY8NP8s2Z2c10K0R+CQ2SdsbMk9fhLHzF\n",
       "CEQYgQPYwasfQ8bCkDko0HR9G0U7wB/RV0v8qdD00dHRZ9mQkELUIbIR9pVhcD1w3p8hqkzNG6j8\n",
       "LmqWSFeufQZI1IZd7AHPL7to/ezEaibzubmqrCi59iAzimNrv5VgAe3rBX8IsdX9EPRBwob78dFl\n",
       "w9K+maFoXAO+684u+mctDvvx+XlZhzR6PDbOCTQ9R96YeGO/55xeV41oYRxqxkG33u44CxJt2E3A\n",
       "zNvYDBVlRckdZwWijuNY0XKkC15jE5oTaAab3nUwCeNh+EnMGtzxBUXjGnoejBuNaD04mqKLdhjg\n",
       "26pAQ6FZfIwEXtbocdFEV8bjnw2fZmurx7sEsN63mqreNhpuXmvN8pCVKmr1nJtoyTyhjvP2tS58\n",
       "CNGMiaZX0b4aJq2NaJdx1FVZR3+EobpAM3Db+hBn8KWathdPonHZRRNdJSfhlnBBJLNnaGLbgPb3\n",
       "yzhEy0YRH/0BQUMr/wD9R8B8Cht34infiJZGXzvhbPChRYDtCjOyfnERjOy8zdFiaLo5TKuGxiLX\n",
       "8CQacpOx3K5GzKrOZu0Rfvhfari937taXhNaD6StyHNjYpts+oCAEaHc7gMCiZBsw/qk4TJDY5FW\n",
       "86WPUpmWarKQNsTblRdltXwHkmzue//o20iRriEW/XzlvtttX4biV/Y1dTt+nGc0JE95uQNox6ED\n",
       "aHAQh1ZpVgm2/cFgG/PjP/iiFfAdko4bQw6cas7Jg9/4jcCXmgnw0rpOfoc8+xcKnIRdLkZ3vwAA\n",
       "AABJRU5ErkJggg==\n",
       "\" style=\"display:inline;vertical-align:middle;\" /></a><br>(see <a class=\"ProveItLink\" href=\"../__pv_it/c927bbcd8271494286fc8aefa8202a3969d8221b0/dependencies.ipynb\">dependencies</a>)<br>"
      ],
      "text/plain": [
       "demorgansLawOrToAnd: forall_{m in Naturals} [forall_{A | [not]([not](A_1) or  ...  or [not](A_m))} (A_1 and  ...  and A_m)]"
      ]
     },
     "execution_count": 2,
     "metadata": {},
     "output_type": "execute_result"
    }
   ],
   "source": [
    "%proving demorgansLawOrToAnd presuming []"
   ]
  },
  {
   "cell_type": "code",
   "execution_count": null,
   "metadata": {},
   "outputs": [],
   "source": []
  }
 ],
 "metadata": {
  "kernelspec": {
   "display_name": "Python 3",
   "language": "python",
   "name": "python3"
  }
 },
 "nbformat": 4,
 "nbformat_minor": 0
}
