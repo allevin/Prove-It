{
 "cells": [
  {
   "cell_type": "markdown",
   "metadata": {
    "collapsed": true
   },
   "source": [
    "Proof of <a class=\"ProveItLink\" href=\"../../../../_context_.ipynb\">proveit</a>.<a class=\"ProveItLink\" href=\"../../../_context_.ipynb\">logic</a>.<a class=\"ProveItLink\" href=\"../../_context_.ipynb\">boolean</a>.<a class=\"ProveItLink\" href=\"../_context_.ipynb\">conjunction</a>.<a class=\"ProveItLink\" href=\"../_theorems_.ipynb#falsifiedAndIfNotRight\">falsifiedAndIfNotRight</a> theorem\n",
    "========"
   ]
  },
  {
   "cell_type": "code",
   "execution_count": 1,
   "metadata": {},
   "outputs": [],
   "source": [
    "import proveit\n",
    "from proveit import defaults\n",
    "from proveit.logic.boolean.conjunction._theorems_ import nandIfNotRight\n",
    "context = proveit.Context('..') # the theorem's context is in the parent directory"
   ]
  },
  {
   "cell_type": "code",
   "execution_count": 2,
   "metadata": {},
   "outputs": [
    {
     "name": "stdout",
     "output_type": "stream",
     "text": [
      "Beginning proof of falsifiedAndIfNotRight\n",
      "Recorded 'presuming' information\n",
      "Presuming previous theorems (applied transitively).\n"
     ]
    },
    {
     "data": {
      "text/html": [
       "<strong id=\"falsifiedAndIfNotRight\">falsifiedAndIfNotRight:</strong> <a class=\"ProveItLink\" href=\"../__pv_it/47fa8e7c5d7ca48b941cd0f3d0b246c0cab8db1b0/expr.ipynb\"><img src=\"../__pv_it/47fa8e7c5d7ca48b941cd0f3d0b246c0cab8db1b0/expr.png\" style=\"display:inline;vertical-align:middle;\" /></a><br>(see <a class=\"ProveItLink\" href=\"../__pv_it/47fa8e7c5d7ca48b941cd0f3d0b246c0cab8db1b0/dependencies.ipynb\">dependencies</a>)<br>"
      ],
      "text/plain": [
       "falsifiedAndIfNotRight: forall_{A, B | A , [not](B)} ((A and B) = FALSE)"
      ]
     },
     "execution_count": 2,
     "metadata": {},
     "output_type": "execute_result"
    }
   ],
   "source": [
    "%proving falsifiedAndIfNotRight presuming []"
   ]
  },
  {
   "cell_type": "code",
   "execution_count": 3,
   "metadata": {},
   "outputs": [
    {
     "data": {
      "text/html": [
       "<strong id=\"defaults.assumptions\">defaults.assumptions:</strong> <a class=\"ProveItLink\" href=\"../__pv_it/e028ac08f83abdb3b639fc21c2aed1e347fa581d0/expr.ipynb\"><img src=\"../__pv_it/e028ac08f83abdb3b639fc21c2aed1e347fa581d0/expr.png\" style=\"display:inline;vertical-align:middle;\" /></a><br>"
      ],
      "text/plain": [
       "defaults.assumptions: (A , [not](B))"
      ]
     },
     "execution_count": 3,
     "metadata": {},
     "output_type": "execute_result"
    }
   ],
   "source": [
    "defaults.assumptions = falsifiedAndIfNotRight.allConditions()"
   ]
  },
  {
   "cell_type": "code",
   "execution_count": 4,
   "metadata": {},
   "outputs": [
    {
     "data": {
      "text/html": [
       "<span style=\"font-size:20px;\"> &#x22A2;&nbsp;<a class=\"ProveItLink\" href=\"../__pv_it/79309ecbd8726aea26a3236be3929397e658d53e0/expr.ipynb\"><img src=\"../__pv_it/79309ecbd8726aea26a3236be3929397e658d53e0/expr.png\" style=\"display:inline;vertical-align:middle;\" /></a></span>"
      ],
      "text/plain": [
       "|= forall_{A, B | A , [not](B)} [not](A and B)"
      ]
     },
     "execution_count": 4,
     "metadata": {},
     "output_type": "execute_result"
    }
   ],
   "source": [
    "nandIfNotRight"
   ]
  },
  {
   "cell_type": "code",
   "execution_count": 5,
   "metadata": {},
   "outputs": [
    {
     "data": {
      "text/html": [
       "<strong id=\"nand\">nand:</strong> <span style=\"font-size:20px;\"><a class=\"ProveItLink\" href=\"../__pv_it/6a31bb605d8df310cdd16e25cf8b7154b040475d0/expr.ipynb\"><img src=\"../__pv_it/6a31bb605d8df310cdd16e25cf8b7154b040475d0/expr.png\" style=\"display:inline;vertical-align:middle;\" /></a> &#x22A2;&nbsp;<a class=\"ProveItLink\" href=\"../__pv_it/ae82521a31d6f99f099862f4802f5d78f95d4a870/expr.ipynb\"><img src=\"../__pv_it/ae82521a31d6f99f099862f4802f5d78f95d4a870/expr.png\" style=\"display:inline;vertical-align:middle;\" /></a></span><br>"
      ],
      "text/plain": [
       "nand: {A , [not](B)} |= [not](A and B)"
      ]
     },
     "execution_count": 5,
     "metadata": {},
     "output_type": "execute_result"
    }
   ],
   "source": [
    "nand = nandIfNotRight.specialize()"
   ]
  },
  {
   "cell_type": "code",
   "execution_count": 6,
   "metadata": {},
   "outputs": [
    {
     "data": {
      "text/html": [
       "<table><tr><th>&nbsp;</th><th>step type</th><th>requirements</th><th>statement</th></tr>\n",
       "<tr><td>0</td><td>generalizaton</td><td>1</td><td><span style=\"font-size:20px;\"> &#x22A2;&nbsp;<a class=\"ProveItLink\" href=\"../__pv_it/47fa8e7c5d7ca48b941cd0f3d0b246c0cab8db1b0/expr.ipynb\"><img src=\"../__pv_it/47fa8e7c5d7ca48b941cd0f3d0b246c0cab8db1b0/expr.png\" style=\"display:inline;vertical-align:middle;\" /></a></span></td></tr>\n",
       "<tr><td>1</td><td>specialization</td><td>2, 3</td><td><span style=\"font-size:20px;\"><a class=\"ProveItLink\" href=\"../__pv_it/6a31bb605d8df310cdd16e25cf8b7154b040475d0/expr.ipynb\"><img src=\"../__pv_it/6a31bb605d8df310cdd16e25cf8b7154b040475d0/expr.png\" style=\"display:inline;vertical-align:middle;\" /></a> &#x22A2;&nbsp;<a class=\"ProveItLink\" href=\"../__pv_it/1e8b70c97fc06b89fc3b818b31c08fda8af2762d0/expr.ipynb\"><img src=\"../__pv_it/1e8b70c97fc06b89fc3b818b31c08fda8af2762d0/expr.png\" style=\"display:inline;vertical-align:middle;\" /></a></span></td></tr>\n",
       "<tr><td>&nbsp;</td><td colspan=4 style=\"text-align:left\"><span style=\"font-size:20px;\"><a class=\"ProveItLink\" href=\"../../../../__pv_it/2cbe72a7ad6f655694dd697106680215e8489b600/expr.ipynb\"><img src=\"../../../../__pv_it/2cbe72a7ad6f655694dd697106680215e8489b600/expr.png\" style=\"display:inline;vertical-align:middle;\" /></a> : <a class=\"ProveItLink\" href=\"../__pv_it/edf5921e70ecbc490c6ad683c7c61276640c86b60/expr.ipynb\"><img src=\"../__pv_it/edf5921e70ecbc490c6ad683c7c61276640c86b60/expr.png\" style=\"display:inline;vertical-align:middle;\" /></a></span></td></tr><tr><td>2</td><td>axiom</td><td></td><td><span style=\"font-size:20px;\"> &#x22A2;&nbsp;<a class=\"ProveItLink\" href=\"../../negation/__pv_it/ff54988b43a873b48cad467afd8955bd0735c0210/expr.ipynb\"><img src=\"../../negation/__pv_it/ff54988b43a873b48cad467afd8955bd0735c0210/expr.png\" style=\"display:inline;vertical-align:middle;\" /></a></span></td></tr>\n",
       "<tr><td>&nbsp;</td><td colspan=4 style-\"text-align:left\"><a class=\"ProveItLink\" href=\"../../negation/_axioms_.ipynb#negationElim\">proveit.logic.boolean.negation.negationElim</a></td></tr><tr><td>3</td><td>specialization</td><td>4, 5, 6</td><td><span style=\"font-size:20px;\"><a class=\"ProveItLink\" href=\"../__pv_it/6a31bb605d8df310cdd16e25cf8b7154b040475d0/expr.ipynb\"><img src=\"../__pv_it/6a31bb605d8df310cdd16e25cf8b7154b040475d0/expr.png\" style=\"display:inline;vertical-align:middle;\" /></a> &#x22A2;&nbsp;<a class=\"ProveItLink\" href=\"../__pv_it/ae82521a31d6f99f099862f4802f5d78f95d4a870/expr.ipynb\"><img src=\"../__pv_it/ae82521a31d6f99f099862f4802f5d78f95d4a870/expr.png\" style=\"display:inline;vertical-align:middle;\" /></a></span></td></tr>\n",
       "<tr><td>&nbsp;</td><td colspan=4 style=\"text-align:left\"><span style=\"font-size:20px;\"><a class=\"ProveItLink\" href=\"../../../../__pv_it/2cbe72a7ad6f655694dd697106680215e8489b600/expr.ipynb\"><img src=\"../../../../__pv_it/2cbe72a7ad6f655694dd697106680215e8489b600/expr.png\" style=\"display:inline;vertical-align:middle;\" /></a> : <a class=\"ProveItLink\" href=\"../../../../__pv_it/2cbe72a7ad6f655694dd697106680215e8489b600/expr.ipynb\"><img src=\"../../../../__pv_it/2cbe72a7ad6f655694dd697106680215e8489b600/expr.png\" style=\"display:inline;vertical-align:middle;\" /></a>, <a class=\"ProveItLink\" href=\"../../../../__pv_it/077b2ff79244fb4582cbe22c6e3356fa92a52f2f0/expr.ipynb\"><img src=\"../../../../__pv_it/077b2ff79244fb4582cbe22c6e3356fa92a52f2f0/expr.png\" style=\"display:inline;vertical-align:middle;\" /></a> : <a class=\"ProveItLink\" href=\"../../../../__pv_it/077b2ff79244fb4582cbe22c6e3356fa92a52f2f0/expr.ipynb\"><img src=\"../../../../__pv_it/077b2ff79244fb4582cbe22c6e3356fa92a52f2f0/expr.png\" style=\"display:inline;vertical-align:middle;\" /></a></span></td></tr><tr><td>4</td><td>theorem</td><td></td><td><span style=\"font-size:20px;\"> &#x22A2;&nbsp;<a class=\"ProveItLink\" href=\"../__pv_it/79309ecbd8726aea26a3236be3929397e658d53e0/expr.ipynb\"><img src=\"../__pv_it/79309ecbd8726aea26a3236be3929397e658d53e0/expr.png\" style=\"display:inline;vertical-align:middle;\" /></a></span></td></tr>\n",
       "<tr><td>&nbsp;</td><td colspan=4 style-\"text-align:left\"><a class=\"ProveItLink\" href=\"nandIfNotRight.ipynb\">proveit.logic.boolean.conjunction.nandIfNotRight</a></td></tr><tr><td>5</td><td>assumption</td><td></td><td><span style=\"font-size:20px;\"><a class=\"ProveItLink\" href=\"../__pv_it/158bdc91074824c720728a23dba5d58593c8cc480/expr.ipynb\"><img src=\"../__pv_it/158bdc91074824c720728a23dba5d58593c8cc480/expr.png\" style=\"display:inline;vertical-align:middle;\" /></a> &#x22A2;&nbsp;<a class=\"ProveItLink\" href=\"../../../../__pv_it/2cbe72a7ad6f655694dd697106680215e8489b600/expr.ipynb\"><img src=\"../../../../__pv_it/2cbe72a7ad6f655694dd697106680215e8489b600/expr.png\" style=\"display:inline;vertical-align:middle;\" /></a></span></td></tr>\n",
       "<tr><td>6</td><td>assumption</td><td></td><td><span style=\"font-size:20px;\"><a class=\"ProveItLink\" href=\"../__pv_it/b7e31d75543b3ce9f0c6e088e7bca956c708f1740/expr.ipynb\"><img src=\"../__pv_it/b7e31d75543b3ce9f0c6e088e7bca956c708f1740/expr.png\" style=\"display:inline;vertical-align:middle;\" /></a> &#x22A2;&nbsp;<a class=\"ProveItLink\" href=\"../__pv_it/1da4e2fe7c44632f084fa27ea32e26dc689384c20/expr.ipynb\"><img src=\"../__pv_it/1da4e2fe7c44632f084fa27ea32e26dc689384c20/expr.png\" style=\"display:inline;vertical-align:middle;\" /></a></span></td></tr>\n",
       "</table>"
      ],
      "text/plain": [
       "\tstep type\trequirements\tstatement\n",
       "0\tgeneralizaton\t1\t|= forall_{A, B | A , [not](B)} ((A and B) = FALSE)\n",
       "1\tspecialization\t2, 3\t{A , [not](B)} |= (A and B) = FALSE\n",
       "\tA : A and B\n",
       "2\taxiom\t\t|= forall_{A | [not](A)} (A = FALSE)\n",
       "\tproveit.logic.boolean.negation.negationElim\n",
       "3\tspecialization\t4, 5, 6\t{A , [not](B)} |= [not](A and B)\n",
       "\tA : A, B : B\n",
       "4\ttheorem\t\t|= forall_{A, B | A , [not](B)} [not](A and B)\n",
       "\tproveit.logic.boolean.conjunction.nandIfNotRight\n",
       "5\tassumption\t\t{A} |= A\n",
       "6\tassumption\t\t{[not](B)} |= [not](B)"
      ]
     },
     "execution_count": 6,
     "metadata": {},
     "output_type": "execute_result"
    }
   ],
   "source": [
    "# To do this manually, execute nand.equateNegatedToFalse(assumptions=conditions)\n",
    "# and then generalize.  But it can figure this out via automation.\n",
    "%qed"
   ]
  },
  {
   "cell_type": "code",
   "execution_count": null,
   "metadata": {},
   "outputs": [],
   "source": []
  }
 ],
 "metadata": {
  "kernelspec": {
   "display_name": "Python 3",
   "language": "python",
   "name": "python3"
  },
  "language_info": {
   "codemirror_mode": {
    "name": "ipython",
    "version": 3
   },
   "file_extension": ".py",
   "mimetype": "text/x-python",
   "name": "python",
   "nbconvert_exporter": "python",
   "pygments_lexer": "ipython3",
   "version": "3.7.0"
  }
 },
 "nbformat": 4,
 "nbformat_minor": 1
}
