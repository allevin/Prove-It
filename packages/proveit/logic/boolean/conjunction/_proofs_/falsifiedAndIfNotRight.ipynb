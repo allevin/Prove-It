{
 "cells": [
  {
   "cell_type": "markdown",
   "metadata": {},
   "source": [
    "Proof of <a class=\"ProveItLink\" href=\"../../../../_context_.ipynb\">proveit</a>.<a class=\"ProveItLink\" href=\"../../../_context_.ipynb\">logic</a>.<a class=\"ProveItLink\" href=\"../../_context_.ipynb\">boolean</a>.<a class=\"ProveItLink\" href=\"../_context_.ipynb\">conjunction</a>.<a class=\"ProveItLink\" href=\"../_theorems_.ipynb#falsifiedAndIfNotRight\">falsifiedAndIfNotRight</a> theorem\n",
    "========"
   ]
  },
  {
   "cell_type": "code",
   "execution_count": 1,
   "metadata": {},
   "outputs": [],
   "source": [
    "import proveit\n",
    "from proveit import defaults\n",
    "from proveit.logic.boolean.conjunction._theorems_ import nandIfNotRight\n",
    "context = proveit.Context('..') # the theorem's context is in the parent directory"
   ]
  },
  {
   "cell_type": "code",
   "execution_count": 2,
   "metadata": {},
   "outputs": [
    {
     "name": "stdout",
     "output_type": "stream",
     "text": [
      "Beginning proof of falsifiedAndIfNotRight\n",
      "Recorded 'presuming' information\n"
     ]
    },
    {
     "name": "stdout",
     "output_type": "stream",
     "text": [
      "Presuming previous theorems (applied transitively).\n"
     ]
    },
    {
     "data": {
      "text/html": [
       "<strong id=\"falsifiedAndIfNotRight\">falsifiedAndIfNotRight:</strong> <a class=\"ProveItLink\" href=\"../__pv_it/596c1cdb03c4ec54b4456372fc7b6e2892a0f3c60/expr.ipynb\"><img src=\"data:image/png;base64,iVBORw0KGgoAAAANSUhEUgAAAPMAAAAXBAMAAAAsDWSYAAAAMFBMVEX///8QEBC6urrMzMxUVFRm\n",
       "ZmZERETc3NwyMjKqqqp2dnaIiIiYmJgiIiLu7u4AAAAU9Wx4AAAAAXRSTlMAQObYZgAAAydJREFU\n",
       "SMfFVk1oE0EU/pLNn8kmFk96MoIHQaU5KB5EEjRUby1I6g+U1oOpgrY5lLYi2lKU9iA1l4o3eylW\n",
       "FAmopx4aPVU9tD3Ug1SMouClWGp/VGr1zdvZ3TFmWgioH7zdyXz75pt5895MgP+HUvWu3oJlephx\n",
       "HfOMbEo0XlYlvU8a4VC5Zv1iuq4POF7B7bJ4+BPAPdEYrEp60PW8Kbuu2pynBWiOI1TBbT8/e4FO\n",
       "egVbqlGOFCwTi3wr9+26TSaJSKZgDuukXwAhcvLnq5H2lCwjXGrO8du4aKfOOHVMDiNWo5N+RxO+\n",
       "29V1pap475JGKIxb+eTbbWfdGbJpmsd5nXSAlruczb6uSvq0NErz0p0iNz5ZWUtYBLrb6D2ikw43\n",
       "AEeAVv7Rz89bS5m6BI9nfxrKuW4OS7ghDXjPW0t4gFMWZyyOPZkVjdvicXJA4Npv0psoz3Yi1sup\n",
       "smBlTA0ivEEBW25SKU6HJWyRBsTR08CNKXTLFFwB5lLU2KFbtZeGiSLC0fq4yl3+FLwrqnSsuei6\n",
       "OSxhQRqMdLqea8QswGfFJEADR8SASZ20MU9fFKOclg9nuCtagH9KlQ7PNbhuDqtK09Z4OHA0kJFi\n",
       "bjO9zO8bScd6+UQyClnu+pzARE6VPhhQqt5hCdukgXI1yrsw5GRMkiLl+2YHvOmNwKs/Ao7Ww1wX\n",
       "aOKu2rHHbVClU84yVZZwQVqQpEPzdqIOOWXdIyIxoVu1KdghHvo5xrlrFHhaUqTNfEQMG85ms+cU\n",
       "VtbNCFcUfbwmAifCE7XL2tha2qi44BGFEZvJtPOYZymqeUV6LtO4Jn0CCkvYa1nn9n6Y7V9pJF9c\n",
       "Hq9o/JlOD3B29pXpUuynOfYh8bEpJP05JDk5aYNqE4r0CRhfXGmHFVPOWeZeorLSFFQ6SGEfpBJ7\n",
       "KCuLwX4E1xCcUfbaS3NfRbdMPJcVUx5GxetBRVh7nd+3Gx+WEayfNVYxupQ5lnelY1SwHT+KSQ6e\n",
       "obBll6YOn3SEdYypN7zSDqhEsZJ7h7R1cFRH+HJlHQc00kauknuwYNk6V3pCxzwq7yhqpM1/+3/R\n",
       "97cFfgHZtdahK2JwEgAAAABJRU5ErkJggg==\n",
       "\" style=\"display:inline;vertical-align:middle;\" /></a><br>(see <a class=\"ProveItLink\" href=\"../__pv_it/596c1cdb03c4ec54b4456372fc7b6e2892a0f3c60/dependencies.ipynb\">dependencies</a>)<br>"
      ],
      "text/plain": [
       "falsifiedAndIfNotRight: forall_{A, B | A , [not](B)} ((A and B) = FALSE)"
      ]
     },
     "execution_count": 2,
     "metadata": {},
     "output_type": "execute_result"
    }
   ],
   "source": [
    "%proving falsifiedAndIfNotRight presuming []"
   ]
  },
  {
   "cell_type": "code",
   "execution_count": 3,
   "metadata": {},
   "outputs": [
    {
     "data": {
      "text/html": [
       "<strong id=\"defaults.assumptions\">defaults.assumptions:</strong> <a class=\"ProveItLink\" href=\"../__pv_it/5e68d7c274e461ce273f7542d0fe3ddbf39a254e0/expr.ipynb\"><img src=\"data:image/png;base64,iVBORw0KGgoAAAANSUhEUgAAAEMAAAAVBAMAAADvM06qAAAAMFBMVEX////c3NwiIiJERESqqqqY\n",
       "mJh2dnZmZmYQEBDu7u4yMjJUVFTMzMyIiIi6uroAAAAs73DqAAAAAXRSTlMAQObYZgAAAUpJREFU\n",
       "KM9jYCAC8F3AJxsHIk5D2IfQ5Fj3/969eR0D+wEgeyVEaD26fg4DBob6BwwLGBh4Ifaw6k9AU3Ie\n",
       "KHF+A0MYUDFESqReAE3JfaBAfALDDAaGVxCBC/cfoCmxAGKNCQzMDgxlEG9N8A9AU/KbgUHKkoGB\n",
       "rYBhKZg/D2w1MuD5ffe6KpBmWcDQBxZ4wCBfAJEqUgICNaA3PjIwTNoANL+B4R9Yy+7d+w2QjACG\n",
       "FXMDUNlXoNQHiBI+oM8WoCrhB5rA+g2spAUk5MDAwNSAquQ80PncX8AWmQJFGIFKuD4wMExAUgIK\n",
       "FnmgyawLGNKBIrOAmPknA+cnuHfAwcLTNQHs6UcMDML9CxlY7X8VcPYjQrj4/+7dq0BBxfWAgQMp\n",
       "4PkEMFMDMAJYE5ASAJYEk4tIDDiUcILCQhrBx5L+uEF2M+JNmHcYGADtDFGeUCocqwAAAABJRU5E\n",
       "rkJggg==\n",
       "\" style=\"display:inline;vertical-align:middle;\" /></a><br>"
      ],
      "text/plain": [
       "defaults.assumptions: (A , [not](B))"
      ]
     },
     "execution_count": 3,
     "metadata": {},
     "output_type": "execute_result"
    }
   ],
   "source": [
    "defaults.assumptions = falsifiedAndIfNotRight.allConditions()"
   ]
  },
  {
   "cell_type": "code",
   "execution_count": 4,
   "metadata": {},
   "outputs": [
    {
     "data": {
      "text/html": [
       "<span style=\"font-size:20px;\"> <a class=\"ProveItLink\" href=\"nandIfNotRight.ipynb\" style=\"text-decoration: none\">&#x22A2;&nbsp;</a><a class=\"ProveItLink\" href=\"../__pv_it/76cf54230d436297ebcc3d6dd79e4e16b1651e810/expr.ipynb\"><img src=\"data:image/png;base64,iVBORw0KGgoAAAANSUhEUgAAANkAAAAXBAMAAAB0cveBAAAAMFBMVEX///8QEBC6urrMzMxUVFRm\n",
       "ZmZERETc3NwyMjKqqqp2dnaIiIiYmJgiIiLu7u4AAAAU9Wx4AAAAAXRSTlMAQObYZgAAAvZJREFU\n",
       "SMe9VUtoE0EY/prNdmteBg+CBzWIB6GKEQQPIg0atOChveSgWF/gtuCjOUiriDWXWihSc6lX96JW\n",
       "FFnQWw+NouDjYA/WgyhGUSlUtJS21gfVmf+fbbbZrOCi/vBn55t/Zr6Z/xXgv0o5+NaQ7Qc8ck/p\n",
       "qARPArFtrgG2Va25/zOb7UhBT4P0upwbCMQ2UANcVLDHmV8uaKaAAki7xMc4GIQsantB7LWKTK+a\n",
       "174LnQYeg7RBmPViELa6shecPpBnkuPKGP0irvANeAPS2LXu7rOBHLmuBrBHUvQNN6qH1yeB+Crx\n",
       "LbLOmuaLQGx7vSBUvlyiwThnH7A0A+O8eGeklXUH0E6GPvq9NJPbma46N+UaV+wX3EsYvEUTv+km\n",
       "9vB80+7hNnmBJQXWtUgUKMBTHOckokke9ff38k3dSVSxLxMBfyXFYkDXOtdKg1Gc4uUjeSSeyVcn\n",
       "WeOI0pnvf5BZzyAkIjuR2wfbmljjYVN2IVNO2mUcoGWzLbQ2ZiPMDjgkGcX52iRrtBSn/Lk1Rua4\n",
       "DX0U0cM9nwRb5KOHje212UIiN8lP4kSaBUTy46lVYUsUqA1otknmz2k8zOMBJZjVuN/DxnYpK9xs\n",
       "BETOxcnLg04aaNJhLcWKJ9G+nXIWbbR34/CdE1z6sHMrvXFju5RjbjYJDHFqw6STcINOuRlz0rcF\n",
       "VgySYx5hhPYOAXfLmsVv07dW2CKmaXYoO81ecS6QVmBc1te85Jcb4k65bZJNzakA1MmkTYzlOumQ\n",
       "I8JZRe25aR6VcYssflu9shPY4K4AAbpW9yHWOSeODKdUL9M7p7PNVBwNKVbEJIueRxNl0VfhrHQi\n",
       "w2+rwUZ2blZ5d+dyg5CnSp3OpWS9KPuS0QdjHoZIzl3Kk2eq2ZSd0txyl6H1+8ZzQynJu1kYLS9F\n",
       "Bg3N5JqFoz6kqLrNqizRHLvvP46PyAbCTcR9w4XRVRG3BfH5QzrpCzwSzrMuki211/qwGbYf8Mht\n",
       "pYuk9Eds/0gyf+ugX4AT3CkTUBU0AAAAAElFTkSuQmCC\n",
       "\" style=\"display:inline;vertical-align:middle;\" /></a></span>"
      ],
      "text/plain": [
       "|- forall_{A, B in BOOLEANS | [not](B)} [not](A and B)"
      ]
     },
     "execution_count": 4,
     "metadata": {},
     "output_type": "execute_result"
    }
   ],
   "source": [
    "nandIfNotRight"
   ]
  },
  {
   "cell_type": "code",
   "execution_count": 5,
   "metadata": {},
   "outputs": [
    {
     "data": {
      "text/html": [
       "<strong id=\"nand\">nand:</strong> <span style=\"font-size:20px;\"><a class=\"ProveItLink\" href=\"../__pv_it/74f196fc80191c533e74432d24e0bc97b24bea910/expr.ipynb\"><img src=\"data:image/png;base64,iVBORw0KGgoAAAANSUhEUgAAAEkAAAAVBAMAAAD4Ed5jAAAAMFBMVEX///9ERETc3NyqqqpUVFS6\n",
       "urrMzMwyMjIQEBCIiIh2dnYiIiLu7u5mZmaYmJgAAABJJ2g3AAAAAXRSTlMAQObYZgAAATRJREFU\n",
       "KM9jYGDgu8eAB7CtUgBRPLsY8AK2ZhDJ+QHK24Am/eS/i4t4AAPDdRCHqwEiyP4B3ZRGBgberwwM\n",
       "K5BVvf6DbtVPIP6CqorJ9hOaKk6gAN8vVFWcnF/RVDECJbh7UFXFMP9DU8XvwMBUeACqircAHB4B\n",
       "IGeggHzPmbcfAOn3IE5GAIhkZWD6C5Hk3Q0CCxgY5isw8GwBef4CA0NKG1guxcXlI7L/HBgYJID0\n",
       "fJBh4kAiIgEkDDSwHU3VF5BtQDO5gZiBBeQuZiDegaqKDeQbfwOou7hAMaMMxPVAPyCpAgUX03cG\n",
       "pJDgAZknf4DhPDwuE8DBlVGDpIpJ4rsCw8P/tQwnEOHPK//Fxb2OgQEtHsEgCEvSwVT1AJcqPkKq\n",
       "wOmLZydSMsCWVlvBFN9igukeAD8XVRsTY8XvAAAAAElFTkSuQmCC\n",
       "\" style=\"display:inline;vertical-align:middle;\" /></a> <a class=\"ProveItLink\" href=\"../__pv_it/2af336f04833d900d04e132df0ed0bff3903a1460/proof.ipynb\" style=\"text-decoration: none\">&#x22A2;&nbsp;</a><a class=\"ProveItLink\" href=\"../__pv_it/901fc5ac00a73e9ce3fba7bedaf6642fd77d807b0/expr.ipynb\"><img src=\"data:image/png;base64,iVBORw0KGgoAAAANSUhEUgAAAFYAAAAVBAMAAAAutAQGAAAAMFBMVEX////c3NxERESqqqqYmJgQ\n",
       "EBDu7u4yMjKIiIi6urpUVFTMzMx2dnYiIiJmZmYAAABjE816AAAAAXRSTlMAQObYZgAAAXRJREFU\n",
       "KM9jYCAPzMAnyTIBmce9AEJdQFO0/teqRZUMDK+RBdkTINQHCJcxASrOqsDA8H4CAzuy2g4I5fsN\n",
       "qvUBVHx/AxAvYGA5gKQ2DGKc3UcId9M1qHi/AAOD/wEGtgCEUs4CMMXB8RPCXwm1h0EViK8CHaSM\n",
       "UMsHsWMa8xcwzVbAC5X4xcAgrgakzyF5zQGsZAL3DzCXx4HPABIuvzr6roAY5gxv7wLBHZB3wQHI\n",
       "ycD4D6yEl4ER6iig+3NBwTkVYuYuIOYHq921atUnsJAHA8NqMIMJ6CcOkLv2o6sFEuFgoWsQUaA4\n",
       "0EyWP6hqWUHOYwb5GSTCDAxddgFw8AL9wfUZ1Q1MIL8JA3E92KcCEPWQ4JUHOd0dmhRAHn8ACigg\n",
       "Qx8UuZtAwhegwcsdnoAaZpwXGBhVvwswOP2vA8UELNYf/V+1qhwcnJVIcRyInDigAYgEkOOYwQd/\n",
       "6uZpwEyTuEA6ModxAV61C1F4EviUcmxgAADgOliiO22GuAAAAABJRU5ErkJggg==\n",
       "\" style=\"display:inline;vertical-align:middle;\" /></a></span><br>"
      ],
      "text/plain": [
       "nand: {A , [not](B)} |- [not](A and B)"
      ]
     },
     "execution_count": 5,
     "metadata": {},
     "output_type": "execute_result"
    }
   ],
   "source": [
    "nand = nandIfNotRight.specialize()"
   ]
  },
  {
   "cell_type": "code",
   "execution_count": 6,
   "metadata": {},
   "outputs": [
    {
     "data": {
      "text/html": [
       "<table><tr><th>&nbsp;</th><th>step type</th><th>requirements</th><th>statement</th></tr>\n",
       "<tr><td>0</td><td>generalizaton</td><td>1</td><td><span style=\"font-size:20px;\"> <a class=\"ProveItLink\" href=\"../__pv_it/6d8a9a15b677c3c86ad250b2fa1eb40da73d2ab70/proof.ipynb\" style=\"text-decoration: none\">&#x22A2;&nbsp;</a><a class=\"ProveItLink\" href=\"../__pv_it/596c1cdb03c4ec54b4456372fc7b6e2892a0f3c60/expr.ipynb\"><img src=\"data:image/png;base64,iVBORw0KGgoAAAANSUhEUgAAAPMAAAAXBAMAAAAsDWSYAAAAMFBMVEX///8QEBC6urrMzMxUVFRm\n",
       "ZmZERETc3NwyMjKqqqp2dnaIiIiYmJgiIiLu7u4AAAAU9Wx4AAAAAXRSTlMAQObYZgAAAydJREFU\n",
       "SMfFVk1oE0EU/pLNn8kmFk96MoIHQaU5KB5EEjRUby1I6g+U1oOpgrY5lLYi2lKU9iA1l4o3eylW\n",
       "FAmopx4aPVU9tD3Ug1SMouClWGp/VGr1zdvZ3TFmWgioH7zdyXz75pt5895MgP+HUvWu3oJlephx\n",
       "HfOMbEo0XlYlvU8a4VC5Zv1iuq4POF7B7bJ4+BPAPdEYrEp60PW8Kbuu2pynBWiOI1TBbT8/e4FO\n",
       "egVbqlGOFCwTi3wr9+26TSaJSKZgDuukXwAhcvLnq5H2lCwjXGrO8du4aKfOOHVMDiNWo5N+RxO+\n",
       "29V1pap475JGKIxb+eTbbWfdGbJpmsd5nXSAlruczb6uSvq0NErz0p0iNz5ZWUtYBLrb6D2ikw43\n",
       "AEeAVv7Rz89bS5m6BI9nfxrKuW4OS7ghDXjPW0t4gFMWZyyOPZkVjdvicXJA4Npv0psoz3Yi1sup\n",
       "smBlTA0ivEEBW25SKU6HJWyRBsTR08CNKXTLFFwB5lLU2KFbtZeGiSLC0fq4yl3+FLwrqnSsuei6\n",
       "OSxhQRqMdLqea8QswGfFJEADR8SASZ20MU9fFKOclg9nuCtagH9KlQ7PNbhuDqtK09Z4OHA0kJFi\n",
       "bjO9zO8bScd6+UQyClnu+pzARE6VPhhQqt5hCdukgXI1yrsw5GRMkiLl+2YHvOmNwKs/Ao7Ww1wX\n",
       "aOKu2rHHbVClU84yVZZwQVqQpEPzdqIOOWXdIyIxoVu1KdghHvo5xrlrFHhaUqTNfEQMG85ms+cU\n",
       "VtbNCFcUfbwmAifCE7XL2tha2qi44BGFEZvJtPOYZymqeUV6LtO4Jn0CCkvYa1nn9n6Y7V9pJF9c\n",
       "Hq9o/JlOD3B29pXpUuynOfYh8bEpJP05JDk5aYNqE4r0CRhfXGmHFVPOWeZeorLSFFQ6SGEfpBJ7\n",
       "KCuLwX4E1xCcUfbaS3NfRbdMPJcVUx5GxetBRVh7nd+3Gx+WEayfNVYxupQ5lnelY1SwHT+KSQ6e\n",
       "obBll6YOn3SEdYypN7zSDqhEsZJ7h7R1cFRH+HJlHQc00kauknuwYNk6V3pCxzwq7yhqpM1/+3/R\n",
       "97cFfgHZtdahK2JwEgAAAABJRU5ErkJggg==\n",
       "\" style=\"display:inline;vertical-align:middle;\" /></a></span></td></tr>\n",
       "<tr><td>1</td><td>specialization</td><td>2, 3</td><td><span style=\"font-size:20px;\"><a class=\"ProveItLink\" href=\"../__pv_it/74f196fc80191c533e74432d24e0bc97b24bea910/expr.ipynb\"><img src=\"data:image/png;base64,iVBORw0KGgoAAAANSUhEUgAAAEkAAAAVBAMAAAD4Ed5jAAAAMFBMVEX///9ERETc3NyqqqpUVFS6\n",
       "urrMzMwyMjIQEBCIiIh2dnYiIiLu7u5mZmaYmJgAAABJJ2g3AAAAAXRSTlMAQObYZgAAATRJREFU\n",
       "KM9jYGDgu8eAB7CtUgBRPLsY8AK2ZhDJ+QHK24Am/eS/i4t4AAPDdRCHqwEiyP4B3ZRGBgberwwM\n",
       "K5BVvf6DbtVPIP6CqorJ9hOaKk6gAN8vVFWcnF/RVDECJbh7UFXFMP9DU8XvwMBUeACqircAHB4B\n",
       "IGeggHzPmbcfAOn3IE5GAIhkZWD6C5Hk3Q0CCxgY5isw8GwBef4CA0NKG1guxcXlI7L/HBgYJID0\n",
       "fJBh4kAiIgEkDDSwHU3VF5BtQDO5gZiBBeQuZiDegaqKDeQbfwOou7hAMaMMxPVAPyCpAgUX03cG\n",
       "pJDgAZknf4DhPDwuE8DBlVGDpIpJ4rsCw8P/tQwnEOHPK//Fxb2OgQEtHsEgCEvSwVT1AJcqPkKq\n",
       "wOmLZydSMsCWVlvBFN9igukeAD8XVRsTY8XvAAAAAElFTkSuQmCC\n",
       "\" style=\"display:inline;vertical-align:middle;\" /></a> <a class=\"ProveItLink\" href=\"../__pv_it/4003c5cb7b2ea3a33c4b3e069b258b8d8fae6eb70/proof.ipynb\" style=\"text-decoration: none\">&#x22A2;&nbsp;</a><a class=\"ProveItLink\" href=\"../__pv_it/0fc735d8e5882fa161f9a395b944ce0f4e1787270/expr.ipynb\"><img src=\"data:image/png;base64,iVBORw0KGgoAAAANSUhEUgAAAHAAAAAVBAMAAABs93eRAAAAMFBMVEX////c3NwiIiJERESqqqqY\n",
       "mJh2dnZmZmYQEBDu7u4yMjJUVFTMzMyIiIi6uroAAAAs73DqAAAAAXRSTlMAQObYZgAAAYxJREFU\n",
       "OMtjYCAb8F3AJ8v6AKfUaQh1CF3H/t+7N69jYKjBokUWTK6EcNZDBSVhshwGDAz1Dxi4sGg8DiJ4\n",
       "IS5l1Z8AEVwOkz0PlDi/gYE1AYdGDogGkXoBMM1jBDWA4T5QID6BgbMBh8ZXEPaF+5BQ4H4LCysL\n",
       "INYAmmKCQ2MZJGgn+AeAGbMYFKCyvxkYpCyBdDoOjUvBzHlgLwFBKkMJRJLn993rqiCGF4ioWgUC\n",
       "q5E19oGZDxjkC8AMBQYpiCTvRwaGSRuAjBc4bPwHNn737v0G4MC9wMB9ACzJDAwU3q+g0MWnkQ8Y\n",
       "ugtADKYJDDwbwJL8QIr1Gx6NLSDCAagFHOzuQLwQEo3AwOL+AnNqkRIIKCNrNAViRqBGrg8MUE3u\n",
       "8GiUB7kiCoeN6eA4APrpJ8ivII8ywaKRp2sCnuh4xMAg3L+QgdX+FzBYuR/AEmHx/927V4Gjdh2a\n",
       "LqCrNUCu5hBAzmLQuEEC2JIcJHUn4M+ubDiz60r8GmfhlJHGr3EjThlGvEUH7wEcEgCi6WcgTfwD\n",
       "wAAAAABJRU5ErkJggg==\n",
       "\" style=\"display:inline;vertical-align:middle;\" /></a></span></td></tr>\n",
       "<tr><td>&nbsp;</td><td colspan=4 style=\"text-align:left\"><span style=\"font-size:20px;\"><a class=\"ProveItLink\" href=\"../../../../__pv_it/2cbe72a7ad6f655694dd697106680215e8489b600/expr.ipynb\"><img src=\"data:image/png;base64,iVBORw0KGgoAAAANSUhEUgAAAA8AAAAOBAMAAAACpFvcAAAALVBMVEX///8QEBBERERUVFS6urqI\n",
       "iIhmZmaqqqrc3Nzu7u6YmJgyMjIiIiLMzMwAAADtIaYWAAAAAXRSTlMAQObYZgAAAFtJREFUCNdj\n",
       "YACBOwxQsA9Kc52bAGG05zVAGAFxDmCaZULdAjBjCsO9ADDDgaEvAUTzGhvbKYCVMDAwbgAxChgY\n",
       "eASANAeQwf0AyJgNxEwvGRia5HYwcOm9TgAA6BoR3jrzwFcAAAAASUVORK5CYII=\n",
       "\" style=\"display:inline;vertical-align:middle;\" /></a> : <a class=\"ProveItLink\" href=\"../__pv_it/42be287793a6c836f70efb0ab4503e1a268d24400/expr.ipynb\"><img src=\"data:image/png;base64,iVBORw0KGgoAAAANSUhEUgAAADcAAAAPBAMAAACy3Eq1AAAAMFBMVEX///92dnYQEBBERERUVFS6\n",
       "urqIiIhmZmaqqqrc3Nzu7u6YmJgyMjIiIiLMzMwAAACFkkdwAAAAAXRSTlMAQObYZgAAAPtJREFU\n",
       "GNNjYACBtwyogNv/i4vzUSjnPJSeBZNlMmBgqA+AKLy/ACJ2HCb5PgGIHcDMGfUTwDSfLVQRQz5Q\n",
       "YL8AmJmQDzGBJSwBKmkExJfAKlkX9G8AC61huACV/MLAMMcKzFoKtgIIpBkqIHJ8X9LSb0OYAQzz\n",
       "C8CMCwxzICJsPxkY1oLdw+fi4m8AdnQCA8sDsCSzAlDBb7CVQG8dADF4FzDwQZzPD6S4P4JYDUBh\n",
       "BRCjHYhPQrwJdCDLDyCDEyjJ84EBKtEO9+b8A2D3A+34BbIbZDEvzJt8OkBvTtY/ycBt/wfoXBZQ\n",
       "SLCBPFX838XlzAaUqGCF+gsBAFd8PNYBN2/JAAAAAElFTkSuQmCC\n",
       "\" style=\"display:inline;vertical-align:middle;\" /></a></span></td></tr><tr><td>2</td><td>axiom</td><td></td><td><span style=\"font-size:20px;\"> <a class=\"ProveItLink\" href=\"../../negation/_axioms_.ipynb#negationElim\" style=\"text-decoration: none\">&#x22A2;&nbsp;</a><a class=\"ProveItLink\" href=\"../../negation/__pv_it/3b08940eb52ec7364a09d58733ea5eec05fbe9620/expr.ipynb\"><img src=\"data:image/png;base64,iVBORw0KGgoAAAANSUhEUgAAAJcAAAAXBAMAAAD0AcCSAAAAMFBMVEX///8QEBC6urrMzMxUVFRm\n",
       "ZmZERETc3NwyMjKqqqp2dnaIiIiYmJgiIiLu7u4AAAAU9Wx4AAAAAXRSTlMAQObYZgAAAbxJREFU\n",
       "OMtjYKAmeECsQqYN+OUPAfEFEOM0EYaZQChbLFLVIILVgIFhJYjRR4RhUDX9WKRMwWQDA0MZkGJP\n",
       "IGwWN8SXPPcf4DLsFAMDB1CSdQJhwxghhlTGF+Ay7CHQquXl5bVE+FIDQm3Yr4DLMDagk76lpd0i\n",
       "wrAoSJQ+mH8Al2FcAQwMzgwM6WBOO0Q5qrp2GKMHTD5isAeHXUQHCLSgGMYJjAEVBr4GcNB+gjgW\n",
       "xSyoIBAIgUkFhvoAXC5jEmBg4GXgBrv86R8shkEFgQBsKrOLi38CLsOYPwDj/AAvOKLWXcViGFQQ\n",
       "ZhgwDBgb8BnG1wBO28wb0jANgwkCgSSIAMYXrwCIEXsXBK5heJMh3QnEZGGIxTQMJggEOaDEDTSM\n",
       "4wMul/GA3DwVnD1PMuxHMmxZWlpaA0IQCJYC8QuQ/D98SYOBERTZfFdD8x+guiwBIQgEusCcJ9/O\n",
       "wJP/Ay06gT6+CPYxByg584DUsxYw2BugGwYXBFlZQChZP4SzdBgY+A+gGwYXBFm5gJBhq2GMJ98Y\n",
       "2P3voBpmgBAkppjiw5Jm2HApLiFgGEsBCYaxEyi2NzOQYBg5gIUCvQCemG+1sUJnVwAAAABJRU5E\n",
       "rkJggg==\n",
       "\" style=\"display:inline;vertical-align:middle;\" /></a></span></td></tr>\n",
       "<tr><td>&nbsp;</td><td colspan=4 style-\"text-align:left\"><a class=\"ProveItLink\" href=\"../../negation/_axioms_.ipynb#negationElim\">proveit.logic.boolean.negation.negationElim</a></td></tr><tr><td>3</td><td>specialization</td><td>4, 5, 6, 10</td><td><span style=\"font-size:20px;\"><a class=\"ProveItLink\" href=\"../__pv_it/74f196fc80191c533e74432d24e0bc97b24bea910/expr.ipynb\"><img src=\"data:image/png;base64,iVBORw0KGgoAAAANSUhEUgAAAEkAAAAVBAMAAAD4Ed5jAAAAMFBMVEX///9ERETc3NyqqqpUVFS6\n",
       "urrMzMwyMjIQEBCIiIh2dnYiIiLu7u5mZmaYmJgAAABJJ2g3AAAAAXRSTlMAQObYZgAAATRJREFU\n",
       "KM9jYGDgu8eAB7CtUgBRPLsY8AK2ZhDJ+QHK24Am/eS/i4t4AAPDdRCHqwEiyP4B3ZRGBgberwwM\n",
       "K5BVvf6DbtVPIP6CqorJ9hOaKk6gAN8vVFWcnF/RVDECJbh7UFXFMP9DU8XvwMBUeACqircAHB4B\n",
       "IGeggHzPmbcfAOn3IE5GAIhkZWD6C5Hk3Q0CCxgY5isw8GwBef4CA0NKG1guxcXlI7L/HBgYJID0\n",
       "fJBh4kAiIgEkDDSwHU3VF5BtQDO5gZiBBeQuZiDegaqKDeQbfwOou7hAMaMMxPVAPyCpAgUX03cG\n",
       "pJDgAZknf4DhPDwuE8DBlVGDpIpJ4rsCw8P/tQwnEOHPK//Fxb2OgQEtHsEgCEvSwVT1AJcqPkKq\n",
       "wOmLZydSMsCWVlvBFN9igukeAD8XVRsTY8XvAAAAAElFTkSuQmCC\n",
       "\" style=\"display:inline;vertical-align:middle;\" /></a> <a class=\"ProveItLink\" href=\"../__pv_it/2af336f04833d900d04e132df0ed0bff3903a1460/proof.ipynb\" style=\"text-decoration: none\">&#x22A2;&nbsp;</a><a class=\"ProveItLink\" href=\"../__pv_it/901fc5ac00a73e9ce3fba7bedaf6642fd77d807b0/expr.ipynb\"><img src=\"data:image/png;base64,iVBORw0KGgoAAAANSUhEUgAAAFYAAAAVBAMAAAAutAQGAAAAMFBMVEX////c3NxERESqqqqYmJgQ\n",
       "EBDu7u4yMjKIiIi6urpUVFTMzMx2dnYiIiJmZmYAAABjE816AAAAAXRSTlMAQObYZgAAAXRJREFU\n",
       "KM9jYCAPzMAnyTIBmce9AEJdQFO0/teqRZUMDK+RBdkTINQHCJcxASrOqsDA8H4CAzuy2g4I5fsN\n",
       "qvUBVHx/AxAvYGA5gKQ2DGKc3UcId9M1qHi/AAOD/wEGtgCEUs4CMMXB8RPCXwm1h0EViK8CHaSM\n",
       "UMsHsWMa8xcwzVbAC5X4xcAgrgakzyF5zQGsZAL3DzCXx4HPABIuvzr6roAY5gxv7wLBHZB3wQHI\n",
       "ycD4D6yEl4ER6iig+3NBwTkVYuYuIOYHq921atUnsJAHA8NqMIMJ6CcOkLv2o6sFEuFgoWsQUaA4\n",
       "0EyWP6hqWUHOYwb5GSTCDAxddgFw8AL9wfUZ1Q1MIL8JA3E92KcCEPWQ4JUHOd0dmhRAHn8ACigg\n",
       "Qx8UuZtAwhegwcsdnoAaZpwXGBhVvwswOP2vA8UELNYf/V+1qhwcnJVIcRyInDigAYgEkOOYwQd/\n",
       "6uZpwEyTuEA6ModxAV61C1F4EviUcmxgAADgOliiO22GuAAAAABJRU5ErkJggg==\n",
       "\" style=\"display:inline;vertical-align:middle;\" /></a></span></td></tr>\n",
       "<tr><td>&nbsp;</td><td colspan=4 style=\"text-align:left\"><span style=\"font-size:20px;\"><a class=\"ProveItLink\" href=\"../../../../__pv_it/2cbe72a7ad6f655694dd697106680215e8489b600/expr.ipynb\"><img src=\"data:image/png;base64,iVBORw0KGgoAAAANSUhEUgAAAA8AAAAOBAMAAAACpFvcAAAALVBMVEX///8QEBBERERUVFS6urqI\n",
       "iIhmZmaqqqrc3Nzu7u6YmJgyMjIiIiLMzMwAAADtIaYWAAAAAXRSTlMAQObYZgAAAFtJREFUCNdj\n",
       "YACBOwxQsA9Kc52bAGG05zVAGAFxDmCaZULdAjBjCsO9ADDDgaEvAUTzGhvbKYCVMDAwbgAxChgY\n",
       "eASANAeQwf0AyJgNxEwvGRia5HYwcOm9TgAA6BoR3jrzwFcAAAAASUVORK5CYII=\n",
       "\" style=\"display:inline;vertical-align:middle;\" /></a> : <a class=\"ProveItLink\" href=\"../../../../__pv_it/2cbe72a7ad6f655694dd697106680215e8489b600/expr.ipynb\"><img src=\"data:image/png;base64,iVBORw0KGgoAAAANSUhEUgAAAA8AAAAOBAMAAAACpFvcAAAALVBMVEX///8QEBBERERUVFS6urqI\n",
       "iIhmZmaqqqrc3Nzu7u6YmJgyMjIiIiLMzMwAAADtIaYWAAAAAXRSTlMAQObYZgAAAFtJREFUCNdj\n",
       "YACBOwxQsA9Kc52bAGG05zVAGAFxDmCaZULdAjBjCsO9ADDDgaEvAUTzGhvbKYCVMDAwbgAxChgY\n",
       "eASANAeQwf0AyJgNxEwvGRia5HYwcOm9TgAA6BoR3jrzwFcAAAAASUVORK5CYII=\n",
       "\" style=\"display:inline;vertical-align:middle;\" /></a>, <a class=\"ProveItLink\" href=\"../../../../__pv_it/077b2ff79244fb4582cbe22c6e3356fa92a52f2f0/expr.ipynb\"><img src=\"data:image/png;base64,iVBORw0KGgoAAAANSUhEUgAAABAAAAAOBAMAAADUAYG5AAAAMFBMVEX///+qqqru7u4iIiJ2dnbc\n",
       "3NyIiIjMzMxmZmYQEBC6uroyMjJERERUVFSYmJgAAADLUcuvAAAAAXRSTlMAQObYZgAAAGpJREFU\n",
       "CNdjYGB4+//u3dMLGIBgDgMDxy8gzf4NiP8CGWxfGRj4vgAZPBMYGJgnARn8FxhY9ygAGfXX0pof\n",
       "gDTlBzAw2YIYJ0EckBBI53sHoBH/gIz7AhBjWH9DjancBLTl/N+7t/cxMAAA3u4f/5xagjYAAAAA\n",
       "SUVORK5CYII=\n",
       "\" style=\"display:inline;vertical-align:middle;\" /></a> : <a class=\"ProveItLink\" href=\"../../../../__pv_it/077b2ff79244fb4582cbe22c6e3356fa92a52f2f0/expr.ipynb\"><img src=\"data:image/png;base64,iVBORw0KGgoAAAANSUhEUgAAABAAAAAOBAMAAADUAYG5AAAAMFBMVEX///+qqqru7u4iIiJ2dnbc\n",
       "3NyIiIjMzMxmZmYQEBC6uroyMjJERERUVFSYmJgAAADLUcuvAAAAAXRSTlMAQObYZgAAAGpJREFU\n",
       "CNdjYGB4+//u3dMLGIBgDgMDxy8gzf4NiP8CGWxfGRj4vgAZPBMYGJgnARn8FxhY9ygAGfXX0pof\n",
       "gDTlBzAw2YIYJ0EckBBI53sHoBH/gIz7AhBjWH9DjancBLTl/N+7t/cxMAAA3u4f/5xagjYAAAAA\n",
       "SUVORK5CYII=\n",
       "\" style=\"display:inline;vertical-align:middle;\" /></a></span></td></tr><tr><td>4</td><td>theorem</td><td></td><td><span style=\"font-size:20px;\"> <a class=\"ProveItLink\" href=\"nandIfNotRight.ipynb\" style=\"text-decoration: none\">&#x22A2;&nbsp;</a><a class=\"ProveItLink\" href=\"../__pv_it/76cf54230d436297ebcc3d6dd79e4e16b1651e810/expr.ipynb\"><img src=\"data:image/png;base64,iVBORw0KGgoAAAANSUhEUgAAANkAAAAXBAMAAAB0cveBAAAAMFBMVEX///8QEBC6urrMzMxUVFRm\n",
       "ZmZERETc3NwyMjKqqqp2dnaIiIiYmJgiIiLu7u4AAAAU9Wx4AAAAAXRSTlMAQObYZgAAAvZJREFU\n",
       "SMe9VUtoE0EY/prNdmteBg+CBzWIB6GKEQQPIg0atOChveSgWF/gtuCjOUiriDWXWihSc6lX96JW\n",
       "FFnQWw+NouDjYA/WgyhGUSlUtJS21gfVmf+fbbbZrOCi/vBn55t/Zr6Z/xXgv0o5+NaQ7Qc8ck/p\n",
       "qARPArFtrgG2Va25/zOb7UhBT4P0upwbCMQ2UANcVLDHmV8uaKaAAki7xMc4GIQsantB7LWKTK+a\n",
       "174LnQYeg7RBmPViELa6shecPpBnkuPKGP0irvANeAPS2LXu7rOBHLmuBrBHUvQNN6qH1yeB+Crx\n",
       "LbLOmuaLQGx7vSBUvlyiwThnH7A0A+O8eGeklXUH0E6GPvq9NJPbma46N+UaV+wX3EsYvEUTv+km\n",
       "9vB80+7hNnmBJQXWtUgUKMBTHOckokke9ff38k3dSVSxLxMBfyXFYkDXOtdKg1Gc4uUjeSSeyVcn\n",
       "WeOI0pnvf5BZzyAkIjuR2wfbmljjYVN2IVNO2mUcoGWzLbQ2ZiPMDjgkGcX52iRrtBSn/Lk1Rua4\n",
       "DX0U0cM9nwRb5KOHje212UIiN8lP4kSaBUTy46lVYUsUqA1otknmz2k8zOMBJZjVuN/DxnYpK9xs\n",
       "BETOxcnLg04aaNJhLcWKJ9G+nXIWbbR34/CdE1z6sHMrvXFju5RjbjYJDHFqw6STcINOuRlz0rcF\n",
       "VgySYx5hhPYOAXfLmsVv07dW2CKmaXYoO81ecS6QVmBc1te85Jcb4k65bZJNzakA1MmkTYzlOumQ\n",
       "I8JZRe25aR6VcYssflu9shPY4K4AAbpW9yHWOSeODKdUL9M7p7PNVBwNKVbEJIueRxNl0VfhrHQi\n",
       "w2+rwUZ2blZ5d+dyg5CnSp3OpWS9KPuS0QdjHoZIzl3Kk2eq2ZSd0txyl6H1+8ZzQynJu1kYLS9F\n",
       "Bg3N5JqFoz6kqLrNqizRHLvvP46PyAbCTcR9w4XRVRG3BfH5QzrpCzwSzrMuki211/qwGbYf8Mht\n",
       "pYuk9Eds/0gyf+ugX4AT3CkTUBU0AAAAAElFTkSuQmCC\n",
       "\" style=\"display:inline;vertical-align:middle;\" /></a></span></td></tr>\n",
       "<tr><td>&nbsp;</td><td colspan=4 style-\"text-align:left\"><a class=\"ProveItLink\" href=\"nandIfNotRight.ipynb\">proveit.logic.boolean.conjunction.nandIfNotRight</a></td></tr><tr><td>5</td><td>specialization</td><td>7, 8</td><td><span style=\"font-size:20px;\"><a class=\"ProveItLink\" href=\"../__pv_it/2700633c29669936275e69317ebd77c3a6285b9c0/expr.ipynb\"><img src=\"data:image/png;base64,iVBORw0KGgoAAAANSUhEUgAAACIAAAAVBAMAAADRFiHkAAAAMFBMVEX///9ERETc3NyqqqpUVFS6\n",
       "urrMzMwyMjIQEBCIiIh2dnYiIiLu7u5mZmaYmJgAAABJJ2g3AAAAAXRSTlMAQObYZgAAAK1JREFU\n",
       "GNNjYGDgu8cAA1mLQCTPLgYEyDAAEpwfIBy2DUCCtwBIcDVARNg/wDgwkdd/0ESYbD+hiXByfkUT\n",
       "iWH+B+OAjWfgCWD7CaT4QMZnBIBEWBmY/oLoWgaGlDawphQXl48gmrGOgSEiAcQCKmwH0SAPsIDM\n",
       "YQbiHTBzuECuVwbiemTbeUDq5A8gRJgkviswPPxfi+YvMMAhwocsAvYAz07kMAR7gG8xSjgDAMfT\n",
       "LYlEWPTfAAAAAElFTkSuQmCC\n",
       "\" style=\"display:inline;vertical-align:middle;\" /></a> <a class=\"ProveItLink\" href=\"../__pv_it/4b4800c2dae25550160f5ee7c8d8943d801ddd3e0/proof.ipynb\" style=\"text-decoration: none\">&#x22A2;&nbsp;</a><a class=\"ProveItLink\" href=\"../__pv_it/18d84e6b10643c76412edd0e67904c254c981c030/expr.ipynb\"><img src=\"data:image/png;base64,iVBORw0KGgoAAAANSUhEUgAAADYAAAAPBAMAAABdHiGLAAAAMFBMVEX///92dnYQEBBERERUVFS6\n",
       "urqIiIhmZmaqqqrc3Nzu7u6YmJgyMjIiIiLMzMwAAACFkkdwAAAAAXRSTlMAQObYZgAAANJJREFU\n",
       "GNNjYACBtwwogPG8zR9dCyjnPKocAzNrwpqFAmAm9/0FGHJsAQfAzBn1EyBiy87evQOV49jgBRZK\n",
       "yA8A03ynFyD0RRqAWKwL+jeAhSYvQJj5djOYs5ThfQJYyBJh393/amBWAMP8AhDNZYDslgwQj8/F\n",
       "xR9itu7du3C3MBgEgoQYGJjA7uVzQNLHYMAMZDQwMPAqgM28gC7HCZTj+QAW8kaRA5q5BsT+BRZa\n",
       "G4CQ4y4zYJisf5KB2/4P2KGcxx/AwvrzJQ+0MObwgbgTAgCMvTlc/0QYTQAAAABJRU5ErkJggg==\n",
       "\" style=\"display:inline;vertical-align:middle;\" /></a></span></td></tr>\n",
       "<tr><td>&nbsp;</td><td colspan=4 style=\"text-align:left\"><span style=\"font-size:20px;\"><a class=\"ProveItLink\" href=\"../../../../__pv_it/2cbe72a7ad6f655694dd697106680215e8489b600/expr.ipynb\"><img src=\"data:image/png;base64,iVBORw0KGgoAAAANSUhEUgAAAA8AAAAOBAMAAAACpFvcAAAALVBMVEX///8QEBBERERUVFS6urqI\n",
       "iIhmZmaqqqrc3Nzu7u6YmJgyMjIiIiLMzMwAAADtIaYWAAAAAXRSTlMAQObYZgAAAFtJREFUCNdj\n",
       "YACBOwxQsA9Kc52bAGG05zVAGAFxDmCaZULdAjBjCsO9ADDDgaEvAUTzGhvbKYCVMDAwbgAxChgY\n",
       "eASANAeQwf0AyJgNxEwvGRia5HYwcOm9TgAA6BoR3jrzwFcAAAAASUVORK5CYII=\n",
       "\" style=\"display:inline;vertical-align:middle;\" /></a> : <a class=\"ProveItLink\" href=\"../../../../__pv_it/2cbe72a7ad6f655694dd697106680215e8489b600/expr.ipynb\"><img src=\"data:image/png;base64,iVBORw0KGgoAAAANSUhEUgAAAA8AAAAOBAMAAAACpFvcAAAALVBMVEX///8QEBBERERUVFS6urqI\n",
       "iIhmZmaqqqrc3Nzu7u6YmJgyMjIiIiLMzMwAAADtIaYWAAAAAXRSTlMAQObYZgAAAFtJREFUCNdj\n",
       "YACBOwxQsA9Kc52bAGG05zVAGAFxDmCaZULdAjBjCsO9ADDDgaEvAUTzGhvbKYCVMDAwbgAxChgY\n",
       "eASANAeQwf0AyJgNxEwvGRia5HYwcOm9TgAA6BoR3jrzwFcAAAAASUVORK5CYII=\n",
       "\" style=\"display:inline;vertical-align:middle;\" /></a></span></td></tr><tr><td>6</td><td>specialization</td><td>9, 10</td><td><span style=\"font-size:20px;\"><a class=\"ProveItLink\" href=\"../__pv_it/b22b15039733798321461907c74328825d8427750/expr.ipynb\"><img src=\"data:image/png;base64,iVBORw0KGgoAAAANSUhEUgAAADEAAAAVBAMAAAAdjxsPAAAAMFBMVEX////c3NxERESqqqpUVFS6\n",
       "urrMzMwyMjIQEBCIiIh2dnYiIiLu7u5mZmaYmJgAAABXZE4RAAAAAXRSTlMAQObYZgAAAN1JREFU\n",
       "KM9jYGDgu8eABthWCYAonl0MGICtGURyfkCI8Pl/cXEqBTKug3hcDUiKORQYGO4HMDCswJDJnwDE\n",
       "Dthk5gOtfr8Am4wGEO84gE3mCwODuA4DVIa3AMm1X2bO3QdivAcRGUCn3N4NBEB/cX5kYDgNdAAD\n",
       "+wUGhpQ2mIYUBgYmoMmc/0Ac9QcMDBEJCBl+oHq+X0A2N9B9DCwFCJl8oEqWzzB7uDYgZEDekS9g\n",
       "QHc1G9g7bO0HGDD9c+m/i0v5AwYGbD6FAQIyfNhkwPHDsxNLnLZCInIx1nQAAJmFPcGxt9K+AAAA\n",
       "AElFTkSuQmCC\n",
       "\" style=\"display:inline;vertical-align:middle;\" /></a> <a class=\"ProveItLink\" href=\"../__pv_it/0e2e58b32be5fad6c21f149576e83d19ac377b060/proof.ipynb\" style=\"text-decoration: none\">&#x22A2;&nbsp;</a><a class=\"ProveItLink\" href=\"../__pv_it/41a86ef0ff9417c73c472e1bdfa161b308e2753e0/expr.ipynb\"><img src=\"data:image/png;base64,iVBORw0KGgoAAAANSUhEUgAAADcAAAAPBAMAAACy3Eq1AAAAMFBMVEX///+qqqru7u4iIiJ2dnbc\n",
       "3NyIiIjMzMxmZmYQEBC6uroyMjJERERUVFSYmJgAAADLUcuvAAAAAXRSTlMAQObYZgAAAOZJREFU\n",
       "GNNjYGB4+//u3dMLGJCB95/9O20EwMw5DAwcv1AkGQ4sY9rkAmKwfwPiv+iSDFncIAbbVwYGvi9g\n",
       "MbXNxtYwSTleBSCDZwIDA/MksBn7FJB0xoAY/BcYWPeARWMUEMay2x0CMeqvpTU/AAsdRdi52P5n\n",
       "AoiRH8DAZAtiMB1AdlCaDIhxEqQApJVrsrExwkE8XA5ABsgX70EM9gvIOnkYgAax/wNy7oOCg8kA\n",
       "QxLkTdbfYKF7KJIgY0HerNwEFlJegCT5IgcYquf/3r29DyLEuqMAHvCH5wqghigD422oayEAAEv1\n",
       "Sz0foy5uAAAAAElFTkSuQmCC\n",
       "\" style=\"display:inline;vertical-align:middle;\" /></a></span></td></tr>\n",
       "<tr><td>&nbsp;</td><td colspan=4 style=\"text-align:left\"><span style=\"font-size:20px;\"><a class=\"ProveItLink\" href=\"../../../../__pv_it/2cbe72a7ad6f655694dd697106680215e8489b600/expr.ipynb\"><img src=\"data:image/png;base64,iVBORw0KGgoAAAANSUhEUgAAAA8AAAAOBAMAAAACpFvcAAAALVBMVEX///8QEBBERERUVFS6urqI\n",
       "iIhmZmaqqqrc3Nzu7u6YmJgyMjIiIiLMzMwAAADtIaYWAAAAAXRSTlMAQObYZgAAAFtJREFUCNdj\n",
       "YACBOwxQsA9Kc52bAGG05zVAGAFxDmCaZULdAjBjCsO9ADDDgaEvAUTzGhvbKYCVMDAwbgAxChgY\n",
       "eASANAeQwf0AyJgNxEwvGRia5HYwcOm9TgAA6BoR3jrzwFcAAAAASUVORK5CYII=\n",
       "\" style=\"display:inline;vertical-align:middle;\" /></a> : <a class=\"ProveItLink\" href=\"../../../../__pv_it/077b2ff79244fb4582cbe22c6e3356fa92a52f2f0/expr.ipynb\"><img src=\"data:image/png;base64,iVBORw0KGgoAAAANSUhEUgAAABAAAAAOBAMAAADUAYG5AAAAMFBMVEX///+qqqru7u4iIiJ2dnbc\n",
       "3NyIiIjMzMxmZmYQEBC6uroyMjJERERUVFSYmJgAAADLUcuvAAAAAXRSTlMAQObYZgAAAGpJREFU\n",
       "CNdjYGB4+//u3dMLGIBgDgMDxy8gzf4NiP8CGWxfGRj4vgAZPBMYGJgnARn8FxhY9ygAGfXX0pof\n",
       "gDTlBzAw2YIYJ0EckBBI53sHoBH/gIz7AhBjWH9DjancBLTl/N+7t/cxMAAA3u4f/5xagjYAAAAA\n",
       "SUVORK5CYII=\n",
       "\" style=\"display:inline;vertical-align:middle;\" /></a></span></td></tr><tr><td>7</td><td>theorem</td><td></td><td><span style=\"font-size:20px;\"> <a class=\"ProveItLink\" href=\"../../_proofs_/inBoolIfTrue.ipynb\" style=\"text-decoration: none\">&#x22A2;&nbsp;</a><a class=\"ProveItLink\" href=\"../../__pv_it/cc0e652b3e50bfde974674c66b274bb1625600900/expr.ipynb\"><img src=\"data:image/png;base64,iVBORw0KGgoAAAANSUhEUgAAAIgAAAAXBAMAAAAipBr3AAAAMFBMVEX///8QEBC6urrMzMxUVFRm\n",
       "ZmZERETc3NwyMjKqqqp2dnaIiIiYmJgiIiLu7u4AAAAU9Wx4AAAAAXRSTlMAQObYZgAAAhdJREFU\n",
       "OMtjYKAGeECEGm18kjwKDAwXQIzTeM1gdoBQF1CFV3zrb7w2gYEhmIFhJYjfh9cQDohrOT6giSdo\n",
       "8/WtAoozMJQBeewJeA3ZDaHO/sMwhGET0ASeBWBrWCfgNUQOTLJP/Q7hvu69ewNmyByWBwx8Agw8\n",
       "y8vLa/GawdQApri5P0GCpucBkktAHslkYPiWlnYLryGsC8CUHucfMF32AOEd5jt5QHopA4MzA0M6\n",
       "WKwdYi88OAtgjAMgkk+B+TeYm44IE937HzcA6RkMDCoMfGD38kBcywZTcl4BymBUgBjO/hVsWAJy\n",
       "wO6eBqQVGRh4GbjBVj39g2IIX/wBKIsfbIiJi8s3sGGyd+8iApaNCehXe2CAHeAF+3LdVRRDuN4G\n",
       "oBgCJCSQUh7MEIYEsCF8DSZgyQ1pKIZYs8HczQhKAJxAfBHswgsYhiiCQsoJJMLCEItiiAMrTDUb\n",
       "yF+VQNwP5vqgGALyzgkgeypY9UmG/ciG8EzghqVyrgAGSNjng739VgHJkKPbIFHMwAiKJr6roRA1\n",
       "UEPehobBUjnTBQb2xB8FDMf+t4JTbqsBPAPmioC82gSyFKSZtYDB3gDJkHAG5s8wG8VREx+nBzR2\n",
       "YPEoAGPpAGPhAMIQJiD7D0zuFP7ShmsDlPHkGwO7/x24IXz+CQwlfw+gFgW4wAtMITZMIXYHvIa4\n",
       "E2UIQzU+M7gNiDOEZMBChh4Aa/SCMsrS/6MAAAAASUVORK5CYII=\n",
       "\" style=\"display:inline;vertical-align:middle;\" /></a></span></td></tr>\n",
       "<tr><td>&nbsp;</td><td colspan=4 style-\"text-align:left\"><a class=\"ProveItLink\" href=\"../../_proofs_/inBoolIfTrue.ipynb\">proveit.logic.boolean.inBoolIfTrue</a></td></tr><tr><td>8</td><td>assumption</td><td></td><td><span style=\"font-size:20px;\"><a class=\"ProveItLink\" href=\"../__pv_it/2700633c29669936275e69317ebd77c3a6285b9c0/expr.ipynb\"><img src=\"data:image/png;base64,iVBORw0KGgoAAAANSUhEUgAAACIAAAAVBAMAAADRFiHkAAAAMFBMVEX///9ERETc3NyqqqpUVFS6\n",
       "urrMzMwyMjIQEBCIiIh2dnYiIiLu7u5mZmaYmJgAAABJJ2g3AAAAAXRSTlMAQObYZgAAAK1JREFU\n",
       "GNNjYGDgu8cAA1mLQCTPLgYEyDAAEpwfIBy2DUCCtwBIcDVARNg/wDgwkdd/0ESYbD+hiXByfkUT\n",
       "iWH+B+OAjWfgCWD7CaT4QMZnBIBEWBmY/oLoWgaGlDawphQXl48gmrGOgSEiAcQCKmwH0SAPsIDM\n",
       "YQbiHTBzuECuVwbiemTbeUDq5A8gRJgkviswPPxfi+YvMMAhwocsAvYAz07kMAR7gG8xSjgDAMfT\n",
       "LYlEWPTfAAAAAElFTkSuQmCC\n",
       "\" style=\"display:inline;vertical-align:middle;\" /></a> <a class=\"ProveItLink\" href=\"../__pv_it/ef467353f6b814293e19b3ca3a1278d5890eb4650/proof.ipynb\" style=\"text-decoration: none\">&#x22A2;&nbsp;</a><a class=\"ProveItLink\" href=\"../../../../__pv_it/2cbe72a7ad6f655694dd697106680215e8489b600/expr.ipynb\"><img src=\"data:image/png;base64,iVBORw0KGgoAAAANSUhEUgAAAA8AAAAOBAMAAAACpFvcAAAALVBMVEX///8QEBBERERUVFS6urqI\n",
       "iIhmZmaqqqrc3Nzu7u6YmJgyMjIiIiLMzMwAAADtIaYWAAAAAXRSTlMAQObYZgAAAFtJREFUCNdj\n",
       "YACBOwxQsA9Kc52bAGG05zVAGAFxDmCaZULdAjBjCsO9ADDDgaEvAUTzGhvbKYCVMDAwbgAxChgY\n",
       "eASANAeQwf0AyJgNxEwvGRia5HYwcOm9TgAA6BoR3jrzwFcAAAAASUVORK5CYII=\n",
       "\" style=\"display:inline;vertical-align:middle;\" /></a></span></td></tr>\n",
       "<tr><td>9</td><td>theorem</td><td></td><td><span style=\"font-size:20px;\"> <a class=\"ProveItLink\" href=\"../../_proofs_/inBoolIfFalse.ipynb\" style=\"text-decoration: none\">&#x22A2;&nbsp;</a><a class=\"ProveItLink\" href=\"../../__pv_it/a8889ad68c7b4cf0e24624f2b3dd4b353b6fbb540/expr.ipynb\"><img src=\"data:image/png;base64,iVBORw0KGgoAAAANSUhEUgAAAJMAAAAXBAMAAAD96mDoAAAAMFBMVEX///8QEBC6urrMzMxUVFRm\n",
       "ZmZERETc3NwyMjKqqqp2dnaIiIiYmJgiIiLu7u4AAAAU9Wx4AAAAAXRSTlMAQObYZgAAAhdJREFU\n",
       "OMtjYKAeeECsQqYN+GQPAfEFEOM0EUaZQChbVFGu/owfspkMDKwGDAwrQQJ9RBgFVdOPJszGtOHF\n",
       "qwUMDA0MDGVALnsCYZO4If7juf8AwyhuBaA5pxgYOIBSrBMIG8UIMaIyvgDCf9179wbUKM4DfgwM\n",
       "D4HWLC8vryXCfxoQasN+BTDN3PMA4Sp1oK/YgM75lpZ2iwijoiDR+GD+ATCj7AHCg7bHgByuAAYG\n",
       "ZwaGdLBgO0QxqgntMEYPmHzEYA8Js3REWN39Lw2kOYHhpcLA1wAO0E8QKRSToIJAIAQmFRjqA0A0\n",
       "XwJysO8E8pgEGBh4GbjBbn76B4tRUEEgAJvJ7OLiDzaESfbuXXiwMyRoAaU+AGP5AC/Y3+uuYjEK\n",
       "KggzCuh7RrAXmB2QXMWQwAYxiq8BnI6ZN6RhGgUTBAJJEAGMJV4BsAcvoBsF8iBDuhNIiIUhFtMo\n",
       "mCAQ5ICSMtAojg9grg+KUUAP8oBcOxVsw0mG/UhGLUtLS2tACALBUiB+AZL/B+a+VUAYxROdAEkM\n",
       "DIyg6OW7Gpr/ANVVCQhBINAFpiX5dgae/B/gKGRvNYBl528XPYEMDpDZPCDVrAUM9gboRsEFQRYW\n",
       "oCY4Tg9IDMLAQzhLh4GB/wC6UXBBkIUL8OeG1TDGk28M7P53UI0yQAgSLoggyRyt0MCluASvUSwF\n",
       "JBjFjrdA3sxAglGkAxaydQIAdVKHuuxtmLQAAAAASUVORK5CYII=\n",
       "\" style=\"display:inline;vertical-align:middle;\" /></a></span></td></tr>\n",
       "<tr><td>&nbsp;</td><td colspan=4 style-\"text-align:left\"><a class=\"ProveItLink\" href=\"../../_proofs_/inBoolIfFalse.ipynb\">proveit.logic.boolean.inBoolIfFalse</a></td></tr><tr><td>10</td><td>assumption</td><td></td><td><span style=\"font-size:20px;\"><a class=\"ProveItLink\" href=\"../__pv_it/b22b15039733798321461907c74328825d8427750/expr.ipynb\"><img src=\"data:image/png;base64,iVBORw0KGgoAAAANSUhEUgAAADEAAAAVBAMAAAAdjxsPAAAAMFBMVEX////c3NxERESqqqpUVFS6\n",
       "urrMzMwyMjIQEBCIiIh2dnYiIiLu7u5mZmaYmJgAAABXZE4RAAAAAXRSTlMAQObYZgAAAN1JREFU\n",
       "KM9jYGDgu8eABthWCYAonl0MGICtGURyfkCI8Pl/cXEqBTKug3hcDUiKORQYGO4HMDCswJDJnwDE\n",
       "Dthk5gOtfr8Am4wGEO84gE3mCwODuA4DVIa3AMm1X2bO3QdivAcRGUCn3N4NBEB/cX5kYDgNdAAD\n",
       "+wUGhpQ2mIYUBgYmoMmc/0Ac9QcMDBEJCBl+oHq+X0A2N9B9DCwFCJl8oEqWzzB7uDYgZEDekS9g\n",
       "QHc1G9g7bO0HGDD9c+m/i0v5AwYGbD6FAQIyfNhkwPHDsxNLnLZCInIx1nQAAJmFPcGxt9K+AAAA\n",
       "AElFTkSuQmCC\n",
       "\" style=\"display:inline;vertical-align:middle;\" /></a> <a class=\"ProveItLink\" href=\"../__pv_it/659d862d8201b38a76dac4278242419974e1920f0/proof.ipynb\" style=\"text-decoration: none\">&#x22A2;&nbsp;</a><a class=\"ProveItLink\" href=\"../__pv_it/1da4e2fe7c44632f084fa27ea32e26dc689384c20/expr.ipynb\"><img src=\"data:image/png;base64,iVBORw0KGgoAAAANSUhEUgAAAB0AAAAOBAMAAAAh/woJAAAAMFBMVEX///+qqqru7u7c3NyIiIgQ\n",
       "EBC6uroyMjJERESYmJhUVFTMzMx2dnYiIiJmZmYAAADtoHoAAAAAAXRSTlMAQObYZgAAAHpJREFU\n",
       "CNdjYIACzvW/Vq0oY0AA1gYGhvcJCP5+ByBegOD7GzAwzD+A4LcC8VUFBP8XA4N5E4LL/cvF7yaQ\n",
       "fnsXCO4wMLB8ZmDQhRm3i4GBIwAo9hPB5wfKcf5B8PdPYGDg+ojgg6y3L4AZDraeOxxh/Yv/q1aV\n",
       "A7UAAFRxJOZ+1MVPAAAAAElFTkSuQmCC\n",
       "\" style=\"display:inline;vertical-align:middle;\" /></a></span></td></tr>\n",
       "</table>"
      ],
      "text/plain": [
       "\tstep type\trequirements\tstatement\n",
       "0\tgeneralizaton\t1\t|- forall_{A, B | A , [not](B)} ((A and B) = FALSE)\n",
       "1\tspecialization\t2, 3\t{A , [not](B)} |- (A and B) = FALSE\n",
       "\tA : A and B\n",
       "2\taxiom\t\t|- forall_{A | [not](A)} (A = FALSE)\n",
       "\tproveit.logic.boolean.negation.negationElim\n",
       "3\tspecialization\t4, 5, 6, 10\t{A , [not](B)} |- [not](A and B)\n",
       "\tA : A, B : B\n",
       "4\ttheorem\t\t|- forall_{A, B in BOOLEANS | [not](B)} [not](A and B)\n",
       "\tproveit.logic.boolean.conjunction.nandIfNotRight\n",
       "5\tspecialization\t7, 8\t{A} |- A in BOOLEANS\n",
       "\tA : A\n",
       "6\tspecialization\t9, 10\t{[not](B)} |- B in BOOLEANS\n",
       "\tA : B\n",
       "7\ttheorem\t\t|- forall_{A | A} (A in BOOLEANS)\n",
       "\tproveit.logic.boolean.inBoolIfTrue\n",
       "8\tassumption\t\t{A} |- A\n",
       "9\ttheorem\t\t|- forall_{A | [not](A)} (A in BOOLEANS)\n",
       "\tproveit.logic.boolean.inBoolIfFalse\n",
       "10\tassumption\t\t{[not](B)} |- [not](B)"
      ]
     },
     "execution_count": 6,
     "metadata": {},
     "output_type": "execute_result"
    }
   ],
   "source": [
    "# To do this manually, execute nand.equateNegatedToFalse(assumptions=conditions)\n",
    "# and then generalize.  But it can figure this out via automation.\n",
    "%qed"
   ]
  },
  {
   "cell_type": "code",
   "execution_count": null,
   "metadata": {},
   "outputs": [],
   "source": []
  }
 ],
 "metadata": {
  "kernelspec": {
   "display_name": "Python 3",
   "language": "python",
   "name": "python3"
  }
 },
 "nbformat": 4,
 "nbformat_minor": 0
}
