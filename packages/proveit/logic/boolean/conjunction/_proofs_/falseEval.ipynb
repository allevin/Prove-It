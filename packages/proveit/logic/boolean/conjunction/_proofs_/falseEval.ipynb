{
 "cells": [
  {
   "cell_type": "markdown",
   "metadata": {},
   "source": [
    "Proof of <a class=\"ProveItLink\" href=\"../../../../_context_.ipynb\">proveit</a>.<a class=\"ProveItLink\" href=\"../../../_context_.ipynb\">logic</a>.<a class=\"ProveItLink\" href=\"../../_context_.ipynb\">boolean</a>.<a class=\"ProveItLink\" href=\"../_context_.ipynb\">conjunction</a>.<a class=\"ProveItLink\" href=\"../_theorems_.ipynb#falseEval\">falseEval</a> theorem\n",
    "========"
   ]
  },
  {
   "cell_type": "code",
   "execution_count": 1,
   "metadata": {},
   "outputs": [],
   "source": [
    "import proveit\n",
    "context = proveit.Context('..') # the theorem's context is in the parent directory"
   ]
  },
  {
   "cell_type": "code",
   "execution_count": 2,
   "metadata": {},
   "outputs": [
    {
     "name": "stdout",
     "output_type": "stream",
     "text": [
      "Beginning proof of falseEval\n",
      "Recorded 'presuming' information\n",
      "Presuming previous theorems (applied transitively).\n"
     ]
    },
    {
     "data": {
      "text/html": [
       "<strong id=\"falseEval\">falseEval:</strong> <a class=\"ProveItLink\" href=\"../__pv_it/f828cfc131f444d903f672a49c7fd7e59ba9b4870/expr.ipynb\"><img src=\"data:image/png;base64,iVBORw0KGgoAAAANSUhEUgAAAmwAAAAZBAMAAAB+y29NAAAAMFBMVEX///8QEBC6urrMzMxUVFRm\n",
       "ZmZERETc3NwyMjKqqqp2dnaIiIiYmJgiIiLu7u4AAAAU9Wx4AAAAAXRSTlMAQObYZgAABtVJREFU\n",
       "WMPtWV1sVEUUPnt32+7evb2lYDDGYIuiaAhSE7chEKUpMTwQQ0Er8puFh+VBCPuwoYQ/+yCihNA1\n",
       "yhMifeDPYOgiocFQ4/JTNEWxRsFIKN0mBokUaCm/Cl7P/Nx7596dC3ctJiQwyezOnplzZs4355w5\n",
       "MwvgrxR3/QqPCitK12m/Q0sfoSWUFOT8wqbfp63KsIoleKtA3sIYlHnGY8mjBTA8290/RauhzcOe\n",
       "gw4z2DrJ13EfsFF70zKDhe1lXonMvwrkvQvDynzUujcke4f/7V/62Jvf6oeWMgWLqrzmoD0p+Jy0\n",
       "N/qATU3jVzg3WNg22tO1XBU71sjHlwgzOhkcPLE8WgsxzXEDUkEyGaqBCioGx6tRMjJm9aRgGZEY\n",
       "9wEbHbRssKhFM6wSlzPuiD1r5QzhOttHnQwOnpibphqVhLtPJkgqo+UK+Wzivzo8YeugsBH7KUr7\n",
       "ORKIjcwaLGyBHKtEjxZDjFtL5NZQfdZW3MHg5Im5aVuvUZeKywTJZEQMCutbnNzjCVsPhU3b2dCw\n",
       "2tdJ2tHQ0NA5WNie5xXL1wFDQCo0Rh42aw9aTSeDkyfmplXcoMadlgmSyQgYSfL1lZlwpb1gIz0p\n",
       "gOuJxGlfsJUlEkuaBwvbbF4xMgyEqR/xch6kW6I3WqmPi8HJE3PRIkbcU5BUxtbrDrJa5wUb6UHY\n",
       "JgMs8gVbqAqKcUdK8g+ZtH/YNvCKu1ZXZGTtji/kAUDNWhHExeDkibloIddQUZBUxrTbDnKEnglv\n",
       "f0DKe445SA/CNgo3whdsSg1uDcAKerrzDEpbMGLRfpjgH7ahvAIcgigJJ0FuFZ2w3OMoMlfHGYQi\n",
       "8MRctLB5JEJ1niCpjKYBZ/oyxMvaSE+KyItm5cFy7QzYO1+4JXRCG35SNQMsg1LKT8DI26By3/lu\n",
       "1665Thna+vVrHdKv8Ar6LTzt4xB8k/kIJoQhWa50nLqDwCAKF3hiLlopC4OjIfa6WxBIZXT/QxVK\n",
       "msr3ecFGehC2aLZUcoZdqJ8Lx9ScmhNgawM8jCI0gk5nkWArEqI3qLnq++uzUVX/slKb1VbbbvlD\n",
       "pvnC09C++WgebKH+8goDIYsw2HANwRqJWmet5NhkECxR4Im5aGF26D4OsMUtCKQymihOAd+w6Y0S\n",
       "cdGFay7B95k6B2znyQQkvIHyWz81AOIJwSF0H1tHX8pFVdiTjbTCUAWd6QXcyiqETe2FzfGAKfgJ\n",
       "XuGjVy/9YfRZsG3Cui5/HREUFGaqmAx2EXliLlqUOqlaY8ImCAKpjG+ok25zOum8LlJOyZwUFtWi\n",
       "gnPGbIu2kplIC6CdDDjy8UoHbMUpdEYKQOlo6gNFNwl2yHUQNBJ1oqqyPweT9U5yo8AI3E6sbcx8\n",
       "dAMrBi3mVSfYdd+wYFvHVWBX35zZIJpGaEAzGeyV2jwCbCZNryD+fABM2CxBumMSW0YP8Z9oI9cf\n",
       "tEYva9PYkQCbcOG947KlNfQaS1pV7G5xRO2dIMIWmYcf48mv7UBTgYB54xsFYWqjRdPPYAiM1JVq\n",
       "JDUmUGbqR2SRue1FPnI7rymi1dJbJmz0YKAZwmX8rd/hDRbP6QiTwV6pzWPDZtNW3/ys5Ic6CzZL\n",
       "0OVOcRJ7fEn3h7lVJ039752AQACj1ZoDUFZFh5JWMkjzsyPQvE2EDZ6kCOFkT0ETCXFlV/jOjWeH\n",
       "KTrpGxk9rqaL9xFbfI3GtqKJcA46zHNhLKtlBprrNMMY4LCFKvnFC3pQEX04b0At6SR5qsVgr9Tm\n",
       "QV/6ifmSTYNjFXdmggWbJYiKtSYRxmsLjJNJrj9aZ6ULM2sO0kNg0wg0U+ElCNNAPhVGQvBUIvEO\n",
       "wrbqogO2E1g/IT/Kyw2y32UkHgQobK8kEokMwtZsJ8TRMxQ2VXVcrpJC3KVBh8Km0HZl3gZX2p1m\n",
       "sVYq45HQtngJ8hhP9JdfrkC4XPEyDFrhXYW16hW9hlmbMjHnfqZ8jgXOH4m2odt0GkL8nVubAFt7\n",
       "KJ0Pm9bMqgu2Aoq9Un9lS8Hy61H6bs/+3QJsJX2o/jEVliexNewZmMJgg4482C5SH4VJfThWr0hD\n",
       "dR19FQglGWwzrVsiRrZZ1ElXej0c/SfYzJX+X7Ax/b1vAHqjAJsSh5+heidMymJrdhbOod0q71dC\n",
       "KO9RHBOd7qugVfSnJ2Xhz+4RNIecAfpCmu7uWGy/lZInPUx3E1nXe7Jg47jKXdcKe/k0V+q3rGia\n",
       "U6h81D+U9OqnPSk31dRxB8Y26X8JwpuCjQfugIqxzdduZlh9sMu+u/e4YQsmve+k3Ejj+WMjDzwM\n",
       "97m4YdPgXrDBp/ljQ/CQw+b9AmL9T6rl37j3PFygKV2//Avt8jpZIQQl9QAAAABJRU5ErkJggg==\n",
       "\" style=\"display:inline;vertical-align:middle;\" /></a><br>(see <a class=\"ProveItLink\" href=\"../__pv_it/f828cfc131f444d903f672a49c7fd7e59ba9b4870/dependencies.ipynb\">dependencies</a>)<br>"
      ],
      "text/plain": [
       "falseEval: forall_{m, n in Naturals} [forall_{(A, C) in BOOLEANS^{m} * BOOLEANS^{n}} ((A_1 and  ...  and A_m and FALSE and C_1 and  ...  and C_n) = FALSE)]"
      ]
     },
     "execution_count": 2,
     "metadata": {},
     "output_type": "execute_result"
    }
   ],
   "source": [
    "%proving falseEval presuming []"
   ]
  },
  {
   "cell_type": "code",
   "execution_count": null,
   "metadata": {},
   "outputs": [],
   "source": []
  }
 ],
 "metadata": {
  "kernelspec": {
   "display_name": "Python 3",
   "language": "python",
   "name": "python3"
  }
 },
 "nbformat": 4,
 "nbformat_minor": 0
}
