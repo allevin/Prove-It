{
 "cells": [
  {
   "cell_type": "markdown",
   "metadata": {},
   "source": [
    "Proof of <a class=\"ProveItLink\" href=\"../../../../_context_.ipynb\">proveit</a>.<a class=\"ProveItLink\" href=\"../../../_context_.ipynb\">logic</a>.<a class=\"ProveItLink\" href=\"../../_context_.ipynb\">boolean</a>.<a class=\"ProveItLink\" href=\"../_context_.ipynb\">conjunction</a>.<a class=\"ProveItLink\" href=\"../_theorems_.ipynb#leftwardCommutation\">leftwardCommutation</a> theorem\n",
    "========"
   ]
  },
  {
   "cell_type": "code",
   "execution_count": 1,
   "metadata": {},
   "outputs": [],
   "source": [
    "import proveit\n",
    "context = proveit.Context('..') # the theorem's context is in the parent directory"
   ]
  },
  {
   "cell_type": "code",
   "execution_count": 2,
   "metadata": {},
   "outputs": [
    {
     "name": "stdout",
     "output_type": "stream",
     "text": [
      "Beginning proof of leftwardCommutation\n",
      "Recorded 'presuming' information\n",
      "Presuming previous theorems (applied transitively).\n"
     ]
    },
    {
     "data": {
      "text/html": [
       "<strong id=\"leftwardCommutation\">leftwardCommutation:</strong> <a class=\"ProveItLink\" href=\"../__pv_it/6d1dfae76a5283971844fef3ce49958970a4e79a0/expr.ipynb\"><img src=\"data:image/png;base64,iVBORw0KGgoAAAANSUhEUgAABTgAAAAaBAMAAABhmy5SAAAAMFBMVEX///8QEBC6urrMzMxUVFRm\n",
       "ZmZERETc3NwyMjKqqqp2dnaIiIiYmJgiIiLu7u4AAAAU9Wx4AAAAAXRSTlMAQObYZgAACzNJREFU\n",
       "eNrtW31sHEcVf/fl+/Q5JggEiNgBwodClANCqIiErVShogh8oY1QPmiuSLhCaZT7wzRVDfEVEVJF\n",
       "UB+CIqSAaqC0KVTNUUSEaKIcCa6qFBFXfFREcXwV0ERK4tg4aUmaZHlvZnZmZ2/ON+u45o/ek+a8\n",
       "+3bfzHu//c3Mm9k1gL1sHy9CS1qyMBIePxnk9rEWYi1ZQBmAWhByZv8PLi4XBaWnHNDWZLDDQXlr\n",
       "zr6SoAaBG2gjg+lbxVmm2zCKVNifyJV5iH9eXJ7NQA8neG1HRUFysuHwBUtytjP0KgvJzUgvLyQT\n",
       "IwGNTQbZ4SWTZ3bM2Fcyq0H24Lot8bzv/huTZ468HsDNs87k5KDjwnpH/Q2r+J/2q/MQv9nl+cRE\n",
       "D8eqNi9isRwvSM4n6fxhS3KmqCcmagtJTmpNtJhyej0X4g3c2KUONQOpdwoAQ5eNBmCs32/gtflp\n",
       "FcLrq74GSgBJp7upp1Lf8V/8efQ/bsT1d4rnc+BSg0DNfuvxS73RZTtMGht4r+nhWCGsIVYSZQDu\n",
       "o7sKluRkN963oLP6s6LQJOV4s95E3myw2zOreQ1cfYT69NAlowGY6q8z8NicPU2cKfoaoPGqq9DU\n",
       "U6nvoREx9Ko7r9cNd2kxqzvXGwQKZly0+F292WU7TBobeG30cKwQ1hA7LsoAG5ViZUtysi68cUHJ\n",
       "uUQUlL3OlOfC6tPmNGC7Gjm8BlKfdnDKOHHNaACm+v0GXpsH6e9SfwME5/CiZp4q/RHKJRPT7iS3\n",
       "yH9jiNecOOA0CBTMuGiAuXqzy3aYNDTQbPRwrBDWEHtZlAHIPLFz5zesV+vHd+7cuaCL9nCJFwph\n",
       "rOuG58raZ40G0eUy2dEMpL6NnvBEyWSgiazfb+CxibEVytf8DdCzmJhq5qnS7yA32yXzvuq/8YP8\n",
       "z+GQUwN7v32ACX0Dl+0waWig2fjCsUFYQ6ytzMsAwKv9/SetydnR3799ZCHJGRvhBWUoN+zJY7Kl\n",
       "dnM2rna8NAOpp4zolktGAy1Jl/X7DTw2Q+zx/NPXAJt8nUXNPFV6Nvt2yKHmF/47N/EUbSbhSWSb\n",
       "+63H7+rNLtth0thAs/GFY4GwjlgqzwuSE9f891iTM5qDtrntxN9Sndt6qMoLyldgq2ceSVXNychT\n",
       "Ku3QDKS+Z/qh706XjQZeUfX7DTw2W6uGenouszSq0MxTqY84lHz1yCTtR6xXPsSErWi+wweUfMyp\n",
       "BvBbj9/Vm122w6SxgfeaPxwLhHXEkiVekJzvQwpDtq9mRc5wL/YD7MQ2W2JJffcrNydyhrp5wXXC\n",
       "IjhCQawW2yoQL5mdvN9dWHCDf93Q9SdwXnsFO36k4DfQRNXvGhgamSgaGqb7MY2qNPNU6jMs5VKb\n",
       "T0v9d76F/f4BK80H8FuP39U3dNkCk3oD0zUZTiCEGWIilVvEywDdk8bOtKLRNuPuL8Cv75LkxHII\n",
       "fx9gdfAt4VTXdOd1Xm963aZzFPt6p7PrJES0+T80t2m9o5sXgItlWIm98eOf4xdeYGN+nWQqNLqD\n",
       "xyA8puv78GGFnZHInWN+A01U/cLA1AjPq2q+Bl6jEd+pNfFU6aMOgTYs88Me/51scs5eQS8KYO+3\n",
       "Fr/Um122w6TOwHjNDScAwgIxl3NTvCA509X2miHPITm3YQs8l6qlaoqch4CWWKxLhMSW8Ik8JNj0\n",
       "ETkFcDdzB7OREyX4mXB7797dVbUBxU9H9/3xwxs1DZfn9+/fApmNh3rryNnX2cm2Un7CL5yWW9N6\n",
       "d6zJLXthkMrr+i6aAJxeSI75DTRR9bsGhka62AyR8zVAudPQ1WaeKn2I0rO4etRmckanO7som7P2\n",
       "W4tf6s0u22FSb2C6JsOxR9hFrI6c2dIqmdb4tte+vGsS/lTJe8l5ltpJsoFyvcgqMItJse3YlRjy\n",
       "DxmOyNXoFZYAEL8rI+fewzauuLDTfYVQ9zJNI9pMZZ/pTh4ENzkOlXmB5OLJySFHkjOJkCcM2e8j\n",
       "WPbwO4QBz1ilPk5TYwqnEAGdMtBzElm/NDA0wpKhGPgaoCcxPNbMU6Vn+4UJtYfJpvXYOBM2DLyD\n",
       "fr73qckztDVk67cev9SbXbbCxGBgAl6GY4+wi1jdtA73rMUfGlgzm5c/lj6YE0cAo3Tnse8PesnZ\n",
       "NoDDGFsThf8h1mOYxSRohs++E3/WsL4ygyy7TIM543dlJHUeqJEPYc05fhrNXaCXUx5NGCl4DMkJ\n",
       "T1fhVpmltVV5gZfLtD1RdB85hZXMuzNUVk5VewQayqCjqOlZRjSkoJMXslplqn7XQKGjbHro8TwN\n",
       "vgbQ3ej1WjNPlZ7tF/adFqjj7OF/jveSITF04rV6v2WtPr/1+KXe7LIVJvUGJkxkOAEQFoiNPvN7\n",
       "ommmxAuR8xGsI0Ij1fmV1fbeTK84yrFXSHAsdf6THnImv+Tmj+0fEEkC9s6tNCWlaJ9qkmU7eISD\n",
       "abrC+V0ZWX4XnK6yzf5RcdqO/o5VvRpc0mXySM7wb2swlj5a07cV4p9m+2Fl95Gvdh3K0ohzcUwc\n",
       "sByc7VBIg4+ApqeM6HzXSy506oKsgw5U/dJAoaNsMtgplxX9DeSygxOfhyaeelrom4Ezhy/VBOqG\n",
       "FIsUA9TAjit1fiuXdb/1+JXe7LIVJvUGJkxkOAEQ5ohlj16Dv+hbSRDCvpSmGnb9DjpyLEWhoyJf\n",
       "0ByDkcc85IR30bYQR4zvuoWn++9m80673Dx5FI/aXqelPeN3ZcO7q7CZANmI9OOnr+C4uS3n1SBR\n",
       "kafp2PpTkC1knnKH+DFeHOcGBuE4OfHI17qvNrNvo1GiIA6i3e7bPmlwELz6DvbJDA1FHDplIOug\n",
       "A1W/NFDoKBtY9a0NfDtEb+A6+3hjVk+Vngycv+UE6qj4pp+cK1i1NehznBm/38pl3W89fqVv5LIF\n",
       "JvUGJkxkOIEQJsTi50psBk9080LkzCD32hjUn8Vulijzo6UQ+Xt//zYk59cveMn5Z6DdJ+wQS2CY\n",
       "GaWvipGzQ2b0B/CoYwYiJc7vykhsjdhSX6ed+jR35innhDu09wlvF0UKf+S8X9S/UFIXXdnWQM+h\n",
       "M1xoVL9Ex2Rj0s3qqbmFpebXl8Wb8Htbo9YCY2LQz4pJYISjFUo1Pa8vRfgfo9/FcBCGwvxoQzjb\n",
       "y0fO8BovOUl+QOMkrgXZDW24llxJM3oImZhlxBruZqMnkpPxG1PKlFjunGJUdE99msNVRs4RbQvK\n",
       "/QrA98jtZXGDDdZk0NewCh1LCeopQx1ntLqXfdqnIEH9Xhxgg3l+MQlcWygXyyN1fgW8uOS8mIb7\n",
       "i/Ep7AnPpfjR4vfCbZyccNxPzvdjwdT9BFOEkJhHaPqO4WDN1044A2VfLEK4wPmt2DgaLfvI6dFk\n",
       "8p8xkNPzydycHnl2qjI/0LnovHHk5KizTQ6fPDx3vxvG/8ZjEpicQxD6aI7eCbEiyRl9Enqq4QLm\n",
       "o6uf4EebMC9EFoe/3Q1R8JHzApvVoWcKeUwva5PTOTyi9eTPIb4HIpj0rniJdfjbxLQ+yEeAPL3I\n",
       "kqc+zSgtj5CcX9TQjPfy4soDw5uDRXy7+ZOr+P7LwT6adtGxlsCectQ5ZroM3ITft9v/+8D8YhK4\n",
       "Nhz0YrjWiBZ58UYN1bqjx/u3+V5fyg3XiUuQ6Zou91QTXdfHO3Gt3VOFf6/7ZQ0i1+BBZ/xF2jeN\n",
       "dTN+Z/bu7ec1LqNPnNWprgnn6SPw5/c/fq/u8aAobxZJG6bheOVNBMBvRPGSM1KsP/K/WXXxK8/C\n",
       "6Iyakev53ZKWWIuHnBnDUQNyZguzMPoT8v59LXxbMj/kbC7j8v/WfzwLo9VY2tvCtyVzlvD4X+dm\n",
       "mLHZnkjVWgi35Gbkf9mcilA3INO0AAAAAElFTkSuQmCC\n",
       "\" style=\"display:inline;vertical-align:middle;\" /></a><br>(see <a class=\"ProveItLink\" href=\"../__pv_it/6d1dfae76a5283971844fef3ce49958970a4e79a0/dependencies.ipynb\">dependencies</a>)<br>"
      ],
      "text/plain": [
       "leftwardCommutation: forall_{l, m, n in Naturals} [forall_{(A, B, C, D) in BOOLEANS^{l} * BOOLEANS^{m} * BOOLEANS * BOOLEANS^{n}} ((A_1 and  ...  and A_l and B_1 and  ...  and B_m and C and D_1 and  ...  and D_n) = (A_1 and  ...  and A_l and C and B_1 and  ...  and B_m and D_1 and  ...  and D_n))]"
      ]
     },
     "execution_count": 2,
     "metadata": {},
     "output_type": "execute_result"
    }
   ],
   "source": [
    "%proving leftwardCommutation presuming []"
   ]
  },
  {
   "cell_type": "code",
   "execution_count": null,
   "metadata": {},
   "outputs": [],
   "source": []
  }
 ],
 "metadata": {
  "kernelspec": {
   "display_name": "Python 3",
   "language": "python",
   "name": "python3"
  }
 },
 "nbformat": 4,
 "nbformat_minor": 0
}
