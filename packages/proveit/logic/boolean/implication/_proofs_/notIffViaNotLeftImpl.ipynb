{
 "cells": [
  {
   "cell_type": "markdown",
   "metadata": {
    "collapsed": true
   },
   "source": [
    "Proof of <a class=\"ProveItLink\" href=\"../../../../_context_.ipynb\">proveit</a>.<a class=\"ProveItLink\" href=\"../../../_context_.ipynb\">logic</a>.<a class=\"ProveItLink\" href=\"../../_context_.ipynb\">boolean</a>.<a class=\"ProveItLink\" href=\"../_context_.ipynb\">implication</a>.<a class=\"ProveItLink\" href=\"../_theorems_.ipynb#notIffViaNotLeftImpl\">notIffViaNotLeftImpl</a> theorem\n",
    "========"
   ]
  },
  {
   "cell_type": "code",
   "execution_count": 1,
   "metadata": {},
   "outputs": [],
   "source": [
    "import proveit\n",
    "from proveit import defaults\n",
    "from proveit._common_ import A, B\n",
    "from proveit.logic.boolean.conjunction import And\n",
    "from proveit.logic.boolean.conjunction._theorems_ import trueAndFalseNegated\n",
    "from proveit.logic.boolean.implication import Implies\n",
    "from proveit.logic.boolean.implication._axioms_ import iffDef\n",
    "from proveit.logic.boolean.implication._theorems_ import negatedReflex\n",
    "from proveit.logic.boolean.negation import Not\n",
    "context = proveit.Context('..') # the theorem's context is in the parent directory"
   ]
  },
  {
   "cell_type": "code",
   "execution_count": 2,
   "metadata": {},
   "outputs": [
    {
     "name": "stdout",
     "output_type": "stream",
     "text": [
      "Beginning proof of notIffViaNotLeftImpl\n",
      "Recorded 'presuming' information\n",
      "Presuming previous theorems (applied transitively).\n"
     ]
    },
    {
     "data": {
      "text/html": [
       "<strong id=\"notIffViaNotLeftImpl\">notIffViaNotLeftImpl:</strong> <a class=\"ProveItLink\" href=\"../__pv_it/1403275af5fd3109ea847a7fde1db76428e71dc10/expr.ipynb\"><img src=\"../__pv_it/1403275af5fd3109ea847a7fde1db76428e71dc10/expr.png\" style=\"display:inline;vertical-align:middle;\" /></a><br>(see <a class=\"ProveItLink\" href=\"../__pv_it/1403275af5fd3109ea847a7fde1db76428e71dc10/dependencies.ipynb\">dependencies</a>)<br>"
      ],
      "text/plain": [
       "notIffViaNotLeftImpl: forall_{A, B | [not](B => A)} [not](A <=> B)"
      ]
     },
     "execution_count": 2,
     "metadata": {},
     "output_type": "execute_result"
    }
   ],
   "source": [
    "%proving notIffViaNotLeftImpl presuming []"
   ]
  },
  {
   "cell_type": "code",
   "execution_count": 3,
   "metadata": {},
   "outputs": [
    {
     "data": {
      "text/html": [
       "<strong id=\"defaults.assumptions\">defaults.assumptions:</strong> <a class=\"ProveItLink\" href=\"../__pv_it/3a0cebe2d56bf9db0f52cfc32388b8e0e34a35e90/expr.ipynb\"><img src=\"../__pv_it/3a0cebe2d56bf9db0f52cfc32388b8e0e34a35e90/expr.png\" style=\"display:inline;vertical-align:middle;\" /></a><br>"
      ],
      "text/plain": [
       "defaults.assumptions: ([not](B => A))"
      ]
     },
     "execution_count": 3,
     "metadata": {},
     "output_type": "execute_result"
    }
   ],
   "source": [
    "defaults.assumptions = notIffViaNotLeftImpl.allConditions()"
   ]
  },
  {
   "cell_type": "code",
   "execution_count": 4,
   "metadata": {},
   "outputs": [
    {
     "data": {
      "text/html": [
       "<strong id=\"notBimplA\">notBimplA:</strong> <a class=\"ProveItLink\" href=\"../__pv_it/2f1f3f857c17264ccd898735578ce1fc342686280/expr.ipynb\"><img src=\"../__pv_it/2f1f3f857c17264ccd898735578ce1fc342686280/expr.png\" style=\"display:inline;vertical-align:middle;\" /></a><br>"
      ],
      "text/plain": [
       "notBimplA: [not](B => A)"
      ]
     },
     "execution_count": 4,
     "metadata": {},
     "output_type": "execute_result"
    }
   ],
   "source": [
    "notBimplA = defaults.assumptions[0]"
   ]
  },
  {
   "cell_type": "code",
   "execution_count": 5,
   "metadata": {},
   "outputs": [
    {
     "data": {
      "text/html": [
       "<span style=\"font-size:20px;\"><a class=\"ProveItLink\" href=\"../__pv_it/55417a5e0cab205574a8ad11c824839d8c73855f0/expr.ipynb\"><img src=\"../__pv_it/55417a5e0cab205574a8ad11c824839d8c73855f0/expr.png\" style=\"display:inline;vertical-align:middle;\" /></a> &#x22A2;&nbsp;<a class=\"ProveItLink\" href=\"../__pv_it/85cd9f808ecf846a243ca9d5a0d927731e7cc7d00/expr.ipynb\"><img src=\"../__pv_it/85cd9f808ecf846a243ca9d5a0d927731e7cc7d00/expr.png\" style=\"display:inline;vertical-align:middle;\" /></a></span>"
      ],
      "text/plain": [
       "{[not](B => A)} |= [not](B => A) = TRUE"
      ]
     },
     "execution_count": 5,
     "metadata": {},
     "output_type": "execute_result"
    }
   ],
   "source": [
    "notBimplA.evaluation()"
   ]
  },
  {
   "cell_type": "code",
   "execution_count": 6,
   "metadata": {},
   "outputs": [
    {
     "data": {
      "text/html": [
       "<strong id=\"BimplA\">BimplA:</strong> <a class=\"ProveItLink\" href=\"../__pv_it/58231239aa3ff75feba4340b3e09a295f56b05c20/expr.ipynb\"><img src=\"../__pv_it/58231239aa3ff75feba4340b3e09a295f56b05c20/expr.png\" style=\"display:inline;vertical-align:middle;\" /></a><br>"
      ],
      "text/plain": [
       "BimplA: B => A"
      ]
     },
     "execution_count": 6,
     "metadata": {},
     "output_type": "execute_result"
    }
   ],
   "source": [
    "BimplA = notBimplA.operand"
   ]
  },
  {
   "cell_type": "code",
   "execution_count": 7,
   "metadata": {},
   "outputs": [
    {
     "data": {
      "text/html": [
       "<strong id=\"BimplAeqF\">BimplAeqF:</strong> <span style=\"font-size:20px;\"><a class=\"ProveItLink\" href=\"../__pv_it/55417a5e0cab205574a8ad11c824839d8c73855f0/expr.ipynb\"><img src=\"../__pv_it/55417a5e0cab205574a8ad11c824839d8c73855f0/expr.png\" style=\"display:inline;vertical-align:middle;\" /></a> &#x22A2;&nbsp;<a class=\"ProveItLink\" href=\"../__pv_it/ff98558a697e26b9fe8d85afd5fe65097ca663160/expr.ipynb\"><img src=\"../__pv_it/ff98558a697e26b9fe8d85afd5fe65097ca663160/expr.png\" style=\"display:inline;vertical-align:middle;\" /></a></span><br>"
      ],
      "text/plain": [
       "BimplAeqF: {[not](B => A)} |= (B => A) = FALSE"
      ]
     },
     "execution_count": 7,
     "metadata": {},
     "output_type": "execute_result"
    }
   ],
   "source": [
    "BimplAeqF = BimplA.evaluation()"
   ]
  },
  {
   "cell_type": "code",
   "execution_count": 8,
   "metadata": {},
   "outputs": [
    {
     "data": {
      "text/html": [
       "<span style=\"font-size:20px;\"><a class=\"ProveItLink\" href=\"../__pv_it/55417a5e0cab205574a8ad11c824839d8c73855f0/expr.ipynb\"><img src=\"../__pv_it/55417a5e0cab205574a8ad11c824839d8c73855f0/expr.png\" style=\"display:inline;vertical-align:middle;\" /></a> &#x22A2;&nbsp;<a class=\"ProveItLink\" href=\"../__pv_it/e73a70c11cb4dd0ed268f52ee1583e255f8135080/expr.ipynb\"><img src=\"../__pv_it/e73a70c11cb4dd0ed268f52ee1583e255f8135080/expr.png\" style=\"display:inline;vertical-align:middle;\" /></a></span>"
      ],
      "text/plain": [
       "{[not](B => A)} |= A => B"
      ]
     },
     "execution_count": 8,
     "metadata": {},
     "output_type": "execute_result"
    }
   ],
   "source": [
    "negatedReflex.specialize({A:B, B:A})"
   ]
  },
  {
   "cell_type": "code",
   "execution_count": 9,
   "metadata": {},
   "outputs": [
    {
     "data": {
      "text/html": [
       "<strong id=\"AimplB\">AimplB:</strong> <a class=\"ProveItLink\" href=\"../__pv_it/e73a70c11cb4dd0ed268f52ee1583e255f8135080/expr.ipynb\"><img src=\"../__pv_it/e73a70c11cb4dd0ed268f52ee1583e255f8135080/expr.png\" style=\"display:inline;vertical-align:middle;\" /></a><br>"
      ],
      "text/plain": [
       "AimplB: A => B"
      ]
     },
     "execution_count": 9,
     "metadata": {},
     "output_type": "execute_result"
    }
   ],
   "source": [
    "AimplB = Implies(A,B)"
   ]
  },
  {
   "cell_type": "code",
   "execution_count": 10,
   "metadata": {},
   "outputs": [
    {
     "data": {
      "text/html": [
       "<strong id=\"AimplBeqT\">AimplBeqT:</strong> <span style=\"font-size:20px;\"><a class=\"ProveItLink\" href=\"../__pv_it/55417a5e0cab205574a8ad11c824839d8c73855f0/expr.ipynb\"><img src=\"../__pv_it/55417a5e0cab205574a8ad11c824839d8c73855f0/expr.png\" style=\"display:inline;vertical-align:middle;\" /></a> &#x22A2;&nbsp;<a class=\"ProveItLink\" href=\"../__pv_it/9428f396ce957b1a5de249d9577c66e5f5e255fb0/expr.ipynb\"><img src=\"../__pv_it/9428f396ce957b1a5de249d9577c66e5f5e255fb0/expr.png\" style=\"display:inline;vertical-align:middle;\" /></a></span><br>"
      ],
      "text/plain": [
       "AimplBeqT: {[not](B => A)} |= (A => B) = TRUE"
      ]
     },
     "execution_count": 10,
     "metadata": {},
     "output_type": "execute_result"
    }
   ],
   "source": [
    "AimplBeqT = AimplB.evaluation()"
   ]
  },
  {
   "cell_type": "code",
   "execution_count": 11,
   "metadata": {},
   "outputs": [
    {
     "data": {
      "text/html": [
       "<span style=\"font-size:20px;\"> &#x22A2;&nbsp;<a class=\"ProveItLink\" href=\"../../conjunction/__pv_it/7f2fc15a9f23e5089f6bb79aeb43e3459be023490/expr.ipynb\"><img src=\"../../conjunction/__pv_it/7f2fc15a9f23e5089f6bb79aeb43e3459be023490/expr.png\" style=\"display:inline;vertical-align:middle;\" /></a></span>"
      ],
      "text/plain": [
       "|= [not](TRUE and FALSE)"
      ]
     },
     "execution_count": 11,
     "metadata": {},
     "output_type": "execute_result"
    }
   ],
   "source": [
    "trueAndFalseNegated"
   ]
  },
  {
   "cell_type": "code",
   "execution_count": 12,
   "metadata": {},
   "outputs": [
    {
     "data": {
      "text/html": [
       "<strong id=\"nTandBimplA\">nTandBimplA:</strong> <span style=\"font-size:20px;\"><a class=\"ProveItLink\" href=\"../__pv_it/55417a5e0cab205574a8ad11c824839d8c73855f0/expr.ipynb\"><img src=\"../__pv_it/55417a5e0cab205574a8ad11c824839d8c73855f0/expr.png\" style=\"display:inline;vertical-align:middle;\" /></a> &#x22A2;&nbsp;<a class=\"ProveItLink\" href=\"../__pv_it/104edfc751143b922af8235db851387e363947c30/expr.ipynb\"><img src=\"../__pv_it/104edfc751143b922af8235db851387e363947c30/expr.png\" style=\"display:inline;vertical-align:middle;\" /></a></span><br>"
      ],
      "text/plain": [
       "nTandBimplA: {[not](B => A)} |= [not](TRUE and (B => A))"
      ]
     },
     "execution_count": 12,
     "metadata": {},
     "output_type": "execute_result"
    }
   ],
   "source": [
    "nTandBimplA = BimplAeqF.subLeftSideInto(trueAndFalseNegated)"
   ]
  },
  {
   "cell_type": "code",
   "execution_count": 13,
   "metadata": {},
   "outputs": [
    {
     "data": {
      "text/html": [
       "<span style=\"font-size:20px;\"><a class=\"ProveItLink\" href=\"../__pv_it/55417a5e0cab205574a8ad11c824839d8c73855f0/expr.ipynb\"><img src=\"../__pv_it/55417a5e0cab205574a8ad11c824839d8c73855f0/expr.png\" style=\"display:inline;vertical-align:middle;\" /></a> &#x22A2;&nbsp;<a class=\"ProveItLink\" href=\"../__pv_it/c9725a84c8b1a6baa95128ffd5b82a4d83778e320/expr.ipynb\"><img src=\"../__pv_it/c9725a84c8b1a6baa95128ffd5b82a4d83778e320/expr.png\" style=\"display:inline;vertical-align:middle;\" /></a></span>"
      ],
      "text/plain": [
       "{[not](B => A)} |= [not]((A => B) and (B => A))"
      ]
     },
     "execution_count": 13,
     "metadata": {},
     "output_type": "execute_result"
    }
   ],
   "source": [
    "AimplBeqT.subLeftSideInto(nTandBimplA)"
   ]
  },
  {
   "cell_type": "code",
   "execution_count": 14,
   "metadata": {},
   "outputs": [
    {
     "data": {
      "text/html": [
       "<span style=\"font-size:20px;\"> &#x22A2;&nbsp;<a class=\"ProveItLink\" href=\"../__pv_it/476a3cb31a7510a178fe368231979ba1c7d34d620/expr.ipynb\"><img src=\"../__pv_it/476a3cb31a7510a178fe368231979ba1c7d34d620/expr.png\" style=\"display:inline;vertical-align:middle;\" /></a></span>"
      ],
      "text/plain": [
       "|= forall_{A, B} ((A <=> B) = ((A => B) and (B => A)))"
      ]
     },
     "execution_count": 14,
     "metadata": {},
     "output_type": "execute_result"
    }
   ],
   "source": [
    "iffDef"
   ]
  },
  {
   "cell_type": "code",
   "execution_count": 15,
   "metadata": {},
   "outputs": [
    {
     "data": {
      "text/html": [
       "<strong id=\"ID\">ID:</strong> <span style=\"font-size:20px;\"> &#x22A2;&nbsp;<a class=\"ProveItLink\" href=\"../__pv_it/f5fd5d4e2da4d672b76d3263b49fecf019d092370/expr.ipynb\"><img src=\"../__pv_it/f5fd5d4e2da4d672b76d3263b49fecf019d092370/expr.png\" style=\"display:inline;vertical-align:middle;\" /></a></span><br>"
      ],
      "text/plain": [
       "ID: |= (A <=> B) = ((A => B) and (B => A))"
      ]
     },
     "execution_count": 15,
     "metadata": {},
     "output_type": "execute_result"
    }
   ],
   "source": [
    "ID = iffDef.specialize()"
   ]
  },
  {
   "cell_type": "code",
   "execution_count": 16,
   "metadata": {},
   "outputs": [
    {
     "data": {
      "text/html": [
       "<span style=\"font-size:20px;\"><a class=\"ProveItLink\" href=\"../__pv_it/55417a5e0cab205574a8ad11c824839d8c73855f0/expr.ipynb\"><img src=\"../__pv_it/55417a5e0cab205574a8ad11c824839d8c73855f0/expr.png\" style=\"display:inline;vertical-align:middle;\" /></a> &#x22A2;&nbsp;<a class=\"ProveItLink\" href=\"../__pv_it/6d877884bd01bf51c7b1691913608f760849a7d50/expr.ipynb\"><img src=\"../__pv_it/6d877884bd01bf51c7b1691913608f760849a7d50/expr.png\" style=\"display:inline;vertical-align:middle;\" /></a></span>"
      ],
      "text/plain": [
       "{[not](B => A)} |= [not](A <=> B) = TRUE"
      ]
     },
     "execution_count": 16,
     "metadata": {},
     "output_type": "execute_result"
    }
   ],
   "source": [
    "Not(ID.operands[0]).evaluation()"
   ]
  },
  {
   "cell_type": "code",
   "execution_count": 17,
   "metadata": {},
   "outputs": [
    {
     "data": {
      "text/html": [
       "<table><tr><th>&nbsp;</th><th>step type</th><th>requirements</th><th>statement</th></tr>\n",
       "<tr><td>0</td><td>generalizaton</td><td>1</td><td><span style=\"font-size:20px;\"> &#x22A2;&nbsp;<a class=\"ProveItLink\" href=\"../__pv_it/1403275af5fd3109ea847a7fde1db76428e71dc10/expr.ipynb\"><img src=\"../__pv_it/1403275af5fd3109ea847a7fde1db76428e71dc10/expr.png\" style=\"display:inline;vertical-align:middle;\" /></a></span></td></tr>\n",
       "<tr><td>1</td><td>specialization</td><td>2, 3</td><td><span style=\"font-size:20px;\"><a class=\"ProveItLink\" href=\"../__pv_it/55417a5e0cab205574a8ad11c824839d8c73855f0/expr.ipynb\"><img src=\"../__pv_it/55417a5e0cab205574a8ad11c824839d8c73855f0/expr.png\" style=\"display:inline;vertical-align:middle;\" /></a> &#x22A2;&nbsp;<a class=\"ProveItLink\" href=\"../__pv_it/4bf7f9f34898a0ede54992b600d16f25150d2fec0/expr.ipynb\"><img src=\"../__pv_it/4bf7f9f34898a0ede54992b600d16f25150d2fec0/expr.png\" style=\"display:inline;vertical-align:middle;\" /></a></span></td></tr>\n",
       "<tr><td>&nbsp;</td><td colspan=4 style=\"text-align:left\"><span style=\"font-size:20px;\"><a class=\"ProveItLink\" href=\"../../../../__pv_it/2cbe72a7ad6f655694dd697106680215e8489b600/expr.ipynb\"><img src=\"../../../../__pv_it/2cbe72a7ad6f655694dd697106680215e8489b600/expr.png\" style=\"display:inline;vertical-align:middle;\" /></a> : <a class=\"ProveItLink\" href=\"../__pv_it/315d469da84f8bd61c78705cff800abb69da38bc0/expr.ipynb\"><img src=\"../__pv_it/315d469da84f8bd61c78705cff800abb69da38bc0/expr.png\" style=\"display:inline;vertical-align:middle;\" /></a></span></td></tr><tr><td>2</td><td>axiom</td><td></td><td><span style=\"font-size:20px;\"> &#x22A2;&nbsp;<a class=\"ProveItLink\" href=\"../../negation/__pv_it/bd349bf529bb24ca3489b99b360030e1baddcd2c0/expr.ipynb\"><img src=\"../../negation/__pv_it/bd349bf529bb24ca3489b99b360030e1baddcd2c0/expr.png\" style=\"display:inline;vertical-align:middle;\" /></a></span></td></tr>\n",
       "<tr><td>&nbsp;</td><td colspan=4 style-\"text-align:left\"><a class=\"ProveItLink\" href=\"../../negation/_axioms_.ipynb#negationIntro\">proveit.logic.boolean.negation.negationIntro</a></td></tr><tr><td>3</td><td>specialization</td><td>4, 5, 6</td><td><span style=\"font-size:20px;\"><a class=\"ProveItLink\" href=\"../__pv_it/55417a5e0cab205574a8ad11c824839d8c73855f0/expr.ipynb\"><img src=\"../__pv_it/55417a5e0cab205574a8ad11c824839d8c73855f0/expr.png\" style=\"display:inline;vertical-align:middle;\" /></a> &#x22A2;&nbsp;<a class=\"ProveItLink\" href=\"../__pv_it/91dcd31a49827ffc3357a6db4aa6dc26260d0c990/expr.ipynb\"><img src=\"../__pv_it/91dcd31a49827ffc3357a6db4aa6dc26260d0c990/expr.png\" style=\"display:inline;vertical-align:middle;\" /></a></span></td></tr>\n",
       "<tr><td>&nbsp;</td><td colspan=4 style=\"text-align:left\"><span style=\"font-size:20px;\"><a class=\"ProveItLink\" href=\"../../../../__pv_it/530be409e3083890784cf1d7b28c9e67e90af9360/expr.ipynb\"><img src=\"../../../../__pv_it/530be409e3083890784cf1d7b28c9e67e90af9360/expr.png\" style=\"display:inline;vertical-align:middle;\" /></a> : <a class=\"ProveItLink\" href=\"../__pv_it/315d469da84f8bd61c78705cff800abb69da38bc0/expr.ipynb\"><img src=\"../__pv_it/315d469da84f8bd61c78705cff800abb69da38bc0/expr.png\" style=\"display:inline;vertical-align:middle;\" /></a>, <a class=\"ProveItLink\" href=\"../../../../__pv_it/f8b9edf8e16034727f0aad55bb83e392c3db40d40/expr.ipynb\"><img src=\"../../../../__pv_it/f8b9edf8e16034727f0aad55bb83e392c3db40d40/expr.png\" style=\"display:inline;vertical-align:middle;\" /></a> : <a class=\"ProveItLink\" href=\"../__pv_it/434148932d7b270f25113c0ed7ba844d5c70a34f0/expr.ipynb\"><img src=\"../__pv_it/434148932d7b270f25113c0ed7ba844d5c70a34f0/expr.png\" style=\"display:inline;vertical-align:middle;\" /></a>, <a class=\"ProveItLink\" href=\"../../../../__pv_it/251502494639118b4892de8e9d720a5fcce840e10/expr.ipynb\"><img src=\"../../../../__pv_it/251502494639118b4892de8e9d720a5fcce840e10/expr.png\" style=\"display:inline;vertical-align:middle;\" /></a> : <a class=\"ProveItLink\" href=\"../../__pv_it/8f1f7fac882de28c72b62ab80a1700b6d8fd066b0/expr.ipynb\"><img src=\"../../__pv_it/8f1f7fac882de28c72b62ab80a1700b6d8fd066b0/expr.png\" style=\"display:inline;vertical-align:middle;\" /></a></span></td></tr><tr><td>4</td><td>axiom</td><td></td><td><span style=\"font-size:20px;\"> &#x22A2;&nbsp;<a class=\"ProveItLink\" href=\"../../../equality/__pv_it/3e27e37ba4c21dbc2950467f18d0691b4108abf10/expr.ipynb\"><img src=\"../../../equality/__pv_it/3e27e37ba4c21dbc2950467f18d0691b4108abf10/expr.png\" style=\"display:inline;vertical-align:middle;\" /></a></span></td></tr>\n",
       "<tr><td>&nbsp;</td><td colspan=4 style-\"text-align:left\"><a class=\"ProveItLink\" href=\"../../../equality/_axioms_.ipynb#equalsTransitivity\">proveit.logic.equality.equalsTransitivity</a></td></tr><tr><td>5</td><td>specialization</td><td>7</td><td><span style=\"font-size:20px;\"> &#x22A2;&nbsp;<a class=\"ProveItLink\" href=\"../__pv_it/f5fd5d4e2da4d672b76d3263b49fecf019d092370/expr.ipynb\"><img src=\"../__pv_it/f5fd5d4e2da4d672b76d3263b49fecf019d092370/expr.png\" style=\"display:inline;vertical-align:middle;\" /></a></span></td></tr>\n",
       "<tr><td>&nbsp;</td><td colspan=4 style=\"text-align:left\"><span style=\"font-size:20px;\"><a class=\"ProveItLink\" href=\"../../../../__pv_it/2cbe72a7ad6f655694dd697106680215e8489b600/expr.ipynb\"><img src=\"../../../../__pv_it/2cbe72a7ad6f655694dd697106680215e8489b600/expr.png\" style=\"display:inline;vertical-align:middle;\" /></a> : <a class=\"ProveItLink\" href=\"../../../../__pv_it/2cbe72a7ad6f655694dd697106680215e8489b600/expr.ipynb\"><img src=\"../../../../__pv_it/2cbe72a7ad6f655694dd697106680215e8489b600/expr.png\" style=\"display:inline;vertical-align:middle;\" /></a>, <a class=\"ProveItLink\" href=\"../../../../__pv_it/077b2ff79244fb4582cbe22c6e3356fa92a52f2f0/expr.ipynb\"><img src=\"../../../../__pv_it/077b2ff79244fb4582cbe22c6e3356fa92a52f2f0/expr.png\" style=\"display:inline;vertical-align:middle;\" /></a> : <a class=\"ProveItLink\" href=\"../../../../__pv_it/077b2ff79244fb4582cbe22c6e3356fa92a52f2f0/expr.ipynb\"><img src=\"../../../../__pv_it/077b2ff79244fb4582cbe22c6e3356fa92a52f2f0/expr.png\" style=\"display:inline;vertical-align:middle;\" /></a></span></td></tr><tr><td>6</td><td>specialization</td><td>8, 9</td><td><span style=\"font-size:20px;\"><a class=\"ProveItLink\" href=\"../__pv_it/55417a5e0cab205574a8ad11c824839d8c73855f0/expr.ipynb\"><img src=\"../__pv_it/55417a5e0cab205574a8ad11c824839d8c73855f0/expr.png\" style=\"display:inline;vertical-align:middle;\" /></a> &#x22A2;&nbsp;<a class=\"ProveItLink\" href=\"../__pv_it/df863df8b95a66b3b9d07d3fd583b0b9f35b7d2f0/expr.ipynb\"><img src=\"../__pv_it/df863df8b95a66b3b9d07d3fd583b0b9f35b7d2f0/expr.png\" style=\"display:inline;vertical-align:middle;\" /></a></span></td></tr>\n",
       "<tr><td>&nbsp;</td><td colspan=4 style=\"text-align:left\"><span style=\"font-size:20px;\"><a class=\"ProveItLink\" href=\"../../../../__pv_it/2cbe72a7ad6f655694dd697106680215e8489b600/expr.ipynb\"><img src=\"../../../../__pv_it/2cbe72a7ad6f655694dd697106680215e8489b600/expr.png\" style=\"display:inline;vertical-align:middle;\" /></a> : <a class=\"ProveItLink\" href=\"../__pv_it/434148932d7b270f25113c0ed7ba844d5c70a34f0/expr.ipynb\"><img src=\"../__pv_it/434148932d7b270f25113c0ed7ba844d5c70a34f0/expr.png\" style=\"display:inline;vertical-align:middle;\" /></a></span></td></tr><tr><td>7</td><td>axiom</td><td></td><td><span style=\"font-size:20px;\"> &#x22A2;&nbsp;<a class=\"ProveItLink\" href=\"../__pv_it/476a3cb31a7510a178fe368231979ba1c7d34d620/expr.ipynb\"><img src=\"../__pv_it/476a3cb31a7510a178fe368231979ba1c7d34d620/expr.png\" style=\"display:inline;vertical-align:middle;\" /></a></span></td></tr>\n",
       "<tr><td>&nbsp;</td><td colspan=4 style-\"text-align:left\"><a class=\"ProveItLink\" href=\"../_axioms_.ipynb#iffDef\">proveit.logic.boolean.implication.iffDef</a></td></tr><tr><td>8</td><td>axiom</td><td></td><td><span style=\"font-size:20px;\"> &#x22A2;&nbsp;<a class=\"ProveItLink\" href=\"../../negation/__pv_it/ff54988b43a873b48cad467afd8955bd0735c0210/expr.ipynb\"><img src=\"../../negation/__pv_it/ff54988b43a873b48cad467afd8955bd0735c0210/expr.png\" style=\"display:inline;vertical-align:middle;\" /></a></span></td></tr>\n",
       "<tr><td>&nbsp;</td><td colspan=4 style-\"text-align:left\"><a class=\"ProveItLink\" href=\"../../negation/_axioms_.ipynb#negationElim\">proveit.logic.boolean.negation.negationElim</a></td></tr><tr><td>9</td><td>specialization</td><td>10, 11, 12</td><td><span style=\"font-size:20px;\"><a class=\"ProveItLink\" href=\"../__pv_it/55417a5e0cab205574a8ad11c824839d8c73855f0/expr.ipynb\"><img src=\"../__pv_it/55417a5e0cab205574a8ad11c824839d8c73855f0/expr.png\" style=\"display:inline;vertical-align:middle;\" /></a> &#x22A2;&nbsp;<a class=\"ProveItLink\" href=\"../__pv_it/c9725a84c8b1a6baa95128ffd5b82a4d83778e320/expr.ipynb\"><img src=\"../__pv_it/c9725a84c8b1a6baa95128ffd5b82a4d83778e320/expr.png\" style=\"display:inline;vertical-align:middle;\" /></a></span></td></tr>\n",
       "<tr><td>&nbsp;</td><td colspan=4 style=\"text-align:left\"><span style=\"font-size:20px;\"><a class=\"ProveItLink\" href=\"../__pv_it/fd4b0a418766985890fb332a124e981d1643d8330/expr.ipynb\"><img src=\"../__pv_it/fd4b0a418766985890fb332a124e981d1643d8330/expr.png\" style=\"display:inline;vertical-align:middle;\" /></a> : <a class=\"ProveItLink\" href=\"../__pv_it/1cf15cab9baba4dcda87ced2e6fd0b595b2a28f90/expr.ipynb\"><img src=\"../__pv_it/1cf15cab9baba4dcda87ced2e6fd0b595b2a28f90/expr.png\" style=\"display:inline;vertical-align:middle;\" /></a>, <a class=\"ProveItLink\" href=\"../../../../__pv_it/530be409e3083890784cf1d7b28c9e67e90af9360/expr.ipynb\"><img src=\"../../../../__pv_it/530be409e3083890784cf1d7b28c9e67e90af9360/expr.png\" style=\"display:inline;vertical-align:middle;\" /></a> : <a class=\"ProveItLink\" href=\"../__pv_it/e73a70c11cb4dd0ed268f52ee1583e255f8135080/expr.ipynb\"><img src=\"../__pv_it/e73a70c11cb4dd0ed268f52ee1583e255f8135080/expr.png\" style=\"display:inline;vertical-align:middle;\" /></a></span></td></tr><tr><td>10</td><td>theorem</td><td></td><td><span style=\"font-size:20px;\"> &#x22A2;&nbsp;<a class=\"ProveItLink\" href=\"../../../equality/__pv_it/1e114d79aed6c8943f89c10304527d77560f33e20/expr.ipynb\"><img src=\"../../../equality/__pv_it/1e114d79aed6c8943f89c10304527d77560f33e20/expr.png\" style=\"display:inline;vertical-align:middle;\" /></a></span></td></tr>\n",
       "<tr><td>&nbsp;</td><td colspan=4 style-\"text-align:left\"><a class=\"ProveItLink\" href=\"../../../equality/_proofs_/substituteTruth.ipynb\">proveit.logic.equality.substituteTruth</a></td></tr><tr><td>11</td><td>specialization</td><td>13, 14, 16</td><td><span style=\"font-size:20px;\"><a class=\"ProveItLink\" href=\"../__pv_it/55417a5e0cab205574a8ad11c824839d8c73855f0/expr.ipynb\"><img src=\"../__pv_it/55417a5e0cab205574a8ad11c824839d8c73855f0/expr.png\" style=\"display:inline;vertical-align:middle;\" /></a> &#x22A2;&nbsp;<a class=\"ProveItLink\" href=\"../__pv_it/104edfc751143b922af8235db851387e363947c30/expr.ipynb\"><img src=\"../__pv_it/104edfc751143b922af8235db851387e363947c30/expr.png\" style=\"display:inline;vertical-align:middle;\" /></a></span></td></tr>\n",
       "<tr><td>&nbsp;</td><td colspan=4 style=\"text-align:left\"><span style=\"font-size:20px;\"><a class=\"ProveItLink\" href=\"../__pv_it/fd4b0a418766985890fb332a124e981d1643d8330/expr.ipynb\"><img src=\"../__pv_it/fd4b0a418766985890fb332a124e981d1643d8330/expr.png\" style=\"display:inline;vertical-align:middle;\" /></a> : <a class=\"ProveItLink\" href=\"../__pv_it/43b9352f8ac9f8479512d2864b9dcc4406a988f60/expr.ipynb\"><img src=\"../__pv_it/43b9352f8ac9f8479512d2864b9dcc4406a988f60/expr.png\" style=\"display:inline;vertical-align:middle;\" /></a>, <a class=\"ProveItLink\" href=\"../../../../__pv_it/530be409e3083890784cf1d7b28c9e67e90af9360/expr.ipynb\"><img src=\"../../../../__pv_it/530be409e3083890784cf1d7b28c9e67e90af9360/expr.png\" style=\"display:inline;vertical-align:middle;\" /></a> : <a class=\"ProveItLink\" href=\"../__pv_it/58231239aa3ff75feba4340b3e09a295f56b05c20/expr.ipynb\"><img src=\"../__pv_it/58231239aa3ff75feba4340b3e09a295f56b05c20/expr.png\" style=\"display:inline;vertical-align:middle;\" /></a></span></td></tr><tr><td>12</td><td>specialization</td><td>15, 16</td><td><span style=\"font-size:20px;\"><a class=\"ProveItLink\" href=\"../__pv_it/55417a5e0cab205574a8ad11c824839d8c73855f0/expr.ipynb\"><img src=\"../__pv_it/55417a5e0cab205574a8ad11c824839d8c73855f0/expr.png\" style=\"display:inline;vertical-align:middle;\" /></a> &#x22A2;&nbsp;<a class=\"ProveItLink\" href=\"../__pv_it/e73a70c11cb4dd0ed268f52ee1583e255f8135080/expr.ipynb\"><img src=\"../__pv_it/e73a70c11cb4dd0ed268f52ee1583e255f8135080/expr.png\" style=\"display:inline;vertical-align:middle;\" /></a></span></td></tr>\n",
       "<tr><td>&nbsp;</td><td colspan=4 style=\"text-align:left\"><span style=\"font-size:20px;\"><a class=\"ProveItLink\" href=\"../../../../__pv_it/2cbe72a7ad6f655694dd697106680215e8489b600/expr.ipynb\"><img src=\"../../../../__pv_it/2cbe72a7ad6f655694dd697106680215e8489b600/expr.png\" style=\"display:inline;vertical-align:middle;\" /></a> : <a class=\"ProveItLink\" href=\"../../../../__pv_it/077b2ff79244fb4582cbe22c6e3356fa92a52f2f0/expr.ipynb\"><img src=\"../../../../__pv_it/077b2ff79244fb4582cbe22c6e3356fa92a52f2f0/expr.png\" style=\"display:inline;vertical-align:middle;\" /></a>, <a class=\"ProveItLink\" href=\"../../../../__pv_it/077b2ff79244fb4582cbe22c6e3356fa92a52f2f0/expr.ipynb\"><img src=\"../../../../__pv_it/077b2ff79244fb4582cbe22c6e3356fa92a52f2f0/expr.png\" style=\"display:inline;vertical-align:middle;\" /></a> : <a class=\"ProveItLink\" href=\"../../../../__pv_it/2cbe72a7ad6f655694dd697106680215e8489b600/expr.ipynb\"><img src=\"../../../../__pv_it/2cbe72a7ad6f655694dd697106680215e8489b600/expr.png\" style=\"display:inline;vertical-align:middle;\" /></a></span></td></tr><tr><td>13</td><td>theorem</td><td></td><td><span style=\"font-size:20px;\"> &#x22A2;&nbsp;<a class=\"ProveItLink\" href=\"../../../equality/__pv_it/34d800ff7ea301ab48c11ae7efeae8d673343a320/expr.ipynb\"><img src=\"../../../equality/__pv_it/34d800ff7ea301ab48c11ae7efeae8d673343a320/expr.png\" style=\"display:inline;vertical-align:middle;\" /></a></span></td></tr>\n",
       "<tr><td>&nbsp;</td><td colspan=4 style-\"text-align:left\"><a class=\"ProveItLink\" href=\"../../../equality/_proofs_/substituteFalsehood.ipynb\">proveit.logic.equality.substituteFalsehood</a></td></tr><tr><td>14</td><td>theorem</td><td></td><td><span style=\"font-size:20px;\"> &#x22A2;&nbsp;<a class=\"ProveItLink\" href=\"../../conjunction/__pv_it/7f2fc15a9f23e5089f6bb79aeb43e3459be023490/expr.ipynb\"><img src=\"../../conjunction/__pv_it/7f2fc15a9f23e5089f6bb79aeb43e3459be023490/expr.png\" style=\"display:inline;vertical-align:middle;\" /></a></span></td></tr>\n",
       "<tr><td>&nbsp;</td><td colspan=4 style-\"text-align:left\"><a class=\"ProveItLink\" href=\"../../conjunction/_proofs_/trueAndFalseNegated.ipynb\">proveit.logic.boolean.conjunction.trueAndFalseNegated</a></td></tr><tr><td>15</td><td>theorem</td><td></td><td><span style=\"font-size:20px;\"> &#x22A2;&nbsp;<a class=\"ProveItLink\" href=\"../__pv_it/f8fae95c156c92d5ad1ec942c1fff3453391081e0/expr.ipynb\"><img src=\"../__pv_it/f8fae95c156c92d5ad1ec942c1fff3453391081e0/expr.png\" style=\"display:inline;vertical-align:middle;\" /></a></span></td></tr>\n",
       "<tr><td>&nbsp;</td><td colspan=4 style-\"text-align:left\"><a class=\"ProveItLink\" href=\"negatedReflex.ipynb\">proveit.logic.boolean.implication.negatedReflex</a></td></tr><tr><td>16</td><td>assumption</td><td></td><td><span style=\"font-size:20px;\"><a class=\"ProveItLink\" href=\"../__pv_it/55417a5e0cab205574a8ad11c824839d8c73855f0/expr.ipynb\"><img src=\"../__pv_it/55417a5e0cab205574a8ad11c824839d8c73855f0/expr.png\" style=\"display:inline;vertical-align:middle;\" /></a> &#x22A2;&nbsp;<a class=\"ProveItLink\" href=\"../__pv_it/2f1f3f857c17264ccd898735578ce1fc342686280/expr.ipynb\"><img src=\"../__pv_it/2f1f3f857c17264ccd898735578ce1fc342686280/expr.png\" style=\"display:inline;vertical-align:middle;\" /></a></span></td></tr>\n",
       "</table>"
      ],
      "text/plain": [
       "\tstep type\trequirements\tstatement\n",
       "0\tgeneralizaton\t1\t|= forall_{A, B | [not](B => A)} [not](A <=> B)\n",
       "1\tspecialization\t2, 3\t{[not](B => A)} |= [not](A <=> B)\n",
       "\tA : A <=> B\n",
       "2\taxiom\t\t|= forall_{A | A = FALSE} [not](A)\n",
       "\tproveit.logic.boolean.negation.negationIntro\n",
       "3\tspecialization\t4, 5, 6\t{[not](B => A)} |= (A <=> B) = FALSE\n",
       "\tx : A <=> B, y : (A => B) and (B => A), z : FALSE\n",
       "4\taxiom\t\t|= forall_{x, y, z | x = y , y = z} (x = z)\n",
       "\tproveit.logic.equality.equalsTransitivity\n",
       "5\tspecialization\t7\t|= (A <=> B) = ((A => B) and (B => A))\n",
       "\tA : A, B : B\n",
       "6\tspecialization\t8, 9\t{[not](B => A)} |= ((A => B) and (B => A)) = FALSE\n",
       "\tA : (A => B) and (B => A)\n",
       "7\taxiom\t\t|= forall_{A, B} ((A <=> B) = ((A => B) and (B => A)))\n",
       "\tproveit.logic.boolean.implication.iffDef\n",
       "8\taxiom\t\t|= forall_{A | [not](A)} (A = FALSE)\n",
       "\tproveit.logic.boolean.negation.negationElim\n",
       "9\tspecialization\t10, 11, 12\t{[not](B => A)} |= [not]((A => B) and (B => A))\n",
       "\tP(_x_) : [not](_x_ and (B => A)), x : A => B\n",
       "10\ttheorem\t\t|= forall_{P, x | P(TRUE) , x} P(x)\n",
       "\tproveit.logic.equality.substituteTruth\n",
       "11\tspecialization\t13, 14, 16\t{[not](B => A)} |= [not](TRUE and (B => A))\n",
       "\tP(_x_) : [not](TRUE and _x_), x : B => A\n",
       "12\tspecialization\t15, 16\t{[not](B => A)} |= A => B\n",
       "\tA : B, B : A\n",
       "13\ttheorem\t\t|= forall_{P, x | P(FALSE) , [not](x)} P(x)\n",
       "\tproveit.logic.equality.substituteFalsehood\n",
       "14\ttheorem\t\t|= [not](TRUE and FALSE)\n",
       "\tproveit.logic.boolean.conjunction.trueAndFalseNegated\n",
       "15\ttheorem\t\t|= forall_{A, B | [not](A => B)} (B => A)\n",
       "\tproveit.logic.boolean.implication.negatedReflex\n",
       "16\tassumption\t\t{[not](B => A)} |= [not](B => A)"
      ]
     },
     "execution_count": 17,
     "metadata": {},
     "output_type": "execute_result"
    }
   ],
   "source": [
    "%qed"
   ]
  },
  {
   "cell_type": "code",
   "execution_count": null,
   "metadata": {},
   "outputs": [],
   "source": []
  }
 ],
 "metadata": {
  "kernelspec": {
   "display_name": "Python 3",
   "language": "python",
   "name": "python3"
  },
  "language_info": {
   "codemirror_mode": {
    "name": "ipython",
    "version": 3
   },
   "file_extension": ".py",
   "mimetype": "text/x-python",
   "name": "python",
   "nbconvert_exporter": "python",
   "pygments_lexer": "ipython3",
   "version": "3.7.3"
  }
 },
 "nbformat": 4,
 "nbformat_minor": 1
}
