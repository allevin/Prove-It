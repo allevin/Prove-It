{
 "cells": [
  {
   "cell_type": "markdown",
   "metadata": {},
   "source": [
    "Proof of <a class=\"ProveItLink\" href=\"../../../../_context_.ipynb\">proveit</a>.<a class=\"ProveItLink\" href=\"../../../_context_.ipynb\">logic</a>.<a class=\"ProveItLink\" href=\"../../_context_.ipynb\">boolean</a>.<a class=\"ProveItLink\" href=\"../_context_.ipynb\">implication</a>.<a href=\"../_theorems_.ipynb#leftFromIff\" class=\"ProveItLink\">leftFromIff</a> theorem\n",
    "========"
   ]
  },
  {
   "cell_type": "code",
   "execution_count": 1,
   "metadata": {},
   "outputs": [],
   "source": [
    "import proveit\n",
    "context = proveit.Context('..') # the theorem's context is in the parent directory"
   ]
  },
  {
   "cell_type": "code",
   "execution_count": 2,
   "metadata": {},
   "outputs": [
    {
     "name": "stdout",
     "output_type": "stream",
     "text": [
      "Beginning proof of leftFromIff\n",
      "Recorded 'presuming' information\n"
     ]
    },
    {
     "name": "stdout",
     "output_type": "stream",
     "text": [
      "Presuming previous theorems (applied transitively).\n"
     ]
    },
    {
     "data": {
      "text/html": [
       "<strong id=\"leftFromIff\">leftFromIff:</strong> <a class=\"ProveItLink\" href=\"../__pv_it/9cd549c8a567e2eca436e1b7bb7965de596eb73c0/expr.ipynb\"><img src=\"data:image/png;base64,iVBORw0KGgoAAAANSUhEUgAAAJEAAAAWBAMAAAAyQ2NwAAAAMFBMVEX///8QEBC6urrMzMxUVFRm\n",
       "ZmZERETc3NwyMjKqqqp2dnaIiIiYmJgiIiLu7u4AAAAU9Wx4AAAAAXRSTlMAQObYZgAAAidJREFU\n",
       "OMutVL9v01AQ/mrXcUgc078AMjAiJQOCAaFEUBUkhmbICxMqEqq7EQ+ohaE0nSIW6gXEBkwUCaEg\n",
       "sXWo2UAMdMkCSFgIpC4tFVELiBJxdyTps/hRKnPSe+97d+fvfPfuPUT4X7LC04ukLCdoPGBwIynT\n",
       "Ao1pGvaFhETOWypSmoYVJGS6OuET3f2ZmdmkybWW8zRved6rhERGdCek5RQwJfumzLc21VhRzH2/\n",
       "tL/zzb66ql6MAZZ3KLVoOQS3IVX79LN4I8iOMEj1/V7mtfBPgcdxQJLHXIWWHLL8a/iwLVqrDOOz\n",
       "zuROhBpTFSj4MQCYo6PjfPrZMCd9/qgt6lwL1orOlFmjeG4Z5l3evQbOIwakDkOclts4IsQtT9Qf\n",
       "i3jm60zHUxTPotKdZucOHKnnAJBQD+WkIFMneR7uhSgsPbkEnanMv3jP87x5CmB8WxqTDAaA+pqY\n",
       "0huMbkoyz7Es+kUqZqQxOUF2A0e5dd2zETINOAck5z4AVtm5y2iIT9Btq7oQTFKCgca0pmpd1MR0\n",
       "O49UBe5XsfYBpg824dS/8OE57Gb5KEkbkblQ1JjOwezAnlRK1Sji/gBGh9UD8IscJmNoN2F3Ybe1\n",
       "OhnUAtQeq9fW1x/Sdi7CbAVX/B74jbzfgj3+xtzG4qY6E+wwudQol7+HMCvcCMgsqOp1oBT2wF9e\n",
       "Bw2nYpYiXO3ShLtexWN/ZIqJ6e/KFP4bk7O3p2J4j0/LD37akYshbBANAAAAAElFTkSuQmCC\n",
       "\" style=\"display:inline;vertical-align:middle;\" /></a><br>(see <a class=\"ProveItLink\" href=\"../__pv_it/9cd549c8a567e2eca436e1b7bb7965de596eb73c0/dependencies.ipynb\">dependencies</a>)<br>"
      ],
      "text/plain": [
       "leftFromIff: forall_{A, B | A <=> B , B} A"
      ]
     },
     "execution_count": 2,
     "metadata": {},
     "output_type": "execute_result"
    }
   ],
   "source": [
    "%proving leftFromIff presuming []"
   ]
  },
  {
   "cell_type": "code",
   "execution_count": 3,
   "metadata": {},
   "outputs": [
    {
     "data": {
      "text/html": [
       "<table><tr><th>&nbsp;</th><th>step type</th><th>requirements</th><th>statement</th></tr>\n",
       "<tr><td>0</td><td>generalizaton</td><td>1</td><td><span style=\"font-size:20px;\"> <a class=\"ProveItLink\" href=\"../__pv_it/70eb9e6e136737812b1715ec82eb9da79b20d5890/proof.ipynb\" style=\"text-decoration: none\">&#x22A2;&nbsp;</a><a class=\"ProveItLink\" href=\"../__pv_it/9cd549c8a567e2eca436e1b7bb7965de596eb73c0/expr.ipynb\"><img src=\"data:image/png;base64,iVBORw0KGgoAAAANSUhEUgAAAJEAAAAWBAMAAAAyQ2NwAAAAMFBMVEX///8QEBC6urrMzMxUVFRm\n",
       "ZmZERETc3NwyMjKqqqp2dnaIiIiYmJgiIiLu7u4AAAAU9Wx4AAAAAXRSTlMAQObYZgAAAidJREFU\n",
       "OMutVL9v01AQ/mrXcUgc078AMjAiJQOCAaFEUBUkhmbICxMqEqq7EQ+ohaE0nSIW6gXEBkwUCaEg\n",
       "sXWo2UAMdMkCSFgIpC4tFVELiBJxdyTps/hRKnPSe+97d+fvfPfuPUT4X7LC04ukLCdoPGBwIynT\n",
       "Ao1pGvaFhETOWypSmoYVJGS6OuET3f2ZmdmkybWW8zRved6rhERGdCek5RQwJfumzLc21VhRzH2/\n",
       "tL/zzb66ql6MAZZ3KLVoOQS3IVX79LN4I8iOMEj1/V7mtfBPgcdxQJLHXIWWHLL8a/iwLVqrDOOz\n",
       "zuROhBpTFSj4MQCYo6PjfPrZMCd9/qgt6lwL1orOlFmjeG4Z5l3evQbOIwakDkOclts4IsQtT9Qf\n",
       "i3jm60zHUxTPotKdZucOHKnnAJBQD+WkIFMneR7uhSgsPbkEnanMv3jP87x5CmB8WxqTDAaA+pqY\n",
       "0huMbkoyz7Es+kUqZqQxOUF2A0e5dd2zETINOAck5z4AVtm5y2iIT9Btq7oQTFKCgca0pmpd1MR0\n",
       "O49UBe5XsfYBpg824dS/8OE57Gb5KEkbkblQ1JjOwezAnlRK1Sji/gBGh9UD8IscJmNoN2F3Ybe1\n",
       "OhnUAtQeq9fW1x/Sdi7CbAVX/B74jbzfgj3+xtzG4qY6E+wwudQol7+HMCvcCMgsqOp1oBT2wF9e\n",
       "Bw2nYpYiXO3ShLtexWN/ZIqJ6e/KFP4bk7O3p2J4j0/LD37akYshbBANAAAAAElFTkSuQmCC\n",
       "\" style=\"display:inline;vertical-align:middle;\" /></a></span></td></tr>\n",
       "<tr><td>1</td><td>modus ponens</td><td>2, 3</td><td><span style=\"font-size:20px;\"><a class=\"ProveItLink\" href=\"../__pv_it/0544616318d0afc1975b39ca11d0aa384c7bab2c0/expr.ipynb\"><img src=\"data:image/png;base64,iVBORw0KGgoAAAANSUhEUgAAAG0AAAAVBAMAAAC+p33JAAAAMFBMVEX///9ERETc3NyqqqpUVFS6\n",
       "urrMzMwyMjIQEBCIiIh2dnYiIiLu7u5mZmaYmJgAAABJJ2g3AAAAAXRSTlMAQObYZgAAAZFJREFU\n",
       "OMtjYGDgu8dAEmBbpQCieHYxkAjYmkEk5wcobwMWJXz+X1wcS9E510E8rgaIKPsHbGZzCDAw3A9A\n",
       "46xA1vf6DzZ9+ROA2AGNg6yPyfYTVJYdiHNh+uYDw+D9AjQOsj5Ozq9Q2ZlAzKgA5UgA8Y4DaBxk\n",
       "fTHM/6DhUwCyvQCq9AsDg7oMAxoHrI8XrIQngO0nRDKjezcQfIfYwfZl5tx98PCHcd6D1YFDi5WB\n",
       "6S/EvTVgihUS+JxAT5+GBQucw36BgSGlDSyW4uLyEWxvI1SRBlg1I9ATnFAPIHHEHzAwRCSAWEBL\n",
       "28GSRy5AgrcSTPEDdfP9guqDc7hBAcwC8h8zKKQgsta7wQASoPlAg1k+w6IPxgH7jwuUvpSBuB4i\n",
       "ywxyIM8mRIzpAw0+gMxBxAMPiCcPjabLIEcEwGOMrf0AA89vJA5CH5PEdwWGh/9rIWqPA7EihHnx\n",
       "v4tLOdB1PP0KCA5a+kRkEyA+gybGqoDMw64PG+BjwNDHR7o+cP7j2UmEvgkoHmmFmLWYjPIFAIBF\n",
       "fLvdtJgOAAAAAElFTkSuQmCC\n",
       "\" style=\"display:inline;vertical-align:middle;\" /></a> <a class=\"ProveItLink\" href=\"../__pv_it/c101821fcba82da30366295cdb3ae2f169ec141a0/proof.ipynb\" style=\"text-decoration: none\">&#x22A2;&nbsp;</a><a class=\"ProveItLink\" href=\"../../../../__pv_it/2cbe72a7ad6f655694dd697106680215e8489b600/expr.ipynb\"><img src=\"data:image/png;base64,iVBORw0KGgoAAAANSUhEUgAAAA8AAAAOBAMAAAACpFvcAAAALVBMVEX///8QEBBERERUVFS6urqI\n",
       "iIhmZmaqqqrc3Nzu7u6YmJgyMjIiIiLMzMwAAADtIaYWAAAAAXRSTlMAQObYZgAAAFtJREFUCNdj\n",
       "YACBOwxQsA9Kc52bAGG05zVAGAFxDmCaZULdAjBjCsO9ADDDgaEvAUTzGhvbKYCVMDAwbgAxChgY\n",
       "eASANAeQwf0AyJgNxEwvGRia5HYwcOm9TgAA6BoR3jrzwFcAAAAASUVORK5CYII=\n",
       "\" style=\"display:inline;vertical-align:middle;\" /></a></span></td></tr>\n",
       "<tr><td>2</td><td>specialization</td><td>4, 5</td><td><span style=\"font-size:20px;\"><a class=\"ProveItLink\" href=\"../__pv_it/af0e561509f7967aca213082eece98cd243241150/expr.ipynb\"><img src=\"data:image/png;base64,iVBORw0KGgoAAAANSUhEUgAAAFMAAAAVBAMAAADInc9CAAAAMFBMVEX///9ERETc3NyqqqpUVFS6\n",
       "urrMzMwyMjIQEBCIiIh2dnYiIiLu7u5mZmaYmJgAAABJJ2g3AAAAAXRSTlMAQObYZgAAAWtJREFU\n",
       "KM9jYGDgu8dACLCtUgBRPLsYCAO2ZhDJ+QHK24BFCZ//FxfHUiDjOojH1QARZf+AzTgOAQaG+wEM\n",
       "DCuQlb7+g01p/gQgdkBVymT7CSrLDsS5MKXzgf55vwBVKSfnV6jsTCBmVIByJIB4xwFUpTHM/6De\n",
       "KwDZUQBV+oWBQV2GAaqUFyzKE8D2EyKZ0b0bCL4fgOj7MnPuPhDjPVgqAESyMjD9hTikBkyxlkJ4\n",
       "QA+cdgB54AIDQ0obWCzFxeUj2PRGqM0aIAUMjEDXcYJdJv6AgSEiAcQCGt0OVnLkAiRAKsEUP1AD\n",
       "3y8ggxsYCgwsILcygzwKMc56NxhAgiAfaBbLZ5hbuUARqgzE9RClzCCbeTYhglW/gAEpsHhAPHmI\n",
       "pxkug6wKgAcrW/sBJKVMEt8VGB7+r4VIHwdiRQjz4n8Xl/IHDAxoaQCR4ID4DHpawK4UKwAr5SNK\n",
       "KTi98uwkJhe0QlL6YuLyFgCCuV6Ikax8iwAAAABJRU5ErkJggg==\n",
       "\" style=\"display:inline;vertical-align:middle;\" /></a> <a class=\"ProveItLink\" href=\"../__pv_it/9a05337d3c8691204dce753272b8fe80c2e9f4e40/proof.ipynb\" style=\"text-decoration: none\">&#x22A2;&nbsp;</a><a class=\"ProveItLink\" href=\"../__pv_it/39edb9fe2b7411693ffcf43a9bf0fb98391840e40/expr.ipynb\"><img src=\"data:image/png;base64,iVBORw0KGgoAAAANSUhEUgAAAEAAAAAPBAMAAACmSdRUAAAAMFBMVEX///+qqqru7u4iIiJ2dnbc\n",
       "3NyIiIjMzMxmZmYQEBC6uroyMjJERERUVFSYmJgAAADLUcuvAAAAAXRSTlMAQObYZgAAAOhJREFU\n",
       "GNNjYGB4+//u3dMLGLABdgMwNYeBgeMXVgXcH8DKvgHxX7ggE5KCx59AJNtXBga+LwhdCnAmq8RX\n",
       "EMUzgYGBeRJclOsCnMnGBraZ/wID6x6ENgY3OGsR4z8QVX8trfkBWKDZGATsG2CuWQByHgNDfgAD\n",
       "ky2y26WhfuZiYP0Bok+CFD1AUsC0E6Ki9u7dPyAa5MP3DkgKqp0gNFDZbFAwgBxyXwDhBuNDEHlG\n",
       "ILaEBgPrbyQDZKF0IBDvhwZD5SaEPOsGqEtA9HkFBo7zf+/e3odkAE8ARN3J3wEMb/7vwBKDqFwA\n",
       "TPY/hyWgimwAAAAASUVORK5CYII=\n",
       "\" style=\"display:inline;vertical-align:middle;\" /></a></span></td></tr>\n",
       "<tr><td>&nbsp;</td><td colspan=4 style=\"text-align:left\"><span style=\"font-size:20px;\"><a class=\"ProveItLink\" href=\"../../../../__pv_it/2cbe72a7ad6f655694dd697106680215e8489b600/expr.ipynb\"><img src=\"data:image/png;base64,iVBORw0KGgoAAAANSUhEUgAAAA8AAAAOBAMAAAACpFvcAAAALVBMVEX///8QEBBERERUVFS6urqI\n",
       "iIhmZmaqqqrc3Nzu7u6YmJgyMjIiIiLMzMwAAADtIaYWAAAAAXRSTlMAQObYZgAAAFtJREFUCNdj\n",
       "YACBOwxQsA9Kc52bAGG05zVAGAFxDmCaZULdAjBjCsO9ADDDgaEvAUTzGhvbKYCVMDAwbgAxChgY\n",
       "eASANAeQwf0AyJgNxEwvGRia5HYwcOm9TgAA6BoR3jrzwFcAAAAASUVORK5CYII=\n",
       "\" style=\"display:inline;vertical-align:middle;\" /></a> : <a class=\"ProveItLink\" href=\"../../../../__pv_it/2cbe72a7ad6f655694dd697106680215e8489b600/expr.ipynb\"><img src=\"data:image/png;base64,iVBORw0KGgoAAAANSUhEUgAAAA8AAAAOBAMAAAACpFvcAAAALVBMVEX///8QEBBERERUVFS6urqI\n",
       "iIhmZmaqqqrc3Nzu7u6YmJgyMjIiIiLMzMwAAADtIaYWAAAAAXRSTlMAQObYZgAAAFtJREFUCNdj\n",
       "YACBOwxQsA9Kc52bAGG05zVAGAFxDmCaZULdAjBjCsO9ADDDgaEvAUTzGhvbKYCVMDAwbgAxChgY\n",
       "eASANAeQwf0AyJgNxEwvGRia5HYwcOm9TgAA6BoR3jrzwFcAAAAASUVORK5CYII=\n",
       "\" style=\"display:inline;vertical-align:middle;\" /></a>, <a class=\"ProveItLink\" href=\"../../../../__pv_it/077b2ff79244fb4582cbe22c6e3356fa92a52f2f0/expr.ipynb\"><img src=\"data:image/png;base64,iVBORw0KGgoAAAANSUhEUgAAABAAAAAOBAMAAADUAYG5AAAAMFBMVEX///+qqqru7u4iIiJ2dnbc\n",
       "3NyIiIjMzMxmZmYQEBC6uroyMjJERERUVFSYmJgAAADLUcuvAAAAAXRSTlMAQObYZgAAAGpJREFU\n",
       "CNdjYGB4+//u3dMLGIBgDgMDxy8gzf4NiP8CGWxfGRj4vgAZPBMYGJgnARn8FxhY9ygAGfXX0pof\n",
       "gDTlBzAw2YIYJ0EckBBI53sHoBH/gIz7AhBjWH9DjancBLTl/N+7t/cxMAAA3u4f/5xagjYAAAAA\n",
       "SUVORK5CYII=\n",
       "\" style=\"display:inline;vertical-align:middle;\" /></a> : <a class=\"ProveItLink\" href=\"../../../../__pv_it/077b2ff79244fb4582cbe22c6e3356fa92a52f2f0/expr.ipynb\"><img src=\"data:image/png;base64,iVBORw0KGgoAAAANSUhEUgAAABAAAAAOBAMAAADUAYG5AAAAMFBMVEX///+qqqru7u4iIiJ2dnbc\n",
       "3NyIiIjMzMxmZmYQEBC6uroyMjJERERUVFSYmJgAAADLUcuvAAAAAXRSTlMAQObYZgAAAGpJREFU\n",
       "CNdjYGB4+//u3dMLGIBgDgMDxy8gzf4NiP8CGWxfGRj4vgAZPBMYGJgnARn8FxhY9ygAGfXX0pof\n",
       "gDTlBzAw2YIYJ0EckBBI53sHoBH/gIz7AhBjWH9DjancBLTl/N+7t/cxMAAA3u4f/5xagjYAAAAA\n",
       "SUVORK5CYII=\n",
       "\" style=\"display:inline;vertical-align:middle;\" /></a></span></td></tr><tr><td>3</td><td>assumption</td><td></td><td><span style=\"font-size:20px;\"><a class=\"ProveItLink\" href=\"../__pv_it/547fd547e34cf8546442bd6aea990dbe0adf77b90/expr.ipynb\"><img src=\"data:image/png;base64,iVBORw0KGgoAAAANSUhEUgAAACMAAAAVBAMAAAA+1EraAAAAMFBMVEX////c3NxERESqqqpUVFS6\n",
       "urrMzMwyMjIQEBCIiIh2dnYiIiLu7u5mZmaYmJgAAABXZE4RAAAAAXRSTlMAQObYZgAAAMtJREFU\n",
       "GNNjYGDgu8cAA2yrBEAUzy4GBGBrBpGcH4AEn/8XF6dSIOM6SIirAURyKDAw3A9gYFiBEMqfAMQO\n",
       "KELzgea+X4AipAHEOw6gCH1hYBDXYYAK8RaALP8yc+4+EO89iMgIALnkIwPDaaDpDOwXGBhS2kDi\n",
       "TEDdnP9ALPUHDAwRCUAGP1AF3y8ggxtoKwMLyKx8oBzLZ5hZXBugzpIvYEB2BNBZbO0HkIUu/Xdx\n",
       "KX/AgKIKDnAJ8aEIgcOLZydyqLaCKb7FqGEPACcgN6r4rcm/AAAAAElFTkSuQmCC\n",
       "\" style=\"display:inline;vertical-align:middle;\" /></a> <a class=\"ProveItLink\" href=\"../__pv_it/833aa83659a0310dae4142c972aaa6b925a3bbea0/proof.ipynb\" style=\"text-decoration: none\">&#x22A2;&nbsp;</a><a class=\"ProveItLink\" href=\"../../../../__pv_it/077b2ff79244fb4582cbe22c6e3356fa92a52f2f0/expr.ipynb\"><img src=\"data:image/png;base64,iVBORw0KGgoAAAANSUhEUgAAABAAAAAOBAMAAADUAYG5AAAAMFBMVEX///+qqqru7u4iIiJ2dnbc\n",
       "3NyIiIjMzMxmZmYQEBC6uroyMjJERERUVFSYmJgAAADLUcuvAAAAAXRSTlMAQObYZgAAAGpJREFU\n",
       "CNdjYGB4+//u3dMLGIBgDgMDxy8gzf4NiP8CGWxfGRj4vgAZPBMYGJgnARn8FxhY9ygAGfXX0pof\n",
       "gDTlBzAw2YIYJ0EckBBI53sHoBH/gIz7AhBjWH9DjancBLTl/N+7t/cxMAAA3u4f/5xagjYAAAAA\n",
       "SUVORK5CYII=\n",
       "\" style=\"display:inline;vertical-align:middle;\" /></a></span></td></tr>\n",
       "<tr><td>4</td><td>theorem</td><td></td><td><span style=\"font-size:20px;\"> <a class=\"ProveItLink\" href=\"iffImpliesLeft.ipynb\" style=\"text-decoration: none\">&#x22A2;&nbsp;</a><a class=\"ProveItLink\" href=\"../__pv_it/daee5f8cd64120ac6a4f032996a3d425891831ae0/expr.ipynb\"><img src=\"data:image/png;base64,iVBORw0KGgoAAAANSUhEUgAAAMIAAAAXBAMAAACrPI2eAAAAMFBMVEX///8QEBC6urrMzMxUVFRm\n",
       "ZmZERETc3NwyMjKqqqp2dnaIiIiYmJgiIiLu7u4AAAAU9Wx4AAAAAXRSTlMAQObYZgAAAuxJREFU\n",
       "SMe1VT9ME1EY/9Gjd9hej246ISZumtDBqIkxvWhTTBxoIlcnA8ZQ4iIdDGgMUlyqi3RQwyYORoyG\n",
       "1ESnDpwb6gAOLAqhMZqwgET+K1a/9+4e92hK0KIvee+++77vfb/v7x3w31dxF3cP7aihNwITjHhX\n",
       "FYBikomWpVj8VmX5SdrngKeMvlsVQh2Lv6YdaGusKB9gOkA3PbT2qhAK7IjmaZuCZcgZmiEP9CHu\n",
       "iD9XFUIDO0bTwPjQlrDcdb2NREYY+pOent6qAHwZdl6k/X7Trs/05PlRlrzLwEoq9aEqBD/3fAm4\n",
       "dsVjPvMcKD606fEYOA10claWnw+WrXiEa2xGnvYM7OmyWi8JPjOgLBVeTfHXC9NszSSE6ideIgwC\n",
       "B2HwcPVvTn3CCIYZoQrVcblTXgMvXLKG8YOrwJyUGgwK7Ub0MbQDQAhB5gy+bDixm/CtyghGmy0Z\n",
       "aAWa3JjqmS2VvAluSApGvwOhxGItrEWjJLdDvFAjk1wSysM/ISME5sgVw4TC0/6R0gEJoZ5N3XcJ\n",
       "4fiIWwYKMuMgGJkjHDOf4pKvEYylZYQTKrnip9I0Mw8XoWdFlliPRynA2nWvDtOi6iQMhZ0sofMU\n",
       "49S6vjUVXjpKAsFkIT1KpVL9BOz7UYiL1lRtdxz6Ml4I99ynRgh1C0SM0b7Pk/IGo1w0TNUsSgh6\n",
       "LriAo8xd42wRgQz0BpG+hDMOyj5vzDQBNssslJxuRQ1rKmPS6uKKHZSonIQwZyVLSBbdNlETMNZF\n",
       "w5NnyV+x2G2pE1S3C7r3Z6F3rZEP7Kuos+v+NKJ8DOh+U0RCOA9lEVqHZVlJ8qQ+B9+iMLe3wue2\n",
       "nGGEBXWYbttaFloJ2qRUBx85SM04e3N+/jm99hXRuzlTb/9g8AN5l/i8Aq1lStnA8LJ1JuchGNTT\n",
       "V3/aUBKsYREYsFrvoNJnbrs1W/5Lkmh1iyQCI11+WzN3Rmguez+2LULFdWNHjWCkjGH/HcIuV+0/\n",
       "svMbyLm8JRIE9oYAAAAASUVORK5CYII=\n",
       "\" style=\"display:inline;vertical-align:middle;\" /></a></span></td></tr>\n",
       "<tr><td>&nbsp;</td><td colspan=4 style-\"text-align:left\"><a class=\"ProveItLink\" href=\"iffImpliesLeft.ipynb\">proveit.logic.boolean.implication.iffImpliesLeft</a></td></tr><tr><td>5</td><td>assumption</td><td></td><td><span style=\"font-size:20px;\"><a class=\"ProveItLink\" href=\"../__pv_it/af0e561509f7967aca213082eece98cd243241150/expr.ipynb\"><img src=\"data:image/png;base64,iVBORw0KGgoAAAANSUhEUgAAAFMAAAAVBAMAAADInc9CAAAAMFBMVEX///9ERETc3NyqqqpUVFS6\n",
       "urrMzMwyMjIQEBCIiIh2dnYiIiLu7u5mZmaYmJgAAABJJ2g3AAAAAXRSTlMAQObYZgAAAWtJREFU\n",
       "KM9jYGDgu8dACLCtUgBRPLsYCAO2ZhDJ+QHK24BFCZ//FxfHUiDjOojH1QARZf+AzTgOAQaG+wEM\n",
       "DCuQlb7+g01p/gQgdkBVymT7CSrLDsS5MKXzgf55vwBVKSfnV6jsTCBmVIByJIB4xwFUpTHM/6De\n",
       "KwDZUQBV+oWBQV2GAaqUFyzKE8D2EyKZ0b0bCL4fgOj7MnPuPhDjPVgqAESyMjD9hTikBkyxlkJ4\n",
       "QA+cdgB54AIDQ0obWCzFxeUj2PRGqM0aIAUMjEDXcYJdJv6AgSEiAcQCGt0OVnLkAiRAKsEUP1AD\n",
       "3y8ggxsYCgwsILcygzwKMc56NxhAgiAfaBbLZ5hbuUARqgzE9RClzCCbeTYhglW/gAEpsHhAPHmI\n",
       "pxkug6wKgAcrW/sBJKVMEt8VGB7+r4VIHwdiRQjz4n8Xl/IHDAxoaQCR4ID4DHpawK4UKwAr5SNK\n",
       "KTi98uwkJhe0QlL6YuLyFgCCuV6Ikax8iwAAAABJRU5ErkJggg==\n",
       "\" style=\"display:inline;vertical-align:middle;\" /></a> <a class=\"ProveItLink\" href=\"../__pv_it/5292a80a2e806539febabb7975bd7cc7832ffe690/proof.ipynb\" style=\"text-decoration: none\">&#x22A2;&nbsp;</a><a class=\"ProveItLink\" href=\"../__pv_it/60a870658ecf77b4b2ca5e56543d5830b362e85b0/expr.ipynb\"><img src=\"data:image/png;base64,iVBORw0KGgoAAAANSUhEUgAAAEAAAAAPBAMAAACmSdRUAAAAMFBMVEX///92dnYQEBBERERUVFS6\n",
       "urqIiIhmZmaqqqrc3Nzu7u6YmJgyMjIiIiLMzMwAAACFkkdwAAAAAXRSTlMAQObYZgAAAQhJREFU\n",
       "GNNjYACBtwxYwJb/Li42ARD2eWwKGJQZGNi/glnc9xdgkef7BsRfwMwZ9ROgggeAYgVQNttPoNaP\n",
       "YGZCPtQqtgQgYQlVwKzAwMCrBWKxLujfABF7AyLmQBXwOzBwHgbbvZThfQLEVqW7QHD/FETBe7e0\n",
       "WojGAIb5EHtzIG6NgViYP4GB6wpYn4uLvwGIscgAopVTBUwZgRSBjGBlYGA6ABLhcocomAOxEOTD\n",
       "/QJAogHoWAWwEMddMLgJcdBvIOEPlOQEYp4PEL0tIGLtBHgwcP4BMtaAvPwLooAdqJjBFREMj4Ae\n",
       "mqx/koHb/g/EG1xAt3BCnMpu/8XF5zRG+D8AKkKNFwBxhUYQlN1g7wAAAABJRU5ErkJggg==\n",
       "\" style=\"display:inline;vertical-align:middle;\" /></a></span></td></tr>\n",
       "</table>"
      ],
      "text/plain": [
       "\tstep type\trequirements\tstatement\n",
       "0\tgeneralizaton\t1\t|- forall_{A, B | A <=> B , B} A\n",
       "1\tmodus ponens\t2, 3\t{A <=> B , B} |- A\n",
       "2\tspecialization\t4, 5\t{A <=> B} |- B => A\n",
       "\tA : A, B : B\n",
       "3\tassumption\t\t{B} |- B\n",
       "4\ttheorem\t\t|- forall_{A, B | A <=> B} (B => A)\n",
       "\tproveit.logic.boolean.implication.iffImpliesLeft\n",
       "5\tassumption\t\t{A <=> B} |- A <=> B"
      ]
     },
     "execution_count": 3,
     "metadata": {},
     "output_type": "execute_result"
    }
   ],
   "source": [
    "%qed"
   ]
  },
  {
   "cell_type": "code",
   "execution_count": null,
   "metadata": {},
   "outputs": [],
   "source": []
  }
 ],
 "metadata": {
  "kernelspec": {
   "display_name": "Python 3",
   "language": "python",
   "name": "python3"
  }
 },
 "nbformat": 4,
 "nbformat_minor": 0
}
