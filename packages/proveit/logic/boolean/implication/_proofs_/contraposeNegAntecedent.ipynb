{
 "cells": [
  {
   "cell_type": "markdown",
   "metadata": {},
   "source": [
    "Proof of <a class=\"ProveItLink\" href=\"../../../../_context_.ipynb\">proveit</a>.<a class=\"ProveItLink\" href=\"../../../_context_.ipynb\">logic</a>.<a class=\"ProveItLink\" href=\"../../_context_.ipynb\">boolean</a>.<a class=\"ProveItLink\" href=\"../_context_.ipynb\">implication</a>.<a class=\"ProveItLink\" href=\"../_theorems_.ipynb#contraposeNegAntecedent\">contraposeNegAntecedent</a> theorem\n",
    "========"
   ]
  },
  {
   "cell_type": "code",
   "execution_count": 1,
   "metadata": {},
   "outputs": [],
   "source": [
    "import proveit\n",
    "from proveit import defaults\n",
    "from proveit._common_ import B\n",
    "from proveit.logic import Not\n",
    "context = proveit.Context('..') # the theorem's context is in the parent directory"
   ]
  },
  {
   "cell_type": "code",
   "execution_count": 2,
   "metadata": {},
   "outputs": [
    {
     "name": "stdout",
     "output_type": "stream",
     "text": [
      "Beginning proof of contraposeNegAntecedent\n",
      "Recorded 'presuming' information\n"
     ]
    },
    {
     "name": "stdout",
     "output_type": "stream",
     "text": [
      "Presuming previous theorems (applied transitively).\n"
     ]
    },
    {
     "data": {
      "text/html": [
       "<strong id=\"contraposeNegAntecedent\">contraposeNegAntecedent:</strong> <a class=\"ProveItLink\" href=\"../__pv_it/0fd340ac2e500e75525da4562d0bbd4dea552e250/expr.ipynb\"><img src=\"data:image/png;base64,iVBORw0KGgoAAAANSUhEUgAAAR4AAAAXBAMAAAAvnz2ZAAAAMFBMVEX///8QEBC6urrMzMxUVFRm\n",
       "ZmZERETc3NwyMjKqqqp2dnaIiIiYmJgiIiLu7u4AAAAU9Wx4AAAAAXRSTlMAQObYZgAAA5tJREFU\n",
       "SMfNVk1oE0EUfskm2Ta72famFzVK8VKhORQtiCRoaL01oNGLtVEwRYQ2p7ZatGlBIj1oDlUKCgbB\n",
       "WhHKHvTUQ+NBqHqwHupBWhpERahVkf6olOrMvJnd2YQteIj44CWb+b6Z+fLem7cD8J9ZqXpLN3J3\n",
       "mB52n0CxWfrwshpylBi62Kx9Jd46DHDMhX4IGPaQPl+vhp6aErowTwqgMww1LvQbdApAL/lSU9XQ\n",
       "M8VdWNQkHgO9YI0Ycq4WiXSC0X/gz1dDz07uwqYzAK8KYNQ7IijsYieBCaY/6Ou7XA053iy6ZWeI\n",
       "vyYKztsUu7rAnKaFTrC1dPrtFsuqEelH7V/o8RfQLVsB6O8m3/ftoUe2tNLdImJHALrYUI593lpN\n",
       "tjIJXiResmfnQJHXt5jWXGc5F9Gt47Yy9WSePozRj44FaosJgb5j5UWxBjBYVPXvWFf1oLEMB5Bo\n",
       "lzol3JMrUDCtuaCPjFwVEjxhdLYzyYC2DrBME7RbWmNMdKMwDCYQC4HGlviwgWGOgXfd1lNrWnMp\n",
       "4ZOcEMHkc5eSp8AsLO3hcF0YnVkzWY9o1ygvKq1hDCFDicfbU4hpxRAr88k5hoRM8M/aegIZay4l\n",
       "+FiCavMOJkLa2StfiJ7gZxc9dSQ2+q8yPS2TvHxILLOIGdlmptBMM+RrBGYyth6PnX9K0DBcXQ4m\n",
       "Qs/YKSk0nhb5yqMLPVGSBd9PkS+sn4VujhNeqJ5jXYfpiA86GNI09RhJqKfF0sMI3pg/TWwoIjMR\n",
       "YkVoJneI+gkU0YUe2n4GKWnGDs+oOMRET803jt1kQX8O0wyaAHhasvU0AIwTAVlOUHhDSUYkJoPw\n",
       "6JkF/0G+RzCBjhFk7UfZXnKcd1W0J1qWgU2OeWgOjLlkD1v8HElE3tYzKk4ZEoSe/SclJoOUN+n0\n",
       "BVo/QdFRZtG5nfgdj19j4Rq2xkRx9u7Kgd7zI4GYTnX4MxBltUoy3BSx9ewVepDgTWlJYscTMpNB\n",
       "RgzjY+mBbdzLTHpfKO7YPnIAimoO1E1Q56T6WRZ6GIG88IwvxGhf5cz+DIfaeL4GxJIvuJdZ0HTv\n",
       "6Rb2fg3U9nllAyZWk0fzkh7sBRBBAvjD4mYjmNEihz6GWT9MF93uG1KtuFk5pkvPqEdzvvrx8qLK\n",
       "u1j7j5P6cbz5Yuhl1raFnnLsQIUew3k1ul15C8y4rj7A3WFaxF1OBVas0AN3HITKv6v/q4u+j+8n\n",
       "aw6Wqr3rHxrmFDggDtnQAAAAAElFTkSuQmCC\n",
       "\" style=\"display:inline;vertical-align:middle;\" /></a><br>(see <a class=\"ProveItLink\" href=\"../__pv_it/0fd340ac2e500e75525da4562d0bbd4dea552e250/dependencies.ipynb\">dependencies</a>)<br>"
      ],
      "text/plain": [
       "contraposeNegAntecedent: forall_{A, B | [not](A) => B , A in BOOLEANS} ([not](B) => A)"
      ]
     },
     "execution_count": 2,
     "metadata": {},
     "output_type": "execute_result"
    }
   ],
   "source": [
    "%proving contraposeNegAntecedent presuming []"
   ]
  },
  {
   "cell_type": "code",
   "execution_count": 3,
   "metadata": {},
   "outputs": [
    {
     "data": {
      "text/html": [
       "<strong id=\"defaults.assumptions\">defaults.assumptions:</strong> <a class=\"ProveItLink\" href=\"../__pv_it/b43b683790b593ea52e9f313c1329f8bda350a8d0/expr.ipynb\"><img src=\"data:image/png;base64,iVBORw0KGgoAAAANSUhEUgAAANMAAAAVBAMAAAAumMZDAAAAMFBMVEX////c3NwiIiJERESqqqqY\n",
       "mJh2dnZmZmYQEBDu7u4yMjJUVFTMzMyIiIi6uroAAAAs73DqAAAAAXRSTlMAQObYZgAAAplJREFU\n",
       "SMe9VT9oU0EY/8Xk5Z9JDNRJByUuooMRLJQuzexiQHBQ0G5OQnHopBhqFwfjw0FCwBqVKC5tBB1s\n",
       "kIZOgkPe4Kj0tUMRXVpExRSt3+Xu3v3JM12CH3zv7t73+77v7r7f3QH/UXIeV0Mcf8RZLrPPe6FK\n",
       "VklvhOEv7bbbk74J1CS+NNmbOxPuk+hQ/4VQJUuk6dC53QYSf0ygLtGcV38wHe7TALIeV23zTrn0\n",
       "0Txc2cn8Jt0xgVaqrN8w/0mfC0DS5ark4K08kKqoH8Gas9sU/4cJZPLwSeGESBUrvzFTSZ8a8AVc\n",
       "lXhrrBzann8NZk35992xgDTppqtWtV60Vip8oiXM0nDWYKR7rkzNVa3ccn8PtBB56lpAYMxVG7h6\n",
       "3tpU6ROfQZOGTd22gC4LfZb1E4W+/BSm7ttP18s2EDitalXYvWuxQvrEGqhSU5VBGRd8HJmh5rMG\n",
       "jy3ydi2P1MngrwAiVdRp8YGPgnjSJ1cB467kb6ZF2m6vMHRXn1q92m8mWDq5LAlEbo6CSlqguKmx\n",
       "r6V8MlsDqXJEyIaVKvOMF4Dx/Io8BRLY9wpWhWLUTCV9KNU8dec1U4kIU5EbKGp1jGfKfKfPSkmA\n",
       "JRCpo0NSBT60gePUHVemCP1Nb1H/olaqljoikR7FZoMACLw2Um1yu4gnfeA0+qQOiN1BnXn8Msl+\n",
       "SDsi7+g8P2LLCIDAfV+lcm4WuV3Ekz6M7BvUbARRx+49hjPVI2YtqlSCzImpnfYyOxe1bR1Is37e\n",
       "kdftt+OvuB2WD9I+knS5JPMDF6t+MXVs47o1ji1zBv7LzqTG71VnesAS94Y8PuU9Hqcw+7XQRwSi\n",
       "FKNMlWLn4rBQU14OiZTdI1OYfT+rUcTjaqI7I37wPwJ/AW/n1XYpMuiuAAAAAElFTkSuQmCC\n",
       "\" style=\"display:inline;vertical-align:middle;\" /></a><br>"
      ],
      "text/plain": [
       "defaults.assumptions: ([not](A) => B , A in BOOLEANS , [not](B))"
      ]
     },
     "execution_count": 3,
     "metadata": {},
     "output_type": "execute_result"
    }
   ],
   "source": [
    "defaults.assumptions = list(contraposeNegAntecedent.allConditions()) + [Not(B)]"
   ]
  },
  {
   "cell_type": "code",
   "execution_count": 4,
   "metadata": {},
   "outputs": [
    {
     "data": {
      "text/html": [
       "<strong id=\"notA_implies_B\">notA_implies_B:</strong> <a class=\"ProveItLink\" href=\"../__pv_it/a52f2e12941e42e61803c785c696b853841b533c0/expr.ipynb\"><img src=\"data:image/png;base64,iVBORw0KGgoAAAANSUhEUgAAAFwAAAAVBAMAAAA5lpTPAAAAMFBMVEX////c3NwiIiJERESqqqqY\n",
       "mJh2dnZmZmYQEBDu7u4yMjJUVFTMzMyIiIi6uroAAAAs73DqAAAAAXRSTlMAQObYZgAAAV9JREFU\n",
       "KM9jYCAR8F1AE2B9gE/5aRTeISCuwaYs+v/u3VZAg1aiiK4HYi6sxjYzMLD/Y+BFcQur/gQgkYAQ\n",
       "mABj8PwF4t8MHBOQlYvUCzAwcDYgBOB2834EmvON4RWKjRfug/xpghB4DWMwA81g6mQoQwmlCf4B\n",
       "QCodIcIGcyv/BgbGxRMYliIrn8dwHiTtBWKzK4HBd6jU+b13i4BG9cEkQP57wCBfAKReIJnAsg5C\n",
       "3xdg4NRmYPgH8/kGIN69e78ByCRkG2f1gSkLkJYAFOV8DAwcC9CU8yyDBN1vII5PYGhBUu4A9HwD\n",
       "zDFQtytDVPN8BRL7HRhMEcoZgcq5PgDZUUhO34AIdsZfSIF2gGEWKHh/ogakFFKwnwDG2SO4jHD/\n",
       "QgZW+1/AoFmHUG4Iodjtf+/eBQpzDgGMxIScCA6gp+4EDOVsF/Ck95UYIrPwZQ9pDJGN+JQzolvN\n",
       "ewC3YgDGg1kRpbQOUwAAAABJRU5ErkJggg==\n",
       "\" style=\"display:inline;vertical-align:middle;\" /></a><br>"
      ],
      "text/plain": [
       "notA_implies_B: [not](A) => B"
      ]
     },
     "execution_count": 4,
     "metadata": {},
     "output_type": "execute_result"
    }
   ],
   "source": [
    "notA_implies_B = defaults.assumptions[0]"
   ]
  },
  {
   "cell_type": "code",
   "execution_count": 5,
   "metadata": {},
   "outputs": [
    {
     "data": {
      "text/html": [
       "<span style=\"font-size:20px;\"><a class=\"ProveItLink\" href=\"../__pv_it/ad89e41428be2ac77395f2bab6681b48aa617f870/expr.ipynb\"><img src=\"data:image/png;base64,iVBORw0KGgoAAAANSUhEUgAAANkAAAAVBAMAAAA5ulaKAAAAMFBMVEX////c3NxERESqqqpUVFS6\n",
       "urrMzMwyMjIQEBCIiIh2dnYiIiLu7u5mZmaYmJgAAABXZE4RAAAAAXRSTlMAQObYZgAAAqdJREFU\n",
       "SMe9Vj1oFEEUfvezu7dxb7NoEay8zoAHHhKwUg7Z3isTtEhxELtcIwZUEvEnjeAhqFwhBiw0wUIE\n",
       "QV1IFivBRiy0EPQQbKISjSf+J763uzP7Zu5yaaIDOzM333vzvb+ZOQBwX8N/aOaCR4PziPoxHX23\n",
       "5XRnqbc/0bSqAHcBiuM9NNzDHf/QcVWQt1ur01P3KhvovKRfAzPYWSEXsMiARi8DCyWANzVVkLfS\n",
       "mHNqYQOd25KtpeDvf2O3nP525GyyiV9VFVTZ4IqlrQmdlO0ihzMHPmP/hPkqPb+BqV6ZUwXJnGtB\n",
       "0EjYDuZDlU3oSDZDCZttf8U+m8bfkN4M4/cgVAWxTXxgvm3XfBM6kq04x+GjuTVaf5auzItJB2Co\n",
       "rAmij+U0kuZiWWMTOhFbEf2y2gx1auYPHHKRv68CaksJs9lpXV/UBTEMnmQ7svS9qVW+0Fmh7hiW\n",
       "S6GW7Etnz4DMHxpmmMr+uA5tzNNTGdZEEOAxr5LWvngq9pM6Fppcv4CTQVHUdfp8f5Vs4tXtTEUS\n",
       "WbTAXhOLiSDAKG0sqiRrsLTUuc5ujODouMaG81mdbeJONAyije5PsZgIxlrStyyUFDaps42syKNR\n",
       "hUqK5qiEZCTjvAVJ5ifRuvyXRFYIYqD6sUmdKG8DePtk2ym6A4dpunHYqRhhR2cXrkdnQAjiZm3O\n",
       "hpEMGZvQSU+ArHYTHAL2hsoJyDTSo2POhuD8olQKQZzeZ2wfL8d4sp/Q4adb3q6Z4W8evF0/jSWU\n",
       "Xoeiwp+v+/4J9MO55DFBbEMv5K2851wlwkUTOvzmOtN9AbOby9Qxw9MWRk4GjX64yrbcDc73eavc\n",
       "Td6ynnjE5na/OCDSsqVs0fvmPKR0VXUs7/XZrbkJWy/cPB8bchO7nTp49V/8L/kLZBfWYZmffo0A\n",
       "AAAASUVORK5CYII=\n",
       "\" style=\"display:inline;vertical-align:middle;\" /></a> <a class=\"ProveItLink\" href=\"../__pv_it/9a4170af501f356d5fe016e6ca80bec1e7e0958e0/proof.ipynb\" style=\"text-decoration: none\">&#x22A2;&nbsp;</a><a class=\"ProveItLink\" href=\"../../../../__pv_it/2cbe72a7ad6f655694dd697106680215e8489b600/expr.ipynb\"><img src=\"data:image/png;base64,iVBORw0KGgoAAAANSUhEUgAAAA8AAAAOBAMAAAACpFvcAAAALVBMVEX///8QEBBERERUVFS6urqI\n",
       "iIhmZmaqqqrc3Nzu7u6YmJgyMjIiIiLMzMwAAADtIaYWAAAAAXRSTlMAQObYZgAAAFtJREFUCNdj\n",
       "YACBOwxQsA9Kc52bAGG05zVAGAFxDmCaZULdAjBjCsO9ADDDgaEvAUTzGhvbKYCVMDAwbgAxChgY\n",
       "eASANAeQwf0AyJgNxEwvGRia5HYwcOm9TgAA6BoR3jrzwFcAAAAASUVORK5CYII=\n",
       "\" style=\"display:inline;vertical-align:middle;\" /></a></span>"
      ],
      "text/plain": [
       "{[not](A) => B , A in BOOLEANS , [not](B)} |- A"
      ]
     },
     "execution_count": 5,
     "metadata": {},
     "output_type": "execute_result"
    }
   ],
   "source": [
    "notA_implies_B.denyAntecedent()"
   ]
  },
  {
   "cell_type": "code",
   "execution_count": 6,
   "metadata": {},
   "outputs": [
    {
     "data": {
      "text/html": [
       "<table><tr><th>&nbsp;</th><th>step type</th><th>requirements</th><th>statement</th></tr>\n",
       "<tr><td>0</td><td>generalizaton</td><td>1</td><td><span style=\"font-size:20px;\"> <a class=\"ProveItLink\" href=\"../__pv_it/96a7eb819fab202ffd67f1a830a96891b582dbaf0/proof.ipynb\" style=\"text-decoration: none\">&#x22A2;&nbsp;</a><a class=\"ProveItLink\" href=\"../__pv_it/0fd340ac2e500e75525da4562d0bbd4dea552e250/expr.ipynb\"><img src=\"data:image/png;base64,iVBORw0KGgoAAAANSUhEUgAAAR4AAAAXBAMAAAAvnz2ZAAAAMFBMVEX///8QEBC6urrMzMxUVFRm\n",
       "ZmZERETc3NwyMjKqqqp2dnaIiIiYmJgiIiLu7u4AAAAU9Wx4AAAAAXRSTlMAQObYZgAAA5tJREFU\n",
       "SMfNVk1oE0EUfskm2Ta72famFzVK8VKhORQtiCRoaL01oNGLtVEwRYQ2p7ZatGlBIj1oDlUKCgbB\n",
       "WhHKHvTUQ+NBqHqwHupBWhpERahVkf6olOrMvJnd2YQteIj44CWb+b6Z+fLem7cD8J9ZqXpLN3J3\n",
       "mB52n0CxWfrwshpylBi62Kx9Jd46DHDMhX4IGPaQPl+vhp6aErowTwqgMww1LvQbdApAL/lSU9XQ\n",
       "M8VdWNQkHgO9YI0Ycq4WiXSC0X/gz1dDz07uwqYzAK8KYNQ7IijsYieBCaY/6Ou7XA053iy6ZWeI\n",
       "vyYKztsUu7rAnKaFTrC1dPrtFsuqEelH7V/o8RfQLVsB6O8m3/ftoUe2tNLdImJHALrYUI593lpN\n",
       "tjIJXiResmfnQJHXt5jWXGc5F9Gt47Yy9WSePozRj44FaosJgb5j5UWxBjBYVPXvWFf1oLEMB5Bo\n",
       "lzol3JMrUDCtuaCPjFwVEjxhdLYzyYC2DrBME7RbWmNMdKMwDCYQC4HGlviwgWGOgXfd1lNrWnMp\n",
       "4ZOcEMHkc5eSp8AsLO3hcF0YnVkzWY9o1ygvKq1hDCFDicfbU4hpxRAr88k5hoRM8M/aegIZay4l\n",
       "+FiCavMOJkLa2StfiJ7gZxc9dSQ2+q8yPS2TvHxILLOIGdlmptBMM+RrBGYyth6PnX9K0DBcXQ4m\n",
       "Qs/YKSk0nhb5yqMLPVGSBd9PkS+sn4VujhNeqJ5jXYfpiA86GNI09RhJqKfF0sMI3pg/TWwoIjMR\n",
       "YkVoJneI+gkU0YUe2n4GKWnGDs+oOMRET803jt1kQX8O0wyaAHhasvU0AIwTAVlOUHhDSUYkJoPw\n",
       "6JkF/0G+RzCBjhFk7UfZXnKcd1W0J1qWgU2OeWgOjLlkD1v8HElE3tYzKk4ZEoSe/SclJoOUN+n0\n",
       "BVo/QdFRZtG5nfgdj19j4Rq2xkRx9u7Kgd7zI4GYTnX4MxBltUoy3BSx9ewVepDgTWlJYscTMpNB\n",
       "RgzjY+mBbdzLTHpfKO7YPnIAimoO1E1Q56T6WRZ6GIG88IwvxGhf5cz+DIfaeL4GxJIvuJdZ0HTv\n",
       "6Rb2fg3U9nllAyZWk0fzkh7sBRBBAvjD4mYjmNEihz6GWT9MF93uG1KtuFk5pkvPqEdzvvrx8qLK\n",
       "u1j7j5P6cbz5Yuhl1raFnnLsQIUew3k1ul15C8y4rj7A3WFaxF1OBVas0AN3HITKv6v/q4u+j+8n\n",
       "aw6Wqr3rHxrmFDggDtnQAAAAAElFTkSuQmCC\n",
       "\" style=\"display:inline;vertical-align:middle;\" /></a></span></td></tr>\n",
       "<tr><td>1</td><td>hypothetical reasoning</td><td>2</td><td><span style=\"font-size:20px;\"><a class=\"ProveItLink\" href=\"../__pv_it/1c33d592384371f7bc0796156d1bd87b569a5f560/expr.ipynb\"><img src=\"data:image/png;base64,iVBORw0KGgoAAAANSUhEUgAAALEAAAAVBAMAAAD7ihIOAAAAMFBMVEX////c3NxERESqqqpUVFS6\n",
       "urrMzMwyMjIQEBCIiIh2dnYiIiLu7u5mZmaYmJgAAABXZE4RAAAAAXRSTlMAQObYZgAAAnZJREFU\n",
       "OMutVT1oFFEQntu73buN7zaLFsHKdAY88JCAlXLI9l6ZoEWKQOxyjRiIkoiaNIKHoHKFGLDQBAsR\n",
       "BHUhWawEG7EwRUAPwSYaovHE/yQze/veznsXEjA+2Hlv33z7zbyZebMA4L2F/zycOZ8m8YzkoKn9\n",
       "sCvqSyTdz7SsaIqHAMWhLb7wTraCE2d1IB/31ibGHpVxsUhvXZMo8hEH5MlYbStnCr0A76o6kI/e\n",
       "QXF+Duf7irmh6T/+QbGcvgu1Gq3jU9GBOjPcyGvMV7k6c+wLyhfsDOpEdzA1qzM6kEzfCsNawnw8\n",
       "FzFmWzu6635DaZXVhq287MPnSaQDcYx8Yj7v5T4XZzjz6ew67b9Kd2blogXQUzKA6HspjYYzX5LM\n",
       "RfQ332TEour8xCkbn2MppLGQWHFajdvzJhCP5yvmUws/MBWwSi9nMNWFasJBtW1D5i9Nk8za0XY9\n",
       "uBjXlyo0CRDgOc9g4whlBl0ZnsJFtyykYXqCYI384xUlxmKEhdbcdbmZAAEGyCmZQcum0B7EKAwM\n",
       "Gcy4njaZRx7EUzf66/2Smwmw/ZXy2QKs+T3EnkNjhXLKnKX0q2i04xwmKRpFT3JfE6wEYoA6mOM4\n",
       "d+ENtZop8z6cJugms0rsZ+V8APfjupNANNbkzBQNVXWqwhwQRHg40qouU0vL2ZmOQPym0EsgLh8z\n",
       "5pXrvJ5t1Vkyfd99eL9xAdObtgdZVa83guAc+ieu+QyIo+eN6kiHLpe1232xs/mw2+2YOts3NvrH\n",
       "Q+0ap8zLncyz2/Rfb6cGHTN7nV0UZBj/mTnuz+Iphbdi6nL+Nh/Wd/qnXGk7cBfFflN5c7f/wU0X\n",
       "crI1OvsQDQAAAABJRU5ErkJggg==\n",
       "\" style=\"display:inline;vertical-align:middle;\" /></a> <a class=\"ProveItLink\" href=\"../__pv_it/67393fbcc6426612e48e290df7e138fe6593eb5a0/proof.ipynb\" style=\"text-decoration: none\">&#x22A2;&nbsp;</a><a class=\"ProveItLink\" href=\"../__pv_it/926e14c1773ad77cac169588a7077b26d2b3816f0/expr.ipynb\"><img src=\"data:image/png;base64,iVBORw0KGgoAAAANSUhEUgAAAFwAAAAVBAMAAAA5lpTPAAAAMFBMVEX////c3NwiIiJERESqqqqY\n",
       "mJh2dnZmZmYQEBDu7u4yMjJUVFTMzMyIiIi6uroAAAAs73DqAAAAAXRSTlMAQObYZgAAAW9JREFU\n",
       "KM9jYCAR8F1AF4nDp/w0ghn9f/duqwcM7Aewq+RRABIrkQSaGRjY/zEwLMCunOsDAwMvklt4/gLx\n",
       "bwaGMIQQJ5LyoJ8MDBwTEHzejwwMrN8YGGYgmYiQZnQHSr9C0s7cwMDA1AmkHRABsQFhGC/QnWVI\n",
       "yvk3MDAuBhrHVoAQy4WzXrJ8ZWBYiqT8/N67RQFAmgXs1yIlENCHaeV8APJaHzAwwOIJDAz3BRg4\n",
       "tUEuaEAyw+sB1FkMjN8ZGP7BQgXoSAsgfR9oPM8HJOWcKyDqT+/e/RlVOTAMGeIT0JSfyoTQQE1d\n",
       "DAwtCOU8QK8w7HeAOQbidiVLiDwLEGswMJgilIOCnfEXkM2KFK3eUFoEiNczMKTDxA+Ag/0EKE0g\n",
       "BSQjVCcniLafwPAILsNu/3v3LnC4cj1AxJwARJfFLwGG4P/LGTgEMNMSUiLgQZNiTcBUnosnva/E\n",
       "EOFcgEe5NIYItwAe5YwYme8ObsUAzgxYAwLwcKcAAAAASUVORK5CYII=\n",
       "\" style=\"display:inline;vertical-align:middle;\" /></a></span></td></tr>\n",
       "<tr><td>2</td><td>specialization</td><td>3, 4, 5, 6</td><td><span style=\"font-size:20px;\"><a class=\"ProveItLink\" href=\"../__pv_it/ad89e41428be2ac77395f2bab6681b48aa617f870/expr.ipynb\"><img src=\"data:image/png;base64,iVBORw0KGgoAAAANSUhEUgAAANkAAAAVBAMAAAA5ulaKAAAAMFBMVEX////c3NxERESqqqpUVFS6\n",
       "urrMzMwyMjIQEBCIiIh2dnYiIiLu7u5mZmaYmJgAAABXZE4RAAAAAXRSTlMAQObYZgAAAqdJREFU\n",
       "SMe9Vj1oFEEUfvezu7dxb7NoEay8zoAHHhKwUg7Z3isTtEhxELtcIwZUEvEnjeAhqFwhBiw0wUIE\n",
       "QV1IFivBRiy0EPQQbKISjSf+J763uzP7Zu5yaaIDOzM333vzvb+ZOQBwX8N/aOaCR4PziPoxHX23\n",
       "5XRnqbc/0bSqAHcBiuM9NNzDHf/QcVWQt1ur01P3KhvovKRfAzPYWSEXsMiARi8DCyWANzVVkLfS\n",
       "mHNqYQOd25KtpeDvf2O3nP525GyyiV9VFVTZ4IqlrQmdlO0ihzMHPmP/hPkqPb+BqV6ZUwXJnGtB\n",
       "0EjYDuZDlU3oSDZDCZttf8U+m8bfkN4M4/cgVAWxTXxgvm3XfBM6kq04x+GjuTVaf5auzItJB2Co\n",
       "rAmij+U0kuZiWWMTOhFbEf2y2gx1auYPHHKRv68CaksJs9lpXV/UBTEMnmQ7svS9qVW+0Fmh7hiW\n",
       "S6GW7Etnz4DMHxpmmMr+uA5tzNNTGdZEEOAxr5LWvngq9pM6Fppcv4CTQVHUdfp8f5Vs4tXtTEUS\n",
       "WbTAXhOLiSDAKG0sqiRrsLTUuc5ujODouMaG81mdbeJONAyije5PsZgIxlrStyyUFDaps42syKNR\n",
       "hUqK5qiEZCTjvAVJ5ifRuvyXRFYIYqD6sUmdKG8DePtk2ym6A4dpunHYqRhhR2cXrkdnQAjiZm3O\n",
       "hpEMGZvQSU+ArHYTHAL2hsoJyDTSo2POhuD8olQKQZzeZ2wfL8d4sp/Q4adb3q6Z4W8evF0/jSWU\n",
       "Xoeiwp+v+/4J9MO55DFBbEMv5K2851wlwkUTOvzmOtN9AbOby9Qxw9MWRk4GjX64yrbcDc73eavc\n",
       "Td6ynnjE5na/OCDSsqVs0fvmPKR0VXUs7/XZrbkJWy/cPB8bchO7nTp49V/8L/kLZBfWYZmffo0A\n",
       "AAAASUVORK5CYII=\n",
       "\" style=\"display:inline;vertical-align:middle;\" /></a> <a class=\"ProveItLink\" href=\"../__pv_it/9a4170af501f356d5fe016e6ca80bec1e7e0958e0/proof.ipynb\" style=\"text-decoration: none\">&#x22A2;&nbsp;</a><a class=\"ProveItLink\" href=\"../../../../__pv_it/2cbe72a7ad6f655694dd697106680215e8489b600/expr.ipynb\"><img src=\"data:image/png;base64,iVBORw0KGgoAAAANSUhEUgAAAA8AAAAOBAMAAAACpFvcAAAALVBMVEX///8QEBBERERUVFS6urqI\n",
       "iIhmZmaqqqrc3Nzu7u6YmJgyMjIiIiLMzMwAAADtIaYWAAAAAXRSTlMAQObYZgAAAFtJREFUCNdj\n",
       "YACBOwxQsA9Kc52bAGG05zVAGAFxDmCaZULdAjBjCsO9ADDDgaEvAUTzGhvbKYCVMDAwbgAxChgY\n",
       "eASANAeQwf0AyJgNxEwvGRia5HYwcOm9TgAA6BoR3jrzwFcAAAAASUVORK5CYII=\n",
       "\" style=\"display:inline;vertical-align:middle;\" /></a></span></td></tr>\n",
       "<tr><td>&nbsp;</td><td colspan=4 style=\"text-align:left\"><span style=\"font-size:20px;\"><a class=\"ProveItLink\" href=\"../../../../__pv_it/2cbe72a7ad6f655694dd697106680215e8489b600/expr.ipynb\"><img src=\"data:image/png;base64,iVBORw0KGgoAAAANSUhEUgAAAA8AAAAOBAMAAAACpFvcAAAALVBMVEX///8QEBBERERUVFS6urqI\n",
       "iIhmZmaqqqrc3Nzu7u6YmJgyMjIiIiLMzMwAAADtIaYWAAAAAXRSTlMAQObYZgAAAFtJREFUCNdj\n",
       "YACBOwxQsA9Kc52bAGG05zVAGAFxDmCaZULdAjBjCsO9ADDDgaEvAUTzGhvbKYCVMDAwbgAxChgY\n",
       "eASANAeQwf0AyJgNxEwvGRia5HYwcOm9TgAA6BoR3jrzwFcAAAAASUVORK5CYII=\n",
       "\" style=\"display:inline;vertical-align:middle;\" /></a> : <a class=\"ProveItLink\" href=\"../../../../__pv_it/2cbe72a7ad6f655694dd697106680215e8489b600/expr.ipynb\"><img src=\"data:image/png;base64,iVBORw0KGgoAAAANSUhEUgAAAA8AAAAOBAMAAAACpFvcAAAALVBMVEX///8QEBBERERUVFS6urqI\n",
       "iIhmZmaqqqrc3Nzu7u6YmJgyMjIiIiLMzMwAAADtIaYWAAAAAXRSTlMAQObYZgAAAFtJREFUCNdj\n",
       "YACBOwxQsA9Kc52bAGG05zVAGAFxDmCaZULdAjBjCsO9ADDDgaEvAUTzGhvbKYCVMDAwbgAxChgY\n",
       "eASANAeQwf0AyJgNxEwvGRia5HYwcOm9TgAA6BoR3jrzwFcAAAAASUVORK5CYII=\n",
       "\" style=\"display:inline;vertical-align:middle;\" /></a>, <a class=\"ProveItLink\" href=\"../../../../__pv_it/077b2ff79244fb4582cbe22c6e3356fa92a52f2f0/expr.ipynb\"><img src=\"data:image/png;base64,iVBORw0KGgoAAAANSUhEUgAAABAAAAAOBAMAAADUAYG5AAAAMFBMVEX///+qqqru7u4iIiJ2dnbc\n",
       "3NyIiIjMzMxmZmYQEBC6uroyMjJERERUVFSYmJgAAADLUcuvAAAAAXRSTlMAQObYZgAAAGpJREFU\n",
       "CNdjYGB4+//u3dMLGIBgDgMDxy8gzf4NiP8CGWxfGRj4vgAZPBMYGJgnARn8FxhY9ygAGfXX0pof\n",
       "gDTlBzAw2YIYJ0EckBBI53sHoBH/gIz7AhBjWH9DjancBLTl/N+7t/cxMAAA3u4f/5xagjYAAAAA\n",
       "SUVORK5CYII=\n",
       "\" style=\"display:inline;vertical-align:middle;\" /></a> : <a class=\"ProveItLink\" href=\"../../../../__pv_it/077b2ff79244fb4582cbe22c6e3356fa92a52f2f0/expr.ipynb\"><img src=\"data:image/png;base64,iVBORw0KGgoAAAANSUhEUgAAABAAAAAOBAMAAADUAYG5AAAAMFBMVEX///+qqqru7u4iIiJ2dnbc\n",
       "3NyIiIjMzMxmZmYQEBC6uroyMjJERERUVFSYmJgAAADLUcuvAAAAAXRSTlMAQObYZgAAAGpJREFU\n",
       "CNdjYGB4+//u3dMLGIBgDgMDxy8gzf4NiP8CGWxfGRj4vgAZPBMYGJgnARn8FxhY9ygAGfXX0pof\n",
       "gDTlBzAw2YIYJ0EckBBI53sHoBH/gIz7AhBjWH9DjancBLTl/N+7t/cxMAAA3u4f/5xagjYAAAAA\n",
       "SUVORK5CYII=\n",
       "\" style=\"display:inline;vertical-align:middle;\" /></a></span></td></tr><tr><td>3</td><td>theorem</td><td></td><td><span style=\"font-size:20px;\"> <a class=\"ProveItLink\" href=\"modusTollensAffirmation.ipynb\" style=\"text-decoration: none\">&#x22A2;&nbsp;</a><a class=\"ProveItLink\" href=\"../__pv_it/1e53822dd2e5906bb78831332efe5d682d4a6abe0/expr.ipynb\"><img src=\"data:image/png;base64,iVBORw0KGgoAAAANSUhEUgAAAOoAAAAZBAMAAADNvK/KAAAAMFBMVEX///8QEBC6urrMzMxUVFRm\n",
       "ZmZERETc3NwyMjKqqqp2dnaIiIiYmJgiIiLu7u4AAAAU9Wx4AAAAAXRSTlMAQObYZgAAAyZJREFU\n",
       "SMfFlk9IFFEcx7/u7O64O+ModAmiWEK6FLkHD0EHlzLrlpATBBVWOAZRzkHc/qDtRSQPuYcMog5L\n",
       "B7NLTFAnhbZD0R+KDbKgMvZQIVkWiloY1vszO+9t665FKz2YN++9me/7/N77/d4foGQKjr9EuZNv\n",
       "/NUyf1RhJVLnf6Jml6EaK0LN0Nfj4lQ2Wt0pF1DJMOp1Wj5fnBpOkldltlzUyq+M2kVytbU4lX3r\n",
       "KtvkPllkVDqMQLJENNF52FcuqDo4z6j6tXi8u1QMP4rH45lyUTVtmq+cOct6VYpabVnHU0tYHZUq\n",
       "oT+lbg794NTtQDtr6Vua6o8iaAMXZ80mBvLxL6fFT31QZLNCHWbLEVH1hCQZEWWBU2thJNjqmOZf\n",
       "9P7+3rRE9cUwQZtroNWwTZJ/EQFIhVdlU+8CN0XNEzKL1VlOrYLGIO/p2CfN/XBSk+vlvSmDUZIH\n",
       "YvDNC2pIrGAqnJCpLUCd7dU8IUn1jY1znKqlq9hqvDFGyod7pgg1/EmmjuItLTkIZAQ1KLqlQj+f\n",
       "w0ssfw0ckJyUE5IUAVZzqpGoZ5uGYwH3aMlJbTwoUyeUGMm/RPHAFtQKsdtQoeYIW4wZ6FKMeEIe\n",
       "dM/c3b99G23xU/uYgx1zrexXBDuJiagbuXUCgrrF65UJifP3WpZ1dBV13sJIk7SXeULgFHkGXOog\n",
       "G/9D3HFD0UkFtsrUEJuuYRIlWUGtBYYIJsGFUBKuE/cA4QT0daQcpmZIQh61HVlOraCzY4yZHVnl\n",
       "hWUdo34N5510a2jWRuYqKagXcpHMhB5VabMRbIbxPXcrkITqoW827v/s5VSdWhKw0RA1Ynysv1Gf\n",
       "0oz0UxcV1A05KhPC14rbJkk7SFt1Er4ZQfWES5zqm8jfaex0Z/hMwamuLkIdk/z6OUflQj2FKZI+\n",
       "0mk7m0V3M066oSeEhdR3c1B3v8GHCNslrHQBdXjW3JWUqHy1IeoKAxG+Hqk7B8yWc0AD60ORhMVv\n",
       "MEPEr8vcYDhVy++pkr96pKZ0We9NnGrkH8mXCy8N9gpQcSWvMVbwm/4vd8TC+7Df7VWOy/Df3HB8\n",
       "489/ATf442jejRCQAAAAAElFTkSuQmCC\n",
       "\" style=\"display:inline;vertical-align:middle;\" /></a></span></td></tr>\n",
       "<tr><td>&nbsp;</td><td colspan=4 style-\"text-align:left\"><a class=\"ProveItLink\" href=\"modusTollensAffirmation.ipynb\">proveit.logic.boolean.implication.modusTollensAffirmation</a></td></tr><tr><td>4</td><td>assumption</td><td></td><td><span style=\"font-size:20px;\"><a class=\"ProveItLink\" href=\"../__pv_it/3612ec1dc3b8c98c2193921a926214e0c20eaba70/expr.ipynb\"><img src=\"data:image/png;base64,iVBORw0KGgoAAAANSUhEUgAAAEkAAAAVBAMAAAD4Ed5jAAAAMFBMVEX///9ERETc3NyqqqpUVFS6\n",
       "urrMzMwyMjIQEBCIiIh2dnYiIiLu7u5mZmaYmJgAAABJJ2g3AAAAAXRSTlMAQObYZgAAAS5JREFU\n",
       "KM9jYGDgu8eAB7CtUgBRPLsY8AK2ZhDJ+QHK24Aqu/xjfcVGAyDjOojH1QARZf+AZohAJE/NKiC9\n",
       "AlnV6z8YqhimsqOpYrL9BJHkmb57dwFUlR3LAVRVnJxfIarS3yCZpYhmVgzzP4iZMggb2fbJwFTx\n",
       "go3nCWD7CZZjVICrit7/YwKQfg/iZASASFYGpr9guYPIrp9pCPL8BQaGlDawUIqLy0cwI2L3boTr\n",
       "GVkXABniD4DCCSAhoIHtEOXIZjEyCDAwcINUsoA0MgPxDrDcaQxVYHdxgWJGGYjrwXIsD5BVgWyE\n",
       "hwQPyDz5A2DPbkVS9XYiUngxSXxXYHj4vxYsqX4NHtvSLQbo8QgHJtUQP8IAdlXoAKyKj5AqcPri\n",
       "2UkgrbaCKb7FBNM9AKQsUzxrU6Y9AAAAAElFTkSuQmCC\n",
       "\" style=\"display:inline;vertical-align:middle;\" /></a> <a class=\"ProveItLink\" href=\"../__pv_it/dc2523262ffa0ce1920b871c7f702fb73e741c290/proof.ipynb\" style=\"text-decoration: none\">&#x22A2;&nbsp;</a><a class=\"ProveItLink\" href=\"../__pv_it/18d84e6b10643c76412edd0e67904c254c981c030/expr.ipynb\"><img src=\"data:image/png;base64,iVBORw0KGgoAAAANSUhEUgAAADYAAAAPBAMAAABdHiGLAAAAMFBMVEX///92dnYQEBBERERUVFS6\n",
       "urqIiIhmZmaqqqrc3Nzu7u6YmJgyMjIiIiLMzMwAAACFkkdwAAAAAXRSTlMAQObYZgAAANJJREFU\n",
       "GNNjYACBtwwogPG8zR9dCyjnPKocAzNrwpqFAmAm9/0FGHJsAQfAzBn1EyBiy87evQOV49jgBRZK\n",
       "yA8A03ynFyD0RRqAWKwL+jeAhSYvQJj5djOYs5ThfQJYyBJh393/amBWAMP8AhDNZYDslgwQj8/F\n",
       "xR9itu7du3C3MBgEgoQYGJjA7uVzQNLHYMAMZDQwMPAqgM28gC7HCZTj+QAW8kaRA5q5BsT+BRZa\n",
       "G4CQ4y4zYJisf5KB2/4P2KGcxx/AwvrzJQ+0MObwgbgTAgCMvTlc/0QYTQAAAABJRU5ErkJggg==\n",
       "\" style=\"display:inline;vertical-align:middle;\" /></a></span></td></tr>\n",
       "<tr><td>5</td><td>assumption</td><td></td><td><span style=\"font-size:20px;\"><a class=\"ProveItLink\" href=\"../__pv_it/8969a97b4ed4358197326a2f2229555a50cfd1960/expr.ipynb\"><img src=\"data:image/png;base64,iVBORw0KGgoAAAANSUhEUgAAAHEAAAAVBAMAAACDNRyvAAAAMFBMVEX////c3NxERESqqqpUVFS6\n",
       "urrMzMwyMjIQEBCIiIh2dnYiIiLu7u5mZmaYmJgAAABXZE4RAAAAAXRSTlMAQObYZgAAAcRJREFU\n",
       "OMtjYGDgu8dAImBbJQCieHaByEh02ad4tTaDSM4PIKYDisQGBgbeBCw6+Py/uDiVAhnXQTyuBiDB\n",
       "fgBZATvIsAJslnEoMDDcD2BgWAHXORNF/vUfIPEKweeBs/InALEDss4eZI2Mth+B5AkkN8BdNB8Y\n",
       "NO8XIOlkRXEaJ+dXIMlkABdghYeCBhDvOICkk3cBss4Y5n8g8QsIkZUwxhcGBnEdBqhOXqB97A+Q\n",
       "NPIEsP0EUsxgd9zeDQL7oaawfZk5dx+I8R5EZACDiiMAqgYUt6wMjH9BVAOSaeYBEH8AA+A0yOns\n",
       "QKNS2oAM/gCoihQQdnH5BDL/A7I7KsAqmICmcYK8wqAOdGVEAppOILsdXWf6GjDFD7SP7xeQwQ0K\n",
       "GBagfzgMEDqZQcEHdy3En7t1oNEJtInlM8yfXMCkxvQAoVMYSNWDUhpSTJkgRad8AQNSrMBjgI2B\n",
       "ByShfwAlVhgLENHJ1n4AWSfrBrgije8CDI/+1wKDLwCuk0kAQl/67+JSDnYeIvU1YiZupNTHhiGJ\n",
       "0PkKU+dKfBkUrJMPM5eBY7AAn05w/uTZCfKeA7ociwC+MqEVktEXAwlJdMlphMohAFU6d7XAJLSJ\n",
       "AAAAAElFTkSuQmCC\n",
       "\" style=\"display:inline;vertical-align:middle;\" /></a> <a class=\"ProveItLink\" href=\"../__pv_it/f6e88b30394e30eeed905759d9a814368e7b8eef0/proof.ipynb\" style=\"text-decoration: none\">&#x22A2;&nbsp;</a><a class=\"ProveItLink\" href=\"../__pv_it/a52f2e12941e42e61803c785c696b853841b533c0/expr.ipynb\"><img src=\"data:image/png;base64,iVBORw0KGgoAAAANSUhEUgAAAFwAAAAVBAMAAAA5lpTPAAAAMFBMVEX////c3NwiIiJERESqqqqY\n",
       "mJh2dnZmZmYQEBDu7u4yMjJUVFTMzMyIiIi6uroAAAAs73DqAAAAAXRSTlMAQObYZgAAAV9JREFU\n",
       "KM9jYCAR8F1AE2B9gE/5aRTeISCuwaYs+v/u3VZAg1aiiK4HYi6sxjYzMLD/Y+BFcQur/gQgkYAQ\n",
       "mABj8PwF4t8MHBOQlYvUCzAwcDYgBOB2834EmvON4RWKjRfug/xpghB4DWMwA81g6mQoQwmlCf4B\n",
       "QCodIcIGcyv/BgbGxRMYliIrn8dwHiTtBWKzK4HBd6jU+b13i4BG9cEkQP57wCBfAKReIJnAsg5C\n",
       "3xdg4NRmYPgH8/kGIN69e78ByCRkG2f1gSkLkJYAFOV8DAwcC9CU8yyDBN1vII5PYGhBUu4A9HwD\n",
       "zDFQtytDVPN8BRL7HRhMEcoZgcq5PgDZUUhO34AIdsZfSIF2gGEWKHh/ogakFFKwnwDG2SO4jHD/\n",
       "QgZW+1/AoFmHUG4Iodjtf+/eBQpzDgGMxIScCA6gp+4EDOVsF/Ck95UYIrPwZQ9pDJGN+JQzolvN\n",
       "ewC3YgDGg1kRpbQOUwAAAABJRU5ErkJggg==\n",
       "\" style=\"display:inline;vertical-align:middle;\" /></a></span></td></tr>\n",
       "<tr><td>6</td><td>assumption</td><td></td><td><span style=\"font-size:20px;\"><a class=\"ProveItLink\" href=\"../__pv_it/b22b15039733798321461907c74328825d8427750/expr.ipynb\"><img src=\"data:image/png;base64,iVBORw0KGgoAAAANSUhEUgAAADEAAAAVBAMAAAAdjxsPAAAAMFBMVEX////c3NxERESqqqpUVFS6\n",
       "urrMzMwyMjIQEBCIiIh2dnYiIiLu7u5mZmaYmJgAAABXZE4RAAAAAXRSTlMAQObYZgAAAN1JREFU\n",
       "KM9jYGDgu8eABthWCYAonl0MGICtGURyfkCI8Pl/cXEqBTKug3hcDUiKORQYGO4HMDCswJDJnwDE\n",
       "Dthk5gOtfr8Am4wGEO84gE3mCwODuA4DVIa3AMm1X2bO3QdivAcRGUCn3N4NBEB/cX5kYDgNdAAD\n",
       "+wUGhpQ2mIYUBgYmoMmc/0Ac9QcMDBEJCBl+oHq+X0A2N9B9DCwFCJl8oEqWzzB7uDYgZEDekS9g\n",
       "QHc1G9g7bO0HGDD9c+m/i0v5AwYGbD6FAQIyfNhkwPHDsxNLnLZCInIx1nQAAJmFPcGxt9K+AAAA\n",
       "AElFTkSuQmCC\n",
       "\" style=\"display:inline;vertical-align:middle;\" /></a> <a class=\"ProveItLink\" href=\"../__pv_it/659d862d8201b38a76dac4278242419974e1920f0/proof.ipynb\" style=\"text-decoration: none\">&#x22A2;&nbsp;</a><a class=\"ProveItLink\" href=\"../__pv_it/1da4e2fe7c44632f084fa27ea32e26dc689384c20/expr.ipynb\"><img src=\"data:image/png;base64,iVBORw0KGgoAAAANSUhEUgAAAB0AAAAOBAMAAAAh/woJAAAAMFBMVEX///+qqqru7u7c3NyIiIgQ\n",
       "EBC6uroyMjJERESYmJhUVFTMzMx2dnYiIiJmZmYAAADtoHoAAAAAAXRSTlMAQObYZgAAAHpJREFU\n",
       "CNdjYIACzvW/Vq0oY0AA1gYGhvcJCP5+ByBegOD7GzAwzD+A4LcC8VUFBP8XA4N5E4LL/cvF7yaQ\n",
       "fnsXCO4wMLB8ZmDQhRm3i4GBIwAo9hPB5wfKcf5B8PdPYGDg+ojgg6y3L4AZDraeOxxh/Yv/q1aV\n",
       "A7UAAFRxJOZ+1MVPAAAAAElFTkSuQmCC\n",
       "\" style=\"display:inline;vertical-align:middle;\" /></a></span></td></tr>\n",
       "</table>"
      ],
      "text/plain": [
       "\tstep type\trequirements\tstatement\n",
       "0\tgeneralizaton\t1\t|- forall_{A, B | [not](A) => B , A in BOOLEANS} ([not](B) => A)\n",
       "1\thypothetical reasoning\t2\t{[not](A) => B , A in BOOLEANS} |- [not](B) => A\n",
       "2\tspecialization\t3, 4, 5, 6\t{[not](A) => B , A in BOOLEANS , [not](B)} |- A\n",
       "\tA : A, B : B\n",
       "3\ttheorem\t\t|- forall_{A in BOOLEANS} [forall_{B | [not](A) => B , [not](B)} A]\n",
       "\tproveit.logic.boolean.implication.modusTollensAffirmation\n",
       "4\tassumption\t\t{A in BOOLEANS} |- A in BOOLEANS\n",
       "5\tassumption\t\t{[not](A) => B} |- [not](A) => B\n",
       "6\tassumption\t\t{[not](B)} |- [not](B)"
      ]
     },
     "execution_count": 6,
     "metadata": {},
     "output_type": "execute_result"
    }
   ],
   "source": [
    "%qed"
   ]
  },
  {
   "cell_type": "code",
   "execution_count": null,
   "metadata": {},
   "outputs": [],
   "source": []
  }
 ],
 "metadata": {
  "kernelspec": {
   "display_name": "Python 3",
   "language": "python",
   "name": "python3"
  }
 },
 "nbformat": 4,
 "nbformat_minor": 0
}
