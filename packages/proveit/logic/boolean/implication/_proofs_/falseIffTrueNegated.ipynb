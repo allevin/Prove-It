{
 "cells": [
  {
   "cell_type": "markdown",
   "metadata": {},
   "source": [
    "Proof of <a class=\"ProveItLink\" href=\"../../../../_context_.ipynb\">proveit</a>.<a class=\"ProveItLink\" href=\"../../../_context_.ipynb\">logic</a>.<a class=\"ProveItLink\" href=\"../../_context_.ipynb\">boolean</a>.<a class=\"ProveItLink\" href=\"../_context_.ipynb\">implication</a>.<a href=\"../_theorems_.ipynb#falseIffTrueNegated\" class=\"ProveItLink\">falseIffTrueNegated</a> theorem\n",
    "========"
   ]
  },
  {
   "cell_type": "code",
   "execution_count": 1,
   "metadata": {},
   "outputs": [],
   "source": [
    "import proveit\n",
    "from proveit.logic.boolean.implication._theorems_ import iffFT\n",
    "context = proveit.Context('..') # the theorem's context is in the parent directory"
   ]
  },
  {
   "cell_type": "code",
   "execution_count": 2,
   "metadata": {},
   "outputs": [
    {
     "name": "stdout",
     "output_type": "stream",
     "text": [
      "Beginning proof of falseIffTrueNegated\n",
      "Recorded 'presuming' information\n"
     ]
    },
    {
     "name": "stdout",
     "output_type": "stream",
     "text": [
      "falseIffTrueNegated has been proven.  Now simply execute \"%qed\".\n"
     ]
    },
    {
     "data": {
      "text/html": [
       "<strong id=\"falseIffTrueNegated\">falseIffTrueNegated:</strong> <a class=\"ProveItLink\" href=\"../__pv_it/8c9c423e916ef6d8729d812de4aea89cc4faa2ad0/expr.ipynb\"><img src=\"data:image/png;base64,iVBORw0KGgoAAAANSUhEUgAAAF4AAAAVBAMAAAA9Y0TyAAAAMFBMVEX////c3NxERESqqqqYmJgQ\n",
       "EBDu7u4yMjKIiIi6urpUVFTMzMx2dnYiIiJmZmYAAABjE816AAAAAXRSTlMAQObYZgAAAPdJREFU\n",
       "KM9jYCAbcDYQUsEyAZm3C0QwYtPEdxcMFBheI4uWgQjuB9iNhoizI4lwNBBWz3IAIcKagKa+AJkH\n",
       "YbEFINRPZ0BVD7ZPEVU9gzJC/Rs09dtBhDia+nMI9SWo6rlDQUFyvwxVvTnDW5DwHSAzElV9ewLE\n",
       "lRNQ1E9FBP1PFPWpChCaMQpF/X5c6tnWQWjxBlzqg1HdwwyJ04sMuNyjghY+ViAiVwBVvTuUBw8q\n",
       "hHo+AyCxEnd4zoWkq1hQugL7ABi/jApw9ZCUUImUHgTQkswGoJ4EVCHk9ICclnABngb09IwfpCNz\n",
       "pAirX4jMYSSYHzk2MAAAqvdUkq8BMZ8AAAAASUVORK5CYII=\n",
       "\" style=\"display:inline;vertical-align:middle;\" /></a><br>(see <a class=\"ProveItLink\" href=\"../__pv_it/8c9c423e916ef6d8729d812de4aea89cc4faa2ad0/dependencies.ipynb\">dependencies</a>)<br>"
      ],
      "text/plain": [
       "falseIffTrueNegated: [not](FALSE <=> TRUE)"
      ]
     },
     "execution_count": 2,
     "metadata": {},
     "output_type": "execute_result"
    }
   ],
   "source": [
    "%proving falseIffTrueNegated presuming []"
   ]
  },
  {
   "cell_type": "code",
   "execution_count": 3,
   "metadata": {},
   "outputs": [
    {
     "data": {
      "text/html": [
       "<table><tr><th>&nbsp;</th><th>step type</th><th>requirements</th><th>statement</th></tr>\n",
       "<tr><td>0</td><td>specialization</td><td>1, 2</td><td><span style=\"font-size:20px;\"> <a class=\"ProveItLink\" href=\"../__pv_it/90c718d0ef2621c521efc4774e2abf7fc8d771a30/proof.ipynb\" style=\"text-decoration: none\">&#x22A2;&nbsp;</a><a class=\"ProveItLink\" href=\"../__pv_it/8c9c423e916ef6d8729d812de4aea89cc4faa2ad0/expr.ipynb\"><img src=\"data:image/png;base64,iVBORw0KGgoAAAANSUhEUgAAAF4AAAAVBAMAAAA9Y0TyAAAAMFBMVEX////c3NxERESqqqqYmJgQ\n",
       "EBDu7u4yMjKIiIi6urpUVFTMzMx2dnYiIiJmZmYAAABjE816AAAAAXRSTlMAQObYZgAAAPdJREFU\n",
       "KM9jYCAbcDYQUsEyAZm3C0QwYtPEdxcMFBheI4uWgQjuB9iNhoizI4lwNBBWz3IAIcKagKa+AJkH\n",
       "YbEFINRPZ0BVD7ZPEVU9gzJC/Rs09dtBhDia+nMI9SWo6rlDQUFyvwxVvTnDW5DwHSAzElV9ewLE\n",
       "lRNQ1E9FBP1PFPWpChCaMQpF/X5c6tnWQWjxBlzqg1HdwwyJ04sMuNyjghY+ViAiVwBVvTuUBw8q\n",
       "hHo+AyCxEnd4zoWkq1hQugL7ABi/jApw9ZCUUImUHgTQkswGoJ4EVCHk9ICclnABngb09IwfpCNz\n",
       "pAirX4jMYSSYHzk2MAAAqvdUkq8BMZ8AAAAASUVORK5CYII=\n",
       "\" style=\"display:inline;vertical-align:middle;\" /></a></span></td></tr>\n",
       "<tr><td>&nbsp;</td><td colspan=4 style=\"text-align:left\"><span style=\"font-size:20px;\"><a class=\"ProveItLink\" href=\"../../../../__pv_it/2cbe72a7ad6f655694dd697106680215e8489b600/expr.ipynb\"><img src=\"data:image/png;base64,iVBORw0KGgoAAAANSUhEUgAAAA8AAAAOBAMAAAACpFvcAAAALVBMVEX///8QEBBERERUVFS6urqI\n",
       "iIhmZmaqqqrc3Nzu7u6YmJgyMjIiIiLMzMwAAADtIaYWAAAAAXRSTlMAQObYZgAAAFtJREFUCNdj\n",
       "YACBOwxQsA9Kc52bAGG05zVAGAFxDmCaZULdAjBjCsO9ADDDgaEvAUTzGhvbKYCVMDAwbgAxChgY\n",
       "eASANAeQwf0AyJgNxEwvGRia5HYwcOm9TgAA6BoR3jrzwFcAAAAASUVORK5CYII=\n",
       "\" style=\"display:inline;vertical-align:middle;\" /></a> : <a class=\"ProveItLink\" href=\"../__pv_it/28a616c9a18309ee688e04adb90aa8662ed6a11f0/expr.ipynb\"><img src=\"data:image/png;base64,iVBORw0KGgoAAAANSUhEUgAAAD8AAAAPBAMAAAChCwpBAAAALVBMVEX///92dnaqqqpUVFS6urru\n",
       "7u4yMjJEREQQEBAiIiJmZmbMzMyIiIjc3NwAAABajTjNAAAAAXRSTlMAQObYZgAAAIFJREFUGNNj\n",
       "YGBguMOABXDNBIMCEHsXA3bAvQDKIEEBGwoPi4IzQMx+AbcC7gQgwZuAW8GOTpDDnwXgUsCTCqZY\n",
       "UnAoYG2H8m8Y4DAhGCLAm4PTDZqQ0LuAUwETyGzWuXjCYREQMzugKlg5c+aMmTOnQ4TCgPg6IiQF\n",
       "MEMfiENRhQDGli3Ej4aUFgAAAABJRU5ErkJggg==\n",
       "\" style=\"display:inline;vertical-align:middle;\" /></a></span></td></tr><tr><td>1</td><td>axiom</td><td></td><td><span style=\"font-size:20px;\"> <a class=\"ProveItLink\" href=\"../../negation/_axioms_.ipynb#negationIntro\" style=\"text-decoration: none\">&#x22A2;&nbsp;</a><a class=\"ProveItLink\" href=\"../../negation/__pv_it/799eb3b565b99e60491a24b404f1db01d8e6476d0/expr.ipynb\"><img src=\"data:image/png;base64,iVBORw0KGgoAAAANSUhEUgAAAIUAAAAXBAMAAADXWpFHAAAAMFBMVEX///8QEBC6urrMzMxUVFRm\n",
       "ZmZERETc3NwyMjKqqqp2dnaIiIiYmJgiIiLu7u4AAAAU9Wx4AAAAAXRSTlMAQObYZgAAActJREFU\n",
       "OMtjYKACeECacm10gUNAfAHEOE2sEcwOKDygZlYDBoaVIE4fsWZwoDib4wOQaGBgKANS7AnEmrEb\n",
       "hXf2H5A4BTGZdQKxZsghc9infgeSDxkYeJaXl9cSawRTAzKPm/sTkGQDOuBbWtotYs1gXYDM0+P8\n",
       "AyS5AhgYnBkY0sFC7RCr4AFWgCVIDyBx+BSYfwMpTqDbVBj4wC7k+QSWYYMpOa+AUA4Lc0agWOxd\n",
       "ILgFto39K4gSYGDgZeAGm/70D4oZfPEHMM3gh5lrAsIuLt9AiQQYwdwHeMGRvu4qihlcbwMImAFk\n",
       "S0DN4GswAae5DWkoZlizJWDxywSEGZxA6iLULwzpTiBRFoZYFDMcWC8weHQAwQYkM9gOIMyoBFL9\n",
       "oHAEheZUcJY5ybAf2QyeCdwfMN3BBfMfMyQi8h9AxRhBNvFdDc1/gGTG29Cwf5hmMF2Ap9HEHwUM\n",
       "x/63AuMbFEY8IL2sBQz2BkhmhDMwf2bIQPcLgzhmmnkIZ+kAA/0AwgwmIPsPpjtAGQwdrIYxnnxj\n",
       "YPe/AzeDzz+BoeQvNABZ09LE0rKw5X2w0gZMY9nwZhh2B3QRlgJSzWCoRhfYzECyGUQBFtK1AAB+\n",
       "a2tdy7eWbQAAAABJRU5ErkJggg==\n",
       "\" style=\"display:inline;vertical-align:middle;\" /></a></span></td></tr>\n",
       "<tr><td>&nbsp;</td><td colspan=4 style-\"text-align:left\"><a class=\"ProveItLink\" href=\"../../negation/_axioms_.ipynb#negationIntro\">proveit.logic.boolean.negation.negationIntro</a></td></tr><tr><td>2</td><td>theorem</td><td></td><td><span style=\"font-size:20px;\"> <a class=\"ProveItLink\" href=\"iffFT.ipynb\" style=\"text-decoration: none\">&#x22A2;&nbsp;</a><a class=\"ProveItLink\" href=\"../__pv_it/d076c0e3855f3181ab080602e72dc2c89b5a740c0/expr.ipynb\"><img src=\"data:image/png;base64,iVBORw0KGgoAAAANSUhEUgAAAHoAAAAVBAMAAAB71edYAAAAMFBMVEX////c3NwiIiJERESqqqqY\n",
       "mJh2dnZmZmYQEBDu7u4yMjJUVFTMzMyIiIi6uroAAAAs73DqAAAAAXRSTlMAQObYZgAAAQxJREFU\n",
       "OMtjYKAM8F0gqCQOt9RpMCmLTapICQSUGdgPYJGE6FgJJo/jMBsivgCXDO8FInSH4ZLhmICmG2gP\n",
       "TwGa7hm4dL9iQNUNdoshmm5mBxy6y9B0nwIRUmi62Qpw6F6KqpunAxTM+itRdbOAg61qFQisRpbp\n",
       "Q9V9CxIMrx6g6OZrwGH3PxTdMwwgNGM3im6eD0Tp5twOoaUuEKe7BdXlLODkpaTIgMXlsKSHJGOK\n",
       "FubeIGKSAKpu1gU47E5H080Oitp9xMbYI4iTNGBO4gRaw2gAV3MMTHI9wMw/YB0cAmgSwPzEOQFN\n",
       "bAauDMqaQEQZkItTZiVhzZwLcEpJE9bNLYBTipFwyXQHlwQAqlZO/hPwzGoAAAAASUVORK5CYII=\n",
       "\" style=\"display:inline;vertical-align:middle;\" /></a></span></td></tr>\n",
       "<tr><td>&nbsp;</td><td colspan=4 style-\"text-align:left\"><a class=\"ProveItLink\" href=\"iffFT.ipynb\">proveit.logic.boolean.implication.iffFT</a></td></tr></table>"
      ],
      "text/plain": [
       "\tstep type\trequirements\tstatement\n",
       "0\tspecialization\t1, 2\t|- [not](FALSE <=> TRUE)\n",
       "\tA : FALSE <=> TRUE\n",
       "1\taxiom\t\t|- forall_{A | A = FALSE} [not](A)\n",
       "\tproveit.logic.boolean.negation.negationIntro\n",
       "2\ttheorem\t\t|- (FALSE <=> TRUE) = FALSE\n",
       "\tproveit.logic.boolean.implication.iffFT"
      ]
     },
     "execution_count": 3,
     "metadata": {},
     "output_type": "execute_result"
    }
   ],
   "source": [
    "%qed"
   ]
  },
  {
   "cell_type": "code",
   "execution_count": null,
   "metadata": {},
   "outputs": [],
   "source": []
  }
 ],
 "metadata": {
  "kernelspec": {
   "display_name": "Python 3",
   "language": "python",
   "name": "python3"
  }
 },
 "nbformat": 4,
 "nbformat_minor": 0
}
