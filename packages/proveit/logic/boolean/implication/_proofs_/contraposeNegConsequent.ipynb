{
 "cells": [
  {
   "cell_type": "markdown",
   "metadata": {},
   "source": [
    "Proof of <a class=\"ProveItLink\" href=\"../../../../_context_.ipynb\">proveit</a>.<a class=\"ProveItLink\" href=\"../../../_context_.ipynb\">logic</a>.<a class=\"ProveItLink\" href=\"../../_context_.ipynb\">boolean</a>.<a class=\"ProveItLink\" href=\"../_context_.ipynb\">implication</a>.<a class=\"ProveItLink\" href=\"../_theorems_.ipynb#contraposeNegConsequent\">contraposeNegConsequent</a> theorem\n",
    "========"
   ]
  },
  {
   "cell_type": "code",
   "execution_count": 1,
   "metadata": {},
   "outputs": [],
   "source": [
    "import proveit\n",
    "from proveit import defaults\n",
    "from proveit.logic import inBool\n",
    "from proveit._common_ import B\n",
    "context = proveit.Context('..') # the theorem's context is in the parent directory"
   ]
  },
  {
   "cell_type": "code",
   "execution_count": 2,
   "metadata": {},
   "outputs": [
    {
     "name": "stdout",
     "output_type": "stream",
     "text": [
      "Beginning proof of contraposeNegConsequent\n",
      "Recorded 'presuming' information\n"
     ]
    },
    {
     "name": "stdout",
     "output_type": "stream",
     "text": [
      "Presuming previous theorems (applied transitively).\n"
     ]
    },
    {
     "data": {
      "text/html": [
       "<strong id=\"contraposeNegConsequent\">contraposeNegConsequent:</strong> <a class=\"ProveItLink\" href=\"../__pv_it/6078702a7da903abb1b8c4d5e1e467e6a43b28050/expr.ipynb\"><img src=\"data:image/png;base64,iVBORw0KGgoAAAANSUhEUgAAAR4AAAAXBAMAAAAvnz2ZAAAAMFBMVEX///8QEBC6urrMzMxUVFRm\n",
       "ZmZERETc3NwyMjKqqqp2dnaIiIiYmJgiIiLu7u4AAAAU9Wx4AAAAAXRSTlMAQObYZgAAA9ZJREFU\n",
       "SMfNVk1oE1EQnmSbbJvdboMe1INapYhQpTkIiiIJNv7cKkoqiLVV6FZR2oDSVsQ2ClIpoj2oVDyY\n",
       "S/1BKDnoQXroigj+HKyHepDWFlERa1Vqf1Ri9c372X3bxOjBgAPzdt+8mTffm5k3uwD/GY3mb+vy\n",
       "HGve1ByBXsp4ACdP8gFHiRAPVZPRLaeyLK5xzTYS3sn4Js7P5QNPIYbeUwdQW5q56PZ4HtUZN5OH\n",
       "WpcPPH04hElewhEhMsSL5kqXPkKg60nKeApfVz7wLMGhPw7wNOkKGZLHVbbHaomWEaSsX29pOZEP\n",
       "ON4EjvsIP7Ode0WkVrpUU/2Y0YOMp03zxd97OeKa5Yqrj0ZlEqC10RHe4s/dLuSjVy3y6GFcCdBA\n",
       "xR10vDQV2xKiWnaQ446pKkLP1NYLeUeWckYfymTfnSE6rRlGGtnOFs/Kmq9olUE34zIwaGT1CVZb\n",
       "QdCC+OIX6k+l62ELmVqAL3Fb0Ds7T1uiRHBNmwEYj0i+u5nFPBI/ChDPVwrtCHMZ42LQ6BZv0izM\n",
       "EfDOyK6NWsvZ7oqdDarGTsJtx2J7IJUcW841StCznxxNS0t4jJMU0ITUo5RotAoveJixZhXTeusd\n",
       "pBrFKfANyHgC4yzGl3FoEPtytUo2Q1ttf9tHgifwQcZTgj3xu4RnXS/MxUMKw5Nw8BgJ2iuVlEk1\n",
       "PoXgYVzGs8HPupMfpUGxL1frA9v2Ab0pyfK9Il9Y7GES24JvTv0M89peJOEhesVBJ1/QsAlXCqCG\n",
       "alT03W50lUqExKHaNM0D84l5QuDhamVg29KlVGyxyK7f4u2nPeGE5wJ/HnbwqARP4Wfy/pDzRZqe\n",
       "R9BPNW4A3BuV8Ohd2mdeMjuxfwQQmq22DoStkmTx8W0Qed7O2o+y0Ol9qoDWIyQheIe+Zp37Dh68\n",
       "bMZgrIna1ZNcdEl4xmPVs/ws9fGiiAgdV6N4qK3y3DQPYf0ERFchx6z+GY2eka6DX7SO1baoeWkH\n",
       "6E1fCXj87CLriMMXhzBtOyTZFSEJzy5QvsCdGKHNxEedwMPVVoCwNSIsPjYeWJDlky9ePPGMNf69\n",
       "4LSK3AVL7QB1FtRBqX685HRp+EjoPQmjMcCXhNpjaI0zW9jK83VcbPk4R/PWkxmiQIoxpdfToFYN\n",
       "KWm4MRXb1uXgMUhnOPrDsv9YXvJjCrUd5AYxW3hbSvuhaWV8PLNR5h/OO84u2JClFXNqw+HuHCGp\n",
       "T9v/NVI/MqmRHHiOZki2cpZpbQ48lN66p0UpUOK/9Xk8Bx517v+qFmLsIutPeIos17TAHdK8UkFW\n",
       "6X3XrPefe/0F5HYUzl+ODtEAAAAASUVORK5CYII=\n",
       "\" style=\"display:inline;vertical-align:middle;\" /></a><br>(see <a class=\"ProveItLink\" href=\"../__pv_it/6078702a7da903abb1b8c4d5e1e467e6a43b28050/dependencies.ipynb\">dependencies</a>)<br>"
      ],
      "text/plain": [
       "contraposeNegConsequent: forall_{A, B | A => [not](B) , A in BOOLEANS} (B => [not](A))"
      ]
     },
     "execution_count": 2,
     "metadata": {},
     "output_type": "execute_result"
    }
   ],
   "source": [
    "%proving contraposeNegConsequent presuming []"
   ]
  },
  {
   "cell_type": "code",
   "execution_count": 3,
   "metadata": {},
   "outputs": [
    {
     "data": {
      "text/html": [
       "<strong id=\"defaults.assumptions\">defaults.assumptions:</strong> <a class=\"ProveItLink\" href=\"../__pv_it/295d5fc06a3f698344a8ca5c64b32c4ce1a8229c0/expr.ipynb\"><img src=\"data:image/png;base64,iVBORw0KGgoAAAANSUhEUgAAAMUAAAAVBAMAAAAEKDfsAAAAMFBMVEX////c3NwiIiJERESqqqqY\n",
       "mJh2dnZmZmYQEBDu7u4yMjJUVFTMzMyIiIi6uroAAAAs73DqAAAAAXRSTlMAQObYZgAAAm1JREFU\n",
       "SMe9lbFPFEEUxt/CHXeLu+clUmkhORsjhUsCiaGB/4BLTGxM9DoqE2JBR7wgjQW4sTCERD01p7lG\n",
       "KKCQjeFCZULBFZYa9igooIEYNR7x8M3Mzs7bneXINWyymdn35ve+2ZlvZwEu4so1usk96LY8B7ZF\n",
       "fytpwLbq3j/1vDEfMnWSjjF9K2OtuZEkoCZCK0kaNdJ/CpBpA1RIKM705hrLL0s6YIvlSN921VjZ\n",
       "tclSWf/wPgG4p0IRJtCw/YoOZMW4gSd5ffpZUsM+xqK/AZZUKGRevSvcCjRSxc86cCAijV1fwYdB\n",
       "e0DnWAboeYbtRBiSjFV11Xs0HR2YEQZyJ4tk84I1miEal1fBeI+1+qZD00nmiqvWauuuqwNVHngN\n",
       "O7xupsCvP2JYlWjsfPnxmJVMhZsuGRhW+1E4XUgAFnnAh+vTpGDqE28WpSh6ZTcP5hCbfVkOkozp\n",
       "0D3/Jp8I0OYr6nmbDnXIMpduS4usAtxhGM7LOpJByeTmcBZyz8HZD/IE4HVy6CFqfOuDG9dAF8LD\n",
       "EtEIGZYN3wOc3uCBAPPsGb3SUyb7cUNs3LzSsH5huzlB1ipkzMEkDQqMYtfAbv8R2Y5gZqNKg7nd\n",
       "aLEPrwImRJn1iMa+yFNgiq0+y/9VGleDdkoG6tztX9m3iVZ8MxhlXvhKIz3riDwF9tDfz99Ceryl\n",
       "jCXNuBdGMuMn3ga3cr8PS8dRxvhYl2fiz5trwPMRIJvXj0J5tibl2FnSjMVSG8JX8mrGgHTp7LM/\n",
       "KfcI7+I5/4xiHKh1GKznzEqXGhy41mGwnruEy2efI2HHATA6/Gv13Pdu/7UI/Adv/NDxF8/kSAAA\n",
       "AABJRU5ErkJggg==\n",
       "\" style=\"display:inline;vertical-align:middle;\" /></a><br>"
      ],
      "text/plain": [
       "defaults.assumptions: (A => [not](B) , A in BOOLEANS , B)"
      ]
     },
     "execution_count": 3,
     "metadata": {},
     "output_type": "execute_result"
    }
   ],
   "source": [
    "defaults.assumptions = list(contraposeNegConsequent.allConditions()) + [B]"
   ]
  },
  {
   "cell_type": "code",
   "execution_count": 4,
   "metadata": {},
   "outputs": [
    {
     "data": {
      "text/html": [
       "<strong id=\"A_implies_notB\">A_implies_notB:</strong> <a class=\"ProveItLink\" href=\"../__pv_it/1a168b2410a985d9dd68a2f0e23bb53d61e193220/expr.ipynb\"><img src=\"data:image/png;base64,iVBORw0KGgoAAAANSUhEUgAAAF0AAAAVBAMAAADWVP/xAAAAMFBMVEX///92dnYQEBBERERUVFS6\n",
       "urqIiIhmZmaqqqrc3Nzu7u6YmJgyMjIiIiLMzMwAAACFkkdwAAAAAXRSTlMAQObYZgAAAWxJREFU\n",
       "KM9jYKAaYE1AF9kKY7zFpv4Jgrnlv4uLTQAD+wMo/zw29aeQ2MoMDOxfGRgOQHjc9xcgpGBMNiTn\n",
       "8H0D4i8MDBsh3Bn1EzCNZUIyg+0n0NCPDAyLINyE/ACEXAiUjkFyDrMCAwOvFpBuAAfEgv4NCDlG\n",
       "qDsKkdTzOzBwHgbax1gA4i1leA9Ww34XDL5D1JxGUv/eLa0WZCQH2MMBDPMLkCQ5joIpVZgBAgwM\n",
       "+RMYuK6AXKIA8ryLi78BckCuUQWRX2Fh48DAYASk84EW8H0AaQKGxQEk5XwHF6CrBwYlw34BqHqg\n",
       "n3kVkNx/GRKQGgj1fL+BtH8DxD2cQJrnA5LzHSC0NUI9KPg5/4AiFuiONaDw/YVQPwdKi8MEHoCD\n",
       "/xEoHoHhOVn/JAO3/R9EAFlC6Vi4CLv9FxcfcPDyBGAmM1gaZJqAKbcIT/LnFsAUE8OXX05hiHAd\n",
       "wKd+CoYIywR86jkx8mMeAwMAbe9eiI+A1Z8AAAAASUVORK5CYII=\n",
       "\" style=\"display:inline;vertical-align:middle;\" /></a><br>"
      ],
      "text/plain": [
       "A_implies_notB: A => [not](B)"
      ]
     },
     "execution_count": 4,
     "metadata": {},
     "output_type": "execute_result"
    }
   ],
   "source": [
    "A_implies_notB = defaults.assumptions[0]"
   ]
  },
  {
   "cell_type": "code",
   "execution_count": 5,
   "metadata": {},
   "outputs": [
    {
     "data": {
      "text/html": [
       "<span style=\"font-size:20px;\"><a class=\"ProveItLink\" href=\"../__pv_it/1c68a3cf946ae3d258e4f8ccaca69d837c86eedb0/expr.ipynb\"><img src=\"data:image/png;base64,iVBORw0KGgoAAAANSUhEUgAAAMsAAAAVBAMAAAAa4QdfAAAAMFBMVEX///9ERETc3NyqqqpUVFS6\n",
       "urrMzMwyMjIQEBCIiIh2dnYiIiLu7u5mZmaYmJgAAABJJ2g3AAAAAXRSTlMAQObYZgAAApxJREFU\n",
       "SMe1Vk1oE0EUftlmd7Nxug14sGDAFQ/FkxEKPSlR9m6OKXroIVBv6aVYUGnxrxfBeBDJobTQQ7Uo\n",
       "6EFQF9p48tBLvdSDoPEk+ENbjfhvnZndmXkziSkVHJjs7Hvzzffm/W0AwH8J/3M4iwF7kMfdNg2b\n",
       "Ar+0Y56L7NfbSN7uddpSVOefaIXHxgHWsNrALGxOTtwvGAB4zt6yU7HU3ehA4zbUOpMDeFUCF6tN\n",
       "TG6YnFs0AHAL07z7qXYTsaijI6o1OovgzykRxiQ0cMM1ABqNdeRjh0tcRUfM0lCuzwGZkhKJITej\n",
       "aCyhOZpu6ACNxvM+qxPtJCT2GKLpp/MhPWK3lEjM6Ht0m/0mANOc6vmNjrwdP3qRg6AFMJCnz7tS\n",
       "IjBWXjnNWcqbAE7Tyy0mJecb172I2FhejZ3XRFnVqs8sscWQjKDApAJJc3L5a80ErLOf07wQbLB+\n",
       "4VgOcWmmlPDS2vJoHFaYM8vStQLzBKdA/bBwqQC41ObKFS6rhOEmpiETjKdP1GKFmkyd6zEnVcUe\n",
       "iSkzS0QKpOzE0xIAe6hTyiNsRc+bxjSjd8Cg6aOG+d8xjcRU8G1SkIvXErCL8aaZGT0sKVBsojiO\n",
       "mYKiqVKT0p+Q0xRmpSONBPDYZFnDOEDnJLrMYHLvpqJhVXCImfQGgFeGwqSbmIY6rSHKhgNkQhP2\n",
       "tk81Fiupl+yqyBpeBc50gyc0+QEahjxANB+ux3oFEDRW/5cAXm+dlzQiQ23VGp9theEZbvU4kGuB\n",
       "jhlYk61z76UC1yOA1tO0xiwWF9p1rNnYgSEcPBvhhqHr/0ojx9t2UZaWn7/NJ0bXcxq/Gw3+ECTj\n",
       "KeyUhn9vyKMu+61im+g4nbVtaDS9czmmnu8COGgKvJF/+S/wB4imzSy+Oh3MAAAAAElFTkSuQmCC\n",
       "\" style=\"display:inline;vertical-align:middle;\" /></a> <a class=\"ProveItLink\" href=\"../__pv_it/50c38fcf14ab28a9890433df0ab41937a23a1d550/proof.ipynb\" style=\"text-decoration: none\">&#x22A2;&nbsp;</a><a class=\"ProveItLink\" href=\"../__pv_it/feaa1d0e6d92ad9ead8e5ffd1f92697e3912387a0/expr.ipynb\"><img src=\"data:image/png;base64,iVBORw0KGgoAAAANSUhEUgAAABwAAAAOBAMAAADOPWE3AAAAMFBMVEX///8QEBBERES6urqIiIiq\n",
       "qqrc3Nzu7u6YmJgyMjJUVFTMzMx2dnYiIiJmZmYAAADMbjvTAAAAAXRSTlMAQObYZgAAAGNJREFU\n",
       "CNdjYEAA7gsMyIDzAwq39zsyjy3uGzKXheUzMtec9QcSj92A+wsDw9u7QHAHyGVmYPsHldkFwqtW\n",
       "fULiGjAwSCK4rEDqIoKbCqTmw1zLwD4BSOkXwFyk+DOBoen/PABSrhtHsYt+gAAAAABJRU5ErkJg\n",
       "gg==\n",
       "\" style=\"display:inline;vertical-align:middle;\" /></a></span>"
      ],
      "text/plain": [
       "{A => [not](B) , A in BOOLEANS , B} |- [not](A)"
      ]
     },
     "execution_count": 5,
     "metadata": {},
     "output_type": "execute_result"
    }
   ],
   "source": [
    "A_implies_notB.denyAntecedent()"
   ]
  },
  {
   "cell_type": "code",
   "execution_count": 6,
   "metadata": {},
   "outputs": [
    {
     "data": {
      "text/html": [
       "<table><tr><th>&nbsp;</th><th>step type</th><th>requirements</th><th>statement</th></tr>\n",
       "<tr><td>0</td><td>generalizaton</td><td>1</td><td><span style=\"font-size:20px;\"> <a class=\"ProveItLink\" href=\"../__pv_it/6326474921fb57386c5368b59ed2377c0267da500/proof.ipynb\" style=\"text-decoration: none\">&#x22A2;&nbsp;</a><a class=\"ProveItLink\" href=\"../__pv_it/6078702a7da903abb1b8c4d5e1e467e6a43b28050/expr.ipynb\"><img src=\"data:image/png;base64,iVBORw0KGgoAAAANSUhEUgAAAR4AAAAXBAMAAAAvnz2ZAAAAMFBMVEX///8QEBC6urrMzMxUVFRm\n",
       "ZmZERETc3NwyMjKqqqp2dnaIiIiYmJgiIiLu7u4AAAAU9Wx4AAAAAXRSTlMAQObYZgAAA9ZJREFU\n",
       "SMfNVk1oE1EQnmSbbJvdboMe1INapYhQpTkIiiIJNv7cKkoqiLVV6FZR2oDSVsQ2ClIpoj2oVDyY\n",
       "S/1BKDnoQXroigj+HKyHepDWFlERa1Vqf1Ri9c372X3bxOjBgAPzdt+8mTffm5k3uwD/GY3mb+vy\n",
       "HGve1ByBXsp4ACdP8gFHiRAPVZPRLaeyLK5xzTYS3sn4Js7P5QNPIYbeUwdQW5q56PZ4HtUZN5OH\n",
       "WpcPPH04hElewhEhMsSL5kqXPkKg60nKeApfVz7wLMGhPw7wNOkKGZLHVbbHaomWEaSsX29pOZEP\n",
       "ON4EjvsIP7Ode0WkVrpUU/2Y0YOMp03zxd97OeKa5Yqrj0ZlEqC10RHe4s/dLuSjVy3y6GFcCdBA\n",
       "xR10vDQV2xKiWnaQ446pKkLP1NYLeUeWckYfymTfnSE6rRlGGtnOFs/Kmq9olUE34zIwaGT1CVZb\n",
       "QdCC+OIX6k+l62ELmVqAL3Fb0Ds7T1uiRHBNmwEYj0i+u5nFPBI/ChDPVwrtCHMZ42LQ6BZv0izM\n",
       "EfDOyK6NWsvZ7oqdDarGTsJtx2J7IJUcW841StCznxxNS0t4jJMU0ITUo5RotAoveJixZhXTeusd\n",
       "pBrFKfANyHgC4yzGl3FoEPtytUo2Q1ttf9tHgifwQcZTgj3xu4RnXS/MxUMKw5Nw8BgJ2iuVlEk1\n",
       "PoXgYVzGs8HPupMfpUGxL1frA9v2Ab0pyfK9Il9Y7GES24JvTv0M89peJOEhesVBJ1/QsAlXCqCG\n",
       "alT03W50lUqExKHaNM0D84l5QuDhamVg29KlVGyxyK7f4u2nPeGE5wJ/HnbwqARP4Wfy/pDzRZqe\n",
       "R9BPNW4A3BuV8Ohd2mdeMjuxfwQQmq22DoStkmTx8W0Qed7O2o+y0Ol9qoDWIyQheIe+Zp37Dh68\n",
       "bMZgrIna1ZNcdEl4xmPVs/ws9fGiiAgdV6N4qK3y3DQPYf0ERFchx6z+GY2eka6DX7SO1baoeWkH\n",
       "6E1fCXj87CLriMMXhzBtOyTZFSEJzy5QvsCdGKHNxEedwMPVVoCwNSIsPjYeWJDlky9ePPGMNf69\n",
       "4LSK3AVL7QB1FtRBqX685HRp+EjoPQmjMcCXhNpjaI0zW9jK83VcbPk4R/PWkxmiQIoxpdfToFYN\n",
       "KWm4MRXb1uXgMUhnOPrDsv9YXvJjCrUd5AYxW3hbSvuhaWV8PLNR5h/OO84u2JClFXNqw+HuHCGp\n",
       "T9v/NVI/MqmRHHiOZki2cpZpbQ48lN66p0UpUOK/9Xk8Bx517v+qFmLsIutPeIos17TAHdK8UkFW\n",
       "6X3XrPefe/0F5HYUzl+ODtEAAAAASUVORK5CYII=\n",
       "\" style=\"display:inline;vertical-align:middle;\" /></a></span></td></tr>\n",
       "<tr><td>1</td><td>hypothetical reasoning</td><td>2</td><td><span style=\"font-size:20px;\"><a class=\"ProveItLink\" href=\"../__pv_it/9f83f0fde258b592f030d37d0c4391dbaca826410/expr.ipynb\"><img src=\"data:image/png;base64,iVBORw0KGgoAAAANSUhEUgAAALEAAAAVBAMAAAD7ihIOAAAAMFBMVEX///9ERETc3NyqqqpUVFS6\n",
       "urrMzMwyMjIQEBCIiIh2dnYiIiLu7u5mZmaYmJgAAABJJ2g3AAAAAXRSTlMAQObYZgAAAnhJREFU\n",
       "OMtjYGDgu8dAZcC2SgFE8ezCpygSXYAvgBijm0Ek5wcobwM2JQ4II/2/uDiWMjBcQ5ZG07P8Y33F\n",
       "RgMg4zqIx9UAEWX/gMVk9gMINocAA8P9AAZ2ZGl0PQKRPDWrgPQKZJNf/0Eo4IExZiLpyp8AxA4M\n",
       "fAsQQsh6oCYzTGVHM5nJ9hMWp/Yg6ZoPjJb3Cxh4GuAicD0803fvLoCabMdyANVkTs6vCENYocHL\n",
       "WoBksgQQ7wDqEoaLwPWkv0FysyKam2OY/yGZshJC8SL5nOELA4O6DJBeCxeB6WGSQYQG2z4ZmMm8\n",
       "YHfxBLD9BMvd3g0C+y9AQuUBUjr4MnPuPhDDHB4bMD2MCnCTo/f/AEYHw3sQJwOcQFkZmP4iR4U5\n",
       "WJQjAGoVMM1zAsP0NCiUIuBhBtNzEDkGZxqCnAR0WUobWCjFxeUjssk8FSCj+WHZIgXoMGCocYJ8\n",
       "nw9TA9cTAbIcFoOMrKAgFAf6NiIBJAQ0oh3Z5PQ1DGgm8wPdy/cL2WS4nhRkNzMyANM9N8h0FpBl\n",
       "zKB4Rwrn3ZA44TBAmJwPdAXLZ6TQQOg5jWEyOJy5QDlUGYjrkZxsAqEYHyBMBiVnfZArnjMwgJM7\n",
       "Qg/LA2STQaEBT3U8IB3yiJzMBE3HXBdgCQOcnNnaD4BTHc9vBhQ9PFuRTH47ESk9M0l8V2B4+L8W\n",
       "bjIsGbEiSpyL/11cysFuK2Xg6VdA1aN+DV4iSbcYoJcbKEUcjNGEKQfK3awKaIIm1buRsytuk+Hg\n",
       "FaYQFzAn8BEqoMEm8+EzGbkUhYLjDESYDC6feXbiUcHkgCHkBMQTCNUprZDKYjEeNZroApwJRNaD\n",
       "AIiqrvk3ZUMKAAAAAElFTkSuQmCC\n",
       "\" style=\"display:inline;vertical-align:middle;\" /></a> <a class=\"ProveItLink\" href=\"../__pv_it/7f187ac69d03192d9de4e8b50dcd7c836d26e8bd0/proof.ipynb\" style=\"text-decoration: none\">&#x22A2;&nbsp;</a><a class=\"ProveItLink\" href=\"../__pv_it/916f7897cac29efffdbd74a54044b2c6f9ad1d7a0/expr.ipynb\"><img src=\"data:image/png;base64,iVBORw0KGgoAAAANSUhEUgAAAF0AAAAVBAMAAADWVP/xAAAAMFBMVEX///+qqqru7u4iIiJ2dnbc\n",
       "3NyIiIjMzMxmZmYQEBC6uroyMjJERERUVFSYmJgAAADLUcuvAAAAAXRSTlMAQObYZgAAAWdJREFU\n",
       "KM9jYKAeWIYu8ApMvv1/9+7pBZjK2S+g8AwYGDgKwMw5QNYvTPXcCii8D0BiA1jnNyD+C5dggjHS\n",
       "UHQ//gQknoBYbF8ZGPi+YBo7CVk5qwRQFYMmiMkzgYGBGSHJBXU21wZk9WxsIBfzCAAJ/gsMrHuQ\n",
       "3OoGoTgckNUvYvwHJFkagET9tbTmB2DBZmMQsG+AuOsBknKmBSBfMjCC7MwPYGCyRTZLGhy4nAug\n",
       "BpiAHMfA+gNEAZ3OcBKkB8WwnSAN/LAoqQXhu3f/gIISFKigoHyP7NhqJwZ09UD2bKh6dpBH7gsg\n",
       "3G98CKyMUwChnhFIWULdAwp+1t9IxstCKJ4HCPWBQGo/EPNtgAR/5SakmIGGO0sDLOUwMIGEziuA\n",
       "xTjO/717ex+S8TwB0PgygJtw8ncAw5v/O4BhjC1ZwhhTMeU08SX/J5hCbvjUo6ZncMRswKee9QK6\n",
       "CG8A3vwYhi6QzsAAAINbWY89yNKTAAAAAElFTkSuQmCC\n",
       "\" style=\"display:inline;vertical-align:middle;\" /></a></span></td></tr>\n",
       "<tr><td>2</td><td>specialization</td><td>3, 4, 5, 6</td><td><span style=\"font-size:20px;\"><a class=\"ProveItLink\" href=\"../__pv_it/1c68a3cf946ae3d258e4f8ccaca69d837c86eedb0/expr.ipynb\"><img src=\"data:image/png;base64,iVBORw0KGgoAAAANSUhEUgAAAMsAAAAVBAMAAAAa4QdfAAAAMFBMVEX///9ERETc3NyqqqpUVFS6\n",
       "urrMzMwyMjIQEBCIiIh2dnYiIiLu7u5mZmaYmJgAAABJJ2g3AAAAAXRSTlMAQObYZgAAApxJREFU\n",
       "SMe1Vk1oE0EUftlmd7Nxug14sGDAFQ/FkxEKPSlR9m6OKXroIVBv6aVYUGnxrxfBeBDJobTQQ7Uo\n",
       "6EFQF9p48tBLvdSDoPEk+ENbjfhvnZndmXkziSkVHJjs7Hvzzffm/W0AwH8J/3M4iwF7kMfdNg2b\n",
       "Ar+0Y56L7NfbSN7uddpSVOefaIXHxgHWsNrALGxOTtwvGAB4zt6yU7HU3ehA4zbUOpMDeFUCF6tN\n",
       "TG6YnFs0AHAL07z7qXYTsaijI6o1OovgzykRxiQ0cMM1ABqNdeRjh0tcRUfM0lCuzwGZkhKJITej\n",
       "aCyhOZpu6ACNxvM+qxPtJCT2GKLpp/MhPWK3lEjM6Ht0m/0mANOc6vmNjrwdP3qRg6AFMJCnz7tS\n",
       "IjBWXjnNWcqbAE7Tyy0mJecb172I2FhejZ3XRFnVqs8sscWQjKDApAJJc3L5a80ErLOf07wQbLB+\n",
       "4VgOcWmmlPDS2vJoHFaYM8vStQLzBKdA/bBwqQC41ObKFS6rhOEmpiETjKdP1GKFmkyd6zEnVcUe\n",
       "iSkzS0QKpOzE0xIAe6hTyiNsRc+bxjSjd8Cg6aOG+d8xjcRU8G1SkIvXErCL8aaZGT0sKVBsojiO\n",
       "mYKiqVKT0p+Q0xRmpSONBPDYZFnDOEDnJLrMYHLvpqJhVXCImfQGgFeGwqSbmIY6rSHKhgNkQhP2\n",
       "tk81Fiupl+yqyBpeBc50gyc0+QEahjxANB+ux3oFEDRW/5cAXm+dlzQiQ23VGp9theEZbvU4kGuB\n",
       "jhlYk61z76UC1yOA1tO0xiwWF9p1rNnYgSEcPBvhhqHr/0ojx9t2UZaWn7/NJ0bXcxq/Gw3+ECTj\n",
       "KeyUhn9vyKMu+61im+g4nbVtaDS9czmmnu8COGgKvJF/+S/wB4imzSy+Oh3MAAAAAElFTkSuQmCC\n",
       "\" style=\"display:inline;vertical-align:middle;\" /></a> <a class=\"ProveItLink\" href=\"../__pv_it/50c38fcf14ab28a9890433df0ab41937a23a1d550/proof.ipynb\" style=\"text-decoration: none\">&#x22A2;&nbsp;</a><a class=\"ProveItLink\" href=\"../__pv_it/feaa1d0e6d92ad9ead8e5ffd1f92697e3912387a0/expr.ipynb\"><img src=\"data:image/png;base64,iVBORw0KGgoAAAANSUhEUgAAABwAAAAOBAMAAADOPWE3AAAAMFBMVEX///8QEBBERES6urqIiIiq\n",
       "qqrc3Nzu7u6YmJgyMjJUVFTMzMx2dnYiIiJmZmYAAADMbjvTAAAAAXRSTlMAQObYZgAAAGNJREFU\n",
       "CNdjYEAA7gsMyIDzAwq39zsyjy3uGzKXheUzMtec9QcSj92A+wsDw9u7QHAHyGVmYPsHldkFwqtW\n",
       "fULiGjAwSCK4rEDqIoKbCqTmw1zLwD4BSOkXwFyk+DOBoen/PABSrhtHsYt+gAAAAABJRU5ErkJg\n",
       "gg==\n",
       "\" style=\"display:inline;vertical-align:middle;\" /></a></span></td></tr>\n",
       "<tr><td>&nbsp;</td><td colspan=4 style=\"text-align:left\"><span style=\"font-size:20px;\"><a class=\"ProveItLink\" href=\"../../../../__pv_it/2cbe72a7ad6f655694dd697106680215e8489b600/expr.ipynb\"><img src=\"data:image/png;base64,iVBORw0KGgoAAAANSUhEUgAAAA8AAAAOBAMAAAACpFvcAAAALVBMVEX///8QEBBERERUVFS6urqI\n",
       "iIhmZmaqqqrc3Nzu7u6YmJgyMjIiIiLMzMwAAADtIaYWAAAAAXRSTlMAQObYZgAAAFtJREFUCNdj\n",
       "YACBOwxQsA9Kc52bAGG05zVAGAFxDmCaZULdAjBjCsO9ADDDgaEvAUTzGhvbKYCVMDAwbgAxChgY\n",
       "eASANAeQwf0AyJgNxEwvGRia5HYwcOm9TgAA6BoR3jrzwFcAAAAASUVORK5CYII=\n",
       "\" style=\"display:inline;vertical-align:middle;\" /></a> : <a class=\"ProveItLink\" href=\"../../../../__pv_it/2cbe72a7ad6f655694dd697106680215e8489b600/expr.ipynb\"><img src=\"data:image/png;base64,iVBORw0KGgoAAAANSUhEUgAAAA8AAAAOBAMAAAACpFvcAAAALVBMVEX///8QEBBERERUVFS6urqI\n",
       "iIhmZmaqqqrc3Nzu7u6YmJgyMjIiIiLMzMwAAADtIaYWAAAAAXRSTlMAQObYZgAAAFtJREFUCNdj\n",
       "YACBOwxQsA9Kc52bAGG05zVAGAFxDmCaZULdAjBjCsO9ADDDgaEvAUTzGhvbKYCVMDAwbgAxChgY\n",
       "eASANAeQwf0AyJgNxEwvGRia5HYwcOm9TgAA6BoR3jrzwFcAAAAASUVORK5CYII=\n",
       "\" style=\"display:inline;vertical-align:middle;\" /></a>, <a class=\"ProveItLink\" href=\"../../../../__pv_it/077b2ff79244fb4582cbe22c6e3356fa92a52f2f0/expr.ipynb\"><img src=\"data:image/png;base64,iVBORw0KGgoAAAANSUhEUgAAABAAAAAOBAMAAADUAYG5AAAAMFBMVEX///+qqqru7u4iIiJ2dnbc\n",
       "3NyIiIjMzMxmZmYQEBC6uroyMjJERERUVFSYmJgAAADLUcuvAAAAAXRSTlMAQObYZgAAAGpJREFU\n",
       "CNdjYGB4+//u3dMLGIBgDgMDxy8gzf4NiP8CGWxfGRj4vgAZPBMYGJgnARn8FxhY9ygAGfXX0pof\n",
       "gDTlBzAw2YIYJ0EckBBI53sHoBH/gIz7AhBjWH9DjancBLTl/N+7t/cxMAAA3u4f/5xagjYAAAAA\n",
       "SUVORK5CYII=\n",
       "\" style=\"display:inline;vertical-align:middle;\" /></a> : <a class=\"ProveItLink\" href=\"../__pv_it/1da4e2fe7c44632f084fa27ea32e26dc689384c20/expr.ipynb\"><img src=\"data:image/png;base64,iVBORw0KGgoAAAANSUhEUgAAAB0AAAAOBAMAAAAh/woJAAAAMFBMVEX///+qqqru7u7c3NyIiIgQ\n",
       "EBC6uroyMjJERESYmJhUVFTMzMx2dnYiIiJmZmYAAADtoHoAAAAAAXRSTlMAQObYZgAAAHpJREFU\n",
       "CNdjYIACzvW/Vq0oY0AA1gYGhvcJCP5+ByBegOD7GzAwzD+A4LcC8VUFBP8XA4N5E4LL/cvF7yaQ\n",
       "fnsXCO4wMLB8ZmDQhRm3i4GBIwAo9hPB5wfKcf5B8PdPYGDg+ojgg6y3L4AZDraeOxxh/Yv/q1aV\n",
       "A7UAAFRxJOZ+1MVPAAAAAElFTkSuQmCC\n",
       "\" style=\"display:inline;vertical-align:middle;\" /></a></span></td></tr><tr><td>3</td><td>theorem</td><td></td><td><span style=\"font-size:20px;\"> <a class=\"ProveItLink\" href=\"modusTollensDenial.ipynb\" style=\"text-decoration: none\">&#x22A2;&nbsp;</a><a class=\"ProveItLink\" href=\"../__pv_it/3246c5a4226d7722bc081bf00ffc259d114f30320/expr.ipynb\"><img src=\"data:image/png;base64,iVBORw0KGgoAAAANSUhEUgAAAO8AAAAZBAMAAAArlWSOAAAAMFBMVEX///8QEBC6urrMzMxUVFRm\n",
       "ZmZERETc3NwyMjKqqqp2dnaIiIiYmJgiIiLu7u4AAAAU9Wx4AAAAAXRSTlMAQObYZgAAAz5JREFU\n",
       "SMfFlk1oE0EUx1+TJtsmm23wJqJW8SBo6R5EDyINWlpvDZhFFD+K4hbR2h5Kg0htFKRYxOaieDOX\n",
       "1oogK3hrofEgVAXppR7UaJAqhUoVS6uiFN+8mc3O5quQtvggs7vzXuY38+Y/HwBlrTPTDetgDZnU\n",
       "ChFTsD6mRP4fOLsCWFslwmPlVaj1HExjelUaHKJgq2LwHtfXAfwd4eCH7Pt2aXAgiY+abMVgd9ND\n",
       "rDEO7mWP9tJg8vVWzA26cqV+xBGoKQKzwfiSZcTFunysYnCVK1eXT+Pq1MIEVh/E433lVP0yHo9X\n",
       "Lu6dri9rginrPF9OS6b5thy4zjQ7UxWDj7sUnr2fxscwBx8C6KDqgeLgah38mKC7i0aLzqrqbZ8c\n",
       "n/OS1XYZsbP89Zbc2idoYlN+j4N3gJagif8hBDA4eCMtgT0RmGXVYQiGWZUtRDuef9hebs8AnvC3\n",
       "DaigDLMU9bk/io9tHByCIHE+/8VizjgBVmpuu7xzTcE4lr4IeH7KYIq3LeflFgNo5Ju83TsvkrzN\n",
       "zW3s300cHEyHSHmPp/H9zNV5BAe+yuBx+IBlyALflAxm8SyttCJyXm7vAE5CAdiDIk84YC1Bm4vX\n",
       "MgGek/RSu07J4Fn2J/imw2S3BKZ4ZiSQnJdMWwBVKGCjBMYuhsJOqqHjIPNUsz7SZFvGZnmOwd/D\n",
       "9NQ49vQSSGAW7zPRrumyl6v3z1iLWL8XHbCC4Jrv+D4pwHcoRy9gArwpPmLffhlcS1kbRclkJTCL\n",
       "52bojncEe5KAQALULdw5bLekk0T9y85ygiomcW3a6Mp635jmBTbHAdexuIkV5zCfSQdM8Txm71HJ\n",
       "SwH+KGi/xZGfS0Pv1gFQu36hrK8LsMoa8HVDk65F+IjzwK9ZgQ016g6Y4oMGWiwqeymgLgmeBbFl\n",
       "Ft5gxJYpbDduUWloFam+UnARUJZBmZbmmOK1ebRHOa8yIAL6s9AXFQu8cNMLWBJ4ZgmUtvfwpZ42\n",
       "EDNdAB5dNA4nHbCIF3IVXi9f2XpgyIjdLH4sMpstdvUZwTle4eqTd4Qq0vGjFtl0ewpqWiu8c7WX\n",
       "jt5X7HaVf3kJ6msPTq/dLTNTeK+OwOqtIRP5B3eX/JhSFbQOAAAAAElFTkSuQmCC\n",
       "\" style=\"display:inline;vertical-align:middle;\" /></a></span></td></tr>\n",
       "<tr><td>&nbsp;</td><td colspan=4 style-\"text-align:left\"><a class=\"ProveItLink\" href=\"modusTollensDenial.ipynb\">proveit.logic.boolean.implication.modusTollensDenial</a></td></tr><tr><td>4</td><td>assumption</td><td></td><td><span style=\"font-size:20px;\"><a class=\"ProveItLink\" href=\"../__pv_it/3612ec1dc3b8c98c2193921a926214e0c20eaba70/expr.ipynb\"><img src=\"data:image/png;base64,iVBORw0KGgoAAAANSUhEUgAAAEkAAAAVBAMAAAD4Ed5jAAAAMFBMVEX///9ERETc3NyqqqpUVFS6\n",
       "urrMzMwyMjIQEBCIiIh2dnYiIiLu7u5mZmaYmJgAAABJJ2g3AAAAAXRSTlMAQObYZgAAAS5JREFU\n",
       "KM9jYGDgu8eAB7CtUgBRPLsY8AK2ZhDJ+QHK24Aqu/xjfcVGAyDjOojH1QARZf+AZohAJE/NKiC9\n",
       "AlnV6z8YqhimsqOpYrL9BJHkmb57dwFUlR3LAVRVnJxfIarS3yCZpYhmVgzzP4iZMggb2fbJwFTx\n",
       "go3nCWD7CZZjVICrit7/YwKQfg/iZASASFYGpr9guYPIrp9pCPL8BQaGlDawUIqLy0cwI2L3boTr\n",
       "GVkXABniD4DCCSAhoIHtEOXIZjEyCDAwcINUsoA0MgPxDrDcaQxVYHdxgWJGGYjrwXIsD5BVgWyE\n",
       "hwQPyDz5A2DPbkVS9XYiUngxSXxXYHj4vxYsqX4NHtvSLQbo8QgHJtUQP8IAdlXoAKyKj5AqcPri\n",
       "2UkgrbaCKb7FBNM9AKQsUzxrU6Y9AAAAAElFTkSuQmCC\n",
       "\" style=\"display:inline;vertical-align:middle;\" /></a> <a class=\"ProveItLink\" href=\"../__pv_it/dc2523262ffa0ce1920b871c7f702fb73e741c290/proof.ipynb\" style=\"text-decoration: none\">&#x22A2;&nbsp;</a><a class=\"ProveItLink\" href=\"../__pv_it/18d84e6b10643c76412edd0e67904c254c981c030/expr.ipynb\"><img src=\"data:image/png;base64,iVBORw0KGgoAAAANSUhEUgAAADYAAAAPBAMAAABdHiGLAAAAMFBMVEX///92dnYQEBBERERUVFS6\n",
       "urqIiIhmZmaqqqrc3Nzu7u6YmJgyMjIiIiLMzMwAAACFkkdwAAAAAXRSTlMAQObYZgAAANJJREFU\n",
       "GNNjYACBtwwogPG8zR9dCyjnPKocAzNrwpqFAmAm9/0FGHJsAQfAzBn1EyBiy87evQOV49jgBRZK\n",
       "yA8A03ynFyD0RRqAWKwL+jeAhSYvQJj5djOYs5ThfQJYyBJh393/amBWAMP8AhDNZYDslgwQj8/F\n",
       "xR9itu7du3C3MBgEgoQYGJjA7uVzQNLHYMAMZDQwMPAqgM28gC7HCZTj+QAW8kaRA5q5BsT+BRZa\n",
       "G4CQ4y4zYJisf5KB2/4P2KGcxx/AwvrzJQ+0MObwgbgTAgCMvTlc/0QYTQAAAABJRU5ErkJggg==\n",
       "\" style=\"display:inline;vertical-align:middle;\" /></a></span></td></tr>\n",
       "<tr><td>5</td><td>assumption</td><td></td><td><span style=\"font-size:20px;\"><a class=\"ProveItLink\" href=\"../__pv_it/508795ae6194a288e995fa1d9fdcd216397ca9e40/expr.ipynb\"><img src=\"data:image/png;base64,iVBORw0KGgoAAAANSUhEUgAAAHEAAAAVBAMAAACDNRyvAAAAMFBMVEX///9ERETc3NyqqqpUVFS6\n",
       "urrMzMwyMjIQEBCIiIh2dnYiIiLu7u5mZmaYmJgAAABJJ2g3AAAAAXRSTlMAQObYZgAAAcFJREFU\n",
       "OMtjYGDgu8dAImBbpQCieHbhUxSJLsAXANLaDGJyfoAatAGb6Q4ILf5fXBxLGRiugTjXQQRXA0SG\n",
       "/QMWnewHEGwOAQaG+wEM7CD2CmSdr/8gFPHAGDORTMmfAMQODHwL0HQy2X7CYlUPks75wGB5v4CB\n",
       "pwFNJyfnV4QiVqj3WAuQdEoA8Q6gkcJoOmOY/yGpWgmheBcgiX1hYFCXAdJrYTp5webyBLD9BMvf\n",
       "3g0C+y9AXP0AKZi/zJy7D8QwB+L3IEZGANhdDEx/kQPVHCzKEQA1ChjnnMBwOA3yRQTISKDJKW1g\n",
       "lSkuLh+RdfJUgLTyB0C5KQwMjEBfcYJ8lA8SEAe6JiIBxAIqaUfWmb6GAU0nP9A+vl9QndygAGAB\n",
       "+ZMZFG5I/twtA4l8A4TOfKAtLJ+hrgX7kwuU6pSBuB7JShMIxfgAoRMUnfogW54jxwoPSEQekdKY\n",
       "oPHIdQEWsODoZGs/gBwrQJ1MEt8VGB7+r4XrZFSApgRELrj438WlHOyEUvR0i5JFYIwmTDmM1Icd\n",
       "vMIU4poA08mHTydyLoOC4/D8ybMTj04mBwwhJ5BvWiGZfTEerZroApwJ0HIIAMbmdULnv1MSAAAA\n",
       "AElFTkSuQmCC\n",
       "\" style=\"display:inline;vertical-align:middle;\" /></a> <a class=\"ProveItLink\" href=\"../__pv_it/0a4575e46082ea63d3ba78aed0c1752e0d0f6ecc0/proof.ipynb\" style=\"text-decoration: none\">&#x22A2;&nbsp;</a><a class=\"ProveItLink\" href=\"../__pv_it/1a168b2410a985d9dd68a2f0e23bb53d61e193220/expr.ipynb\"><img src=\"data:image/png;base64,iVBORw0KGgoAAAANSUhEUgAAAF0AAAAVBAMAAADWVP/xAAAAMFBMVEX///92dnYQEBBERERUVFS6\n",
       "urqIiIhmZmaqqqrc3Nzu7u6YmJgyMjIiIiLMzMwAAACFkkdwAAAAAXRSTlMAQObYZgAAAWxJREFU\n",
       "KM9jYKAaYE1AF9kKY7zFpv4Jgrnlv4uLTQAD+wMo/zw29aeQ2MoMDOxfGRgOQHjc9xcgpGBMNiTn\n",
       "8H0D4i8MDBsh3Bn1EzCNZUIyg+0n0NCPDAyLINyE/ACEXAiUjkFyDrMCAwOvFpBuAAfEgv4NCDlG\n",
       "qDsKkdTzOzBwHgbax1gA4i1leA9Ww34XDL5D1JxGUv/eLa0WZCQH2MMBDPMLkCQ5joIpVZgBAgwM\n",
       "+RMYuK6AXKIA8ryLi78BckCuUQWRX2Fh48DAYASk84EW8H0AaQKGxQEk5XwHF6CrBwYlw34BqHqg\n",
       "n3kVkNx/GRKQGgj1fL+BtH8DxD2cQJrnA5LzHSC0NUI9KPg5/4AiFuiONaDw/YVQPwdKi8MEHoCD\n",
       "/xEoHoHhOVn/JAO3/R9EAFlC6Vi4CLv9FxcfcPDyBGAmM1gaZJqAKbcIT/LnFsAUE8OXX05hiHAd\n",
       "wKd+CoYIywR86jkx8mMeAwMAbe9eiI+A1Z8AAAAASUVORK5CYII=\n",
       "\" style=\"display:inline;vertical-align:middle;\" /></a></span></td></tr>\n",
       "<tr><td>6</td><td>specialization</td><td>7, 8</td><td><span style=\"font-size:20px;\"><a class=\"ProveItLink\" href=\"../__pv_it/547fd547e34cf8546442bd6aea990dbe0adf77b90/expr.ipynb\"><img src=\"data:image/png;base64,iVBORw0KGgoAAAANSUhEUgAAACMAAAAVBAMAAAA+1EraAAAAMFBMVEX////c3NxERESqqqpUVFS6\n",
       "urrMzMwyMjIQEBCIiIh2dnYiIiLu7u5mZmaYmJgAAABXZE4RAAAAAXRSTlMAQObYZgAAAMtJREFU\n",
       "GNNjYGDgu8cAA2yrBEAUzy4GBGBrBpGcH4AEn/8XF6dSIOM6SIirAURyKDAw3A9gYFiBEMqfAMQO\n",
       "KELzgea+X4AipAHEOw6gCH1hYBDXYYAK8RaALP8yc+4+EO89iMgIALnkIwPDaaDpDOwXGBhS2kDi\n",
       "TEDdnP9ALPUHDAwRCUAGP1AF3y8ggxtoKwMLyKx8oBzLZ5hZXBugzpIvYEB2BNBZbO0HkIUu/Xdx\n",
       "KX/AgKIKDnAJ8aEIgcOLZydyqLaCKb7FqGEPACcgN6r4rcm/AAAAAElFTkSuQmCC\n",
       "\" style=\"display:inline;vertical-align:middle;\" /></a> <a class=\"ProveItLink\" href=\"../__pv_it/4700336dcb14c40ad8837d1bcb79eeca85c330510/proof.ipynb\" style=\"text-decoration: none\">&#x22A2;&nbsp;</a><a class=\"ProveItLink\" href=\"../__pv_it/41c8960de77a58031318d86cf94a9006394e01c80/expr.ipynb\"><img src=\"data:image/png;base64,iVBORw0KGgoAAAANSUhEUgAAADoAAAAVBAMAAADlb+D4AAAAMFBMVEX////c3NxERESqqqqYmJgQ\n",
       "EBDu7u4yMjKIiIi6urpUVFTMzMx2dnYiIiJmZmYAAABjE816AAAAAXRSTlMAQObYZgAAAPRJREFU\n",
       "KM9jYCAOzEAXYJmAYHMvQAiv/7VqUSUDw2uELHsCgs2qwMDwfgIDO0KkA8nM/Q1AvICB5QBcJAxJ\n",
       "tl+AgcH/AANbAEyAswBJVhWIrwJtUoYJ8B1Akv3FwCCuBqTPwR3lgOT8Xx19V0AMc4a3d4HgDgMr\n",
       "0HNQJgPHRwaGXJAHp0JU72Lgh3l9FwMDE9A1HF9Abscmyw/Ux/IHWZbVACG7H+gGrs/IJjM5IGRB\n",
       "3pUH+dAd6koGngcwB4O9yx2egOwjzgtwDz36v2pVOdioSrhYIGacIkKSwQdTlqcBawxCQTqCybgA\n",
       "Q3YhElsCXZJjAwMAx6pAxZFXv1cAAAAASUVORK5CYII=\n",
       "\" style=\"display:inline;vertical-align:middle;\" /></a></span></td></tr>\n",
       "<tr><td>&nbsp;</td><td colspan=4 style=\"text-align:left\"><span style=\"font-size:20px;\"><a class=\"ProveItLink\" href=\"../../../../__pv_it/2cbe72a7ad6f655694dd697106680215e8489b600/expr.ipynb\"><img src=\"data:image/png;base64,iVBORw0KGgoAAAANSUhEUgAAAA8AAAAOBAMAAAACpFvcAAAALVBMVEX///8QEBBERERUVFS6urqI\n",
       "iIhmZmaqqqrc3Nzu7u6YmJgyMjIiIiLMzMwAAADtIaYWAAAAAXRSTlMAQObYZgAAAFtJREFUCNdj\n",
       "YACBOwxQsA9Kc52bAGG05zVAGAFxDmCaZULdAjBjCsO9ADDDgaEvAUTzGhvbKYCVMDAwbgAxChgY\n",
       "eASANAeQwf0AyJgNxEwvGRia5HYwcOm9TgAA6BoR3jrzwFcAAAAASUVORK5CYII=\n",
       "\" style=\"display:inline;vertical-align:middle;\" /></a> : <a class=\"ProveItLink\" href=\"../../../../__pv_it/077b2ff79244fb4582cbe22c6e3356fa92a52f2f0/expr.ipynb\"><img src=\"data:image/png;base64,iVBORw0KGgoAAAANSUhEUgAAABAAAAAOBAMAAADUAYG5AAAAMFBMVEX///+qqqru7u4iIiJ2dnbc\n",
       "3NyIiIjMzMxmZmYQEBC6uroyMjJERERUVFSYmJgAAADLUcuvAAAAAXRSTlMAQObYZgAAAGpJREFU\n",
       "CNdjYGB4+//u3dMLGIBgDgMDxy8gzf4NiP8CGWxfGRj4vgAZPBMYGJgnARn8FxhY9ygAGfXX0pof\n",
       "gDTlBzAw2YIYJ0EckBBI53sHoBH/gIz7AhBjWH9DjancBLTl/N+7t/cxMAAA3u4f/5xagjYAAAAA\n",
       "SUVORK5CYII=\n",
       "\" style=\"display:inline;vertical-align:middle;\" /></a></span></td></tr><tr><td>7</td><td>axiom</td><td></td><td><span style=\"font-size:20px;\"> <a class=\"ProveItLink\" href=\"../../negation/_axioms_.ipynb#doubleNegationIntro\" style=\"text-decoration: none\">&#x22A2;&nbsp;</a><a class=\"ProveItLink\" href=\"../../negation/__pv_it/c783ed2d3615027403f4c746a0eb27b91754b1b10/expr.ipynb\"><img src=\"data:image/png;base64,iVBORw0KGgoAAAANSUhEUgAAAIoAAAAXBAMAAAAmUcrKAAAAMFBMVEX///8QEBC6urrMzMxUVFRm\n",
       "ZmZERETc3NwyMjKqqqp2dnaIiIiYmJgiIiLu7u4AAAAU9Wx4AAAAAXRSTlMAQObYZgAAAd5JREFU\n",
       "OMutlL9LAzEUx1/tT+z1FDcnKzg4KHRwE6lowbEFqYIgdWoRBG8QxUEsLi6iXQQ3u4i4yP0HvVFx\n",
       "sIuLKBZR6CIUheJQiy95qUltuIL4hS/5XC75cnlJDuBfVOk6osfWIcmIksvs4cYtZUKLqCn0PPmC\n",
       "PR+6pRxqEXWEDpE3sQmuuISEbR2y1TxhNYwidwjRX3BJ8VR0iNrOWABmP7dxvrW147agUS2i7BKW\n",
       "FVbJ9Wz23i1lSYu4X5VTB5sz8ixAjnfv08vWqJBF7YGceKCmPEOclemEPAJmnhfrnb8MtEbdRqkd\n",
       "wLo9MhVVBIjCbgqbYXIEwuzL4LXRlmJmHIJ30eGdVhG8iUSSbW2cHHYivPSXd20pvW8p1xRcuScv\n",
       "U8w8P5FeO9uWMhkQh2hQTlUQ8HBE+uWKIDfD3vhguS1l2l8mWJNTFQxiSqiGfCV8zIdfQ0lNMQrh\n",
       "GtFZq9wxFatsaFPuNHjYhpl36fWKkvKWXmgSjcvNlbg5tA/G+ieWbg/IBpvttyAeU1IWwfshjr0l\n",
       "b4DVcSbFDRAaA+hzZEoPckOsrSjvX7Ejpdcmc73UIZh8+Ekx8ShsfDld/gxMVeFfCnT0bGhRaE64\n",
       "a0rQ1qH448TI3VP+It9fJn0DNS92cX4hgpAAAAAASUVORK5CYII=\n",
       "\" style=\"display:inline;vertical-align:middle;\" /></a></span></td></tr>\n",
       "<tr><td>&nbsp;</td><td colspan=4 style-\"text-align:left\"><a class=\"ProveItLink\" href=\"../../negation/_axioms_.ipynb#doubleNegationIntro\">proveit.logic.boolean.negation.doubleNegationIntro</a></td></tr><tr><td>8</td><td>assumption</td><td></td><td><span style=\"font-size:20px;\"><a class=\"ProveItLink\" href=\"../__pv_it/547fd547e34cf8546442bd6aea990dbe0adf77b90/expr.ipynb\"><img src=\"data:image/png;base64,iVBORw0KGgoAAAANSUhEUgAAACMAAAAVBAMAAAA+1EraAAAAMFBMVEX////c3NxERESqqqpUVFS6\n",
       "urrMzMwyMjIQEBCIiIh2dnYiIiLu7u5mZmaYmJgAAABXZE4RAAAAAXRSTlMAQObYZgAAAMtJREFU\n",
       "GNNjYGDgu8cAA2yrBEAUzy4GBGBrBpGcH4AEn/8XF6dSIOM6SIirAURyKDAw3A9gYFiBEMqfAMQO\n",
       "KELzgea+X4AipAHEOw6gCH1hYBDXYYAK8RaALP8yc+4+EO89iMgIALnkIwPDaaDpDOwXGBhS2kDi\n",
       "TEDdnP9ALPUHDAwRCUAGP1AF3y8ggxtoKwMLyKx8oBzLZ5hZXBugzpIvYEB2BNBZbO0HkIUu/Xdx\n",
       "KX/AgKIKDnAJ8aEIgcOLZydyqLaCKb7FqGEPACcgN6r4rcm/AAAAAElFTkSuQmCC\n",
       "\" style=\"display:inline;vertical-align:middle;\" /></a> <a class=\"ProveItLink\" href=\"../__pv_it/e254d9aea2df09e6e975215df28fe123ae22c0ba0/proof.ipynb\" style=\"text-decoration: none\">&#x22A2;&nbsp;</a><a class=\"ProveItLink\" href=\"../../../../__pv_it/077b2ff79244fb4582cbe22c6e3356fa92a52f2f0/expr.ipynb\"><img src=\"data:image/png;base64,iVBORw0KGgoAAAANSUhEUgAAABAAAAAOBAMAAADUAYG5AAAAMFBMVEX///+qqqru7u4iIiJ2dnbc\n",
       "3NyIiIjMzMxmZmYQEBC6uroyMjJERERUVFSYmJgAAADLUcuvAAAAAXRSTlMAQObYZgAAAGpJREFU\n",
       "CNdjYGB4+//u3dMLGIBgDgMDxy8gzf4NiP8CGWxfGRj4vgAZPBMYGJgnARn8FxhY9ygAGfXX0pof\n",
       "gDTlBzAw2YIYJ0EckBBI53sHoBH/gIz7AhBjWH9DjancBLTl/N+7t/cxMAAA3u4f/5xagjYAAAAA\n",
       "SUVORK5CYII=\n",
       "\" style=\"display:inline;vertical-align:middle;\" /></a></span></td></tr>\n",
       "</table>"
      ],
      "text/plain": [
       "\tstep type\trequirements\tstatement\n",
       "0\tgeneralizaton\t1\t|- forall_{A, B | A => [not](B) , A in BOOLEANS} (B => [not](A))\n",
       "1\thypothetical reasoning\t2\t{A => [not](B) , A in BOOLEANS} |- B => [not](A)\n",
       "2\tspecialization\t3, 4, 5, 6\t{A => [not](B) , A in BOOLEANS , B} |- [not](A)\n",
       "\tA : A, B : [not](B)\n",
       "3\ttheorem\t\t|- forall_{A in BOOLEANS} [forall_{B | A => B , [not](B)} [not](A)]\n",
       "\tproveit.logic.boolean.implication.modusTollensDenial\n",
       "4\tassumption\t\t{A in BOOLEANS} |- A in BOOLEANS\n",
       "5\tassumption\t\t{A => [not](B)} |- A => [not](B)\n",
       "6\tspecialization\t7, 8\t{B} |- [not]([not](B))\n",
       "\tA : B\n",
       "7\taxiom\t\t|- forall_{A | A} [not]([not](A))\n",
       "\tproveit.logic.boolean.negation.doubleNegationIntro\n",
       "8\tassumption\t\t{B} |- B"
      ]
     },
     "execution_count": 6,
     "metadata": {},
     "output_type": "execute_result"
    }
   ],
   "source": [
    "%qed"
   ]
  },
  {
   "cell_type": "code",
   "execution_count": null,
   "metadata": {},
   "outputs": [],
   "source": []
  }
 ],
 "metadata": {
  "kernelspec": {
   "display_name": "Python 3",
   "language": "python",
   "name": "python3"
  }
 },
 "nbformat": 4,
 "nbformat_minor": 0
}
