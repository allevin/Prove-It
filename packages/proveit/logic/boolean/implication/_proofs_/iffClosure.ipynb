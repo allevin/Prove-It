{
 "cells": [
  {
   "cell_type": "markdown",
   "metadata": {
    "collapsed": true
   },
   "source": [
    "Proof of <a class=\"ProveItLink\" href=\"../../../../_context_.ipynb\">proveit</a>.<a class=\"ProveItLink\" href=\"../../../_context_.ipynb\">logic</a>.<a class=\"ProveItLink\" href=\"../../_context_.ipynb\">boolean</a>.<a class=\"ProveItLink\" href=\"../_context_.ipynb\">implication</a>.<a class=\"ProveItLink\" href=\"../_theorems_.ipynb#iffClosure\">iffClosure</a> theorem\n",
    "========"
   ]
  },
  {
   "cell_type": "code",
   "execution_count": 1,
   "metadata": {},
   "outputs": [],
   "source": [
    "import proveit\n",
    "# we need to import trueIffFalseNegated and falseIffTrueNegated\n",
    "# to derive their side-effects:\n",
    "from proveit.logic.boolean.implication._theorems_ import trueIffFalseNegated\n",
    "from proveit.logic.boolean.implication._theorems_ import falseIffTrueNegated\n",
    "context = proveit.Context('..') # the theorem's context is in the parent directory"
   ]
  },
  {
   "cell_type": "code",
   "execution_count": 2,
   "metadata": {},
   "outputs": [
    {
     "name": "stdout",
     "output_type": "stream",
     "text": [
      "Beginning proof of iffClosure\n",
      "Recorded 'presuming' information\n"
     ]
    },
    {
     "name": "stdout",
     "output_type": "stream",
     "text": [
      "Presuming previous theorems (applied transitively).\n"
     ]
    },
    {
     "data": {
      "text/html": [
       "<strong id=\"iffClosure\">iffClosure:</strong> <a class=\"ProveItLink\" href=\"../__pv_it/a76575002fc5887de2f73029e88782529386b6f20/expr.ipynb\"><img src=\"../__pv_it/a76575002fc5887de2f73029e88782529386b6f20/expr.png\" style=\"display:inline;vertical-align:middle;\" /></a><br>(see <a class=\"ProveItLink\" href=\"../__pv_it/a76575002fc5887de2f73029e88782529386b6f20/dependencies.ipynb\">dependencies</a>)<br>"
      ],
      "text/plain": [
       "iffClosure: forall_{A, B in BOOLEANS} ((A <=> B) in BOOLEANS)"
      ]
     },
     "execution_count": 2,
     "metadata": {},
     "output_type": "execute_result"
    }
   ],
   "source": [
    "%proving iffClosure presuming []"
   ]
  },
  {
   "cell_type": "code",
   "execution_count": 3,
   "metadata": {},
   "outputs": [
    {
     "data": {
      "text/html": [
       "<table><tr><th>&nbsp;</th><th>step type</th><th>requirements</th><th>statement</th></tr>\n",
       "<tr><td>0</td><td>specialization</td><td>5, 1, 2</td><td><span style=\"font-size:20px;\"> &#x22A2;&nbsp;<a class=\"ProveItLink\" href=\"../__pv_it/a76575002fc5887de2f73029e88782529386b6f20/expr.ipynb\"><img src=\"../__pv_it/a76575002fc5887de2f73029e88782529386b6f20/expr.png\" style=\"display:inline;vertical-align:middle;\" /></a></span></td></tr>\n",
       "<tr><td>&nbsp;</td><td colspan=4 style=\"text-align:left\"><span style=\"font-size:20px;\"><a class=\"ProveItLink\" href=\"../../../../__pv_it/d2c2aa3c0d5707e464a75d67a5b95d12c40fc6e30/expr.ipynb\"><img src=\"../../../../__pv_it/d2c2aa3c0d5707e464a75d67a5b95d12c40fc6e30/expr.png\" style=\"display:inline;vertical-align:middle;\" /></a> : <a class=\"ProveItLink\" href=\"../__pv_it/42706cfbc957039f7d666aeff20cda7d084e696b0/expr.ipynb\"><img src=\"../__pv_it/42706cfbc957039f7d666aeff20cda7d084e696b0/expr.png\" style=\"display:inline;vertical-align:middle;\" /></a></span></td></tr><tr><td>1</td><td>specialization</td><td>5, 3, 4</td><td><span style=\"font-size:20px;\"> &#x22A2;&nbsp;<a class=\"ProveItLink\" href=\"../__pv_it/c1bdd220f97a723e8ec8125449ca37ff3ce9322d0/expr.ipynb\"><img src=\"../__pv_it/c1bdd220f97a723e8ec8125449ca37ff3ce9322d0/expr.png\" style=\"display:inline;vertical-align:middle;\" /></a></span></td></tr>\n",
       "<tr><td>&nbsp;</td><td colspan=4 style=\"text-align:left\"><span style=\"font-size:20px;\"><a class=\"ProveItLink\" href=\"../__pv_it/ad095e13b01bc019c369fe6e303d02452e55c56f0/expr.ipynb\"><img src=\"../__pv_it/ad095e13b01bc019c369fe6e303d02452e55c56f0/expr.png\" style=\"display:inline;vertical-align:middle;\" /></a> : <a class=\"ProveItLink\" href=\"../__pv_it/ff9c4dc2a77c6a4d589c82b132eed969f9d02a8d0/expr.ipynb\"><img src=\"../__pv_it/ff9c4dc2a77c6a4d589c82b132eed969f9d02a8d0/expr.png\" style=\"display:inline;vertical-align:middle;\" /></a>, relabeling <a class=\"ProveItLink\" href=\"../../../../__pv_it/2cbe72a7ad6f655694dd697106680215e8489b600/expr.ipynb\"><img src=\"../../../../__pv_it/2cbe72a7ad6f655694dd697106680215e8489b600/expr.png\" style=\"display:inline;vertical-align:middle;\" /></a> : <a class=\"ProveItLink\" href=\"../../../../__pv_it/077b2ff79244fb4582cbe22c6e3356fa92a52f2f0/expr.ipynb\"><img src=\"../../../../__pv_it/077b2ff79244fb4582cbe22c6e3356fa92a52f2f0/expr.png\" style=\"display:inline;vertical-align:middle;\" /></a></span></td></tr><tr><td>2</td><td>specialization</td><td>5, 6, 7</td><td><span style=\"font-size:20px;\"> &#x22A2;&nbsp;<a class=\"ProveItLink\" href=\"../__pv_it/7f00103c0e46f73df49ab7175d6591fbb612ccd20/expr.ipynb\"><img src=\"../__pv_it/7f00103c0e46f73df49ab7175d6591fbb612ccd20/expr.png\" style=\"display:inline;vertical-align:middle;\" /></a></span></td></tr>\n",
       "<tr><td>&nbsp;</td><td colspan=4 style=\"text-align:left\"><span style=\"font-size:20px;\"><a class=\"ProveItLink\" href=\"../__pv_it/ad095e13b01bc019c369fe6e303d02452e55c56f0/expr.ipynb\"><img src=\"../__pv_it/ad095e13b01bc019c369fe6e303d02452e55c56f0/expr.png\" style=\"display:inline;vertical-align:middle;\" /></a> : <a class=\"ProveItLink\" href=\"../__pv_it/fdcf938589f72b57d6e86e7729ca99550b4750680/expr.ipynb\"><img src=\"../__pv_it/fdcf938589f72b57d6e86e7729ca99550b4750680/expr.png\" style=\"display:inline;vertical-align:middle;\" /></a>, relabeling <a class=\"ProveItLink\" href=\"../../../../__pv_it/2cbe72a7ad6f655694dd697106680215e8489b600/expr.ipynb\"><img src=\"../../../../__pv_it/2cbe72a7ad6f655694dd697106680215e8489b600/expr.png\" style=\"display:inline;vertical-align:middle;\" /></a> : <a class=\"ProveItLink\" href=\"../../../../__pv_it/077b2ff79244fb4582cbe22c6e3356fa92a52f2f0/expr.ipynb\"><img src=\"../../../../__pv_it/077b2ff79244fb4582cbe22c6e3356fa92a52f2f0/expr.png\" style=\"display:inline;vertical-align:middle;\" /></a></span></td></tr><tr><td>3</td><td>specialization</td><td>12, 8</td><td><span style=\"font-size:20px;\"> &#x22A2;&nbsp;<a class=\"ProveItLink\" href=\"../__pv_it/a5185dce9815e359e6e5eba2ff744f14bb52060c0/expr.ipynb\"><img src=\"../__pv_it/a5185dce9815e359e6e5eba2ff744f14bb52060c0/expr.png\" style=\"display:inline;vertical-align:middle;\" /></a></span></td></tr>\n",
       "<tr><td>&nbsp;</td><td colspan=4 style=\"text-align:left\"><span style=\"font-size:20px;\"><a class=\"ProveItLink\" href=\"../../../../__pv_it/2cbe72a7ad6f655694dd697106680215e8489b600/expr.ipynb\"><img src=\"../../../../__pv_it/2cbe72a7ad6f655694dd697106680215e8489b600/expr.png\" style=\"display:inline;vertical-align:middle;\" /></a> : <a class=\"ProveItLink\" href=\"../__pv_it/150400ae4ce109865e4817de22128e68905d57ba0/expr.ipynb\"><img src=\"../__pv_it/150400ae4ce109865e4817de22128e68905d57ba0/expr.png\" style=\"display:inline;vertical-align:middle;\" /></a></span></td></tr><tr><td>4</td><td>specialization</td><td>10, 9</td><td><span style=\"font-size:20px;\"> &#x22A2;&nbsp;<a class=\"ProveItLink\" href=\"../__pv_it/dfb29a52cbcc567ccf06786b2747ad62e54513cc0/expr.ipynb\"><img src=\"../__pv_it/dfb29a52cbcc567ccf06786b2747ad62e54513cc0/expr.png\" style=\"display:inline;vertical-align:middle;\" /></a></span></td></tr>\n",
       "<tr><td>&nbsp;</td><td colspan=4 style=\"text-align:left\"><span style=\"font-size:20px;\"><a class=\"ProveItLink\" href=\"../../../../__pv_it/2cbe72a7ad6f655694dd697106680215e8489b600/expr.ipynb\"><img src=\"../../../../__pv_it/2cbe72a7ad6f655694dd697106680215e8489b600/expr.png\" style=\"display:inline;vertical-align:middle;\" /></a> : <a class=\"ProveItLink\" href=\"../__pv_it/b52657629bbdb9700de6105c8f80a75e2355cba00/expr.ipynb\"><img src=\"../__pv_it/b52657629bbdb9700de6105c8f80a75e2355cba00/expr.png\" style=\"display:inline;vertical-align:middle;\" /></a></span></td></tr><tr><td>5</td><td>theorem</td><td></td><td><span style=\"font-size:20px;\"> &#x22A2;&nbsp;<a class=\"ProveItLink\" href=\"../../__pv_it/aee6960d17505c798b9d1f24ff6ef5d96fac5a9a0/expr.ipynb\"><img src=\"../../__pv_it/aee6960d17505c798b9d1f24ff6ef5d96fac5a9a0/expr.png\" style=\"display:inline;vertical-align:middle;\" /></a></span></td></tr>\n",
       "<tr><td>&nbsp;</td><td colspan=4 style-\"text-align:left\"><a class=\"ProveItLink\" href=\"../../_proofs_/foldForallOverBool.ipynb\">proveit.logic.boolean.foldForallOverBool</a></td></tr><tr><td>6</td><td>specialization</td><td>10, 11</td><td><span style=\"font-size:20px;\"> &#x22A2;&nbsp;<a class=\"ProveItLink\" href=\"../__pv_it/aa9e1b6b02b1c59893d65e2b24d93d6878c497360/expr.ipynb\"><img src=\"../__pv_it/aa9e1b6b02b1c59893d65e2b24d93d6878c497360/expr.png\" style=\"display:inline;vertical-align:middle;\" /></a></span></td></tr>\n",
       "<tr><td>&nbsp;</td><td colspan=4 style=\"text-align:left\"><span style=\"font-size:20px;\"><a class=\"ProveItLink\" href=\"../../../../__pv_it/2cbe72a7ad6f655694dd697106680215e8489b600/expr.ipynb\"><img src=\"../../../../__pv_it/2cbe72a7ad6f655694dd697106680215e8489b600/expr.png\" style=\"display:inline;vertical-align:middle;\" /></a> : <a class=\"ProveItLink\" href=\"../__pv_it/64f5211c72e6d07f4f2009d2d9ea2199766680390/expr.ipynb\"><img src=\"../__pv_it/64f5211c72e6d07f4f2009d2d9ea2199766680390/expr.png\" style=\"display:inline;vertical-align:middle;\" /></a></span></td></tr><tr><td>7</td><td>specialization</td><td>12, 13</td><td><span style=\"font-size:20px;\"> &#x22A2;&nbsp;<a class=\"ProveItLink\" href=\"../__pv_it/680e4937c2819dbcfb89e456408ce02671cc949e0/expr.ipynb\"><img src=\"../__pv_it/680e4937c2819dbcfb89e456408ce02671cc949e0/expr.png\" style=\"display:inline;vertical-align:middle;\" /></a></span></td></tr>\n",
       "<tr><td>&nbsp;</td><td colspan=4 style=\"text-align:left\"><span style=\"font-size:20px;\"><a class=\"ProveItLink\" href=\"../../../../__pv_it/2cbe72a7ad6f655694dd697106680215e8489b600/expr.ipynb\"><img src=\"../../../../__pv_it/2cbe72a7ad6f655694dd697106680215e8489b600/expr.png\" style=\"display:inline;vertical-align:middle;\" /></a> : <a class=\"ProveItLink\" href=\"../__pv_it/7da4614eba375c61069b012d4d1136dad27103f80/expr.ipynb\"><img src=\"../__pv_it/7da4614eba375c61069b012d4d1136dad27103f80/expr.png\" style=\"display:inline;vertical-align:middle;\" /></a></span></td></tr><tr><td>8</td><td>theorem</td><td></td><td><span style=\"font-size:20px;\"> &#x22A2;&nbsp;<a class=\"ProveItLink\" href=\"../__pv_it/150400ae4ce109865e4817de22128e68905d57ba0/expr.ipynb\"><img src=\"../__pv_it/150400ae4ce109865e4817de22128e68905d57ba0/expr.png\" style=\"display:inline;vertical-align:middle;\" /></a></span></td></tr>\n",
       "<tr><td>&nbsp;</td><td colspan=4 style-\"text-align:left\"><a class=\"ProveItLink\" href=\"trueIffTrue.ipynb\">proveit.logic.boolean.implication.trueIffTrue</a></td></tr><tr><td>9</td><td>theorem</td><td></td><td><span style=\"font-size:20px;\"> &#x22A2;&nbsp;<a class=\"ProveItLink\" href=\"../__pv_it/f3ab6ddfcce7e8fc34c3a09fc25f58699c89c7fd0/expr.ipynb\"><img src=\"../__pv_it/f3ab6ddfcce7e8fc34c3a09fc25f58699c89c7fd0/expr.png\" style=\"display:inline;vertical-align:middle;\" /></a></span></td></tr>\n",
       "<tr><td>&nbsp;</td><td colspan=4 style-\"text-align:left\"><a class=\"ProveItLink\" href=\"trueIffFalseNegated.ipynb\">proveit.logic.boolean.implication.trueIffFalseNegated</a></td></tr><tr><td>10</td><td>theorem</td><td></td><td><span style=\"font-size:20px;\"> &#x22A2;&nbsp;<a class=\"ProveItLink\" href=\"../../__pv_it/12ae38d734bba4799de856e620724384bea97dbe0/expr.ipynb\"><img src=\"../../__pv_it/12ae38d734bba4799de856e620724384bea97dbe0/expr.png\" style=\"display:inline;vertical-align:middle;\" /></a></span></td></tr>\n",
       "<tr><td>&nbsp;</td><td colspan=4 style-\"text-align:left\"><a class=\"ProveItLink\" href=\"../../_proofs_/inBoolIfFalse.ipynb\">proveit.logic.boolean.inBoolIfFalse</a></td></tr><tr><td>11</td><td>theorem</td><td></td><td><span style=\"font-size:20px;\"> &#x22A2;&nbsp;<a class=\"ProveItLink\" href=\"../__pv_it/9ca7dfc26a8633d2b805e46b91bb217b2adacb6a0/expr.ipynb\"><img src=\"../__pv_it/9ca7dfc26a8633d2b805e46b91bb217b2adacb6a0/expr.png\" style=\"display:inline;vertical-align:middle;\" /></a></span></td></tr>\n",
       "<tr><td>&nbsp;</td><td colspan=4 style-\"text-align:left\"><a class=\"ProveItLink\" href=\"falseIffTrueNegated.ipynb\">proveit.logic.boolean.implication.falseIffTrueNegated</a></td></tr><tr><td>12</td><td>theorem</td><td></td><td><span style=\"font-size:20px;\"> &#x22A2;&nbsp;<a class=\"ProveItLink\" href=\"../../__pv_it/1d8cf37f5c705c7f67ba9cbc584342aedfb4c1440/expr.ipynb\"><img src=\"../../__pv_it/1d8cf37f5c705c7f67ba9cbc584342aedfb4c1440/expr.png\" style=\"display:inline;vertical-align:middle;\" /></a></span></td></tr>\n",
       "<tr><td>&nbsp;</td><td colspan=4 style-\"text-align:left\"><a class=\"ProveItLink\" href=\"../../_proofs_/inBoolIfTrue.ipynb\">proveit.logic.boolean.inBoolIfTrue</a></td></tr><tr><td>13</td><td>theorem</td><td></td><td><span style=\"font-size:20px;\"> &#x22A2;&nbsp;<a class=\"ProveItLink\" href=\"../__pv_it/7da4614eba375c61069b012d4d1136dad27103f80/expr.ipynb\"><img src=\"../__pv_it/7da4614eba375c61069b012d4d1136dad27103f80/expr.png\" style=\"display:inline;vertical-align:middle;\" /></a></span></td></tr>\n",
       "<tr><td>&nbsp;</td><td colspan=4 style-\"text-align:left\"><a class=\"ProveItLink\" href=\"falseIffFalse.ipynb\">proveit.logic.boolean.implication.falseIffFalse</a></td></tr></table>"
      ],
      "text/plain": [
       "\tstep type\trequirements\tstatement\n",
       "0\tspecialization\t5, 1, 2\t|= forall_{A, B in BOOLEANS} ((A <=> B) in BOOLEANS)\n",
       "\tP(A) : forall_{B in BOOLEANS} ((A <=> B) in BOOLEANS)\n",
       "1\tspecialization\t5, 3, 4\t|= forall_{B in BOOLEANS} ((TRUE <=> B) in BOOLEANS)\n",
       "\tP(B) : (TRUE <=> B) in BOOLEANS, relabeling A : B\n",
       "2\tspecialization\t5, 6, 7\t|= forall_{B in BOOLEANS} ((FALSE <=> B) in BOOLEANS)\n",
       "\tP(B) : (FALSE <=> B) in BOOLEANS, relabeling A : B\n",
       "3\tspecialization\t12, 8\t|= (TRUE <=> TRUE) in BOOLEANS\n",
       "\tA : TRUE <=> TRUE\n",
       "4\tspecialization\t10, 9\t|= (TRUE <=> FALSE) in BOOLEANS\n",
       "\tA : TRUE <=> FALSE\n",
       "5\ttheorem\t\t|= forall_{P | P(TRUE) , P(FALSE)} [forall_{A in BOOLEANS} P(A)]\n",
       "\tproveit.logic.boolean.foldForallOverBool\n",
       "6\tspecialization\t10, 11\t|= (FALSE <=> TRUE) in BOOLEANS\n",
       "\tA : FALSE <=> TRUE\n",
       "7\tspecialization\t12, 13\t|= (FALSE <=> FALSE) in BOOLEANS\n",
       "\tA : FALSE <=> FALSE\n",
       "8\ttheorem\t\t|= TRUE <=> TRUE\n",
       "\tproveit.logic.boolean.implication.trueIffTrue\n",
       "9\ttheorem\t\t|= [not](TRUE <=> FALSE)\n",
       "\tproveit.logic.boolean.implication.trueIffFalseNegated\n",
       "10\ttheorem\t\t|= forall_{A | [not](A)} (A in BOOLEANS)\n",
       "\tproveit.logic.boolean.inBoolIfFalse\n",
       "11\ttheorem\t\t|= [not](FALSE <=> TRUE)\n",
       "\tproveit.logic.boolean.implication.falseIffTrueNegated\n",
       "12\ttheorem\t\t|= forall_{A | A} (A in BOOLEANS)\n",
       "\tproveit.logic.boolean.inBoolIfTrue\n",
       "13\ttheorem\t\t|= FALSE <=> FALSE\n",
       "\tproveit.logic.boolean.implication.falseIffFalse"
      ]
     },
     "execution_count": 3,
     "metadata": {},
     "output_type": "execute_result"
    }
   ],
   "source": [
    "%qed"
   ]
  }
 ],
 "metadata": {
  "kernelspec": {
   "display_name": "Python 3",
   "language": "python",
   "name": "python3"
  },
  "language_info": {
   "codemirror_mode": {
    "name": "ipython",
    "version": 3
   },
   "file_extension": ".py",
   "mimetype": "text/x-python",
   "name": "python",
   "nbconvert_exporter": "python",
   "pygments_lexer": "ipython3",
   "version": "3.7.0"
  }
 },
 "nbformat": 4,
 "nbformat_minor": 1
}
