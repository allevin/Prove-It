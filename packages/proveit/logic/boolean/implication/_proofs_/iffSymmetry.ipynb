{
 "cells": [
  {
   "cell_type": "markdown",
   "metadata": {
    "collapsed": true,
    "deletable": true,
    "editable": true
   },
   "source": [
    "Proof of <a class=\"ProveItLink\" href=\"../../../../_context_.ipynb\">proveit</a>.<a class=\"ProveItLink\" href=\"../../../_context_.ipynb\">logic</a>.<a class=\"ProveItLink\" href=\"../../_context_.ipynb\">boolean</a>.<a class=\"ProveItLink\" href=\"../_context_.ipynb\">implication</a>.<a href=\"../_theorems_.ipynb#iffSymmetry\" class=\"ProveItLink\">iffSymmetry</a> theorem\n",
    "========"
   ]
  },
  {
   "cell_type": "code",
   "execution_count": 1,
   "metadata": {
    "collapsed": false,
    "deletable": true,
    "editable": true
   },
   "outputs": [],
   "source": [
    "import proveit\n",
    "context = proveit.Context('..') # the theorem's context is in the parent directory"
   ]
  },
  {
   "cell_type": "code",
   "execution_count": 2,
   "metadata": {
    "collapsed": false,
    "deletable": true,
    "editable": true
   },
   "outputs": [
    {
     "name": "stdout",
     "output_type": "stream",
     "text": [
      "Beginning proof of iffSymmetry\n",
      "Recorded 'presuming' information\n"
     ]
    },
    {
     "name": "stdout",
     "output_type": "stream",
     "text": [
      "Presuming previous theorem(s) in this context (and any of their dependencies).\n"
     ]
    },
    {
     "data": {
      "text/html": [
       "<strong id=\"iffSymmetry\">iffSymmetry:</strong> <a class=\"ProveItLink\" href=\"../__pv_it/56ee8cc64d78a1b299c2351567d0a801eb1d24c60/expr.ipynb\"><img src=\"../__pv_it/56ee8cc64d78a1b299c2351567d0a801eb1d24c60/expr.png\" style=\"display:inline;vertical-align:middle;\" /></a><br>(see <a class=\"ProveItLink\" href=\"../__pv_it/56ee8cc64d78a1b299c2351567d0a801eb1d24c60/dependencies.ipynb\">dependencies</a>)<br>"
      ],
      "text/plain": [
       "iffSymmetry: forall_{A, B | A <=> B} (B <=> A)"
      ]
     },
     "execution_count": 2,
     "metadata": {},
     "output_type": "execute_result"
    }
   ],
   "source": [
    "%proving iffSymmetry presuming []"
   ]
  },
  {
   "cell_type": "code",
   "execution_count": 3,
   "metadata": {
    "collapsed": false
   },
   "outputs": [
    {
     "data": {
      "text/html": [
       "<table><tr><th>&nbsp;</th><th>step type</th><th>requirements</th><th>statement</th></tr>\n",
       "<tr><td>0</td><td>generalizaton</td><td>1</td><td><span style=\"font-size:20px;\"> &#x22A2;&nbsp;<a class=\"ProveItLink\" href=\"../__pv_it/56ee8cc64d78a1b299c2351567d0a801eb1d24c60/expr.ipynb\"><img src=\"../__pv_it/56ee8cc64d78a1b299c2351567d0a801eb1d24c60/expr.png\" style=\"display:inline;vertical-align:middle;\" /></a></span></td></tr>\n",
       "<tr><td>1</td><td>specialization</td><td>2, 3, 4</td><td><span style=\"font-size:20px;\"><a class=\"ProveItLink\" href=\"../__pv_it/e50116be5e9fecc63354891410412e4e2485d8200/expr.ipynb\"><img src=\"../__pv_it/e50116be5e9fecc63354891410412e4e2485d8200/expr.png\" style=\"display:inline;vertical-align:middle;\" /></a> &#x22A2;&nbsp;<a class=\"ProveItLink\" href=\"../__pv_it/c9f1030a038e11100e74ac55ccc3a605e9e364220/expr.ipynb\"><img src=\"../__pv_it/c9f1030a038e11100e74ac55ccc3a605e9e364220/expr.png\" style=\"display:inline;vertical-align:middle;\" /></a></span></td></tr>\n",
       "<tr><td>&nbsp;</td><td colspan=4 style=\"text-align:left\"><span style=\"font-size:20px;\"><a class=\"ProveItLink\" href=\"../__pv_it/788ef5511dfca54206679fdb7d1131e45dc4c3d50/expr.ipynb\"><img src=\"../__pv_it/788ef5511dfca54206679fdb7d1131e45dc4c3d50/expr.png\" style=\"display:inline;vertical-align:middle;\" /></a>, <a class=\"ProveItLink\" href=\"../__pv_it/e7c8d46dcdb180a83ce1e8ffade07638386cbbad0/expr.ipynb\"><img src=\"../__pv_it/e7c8d46dcdb180a83ce1e8ffade07638386cbbad0/expr.png\" style=\"display:inline;vertical-align:middle;\" /></a></span></td></tr><tr><td>2</td><td>theorem</td><td></td><td><span style=\"font-size:20px;\"> &#x22A2;&nbsp;<a class=\"ProveItLink\" href=\"../__pv_it/2abf32a421c3a4a72948e5081ce3f4c03faf87130/expr.ipynb\"><img src=\"../__pv_it/2abf32a421c3a4a72948e5081ce3f4c03faf87130/expr.png\" style=\"display:inline;vertical-align:middle;\" /></a></span></td></tr>\n",
       "<tr><td>&nbsp;</td><td colspan=4 style-\"text-align:left\"><a class=\"ProveItLink\" href=\"iffIntro.ipynb\">proveit.logic.boolean.implication.iffIntro</a></td></tr><tr><td>3</td><td>specialization</td><td>5, 7</td><td><span style=\"font-size:20px;\"><a class=\"ProveItLink\" href=\"../__pv_it/e50116be5e9fecc63354891410412e4e2485d8200/expr.ipynb\"><img src=\"../__pv_it/e50116be5e9fecc63354891410412e4e2485d8200/expr.png\" style=\"display:inline;vertical-align:middle;\" /></a> &#x22A2;&nbsp;<a class=\"ProveItLink\" href=\"../__pv_it/58231239aa3ff75feba4340b3e09a295f56b05c20/expr.ipynb\"><img src=\"../__pv_it/58231239aa3ff75feba4340b3e09a295f56b05c20/expr.png\" style=\"display:inline;vertical-align:middle;\" /></a></span></td></tr>\n",
       "<tr><td>&nbsp;</td><td colspan=4 style=\"text-align:left\"><span style=\"font-size:20px;\"><a class=\"ProveItLink\" href=\"../__pv_it/e2ee195baea449ecf67452694c66cbd67b2c19580/expr.ipynb\"><img src=\"../__pv_it/e2ee195baea449ecf67452694c66cbd67b2c19580/expr.png\" style=\"display:inline;vertical-align:middle;\" /></a>, <a class=\"ProveItLink\" href=\"../__pv_it/3da54a39405853797ebcbd9cbd4fe26001295deb0/expr.ipynb\"><img src=\"../__pv_it/3da54a39405853797ebcbd9cbd4fe26001295deb0/expr.png\" style=\"display:inline;vertical-align:middle;\" /></a></span></td></tr><tr><td>4</td><td>specialization</td><td>6, 7</td><td><span style=\"font-size:20px;\"><a class=\"ProveItLink\" href=\"../__pv_it/e50116be5e9fecc63354891410412e4e2485d8200/expr.ipynb\"><img src=\"../__pv_it/e50116be5e9fecc63354891410412e4e2485d8200/expr.png\" style=\"display:inline;vertical-align:middle;\" /></a> &#x22A2;&nbsp;<a class=\"ProveItLink\" href=\"../__pv_it/e73a70c11cb4dd0ed268f52ee1583e255f8135080/expr.ipynb\"><img src=\"../__pv_it/e73a70c11cb4dd0ed268f52ee1583e255f8135080/expr.png\" style=\"display:inline;vertical-align:middle;\" /></a></span></td></tr>\n",
       "<tr><td>&nbsp;</td><td colspan=4 style=\"text-align:left\"><span style=\"font-size:20px;\"><a class=\"ProveItLink\" href=\"../__pv_it/e2ee195baea449ecf67452694c66cbd67b2c19580/expr.ipynb\"><img src=\"../__pv_it/e2ee195baea449ecf67452694c66cbd67b2c19580/expr.png\" style=\"display:inline;vertical-align:middle;\" /></a>, <a class=\"ProveItLink\" href=\"../__pv_it/3da54a39405853797ebcbd9cbd4fe26001295deb0/expr.ipynb\"><img src=\"../__pv_it/3da54a39405853797ebcbd9cbd4fe26001295deb0/expr.png\" style=\"display:inline;vertical-align:middle;\" /></a></span></td></tr><tr><td>5</td><td>theorem</td><td></td><td><span style=\"font-size:20px;\"> &#x22A2;&nbsp;<a class=\"ProveItLink\" href=\"../__pv_it/ff6aa31eb9c981edd08a448c443877708f95d3420/expr.ipynb\"><img src=\"../__pv_it/ff6aa31eb9c981edd08a448c443877708f95d3420/expr.png\" style=\"display:inline;vertical-align:middle;\" /></a></span></td></tr>\n",
       "<tr><td>&nbsp;</td><td colspan=4 style-\"text-align:left\"><a class=\"ProveItLink\" href=\"iffImpliesLeft.ipynb\">proveit.logic.boolean.implication.iffImpliesLeft</a></td></tr><tr><td>6</td><td>theorem</td><td></td><td><span style=\"font-size:20px;\"> &#x22A2;&nbsp;<a class=\"ProveItLink\" href=\"../__pv_it/314d948b7084310c1dc19721d8129adc9c252f5c0/expr.ipynb\"><img src=\"../__pv_it/314d948b7084310c1dc19721d8129adc9c252f5c0/expr.png\" style=\"display:inline;vertical-align:middle;\" /></a></span></td></tr>\n",
       "<tr><td>&nbsp;</td><td colspan=4 style-\"text-align:left\"><a class=\"ProveItLink\" href=\"iffImpliesRight.ipynb\">proveit.logic.boolean.implication.iffImpliesRight</a></td></tr><tr><td>7</td><td>assumption</td><td></td><td><span style=\"font-size:20px;\"><a class=\"ProveItLink\" href=\"../__pv_it/e50116be5e9fecc63354891410412e4e2485d8200/expr.ipynb\"><img src=\"../__pv_it/e50116be5e9fecc63354891410412e4e2485d8200/expr.png\" style=\"display:inline;vertical-align:middle;\" /></a> &#x22A2;&nbsp;<a class=\"ProveItLink\" href=\"../__pv_it/315d469da84f8bd61c78705cff800abb69da38bc0/expr.ipynb\"><img src=\"../__pv_it/315d469da84f8bd61c78705cff800abb69da38bc0/expr.png\" style=\"display:inline;vertical-align:middle;\" /></a></span></td></tr>\n",
       "</table>"
      ],
      "text/plain": [
       "\tstep type\trequirements\tstatement\n",
       "0\tgeneralizaton\t1\t|= forall_{A, B | A <=> B} (B <=> A)\n",
       "1\tspecialization\t2, 3, 4\t{A <=> B} |= B <=> A\n",
       "\tA -> B, B -> A\n",
       "2\ttheorem\t\t|= forall_{A, B | A => B , B => A} (A <=> B)\n",
       "\tproveit.logic.boolean.implication.iffIntro\n",
       "3\tspecialization\t5, 7\t{A <=> B} |= B => A\n",
       "\tA -> A, B -> B\n",
       "4\tspecialization\t6, 7\t{A <=> B} |= A => B\n",
       "\tA -> A, B -> B\n",
       "5\ttheorem\t\t|= forall_{A, B | A <=> B} (B => A)\n",
       "\tproveit.logic.boolean.implication.iffImpliesLeft\n",
       "6\ttheorem\t\t|= forall_{A, B | A <=> B} (A => B)\n",
       "\tproveit.logic.boolean.implication.iffImpliesRight\n",
       "7\tassumption\t\t{A <=> B} |= A <=> B"
      ]
     },
     "execution_count": 3,
     "metadata": {},
     "output_type": "execute_result"
    }
   ],
   "source": [
    "%qed # automation can handle this"
   ]
  },
  {
   "cell_type": "code",
   "execution_count": 4,
   "metadata": {
    "collapsed": true
   },
   "outputs": [],
   "source": []
  }
 ],
 "metadata": {
  "kernelspec": {
   "display_name": "Python 3",
   "language": "python",
   "name": "python3"
  },
  "language_info": {
   "codemirror_mode": {
    "name": "ipython",
    "version": 3
   },
   "file_extension": ".py",
   "mimetype": "text/x-python",
   "name": "python",
   "nbconvert_exporter": "python",
   "pygments_lexer": "ipython3",
   "version": "3.7.0"
  }
 },
 "nbformat": 4,
 "nbformat_minor": 0
}
