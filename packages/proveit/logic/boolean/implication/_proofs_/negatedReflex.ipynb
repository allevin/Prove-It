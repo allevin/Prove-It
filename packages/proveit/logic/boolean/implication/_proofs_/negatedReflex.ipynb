{
 "cells": [
  {
   "cell_type": "markdown",
   "metadata": {},
   "source": [
    "Proof of <a class=\"ProveItLink\" href=\"../../../../_context_.ipynb\">proveit</a>.<a class=\"ProveItLink\" href=\"../../../_context_.ipynb\">logic</a>.<a class=\"ProveItLink\" href=\"../../_context_.ipynb\">boolean</a>.<a class=\"ProveItLink\" href=\"../_context_.ipynb\">implication</a>.<a class=\"ProveItLink\" href=\"../_theorems_.ipynb#negatedReflex\">negatedReflex</a> theorem\n",
    "========"
   ]
  },
  {
   "cell_type": "code",
   "execution_count": 1,
   "metadata": {},
   "outputs": [],
   "source": [
    "import proveit\n",
    "from proveit import defaults\n",
    "from proveit._common_ import A, B\n",
    "from proveit.logic import Equals, TRUE, FALSE\n",
    "from proveit.logic.boolean.implication import Implies\n",
    "from proveit.logic.boolean.implication._axioms_ import untrueAntecedentImplication\n",
    "from proveit.logic.boolean.implication._theorems_ import notTrueViaContradiction\n",
    "from proveit.logic.boolean.negation import Not\n",
    "context = proveit.Context('..') # the theorem's context is in the parent directory"
   ]
  },
  {
   "cell_type": "code",
   "execution_count": 2,
   "metadata": {},
   "outputs": [
    {
     "name": "stdout",
     "output_type": "stream",
     "text": [
      "Beginning proof of negatedReflex\n",
      "Recorded 'presuming' information\n"
     ]
    },
    {
     "name": "stdout",
     "output_type": "stream",
     "text": [
      "Presuming previous theorems (applied transitively).\n"
     ]
    },
    {
     "data": {
      "text/html": [
       "<strong id=\"negatedReflex\">negatedReflex:</strong> <a class=\"ProveItLink\" href=\"../__pv_it/09ba5ac32acc34f55c0fa248e2ddfca3f733fc910/expr.ipynb\"><img src=\"data:image/png;base64,iVBORw0KGgoAAAANSUhEUgAAANoAAAAXBAMAAACfRUyCAAAAMFBMVEX///8QEBC6urrMzMxUVFRm\n",
       "ZmZERETc3NwyMjKqqqp2dnaIiIiYmJgiIiLu7u4AAAAU9Wx4AAAAAXRSTlMAQObYZgAAAzhJREFU\n",
       "SMe9Vk1ME1EQ/mhpl7bbpYkHPSkmxosm9GAi0Zg2WtEbRCmeDDWGohdoogGNQaqX6kV6UIPxIBcV\n",
       "Y0JqIgfTAzVeEA/ggYuCNEYMMUGJ/IlWdObtbndZ21RT4kve2+mb2fnmfTPztsB/HdkN8rOrpIVc\n",
       "A4yz8KpsMHuQ3DUshuqvFtYfoHkceMTyjbLRqpijigjQUlNQ38s2QCc9pEjZaGleAimaQX1LMbM4\n",
       "TdHI/SIoR7JstK28DMeAsf51x9XGxRZSKT7ID7u6ussGs8V5PUXzdR7DFjT0qWEm+CywHI2+Kent\n",
       "XOHtPCcOcaJF4EK7oX1sBJO9l6HHfeAQ0Ca2EmK9vRSu9wsLk1dJOKuKGTuujnDTaezLs8bO7Ivp\n",
       "oUnx8+QUj+lGXf1epBR9wA4oggb5q5pPHzw+FpwmNFUeM5fbc+AJ3PpOBQueFWDORB/6dHUNehh5\n",
       "O+CFhwPDTE7lJAjbihXtrqixloxpqwmojalx0qhmv06K0pMz2ShXVDh7KNTAZR8gfcYrEjs4ITTe\n",
       "FBzjVjRBtXtOZeaOWN8SXyINBlo1d/h302t1g1ra6PBxFU2J7xH4qajQfPFjJGZFE9Tud6pt6WS1\n",
       "sgA5obUZM8n1EqCzV64aeZtqN4rJ61OZRNtB3qnkUGnUpp+2w4JmF4QF6czN0Wj0zCYO90e6PstJ\n",
       "1xKb0dqtJ268dlOvMUKrmidhhOYtQdxLDAvVABVA1kB7QO7jonPkpGdeK3e68NxxyNTRdZpDd6Pa\n",
       "bvYtRktLOvAse1tTOwAVXJzKRLhDGLYSmcn1Z4u4GG0u3LymHbU1BmcjlFUDzUYRN/8Kha6ZCsmp\n",
       "NUzntgTkjm8UD9/YMqM4YgiINiMXtX4Lmo0TdgL2BQyFaRzmikjCtgDs1G02F/gsWDcUny7tJgcZ\n",
       "KQFpDdKEJW8RhSK3UdQ5fKbxibnoyaKboh3VbUb/4npzpzThwzKkhkl7DgNL4aNJC5of76BQw5z/\n",
       "KXjiEnb3hpuu0/NYoSu42Ji1fl7/uD/U8cxsdNkk5ytQCpZGO2L5vbcI2sci77tSefFSSTCP37KR\n",
       "KYLmyhR2ULlhf4/WeXpR2GbwH33+BvwYy18VzUzqAAAAAElFTkSuQmCC\n",
       "\" style=\"display:inline;vertical-align:middle;\" /></a><br>(see <a class=\"ProveItLink\" href=\"../__pv_it/09ba5ac32acc34f55c0fa248e2ddfca3f733fc910/dependencies.ipynb\">dependencies</a>)<br>"
      ],
      "text/plain": [
       "negatedReflex: forall_{A, B | [not](A => B)} (B => A)"
      ]
     },
     "execution_count": 2,
     "metadata": {},
     "output_type": "execute_result"
    }
   ],
   "source": [
    "%proving negatedReflex presuming []"
   ]
  },
  {
   "cell_type": "code",
   "execution_count": 3,
   "metadata": {},
   "outputs": [
    {
     "data": {
      "text/html": [
       "<strong id=\"defaults.assumptions\">defaults.assumptions:</strong> <a class=\"ProveItLink\" href=\"../__pv_it/89754c25d365496e8df5378343e0e439004fd2760/expr.ipynb\"><img src=\"data:image/png;base64,iVBORw0KGgoAAAANSUhEUgAAAG4AAAAVBAMAAABVkMbKAAAAMFBMVEX////c3NwiIiJERESqqqqY\n",
       "mJh2dnZmZmYQEBDu7u4yMjJUVFTMzMyIiIi6uroAAAAs73DqAAAAAXRSTlMAQObYZgAAAaBJREFU\n",
       "OMtjYCAX8F1A4rwlqJz1AQQznEYS5NkAoRSwadj/e/fmdQwMNQwQvBJJjmsChPqAzSYOAwaG+gcM\n",
       "XCAFDAy8yM68C6GCfiKEJsBZ54Eqz29gYE1gAGGOCUj6OsEko/tHhBDCOfcFGBjiExg4GxhA+BVy\n",
       "EC0AU7y8/xBir+EsCyDWANpiwgDCZUj62BPA1EuWrwgxNrg/fjMwSFkC6XQwXoocLAEgkvMBz1+w\n",
       "KUpg8B0W1r/vXlcFMbzAuA+mAGgXxwOwaxkYvyMZxrIOQvMCPT0JFE8vwPgfUtTxg/Wd3r37M3L4\n",
       "z+oDU8zA8OAFeeA8GGPqAxJdyGlhGSTE+YEKWL/B9bUg6eNwALkLFGxI/lOGRtR5oOe5v8DdaYqk\n",
       "jxkULiJAvB7JexuQok8eFFFRYJwOU3AAGOYFwNAESdkjEoMUUvTxdE2Ax8Mj5HhXYGC0+CXAEPx/\n",
       "OVzMEEoX/9+9exU4ntaBMYcAksZGzNR8AF0Ams5YE5DEwojIr6AEBMJY8hFeMAuKpZHEGDcQ1rcR\n",
       "ihmRM6AsQW28B8AYAFPMcJXICbxbAAAAAElFTkSuQmCC\n",
       "\" style=\"display:inline;vertical-align:middle;\" /></a><br>"
      ],
      "text/plain": [
       "defaults.assumptions: ([not](A => B))"
      ]
     },
     "execution_count": 3,
     "metadata": {},
     "output_type": "execute_result"
    }
   ],
   "source": [
    "defaults.assumptions = negatedReflex.allConditions()"
   ]
  },
  {
   "cell_type": "code",
   "execution_count": 4,
   "metadata": {},
   "outputs": [
    {
     "data": {
      "text/html": [
       "<strong id=\"BeqT\">BeqT:</strong> <a class=\"ProveItLink\" href=\"../__pv_it/832229df1740961f676ef0929f5b88a1d2e69c8f0/expr.ipynb\"><img src=\"data:image/png;base64,iVBORw0KGgoAAAANSUhEUgAAADwAAAAOBAMAAACBYGLnAAAAMFBMVEX///+qqqru7u4iIiJ2dnbc\n",
       "3NyIiIjMzMxmZmYQEBC6uroyMjJERERUVFSYmJgAAADLUcuvAAAAAXRSTlMAQObYZgAAAItJREFU\n",
       "GNNjYGB4+//u3dMLGFBBszEI2ICYcxgYOH4xYIAKCMX+DYj/4pRm+8rAwPcFpzTPBAYG5kk4pfkv\n",
       "MLDuUcApXX8trfkBmNW9GwT2okrnBzAw2TLg1H0SpOQBTmmQn9474JJm/wck7gugBRVcGuRt1t84\n",
       "7QZ5u3ITLmmO83/v3t6HRZahBIgBOGYufu9fDlQAAAAASUVORK5CYII=\n",
       "\" style=\"display:inline;vertical-align:middle;\" /></a><br>"
      ],
      "text/plain": [
       "BeqT: B = TRUE"
      ]
     },
     "execution_count": 4,
     "metadata": {},
     "output_type": "execute_result"
    }
   ],
   "source": [
    "BeqT = Equals(B,TRUE)"
   ]
  },
  {
   "cell_type": "code",
   "execution_count": 5,
   "metadata": {},
   "outputs": [
    {
     "data": {
      "text/html": [
       "<strong id=\"AimplBeqT\">AimplBeqT:</strong> <span style=\"font-size:20px;\"><a class=\"ProveItLink\" href=\"../__pv_it/958dbffdaffe6c08c097b25a1a1617d7cda14ff20/expr.ipynb\"><img src=\"data:image/png;base64,iVBORw0KGgoAAAANSUhEUgAAAE8AAAAVBAMAAAD1D64kAAAAMFBMVEX////c3NxERESqqqpUVFS6\n",
       "urrMzMwyMjIQEBCIiIh2dnYiIiLu7u5mZmaYmJgAAABXZE4RAAAAAXRSTlMAQObYZgAAAORJREFU\n",
       "KM9jYGDgu8eAH7CtEgBRPLsYCAG2ZhDJ+QFI8Pl/cXEqRZPn3Q0GCgwM10FcrgYQyQHk3g/ANOsC\n",
       "mFqBUJg/AYgdiFA4H+je9wuIUKgBxDsOEKHwCwODuA4DXoW8BSCBLzPn7oN4tRwMHFAUvgcRGSC/\n",
       "cn5kYDjtgNNEdiCV0gZiMQHt5/yHUyGD+gMGhogEIIMfaBrfL5wKuUHhwQJyYz5QB8tn1OhAdyPX\n",
       "BmgwyhcwEA4eYDCytR8grPDSfxeX8gfY0s0C9ADHD0hTyEeEQnB65NlJOIW3gim+xcTkGQDdy06N\n",
       "dVe8nQAAAABJRU5ErkJggg==\n",
       "\" style=\"display:inline;vertical-align:middle;\" /></a> <a class=\"ProveItLink\" href=\"../__pv_it/d1c5f9a70639db767b844160701c3be7b6fba01b0/proof.ipynb\" style=\"text-decoration: none\">&#x22A2;&nbsp;</a><a class=\"ProveItLink\" href=\"../__pv_it/09b284db6904d541e92de23421e45aa485e45bf10/expr.ipynb\"><img src=\"data:image/png;base64,iVBORw0KGgoAAAANSUhEUgAAAHsAAAAVBAMAAACUF4xmAAAAMFBMVEX///92dnYQEBBERERUVFS6\n",
       "urqIiIhmZmaqqqrc3Nzu7u6YmJgyMjIiIiLMzMwAAACFkkdwAAAAAXRSTlMAQObYZgAAAXpJREFU\n",
       "OMtjYKAVYE0goGArjPEWm+wTIN7y38XFJgBNovYuCFxmYH8AFTiPTfspEKHMwMD+FVPuOZg8AOFw\n",
       "31+AkIEx2UBu5/sGxF9wad8I4cyon4BmKRAwgcxh+wk0/CMu7YsgnIR8JO+FQOkYEMGswMDAq4VL\n",
       "O3MDOIgX9G9AyDBCA7wQRPA7MHAeXoBLO2MBiFzK8B6shR0cone/Q1ScBhHv3dJqIUbXnAGBIyja\n",
       "OcBhF8AwvwDJZI6jYEoVRORPYOC6woDLdlYFUOi6uPgbIMutAesER5cRyIgNuLTzfQCZAQzlA0hS\n",
       "fAcXwLWD4my/AF7twODjVUDy+2VIUGmA5H8DCf8G5KSG7nhOoCzPBySvO0Boa2i0c/7B6XduoKPX\n",
       "gCLwF0JmDpQWh0b7o1MMeCJusv5JBm77P4igt4TSsUDf2H9x8TmNLT88BJM8AZgysGzENIFgll6E\n",
       "R45bgKB2MXySpwjp5jqAT3YKIe0seL3HSaiwymNgAACikXQ7Zi6c2gAAAABJRU5ErkJggg==\n",
       "\" style=\"display:inline;vertical-align:middle;\" /></a></span><br>"
      ],
      "text/plain": [
       "AimplBeqT: {B = TRUE} |- A => (B = TRUE)"
      ]
     },
     "execution_count": 5,
     "metadata": {},
     "output_type": "execute_result"
    }
   ],
   "source": [
    "AimplBeqT = BeqT.prove([BeqT]).asImplication(A)"
   ]
  },
  {
   "cell_type": "code",
   "execution_count": 6,
   "metadata": {},
   "outputs": [
    {
     "data": {
      "text/html": [
       "<strong id=\"nImplAB\">nImplAB:</strong> <a class=\"ProveItLink\" href=\"../__pv_it/645ce987d0174f228106544053fcde37e024fae30/expr.ipynb\"><img src=\"data:image/png;base64,iVBORw0KGgoAAAANSUhEUgAAAF8AAAAVBAMAAADSoS/MAAAAMFBMVEX////c3NxERESqqqqYmJgQ\n",
       "EBDu7u4yMjKIiIi6urpUVFTMzMx2dnYiIiJmZmYAAABjE816AAAAAXRSTlMAQObYZgAAAWhJREFU\n",
       "OMtjYCAfcDYQVOKJwtsFofZiU+n1f9Uq9QkMfBuQBcsgVD1Ws4MYGPh+MjAUIAlxQFzEcj8BLsQG\n",
       "Z3H/AOJfDAw+SBpYIQqF3wvAhdjhejk+Ao36w8CQiqRhOoRq6J+ACIYFMBZTAAMDbxiQNkBoeANR\n",
       "k2DvgBA7AWPwL2BgLALax/MAIVkCJjMZ9oP98vYuCNyHye9f0fEWZBBzAUTmDpAdCZaZwCCPZAiD\n",
       "OdR9/QIMbLdADghARMFPcGisWrVeAUkDWylEhypIE9AK7g9oGjiBoYUc1tuPQWhgiDL4H0DVEAxi\n",
       "AAOBNwDhh7tq0Gj4AiTWG6A6SQWIGYFi7B8QFlghRQPjd1C0Qq3nBuJzQJwOCvJvcPWMBUjRsBWU\n",
       "dJCDdS4Dg1B8IQOL/ne4IBM00vn0f61aDg529glISUMAI8VxY4ggJw2WA0TkmRNYkjc+wIYc5AxS\n",
       "hDVwoTibkXAW7WZgAAB3jV14rHTBjQAAAABJRU5ErkJggg==\n",
       "\" style=\"display:inline;vertical-align:middle;\" /></a><br>"
      ],
      "text/plain": [
       "nImplAB: [not](A => B)"
      ]
     },
     "execution_count": 6,
     "metadata": {},
     "output_type": "execute_result"
    }
   ],
   "source": [
    "nImplAB = Not(Implies(A,B))"
   ]
  },
  {
   "cell_type": "code",
   "execution_count": 7,
   "metadata": {},
   "outputs": [
    {
     "data": {
      "text/html": [
       "<strong id=\"AimplB\">AimplB:</strong> <a class=\"ProveItLink\" href=\"../__pv_it/48bda0a4ca92dc8bbf3ec9809bdb1d7b90d71c610/expr.ipynb\"><img src=\"data:image/png;base64,iVBORw0KGgoAAAANSUhEUgAAAEAAAAAPBAMAAACmSdRUAAAAMFBMVEX///92dnYQEBBERERUVFS6\n",
       "urqIiIhmZmaqqqrc3Nzu7u6YmJgyMjIiIiLMzMwAAACFkkdwAAAAAXRSTlMAQObYZgAAAOhJREFU\n",
       "GNNjYACBtwxYwJb/Li42ARD2eWwKGJQZGNi/glnc9xcghOFMvm9A/AXMnFE/AaHgFIzB9hOo9SOY\n",
       "mZAfgFAQAmMwKzAw8GqBWKwL+jcgFDAmQBn8Dgych8EWLmV4DxZkvwsG36EK3rul1UI0BjDML0By\n",
       "PMdRCJ0/gYHrCti1Li7+BsjeW6MKpoxAikBGsDIwMB1Akuc7CPEpyIf7BYBEA9CxCkhuuAyR5/sN\n",
       "JPyBkpxAzPMByQkOiGDg/AOyEeTlXwgFc5CC4REw1Cbrn2Tgtv+D8IYlhGK3/+LicxpbFD1A5QIA\n",
       "YgVCLvPPxacAAAAASUVORK5CYII=\n",
       "\" style=\"display:inline;vertical-align:middle;\" /></a><br>"
      ],
      "text/plain": [
       "AimplB: A => B"
      ]
     },
     "execution_count": 7,
     "metadata": {},
     "output_type": "execute_result"
    }
   ],
   "source": [
    "AimplB = nImplAB.operands[0]"
   ]
  },
  {
   "cell_type": "code",
   "execution_count": 8,
   "metadata": {},
   "outputs": [
    {
     "data": {
      "text/html": [
       "<span style=\"font-size:20px;\"><a class=\"ProveItLink\" href=\"../__pv_it/b9713b405570857a29694d61fe5e2536eab03fc30/expr.ipynb\"><img src=\"data:image/png;base64,iVBORw0KGgoAAAANSUhEUgAAAHUAAAAVBAMAAACK3rzVAAAAMFBMVEX////c3NxERESqqqpUVFS6\n",
       "urrMzMwyMjIQEBCIiIh2dnYiIiLu7u5mZmaYmJgAAABXZE4RAAAAAXRSTlMAQObYZgAAAbZJREFU\n",
       "OMtjYGDgu8dAMmBbJQCieHahiEYS1McXANLcDGJyfkAx0AFCbcCmyf+Li1MpA8M1EOc6iOBqQJZn\n",
       "PwChPmCzkUOBgeF+AAM7iL0CU+9MCPX6D0LoAJyVPwGIHRj4FmDX2wMmGW0/IoRq4Kz5wAB6v4CB\n",
       "pwGrXtYCMMXJ+RUhFgJnaQDxDqAzlLHq5V0ApmKY/yHEuCbAWF8YGMR1gPRamF7eAuSgegCOtgC2\n",
       "n2Cp3WDwFxYHX2bO3QdimAPxexAjIwCmCGgnRwDY5QyMf5EMZC6F0JzAQDgNisMIkC0XGBhS2pCj\n",
       "lh+sN8XF5RNyAB5vBVNMQN9xgjyTD+KpA50YkYChF0i0I6eXKkg08QMV8P2C6uUGhQxLAZJeDgOQ\n",
       "G0HBieTfTdAYzgfaxPIZ6mawf7k2IOllAoWVMBDXI3nXASl65UE2PceMI6DjuYAhwAOS1kekJnGk\n",
       "6GVrP4AcR6hpYwMDo8Z3AYZH/2vhYopQ+tJ/F5dycByWYk+TjZg5IAFdAEeaZHhFRMYHJzSwXj5s\n",
       "eRAvOA7Pvzw7kcUZHQjrdQRFCiS58C1GlpAkqJUzAVpeAQCj4XXVPjLA8gAAAABJRU5ErkJggg==\n",
       "\" style=\"display:inline;vertical-align:middle;\" /></a> <a class=\"ProveItLink\" href=\"../__pv_it/d62a73ed523b825c1acd2118250568ee2173db580/proof.ipynb\" style=\"text-decoration: none\">&#x22A2;&nbsp;</a><a class=\"ProveItLink\" href=\"../__pv_it/c9d2f2552d0b7f30ff062a30fc5729340f4d26d40/expr.ipynb\"><img src=\"data:image/png;base64,iVBORw0KGgoAAAANSUhEUgAAAJsAAAAVBAMAAACj9YEXAAAAMFBMVEX////c3NwiIiJERESqqqqY\n",
       "mJh2dnZmZmYQEBDu7u4yMjJUVFTMzMyIiIi6uroAAAAs73DqAAAAAXRSTlMAQObYZgAAAdJJREFU\n",
       "OMtjYKAy4LuAxHlLUDnrAwjGBU4jsXk2QCgFbObs/7178zoGhhoGCEYB7EpgYMDAsBJJlGsChPqA\n",
       "zV4OoOL6BwxcIAVYpHkKQCQvsl/vQqignwihCXDWeaDK8xsYWBMYwBi7cRwTkIQ6wSSj+0eEEMLx\n",
       "9wUYGOITGDgbGMAYu3GvkGNlAZji5f2HEHsNZ1kAsQbQchMGCMZqXBlygEL88JLlK0KMDR4YvxkY\n",
       "pCyBdDoUYzVuKXJMBIBIzgc8f5Fi6ztM+e+711VBDC8oZmBfBQYbkI3rg+kDuowDnJ74GBi/I9nB\n",
       "sg5C8wIDdBJI6wsoxuq6f0hJjh9s3Onduz8jq5vVB6aYgcHPCwqF81BMpHFAogtZ2TJI3PMDFbB+\n",
       "I2RcC5JxHA4gz4EiECnslKEp6TwwYLm/IHsWkRUQxpkiGccMigoRIF6PFHQbkJKdPCglRUExVtfB\n",
       "o/wAMFEARThBOuwRaVsKKdnxdE0glFAeISdjBQZGi18CDMH/l8PFDKF08f/du1eBE9I6KEY3Dpxo\n",
       "OQSQhBoxVR1AF8CVyaDlDnJuDiOifARlE7YLOKWxFFB4wSwoxgGkkdiMGwgbtxGKcQBGZIfLEjSN\n",
       "9wAEYwcAtn19imdkCP8AAAAASUVORK5CYII=\n",
       "\" style=\"display:inline;vertical-align:middle;\" /></a></span>"
      ],
      "text/plain": [
       "{[not](A => B)} |- [not](A => B) = TRUE"
      ]
     },
     "execution_count": 8,
     "metadata": {},
     "output_type": "execute_result"
    }
   ],
   "source": [
    "nImplAB.evaluation()"
   ]
  },
  {
   "cell_type": "code",
   "execution_count": 9,
   "metadata": {},
   "outputs": [
    {
     "data": {
      "text/html": [
       "<span style=\"font-size:20px;\"><a class=\"ProveItLink\" href=\"../__pv_it/c038bab5a924b832cc23659aa1b75c788f2573db0/expr.ipynb\"><img src=\"data:image/png;base64,iVBORw0KGgoAAAANSUhEUgAAAI8AAAAVBAMAAACNsKCFAAAAMFBMVEX////c3NxERESqqqpUVFS6\n",
       "urrMzMwyMjIQEBCIiIh2dnYiIiLu7u5mZmaYmJgAAABXZE4RAAAAAXRSTlMAQObYZgAAAidJREFU\n",
       "OMtjYGDgu8dAGWBbJQCieHbhVhJJ0BC+AJBJzSAm5wcQ+eS/i4t6ALpVDhBqAzYT/L+4OJUyMFwD\n",
       "ca6DCK4GsEQTAwPvVzTF7Acg1AdsbuFQYGC4H8DADmKvQBjE9hOIv6CpnQmhXv9BCB2As/InALED\n",
       "A98CVIM4PwJd+wvNoB4wyWj7ESFUA2fNB4bw+wUMPA2oBjEBSe4eVHNYC8AUJyeSl0PgLA0g3gF0\n",
       "oDKqQfwODIxFB1AN4l0ApmKY/yHEuCbAWMBwENcB0mthBvGC7c33nHn7AXpYgwV4AkDhB1S3Gwz+\n",
       "wmL0y8y5+0AMcyB+D2JkBEB9zLMF6hCwBqBrOMAyrAyMf5FMZy6F0KBAPQ1KHhEgKy8wMKS0wX08\n",
       "/wFqEuIHG5Ti4vIJ2Z3HWxlggcoJ8nM+iKcO1BqRAPUxKA6wGAQk2pETaRUkJIGBColmkEHcIJ0s\n",
       "oDBiA5ntb4BqEAeIzwyKHKQw2gSNkXygG1g+Q70GDiOuDVAfM35HSm8gg5hAXhUG4nqkIHJASkby\n",
       "IDc8R4l+kI8zahh4fsN1AD3MBQxCHpBafUS6EEdKRmztB5CjH2QQr/4XF/c6oLZ+AeQEuYGBUeO7\n",
       "AMOj/7VwMUUofQmYycvBkVOKmiBhepENYmjEzKoJ6ALoWQRWOKAoekVEqQZO6mCD+HAbxH6AsEHH\n",
       "4eURz04k4QkoihgdCBvkCIpiSBrlW4xTlSRBczgToGU2AN9sk71RZRqVAAAAAElFTkSuQmCC\n",
       "\" style=\"display:inline;vertical-align:middle;\" /></a> <a class=\"ProveItLink\" href=\"../__pv_it/b2f381d86665cd63cdcad3e64448cd7907966a0c0/proof.ipynb\" style=\"text-decoration: none\">&#x22A2;&nbsp;</a><a class=\"ProveItLink\" href=\"../../__pv_it/8f1f7fac882de28c72b62ab80a1700b6d8fd066b0/expr.ipynb\"><img src=\"data:image/png;base64,iVBORw0KGgoAAAANSUhEUgAAAA4AAAAOBAMAAADtZjDiAAAAG1BMVEX///9EREQQEBAiIiJmZmbM\n",
       "zMyIiIjc3NwAAACryk5kAAAAAXRSTlMAQObYZgAAABlJREFUCNdjYGBgKGOAgBBa0s7GxkbGxoYA\n",
       "FMUF2aBfHgoAAAAASUVORK5CYII=\n",
       "\" style=\"display:inline;vertical-align:middle;\" /></a></span>"
      ],
      "text/plain": [
       "{B , [not](A => B)} |- FALSE"
      ]
     },
     "execution_count": 9,
     "metadata": {},
     "output_type": "execute_result"
    }
   ],
   "source": [
    "nImplAB.deriveContradiction([B, Not(Implies(A,B))])"
   ]
  },
  {
   "cell_type": "code",
   "execution_count": 10,
   "metadata": {},
   "outputs": [
    {
     "data": {
      "text/html": [
       "<span style=\"font-size:20px;\"><a class=\"ProveItLink\" href=\"../__pv_it/b9713b405570857a29694d61fe5e2536eab03fc30/expr.ipynb\"><img src=\"data:image/png;base64,iVBORw0KGgoAAAANSUhEUgAAAHUAAAAVBAMAAACK3rzVAAAAMFBMVEX////c3NxERESqqqpUVFS6\n",
       "urrMzMwyMjIQEBCIiIh2dnYiIiLu7u5mZmaYmJgAAABXZE4RAAAAAXRSTlMAQObYZgAAAbZJREFU\n",
       "OMtjYGDgu8dAMmBbJQCieHahiEYS1McXANLcDGJyfkAx0AFCbcCmyf+Li1MpA8M1EOc6iOBqQJZn\n",
       "PwChPmCzkUOBgeF+AAM7iL0CU+9MCPX6D0LoAJyVPwGIHRj4FmDX2wMmGW0/IoRq4Kz5wAB6v4CB\n",
       "pwGrXtYCMMXJ+RUhFgJnaQDxDqAzlLHq5V0ApmKY/yHEuCbAWF8YGMR1gPRamF7eAuSgegCOtgC2\n",
       "n2Cp3WDwFxYHX2bO3QdimAPxexAjIwCmCGgnRwDY5QyMf5EMZC6F0JzAQDgNisMIkC0XGBhS2pCj\n",
       "lh+sN8XF5RNyAB5vBVNMQN9xgjyTD+KpA50YkYChF0i0I6eXKkg08QMV8P2C6uUGhQxLAZJeDgOQ\n",
       "G0HBieTfTdAYzgfaxPIZ6mawf7k2IOllAoWVMBDXI3nXASl65UE2PceMI6DjuYAhwAOS1kekJnGk\n",
       "6GVrP4AcR6hpYwMDo8Z3AYZH/2vhYopQ+tJ/F5dycByWYk+TjZg5IAFdAEeaZHhFRMYHJzSwXj5s\n",
       "eRAvOA7Pvzw7kcUZHQjrdQRFCiS58C1GlpAkqJUzAVpeAQCj4XXVPjLA8gAAAABJRU5ErkJggg==\n",
       "\" style=\"display:inline;vertical-align:middle;\" /></a> <a class=\"ProveItLink\" href=\"../__pv_it/a025e9e0c5d779097980e45114ea6f5eaa426a2f0/proof.ipynb\" style=\"text-decoration: none\">&#x22A2;&nbsp;</a><a class=\"ProveItLink\" href=\"../__pv_it/d6cb8a2525d11f90725a6d0ce4b93fd89964a9630/expr.ipynb\"><img src=\"data:image/png;base64,iVBORw0KGgoAAAANSUhEUgAAADwAAAAUCAMAAADm3a4bAAAAPFBMVEX///8LCwsYGBgNDQ0oKCiq\n",
       "qqru7u4iIiJ2dnbc3NyIiIjMzMxmZmYQEBC6uroyMjJERERUVFSYmJgAAABvjpBjAAAAAXRSTlMA\n",
       "QObYZgAAAMBJREFUOMvFk0cSwyAMRZViMM1C6P53jRNgYgwBxptoQRF68/kUgHGsqrcaiJn28Lg1\n",
       "VhV+x1YewqekiwPLDZqqnLHFjHXqqSvchDVHW4HXCeET7F3spRNVoYcBHHer0FcseDOAd6taayvD\n",
       "IWfxE8/Hu6UOnCwLSVPCJZwtaw6nso1gBOcLqg8b1Qg2WZB4Kd/S/Va+pQacb1kxTgkXcLJsHIoZ\n",
       "x0fY+vgrEM+n9UsYzDr+iouF6yHFdfZvwrANK15yAAmLgsTQpAAAAABJRU5ErkJggg==\n",
       "\" style=\"display:inline;vertical-align:middle;\" /></a></span>"
      ],
      "text/plain": [
       "{[not](A => B)} |- B != TRUE"
      ]
     },
     "execution_count": 10,
     "metadata": {},
     "output_type": "execute_result"
    }
   ],
   "source": [
    "notTrueViaContradiction.specialize({A:B})"
   ]
  },
  {
   "cell_type": "code",
   "execution_count": 11,
   "metadata": {},
   "outputs": [
    {
     "data": {
      "text/html": [
       "<span style=\"font-size:20px;\"> <a class=\"ProveItLink\" href=\"../_axioms_.ipynb#untrueAntecedentImplication\" style=\"text-decoration: none\">&#x22A2;&nbsp;</a><a class=\"ProveItLink\" href=\"../__pv_it/9a87e251f9811ed55e93ae5165a88824b4e095e80/expr.ipynb\"><img src=\"data:image/png;base64,iVBORw0KGgoAAAANSUhEUgAAAL0AAAAXCAMAAABpjr6KAAAAOVBMVEX///8oKCgUFBQJCQkQEBC6\n",
       "urrMzMxUVFRmZmZERETc3NwyMjKqqqp2dnaIiIiYmJgiIiLu7u4AAACP9cC6AAAAAXRSTlMAQObY\n",
       "ZgAAAntJREFUWMPVV4m2nSAMtC3IEtb8/8eWRTSoqO27tS3nXPUqkSEzTHCa/usW/8KY3H39HZ7n\n",
       "Y9j+u5fAz6L7Fx4DFogiNQUZuZzTwZr2EN6ioR8I8HkkU+UkMcOH9NNqebJe/OnmOo59wPhU0TO6\n",
       "5ZzZ85ZkQpqX0DMKTBuJ+p6gZd5LV48ZeGRlCrq08NaShQ5QgsRPu4njPcXqOdQEqJxvVLkF+xJ6\n",
       "SQficTLoT/vZo4kUwUwaVOXFynQQc5kI4Q/ItVEopRRqJkMeaabkR329ZgnYyDcxl5kF0lAeZC+c\n",
       "czK0FxhoHEXCp++49IUuxwiBByvrAoqVycwny4c9p4z3edAHlGvigJ/JPoZFVJw1y3dbRqLsuJSl\n",
       "Lydra4++D9BiPM1CPyfGnxsOzS4Cneoqe7cMNxevzcjDtsRtDDQbwVVOx7nvA5R+jL5eMRhVNbDx\n",
       "KPtmOQ19Ug0pf7ObFBk2YhaCp8regeoDuJ2u0bPVmU1zkHPdBxV3sl8YFmiIclK6xJYQ0SeaY1op\n",
       "onvRDlQLEJDbj/RzV+iVX63+stgaMXB7jQtZvp4NgetN7kdkAXXpxhH6PsD56Sb3VjZRt16nxVbD\n",
       "wO1n1gpZexNbTStJWEr6PiWrfswAVB8Qu2en6Hmo+xKGRY1eIcKJ66id76YxyhYNNsdtluRXtFIX\n",
       "hW3uXmFzcqcHtQWopJnv3+BOORPTjzai93t7dkhMnVheH7qkRpes6s6F1HlA75Zj9P5DVX1fjGP1\n",
       "Xi0w1bOyxC2USgvmHFQXkJ/EB+g/tBWPcPM1MLg/rC7mWVa1+AR6cS3AWf8qeng4sP7AV5ybfy/1\n",
       "Q/T+rS+Er3H2zyD5CbkSG3s19W3vAAAAAElFTkSuQmCC\n",
       "\" style=\"display:inline;vertical-align:middle;\" /></a></span>"
      ],
      "text/plain": [
       "|- forall_{A, B | A != TRUE} (A => B)"
      ]
     },
     "execution_count": 11,
     "metadata": {},
     "output_type": "execute_result"
    }
   ],
   "source": [
    "untrueAntecedentImplication"
   ]
  },
  {
   "cell_type": "code",
   "execution_count": 12,
   "metadata": {},
   "outputs": [
    {
     "data": {
      "text/html": [
       "<span style=\"font-size:20px;\"><a class=\"ProveItLink\" href=\"../__pv_it/b9713b405570857a29694d61fe5e2536eab03fc30/expr.ipynb\"><img src=\"data:image/png;base64,iVBORw0KGgoAAAANSUhEUgAAAHUAAAAVBAMAAACK3rzVAAAAMFBMVEX////c3NxERESqqqpUVFS6\n",
       "urrMzMwyMjIQEBCIiIh2dnYiIiLu7u5mZmaYmJgAAABXZE4RAAAAAXRSTlMAQObYZgAAAbZJREFU\n",
       "OMtjYGDgu8dAMmBbJQCieHahiEYS1McXANLcDGJyfkAx0AFCbcCmyf+Li1MpA8M1EOc6iOBqQJZn\n",
       "PwChPmCzkUOBgeF+AAM7iL0CU+9MCPX6D0LoAJyVPwGIHRj4FmDX2wMmGW0/IoRq4Kz5wAB6v4CB\n",
       "pwGrXtYCMMXJ+RUhFgJnaQDxDqAzlLHq5V0ApmKY/yHEuCbAWF8YGMR1gPRamF7eAuSgegCOtgC2\n",
       "n2Cp3WDwFxYHX2bO3QdimAPxexAjIwCmCGgnRwDY5QyMf5EMZC6F0JzAQDgNisMIkC0XGBhS2pCj\n",
       "lh+sN8XF5RNyAB5vBVNMQN9xgjyTD+KpA50YkYChF0i0I6eXKkg08QMV8P2C6uUGhQxLAZJeDgOQ\n",
       "G0HBieTfTdAYzgfaxPIZ6mawf7k2IOllAoWVMBDXI3nXASl65UE2PceMI6DjuYAhwAOS1kekJnGk\n",
       "6GVrP4AcR6hpYwMDo8Z3AYZH/2vhYopQ+tJ/F5dycByWYk+TjZg5IAFdAEeaZHhFRMYHJzSwXj5s\n",
       "eRAvOA7Pvzw7kcUZHQjrdQRFCiS58C1GlpAkqJUzAVpeAQCj4XXVPjLA8gAAAABJRU5ErkJggg==\n",
       "\" style=\"display:inline;vertical-align:middle;\" /></a> <a class=\"ProveItLink\" href=\"../__pv_it/14fa18178fabc52080f696d6949ac486cbc8f97f0/proof.ipynb\" style=\"text-decoration: none\">&#x22A2;&nbsp;</a><a class=\"ProveItLink\" href=\"../__pv_it/39edb9fe2b7411693ffcf43a9bf0fb98391840e40/expr.ipynb\"><img src=\"data:image/png;base64,iVBORw0KGgoAAAANSUhEUgAAAEAAAAAPBAMAAACmSdRUAAAAMFBMVEX///+qqqru7u4iIiJ2dnbc\n",
       "3NyIiIjMzMxmZmYQEBC6uroyMjJERERUVFSYmJgAAADLUcuvAAAAAXRSTlMAQObYZgAAAOhJREFU\n",
       "GNNjYGB4+//u3dMLGLABdgMwNYeBgeMXVgXcH8DKvgHxX7ggE5KCx59AJNtXBga+LwhdCnAmq8RX\n",
       "EMUzgYGBeRJclOsCnMnGBraZ/wID6x6ENgY3OGsR4z8QVX8trfkBWKDZGATsG2CuWQByHgNDfgAD\n",
       "ky2y26WhfuZiYP0Bok+CFD1AUsC0E6Ki9u7dPyAa5MP3DkgKqp0gNFDZbFAwgBxyXwDhBuNDEHlG\n",
       "ILaEBgPrbyQDZKF0IBDvhwZD5SaEPOsGqEtA9HkFBo7zf+/e3odkAE8ARN3J3wEMb/7vwBKDqFwA\n",
       "TPY/hyWgimwAAAAASUVORK5CYII=\n",
       "\" style=\"display:inline;vertical-align:middle;\" /></a></span>"
      ],
      "text/plain": [
       "{[not](A => B)} |- B => A"
      ]
     },
     "execution_count": 12,
     "metadata": {},
     "output_type": "execute_result"
    }
   ],
   "source": [
    "untrueAntecedentImplication.specialize({A:B, B:A})"
   ]
  },
  {
   "cell_type": "code",
   "execution_count": 13,
   "metadata": {},
   "outputs": [
    {
     "data": {
      "text/html": [
       "<table><tr><th>&nbsp;</th><th>step type</th><th>requirements</th><th>statement</th></tr>\n",
       "<tr><td>0</td><td>generalizaton</td><td>1</td><td><span style=\"font-size:20px;\"> <a class=\"ProveItLink\" href=\"../__pv_it/7c9f478fd54e09a655f04d1ce123345fefd245190/proof.ipynb\" style=\"text-decoration: none\">&#x22A2;&nbsp;</a><a class=\"ProveItLink\" href=\"../__pv_it/09ba5ac32acc34f55c0fa248e2ddfca3f733fc910/expr.ipynb\"><img src=\"data:image/png;base64,iVBORw0KGgoAAAANSUhEUgAAANoAAAAXBAMAAACfRUyCAAAAMFBMVEX///8QEBC6urrMzMxUVFRm\n",
       "ZmZERETc3NwyMjKqqqp2dnaIiIiYmJgiIiLu7u4AAAAU9Wx4AAAAAXRSTlMAQObYZgAAAzhJREFU\n",
       "SMe9Vk1ME1EQ/mhpl7bbpYkHPSkmxosm9GAi0Zg2WtEbRCmeDDWGohdoogGNQaqX6kV6UIPxIBcV\n",
       "Y0JqIgfTAzVeEA/ggYuCNEYMMUGJ/IlWdObtbndZ21RT4kve2+mb2fnmfTPztsB/HdkN8rOrpIVc\n",
       "A4yz8KpsMHuQ3DUshuqvFtYfoHkceMTyjbLRqpijigjQUlNQ38s2QCc9pEjZaGleAimaQX1LMbM4\n",
       "TdHI/SIoR7JstK28DMeAsf51x9XGxRZSKT7ID7u6ussGs8V5PUXzdR7DFjT0qWEm+CywHI2+Kent\n",
       "XOHtPCcOcaJF4EK7oX1sBJO9l6HHfeAQ0Ca2EmK9vRSu9wsLk1dJOKuKGTuujnDTaezLs8bO7Ivp\n",
       "oUnx8+QUj+lGXf1epBR9wA4oggb5q5pPHzw+FpwmNFUeM5fbc+AJ3PpOBQueFWDORB/6dHUNehh5\n",
       "O+CFhwPDTE7lJAjbihXtrqixloxpqwmojalx0qhmv06K0pMz2ShXVDh7KNTAZR8gfcYrEjs4ITTe\n",
       "FBzjVjRBtXtOZeaOWN8SXyINBlo1d/h302t1g1ra6PBxFU2J7xH4qajQfPFjJGZFE9Tud6pt6WS1\n",
       "sgA5obUZM8n1EqCzV64aeZtqN4rJ61OZRNtB3qnkUGnUpp+2w4JmF4QF6czN0Wj0zCYO90e6PstJ\n",
       "1xKb0dqtJ268dlOvMUKrmidhhOYtQdxLDAvVABVA1kB7QO7jonPkpGdeK3e68NxxyNTRdZpDd6Pa\n",
       "bvYtRktLOvAse1tTOwAVXJzKRLhDGLYSmcn1Z4u4GG0u3LymHbU1BmcjlFUDzUYRN/8Kha6ZCsmp\n",
       "NUzntgTkjm8UD9/YMqM4YgiINiMXtX4Lmo0TdgL2BQyFaRzmikjCtgDs1G02F/gsWDcUny7tJgcZ\n",
       "KQFpDdKEJW8RhSK3UdQ5fKbxibnoyaKboh3VbUb/4npzpzThwzKkhkl7DgNL4aNJC5of76BQw5z/\n",
       "KXjiEnb3hpuu0/NYoSu42Ji1fl7/uD/U8cxsdNkk5ytQCpZGO2L5vbcI2sci77tSefFSSTCP37KR\n",
       "KYLmyhR2ULlhf4/WeXpR2GbwH33+BvwYy18VzUzqAAAAAElFTkSuQmCC\n",
       "\" style=\"display:inline;vertical-align:middle;\" /></a></span></td></tr>\n",
       "<tr><td>1</td><td>specialization</td><td>2, 3</td><td><span style=\"font-size:20px;\"><a class=\"ProveItLink\" href=\"../__pv_it/b9713b405570857a29694d61fe5e2536eab03fc30/expr.ipynb\"><img src=\"data:image/png;base64,iVBORw0KGgoAAAANSUhEUgAAAHUAAAAVBAMAAACK3rzVAAAAMFBMVEX////c3NxERESqqqpUVFS6\n",
       "urrMzMwyMjIQEBCIiIh2dnYiIiLu7u5mZmaYmJgAAABXZE4RAAAAAXRSTlMAQObYZgAAAbZJREFU\n",
       "OMtjYGDgu8dAMmBbJQCieHahiEYS1McXANLcDGJyfkAx0AFCbcCmyf+Li1MpA8M1EOc6iOBqQJZn\n",
       "PwChPmCzkUOBgeF+AAM7iL0CU+9MCPX6D0LoAJyVPwGIHRj4FmDX2wMmGW0/IoRq4Kz5wAB6v4CB\n",
       "pwGrXtYCMMXJ+RUhFgJnaQDxDqAzlLHq5V0ApmKY/yHEuCbAWF8YGMR1gPRamF7eAuSgegCOtgC2\n",
       "n2Cp3WDwFxYHX2bO3QdimAPxexAjIwCmCGgnRwDY5QyMf5EMZC6F0JzAQDgNisMIkC0XGBhS2pCj\n",
       "lh+sN8XF5RNyAB5vBVNMQN9xgjyTD+KpA50YkYChF0i0I6eXKkg08QMV8P2C6uUGhQxLAZJeDgOQ\n",
       "G0HBieTfTdAYzgfaxPIZ6mawf7k2IOllAoWVMBDXI3nXASl65UE2PceMI6DjuYAhwAOS1kekJnGk\n",
       "6GVrP4AcR6hpYwMDo8Z3AYZH/2vhYopQ+tJ/F5dycByWYk+TjZg5IAFdAEeaZHhFRMYHJzSwXj5s\n",
       "eRAvOA7Pvzw7kcUZHQjrdQRFCiS58C1GlpAkqJUzAVpeAQCj4XXVPjLA8gAAAABJRU5ErkJggg==\n",
       "\" style=\"display:inline;vertical-align:middle;\" /></a> <a class=\"ProveItLink\" href=\"../__pv_it/14fa18178fabc52080f696d6949ac486cbc8f97f0/proof.ipynb\" style=\"text-decoration: none\">&#x22A2;&nbsp;</a><a class=\"ProveItLink\" href=\"../__pv_it/39edb9fe2b7411693ffcf43a9bf0fb98391840e40/expr.ipynb\"><img src=\"data:image/png;base64,iVBORw0KGgoAAAANSUhEUgAAAEAAAAAPBAMAAACmSdRUAAAAMFBMVEX///+qqqru7u4iIiJ2dnbc\n",
       "3NyIiIjMzMxmZmYQEBC6uroyMjJERERUVFSYmJgAAADLUcuvAAAAAXRSTlMAQObYZgAAAOhJREFU\n",
       "GNNjYGB4+//u3dMLGLABdgMwNYeBgeMXVgXcH8DKvgHxX7ggE5KCx59AJNtXBga+LwhdCnAmq8RX\n",
       "EMUzgYGBeRJclOsCnMnGBraZ/wID6x6ENgY3OGsR4z8QVX8trfkBWKDZGATsG2CuWQByHgNDfgAD\n",
       "ky2y26WhfuZiYP0Bok+CFD1AUsC0E6Ki9u7dPyAa5MP3DkgKqp0gNFDZbFAwgBxyXwDhBuNDEHlG\n",
       "ILaEBgPrbyQDZKF0IBDvhwZD5SaEPOsGqEtA9HkFBo7zf+/e3odkAE8ARN3J3wEMb/7vwBKDqFwA\n",
       "TPY/hyWgimwAAAAASUVORK5CYII=\n",
       "\" style=\"display:inline;vertical-align:middle;\" /></a></span></td></tr>\n",
       "<tr><td>&nbsp;</td><td colspan=4 style=\"text-align:left\"><span style=\"font-size:20px;\"><a class=\"ProveItLink\" href=\"../../../../__pv_it/2cbe72a7ad6f655694dd697106680215e8489b600/expr.ipynb\"><img src=\"data:image/png;base64,iVBORw0KGgoAAAANSUhEUgAAAA8AAAAOBAMAAAACpFvcAAAALVBMVEX///8QEBBERERUVFS6urqI\n",
       "iIhmZmaqqqrc3Nzu7u6YmJgyMjIiIiLMzMwAAADtIaYWAAAAAXRSTlMAQObYZgAAAFtJREFUCNdj\n",
       "YACBOwxQsA9Kc52bAGG05zVAGAFxDmCaZULdAjBjCsO9ADDDgaEvAUTzGhvbKYCVMDAwbgAxChgY\n",
       "eASANAeQwf0AyJgNxEwvGRia5HYwcOm9TgAA6BoR3jrzwFcAAAAASUVORK5CYII=\n",
       "\" style=\"display:inline;vertical-align:middle;\" /></a> : <a class=\"ProveItLink\" href=\"../../../../__pv_it/077b2ff79244fb4582cbe22c6e3356fa92a52f2f0/expr.ipynb\"><img src=\"data:image/png;base64,iVBORw0KGgoAAAANSUhEUgAAABAAAAAOBAMAAADUAYG5AAAAMFBMVEX///+qqqru7u4iIiJ2dnbc\n",
       "3NyIiIjMzMxmZmYQEBC6uroyMjJERERUVFSYmJgAAADLUcuvAAAAAXRSTlMAQObYZgAAAGpJREFU\n",
       "CNdjYGB4+//u3dMLGIBgDgMDxy8gzf4NiP8CGWxfGRj4vgAZPBMYGJgnARn8FxhY9ygAGfXX0pof\n",
       "gDTlBzAw2YIYJ0EckBBI53sHoBH/gIz7AhBjWH9DjancBLTl/N+7t/cxMAAA3u4f/5xagjYAAAAA\n",
       "SUVORK5CYII=\n",
       "\" style=\"display:inline;vertical-align:middle;\" /></a>, <a class=\"ProveItLink\" href=\"../../../../__pv_it/077b2ff79244fb4582cbe22c6e3356fa92a52f2f0/expr.ipynb\"><img src=\"data:image/png;base64,iVBORw0KGgoAAAANSUhEUgAAABAAAAAOBAMAAADUAYG5AAAAMFBMVEX///+qqqru7u4iIiJ2dnbc\n",
       "3NyIiIjMzMxmZmYQEBC6uroyMjJERERUVFSYmJgAAADLUcuvAAAAAXRSTlMAQObYZgAAAGpJREFU\n",
       "CNdjYGB4+//u3dMLGIBgDgMDxy8gzf4NiP8CGWxfGRj4vgAZPBMYGJgnARn8FxhY9ygAGfXX0pof\n",
       "gDTlBzAw2YIYJ0EckBBI53sHoBH/gIz7AhBjWH9DjancBLTl/N+7t/cxMAAA3u4f/5xagjYAAAAA\n",
       "SUVORK5CYII=\n",
       "\" style=\"display:inline;vertical-align:middle;\" /></a> : <a class=\"ProveItLink\" href=\"../../../../__pv_it/2cbe72a7ad6f655694dd697106680215e8489b600/expr.ipynb\"><img src=\"data:image/png;base64,iVBORw0KGgoAAAANSUhEUgAAAA8AAAAOBAMAAAACpFvcAAAALVBMVEX///8QEBBERERUVFS6urqI\n",
       "iIhmZmaqqqrc3Nzu7u6YmJgyMjIiIiLMzMwAAADtIaYWAAAAAXRSTlMAQObYZgAAAFtJREFUCNdj\n",
       "YACBOwxQsA9Kc52bAGG05zVAGAFxDmCaZULdAjBjCsO9ADDDgaEvAUTzGhvbKYCVMDAwbgAxChgY\n",
       "eASANAeQwf0AyJgNxEwvGRia5HYwcOm9TgAA6BoR3jrzwFcAAAAASUVORK5CYII=\n",
       "\" style=\"display:inline;vertical-align:middle;\" /></a></span></td></tr><tr><td>2</td><td>axiom</td><td></td><td><span style=\"font-size:20px;\"> <a class=\"ProveItLink\" href=\"../_axioms_.ipynb#untrueAntecedentImplication\" style=\"text-decoration: none\">&#x22A2;&nbsp;</a><a class=\"ProveItLink\" href=\"../__pv_it/9a87e251f9811ed55e93ae5165a88824b4e095e80/expr.ipynb\"><img src=\"data:image/png;base64,iVBORw0KGgoAAAANSUhEUgAAAL0AAAAXCAMAAABpjr6KAAAAOVBMVEX///8oKCgUFBQJCQkQEBC6\n",
       "urrMzMxUVFRmZmZERETc3NwyMjKqqqp2dnaIiIiYmJgiIiLu7u4AAACP9cC6AAAAAXRSTlMAQObY\n",
       "ZgAAAntJREFUWMPVV4m2nSAMtC3IEtb8/8eWRTSoqO27tS3nXPUqkSEzTHCa/usW/8KY3H39HZ7n\n",
       "Y9j+u5fAz6L7Fx4DFogiNQUZuZzTwZr2EN6ioR8I8HkkU+UkMcOH9NNqebJe/OnmOo59wPhU0TO6\n",
       "5ZzZ85ZkQpqX0DMKTBuJ+p6gZd5LV48ZeGRlCrq08NaShQ5QgsRPu4njPcXqOdQEqJxvVLkF+xJ6\n",
       "SQficTLoT/vZo4kUwUwaVOXFynQQc5kI4Q/ItVEopRRqJkMeaabkR329ZgnYyDcxl5kF0lAeZC+c\n",
       "czK0FxhoHEXCp++49IUuxwiBByvrAoqVycwny4c9p4z3edAHlGvigJ/JPoZFVJw1y3dbRqLsuJSl\n",
       "Lydra4++D9BiPM1CPyfGnxsOzS4Cneoqe7cMNxevzcjDtsRtDDQbwVVOx7nvA5R+jL5eMRhVNbDx\n",
       "KPtmOQ19Ug0pf7ObFBk2YhaCp8regeoDuJ2u0bPVmU1zkHPdBxV3sl8YFmiIclK6xJYQ0SeaY1op\n",
       "onvRDlQLEJDbj/RzV+iVX63+stgaMXB7jQtZvp4NgetN7kdkAXXpxhH6PsD56Sb3VjZRt16nxVbD\n",
       "wO1n1gpZexNbTStJWEr6PiWrfswAVB8Qu2en6Hmo+xKGRY1eIcKJ66id76YxyhYNNsdtluRXtFIX\n",
       "hW3uXmFzcqcHtQWopJnv3+BOORPTjzai93t7dkhMnVheH7qkRpes6s6F1HlA75Zj9P5DVX1fjGP1\n",
       "Xi0w1bOyxC2USgvmHFQXkJ/EB+g/tBWPcPM1MLg/rC7mWVa1+AR6cS3AWf8qeng4sP7AV5ybfy/1\n",
       "Q/T+rS+Er3H2zyD5CbkSG3s19W3vAAAAAElFTkSuQmCC\n",
       "\" style=\"display:inline;vertical-align:middle;\" /></a></span></td></tr>\n",
       "<tr><td>&nbsp;</td><td colspan=4 style-\"text-align:left\"><a class=\"ProveItLink\" href=\"../_axioms_.ipynb#untrueAntecedentImplication\">proveit.logic.boolean.implication.untrueAntecedentImplication</a></td></tr><tr><td>3</td><td>specialization</td><td>4, 5</td><td><span style=\"font-size:20px;\"><a class=\"ProveItLink\" href=\"../__pv_it/b9713b405570857a29694d61fe5e2536eab03fc30/expr.ipynb\"><img src=\"data:image/png;base64,iVBORw0KGgoAAAANSUhEUgAAAHUAAAAVBAMAAACK3rzVAAAAMFBMVEX////c3NxERESqqqpUVFS6\n",
       "urrMzMwyMjIQEBCIiIh2dnYiIiLu7u5mZmaYmJgAAABXZE4RAAAAAXRSTlMAQObYZgAAAbZJREFU\n",
       "OMtjYGDgu8dAMmBbJQCieHahiEYS1McXANLcDGJyfkAx0AFCbcCmyf+Li1MpA8M1EOc6iOBqQJZn\n",
       "PwChPmCzkUOBgeF+AAM7iL0CU+9MCPX6D0LoAJyVPwGIHRj4FmDX2wMmGW0/IoRq4Kz5wAB6v4CB\n",
       "pwGrXtYCMMXJ+RUhFgJnaQDxDqAzlLHq5V0ApmKY/yHEuCbAWF8YGMR1gPRamF7eAuSgegCOtgC2\n",
       "n2Cp3WDwFxYHX2bO3QdimAPxexAjIwCmCGgnRwDY5QyMf5EMZC6F0JzAQDgNisMIkC0XGBhS2pCj\n",
       "lh+sN8XF5RNyAB5vBVNMQN9xgjyTD+KpA50YkYChF0i0I6eXKkg08QMV8P2C6uUGhQxLAZJeDgOQ\n",
       "G0HBieTfTdAYzgfaxPIZ6mawf7k2IOllAoWVMBDXI3nXASl65UE2PceMI6DjuYAhwAOS1kekJnGk\n",
       "6GVrP4AcR6hpYwMDo8Z3AYZH/2vhYopQ+tJ/F5dycByWYk+TjZg5IAFdAEeaZHhFRMYHJzSwXj5s\n",
       "eRAvOA7Pvzw7kcUZHQjrdQRFCiS58C1GlpAkqJUzAVpeAQCj4XXVPjLA8gAAAABJRU5ErkJggg==\n",
       "\" style=\"display:inline;vertical-align:middle;\" /></a> <a class=\"ProveItLink\" href=\"../__pv_it/a025e9e0c5d779097980e45114ea6f5eaa426a2f0/proof.ipynb\" style=\"text-decoration: none\">&#x22A2;&nbsp;</a><a class=\"ProveItLink\" href=\"../__pv_it/d6cb8a2525d11f90725a6d0ce4b93fd89964a9630/expr.ipynb\"><img src=\"data:image/png;base64,iVBORw0KGgoAAAANSUhEUgAAADwAAAAUCAMAAADm3a4bAAAAPFBMVEX///8LCwsYGBgNDQ0oKCiq\n",
       "qqru7u4iIiJ2dnbc3NyIiIjMzMxmZmYQEBC6uroyMjJERERUVFSYmJgAAABvjpBjAAAAAXRSTlMA\n",
       "QObYZgAAAMBJREFUOMvFk0cSwyAMRZViMM1C6P53jRNgYgwBxptoQRF68/kUgHGsqrcaiJn28Lg1\n",
       "VhV+x1YewqekiwPLDZqqnLHFjHXqqSvchDVHW4HXCeET7F3spRNVoYcBHHer0FcseDOAd6taayvD\n",
       "IWfxE8/Hu6UOnCwLSVPCJZwtaw6nso1gBOcLqg8b1Qg2WZB4Kd/S/Va+pQacb1kxTgkXcLJsHIoZ\n",
       "x0fY+vgrEM+n9UsYzDr+iouF6yHFdfZvwrANK15yAAmLgsTQpAAAAABJRU5ErkJggg==\n",
       "\" style=\"display:inline;vertical-align:middle;\" /></a></span></td></tr>\n",
       "<tr><td>&nbsp;</td><td colspan=4 style=\"text-align:left\"><span style=\"font-size:20px;\"><a class=\"ProveItLink\" href=\"../../../../__pv_it/2cbe72a7ad6f655694dd697106680215e8489b600/expr.ipynb\"><img src=\"data:image/png;base64,iVBORw0KGgoAAAANSUhEUgAAAA8AAAAOBAMAAAACpFvcAAAALVBMVEX///8QEBBERERUVFS6urqI\n",
       "iIhmZmaqqqrc3Nzu7u6YmJgyMjIiIiLMzMwAAADtIaYWAAAAAXRSTlMAQObYZgAAAFtJREFUCNdj\n",
       "YACBOwxQsA9Kc52bAGG05zVAGAFxDmCaZULdAjBjCsO9ADDDgaEvAUTzGhvbKYCVMDAwbgAxChgY\n",
       "eASANAeQwf0AyJgNxEwvGRia5HYwcOm9TgAA6BoR3jrzwFcAAAAASUVORK5CYII=\n",
       "\" style=\"display:inline;vertical-align:middle;\" /></a> : <a class=\"ProveItLink\" href=\"../../../../__pv_it/077b2ff79244fb4582cbe22c6e3356fa92a52f2f0/expr.ipynb\"><img src=\"data:image/png;base64,iVBORw0KGgoAAAANSUhEUgAAABAAAAAOBAMAAADUAYG5AAAAMFBMVEX///+qqqru7u4iIiJ2dnbc\n",
       "3NyIiIjMzMxmZmYQEBC6uroyMjJERERUVFSYmJgAAADLUcuvAAAAAXRSTlMAQObYZgAAAGpJREFU\n",
       "CNdjYGB4+//u3dMLGIBgDgMDxy8gzf4NiP8CGWxfGRj4vgAZPBMYGJgnARn8FxhY9ygAGfXX0pof\n",
       "gDTlBzAw2YIYJ0EckBBI53sHoBH/gIz7AhBjWH9DjancBLTl/N+7t/cxMAAA3u4f/5xagjYAAAAA\n",
       "SUVORK5CYII=\n",
       "\" style=\"display:inline;vertical-align:middle;\" /></a></span></td></tr><tr><td>4</td><td>theorem</td><td></td><td><span style=\"font-size:20px;\"> <a class=\"ProveItLink\" href=\"notTrueViaContradiction.ipynb\" style=\"text-decoration: none\">&#x22A2;&nbsp;</a><a class=\"ProveItLink\" href=\"../__pv_it/6be84b165e114d5f1e3038d103beff8da02da5950/expr.ipynb\"><img src=\"data:image/png;base64,iVBORw0KGgoAAAANSUhEUgAAAKkAAAAXCAMAAABHy58YAAAAPFBMVEX///8LCwsYGBgNDQ0oKCgQ\n",
       "EBC6urrMzMxUVFRmZmZERETc3NwyMjKqqqp2dnaIiIiYmJgiIiLu7u4AAACwKje0AAAAAXRSTlMA\n",
       "QObYZgAAAf1JREFUSMfVV9mWpCAMpXuGJezL//9rGywVFJCeGev05MEjlUhuckNIEfLfSHyHE+bu\n",
       "bazqqjzDZzjW7imgXFSr0LJR+niHUIjEHziGYja9fiy99c46tWwEu8QHxTcYi9yCkk8BdRVZPqQ4\n",
       "TmkDqbdFwGCeQkpLZMpAUjMprZBGmuGqLOGx41SlyxGXGqgahJZIicQ8JokS7FNIodyZRWKSv9hI\n",
       "foPU4kJkK1lQokt6rgnQ6nvnqQAWl914OuoWdJbfv/ApBkgNEsPQIhYU+YqeCy++wV7XGMuU1WGr\n",
       "BDMprZEyurVUdwQeoaLn7PykvkdaBMYFSjpbMUHukPLc2hBlOM6njQEGzk9qY76BdH2jeqqcGkgX\n",
       "5otbhDsiZd/5WV0VeJv9PZbXS6D1bfT5cdxGY/YXZ0U7E/h93/mmBvkSTfkYqfR7K21fUp0TWiH1\n",
       "Kw+mgOaX7VzqIr2oETTwEVL78rgfWllfUu0qbXUpJGjvG0sRAlRbVc6v6ty2QQ2QsrBe1jTl5HmZ\n",
       "koaJpsfLPqxfpPvddfbJU4/QQ+1gEwFj9gkd9l8DM7MpvcS/1lTZh2RbHTex7uZEreNFV8LMCGdP\n",
       "E2lcW50SKfiG86Z67xr5iFF82PHU9ycp1TOX4c0wqCZSosRfplSof4B0SlT/7wSbGXA5eRfS94j4\n",
       "ITi+AFZxFymbMnmoAAAAAElFTkSuQmCC\n",
       "\" style=\"display:inline;vertical-align:middle;\" /></a></span></td></tr>\n",
       "<tr><td>&nbsp;</td><td colspan=4 style-\"text-align:left\"><a class=\"ProveItLink\" href=\"notTrueViaContradiction.ipynb\">proveit.logic.boolean.implication.notTrueViaContradiction</a></td></tr><tr><td>5</td><td>hypothetical reasoning</td><td>6</td><td><span style=\"font-size:20px;\"><a class=\"ProveItLink\" href=\"../__pv_it/b9713b405570857a29694d61fe5e2536eab03fc30/expr.ipynb\"><img src=\"data:image/png;base64,iVBORw0KGgoAAAANSUhEUgAAAHUAAAAVBAMAAACK3rzVAAAAMFBMVEX////c3NxERESqqqpUVFS6\n",
       "urrMzMwyMjIQEBCIiIh2dnYiIiLu7u5mZmaYmJgAAABXZE4RAAAAAXRSTlMAQObYZgAAAbZJREFU\n",
       "OMtjYGDgu8dAMmBbJQCieHahiEYS1McXANLcDGJyfkAx0AFCbcCmyf+Li1MpA8M1EOc6iOBqQJZn\n",
       "PwChPmCzkUOBgeF+AAM7iL0CU+9MCPX6D0LoAJyVPwGIHRj4FmDX2wMmGW0/IoRq4Kz5wAB6v4CB\n",
       "pwGrXtYCMMXJ+RUhFgJnaQDxDqAzlLHq5V0ApmKY/yHEuCbAWF8YGMR1gPRamF7eAuSgegCOtgC2\n",
       "n2Cp3WDwFxYHX2bO3QdimAPxexAjIwCmCGgnRwDY5QyMf5EMZC6F0JzAQDgNisMIkC0XGBhS2pCj\n",
       "lh+sN8XF5RNyAB5vBVNMQN9xgjyTD+KpA50YkYChF0i0I6eXKkg08QMV8P2C6uUGhQxLAZJeDgOQ\n",
       "G0HBieTfTdAYzgfaxPIZ6mawf7k2IOllAoWVMBDXI3nXASl65UE2PceMI6DjuYAhwAOS1kekJnGk\n",
       "6GVrP4AcR6hpYwMDo8Z3AYZH/2vhYopQ+tJ/F5dycByWYk+TjZg5IAFdAEeaZHhFRMYHJzSwXj5s\n",
       "eRAvOA7Pvzw7kcUZHQjrdQRFCiS58C1GlpAkqJUzAVpeAQCj4XXVPjLA8gAAAABJRU5ErkJggg==\n",
       "\" style=\"display:inline;vertical-align:middle;\" /></a> <a class=\"ProveItLink\" href=\"../__pv_it/2d33a3aa68dc7d7e9549e5b9c2d6eec60da1ec650/proof.ipynb\" style=\"text-decoration: none\">&#x22A2;&nbsp;</a><a class=\"ProveItLink\" href=\"../__pv_it/835b1d39462fab0430f60668935b15097d0255760/expr.ipynb\"><img src=\"data:image/png;base64,iVBORw0KGgoAAAANSUhEUgAAAEAAAAAPBAMAAACmSdRUAAAAMFBMVEX///+qqqru7u4iIiJ2dnbc\n",
       "3NyIiIjMzMxmZmYQEBC6uroyMjJERERUVFSYmJgAAADLUcuvAAAAAXRSTlMAQObYZgAAALhJREFU\n",
       "GNNjYGB4+//u3dMLGLCAMCg9h4GB4xc2BRUQiv0bEP+FizJhKGD7ysDA9wUuyq2AroBnAgMD8yS4\n",
       "KNcFdAX8FxhY9yC0MbihK6i/ltb8AMxqNgYB+wY0BfkBDEy2yI6XXoCq4CRI0QMkBUw7F6AoAPnw\n",
       "vQOSgmonFBPY/wGJ+wIINxgfQnUDKBhYfyMZIIvmC1AwVG5CyLNuQFXAcf7v3dv7kAzgCWCA+dnS\n",
       "2NgGM4bYUbkAa+cxxpnXojYAAAAASUVORK5CYII=\n",
       "\" style=\"display:inline;vertical-align:middle;\" /></a></span></td></tr>\n",
       "<tr><td>6</td><td>specialization</td><td>7, 8, 9</td><td><span style=\"font-size:20px;\"><a class=\"ProveItLink\" href=\"../__pv_it/c038bab5a924b832cc23659aa1b75c788f2573db0/expr.ipynb\"><img src=\"data:image/png;base64,iVBORw0KGgoAAAANSUhEUgAAAI8AAAAVBAMAAACNsKCFAAAAMFBMVEX////c3NxERESqqqpUVFS6\n",
       "urrMzMwyMjIQEBCIiIh2dnYiIiLu7u5mZmaYmJgAAABXZE4RAAAAAXRSTlMAQObYZgAAAidJREFU\n",
       "OMtjYGDgu8dAGWBbJQCieHbhVhJJ0BC+AJBJzSAm5wcQ+eS/i4t6ALpVDhBqAzYT/L+4OJUyMFwD\n",
       "ca6DCK4GsEQTAwPvVzTF7Acg1AdsbuFQYGC4H8DADmKvQBjE9hOIv6CpnQmhXv9BCB2As/InALED\n",
       "A98CVIM4PwJd+wvNoB4wyWj7ESFUA2fNB4bw+wUMPA2oBjEBSe4eVHNYC8AUJyeSl0PgLA0g3gF0\n",
       "oDKqQfwODIxFB1AN4l0ApmKY/yHEuCbAWMBwENcB0mthBvGC7c33nHn7AXpYgwV4AkDhB1S3Gwz+\n",
       "wmL0y8y5+0AMcyB+D2JkBEB9zLMF6hCwBqBrOMAyrAyMf5FMZy6F0KBAPQ1KHhEgKy8wMKS0wX08\n",
       "/wFqEuIHG5Ti4vIJ2Z3HWxlggcoJ8nM+iKcO1BqRAPUxKA6wGAQk2pETaRUkJIGBColmkEHcIJ0s\n",
       "oDBiA5ntb4BqEAeIzwyKHKQw2gSNkXygG1g+Q70GDiOuDVAfM35HSm8gg5hAXhUG4nqkIHJASkby\n",
       "IDc8R4l+kI8zahh4fsN1AD3MBQxCHpBafUS6EEdKRmztB5CjH2QQr/4XF/c6oLZ+AeQEuYGBUeO7\n",
       "AMOj/7VwMUUofQmYycvBkVOKmiBhepENYmjEzKoJ6ALoWQRWOKAoekVEqQZO6mCD+HAbxH6AsEHH\n",
       "4eURz04k4QkoihgdCBvkCIpiSBrlW4xTlSRBczgToGU2AN9sk71RZRqVAAAAAElFTkSuQmCC\n",
       "\" style=\"display:inline;vertical-align:middle;\" /></a> <a class=\"ProveItLink\" href=\"../__pv_it/b2f381d86665cd63cdcad3e64448cd7907966a0c0/proof.ipynb\" style=\"text-decoration: none\">&#x22A2;&nbsp;</a><a class=\"ProveItLink\" href=\"../../__pv_it/8f1f7fac882de28c72b62ab80a1700b6d8fd066b0/expr.ipynb\"><img src=\"data:image/png;base64,iVBORw0KGgoAAAANSUhEUgAAAA4AAAAOBAMAAADtZjDiAAAAG1BMVEX///9EREQQEBAiIiJmZmbM\n",
       "zMyIiIjc3NwAAACryk5kAAAAAXRSTlMAQObYZgAAABlJREFUCNdjYGBgKGOAgBBa0s7GxkbGxoYA\n",
       "FMUF2aBfHgoAAAAASUVORK5CYII=\n",
       "\" style=\"display:inline;vertical-align:middle;\" /></a></span></td></tr>\n",
       "<tr><td>&nbsp;</td><td colspan=4 style=\"text-align:left\"><span style=\"font-size:20px;\"><a class=\"ProveItLink\" href=\"../../../../__pv_it/2cbe72a7ad6f655694dd697106680215e8489b600/expr.ipynb\"><img src=\"data:image/png;base64,iVBORw0KGgoAAAANSUhEUgAAAA8AAAAOBAMAAAACpFvcAAAALVBMVEX///8QEBBERERUVFS6urqI\n",
       "iIhmZmaqqqrc3Nzu7u6YmJgyMjIiIiLMzMwAAADtIaYWAAAAAXRSTlMAQObYZgAAAFtJREFUCNdj\n",
       "YACBOwxQsA9Kc52bAGG05zVAGAFxDmCaZULdAjBjCsO9ADDDgaEvAUTzGhvbKYCVMDAwbgAxChgY\n",
       "eASANAeQwf0AyJgNxEwvGRia5HYwcOm9TgAA6BoR3jrzwFcAAAAASUVORK5CYII=\n",
       "\" style=\"display:inline;vertical-align:middle;\" /></a> : <a class=\"ProveItLink\" href=\"../__pv_it/48bda0a4ca92dc8bbf3ec9809bdb1d7b90d71c610/expr.ipynb\"><img src=\"data:image/png;base64,iVBORw0KGgoAAAANSUhEUgAAAEAAAAAPBAMAAACmSdRUAAAAMFBMVEX///92dnYQEBBERERUVFS6\n",
       "urqIiIhmZmaqqqrc3Nzu7u6YmJgyMjIiIiLMzMwAAACFkkdwAAAAAXRSTlMAQObYZgAAAOhJREFU\n",
       "GNNjYACBtwxYwJb/Li42ARD2eWwKGJQZGNi/glnc9xcghOFMvm9A/AXMnFE/AaHgFIzB9hOo9SOY\n",
       "mZAfgFAQAmMwKzAw8GqBWKwL+jcgFDAmQBn8Dgych8EWLmV4DxZkvwsG36EK3rul1UI0BjDML0By\n",
       "PMdRCJ0/gYHrCti1Li7+BsjeW6MKpoxAikBGsDIwMB1Akuc7CPEpyIf7BYBEA9CxCkhuuAyR5/sN\n",
       "JPyBkpxAzPMByQkOiGDg/AOyEeTlXwgFc5CC4REw1Cbrn2Tgtv+D8IYlhGK3/+LicxpbFD1A5QIA\n",
       "YgVCLvPPxacAAAAASUVORK5CYII=\n",
       "\" style=\"display:inline;vertical-align:middle;\" /></a></span></td></tr><tr><td>7</td><td>theorem</td><td></td><td><span style=\"font-size:20px;\"> <a class=\"ProveItLink\" href=\"../../negation/_proofs_/negationContradiction.ipynb\" style=\"text-decoration: none\">&#x22A2;&nbsp;</a><a class=\"ProveItLink\" href=\"../../negation/__pv_it/8d34e69910011169cb519166c0f9ff6f4dda77a60/expr.ipynb\"><img src=\"data:image/png;base64,iVBORw0KGgoAAAANSUhEUgAAAGsAAAAWBAMAAAA1LX8gAAAAMFBMVEX///8QEBC6urrMzMxUVFRm\n",
       "ZmZERETc3NwyMjKqqqp2dnaIiIiYmJgiIiLu7u4AAAAU9Wx4AAAAAXRSTlMAQObYZgAAATlJREFU\n",
       "OMtjeMBAFrgAIk6ToIF9A4hcCSL6SNDGHAAiy0AGJJCsjQPoOdYJJGvjWV5eXstAsjaGb2lpt8jQ\n",
       "5szAkA5mtINJJpg0RwGyYgQPqk2Fga8B7NpPYC4bTPq8ArI2BA+qjZeB+wCIfvoHRRtf/AEkXUg8\n",
       "qDbuA7zglLLuKoo2rrcBSNqQeFBtfA0mYN6GNBRt1mzIkYnEg2pjSHcCkSwMsSjaHFgvIGlD4sG0\n",
       "TQWLnGTYj6yNZwL3B5Dj0tLSMuA8FG2MoLTJdzU0/wGStrehYf+g6tiQeKx3796VvXsX5GIekHLW\n",
       "AgZ7AyRt4QzMnxHakHioQIeBgf8AQhsTkP2HoaIAIgLhYQFPvjGw+9+Ba+PzT2Ao+XvAHmwQM5SH\n",
       "N8mxIXMOEJ1SkbUxF5CljYf4fMFClCoA83FQjMq6UisAAAAASUVORK5CYII=\n",
       "\" style=\"display:inline;vertical-align:middle;\" /></a></span></td></tr>\n",
       "<tr><td>&nbsp;</td><td colspan=4 style-\"text-align:left\"><a class=\"ProveItLink\" href=\"../../negation/_proofs_/negationContradiction.ipynb\">proveit.logic.boolean.negation.negationContradiction</a></td></tr><tr><td>8</td><td>hypothetical reasoning</td><td>10</td><td><span style=\"font-size:20px;\"><a class=\"ProveItLink\" href=\"../__pv_it/547fd547e34cf8546442bd6aea990dbe0adf77b90/expr.ipynb\"><img src=\"data:image/png;base64,iVBORw0KGgoAAAANSUhEUgAAACMAAAAVBAMAAAA+1EraAAAAMFBMVEX////c3NxERESqqqpUVFS6\n",
       "urrMzMwyMjIQEBCIiIh2dnYiIiLu7u5mZmaYmJgAAABXZE4RAAAAAXRSTlMAQObYZgAAAMtJREFU\n",
       "GNNjYGDgu8cAA2yrBEAUzy4GBGBrBpGcH4AEn/8XF6dSIOM6SIirAURyKDAw3A9gYFiBEMqfAMQO\n",
       "KELzgea+X4AipAHEOw6gCH1hYBDXYYAK8RaALP8yc+4+EO89iMgIALnkIwPDaaDpDOwXGBhS2kDi\n",
       "TEDdnP9ALPUHDAwRCUAGP1AF3y8ggxtoKwMLyKx8oBzLZ5hZXBugzpIvYEB2BNBZbO0HkIUu/Xdx\n",
       "KX/AgKIKDnAJ8aEIgcOLZydyqLaCKb7FqGEPACcgN6r4rcm/AAAAAElFTkSuQmCC\n",
       "\" style=\"display:inline;vertical-align:middle;\" /></a> <a class=\"ProveItLink\" href=\"../__pv_it/0ef315d6903dfd6fcece40c3a387fdb5e10e570e0/proof.ipynb\" style=\"text-decoration: none\">&#x22A2;&nbsp;</a><a class=\"ProveItLink\" href=\"../__pv_it/48bda0a4ca92dc8bbf3ec9809bdb1d7b90d71c610/expr.ipynb\"><img src=\"data:image/png;base64,iVBORw0KGgoAAAANSUhEUgAAAEAAAAAPBAMAAACmSdRUAAAAMFBMVEX///92dnYQEBBERERUVFS6\n",
       "urqIiIhmZmaqqqrc3Nzu7u6YmJgyMjIiIiLMzMwAAACFkkdwAAAAAXRSTlMAQObYZgAAAOhJREFU\n",
       "GNNjYACBtwxYwJb/Li42ARD2eWwKGJQZGNi/glnc9xcghOFMvm9A/AXMnFE/AaHgFIzB9hOo9SOY\n",
       "mZAfgFAQAmMwKzAw8GqBWKwL+jcgFDAmQBn8Dgych8EWLmV4DxZkvwsG36EK3rul1UI0BjDML0By\n",
       "PMdRCJ0/gYHrCti1Li7+BsjeW6MKpoxAikBGsDIwMB1Akuc7CPEpyIf7BYBEA9CxCkhuuAyR5/sN\n",
       "JPyBkpxAzPMByQkOiGDg/AOyEeTlXwgFc5CC4REw1Cbrn2Tgtv+D8IYlhGK3/+LicxpbFD1A5QIA\n",
       "YgVCLvPPxacAAAAASUVORK5CYII=\n",
       "\" style=\"display:inline;vertical-align:middle;\" /></a></span></td></tr>\n",
       "<tr><td>9</td><td>assumption</td><td></td><td><span style=\"font-size:20px;\"><a class=\"ProveItLink\" href=\"../__pv_it/b9713b405570857a29694d61fe5e2536eab03fc30/expr.ipynb\"><img src=\"data:image/png;base64,iVBORw0KGgoAAAANSUhEUgAAAHUAAAAVBAMAAACK3rzVAAAAMFBMVEX////c3NxERESqqqpUVFS6\n",
       "urrMzMwyMjIQEBCIiIh2dnYiIiLu7u5mZmaYmJgAAABXZE4RAAAAAXRSTlMAQObYZgAAAbZJREFU\n",
       "OMtjYGDgu8dAMmBbJQCieHahiEYS1McXANLcDGJyfkAx0AFCbcCmyf+Li1MpA8M1EOc6iOBqQJZn\n",
       "PwChPmCzkUOBgeF+AAM7iL0CU+9MCPX6D0LoAJyVPwGIHRj4FmDX2wMmGW0/IoRq4Kz5wAB6v4CB\n",
       "pwGrXtYCMMXJ+RUhFgJnaQDxDqAzlLHq5V0ApmKY/yHEuCbAWF8YGMR1gPRamF7eAuSgegCOtgC2\n",
       "n2Cp3WDwFxYHX2bO3QdimAPxexAjIwCmCGgnRwDY5QyMf5EMZC6F0JzAQDgNisMIkC0XGBhS2pCj\n",
       "lh+sN8XF5RNyAB5vBVNMQN9xgjyTD+KpA50YkYChF0i0I6eXKkg08QMV8P2C6uUGhQxLAZJeDgOQ\n",
       "G0HBieTfTdAYzgfaxPIZ6mawf7k2IOllAoWVMBDXI3nXASl65UE2PceMI6DjuYAhwAOS1kekJnGk\n",
       "6GVrP4AcR6hpYwMDo8Z3AYZH/2vhYopQ+tJ/F5dycByWYk+TjZg5IAFdAEeaZHhFRMYHJzSwXj5s\n",
       "eRAvOA7Pvzw7kcUZHQjrdQRFCiS58C1GlpAkqJUzAVpeAQCj4XXVPjLA8gAAAABJRU5ErkJggg==\n",
       "\" style=\"display:inline;vertical-align:middle;\" /></a> <a class=\"ProveItLink\" href=\"../__pv_it/095ef9165a8cbbfe0c1f8f2f7054e7e65f4722ad0/proof.ipynb\" style=\"text-decoration: none\">&#x22A2;&nbsp;</a><a class=\"ProveItLink\" href=\"../__pv_it/645ce987d0174f228106544053fcde37e024fae30/expr.ipynb\"><img src=\"data:image/png;base64,iVBORw0KGgoAAAANSUhEUgAAAF8AAAAVBAMAAADSoS/MAAAAMFBMVEX////c3NxERESqqqqYmJgQ\n",
       "EBDu7u4yMjKIiIi6urpUVFTMzMx2dnYiIiJmZmYAAABjE816AAAAAXRSTlMAQObYZgAAAWhJREFU\n",
       "OMtjYCAfcDYQVOKJwtsFofZiU+n1f9Uq9QkMfBuQBcsgVD1Ws4MYGPh+MjAUIAlxQFzEcj8BLsQG\n",
       "Z3H/AOJfDAw+SBpYIQqF3wvAhdjhejk+Ao36w8CQiqRhOoRq6J+ACIYFMBZTAAMDbxiQNkBoeANR\n",
       "k2DvgBA7AWPwL2BgLALax/MAIVkCJjMZ9oP98vYuCNyHye9f0fEWZBBzAUTmDpAdCZaZwCCPZAiD\n",
       "OdR9/QIMbLdADghARMFPcGisWrVeAUkDWylEhypIE9AK7g9oGjiBoYUc1tuPQWhgiDL4H0DVEAxi\n",
       "AAOBNwDhh7tq0Gj4AiTWG6A6SQWIGYFi7B8QFlghRQPjd1C0Qq3nBuJzQJwOCvJvcPWMBUjRsBWU\n",
       "dJCDdS4Dg1B8IQOL/ne4IBM00vn0f61aDg529glISUMAI8VxY4ggJw2WA0TkmRNYkjc+wIYc5AxS\n",
       "hDVwoTibkXAW7WZgAAB3jV14rHTBjQAAAABJRU5ErkJggg==\n",
       "\" style=\"display:inline;vertical-align:middle;\" /></a></span></td></tr>\n",
       "<tr><td>10</td><td>assumption</td><td></td><td><span style=\"font-size:20px;\"><a class=\"ProveItLink\" href=\"../__pv_it/547fd547e34cf8546442bd6aea990dbe0adf77b90/expr.ipynb\"><img src=\"data:image/png;base64,iVBORw0KGgoAAAANSUhEUgAAACMAAAAVBAMAAAA+1EraAAAAMFBMVEX////c3NxERESqqqpUVFS6\n",
       "urrMzMwyMjIQEBCIiIh2dnYiIiLu7u5mZmaYmJgAAABXZE4RAAAAAXRSTlMAQObYZgAAAMtJREFU\n",
       "GNNjYGDgu8cAA2yrBEAUzy4GBGBrBpGcH4AEn/8XF6dSIOM6SIirAURyKDAw3A9gYFiBEMqfAMQO\n",
       "KELzgea+X4AipAHEOw6gCH1hYBDXYYAK8RaALP8yc+4+EO89iMgIALnkIwPDaaDpDOwXGBhS2kDi\n",
       "TEDdnP9ALPUHDAwRCUAGP1AF3y8ggxtoKwMLyKx8oBzLZ5hZXBugzpIvYEB2BNBZbO0HkIUu/Xdx\n",
       "KX/AgKIKDnAJ8aEIgcOLZydyqLaCKb7FqGEPACcgN6r4rcm/AAAAAElFTkSuQmCC\n",
       "\" style=\"display:inline;vertical-align:middle;\" /></a> <a class=\"ProveItLink\" href=\"../__pv_it/e254d9aea2df09e6e975215df28fe123ae22c0ba0/proof.ipynb\" style=\"text-decoration: none\">&#x22A2;&nbsp;</a><a class=\"ProveItLink\" href=\"../../../../__pv_it/077b2ff79244fb4582cbe22c6e3356fa92a52f2f0/expr.ipynb\"><img src=\"data:image/png;base64,iVBORw0KGgoAAAANSUhEUgAAABAAAAAOBAMAAADUAYG5AAAAMFBMVEX///+qqqru7u4iIiJ2dnbc\n",
       "3NyIiIjMzMxmZmYQEBC6uroyMjJERERUVFSYmJgAAADLUcuvAAAAAXRSTlMAQObYZgAAAGpJREFU\n",
       "CNdjYGB4+//u3dMLGIBgDgMDxy8gzf4NiP8CGWxfGRj4vgAZPBMYGJgnARn8FxhY9ygAGfXX0pof\n",
       "gDTlBzAw2YIYJ0EckBBI53sHoBH/gIz7AhBjWH9DjancBLTl/N+7t/cxMAAA3u4f/5xagjYAAAAA\n",
       "SUVORK5CYII=\n",
       "\" style=\"display:inline;vertical-align:middle;\" /></a></span></td></tr>\n",
       "</table>"
      ],
      "text/plain": [
       "\tstep type\trequirements\tstatement\n",
       "0\tgeneralizaton\t1\t|- forall_{A, B | [not](A => B)} (B => A)\n",
       "1\tspecialization\t2, 3\t{[not](A => B)} |- B => A\n",
       "\tA : B, B : A\n",
       "2\taxiom\t\t|- forall_{A, B | A != TRUE} (A => B)\n",
       "\tproveit.logic.boolean.implication.untrueAntecedentImplication\n",
       "3\tspecialization\t4, 5\t{[not](A => B)} |- B != TRUE\n",
       "\tA : B\n",
       "4\ttheorem\t\t|- forall_{A | A => FALSE} (A != TRUE)\n",
       "\tproveit.logic.boolean.implication.notTrueViaContradiction\n",
       "5\thypothetical reasoning\t6\t{[not](A => B)} |- B => FALSE\n",
       "6\tspecialization\t7, 8, 9\t{B , [not](A => B)} |- FALSE\n",
       "\tA : A => B\n",
       "7\ttheorem\t\t|- forall_{A | A , [not](A)} FALSE\n",
       "\tproveit.logic.boolean.negation.negationContradiction\n",
       "8\thypothetical reasoning\t10\t{B} |- A => B\n",
       "9\tassumption\t\t{[not](A => B)} |- [not](A => B)\n",
       "10\tassumption\t\t{B} |- B"
      ]
     },
     "execution_count": 13,
     "metadata": {},
     "output_type": "execute_result"
    }
   ],
   "source": [
    "%qed"
   ]
  }
 ],
 "metadata": {
  "kernelspec": {
   "display_name": "Python 3",
   "language": "python",
   "name": "python3"
  }
 },
 "nbformat": 4,
 "nbformat_minor": 0
}
