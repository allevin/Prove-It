{
 "cells": [
  {
   "cell_type": "markdown",
   "metadata": {
    "collapsed": true
   },
   "source": [
    "Proof of <a class=\"ProveItLink\" href=\"../../../../_context_.ipynb\">proveit</a>.<a class=\"ProveItLink\" href=\"../../../_context_.ipynb\">logic</a>.<a class=\"ProveItLink\" href=\"../../_context_.ipynb\">boolean</a>.<a class=\"ProveItLink\" href=\"../_context_.ipynb\">implication</a>.<a class=\"ProveItLink\" href=\"../_theorems_.ipynb#negatedReflex\">negatedReflex</a> theorem\n",
    "========"
   ]
  },
  {
   "cell_type": "code",
   "execution_count": 1,
   "metadata": {},
   "outputs": [],
   "source": [
    "import proveit\n",
    "from proveit import defaults\n",
    "from proveit._common_ import A, B\n",
    "from proveit.logic import Equals, TRUE, FALSE\n",
    "from proveit.logic.boolean.implication import Implies\n",
    "from proveit.logic.boolean.implication._axioms_ import untrueAntecedentImplication\n",
    "from proveit.logic.boolean.implication._theorems_ import notTrueViaContradiction\n",
    "from proveit.logic.boolean.negation import Not\n",
    "context = proveit.Context('..') # the theorem's context is in the parent directory"
   ]
  },
  {
   "cell_type": "code",
   "execution_count": 2,
   "metadata": {},
   "outputs": [
    {
     "name": "stdout",
     "output_type": "stream",
     "text": [
      "Beginning proof of negatedReflex\n",
      "Recorded 'presuming' information\n",
      "Presuming previous theorems (applied transitively).\n"
     ]
    },
    {
     "data": {
      "text/html": [
       "<strong id=\"negatedReflex\">negatedReflex:</strong> <a class=\"ProveItLink\" href=\"../__pv_it/f8fae95c156c92d5ad1ec942c1fff3453391081e0/expr.ipynb\"><img src=\"../__pv_it/f8fae95c156c92d5ad1ec942c1fff3453391081e0/expr.png\" style=\"display:inline;vertical-align:middle;\" /></a><br>(see <a class=\"ProveItLink\" href=\"../__pv_it/f8fae95c156c92d5ad1ec942c1fff3453391081e0/dependencies.ipynb\">dependencies</a>)<br>"
      ],
      "text/plain": [
       "negatedReflex: forall_{A, B | [not](A => B)} (B => A)"
      ]
     },
     "execution_count": 2,
     "metadata": {},
     "output_type": "execute_result"
    }
   ],
   "source": [
    "%proving negatedReflex presuming []"
   ]
  },
  {
   "cell_type": "code",
   "execution_count": 3,
   "metadata": {},
   "outputs": [
    {
     "data": {
      "text/html": [
       "<strong id=\"defaults.assumptions\">defaults.assumptions:</strong> <a class=\"ProveItLink\" href=\"../__pv_it/c73b214512af8278ad6856b98fba059b4aa96b9c0/expr.ipynb\"><img src=\"../__pv_it/c73b214512af8278ad6856b98fba059b4aa96b9c0/expr.png\" style=\"display:inline;vertical-align:middle;\" /></a><br>"
      ],
      "text/plain": [
       "defaults.assumptions: ([not](A => B))"
      ]
     },
     "execution_count": 3,
     "metadata": {},
     "output_type": "execute_result"
    }
   ],
   "source": [
    "defaults.assumptions = negatedReflex.allConditions()"
   ]
  },
  {
   "cell_type": "code",
   "execution_count": 4,
   "metadata": {},
   "outputs": [
    {
     "data": {
      "text/html": [
       "<strong id=\"BeqT\">BeqT:</strong> <a class=\"ProveItLink\" href=\"../__pv_it/7f8413a78900282a37dba43b921b29b8acb133c80/expr.ipynb\"><img src=\"../__pv_it/7f8413a78900282a37dba43b921b29b8acb133c80/expr.png\" style=\"display:inline;vertical-align:middle;\" /></a><br>"
      ],
      "text/plain": [
       "BeqT: B = TRUE"
      ]
     },
     "execution_count": 4,
     "metadata": {},
     "output_type": "execute_result"
    }
   ],
   "source": [
    "BeqT = Equals(B,TRUE)"
   ]
  },
  {
   "cell_type": "code",
   "execution_count": 5,
   "metadata": {},
   "outputs": [
    {
     "data": {
      "text/html": [
       "<strong id=\"AimplBeqT\">AimplBeqT:</strong> <span style=\"font-size:20px;\"><a class=\"ProveItLink\" href=\"../__pv_it/d44dd125e1c38b139b67f0197856a1b22f41ee200/expr.ipynb\"><img src=\"../__pv_it/d44dd125e1c38b139b67f0197856a1b22f41ee200/expr.png\" style=\"display:inline;vertical-align:middle;\" /></a> &#x22A2;&nbsp;<a class=\"ProveItLink\" href=\"../__pv_it/b2ba636543ab0c22472da47c7507199309242b190/expr.ipynb\"><img src=\"../__pv_it/b2ba636543ab0c22472da47c7507199309242b190/expr.png\" style=\"display:inline;vertical-align:middle;\" /></a></span><br>"
      ],
      "text/plain": [
       "AimplBeqT: {B = TRUE} |= A => (B = TRUE)"
      ]
     },
     "execution_count": 5,
     "metadata": {},
     "output_type": "execute_result"
    }
   ],
   "source": [
    "AimplBeqT = BeqT.prove([BeqT]).asImplication(A)"
   ]
  },
  {
   "cell_type": "code",
   "execution_count": 6,
   "metadata": {},
   "outputs": [
    {
     "data": {
      "text/html": [
       "<strong id=\"nImplAB\">nImplAB:</strong> <a class=\"ProveItLink\" href=\"../__pv_it/57be689d3531a13f3fea496c754f779e65f0891c0/expr.ipynb\"><img src=\"../__pv_it/57be689d3531a13f3fea496c754f779e65f0891c0/expr.png\" style=\"display:inline;vertical-align:middle;\" /></a><br>"
      ],
      "text/plain": [
       "nImplAB: [not](A => B)"
      ]
     },
     "execution_count": 6,
     "metadata": {},
     "output_type": "execute_result"
    }
   ],
   "source": [
    "nImplAB = Not(Implies(A,B))"
   ]
  },
  {
   "cell_type": "code",
   "execution_count": 7,
   "metadata": {},
   "outputs": [
    {
     "data": {
      "text/html": [
       "<strong id=\"AimplB\">AimplB:</strong> <a class=\"ProveItLink\" href=\"../__pv_it/e73a70c11cb4dd0ed268f52ee1583e255f8135080/expr.ipynb\"><img src=\"../__pv_it/e73a70c11cb4dd0ed268f52ee1583e255f8135080/expr.png\" style=\"display:inline;vertical-align:middle;\" /></a><br>"
      ],
      "text/plain": [
       "AimplB: A => B"
      ]
     },
     "execution_count": 7,
     "metadata": {},
     "output_type": "execute_result"
    }
   ],
   "source": [
    "AimplB = nImplAB.operands[0]"
   ]
  },
  {
   "cell_type": "code",
   "execution_count": 8,
   "metadata": {},
   "outputs": [
    {
     "data": {
      "text/html": [
       "<span style=\"font-size:20px;\"><a class=\"ProveItLink\" href=\"../__pv_it/6215f91843e7866566cb1880da61a9f0b57e395d0/expr.ipynb\"><img src=\"../__pv_it/6215f91843e7866566cb1880da61a9f0b57e395d0/expr.png\" style=\"display:inline;vertical-align:middle;\" /></a> &#x22A2;&nbsp;<a class=\"ProveItLink\" href=\"../__pv_it/a08a00ac10081c9d0e5724c5b15884da49635f810/expr.ipynb\"><img src=\"../__pv_it/a08a00ac10081c9d0e5724c5b15884da49635f810/expr.png\" style=\"display:inline;vertical-align:middle;\" /></a></span>"
      ],
      "text/plain": [
       "{[not](A => B)} |= [not](A => B) = TRUE"
      ]
     },
     "execution_count": 8,
     "metadata": {},
     "output_type": "execute_result"
    }
   ],
   "source": [
    "nImplAB.evaluation()"
   ]
  },
  {
   "cell_type": "code",
   "execution_count": 9,
   "metadata": {},
   "outputs": [
    {
     "data": {
      "text/html": [
       "<span style=\"font-size:20px;\"><a class=\"ProveItLink\" href=\"../__pv_it/95bdaf3e949520e09b8e2156fd557142a33bad330/expr.ipynb\"><img src=\"../__pv_it/95bdaf3e949520e09b8e2156fd557142a33bad330/expr.png\" style=\"display:inline;vertical-align:middle;\" /></a> &#x22A2;&nbsp;<a class=\"ProveItLink\" href=\"../../__pv_it/8f1f7fac882de28c72b62ab80a1700b6d8fd066b0/expr.ipynb\"><img src=\"../../__pv_it/8f1f7fac882de28c72b62ab80a1700b6d8fd066b0/expr.png\" style=\"display:inline;vertical-align:middle;\" /></a></span>"
      ],
      "text/plain": [
       "{B , [not](A => B)} |= FALSE"
      ]
     },
     "execution_count": 9,
     "metadata": {},
     "output_type": "execute_result"
    }
   ],
   "source": [
    "nImplAB.deriveContradiction([B, Not(Implies(A,B))])"
   ]
  },
  {
   "cell_type": "code",
   "execution_count": 10,
   "metadata": {},
   "outputs": [
    {
     "data": {
      "text/html": [
       "<span style=\"font-size:20px;\"><a class=\"ProveItLink\" href=\"../__pv_it/6215f91843e7866566cb1880da61a9f0b57e395d0/expr.ipynb\"><img src=\"../__pv_it/6215f91843e7866566cb1880da61a9f0b57e395d0/expr.png\" style=\"display:inline;vertical-align:middle;\" /></a> &#x22A2;&nbsp;<a class=\"ProveItLink\" href=\"../__pv_it/e41032f24373c0f194d9ab0bf9c141ce51c73f2f0/expr.ipynb\"><img src=\"../__pv_it/e41032f24373c0f194d9ab0bf9c141ce51c73f2f0/expr.png\" style=\"display:inline;vertical-align:middle;\" /></a></span>"
      ],
      "text/plain": [
       "{[not](A => B)} |= B != TRUE"
      ]
     },
     "execution_count": 10,
     "metadata": {},
     "output_type": "execute_result"
    }
   ],
   "source": [
    "notTrueViaContradiction.specialize({A:B})"
   ]
  },
  {
   "cell_type": "code",
   "execution_count": 11,
   "metadata": {},
   "outputs": [
    {
     "data": {
      "text/html": [
       "<span style=\"font-size:20px;\"> &#x22A2;&nbsp;<a class=\"ProveItLink\" href=\"../__pv_it/5f93f169d2ba24dbf19d839f9654cac3a4edbeb90/expr.ipynb\"><img src=\"../__pv_it/5f93f169d2ba24dbf19d839f9654cac3a4edbeb90/expr.png\" style=\"display:inline;vertical-align:middle;\" /></a></span>"
      ],
      "text/plain": [
       "|= forall_{A, B | A != TRUE} (A => B)"
      ]
     },
     "execution_count": 11,
     "metadata": {},
     "output_type": "execute_result"
    }
   ],
   "source": [
    "untrueAntecedentImplication"
   ]
  },
  {
   "cell_type": "code",
   "execution_count": 12,
   "metadata": {},
   "outputs": [
    {
     "data": {
      "text/html": [
       "<span style=\"font-size:20px;\"><a class=\"ProveItLink\" href=\"../__pv_it/6215f91843e7866566cb1880da61a9f0b57e395d0/expr.ipynb\"><img src=\"../__pv_it/6215f91843e7866566cb1880da61a9f0b57e395d0/expr.png\" style=\"display:inline;vertical-align:middle;\" /></a> &#x22A2;&nbsp;<a class=\"ProveItLink\" href=\"../__pv_it/58231239aa3ff75feba4340b3e09a295f56b05c20/expr.ipynb\"><img src=\"../__pv_it/58231239aa3ff75feba4340b3e09a295f56b05c20/expr.png\" style=\"display:inline;vertical-align:middle;\" /></a></span>"
      ],
      "text/plain": [
       "{[not](A => B)} |= B => A"
      ]
     },
     "execution_count": 12,
     "metadata": {},
     "output_type": "execute_result"
    }
   ],
   "source": [
    "untrueAntecedentImplication.specialize({A:B, B:A})"
   ]
  },
  {
   "cell_type": "code",
   "execution_count": 13,
   "metadata": {},
   "outputs": [
    {
     "data": {
      "text/html": [
       "<table><tr><th>&nbsp;</th><th>step type</th><th>requirements</th><th>statement</th></tr>\n",
       "<tr><td>0</td><td>generalizaton</td><td>1</td><td><span style=\"font-size:20px;\"> &#x22A2;&nbsp;<a class=\"ProveItLink\" href=\"../__pv_it/f8fae95c156c92d5ad1ec942c1fff3453391081e0/expr.ipynb\"><img src=\"../__pv_it/f8fae95c156c92d5ad1ec942c1fff3453391081e0/expr.png\" style=\"display:inline;vertical-align:middle;\" /></a></span></td></tr>\n",
       "<tr><td>1</td><td>specialization</td><td>2, 3</td><td><span style=\"font-size:20px;\"><a class=\"ProveItLink\" href=\"../__pv_it/6215f91843e7866566cb1880da61a9f0b57e395d0/expr.ipynb\"><img src=\"../__pv_it/6215f91843e7866566cb1880da61a9f0b57e395d0/expr.png\" style=\"display:inline;vertical-align:middle;\" /></a> &#x22A2;&nbsp;<a class=\"ProveItLink\" href=\"../__pv_it/58231239aa3ff75feba4340b3e09a295f56b05c20/expr.ipynb\"><img src=\"../__pv_it/58231239aa3ff75feba4340b3e09a295f56b05c20/expr.png\" style=\"display:inline;vertical-align:middle;\" /></a></span></td></tr>\n",
       "<tr><td>&nbsp;</td><td colspan=4 style=\"text-align:left\"><span style=\"font-size:20px;\"><a class=\"ProveItLink\" href=\"../../../../__pv_it/2cbe72a7ad6f655694dd697106680215e8489b600/expr.ipynb\"><img src=\"../../../../__pv_it/2cbe72a7ad6f655694dd697106680215e8489b600/expr.png\" style=\"display:inline;vertical-align:middle;\" /></a> : <a class=\"ProveItLink\" href=\"../../../../__pv_it/077b2ff79244fb4582cbe22c6e3356fa92a52f2f0/expr.ipynb\"><img src=\"../../../../__pv_it/077b2ff79244fb4582cbe22c6e3356fa92a52f2f0/expr.png\" style=\"display:inline;vertical-align:middle;\" /></a>, <a class=\"ProveItLink\" href=\"../../../../__pv_it/077b2ff79244fb4582cbe22c6e3356fa92a52f2f0/expr.ipynb\"><img src=\"../../../../__pv_it/077b2ff79244fb4582cbe22c6e3356fa92a52f2f0/expr.png\" style=\"display:inline;vertical-align:middle;\" /></a> : <a class=\"ProveItLink\" href=\"../../../../__pv_it/2cbe72a7ad6f655694dd697106680215e8489b600/expr.ipynb\"><img src=\"../../../../__pv_it/2cbe72a7ad6f655694dd697106680215e8489b600/expr.png\" style=\"display:inline;vertical-align:middle;\" /></a></span></td></tr><tr><td>2</td><td>axiom</td><td></td><td><span style=\"font-size:20px;\"> &#x22A2;&nbsp;<a class=\"ProveItLink\" href=\"../__pv_it/5f93f169d2ba24dbf19d839f9654cac3a4edbeb90/expr.ipynb\"><img src=\"../__pv_it/5f93f169d2ba24dbf19d839f9654cac3a4edbeb90/expr.png\" style=\"display:inline;vertical-align:middle;\" /></a></span></td></tr>\n",
       "<tr><td>&nbsp;</td><td colspan=4 style-\"text-align:left\"><a class=\"ProveItLink\" href=\"../_axioms_.ipynb#untrueAntecedentImplication\">proveit.logic.boolean.implication.untrueAntecedentImplication</a></td></tr><tr><td>3</td><td>specialization</td><td>4, 5</td><td><span style=\"font-size:20px;\"><a class=\"ProveItLink\" href=\"../__pv_it/6215f91843e7866566cb1880da61a9f0b57e395d0/expr.ipynb\"><img src=\"../__pv_it/6215f91843e7866566cb1880da61a9f0b57e395d0/expr.png\" style=\"display:inline;vertical-align:middle;\" /></a> &#x22A2;&nbsp;<a class=\"ProveItLink\" href=\"../__pv_it/e41032f24373c0f194d9ab0bf9c141ce51c73f2f0/expr.ipynb\"><img src=\"../__pv_it/e41032f24373c0f194d9ab0bf9c141ce51c73f2f0/expr.png\" style=\"display:inline;vertical-align:middle;\" /></a></span></td></tr>\n",
       "<tr><td>&nbsp;</td><td colspan=4 style=\"text-align:left\"><span style=\"font-size:20px;\"><a class=\"ProveItLink\" href=\"../../../../__pv_it/2cbe72a7ad6f655694dd697106680215e8489b600/expr.ipynb\"><img src=\"../../../../__pv_it/2cbe72a7ad6f655694dd697106680215e8489b600/expr.png\" style=\"display:inline;vertical-align:middle;\" /></a> : <a class=\"ProveItLink\" href=\"../../../../__pv_it/077b2ff79244fb4582cbe22c6e3356fa92a52f2f0/expr.ipynb\"><img src=\"../../../../__pv_it/077b2ff79244fb4582cbe22c6e3356fa92a52f2f0/expr.png\" style=\"display:inline;vertical-align:middle;\" /></a></span></td></tr><tr><td>4</td><td>theorem</td><td></td><td><span style=\"font-size:20px;\"> &#x22A2;&nbsp;<a class=\"ProveItLink\" href=\"../__pv_it/a5e38f436c56f4e6ba6ead9b11db51e0d2f4fadb0/expr.ipynb\"><img src=\"../__pv_it/a5e38f436c56f4e6ba6ead9b11db51e0d2f4fadb0/expr.png\" style=\"display:inline;vertical-align:middle;\" /></a></span></td></tr>\n",
       "<tr><td>&nbsp;</td><td colspan=4 style-\"text-align:left\"><a class=\"ProveItLink\" href=\"notTrueViaContradiction.ipynb\">proveit.logic.boolean.implication.notTrueViaContradiction</a></td></tr><tr><td>5</td><td>hypothetical reasoning</td><td>6</td><td><span style=\"font-size:20px;\"><a class=\"ProveItLink\" href=\"../__pv_it/6215f91843e7866566cb1880da61a9f0b57e395d0/expr.ipynb\"><img src=\"../__pv_it/6215f91843e7866566cb1880da61a9f0b57e395d0/expr.png\" style=\"display:inline;vertical-align:middle;\" /></a> &#x22A2;&nbsp;<a class=\"ProveItLink\" href=\"../__pv_it/749ce54bbff10dc3fc6af6895a9ec22167c335680/expr.ipynb\"><img src=\"../__pv_it/749ce54bbff10dc3fc6af6895a9ec22167c335680/expr.png\" style=\"display:inline;vertical-align:middle;\" /></a></span></td></tr>\n",
       "<tr><td>6</td><td>specialization</td><td>7, 8, 9</td><td><span style=\"font-size:20px;\"><a class=\"ProveItLink\" href=\"../__pv_it/95bdaf3e949520e09b8e2156fd557142a33bad330/expr.ipynb\"><img src=\"../__pv_it/95bdaf3e949520e09b8e2156fd557142a33bad330/expr.png\" style=\"display:inline;vertical-align:middle;\" /></a> &#x22A2;&nbsp;<a class=\"ProveItLink\" href=\"../../__pv_it/8f1f7fac882de28c72b62ab80a1700b6d8fd066b0/expr.ipynb\"><img src=\"../../__pv_it/8f1f7fac882de28c72b62ab80a1700b6d8fd066b0/expr.png\" style=\"display:inline;vertical-align:middle;\" /></a></span></td></tr>\n",
       "<tr><td>&nbsp;</td><td colspan=4 style=\"text-align:left\"><span style=\"font-size:20px;\"><a class=\"ProveItLink\" href=\"../../../../__pv_it/2cbe72a7ad6f655694dd697106680215e8489b600/expr.ipynb\"><img src=\"../../../../__pv_it/2cbe72a7ad6f655694dd697106680215e8489b600/expr.png\" style=\"display:inline;vertical-align:middle;\" /></a> : <a class=\"ProveItLink\" href=\"../__pv_it/e73a70c11cb4dd0ed268f52ee1583e255f8135080/expr.ipynb\"><img src=\"../__pv_it/e73a70c11cb4dd0ed268f52ee1583e255f8135080/expr.png\" style=\"display:inline;vertical-align:middle;\" /></a></span></td></tr><tr><td>7</td><td>theorem</td><td></td><td><span style=\"font-size:20px;\"> &#x22A2;&nbsp;<a class=\"ProveItLink\" href=\"../../negation/__pv_it/e727a5939d997c0a6c3bd2fbea4c4df70b5dc6d10/expr.ipynb\"><img src=\"../../negation/__pv_it/e727a5939d997c0a6c3bd2fbea4c4df70b5dc6d10/expr.png\" style=\"display:inline;vertical-align:middle;\" /></a></span></td></tr>\n",
       "<tr><td>&nbsp;</td><td colspan=4 style-\"text-align:left\"><a class=\"ProveItLink\" href=\"../../negation/_proofs_/negationContradiction.ipynb\">proveit.logic.boolean.negation.negationContradiction</a></td></tr><tr><td>8</td><td>hypothetical reasoning</td><td>10</td><td><span style=\"font-size:20px;\"><a class=\"ProveItLink\" href=\"../__pv_it/1612ee39be24e00576045a5f0471ba42a9eab2970/expr.ipynb\"><img src=\"../__pv_it/1612ee39be24e00576045a5f0471ba42a9eab2970/expr.png\" style=\"display:inline;vertical-align:middle;\" /></a> &#x22A2;&nbsp;<a class=\"ProveItLink\" href=\"../__pv_it/e73a70c11cb4dd0ed268f52ee1583e255f8135080/expr.ipynb\"><img src=\"../__pv_it/e73a70c11cb4dd0ed268f52ee1583e255f8135080/expr.png\" style=\"display:inline;vertical-align:middle;\" /></a></span></td></tr>\n",
       "<tr><td>9</td><td>assumption</td><td></td><td><span style=\"font-size:20px;\"><a class=\"ProveItLink\" href=\"../__pv_it/6215f91843e7866566cb1880da61a9f0b57e395d0/expr.ipynb\"><img src=\"../__pv_it/6215f91843e7866566cb1880da61a9f0b57e395d0/expr.png\" style=\"display:inline;vertical-align:middle;\" /></a> &#x22A2;&nbsp;<a class=\"ProveItLink\" href=\"../__pv_it/57be689d3531a13f3fea496c754f779e65f0891c0/expr.ipynb\"><img src=\"../__pv_it/57be689d3531a13f3fea496c754f779e65f0891c0/expr.png\" style=\"display:inline;vertical-align:middle;\" /></a></span></td></tr>\n",
       "<tr><td>10</td><td>assumption</td><td></td><td><span style=\"font-size:20px;\"><a class=\"ProveItLink\" href=\"../__pv_it/1612ee39be24e00576045a5f0471ba42a9eab2970/expr.ipynb\"><img src=\"../__pv_it/1612ee39be24e00576045a5f0471ba42a9eab2970/expr.png\" style=\"display:inline;vertical-align:middle;\" /></a> &#x22A2;&nbsp;<a class=\"ProveItLink\" href=\"../../../../__pv_it/077b2ff79244fb4582cbe22c6e3356fa92a52f2f0/expr.ipynb\"><img src=\"../../../../__pv_it/077b2ff79244fb4582cbe22c6e3356fa92a52f2f0/expr.png\" style=\"display:inline;vertical-align:middle;\" /></a></span></td></tr>\n",
       "</table>"
      ],
      "text/plain": [
       "\tstep type\trequirements\tstatement\n",
       "0\tgeneralizaton\t1\t|= forall_{A, B | [not](A => B)} (B => A)\n",
       "1\tspecialization\t2, 3\t{[not](A => B)} |= B => A\n",
       "\tA : B, B : A\n",
       "2\taxiom\t\t|= forall_{A, B | A != TRUE} (A => B)\n",
       "\tproveit.logic.boolean.implication.untrueAntecedentImplication\n",
       "3\tspecialization\t4, 5\t{[not](A => B)} |= B != TRUE\n",
       "\tA : B\n",
       "4\ttheorem\t\t|= forall_{A | A => FALSE} (A != TRUE)\n",
       "\tproveit.logic.boolean.implication.notTrueViaContradiction\n",
       "5\thypothetical reasoning\t6\t{[not](A => B)} |= B => FALSE\n",
       "6\tspecialization\t7, 8, 9\t{B , [not](A => B)} |= FALSE\n",
       "\tA : A => B\n",
       "7\ttheorem\t\t|= forall_{A | A , [not](A)} FALSE\n",
       "\tproveit.logic.boolean.negation.negationContradiction\n",
       "8\thypothetical reasoning\t10\t{B} |= A => B\n",
       "9\tassumption\t\t{[not](A => B)} |= [not](A => B)\n",
       "10\tassumption\t\t{B} |= B"
      ]
     },
     "execution_count": 13,
     "metadata": {},
     "output_type": "execute_result"
    }
   ],
   "source": [
    "%qed"
   ]
  }
 ],
 "metadata": {
  "kernelspec": {
   "display_name": "Python 3",
   "language": "python",
   "name": "python3"
  },
  "language_info": {
   "codemirror_mode": {
    "name": "ipython",
    "version": 3
   },
   "file_extension": ".py",
   "mimetype": "text/x-python",
   "name": "python",
   "nbconvert_exporter": "python",
   "pygments_lexer": "ipython3",
   "version": "3.7.3"
  }
 },
 "nbformat": 4,
 "nbformat_minor": 1
}
