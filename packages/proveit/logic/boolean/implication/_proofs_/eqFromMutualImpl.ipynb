{
 "cells": [
  {
   "cell_type": "markdown",
   "metadata": {
    "collapsed": true
   },
   "source": [
    "Proof of <a class=\"ProveItLink\" href=\"../../../../_context_.ipynb\">proveit</a>.<a class=\"ProveItLink\" href=\"../../../_context_.ipynb\">logic</a>.<a class=\"ProveItLink\" href=\"../../_context_.ipynb\">boolean</a>.<a class=\"ProveItLink\" href=\"../_context_.ipynb\">implication</a>.<a class=\"ProveItLink\" href=\"../_theorems_.ipynb#eqFromMutualImpl\">eqFromMutualImpl</a> theorem\n",
    "========"
   ]
  },
  {
   "cell_type": "code",
   "execution_count": 1,
   "metadata": {},
   "outputs": [],
   "source": [
    "import proveit\n",
    "from proveit.logic.boolean._theorems_ import foldForallOverBool\n",
    "context = proveit.Context('..') # the theorem's context is in the parent directory"
   ]
  },
  {
   "cell_type": "code",
   "execution_count": 2,
   "metadata": {},
   "outputs": [
    {
     "name": "stdout",
     "output_type": "stream",
     "text": [
      "Beginning proof of eqFromMutualImpl\n",
      "Recorded 'presuming' information\n"
     ]
    },
    {
     "name": "stdout",
     "output_type": "stream",
     "text": [
      "Presuming previous theorems (applied transitively).\n"
     ]
    },
    {
     "data": {
      "text/html": [
       "<strong id=\"eqFromMutualImpl\">eqFromMutualImpl:</strong> <a class=\"ProveItLink\" href=\"../__pv_it/717acdfbf671ae7748de37f1a290f3df91502b190/expr.ipynb\"><img src=\"../__pv_it/717acdfbf671ae7748de37f1a290f3df91502b190/expr.png\" style=\"display:inline;vertical-align:middle;\" /></a><br>(see <a class=\"ProveItLink\" href=\"../__pv_it/717acdfbf671ae7748de37f1a290f3df91502b190/dependencies.ipynb\">dependencies</a>)<br>"
      ],
      "text/plain": [
       "eqFromMutualImpl: forall_{A, B in BOOLEANS | A => B , B => A} (A = B)"
      ]
     },
     "execution_count": 2,
     "metadata": {},
     "output_type": "execute_result"
    }
   ],
   "source": [
    "%proving eqFromMutualImpl presuming []"
   ]
  },
  {
   "cell_type": "code",
   "execution_count": 3,
   "metadata": {},
   "outputs": [
    {
     "data": {
      "text/html": [
       "<table><tr><th>&nbsp;</th><th>step type</th><th>requirements</th><th>statement</th></tr>\n",
       "<tr><td>0</td><td>specialization</td><td>1, 2, 3</td><td><span style=\"font-size:20px;\"> &#x22A2;&nbsp;<a class=\"ProveItLink\" href=\"../__pv_it/717acdfbf671ae7748de37f1a290f3df91502b190/expr.ipynb\"><img src=\"../__pv_it/717acdfbf671ae7748de37f1a290f3df91502b190/expr.png\" style=\"display:inline;vertical-align:middle;\" /></a></span></td></tr>\n",
       "<tr><td>&nbsp;</td><td colspan=4 style=\"text-align:left\"><span style=\"font-size:20px;\"><a class=\"ProveItLink\" href=\"../__pv_it/ba7a1d1079fc6c3efbf524e11310d663ea5fef8b0/expr.ipynb\"><img src=\"../__pv_it/ba7a1d1079fc6c3efbf524e11310d663ea5fef8b0/expr.png\" style=\"display:inline;vertical-align:middle;\" /></a></span></td></tr><tr><td>1</td><td>theorem</td><td></td><td><span style=\"font-size:20px;\"> &#x22A2;&nbsp;<a class=\"ProveItLink\" href=\"../../__pv_it/aee6960d17505c798b9d1f24ff6ef5d96fac5a9a0/expr.ipynb\"><img src=\"../../__pv_it/aee6960d17505c798b9d1f24ff6ef5d96fac5a9a0/expr.png\" style=\"display:inline;vertical-align:middle;\" /></a></span></td></tr>\n",
       "<tr><td>&nbsp;</td><td colspan=4 style-\"text-align:left\"><a class=\"ProveItLink\" href=\"../../_proofs_/foldForallOverBool.ipynb\">proveit.logic.boolean.foldForallOverBool</a></td></tr><tr><td>2</td><td>generalizaton</td><td>4</td><td><span style=\"font-size:20px;\"> &#x22A2;&nbsp;<a class=\"ProveItLink\" href=\"../__pv_it/8cd8556af7ab6e0e6775c2eaf2dd41ff304abb760/expr.ipynb\"><img src=\"../__pv_it/8cd8556af7ab6e0e6775c2eaf2dd41ff304abb760/expr.png\" style=\"display:inline;vertical-align:middle;\" /></a></span></td></tr>\n",
       "<tr><td>3</td><td>generalizaton</td><td>5</td><td><span style=\"font-size:20px;\"> &#x22A2;&nbsp;<a class=\"ProveItLink\" href=\"../__pv_it/54a5231f90bdf636009f3d2fc556e714afa04d5e0/expr.ipynb\"><img src=\"../__pv_it/54a5231f90bdf636009f3d2fc556e714afa04d5e0/expr.png\" style=\"display:inline;vertical-align:middle;\" /></a></span></td></tr>\n",
       "<tr><td>4</td><td>specialization</td><td>7, 6</td><td><span style=\"font-size:20px;\"><a class=\"ProveItLink\" href=\"../__pv_it/ce9614b14256a8b0f33e1067d1683cdd2f15cb9d0/expr.ipynb\"><img src=\"../__pv_it/ce9614b14256a8b0f33e1067d1683cdd2f15cb9d0/expr.png\" style=\"display:inline;vertical-align:middle;\" /></a> &#x22A2;&nbsp;<a class=\"ProveItLink\" href=\"../__pv_it/e0e288b5a2e7e9976baff3df1cf91b8bc223b6d00/expr.ipynb\"><img src=\"../__pv_it/e0e288b5a2e7e9976baff3df1cf91b8bc223b6d00/expr.png\" style=\"display:inline;vertical-align:middle;\" /></a></span></td></tr>\n",
       "<tr><td>&nbsp;</td><td colspan=4 style=\"text-align:left\"><span style=\"font-size:20px;\"><a class=\"ProveItLink\" href=\"../__pv_it/23e630b31055153e3a7a5d2826c2927c719720590/expr.ipynb\"><img src=\"../__pv_it/23e630b31055153e3a7a5d2826c2927c719720590/expr.png\" style=\"display:inline;vertical-align:middle;\" /></a>, <a class=\"ProveItLink\" href=\"../__pv_it/b66e1088aee075b38a34ff547c137806d2c4a1cf0/expr.ipynb\"><img src=\"../__pv_it/b66e1088aee075b38a34ff547c137806d2c4a1cf0/expr.png\" style=\"display:inline;vertical-align:middle;\" /></a></span></td></tr><tr><td>5</td><td>specialization</td><td>7, 8</td><td><span style=\"font-size:20px;\"><a class=\"ProveItLink\" href=\"../__pv_it/078df011b09deaf07efa76668798da3d469d97230/expr.ipynb\"><img src=\"../__pv_it/078df011b09deaf07efa76668798da3d469d97230/expr.png\" style=\"display:inline;vertical-align:middle;\" /></a> &#x22A2;&nbsp;<a class=\"ProveItLink\" href=\"../__pv_it/180eec9324274736476b5c8ad231865db67484de0/expr.ipynb\"><img src=\"../__pv_it/180eec9324274736476b5c8ad231865db67484de0/expr.png\" style=\"display:inline;vertical-align:middle;\" /></a></span></td></tr>\n",
       "<tr><td>&nbsp;</td><td colspan=4 style=\"text-align:left\"><span style=\"font-size:20px;\"><a class=\"ProveItLink\" href=\"../__pv_it/23e630b31055153e3a7a5d2826c2927c719720590/expr.ipynb\"><img src=\"../__pv_it/23e630b31055153e3a7a5d2826c2927c719720590/expr.png\" style=\"display:inline;vertical-align:middle;\" /></a>, <a class=\"ProveItLink\" href=\"../__pv_it/628ccb419a6a535ac3555d6484e800cf72ea272e0/expr.ipynb\"><img src=\"../__pv_it/628ccb419a6a535ac3555d6484e800cf72ea272e0/expr.png\" style=\"display:inline;vertical-align:middle;\" /></a></span></td></tr><tr><td>6</td><td>specialization</td><td>9, 10</td><td><span style=\"font-size:20px;\"><a class=\"ProveItLink\" href=\"../__pv_it/ce9614b14256a8b0f33e1067d1683cdd2f15cb9d0/expr.ipynb\"><img src=\"../__pv_it/ce9614b14256a8b0f33e1067d1683cdd2f15cb9d0/expr.png\" style=\"display:inline;vertical-align:middle;\" /></a> &#x22A2;&nbsp;<a class=\"ProveItLink\" href=\"../__pv_it/7f8413a78900282a37dba43b921b29b8acb133c80/expr.ipynb\"><img src=\"../__pv_it/7f8413a78900282a37dba43b921b29b8acb133c80/expr.png\" style=\"display:inline;vertical-align:middle;\" /></a></span></td></tr>\n",
       "<tr><td>&nbsp;</td><td colspan=4 style=\"text-align:left\"><span style=\"font-size:20px;\"><a class=\"ProveItLink\" href=\"../__pv_it/788ef5511dfca54206679fdb7d1131e45dc4c3d50/expr.ipynb\"><img src=\"../__pv_it/788ef5511dfca54206679fdb7d1131e45dc4c3d50/expr.png\" style=\"display:inline;vertical-align:middle;\" /></a></span></td></tr><tr><td>7</td><td>theorem</td><td></td><td><span style=\"font-size:20px;\"> &#x22A2;&nbsp;<a class=\"ProveItLink\" href=\"../../../equality/__pv_it/fd70c6305343d60fc073d5325caa2ef867e523a70/expr.ipynb\"><img src=\"../../../equality/__pv_it/fd70c6305343d60fc073d5325caa2ef867e523a70/expr.png\" style=\"display:inline;vertical-align:middle;\" /></a></span></td></tr>\n",
       "<tr><td>&nbsp;</td><td colspan=4 style-\"text-align:left\"><a class=\"ProveItLink\" href=\"../../../equality/_proofs_/equalsReversal.ipynb\">proveit.logic.equality.equalsReversal</a></td></tr><tr><td>8</td><td>specialization</td><td>11, 12</td><td><span style=\"font-size:20px;\"><a class=\"ProveItLink\" href=\"../__pv_it/078df011b09deaf07efa76668798da3d469d97230/expr.ipynb\"><img src=\"../__pv_it/078df011b09deaf07efa76668798da3d469d97230/expr.png\" style=\"display:inline;vertical-align:middle;\" /></a> &#x22A2;&nbsp;<a class=\"ProveItLink\" href=\"../__pv_it/0e6513d9653529587ef99bc5f365bb0e33131b8f0/expr.ipynb\"><img src=\"../__pv_it/0e6513d9653529587ef99bc5f365bb0e33131b8f0/expr.png\" style=\"display:inline;vertical-align:middle;\" /></a></span></td></tr>\n",
       "<tr><td>&nbsp;</td><td colspan=4 style=\"text-align:left\"><span style=\"font-size:20px;\"><a class=\"ProveItLink\" href=\"../__pv_it/788ef5511dfca54206679fdb7d1131e45dc4c3d50/expr.ipynb\"><img src=\"../__pv_it/788ef5511dfca54206679fdb7d1131e45dc4c3d50/expr.png\" style=\"display:inline;vertical-align:middle;\" /></a></span></td></tr><tr><td>9</td><td>axiom</td><td></td><td><span style=\"font-size:20px;\"> &#x22A2;&nbsp;<a class=\"ProveItLink\" href=\"../../__pv_it/04576f2f89fdf94b2e1520e8f4ab361286daf7f30/expr.ipynb\"><img src=\"../../__pv_it/04576f2f89fdf94b2e1520e8f4ab361286daf7f30/expr.png\" style=\"display:inline;vertical-align:middle;\" /></a></span></td></tr>\n",
       "<tr><td>&nbsp;</td><td colspan=4 style-\"text-align:left\"><a class=\"ProveItLink\" href=\"../../_axioms_.ipynb#eqTrueIntro\">proveit.logic.boolean.eqTrueIntro</a></td></tr><tr><td>10</td><td>modus ponens</td><td>13, 14</td><td><span style=\"font-size:20px;\"><a class=\"ProveItLink\" href=\"../__pv_it/ce9614b14256a8b0f33e1067d1683cdd2f15cb9d0/expr.ipynb\"><img src=\"../__pv_it/ce9614b14256a8b0f33e1067d1683cdd2f15cb9d0/expr.png\" style=\"display:inline;vertical-align:middle;\" /></a> &#x22A2;&nbsp;<a class=\"ProveItLink\" href=\"../../../../__pv_it/077b2ff79244fb4582cbe22c6e3356fa92a52f2f0/expr.ipynb\"><img src=\"../../../../__pv_it/077b2ff79244fb4582cbe22c6e3356fa92a52f2f0/expr.png\" style=\"display:inline;vertical-align:middle;\" /></a></span></td></tr>\n",
       "<tr><td>11</td><td>axiom</td><td></td><td><span style=\"font-size:20px;\"> &#x22A2;&nbsp;<a class=\"ProveItLink\" href=\"../../negation/__pv_it/ff54988b43a873b48cad467afd8955bd0735c0210/expr.ipynb\"><img src=\"../../negation/__pv_it/ff54988b43a873b48cad467afd8955bd0735c0210/expr.png\" style=\"display:inline;vertical-align:middle;\" /></a></span></td></tr>\n",
       "<tr><td>&nbsp;</td><td colspan=4 style-\"text-align:left\"><a class=\"ProveItLink\" href=\"../../negation/_axioms_.ipynb#negationElim\">proveit.logic.boolean.negation.negationElim</a></td></tr><tr><td>12</td><td>specialization</td><td>15, 16, 17</td><td><span style=\"font-size:20px;\"><a class=\"ProveItLink\" href=\"../__pv_it/078df011b09deaf07efa76668798da3d469d97230/expr.ipynb\"><img src=\"../__pv_it/078df011b09deaf07efa76668798da3d469d97230/expr.png\" style=\"display:inline;vertical-align:middle;\" /></a> &#x22A2;&nbsp;<a class=\"ProveItLink\" href=\"../__pv_it/1da4e2fe7c44632f084fa27ea32e26dc689384c20/expr.ipynb\"><img src=\"../__pv_it/1da4e2fe7c44632f084fa27ea32e26dc689384c20/expr.png\" style=\"display:inline;vertical-align:middle;\" /></a></span></td></tr>\n",
       "<tr><td>&nbsp;</td><td colspan=4 style=\"text-align:left\"><span style=\"font-size:20px;\"><a class=\"ProveItLink\" href=\"../__pv_it/788ef5511dfca54206679fdb7d1131e45dc4c3d50/expr.ipynb\"><img src=\"../__pv_it/788ef5511dfca54206679fdb7d1131e45dc4c3d50/expr.png\" style=\"display:inline;vertical-align:middle;\" /></a></span></td></tr><tr><td>13</td><td>assumption</td><td></td><td><span style=\"font-size:20px;\"><a class=\"ProveItLink\" href=\"../__pv_it/ce9614b14256a8b0f33e1067d1683cdd2f15cb9d0/expr.ipynb\"><img src=\"../__pv_it/ce9614b14256a8b0f33e1067d1683cdd2f15cb9d0/expr.png\" style=\"display:inline;vertical-align:middle;\" /></a> &#x22A2;&nbsp;<a class=\"ProveItLink\" href=\"../__pv_it/911eeeda347edd270c891725c92eaa84bbba20450/expr.ipynb\"><img src=\"../__pv_it/911eeeda347edd270c891725c92eaa84bbba20450/expr.png\" style=\"display:inline;vertical-align:middle;\" /></a></span></td></tr>\n",
       "<tr><td>14</td><td>axiom</td><td></td><td><span style=\"font-size:20px;\"> &#x22A2;&nbsp;<a class=\"ProveItLink\" href=\"../../__pv_it/68a87cc3370287d726c7086ace789e680e4461c30/expr.ipynb\"><img src=\"../../__pv_it/68a87cc3370287d726c7086ace789e680e4461c30/expr.png\" style=\"display:inline;vertical-align:middle;\" /></a></span></td></tr>\n",
       "<tr><td>&nbsp;</td><td colspan=4 style-\"text-align:left\"><a class=\"ProveItLink\" href=\"../../_axioms_.ipynb#trueAxiom\">proveit.logic.boolean.trueAxiom</a></td></tr><tr><td>15</td><td>theorem</td><td></td><td><span style=\"font-size:20px;\"> &#x22A2;&nbsp;<a class=\"ProveItLink\" href=\"../__pv_it/5c0c21d1bc8cc7b87e4f89fe4cac9b743483fc2d0/expr.ipynb\"><img src=\"../__pv_it/5c0c21d1bc8cc7b87e4f89fe4cac9b743483fc2d0/expr.png\" style=\"display:inline;vertical-align:middle;\" /></a></span></td></tr>\n",
       "<tr><td>&nbsp;</td><td colspan=4 style-\"text-align:left\"><a class=\"ProveItLink\" href=\"denyViaContradiction.ipynb\">proveit.logic.boolean.implication.denyViaContradiction</a></td></tr><tr><td>16</td><td>assumption</td><td></td><td><span style=\"font-size:20px;\"><a class=\"ProveItLink\" href=\"../__pv_it/2c2e947402f53b9e11cd7769e1b5b3378595750e0/expr.ipynb\"><img src=\"../__pv_it/2c2e947402f53b9e11cd7769e1b5b3378595750e0/expr.png\" style=\"display:inline;vertical-align:middle;\" /></a> &#x22A2;&nbsp;<a class=\"ProveItLink\" href=\"../__pv_it/fe5c91c77f0659f9ea07a2e3257797875d6868370/expr.ipynb\"><img src=\"../__pv_it/fe5c91c77f0659f9ea07a2e3257797875d6868370/expr.png\" style=\"display:inline;vertical-align:middle;\" /></a></span></td></tr>\n",
       "<tr><td>17</td><td>assumption</td><td></td><td><span style=\"font-size:20px;\"><a class=\"ProveItLink\" href=\"../__pv_it/7337b68d942a0949d7ebd2752bd4fedfa2ea4cef0/expr.ipynb\"><img src=\"../__pv_it/7337b68d942a0949d7ebd2752bd4fedfa2ea4cef0/expr.png\" style=\"display:inline;vertical-align:middle;\" /></a> &#x22A2;&nbsp;<a class=\"ProveItLink\" href=\"../__pv_it/749ce54bbff10dc3fc6af6895a9ec22167c335680/expr.ipynb\"><img src=\"../__pv_it/749ce54bbff10dc3fc6af6895a9ec22167c335680/expr.png\" style=\"display:inline;vertical-align:middle;\" /></a></span></td></tr>\n",
       "</table>"
      ],
      "text/plain": [
       "\tstep type\trequirements\tstatement\n",
       "0\tspecialization\t1, 2, 3\t|= forall_{A, B in BOOLEANS | A => B , B => A} (A = B)\n",
       "\tP -> [A -> [forall_{B in BOOLEANS | A => B , B => A} (A = B)]]\n",
       "1\ttheorem\t\t|= forall_{P | P(TRUE) , P(FALSE)} [forall_{A in BOOLEANS} P(A)]\n",
       "\tproveit.logic.boolean.foldForallOverBool\n",
       "2\tgeneralizaton\t4\t|= forall_{B in BOOLEANS | TRUE => B , B => TRUE} (TRUE = B)\n",
       "3\tgeneralizaton\t5\t|= forall_{B in BOOLEANS | FALSE => B , B => FALSE} (FALSE = B)\n",
       "4\tspecialization\t7, 6\t{TRUE => B} |= TRUE = B\n",
       "\t{x -> B}, {y -> TRUE}\n",
       "5\tspecialization\t7, 8\t{B in BOOLEANS , B => FALSE} |= FALSE = B\n",
       "\t{x -> B}, {y -> FALSE}\n",
       "6\tspecialization\t9, 10\t{TRUE => B} |= B = TRUE\n",
       "\tA -> B\n",
       "7\ttheorem\t\t|= forall_{x, y | x = y} (y = x)\n",
       "\tproveit.logic.equality.equalsReversal\n",
       "8\tspecialization\t11, 12\t{B in BOOLEANS , B => FALSE} |= B = FALSE\n",
       "\tA -> B\n",
       "9\taxiom\t\t|= forall_{A | A} (A = TRUE)\n",
       "\tproveit.logic.boolean.eqTrueIntro\n",
       "10\tmodus ponens\t13, 14\t{TRUE => B} |= B\n",
       "11\taxiom\t\t|= forall_{A | [not](A)} (A = FALSE)\n",
       "\tproveit.logic.boolean.negation.negationElim\n",
       "12\tspecialization\t15, 16, 17\t{B in BOOLEANS , B => FALSE} |= [not](B)\n",
       "\tA -> B\n",
       "13\tassumption\t\t{TRUE => B} |= TRUE => B\n",
       "14\taxiom\t\t|= TRUE\n",
       "\tproveit.logic.boolean.trueAxiom\n",
       "15\ttheorem\t\t|= forall_{A in BOOLEANS | A => FALSE} [not](A)\n",
       "\tproveit.logic.boolean.implication.denyViaContradiction\n",
       "16\tassumption\t\t{B in BOOLEANS} |= B in BOOLEANS\n",
       "17\tassumption\t\t{B => FALSE} |= B => FALSE"
      ]
     },
     "execution_count": 3,
     "metadata": {},
     "output_type": "execute_result"
    }
   ],
   "source": [
    "%qed"
   ]
  }
 ],
 "metadata": {
  "kernelspec": {
   "display_name": "Python 3",
   "language": "python",
   "name": "python3"
  },
  "language_info": {
   "codemirror_mode": {
    "name": "ipython",
    "version": 3
   },
   "file_extension": ".py",
   "mimetype": "text/x-python",
   "name": "python",
   "nbconvert_exporter": "python",
   "pygments_lexer": "ipython3",
   "version": "3.7.1"
  }
 },
 "nbformat": 4,
 "nbformat_minor": 1
}
