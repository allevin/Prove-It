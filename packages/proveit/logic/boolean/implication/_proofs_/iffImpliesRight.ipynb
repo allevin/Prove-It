{
 "cells": [
  {
   "cell_type": "markdown",
   "metadata": {
    "collapsed": true,
    "deletable": true,
    "editable": true
   },
   "source": [
    "Proof of <a class=\"ProveItLink\" href=\"../../../../_context_.ipynb\">proveit</a>.<a class=\"ProveItLink\" href=\"../../../_context_.ipynb\">logic</a>.<a class=\"ProveItLink\" href=\"../../_context_.ipynb\">boolean</a>.<a class=\"ProveItLink\" href=\"../_context_.ipynb\">implication</a>.<a href=\"../_theorems_.ipynb#iffImpliesRight\" class=\"ProveItLink\">iffImpliesRight</a> theorem\n",
    "========"
   ]
  },
  {
   "cell_type": "code",
   "execution_count": 1,
   "metadata": {
    "collapsed": true,
    "deletable": true,
    "editable": true
   },
   "outputs": [],
   "source": [
    "import proveit\n",
    "from proveit.logic.boolean.implication._axioms_ import iffDef\n",
    "from proveit.logic.boolean.conjunction._theorems_ import leftFromAnd\n",
    "from proveit.logic.equality._theorems_ import rhsViaEquivalence\n",
    "context = proveit.Context('..') # the theorem's context is in the parent directory"
   ]
  },
  {
   "cell_type": "code",
   "execution_count": 2,
   "metadata": {
    "collapsed": false,
    "deletable": true,
    "editable": true
   },
   "outputs": [
    {
     "name": "stdout",
     "output_type": "stream",
     "text": [
      "Beginning proof of iffImpliesRight\n",
      "Recorded 'presuming' information\n"
     ]
    },
    {
     "name": "stdout",
     "output_type": "stream",
     "text": [
      "Presuming proveit.logic.boolean.conjunction.leftFromAnd, proveit.logic.equality.rhsViaEquivalence theorem(s) (and any of their dependencies).\n",
      "Presuming previous theorem(s) in this context (and any of their dependencies).\n"
     ]
    },
    {
     "data": {
      "text/html": [
       "<strong id=\"iffImpliesRight\">iffImpliesRight:</strong> <a class=\"ProveItLink\" href=\"../__pv_it/314d948b7084310c1dc19721d8129adc9c252f5c0/expr.ipynb\"><img src=\"../__pv_it/314d948b7084310c1dc19721d8129adc9c252f5c0/expr.png\" style=\"display:inline;vertical-align:middle;\" /></a><br>(see <a class=\"ProveItLink\" href=\"../__pv_it/314d948b7084310c1dc19721d8129adc9c252f5c0/dependencies.ipynb\">dependencies</a>)<br>"
      ],
      "text/plain": [
       "iffImpliesRight: forall_{A, B | A <=> B} (A => B)"
      ]
     },
     "execution_count": 2,
     "metadata": {},
     "output_type": "execute_result"
    }
   ],
   "source": [
    "%proving iffImpliesRight presuming [leftFromAnd, rhsViaEquivalence]"
   ]
  },
  {
   "cell_type": "code",
   "execution_count": 3,
   "metadata": {
    "collapsed": false,
    "deletable": true,
    "editable": true
   },
   "outputs": [
    {
     "data": {
      "text/html": [
       "<span style=\"font-size:20px;\"> &#x22A2;&nbsp;<a class=\"ProveItLink\" href=\"../__pv_it/099bebbea4368331ac78d9b2efef1b54b34c0af90/expr.ipynb\"><img src=\"../__pv_it/099bebbea4368331ac78d9b2efef1b54b34c0af90/expr.png\" style=\"display:inline;vertical-align:middle;\" /></a></span>"
      ],
      "text/plain": [
       "|= forall_{A, B} ((A <=> B) = ((A => B) and (B => A)))"
      ]
     },
     "execution_count": 3,
     "metadata": {},
     "output_type": "execute_result"
    }
   ],
   "source": [
    "iffDef"
   ]
  },
  {
   "cell_type": "code",
   "execution_count": 4,
   "metadata": {
    "collapsed": false,
    "deletable": true,
    "editable": true
   },
   "outputs": [
    {
     "data": {
      "text/html": [
       "<strong id=\"iffDefSpec\">iffDefSpec:</strong> <span style=\"font-size:20px;\"> &#x22A2;&nbsp;<a class=\"ProveItLink\" href=\"../__pv_it/f5fd5d4e2da4d672b76d3263b49fecf019d092370/expr.ipynb\"><img src=\"../__pv_it/f5fd5d4e2da4d672b76d3263b49fecf019d092370/expr.png\" style=\"display:inline;vertical-align:middle;\" /></a></span><br>"
      ],
      "text/plain": [
       "iffDefSpec: |= (A <=> B) = ((A => B) and (B => A))"
      ]
     },
     "execution_count": 4,
     "metadata": {},
     "output_type": "execute_result"
    }
   ],
   "source": [
    "iffDefSpec = iffDef.specialize()"
   ]
  },
  {
   "cell_type": "code",
   "execution_count": 5,
   "metadata": {
    "collapsed": false,
    "deletable": true,
    "editable": true
   },
   "outputs": [
    {
     "data": {
      "text/html": [
       "<span style=\"font-size:20px;\"><a class=\"ProveItLink\" href=\"../__pv_it/e50116be5e9fecc63354891410412e4e2485d8200/expr.ipynb\"><img src=\"../__pv_it/e50116be5e9fecc63354891410412e4e2485d8200/expr.png\" style=\"display:inline;vertical-align:middle;\" /></a> &#x22A2;&nbsp;<a class=\"ProveItLink\" href=\"../__pv_it/434148932d7b270f25113c0ed7ba844d5c70a34f0/expr.ipynb\"><img src=\"../__pv_it/434148932d7b270f25113c0ed7ba844d5c70a34f0/expr.png\" style=\"display:inline;vertical-align:middle;\" /></a></span>"
      ],
      "text/plain": [
       "{A <=> B} |= (A => B) and (B => A)"
      ]
     },
     "execution_count": 5,
     "metadata": {},
     "output_type": "execute_result"
    }
   ],
   "source": [
    "iffDefSpec.deriveRightViaEquivalence(iffImpliesRight.conditions)"
   ]
  },
  {
   "cell_type": "code",
   "execution_count": 6,
   "metadata": {
    "collapsed": false,
    "deletable": true,
    "editable": true
   },
   "outputs": [
    {
     "data": {
      "text/html": [
       "<table><tr><th>&nbsp;</th><th>step type</th><th>requirements</th><th>statement</th></tr>\n",
       "<tr><td>0</td><td>generalizaton</td><td>1</td><td><span style=\"font-size:20px;\"> &#x22A2;&nbsp;<a class=\"ProveItLink\" href=\"../__pv_it/314d948b7084310c1dc19721d8129adc9c252f5c0/expr.ipynb\"><img src=\"../__pv_it/314d948b7084310c1dc19721d8129adc9c252f5c0/expr.png\" style=\"display:inline;vertical-align:middle;\" /></a></span></td></tr>\n",
       "<tr><td>1</td><td>specialization</td><td>2, 3</td><td><span style=\"font-size:20px;\"><a class=\"ProveItLink\" href=\"../__pv_it/e50116be5e9fecc63354891410412e4e2485d8200/expr.ipynb\"><img src=\"../__pv_it/e50116be5e9fecc63354891410412e4e2485d8200/expr.png\" style=\"display:inline;vertical-align:middle;\" /></a> &#x22A2;&nbsp;<a class=\"ProveItLink\" href=\"../__pv_it/e73a70c11cb4dd0ed268f52ee1583e255f8135080/expr.ipynb\"><img src=\"../__pv_it/e73a70c11cb4dd0ed268f52ee1583e255f8135080/expr.png\" style=\"display:inline;vertical-align:middle;\" /></a></span></td></tr>\n",
       "<tr><td>&nbsp;</td><td colspan=4 style=\"text-align:left\"><span style=\"font-size:20px;\"><a class=\"ProveItLink\" href=\"../__pv_it/7bdbd189b06cd53f006d5f24fa245567fa3d46ac0/expr.ipynb\"><img src=\"../__pv_it/7bdbd189b06cd53f006d5f24fa245567fa3d46ac0/expr.png\" style=\"display:inline;vertical-align:middle;\" /></a>, <a class=\"ProveItLink\" href=\"../__pv_it/17f1dca1f76e05456a22eb9e9a191fcaf86d3df50/expr.ipynb\"><img src=\"../__pv_it/17f1dca1f76e05456a22eb9e9a191fcaf86d3df50/expr.png\" style=\"display:inline;vertical-align:middle;\" /></a></span></td></tr><tr><td>2</td><td>theorem</td><td></td><td><span style=\"font-size:20px;\"> &#x22A2;&nbsp;<a class=\"ProveItLink\" href=\"../../conjunction/__pv_it/02f63a5ed79febf39563abd5215f100e326a61450/expr.ipynb\"><img src=\"../../conjunction/__pv_it/02f63a5ed79febf39563abd5215f100e326a61450/expr.png\" style=\"display:inline;vertical-align:middle;\" /></a></span></td></tr>\n",
       "<tr><td>&nbsp;</td><td colspan=4 style-\"text-align:left\"><a class=\"ProveItLink\" href=\"../../conjunction/_proofs_/leftFromAnd.ipynb\">proveit.logic.boolean.conjunction.leftFromAnd</a></td></tr><tr><td>3</td><td>specialization</td><td>4, 5, 6</td><td><span style=\"font-size:20px;\"><a class=\"ProveItLink\" href=\"../__pv_it/e50116be5e9fecc63354891410412e4e2485d8200/expr.ipynb\"><img src=\"../__pv_it/e50116be5e9fecc63354891410412e4e2485d8200/expr.png\" style=\"display:inline;vertical-align:middle;\" /></a> &#x22A2;&nbsp;<a class=\"ProveItLink\" href=\"../__pv_it/434148932d7b270f25113c0ed7ba844d5c70a34f0/expr.ipynb\"><img src=\"../__pv_it/434148932d7b270f25113c0ed7ba844d5c70a34f0/expr.png\" style=\"display:inline;vertical-align:middle;\" /></a></span></td></tr>\n",
       "<tr><td>&nbsp;</td><td colspan=4 style=\"text-align:left\"><span style=\"font-size:20px;\"><a class=\"ProveItLink\" href=\"../__pv_it/52f0f1165e0f0aedd347c76d59ea6c48d1dec43d0/expr.ipynb\"><img src=\"../__pv_it/52f0f1165e0f0aedd347c76d59ea6c48d1dec43d0/expr.png\" style=\"display:inline;vertical-align:middle;\" /></a>, <a class=\"ProveItLink\" href=\"../__pv_it/d8c1aa2bdf9d7c62c137f56594943d1e881506cb0/expr.ipynb\"><img src=\"../__pv_it/d8c1aa2bdf9d7c62c137f56594943d1e881506cb0/expr.png\" style=\"display:inline;vertical-align:middle;\" /></a></span></td></tr><tr><td>4</td><td>theorem</td><td></td><td><span style=\"font-size:20px;\"> &#x22A2;&nbsp;<a class=\"ProveItLink\" href=\"../../../equality/__pv_it/20f6197d92a4d6f4184131bc4d9ee6adbfe00fd00/expr.ipynb\"><img src=\"../../../equality/__pv_it/20f6197d92a4d6f4184131bc4d9ee6adbfe00fd00/expr.png\" style=\"display:inline;vertical-align:middle;\" /></a></span></td></tr>\n",
       "<tr><td>&nbsp;</td><td colspan=4 style-\"text-align:left\"><a class=\"ProveItLink\" href=\"../../../equality/_proofs_/rhsViaEquivalence.ipynb\">proveit.logic.equality.rhsViaEquivalence</a></td></tr><tr><td>5</td><td>assumption</td><td></td><td><span style=\"font-size:20px;\"><a class=\"ProveItLink\" href=\"../__pv_it/e50116be5e9fecc63354891410412e4e2485d8200/expr.ipynb\"><img src=\"../__pv_it/e50116be5e9fecc63354891410412e4e2485d8200/expr.png\" style=\"display:inline;vertical-align:middle;\" /></a> &#x22A2;&nbsp;<a class=\"ProveItLink\" href=\"../__pv_it/315d469da84f8bd61c78705cff800abb69da38bc0/expr.ipynb\"><img src=\"../__pv_it/315d469da84f8bd61c78705cff800abb69da38bc0/expr.png\" style=\"display:inline;vertical-align:middle;\" /></a></span></td></tr>\n",
       "<tr><td>6</td><td>specialization</td><td>7</td><td><span style=\"font-size:20px;\"> &#x22A2;&nbsp;<a class=\"ProveItLink\" href=\"../__pv_it/f5fd5d4e2da4d672b76d3263b49fecf019d092370/expr.ipynb\"><img src=\"../__pv_it/f5fd5d4e2da4d672b76d3263b49fecf019d092370/expr.png\" style=\"display:inline;vertical-align:middle;\" /></a></span></td></tr>\n",
       "<tr><td>&nbsp;</td><td colspan=4 style=\"text-align:left\"><span style=\"font-size:20px;\"><a class=\"ProveItLink\" href=\"../__pv_it/e2ee195baea449ecf67452694c66cbd67b2c19580/expr.ipynb\"><img src=\"../__pv_it/e2ee195baea449ecf67452694c66cbd67b2c19580/expr.png\" style=\"display:inline;vertical-align:middle;\" /></a>, <a class=\"ProveItLink\" href=\"../__pv_it/3da54a39405853797ebcbd9cbd4fe26001295deb0/expr.ipynb\"><img src=\"../__pv_it/3da54a39405853797ebcbd9cbd4fe26001295deb0/expr.png\" style=\"display:inline;vertical-align:middle;\" /></a></span></td></tr><tr><td>7</td><td>axiom</td><td></td><td><span style=\"font-size:20px;\"> &#x22A2;&nbsp;<a class=\"ProveItLink\" href=\"../__pv_it/099bebbea4368331ac78d9b2efef1b54b34c0af90/expr.ipynb\"><img src=\"../__pv_it/099bebbea4368331ac78d9b2efef1b54b34c0af90/expr.png\" style=\"display:inline;vertical-align:middle;\" /></a></span></td></tr>\n",
       "<tr><td>&nbsp;</td><td colspan=4 style-\"text-align:left\"><a class=\"ProveItLink\" href=\"../_axioms_.ipynb#iffDef\">proveit.logic.boolean.implication.iffDef</a></td></tr></table>"
      ],
      "text/plain": [
       "\tstep type\trequirements\tstatement\n",
       "0\tgeneralizaton\t1\t|= forall_{A, B | A <=> B} (A => B)\n",
       "1\tspecialization\t2, 3\t{A <=> B} |= A => B\n",
       "\tA -> (A => B), B -> (B => A)\n",
       "2\ttheorem\t\t|= forall_{A, B | A and B} A\n",
       "\tproveit.logic.boolean.conjunction.leftFromAnd\n",
       "3\tspecialization\t4, 5, 6\t{A <=> B} |= (A => B) and (B => A)\n",
       "\tP -> (A <=> B), Q -> ((A => B) and (B => A))\n",
       "4\ttheorem\t\t|= forall_{P, Q | P , P = Q} Q\n",
       "\tproveit.logic.equality.rhsViaEquivalence\n",
       "5\tassumption\t\t{A <=> B} |= A <=> B\n",
       "6\tspecialization\t7\t|= (A <=> B) = ((A => B) and (B => A))\n",
       "\tA -> A, B -> B\n",
       "7\taxiom\t\t|= forall_{A, B} ((A <=> B) = ((A => B) and (B => A)))\n",
       "\tproveit.logic.boolean.implication.iffDef"
      ]
     },
     "execution_count": 6,
     "metadata": {},
     "output_type": "execute_result"
    }
   ],
   "source": [
    "%qed"
   ]
  },
  {
   "cell_type": "code",
   "execution_count": 7,
   "metadata": {
    "collapsed": true,
    "deletable": true,
    "editable": true
   },
   "outputs": [],
   "source": []
  }
 ],
 "metadata": {
  "kernelspec": {
   "display_name": "Python 3",
   "language": "python",
   "name": "python3"
  },
  "language_info": {
   "codemirror_mode": {
    "name": "ipython",
    "version": 3
   },
   "file_extension": ".py",
   "mimetype": "text/x-python",
   "name": "python",
   "nbconvert_exporter": "python",
   "pygments_lexer": "ipython3",
   "version": "3.7.0"
  }
 },
 "nbformat": 4,
 "nbformat_minor": 0
}
