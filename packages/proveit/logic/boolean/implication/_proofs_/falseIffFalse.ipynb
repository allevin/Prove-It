{
 "cells": [
  {
   "cell_type": "markdown",
   "metadata": {},
   "source": [
    "Proof of <a class=\"ProveItLink\" href=\"../../../../_context_.ipynb\">proveit</a>.<a class=\"ProveItLink\" href=\"../../../_context_.ipynb\">logic</a>.<a class=\"ProveItLink\" href=\"../../_context_.ipynb\">boolean</a>.<a class=\"ProveItLink\" href=\"../_context_.ipynb\">implication</a>.<a href=\"../_theorems_.ipynb#falseIffFalse\" class=\"ProveItLink\">falseIffFalse</a> theorem\n",
    "========"
   ]
  },
  {
   "cell_type": "code",
   "execution_count": 1,
   "metadata": {},
   "outputs": [],
   "source": [
    "import proveit\n",
    "from proveit.logic.boolean.implication._theorems_ import falseImpliesFalse\n",
    "context = proveit.Context('..') # the theorem's context is in the parent directory"
   ]
  },
  {
   "cell_type": "code",
   "execution_count": 2,
   "metadata": {},
   "outputs": [
    {
     "name": "stdout",
     "output_type": "stream",
     "text": [
      "Beginning proof of falseIffFalse\n",
      "Recorded 'presuming' information\n"
     ]
    },
    {
     "name": "stdout",
     "output_type": "stream",
     "text": [
      "Presuming previous theorems (applied transitively).\n"
     ]
    },
    {
     "data": {
      "text/html": [
       "<strong id=\"falseIffFalse\">falseIffFalse:</strong> <a class=\"ProveItLink\" href=\"../__pv_it/12d7d803eb1e063ff32b50e6e2259ae8287b34cd0/expr.ipynb\"><img src=\"data:image/png;base64,iVBORw0KGgoAAAANSUhEUgAAAD8AAAAPBAMAAAChCwpBAAAAKlBMVEX///+qqqpUVFS6urru7u4y\n",
       "MjJEREQQEBAiIiJmZmbMzMyIiIjc3NwAAADBC20uAAAAAXRSTlMAQObYZgAAAIFJREFUGNNjYGBg\n",
       "OM2AHfBsgDJW4lDANYF0BawoPCwKdgMx2wHcCrgCQE4LwK1geUUHEFx1wKWAOwRMMQfjUMBSBuUf\n",
       "V8BhghNEgCcapxskOsDgAE4FjCCzWXrwhMNEIGYyQFUwo6OjvaOjDSLkCsTHIExOoF1AXyeghT4Q\n",
       "u6AKAQBrCilXJ/gEYgAAAABJRU5ErkJggg==\n",
       "\" style=\"display:inline;vertical-align:middle;\" /></a><br>(see <a class=\"ProveItLink\" href=\"../__pv_it/12d7d803eb1e063ff32b50e6e2259ae8287b34cd0/dependencies.ipynb\">dependencies</a>)<br>"
      ],
      "text/plain": [
       "falseIffFalse: FALSE <=> FALSE"
      ]
     },
     "execution_count": 2,
     "metadata": {},
     "output_type": "execute_result"
    }
   ],
   "source": [
    "%proving falseIffFalse presuming []"
   ]
  },
  {
   "cell_type": "code",
   "execution_count": 3,
   "metadata": {},
   "outputs": [
    {
     "data": {
      "text/html": [
       "<table><tr><th>&nbsp;</th><th>step type</th><th>requirements</th><th>statement</th></tr>\n",
       "<tr><td>0</td><td>specialization</td><td>1, 2</td><td><span style=\"font-size:20px;\"> <a class=\"ProveItLink\" href=\"../__pv_it/7d9e3505ec7b5616951087dfc1886ee5c98f90070/proof.ipynb\" style=\"text-decoration: none\">&#x22A2;&nbsp;</a><a class=\"ProveItLink\" href=\"../__pv_it/12d7d803eb1e063ff32b50e6e2259ae8287b34cd0/expr.ipynb\"><img src=\"data:image/png;base64,iVBORw0KGgoAAAANSUhEUgAAAD8AAAAPBAMAAAChCwpBAAAAKlBMVEX///+qqqpUVFS6urru7u4y\n",
       "MjJEREQQEBAiIiJmZmbMzMyIiIjc3NwAAADBC20uAAAAAXRSTlMAQObYZgAAAIFJREFUGNNjYGBg\n",
       "OM2AHfBsgDJW4lDANYF0BawoPCwKdgMx2wHcCrgCQE4LwK1geUUHEFx1wKWAOwRMMQfjUMBSBuUf\n",
       "V8BhghNEgCcapxskOsDgAE4FjCCzWXrwhMNEIGYyQFUwo6OjvaOjDSLkCsTHIExOoF1AXyeghT4Q\n",
       "u6AKAQBrCilXJ/gEYgAAAABJRU5ErkJggg==\n",
       "\" style=\"display:inline;vertical-align:middle;\" /></a></span></td></tr>\n",
       "<tr><td>&nbsp;</td><td colspan=4 style=\"text-align:left\"><span style=\"font-size:20px;\"><a class=\"ProveItLink\" href=\"../../../../__pv_it/2cbe72a7ad6f655694dd697106680215e8489b600/expr.ipynb\"><img src=\"data:image/png;base64,iVBORw0KGgoAAAANSUhEUgAAAA8AAAAOBAMAAAACpFvcAAAALVBMVEX///8QEBBERERUVFS6urqI\n",
       "iIhmZmaqqqrc3Nzu7u6YmJgyMjIiIiLMzMwAAADtIaYWAAAAAXRSTlMAQObYZgAAAFtJREFUCNdj\n",
       "YACBOwxQsA9Kc52bAGG05zVAGAFxDmCaZULdAjBjCsO9ADDDgaEvAUTzGhvbKYCVMDAwbgAxChgY\n",
       "eASANAeQwf0AyJgNxEwvGRia5HYwcOm9TgAA6BoR3jrzwFcAAAAASUVORK5CYII=\n",
       "\" style=\"display:inline;vertical-align:middle;\" /></a> : <a class=\"ProveItLink\" href=\"../../__pv_it/8f1f7fac882de28c72b62ab80a1700b6d8fd066b0/expr.ipynb\"><img src=\"data:image/png;base64,iVBORw0KGgoAAAANSUhEUgAAAA4AAAAOBAMAAADtZjDiAAAAG1BMVEX///9EREQQEBAiIiJmZmbM\n",
       "zMyIiIjc3NwAAACryk5kAAAAAXRSTlMAQObYZgAAABlJREFUCNdjYGBgKGOAgBBa0s7GxkbGxoYA\n",
       "FMUF2aBfHgoAAAAASUVORK5CYII=\n",
       "\" style=\"display:inline;vertical-align:middle;\" /></a>, <a class=\"ProveItLink\" href=\"../../../../__pv_it/077b2ff79244fb4582cbe22c6e3356fa92a52f2f0/expr.ipynb\"><img src=\"data:image/png;base64,iVBORw0KGgoAAAANSUhEUgAAABAAAAAOBAMAAADUAYG5AAAAMFBMVEX///+qqqru7u4iIiJ2dnbc\n",
       "3NyIiIjMzMxmZmYQEBC6uroyMjJERERUVFSYmJgAAADLUcuvAAAAAXRSTlMAQObYZgAAAGpJREFU\n",
       "CNdjYGB4+//u3dMLGIBgDgMDxy8gzf4NiP8CGWxfGRj4vgAZPBMYGJgnARn8FxhY9ygAGfXX0pof\n",
       "gDTlBzAw2YIYJ0EckBBI53sHoBH/gIz7AhBjWH9DjancBLTl/N+7t/cxMAAA3u4f/5xagjYAAAAA\n",
       "SUVORK5CYII=\n",
       "\" style=\"display:inline;vertical-align:middle;\" /></a> : <a class=\"ProveItLink\" href=\"../../__pv_it/8f1f7fac882de28c72b62ab80a1700b6d8fd066b0/expr.ipynb\"><img src=\"data:image/png;base64,iVBORw0KGgoAAAANSUhEUgAAAA4AAAAOBAMAAADtZjDiAAAAG1BMVEX///9EREQQEBAiIiJmZmbM\n",
       "zMyIiIjc3NwAAACryk5kAAAAAXRSTlMAQObYZgAAABlJREFUCNdjYGBgKGOAgBBa0s7GxkbGxoYA\n",
       "FMUF2aBfHgoAAAAASUVORK5CYII=\n",
       "\" style=\"display:inline;vertical-align:middle;\" /></a></span></td></tr><tr><td>1</td><td>theorem</td><td></td><td><span style=\"font-size:20px;\"> <a class=\"ProveItLink\" href=\"iffIntro.ipynb\" style=\"text-decoration: none\">&#x22A2;&nbsp;</a><a class=\"ProveItLink\" href=\"../__pv_it/468b0f952ed299315e5578d38fcceb95afda5fef0/expr.ipynb\"><img src=\"data:image/png;base64,iVBORw0KGgoAAAANSUhEUgAAAPEAAAAXBAMAAAAo+LSlAAAAMFBMVEX///8QEBC6urrMzMxUVFRm\n",
       "ZmZERETc3NwyMjKqqqp2dnaIiIiYmJgiIiLu7u4AAAAU9Wx4AAAAAXRSTlMAQObYZgAAA0dJREFU\n",
       "SMfFVk1oE0EU/prtZpMm2dYfBC81Bw89KI0gKog01FgKHhow24JQqkjTHsTsodh6qI0XgyA2BxU8\n",
       "2YtYKUhEBaGHRvHgz8EeLIJamoqCCNXS9E9bq29mdpPdpLU9pDiwM7vzvn3fzPfem13gv7VM6V06\n",
       "UutCntE1ym5el5R5vxiOrGZ7/icU6vRDDgD32PO1kjIb3vpXNe4A5BkgDpynJ+VUKYk9QmzvxGqB\n",
       "lJbomgVeAS6yy8lSMpcJxgttujFB+5PC5rIWaE2/gEka7nZ395ZU7BoxpEb8Fg06DKOzCvBV00ib\n",
       "nY9G35eU+aRI8MzttHg+xLoew1gZhHKZRKkgEY6aC0rw/uac1hDgr5qeXHreqzumRc7YcUWwq7z/\n",
       "hDoRb2nLOLUJI+3qjg+3shW5KQS7ocZ5RsyIxKiCp4rrYrp847f4fwo8sOOKYFt570efiO0TEfYa\n",
       "YR7Rob5l+2Kqw8Nl+bLMTXIQjgUrs9qWtviPALW6DVcE4zuQQqEmXjGTRt0o2/lwmrETUpqmBEj7\n",
       "+Kruj3GTLwV51MpcMSXWfov3H4BWO86dtMEMZopVGZdSPSZme4T2s0ydAcGsxvmZI6Wi3PQjgBe6\n",
       "lfmwU6zayWbVLLwJO87IEhMG7GQdLccnguEe5+2dCDoTtikp1EZHPZsrN/ZSO/zoHKzMQdpaczQa\n",
       "7dzGtrI03JDJ42Saj14KmDDRzjJtyblrWjxfZ92UnitnZZGlCRPkBn/lJUa4bZCyKGNh9iY9hgf5\n",
       "BGkah7fajgO0gBWGO3R9ZQ5WjPdYOOrz5byPpTmrKpSxCKhjWow7aichkxbmKa3Z8CC163CGof6E\n",
       "DQccaLHCsJeO5F0JeGOLIvKsdIzzWY7Nhhp51blYqnsZo6yjjqtGfmsDFuYWSFk81qixVKlMwpFF\n",
       "Dudh85GwCTNOT73gaCF3auEZPpm720Ne00oCygqUMUucHVQBy/hO7RuTpi+D3jByOJUZhnIwIz4D\n",
       "Gzjohsybz/NQmj5S5g3OaY3JPLNKRdn1O21+dSv6tcgVnqF5nBS0wTb2zRWHl6V5LffOAtvFNXBK\n",
       "0cewa33m8sKIHPwH81q44qas/zf0sHAivUHm9Kb+GpZv8q/nX+S68mb99E0nAAAAAElFTkSuQmCC\n",
       "\" style=\"display:inline;vertical-align:middle;\" /></a></span></td></tr>\n",
       "<tr><td>&nbsp;</td><td colspan=4 style-\"text-align:left\"><a class=\"ProveItLink\" href=\"iffIntro.ipynb\">proveit.logic.boolean.implication.iffIntro</a></td></tr><tr><td>2</td><td>theorem</td><td></td><td><span style=\"font-size:20px;\"> <a class=\"ProveItLink\" href=\"falseImpliesFalse.ipynb\" style=\"text-decoration: none\">&#x22A2;&nbsp;</a><a class=\"ProveItLink\" href=\"../__pv_it/da810ef09e21913fb06fd31fe44c3c5ef404387b0/expr.ipynb\"><img src=\"data:image/png;base64,iVBORw0KGgoAAAANSUhEUgAAAD8AAAAPBAMAAAChCwpBAAAALVBMVEX///+qqqp2dnZUVFS6uroy\n",
       "MjLu7u5EREQQEBAiIiJmZmbMzMyIiIjc3NwAAAAGhiwUAAAAAXRSTlMAQObYZgAAAGdJREFUGNNj\n",
       "YGBguMOAHfAegDJ24VDAvQCbAjZCClgTCChgMSCggEEHt4KVM0Fg3gICJjCIOhBQwBbhgF/BVjX8\n",
       "bphZRsANwgS8yRuApgBo7oyZM6fDRdkvQGguoGWdM2cWYMYQGh8A/EooJtywCMEAAAAASUVORK5C\n",
       "YII=\n",
       "\" style=\"display:inline;vertical-align:middle;\" /></a></span></td></tr>\n",
       "<tr><td>&nbsp;</td><td colspan=4 style-\"text-align:left\"><a class=\"ProveItLink\" href=\"falseImpliesFalse.ipynb\">proveit.logic.boolean.implication.falseImpliesFalse</a></td></tr></table>"
      ],
      "text/plain": [
       "\tstep type\trequirements\tstatement\n",
       "0\tspecialization\t1, 2\t|- FALSE <=> FALSE\n",
       "\tA : FALSE, B : FALSE\n",
       "1\ttheorem\t\t|- forall_{A, B | A => B , B => A} (A <=> B)\n",
       "\tproveit.logic.boolean.implication.iffIntro\n",
       "2\ttheorem\t\t|- FALSE => FALSE\n",
       "\tproveit.logic.boolean.implication.falseImpliesFalse"
      ]
     },
     "execution_count": 3,
     "metadata": {},
     "output_type": "execute_result"
    }
   ],
   "source": [
    "%qed"
   ]
  },
  {
   "cell_type": "code",
   "execution_count": null,
   "metadata": {},
   "outputs": [],
   "source": []
  }
 ],
 "metadata": {
  "kernelspec": {
   "display_name": "Python 3",
   "language": "python",
   "name": "python3"
  }
 },
 "nbformat": 4,
 "nbformat_minor": 0
}
