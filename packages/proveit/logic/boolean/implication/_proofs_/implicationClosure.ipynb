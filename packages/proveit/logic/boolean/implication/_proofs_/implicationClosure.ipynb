{
 "cells": [
  {
   "cell_type": "markdown",
   "metadata": {
    "collapsed": true
   },
   "source": [
    "Proof of <a class=\"ProveItLink\" href=\"../../../../_context_.ipynb\">proveit</a>.<a class=\"ProveItLink\" href=\"../../../_context_.ipynb\">logic</a>.<a class=\"ProveItLink\" href=\"../../_context_.ipynb\">boolean</a>.<a class=\"ProveItLink\" href=\"../_context_.ipynb\">implication</a>.<a class=\"ProveItLink\" href=\"../_theorems_.ipynb#implicationClosure\">implicationClosure</a> theorem\n",
    "========"
   ]
  },
  {
   "cell_type": "code",
   "execution_count": 1,
   "metadata": {},
   "outputs": [],
   "source": [
    "import proveit\n",
    "# we need to import trueImpliesFalseNegated to derive it's side-effects:\n",
    "from proveit.logic.boolean.implication._theorems_ import trueImpliesFalseNegated\n",
    "context = proveit.Context('..') # the theorem's context is in the parent directory"
   ]
  },
  {
   "cell_type": "code",
   "execution_count": 2,
   "metadata": {},
   "outputs": [
    {
     "name": "stdout",
     "output_type": "stream",
     "text": [
      "Beginning proof of implicationClosure\n",
      "Recorded 'presuming' information\n",
      "Presuming previous theorems (applied transitively).\n"
     ]
    },
    {
     "data": {
      "text/html": [
       "<strong id=\"implicationClosure\">implicationClosure:</strong> <a class=\"ProveItLink\" href=\"../__pv_it/ecd8e3337201e76481f2239482eb89dbd991a3f10/expr.ipynb\"><img src=\"../__pv_it/ecd8e3337201e76481f2239482eb89dbd991a3f10/expr.png\" style=\"display:inline;vertical-align:middle;\" /></a><br>(see <a class=\"ProveItLink\" href=\"../__pv_it/ecd8e3337201e76481f2239482eb89dbd991a3f10/dependencies.ipynb\">dependencies</a>)<br>"
      ],
      "text/plain": [
       "implicationClosure: forall_{A, B in BOOLEANS} ((A => B) in BOOLEANS)"
      ]
     },
     "execution_count": 2,
     "metadata": {},
     "output_type": "execute_result"
    }
   ],
   "source": [
    "%proving implicationClosure presuming []"
   ]
  },
  {
   "cell_type": "code",
   "execution_count": 3,
   "metadata": {},
   "outputs": [
    {
     "data": {
      "text/html": [
       "<table><tr><th>&nbsp;</th><th>step type</th><th>requirements</th><th>statement</th></tr>\n",
       "<tr><td>0</td><td>specialization</td><td>5, 1, 2</td><td><span style=\"font-size:20px;\"> &#x22A2;&nbsp;<a class=\"ProveItLink\" href=\"../__pv_it/ecd8e3337201e76481f2239482eb89dbd991a3f10/expr.ipynb\"><img src=\"../__pv_it/ecd8e3337201e76481f2239482eb89dbd991a3f10/expr.png\" style=\"display:inline;vertical-align:middle;\" /></a></span></td></tr>\n",
       "<tr><td>&nbsp;</td><td colspan=4 style=\"text-align:left\"><span style=\"font-size:20px;\"><a class=\"ProveItLink\" href=\"../__pv_it/c306ea5a963c7fc296643ec44712355e682f64cf0/expr.ipynb\"><img src=\"../__pv_it/c306ea5a963c7fc296643ec44712355e682f64cf0/expr.png\" style=\"display:inline;vertical-align:middle;\" /></a></span></td></tr><tr><td>1</td><td>specialization</td><td>5, 3, 4</td><td><span style=\"font-size:20px;\"> &#x22A2;&nbsp;<a class=\"ProveItLink\" href=\"../__pv_it/9374be4f9ac23141179fcf05e0585fdce112a74d0/expr.ipynb\"><img src=\"../__pv_it/9374be4f9ac23141179fcf05e0585fdce112a74d0/expr.png\" style=\"display:inline;vertical-align:middle;\" /></a></span></td></tr>\n",
       "<tr><td>&nbsp;</td><td colspan=4 style=\"text-align:left\"><span style=\"font-size:20px;\"><a class=\"ProveItLink\" href=\"../__pv_it/5c629f2735ca6644cd0cdd2445f0e6a6079531880/expr.ipynb\"><img src=\"../__pv_it/5c629f2735ca6644cd0cdd2445f0e6a6079531880/expr.png\" style=\"display:inline;vertical-align:middle;\" /></a>, relabeling <a class=\"ProveItLink\" href=\"../__pv_it/5d5f2788af5ab1e0877417def4ee9be126f7bc700/expr.ipynb\"><img src=\"../__pv_it/5d5f2788af5ab1e0877417def4ee9be126f7bc700/expr.png\" style=\"display:inline;vertical-align:middle;\" /></a></span></td></tr><tr><td>2</td><td>specialization</td><td>5, 6, 7</td><td><span style=\"font-size:20px;\"> &#x22A2;&nbsp;<a class=\"ProveItLink\" href=\"../__pv_it/c5da9069d3535b010398b1fec4bf6be87e8d33ec0/expr.ipynb\"><img src=\"../__pv_it/c5da9069d3535b010398b1fec4bf6be87e8d33ec0/expr.png\" style=\"display:inline;vertical-align:middle;\" /></a></span></td></tr>\n",
       "<tr><td>&nbsp;</td><td colspan=4 style=\"text-align:left\"><span style=\"font-size:20px;\"><a class=\"ProveItLink\" href=\"../__pv_it/0c1b51d648a001d23c3e4010c0c32f9583d84dd60/expr.ipynb\"><img src=\"../__pv_it/0c1b51d648a001d23c3e4010c0c32f9583d84dd60/expr.png\" style=\"display:inline;vertical-align:middle;\" /></a>, relabeling <a class=\"ProveItLink\" href=\"../__pv_it/5d5f2788af5ab1e0877417def4ee9be126f7bc700/expr.ipynb\"><img src=\"../__pv_it/5d5f2788af5ab1e0877417def4ee9be126f7bc700/expr.png\" style=\"display:inline;vertical-align:middle;\" /></a></span></td></tr><tr><td>3</td><td>specialization</td><td>12, 8</td><td><span style=\"font-size:20px;\"> &#x22A2;&nbsp;<a class=\"ProveItLink\" href=\"../__pv_it/3fc0ead71e7b79c553fbca9a1f2b032813dc38560/expr.ipynb\"><img src=\"../__pv_it/3fc0ead71e7b79c553fbca9a1f2b032813dc38560/expr.png\" style=\"display:inline;vertical-align:middle;\" /></a></span></td></tr>\n",
       "<tr><td>&nbsp;</td><td colspan=4 style=\"text-align:left\"><span style=\"font-size:20px;\"><a class=\"ProveItLink\" href=\"../__pv_it/82ef5fd8b52f59324802c9778a041bed897d922e0/expr.ipynb\"><img src=\"../__pv_it/82ef5fd8b52f59324802c9778a041bed897d922e0/expr.png\" style=\"display:inline;vertical-align:middle;\" /></a></span></td></tr><tr><td>4</td><td>specialization</td><td>9, 10</td><td><span style=\"font-size:20px;\"> &#x22A2;&nbsp;<a class=\"ProveItLink\" href=\"../__pv_it/3f562ab0412bb154700ddb908ded7b8b56372a020/expr.ipynb\"><img src=\"../__pv_it/3f562ab0412bb154700ddb908ded7b8b56372a020/expr.png\" style=\"display:inline;vertical-align:middle;\" /></a></span></td></tr>\n",
       "<tr><td>&nbsp;</td><td colspan=4 style=\"text-align:left\"><span style=\"font-size:20px;\"><a class=\"ProveItLink\" href=\"../__pv_it/214bdaa4f8ca56eff60c43e5cec7c2d2c8966a0e0/expr.ipynb\"><img src=\"../__pv_it/214bdaa4f8ca56eff60c43e5cec7c2d2c8966a0e0/expr.png\" style=\"display:inline;vertical-align:middle;\" /></a></span></td></tr><tr><td>5</td><td>theorem</td><td></td><td><span style=\"font-size:20px;\"> &#x22A2;&nbsp;<a class=\"ProveItLink\" href=\"../../__pv_it/aee6960d17505c798b9d1f24ff6ef5d96fac5a9a0/expr.ipynb\"><img src=\"../../__pv_it/aee6960d17505c798b9d1f24ff6ef5d96fac5a9a0/expr.png\" style=\"display:inline;vertical-align:middle;\" /></a></span></td></tr>\n",
       "<tr><td>&nbsp;</td><td colspan=4 style-\"text-align:left\"><a class=\"ProveItLink\" href=\"../../_proofs_/foldForallOverBool.ipynb\">proveit.logic.boolean.foldForallOverBool</a></td></tr><tr><td>6</td><td>specialization</td><td>12, 11</td><td><span style=\"font-size:20px;\"> &#x22A2;&nbsp;<a class=\"ProveItLink\" href=\"../__pv_it/23318b8e97cb979a273aad1dd446055c274190720/expr.ipynb\"><img src=\"../__pv_it/23318b8e97cb979a273aad1dd446055c274190720/expr.png\" style=\"display:inline;vertical-align:middle;\" /></a></span></td></tr>\n",
       "<tr><td>&nbsp;</td><td colspan=4 style=\"text-align:left\"><span style=\"font-size:20px;\"><a class=\"ProveItLink\" href=\"../__pv_it/52560a97149718a1638dc41a2427925fe1d2f3eb0/expr.ipynb\"><img src=\"../__pv_it/52560a97149718a1638dc41a2427925fe1d2f3eb0/expr.png\" style=\"display:inline;vertical-align:middle;\" /></a></span></td></tr><tr><td>7</td><td>specialization</td><td>12, 13</td><td><span style=\"font-size:20px;\"> &#x22A2;&nbsp;<a class=\"ProveItLink\" href=\"../__pv_it/43629cfcd94f22117cd6278a80dd62039d0d7e360/expr.ipynb\"><img src=\"../__pv_it/43629cfcd94f22117cd6278a80dd62039d0d7e360/expr.png\" style=\"display:inline;vertical-align:middle;\" /></a></span></td></tr>\n",
       "<tr><td>&nbsp;</td><td colspan=4 style=\"text-align:left\"><span style=\"font-size:20px;\"><a class=\"ProveItLink\" href=\"../__pv_it/70b8aee986700fb19e473a04362eb2668ba708f60/expr.ipynb\"><img src=\"../__pv_it/70b8aee986700fb19e473a04362eb2668ba708f60/expr.png\" style=\"display:inline;vertical-align:middle;\" /></a></span></td></tr><tr><td>8</td><td>theorem</td><td></td><td><span style=\"font-size:20px;\"> &#x22A2;&nbsp;<a class=\"ProveItLink\" href=\"../__pv_it/c3be479688afe7eefd8b7ba172a41f160264b4c40/expr.ipynb\"><img src=\"../__pv_it/c3be479688afe7eefd8b7ba172a41f160264b4c40/expr.png\" style=\"display:inline;vertical-align:middle;\" /></a></span></td></tr>\n",
       "<tr><td>&nbsp;</td><td colspan=4 style-\"text-align:left\"><a class=\"ProveItLink\" href=\"trueImpliesTrue.ipynb\">proveit.logic.boolean.implication.trueImpliesTrue</a></td></tr><tr><td>9</td><td>theorem</td><td></td><td><span style=\"font-size:20px;\"> &#x22A2;&nbsp;<a class=\"ProveItLink\" href=\"../../__pv_it/12ae38d734bba4799de856e620724384bea97dbe0/expr.ipynb\"><img src=\"../../__pv_it/12ae38d734bba4799de856e620724384bea97dbe0/expr.png\" style=\"display:inline;vertical-align:middle;\" /></a></span></td></tr>\n",
       "<tr><td>&nbsp;</td><td colspan=4 style-\"text-align:left\"><a class=\"ProveItLink\" href=\"../../_proofs_/inBoolIfFalse.ipynb\">proveit.logic.boolean.inBoolIfFalse</a></td></tr><tr><td>10</td><td>theorem</td><td></td><td><span style=\"font-size:20px;\"> &#x22A2;&nbsp;<a class=\"ProveItLink\" href=\"../__pv_it/d03ab80c19fc62ba3b955af9050ec263c8cf15170/expr.ipynb\"><img src=\"../__pv_it/d03ab80c19fc62ba3b955af9050ec263c8cf15170/expr.png\" style=\"display:inline;vertical-align:middle;\" /></a></span></td></tr>\n",
       "<tr><td>&nbsp;</td><td colspan=4 style-\"text-align:left\"><a class=\"ProveItLink\" href=\"trueImpliesFalseNegated.ipynb\">proveit.logic.boolean.implication.trueImpliesFalseNegated</a></td></tr><tr><td>11</td><td>theorem</td><td></td><td><span style=\"font-size:20px;\"> &#x22A2;&nbsp;<a class=\"ProveItLink\" href=\"../__pv_it/42d28cc4bf9b46bec192d8f16dc816ed1431464a0/expr.ipynb\"><img src=\"../__pv_it/42d28cc4bf9b46bec192d8f16dc816ed1431464a0/expr.png\" style=\"display:inline;vertical-align:middle;\" /></a></span></td></tr>\n",
       "<tr><td>&nbsp;</td><td colspan=4 style-\"text-align:left\"><a class=\"ProveItLink\" href=\"falseImpliesTrue.ipynb\">proveit.logic.boolean.implication.falseImpliesTrue</a></td></tr><tr><td>12</td><td>theorem</td><td></td><td><span style=\"font-size:20px;\"> &#x22A2;&nbsp;<a class=\"ProveItLink\" href=\"../../__pv_it/1d8cf37f5c705c7f67ba9cbc584342aedfb4c1440/expr.ipynb\"><img src=\"../../__pv_it/1d8cf37f5c705c7f67ba9cbc584342aedfb4c1440/expr.png\" style=\"display:inline;vertical-align:middle;\" /></a></span></td></tr>\n",
       "<tr><td>&nbsp;</td><td colspan=4 style-\"text-align:left\"><a class=\"ProveItLink\" href=\"../../_proofs_/inBoolIfTrue.ipynb\">proveit.logic.boolean.inBoolIfTrue</a></td></tr><tr><td>13</td><td>theorem</td><td></td><td><span style=\"font-size:20px;\"> &#x22A2;&nbsp;<a class=\"ProveItLink\" href=\"../__pv_it/a2c1fd2703ff7e9468d04b875f4fb8dd37d9755f0/expr.ipynb\"><img src=\"../__pv_it/a2c1fd2703ff7e9468d04b875f4fb8dd37d9755f0/expr.png\" style=\"display:inline;vertical-align:middle;\" /></a></span></td></tr>\n",
       "<tr><td>&nbsp;</td><td colspan=4 style-\"text-align:left\"><a class=\"ProveItLink\" href=\"falseImpliesFalse.ipynb\">proveit.logic.boolean.implication.falseImpliesFalse</a></td></tr></table>"
      ],
      "text/plain": [
       "\tstep type\trequirements\tstatement\n",
       "0\tspecialization\t5, 1, 2\t|= forall_{A, B in BOOLEANS} ((A => B) in BOOLEANS)\n",
       "\tP -> [A -> [forall_{B in BOOLEANS} ((A => B) in BOOLEANS)]]\n",
       "1\tspecialization\t5, 3, 4\t|= forall_{B in BOOLEANS} ((TRUE => B) in BOOLEANS)\n",
       "\t{P -> [B -> ((TRUE => B) in BOOLEANS)]}, relabeling {A -> B}\n",
       "2\tspecialization\t5, 6, 7\t|= forall_{B in BOOLEANS} ((FALSE => B) in BOOLEANS)\n",
       "\t{P -> [B -> ((FALSE => B) in BOOLEANS)]}, relabeling {A -> B}\n",
       "3\tspecialization\t12, 8\t|= (TRUE => TRUE) in BOOLEANS\n",
       "\tA -> (TRUE => TRUE)\n",
       "4\tspecialization\t9, 10\t|= (TRUE => FALSE) in BOOLEANS\n",
       "\tA -> (TRUE => FALSE)\n",
       "5\ttheorem\t\t|= forall_{P | P(TRUE) , P(FALSE)} [forall_{A in BOOLEANS} P(A)]\n",
       "\tproveit.logic.boolean.foldForallOverBool\n",
       "6\tspecialization\t12, 11\t|= (FALSE => TRUE) in BOOLEANS\n",
       "\tA -> (FALSE => TRUE)\n",
       "7\tspecialization\t12, 13\t|= (FALSE => FALSE) in BOOLEANS\n",
       "\tA -> (FALSE => FALSE)\n",
       "8\ttheorem\t\t|= TRUE => TRUE\n",
       "\tproveit.logic.boolean.implication.trueImpliesTrue\n",
       "9\ttheorem\t\t|= forall_{A | [not](A)} (A in BOOLEANS)\n",
       "\tproveit.logic.boolean.inBoolIfFalse\n",
       "10\ttheorem\t\t|= [not](TRUE => FALSE)\n",
       "\tproveit.logic.boolean.implication.trueImpliesFalseNegated\n",
       "11\ttheorem\t\t|= FALSE => TRUE\n",
       "\tproveit.logic.boolean.implication.falseImpliesTrue\n",
       "12\ttheorem\t\t|= forall_{A | A} (A in BOOLEANS)\n",
       "\tproveit.logic.boolean.inBoolIfTrue\n",
       "13\ttheorem\t\t|= FALSE => FALSE\n",
       "\tproveit.logic.boolean.implication.falseImpliesFalse"
      ]
     },
     "execution_count": 3,
     "metadata": {},
     "output_type": "execute_result"
    }
   ],
   "source": [
    "%qed"
   ]
  },
  {
   "cell_type": "code",
   "execution_count": null,
   "metadata": {},
   "outputs": [],
   "source": []
  }
 ],
 "metadata": {
  "kernelspec": {
   "display_name": "Python 3",
   "language": "python",
   "name": "python3"
  },
  "language_info": {
   "codemirror_mode": {
    "name": "ipython",
    "version": 3
   },
   "file_extension": ".py",
   "mimetype": "text/x-python",
   "name": "python",
   "nbconvert_exporter": "python",
   "pygments_lexer": "ipython3",
   "version": "3.7.0"
  }
 },
 "nbformat": 4,
 "nbformat_minor": 1
}
