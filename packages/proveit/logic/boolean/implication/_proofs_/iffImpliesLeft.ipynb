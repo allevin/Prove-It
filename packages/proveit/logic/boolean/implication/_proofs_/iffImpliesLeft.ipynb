{
 "cells": [
  {
   "cell_type": "markdown",
   "metadata": {},
   "source": [
    "Proof of <a class=\"ProveItLink\" href=\"../../../../_context_.ipynb\">proveit</a>.<a class=\"ProveItLink\" href=\"../../../_context_.ipynb\">logic</a>.<a class=\"ProveItLink\" href=\"../../_context_.ipynb\">boolean</a>.<a class=\"ProveItLink\" href=\"../_context_.ipynb\">implication</a>.<a href=\"../_theorems_.ipynb#iffImpliesLeft\" class=\"ProveItLink\">iffImpliesLeft</a> theorem\n",
    "========"
   ]
  },
  {
   "cell_type": "code",
   "execution_count": 1,
   "metadata": {},
   "outputs": [],
   "source": [
    "import proveit\n",
    "from proveit.logic.boolean.implication._axioms_ import iffDef\n",
    "from proveit._common_ import A, B\n",
    "context = proveit.Context('..') # the theorem's context is in the parent directory"
   ]
  },
  {
   "cell_type": "code",
   "execution_count": 2,
   "metadata": {},
   "outputs": [
    {
     "name": "stdout",
     "output_type": "stream",
     "text": [
      "Beginning proof of iffImpliesLeft\n",
      "Recorded 'presuming' information\n"
     ]
    },
    {
     "name": "stdout",
     "output_type": "stream",
     "text": [
      "Presuming proveit.logic.boolean.conjunction.rightFromAnd theorem (applied transitively).\n",
      "Presuming previous theorems (applied transitively).\n"
     ]
    },
    {
     "data": {
      "text/html": [
       "<strong id=\"iffImpliesLeft\">iffImpliesLeft:</strong> <a class=\"ProveItLink\" href=\"../__pv_it/daee5f8cd64120ac6a4f032996a3d425891831ae0/expr.ipynb\"><img src=\"data:image/png;base64,iVBORw0KGgoAAAANSUhEUgAAAMIAAAAXBAMAAACrPI2eAAAAMFBMVEX///8QEBC6urrMzMxUVFRm\n",
       "ZmZERETc3NwyMjKqqqp2dnaIiIiYmJgiIiLu7u4AAAAU9Wx4AAAAAXRSTlMAQObYZgAAAuxJREFU\n",
       "SMe1VT9ME1EY/9Gjd9hej246ISZumtDBqIkxvWhTTBxoIlcnA8ZQ4iIdDGgMUlyqi3RQwyYORoyG\n",
       "1ESnDpwb6gAOLAqhMZqwgET+K1a/9+4e92hK0KIvee+++77vfb/v7x3w31dxF3cP7aihNwITjHhX\n",
       "FYBikomWpVj8VmX5SdrngKeMvlsVQh2Lv6YdaGusKB9gOkA3PbT2qhAK7IjmaZuCZcgZmiEP9CHu\n",
       "iD9XFUIDO0bTwPjQlrDcdb2NREYY+pOent6qAHwZdl6k/X7Trs/05PlRlrzLwEoq9aEqBD/3fAm4\n",
       "dsVjPvMcKD606fEYOA10claWnw+WrXiEa2xGnvYM7OmyWi8JPjOgLBVeTfHXC9NszSSE6ideIgwC\n",
       "B2HwcPVvTn3CCIYZoQrVcblTXgMvXLKG8YOrwJyUGgwK7Ub0MbQDQAhB5gy+bDixm/CtyghGmy0Z\n",
       "aAWa3JjqmS2VvAluSApGvwOhxGItrEWjJLdDvFAjk1wSysM/ISME5sgVw4TC0/6R0gEJoZ5N3XcJ\n",
       "4fiIWwYKMuMgGJkjHDOf4pKvEYylZYQTKrnip9I0Mw8XoWdFlliPRynA2nWvDtOi6iQMhZ0sofMU\n",
       "49S6vjUVXjpKAsFkIT1KpVL9BOz7UYiL1lRtdxz6Ml4I99ynRgh1C0SM0b7Pk/IGo1w0TNUsSgh6\n",
       "LriAo8xd42wRgQz0BpG+hDMOyj5vzDQBNssslJxuRQ1rKmPS6uKKHZSonIQwZyVLSBbdNlETMNZF\n",
       "w5NnyV+x2G2pE1S3C7r3Z6F3rZEP7Kuos+v+NKJ8DOh+U0RCOA9lEVqHZVlJ8qQ+B9+iMLe3wue2\n",
       "nGGEBXWYbttaFloJ2qRUBx85SM04e3N+/jm99hXRuzlTb/9g8AN5l/i8Aq1lStnA8LJ1JuchGNTT\n",
       "V3/aUBKsYREYsFrvoNJnbrs1W/5Lkmh1iyQCI11+WzN3Rmguez+2LULFdWNHjWCkjGH/HcIuV+0/\n",
       "svMbyLm8JRIE9oYAAAAASUVORK5CYII=\n",
       "\" style=\"display:inline;vertical-align:middle;\" /></a><br>(see <a class=\"ProveItLink\" href=\"../__pv_it/daee5f8cd64120ac6a4f032996a3d425891831ae0/dependencies.ipynb\">dependencies</a>)<br>"
      ],
      "text/plain": [
       "iffImpliesLeft: forall_{A, B | A <=> B} (B => A)"
      ]
     },
     "execution_count": 2,
     "metadata": {},
     "output_type": "execute_result"
    }
   ],
   "source": [
    "%proving iffImpliesLeft presuming [proveit.logic.boolean.conjunction.rightFromAnd]"
   ]
  },
  {
   "cell_type": "code",
   "execution_count": 3,
   "metadata": {},
   "outputs": [
    {
     "data": {
      "text/html": [
       "<span style=\"font-size:20px;\"> <a class=\"ProveItLink\" href=\"../_axioms_.ipynb#iffDef\" style=\"text-decoration: none\">&#x22A2;&nbsp;</a><a class=\"ProveItLink\" href=\"../__pv_it/a756da7a5c4731c8ee727591cf414442c56348d00/expr.ipynb\"><img src=\"data:image/png;base64,iVBORw0KGgoAAAANSUhEUgAAAXkAAAAWBAMAAADX+PE1AAAAMFBMVEX///8QEBC6urrMzMxUVFRm\n",
       "ZmZERETc3NwyMjKqqqp2dnaIiIiYmJgiIiLu7u4AAAAU9Wx4AAAAAXRSTlMAQObYZgAAA99JREFU\n",
       "WMPVl01IVFEUx4/zHJ86My9xIbmoXLgIyhrBqE041BBCC9u4KJB0kbaonCD8WFQW2ESFzSKjTeQm\n",
       "Mgx5YDsXWkT0QWSQBZE4hoGrEvGrEu1+nHPfzJs7zmRuPPB3nHfu775z7z333DsAm9riazk9tlQG\n",
       "e75xZJYMaZQ/eJumYRWK2UGd/8VqOHy6DLzBDSOrHJ/ODBYuZ0iP+cPuNNF3O77b2gYlrJNZgM7/\n",
       "Ji8lcOTTWP4MSAbVyj7MBn3wPluKmX9Cl2LGH6Y5gDfZkvF0ZJfDKR+aldDvuxWQDCqfdeiN6aPP\n",
       "iUsx6zgZwdEz7VNBLrLofgNMZkMmLbKLNM7GFad8NN/O6M0e5hIMyv+ore1imsTZiWJmD2MiDjHl\n",
       "UTx5RQCB7ewzlgXJrRz0ZO4uW3HKRxs55CypjycUZ0gLTU1f0kR/AsV6iD8YkZPEE86kbN0SAvMa\n",
       "m5rCY5lJYYW2npyW1UMy5CPrV//tKVgGyZAOAzQLV1T8vTtfd4QKwS0UwDeolu+t3DbObAn7rj46\n",
       "VM9jK+DD8V4XFtKT3nFh86AhAZ7AcfVG5QOoF8wEzY1VxreEYEjlYIke/HKX+4vAV4Sti1EAZXBZ\n",
       "dOGTieu5KhsMR8D6yL8XueY+lUQr0JOj0K445VN2D3PPA+Y8MqQA+MRAvy+LFt4QeBaRmkWBEQ7X\n",
       "8rpklaDnvMzFRv4uRhszruhTSGXTxRrSb0NukDjlc6rOFRl+VTi8AJIh+UYCIg8GxkSLgA3eUXcM\n",
       "HlYNxAJNyXk0b8oGvKy9710rekVSpbwR15AsAiOkoiefsgMDgOsIW13RW53iTDTsJtHiZxBeUUkp\n",
       "RQHb3AG5xPdl+soWBl+u2hiuP2Z2g55E76e4hoQe2naliT7K+/FzmHVMH1yZA82HRM2CetFk79DT\n",
       "czTmMygzhqcc64FPkfXZKdrmEl9592GrIR08lYziCASjfGR38LMDD27OkKBHJMprGBZN+gCeUbV6\n",
       "iJrmRXZFPuO1IbfMKdqV3aCpmDqSWzvoSIOvV4A45aMjCqdGFJeWeHLFhBxe0ayxuhYR9CmWPHT2\n",
       "VEi17oiCv2WJKrO8XfBkaJkL14gal+++U+lIbs1aUsyGuCRUJPpopDJNzcalCLxc7ZIMCfw8am8E\n",
       "qsWu/8WSh+p9TkQq6WrD9MN9rKXeFDQkt6CW9NCe1DKGjplMeutudsSNmFEwV8Aco4f+XqmM1u9+\n",
       "sF4ya6Y/kZ1aALP2K9vtffN1NTHdPXcts9a8If8TmSVDSh666/sFVAbLTV3v9ZJZMqQk2+/6btpS\n",
       "GWww9dF6ySyZQR07ssl+lP8FkGB7YFhFVksAAAAASUVORK5CYII=\n",
       "\" style=\"display:inline;vertical-align:middle;\" /></a></span>"
      ],
      "text/plain": [
       "|- forall_{A, B} ((A <=> B) = ((A => B) and (B => A)))"
      ]
     },
     "execution_count": 3,
     "metadata": {},
     "output_type": "execute_result"
    }
   ],
   "source": [
    "iffDef"
   ]
  },
  {
   "cell_type": "code",
   "execution_count": 4,
   "metadata": {},
   "outputs": [
    {
     "data": {
      "text/html": [
       "<strong id=\"iffDefSpec\">iffDefSpec:</strong> <span style=\"font-size:20px;\"> <a class=\"ProveItLink\" href=\"../__pv_it/d9c1e44d2cae0577ef162fea3f3b5f1476fb25250/proof.ipynb\" style=\"text-decoration: none\">&#x22A2;&nbsp;</a><a class=\"ProveItLink\" href=\"../__pv_it/a6fbf08fc2fd76de2037482b6a4e59816357f66b0/expr.ipynb\"><img src=\"data:image/png;base64,iVBORw0KGgoAAAANSUhEUgAAATEAAAAVBAMAAADcAcTPAAAAMFBMVEX////c3NwiIiJERESqqqqY\n",
       "mJh2dnZmZmYQEBDu7u4yMjJUVFTMzMyIiIi6uroAAAAs73DqAAAAAXRSTlMAQObYZgAAA61JREFU\n",
       "SMfNVkFIVGEQnqe77j73rS7kpY3QlCDooEWBdXFvgh5aCjwU1F5COghi4SECjTyUgS2exEMoYaaB\n",
       "bXQIWkrpFHrYvQWR+PBUhpCUSS6t/f/M///v972Xu3trYPb9OzPfP/Pmn5n/Afy/VJcvaXLVR7Yp\n",
       "uEJkGd6CtsCt0P/3fkZX9rLZ8zaEljwaK0PMl01+2y8Wsq8WvMgVR+dLPIw7QLg5Er3wNbzHjIoA\n",
       "Ux5FbZqYL7/7IcNtAEO2Qh4WzzlN50c8jFpAj1FKb7A17WNn/WFcAOjxaFYFM7r42xE7m+TYvrmM\n",
       "Qs7Sg7wJnSBTTzUPI5hCj2HarGEoJpQsWqtfrKNbzO4XwIQnsgeCAYzOLUc8p1ZrbL9rKYm0TpMb\n",
       "8iZ0WvolYRjmMHrcIFF+zdbe6pQwrGY2VSyA6oS7kKeIOSBadOTf1Kqd8Ym0REY26Wg2dJ3cK+Pg\n",
       "KYwz6HGQtOkLSdIt85+4MKzPgPGEbVHT74oslCJm9DWw7chrVOuxGoifU8hJoDYZ1HWS+pwXpjB6\n",
       "ETeDosd49jzt95sZtYpTyb1dHeCmAUzP7XlOz/EEksQs9TYvRhZnM9KOrNDC6sfjCgnX4RY+Z3Qd\n",
       "wABiWtV7izC6EDeGIhsaSf2Jkrxhy2IxT/J3GXZ3nk3MVGDsaIrAglOh4xmFbBLHMKbrFHXJPhVh\n",
       "fEEcFomVzS628cVEG5kYD1VBrLHUWO7BUG8TswGVzf7QNZNjqkKj2xIZzEMEJ1tR1ykyn1FoMowc\n",
       "4or04hDGtJuvyTaelwWBTXRAZOxnVJ8zT9OyQrGrCVmVFmO5qOsULd8QZSbCoMhGuIg1UBWlPUDl\n",
       "cozc8BdbTMgzoapowdNMEEOAt5lWZy2i5XIs05GfEtnJeJovRnSd3LFZdoMMg07zLD+7hDPJu/nP\n",
       "eEwVi7HLT8N9CVQniaFh//URyGjjrHFKIqdFdOhN6SR1i6cK4zLierGnmR8xyUM8E++ccfaBt6ln\n",
       "anABZ5M76HBGZVwbZ9aonDcWL54qoHng6GRAMkgVBk2NdYBDj6Yh2LFL3rkvg/og1FHIvsE+r3Vf\n",
       "cnVNyEb7bgwu7c0quRzRN9mnwHxSIiO2HOHruk7mX9w+ThgLiAvHXE5ZD5nuO9R7O90V7AX7IOvE\n",
       "SACvN55Rt0DcTsFUGd9wfR5JD/jd8yWRZXnjF0nfvkv4n2Qe+BVUEbIMb7zeEHektGnEewZGhrhS\n",
       "ZBne4KXAGaW/fz/7yI4KrhBZhrfoEuL+ApNnK18wY0lWAAAAAElFTkSuQmCC\n",
       "\" style=\"display:inline;vertical-align:middle;\" /></a></span><br>"
      ],
      "text/plain": [
       "iffDefSpec: |- (A <=> B) = ((A => B) and (B => A))"
      ]
     },
     "execution_count": 4,
     "metadata": {},
     "output_type": "execute_result"
    }
   ],
   "source": [
    "iffDefSpec = iffDef.specialize()"
   ]
  },
  {
   "cell_type": "code",
   "execution_count": 5,
   "metadata": {},
   "outputs": [
    {
     "data": {
      "text/html": [
       "<span style=\"font-size:20px;\"><a class=\"ProveItLink\" href=\"../__pv_it/af0e561509f7967aca213082eece98cd243241150/expr.ipynb\"><img src=\"data:image/png;base64,iVBORw0KGgoAAAANSUhEUgAAAFMAAAAVBAMAAADInc9CAAAAMFBMVEX///9ERETc3NyqqqpUVFS6\n",
       "urrMzMwyMjIQEBCIiIh2dnYiIiLu7u5mZmaYmJgAAABJJ2g3AAAAAXRSTlMAQObYZgAAAWtJREFU\n",
       "KM9jYGDgu8dACLCtUgBRPLsYCAO2ZhDJ+QHK24BFCZ//FxfHUiDjOojH1QARZf+AzTgOAQaG+wEM\n",
       "DCuQlb7+g01p/gQgdkBVymT7CSrLDsS5MKXzgf55vwBVKSfnV6jsTCBmVIByJIB4xwFUpTHM/6De\n",
       "KwDZUQBV+oWBQV2GAaqUFyzKE8D2EyKZ0b0bCL4fgOj7MnPuPhDjPVgqAESyMjD9hTikBkyxlkJ4\n",
       "QA+cdgB54AIDQ0obWCzFxeUj2PRGqM0aIAUMjEDXcYJdJv6AgSEiAcQCGt0OVnLkAiRAKsEUP1AD\n",
       "3y8ggxsYCgwsILcygzwKMc56NxhAgiAfaBbLZ5hbuUARqgzE9RClzCCbeTYhglW/gAEpsHhAPHmI\n",
       "pxkug6wKgAcrW/sBJKVMEt8VGB7+r4VIHwdiRQjz4n8Xl/IHDAxoaQCR4ID4DHpawK4UKwAr5SNK\n",
       "KTi98uwkJhe0QlL6YuLyFgCCuV6Ikax8iwAAAABJRU5ErkJggg==\n",
       "\" style=\"display:inline;vertical-align:middle;\" /></a> <a class=\"ProveItLink\" href=\"../__pv_it/7fe0d754c650a234b742067314629a02a21bd3d70/proof.ipynb\" style=\"text-decoration: none\">&#x22A2;&nbsp;</a><a class=\"ProveItLink\" href=\"../__pv_it/97f3e75ef936ed315a18eb50027c82e125359cc10/expr.ipynb\"><img src=\"data:image/png;base64,iVBORw0KGgoAAAANSUhEUgAAALUAAAAVBAMAAADyYbJ0AAAAMFBMVEX////c3NwiIiJERESqqqqY\n",
       "mJh2dnZmZmYQEBDu7u4yMjJUVFTMzMyIiIi6uroAAAAs73DqAAAAAXRSTlMAQObYZgAAAmdJREFU\n",
       "OMu1VUFrE0EU/jYmTdJsYsBerAdDvRQ8VAWhekluBT0oCl4E7UWKh0Io0qsBe7GHmqP0IAlS6140\n",
       "ZxepeBJzaH6A0tCbFaEiWppi2pn35u2O60KC4IPlzdvvfW9m3nyzC/xPK3QGptz5V06bx+/jEm4f\n",
       "+v7lLtLvIu/bIRZnbgnM8Th+HZv1SCX1gYYJTxrvWViMje6COHneXmqqHmLB0P2tngPglonX2RFH\n",
       "MGNZq/aNfRAnw4XGHhZDzJNB/rua9Rfw1Ex1gZOJI5isNVybM6MgzdnhuLNlte6rDI7VgMRj5SsU\n",
       "5r7xJndsTI63FQzzed0qxVlkpH7telh7RGRwvAXnuVrQSJXCVZTIL9qY2Hww+pL8CeKsUfgMm1Qv\n",
       "PUG2Z7I2335e0HMm+TDv4QH5NRsDFogzVZXOd/VRaM4KxV2crlqHkXzFfquI7Fm9rRqFJYyTX7Gx\n",
       "wK6Yrhbg7DGHVOT6/sY5O2+Vp5zWNdTi3F3SUgc5UnrfxkKlvOTibd//AeL0eSpkGrb4X3AjtcTu\n",
       "zkrtRB1uK6gtWGAf78P0AMtce0mHSgaJmtXvM1za1WeyUZGezKinqQdLNib9nrhk+qmeSe7JRS3I\n",
       "irlL0u5WKG+np7tBm2qa+sQJMLGrxo+ZS644c6QtJcf9MG3ckvcHD0aDrj6RhH4/Z2NyYUxPs9qX\n",
       "WbfbwIknTaTKvVAo59mlywf+G9LbqD6lXFeu+7aNyTr4XjvTvSJuHq4TJ1P8+1sT/ezxnS/IScVy\n",
       "3BhOanaIb/z8n+HQHG9wWrYReTEs59TgvFy0B8NynMH/p0/RF8NxjgA0rLSiuV21VgAAAABJRU5E\n",
       "rkJggg==\n",
       "\" style=\"display:inline;vertical-align:middle;\" /></a></span>"
      ],
      "text/plain": [
       "{A <=> B} |- (A => B) and (B => A)"
      ]
     },
     "execution_count": 5,
     "metadata": {},
     "output_type": "execute_result"
    }
   ],
   "source": [
    "iffDefSpec.deriveRightViaEquivalence(iffImpliesLeft.inclusiveConditions())"
   ]
  },
  {
   "cell_type": "code",
   "execution_count": 6,
   "metadata": {},
   "outputs": [
    {
     "data": {
      "text/html": [
       "<table><tr><th>&nbsp;</th><th>step type</th><th>requirements</th><th>statement</th></tr>\n",
       "<tr><td>0</td><td>generalizaton</td><td>1</td><td><span style=\"font-size:20px;\"> <a class=\"ProveItLink\" href=\"../__pv_it/c5605eea1125ca1e1de44dbe033e97b76368b7590/proof.ipynb\" style=\"text-decoration: none\">&#x22A2;&nbsp;</a><a class=\"ProveItLink\" href=\"../__pv_it/daee5f8cd64120ac6a4f032996a3d425891831ae0/expr.ipynb\"><img src=\"data:image/png;base64,iVBORw0KGgoAAAANSUhEUgAAAMIAAAAXBAMAAACrPI2eAAAAMFBMVEX///8QEBC6urrMzMxUVFRm\n",
       "ZmZERETc3NwyMjKqqqp2dnaIiIiYmJgiIiLu7u4AAAAU9Wx4AAAAAXRSTlMAQObYZgAAAuxJREFU\n",
       "SMe1VT9ME1EY/9Gjd9hej246ISZumtDBqIkxvWhTTBxoIlcnA8ZQ4iIdDGgMUlyqi3RQwyYORoyG\n",
       "1ESnDpwb6gAOLAqhMZqwgET+K1a/9+4e92hK0KIvee+++77vfb/v7x3w31dxF3cP7aihNwITjHhX\n",
       "FYBikomWpVj8VmX5SdrngKeMvlsVQh2Lv6YdaGusKB9gOkA3PbT2qhAK7IjmaZuCZcgZmiEP9CHu\n",
       "iD9XFUIDO0bTwPjQlrDcdb2NREYY+pOent6qAHwZdl6k/X7Trs/05PlRlrzLwEoq9aEqBD/3fAm4\n",
       "dsVjPvMcKD606fEYOA10claWnw+WrXiEa2xGnvYM7OmyWi8JPjOgLBVeTfHXC9NszSSE6ideIgwC\n",
       "B2HwcPVvTn3CCIYZoQrVcblTXgMvXLKG8YOrwJyUGgwK7Ub0MbQDQAhB5gy+bDixm/CtyghGmy0Z\n",
       "aAWa3JjqmS2VvAluSApGvwOhxGItrEWjJLdDvFAjk1wSysM/ISME5sgVw4TC0/6R0gEJoZ5N3XcJ\n",
       "4fiIWwYKMuMgGJkjHDOf4pKvEYylZYQTKrnip9I0Mw8XoWdFlliPRynA2nWvDtOi6iQMhZ0sofMU\n",
       "49S6vjUVXjpKAsFkIT1KpVL9BOz7UYiL1lRtdxz6Ml4I99ynRgh1C0SM0b7Pk/IGo1w0TNUsSgh6\n",
       "LriAo8xd42wRgQz0BpG+hDMOyj5vzDQBNssslJxuRQ1rKmPS6uKKHZSonIQwZyVLSBbdNlETMNZF\n",
       "w5NnyV+x2G2pE1S3C7r3Z6F3rZEP7Kuos+v+NKJ8DOh+U0RCOA9lEVqHZVlJ8qQ+B9+iMLe3wue2\n",
       "nGGEBXWYbttaFloJ2qRUBx85SM04e3N+/jm99hXRuzlTb/9g8AN5l/i8Aq1lStnA8LJ1JuchGNTT\n",
       "V3/aUBKsYREYsFrvoNJnbrs1W/5Lkmh1iyQCI11+WzN3Rmguez+2LULFdWNHjWCkjGH/HcIuV+0/\n",
       "svMbyLm8JRIE9oYAAAAASUVORK5CYII=\n",
       "\" style=\"display:inline;vertical-align:middle;\" /></a></span></td></tr>\n",
       "<tr><td>1</td><td>specialization</td><td>2, 3</td><td><span style=\"font-size:20px;\"><a class=\"ProveItLink\" href=\"../__pv_it/af0e561509f7967aca213082eece98cd243241150/expr.ipynb\"><img src=\"data:image/png;base64,iVBORw0KGgoAAAANSUhEUgAAAFMAAAAVBAMAAADInc9CAAAAMFBMVEX///9ERETc3NyqqqpUVFS6\n",
       "urrMzMwyMjIQEBCIiIh2dnYiIiLu7u5mZmaYmJgAAABJJ2g3AAAAAXRSTlMAQObYZgAAAWtJREFU\n",
       "KM9jYGDgu8dACLCtUgBRPLsYCAO2ZhDJ+QHK24BFCZ//FxfHUiDjOojH1QARZf+AzTgOAQaG+wEM\n",
       "DCuQlb7+g01p/gQgdkBVymT7CSrLDsS5MKXzgf55vwBVKSfnV6jsTCBmVIByJIB4xwFUpTHM/6De\n",
       "KwDZUQBV+oWBQV2GAaqUFyzKE8D2EyKZ0b0bCL4fgOj7MnPuPhDjPVgqAESyMjD9hTikBkyxlkJ4\n",
       "QA+cdgB54AIDQ0obWCzFxeUj2PRGqM0aIAUMjEDXcYJdJv6AgSEiAcQCGt0OVnLkAiRAKsEUP1AD\n",
       "3y8ggxsYCgwsILcygzwKMc56NxhAgiAfaBbLZ5hbuUARqgzE9RClzCCbeTYhglW/gAEpsHhAPHmI\n",
       "pxkug6wKgAcrW/sBJKVMEt8VGB7+r4VIHwdiRQjz4n8Xl/IHDAxoaQCR4ID4DHpawK4UKwAr5SNK\n",
       "KTi98uwkJhe0QlL6YuLyFgCCuV6Ikax8iwAAAABJRU5ErkJggg==\n",
       "\" style=\"display:inline;vertical-align:middle;\" /></a> <a class=\"ProveItLink\" href=\"../__pv_it/217e14290d8b8c384514962a6ed96cb68afbc8ca0/proof.ipynb\" style=\"text-decoration: none\">&#x22A2;&nbsp;</a><a class=\"ProveItLink\" href=\"../__pv_it/39edb9fe2b7411693ffcf43a9bf0fb98391840e40/expr.ipynb\"><img src=\"data:image/png;base64,iVBORw0KGgoAAAANSUhEUgAAAEAAAAAPBAMAAACmSdRUAAAAMFBMVEX///+qqqru7u4iIiJ2dnbc\n",
       "3NyIiIjMzMxmZmYQEBC6uroyMjJERERUVFSYmJgAAADLUcuvAAAAAXRSTlMAQObYZgAAAOhJREFU\n",
       "GNNjYGB4+//u3dMLGLABdgMwNYeBgeMXVgXcH8DKvgHxX7ggE5KCx59AJNtXBga+LwhdCnAmq8RX\n",
       "EMUzgYGBeRJclOsCnMnGBraZ/wID6x6ENgY3OGsR4z8QVX8trfkBWKDZGATsG2CuWQByHgNDfgAD\n",
       "ky2y26WhfuZiYP0Bok+CFD1AUsC0E6Ki9u7dPyAa5MP3DkgKqp0gNFDZbFAwgBxyXwDhBuNDEHlG\n",
       "ILaEBgPrbyQDZKF0IBDvhwZD5SaEPOsGqEtA9HkFBo7zf+/e3odkAE8ARN3J3wEMb/7vwBKDqFwA\n",
       "TPY/hyWgimwAAAAASUVORK5CYII=\n",
       "\" style=\"display:inline;vertical-align:middle;\" /></a></span></td></tr>\n",
       "<tr><td>&nbsp;</td><td colspan=4 style=\"text-align:left\"><span style=\"font-size:20px;\"><a class=\"ProveItLink\" href=\"../../../../__pv_it/2cbe72a7ad6f655694dd697106680215e8489b600/expr.ipynb\"><img src=\"data:image/png;base64,iVBORw0KGgoAAAANSUhEUgAAAA8AAAAOBAMAAAACpFvcAAAALVBMVEX///8QEBBERERUVFS6urqI\n",
       "iIhmZmaqqqrc3Nzu7u6YmJgyMjIiIiLMzMwAAADtIaYWAAAAAXRSTlMAQObYZgAAAFtJREFUCNdj\n",
       "YACBOwxQsA9Kc52bAGG05zVAGAFxDmCaZULdAjBjCsO9ADDDgaEvAUTzGhvbKYCVMDAwbgAxChgY\n",
       "eASANAeQwf0AyJgNxEwvGRia5HYwcOm9TgAA6BoR3jrzwFcAAAAASUVORK5CYII=\n",
       "\" style=\"display:inline;vertical-align:middle;\" /></a> : <a class=\"ProveItLink\" href=\"../__pv_it/48bda0a4ca92dc8bbf3ec9809bdb1d7b90d71c610/expr.ipynb\"><img src=\"data:image/png;base64,iVBORw0KGgoAAAANSUhEUgAAAEAAAAAPBAMAAACmSdRUAAAAMFBMVEX///92dnYQEBBERERUVFS6\n",
       "urqIiIhmZmaqqqrc3Nzu7u6YmJgyMjIiIiLMzMwAAACFkkdwAAAAAXRSTlMAQObYZgAAAOhJREFU\n",
       "GNNjYACBtwxYwJb/Li42ARD2eWwKGJQZGNi/glnc9xcghOFMvm9A/AXMnFE/AaHgFIzB9hOo9SOY\n",
       "mZAfgFAQAmMwKzAw8GqBWKwL+jcgFDAmQBn8Dgych8EWLmV4DxZkvwsG36EK3rul1UI0BjDML0By\n",
       "PMdRCJ0/gYHrCti1Li7+BsjeW6MKpoxAikBGsDIwMB1Akuc7CPEpyIf7BYBEA9CxCkhuuAyR5/sN\n",
       "JPyBkpxAzPMByQkOiGDg/AOyEeTlXwgFc5CC4REw1Cbrn2Tgtv+D8IYlhGK3/+LicxpbFD1A5QIA\n",
       "YgVCLvPPxacAAAAASUVORK5CYII=\n",
       "\" style=\"display:inline;vertical-align:middle;\" /></a>, <a class=\"ProveItLink\" href=\"../../../../__pv_it/077b2ff79244fb4582cbe22c6e3356fa92a52f2f0/expr.ipynb\"><img src=\"data:image/png;base64,iVBORw0KGgoAAAANSUhEUgAAABAAAAAOBAMAAADUAYG5AAAAMFBMVEX///+qqqru7u4iIiJ2dnbc\n",
       "3NyIiIjMzMxmZmYQEBC6uroyMjJERERUVFSYmJgAAADLUcuvAAAAAXRSTlMAQObYZgAAAGpJREFU\n",
       "CNdjYGB4+//u3dMLGIBgDgMDxy8gzf4NiP8CGWxfGRj4vgAZPBMYGJgnARn8FxhY9ygAGfXX0pof\n",
       "gDTlBzAw2YIYJ0EckBBI53sHoBH/gIz7AhBjWH9DjancBLTl/N+7t/cxMAAA3u4f/5xagjYAAAAA\n",
       "SUVORK5CYII=\n",
       "\" style=\"display:inline;vertical-align:middle;\" /></a> : <a class=\"ProveItLink\" href=\"../__pv_it/39edb9fe2b7411693ffcf43a9bf0fb98391840e40/expr.ipynb\"><img src=\"data:image/png;base64,iVBORw0KGgoAAAANSUhEUgAAAEAAAAAPBAMAAACmSdRUAAAAMFBMVEX///+qqqru7u4iIiJ2dnbc\n",
       "3NyIiIjMzMxmZmYQEBC6uroyMjJERERUVFSYmJgAAADLUcuvAAAAAXRSTlMAQObYZgAAAOhJREFU\n",
       "GNNjYGB4+//u3dMLGLABdgMwNYeBgeMXVgXcH8DKvgHxX7ggE5KCx59AJNtXBga+LwhdCnAmq8RX\n",
       "EMUzgYGBeRJclOsCnMnGBraZ/wID6x6ENgY3OGsR4z8QVX8trfkBWKDZGATsG2CuWQByHgNDfgAD\n",
       "ky2y26WhfuZiYP0Bok+CFD1AUsC0E6Ki9u7dPyAa5MP3DkgKqp0gNFDZbFAwgBxyXwDhBuNDEHlG\n",
       "ILaEBgPrbyQDZKF0IBDvhwZD5SaEPOsGqEtA9HkFBo7zf+/e3odkAE8ARN3J3wEMb/7vwBKDqFwA\n",
       "TPY/hyWgimwAAAAASUVORK5CYII=\n",
       "\" style=\"display:inline;vertical-align:middle;\" /></a></span></td></tr><tr><td>2</td><td>theorem</td><td></td><td><span style=\"font-size:20px;\"> <a class=\"ProveItLink\" href=\"../../conjunction/_proofs_/rightFromAnd.ipynb\" style=\"text-decoration: none\">&#x22A2;&nbsp;</a><a class=\"ProveItLink\" href=\"../../conjunction/__pv_it/84389c7315709a89edc9d21ba0add480e4cdc1630/expr.ipynb\"><img src=\"data:image/png;base64,iVBORw0KGgoAAAANSUhEUgAAAHoAAAAWBAMAAAD9QZX2AAAAMFBMVEX///8QEBC6urrMzMxUVFRm\n",
       "ZmZERETc3NwyMjKqqqp2dnaIiIiYmJgiIiLu7u4AAAAU9Wx4AAAAAXRSTlMAQObYZgAAAftJREFU\n",
       "OMulUz1MFEEU/rxjd+F2br2KklBQmtyZSEy04KIXQkLiXXGLFRFjPKy4LQhUxKu4mBjdRmo6oCFH\n",
       "YncFS0KhsZCCa5RiC01siIY7QH5E3xuG3JgAumGS2fnmvfnefPPeW4S4ytjgz4fItPXfudyzXiwx\n",
       "fhX91m7A2MEUIWssMjl+RLOFTnq44Udm2/uAOIRYmJ6eiS7cTAHJHmCvVPoUnX09C2uWZN8HxqWh\n",
       "Kr9zu+5gRqJedbDTU6Cr7BafKDwwXB8NaO2DU+G92JFmkYKdkugslR/PwmANWFFw1YOzSWsSNgfB\n",
       "12NpNrKI7ets5xG75xkWgbQS8pgjkMMOkrLflhvSnKzB2NDZie0CFWeL4WdgVN3dYlEU0qnckgWs\n",
       "laT5ewbvPJ191yRgfmMVTYiqKjcLzXOhx+/xvkOFTdffTkBnZ1nKHUEqY0f1wbBdbusnozdS6Hus\n",
       "SvsiJSfU2MK3fwAToMwmKhA97XLflP19rcaqGm5Zkp6SeF9jb7sjJ4gXKDrMApyD09SWW7mhl6fR\n",
       "mWV4GJBlJnc6o7EfIt5ERwiTOsRHrHlu79wgZ2BVYZ3AamjvjtF7j9FPL/XxPMRM4Tzylz1Y+S3K\n",
       "5OKuO+S32U5+DJO/gge8Tbx2iy8u616hb7Tf1lPz8nH7Avb/jeBK7L9G9t9H/gD0boGsCIdNUAAA\n",
       "AABJRU5ErkJggg==\n",
       "\" style=\"display:inline;vertical-align:middle;\" /></a></span></td></tr>\n",
       "<tr><td>&nbsp;</td><td colspan=4 style-\"text-align:left\"><a class=\"ProveItLink\" href=\"../../conjunction/_proofs_/rightFromAnd.ipynb\">proveit.logic.boolean.conjunction.rightFromAnd</a></td></tr><tr><td>3</td><td>specialization</td><td>4, 5, 6</td><td><span style=\"font-size:20px;\"><a class=\"ProveItLink\" href=\"../__pv_it/af0e561509f7967aca213082eece98cd243241150/expr.ipynb\"><img src=\"data:image/png;base64,iVBORw0KGgoAAAANSUhEUgAAAFMAAAAVBAMAAADInc9CAAAAMFBMVEX///9ERETc3NyqqqpUVFS6\n",
       "urrMzMwyMjIQEBCIiIh2dnYiIiLu7u5mZmaYmJgAAABJJ2g3AAAAAXRSTlMAQObYZgAAAWtJREFU\n",
       "KM9jYGDgu8dACLCtUgBRPLsYCAO2ZhDJ+QHK24BFCZ//FxfHUiDjOojH1QARZf+AzTgOAQaG+wEM\n",
       "DCuQlb7+g01p/gQgdkBVymT7CSrLDsS5MKXzgf55vwBVKSfnV6jsTCBmVIByJIB4xwFUpTHM/6De\n",
       "KwDZUQBV+oWBQV2GAaqUFyzKE8D2EyKZ0b0bCL4fgOj7MnPuPhDjPVgqAESyMjD9hTikBkyxlkJ4\n",
       "QA+cdgB54AIDQ0obWCzFxeUj2PRGqM0aIAUMjEDXcYJdJv6AgSEiAcQCGt0OVnLkAiRAKsEUP1AD\n",
       "3y8ggxsYCgwsILcygzwKMc56NxhAgiAfaBbLZ5hbuUARqgzE9RClzCCbeTYhglW/gAEpsHhAPHmI\n",
       "pxkug6wKgAcrW/sBJKVMEt8VGB7+r4VIHwdiRQjz4n8Xl/IHDAxoaQCR4ID4DHpawK4UKwAr5SNK\n",
       "KTi98uwkJhe0QlL6YuLyFgCCuV6Ikax8iwAAAABJRU5ErkJggg==\n",
       "\" style=\"display:inline;vertical-align:middle;\" /></a> <a class=\"ProveItLink\" href=\"../__pv_it/7fe0d754c650a234b742067314629a02a21bd3d70/proof.ipynb\" style=\"text-decoration: none\">&#x22A2;&nbsp;</a><a class=\"ProveItLink\" href=\"../__pv_it/97f3e75ef936ed315a18eb50027c82e125359cc10/expr.ipynb\"><img src=\"data:image/png;base64,iVBORw0KGgoAAAANSUhEUgAAALUAAAAVBAMAAADyYbJ0AAAAMFBMVEX////c3NwiIiJERESqqqqY\n",
       "mJh2dnZmZmYQEBDu7u4yMjJUVFTMzMyIiIi6uroAAAAs73DqAAAAAXRSTlMAQObYZgAAAmdJREFU\n",
       "OMu1VUFrE0EU/jYmTdJsYsBerAdDvRQ8VAWhekluBT0oCl4E7UWKh0Io0qsBe7GHmqP0IAlS6140\n",
       "ZxepeBJzaH6A0tCbFaEiWppi2pn35u2O60KC4IPlzdvvfW9m3nyzC/xPK3QGptz5V06bx+/jEm4f\n",
       "+v7lLtLvIu/bIRZnbgnM8Th+HZv1SCX1gYYJTxrvWViMje6COHneXmqqHmLB0P2tngPglonX2RFH\n",
       "MGNZq/aNfRAnw4XGHhZDzJNB/rua9Rfw1Ex1gZOJI5isNVybM6MgzdnhuLNlte6rDI7VgMRj5SsU\n",
       "5r7xJndsTI63FQzzed0qxVlkpH7telh7RGRwvAXnuVrQSJXCVZTIL9qY2Hww+pL8CeKsUfgMm1Qv\n",
       "PUG2Z7I2335e0HMm+TDv4QH5NRsDFogzVZXOd/VRaM4KxV2crlqHkXzFfquI7Fm9rRqFJYyTX7Gx\n",
       "wK6Yrhbg7DGHVOT6/sY5O2+Vp5zWNdTi3F3SUgc5UnrfxkKlvOTibd//AeL0eSpkGrb4X3AjtcTu\n",
       "zkrtRB1uK6gtWGAf78P0AMtce0mHSgaJmtXvM1za1WeyUZGezKinqQdLNib9nrhk+qmeSe7JRS3I\n",
       "irlL0u5WKG+np7tBm2qa+sQJMLGrxo+ZS644c6QtJcf9MG3ckvcHD0aDrj6RhH4/Z2NyYUxPs9qX\n",
       "WbfbwIknTaTKvVAo59mlywf+G9LbqD6lXFeu+7aNyTr4XjvTvSJuHq4TJ1P8+1sT/ezxnS/IScVy\n",
       "3BhOanaIb/z8n+HQHG9wWrYReTEs59TgvFy0B8NynMH/p0/RF8NxjgA0rLSiuV21VgAAAABJRU5E\n",
       "rkJggg==\n",
       "\" style=\"display:inline;vertical-align:middle;\" /></a></span></td></tr>\n",
       "<tr><td>&nbsp;</td><td colspan=4 style=\"text-align:left\"><span style=\"font-size:20px;\"><a class=\"ProveItLink\" href=\"../../../../__pv_it/6369c6c8083c513ca7161ace249642d040f9327d0/expr.ipynb\"><img src=\"data:image/png;base64,iVBORw0KGgoAAAANSUhEUgAAABAAAAAOBAMAAADUAYG5AAAAMFBMVEX////u7u5mZmaYmJi6urqq\n",
       "qqp2dnbMzMwQEBBEREQyMjLc3NwiIiJUVFSIiIgAAAAeC3ydAAAAAXRSTlMAQObYZgAAAGBJREFU\n",
       "CNdjYGB4+//u3bMbGIDgFwMDZzeQZv/GwMAKxAx8XxgYmD8BGZwfGBh4vwIZ/AsYGOQnABn1CQzs\n",
       "h0Ca3l9LUwPrni/AAAF/oDT7JygDZAwYcH6E0ELz/z4A0QBnpRnRyxnfJQAAAABJRU5ErkJggg==\n",
       "\" style=\"display:inline;vertical-align:middle;\" /></a> : <a class=\"ProveItLink\" href=\"../__pv_it/60a870658ecf77b4b2ca5e56543d5830b362e85b0/expr.ipynb\"><img src=\"data:image/png;base64,iVBORw0KGgoAAAANSUhEUgAAAEAAAAAPBAMAAACmSdRUAAAAMFBMVEX///92dnYQEBBERERUVFS6\n",
       "urqIiIhmZmaqqqrc3Nzu7u6YmJgyMjIiIiLMzMwAAACFkkdwAAAAAXRSTlMAQObYZgAAAQhJREFU\n",
       "GNNjYACBtwxYwJb/Li42ARD2eWwKGJQZGNi/glnc9xdgkef7BsRfwMwZ9ROgggeAYgVQNttPoNaP\n",
       "YGZCPtQqtgQgYQlVwKzAwMCrBWKxLujfABF7AyLmQBXwOzBwHgbbvZThfQLEVqW7QHD/FETBe7e0\n",
       "WojGAIb5EHtzIG6NgViYP4GB6wpYn4uLvwGIscgAopVTBUwZgRSBjGBlYGA6ABLhcocomAOxEOTD\n",
       "/QJAogHoWAWwEMddMLgJcdBvIOEPlOQEYp4PEL0tIGLtBHgwcP4BMtaAvPwLooAdqJjBFREMj4Ae\n",
       "mqx/koHb/g/EG1xAt3BCnMpu/8XF5zRG+D8AKkKNFwBxhUYQlN1g7wAAAABJRU5ErkJggg==\n",
       "\" style=\"display:inline;vertical-align:middle;\" /></a>, <a class=\"ProveItLink\" href=\"../../../../__pv_it/98124f92e6e1fc3772af50ac63eaa1f5624776f20/expr.ipynb\"><img src=\"data:image/png;base64,iVBORw0KGgoAAAANSUhEUgAAAA8AAAASBAMAAAB2sJk8AAAAMFBMVEX///+YmJiqqqq6uroQEBBE\n",
       "RETu7u4iIiLMzMwyMjKIiIhUVFRmZmZ2dnbc3NwAAADS0us6AAAAAXRSTlMAQObYZgAAAHxJREFU\n",
       "CNdjYGDgu3N3FwMI3Gxg4C4D0pkBQMIbiKeDRM8nMPD8ADHuGzC8DwAzFBjOC4AY8Q0M9Qkgxhcw\n",
       "YmBg+svA8B3E4HRjYJgPYug3ALHBqxUczkAOb9kFXtUHIGHrucsVGBrAtrI2MEIZByzBNAP3/88Q\n",
       "BocL0BoActoerD1tNT4AAAAASUVORK5CYII=\n",
       "\" style=\"display:inline;vertical-align:middle;\" /></a> : <a class=\"ProveItLink\" href=\"../__pv_it/97f3e75ef936ed315a18eb50027c82e125359cc10/expr.ipynb\"><img src=\"data:image/png;base64,iVBORw0KGgoAAAANSUhEUgAAALUAAAAVBAMAAADyYbJ0AAAAMFBMVEX////c3NwiIiJERESqqqqY\n",
       "mJh2dnZmZmYQEBDu7u4yMjJUVFTMzMyIiIi6uroAAAAs73DqAAAAAXRSTlMAQObYZgAAAmdJREFU\n",
       "OMu1VUFrE0EU/jYmTdJsYsBerAdDvRQ8VAWhekluBT0oCl4E7UWKh0Io0qsBe7GHmqP0IAlS6140\n",
       "ZxepeBJzaH6A0tCbFaEiWppi2pn35u2O60KC4IPlzdvvfW9m3nyzC/xPK3QGptz5V06bx+/jEm4f\n",
       "+v7lLtLvIu/bIRZnbgnM8Th+HZv1SCX1gYYJTxrvWViMje6COHneXmqqHmLB0P2tngPglonX2RFH\n",
       "MGNZq/aNfRAnw4XGHhZDzJNB/rua9Rfw1Ex1gZOJI5isNVybM6MgzdnhuLNlte6rDI7VgMRj5SsU\n",
       "5r7xJndsTI63FQzzed0qxVlkpH7telh7RGRwvAXnuVrQSJXCVZTIL9qY2Hww+pL8CeKsUfgMm1Qv\n",
       "PUG2Z7I2335e0HMm+TDv4QH5NRsDFogzVZXOd/VRaM4KxV2crlqHkXzFfquI7Fm9rRqFJYyTX7Gx\n",
       "wK6Yrhbg7DGHVOT6/sY5O2+Vp5zWNdTi3F3SUgc5UnrfxkKlvOTibd//AeL0eSpkGrb4X3AjtcTu\n",
       "zkrtRB1uK6gtWGAf78P0AMtce0mHSgaJmtXvM1za1WeyUZGezKinqQdLNib9nrhk+qmeSe7JRS3I\n",
       "irlL0u5WKG+np7tBm2qa+sQJMLGrxo+ZS644c6QtJcf9MG3ckvcHD0aDrj6RhH4/Z2NyYUxPs9qX\n",
       "WbfbwIknTaTKvVAo59mlywf+G9LbqD6lXFeu+7aNyTr4XjvTvSJuHq4TJ1P8+1sT/ezxnS/IScVy\n",
       "3BhOanaIb/z8n+HQHG9wWrYReTEs59TgvFy0B8NynMH/p0/RF8NxjgA0rLSiuV21VgAAAABJRU5E\n",
       "rkJggg==\n",
       "\" style=\"display:inline;vertical-align:middle;\" /></a></span></td></tr><tr><td>4</td><td>theorem</td><td></td><td><span style=\"font-size:20px;\"> <a class=\"ProveItLink\" href=\"../../../equality/_proofs_/rhsViaEquivalence.ipynb\" style=\"text-decoration: none\">&#x22A2;&nbsp;</a><a class=\"ProveItLink\" href=\"../../../equality/__pv_it/771aeab8c4711531b2b4534bd94ab64c6ca8ce7f0/expr.ipynb\"><img src=\"data:image/png;base64,iVBORw0KGgoAAAANSUhEUgAAAIkAAAAWBAMAAAAGOqJsAAAAMFBMVEX///8QEBC6urrMzMxUVFRm\n",
       "ZmZERETc3NwyMjKqqqp2dnaIiIiYmJgiIiLu7u4AAAAU9Wx4AAAAAXRSTlMAQObYZgAAAfJJREFU\n",
       "OMutlE8oBFEcx7/ssHbMrj8pN+1hD27moCgHQiilLdyUveCICwfJOhFhHcht92CztrQkBwc1zpI9\n",
       "KCWxbm7+hfz3fm/szJtdBya/er/v6zff9+n93sw8pPAfkaR0YHu5MxpvZ7JO83nblJgK6RwYIWDA\n",
       "LuSKVpYBBexg8kJ2KXOUelNQ1kZHx+1C8u4pJ7zAY3//qV3KBD+KBGulCRgAXIPdXUzg2Ym2ckOu\n",
       "7lt+6G4ZEpSHYerVKA+qgA+eIJvuAxtMalUMc3e+vkAphpwUlIdhuuBf2y0bbhQSsRk4SsFRzpoN\n",
       "CBSpAcqHoBSmidbD9cJSoeYm4hnQBlwyoHIjUNwapKCgFKbpnVJBBTUZrKZ8D+UE2EIG5VrF4ZCg\n",
       "FKZpgVJYpTzQSIf5Eu9hckyvLylQquJRzVBpmsWsYAp7x7Ydpdy4RAVZ3+4rGzkRgRKDVa0m+Twi\n",
       "L+tbzNmkRX4+f2NjMSVQ+mBVqwm+mb0QeEcKFYr0n6DPuevRd/hNeYag+XpHpolqqqIa/Hq2L+cU\n",
       "hutcK16B4ngCr3NNh2niTVQaD+SFTrbkDc621Q6HQIk9qLzO1bhTDBN9SJ93Gb+FQi/LPyZ2ZNQt\n",
       "kTbRbku0jIc1VH2syKLUZFLSph+DUydDWRQtyzn5yxtJ+ssN8QXzbpCqvj4ZyAAAAABJRU5ErkJg\n",
       "gg==\n",
       "\" style=\"display:inline;vertical-align:middle;\" /></a></span></td></tr>\n",
       "<tr><td>&nbsp;</td><td colspan=4 style-\"text-align:left\"><a class=\"ProveItLink\" href=\"../../../equality/_proofs_/rhsViaEquivalence.ipynb\">proveit.logic.equality.rhsViaEquivalence</a></td></tr><tr><td>5</td><td>assumption</td><td></td><td><span style=\"font-size:20px;\"><a class=\"ProveItLink\" href=\"../__pv_it/af0e561509f7967aca213082eece98cd243241150/expr.ipynb\"><img src=\"data:image/png;base64,iVBORw0KGgoAAAANSUhEUgAAAFMAAAAVBAMAAADInc9CAAAAMFBMVEX///9ERETc3NyqqqpUVFS6\n",
       "urrMzMwyMjIQEBCIiIh2dnYiIiLu7u5mZmaYmJgAAABJJ2g3AAAAAXRSTlMAQObYZgAAAWtJREFU\n",
       "KM9jYGDgu8dACLCtUgBRPLsYCAO2ZhDJ+QHK24BFCZ//FxfHUiDjOojH1QARZf+AzTgOAQaG+wEM\n",
       "DCuQlb7+g01p/gQgdkBVymT7CSrLDsS5MKXzgf55vwBVKSfnV6jsTCBmVIByJIB4xwFUpTHM/6De\n",
       "KwDZUQBV+oWBQV2GAaqUFyzKE8D2EyKZ0b0bCL4fgOj7MnPuPhDjPVgqAESyMjD9hTikBkyxlkJ4\n",
       "QA+cdgB54AIDQ0obWCzFxeUj2PRGqM0aIAUMjEDXcYJdJv6AgSEiAcQCGt0OVnLkAiRAKsEUP1AD\n",
       "3y8ggxsYCgwsILcygzwKMc56NxhAgiAfaBbLZ5hbuUARqgzE9RClzCCbeTYhglW/gAEpsHhAPHmI\n",
       "pxkug6wKgAcrW/sBJKVMEt8VGB7+r4VIHwdiRQjz4n8Xl/IHDAxoaQCR4ID4DHpawK4UKwAr5SNK\n",
       "KTi98uwkJhe0QlL6YuLyFgCCuV6Ikax8iwAAAABJRU5ErkJggg==\n",
       "\" style=\"display:inline;vertical-align:middle;\" /></a> <a class=\"ProveItLink\" href=\"../__pv_it/5292a80a2e806539febabb7975bd7cc7832ffe690/proof.ipynb\" style=\"text-decoration: none\">&#x22A2;&nbsp;</a><a class=\"ProveItLink\" href=\"../__pv_it/60a870658ecf77b4b2ca5e56543d5830b362e85b0/expr.ipynb\"><img src=\"data:image/png;base64,iVBORw0KGgoAAAANSUhEUgAAAEAAAAAPBAMAAACmSdRUAAAAMFBMVEX///92dnYQEBBERERUVFS6\n",
       "urqIiIhmZmaqqqrc3Nzu7u6YmJgyMjIiIiLMzMwAAACFkkdwAAAAAXRSTlMAQObYZgAAAQhJREFU\n",
       "GNNjYACBtwxYwJb/Li42ARD2eWwKGJQZGNi/glnc9xdgkef7BsRfwMwZ9ROgggeAYgVQNttPoNaP\n",
       "YGZCPtQqtgQgYQlVwKzAwMCrBWKxLujfABF7AyLmQBXwOzBwHgbbvZThfQLEVqW7QHD/FETBe7e0\n",
       "WojGAIb5EHtzIG6NgViYP4GB6wpYn4uLvwGIscgAopVTBUwZgRSBjGBlYGA6ABLhcocomAOxEOTD\n",
       "/QJAogHoWAWwEMddMLgJcdBvIOEPlOQEYp4PEL0tIGLtBHgwcP4BMtaAvPwLooAdqJjBFREMj4Ae\n",
       "mqx/koHb/g/EG1xAt3BCnMpu/8XF5zRG+D8AKkKNFwBxhUYQlN1g7wAAAABJRU5ErkJggg==\n",
       "\" style=\"display:inline;vertical-align:middle;\" /></a></span></td></tr>\n",
       "<tr><td>6</td><td>specialization</td><td>7</td><td><span style=\"font-size:20px;\"> <a class=\"ProveItLink\" href=\"../__pv_it/d9c1e44d2cae0577ef162fea3f3b5f1476fb25250/proof.ipynb\" style=\"text-decoration: none\">&#x22A2;&nbsp;</a><a class=\"ProveItLink\" href=\"../__pv_it/a6fbf08fc2fd76de2037482b6a4e59816357f66b0/expr.ipynb\"><img src=\"data:image/png;base64,iVBORw0KGgoAAAANSUhEUgAAATEAAAAVBAMAAADcAcTPAAAAMFBMVEX////c3NwiIiJERESqqqqY\n",
       "mJh2dnZmZmYQEBDu7u4yMjJUVFTMzMyIiIi6uroAAAAs73DqAAAAAXRSTlMAQObYZgAAA61JREFU\n",
       "SMfNVkFIVGEQnqe77j73rS7kpY3QlCDooEWBdXFvgh5aCjwU1F5COghi4SECjTyUgS2exEMoYaaB\n",
       "bXQIWkrpFHrYvQWR+PBUhpCUSS6t/f/M///v972Xu3trYPb9OzPfP/Pmn5n/Afy/VJcvaXLVR7Yp\n",
       "uEJkGd6CtsCt0P/3fkZX9rLZ8zaEljwaK0PMl01+2y8Wsq8WvMgVR+dLPIw7QLg5Er3wNbzHjIoA\n",
       "Ux5FbZqYL7/7IcNtAEO2Qh4WzzlN50c8jFpAj1FKb7A17WNn/WFcAOjxaFYFM7r42xE7m+TYvrmM\n",
       "Qs7Sg7wJnSBTTzUPI5hCj2HarGEoJpQsWqtfrKNbzO4XwIQnsgeCAYzOLUc8p1ZrbL9rKYm0TpMb\n",
       "8iZ0WvolYRjmMHrcIFF+zdbe6pQwrGY2VSyA6oS7kKeIOSBadOTf1Kqd8Ym0REY26Wg2dJ3cK+Pg\n",
       "KYwz6HGQtOkLSdIt85+4MKzPgPGEbVHT74oslCJm9DWw7chrVOuxGoifU8hJoDYZ1HWS+pwXpjB6\n",
       "ETeDosd49jzt95sZtYpTyb1dHeCmAUzP7XlOz/EEksQs9TYvRhZnM9KOrNDC6sfjCgnX4RY+Z3Qd\n",
       "wABiWtV7izC6EDeGIhsaSf2Jkrxhy2IxT/J3GXZ3nk3MVGDsaIrAglOh4xmFbBLHMKbrFHXJPhVh\n",
       "fEEcFomVzS628cVEG5kYD1VBrLHUWO7BUG8TswGVzf7QNZNjqkKj2xIZzEMEJ1tR1ykyn1FoMowc\n",
       "4or04hDGtJuvyTaelwWBTXRAZOxnVJ8zT9OyQrGrCVmVFmO5qOsULd8QZSbCoMhGuIg1UBWlPUDl\n",
       "cozc8BdbTMgzoapowdNMEEOAt5lWZy2i5XIs05GfEtnJeJovRnSd3LFZdoMMg07zLD+7hDPJu/nP\n",
       "eEwVi7HLT8N9CVQniaFh//URyGjjrHFKIqdFdOhN6SR1i6cK4zLierGnmR8xyUM8E++ccfaBt6ln\n",
       "anABZ5M76HBGZVwbZ9aonDcWL54qoHng6GRAMkgVBk2NdYBDj6Yh2LFL3rkvg/og1FHIvsE+r3Vf\n",
       "cnVNyEb7bgwu7c0quRzRN9mnwHxSIiO2HOHruk7mX9w+ThgLiAvHXE5ZD5nuO9R7O90V7AX7IOvE\n",
       "SACvN55Rt0DcTsFUGd9wfR5JD/jd8yWRZXnjF0nfvkv4n2Qe+BVUEbIMb7zeEHektGnEewZGhrhS\n",
       "ZBne4KXAGaW/fz/7yI4KrhBZhrfoEuL+ApNnK18wY0lWAAAAAElFTkSuQmCC\n",
       "\" style=\"display:inline;vertical-align:middle;\" /></a></span></td></tr>\n",
       "<tr><td>&nbsp;</td><td colspan=4 style=\"text-align:left\"><span style=\"font-size:20px;\"><a class=\"ProveItLink\" href=\"../../../../__pv_it/2cbe72a7ad6f655694dd697106680215e8489b600/expr.ipynb\"><img src=\"data:image/png;base64,iVBORw0KGgoAAAANSUhEUgAAAA8AAAAOBAMAAAACpFvcAAAALVBMVEX///8QEBBERERUVFS6urqI\n",
       "iIhmZmaqqqrc3Nzu7u6YmJgyMjIiIiLMzMwAAADtIaYWAAAAAXRSTlMAQObYZgAAAFtJREFUCNdj\n",
       "YACBOwxQsA9Kc52bAGG05zVAGAFxDmCaZULdAjBjCsO9ADDDgaEvAUTzGhvbKYCVMDAwbgAxChgY\n",
       "eASANAeQwf0AyJgNxEwvGRia5HYwcOm9TgAA6BoR3jrzwFcAAAAASUVORK5CYII=\n",
       "\" style=\"display:inline;vertical-align:middle;\" /></a> : <a class=\"ProveItLink\" href=\"../../../../__pv_it/2cbe72a7ad6f655694dd697106680215e8489b600/expr.ipynb\"><img src=\"data:image/png;base64,iVBORw0KGgoAAAANSUhEUgAAAA8AAAAOBAMAAAACpFvcAAAALVBMVEX///8QEBBERERUVFS6urqI\n",
       "iIhmZmaqqqrc3Nzu7u6YmJgyMjIiIiLMzMwAAADtIaYWAAAAAXRSTlMAQObYZgAAAFtJREFUCNdj\n",
       "YACBOwxQsA9Kc52bAGG05zVAGAFxDmCaZULdAjBjCsO9ADDDgaEvAUTzGhvbKYCVMDAwbgAxChgY\n",
       "eASANAeQwf0AyJgNxEwvGRia5HYwcOm9TgAA6BoR3jrzwFcAAAAASUVORK5CYII=\n",
       "\" style=\"display:inline;vertical-align:middle;\" /></a>, <a class=\"ProveItLink\" href=\"../../../../__pv_it/077b2ff79244fb4582cbe22c6e3356fa92a52f2f0/expr.ipynb\"><img src=\"data:image/png;base64,iVBORw0KGgoAAAANSUhEUgAAABAAAAAOBAMAAADUAYG5AAAAMFBMVEX///+qqqru7u4iIiJ2dnbc\n",
       "3NyIiIjMzMxmZmYQEBC6uroyMjJERERUVFSYmJgAAADLUcuvAAAAAXRSTlMAQObYZgAAAGpJREFU\n",
       "CNdjYGB4+//u3dMLGIBgDgMDxy8gzf4NiP8CGWxfGRj4vgAZPBMYGJgnARn8FxhY9ygAGfXX0pof\n",
       "gDTlBzAw2YIYJ0EckBBI53sHoBH/gIz7AhBjWH9DjancBLTl/N+7t/cxMAAA3u4f/5xagjYAAAAA\n",
       "SUVORK5CYII=\n",
       "\" style=\"display:inline;vertical-align:middle;\" /></a> : <a class=\"ProveItLink\" href=\"../../../../__pv_it/077b2ff79244fb4582cbe22c6e3356fa92a52f2f0/expr.ipynb\"><img src=\"data:image/png;base64,iVBORw0KGgoAAAANSUhEUgAAABAAAAAOBAMAAADUAYG5AAAAMFBMVEX///+qqqru7u4iIiJ2dnbc\n",
       "3NyIiIjMzMxmZmYQEBC6uroyMjJERERUVFSYmJgAAADLUcuvAAAAAXRSTlMAQObYZgAAAGpJREFU\n",
       "CNdjYGB4+//u3dMLGIBgDgMDxy8gzf4NiP8CGWxfGRj4vgAZPBMYGJgnARn8FxhY9ygAGfXX0pof\n",
       "gDTlBzAw2YIYJ0EckBBI53sHoBH/gIz7AhBjWH9DjancBLTl/N+7t/cxMAAA3u4f/5xagjYAAAAA\n",
       "SUVORK5CYII=\n",
       "\" style=\"display:inline;vertical-align:middle;\" /></a></span></td></tr><tr><td>7</td><td>axiom</td><td></td><td><span style=\"font-size:20px;\"> <a class=\"ProveItLink\" href=\"../_axioms_.ipynb#iffDef\" style=\"text-decoration: none\">&#x22A2;&nbsp;</a><a class=\"ProveItLink\" href=\"../__pv_it/a756da7a5c4731c8ee727591cf414442c56348d00/expr.ipynb\"><img src=\"data:image/png;base64,iVBORw0KGgoAAAANSUhEUgAAAXkAAAAWBAMAAADX+PE1AAAAMFBMVEX///8QEBC6urrMzMxUVFRm\n",
       "ZmZERETc3NwyMjKqqqp2dnaIiIiYmJgiIiLu7u4AAAAU9Wx4AAAAAXRSTlMAQObYZgAAA99JREFU\n",
       "WMPVl01IVFEUx4/zHJ86My9xIbmoXLgIyhrBqE041BBCC9u4KJB0kbaonCD8WFQW2ESFzSKjTeQm\n",
       "Mgx5YDsXWkT0QWSQBZE4hoGrEvGrEu1+nHPfzJs7zmRuPPB3nHfu775z7z333DsAm9riazk9tlQG\n",
       "e75xZJYMaZQ/eJumYRWK2UGd/8VqOHy6DLzBDSOrHJ/ODBYuZ0iP+cPuNNF3O77b2gYlrJNZgM7/\n",
       "Ji8lcOTTWP4MSAbVyj7MBn3wPluKmX9Cl2LGH6Y5gDfZkvF0ZJfDKR+aldDvuxWQDCqfdeiN6aPP\n",
       "iUsx6zgZwdEz7VNBLrLofgNMZkMmLbKLNM7GFad8NN/O6M0e5hIMyv+ore1imsTZiWJmD2MiDjHl\n",
       "UTx5RQCB7ewzlgXJrRz0ZO4uW3HKRxs55CypjycUZ0gLTU1f0kR/AsV6iD8YkZPEE86kbN0SAvMa\n",
       "m5rCY5lJYYW2npyW1UMy5CPrV//tKVgGyZAOAzQLV1T8vTtfd4QKwS0UwDeolu+t3DbObAn7rj46\n",
       "VM9jK+DD8V4XFtKT3nFh86AhAZ7AcfVG5QOoF8wEzY1VxreEYEjlYIke/HKX+4vAV4Sti1EAZXBZ\n",
       "dOGTieu5KhsMR8D6yL8XueY+lUQr0JOj0K445VN2D3PPA+Y8MqQA+MRAvy+LFt4QeBaRmkWBEQ7X\n",
       "8rpklaDnvMzFRv4uRhszruhTSGXTxRrSb0NukDjlc6rOFRl+VTi8AJIh+UYCIg8GxkSLgA3eUXcM\n",
       "HlYNxAJNyXk0b8oGvKy9710rekVSpbwR15AsAiOkoiefsgMDgOsIW13RW53iTDTsJtHiZxBeUUkp\n",
       "RQHb3AG5xPdl+soWBl+u2hiuP2Z2g55E76e4hoQe2naliT7K+/FzmHVMH1yZA82HRM2CetFk79DT\n",
       "czTmMygzhqcc64FPkfXZKdrmEl9592GrIR08lYziCASjfGR38LMDD27OkKBHJMprGBZN+gCeUbV6\n",
       "iJrmRXZFPuO1IbfMKdqV3aCpmDqSWzvoSIOvV4A45aMjCqdGFJeWeHLFhBxe0ayxuhYR9CmWPHT2\n",
       "VEi17oiCv2WJKrO8XfBkaJkL14gal+++U+lIbs1aUsyGuCRUJPpopDJNzcalCLxc7ZIMCfw8am8E\n",
       "qsWu/8WSh+p9TkQq6WrD9MN9rKXeFDQkt6CW9NCe1DKGjplMeutudsSNmFEwV8Aco4f+XqmM1u9+\n",
       "sF4ya6Y/kZ1aALP2K9vtffN1NTHdPXcts9a8If8TmSVDSh666/sFVAbLTV3v9ZJZMqQk2+/6btpS\n",
       "GWww9dF6ySyZQR07ssl+lP8FkGB7YFhFVksAAAAASUVORK5CYII=\n",
       "\" style=\"display:inline;vertical-align:middle;\" /></a></span></td></tr>\n",
       "<tr><td>&nbsp;</td><td colspan=4 style-\"text-align:left\"><a class=\"ProveItLink\" href=\"../_axioms_.ipynb#iffDef\">proveit.logic.boolean.implication.iffDef</a></td></tr></table>"
      ],
      "text/plain": [
       "\tstep type\trequirements\tstatement\n",
       "0\tgeneralizaton\t1\t|- forall_{A, B | A <=> B} (B => A)\n",
       "1\tspecialization\t2, 3\t{A <=> B} |- B => A\n",
       "\tA : A => B, B : B => A\n",
       "2\ttheorem\t\t|- forall_{A, B | A and B} B\n",
       "\tproveit.logic.boolean.conjunction.rightFromAnd\n",
       "3\tspecialization\t4, 5, 6\t{A <=> B} |- (A => B) and (B => A)\n",
       "\tP : A <=> B, Q : (A => B) and (B => A)\n",
       "4\ttheorem\t\t|- forall_{P, Q | P , P = Q} Q\n",
       "\tproveit.logic.equality.rhsViaEquivalence\n",
       "5\tassumption\t\t{A <=> B} |- A <=> B\n",
       "6\tspecialization\t7\t|- (A <=> B) = ((A => B) and (B => A))\n",
       "\tA : A, B : B\n",
       "7\taxiom\t\t|- forall_{A, B} ((A <=> B) = ((A => B) and (B => A)))\n",
       "\tproveit.logic.boolean.implication.iffDef"
      ]
     },
     "execution_count": 6,
     "metadata": {},
     "output_type": "execute_result"
    }
   ],
   "source": [
    "%qed"
   ]
  },
  {
   "cell_type": "code",
   "execution_count": null,
   "metadata": {},
   "outputs": [],
   "source": []
  }
 ],
 "metadata": {
  "kernelspec": {
   "display_name": "Python 3",
   "language": "python",
   "name": "python3"
  }
 },
 "nbformat": 4,
 "nbformat_minor": 0
}
