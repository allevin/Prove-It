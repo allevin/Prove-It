{
 "cells": [
  {
   "cell_type": "markdown",
   "metadata": {},
   "source": [
    "Proof of <a class=\"ProveItLink\" href=\"../../../../_context_.ipynb\">proveit</a>.<a class=\"ProveItLink\" href=\"../../../_context_.ipynb\">logic</a>.<a class=\"ProveItLink\" href=\"../../_context_.ipynb\">boolean</a>.<a class=\"ProveItLink\" href=\"../_context_.ipynb\">implication</a>.<a href=\"../_theorems_.ipynb#affirmViaContradiction\" class=\"ProveItLink\">affirmViaContradiction</a> theorem\n",
    "========"
   ]
  },
  {
   "cell_type": "code",
   "execution_count": 1,
   "metadata": {},
   "outputs": [],
   "source": [
    "import proveit\n",
    "from proveit import defaults\n",
    "from proveit._common_ import A\n",
    "from proveit.logic import inBool, Booleans\n",
    "from proveit.logic.boolean.implication._axioms_ import impliesFalseDef\n",
    "from proveit.logic.equality._theorems_ import rhsViaEquivalence\n",
    "context = proveit.Context('..') # the theorem's context is in the parent directory"
   ]
  },
  {
   "cell_type": "code",
   "execution_count": 2,
   "metadata": {},
   "outputs": [
    {
     "name": "stdout",
     "output_type": "stream",
     "text": [
      "Beginning proof of affirmViaContradiction\n",
      "Recorded 'presuming' information\n",
      "Presuming proveit.logic.equality.rhsViaEquivalence theorem (applied transitively).\n",
      "Presuming previous theorems (applied transitively).\n"
     ]
    },
    {
     "data": {
      "text/html": [
       "<strong id=\"affirmViaContradiction\">affirmViaContradiction:</strong> <a class=\"ProveItLink\" href=\"../__pv_it/6e067bbf01a47ec3fdb8c87f2276ede1c4a744140/expr.ipynb\"><img src=\"data:image/png;base64,iVBORw0KGgoAAAANSUhEUgAAAJkAAAAWBAMAAAAhlCOEAAAAMFBMVEX///8QEBC6urrMzMxUVFRm\n",
       "ZmZERETc3NwyMjKqqqp2dnaIiIiYmJgiIiLu7u4AAAAU9Wx4AAAAAXRSTlMAQObYZgAAAh1JREFU\n",
       "OMtjeMBATXABRJymhkm2QLwSxOijhmn9QFwGxOwJVDCM5z4w0DiAmHUCFUyrjC8AGrm8vLyWGh7d\n",
       "sF8BSH5LS7uFV1kxMgenL5gezD8ApJwZGNLB/HZ0BQpgkn0BXICjgMEKl2mPGOw3ACkVBr4GcCh+\n",
       "goZmV1frATALEjdsCB3nFRi4FJCNSEC2uj4ASPEycIM1P/0DJF6HxjBsWPBaCUntbLgGvvgDUJsx\n",
       "TWN2cfEH8bgP8ILzw7qrQHZS3TugaVxvkNSmw3VwvQ0ABwwQzEQ3jYmBgRFkEV+DCdjwDWkMDEfB\n",
       "kbNAOw5JrQBchzUbUGQ3xPsFaKYBY4cXrDLdCUSyMMQyMIC9sSFUFincmBFec2C9AArmsLS0tAxh\n",
       "VNPYgaZxfACxpoKz6kmG/QzMCyBuY7VGqGVyYOACaQdGzwRuoHoLiHbWYBTTXoDc+w/EYgTFLN/V\n",
       "0PwHzNfS0rJB4caFMI3TARazb0PD/sFNY04tQDKtTL6dgSf/ByhSeUCRwFrAYG/A5wBxG7JpTPB0\n",
       "Es7A/JmBQY1haygQuKKnEBSgw8DAf4DBHerTaoRavgtQ05iAgQlMRKcY3gHBqw34THvyjYHd/w7D\n",
       "MwVw6k1DTr33ID7jAyankr8HGILAXFAyYE1LE0vLwpcnlwHDDS1t7kRVAYniOtJLBYhpz1DEODeQ\n",
       "W8ZATOM8gCzGQnaJBUkbDIeRxdbh1QEAkzCKhUZAJ2AAAAAASUVORK5CYII=\n",
       "\" style=\"display:inline;vertical-align:middle;\" /></a><br>(see <a class=\"ProveItLink\" href=\"../__pv_it/6e067bbf01a47ec3fdb8c87f2276ede1c4a744140/dependencies.ipynb\">dependencies</a>)<br>"
      ],
      "text/plain": [
       "affirmViaContradiction: forall_{A in BOOLEANS | [not](A) => FALSE} A"
      ]
     },
     "execution_count": 2,
     "metadata": {},
     "output_type": "execute_result"
    }
   ],
   "source": [
    "%proving affirmViaContradiction presuming [rhsViaEquivalence]"
   ]
  },
  {
   "cell_type": "code",
   "execution_count": 3,
   "metadata": {},
   "outputs": [
    {
     "data": {
      "text/html": [
       "<strong id=\"defaults.assumptions\">defaults.assumptions:</strong> <a class=\"ProveItLink\" href=\"../__pv_it/91cc07bfe28148903007f8230d7c9bbebff590e10/expr.ipynb\"><img src=\"data:image/png;base64,iVBORw0KGgoAAAANSUhEUgAAAKoAAAAVBAMAAAAkxGgRAAAAMFBMVEX////c3NwiIiJERESqqqqY\n",
       "mJh2dnZmZmYQEBDu7u4yMjJUVFTMzMyIiIi6uroAAAAs73DqAAAAAXRSTlMAQObYZgAAAhJJREFU\n",
       "OMu1lD8sA1Ecx3/U0ZZrmjAxkJtMdGBgYa5BExNTt8YgEUOnChErGhKRDhyJRBd/EosYNEaGdjBZ\n",
       "XA3SmIiJAfd+v7t7f+6cROINvfd73+/vc6+/97sH8D8jUfuDR7N+NqN2S/NrWWo9Gf1YGXKjW0lj\n",
       "1kIgsAnfzrQyLZwohkiiVtrOOkFZkpg1HkjtmAfSdPpz2mDRR9Utk+a6VAC0alkvjqlUW4sSrWsp\n",
       "SZZ7wzAdakvmgsxR6Y1ojS17cbyoUG3tmeLaA9X/ZlrYaz1F82fpX5B1iB/lqUK1tTwpxckMlntE\n",
       "qMD1lLOLvNQPZM3xlTmVmoNDfO5CFWsXSXKq8bXmzA9FqmNNs/mCwcbgvEJNwzo+LejFhS3ptO6c\n",
       "CtieNszPcmtDeFHakqkN+MTo8vIKCQ2W654WpJ7I/OkmnXJrVaDGjiyJWqWMhH3OptzuSI34qa5V\n",
       "pN7MgkJdZY9xgGZslc1A6qpAda0NXldjBNQKDLOTt63xFxa3ZyTqE7X4MKd61hm+1Qm1B2awQ0qM\n",
       "8o4VGhCo2mIK9vrELqpwK++sJtPfWY8AnRv7oI194Ep3wbtd3vrPAXZe7eDRS+PWY14rpxtZm6wY\n",
       "Ropp0aT8/U8cGKYY19kXm/TdI8IX2xGgCddE4MgABHlaQ25lppV/pwZ4SiEpTOsJher46/echeSc\n",
       "efd3+PB59ErIRirwDU79mKMs7uX+AAAAAElFTkSuQmCC\n",
       "\" style=\"display:inline;vertical-align:middle;\" /></a><br>"
      ],
      "text/plain": [
       "defaults.assumptions: (A in BOOLEANS , [not](A) => FALSE)"
      ]
     },
     "execution_count": 3,
     "metadata": {},
     "output_type": "execute_result"
    }
   ],
   "source": [
    "defaults.assumptions = affirmViaContradiction.conditions"
   ]
  },
  {
   "cell_type": "code",
   "execution_count": 4,
   "metadata": {},
   "outputs": [
    {
     "data": {
      "text/html": [
       "<span style=\"font-size:20px;\"> <a class=\"ProveItLink\" href=\"../_axioms_.ipynb#impliesFalseDef\" style=\"text-decoration: none\">&#x22A2;&nbsp;</a><a class=\"ProveItLink\" href=\"../__pv_it/0360c7ad947a096705c0fcf3db690f3dc937688f0/expr.ipynb\"><img src=\"data:image/png;base64,iVBORw0KGgoAAAANSUhEUgAAAOAAAAAVBAMAAACtXP94AAAAMFBMVEX///8QEBC6urrMzMxUVFRm\n",
       "ZmZERETc3NwyMjKqqqp2dnaIiIiYmJgiIiLu7u4AAAAU9Wx4AAAAAXRSTlMAQObYZgAAAnBJREFU\n",
       "SMe9Vc9rE0EUfukaE5PNtvTWQzGVHgQVcvAmkqCFHCtILuIvPGwRheYgrSJqCJRKkOql0Fv3EsWL\n",
       "7H/QvQgVL17agyguohKoiBQsHkR8MzubeTO7sxUPPvh2h/3mm2923psZgP8dYSY74ksoYVfNIjPH\n",
       "mDes8drU4ySBjNOI86n9C3xi6ZxQPWftFZPhCoGMx4hian/rHBg5oVpg87pq8Cv7EmRhPmAebC8t\n",
       "LZEh5RKqIr7yTwyGuVBCxp0rbQBnTF0Haki5hMp+trh4z7SiRwlk+BusKq7LD9OaIeWSqj3XfWsy\n",
       "vEAgKzdcD/DVl19KvmbYT6n3oeoswBz/tJzs9YhgGB+hzgzWWDv/nscPzTDiHvJo6KppcDo8qbsi\n",
       "ub3eUiD04xLR0KwaqvCADTtF5nCoqxpOJecuVRUo8/E//8LHTusi+N7OEdFrl4CPh9O1ZmZmWVXX\n",
       "6XCDccWwntwvUlUOKrwGX2xh+9r9b2hY+pphOIJF29EGtXrhPoZE5XT4MWL5LsBLXk7escui2wRB\n",
       "bIhbqDIWL5vI4XaYsqSCi/Y4Vc2dYV8OwCUAnky/NRnn8CaBMCygtPgd25skhQ2taDYTRx5VrfLj\n",
       "9BVsgOVFf5g/Jfr1CXjUYIDPg7/V0r8N+20LRZVj5epsteZDa9t1b7AclkS/EwRRLBxeBnv+J47b\n",
       "lcNF24qv4SRfw67mp6psloB8G+o1pxH94dAw15bQgh5ftQzOxBwHGA2gKZb0bnzgehJalHzzhWjm\n",
       "hsynPSjMvoMvVb7x3SD7eoqzYorB3zNPMYc0bhGo0cwwbP4DQ27wGOpNWTOLzBwyfwCulsldcIJz\n",
       "nAAAAABJRU5ErkJggg==\n",
       "\" style=\"display:inline;vertical-align:middle;\" /></a></span>"
      ],
      "text/plain": [
       "|- forall_{A in BOOLEANS} (([not](A) => FALSE) = A)"
      ]
     },
     "execution_count": 4,
     "metadata": {},
     "output_type": "execute_result"
    }
   ],
   "source": [
    "impliesFalseDef"
   ]
  },
  {
   "cell_type": "code",
   "execution_count": 5,
   "metadata": {},
   "outputs": [
    {
     "data": {
      "text/html": [
       "<strong id=\"equiv\">equiv:</strong> <span style=\"font-size:20px;\"><a class=\"ProveItLink\" href=\"../__pv_it/3612ec1dc3b8c98c2193921a926214e0c20eaba70/expr.ipynb\"><img src=\"data:image/png;base64,iVBORw0KGgoAAAANSUhEUgAAAEkAAAAVBAMAAAD4Ed5jAAAAMFBMVEX///9ERETc3NyqqqpUVFS6\n",
       "urrMzMwyMjIQEBCIiIh2dnYiIiLu7u5mZmaYmJgAAABJJ2g3AAAAAXRSTlMAQObYZgAAAS5JREFU\n",
       "KM9jYGDgu8eAB7CtUgBRPLsY8AK2ZhDJ+QHK24Aqu/xjfcVGAyDjOojH1QARZf+AZohAJE/NKiC9\n",
       "AlnV6z8YqhimsqOpYrL9BJHkmb57dwFUlR3LAVRVnJxfIarS3yCZpYhmVgzzP4iZMggb2fbJwFTx\n",
       "go3nCWD7CZZjVICrit7/YwKQfg/iZASASFYGpr9guYPIrp9pCPL8BQaGlDawUIqLy0cwI2L3boTr\n",
       "GVkXABniD4DCCSAhoIHtEOXIZjEyCDAwcINUsoA0MgPxDrDcaQxVYHdxgWJGGYjrwXIsD5BVgWyE\n",
       "hwQPyDz5A2DPbkVS9XYiUngxSXxXYHj4vxYsqX4NHtvSLQbo8QgHJtUQP8IAdlXoAKyKj5AqcPri\n",
       "2UkgrbaCKb7FBNM9AKQsUzxrU6Y9AAAAAElFTkSuQmCC\n",
       "\" style=\"display:inline;vertical-align:middle;\" /></a> <a class=\"ProveItLink\" href=\"../__pv_it/3bc84fe809dfc963c1b79e3e0e59437ca299d5790/proof.ipynb\" style=\"text-decoration: none\">&#x22A2;&nbsp;</a><a class=\"ProveItLink\" href=\"../__pv_it/897401c156fabd8f205939beb9fc27d3af7929ca0/expr.ipynb\"><img src=\"data:image/png;base64,iVBORw0KGgoAAAANSUhEUgAAAJcAAAAVBAMAAAC5yWGZAAAAMFBMVEX////c3NwiIiJERESqqqqY\n",
       "mJh2dnZmZmYQEBDu7u4yMjJUVFTMzMyIiIi6uroAAAAs73DqAAAAAXRSTlMAQObYZgAAAZdJREFU\n",
       "OMutVCFPw0AY/coy1i3dsgQcgqR/YBMgUKCHAD01tyBIFgSKhIWgYRpBhiABxBh6ggUJYv0HNKgF\n",
       "hQVB+O6+a+/69doZXvLa671773rf9Qrwr6gFxASKYbYhT3tT1HhBnljHOnJSuyZccK+o8YisWA1e\n",
       "DzI14aoGRGMZjQFeOvFzmYcZGnO5ihqrp3VM6MfPlQELMzTm+gSiRvAuKryhd2jMwgyNuY6BqL2D\n",
       "vX28dXXPIQ/rWr4J6boFYoxrmIkStkT7yBdo9FiY1EoPEmPTdQGSJWkTlQ1hXVjmRn4rTIbN029G\n",
       "rl8gyrE4jTeZPDexPTNGlu/CRNgs/c2Qi4fVcHOHzPB6AAvClOsciFHYDsBSP1oK1czfAssyqTB+\n",
       "U/Yo1yYQVZiD3ZUvbLf1tLt8N9upY6ZcXXOrp3CF18J3Yvud4cJPI3J9AJGwcnkDxe0f9IzivkKd\n",
       "7mJdZ3JdI5YVu1wc6tZTFTWOjJej8QPasZ7c5SD7p5WjpX9BURWykKOtKSbxlBOWo4m/p8NfvDrN\n",
       "NmRrf0aIdGOe7WNKAAAAAElFTkSuQmCC\n",
       "\" style=\"display:inline;vertical-align:middle;\" /></a></span><br>"
      ],
      "text/plain": [
       "equiv: {A in BOOLEANS} |- ([not](A) => FALSE) = A"
      ]
     },
     "execution_count": 5,
     "metadata": {},
     "output_type": "execute_result"
    }
   ],
   "source": [
    "equiv = impliesFalseDef.specialize()"
   ]
  },
  {
   "cell_type": "code",
   "execution_count": 6,
   "metadata": {},
   "outputs": [
    {
     "data": {
      "text/html": [
       "<span style=\"font-size:20px;\"><a class=\"ProveItLink\" href=\"../__pv_it/c42b529bf7f3861cd11614c42d8327d46f21f86c0/expr.ipynb\"><img src=\"data:image/png;base64,iVBORw0KGgoAAAANSUhEUgAAALEAAAAVBAMAAAD7ihIOAAAAMFBMVEX///9ERETc3NyqqqpUVFS6\n",
       "urrMzMwyMjIQEBCIiIh2dnYiIiLu7u5mZmaYmJgAAABJJ2g3AAAAAXRSTlMAQObYZgAAAiJJREFU\n",
       "OMtjYGDgu8dAZcC2SgFE8ewiRjHrBDQBvgB8RjeDSM4PUG42qixXvfj3bmEYLwVFDqT0GlYzmSAu\n",
       "uA42oQEqWI+miJF1wvFTC6CcGhQpkFJ27K69AKZWIJvMt/8AhsmcAQUQNidKYICV8i2A83nwm6x8\n",
       "XwGibPru3QVQk5kf+EAkOVBsBSvlaYDz2Q/gNXnCfEicpL9BcnOQAIQdjuIbiFJhRPQ64DOZ9YD9\n",
       "A3AUyCCFRvZDqGtuoaQTiNK1CJGVWE3mhQTlUYZ8cFgyKiBM3v2/E8quQzYZqtQcxL69GwT2X0Az\n",
       "+T2IyIAEQgCDPljwIEoMToaGRivQBWAzFiCURiBZZh6AajI7kEppg4i4uPiDTYkA6YfFIINAFETD\n",
       "V5hGB4TSfCSTeSoCUExmEAeGV0QCOOyA8V+AmiXAJjNimgxTimxy+hpUN3OD/MYCNtAAyANH5Wms\n",
       "JjcjmQxTGoEI590y2MKZawMoRQCVs4OzOcsDFJOjINlADmEyXOlzhJNNcKe64yCT/oBDbCuSyXw3\n",
       "BRjOb0BOYQkIpYhUx1SA02TF/iIGPvnvYFH1a/AS6eMOZwaGE5+AnGi4VoTSUkS4QVMqKPl0794t\n",
       "gJYHEV6r3l2AzA8C5W4FjLIHKXezYUhiNxkdgAIeqfiBl7IT8OgBm8xHjMlopSgDNGpwAnD5zLMT\n",
       "v8GcYFIFQ9wJX53SCiltFxNRWzGh+50zgUA9CABc4qTxgEni8QAAAABJRU5ErkJggg==\n",
       "\" style=\"display:inline;vertical-align:middle;\" /></a> <a class=\"ProveItLink\" href=\"../__pv_it/5aee3a714611f42b001b763b1db17ee3506bc1950/proof.ipynb\" style=\"text-decoration: none\">&#x22A2;&nbsp;</a><a class=\"ProveItLink\" href=\"../../../../__pv_it/2cbe72a7ad6f655694dd697106680215e8489b600/expr.ipynb\"><img src=\"data:image/png;base64,iVBORw0KGgoAAAANSUhEUgAAAA8AAAAOBAMAAAACpFvcAAAALVBMVEX///8QEBBERERUVFS6urqI\n",
       "iIhmZmaqqqrc3Nzu7u6YmJgyMjIiIiLMzMwAAADtIaYWAAAAAXRSTlMAQObYZgAAAFtJREFUCNdj\n",
       "YACBOwxQsA9Kc52bAGG05zVAGAFxDmCaZULdAjBjCsO9ADDDgaEvAUTzGhvbKYCVMDAwbgAxChgY\n",
       "eASANAeQwf0AyJgNxEwvGRia5HYwcOm9TgAA6BoR3jrzwFcAAAAASUVORK5CYII=\n",
       "\" style=\"display:inline;vertical-align:middle;\" /></a></span>"
      ],
      "text/plain": [
       "{A in BOOLEANS , [not](A) => FALSE} |- A"
      ]
     },
     "execution_count": 6,
     "metadata": {},
     "output_type": "execute_result"
    }
   ],
   "source": [
    "equiv.deriveRightViaEquivalence()"
   ]
  },
  {
   "cell_type": "code",
   "execution_count": 7,
   "metadata": {},
   "outputs": [
    {
     "data": {
      "text/html": [
       "<table><tr><th>&nbsp;</th><th>step type</th><th>requirements</th><th>statement</th></tr>\n",
       "<tr><td>0</td><td>generalizaton</td><td>1</td><td><span style=\"font-size:20px;\"> <a class=\"ProveItLink\" href=\"../__pv_it/96f8e6e09c62ec626a48bb86d5aaff172b66f1bf0/proof.ipynb\" style=\"text-decoration: none\">&#x22A2;&nbsp;</a><a class=\"ProveItLink\" href=\"../__pv_it/6e067bbf01a47ec3fdb8c87f2276ede1c4a744140/expr.ipynb\"><img src=\"data:image/png;base64,iVBORw0KGgoAAAANSUhEUgAAAJkAAAAWBAMAAAAhlCOEAAAAMFBMVEX///8QEBC6urrMzMxUVFRm\n",
       "ZmZERETc3NwyMjKqqqp2dnaIiIiYmJgiIiLu7u4AAAAU9Wx4AAAAAXRSTlMAQObYZgAAAh1JREFU\n",
       "OMtjeMBATXABRJymhkm2QLwSxOijhmn9QFwGxOwJVDCM5z4w0DiAmHUCFUyrjC8AGrm8vLyWGh7d\n",
       "sF8BSH5LS7uFV1kxMgenL5gezD8ApJwZGNLB/HZ0BQpgkn0BXICjgMEKl2mPGOw3ACkVBr4GcCh+\n",
       "goZmV1frATALEjdsCB3nFRi4FJCNSEC2uj4ASPEycIM1P/0DJF6HxjBsWPBaCUntbLgGvvgDUJsx\n",
       "TWN2cfEH8bgP8ILzw7qrQHZS3TugaVxvkNSmw3VwvQ0ABwwQzEQ3jYmBgRFkEV+DCdjwDWkMDEfB\n",
       "kbNAOw5JrQBchzUbUGQ3xPsFaKYBY4cXrDLdCUSyMMQyMIC9sSFUFincmBFec2C9AArmsLS0tAxh\n",
       "VNPYgaZxfACxpoKz6kmG/QzMCyBuY7VGqGVyYOACaQdGzwRuoHoLiHbWYBTTXoDc+w/EYgTFLN/V\n",
       "0PwHzNfS0rJB4caFMI3TARazb0PD/sFNY04tQDKtTL6dgSf/ByhSeUCRwFrAYG/A5wBxG7JpTPB0\n",
       "Es7A/JmBQY1haygQuKKnEBSgw8DAf4DBHerTaoRavgtQ05iAgQlMRKcY3gHBqw34THvyjYHd/w7D\n",
       "MwVw6k1DTr33ID7jAyankr8HGILAXFAyYE1LE0vLwpcnlwHDDS1t7kRVAYniOtJLBYhpz1DEODeQ\n",
       "W8ZATOM8gCzGQnaJBUkbDIeRxdbh1QEAkzCKhUZAJ2AAAAAASUVORK5CYII=\n",
       "\" style=\"display:inline;vertical-align:middle;\" /></a></span></td></tr>\n",
       "<tr><td>1</td><td>specialization</td><td>2, 3, 4</td><td><span style=\"font-size:20px;\"><a class=\"ProveItLink\" href=\"../__pv_it/c42b529bf7f3861cd11614c42d8327d46f21f86c0/expr.ipynb\"><img src=\"data:image/png;base64,iVBORw0KGgoAAAANSUhEUgAAALEAAAAVBAMAAAD7ihIOAAAAMFBMVEX///9ERETc3NyqqqpUVFS6\n",
       "urrMzMwyMjIQEBCIiIh2dnYiIiLu7u5mZmaYmJgAAABJJ2g3AAAAAXRSTlMAQObYZgAAAiJJREFU\n",
       "OMtjYGDgu8dAZcC2SgFE8ewiRjHrBDQBvgB8RjeDSM4PUG42qixXvfj3bmEYLwVFDqT0GlYzmSAu\n",
       "uA42oQEqWI+miJF1wvFTC6CcGhQpkFJ27K69AKZWIJvMt/8AhsmcAQUQNidKYICV8i2A83nwm6x8\n",
       "XwGibPru3QVQk5kf+EAkOVBsBSvlaYDz2Q/gNXnCfEicpL9BcnOQAIQdjuIbiFJhRPQ64DOZ9YD9\n",
       "A3AUyCCFRvZDqGtuoaQTiNK1CJGVWE3mhQTlUYZ8cFgyKiBM3v2/E8quQzYZqtQcxL69GwT2X0Az\n",
       "+T2IyIAEQgCDPljwIEoMToaGRivQBWAzFiCURiBZZh6AajI7kEppg4i4uPiDTYkA6YfFIINAFETD\n",
       "V5hGB4TSfCSTeSoCUExmEAeGV0QCOOyA8V+AmiXAJjNimgxTimxy+hpUN3OD/MYCNtAAyANH5Wms\n",
       "JjcjmQxTGoEI590y2MKZawMoRQCVs4OzOcsDFJOjINlADmEyXOlzhJNNcKe64yCT/oBDbCuSyXw3\n",
       "BRjOb0BOYQkIpYhUx1SA02TF/iIGPvnvYFH1a/AS6eMOZwaGE5+AnGi4VoTSUkS4QVMqKPl0794t\n",
       "gJYHEV6r3l2AzA8C5W4FjLIHKXezYUhiNxkdgAIeqfiBl7IT8OgBm8xHjMlopSgDNGpwAnD5zLMT\n",
       "v8GcYFIFQ9wJX53SCiltFxNRWzGh+50zgUA9CABc4qTxgEni8QAAAABJRU5ErkJggg==\n",
       "\" style=\"display:inline;vertical-align:middle;\" /></a> <a class=\"ProveItLink\" href=\"../__pv_it/5aee3a714611f42b001b763b1db17ee3506bc1950/proof.ipynb\" style=\"text-decoration: none\">&#x22A2;&nbsp;</a><a class=\"ProveItLink\" href=\"../../../../__pv_it/2cbe72a7ad6f655694dd697106680215e8489b600/expr.ipynb\"><img src=\"data:image/png;base64,iVBORw0KGgoAAAANSUhEUgAAAA8AAAAOBAMAAAACpFvcAAAALVBMVEX///8QEBBERERUVFS6urqI\n",
       "iIhmZmaqqqrc3Nzu7u6YmJgyMjIiIiLMzMwAAADtIaYWAAAAAXRSTlMAQObYZgAAAFtJREFUCNdj\n",
       "YACBOwxQsA9Kc52bAGG05zVAGAFxDmCaZULdAjBjCsO9ADDDgaEvAUTzGhvbKYCVMDAwbgAxChgY\n",
       "eASANAeQwf0AyJgNxEwvGRia5HYwcOm9TgAA6BoR3jrzwFcAAAAASUVORK5CYII=\n",
       "\" style=\"display:inline;vertical-align:middle;\" /></a></span></td></tr>\n",
       "<tr><td>&nbsp;</td><td colspan=4 style=\"text-align:left\"><span style=\"font-size:20px;\"><a class=\"ProveItLink\" href=\"../../../../__pv_it/6369c6c8083c513ca7161ace249642d040f9327d0/expr.ipynb\"><img src=\"data:image/png;base64,iVBORw0KGgoAAAANSUhEUgAAABAAAAAOBAMAAADUAYG5AAAAMFBMVEX////u7u5mZmaYmJi6urqq\n",
       "qqp2dnbMzMwQEBBEREQyMjLc3NwiIiJUVFSIiIgAAAAeC3ydAAAAAXRSTlMAQObYZgAAAGBJREFU\n",
       "CNdjYGB4+//u3bMbGIDgFwMDZzeQZv/GwMAKxAx8XxgYmD8BGZwfGBh4vwIZ/AsYGOQnABn1CQzs\n",
       "h0Ca3l9LUwPrni/AAAF/oDT7JygDZAwYcH6E0ELz/z4A0QBnpRnRyxnfJQAAAABJRU5ErkJggg==\n",
       "\" style=\"display:inline;vertical-align:middle;\" /></a> : <a class=\"ProveItLink\" href=\"../__pv_it/a87cb314a77b2b28d63a43f1f29e83e334a545040/expr.ipynb\"><img src=\"data:image/png;base64,iVBORw0KGgoAAAANSUhEUgAAAFsAAAAVBAMAAADbSo+2AAAAMFBMVEX////c3NwiIiJERESqqqqY\n",
       "mJh2dnZmZmYQEBDu7u4yMjJUVFTMzMyIiIi6uroAAAAs73DqAAAAAXRSTlMAQObYZgAAASNJREFU\n",
       "KM9jYCAR8F1AE2B9gE/5aRTeISCuwaqOEWLsShTB9UDMhVU5TwGI5EVxC6v+BCCRAOdzoivnmICs\n",
       "XKReAKimAc7nmoCm/BWKjRfug/xpggiHDWjKy1BCaYJ/AJBKR4jkoilfiqx8HsN5kFe8QOwiJRDQ\n",
       "L0BV3sfAwA6WAPnvAYM8SPAFkgleD1CU/4PxgK7k2b17vwGQfR5JOeeKB7iU8wEDagGa8lOZKKa3\n",
       "ICl3YGBgaoA5BuJ2JUtUt5silDMClXN9ALKjEIZ7o4UMPNAOMMwCksw/UQKScQGa8kdwvnD/QgZW\n",
       "+19A0XVwMWYBCA0KvCYlJQMGDgGMxISUCHjQ5ZDSEwywXcCT3ldiiMzClz2kMUQ24lPOiG417wHc\n",
       "igFg/0K2AuH1ZwAAAABJRU5ErkJggg==\n",
       "\" style=\"display:inline;vertical-align:middle;\" /></a>, <a class=\"ProveItLink\" href=\"../../../../__pv_it/98124f92e6e1fc3772af50ac63eaa1f5624776f20/expr.ipynb\"><img src=\"data:image/png;base64,iVBORw0KGgoAAAANSUhEUgAAAA8AAAASBAMAAAB2sJk8AAAAMFBMVEX///+YmJiqqqq6uroQEBBE\n",
       "RETu7u4iIiLMzMwyMjKIiIhUVFRmZmZ2dnbc3NwAAADS0us6AAAAAXRSTlMAQObYZgAAAHxJREFU\n",
       "CNdjYGDgu3N3FwMI3Gxg4C4D0pkBQMIbiKeDRM8nMPD8ADHuGzC8DwAzFBjOC4AY8Q0M9Qkgxhcw\n",
       "YmBg+svA8B3E4HRjYJgPYug3ALHBqxUczkAOb9kFXtUHIGHrucsVGBrAtrI2MEIZByzBNAP3/88Q\n",
       "BocL0BoActoerD1tNT4AAAAASUVORK5CYII=\n",
       "\" style=\"display:inline;vertical-align:middle;\" /></a> : <a class=\"ProveItLink\" href=\"../../../../__pv_it/2cbe72a7ad6f655694dd697106680215e8489b600/expr.ipynb\"><img src=\"data:image/png;base64,iVBORw0KGgoAAAANSUhEUgAAAA8AAAAOBAMAAAACpFvcAAAALVBMVEX///8QEBBERERUVFS6urqI\n",
       "iIhmZmaqqqrc3Nzu7u6YmJgyMjIiIiLMzMwAAADtIaYWAAAAAXRSTlMAQObYZgAAAFtJREFUCNdj\n",
       "YACBOwxQsA9Kc52bAGG05zVAGAFxDmCaZULdAjBjCsO9ADDDgaEvAUTzGhvbKYCVMDAwbgAxChgY\n",
       "eASANAeQwf0AyJgNxEwvGRia5HYwcOm9TgAA6BoR3jrzwFcAAAAASUVORK5CYII=\n",
       "\" style=\"display:inline;vertical-align:middle;\" /></a></span></td></tr><tr><td>2</td><td>theorem</td><td></td><td><span style=\"font-size:20px;\"> <a class=\"ProveItLink\" href=\"../../../equality/_proofs_/rhsViaEquivalence.ipynb\" style=\"text-decoration: none\">&#x22A2;&nbsp;</a><a class=\"ProveItLink\" href=\"../../../equality/__pv_it/771aeab8c4711531b2b4534bd94ab64c6ca8ce7f0/expr.ipynb\"><img src=\"data:image/png;base64,iVBORw0KGgoAAAANSUhEUgAAAIkAAAAWBAMAAAAGOqJsAAAAMFBMVEX///8QEBC6urrMzMxUVFRm\n",
       "ZmZERETc3NwyMjKqqqp2dnaIiIiYmJgiIiLu7u4AAAAU9Wx4AAAAAXRSTlMAQObYZgAAAfJJREFU\n",
       "OMutlE8oBFEcx7/ssHbMrj8pN+1hD27moCgHQiilLdyUveCICwfJOhFhHcht92CztrQkBwc1zpI9\n",
       "KCWxbm7+hfz3fm/szJtdBya/er/v6zff9+n93sw8pPAfkaR0YHu5MxpvZ7JO83nblJgK6RwYIWDA\n",
       "LuSKVpYBBexg8kJ2KXOUelNQ1kZHx+1C8u4pJ7zAY3//qV3KBD+KBGulCRgAXIPdXUzg2Ym2ckOu\n",
       "7lt+6G4ZEpSHYerVKA+qgA+eIJvuAxtMalUMc3e+vkAphpwUlIdhuuBf2y0bbhQSsRk4SsFRzpoN\n",
       "CBSpAcqHoBSmidbD9cJSoeYm4hnQBlwyoHIjUNwapKCgFKbpnVJBBTUZrKZ8D+UE2EIG5VrF4ZCg\n",
       "FKZpgVJYpTzQSIf5Eu9hckyvLylQquJRzVBpmsWsYAp7x7Ydpdy4RAVZ3+4rGzkRgRKDVa0m+Twi\n",
       "L+tbzNmkRX4+f2NjMSVQ+mBVqwm+mb0QeEcKFYr0n6DPuevRd/hNeYag+XpHpolqqqIa/Hq2L+cU\n",
       "hutcK16B4ngCr3NNh2niTVQaD+SFTrbkDc621Q6HQIk9qLzO1bhTDBN9SJ93Gb+FQi/LPyZ2ZNQt\n",
       "kTbRbku0jIc1VH2syKLUZFLSph+DUydDWRQtyzn5yxtJ+ssN8QXzbpCqvj4ZyAAAAABJRU5ErkJg\n",
       "gg==\n",
       "\" style=\"display:inline;vertical-align:middle;\" /></a></span></td></tr>\n",
       "<tr><td>&nbsp;</td><td colspan=4 style-\"text-align:left\"><a class=\"ProveItLink\" href=\"../../../equality/_proofs_/rhsViaEquivalence.ipynb\">proveit.logic.equality.rhsViaEquivalence</a></td></tr><tr><td>3</td><td>assumption</td><td></td><td><span style=\"font-size:20px;\"><a class=\"ProveItLink\" href=\"../__pv_it/6a9ad0b1688327ac9ac0b373edead7a7a0d61a5e0/expr.ipynb\"><img src=\"data:image/png;base64,iVBORw0KGgoAAAANSUhEUgAAAHEAAAAVBAMAAACDNRyvAAAAMFBMVEX////c3NxERESqqqpUVFS6\n",
       "urrMzMwyMjIQEBCIiIh2dnYiIiLu7u5mZmaYmJgAAABXZE4RAAAAAXRSTlMAQObYZgAAAXVJREFU\n",
       "OMtjYGDgu8dAImBbJQCieHaBSNYJaLJ8Afi0NoNIzg8gMgVFJhuIr2HVwwix4TqI4GoAkTUo8vVA\n",
       "zI7dtgtgagVcJyeKY/n2HwASC+B8Hjw6OQ4g6xS+DwwBngY4n/0Abp3hKE6aMB8UPMpwPqsDbp23\n",
       "kDWyHrB/AKTWIkRWYtXJWwAk6pB1HmXIB3nbHMS+vRsE9l9A0/keRGSAXNYKNAGsBhQsAQzyIPkI\n",
       "JMPMA1B1sgOplDYQ6ytMAugjNhcXfwUgOx9JJ09FAIpOBnWgfyIS0HSyAoO6AE1n+hpUO7lBbmMB\n",
       "qWpG0mkAlGiAuRbiz9062PzJtQFI6CF0MgJ1soNS5HOElSa4YwUeAwkMx4Ek0x+UWGEswK0zGi4l\n",
       "1F/IwKf/HaigFC7GJAChQcHfvXu3AkrqE8BI20ipjw1DEqETKXnDANcEPBkUrJMPSy4DgeP4SgVw\n",
       "/uTZCSJFMCQd8ZUJrZDcuBiR1xGAM4FAOQQA/RhoR5wnQiwAAAAASUVORK5CYII=\n",
       "\" style=\"display:inline;vertical-align:middle;\" /></a> <a class=\"ProveItLink\" href=\"../__pv_it/c99cf424c50bf3dd04d81a84b3259f9d4a1d0ac70/proof.ipynb\" style=\"text-decoration: none\">&#x22A2;&nbsp;</a><a class=\"ProveItLink\" href=\"../__pv_it/a87cb314a77b2b28d63a43f1f29e83e334a545040/expr.ipynb\"><img src=\"data:image/png;base64,iVBORw0KGgoAAAANSUhEUgAAAFsAAAAVBAMAAADbSo+2AAAAMFBMVEX////c3NwiIiJERESqqqqY\n",
       "mJh2dnZmZmYQEBDu7u4yMjJUVFTMzMyIiIi6uroAAAAs73DqAAAAAXRSTlMAQObYZgAAASNJREFU\n",
       "KM9jYCAR8F1AE2B9gE/5aRTeISCuwaqOEWLsShTB9UDMhVU5TwGI5EVxC6v+BCCRAOdzoivnmICs\n",
       "XKReAKimAc7nmoCm/BWKjRfug/xpggiHDWjKy1BCaYJ/AJBKR4jkoilfiqx8HsN5kFe8QOwiJRDQ\n",
       "L0BV3sfAwA6WAPnvAYM8SPAFkgleD1CU/4PxgK7k2b17vwGQfR5JOeeKB7iU8wEDagGa8lOZKKa3\n",
       "ICl3YGBgaoA5BuJ2JUtUt5silDMClXN9ALKjEIZ7o4UMPNAOMMwCksw/UQKScQGa8kdwvnD/QgZW\n",
       "+19A0XVwMWYBCA0KvCYlJQMGDgGMxISUCHjQ5ZDSEwywXcCT3ldiiMzClz2kMUQ24lPOiG417wHc\n",
       "igFg/0K2AuH1ZwAAAABJRU5ErkJggg==\n",
       "\" style=\"display:inline;vertical-align:middle;\" /></a></span></td></tr>\n",
       "<tr><td>4</td><td>specialization</td><td>5, 6</td><td><span style=\"font-size:20px;\"><a class=\"ProveItLink\" href=\"../__pv_it/3612ec1dc3b8c98c2193921a926214e0c20eaba70/expr.ipynb\"><img src=\"data:image/png;base64,iVBORw0KGgoAAAANSUhEUgAAAEkAAAAVBAMAAAD4Ed5jAAAAMFBMVEX///9ERETc3NyqqqpUVFS6\n",
       "urrMzMwyMjIQEBCIiIh2dnYiIiLu7u5mZmaYmJgAAABJJ2g3AAAAAXRSTlMAQObYZgAAAS5JREFU\n",
       "KM9jYGDgu8eAB7CtUgBRPLsY8AK2ZhDJ+QHK24Aqu/xjfcVGAyDjOojH1QARZf+AZohAJE/NKiC9\n",
       "AlnV6z8YqhimsqOpYrL9BJHkmb57dwFUlR3LAVRVnJxfIarS3yCZpYhmVgzzP4iZMggb2fbJwFTx\n",
       "go3nCWD7CZZjVICrit7/YwKQfg/iZASASFYGpr9guYPIrp9pCPL8BQaGlDawUIqLy0cwI2L3boTr\n",
       "GVkXABniD4DCCSAhoIHtEOXIZjEyCDAwcINUsoA0MgPxDrDcaQxVYHdxgWJGGYjrwXIsD5BVgWyE\n",
       "hwQPyDz5A2DPbkVS9XYiUngxSXxXYHj4vxYsqX4NHtvSLQbo8QgHJtUQP8IAdlXoAKyKj5AqcPri\n",
       "2UkgrbaCKb7FBNM9AKQsUzxrU6Y9AAAAAElFTkSuQmCC\n",
       "\" style=\"display:inline;vertical-align:middle;\" /></a> <a class=\"ProveItLink\" href=\"../__pv_it/3bc84fe809dfc963c1b79e3e0e59437ca299d5790/proof.ipynb\" style=\"text-decoration: none\">&#x22A2;&nbsp;</a><a class=\"ProveItLink\" href=\"../__pv_it/897401c156fabd8f205939beb9fc27d3af7929ca0/expr.ipynb\"><img src=\"data:image/png;base64,iVBORw0KGgoAAAANSUhEUgAAAJcAAAAVBAMAAAC5yWGZAAAAMFBMVEX////c3NwiIiJERESqqqqY\n",
       "mJh2dnZmZmYQEBDu7u4yMjJUVFTMzMyIiIi6uroAAAAs73DqAAAAAXRSTlMAQObYZgAAAZdJREFU\n",
       "OMutVCFPw0AY/coy1i3dsgQcgqR/YBMgUKCHAD01tyBIFgSKhIWgYRpBhiABxBh6ggUJYv0HNKgF\n",
       "hQVB+O6+a+/69doZXvLa671773rf9Qrwr6gFxASKYbYhT3tT1HhBnljHOnJSuyZccK+o8YisWA1e\n",
       "DzI14aoGRGMZjQFeOvFzmYcZGnO5ihqrp3VM6MfPlQELMzTm+gSiRvAuKryhd2jMwgyNuY6BqL2D\n",
       "vX28dXXPIQ/rWr4J6boFYoxrmIkStkT7yBdo9FiY1EoPEmPTdQGSJWkTlQ1hXVjmRn4rTIbN029G\n",
       "rl8gyrE4jTeZPDexPTNGlu/CRNgs/c2Qi4fVcHOHzPB6AAvClOsciFHYDsBSP1oK1czfAssyqTB+\n",
       "U/Yo1yYQVZiD3ZUvbLf1tLt8N9upY6ZcXXOrp3CF18J3Yvud4cJPI3J9AJGwcnkDxe0f9IzivkKd\n",
       "7mJdZ3JdI5YVu1wc6tZTFTWOjJej8QPasZ7c5SD7p5WjpX9BURWykKOtKSbxlBOWo4m/p8NfvDrN\n",
       "NmRrf0aIdGOe7WNKAAAAAElFTkSuQmCC\n",
       "\" style=\"display:inline;vertical-align:middle;\" /></a></span></td></tr>\n",
       "<tr><td>&nbsp;</td><td colspan=4 style=\"text-align:left\"><span style=\"font-size:20px;\"><a class=\"ProveItLink\" href=\"../../../../__pv_it/2cbe72a7ad6f655694dd697106680215e8489b600/expr.ipynb\"><img src=\"data:image/png;base64,iVBORw0KGgoAAAANSUhEUgAAAA8AAAAOBAMAAAACpFvcAAAALVBMVEX///8QEBBERERUVFS6urqI\n",
       "iIhmZmaqqqrc3Nzu7u6YmJgyMjIiIiLMzMwAAADtIaYWAAAAAXRSTlMAQObYZgAAAFtJREFUCNdj\n",
       "YACBOwxQsA9Kc52bAGG05zVAGAFxDmCaZULdAjBjCsO9ADDDgaEvAUTzGhvbKYCVMDAwbgAxChgY\n",
       "eASANAeQwf0AyJgNxEwvGRia5HYwcOm9TgAA6BoR3jrzwFcAAAAASUVORK5CYII=\n",
       "\" style=\"display:inline;vertical-align:middle;\" /></a> : <a class=\"ProveItLink\" href=\"../../../../__pv_it/2cbe72a7ad6f655694dd697106680215e8489b600/expr.ipynb\"><img src=\"data:image/png;base64,iVBORw0KGgoAAAANSUhEUgAAAA8AAAAOBAMAAAACpFvcAAAALVBMVEX///8QEBBERERUVFS6urqI\n",
       "iIhmZmaqqqrc3Nzu7u6YmJgyMjIiIiLMzMwAAADtIaYWAAAAAXRSTlMAQObYZgAAAFtJREFUCNdj\n",
       "YACBOwxQsA9Kc52bAGG05zVAGAFxDmCaZULdAjBjCsO9ADDDgaEvAUTzGhvbKYCVMDAwbgAxChgY\n",
       "eASANAeQwf0AyJgNxEwvGRia5HYwcOm9TgAA6BoR3jrzwFcAAAAASUVORK5CYII=\n",
       "\" style=\"display:inline;vertical-align:middle;\" /></a></span></td></tr><tr><td>5</td><td>axiom</td><td></td><td><span style=\"font-size:20px;\"> <a class=\"ProveItLink\" href=\"../_axioms_.ipynb#impliesFalseDef\" style=\"text-decoration: none\">&#x22A2;&nbsp;</a><a class=\"ProveItLink\" href=\"../__pv_it/0360c7ad947a096705c0fcf3db690f3dc937688f0/expr.ipynb\"><img src=\"data:image/png;base64,iVBORw0KGgoAAAANSUhEUgAAAOAAAAAVBAMAAACtXP94AAAAMFBMVEX///8QEBC6urrMzMxUVFRm\n",
       "ZmZERETc3NwyMjKqqqp2dnaIiIiYmJgiIiLu7u4AAAAU9Wx4AAAAAXRSTlMAQObYZgAAAnBJREFU\n",
       "SMe9Vc9rE0EUfukaE5PNtvTWQzGVHgQVcvAmkqCFHCtILuIvPGwRheYgrSJqCJRKkOql0Fv3EsWL\n",
       "7H/QvQgVL17agyguohKoiBQsHkR8MzubeTO7sxUPPvh2h/3mm2923psZgP8dYSY74ksoYVfNIjPH\n",
       "mDes8drU4ySBjNOI86n9C3xi6ZxQPWftFZPhCoGMx4hian/rHBg5oVpg87pq8Cv7EmRhPmAebC8t\n",
       "LZEh5RKqIr7yTwyGuVBCxp0rbQBnTF0Haki5hMp+trh4z7SiRwlk+BusKq7LD9OaIeWSqj3XfWsy\n",
       "vEAgKzdcD/DVl19KvmbYT6n3oeoswBz/tJzs9YhgGB+hzgzWWDv/nscPzTDiHvJo6KppcDo8qbsi\n",
       "ub3eUiD04xLR0KwaqvCADTtF5nCoqxpOJecuVRUo8/E//8LHTusi+N7OEdFrl4CPh9O1ZmZmWVXX\n",
       "6XCDccWwntwvUlUOKrwGX2xh+9r9b2hY+pphOIJF29EGtXrhPoZE5XT4MWL5LsBLXk7escui2wRB\n",
       "bIhbqDIWL5vI4XaYsqSCi/Y4Vc2dYV8OwCUAnky/NRnn8CaBMCygtPgd25skhQ2taDYTRx5VrfLj\n",
       "9BVsgOVFf5g/Jfr1CXjUYIDPg7/V0r8N+20LRZVj5epsteZDa9t1b7AclkS/EwRRLBxeBnv+J47b\n",
       "lcNF24qv4SRfw67mp6psloB8G+o1pxH94dAw15bQgh5ftQzOxBwHGA2gKZb0bnzgehJalHzzhWjm\n",
       "hsynPSjMvoMvVb7x3SD7eoqzYorB3zNPMYc0bhGo0cwwbP4DQ27wGOpNWTOLzBwyfwCulsldcIJz\n",
       "nAAAAABJRU5ErkJggg==\n",
       "\" style=\"display:inline;vertical-align:middle;\" /></a></span></td></tr>\n",
       "<tr><td>&nbsp;</td><td colspan=4 style-\"text-align:left\"><a class=\"ProveItLink\" href=\"../_axioms_.ipynb#impliesFalseDef\">proveit.logic.boolean.implication.impliesFalseDef</a></td></tr><tr><td>6</td><td>assumption</td><td></td><td><span style=\"font-size:20px;\"><a class=\"ProveItLink\" href=\"../__pv_it/3612ec1dc3b8c98c2193921a926214e0c20eaba70/expr.ipynb\"><img src=\"data:image/png;base64,iVBORw0KGgoAAAANSUhEUgAAAEkAAAAVBAMAAAD4Ed5jAAAAMFBMVEX///9ERETc3NyqqqpUVFS6\n",
       "urrMzMwyMjIQEBCIiIh2dnYiIiLu7u5mZmaYmJgAAABJJ2g3AAAAAXRSTlMAQObYZgAAAS5JREFU\n",
       "KM9jYGDgu8eAB7CtUgBRPLsY8AK2ZhDJ+QHK24Aqu/xjfcVGAyDjOojH1QARZf+AZohAJE/NKiC9\n",
       "AlnV6z8YqhimsqOpYrL9BJHkmb57dwFUlR3LAVRVnJxfIarS3yCZpYhmVgzzP4iZMggb2fbJwFTx\n",
       "go3nCWD7CZZjVICrit7/YwKQfg/iZASASFYGpr9guYPIrp9pCPL8BQaGlDawUIqLy0cwI2L3boTr\n",
       "GVkXABniD4DCCSAhoIHtEOXIZjEyCDAwcINUsoA0MgPxDrDcaQxVYHdxgWJGGYjrwXIsD5BVgWyE\n",
       "hwQPyDz5A2DPbkVS9XYiUngxSXxXYHj4vxYsqX4NHtvSLQbo8QgHJtUQP8IAdlXoAKyKj5AqcPri\n",
       "2UkgrbaCKb7FBNM9AKQsUzxrU6Y9AAAAAElFTkSuQmCC\n",
       "\" style=\"display:inline;vertical-align:middle;\" /></a> <a class=\"ProveItLink\" href=\"../__pv_it/dc2523262ffa0ce1920b871c7f702fb73e741c290/proof.ipynb\" style=\"text-decoration: none\">&#x22A2;&nbsp;</a><a class=\"ProveItLink\" href=\"../__pv_it/18d84e6b10643c76412edd0e67904c254c981c030/expr.ipynb\"><img src=\"data:image/png;base64,iVBORw0KGgoAAAANSUhEUgAAADYAAAAPBAMAAABdHiGLAAAAMFBMVEX///92dnYQEBBERERUVFS6\n",
       "urqIiIhmZmaqqqrc3Nzu7u6YmJgyMjIiIiLMzMwAAACFkkdwAAAAAXRSTlMAQObYZgAAANJJREFU\n",
       "GNNjYACBtwwogPG8zR9dCyjnPKocAzNrwpqFAmAm9/0FGHJsAQfAzBn1EyBiy87evQOV49jgBRZK\n",
       "yA8A03ynFyD0RRqAWKwL+jeAhSYvQJj5djOYs5ThfQJYyBJh393/amBWAMP8AhDNZYDslgwQj8/F\n",
       "xR9itu7du3C3MBgEgoQYGJjA7uVzQNLHYMAMZDQwMPAqgM28gC7HCZTj+QAW8kaRA5q5BsT+BRZa\n",
       "G4CQ4y4zYJisf5KB2/4P2KGcxx/AwvrzJQ+0MObwgbgTAgCMvTlc/0QYTQAAAABJRU5ErkJggg==\n",
       "\" style=\"display:inline;vertical-align:middle;\" /></a></span></td></tr>\n",
       "</table>"
      ],
      "text/plain": [
       "\tstep type\trequirements\tstatement\n",
       "0\tgeneralizaton\t1\t|- forall_{A in BOOLEANS | [not](A) => FALSE} A\n",
       "1\tspecialization\t2, 3, 4\t{A in BOOLEANS , [not](A) => FALSE} |- A\n",
       "\tP : [not](A) => FALSE, Q : A\n",
       "2\ttheorem\t\t|- forall_{P, Q | P , P = Q} Q\n",
       "\tproveit.logic.equality.rhsViaEquivalence\n",
       "3\tassumption\t\t{[not](A) => FALSE} |- [not](A) => FALSE\n",
       "4\tspecialization\t5, 6\t{A in BOOLEANS} |- ([not](A) => FALSE) = A\n",
       "\tA : A\n",
       "5\taxiom\t\t|- forall_{A in BOOLEANS} (([not](A) => FALSE) = A)\n",
       "\tproveit.logic.boolean.implication.impliesFalseDef\n",
       "6\tassumption\t\t{A in BOOLEANS} |- A in BOOLEANS"
      ]
     },
     "execution_count": 7,
     "metadata": {},
     "output_type": "execute_result"
    }
   ],
   "source": [
    "%qed"
   ]
  },
  {
   "cell_type": "code",
   "execution_count": null,
   "metadata": {},
   "outputs": [],
   "source": []
  }
 ],
 "metadata": {
  "kernelspec": {
   "display_name": "Python 3",
   "language": "python",
   "name": "python3"
  }
 },
 "nbformat": 4,
 "nbformat_minor": 0
}
