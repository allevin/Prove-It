{
 "cells": [
  {
   "cell_type": "markdown",
   "metadata": {
    "collapsed": true
   },
   "source": [
    "Proof of <a class=\"ProveItLink\" href=\"../../../../_context_.ipynb\">proveit</a>.<a class=\"ProveItLink\" href=\"../../../_context_.ipynb\">logic</a>.<a class=\"ProveItLink\" href=\"../../_context_.ipynb\">boolean</a>.<a class=\"ProveItLink\" href=\"../_context_.ipynb\">implication</a>.<a href=\"../_theorems_.ipynb#iffFT\" class=\"ProveItLink\">iffFT</a> theorem\n",
    "========"
   ]
  },
  {
   "cell_type": "code",
   "execution_count": 1,
   "metadata": {},
   "outputs": [],
   "source": [
    "import proveit\n",
    "from proveit._common_ import A, B\n",
    "from proveit.logic import TRUE, FALSE\n",
    "from proveit.logic.boolean.implication._axioms_ import iffDef\n",
    "from proveit.logic.equality._theorems_ import subRightSideInto, substituteInTrue, substituteInFalse\n",
    "substituteInTrue.proof().disable(); substituteInFalse.proof().disable() # disable these to avoid longer proof\n",
    "context = proveit.Context('..') # the theorem's context is in the parent directory"
   ]
  },
  {
   "cell_type": "code",
   "execution_count": 2,
   "metadata": {
    "scrolled": true
   },
   "outputs": [
    {
     "name": "stdout",
     "output_type": "stream",
     "text": [
      "Beginning proof of iffFT\n",
      "Recorded 'presuming' information\n"
     ]
    },
    {
     "name": "stdout",
     "output_type": "stream",
     "text": [
      "Presuming proveit.logic.equality.subRightSideInto theorem (applied transitively).\n",
      "Presuming previous theorems (applied transitively).\n"
     ]
    },
    {
     "data": {
      "text/html": [
       "<strong id=\"iffFT\">iffFT:</strong> <a class=\"ProveItLink\" href=\"../__pv_it/7aebe96ec9201e8046df06abe9cb9428728f8bec0/expr.ipynb\"><img src=\"../__pv_it/7aebe96ec9201e8046df06abe9cb9428728f8bec0/expr.png\" style=\"display:inline;vertical-align:middle;\" /></a><br>(see <a class=\"ProveItLink\" href=\"../__pv_it/7aebe96ec9201e8046df06abe9cb9428728f8bec0/dependencies.ipynb\">dependencies</a>)<br>"
      ],
      "text/plain": [
       "iffFT: (FALSE <=> TRUE) = FALSE"
      ]
     },
     "execution_count": 2,
     "metadata": {},
     "output_type": "execute_result"
    }
   ],
   "source": [
    "%proving iffFT presuming [subRightSideInto]"
   ]
  },
  {
   "cell_type": "code",
   "execution_count": 3,
   "metadata": {},
   "outputs": [
    {
     "data": {
      "text/html": [
       "<span style=\"font-size:20px;\"> &#x22A2;&nbsp;<a class=\"ProveItLink\" href=\"../__pv_it/476a3cb31a7510a178fe368231979ba1c7d34d620/expr.ipynb\"><img src=\"../__pv_it/476a3cb31a7510a178fe368231979ba1c7d34d620/expr.png\" style=\"display:inline;vertical-align:middle;\" /></a></span>"
      ],
      "text/plain": [
       "|= forall_{A, B} ((A <=> B) = ((A => B) and (B => A)))"
      ]
     },
     "execution_count": 3,
     "metadata": {},
     "output_type": "execute_result"
    }
   ],
   "source": [
    "iffDef"
   ]
  },
  {
   "cell_type": "code",
   "execution_count": 4,
   "metadata": {},
   "outputs": [
    {
     "data": {
      "text/html": [
       "<strong id=\"iffDefFT\">iffDefFT:</strong> <span style=\"font-size:20px;\"> &#x22A2;&nbsp;<a class=\"ProveItLink\" href=\"../__pv_it/3493330536800fd57d19731a0262bac0e9cb38a70/expr.ipynb\"><img src=\"../__pv_it/3493330536800fd57d19731a0262bac0e9cb38a70/expr.png\" style=\"display:inline;vertical-align:middle;\" /></a></span><br>"
      ],
      "text/plain": [
       "iffDefFT: |= (FALSE <=> TRUE) = ((FALSE => TRUE) and (TRUE => FALSE))"
      ]
     },
     "execution_count": 4,
     "metadata": {},
     "output_type": "execute_result"
    }
   ],
   "source": [
    "iffDefFT = iffDef.specialize({A:FALSE, B:TRUE})"
   ]
  },
  {
   "cell_type": "code",
   "execution_count": 5,
   "metadata": {},
   "outputs": [
    {
     "name": "stdout",
     "output_type": "stream",
     "text": [
      "iffFT has been proven.  Now simply execute \"%qed\".\n"
     ]
    },
    {
     "data": {
      "text/html": [
       "<span style=\"font-size:20px;\"> &#x22A2;&nbsp;<a class=\"ProveItLink\" href=\"../__pv_it/7aebe96ec9201e8046df06abe9cb9428728f8bec0/expr.ipynb\"><img src=\"../__pv_it/7aebe96ec9201e8046df06abe9cb9428728f8bec0/expr.png\" style=\"display:inline;vertical-align:middle;\" /></a></span>"
      ],
      "text/plain": [
       "|= (FALSE <=> TRUE) = FALSE"
      ]
     },
     "execution_count": 5,
     "metadata": {},
     "output_type": "execute_result"
    }
   ],
   "source": [
    "iffDefFT.innerExpr().rhs.evaluate()"
   ]
  },
  {
   "cell_type": "code",
   "execution_count": 6,
   "metadata": {},
   "outputs": [
    {
     "data": {
      "text/html": [
       "<table><tr><th>&nbsp;</th><th>step type</th><th>requirements</th><th>statement</th></tr>\n",
       "<tr><td>0</td><td>specialization</td><td>5, 1, 2</td><td><span style=\"font-size:20px;\"> &#x22A2;&nbsp;<a class=\"ProveItLink\" href=\"../__pv_it/7aebe96ec9201e8046df06abe9cb9428728f8bec0/expr.ipynb\"><img src=\"../__pv_it/7aebe96ec9201e8046df06abe9cb9428728f8bec0/expr.png\" style=\"display:inline;vertical-align:middle;\" /></a></span></td></tr>\n",
       "<tr><td>&nbsp;</td><td colspan=4 style=\"text-align:left\"><span style=\"font-size:20px;\"><a class=\"ProveItLink\" href=\"../__pv_it/fd4b0a418766985890fb332a124e981d1643d8330/expr.ipynb\"><img src=\"../__pv_it/fd4b0a418766985890fb332a124e981d1643d8330/expr.png\" style=\"display:inline;vertical-align:middle;\" /></a> : <a class=\"ProveItLink\" href=\"../__pv_it/10aa4a48c7fe4c90881ecff9b8416bb76f5e73470/expr.ipynb\"><img src=\"../__pv_it/10aa4a48c7fe4c90881ecff9b8416bb76f5e73470/expr.png\" style=\"display:inline;vertical-align:middle;\" /></a>, <a class=\"ProveItLink\" href=\"../../../../__pv_it/530be409e3083890784cf1d7b28c9e67e90af9360/expr.ipynb\"><img src=\"../../../../__pv_it/530be409e3083890784cf1d7b28c9e67e90af9360/expr.png\" style=\"display:inline;vertical-align:middle;\" /></a> : <a class=\"ProveItLink\" href=\"../__pv_it/bc97f30f76d2ded567eb2fbd849640053e2b77300/expr.ipynb\"><img src=\"../__pv_it/bc97f30f76d2ded567eb2fbd849640053e2b77300/expr.png\" style=\"display:inline;vertical-align:middle;\" /></a>, <a class=\"ProveItLink\" href=\"../../../../__pv_it/f8b9edf8e16034727f0aad55bb83e392c3db40d40/expr.ipynb\"><img src=\"../../../../__pv_it/f8b9edf8e16034727f0aad55bb83e392c3db40d40/expr.png\" style=\"display:inline;vertical-align:middle;\" /></a> : <a class=\"ProveItLink\" href=\"../../__pv_it/8f1f7fac882de28c72b62ab80a1700b6d8fd066b0/expr.ipynb\"><img src=\"../../__pv_it/8f1f7fac882de28c72b62ab80a1700b6d8fd066b0/expr.png\" style=\"display:inline;vertical-align:middle;\" /></a></span></td></tr><tr><td>1</td><td>specialization</td><td>5, 3, 4</td><td><span style=\"font-size:20px;\"> &#x22A2;&nbsp;<a class=\"ProveItLink\" href=\"../__pv_it/38a5e15e2b7538dcf5036f2642e363cb48eb38d10/expr.ipynb\"><img src=\"../__pv_it/38a5e15e2b7538dcf5036f2642e363cb48eb38d10/expr.png\" style=\"display:inline;vertical-align:middle;\" /></a></span></td></tr>\n",
       "<tr><td>&nbsp;</td><td colspan=4 style=\"text-align:left\"><span style=\"font-size:20px;\"><a class=\"ProveItLink\" href=\"../__pv_it/fd4b0a418766985890fb332a124e981d1643d8330/expr.ipynb\"><img src=\"../__pv_it/fd4b0a418766985890fb332a124e981d1643d8330/expr.png\" style=\"display:inline;vertical-align:middle;\" /></a> : <a class=\"ProveItLink\" href=\"../__pv_it/02b26c991aa90f4f370d0a038d5ff922e08d6f730/expr.ipynb\"><img src=\"../__pv_it/02b26c991aa90f4f370d0a038d5ff922e08d6f730/expr.png\" style=\"display:inline;vertical-align:middle;\" /></a>, <a class=\"ProveItLink\" href=\"../../../../__pv_it/530be409e3083890784cf1d7b28c9e67e90af9360/expr.ipynb\"><img src=\"../../../../__pv_it/530be409e3083890784cf1d7b28c9e67e90af9360/expr.png\" style=\"display:inline;vertical-align:middle;\" /></a> : <a class=\"ProveItLink\" href=\"../__pv_it/cdc05f3853bd9c42b136c1fb5fa28911e8e3e42c0/expr.ipynb\"><img src=\"../__pv_it/cdc05f3853bd9c42b136c1fb5fa28911e8e3e42c0/expr.png\" style=\"display:inline;vertical-align:middle;\" /></a>, <a class=\"ProveItLink\" href=\"../../../../__pv_it/f8b9edf8e16034727f0aad55bb83e392c3db40d40/expr.ipynb\"><img src=\"../../../../__pv_it/f8b9edf8e16034727f0aad55bb83e392c3db40d40/expr.png\" style=\"display:inline;vertical-align:middle;\" /></a> : <a class=\"ProveItLink\" href=\"../../__pv_it/8f1f7fac882de28c72b62ab80a1700b6d8fd066b0/expr.ipynb\"><img src=\"../../__pv_it/8f1f7fac882de28c72b62ab80a1700b6d8fd066b0/expr.png\" style=\"display:inline;vertical-align:middle;\" /></a></span></td></tr><tr><td>2</td><td>axiom</td><td></td><td><span style=\"font-size:20px;\"> &#x22A2;&nbsp;<a class=\"ProveItLink\" href=\"../../conjunction/__pv_it/bf71336d19004bcf68c4f8a839cdcc9eb9f93c420/expr.ipynb\"><img src=\"../../conjunction/__pv_it/bf71336d19004bcf68c4f8a839cdcc9eb9f93c420/expr.png\" style=\"display:inline;vertical-align:middle;\" /></a></span></td></tr>\n",
       "<tr><td>&nbsp;</td><td colspan=4 style-\"text-align:left\"><a class=\"ProveItLink\" href=\"../../conjunction/_axioms_.ipynb#andTF\">proveit.logic.boolean.conjunction.andTF</a></td></tr><tr><td>3</td><td>specialization</td><td>5, 6, 7</td><td><span style=\"font-size:20px;\"> &#x22A2;&nbsp;<a class=\"ProveItLink\" href=\"../__pv_it/316e1b14e75d57c61207dcbe7a8870e749dcb6e40/expr.ipynb\"><img src=\"../__pv_it/316e1b14e75d57c61207dcbe7a8870e749dcb6e40/expr.png\" style=\"display:inline;vertical-align:middle;\" /></a></span></td></tr>\n",
       "<tr><td>&nbsp;</td><td colspan=4 style=\"text-align:left\"><span style=\"font-size:20px;\"><a class=\"ProveItLink\" href=\"../__pv_it/fd4b0a418766985890fb332a124e981d1643d8330/expr.ipynb\"><img src=\"../__pv_it/fd4b0a418766985890fb332a124e981d1643d8330/expr.png\" style=\"display:inline;vertical-align:middle;\" /></a> : <a class=\"ProveItLink\" href=\"../__pv_it/f0005195155ac345c033a10b10e32145b008c7b50/expr.ipynb\"><img src=\"../__pv_it/f0005195155ac345c033a10b10e32145b008c7b50/expr.png\" style=\"display:inline;vertical-align:middle;\" /></a>, <a class=\"ProveItLink\" href=\"../../../../__pv_it/530be409e3083890784cf1d7b28c9e67e90af9360/expr.ipynb\"><img src=\"../../../../__pv_it/530be409e3083890784cf1d7b28c9e67e90af9360/expr.png\" style=\"display:inline;vertical-align:middle;\" /></a> : <a class=\"ProveItLink\" href=\"../__pv_it/42d28cc4bf9b46bec192d8f16dc816ed1431464a0/expr.ipynb\"><img src=\"../__pv_it/42d28cc4bf9b46bec192d8f16dc816ed1431464a0/expr.png\" style=\"display:inline;vertical-align:middle;\" /></a>, <a class=\"ProveItLink\" href=\"../../../../__pv_it/f8b9edf8e16034727f0aad55bb83e392c3db40d40/expr.ipynb\"><img src=\"../../../../__pv_it/f8b9edf8e16034727f0aad55bb83e392c3db40d40/expr.png\" style=\"display:inline;vertical-align:middle;\" /></a> : <a class=\"ProveItLink\" href=\"../../__pv_it/68a87cc3370287d726c7086ace789e680e4461c30/expr.ipynb\"><img src=\"../../__pv_it/68a87cc3370287d726c7086ace789e680e4461c30/expr.png\" style=\"display:inline;vertical-align:middle;\" /></a></span></td></tr><tr><td>4</td><td>theorem</td><td></td><td><span style=\"font-size:20px;\"> &#x22A2;&nbsp;<a class=\"ProveItLink\" href=\"../__pv_it/8595b046f57eaa00d3f3f5979ea0b9041b5e95ad0/expr.ipynb\"><img src=\"../__pv_it/8595b046f57eaa00d3f3f5979ea0b9041b5e95ad0/expr.png\" style=\"display:inline;vertical-align:middle;\" /></a></span></td></tr>\n",
       "<tr><td>&nbsp;</td><td colspan=4 style-\"text-align:left\"><a class=\"ProveItLink\" href=\"impliesTF.ipynb\">proveit.logic.boolean.implication.impliesTF</a></td></tr><tr><td>5</td><td>theorem</td><td></td><td><span style=\"font-size:20px;\"> &#x22A2;&nbsp;<a class=\"ProveItLink\" href=\"../../../equality/__pv_it/d2795a85c0a66aceb345def59505c50a35921a020/expr.ipynb\"><img src=\"../../../equality/__pv_it/d2795a85c0a66aceb345def59505c50a35921a020/expr.png\" style=\"display:inline;vertical-align:middle;\" /></a></span></td></tr>\n",
       "<tr><td>&nbsp;</td><td colspan=4 style-\"text-align:left\"><a class=\"ProveItLink\" href=\"../../../equality/_proofs_/subRightSideInto.ipynb\">proveit.logic.equality.subRightSideInto</a></td></tr><tr><td>6</td><td>specialization</td><td>8</td><td><span style=\"font-size:20px;\"> &#x22A2;&nbsp;<a class=\"ProveItLink\" href=\"../__pv_it/3493330536800fd57d19731a0262bac0e9cb38a70/expr.ipynb\"><img src=\"../__pv_it/3493330536800fd57d19731a0262bac0e9cb38a70/expr.png\" style=\"display:inline;vertical-align:middle;\" /></a></span></td></tr>\n",
       "<tr><td>&nbsp;</td><td colspan=4 style=\"text-align:left\"><span style=\"font-size:20px;\"><a class=\"ProveItLink\" href=\"../../../../__pv_it/2cbe72a7ad6f655694dd697106680215e8489b600/expr.ipynb\"><img src=\"../../../../__pv_it/2cbe72a7ad6f655694dd697106680215e8489b600/expr.png\" style=\"display:inline;vertical-align:middle;\" /></a> : <a class=\"ProveItLink\" href=\"../../__pv_it/8f1f7fac882de28c72b62ab80a1700b6d8fd066b0/expr.ipynb\"><img src=\"../../__pv_it/8f1f7fac882de28c72b62ab80a1700b6d8fd066b0/expr.png\" style=\"display:inline;vertical-align:middle;\" /></a>, <a class=\"ProveItLink\" href=\"../../../../__pv_it/077b2ff79244fb4582cbe22c6e3356fa92a52f2f0/expr.ipynb\"><img src=\"../../../../__pv_it/077b2ff79244fb4582cbe22c6e3356fa92a52f2f0/expr.png\" style=\"display:inline;vertical-align:middle;\" /></a> : <a class=\"ProveItLink\" href=\"../../__pv_it/68a87cc3370287d726c7086ace789e680e4461c30/expr.ipynb\"><img src=\"../../__pv_it/68a87cc3370287d726c7086ace789e680e4461c30/expr.png\" style=\"display:inline;vertical-align:middle;\" /></a></span></td></tr><tr><td>7</td><td>theorem</td><td></td><td><span style=\"font-size:20px;\"> &#x22A2;&nbsp;<a class=\"ProveItLink\" href=\"../__pv_it/242a8e89c9da4ff530695ea7510d88a21e4a0bfd0/expr.ipynb\"><img src=\"../__pv_it/242a8e89c9da4ff530695ea7510d88a21e4a0bfd0/expr.png\" style=\"display:inline;vertical-align:middle;\" /></a></span></td></tr>\n",
       "<tr><td>&nbsp;</td><td colspan=4 style-\"text-align:left\"><a class=\"ProveItLink\" href=\"impliesFT.ipynb\">proveit.logic.boolean.implication.impliesFT</a></td></tr><tr><td>8</td><td>axiom</td><td></td><td><span style=\"font-size:20px;\"> &#x22A2;&nbsp;<a class=\"ProveItLink\" href=\"../__pv_it/476a3cb31a7510a178fe368231979ba1c7d34d620/expr.ipynb\"><img src=\"../__pv_it/476a3cb31a7510a178fe368231979ba1c7d34d620/expr.png\" style=\"display:inline;vertical-align:middle;\" /></a></span></td></tr>\n",
       "<tr><td>&nbsp;</td><td colspan=4 style-\"text-align:left\"><a class=\"ProveItLink\" href=\"../_axioms_.ipynb#iffDef\">proveit.logic.boolean.implication.iffDef</a></td></tr></table>"
      ],
      "text/plain": [
       "\tstep type\trequirements\tstatement\n",
       "0\tspecialization\t5, 1, 2\t|= (FALSE <=> TRUE) = FALSE\n",
       "\tP(_x_) : (FALSE <=> TRUE) = _x_, x : TRUE and FALSE, y : FALSE\n",
       "1\tspecialization\t5, 3, 4\t|= (FALSE <=> TRUE) = (TRUE and FALSE)\n",
       "\tP(_x_) : (FALSE <=> TRUE) = (TRUE and _x_), x : TRUE => FALSE, y : FALSE\n",
       "2\taxiom\t\t|= (TRUE and FALSE) = FALSE\n",
       "\tproveit.logic.boolean.conjunction.andTF\n",
       "3\tspecialization\t5, 6, 7\t|= (FALSE <=> TRUE) = (TRUE and (TRUE => FALSE))\n",
       "\tP(_x_) : (FALSE <=> TRUE) = (_x_ and (TRUE => FALSE)), x : FALSE => TRUE, y : TRUE\n",
       "4\ttheorem\t\t|= (TRUE => FALSE) = FALSE\n",
       "\tproveit.logic.boolean.implication.impliesTF\n",
       "5\ttheorem\t\t|= forall_{P, x, y | P(x) , x = y} P(y)\n",
       "\tproveit.logic.equality.subRightSideInto\n",
       "6\tspecialization\t8\t|= (FALSE <=> TRUE) = ((FALSE => TRUE) and (TRUE => FALSE))\n",
       "\tA : FALSE, B : TRUE\n",
       "7\ttheorem\t\t|= (FALSE => TRUE) = TRUE\n",
       "\tproveit.logic.boolean.implication.impliesFT\n",
       "8\taxiom\t\t|= forall_{A, B} ((A <=> B) = ((A => B) and (B => A)))\n",
       "\tproveit.logic.boolean.implication.iffDef"
      ]
     },
     "execution_count": 6,
     "metadata": {},
     "output_type": "execute_result"
    }
   ],
   "source": [
    "%qed"
   ]
  },
  {
   "cell_type": "code",
   "execution_count": null,
   "metadata": {},
   "outputs": [],
   "source": []
  }
 ],
 "metadata": {
  "kernelspec": {
   "display_name": "Python 3",
   "language": "python",
   "name": "python3"
  },
  "language_info": {
   "codemirror_mode": {
    "name": "ipython",
    "version": 3
   },
   "file_extension": ".py",
   "mimetype": "text/x-python",
   "name": "python",
   "nbconvert_exporter": "python",
   "pygments_lexer": "ipython3",
   "version": "3.7.0"
  }
 },
 "nbformat": 4,
 "nbformat_minor": 1
}
