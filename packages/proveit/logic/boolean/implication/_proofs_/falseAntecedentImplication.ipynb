{
 "cells": [
  {
   "cell_type": "markdown",
   "metadata": {},
   "source": [
    "Proof of <a class=\"ProveItLink\" href=\"../_theorems_.ipynb#falseAntecedentImplication\">falseAntecedentImplication</a> theorem\n",
    "========"
   ]
  },
  {
   "cell_type": "code",
   "execution_count": 1,
   "metadata": {},
   "outputs": [],
   "source": [
    "import proveit\n",
    "context = proveit.Context('..') # the theorem's context is in the parent directory\n",
    "from proveit.logic.boolean.implication._axioms_ import untrueAntecedentImplication\n",
    "from proveit.logic import Not\n",
    "from proveit._common_ import A, B"
   ]
  },
  {
   "cell_type": "code",
   "execution_count": 2,
   "metadata": {},
   "outputs": [
    {
     "name": "stdout",
     "output_type": "stream",
     "text": [
      "Beginning proof of falseAntecedentImplication\n",
      "Recorded 'presuming' information\n",
      "Presuming proveit.logic.boolean.negation.untrueFromNegation theorem (applied transitively).\n",
      "Presuming previous theorems (applied transitively).\n"
     ]
    },
    {
     "data": {
      "text/html": [
       "<strong id=\"falseAntecedentImplication\">falseAntecedentImplication:</strong> <a class=\"ProveItLink\" href=\"../__pv_it/8be317972ff0b2b1f99933ef964216bcfdb5f6b20/expr.ipynb\"><img src=\"data:image/png;base64,iVBORw0KGgoAAAANSUhEUgAAAK8AAAAXBAMAAACPJQJeAAAAMFBMVEX///8QEBC6urrMzMxUVFRm\n",
       "ZmZERETc3NwyMjKqqqp2dnaIiIiYmJgiIiLu7u4AAAAU9Wx4AAAAAXRSTlMAQObYZgAAAnVJREFU\n",
       "OMu1VT9oE2EU/6WX66XNH4OD4KIZHBwUTxCcJEGDFBzSJYtQrINXBzEZxOogPRwMiGgWXe2iVgQJ\n",
       "6NYhURz8M9jBOIhiKgpultK09Q/V996X613uUpqj+OC+78v73ff7vvfe712A/2Wt0DsGapu+8pye\n",
       "OV68CUN8SE1HemEv/ubzZzPQTeAh/74Zhrjz8q2e4A5AXwRs4CL9MsZD8MZVJhKfWz3yqf2mZwl4\n",
       "DcTIqVdDEEcUy+VT5UAQdOoKHfkLmKfpweTklTCZ2KumWj3j+vY4i8E0kNxFM1112bI+hCE+qaTR\n",
       "uttwfcOOULblYFyjkIZHgWPAhDgrMt5pF4+bsrWbr+Isbsj4BVkh0z+JtTtg9sTsGB84ZHMYKVuq\n",
       "saiKkkY8LVF18XZQsu0yZjA16oGHrqq5XkbqHd+KU4K4BPXtj0B6DgMrQeIOSiYnaPl8oUtK39V5\n",
       "p5mc6LQFKmQjKXV+3BQoWYM+FyTuoA4x5Slie2DtutIKKQ1vpxVxypZW0mqWQD9MvCwHiB2UbCcP\n",
       "VPRk2pPj94pX47gKVZUKTBxlXxRjgh2YfXoeAWIHJTvHHUV7YwueFOdcGRurXBIO57ZE/gp1wWaA\n",
       "Zy2X+L5lWbaLkt3jjDK+5hJf8sj4IHcLyw0R1k2qWSwJ3xnKRrX7xuMuSrafPgO7K0iUVl1ZKL1C\n",
       "Ly3lR0SOMe6eBG/Ry8iKfH9SNkw/8TrK9ygHm8b0O+bXV/uoaxpGBcYajCb8xII6ip7uoz0fOYuv\n",
       "yzAKH6moM+3iSNVHbCo08MXZ2FK2z5HwrAc32nVhc+KoP12H+yE2Nv9reuJ3NPoh3qpFt7b9Hycq\n",
       "oineXiTpAAAAAElFTkSuQmCC\n",
       "\" style=\"display:inline;vertical-align:middle;\" /></a><br>(see <a class=\"ProveItLink\" href=\"../__pv_it/8be317972ff0b2b1f99933ef964216bcfdb5f6b20/dependencies.ipynb\">dependencies</a>)<br>"
      ],
      "text/plain": [
       "falseAntecedentImplication: forall_{A, B | [not](A)} (A => B)"
      ]
     },
     "execution_count": 2,
     "metadata": {},
     "output_type": "execute_result"
    }
   ],
   "source": [
    "%proving falseAntecedentImplication presuming [proveit.logic.boolean.negation.untrueFromNegation ]"
   ]
  },
  {
   "cell_type": "code",
   "execution_count": 3,
   "metadata": {},
   "outputs": [
    {
     "data": {
      "text/html": [
       "<span style=\"font-size:20px;\"> <a class=\"ProveItLink\" href=\"../_axioms_.ipynb#untrueAntecedentImplication\" style=\"text-decoration: none\">&#x22A2;&nbsp;</a><a class=\"ProveItLink\" href=\"../__pv_it/9a87e251f9811ed55e93ae5165a88824b4e095e80/expr.ipynb\"><img src=\"data:image/png;base64,iVBORw0KGgoAAAANSUhEUgAAAL0AAAAXCAMAAABpjr6KAAAAOVBMVEX///8oKCgUFBQJCQkQEBC6\n",
       "urrMzMxUVFRmZmZERETc3NwyMjKqqqp2dnaIiIiYmJgiIiLu7u4AAACP9cC6AAAAAXRSTlMAQObY\n",
       "ZgAAAntJREFUWMPVV4m2nSAMtC3IEtb8/8eWRTSoqO27tS3nXPUqkSEzTHCa/usW/8KY3H39HZ7n\n",
       "Y9j+u5fAz6L7Fx4DFogiNQUZuZzTwZr2EN6ioR8I8HkkU+UkMcOH9NNqebJe/OnmOo59wPhU0TO6\n",
       "5ZzZ85ZkQpqX0DMKTBuJ+p6gZd5LV48ZeGRlCrq08NaShQ5QgsRPu4njPcXqOdQEqJxvVLkF+xJ6\n",
       "SQficTLoT/vZo4kUwUwaVOXFynQQc5kI4Q/ItVEopRRqJkMeaabkR329ZgnYyDcxl5kF0lAeZC+c\n",
       "czK0FxhoHEXCp++49IUuxwiBByvrAoqVycwny4c9p4z3edAHlGvigJ/JPoZFVJw1y3dbRqLsuJSl\n",
       "Lydra4++D9BiPM1CPyfGnxsOzS4Cneoqe7cMNxevzcjDtsRtDDQbwVVOx7nvA5R+jL5eMRhVNbDx\n",
       "KPtmOQ19Ug0pf7ObFBk2YhaCp8regeoDuJ2u0bPVmU1zkHPdBxV3sl8YFmiIclK6xJYQ0SeaY1op\n",
       "onvRDlQLEJDbj/RzV+iVX63+stgaMXB7jQtZvp4NgetN7kdkAXXpxhH6PsD56Sb3VjZRt16nxVbD\n",
       "wO1n1gpZexNbTStJWEr6PiWrfswAVB8Qu2en6Hmo+xKGRY1eIcKJ66id76YxyhYNNsdtluRXtFIX\n",
       "hW3uXmFzcqcHtQWopJnv3+BOORPTjzai93t7dkhMnVheH7qkRpes6s6F1HlA75Zj9P5DVX1fjGP1\n",
       "Xi0w1bOyxC2USgvmHFQXkJ/EB+g/tBWPcPM1MLg/rC7mWVa1+AR6cS3AWf8qeng4sP7AV5ybfy/1\n",
       "Q/T+rS+Er3H2zyD5CbkSG3s19W3vAAAAAElFTkSuQmCC\n",
       "\" style=\"display:inline;vertical-align:middle;\" /></a></span>"
      ],
      "text/plain": [
       "|- forall_{A, B | A != TRUE} (A => B)"
      ]
     },
     "execution_count": 3,
     "metadata": {},
     "output_type": "execute_result"
    }
   ],
   "source": [
    "untrueAntecedentImplication"
   ]
  },
  {
   "cell_type": "code",
   "execution_count": 4,
   "metadata": {},
   "outputs": [
    {
     "data": {
      "text/html": [
       "<strong id=\"A_implies_B\">A_implies_B:</strong> <span style=\"font-size:20px;\"><a class=\"ProveItLink\" href=\"../__pv_it/edd8455a49d47780786b5faa6e783100cb7d31cc0/expr.ipynb\"><img src=\"data:image/png;base64,iVBORw0KGgoAAAANSUhEUgAAADAAAAAVBAMAAADyTXAxAAAAMFBMVEX///9ERETc3NyqqqpUVFS6\n",
       "urrMzMwyMjIQEBCIiIh2dnYiIiLu7u5mZmaYmJgAAABJJ2g3AAAAAXRSTlMAQObYZgAAALxJREFU\n",
       "KM9jYGDgu8eABrIWgUieXQwYIMMASHB+QBFj2wAkeAuABFcDigT7B5gYmsTrP9glmGw/YZfg5PyK\n",
       "XSKG+R9MDOwCGOAJYPsJpPhALsgIYGC4vRsIQP5hZWD6C1JQy8CQ0gZTnQLCLi4fQWzGOgaGiAQk\n",
       "CaDudhAbpJulACHBDKR2wOzg2oCQUAZS9RjOZWPgAWmWP4DhDyaJ7woMD//XYg8rMMAvwYdFAhwa\n",
       "PDuxxGAAiORbjC3OAaHOM6CzgdAAAAAAAElFTkSuQmCC\n",
       "\" style=\"display:inline;vertical-align:middle;\" /></a> <a class=\"ProveItLink\" href=\"../__pv_it/ae6c35ecef9ef3dd2b67a2a2dfe3442e4656a2d50/proof.ipynb\" style=\"text-decoration: none\">&#x22A2;&nbsp;</a><a class=\"ProveItLink\" href=\"../__pv_it/48bda0a4ca92dc8bbf3ec9809bdb1d7b90d71c610/expr.ipynb\"><img src=\"data:image/png;base64,iVBORw0KGgoAAAANSUhEUgAAAEAAAAAPBAMAAACmSdRUAAAAMFBMVEX///92dnYQEBBERERUVFS6\n",
       "urqIiIhmZmaqqqrc3Nzu7u6YmJgyMjIiIiLMzMwAAACFkkdwAAAAAXRSTlMAQObYZgAAAOhJREFU\n",
       "GNNjYACBtwxYwJb/Li42ARD2eWwKGJQZGNi/glnc9xcghOFMvm9A/AXMnFE/AaHgFIzB9hOo9SOY\n",
       "mZAfgFAQAmMwKzAw8GqBWKwL+jcgFDAmQBn8Dgych8EWLmV4DxZkvwsG36EK3rul1UI0BjDML0By\n",
       "PMdRCJ0/gYHrCti1Li7+BsjeW6MKpoxAikBGsDIwMB1Akuc7CPEpyIf7BYBEA9CxCkhuuAyR5/sN\n",
       "JPyBkpxAzPMByQkOiGDg/AOyEeTlXwgFc5CC4REw1Cbrn2Tgtv+D8IYlhGK3/+LicxpbFD1A5QIA\n",
       "YgVCLvPPxacAAAAASUVORK5CYII=\n",
       "\" style=\"display:inline;vertical-align:middle;\" /></a></span><br>"
      ],
      "text/plain": [
       "A_implies_B: {[not](A)} |- A => B"
      ]
     },
     "execution_count": 4,
     "metadata": {},
     "output_type": "execute_result"
    }
   ],
   "source": [
    "A_implies_B = untrueAntecedentImplication.specialize(assumptions=[Not(A)])"
   ]
  },
  {
   "cell_type": "code",
   "execution_count": 5,
   "metadata": {},
   "outputs": [
    {
     "data": {
      "text/html": [
       "<table><tr><th>&nbsp;</th><th>step type</th><th>requirements</th><th>statement</th></tr>\n",
       "<tr><td>0</td><td>generalizaton</td><td>1</td><td><span style=\"font-size:20px;\"> <a class=\"ProveItLink\" href=\"../__pv_it/e7817ec50a854ef39297628c3123ded17d7c52200/proof.ipynb\" style=\"text-decoration: none\">&#x22A2;&nbsp;</a><a class=\"ProveItLink\" href=\"../__pv_it/8be317972ff0b2b1f99933ef964216bcfdb5f6b20/expr.ipynb\"><img src=\"data:image/png;base64,iVBORw0KGgoAAAANSUhEUgAAAK8AAAAXBAMAAACPJQJeAAAAMFBMVEX///8QEBC6urrMzMxUVFRm\n",
       "ZmZERETc3NwyMjKqqqp2dnaIiIiYmJgiIiLu7u4AAAAU9Wx4AAAAAXRSTlMAQObYZgAAAnVJREFU\n",
       "OMu1VT9oE2EU/6WX66XNH4OD4KIZHBwUTxCcJEGDFBzSJYtQrINXBzEZxOogPRwMiGgWXe2iVgQJ\n",
       "6NYhURz8M9jBOIhiKgpultK09Q/V996X613uUpqj+OC+78v73ff7vvfe712A/2Wt0DsGapu+8pye\n",
       "OV68CUN8SE1HemEv/ubzZzPQTeAh/74Zhrjz8q2e4A5AXwRs4CL9MsZD8MZVJhKfWz3yqf2mZwl4\n",
       "DcTIqVdDEEcUy+VT5UAQdOoKHfkLmKfpweTklTCZ2KumWj3j+vY4i8E0kNxFM1112bI+hCE+qaTR\n",
       "uttwfcOOULblYFyjkIZHgWPAhDgrMt5pF4+bsrWbr+Isbsj4BVkh0z+JtTtg9sTsGB84ZHMYKVuq\n",
       "saiKkkY8LVF18XZQsu0yZjA16oGHrqq5XkbqHd+KU4K4BPXtj0B6DgMrQeIOSiYnaPl8oUtK39V5\n",
       "p5mc6LQFKmQjKXV+3BQoWYM+FyTuoA4x5Slie2DtutIKKQ1vpxVxypZW0mqWQD9MvCwHiB2UbCcP\n",
       "VPRk2pPj94pX47gKVZUKTBxlXxRjgh2YfXoeAWIHJTvHHUV7YwueFOdcGRurXBIO57ZE/gp1wWaA\n",
       "Zy2X+L5lWbaLkt3jjDK+5hJf8sj4IHcLyw0R1k2qWSwJ3xnKRrX7xuMuSrafPgO7K0iUVl1ZKL1C\n",
       "Ly3lR0SOMe6eBG/Ry8iKfH9SNkw/8TrK9ygHm8b0O+bXV/uoaxpGBcYajCb8xII6ip7uoz0fOYuv\n",
       "yzAKH6moM+3iSNVHbCo08MXZ2FK2z5HwrAc32nVhc+KoP12H+yE2Nv9reuJ3NPoh3qpFt7b9Hycq\n",
       "oineXiTpAAAAAElFTkSuQmCC\n",
       "\" style=\"display:inline;vertical-align:middle;\" /></a></span></td></tr>\n",
       "<tr><td>1</td><td>specialization</td><td>2, 3</td><td><span style=\"font-size:20px;\"><a class=\"ProveItLink\" href=\"../__pv_it/edd8455a49d47780786b5faa6e783100cb7d31cc0/expr.ipynb\"><img src=\"data:image/png;base64,iVBORw0KGgoAAAANSUhEUgAAADAAAAAVBAMAAADyTXAxAAAAMFBMVEX///9ERETc3NyqqqpUVFS6\n",
       "urrMzMwyMjIQEBCIiIh2dnYiIiLu7u5mZmaYmJgAAABJJ2g3AAAAAXRSTlMAQObYZgAAALxJREFU\n",
       "KM9jYGDgu8eABrIWgUieXQwYIMMASHB+QBFj2wAkeAuABFcDigT7B5gYmsTrP9glmGw/YZfg5PyK\n",
       "XSKG+R9MDOwCGOAJYPsJpPhALsgIYGC4vRsIQP5hZWD6C1JQy8CQ0gZTnQLCLi4fQWzGOgaGiAQk\n",
       "CaDudhAbpJulACHBDKR2wOzg2oCQUAZS9RjOZWPgAWmWP4DhDyaJ7woMD//XYg8rMMAvwYdFAhwa\n",
       "PDuxxGAAiORbjC3OAaHOM6CzgdAAAAAAAElFTkSuQmCC\n",
       "\" style=\"display:inline;vertical-align:middle;\" /></a> <a class=\"ProveItLink\" href=\"../__pv_it/ae6c35ecef9ef3dd2b67a2a2dfe3442e4656a2d50/proof.ipynb\" style=\"text-decoration: none\">&#x22A2;&nbsp;</a><a class=\"ProveItLink\" href=\"../__pv_it/48bda0a4ca92dc8bbf3ec9809bdb1d7b90d71c610/expr.ipynb\"><img src=\"data:image/png;base64,iVBORw0KGgoAAAANSUhEUgAAAEAAAAAPBAMAAACmSdRUAAAAMFBMVEX///92dnYQEBBERERUVFS6\n",
       "urqIiIhmZmaqqqrc3Nzu7u6YmJgyMjIiIiLMzMwAAACFkkdwAAAAAXRSTlMAQObYZgAAAOhJREFU\n",
       "GNNjYACBtwxYwJb/Li42ARD2eWwKGJQZGNi/glnc9xcghOFMvm9A/AXMnFE/AaHgFIzB9hOo9SOY\n",
       "mZAfgFAQAmMwKzAw8GqBWKwL+jcgFDAmQBn8Dgych8EWLmV4DxZkvwsG36EK3rul1UI0BjDML0By\n",
       "PMdRCJ0/gYHrCti1Li7+BsjeW6MKpoxAikBGsDIwMB1Akuc7CPEpyIf7BYBEA9CxCkhuuAyR5/sN\n",
       "JPyBkpxAzPMByQkOiGDg/AOyEeTlXwgFc5CC4REw1Cbrn2Tgtv+D8IYlhGK3/+LicxpbFD1A5QIA\n",
       "YgVCLvPPxacAAAAASUVORK5CYII=\n",
       "\" style=\"display:inline;vertical-align:middle;\" /></a></span></td></tr>\n",
       "<tr><td>&nbsp;</td><td colspan=4 style=\"text-align:left\"><span style=\"font-size:20px;\"><a class=\"ProveItLink\" href=\"../../../../__pv_it/2cbe72a7ad6f655694dd697106680215e8489b600/expr.ipynb\"><img src=\"data:image/png;base64,iVBORw0KGgoAAAANSUhEUgAAAA8AAAAOBAMAAAACpFvcAAAALVBMVEX///8QEBBERERUVFS6urqI\n",
       "iIhmZmaqqqrc3Nzu7u6YmJgyMjIiIiLMzMwAAADtIaYWAAAAAXRSTlMAQObYZgAAAFtJREFUCNdj\n",
       "YACBOwxQsA9Kc52bAGG05zVAGAFxDmCaZULdAjBjCsO9ADDDgaEvAUTzGhvbKYCVMDAwbgAxChgY\n",
       "eASANAeQwf0AyJgNxEwvGRia5HYwcOm9TgAA6BoR3jrzwFcAAAAASUVORK5CYII=\n",
       "\" style=\"display:inline;vertical-align:middle;\" /></a> : <a class=\"ProveItLink\" href=\"../../../../__pv_it/2cbe72a7ad6f655694dd697106680215e8489b600/expr.ipynb\"><img src=\"data:image/png;base64,iVBORw0KGgoAAAANSUhEUgAAAA8AAAAOBAMAAAACpFvcAAAALVBMVEX///8QEBBERERUVFS6urqI\n",
       "iIhmZmaqqqrc3Nzu7u6YmJgyMjIiIiLMzMwAAADtIaYWAAAAAXRSTlMAQObYZgAAAFtJREFUCNdj\n",
       "YACBOwxQsA9Kc52bAGG05zVAGAFxDmCaZULdAjBjCsO9ADDDgaEvAUTzGhvbKYCVMDAwbgAxChgY\n",
       "eASANAeQwf0AyJgNxEwvGRia5HYwcOm9TgAA6BoR3jrzwFcAAAAASUVORK5CYII=\n",
       "\" style=\"display:inline;vertical-align:middle;\" /></a>, <a class=\"ProveItLink\" href=\"../../../../__pv_it/077b2ff79244fb4582cbe22c6e3356fa92a52f2f0/expr.ipynb\"><img src=\"data:image/png;base64,iVBORw0KGgoAAAANSUhEUgAAABAAAAAOBAMAAADUAYG5AAAAMFBMVEX///+qqqru7u4iIiJ2dnbc\n",
       "3NyIiIjMzMxmZmYQEBC6uroyMjJERERUVFSYmJgAAADLUcuvAAAAAXRSTlMAQObYZgAAAGpJREFU\n",
       "CNdjYGB4+//u3dMLGIBgDgMDxy8gzf4NiP8CGWxfGRj4vgAZPBMYGJgnARn8FxhY9ygAGfXX0pof\n",
       "gDTlBzAw2YIYJ0EckBBI53sHoBH/gIz7AhBjWH9DjancBLTl/N+7t/cxMAAA3u4f/5xagjYAAAAA\n",
       "SUVORK5CYII=\n",
       "\" style=\"display:inline;vertical-align:middle;\" /></a> : <a class=\"ProveItLink\" href=\"../../../../__pv_it/077b2ff79244fb4582cbe22c6e3356fa92a52f2f0/expr.ipynb\"><img src=\"data:image/png;base64,iVBORw0KGgoAAAANSUhEUgAAABAAAAAOBAMAAADUAYG5AAAAMFBMVEX///+qqqru7u4iIiJ2dnbc\n",
       "3NyIiIjMzMxmZmYQEBC6uroyMjJERERUVFSYmJgAAADLUcuvAAAAAXRSTlMAQObYZgAAAGpJREFU\n",
       "CNdjYGB4+//u3dMLGIBgDgMDxy8gzf4NiP8CGWxfGRj4vgAZPBMYGJgnARn8FxhY9ygAGfXX0pof\n",
       "gDTlBzAw2YIYJ0EckBBI53sHoBH/gIz7AhBjWH9DjancBLTl/N+7t/cxMAAA3u4f/5xagjYAAAAA\n",
       "SUVORK5CYII=\n",
       "\" style=\"display:inline;vertical-align:middle;\" /></a></span></td></tr><tr><td>2</td><td>axiom</td><td></td><td><span style=\"font-size:20px;\"> <a class=\"ProveItLink\" href=\"../_axioms_.ipynb#untrueAntecedentImplication\" style=\"text-decoration: none\">&#x22A2;&nbsp;</a><a class=\"ProveItLink\" href=\"../__pv_it/9a87e251f9811ed55e93ae5165a88824b4e095e80/expr.ipynb\"><img src=\"data:image/png;base64,iVBORw0KGgoAAAANSUhEUgAAAL0AAAAXCAMAAABpjr6KAAAAOVBMVEX///8oKCgUFBQJCQkQEBC6\n",
       "urrMzMxUVFRmZmZERETc3NwyMjKqqqp2dnaIiIiYmJgiIiLu7u4AAACP9cC6AAAAAXRSTlMAQObY\n",
       "ZgAAAntJREFUWMPVV4m2nSAMtC3IEtb8/8eWRTSoqO27tS3nXPUqkSEzTHCa/usW/8KY3H39HZ7n\n",
       "Y9j+u5fAz6L7Fx4DFogiNQUZuZzTwZr2EN6ioR8I8HkkU+UkMcOH9NNqebJe/OnmOo59wPhU0TO6\n",
       "5ZzZ85ZkQpqX0DMKTBuJ+p6gZd5LV48ZeGRlCrq08NaShQ5QgsRPu4njPcXqOdQEqJxvVLkF+xJ6\n",
       "SQficTLoT/vZo4kUwUwaVOXFynQQc5kI4Q/ItVEopRRqJkMeaabkR329ZgnYyDcxl5kF0lAeZC+c\n",
       "czK0FxhoHEXCp++49IUuxwiBByvrAoqVycwny4c9p4z3edAHlGvigJ/JPoZFVJw1y3dbRqLsuJSl\n",
       "Lydra4++D9BiPM1CPyfGnxsOzS4Cneoqe7cMNxevzcjDtsRtDDQbwVVOx7nvA5R+jL5eMRhVNbDx\n",
       "KPtmOQ19Ug0pf7ObFBk2YhaCp8regeoDuJ2u0bPVmU1zkHPdBxV3sl8YFmiIclK6xJYQ0SeaY1op\n",
       "onvRDlQLEJDbj/RzV+iVX63+stgaMXB7jQtZvp4NgetN7kdkAXXpxhH6PsD56Sb3VjZRt16nxVbD\n",
       "wO1n1gpZexNbTStJWEr6PiWrfswAVB8Qu2en6Hmo+xKGRY1eIcKJ66id76YxyhYNNsdtluRXtFIX\n",
       "hW3uXmFzcqcHtQWopJnv3+BOORPTjzai93t7dkhMnVheH7qkRpes6s6F1HlA75Zj9P5DVX1fjGP1\n",
       "Xi0w1bOyxC2USgvmHFQXkJ/EB+g/tBWPcPM1MLg/rC7mWVa1+AR6cS3AWf8qeng4sP7AV5ybfy/1\n",
       "Q/T+rS+Er3H2zyD5CbkSG3s19W3vAAAAAElFTkSuQmCC\n",
       "\" style=\"display:inline;vertical-align:middle;\" /></a></span></td></tr>\n",
       "<tr><td>&nbsp;</td><td colspan=4 style-\"text-align:left\"><a class=\"ProveItLink\" href=\"../_axioms_.ipynb#untrueAntecedentImplication\">proveit.logic.boolean.implication.untrueAntecedentImplication</a></td></tr><tr><td>3</td><td>specialization</td><td>4, 5</td><td><span style=\"font-size:20px;\"><a class=\"ProveItLink\" href=\"../__pv_it/edd8455a49d47780786b5faa6e783100cb7d31cc0/expr.ipynb\"><img src=\"data:image/png;base64,iVBORw0KGgoAAAANSUhEUgAAADAAAAAVBAMAAADyTXAxAAAAMFBMVEX///9ERETc3NyqqqpUVFS6\n",
       "urrMzMwyMjIQEBCIiIh2dnYiIiLu7u5mZmaYmJgAAABJJ2g3AAAAAXRSTlMAQObYZgAAALxJREFU\n",
       "KM9jYGDgu8eABrIWgUieXQwYIMMASHB+QBFj2wAkeAuABFcDigT7B5gYmsTrP9glmGw/YZfg5PyK\n",
       "XSKG+R9MDOwCGOAJYPsJpPhALsgIYGC4vRsIQP5hZWD6C1JQy8CQ0gZTnQLCLi4fQWzGOgaGiAQk\n",
       "CaDudhAbpJulACHBDKR2wOzg2oCQUAZS9RjOZWPgAWmWP4DhDyaJ7woMD//XYg8rMMAvwYdFAhwa\n",
       "PDuxxGAAiORbjC3OAaHOM6CzgdAAAAAAAElFTkSuQmCC\n",
       "\" style=\"display:inline;vertical-align:middle;\" /></a> <a class=\"ProveItLink\" href=\"../__pv_it/a9550b41530a55bc5f522606338223b37ce220f60/proof.ipynb\" style=\"text-decoration: none\">&#x22A2;&nbsp;</a><a class=\"ProveItLink\" href=\"../__pv_it/4c1210aaf37dbe930ad39524bc6db19b7e17039e0/expr.ipynb\"><img src=\"data:image/png;base64,iVBORw0KGgoAAAANSUhEUgAAADoAAAAUCAMAAADrw95cAAAAPFBMVEX///8LCwsYGBgNDQ0oKCh2\n",
       "dnYQEBBERERUVFS6urqIiIhmZmaqqqrc3Nzu7u6YmJgyMjIiIiLMzMwAAAAhTRy8AAAAAXRSTlMA\n",
       "QObYZgAAALNJREFUOMvFk8kOwyAMRN0lYTWb//9fWxJVIeDEUS6dAyA0j2ExAJImFC1QMjeLaRu7\n",
       "3Eg1pkQcqs0Q4fqZmCmchx6h6B3hldARtWCJsSkQURPAUxxsqoho+AYWsttdpkXvV231KVq3iuSu\n",
       "hHZo0VXUH8xoENH1fub+IRKKqF+7PO/r5vkY66ZD0fPlxIe2aPjtU+3LiT9pg6KaaVk+KqLk5FAo\n",
       "k/SRvIO7yuEu+ZdQMKLjA8BtCOWQWuqjAAAAAElFTkSuQmCC\n",
       "\" style=\"display:inline;vertical-align:middle;\" /></a></span></td></tr>\n",
       "<tr><td>&nbsp;</td><td colspan=4 style=\"text-align:left\"><span style=\"font-size:20px;\"><a class=\"ProveItLink\" href=\"../../../../__pv_it/2cbe72a7ad6f655694dd697106680215e8489b600/expr.ipynb\"><img src=\"data:image/png;base64,iVBORw0KGgoAAAANSUhEUgAAAA8AAAAOBAMAAAACpFvcAAAALVBMVEX///8QEBBERERUVFS6urqI\n",
       "iIhmZmaqqqrc3Nzu7u6YmJgyMjIiIiLMzMwAAADtIaYWAAAAAXRSTlMAQObYZgAAAFtJREFUCNdj\n",
       "YACBOwxQsA9Kc52bAGG05zVAGAFxDmCaZULdAjBjCsO9ADDDgaEvAUTzGhvbKYCVMDAwbgAxChgY\n",
       "eASANAeQwf0AyJgNxEwvGRia5HYwcOm9TgAA6BoR3jrzwFcAAAAASUVORK5CYII=\n",
       "\" style=\"display:inline;vertical-align:middle;\" /></a> : <a class=\"ProveItLink\" href=\"../../../../__pv_it/2cbe72a7ad6f655694dd697106680215e8489b600/expr.ipynb\"><img src=\"data:image/png;base64,iVBORw0KGgoAAAANSUhEUgAAAA8AAAAOBAMAAAACpFvcAAAALVBMVEX///8QEBBERERUVFS6urqI\n",
       "iIhmZmaqqqrc3Nzu7u6YmJgyMjIiIiLMzMwAAADtIaYWAAAAAXRSTlMAQObYZgAAAFtJREFUCNdj\n",
       "YACBOwxQsA9Kc52bAGG05zVAGAFxDmCaZULdAjBjCsO9ADDDgaEvAUTzGhvbKYCVMDAwbgAxChgY\n",
       "eASANAeQwf0AyJgNxEwvGRia5HYwcOm9TgAA6BoR3jrzwFcAAAAASUVORK5CYII=\n",
       "\" style=\"display:inline;vertical-align:middle;\" /></a></span></td></tr><tr><td>4</td><td>theorem</td><td></td><td><span style=\"font-size:20px;\"> <a class=\"ProveItLink\" href=\"../../negation/_proofs_/untrueFromNegation.ipynb\" style=\"text-decoration: none\">&#x22A2;&nbsp;</a><a class=\"ProveItLink\" href=\"../../negation/__pv_it/490c148b705a435cc350dcd45aef3fb19d06d7950/expr.ipynb\"><img src=\"data:image/png;base64,iVBORw0KGgoAAAANSUhEUgAAAJcAAAAXCAMAAAAx8S2TAAAAPFBMVEX///8LCwsYGBgNDQ0oKCgQ\n",
       "EBC6urrMzMxUVFRmZmZERETc3NwyMjKqqqp2dnaIiIiYmJgiIiLu7u4AAACwKje0AAAAAXRSTlMA\n",
       "QObYZgAAAdJJREFUSMfNlul2hCAMhenCDrK9/7tWYEaCRqSnTtv88OjMNX5cQoCQfxrx/pTMXWsW\n",
       "ffqXZ/ka2rO7B4uL7ilgGm3avQwgVP6BZ3D7/N/cZF2fxyRMI9hhNBK8k8nVcwjqHizX2e5DimO7\n",
       "EC6/gOFJew8XhRzayqRn7Oq4Ii1wukS4qeg7KxxxCWFApgZyEZU9SipHWO7hkjAPi8Qmf9AofsG1\n",
       "5AdRVArYbaD1bFjjh0kyACOu7/LU6k2aEp8f+SoGXDabzrIiAvt9Z/1oOfjjJFHWD0knOWNXz8Xo\n",
       "s4W5NswoO+sHXDtlCUDKRY60T8AEueLipblkptBW0RKDnOPaKfdc9Y6ay7k/4VrnEPRo7ohSU1x7\n",
       "ZcXY2s3jJtC+s7+/tc4+nse15kFDEfn9Ka69ssr91rrwho/b1XP56rEF6f2aziWca1E1DK5sSxwu\n",
       "JNU3fLy6sD6Rzd/W8loxUnapEL8UrqzfDXVTo6kY41VKRl7bRTjse+YxfX7LLnUpO37NdVQ+xqhH\n",
       "Dc/KmbMXPewitTrg8j/hQpRg0z2NMHNoWXYnrlibjRYp+BEXx5UT56U5u8zMhvft448WP7RL6Jdw\n",
       "EX1+8GUzBzhOXsP1OyH+5KtfxagUrnrqUXwAAAAASUVORK5CYII=\n",
       "\" style=\"display:inline;vertical-align:middle;\" /></a></span></td></tr>\n",
       "<tr><td>&nbsp;</td><td colspan=4 style-\"text-align:left\"><a class=\"ProveItLink\" href=\"../../negation/_proofs_/untrueFromNegation.ipynb\">proveit.logic.boolean.negation.untrueFromNegation</a></td></tr><tr><td>5</td><td>assumption</td><td></td><td><span style=\"font-size:20px;\"><a class=\"ProveItLink\" href=\"../__pv_it/edd8455a49d47780786b5faa6e783100cb7d31cc0/expr.ipynb\"><img src=\"data:image/png;base64,iVBORw0KGgoAAAANSUhEUgAAADAAAAAVBAMAAADyTXAxAAAAMFBMVEX///9ERETc3NyqqqpUVFS6\n",
       "urrMzMwyMjIQEBCIiIh2dnYiIiLu7u5mZmaYmJgAAABJJ2g3AAAAAXRSTlMAQObYZgAAALxJREFU\n",
       "KM9jYGDgu8eABrIWgUieXQwYIMMASHB+QBFj2wAkeAuABFcDigT7B5gYmsTrP9glmGw/YZfg5PyK\n",
       "XSKG+R9MDOwCGOAJYPsJpPhALsgIYGC4vRsIQP5hZWD6C1JQy8CQ0gZTnQLCLi4fQWzGOgaGiAQk\n",
       "CaDudhAbpJulACHBDKR2wOzg2oCQUAZS9RjOZWPgAWmWP4DhDyaJ7woMD//XYg8rMMAvwYdFAhwa\n",
       "PDuxxGAAiORbjC3OAaHOM6CzgdAAAAAAAElFTkSuQmCC\n",
       "\" style=\"display:inline;vertical-align:middle;\" /></a> <a class=\"ProveItLink\" href=\"../__pv_it/04d7501518712e5b9d432219fd2131665990c4a50/proof.ipynb\" style=\"text-decoration: none\">&#x22A2;&nbsp;</a><a class=\"ProveItLink\" href=\"../__pv_it/feaa1d0e6d92ad9ead8e5ffd1f92697e3912387a0/expr.ipynb\"><img src=\"data:image/png;base64,iVBORw0KGgoAAAANSUhEUgAAABwAAAAOBAMAAADOPWE3AAAAMFBMVEX///8QEBBERES6urqIiIiq\n",
       "qqrc3Nzu7u6YmJgyMjJUVFTMzMx2dnYiIiJmZmYAAADMbjvTAAAAAXRSTlMAQObYZgAAAGNJREFU\n",
       "CNdjYEAA7gsMyIDzAwq39zsyjy3uGzKXheUzMtec9QcSj92A+wsDw9u7QHAHyGVmYPsHldkFwqtW\n",
       "fULiGjAwSCK4rEDqIoKbCqTmw1zLwD4BSOkXwFyk+DOBoen/PABSrhtHsYt+gAAAAABJRU5ErkJg\n",
       "gg==\n",
       "\" style=\"display:inline;vertical-align:middle;\" /></a></span></td></tr>\n",
       "</table>"
      ],
      "text/plain": [
       "\tstep type\trequirements\tstatement\n",
       "0\tgeneralizaton\t1\t|- forall_{A, B | [not](A)} (A => B)\n",
       "1\tspecialization\t2, 3\t{[not](A)} |- A => B\n",
       "\tA : A, B : B\n",
       "2\taxiom\t\t|- forall_{A, B | A != TRUE} (A => B)\n",
       "\tproveit.logic.boolean.implication.untrueAntecedentImplication\n",
       "3\tspecialization\t4, 5\t{[not](A)} |- A != TRUE\n",
       "\tA : A\n",
       "4\ttheorem\t\t|- forall_{A | [not](A)} (A != TRUE)\n",
       "\tproveit.logic.boolean.negation.untrueFromNegation\n",
       "5\tassumption\t\t{[not](A)} |- [not](A)"
      ]
     },
     "execution_count": 5,
     "metadata": {},
     "output_type": "execute_result"
    }
   ],
   "source": [
    "%qed"
   ]
  },
  {
   "cell_type": "code",
   "execution_count": null,
   "metadata": {},
   "outputs": [],
   "source": []
  }
 ],
 "metadata": {
  "kernelspec": {
   "display_name": "Python 3",
   "language": "python",
   "name": "python3"
  }
 },
 "nbformat": 4,
 "nbformat_minor": 0
}
