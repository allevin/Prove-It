{
 "cells": [
  {
   "cell_type": "markdown",
   "metadata": {
    "collapsed": true
   },
   "source": [
    "Proof of <a class=\"ProveItLink\" href=\"../../../../_context_.ipynb\">proveit</a>.<a class=\"ProveItLink\" href=\"../../../_context_.ipynb\">logic</a>.<a class=\"ProveItLink\" href=\"../../_context_.ipynb\">boolean</a>.<a class=\"ProveItLink\" href=\"../_context_.ipynb\">implication</a>.<a href=\"../_theorems_.ipynb#implicationTransitivity\" class=\"ProveItLink\">implicationTransitivity</a> theorem\n",
    "========"
   ]
  },
  {
   "cell_type": "code",
   "execution_count": 1,
   "metadata": {},
   "outputs": [],
   "source": [
    "import proveit\n",
    "context = proveit.Context('..') # the theorem's context is in the parent directory"
   ]
  },
  {
   "cell_type": "code",
   "execution_count": 2,
   "metadata": {},
   "outputs": [
    {
     "name": "stdout",
     "output_type": "stream",
     "text": [
      "Beginning proof of implicationTransitivity\n"
     ]
    },
    {
     "name": "stdout",
     "output_type": "stream",
     "text": [
      "Recorded 'presuming' information\n",
      "Presuming previous theorems (applied transitively).\n"
     ]
    },
    {
     "data": {
      "text/html": [
       "<strong id=\"implicationTransitivity\">implicationTransitivity:</strong> <a class=\"ProveItLink\" href=\"../__pv_it/58354b12dbd32d4ac7add309e5c18982ccfedc6a0/expr.ipynb\"><img src=\"../__pv_it/58354b12dbd32d4ac7add309e5c18982ccfedc6a0/expr.png\" style=\"display:inline;vertical-align:middle;\" /></a><br>(see <a class=\"ProveItLink\" href=\"../__pv_it/58354b12dbd32d4ac7add309e5c18982ccfedc6a0/dependencies.ipynb\">dependencies</a>)<br>"
      ],
      "text/plain": [
       "implicationTransitivity: forall_{A, B, C | A => B , B => C} (A => C)"
      ]
     },
     "execution_count": 2,
     "metadata": {},
     "output_type": "execute_result"
    }
   ],
   "source": [
    "%proving implicationTransitivity presuming []"
   ]
  },
  {
   "cell_type": "code",
   "execution_count": 3,
   "metadata": {},
   "outputs": [
    {
     "data": {
      "text/html": [
       "<table><tr><th>&nbsp;</th><th>step type</th><th>requirements</th><th>statement</th></tr>\n",
       "<tr><td>0</td><td>generalizaton</td><td>1</td><td><span style=\"font-size:20px;\"> &#x22A2;&nbsp;<a class=\"ProveItLink\" href=\"../__pv_it/58354b12dbd32d4ac7add309e5c18982ccfedc6a0/expr.ipynb\"><img src=\"../__pv_it/58354b12dbd32d4ac7add309e5c18982ccfedc6a0/expr.png\" style=\"display:inline;vertical-align:middle;\" /></a></span></td></tr>\n",
       "<tr><td>1</td><td>hypothetical reasoning</td><td>2</td><td><span style=\"font-size:20px;\"><a class=\"ProveItLink\" href=\"../__pv_it/6b5620a3c9173fa16c8060504ca4709c62ee2b720/expr.ipynb\"><img src=\"../__pv_it/6b5620a3c9173fa16c8060504ca4709c62ee2b720/expr.png\" style=\"display:inline;vertical-align:middle;\" /></a> &#x22A2;&nbsp;<a class=\"ProveItLink\" href=\"../__pv_it/8affff1f8d6a799192f6c7ceb935a0058b7d63560/expr.ipynb\"><img src=\"../__pv_it/8affff1f8d6a799192f6c7ceb935a0058b7d63560/expr.png\" style=\"display:inline;vertical-align:middle;\" /></a></span></td></tr>\n",
       "<tr><td>2</td><td>modus ponens</td><td>3, 4</td><td><span style=\"font-size:20px;\"><a class=\"ProveItLink\" href=\"../__pv_it/db52fe70a78a6e4e5535b797275e3eeaa75475d30/expr.ipynb\"><img src=\"../__pv_it/db52fe70a78a6e4e5535b797275e3eeaa75475d30/expr.png\" style=\"display:inline;vertical-align:middle;\" /></a> &#x22A2;&nbsp;<a class=\"ProveItLink\" href=\"../../../../__pv_it/985a1bdf1540838275dec15f4ad6de261cca93ce0/expr.ipynb\"><img src=\"../../../../__pv_it/985a1bdf1540838275dec15f4ad6de261cca93ce0/expr.png\" style=\"display:inline;vertical-align:middle;\" /></a></span></td></tr>\n",
       "<tr><td>3</td><td>assumption</td><td></td><td><span style=\"font-size:20px;\"><a class=\"ProveItLink\" href=\"../__pv_it/a5f0901275ee16afb48eb93ea835a3086b1458f40/expr.ipynb\"><img src=\"../__pv_it/a5f0901275ee16afb48eb93ea835a3086b1458f40/expr.png\" style=\"display:inline;vertical-align:middle;\" /></a> &#x22A2;&nbsp;<a class=\"ProveItLink\" href=\"../__pv_it/8248a3ffba4d5240b8a0a829ef60767a62f894140/expr.ipynb\"><img src=\"../__pv_it/8248a3ffba4d5240b8a0a829ef60767a62f894140/expr.png\" style=\"display:inline;vertical-align:middle;\" /></a></span></td></tr>\n",
       "<tr><td>4</td><td>modus ponens</td><td>5, 6</td><td><span style=\"font-size:20px;\"><a class=\"ProveItLink\" href=\"../__pv_it/f6f16d66bd299aaf55019561ba39b316d12114950/expr.ipynb\"><img src=\"../__pv_it/f6f16d66bd299aaf55019561ba39b316d12114950/expr.png\" style=\"display:inline;vertical-align:middle;\" /></a> &#x22A2;&nbsp;<a class=\"ProveItLink\" href=\"../../../../__pv_it/077b2ff79244fb4582cbe22c6e3356fa92a52f2f0/expr.ipynb\"><img src=\"../../../../__pv_it/077b2ff79244fb4582cbe22c6e3356fa92a52f2f0/expr.png\" style=\"display:inline;vertical-align:middle;\" /></a></span></td></tr>\n",
       "<tr><td>5</td><td>assumption</td><td></td><td><span style=\"font-size:20px;\"><a class=\"ProveItLink\" href=\"../__pv_it/8d04ecf879774d31acd77f374aea66cf4d7877660/expr.ipynb\"><img src=\"../__pv_it/8d04ecf879774d31acd77f374aea66cf4d7877660/expr.png\" style=\"display:inline;vertical-align:middle;\" /></a> &#x22A2;&nbsp;<a class=\"ProveItLink\" href=\"../__pv_it/e73a70c11cb4dd0ed268f52ee1583e255f8135080/expr.ipynb\"><img src=\"../__pv_it/e73a70c11cb4dd0ed268f52ee1583e255f8135080/expr.png\" style=\"display:inline;vertical-align:middle;\" /></a></span></td></tr>\n",
       "<tr><td>6</td><td>assumption</td><td></td><td><span style=\"font-size:20px;\"><a class=\"ProveItLink\" href=\"../__pv_it/158bdc91074824c720728a23dba5d58593c8cc480/expr.ipynb\"><img src=\"../__pv_it/158bdc91074824c720728a23dba5d58593c8cc480/expr.png\" style=\"display:inline;vertical-align:middle;\" /></a> &#x22A2;&nbsp;<a class=\"ProveItLink\" href=\"../../../../__pv_it/2cbe72a7ad6f655694dd697106680215e8489b600/expr.ipynb\"><img src=\"../../../../__pv_it/2cbe72a7ad6f655694dd697106680215e8489b600/expr.png\" style=\"display:inline;vertical-align:middle;\" /></a></span></td></tr>\n",
       "</table>"
      ],
      "text/plain": [
       "\tstep type\trequirements\tstatement\n",
       "0\tgeneralizaton\t1\t|= forall_{A, B, C | A => B , B => C} (A => C)\n",
       "1\thypothetical reasoning\t2\t{A => B , B => C} |= A => C\n",
       "2\tmodus ponens\t3, 4\t{A => B , B => C , A} |= C\n",
       "3\tassumption\t\t{B => C} |= B => C\n",
       "4\tmodus ponens\t5, 6\t{A => B , A} |= B\n",
       "5\tassumption\t\t{A => B} |= A => B\n",
       "6\tassumption\t\t{A} |= A"
      ]
     },
     "execution_count": 3,
     "metadata": {},
     "output_type": "execute_result"
    }
   ],
   "source": [
    "%qed # done solely via automation"
   ]
  },
  {
   "cell_type": "code",
   "execution_count": null,
   "metadata": {},
   "outputs": [],
   "source": []
  }
 ],
 "metadata": {
  "kernelspec": {
   "display_name": "Python 3",
   "language": "python",
   "name": "python3"
  },
  "language_info": {
   "codemirror_mode": {
    "name": "ipython",
    "version": 3
   },
   "file_extension": ".py",
   "mimetype": "text/x-python",
   "name": "python",
   "nbconvert_exporter": "python",
   "pygments_lexer": "ipython3",
   "version": "3.7.0"
  }
 },
 "nbformat": 4,
 "nbformat_minor": 1
}
