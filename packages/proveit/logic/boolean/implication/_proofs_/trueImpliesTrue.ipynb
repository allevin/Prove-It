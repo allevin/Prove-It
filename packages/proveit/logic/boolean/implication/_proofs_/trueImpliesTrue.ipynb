{
 "cells": [
  {
   "cell_type": "markdown",
   "metadata": {},
   "source": [
    "Proof of <a class=\"ProveItLink\" href=\"../../../../_context_.ipynb\">proveit</a>.<a class=\"ProveItLink\" href=\"../../../_context_.ipynb\">logic</a>.<a class=\"ProveItLink\" href=\"../../_context_.ipynb\">boolean</a>.<a class=\"ProveItLink\" href=\"../_context_.ipynb\">implication</a>.<a href=\"../_theorems_.ipynb#trueImpliesTrue\" class=\"ProveItLink\">trueImpliesTrue</a> theorem\n",
    "========"
   ]
  },
  {
   "cell_type": "code",
   "execution_count": 1,
   "metadata": {},
   "outputs": [],
   "source": [
    "import proveit\n",
    "context = proveit.Context('..') # the theorem's context is in the parent directory"
   ]
  },
  {
   "cell_type": "code",
   "execution_count": 2,
   "metadata": {},
   "outputs": [
    {
     "name": "stdout",
     "output_type": "stream",
     "text": [
      "Beginning proof of trueImpliesTrue\n",
      "Recorded 'presuming' information\n",
      "Presuming previous theorem (applied transitively).\n"
     ]
    },
    {
     "data": {
      "text/html": [
       "<strong id=\"trueImpliesTrue\">trueImpliesTrue:</strong> <a class=\"ProveItLink\" href=\"../__pv_it/c627666afcca6105555798c9bfcdd2c352e208580/expr.ipynb\"><img src=\"data:image/png;base64,iVBORw0KGgoAAAANSUhEUgAAAD8AAAAPBAMAAAChCwpBAAAALVBMVEX////c3NwQEBCqqqqIiIhU\n",
       "VFS6uroyMjLu7u52dnbMzMxEREQiIiJmZmYAAACG8MiSAAAAAXRSTlMAQObYZgAAAGBJREFUGNNj\n",
       "uHMGBE4zoANesPiZDSD2WgbsgOsClIGigIOQAvYGAgrYAggoYJiCWwHEQ+cuEDCBwTyBgAKOogT8\n",
       "CpbPwO+GMzsIuMGUgDcZCzAVrERWwC2AUDABawyh8QEfPjCGic2tqAAAAABJRU5ErkJggg==\n",
       "\" style=\"display:inline;vertical-align:middle;\" /></a><br>(see <a class=\"ProveItLink\" href=\"../__pv_it/c627666afcca6105555798c9bfcdd2c352e208580/dependencies.ipynb\">dependencies</a>)<br>"
      ],
      "text/plain": [
       "trueImpliesTrue: TRUE => TRUE"
      ]
     },
     "execution_count": 2,
     "metadata": {},
     "output_type": "execute_result"
    }
   ],
   "source": [
    "%proving trueImpliesTrue presuming []"
   ]
  },
  {
   "cell_type": "code",
   "execution_count": 3,
   "metadata": {},
   "outputs": [
    {
     "data": {
      "text/html": [
       "<table><tr><th>&nbsp;</th><th>step type</th><th>requirements</th><th>statement</th></tr>\n",
       "<tr><td>0</td><td>specialization</td><td>1</td><td><span style=\"font-size:20px;\"> <a class=\"ProveItLink\" href=\"../__pv_it/58cb0fe326219316622a64c2cd7a4c072d3b74620/proof.ipynb\" style=\"text-decoration: none\">&#x22A2;&nbsp;</a><a class=\"ProveItLink\" href=\"../__pv_it/c627666afcca6105555798c9bfcdd2c352e208580/expr.ipynb\"><img src=\"data:image/png;base64,iVBORw0KGgoAAAANSUhEUgAAAD8AAAAPBAMAAAChCwpBAAAALVBMVEX////c3NwQEBCqqqqIiIhU\n",
       "VFS6uroyMjLu7u52dnbMzMxEREQiIiJmZmYAAACG8MiSAAAAAXRSTlMAQObYZgAAAGBJREFUGNNj\n",
       "uHMGBE4zoANesPiZDSD2WgbsgOsClIGigIOQAvYGAgrYAggoYJiCWwHEQ+cuEDCBwTyBgAKOogT8\n",
       "CpbPwO+GMzsIuMGUgDcZCzAVrERWwC2AUDABawyh8QEfPjCGic2tqAAAAABJRU5ErkJggg==\n",
       "\" style=\"display:inline;vertical-align:middle;\" /></a></span></td></tr>\n",
       "<tr><td>&nbsp;</td><td colspan=4 style=\"text-align:left\"><span style=\"font-size:20px;\"><a class=\"ProveItLink\" href=\"../../../../__pv_it/2cbe72a7ad6f655694dd697106680215e8489b600/expr.ipynb\"><img src=\"data:image/png;base64,iVBORw0KGgoAAAANSUhEUgAAAA8AAAAOBAMAAAACpFvcAAAALVBMVEX///8QEBBERERUVFS6urqI\n",
       "iIhmZmaqqqrc3Nzu7u6YmJgyMjIiIiLMzMwAAADtIaYWAAAAAXRSTlMAQObYZgAAAFtJREFUCNdj\n",
       "YACBOwxQsA9Kc52bAGG05zVAGAFxDmCaZULdAjBjCsO9ADDDgaEvAUTzGhvbKYCVMDAwbgAxChgY\n",
       "eASANAeQwf0AyJgNxEwvGRia5HYwcOm9TgAA6BoR3jrzwFcAAAAASUVORK5CYII=\n",
       "\" style=\"display:inline;vertical-align:middle;\" /></a> : <a class=\"ProveItLink\" href=\"../../__pv_it/68a87cc3370287d726c7086ace789e680e4461c30/expr.ipynb\"><img src=\"data:image/png;base64,iVBORw0KGgoAAAANSUhEUgAAAA4AAAAOBAMAAADtZjDiAAAAFVBMVEX///92dnbMzMxEREQiIiJm\n",
       "ZmYAAABAT6GXAAAAAXRSTlMAQObYZgAAABhJREFUCNdjCHEBAWcGIFBlgABa0YpADAAxegPJJk4d\n",
       "XAAAAABJRU5ErkJggg==\n",
       "\" style=\"display:inline;vertical-align:middle;\" /></a></span></td></tr><tr><td>1</td><td>theorem</td><td></td><td><span style=\"font-size:20px;\"> <a class=\"ProveItLink\" href=\"selfImplication.ipynb\" style=\"text-decoration: none\">&#x22A2;&nbsp;</a><a class=\"ProveItLink\" href=\"../__pv_it/aac365a38720df74baa1ca17dd3888372c636c690/expr.ipynb\"><img src=\"data:image/png;base64,iVBORw0KGgoAAAANSUhEUgAAAHIAAAAVBAMAAABoAqesAAAAMFBMVEX///8QEBC6urrMzMxUVFRm\n",
       "ZmZERETc3NwyMjKqqqp2dnaIiIiYmJgiIiLu7u4AAAAU9Wx4AAAAAXRSTlMAQObYZgAAAatJREFU\n",
       "OMtjYCAbPMAixrSBkC4eBQaGCyDGaVRxEwhli0MbSDyYgWEliN2HKgXl9uPQCRLnYGAoA1LsCSgy\n",
       "3BDH8txH+IQP2aUgcZ4FDBxAinUCik5GiI7K+AK4EAdScIDF+QQYeJaXl9eiukYDQm3Yr4AIMweE\n",
       "NEQ8k4HhW1raLVSdURDFD+YfQIitRhgCEV/KwODMwJAOFmqHyfWAyUcM9mD/xt4FgfsBMFmo+AwG\n",
       "BhUGvgawxz/B5ITApAJDfQCSQ2bAnA4VV2Rg4GXgBrvq6R+YIrARzC4u/shBztcI0QoTtwfGwQFe\n",
       "cMCtu4qikwkYxg1IOi3WQb0JFQfq5GsAJxnmDWkwRZIgAhhRvAIIf97Ng0rCxIGuZUh3AomwMMTC\n",
       "dOaAEgdQBccHhJVToDRc/AQQTwUn3ZMM+2GqgAHO8AKI2f7BNbLDHA4XByliBAUy39XQfFg60QWm\n",
       "Sfl2Bp78H/DAZYMmJ4R4Eyg6QDpYCxjsDWCprwAjkTOjC/AJwFg6DAz8sCQDTM0EARcsCz/5xsDu\n",
       "fwctl+EDL7ALlxDW6Y5dmJ1gacJtwAAAib1spl/buwAAAAAASUVORK5CYII=\n",
       "\" style=\"display:inline;vertical-align:middle;\" /></a></span></td></tr>\n",
       "<tr><td>&nbsp;</td><td colspan=4 style-\"text-align:left\"><a class=\"ProveItLink\" href=\"selfImplication.ipynb\">proveit.logic.boolean.implication.selfImplication</a></td></tr></table>"
      ],
      "text/plain": [
       "\tstep type\trequirements\tstatement\n",
       "0\tspecialization\t1\t|- TRUE => TRUE\n",
       "\tA : TRUE\n",
       "1\ttheorem\t\t|- forall_{A} (A => A)\n",
       "\tproveit.logic.boolean.implication.selfImplication"
      ]
     },
     "execution_count": 3,
     "metadata": {},
     "output_type": "execute_result"
    }
   ],
   "source": [
    "%qed"
   ]
  },
  {
   "cell_type": "code",
   "execution_count": null,
   "metadata": {},
   "outputs": [],
   "source": []
  }
 ],
 "metadata": {
  "kernelspec": {
   "display_name": "Python 3",
   "language": "python",
   "name": "python3"
  }
 },
 "nbformat": 4,
 "nbformat_minor": 0
}
