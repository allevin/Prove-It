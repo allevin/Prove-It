{
 "cells": [
  {
   "cell_type": "markdown",
   "metadata": {
    "collapsed": true,
    "deletable": true,
    "editable": true
   },
   "source": [
    "Proof of <a class=\"ProveItLink\" href=\"../../../../_context_.ipynb\">proveit</a>.<a class=\"ProveItLink\" href=\"../../../_context_.ipynb\">logic</a>.<a class=\"ProveItLink\" href=\"../../_context_.ipynb\">boolean</a>.<a class=\"ProveItLink\" href=\"../_context_.ipynb\">implication</a>.<a href=\"../_theorems_.ipynb#iffTransitivity\" class=\"ProveItLink\">iffTransitivity</a> theorem\n",
    "========"
   ]
  },
  {
   "cell_type": "code",
   "execution_count": 1,
   "metadata": {
    "collapsed": true,
    "deletable": true,
    "editable": true
   },
   "outputs": [],
   "source": [
    "import proveit\n",
    "context = proveit.Context('..') # the theorem's context is in the parent directory"
   ]
  },
  {
   "cell_type": "code",
   "execution_count": 2,
   "metadata": {
    "collapsed": false,
    "deletable": true,
    "editable": true
   },
   "outputs": [
    {
     "name": "stdout",
     "output_type": "stream",
     "text": [
      "Beginning proof of iffTransitivity\n",
      "Recorded 'presuming' information\n",
      "Presuming previous theorems (applied transitively).\n"
     ]
    },
    {
     "data": {
      "text/html": [
       "<strong id=\"iffTransitivity\">iffTransitivity:</strong> <a class=\"ProveItLink\" href=\"../__pv_it/8a8a3ae684e91e120767f91b843eddd849c8550d0/expr.ipynb\"><img src=\"../__pv_it/8a8a3ae684e91e120767f91b843eddd849c8550d0/expr.png\" style=\"display:inline;vertical-align:middle;\" /></a><br>(see <a class=\"ProveItLink\" href=\"../__pv_it/8a8a3ae684e91e120767f91b843eddd849c8550d0/dependencies.ipynb\">dependencies</a>)<br>"
      ],
      "text/plain": [
       "iffTransitivity: forall_{A, B, C | A <=> B , B <=> C} (A <=> C)"
      ]
     },
     "execution_count": 2,
     "metadata": {},
     "output_type": "execute_result"
    }
   ],
   "source": [
    "%proving iffTransitivity presuming []"
   ]
  },
  {
   "cell_type": "code",
   "execution_count": 3,
   "metadata": {
    "collapsed": false,
    "deletable": true,
    "editable": true
   },
   "outputs": [
    {
     "data": {
      "text/html": [
       "<table><tr><th>&nbsp;</th><th>step type</th><th>requirements</th><th>statement</th></tr>\n",
       "<tr><td>0</td><td>generalizaton</td><td>1</td><td><span style=\"font-size:20px;\"> &#x22A2;&nbsp;<a class=\"ProveItLink\" href=\"../__pv_it/8a8a3ae684e91e120767f91b843eddd849c8550d0/expr.ipynb\"><img src=\"../__pv_it/8a8a3ae684e91e120767f91b843eddd849c8550d0/expr.png\" style=\"display:inline;vertical-align:middle;\" /></a></span></td></tr>\n",
       "<tr><td>1</td><td>specialization</td><td>2, 3, 4</td><td><span style=\"font-size:20px;\"><a class=\"ProveItLink\" href=\"../__pv_it/c7aacdbde5a9936bd52dbb99c355aaeadd6b72db0/expr.ipynb\"><img src=\"../__pv_it/c7aacdbde5a9936bd52dbb99c355aaeadd6b72db0/expr.png\" style=\"display:inline;vertical-align:middle;\" /></a> &#x22A2;&nbsp;<a class=\"ProveItLink\" href=\"../__pv_it/2edda506b23c2c09193538d96de680897449b41e0/expr.ipynb\"><img src=\"../__pv_it/2edda506b23c2c09193538d96de680897449b41e0/expr.png\" style=\"display:inline;vertical-align:middle;\" /></a></span></td></tr>\n",
       "<tr><td>&nbsp;</td><td colspan=4 style=\"text-align:left\"><span style=\"font-size:20px;\"><a class=\"ProveItLink\" href=\"../__pv_it/5fa8df6a7435f1eec38081ed73bf5e7109f10f640/expr.ipynb\"><img src=\"../__pv_it/5fa8df6a7435f1eec38081ed73bf5e7109f10f640/expr.png\" style=\"display:inline;vertical-align:middle;\" /></a>, <a class=\"ProveItLink\" href=\"../__pv_it/ea1c6b81c1057a99ae124ad23b4700c6f495687a0/expr.ipynb\"><img src=\"../__pv_it/ea1c6b81c1057a99ae124ad23b4700c6f495687a0/expr.png\" style=\"display:inline;vertical-align:middle;\" /></a></span></td></tr><tr><td>2</td><td>theorem</td><td></td><td><span style=\"font-size:20px;\"> &#x22A2;&nbsp;<a class=\"ProveItLink\" href=\"../__pv_it/2e3251e7df4e671fe5d0d3029e5198dcfced006e0/expr.ipynb\"><img src=\"../__pv_it/2e3251e7df4e671fe5d0d3029e5198dcfced006e0/expr.png\" style=\"display:inline;vertical-align:middle;\" /></a></span></td></tr>\n",
       "<tr><td>&nbsp;</td><td colspan=4 style-\"text-align:left\"><a class=\"ProveItLink\" href=\"iffIntro.ipynb\">proveit.logic.boolean.implication.iffIntro</a></td></tr><tr><td>3</td><td>specialization</td><td>7, 5, 6</td><td><span style=\"font-size:20px;\"><a class=\"ProveItLink\" href=\"../__pv_it/c7aacdbde5a9936bd52dbb99c355aaeadd6b72db0/expr.ipynb\"><img src=\"../__pv_it/c7aacdbde5a9936bd52dbb99c355aaeadd6b72db0/expr.png\" style=\"display:inline;vertical-align:middle;\" /></a> &#x22A2;&nbsp;<a class=\"ProveItLink\" href=\"../__pv_it/8affff1f8d6a799192f6c7ceb935a0058b7d63560/expr.ipynb\"><img src=\"../__pv_it/8affff1f8d6a799192f6c7ceb935a0058b7d63560/expr.png\" style=\"display:inline;vertical-align:middle;\" /></a></span></td></tr>\n",
       "<tr><td>&nbsp;</td><td colspan=4 style=\"text-align:left\"><span style=\"font-size:20px;\"><a class=\"ProveItLink\" href=\"../__pv_it/5fa8df6a7435f1eec38081ed73bf5e7109f10f640/expr.ipynb\"><img src=\"../__pv_it/5fa8df6a7435f1eec38081ed73bf5e7109f10f640/expr.png\" style=\"display:inline;vertical-align:middle;\" /></a>, <a class=\"ProveItLink\" href=\"../__pv_it/00e4b46dd5e5a908d5cc5ab396bb15e8f919bb7e0/expr.ipynb\"><img src=\"../__pv_it/00e4b46dd5e5a908d5cc5ab396bb15e8f919bb7e0/expr.png\" style=\"display:inline;vertical-align:middle;\" /></a>, <a class=\"ProveItLink\" href=\"../__pv_it/56de4f4dfedb4fbc6465306f3e040d4dd10ce6110/expr.ipynb\"><img src=\"../__pv_it/56de4f4dfedb4fbc6465306f3e040d4dd10ce6110/expr.png\" style=\"display:inline;vertical-align:middle;\" /></a></span></td></tr><tr><td>4</td><td>specialization</td><td>7, 8, 9</td><td><span style=\"font-size:20px;\"><a class=\"ProveItLink\" href=\"../__pv_it/c7aacdbde5a9936bd52dbb99c355aaeadd6b72db0/expr.ipynb\"><img src=\"../__pv_it/c7aacdbde5a9936bd52dbb99c355aaeadd6b72db0/expr.png\" style=\"display:inline;vertical-align:middle;\" /></a> &#x22A2;&nbsp;<a class=\"ProveItLink\" href=\"../__pv_it/0953037c9687d539a90005dc42e33f2f146ed2330/expr.ipynb\"><img src=\"../__pv_it/0953037c9687d539a90005dc42e33f2f146ed2330/expr.png\" style=\"display:inline;vertical-align:middle;\" /></a></span></td></tr>\n",
       "<tr><td>&nbsp;</td><td colspan=4 style=\"text-align:left\"><span style=\"font-size:20px;\"><a class=\"ProveItLink\" href=\"../__pv_it/178055c787062a1054b7d60560d5909c209c48050/expr.ipynb\"><img src=\"../__pv_it/178055c787062a1054b7d60560d5909c209c48050/expr.png\" style=\"display:inline;vertical-align:middle;\" /></a>, <a class=\"ProveItLink\" href=\"../__pv_it/00e4b46dd5e5a908d5cc5ab396bb15e8f919bb7e0/expr.ipynb\"><img src=\"../__pv_it/00e4b46dd5e5a908d5cc5ab396bb15e8f919bb7e0/expr.png\" style=\"display:inline;vertical-align:middle;\" /></a>, <a class=\"ProveItLink\" href=\"../__pv_it/06ccd6b40acc556b95bb4a9747e1275db095c1b40/expr.ipynb\"><img src=\"../__pv_it/06ccd6b40acc556b95bb4a9747e1275db095c1b40/expr.png\" style=\"display:inline;vertical-align:middle;\" /></a></span></td></tr><tr><td>5</td><td>specialization</td><td>10, 13</td><td><span style=\"font-size:20px;\"><a class=\"ProveItLink\" href=\"../__pv_it/e50116be5e9fecc63354891410412e4e2485d8200/expr.ipynb\"><img src=\"../__pv_it/e50116be5e9fecc63354891410412e4e2485d8200/expr.png\" style=\"display:inline;vertical-align:middle;\" /></a> &#x22A2;&nbsp;<a class=\"ProveItLink\" href=\"../__pv_it/e73a70c11cb4dd0ed268f52ee1583e255f8135080/expr.ipynb\"><img src=\"../__pv_it/e73a70c11cb4dd0ed268f52ee1583e255f8135080/expr.png\" style=\"display:inline;vertical-align:middle;\" /></a></span></td></tr>\n",
       "<tr><td>&nbsp;</td><td colspan=4 style=\"text-align:left\"><span style=\"font-size:20px;\"><a class=\"ProveItLink\" href=\"../__pv_it/5fa8df6a7435f1eec38081ed73bf5e7109f10f640/expr.ipynb\"><img src=\"../__pv_it/5fa8df6a7435f1eec38081ed73bf5e7109f10f640/expr.png\" style=\"display:inline;vertical-align:middle;\" /></a>, <a class=\"ProveItLink\" href=\"../__pv_it/00e4b46dd5e5a908d5cc5ab396bb15e8f919bb7e0/expr.ipynb\"><img src=\"../__pv_it/00e4b46dd5e5a908d5cc5ab396bb15e8f919bb7e0/expr.png\" style=\"display:inline;vertical-align:middle;\" /></a></span></td></tr><tr><td>6</td><td>specialization</td><td>10, 11</td><td><span style=\"font-size:20px;\"><a class=\"ProveItLink\" href=\"../__pv_it/7e8182bcdfd6b8cd0f73405ac4abdf54275b4e200/expr.ipynb\"><img src=\"../__pv_it/7e8182bcdfd6b8cd0f73405ac4abdf54275b4e200/expr.png\" style=\"display:inline;vertical-align:middle;\" /></a> &#x22A2;&nbsp;<a class=\"ProveItLink\" href=\"../__pv_it/8248a3ffba4d5240b8a0a829ef60767a62f894140/expr.ipynb\"><img src=\"../__pv_it/8248a3ffba4d5240b8a0a829ef60767a62f894140/expr.png\" style=\"display:inline;vertical-align:middle;\" /></a></span></td></tr>\n",
       "<tr><td>&nbsp;</td><td colspan=4 style=\"text-align:left\"><span style=\"font-size:20px;\"><a class=\"ProveItLink\" href=\"../__pv_it/5d5f2788af5ab1e0877417def4ee9be126f7bc700/expr.ipynb\"><img src=\"../__pv_it/5d5f2788af5ab1e0877417def4ee9be126f7bc700/expr.png\" style=\"display:inline;vertical-align:middle;\" /></a>, <a class=\"ProveItLink\" href=\"../__pv_it/ea1c6b81c1057a99ae124ad23b4700c6f495687a0/expr.ipynb\"><img src=\"../__pv_it/ea1c6b81c1057a99ae124ad23b4700c6f495687a0/expr.png\" style=\"display:inline;vertical-align:middle;\" /></a></span></td></tr><tr><td>7</td><td>theorem</td><td></td><td><span style=\"font-size:20px;\"> &#x22A2;&nbsp;<a class=\"ProveItLink\" href=\"../__pv_it/58354b12dbd32d4ac7add309e5c18982ccfedc6a0/expr.ipynb\"><img src=\"../__pv_it/58354b12dbd32d4ac7add309e5c18982ccfedc6a0/expr.png\" style=\"display:inline;vertical-align:middle;\" /></a></span></td></tr>\n",
       "<tr><td>&nbsp;</td><td colspan=4 style-\"text-align:left\"><a class=\"ProveItLink\" href=\"implicationTransitivity.ipynb\">proveit.logic.boolean.implication.implicationTransitivity</a></td></tr><tr><td>8</td><td>specialization</td><td>12, 11</td><td><span style=\"font-size:20px;\"><a class=\"ProveItLink\" href=\"../__pv_it/7e8182bcdfd6b8cd0f73405ac4abdf54275b4e200/expr.ipynb\"><img src=\"../__pv_it/7e8182bcdfd6b8cd0f73405ac4abdf54275b4e200/expr.png\" style=\"display:inline;vertical-align:middle;\" /></a> &#x22A2;&nbsp;<a class=\"ProveItLink\" href=\"../__pv_it/075da54d02064a6bfd387939f529c5962758cff40/expr.ipynb\"><img src=\"../__pv_it/075da54d02064a6bfd387939f529c5962758cff40/expr.png\" style=\"display:inline;vertical-align:middle;\" /></a></span></td></tr>\n",
       "<tr><td>&nbsp;</td><td colspan=4 style=\"text-align:left\"><span style=\"font-size:20px;\"><a class=\"ProveItLink\" href=\"../__pv_it/5d5f2788af5ab1e0877417def4ee9be126f7bc700/expr.ipynb\"><img src=\"../__pv_it/5d5f2788af5ab1e0877417def4ee9be126f7bc700/expr.png\" style=\"display:inline;vertical-align:middle;\" /></a>, <a class=\"ProveItLink\" href=\"../__pv_it/ea1c6b81c1057a99ae124ad23b4700c6f495687a0/expr.ipynb\"><img src=\"../__pv_it/ea1c6b81c1057a99ae124ad23b4700c6f495687a0/expr.png\" style=\"display:inline;vertical-align:middle;\" /></a></span></td></tr><tr><td>9</td><td>specialization</td><td>12, 13</td><td><span style=\"font-size:20px;\"><a class=\"ProveItLink\" href=\"../__pv_it/e50116be5e9fecc63354891410412e4e2485d8200/expr.ipynb\"><img src=\"../__pv_it/e50116be5e9fecc63354891410412e4e2485d8200/expr.png\" style=\"display:inline;vertical-align:middle;\" /></a> &#x22A2;&nbsp;<a class=\"ProveItLink\" href=\"../__pv_it/58231239aa3ff75feba4340b3e09a295f56b05c20/expr.ipynb\"><img src=\"../__pv_it/58231239aa3ff75feba4340b3e09a295f56b05c20/expr.png\" style=\"display:inline;vertical-align:middle;\" /></a></span></td></tr>\n",
       "<tr><td>&nbsp;</td><td colspan=4 style=\"text-align:left\"><span style=\"font-size:20px;\"><a class=\"ProveItLink\" href=\"../__pv_it/5fa8df6a7435f1eec38081ed73bf5e7109f10f640/expr.ipynb\"><img src=\"../__pv_it/5fa8df6a7435f1eec38081ed73bf5e7109f10f640/expr.png\" style=\"display:inline;vertical-align:middle;\" /></a>, <a class=\"ProveItLink\" href=\"../__pv_it/00e4b46dd5e5a908d5cc5ab396bb15e8f919bb7e0/expr.ipynb\"><img src=\"../__pv_it/00e4b46dd5e5a908d5cc5ab396bb15e8f919bb7e0/expr.png\" style=\"display:inline;vertical-align:middle;\" /></a></span></td></tr><tr><td>10</td><td>theorem</td><td></td><td><span style=\"font-size:20px;\"> &#x22A2;&nbsp;<a class=\"ProveItLink\" href=\"../__pv_it/24623b51539021cd38343a89a02d4eb1288271550/expr.ipynb\"><img src=\"../__pv_it/24623b51539021cd38343a89a02d4eb1288271550/expr.png\" style=\"display:inline;vertical-align:middle;\" /></a></span></td></tr>\n",
       "<tr><td>&nbsp;</td><td colspan=4 style-\"text-align:left\"><a class=\"ProveItLink\" href=\"iffImpliesRight.ipynb\">proveit.logic.boolean.implication.iffImpliesRight</a></td></tr><tr><td>11</td><td>assumption</td><td></td><td><span style=\"font-size:20px;\"><a class=\"ProveItLink\" href=\"../__pv_it/7e8182bcdfd6b8cd0f73405ac4abdf54275b4e200/expr.ipynb\"><img src=\"../__pv_it/7e8182bcdfd6b8cd0f73405ac4abdf54275b4e200/expr.png\" style=\"display:inline;vertical-align:middle;\" /></a> &#x22A2;&nbsp;<a class=\"ProveItLink\" href=\"../__pv_it/54322dca8c726a8aacf959d54971b0da131547540/expr.ipynb\"><img src=\"../__pv_it/54322dca8c726a8aacf959d54971b0da131547540/expr.png\" style=\"display:inline;vertical-align:middle;\" /></a></span></td></tr>\n",
       "<tr><td>12</td><td>theorem</td><td></td><td><span style=\"font-size:20px;\"> &#x22A2;&nbsp;<a class=\"ProveItLink\" href=\"../__pv_it/ea445450cf797bd9843aeaf6722dcb63dbf702080/expr.ipynb\"><img src=\"../__pv_it/ea445450cf797bd9843aeaf6722dcb63dbf702080/expr.png\" style=\"display:inline;vertical-align:middle;\" /></a></span></td></tr>\n",
       "<tr><td>&nbsp;</td><td colspan=4 style-\"text-align:left\"><a class=\"ProveItLink\" href=\"iffImpliesLeft.ipynb\">proveit.logic.boolean.implication.iffImpliesLeft</a></td></tr><tr><td>13</td><td>assumption</td><td></td><td><span style=\"font-size:20px;\"><a class=\"ProveItLink\" href=\"../__pv_it/e50116be5e9fecc63354891410412e4e2485d8200/expr.ipynb\"><img src=\"../__pv_it/e50116be5e9fecc63354891410412e4e2485d8200/expr.png\" style=\"display:inline;vertical-align:middle;\" /></a> &#x22A2;&nbsp;<a class=\"ProveItLink\" href=\"../__pv_it/315d469da84f8bd61c78705cff800abb69da38bc0/expr.ipynb\"><img src=\"../__pv_it/315d469da84f8bd61c78705cff800abb69da38bc0/expr.png\" style=\"display:inline;vertical-align:middle;\" /></a></span></td></tr>\n",
       "</table>"
      ],
      "text/plain": [
       "\tstep type\trequirements\tstatement\n",
       "0\tgeneralizaton\t1\t|= forall_{A, B, C | A <=> B , B <=> C} (A <=> C)\n",
       "1\tspecialization\t2, 3, 4\t{A <=> B , B <=> C} |= A <=> C\n",
       "\t{A -> A}, {B -> C}\n",
       "2\ttheorem\t\t|= forall_{A, B | A => B , B => A} (A <=> B)\n",
       "\tproveit.logic.boolean.implication.iffIntro\n",
       "3\tspecialization\t7, 5, 6\t{A <=> B , B <=> C} |= A => C\n",
       "\t{A -> A}, {B -> B}, {C -> C}\n",
       "4\tspecialization\t7, 8, 9\t{A <=> B , B <=> C} |= C => A\n",
       "\t{A -> C}, {B -> B}, {C -> A}\n",
       "5\tspecialization\t10, 13\t{A <=> B} |= A => B\n",
       "\t{A -> A}, {B -> B}\n",
       "6\tspecialization\t10, 11\t{B <=> C} |= B => C\n",
       "\t{A -> B}, {B -> C}\n",
       "7\ttheorem\t\t|= forall_{A, B, C | A => B , B => C} (A => C)\n",
       "\tproveit.logic.boolean.implication.implicationTransitivity\n",
       "8\tspecialization\t12, 11\t{B <=> C} |= C => B\n",
       "\t{A -> B}, {B -> C}\n",
       "9\tspecialization\t12, 13\t{A <=> B} |= B => A\n",
       "\t{A -> A}, {B -> B}\n",
       "10\ttheorem\t\t|= forall_{A, B | A <=> B} (A => B)\n",
       "\tproveit.logic.boolean.implication.iffImpliesRight\n",
       "11\tassumption\t\t{B <=> C} |= B <=> C\n",
       "12\ttheorem\t\t|= forall_{A, B | A <=> B} (B => A)\n",
       "\tproveit.logic.boolean.implication.iffImpliesLeft\n",
       "13\tassumption\t\t{A <=> B} |= A <=> B"
      ]
     },
     "execution_count": 3,
     "metadata": {},
     "output_type": "execute_result"
    }
   ],
   "source": [
    "%qed # automation can handle this"
   ]
  },
  {
   "cell_type": "code",
   "execution_count": 4,
   "metadata": {
    "collapsed": true
   },
   "outputs": [],
   "source": []
  }
 ],
 "metadata": {
  "kernelspec": {
   "display_name": "Python 3",
   "language": "python",
   "name": "python3"
  },
  "language_info": {
   "codemirror_mode": {
    "name": "ipython",
    "version": 3
   },
   "file_extension": ".py",
   "mimetype": "text/x-python",
   "name": "python",
   "nbconvert_exporter": "python",
   "pygments_lexer": "ipython3",
   "version": "3.7.0"
  }
 },
 "nbformat": 4,
 "nbformat_minor": 0
}
