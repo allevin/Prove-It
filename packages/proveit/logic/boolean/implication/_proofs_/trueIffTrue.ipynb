{
 "cells": [
  {
   "cell_type": "markdown",
   "metadata": {},
   "source": [
    "Proof of <a class=\"ProveItLink\" href=\"../../../../_context_.ipynb\">proveit</a>.<a class=\"ProveItLink\" href=\"../../../_context_.ipynb\">logic</a>.<a class=\"ProveItLink\" href=\"../../_context_.ipynb\">boolean</a>.<a class=\"ProveItLink\" href=\"../_context_.ipynb\">implication</a>.<a href=\"../_theorems_.ipynb#trueIffTrue\" class=\"ProveItLink\">trueIffTrue</a> theorem\n",
    "========"
   ]
  },
  {
   "cell_type": "code",
   "execution_count": 1,
   "metadata": {},
   "outputs": [],
   "source": [
    "import proveit\n",
    "from proveit.logic.boolean.implication._theorems_ import trueImpliesTrue\n",
    "context = proveit.Context('..') # the theorem's context is in the parent directory"
   ]
  },
  {
   "cell_type": "code",
   "execution_count": 2,
   "metadata": {},
   "outputs": [
    {
     "name": "stdout",
     "output_type": "stream",
     "text": [
      "Beginning proof of trueIffTrue\n",
      "Recorded 'presuming' information\n"
     ]
    },
    {
     "name": "stdout",
     "output_type": "stream",
     "text": [
      "Presuming previous theorems (applied transitively).\n"
     ]
    },
    {
     "data": {
      "text/html": [
       "<strong id=\"trueIffTrue\">trueIffTrue:</strong> <a class=\"ProveItLink\" href=\"../__pv_it/039b4c44326537bfa27b1d6e7a8d44995283b0750/expr.ipynb\"><img src=\"data:image/png;base64,iVBORw0KGgoAAAANSUhEUgAAAD8AAAAPBAMAAAChCwpBAAAALVBMVEX///+qqqpUVFS6urru7u4Q\n",
       "EBDc3NyIiIgyMjJ2dnbMzMxEREQiIiJmZmYAAABYjWgWAAAAAXRSTlMAQObYZgAAAHtJREFUGNNj\n",
       "uHMGBE4zoANesPiZDSD2WgbsgOsClEGCAg4UHhYF5UDMnYBbAVcDkGBrwK1gaQzI4S8ccClgbwFT\n",
       "zM04FLBEQ/mpCjhMcIIIsLXjdIMMJPQScCpgBJnNcgxPOFwEYiYDDAUr4Qo8gDgbEZITMEMfiF1Q\n",
       "hQA1TDKH0JX8uwAAAABJRU5ErkJggg==\n",
       "\" style=\"display:inline;vertical-align:middle;\" /></a><br>(see <a class=\"ProveItLink\" href=\"../__pv_it/039b4c44326537bfa27b1d6e7a8d44995283b0750/dependencies.ipynb\">dependencies</a>)<br>"
      ],
      "text/plain": [
       "trueIffTrue: TRUE <=> TRUE"
      ]
     },
     "execution_count": 2,
     "metadata": {},
     "output_type": "execute_result"
    }
   ],
   "source": [
    "%proving trueIffTrue presuming []"
   ]
  },
  {
   "cell_type": "code",
   "execution_count": 3,
   "metadata": {},
   "outputs": [
    {
     "data": {
      "text/html": [
       "<table><tr><th>&nbsp;</th><th>step type</th><th>requirements</th><th>statement</th></tr>\n",
       "<tr><td>0</td><td>specialization</td><td>1, 2</td><td><span style=\"font-size:20px;\"> <a class=\"ProveItLink\" href=\"../__pv_it/5740cb434833ea3b610e96f43db9543cee6123e50/proof.ipynb\" style=\"text-decoration: none\">&#x22A2;&nbsp;</a><a class=\"ProveItLink\" href=\"../__pv_it/039b4c44326537bfa27b1d6e7a8d44995283b0750/expr.ipynb\"><img src=\"data:image/png;base64,iVBORw0KGgoAAAANSUhEUgAAAD8AAAAPBAMAAAChCwpBAAAALVBMVEX///+qqqpUVFS6urru7u4Q\n",
       "EBDc3NyIiIgyMjJ2dnbMzMxEREQiIiJmZmYAAABYjWgWAAAAAXRSTlMAQObYZgAAAHtJREFUGNNj\n",
       "uHMGBE4zoANesPiZDSD2WgbsgOsClEGCAg4UHhYF5UDMnYBbAVcDkGBrwK1gaQzI4S8ccClgbwFT\n",
       "zM04FLBEQ/mpCjhMcIIIsLXjdIMMJPQScCpgBJnNcgxPOFwEYiYDDAUr4Qo8gDgbEZITMEMfiF1Q\n",
       "hQA1TDKH0JX8uwAAAABJRU5ErkJggg==\n",
       "\" style=\"display:inline;vertical-align:middle;\" /></a></span></td></tr>\n",
       "<tr><td>&nbsp;</td><td colspan=4 style=\"text-align:left\"><span style=\"font-size:20px;\"><a class=\"ProveItLink\" href=\"../../../../__pv_it/2cbe72a7ad6f655694dd697106680215e8489b600/expr.ipynb\"><img src=\"data:image/png;base64,iVBORw0KGgoAAAANSUhEUgAAAA8AAAAOBAMAAAACpFvcAAAALVBMVEX///8QEBBERERUVFS6urqI\n",
       "iIhmZmaqqqrc3Nzu7u6YmJgyMjIiIiLMzMwAAADtIaYWAAAAAXRSTlMAQObYZgAAAFtJREFUCNdj\n",
       "YACBOwxQsA9Kc52bAGG05zVAGAFxDmCaZULdAjBjCsO9ADDDgaEvAUTzGhvbKYCVMDAwbgAxChgY\n",
       "eASANAeQwf0AyJgNxEwvGRia5HYwcOm9TgAA6BoR3jrzwFcAAAAASUVORK5CYII=\n",
       "\" style=\"display:inline;vertical-align:middle;\" /></a> : <a class=\"ProveItLink\" href=\"../../__pv_it/68a87cc3370287d726c7086ace789e680e4461c30/expr.ipynb\"><img src=\"data:image/png;base64,iVBORw0KGgoAAAANSUhEUgAAAA4AAAAOBAMAAADtZjDiAAAAFVBMVEX///92dnbMzMxEREQiIiJm\n",
       "ZmYAAABAT6GXAAAAAXRSTlMAQObYZgAAABhJREFUCNdjCHEBAWcGIFBlgABa0YpADAAxegPJJk4d\n",
       "XAAAAABJRU5ErkJggg==\n",
       "\" style=\"display:inline;vertical-align:middle;\" /></a>, <a class=\"ProveItLink\" href=\"../../../../__pv_it/077b2ff79244fb4582cbe22c6e3356fa92a52f2f0/expr.ipynb\"><img src=\"data:image/png;base64,iVBORw0KGgoAAAANSUhEUgAAABAAAAAOBAMAAADUAYG5AAAAMFBMVEX///+qqqru7u4iIiJ2dnbc\n",
       "3NyIiIjMzMxmZmYQEBC6uroyMjJERERUVFSYmJgAAADLUcuvAAAAAXRSTlMAQObYZgAAAGpJREFU\n",
       "CNdjYGB4+//u3dMLGIBgDgMDxy8gzf4NiP8CGWxfGRj4vgAZPBMYGJgnARn8FxhY9ygAGfXX0pof\n",
       "gDTlBzAw2YIYJ0EckBBI53sHoBH/gIz7AhBjWH9DjancBLTl/N+7t/cxMAAA3u4f/5xagjYAAAAA\n",
       "SUVORK5CYII=\n",
       "\" style=\"display:inline;vertical-align:middle;\" /></a> : <a class=\"ProveItLink\" href=\"../../__pv_it/68a87cc3370287d726c7086ace789e680e4461c30/expr.ipynb\"><img src=\"data:image/png;base64,iVBORw0KGgoAAAANSUhEUgAAAA4AAAAOBAMAAADtZjDiAAAAFVBMVEX///92dnbMzMxEREQiIiJm\n",
       "ZmYAAABAT6GXAAAAAXRSTlMAQObYZgAAABhJREFUCNdjCHEBAWcGIFBlgABa0YpADAAxegPJJk4d\n",
       "XAAAAABJRU5ErkJggg==\n",
       "\" style=\"display:inline;vertical-align:middle;\" /></a></span></td></tr><tr><td>1</td><td>theorem</td><td></td><td><span style=\"font-size:20px;\"> <a class=\"ProveItLink\" href=\"iffIntro.ipynb\" style=\"text-decoration: none\">&#x22A2;&nbsp;</a><a class=\"ProveItLink\" href=\"../__pv_it/468b0f952ed299315e5578d38fcceb95afda5fef0/expr.ipynb\"><img src=\"data:image/png;base64,iVBORw0KGgoAAAANSUhEUgAAAPEAAAAXBAMAAAAo+LSlAAAAMFBMVEX///8QEBC6urrMzMxUVFRm\n",
       "ZmZERETc3NwyMjKqqqp2dnaIiIiYmJgiIiLu7u4AAAAU9Wx4AAAAAXRSTlMAQObYZgAAA0dJREFU\n",
       "SMfFVk1oE0EU/prtZpMm2dYfBC81Bw89KI0gKog01FgKHhow24JQqkjTHsTsodh6qI0XgyA2BxU8\n",
       "2YtYKUhEBaGHRvHgz8EeLIJamoqCCNXS9E9bq29mdpPdpLU9pDiwM7vzvn3fzPfem13gv7VM6V06\n",
       "UutCntE1ym5el5R5vxiOrGZ7/icU6vRDDgD32PO1kjIb3vpXNe4A5BkgDpynJ+VUKYk9QmzvxGqB\n",
       "lJbomgVeAS6yy8lSMpcJxgttujFB+5PC5rIWaE2/gEka7nZ395ZU7BoxpEb8Fg06DKOzCvBV00ib\n",
       "nY9G35eU+aRI8MzttHg+xLoew1gZhHKZRKkgEY6aC0rw/uac1hDgr5qeXHreqzumRc7YcUWwq7z/\n",
       "hDoRb2nLOLUJI+3qjg+3shW5KQS7ocZ5RsyIxKiCp4rrYrp847f4fwo8sOOKYFt570efiO0TEfYa\n",
       "YR7Rob5l+2Kqw8Nl+bLMTXIQjgUrs9qWtviPALW6DVcE4zuQQqEmXjGTRt0o2/lwmrETUpqmBEj7\n",
       "+Kruj3GTLwV51MpcMSXWfov3H4BWO86dtMEMZopVGZdSPSZme4T2s0ydAcGsxvmZI6Wi3PQjgBe6\n",
       "lfmwU6zayWbVLLwJO87IEhMG7GQdLccnguEe5+2dCDoTtikp1EZHPZsrN/ZSO/zoHKzMQdpaczQa\n",
       "7dzGtrI03JDJ42Saj14KmDDRzjJtyblrWjxfZ92UnitnZZGlCRPkBn/lJUa4bZCyKGNh9iY9hgf5\n",
       "BGkah7fajgO0gBWGO3R9ZQ5WjPdYOOrz5byPpTmrKpSxCKhjWow7aichkxbmKa3Z8CC163CGof6E\n",
       "DQccaLHCsJeO5F0JeGOLIvKsdIzzWY7Nhhp51blYqnsZo6yjjqtGfmsDFuYWSFk81qixVKlMwpFF\n",
       "Dudh85GwCTNOT73gaCF3auEZPpm720Ne00oCygqUMUucHVQBy/hO7RuTpi+D3jByOJUZhnIwIz4D\n",
       "Gzjohsybz/NQmj5S5g3OaY3JPLNKRdn1O21+dSv6tcgVnqF5nBS0wTb2zRWHl6V5LffOAtvFNXBK\n",
       "0cewa33m8sKIHPwH81q44qas/zf0sHAivUHm9Kb+GpZv8q/nX+S68mb99E0nAAAAAElFTkSuQmCC\n",
       "\" style=\"display:inline;vertical-align:middle;\" /></a></span></td></tr>\n",
       "<tr><td>&nbsp;</td><td colspan=4 style-\"text-align:left\"><a class=\"ProveItLink\" href=\"iffIntro.ipynb\">proveit.logic.boolean.implication.iffIntro</a></td></tr><tr><td>2</td><td>theorem</td><td></td><td><span style=\"font-size:20px;\"> <a class=\"ProveItLink\" href=\"trueImpliesTrue.ipynb\" style=\"text-decoration: none\">&#x22A2;&nbsp;</a><a class=\"ProveItLink\" href=\"../__pv_it/c627666afcca6105555798c9bfcdd2c352e208580/expr.ipynb\"><img src=\"data:image/png;base64,iVBORw0KGgoAAAANSUhEUgAAAD8AAAAPBAMAAAChCwpBAAAALVBMVEX////c3NwQEBCqqqqIiIhU\n",
       "VFS6uroyMjLu7u52dnbMzMxEREQiIiJmZmYAAACG8MiSAAAAAXRSTlMAQObYZgAAAGBJREFUGNNj\n",
       "uHMGBE4zoANesPiZDSD2WgbsgOsClIGigIOQAvYGAgrYAggoYJiCWwHEQ+cuEDCBwTyBgAKOogT8\n",
       "CpbPwO+GMzsIuMGUgDcZCzAVrERWwC2AUDABawyh8QEfPjCGic2tqAAAAABJRU5ErkJggg==\n",
       "\" style=\"display:inline;vertical-align:middle;\" /></a></span></td></tr>\n",
       "<tr><td>&nbsp;</td><td colspan=4 style-\"text-align:left\"><a class=\"ProveItLink\" href=\"trueImpliesTrue.ipynb\">proveit.logic.boolean.implication.trueImpliesTrue</a></td></tr></table>"
      ],
      "text/plain": [
       "\tstep type\trequirements\tstatement\n",
       "0\tspecialization\t1, 2\t|- TRUE <=> TRUE\n",
       "\tA : TRUE, B : TRUE\n",
       "1\ttheorem\t\t|- forall_{A, B | A => B , B => A} (A <=> B)\n",
       "\tproveit.logic.boolean.implication.iffIntro\n",
       "2\ttheorem\t\t|- TRUE => TRUE\n",
       "\tproveit.logic.boolean.implication.trueImpliesTrue"
      ]
     },
     "execution_count": 3,
     "metadata": {},
     "output_type": "execute_result"
    }
   ],
   "source": [
    "%qed"
   ]
  },
  {
   "cell_type": "code",
   "execution_count": null,
   "metadata": {},
   "outputs": [],
   "source": []
  }
 ],
 "metadata": {
  "kernelspec": {
   "display_name": "Python 3",
   "language": "python",
   "name": "python3"
  }
 },
 "nbformat": 4,
 "nbformat_minor": 0
}
