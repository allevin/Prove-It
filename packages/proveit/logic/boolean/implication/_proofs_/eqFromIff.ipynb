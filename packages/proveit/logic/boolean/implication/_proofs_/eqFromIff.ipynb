{
 "cells": [
  {
   "cell_type": "markdown",
   "metadata": {
    "collapsed": true
   },
   "source": [
    "Proof of <a class=\"ProveItLink\" href=\"../../../../_context_.ipynb\">proveit</a>.<a class=\"ProveItLink\" href=\"../../../_context_.ipynb\">logic</a>.<a class=\"ProveItLink\" href=\"../../_context_.ipynb\">boolean</a>.<a class=\"ProveItLink\" href=\"../_context_.ipynb\">implication</a>.<a class=\"ProveItLink\" href=\"../_theorems_.ipynb#eqFromIff\">eqFromIff</a> theorem\n",
    "========"
   ]
  },
  {
   "cell_type": "code",
   "execution_count": 1,
   "metadata": {},
   "outputs": [],
   "source": [
    "import proveit\n",
    "context = proveit.Context('..') # the theorem's context is in the parent directory"
   ]
  },
  {
   "cell_type": "code",
   "execution_count": 2,
   "metadata": {},
   "outputs": [
    {
     "name": "stdout",
     "output_type": "stream",
     "text": [
      "Beginning proof of eqFromIff\n",
      "Recorded 'presuming' information\n",
      "Presuming proveit.logic.boolean.foldForallOverBool theorem (applied transitively).\n",
      "Presuming previous theorems (applied transitively).\n"
     ]
    },
    {
     "data": {
      "text/html": [
       "<strong id=\"eqFromIff\">eqFromIff:</strong> <a class=\"ProveItLink\" href=\"../__pv_it/3279b8a6ecc11b21d959b9c256158282d9f206e60/expr.ipynb\"><img src=\"../__pv_it/3279b8a6ecc11b21d959b9c256158282d9f206e60/expr.png\" style=\"display:inline;vertical-align:middle;\" /></a><br>(see <a class=\"ProveItLink\" href=\"../__pv_it/3279b8a6ecc11b21d959b9c256158282d9f206e60/dependencies.ipynb\">dependencies</a>)<br>"
      ],
      "text/plain": [
       "eqFromIff: forall_{A, B in BOOLEANS | A <=> B} (A = B)"
      ]
     },
     "execution_count": 2,
     "metadata": {},
     "output_type": "execute_result"
    }
   ],
   "source": [
    "%proving eqFromIff presuming [proveit.logic.boolean.foldForallOverBool]"
   ]
  },
  {
   "cell_type": "code",
   "execution_count": 3,
   "metadata": {},
   "outputs": [
    {
     "data": {
      "text/html": [
       "<table><tr><th>&nbsp;</th><th>step type</th><th>requirements</th><th>statement</th></tr>\n",
       "<tr><td>0</td><td>specialization</td><td>1, 2, 3</td><td><span style=\"font-size:20px;\"> &#x22A2;&nbsp;<a class=\"ProveItLink\" href=\"../__pv_it/3279b8a6ecc11b21d959b9c256158282d9f206e60/expr.ipynb\"><img src=\"../__pv_it/3279b8a6ecc11b21d959b9c256158282d9f206e60/expr.png\" style=\"display:inline;vertical-align:middle;\" /></a></span></td></tr>\n",
       "<tr><td>&nbsp;</td><td colspan=4 style=\"text-align:left\"><span style=\"font-size:20px;\"><a class=\"ProveItLink\" href=\"../__pv_it/e9776295d60d6875a364482d5ea4eda3e51261b00/expr.ipynb\"><img src=\"../__pv_it/e9776295d60d6875a364482d5ea4eda3e51261b00/expr.png\" style=\"display:inline;vertical-align:middle;\" /></a></span></td></tr><tr><td>1</td><td>theorem</td><td></td><td><span style=\"font-size:20px;\"> &#x22A2;&nbsp;<a class=\"ProveItLink\" href=\"../../__pv_it/aee6960d17505c798b9d1f24ff6ef5d96fac5a9a0/expr.ipynb\"><img src=\"../../__pv_it/aee6960d17505c798b9d1f24ff6ef5d96fac5a9a0/expr.png\" style=\"display:inline;vertical-align:middle;\" /></a></span></td></tr>\n",
       "<tr><td>&nbsp;</td><td colspan=4 style-\"text-align:left\"><a class=\"ProveItLink\" href=\"../../_proofs_/foldForallOverBool.ipynb\">proveit.logic.boolean.foldForallOverBool</a></td></tr><tr><td>2</td><td>specialization</td><td>4, 5, 6</td><td><span style=\"font-size:20px;\"> &#x22A2;&nbsp;<a class=\"ProveItLink\" href=\"../__pv_it/0f39700b80110a53100e5b555912b7fc312b6e8a0/expr.ipynb\"><img src=\"../__pv_it/0f39700b80110a53100e5b555912b7fc312b6e8a0/expr.png\" style=\"display:inline;vertical-align:middle;\" /></a></span></td></tr>\n",
       "<tr><td>&nbsp;</td><td colspan=4 style=\"text-align:left\"><span style=\"font-size:20px;\"><a class=\"ProveItLink\" href=\"../__pv_it/241bb717664e274e8a37695b88a51c57c19ae5660/expr.ipynb\"><img src=\"../__pv_it/241bb717664e274e8a37695b88a51c57c19ae5660/expr.png\" style=\"display:inline;vertical-align:middle;\" /></a>, <a class=\"ProveItLink\" href=\"../__pv_it/23df7325aaf5b802397fb6dead2fc28e921b38e90/expr.ipynb\"><img src=\"../__pv_it/23df7325aaf5b802397fb6dead2fc28e921b38e90/expr.png\" style=\"display:inline;vertical-align:middle;\" /></a>, relabeling <a class=\"ProveItLink\" href=\"../__pv_it/5d5f2788af5ab1e0877417def4ee9be126f7bc700/expr.ipynb\"><img src=\"../__pv_it/5d5f2788af5ab1e0877417def4ee9be126f7bc700/expr.png\" style=\"display:inline;vertical-align:middle;\" /></a></span></td></tr><tr><td>3</td><td>generalizaton</td><td>7</td><td><span style=\"font-size:20px;\"> &#x22A2;&nbsp;<a class=\"ProveItLink\" href=\"../__pv_it/e2128456ced844f8627b094f5664426da869aeac0/expr.ipynb\"><img src=\"../__pv_it/e2128456ced844f8627b094f5664426da869aeac0/expr.png\" style=\"display:inline;vertical-align:middle;\" /></a></span></td></tr>\n",
       "<tr><td>4</td><td>theorem</td><td></td><td><span style=\"font-size:20px;\"> &#x22A2;&nbsp;<a class=\"ProveItLink\" href=\"../../__pv_it/6bccdff4779765f1d15f135c0a8dcc90a2fd6c830/expr.ipynb\"><img src=\"../../__pv_it/6bccdff4779765f1d15f135c0a8dcc90a2fd6c830/expr.png\" style=\"display:inline;vertical-align:middle;\" /></a></span></td></tr>\n",
       "<tr><td>&nbsp;</td><td colspan=4 style-\"text-align:left\"><a class=\"ProveItLink\" href=\"../../_proofs_/foldConditionedForallOverBool.ipynb\">proveit.logic.boolean.foldConditionedForallOverBool</a></td></tr><tr><td>5</td><td>hypothetical reasoning</td><td>8</td><td><span style=\"font-size:20px;\"> &#x22A2;&nbsp;<a class=\"ProveItLink\" href=\"../__pv_it/5103291bc3f47d8aa73ac4af9b68db9e29b5b4b40/expr.ipynb\"><img src=\"../__pv_it/5103291bc3f47d8aa73ac4af9b68db9e29b5b4b40/expr.png\" style=\"display:inline;vertical-align:middle;\" /></a></span></td></tr>\n",
       "<tr><td>6</td><td>specialization</td><td>9, 10</td><td><span style=\"font-size:20px;\"> &#x22A2;&nbsp;<a class=\"ProveItLink\" href=\"../__pv_it/c8a83e50740515d1510f2dcb41013d095182f2780/expr.ipynb\"><img src=\"../__pv_it/c8a83e50740515d1510f2dcb41013d095182f2780/expr.png\" style=\"display:inline;vertical-align:middle;\" /></a></span></td></tr>\n",
       "<tr><td>&nbsp;</td><td colspan=4 style=\"text-align:left\"><span style=\"font-size:20px;\"><a class=\"ProveItLink\" href=\"../__pv_it/a2178630cfe0520f78ebb446c373f9e673f414970/expr.ipynb\"><img src=\"../__pv_it/a2178630cfe0520f78ebb446c373f9e673f414970/expr.png\" style=\"display:inline;vertical-align:middle;\" /></a>, <a class=\"ProveItLink\" href=\"../__pv_it/1e4efed3f21343c0ab680e4d0ade55bdbbf92f730/expr.ipynb\"><img src=\"../__pv_it/1e4efed3f21343c0ab680e4d0ade55bdbbf92f730/expr.png\" style=\"display:inline;vertical-align:middle;\" /></a></span></td></tr><tr><td>7</td><td>specialization</td><td>11, 12</td><td><span style=\"font-size:20px;\"><a class=\"ProveItLink\" href=\"../__pv_it/2b934a150e98ec44c00bb74e79796f5098c958950/expr.ipynb\"><img src=\"../__pv_it/2b934a150e98ec44c00bb74e79796f5098c958950/expr.png\" style=\"display:inline;vertical-align:middle;\" /></a> &#x22A2;&nbsp;<a class=\"ProveItLink\" href=\"../__pv_it/180eec9324274736476b5c8ad231865db67484de0/expr.ipynb\"><img src=\"../__pv_it/180eec9324274736476b5c8ad231865db67484de0/expr.png\" style=\"display:inline;vertical-align:middle;\" /></a></span></td></tr>\n",
       "<tr><td>&nbsp;</td><td colspan=4 style=\"text-align:left\"><span style=\"font-size:20px;\"><a class=\"ProveItLink\" href=\"../__pv_it/23e630b31055153e3a7a5d2826c2927c719720590/expr.ipynb\"><img src=\"../__pv_it/23e630b31055153e3a7a5d2826c2927c719720590/expr.png\" style=\"display:inline;vertical-align:middle;\" /></a>, <a class=\"ProveItLink\" href=\"../__pv_it/628ccb419a6a535ac3555d6484e800cf72ea272e0/expr.ipynb\"><img src=\"../__pv_it/628ccb419a6a535ac3555d6484e800cf72ea272e0/expr.png\" style=\"display:inline;vertical-align:middle;\" /></a></span></td></tr><tr><td>8</td><td>theorem</td><td></td><td><span style=\"font-size:20px;\"> &#x22A2;&nbsp;<a class=\"ProveItLink\" href=\"../../__pv_it/39b7bb11d9285a053f62e0eb2edba7c6180380300/expr.ipynb\"><img src=\"../../__pv_it/39b7bb11d9285a053f62e0eb2edba7c6180380300/expr.png\" style=\"display:inline;vertical-align:middle;\" /></a></span></td></tr>\n",
       "<tr><td>&nbsp;</td><td colspan=4 style-\"text-align:left\"><a class=\"ProveItLink\" href=\"../../_proofs_/trueEqTrue.ipynb\">proveit.logic.boolean.trueEqTrue</a></td></tr><tr><td>9</td><td>theorem</td><td></td><td><span style=\"font-size:20px;\"> &#x22A2;&nbsp;<a class=\"ProveItLink\" href=\"../__pv_it/e437b35081782bf2ed2787967e9c068b053b29620/expr.ipynb\"><img src=\"../__pv_it/e437b35081782bf2ed2787967e9c068b053b29620/expr.png\" style=\"display:inline;vertical-align:middle;\" /></a></span></td></tr>\n",
       "<tr><td>&nbsp;</td><td colspan=4 style-\"text-align:left\"><a class=\"ProveItLink\" href=\"falseAntecedentImplication.ipynb\">proveit.logic.boolean.implication.falseAntecedentImplication</a></td></tr><tr><td>10</td><td>theorem</td><td></td><td><span style=\"font-size:20px;\"> &#x22A2;&nbsp;<a class=\"ProveItLink\" href=\"../__pv_it/f3ab6ddfcce7e8fc34c3a09fc25f58699c89c7fd0/expr.ipynb\"><img src=\"../__pv_it/f3ab6ddfcce7e8fc34c3a09fc25f58699c89c7fd0/expr.png\" style=\"display:inline;vertical-align:middle;\" /></a></span></td></tr>\n",
       "<tr><td>&nbsp;</td><td colspan=4 style-\"text-align:left\"><a class=\"ProveItLink\" href=\"trueIffFalseNegated.ipynb\">proveit.logic.boolean.implication.trueIffFalseNegated</a></td></tr><tr><td>11</td><td>theorem</td><td></td><td><span style=\"font-size:20px;\"> &#x22A2;&nbsp;<a class=\"ProveItLink\" href=\"../../../equality/__pv_it/fd70c6305343d60fc073d5325caa2ef867e523a70/expr.ipynb\"><img src=\"../../../equality/__pv_it/fd70c6305343d60fc073d5325caa2ef867e523a70/expr.png\" style=\"display:inline;vertical-align:middle;\" /></a></span></td></tr>\n",
       "<tr><td>&nbsp;</td><td colspan=4 style-\"text-align:left\"><a class=\"ProveItLink\" href=\"../../../equality/_proofs_/equalsReversal.ipynb\">proveit.logic.equality.equalsReversal</a></td></tr><tr><td>12</td><td>specialization</td><td>13, 14</td><td><span style=\"font-size:20px;\"><a class=\"ProveItLink\" href=\"../__pv_it/2b934a150e98ec44c00bb74e79796f5098c958950/expr.ipynb\"><img src=\"../__pv_it/2b934a150e98ec44c00bb74e79796f5098c958950/expr.png\" style=\"display:inline;vertical-align:middle;\" /></a> &#x22A2;&nbsp;<a class=\"ProveItLink\" href=\"../__pv_it/0e6513d9653529587ef99bc5f365bb0e33131b8f0/expr.ipynb\"><img src=\"../__pv_it/0e6513d9653529587ef99bc5f365bb0e33131b8f0/expr.png\" style=\"display:inline;vertical-align:middle;\" /></a></span></td></tr>\n",
       "<tr><td>&nbsp;</td><td colspan=4 style=\"text-align:left\"><span style=\"font-size:20px;\"><a class=\"ProveItLink\" href=\"../__pv_it/788ef5511dfca54206679fdb7d1131e45dc4c3d50/expr.ipynb\"><img src=\"../__pv_it/788ef5511dfca54206679fdb7d1131e45dc4c3d50/expr.png\" style=\"display:inline;vertical-align:middle;\" /></a></span></td></tr><tr><td>13</td><td>axiom</td><td></td><td><span style=\"font-size:20px;\"> &#x22A2;&nbsp;<a class=\"ProveItLink\" href=\"../../negation/__pv_it/ff54988b43a873b48cad467afd8955bd0735c0210/expr.ipynb\"><img src=\"../../negation/__pv_it/ff54988b43a873b48cad467afd8955bd0735c0210/expr.png\" style=\"display:inline;vertical-align:middle;\" /></a></span></td></tr>\n",
       "<tr><td>&nbsp;</td><td colspan=4 style-\"text-align:left\"><a class=\"ProveItLink\" href=\"../../negation/_axioms_.ipynb#negationElim\">proveit.logic.boolean.negation.negationElim</a></td></tr><tr><td>14</td><td>specialization</td><td>15, 16, 17</td><td><span style=\"font-size:20px;\"><a class=\"ProveItLink\" href=\"../__pv_it/2b934a150e98ec44c00bb74e79796f5098c958950/expr.ipynb\"><img src=\"../__pv_it/2b934a150e98ec44c00bb74e79796f5098c958950/expr.png\" style=\"display:inline;vertical-align:middle;\" /></a> &#x22A2;&nbsp;<a class=\"ProveItLink\" href=\"../__pv_it/1da4e2fe7c44632f084fa27ea32e26dc689384c20/expr.ipynb\"><img src=\"../__pv_it/1da4e2fe7c44632f084fa27ea32e26dc689384c20/expr.png\" style=\"display:inline;vertical-align:middle;\" /></a></span></td></tr>\n",
       "<tr><td>&nbsp;</td><td colspan=4 style=\"text-align:left\"><span style=\"font-size:20px;\"><a class=\"ProveItLink\" href=\"../__pv_it/788ef5511dfca54206679fdb7d1131e45dc4c3d50/expr.ipynb\"><img src=\"../__pv_it/788ef5511dfca54206679fdb7d1131e45dc4c3d50/expr.png\" style=\"display:inline;vertical-align:middle;\" /></a></span></td></tr><tr><td>15</td><td>theorem</td><td></td><td><span style=\"font-size:20px;\"> &#x22A2;&nbsp;<a class=\"ProveItLink\" href=\"../__pv_it/5c0c21d1bc8cc7b87e4f89fe4cac9b743483fc2d0/expr.ipynb\"><img src=\"../__pv_it/5c0c21d1bc8cc7b87e4f89fe4cac9b743483fc2d0/expr.png\" style=\"display:inline;vertical-align:middle;\" /></a></span></td></tr>\n",
       "<tr><td>&nbsp;</td><td colspan=4 style-\"text-align:left\"><a class=\"ProveItLink\" href=\"denyViaContradiction.ipynb\">proveit.logic.boolean.implication.denyViaContradiction</a></td></tr><tr><td>16</td><td>assumption</td><td></td><td><span style=\"font-size:20px;\"><a class=\"ProveItLink\" href=\"../__pv_it/2c2e947402f53b9e11cd7769e1b5b3378595750e0/expr.ipynb\"><img src=\"../__pv_it/2c2e947402f53b9e11cd7769e1b5b3378595750e0/expr.png\" style=\"display:inline;vertical-align:middle;\" /></a> &#x22A2;&nbsp;<a class=\"ProveItLink\" href=\"../__pv_it/fe5c91c77f0659f9ea07a2e3257797875d6868370/expr.ipynb\"><img src=\"../__pv_it/fe5c91c77f0659f9ea07a2e3257797875d6868370/expr.png\" style=\"display:inline;vertical-align:middle;\" /></a></span></td></tr>\n",
       "<tr><td>17</td><td>specialization</td><td>18, 19</td><td><span style=\"font-size:20px;\"><a class=\"ProveItLink\" href=\"../__pv_it/4d0f344b53b98c5986d368ba81a3794911d7888f0/expr.ipynb\"><img src=\"../__pv_it/4d0f344b53b98c5986d368ba81a3794911d7888f0/expr.png\" style=\"display:inline;vertical-align:middle;\" /></a> &#x22A2;&nbsp;<a class=\"ProveItLink\" href=\"../__pv_it/749ce54bbff10dc3fc6af6895a9ec22167c335680/expr.ipynb\"><img src=\"../__pv_it/749ce54bbff10dc3fc6af6895a9ec22167c335680/expr.png\" style=\"display:inline;vertical-align:middle;\" /></a></span></td></tr>\n",
       "<tr><td>&nbsp;</td><td colspan=4 style=\"text-align:left\"><span style=\"font-size:20px;\"><a class=\"ProveItLink\" href=\"../__pv_it/52b8087b729409d3f9a9fb1a73200980c1826d210/expr.ipynb\"><img src=\"../__pv_it/52b8087b729409d3f9a9fb1a73200980c1826d210/expr.png\" style=\"display:inline;vertical-align:middle;\" /></a>, <a class=\"ProveItLink\" href=\"../__pv_it/00e4b46dd5e5a908d5cc5ab396bb15e8f919bb7e0/expr.ipynb\"><img src=\"../__pv_it/00e4b46dd5e5a908d5cc5ab396bb15e8f919bb7e0/expr.png\" style=\"display:inline;vertical-align:middle;\" /></a></span></td></tr><tr><td>18</td><td>theorem</td><td></td><td><span style=\"font-size:20px;\"> &#x22A2;&nbsp;<a class=\"ProveItLink\" href=\"../__pv_it/ea445450cf797bd9843aeaf6722dcb63dbf702080/expr.ipynb\"><img src=\"../__pv_it/ea445450cf797bd9843aeaf6722dcb63dbf702080/expr.png\" style=\"display:inline;vertical-align:middle;\" /></a></span></td></tr>\n",
       "<tr><td>&nbsp;</td><td colspan=4 style-\"text-align:left\"><a class=\"ProveItLink\" href=\"iffImpliesLeft.ipynb\">proveit.logic.boolean.implication.iffImpliesLeft</a></td></tr><tr><td>19</td><td>assumption</td><td></td><td><span style=\"font-size:20px;\"><a class=\"ProveItLink\" href=\"../__pv_it/4d0f344b53b98c5986d368ba81a3794911d7888f0/expr.ipynb\"><img src=\"../__pv_it/4d0f344b53b98c5986d368ba81a3794911d7888f0/expr.png\" style=\"display:inline;vertical-align:middle;\" /></a> &#x22A2;&nbsp;<a class=\"ProveItLink\" href=\"../__pv_it/2a56b9febabad4e389b1536988d4a9f4ef5a8d700/expr.ipynb\"><img src=\"../__pv_it/2a56b9febabad4e389b1536988d4a9f4ef5a8d700/expr.png\" style=\"display:inline;vertical-align:middle;\" /></a></span></td></tr>\n",
       "</table>"
      ],
      "text/plain": [
       "\tstep type\trequirements\tstatement\n",
       "0\tspecialization\t1, 2, 3\t|= forall_{A, B in BOOLEANS | A <=> B} (A = B)\n",
       "\tP -> [A -> [forall_{B in BOOLEANS | A <=> B} (A = B)]]\n",
       "1\ttheorem\t\t|= forall_{P | P(TRUE) , P(FALSE)} [forall_{A in BOOLEANS} P(A)]\n",
       "\tproveit.logic.boolean.foldForallOverBool\n",
       "2\tspecialization\t4, 5, 6\t|= forall_{B in BOOLEANS | TRUE <=> B} (TRUE = B)\n",
       "\t{P -> [B -> (TRUE = B)]}, {Q -> [B -> (TRUE <=> B)]}, relabeling {A -> B}\n",
       "3\tgeneralizaton\t7\t|= forall_{B in BOOLEANS | FALSE <=> B} (FALSE = B)\n",
       "4\ttheorem\t\t|= forall_{P, Q | Q(TRUE) => P(TRUE) , Q(FALSE) => P(FALSE)} [forall_{A in BOOLEANS | Q(A)} P(A)]\n",
       "\tproveit.logic.boolean.foldConditionedForallOverBool\n",
       "5\thypothetical reasoning\t8\t|= (TRUE <=> TRUE) => (TRUE = TRUE)\n",
       "6\tspecialization\t9, 10\t|= (TRUE <=> FALSE) => (TRUE = FALSE)\n",
       "\t{A -> (TRUE <=> FALSE)}, {B -> (TRUE = FALSE)}\n",
       "7\tspecialization\t11, 12\t{B in BOOLEANS , FALSE <=> B} |= FALSE = B\n",
       "\t{x -> B}, {y -> FALSE}\n",
       "8\ttheorem\t\t|= TRUE = TRUE\n",
       "\tproveit.logic.boolean.trueEqTrue\n",
       "9\ttheorem\t\t|= forall_{A, B | [not](A)} (A => B)\n",
       "\tproveit.logic.boolean.implication.falseAntecedentImplication\n",
       "10\ttheorem\t\t|= [not](TRUE <=> FALSE)\n",
       "\tproveit.logic.boolean.implication.trueIffFalseNegated\n",
       "11\ttheorem\t\t|= forall_{x, y | x = y} (y = x)\n",
       "\tproveit.logic.equality.equalsReversal\n",
       "12\tspecialization\t13, 14\t{B in BOOLEANS , FALSE <=> B} |= B = FALSE\n",
       "\tA -> B\n",
       "13\taxiom\t\t|= forall_{A | [not](A)} (A = FALSE)\n",
       "\tproveit.logic.boolean.negation.negationElim\n",
       "14\tspecialization\t15, 16, 17\t{B in BOOLEANS , FALSE <=> B} |= [not](B)\n",
       "\tA -> B\n",
       "15\ttheorem\t\t|= forall_{A in BOOLEANS | A => FALSE} [not](A)\n",
       "\tproveit.logic.boolean.implication.denyViaContradiction\n",
       "16\tassumption\t\t{B in BOOLEANS} |= B in BOOLEANS\n",
       "17\tspecialization\t18, 19\t{FALSE <=> B} |= B => FALSE\n",
       "\t{A -> FALSE}, {B -> B}\n",
       "18\ttheorem\t\t|= forall_{A, B | A <=> B} (B => A)\n",
       "\tproveit.logic.boolean.implication.iffImpliesLeft\n",
       "19\tassumption\t\t{FALSE <=> B} |= FALSE <=> B"
      ]
     },
     "execution_count": 3,
     "metadata": {},
     "output_type": "execute_result"
    }
   ],
   "source": [
    "%qed"
   ]
  }
 ],
 "metadata": {
  "kernelspec": {
   "display_name": "Python 3",
   "language": "python",
   "name": "python3"
  },
  "language_info": {
   "codemirror_mode": {
    "name": "ipython",
    "version": 3
   },
   "file_extension": ".py",
   "mimetype": "text/x-python",
   "name": "python",
   "nbconvert_exporter": "python",
   "pygments_lexer": "ipython3",
   "version": "3.7.1"
  }
 },
 "nbformat": 4,
 "nbformat_minor": 1
}
