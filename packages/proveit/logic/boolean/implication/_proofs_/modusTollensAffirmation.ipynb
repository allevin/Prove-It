{
 "cells": [
  {
   "cell_type": "markdown",
   "metadata": {},
   "source": [
    "Proof of <a class=\"ProveItLink\" href=\"../../../../_context_.ipynb\">proveit</a>.<a class=\"ProveItLink\" href=\"../../../_context_.ipynb\">logic</a>.<a class=\"ProveItLink\" href=\"../../_context_.ipynb\">boolean</a>.<a class=\"ProveItLink\" href=\"../_context_.ipynb\">implication</a>.<a href=\"../_theorems_.ipynb#modusTollensAffirmation\" class=\"ProveItLink\">modusTollensAffirmation</a> theorem\n",
    "========"
   ]
  },
  {
   "cell_type": "code",
   "execution_count": 1,
   "metadata": {},
   "outputs": [],
   "source": [
    "import proveit\n",
    "from proveit import defaults\n",
    "from proveit._common_ import A, B\n",
    "from proveit.logic.boolean.negation._theorems_ import negationContradiction\n",
    "from proveit.logic import Not\n",
    "context = proveit.Context('..') # the theorem's context is in the parent directory"
   ]
  },
  {
   "cell_type": "code",
   "execution_count": 2,
   "metadata": {},
   "outputs": [
    {
     "name": "stdout",
     "output_type": "stream",
     "text": [
      "Beginning proof of modusTollensAffirmation\n",
      "Recorded 'presuming' information\n",
      "Presuming proveit.logic.boolean.negation.negationContradiction theorem (applied transitively).\n",
      "Presuming previous theorems (applied transitively).\n"
     ]
    },
    {
     "data": {
      "text/html": [
       "<strong id=\"modusTollensAffirmation\">modusTollensAffirmation:</strong> <a class=\"ProveItLink\" href=\"../__pv_it/1e53822dd2e5906bb78831332efe5d682d4a6abe0/expr.ipynb\"><img src=\"data:image/png;base64,iVBORw0KGgoAAAANSUhEUgAAAOoAAAAZBAMAAADNvK/KAAAAMFBMVEX///8QEBC6urrMzMxUVFRm\n",
       "ZmZERETc3NwyMjKqqqp2dnaIiIiYmJgiIiLu7u4AAAAU9Wx4AAAAAXRSTlMAQObYZgAAAyZJREFU\n",
       "SMfFlk9IFFEcx7/u7O64O+ModAmiWEK6FLkHD0EHlzLrlpATBBVWOAZRzkHc/qDtRSQPuYcMog5L\n",
       "B7NLTFAnhbZD0R+KDbKgMvZQIVkWiloY1vszO+9t665FKz2YN++9me/7/N77/d4foGQKjr9EuZNv\n",
       "/NUyf1RhJVLnf6Jml6EaK0LN0Nfj4lQ2Wt0pF1DJMOp1Wj5fnBpOkldltlzUyq+M2kVytbU4lX3r\n",
       "KtvkPllkVDqMQLJENNF52FcuqDo4z6j6tXi8u1QMP4rH45lyUTVtmq+cOct6VYpabVnHU0tYHZUq\n",
       "oT+lbg794NTtQDtr6Vua6o8iaAMXZ80mBvLxL6fFT31QZLNCHWbLEVH1hCQZEWWBU2thJNjqmOZf\n",
       "9P7+3rRE9cUwQZtroNWwTZJ/EQFIhVdlU+8CN0XNEzKL1VlOrYLGIO/p2CfN/XBSk+vlvSmDUZIH\n",
       "YvDNC2pIrGAqnJCpLUCd7dU8IUn1jY1znKqlq9hqvDFGyod7pgg1/EmmjuItLTkIZAQ1KLqlQj+f\n",
       "w0ssfw0ckJyUE5IUAVZzqpGoZ5uGYwH3aMlJbTwoUyeUGMm/RPHAFtQKsdtQoeYIW4wZ6FKMeEIe\n",
       "dM/c3b99G23xU/uYgx1zrexXBDuJiagbuXUCgrrF65UJifP3WpZ1dBV13sJIk7SXeULgFHkGXOog\n",
       "G/9D3HFD0UkFtsrUEJuuYRIlWUGtBYYIJsGFUBKuE/cA4QT0daQcpmZIQh61HVlOraCzY4yZHVnl\n",
       "hWUdo34N5510a2jWRuYqKagXcpHMhB5VabMRbIbxPXcrkITqoW827v/s5VSdWhKw0RA1Ynysv1Gf\n",
       "0oz0UxcV1A05KhPC14rbJkk7SFt1Er4ZQfWES5zqm8jfaex0Z/hMwamuLkIdk/z6OUflQj2FKZI+\n",
       "0mk7m0V3M066oSeEhdR3c1B3v8GHCNslrHQBdXjW3JWUqHy1IeoKAxG+Hqk7B8yWc0AD60ORhMVv\n",
       "MEPEr8vcYDhVy++pkr96pKZ0We9NnGrkH8mXCy8N9gpQcSWvMVbwm/4vd8TC+7Df7VWOy/Df3HB8\n",
       "489/ATf442jejRCQAAAAAElFTkSuQmCC\n",
       "\" style=\"display:inline;vertical-align:middle;\" /></a><br>(see <a class=\"ProveItLink\" href=\"../__pv_it/1e53822dd2e5906bb78831332efe5d682d4a6abe0/dependencies.ipynb\">dependencies</a>)<br>"
      ],
      "text/plain": [
       "modusTollensAffirmation: forall_{A in BOOLEANS} [forall_{B | [not](A) => B , [not](B)} A]"
      ]
     },
     "execution_count": 2,
     "metadata": {},
     "output_type": "execute_result"
    }
   ],
   "source": [
    "%proving modusTollensAffirmation presuming [negationContradiction]"
   ]
  },
  {
   "cell_type": "code",
   "execution_count": 3,
   "metadata": {},
   "outputs": [
    {
     "data": {
      "text/html": [
       "<strong id=\"defaults.assumptions\">defaults.assumptions:</strong> <a class=\"ProveItLink\" href=\"../__pv_it/90bf6fd840215d834a26377cde6f3b325846ac030/expr.ipynb\"><img src=\"data:image/png;base64,iVBORw0KGgoAAAANSUhEUgAAANMAAAAVBAMAAAAumMZDAAAAMFBMVEX////c3NwiIiJERESqqqqY\n",
       "mJh2dnZmZmYQEBDu7u4yMjJUVFTMzMyIiIi6uroAAAAs73DqAAAAAXRSTlMAQObYZgAAAqVJREFU\n",
       "SMe9VTFoFEEU/evd3t2eu+eBVlp4nI1o4QoJSJpcbeOBYKGg11kJwSKVYohpLIyHhYQDzaqckiY5\n",
       "QQuzSJZUQoq7wlLJnkUIsYmIihc0zsyf2ZnZXYxn4cDt/Xn//XmzM29mAf5jK/X+gWOGQ6pcpo81\n",
       "jFf1VG5pbDA9InprWo5Sb6SNd2nX98fCVCwfkHgBoaVYWabUaz1o8M6ClqLUYurcbwPkf6VjHoCD\n",
       "a2OeaiaknNDD2NHWj1HNhgSiSvsn+e3o4wjsAkABiYdulTH18En1BJfK1l8jVtCmwajWlASid3Y+\n",
       "kzl806UENgewhUhvHdfYbjflW/VdjLe0YqSOSOBTtBJEf9+d2OpwLFODSbRY81ydBQebcgFXz/PO\n",
       "pOZGpF5VLCTW90AHjKexjRBYbgLaDHgEXeSflntV3b3L47Zay6lnaZyvsvadp7pvPlyvx1whsKwH\n",
       "swwI4egE/bdc1RbveG9WDNqQ1E1luOwi/q+XwTqJYcQXWGkKmDdt319hw5amCUHYAtwNrBP+tTuS\n",
       "2lWn3sIJn6FyymtRvsDsbRymRFzmiWT0VuBmklKCqkrZz3CDqM+vNHQpgRGpGYrViEuYe61KmtSM\n",
       "Uiqom8peHUMl+yt5rNQ0qQgjCzhKQoOExW2WfaVJbYBF41FZGlEvKlvVkUfIGADWcL7AwPSYaVt0\n",
       "6B8sez+UUuZNF+YrqrEDSVXMflg5Qm/JeZ6vSL7AqNk/krN07zGY4wNmQeN5IK7bL8dfkkNOZkU5\n",
       "vEnqopTiByQ/vuMv03PBamIYFEMolPVzkF1GB4rWpxdTOXGxqhdTEE/2U27iOf3eTGvUuymcXG+P\n",
       "mni7lvhApJclOS0YTsqiB+TIH5Uc9kxyXuxZo7f9dA+Mv/jgJzhOMOQH/z3Ab3xe1XbIzSyeAAAA\n",
       "AElFTkSuQmCC\n",
       "\" style=\"display:inline;vertical-align:middle;\" /></a><br>"
      ],
      "text/plain": [
       "defaults.assumptions: (A in BOOLEANS , [not](A) => B , [not](B))"
      ]
     },
     "execution_count": 3,
     "metadata": {},
     "output_type": "execute_result"
    }
   ],
   "source": [
    "defaults.assumptions = modusTollensAffirmation.allConditions()"
   ]
  },
  {
   "cell_type": "code",
   "execution_count": 4,
   "metadata": {},
   "outputs": [
    {
     "data": {
      "text/html": [
       "<span style=\"font-size:20px;\"> <a class=\"ProveItLink\" href=\"../../negation/_proofs_/negationContradiction.ipynb\" style=\"text-decoration: none\">&#x22A2;&nbsp;</a><a class=\"ProveItLink\" href=\"../../negation/__pv_it/8d34e69910011169cb519166c0f9ff6f4dda77a60/expr.ipynb\"><img src=\"data:image/png;base64,iVBORw0KGgoAAAANSUhEUgAAAGsAAAAWBAMAAAA1LX8gAAAAMFBMVEX///8QEBC6urrMzMxUVFRm\n",
       "ZmZERETc3NwyMjKqqqp2dnaIiIiYmJgiIiLu7u4AAAAU9Wx4AAAAAXRSTlMAQObYZgAAATlJREFU\n",
       "OMtjeMBAFrgAIk6ToIF9A4hcCSL6SNDGHAAiy0AGJJCsjQPoOdYJJGvjWV5eXstAsjaGb2lpt8jQ\n",
       "5szAkA5mtINJJpg0RwGyYgQPqk2Fga8B7NpPYC4bTPq8ArI2BA+qjZeB+wCIfvoHRRtf/AEkXUg8\n",
       "qDbuA7zglLLuKoo2rrcBSNqQeFBtfA0mYN6GNBRt1mzIkYnEg2pjSHcCkSwMsSjaHFgvIGlD4sG0\n",
       "TQWLnGTYj6yNZwL3B5Dj0tLSMuA8FG2MoLTJdzU0/wGStrehYf+g6tiQeKx3796VvXsX5GIekHLW\n",
       "AgZ7AyRt4QzMnxHakHioQIeBgf8AQhsTkP2HoaIAIgLhYQFPvjGw+9+Ba+PzT2Ao+XvAHmwQM5SH\n",
       "N8mxIXMOEJ1SkbUxF5CljYf4fMFClCoA83FQjMq6UisAAAAASUVORK5CYII=\n",
       "\" style=\"display:inline;vertical-align:middle;\" /></a></span>"
      ],
      "text/plain": [
       "|- forall_{A | A , [not](A)} FALSE"
      ]
     },
     "execution_count": 4,
     "metadata": {},
     "output_type": "execute_result"
    }
   ],
   "source": [
    "negationContradiction"
   ]
  },
  {
   "cell_type": "markdown",
   "metadata": {},
   "source": [
    "*** Our proof relies on the negationContradiction theorem with A mapping to B that is applied via the affirmViaContradiction method. ***"
   ]
  },
  {
   "cell_type": "code",
   "execution_count": 5,
   "metadata": {},
   "outputs": [
    {
     "data": {
      "text/html": [
       "<span style=\"font-size:20px;\"><a class=\"ProveItLink\" href=\"../__pv_it/85b1cdeb86db7d628ede85f6620f781dcfe371ae0/expr.ipynb\"><img src=\"data:image/png;base64,iVBORw0KGgoAAAANSUhEUgAAANkAAAAVBAMAAAA5ulaKAAAAMFBMVEX///9ERETc3NyqqqpUVFS6\n",
       "urrMzMwyMjIQEBCIiIh2dnYiIiLu7u5mZmaYmJgAAABJJ2g3AAAAAXRSTlMAQObYZgAAAqZJREFU\n",
       "SMe9Vj1oFEEUnr3bn+w5t15nwIArFsHKEwQrwwnbe2WCFhYHscs1YkAlwb80AWNh5ApRsFCDhRaC\n",
       "ZiFZOyGNNloIehY2/pBET/xPnP95M7fRi4ULuzfzve/N9+btm7eHEIpeov9w+XMx/cHzvZBHbODN\n",
       "puXO0me4ImZ3TevN1Ynxe1VJrRmOhFo+mrNidKiTHDy+AfaczkqTHA1WLNfKCD41J8ZBBi2M2szb\n",
       "QF8FoVf1fOwWVHv3s0sNXQ7EuGVYGPWtnmM1Gpshd81cR2JQrXDgo3C9kqZNoTbkij1NQ3dOfQz2\n",
       "qnZ+jZTC8nVTTWJQLQw/c+Poe7C3nXzoGWnjVKeqAE/tpp/cDzJTTWJQ7UhxjQc+oDPpL4hJ2QiX\n",
       "U0tPNHJbDjoIDQ5Yb0RiTK3M4sZ1/xuzObFSO7z4dUakqg28BbXI/F6k9FoUyn6ndXXBrnyJLdPH\n",
       "MVZCHir8YsZHsEpae0VZ1cW685rqTYIl9/M6DMkLXRJplXyFBSSkxgVmayTJKhsMU5KsEsfjKdwq\n",
       "i7qhqT48MXicMRwSQbgG8AbEtpEMDbNjSshTaj21NwdVutUE1VAbvcN5ZA/Rd1NNYVto5C7dSJHW\n",
       "DbMv5an1VbW3pPJM8veWisoYI9G7n0w1hbH3VqIdaxe5J5jdbUM1kklaz05be0tqBE7FPnC09hA8\n",
       "A2oS0ycA09kOxsH3gdqHSwj/gNXuayo4AYWmPlr+VMZ9BF9iWq3Q/yVGr9dPM8LgM9WVt5+rInyR\n",
       "xOapjq2pgW6H8tQ8XU+SEyQNzAeZmNUndVpOprB1eNTzTHcDBp3Lt21enNOx89XsrwgyW3BX/9jI\n",
       "J1ct6kUtyGwYNzerxr5v+OGf1VjzKtRs2I3/5mN3sPM8kBs9fOd328Dsv/wv+Q1EcdXmzxEUQgAA\n",
       "AABJRU5ErkJggg==\n",
       "\" style=\"display:inline;vertical-align:middle;\" /></a> <a class=\"ProveItLink\" href=\"../__pv_it/96a89a27f1913aa7673f2b9e189355054401c43c0/proof.ipynb\" style=\"text-decoration: none\">&#x22A2;&nbsp;</a><a class=\"ProveItLink\" href=\"../../../../__pv_it/2cbe72a7ad6f655694dd697106680215e8489b600/expr.ipynb\"><img src=\"data:image/png;base64,iVBORw0KGgoAAAANSUhEUgAAAA8AAAAOBAMAAAACpFvcAAAALVBMVEX///8QEBBERERUVFS6urqI\n",
       "iIhmZmaqqqrc3Nzu7u6YmJgyMjIiIiLMzMwAAADtIaYWAAAAAXRSTlMAQObYZgAAAFtJREFUCNdj\n",
       "YACBOwxQsA9Kc52bAGG05zVAGAFxDmCaZULdAjBjCsO9ADDDgaEvAUTzGhvbKYCVMDAwbgAxChgY\n",
       "eASANAeQwf0AyJgNxEwvGRia5HYwcOm9TgAA6BoR3jrzwFcAAAAASUVORK5CYII=\n",
       "\" style=\"display:inline;vertical-align:middle;\" /></a></span>"
      ],
      "text/plain": [
       "{A in BOOLEANS , [not](A) => B , [not](B)} |- A"
      ]
     },
     "execution_count": 5,
     "metadata": {},
     "output_type": "execute_result"
    }
   ],
   "source": [
    "# Prove A via the contradition, under the assumptions, \n",
    "# of B and Not(B) simultaneously being true when A is false.\n",
    "Not(B).affirmViaContradiction(A)"
   ]
  },
  {
   "cell_type": "code",
   "execution_count": 6,
   "metadata": {},
   "outputs": [
    {
     "data": {
      "text/html": [
       "<span style=\"font-size:20px;\"><a class=\"ProveItLink\" href=\"../__pv_it/e1ec6e905e7086c87d245d70e2267541ab5283040/expr.ipynb\"><img src=\"data:image/png;base64,iVBORw0KGgoAAAANSUhEUgAAAEsAAAAVBAMAAAD85A5eAAAAMFBMVEX////c3NxERESqqqpUVFS6\n",
       "urrMzMwyMjIQEBCIiIh2dnYiIiLu7u5mZmaYmJgAAABXZE4RAAAAAXRSTlMAQObYZgAAAQdJREFU\n",
       "KM9jYGDgu8eAD7CtEgBRPLsY8AO2ZhDJ+QEhwuf/xcWpFJ1zHcTjakDSyaHAwHA/AI2zAkNZ/gQg\n",
       "dkDjYCqbD3Tu+wVoHExlGkC84wAaB1PZFwYGcR10DlgZbwGS37/MnLsPg/MeRGQA/XJ7NxAAw4/z\n",
       "IwPDaZgP4Bz2CwwMKW0w3SkMDExAB3D+g/IRHPUHDAwRCQhl/EDNfL+gfDiHG+R1lgKEsnygNpbP\n",
       "sGCDccBu49qAUAYKKXmgtgOwYANx0AKEDRxSbO0HGHh+Q4MNxMEMt0v/XVzKgVbx9AsgONiCFwpY\n",
       "BZB5OJXxMWAo4yOoDJzeeHZiKpuAknpbIVoXE84LAP8/W9bhPsx4AAAAAElFTkSuQmCC\n",
       "\" style=\"display:inline;vertical-align:middle;\" /></a> <a class=\"ProveItLink\" href=\"../__pv_it/b0ffaefd7198fb10727e9db0e4a70e70aa56de650/proof.ipynb\" style=\"text-decoration: none\">&#x22A2;&nbsp;</a><a class=\"ProveItLink\" href=\"../../__pv_it/8f1f7fac882de28c72b62ab80a1700b6d8fd066b0/expr.ipynb\"><img src=\"data:image/png;base64,iVBORw0KGgoAAAANSUhEUgAAAA4AAAAOBAMAAADtZjDiAAAAG1BMVEX///9EREQQEBAiIiJmZmbM\n",
       "zMyIiIjc3NwAAACryk5kAAAAAXRSTlMAQObYZgAAABlJREFUCNdjYGBgKGOAgBBa0s7GxkbGxoYA\n",
       "FMUF2aBfHgoAAAAASUVORK5CYII=\n",
       "\" style=\"display:inline;vertical-align:middle;\" /></a></span>"
      ],
      "text/plain": [
       "{[not](B) , B} |- FALSE"
      ]
     },
     "execution_count": 6,
     "metadata": {},
     "output_type": "execute_result"
    }
   ],
   "source": [
    "Not(B).deriveContradiction(defaults.assumptions+(B,))"
   ]
  },
  {
   "cell_type": "code",
   "execution_count": 7,
   "metadata": {},
   "outputs": [
    {
     "data": {
      "text/html": [
       "<table><tr><th>&nbsp;</th><th>step type</th><th>requirements</th><th>statement</th></tr>\n",
       "<tr><td>0</td><td>generalizaton</td><td>1</td><td><span style=\"font-size:20px;\"> <a class=\"ProveItLink\" href=\"../__pv_it/d52df3c44396e5ff674594f244dacaa878e897bc0/proof.ipynb\" style=\"text-decoration: none\">&#x22A2;&nbsp;</a><a class=\"ProveItLink\" href=\"../__pv_it/1e53822dd2e5906bb78831332efe5d682d4a6abe0/expr.ipynb\"><img src=\"data:image/png;base64,iVBORw0KGgoAAAANSUhEUgAAAOoAAAAZBAMAAADNvK/KAAAAMFBMVEX///8QEBC6urrMzMxUVFRm\n",
       "ZmZERETc3NwyMjKqqqp2dnaIiIiYmJgiIiLu7u4AAAAU9Wx4AAAAAXRSTlMAQObYZgAAAyZJREFU\n",
       "SMfFlk9IFFEcx7/u7O64O+ModAmiWEK6FLkHD0EHlzLrlpATBBVWOAZRzkHc/qDtRSQPuYcMog5L\n",
       "B7NLTFAnhbZD0R+KDbKgMvZQIVkWiloY1vszO+9t665FKz2YN++9me/7/N77/d4foGQKjr9EuZNv\n",
       "/NUyf1RhJVLnf6Jml6EaK0LN0Nfj4lQ2Wt0pF1DJMOp1Wj5fnBpOkldltlzUyq+M2kVytbU4lX3r\n",
       "KtvkPllkVDqMQLJENNF52FcuqDo4z6j6tXi8u1QMP4rH45lyUTVtmq+cOct6VYpabVnHU0tYHZUq\n",
       "oT+lbg794NTtQDtr6Vua6o8iaAMXZ80mBvLxL6fFT31QZLNCHWbLEVH1hCQZEWWBU2thJNjqmOZf\n",
       "9P7+3rRE9cUwQZtroNWwTZJ/EQFIhVdlU+8CN0XNEzKL1VlOrYLGIO/p2CfN/XBSk+vlvSmDUZIH\n",
       "YvDNC2pIrGAqnJCpLUCd7dU8IUn1jY1znKqlq9hqvDFGyod7pgg1/EmmjuItLTkIZAQ1KLqlQj+f\n",
       "w0ssfw0ckJyUE5IUAVZzqpGoZ5uGYwH3aMlJbTwoUyeUGMm/RPHAFtQKsdtQoeYIW4wZ6FKMeEIe\n",
       "dM/c3b99G23xU/uYgx1zrexXBDuJiagbuXUCgrrF65UJifP3WpZ1dBV13sJIk7SXeULgFHkGXOog\n",
       "G/9D3HFD0UkFtsrUEJuuYRIlWUGtBYYIJsGFUBKuE/cA4QT0daQcpmZIQh61HVlOraCzY4yZHVnl\n",
       "hWUdo34N5510a2jWRuYqKagXcpHMhB5VabMRbIbxPXcrkITqoW827v/s5VSdWhKw0RA1Ynysv1Gf\n",
       "0oz0UxcV1A05KhPC14rbJkk7SFt1Er4ZQfWES5zqm8jfaex0Z/hMwamuLkIdk/z6OUflQj2FKZI+\n",
       "0mk7m0V3M066oSeEhdR3c1B3v8GHCNslrHQBdXjW3JWUqHy1IeoKAxG+Hqk7B8yWc0AD60ORhMVv\n",
       "MEPEr8vcYDhVy++pkr96pKZ0We9NnGrkH8mXCy8N9gpQcSWvMVbwm/4vd8TC+7Df7VWOy/Df3HB8\n",
       "489/ATf442jejRCQAAAAAElFTkSuQmCC\n",
       "\" style=\"display:inline;vertical-align:middle;\" /></a></span></td></tr>\n",
       "<tr><td>1</td><td>specialization</td><td>2, 3, 4</td><td><span style=\"font-size:20px;\"><a class=\"ProveItLink\" href=\"../__pv_it/85b1cdeb86db7d628ede85f6620f781dcfe371ae0/expr.ipynb\"><img src=\"data:image/png;base64,iVBORw0KGgoAAAANSUhEUgAAANkAAAAVBAMAAAA5ulaKAAAAMFBMVEX///9ERETc3NyqqqpUVFS6\n",
       "urrMzMwyMjIQEBCIiIh2dnYiIiLu7u5mZmaYmJgAAABJJ2g3AAAAAXRSTlMAQObYZgAAAqZJREFU\n",
       "SMe9Vj1oFEEUnr3bn+w5t15nwIArFsHKEwQrwwnbe2WCFhYHscs1YkAlwb80AWNh5ApRsFCDhRaC\n",
       "ZiFZOyGNNloIehY2/pBET/xPnP95M7fRi4ULuzfzve/N9+btm7eHEIpeov9w+XMx/cHzvZBHbODN\n",
       "puXO0me4ImZ3TevN1Ynxe1VJrRmOhFo+mrNidKiTHDy+AfaczkqTHA1WLNfKCD41J8ZBBi2M2szb\n",
       "QF8FoVf1fOwWVHv3s0sNXQ7EuGVYGPWtnmM1Gpshd81cR2JQrXDgo3C9kqZNoTbkij1NQ3dOfQz2\n",
       "qnZ+jZTC8nVTTWJQLQw/c+Poe7C3nXzoGWnjVKeqAE/tpp/cDzJTTWJQ7UhxjQc+oDPpL4hJ2QiX\n",
       "U0tPNHJbDjoIDQ5Yb0RiTK3M4sZ1/xuzObFSO7z4dUakqg28BbXI/F6k9FoUyn6ndXXBrnyJLdPH\n",
       "MVZCHir8YsZHsEpae0VZ1cW685rqTYIl9/M6DMkLXRJplXyFBSSkxgVmayTJKhsMU5KsEsfjKdwq\n",
       "i7qhqT48MXicMRwSQbgG8AbEtpEMDbNjSshTaj21NwdVutUE1VAbvcN5ZA/Rd1NNYVto5C7dSJHW\n",
       "DbMv5an1VbW3pPJM8veWisoYI9G7n0w1hbH3VqIdaxe5J5jdbUM1kklaz05be0tqBE7FPnC09hA8\n",
       "A2oS0ycA09kOxsH3gdqHSwj/gNXuayo4AYWmPlr+VMZ9BF9iWq3Q/yVGr9dPM8LgM9WVt5+rInyR\n",
       "xOapjq2pgW6H8tQ8XU+SEyQNzAeZmNUndVpOprB1eNTzTHcDBp3Lt21enNOx89XsrwgyW3BX/9jI\n",
       "J1ct6kUtyGwYNzerxr5v+OGf1VjzKtRs2I3/5mN3sPM8kBs9fOd328Dsv/wv+Q1EcdXmzxEUQgAA\n",
       "AABJRU5ErkJggg==\n",
       "\" style=\"display:inline;vertical-align:middle;\" /></a> <a class=\"ProveItLink\" href=\"../__pv_it/96a89a27f1913aa7673f2b9e189355054401c43c0/proof.ipynb\" style=\"text-decoration: none\">&#x22A2;&nbsp;</a><a class=\"ProveItLink\" href=\"../../../../__pv_it/2cbe72a7ad6f655694dd697106680215e8489b600/expr.ipynb\"><img src=\"data:image/png;base64,iVBORw0KGgoAAAANSUhEUgAAAA8AAAAOBAMAAAACpFvcAAAALVBMVEX///8QEBBERERUVFS6urqI\n",
       "iIhmZmaqqqrc3Nzu7u6YmJgyMjIiIiLMzMwAAADtIaYWAAAAAXRSTlMAQObYZgAAAFtJREFUCNdj\n",
       "YACBOwxQsA9Kc52bAGG05zVAGAFxDmCaZULdAjBjCsO9ADDDgaEvAUTzGhvbKYCVMDAwbgAxChgY\n",
       "eASANAeQwf0AyJgNxEwvGRia5HYwcOm9TgAA6BoR3jrzwFcAAAAASUVORK5CYII=\n",
       "\" style=\"display:inline;vertical-align:middle;\" /></a></span></td></tr>\n",
       "<tr><td>&nbsp;</td><td colspan=4 style=\"text-align:left\"><span style=\"font-size:20px;\"><a class=\"ProveItLink\" href=\"../../../../__pv_it/2cbe72a7ad6f655694dd697106680215e8489b600/expr.ipynb\"><img src=\"data:image/png;base64,iVBORw0KGgoAAAANSUhEUgAAAA8AAAAOBAMAAAACpFvcAAAALVBMVEX///8QEBBERERUVFS6urqI\n",
       "iIhmZmaqqqrc3Nzu7u6YmJgyMjIiIiLMzMwAAADtIaYWAAAAAXRSTlMAQObYZgAAAFtJREFUCNdj\n",
       "YACBOwxQsA9Kc52bAGG05zVAGAFxDmCaZULdAjBjCsO9ADDDgaEvAUTzGhvbKYCVMDAwbgAxChgY\n",
       "eASANAeQwf0AyJgNxEwvGRia5HYwcOm9TgAA6BoR3jrzwFcAAAAASUVORK5CYII=\n",
       "\" style=\"display:inline;vertical-align:middle;\" /></a> : <a class=\"ProveItLink\" href=\"../../../../__pv_it/2cbe72a7ad6f655694dd697106680215e8489b600/expr.ipynb\"><img src=\"data:image/png;base64,iVBORw0KGgoAAAANSUhEUgAAAA8AAAAOBAMAAAACpFvcAAAALVBMVEX///8QEBBERERUVFS6urqI\n",
       "iIhmZmaqqqrc3Nzu7u6YmJgyMjIiIiLMzMwAAADtIaYWAAAAAXRSTlMAQObYZgAAAFtJREFUCNdj\n",
       "YACBOwxQsA9Kc52bAGG05zVAGAFxDmCaZULdAjBjCsO9ADDDgaEvAUTzGhvbKYCVMDAwbgAxChgY\n",
       "eASANAeQwf0AyJgNxEwvGRia5HYwcOm9TgAA6BoR3jrzwFcAAAAASUVORK5CYII=\n",
       "\" style=\"display:inline;vertical-align:middle;\" /></a></span></td></tr><tr><td>2</td><td>theorem</td><td></td><td><span style=\"font-size:20px;\"> <a class=\"ProveItLink\" href=\"affirmViaContradiction.ipynb\" style=\"text-decoration: none\">&#x22A2;&nbsp;</a><a class=\"ProveItLink\" href=\"../__pv_it/6e067bbf01a47ec3fdb8c87f2276ede1c4a744140/expr.ipynb\"><img src=\"data:image/png;base64,iVBORw0KGgoAAAANSUhEUgAAAJkAAAAWBAMAAAAhlCOEAAAAMFBMVEX///8QEBC6urrMzMxUVFRm\n",
       "ZmZERETc3NwyMjKqqqp2dnaIiIiYmJgiIiLu7u4AAAAU9Wx4AAAAAXRSTlMAQObYZgAAAh1JREFU\n",
       "OMtjeMBATXABRJymhkm2QLwSxOijhmn9QFwGxOwJVDCM5z4w0DiAmHUCFUyrjC8AGrm8vLyWGh7d\n",
       "sF8BSH5LS7uFV1kxMgenL5gezD8ApJwZGNLB/HZ0BQpgkn0BXICjgMEKl2mPGOw3ACkVBr4GcCh+\n",
       "goZmV1frATALEjdsCB3nFRi4FJCNSEC2uj4ASPEycIM1P/0DJF6HxjBsWPBaCUntbLgGvvgDUJsx\n",
       "TWN2cfEH8bgP8ILzw7qrQHZS3TugaVxvkNSmw3VwvQ0ABwwQzEQ3jYmBgRFkEV+DCdjwDWkMDEfB\n",
       "kbNAOw5JrQBchzUbUGQ3xPsFaKYBY4cXrDLdCUSyMMQyMIC9sSFUFincmBFec2C9AArmsLS0tAxh\n",
       "VNPYgaZxfACxpoKz6kmG/QzMCyBuY7VGqGVyYOACaQdGzwRuoHoLiHbWYBTTXoDc+w/EYgTFLN/V\n",
       "0PwHzNfS0rJB4caFMI3TARazb0PD/sFNY04tQDKtTL6dgSf/ByhSeUCRwFrAYG/A5wBxG7JpTPB0\n",
       "Es7A/JmBQY1haygQuKKnEBSgw8DAf4DBHerTaoRavgtQ05iAgQlMRKcY3gHBqw34THvyjYHd/w7D\n",
       "MwVw6k1DTr33ID7jAyankr8HGILAXFAyYE1LE0vLwpcnlwHDDS1t7kRVAYniOtJLBYhpz1DEODeQ\n",
       "W8ZATOM8gCzGQnaJBUkbDIeRxdbh1QEAkzCKhUZAJ2AAAAAASUVORK5CYII=\n",
       "\" style=\"display:inline;vertical-align:middle;\" /></a></span></td></tr>\n",
       "<tr><td>&nbsp;</td><td colspan=4 style-\"text-align:left\"><a class=\"ProveItLink\" href=\"affirmViaContradiction.ipynb\">proveit.logic.boolean.implication.affirmViaContradiction</a></td></tr><tr><td>3</td><td>assumption</td><td></td><td><span style=\"font-size:20px;\"><a class=\"ProveItLink\" href=\"../__pv_it/3612ec1dc3b8c98c2193921a926214e0c20eaba70/expr.ipynb\"><img src=\"data:image/png;base64,iVBORw0KGgoAAAANSUhEUgAAAEkAAAAVBAMAAAD4Ed5jAAAAMFBMVEX///9ERETc3NyqqqpUVFS6\n",
       "urrMzMwyMjIQEBCIiIh2dnYiIiLu7u5mZmaYmJgAAABJJ2g3AAAAAXRSTlMAQObYZgAAAS5JREFU\n",
       "KM9jYGDgu8eAB7CtUgBRPLsY8AK2ZhDJ+QHK24Aqu/xjfcVGAyDjOojH1QARZf+AZohAJE/NKiC9\n",
       "AlnV6z8YqhimsqOpYrL9BJHkmb57dwFUlR3LAVRVnJxfIarS3yCZpYhmVgzzP4iZMggb2fbJwFTx\n",
       "go3nCWD7CZZjVICrit7/YwKQfg/iZASASFYGpr9guYPIrp9pCPL8BQaGlDawUIqLy0cwI2L3boTr\n",
       "GVkXABniD4DCCSAhoIHtEOXIZjEyCDAwcINUsoA0MgPxDrDcaQxVYHdxgWJGGYjrwXIsD5BVgWyE\n",
       "hwQPyDz5A2DPbkVS9XYiUngxSXxXYHj4vxYsqX4NHtvSLQbo8QgHJtUQP8IAdlXoAKyKj5AqcPri\n",
       "2UkgrbaCKb7FBNM9AKQsUzxrU6Y9AAAAAElFTkSuQmCC\n",
       "\" style=\"display:inline;vertical-align:middle;\" /></a> <a class=\"ProveItLink\" href=\"../__pv_it/dc2523262ffa0ce1920b871c7f702fb73e741c290/proof.ipynb\" style=\"text-decoration: none\">&#x22A2;&nbsp;</a><a class=\"ProveItLink\" href=\"../__pv_it/18d84e6b10643c76412edd0e67904c254c981c030/expr.ipynb\"><img src=\"data:image/png;base64,iVBORw0KGgoAAAANSUhEUgAAADYAAAAPBAMAAABdHiGLAAAAMFBMVEX///92dnYQEBBERERUVFS6\n",
       "urqIiIhmZmaqqqrc3Nzu7u6YmJgyMjIiIiLMzMwAAACFkkdwAAAAAXRSTlMAQObYZgAAANJJREFU\n",
       "GNNjYACBtwwogPG8zR9dCyjnPKocAzNrwpqFAmAm9/0FGHJsAQfAzBn1EyBiy87evQOV49jgBRZK\n",
       "yA8A03ynFyD0RRqAWKwL+jeAhSYvQJj5djOYs5ThfQJYyBJh393/amBWAMP8AhDNZYDslgwQj8/F\n",
       "xR9itu7du3C3MBgEgoQYGJjA7uVzQNLHYMAMZDQwMPAqgM28gC7HCZTj+QAW8kaRA5q5BsT+BRZa\n",
       "G4CQ4y4zYJisf5KB2/4P2KGcxx/AwvrzJQ+0MObwgbgTAgCMvTlc/0QYTQAAAABJRU5ErkJggg==\n",
       "\" style=\"display:inline;vertical-align:middle;\" /></a></span></td></tr>\n",
       "<tr><td>4</td><td>hypothetical reasoning</td><td>5</td><td><span style=\"font-size:20px;\"><a class=\"ProveItLink\" href=\"../__pv_it/235b2293bbcc8bd57edc173dc8c8939d90c2da3b0/expr.ipynb\"><img src=\"data:image/png;base64,iVBORw0KGgoAAAANSUhEUgAAAJkAAAAVBAMAAACnAFEqAAAAMFBMVEX////c3NxERESqqqpUVFS6\n",
       "urrMzMwyMjIQEBCIiIh2dnYiIiLu7u5mZmaYmJgAAABXZE4RAAAAAXRSTlMAQObYZgAAAgJJREFU\n",
       "OMtjYGDgu8dABcC2SgBE8ewCkZHosk9JNq4ZRHJ+ADEdUCQ2MDDwJmDRwef/xcWpFIfYdRCPqwFI\n",
       "sB9AVsAOsqAAmwM4FBgY7gdgF1sBN20mivzrP0DiFYLPA2flTwBiB1TTYGII03qQpRltPwLJE0hu\n",
       "hbt8PjCo3y9ANQ0mBjeNFcVbnJxfgSSTAVyAFe4aDSDecQDVNJgY3DReFOtimP+BxC8gRFbCGF8Y\n",
       "GMR10MISJgY2jRfoLvYHSLI8AWw/gRQz2L23d4PAfqjJbF9mzt2HnjJgYu9BRAYwOjgCoPpAaY+V\n",
       "gfEviGpA0mIOiUdOYICehnobph4uxg60MqUNyOCHRXoKCLu4fALZ+QHZvRVgFUxAGzj/IYmnIIup\n",
       "A30YkYBmGpDdjm5a+howxQ90A98vVNPgYtygwGcBhg+HAUKWGRRFcJ9Cwm03NOTzgbazfEY1DS4G\n",
       "DjcuYDZieoCQFQZS9aAcg5RqTJCSljxQ/ACSaTAxRAqBpwY2Bh6QhP4BlBTCWIBIWmztBxh4fsMj\n",
       "FC6GnHo3wDVqfBdgePS/FhhFiOzIJAChL/13cSkHeoOnXwAuBxNDzlmNmBkcKWexocuxCmApERCm\n",
       "vcKUXImnLONjwGUaH2aJBE5hBaSaBi7feHaCgssBXY5FAI9pE7CVva0QixYDCUl0yWnk1AsA/uyb\n",
       "4dOozOkAAAAASUVORK5CYII=\n",
       "\" style=\"display:inline;vertical-align:middle;\" /></a> <a class=\"ProveItLink\" href=\"../__pv_it/a3f09920022366e4f24a0373170bc892e865c4760/proof.ipynb\" style=\"text-decoration: none\">&#x22A2;&nbsp;</a><a class=\"ProveItLink\" href=\"../__pv_it/a87cb314a77b2b28d63a43f1f29e83e334a545040/expr.ipynb\"><img src=\"data:image/png;base64,iVBORw0KGgoAAAANSUhEUgAAAFsAAAAVBAMAAADbSo+2AAAAMFBMVEX////c3NwiIiJERESqqqqY\n",
       "mJh2dnZmZmYQEBDu7u4yMjJUVFTMzMyIiIi6uroAAAAs73DqAAAAAXRSTlMAQObYZgAAASNJREFU\n",
       "KM9jYCAR8F1AE2B9gE/5aRTeISCuwaqOEWLsShTB9UDMhVU5TwGI5EVxC6v+BCCRAOdzoivnmICs\n",
       "XKReAKimAc7nmoCm/BWKjRfug/xpggiHDWjKy1BCaYJ/AJBKR4jkoilfiqx8HsN5kFe8QOwiJRDQ\n",
       "L0BV3sfAwA6WAPnvAYM8SPAFkgleD1CU/4PxgK7k2b17vwGQfR5JOeeKB7iU8wEDagGa8lOZKKa3\n",
       "ICl3YGBgaoA5BuJ2JUtUt5silDMClXN9ALKjEIZ7o4UMPNAOMMwCksw/UQKScQGa8kdwvnD/QgZW\n",
       "+19A0XVwMWYBCA0KvCYlJQMGDgGMxISUCHjQ5ZDSEwywXcCT3ldiiMzClz2kMUQ24lPOiG417wHc\n",
       "igFg/0K2AuH1ZwAAAABJRU5ErkJggg==\n",
       "\" style=\"display:inline;vertical-align:middle;\" /></a></span></td></tr>\n",
       "<tr><td>5</td><td>specialization</td><td>6, 7, 8</td><td><span style=\"font-size:20px;\"><a class=\"ProveItLink\" href=\"../__pv_it/36e06486b5012e60011b3738fbcd2a656f1b42880/expr.ipynb\"><img src=\"data:image/png;base64,iVBORw0KGgoAAAANSUhEUgAAAMAAAAAVBAMAAADiAfyoAAAAMFBMVEX////c3NxERESqqqpUVFS6\n",
       "urrMzMwyMjIQEBCIiIh2dnYiIiLu7u5mZmaYmJgAAABXZE4RAAAAAXRSTlMAQObYZgAAAitJREFU\n",
       "OMu1Vb1LI0EUf2aTTTZs1gWLYKV2FsLlHzgIx/amsFCwSJEi2CSNCKJ3ucKzObhUBxbHnVjZBSs/\n",
       "QNIp2IitoEGwiYVfEVHv1DfjfO4OapFbmDeT35v83uy833sLAN4R/KdnaplYd5PYibDztBsRyjk0\n",
       "zgUaO6/idgMgUzT8wRvtBJ+m38YYB2SqaNI1NMmm6kySmFXTkVKDAMeFtzHGQbmpWdKcZ3/RtOVv\n",
       "Gb1Sx5HXqUwY45ABvqu+no+XaHclMCdWv32A8z86lQljHCJAQrsPx7lBG8sJYEyshnGsN3UuE8Y4\n",
       "RICMdoBJ65Hg+wJI1/mqA5AdCXGZMM5RY5lOthSfW7DvcLLIW2W26POPS6Oz9Gs7LBcDxjk8kuky\n",
       "CiCF45AwkZpIQA8hTNTkfovJ0MGL3WP55PtNGOeAeYDSN5x7ucpKZATBFTnZhXKinQU6xTCo86jg\n",
       "JTPGOSD2GWC8GAqA68VQAHv2JYm9eFLvXiczYZwDyNvE8a5TOem0iCj4FbEcrDGRVDBX8WudzIRx\n",
       "DpqDNNZ0rCWdfTh9IU4pXSuvSH6gqlReyYxxDiFTIUkbXML7oanJNKtI3l5sgvsg7s6ISQ5RaA1R\n",
       "gcO3Ppw8YfaTsr0MsfngKQhm8GXdH77wGTDJIVvF12hfU1pFpLEm/Oh+EyYDtKPO1Vf6vPdOjHJ7\n",
       "0XZNa7HahQD0e+BukGuLtNu4/0qA+juxMs2jt4KmP+z72aVv8jNqzLbZewE8hgAAAABJRU5ErkJg\n",
       "gg==\n",
       "\" style=\"display:inline;vertical-align:middle;\" /></a> <a class=\"ProveItLink\" href=\"../__pv_it/dbb8f48d25dc1c711b07e500210c91f1eb6569e50/proof.ipynb\" style=\"text-decoration: none\">&#x22A2;&nbsp;</a><a class=\"ProveItLink\" href=\"../../__pv_it/8f1f7fac882de28c72b62ab80a1700b6d8fd066b0/expr.ipynb\"><img src=\"data:image/png;base64,iVBORw0KGgoAAAANSUhEUgAAAA4AAAAOBAMAAADtZjDiAAAAG1BMVEX///9EREQQEBAiIiJmZmbM\n",
       "zMyIiIjc3NwAAACryk5kAAAAAXRSTlMAQObYZgAAABlJREFUCNdjYGBgKGOAgBBa0s7GxkbGxoYA\n",
       "FMUF2aBfHgoAAAAASUVORK5CYII=\n",
       "\" style=\"display:inline;vertical-align:middle;\" /></a></span></td></tr>\n",
       "<tr><td>&nbsp;</td><td colspan=4 style=\"text-align:left\"><span style=\"font-size:20px;\"><a class=\"ProveItLink\" href=\"../../../../__pv_it/2cbe72a7ad6f655694dd697106680215e8489b600/expr.ipynb\"><img src=\"data:image/png;base64,iVBORw0KGgoAAAANSUhEUgAAAA8AAAAOBAMAAAACpFvcAAAALVBMVEX///8QEBBERERUVFS6urqI\n",
       "iIhmZmaqqqrc3Nzu7u6YmJgyMjIiIiLMzMwAAADtIaYWAAAAAXRSTlMAQObYZgAAAFtJREFUCNdj\n",
       "YACBOwxQsA9Kc52bAGG05zVAGAFxDmCaZULdAjBjCsO9ADDDgaEvAUTzGhvbKYCVMDAwbgAxChgY\n",
       "eASANAeQwf0AyJgNxEwvGRia5HYwcOm9TgAA6BoR3jrzwFcAAAAASUVORK5CYII=\n",
       "\" style=\"display:inline;vertical-align:middle;\" /></a> : <a class=\"ProveItLink\" href=\"../../../../__pv_it/077b2ff79244fb4582cbe22c6e3356fa92a52f2f0/expr.ipynb\"><img src=\"data:image/png;base64,iVBORw0KGgoAAAANSUhEUgAAABAAAAAOBAMAAADUAYG5AAAAMFBMVEX///+qqqru7u4iIiJ2dnbc\n",
       "3NyIiIjMzMxmZmYQEBC6uroyMjJERERUVFSYmJgAAADLUcuvAAAAAXRSTlMAQObYZgAAAGpJREFU\n",
       "CNdjYGB4+//u3dMLGIBgDgMDxy8gzf4NiP8CGWxfGRj4vgAZPBMYGJgnARn8FxhY9ygAGfXX0pof\n",
       "gDTlBzAw2YIYJ0EckBBI53sHoBH/gIz7AhBjWH9DjancBLTl/N+7t/cxMAAA3u4f/5xagjYAAAAA\n",
       "SUVORK5CYII=\n",
       "\" style=\"display:inline;vertical-align:middle;\" /></a></span></td></tr><tr><td>6</td><td>theorem</td><td></td><td><span style=\"font-size:20px;\"> <a class=\"ProveItLink\" href=\"../../negation/_proofs_/negationContradiction.ipynb\" style=\"text-decoration: none\">&#x22A2;&nbsp;</a><a class=\"ProveItLink\" href=\"../../negation/__pv_it/8d34e69910011169cb519166c0f9ff6f4dda77a60/expr.ipynb\"><img src=\"data:image/png;base64,iVBORw0KGgoAAAANSUhEUgAAAGsAAAAWBAMAAAA1LX8gAAAAMFBMVEX///8QEBC6urrMzMxUVFRm\n",
       "ZmZERETc3NwyMjKqqqp2dnaIiIiYmJgiIiLu7u4AAAAU9Wx4AAAAAXRSTlMAQObYZgAAATlJREFU\n",
       "OMtjeMBAFrgAIk6ToIF9A4hcCSL6SNDGHAAiy0AGJJCsjQPoOdYJJGvjWV5eXstAsjaGb2lpt8jQ\n",
       "5szAkA5mtINJJpg0RwGyYgQPqk2Fga8B7NpPYC4bTPq8ArI2BA+qjZeB+wCIfvoHRRtf/AEkXUg8\n",
       "qDbuA7zglLLuKoo2rrcBSNqQeFBtfA0mYN6GNBRt1mzIkYnEg2pjSHcCkSwMsSjaHFgvIGlD4sG0\n",
       "TQWLnGTYj6yNZwL3B5Dj0tLSMuA8FG2MoLTJdzU0/wGStrehYf+g6tiQeKx3796VvXsX5GIekHLW\n",
       "AgZ7AyRt4QzMnxHakHioQIeBgf8AQhsTkP2HoaIAIgLhYQFPvjGw+9+Ba+PzT2Ao+XvAHmwQM5SH\n",
       "N8mxIXMOEJ1SkbUxF5CljYf4fMFClCoA83FQjMq6UisAAAAASUVORK5CYII=\n",
       "\" style=\"display:inline;vertical-align:middle;\" /></a></span></td></tr>\n",
       "<tr><td>&nbsp;</td><td colspan=4 style-\"text-align:left\"><a class=\"ProveItLink\" href=\"../../negation/_proofs_/negationContradiction.ipynb\">proveit.logic.boolean.negation.negationContradiction</a></td></tr><tr><td>7</td><td>modus ponens</td><td>9, 10</td><td><span style=\"font-size:20px;\"><a class=\"ProveItLink\" href=\"../__pv_it/478cad2b56d4680b76272ca935df8d52cdec87ce0/expr.ipynb\"><img src=\"data:image/png;base64,iVBORw0KGgoAAAANSUhEUgAAAJgAAAAVBAMAAABIwjoUAAAAMFBMVEX////c3NxERESqqqpUVFS6\n",
       "urrMzMwyMjIQEBCIiIh2dnYiIiLu7u5mZmaYmJgAAABXZE4RAAAAAXRSTlMAQObYZgAAAgRJREFU\n",
       "OMutVTtLA0EQHnPJJRcu54GFWKmdhWD+gBDkelNYKFikSCE2phFBfMRCbQRTCRaiYmUnVj5A0inY\n",
       "iK2gItho4Ssivp3Z7O3u7UVB8WBnNzPffrs78+0GAJxT+IdvcJWsvUO2Tw9e/pZtII3GukVjZlS/\n",
       "uQGQytWY4HRXvK7hkJvwkCqgSRbRxMtqME78hVrLJ1oAzrK6l+EZDzOLgeD1G5or+VuuNFTCltHJ\n",
       "GF6Szamxus47tAfSMSZGyy7AzYrGVcULsljgTJb1iDaSFo4eMWrDtlXWyKp4QZYKLNZvfJD/SDiS\n",
       "JX9UAWhs10/J8UVehfi5ErOz5jN2Bu02tcu+d79slcWlPZ2L4x2qwgAWJ4HthGaR5mJQR5NjRYk3\n",
       "uBwsTM4hz7+Oh3GA/Az29X6189Q87552causvj/NugguYH0ofgUPkQmA3pxGhuNZjcwcrSa9Hnfl\n",
       "vGhkHA+0yyjmJpGWQYMK5h+T52yTF3AIcxt9CJL5eJazJN6FyLkMNmA3SUEpFyOjyKy5oKhYwQtp\n",
       "CBmYYBNHRzkgjUZFZuZsGexXqIEXot0Qam57cuHiEysTl1ewlffHn543goew590wXl6nqfCdVq5T\n",
       "6AGJuWG8JLsKB9d/eLsc+IbMCT9BTNeFX5Kx98zepqOHnpWo+wNZqdZLy3LsrKFp0mMLf/gP+ALO\n",
       "QZKtL5ZmTQAAAABJRU5ErkJggg==\n",
       "\" style=\"display:inline;vertical-align:middle;\" /></a> <a class=\"ProveItLink\" href=\"../__pv_it/641aee91dfc87f2de223e96048cc79e8ed567ae60/proof.ipynb\" style=\"text-decoration: none\">&#x22A2;&nbsp;</a><a class=\"ProveItLink\" href=\"../../../../__pv_it/077b2ff79244fb4582cbe22c6e3356fa92a52f2f0/expr.ipynb\"><img src=\"data:image/png;base64,iVBORw0KGgoAAAANSUhEUgAAABAAAAAOBAMAAADUAYG5AAAAMFBMVEX///+qqqru7u4iIiJ2dnbc\n",
       "3NyIiIjMzMxmZmYQEBC6uroyMjJERERUVFSYmJgAAADLUcuvAAAAAXRSTlMAQObYZgAAAGpJREFU\n",
       "CNdjYGB4+//u3dMLGIBgDgMDxy8gzf4NiP8CGWxfGRj4vgAZPBMYGJgnARn8FxhY9ygAGfXX0pof\n",
       "gDTlBzAw2YIYJ0EckBBI53sHoBH/gIz7AhBjWH9DjancBLTl/N+7t/cxMAAA3u4f/5xagjYAAAAA\n",
       "SUVORK5CYII=\n",
       "\" style=\"display:inline;vertical-align:middle;\" /></a></span></td></tr>\n",
       "<tr><td>8</td><td>assumption</td><td></td><td><span style=\"font-size:20px;\"><a class=\"ProveItLink\" href=\"../__pv_it/b22b15039733798321461907c74328825d8427750/expr.ipynb\"><img src=\"data:image/png;base64,iVBORw0KGgoAAAANSUhEUgAAADEAAAAVBAMAAAAdjxsPAAAAMFBMVEX////c3NxERESqqqpUVFS6\n",
       "urrMzMwyMjIQEBCIiIh2dnYiIiLu7u5mZmaYmJgAAABXZE4RAAAAAXRSTlMAQObYZgAAAN1JREFU\n",
       "KM9jYGDgu8eABthWCYAonl0MGICtGURyfkCI8Pl/cXEqBTKug3hcDUiKORQYGO4HMDCswJDJnwDE\n",
       "Dthk5gOtfr8Am4wGEO84gE3mCwODuA4DVIa3AMm1X2bO3QdivAcRGUCn3N4NBEB/cX5kYDgNdAAD\n",
       "+wUGhpQ2mIYUBgYmoMmc/0Ac9QcMDBEJCBl+oHq+X0A2N9B9DCwFCJl8oEqWzzB7uDYgZEDekS9g\n",
       "QHc1G9g7bO0HGDD9c+m/i0v5AwYGbD6FAQIyfNhkwPHDsxNLnLZCInIx1nQAAJmFPcGxt9K+AAAA\n",
       "AElFTkSuQmCC\n",
       "\" style=\"display:inline;vertical-align:middle;\" /></a> <a class=\"ProveItLink\" href=\"../__pv_it/659d862d8201b38a76dac4278242419974e1920f0/proof.ipynb\" style=\"text-decoration: none\">&#x22A2;&nbsp;</a><a class=\"ProveItLink\" href=\"../__pv_it/1da4e2fe7c44632f084fa27ea32e26dc689384c20/expr.ipynb\"><img src=\"data:image/png;base64,iVBORw0KGgoAAAANSUhEUgAAAB0AAAAOBAMAAAAh/woJAAAAMFBMVEX///+qqqru7u7c3NyIiIgQ\n",
       "EBC6uroyMjJERESYmJhUVFTMzMx2dnYiIiJmZmYAAADtoHoAAAAAAXRSTlMAQObYZgAAAHpJREFU\n",
       "CNdjYIACzvW/Vq0oY0AA1gYGhvcJCP5+ByBegOD7GzAwzD+A4LcC8VUFBP8XA4N5E4LL/cvF7yaQ\n",
       "fnsXCO4wMLB8ZmDQhRm3i4GBIwAo9hPB5wfKcf5B8PdPYGDg+ojgg6y3L4AZDraeOxxh/Yv/q1aV\n",
       "A7UAAFRxJOZ+1MVPAAAAAElFTkSuQmCC\n",
       "\" style=\"display:inline;vertical-align:middle;\" /></a></span></td></tr>\n",
       "<tr><td>9</td><td>assumption</td><td></td><td><span style=\"font-size:20px;\"><a class=\"ProveItLink\" href=\"../__pv_it/8969a97b4ed4358197326a2f2229555a50cfd1960/expr.ipynb\"><img src=\"data:image/png;base64,iVBORw0KGgoAAAANSUhEUgAAAHEAAAAVBAMAAACDNRyvAAAAMFBMVEX////c3NxERESqqqpUVFS6\n",
       "urrMzMwyMjIQEBCIiIh2dnYiIiLu7u5mZmaYmJgAAABXZE4RAAAAAXRSTlMAQObYZgAAAcRJREFU\n",
       "OMtjYGDgu8dAImBbJQCieHaByEh02ad4tTaDSM4PIKYDisQGBgbeBCw6+Py/uDiVAhnXQTyuBiDB\n",
       "fgBZATvIsAJslnEoMDDcD2BgWAHXORNF/vUfIPEKweeBs/InALEDss4eZI2Mth+B5AkkN8BdNB8Y\n",
       "NO8XIOlkRXEaJ+dXIMlkABdghYeCBhDvOICkk3cBss4Y5n8g8QsIkZUwxhcGBnEdBqhOXqB97A+Q\n",
       "NPIEsP0EUsxgd9zeDQL7oaawfZk5dx+I8R5EZACDiiMAqgYUt6wMjH9BVAOSaeYBEH8AA+A0yOns\n",
       "QKNS2oAM/gCoihQQdnH5BDL/A7I7KsAqmICmcYK8wqAOdGVEAppOILsdXWf6GjDFD7SP7xeQwQ0K\n",
       "GBagfzgMEDqZQcEHdy3En7t1oNEJtInlM8yfXMCkxvQAoVMYSNWDUhpSTJkgRad8AQNSrMBjgI2B\n",
       "ByShfwAlVhgLENHJ1n4AWSfrBrgije8CDI/+1wKDLwCuk0kAQl/67+JSDnYeIvU1YiZupNTHhiGJ\n",
       "0PkKU+dKfBkUrJMPM5eBY7AAn05w/uTZCfKeA7ociwC+MqEVktEXAwlJdMlphMohAFU6d7XAJLSJ\n",
       "AAAAAElFTkSuQmCC\n",
       "\" style=\"display:inline;vertical-align:middle;\" /></a> <a class=\"ProveItLink\" href=\"../__pv_it/f6e88b30394e30eeed905759d9a814368e7b8eef0/proof.ipynb\" style=\"text-decoration: none\">&#x22A2;&nbsp;</a><a class=\"ProveItLink\" href=\"../__pv_it/a52f2e12941e42e61803c785c696b853841b533c0/expr.ipynb\"><img src=\"data:image/png;base64,iVBORw0KGgoAAAANSUhEUgAAAFwAAAAVBAMAAAA5lpTPAAAAMFBMVEX////c3NwiIiJERESqqqqY\n",
       "mJh2dnZmZmYQEBDu7u4yMjJUVFTMzMyIiIi6uroAAAAs73DqAAAAAXRSTlMAQObYZgAAAV9JREFU\n",
       "KM9jYCAR8F1AE2B9gE/5aRTeISCuwaYs+v/u3VZAg1aiiK4HYi6sxjYzMLD/Y+BFcQur/gQgkYAQ\n",
       "mABj8PwF4t8MHBOQlYvUCzAwcDYgBOB2834EmvON4RWKjRfug/xpghB4DWMwA81g6mQoQwmlCf4B\n",
       "QCodIcIGcyv/BgbGxRMYliIrn8dwHiTtBWKzK4HBd6jU+b13i4BG9cEkQP57wCBfAKReIJnAsg5C\n",
       "3xdg4NRmYPgH8/kGIN69e78ByCRkG2f1gSkLkJYAFOV8DAwcC9CU8yyDBN1vII5PYGhBUu4A9HwD\n",
       "zDFQtytDVPN8BRL7HRhMEcoZgcq5PgDZUUhO34AIdsZfSIF2gGEWKHh/ogakFFKwnwDG2SO4jHD/\n",
       "QgZW+1/AoFmHUG4Iodjtf+/eBQpzDgGMxIScCA6gp+4EDOVsF/Ck95UYIrPwZQ9pDJGN+JQzolvN\n",
       "ewC3YgDGg1kRpbQOUwAAAABJRU5ErkJggg==\n",
       "\" style=\"display:inline;vertical-align:middle;\" /></a></span></td></tr>\n",
       "<tr><td>10</td><td>assumption</td><td></td><td><span style=\"font-size:20px;\"><a class=\"ProveItLink\" href=\"../__pv_it/edd8455a49d47780786b5faa6e783100cb7d31cc0/expr.ipynb\"><img src=\"data:image/png;base64,iVBORw0KGgoAAAANSUhEUgAAADAAAAAVBAMAAADyTXAxAAAAMFBMVEX///9ERETc3NyqqqpUVFS6\n",
       "urrMzMwyMjIQEBCIiIh2dnYiIiLu7u5mZmaYmJgAAABJJ2g3AAAAAXRSTlMAQObYZgAAALxJREFU\n",
       "KM9jYGDgu8eABrIWgUieXQwYIMMASHB+QBFj2wAkeAuABFcDigT7B5gYmsTrP9glmGw/YZfg5PyK\n",
       "XSKG+R9MDOwCGOAJYPsJpPhALsgIYGC4vRsIQP5hZWD6C1JQy8CQ0gZTnQLCLi4fQWzGOgaGiAQk\n",
       "CaDudhAbpJulACHBDKR2wOzg2oCQUAZS9RjOZWPgAWmWP4DhDyaJ7woMD//XYg8rMMAvwYdFAhwa\n",
       "PDuxxGAAiORbjC3OAaHOM6CzgdAAAAAAAElFTkSuQmCC\n",
       "\" style=\"display:inline;vertical-align:middle;\" /></a> <a class=\"ProveItLink\" href=\"../__pv_it/04d7501518712e5b9d432219fd2131665990c4a50/proof.ipynb\" style=\"text-decoration: none\">&#x22A2;&nbsp;</a><a class=\"ProveItLink\" href=\"../__pv_it/feaa1d0e6d92ad9ead8e5ffd1f92697e3912387a0/expr.ipynb\"><img src=\"data:image/png;base64,iVBORw0KGgoAAAANSUhEUgAAABwAAAAOBAMAAADOPWE3AAAAMFBMVEX///8QEBBERES6urqIiIiq\n",
       "qqrc3Nzu7u6YmJgyMjJUVFTMzMx2dnYiIiJmZmYAAADMbjvTAAAAAXRSTlMAQObYZgAAAGNJREFU\n",
       "CNdjYEAA7gsMyIDzAwq39zsyjy3uGzKXheUzMtec9QcSj92A+wsDw9u7QHAHyGVmYPsHldkFwqtW\n",
       "fULiGjAwSCK4rEDqIoKbCqTmw1zLwD4BSOkXwFyk+DOBoen/PABSrhtHsYt+gAAAAABJRU5ErkJg\n",
       "gg==\n",
       "\" style=\"display:inline;vertical-align:middle;\" /></a></span></td></tr>\n",
       "</table>"
      ],
      "text/plain": [
       "\tstep type\trequirements\tstatement\n",
       "0\tgeneralizaton\t1\t|- forall_{A in BOOLEANS} [forall_{B | [not](A) => B , [not](B)} A]\n",
       "1\tspecialization\t2, 3, 4\t{A in BOOLEANS , [not](A) => B , [not](B)} |- A\n",
       "\tA : A\n",
       "2\ttheorem\t\t|- forall_{A in BOOLEANS | [not](A) => FALSE} A\n",
       "\tproveit.logic.boolean.implication.affirmViaContradiction\n",
       "3\tassumption\t\t{A in BOOLEANS} |- A in BOOLEANS\n",
       "4\thypothetical reasoning\t5\t{[not](A) => B , [not](B)} |- [not](A) => FALSE\n",
       "5\tspecialization\t6, 7, 8\t{[not](A) => B , [not](B) , [not](A)} |- FALSE\n",
       "\tA : B\n",
       "6\ttheorem\t\t|- forall_{A | A , [not](A)} FALSE\n",
       "\tproveit.logic.boolean.negation.negationContradiction\n",
       "7\tmodus ponens\t9, 10\t{[not](A) => B , [not](A)} |- B\n",
       "8\tassumption\t\t{[not](B)} |- [not](B)\n",
       "9\tassumption\t\t{[not](A) => B} |- [not](A) => B\n",
       "10\tassumption\t\t{[not](A)} |- [not](A)"
      ]
     },
     "execution_count": 7,
     "metadata": {},
     "output_type": "execute_result"
    }
   ],
   "source": [
    "%qed"
   ]
  },
  {
   "cell_type": "code",
   "execution_count": null,
   "metadata": {},
   "outputs": [],
   "source": []
  }
 ],
 "metadata": {
  "kernelspec": {
   "display_name": "Python 3",
   "language": "python",
   "name": "python3"
  }
 },
 "nbformat": 4,
 "nbformat_minor": 0
}
