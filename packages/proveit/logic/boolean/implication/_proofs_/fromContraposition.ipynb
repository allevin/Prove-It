{
 "cells": [
  {
   "cell_type": "markdown",
   "metadata": {},
   "source": [
    "Proof of <a class=\"ProveItLink\" href=\"../../../../_context_.ipynb\">proveit</a>.<a class=\"ProveItLink\" href=\"../../../_context_.ipynb\">logic</a>.<a class=\"ProveItLink\" href=\"../../_context_.ipynb\">boolean</a>.<a class=\"ProveItLink\" href=\"../_context_.ipynb\">implication</a>.<a class=\"ProveItLink\" href=\"../_theorems_.ipynb#fromContraposition\">fromContraposition</a> theorem\n",
    "========"
   ]
  },
  {
   "cell_type": "code",
   "execution_count": 1,
   "metadata": {},
   "outputs": [],
   "source": [
    "import proveit\n",
    "from proveit import defaults\n",
    "from proveit._common_ import A\n",
    "context = proveit.Context('..') # the theorem's context is in the parent directory"
   ]
  },
  {
   "cell_type": "code",
   "execution_count": 2,
   "metadata": {},
   "outputs": [
    {
     "name": "stdout",
     "output_type": "stream",
     "text": [
      "Beginning proof of fromContraposition\n",
      "Recorded 'presuming' information\n"
     ]
    },
    {
     "name": "stdout",
     "output_type": "stream",
     "text": [
      "Presuming previous theorems (applied transitively).\n"
     ]
    },
    {
     "data": {
      "text/html": [
       "<strong id=\"fromContraposition\">fromContraposition:</strong> <a class=\"ProveItLink\" href=\"../__pv_it/78c93fb60140b5e457f2a03028e627593208d1b10/expr.ipynb\"><img src=\"data:image/png;base64,iVBORw0KGgoAAAANSUhEUgAAARkAAAAXBAMAAADNQybgAAAAMFBMVEX///8QEBC6urrMzMxUVFRm\n",
       "ZmZERETc3NwyMjKqqqp2dnaIiIiYmJgiIiLu7u4AAAAU9Wx4AAAAAXRSTlMAQObYZgAAA8VJREFU\n",
       "SMfNVktoE1EUPcl0mubTsbgQXKhFRASVRhAVRBo0qOCiXXQQxE9VTAXFZiHWD9ooaLCIzULdKBgE\n",
       "tVKQiO66aBQFPwtdWBd+MIpKwS/a2vpBve/dmbyXpLUujPhg5r155965Z+7vDfBfjdy/MePNjCly\n",
       "ja57YnGn7Gzm8rRoJOz6z2h0cy3MMHBBPB8tOxvHQueI4ATA/AgkgB305GsuN5kgByr0NDdCjhjf\n",
       "6BoAbgNVtGmmys3Gw6Z3rYuXuIuoDhHPr8Azms63te0te6Bm8JTprVV709xFZQ1QPZlmcsrnWOzh\n",
       "b97jC+tP/lEh/2/ZrOLCyp3Oqr2AW2bjIvAdIucFGoElQIvcTMr7iUF7qbTiZdHdrrVWu2kjjLRm\n",
       "YrdaJl2ExUrGEXl/jnrJwHwix6AD1q/oWSNY+hPCYVZCZthHTrQaBGuk/1g0n+BXgUvAGc2Eyn2h\n",
       "e0YXk5sdHQddV4yX91q0N+ruPMBzbxzWffH9ImIISp2X3yVkRuAdUmz8+a7VBNTF0a+9TDU0oduv\n",
       "i+G1vRqZ9OupjoD8UiMabSio3n4muV4wIg7GB8robLVM+It9EqrOwLyn2FTmi+ARsAaokFH0pwog\n",
       "qcuIIxbcsO8dsQm80dlQ7D0JjYzRwZVGxY27aWZjJWSfNDIxCb0P42ZcsfG4qtYnhJL5xtGiQ6zL\n",
       "iCN2Q1ZQeuZaR2KiuNEnVNdoefOAyRgiKA0pjhRaFou9CvFJNOp6rmyDYrMgf9B861lK2t6IGaOx\n",
       "P6xBrOuNaGLSBRl7kps3W0UJksGqD1qkI6rd+IZFogmt4zIwt9ArsS5KxJxiQ03hHFlPIJBAiHqC\n",
       "4bjaDiuIdRlhMS6wTNpc6Fg+C06syh+KzU6t3cwRrVBUODzCxVaf3SpJbKJgpRSbY275VDbC+qLY\n",
       "zFupINZlhMWMB7HYFpE3AcfibDqCpiQRah1WRcV9BWbrQHS57ABVojWGBAszjnqZhmSxLqzYTHdN\n",
       "jkvB+4ki0Ry0aTQ1ahDremW5sJgVYd/k2XjipT0oXLzxLL+aRS/K+pLw/YCvT8ubt67J9hz2EoVQ\n",
       "2npHo1uHpC4h2Bl3xZY5kdrjNqT0Hxwf3e7ixWf4Gh5TdncN2stTGhuufoQDnXbTYeFDedAYEQ1i\n",
       "XYHUZ12xV7Wy+8WyJUfk6MNKFG2EtDWzCRYd71V8QuVKIYGoU+gc5Y0+to/NpqI4mvNL2FhFvz4n\n",
       "tW9pLkaM+OiH79h/opeLN7IlbHCqUCKirU8VI6Hy/ZJUOMErSP2A/lNfAAX+xu/+L8/qEhBQYpUZ\n",
       "AAAAAElFTkSuQmCC\n",
       "\" style=\"display:inline;vertical-align:middle;\" /></a><br>(see <a class=\"ProveItLink\" href=\"../__pv_it/78c93fb60140b5e457f2a03028e627593208d1b10/dependencies.ipynb\">dependencies</a>)<br>"
      ],
      "text/plain": [
       "fromContraposition: forall_{A, B | [not](B) => [not](A) , B in BOOLEANS} (A => B)"
      ]
     },
     "execution_count": 2,
     "metadata": {},
     "output_type": "execute_result"
    }
   ],
   "source": [
    "%proving fromContraposition presuming []"
   ]
  },
  {
   "cell_type": "code",
   "execution_count": 3,
   "metadata": {},
   "outputs": [
    {
     "data": {
      "text/html": [
       "<strong id=\"defaults.assumptions\">defaults.assumptions:</strong> <a class=\"ProveItLink\" href=\"../__pv_it/c69ee0763f5a8b83c26eb10855aa08eadbf78ebd0/expr.ipynb\"><img src=\"data:image/png;base64,iVBORw0KGgoAAAANSUhEUgAAAOMAAAAVBAMAAABGa0R7AAAAMFBMVEX////c3NwiIiJERESqqqqY\n",
       "mJh2dnZmZmYQEBDu7u4yMjJUVFTMzMyIiIi6uroAAAAs73DqAAAAAXRSTlMAQObYZgAAAr1JREFU\n",
       "SMfFVk1oE0EUfmsSk0022wU9KUKIKIJgi1BovTQgIthLUKiIoDlZFArSQ08eKvZiBQ166c2iFJtT\n",
       "czaIPZZ6MOBNjMacVCi0Fv9abH3zt/Nmd2jakw8eb3byfe+bvzcTgP9gflO4ades2JXdwXYwTngj\n",
       "XdrV7UbjTBvSixa8Vze+CkBgkkft1vrC/NGShVCTruwe9m8BzFoks1XjaxUoTPKo9a24tRtxQr4p\n",
       "PBzKX/RNgBHd5apGy0h48Q8QmOKZkvAxGydkqsKV5dcAUj8BZiyTu0/zOecRqWGKx4b4vliclZLn\n",
       "ctUY4RsIV5aYBNiHuRN6E3y5hb6x2Pk8W8YQpnhoy1fILA/ECRMYJkimnjo4z3Fk+2/rvjER0hUq\n",
       "+TX5AwhM8XA2g3phvWODccIchjmS6e2r1ngZY5JPabzIrFfkzZYJzm2z3ZMwwsN5BKFkp/d3M054\n",
       "iAE9zXPjND4F4J5kqzhJ8l/gpz/TlmM4zn4H5xeFKR7AE3p8WmfD7QkJbH23SN0NMDoO11ulU5pn\n",
       "mj2q7HgpNxrrQGCKB/CFjUodn4SvdkMTopLsnF+vRCSXb0JUEtvTVFLx6L3CJKFPfmjCFIYpLemx\n",
       "LX5dUism9rIozkCmpCWTGE6QhQ15AI+tkoTQj6FfS7LycjawnSIVMSzroKwlD2JYEDBXlSXnAeTK\n",
       "VBIXlp9jQhjFMKowi7y8lmpgFIkj1cMuD1zWNSRq6WlBluWSuDfdU0Ty8jtwv7NOQuhgsxNmTw9t\n",
       "Nl7ymsnqK1qder8QDmJgI4BL2y84bGaN8tAO3Qmv9dMPSuA+CkxCBvNlgvgVTi48TzXu2mGfo53D\n",
       "z4r0ovIDk5CqCI/amOUlGbHDyl3eyFSUEH28ZCV2f7xC2F4kOeGwdNNylrUGp26D5bv9E2hG8zpN\n",
       "4aZ9sJKP7A62gyHhHw7k6xrxQoj5AAAAAElFTkSuQmCC\n",
       "\" style=\"display:inline;vertical-align:middle;\" /></a><br>"
      ],
      "text/plain": [
       "defaults.assumptions: ([not](B) => [not](A) , B in BOOLEANS , A)"
      ]
     },
     "execution_count": 3,
     "metadata": {},
     "output_type": "execute_result"
    }
   ],
   "source": [
    "defaults.assumptions = list(fromContraposition.allConditions()) + [A]"
   ]
  },
  {
   "cell_type": "code",
   "execution_count": 4,
   "metadata": {},
   "outputs": [
    {
     "data": {
      "text/html": [
       "<strong id=\"notB_implies_notA\">notB_implies_notA:</strong> <a class=\"ProveItLink\" href=\"../__pv_it/1cb7d4d9e535dffc8c0d1a976e26c491544c5f510/expr.ipynb\"><img src=\"data:image/png;base64,iVBORw0KGgoAAAANSUhEUgAAAHkAAAAVBAMAAACQ4lxbAAAAMFBMVEX////c3NwiIiJERESqqqqY\n",
       "mJh2dnZmZmYQEBDu7u4yMjJUVFTMzMyIiIi6uroAAAAs73DqAAAAAXRSTlMAQObYZgAAAb5JREFU\n",
       "OMullL9Lw0AUx9/Z1iY1aTO4iVA6iODgJFQXuwm6FIUugnYTh4J0cK7oooM4Ogoi2snOBrGj2EH/\n",
       "AEuDm4JQERVbbL0fSe6lOXAw0L67bz7fdz/eXQD+9yQfBpU1JfeqxBqyv9q37TkH4nWF2agFemkQ\n",
       "WBWJu1TrAZwo3ImjQK8NHDPRxI0f+usCFKSke41mINfyN3BMQznNN4DYJ8CxYsh9bCYLlGTYCxIj\n",
       "FYAhikVyck/d5SYDqzHNHnBsG4mpGpBTOtjwltRKIsSL2P0c/QCOnSHx/rpZztMY5QOVM+yZFpkS\n",
       "ecTpDtshhh3SvByjyVsW6FNsmhWELjrsX3PcdBPsPZAvgfVQPbM0tuggRhsPdMHsKcftsuPRsO13\n",
       "4Bh202LBenHAfbcJg27aPhDuPek22Fbc5LyZi3VnZvlrLSfdURomxcxnpJuVm3RoO4bKs+QWMy/d\n",
       "ozRcCmzDw+q83LdVCFSMuIl8yQCdSfOisE8+GJ/v2le8gAlHHiDLPS1pP1+2Y8FK/5xjmhW+Eeik\n",
       "Gl5jR4nFimG5pLhjBTVWDan63zfUx8ZC4IhiMUBqSoyEvkyPyi/TuAL7BdKec4W7hfHjAAAAAElF\n",
       "TkSuQmCC\n",
       "\" style=\"display:inline;vertical-align:middle;\" /></a><br>"
      ],
      "text/plain": [
       "notB_implies_notA: [not](B) => [not](A)"
      ]
     },
     "execution_count": 4,
     "metadata": {},
     "output_type": "execute_result"
    }
   ],
   "source": [
    "notB_implies_notA = defaults.assumptions[0]"
   ]
  },
  {
   "cell_type": "code",
   "execution_count": 5,
   "metadata": {},
   "outputs": [
    {
     "data": {
      "text/html": [
       "<span style=\"font-size:20px;\"><a class=\"ProveItLink\" href=\"../__pv_it/6c962d75a1af427066fe6b1936f9157b6c50391e0/expr.ipynb\"><img src=\"data:image/png;base64,iVBORw0KGgoAAAANSUhEUgAAAOkAAAAVBAMAAABRSdSyAAAAMFBMVEX////c3NxERESqqqpUVFS6\n",
       "urrMzMwyMjIQEBCIiIh2dnYiIiLu7u5mZmaYmJgAAABXZE4RAAAAAXRSTlMAQObYZgAAAvRJREFU\n",
       "SMe9Vk1oE0EUfk26STbdbkMViqes9FAPot48GjXgRewWBGu95NCD0EPjQQS1baREkQoNeOpBWvAi\n",
       "giBerAZ0LxJ/DgYPigo2eBG8tNVIwb/6Zndn5s3sYurFgczOznzf++a9eW82AGB/gP/YUrdz7GE9\n",
       "ZP1JfdV24zhGbUuwv8rOst5cY8OCtDPcLh46C/A6jjKuvE0AgXEeadmZoY25QY0Ab/ylCnZpTy5l\n",
       "HIAVF9JxqheVtxnG1Hm0JYxa4/mSSoBbQnWBQCcxipMFsAma78lUAmw/xnkJC3maqumWVQJRvUag\n",
       "i3jcq0tgVaIuZjxqc9sKIiUs5LH27EL9fqiabB1VCVLVKBNju/C3jObJgRwPnycUT2qLLJ6DOg+z\n",
       "ZNqTvo44GkGo9pJoQhtgYDc+75C0CCP7Tsln70CLwjgPoN+TEZ746GkEX7UX/Uy3SGa3F248YoP9\n",
       "/mrdb7+CtWmq+sQ/yQBGeQA75bnWN6/qhFU2Po1eZ/D3nlnH2jXXAV6wpBglCsmgJKp8Gyw2LuSb\n",
       "BCZ4YDk0m66Lt5CQxm78Mg76XFmPCYy4+ZvlJHWsUWX9N+4XWk8Vi8MOgQkeGHO4L55N4IxxUkiA\n",
       "IYzsaElV7UOL9ndNNXXe01UNDFGZwASPXDm+aoIfa0joYYHqxlFmn1SdxJ10f+WhC8/1XpASs0QV\n",
       "KT0VEmHBA+turCon+OeaRUyiJVVZ2eXZnj6RYw13v0eqdqGR9FoA83i55oMKPKaojoHFxoIgKifb\n",
       "5Ob8sktd8dTKGQifYqoEDWb0pz9n/QjLNeBhUrlS1X7rwEvmvCDIW0LEBF5tFovnfNfJTc5L4ZSY\n",
       "6Z8/A/bejSaDWfM5ykO3pkr89v+yfBjg6TolyBvxUvSipzdiid+IuViYoU8njwQ5zNsIfZGqn6Oq\n",
       "2Vp0jn4RCMzu9E1tRVRt/UvHK7Tzl47D/k3V/75aD9hJFCLIg3H07bGwWgdRU/kvUQ3CdhO7HRFk\n",
       "KY7fVdsSrNP/pj8We+pFNaoRQgAAAABJRU5ErkJggg==\n",
       "\" style=\"display:inline;vertical-align:middle;\" /></a> <a class=\"ProveItLink\" href=\"../__pv_it/7b3b1fbc66b8378d9434878a825ad9d104533a620/proof.ipynb\" style=\"text-decoration: none\">&#x22A2;&nbsp;</a><a class=\"ProveItLink\" href=\"../../../../__pv_it/077b2ff79244fb4582cbe22c6e3356fa92a52f2f0/expr.ipynb\"><img src=\"data:image/png;base64,iVBORw0KGgoAAAANSUhEUgAAABAAAAAOBAMAAADUAYG5AAAAMFBMVEX///+qqqru7u4iIiJ2dnbc\n",
       "3NyIiIjMzMxmZmYQEBC6uroyMjJERERUVFSYmJgAAADLUcuvAAAAAXRSTlMAQObYZgAAAGpJREFU\n",
       "CNdjYGB4+//u3dMLGIBgDgMDxy8gzf4NiP8CGWxfGRj4vgAZPBMYGJgnARn8FxhY9ygAGfXX0pof\n",
       "gDTlBzAw2YIYJ0EckBBI53sHoBH/gIz7AhBjWH9DjancBLTl/N+7t/cxMAAA3u4f/5xagjYAAAAA\n",
       "SUVORK5CYII=\n",
       "\" style=\"display:inline;vertical-align:middle;\" /></a></span>"
      ],
      "text/plain": [
       "{[not](B) => [not](A) , B in BOOLEANS , A} |- B"
      ]
     },
     "execution_count": 5,
     "metadata": {},
     "output_type": "execute_result"
    }
   ],
   "source": [
    "notB_implies_notA.denyAntecedent()"
   ]
  },
  {
   "cell_type": "code",
   "execution_count": 6,
   "metadata": {},
   "outputs": [
    {
     "data": {
      "text/html": [
       "<table><tr><th>&nbsp;</th><th>step type</th><th>requirements</th><th>statement</th></tr>\n",
       "<tr><td>0</td><td>generalizaton</td><td>1</td><td><span style=\"font-size:20px;\"> <a class=\"ProveItLink\" href=\"../__pv_it/d08fa168e3264a095dc6b17f036f75693ee1e5700/proof.ipynb\" style=\"text-decoration: none\">&#x22A2;&nbsp;</a><a class=\"ProveItLink\" href=\"../__pv_it/78c93fb60140b5e457f2a03028e627593208d1b10/expr.ipynb\"><img src=\"data:image/png;base64,iVBORw0KGgoAAAANSUhEUgAAARkAAAAXBAMAAADNQybgAAAAMFBMVEX///8QEBC6urrMzMxUVFRm\n",
       "ZmZERETc3NwyMjKqqqp2dnaIiIiYmJgiIiLu7u4AAAAU9Wx4AAAAAXRSTlMAQObYZgAAA8VJREFU\n",
       "SMfNVktoE1EUPcl0mubTsbgQXKhFRASVRhAVRBo0qOCiXXQQxE9VTAXFZiHWD9ooaLCIzULdKBgE\n",
       "tVKQiO66aBQFPwtdWBd+MIpKwS/a2vpBve/dmbyXpLUujPhg5r155965Z+7vDfBfjdy/MePNjCly\n",
       "ja57YnGn7Gzm8rRoJOz6z2h0cy3MMHBBPB8tOxvHQueI4ATA/AgkgB305GsuN5kgByr0NDdCjhjf\n",
       "6BoAbgNVtGmmys3Gw6Z3rYuXuIuoDhHPr8Azms63te0te6Bm8JTprVV709xFZQ1QPZlmcsrnWOzh\n",
       "b97jC+tP/lEh/2/ZrOLCyp3Oqr2AW2bjIvAdIucFGoElQIvcTMr7iUF7qbTiZdHdrrVWu2kjjLRm\n",
       "YrdaJl2ExUrGEXl/jnrJwHwix6AD1q/oWSNY+hPCYVZCZthHTrQaBGuk/1g0n+BXgUvAGc2Eyn2h\n",
       "e0YXk5sdHQddV4yX91q0N+ruPMBzbxzWffH9ImIISp2X3yVkRuAdUmz8+a7VBNTF0a+9TDU0oduv\n",
       "i+G1vRqZ9OupjoD8UiMabSio3n4muV4wIg7GB8robLVM+It9EqrOwLyn2FTmi+ARsAaokFH0pwog\n",
       "qcuIIxbcsO8dsQm80dlQ7D0JjYzRwZVGxY27aWZjJWSfNDIxCb0P42ZcsfG4qtYnhJL5xtGiQ6zL\n",
       "iCN2Q1ZQeuZaR2KiuNEnVNdoefOAyRgiKA0pjhRaFou9CvFJNOp6rmyDYrMgf9B861lK2t6IGaOx\n",
       "P6xBrOuNaGLSBRl7kps3W0UJksGqD1qkI6rd+IZFogmt4zIwt9ArsS5KxJxiQ03hHFlPIJBAiHqC\n",
       "4bjaDiuIdRlhMS6wTNpc6Fg+C06syh+KzU6t3cwRrVBUODzCxVaf3SpJbKJgpRSbY275VDbC+qLY\n",
       "zFupINZlhMWMB7HYFpE3AcfibDqCpiQRah1WRcV9BWbrQHS57ABVojWGBAszjnqZhmSxLqzYTHdN\n",
       "jkvB+4ki0Ry0aTQ1ahDremW5sJgVYd/k2XjipT0oXLzxLL+aRS/K+pLw/YCvT8ubt67J9hz2EoVQ\n",
       "2npHo1uHpC4h2Bl3xZY5kdrjNqT0Hxwf3e7ixWf4Gh5TdncN2stTGhuufoQDnXbTYeFDedAYEQ1i\n",
       "XYHUZ12xV7Wy+8WyJUfk6MNKFG2EtDWzCRYd71V8QuVKIYGoU+gc5Y0+to/NpqI4mvNL2FhFvz4n\n",
       "tW9pLkaM+OiH79h/opeLN7IlbHCqUCKirU8VI6Hy/ZJUOMErSP2A/lNfAAX+xu/+L8/qEhBQYpUZ\n",
       "AAAAAElFTkSuQmCC\n",
       "\" style=\"display:inline;vertical-align:middle;\" /></a></span></td></tr>\n",
       "<tr><td>1</td><td>hypothetical reasoning</td><td>2</td><td><span style=\"font-size:20px;\"><a class=\"ProveItLink\" href=\"../__pv_it/5455d8d22f2f0b07115552b91febbef92e9705de0/expr.ipynb\"><img src=\"data:image/png;base64,iVBORw0KGgoAAAANSUhEUgAAANEAAAAVBAMAAAAqbRZ+AAAAMFBMVEX////c3NxERESqqqpUVFS6\n",
       "urrMzMwyMjIQEBCIiIh2dnYiIiLu7u5mZmaYmJgAAABXZE4RAAAAAXRSTlMAQObYZgAAAuBJREFU\n",
       "SMe1Vk1oE0EUfptkN9l0E0MVxFvFQwuKDV48KRECxYtGEGyphxxyyK1BKIimP1qjBz0UQSEnAx7U\n",
       "ghCK4E9B92bFg54ULEgQRahIf2ipilrf2+zsvJ1dSC4OZGbnzXzve/N+ZgIA6Y/wn5sxl6HBeka9\n",
       "PquspguhoBFV8KUrqhnqzVXqS1L8eTuf7y/Au1BIzjdrAqSKCo63e+tT5+ez+PGeZslp6qts/TLi\n",
       "NyEexhS3fTMysqLgfK1vxKrO4XjfYzKZ84yf+NuAdEOKPP11n55vv7FbVnAKE9yK+5gSzFZzDaP0\n",
       "C6xpKfJOfIOr0Y7gTlhUcNReXVx4LJiOxmzOdIYpiKCgB1Xuk6LT7qhXOJNpkq8iWQWHJ5u02Zl6\n",
       "fWf6wBTsyIF2Drc+lKKk69xUgzOdjf6ltbcKDqDXlt4znh8QTCmyc5IpGDteX2rheNhZXXDaHzcF\n",
       "WmyfVaDIQLSi4AD2yjiNvvhBVq7QpEyJWRM60eg7GbAeoWyYaY2OO0MC9y7RNqpBHTQyQBfxFDiw\n",
       "+nhG1A+RiXjw0lWSbLJ6GSAUGjfGPfWy5jhIlAuVXymfXyfIqisTONCvoy1eRkR0cnk/LgwXFSZK\n",
       "1JWGn8m4YAeY8PsaZxI4Xt7EBHjEHpLHyM8zksmgMJ/Mut5z4zTfjnEiK5miODxh3vNwYDUDTE6c\n",
       "kiQ/KJmoLLQt/P7KwuRaGWlJpp04TNEFWQFLlJODAzjhYyLvySz3MrrolEW5Cr4s3y2yXWS0ARa5\n",
       "YtB2ZG+abjmV2yX+usCYvt/01dOopzQ1uJEfcpJ+XDKJtNU9v2gDWxn4tD2BaVWAxTWOw8WJonfD\n",
       "7r+S9d9GmcBlym8j776+FLx06TY6pciiQ27uiSaZ0o2AhuRsyF2+HBQ9wF+r0wPlMKUDr4ZbQZ1f\n",
       "DefolW6YnPfJekr9rsDisTCEllMlMfS72fHNrbXf8bukQvWVWQzF7FEFt7v9H/EPC5HWzFh+hysA\n",
       "AAAASUVORK5CYII=\n",
       "\" style=\"display:inline;vertical-align:middle;\" /></a> <a class=\"ProveItLink\" href=\"../__pv_it/63ee3dc301c85e04b566f14201c62321edc89dc30/proof.ipynb\" style=\"text-decoration: none\">&#x22A2;&nbsp;</a><a class=\"ProveItLink\" href=\"../__pv_it/48bda0a4ca92dc8bbf3ec9809bdb1d7b90d71c610/expr.ipynb\"><img src=\"data:image/png;base64,iVBORw0KGgoAAAANSUhEUgAAAEAAAAAPBAMAAACmSdRUAAAAMFBMVEX///92dnYQEBBERERUVFS6\n",
       "urqIiIhmZmaqqqrc3Nzu7u6YmJgyMjIiIiLMzMwAAACFkkdwAAAAAXRSTlMAQObYZgAAAOhJREFU\n",
       "GNNjYACBtwxYwJb/Li42ARD2eWwKGJQZGNi/glnc9xcghOFMvm9A/AXMnFE/AaHgFIzB9hOo9SOY\n",
       "mZAfgFAQAmMwKzAw8GqBWKwL+jcgFDAmQBn8Dgych8EWLmV4DxZkvwsG36EK3rul1UI0BjDML0By\n",
       "PMdRCJ0/gYHrCti1Li7+BsjeW6MKpoxAikBGsDIwMB1Akuc7CPEpyIf7BYBEA9CxCkhuuAyR5/sN\n",
       "JPyBkpxAzPMByQkOiGDg/AOyEeTlXwgFc5CC4REw1Cbrn2Tgtv+D8IYlhGK3/+LicxpbFD1A5QIA\n",
       "YgVCLvPPxacAAAAASUVORK5CYII=\n",
       "\" style=\"display:inline;vertical-align:middle;\" /></a></span></td></tr>\n",
       "<tr><td>2</td><td>specialization</td><td>3, 4, 5, 6</td><td><span style=\"font-size:20px;\"><a class=\"ProveItLink\" href=\"../__pv_it/6c962d75a1af427066fe6b1936f9157b6c50391e0/expr.ipynb\"><img src=\"data:image/png;base64,iVBORw0KGgoAAAANSUhEUgAAAOkAAAAVBAMAAABRSdSyAAAAMFBMVEX////c3NxERESqqqpUVFS6\n",
       "urrMzMwyMjIQEBCIiIh2dnYiIiLu7u5mZmaYmJgAAABXZE4RAAAAAXRSTlMAQObYZgAAAvRJREFU\n",
       "SMe9Vk1oE0EUfk26STbdbkMViqes9FAPot48GjXgRewWBGu95NCD0EPjQQS1baREkQoNeOpBWvAi\n",
       "giBerAZ0LxJ/DgYPigo2eBG8tNVIwb/6Zndn5s3sYurFgczOznzf++a9eW82AGB/gP/YUrdz7GE9\n",
       "ZP1JfdV24zhGbUuwv8rOst5cY8OCtDPcLh46C/A6jjKuvE0AgXEeadmZoY25QY0Ab/ylCnZpTy5l\n",
       "HIAVF9JxqheVtxnG1Hm0JYxa4/mSSoBbQnWBQCcxipMFsAma78lUAmw/xnkJC3maqumWVQJRvUag\n",
       "i3jcq0tgVaIuZjxqc9sKIiUs5LH27EL9fqiabB1VCVLVKBNju/C3jObJgRwPnycUT2qLLJ6DOg+z\n",
       "ZNqTvo44GkGo9pJoQhtgYDc+75C0CCP7Tsln70CLwjgPoN+TEZ746GkEX7UX/Uy3SGa3F248YoP9\n",
       "/mrdb7+CtWmq+sQ/yQBGeQA75bnWN6/qhFU2Po1eZ/D3nlnH2jXXAV6wpBglCsmgJKp8Gyw2LuSb\n",
       "BCZ4YDk0m66Lt5CQxm78Mg76XFmPCYy4+ZvlJHWsUWX9N+4XWk8Vi8MOgQkeGHO4L55N4IxxUkiA\n",
       "IYzsaElV7UOL9ndNNXXe01UNDFGZwASPXDm+aoIfa0joYYHqxlFmn1SdxJ10f+WhC8/1XpASs0QV\n",
       "KT0VEmHBA+turCon+OeaRUyiJVVZ2eXZnj6RYw13v0eqdqGR9FoA83i55oMKPKaojoHFxoIgKifb\n",
       "5Ob8sktd8dTKGQifYqoEDWb0pz9n/QjLNeBhUrlS1X7rwEvmvCDIW0LEBF5tFovnfNfJTc5L4ZSY\n",
       "6Z8/A/bejSaDWfM5ykO3pkr89v+yfBjg6TolyBvxUvSipzdiid+IuViYoU8njwQ5zNsIfZGqn6Oq\n",
       "2Vp0jn4RCMzu9E1tRVRt/UvHK7Tzl47D/k3V/75aD9hJFCLIg3H07bGwWgdRU/kvUQ3CdhO7HRFk\n",
       "KY7fVdsSrNP/pj8We+pFNaoRQgAAAABJRU5ErkJggg==\n",
       "\" style=\"display:inline;vertical-align:middle;\" /></a> <a class=\"ProveItLink\" href=\"../__pv_it/7b3b1fbc66b8378d9434878a825ad9d104533a620/proof.ipynb\" style=\"text-decoration: none\">&#x22A2;&nbsp;</a><a class=\"ProveItLink\" href=\"../../../../__pv_it/077b2ff79244fb4582cbe22c6e3356fa92a52f2f0/expr.ipynb\"><img src=\"data:image/png;base64,iVBORw0KGgoAAAANSUhEUgAAABAAAAAOBAMAAADUAYG5AAAAMFBMVEX///+qqqru7u4iIiJ2dnbc\n",
       "3NyIiIjMzMxmZmYQEBC6uroyMjJERERUVFSYmJgAAADLUcuvAAAAAXRSTlMAQObYZgAAAGpJREFU\n",
       "CNdjYGB4+//u3dMLGIBgDgMDxy8gzf4NiP8CGWxfGRj4vgAZPBMYGJgnARn8FxhY9ygAGfXX0pof\n",
       "gDTlBzAw2YIYJ0EckBBI53sHoBH/gIz7AhBjWH9DjancBLTl/N+7t/cxMAAA3u4f/5xagjYAAAAA\n",
       "SUVORK5CYII=\n",
       "\" style=\"display:inline;vertical-align:middle;\" /></a></span></td></tr>\n",
       "<tr><td>&nbsp;</td><td colspan=4 style=\"text-align:left\"><span style=\"font-size:20px;\"><a class=\"ProveItLink\" href=\"../../../../__pv_it/2cbe72a7ad6f655694dd697106680215e8489b600/expr.ipynb\"><img src=\"data:image/png;base64,iVBORw0KGgoAAAANSUhEUgAAAA8AAAAOBAMAAAACpFvcAAAALVBMVEX///8QEBBERERUVFS6urqI\n",
       "iIhmZmaqqqrc3Nzu7u6YmJgyMjIiIiLMzMwAAADtIaYWAAAAAXRSTlMAQObYZgAAAFtJREFUCNdj\n",
       "YACBOwxQsA9Kc52bAGG05zVAGAFxDmCaZULdAjBjCsO9ADDDgaEvAUTzGhvbKYCVMDAwbgAxChgY\n",
       "eASANAeQwf0AyJgNxEwvGRia5HYwcOm9TgAA6BoR3jrzwFcAAAAASUVORK5CYII=\n",
       "\" style=\"display:inline;vertical-align:middle;\" /></a> : <a class=\"ProveItLink\" href=\"../../../../__pv_it/077b2ff79244fb4582cbe22c6e3356fa92a52f2f0/expr.ipynb\"><img src=\"data:image/png;base64,iVBORw0KGgoAAAANSUhEUgAAABAAAAAOBAMAAADUAYG5AAAAMFBMVEX///+qqqru7u4iIiJ2dnbc\n",
       "3NyIiIjMzMxmZmYQEBC6uroyMjJERERUVFSYmJgAAADLUcuvAAAAAXRSTlMAQObYZgAAAGpJREFU\n",
       "CNdjYGB4+//u3dMLGIBgDgMDxy8gzf4NiP8CGWxfGRj4vgAZPBMYGJgnARn8FxhY9ygAGfXX0pof\n",
       "gDTlBzAw2YIYJ0EckBBI53sHoBH/gIz7AhBjWH9DjancBLTl/N+7t/cxMAAA3u4f/5xagjYAAAAA\n",
       "SUVORK5CYII=\n",
       "\" style=\"display:inline;vertical-align:middle;\" /></a>, <a class=\"ProveItLink\" href=\"../../../../__pv_it/077b2ff79244fb4582cbe22c6e3356fa92a52f2f0/expr.ipynb\"><img src=\"data:image/png;base64,iVBORw0KGgoAAAANSUhEUgAAABAAAAAOBAMAAADUAYG5AAAAMFBMVEX///+qqqru7u4iIiJ2dnbc\n",
       "3NyIiIjMzMxmZmYQEBC6uroyMjJERERUVFSYmJgAAADLUcuvAAAAAXRSTlMAQObYZgAAAGpJREFU\n",
       "CNdjYGB4+//u3dMLGIBgDgMDxy8gzf4NiP8CGWxfGRj4vgAZPBMYGJgnARn8FxhY9ygAGfXX0pof\n",
       "gDTlBzAw2YIYJ0EckBBI53sHoBH/gIz7AhBjWH9DjancBLTl/N+7t/cxMAAA3u4f/5xagjYAAAAA\n",
       "SUVORK5CYII=\n",
       "\" style=\"display:inline;vertical-align:middle;\" /></a> : <a class=\"ProveItLink\" href=\"../__pv_it/feaa1d0e6d92ad9ead8e5ffd1f92697e3912387a0/expr.ipynb\"><img src=\"data:image/png;base64,iVBORw0KGgoAAAANSUhEUgAAABwAAAAOBAMAAADOPWE3AAAAMFBMVEX///8QEBBERES6urqIiIiq\n",
       "qqrc3Nzu7u6YmJgyMjJUVFTMzMx2dnYiIiJmZmYAAADMbjvTAAAAAXRSTlMAQObYZgAAAGNJREFU\n",
       "CNdjYEAA7gsMyIDzAwq39zsyjy3uGzKXheUzMtec9QcSj92A+wsDw9u7QHAHyGVmYPsHldkFwqtW\n",
       "fULiGjAwSCK4rEDqIoKbCqTmw1zLwD4BSOkXwFyk+DOBoen/PABSrhtHsYt+gAAAAABJRU5ErkJg\n",
       "gg==\n",
       "\" style=\"display:inline;vertical-align:middle;\" /></a></span></td></tr><tr><td>3</td><td>theorem</td><td></td><td><span style=\"font-size:20px;\"> <a class=\"ProveItLink\" href=\"modusTollensAffirmation.ipynb\" style=\"text-decoration: none\">&#x22A2;&nbsp;</a><a class=\"ProveItLink\" href=\"../__pv_it/1e53822dd2e5906bb78831332efe5d682d4a6abe0/expr.ipynb\"><img src=\"data:image/png;base64,iVBORw0KGgoAAAANSUhEUgAAAOoAAAAZBAMAAADNvK/KAAAAMFBMVEX///8QEBC6urrMzMxUVFRm\n",
       "ZmZERETc3NwyMjKqqqp2dnaIiIiYmJgiIiLu7u4AAAAU9Wx4AAAAAXRSTlMAQObYZgAAAyZJREFU\n",
       "SMfFlk9IFFEcx7/u7O64O+ModAmiWEK6FLkHD0EHlzLrlpATBBVWOAZRzkHc/qDtRSQPuYcMog5L\n",
       "B7NLTFAnhbZD0R+KDbKgMvZQIVkWiloY1vszO+9t665FKz2YN++9me/7/N77/d4foGQKjr9EuZNv\n",
       "/NUyf1RhJVLnf6Jml6EaK0LN0Nfj4lQ2Wt0pF1DJMOp1Wj5fnBpOkldltlzUyq+M2kVytbU4lX3r\n",
       "KtvkPllkVDqMQLJENNF52FcuqDo4z6j6tXi8u1QMP4rH45lyUTVtmq+cOct6VYpabVnHU0tYHZUq\n",
       "oT+lbg794NTtQDtr6Vua6o8iaAMXZ80mBvLxL6fFT31QZLNCHWbLEVH1hCQZEWWBU2thJNjqmOZf\n",
       "9P7+3rRE9cUwQZtroNWwTZJ/EQFIhVdlU+8CN0XNEzKL1VlOrYLGIO/p2CfN/XBSk+vlvSmDUZIH\n",
       "YvDNC2pIrGAqnJCpLUCd7dU8IUn1jY1znKqlq9hqvDFGyod7pgg1/EmmjuItLTkIZAQ1KLqlQj+f\n",
       "w0ssfw0ckJyUE5IUAVZzqpGoZ5uGYwH3aMlJbTwoUyeUGMm/RPHAFtQKsdtQoeYIW4wZ6FKMeEIe\n",
       "dM/c3b99G23xU/uYgx1zrexXBDuJiagbuXUCgrrF65UJifP3WpZ1dBV13sJIk7SXeULgFHkGXOog\n",
       "G/9D3HFD0UkFtsrUEJuuYRIlWUGtBYYIJsGFUBKuE/cA4QT0daQcpmZIQh61HVlOraCzY4yZHVnl\n",
       "hWUdo34N5510a2jWRuYqKagXcpHMhB5VabMRbIbxPXcrkITqoW827v/s5VSdWhKw0RA1Ynysv1Gf\n",
       "0oz0UxcV1A05KhPC14rbJkk7SFt1Er4ZQfWES5zqm8jfaex0Z/hMwamuLkIdk/z6OUflQj2FKZI+\n",
       "0mk7m0V3M066oSeEhdR3c1B3v8GHCNslrHQBdXjW3JWUqHy1IeoKAxG+Hqk7B8yWc0AD60ORhMVv\n",
       "MEPEr8vcYDhVy++pkr96pKZ0We9NnGrkH8mXCy8N9gpQcSWvMVbwm/4vd8TC+7Df7VWOy/Df3HB8\n",
       "489/ATf442jejRCQAAAAAElFTkSuQmCC\n",
       "\" style=\"display:inline;vertical-align:middle;\" /></a></span></td></tr>\n",
       "<tr><td>&nbsp;</td><td colspan=4 style-\"text-align:left\"><a class=\"ProveItLink\" href=\"modusTollensAffirmation.ipynb\">proveit.logic.boolean.implication.modusTollensAffirmation</a></td></tr><tr><td>4</td><td>assumption</td><td></td><td><span style=\"font-size:20px;\"><a class=\"ProveItLink\" href=\"../__pv_it/914e2e75adaf19a4938e0413a1a8fbb4767549080/expr.ipynb\"><img src=\"data:image/png;base64,iVBORw0KGgoAAAANSUhEUgAAAEsAAAAVBAMAAAD85A5eAAAAMFBMVEX////c3NxERESqqqpUVFS6\n",
       "urrMzMwyMjIQEBCIiIh2dnYiIiLu7u5mZmaYmJgAAABXZE4RAAAAAXRSTlMAQObYZgAAAUJJREFU\n",
       "KM9jYGDgu8eAD7CtEgBRPLsY8AO2ZhDJ+QFEPvnv4qIegCK9/FN9xSYDIOM6iMfVABZsYmDg/Ypq\n",
       "jEIkT80qIL0CoYztJxB/QVfGMJUdVRnnR6BffoFlT1bv3g5TZsdyAEUZE5Dk7gGbW3cAyTQhVNP4\n",
       "HRgYi8DyQgcQlrLt04Ep4y0AkfmeM28/AEsqItwWvf/HBCD9HsTJAAfDfAEGni3gYFRA9sJMIyDN\n",
       "foGBIaUNLKQBUgoyjrV7926EF5hYFwAZ6kCJiASQECgs3oOE2ByQTWNiABrODRJnAbmN7R+Q8AcF\n",
       "Oc8GDGVgt3FtgAYb43ewpB+KMpCliAABBVtGDVjydACSsreTkMONV/+Li3sdRJKxNgEe9dotBqjB\n",
       "iwSY3aE+hQHsyjAAWBkfQWXg9Mazk1DqbQVTfIsJ5wUARE9btOyT4dIAAAAASUVORK5CYII=\n",
       "\" style=\"display:inline;vertical-align:middle;\" /></a> <a class=\"ProveItLink\" href=\"../__pv_it/c8fb2ead5ce9bf67050d1f45aa1e107c886568230/proof.ipynb\" style=\"text-decoration: none\">&#x22A2;&nbsp;</a><a class=\"ProveItLink\" href=\"../__pv_it/41a86ef0ff9417c73c472e1bdfa161b308e2753e0/expr.ipynb\"><img src=\"data:image/png;base64,iVBORw0KGgoAAAANSUhEUgAAADcAAAAPBAMAAACy3Eq1AAAAMFBMVEX///+qqqru7u4iIiJ2dnbc\n",
       "3NyIiIjMzMxmZmYQEBC6uroyMjJERERUVFSYmJgAAADLUcuvAAAAAXRSTlMAQObYZgAAAOZJREFU\n",
       "GNNjYGB4+//u3dMLGJCB95/9O20EwMw5DAwcv1AkGQ4sY9rkAmKwfwPiv+iSDFncIAbbVwYGvi9g\n",
       "MbXNxtYwSTleBSCDZwIDA/MksBn7FJB0xoAY/BcYWPeARWMUEMay2x0CMeqvpTU/AAsdRdi52P5n\n",
       "AoiRH8DAZAtiMB1AdlCaDIhxEqQApJVrsrExwkE8XA5ABsgX70EM9gvIOnkYgAax/wNy7oOCg8kA\n",
       "QxLkTdbfYKF7KJIgY0HerNwEFlJegCT5IgcYquf/3r29DyLEuqMAHvCH5wqghigD422oayEAAEv1\n",
       "Sz0foy5uAAAAAElFTkSuQmCC\n",
       "\" style=\"display:inline;vertical-align:middle;\" /></a></span></td></tr>\n",
       "<tr><td>5</td><td>assumption</td><td></td><td><span style=\"font-size:20px;\"><a class=\"ProveItLink\" href=\"../__pv_it/2d43b128084366334324441f7be28bfabcfadd740/expr.ipynb\"><img src=\"data:image/png;base64,iVBORw0KGgoAAAANSUhEUgAAAI8AAAAVBAMAAACNsKCFAAAAMFBMVEX////c3NxERESqqqpUVFS6\n",
       "urrMzMwyMjIQEBCIiIh2dnYiIiLu7u5mZmaYmJgAAABXZE4RAAAAAXRSTlMAQObYZgAAAiNJREFU\n",
       "OMtjYGDgu8dAGWBbJQCieHaByEh0Wb4AbHpYJ2BTxtYMYnJ+ADEdEFL+X1ycShkYrmEzKAWFl80A\n",
       "VXYdRHA1AAn2AwhpDgUGhvsBDOzYDKpB4dWDdIIYK+AGzUSSzgc6P9+BgW8BQghmDSeKz/j2A8XB\n",
       "yhAG9SDJzwcG3fsFDDwNmA7hOIBskPB9oEqwMrhBrAVI8hpAvAOoQxkhFAKlw1F8NmE+KKSVkQ3i\n",
       "RfIGwxcGBnEdIL0WIcQF9dItlBg8YP8AqgxsEC/QNewPkFLFl5lz94EY5mDZ3WDwFyJXh2zQUXBo\n",
       "gpW9B/EzgO7jAOLbIA3ANMX5kYHhNCg1RCBpYi4FU60wk0E+CGCQvwBVxg5kpLQBGfwBiHTCBPQq\n",
       "5z9Q7CFbf7wVRH6FuRpoEZuLi78CTJk60EsRCagG8QMV8f1CM4it6gC6QaxAjxRAlXGDXMgC5HEY\n",
       "IAzKBxrO8hnmNWgYbYLEezOSQUAt3A1QZeAw4toA9M4DhEGgZCQPsuo5UhBBc5AewiBGoEHsH6DK\n",
       "4NHPdQGmApyM2NoPoEa/OJSGCyUwHAeSTH+Qox+cIDfA9Vz67+JSDnZgKcIgRSgdDRcR6i9k4NP/\n",
       "fgGiDJFFGjHzJ3IWSYBlEQHsyhAGvcI0iGsCphhyRkZWBjaID70YgaUcwsUIXBm4POLZCSQYHTBU\n",
       "OGIzSASrMrZWiHsXAwlJdAWcCdgMYpyARRm4zAYARRmPwYytMVwAAAAASUVORK5CYII=\n",
       "\" style=\"display:inline;vertical-align:middle;\" /></a> <a class=\"ProveItLink\" href=\"../__pv_it/eab7022f6ae0eba285a1676940ec4f785552a6a10/proof.ipynb\" style=\"text-decoration: none\">&#x22A2;&nbsp;</a><a class=\"ProveItLink\" href=\"../__pv_it/1cb7d4d9e535dffc8c0d1a976e26c491544c5f510/expr.ipynb\"><img src=\"data:image/png;base64,iVBORw0KGgoAAAANSUhEUgAAAHkAAAAVBAMAAACQ4lxbAAAAMFBMVEX////c3NwiIiJERESqqqqY\n",
       "mJh2dnZmZmYQEBDu7u4yMjJUVFTMzMyIiIi6uroAAAAs73DqAAAAAXRSTlMAQObYZgAAAb5JREFU\n",
       "OMullL9Lw0AUx9/Z1iY1aTO4iVA6iODgJFQXuwm6FIUugnYTh4J0cK7oooM4Ogoi2snOBrGj2EH/\n",
       "AEuDm4JQERVbbL0fSe6lOXAw0L67bz7fdz/eXQD+9yQfBpU1JfeqxBqyv9q37TkH4nWF2agFemkQ\n",
       "WBWJu1TrAZwo3ImjQK8NHDPRxI0f+usCFKSke41mINfyN3BMQznNN4DYJ8CxYsh9bCYLlGTYCxIj\n",
       "FYAhikVyck/d5SYDqzHNHnBsG4mpGpBTOtjwltRKIsSL2P0c/QCOnSHx/rpZztMY5QOVM+yZFpkS\n",
       "ecTpDtshhh3SvByjyVsW6FNsmhWELjrsX3PcdBPsPZAvgfVQPbM0tuggRhsPdMHsKcftsuPRsO13\n",
       "4Bh202LBenHAfbcJg27aPhDuPek22Fbc5LyZi3VnZvlrLSfdURomxcxnpJuVm3RoO4bKs+QWMy/d\n",
       "ozRcCmzDw+q83LdVCFSMuIl8yQCdSfOisE8+GJ/v2le8gAlHHiDLPS1pP1+2Y8FK/5xjmhW+Eeik\n",
       "Gl5jR4nFimG5pLhjBTVWDan63zfUx8ZC4IhiMUBqSoyEvkyPyi/TuAL7BdKec4W7hfHjAAAAAElF\n",
       "TkSuQmCC\n",
       "\" style=\"display:inline;vertical-align:middle;\" /></a></span></td></tr>\n",
       "<tr><td>6</td><td>specialization</td><td>7, 8</td><td><span style=\"font-size:20px;\"><a class=\"ProveItLink\" href=\"../__pv_it/2700633c29669936275e69317ebd77c3a6285b9c0/expr.ipynb\"><img src=\"data:image/png;base64,iVBORw0KGgoAAAANSUhEUgAAACIAAAAVBAMAAADRFiHkAAAAMFBMVEX///9ERETc3NyqqqpUVFS6\n",
       "urrMzMwyMjIQEBCIiIh2dnYiIiLu7u5mZmaYmJgAAABJJ2g3AAAAAXRSTlMAQObYZgAAAK1JREFU\n",
       "GNNjYGDgu8cAA1mLQCTPLgYEyDAAEpwfIBy2DUCCtwBIcDVARNg/wDgwkdd/0ESYbD+hiXByfkUT\n",
       "iWH+B+OAjWfgCWD7CaT4QMZnBIBEWBmY/oLoWgaGlDawphQXl48gmrGOgSEiAcQCKmwH0SAPsIDM\n",
       "YQbiHTBzuECuVwbiemTbeUDq5A8gRJgkviswPPxfi+YvMMAhwocsAvYAz07kMAR7gG8xSjgDAMfT\n",
       "LYlEWPTfAAAAAElFTkSuQmCC\n",
       "\" style=\"display:inline;vertical-align:middle;\" /></a> <a class=\"ProveItLink\" href=\"../__pv_it/3fd13f63426983320d85b012230bc9eacd0fa8390/proof.ipynb\" style=\"text-decoration: none\">&#x22A2;&nbsp;</a><a class=\"ProveItLink\" href=\"../__pv_it/690f844a8265fe01f189bf903fced7412f5ba46b0/expr.ipynb\"><img src=\"data:image/png;base64,iVBORw0KGgoAAAANSUhEUgAAADkAAAAVBAMAAAAOWFv7AAAAMFBMVEX////c3NxERESqqqqYmJgQ\n",
       "EBDu7u4yMjKIiIi6urpUVFTMzMx2dnYiIiJmZmYAAABjE816AAAAAXRSTlMAQObYZgAAAOFJREFU\n",
       "KM9jYCAOzEAX8ERicy9AluG+wMDAtwHBZ09AlmX/ACQKEPwOFFN9vwEJHwQ/DFmS0e4jkEyF8zkL\n",
       "kGU5OH4CSSYDGJ/vALLsNOYvQJLnAdwZDkiSbBO4fwAp5gKGt3eB4A4D6wQGGBNoDQPjPxAVAFG8\n",
       "i4F/AgOMCcSrVn0CefoDVlkgOxxFltUAIcsMpK6imMzkgJAVBlL1QMwC9SU3wvXcDGwgQf0EZB9x\n",
       "XoCHk+p3AQan/3VAX06A+zEQM04RIYkc5DBwAlcMgkMMKegZF6DLcgkgcSTQZbsZGAAzQjehLLGe\n",
       "5wAAAABJRU5ErkJggg==\n",
       "\" style=\"display:inline;vertical-align:middle;\" /></a></span></td></tr>\n",
       "<tr><td>&nbsp;</td><td colspan=4 style=\"text-align:left\"><span style=\"font-size:20px;\"><a class=\"ProveItLink\" href=\"../../../../__pv_it/2cbe72a7ad6f655694dd697106680215e8489b600/expr.ipynb\"><img src=\"data:image/png;base64,iVBORw0KGgoAAAANSUhEUgAAAA8AAAAOBAMAAAACpFvcAAAALVBMVEX///8QEBBERERUVFS6urqI\n",
       "iIhmZmaqqqrc3Nzu7u6YmJgyMjIiIiLMzMwAAADtIaYWAAAAAXRSTlMAQObYZgAAAFtJREFUCNdj\n",
       "YACBOwxQsA9Kc52bAGG05zVAGAFxDmCaZULdAjBjCsO9ADDDgaEvAUTzGhvbKYCVMDAwbgAxChgY\n",
       "eASANAeQwf0AyJgNxEwvGRia5HYwcOm9TgAA6BoR3jrzwFcAAAAASUVORK5CYII=\n",
       "\" style=\"display:inline;vertical-align:middle;\" /></a> : <a class=\"ProveItLink\" href=\"../../../../__pv_it/2cbe72a7ad6f655694dd697106680215e8489b600/expr.ipynb\"><img src=\"data:image/png;base64,iVBORw0KGgoAAAANSUhEUgAAAA8AAAAOBAMAAAACpFvcAAAALVBMVEX///8QEBBERERUVFS6urqI\n",
       "iIhmZmaqqqrc3Nzu7u6YmJgyMjIiIiLMzMwAAADtIaYWAAAAAXRSTlMAQObYZgAAAFtJREFUCNdj\n",
       "YACBOwxQsA9Kc52bAGG05zVAGAFxDmCaZULdAjBjCsO9ADDDgaEvAUTzGhvbKYCVMDAwbgAxChgY\n",
       "eASANAeQwf0AyJgNxEwvGRia5HYwcOm9TgAA6BoR3jrzwFcAAAAASUVORK5CYII=\n",
       "\" style=\"display:inline;vertical-align:middle;\" /></a></span></td></tr><tr><td>7</td><td>axiom</td><td></td><td><span style=\"font-size:20px;\"> <a class=\"ProveItLink\" href=\"../../negation/_axioms_.ipynb#doubleNegationIntro\" style=\"text-decoration: none\">&#x22A2;&nbsp;</a><a class=\"ProveItLink\" href=\"../../negation/__pv_it/c783ed2d3615027403f4c746a0eb27b91754b1b10/expr.ipynb\"><img src=\"data:image/png;base64,iVBORw0KGgoAAAANSUhEUgAAAIoAAAAXBAMAAAAmUcrKAAAAMFBMVEX///8QEBC6urrMzMxUVFRm\n",
       "ZmZERETc3NwyMjKqqqp2dnaIiIiYmJgiIiLu7u4AAAAU9Wx4AAAAAXRSTlMAQObYZgAAAd5JREFU\n",
       "OMutlL9LAzEUx1/tT+z1FDcnKzg4KHRwE6lowbEFqYIgdWoRBG8QxUEsLi6iXQQ3u4i4yP0HvVFx\n",
       "sIuLKBZR6CIUheJQiy95qUltuIL4hS/5XC75cnlJDuBfVOk6osfWIcmIksvs4cYtZUKLqCn0PPmC\n",
       "PR+6pRxqEXWEDpE3sQmuuISEbR2y1TxhNYwidwjRX3BJ8VR0iNrOWABmP7dxvrW147agUS2i7BKW\n",
       "FVbJ9Wz23i1lSYu4X5VTB5sz8ixAjnfv08vWqJBF7YGceKCmPEOclemEPAJmnhfrnb8MtEbdRqkd\n",
       "wLo9MhVVBIjCbgqbYXIEwuzL4LXRlmJmHIJ30eGdVhG8iUSSbW2cHHYivPSXd20pvW8p1xRcuScv\n",
       "U8w8P5FeO9uWMhkQh2hQTlUQ8HBE+uWKIDfD3vhguS1l2l8mWJNTFQxiSqiGfCV8zIdfQ0lNMQrh\n",
       "GtFZq9wxFatsaFPuNHjYhpl36fWKkvKWXmgSjcvNlbg5tA/G+ieWbg/IBpvttyAeU1IWwfshjr0l\n",
       "b4DVcSbFDRAaA+hzZEoPckOsrSjvX7Ejpdcmc73UIZh8+Ekx8ShsfDld/gxMVeFfCnT0bGhRaE64\n",
       "a0rQ1qH448TI3VP+It9fJn0DNS92cX4hgpAAAAAASUVORK5CYII=\n",
       "\" style=\"display:inline;vertical-align:middle;\" /></a></span></td></tr>\n",
       "<tr><td>&nbsp;</td><td colspan=4 style-\"text-align:left\"><a class=\"ProveItLink\" href=\"../../negation/_axioms_.ipynb#doubleNegationIntro\">proveit.logic.boolean.negation.doubleNegationIntro</a></td></tr><tr><td>8</td><td>assumption</td><td></td><td><span style=\"font-size:20px;\"><a class=\"ProveItLink\" href=\"../__pv_it/2700633c29669936275e69317ebd77c3a6285b9c0/expr.ipynb\"><img src=\"data:image/png;base64,iVBORw0KGgoAAAANSUhEUgAAACIAAAAVBAMAAADRFiHkAAAAMFBMVEX///9ERETc3NyqqqpUVFS6\n",
       "urrMzMwyMjIQEBCIiIh2dnYiIiLu7u5mZmaYmJgAAABJJ2g3AAAAAXRSTlMAQObYZgAAAK1JREFU\n",
       "GNNjYGDgu8cAA1mLQCTPLgYEyDAAEpwfIBy2DUCCtwBIcDVARNg/wDgwkdd/0ESYbD+hiXByfkUT\n",
       "iWH+B+OAjWfgCWD7CaT4QMZnBIBEWBmY/oLoWgaGlDawphQXl48gmrGOgSEiAcQCKmwH0SAPsIDM\n",
       "YQbiHTBzuECuVwbiemTbeUDq5A8gRJgkviswPPxfi+YvMMAhwocsAvYAz07kMAR7gG8xSjgDAMfT\n",
       "LYlEWPTfAAAAAElFTkSuQmCC\n",
       "\" style=\"display:inline;vertical-align:middle;\" /></a> <a class=\"ProveItLink\" href=\"../__pv_it/0cbf4ba18936f5d879bcab1d3c6cf36bbb2fc9690/proof.ipynb\" style=\"text-decoration: none\">&#x22A2;&nbsp;</a><a class=\"ProveItLink\" href=\"../../../../__pv_it/2cbe72a7ad6f655694dd697106680215e8489b600/expr.ipynb\"><img src=\"data:image/png;base64,iVBORw0KGgoAAAANSUhEUgAAAA8AAAAOBAMAAAACpFvcAAAALVBMVEX///8QEBBERERUVFS6urqI\n",
       "iIhmZmaqqqrc3Nzu7u6YmJgyMjIiIiLMzMwAAADtIaYWAAAAAXRSTlMAQObYZgAAAFtJREFUCNdj\n",
       "YACBOwxQsA9Kc52bAGG05zVAGAFxDmCaZULdAjBjCsO9ADDDgaEvAUTzGhvbKYCVMDAwbgAxChgY\n",
       "eASANAeQwf0AyJgNxEwvGRia5HYwcOm9TgAA6BoR3jrzwFcAAAAASUVORK5CYII=\n",
       "\" style=\"display:inline;vertical-align:middle;\" /></a></span></td></tr>\n",
       "</table>"
      ],
      "text/plain": [
       "\tstep type\trequirements\tstatement\n",
       "0\tgeneralizaton\t1\t|- forall_{A, B | [not](B) => [not](A) , B in BOOLEANS} (A => B)\n",
       "1\thypothetical reasoning\t2\t{[not](B) => [not](A) , B in BOOLEANS} |- A => B\n",
       "2\tspecialization\t3, 4, 5, 6\t{[not](B) => [not](A) , B in BOOLEANS , A} |- B\n",
       "\tA : B, B : [not](A)\n",
       "3\ttheorem\t\t|- forall_{A in BOOLEANS} [forall_{B | [not](A) => B , [not](B)} A]\n",
       "\tproveit.logic.boolean.implication.modusTollensAffirmation\n",
       "4\tassumption\t\t{B in BOOLEANS} |- B in BOOLEANS\n",
       "5\tassumption\t\t{[not](B) => [not](A)} |- [not](B) => [not](A)\n",
       "6\tspecialization\t7, 8\t{A} |- [not]([not](A))\n",
       "\tA : A\n",
       "7\taxiom\t\t|- forall_{A | A} [not]([not](A))\n",
       "\tproveit.logic.boolean.negation.doubleNegationIntro\n",
       "8\tassumption\t\t{A} |- A"
      ]
     },
     "execution_count": 6,
     "metadata": {},
     "output_type": "execute_result"
    }
   ],
   "source": [
    "%qed # automation can take it from here"
   ]
  },
  {
   "cell_type": "code",
   "execution_count": null,
   "metadata": {},
   "outputs": [],
   "source": []
  }
 ],
 "metadata": {
  "kernelspec": {
   "display_name": "Python 3",
   "language": "python",
   "name": "python3"
  }
 },
 "nbformat": 4,
 "nbformat_minor": 0
}
