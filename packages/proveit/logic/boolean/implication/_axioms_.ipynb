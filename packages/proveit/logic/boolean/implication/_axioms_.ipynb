{
 "cells": [
  {
   "cell_type": "markdown",
   "metadata": {},
   "source": [
    "Axioms for context <a href=\"_context_.ipynb\" class=\"ProveItLink\">proveit.logic.boolean.implication</a>\n",
    "========"
   ]
  },
  {
   "cell_type": "code",
   "execution_count": 1,
   "metadata": {},
   "outputs": [
    {
     "name": "stdout",
     "output_type": "stream",
     "text": [
      "Defining axioms for context 'proveit.logic.boolean.implication'\n",
      "Subsequent end-of-cell assignments will define axioms\n",
      "%end_axioms will finalize the definitions\n"
     ]
    }
   ],
   "source": [
    "from proveit.logic import Equals, Implies, TRUE, FALSE, Forall, And, Iff, Not, NotEquals, Booleans\n",
    "from proveit._common_ import A, B\n",
    "%begin axioms"
   ]
  },
  {
   "cell_type": "markdown",
   "metadata": {},
   "source": [
    "**Conveys the defining properties of an implication with a FALSE conclusion\n",
    "for any Boolean hypothesis:**"
   ]
  },
  {
   "cell_type": "code",
   "execution_count": 2,
   "metadata": {},
   "outputs": [
    {
     "data": {
      "text/html": [
       "<strong id=\"impliesFalseDef\">impliesFalseDef:</strong> <a class=\"ProveItLink\" href=\"__pv_it/0360c7ad947a096705c0fcf3db690f3dc937688f0/expr.ipynb\"><img src=\"data:image/png;base64,iVBORw0KGgoAAAANSUhEUgAAAOAAAAAVBAMAAACtXP94AAAAMFBMVEX///8QEBC6urrMzMxUVFRm\n",
       "ZmZERETc3NwyMjKqqqp2dnaIiIiYmJgiIiLu7u4AAAAU9Wx4AAAAAXRSTlMAQObYZgAAAnBJREFU\n",
       "SMe9Vc9rE0EUfukaE5PNtvTWQzGVHgQVcvAmkqCFHCtILuIvPGwRheYgrSJqCJRKkOql0Fv3EsWL\n",
       "7H/QvQgVL17agyguohKoiBQsHkR8MzubeTO7sxUPPvh2h/3mm2923psZgP8dYSY74ksoYVfNIjPH\n",
       "mDes8drU4ySBjNOI86n9C3xi6ZxQPWftFZPhCoGMx4hian/rHBg5oVpg87pq8Cv7EmRhPmAebC8t\n",
       "LZEh5RKqIr7yTwyGuVBCxp0rbQBnTF0Haki5hMp+trh4z7SiRwlk+BusKq7LD9OaIeWSqj3XfWsy\n",
       "vEAgKzdcD/DVl19KvmbYT6n3oeoswBz/tJzs9YhgGB+hzgzWWDv/nscPzTDiHvJo6KppcDo8qbsi\n",
       "ub3eUiD04xLR0KwaqvCADTtF5nCoqxpOJecuVRUo8/E//8LHTusi+N7OEdFrl4CPh9O1ZmZmWVXX\n",
       "6XCDccWwntwvUlUOKrwGX2xh+9r9b2hY+pphOIJF29EGtXrhPoZE5XT4MWL5LsBLXk7escui2wRB\n",
       "bIhbqDIWL5vI4XaYsqSCi/Y4Vc2dYV8OwCUAnky/NRnn8CaBMCygtPgd25skhQ2taDYTRx5VrfLj\n",
       "9BVsgOVFf5g/Jfr1CXjUYIDPg7/V0r8N+20LRZVj5epsteZDa9t1b7AclkS/EwRRLBxeBnv+J47b\n",
       "lcNF24qv4SRfw67mp6psloB8G+o1pxH94dAw15bQgh5ftQzOxBwHGA2gKZb0bnzgehJalHzzhWjm\n",
       "hsynPSjMvoMvVb7x3SD7eoqzYorB3zNPMYc0bhGo0cwwbP4DQ27wGOpNWTOLzBwyfwCulsldcIJz\n",
       "nAAAAABJRU5ErkJggg==\n",
       "\" style=\"display:inline;vertical-align:middle;\" /></a><br>"
      ],
      "text/plain": [
       "impliesFalseDef: forall_{A in BOOLEANS} (([not](A) => FALSE) = A)"
      ]
     },
     "execution_count": 2,
     "metadata": {},
     "output_type": "execute_result"
    }
   ],
   "source": [
    "impliesFalseDef = Forall(A, Equals(Implies(Not(A), FALSE), A), domain=Booleans)"
   ]
  },
  {
   "cell_type": "markdown",
   "metadata": {},
   "source": [
    "This is defined in a manner that enables proof by contradiction (reductio ad absurdum)."
   ]
  },
  {
   "cell_type": "markdown",
   "metadata": {},
   "source": [
    "***An implication is vacuously true if its antecedent is untrue:***"
   ]
  },
  {
   "cell_type": "code",
   "execution_count": 3,
   "metadata": {},
   "outputs": [
    {
     "data": {
      "text/html": [
       "<strong id=\"untrueAntecedentImplication\">untrueAntecedentImplication:</strong> <a class=\"ProveItLink\" href=\"__pv_it/9a87e251f9811ed55e93ae5165a88824b4e095e80/expr.ipynb\"><img src=\"data:image/png;base64,iVBORw0KGgoAAAANSUhEUgAAAL0AAAAXCAMAAABpjr6KAAAAOVBMVEX///8oKCgUFBQJCQkQEBC6\n",
       "urrMzMxUVFRmZmZERETc3NwyMjKqqqp2dnaIiIiYmJgiIiLu7u4AAACP9cC6AAAAAXRSTlMAQObY\n",
       "ZgAAAntJREFUWMPVV4m2nSAMtC3IEtb8/8eWRTSoqO27tS3nXPUqkSEzTHCa/usW/8KY3H39HZ7n\n",
       "Y9j+u5fAz6L7Fx4DFogiNQUZuZzTwZr2EN6ioR8I8HkkU+UkMcOH9NNqebJe/OnmOo59wPhU0TO6\n",
       "5ZzZ85ZkQpqX0DMKTBuJ+p6gZd5LV48ZeGRlCrq08NaShQ5QgsRPu4njPcXqOdQEqJxvVLkF+xJ6\n",
       "SQficTLoT/vZo4kUwUwaVOXFynQQc5kI4Q/ItVEopRRqJkMeaabkR329ZgnYyDcxl5kF0lAeZC+c\n",
       "czK0FxhoHEXCp++49IUuxwiBByvrAoqVycwny4c9p4z3edAHlGvigJ/JPoZFVJw1y3dbRqLsuJSl\n",
       "Lydra4++D9BiPM1CPyfGnxsOzS4Cneoqe7cMNxevzcjDtsRtDDQbwVVOx7nvA5R+jL5eMRhVNbDx\n",
       "KPtmOQ19Ug0pf7ObFBk2YhaCp8regeoDuJ2u0bPVmU1zkHPdBxV3sl8YFmiIclK6xJYQ0SeaY1op\n",
       "onvRDlQLEJDbj/RzV+iVX63+stgaMXB7jQtZvp4NgetN7kdkAXXpxhH6PsD56Sb3VjZRt16nxVbD\n",
       "wO1n1gpZexNbTStJWEr6PiWrfswAVB8Qu2en6Hmo+xKGRY1eIcKJ66id76YxyhYNNsdtluRXtFIX\n",
       "hW3uXmFzcqcHtQWopJnv3+BOORPTjzai93t7dkhMnVheH7qkRpes6s6F1HlA75Zj9P5DVX1fjGP1\n",
       "Xi0w1bOyxC2USgvmHFQXkJ/EB+g/tBWPcPM1MLg/rC7mWVa1+AR6cS3AWf8qeng4sP7AV5ybfy/1\n",
       "Q/T+rS+Er3H2zyD5CbkSG3s19W3vAAAAAElFTkSuQmCC\n",
       "\" style=\"display:inline;vertical-align:middle;\" /></a><br>"
      ],
      "text/plain": [
       "untrueAntecedentImplication: forall_{A, B | A != TRUE} (A => B)"
      ]
     },
     "execution_count": 3,
     "metadata": {},
     "output_type": "execute_result"
    }
   ],
   "source": [
    "untrueAntecedentImplication = Forall((A, B), Implies(A, B), conditions=[NotEquals(A, TRUE)])"
   ]
  },
  {
   "cell_type": "markdown",
   "metadata": {},
   "source": [
    "It doesn't matter whether or not $A$ and $B$ are well-defined -- nonsense implications are harmless as long as we can guarantee that the antecedent cannot be proven."
   ]
  },
  {
   "cell_type": "markdown",
   "metadata": {},
   "source": [
    "**`Iff` (if and only if) is defined as implication in both directions:**"
   ]
  },
  {
   "cell_type": "code",
   "execution_count": 4,
   "metadata": {},
   "outputs": [
    {
     "data": {
      "text/html": [
       "<strong id=\"iffDef\">iffDef:</strong> <a class=\"ProveItLink\" href=\"__pv_it/a756da7a5c4731c8ee727591cf414442c56348d00/expr.ipynb\"><img src=\"data:image/png;base64,iVBORw0KGgoAAAANSUhEUgAAAXkAAAAWBAMAAADX+PE1AAAAMFBMVEX///8QEBC6urrMzMxUVFRm\n",
       "ZmZERETc3NwyMjKqqqp2dnaIiIiYmJgiIiLu7u4AAAAU9Wx4AAAAAXRSTlMAQObYZgAAA99JREFU\n",
       "WMPVl01IVFEUx4/zHJ86My9xIbmoXLgIyhrBqE041BBCC9u4KJB0kbaonCD8WFQW2ESFzSKjTeQm\n",
       "Mgx5YDsXWkT0QWSQBZE4hoGrEvGrEu1+nHPfzJs7zmRuPPB3nHfu775z7z333DsAm9riazk9tlQG\n",
       "e75xZJYMaZQ/eJumYRWK2UGd/8VqOHy6DLzBDSOrHJ/ODBYuZ0iP+cPuNNF3O77b2gYlrJNZgM7/\n",
       "Ji8lcOTTWP4MSAbVyj7MBn3wPluKmX9Cl2LGH6Y5gDfZkvF0ZJfDKR+aldDvuxWQDCqfdeiN6aPP\n",
       "iUsx6zgZwdEz7VNBLrLofgNMZkMmLbKLNM7GFad8NN/O6M0e5hIMyv+ore1imsTZiWJmD2MiDjHl\n",
       "UTx5RQCB7ewzlgXJrRz0ZO4uW3HKRxs55CypjycUZ0gLTU1f0kR/AsV6iD8YkZPEE86kbN0SAvMa\n",
       "m5rCY5lJYYW2npyW1UMy5CPrV//tKVgGyZAOAzQLV1T8vTtfd4QKwS0UwDeolu+t3DbObAn7rj46\n",
       "VM9jK+DD8V4XFtKT3nFh86AhAZ7AcfVG5QOoF8wEzY1VxreEYEjlYIke/HKX+4vAV4Sti1EAZXBZ\n",
       "dOGTieu5KhsMR8D6yL8XueY+lUQr0JOj0K445VN2D3PPA+Y8MqQA+MRAvy+LFt4QeBaRmkWBEQ7X\n",
       "8rpklaDnvMzFRv4uRhszruhTSGXTxRrSb0NukDjlc6rOFRl+VTi8AJIh+UYCIg8GxkSLgA3eUXcM\n",
       "HlYNxAJNyXk0b8oGvKy9710rekVSpbwR15AsAiOkoiefsgMDgOsIW13RW53iTDTsJtHiZxBeUUkp\n",
       "RQHb3AG5xPdl+soWBl+u2hiuP2Z2g55E76e4hoQe2naliT7K+/FzmHVMH1yZA82HRM2CetFk79DT\n",
       "czTmMygzhqcc64FPkfXZKdrmEl9592GrIR08lYziCASjfGR38LMDD27OkKBHJMprGBZN+gCeUbV6\n",
       "iJrmRXZFPuO1IbfMKdqV3aCpmDqSWzvoSIOvV4A45aMjCqdGFJeWeHLFhBxe0ayxuhYR9CmWPHT2\n",
       "VEi17oiCv2WJKrO8XfBkaJkL14gal+++U+lIbs1aUsyGuCRUJPpopDJNzcalCLxc7ZIMCfw8am8E\n",
       "qsWu/8WSh+p9TkQq6WrD9MN9rKXeFDQkt6CW9NCe1DKGjplMeutudsSNmFEwV8Aco4f+XqmM1u9+\n",
       "sF4ya6Y/kZ1aALP2K9vtffN1NTHdPXcts9a8If8TmSVDSh666/sFVAbLTV3v9ZJZMqQk2+/6btpS\n",
       "GWww9dF6ySyZQR07ssl+lP8FkGB7YFhFVksAAAAASUVORK5CYII=\n",
       "\" style=\"display:inline;vertical-align:middle;\" /></a><br>"
      ],
      "text/plain": [
       "iffDef: forall_{A, B} ((A <=> B) = ((A => B) and (B => A)))"
      ]
     },
     "execution_count": 4,
     "metadata": {},
     "output_type": "execute_result"
    }
   ],
   "source": [
    "iffDef = Forall((A, B), Equals(Iff(A, B), And(Implies(A, B), Implies(B, A))))"
   ]
  },
  {
   "cell_type": "code",
   "execution_count": 5,
   "metadata": {},
   "outputs": [
    {
     "name": "stdout",
     "output_type": "stream",
     "text": [
      "Axioms may be imported from autogenerated _axioms_.py\n"
     ]
    }
   ],
   "source": [
    "%end axioms"
   ]
  },
  {
   "cell_type": "code",
   "execution_count": null,
   "metadata": {},
   "outputs": [],
   "source": []
  }
 ],
 "metadata": {
  "kernelspec": {
   "display_name": "Python 3",
   "language": "python",
   "name": "python3"
  }
 },
 "nbformat": 4,
 "nbformat_minor": 0
}
