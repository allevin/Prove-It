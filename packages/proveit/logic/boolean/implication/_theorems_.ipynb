{
 "cells": [
  {
   "cell_type": "markdown",
   "metadata": {},
   "source": [
    "Theorems for context <a href=\"_context_.ipynb\" class=\"ProveItLink\">proveit.logic.boolean.implication</a>\n",
    "========"
   ]
  },
  {
   "cell_type": "code",
   "execution_count": 1,
   "metadata": {},
   "outputs": [
    {
     "name": "stdout",
     "output_type": "stream",
     "text": [
      "Defining theorems for context 'proveit.logic.boolean.implication'\n",
      "Subsequent end-of-cell assignments will define theorems\n",
      "'%end theorems' will finalize the definitions\n"
     ]
    }
   ],
   "source": [
    "from proveit.logic import Equals, NotEquals,Implies, TRUE, FALSE, Iff, Forall, And, Not, inBool, Booleans\n",
    "from proveit._common_ import A, B, C\n",
    "%begin theorems"
   ]
  },
  {
   "cell_type": "code",
   "execution_count": 2,
   "metadata": {},
   "outputs": [
    {
     "data": {
      "text/html": [
       "<strong id=\"selfImplication\"><a class=\"ProveItLink\" href=\"_proofs_/selfImplication.ipynb\">selfImplication</a>:</strong> <a class=\"ProveItLink\" href=\"__pv_it/aac365a38720df74baa1ca17dd3888372c636c690/expr.ipynb\"><img src=\"data:image/png;base64,iVBORw0KGgoAAAANSUhEUgAAAHIAAAAVBAMAAABoAqesAAAAMFBMVEX///8QEBC6urrMzMxUVFRm\n",
       "ZmZERETc3NwyMjKqqqp2dnaIiIiYmJgiIiLu7u4AAAAU9Wx4AAAAAXRSTlMAQObYZgAAAatJREFU\n",
       "OMtjYCAbPMAixrSBkC4eBQaGCyDGaVRxEwhli0MbSDyYgWEliN2HKgXl9uPQCRLnYGAoA1LsCSgy\n",
       "3BDH8txH+IQP2aUgcZ4FDBxAinUCik5GiI7K+AK4EAdScIDF+QQYeJaXl9eiukYDQm3Yr4AIMweE\n",
       "NEQ8k4HhW1raLVSdURDFD+YfQIitRhgCEV/KwODMwJAOFmqHyfWAyUcM9mD/xt4FgfsBMFmo+AwG\n",
       "BhUGvgawxz/B5ITApAJDfQCSQ2bAnA4VV2Rg4GXgBrvq6R+YIrARzC4u/shBztcI0QoTtwfGwQFe\n",
       "cMCtu4qikwkYxg1IOi3WQb0JFQfq5GsAJxnmDWkwRZIgAhhRvAIIf97Ng0rCxIGuZUh3AomwMMTC\n",
       "dOaAEgdQBccHhJVToDRc/AQQTwUn3ZMM+2GqgAHO8AKI2f7BNbLDHA4XByliBAUy39XQfFg60QWm\n",
       "Sfl2Bp78H/DAZYMmJ4R4Eyg6QDpYCxjsDWCprwAjkTOjC/AJwFg6DAz8sCQDTM0EARcsCz/5xsDu\n",
       "fwctl+EDL7ALlxDW6Y5dmJ1gacJtwAAAib1spl/buwAAAAAASUVORK5CYII=\n",
       "\" style=\"display:inline;vertical-align:middle;\" /></a><br>"
      ],
      "text/plain": [
       "selfImplication: forall_{A} (A => A)"
      ]
     },
     "execution_count": 2,
     "metadata": {},
     "output_type": "execute_result"
    }
   ],
   "source": [
    "selfImplication = Forall(A, Implies(A, A))"
   ]
  },
  {
   "cell_type": "code",
   "execution_count": 3,
   "metadata": {},
   "outputs": [
    {
     "data": {
      "text/html": [
       "<strong id=\"trueImpliesTrue\"><a class=\"ProveItLink\" href=\"_proofs_/trueImpliesTrue.ipynb\">trueImpliesTrue</a>:</strong> <a class=\"ProveItLink\" href=\"__pv_it/c627666afcca6105555798c9bfcdd2c352e208580/expr.ipynb\"><img src=\"data:image/png;base64,iVBORw0KGgoAAAANSUhEUgAAAD8AAAAPBAMAAAChCwpBAAAALVBMVEX////c3NwQEBCqqqqIiIhU\n",
       "VFS6uroyMjLu7u52dnbMzMxEREQiIiJmZmYAAACG8MiSAAAAAXRSTlMAQObYZgAAAGBJREFUGNNj\n",
       "uHMGBE4zoANesPiZDSD2WgbsgOsClIGigIOQAvYGAgrYAggoYJiCWwHEQ+cuEDCBwTyBgAKOogT8\n",
       "CpbPwO+GMzsIuMGUgDcZCzAVrERWwC2AUDABawyh8QEfPjCGic2tqAAAAABJRU5ErkJggg==\n",
       "\" style=\"display:inline;vertical-align:middle;\" /></a><br>"
      ],
      "text/plain": [
       "trueImpliesTrue: TRUE => TRUE"
      ]
     },
     "execution_count": 3,
     "metadata": {},
     "output_type": "execute_result"
    }
   ],
   "source": [
    "trueImpliesTrue = Implies(TRUE, TRUE)"
   ]
  },
  {
   "cell_type": "code",
   "execution_count": 4,
   "metadata": {},
   "outputs": [
    {
     "data": {
      "text/html": [
       "<strong id=\"falseImpliesFalse\"><a class=\"ProveItLink\" href=\"_proofs_/falseImpliesFalse.ipynb\">falseImpliesFalse</a>:</strong> <a class=\"ProveItLink\" href=\"__pv_it/da810ef09e21913fb06fd31fe44c3c5ef404387b0/expr.ipynb\"><img src=\"data:image/png;base64,iVBORw0KGgoAAAANSUhEUgAAAD8AAAAPBAMAAAChCwpBAAAALVBMVEX///+qqqp2dnZUVFS6uroy\n",
       "MjLu7u5EREQQEBAiIiJmZmbMzMyIiIjc3NwAAAAGhiwUAAAAAXRSTlMAQObYZgAAAGdJREFUGNNj\n",
       "YGBguMOAHfAegDJ24VDAvQCbAjZCClgTCChgMSCggEEHt4KVM0Fg3gICJjCIOhBQwBbhgF/BVjX8\n",
       "bphZRsANwgS8yRuApgBo7oyZM6fDRdkvQGguoGWdM2cWYMYQGh8A/EooJtywCMEAAAAASUVORK5C\n",
       "YII=\n",
       "\" style=\"display:inline;vertical-align:middle;\" /></a><br>"
      ],
      "text/plain": [
       "falseImpliesFalse: FALSE => FALSE"
      ]
     },
     "execution_count": 4,
     "metadata": {},
     "output_type": "execute_result"
    }
   ],
   "source": [
    "falseImpliesFalse = Implies(FALSE, FALSE)"
   ]
  },
  {
   "cell_type": "code",
   "execution_count": 5,
   "metadata": {},
   "outputs": [
    {
     "data": {
      "text/html": [
       "<strong id=\"falseImpliesTrue\"><a class=\"ProveItLink\" href=\"_proofs_/falseImpliesTrue.ipynb\">falseImpliesTrue</a>:</strong> <a class=\"ProveItLink\" href=\"__pv_it/5c89411a8c468da13cdc01880daaa573c582a8db0/expr.ipynb\"><img src=\"data:image/png;base64,iVBORw0KGgoAAAANSUhEUgAAAD8AAAAPBAMAAAChCwpBAAAALVBMVEX///+qqqp2dnZUVFS6uroy\n",
       "MjLu7u5EREQQEBAiIiJmZmbMzMyIiIjc3NwAAAAGhiwUAAAAAXRSTlMAQObYZgAAAGVJREFUGNNj\n",
       "YGBguMOABXDNBIMCEHsXA3bAvQDKQFHARkgBawIBBSwGBBQw6OBWsBLs7nkLCJjAIOpAQAFbhAN+\n",
       "BVvV8LthZhkBNwgT8CZvAJoCoLkzZs6cDhdlv4BQoIA1htD4AF7PJ5Q+t8orAAAAAElFTkSuQmCC\n",
       "\" style=\"display:inline;vertical-align:middle;\" /></a><br>"
      ],
      "text/plain": [
       "falseImpliesTrue: FALSE => TRUE"
      ]
     },
     "execution_count": 5,
     "metadata": {},
     "output_type": "execute_result"
    }
   ],
   "source": [
    "falseImpliesTrue = Implies(FALSE, TRUE)"
   ]
  },
  {
   "cell_type": "code",
   "execution_count": 6,
   "metadata": {},
   "outputs": [
    {
     "data": {
      "text/html": [
       "<strong id=\"falseAntecedentImplication\"><a class=\"ProveItLink\" href=\"_proofs_/falseAntecedentImplication.ipynb\">falseAntecedentImplication</a>:</strong> <a class=\"ProveItLink\" href=\"__pv_it/8be317972ff0b2b1f99933ef964216bcfdb5f6b20/expr.ipynb\"><img src=\"data:image/png;base64,iVBORw0KGgoAAAANSUhEUgAAAK8AAAAXBAMAAACPJQJeAAAAMFBMVEX///8QEBC6urrMzMxUVFRm\n",
       "ZmZERETc3NwyMjKqqqp2dnaIiIiYmJgiIiLu7u4AAAAU9Wx4AAAAAXRSTlMAQObYZgAAAnVJREFU\n",
       "OMu1VT9oE2EU/6WX66XNH4OD4KIZHBwUTxCcJEGDFBzSJYtQrINXBzEZxOogPRwMiGgWXe2iVgQJ\n",
       "6NYhURz8M9jBOIhiKgpultK09Q/V996X613uUpqj+OC+78v73ff7vvfe712A/2Wt0DsGapu+8pye\n",
       "OV68CUN8SE1HemEv/ubzZzPQTeAh/74Zhrjz8q2e4A5AXwRs4CL9MsZD8MZVJhKfWz3yqf2mZwl4\n",
       "DcTIqVdDEEcUy+VT5UAQdOoKHfkLmKfpweTklTCZ2KumWj3j+vY4i8E0kNxFM1112bI+hCE+qaTR\n",
       "uttwfcOOULblYFyjkIZHgWPAhDgrMt5pF4+bsrWbr+Isbsj4BVkh0z+JtTtg9sTsGB84ZHMYKVuq\n",
       "saiKkkY8LVF18XZQsu0yZjA16oGHrqq5XkbqHd+KU4K4BPXtj0B6DgMrQeIOSiYnaPl8oUtK39V5\n",
       "p5mc6LQFKmQjKXV+3BQoWYM+FyTuoA4x5Slie2DtutIKKQ1vpxVxypZW0mqWQD9MvCwHiB2UbCcP\n",
       "VPRk2pPj94pX47gKVZUKTBxlXxRjgh2YfXoeAWIHJTvHHUV7YwueFOdcGRurXBIO57ZE/gp1wWaA\n",
       "Zy2X+L5lWbaLkt3jjDK+5hJf8sj4IHcLyw0R1k2qWSwJ3xnKRrX7xuMuSrafPgO7K0iUVl1ZKL1C\n",
       "Ly3lR0SOMe6eBG/Ry8iKfH9SNkw/8TrK9ygHm8b0O+bXV/uoaxpGBcYajCb8xII6ip7uoz0fOYuv\n",
       "yzAKH6moM+3iSNVHbCo08MXZ2FK2z5HwrAc32nVhc+KoP12H+yE2Nv9reuJ3NPoh3qpFt7b9Hycq\n",
       "oineXiTpAAAAAElFTkSuQmCC\n",
       "\" style=\"display:inline;vertical-align:middle;\" /></a><br>"
      ],
      "text/plain": [
       "falseAntecedentImplication: forall_{A, B | [not](A)} (A => B)"
      ]
     },
     "execution_count": 6,
     "metadata": {},
     "output_type": "execute_result"
    }
   ],
   "source": [
    "falseAntecedentImplication = Forall((A, B), Implies(A, B), conditions=[Not(A)])"
   ]
  },
  {
   "cell_type": "code",
   "execution_count": 7,
   "metadata": {},
   "outputs": [
    {
     "data": {
      "text/html": [
       "<strong id=\"impliesTT\"><a class=\"ProveItLink\" href=\"_proofs_/impliesTT.ipynb\">impliesTT</a>:</strong> <a class=\"ProveItLink\" href=\"__pv_it/f6d083d5fe5bc7cc9cfbb1eecd58ac0bea53789c0/expr.ipynb\"><img src=\"data:image/png;base64,iVBORw0KGgoAAAANSUhEUgAAAHoAAAAVBAMAAAB71edYAAAAMFBMVEX////c3NwiIiJERESqqqqY\n",
       "mJh2dnZmZmYQEBDu7u4yMjJUVFTMzMyIiIi6uroAAAAs73DqAAAAAXRSTlMAQObYZgAAAOxJREFU\n",
       "OMtjYKAM8F0gqCQOt9RpBoYiJRBQxpCCibMfwCXDsBLMPY7DbIj4AlwyvBcwdU9A1x2GSzfHBEzd\n",
       "K9F1z8Cl+xUDpu7X6LqZHXDoLsOim+0Cmm62Ahy6l6LoZgeHpdJ3NN0s4GCrWgUCq5Fl+rDYzcCy\n",
       "DlU3XwMOu/9h080wqw9FN88HUnTzLJtAnO4WbP5WnoDN5ahJEixjisVulg1ooca6AIfd6Vh0SzEQ\n",
       "G2OPIOxjyBKGCCZEnOsBpm6wDIcApgRGlpqBK4OyJhBRBuTilFlJWDPnApxS0oR1cwvglGIkXDLd\n",
       "wSUBAAwnSx8aI9PtAAAAAElFTkSuQmCC\n",
       "\" style=\"display:inline;vertical-align:middle;\" /></a><br>"
      ],
      "text/plain": [
       "impliesTT: (TRUE => TRUE) = TRUE"
      ]
     },
     "execution_count": 7,
     "metadata": {},
     "output_type": "execute_result"
    }
   ],
   "source": [
    "impliesTT = Equals(Implies(TRUE, TRUE), TRUE)"
   ]
  },
  {
   "cell_type": "code",
   "execution_count": 8,
   "metadata": {},
   "outputs": [
    {
     "data": {
      "text/html": [
       "<strong id=\"impliesFF\"><a class=\"ProveItLink\" href=\"_proofs_/impliesFF.ipynb\">impliesFF</a>:</strong> <a class=\"ProveItLink\" href=\"__pv_it/e15695361e86685be05286748f540c0eb075c2a20/expr.ipynb\"><img src=\"data:image/png;base64,iVBORw0KGgoAAAANSUhEUgAAAHoAAAAVBAMAAAB71edYAAAAMFBMVEX////c3NwiIiJERESqqqqY\n",
       "mJh2dnZmZmYQEBDu7u4yMjJUVFTMzMyIiIi6uroAAAAs73DqAAAAAXRSTlMAQObYZgAAAPFJREFU\n",
       "OMtjYKAM8F0gqCQOt9RpMCmLQxYszn4AXbhICQSUGRhWgrnHceiGiC/AJcN7AVP3BHTdYbh0c0zA\n",
       "1L0SXfcMXLpfMWDqfo2um9kBh+4yLLrZLqDpZivAoXspim52cFgqfUfTzQIOtqpVILAaWaYPi90M\n",
       "LOtQdfM14LD7HzbdDLP6UHTzfCBFN8+yCcTpbsHmb+UJ2FwOT2AIGVMsdrNsQAs11gU47E7HoluK\n",
       "gdgYewRxkgbCSQwMhoi8ABHneoCp+xg4pQpgSmBkqRm4MihrAhFlQC5OmZWENXMuwCklTVg3twBO\n",
       "KUbCJdMdXBIAKUhJ2SA8t88AAAAASUVORK5CYII=\n",
       "\" style=\"display:inline;vertical-align:middle;\" /></a><br>"
      ],
      "text/plain": [
       "impliesFF: (FALSE => FALSE) = TRUE"
      ]
     },
     "execution_count": 8,
     "metadata": {},
     "output_type": "execute_result"
    }
   ],
   "source": [
    "impliesFF = Equals(Implies(FALSE, FALSE), TRUE)"
   ]
  },
  {
   "cell_type": "code",
   "execution_count": 9,
   "metadata": {},
   "outputs": [
    {
     "data": {
      "text/html": [
       "<strong id=\"impliesFT\"><a class=\"ProveItLink\" href=\"_proofs_/impliesFT.ipynb\">impliesFT</a>:</strong> <a class=\"ProveItLink\" href=\"__pv_it/1d10038ee5ca5c7ed8be49e96b5b51c85f55b4b70/expr.ipynb\"><img src=\"data:image/png;base64,iVBORw0KGgoAAAANSUhEUgAAAHoAAAAVBAMAAAB71edYAAAAMFBMVEX////c3NwiIiJERESqqqqY\n",
       "mJh2dnZmZmYQEBDu7u4yMjJUVFTMzMyIiIi6uroAAAAs73DqAAAAAXRSTlMAQObYZgAAAO9JREFU\n",
       "OMtjYKAM8F0gqCQOt9RpMCmLTapICQSUGdgP4JJhWAnmHsdhNkR8AS4Z3guYuieg6w7DpZtjAqbu\n",
       "lei6Z+DS/YoBU/drdN3MDjh0l2HRzXYBTTdbAQ7dS1F0s4PDUuk7mm4WcLBVrQKB1cgyfVjsZmBZ\n",
       "h6qbrwGH3f+w6WaY1Yeim+cDKbp5lk0gTncLNn8rT8DmcngCQ8iYYrGbZQNaqLEuwGF3OhbdUgzE\n",
       "xtgjiJM0EE5iYDBEqDkGJrkeYOoGy3AIYEpgZKkZuDIoawIRZUAuTpmVhDVzLsApJU1YN7cATilG\n",
       "wiXTHVwSAJMMSnyRAZQFAAAAAElFTkSuQmCC\n",
       "\" style=\"display:inline;vertical-align:middle;\" /></a><br>"
      ],
      "text/plain": [
       "impliesFT: (FALSE => TRUE) = TRUE"
      ]
     },
     "execution_count": 9,
     "metadata": {},
     "output_type": "execute_result"
    }
   ],
   "source": [
    "impliesFT = Equals(Implies(FALSE, TRUE), TRUE)"
   ]
  },
  {
   "cell_type": "code",
   "execution_count": 10,
   "metadata": {},
   "outputs": [
    {
     "data": {
      "text/html": [
       "<strong id=\"impliesTF\"><a class=\"ProveItLink\" href=\"_proofs_/impliesTF.ipynb\">impliesTF</a>:</strong> <a class=\"ProveItLink\" href=\"__pv_it/76865972868ae2117b91baf7b7211dfd07f02eb10/expr.ipynb\"><img src=\"data:image/png;base64,iVBORw0KGgoAAAANSUhEUgAAAHoAAAAVBAMAAAB71edYAAAAMFBMVEX////c3NwiIiJERESqqqqY\n",
       "mJh2dnZmZmYQEBDu7u4yMjJUVFTMzMyIiIi6uroAAAAs73DqAAAAAXRSTlMAQObYZgAAAPBJREFU\n",
       "OMtjYKAM8F0gqCQOt9RpBoYiJRBQxiYrCyLYD+CSYVgJJo/jMBsivgCXDO8FTN0T0HWH4dLNMQFT\n",
       "90p03TNw6X7FgKn7NbpuZgccusuw6Ga7gKabrQCH7qUoutnBoa/0HU03CzjYqlaBwGpkmT4sdjOw\n",
       "rEPVzdeAw+5/2HQzzOpD0c3zgRTdPMsmEKe7BZu/lSdgczlqkgTLmGKxm2UDWqixLsBhdzoW3VIM\n",
       "xMbYIwj7GLKEIZQGOlUD7FSuB2haYTIcApjGYmSpGbgyKGsCEWVALk6ZlYQ1cy7AKSVNWDe3AE4p\n",
       "RsIl0x1cEgBJHknZQwu+sgAAAABJRU5ErkJggg==\n",
       "\" style=\"display:inline;vertical-align:middle;\" /></a><br>"
      ],
      "text/plain": [
       "impliesTF: (TRUE => FALSE) = FALSE"
      ]
     },
     "execution_count": 10,
     "metadata": {},
     "output_type": "execute_result"
    }
   ],
   "source": [
    "impliesTF = Equals(Implies(TRUE, FALSE), FALSE)"
   ]
  },
  {
   "cell_type": "code",
   "execution_count": 11,
   "metadata": {},
   "outputs": [
    {
     "data": {
      "text/html": [
       "<strong id=\"trueImpliesFalseNegated\"><a class=\"ProveItLink\" href=\"_proofs_/trueImpliesFalseNegated.ipynb\">trueImpliesFalseNegated</a>:</strong> <a class=\"ProveItLink\" href=\"__pv_it/19695fac098af60dda073aa331eb160163f4f0fc0/expr.ipynb\"><img src=\"data:image/png;base64,iVBORw0KGgoAAAANSUhEUgAAAF4AAAAVBAMAAAA9Y0TyAAAAMFBMVEX////c3NxERESqqqqYmJgQ\n",
       "EBDu7u4yMjKIiIi6urpUVFTMzMx2dnYiIiJmZmYAAABjE816AAAAAXRSTlMAQObYZgAAANtJREFU\n",
       "KM9jYCAbcDYQUsEyAZm3i4HvLhgoYFHKCDbsNbJQGYjgfoDdaIg4O5IIRwOm+gQ09SwHEHKsCZjq\n",
       "y9DUswUg5KYzYKqfhaaeQRkh9waLep4GNPXnEHIlKOqhQfUPTb05w1uQ8B0gMxKL+QzMlajqp8KC\n",
       "noHhJzb1DOmRKOr3E1DPXZOAS30wNvdfSsDpHhUs5jMvQPOvO5QHDypU9eIMuMNzLkT8ALJ6RYTj\n",
       "YsHpsBIpPQhgprINaHzk9MBygHAW4WnAmrhwgnRkjhRh9QsxsxA+wLGBAQB4llFjYC946gAAAABJ\n",
       "RU5ErkJggg==\n",
       "\" style=\"display:inline;vertical-align:middle;\" /></a><br>"
      ],
      "text/plain": [
       "trueImpliesFalseNegated: [not](TRUE => FALSE)"
      ]
     },
     "execution_count": 11,
     "metadata": {},
     "output_type": "execute_result"
    }
   ],
   "source": [
    "trueImpliesFalseNegated = Not(Implies(TRUE, FALSE))"
   ]
  },
  {
   "cell_type": "code",
   "execution_count": 12,
   "metadata": {},
   "outputs": [
    {
     "data": {
      "text/html": [
       "<strong id=\"implicationTransitivity\"><a class=\"ProveItLink\" href=\"_proofs_/implicationTransitivity.ipynb\">implicationTransitivity</a>:</strong> <a class=\"ProveItLink\" href=\"__pv_it/ee719062273bab1aaecce9c77304c6feceb388740/expr.ipynb\"><img src=\"data:image/png;base64,iVBORw0KGgoAAAANSUhEUgAAAQMAAAAXBAMAAAD9zzfBAAAAMFBMVEX///8QEBC6urrMzMxUVFRm\n",
       "ZmZERETc3NwyMjKqqqp2dnaIiIiYmJgiIiLu7u4AAAAU9Wx4AAAAAXRSTlMAQObYZgAAA4hJREFU\n",
       "SMfFVj1MFFEQHu7YW+5uWYwW/hSIiVYauYJoQQxEgdhxxltIiEaI4bCSLVQwRjmMhmihNJDYYSxE\n",
       "SeCMqAWFq4VRjBELKRT1iJIYiT+RgCIIzszb3Xt3nmBzOsm+eTvvzXvf/O4C/H9KZPPwzcvuuI/P\n",
       "CE0eZweBt1ywkUyL+u3KfWpYCQFco9cL2YGQJ1yc9yXT4mULPHssiAEcwze1PjsQhgR7spAh7u9f\n",
       "4zBgwrBAqnRmB0Ihj2rXt6TI9Xc7gdkAMA6gXW1pOZkdBJ4Ys2Dwa1K20ebKLI1HAXxo/kw0+iI7\n",
       "EJQeZlv980lZIC54G8N7i4IwwC6AJpZ28Ng9bVSFBPrKukmTjHGzy0we5W82IgfTFAQNGv137P0W\n",
       "Z36Rd44BvWKaFmsHLOegGLlGZ0SacJe2AoIruJTGABpo4nMOf1ok3XQP4EaqgqAdFvjs1xze7wF1\n",
       "WtLzn2b2xjHHg5vzIciIJoS7lHLwcPoUo2ndMgTdRU4UwR1mioI4cQpvsQusgCGUVFTMyOF5v5LG\n",
       "Rac+vFixQSufK6X/OUvz46BQK9HX4VAqQwh8DDO/xONLgP0pCuCnuhrH+HvjMgQc1sjt6jzftp41\n",
       "QgKCHivhpXiUt3wOwUOyLkD95JMModQnrPPRsj4FWkeKgkipAVqziz+HMPnxeSblwqhYrCam2IGA\n",
       "pp0ky7WNKh4aPMzGue3KgVCOxtZEo9FDq0hzbqgqkVRQUB5tR6NGJYN9FLjj+FyUUkH0bCgjT/VT\n",
       "KlEidrEbH8FdXuvFTKOzC3rSIGidQbvRKnvRSTHQClMUkIwQ/JAgUL1xqjcnv4WtNtewL2wy7U2Q\n",
       "Q4D054bY2IiuJQfmIAQ9LkH4aNTYjdbbaIIvDDp3F1cBaVstUAZNOqk5AmrDdxMeLJ51ITQ5k5Iz\n",
       "BmvlUcJoHBYTyri6Z0UtgIKBCCQkCLXgnYJbBlIlOamTk99RCJI8ggbV2P5lWv17uwqlC8bd2RY8\n",
       "1VI7QF0AFUuj1dTXAlyRAuHBwM7DJ6QP5Ju2BJwMg6ug00IfndgJAfea4b9ooX3O5N0MqNVj3nno\n",
       "nTZ2o4PKLJiovJ5IQtCr6+HIT24MVECBi0bkHIbEVXD+DvRIXX/6x3opEm1RIs2dSV3Il7bpVEYF\n",
       "/CL+dqFaviyEXDNNsN1tIOafIWRUyEwnloVwM11gZbJuKQjWv/nBzc3y+b8A+cD8CqcAdasAAAAA\n",
       "SUVORK5CYII=\n",
       "\" style=\"display:inline;vertical-align:middle;\" /></a><br>"
      ],
      "text/plain": [
       "implicationTransitivity: forall_{A, B, C | A => B , B => C} (A => C)"
      ]
     },
     "execution_count": 12,
     "metadata": {},
     "output_type": "execute_result"
    }
   ],
   "source": [
    "implicationTransitivity = Forall((A, B, C), Implies(A, C), conditions=[Implies(A, B), Implies(B, C)])"
   ]
  },
  {
   "cell_type": "code",
   "execution_count": 13,
   "metadata": {},
   "outputs": [
    {
     "data": {
      "text/html": [
       "<strong id=\"affirmViaContradiction\"><a class=\"ProveItLink\" href=\"_proofs_/affirmViaContradiction.ipynb\">affirmViaContradiction</a>:</strong> <a class=\"ProveItLink\" href=\"__pv_it/6e067bbf01a47ec3fdb8c87f2276ede1c4a744140/expr.ipynb\"><img src=\"data:image/png;base64,iVBORw0KGgoAAAANSUhEUgAAAJkAAAAWBAMAAAAhlCOEAAAAMFBMVEX///8QEBC6urrMzMxUVFRm\n",
       "ZmZERETc3NwyMjKqqqp2dnaIiIiYmJgiIiLu7u4AAAAU9Wx4AAAAAXRSTlMAQObYZgAAAh1JREFU\n",
       "OMtjeMBATXABRJymhkm2QLwSxOijhmn9QFwGxOwJVDCM5z4w0DiAmHUCFUyrjC8AGrm8vLyWGh7d\n",
       "sF8BSH5LS7uFV1kxMgenL5gezD8ApJwZGNLB/HZ0BQpgkn0BXICjgMEKl2mPGOw3ACkVBr4GcCh+\n",
       "goZmV1frATALEjdsCB3nFRi4FJCNSEC2uj4ASPEycIM1P/0DJF6HxjBsWPBaCUntbLgGvvgDUJsx\n",
       "TWN2cfEH8bgP8ILzw7qrQHZS3TugaVxvkNSmw3VwvQ0ABwwQzEQ3jYmBgRFkEV+DCdjwDWkMDEfB\n",
       "kbNAOw5JrQBchzUbUGQ3xPsFaKYBY4cXrDLdCUSyMMQyMIC9sSFUFincmBFec2C9AArmsLS0tAxh\n",
       "VNPYgaZxfACxpoKz6kmG/QzMCyBuY7VGqGVyYOACaQdGzwRuoHoLiHbWYBTTXoDc+w/EYgTFLN/V\n",
       "0PwHzNfS0rJB4caFMI3TARazb0PD/sFNY04tQDKtTL6dgSf/ByhSeUCRwFrAYG/A5wBxG7JpTPB0\n",
       "Es7A/JmBQY1haygQuKKnEBSgw8DAf4DBHerTaoRavgtQ05iAgQlMRKcY3gHBqw34THvyjYHd/w7D\n",
       "MwVw6k1DTr33ID7jAyankr8HGILAXFAyYE1LE0vLwpcnlwHDDS1t7kRVAYniOtJLBYhpz1DEODeQ\n",
       "W8ZATOM8gCzGQnaJBUkbDIeRxdbh1QEAkzCKhUZAJ2AAAAAASUVORK5CYII=\n",
       "\" style=\"display:inline;vertical-align:middle;\" /></a><br>"
      ],
      "text/plain": [
       "affirmViaContradiction: forall_{A in BOOLEANS | [not](A) => FALSE} A"
      ]
     },
     "execution_count": 13,
     "metadata": {},
     "output_type": "execute_result"
    }
   ],
   "source": [
    "affirmViaContradiction = Forall(A, A, domain=Booleans, conditions=[Implies(Not(A), FALSE)])"
   ]
  },
  {
   "cell_type": "code",
   "execution_count": 14,
   "metadata": {},
   "outputs": [
    {
     "data": {
      "text/html": [
       "<strong id=\"modusTollensAffirmation\"><a class=\"ProveItLink\" href=\"_proofs_/modusTollensAffirmation.ipynb\">modusTollensAffirmation</a>:</strong> <a class=\"ProveItLink\" href=\"__pv_it/1e53822dd2e5906bb78831332efe5d682d4a6abe0/expr.ipynb\"><img src=\"data:image/png;base64,iVBORw0KGgoAAAANSUhEUgAAAOoAAAAZBAMAAADNvK/KAAAAMFBMVEX///8QEBC6urrMzMxUVFRm\n",
       "ZmZERETc3NwyMjKqqqp2dnaIiIiYmJgiIiLu7u4AAAAU9Wx4AAAAAXRSTlMAQObYZgAAAyZJREFU\n",
       "SMfFlk9IFFEcx7/u7O64O+ModAmiWEK6FLkHD0EHlzLrlpATBBVWOAZRzkHc/qDtRSQPuYcMog5L\n",
       "B7NLTFAnhbZD0R+KDbKgMvZQIVkWiloY1vszO+9t665FKz2YN++9me/7/N77/d4foGQKjr9EuZNv\n",
       "/NUyf1RhJVLnf6Jml6EaK0LN0Nfj4lQ2Wt0pF1DJMOp1Wj5fnBpOkldltlzUyq+M2kVytbU4lX3r\n",
       "KtvkPllkVDqMQLJENNF52FcuqDo4z6j6tXi8u1QMP4rH45lyUTVtmq+cOct6VYpabVnHU0tYHZUq\n",
       "oT+lbg794NTtQDtr6Vua6o8iaAMXZ80mBvLxL6fFT31QZLNCHWbLEVH1hCQZEWWBU2thJNjqmOZf\n",
       "9P7+3rRE9cUwQZtroNWwTZJ/EQFIhVdlU+8CN0XNEzKL1VlOrYLGIO/p2CfN/XBSk+vlvSmDUZIH\n",
       "YvDNC2pIrGAqnJCpLUCd7dU8IUn1jY1znKqlq9hqvDFGyod7pgg1/EmmjuItLTkIZAQ1KLqlQj+f\n",
       "w0ssfw0ckJyUE5IUAVZzqpGoZ5uGYwH3aMlJbTwoUyeUGMm/RPHAFtQKsdtQoeYIW4wZ6FKMeEIe\n",
       "dM/c3b99G23xU/uYgx1zrexXBDuJiagbuXUCgrrF65UJifP3WpZ1dBV13sJIk7SXeULgFHkGXOog\n",
       "G/9D3HFD0UkFtsrUEJuuYRIlWUGtBYYIJsGFUBKuE/cA4QT0daQcpmZIQh61HVlOraCzY4yZHVnl\n",
       "hWUdo34N5510a2jWRuYqKagXcpHMhB5VabMRbIbxPXcrkITqoW827v/s5VSdWhKw0RA1Ynysv1Gf\n",
       "0oz0UxcV1A05KhPC14rbJkk7SFt1Er4ZQfWES5zqm8jfaex0Z/hMwamuLkIdk/z6OUflQj2FKZI+\n",
       "0mk7m0V3M066oSeEhdR3c1B3v8GHCNslrHQBdXjW3JWUqHy1IeoKAxG+Hqk7B8yWc0AD60ORhMVv\n",
       "MEPEr8vcYDhVy++pkr96pKZ0We9NnGrkH8mXCy8N9gpQcSWvMVbwm/4vd8TC+7Df7VWOy/Df3HB8\n",
       "489/ATf442jejRCQAAAAAElFTkSuQmCC\n",
       "\" style=\"display:inline;vertical-align:middle;\" /></a><br>"
      ],
      "text/plain": [
       "modusTollensAffirmation: forall_{A in BOOLEANS} [forall_{B | [not](A) => B , [not](B)} A]"
      ]
     },
     "execution_count": 14,
     "metadata": {},
     "output_type": "execute_result"
    }
   ],
   "source": [
    "modusTollensAffirmation = Forall(A, Forall(B, A, conditions=[Implies(Not(A), B), Not(B)]), domain=Booleans)"
   ]
  },
  {
   "cell_type": "code",
   "execution_count": 15,
   "metadata": {},
   "outputs": [
    {
     "data": {
      "text/html": [
       "<strong id=\"modusTollensDenial\"><a class=\"ProveItLink\" href=\"_proofs_/modusTollensDenial.ipynb\">modusTollensDenial</a>:</strong> <a class=\"ProveItLink\" href=\"__pv_it/3246c5a4226d7722bc081bf00ffc259d114f30320/expr.ipynb\"><img src=\"data:image/png;base64,iVBORw0KGgoAAAANSUhEUgAAAO8AAAAZBAMAAAArlWSOAAAAMFBMVEX///8QEBC6urrMzMxUVFRm\n",
       "ZmZERETc3NwyMjKqqqp2dnaIiIiYmJgiIiLu7u4AAAAU9Wx4AAAAAXRSTlMAQObYZgAAAz5JREFU\n",
       "SMfFlk1oE0EUx1+TJtsmm23wJqJW8SBo6R5EDyINWlpvDZhFFD+K4hbR2h5Kg0htFKRYxOaieDOX\n",
       "1oogK3hrofEgVAXppR7UaJAqhUoVS6uiFN+8mc3O5quQtvggs7vzXuY38+Y/HwBlrTPTDetgDZnU\n",
       "ChFTsD6mRP4fOLsCWFslwmPlVaj1HExjelUaHKJgq2LwHtfXAfwd4eCH7Pt2aXAgiY+abMVgd9ND\n",
       "rDEO7mWP9tJg8vVWzA26cqV+xBGoKQKzwfiSZcTFunysYnCVK1eXT+Pq1MIEVh/E433lVP0yHo9X\n",
       "Lu6dri9rginrPF9OS6b5thy4zjQ7UxWDj7sUnr2fxscwBx8C6KDqgeLgah38mKC7i0aLzqrqbZ8c\n",
       "n/OS1XYZsbP89Zbc2idoYlN+j4N3gJagif8hBDA4eCMtgT0RmGXVYQiGWZUtRDuef9hebs8AnvC3\n",
       "DaigDLMU9bk/io9tHByCIHE+/8VizjgBVmpuu7xzTcE4lr4IeH7KYIq3LeflFgNo5Ju83TsvkrzN\n",
       "zW3s300cHEyHSHmPp/H9zNV5BAe+yuBx+IBlyALflAxm8SyttCJyXm7vAE5CAdiDIk84YC1Bm4vX\n",
       "MgGek/RSu07J4Fn2J/imw2S3BKZ4ZiSQnJdMWwBVKGCjBMYuhsJOqqHjIPNUsz7SZFvGZnmOwd/D\n",
       "9NQ49vQSSGAW7zPRrumyl6v3z1iLWL8XHbCC4Jrv+D4pwHcoRy9gArwpPmLffhlcS1kbRclkJTCL\n",
       "52bojncEe5KAQALULdw5bLekk0T9y85ygiomcW3a6Mp635jmBTbHAdexuIkV5zCfSQdM8Txm71HJ\n",
       "SwH+KGi/xZGfS0Pv1gFQu36hrK8LsMoa8HVDk65F+IjzwK9ZgQ016g6Y4oMGWiwqeymgLgmeBbFl\n",
       "Ft5gxJYpbDduUWloFam+UnARUJZBmZbmmOK1ebRHOa8yIAL6s9AXFQu8cNMLWBJ4ZgmUtvfwpZ42\n",
       "EDNdAB5dNA4nHbCIF3IVXi9f2XpgyIjdLH4sMpstdvUZwTle4eqTd4Qq0vGjFtl0ewpqWiu8c7WX\n",
       "jt5X7HaVf3kJ6msPTq/dLTNTeK+OwOqtIRP5B3eX/JhSFbQOAAAAAElFTkSuQmCC\n",
       "\" style=\"display:inline;vertical-align:middle;\" /></a><br>"
      ],
      "text/plain": [
       "modusTollensDenial: forall_{A in BOOLEANS} [forall_{B | A => B , [not](B)} [not](A)]"
      ]
     },
     "execution_count": 15,
     "metadata": {},
     "output_type": "execute_result"
    }
   ],
   "source": [
    "modusTollensDenial = Forall(A, Forall(B, Not(A), conditions=[Implies(A, B), Not(B)]), domain=Booleans)"
   ]
  },
  {
   "cell_type": "code",
   "execution_count": 16,
   "metadata": {},
   "outputs": [
    {
     "data": {
      "text/html": [
       "<strong id=\"denyViaContradiction\"><a class=\"ProveItLink\" href=\"_proofs_/denyViaContradiction.ipynb\">denyViaContradiction</a>:</strong> <a class=\"ProveItLink\" href=\"__pv_it/f587695ff863e59687e1a43c82141192138bb4960/expr.ipynb\"><img src=\"data:image/png;base64,iVBORw0KGgoAAAANSUhEUgAAAJ4AAAAXBAMAAAAIFOtYAAAAMFBMVEX///8QEBC6urrMzMxUVFRm\n",
       "ZmZERETc3NwyMjKqqqp2dnaIiIiYmJgiIiLu7u4AAAAU9Wx4AAAAAXRSTlMAQObYZgAAAiRJREFU\n",
       "OMtjYKAyeEC+VqYNaAI8CgwMF0CM02SZZ4LCswXiYAaGlSB2H1nmoerqB2IOBoYyIMWeQI5x3Cje\n",
       "5bkPDDmeBQwcQIp1AjnmMaIEfWV8AQMDnwADz/Ly8lqyvKuBwtuwHxgZDJkMDN/S0m6RZV4USlw/\n",
       "mH8ASC1lYHBmYEgHC7Wja1CAMdqxmteDzHnEYA8KzhkMDCoMfA3gAP0EDdiurtYDYBYslmAyEMAG\n",
       "YwgBA/4uCCwA210fAKQUGRh4GbjB2p/+ARKvQ2MYNix4rYRiHlgG0zyYLcwOQOzi4g9Sbg+M9gO8\n",
       "4IhadxXITqp7BzSP6w2KeSAZIOCcgNs8JmB0N0DM42sAp3PmDWkMDEfBMbVAOw7ZPLAMCKSjmieJ\n",
       "ZB7QKl4BiH8Z0p1AoiwMsQwM4IDcECqLEn4gGdY0IGg0QDEvB2EeO9A8jg9A9gkgngrOwicZ9jMw\n",
       "L4C4j9Ua2TyQDASEGiCbtxTGMGB4ARL/BxVjBEU039XQ/AfM19LSskHhx4VkHlgGotEsHNk8XXgU\n",
       "lcm3M/Dk/wBGcBMoOYBUsxYw2BvwOUDch2IeWIY7FAhCAlD8y1iAkST5BGAsHQYG/gMM7lD/ViOZ\n",
       "B5bhewcEq1Hjg2cBhnlcsCLiyTcGdv87DM8UwOk5DSk+oDLQeGQIS0tMS1uArbwCgRfoAsuA4QcH\n",
       "aKUYO3pRXoJhnjveDE+oVGRHL++5DSgyj1TgQIYeABPOjxVzQ9CDAAAAAElFTkSuQmCC\n",
       "\" style=\"display:inline;vertical-align:middle;\" /></a><br>"
      ],
      "text/plain": [
       "denyViaContradiction: forall_{A in BOOLEANS | A => FALSE} [not](A)"
      ]
     },
     "execution_count": 16,
     "metadata": {},
     "output_type": "execute_result"
    }
   ],
   "source": [
    "denyViaContradiction = Forall(A, Not(A), domain=Booleans, conditions=[Implies(A, FALSE)])"
   ]
  },
  {
   "cell_type": "code",
   "execution_count": 17,
   "metadata": {},
   "outputs": [
    {
     "data": {
      "text/html": [
       "<strong id=\"notTrueViaContradiction\"><a class=\"ProveItLink\" href=\"_proofs_/notTrueViaContradiction.ipynb\">notTrueViaContradiction</a>:</strong> <a class=\"ProveItLink\" href=\"__pv_it/6be84b165e114d5f1e3038d103beff8da02da5950/expr.ipynb\"><img src=\"data:image/png;base64,iVBORw0KGgoAAAANSUhEUgAAAKkAAAAXCAMAAABHy58YAAAAPFBMVEX///8LCwsYGBgNDQ0oKCgQ\n",
       "EBC6urrMzMxUVFRmZmZERETc3NwyMjKqqqp2dnaIiIiYmJgiIiLu7u4AAACwKje0AAAAAXRSTlMA\n",
       "QObYZgAAAf1JREFUSMfVV9mWpCAMpXuGJezL//9rGywVFJCeGev05MEjlUhuckNIEfLfSHyHE+bu\n",
       "bazqqjzDZzjW7imgXFSr0LJR+niHUIjEHziGYja9fiy99c46tWwEu8QHxTcYi9yCkk8BdRVZPqQ4\n",
       "TmkDqbdFwGCeQkpLZMpAUjMprZBGmuGqLOGx41SlyxGXGqgahJZIicQ8JokS7FNIodyZRWKSv9hI\n",
       "foPU4kJkK1lQokt6rgnQ6nvnqQAWl914OuoWdJbfv/ApBkgNEsPQIhYU+YqeCy++wV7XGMuU1WGr\n",
       "BDMprZEyurVUdwQeoaLn7PykvkdaBMYFSjpbMUHukPLc2hBlOM6njQEGzk9qY76BdH2jeqqcGkgX\n",
       "5otbhDsiZd/5WV0VeJv9PZbXS6D1bfT5cdxGY/YXZ0U7E/h93/mmBvkSTfkYqfR7K21fUp0TWiH1\n",
       "Kw+mgOaX7VzqIr2oETTwEVL78rgfWllfUu0qbXUpJGjvG0sRAlRbVc6v6ty2QQ2QsrBe1jTl5HmZ\n",
       "koaJpsfLPqxfpPvddfbJU4/QQ+1gEwFj9gkd9l8DM7MpvcS/1lTZh2RbHTex7uZEreNFV8LMCGdP\n",
       "E2lcW50SKfiG86Z67xr5iFF82PHU9ycp1TOX4c0wqCZSosRfplSof4B0SlT/7wSbGXA5eRfS94j4\n",
       "ITi+AFZxFymbMnmoAAAAAElFTkSuQmCC\n",
       "\" style=\"display:inline;vertical-align:middle;\" /></a><br>"
      ],
      "text/plain": [
       "notTrueViaContradiction: forall_{A | A => FALSE} (A != TRUE)"
      ]
     },
     "execution_count": 17,
     "metadata": {},
     "output_type": "execute_result"
    }
   ],
   "source": [
    "notTrueViaContradiction = Forall(A, NotEquals(A,TRUE),conditions = [Implies(A,FALSE)])"
   ]
  },
  {
   "cell_type": "code",
   "execution_count": 18,
   "metadata": {},
   "outputs": [
    {
     "data": {
      "text/html": [
       "<strong id=\"negatedReflex\"><a class=\"ProveItLink\" href=\"_proofs_/negatedReflex.ipynb\">negatedReflex</a>:</strong> <a class=\"ProveItLink\" href=\"__pv_it/09ba5ac32acc34f55c0fa248e2ddfca3f733fc910/expr.ipynb\"><img src=\"data:image/png;base64,iVBORw0KGgoAAAANSUhEUgAAANoAAAAXBAMAAACfRUyCAAAAMFBMVEX///8QEBC6urrMzMxUVFRm\n",
       "ZmZERETc3NwyMjKqqqp2dnaIiIiYmJgiIiLu7u4AAAAU9Wx4AAAAAXRSTlMAQObYZgAAAzhJREFU\n",
       "SMe9Vk1ME1EQ/mhpl7bbpYkHPSkmxosm9GAi0Zg2WtEbRCmeDDWGohdoogGNQaqX6kV6UIPxIBcV\n",
       "Y0JqIgfTAzVeEA/ggYuCNEYMMUGJ/IlWdObtbndZ21RT4kve2+mb2fnmfTPztsB/HdkN8rOrpIVc\n",
       "A4yz8KpsMHuQ3DUshuqvFtYfoHkceMTyjbLRqpijigjQUlNQ38s2QCc9pEjZaGleAimaQX1LMbM4\n",
       "TdHI/SIoR7JstK28DMeAsf51x9XGxRZSKT7ID7u6ussGs8V5PUXzdR7DFjT0qWEm+CywHI2+Kent\n",
       "XOHtPCcOcaJF4EK7oX1sBJO9l6HHfeAQ0Ca2EmK9vRSu9wsLk1dJOKuKGTuujnDTaezLs8bO7Ivp\n",
       "oUnx8+QUj+lGXf1epBR9wA4oggb5q5pPHzw+FpwmNFUeM5fbc+AJ3PpOBQueFWDORB/6dHUNehh5\n",
       "O+CFhwPDTE7lJAjbihXtrqixloxpqwmojalx0qhmv06K0pMz2ShXVDh7KNTAZR8gfcYrEjs4ITTe\n",
       "FBzjVjRBtXtOZeaOWN8SXyINBlo1d/h302t1g1ra6PBxFU2J7xH4qajQfPFjJGZFE9Tud6pt6WS1\n",
       "sgA5obUZM8n1EqCzV64aeZtqN4rJ61OZRNtB3qnkUGnUpp+2w4JmF4QF6czN0Wj0zCYO90e6PstJ\n",
       "1xKb0dqtJ268dlOvMUKrmidhhOYtQdxLDAvVABVA1kB7QO7jonPkpGdeK3e68NxxyNTRdZpDd6Pa\n",
       "bvYtRktLOvAse1tTOwAVXJzKRLhDGLYSmcn1Z4u4GG0u3LymHbU1BmcjlFUDzUYRN/8Kha6ZCsmp\n",
       "NUzntgTkjm8UD9/YMqM4YgiINiMXtX4Lmo0TdgL2BQyFaRzmikjCtgDs1G02F/gsWDcUny7tJgcZ\n",
       "KQFpDdKEJW8RhSK3UdQ5fKbxibnoyaKboh3VbUb/4npzpzThwzKkhkl7DgNL4aNJC5of76BQw5z/\n",
       "KXjiEnb3hpuu0/NYoSu42Ji1fl7/uD/U8cxsdNkk5ytQCpZGO2L5vbcI2sci77tSefFSSTCP37KR\n",
       "KYLmyhR2ULlhf4/WeXpR2GbwH33+BvwYy18VzUzqAAAAAElFTkSuQmCC\n",
       "\" style=\"display:inline;vertical-align:middle;\" /></a><br>"
      ],
      "text/plain": [
       "negatedReflex: forall_{A, B | [not](A => B)} (B => A)"
      ]
     },
     "execution_count": 18,
     "metadata": {},
     "output_type": "execute_result"
    }
   ],
   "source": [
    "negatedReflex = Forall((A,B), Implies(B,A), conditions=Not(Implies(A,B)))"
   ]
  },
  {
   "cell_type": "code",
   "execution_count": 19,
   "metadata": {},
   "outputs": [
    {
     "data": {
      "text/html": [
       "<strong id=\"iffIntro\"><a class=\"ProveItLink\" href=\"_proofs_/iffIntro.ipynb\">iffIntro</a>:</strong> <a class=\"ProveItLink\" href=\"__pv_it/468b0f952ed299315e5578d38fcceb95afda5fef0/expr.ipynb\"><img src=\"data:image/png;base64,iVBORw0KGgoAAAANSUhEUgAAAPEAAAAXBAMAAAAo+LSlAAAAMFBMVEX///8QEBC6urrMzMxUVFRm\n",
       "ZmZERETc3NwyMjKqqqp2dnaIiIiYmJgiIiLu7u4AAAAU9Wx4AAAAAXRSTlMAQObYZgAAA0dJREFU\n",
       "SMfFVk1oE0EU/prtZpMm2dYfBC81Bw89KI0gKog01FgKHhow24JQqkjTHsTsodh6qI0XgyA2BxU8\n",
       "2YtYKUhEBaGHRvHgz8EeLIJamoqCCNXS9E9bq29mdpPdpLU9pDiwM7vzvn3fzPfem13gv7VM6V06\n",
       "UutCntE1ym5el5R5vxiOrGZ7/icU6vRDDgD32PO1kjIb3vpXNe4A5BkgDpynJ+VUKYk9QmzvxGqB\n",
       "lJbomgVeAS6yy8lSMpcJxgttujFB+5PC5rIWaE2/gEka7nZ395ZU7BoxpEb8Fg06DKOzCvBV00ib\n",
       "nY9G35eU+aRI8MzttHg+xLoew1gZhHKZRKkgEY6aC0rw/uac1hDgr5qeXHreqzumRc7YcUWwq7z/\n",
       "hDoRb2nLOLUJI+3qjg+3shW5KQS7ocZ5RsyIxKiCp4rrYrp847f4fwo8sOOKYFt570efiO0TEfYa\n",
       "YR7Rob5l+2Kqw8Nl+bLMTXIQjgUrs9qWtviPALW6DVcE4zuQQqEmXjGTRt0o2/lwmrETUpqmBEj7\n",
       "+Kruj3GTLwV51MpcMSXWfov3H4BWO86dtMEMZopVGZdSPSZme4T2s0ydAcGsxvmZI6Wi3PQjgBe6\n",
       "lfmwU6zayWbVLLwJO87IEhMG7GQdLccnguEe5+2dCDoTtikp1EZHPZsrN/ZSO/zoHKzMQdpaczQa\n",
       "7dzGtrI03JDJ42Saj14KmDDRzjJtyblrWjxfZ92UnitnZZGlCRPkBn/lJUa4bZCyKGNh9iY9hgf5\n",
       "BGkah7fajgO0gBWGO3R9ZQ5WjPdYOOrz5byPpTmrKpSxCKhjWow7aichkxbmKa3Z8CC163CGof6E\n",
       "DQccaLHCsJeO5F0JeGOLIvKsdIzzWY7Nhhp51blYqnsZo6yjjqtGfmsDFuYWSFk81qixVKlMwpFF\n",
       "Dudh85GwCTNOT73gaCF3auEZPpm720Ne00oCygqUMUucHVQBy/hO7RuTpi+D3jByOJUZhnIwIz4D\n",
       "Gzjohsybz/NQmj5S5g3OaY3JPLNKRdn1O21+dSv6tcgVnqF5nBS0wTb2zRWHl6V5LffOAtvFNXBK\n",
       "0cewa33m8sKIHPwH81q44qas/zf0sHAivUHm9Kb+GpZv8q/nX+S68mb99E0nAAAAAElFTkSuQmCC\n",
       "\" style=\"display:inline;vertical-align:middle;\" /></a><br>"
      ],
      "text/plain": [
       "iffIntro: forall_{A, B | A => B , B => A} (A <=> B)"
      ]
     },
     "execution_count": 19,
     "metadata": {},
     "output_type": "execute_result"
    }
   ],
   "source": [
    "iffIntro = Forall((A, B), Iff(A, B), conditions=[Implies(A, B), Implies(B, A)])"
   ]
  },
  {
   "cell_type": "code",
   "execution_count": 20,
   "metadata": {},
   "outputs": [
    {
     "data": {
      "text/html": [
       "<strong id=\"notIffViaNotRightImpl\"><a class=\"ProveItLink\" href=\"_proofs_/notIffViaNotRightImpl.ipynb\">notIffViaNotRightImpl</a>:</strong> <a class=\"ProveItLink\" href=\"__pv_it/93acd11154bde9128889720515b69434910a22f20/expr.ipynb\"><img src=\"data:image/png;base64,iVBORw0KGgoAAAANSUhEUgAAAPcAAAAXBAMAAAAl5sTiAAAAMFBMVEX///8QEBC6urrMzMxUVFRm\n",
       "ZmZERETc3NwyMjKqqqp2dnaIiIiYmJgiIiLu7u4AAAAU9Wx4AAAAAXRSTlMAQObYZgAAA35JREFU\n",
       "SMfFVk1oE0EUfsk22aS73VYU2lPJQURQbA4FRQ8NNRZvDdrUkzRFmnqyC4qtlNogSPVic7CCeOlJ\n",
       "K0KJaEHJoVFBtCKthyLUVlNQD0K02D9ra+ubN7PNZrOxhyg+eDvzzUze996bNzMB+J+S/itW9hQE\n",
       "tvJU6AQDr4rklgL5QJqwWag2LgQbLoHLD6R32di1Isk96XzgmbNb6YgAtPgghl3U89jIkSLJkzbg\n",
       "9brdyroEagDGsDvG/XTFiySvzgfywLLAGKEUMiZHdYDxQZjFLqp6p7Ozp0huZywfKMp3jhWMFdqN\n",
       "2VbUN2lwY7hMl6LRqS3Nn7UfFhlzDZrGBNjnXeP4APt0GbML2D8DUBrietjwq4++NxbDDX6KwGRQ\n",
       "JoMePTvi7Qg3nYKDosRS5nojoPmkVV7022ZQPoiSlhaSI9Ps5zGuO0GjRKk8TWoFKBWs4zYZ5P1x\n",
       "n2noCcB9KOUjDmxOMo4pAZjr8iLNPeK1v5uvVLAQMngUnRVcy0AhXz/xNLkC4Fy2kt+iYFrMATYB\n",
       "1OjcbSg3vKrdBLXB4BJrZ8VBknfwKJBQQSJpjquSKiPnhidpuiwBrgkrOe1LaYbX7E36vsNgac/s\n",
       "yfFTRR4f4TNdCb4So1Z/Zsm1WC3tRiJK09/88EK3ktM+HHLzKNxsWpsHtc840464iZyAlxU1L44Z\n",
       "krfimGPySlayaYf2ejZcwgJBqUk+PAMWcomyG8CMNEej0dPb2Z6uJhvSrGBoacpETuACaj8fu84+\n",
       "GT17zHvRmioUBijLL2GUpoewltJZ8tvIFnOy21qNK+LCdB3HPYiBWi3OER0a7qUAVAsdvNToBqvP\n",
       "HnOpKp09auBg26FNhvniNsx8PDfyiJeRZ8LN4sKU2nRwh0BbMcid5jcEgdz6Q4fnG5cJM0eM+7t5\n",
       "Ixi8wjLj8XEFlZG6dKij440Wa/wWcif77QmQ5mEkjMJqqDwOznmAXXxFpfnmqbTcRGhNsz7c4noV\n",
       "shftpeQ+kNdBnrTseUTDyJzo8Bp8RfnCMtWbhp4QPQ4Am40NKCD3hJJ8XAK5cVpag6HF8NG4hdwP\n",
       "70FrjMC5Xymjqkr7w01XsT1W+En9k7Ct0GLWtz7vVuPy2LzooqkvDMjmPxM5wF5KdK45sr8A+ecC\n",
       "RrwJ0ek2j3ZvSf5AaI6kCpB7UwUi+Ff/LHMMP7NfM1wcxW8Y9+5GWhd5MwAAAABJRU5ErkJggg==\n",
       "\" style=\"display:inline;vertical-align:middle;\" /></a><br>"
      ],
      "text/plain": [
       "notIffViaNotRightImpl: forall_{A, B | [not](A => B)} [not](A <=> B)"
      ]
     },
     "execution_count": 20,
     "metadata": {},
     "output_type": "execute_result"
    }
   ],
   "source": [
    "notIffViaNotRightImpl = Forall((A, B), Not(Iff(A, B)), conditions=[Not(Implies(A, B))])"
   ]
  },
  {
   "cell_type": "code",
   "execution_count": 21,
   "metadata": {},
   "outputs": [
    {
     "data": {
      "text/html": [
       "<strong id=\"notIffViaNotLeftImpl\"><a class=\"ProveItLink\" href=\"_proofs_/notIffViaNotLeftImpl.ipynb\">notIffViaNotLeftImpl</a>:</strong> <a class=\"ProveItLink\" href=\"__pv_it/6742cf490b993905ecf887a97c27449b35a87a190/expr.ipynb\"><img src=\"data:image/png;base64,iVBORw0KGgoAAAANSUhEUgAAAPcAAAAXBAMAAAAl5sTiAAAAMFBMVEX///8QEBC6urrMzMxUVFRm\n",
       "ZmZERETc3NwyMjKqqqp2dnaIiIiYmJgiIiLu7u4AAAAU9Wx4AAAAAXRSTlMAQObYZgAAA01JREFU\n",
       "SMfFVk9IFGEUf+44O44zThsEeoo9SARF7UEq6uBim3RTotWTuB5ab7ZQpCHRFISdag/ZpYunMgRZ\n",
       "qKDw4FQQZYR2kEC0VqhulpR/+mPa+773jfPt7GwetujBm+9733u83/fe9973DcD/pPxf8bKnpBBI\n",
       "TwRPMeFlmdhKvFhQpgIMzZalRPNlUGPA+S5bu1YmeFW+WKhaDLKsSAF0RsHGKfI5HLRUmeBjAcKr\n",
       "9SDLxhxyHCZwOkH7VLNlgu8sFrTBVSFjhEqrqxzPAEwOwTxOkc07vb0XysQO2cWCYXwh2cBYodvV\n",
       "diG/zkMYw2W8kk7PbOn+TPCyyJg6JK0JYZ++RvIh9ulztUs47wGobiU+6u5rgH9vLiebYzwCyaE2\n",
       "JCk2CysDh8XMkZe5YEWVn1T02+eQ3omSVpbGHsziqNvE9WDxRJmUJjMCRoRNwpLDsKxwaTIK1VEq\n",
       "YRw6GMaMENjWtWWue0i1v5ssDSyEBWzFUIS4Bgy+1w+UJjUOoVU/+C1ZIcjqdMS2YVtUrDVsCg2J\n",
       "xAob50UjaTsoCgQ0EEhZJDacGr650WmursmBOuUH75YVOp109QKdWTA4fur4Fo+Rpi9Hlhi1+cMD\n",
       "t+wGfhq5NFd/jsHzjB88IitEiRwJp9yershK4FzQWVHzJX2O0xvR5pjkyu9e2qG7iS1XQgdX7x+7\n",
       "3wM+cMV2FWoa6RKvuzjLQz2ZOhI4F84jX6e1G+yzkPHa/CJ6MwXDIE/mCxjn6mGAx3kP/DaC2aG4\n",
       "rABIIrqZNRZFH/GmoV0KgdfCabLmN1iT1+ZKXd5rNahgx2FNJ8n4FCY4Wxh5So/LCoAD7RhLsm3d\n",
       "BQ/JbwgKWte3DDzbuEKFaXv3d9tGInGVZaYqSgwmA1Uz0MiziQeyP+YDD6VchZFEOsm23A7KV4Bd\n",
       "ZFErt2Ct7yZCb5b/4RbXq6C9WImONgDaOmjTvjNPWRgZKaxPSCMsPtz/Gn8cADaHAKEEjQjm9H4F\n",
       "tJZZZQ2Gl5PHsz7wGLwFScHea6slBWd/OXCi9JP6J2JHYdn+t953q7n0SDbSJOfCgSb/TBQIwVSZ\n",
       "IS6ggyXAP5ZwoufEpF9e7d8S/J7gAnJKgOtOiQj+1Z9lgeOnwTaj5UH8BkBp8HGzb7pvAAAAAElF\n",
       "TkSuQmCC\n",
       "\" style=\"display:inline;vertical-align:middle;\" /></a><br>"
      ],
      "text/plain": [
       "notIffViaNotLeftImpl: forall_{A, B | [not](B => A)} [not](A <=> B)"
      ]
     },
     "execution_count": 21,
     "metadata": {},
     "output_type": "execute_result"
    }
   ],
   "source": [
    "notIffViaNotLeftImpl = Forall((A, B), Not(Iff(A, B)), conditions=[Not(Implies(B, A))])"
   ]
  },
  {
   "cell_type": "code",
   "execution_count": 22,
   "metadata": {},
   "outputs": [
    {
     "data": {
      "text/html": [
       "<strong id=\"trueIffTrue\"><a class=\"ProveItLink\" href=\"_proofs_/trueIffTrue.ipynb\">trueIffTrue</a>:</strong> <a class=\"ProveItLink\" href=\"__pv_it/039b4c44326537bfa27b1d6e7a8d44995283b0750/expr.ipynb\"><img src=\"data:image/png;base64,iVBORw0KGgoAAAANSUhEUgAAAD8AAAAPBAMAAAChCwpBAAAALVBMVEX///+qqqpUVFS6urru7u4Q\n",
       "EBDc3NyIiIgyMjJ2dnbMzMxEREQiIiJmZmYAAABYjWgWAAAAAXRSTlMAQObYZgAAAHtJREFUGNNj\n",
       "uHMGBE4zoANesPiZDSD2WgbsgOsClEGCAg4UHhYF5UDMnYBbAVcDkGBrwK1gaQzI4S8ccClgbwFT\n",
       "zM04FLBEQ/mpCjhMcIIIsLXjdIMMJPQScCpgBJnNcgxPOFwEYiYDDAUr4Qo8gDgbEZITMEMfiF1Q\n",
       "hQA1TDKH0JX8uwAAAABJRU5ErkJggg==\n",
       "\" style=\"display:inline;vertical-align:middle;\" /></a><br>"
      ],
      "text/plain": [
       "trueIffTrue: TRUE <=> TRUE"
      ]
     },
     "execution_count": 22,
     "metadata": {},
     "output_type": "execute_result"
    }
   ],
   "source": [
    "trueIffTrue = Iff(TRUE, TRUE)"
   ]
  },
  {
   "cell_type": "code",
   "execution_count": 23,
   "metadata": {},
   "outputs": [
    {
     "data": {
      "text/html": [
       "<strong id=\"iffTT\"><a class=\"ProveItLink\" href=\"_proofs_/iffTT.ipynb\">iffTT</a>:</strong> <a class=\"ProveItLink\" href=\"__pv_it/1ea7b5da3b573cd5fbba17320bc9d9ce566310930/expr.ipynb\"><img src=\"data:image/png;base64,iVBORw0KGgoAAAANSUhEUgAAAHoAAAAVBAMAAAB71edYAAAAMFBMVEX////c3NwiIiJERESqqqqY\n",
       "mJh2dnZmZmYQEBDu7u4yMjJUVFTMzMyIiIi6uroAAAAs73DqAAAAAXRSTlMAQObYZgAAAQlJREFU\n",
       "OMtjYKAM8F0gqCQOt9RpBoYiJRBQxpCCibMfwCXDsBLMPY7DbIj4AlwyvBeI0B2GS4ZjAppuoD08\n",
       "BWi6Z+DS/YoBVTfYLYZoupkdcOguQ9N9CkRIoelmK8Cheymqbp4OUGDqr0TVzQIOtqpVILAaWaYP\n",
       "VfctSDC8eoCim68Bh93/UHTPMIDQjN0ounk+EKWbczuElrpAnO4WVJezgBORkiIDFpejJkmwjCla\n",
       "mHuDiEkCqLpZF+CwOx1NNzsoavcRG2OPIOxjMEFOoDWMBnA1EHGuB5i6wTIcAmiiwPzEOQFNbAau\n",
       "DMqaQEQZkItTZiVhzZwLcEpJE9bNLYBTipFwyXQHlwQAfKdQRGUYkG8AAAAASUVORK5CYII=\n",
       "\" style=\"display:inline;vertical-align:middle;\" /></a><br>"
      ],
      "text/plain": [
       "iffTT: (TRUE <=> TRUE) = TRUE"
      ]
     },
     "execution_count": 23,
     "metadata": {},
     "output_type": "execute_result"
    }
   ],
   "source": [
    "iffTT = Equals(Iff(TRUE, TRUE), TRUE)"
   ]
  },
  {
   "cell_type": "code",
   "execution_count": 24,
   "metadata": {},
   "outputs": [
    {
     "data": {
      "text/html": [
       "<strong id=\"falseIffFalse\"><a class=\"ProveItLink\" href=\"_proofs_/falseIffFalse.ipynb\">falseIffFalse</a>:</strong> <a class=\"ProveItLink\" href=\"__pv_it/12d7d803eb1e063ff32b50e6e2259ae8287b34cd0/expr.ipynb\"><img src=\"data:image/png;base64,iVBORw0KGgoAAAANSUhEUgAAAD8AAAAPBAMAAAChCwpBAAAAKlBMVEX///+qqqpUVFS6urru7u4y\n",
       "MjJEREQQEBAiIiJmZmbMzMyIiIjc3NwAAADBC20uAAAAAXRSTlMAQObYZgAAAIFJREFUGNNjYGBg\n",
       "OM2AHfBsgDJW4lDANYF0BawoPCwKdgMx2wHcCrgCQE4LwK1geUUHEFx1wKWAOwRMMQfjUMBSBuUf\n",
       "V8BhghNEgCcapxskOsDgAE4FjCCzWXrwhMNEIGYyQFUwo6OjvaOjDSLkCsTHIExOoF1AXyeghT4Q\n",
       "u6AKAQBrCilXJ/gEYgAAAABJRU5ErkJggg==\n",
       "\" style=\"display:inline;vertical-align:middle;\" /></a><br>"
      ],
      "text/plain": [
       "falseIffFalse: FALSE <=> FALSE"
      ]
     },
     "execution_count": 24,
     "metadata": {},
     "output_type": "execute_result"
    }
   ],
   "source": [
    "falseIffFalse = Iff(FALSE, FALSE)"
   ]
  },
  {
   "cell_type": "code",
   "execution_count": 25,
   "metadata": {},
   "outputs": [
    {
     "data": {
      "text/html": [
       "<strong id=\"iffFF\"><a class=\"ProveItLink\" href=\"_proofs_/iffFF.ipynb\">iffFF</a>:</strong> <a class=\"ProveItLink\" href=\"__pv_it/5f734160fa600ccc4368d888eedcac31ca6a55280/expr.ipynb\"><img src=\"data:image/png;base64,iVBORw0KGgoAAAANSUhEUgAAAHoAAAAVBAMAAAB71edYAAAAMFBMVEX////c3NwiIiJERESqqqqY\n",
       "mJh2dnZmZmYQEBDu7u4yMjJUVFTMzMyIiIi6uroAAAAs73DqAAAAAXRSTlMAQObYZgAAAQxJREFU\n",
       "OMtjYKAM8F0gqCQOt9RpMCmLQxYszn4AXbhICQSUGRhWgrnHceiGiC/AJcN7gQjdYbhkOCag6Qba\n",
       "w1OApnsGLt2vGFB1g91iiKab2QGH7jI03adAhBSabrYCHLqXourm6QAFpv5KVN0s4GCrWgUCq5Fl\n",
       "+lB134IEw6sHKLr5GnDY/Q9F9wwDCM3YjaKb5wNRujm3Q2ipC8TpbkF1OQs4ESkpMmBxOTyBIWRM\n",
       "0cLcG0RMEkDVzboAh93paLrZQVG7j9gYewRxkgbMSZxAaxgN4HkBIs71AFP3MXBKFUATBeYnzglo\n",
       "YjNwZVDWBCLKgFycMisJa+ZcgFNKmrBubgGcUoyES6Y7uCQAmchO/vU+Xk0AAAAASUVORK5CYII=\n",
       "\" style=\"display:inline;vertical-align:middle;\" /></a><br>"
      ],
      "text/plain": [
       "iffFF: (FALSE <=> FALSE) = TRUE"
      ]
     },
     "execution_count": 25,
     "metadata": {},
     "output_type": "execute_result"
    }
   ],
   "source": [
    "iffFF = Equals(Iff(FALSE, FALSE), TRUE)"
   ]
  },
  {
   "cell_type": "code",
   "execution_count": 26,
   "metadata": {},
   "outputs": [
    {
     "data": {
      "text/html": [
       "<strong id=\"iffTF\"><a class=\"ProveItLink\" href=\"_proofs_/iffTF.ipynb\">iffTF</a>:</strong> <a class=\"ProveItLink\" href=\"__pv_it/da575ca4d375b4321325852fd9becce0d5d5024b0/expr.ipynb\"><img src=\"data:image/png;base64,iVBORw0KGgoAAAANSUhEUgAAAHoAAAAVBAMAAAB71edYAAAAMFBMVEX////c3NwiIiJERESqqqqY\n",
       "mJh2dnZmZmYQEBDu7u4yMjJUVFTMzMyIiIi6uroAAAAs73DqAAAAAXRSTlMAQObYZgAAAQ1JREFU\n",
       "OMtjYKAM8F0gqCQOt9RpBoYiJRBQxiYrCyLYD+CSYVgJJo/jMBsivgCXDO8FInSH4ZLhmICmG2gP\n",
       "TwGa7hm4dL9iQNUNdoshmm5mBxy6y9B0nwIRUmi62Qpw6F6KqpunAxT8+itRdbOAg61qFQisRpbp\n",
       "Q9V9CxIMrx6g6OZrwGH3PxTdMwwgNGM3im6eD0Tp5twOoaUuEKe7BdXlLOBkp6TIgMXlqEkSLGOK\n",
       "FubeIGKSAKpu1gU47E5H080Oitp9xMbYIwj7GEyQE2gNIzTsgE7VADuV6wGaVpgMhwCaBDA/cU5A\n",
       "E5uBK4OyJhBRBuTilFlJWDPnApxS0oR1cwvglGIkXDLdwSUBALmeTv77giohAAAAAElFTkSuQmCC\n",
       "\" style=\"display:inline;vertical-align:middle;\" /></a><br>"
      ],
      "text/plain": [
       "iffTF: (TRUE <=> FALSE) = FALSE"
      ]
     },
     "execution_count": 26,
     "metadata": {},
     "output_type": "execute_result"
    }
   ],
   "source": [
    "iffTF = Equals(Iff(TRUE, FALSE), FALSE)"
   ]
  },
  {
   "cell_type": "code",
   "execution_count": 27,
   "metadata": {},
   "outputs": [
    {
     "data": {
      "text/html": [
       "<strong id=\"trueIffFalseNegated\"><a class=\"ProveItLink\" href=\"_proofs_/trueIffFalseNegated.ipynb\">trueIffFalseNegated</a>:</strong> <a class=\"ProveItLink\" href=\"__pv_it/fe045491760ab944ef81446ebc48e60dd4342cf50/expr.ipynb\"><img src=\"data:image/png;base64,iVBORw0KGgoAAAANSUhEUgAAAF4AAAAVBAMAAAA9Y0TyAAAAMFBMVEX////c3NxERESqqqqYmJgQ\n",
       "EBDu7u4yMjKIiIi6urpUVFTMzMx2dnYiIiJmZmYAAABjE816AAAAAXRSTlMAQObYZgAAAPdJREFU\n",
       "KM9jYCAbcDYQUsEyAZm3i4HvLhgoYFHKCDbsNbJQGYjgfoDdaIg4O5IIRwNh9SwHECKsCWjqC5B5\n",
       "EBZbAEL9dAZU9WD7FFHVMygj1L9BU78dRIijqT+HUF+Cqp47FBRU98tQ1ZszvAUJ3wEyI1HVtydA\n",
       "XDkBRf1UWNAzMPxEUZ8KjQTGKBT1+3GpZ1sHocUbcKkPRnUPMySuLzLgco8KWvhYgYhcAVT17lAe\n",
       "PKgQ6vkMgMRK3OE5FyIOj3E2YPwyQnwNSoex4HRYiZQeBNCSzAagngRUIeT0gJyWcAGeBvT0jB+k\n",
       "I3OkCKtfiJmF8AGODQwAvedUkjOrxu4AAAAASUVORK5CYII=\n",
       "\" style=\"display:inline;vertical-align:middle;\" /></a><br>"
      ],
      "text/plain": [
       "trueIffFalseNegated: [not](TRUE <=> FALSE)"
      ]
     },
     "execution_count": 27,
     "metadata": {},
     "output_type": "execute_result"
    }
   ],
   "source": [
    "trueIffFalseNegated = Not(Iff(TRUE, FALSE))"
   ]
  },
  {
   "cell_type": "code",
   "execution_count": 28,
   "metadata": {},
   "outputs": [
    {
     "data": {
      "text/html": [
       "<strong id=\"iffFT\"><a class=\"ProveItLink\" href=\"_proofs_/iffFT.ipynb\">iffFT</a>:</strong> <a class=\"ProveItLink\" href=\"__pv_it/d076c0e3855f3181ab080602e72dc2c89b5a740c0/expr.ipynb\"><img src=\"data:image/png;base64,iVBORw0KGgoAAAANSUhEUgAAAHoAAAAVBAMAAAB71edYAAAAMFBMVEX////c3NwiIiJERESqqqqY\n",
       "mJh2dnZmZmYQEBDu7u4yMjJUVFTMzMyIiIi6uroAAAAs73DqAAAAAXRSTlMAQObYZgAAAQxJREFU\n",
       "OMtjYKAM8F0gqCQOt9RpMCmLTapICQSUGdgPYJGE6FgJJo/jMBsivgCXDO8FInSH4ZLhmICmG2gP\n",
       "TwGa7hm4dL9iQNUNdoshmm5mBxy6y9B0nwIRUmi62Qpw6F6KqpunAxTM+itRdbOAg61qFQisRpbp\n",
       "Q9V9CxIMrx6g6OZrwGH3PxTdMwwgNGM3im6eD0Tp5twOoaUuEKe7BdXlLODkpaTIgMXlsKSHJGOK\n",
       "FubeIGKSAKpu1gU47E5H080Oitp9xMbYI4iTNGBO4gRaw2gAV3MMTHI9wMw/YB0cAmgSwPzEOQFN\n",
       "bAauDMqaQEQZkItTZiVhzZwLcEpJE9bNLYBTipFwyXQHlwQAqlZO/hPwzGoAAAAASUVORK5CYII=\n",
       "\" style=\"display:inline;vertical-align:middle;\" /></a><br>"
      ],
      "text/plain": [
       "iffFT: (FALSE <=> TRUE) = FALSE"
      ]
     },
     "execution_count": 28,
     "metadata": {},
     "output_type": "execute_result"
    }
   ],
   "source": [
    "iffFT = Equals(Iff(FALSE, TRUE), FALSE)"
   ]
  },
  {
   "cell_type": "code",
   "execution_count": 29,
   "metadata": {},
   "outputs": [
    {
     "data": {
      "text/html": [
       "<strong id=\"falseIffTrueNegated\"><a class=\"ProveItLink\" href=\"_proofs_/falseIffTrueNegated.ipynb\">falseIffTrueNegated</a>:</strong> <a class=\"ProveItLink\" href=\"__pv_it/8c9c423e916ef6d8729d812de4aea89cc4faa2ad0/expr.ipynb\"><img src=\"data:image/png;base64,iVBORw0KGgoAAAANSUhEUgAAAF4AAAAVBAMAAAA9Y0TyAAAAMFBMVEX////c3NxERESqqqqYmJgQ\n",
       "EBDu7u4yMjKIiIi6urpUVFTMzMx2dnYiIiJmZmYAAABjE816AAAAAXRSTlMAQObYZgAAAPdJREFU\n",
       "KM9jYCAbcDYQUsEyAZm3C0QwYtPEdxcMFBheI4uWgQjuB9iNhoizI4lwNBBWz3IAIcKagKa+AJkH\n",
       "YbEFINRPZ0BVD7ZPEVU9gzJC/Rs09dtBhDia+nMI9SWo6rlDQUFyvwxVvTnDW5DwHSAzElV9ewLE\n",
       "lRNQ1E9FBP1PFPWpChCaMQpF/X5c6tnWQWjxBlzqg1HdwwyJ04sMuNyjghY+ViAiVwBVvTuUBw8q\n",
       "hHo+AyCxEnd4zoWkq1hQugL7ABi/jApw9ZCUUImUHgTQkswGoJ4EVCHk9ICclnABngb09IwfpCNz\n",
       "pAirX4jMYSSYHzk2MAAAqvdUkq8BMZ8AAAAASUVORK5CYII=\n",
       "\" style=\"display:inline;vertical-align:middle;\" /></a><br>"
      ],
      "text/plain": [
       "falseIffTrueNegated: [not](FALSE <=> TRUE)"
      ]
     },
     "execution_count": 29,
     "metadata": {},
     "output_type": "execute_result"
    }
   ],
   "source": [
    "falseIffTrueNegated = Not(Iff(FALSE, TRUE))"
   ]
  },
  {
   "cell_type": "code",
   "execution_count": 30,
   "metadata": {},
   "outputs": [
    {
     "data": {
      "text/html": [
       "<strong id=\"iffImpliesRight\"><a class=\"ProveItLink\" href=\"_proofs_/iffImpliesRight.ipynb\">iffImpliesRight</a>:</strong> <a class=\"ProveItLink\" href=\"__pv_it/fa15f628d442131b69f984451d5ef3fe67441a140/expr.ipynb\"><img src=\"data:image/png;base64,iVBORw0KGgoAAAANSUhEUgAAAMEAAAAXBAMAAABACzadAAAAMFBMVEX///8QEBC6urrMzMxUVFRm\n",
       "ZmZERETc3NwyMjKqqqp2dnaIiIiYmJgiIiLu7u4AAAAU9Wx4AAAAAXRSTlMAQObYZgAAAuhJREFU\n",
       "SMe1VT9ME1EY/9Fr72jvOIiLTKSDm0Y6EB0cuGiDJg504OpkgBjKBh2MYAhSSQzqIF0wjjiJ0Zga\n",
       "depAdTCKMdQBB8WkJJqwgERoEUHwe+/1ei+1ihZ9yXvvu+973/f7/rbAf1+5Pege3PXFM9pZRryq\n",
       "CkCxxJWtIDPa18Jto/CFgLvs+0ZVCLUi/tqVSsKaLqAziARwgb60rqoQ0uJ6vV0p560p2hZmhCO+\n",
       "ZFUITfzUJtZdlpuM6TgwO4kFStidgYHhqgA8CX7p+heXd6BEddN+k4NKzhdisXdVIfgm+XXYv+Xy\n",
       "AimHWgMG+4gRAU4AvZw3xs+bebstxF0sFTTuWvD32x3nHH6GnWZQ2eR4H/jKO322ln4yzxQSLDCT\n",
       "h2uIYI0G6A2MUB2rs0HJ8afAQ6dbgsIRLS/J/aPi1qk4S9TNHrJVB50780kE67PgWZcRzM6MZKED\n",
       "aC7GVM8RWsLhgpy7xX38UsmyThYVamU9U8d77MEcF9Wl4MvKCIElSqVpQeFpfw+chYxAR6M8hddF\n",
       "w9aT/8Y3gWAmWrgoFeOizyG8iMsIx1SaFjabJ1lAqzDGnCyxHvezlpHq8LY4Ea0UuHdDZAm9xxnL\n",
       "W/StOf24DzKCxUK6HYvFLhOwZzPd5kyVyrJ3kfa4VAZLGocRqq/BajzBk/IS01w0RdXMSQhGUl/B\n",
       "EeaueTqHQAJGk5M+lj1moN+d5EFpHJTGnHiEGtbD5pwtHvZQopISwpId3UaUi24FoUZgbjgTl4XW\n",
       "/TWO5ztXSgi9xTu6Ew5fZTHWsmIZTN0XRysfA9JvDkkIZ6CsQuuxbTtKntQn4Vl1zO3/eQpD5YyF\n",
       "EnWItDPaGLRtaHNSHTzkCDXd4qXl5fv0OZLDcMTRmfmDwb/nEB8L0NrnlS1M5e1TSRfBbO/C+e8Z\n",
       "KBHWsAiM2x3Xyn+9f7fEMMv/GxKtloVvxsvVNWtXBG+50tFfIlRcQ7u+eFTOyPwdwh6X9x/Z+QG1\n",
       "G8FcNLiUzwAAAABJRU5ErkJggg==\n",
       "\" style=\"display:inline;vertical-align:middle;\" /></a><br>"
      ],
      "text/plain": [
       "iffImpliesRight: forall_{A, B | A <=> B} (A => B)"
      ]
     },
     "execution_count": 30,
     "metadata": {},
     "output_type": "execute_result"
    }
   ],
   "source": [
    "iffImpliesRight = Forall((A, B), Implies(A, B), conditions=[Iff(A, B)])"
   ]
  },
  {
   "cell_type": "code",
   "execution_count": 31,
   "metadata": {},
   "outputs": [
    {
     "data": {
      "text/html": [
       "<strong id=\"iffImpliesLeft\"><a class=\"ProveItLink\" href=\"_proofs_/iffImpliesLeft.ipynb\">iffImpliesLeft</a>:</strong> <a class=\"ProveItLink\" href=\"__pv_it/daee5f8cd64120ac6a4f032996a3d425891831ae0/expr.ipynb\"><img src=\"data:image/png;base64,iVBORw0KGgoAAAANSUhEUgAAAMIAAAAXBAMAAACrPI2eAAAAMFBMVEX///8QEBC6urrMzMxUVFRm\n",
       "ZmZERETc3NwyMjKqqqp2dnaIiIiYmJgiIiLu7u4AAAAU9Wx4AAAAAXRSTlMAQObYZgAAAuxJREFU\n",
       "SMe1VT9ME1EY/9Gjd9hej246ISZumtDBqIkxvWhTTBxoIlcnA8ZQ4iIdDGgMUlyqi3RQwyYORoyG\n",
       "1ESnDpwb6gAOLAqhMZqwgET+K1a/9+4e92hK0KIvee+++77vfb/v7x3w31dxF3cP7aihNwITjHhX\n",
       "FYBikomWpVj8VmX5SdrngKeMvlsVQh2Lv6YdaGusKB9gOkA3PbT2qhAK7IjmaZuCZcgZmiEP9CHu\n",
       "iD9XFUIDO0bTwPjQlrDcdb2NREYY+pOent6qAHwZdl6k/X7Trs/05PlRlrzLwEoq9aEqBD/3fAm4\n",
       "dsVjPvMcKD606fEYOA10claWnw+WrXiEa2xGnvYM7OmyWi8JPjOgLBVeTfHXC9NszSSE6ideIgwC\n",
       "B2HwcPVvTn3CCIYZoQrVcblTXgMvXLKG8YOrwJyUGgwK7Ub0MbQDQAhB5gy+bDixm/CtyghGmy0Z\n",
       "aAWa3JjqmS2VvAluSApGvwOhxGItrEWjJLdDvFAjk1wSysM/ISME5sgVw4TC0/6R0gEJoZ5N3XcJ\n",
       "4fiIWwYKMuMgGJkjHDOf4pKvEYylZYQTKrnip9I0Mw8XoWdFlliPRynA2nWvDtOi6iQMhZ0sofMU\n",
       "49S6vjUVXjpKAsFkIT1KpVL9BOz7UYiL1lRtdxz6Ml4I99ynRgh1C0SM0b7Pk/IGo1w0TNUsSgh6\n",
       "LriAo8xd42wRgQz0BpG+hDMOyj5vzDQBNssslJxuRQ1rKmPS6uKKHZSonIQwZyVLSBbdNlETMNZF\n",
       "w5NnyV+x2G2pE1S3C7r3Z6F3rZEP7Kuos+v+NKJ8DOh+U0RCOA9lEVqHZVlJ8qQ+B9+iMLe3wue2\n",
       "nGGEBXWYbttaFloJ2qRUBx85SM04e3N+/jm99hXRuzlTb/9g8AN5l/i8Aq1lStnA8LJ1JuchGNTT\n",
       "V3/aUBKsYREYsFrvoNJnbrs1W/5Lkmh1iyQCI11+WzN3Rmguez+2LULFdWNHjWCkjGH/HcIuV+0/\n",
       "svMbyLm8JRIE9oYAAAAASUVORK5CYII=\n",
       "\" style=\"display:inline;vertical-align:middle;\" /></a><br>"
      ],
      "text/plain": [
       "iffImpliesLeft: forall_{A, B | A <=> B} (B => A)"
      ]
     },
     "execution_count": 31,
     "metadata": {},
     "output_type": "execute_result"
    }
   ],
   "source": [
    "iffImpliesLeft = Forall((A, B), Implies(B, A), conditions=[Iff(A, B)])"
   ]
  },
  {
   "cell_type": "code",
   "execution_count": 32,
   "metadata": {},
   "outputs": [
    {
     "data": {
      "text/html": [
       "<strong id=\"rightFromIff\"><a class=\"ProveItLink\" href=\"_proofs_/rightFromIff.ipynb\">rightFromIff</a>:</strong> <a class=\"ProveItLink\" href=\"__pv_it/1decbdcca7747b42574984455e4946373fe6f28a0/expr.ipynb\"><img src=\"data:image/png;base64,iVBORw0KGgoAAAANSUhEUgAAAJEAAAAWBAMAAAAyQ2NwAAAAMFBMVEX///8QEBC6urrMzMxUVFRm\n",
       "ZmZERETc3NwyMjKqqqp2dnaIiIiYmJgiIiLu7u4AAAAU9Wx4AAAAAXRSTlMAQObYZgAAAgxJREFU\n",
       "OMutlDFME2EUx//0ej3kroUJHBkcTeigMdGhDTSErSTmcDLUwUNCgjcYYDESljqZLjCzAQvpABMJ\n",
       "nJvGARy6GAaGGhOTAsECkRT0fe/rwUPTRHJ+yX33v3e/+3/vvvfusIf/NXbU9CmKg5Ov5wbngBV1\n",
       "8S5SMm0FYLQXUyStQiSnTJmOLNppo8xSJKctH9hehLM0Pf062lY/o+MzJXTieV+iOdWBmUk6DwBj\n",
       "HCjyvHDsDqaViIVgu98URfH0JQYY9Y31XSXuIDXLxTzSNe2C3aVEInxou7dZ7SNZ+hAD7FOgliWR\n",
       "hB2owNcGx80sYqfSKTUaaNEEcB0jkBxtdc8OktznqxWOJ8swd6RTR21YCwaqwMNrGNBJ+Thnas3Z\n",
       "e/y2ZY/jB2l88KXTo4TuNg08BuK+xKiVKOf4T6XG+tUcx1OO922sTUI6ZZtrM9DR7XkveiSm2+kN\n",
       "b/U8kx+xxfFl4P2ecHJK9iFCwBhXqropMG4n4zbrtrJ6x4r7kq+eU+Yl4VRzRy4QAibncWtOYBj5\n",
       "lcu91UVxlIPpI8P9QS/clxZOT2D8wCUw5dKYkNhf4y7VILCKsC5gVcQ+xWi1BmZ8DSBV3N//TqEr\n",
       "7M9RPYGV3zUaWD52h0pXTql8Aa/Og0ygAeA+N4LAWv20hE7IG0EoDODbv3yLD1o4Gf5Nv+qghZMT\n",
       "6V8RvyH/G18imeyASVDnAAAAAElFTkSuQmCC\n",
       "\" style=\"display:inline;vertical-align:middle;\" /></a><br>"
      ],
      "text/plain": [
       "rightFromIff: forall_{A, B | A , A <=> B} B"
      ]
     },
     "execution_count": 32,
     "metadata": {},
     "output_type": "execute_result"
    }
   ],
   "source": [
    "rightFromIff = Forall((A, B), B, conditions=[A, Iff(A, B)])"
   ]
  },
  {
   "cell_type": "code",
   "execution_count": 33,
   "metadata": {},
   "outputs": [
    {
     "data": {
      "text/html": [
       "<strong id=\"leftFromIff\"><a class=\"ProveItLink\" href=\"_proofs_/leftFromIff.ipynb\">leftFromIff</a>:</strong> <a class=\"ProveItLink\" href=\"__pv_it/9cd549c8a567e2eca436e1b7bb7965de596eb73c0/expr.ipynb\"><img src=\"data:image/png;base64,iVBORw0KGgoAAAANSUhEUgAAAJEAAAAWBAMAAAAyQ2NwAAAAMFBMVEX///8QEBC6urrMzMxUVFRm\n",
       "ZmZERETc3NwyMjKqqqp2dnaIiIiYmJgiIiLu7u4AAAAU9Wx4AAAAAXRSTlMAQObYZgAAAidJREFU\n",
       "OMutVL9v01AQ/mrXcUgc078AMjAiJQOCAaFEUBUkhmbICxMqEqq7EQ+ohaE0nSIW6gXEBkwUCaEg\n",
       "sXWo2UAMdMkCSFgIpC4tFVELiBJxdyTps/hRKnPSe+97d+fvfPfuPUT4X7LC04ukLCdoPGBwIynT\n",
       "Ao1pGvaFhETOWypSmoYVJGS6OuET3f2ZmdmkybWW8zRved6rhERGdCek5RQwJfumzLc21VhRzH2/\n",
       "tL/zzb66ql6MAZZ3KLVoOQS3IVX79LN4I8iOMEj1/V7mtfBPgcdxQJLHXIWWHLL8a/iwLVqrDOOz\n",
       "zuROhBpTFSj4MQCYo6PjfPrZMCd9/qgt6lwL1orOlFmjeG4Z5l3evQbOIwakDkOclts4IsQtT9Qf\n",
       "i3jm60zHUxTPotKdZucOHKnnAJBQD+WkIFMneR7uhSgsPbkEnanMv3jP87x5CmB8WxqTDAaA+pqY\n",
       "0huMbkoyz7Es+kUqZqQxOUF2A0e5dd2zETINOAck5z4AVtm5y2iIT9Btq7oQTFKCgca0pmpd1MR0\n",
       "O49UBe5XsfYBpg824dS/8OE57Gb5KEkbkblQ1JjOwezAnlRK1Sji/gBGh9UD8IscJmNoN2F3Ybe1\n",
       "OhnUAtQeq9fW1x/Sdi7CbAVX/B74jbzfgj3+xtzG4qY6E+wwudQol7+HMCvcCMgsqOp1oBT2wF9e\n",
       "Bw2nYpYiXO3ShLtexWN/ZIqJ6e/KFP4bk7O3p2J4j0/LD37akYshbBANAAAAAElFTkSuQmCC\n",
       "\" style=\"display:inline;vertical-align:middle;\" /></a><br>"
      ],
      "text/plain": [
       "leftFromIff: forall_{A, B | A <=> B , B} A"
      ]
     },
     "execution_count": 33,
     "metadata": {},
     "output_type": "execute_result"
    }
   ],
   "source": [
    "leftFromIff = Forall((A, B), A, conditions=[Iff(A, B), B])"
   ]
  },
  {
   "cell_type": "code",
   "execution_count": 34,
   "metadata": {},
   "outputs": [
    {
     "data": {
      "text/html": [
       "<strong id=\"iffSymmetry\"><a class=\"ProveItLink\" href=\"_proofs_/iffSymmetry.ipynb\">iffSymmetry</a>:</strong> <a class=\"ProveItLink\" href=\"__pv_it/7d601db64dfd9741322a66890d3e46ad1e6c0e320/expr.ipynb\"><img src=\"data:image/png;base64,iVBORw0KGgoAAAANSUhEUgAAAMIAAAAXBAMAAACrPI2eAAAAMFBMVEX///8QEBC6urrMzMxUVFRm\n",
       "ZmZERETc3NwyMjKqqqp2dnaIiIiYmJgiIiLu7u4AAAAU9Wx4AAAAAXRSTlMAQObYZgAAAwVJREFU\n",
       "SMe1VE1oE0EU/pptsm12s81JvVgjeFNoBH8OIgkaWsFDA3YjHqQVaYoXG0FaRWqjlyiCzUXpRawH\n",
       "sYJIBD3l0Hiremg9FEFbDFKhl9Zi/7VW35vZTbchEk11YGbfzJuZ73vvfbPAf2/5TZzdXXaHHgBG\n",
       "2XhTEYASpiua5yON10v7D1M/ATxm+3ZFCDUcf1Ub0Boo6e/jPUAXfdS2ihCyPIQy1MMlM/SRGOgD\n",
       "gog7XRFCPQ9DCWBkQMZEff+6+3IruQw/9Efd3T0VAbiSPJ6h/jZfiMmTKPgzQ5y8c8BiPP6+IgS3\n",
       "YD4PXDovC8+IarJAIH8/R5+HwFGgQyylxHh3wWwMih2Fgq7TQm2n2XLWXucLlPnsi3E537t9gtqy\n",
       "Lf9PokToB3bBELj6V1kfPzQ/Gx771hGnUl4Czyyzite1JWBaFFqTgnTZ0g2gN0qfnYAPGpPB51UZ\n",
       "exiuJSeC0ZpzILQADVZMdYzgITYanzS2WDsuSGEpkUgzSzRE/pxPBPZ0THh8GbhHnQjeaaJihKGI\n",
       "tH8ATsOBUMev7htPJ6NiVb1llYGCTEoEI7lPYGbiwvMliOGEE+GQh6i4qTRNzHQOesrOEms8RAFW\n",
       "r4j5vQnRrAjJ6fPLLKHjCK9UW9wass+lNGyEMIf0IB6PX6Ozru/ZRruUnpz1HHqlfmo5PcY76VQJ\n",
       "oWaWjGHqd0RSXmFIuAapmnkHgp7WZnGA6RrH8/Amodfb6YvK56BsszBPMVFLFlN8w5pUK6pYVMaY\n",
       "2Sk2tlOi0g6EaTO2hphw9QfgicJYsQVPzGI/I5EbthL41i5pdu1IQe9cJg4sLZ2PuxMIiWdA5xuC\n",
       "DoSTUOagtpumGSMmdWm45mxdbS3+11KfKVoz/La1h07n1BTUNahjjjq4iCCJcerqzMwTmvbm0RO1\n",
       "z7z+g4fvzVjG5CLU5nFlFYML5rH0OoJBmr74IwclyoKFt89subnx712mTRX/cB22Z4MnCCNRfFoN\n",
       "l0doKpof/C1CyXal7A4tWLSQ+zuETbbqf3TPL6uwwIqERiODAAAAAElFTkSuQmCC\n",
       "\" style=\"display:inline;vertical-align:middle;\" /></a><br>"
      ],
      "text/plain": [
       "iffSymmetry: forall_{A, B | A <=> B} (B <=> A)"
      ]
     },
     "execution_count": 34,
     "metadata": {},
     "output_type": "execute_result"
    }
   ],
   "source": [
    "iffSymmetry = Forall((A, B), Iff(B, A), conditions=[Iff(A, B)])"
   ]
  },
  {
   "cell_type": "code",
   "execution_count": 35,
   "metadata": {},
   "outputs": [
    {
     "data": {
      "text/html": [
       "<strong id=\"iffTransitivity\"><a class=\"ProveItLink\" href=\"_proofs_/iffTransitivity.ipynb\">iffTransitivity</a>:</strong> <a class=\"ProveItLink\" href=\"__pv_it/41603a761fb41c0a1bdaf047326ae87e68e279fc0/expr.ipynb\"><img src=\"data:image/png;base64,iVBORw0KGgoAAAANSUhEUgAAAQMAAAAXBAMAAAD9zzfBAAAAMFBMVEX///8QEBC6urrMzMxUVFRm\n",
       "ZmZERETc3NwyMjKqqqp2dnaIiIiYmJgiIiLu7u4AAAAU9Wx4AAAAAXRSTlMAQObYZgAAA7JJREFU\n",
       "SMfFVltsDGEU/rrT2Wl3t1MScXugEhIJYR/qEiLdoEg8tKJTiRBELCJhHlwqgiWk8UIfEI/Eg2tq\n",
       "hSBpwvAgVEQ9IHHdRoWQLtG07uWc88/OjrXUy3KS+a/nnPnOdQb4/5QqpPIxfXJco6eNF7cKg0CL\n",
       "qakt36V5oXqRUatHgRO83VsYCCXKxSXv8l0ecRCY5yABbKSdsbQwEFrUdLs3z92rpzScsdGqkOpN\n",
       "hYEwTEbjwAd3TxZrte56B3toBNAORI5t2rS1MAgCCZnC4fdqH07SsFKt9U88bgCCZH5PPP6wMBD0\n",
       "wzKNK/2q9pN5aFDr7QLvORAit8zIIGuU8WC3NSuqQFcvfGOzMV522Vn1peusuuU5AorOW80XXX5H\n",
       "Mr9C+6IKo/8Tomcq9Zc4GUWEZSRMQRRR7or0Q7ifSDwGlvEimFF+p8L3pqvA2Z8FFE1zEHS3RcIf\n",
       "gNEt20uqPkbL6bOMOQFiLkNYEL1Q7tJjCEj6jCfTDvohmB5ypjrisH8SUBq7yDC3wMrlZZUzZ/bw\n",
       "3O6eGgN4/J7pixpVbNgpE3jN9+S0LAmdW4k5lIapfgihTgqbGYMmIX4ELPYLdABT+EV0qSX9EGgY\n",
       "LBZUq9MGuR0uQYgqCGaiUvyejAvH2yhusHUh7idpP4SpQbKDu9lsVtiFSKNfYD5QTNMZvnObfhHX\n",
       "eik9d1XUnwg9kE0N8+huILByOp8Vu0aNbzm/Vozz2lUGQoyNPRKPx3fQqwJfWmalfAKhgfH4qkHA\n",
       "fV+sghy4zfTsU/v9PHSqJKhiXzRzKnEiHpAWfhNX5O44ZRrrLj+cAyHSFH6HiWyYOTeFUAKRYVkB\n",
       "bTUvOy7jsw8C15uk+joFVjrgdFcb9YVRtsuEIgZk3rMU4wpyLbMWEQQz6YPQadX3ol54DlUgWAtT\n",
       "uosS0MVzpTvBGfQmk5ptMJZ9tHH9+26Vzwnft6BylyU9uYQTJiJhsVEl1f1J1QJ04g2lfBAWQOuC\n",
       "scKyrHpCVt4kye8JbKRzaw1Q7/pXaFBOr4pm88Sjdm81lrQ6RiOMXhhUGg22OQQ46gtEgAJLZftq\n",
       "Wzp9mrtbCltrkRUwG9Pp18TS3oSQ16ha/6KFnsosOnpg1DzWvuJ4tzWHHFTl4EX1yVQWglmzFOu/\n",
       "OfyZobpEaJ9Vt4fKyBPABKlLmHULm3M/1n8i1RZ9FPFWvi4UzHGmaecT0ICXufqNWJ8Qiu2cg0me\n",
       "Qvt3EH4jkJ+29AnhXO6B86t1f4bg/Jsf3OIC6/8BzSwFlb8y3R4AAAAASUVORK5CYII=\n",
       "\" style=\"display:inline;vertical-align:middle;\" /></a><br>"
      ],
      "text/plain": [
       "iffTransitivity: forall_{A, B, C | A <=> B , B <=> C} (A <=> C)"
      ]
     },
     "execution_count": 35,
     "metadata": {},
     "output_type": "execute_result"
    }
   ],
   "source": [
    "iffTransitivity = Forall((A, B, C), Iff(A, C), conditions=[Iff(A, B), Iff(B, C)])"
   ]
  },
  {
   "cell_type": "code",
   "execution_count": 36,
   "metadata": {},
   "outputs": [
    {
     "data": {
      "text/html": [
       "<strong id=\"fromContraposition\"><a class=\"ProveItLink\" href=\"_proofs_/fromContraposition.ipynb\">fromContraposition</a>:</strong> <a class=\"ProveItLink\" href=\"__pv_it/78c93fb60140b5e457f2a03028e627593208d1b10/expr.ipynb\"><img src=\"data:image/png;base64,iVBORw0KGgoAAAANSUhEUgAAARkAAAAXBAMAAADNQybgAAAAMFBMVEX///8QEBC6urrMzMxUVFRm\n",
       "ZmZERETc3NwyMjKqqqp2dnaIiIiYmJgiIiLu7u4AAAAU9Wx4AAAAAXRSTlMAQObYZgAAA8VJREFU\n",
       "SMfNVktoE1EUPcl0mubTsbgQXKhFRASVRhAVRBo0qOCiXXQQxE9VTAXFZiHWD9ooaLCIzULdKBgE\n",
       "tVKQiO66aBQFPwtdWBd+MIpKwS/a2vpBve/dmbyXpLUujPhg5r155965Z+7vDfBfjdy/MePNjCly\n",
       "ja57YnGn7Gzm8rRoJOz6z2h0cy3MMHBBPB8tOxvHQueI4ATA/AgkgB305GsuN5kgByr0NDdCjhjf\n",
       "6BoAbgNVtGmmys3Gw6Z3rYuXuIuoDhHPr8Azms63te0te6Bm8JTprVV709xFZQ1QPZlmcsrnWOzh\n",
       "b97jC+tP/lEh/2/ZrOLCyp3Oqr2AW2bjIvAdIucFGoElQIvcTMr7iUF7qbTiZdHdrrVWu2kjjLRm\n",
       "YrdaJl2ExUrGEXl/jnrJwHwix6AD1q/oWSNY+hPCYVZCZthHTrQaBGuk/1g0n+BXgUvAGc2Eyn2h\n",
       "e0YXk5sdHQddV4yX91q0N+ruPMBzbxzWffH9ImIISp2X3yVkRuAdUmz8+a7VBNTF0a+9TDU0oduv\n",
       "i+G1vRqZ9OupjoD8UiMabSio3n4muV4wIg7GB8robLVM+It9EqrOwLyn2FTmi+ARsAaokFH0pwog\n",
       "qcuIIxbcsO8dsQm80dlQ7D0JjYzRwZVGxY27aWZjJWSfNDIxCb0P42ZcsfG4qtYnhJL5xtGiQ6zL\n",
       "iCN2Q1ZQeuZaR2KiuNEnVNdoefOAyRgiKA0pjhRaFou9CvFJNOp6rmyDYrMgf9B861lK2t6IGaOx\n",
       "P6xBrOuNaGLSBRl7kps3W0UJksGqD1qkI6rd+IZFogmt4zIwt9ArsS5KxJxiQ03hHFlPIJBAiHqC\n",
       "4bjaDiuIdRlhMS6wTNpc6Fg+C06syh+KzU6t3cwRrVBUODzCxVaf3SpJbKJgpRSbY275VDbC+qLY\n",
       "zFupINZlhMWMB7HYFpE3AcfibDqCpiQRah1WRcV9BWbrQHS57ABVojWGBAszjnqZhmSxLqzYTHdN\n",
       "jkvB+4ki0Ry0aTQ1ahDremW5sJgVYd/k2XjipT0oXLzxLL+aRS/K+pLw/YCvT8ubt67J9hz2EoVQ\n",
       "2npHo1uHpC4h2Bl3xZY5kdrjNqT0Hxwf3e7ixWf4Gh5TdncN2stTGhuufoQDnXbTYeFDedAYEQ1i\n",
       "XYHUZ12xV7Wy+8WyJUfk6MNKFG2EtDWzCRYd71V8QuVKIYGoU+gc5Y0+to/NpqI4mvNL2FhFvz4n\n",
       "tW9pLkaM+OiH79h/opeLN7IlbHCqUCKirU8VI6Hy/ZJUOMErSP2A/lNfAAX+xu/+L8/qEhBQYpUZ\n",
       "AAAAAElFTkSuQmCC\n",
       "\" style=\"display:inline;vertical-align:middle;\" /></a><br>"
      ],
      "text/plain": [
       "fromContraposition: forall_{A, B | [not](B) => [not](A) , B in BOOLEANS} (A => B)"
      ]
     },
     "execution_count": 36,
     "metadata": {},
     "output_type": "execute_result"
    }
   ],
   "source": [
    "fromContraposition = Forall((A, B), Implies(A, B), conditions=[Implies(Not(B), Not(A)), inBool(B)])"
   ]
  },
  {
   "cell_type": "code",
   "execution_count": 37,
   "metadata": {},
   "outputs": [
    {
     "data": {
      "text/html": [
       "<strong id=\"toContraposition\"><a class=\"ProveItLink\" href=\"_proofs_/toContraposition.ipynb\">toContraposition</a>:</strong> <a class=\"ProveItLink\" href=\"__pv_it/fe5e04028e81806677b0ed1b293d391513f901ce0/expr.ipynb\"><img src=\"data:image/png;base64,iVBORw0KGgoAAAANSUhEUgAAASQAAAAXBAMAAABQTi9oAAAAMFBMVEX///8QEBC6urrMzMxUVFRm\n",
       "ZmZERETc3NwyMjKqqqp2dnaIiIiYmJgiIiLu7u4AAAAU9Wx4AAAAAXRSTlMAQObYZgAAA95JREFU\n",
       "SMfNV01oE0EUfk2abM1u16IH9aBG8SCoNAdBoUiCxuqtAbsVRG1VXBXF5iBaKf2xIFURzUFFT+bi\n",
       "H4JE0FMPjQfBn4P1UA9aaRAVUVulrf+1+mbezO5s3KqHgD74srsz38x8896btxuA/88KpZ1ukYDH\n",
       "jKgfNZDzoTH0sYf7pVIUTBDkInVjydougHV+3KWepxVANMQV9nyiVJIqCgRpZU0AjVGo8ON6Fz3J\n",
       "RhP240VrKpWkHgFpcQxOPAFG1mkx5Y3uiZsxiBthNATbUyhTKklzBKT1pgEeZMGs8viRHOjJ4oON\n",
       "yGQ0hHHpwIG2UikKdBIc24J4iGvvciky0xZ6RuZ62RHYRfho249LJSmUJTg2BtCyF68X3Kar4rrB\n",
       "s5fC+bygIVYB7ODN3fz3zAerNsZZjqvT7tApzVb9NnHf7ZPdeYJzAMd6bg6wm7PsZ9NTZoMp6juu\n",
       "DnzGs47TEAvA5K42RijPqkDnkQ9L+gO1qtwCuC4SckRcjx07LFWURQl8cfS9/glgiEVqnjLFWZpv\n",
       "GjqUa2RejUJHStAQlaDzGV+Mk+8TEPikSjIblW1DPUA1eY3z31gbIZd9M1/0To0SZN0J4+Z0xosr\n",
       "U5iHOGNELWXJZF2ToCH0fCXP/Wv9nFGZg1CfKikyRJ4+x3+foAuonfH1re3DKCnydhJJU3E542uR\n",
       "pOXXoFgSJklZpyvJ7ORlNJizOeNdDO6kVUk1YapaYdZqjoJBOcT5t/lhyS7aLAOXIUhJcXRw+RcZ\n",
       "OMqlp3upe5YiCYdUVrmBgx0rWU+52H11zw0aIyUl0GkNtm3vnM5y/ltPLdUTzudJmLNmy9CG8wQp\n",
       "iZWlDka64zrplLjucSVpKKnivaAxnOZxugu9nHEZU7igSDIy+ntxwvH1E+kEg0oh4wez5KVQjQxy\n",
       "ikBr8bIUnFnwFAFNli2nKQav2HITbhGAMnb8zH6rmSvZjrHLKJKGrIYJscT2NIRTYH4ByQ8+su3d\n",
       "LJcisrz0EYQ1/Egmj3CndTltYVlSljhN++d2g9H8OUU0BoNJCaUhzssRLlgdUySth+Ao3LTQVrP8\n",
       "zUBgFCTfTJCXHEkwQ6DIlBdK0Hkjp31pLnUxLpfXukGbAK1fyaUAbnIchtFeM2d2FKAtBS1p4sMa\n",
       "EbhWOc09gSKL5H5tM7K+NIf6/CNodQPBcbj8wVqbcSWZWC72fc/Lz5vISav+KDtIxIeXUV4q7fxk\n",
       "HyfCXv3540TSiqmGch8u6mtX7h0JFzGXVNMShCJb4ydpny+tmLrsN5LUb8f0pF2tAh7TY35ULedD\n",
       "+4Wa/ztJxj/6n1D+r/6g/ATIDRibrTUYJgAAAABJRU5ErkJggg==\n",
       "\" style=\"display:inline;vertical-align:middle;\" /></a><br>"
      ],
      "text/plain": [
       "toContraposition: forall_{A, B | A => B , A in BOOLEANS} ([not](B) => [not](A))"
      ]
     },
     "execution_count": 37,
     "metadata": {},
     "output_type": "execute_result"
    }
   ],
   "source": [
    "toContraposition = Forall((A, B), Implies(Not(B), Not(A)), conditions=[Implies(A, B), inBool(A)])"
   ]
  },
  {
   "cell_type": "code",
   "execution_count": 38,
   "metadata": {},
   "outputs": [
    {
     "data": {
      "text/html": [
       "<strong id=\"contraposeNegAntecedent\"><a class=\"ProveItLink\" href=\"_proofs_/contraposeNegAntecedent.ipynb\">contraposeNegAntecedent</a>:</strong> <a class=\"ProveItLink\" href=\"__pv_it/0fd340ac2e500e75525da4562d0bbd4dea552e250/expr.ipynb\"><img src=\"data:image/png;base64,iVBORw0KGgoAAAANSUhEUgAAAR4AAAAXBAMAAAAvnz2ZAAAAMFBMVEX///8QEBC6urrMzMxUVFRm\n",
       "ZmZERETc3NwyMjKqqqp2dnaIiIiYmJgiIiLu7u4AAAAU9Wx4AAAAAXRSTlMAQObYZgAAA5tJREFU\n",
       "SMfNVk1oE0EUfskm2Ta72famFzVK8VKhORQtiCRoaL01oNGLtVEwRYQ2p7ZatGlBIj1oDlUKCgbB\n",
       "WhHKHvTUQ+NBqHqwHupBWhpERahVkf6olOrMvJnd2YQteIj44CWb+b6Z+fLem7cD8J9ZqXpLN3J3\n",
       "mB52n0CxWfrwshpylBi62Kx9Jd46DHDMhX4IGPaQPl+vhp6aErowTwqgMww1LvQbdApAL/lSU9XQ\n",
       "M8VdWNQkHgO9YI0Ycq4WiXSC0X/gz1dDz07uwqYzAK8KYNQ7IijsYieBCaY/6Ou7XA053iy6ZWeI\n",
       "vyYKztsUu7rAnKaFTrC1dPrtFsuqEelH7V/o8RfQLVsB6O8m3/ftoUe2tNLdImJHALrYUI593lpN\n",
       "tjIJXiResmfnQJHXt5jWXGc5F9Gt47Yy9WSePozRj44FaosJgb5j5UWxBjBYVPXvWFf1oLEMB5Bo\n",
       "lzol3JMrUDCtuaCPjFwVEjxhdLYzyYC2DrBME7RbWmNMdKMwDCYQC4HGlviwgWGOgXfd1lNrWnMp\n",
       "4ZOcEMHkc5eSp8AsLO3hcF0YnVkzWY9o1ygvKq1hDCFDicfbU4hpxRAr88k5hoRM8M/aegIZay4l\n",
       "+FiCavMOJkLa2StfiJ7gZxc9dSQ2+q8yPS2TvHxILLOIGdlmptBMM+RrBGYyth6PnX9K0DBcXQ4m\n",
       "Qs/YKSk0nhb5yqMLPVGSBd9PkS+sn4VujhNeqJ5jXYfpiA86GNI09RhJqKfF0sMI3pg/TWwoIjMR\n",
       "YkVoJneI+gkU0YUe2n4GKWnGDs+oOMRET803jt1kQX8O0wyaAHhasvU0AIwTAVlOUHhDSUYkJoPw\n",
       "6JkF/0G+RzCBjhFk7UfZXnKcd1W0J1qWgU2OeWgOjLlkD1v8HElE3tYzKk4ZEoSe/SclJoOUN+n0\n",
       "BVo/QdFRZtG5nfgdj19j4Rq2xkRx9u7Kgd7zI4GYTnX4MxBltUoy3BSx9ewVepDgTWlJYscTMpNB\n",
       "RgzjY+mBbdzLTHpfKO7YPnIAimoO1E1Q56T6WRZ6GIG88IwvxGhf5cz+DIfaeL4GxJIvuJdZ0HTv\n",
       "6Rb2fg3U9nllAyZWk0fzkh7sBRBBAvjD4mYjmNEihz6GWT9MF93uG1KtuFk5pkvPqEdzvvrx8qLK\n",
       "u1j7j5P6cbz5Yuhl1raFnnLsQIUew3k1ul15C8y4rj7A3WFaxF1OBVas0AN3HITKv6v/q4u+j+8n\n",
       "aw6Wqr3rHxrmFDggDtnQAAAAAElFTkSuQmCC\n",
       "\" style=\"display:inline;vertical-align:middle;\" /></a><br>"
      ],
      "text/plain": [
       "contraposeNegAntecedent: forall_{A, B | [not](A) => B , A in BOOLEANS} ([not](B) => A)"
      ]
     },
     "execution_count": 38,
     "metadata": {},
     "output_type": "execute_result"
    }
   ],
   "source": [
    "contraposeNegAntecedent = Forall((A, B), Implies(Not(B), A), conditions=[Implies(Not(A), B), inBool(A)])"
   ]
  },
  {
   "cell_type": "code",
   "execution_count": 39,
   "metadata": {},
   "outputs": [
    {
     "data": {
      "text/html": [
       "<strong id=\"contraposeNegConsequent\"><a class=\"ProveItLink\" href=\"_proofs_/contraposeNegConsequent.ipynb\">contraposeNegConsequent</a>:</strong> <a class=\"ProveItLink\" href=\"__pv_it/6078702a7da903abb1b8c4d5e1e467e6a43b28050/expr.ipynb\"><img src=\"data:image/png;base64,iVBORw0KGgoAAAANSUhEUgAAAR4AAAAXBAMAAAAvnz2ZAAAAMFBMVEX///8QEBC6urrMzMxUVFRm\n",
       "ZmZERETc3NwyMjKqqqp2dnaIiIiYmJgiIiLu7u4AAAAU9Wx4AAAAAXRSTlMAQObYZgAAA9ZJREFU\n",
       "SMfNVk1oE1EQnmSbbJvdboMe1INapYhQpTkIiiIJNv7cKkoqiLVV6FZR2oDSVsQ2ClIpoj2oVDyY\n",
       "S/1BKDnoQXroigj+HKyHepDWFlERa1Vqf1Ri9c372X3bxOjBgAPzdt+8mTffm5k3uwD/GY3mb+vy\n",
       "HGve1ByBXsp4ACdP8gFHiRAPVZPRLaeyLK5xzTYS3sn4Js7P5QNPIYbeUwdQW5q56PZ4HtUZN5OH\n",
       "WpcPPH04hElewhEhMsSL5kqXPkKg60nKeApfVz7wLMGhPw7wNOkKGZLHVbbHaomWEaSsX29pOZEP\n",
       "ON4EjvsIP7Ode0WkVrpUU/2Y0YOMp03zxd97OeKa5Yqrj0ZlEqC10RHe4s/dLuSjVy3y6GFcCdBA\n",
       "xR10vDQV2xKiWnaQ446pKkLP1NYLeUeWckYfymTfnSE6rRlGGtnOFs/Kmq9olUE34zIwaGT1CVZb\n",
       "QdCC+OIX6k+l62ELmVqAL3Fb0Ds7T1uiRHBNmwEYj0i+u5nFPBI/ChDPVwrtCHMZ42LQ6BZv0izM\n",
       "EfDOyK6NWsvZ7oqdDarGTsJtx2J7IJUcW841StCznxxNS0t4jJMU0ITUo5RotAoveJixZhXTeusd\n",
       "pBrFKfANyHgC4yzGl3FoEPtytUo2Q1ttf9tHgifwQcZTgj3xu4RnXS/MxUMKw5Nw8BgJ2iuVlEk1\n",
       "PoXgYVzGs8HPupMfpUGxL1frA9v2Ab0pyfK9Il9Y7GES24JvTv0M89peJOEhesVBJ1/QsAlXCqCG\n",
       "alT03W50lUqExKHaNM0D84l5QuDhamVg29KlVGyxyK7f4u2nPeGE5wJ/HnbwqARP4Wfy/pDzRZqe\n",
       "R9BPNW4A3BuV8Ohd2mdeMjuxfwQQmq22DoStkmTx8W0Qed7O2o+y0Ol9qoDWIyQheIe+Zp37Dh68\n",
       "bMZgrIna1ZNcdEl4xmPVs/ws9fGiiAgdV6N4qK3y3DQPYf0ERFchx6z+GY2eka6DX7SO1baoeWkH\n",
       "6E1fCXj87CLriMMXhzBtOyTZFSEJzy5QvsCdGKHNxEedwMPVVoCwNSIsPjYeWJDlky9ePPGMNf69\n",
       "4LSK3AVL7QB1FtRBqX685HRp+EjoPQmjMcCXhNpjaI0zW9jK83VcbPk4R/PWkxmiQIoxpdfToFYN\n",
       "KWm4MRXb1uXgMUhnOPrDsv9YXvJjCrUd5AYxW3hbSvuhaWV8PLNR5h/OO84u2JClFXNqw+HuHCGp\n",
       "T9v/NVI/MqmRHHiOZki2cpZpbQ48lN66p0UpUOK/9Xk8Bx517v+qFmLsIutPeIos17TAHdK8UkFW\n",
       "6X3XrPefe/0F5HYUzl+ODtEAAAAASUVORK5CYII=\n",
       "\" style=\"display:inline;vertical-align:middle;\" /></a><br>"
      ],
      "text/plain": [
       "contraposeNegConsequent: forall_{A, B | A => [not](B) , A in BOOLEANS} (B => [not](A))"
      ]
     },
     "execution_count": 39,
     "metadata": {},
     "output_type": "execute_result"
    }
   ],
   "source": [
    "contraposeNegConsequent = Forall((A, B), Implies(B, Not(A)), conditions=[Implies(A, Not(B)), inBool(A)])"
   ]
  },
  {
   "cell_type": "code",
   "execution_count": 40,
   "metadata": {},
   "outputs": [
    {
     "data": {
      "text/html": [
       "<strong id=\"doubleNegateConsequent\"><a class=\"ProveItLink\" href=\"_proofs_/doubleNegateConsequent.ipynb\">doubleNegateConsequent</a>:</strong> <a class=\"ProveItLink\" href=\"__pv_it/5767d1c0ef1182a54aeee5a2e750e25bc67669310/expr.ipynb\"><img src=\"data:image/png;base64,iVBORw0KGgoAAAANSUhEUgAAASUAAAAXBAMAAAC/jERWAAAAMFBMVEX///8QEBC6urrMzMxUVFRm\n",
       "ZmZERETc3NwyMjKqqqp2dnaIiIiYmJgiIiLu7u4AAAAU9Wx4AAAAAXRSTlMAQObYZgAAA5tJREFU\n",
       "SMfNV01oE0EU/pLtJm2yWYOC4EEt4kFQaQTBg0iDxh/w0ILdCuK/dCsoJofiD6INghaL2FwUPJmL\n",
       "WhEkop56aBQFfw56sD34g6uoiNoq9ldbqzOzm8zLpg09BOqDt/O679uZb9578zIF/kOxyjudNzMt\n",
       "XzHsPtHn/MXTsnFaaQ9rSvhc5oO/sdj+aqgR5PU6f3++bJycmTpK+NwLzmVEfgJJ5PUwG/y7y0Up\n",
       "aOdEe2sVV0cw44YJUcaYDgJPkNdK9omaKhcnj03g2K5EcUw8lhtm8xthe/gNvENetWtHjpwoW+qW\n",
       "2EOmu1q+W1zoc5nwhYHQAjampA6b5suycdpmnyrrcla+C2Soz21iVhT+MyxugXqp64Bm4WwTz4tD\n",
       "xoaIsHJbrSR5qIobDftcOCrnxPM9agUP9Y2QIepzm6jd3LWD76AqKXUx9KSoy592eYYRDAsrV/jP\n",
       "SB5wD7jlwmnt7adzYZnt7Ka1nnxTdSrns0mmqYnuBPQXPLhhqSEExYwfx8WXahTeEcpJ30XygAag\n",
       "JkFwX43tyKS/LnLcYl9KLFZXcJI/z877uDtKTexhYzdbQvkhNZgNiVNws0fAQhmozymnQJ+950vi\n",
       "+QrYQXDBvSf7GafAN8rJyw5WklBS2q0SnAZ5KtKFnPSkaKpKxhSw7xE8SlBOq3224eNv9QFobQT3\n",
       "UJyy9NKdziLz+IMdnFCY1FOvJX02EWIqPD11qcLcoXktd1c4+6/punMIlFOUhaPRNM39c3gIxro2\n",
       "WAQnwpEx5ufSe5B3YLZA5Q9STlHpc4gQk7cn/ygvy6RUXBCpeoxuAetkdWwRTloq6MyvbmGJTEJb\n",
       "IHFK2o6TutpZ5AqvHh7UCcnpKPEJiVCTt6cVvK3SXgAPP7d6jxEXVJpYWlKEU5/R6MyvNCXgq4f+\n",
       "C3mc0muaB3g9BZw1lrMfq4Vt0OKj8uA1Sx+KTDU+GNskWkNltVRonIuaQK1oN2zFmgjhtBXKAO4a\n",
       "TNbzBpeCdwB5nB6145Tn5EkU99FIsW8yGPltcWQZWy/rb4N/Av4eUk9eVinj6GfyhYez1cKJekjc\n",
       "Rid3x51ptPTUPZ74JoPdICrkwzD8da/ZGegcMjalJCedNZqWP9nclSfQYTScBSTuU7XomWZ2skvI\n",
       "NO8qThtMSi3cCv3DdYE5OSnuKqsnKi0lOLWUglUkpBbIqhKcpsQViL/E3Zf4imG3iRZIdpqcsjP1\n",
       "30N0phb+B8aXLJccXCjCAAAAAElFTkSuQmCC\n",
       "\" style=\"display:inline;vertical-align:middle;\" /></a><br>"
      ],
      "text/plain": [
       "doubleNegateConsequent: forall_{A, B | A => B , B in BOOLEANS} (A => [not]([not](B)))"
      ]
     },
     "execution_count": 40,
     "metadata": {},
     "output_type": "execute_result"
    }
   ],
   "source": [
    "doubleNegateConsequent = Forall((A, B), Implies(A, Not(Not(B))), conditions=[Implies(A, B), inBool(B)])"
   ]
  },
  {
   "cell_type": "code",
   "execution_count": null,
   "metadata": {},
   "outputs": [],
   "source": []
  },
  {
   "cell_type": "code",
   "execution_count": 41,
   "metadata": {},
   "outputs": [
    {
     "data": {
      "text/html": [
       "<strong id=\"eqFromIff\"><a class=\"ProveItLink\" href=\"_proofs_/eqFromIff.ipynb\">eqFromIff</a>:</strong> <a class=\"ProveItLink\" href=\"__pv_it/bc3078bb4119ca4e5b08127967cce4c7bbc9215e0/expr.ipynb\"><img src=\"data:image/png;base64,iVBORw0KGgoAAAANSUhEUgAAANEAAAAXBAMAAABnpbd1AAAAMFBMVEX///8QEBC6urrMzMxUVFRm\n",
       "ZmZERETc3NwyMjKqqqp2dnaIiIiYmJgiIiLu7u4AAAAU9Wx4AAAAAXRSTlMAQObYZgAAAtxJREFU\n",
       "SMe9VU1oE1EQ/prNdpPsNu3J9qIE8VaxOVQEPTRoqN4qSMSD1VZwqxRsTq1S1FAsKT1oL/Wck1YE\n",
       "WVBPBRsFRStiPLQHqZBCq2A1irT1r7TOm7dJNtlKwBQH3nvz3nyZb2feTB7w3yS7JV6aK9if0MgI\n",
       "5WWVREpELhmXxehYjrYPQQ0Dd8T+epVMPpkZ31e3qaYLOB1CAuinndZVJdOkXF6tu01tFo0IpuXn\n",
       "qGNVMu3gWRv/7jZNxYHXKcxTIm8PDFyuksiT4EXXv7lt3TTeZFFLwaya5tsqmdQUL3v8a27bMnDx\n",
       "AhA4ChwCevgsyfPNlVh7uAwdyitJx6ED6EuLORhSfvP2xIiQa7IclycfztHqp7B3IcjBGzJ0owF6\n",
       "g9RGR4fZBfIFYzizUwSihj/FA23FFZJOV/eZesBD0Dro7G9Rhq5G4CHrUuwkrNTSzhKmRWd2bKCQ\n",
       "emZqjUZXXUy1xKDTzxRqAD1dx91wb4ZNdRbUDPQzV3LEFPhUwsSQBWB/EehgoqnJxVRP8Ri/JFMw\n",
       "0coJtUw2fQnjeRxPhWqlmk85mSTkGOCNF4Aye6JL/KLIeNv5TsisbCfKl/enzB56DoojLzrZ1DL5\n",
       "gEqFb86KbS+5J4YEtpnmucYCUKZIwC7RuLFpO10lb4bwOM45eIEpNk0Aj7NKSsakHnAyCYhyXmgL\n",
       "j2ygNIgS5rLqy27STkpTVkJQY4kSnYlJ2FnKy5gya5q94p4CDiaGqByHf8gG2p2bgdb9I45nG8Nl\n",
       "RMc3otEREbFPXKUhGNQ42rg7KKct4WBExlTCJCH9MZLePNB22FixuecL2m4qk7SWhLYOjSrssJ29\n",
       "QQcTQxBM5nIf6SttoJTpikx388rCKrSOOWUNEyuxI5ST9yHuXNNRERIC7OVCzwNLXo2/i/xzcPZ9\n",
       "Qbtl9haPSx4VBfhQ7kiLVGDyxssO9m2Oq/x8DVaw3y8/SP8r01ZJZCuc/AGUONqjiDWMHAAAAABJ\n",
       "RU5ErkJggg==\n",
       "\" style=\"display:inline;vertical-align:middle;\" /></a><br>"
      ],
      "text/plain": [
       "eqFromIff: forall_{A, B in BOOLEANS | A <=> B} (A = B)"
      ]
     },
     "execution_count": 41,
     "metadata": {},
     "output_type": "execute_result"
    }
   ],
   "source": [
    "eqFromIff = Forall((A, B), Equals(A, B), conditions=[Iff(A, B)], domain=Booleans)"
   ]
  },
  {
   "cell_type": "code",
   "execution_count": 42,
   "metadata": {},
   "outputs": [
    {
     "data": {
      "text/html": [
       "<strong id=\"eqFromMutualImpl\"><a class=\"ProveItLink\" href=\"_proofs_/eqFromMutualImpl.ipynb\">eqFromMutualImpl</a>:</strong> <a class=\"ProveItLink\" href=\"__pv_it/f01524706e71547466e740299036893012695f4e0/expr.ipynb\"><img src=\"data:image/png;base64,iVBORw0KGgoAAAANSUhEUgAAAQEAAAAXBAMAAAD5Ouf8AAAAMFBMVEX///8QEBC6urrMzMxUVFRm\n",
       "ZmZERETc3NwyMjKqqqp2dnaIiIiYmJgiIiLu7u4AAAAU9Wx4AAAAAXRSTlMAQObYZgAAAxxJREFU\n",
       "SMfFVk9IFFEY/7nrOK67rkJQXYoluhm1geShg0ttJXRQqK1LRgauQpB7SkISO5ghYXsx6LanMoRY\n",
       "qE4e3KKijGiD7BAFK2SHFAtRsz9o3/vezOybmc2lw9QHM/Pt+37fe7/9ve97M8B/t4KnszeUiT+i\n",
       "Ky+cFx4R8MfkI++KPF6Px7sj0KLAHfF7xCMG1VLh6q/u0GZAWwQGgAv0Sz/jEYMJ+Xi55lbnJ11L\n",
       "wJSkqaU9YrCd7/roN1ckSEOhH8AMPW739l7yiIBvQK4WXHSFquqBWiJYRX9+JZl85xEDLcOP3YFf\n",
       "rlBdDPoVkr+mDTgIdPHgEN9vLCcORx3wiOkMKYMW0J1hwqpz4h6OiE0nPlfZZHs0H51oF9EAybQT\n",
       "YRYrJKUK1SNYL73h4UGeAmahhlQ1LWAxwwmrYOo+6MsuDSZTCL8RQbEbCPI6s1IqLQYfVclc4hSy\n",
       "mbkdNgazqpoGUHHghNUxg8Z4fMXFoEOwoHX91KjBXC137d1pDtVmoeURPNu/QAxq5m0MDEggXQSq\n",
       "Dm7aYCYDum11MaBGxKuMZBAeaOQGzSY59CWKZyk8EW4203BaZWBCZN1IoOqgKmWDoUJQDdD1mrX6\n",
       "wMaT+YVMrWm5C+g6IMYq0c5Zeybun+ejihgkttnqQEC0JNnlqAW0nBM03r1JnYkYifSLdF0vdRzo\n",
       "q6JmxEqjLOFzTHJsDHhY8GekBtp+lYEJARJRA2hlGLVxzAYTrcZl3lMocRzsHTEgqMiKlplOSFgn\n",
       "yZr2v00mz4k6qFEYWBBg30kDaGUY+9SZUmG+PPSO1RSerg86DoqepXjLNW5YUSohgddSaOam/k6y\n",
       "RsMxqYGNAUOCCbLjbSbQysADETikzkS2peyhNWN5u6hyc/oQ9DXoVMpHjF3oUxgwJLxANi4OewYW\n",
       "M8T456wJM2adKstg3HQ+rkBvfU8VOracaCFJP0X4REoqlSgh1ltfAosZ3Pk2WPHt/GeTh6F6mlne\n",
       "LaoDyxwvb71QKoOs37mAHivDoDLlGGgqjdvg86Fp4xX6yjC45xzI/TWD3L/5mo15Oflv/6gIdNz5\n",
       "6NQAAAAASUVORK5CYII=\n",
       "\" style=\"display:inline;vertical-align:middle;\" /></a><br>"
      ],
      "text/plain": [
       "eqFromMutualImpl: forall_{A, B in BOOLEANS | A => B , B => A} (A = B)"
      ]
     },
     "execution_count": 42,
     "metadata": {},
     "output_type": "execute_result"
    }
   ],
   "source": [
    "eqFromMutualImpl = Forall((A, B), Equals(A, B), conditions=[Implies(A, B), Implies(B, A)], domain=Booleans)"
   ]
  },
  {
   "cell_type": "code",
   "execution_count": 43,
   "metadata": {},
   "outputs": [
    {
     "data": {
      "text/html": [
       "<strong id=\"implicationClosure\"><a class=\"ProveItLink\" href=\"_proofs_/implicationClosure.ipynb\">implicationClosure</a>:</strong> <a class=\"ProveItLink\" href=\"__pv_it/4e17fe59341997321c94d3de8826e06ad5569cf50/expr.ipynb\"><img src=\"data:image/png;base64,iVBORw0KGgoAAAANSUhEUgAAANEAAAAWBAMAAACs+WTQAAAAMFBMVEX///8QEBC6urrMzMxUVFRm\n",
       "ZmZERETc3NwyMjKqqqp2dnaIiIiYmJgiIiLu7u4AAAAU9Wx4AAAAAXRSTlMAQObYZgAAAzpJREFU\n",
       "SMe9Vk1oE0EU/pqfbpPdbosXC6KkIBRUbA4FRSgJGqpebKVEDyqmgqkFqTnZioihIBVB24MVj7mo\n",
       "EaEEtaL00NVDqRW1FfQgDaRQpQhVkSZWLa1vZnaTTbJ2veiDLzv7Zvd98755bzbAf7PMXz63Vcfa\n",
       "pvis/c8IU2zwwjaEMyjAhlNWFK2LoZY+oL3Y7R04tbSxC3D7gbvMcc2WqSojwIZfrR6oiADHfagq\n",
       "cVc6UvOfEkAcOEu3UsSWaVQH2csVK+0DKUIQSqKMSfYRzaRYqHvQlmmTDlrW0PeCuyDGWAx4nYBa\n",
       "y+/Ux+l0XGfyaAeAWRL4Tk/PBVsiR1yATJa/Ffyb86MOwjStuovf7XxlyqmBJKukZHLR6HtbJndC\n",
       "gGy7Z9m04yljtAj0dtP1Fs+726Re8zgtwNsG7AE6ubOf/97Ihlv85QWhCZAuPucvzp3mljVqc3F0\n",
       "ZIYNbvL4sQJTenUDXT1xJoDKZVGEKEotZKE1JpLJo0Zl+QRIQ0hZ0xI8feIq0+YtsC6oZ3cfiyri\n",
       "CannoJjVkPliPwhR3EE46C11JKzJXvW+3ok1PgGgKRTKmbOdXyciUiSZRQiwu3qWrlERiGyhnKk1\n",
       "ZK2a1+rwW/5KdQpuas1HDZ8zshfDWikT/dSZO/qKKPQaykf5aTA1mXNCpFIwqXHud6aifOqLHxMx\n",
       "KG1MEa9jRG+YikEBeFiJmfbpnf5AgJbk+mGot1DGxNRD527mcuEYn2ocfUiFw1tddh+cMV7QBHCO\n",
       "MGDapqCpnS4yvSZ4MK2IidRT2NwQP8eeY4xPJYGnGeziTF6061XMipSBF8+ZwsnQa2onZ13GqHL1\n",
       "jYlJORIRL6OCRVPfhkWAkyTgIJqj0WiKmBL64eKY4pA6lmIYX72UZ+rUr4dWQ6HLPBFRi73t+RM2\n",
       "N72ftQnbZIUxuGMI8DYirRv9mNNzMpiwXkeJlXWefhrh+lVRe4bN5kfbqHw0qR/SCiQqQldMMB02\n",
       "zoBJHXZWODSK7Z4xmMtBap1xLiOZDe+jGlNP8M69fdriq7GmzVu71Xjp96ywNton84wUFLCzvdZu\n",
       "V6zEsePPIc7rWNtkv7X/QalD+4d/WH4DPsTlkZ/P9zIAAAAASUVORK5CYII=\n",
       "\" style=\"display:inline;vertical-align:middle;\" /></a><br>"
      ],
      "text/plain": [
       "implicationClosure: forall_{A, B in BOOLEANS} ((A => B) in BOOLEANS)"
      ]
     },
     "execution_count": 43,
     "metadata": {},
     "output_type": "execute_result"
    }
   ],
   "source": [
    "implicationClosure = Forall((A, B), inBool(Implies(A, B)), domain=Booleans)"
   ]
  },
  {
   "cell_type": "code",
   "execution_count": 44,
   "metadata": {},
   "outputs": [
    {
     "data": {
      "text/html": [
       "<strong id=\"iffClosure\"><a class=\"ProveItLink\" href=\"_proofs_/iffClosure.ipynb\">iffClosure</a>:</strong> <a class=\"ProveItLink\" href=\"__pv_it/b74a8841c50c2c0e557e80b0a3c7cdfc466a9fc40/expr.ipynb\"><img src=\"data:image/png;base64,iVBORw0KGgoAAAANSUhEUgAAANEAAAAWBAMAAACs+WTQAAAAMFBMVEX///8QEBC6urrMzMxUVFRm\n",
       "ZmZERETc3NwyMjKqqqp2dnaIiIiYmJgiIiLu7u4AAAAU9Wx4AAAAAXRSTlMAQObYZgAAA1BJREFU\n",
       "SMe9VlFIFFEUve7sOO7OOBkECVGsEBgVuR9CEoiLbVY/acjWR0Vr0JoQNl9pRLQIYT+lHxp97k+1\n",
       "EchQGYYfTn2IFZUGEoRLK1hIYEXoZiXafe++cdd1cvqpC2fnzX1v7nn3zL1vFuC/Wfov1+0QWNu0\n",
       "gLP/KWKUDV64hpBCBDYcdaKonw3XdQA0rnT7u87Mb24BkIMAd5njuitTUZrAhl+dFhREAU4GoCjP\n",
       "Xegxpz8lAOIA5/FWiboyDQqgvVx0WlBjIkKgJVYxqQGkeU4blbtdmbYI4LZ6vwsfBpAa7AVDBsDr\n",
       "BOgl/E4fSKXigslnHQKYRIHvtLVdciXyxAloqvqNfCpmAc32iibEGO66hd9VvcrJqRwlK8RkMrHY\n",
       "O1cmOUFA2+VbIF8V+2m3V8ziuBWvt3jerTnqVQ/jBvyY/F57Y53898ZcpC64uiAsAuoSkH5RCa5P\n",
       "ob0XxSTNDvZPsMFNHt/IMqWWNuHVh4JsBZ3LopEoWgmopDWMJJPH7coKEFBDUOa4a4AqcRt1kIov\n",
       "b4Z1QRm7+7iiIh6jeh6MWQwq3+wHEkUOgQef0vsjlurX74tOXBcgAFSGwxl2nRT1qmygiBhJZRFq\n",
       "2F0ZS9euCIhux5yxNVSrmO+ub5w/UmyCjK35qPxzWvVDn5XPhD+lXMV9NNNu0gLMR/tpM1Xm5gTR\n",
       "QmLS49wvmTE+9SUIIwZorHpVv6dfHFYF3QTwsRLjLl+K21vRTrgl7w9bvZlVTEw9aK5lLi+c4FMV\n",
       "gw+xcHirq/LhCfsBiwAXEF3k6+ExjWw7XWZ6jfBg1gomVE9jc738HHsGQ3wqCfAkDXs4kx8aTXF+\n",
       "NRB48ZyjRHm/12bbSSpN21Wuv8lh0o5F6WEoYNH08QgFOI0CdkN1LBYzkSkhDhfPKIfSNG/A8NIV\n",
       "Ogfi2XPsyFI4fJUn0kFvr3H5hM2MHWRtwl6yxhhkA2p4G6HWFUGYEjnZTLBRINdwvZ7/0RGnEfRc\n",
       "o9qzbXJ5tBPLx1I6QVkEBYvQaxDTUaEeOyE53MxvOvvv2YOpDCj1E9ICJOciB1B//RTv3NtnHb4a\n",
       "a9q0s1uP53/PsnvD95Q7o4QIbrbf2e018hy7/xziosDapgad/Q/yHdY//MPyG0XU6STu3zC/AAAA\n",
       "AElFTkSuQmCC\n",
       "\" style=\"display:inline;vertical-align:middle;\" /></a><br>"
      ],
      "text/plain": [
       "iffClosure: forall_{A, B in BOOLEANS} ((A <=> B) in BOOLEANS)"
      ]
     },
     "execution_count": 44,
     "metadata": {},
     "output_type": "execute_result"
    }
   ],
   "source": [
    "iffClosure = Forall((A, B), inBool(Iff(A, B)), domain=Booleans)"
   ]
  },
  {
   "cell_type": "code",
   "execution_count": 45,
   "metadata": {},
   "outputs": [
    {
     "name": "stdout",
     "output_type": "stream",
     "text": [
      "Theorems may be imported from autogenerated _theorems_.py\n"
     ]
    }
   ],
   "source": [
    "%end theorems"
   ]
  },
  {
   "cell_type": "code",
   "execution_count": null,
   "metadata": {},
   "outputs": [],
   "source": []
  }
 ],
 "metadata": {
  "kernelspec": {
   "display_name": "Python 3",
   "language": "python",
   "name": "python3"
  }
 },
 "nbformat": 4,
 "nbformat_minor": 0
}
