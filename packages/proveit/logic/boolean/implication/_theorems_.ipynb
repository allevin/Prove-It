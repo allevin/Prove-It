{
 "cells": [
  {
   "cell_type": "markdown",
   "metadata": {
    "collapsed": true
   },
   "source": [
    "Theorems for context <a href=\"_context_.ipynb\" class=\"ProveItLink\">proveit.logic.boolean.implication</a>\n",
    "========"
   ]
  },
  {
   "cell_type": "code",
   "execution_count": 1,
   "metadata": {},
   "outputs": [
    {
     "name": "stdout",
     "output_type": "stream",
     "text": [
      "Defining theorems for context 'proveit.logic.boolean.implication'\n",
      "Subsequent end-of-cell assignments will define theorems\n",
      "'%end theorems' will finalize the definitions\n"
     ]
    }
   ],
   "source": [
    "from proveit.logic import Equals, Implies, TRUE, FALSE, Iff, Forall, And, Not, inBool, Booleans\n",
    "from proveit._common_ import A, B, C\n",
    "%begin theorems"
   ]
  },
  {
   "cell_type": "code",
   "execution_count": 2,
   "metadata": {},
   "outputs": [
    {
     "data": {
      "text/html": [
       "<strong id=\"selfImplication\"><a class=\"ProveItLink\" href=\"_proofs_/selfImplication.ipynb\">selfImplication</a>:</strong> <a class=\"ProveItLink\" href=\"__pv_it/9d5b541e10843d34becfa0c588d04fc1c7262adf0/expr.ipynb\"><img src=\"__pv_it/9d5b541e10843d34becfa0c588d04fc1c7262adf0/expr.png\" style=\"display:inline;vertical-align:middle;\" /></a><br>"
      ],
      "text/plain": [
       "selfImplication: forall_{A} (A => A)"
      ]
     },
     "execution_count": 2,
     "metadata": {},
     "output_type": "execute_result"
    }
   ],
   "source": [
    "selfImplication = Forall(A, Implies(A, A))"
   ]
  },
  {
   "cell_type": "code",
   "execution_count": 3,
   "metadata": {},
   "outputs": [
    {
     "data": {
      "text/html": [
       "<strong id=\"trueImpliesTrue\"><a class=\"ProveItLink\" href=\"_proofs_/trueImpliesTrue.ipynb\">trueImpliesTrue</a>:</strong> <a class=\"ProveItLink\" href=\"__pv_it/c3be479688afe7eefd8b7ba172a41f160264b4c40/expr.ipynb\"><img src=\"__pv_it/c3be479688afe7eefd8b7ba172a41f160264b4c40/expr.png\" style=\"display:inline;vertical-align:middle;\" /></a><br>"
      ],
      "text/plain": [
       "trueImpliesTrue: TRUE => TRUE"
      ]
     },
     "execution_count": 3,
     "metadata": {},
     "output_type": "execute_result"
    }
   ],
   "source": [
    "trueImpliesTrue = Implies(TRUE, TRUE)"
   ]
  },
  {
   "cell_type": "code",
   "execution_count": 4,
   "metadata": {},
   "outputs": [
    {
     "data": {
      "text/html": [
       "<strong id=\"falseImpliesFalse\"><a class=\"ProveItLink\" href=\"_proofs_/falseImpliesFalse.ipynb\">falseImpliesFalse</a>:</strong> <a class=\"ProveItLink\" href=\"__pv_it/a2c1fd2703ff7e9468d04b875f4fb8dd37d9755f0/expr.ipynb\"><img src=\"__pv_it/a2c1fd2703ff7e9468d04b875f4fb8dd37d9755f0/expr.png\" style=\"display:inline;vertical-align:middle;\" /></a><br>"
      ],
      "text/plain": [
       "falseImpliesFalse: FALSE => FALSE"
      ]
     },
     "execution_count": 4,
     "metadata": {},
     "output_type": "execute_result"
    }
   ],
   "source": [
    "falseImpliesFalse = Implies(FALSE, FALSE)"
   ]
  },
  {
   "cell_type": "code",
   "execution_count": 5,
   "metadata": {},
   "outputs": [
    {
     "data": {
      "text/html": [
       "<strong id=\"falseImpliesTrue\"><a class=\"ProveItLink\" href=\"_proofs_/falseImpliesTrue.ipynb\">falseImpliesTrue</a>:</strong> <a class=\"ProveItLink\" href=\"__pv_it/42d28cc4bf9b46bec192d8f16dc816ed1431464a0/expr.ipynb\"><img src=\"__pv_it/42d28cc4bf9b46bec192d8f16dc816ed1431464a0/expr.png\" style=\"display:inline;vertical-align:middle;\" /></a><br>"
      ],
      "text/plain": [
       "falseImpliesTrue: FALSE => TRUE"
      ]
     },
     "execution_count": 5,
     "metadata": {},
     "output_type": "execute_result"
    }
   ],
   "source": [
    "falseImpliesTrue = Implies(FALSE, TRUE)"
   ]
  },
  {
   "cell_type": "code",
   "execution_count": 6,
   "metadata": {},
   "outputs": [
    {
     "data": {
      "text/html": [
       "<strong id=\"falseAntecedentImplication\"><a class=\"ProveItLink\" href=\"_proofs_/falseAntecedentImplication.ipynb\">falseAntecedentImplication</a>:</strong> <a class=\"ProveItLink\" href=\"__pv_it/e437b35081782bf2ed2787967e9c068b053b29620/expr.ipynb\"><img src=\"__pv_it/e437b35081782bf2ed2787967e9c068b053b29620/expr.png\" style=\"display:inline;vertical-align:middle;\" /></a><br>"
      ],
      "text/plain": [
       "falseAntecedentImplication: forall_{A, B | [not](A)} (A => B)"
      ]
     },
     "execution_count": 6,
     "metadata": {},
     "output_type": "execute_result"
    }
   ],
   "source": [
    "falseAntecedentImplication = Forall((A, B), Implies(A, B), conditions=[Not(A)])"
   ]
  },
  {
   "cell_type": "code",
   "execution_count": 7,
   "metadata": {},
   "outputs": [
    {
     "data": {
      "text/html": [
       "<strong id=\"impliesTT\"><a class=\"ProveItLink\" href=\"_proofs_/impliesTT.ipynb\">impliesTT</a>:</strong> <a class=\"ProveItLink\" href=\"__pv_it/0cd85a6eeb9bd23f12d0171b472b6e45025458660/expr.ipynb\"><img src=\"__pv_it/0cd85a6eeb9bd23f12d0171b472b6e45025458660/expr.png\" style=\"display:inline;vertical-align:middle;\" /></a><br>"
      ],
      "text/plain": [
       "impliesTT: (TRUE => TRUE) = TRUE"
      ]
     },
     "execution_count": 7,
     "metadata": {},
     "output_type": "execute_result"
    }
   ],
   "source": [
    "impliesTT = Equals(Implies(TRUE, TRUE), TRUE)"
   ]
  },
  {
   "cell_type": "code",
   "execution_count": 8,
   "metadata": {},
   "outputs": [
    {
     "data": {
      "text/html": [
       "<strong id=\"impliesFF\"><a class=\"ProveItLink\" href=\"_proofs_/impliesFF.ipynb\">impliesFF</a>:</strong> <a class=\"ProveItLink\" href=\"__pv_it/a7e5ed95b388d6df0c557abd2aeb7942264606f90/expr.ipynb\"><img src=\"__pv_it/a7e5ed95b388d6df0c557abd2aeb7942264606f90/expr.png\" style=\"display:inline;vertical-align:middle;\" /></a><br>"
      ],
      "text/plain": [
       "impliesFF: (FALSE => FALSE) = TRUE"
      ]
     },
     "execution_count": 8,
     "metadata": {},
     "output_type": "execute_result"
    }
   ],
   "source": [
    "impliesFF = Equals(Implies(FALSE, FALSE), TRUE)"
   ]
  },
  {
   "cell_type": "code",
   "execution_count": 9,
   "metadata": {},
   "outputs": [
    {
     "data": {
      "text/html": [
       "<strong id=\"impliesFT\"><a class=\"ProveItLink\" href=\"_proofs_/impliesFT.ipynb\">impliesFT</a>:</strong> <a class=\"ProveItLink\" href=\"__pv_it/242a8e89c9da4ff530695ea7510d88a21e4a0bfd0/expr.ipynb\"><img src=\"__pv_it/242a8e89c9da4ff530695ea7510d88a21e4a0bfd0/expr.png\" style=\"display:inline;vertical-align:middle;\" /></a><br>"
      ],
      "text/plain": [
       "impliesFT: (FALSE => TRUE) = TRUE"
      ]
     },
     "execution_count": 9,
     "metadata": {},
     "output_type": "execute_result"
    }
   ],
   "source": [
    "impliesFT = Equals(Implies(FALSE, TRUE), TRUE)"
   ]
  },
  {
   "cell_type": "code",
   "execution_count": 10,
   "metadata": {},
   "outputs": [
    {
     "data": {
      "text/html": [
       "<strong id=\"impliesTF\"><a class=\"ProveItLink\" href=\"_proofs_/impliesTF.ipynb\">impliesTF</a>:</strong> <a class=\"ProveItLink\" href=\"__pv_it/8595b046f57eaa00d3f3f5979ea0b9041b5e95ad0/expr.ipynb\"><img src=\"__pv_it/8595b046f57eaa00d3f3f5979ea0b9041b5e95ad0/expr.png\" style=\"display:inline;vertical-align:middle;\" /></a><br>"
      ],
      "text/plain": [
       "impliesTF: (TRUE => FALSE) = FALSE"
      ]
     },
     "execution_count": 10,
     "metadata": {},
     "output_type": "execute_result"
    }
   ],
   "source": [
    "impliesTF = Equals(Implies(TRUE, FALSE), FALSE)"
   ]
  },
  {
   "cell_type": "code",
   "execution_count": 11,
   "metadata": {},
   "outputs": [
    {
     "data": {
      "text/html": [
       "<strong id=\"trueImpliesFalseNegated\"><a class=\"ProveItLink\" href=\"_proofs_/trueImpliesFalseNegated.ipynb\">trueImpliesFalseNegated</a>:</strong> <a class=\"ProveItLink\" href=\"__pv_it/d03ab80c19fc62ba3b955af9050ec263c8cf15170/expr.ipynb\"><img src=\"__pv_it/d03ab80c19fc62ba3b955af9050ec263c8cf15170/expr.png\" style=\"display:inline;vertical-align:middle;\" /></a><br>"
      ],
      "text/plain": [
       "trueImpliesFalseNegated: [not](TRUE => FALSE)"
      ]
     },
     "execution_count": 11,
     "metadata": {},
     "output_type": "execute_result"
    }
   ],
   "source": [
    "trueImpliesFalseNegated = Not(Implies(TRUE, FALSE))"
   ]
  },
  {
   "cell_type": "code",
   "execution_count": 12,
   "metadata": {},
   "outputs": [
    {
     "data": {
      "text/html": [
       "<strong id=\"implicationTransitivity\"><a class=\"ProveItLink\" href=\"_proofs_/implicationTransitivity.ipynb\">implicationTransitivity</a>:</strong> <a class=\"ProveItLink\" href=\"__pv_it/58354b12dbd32d4ac7add309e5c18982ccfedc6a0/expr.ipynb\"><img src=\"__pv_it/58354b12dbd32d4ac7add309e5c18982ccfedc6a0/expr.png\" style=\"display:inline;vertical-align:middle;\" /></a><br>"
      ],
      "text/plain": [
       "implicationTransitivity: forall_{A, B, C | A => B , B => C} (A => C)"
      ]
     },
     "execution_count": 12,
     "metadata": {},
     "output_type": "execute_result"
    }
   ],
   "source": [
    "implicationTransitivity = Forall((A, B, C), Implies(A, C), conditions=[Implies(A, B), Implies(B, C)])"
   ]
  },
  {
   "cell_type": "code",
   "execution_count": 13,
   "metadata": {},
   "outputs": [
    {
     "data": {
      "text/html": [
       "<strong id=\"iffIntro\"><a class=\"ProveItLink\" href=\"_proofs_/iffIntro.ipynb\">iffIntro</a>:</strong> <a class=\"ProveItLink\" href=\"__pv_it/2e3251e7df4e671fe5d0d3029e5198dcfced006e0/expr.ipynb\"><img src=\"__pv_it/2e3251e7df4e671fe5d0d3029e5198dcfced006e0/expr.png\" style=\"display:inline;vertical-align:middle;\" /></a><br>"
      ],
      "text/plain": [
       "iffIntro: forall_{A, B | A => B , B => A} (A <=> B)"
      ]
     },
     "execution_count": 13,
     "metadata": {},
     "output_type": "execute_result"
    }
   ],
   "source": [
    "iffIntro = Forall((A, B), Iff(A, B), conditions=[Implies(A, B), Implies(B, A)])"
   ]
  },
  {
   "cell_type": "code",
   "execution_count": 14,
   "metadata": {},
   "outputs": [
    {
     "data": {
      "text/html": [
       "<strong id=\"notIffViaNotRightImpl\"><a class=\"ProveItLink\" href=\"_proofs_/notIffViaNotRightImpl.ipynb\">notIffViaNotRightImpl</a>:</strong> <a class=\"ProveItLink\" href=\"__pv_it/442d0ec8808b9029b29bfa24af550b1e4c54832a0/expr.ipynb\"><img src=\"__pv_it/442d0ec8808b9029b29bfa24af550b1e4c54832a0/expr.png\" style=\"display:inline;vertical-align:middle;\" /></a><br>"
      ],
      "text/plain": [
       "notIffViaNotRightImpl: forall_{A, B | [not](A => B)} [not](A <=> B)"
      ]
     },
     "execution_count": 14,
     "metadata": {},
     "output_type": "execute_result"
    }
   ],
   "source": [
    "notIffViaNotRightImpl = Forall((A, B), Not(Iff(A, B)), conditions=[Not(Implies(A, B))])"
   ]
  },
  {
   "cell_type": "code",
   "execution_count": 15,
   "metadata": {},
   "outputs": [
    {
     "data": {
      "text/html": [
       "<strong id=\"notIffViaNotLeftImpl\"><a class=\"ProveItLink\" href=\"_proofs_/notIffViaNotLeftImpl.ipynb\">notIffViaNotLeftImpl</a>:</strong> <a class=\"ProveItLink\" href=\"__pv_it/1403275af5fd3109ea847a7fde1db76428e71dc10/expr.ipynb\"><img src=\"__pv_it/1403275af5fd3109ea847a7fde1db76428e71dc10/expr.png\" style=\"display:inline;vertical-align:middle;\" /></a><br>"
      ],
      "text/plain": [
       "notIffViaNotLeftImpl: forall_{A, B | [not](B => A)} [not](A <=> B)"
      ]
     },
     "execution_count": 15,
     "metadata": {},
     "output_type": "execute_result"
    }
   ],
   "source": [
    "notIffViaNotLeftImpl = Forall((A, B), Not(Iff(A, B)), conditions=[Not(Implies(B, A))])"
   ]
  },
  {
   "cell_type": "code",
   "execution_count": 16,
   "metadata": {},
   "outputs": [
    {
     "data": {
      "text/html": [
       "<strong id=\"trueIffTrue\"><a class=\"ProveItLink\" href=\"_proofs_/trueIffTrue.ipynb\">trueIffTrue</a>:</strong> <a class=\"ProveItLink\" href=\"__pv_it/150400ae4ce109865e4817de22128e68905d57ba0/expr.ipynb\"><img src=\"__pv_it/150400ae4ce109865e4817de22128e68905d57ba0/expr.png\" style=\"display:inline;vertical-align:middle;\" /></a><br>"
      ],
      "text/plain": [
       "trueIffTrue: TRUE <=> TRUE"
      ]
     },
     "execution_count": 16,
     "metadata": {},
     "output_type": "execute_result"
    }
   ],
   "source": [
    "trueIffTrue = Iff(TRUE, TRUE)"
   ]
  },
  {
   "cell_type": "code",
   "execution_count": 17,
   "metadata": {},
   "outputs": [
    {
     "data": {
      "text/html": [
       "<strong id=\"iffTT\"><a class=\"ProveItLink\" href=\"_proofs_/iffTT.ipynb\">iffTT</a>:</strong> <a class=\"ProveItLink\" href=\"__pv_it/af2cc0a9be5eee40bca6ca5f9b757c01822fb3fd0/expr.ipynb\"><img src=\"__pv_it/af2cc0a9be5eee40bca6ca5f9b757c01822fb3fd0/expr.png\" style=\"display:inline;vertical-align:middle;\" /></a><br>"
      ],
      "text/plain": [
       "iffTT: (TRUE <=> TRUE) = TRUE"
      ]
     },
     "execution_count": 17,
     "metadata": {},
     "output_type": "execute_result"
    }
   ],
   "source": [
    "iffTT = Equals(Iff(TRUE, TRUE), TRUE)"
   ]
  },
  {
   "cell_type": "code",
   "execution_count": 18,
   "metadata": {},
   "outputs": [
    {
     "data": {
      "text/html": [
       "<strong id=\"falseIffFalse\"><a class=\"ProveItLink\" href=\"_proofs_/falseIffFalse.ipynb\">falseIffFalse</a>:</strong> <a class=\"ProveItLink\" href=\"__pv_it/7da4614eba375c61069b012d4d1136dad27103f80/expr.ipynb\"><img src=\"__pv_it/7da4614eba375c61069b012d4d1136dad27103f80/expr.png\" style=\"display:inline;vertical-align:middle;\" /></a><br>"
      ],
      "text/plain": [
       "falseIffFalse: FALSE <=> FALSE"
      ]
     },
     "execution_count": 18,
     "metadata": {},
     "output_type": "execute_result"
    }
   ],
   "source": [
    "falseIffFalse = Iff(FALSE, FALSE)"
   ]
  },
  {
   "cell_type": "code",
   "execution_count": 19,
   "metadata": {},
   "outputs": [
    {
     "data": {
      "text/html": [
       "<strong id=\"iffFF\"><a class=\"ProveItLink\" href=\"_proofs_/iffFF.ipynb\">iffFF</a>:</strong> <a class=\"ProveItLink\" href=\"__pv_it/4d6271a1a931c81689de66c32271889dfb0e9ecb0/expr.ipynb\"><img src=\"__pv_it/4d6271a1a931c81689de66c32271889dfb0e9ecb0/expr.png\" style=\"display:inline;vertical-align:middle;\" /></a><br>"
      ],
      "text/plain": [
       "iffFF: (FALSE <=> FALSE) = TRUE"
      ]
     },
     "execution_count": 19,
     "metadata": {},
     "output_type": "execute_result"
    }
   ],
   "source": [
    "iffFF = Equals(Iff(FALSE, FALSE), TRUE)"
   ]
  },
  {
   "cell_type": "code",
   "execution_count": 20,
   "metadata": {},
   "outputs": [
    {
     "data": {
      "text/html": [
       "<strong id=\"iffTF\"><a class=\"ProveItLink\" href=\"_proofs_/iffTF.ipynb\">iffTF</a>:</strong> <a class=\"ProveItLink\" href=\"__pv_it/e4dc936fddf6357abd3abda63e48efa0c1212dd10/expr.ipynb\"><img src=\"__pv_it/e4dc936fddf6357abd3abda63e48efa0c1212dd10/expr.png\" style=\"display:inline;vertical-align:middle;\" /></a><br>"
      ],
      "text/plain": [
       "iffTF: (TRUE <=> FALSE) = FALSE"
      ]
     },
     "execution_count": 20,
     "metadata": {},
     "output_type": "execute_result"
    }
   ],
   "source": [
    "iffTF = Equals(Iff(TRUE, FALSE), FALSE)"
   ]
  },
  {
   "cell_type": "code",
   "execution_count": 21,
   "metadata": {},
   "outputs": [
    {
     "data": {
      "text/html": [
       "<strong id=\"trueIffFalseNegated\"><a class=\"ProveItLink\" href=\"_proofs_/trueIffFalseNegated.ipynb\">trueIffFalseNegated</a>:</strong> <a class=\"ProveItLink\" href=\"__pv_it/f3ab6ddfcce7e8fc34c3a09fc25f58699c89c7fd0/expr.ipynb\"><img src=\"__pv_it/f3ab6ddfcce7e8fc34c3a09fc25f58699c89c7fd0/expr.png\" style=\"display:inline;vertical-align:middle;\" /></a><br>"
      ],
      "text/plain": [
       "trueIffFalseNegated: [not](TRUE <=> FALSE)"
      ]
     },
     "execution_count": 21,
     "metadata": {},
     "output_type": "execute_result"
    }
   ],
   "source": [
    "trueIffFalseNegated = Not(Iff(TRUE, FALSE))"
   ]
  },
  {
   "cell_type": "code",
   "execution_count": 22,
   "metadata": {},
   "outputs": [
    {
     "data": {
      "text/html": [
       "<strong id=\"iffFT\"><a class=\"ProveItLink\" href=\"_proofs_/iffFT.ipynb\">iffFT</a>:</strong> <a class=\"ProveItLink\" href=\"__pv_it/7aebe96ec9201e8046df06abe9cb9428728f8bec0/expr.ipynb\"><img src=\"__pv_it/7aebe96ec9201e8046df06abe9cb9428728f8bec0/expr.png\" style=\"display:inline;vertical-align:middle;\" /></a><br>"
      ],
      "text/plain": [
       "iffFT: (FALSE <=> TRUE) = FALSE"
      ]
     },
     "execution_count": 22,
     "metadata": {},
     "output_type": "execute_result"
    }
   ],
   "source": [
    "iffFT = Equals(Iff(FALSE, TRUE), FALSE)"
   ]
  },
  {
   "cell_type": "code",
   "execution_count": 23,
   "metadata": {},
   "outputs": [
    {
     "data": {
      "text/html": [
       "<strong id=\"falseIffTrueNegated\"><a class=\"ProveItLink\" href=\"_proofs_/falseIffTrueNegated.ipynb\">falseIffTrueNegated</a>:</strong> <a class=\"ProveItLink\" href=\"__pv_it/9ca7dfc26a8633d2b805e46b91bb217b2adacb6a0/expr.ipynb\"><img src=\"__pv_it/9ca7dfc26a8633d2b805e46b91bb217b2adacb6a0/expr.png\" style=\"display:inline;vertical-align:middle;\" /></a><br>"
      ],
      "text/plain": [
       "falseIffTrueNegated: [not](FALSE <=> TRUE)"
      ]
     },
     "execution_count": 23,
     "metadata": {},
     "output_type": "execute_result"
    }
   ],
   "source": [
    "falseIffTrueNegated = Not(Iff(FALSE, TRUE))"
   ]
  },
  {
   "cell_type": "code",
   "execution_count": 24,
   "metadata": {},
   "outputs": [
    {
     "data": {
      "text/html": [
       "<strong id=\"iffImpliesRight\"><a class=\"ProveItLink\" href=\"_proofs_/iffImpliesRight.ipynb\">iffImpliesRight</a>:</strong> <a class=\"ProveItLink\" href=\"__pv_it/24623b51539021cd38343a89a02d4eb1288271550/expr.ipynb\"><img src=\"__pv_it/24623b51539021cd38343a89a02d4eb1288271550/expr.png\" style=\"display:inline;vertical-align:middle;\" /></a><br>"
      ],
      "text/plain": [
       "iffImpliesRight: forall_{A, B | A <=> B} (A => B)"
      ]
     },
     "execution_count": 24,
     "metadata": {},
     "output_type": "execute_result"
    }
   ],
   "source": [
    "iffImpliesRight = Forall((A, B), Implies(A, B), conditions=[Iff(A, B)])"
   ]
  },
  {
   "cell_type": "code",
   "execution_count": 25,
   "metadata": {},
   "outputs": [
    {
     "data": {
      "text/html": [
       "<strong id=\"iffImpliesLeft\"><a class=\"ProveItLink\" href=\"_proofs_/iffImpliesLeft.ipynb\">iffImpliesLeft</a>:</strong> <a class=\"ProveItLink\" href=\"__pv_it/ea445450cf797bd9843aeaf6722dcb63dbf702080/expr.ipynb\"><img src=\"__pv_it/ea445450cf797bd9843aeaf6722dcb63dbf702080/expr.png\" style=\"display:inline;vertical-align:middle;\" /></a><br>"
      ],
      "text/plain": [
       "iffImpliesLeft: forall_{A, B | A <=> B} (B => A)"
      ]
     },
     "execution_count": 25,
     "metadata": {},
     "output_type": "execute_result"
    }
   ],
   "source": [
    "iffImpliesLeft = Forall((A, B), Implies(B, A), conditions=[Iff(A, B)])"
   ]
  },
  {
   "cell_type": "code",
   "execution_count": 26,
   "metadata": {},
   "outputs": [
    {
     "data": {
      "text/html": [
       "<strong id=\"rightFromIff\"><a class=\"ProveItLink\" href=\"_proofs_/rightFromIff.ipynb\">rightFromIff</a>:</strong> <a class=\"ProveItLink\" href=\"__pv_it/ba70afb36cc7098f5364b40732e02c35d40eae600/expr.ipynb\"><img src=\"__pv_it/ba70afb36cc7098f5364b40732e02c35d40eae600/expr.png\" style=\"display:inline;vertical-align:middle;\" /></a><br>"
      ],
      "text/plain": [
       "rightFromIff: forall_{A, B | A , A <=> B} B"
      ]
     },
     "execution_count": 26,
     "metadata": {},
     "output_type": "execute_result"
    }
   ],
   "source": [
    "rightFromIff = Forall((A, B), B, conditions=[A, Iff(A, B)])"
   ]
  },
  {
   "cell_type": "code",
   "execution_count": 27,
   "metadata": {},
   "outputs": [
    {
     "data": {
      "text/html": [
       "<strong id=\"leftFromIff\"><a class=\"ProveItLink\" href=\"_proofs_/leftFromIff.ipynb\">leftFromIff</a>:</strong> <a class=\"ProveItLink\" href=\"__pv_it/89e87db0726f8c595471b9cda5c1b72e361b785b0/expr.ipynb\"><img src=\"__pv_it/89e87db0726f8c595471b9cda5c1b72e361b785b0/expr.png\" style=\"display:inline;vertical-align:middle;\" /></a><br>"
      ],
      "text/plain": [
       "leftFromIff: forall_{A, B | A <=> B , B} A"
      ]
     },
     "execution_count": 27,
     "metadata": {},
     "output_type": "execute_result"
    }
   ],
   "source": [
    "leftFromIff = Forall((A, B), A, conditions=[Iff(A, B), B])"
   ]
  },
  {
   "cell_type": "code",
   "execution_count": 28,
   "metadata": {},
   "outputs": [
    {
     "data": {
      "text/html": [
       "<strong id=\"iffSymmetry\"><a class=\"ProveItLink\" href=\"_proofs_/iffSymmetry.ipynb\">iffSymmetry</a>:</strong> <a class=\"ProveItLink\" href=\"__pv_it/ff95b0cf51a7fde7803161c8eeb515ff182577ba0/expr.ipynb\"><img src=\"__pv_it/ff95b0cf51a7fde7803161c8eeb515ff182577ba0/expr.png\" style=\"display:inline;vertical-align:middle;\" /></a><br>"
      ],
      "text/plain": [
       "iffSymmetry: forall_{A, B | A <=> B} (B <=> A)"
      ]
     },
     "execution_count": 28,
     "metadata": {},
     "output_type": "execute_result"
    }
   ],
   "source": [
    "iffSymmetry = Forall((A, B), Iff(B, A), conditions=[Iff(A, B)])"
   ]
  },
  {
   "cell_type": "code",
   "execution_count": 29,
   "metadata": {},
   "outputs": [
    {
     "data": {
      "text/html": [
       "<strong id=\"iffTransitivity\"><a class=\"ProveItLink\" href=\"_proofs_/iffTransitivity.ipynb\">iffTransitivity</a>:</strong> <a class=\"ProveItLink\" href=\"__pv_it/8a8a3ae684e91e120767f91b843eddd849c8550d0/expr.ipynb\"><img src=\"__pv_it/8a8a3ae684e91e120767f91b843eddd849c8550d0/expr.png\" style=\"display:inline;vertical-align:middle;\" /></a><br>"
      ],
      "text/plain": [
       "iffTransitivity: forall_{A, B, C | A <=> B , B <=> C} (A <=> C)"
      ]
     },
     "execution_count": 29,
     "metadata": {},
     "output_type": "execute_result"
    }
   ],
   "source": [
    "iffTransitivity = Forall((A, B, C), Iff(A, C), conditions=[Iff(A, B), Iff(B, C)])"
   ]
  },
  {
   "cell_type": "code",
   "execution_count": 30,
   "metadata": {},
   "outputs": [
    {
     "data": {
      "text/html": [
       "<strong id=\"affirmViaContradiction\"><a class=\"ProveItLink\" href=\"_proofs_/affirmViaContradiction.ipynb\">affirmViaContradiction</a>:</strong> <a class=\"ProveItLink\" href=\"__pv_it/25738aae8baa600a16ee59ce8b9e44635e5c7cdf0/expr.ipynb\"><img src=\"__pv_it/25738aae8baa600a16ee59ce8b9e44635e5c7cdf0/expr.png\" style=\"display:inline;vertical-align:middle;\" /></a><br>"
      ],
      "text/plain": [
       "affirmViaContradiction: forall_{A in BOOLEANS | [not](A) => FALSE} A"
      ]
     },
     "execution_count": 30,
     "metadata": {},
     "output_type": "execute_result"
    }
   ],
   "source": [
    "affirmViaContradiction = Forall(A, A, domain=Booleans, conditions=[Implies(Not(A), FALSE)])"
   ]
  },
  {
   "cell_type": "code",
   "execution_count": 31,
   "metadata": {},
   "outputs": [
    {
     "data": {
      "text/html": [
       "<strong id=\"modusTollensAffirmation\"><a class=\"ProveItLink\" href=\"_proofs_/modusTollensAffirmation.ipynb\">modusTollensAffirmation</a>:</strong> <a class=\"ProveItLink\" href=\"__pv_it/bef9cbf4c5872747082d62846cac1a14ed5f11760/expr.ipynb\"><img src=\"__pv_it/bef9cbf4c5872747082d62846cac1a14ed5f11760/expr.png\" style=\"display:inline;vertical-align:middle;\" /></a><br>"
      ],
      "text/plain": [
       "modusTollensAffirmation: forall_{A in BOOLEANS} [forall_{B | [not](A) => B , [not](B)} A]"
      ]
     },
     "execution_count": 31,
     "metadata": {},
     "output_type": "execute_result"
    }
   ],
   "source": [
    "modusTollensAffirmation = Forall(A, Forall(B, A, conditions=[Implies(Not(A), B), Not(B)]), domain=Booleans)"
   ]
  },
  {
   "cell_type": "code",
   "execution_count": 32,
   "metadata": {},
   "outputs": [
    {
     "data": {
      "text/html": [
       "<strong id=\"modusTollensDenial\"><a class=\"ProveItLink\" href=\"_proofs_/modusTollensDenial.ipynb\">modusTollensDenial</a>:</strong> <a class=\"ProveItLink\" href=\"__pv_it/0bfcad29da7899da09ab88ef654978b9e8aad6ca0/expr.ipynb\"><img src=\"__pv_it/0bfcad29da7899da09ab88ef654978b9e8aad6ca0/expr.png\" style=\"display:inline;vertical-align:middle;\" /></a><br>"
      ],
      "text/plain": [
       "modusTollensDenial: forall_{A in BOOLEANS} [forall_{B | A => B , [not](B)} [not](A)]"
      ]
     },
     "execution_count": 32,
     "metadata": {},
     "output_type": "execute_result"
    }
   ],
   "source": [
    "modusTollensDenial = Forall(A, Forall(B, Not(A), conditions=[Implies(A, B), Not(B)]), domain=Booleans)"
   ]
  },
  {
   "cell_type": "code",
   "execution_count": 33,
   "metadata": {},
   "outputs": [
    {
     "data": {
      "text/html": [
       "<strong id=\"denyViaContradiction\"><a class=\"ProveItLink\" href=\"_proofs_/denyViaContradiction.ipynb\">denyViaContradiction</a>:</strong> <a class=\"ProveItLink\" href=\"__pv_it/5c0c21d1bc8cc7b87e4f89fe4cac9b743483fc2d0/expr.ipynb\"><img src=\"__pv_it/5c0c21d1bc8cc7b87e4f89fe4cac9b743483fc2d0/expr.png\" style=\"display:inline;vertical-align:middle;\" /></a><br>"
      ],
      "text/plain": [
       "denyViaContradiction: forall_{A in BOOLEANS | A => FALSE} [not](A)"
      ]
     },
     "execution_count": 33,
     "metadata": {},
     "output_type": "execute_result"
    }
   ],
   "source": [
    "denyViaContradiction = Forall(A, Not(A), domain=Booleans, conditions=[Implies(A, FALSE)])"
   ]
  },
  {
   "cell_type": "code",
   "execution_count": 34,
   "metadata": {},
   "outputs": [
    {
     "data": {
      "text/html": [
       "<strong id=\"fromContraposition\"><a class=\"ProveItLink\" href=\"_proofs_/fromContraposition.ipynb\">fromContraposition</a>:</strong> <a class=\"ProveItLink\" href=\"__pv_it/ead9ec2f32b2f1954e8c4acc45214a651c5ca5fe0/expr.ipynb\"><img src=\"__pv_it/ead9ec2f32b2f1954e8c4acc45214a651c5ca5fe0/expr.png\" style=\"display:inline;vertical-align:middle;\" /></a><br>"
      ],
      "text/plain": [
       "fromContraposition: forall_{A, B | [not](B) => [not](A) , B in BOOLEANS} (A => B)"
      ]
     },
     "execution_count": 34,
     "metadata": {},
     "output_type": "execute_result"
    }
   ],
   "source": [
    "fromContraposition = Forall((A, B), Implies(A, B), conditions=[Implies(Not(B), Not(A)), inBool(B)])"
   ]
  },
  {
   "cell_type": "code",
   "execution_count": 35,
   "metadata": {},
   "outputs": [
    {
     "data": {
      "text/html": [
       "<strong id=\"toContraposition\"><a class=\"ProveItLink\" href=\"_proofs_/toContraposition.ipynb\">toContraposition</a>:</strong> <a class=\"ProveItLink\" href=\"__pv_it/f68e64b8afb802587b5771b0011d3bb852868ea30/expr.ipynb\"><img src=\"__pv_it/f68e64b8afb802587b5771b0011d3bb852868ea30/expr.png\" style=\"display:inline;vertical-align:middle;\" /></a><br>"
      ],
      "text/plain": [
       "toContraposition: forall_{A, B | A => B , A in BOOLEANS} ([not](B) => [not](A))"
      ]
     },
     "execution_count": 35,
     "metadata": {},
     "output_type": "execute_result"
    }
   ],
   "source": [
    "toContraposition = Forall((A, B), Implies(Not(B), Not(A)), conditions=[Implies(A, B), inBool(A)])"
   ]
  },
  {
   "cell_type": "code",
   "execution_count": 36,
   "metadata": {},
   "outputs": [
    {
     "data": {
      "text/html": [
       "<strong id=\"contraposeNegAntecedent\"><a class=\"ProveItLink\" href=\"_proofs_/contraposeNegAntecedent.ipynb\">contraposeNegAntecedent</a>:</strong> <a class=\"ProveItLink\" href=\"__pv_it/724e4f60aa879d44d6f7bc093cd7e58e3c5b89a10/expr.ipynb\"><img src=\"__pv_it/724e4f60aa879d44d6f7bc093cd7e58e3c5b89a10/expr.png\" style=\"display:inline;vertical-align:middle;\" /></a><br>"
      ],
      "text/plain": [
       "contraposeNegAntecedent: forall_{A, B | [not](A) => B , A in BOOLEANS} ([not](B) => A)"
      ]
     },
     "execution_count": 36,
     "metadata": {},
     "output_type": "execute_result"
    }
   ],
   "source": [
    "contraposeNegAntecedent = Forall((A, B), Implies(Not(B), A), conditions=[Implies(Not(A), B), inBool(A)])"
   ]
  },
  {
   "cell_type": "code",
   "execution_count": 37,
   "metadata": {},
   "outputs": [
    {
     "data": {
      "text/html": [
       "<strong id=\"contraposeNegConsequent\"><a class=\"ProveItLink\" href=\"_proofs_/contraposeNegConsequent.ipynb\">contraposeNegConsequent</a>:</strong> <a class=\"ProveItLink\" href=\"__pv_it/22a95de4afef522fcc89fd03418f25a05cfcc91f0/expr.ipynb\"><img src=\"__pv_it/22a95de4afef522fcc89fd03418f25a05cfcc91f0/expr.png\" style=\"display:inline;vertical-align:middle;\" /></a><br>"
      ],
      "text/plain": [
       "contraposeNegConsequent: forall_{A, B | A => [not](B) , A in BOOLEANS} (B => [not](A))"
      ]
     },
     "execution_count": 37,
     "metadata": {},
     "output_type": "execute_result"
    }
   ],
   "source": [
    "contraposeNegConsequent = Forall((A, B), Implies(B, Not(A)), conditions=[Implies(A, Not(B)), inBool(A)])"
   ]
  },
  {
   "cell_type": "code",
   "execution_count": 38,
   "metadata": {},
   "outputs": [
    {
     "data": {
      "text/html": [
       "<strong id=\"doubleNegateConsequent\"><a class=\"ProveItLink\" href=\"_proofs_/doubleNegateConsequent.ipynb\">doubleNegateConsequent</a>:</strong> <a class=\"ProveItLink\" href=\"__pv_it/e807d7df27498c75732a590519120e2905179c200/expr.ipynb\"><img src=\"__pv_it/e807d7df27498c75732a590519120e2905179c200/expr.png\" style=\"display:inline;vertical-align:middle;\" /></a><br>"
      ],
      "text/plain": [
       "doubleNegateConsequent: forall_{A, B | A => B , B in BOOLEANS} (A => [not]([not](B)))"
      ]
     },
     "execution_count": 38,
     "metadata": {},
     "output_type": "execute_result"
    }
   ],
   "source": [
    "doubleNegateConsequent = Forall((A, B), Implies(A, Not(Not(B))), conditions=[Implies(A, B), inBool(B)])"
   ]
  },
  {
   "cell_type": "code",
   "execution_count": null,
   "metadata": {},
   "outputs": [],
   "source": []
  },
  {
   "cell_type": "code",
   "execution_count": 39,
   "metadata": {},
   "outputs": [
    {
     "data": {
      "text/html": [
       "<strong id=\"eqFromIff\"><a class=\"ProveItLink\" href=\"_proofs_/eqFromIff.ipynb\">eqFromIff</a>:</strong> <a class=\"ProveItLink\" href=\"__pv_it/3279b8a6ecc11b21d959b9c256158282d9f206e60/expr.ipynb\"><img src=\"__pv_it/3279b8a6ecc11b21d959b9c256158282d9f206e60/expr.png\" style=\"display:inline;vertical-align:middle;\" /></a><br>"
      ],
      "text/plain": [
       "eqFromIff: forall_{A, B in BOOLEANS | A <=> B} (A = B)"
      ]
     },
     "execution_count": 39,
     "metadata": {},
     "output_type": "execute_result"
    }
   ],
   "source": [
    "eqFromIff = Forall((A, B), Equals(A, B), conditions=[Iff(A, B)], domain=Booleans)"
   ]
  },
  {
   "cell_type": "code",
   "execution_count": 40,
   "metadata": {
    "scrolled": true
   },
   "outputs": [
    {
     "data": {
      "text/html": [
       "<strong id=\"eqFromMutualImpl\"><a class=\"ProveItLink\" href=\"_proofs_/eqFromMutualImpl.ipynb\">eqFromMutualImpl</a>:</strong> <a class=\"ProveItLink\" href=\"__pv_it/717acdfbf671ae7748de37f1a290f3df91502b190/expr.ipynb\"><img src=\"__pv_it/717acdfbf671ae7748de37f1a290f3df91502b190/expr.png\" style=\"display:inline;vertical-align:middle;\" /></a><br>"
      ],
      "text/plain": [
       "eqFromMutualImpl: forall_{A, B in BOOLEANS | A => B , B => A} (A = B)"
      ]
     },
     "execution_count": 40,
     "metadata": {},
     "output_type": "execute_result"
    }
   ],
   "source": [
    "eqFromMutualImpl = Forall((A, B), Equals(A, B), conditions=[Implies(A, B), Implies(B, A)], domain=Booleans)"
   ]
  },
  {
   "cell_type": "code",
   "execution_count": 41,
   "metadata": {},
   "outputs": [
    {
     "data": {
      "text/html": [
       "<strong id=\"implicationClosure\"><a class=\"ProveItLink\" href=\"_proofs_/implicationClosure.ipynb\">implicationClosure</a>:</strong> <a class=\"ProveItLink\" href=\"__pv_it/ecd8e3337201e76481f2239482eb89dbd991a3f10/expr.ipynb\"><img src=\"__pv_it/ecd8e3337201e76481f2239482eb89dbd991a3f10/expr.png\" style=\"display:inline;vertical-align:middle;\" /></a><br>"
      ],
      "text/plain": [
       "implicationClosure: forall_{A, B in BOOLEANS} ((A => B) in BOOLEANS)"
      ]
     },
     "execution_count": 41,
     "metadata": {},
     "output_type": "execute_result"
    }
   ],
   "source": [
    "implicationClosure = Forall((A, B), inBool(Implies(A, B)), domain=Booleans)"
   ]
  },
  {
   "cell_type": "code",
   "execution_count": 42,
   "metadata": {},
   "outputs": [
    {
     "data": {
      "text/html": [
       "<strong id=\"iffClosure\"><a class=\"ProveItLink\" href=\"_proofs_/iffClosure.ipynb\">iffClosure</a>:</strong> <a class=\"ProveItLink\" href=\"__pv_it/a76575002fc5887de2f73029e88782529386b6f20/expr.ipynb\"><img src=\"__pv_it/a76575002fc5887de2f73029e88782529386b6f20/expr.png\" style=\"display:inline;vertical-align:middle;\" /></a><br>"
      ],
      "text/plain": [
       "iffClosure: forall_{A, B in BOOLEANS} ((A <=> B) in BOOLEANS)"
      ]
     },
     "execution_count": 42,
     "metadata": {},
     "output_type": "execute_result"
    }
   ],
   "source": [
    "iffClosure = Forall((A, B), inBool(Iff(A, B)), domain=Booleans)"
   ]
  },
  {
   "cell_type": "code",
   "execution_count": 43,
   "metadata": {},
   "outputs": [
    {
     "name": "stdout",
     "output_type": "stream",
     "text": [
      "Theorems may be imported from autogenerated _theorems_.py\n"
     ]
    }
   ],
   "source": [
    "%end theorems"
   ]
  },
  {
   "cell_type": "code",
   "execution_count": null,
   "metadata": {},
   "outputs": [],
   "source": []
  }
 ],
 "metadata": {
  "kernelspec": {
   "display_name": "Python 3",
   "language": "python",
   "name": "python3"
  },
  "language_info": {
   "codemirror_mode": {
    "name": "ipython",
    "version": 3
   },
   "file_extension": ".py",
   "mimetype": "text/x-python",
   "name": "python",
   "nbconvert_exporter": "python",
   "pygments_lexer": "ipython3",
   "version": "3.7.0"
  }
 },
 "nbformat": 4,
 "nbformat_minor": 1
}
