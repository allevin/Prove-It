{
 "cells": [
  {
   "cell_type": "markdown",
   "metadata": {},
   "source": [
    "Expression of type <a class=\"ProveItLink\" href=\"../../../../../../../doc/html/api/proveit.logic.Equals.html\">Equals</a>\n",
    "=======================\n",
    "# from context <a class=\"ProveItLink\" href=\"../../_context_.ipynb\">proveit.logic.boolean.implication</a>"
   ]
  },
  {
   "cell_type": "code",
   "execution_count": 1,
   "metadata": {},
   "outputs": [],
   "source": [
    "# import Expression classes needed to build the expression\n",
    "from proveit.logic import And, Equals, FALSE, Implies, TRUE\n",
    "from proveit.logic.boolean.implication._theorems_ import falseImpliesTrue"
   ]
  },
  {
   "cell_type": "code",
   "execution_count": 2,
   "metadata": {},
   "outputs": [
    {
     "data": {
      "text/html": [
       "<strong id=\"expr\">expr:</strong> <a class=\"ProveItLink\" href=\"expr.ipynb\"><img src=\"data:image/png;base64,iVBORw0KGgoAAAANSUhEUgAAAPIAAAAVBAMAAACOB66tAAAAMFBMVEX////c3NwiIiJERESqqqqY\n",
       "mJh2dnZmZmYQEBDu7u4yMjJUVFTMzMyIiIi6uroAAAAs73DqAAAAAXRSTlMAQObYZgAAAh9JREFU\n",
       "SMfFlr9Lw0AUx1/t7ybWriqFki5u/gAHt26CLk4dSxcRh0IRcXBScXEpGYtTHPxRBemf0ElBl/4B\n",
       "CsGxUnBzE/Pukra5947UyYPkkr58vt/cu3eXAvxfy/e90zDysRrLRTM1ffjVO8wuHFjYytwTRTyl\n",
       "ewwHMdY+0EKGcCNF6HhHzsarZ827yd8d/27e75EDsxnJOLroLL71OxDnrKpS9e9uZSc4xdnmmKrO\n",
       "OYOPX1DnnK2otOWNuSYDglOcO8AwbZ3zAIvFoc75rqISr4jOGMqpHQB1/gSG8TnqfITVU6fO0FBU\n",
       "UtLkEkoQcKpzqs8wqabG+RozuxNylqW53AyrJGRiduEQAm7snBaI9Q2UkdzxPbaHyWgL58xlxgxb\n",
       "bkglfyK6EixAwJHaTjwCYXyOjvnHO+ZY5+ydO6lifuE52QejF3B0VV22QGUk9yfnl32gzjM2bjs6\n",
       "Z/PGnt75HLNdYebZ2gAm25vecRVwZJ7Lti7b4S1SRNex+HeYMW8r1ZIUlXLluwtOHXOiyzBJRzPm\n",
       "vfGCCTnHHG5VmSuY8YBTnRfgL6vqA5Mil+jTZDBeGKV+SaQph8VguMHG+SFTfGZZKyNmdYxLLWRy\n",
       "Lv2eCMUMOpzS1zLVH8QumBeXqJUpUKbHMW3dRzJZ1+zqamsw3DRMQxvthD8PupZ1GG4KJutow4tY\n",
       "Tt1IFaPAcFMwRkEbFn8ripEqbywXzbzpgr9yq6NmnVGkiQAAAABJRU5ErkJggg==\n",
       "\" style=\"display:inline;vertical-align:middle;\" /></a><br>"
      ],
      "text/plain": [
       "expr: ((TRUE => FALSE) and (FALSE => TRUE)) = FALSE"
      ]
     },
     "execution_count": 2,
     "metadata": {},
     "output_type": "execute_result"
    }
   ],
   "source": [
    "# build up the expression from sub-expressions\n",
    "expr = Equals(And(Implies(TRUE, FALSE), falseImpliesTrue.expr), FALSE)"
   ]
  },
  {
   "cell_type": "code",
   "execution_count": 3,
   "metadata": {},
   "outputs": [
    {
     "name": "stdout",
     "output_type": "stream",
     "text": [
      "Passed sanity check: built 'expr' is the same as the stored Expression.\n"
     ]
    }
   ],
   "source": [
    "# check that the built expression is the same as the stored expression\n",
    "%check_expr"
   ]
  },
  {
   "cell_type": "code",
   "execution_count": 4,
   "metadata": {},
   "outputs": [
    {
     "data": {
      "text/html": [
       "<table><tr><th>&nbsp;</th><th>core type</th><th>sub-expressions</th><th>expression</th></tr>\n",
       "<tr><td>0</td><td>Operation</td><td>operator:&nbsp;1<br>operands:&nbsp;2<br></td><td><a class=\"ProveItLink\" href=\"expr.ipynb\"><img src=\"data:image/png;base64,iVBORw0KGgoAAAANSUhEUgAAAPIAAAAVBAMAAACOB66tAAAAMFBMVEX////c3NwiIiJERESqqqqY\n",
       "mJh2dnZmZmYQEBDu7u4yMjJUVFTMzMyIiIi6uroAAAAs73DqAAAAAXRSTlMAQObYZgAAAh9JREFU\n",
       "SMfFlr9Lw0AUx1/t7ybWriqFki5u/gAHt26CLk4dSxcRh0IRcXBScXEpGYtTHPxRBemf0ElBl/4B\n",
       "CsGxUnBzE/Pukra5947UyYPkkr58vt/cu3eXAvxfy/e90zDysRrLRTM1ffjVO8wuHFjYytwTRTyl\n",
       "ewwHMdY+0EKGcCNF6HhHzsarZ827yd8d/27e75EDsxnJOLroLL71OxDnrKpS9e9uZSc4xdnmmKrO\n",
       "OYOPX1DnnK2otOWNuSYDglOcO8AwbZ3zAIvFoc75rqISr4jOGMqpHQB1/gSG8TnqfITVU6fO0FBU\n",
       "UtLkEkoQcKpzqs8wqabG+RozuxNylqW53AyrJGRiduEQAm7snBaI9Q2UkdzxPbaHyWgL58xlxgxb\n",
       "bkglfyK6EixAwJHaTjwCYXyOjvnHO+ZY5+ydO6lifuE52QejF3B0VV22QGUk9yfnl32gzjM2bjs6\n",
       "Z/PGnt75HLNdYebZ2gAm25vecRVwZJ7Lti7b4S1SRNex+HeYMW8r1ZIUlXLluwtOHXOiyzBJRzPm\n",
       "vfGCCTnHHG5VmSuY8YBTnRfgL6vqA5Mil+jTZDBeGKV+SaQph8VguMHG+SFTfGZZKyNmdYxLLWRy\n",
       "Lv2eCMUMOpzS1zLVH8QumBeXqJUpUKbHMW3dRzJZ1+zqamsw3DRMQxvthD8PupZ1GG4KJutow4tY\n",
       "Tt1IFaPAcFMwRkEbFn8ripEqbywXzbzpgr9yq6NmnVGkiQAAAABJRU5ErkJggg==\n",
       "\" style=\"display:inline;vertical-align:middle;\" /></a></td></tr>\n",
       "<tr><td>1</td><td>Literal</td><td></td><td><a class=\"ProveItLink\" href=\"../../../../equality/__pv_it/2fb26078095930560931daa0500ce419a39ea6cd0/expr.ipynb\"><img src=\"data:image/png;base64,iVBORw0KGgoAAAANSUhEUgAAAA4AAAAFBAMAAACHocAhAAAAFVBMVEX///9EREQiIiJUVFQyMjJm\n",
       "ZmYAAADubVkoAAAAAXRSTlMAQObYZgAAABRJREFUCNdjCHEBAWcGXCBICQQUAUpuAwlgGKrkAAAA\n",
       "AElFTkSuQmCC\n",
       "\" style=\"display:inline;vertical-align:middle;\" /></a></td></tr>\n",
       "<tr><td>2</td><td>ExprTuple</td><td>3, 11</td><td><a class=\"ProveItLink\" href=\"../91ffab51a30643f2ec21f7bc9998885114a271ae0/expr.ipynb\"><img src=\"data:image/png;base64,iVBORw0KGgoAAAANSUhEUgAAAOEAAAAVBAMAAABCnpRGAAAAMFBMVEX////c3NwiIiJERESqqqqY\n",
       "mJh2dnZmZmYQEBDu7u4yMjJUVFTMzMyIiIi6uroAAAAs73DqAAAAAXRSTlMAQObYZgAAAfBJREFU\n",
       "SMe9VjFLw0AUfqlJ29Q2ZFYEqYvdLNjd2cnJQVDcOgni0MlBpHPNKJ26VOgiukspdHBwMD9AQTqJ\n",
       "LuLiVry7d9Tk5eWSyQfvXu/jfd+7XC7vCvD/5oXoGXbE8czmvPEqT8pLdWVbHHNNDqUJQSUPLK7s\n",
       "QuucVxlph+ppylof1TjAiRVo1MhBvMKq1EJ0yg5o7j5OKjrLzEHcOQZGpRygU/aI5l7jZNrAaOYg\n",
       "7l4Ao/IB6JT9SXOXdlQYvyJo5mh8GxiVjggdhl0MSW4Rlz0oIGjmaLydqChUhiIMY2x91H5Irq2O\n",
       "TnGvhM9q5mh8N1FRqPRE6DHrBfs2nuupl1IACw+tmaPx90RFoTIXYc6xod+L5Va/5HgI8KCmZo7G\n",
       "nxMVhUpqxepNwFRs6E8/g2Oq2BWhy72TjYDZVVvkVHzI5Jh2tSVCi1mvfUdyHfn+ZDVb5Zk5Gj+I\n",
       "9IWFSntxiOPsFeC+jqn8tQ6ZnMjX4X4TlZkIM8yK9iRo6nhWr2+K7RKPJ2+CsYRUD5jhVl5Gu3/z\n",
       "ryJqyaPrXvlxlbKYl/1kL6ZXBXY5df94qsvl4GCX8/y4iuy2sY6bZifk8svBwR7kUJVRvG2nmTsg\n",
       "QA5OH2hFpbKqPcOW6S7m4NyrMaQq8hq3sv91vFAgm1ObcCq/JPaZ4lmFcDoAAAAASUVORK5CYII=\n",
       "\" style=\"display:inline;vertical-align:middle;\" /></a></td></tr>\n",
       "<tr><td>3</td><td>Operation</td><td>operator:&nbsp;4<br>operands:&nbsp;5<br></td><td><a class=\"ProveItLink\" href=\"../e40f31316e825262c4776b176674419d28e035e50/expr.ipynb\"><img src=\"data:image/png;base64,iVBORw0KGgoAAAANSUhEUgAAALUAAAAVBAMAAADyYbJ0AAAAMFBMVEX////c3NwiIiJERESqqqqY\n",
       "mJh2dnZmZmYQEBDu7u4yMjJUVFTMzMyIiIi6uroAAAAs73DqAAAAAXRSTlMAQObYZgAAAYVJREFU\n",
       "OMu1lTFLw0AUx181aauJwdWKUNLFsQrubn4DR3GRToKIdBbpHDJKp3aokkX6EZx06JIP4FA6KoKb\n",
       "W7H3Xqre5R9yCAZyL+/4//53eZe7EP3nFaSlkpO/MhOiy1BdLSTZUU3t0eidqKYCB1h6MZNw13PB\n",
       "8NI/yLKtLDLjX5QxG2neOzZ1x1l2L0EY3Rsx9TjvnZi6W0n8fRELo3sj5pXy3m+mbvWQg/cuLymM\n",
       "7o2YLvCupoauKjZ9anLsAm/EjDTvGq9y+GnoHFnMM7riONK8i5kIzJucB10XXHNoUoNjBOaNmDny\n",
       "pn6k6fwP1bopefylz5E3YKC3fxcD75WY/HGhN2B6qN6tGNXkaHEP1UMP1RswB2DezthYF5fXcpj5\n",
       "Z4w+b8R0gHeD0Dfot1VdVNoB3oiZSf70W7f3c+7s8hm2PlU7Z7rc7jMpxE0YtnPMt9eCqW/mDxvz\n",
       "2JM9H/CjGsCWcU8tzvhzPbVmknLZ2sDosGW2y3WeWQNbplL+f3oxO+yYL2pQfPxn3lNmAAAAAElF\n",
       "TkSuQmCC\n",
       "\" style=\"display:inline;vertical-align:middle;\" /></a></td></tr>\n",
       "<tr><td>4</td><td>Literal</td><td></td><td><a class=\"ProveItLink\" href=\"../../../conjunction/__pv_it/76b5f4f4c45c0b6a9b59b297fc07dfa9555698f50/expr.ipynb\"><img src=\"data:image/png;base64,iVBORw0KGgoAAAANSUhEUgAAAAwAAAAOBAMAAADpk+DfAAAALVBMVEX///+qqqqYmJh2dnaIiIi6\n",
       "urpUVFQiIiJERETMzMxmZmYyMjLu7u7c3NwAAABvwqPxAAAAAXRSTlMAQObYZgAAAEtJREFUCNdj\n",
       "YGDgPcAAAtwLwNSMGjCV6gIieTawgyhmBS4BIMXOwLsBSKkwMGQCKaC6aQwMjEBd3BdACMScAVJd\n",
       "wJAKolwYAkAUKwAk0guX6efcigAAAABJRU5ErkJggg==\n",
       "\" style=\"display:inline;vertical-align:middle;\" /></a></td></tr>\n",
       "<tr><td>5</td><td>ExprTuple</td><td>6, 7</td><td><a class=\"ProveItLink\" href=\"../20a0bf40feed7182fdce690f3fa3eb822c4b19270/expr.ipynb\"><img src=\"data:image/png;base64,iVBORw0KGgoAAAANSUhEUgAAAJcAAAAVBAMAAAC5yWGZAAAAMFBMVEX////c3NwiIiJERESqqqqY\n",
       "mJh2dnZmZmYQEBDu7u4yMjJUVFTMzMyIiIi6uroAAAAs73DqAAAAAXRSTlMAQObYZgAAASVJREFU\n",
       "OMtjYKAq4LtAHXPiQMRpBoYiJRBQxqZEFonNiNVamGb2A0DOSrDQcRz2IYvzFOBVtICBgfcCpmET\n",
       "iDEMQ1EYAwPHBEzDVhJjGIaiGQwMrzA1MbwmxjAMRcwODGVYDGO7QIRhGIrYChiWomhiB0eN0ne8\n",
       "huFQxLKAoQ+LyxhY1hERm+iK+BoY/mEzjGFWHxFJA00RzwfshvEsm0DYMHRFQMNasIWZ8gQiwgxd\n",
       "EdCbplhcxrIBNWw5sbkMXRED6wKGdCyGSaElofkKWAxDVwRKGo8g/GPI6gwReVgDlIdnfIT4rUlJ\n",
       "yQBDEVwz1wMGDgHMjHsAXeAhAxGKgNmJNYGIsiqAmAItFzXDUmQYJ7AIYpAmrI6XGIdxC+AsP0kH\n",
       "dxgYAGUsW84xC0V/AAAAAElFTkSuQmCC\n",
       "\" style=\"display:inline;vertical-align:middle;\" /></a></td></tr>\n",
       "<tr><td>6</td><td>Operation</td><td>operator:&nbsp;9<br>operands:&nbsp;8<br></td><td><a class=\"ProveItLink\" href=\"../c65898187aa5a4404b8e436d28e20f1178f211670/expr.ipynb\"><img src=\"data:image/png;base64,iVBORw0KGgoAAAANSUhEUgAAAD8AAAAPBAMAAAChCwpBAAAALVBMVEX////c3NwQEBCqqqqIiIhU\n",
       "VFS6uroyMjLu7u52dnbMzMxEREQiIiJmZmYAAACG8MiSAAAAAXRSTlMAQObYZgAAAGJJREFUGNNj\n",
       "uHMGBE4zYAGMDlDGWgbsgOsCNgUchBSwNxBQwBZAQAHDFNwKIB46d4GACQzmCQQUcBQl4FewfAZ+\n",
       "N5zZQcANpgS8yViAqWAlsgJuAQjNC7RM58yZDZgxhMYHACe9L414BCJLAAAAAElFTkSuQmCC\n",
       "\" style=\"display:inline;vertical-align:middle;\" /></a></td></tr>\n",
       "<tr><td>7</td><td>Operation</td><td>operator:&nbsp;9<br>operands:&nbsp;10<br></td><td><a class=\"ProveItLink\" href=\"../5c89411a8c468da13cdc01880daaa573c582a8db0/expr.ipynb\"><img src=\"data:image/png;base64,iVBORw0KGgoAAAANSUhEUgAAAD8AAAAPBAMAAAChCwpBAAAALVBMVEX///+qqqp2dnZUVFS6uroy\n",
       "MjLu7u5EREQQEBAiIiJmZmbMzMyIiIjc3NwAAAAGhiwUAAAAAXRSTlMAQObYZgAAAGVJREFUGNNj\n",
       "YGBguMOABXDNBIMCEHsXA3bAvQDKQFHARkgBawIBBSwGBBQw6OBWsBLs7nkLCJjAIOpAQAFbhAN+\n",
       "BVvV8LthZhkBNwgT8CZvAJoCoLkzZs6cDhdlv4BQoIA1htD4AF7PJ5Q+t8orAAAAAElFTkSuQmCC\n",
       "\" style=\"display:inline;vertical-align:middle;\" /></a></td></tr>\n",
       "<tr><td>8</td><td>ExprTuple</td><td>12, 11</td><td><a class=\"ProveItLink\" href=\"../0f60990fe1c69084ca218cead46950bf14732b6a0/expr.ipynb\"><img src=\"data:image/png;base64,iVBORw0KGgoAAAANSUhEUgAAADUAAAAVBAMAAAAUZLt1AAAAMFBMVEX////c3NwiIiJERESqqqqY\n",
       "mJh2dnZmZmYQEBDu7u4yMjJUVFTMzMyIiIi6uroAAAAs73DqAAAAAXRSTlMAQObYZgAAALFJREFU\n",
       "KM9jYMAH+C5gFY4DEacZ2JXAwAAmLAsi2A8AiZUgFk8BkpbjYHIBAwPvBRxyYQwMHBNwyM1gYHjF\n",
       "gEOO2YGhDJccWwHDUlxyLAsY+nDJ8TUw/MMlx/MBr1wLHjNNkeQmIMuxLmBIR8hxfkLzwyOIXAJI\n",
       "rl+AgaFISUlDSUmZgYHrAQOHAFJ0IbFBYcaagOCyIkdgLiyOMOU4gXHEII3gI6cAbpD5jNjTxB0G\n",
       "BgCWci1ZX87w6gAAAABJRU5ErkJggg==\n",
       "\" style=\"display:inline;vertical-align:middle;\" /></a></td></tr>\n",
       "<tr><td>9</td><td>Literal</td><td></td><td><a class=\"ProveItLink\" href=\"../e5c030cabcb650938f92dee8256fe11cd12bf9b30/expr.ipynb\"><img src=\"data:image/png;base64,iVBORw0KGgoAAAANSUhEUgAAABMAAAANBAMAAAC5okgUAAAALVBMVEX////c3NxERETMzMwQEBCq\n",
       "qqoiIiJmZmaIiIh2dnZUVFS6uroyMjLu7u4AAACPpZJTAAAAAXRSTlMAQObYZgAAAD1JREFUCNdj\n",
       "YAABXgY44LkAZ3IvQAjPABFlaSCQV4AQjtkAZ/IegbNt5sLUpunC5aPgLMYDcCaTAJzJDCIA2yMN\n",
       "HCCUuIIAAAAASUVORK5CYII=\n",
       "\" style=\"display:inline;vertical-align:middle;\" /></a></td></tr>\n",
       "<tr><td>10</td><td>ExprTuple</td><td>11, 12</td><td><a class=\"ProveItLink\" href=\"../f33a8d5708d13f20cb034555a092a5521deab66a0/expr.ipynb\"><img src=\"data:image/png;base64,iVBORw0KGgoAAAANSUhEUgAAADUAAAAVBAMAAAAUZLt1AAAAMFBMVEX////c3NwiIiJERESqqqqY\n",
       "mJh2dnZmZmYQEBDu7u4yMjJUVFTMzMyIiIi6uroAAAAs73DqAAAAAXRSTlMAQObYZgAAALBJREFU\n",
       "KM9jYMAH+C5gFY4DEadBBCNcQZESCCgzsB8AclaCRHgKkLQcB5MLGBh4L+CQC2Ng4JiAQ24GA8Mr\n",
       "BhxyzA4MZbjk2AoYluKSY1nA0IdLjq+B4R8uOZ4PeOVa8JhpiiQ3AVmOdQFDOkKO8xOaHx4xMLAD\n",
       "A7dJScmAs18ALHoMTHI9YOAQQIouJDYozFgTEFxW5AjMhcURphwnMI4YpBF85BTALYAS5SjgDgMD\n",
       "AMUhLsE7xITaAAAAAElFTkSuQmCC\n",
       "\" style=\"display:inline;vertical-align:middle;\" /></a></td></tr>\n",
       "<tr><td>11</td><td>Literal</td><td></td><td><a class=\"ProveItLink\" href=\"../../../__pv_it/8f1f7fac882de28c72b62ab80a1700b6d8fd066b0/expr.ipynb\"><img src=\"data:image/png;base64,iVBORw0KGgoAAAANSUhEUgAAAA4AAAAOBAMAAADtZjDiAAAAG1BMVEX///9EREQQEBAiIiJmZmbM\n",
       "zMyIiIjc3NwAAACryk5kAAAAAXRSTlMAQObYZgAAABlJREFUCNdjYGBgKGOAgBBa0s7GxkbGxoYA\n",
       "FMUF2aBfHgoAAAAASUVORK5CYII=\n",
       "\" style=\"display:inline;vertical-align:middle;\" /></a></td></tr>\n",
       "<tr><td>12</td><td>Literal</td><td></td><td><a class=\"ProveItLink\" href=\"../../../__pv_it/68a87cc3370287d726c7086ace789e680e4461c30/expr.ipynb\"><img src=\"data:image/png;base64,iVBORw0KGgoAAAANSUhEUgAAAA4AAAAOBAMAAADtZjDiAAAAFVBMVEX///92dnbMzMxEREQiIiJm\n",
       "ZmYAAABAT6GXAAAAAXRSTlMAQObYZgAAABhJREFUCNdjCHEBAWcGIFBlgABa0YpADAAxegPJJk4d\n",
       "XAAAAABJRU5ErkJggg==\n",
       "\" style=\"display:inline;vertical-align:middle;\" /></a></td></tr>\n",
       "</table>\n"
      ],
      "text/plain": [
       "0. ((TRUE => FALSE) and (FALSE => TRUE)) = FALSE\n",
       "   core type: Operation\n",
       "   operator: 1\n",
       "   operands: 2\n",
       "1. =\n",
       "   core type: Literal\n",
       "   sub-expressions: \n",
       "2. ((TRUE => FALSE) and (FALSE => TRUE) , FALSE)\n",
       "   core type: ExprTuple\n",
       "   sub-expressions: 3, 11\n",
       "3. (TRUE => FALSE) and (FALSE => TRUE)\n",
       "   core type: Operation\n",
       "   operator: 4\n",
       "   operands: 5\n",
       "4. and\n",
       "   core type: Literal\n",
       "   sub-expressions: \n",
       "5. (TRUE => FALSE , FALSE => TRUE)\n",
       "   core type: ExprTuple\n",
       "   sub-expressions: 6, 7\n",
       "6. TRUE => FALSE\n",
       "   core type: Operation\n",
       "   operator: 9\n",
       "   operands: 8\n",
       "7. FALSE => TRUE\n",
       "   core type: Operation\n",
       "   operator: 9\n",
       "   operands: 10\n",
       "8. (TRUE , FALSE)\n",
       "   core type: ExprTuple\n",
       "   sub-expressions: 12, 11\n",
       "9. =>\n",
       "   core type: Literal\n",
       "   sub-expressions: \n",
       "10. (FALSE , TRUE)\n",
       "    core type: ExprTuple\n",
       "    sub-expressions: 11, 12\n",
       "11. FALSE\n",
       "    core type: Literal\n",
       "    sub-expressions: \n",
       "12. TRUE\n",
       "    core type: Literal\n",
       "    sub-expressions: "
      ]
     },
     "execution_count": 4,
     "metadata": {},
     "output_type": "execute_result"
    }
   ],
   "source": [
    "# display the expression information\n",
    "expr.exprInfo()"
   ]
  },
  {
   "cell_type": "code",
   "execution_count": null,
   "metadata": {},
   "outputs": [],
   "source": []
  }
 ],
 "metadata": {
  "kernelspec": {
   "display_name": "Python 3",
   "language": "python",
   "name": "python3"
  }
 },
 "nbformat": 4,
 "nbformat_minor": 0
}
