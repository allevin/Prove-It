{
 "cells": [
  {
   "cell_type": "markdown",
   "metadata": {},
   "source": [
    "Expression of type <a class=\"ProveItLink\" href=\"../../../../../../../doc/html/api/proveit.Lambda.html\">Lambda</a>\n",
    "=======================\n",
    "# from context <a class=\"ProveItLink\" href=\"../../_context_.ipynb\">proveit.logic.boolean.implication</a>"
   ]
  },
  {
   "cell_type": "code",
   "execution_count": 1,
   "metadata": {},
   "outputs": [],
   "source": [
    "# import Expression classes needed to build the expression\n",
    "from proveit import Lambda\n",
    "from proveit._common_ import B\n",
    "from proveit.logic import Booleans, Equals, Iff, InSet, TRUE"
   ]
  },
  {
   "cell_type": "code",
   "execution_count": 2,
   "metadata": {},
   "outputs": [
    {
     "data": {
      "text/html": [
       "<strong id=\"expr\">expr:</strong> <a class=\"ProveItLink\" href=\"expr.ipynb\"><img src=\"data:image/png;base64,iVBORw0KGgoAAAANSUhEUgAAARcAAAAVCAMAAABbslpZAAAANlBMVEX///8UFBQNDQ2qqqru7u4i\n",
       "IiJ2dnbc3NyIiIjMzMxmZmYQEBC6uroyMjJERERUVFSYmJgAAAC3B9V0AAAAAXRSTlMAQObYZgAA\n",
       "AnNJREFUWMPVmOlyqzAMhX2v5R15ef+XLSkheLeBdJrqR5khhXP4LMkLIR8TVJA/H4u8+QK/FLf4\n",
       "8mlf6V0Ibg2Lk9aUW/9oFoU9K6LVgMucKY7BYkDDLE3unzTXUjTbozrMgUE4EOlp/KkIDvNlzpR9\n",
       "JC8gcF4ZP30uQXJFFeTz6mYel/KKdCbi+YDLpKlvLkQuJejTXApFGbae5wOfwgpXpDMRMAMuVVMg\n",
       "8VEZmHOhnjiY44LN3wpF+/TIDMw0Xbw0JLlI1hEKLjVTCj008kXYuXx5JbsVI4dkyxuBFnKq+xwa\n",
       "f4Pml7jkIlz3uVRMCQv1OlLMV36qmVOvDxM4crjWk5RSMx/9D0sfiZMUfUdaYxQuKd5MhGKXS82U\n",
       "FdX+wlgIprZyKLkoY17TVEDoKz7rCphrcgF3WDLLlXwpRBbT5VIxBbbddyWdqSOZoFjSJUChuNeV\n",
       "DMfg/P/HkjDHbBkucSlEVOhyqZhaXmNd9N3HhY+4gMnYCeN6ivu0FHf+LF+IO1xf41KIDLhUTCnX\n",
       "zJf1QuwwX8AlNwTKnqLa+bhAW1x0VNmG9vpLY6FZivTrqGYK2E0ua1NLikB0FfdpWwRs9RcVg7X+\n",
       "Qr6UIr7bd6umnO9w+a4jGM1H1B2URd/hs66UiZtS2t4TuWSCneVSivTn6aopYEuDi9fykS4Q2Gj9\n",
       "omnZGWqK2m67JUQ/u5mOtdXUCrkmku8HYy4tUwKz/ea2b7TMOLp11iAG5gD3tdDQ4dkw7zgpGe4D\n",
       "Gqc0DtP5KB+0obcnWADy7vD8DS/h8kfOXzz5xcD7rGF8zvD3uAh3+xVO/AgXSX41xF19qcpbn3SO\n",
       "+QW5sSQQ249bHAAAAABJRU5ErkJggg==\n",
       "\" style=\"display:inline;vertical-align:middle;\" /></a><br>"
      ],
      "text/plain": [
       "expr: B -> (TRUE = B) | B in BOOLEANS , TRUE <=> B"
      ]
     },
     "execution_count": 2,
     "metadata": {},
     "output_type": "execute_result"
    }
   ],
   "source": [
    "# build up the expression from sub-expressions\n",
    "expr = Lambda(B, Equals(TRUE, B), conditions = [InSet(B, Booleans), Iff(TRUE, B)])"
   ]
  },
  {
   "cell_type": "code",
   "execution_count": 3,
   "metadata": {},
   "outputs": [
    {
     "name": "stdout",
     "output_type": "stream",
     "text": [
      "Passed sanity check: built 'expr' is the same as the stored Expression.\n"
     ]
    }
   ],
   "source": [
    "# check that the built expression is the same as the stored expression\n",
    "%check_expr"
   ]
  },
  {
   "cell_type": "code",
   "execution_count": 4,
   "metadata": {},
   "outputs": [
    {
     "data": {
      "text/html": [
       "<table><tr><th>&nbsp;</th><th>core type</th><th>sub-expressions</th><th>expression</th></tr>\n",
       "<tr><td>0</td><td>Lambda</td><td>parameter:&nbsp;12<br>body:&nbsp;1<br>conditions:&nbsp;2<br></td><td><a class=\"ProveItLink\" href=\"expr.ipynb\"><img src=\"data:image/png;base64,iVBORw0KGgoAAAANSUhEUgAAARcAAAAVCAMAAABbslpZAAAANlBMVEX///8UFBQNDQ2qqqru7u4i\n",
       "IiJ2dnbc3NyIiIjMzMxmZmYQEBC6uroyMjJERERUVFSYmJgAAAC3B9V0AAAAAXRSTlMAQObYZgAA\n",
       "AnNJREFUWMPVmOlyqzAMhX2v5R15ef+XLSkheLeBdJrqR5khhXP4LMkLIR8TVJA/H4u8+QK/FLf4\n",
       "8mlf6V0Ibg2Lk9aUW/9oFoU9K6LVgMucKY7BYkDDLE3unzTXUjTbozrMgUE4EOlp/KkIDvNlzpR9\n",
       "JC8gcF4ZP30uQXJFFeTz6mYel/KKdCbi+YDLpKlvLkQuJejTXApFGbae5wOfwgpXpDMRMAMuVVMg\n",
       "8VEZmHOhnjiY44LN3wpF+/TIDMw0Xbw0JLlI1hEKLjVTCj008kXYuXx5JbsVI4dkyxuBFnKq+xwa\n",
       "f4Pml7jkIlz3uVRMCQv1OlLMV36qmVOvDxM4crjWk5RSMx/9D0sfiZMUfUdaYxQuKd5MhGKXS82U\n",
       "FdX+wlgIprZyKLkoY17TVEDoKz7rCphrcgF3WDLLlXwpRBbT5VIxBbbddyWdqSOZoFjSJUChuNeV\n",
       "DMfg/P/HkjDHbBkucSlEVOhyqZhaXmNd9N3HhY+4gMnYCeN6ivu0FHf+LF+IO1xf41KIDLhUTCnX\n",
       "zJf1QuwwX8AlNwTKnqLa+bhAW1x0VNmG9vpLY6FZivTrqGYK2E0ua1NLikB0FfdpWwRs9RcVg7X+\n",
       "Qr6UIr7bd6umnO9w+a4jGM1H1B2URd/hs66UiZtS2t4TuWSCneVSivTn6aopYEuDi9fykS4Q2Gj9\n",
       "omnZGWqK2m67JUQ/u5mOtdXUCrkmku8HYy4tUwKz/ea2b7TMOLp11iAG5gD3tdDQ4dkw7zgpGe4D\n",
       "Gqc0DtP5KB+0obcnWADy7vD8DS/h8kfOXzz5xcD7rGF8zvD3uAh3+xVO/AgXSX41xF19qcpbn3SO\n",
       "+QW5sSQQ249bHAAAAABJRU5ErkJggg==\n",
       "\" style=\"display:inline;vertical-align:middle;\" /></a></td></tr>\n",
       "<tr><td>1</td><td>Operation</td><td>operator:&nbsp;3<br>operands:&nbsp;9<br></td><td><a class=\"ProveItLink\" href=\"../60ab45025e53be84747c403937b91d1f8c78727e0/expr.ipynb\"><img src=\"data:image/png;base64,iVBORw0KGgoAAAANSUhEUgAAADsAAAAOBAMAAABjvHmeAAAAMFBMVEX///+qqqru7u7c3NyIiIgQ\n",
       "EBC6urqYmJhUVFQyMjJ2dnbMzMxEREQiIiJmZmYAAABuRGmTAAAAAXRSTlMAQObYZgAAAIxJREFU\n",
       "GNNjeHsXBO4woAH2/h8dPdPAzH0MWADrAQaG9wk4pfc7AHEDTml/AwaG+gU4pY8C8VUFnNI/GBgs\n",
       "D6E47eVMEJgBZnP/cPG7zoDT5SyfGRh0G3BK8wQAlXzHKc0P1Mn+C0UaOQD3FzAwcHzEqRvkbfsJ\n",
       "OKWB3uaOBHubYRem7Jv/HR0zgeYDAFJuNuTNE8cjAAAAAElFTkSuQmCC\n",
       "\" style=\"display:inline;vertical-align:middle;\" /></a></td></tr>\n",
       "<tr><td>2</td><td>ExprTuple</td><td>4, 5</td><td><a class=\"ProveItLink\" href=\"../b86046ea34ef6bfc6be2597821430e79ea2b6dbe0/expr.ipynb\"><img src=\"data:image/png;base64,iVBORw0KGgoAAAANSUhEUgAAAI8AAAAVBAMAAACNsKCFAAAAMFBMVEX////c3NwiIiJERESqqqqY\n",
       "mJh2dnZmZmYQEBDu7u4yMjJUVFTMzMyIiIi6uroAAAAs73DqAAAAAXRSTlMAQObYZgAAAe5JREFU\n",
       "OMtjYKAa4LtAuRlxIOI0EEf/373b6gGKHNt6q19NJhA2uxIYGGCaANXIfgDIXgkSaAaq/oeqhpnv\n",
       "wqxpCTAeTwF2t0A1LmBg4AX5jOcvEP/GMIj3wQICBsE0hjEwcEwA8nk/MjCwfgNLcd5SUloANYgl\n",
       "YCcWgxYg8WAaZzAwvAJramBgYOoES52KRHLRQwNMg8BeMIQpgmpkdmAoA/H5NzAwLgY5jYHREslr\n",
       "h4InYBp0CkRIQTkwjWwFDEtB/PN77xYFQLQLIAxS+t/LgGEQTwcoAvVXQngwjSwLGPpA/PsCDJza\n",
       "YJnJKIF9BdNrtyCOfAVJLDCNfA0M4Ei3AImBnfQCZB8ssBkMnqEbNANqNGM3A7JGng8Qg0AxH58A\n",
       "S55wFzEYMKMbxLkdQktB8gNMI9CgFpCqr0BivwNIZhIBgxhYIKlcESIK0wj0mik0NTD+AktxB6AY\n",
       "9IyBEz3WvMH2CcCTEVgj6wKGdGhqOAGJB049JINYaw0Y5iugGcQOcvk+RDICawRG/yOglP3v3buW\n",
       "QtVJ1cAz7WeNLcDQ/QgxCJ7rOIFRwQgJcoRGrgcMHAJo2cd7kdICZP5D9PwFzOmcE9DEgFmENYFA\n",
       "WRNATIGUCytGKDQI5F0GafxqeIlxEDcofBipUNTeYWAAAMhllB6w4KKaAAAAAElFTkSuQmCC\n",
       "\" style=\"display:inline;vertical-align:middle;\" /></a></td></tr>\n",
       "<tr><td>3</td><td>Literal</td><td></td><td><a class=\"ProveItLink\" href=\"../../../../equality/__pv_it/2fb26078095930560931daa0500ce419a39ea6cd0/expr.ipynb\"><img src=\"data:image/png;base64,iVBORw0KGgoAAAANSUhEUgAAAA4AAAAFBAMAAACHocAhAAAAFVBMVEX///9EREQiIiJUVFQyMjJm\n",
       "ZmYAAADubVkoAAAAAXRSTlMAQObYZgAAABRJREFUCNdjCHEBAWcGXCBICQQUAUpuAwlgGKrkAAAA\n",
       "AElFTkSuQmCC\n",
       "\" style=\"display:inline;vertical-align:middle;\" /></a></td></tr>\n",
       "<tr><td>4</td><td>Operation</td><td>operator:&nbsp;6<br>operands:&nbsp;7<br></td><td><a class=\"ProveItLink\" href=\"../41a86ef0ff9417c73c472e1bdfa161b308e2753e0/expr.ipynb\"><img src=\"data:image/png;base64,iVBORw0KGgoAAAANSUhEUgAAADcAAAAPBAMAAACy3Eq1AAAAMFBMVEX///+qqqru7u4iIiJ2dnbc\n",
       "3NyIiIjMzMxmZmYQEBC6uroyMjJERERUVFSYmJgAAADLUcuvAAAAAXRSTlMAQObYZgAAAOZJREFU\n",
       "GNNjYGB4+//u3dMLGJCB95/9O20EwMw5DAwcv1AkGQ4sY9rkAmKwfwPiv+iSDFncIAbbVwYGvi9g\n",
       "MbXNxtYwSTleBSCDZwIDA/MksBn7FJB0xoAY/BcYWPeARWMUEMay2x0CMeqvpTU/AAsdRdi52P5n\n",
       "AoiRH8DAZAtiMB1AdlCaDIhxEqQApJVrsrExwkE8XA5ABsgX70EM9gvIOnkYgAax/wNy7oOCg8kA\n",
       "QxLkTdbfYKF7KJIgY0HerNwEFlJegCT5IgcYquf/3r29DyLEuqMAHvCH5wqghigD422oayEAAEv1\n",
       "Sz0foy5uAAAAAElFTkSuQmCC\n",
       "\" style=\"display:inline;vertical-align:middle;\" /></a></td></tr>\n",
       "<tr><td>5</td><td>Operation</td><td>operator:&nbsp;8<br>operands:&nbsp;9<br></td><td><a class=\"ProveItLink\" href=\"../4db520e3c974650d7a306b6d33f716f9bd9920ac0/expr.ipynb\"><img src=\"data:image/png;base64,iVBORw0KGgoAAAANSUhEUgAAAEAAAAAPBAMAAACmSdRUAAAAMFBMVEX///+YmJiqqqpUVFS6urru\n",
       "7u4QEBDc3NyIiIgyMjJ2dnbMzMxEREQiIiJmZmYAAACjzKGgAAAAAXRSTlMAQObYZgAAAMxJREFU\n",
       "GNNjeHsXBO4wYALh/8bGJx1ArH0M2EEOAwPfFzwKuH8A8WdUBZzIPI7vDAyMv1AVdAAxTwGUw5PA\n",
       "wMCbiqKAewKQYJ8A5fEbMLDPCUBRsC0X5KOfARDefouOtwIMyAo4poIplikQbn8BA+tlZAWsOVCF\n",
       "ZQZg6hhIkQCyCcEPwBT7DAgX5EP5BShu0AWH6l2IN7g/Agl7BRQFTCCzWa8jgoH9JwNqODwCYmYH\n",
       "RDBsgzh7F1xBJBDXQJh85z8bW07ECH4gDkUVAgASnT8tLdzSdwAAAABJRU5ErkJggg==\n",
       "\" style=\"display:inline;vertical-align:middle;\" /></a></td></tr>\n",
       "<tr><td>6</td><td>Literal</td><td></td><td><a class=\"ProveItLink\" href=\"../../../../set_theory/membership/__pv_it/088cbc857536a28d4119ad9639a84270ccb0545d0/expr.ipynb\"><img src=\"data:image/png;base64,iVBORw0KGgoAAAANSUhEUgAAAAwAAAAMBAMAAACkW0HUAAAALVBMVEX///+qqqpmZmZUVFQQEBC6\n",
       "urpERETc3NyYmJjMzMwiIiIyMjKIiIju7u4AAACYsrA9AAAAAXRSTlMAQObYZgAAADxJREFUCNdj\n",
       "YOA9vWrVBgaG2b0MQMCeCyIZ2ArA1DUwyRCyahVIyWQI7xaEYm4AU7xLIdxqTQgtvGvVBgCkcQ7e\n",
       "geM/tQAAAABJRU5ErkJggg==\n",
       "\" style=\"display:inline;vertical-align:middle;\" /></a></td></tr>\n",
       "<tr><td>7</td><td>ExprTuple</td><td>12, 10</td><td><a class=\"ProveItLink\" href=\"../46fef8cd01e90537d7ca36d1ba2c809996ed4b3a0/expr.ipynb\"><img src=\"data:image/png;base64,iVBORw0KGgoAAAANSUhEUgAAADQAAAAVBAMAAAD7ptBLAAAAMFBMVEX////c3NwiIiJERESqqqqY\n",
       "mJh2dnZmZmYQEBDu7u4yMjJUVFTMzMyIiIi6uroAAAAs73DqAAAAAXRSTlMAQObYZgAAASVJREFU\n",
       "KM9jYMAD+C5gE2V9ACROA3H0/927rR6AxbI+r1+h7MDAUANkrwQJNDMwsP+DqDd4y7kyjYGBi4GB\n",
       "F2Qez18g/g2TYrgHFGdNYOCYAOTyfgSyv8GlXLknMHA2MLwCcZkbGBiYOhG6hIG0CUMZiMu/gYFx\n",
       "8QSYFI+qJZBOZ1gK4p7fe7coAOpsg0f6P0D2ezH0gbj3BRg4tRngBt51BtIvGMBOtgBJB8ClmPkS\n",
       "gCZBpEDujk9ASDEYgKRaQN76CiT2O6BKvWAwhXqL8RcDAyeygVFAN0K8dQIYYPMVIFLhl8GOfwQM\n",
       "Pfvfu3eBPDHjIzh4jbpBZq9j4BBAioqHCCYwoFgTkKQCEEy2C9BIwZSaBcTSCC4vkqqNQMyINQHw\n",
       "HmAAAHCOVkQeB6BvAAAAAElFTkSuQmCC\n",
       "\" style=\"display:inline;vertical-align:middle;\" /></a></td></tr>\n",
       "<tr><td>8</td><td>Literal</td><td></td><td><a class=\"ProveItLink\" href=\"../9817cf888369307f52607b98db5e99fdc17b089e0/expr.ipynb\"><img src=\"data:image/png;base64,iVBORw0KGgoAAAANSUhEUgAAABQAAAANBAMAAABbflNtAAAAKlBMVEX///+qqqpUVFS6urru7u4i\n",
       "IiIQEBDc3NxERESIiIhmZmbMzMwyMjIAAAAneYQxAAAAAXRSTlMAQObYZgAAAFpJREFUCNdjYEAB\n",
       "BxgYuBeAWZwTgEQ7mLkHRNSACO60UCCIPQJkznEAy9kYMLg1QPSyJzGwaEGYNUDNjKFgEA7iC4EI\n",
       "1wIQySUAJJTBqliAtrFDNW8AcoEmAgB4jw/0RzyxkgAAAABJRU5ErkJggg==\n",
       "\" style=\"display:inline;vertical-align:middle;\" /></a></td></tr>\n",
       "<tr><td>9</td><td>ExprTuple</td><td>11, 12</td><td><a class=\"ProveItLink\" href=\"../37daccb7f4d8f0c74c4d62e98fa64e0314d893720/expr.ipynb\"><img src=\"data:image/png;base64,iVBORw0KGgoAAAANSUhEUgAAADYAAAAVBAMAAAD/UwB2AAAAMFBMVEX////c3NwiIiJERESqqqqY\n",
       "mJh2dnZmZmYQEBDu7u4yMjJUVFTMzMyIiIi6uroAAAAs73DqAAAAAXRSTlMAQObYZgAAAPZJREFU\n",
       "KM9jYMAH+C5gFWZ9ACROM7ArgYEBVHD/792b1zEw1ADZK0ECPAUIHRxARfUPGLgYGHgvoMudB4qc\n",
       "38DAmsDAMQFd7r4AA0N8AgNnA8MrBnQ5CyDWAOowYSjDkPvNwCBlCaTTGZaiy/H8vntdFcTwYuhD\n",
       "l+P9yMAwaQOQ8YLhH7occwNQ/ivIvZhy/EA9rN/Aci3ocucDGBi4v4DNNEWSmwDznvwCICMK6FK4\n",
       "HOcnqPd4uiaA/fAIIpcAkusHain+v3v3qgCQ2DoGDgGk6EJig8KMNQEpzpAjkO0CNI6wyM0CYmkE\n",
       "FyUFbARiRuxpgvcAAwBqNEBOwzjo9wAAAABJRU5ErkJggg==\n",
       "\" style=\"display:inline;vertical-align:middle;\" /></a></td></tr>\n",
       "<tr><td>10</td><td>Literal</td><td></td><td><a class=\"ProveItLink\" href=\"../../../__pv_it/46271c8230be96415d662709611f4ed2279d702b0/expr.ipynb\"><img src=\"data:image/png;base64,iVBORw0KGgoAAAANSUhEUgAAAA0AAAAOBAMAAAAGUYvhAAAAMFBMVEX///9mZmbMzMzc3NxUVFSY\n",
       "mJju7u6IiIi6urqqqqoiIiIQEBBEREQyMjJ2dnYAAAAQvcRZAAAAAXRSTlMAQObYZgAAAElJREFU\n",
       "CNdjePvn/u01ExgYGA60s117B6YZKngh9FSWBAjfBsxnWnoMRHet/10AkS+fA6F5OB5AaIYDqDRU\n",
       "PLCGgQFoz6ktExgAgLIl8DFvGtkAAAAASUVORK5CYII=\n",
       "\" style=\"display:inline;vertical-align:middle;\" /></a></td></tr>\n",
       "<tr><td>11</td><td>Literal</td><td></td><td><a class=\"ProveItLink\" href=\"../../../__pv_it/68a87cc3370287d726c7086ace789e680e4461c30/expr.ipynb\"><img src=\"data:image/png;base64,iVBORw0KGgoAAAANSUhEUgAAAA4AAAAOBAMAAADtZjDiAAAAFVBMVEX///92dnbMzMxEREQiIiJm\n",
       "ZmYAAABAT6GXAAAAAXRSTlMAQObYZgAAABhJREFUCNdjCHEBAWcGIFBlgABa0YpADAAxegPJJk4d\n",
       "XAAAAABJRU5ErkJggg==\n",
       "\" style=\"display:inline;vertical-align:middle;\" /></a></td></tr>\n",
       "<tr><td>12</td><td>Variable</td><td></td><td><a class=\"ProveItLink\" href=\"../../../../../__pv_it/077b2ff79244fb4582cbe22c6e3356fa92a52f2f0/expr.ipynb\"><img src=\"data:image/png;base64,iVBORw0KGgoAAAANSUhEUgAAABAAAAAOBAMAAADUAYG5AAAAMFBMVEX///+qqqru7u4iIiJ2dnbc\n",
       "3NyIiIjMzMxmZmYQEBC6uroyMjJERERUVFSYmJgAAADLUcuvAAAAAXRSTlMAQObYZgAAAGpJREFU\n",
       "CNdjYGB4+//u3dMLGIBgDgMDxy8gzf4NiP8CGWxfGRj4vgAZPBMYGJgnARn8FxhY9ygAGfXX0pof\n",
       "gDTlBzAw2YIYJ0EckBBI53sHoBH/gIz7AhBjWH9DjancBLTl/N+7t/cxMAAA3u4f/5xagjYAAAAA\n",
       "SUVORK5CYII=\n",
       "\" style=\"display:inline;vertical-align:middle;\" /></a></td></tr>\n",
       "</table>\n"
      ],
      "text/plain": [
       "0. B -> (TRUE = B) | B in BOOLEANS , TRUE <=> B\n",
       "   core type: Lambda\n",
       "   parameter: 12\n",
       "   body: 1\n",
       "   conditions: 2\\n1. TRUE = B\n",
       "   core type: Operation\n",
       "   operator: 3\n",
       "   operands: 9\n",
       "2. (B in BOOLEANS , TRUE <=> B)\n",
       "   core type: ExprTuple\n",
       "   sub-expressions: 4, 5\n",
       "3. =\n",
       "   core type: Literal\n",
       "   sub-expressions: \n",
       "4. B in BOOLEANS\n",
       "   core type: Operation\n",
       "   operator: 6\n",
       "   operands: 7\n",
       "5. TRUE <=> B\n",
       "   core type: Operation\n",
       "   operator: 8\n",
       "   operands: 9\n",
       "6. in\n",
       "   core type: Literal\n",
       "   sub-expressions: \n",
       "7. (B , BOOLEANS)\n",
       "   core type: ExprTuple\n",
       "   sub-expressions: 12, 10\n",
       "8. <=>\n",
       "   core type: Literal\n",
       "   sub-expressions: \n",
       "9. (TRUE , B)\n",
       "   core type: ExprTuple\n",
       "   sub-expressions: 11, 12\n",
       "10. BOOLEANS\n",
       "    core type: Literal\n",
       "    sub-expressions: \n",
       "11. TRUE\n",
       "    core type: Literal\n",
       "    sub-expressions: \n",
       "12. B\n",
       "    core type: Variable\n",
       "    sub-expressions: "
      ]
     },
     "execution_count": 4,
     "metadata": {},
     "output_type": "execute_result"
    }
   ],
   "source": [
    "# display the expression information\n",
    "expr.exprInfo()"
   ]
  },
  {
   "cell_type": "code",
   "execution_count": null,
   "metadata": {},
   "outputs": [],
   "source": []
  }
 ],
 "metadata": {
  "kernelspec": {
   "display_name": "Python 3",
   "language": "python",
   "name": "python3"
  }
 },
 "nbformat": 4,
 "nbformat_minor": 0
}
