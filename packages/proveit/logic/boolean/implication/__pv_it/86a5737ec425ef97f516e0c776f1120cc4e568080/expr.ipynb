{
 "cells": [
  {
   "cell_type": "markdown",
   "metadata": {},
   "source": [
    "Expression of type <a class=\"ProveItLink\" href=\"../../../../../../../doc/html/api/proveit.logic.InSet.html\">InSet</a>\n",
    "=======================\n",
    "# from context <a class=\"ProveItLink\" href=\"../../_context_.ipynb\">proveit.logic.boolean.implication</a>"
   ]
  },
  {
   "cell_type": "code",
   "execution_count": 1,
   "metadata": {},
   "outputs": [],
   "source": [
    "# import Expression classes needed to build the expression\n",
    "from proveit._common_ import B\n",
    "from proveit.logic import Booleans, Iff, InSet, TRUE"
   ]
  },
  {
   "cell_type": "code",
   "execution_count": 2,
   "metadata": {},
   "outputs": [
    {
     "data": {
      "text/html": [
       "<strong id=\"expr\">expr:</strong> <a class=\"ProveItLink\" href=\"expr.ipynb\"><img src=\"data:image/png;base64,iVBORw0KGgoAAAANSUhEUgAAAHYAAAAVBAMAAABh6QfWAAAAMFBMVEX////c3NwiIiJERESqqqqY\n",
       "mJh2dnZmZmYQEBDu7u4yMjJUVFTMzMyIiIi6uroAAAAs73DqAAAAAXRSTlMAQObYZgAAAa9JREFU\n",
       "OMtjYKAE8F0gqIT1AQ6J0wzsSmBggEXT/t+7N69jYKhBFWZbb/WryQTIWAni8RRgN5gDaGD9AwYu\n",
       "NGFmvguzpiUw8F7Ap/c8UPb8BgbWBAy9vA8WMHBMQNO7AJl3X4CBIT6BgbMBwp27SEkLqpclYCfD\n",
       "KwZUvWB3GMJ4FkCsATTdBKJq6QSEvQ8NGMrQ9J4CEVIw3m8g2xJIp4N5whMQbj4UPIFhKapeng5Q\n",
       "kOuvhPJ+372uCmJ4gbmGCP8q/e9lYOhD1XsLYvQrSIzyfmRgmLQByHgB4nEaIIfVFQOGfyh6Z0Cl\n",
       "GbshaoBhxPsVFN7gVNQEdBIsrBgMnqHp5dwOoaUgiY0faCfrN5heng1I9jIYMDO0oLqZBZLGFKHR\n",
       "G8DAwP0F7mYFNL2maOHsDSImCSCiVx4Y4QxRYO5WFL3PoKGP0MvuACT2IaKXp2sCPI4mPUDoZa01\n",
       "YHgE0QtPdJxAaxihIVb8f/fuVQEg1jpICC4/AMsLnzW2AFO7AFoSBkpzTkATg6VJll2QcIZlswQi\n",
       "8jgbjjy+kgi9s3CISxOhdyMOcUbCZQ7vAazCAN2cc+1c/PCNAAAAAElFTkSuQmCC\n",
       "\" style=\"display:inline;vertical-align:middle;\" /></a><br>"
      ],
      "text/plain": [
       "expr: (TRUE <=> B) in BOOLEANS"
      ]
     },
     "execution_count": 2,
     "metadata": {},
     "output_type": "execute_result"
    }
   ],
   "source": [
    "# build up the expression from sub-expressions\n",
    "expr = InSet(Iff(TRUE, B), Booleans)"
   ]
  },
  {
   "cell_type": "code",
   "execution_count": 3,
   "metadata": {},
   "outputs": [
    {
     "name": "stdout",
     "output_type": "stream",
     "text": [
      "Passed sanity check: built 'expr' is the same as the stored Expression.\n"
     ]
    }
   ],
   "source": [
    "# check that the built expression is the same as the stored expression\n",
    "%check_expr"
   ]
  },
  {
   "cell_type": "code",
   "execution_count": 4,
   "metadata": {},
   "outputs": [
    {
     "data": {
      "text/html": [
       "<table><tr><th>&nbsp;</th><th>core type</th><th>sub-expressions</th><th>expression</th></tr>\n",
       "<tr><td>0</td><td>Operation</td><td>operator:&nbsp;1<br>operands:&nbsp;2<br></td><td><a class=\"ProveItLink\" href=\"expr.ipynb\"><img src=\"data:image/png;base64,iVBORw0KGgoAAAANSUhEUgAAAHYAAAAVBAMAAABh6QfWAAAAMFBMVEX////c3NwiIiJERESqqqqY\n",
       "mJh2dnZmZmYQEBDu7u4yMjJUVFTMzMyIiIi6uroAAAAs73DqAAAAAXRSTlMAQObYZgAAAa9JREFU\n",
       "OMtjYKAE8F0gqIT1AQ6J0wzsSmBggEXT/t+7N69jYKhBFWZbb/WryQTIWAni8RRgN5gDaGD9AwYu\n",
       "NGFmvguzpiUw8F7Ap/c8UPb8BgbWBAy9vA8WMHBMQNO7AJl3X4CBIT6BgbMBwp27SEkLqpclYCfD\n",
       "KwZUvWB3GMJ4FkCsATTdBKJq6QSEvQ8NGMrQ9J4CEVIw3m8g2xJIp4N5whMQbj4UPIFhKapeng5Q\n",
       "kOuvhPJ+372uCmJ4gbmGCP8q/e9lYOhD1XsLYvQrSIzyfmRgmLQByHgB4nEaIIfVFQOGfyh6Z0Cl\n",
       "GbshaoBhxPsVFN7gVNQEdBIsrBgMnqHp5dwOoaUgiY0faCfrN5heng1I9jIYMDO0oLqZBZLGFKHR\n",
       "G8DAwP0F7mYFNL2maOHsDSImCSCiVx4Y4QxRYO5WFL3PoKGP0MvuACT2IaKXp2sCPI4mPUDoZa01\n",
       "YHgE0QtPdJxAaxihIVb8f/fuVQEg1jpICC4/AMsLnzW2AFO7AFoSBkpzTkATg6VJll2QcIZlswQi\n",
       "8jgbjjy+kgi9s3CISxOhdyMOcUbCZQ7vAazCAN2cc+1c/PCNAAAAAElFTkSuQmCC\n",
       "\" style=\"display:inline;vertical-align:middle;\" /></a></td></tr>\n",
       "<tr><td>1</td><td>Literal</td><td></td><td><a class=\"ProveItLink\" href=\"../../../../set_theory/membership/__pv_it/088cbc857536a28d4119ad9639a84270ccb0545d0/expr.ipynb\"><img src=\"data:image/png;base64,iVBORw0KGgoAAAANSUhEUgAAAAwAAAAMBAMAAACkW0HUAAAALVBMVEX///+qqqpmZmZUVFQQEBC6\n",
       "urpERETc3NyYmJjMzMwiIiIyMjKIiIju7u4AAACYsrA9AAAAAXRSTlMAQObYZgAAADxJREFUCNdj\n",
       "YOA9vWrVBgaG2b0MQMCeCyIZ2ArA1DUwyRCyahVIyWQI7xaEYm4AU7xLIdxqTQgtvGvVBgCkcQ7e\n",
       "geM/tQAAAABJRU5ErkJggg==\n",
       "\" style=\"display:inline;vertical-align:middle;\" /></a></td></tr>\n",
       "<tr><td>2</td><td>ExprTuple</td><td>3, 4</td><td><a class=\"ProveItLink\" href=\"../429bd9b9095dd34309a7643c3c47b875edb609400/expr.ipynb\"><img src=\"data:image/png;base64,iVBORw0KGgoAAAANSUhEUgAAAGUAAAAVBAMAAACtcD09AAAAMFBMVEX////c3NwiIiJERESqqqqY\n",
       "mJh2dnZmZmYQEBDu7u4yMjJUVFTMzMyIiIi6uroAAAAs73DqAAAAAXRSTlMAQObYZgAAAZlJREFU\n",
       "OMtjYCAH8F0gSXkciDjNwFCkBALKmApY9//evXkdmMm23upXkwkDA/sBIGclWOg4dlM5DBgY6h+A\n",
       "mcx8F2ZNS2BgWMDAwHsBn57zQNnzG2B6eB8ANYQBTZqApgcozFMA49wXYGCIT4DpYQnYycAwg4Hh\n",
       "FQOqHrC9hjCeBRBrTIDb8xDoVGYHhjI0PadAhBSM9xvItmSA6TkUDNTOVsCwFFUPTwcoCPVXQnm/\n",
       "715XZYDpUfrfC6RZFjD0oeq5BXHIK0hY8X5kYJi0AW4P7xWg2/gaGP6h6JlhAKEZuyHqGoD6vsL1\n",
       "MBg8A9r9AU0P53YILQWJAX6gHazfkPQwg/W0oLqNBZwklBSh0RPAwMD9BVUP0G2maOHmDSImCSCi\n",
       "Rx4YYROQ3Ma6gCEdTQ+7A5DYh4genq4JDJyfIHpYaw3AYf0IInsMpocTaCwjNCSK/+/evQroPM5+\n",
       "AVAa/ayxBSjI9YCBQwAtiQHTLecE9PyCpAiYdlgTiMg0rEjsXHheIFoPyO0M0kToQcrK3CBnMpKW\n",
       "t+8wMAAA1/tw91hT4yEAAAAASUVORK5CYII=\n",
       "\" style=\"display:inline;vertical-align:middle;\" /></a></td></tr>\n",
       "<tr><td>3</td><td>Operation</td><td>operator:&nbsp;5<br>operands:&nbsp;6<br></td><td><a class=\"ProveItLink\" href=\"../4db520e3c974650d7a306b6d33f716f9bd9920ac0/expr.ipynb\"><img src=\"data:image/png;base64,iVBORw0KGgoAAAANSUhEUgAAAEAAAAAPBAMAAACmSdRUAAAAMFBMVEX///+YmJiqqqpUVFS6urru\n",
       "7u4QEBDc3NyIiIgyMjJ2dnbMzMxEREQiIiJmZmYAAACjzKGgAAAAAXRSTlMAQObYZgAAAMxJREFU\n",
       "GNNjeHsXBO4wYALh/8bGJx1ArH0M2EEOAwPfFzwKuH8A8WdUBZzIPI7vDAyMv1AVdAAxTwGUw5PA\n",
       "wMCbiqKAewKQYJ8A5fEbMLDPCUBRsC0X5KOfARDefouOtwIMyAo4poIplikQbn8BA+tlZAWsOVCF\n",
       "ZQZg6hhIkQCyCcEPwBT7DAgX5EP5BShu0AWH6l2IN7g/Agl7BRQFTCCzWa8jgoH9JwNqODwCYmYH\n",
       "RDBsgzh7F1xBJBDXQJh85z8bW07ECH4gDkUVAgASnT8tLdzSdwAAAABJRU5ErkJggg==\n",
       "\" style=\"display:inline;vertical-align:middle;\" /></a></td></tr>\n",
       "<tr><td>4</td><td>Literal</td><td></td><td><a class=\"ProveItLink\" href=\"../../../__pv_it/46271c8230be96415d662709611f4ed2279d702b0/expr.ipynb\"><img src=\"data:image/png;base64,iVBORw0KGgoAAAANSUhEUgAAAA0AAAAOBAMAAAAGUYvhAAAAMFBMVEX///9mZmbMzMzc3NxUVFSY\n",
       "mJju7u6IiIi6urqqqqoiIiIQEBBEREQyMjJ2dnYAAAAQvcRZAAAAAXRSTlMAQObYZgAAAElJREFU\n",
       "CNdjePvn/u01ExgYGA60s117B6YZKngh9FSWBAjfBsxnWnoMRHet/10AkS+fA6F5OB5AaIYDqDRU\n",
       "PLCGgQFoz6ktExgAgLIl8DFvGtkAAAAASUVORK5CYII=\n",
       "\" style=\"display:inline;vertical-align:middle;\" /></a></td></tr>\n",
       "<tr><td>5</td><td>Literal</td><td></td><td><a class=\"ProveItLink\" href=\"../9817cf888369307f52607b98db5e99fdc17b089e0/expr.ipynb\"><img src=\"data:image/png;base64,iVBORw0KGgoAAAANSUhEUgAAABQAAAANBAMAAABbflNtAAAAKlBMVEX///+qqqpUVFS6urru7u4i\n",
       "IiIQEBDc3NxERESIiIhmZmbMzMwyMjIAAAAneYQxAAAAAXRSTlMAQObYZgAAAFpJREFUCNdjYEAB\n",
       "BxgYuBeAWZwTgEQ7mLkHRNSACO60UCCIPQJkznEAy9kYMLg1QPSyJzGwaEGYNUDNjKFgEA7iC4EI\n",
       "1wIQySUAJJTBqliAtrFDNW8AcoEmAgB4jw/0RzyxkgAAAABJRU5ErkJggg==\n",
       "\" style=\"display:inline;vertical-align:middle;\" /></a></td></tr>\n",
       "<tr><td>6</td><td>ExprTuple</td><td>7, 8</td><td><a class=\"ProveItLink\" href=\"../37daccb7f4d8f0c74c4d62e98fa64e0314d893720/expr.ipynb\"><img src=\"data:image/png;base64,iVBORw0KGgoAAAANSUhEUgAAADYAAAAVBAMAAAD/UwB2AAAAMFBMVEX////c3NwiIiJERESqqqqY\n",
       "mJh2dnZmZmYQEBDu7u4yMjJUVFTMzMyIiIi6uroAAAAs73DqAAAAAXRSTlMAQObYZgAAAPZJREFU\n",
       "KM9jYMAH+C5gFWZ9ACROM7ArgYEBVHD/792b1zEw1ADZK0ECPAUIHRxARfUPGLgYGHgvoMudB4qc\n",
       "38DAmsDAMQFd7r4AA0N8AgNnA8MrBnQ5CyDWAOowYSjDkPvNwCBlCaTTGZaiy/H8vntdFcTwYuhD\n",
       "l+P9yMAwaQOQ8YLhH7occwNQ/ivIvZhy/EA9rN/Aci3ocucDGBi4v4DNNEWSmwDznvwCICMK6FK4\n",
       "HOcnqPd4uiaA/fAIIpcAkusHain+v3v3qgCQ2DoGDgGk6EJig8KMNQEpzpAjkO0CNI6wyM0CYmkE\n",
       "FyUFbARiRuxpgvcAAwBqNEBOwzjo9wAAAABJRU5ErkJggg==\n",
       "\" style=\"display:inline;vertical-align:middle;\" /></a></td></tr>\n",
       "<tr><td>7</td><td>Literal</td><td></td><td><a class=\"ProveItLink\" href=\"../../../__pv_it/68a87cc3370287d726c7086ace789e680e4461c30/expr.ipynb\"><img src=\"data:image/png;base64,iVBORw0KGgoAAAANSUhEUgAAAA4AAAAOBAMAAADtZjDiAAAAFVBMVEX///92dnbMzMxEREQiIiJm\n",
       "ZmYAAABAT6GXAAAAAXRSTlMAQObYZgAAABhJREFUCNdjCHEBAWcGIFBlgABa0YpADAAxegPJJk4d\n",
       "XAAAAABJRU5ErkJggg==\n",
       "\" style=\"display:inline;vertical-align:middle;\" /></a></td></tr>\n",
       "<tr><td>8</td><td>Variable</td><td></td><td><a class=\"ProveItLink\" href=\"../../../../../__pv_it/077b2ff79244fb4582cbe22c6e3356fa92a52f2f0/expr.ipynb\"><img src=\"data:image/png;base64,iVBORw0KGgoAAAANSUhEUgAAABAAAAAOBAMAAADUAYG5AAAAMFBMVEX///+qqqru7u4iIiJ2dnbc\n",
       "3NyIiIjMzMxmZmYQEBC6uroyMjJERERUVFSYmJgAAADLUcuvAAAAAXRSTlMAQObYZgAAAGpJREFU\n",
       "CNdjYGB4+//u3dMLGIBgDgMDxy8gzf4NiP8CGWxfGRj4vgAZPBMYGJgnARn8FxhY9ygAGfXX0pof\n",
       "gDTlBzAw2YIYJ0EckBBI53sHoBH/gIz7AhBjWH9DjancBLTl/N+7t/cxMAAA3u4f/5xagjYAAAAA\n",
       "SUVORK5CYII=\n",
       "\" style=\"display:inline;vertical-align:middle;\" /></a></td></tr>\n",
       "</table>\n"
      ],
      "text/plain": [
       "0. (TRUE <=> B) in BOOLEANS\n",
       "   core type: Operation\n",
       "   operator: 1\n",
       "   operands: 2\n",
       "1. in\n",
       "   core type: Literal\n",
       "   sub-expressions: \n",
       "2. (TRUE <=> B , BOOLEANS)\n",
       "   core type: ExprTuple\n",
       "   sub-expressions: 3, 4\n",
       "3. TRUE <=> B\n",
       "   core type: Operation\n",
       "   operator: 5\n",
       "   operands: 6\n",
       "4. BOOLEANS\n",
       "   core type: Literal\n",
       "   sub-expressions: \n",
       "5. <=>\n",
       "   core type: Literal\n",
       "   sub-expressions: \n",
       "6. (TRUE , B)\n",
       "   core type: ExprTuple\n",
       "   sub-expressions: 7, 8\n",
       "7. TRUE\n",
       "   core type: Literal\n",
       "   sub-expressions: \n",
       "8. B\n",
       "   core type: Variable\n",
       "   sub-expressions: "
      ]
     },
     "execution_count": 4,
     "metadata": {},
     "output_type": "execute_result"
    }
   ],
   "source": [
    "# display the expression information\n",
    "expr.exprInfo()"
   ]
  },
  {
   "cell_type": "code",
   "execution_count": null,
   "metadata": {},
   "outputs": [],
   "source": []
  }
 ],
 "metadata": {
  "kernelspec": {
   "display_name": "Python 3",
   "language": "python",
   "name": "python3"
  }
 },
 "nbformat": 4,
 "nbformat_minor": 0
}
