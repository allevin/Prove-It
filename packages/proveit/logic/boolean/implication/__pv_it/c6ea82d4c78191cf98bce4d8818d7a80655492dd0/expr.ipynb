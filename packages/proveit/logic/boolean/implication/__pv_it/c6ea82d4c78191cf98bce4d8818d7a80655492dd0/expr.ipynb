{
 "cells": [
  {
   "cell_type": "markdown",
   "metadata": {},
   "source": [
    "Expression of type <a class=\"ProveItLink\" href=\"../../../../../../../doc/html/api/proveit.Lambda.html\">Lambda</a>\n",
    "=======================\n",
    "# from context <a class=\"ProveItLink\" href=\"../../_context_.ipynb\">proveit.logic.boolean.implication</a>"
   ]
  },
  {
   "cell_type": "code",
   "execution_count": 1,
   "metadata": {},
   "outputs": [],
   "source": [
    "# import Expression classes needed to build the expression\n",
    "from proveit import Lambda\n",
    "from proveit._common_ import A, B\n",
    "from proveit.logic import Booleans, Implies, InSet"
   ]
  },
  {
   "cell_type": "code",
   "execution_count": 2,
   "metadata": {},
   "outputs": [
    {
     "data": {
      "text/html": [
       "<strong id=\"expr\">expr:</strong> <a class=\"ProveItLink\" href=\"expr.ipynb\"><img src=\"data:image/png;base64,iVBORw0KGgoAAAANSUhEUgAAAQcAAAAVCAMAAAB8HNuxAAAANlBMVEX///8UFBQNDQ2qqqru7u4i\n",
       "IiJ2dnbc3NyIiIjMzMxmZmYQEBC6uroyMjJERERUVFSYmJgAAAC3B9V0AAAAAXRSTlMAQObYZgAA\n",
       "ArJJREFUWMPdWNmOqzAMZSYrBGf5/5+9YStx4oBbRqp0/eLCWD74xFtmGP4HEeZLwLPF+onE+bG9\n",
       "nv8kqhhSClk8MP2NAev9SX0GOI3X1hqShwROebE+t/YVD7x4areLOL8hJB4RILHenxKfegQId9Z+\n",
       "STwJUusN6DYfePFUbvNJJrvrwAnCWqz3U1BJUtbUSwwYNYeHwc47A419zQMznspt/pm2RhOTZh2m\n",
       "xHoVI6ZkrpIHMYkApcPEWVBZoP5gEYew+qrsWx7IeG7d5he7Y+Ukp0kC1jt2RiezcCbOpAIsKjQf\n",
       "IkTZOTjj92dxzQMVD8PtsKWPAf+yxCUoEO6ksd6ilYNIkW5I7VCpAPVU5JWXdAKPKh5/Ku0pHtp4\n",
       "WG5zGVlrJ1WEUbX+UDqBiPWadPNZlStHqpA0Ne0BA4oyWQ1ZyNlLcpawJ3gg4mG53ctJqtDjQYbC\n",
       "jZuxXtNhobyJ95VP1QCrAeez4KXvNzQrfGNP8UDEw3J7lJM9E/v3RyFxRe0fP4tX4zKuQ/K9liKh\n",
       "JK0BHM+JO7sDsmloi9K1PcUDEQ/L7TFdivZar0ShQCJ42H653iIwgpZt/Z6ARVxj6B5cVoPn8EDE\n",
       "w3E7HrSFJDo8TGV1OYF1zvujPdP9QVU9qgEs60IxeLiuCyoejttj2poEnf4woo7vI9Z5dbhcKEXo\n",
       "bA8vwFgkUogXH7wncLzsk1Q8HLd7OY2u2HjsxUp4TK1DywPOkwulgc72cAKWc1CqufPBcbKeMzep\n",
       "eO7dTn67lABE7mVTldp4l2A5gJgdATEx6olFAKJxYqC6SG0XIq9cEJR9xUMvHobbd8UZrG8up7cW\n",
       "9Z4sAuDGfmPPvHffuX3/nq4H+r7zoWj70P6P/v/wttD37k9FwlP7b/FgAtbPJJin9t/iYTAW6ydi\n",
       "x8f29jEP/wBm4SbVKOCpZQAAAABJRU5ErkJggg==\n",
       "\" style=\"display:inline;vertical-align:middle;\" /></a><br>"
      ],
      "text/plain": [
       "expr: B -> ((A => B) in BOOLEANS) | B in BOOLEANS"
      ]
     },
     "execution_count": 2,
     "metadata": {},
     "output_type": "execute_result"
    }
   ],
   "source": [
    "# build up the expression from sub-expressions\n",
    "expr = Lambda(B, InSet(Implies(A, B), Booleans), conditions = [InSet(B, Booleans)])"
   ]
  },
  {
   "cell_type": "code",
   "execution_count": 3,
   "metadata": {},
   "outputs": [
    {
     "name": "stdout",
     "output_type": "stream",
     "text": [
      "Passed sanity check: built 'expr' is the same as the stored Expression.\n"
     ]
    }
   ],
   "source": [
    "# check that the built expression is the same as the stored expression\n",
    "%check_expr"
   ]
  },
  {
   "cell_type": "code",
   "execution_count": 4,
   "metadata": {},
   "outputs": [
    {
     "data": {
      "text/html": [
       "<table><tr><th>&nbsp;</th><th>core type</th><th>sub-expressions</th><th>expression</th></tr>\n",
       "<tr><td>0</td><td>Lambda</td><td>parameter:&nbsp;12<br>body:&nbsp;1<br>conditions:&nbsp;2<br></td><td><a class=\"ProveItLink\" href=\"expr.ipynb\"><img src=\"data:image/png;base64,iVBORw0KGgoAAAANSUhEUgAAAQcAAAAVCAMAAAB8HNuxAAAANlBMVEX///8UFBQNDQ2qqqru7u4i\n",
       "IiJ2dnbc3NyIiIjMzMxmZmYQEBC6uroyMjJERERUVFSYmJgAAAC3B9V0AAAAAXRSTlMAQObYZgAA\n",
       "ArJJREFUWMPdWNmOqzAMZSYrBGf5/5+9YStx4oBbRqp0/eLCWD74xFtmGP4HEeZLwLPF+onE+bG9\n",
       "nv8kqhhSClk8MP2NAev9SX0GOI3X1hqShwROebE+t/YVD7x4areLOL8hJB4RILHenxKfegQId9Z+\n",
       "STwJUusN6DYfePFUbvNJJrvrwAnCWqz3U1BJUtbUSwwYNYeHwc47A419zQMznspt/pm2RhOTZh2m\n",
       "xHoVI6ZkrpIHMYkApcPEWVBZoP5gEYew+qrsWx7IeG7d5he7Y+Ukp0kC1jt2RiezcCbOpAIsKjQf\n",
       "IkTZOTjj92dxzQMVD8PtsKWPAf+yxCUoEO6ksd6ilYNIkW5I7VCpAPVU5JWXdAKPKh5/Ku0pHtp4\n",
       "WG5zGVlrJ1WEUbX+UDqBiPWadPNZlStHqpA0Ne0BA4oyWQ1ZyNlLcpawJ3gg4mG53ctJqtDjQYbC\n",
       "jZuxXtNhobyJ95VP1QCrAeez4KXvNzQrfGNP8UDEw3J7lJM9E/v3RyFxRe0fP4tX4zKuQ/K9liKh\n",
       "JK0BHM+JO7sDsmloi9K1PcUDEQ/L7TFdivZar0ShQCJ42H653iIwgpZt/Z6ARVxj6B5cVoPn8EDE\n",
       "w3E7HrSFJDo8TGV1OYF1zvujPdP9QVU9qgEs60IxeLiuCyoejttj2poEnf4woo7vI9Z5dbhcKEXo\n",
       "bA8vwFgkUogXH7wncLzsk1Q8HLd7OY2u2HjsxUp4TK1DywPOkwulgc72cAKWc1CqufPBcbKeMzep\n",
       "eO7dTn67lABE7mVTldp4l2A5gJgdATEx6olFAKJxYqC6SG0XIq9cEJR9xUMvHobbd8UZrG8up7cW\n",
       "9Z4sAuDGfmPPvHffuX3/nq4H+r7zoWj70P6P/v/wttD37k9FwlP7b/FgAtbPJJin9t/iYTAW6ydi\n",
       "x8f29jEP/wBm4SbVKOCpZQAAAABJRU5ErkJggg==\n",
       "\" style=\"display:inline;vertical-align:middle;\" /></a></td></tr>\n",
       "<tr><td>1</td><td>Operation</td><td>operator:&nbsp;6<br>operands:&nbsp;3<br></td><td><a class=\"ProveItLink\" href=\"../78b46a52123f6997d7470001ad558da554bd25690/expr.ipynb\"><img src=\"data:image/png;base64,iVBORw0KGgoAAAANSUhEUgAAAHUAAAAVBAMAAACK3rzVAAAAMFBMVEX////c3NwiIiJERESqqqqY\n",
       "mJh2dnZmZmYQEBDu7u4yMjJUVFTMzMyIiIi6uroAAAAs73DqAAAAAXRSTlMAQObYZgAAAdJJREFU\n",
       "OMtjYKAE8F0gpIL1AS6Z0xDqEDa56P+7d1s9YKhBE876vH6FsgOQsRLCX4/V4GYGBvZ/DFzowgZv\n",
       "OVemMTDwQpzMqj8BLsMJZ/H8BeLfDKwJGHoZ7gEN5IDoEakXgMtwwY3h/Qg09RsDZwOEO3eRkhZM\n",
       "ryv3BIZXEOEL9xEBwrcBxmIGamLqZGAwgbhi6QQke4UZGMogyif4ByCclAtj8G9gYFwM1JAO5glP\n",
       "QLiZR9WSgWEpmDOP4TzY30VKIKBfAFVzfu/dIpCZXmCeIcK/j/R/ANX3gTkPGOQLkMLCC+qB+wIM\n",
       "nNpA+gU4CA2Qw+quMwPDP7BPdu/eb4Ckl3MFRLMFSD/Q4vNgfzUBnQQPK2a+BIhePmB4L0DSeyoT\n",
       "Qv8G4vgEqF6eDcj2MjMYMLSA2MA0wtSA8K+SJTR6vwKJ/Q4wNyug6zUFMhmB0lwfENZ6I0Uv4y8g\n",
       "IwrM3YqiF+hmUPDPAkXlT7gM4wKk6D0BSrOQOJr0AElv+GUGhkfAeOtfyMBq/wse0MzQJMZu/3v3\n",
       "LnAcroOYufwAPC8YdQPdyiGAkQF40AVgaZJlFzScYZkzgXAWZ8OVxVcS1jsLl4Q0Yb0bcUkwEixz\n",
       "eA9gFwcAAf160Kjyxc4AAAAASUVORK5CYII=\n",
       "\" style=\"display:inline;vertical-align:middle;\" /></a></td></tr>\n",
       "<tr><td>2</td><td>ExprTuple</td><td>4</td><td><a class=\"ProveItLink\" href=\"../bc5716cbdf8baf72c53055975f591c5351b6b51c0/expr.ipynb\"><img src=\"data:image/png;base64,iVBORw0KGgoAAAANSUhEUgAAAEQAAAAVBAMAAAAN71XTAAAAMFBMVEX////c3NwiIiJERESqqqqY\n",
       "mJh2dnZmZmYQEBDu7u4yMjJUVFTMzMyIiIi6uroAAAAs73DqAAAAAXRSTlMAQObYZgAAAUpJREFU\n",
       "KM9jYCAC8F3AJ8v6AEicBuLo/7t3Wz1Akcv6vH6FsgMDQw2QvRIk0MzAwP4PVb/BW86VaQwMXAwM\n",
       "vCB7eP4C8W90JQz3gPKsCQwcE4Bc3o9A9jewzNxFSlowJa7cExg4GxhegbjMDQwMTJ0gFs/SCUim\n",
       "CANpE4YyEJd/AwPjYrCc8ASERTyqlkA6nWEpiHt+792iALCEIcItj/R/gNzpxdAH4t4XYODUBjE4\n",
       "DZCde9cZSL9gAHvVAqQMZAxfk5ISwrnMfAlAGyBKQP6NTwC5dgOyKcwMBiAlLSCJr0BivwPIIgUM\n",
       "JS8YTKHBwvgLLLEVRQnIoiignyDBcgIcEQyTHiApCb8M9vQjYOzY/969aylEgnH5AXg0GnWD7F7H\n",
       "wCGAGjUsu6A+ggJgBLAm4E9ObBegiQE3mAXE0viVbAQ5EG/C5D3AAABDX1zcyGO8iwAAAABJRU5E\n",
       "rkJggg==\n",
       "\" style=\"display:inline;vertical-align:middle;\" /></a></td></tr>\n",
       "<tr><td>3</td><td>ExprTuple</td><td>5, 10</td><td><a class=\"ProveItLink\" href=\"../565065f262353f8d50cbe32a5b259dd22c8beb660/expr.ipynb\"><img src=\"data:image/png;base64,iVBORw0KGgoAAAANSUhEUgAAAGQAAAAVBAMAAABCslYDAAAAMFBMVEX////c3NwiIiJERESqqqqY\n",
       "mJh2dnZmZmYQEBDu7u4yMjJUVFTMzMyIiIi6uroAAAAs73DqAAAAAXRSTlMAQObYZgAAAaxJREFU\n",
       "OMtjYCAD8F0gRTXrAyBxGsI+hE1B9P/du60egJlZn9evUHZgYKgBsldCZNdjNbSZgYH9H4Rp8JZz\n",
       "ZRoDAxcDAy/EXaz6E+DqOOEsnr9A/BumheEeUD1rAgMHRKlIvQBcIRdcN+9HoJpvcC2u3BMYOBsY\n",
       "XkEELtx/gAiQDTAWcwMDA1MnwhZhIG3CUAZRNcE/AOGDXBiDfwMD4+IJMC08qpZAOp1hKZg/j+E8\n",
       "2E9FSiCgXwDVcn7v3SKYUQaP9H+A1Hgx9IH5DxjkC5ACygvqyvsCDJzaDHCH3XUG0i8YwEHIs3v3\n",
       "fgMkLZwrIHosQNoC4FqY+RKANkO08DEwcCxA0nIqE0KDwjc+AaGFwQCkpQXEBcYqUwPCL0qW0Gj5\n",
       "CiT2O6BqecFgCuQxAkW5PiAs8UaKFsZfDAwTkB0WBQwzBoZZoCj4CdfBuAApWk6sZOD8BNUSfhkc\n",
       "yI8YGIT7FzKw2v+CBxkzNCGw2//evQsYCZz9AuBkadQNcuM6Bg4BjLTIg5E/kNQAEwxrAhGZBInN\n",
       "dgGe+InVAvK3NGEtyPl2Iyh8SMrIvAcYAFCqc4RLqEjuAAAAAElFTkSuQmCC\n",
       "\" style=\"display:inline;vertical-align:middle;\" /></a></td></tr>\n",
       "<tr><td>4</td><td>Operation</td><td>operator:&nbsp;6<br>operands:&nbsp;7<br></td><td><a class=\"ProveItLink\" href=\"../41a86ef0ff9417c73c472e1bdfa161b308e2753e0/expr.ipynb\"><img src=\"data:image/png;base64,iVBORw0KGgoAAAANSUhEUgAAADcAAAAPBAMAAACy3Eq1AAAAMFBMVEX///+qqqru7u4iIiJ2dnbc\n",
       "3NyIiIjMzMxmZmYQEBC6uroyMjJERERUVFSYmJgAAADLUcuvAAAAAXRSTlMAQObYZgAAAOZJREFU\n",
       "GNNjYGB4+//u3dMLGJCB95/9O20EwMw5DAwcv1AkGQ4sY9rkAmKwfwPiv+iSDFncIAbbVwYGvi9g\n",
       "MbXNxtYwSTleBSCDZwIDA/MksBn7FJB0xoAY/BcYWPeARWMUEMay2x0CMeqvpTU/AAsdRdi52P5n\n",
       "AoiRH8DAZAtiMB1AdlCaDIhxEqQApJVrsrExwkE8XA5ABsgX70EM9gvIOnkYgAax/wNy7oOCg8kA\n",
       "QxLkTdbfYKF7KJIgY0HerNwEFlJegCT5IgcYquf/3r29DyLEuqMAHvCH5wqghigD422oayEAAEv1\n",
       "Sz0foy5uAAAAAElFTkSuQmCC\n",
       "\" style=\"display:inline;vertical-align:middle;\" /></a></td></tr>\n",
       "<tr><td>5</td><td>Operation</td><td>operator:&nbsp;8<br>operands:&nbsp;9<br></td><td><a class=\"ProveItLink\" href=\"../48bda0a4ca92dc8bbf3ec9809bdb1d7b90d71c610/expr.ipynb\"><img src=\"data:image/png;base64,iVBORw0KGgoAAAANSUhEUgAAAEAAAAAPBAMAAACmSdRUAAAAMFBMVEX///92dnYQEBBERERUVFS6\n",
       "urqIiIhmZmaqqqrc3Nzu7u6YmJgyMjIiIiLMzMwAAACFkkdwAAAAAXRSTlMAQObYZgAAAOhJREFU\n",
       "GNNjYACBtwxYwJb/Li42ARD2eWwKGJQZGNi/glnc9xcghOFMvm9A/AXMnFE/AaHgFIzB9hOo9SOY\n",
       "mZAfgFAQAmMwKzAw8GqBWKwL+jcgFDAmQBn8Dgych8EWLmV4DxZkvwsG36EK3rul1UI0BjDML0By\n",
       "PMdRCJ0/gYHrCti1Li7+BsjeW6MKpoxAikBGsDIwMB1Akuc7CPEpyIf7BYBEA9CxCkhuuAyR5/sN\n",
       "JPyBkpxAzPMByQkOiGDg/AOyEeTlXwgFc5CC4REw1Cbrn2Tgtv+D8IYlhGK3/+LicxpbFD1A5QIA\n",
       "YgVCLvPPxacAAAAASUVORK5CYII=\n",
       "\" style=\"display:inline;vertical-align:middle;\" /></a></td></tr>\n",
       "<tr><td>6</td><td>Literal</td><td></td><td><a class=\"ProveItLink\" href=\"../../../../set_theory/membership/__pv_it/088cbc857536a28d4119ad9639a84270ccb0545d0/expr.ipynb\"><img src=\"data:image/png;base64,iVBORw0KGgoAAAANSUhEUgAAAAwAAAAMBAMAAACkW0HUAAAALVBMVEX///+qqqpmZmZUVFQQEBC6\n",
       "urpERETc3NyYmJjMzMwiIiIyMjKIiIju7u4AAACYsrA9AAAAAXRSTlMAQObYZgAAADxJREFUCNdj\n",
       "YOA9vWrVBgaG2b0MQMCeCyIZ2ArA1DUwyRCyahVIyWQI7xaEYm4AU7xLIdxqTQgtvGvVBgCkcQ7e\n",
       "geM/tQAAAABJRU5ErkJggg==\n",
       "\" style=\"display:inline;vertical-align:middle;\" /></a></td></tr>\n",
       "<tr><td>7</td><td>ExprTuple</td><td>12, 10</td><td><a class=\"ProveItLink\" href=\"../46fef8cd01e90537d7ca36d1ba2c809996ed4b3a0/expr.ipynb\"><img src=\"data:image/png;base64,iVBORw0KGgoAAAANSUhEUgAAADQAAAAVBAMAAAD7ptBLAAAAMFBMVEX////c3NwiIiJERESqqqqY\n",
       "mJh2dnZmZmYQEBDu7u4yMjJUVFTMzMyIiIi6uroAAAAs73DqAAAAAXRSTlMAQObYZgAAASVJREFU\n",
       "KM9jYMAD+C5gE2V9ACROA3H0/927rR6AxbI+r1+h7MDAUANkrwQJNDMwsP+DqDd4y7kyjYGBi4GB\n",
       "F2Qez18g/g2TYrgHFGdNYOCYAOTyfgSyv8GlXLknMHA2MLwCcZkbGBiYOhG6hIG0CUMZiMu/gYFx\n",
       "8QSYFI+qJZBOZ1gK4p7fe7coAOpsg0f6P0D2ezH0gbj3BRg4tRngBt51BtIvGMBOtgBJB8ClmPkS\n",
       "gCZBpEDujk9ASDEYgKRaQN76CiT2O6BKvWAwhXqL8RcDAyeygVFAN0K8dQIYYPMVIFLhl8GOfwQM\n",
       "Pfvfu3eBPDHjIzh4jbpBZq9j4BBAioqHCCYwoFgTkKQCEEy2C9BIwZSaBcTSCC4vkqqNQMyINQHw\n",
       "HmAAAHCOVkQeB6BvAAAAAElFTkSuQmCC\n",
       "\" style=\"display:inline;vertical-align:middle;\" /></a></td></tr>\n",
       "<tr><td>8</td><td>Literal</td><td></td><td><a class=\"ProveItLink\" href=\"../e5c030cabcb650938f92dee8256fe11cd12bf9b30/expr.ipynb\"><img src=\"data:image/png;base64,iVBORw0KGgoAAAANSUhEUgAAABMAAAANBAMAAAC5okgUAAAALVBMVEX////c3NxERETMzMwQEBCq\n",
       "qqoiIiJmZmaIiIh2dnZUVFS6uroyMjLu7u4AAACPpZJTAAAAAXRSTlMAQObYZgAAAD1JREFUCNdj\n",
       "YAABXgY44LkAZ3IvQAjPABFlaSCQV4AQjtkAZ/IegbNt5sLUpunC5aPgLMYDcCaTAJzJDCIA2yMN\n",
       "HCCUuIIAAAAASUVORK5CYII=\n",
       "\" style=\"display:inline;vertical-align:middle;\" /></a></td></tr>\n",
       "<tr><td>9</td><td>ExprTuple</td><td>11, 12</td><td><a class=\"ProveItLink\" href=\"../caee09fb4b5c95b986a9cee46a014afbad9bdc680/expr.ipynb\"><img src=\"data:image/png;base64,iVBORw0KGgoAAAANSUhEUgAAADUAAAAVBAMAAAAUZLt1AAAAMFBMVEX////c3NwiIiJERESqqqqY\n",
       "mJh2dnZmZmYQEBDu7u4yMjJUVFTMzMyIiIi6uroAAAAs73DqAAAAAXRSTlMAQObYZgAAATZJREFU\n",
       "KM9jYMAH+C5gFY4DEach7EMwQdb9v3dvXsfAfgDIXgkRWg/XwWHAwFD/gGEBAwMvxEhW/QkwufNA\n",
       "kfMbGMKAqiBiIvUCMLn7QFZ8AsMMBoZXEIEL9x/A5CyAWGMCA7MDQxnEsRP8A2ByvxkYpCwZGNgK\n",
       "GJaC+fPAtoABz++711WBNMsChj6wwAMG+QKoHO9HBoZJG4BGNTD8A6vdvXu/AVSOuQEo/xUo9gEi\n",
       "xwd07wKoHD9QD+s3sFwLiO/AwMDUAPMe0FHcX8BmmgK5jEA5rg8MDBNg3pMHGsK6gCEdyJ0FsuYn\n",
       "A+cnqPd4uiaA/fCIgUG4fyEDq/2vAs5+oJbi/7t3rwL5lesBA4cAUnQhsUFhxpqA4LIiR2AuIo7Q\n",
       "5ThBfpJG8JFTADfIfEbsaeIOAwMABOxNRsfkiy0AAAAASUVORK5CYII=\n",
       "\" style=\"display:inline;vertical-align:middle;\" /></a></td></tr>\n",
       "<tr><td>10</td><td>Literal</td><td></td><td><a class=\"ProveItLink\" href=\"../../../__pv_it/46271c8230be96415d662709611f4ed2279d702b0/expr.ipynb\"><img src=\"data:image/png;base64,iVBORw0KGgoAAAANSUhEUgAAAA0AAAAOBAMAAAAGUYvhAAAAMFBMVEX///9mZmbMzMzc3NxUVFSY\n",
       "mJju7u6IiIi6urqqqqoiIiIQEBBEREQyMjJ2dnYAAAAQvcRZAAAAAXRSTlMAQObYZgAAAElJREFU\n",
       "CNdjePvn/u01ExgYGA60s117B6YZKngh9FSWBAjfBsxnWnoMRHet/10AkS+fA6F5OB5AaIYDqDRU\n",
       "PLCGgQFoz6ktExgAgLIl8DFvGtkAAAAASUVORK5CYII=\n",
       "\" style=\"display:inline;vertical-align:middle;\" /></a></td></tr>\n",
       "<tr><td>11</td><td>Variable</td><td></td><td><a class=\"ProveItLink\" href=\"../../../../../__pv_it/2cbe72a7ad6f655694dd697106680215e8489b600/expr.ipynb\"><img src=\"data:image/png;base64,iVBORw0KGgoAAAANSUhEUgAAAA8AAAAOBAMAAAACpFvcAAAALVBMVEX///8QEBBERERUVFS6urqI\n",
       "iIhmZmaqqqrc3Nzu7u6YmJgyMjIiIiLMzMwAAADtIaYWAAAAAXRSTlMAQObYZgAAAFtJREFUCNdj\n",
       "YACBOwxQsA9Kc52bAGG05zVAGAFxDmCaZULdAjBjCsO9ADDDgaEvAUTzGhvbKYCVMDAwbgAxChgY\n",
       "eASANAeQwf0AyJgNxEwvGRia5HYwcOm9TgAA6BoR3jrzwFcAAAAASUVORK5CYII=\n",
       "\" style=\"display:inline;vertical-align:middle;\" /></a></td></tr>\n",
       "<tr><td>12</td><td>Variable</td><td></td><td><a class=\"ProveItLink\" href=\"../../../../../__pv_it/077b2ff79244fb4582cbe22c6e3356fa92a52f2f0/expr.ipynb\"><img src=\"data:image/png;base64,iVBORw0KGgoAAAANSUhEUgAAABAAAAAOBAMAAADUAYG5AAAAMFBMVEX///+qqqru7u4iIiJ2dnbc\n",
       "3NyIiIjMzMxmZmYQEBC6uroyMjJERERUVFSYmJgAAADLUcuvAAAAAXRSTlMAQObYZgAAAGpJREFU\n",
       "CNdjYGB4+//u3dMLGIBgDgMDxy8gzf4NiP8CGWxfGRj4vgAZPBMYGJgnARn8FxhY9ygAGfXX0pof\n",
       "gDTlBzAw2YIYJ0EckBBI53sHoBH/gIz7AhBjWH9DjancBLTl/N+7t/cxMAAA3u4f/5xagjYAAAAA\n",
       "SUVORK5CYII=\n",
       "\" style=\"display:inline;vertical-align:middle;\" /></a></td></tr>\n",
       "</table>\n"
      ],
      "text/plain": [
       "0. B -> ((A => B) in BOOLEANS) | B in BOOLEANS\n",
       "   core type: Lambda\n",
       "   parameter: 12\n",
       "   body: 1\n",
       "   conditions: 2\\n1. (A => B) in BOOLEANS\n",
       "   core type: Operation\n",
       "   operator: 6\n",
       "   operands: 3\n",
       "2. (B in BOOLEANS)\n",
       "   core type: ExprTuple\n",
       "   sub-expressions: 4\n",
       "3. (A => B , BOOLEANS)\n",
       "   core type: ExprTuple\n",
       "   sub-expressions: 5, 10\n",
       "4. B in BOOLEANS\n",
       "   core type: Operation\n",
       "   operator: 6\n",
       "   operands: 7\n",
       "5. A => B\n",
       "   core type: Operation\n",
       "   operator: 8\n",
       "   operands: 9\n",
       "6. in\n",
       "   core type: Literal\n",
       "   sub-expressions: \n",
       "7. (B , BOOLEANS)\n",
       "   core type: ExprTuple\n",
       "   sub-expressions: 12, 10\n",
       "8. =>\n",
       "   core type: Literal\n",
       "   sub-expressions: \n",
       "9. (A , B)\n",
       "   core type: ExprTuple\n",
       "   sub-expressions: 11, 12\n",
       "10. BOOLEANS\n",
       "    core type: Literal\n",
       "    sub-expressions: \n",
       "11. A\n",
       "    core type: Variable\n",
       "    sub-expressions: \n",
       "12. B\n",
       "    core type: Variable\n",
       "    sub-expressions: "
      ]
     },
     "execution_count": 4,
     "metadata": {},
     "output_type": "execute_result"
    }
   ],
   "source": [
    "# display the expression information\n",
    "expr.exprInfo()"
   ]
  },
  {
   "cell_type": "code",
   "execution_count": null,
   "metadata": {},
   "outputs": [],
   "source": []
  }
 ],
 "metadata": {
  "kernelspec": {
   "display_name": "Python 3",
   "language": "python",
   "name": "python3"
  }
 },
 "nbformat": 4,
 "nbformat_minor": 0
}
