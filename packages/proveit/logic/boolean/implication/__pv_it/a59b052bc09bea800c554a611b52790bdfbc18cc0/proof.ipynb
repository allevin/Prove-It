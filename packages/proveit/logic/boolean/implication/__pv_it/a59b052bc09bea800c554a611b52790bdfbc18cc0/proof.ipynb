{
 "cells": [
  {
   "cell_type": "markdown",
   "metadata": {},
   "source": [
    "Show the Proof\n",
    "========"
   ]
  },
  {
   "cell_type": "code",
   "execution_count": 1,
   "metadata": {},
   "outputs": [
    {
     "data": {
      "text/html": [
       "<table><tr><th>&nbsp;</th><th>step type</th><th>requirements</th><th>statement</th></tr>\n",
       "<tr><td>0</td><td>specialization</td><td>1, 2</td><td><span style=\"font-size:20px;\"><a class=\"ProveItLink\" href=\"../b9713b405570857a29694d61fe5e2536eab03fc30/expr.ipynb\"><img src=\"data:image/png;base64,iVBORw0KGgoAAAANSUhEUgAAAHUAAAAVBAMAAACK3rzVAAAAMFBMVEX////c3NxERESqqqpUVFS6\n",
       "urrMzMwyMjIQEBCIiIh2dnYiIiLu7u5mZmaYmJgAAABXZE4RAAAAAXRSTlMAQObYZgAAAbZJREFU\n",
       "OMtjYGDgu8dAMmBbJQCieHahiEYS1McXANLcDGJyfkAx0AFCbcCmyf+Li1MpA8M1EOc6iOBqQJZn\n",
       "PwChPmCzkUOBgeF+AAM7iL0CU+9MCPX6D0LoAJyVPwGIHRj4FmDX2wMmGW0/IoRq4Kz5wAB6v4CB\n",
       "pwGrXtYCMMXJ+RUhFgJnaQDxDqAzlLHq5V0ApmKY/yHEuCbAWF8YGMR1gPRamF7eAuSgegCOtgC2\n",
       "n2Cp3WDwFxYHX2bO3QdimAPxexAjIwCmCGgnRwDY5QyMf5EMZC6F0JzAQDgNisMIkC0XGBhS2pCj\n",
       "lh+sN8XF5RNyAB5vBVNMQN9xgjyTD+KpA50YkYChF0i0I6eXKkg08QMV8P2C6uUGhQxLAZJeDgOQ\n",
       "G0HBieTfTdAYzgfaxPIZ6mawf7k2IOllAoWVMBDXI3nXASl65UE2PceMI6DjuYAhwAOS1kekJnGk\n",
       "6GVrP4AcR6hpYwMDo8Z3AYZH/2vhYopQ+tJ/F5dycByWYk+TjZg5IAFdAEeaZHhFRMYHJzSwXj5s\n",
       "eRAvOA7Pvzw7kcUZHQjrdQRFCiS58C1GlpAkqJUzAVpeAQCj4XXVPjLA8gAAAABJRU5ErkJggg==\n",
       "\" style=\"display:inline;vertical-align:middle;\" /></a> <a class=\"ProveItLink\" href=\"proof.ipynb\" style=\"text-decoration: none\">&#x22A2;&nbsp;</a><a class=\"ProveItLink\" href=\"../8a7ca5ad31f5fefe4dd7aeb4fb89cd0d8a4a536e0/expr.ipynb\"><img src=\"data:image/png;base64,iVBORw0KGgoAAAANSUhEUgAAAHoAAAAVBAMAAAB71edYAAAAMFBMVEX////c3NwiIiJERESqqqqY\n",
       "mJh2dnZmZmYQEBDu7u4yMjJUVFTMzMyIiIi6uroAAAAs73DqAAAAAXRSTlMAQObYZgAAAXtJREFU\n",
       "OMtjYKAM8F0gqCQOt9RpCHUIm1z0/927rR4wsB/AIicLJldCOOuxGt3MwMD+j4FhARap4yCCF+Jw\n",
       "Vv0JCAk4k+cvEP9mYAjDpZsDolSkXgAhsRLG4P0INPcbA8MMXLpfQdgX7j9ASLyGMZgbGBiYOoG0\n",
       "Aw7dZZCAn+AfgJBgg0UD/wYGxsVAx7EV4NC9FMycx3AerINdCQy+Q1Wc33u3CGQqCzjYqlaBwGpk\n",
       "3X1g5gMGeWTjWdZB6PsCDJzaIKc14LD7Hzhsd+/eb4AsNQtiqAXIBKDlPB/w6eYDhj1ynPIsg8QE\n",
       "MLIY4hPw6G4BEcAgZWpA8rcyRDPPVyCx3wHm8iKIHLJuUyBmBCrgQjKeZQMiuhl/gdLSAhx2p4N8\n",
       "CYranwgJKaToPgFKOjhj7BEDg3D/QgZW+18IFYYQit3+9+5d4BjleoCmFegJDZAnOAQwjcXIUjNw\n",
       "ZVDWBCLKgFycMisJa+ZcgFNKmrBubgGcUoyES6Y7uCQAxS9k+L7UX1sAAAAASUVORK5CYII=\n",
       "\" style=\"display:inline;vertical-align:middle;\" /></a></span></td></tr>\n",
       "<tr><td>&nbsp;</td><td colspan=4 style=\"text-align:left\"><span style=\"font-size:20px;\"><a class=\"ProveItLink\" href=\"../../../../../__pv_it/2cbe72a7ad6f655694dd697106680215e8489b600/expr.ipynb\"><img src=\"data:image/png;base64,iVBORw0KGgoAAAANSUhEUgAAAA8AAAAOBAMAAAACpFvcAAAALVBMVEX///8QEBBERERUVFS6urqI\n",
       "iIhmZmaqqqrc3Nzu7u6YmJgyMjIiIiLMzMwAAADtIaYWAAAAAXRSTlMAQObYZgAAAFtJREFUCNdj\n",
       "YACBOwxQsA9Kc52bAGG05zVAGAFxDmCaZULdAjBjCsO9ADDDgaEvAUTzGhvbKYCVMDAwbgAxChgY\n",
       "eASANAeQwf0AyJgNxEwvGRia5HYwcOm9TgAA6BoR3jrzwFcAAAAASUVORK5CYII=\n",
       "\" style=\"display:inline;vertical-align:middle;\" /></a> : <a class=\"ProveItLink\" href=\"../48bda0a4ca92dc8bbf3ec9809bdb1d7b90d71c610/expr.ipynb\"><img src=\"data:image/png;base64,iVBORw0KGgoAAAANSUhEUgAAAEAAAAAPBAMAAACmSdRUAAAAMFBMVEX///92dnYQEBBERERUVFS6\n",
       "urqIiIhmZmaqqqrc3Nzu7u6YmJgyMjIiIiLMzMwAAACFkkdwAAAAAXRSTlMAQObYZgAAAOhJREFU\n",
       "GNNjYACBtwxYwJb/Li42ARD2eWwKGJQZGNi/glnc9xcghOFMvm9A/AXMnFE/AaHgFIzB9hOo9SOY\n",
       "mZAfgFAQAmMwKzAw8GqBWKwL+jcgFDAmQBn8Dgych8EWLmV4DxZkvwsG36EK3rul1UI0BjDML0By\n",
       "PMdRCJ0/gYHrCti1Li7+BsjeW6MKpoxAikBGsDIwMB1Akuc7CPEpyIf7BYBEA9CxCkhuuAyR5/sN\n",
       "JPyBkpxAzPMByQkOiGDg/AOyEeTlXwgFc5CC4REw1Cbrn2Tgtv+D8IYlhGK3/+LicxpbFD1A5QIA\n",
       "YgVCLvPPxacAAAAASUVORK5CYII=\n",
       "\" style=\"display:inline;vertical-align:middle;\" /></a></span></td></tr><tr><td>1</td><td>axiom</td><td></td><td><span style=\"font-size:20px;\"> <a class=\"ProveItLink\" href=\"../../../negation/_axioms_.ipynb#negationElim\" style=\"text-decoration: none\">&#x22A2;&nbsp;</a><a class=\"ProveItLink\" href=\"../../../negation/__pv_it/3b08940eb52ec7364a09d58733ea5eec05fbe9620/expr.ipynb\"><img src=\"data:image/png;base64,iVBORw0KGgoAAAANSUhEUgAAAJcAAAAXBAMAAAD0AcCSAAAAMFBMVEX///8QEBC6urrMzMxUVFRm\n",
       "ZmZERETc3NwyMjKqqqp2dnaIiIiYmJgiIiLu7u4AAAAU9Wx4AAAAAXRSTlMAQObYZgAAAbxJREFU\n",
       "OMtjYKAmeECsQqYN+OUPAfEFEOM0EYaZQChbLFLVIILVgIFhJYjRR4RhUDX9WKRMwWQDA0MZkGJP\n",
       "IGwWN8SXPPcf4DLsFAMDB1CSdQJhwxghhlTGF+Ay7CHQquXl5bVE+FIDQm3Yr4DLMDagk76lpd0i\n",
       "wrAoSJQ+mH8Al2FcAQwMzgwM6WBOO0Q5qrp2GKMHTD5isAeHXUQHCLSgGMYJjAEVBr4GcNB+gjgW\n",
       "xSyoIBAIgUkFhvoAXC5jEmBg4GXgBrv86R8shkEFgQBsKrOLi38CLsOYPwDj/AAvOKLWXcViGFQQ\n",
       "ZhgwDBgb8BnG1wBO28wb0jANgwkCgSSIAMYXrwCIEXsXBK5heJMh3QnEZGGIxTQMJggEOaDEDTSM\n",
       "4wMul/GA3DwVnD1PMuxHMmxZWlpaA0IQCJYC8QuQ/D98SYOBERTZfFdD8x+guiwBIQgEusCcJ9/O\n",
       "wJP/Ay06gT6+CPYxByg584DUsxYw2BugGwYXBFlZQChZP4SzdBgY+A+gGwYXBFm5gJBhq2GMJ98Y\n",
       "2P3voBpmgBAkppjiw5Jm2HApLiFgGEsBCYaxEyi2NzOQYBg5gIUCvQCemG+1sUJnVwAAAABJRU5E\n",
       "rkJggg==\n",
       "\" style=\"display:inline;vertical-align:middle;\" /></a></span></td></tr>\n",
       "<tr><td>&nbsp;</td><td colspan=4 style-\"text-align:left\"><a class=\"ProveItLink\" href=\"../../../negation/_axioms_.ipynb#negationElim\">proveit.logic.boolean.negation.negationElim</a></td></tr><tr><td>2</td><td>assumption</td><td></td><td><span style=\"font-size:20px;\"><a class=\"ProveItLink\" href=\"../b9713b405570857a29694d61fe5e2536eab03fc30/expr.ipynb\"><img src=\"data:image/png;base64,iVBORw0KGgoAAAANSUhEUgAAAHUAAAAVBAMAAACK3rzVAAAAMFBMVEX////c3NxERESqqqpUVFS6\n",
       "urrMzMwyMjIQEBCIiIh2dnYiIiLu7u5mZmaYmJgAAABXZE4RAAAAAXRSTlMAQObYZgAAAbZJREFU\n",
       "OMtjYGDgu8dAMmBbJQCieHahiEYS1McXANLcDGJyfkAx0AFCbcCmyf+Li1MpA8M1EOc6iOBqQJZn\n",
       "PwChPmCzkUOBgeF+AAM7iL0CU+9MCPX6D0LoAJyVPwGIHRj4FmDX2wMmGW0/IoRq4Kz5wAB6v4CB\n",
       "pwGrXtYCMMXJ+RUhFgJnaQDxDqAzlLHq5V0ApmKY/yHEuCbAWF8YGMR1gPRamF7eAuSgegCOtgC2\n",
       "n2Cp3WDwFxYHX2bO3QdimAPxexAjIwCmCGgnRwDY5QyMf5EMZC6F0JzAQDgNisMIkC0XGBhS2pCj\n",
       "lh+sN8XF5RNyAB5vBVNMQN9xgjyTD+KpA50YkYChF0i0I6eXKkg08QMV8P2C6uUGhQxLAZJeDgOQ\n",
       "G0HBieTfTdAYzgfaxPIZ6mawf7k2IOllAoWVMBDXI3nXASl65UE2PceMI6DjuYAhwAOS1kekJnGk\n",
       "6GVrP4AcR6hpYwMDo8Z3AYZH/2vhYopQ+tJ/F5dycByWYk+TjZg5IAFdAEeaZHhFRMYHJzSwXj5s\n",
       "eRAvOA7Pvzw7kcUZHQjrdQRFCiS58C1GlpAkqJUzAVpeAQCj4XXVPjLA8gAAAABJRU5ErkJggg==\n",
       "\" style=\"display:inline;vertical-align:middle;\" /></a> <a class=\"ProveItLink\" href=\"../095ef9165a8cbbfe0c1f8f2f7054e7e65f4722ad0/proof.ipynb\" style=\"text-decoration: none\">&#x22A2;&nbsp;</a><a class=\"ProveItLink\" href=\"../645ce987d0174f228106544053fcde37e024fae30/expr.ipynb\"><img src=\"data:image/png;base64,iVBORw0KGgoAAAANSUhEUgAAAF8AAAAVBAMAAADSoS/MAAAAMFBMVEX////c3NxERESqqqqYmJgQ\n",
       "EBDu7u4yMjKIiIi6urpUVFTMzMx2dnYiIiJmZmYAAABjE816AAAAAXRSTlMAQObYZgAAAWhJREFU\n",
       "OMtjYCAfcDYQVOKJwtsFofZiU+n1f9Uq9QkMfBuQBcsgVD1Ws4MYGPh+MjAUIAlxQFzEcj8BLsQG\n",
       "Z3H/AOJfDAw+SBpYIQqF3wvAhdjhejk+Ao36w8CQiqRhOoRq6J+ACIYFMBZTAAMDbxiQNkBoeANR\n",
       "k2DvgBA7AWPwL2BgLALax/MAIVkCJjMZ9oP98vYuCNyHye9f0fEWZBBzAUTmDpAdCZaZwCCPZAiD\n",
       "OdR9/QIMbLdADghARMFPcGisWrVeAUkDWylEhypIE9AK7g9oGjiBoYUc1tuPQWhgiDL4H0DVEAxi\n",
       "AAOBNwDhh7tq0Gj4AiTWG6A6SQWIGYFi7B8QFlghRQPjd1C0Qq3nBuJzQJwOCvJvcPWMBUjRsBWU\n",
       "dJCDdS4Dg1B8IQOL/ne4IBM00vn0f61aDg529glISUMAI8VxY4ggJw2WA0TkmRNYkjc+wIYc5AxS\n",
       "hDVwoTibkXAW7WZgAAB3jV14rHTBjQAAAABJRU5ErkJggg==\n",
       "\" style=\"display:inline;vertical-align:middle;\" /></a></span></td></tr>\n",
       "</table>"
      ],
      "text/plain": [
       "<proveit._core_.proof._ShowProof at 0x7f94ebcdeda0>"
      ]
     },
     "execution_count": 1,
     "metadata": {},
     "output_type": "execute_result"
    }
   ],
   "source": [
    "import proveit\n",
    "%show_proof"
   ]
  },
  {
   "cell_type": "code",
   "execution_count": null,
   "metadata": {},
   "outputs": [],
   "source": []
  }
 ],
 "metadata": {
  "kernelspec": {
   "display_name": "Python 3",
   "language": "python",
   "name": "python3"
  }
 },
 "nbformat": 4,
 "nbformat_minor": 0
}
