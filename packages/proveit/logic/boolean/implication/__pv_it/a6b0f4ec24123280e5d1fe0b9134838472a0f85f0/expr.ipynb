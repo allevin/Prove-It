{
 "cells": [
  {
   "cell_type": "markdown",
   "metadata": {},
   "source": [
    "Expression of type <a class=\"ProveItLink\" href=\"../../../../../../../doc/html/api/proveit.logic.Equals.html\">Equals</a>\n",
    "=======================\n",
    "# from context <a class=\"ProveItLink\" href=\"../../_context_.ipynb\">proveit.logic.boolean.implication</a>"
   ]
  },
  {
   "cell_type": "code",
   "execution_count": 1,
   "metadata": {},
   "outputs": [],
   "source": [
    "# import Expression classes needed to build the expression\n",
    "from proveit.logic import And, Equals, FALSE, Iff, Implies, TRUE\n",
    "from proveit.logic.boolean.implication._theorems_ import falseImpliesTrue"
   ]
  },
  {
   "cell_type": "code",
   "execution_count": 2,
   "metadata": {},
   "outputs": [
    {
     "data": {
      "text/html": [
       "<strong id=\"expr\">expr:</strong> <a class=\"ProveItLink\" href=\"expr.ipynb\"><img src=\"data:image/png;base64,iVBORw0KGgoAAAANSUhEUgAAATEAAAAVBAMAAADcAcTPAAAAMFBMVEX////c3NwiIiJERESqqqqY\n",
       "mJh2dnZmZmYQEBDu7u4yMjJUVFTMzMyIiIi6uroAAAAs73DqAAAAAXRSTlMAQObYZgAAAn5JREFU\n",
       "SMfNlj9IG1Ecx39nEpMzZ5q1ESE9Fze10MHNTaiLU0ZxEekQkFIcOrXFwVIIh5M4xUHbVCjZupVO\n",
       "CnG5WVo4HFOEbt2k773fs+b9fr/07jr1wfdecvf73O977z/A/1tqcWrIhnDvxionmTGb4S71xROB\n",
       "56Euc1D+yh4FfRTAbC7y8v6ZUMy7NGO4nkm0M+YDLsy1y+5PRai7iDTyoa17kI1Rmo4zOGux+9+t\n",
       "SBZ/HPkeK8zmMpHEKFUi4qzr/MPYQ+bsrRXJMhXJZPAYH2A2l+mBwCgNwXVmvmqJxBZW6EDuomiW\n",
       "Wl8mqzfYWEPgzA8QGKVd4mygLw0SO0k7u7yJYmOmLZNH0DT1ruBsMhYYpRPXWbCvJ85Cz40tmuZ5\n",
       "+VGXM9Nr66iRLDjlFnYkErbghalPHGdlg4S/gDNKHdfZFQ6EYeLE1l6RNqskKD7Pnopk03ZDR2gz\n",
       "KH4CxijdOs4OF7H23jmxwU/i7EGC4s78DwknSzFUzcp2KzmDow7LpuQ68z9j3Yj/1dngmUBORHZZ\n",
       "Fp0Fp5HkbM/tzSJ2/SMQ+mRk8a6soNg4C5clclXpWP/Yk8bZXCT25hMyN9f05aDuxpboJlBYR7Hv\n",
       "XwOJPLbubDaXKfYFRmmbOCvrlviStmrYic2yeF2JDPTondB/twVnDZBXjWts1DdhiIPfV+/2Fv/E\n",
       "nuPSntCVtolSXTg/ujsX6hJZTe6W8OvRZ7Ys3Q8HfJdmlCp1klTNIT8i9/ju9NqKHkFAImvmp7bH\n",
       "smFCziiVNjOc4drsTkvc51PJzNna7oY6rvh/OwXlIzNmM9xMemyV94HXR+UlM2YznJd+/v025vg5\n",
       "m5/MmE3pN+0j1jOmT/V2AAAAAElFTkSuQmCC\n",
       "\" style=\"display:inline;vertical-align:middle;\" /></a><br>"
      ],
      "text/plain": [
       "expr: (FALSE <=> TRUE) = ((FALSE => TRUE) and (TRUE => FALSE))"
      ]
     },
     "execution_count": 2,
     "metadata": {},
     "output_type": "execute_result"
    }
   ],
   "source": [
    "# build up the expression from sub-expressions\n",
    "expr = Equals(Iff(FALSE, TRUE), And(falseImpliesTrue.expr, Implies(TRUE, FALSE)))"
   ]
  },
  {
   "cell_type": "code",
   "execution_count": 3,
   "metadata": {},
   "outputs": [
    {
     "name": "stdout",
     "output_type": "stream",
     "text": [
      "Passed sanity check: built 'expr' is the same as the stored Expression.\n"
     ]
    }
   ],
   "source": [
    "# check that the built expression is the same as the stored expression\n",
    "%check_expr"
   ]
  },
  {
   "cell_type": "code",
   "execution_count": 4,
   "metadata": {},
   "outputs": [
    {
     "data": {
      "text/html": [
       "<table><tr><th>&nbsp;</th><th>core type</th><th>sub-expressions</th><th>expression</th></tr>\n",
       "<tr><td>0</td><td>Operation</td><td>operator:&nbsp;1<br>operands:&nbsp;2<br></td><td><a class=\"ProveItLink\" href=\"expr.ipynb\"><img src=\"data:image/png;base64,iVBORw0KGgoAAAANSUhEUgAAATEAAAAVBAMAAADcAcTPAAAAMFBMVEX////c3NwiIiJERESqqqqY\n",
       "mJh2dnZmZmYQEBDu7u4yMjJUVFTMzMyIiIi6uroAAAAs73DqAAAAAXRSTlMAQObYZgAAAn5JREFU\n",
       "SMfNlj9IG1Ecx39nEpMzZ5q1ESE9Fze10MHNTaiLU0ZxEekQkFIcOrXFwVIIh5M4xUHbVCjZupVO\n",
       "CnG5WVo4HFOEbt2k773fs+b9fr/07jr1wfdecvf73O977z/A/1tqcWrIhnDvxionmTGb4S71xROB\n",
       "56Euc1D+yh4FfRTAbC7y8v6ZUMy7NGO4nkm0M+YDLsy1y+5PRai7iDTyoa17kI1Rmo4zOGux+9+t\n",
       "SBZ/HPkeK8zmMpHEKFUi4qzr/MPYQ+bsrRXJMhXJZPAYH2A2l+mBwCgNwXVmvmqJxBZW6EDuomiW\n",
       "Wl8mqzfYWEPgzA8QGKVd4mygLw0SO0k7u7yJYmOmLZNH0DT1ruBsMhYYpRPXWbCvJ85Cz40tmuZ5\n",
       "+VGXM9Nr66iRLDjlFnYkErbghalPHGdlg4S/gDNKHdfZFQ6EYeLE1l6RNqskKD7Pnopk03ZDR2gz\n",
       "KH4CxijdOs4OF7H23jmxwU/i7EGC4s78DwknSzFUzcp2KzmDow7LpuQ68z9j3Yj/1dngmUBORHZZ\n",
       "Fp0Fp5HkbM/tzSJ2/SMQ+mRk8a6soNg4C5clclXpWP/Yk8bZXCT25hMyN9f05aDuxpboJlBYR7Hv\n",
       "XwOJPLbubDaXKfYFRmmbOCvrlviStmrYic2yeF2JDPTondB/twVnDZBXjWts1DdhiIPfV+/2Fv/E\n",
       "nuPSntCVtolSXTg/ujsX6hJZTe6W8OvRZ7Ys3Q8HfJdmlCp1klTNIT8i9/ju9NqKHkFAImvmp7bH\n",
       "smFCziiVNjOc4drsTkvc51PJzNna7oY6rvh/OwXlIzNmM9xMemyV94HXR+UlM2YznJd+/v025vg5\n",
       "m5/MmE3pN+0j1jOmT/V2AAAAAElFTkSuQmCC\n",
       "\" style=\"display:inline;vertical-align:middle;\" /></a></td></tr>\n",
       "<tr><td>1</td><td>Literal</td><td></td><td><a class=\"ProveItLink\" href=\"../../../../equality/__pv_it/2fb26078095930560931daa0500ce419a39ea6cd0/expr.ipynb\"><img src=\"data:image/png;base64,iVBORw0KGgoAAAANSUhEUgAAAA4AAAAFBAMAAACHocAhAAAAFVBMVEX///9EREQiIiJUVFQyMjJm\n",
       "ZmYAAADubVkoAAAAAXRSTlMAQObYZgAAABRJREFUCNdjCHEBAWcGXCBICQQUAUpuAwlgGKrkAAAA\n",
       "AElFTkSuQmCC\n",
       "\" style=\"display:inline;vertical-align:middle;\" /></a></td></tr>\n",
       "<tr><td>2</td><td>ExprTuple</td><td>3, 4</td><td><a class=\"ProveItLink\" href=\"../695a898b77a9bc4910e3b6bf9bfebbd1845194040/expr.ipynb\"><img src=\"data:image/png;base64,iVBORw0KGgoAAAANSUhEUgAAAQ8AAAAVBAMAAACqO3ZEAAAAMFBMVEX////c3NwiIiJERESqqqqY\n",
       "mJh2dnZmZmYQEBDu7u4yMjJUVFTMzMyIiIi6uroAAAAs73DqAAAAAXRSTlMAQObYZgAAAhVJREFU\n",
       "SMfNVj1IQlEUvpqmL5/imhGYLm1l4N7W0NLUGC7hJESEc4RDEMijSVzSwcIl3NrCqSCXN0eDORpB\n",
       "TW3Suec+0Xveze6Vhh5893nv+75zvuf9OY+xf3Ml3L8jHsypQV0Pu6sqznGGX1mvh8SAO4sY6ZIH\n",
       "PRbBR5lNlQyTcg3q2jj2+IPfqXEk2kcziQ2vt2yoAcRdTSOCKAd1KHHf690YagBRhyRsSMrJuCDK\n",
       "Qds0aE107C3HTAMYkoT4EjmFEUGUg77RoAvbeIu9u2YaQJkkfOJNSmGkrAi66BLionhcZ2kzDaAl\n",
       "J7TP+RrfaPuNtKSg3mb4IkFDYrUeshMzDaAqJ3wWkzvs+4xUFW/HQrdy0MQp3tLef6qtAYykhDVv\n",
       "vwcufEZGqqCsXpWI9gdvwy6LdY00ANmIdSfuKVfPiH3tKIwEHWZ3jDSAipwwJOZxzb9GKqr5zjqq\n",
       "qdkBNI00gDxJuMuby6TEtXiTV7xdqEMWXhgXa9Mzo68BFImRCD8J7mXuFd+MRUXQFFNtX5svtCAz\n",
       "0QAGomatj4ubBf4CkxL1gEv4E5qB+G/PpgvY5OATRLbEd1usPz4YB8JIYdpIblIoRVKuAUSTpLrA\n",
       "crccMvbKj+ukvxLRYiuO+AT+7JtoAOGCxqfIHtMkluSutqYkF6GZRnSIVoMMaGpQt/I7N46tBjFG\n",
       "p0JTg7qA7qeiBvFlTg3gGxwuu1Kglsd4AAAAAElFTkSuQmCC\n",
       "\" style=\"display:inline;vertical-align:middle;\" /></a></td></tr>\n",
       "<tr><td>3</td><td>Operation</td><td>operator:&nbsp;5<br>operands:&nbsp;10<br></td><td><a class=\"ProveItLink\" href=\"../28a616c9a18309ee688e04adb90aa8662ed6a11f0/expr.ipynb\"><img src=\"data:image/png;base64,iVBORw0KGgoAAAANSUhEUgAAAD8AAAAPBAMAAAChCwpBAAAALVBMVEX///92dnaqqqpUVFS6urru\n",
       "7u4yMjJEREQQEBAiIiJmZmbMzMyIiIjc3NwAAABajTjNAAAAAXRSTlMAQObYZgAAAIFJREFUGNNj\n",
       "YGBguMOABXDNBIMCEHsXA3bAvQDKIEEBGwoPi4IzQMx+AbcC7gQgwZuAW8GOTpDDnwXgUsCTCqZY\n",
       "UnAoYG2H8m8Y4DAhGCLAm4PTDZqQ0LuAUwETyGzWuXjCYREQMzugKlg5c+aMmTOnQ4TCgPg6IiQF\n",
       "MEMfiENRhQDGli3Ej4aUFgAAAABJRU5ErkJggg==\n",
       "\" style=\"display:inline;vertical-align:middle;\" /></a></td></tr>\n",
       "<tr><td>4</td><td>Operation</td><td>operator:&nbsp;6<br>operands:&nbsp;7<br></td><td><a class=\"ProveItLink\" href=\"../6e7fbb0aa1475f8ee56bd3700d557b1fe713839b0/expr.ipynb\"><img src=\"data:image/png;base64,iVBORw0KGgoAAAANSUhEUgAAALUAAAAVBAMAAADyYbJ0AAAAMFBMVEX////c3NwiIiJERESqqqqY\n",
       "mJh2dnZmZmYQEBDu7u4yMjJUVFTMzMyIiIi6uroAAAAs73DqAAAAAXRSTlMAQObYZgAAAYdJREFU\n",
       "OMu1lTFLw0AUx581aas5i6sVobSLoxXc3fwGjtJFOgki0tmhc8gondqhShbpR3DSoUs+gEPpqAhu\n",
       "bsXeeyn1Lv+QQzDQvHt3/98/17vcC9F/XrWkUHLxV2bKzQM0ftPUV4sqz9bAlCo81DxCGHsxE3P+\n",
       "mvN46R+m2V4amVHXRcxOkvWObN15mj1KEMb0Rkw1ynrHtu5eEnUsYmFMb8S8U9b7w9ZtnnIIPuVP\n",
       "CmN6I6YHvMuJpSuLzYAaHHvAGzFjwzvd/m9L58lmXtItx7Hhnc+EYN7kPZm62h2HBtU5hmDeiFkg\n",
       "bxqEhk596bufUMBv+gJ5AwZ6q4cIeJciUpNcb8D00Xq3IrQmZ8vfSDf6aL0BcwLm7U2sffF5L0ep\n",
       "f8qY80ZMF3jXCb2DShePkk67wBsxc6lJh7omra72WvfC9+2ZPjmz1XGfi3fnt3d7Xd/Ea8lUd7PF\n",
       "xi57cuZr3NQPcGX8jkONvzJTZyYulm0NrQ5XZr9YF9hr4MpsFH+f3uwON+YHVNJ7lJAfIlEAAAAA\n",
       "SUVORK5CYII=\n",
       "\" style=\"display:inline;vertical-align:middle;\" /></a></td></tr>\n",
       "<tr><td>5</td><td>Literal</td><td></td><td><a class=\"ProveItLink\" href=\"../9817cf888369307f52607b98db5e99fdc17b089e0/expr.ipynb\"><img src=\"data:image/png;base64,iVBORw0KGgoAAAANSUhEUgAAABQAAAANBAMAAABbflNtAAAAKlBMVEX///+qqqpUVFS6urru7u4i\n",
       "IiIQEBDc3NxERESIiIhmZmbMzMwyMjIAAAAneYQxAAAAAXRSTlMAQObYZgAAAFpJREFUCNdjYEAB\n",
       "BxgYuBeAWZwTgEQ7mLkHRNSACO60UCCIPQJkznEAy9kYMLg1QPSyJzGwaEGYNUDNjKFgEA7iC4EI\n",
       "1wIQySUAJJTBqliAtrFDNW8AcoEmAgB4jw/0RzyxkgAAAABJRU5ErkJggg==\n",
       "\" style=\"display:inline;vertical-align:middle;\" /></a></td></tr>\n",
       "<tr><td>6</td><td>Literal</td><td></td><td><a class=\"ProveItLink\" href=\"../../../conjunction/__pv_it/76b5f4f4c45c0b6a9b59b297fc07dfa9555698f50/expr.ipynb\"><img src=\"data:image/png;base64,iVBORw0KGgoAAAANSUhEUgAAAAwAAAAOBAMAAADpk+DfAAAALVBMVEX///+qqqqYmJh2dnaIiIi6\n",
       "urpUVFQiIiJERETMzMxmZmYyMjLu7u7c3NwAAABvwqPxAAAAAXRSTlMAQObYZgAAAEtJREFUCNdj\n",
       "YGDgPcAAAtwLwNSMGjCV6gIieTawgyhmBS4BIMXOwLsBSKkwMGQCKaC6aQwMjEBd3BdACMScAVJd\n",
       "wJAKolwYAkAUKwAk0guX6efcigAAAABJRU5ErkJggg==\n",
       "\" style=\"display:inline;vertical-align:middle;\" /></a></td></tr>\n",
       "<tr><td>7</td><td>ExprTuple</td><td>8, 9</td><td><a class=\"ProveItLink\" href=\"../8ed484d90d713dd7af84ea602baf09b346f846ac0/expr.ipynb\"><img src=\"data:image/png;base64,iVBORw0KGgoAAAANSUhEUgAAAJcAAAAVBAMAAAC5yWGZAAAAMFBMVEX////c3NwiIiJERESqqqqY\n",
       "mJh2dnZmZmYQEBDu7u4yMjJUVFTMzMyIiIi6uroAAAAs73DqAAAAAXRSTlMAQObYZgAAASlJREFU\n",
       "OMtjYKAq4LtAHXPiQMRpMFMWm3yREggog9nsYLaSATZ1YM3sB4DESjD/OA77kMV5CvAqWsDAwHsB\n",
       "07AJxBiGoSiMgYFjAqZhK4kxDEPRDAaGV5iaGF4TYxiGImYHhjIshrFdIMIwDEVsBQxLUTRB4+w7\n",
       "XsNwKGJZwNCHxWUMLOuIiE10RXwNDP+wGcYwq4+IpIGmiOcDdsN4lk0gbBi6IqBhLdjCTHkCEWGG\n",
       "rgjoTVMsLmPZgBq2nNhchq6IgXUBQzoWw6TQktB8BSyGoSsCJY1HkAytAcvQIGCIUHcMnLY/QgxL\n",
       "QDbMEFEaQDRzPWDgEMDMuAfQBR4yEKEImJ1YE4goqwKIKdByUTMsRYZxAosgBmnC6niJcRg3KLwY\n",
       "qVRs32FgAABwBVpmKOh66QAAAABJRU5ErkJggg==\n",
       "\" style=\"display:inline;vertical-align:middle;\" /></a></td></tr>\n",
       "<tr><td>8</td><td>Operation</td><td>operator:&nbsp;11<br>operands:&nbsp;10<br></td><td><a class=\"ProveItLink\" href=\"../5c89411a8c468da13cdc01880daaa573c582a8db0/expr.ipynb\"><img src=\"data:image/png;base64,iVBORw0KGgoAAAANSUhEUgAAAD8AAAAPBAMAAAChCwpBAAAALVBMVEX///+qqqp2dnZUVFS6uroy\n",
       "MjLu7u5EREQQEBAiIiJmZmbMzMyIiIjc3NwAAAAGhiwUAAAAAXRSTlMAQObYZgAAAGVJREFUGNNj\n",
       "YGBguMOABXDNBIMCEHsXA3bAvQDKQFHARkgBawIBBSwGBBQw6OBWsBLs7nkLCJjAIOpAQAFbhAN+\n",
       "BVvV8LthZhkBNwgT8CZvAJoCoLkzZs6cDhdlv4BQoIA1htD4AF7PJ5Q+t8orAAAAAElFTkSuQmCC\n",
       "\" style=\"display:inline;vertical-align:middle;\" /></a></td></tr>\n",
       "<tr><td>9</td><td>Operation</td><td>operator:&nbsp;11<br>operands:&nbsp;12<br></td><td><a class=\"ProveItLink\" href=\"../c65898187aa5a4404b8e436d28e20f1178f211670/expr.ipynb\"><img src=\"data:image/png;base64,iVBORw0KGgoAAAANSUhEUgAAAD8AAAAPBAMAAAChCwpBAAAALVBMVEX////c3NwQEBCqqqqIiIhU\n",
       "VFS6uroyMjLu7u52dnbMzMxEREQiIiJmZmYAAACG8MiSAAAAAXRSTlMAQObYZgAAAGJJREFUGNNj\n",
       "uHMGBE4zYAGMDlDGWgbsgOsCNgUchBSwNxBQwBZAQAHDFNwKIB46d4GACQzmCQQUcBQl4FewfAZ+\n",
       "N5zZQcANpgS8yViAqWAlsgJuAQjNC7RM58yZDZgxhMYHACe9L414BCJLAAAAAElFTkSuQmCC\n",
       "\" style=\"display:inline;vertical-align:middle;\" /></a></td></tr>\n",
       "<tr><td>10</td><td>ExprTuple</td><td>14, 13</td><td><a class=\"ProveItLink\" href=\"../f33a8d5708d13f20cb034555a092a5521deab66a0/expr.ipynb\"><img src=\"data:image/png;base64,iVBORw0KGgoAAAANSUhEUgAAADUAAAAVBAMAAAAUZLt1AAAAMFBMVEX////c3NwiIiJERESqqqqY\n",
       "mJh2dnZmZmYQEBDu7u4yMjJUVFTMzMyIiIi6uroAAAAs73DqAAAAAXRSTlMAQObYZgAAALBJREFU\n",
       "KM9jYMAH+C5gFY4DEadBBCNcQZESCCgzsB8AclaCRHgKkLQcB5MLGBh4L+CQC2Ng4JiAQ24GA8Mr\n",
       "BhxyzA4MZbjk2AoYluKSY1nA0IdLjq+B4R8uOZ4PeOVa8JhpiiQ3AVmOdQFDOkKO8xOaHx4xMLAD\n",
       "A7dJScmAs18ALHoMTHI9YOAQQIouJDYozFgTEFxW5AjMhcURphwnMI4YpBF85BTALYAS5SjgDgMD\n",
       "AMUhLsE7xITaAAAAAElFTkSuQmCC\n",
       "\" style=\"display:inline;vertical-align:middle;\" /></a></td></tr>\n",
       "<tr><td>11</td><td>Literal</td><td></td><td><a class=\"ProveItLink\" href=\"../e5c030cabcb650938f92dee8256fe11cd12bf9b30/expr.ipynb\"><img src=\"data:image/png;base64,iVBORw0KGgoAAAANSUhEUgAAABMAAAANBAMAAAC5okgUAAAALVBMVEX////c3NxERETMzMwQEBCq\n",
       "qqoiIiJmZmaIiIh2dnZUVFS6uroyMjLu7u4AAACPpZJTAAAAAXRSTlMAQObYZgAAAD1JREFUCNdj\n",
       "YAABXgY44LkAZ3IvQAjPABFlaSCQV4AQjtkAZ/IegbNt5sLUpunC5aPgLMYDcCaTAJzJDCIA2yMN\n",
       "HCCUuIIAAAAASUVORK5CYII=\n",
       "\" style=\"display:inline;vertical-align:middle;\" /></a></td></tr>\n",
       "<tr><td>12</td><td>ExprTuple</td><td>13, 14</td><td><a class=\"ProveItLink\" href=\"../0f60990fe1c69084ca218cead46950bf14732b6a0/expr.ipynb\"><img src=\"data:image/png;base64,iVBORw0KGgoAAAANSUhEUgAAADUAAAAVBAMAAAAUZLt1AAAAMFBMVEX////c3NwiIiJERESqqqqY\n",
       "mJh2dnZmZmYQEBDu7u4yMjJUVFTMzMyIiIi6uroAAAAs73DqAAAAAXRSTlMAQObYZgAAALFJREFU\n",
       "KM9jYMAH+C5gFY4DEacZ2JXAwAAmLAsi2A8AiZUgFk8BkpbjYHIBAwPvBRxyYQwMHBNwyM1gYHjF\n",
       "gEOO2YGhDJccWwHDUlxyLAsY+nDJ8TUw/MMlx/MBr1wLHjNNkeQmIMuxLmBIR8hxfkLzwyOIXAJI\n",
       "rl+AgaFISUlDSUmZgYHrAQOHAFJ0IbFBYcaagOCyIkdgLiyOMOU4gXHEII3gI6cAbpD5jNjTxB0G\n",
       "BgCWci1ZX87w6gAAAABJRU5ErkJggg==\n",
       "\" style=\"display:inline;vertical-align:middle;\" /></a></td></tr>\n",
       "<tr><td>13</td><td>Literal</td><td></td><td><a class=\"ProveItLink\" href=\"../../../__pv_it/68a87cc3370287d726c7086ace789e680e4461c30/expr.ipynb\"><img src=\"data:image/png;base64,iVBORw0KGgoAAAANSUhEUgAAAA4AAAAOBAMAAADtZjDiAAAAFVBMVEX///92dnbMzMxEREQiIiJm\n",
       "ZmYAAABAT6GXAAAAAXRSTlMAQObYZgAAABhJREFUCNdjCHEBAWcGIFBlgABa0YpADAAxegPJJk4d\n",
       "XAAAAABJRU5ErkJggg==\n",
       "\" style=\"display:inline;vertical-align:middle;\" /></a></td></tr>\n",
       "<tr><td>14</td><td>Literal</td><td></td><td><a class=\"ProveItLink\" href=\"../../../__pv_it/8f1f7fac882de28c72b62ab80a1700b6d8fd066b0/expr.ipynb\"><img src=\"data:image/png;base64,iVBORw0KGgoAAAANSUhEUgAAAA4AAAAOBAMAAADtZjDiAAAAG1BMVEX///9EREQQEBAiIiJmZmbM\n",
       "zMyIiIjc3NwAAACryk5kAAAAAXRSTlMAQObYZgAAABlJREFUCNdjYGBgKGOAgBBa0s7GxkbGxoYA\n",
       "FMUF2aBfHgoAAAAASUVORK5CYII=\n",
       "\" style=\"display:inline;vertical-align:middle;\" /></a></td></tr>\n",
       "</table>\n"
      ],
      "text/plain": [
       "0. (FALSE <=> TRUE) = ((FALSE => TRUE) and (TRUE => FALSE))\n",
       "   core type: Operation\n",
       "   operator: 1\n",
       "   operands: 2\n",
       "1. =\n",
       "   core type: Literal\n",
       "   sub-expressions: \n",
       "2. (FALSE <=> TRUE , (FALSE => TRUE) and (TRUE => FALSE))\n",
       "   core type: ExprTuple\n",
       "   sub-expressions: 3, 4\n",
       "3. FALSE <=> TRUE\n",
       "   core type: Operation\n",
       "   operator: 5\n",
       "   operands: 10\n",
       "4. (FALSE => TRUE) and (TRUE => FALSE)\n",
       "   core type: Operation\n",
       "   operator: 6\n",
       "   operands: 7\n",
       "5. <=>\n",
       "   core type: Literal\n",
       "   sub-expressions: \n",
       "6. and\n",
       "   core type: Literal\n",
       "   sub-expressions: \n",
       "7. (FALSE => TRUE , TRUE => FALSE)\n",
       "   core type: ExprTuple\n",
       "   sub-expressions: 8, 9\n",
       "8. FALSE => TRUE\n",
       "   core type: Operation\n",
       "   operator: 11\n",
       "   operands: 10\n",
       "9. TRUE => FALSE\n",
       "   core type: Operation\n",
       "   operator: 11\n",
       "   operands: 12\n",
       "10. (FALSE , TRUE)\n",
       "    core type: ExprTuple\n",
       "    sub-expressions: 14, 13\n",
       "11. =>\n",
       "    core type: Literal\n",
       "    sub-expressions: \n",
       "12. (TRUE , FALSE)\n",
       "    core type: ExprTuple\n",
       "    sub-expressions: 13, 14\n",
       "13. TRUE\n",
       "    core type: Literal\n",
       "    sub-expressions: \n",
       "14. FALSE\n",
       "    core type: Literal\n",
       "    sub-expressions: "
      ]
     },
     "execution_count": 4,
     "metadata": {},
     "output_type": "execute_result"
    }
   ],
   "source": [
    "# display the expression information\n",
    "expr.exprInfo()"
   ]
  },
  {
   "cell_type": "code",
   "execution_count": null,
   "metadata": {},
   "outputs": [],
   "source": []
  }
 ],
 "metadata": {
  "kernelspec": {
   "display_name": "Python 3",
   "language": "python",
   "name": "python3"
  }
 },
 "nbformat": 4,
 "nbformat_minor": 0
}
