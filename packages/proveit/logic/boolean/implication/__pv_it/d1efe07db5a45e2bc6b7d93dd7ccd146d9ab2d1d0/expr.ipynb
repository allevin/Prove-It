{
 "cells": [
  {
   "cell_type": "markdown",
   "metadata": {},
   "source": [
    "Expression of type <a class=\"ProveItLink\" href=\"../../../../../../../doc/html/api/proveit.ExprTuple.html\">ExprTuple</a>\n",
    "=======================\n",
    "# from context <a class=\"ProveItLink\" href=\"../../_context_.ipynb\">proveit.logic.boolean.implication</a>"
   ]
  },
  {
   "cell_type": "code",
   "execution_count": 1,
   "metadata": {},
   "outputs": [],
   "source": [
    "# import Expression classes needed to build the expression\n",
    "from proveit import ExprTuple\n",
    "from proveit._common_ import B\n",
    "from proveit.logic import Booleans, FALSE, Implies, InSet"
   ]
  },
  {
   "cell_type": "code",
   "execution_count": 2,
   "metadata": {},
   "outputs": [
    {
     "data": {
      "text/html": [
       "<strong id=\"expr\">expr:</strong> <a class=\"ProveItLink\" href=\"expr.ipynb\"><img src=\"data:image/png;base64,iVBORw0KGgoAAAANSUhEUgAAANkAAAAVBAMAAAA5ulaKAAAAMFBMVEX////c3NwiIiJERESqqqqY\n",
       "mJh2dnZmZmYQEBDu7u4yMjJUVFTMzMyIiIi6uroAAAAs73DqAAAAAXRSTlMAQObYZgAAAkZJREFU\n",
       "SMdjYKAv4LtAJ4viQMRpII7+v3u31QMUuazP61coO8C5sthNQNGIxRRk3ewHgMRKEKsZyPmHqsLg\n",
       "LefKNDjvOA4Ho2jEYgqy7gUMDLyggOT5C8S/0W1juMeF3TZOOAtFI5opE9BtC2Ng4AAJ8n5kYGD9\n",
       "BjHplpLSAqhtrtwTsNrGBRdG0ojGgQYasu4ZDAyvQDRzAwMDUydY6FQkkt+EsfuNbwOMhaQRjcPA\n",
       "8BrdNmYHhjIQzb+BgXEx2MGMloiQ5FG1xBFvuTAGQiM6h4GB7QKabrYChqUg+vzeu0UBEPsF4LY9\n",
       "0v9xAcO2IiUQ0C+AchEakTnsYEVK39F0syxg6APR9wUYOLXBIpORU8ldZ1xp0gua0BEa0Tkg09eh\n",
       "6uZrYACnWAuQWrCzXoAcBUslzHwJOGzjXAGxDqERnQMCs/pQdPN8gNgGSrbxCbC8DvcbM4MBDttO\n",
       "ZUJohEZ0Dsj0ZRPQbWsBUV+BxH5wwTGJgG2QeFOCJh8kjcgcaLwpT8AISVNoRmH8BRbhDkC2DRiS\n",
       "E7D5zRsph4E0cjKgmgKJtg1osc66gCEdmlFOQDIjpx6SbeGXGTg/YbGNcQFSDgNpnK+AagoYSDFg\n",
       "5oBHQI/b/969aylMTQ28VDbqdmDg7BcAB58GMGDgmmHZBK5xxkc0U0DAEBH4EN1cDxg4BNBKUO9F\n",
       "SguQyw0BzEKWB0PkIZai+AC6ALDkYk3AXyuxElV3BRCjKBe18KStbZygIJPGr4aomp2XGEXcoDhh\n",
       "pFdL4Q4DAwCFCsipQsLT0gAAAABJRU5ErkJggg==\n",
       "\" style=\"display:inline;vertical-align:middle;\" /></a><br>"
      ],
      "text/plain": [
       "expr: (B in BOOLEANS , FALSE => B , B => FALSE)"
      ]
     },
     "execution_count": 2,
     "metadata": {},
     "output_type": "execute_result"
    }
   ],
   "source": [
    "# build up the expression from sub-expressions\n",
    "expr = ExprTuple(InSet(B, Booleans), Implies(FALSE, B), Implies(B, FALSE))"
   ]
  },
  {
   "cell_type": "code",
   "execution_count": 3,
   "metadata": {},
   "outputs": [
    {
     "name": "stdout",
     "output_type": "stream",
     "text": [
      "Passed sanity check: built 'expr' is the same as the stored Expression.\n"
     ]
    }
   ],
   "source": [
    "# check that the built expression is the same as the stored expression\n",
    "%check_expr"
   ]
  },
  {
   "cell_type": "code",
   "execution_count": 4,
   "metadata": {},
   "outputs": [
    {
     "data": {
      "text/html": [
       "<table><tr><th>&nbsp;</th><th>core type</th><th>sub-expressions</th><th>expression</th></tr>\n",
       "<tr><td>0</td><td>ExprTuple</td><td>1, 2, 3</td><td><a class=\"ProveItLink\" href=\"expr.ipynb\"><img src=\"data:image/png;base64,iVBORw0KGgoAAAANSUhEUgAAANkAAAAVBAMAAAA5ulaKAAAAMFBMVEX////c3NwiIiJERESqqqqY\n",
       "mJh2dnZmZmYQEBDu7u4yMjJUVFTMzMyIiIi6uroAAAAs73DqAAAAAXRSTlMAQObYZgAAAkZJREFU\n",
       "SMdjYKAv4LtAJ4viQMRpII7+v3u31QMUuazP61coO8C5sthNQNGIxRRk3ewHgMRKEKsZyPmHqsLg\n",
       "LefKNDjvOA4Ho2jEYgqy7gUMDLyggOT5C8S/0W1juMeF3TZOOAtFI5opE9BtC2Ng4AAJ8n5kYGD9\n",
       "BjHplpLSAqhtrtwTsNrGBRdG0ojGgQYasu4ZDAyvQDRzAwMDUydY6FQkkt+EsfuNbwOMhaQRjcPA\n",
       "8BrdNmYHhjIQzb+BgXEx2MGMloiQ5FG1xBFvuTAGQiM6h4GB7QKabrYChqUg+vzeu0UBEPsF4LY9\n",
       "0v9xAcO2IiUQ0C+AchEakTnsYEVK39F0syxg6APR9wUYOLXBIpORU8ldZ1xp0gua0BEa0Tkg09eh\n",
       "6uZrYACnWAuQWrCzXoAcBUslzHwJOGzjXAGxDqERnQMCs/pQdPN8gNgGSrbxCbC8DvcbM4MBDttO\n",
       "ZUJohEZ0Dsj0ZRPQbWsBUV+BxH5wwTGJgG2QeFOCJh8kjcgcaLwpT8AISVNoRmH8BRbhDkC2DRiS\n",
       "E7D5zRsph4E0cjKgmgKJtg1osc66gCEdmlFOQDIjpx6SbeGXGTg/YbGNcQFSDgNpnK+AagoYSDFg\n",
       "5oBHQI/b/969aylMTQ28VDbqdmDg7BcAB58GMGDgmmHZBK5xxkc0U0DAEBH4EN1cDxg4BNBKUO9F\n",
       "SguQyw0BzEKWB0PkIZai+AC6ALDkYk3AXyuxElV3BRCjKBe18KStbZygIJPGr4aomp2XGEXcoDhh\n",
       "pFdL4Q4DAwCFCsipQsLT0gAAAABJRU5ErkJggg==\n",
       "\" style=\"display:inline;vertical-align:middle;\" /></a></td></tr>\n",
       "<tr><td>1</td><td>Operation</td><td>operator:&nbsp;4<br>operands:&nbsp;5<br></td><td><a class=\"ProveItLink\" href=\"../41a86ef0ff9417c73c472e1bdfa161b308e2753e0/expr.ipynb\"><img src=\"data:image/png;base64,iVBORw0KGgoAAAANSUhEUgAAADcAAAAPBAMAAACy3Eq1AAAAMFBMVEX///+qqqru7u4iIiJ2dnbc\n",
       "3NyIiIjMzMxmZmYQEBC6uroyMjJERERUVFSYmJgAAADLUcuvAAAAAXRSTlMAQObYZgAAAOZJREFU\n",
       "GNNjYGB4+//u3dMLGJCB95/9O20EwMw5DAwcv1AkGQ4sY9rkAmKwfwPiv+iSDFncIAbbVwYGvi9g\n",
       "MbXNxtYwSTleBSCDZwIDA/MksBn7FJB0xoAY/BcYWPeARWMUEMay2x0CMeqvpTU/AAsdRdi52P5n\n",
       "AoiRH8DAZAtiMB1AdlCaDIhxEqQApJVrsrExwkE8XA5ABsgX70EM9gvIOnkYgAax/wNy7oOCg8kA\n",
       "QxLkTdbfYKF7KJIgY0HerNwEFlJegCT5IgcYquf/3r29DyLEuqMAHvCH5wqghigD422oayEAAEv1\n",
       "Sz0foy5uAAAAAElFTkSuQmCC\n",
       "\" style=\"display:inline;vertical-align:middle;\" /></a></td></tr>\n",
       "<tr><td>2</td><td>Operation</td><td>operator:&nbsp;7<br>operands:&nbsp;6<br></td><td><a class=\"ProveItLink\" href=\"../6f60b7f2c9ff0a32b6e247c74b101c03fea000df0/expr.ipynb\"><img src=\"data:image/png;base64,iVBORw0KGgoAAAANSUhEUgAAAEAAAAAPBAMAAACmSdRUAAAAMFBMVEX///+YmJiqqqp2dnZUVFS6\n",
       "uroyMjLu7u5EREQQEBAiIiJmZmbMzMyIiIjc3NwAAAD9x+WiAAAAAXRSTlMAQObYZgAAALNJREFU\n",
       "GNNjYGBgeMuAFYj8d3FpCwCxTmNXwDCDgYH7K4YCdjiL5y8Qf8FQwFYAY/H+Y2Bg/IyhgNUBxuKY\n",
       "wMDANR3TDbYwBr8DA19GAbKCXatAYP0GKPe8791dAgxYfKEWAKHvP2BgX4JNAXsmREUnSJEAFgXH\n",
       "zCE0yIfyBphuWNUODYaPQMJfAdMEFaRg4PuG6Qa+BKRgOJkONnflqlUr4Ao4HkBo7v4vLm6JWGKI\n",
       "B40PAHB/OKjNNdtTAAAAAElFTkSuQmCC\n",
       "\" style=\"display:inline;vertical-align:middle;\" /></a></td></tr>\n",
       "<tr><td>3</td><td>Operation</td><td>operator:&nbsp;7<br>operands:&nbsp;8<br></td><td><a class=\"ProveItLink\" href=\"../835b1d39462fab0430f60668935b15097d0255760/expr.ipynb\"><img src=\"data:image/png;base64,iVBORw0KGgoAAAANSUhEUgAAAEAAAAAPBAMAAACmSdRUAAAAMFBMVEX///+qqqru7u4iIiJ2dnbc\n",
       "3NyIiIjMzMxmZmYQEBC6uroyMjJERERUVFSYmJgAAADLUcuvAAAAAXRSTlMAQObYZgAAALhJREFU\n",
       "GNNjYGB4+//u3dMLGLCAMCg9h4GB4xc2BRUQiv0bEP+FizJhKGD7ysDA9wUuyq2AroBnAgMD8yS4\n",
       "KNcFdAX8FxhY9yC0MbihK6i/ltb8AMxqNgYB+wY0BfkBDEy2yI6XXoCq4CRI0QMkBUw7F6AoAPnw\n",
       "vQOSgmonFBPY/wGJ+wIINxgfQnUDKBhYfyMZIIvmC1AwVG5CyLNuQFXAcf7v3dv7kAzgCWCA+dnS\n",
       "2NgGM4bYUbkAa+cxxpnXojYAAAAASUVORK5CYII=\n",
       "\" style=\"display:inline;vertical-align:middle;\" /></a></td></tr>\n",
       "<tr><td>4</td><td>Literal</td><td></td><td><a class=\"ProveItLink\" href=\"../../../../set_theory/membership/__pv_it/088cbc857536a28d4119ad9639a84270ccb0545d0/expr.ipynb\"><img src=\"data:image/png;base64,iVBORw0KGgoAAAANSUhEUgAAAAwAAAAMBAMAAACkW0HUAAAALVBMVEX///+qqqpmZmZUVFQQEBC6\n",
       "urpERETc3NyYmJjMzMwiIiIyMjKIiIju7u4AAACYsrA9AAAAAXRSTlMAQObYZgAAADxJREFUCNdj\n",
       "YOA9vWrVBgaG2b0MQMCeCyIZ2ArA1DUwyRCyahVIyWQI7xaEYm4AU7xLIdxqTQgtvGvVBgCkcQ7e\n",
       "geM/tQAAAABJRU5ErkJggg==\n",
       "\" style=\"display:inline;vertical-align:middle;\" /></a></td></tr>\n",
       "<tr><td>5</td><td>ExprTuple</td><td>10, 9</td><td><a class=\"ProveItLink\" href=\"../46fef8cd01e90537d7ca36d1ba2c809996ed4b3a0/expr.ipynb\"><img src=\"data:image/png;base64,iVBORw0KGgoAAAANSUhEUgAAADQAAAAVBAMAAAD7ptBLAAAAMFBMVEX////c3NwiIiJERESqqqqY\n",
       "mJh2dnZmZmYQEBDu7u4yMjJUVFTMzMyIiIi6uroAAAAs73DqAAAAAXRSTlMAQObYZgAAASVJREFU\n",
       "KM9jYMAD+C5gE2V9ACROA3H0/927rR6AxbI+r1+h7MDAUANkrwQJNDMwsP+DqDd4y7kyjYGBi4GB\n",
       "F2Qez18g/g2TYrgHFGdNYOCYAOTyfgSyv8GlXLknMHA2MLwCcZkbGBiYOhG6hIG0CUMZiMu/gYFx\n",
       "8QSYFI+qJZBOZ1gK4p7fe7coAOpsg0f6P0D2ezH0gbj3BRg4tRngBt51BtIvGMBOtgBJB8ClmPkS\n",
       "gCZBpEDujk9ASDEYgKRaQN76CiT2O6BKvWAwhXqL8RcDAyeygVFAN0K8dQIYYPMVIFLhl8GOfwQM\n",
       "Pfvfu3eBPDHjIzh4jbpBZq9j4BBAioqHCCYwoFgTkKQCEEy2C9BIwZSaBcTSCC4vkqqNQMyINQHw\n",
       "HmAAAHCOVkQeB6BvAAAAAElFTkSuQmCC\n",
       "\" style=\"display:inline;vertical-align:middle;\" /></a></td></tr>\n",
       "<tr><td>6</td><td>ExprTuple</td><td>11, 10</td><td><a class=\"ProveItLink\" href=\"../32fa11e0d460a97a7d19a4fd36e0b53258163d570/expr.ipynb\"><img src=\"data:image/png;base64,iVBORw0KGgoAAAANSUhEUgAAADYAAAAVBAMAAAD/UwB2AAAAMFBMVEX////c3NwiIiJERESqqqqY\n",
       "mJh2dnZmZmYQEBDu7u4yMjJUVFTMzMyIiIi6uroAAAAs73DqAAAAAXRSTlMAQObYZgAAAPtJREFU\n",
       "KM9jYMAH+C5gFWZ9ACROg1iMCAWs+3/v3ryOgaEGyF4JEuApQOjgMGBgqH/AwMXAwHsBXe48UOT8\n",
       "BgbWBAaOCehy9wUYGOITGDgbGF4xoMtZALEGUIcJQxmG3G8GBilLIJ3OsBRdjuf33euqIIYXQx+6\n",
       "HO9HBoZJG4CMFwz/0OWYG4DyX0HuxZTjB+ph/QaWa0GXOx/AwMD9BWymKZLcBJj35BcAGVFAl8Ll\n",
       "OD9BvcfTNQHsh0cMDOxKSkpNSkoGnP1ALcX/d+9eFQBStI6BQwApupDYoDADBikiepAjkO0CNI6w\n",
       "yM0CYmkEFyUFbESNcmTAe4ABAJ4xQRO/+5dLAAAAAElFTkSuQmCC\n",
       "\" style=\"display:inline;vertical-align:middle;\" /></a></td></tr>\n",
       "<tr><td>7</td><td>Literal</td><td></td><td><a class=\"ProveItLink\" href=\"../e5c030cabcb650938f92dee8256fe11cd12bf9b30/expr.ipynb\"><img src=\"data:image/png;base64,iVBORw0KGgoAAAANSUhEUgAAABMAAAANBAMAAAC5okgUAAAALVBMVEX////c3NxERETMzMwQEBCq\n",
       "qqoiIiJmZmaIiIh2dnZUVFS6uroyMjLu7u4AAACPpZJTAAAAAXRSTlMAQObYZgAAAD1JREFUCNdj\n",
       "YAABXgY44LkAZ3IvQAjPABFlaSCQV4AQjtkAZ/IegbNt5sLUpunC5aPgLMYDcCaTAJzJDCIA2yMN\n",
       "HCCUuIIAAAAASUVORK5CYII=\n",
       "\" style=\"display:inline;vertical-align:middle;\" /></a></td></tr>\n",
       "<tr><td>8</td><td>ExprTuple</td><td>10, 11</td><td><a class=\"ProveItLink\" href=\"../25967a172fcd6c24495155e4ca7b42be9ebe38700/expr.ipynb\"><img src=\"data:image/png;base64,iVBORw0KGgoAAAANSUhEUgAAADYAAAAVBAMAAAD/UwB2AAAAMFBMVEX////c3NwiIiJERESqqqqY\n",
       "mJh2dnZmZmYQEBDu7u4yMjJUVFTMzMyIiIi6uroAAAAs73DqAAAAAXRSTlMAQObYZgAAAPZJREFU\n",
       "KM9jYMAH+C5gFWZ9ACROA3H0/927rR7AhBnBqmuAeCWI0czAwP4PJsdTACK5GBh4QYp4/gLxb1Q5\n",
       "1gQGjglAmvcjkP0NVY6zgeEViGZuYGBg6kSVYzBhKANR/BsYGBdPQJNLZ1gKos7vvVsUwIAm58XQ\n",
       "B6LuCzBwaqPLvWAAu9wCJB+AJnceIgdyfnwChlwLiPMVSOx3wDDTFOo9xl8MDBNQ5KKALoV478RK\n",
       "Bs5PaH54BAxJ+9+7dwH9wtkvAOQoKSk1KSkZMDCsY+AQQIouJDYozFgTkOIMOQLZLkDjCIvcLCCW\n",
       "RnBRUsBGeCxjAN4DDAB9IEBfqvNStwAAAABJRU5ErkJggg==\n",
       "\" style=\"display:inline;vertical-align:middle;\" /></a></td></tr>\n",
       "<tr><td>9</td><td>Literal</td><td></td><td><a class=\"ProveItLink\" href=\"../../../__pv_it/46271c8230be96415d662709611f4ed2279d702b0/expr.ipynb\"><img src=\"data:image/png;base64,iVBORw0KGgoAAAANSUhEUgAAAA0AAAAOBAMAAAAGUYvhAAAAMFBMVEX///9mZmbMzMzc3NxUVFSY\n",
       "mJju7u6IiIi6urqqqqoiIiIQEBBEREQyMjJ2dnYAAAAQvcRZAAAAAXRSTlMAQObYZgAAAElJREFU\n",
       "CNdjePvn/u01ExgYGA60s117B6YZKngh9FSWBAjfBsxnWnoMRHet/10AkS+fA6F5OB5AaIYDqDRU\n",
       "PLCGgQFoz6ktExgAgLIl8DFvGtkAAAAASUVORK5CYII=\n",
       "\" style=\"display:inline;vertical-align:middle;\" /></a></td></tr>\n",
       "<tr><td>10</td><td>Variable</td><td></td><td><a class=\"ProveItLink\" href=\"../../../../../__pv_it/077b2ff79244fb4582cbe22c6e3356fa92a52f2f0/expr.ipynb\"><img src=\"data:image/png;base64,iVBORw0KGgoAAAANSUhEUgAAABAAAAAOBAMAAADUAYG5AAAAMFBMVEX///+qqqru7u4iIiJ2dnbc\n",
       "3NyIiIjMzMxmZmYQEBC6uroyMjJERERUVFSYmJgAAADLUcuvAAAAAXRSTlMAQObYZgAAAGpJREFU\n",
       "CNdjYGB4+//u3dMLGIBgDgMDxy8gzf4NiP8CGWxfGRj4vgAZPBMYGJgnARn8FxhY9ygAGfXX0pof\n",
       "gDTlBzAw2YIYJ0EckBBI53sHoBH/gIz7AhBjWH9DjancBLTl/N+7t/cxMAAA3u4f/5xagjYAAAAA\n",
       "SUVORK5CYII=\n",
       "\" style=\"display:inline;vertical-align:middle;\" /></a></td></tr>\n",
       "<tr><td>11</td><td>Literal</td><td></td><td><a class=\"ProveItLink\" href=\"../../../__pv_it/8f1f7fac882de28c72b62ab80a1700b6d8fd066b0/expr.ipynb\"><img src=\"data:image/png;base64,iVBORw0KGgoAAAANSUhEUgAAAA4AAAAOBAMAAADtZjDiAAAAG1BMVEX///9EREQQEBAiIiJmZmbM\n",
       "zMyIiIjc3NwAAACryk5kAAAAAXRSTlMAQObYZgAAABlJREFUCNdjYGBgKGOAgBBa0s7GxkbGxoYA\n",
       "FMUF2aBfHgoAAAAASUVORK5CYII=\n",
       "\" style=\"display:inline;vertical-align:middle;\" /></a></td></tr>\n",
       "</table>\n"
      ],
      "text/plain": [
       "0. (B in BOOLEANS , FALSE => B , B => FALSE)\n",
       "   core type: ExprTuple\n",
       "   sub-expressions: 1, 2, 3\n",
       "1. B in BOOLEANS\n",
       "   core type: Operation\n",
       "   operator: 4\n",
       "   operands: 5\n",
       "2. FALSE => B\n",
       "   core type: Operation\n",
       "   operator: 7\n",
       "   operands: 6\n",
       "3. B => FALSE\n",
       "   core type: Operation\n",
       "   operator: 7\n",
       "   operands: 8\n",
       "4. in\n",
       "   core type: Literal\n",
       "   sub-expressions: \n",
       "5. (B , BOOLEANS)\n",
       "   core type: ExprTuple\n",
       "   sub-expressions: 10, 9\n",
       "6. (FALSE , B)\n",
       "   core type: ExprTuple\n",
       "   sub-expressions: 11, 10\n",
       "7. =>\n",
       "   core type: Literal\n",
       "   sub-expressions: \n",
       "8. (B , FALSE)\n",
       "   core type: ExprTuple\n",
       "   sub-expressions: 10, 11\n",
       "9. BOOLEANS\n",
       "   core type: Literal\n",
       "   sub-expressions: \n",
       "10. B\n",
       "    core type: Variable\n",
       "    sub-expressions: \n",
       "11. FALSE\n",
       "    core type: Literal\n",
       "    sub-expressions: "
      ]
     },
     "execution_count": 4,
     "metadata": {},
     "output_type": "execute_result"
    }
   ],
   "source": [
    "# display the expression information\n",
    "expr.exprInfo()"
   ]
  },
  {
   "cell_type": "code",
   "execution_count": null,
   "metadata": {},
   "outputs": [],
   "source": []
  }
 ],
 "metadata": {
  "kernelspec": {
   "display_name": "Python 3",
   "language": "python",
   "name": "python3"
  }
 },
 "nbformat": 4,
 "nbformat_minor": 0
}
