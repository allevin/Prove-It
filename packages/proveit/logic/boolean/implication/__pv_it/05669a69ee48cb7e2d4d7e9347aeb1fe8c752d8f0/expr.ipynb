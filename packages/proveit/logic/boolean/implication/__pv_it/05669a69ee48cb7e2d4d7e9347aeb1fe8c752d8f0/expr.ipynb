{
 "cells": [
  {
   "cell_type": "markdown",
   "metadata": {},
   "source": [
    "Expression of type <a class=\"ProveItLink\" href=\"../../../../../../../doc/html/api/proveit.ExprTuple.html\">ExprTuple</a>\n",
    "=======================\n",
    "# from context <a class=\"ProveItLink\" href=\"../../_context_.ipynb\">proveit.logic.boolean.implication</a>"
   ]
  },
  {
   "cell_type": "code",
   "execution_count": 1,
   "metadata": {},
   "outputs": [],
   "source": [
    "# import Expression classes needed to build the expression\n",
    "from proveit import ExprTuple\n",
    "from proveit.logic import And, FALSE, TRUE\n",
    "from proveit.logic.boolean.implication._theorems_ import falseImpliesTrue"
   ]
  },
  {
   "cell_type": "code",
   "execution_count": 2,
   "metadata": {},
   "outputs": [
    {
     "data": {
      "text/html": [
       "<strong id=\"expr\">expr:</strong> <a class=\"ProveItLink\" href=\"expr.ipynb\"><img src=\"data:image/png;base64,iVBORw0KGgoAAAANSUhEUgAAAMgAAAAVBAMAAADx1rxcAAAAMFBMVEX////c3NwiIiJERESqqqqY\n",
       "mJh2dnZmZmYQEBDu7u4yMjJUVFTMzMyIiIi6uroAAAAs73DqAAAAAXRSTlMAQObYZgAAAgpJREFU\n",
       "SMe9lb9Lw0AUx1/6O2kau6oUSl10sogObt2EunRyEJQuIg5CEHFyqOLiIhmLi3EQdZG6SxEEBR3s\n",
       "H6AQnUQo6D8g5u6SJu/yJJ18kLvkm5f3udy9ewfwL2b0aL0f++XqUPHTjts8sTslQtI7rC1Rn21V\n",
       "mE1A9jYkRiJkuVelCrvuwyUPafrvRr1es1j78MfwhG6HBzWIoFhY0wAKPexy7vWvEIGoMmSJhGgm\n",
       "1tJNyFnIRZ/xxnEYhWiWBGmTkLsprKkt+MQu+b6YW8OOQoyOBEnWKEj3VdJmYQe7HENZLFszCoFN\n",
       "CZIxCYhqJyRtHc6wyxpsi6lpIIhIqGkTQ1I2Ack0sjWs1eEIu5RhjPc5h/gTqDsIYrQISAIUG2sf\n",
       "8INc0j3I8+wfISHqhROG6F8EZAXgBmvPEiRhebuQhjxuQCxkytvfYcgBcllwr1M+XTViTSrzEDtd\n",
       "KbfXitJ0zSGXUw8EyQbxJ4tSdqXtYIv6ERggZSJt2c2v0KNe5SsXZCeCKDaVwidlBLkT6YNT+F2U\n",
       "sn1WyiDPVoIXGqPM52iSFULfksXB7b0YNXNvf4cjQDeoSaCLzXYFuWJ4T/OWr/letCrqsiDKyhvS\n",
       "nCCOn5ItVr5IWxriqBAVoBHjlel5pT5qoWr4l6n2UJBj9xqnXymdWEiez3Qhzu2aPBSFlWIhL0Md\n",
       "v4Vb+AX/RoM8ed+RwwAAAABJRU5ErkJggg==\n",
       "\" style=\"display:inline;vertical-align:middle;\" /></a><br>"
      ],
      "text/plain": [
       "expr: (FALSE and (FALSE => TRUE) , FALSE and TRUE)"
      ]
     },
     "execution_count": 2,
     "metadata": {},
     "output_type": "execute_result"
    }
   ],
   "source": [
    "# build up the expression from sub-expressions\n",
    "expr = ExprTuple(And(FALSE, falseImpliesTrue.expr), And(FALSE, TRUE))"
   ]
  },
  {
   "cell_type": "code",
   "execution_count": 3,
   "metadata": {},
   "outputs": [
    {
     "name": "stdout",
     "output_type": "stream",
     "text": [
      "Passed sanity check: built 'expr' is the same as the stored Expression.\n"
     ]
    }
   ],
   "source": [
    "# check that the built expression is the same as the stored expression\n",
    "%check_expr"
   ]
  },
  {
   "cell_type": "code",
   "execution_count": 4,
   "metadata": {},
   "outputs": [
    {
     "data": {
      "text/html": [
       "<table><tr><th>&nbsp;</th><th>core type</th><th>sub-expressions</th><th>expression</th></tr>\n",
       "<tr><td>0</td><td>ExprTuple</td><td>1, 2</td><td><a class=\"ProveItLink\" href=\"expr.ipynb\"><img src=\"data:image/png;base64,iVBORw0KGgoAAAANSUhEUgAAAMgAAAAVBAMAAADx1rxcAAAAMFBMVEX////c3NwiIiJERESqqqqY\n",
       "mJh2dnZmZmYQEBDu7u4yMjJUVFTMzMyIiIi6uroAAAAs73DqAAAAAXRSTlMAQObYZgAAAgpJREFU\n",
       "SMe9lb9Lw0AUx1/6O2kau6oUSl10sogObt2EunRyEJQuIg5CEHFyqOLiIhmLi3EQdZG6SxEEBR3s\n",
       "H6AQnUQo6D8g5u6SJu/yJJ18kLvkm5f3udy9ewfwL2b0aL0f++XqUPHTjts8sTslQtI7rC1Rn21V\n",
       "mE1A9jYkRiJkuVelCrvuwyUPafrvRr1es1j78MfwhG6HBzWIoFhY0wAKPexy7vWvEIGoMmSJhGgm\n",
       "1tJNyFnIRZ/xxnEYhWiWBGmTkLsprKkt+MQu+b6YW8OOQoyOBEnWKEj3VdJmYQe7HENZLFszCoFN\n",
       "CZIxCYhqJyRtHc6wyxpsi6lpIIhIqGkTQ1I2Ack0sjWs1eEIu5RhjPc5h/gTqDsIYrQISAIUG2sf\n",
       "8INc0j3I8+wfISHqhROG6F8EZAXgBmvPEiRhebuQhjxuQCxkytvfYcgBcllwr1M+XTViTSrzEDtd\n",
       "KbfXitJ0zSGXUw8EyQbxJ4tSdqXtYIv6ERggZSJt2c2v0KNe5SsXZCeCKDaVwidlBLkT6YNT+F2U\n",
       "sn1WyiDPVoIXGqPM52iSFULfksXB7b0YNXNvf4cjQDeoSaCLzXYFuWJ4T/OWr/letCrqsiDKyhvS\n",
       "nCCOn5ItVr5IWxriqBAVoBHjlel5pT5qoWr4l6n2UJBj9xqnXymdWEiez3Qhzu2aPBSFlWIhL0Md\n",
       "v4Vb+AX/RoM8ed+RwwAAAABJRU5ErkJggg==\n",
       "\" style=\"display:inline;vertical-align:middle;\" /></a></td></tr>\n",
       "<tr><td>1</td><td>Operation</td><td>operator:&nbsp;4<br>operands:&nbsp;3<br></td><td><a class=\"ProveItLink\" href=\"../2ddbbe68a667684148f96bd480a536b44e22b99b0/expr.ipynb\"><img src=\"data:image/png;base64,iVBORw0KGgoAAAANSUhEUgAAAHQAAAAVBAMAAABlHNfrAAAAMFBMVEX///+qqqqYmJh2dna6urpU\n",
       "VFQyMjLu7u5EREQQEBAiIiJmZmbMzMyIiIjc3NwAAACSigvEAAAAAXRSTlMAQObYZgAAASpJREFU\n",
       "OMtjYKAyYLlASAWTA5h6iyFxFETwYdPPvQoMGhj2gLmn4RLPoXQ6iODZgN1CiDgbmtZsCMV7AVNr\n",
       "AZpWJgMUrTxdEAWcBZha09G0sk9A0crqC/GeGwOmVlc0rQyNKFrLGBaA6c1YtDJfQNNqjaLViGEj\n",
       "mE5C0QoN1N9oWsVQtC5geAamp2CxlYExBVWrJ7JWpgsMrAdAjC/YtDKUTUHReh5ZK1cBA08ATq08\n",
       "yQW4tUoDcR6IMRGbX1cU4HFwHlQ7QxMWWxkD0IJJDUkrTwPI0fBwR9P6jAEjcnatWrUS6BpQgnCA\n",
       "pUEviCtngZI5DPQhtIKTIEMKck4DkyD9nA8wE/0BND4kIWJmRgPCWZoZR5ZOJ6y1DIf4U8Ja43CI\n",
       "8xEsYHgPMAAAh3Nc3fFk23IAAAAASUVORK5CYII=\n",
       "\" style=\"display:inline;vertical-align:middle;\" /></a></td></tr>\n",
       "<tr><td>2</td><td>Operation</td><td>operator:&nbsp;4<br>operands:&nbsp;7<br></td><td><a class=\"ProveItLink\" href=\"../973ca44351004f8f16b0fdf2d4cbe7b1b7b903b30/expr.ipynb\"><img src=\"data:image/png;base64,iVBORw0KGgoAAAANSUhEUgAAADUAAAAPBAMAAAC2KZqIAAAAMFBMVEX///+qqqqYmJh2dna6urpU\n",
       "VFQyMjLu7u5EREQQEBAiIiJmZmbMzMyIiIjc3NwAAACSigvEAAAAAXRSTlMAQObYZgAAAHhJREFU\n",
       "GNNjYGBgeMuACrhXgUEDiH0aLvocxuDZAGUg5LJxy/F0FeCUY/W9gFOujGEBTjkjho045RYwPMMl\n",
       "x3SBgfUADjmuAgaeABxy0kCch0MuDyqPRY4HFIBcyHK7Vq1auWrVCpDPHYAEL8T3PAaowc8CJh0Q\n",
       "AgC2/yks/WNTawAAAABJRU5ErkJggg==\n",
       "\" style=\"display:inline;vertical-align:middle;\" /></a></td></tr>\n",
       "<tr><td>3</td><td>ExprTuple</td><td>8, 5</td><td><a class=\"ProveItLink\" href=\"../279c6df5d55065883bb6f0f6f8228d024c9a6e6e0/expr.ipynb\"><img src=\"data:image/png;base64,iVBORw0KGgoAAAANSUhEUgAAAGYAAAAVBAMAAABGR4Y+AAAAMFBMVEX////c3NwiIiJERESqqqqY\n",
       "mJh2dnZmZmYQEBDu7u4yMjJUVFTMzMyIiIi6uroAAAAs73DqAAAAAXRSTlMAQObYZgAAAPFJREFU\n",
       "OMtjYCAH8F0gSTnrAyBxGsRiRNYoi00tuxIYGDDUADkrQSI8BUjSx3FYAVHExcDAewG/Hk50PawJ\n",
       "DBwT8OvhmoCmh7OB4RUDfj18G9D0MJgwlBHQw5CLriedYSluPUXgkNIvQNPjxdBHyB4Grweoel4w\n",
       "/COoh3PFAxQ954nQcyqTAU1PCyH/KFkyoLvNFIk7AZs93ujhFgUMOTiX8xMWPYwLMMP6EST5NQGT\n",
       "H2e/ANhBGkpKynCFzAIIPQlgah0DhwBSnAtgSZjoAsC0w5qAlDeIyUBsF6B5gQQ9s4BYGsElKsdu\n",
       "RM+ihAHvAQYAypQ/GuoRitoAAAAASUVORK5CYII=\n",
       "\" style=\"display:inline;vertical-align:middle;\" /></a></td></tr>\n",
       "<tr><td>4</td><td>Literal</td><td></td><td><a class=\"ProveItLink\" href=\"../../../conjunction/__pv_it/76b5f4f4c45c0b6a9b59b297fc07dfa9555698f50/expr.ipynb\"><img src=\"data:image/png;base64,iVBORw0KGgoAAAANSUhEUgAAAAwAAAAOBAMAAADpk+DfAAAALVBMVEX///+qqqqYmJh2dnaIiIi6\n",
       "urpUVFQiIiJERETMzMxmZmYyMjLu7u7c3NwAAABvwqPxAAAAAXRSTlMAQObYZgAAAEtJREFUCNdj\n",
       "YGDgPcAAAtwLwNSMGjCV6gIieTawgyhmBS4BIMXOwLsBSKkwMGQCKaC6aQwMjEBd3BdACMScAVJd\n",
       "wJAKolwYAkAUKwAk0guX6efcigAAAABJRU5ErkJggg==\n",
       "\" style=\"display:inline;vertical-align:middle;\" /></a></td></tr>\n",
       "<tr><td>5</td><td>Operation</td><td>operator:&nbsp;6<br>operands:&nbsp;7<br></td><td><a class=\"ProveItLink\" href=\"../5c89411a8c468da13cdc01880daaa573c582a8db0/expr.ipynb\"><img src=\"data:image/png;base64,iVBORw0KGgoAAAANSUhEUgAAAD8AAAAPBAMAAAChCwpBAAAALVBMVEX///+qqqp2dnZUVFS6uroy\n",
       "MjLu7u5EREQQEBAiIiJmZmbMzMyIiIjc3NwAAAAGhiwUAAAAAXRSTlMAQObYZgAAAGVJREFUGNNj\n",
       "YGBguMOABXDNBIMCEHsXA3bAvQDKQFHARkgBawIBBSwGBBQw6OBWsBLs7nkLCJjAIOpAQAFbhAN+\n",
       "BVvV8LthZhkBNwgT8CZvAJoCoLkzZs6cDhdlv4BQoIA1htD4AF7PJ5Q+t8orAAAAAElFTkSuQmCC\n",
       "\" style=\"display:inline;vertical-align:middle;\" /></a></td></tr>\n",
       "<tr><td>6</td><td>Literal</td><td></td><td><a class=\"ProveItLink\" href=\"../e5c030cabcb650938f92dee8256fe11cd12bf9b30/expr.ipynb\"><img src=\"data:image/png;base64,iVBORw0KGgoAAAANSUhEUgAAABMAAAANBAMAAAC5okgUAAAALVBMVEX////c3NxERETMzMwQEBCq\n",
       "qqoiIiJmZmaIiIh2dnZUVFS6uroyMjLu7u4AAACPpZJTAAAAAXRSTlMAQObYZgAAAD1JREFUCNdj\n",
       "YAABXgY44LkAZ3IvQAjPABFlaSCQV4AQjtkAZ/IegbNt5sLUpunC5aPgLMYDcCaTAJzJDCIA2yMN\n",
       "HCCUuIIAAAAASUVORK5CYII=\n",
       "\" style=\"display:inline;vertical-align:middle;\" /></a></td></tr>\n",
       "<tr><td>7</td><td>ExprTuple</td><td>8, 9</td><td><a class=\"ProveItLink\" href=\"../f33a8d5708d13f20cb034555a092a5521deab66a0/expr.ipynb\"><img src=\"data:image/png;base64,iVBORw0KGgoAAAANSUhEUgAAADUAAAAVBAMAAAAUZLt1AAAAMFBMVEX////c3NwiIiJERESqqqqY\n",
       "mJh2dnZmZmYQEBDu7u4yMjJUVFTMzMyIiIi6uroAAAAs73DqAAAAAXRSTlMAQObYZgAAALBJREFU\n",
       "KM9jYMAH+C5gFY4DEadBBCNcQZESCCgzsB8AclaCRHgKkLQcB5MLGBh4L+CQC2Ng4JiAQ24GA8Mr\n",
       "BhxyzA4MZbjk2AoYluKSY1nA0IdLjq+B4R8uOZ4PeOVa8JhpiiQ3AVmOdQFDOkKO8xOaHx4xMLAD\n",
       "A7dJScmAs18ALHoMTHI9YOAQQIouJDYozFgTEFxW5AjMhcURphwnMI4YpBF85BTALYAS5SjgDgMD\n",
       "AMUhLsE7xITaAAAAAElFTkSuQmCC\n",
       "\" style=\"display:inline;vertical-align:middle;\" /></a></td></tr>\n",
       "<tr><td>8</td><td>Literal</td><td></td><td><a class=\"ProveItLink\" href=\"../../../__pv_it/8f1f7fac882de28c72b62ab80a1700b6d8fd066b0/expr.ipynb\"><img src=\"data:image/png;base64,iVBORw0KGgoAAAANSUhEUgAAAA4AAAAOBAMAAADtZjDiAAAAG1BMVEX///9EREQQEBAiIiJmZmbM\n",
       "zMyIiIjc3NwAAACryk5kAAAAAXRSTlMAQObYZgAAABlJREFUCNdjYGBgKGOAgBBa0s7GxkbGxoYA\n",
       "FMUF2aBfHgoAAAAASUVORK5CYII=\n",
       "\" style=\"display:inline;vertical-align:middle;\" /></a></td></tr>\n",
       "<tr><td>9</td><td>Literal</td><td></td><td><a class=\"ProveItLink\" href=\"../../../__pv_it/68a87cc3370287d726c7086ace789e680e4461c30/expr.ipynb\"><img src=\"data:image/png;base64,iVBORw0KGgoAAAANSUhEUgAAAA4AAAAOBAMAAADtZjDiAAAAFVBMVEX///92dnbMzMxEREQiIiJm\n",
       "ZmYAAABAT6GXAAAAAXRSTlMAQObYZgAAABhJREFUCNdjCHEBAWcGIFBlgABa0YpADAAxegPJJk4d\n",
       "XAAAAABJRU5ErkJggg==\n",
       "\" style=\"display:inline;vertical-align:middle;\" /></a></td></tr>\n",
       "</table>\n"
      ],
      "text/plain": [
       "0. (FALSE and (FALSE => TRUE) , FALSE and TRUE)\n",
       "   core type: ExprTuple\n",
       "   sub-expressions: 1, 2\n",
       "1. FALSE and (FALSE => TRUE)\n",
       "   core type: Operation\n",
       "   operator: 4\n",
       "   operands: 3\n",
       "2. FALSE and TRUE\n",
       "   core type: Operation\n",
       "   operator: 4\n",
       "   operands: 7\n",
       "3. (FALSE , FALSE => TRUE)\n",
       "   core type: ExprTuple\n",
       "   sub-expressions: 8, 5\n",
       "4. and\n",
       "   core type: Literal\n",
       "   sub-expressions: \n",
       "5. FALSE => TRUE\n",
       "   core type: Operation\n",
       "   operator: 6\n",
       "   operands: 7\n",
       "6. =>\n",
       "   core type: Literal\n",
       "   sub-expressions: \n",
       "7. (FALSE , TRUE)\n",
       "   core type: ExprTuple\n",
       "   sub-expressions: 8, 9\n",
       "8. FALSE\n",
       "   core type: Literal\n",
       "   sub-expressions: \n",
       "9. TRUE\n",
       "   core type: Literal\n",
       "   sub-expressions: "
      ]
     },
     "execution_count": 4,
     "metadata": {},
     "output_type": "execute_result"
    }
   ],
   "source": [
    "# display the expression information\n",
    "expr.exprInfo()"
   ]
  },
  {
   "cell_type": "code",
   "execution_count": null,
   "metadata": {},
   "outputs": [],
   "source": []
  }
 ],
 "metadata": {
  "kernelspec": {
   "display_name": "Python 3",
   "language": "python",
   "name": "python3"
  }
 },
 "nbformat": 4,
 "nbformat_minor": 0
}
