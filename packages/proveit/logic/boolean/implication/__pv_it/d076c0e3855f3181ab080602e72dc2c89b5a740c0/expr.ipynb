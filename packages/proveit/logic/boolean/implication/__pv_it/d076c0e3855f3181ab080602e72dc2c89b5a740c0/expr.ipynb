{
 "cells": [
  {
   "cell_type": "markdown",
   "metadata": {},
   "source": [
    "Theorem <a class=\"ProveItLink\" href=\"../../_theorems_.ipynb#iffFT\">iffFT</a> of type <a class=\"ProveItLink\" href=\"../../../../../../../doc/html/api/proveit.logic.Equals.html\">Equals</a>\n",
    "=======================\n",
    "# from context <a class=\"ProveItLink\" href=\"../../_context_.ipynb\">proveit.logic.boolean.implication</a>\n",
    "*** see <a class=\"ProveItLink\" href=\"dependencies.ipynb\">dependencies</a> ***"
   ]
  },
  {
   "cell_type": "code",
   "execution_count": 1,
   "metadata": {},
   "outputs": [],
   "source": [
    "# import the special expression\n",
    "from proveit.logic.boolean.implication._theorems_ import iffFT"
   ]
  },
  {
   "cell_type": "code",
   "execution_count": 2,
   "metadata": {},
   "outputs": [
    {
     "name": "stdout",
     "output_type": "stream",
     "text": [
      "Passed sanity check: built 'iffFT' is the same as the stored Expression.\n"
     ]
    }
   ],
   "source": [
    "# check that the built expression is the same as the stored expression\n",
    "%check_expr iffFT"
   ]
  },
  {
   "cell_type": "code",
   "execution_count": 3,
   "metadata": {},
   "outputs": [
    {
     "data": {
      "text/html": [
       "<table><tr><th>&nbsp;</th><th>core type</th><th>sub-expressions</th><th>expression</th></tr>\n",
       "<tr><td>0</td><td>Operation</td><td>operator:&nbsp;1<br>operands:&nbsp;2<br></td><td><a class=\"ProveItLink\" href=\"expr.ipynb\"><img src=\"data:image/png;base64,iVBORw0KGgoAAAANSUhEUgAAAHoAAAAVBAMAAAB71edYAAAAMFBMVEX////c3NwiIiJERESqqqqY\n",
       "mJh2dnZmZmYQEBDu7u4yMjJUVFTMzMyIiIi6uroAAAAs73DqAAAAAXRSTlMAQObYZgAAAQxJREFU\n",
       "OMtjYKAM8F0gqCQOt9RpMCmLTapICQSUGdgPYJGE6FgJJo/jMBsivgCXDO8FInSH4ZLhmICmG2gP\n",
       "TwGa7hm4dL9iQNUNdoshmm5mBxy6y9B0nwIRUmi62Qpw6F6KqpunAxTM+itRdbOAg61qFQisRpbp\n",
       "Q9V9CxIMrx6g6OZrwGH3PxTdMwwgNGM3im6eD0Tp5twOoaUuEKe7BdXlLODkpaTIgMXlsKSHJGOK\n",
       "FubeIGKSAKpu1gU47E5H080Oitp9xMbYI4iTNGBO4gRaw2gAV3MMTHI9wMw/YB0cAmgSwPzEOQFN\n",
       "bAauDMqaQEQZkItTZiVhzZwLcEpJE9bNLYBTipFwyXQHlwQAqlZO/hPwzGoAAAAASUVORK5CYII=\n",
       "\" style=\"display:inline;vertical-align:middle;\" /></a></td></tr>\n",
       "<tr><td>1</td><td>Literal</td><td></td><td><a class=\"ProveItLink\" href=\"../../../../equality/__pv_it/2fb26078095930560931daa0500ce419a39ea6cd0/expr.ipynb\"><img src=\"data:image/png;base64,iVBORw0KGgoAAAANSUhEUgAAAA4AAAAFBAMAAACHocAhAAAAFVBMVEX///9EREQiIiJUVFQyMjJm\n",
       "ZmYAAADubVkoAAAAAXRSTlMAQObYZgAAABRJREFUCNdjCHEBAWcGXCBICQQUAUpuAwlgGKrkAAAA\n",
       "AElFTkSuQmCC\n",
       "\" style=\"display:inline;vertical-align:middle;\" /></a></td></tr>\n",
       "<tr><td>2</td><td>ExprTuple</td><td>3, 6</td><td><a class=\"ProveItLink\" href=\"../6537d6709978d8702a296b7a28c9476db74cc7770/expr.ipynb\"><img src=\"data:image/png;base64,iVBORw0KGgoAAAANSUhEUgAAAGYAAAAVBAMAAABGR4Y+AAAAMFBMVEX////c3NwiIiJERESqqqqY\n",
       "mJh2dnZmZmYQEBDu7u4yMjJUVFTMzMyIiIi6uroAAAAs73DqAAAAAXRSTlMAQObYZgAAAQBJREFU\n",
       "OMtjYCAH8F0gSTnrAyBxGsRixKaRXQkMDGB8iKIaIF4JYvAUYDcVRRzC4WJg4L1Aoh7WBAaOCWhy\n",
       "C5B5WPRwNjC8QpMD22uIRw+DCUMZmtwpECGFT086w1JUOZ4OUFDpr8Sjx4uhD1XuFth7DK8e4Nbz\n",
       "guEfitwMaGQwduPWcx5ND+d2CC11AZ+eFlQ5FkjcKzLgc5spmpw3iJgkgKJsAoqeKGDIoephdwAS\n",
       "+1CM5vyEFtaPIGmxCZYWOYHpgBGeLHkSQEL9AsiK1jFwCKAlsQNARRPQsguyGmDaYU0gIs8gc9gu\n",
       "QPMCCXpmAbE0YT0oGXIjriyKG/AeYAAA8u5Cuf6ATxUAAAAASUVORK5CYII=\n",
       "\" style=\"display:inline;vertical-align:middle;\" /></a></td></tr>\n",
       "<tr><td>3</td><td>Operation</td><td>operator:&nbsp;4<br>operands:&nbsp;5<br></td><td><a class=\"ProveItLink\" href=\"../28a616c9a18309ee688e04adb90aa8662ed6a11f0/expr.ipynb\"><img src=\"data:image/png;base64,iVBORw0KGgoAAAANSUhEUgAAAD8AAAAPBAMAAAChCwpBAAAALVBMVEX///92dnaqqqpUVFS6urru\n",
       "7u4yMjJEREQQEBAiIiJmZmbMzMyIiIjc3NwAAABajTjNAAAAAXRSTlMAQObYZgAAAIFJREFUGNNj\n",
       "YGBguMOABXDNBIMCEHsXA3bAvQDKIEEBGwoPi4IzQMx+AbcC7gQgwZuAW8GOTpDDnwXgUsCTCqZY\n",
       "UnAoYG2H8m8Y4DAhGCLAm4PTDZqQ0LuAUwETyGzWuXjCYREQMzugKlg5c+aMmTOnQ4TCgPg6IiQF\n",
       "MEMfiENRhQDGli3Ej4aUFgAAAABJRU5ErkJggg==\n",
       "\" style=\"display:inline;vertical-align:middle;\" /></a></td></tr>\n",
       "<tr><td>4</td><td>Literal</td><td></td><td><a class=\"ProveItLink\" href=\"../9817cf888369307f52607b98db5e99fdc17b089e0/expr.ipynb\"><img src=\"data:image/png;base64,iVBORw0KGgoAAAANSUhEUgAAABQAAAANBAMAAABbflNtAAAAKlBMVEX///+qqqpUVFS6urru7u4i\n",
       "IiIQEBDc3NxERESIiIhmZmbMzMwyMjIAAAAneYQxAAAAAXRSTlMAQObYZgAAAFpJREFUCNdjYEAB\n",
       "BxgYuBeAWZwTgEQ7mLkHRNSACO60UCCIPQJkznEAy9kYMLg1QPSyJzGwaEGYNUDNjKFgEA7iC4EI\n",
       "1wIQySUAJJTBqliAtrFDNW8AcoEmAgB4jw/0RzyxkgAAAABJRU5ErkJggg==\n",
       "\" style=\"display:inline;vertical-align:middle;\" /></a></td></tr>\n",
       "<tr><td>5</td><td>ExprTuple</td><td>6, 7</td><td><a class=\"ProveItLink\" href=\"../f33a8d5708d13f20cb034555a092a5521deab66a0/expr.ipynb\"><img src=\"data:image/png;base64,iVBORw0KGgoAAAANSUhEUgAAADUAAAAVBAMAAAAUZLt1AAAAMFBMVEX////c3NwiIiJERESqqqqY\n",
       "mJh2dnZmZmYQEBDu7u4yMjJUVFTMzMyIiIi6uroAAAAs73DqAAAAAXRSTlMAQObYZgAAALBJREFU\n",
       "KM9jYMAH+C5gFY4DEadBBCNcQZESCCgzsB8AclaCRHgKkLQcB5MLGBh4L+CQC2Ng4JiAQ24GA8Mr\n",
       "BhxyzA4MZbjk2AoYluKSY1nA0IdLjq+B4R8uOZ4PeOVa8JhpiiQ3AVmOdQFDOkKO8xOaHx4xMLAD\n",
       "A7dJScmAs18ALHoMTHI9YOAQQIouJDYozFgTEFxW5AjMhcURphwnMI4YpBF85BTALYAS5SjgDgMD\n",
       "AMUhLsE7xITaAAAAAElFTkSuQmCC\n",
       "\" style=\"display:inline;vertical-align:middle;\" /></a></td></tr>\n",
       "<tr><td>6</td><td>Literal</td><td></td><td><a class=\"ProveItLink\" href=\"../../../__pv_it/8f1f7fac882de28c72b62ab80a1700b6d8fd066b0/expr.ipynb\"><img src=\"data:image/png;base64,iVBORw0KGgoAAAANSUhEUgAAAA4AAAAOBAMAAADtZjDiAAAAG1BMVEX///9EREQQEBAiIiJmZmbM\n",
       "zMyIiIjc3NwAAACryk5kAAAAAXRSTlMAQObYZgAAABlJREFUCNdjYGBgKGOAgBBa0s7GxkbGxoYA\n",
       "FMUF2aBfHgoAAAAASUVORK5CYII=\n",
       "\" style=\"display:inline;vertical-align:middle;\" /></a></td></tr>\n",
       "<tr><td>7</td><td>Literal</td><td></td><td><a class=\"ProveItLink\" href=\"../../../__pv_it/68a87cc3370287d726c7086ace789e680e4461c30/expr.ipynb\"><img src=\"data:image/png;base64,iVBORw0KGgoAAAANSUhEUgAAAA4AAAAOBAMAAADtZjDiAAAAFVBMVEX///92dnbMzMxEREQiIiJm\n",
       "ZmYAAABAT6GXAAAAAXRSTlMAQObYZgAAABhJREFUCNdjCHEBAWcGIFBlgABa0YpADAAxegPJJk4d\n",
       "XAAAAABJRU5ErkJggg==\n",
       "\" style=\"display:inline;vertical-align:middle;\" /></a></td></tr>\n",
       "</table>\n"
      ],
      "text/plain": [
       "0. (FALSE <=> TRUE) = FALSE\n",
       "   core type: Operation\n",
       "   operator: 1\n",
       "   operands: 2\n",
       "1. =\n",
       "   core type: Literal\n",
       "   sub-expressions: \n",
       "2. (FALSE <=> TRUE , FALSE)\n",
       "   core type: ExprTuple\n",
       "   sub-expressions: 3, 6\n",
       "3. FALSE <=> TRUE\n",
       "   core type: Operation\n",
       "   operator: 4\n",
       "   operands: 5\n",
       "4. <=>\n",
       "   core type: Literal\n",
       "   sub-expressions: \n",
       "5. (FALSE , TRUE)\n",
       "   core type: ExprTuple\n",
       "   sub-expressions: 6, 7\n",
       "6. FALSE\n",
       "   core type: Literal\n",
       "   sub-expressions: \n",
       "7. TRUE\n",
       "   core type: Literal\n",
       "   sub-expressions: "
      ]
     },
     "execution_count": 3,
     "metadata": {},
     "output_type": "execute_result"
    }
   ],
   "source": [
    "# display the expression information\n",
    "iffFT.exprInfo()"
   ]
  },
  {
   "cell_type": "code",
   "execution_count": null,
   "metadata": {},
   "outputs": [],
   "source": []
  }
 ],
 "metadata": {
  "kernelspec": {
   "display_name": "Python 3",
   "language": "python",
   "name": "python3"
  }
 },
 "nbformat": 4,
 "nbformat_minor": 0
}
