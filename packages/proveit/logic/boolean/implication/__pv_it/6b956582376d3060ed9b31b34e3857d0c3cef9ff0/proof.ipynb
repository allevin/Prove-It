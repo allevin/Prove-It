{
 "cells": [
  {
   "cell_type": "markdown",
   "metadata": {},
   "source": [
    "Show the Proof\n",
    "========"
   ]
  },
  {
   "cell_type": "code",
   "execution_count": 1,
   "metadata": {},
   "outputs": [
    {
     "data": {
      "text/html": [
       "<table><tr><th>&nbsp;</th><th>step type</th><th>requirements</th><th>statement</th></tr>\n",
       "<tr><td>0</td><td>assumption</td><td></td><td><span style=\"font-size:20px;\"><a class=\"ProveItLink\" href=\"../f7c145c9061cbbd5d4b6b2a3c0aec95bfad513960/expr.ipynb\"><img src=\"data:image/png;base64,iVBORw0KGgoAAAANSUhEUgAAAFMAAAAVBAMAAADInc9CAAAAMFBMVEX////c3NxERESqqqpUVFS6\n",
       "urrMzMwyMjIQEBCIiIh2dnYiIiLu7u5mZmaYmJgAAABXZE4RAAAAAXRSTlMAQObYZgAAAUhJREFU\n",
       "KM9jYGDgu8dACLCtEgBRPLsYCAO2ZhDJ+QFI8Pl/cXEqxa4sG0RcBxFcDSCSQ4GB4X4AVqX1IGIF\n",
       "Qmn+BCB2gEsfQKjk238AVel8oLvfL4DL1yCUCt8XQFWqAcQ7EGaFIJROmB+AqvQLA4O4DkKeawKM\n",
       "xXrA/gFMKW8BKDC+zJy7DyzFuxsM/sKUHgV7g+E9iJ0BMp/zIwPDaQckbzPDQi6AQf4CkGIHEilt\n",
       "IAEmoCs4/yEH0fFWSNi7uPgrgBjqQGdEJAAZ/EAT+X4hR08VxI+swCAHuZAbFDosIFY+UA/LZyS3\n",
       "boKGhgFQVQPMrVwboMEqX4DkVKi7GYFK2T+gBBYwWNnakaJIHOZikD/+ICu99N/FpfwBklMVIZRQ\n",
       "fyEDn/73CyhRgAYS0AVwK2XAqpSPKKXg9Mqzk5hcAIkQvsXE5S0AmTdbF0AiQnMAAAAASUVORK5C\n",
       "YII=\n",
       "\" style=\"display:inline;vertical-align:middle;\" /></a> <a class=\"ProveItLink\" href=\"proof.ipynb\" style=\"text-decoration: none\">&#x22A2;&nbsp;</a><a class=\"ProveItLink\" href=\"../39edb9fe2b7411693ffcf43a9bf0fb98391840e40/expr.ipynb\"><img src=\"data:image/png;base64,iVBORw0KGgoAAAANSUhEUgAAAEAAAAAPBAMAAACmSdRUAAAAMFBMVEX///+qqqru7u4iIiJ2dnbc\n",
       "3NyIiIjMzMxmZmYQEBC6uroyMjJERERUVFSYmJgAAADLUcuvAAAAAXRSTlMAQObYZgAAAOhJREFU\n",
       "GNNjYGB4+//u3dMLGLABdgMwNYeBgeMXVgXcH8DKvgHxX7ggE5KCx59AJNtXBga+LwhdCnAmq8RX\n",
       "EMUzgYGBeRJclOsCnMnGBraZ/wID6x6ENgY3OGsR4z8QVX8trfkBWKDZGATsG2CuWQByHgNDfgAD\n",
       "ky2y26WhfuZiYP0Bok+CFD1AUsC0E6Ki9u7dPyAa5MP3DkgKqp0gNFDZbFAwgBxyXwDhBuNDEHlG\n",
       "ILaEBgPrbyQDZKF0IBDvhwZD5SaEPOsGqEtA9HkFBo7zf+/e3odkAE8ARN3J3wEMb/7vwBKDqFwA\n",
       "TPY/hyWgimwAAAAASUVORK5CYII=\n",
       "\" style=\"display:inline;vertical-align:middle;\" /></a></span></td></tr>\n",
       "</table>"
      ],
      "text/plain": [
       "<proveit._core_.proof._ShowProof at 0x7f94eb2932b0>"
      ]
     },
     "execution_count": 1,
     "metadata": {},
     "output_type": "execute_result"
    }
   ],
   "source": [
    "import proveit\n",
    "%show_proof"
   ]
  },
  {
   "cell_type": "code",
   "execution_count": null,
   "metadata": {},
   "outputs": [],
   "source": []
  }
 ],
 "metadata": {
  "kernelspec": {
   "display_name": "Python 3",
   "language": "python",
   "name": "python3"
  }
 },
 "nbformat": 4,
 "nbformat_minor": 0
}
