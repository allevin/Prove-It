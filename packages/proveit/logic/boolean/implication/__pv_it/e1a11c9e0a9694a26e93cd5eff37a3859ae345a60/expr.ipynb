{
 "cells": [
  {
   "cell_type": "markdown",
   "metadata": {},
   "source": [
    "Expression of type <a class=\"ProveItLink\" href=\"../../../../../../../doc/html/api/proveit.ExprTuple.html\">ExprTuple</a>\n",
    "=======================\n",
    "# from context <a class=\"ProveItLink\" href=\"../../_context_.ipynb\">proveit.logic.boolean.implication</a>"
   ]
  },
  {
   "cell_type": "code",
   "execution_count": 1,
   "metadata": {},
   "outputs": [],
   "source": [
    "# import Expression classes needed to build the expression\n",
    "from proveit import ExprTuple\n",
    "from proveit.logic import And, FALSE, Implies, TRUE\n",
    "from proveit.logic.boolean.implication._theorems_ import falseImpliesTrue"
   ]
  },
  {
   "cell_type": "code",
   "execution_count": 2,
   "metadata": {},
   "outputs": [
    {
     "data": {
      "text/html": [
       "<strong id=\"expr\">expr:</strong> <a class=\"ProveItLink\" href=\"expr.ipynb\"><img src=\"data:image/png;base64,iVBORw0KGgoAAAANSUhEUgAAAUkAAAAVBAMAAAA5nwGjAAAAMFBMVEX////c3NwiIiJERESqqqqY\n",
       "mJh2dnZmZmYQEBDu7u4yMjJUVFTMzMyIiIi6uroAAAAs73DqAAAAAXRSTlMAQObYZgAAAs1JREFU\n",
       "SMfVV79rFEEUfnt3e3d7t1mvNRI4ksZUJmIKu3RCbK5KIShpJFgcBJFUFippbM4tw1WXImoaOXsJ\n",
       "gYCCFt4foLBcJUpAbOyCb9+bXHZm3s5u64O3O/vyvvm+mx9vJgD/h0UT9gJ7IOHc5icFCWelWIn5\n",
       "C3ljkWxFSl1IH40TI5riwJOkzvp6avWiWTiW42iPqYclYiXmI+UQ7uT8oE/0HPGHF6uoE8Pxlt1L\n",
       "alfVuxXr8TxW9LkJu8kYm/mbqmuV5cZw3N8SVb5R7+9gqQwkVvRmzG4yHpn5+/xxusxvN4bjwTNJ\n",
       "ZXhT/ZqXtspWLLCi/wR2k/GX2X91nV7HPAIFGBW/Jalsn/Fijka2ymgssKLvYnNXYKxPjPw6D8+o\n",
       "wkE3RsW3JZVD6PIm27JVQl9gRT/E5qHGqLboXyO/Rj+93mvwmLoxKr4hqXwIT3h2e1qct/WNHZsV\n",
       "fYDNgTAuUHun50e0yCrg8US5MSr+Q1LZhXle2YkwlrCRWKzo59g8lxhhONDyw9/p8z7AB/p0Y1T8\n",
       "q6DSn0Cbau8VUWXwNjFZ0XNVhq9jQeWyKucFGIfKSqzKuazy8yMQVO5hc09aY0uxMOM1zGl1oBDj\n",
       "mPE76Ac04+vCuly8DdKMr2FzTRiXmlkT/HQ9pgprlOfGqPi9TK2/UHOglEK1J4zlXYEVfXtWMHTG\n",
       "eZAq0Skv/0JMphIFfzSV4QrtwVlp01WqrWlVoik2p4zPnmewejkR19NzH1rpMjqenWxTnuYX2RvK\n",
       "6qVK7ivd8sGrTqYXaCcXx2vUzcbZqp1Z8yOXq4S8ifFmxz7szSsQn5C04CNaVSUwfEJGWiaBuZ/n\n",
       "wi1FYt3nG4F2K8izvnF5LIHhs8jP+/NmSdZ+9ubmtmBkBEpghuBUmblauFiJ+ZryAmubM1wC856e\n",
       "uXd6b1yKlZjT67ZX/B/FN4ujEDN3UpCwUIoV/R9Z3N3pbr3qTgAAAABJRU5ErkJggg==\n",
       "\" style=\"display:inline;vertical-align:middle;\" /></a><br>"
      ],
      "text/plain": [
       "expr: ((TRUE => FALSE) and (FALSE => TRUE) , FALSE and (FALSE => TRUE))"
      ]
     },
     "execution_count": 2,
     "metadata": {},
     "output_type": "execute_result"
    }
   ],
   "source": [
    "# build up the expression from sub-expressions\n",
    "expr = ExprTuple(And(Implies(TRUE, FALSE), falseImpliesTrue.expr), And(FALSE, falseImpliesTrue.expr))"
   ]
  },
  {
   "cell_type": "code",
   "execution_count": 3,
   "metadata": {},
   "outputs": [
    {
     "name": "stdout",
     "output_type": "stream",
     "text": [
      "Passed sanity check: built 'expr' is the same as the stored Expression.\n"
     ]
    }
   ],
   "source": [
    "# check that the built expression is the same as the stored expression\n",
    "%check_expr"
   ]
  },
  {
   "cell_type": "code",
   "execution_count": 4,
   "metadata": {},
   "outputs": [
    {
     "data": {
      "text/html": [
       "<table><tr><th>&nbsp;</th><th>core type</th><th>sub-expressions</th><th>expression</th></tr>\n",
       "<tr><td>0</td><td>ExprTuple</td><td>1, 2</td><td><a class=\"ProveItLink\" href=\"expr.ipynb\"><img src=\"data:image/png;base64,iVBORw0KGgoAAAANSUhEUgAAAUkAAAAVBAMAAAA5nwGjAAAAMFBMVEX////c3NwiIiJERESqqqqY\n",
       "mJh2dnZmZmYQEBDu7u4yMjJUVFTMzMyIiIi6uroAAAAs73DqAAAAAXRSTlMAQObYZgAAAs1JREFU\n",
       "SMfVV79rFEEUfnt3e3d7t1mvNRI4ksZUJmIKu3RCbK5KIShpJFgcBJFUFippbM4tw1WXImoaOXsJ\n",
       "gYCCFt4foLBcJUpAbOyCb9+bXHZm3s5u64O3O/vyvvm+mx9vJgD/h0UT9gJ7IOHc5icFCWelWIn5\n",
       "C3ljkWxFSl1IH40TI5riwJOkzvp6avWiWTiW42iPqYclYiXmI+UQ7uT8oE/0HPGHF6uoE8Pxlt1L\n",
       "alfVuxXr8TxW9LkJu8kYm/mbqmuV5cZw3N8SVb5R7+9gqQwkVvRmzG4yHpn5+/xxusxvN4bjwTNJ\n",
       "ZXhT/ZqXtspWLLCi/wR2k/GX2X91nV7HPAIFGBW/Jalsn/Fijka2ymgssKLvYnNXYKxPjPw6D8+o\n",
       "wkE3RsW3JZVD6PIm27JVQl9gRT/E5qHGqLboXyO/Rj+93mvwmLoxKr4hqXwIT3h2e1qct/WNHZsV\n",
       "fYDNgTAuUHun50e0yCrg8US5MSr+Q1LZhXle2YkwlrCRWKzo59g8lxhhONDyw9/p8z7AB/p0Y1T8\n",
       "q6DSn0Cbau8VUWXwNjFZ0XNVhq9jQeWyKucFGIfKSqzKuazy8yMQVO5hc09aY0uxMOM1zGl1oBDj\n",
       "mPE76Ac04+vCuly8DdKMr2FzTRiXmlkT/HQ9pgprlOfGqPi9TK2/UHOglEK1J4zlXYEVfXtWMHTG\n",
       "eZAq0Skv/0JMphIFfzSV4QrtwVlp01WqrWlVoik2p4zPnmewejkR19NzH1rpMjqenWxTnuYX2RvK\n",
       "6qVK7ivd8sGrTqYXaCcXx2vUzcbZqp1Z8yOXq4S8ifFmxz7szSsQn5C04CNaVSUwfEJGWiaBuZ/n\n",
       "wi1FYt3nG4F2K8izvnF5LIHhs8jP+/NmSdZ+9ubmtmBkBEpghuBUmblauFiJ+ZryAmubM1wC856e\n",
       "uXd6b1yKlZjT67ZX/B/FN4ujEDN3UpCwUIoV/R9Z3N3pbr3qTgAAAABJRU5ErkJggg==\n",
       "\" style=\"display:inline;vertical-align:middle;\" /></a></td></tr>\n",
       "<tr><td>1</td><td>Operation</td><td>operator:&nbsp;4<br>operands:&nbsp;3<br></td><td><a class=\"ProveItLink\" href=\"../e40f31316e825262c4776b176674419d28e035e50/expr.ipynb\"><img src=\"data:image/png;base64,iVBORw0KGgoAAAANSUhEUgAAALUAAAAVBAMAAADyYbJ0AAAAMFBMVEX////c3NwiIiJERESqqqqY\n",
       "mJh2dnZmZmYQEBDu7u4yMjJUVFTMzMyIiIi6uroAAAAs73DqAAAAAXRSTlMAQObYZgAAAYVJREFU\n",
       "OMu1lTFLw0AUx181aauJwdWKUNLFsQrubn4DR3GRToKIdBbpHDJKp3aokkX6EZx06JIP4FA6KoKb\n",
       "W7H3Xqre5R9yCAZyL+/4//53eZe7EP3nFaSlkpO/MhOiy1BdLSTZUU3t0eidqKYCB1h6MZNw13PB\n",
       "8NI/yLKtLDLjX5QxG2neOzZ1x1l2L0EY3Rsx9TjvnZi6W0n8fRELo3sj5pXy3m+mbvWQg/cuLymM\n",
       "7o2YLvCupoauKjZ9anLsAm/EjDTvGq9y+GnoHFnMM7riONK8i5kIzJucB10XXHNoUoNjBOaNmDny\n",
       "pn6k6fwP1bopefylz5E3YKC3fxcD75WY/HGhN2B6qN6tGNXkaHEP1UMP1RswB2DezthYF5fXcpj5\n",
       "Z4w+b8R0gHeD0Dfot1VdVNoB3oiZSf70W7f3c+7s8hm2PlU7Z7rc7jMpxE0YtnPMt9eCqW/mDxvz\n",
       "2JM9H/CjGsCWcU8tzvhzPbVmknLZ2sDosGW2y3WeWQNbplL+f3oxO+yYL2pQfPxn3lNmAAAAAElF\n",
       "TkSuQmCC\n",
       "\" style=\"display:inline;vertical-align:middle;\" /></a></td></tr>\n",
       "<tr><td>2</td><td>Operation</td><td>operator:&nbsp;4<br>operands:&nbsp;5<br></td><td><a class=\"ProveItLink\" href=\"../2ddbbe68a667684148f96bd480a536b44e22b99b0/expr.ipynb\"><img src=\"data:image/png;base64,iVBORw0KGgoAAAANSUhEUgAAAHQAAAAVBAMAAABlHNfrAAAAMFBMVEX///+qqqqYmJh2dna6urpU\n",
       "VFQyMjLu7u5EREQQEBAiIiJmZmbMzMyIiIjc3NwAAACSigvEAAAAAXRSTlMAQObYZgAAASpJREFU\n",
       "OMtjYKAyYLlASAWTA5h6iyFxFETwYdPPvQoMGhj2gLmn4RLPoXQ6iODZgN1CiDgbmtZsCMV7AVNr\n",
       "AZpWJgMUrTxdEAWcBZha09G0sk9A0crqC/GeGwOmVlc0rQyNKFrLGBaA6c1YtDJfQNNqjaLViGEj\n",
       "mE5C0QoN1N9oWsVQtC5geAamp2CxlYExBVWrJ7JWpgsMrAdAjC/YtDKUTUHReh5ZK1cBA08ATq08\n",
       "yQW4tUoDcR6IMRGbX1cU4HFwHlQ7QxMWWxkD0IJJDUkrTwPI0fBwR9P6jAEjcnatWrUS6BpQgnCA\n",
       "pUEviCtngZI5DPQhtIKTIEMKck4DkyD9nA8wE/0BND4kIWJmRgPCWZoZR5ZOJ6y1DIf4U8Ja43CI\n",
       "8xEsYHgPMAAAh3Nc3fFk23IAAAAASUVORK5CYII=\n",
       "\" style=\"display:inline;vertical-align:middle;\" /></a></td></tr>\n",
       "<tr><td>3</td><td>ExprTuple</td><td>6, 7</td><td><a class=\"ProveItLink\" href=\"../20a0bf40feed7182fdce690f3fa3eb822c4b19270/expr.ipynb\"><img src=\"data:image/png;base64,iVBORw0KGgoAAAANSUhEUgAAAJcAAAAVBAMAAAC5yWGZAAAAMFBMVEX////c3NwiIiJERESqqqqY\n",
       "mJh2dnZmZmYQEBDu7u4yMjJUVFTMzMyIiIi6uroAAAAs73DqAAAAAXRSTlMAQObYZgAAASVJREFU\n",
       "OMtjYKAq4LtAHXPiQMRpBoYiJRBQxqZEFonNiNVamGb2A0DOSrDQcRz2IYvzFOBVtICBgfcCpmET\n",
       "iDEMQ1EYAwPHBEzDVhJjGIaiGQwMrzA1MbwmxjAMRcwODGVYDGO7QIRhGIrYChiWomhiB0eN0ne8\n",
       "huFQxLKAoQ+LyxhY1hERm+iK+BoY/mEzjGFWHxFJA00RzwfshvEsm0DYMHRFQMNasIWZ8gQiwgxd\n",
       "EdCbplhcxrIBNWw5sbkMXRED6wKGdCyGSaElofkKWAxDVwRKGo8g/GPI6gwReVgDlIdnfIT4rUlJ\n",
       "yQBDEVwz1wMGDgHMjHsAXeAhAxGKgNmJNYGIsiqAmAItFzXDUmQYJ7AIYpAmrI6XGIdxC+AsP0kH\n",
       "dxgYAGUsW84xC0V/AAAAAElFTkSuQmCC\n",
       "\" style=\"display:inline;vertical-align:middle;\" /></a></td></tr>\n",
       "<tr><td>4</td><td>Literal</td><td></td><td><a class=\"ProveItLink\" href=\"../../../conjunction/__pv_it/76b5f4f4c45c0b6a9b59b297fc07dfa9555698f50/expr.ipynb\"><img src=\"data:image/png;base64,iVBORw0KGgoAAAANSUhEUgAAAAwAAAAOBAMAAADpk+DfAAAALVBMVEX///+qqqqYmJh2dnaIiIi6\n",
       "urpUVFQiIiJERETMzMxmZmYyMjLu7u7c3NwAAABvwqPxAAAAAXRSTlMAQObYZgAAAEtJREFUCNdj\n",
       "YGDgPcAAAtwLwNSMGjCV6gIieTawgyhmBS4BIMXOwLsBSKkwMGQCKaC6aQwMjEBd3BdACMScAVJd\n",
       "wJAKolwYAkAUKwAk0guX6efcigAAAABJRU5ErkJggg==\n",
       "\" style=\"display:inline;vertical-align:middle;\" /></a></td></tr>\n",
       "<tr><td>5</td><td>ExprTuple</td><td>11, 7</td><td><a class=\"ProveItLink\" href=\"../279c6df5d55065883bb6f0f6f8228d024c9a6e6e0/expr.ipynb\"><img src=\"data:image/png;base64,iVBORw0KGgoAAAANSUhEUgAAAGYAAAAVBAMAAABGR4Y+AAAAMFBMVEX////c3NwiIiJERESqqqqY\n",
       "mJh2dnZmZmYQEBDu7u4yMjJUVFTMzMyIiIi6uroAAAAs73DqAAAAAXRSTlMAQObYZgAAAPFJREFU\n",
       "OMtjYCAH8F0gSTnrAyBxGsRiRNYoi00tuxIYGDDUADkrQSI8BUjSx3FYAVHExcDAewG/Hk50PawJ\n",
       "DBwT8OvhmoCmh7OB4RUDfj18G9D0MJgwlBHQw5CLriedYSluPUXgkNIvQNPjxdBHyB4Grweoel4w\n",
       "/COoh3PFAxQ954nQcyqTAU1PCyH/KFkyoLvNFIk7AZs93ujhFgUMOTiX8xMWPYwLMMP6EST5NQGT\n",
       "H2e/ANhBGkpKynCFzAIIPQlgah0DhwBSnAtgSZjoAsC0w5qAlDeIyUBsF6B5gQQ9s4BYGsElKsdu\n",
       "RM+ihAHvAQYAypQ/GuoRitoAAAAASUVORK5CYII=\n",
       "\" style=\"display:inline;vertical-align:middle;\" /></a></td></tr>\n",
       "<tr><td>6</td><td>Operation</td><td>operator:&nbsp;9<br>operands:&nbsp;8<br></td><td><a class=\"ProveItLink\" href=\"../c65898187aa5a4404b8e436d28e20f1178f211670/expr.ipynb\"><img src=\"data:image/png;base64,iVBORw0KGgoAAAANSUhEUgAAAD8AAAAPBAMAAAChCwpBAAAALVBMVEX////c3NwQEBCqqqqIiIhU\n",
       "VFS6uroyMjLu7u52dnbMzMxEREQiIiJmZmYAAACG8MiSAAAAAXRSTlMAQObYZgAAAGJJREFUGNNj\n",
       "uHMGBE4zYAGMDlDGWgbsgOsCNgUchBSwNxBQwBZAQAHDFNwKIB46d4GACQzmCQQUcBQl4FewfAZ+\n",
       "N5zZQcANpgS8yViAqWAlsgJuAQjNC7RM58yZDZgxhMYHACe9L414BCJLAAAAAElFTkSuQmCC\n",
       "\" style=\"display:inline;vertical-align:middle;\" /></a></td></tr>\n",
       "<tr><td>7</td><td>Operation</td><td>operator:&nbsp;9<br>operands:&nbsp;10<br></td><td><a class=\"ProveItLink\" href=\"../5c89411a8c468da13cdc01880daaa573c582a8db0/expr.ipynb\"><img src=\"data:image/png;base64,iVBORw0KGgoAAAANSUhEUgAAAD8AAAAPBAMAAAChCwpBAAAALVBMVEX///+qqqp2dnZUVFS6uroy\n",
       "MjLu7u5EREQQEBAiIiJmZmbMzMyIiIjc3NwAAAAGhiwUAAAAAXRSTlMAQObYZgAAAGVJREFUGNNj\n",
       "YGBguMOABXDNBIMCEHsXA3bAvQDKQFHARkgBawIBBSwGBBQw6OBWsBLs7nkLCJjAIOpAQAFbhAN+\n",
       "BVvV8LthZhkBNwgT8CZvAJoCoLkzZs6cDhdlv4BQoIA1htD4AF7PJ5Q+t8orAAAAAElFTkSuQmCC\n",
       "\" style=\"display:inline;vertical-align:middle;\" /></a></td></tr>\n",
       "<tr><td>8</td><td>ExprTuple</td><td>12, 11</td><td><a class=\"ProveItLink\" href=\"../0f60990fe1c69084ca218cead46950bf14732b6a0/expr.ipynb\"><img src=\"data:image/png;base64,iVBORw0KGgoAAAANSUhEUgAAADUAAAAVBAMAAAAUZLt1AAAAMFBMVEX////c3NwiIiJERESqqqqY\n",
       "mJh2dnZmZmYQEBDu7u4yMjJUVFTMzMyIiIi6uroAAAAs73DqAAAAAXRSTlMAQObYZgAAALFJREFU\n",
       "KM9jYMAH+C5gFY4DEacZ2JXAwAAmLAsi2A8AiZUgFk8BkpbjYHIBAwPvBRxyYQwMHBNwyM1gYHjF\n",
       "gEOO2YGhDJccWwHDUlxyLAsY+nDJ8TUw/MMlx/MBr1wLHjNNkeQmIMuxLmBIR8hxfkLzwyOIXAJI\n",
       "rl+AgaFISUlDSUmZgYHrAQOHAFJ0IbFBYcaagOCyIkdgLiyOMOU4gXHEII3gI6cAbpD5jNjTxB0G\n",
       "BgCWci1ZX87w6gAAAABJRU5ErkJggg==\n",
       "\" style=\"display:inline;vertical-align:middle;\" /></a></td></tr>\n",
       "<tr><td>9</td><td>Literal</td><td></td><td><a class=\"ProveItLink\" href=\"../e5c030cabcb650938f92dee8256fe11cd12bf9b30/expr.ipynb\"><img src=\"data:image/png;base64,iVBORw0KGgoAAAANSUhEUgAAABMAAAANBAMAAAC5okgUAAAALVBMVEX////c3NxERETMzMwQEBCq\n",
       "qqoiIiJmZmaIiIh2dnZUVFS6uroyMjLu7u4AAACPpZJTAAAAAXRSTlMAQObYZgAAAD1JREFUCNdj\n",
       "YAABXgY44LkAZ3IvQAjPABFlaSCQV4AQjtkAZ/IegbNt5sLUpunC5aPgLMYDcCaTAJzJDCIA2yMN\n",
       "HCCUuIIAAAAASUVORK5CYII=\n",
       "\" style=\"display:inline;vertical-align:middle;\" /></a></td></tr>\n",
       "<tr><td>10</td><td>ExprTuple</td><td>11, 12</td><td><a class=\"ProveItLink\" href=\"../f33a8d5708d13f20cb034555a092a5521deab66a0/expr.ipynb\"><img src=\"data:image/png;base64,iVBORw0KGgoAAAANSUhEUgAAADUAAAAVBAMAAAAUZLt1AAAAMFBMVEX////c3NwiIiJERESqqqqY\n",
       "mJh2dnZmZmYQEBDu7u4yMjJUVFTMzMyIiIi6uroAAAAs73DqAAAAAXRSTlMAQObYZgAAALBJREFU\n",
       "KM9jYMAH+C5gFY4DEadBBCNcQZESCCgzsB8AclaCRHgKkLQcB5MLGBh4L+CQC2Ng4JiAQ24GA8Mr\n",
       "BhxyzA4MZbjk2AoYluKSY1nA0IdLjq+B4R8uOZ4PeOVa8JhpiiQ3AVmOdQFDOkKO8xOaHx4xMLAD\n",
       "A7dJScmAs18ALHoMTHI9YOAQQIouJDYozFgTEFxW5AjMhcURphwnMI4YpBF85BTALYAS5SjgDgMD\n",
       "AMUhLsE7xITaAAAAAElFTkSuQmCC\n",
       "\" style=\"display:inline;vertical-align:middle;\" /></a></td></tr>\n",
       "<tr><td>11</td><td>Literal</td><td></td><td><a class=\"ProveItLink\" href=\"../../../__pv_it/8f1f7fac882de28c72b62ab80a1700b6d8fd066b0/expr.ipynb\"><img src=\"data:image/png;base64,iVBORw0KGgoAAAANSUhEUgAAAA4AAAAOBAMAAADtZjDiAAAAG1BMVEX///9EREQQEBAiIiJmZmbM\n",
       "zMyIiIjc3NwAAACryk5kAAAAAXRSTlMAQObYZgAAABlJREFUCNdjYGBgKGOAgBBa0s7GxkbGxoYA\n",
       "FMUF2aBfHgoAAAAASUVORK5CYII=\n",
       "\" style=\"display:inline;vertical-align:middle;\" /></a></td></tr>\n",
       "<tr><td>12</td><td>Literal</td><td></td><td><a class=\"ProveItLink\" href=\"../../../__pv_it/68a87cc3370287d726c7086ace789e680e4461c30/expr.ipynb\"><img src=\"data:image/png;base64,iVBORw0KGgoAAAANSUhEUgAAAA4AAAAOBAMAAADtZjDiAAAAFVBMVEX///92dnbMzMxEREQiIiJm\n",
       "ZmYAAABAT6GXAAAAAXRSTlMAQObYZgAAABhJREFUCNdjCHEBAWcGIFBlgABa0YpADAAxegPJJk4d\n",
       "XAAAAABJRU5ErkJggg==\n",
       "\" style=\"display:inline;vertical-align:middle;\" /></a></td></tr>\n",
       "</table>\n"
      ],
      "text/plain": [
       "0. ((TRUE => FALSE) and (FALSE => TRUE) , FALSE and (FALSE => TRUE))\n",
       "   core type: ExprTuple\n",
       "   sub-expressions: 1, 2\n",
       "1. (TRUE => FALSE) and (FALSE => TRUE)\n",
       "   core type: Operation\n",
       "   operator: 4\n",
       "   operands: 3\n",
       "2. FALSE and (FALSE => TRUE)\n",
       "   core type: Operation\n",
       "   operator: 4\n",
       "   operands: 5\n",
       "3. (TRUE => FALSE , FALSE => TRUE)\n",
       "   core type: ExprTuple\n",
       "   sub-expressions: 6, 7\n",
       "4. and\n",
       "   core type: Literal\n",
       "   sub-expressions: \n",
       "5. (FALSE , FALSE => TRUE)\n",
       "   core type: ExprTuple\n",
       "   sub-expressions: 11, 7\n",
       "6. TRUE => FALSE\n",
       "   core type: Operation\n",
       "   operator: 9\n",
       "   operands: 8\n",
       "7. FALSE => TRUE\n",
       "   core type: Operation\n",
       "   operator: 9\n",
       "   operands: 10\n",
       "8. (TRUE , FALSE)\n",
       "   core type: ExprTuple\n",
       "   sub-expressions: 12, 11\n",
       "9. =>\n",
       "   core type: Literal\n",
       "   sub-expressions: \n",
       "10. (FALSE , TRUE)\n",
       "    core type: ExprTuple\n",
       "    sub-expressions: 11, 12\n",
       "11. FALSE\n",
       "    core type: Literal\n",
       "    sub-expressions: \n",
       "12. TRUE\n",
       "    core type: Literal\n",
       "    sub-expressions: "
      ]
     },
     "execution_count": 4,
     "metadata": {},
     "output_type": "execute_result"
    }
   ],
   "source": [
    "# display the expression information\n",
    "expr.exprInfo()"
   ]
  },
  {
   "cell_type": "code",
   "execution_count": null,
   "metadata": {},
   "outputs": [],
   "source": []
  }
 ],
 "metadata": {
  "kernelspec": {
   "display_name": "Python 3",
   "language": "python",
   "name": "python3"
  }
 },
 "nbformat": 4,
 "nbformat_minor": 0
}
