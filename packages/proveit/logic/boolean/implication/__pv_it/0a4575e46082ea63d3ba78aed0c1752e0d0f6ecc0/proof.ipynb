{
 "cells": [
  {
   "cell_type": "markdown",
   "metadata": {},
   "source": [
    "Show the Proof\n",
    "========"
   ]
  },
  {
   "cell_type": "code",
   "execution_count": 1,
   "metadata": {},
   "outputs": [
    {
     "data": {
      "text/html": [
       "<table><tr><th>&nbsp;</th><th>step type</th><th>requirements</th><th>statement</th></tr>\n",
       "<tr><td>0</td><td>assumption</td><td></td><td><span style=\"font-size:20px;\"><a class=\"ProveItLink\" href=\"../508795ae6194a288e995fa1d9fdcd216397ca9e40/expr.ipynb\"><img src=\"data:image/png;base64,iVBORw0KGgoAAAANSUhEUgAAAHEAAAAVBAMAAACDNRyvAAAAMFBMVEX///9ERETc3NyqqqpUVFS6\n",
       "urrMzMwyMjIQEBCIiIh2dnYiIiLu7u5mZmaYmJgAAABJJ2g3AAAAAXRSTlMAQObYZgAAAcFJREFU\n",
       "OMtjYGDgu8dAImBbpQCieHbhUxSJLsAXANLaDGJyfoAatAGb6Q4ILf5fXBxLGRiugTjXQQRXA0SG\n",
       "/QMWnewHEGwOAQaG+wEM7CD2CmSdr/8gFPHAGDORTMmfAMQODHwL0HQy2X7CYlUPks75wGB5v4CB\n",
       "pwFNJyfnV4QiVqj3WAuQdEoA8Q6gkcJoOmOY/yGpWgmheBcgiX1hYFCXAdJrYTp5webyBLD9BMvf\n",
       "3g0C+y9AXP0AKZi/zJy7D8QwB+L3IEZGANhdDEx/kQPVHCzKEQA1ChjnnMBwOA3yRQTISKDJKW1g\n",
       "lSkuLh+RdfJUgLTyB0C5KQwMjEBfcYJ8lA8SEAe6JiIBxAIqaUfWmb6GAU0nP9A+vl9QndygAGAB\n",
       "+ZMZFG5I/twtA4l8A4TOfKAtLJ+hrgX7kwuU6pSBuB7JShMIxfgAoRMUnfogW54jxwoPSEQekdKY\n",
       "oPHIdQEWsODoZGs/gBwrQJ1MEt8VGB7+r4XrZFSApgRELrj438WlHOyEUvR0i5JFYIwmTDmM1Icd\n",
       "vMIU4poA08mHTydyLoOC4/D8ybMTj04mBwwhJ5BvWiGZfTEerZroApwJ0HIIAMbmdULnv1MSAAAA\n",
       "AElFTkSuQmCC\n",
       "\" style=\"display:inline;vertical-align:middle;\" /></a> <a class=\"ProveItLink\" href=\"proof.ipynb\" style=\"text-decoration: none\">&#x22A2;&nbsp;</a><a class=\"ProveItLink\" href=\"../1a168b2410a985d9dd68a2f0e23bb53d61e193220/expr.ipynb\"><img src=\"data:image/png;base64,iVBORw0KGgoAAAANSUhEUgAAAF0AAAAVBAMAAADWVP/xAAAAMFBMVEX///92dnYQEBBERERUVFS6\n",
       "urqIiIhmZmaqqqrc3Nzu7u6YmJgyMjIiIiLMzMwAAACFkkdwAAAAAXRSTlMAQObYZgAAAWxJREFU\n",
       "KM9jYKAaYE1AF9kKY7zFpv4Jgrnlv4uLTQAD+wMo/zw29aeQ2MoMDOxfGRgOQHjc9xcgpGBMNiTn\n",
       "8H0D4i8MDBsh3Bn1EzCNZUIyg+0n0NCPDAyLINyE/ACEXAiUjkFyDrMCAwOvFpBuAAfEgv4NCDlG\n",
       "qDsKkdTzOzBwHgbax1gA4i1leA9Ww34XDL5D1JxGUv/eLa0WZCQH2MMBDPMLkCQ5joIpVZgBAgwM\n",
       "+RMYuK6AXKIA8ryLi78BckCuUQWRX2Fh48DAYASk84EW8H0AaQKGxQEk5XwHF6CrBwYlw34BqHqg\n",
       "n3kVkNx/GRKQGgj1fL+BtH8DxD2cQJrnA5LzHSC0NUI9KPg5/4AiFuiONaDw/YVQPwdKi8MEHoCD\n",
       "/xEoHoHhOVn/JAO3/R9EAFlC6Vi4CLv9FxcfcPDyBGAmM1gaZJqAKbcIT/LnFsAUE8OXX05hiHAd\n",
       "wKd+CoYIywR86jkx8mMeAwMAbe9eiI+A1Z8AAAAASUVORK5CYII=\n",
       "\" style=\"display:inline;vertical-align:middle;\" /></a></span></td></tr>\n",
       "</table>"
      ],
      "text/plain": [
       "<proveit._core_.proof._ShowProof at 0x7f94ead82f98>"
      ]
     },
     "execution_count": 1,
     "metadata": {},
     "output_type": "execute_result"
    }
   ],
   "source": [
    "import proveit\n",
    "%show_proof"
   ]
  },
  {
   "cell_type": "code",
   "execution_count": null,
   "metadata": {},
   "outputs": [],
   "source": []
  }
 ],
 "metadata": {
  "kernelspec": {
   "display_name": "Python 3",
   "language": "python",
   "name": "python3"
  }
 },
 "nbformat": 4,
 "nbformat_minor": 0
}
