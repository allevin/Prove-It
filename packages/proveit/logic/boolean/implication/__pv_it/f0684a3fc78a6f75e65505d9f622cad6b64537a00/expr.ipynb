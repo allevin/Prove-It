{
 "cells": [
  {
   "cell_type": "markdown",
   "metadata": {},
   "source": [
    "Expression of type <a class=\"ProveItLink\" href=\"../../../../../../../doc/html/api/proveit.Lambda.html\">Lambda</a>\n",
    "=======================\n",
    "# from context <a class=\"ProveItLink\" href=\"../../_context_.ipynb\">proveit.logic.boolean.implication</a>"
   ]
  },
  {
   "cell_type": "code",
   "execution_count": 1,
   "metadata": {},
   "outputs": [],
   "source": [
    "# import Expression classes needed to build the expression\n",
    "from proveit import Lambda\n",
    "from proveit._common_ import P, Px, x\n",
    "from proveit.logic import Forall\n",
    "from proveit.logic._common_ import PofTrue"
   ]
  },
  {
   "cell_type": "code",
   "execution_count": 2,
   "metadata": {},
   "outputs": [
    {
     "data": {
      "text/html": [
       "<strong id=\"expr\">expr:</strong> <a class=\"ProveItLink\" href=\"expr.ipynb\"><img src=\"data:image/png;base64,iVBORw0KGgoAAAANSUhEUgAAAPMAAAAZCAMAAADT9+jpAAAANlBMVEX///8UFBQNDQ3u7u5mZmaY\n",
       "mJi6urqqqqp2dnbMzMwQEBBEREQyMjLc3NwiIiJUVFSIiIgAAABiXWJGAAAAAXRSTlMAQObYZgAA\n",
       "AqdJREFUWMPtmNuS2yAMhmk5CTCn93/Z4mC72BJrTDO7uahuMokyv/hsIQkYmzAXQvDsu0yVaMB+\n",
       "2sJ3B/TxPzNj2v8EM39/Eqfzd6n6zKAey50lU8w5FgvRjzP/fdkyPcajIhoEJswoM6H3khOhMddK\n",
       "MpaXWpysH2YGvX9dZl45jkjILOPvGek1ckZgSWZyLYw6wzCzd/uC3AQyjpioVIRRZqTXyrXM8oiX\n",
       "q4TMYryG7Q9S6AlmHNES2cLtKDPSa+Va5l2SuVw/Y9bjzBL8y6aqOIqoFvJvepD5qneSa5l3yX0z\n",
       "8OxQ2teM0VSvym61uXkBRRR7GkOKXidRUxPEIPNVT0CPeZPcNoMJoteCIyeY46sGOrLsqaHt3ERc\n",
       "ZF10+V0GyWyNoZcxZqS3yRHMm2TKEQAE+O7YwU9dbHOqdSV8oXP3bjtfI9oKAS9nWVntKcoO9qqr\n",
       "nlU95k3SZVQ/fv8KJ7NZ4QeyfiY5w4wjbvrrz9E172+MGenlLvMmmcPteBkV4Vx5A59hxhGbRdr0\n",
       "mBnp3TEbokNdNISnnCWv9+GpVB6VoiGZrz4yoj3KpM/mGG0HcxvrWf11bqesbphNop3Ob+8f+JqR\n",
       "TaCGGfnIiK7uEelf25mlyizHahjWc90aViWJ7czOkLzzQLQIR5k+VcqWGfnIiLWF6CzL+FggE3vS\n",
       "q7AeiC96FReujOfPTgmB2nrZ9/fzyUdHVPWw5hJwgKMwLuqemdRTbaKatlkvis1Yc6Q6nq8pb8d0\n",
       "mC8+2qjjzfjsOSR3mj3/9c6g1EJYanNFzNhHmyT+AWmaWXYCQnoTc0lJLUpWUszY1zF8luQPzpID\n",
       "cqw/Qr3lbmjifInBjuFvhpm+Q4v+o5iPYn30DtNff1KP5c6SH8L82fee9/fbb1zker/9VuY/uz4h\n",
       "TDi5ZzQAAAAASUVORK5CYII=\n",
       "\" style=\"display:inline;vertical-align:middle;\" /></a><br>"
      ],
      "text/plain": [
       "expr: P -> [forall_{x | x} P(x)] | P(TRUE)"
      ]
     },
     "execution_count": 2,
     "metadata": {},
     "output_type": "execute_result"
    }
   ],
   "source": [
    "# build up the expression from sub-expressions\n",
    "subExpr1 = [x]\n",
    "expr = Lambda(P, Forall(subExpr1, Px, conditions = subExpr1), conditions = [PofTrue])"
   ]
  },
  {
   "cell_type": "code",
   "execution_count": 3,
   "metadata": {},
   "outputs": [
    {
     "name": "stdout",
     "output_type": "stream",
     "text": [
      "Passed sanity check: built 'expr' is the same as the stored Expression.\n"
     ]
    }
   ],
   "source": [
    "# check that the built expression is the same as the stored expression\n",
    "%check_expr"
   ]
  },
  {
   "cell_type": "code",
   "execution_count": 4,
   "metadata": {},
   "outputs": [
    {
     "data": {
      "text/html": [
       "<table><tr><th>&nbsp;</th><th>core type</th><th>sub-expressions</th><th>expression</th></tr>\n",
       "<tr><td>0</td><td>Lambda</td><td>parameter:&nbsp;9<br>body:&nbsp;1<br>conditions:&nbsp;2<br></td><td><a class=\"ProveItLink\" href=\"expr.ipynb\"><img src=\"data:image/png;base64,iVBORw0KGgoAAAANSUhEUgAAAPMAAAAZCAMAAADT9+jpAAAANlBMVEX///8UFBQNDQ3u7u5mZmaY\n",
       "mJi6urqqqqp2dnbMzMwQEBBEREQyMjLc3NwiIiJUVFSIiIgAAABiXWJGAAAAAXRSTlMAQObYZgAA\n",
       "AqdJREFUWMPtmNuS2yAMhmk5CTCn93/Z4mC72BJrTDO7uahuMokyv/hsIQkYmzAXQvDsu0yVaMB+\n",
       "2sJ3B/TxPzNj2v8EM39/Eqfzd6n6zKAey50lU8w5FgvRjzP/fdkyPcajIhoEJswoM6H3khOhMddK\n",
       "MpaXWpysH2YGvX9dZl45jkjILOPvGek1ckZgSWZyLYw6wzCzd/uC3AQyjpioVIRRZqTXyrXM8oiX\n",
       "q4TMYryG7Q9S6AlmHNES2cLtKDPSa+Va5l2SuVw/Y9bjzBL8y6aqOIqoFvJvepD5qneSa5l3yX0z\n",
       "8OxQ2teM0VSvym61uXkBRRR7GkOKXidRUxPEIPNVT0CPeZPcNoMJoteCIyeY46sGOrLsqaHt3ERc\n",
       "ZF10+V0GyWyNoZcxZqS3yRHMm2TKEQAE+O7YwU9dbHOqdSV8oXP3bjtfI9oKAS9nWVntKcoO9qqr\n",
       "nlU95k3SZVQ/fv8KJ7NZ4QeyfiY5w4wjbvrrz9E172+MGenlLvMmmcPteBkV4Vx5A59hxhGbRdr0\n",
       "mBnp3TEbokNdNISnnCWv9+GpVB6VoiGZrz4yoj3KpM/mGG0HcxvrWf11bqesbphNop3Ob+8f+JqR\n",
       "TaCGGfnIiK7uEelf25mlyizHahjWc90aViWJ7czOkLzzQLQIR5k+VcqWGfnIiLWF6CzL+FggE3vS\n",
       "q7AeiC96FReujOfPTgmB2nrZ9/fzyUdHVPWw5hJwgKMwLuqemdRTbaKatlkvis1Yc6Q6nq8pb8d0\n",
       "mC8+2qjjzfjsOSR3mj3/9c6g1EJYanNFzNhHmyT+AWmaWXYCQnoTc0lJLUpWUszY1zF8luQPzpID\n",
       "cqw/Qr3lbmjifInBjuFvhpm+Q4v+o5iPYn30DtNff1KP5c6SH8L82fee9/fbb1zker/9VuY/uz4h\n",
       "TDi5ZzQAAAAASUVORK5CYII=\n",
       "\" style=\"display:inline;vertical-align:middle;\" /></a></td></tr>\n",
       "<tr><td>1</td><td>Operation</td><td>operator:&nbsp;3<br>operand:&nbsp;4<br></td><td><a class=\"ProveItLink\" href=\"../0373e9958730890370b0d88bc246d242f763ec860/expr.ipynb\"><img src=\"data:image/png;base64,iVBORw0KGgoAAAANSUhEUgAAAGcAAAAXBAMAAADkTUwLAAAAMFBMVEX///8QEBC6urrMzMxUVFRm\n",
       "ZmZERETc3NwyMjKqqqp2dnaIiIiYmJgiIiLu7u4AAAAU9Wx4AAAAAXRSTlMAQObYZgAAAalJREFU\n",
       "OMudUzFLQlEU/vSlT336dGuIwqGtxaE1FAsdInRqcalFhwadcojg/YCIIJoacolIQYRaoshHS2BE\n",
       "zk22NDQJiUVEda7vvfue0Q3rwOV+53C/c75z7r3Af6wz6sEZc7+i1WbgRnRSyfQWltIMSQkz5IkB\n",
       "xwxsC/OHNWC1RMDHJVFknTZ5RUiKV4ADWjjnoZaRwbMjJDWjwF2WwBQPPQDBo3J5U9x+kVaGcro1\n",
       "HvKS28/n78WkV0Dts/ZJolxL7+eAABWeBwr2oegwR3oD5pg6nw484VafBPxUdBqqXRrfRqL0qodH\n",
       "DLgoWwVN7JLSCBCCogtJ3g9r9FH2DlKD6l1Kpoc6QlK47SABExZJ1WYJ1ZKnMZtkeYhnTZKL3Yr8\n",
       "DNWQh0KSJtJJDcIGiXuDazJ0UgvXSheXdElsBHskwY0thzzuoWgppzn7370RuWGMHK4Gi74M9WR4\n",
       "6vLnoklyt6Gu1asXbPqsepBlkyKSg2R5Dht3PiPzXQa0gE3insNaHNUs8HiWq9sk7jmMfw3nU/j5\n",
       "nmyTrU84VhqdhA1zP8EfSL9YYpRDX6IgY6U+wExSAAAAAElFTkSuQmCC\n",
       "\" style=\"display:inline;vertical-align:middle;\" /></a></td></tr>\n",
       "<tr><td>2</td><td>ExprTuple</td><td>5</td><td><a class=\"ProveItLink\" href=\"../f2bf33f639a8dc243911818cc40b58a9d25fdb2f0/expr.ipynb\"><img src=\"data:image/png;base64,iVBORw0KGgoAAAANSUhEUgAAAEAAAAAVBAMAAAAEBPWpAAAAMFBMVEX////c3NwiIiJERESqqqqY\n",
       "mJh2dnZmZmYQEBDu7u4yMjJUVFTMzMyIiIi6uroAAAAs73DqAAAAAXRSTlMAQObYZgAAAUNJREFU\n",
       "KM9jYCAI+C4g897CWXFAzPoASJwG4tv/d+/WFgAyeDYwFCmBgDID+wEgvwaIV4KU/2JgYG4E0lwT\n",
       "QLzjYCMWgPgMDLwgG3i+MTCwADHDXQaEgjCQHQkMHCA9vP+A7O9ARieSghlAzNnA8ArEZv7AwMD9\n",
       "BejgBUgKmB2AhAlDGYjND5SYb8DAwJ6ApICtAEikMywFsc8nMPCog9wUgKSABWScF0MfiH1/W1oZ\n",
       "yJccD5AU8DUAiRcM/0Bs+wmQwOFHVsDzAWQ2RMEnBtwKWkDM71AFHA6YVphCgwHiM2RHsoIcGQX0\n",
       "B1D8J1QB2Gdo3nzEwDDd/jc0RvkUwNQxMMkFctA6Bg4B5NhuRGJDg5o1AVlBGBI7F2TNBWh0wwDX\n",
       "BDiTE+TGWUAsjayAcQOcyQ2yeyNIDCXJycJZd0D+P8AAAEqIUkvzHygcAAAAAElFTkSuQmCC\n",
       "\" style=\"display:inline;vertical-align:middle;\" /></a></td></tr>\n",
       "<tr><td>3</td><td>Literal</td><td></td><td><a class=\"ProveItLink\" href=\"../../../quantification/universal/__pv_it/265f8c02ac1094d56e0e6410a1c1fd3500dc9f540/expr.ipynb\"><img src=\"data:image/png;base64,iVBORw0KGgoAAAANSUhEUgAAAAwAAAAQBAMAAADQT4M0AAAAMFBMVEX///8QEBC6urrMzMxUVFRm\n",
       "ZmZERETc3NwyMjKqqqp2dnaIiIiYmJgiIiLu7u4AAAAU9Wx4AAAAAXRSTlMAQObYZgAAAFhJREFU\n",
       "CNdjeMAABhdAxGmGlSCqj6EMSLInMHAAJVknMPAsLy+vBYp8S0u7BaScGRjSgZQKA18DkOJl4D4A\n",
       "pLgP8IJM4mswARuX7gSmpoKNZWDcAKZ4gCoAgTQTILaSE58AAAAASUVORK5CYII=\n",
       "\" style=\"display:inline;vertical-align:middle;\" /></a></td></tr>\n",
       "<tr><td>4</td><td>Lambda</td><td>parameter:&nbsp;10<br>body:&nbsp;6<br>conditions:&nbsp;7<br></td><td><a class=\"ProveItLink\" href=\"../d973005c26ab696180b85cf0ed69e9b585342d5a0/expr.ipynb\"><img src=\"data:image/png;base64,iVBORw0KGgoAAAANSUhEUgAAAH4AAAAVCAMAAAC3zqojAAAANlBMVEX///+6uroUFBQNDQ0yMjJE\n",
       "RETMzMwQEBAiIiKYmJju7u5mZmaqqqpUVFSIiIh2dnbc3NwAAACltDI1AAAAAXRSTlMAQObYZgAA\n",
       "AWVJREFUSMe9lutyhCAMhaHlfgt5/5ctFXcXQnTsTJU/zOrxfEASskI8NVK9zVqW+beXqwbkf5BK\n",
       "RsxtuPzZjclUFc1NeCFQbZO2b74Ki0jdhTcIPZb73A6krCoPN+ELdh+PcX9i182LYG/Ca+xzxrTn\n",
       "nWJl6SK+Qsk1lVj4uKXEhj6gfqUZcD4QT/CDNLSvvfPCutdLN3+XAxN64972yvf1zD5JHeNHKWzx\n",
       "bHpzgA+5TqHPABDh88x2X+Ij7TF+lP7uLetR+P3lpmFRjqGniba/JT4GT3ZPkHYqHbJ7kcekQSd4\n",
       "PPE5wxNpRbOvicPHOoWeppSwifM5O/xR6usWB1EO8KZwVT+WWE894uNPUm+QJvTt/mzL+VDmSyyQ\n",
       "ql/umF5i1Oek8EZp0AUCQPEXbpwQdes39IqV22lRHyUP8X9BXhi2PnjpXmkvDVYewzMNN9zWcLmu\n",
       "sfzdyPVB/Fg2vXYM06g5/A8UuxBXZySm5QAAAABJRU5ErkJggg==\n",
       "\" style=\"display:inline;vertical-align:middle;\" /></a></td></tr>\n",
       "<tr><td>5</td><td>Operation</td><td>operator:&nbsp;9<br>operand:&nbsp;8<br></td><td><a class=\"ProveItLink\" href=\"../../../../__pv_it/e620067e5fc1a01f6e7ce2f053b97db25219d34a0/expr.ipynb\"><img src=\"data:image/png;base64,iVBORw0KGgoAAAANSUhEUgAAADEAAAAVBAMAAAAdjxsPAAAAMFBMVEX////u7u5mZmaYmJi6urqq\n",
       "qqp2dnbMzMwQEBBEREQyMjLc3NwiIiJUVFSIiIgAAAAeC3ydAAAAAXRSTlMAQObYZgAAAOtJREFU\n",
       "KM9jYCAK+MFZJmDy7f+7d89uADLYLzDonAGBkwxMBWCpXwwMnN1AmksAxCsCiy0AEezfGBhYgZjh\n",
       "HQNCxgxE8H1hYGD+BGQ0IslIgAjODwwMvF8ZGFgWIMlwBgAJfqCI/AQGBqYEJBk2BSBRn8DAfgjk\n",
       "AAMkGVaQAe+vpamBHM3hgCTD0gAk5gtAfMePLMMOtJzhDwMOGfZPUBmOADTTQN6BOBTZBcxAF3B+\n",
       "hMqAHYrkaqH5fx9AZFgOgKkyMMnlgBwJ3UhsCZToMUNi56HIcAnAmYwLUGS4L8CZvBtQY3sfnPWc\n",
       "gQEAcQM23zO0HfcAAAAASUVORK5CYII=\n",
       "\" style=\"display:inline;vertical-align:middle;\" /></a></td></tr>\n",
       "<tr><td>6</td><td>Operation</td><td>operator:&nbsp;9<br>operand:&nbsp;10<br></td><td><a class=\"ProveItLink\" href=\"../../../../../__pv_it/8c735c381b4cbf3c87e86ca2468da4e5c976f9b00/expr.ipynb\"><img src=\"data:image/png;base64,iVBORw0KGgoAAAANSUhEUgAAAC4AAAAVBAMAAADLKsFqAAAAMFBMVEX////u7u5mZmaYmJi6urqq\n",
       "qqp2dnbMzMwQEBBEREQyMjLc3NwiIiJUVFSIiIgAAAAeC3ydAAAAAXRSTlMAQObYZgAAAQlJREFU\n",
       "GNNjYCACsDyA0MwOIPLt/7t3z24AsWphCtTB5C8GBs5uEGMhTJwLRLB/Y2BgBWIGvgcwceYEEPcL\n",
       "kPEJyOAQgIkzNgAJzg8MDLxfgQwvhAumAjH/AgYG+QlAhhoQb3u79RHQuCQgsz6Bgf0QSNFioAEJ\n",
       "zIc5DjAwRAG576+lqYGd2cLAwMbA94G1gIHBA8idD7MOaD8jAy/IRIZ6IP7DgBAHOuoBVJz9E0y8\n",
       "FUTsL2AQAJvD9wUmPhnojw3vGfiA4lZA53+EiQMdF28wg2EfmCk0/y/M+z4MDJLPxPIMgMwlyMHM\n",
       "sQElHBhQQgsM2B6gxAs8nKVQ42svjHEbVZwbqp2vgAEAALg9cr1t3EsAAAAASUVORK5CYII=\n",
       "\" style=\"display:inline;vertical-align:middle;\" /></a></td></tr>\n",
       "<tr><td>7</td><td>ExprTuple</td><td>10</td><td><a class=\"ProveItLink\" href=\"../89afe848f9909271372a46da8b9aa311d53c45ae0/expr.ipynb\"><img src=\"data:image/png;base64,iVBORw0KGgoAAAANSUhEUgAAABgAAAAVBAMAAACuxzMVAAAAMFBMVEX////c3NwiIiJERESqqqqY\n",
       "mJh2dnZmZmYQEBDu7u4yMjJUVFTMzMyIiIi6uroAAAAs73DqAAAAAXRSTlMAQObYZgAAAKxJREFU\n",
       "GNNjYEABfBcgNOsDIHEaJloDxCthHC4GBt4LMA5rAgPHBBiHs4HhFcIoE4YyICl2W+Q6UHU6w1Kg\n",
       "fAKrKocCA4MXQx8DAxsD7weWAwwMLxj+AWUYuA1Aes6DOAwMHBcgnBYQJX+AYQJImSnQNoH7DLxA\n",
       "ThTQPAb/AAsGWQaQ0Y8YGCZfm5YbAOSsY+AQQHIO0HlQwHYByQuzgFgaxtkIxIxQD/EeYAAAhW8k\n",
       "93ErH/0AAAAASUVORK5CYII=\n",
       "\" style=\"display:inline;vertical-align:middle;\" /></a></td></tr>\n",
       "<tr><td>8</td><td>Literal</td><td></td><td><a class=\"ProveItLink\" href=\"../../../__pv_it/68a87cc3370287d726c7086ace789e680e4461c30/expr.ipynb\"><img src=\"data:image/png;base64,iVBORw0KGgoAAAANSUhEUgAAAA4AAAAOBAMAAADtZjDiAAAAFVBMVEX///92dnbMzMxEREQiIiJm\n",
       "ZmYAAABAT6GXAAAAAXRSTlMAQObYZgAAABhJREFUCNdjCHEBAWcGIFBlgABa0YpADAAxegPJJk4d\n",
       "XAAAAABJRU5ErkJggg==\n",
       "\" style=\"display:inline;vertical-align:middle;\" /></a></td></tr>\n",
       "<tr><td>9</td><td>Variable</td><td></td><td><a class=\"ProveItLink\" href=\"../../../../../__pv_it/6369c6c8083c513ca7161ace249642d040f9327d0/expr.ipynb\"><img src=\"data:image/png;base64,iVBORw0KGgoAAAANSUhEUgAAABAAAAAOBAMAAADUAYG5AAAAMFBMVEX////u7u5mZmaYmJi6urqq\n",
       "qqp2dnbMzMwQEBBEREQyMjLc3NwiIiJUVFSIiIgAAAAeC3ydAAAAAXRSTlMAQObYZgAAAGBJREFU\n",
       "CNdjYGB4+//u3bMbGIDgFwMDZzeQZv/GwMAKxAx8XxgYmD8BGZwfGBh4vwIZ/AsYGOQnABn1CQzs\n",
       "h0Ca3l9LUwPrni/AAAF/oDT7JygDZAwYcH6E0ELz/z4A0QBnpRnRyxnfJQAAAABJRU5ErkJggg==\n",
       "\" style=\"display:inline;vertical-align:middle;\" /></a></td></tr>\n",
       "<tr><td>10</td><td>Variable</td><td></td><td><a class=\"ProveItLink\" href=\"../../../../../__pv_it/530be409e3083890784cf1d7b28c9e67e90af9360/expr.ipynb\"><img src=\"data:image/png;base64,iVBORw0KGgoAAAANSUhEUgAAAAsAAAAJBAMAAAAWSsseAAAAKlBMVEX///9ERETMzMwQEBAiIiKY\n",
       "mJju7u5mZmaqqqpUVFSIiIh2dnbc3NwAAAA/vyDhAAAAAXRSTlMAQObYZgAAAENJREFUCNdjYDi9\n",
       "8sTyBQxsG1hdmR0YuBm4LnAoMLAxcAowgADzAjB1VoEhgYH1wFoGrgSG3gBhhlMMDImrs3cFMAAA\n",
       "t0YN+iTRa+sAAAAASUVORK5CYII=\n",
       "\" style=\"display:inline;vertical-align:middle;\" /></a></td></tr>\n",
       "</table>\n"
      ],
      "text/plain": [
       "0. P -> [forall_{x | x} P(x)] | P(TRUE)\n",
       "   core type: Lambda\n",
       "   parameter: 9\n",
       "   body: 1\n",
       "   conditions: 2\\n1. forall_{x | x} P(x)\n",
       "   core type: Operation\n",
       "   operator: 3\n",
       "   operand: 4\n",
       "2. (P(TRUE))\n",
       "   core type: ExprTuple\n",
       "   sub-expressions: 5\n",
       "3. forall\n",
       "   core type: Literal\n",
       "   sub-expressions: \n",
       "4. x -> P(x) | x\n",
       "   core type: Lambda\n",
       "   parameter: 10\n",
       "   body: 6\n",
       "   conditions: 7\\n5. P(TRUE)\n",
       "   core type: Operation\n",
       "   operator: 9\n",
       "   operand: 8\n",
       "6. P(x)\n",
       "   core type: Operation\n",
       "   operator: 9\n",
       "   operand: 10\n",
       "7. (x)\n",
       "   core type: ExprTuple\n",
       "   sub-expressions: 10\n",
       "8. TRUE\n",
       "   core type: Literal\n",
       "   sub-expressions: \n",
       "9. P\n",
       "   core type: Variable\n",
       "   sub-expressions: \n",
       "10. x\n",
       "    core type: Variable\n",
       "    sub-expressions: "
      ]
     },
     "execution_count": 4,
     "metadata": {},
     "output_type": "execute_result"
    }
   ],
   "source": [
    "# display the expression information\n",
    "expr.exprInfo()"
   ]
  },
  {
   "cell_type": "code",
   "execution_count": null,
   "metadata": {},
   "outputs": [],
   "source": []
  }
 ],
 "metadata": {
  "kernelspec": {
   "display_name": "Python 3",
   "language": "python",
   "name": "python3"
  }
 },
 "nbformat": 4,
 "nbformat_minor": 0
}
