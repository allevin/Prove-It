{
 "cells": [
  {
   "cell_type": "markdown",
   "metadata": {},
   "source": [
    "Expression of type <a class=\"ProveItLink\" href=\"../../../../../../../doc/html/api/proveit.logic.Equals.html\">Equals</a>\n",
    "=======================\n",
    "# from context <a class=\"ProveItLink\" href=\"../../_context_.ipynb\">proveit.logic.boolean.implication</a>"
   ]
  },
  {
   "cell_type": "code",
   "execution_count": 1,
   "metadata": {},
   "outputs": [],
   "source": [
    "# import Expression classes needed to build the expression\n",
    "from proveit.logic import And, Equals, FALSE, Iff, Implies, TRUE\n",
    "from proveit.logic.boolean.implication._theorems_ import falseImpliesTrue"
   ]
  },
  {
   "cell_type": "code",
   "execution_count": 2,
   "metadata": {},
   "outputs": [
    {
     "data": {
      "text/html": [
       "<strong id=\"expr\">expr:</strong> <a class=\"ProveItLink\" href=\"expr.ipynb\"><img src=\"data:image/png;base64,iVBORw0KGgoAAAANSUhEUgAAATEAAAAVBAMAAADcAcTPAAAAMFBMVEX////c3NwiIiJERESqqqqY\n",
       "mJh2dnZmZmYQEBDu7u4yMjJUVFTMzMyIiIi6uroAAAAs73DqAAAAAXRSTlMAQObYZgAAAnxJREFU\n",
       "SMfNlj9oE1Ecx3/XJk0uOWNWI4XYLm6tgoNbN6FdOnUsWaQ4BIpIByeFDooQDqfSKR1ajYJk6yZO\n",
       "FtrlZlE4OkYKbm7F936/lzbv9/udd3Hywfde8u73ud/33r97AP9vaSS5IZtK24XTlGTBbMidQWUB\n",
       "y7IWNm8vlS+iPRqiniK5WJw8u77Hy/hZlkFugIm2M17gBK990V6LSeOIPPKWqwdQjDG6kRRwtiHa\n",
       "fzixLGEW+Y4qyuYzscYYVWPmrO/9o9g94ey1E8tSi3Uyuk83KJvPDEBhjEbgO8O3usdiZ1f4RO6T\n",
       "eJbGUCfrF9RZI5DMT1AYox3m7NReWix2jg92pUMSc6ark/vQxnpHcTaXKIzRoe8semUXyNLAjy1h\n",
       "9zz/YMtHHLV10kQWWlpL2xoJj+EZ1oeeM7cp/AbJGPV8Z99oIoxSL7bxgvVZNSXJdbaqkm03DD2l\n",
       "z6D0CQRjdOk523ObWvDGi41+MWc3U5J0Fr5PJVlOoI4726XmDPZ7IpuR7yw8prqV/Kuz0ycKORPj\n",
       "1pzhLDqKNWe7/miWaOjvgDImExt+dYUk5tnCQ418ZHRgf+xq82wxVkfzAVuba/bytunHlvlHYHad\n",
       "JN5/DTTywLlz2XymNFQYoy3mrGJ74nPeruEWtsgS9DUysrN3xv7dUpy1QN81zslZ52oGm2cHy1cD\n",
       "dBeHr5bynbZNMuWr15dNjayn4y38fPKeK9fbunuWZYyqTZbUrKEwZm3y6/TSiR9BQCMb+NPaE9ko\n",
       "oWSMyp0CZ7iuaNlQv/O5ZOFsXf+DmlXCv52CpiMLZkPudn5sXY5BMCRNSxbMhlyQf/79nnFknZ+e\n",
       "LJjN6A+ewtTLAejXagAAAABJRU5ErkJggg==\n",
       "\" style=\"display:inline;vertical-align:middle;\" /></a><br>"
      ],
      "text/plain": [
       "expr: (TRUE <=> FALSE) = ((TRUE => FALSE) and (FALSE => TRUE))"
      ]
     },
     "execution_count": 2,
     "metadata": {},
     "output_type": "execute_result"
    }
   ],
   "source": [
    "# build up the expression from sub-expressions\n",
    "expr = Equals(Iff(TRUE, FALSE), And(Implies(TRUE, FALSE), falseImpliesTrue.expr))"
   ]
  },
  {
   "cell_type": "code",
   "execution_count": 3,
   "metadata": {},
   "outputs": [
    {
     "name": "stdout",
     "output_type": "stream",
     "text": [
      "Passed sanity check: built 'expr' is the same as the stored Expression.\n"
     ]
    }
   ],
   "source": [
    "# check that the built expression is the same as the stored expression\n",
    "%check_expr"
   ]
  },
  {
   "cell_type": "code",
   "execution_count": 4,
   "metadata": {},
   "outputs": [
    {
     "data": {
      "text/html": [
       "<table><tr><th>&nbsp;</th><th>core type</th><th>sub-expressions</th><th>expression</th></tr>\n",
       "<tr><td>0</td><td>Operation</td><td>operator:&nbsp;1<br>operands:&nbsp;2<br></td><td><a class=\"ProveItLink\" href=\"expr.ipynb\"><img src=\"data:image/png;base64,iVBORw0KGgoAAAANSUhEUgAAATEAAAAVBAMAAADcAcTPAAAAMFBMVEX////c3NwiIiJERESqqqqY\n",
       "mJh2dnZmZmYQEBDu7u4yMjJUVFTMzMyIiIi6uroAAAAs73DqAAAAAXRSTlMAQObYZgAAAnxJREFU\n",
       "SMfNlj9oE1Ecx3/XJk0uOWNWI4XYLm6tgoNbN6FdOnUsWaQ4BIpIByeFDooQDqfSKR1ajYJk6yZO\n",
       "FtrlZlE4OkYKbm7F936/lzbv9/udd3Hywfde8u73ud/33r97AP9vaSS5IZtK24XTlGTBbMidQWUB\n",
       "y7IWNm8vlS+iPRqiniK5WJw8u77Hy/hZlkFugIm2M17gBK990V6LSeOIPPKWqwdQjDG6kRRwtiHa\n",
       "fzixLGEW+Y4qyuYzscYYVWPmrO/9o9g94ey1E8tSi3Uyuk83KJvPDEBhjEbgO8O3usdiZ1f4RO6T\n",
       "eJbGUCfrF9RZI5DMT1AYox3m7NReWix2jg92pUMSc6ark/vQxnpHcTaXKIzRoe8semUXyNLAjy1h\n",
       "9zz/YMtHHLV10kQWWlpL2xoJj+EZ1oeeM7cp/AbJGPV8Z99oIoxSL7bxgvVZNSXJdbaqkm03DD2l\n",
       "z6D0CQRjdOk523ObWvDGi41+MWc3U5J0Fr5PJVlOoI4726XmDPZ7IpuR7yw8prqV/Kuz0ycKORPj\n",
       "1pzhLDqKNWe7/miWaOjvgDImExt+dYUk5tnCQ418ZHRgf+xq82wxVkfzAVuba/bytunHlvlHYHad\n",
       "JN5/DTTywLlz2XymNFQYoy3mrGJ74nPeruEWtsgS9DUysrN3xv7dUpy1QN81zslZ52oGm2cHy1cD\n",
       "dBeHr5bynbZNMuWr15dNjayn4y38fPKeK9fbunuWZYyqTZbUrKEwZm3y6/TSiR9BQCMb+NPaE9ko\n",
       "oWSMyp0CZ7iuaNlQv/O5ZOFsXf+DmlXCv52CpiMLZkPudn5sXY5BMCRNSxbMhlyQf/79nnFknZ+e\n",
       "LJjN6A+ewtTLAejXagAAAABJRU5ErkJggg==\n",
       "\" style=\"display:inline;vertical-align:middle;\" /></a></td></tr>\n",
       "<tr><td>1</td><td>Literal</td><td></td><td><a class=\"ProveItLink\" href=\"../../../../equality/__pv_it/2fb26078095930560931daa0500ce419a39ea6cd0/expr.ipynb\"><img src=\"data:image/png;base64,iVBORw0KGgoAAAANSUhEUgAAAA4AAAAFBAMAAACHocAhAAAAFVBMVEX///9EREQiIiJUVFQyMjJm\n",
       "ZmYAAADubVkoAAAAAXRSTlMAQObYZgAAABRJREFUCNdjCHEBAWcGXCBICQQUAUpuAwlgGKrkAAAA\n",
       "AElFTkSuQmCC\n",
       "\" style=\"display:inline;vertical-align:middle;\" /></a></td></tr>\n",
       "<tr><td>2</td><td>ExprTuple</td><td>3, 4</td><td><a class=\"ProveItLink\" href=\"../86582cdf3e72c37046abb07a00b20e0d4a3aa73a0/expr.ipynb\"><img src=\"data:image/png;base64,iVBORw0KGgoAAAANSUhEUgAAAQ8AAAAVBAMAAACqO3ZEAAAAMFBMVEX////c3NwiIiJERESqqqqY\n",
       "mJh2dnZmZmYQEBDu7u4yMjJUVFTMzMyIiIi6uroAAAAs73DqAAAAAXRSTlMAQObYZgAAAhVJREFU\n",
       "SMfNVj1IQlEUvpp/L5/imhGYLW1p4N7W0NLUGC3hJESEc4RDEMijSVzSwcIl3NqiqSCXN0eDORpB\n",
       "TW3Sufc+03Pe1e6NhoTvvnfv+75zvuf9OY+xf/NLun9H3P2lRui6jB1m+W9FRVsa33ZZVPCyuanE\n",
       "6B0Z7fImoHQzSso1QtcWww9T/E6MC6J9MJPY8HoLhhpAwtU0Iok4qEOJO17vylADiDkkYQMpx+OS\n",
       "iIO2adCa7NjrjpkGMCAJxUvkFUYkEQd9pUHnNsQl/uaaaQBlkvCRN2mFkbIiaMQlxIh8XGcZMw2g\n",
       "hRPap3wtr7X9RlooqLeBPknQkFyt++zITAOo4oRPcnIHPZ+RquLtWOgaB00ei0vG+0+1NYAhSljz\n",
       "zojAmc/IUBWU1auIaL/zNuyy+J2RBoCNWDfymnb1jNiXjsJI0GF2x0gDqOCEITmPy/41UlHN94qj\n",
       "mppNQNNIAyiQhFu8OU8hrsWbguLtQh2y8MJisTY9M/oaQJEYifKT4BZzL/hmLCqCpplq+9p8oQWZ\n",
       "iQbQl2P3o4cW+AvkvuvSKq9LtQ/oSKK9Nxk0zzCRzfPdFu+NDsa+nI+TyUI5Piy9pFwDiKVIdYHl\n",
       "bjlk7IUf1yl/JaLFVh7xSXHbM9EAwnsanyLbTJNYwl1tTQkXoZlGdIhWgwxoaoRu8WduQrQaxDid\n",
       "Ck2N0AV0PxU1iM+/1AC+AOJHu1JrhiWyAAAAAElFTkSuQmCC\n",
       "\" style=\"display:inline;vertical-align:middle;\" /></a></td></tr>\n",
       "<tr><td>3</td><td>Operation</td><td>operator:&nbsp;5<br>operands:&nbsp;10<br></td><td><a class=\"ProveItLink\" href=\"../b94bbf86d4310ead15323c87dc9df59b296268150/expr.ipynb\"><img src=\"data:image/png;base64,iVBORw0KGgoAAAANSUhEUgAAAD8AAAAPBAMAAAChCwpBAAAALVBMVEX///+qqqpUVFS6urru7u4Q\n",
       "EBDc3NyIiIgyMjJ2dnbMzMxEREQiIiJmZmYAAABYjWgWAAAAAXRSTlMAQObYZgAAAHxJREFUGNNj\n",
       "uHMGBE4zYAFsBVDGWgbsgOsC6Qo4UHhYFJQDMXcCbgVcDSCnNeBWsDQG5KMXDrgUsLeAKeZmHApY\n",
       "oqH8VAUcJjhBBNjacbpBBhyqZxJwKmAEmc1yDE84XARiJgMMBSvhCjyAOBvC5AXaBfT1BrTQB2IX\n",
       "VCEApTox8zcl5nkAAAAASUVORK5CYII=\n",
       "\" style=\"display:inline;vertical-align:middle;\" /></a></td></tr>\n",
       "<tr><td>4</td><td>Operation</td><td>operator:&nbsp;6<br>operands:&nbsp;7<br></td><td><a class=\"ProveItLink\" href=\"../e40f31316e825262c4776b176674419d28e035e50/expr.ipynb\"><img src=\"data:image/png;base64,iVBORw0KGgoAAAANSUhEUgAAALUAAAAVBAMAAADyYbJ0AAAAMFBMVEX////c3NwiIiJERESqqqqY\n",
       "mJh2dnZmZmYQEBDu7u4yMjJUVFTMzMyIiIi6uroAAAAs73DqAAAAAXRSTlMAQObYZgAAAYVJREFU\n",
       "OMu1lTFLw0AUx181aauJwdWKUNLFsQrubn4DR3GRToKIdBbpHDJKp3aokkX6EZx06JIP4FA6KoKb\n",
       "W7H3Xqre5R9yCAZyL+/4//53eZe7EP3nFaSlkpO/MhOiy1BdLSTZUU3t0eidqKYCB1h6MZNw13PB\n",
       "8NI/yLKtLDLjX5QxG2neOzZ1x1l2L0EY3Rsx9TjvnZi6W0n8fRELo3sj5pXy3m+mbvWQg/cuLymM\n",
       "7o2YLvCupoauKjZ9anLsAm/EjDTvGq9y+GnoHFnMM7riONK8i5kIzJucB10XXHNoUoNjBOaNmDny\n",
       "pn6k6fwP1bopefylz5E3YKC3fxcD75WY/HGhN2B6qN6tGNXkaHEP1UMP1RswB2DezthYF5fXcpj5\n",
       "Z4w+b8R0gHeD0Dfot1VdVNoB3oiZSf70W7f3c+7s8hm2PlU7Z7rc7jMpxE0YtnPMt9eCqW/mDxvz\n",
       "2JM9H/CjGsCWcU8tzvhzPbVmknLZ2sDosGW2y3WeWQNbplL+f3oxO+yYL2pQfPxn3lNmAAAAAElF\n",
       "TkSuQmCC\n",
       "\" style=\"display:inline;vertical-align:middle;\" /></a></td></tr>\n",
       "<tr><td>5</td><td>Literal</td><td></td><td><a class=\"ProveItLink\" href=\"../9817cf888369307f52607b98db5e99fdc17b089e0/expr.ipynb\"><img src=\"data:image/png;base64,iVBORw0KGgoAAAANSUhEUgAAABQAAAANBAMAAABbflNtAAAAKlBMVEX///+qqqpUVFS6urru7u4i\n",
       "IiIQEBDc3NxERESIiIhmZmbMzMwyMjIAAAAneYQxAAAAAXRSTlMAQObYZgAAAFpJREFUCNdjYEAB\n",
       "BxgYuBeAWZwTgEQ7mLkHRNSACO60UCCIPQJkznEAy9kYMLg1QPSyJzGwaEGYNUDNjKFgEA7iC4EI\n",
       "1wIQySUAJJTBqliAtrFDNW8AcoEmAgB4jw/0RzyxkgAAAABJRU5ErkJggg==\n",
       "\" style=\"display:inline;vertical-align:middle;\" /></a></td></tr>\n",
       "<tr><td>6</td><td>Literal</td><td></td><td><a class=\"ProveItLink\" href=\"../../../conjunction/__pv_it/76b5f4f4c45c0b6a9b59b297fc07dfa9555698f50/expr.ipynb\"><img src=\"data:image/png;base64,iVBORw0KGgoAAAANSUhEUgAAAAwAAAAOBAMAAADpk+DfAAAALVBMVEX///+qqqqYmJh2dnaIiIi6\n",
       "urpUVFQiIiJERETMzMxmZmYyMjLu7u7c3NwAAABvwqPxAAAAAXRSTlMAQObYZgAAAEtJREFUCNdj\n",
       "YGDgPcAAAtwLwNSMGjCV6gIieTawgyhmBS4BIMXOwLsBSKkwMGQCKaC6aQwMjEBd3BdACMScAVJd\n",
       "wJAKolwYAkAUKwAk0guX6efcigAAAABJRU5ErkJggg==\n",
       "\" style=\"display:inline;vertical-align:middle;\" /></a></td></tr>\n",
       "<tr><td>7</td><td>ExprTuple</td><td>8, 9</td><td><a class=\"ProveItLink\" href=\"../20a0bf40feed7182fdce690f3fa3eb822c4b19270/expr.ipynb\"><img src=\"data:image/png;base64,iVBORw0KGgoAAAANSUhEUgAAAJcAAAAVBAMAAAC5yWGZAAAAMFBMVEX////c3NwiIiJERESqqqqY\n",
       "mJh2dnZmZmYQEBDu7u4yMjJUVFTMzMyIiIi6uroAAAAs73DqAAAAAXRSTlMAQObYZgAAASVJREFU\n",
       "OMtjYKAq4LtAHXPiQMRpBoYiJRBQxqZEFonNiNVamGb2A0DOSrDQcRz2IYvzFOBVtICBgfcCpmET\n",
       "iDEMQ1EYAwPHBEzDVhJjGIaiGQwMrzA1MbwmxjAMRcwODGVYDGO7QIRhGIrYChiWomhiB0eN0ne8\n",
       "huFQxLKAoQ+LyxhY1hERm+iK+BoY/mEzjGFWHxFJA00RzwfshvEsm0DYMHRFQMNasIWZ8gQiwgxd\n",
       "EdCbplhcxrIBNWw5sbkMXRED6wKGdCyGSaElofkKWAxDVwRKGo8g/GPI6gwReVgDlIdnfIT4rUlJ\n",
       "yQBDEVwz1wMGDgHMjHsAXeAhAxGKgNmJNYGIsiqAmAItFzXDUmQYJ7AIYpAmrI6XGIdxC+AsP0kH\n",
       "dxgYAGUsW84xC0V/AAAAAElFTkSuQmCC\n",
       "\" style=\"display:inline;vertical-align:middle;\" /></a></td></tr>\n",
       "<tr><td>8</td><td>Operation</td><td>operator:&nbsp;11<br>operands:&nbsp;10<br></td><td><a class=\"ProveItLink\" href=\"../c65898187aa5a4404b8e436d28e20f1178f211670/expr.ipynb\"><img src=\"data:image/png;base64,iVBORw0KGgoAAAANSUhEUgAAAD8AAAAPBAMAAAChCwpBAAAALVBMVEX////c3NwQEBCqqqqIiIhU\n",
       "VFS6uroyMjLu7u52dnbMzMxEREQiIiJmZmYAAACG8MiSAAAAAXRSTlMAQObYZgAAAGJJREFUGNNj\n",
       "uHMGBE4zYAGMDlDGWgbsgOsCNgUchBSwNxBQwBZAQAHDFNwKIB46d4GACQzmCQQUcBQl4FewfAZ+\n",
       "N5zZQcANpgS8yViAqWAlsgJuAQjNC7RM58yZDZgxhMYHACe9L414BCJLAAAAAElFTkSuQmCC\n",
       "\" style=\"display:inline;vertical-align:middle;\" /></a></td></tr>\n",
       "<tr><td>9</td><td>Operation</td><td>operator:&nbsp;11<br>operands:&nbsp;12<br></td><td><a class=\"ProveItLink\" href=\"../5c89411a8c468da13cdc01880daaa573c582a8db0/expr.ipynb\"><img src=\"data:image/png;base64,iVBORw0KGgoAAAANSUhEUgAAAD8AAAAPBAMAAAChCwpBAAAALVBMVEX///+qqqp2dnZUVFS6uroy\n",
       "MjLu7u5EREQQEBAiIiJmZmbMzMyIiIjc3NwAAAAGhiwUAAAAAXRSTlMAQObYZgAAAGVJREFUGNNj\n",
       "YGBguMOABXDNBIMCEHsXA3bAvQDKQFHARkgBawIBBSwGBBQw6OBWsBLs7nkLCJjAIOpAQAFbhAN+\n",
       "BVvV8LthZhkBNwgT8CZvAJoCoLkzZs6cDhdlv4BQoIA1htD4AF7PJ5Q+t8orAAAAAElFTkSuQmCC\n",
       "\" style=\"display:inline;vertical-align:middle;\" /></a></td></tr>\n",
       "<tr><td>10</td><td>ExprTuple</td><td>14, 13</td><td><a class=\"ProveItLink\" href=\"../0f60990fe1c69084ca218cead46950bf14732b6a0/expr.ipynb\"><img src=\"data:image/png;base64,iVBORw0KGgoAAAANSUhEUgAAADUAAAAVBAMAAAAUZLt1AAAAMFBMVEX////c3NwiIiJERESqqqqY\n",
       "mJh2dnZmZmYQEBDu7u4yMjJUVFTMzMyIiIi6uroAAAAs73DqAAAAAXRSTlMAQObYZgAAALFJREFU\n",
       "KM9jYMAH+C5gFY4DEacZ2JXAwAAmLAsi2A8AiZUgFk8BkpbjYHIBAwPvBRxyYQwMHBNwyM1gYHjF\n",
       "gEOO2YGhDJccWwHDUlxyLAsY+nDJ8TUw/MMlx/MBr1wLHjNNkeQmIMuxLmBIR8hxfkLzwyOIXAJI\n",
       "rl+AgaFISUlDSUmZgYHrAQOHAFJ0IbFBYcaagOCyIkdgLiyOMOU4gXHEII3gI6cAbpD5jNjTxB0G\n",
       "BgCWci1ZX87w6gAAAABJRU5ErkJggg==\n",
       "\" style=\"display:inline;vertical-align:middle;\" /></a></td></tr>\n",
       "<tr><td>11</td><td>Literal</td><td></td><td><a class=\"ProveItLink\" href=\"../e5c030cabcb650938f92dee8256fe11cd12bf9b30/expr.ipynb\"><img src=\"data:image/png;base64,iVBORw0KGgoAAAANSUhEUgAAABMAAAANBAMAAAC5okgUAAAALVBMVEX////c3NxERETMzMwQEBCq\n",
       "qqoiIiJmZmaIiIh2dnZUVFS6uroyMjLu7u4AAACPpZJTAAAAAXRSTlMAQObYZgAAAD1JREFUCNdj\n",
       "YAABXgY44LkAZ3IvQAjPABFlaSCQV4AQjtkAZ/IegbNt5sLUpunC5aPgLMYDcCaTAJzJDCIA2yMN\n",
       "HCCUuIIAAAAASUVORK5CYII=\n",
       "\" style=\"display:inline;vertical-align:middle;\" /></a></td></tr>\n",
       "<tr><td>12</td><td>ExprTuple</td><td>13, 14</td><td><a class=\"ProveItLink\" href=\"../f33a8d5708d13f20cb034555a092a5521deab66a0/expr.ipynb\"><img src=\"data:image/png;base64,iVBORw0KGgoAAAANSUhEUgAAADUAAAAVBAMAAAAUZLt1AAAAMFBMVEX////c3NwiIiJERESqqqqY\n",
       "mJh2dnZmZmYQEBDu7u4yMjJUVFTMzMyIiIi6uroAAAAs73DqAAAAAXRSTlMAQObYZgAAALBJREFU\n",
       "KM9jYMAH+C5gFY4DEadBBCNcQZESCCgzsB8AclaCRHgKkLQcB5MLGBh4L+CQC2Ng4JiAQ24GA8Mr\n",
       "BhxyzA4MZbjk2AoYluKSY1nA0IdLjq+B4R8uOZ4PeOVa8JhpiiQ3AVmOdQFDOkKO8xOaHx4xMLAD\n",
       "A7dJScmAs18ALHoMTHI9YOAQQIouJDYozFgTEFxW5AjMhcURphwnMI4YpBF85BTALYAS5SjgDgMD\n",
       "AMUhLsE7xITaAAAAAElFTkSuQmCC\n",
       "\" style=\"display:inline;vertical-align:middle;\" /></a></td></tr>\n",
       "<tr><td>13</td><td>Literal</td><td></td><td><a class=\"ProveItLink\" href=\"../../../__pv_it/8f1f7fac882de28c72b62ab80a1700b6d8fd066b0/expr.ipynb\"><img src=\"data:image/png;base64,iVBORw0KGgoAAAANSUhEUgAAAA4AAAAOBAMAAADtZjDiAAAAG1BMVEX///9EREQQEBAiIiJmZmbM\n",
       "zMyIiIjc3NwAAACryk5kAAAAAXRSTlMAQObYZgAAABlJREFUCNdjYGBgKGOAgBBa0s7GxkbGxoYA\n",
       "FMUF2aBfHgoAAAAASUVORK5CYII=\n",
       "\" style=\"display:inline;vertical-align:middle;\" /></a></td></tr>\n",
       "<tr><td>14</td><td>Literal</td><td></td><td><a class=\"ProveItLink\" href=\"../../../__pv_it/68a87cc3370287d726c7086ace789e680e4461c30/expr.ipynb\"><img src=\"data:image/png;base64,iVBORw0KGgoAAAANSUhEUgAAAA4AAAAOBAMAAADtZjDiAAAAFVBMVEX///92dnbMzMxEREQiIiJm\n",
       "ZmYAAABAT6GXAAAAAXRSTlMAQObYZgAAABhJREFUCNdjCHEBAWcGIFBlgABa0YpADAAxegPJJk4d\n",
       "XAAAAABJRU5ErkJggg==\n",
       "\" style=\"display:inline;vertical-align:middle;\" /></a></td></tr>\n",
       "</table>\n"
      ],
      "text/plain": [
       "0. (TRUE <=> FALSE) = ((TRUE => FALSE) and (FALSE => TRUE))\n",
       "   core type: Operation\n",
       "   operator: 1\n",
       "   operands: 2\n",
       "1. =\n",
       "   core type: Literal\n",
       "   sub-expressions: \n",
       "2. (TRUE <=> FALSE , (TRUE => FALSE) and (FALSE => TRUE))\n",
       "   core type: ExprTuple\n",
       "   sub-expressions: 3, 4\n",
       "3. TRUE <=> FALSE\n",
       "   core type: Operation\n",
       "   operator: 5\n",
       "   operands: 10\n",
       "4. (TRUE => FALSE) and (FALSE => TRUE)\n",
       "   core type: Operation\n",
       "   operator: 6\n",
       "   operands: 7\n",
       "5. <=>\n",
       "   core type: Literal\n",
       "   sub-expressions: \n",
       "6. and\n",
       "   core type: Literal\n",
       "   sub-expressions: \n",
       "7. (TRUE => FALSE , FALSE => TRUE)\n",
       "   core type: ExprTuple\n",
       "   sub-expressions: 8, 9\n",
       "8. TRUE => FALSE\n",
       "   core type: Operation\n",
       "   operator: 11\n",
       "   operands: 10\n",
       "9. FALSE => TRUE\n",
       "   core type: Operation\n",
       "   operator: 11\n",
       "   operands: 12\n",
       "10. (TRUE , FALSE)\n",
       "    core type: ExprTuple\n",
       "    sub-expressions: 14, 13\n",
       "11. =>\n",
       "    core type: Literal\n",
       "    sub-expressions: \n",
       "12. (FALSE , TRUE)\n",
       "    core type: ExprTuple\n",
       "    sub-expressions: 13, 14\n",
       "13. FALSE\n",
       "    core type: Literal\n",
       "    sub-expressions: \n",
       "14. TRUE\n",
       "    core type: Literal\n",
       "    sub-expressions: "
      ]
     },
     "execution_count": 4,
     "metadata": {},
     "output_type": "execute_result"
    }
   ],
   "source": [
    "# display the expression information\n",
    "expr.exprInfo()"
   ]
  },
  {
   "cell_type": "code",
   "execution_count": null,
   "metadata": {},
   "outputs": [],
   "source": []
  }
 ],
 "metadata": {
  "kernelspec": {
   "display_name": "Python 3",
   "language": "python",
   "name": "python3"
  }
 },
 "nbformat": 4,
 "nbformat_minor": 0
}
