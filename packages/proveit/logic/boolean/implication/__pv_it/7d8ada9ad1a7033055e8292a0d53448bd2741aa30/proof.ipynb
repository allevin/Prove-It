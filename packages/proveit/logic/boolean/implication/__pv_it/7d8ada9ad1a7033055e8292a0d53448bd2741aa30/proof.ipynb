{
 "cells": [
  {
   "cell_type": "markdown",
   "metadata": {},
   "source": [
    "Show the Proof\n",
    "========"
   ]
  },
  {
   "cell_type": "code",
   "execution_count": 1,
   "metadata": {},
   "outputs": [
    {
     "data": {
      "text/html": [
       "<table><tr><th>&nbsp;</th><th>step type</th><th>requirements</th><th>statement</th></tr>\n",
       "<tr><td>0</td><td>hypothetical reasoning</td><td>1</td><td><span style=\"font-size:20px;\"> <a class=\"ProveItLink\" href=\"proof.ipynb\" style=\"text-decoration: none\">&#x22A2;&nbsp;</a><a class=\"ProveItLink\" href=\"../f67ab77f78f8f75a75c6a699663ae07fe19cc24c0/expr.ipynb\"><img src=\"data:image/png;base64,iVBORw0KGgoAAAANSUhEUgAAALkAAAAVBAMAAADoXVL6AAAAMFBMVEX////c3NwiIiJERESqqqqY\n",
       "mJh2dnZmZmYQEBDu7u4yMjJUVFTMzMyIiIi6uroAAAAs73DqAAAAAXRSTlMAQObYZgAAAZdJREFU\n",
       "OMtjYKAt4LtAUEkcVtG3xOg6zcCuBAYGGPJFYHFlBvYDWDTzbIDL49G1Eqy0AIcDjoPJBVhkuCYg\n",
       "5HHq4r1AhOlhCAFOGOMuAyHTgbo4JqCZvgCFB1E3A93JQNBJ0HSgrlcMqKaD/WKIpo7ZAZEINkDp\n",
       "BQRNB+oqQzP9FIiQQlPHhhRwuRCKPYGg6UBdS1FN5+kARbj+SlR1LAsQiUEfopQrAMX0qlUgsBpd\n",
       "Vx+q6bcgwfrqAYo6vgYkh3mB5TgeEHQ7UNc/FNNnQBM9YzeKOp4PSFo5V4AM5idsOlAXqumc2yG0\n",
       "1AXcpp/KZCDa9BbUkGGB5FtFBiwhAwl3JUuwEIcDiumo2RauyxQtzXiDiEkCqKazImVWbwjFHEDQ\n",
       "7UBd6Wims4PctA93imSEWgQVIpAiH0FMT4DHGVA3I6JAOwZJfg/gAsxQb/EpIMmjA7guDgE0GWDJ\n",
       "xjkBTQypJOCBMRoJFtxAXawJRNQBuVjEwojStZKw4Zy4S2BCuqQJm84tgEWQcQMxuhgJ13x3sIrK\n",
       "EtYFAG52eKZeHsntAAAAAElFTkSuQmCC\n",
       "\" style=\"display:inline;vertical-align:middle;\" /></a></span></td></tr>\n",
       "<tr><td>1</td><td>theorem</td><td></td><td><span style=\"font-size:20px;\"> <a class=\"ProveItLink\" href=\"../../../_proofs_/trueEqTrue.ipynb\" style=\"text-decoration: none\">&#x22A2;&nbsp;</a><a class=\"ProveItLink\" href=\"../../../__pv_it/b61faf68579dfd168a6d68fc65de147af91ada740/expr.ipynb\"><img src=\"data:image/png;base64,iVBORw0KGgoAAAANSUhEUgAAADoAAAAOBAMAAACMfhKgAAAAG1BMVEX///9UVFQyMjJ2dnbMzMxE\n",
       "REQiIiJmZmYAAABH86hhAAAAAXRSTlMAQObYZgAAACxJREFUGNNjKEsDgVQGVIAk6s6ADbij0QMl\n",
       "W6QEAop0txc12KhhsjNWWZAoAMYCEPeA4IdqAAAAAElFTkSuQmCC\n",
       "\" style=\"display:inline;vertical-align:middle;\" /></a></span></td></tr>\n",
       "<tr><td>&nbsp;</td><td colspan=4 style-\"text-align:left\"><a class=\"ProveItLink\" href=\"../../../_proofs_/trueEqTrue.ipynb\">proveit.logic.boolean.trueEqTrue</a></td></tr></table>"
      ],
      "text/plain": [
       "<proveit._core_.proof._ShowProof at 0x7f94ebe187b8>"
      ]
     },
     "execution_count": 1,
     "metadata": {},
     "output_type": "execute_result"
    }
   ],
   "source": [
    "import proveit\n",
    "%show_proof"
   ]
  },
  {
   "cell_type": "code",
   "execution_count": null,
   "metadata": {},
   "outputs": [],
   "source": []
  }
 ],
 "metadata": {
  "kernelspec": {
   "display_name": "Python 3",
   "language": "python",
   "name": "python3"
  }
 },
 "nbformat": 4,
 "nbformat_minor": 0
}
