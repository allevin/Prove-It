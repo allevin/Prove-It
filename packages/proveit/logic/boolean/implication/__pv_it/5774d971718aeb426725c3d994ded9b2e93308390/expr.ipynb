{
 "cells": [
  {
   "cell_type": "markdown",
   "metadata": {},
   "source": [
    "Expression of type <a class=\"ProveItLink\" href=\"../../../../../../../doc/html/api/proveit.ExprTuple.html\">ExprTuple</a>\n",
    "=======================\n",
    "# from context <a class=\"ProveItLink\" href=\"../../_context_.ipynb\">proveit.logic.boolean.implication</a>"
   ]
  },
  {
   "cell_type": "code",
   "execution_count": 1,
   "metadata": {},
   "outputs": [],
   "source": [
    "# import Expression classes needed to build the expression\n",
    "from proveit import ExprTuple\n",
    "from proveit.logic import FALSE, Iff, TRUE"
   ]
  },
  {
   "cell_type": "code",
   "execution_count": 2,
   "metadata": {},
   "outputs": [
    {
     "data": {
      "text/html": [
       "<strong id=\"expr\">expr:</strong> <a class=\"ProveItLink\" href=\"expr.ipynb\"><img src=\"data:image/png;base64,iVBORw0KGgoAAAANSUhEUgAAAGYAAAAVBAMAAABGR4Y+AAAAMFBMVEX////c3NwiIiJERESqqqqY\n",
       "mJh2dnZmZmYQEBDu7u4yMjJUVFTMzMyIiIi6uroAAAAs73DqAAAAAXRSTlMAQObYZgAAAQJJREFU\n",
       "OMtjYCAH8F0gSTnrAyBxmoFdCQwMsKhgvIDBqQHilSAGTwF2U1HEIRwuBgbeCyTqYU1g4JiAJrcA\n",
       "mYdFD2cDwys0ObC9hnj0MJgwlKHJnQIRUvj0pDMsRZXj6QAFof5KPHq8GPpQ5W6Bvcfw6gFuPS8Y\n",
       "/qHIzYBGEmM3bj3n0fRwbofQUhfw6WlBlWOBpAlFBnxuM0WT8wYRkwRQlE1A0RMFDDlUPewOQGIf\n",
       "itGcn9DC+hGEmwBTxQlMB4yQkACl3SZg2uXsF0BwGBjWMXAIoCWxA0B9E9CyC7IaYNphTSAizyBz\n",
       "2C5A8wIJemYBsTRhPSg5eSN6ViQMeA8wAADgdkK5d+ffSgAAAABJRU5ErkJggg==\n",
       "\" style=\"display:inline;vertical-align:middle;\" /></a><br>"
      ],
      "text/plain": [
       "expr: (TRUE <=> FALSE , FALSE)"
      ]
     },
     "execution_count": 2,
     "metadata": {},
     "output_type": "execute_result"
    }
   ],
   "source": [
    "# build up the expression from sub-expressions\n",
    "expr = ExprTuple(Iff(TRUE, FALSE), FALSE)"
   ]
  },
  {
   "cell_type": "code",
   "execution_count": 3,
   "metadata": {},
   "outputs": [
    {
     "name": "stdout",
     "output_type": "stream",
     "text": [
      "Passed sanity check: built 'expr' is the same as the stored Expression.\n"
     ]
    }
   ],
   "source": [
    "# check that the built expression is the same as the stored expression\n",
    "%check_expr"
   ]
  },
  {
   "cell_type": "code",
   "execution_count": 4,
   "metadata": {},
   "outputs": [
    {
     "data": {
      "text/html": [
       "<table><tr><th>&nbsp;</th><th>core type</th><th>sub-expressions</th><th>expression</th></tr>\n",
       "<tr><td>0</td><td>ExprTuple</td><td>1, 5</td><td><a class=\"ProveItLink\" href=\"expr.ipynb\"><img src=\"data:image/png;base64,iVBORw0KGgoAAAANSUhEUgAAAGYAAAAVBAMAAABGR4Y+AAAAMFBMVEX////c3NwiIiJERESqqqqY\n",
       "mJh2dnZmZmYQEBDu7u4yMjJUVFTMzMyIiIi6uroAAAAs73DqAAAAAXRSTlMAQObYZgAAAQJJREFU\n",
       "OMtjYCAH8F0gSTnrAyBxmoFdCQwMsKhgvIDBqQHilSAGTwF2U1HEIRwuBgbeCyTqYU1g4JiAJrcA\n",
       "mYdFD2cDwys0ObC9hnj0MJgwlKHJnQIRUvj0pDMsRZXj6QAFof5KPHq8GPpQ5W6Bvcfw6gFuPS8Y\n",
       "/qHIzYBGEmM3bj3n0fRwbofQUhfw6WlBlWOBpAlFBnxuM0WT8wYRkwRQlE1A0RMFDDlUPewOQGIf\n",
       "itGcn9DC+hGEmwBTxQlMB4yQkACl3SZg2uXsF0BwGBjWMXAIoCWxA0B9E9CyC7IaYNphTSAizyBz\n",
       "2C5A8wIJemYBsTRhPSg5eSN6ViQMeA8wAADgdkK5d+ffSgAAAABJRU5ErkJggg==\n",
       "\" style=\"display:inline;vertical-align:middle;\" /></a></td></tr>\n",
       "<tr><td>1</td><td>Operation</td><td>operator:&nbsp;2<br>operands:&nbsp;3<br></td><td><a class=\"ProveItLink\" href=\"../b94bbf86d4310ead15323c87dc9df59b296268150/expr.ipynb\"><img src=\"data:image/png;base64,iVBORw0KGgoAAAANSUhEUgAAAD8AAAAPBAMAAAChCwpBAAAALVBMVEX///+qqqpUVFS6urru7u4Q\n",
       "EBDc3NyIiIgyMjJ2dnbMzMxEREQiIiJmZmYAAABYjWgWAAAAAXRSTlMAQObYZgAAAHxJREFUGNNj\n",
       "uHMGBE4zYAFsBVDGWgbsgOsC6Qo4UHhYFJQDMXcCbgVcDSCnNeBWsDQG5KMXDrgUsLeAKeZmHApY\n",
       "oqH8VAUcJjhBBNjacbpBBhyqZxJwKmAEmc1yDE84XARiJgMMBSvhCjyAOBvC5AXaBfT1BrTQB2IX\n",
       "VCEApTox8zcl5nkAAAAASUVORK5CYII=\n",
       "\" style=\"display:inline;vertical-align:middle;\" /></a></td></tr>\n",
       "<tr><td>2</td><td>Literal</td><td></td><td><a class=\"ProveItLink\" href=\"../9817cf888369307f52607b98db5e99fdc17b089e0/expr.ipynb\"><img src=\"data:image/png;base64,iVBORw0KGgoAAAANSUhEUgAAABQAAAANBAMAAABbflNtAAAAKlBMVEX///+qqqpUVFS6urru7u4i\n",
       "IiIQEBDc3NxERESIiIhmZmbMzMwyMjIAAAAneYQxAAAAAXRSTlMAQObYZgAAAFpJREFUCNdjYEAB\n",
       "BxgYuBeAWZwTgEQ7mLkHRNSACO60UCCIPQJkznEAy9kYMLg1QPSyJzGwaEGYNUDNjKFgEA7iC4EI\n",
       "1wIQySUAJJTBqliAtrFDNW8AcoEmAgB4jw/0RzyxkgAAAABJRU5ErkJggg==\n",
       "\" style=\"display:inline;vertical-align:middle;\" /></a></td></tr>\n",
       "<tr><td>3</td><td>ExprTuple</td><td>4, 5</td><td><a class=\"ProveItLink\" href=\"../0f60990fe1c69084ca218cead46950bf14732b6a0/expr.ipynb\"><img src=\"data:image/png;base64,iVBORw0KGgoAAAANSUhEUgAAADUAAAAVBAMAAAAUZLt1AAAAMFBMVEX////c3NwiIiJERESqqqqY\n",
       "mJh2dnZmZmYQEBDu7u4yMjJUVFTMzMyIiIi6uroAAAAs73DqAAAAAXRSTlMAQObYZgAAALFJREFU\n",
       "KM9jYMAH+C5gFY4DEacZ2JXAwAAmLAsi2A8AiZUgFk8BkpbjYHIBAwPvBRxyYQwMHBNwyM1gYHjF\n",
       "gEOO2YGhDJccWwHDUlxyLAsY+nDJ8TUw/MMlx/MBr1wLHjNNkeQmIMuxLmBIR8hxfkLzwyOIXAJI\n",
       "rl+AgaFISUlDSUmZgYHrAQOHAFJ0IbFBYcaagOCyIkdgLiyOMOU4gXHEII3gI6cAbpD5jNjTxB0G\n",
       "BgCWci1ZX87w6gAAAABJRU5ErkJggg==\n",
       "\" style=\"display:inline;vertical-align:middle;\" /></a></td></tr>\n",
       "<tr><td>4</td><td>Literal</td><td></td><td><a class=\"ProveItLink\" href=\"../../../__pv_it/68a87cc3370287d726c7086ace789e680e4461c30/expr.ipynb\"><img src=\"data:image/png;base64,iVBORw0KGgoAAAANSUhEUgAAAA4AAAAOBAMAAADtZjDiAAAAFVBMVEX///92dnbMzMxEREQiIiJm\n",
       "ZmYAAABAT6GXAAAAAXRSTlMAQObYZgAAABhJREFUCNdjCHEBAWcGIFBlgABa0YpADAAxegPJJk4d\n",
       "XAAAAABJRU5ErkJggg==\n",
       "\" style=\"display:inline;vertical-align:middle;\" /></a></td></tr>\n",
       "<tr><td>5</td><td>Literal</td><td></td><td><a class=\"ProveItLink\" href=\"../../../__pv_it/8f1f7fac882de28c72b62ab80a1700b6d8fd066b0/expr.ipynb\"><img src=\"data:image/png;base64,iVBORw0KGgoAAAANSUhEUgAAAA4AAAAOBAMAAADtZjDiAAAAG1BMVEX///9EREQQEBAiIiJmZmbM\n",
       "zMyIiIjc3NwAAACryk5kAAAAAXRSTlMAQObYZgAAABlJREFUCNdjYGBgKGOAgBBa0s7GxkbGxoYA\n",
       "FMUF2aBfHgoAAAAASUVORK5CYII=\n",
       "\" style=\"display:inline;vertical-align:middle;\" /></a></td></tr>\n",
       "</table>\n"
      ],
      "text/plain": [
       "0. (TRUE <=> FALSE , FALSE)\n",
       "   core type: ExprTuple\n",
       "   sub-expressions: 1, 5\n",
       "1. TRUE <=> FALSE\n",
       "   core type: Operation\n",
       "   operator: 2\n",
       "   operands: 3\n",
       "2. <=>\n",
       "   core type: Literal\n",
       "   sub-expressions: \n",
       "3. (TRUE , FALSE)\n",
       "   core type: ExprTuple\n",
       "   sub-expressions: 4, 5\n",
       "4. TRUE\n",
       "   core type: Literal\n",
       "   sub-expressions: \n",
       "5. FALSE\n",
       "   core type: Literal\n",
       "   sub-expressions: "
      ]
     },
     "execution_count": 4,
     "metadata": {},
     "output_type": "execute_result"
    }
   ],
   "source": [
    "# display the expression information\n",
    "expr.exprInfo()"
   ]
  },
  {
   "cell_type": "code",
   "execution_count": null,
   "metadata": {},
   "outputs": [],
   "source": []
  }
 ],
 "metadata": {
  "kernelspec": {
   "display_name": "Python 3",
   "language": "python",
   "name": "python3"
  }
 },
 "nbformat": 4,
 "nbformat_minor": 0
}
