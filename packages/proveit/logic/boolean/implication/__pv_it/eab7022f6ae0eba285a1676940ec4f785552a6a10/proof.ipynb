{
 "cells": [
  {
   "cell_type": "markdown",
   "metadata": {},
   "source": [
    "Show the Proof\n",
    "========"
   ]
  },
  {
   "cell_type": "code",
   "execution_count": 1,
   "metadata": {},
   "outputs": [
    {
     "data": {
      "text/html": [
       "<table><tr><th>&nbsp;</th><th>step type</th><th>requirements</th><th>statement</th></tr>\n",
       "<tr><td>0</td><td>assumption</td><td></td><td><span style=\"font-size:20px;\"><a class=\"ProveItLink\" href=\"../2d43b128084366334324441f7be28bfabcfadd740/expr.ipynb\"><img src=\"data:image/png;base64,iVBORw0KGgoAAAANSUhEUgAAAI8AAAAVBAMAAACNsKCFAAAAMFBMVEX////c3NxERESqqqpUVFS6\n",
       "urrMzMwyMjIQEBCIiIh2dnYiIiLu7u5mZmaYmJgAAABXZE4RAAAAAXRSTlMAQObYZgAAAiNJREFU\n",
       "OMtjYGDgu8dAGWBbJQCieHaByEh0Wb4AbHpYJ2BTxtYMYnJ+ADEdEFL+X1ycShkYrmEzKAWFl80A\n",
       "VXYdRHA1AAn2AwhpDgUGhvsBDOzYDKpB4dWDdIIYK+AGzUSSzgc6P9+BgW8BQghmDSeKz/j2A8XB\n",
       "yhAG9SDJzwcG3fsFDDwNmA7hOIBskPB9oEqwMrhBrAVI8hpAvAOoQxkhFAKlw1F8NmE+KKSVkQ3i\n",
       "RfIGwxcGBnEdIL0WIcQF9dItlBg8YP8AqgxsEC/QNewPkFLFl5lz94EY5mDZ3WDwFyJXh2zQUXBo\n",
       "gpW9B/EzgO7jAOLbIA3ANMX5kYHhNCg1RCBpYi4FU60wk0E+CGCQvwBVxg5kpLQBGfwBiHTCBPQq\n",
       "5z9Q7CFbf7wVRH6FuRpoEZuLi78CTJk60EsRCagG8QMV8f1CM4it6gC6QaxAjxRAlXGDXMgC5HEY\n",
       "IAzKBxrO8hnmNWgYbYLEezOSQUAt3A1QZeAw4toA9M4DhEGgZCQPsuo5UhBBc5AewiBGoEHsH6DK\n",
       "4NHPdQGmApyM2NoPoEa/OJSGCyUwHAeSTH+Qox+cIDfA9Vz67+JSDnZgKcIgRSgdDRcR6i9k4NP/\n",
       "fgGiDJFFGjHzJ3IWSYBlEQHsyhAGvcI0iGsCphhyRkZWBjaID70YgaUcwsUIXBm4POLZCSQYHTBU\n",
       "OGIzSASrMrZWiHsXAwlJdAWcCdgMYpyARRm4zAYARRmPwYytMVwAAAAASUVORK5CYII=\n",
       "\" style=\"display:inline;vertical-align:middle;\" /></a> <a class=\"ProveItLink\" href=\"proof.ipynb\" style=\"text-decoration: none\">&#x22A2;&nbsp;</a><a class=\"ProveItLink\" href=\"../1cb7d4d9e535dffc8c0d1a976e26c491544c5f510/expr.ipynb\"><img src=\"data:image/png;base64,iVBORw0KGgoAAAANSUhEUgAAAHkAAAAVBAMAAACQ4lxbAAAAMFBMVEX////c3NwiIiJERESqqqqY\n",
       "mJh2dnZmZmYQEBDu7u4yMjJUVFTMzMyIiIi6uroAAAAs73DqAAAAAXRSTlMAQObYZgAAAb5JREFU\n",
       "OMullL9Lw0AUx9/Z1iY1aTO4iVA6iODgJFQXuwm6FIUugnYTh4J0cK7oooM4Ogoi2snOBrGj2EH/\n",
       "AEuDm4JQERVbbL0fSe6lOXAw0L67bz7fdz/eXQD+9yQfBpU1JfeqxBqyv9q37TkH4nWF2agFemkQ\n",
       "WBWJu1TrAZwo3ImjQK8NHDPRxI0f+usCFKSke41mINfyN3BMQznNN4DYJ8CxYsh9bCYLlGTYCxIj\n",
       "FYAhikVyck/d5SYDqzHNHnBsG4mpGpBTOtjwltRKIsSL2P0c/QCOnSHx/rpZztMY5QOVM+yZFpkS\n",
       "ecTpDtshhh3SvByjyVsW6FNsmhWELjrsX3PcdBPsPZAvgfVQPbM0tuggRhsPdMHsKcftsuPRsO13\n",
       "4Bh202LBenHAfbcJg27aPhDuPek22Fbc5LyZi3VnZvlrLSfdURomxcxnpJuVm3RoO4bKs+QWMy/d\n",
       "ozRcCmzDw+q83LdVCFSMuIl8yQCdSfOisE8+GJ/v2le8gAlHHiDLPS1pP1+2Y8FK/5xjmhW+Eeik\n",
       "Gl5jR4nFimG5pLhjBTVWDan63zfUx8ZC4IhiMUBqSoyEvkyPyi/TuAL7BdKec4W7hfHjAAAAAElF\n",
       "TkSuQmCC\n",
       "\" style=\"display:inline;vertical-align:middle;\" /></a></span></td></tr>\n",
       "</table>"
      ],
      "text/plain": [
       "<proveit._core_.proof._ShowProof at 0x7f94eb6477b8>"
      ]
     },
     "execution_count": 1,
     "metadata": {},
     "output_type": "execute_result"
    }
   ],
   "source": [
    "import proveit\n",
    "%show_proof"
   ]
  },
  {
   "cell_type": "code",
   "execution_count": null,
   "metadata": {},
   "outputs": [],
   "source": []
  }
 ],
 "metadata": {
  "kernelspec": {
   "display_name": "Python 3",
   "language": "python",
   "name": "python3"
  }
 },
 "nbformat": 4,
 "nbformat_minor": 0
}
