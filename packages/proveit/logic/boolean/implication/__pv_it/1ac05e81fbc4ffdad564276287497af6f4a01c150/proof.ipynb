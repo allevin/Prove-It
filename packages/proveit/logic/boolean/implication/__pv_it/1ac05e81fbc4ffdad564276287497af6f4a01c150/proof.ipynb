{
 "cells": [
  {
   "cell_type": "markdown",
   "metadata": {},
   "source": [
    "Show the Proof\n",
    "========"
   ]
  },
  {
   "cell_type": "code",
   "execution_count": 1,
   "metadata": {},
   "outputs": [
    {
     "data": {
      "text/html": [
       "<table><tr><th>&nbsp;</th><th>step type</th><th>requirements</th><th>statement</th></tr>\n",
       "<tr><td>0</td><td>specialization</td><td>1, 2</td><td><span style=\"font-size:20px;\"><a class=\"ProveItLink\" href=\"../ea43d3049d30f51dc709dd6c7b1435e552ef8f030/expr.ipynb\"><img src=\"data:image/png;base64,iVBORw0KGgoAAAANSUhEUgAAAHUAAAAVBAMAAACK3rzVAAAAMFBMVEX////c3NxERESqqqpUVFS6\n",
       "urrMzMwyMjIQEBCIiIh2dnYiIiLu7u5mZmaYmJgAAABXZE4RAAAAAXRSTlMAQObYZgAAAbZJREFU\n",
       "OMtjYGDgu8dAMmBbJQCieHahiEYS1McXANLcDGJyfkAx0AEo6f/FxakUu8ZsIL4GYlwHEVwNyHLs\n",
       "B4AEhwIDw/0ArHrrQWpAjBWYemeCiPwJQOwAFzuA5N79QA7fAux6e0DEfGBAvF8AF6tBSAvfB0rx\n",
       "NGDVy1oAIjWAeAfCthCE/IT5IK8oY9XLC7btCwODuA5CkGsC3OgD9g+A1FqYXt4C5KACSbF9mTl3\n",
       "H8So3WDwFyZ9FBwUDOZA/B7EzwiAqQHayQFyEudHBobTDkgmMsMiLIBB/gKQigDZAmSktCFHLT9I\n",
       "LxPQF5z/kEPweCtEhYuLvwIoHkAcdaATIxLQ9fKD0scv5ARTBQk4VqDDCqB6uUEhw1KApJfDACQF\n",
       "NJHlM5J/N0HDHCjJ3QB1M9i/XBuQ9DI9gEavPFIIMkP9zgjUyw5Kwc8x4wjoeK4LkOhla0dKTOIw\n",
       "X4PC4g9yHKGmDaAjLv13cSl/gCSoCKGE+gsZ+PS/A00vxZ4mG7Gk/wQ0Po40yfCKiIwPTmdgvXyY\n",
       "eZAAOA7Pvzw7kcUZHQjrdQRFCiS18C1GlpAkqJUzAVpeAQBFpHVsul/sRwAAAABJRU5ErkJggg==\n",
       "\" style=\"display:inline;vertical-align:middle;\" /></a> <a class=\"ProveItLink\" href=\"proof.ipynb\" style=\"text-decoration: none\">&#x22A2;&nbsp;</a><a class=\"ProveItLink\" href=\"../337455f948d88f33b05b33e74f542cbe0a5e30e80/expr.ipynb\"><img src=\"data:image/png;base64,iVBORw0KGgoAAAANSUhEUgAAAF8AAAAVBAMAAADSoS/MAAAAMFBMVEX////c3NxERESqqqqYmJgQ\n",
       "EBDu7u4yMjKIiIi6urpUVFTMzMx2dnYiIiJmZmYAAABjE816AAAAAXRSTlMAQObYZgAAAX5JREFU\n",
       "OMtjYCAfcDYQVOKJwtsFxF7/V61Sn4BVMfcFBga+DcgiZSAiCCj6E6sG9g9AogBJgAPkIu4fQPwL\n",
       "qwbfb0DCB0mANQGk6yMDA8sfqJFAvA8uzWgHlGJIRdIwHUQwBTAw8IZBBDpAfAG4AzhALmUyQGh4\n",
       "AyL4FzAwFiVAPAlyLyPc0dOYvwBJngcIDSUgYv+KjrcOEP7W2LtA8B2im4FtAsh7DMwFDG9BwneA\n",
       "7EiQeL8AA9stiBPKIJFTCY0kBsZ/ICoAEQXgwFQFaQJZwRYEtVh0AUTFqlWfQO78gKYBFKL+B0Cs\n",
       "LIhrGSsgKoCRGY6mIRjEB3lsPSQkbO+CASSYmIH4KpqTVKDRwPgdIsYMcgvbRQhHGIjrgZgFGmrc\n",
       "QHwOGg1by6CufwzEXJB0xQZSp5+AGqxzgalI/9eq5SUwgXQgFoJ4RPW7AIPT/zpg7CMlTFYB9OQJ\n",
       "xGloYshJg+UAEXnmBEbyxg/YkJM3gxRhDVwozmYknEW7GRgA5xlgXAZDpx4AAAAASUVORK5CYII=\n",
       "\" style=\"display:inline;vertical-align:middle;\" /></a></span></td></tr>\n",
       "<tr><td>&nbsp;</td><td colspan=4 style=\"text-align:left\"><span style=\"font-size:20px;\"><a class=\"ProveItLink\" href=\"../../../../../__pv_it/2cbe72a7ad6f655694dd697106680215e8489b600/expr.ipynb\"><img src=\"data:image/png;base64,iVBORw0KGgoAAAANSUhEUgAAAA8AAAAOBAMAAAACpFvcAAAALVBMVEX///8QEBBERERUVFS6urqI\n",
       "iIhmZmaqqqrc3Nzu7u6YmJgyMjIiIiLMzMwAAADtIaYWAAAAAXRSTlMAQObYZgAAAFtJREFUCNdj\n",
       "YACBOwxQsA9Kc52bAGG05zVAGAFxDmCaZULdAjBjCsO9ADDDgaEvAUTzGhvbKYCVMDAwbgAxChgY\n",
       "eASANAeQwf0AyJgNxEwvGRia5HYwcOm9TgAA6BoR3jrzwFcAAAAASUVORK5CYII=\n",
       "\" style=\"display:inline;vertical-align:middle;\" /></a> : <a class=\"ProveItLink\" href=\"../../../../../__pv_it/077b2ff79244fb4582cbe22c6e3356fa92a52f2f0/expr.ipynb\"><img src=\"data:image/png;base64,iVBORw0KGgoAAAANSUhEUgAAABAAAAAOBAMAAADUAYG5AAAAMFBMVEX///+qqqru7u4iIiJ2dnbc\n",
       "3NyIiIjMzMxmZmYQEBC6uroyMjJERERUVFSYmJgAAADLUcuvAAAAAXRSTlMAQObYZgAAAGpJREFU\n",
       "CNdjYGB4+//u3dMLGIBgDgMDxy8gzf4NiP8CGWxfGRj4vgAZPBMYGJgnARn8FxhY9ygAGfXX0pof\n",
       "gDTlBzAw2YIYJ0EckBBI53sHoBH/gIz7AhBjWH9DjancBLTl/N+7t/cxMAAA3u4f/5xagjYAAAAA\n",
       "SUVORK5CYII=\n",
       "\" style=\"display:inline;vertical-align:middle;\" /></a>, <a class=\"ProveItLink\" href=\"../../../../../__pv_it/077b2ff79244fb4582cbe22c6e3356fa92a52f2f0/expr.ipynb\"><img src=\"data:image/png;base64,iVBORw0KGgoAAAANSUhEUgAAABAAAAAOBAMAAADUAYG5AAAAMFBMVEX///+qqqru7u4iIiJ2dnbc\n",
       "3NyIiIjMzMxmZmYQEBC6uroyMjJERERUVFSYmJgAAADLUcuvAAAAAXRSTlMAQObYZgAAAGpJREFU\n",
       "CNdjYGB4+//u3dMLGIBgDgMDxy8gzf4NiP8CGWxfGRj4vgAZPBMYGJgnARn8FxhY9ygAGfXX0pof\n",
       "gDTlBzAw2YIYJ0EckBBI53sHoBH/gIz7AhBjWH9DjancBLTl/N+7t/cxMAAA3u4f/5xagjYAAAAA\n",
       "SUVORK5CYII=\n",
       "\" style=\"display:inline;vertical-align:middle;\" /></a> : <a class=\"ProveItLink\" href=\"../../../../../__pv_it/2cbe72a7ad6f655694dd697106680215e8489b600/expr.ipynb\"><img src=\"data:image/png;base64,iVBORw0KGgoAAAANSUhEUgAAAA8AAAAOBAMAAAACpFvcAAAALVBMVEX///8QEBBERERUVFS6urqI\n",
       "iIhmZmaqqqrc3Nzu7u6YmJgyMjIiIiLMzMwAAADtIaYWAAAAAXRSTlMAQObYZgAAAFtJREFUCNdj\n",
       "YACBOwxQsA9Kc52bAGG05zVAGAFxDmCaZULdAjBjCsO9ADDDgaEvAUTzGhvbKYCVMDAwbgAxChgY\n",
       "eASANAeQwf0AyJgNxEwvGRia5HYwcOm9TgAA6BoR3jrzwFcAAAAASUVORK5CYII=\n",
       "\" style=\"display:inline;vertical-align:middle;\" /></a></span></td></tr><tr><td>1</td><td>theorem</td><td></td><td><span style=\"font-size:20px;\"> <a class=\"ProveItLink\" href=\"../../_proofs_/notIffViaNotRightImpl.ipynb\" style=\"text-decoration: none\">&#x22A2;&nbsp;</a><a class=\"ProveItLink\" href=\"../93acd11154bde9128889720515b69434910a22f20/expr.ipynb\"><img src=\"data:image/png;base64,iVBORw0KGgoAAAANSUhEUgAAAPcAAAAXBAMAAAAl5sTiAAAAMFBMVEX///8QEBC6urrMzMxUVFRm\n",
       "ZmZERETc3NwyMjKqqqp2dnaIiIiYmJgiIiLu7u4AAAAU9Wx4AAAAAXRSTlMAQObYZgAAA35JREFU\n",
       "SMfFVk1oE0EUfsk22aS73VYU2lPJQURQbA4FRQ8NNRZvDdrUkzRFmnqyC4qtlNogSPVic7CCeOlJ\n",
       "K0KJaEHJoVFBtCKthyLUVlNQD0K02D9ra+ubN7PNZrOxhyg+eDvzzUze996bNzMB+J+S/itW9hQE\n",
       "tvJU6AQDr4rklgL5QJqwWag2LgQbLoHLD6R32di1Isk96XzgmbNb6YgAtPgghl3U89jIkSLJkzbg\n",
       "9brdyroEagDGsDvG/XTFiySvzgfywLLAGKEUMiZHdYDxQZjFLqp6p7Ozp0huZywfKMp3jhWMFdqN\n",
       "2VbUN2lwY7hMl6LRqS3Nn7UfFhlzDZrGBNjnXeP4APt0GbML2D8DUBrietjwq4++NxbDDX6KwGRQ\n",
       "JoMePTvi7Qg3nYKDosRS5nojoPmkVV7022ZQPoiSlhaSI9Ps5zGuO0GjRKk8TWoFKBWs4zYZ5P1x\n",
       "n2noCcB9KOUjDmxOMo4pAZjr8iLNPeK1v5uvVLAQMngUnRVcy0AhXz/xNLkC4Fy2kt+iYFrMATYB\n",
       "1OjcbSg3vKrdBLXB4BJrZ8VBknfwKJBQQSJpjquSKiPnhidpuiwBrgkrOe1LaYbX7E36vsNgac/s\n",
       "yfFTRR4f4TNdCb4So1Z/Zsm1WC3tRiJK09/88EK3ktM+HHLzKNxsWpsHtc840464iZyAlxU1L44Z\n",
       "krfimGPySlayaYf2ejZcwgJBqUk+PAMWcomyG8CMNEej0dPb2Z6uJhvSrGBoacpETuACaj8fu84+\n",
       "GT17zHvRmioUBijLL2GUpoewltJZ8tvIFnOy21qNK+LCdB3HPYiBWi3OER0a7qUAVAsdvNToBqvP\n",
       "HnOpKp09auBg26FNhvniNsx8PDfyiJeRZ8LN4sKU2nRwh0BbMcid5jcEgdz6Q4fnG5cJM0eM+7t5\n",
       "Ixi8wjLj8XEFlZG6dKij440Wa/wWcif77QmQ5mEkjMJqqDwOznmAXXxFpfnmqbTcRGhNsz7c4noV\n",
       "shftpeQ+kNdBnrTseUTDyJzo8Bp8RfnCMtWbhp4QPQ4Am40NKCD3hJJ8XAK5cVpag6HF8NG4hdwP\n",
       "70FrjMC5Xymjqkr7w01XsT1W+En9k7Ct0GLWtz7vVuPy2LzooqkvDMjmPxM5wF5KdK45sr8A+ecC\n",
       "RrwJ0ek2j3ZvSf5AaI6kCpB7UwUi+Ff/LHMMP7NfM1wcxW8Y9+5GWhd5MwAAAABJRU5ErkJggg==\n",
       "\" style=\"display:inline;vertical-align:middle;\" /></a></span></td></tr>\n",
       "<tr><td>&nbsp;</td><td colspan=4 style-\"text-align:left\"><a class=\"ProveItLink\" href=\"../../_proofs_/notIffViaNotRightImpl.ipynb\">proveit.logic.boolean.implication.notIffViaNotRightImpl</a></td></tr><tr><td>2</td><td>assumption</td><td></td><td><span style=\"font-size:20px;\"><a class=\"ProveItLink\" href=\"../ea43d3049d30f51dc709dd6c7b1435e552ef8f030/expr.ipynb\"><img src=\"data:image/png;base64,iVBORw0KGgoAAAANSUhEUgAAAHUAAAAVBAMAAACK3rzVAAAAMFBMVEX////c3NxERESqqqpUVFS6\n",
       "urrMzMwyMjIQEBCIiIh2dnYiIiLu7u5mZmaYmJgAAABXZE4RAAAAAXRSTlMAQObYZgAAAbZJREFU\n",
       "OMtjYGDgu8dAMmBbJQCieHahiEYS1McXANLcDGJyfkAx0AEo6f/FxakUu8ZsIL4GYlwHEVwNyHLs\n",
       "B4AEhwIDw/0ArHrrQWpAjBWYemeCiPwJQOwAFzuA5N79QA7fAux6e0DEfGBAvF8AF6tBSAvfB0rx\n",
       "NGDVy1oAIjWAeAfCthCE/IT5IK8oY9XLC7btCwODuA5CkGsC3OgD9g+A1FqYXt4C5KACSbF9mTl3\n",
       "H8So3WDwFyZ9FBwUDOZA/B7EzwiAqQHayQFyEudHBobTDkgmMsMiLIBB/gKQigDZAmSktCFHLT9I\n",
       "LxPQF5z/kEPweCtEhYuLvwIoHkAcdaATIxLQ9fKD0scv5ARTBQk4VqDDCqB6uUEhw1KApJfDACQF\n",
       "NJHlM5J/N0HDHCjJ3QB1M9i/XBuQ9DI9gEavPFIIMkP9zgjUyw5Kwc8x4wjoeK4LkOhla0dKTOIw\n",
       "X4PC4g9yHKGmDaAjLv13cSl/gCSoCKGE+gsZ+PS/A00vxZ4mG7Gk/wQ0Po40yfCKiIwPTmdgvXyY\n",
       "eZAAOA7Pvzw7kcUZHQjrdQRFCiS18C1GlpAkqJUzAVpeAQBFpHVsul/sRwAAAABJRU5ErkJggg==\n",
       "\" style=\"display:inline;vertical-align:middle;\" /></a> <a class=\"ProveItLink\" href=\"../8efca6313a3f8e46cb40c92ad21ea5c02f15c6c20/proof.ipynb\" style=\"text-decoration: none\">&#x22A2;&nbsp;</a><a class=\"ProveItLink\" href=\"../779ff1c58fe0aee92ef3c1921919f710e7728f770/expr.ipynb\"><img src=\"data:image/png;base64,iVBORw0KGgoAAAANSUhEUgAAAF8AAAAVBAMAAADSoS/MAAAAMFBMVEX////c3NxERESqqqqYmJgQ\n",
       "EBDu7u4yMjKIiIi6urpUVFTMzMx2dnYiIiJmZmYAAABjE816AAAAAXRSTlMAQObYZgAAAWJJREFU\n",
       "OMtjYCAfcDYQVOKJwtsFxF7/V61Sn4BVMfcFBga+DcgiZSAiCCj6E6sG9g9AogBJgAPkIu4fQPwL\n",
       "LsaGJO/7DUj4IAmwJoB0fWRgYPmDMDUBzmS0A0oxpCJpmA4imAIYGHjDEOGwAOEADpBLmQwQGt6A\n",
       "CP4FDIxFCGMZTsBZ05i/AEmeBwi5EhCxf0XHWwcw9+1dELgPU8A2AeQ9BuYCiMQdIDsSJN4vwMB2\n",
       "CzlszKFhzMnA+A9EBSCiAByYqiBNDkga2EohOnatWvUJFIof0DSAQtT/AJKG7ccgNFBbOJqGYBAf\n",
       "5LH1Bgg/3FWDKGAG4qtoTlKBRgPjdyQLrKC0MBDXAzELNKq5gfgcNBq2liHUM0Ll2UC0fgJqsM4F\n",
       "piL9X6uWlyBZwCQA0af6XYDB6X8dMOqREiarAJYUii6AnDRYDhCRZ05gJG/8gA05eTNIEdbAheJs\n",
       "RsJZtJuBAQDNwl47SVjYZQAAAABJRU5ErkJggg==\n",
       "\" style=\"display:inline;vertical-align:middle;\" /></a></span></td></tr>\n",
       "</table>"
      ],
      "text/plain": [
       "<proveit._core_.proof._ShowProof at 0x7f94ebe2cbe0>"
      ]
     },
     "execution_count": 1,
     "metadata": {},
     "output_type": "execute_result"
    }
   ],
   "source": [
    "import proveit\n",
    "%show_proof"
   ]
  },
  {
   "cell_type": "code",
   "execution_count": null,
   "metadata": {},
   "outputs": [],
   "source": []
  }
 ],
 "metadata": {
  "kernelspec": {
   "display_name": "Python 3",
   "language": "python",
   "name": "python3"
  }
 },
 "nbformat": 4,
 "nbformat_minor": 0
}
