{
 "cells": [
  {
   "cell_type": "markdown",
   "metadata": {},
   "source": [
    "Expression of type <a class=\"ProveItLink\" href=\"../../../../../../../doc/html/api/proveit.logic.Forall.html\">Forall</a>\n",
    "=======================\n",
    "# from context <a class=\"ProveItLink\" href=\"../../_context_.ipynb\">proveit.logic.boolean.implication</a>"
   ]
  },
  {
   "cell_type": "code",
   "execution_count": 1,
   "metadata": {},
   "outputs": [],
   "source": [
    "# import Expression classes needed to build the expression\n",
    "from proveit._common_ import B\n",
    "from proveit.logic import Booleans, Equals, FALSE, Forall, Iff"
   ]
  },
  {
   "cell_type": "code",
   "execution_count": 2,
   "metadata": {},
   "outputs": [
    {
     "data": {
      "text/html": [
       "<strong id=\"expr\">expr:</strong> <a class=\"ProveItLink\" href=\"expr.ipynb\"><img src=\"data:image/png;base64,iVBORw0KGgoAAAANSUhEUgAAAMEAAAAXBAMAAABACzadAAAAMFBMVEX///8QEBC6urrMzMxUVFRm\n",
       "ZmZERETc3NwyMjKqqqp2dnaIiIiYmJgiIiLu7u4AAAAU9Wx4AAAAAXRSTlMAQObYZgAAAmtJREFU\n",
       "SMe1lD1oE2EYx//5uEu8u16c1KlkEBwc7KAOghg01MHBE3PRwWJVvIKI3mSFUnuKYF00i+AYF60o\n",
       "EpW4ZPB0kjrYLg5a4QoOLgahQakW9H3uI/Hucj246AOXvMn7f9/f83nAfzdroNPbY/Zfs2eBFm8T\n",
       "AjIl+pzqsyMd7pRHr4EbAR7S71sJCXk7A7v6baXGgZNFGMAl9is3npDQQiRhX4M9Jcw7bnC1hITh\n",
       "aMJLHXhXxzJL2IPJyemEgLQRTTjFnkULPHP+u6Z9SEjg6tGEDnD5AiAowAFgAthwUa2cCbrY7+Tf\n",
       "wrzpIxyfJbvudFmn1VwiOQtzK2QK9hXw1BG+mZs7YS9496S/D3pCpIqRMYg/gK+sl9MbgSGI5EoF\n",
       "2KFDbqqmKMjPitEER2hbIZrAs5vFNRbLN/ZtDlFXfwTGgBfb2pYo4IkZIsglZOy0O8I4QoH5L/10\n",
       "CLKxky5YgXQDkkIBCummFSLQdB7sCt0s1XyEsU9k751xYD5mV50sYWI/VfVXa9RC3k4hd2QpXId7\n",
       "mqZd1T2hmwozMgYahxlWX4lqfIdeTYIBaRh7bIKAo40gYTe5Kx+yXKFj1IoRBDYOmS2WK0nRdbwC\n",
       "eRV7maMNRqjXg4Sq7ffdoit023nBTs2il5qeVX+Xy7MUYZ5KJdHhQg3pFXx2YwgTcmdVVa02PKFr\n",
       "m2OHcrm7mrEwrSCrO4RjoSzhy5V2+3FX6Np8LOGRtxBuq5WbLNGn7Ym7f75XaU7TNmnnWFYValhP\n",
       "6Ht7r2OyEfxHYHXoTY1vawSyHpTnSjGErL7uNh//7puK2X+OQQkDWvaf3PIHG1umUBVr7Z0AAAAA\n",
       "SUVORK5CYII=\n",
       "\" style=\"display:inline;vertical-align:middle;\" /></a><br>"
      ],
      "text/plain": [
       "expr: forall_{B in BOOLEANS | FALSE <=> B} (FALSE = B)"
      ]
     },
     "execution_count": 2,
     "metadata": {},
     "output_type": "execute_result"
    }
   ],
   "source": [
    "# build up the expression from sub-expressions\n",
    "expr = Forall([B], Equals(FALSE, B), domain = Booleans, conditions = [Iff(FALSE, B)])"
   ]
  },
  {
   "cell_type": "code",
   "execution_count": 3,
   "metadata": {},
   "outputs": [
    {
     "name": "stdout",
     "output_type": "stream",
     "text": [
      "Passed sanity check: built 'expr' is the same as the stored Expression.\n"
     ]
    }
   ],
   "source": [
    "# check that the built expression is the same as the stored expression\n",
    "%check_expr"
   ]
  },
  {
   "cell_type": "code",
   "execution_count": 4,
   "metadata": {},
   "outputs": [
    {
     "data": {
      "text/html": [
       "<table><tr><th>&nbsp;</th><th>core type</th><th>sub-expressions</th><th>expression</th></tr>\n",
       "<tr><td>0</td><td>Operation</td><td>operator:&nbsp;1<br>operand:&nbsp;2<br></td><td><a class=\"ProveItLink\" href=\"expr.ipynb\"><img src=\"data:image/png;base64,iVBORw0KGgoAAAANSUhEUgAAAMEAAAAXBAMAAABACzadAAAAMFBMVEX///8QEBC6urrMzMxUVFRm\n",
       "ZmZERETc3NwyMjKqqqp2dnaIiIiYmJgiIiLu7u4AAAAU9Wx4AAAAAXRSTlMAQObYZgAAAmtJREFU\n",
       "SMe1lD1oE2EYx//5uEu8u16c1KlkEBwc7KAOghg01MHBE3PRwWJVvIKI3mSFUnuKYF00i+AYF60o\n",
       "EpW4ZPB0kjrYLg5a4QoOLgahQakW9H3uI/Hucj246AOXvMn7f9/f83nAfzdroNPbY/Zfs2eBFm8T\n",
       "AjIl+pzqsyMd7pRHr4EbAR7S71sJCXk7A7v6baXGgZNFGMAl9is3npDQQiRhX4M9Jcw7bnC1hITh\n",
       "aMJLHXhXxzJL2IPJyemEgLQRTTjFnkULPHP+u6Z9SEjg6tGEDnD5AiAowAFgAthwUa2cCbrY7+Tf\n",
       "wrzpIxyfJbvudFmn1VwiOQtzK2QK9hXw1BG+mZs7YS9496S/D3pCpIqRMYg/gK+sl9MbgSGI5EoF\n",
       "2KFDbqqmKMjPitEER2hbIZrAs5vFNRbLN/ZtDlFXfwTGgBfb2pYo4IkZIsglZOy0O8I4QoH5L/10\n",
       "CLKxky5YgXQDkkIBCummFSLQdB7sCt0s1XyEsU9k751xYD5mV50sYWI/VfVXa9RC3k4hd2QpXId7\n",
       "mqZd1T2hmwozMgYahxlWX4lqfIdeTYIBaRh7bIKAo40gYTe5Kx+yXKFj1IoRBDYOmS2WK0nRdbwC\n",
       "eRV7maMNRqjXg4Sq7ffdoit023nBTs2il5qeVX+Xy7MUYZ5KJdHhQg3pFXx2YwgTcmdVVa02PKFr\n",
       "m2OHcrm7mrEwrSCrO4RjoSzhy5V2+3FX6Np8LOGRtxBuq5WbLNGn7Ym7f75XaU7TNmnnWFYValhP\n",
       "6Ht7r2OyEfxHYHXoTY1vawSyHpTnSjGErL7uNh//7puK2X+OQQkDWvaf3PIHG1umUBVr7Z0AAAAA\n",
       "SUVORK5CYII=\n",
       "\" style=\"display:inline;vertical-align:middle;\" /></a></td></tr>\n",
       "<tr><td>1</td><td>Literal</td><td></td><td><a class=\"ProveItLink\" href=\"../../../quantification/universal/__pv_it/265f8c02ac1094d56e0e6410a1c1fd3500dc9f540/expr.ipynb\"><img src=\"data:image/png;base64,iVBORw0KGgoAAAANSUhEUgAAAAwAAAAQBAMAAADQT4M0AAAAMFBMVEX///8QEBC6urrMzMxUVFRm\n",
       "ZmZERETc3NwyMjKqqqp2dnaIiIiYmJgiIiLu7u4AAAAU9Wx4AAAAAXRSTlMAQObYZgAAAFhJREFU\n",
       "CNdjeMAABhdAxGmGlSCqj6EMSLInMHAAJVknMPAsLy+vBYp8S0u7BaScGRjSgZQKA18DkOJl4D4A\n",
       "pLgP8IJM4mswARuX7gSmpoKNZWDcAKZ4gCoAgTQTILaSE58AAAAASUVORK5CYII=\n",
       "\" style=\"display:inline;vertical-align:middle;\" /></a></td></tr>\n",
       "<tr><td>2</td><td>Lambda</td><td>parameter:&nbsp;14<br>body:&nbsp;3<br>conditions:&nbsp;4<br></td><td><a class=\"ProveItLink\" href=\"../88a148f95a238f8d23d77e136b2beefb87f6c1bb0/expr.ipynb\"><img src=\"data:image/png;base64,iVBORw0KGgoAAAANSUhEUgAAARcAAAAVCAMAAABbslpZAAAANlBMVEX///8UFBQNDQ2qqqru7u4i\n",
       "IiJ2dnbc3NyIiIjMzMxmZmYQEBC6uroyMjJERERUVFSYmJgAAAC3B9V0AAAAAXRSTlMAQObYZgAA\n",
       "AnRJREFUWMPVmOl2gyAQhWkZdofl/V+2JtHIDtH0NJ0/5mj0Xj9mBoGQjwkqyL+PRV58gF+KU3z5\n",
       "tLf0LgS3hsVJa8o9fwp5TkSrAZc5UxyDxYCGWVq5KuRFDMbeDzrMgUE4EOlp3VQEh/kyZ8rekhcQ\n",
       "OK+Mn34tQXJFFeR2dDO3S3lGOhPxfMBl0tSdC5FLCfplLoWiDI+e5wOfwgpnpDMRMAMuVVMgka2B\n",
       "ORfqiYM5Lti8VijazSMzMNN08dSQ5CJ5R8i51Ewp9NDIF2Hn8uWZ7FaMHJJH3gi0kFPd59D4HTQ/\n",
       "xSUX4brPpWJKWKjXkWK+cqlmTj1fTODI4VpPUkrNfPQflt4SJyn6jrTGKFxSvJkIxS6Xmikrqv2F\n",
       "sRBMbeopuShj2B4Boa+41RUw1+QC7rBkljP5UogspsulYgpsu+9KOlNHMkGxpJ8AheJeVzIcg/P9\n",
       "xZIwx2wZTnEpRFTocqmYWp5jXfTd24GPuIDJ2Anjeor7tBR3/ixfiDtcn+NSiAy4VEwp18yX9UDs\n",
       "MF/AJScEyp6i2vm4QFtcdFTZhvb6S5xkNi7eXKRfRzVTwC5yWZtaUgSiq7hP2yJgq7+oGKz1J/Kl\n",
       "FPHdvls15XyHy72OYDQfUXdQFn2HW10pEzeltL0ncskEO8ulFOnP01VTwJYGF6/lLV0gsNH3i6Zl\n",
       "Z6gpavtYLSH62cU0iyvG5BVTi5pIvh6MubRMCczWm491o2XG0Udn3Qa9bQ5w/xYaOnw1zDt2Sobr\n",
       "gMYujcN0PsoHbehtAwtA3h2ev+EhXP7K/osnfxh4nTWM9xn+HxfhLj/CiV/hIsmfhriqL1V56pP2\n",
       "MX8AVw4kHFxTKacAAAAASUVORK5CYII=\n",
       "\" style=\"display:inline;vertical-align:middle;\" /></a></td></tr>\n",
       "<tr><td>3</td><td>Operation</td><td>operator:&nbsp;5<br>operands:&nbsp;11<br></td><td><a class=\"ProveItLink\" href=\"../0c5a81d29ed0744290746d8837af20303cfd707f0/expr.ipynb\"><img src=\"data:image/png;base64,iVBORw0KGgoAAAANSUhEUgAAADsAAAAOBAMAAABjvHmeAAAAMFBMVEX///+qqqru7u52dna6urqY\n",
       "mJhUVFQyMjJEREQQEBAiIiJmZmbMzMyIiIjc3NwAAABlsgL7AAAAAXRSTlMAQObYZgAAAJBJREFU\n",
       "GNNjYGBgeMuACVjzv6VllICZp7FIM3A2MDDsd8Apff4CECfglL7/gIEh3gCndCcQr1TAKf2NgeF5\n",
       "E4rTtpeDQBmYzfPt7u2lDDhdzvuPgUErAac0xwSgkq84pfmBOlk/o0jvWgUCKyDeDmBgYPuIUzfI\n",
       "2+8LcEoDvc0zXQFs4kqYiQiw439aWjnQfABM7TYZts+yUAAAAABJRU5ErkJggg==\n",
       "\" style=\"display:inline;vertical-align:middle;\" /></a></td></tr>\n",
       "<tr><td>4</td><td>ExprTuple</td><td>6, 7</td><td><a class=\"ProveItLink\" href=\"../239d433ae26d968f90febed818e736ec3227068b0/expr.ipynb\"><img src=\"data:image/png;base64,iVBORw0KGgoAAAANSUhEUgAAAI8AAAAVBAMAAACNsKCFAAAAMFBMVEX////c3NwiIiJERESqqqqY\n",
       "mJh2dnZmZmYQEBDu7u4yMjJUVFTMzMyIiIi6uroAAAAs73DqAAAAAXRSTlMAQObYZgAAAe5JREFU\n",
       "OMtjYKAa4LtAuRlxIOI0EEf/373b6gGKHNt6q19NJnAuI3broBrZDwDZK0ECzQwM7P9Q1TDzXZg1\n",
       "LQHG4ynA7haoxgUMDLwgq3j+AvFvDIN4HywgYBBMYxgDA8cEIJ/3IwMD6zewFOctJaUFUINYAnZi\n",
       "MWgBEg+mcQYDwyuwpgYGBqZOsNSpSCQXPTTANAjsBUOYIqhGZgeGMhCffwMD4+IJ4EC1RPLaoeAJ\n",
       "mAadAhFSUA5MI1sBw1IQ//zeu0UBEO0CCIOU/vcyYBjE06EEBPorITyYRpYFDH0g/n0BBk5tsMxk\n",
       "lMC+gum1WxBHvoIkFphGvgYGcKRbgMTATnoBsg8W2AwGz9ANmgE1mrGbAVkjzweIQaCYj0+AJU+4\n",
       "ixgMmNEN4twOoaUgCRSmEWhQC0jVVyCx3wEkM4mAQQwsSmCgCBGFaQR6zRSaGhh/gaW4A1AMesbA\n",
       "iR5r3mD7BODJCKyRdQFDOjQ1nIDEA6cekkGstQYM8xXQDGIHuXwfIhmBNQKj/xFQyv737l1Loeqk\n",
       "auCZ9rPGFmDoAi1lB/qlSUkJEs6cwKhghDARGrkeMHAIoGUf70VKC5D5D9HzFzCnc05AEwNmEdYE\n",
       "AmVNADEFUi6sGKHQIJB3GaTxq+ElxkHcArjLPpLAHQYGAECQlOPi0xlKAAAAAElFTkSuQmCC\n",
       "\" style=\"display:inline;vertical-align:middle;\" /></a></td></tr>\n",
       "<tr><td>5</td><td>Literal</td><td></td><td><a class=\"ProveItLink\" href=\"../../../../equality/__pv_it/2fb26078095930560931daa0500ce419a39ea6cd0/expr.ipynb\"><img src=\"data:image/png;base64,iVBORw0KGgoAAAANSUhEUgAAAA4AAAAFBAMAAACHocAhAAAAFVBMVEX///9EREQiIiJUVFQyMjJm\n",
       "ZmYAAADubVkoAAAAAXRSTlMAQObYZgAAABRJREFUCNdjCHEBAWcGXCBICQQUAUpuAwlgGKrkAAAA\n",
       "AElFTkSuQmCC\n",
       "\" style=\"display:inline;vertical-align:middle;\" /></a></td></tr>\n",
       "<tr><td>6</td><td>Operation</td><td>operator:&nbsp;8<br>operands:&nbsp;9<br></td><td><a class=\"ProveItLink\" href=\"../41a86ef0ff9417c73c472e1bdfa161b308e2753e0/expr.ipynb\"><img src=\"data:image/png;base64,iVBORw0KGgoAAAANSUhEUgAAADcAAAAPBAMAAACy3Eq1AAAAMFBMVEX///+qqqru7u4iIiJ2dnbc\n",
       "3NyIiIjMzMxmZmYQEBC6uroyMjJERERUVFSYmJgAAADLUcuvAAAAAXRSTlMAQObYZgAAAOZJREFU\n",
       "GNNjYGB4+//u3dMLGJCB95/9O20EwMw5DAwcv1AkGQ4sY9rkAmKwfwPiv+iSDFncIAbbVwYGvi9g\n",
       "MbXNxtYwSTleBSCDZwIDA/MksBn7FJB0xoAY/BcYWPeARWMUEMay2x0CMeqvpTU/AAsdRdi52P5n\n",
       "AoiRH8DAZAtiMB1AdlCaDIhxEqQApJVrsrExwkE8XA5ABsgX70EM9gvIOnkYgAax/wNy7oOCg8kA\n",
       "QxLkTdbfYKF7KJIgY0HerNwEFlJegCT5IgcYquf/3r29DyLEuqMAHvCH5wqghigD422oayEAAEv1\n",
       "Sz0foy5uAAAAAElFTkSuQmCC\n",
       "\" style=\"display:inline;vertical-align:middle;\" /></a></td></tr>\n",
       "<tr><td>7</td><td>Operation</td><td>operator:&nbsp;10<br>operands:&nbsp;11<br></td><td><a class=\"ProveItLink\" href=\"../c4acb0f010fe4368ae11d402d6ed8461e28a5c840/expr.ipynb\"><img src=\"data:image/png;base64,iVBORw0KGgoAAAANSUhEUgAAAEAAAAAPBAMAAACmSdRUAAAAMFBMVEX///92dnaYmJiqqqpUVFS6\n",
       "urru7u4yMjJEREQQEBAiIiJmZmbMzMyIiIjc3NwAAACFNIopAAAAAXRSTlMAQObYZgAAANJJREFU\n",
       "GNNjYGBgeMuAFaj8d3FpDwCxTmNXwDCDgYH7Kx4FPH+B+AuqAnZkHu8/Bgamj6gK7gIxxwMoh2MC\n",
       "AwPXNBQFPAVAgq8AyuN3YOCrSEBRcHLWKiD4ngDhnfe9u0uBAVkBbxmYYi2FcO8/YGBbgqyAbQZU\n",
       "4UsHMNUJUqSAbELKBjDFVwvhgnyoL4DiBqtVYADxBs8nIOFvgKKAGWQ22zpEMPB9Z0ANh81AzBKA\n",
       "CIaTQGfvWrVq5apVKyCC6UD8AsLk7v/i4l6EEfxAnIYqBABzzD/ECDea6AAAAABJRU5ErkJggg==\n",
       "\" style=\"display:inline;vertical-align:middle;\" /></a></td></tr>\n",
       "<tr><td>8</td><td>Literal</td><td></td><td><a class=\"ProveItLink\" href=\"../../../../set_theory/membership/__pv_it/088cbc857536a28d4119ad9639a84270ccb0545d0/expr.ipynb\"><img src=\"data:image/png;base64,iVBORw0KGgoAAAANSUhEUgAAAAwAAAAMBAMAAACkW0HUAAAALVBMVEX///+qqqpmZmZUVFQQEBC6\n",
       "urpERETc3NyYmJjMzMwiIiIyMjKIiIju7u4AAACYsrA9AAAAAXRSTlMAQObYZgAAADxJREFUCNdj\n",
       "YOA9vWrVBgaG2b0MQMCeCyIZ2ArA1DUwyRCyahVIyWQI7xaEYm4AU7xLIdxqTQgtvGvVBgCkcQ7e\n",
       "geM/tQAAAABJRU5ErkJggg==\n",
       "\" style=\"display:inline;vertical-align:middle;\" /></a></td></tr>\n",
       "<tr><td>9</td><td>ExprTuple</td><td>14, 12</td><td><a class=\"ProveItLink\" href=\"../46fef8cd01e90537d7ca36d1ba2c809996ed4b3a0/expr.ipynb\"><img src=\"data:image/png;base64,iVBORw0KGgoAAAANSUhEUgAAADQAAAAVBAMAAAD7ptBLAAAAMFBMVEX////c3NwiIiJERESqqqqY\n",
       "mJh2dnZmZmYQEBDu7u4yMjJUVFTMzMyIiIi6uroAAAAs73DqAAAAAXRSTlMAQObYZgAAASVJREFU\n",
       "KM9jYMAD+C5gE2V9ACROA3H0/927rR6AxbI+r1+h7MDAUANkrwQJNDMwsP+DqDd4y7kyjYGBi4GB\n",
       "F2Qez18g/g2TYrgHFGdNYOCYAOTyfgSyv8GlXLknMHA2MLwCcZkbGBiYOhG6hIG0CUMZiMu/gYFx\n",
       "8QSYFI+qJZBOZ1gK4p7fe7coAOpsg0f6P0D2ezH0gbj3BRg4tRngBt51BtIvGMBOtgBJB8ClmPkS\n",
       "gCZBpEDujk9ASDEYgKRaQN76CiT2O6BKvWAwhXqL8RcDAyeygVFAN0K8dQIYYPMVIFLhl8GOfwQM\n",
       "Pfvfu3eBPDHjIzh4jbpBZq9j4BBAioqHCCYwoFgTkKQCEEy2C9BIwZSaBcTSCC4vkqqNQMyINQHw\n",
       "HmAAAHCOVkQeB6BvAAAAAElFTkSuQmCC\n",
       "\" style=\"display:inline;vertical-align:middle;\" /></a></td></tr>\n",
       "<tr><td>10</td><td>Literal</td><td></td><td><a class=\"ProveItLink\" href=\"../9817cf888369307f52607b98db5e99fdc17b089e0/expr.ipynb\"><img src=\"data:image/png;base64,iVBORw0KGgoAAAANSUhEUgAAABQAAAANBAMAAABbflNtAAAAKlBMVEX///+qqqpUVFS6urru7u4i\n",
       "IiIQEBDc3NxERESIiIhmZmbMzMwyMjIAAAAneYQxAAAAAXRSTlMAQObYZgAAAFpJREFUCNdjYEAB\n",
       "BxgYuBeAWZwTgEQ7mLkHRNSACO60UCCIPQJkznEAy9kYMLg1QPSyJzGwaEGYNUDNjKFgEA7iC4EI\n",
       "1wIQySUAJJTBqliAtrFDNW8AcoEmAgB4jw/0RzyxkgAAAABJRU5ErkJggg==\n",
       "\" style=\"display:inline;vertical-align:middle;\" /></a></td></tr>\n",
       "<tr><td>11</td><td>ExprTuple</td><td>13, 14</td><td><a class=\"ProveItLink\" href=\"../32fa11e0d460a97a7d19a4fd36e0b53258163d570/expr.ipynb\"><img src=\"data:image/png;base64,iVBORw0KGgoAAAANSUhEUgAAADYAAAAVBAMAAAD/UwB2AAAAMFBMVEX////c3NwiIiJERESqqqqY\n",
       "mJh2dnZmZmYQEBDu7u4yMjJUVFTMzMyIiIi6uroAAAAs73DqAAAAAXRSTlMAQObYZgAAAPtJREFU\n",
       "KM9jYMAH+C5gFWZ9ACROg1iMCAWs+3/v3ryOgaEGyF4JEuApQOjgMGBgqH/AwMXAwHsBXe48UOT8\n",
       "BgbWBAaOCehy9wUYGOITGDgbGF4xoMtZALEGUIcJQxmG3G8GBilLIJ3OsBRdjuf33euqIIYXQx+6\n",
       "HO9HBoZJG4CMFwz/0OWYG4DyX0HuxZTjB+ph/QaWa0GXOx/AwMD9BWymKZLcBJj35BcAGVFAl8Ll\n",
       "OD9BvcfTNQHsh0cMDOxKSkpNSkoGnP1ALcX/d+9eFQBStI6BQwApupDYoDADBikiepAjkO0CNI6w\n",
       "yM0CYmkEFyUFbESNcmTAe4ABAJ4xQRO/+5dLAAAAAElFTkSuQmCC\n",
       "\" style=\"display:inline;vertical-align:middle;\" /></a></td></tr>\n",
       "<tr><td>12</td><td>Literal</td><td></td><td><a class=\"ProveItLink\" href=\"../../../__pv_it/46271c8230be96415d662709611f4ed2279d702b0/expr.ipynb\"><img src=\"data:image/png;base64,iVBORw0KGgoAAAANSUhEUgAAAA0AAAAOBAMAAAAGUYvhAAAAMFBMVEX///9mZmbMzMzc3NxUVFSY\n",
       "mJju7u6IiIi6urqqqqoiIiIQEBBEREQyMjJ2dnYAAAAQvcRZAAAAAXRSTlMAQObYZgAAAElJREFU\n",
       "CNdjePvn/u01ExgYGA60s117B6YZKngh9FSWBAjfBsxnWnoMRHet/10AkS+fA6F5OB5AaIYDqDRU\n",
       "PLCGgQFoz6ktExgAgLIl8DFvGtkAAAAASUVORK5CYII=\n",
       "\" style=\"display:inline;vertical-align:middle;\" /></a></td></tr>\n",
       "<tr><td>13</td><td>Literal</td><td></td><td><a class=\"ProveItLink\" href=\"../../../__pv_it/8f1f7fac882de28c72b62ab80a1700b6d8fd066b0/expr.ipynb\"><img src=\"data:image/png;base64,iVBORw0KGgoAAAANSUhEUgAAAA4AAAAOBAMAAADtZjDiAAAAG1BMVEX///9EREQQEBAiIiJmZmbM\n",
       "zMyIiIjc3NwAAACryk5kAAAAAXRSTlMAQObYZgAAABlJREFUCNdjYGBgKGOAgBBa0s7GxkbGxoYA\n",
       "FMUF2aBfHgoAAAAASUVORK5CYII=\n",
       "\" style=\"display:inline;vertical-align:middle;\" /></a></td></tr>\n",
       "<tr><td>14</td><td>Variable</td><td></td><td><a class=\"ProveItLink\" href=\"../../../../../__pv_it/077b2ff79244fb4582cbe22c6e3356fa92a52f2f0/expr.ipynb\"><img src=\"data:image/png;base64,iVBORw0KGgoAAAANSUhEUgAAABAAAAAOBAMAAADUAYG5AAAAMFBMVEX///+qqqru7u4iIiJ2dnbc\n",
       "3NyIiIjMzMxmZmYQEBC6uroyMjJERERUVFSYmJgAAADLUcuvAAAAAXRSTlMAQObYZgAAAGpJREFU\n",
       "CNdjYGB4+//u3dMLGIBgDgMDxy8gzf4NiP8CGWxfGRj4vgAZPBMYGJgnARn8FxhY9ygAGfXX0pof\n",
       "gDTlBzAw2YIYJ0EckBBI53sHoBH/gIz7AhBjWH9DjancBLTl/N+7t/cxMAAA3u4f/5xagjYAAAAA\n",
       "SUVORK5CYII=\n",
       "\" style=\"display:inline;vertical-align:middle;\" /></a></td></tr>\n",
       "</table>\n"
      ],
      "text/plain": [
       "0. forall_{B in BOOLEANS | FALSE <=> B} (FALSE = B)\n",
       "   core type: Operation\n",
       "   operator: 1\n",
       "   operand: 2\n",
       "1. forall\n",
       "   core type: Literal\n",
       "   sub-expressions: \n",
       "2. B -> (FALSE = B) | B in BOOLEANS , FALSE <=> B\n",
       "   core type: Lambda\n",
       "   parameter: 14\n",
       "   body: 3\n",
       "   conditions: 4\\n3. FALSE = B\n",
       "   core type: Operation\n",
       "   operator: 5\n",
       "   operands: 11\n",
       "4. (B in BOOLEANS , FALSE <=> B)\n",
       "   core type: ExprTuple\n",
       "   sub-expressions: 6, 7\n",
       "5. =\n",
       "   core type: Literal\n",
       "   sub-expressions: \n",
       "6. B in BOOLEANS\n",
       "   core type: Operation\n",
       "   operator: 8\n",
       "   operands: 9\n",
       "7. FALSE <=> B\n",
       "   core type: Operation\n",
       "   operator: 10\n",
       "   operands: 11\n",
       "8. in\n",
       "   core type: Literal\n",
       "   sub-expressions: \n",
       "9. (B , BOOLEANS)\n",
       "   core type: ExprTuple\n",
       "   sub-expressions: 14, 12\n",
       "10. <=>\n",
       "    core type: Literal\n",
       "    sub-expressions: \n",
       "11. (FALSE , B)\n",
       "    core type: ExprTuple\n",
       "    sub-expressions: 13, 14\n",
       "12. BOOLEANS\n",
       "    core type: Literal\n",
       "    sub-expressions: \n",
       "13. FALSE\n",
       "    core type: Literal\n",
       "    sub-expressions: \n",
       "14. B\n",
       "    core type: Variable\n",
       "    sub-expressions: "
      ]
     },
     "execution_count": 4,
     "metadata": {},
     "output_type": "execute_result"
    }
   ],
   "source": [
    "# display the expression information\n",
    "expr.exprInfo()"
   ]
  },
  {
   "cell_type": "code",
   "execution_count": null,
   "metadata": {},
   "outputs": [],
   "source": []
  }
 ],
 "metadata": {
  "kernelspec": {
   "display_name": "Python 3",
   "language": "python",
   "name": "python3"
  }
 },
 "nbformat": 4,
 "nbformat_minor": 0
}
