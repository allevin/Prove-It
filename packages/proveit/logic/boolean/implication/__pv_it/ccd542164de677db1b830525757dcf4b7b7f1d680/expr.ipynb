{
 "cells": [
  {
   "cell_type": "markdown",
   "metadata": {},
   "source": [
    "Expression of type <a class=\"ProveItLink\" href=\"../../../../../../../doc/html/api/proveit.logic.Equals.html\">Equals</a>\n",
    "=======================\n",
    "# from context <a class=\"ProveItLink\" href=\"../../_context_.ipynb\">proveit.logic.boolean.implication</a>"
   ]
  },
  {
   "cell_type": "code",
   "execution_count": 1,
   "metadata": {},
   "outputs": [],
   "source": [
    "# import Expression classes needed to build the expression\n",
    "from proveit.logic import And, Equals, FALSE, Implies, TRUE\n",
    "from proveit.logic.boolean.implication._theorems_ import falseImpliesTrue"
   ]
  },
  {
   "cell_type": "code",
   "execution_count": 2,
   "metadata": {},
   "outputs": [
    {
     "data": {
      "text/html": [
       "<strong id=\"expr\">expr:</strong> <a class=\"ProveItLink\" href=\"expr.ipynb\"><img src=\"data:image/png;base64,iVBORw0KGgoAAAANSUhEUgAAAWgAAAAVBAMAAACZAGlNAAAAMFBMVEX////c3NwiIiJERESqqqqY\n",
       "mJh2dnZmZmYQEBDu7u4yMjJUVFTMzMyIiIi6uroAAAAs73DqAAAAAXRSTlMAQObYZgAAAmZJREFU\n",
       "SMfVV79Lw1AQvmpt01BjZ0UQnZxU0MHNWZdODoLgJg5CcXByUHFxKZk7uSjWQeouIggKOth/QCid\n",
       "RHF2E1/eJSTv7mKTt3nwLk1y3/dd388LwL80r4vtbxvp0SdfkAXDcelqORhfwgYFias8rW0eDsiL\n",
       "agf29KsZiR25DsJG7CVmtWVshw2qDfnv4XM3Avt4dfX1CQZhXP6SqFkwjnax0aR9Ej6yFVKHUW/A\n",
       "JCogYCJcbFTNgtFR2Tk+T7pNwiuHePcwi9dTLuH6AibCxUbVLBg/1M8P4El/knBYxLs77BDvjEt4\n",
       "HQmzSJOmahaM+8rvC0mXuiR8GwfsbAgX6BaXgF0QMNs0aaJmw3iu/LlBEy7tbxK+iv+lXl7RA1c3\n",
       "JHDZzzUEjMaVr7TpjjPVrBibyjeFnobitRn+rv0QFPQwOj2hX2C1xzHvtKeJmg3jj/I/UtLQahrh\n",
       "r9pvAtwG1zFRonLZY5hXmjRRs2FMTbp64QtJz4YnkSzxvAO5k7ZhPFH+RJrTM74wPYrqt1sLBnNF\n",
       "mIHTy5AyPZJHoKlmxbik/JLQ08UOCd/Qq6WGMjBcF/plDQTMBu1pU82KMd6VzKTHpc0GHgI3Faz5\n",
       "BpfABTVwyzPVrBj7yvdx/I6TJcxCHI4bqN5M7qLz1pvSDx+TEsO1eH4h13WES1o/yWrH6KjnTo0X\n",
       "KPfkHo9jvVi8wB0JNQ0IGOEYN9SsGOWihluJFK7rkA1TYgVvmloexrZRHaVai9wnapk/Ma2U0pRb\n",
       "HsaJsA2wG1qUd7JhbvjjFLU8jMEnQWHg59YoneMwCVkwHJeulpnxF15D7/7ckQzzAAAAAElFTkSu\n",
       "QmCC\n",
       "\" style=\"display:inline;vertical-align:middle;\" /></a><br>"
      ],
      "text/plain": [
       "expr: ((FALSE => TRUE) and (TRUE => FALSE)) = (TRUE and (TRUE => FALSE))"
      ]
     },
     "execution_count": 2,
     "metadata": {},
     "output_type": "execute_result"
    }
   ],
   "source": [
    "# build up the expression from sub-expressions\n",
    "subExpr1 = Implies(TRUE, FALSE)\n",
    "expr = Equals(And(falseImpliesTrue.expr, subExpr1), And(TRUE, subExpr1))"
   ]
  },
  {
   "cell_type": "code",
   "execution_count": 3,
   "metadata": {},
   "outputs": [
    {
     "name": "stdout",
     "output_type": "stream",
     "text": [
      "Passed sanity check: built 'expr' is the same as the stored Expression.\n"
     ]
    }
   ],
   "source": [
    "# check that the built expression is the same as the stored expression\n",
    "%check_expr"
   ]
  },
  {
   "cell_type": "code",
   "execution_count": 4,
   "metadata": {},
   "outputs": [
    {
     "data": {
      "text/html": [
       "<table><tr><th>&nbsp;</th><th>core type</th><th>sub-expressions</th><th>expression</th></tr>\n",
       "<tr><td>0</td><td>Operation</td><td>operator:&nbsp;1<br>operands:&nbsp;2<br></td><td><a class=\"ProveItLink\" href=\"expr.ipynb\"><img src=\"data:image/png;base64,iVBORw0KGgoAAAANSUhEUgAAAWgAAAAVBAMAAACZAGlNAAAAMFBMVEX////c3NwiIiJERESqqqqY\n",
       "mJh2dnZmZmYQEBDu7u4yMjJUVFTMzMyIiIi6uroAAAAs73DqAAAAAXRSTlMAQObYZgAAAmZJREFU\n",
       "SMfVV79Lw1AQvmpt01BjZ0UQnZxU0MHNWZdODoLgJg5CcXByUHFxKZk7uSjWQeouIggKOth/QCid\n",
       "RHF2E1/eJSTv7mKTt3nwLk1y3/dd388LwL80r4vtbxvp0SdfkAXDcelqORhfwgYFias8rW0eDsiL\n",
       "agf29KsZiR25DsJG7CVmtWVshw2qDfnv4XM3Avt4dfX1CQZhXP6SqFkwjnax0aR9Ej6yFVKHUW/A\n",
       "JCogYCJcbFTNgtFR2Tk+T7pNwiuHePcwi9dTLuH6AibCxUbVLBg/1M8P4El/knBYxLs77BDvjEt4\n",
       "HQmzSJOmahaM+8rvC0mXuiR8GwfsbAgX6BaXgF0QMNs0aaJmw3iu/LlBEy7tbxK+iv+lXl7RA1c3\n",
       "JHDZzzUEjMaVr7TpjjPVrBibyjeFnobitRn+rv0QFPQwOj2hX2C1xzHvtKeJmg3jj/I/UtLQahrh\n",
       "r9pvAtwG1zFRonLZY5hXmjRRs2FMTbp64QtJz4YnkSzxvAO5k7ZhPFH+RJrTM74wPYrqt1sLBnNF\n",
       "mIHTy5AyPZJHoKlmxbik/JLQ08UOCd/Qq6WGMjBcF/plDQTMBu1pU82KMd6VzKTHpc0GHgI3Faz5\n",
       "BpfABTVwyzPVrBj7yvdx/I6TJcxCHI4bqN5M7qLz1pvSDx+TEsO1eH4h13WES1o/yWrH6KjnTo0X\n",
       "KPfkHo9jvVi8wB0JNQ0IGOEYN9SsGOWihluJFK7rkA1TYgVvmloexrZRHaVai9wnapk/Ma2U0pRb\n",
       "HsaJsA2wG1qUd7JhbvjjFLU8jMEnQWHg59YoneMwCVkwHJeulpnxF15D7/7ckQzzAAAAAElFTkSu\n",
       "QmCC\n",
       "\" style=\"display:inline;vertical-align:middle;\" /></a></td></tr>\n",
       "<tr><td>1</td><td>Literal</td><td></td><td><a class=\"ProveItLink\" href=\"../../../../equality/__pv_it/2fb26078095930560931daa0500ce419a39ea6cd0/expr.ipynb\"><img src=\"data:image/png;base64,iVBORw0KGgoAAAANSUhEUgAAAA4AAAAFBAMAAACHocAhAAAAFVBMVEX///9EREQiIiJUVFQyMjJm\n",
       "ZmYAAADubVkoAAAAAXRSTlMAQObYZgAAABRJREFUCNdjCHEBAWcGXCBICQQUAUpuAwlgGKrkAAAA\n",
       "AElFTkSuQmCC\n",
       "\" style=\"display:inline;vertical-align:middle;\" /></a></td></tr>\n",
       "<tr><td>2</td><td>ExprTuple</td><td>3, 4</td><td><a class=\"ProveItLink\" href=\"../e3d1128e0ee8121ed85136d44bd8b23b6346078f0/expr.ipynb\"><img src=\"data:image/png;base64,iVBORw0KGgoAAAANSUhEUgAAAUkAAAAVBAMAAAA5nwGjAAAAMFBMVEX////c3NwiIiJERESqqqqY\n",
       "mJh2dnZmZmYQEBDu7u4yMjJUVFTMzMyIiIi6uroAAAAs73DqAAAAAXRSTlMAQObYZgAAAs1JREFU\n",
       "SMfVV71rFFEQn7vb+9i7zXqtkcBxaUxlFFPYpRNic1UKQUkjweIgiKSyUEljc24ZrroUUdPI2UsI\n",
       "BBRM4f0BCstVogTExi44b+bdZd/b2bfbOjD73s3OvN9v38e8OYD/Q8IJa448lOLcUo1zHM4LoRLy\n",
       "mVYoibBPukqWoX5ivTiDOr3qrgpRPNaz1CiGBGPZzrKkHgqVkI+0QrCT8UGf6TnS+JG2OmPY3kyP\n",
       "ouSqbpuRac9CRV2YsNqIke2/qYfWXu4Ytle3RJZvdfsdUix9CRW1EbHaiEe2/z7/OF3h1h3Ddv+5\n",
       "xDK4pb/mVZplMxJQUX8Cq434yx6/sk7NMc9AToy235ZYts75AISjNMtwLKCi7mJ3V0CsTSz/Gk/P\n",
       "qMxGd4y2b0ssh9Chtr6VZgl9ARX1ELuHBqI+un8tf48+vdar85y6Y7R9Q2L5CJ7y6vYMOx/3Gztp\n",
       "VNQBdgfCvID33vQPaZOVocQL5Y7R9h8Syw4s8s6OhbmEjTiFinqB3QsJEYYDwz/4rZ4PAD7ST3eM\n",
       "tn8VWFYn0KLce0Vk6b+LbVTUTJbBm0hguaKvgJwYB8typNJ5Jssvj0FguYfdPWmPLUfCinvo02xD\n",
       "boxjxe+iHtCKrwv7snsHpBVfw+6aMC+enROqaj8qhh75uWO0/X4i18/YHGimUOkJc3lPQEXdnicM\n",
       "E3ERpEx0yts/NyaRifw/Bstglc7gPLWZLPXRTGWiKXanvGQvk5XDzcvQT5w41DY6nt9sU8ZM3oGz\n",
       "mMux1JH3X7cTo0Arnl2vYSdpZ6m058t/naoQhYraQHujnb7s7RKIb0ja8CHtqgIxfEOGhicF8zgv\n",
       "hCpFQt3nisCoCrKkbxWPBWL4Lqpmvd4siNpPVm5u8UeWoUDMEJwsE6WFC5WQr2nNkZa9wgViPtAz\n",
       "s6YvjQuhErIqq0v5/yi+yeW4SxZOchyWCqGi/gNa+t/0fGXGEAAAAABJRU5ErkJggg==\n",
       "\" style=\"display:inline;vertical-align:middle;\" /></a></td></tr>\n",
       "<tr><td>3</td><td>Operation</td><td>operator:&nbsp;6<br>operands:&nbsp;5<br></td><td><a class=\"ProveItLink\" href=\"../6e7fbb0aa1475f8ee56bd3700d557b1fe713839b0/expr.ipynb\"><img src=\"data:image/png;base64,iVBORw0KGgoAAAANSUhEUgAAALUAAAAVBAMAAADyYbJ0AAAAMFBMVEX////c3NwiIiJERESqqqqY\n",
       "mJh2dnZmZmYQEBDu7u4yMjJUVFTMzMyIiIi6uroAAAAs73DqAAAAAXRSTlMAQObYZgAAAYdJREFU\n",
       "OMu1lTFLw0AUx581aas5i6sVobSLoxXc3fwGjtJFOgki0tmhc8gondqhShbpR3DSoUs+gEPpqAhu\n",
       "bsXeeyn1Lv+QQzDQvHt3/98/17vcC9F/XrWkUHLxV2bKzQM0ftPUV4sqz9bAlCo81DxCGHsxE3P+\n",
       "mvN46R+m2V4amVHXRcxOkvWObN15mj1KEMb0Rkw1ynrHtu5eEnUsYmFMb8S8U9b7w9ZtnnIIPuVP\n",
       "CmN6I6YHvMuJpSuLzYAaHHvAGzFjwzvd/m9L58lmXtItx7Hhnc+EYN7kPZm62h2HBtU5hmDeiFkg\n",
       "bxqEhk596bufUMBv+gJ5AwZ6q4cIeJciUpNcb8D00Xq3IrQmZ8vfSDf6aL0BcwLm7U2sffF5L0ep\n",
       "f8qY80ZMF3jXCb2DShePkk67wBsxc6lJh7omra72WvfC9+2ZPjmz1XGfi3fnt3d7Xd/Ea8lUd7PF\n",
       "xi57cuZr3NQPcGX8jkONvzJTZyYulm0NrQ5XZr9YF9hr4MpsFH+f3uwON+YHVNJ7lJAfIlEAAAAA\n",
       "SUVORK5CYII=\n",
       "\" style=\"display:inline;vertical-align:middle;\" /></a></td></tr>\n",
       "<tr><td>4</td><td>Operation</td><td>operator:&nbsp;6<br>operands:&nbsp;7<br></td><td><a class=\"ProveItLink\" href=\"../d1f8352f282d267172e2b7b13c73341a2589c3e40/expr.ipynb\"><img src=\"data:image/png;base64,iVBORw0KGgoAAAANSUhEUgAAAHQAAAAVBAMAAABlHNfrAAAAMFBMVEX///8QEBCqqqqYmJiIiIi6\n",
       "urpUVFQyMjLu7u7c3Nx2dnbMzMxEREQiIiJmZmYAAABKII+GAAAAAXRSTlMAQObYZgAAAShJREFU\n",
       "OMtjYKAyYHUgpII5gIHh7V0QuIMqsY2BDyx89wAWXZxgc1+D2fvgojOgdAWI4H6A3UKIODua1joI\n",
       "xeKAqbUBTSvzAhSt3GchChgbMLVWoGnlEEDRyhYCCZ5wBkytYWhaGQ6haG1nuACmX2HRyuWApnUd\n",
       "itbFDI/AdDGKVmhg/0PTqo6i9QLDdDAtisVWBqZSVK2ByFqZHRjYNoAYX7FpZWgXRdG6H1krbwMD\n",
       "dwJOrdxVDbi16gFxJYghhM2vdxrwOLgSqp3hMBZbmRLQgskcSSs3KMHywsMdTet0BmyRswuaIAJg\n",
       "aTAWomQBstaTCNfLgrNFKXJOA5Mg/YwTMBP9BjQ+JCFiZsYFhLM0F44sXUFYazsO8WmEtWbiEOck\n",
       "WMCwbGAAAPfQZKPmBXzuAAAAAElFTkSuQmCC\n",
       "\" style=\"display:inline;vertical-align:middle;\" /></a></td></tr>\n",
       "<tr><td>5</td><td>ExprTuple</td><td>8, 9</td><td><a class=\"ProveItLink\" href=\"../8ed484d90d713dd7af84ea602baf09b346f846ac0/expr.ipynb\"><img src=\"data:image/png;base64,iVBORw0KGgoAAAANSUhEUgAAAJcAAAAVBAMAAAC5yWGZAAAAMFBMVEX////c3NwiIiJERESqqqqY\n",
       "mJh2dnZmZmYQEBDu7u4yMjJUVFTMzMyIiIi6uroAAAAs73DqAAAAAXRSTlMAQObYZgAAASlJREFU\n",
       "OMtjYKAq4LtAHXPiQMRpMFMWm3yREggog9nsYLaSATZ1YM3sB4DESjD/OA77kMV5CvAqWsDAwHsB\n",
       "07AJxBiGoSiMgYFjAqZhK4kxDEPRDAaGV5iaGF4TYxiGImYHhjIshrFdIMIwDEVsBQxLUTRB4+w7\n",
       "XsNwKGJZwNCHxWUMLOuIiE10RXwNDP+wGcYwq4+IpIGmiOcDdsN4lk0gbBi6IqBhLdjCTHkCEWGG\n",
       "rgjoTVMsLmPZgBq2nNhchq6IgXUBQzoWw6TQktB8BSyGoSsCJY1HkAytAcvQIGCIUHcMnLY/QgxL\n",
       "QDbMEFEaQDRzPWDgEMDMuAfQBR4yEKEImJ1YE4goqwKIKdByUTMsRYZxAosgBmnC6niJcRg3KLwY\n",
       "qVRs32FgAABwBVpmKOh66QAAAABJRU5ErkJggg==\n",
       "\" style=\"display:inline;vertical-align:middle;\" /></a></td></tr>\n",
       "<tr><td>6</td><td>Literal</td><td></td><td><a class=\"ProveItLink\" href=\"../../../conjunction/__pv_it/76b5f4f4c45c0b6a9b59b297fc07dfa9555698f50/expr.ipynb\"><img src=\"data:image/png;base64,iVBORw0KGgoAAAANSUhEUgAAAAwAAAAOBAMAAADpk+DfAAAALVBMVEX///+qqqqYmJh2dnaIiIi6\n",
       "urpUVFQiIiJERETMzMxmZmYyMjLu7u7c3NwAAABvwqPxAAAAAXRSTlMAQObYZgAAAEtJREFUCNdj\n",
       "YGDgPcAAAtwLwNSMGjCV6gIieTawgyhmBS4BIMXOwLsBSKkwMGQCKaC6aQwMjEBd3BdACMScAVJd\n",
       "wJAKolwYAkAUKwAk0guX6efcigAAAABJRU5ErkJggg==\n",
       "\" style=\"display:inline;vertical-align:middle;\" /></a></td></tr>\n",
       "<tr><td>7</td><td>ExprTuple</td><td>13, 9</td><td><a class=\"ProveItLink\" href=\"../a1cf030e7b2634a0c1f416c17e60d7879d3875430/expr.ipynb\"><img src=\"data:image/png;base64,iVBORw0KGgoAAAANSUhEUgAAAGYAAAAVBAMAAABGR4Y+AAAAMFBMVEX////c3NwiIiJERESqqqqY\n",
       "mJh2dnZmZmYQEBDu7u4yMjJUVFTMzMyIiIi6uroAAAAs73DqAAAAAXRSTlMAQObYZgAAAO9JREFU\n",
       "OMtjYCAH8F0gSTnrAyBxmoFdCQwMwGJFYLYyNuWMYNNrgHgliMFTgCR3HIcVEEVcDAy8F/Dr4UTX\n",
       "w5rAwDEBvx6uCWh6OBsYXjHg18O3AU0PgwlDGQE9DLnoetIZluLWAwlC/QI0PV4MfYTsYfB6gKrn\n",
       "BcM/gno4VzxA0XOeCD2nMhnQ9LQQ8o+SJQO620yRuBOw2eONHm5RwJCDczk/YdHDuAAzrB9BuAkg\n",
       "Pf0CYM4xZD3MEDFwQm4CJ+R1DBwCSHEugCVhogsA0w5rAlLeICYDsV2A5gUS9MwCYmkEl6gcuxGe\n",
       "+4gGvAcYAGYLP737RYlRAAAAAElFTkSuQmCC\n",
       "\" style=\"display:inline;vertical-align:middle;\" /></a></td></tr>\n",
       "<tr><td>8</td><td>Operation</td><td>operator:&nbsp;11<br>operands:&nbsp;10<br></td><td><a class=\"ProveItLink\" href=\"../5c89411a8c468da13cdc01880daaa573c582a8db0/expr.ipynb\"><img src=\"data:image/png;base64,iVBORw0KGgoAAAANSUhEUgAAAD8AAAAPBAMAAAChCwpBAAAALVBMVEX///+qqqp2dnZUVFS6uroy\n",
       "MjLu7u5EREQQEBAiIiJmZmbMzMyIiIjc3NwAAAAGhiwUAAAAAXRSTlMAQObYZgAAAGVJREFUGNNj\n",
       "YGBguMOABXDNBIMCEHsXA3bAvQDKQFHARkgBawIBBSwGBBQw6OBWsBLs7nkLCJjAIOpAQAFbhAN+\n",
       "BVvV8LthZhkBNwgT8CZvAJoCoLkzZs6cDhdlv4BQoIA1htD4AF7PJ5Q+t8orAAAAAElFTkSuQmCC\n",
       "\" style=\"display:inline;vertical-align:middle;\" /></a></td></tr>\n",
       "<tr><td>9</td><td>Operation</td><td>operator:&nbsp;11<br>operands:&nbsp;12<br></td><td><a class=\"ProveItLink\" href=\"../c65898187aa5a4404b8e436d28e20f1178f211670/expr.ipynb\"><img src=\"data:image/png;base64,iVBORw0KGgoAAAANSUhEUgAAAD8AAAAPBAMAAAChCwpBAAAALVBMVEX////c3NwQEBCqqqqIiIhU\n",
       "VFS6uroyMjLu7u52dnbMzMxEREQiIiJmZmYAAACG8MiSAAAAAXRSTlMAQObYZgAAAGJJREFUGNNj\n",
       "uHMGBE4zYAGMDlDGWgbsgOsCNgUchBSwNxBQwBZAQAHDFNwKIB46d4GACQzmCQQUcBQl4FewfAZ+\n",
       "N5zZQcANpgS8yViAqWAlsgJuAQjNC7RM58yZDZgxhMYHACe9L414BCJLAAAAAElFTkSuQmCC\n",
       "\" style=\"display:inline;vertical-align:middle;\" /></a></td></tr>\n",
       "<tr><td>10</td><td>ExprTuple</td><td>14, 13</td><td><a class=\"ProveItLink\" href=\"../f33a8d5708d13f20cb034555a092a5521deab66a0/expr.ipynb\"><img src=\"data:image/png;base64,iVBORw0KGgoAAAANSUhEUgAAADUAAAAVBAMAAAAUZLt1AAAAMFBMVEX////c3NwiIiJERESqqqqY\n",
       "mJh2dnZmZmYQEBDu7u4yMjJUVFTMzMyIiIi6uroAAAAs73DqAAAAAXRSTlMAQObYZgAAALBJREFU\n",
       "KM9jYMAH+C5gFY4DEadBBCNcQZESCCgzsB8AclaCRHgKkLQcB5MLGBh4L+CQC2Ng4JiAQ24GA8Mr\n",
       "BhxyzA4MZbjk2AoYluKSY1nA0IdLjq+B4R8uOZ4PeOVa8JhpiiQ3AVmOdQFDOkKO8xOaHx4xMLAD\n",
       "A7dJScmAs18ALHoMTHI9YOAQQIouJDYozFgTEFxW5AjMhcURphwnMI4YpBF85BTALYAS5SjgDgMD\n",
       "AMUhLsE7xITaAAAAAElFTkSuQmCC\n",
       "\" style=\"display:inline;vertical-align:middle;\" /></a></td></tr>\n",
       "<tr><td>11</td><td>Literal</td><td></td><td><a class=\"ProveItLink\" href=\"../e5c030cabcb650938f92dee8256fe11cd12bf9b30/expr.ipynb\"><img src=\"data:image/png;base64,iVBORw0KGgoAAAANSUhEUgAAABMAAAANBAMAAAC5okgUAAAALVBMVEX////c3NxERETMzMwQEBCq\n",
       "qqoiIiJmZmaIiIh2dnZUVFS6uroyMjLu7u4AAACPpZJTAAAAAXRSTlMAQObYZgAAAD1JREFUCNdj\n",
       "YAABXgY44LkAZ3IvQAjPABFlaSCQV4AQjtkAZ/IegbNt5sLUpunC5aPgLMYDcCaTAJzJDCIA2yMN\n",
       "HCCUuIIAAAAASUVORK5CYII=\n",
       "\" style=\"display:inline;vertical-align:middle;\" /></a></td></tr>\n",
       "<tr><td>12</td><td>ExprTuple</td><td>13, 14</td><td><a class=\"ProveItLink\" href=\"../0f60990fe1c69084ca218cead46950bf14732b6a0/expr.ipynb\"><img src=\"data:image/png;base64,iVBORw0KGgoAAAANSUhEUgAAADUAAAAVBAMAAAAUZLt1AAAAMFBMVEX////c3NwiIiJERESqqqqY\n",
       "mJh2dnZmZmYQEBDu7u4yMjJUVFTMzMyIiIi6uroAAAAs73DqAAAAAXRSTlMAQObYZgAAALFJREFU\n",
       "KM9jYMAH+C5gFY4DEacZ2JXAwAAmLAsi2A8AiZUgFk8BkpbjYHIBAwPvBRxyYQwMHBNwyM1gYHjF\n",
       "gEOO2YGhDJccWwHDUlxyLAsY+nDJ8TUw/MMlx/MBr1wLHjNNkeQmIMuxLmBIR8hxfkLzwyOIXAJI\n",
       "rl+AgaFISUlDSUmZgYHrAQOHAFJ0IbFBYcaagOCyIkdgLiyOMOU4gXHEII3gI6cAbpD5jNjTxB0G\n",
       "BgCWci1ZX87w6gAAAABJRU5ErkJggg==\n",
       "\" style=\"display:inline;vertical-align:middle;\" /></a></td></tr>\n",
       "<tr><td>13</td><td>Literal</td><td></td><td><a class=\"ProveItLink\" href=\"../../../__pv_it/68a87cc3370287d726c7086ace789e680e4461c30/expr.ipynb\"><img src=\"data:image/png;base64,iVBORw0KGgoAAAANSUhEUgAAAA4AAAAOBAMAAADtZjDiAAAAFVBMVEX///92dnbMzMxEREQiIiJm\n",
       "ZmYAAABAT6GXAAAAAXRSTlMAQObYZgAAABhJREFUCNdjCHEBAWcGIFBlgABa0YpADAAxegPJJk4d\n",
       "XAAAAABJRU5ErkJggg==\n",
       "\" style=\"display:inline;vertical-align:middle;\" /></a></td></tr>\n",
       "<tr><td>14</td><td>Literal</td><td></td><td><a class=\"ProveItLink\" href=\"../../../__pv_it/8f1f7fac882de28c72b62ab80a1700b6d8fd066b0/expr.ipynb\"><img src=\"data:image/png;base64,iVBORw0KGgoAAAANSUhEUgAAAA4AAAAOBAMAAADtZjDiAAAAG1BMVEX///9EREQQEBAiIiJmZmbM\n",
       "zMyIiIjc3NwAAACryk5kAAAAAXRSTlMAQObYZgAAABlJREFUCNdjYGBgKGOAgBBa0s7GxkbGxoYA\n",
       "FMUF2aBfHgoAAAAASUVORK5CYII=\n",
       "\" style=\"display:inline;vertical-align:middle;\" /></a></td></tr>\n",
       "</table>\n"
      ],
      "text/plain": [
       "0. ((FALSE => TRUE) and (TRUE => FALSE)) = (TRUE and (TRUE => FALSE))\n",
       "   core type: Operation\n",
       "   operator: 1\n",
       "   operands: 2\n",
       "1. =\n",
       "   core type: Literal\n",
       "   sub-expressions: \n",
       "2. ((FALSE => TRUE) and (TRUE => FALSE) , TRUE and (TRUE => FALSE))\n",
       "   core type: ExprTuple\n",
       "   sub-expressions: 3, 4\n",
       "3. (FALSE => TRUE) and (TRUE => FALSE)\n",
       "   core type: Operation\n",
       "   operator: 6\n",
       "   operands: 5\n",
       "4. TRUE and (TRUE => FALSE)\n",
       "   core type: Operation\n",
       "   operator: 6\n",
       "   operands: 7\n",
       "5. (FALSE => TRUE , TRUE => FALSE)\n",
       "   core type: ExprTuple\n",
       "   sub-expressions: 8, 9\n",
       "6. and\n",
       "   core type: Literal\n",
       "   sub-expressions: \n",
       "7. (TRUE , TRUE => FALSE)\n",
       "   core type: ExprTuple\n",
       "   sub-expressions: 13, 9\n",
       "8. FALSE => TRUE\n",
       "   core type: Operation\n",
       "   operator: 11\n",
       "   operands: 10\n",
       "9. TRUE => FALSE\n",
       "   core type: Operation\n",
       "   operator: 11\n",
       "   operands: 12\n",
       "10. (FALSE , TRUE)\n",
       "    core type: ExprTuple\n",
       "    sub-expressions: 14, 13\n",
       "11. =>\n",
       "    core type: Literal\n",
       "    sub-expressions: \n",
       "12. (TRUE , FALSE)\n",
       "    core type: ExprTuple\n",
       "    sub-expressions: 13, 14\n",
       "13. TRUE\n",
       "    core type: Literal\n",
       "    sub-expressions: \n",
       "14. FALSE\n",
       "    core type: Literal\n",
       "    sub-expressions: "
      ]
     },
     "execution_count": 4,
     "metadata": {},
     "output_type": "execute_result"
    }
   ],
   "source": [
    "# display the expression information\n",
    "expr.exprInfo()"
   ]
  },
  {
   "cell_type": "code",
   "execution_count": null,
   "metadata": {},
   "outputs": [],
   "source": []
  }
 ],
 "metadata": {
  "kernelspec": {
   "display_name": "Python 3",
   "language": "python",
   "name": "python3"
  }
 },
 "nbformat": 4,
 "nbformat_minor": 0
}
