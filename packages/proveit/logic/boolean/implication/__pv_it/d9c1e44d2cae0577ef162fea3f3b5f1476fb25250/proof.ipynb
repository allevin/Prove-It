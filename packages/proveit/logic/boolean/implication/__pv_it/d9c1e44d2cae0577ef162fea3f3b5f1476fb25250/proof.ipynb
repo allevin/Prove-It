{
 "cells": [
  {
   "cell_type": "markdown",
   "metadata": {},
   "source": [
    "Show the Proof\n",
    "========"
   ]
  },
  {
   "cell_type": "code",
   "execution_count": 1,
   "metadata": {},
   "outputs": [
    {
     "data": {
      "text/html": [
       "<table><tr><th>&nbsp;</th><th>step type</th><th>requirements</th><th>statement</th></tr>\n",
       "<tr><td>0</td><td>specialization</td><td>1</td><td><span style=\"font-size:20px;\"> <a class=\"ProveItLink\" href=\"proof.ipynb\" style=\"text-decoration: none\">&#x22A2;&nbsp;</a><a class=\"ProveItLink\" href=\"../a6fbf08fc2fd76de2037482b6a4e59816357f66b0/expr.ipynb\"><img src=\"data:image/png;base64,iVBORw0KGgoAAAANSUhEUgAAATEAAAAVBAMAAADcAcTPAAAAMFBMVEX////c3NwiIiJERESqqqqY\n",
       "mJh2dnZmZmYQEBDu7u4yMjJUVFTMzMyIiIi6uroAAAAs73DqAAAAAXRSTlMAQObYZgAAA61JREFU\n",
       "SMfNVkFIVGEQnqe77j73rS7kpY3QlCDooEWBdXFvgh5aCjwU1F5COghi4SECjTyUgS2exEMoYaaB\n",
       "bXQIWkrpFHrYvQWR+PBUhpCUSS6t/f/M///v972Xu3trYPb9OzPfP/Pmn5n/Afy/VJcvaXLVR7Yp\n",
       "uEJkGd6CtsCt0P/3fkZX9rLZ8zaEljwaK0PMl01+2y8Wsq8WvMgVR+dLPIw7QLg5Er3wNbzHjIoA\n",
       "Ux5FbZqYL7/7IcNtAEO2Qh4WzzlN50c8jFpAj1FKb7A17WNn/WFcAOjxaFYFM7r42xE7m+TYvrmM\n",
       "Qs7Sg7wJnSBTTzUPI5hCj2HarGEoJpQsWqtfrKNbzO4XwIQnsgeCAYzOLUc8p1ZrbL9rKYm0TpMb\n",
       "8iZ0WvolYRjmMHrcIFF+zdbe6pQwrGY2VSyA6oS7kKeIOSBadOTf1Kqd8Ym0REY26Wg2dJ3cK+Pg\n",
       "KYwz6HGQtOkLSdIt85+4MKzPgPGEbVHT74oslCJm9DWw7chrVOuxGoifU8hJoDYZ1HWS+pwXpjB6\n",
       "ETeDosd49jzt95sZtYpTyb1dHeCmAUzP7XlOz/EEksQs9TYvRhZnM9KOrNDC6sfjCgnX4RY+Z3Qd\n",
       "wABiWtV7izC6EDeGIhsaSf2Jkrxhy2IxT/J3GXZ3nk3MVGDsaIrAglOh4xmFbBLHMKbrFHXJPhVh\n",
       "fEEcFomVzS628cVEG5kYD1VBrLHUWO7BUG8TswGVzf7QNZNjqkKj2xIZzEMEJ1tR1ykyn1FoMowc\n",
       "4or04hDGtJuvyTaelwWBTXRAZOxnVJ8zT9OyQrGrCVmVFmO5qOsULd8QZSbCoMhGuIg1UBWlPUDl\n",
       "cozc8BdbTMgzoapowdNMEEOAt5lWZy2i5XIs05GfEtnJeJovRnSd3LFZdoMMg07zLD+7hDPJu/nP\n",
       "eEwVi7HLT8N9CVQniaFh//URyGjjrHFKIqdFdOhN6SR1i6cK4zLierGnmR8xyUM8E++ccfaBt6ln\n",
       "anABZ5M76HBGZVwbZ9aonDcWL54qoHng6GRAMkgVBk2NdYBDj6Yh2LFL3rkvg/og1FHIvsE+r3Vf\n",
       "cnVNyEb7bgwu7c0quRzRN9mnwHxSIiO2HOHruk7mX9w+ThgLiAvHXE5ZD5nuO9R7O90V7AX7IOvE\n",
       "SACvN55Rt0DcTsFUGd9wfR5JD/jd8yWRZXnjF0nfvkv4n2Qe+BVUEbIMb7zeEHektGnEewZGhrhS\n",
       "ZBne4KXAGaW/fz/7yI4KrhBZhrfoEuL+ApNnK18wY0lWAAAAAElFTkSuQmCC\n",
       "\" style=\"display:inline;vertical-align:middle;\" /></a></span></td></tr>\n",
       "<tr><td>&nbsp;</td><td colspan=4 style=\"text-align:left\"><span style=\"font-size:20px;\"><a class=\"ProveItLink\" href=\"../../../../../__pv_it/2cbe72a7ad6f655694dd697106680215e8489b600/expr.ipynb\"><img src=\"data:image/png;base64,iVBORw0KGgoAAAANSUhEUgAAAA8AAAAOBAMAAAACpFvcAAAALVBMVEX///8QEBBERERUVFS6urqI\n",
       "iIhmZmaqqqrc3Nzu7u6YmJgyMjIiIiLMzMwAAADtIaYWAAAAAXRSTlMAQObYZgAAAFtJREFUCNdj\n",
       "YACBOwxQsA9Kc52bAGG05zVAGAFxDmCaZULdAjBjCsO9ADDDgaEvAUTzGhvbKYCVMDAwbgAxChgY\n",
       "eASANAeQwf0AyJgNxEwvGRia5HYwcOm9TgAA6BoR3jrzwFcAAAAASUVORK5CYII=\n",
       "\" style=\"display:inline;vertical-align:middle;\" /></a> : <a class=\"ProveItLink\" href=\"../../../../../__pv_it/2cbe72a7ad6f655694dd697106680215e8489b600/expr.ipynb\"><img src=\"data:image/png;base64,iVBORw0KGgoAAAANSUhEUgAAAA8AAAAOBAMAAAACpFvcAAAALVBMVEX///8QEBBERERUVFS6urqI\n",
       "iIhmZmaqqqrc3Nzu7u6YmJgyMjIiIiLMzMwAAADtIaYWAAAAAXRSTlMAQObYZgAAAFtJREFUCNdj\n",
       "YACBOwxQsA9Kc52bAGG05zVAGAFxDmCaZULdAjBjCsO9ADDDgaEvAUTzGhvbKYCVMDAwbgAxChgY\n",
       "eASANAeQwf0AyJgNxEwvGRia5HYwcOm9TgAA6BoR3jrzwFcAAAAASUVORK5CYII=\n",
       "\" style=\"display:inline;vertical-align:middle;\" /></a>, <a class=\"ProveItLink\" href=\"../../../../../__pv_it/077b2ff79244fb4582cbe22c6e3356fa92a52f2f0/expr.ipynb\"><img src=\"data:image/png;base64,iVBORw0KGgoAAAANSUhEUgAAABAAAAAOBAMAAADUAYG5AAAAMFBMVEX///+qqqru7u4iIiJ2dnbc\n",
       "3NyIiIjMzMxmZmYQEBC6uroyMjJERERUVFSYmJgAAADLUcuvAAAAAXRSTlMAQObYZgAAAGpJREFU\n",
       "CNdjYGB4+//u3dMLGIBgDgMDxy8gzf4NiP8CGWxfGRj4vgAZPBMYGJgnARn8FxhY9ygAGfXX0pof\n",
       "gDTlBzAw2YIYJ0EckBBI53sHoBH/gIz7AhBjWH9DjancBLTl/N+7t/cxMAAA3u4f/5xagjYAAAAA\n",
       "SUVORK5CYII=\n",
       "\" style=\"display:inline;vertical-align:middle;\" /></a> : <a class=\"ProveItLink\" href=\"../../../../../__pv_it/077b2ff79244fb4582cbe22c6e3356fa92a52f2f0/expr.ipynb\"><img src=\"data:image/png;base64,iVBORw0KGgoAAAANSUhEUgAAABAAAAAOBAMAAADUAYG5AAAAMFBMVEX///+qqqru7u4iIiJ2dnbc\n",
       "3NyIiIjMzMxmZmYQEBC6uroyMjJERERUVFSYmJgAAADLUcuvAAAAAXRSTlMAQObYZgAAAGpJREFU\n",
       "CNdjYGB4+//u3dMLGIBgDgMDxy8gzf4NiP8CGWxfGRj4vgAZPBMYGJgnARn8FxhY9ygAGfXX0pof\n",
       "gDTlBzAw2YIYJ0EckBBI53sHoBH/gIz7AhBjWH9DjancBLTl/N+7t/cxMAAA3u4f/5xagjYAAAAA\n",
       "SUVORK5CYII=\n",
       "\" style=\"display:inline;vertical-align:middle;\" /></a></span></td></tr><tr><td>1</td><td>axiom</td><td></td><td><span style=\"font-size:20px;\"> <a class=\"ProveItLink\" href=\"../../_axioms_.ipynb#iffDef\" style=\"text-decoration: none\">&#x22A2;&nbsp;</a><a class=\"ProveItLink\" href=\"../a756da7a5c4731c8ee727591cf414442c56348d00/expr.ipynb\"><img src=\"data:image/png;base64,iVBORw0KGgoAAAANSUhEUgAAAXkAAAAWBAMAAADX+PE1AAAAMFBMVEX///8QEBC6urrMzMxUVFRm\n",
       "ZmZERETc3NwyMjKqqqp2dnaIiIiYmJgiIiLu7u4AAAAU9Wx4AAAAAXRSTlMAQObYZgAAA99JREFU\n",
       "WMPVl01IVFEUx4/zHJ86My9xIbmoXLgIyhrBqE041BBCC9u4KJB0kbaonCD8WFQW2ESFzSKjTeQm\n",
       "Mgx5YDsXWkT0QWSQBZE4hoGrEvGrEu1+nHPfzJs7zmRuPPB3nHfu775z7z333DsAm9riazk9tlQG\n",
       "e75xZJYMaZQ/eJumYRWK2UGd/8VqOHy6DLzBDSOrHJ/ODBYuZ0iP+cPuNNF3O77b2gYlrJNZgM7/\n",
       "Ji8lcOTTWP4MSAbVyj7MBn3wPluKmX9Cl2LGH6Y5gDfZkvF0ZJfDKR+aldDvuxWQDCqfdeiN6aPP\n",
       "iUsx6zgZwdEz7VNBLrLofgNMZkMmLbKLNM7GFad8NN/O6M0e5hIMyv+ore1imsTZiWJmD2MiDjHl\n",
       "UTx5RQCB7ewzlgXJrRz0ZO4uW3HKRxs55CypjycUZ0gLTU1f0kR/AsV6iD8YkZPEE86kbN0SAvMa\n",
       "m5rCY5lJYYW2npyW1UMy5CPrV//tKVgGyZAOAzQLV1T8vTtfd4QKwS0UwDeolu+t3DbObAn7rj46\n",
       "VM9jK+DD8V4XFtKT3nFh86AhAZ7AcfVG5QOoF8wEzY1VxreEYEjlYIke/HKX+4vAV4Sti1EAZXBZ\n",
       "dOGTieu5KhsMR8D6yL8XueY+lUQr0JOj0K445VN2D3PPA+Y8MqQA+MRAvy+LFt4QeBaRmkWBEQ7X\n",
       "8rpklaDnvMzFRv4uRhszruhTSGXTxRrSb0NukDjlc6rOFRl+VTi8AJIh+UYCIg8GxkSLgA3eUXcM\n",
       "HlYNxAJNyXk0b8oGvKy9710rekVSpbwR15AsAiOkoiefsgMDgOsIW13RW53iTDTsJtHiZxBeUUkp\n",
       "RQHb3AG5xPdl+soWBl+u2hiuP2Z2g55E76e4hoQe2naliT7K+/FzmHVMH1yZA82HRM2CetFk79DT\n",
       "czTmMygzhqcc64FPkfXZKdrmEl9592GrIR08lYziCASjfGR38LMDD27OkKBHJMprGBZN+gCeUbV6\n",
       "iJrmRXZFPuO1IbfMKdqV3aCpmDqSWzvoSIOvV4A45aMjCqdGFJeWeHLFhBxe0ayxuhYR9CmWPHT2\n",
       "VEi17oiCv2WJKrO8XfBkaJkL14gal+++U+lIbs1aUsyGuCRUJPpopDJNzcalCLxc7ZIMCfw8am8E\n",
       "qsWu/8WSh+p9TkQq6WrD9MN9rKXeFDQkt6CW9NCe1DKGjplMeutudsSNmFEwV8Aco4f+XqmM1u9+\n",
       "sF4ya6Y/kZ1aALP2K9vtffN1NTHdPXcts9a8If8TmSVDSh666/sFVAbLTV3v9ZJZMqQk2+/6btpS\n",
       "GWww9dF6ySyZQR07ssl+lP8FkGB7YFhFVksAAAAASUVORK5CYII=\n",
       "\" style=\"display:inline;vertical-align:middle;\" /></a></span></td></tr>\n",
       "<tr><td>&nbsp;</td><td colspan=4 style-\"text-align:left\"><a class=\"ProveItLink\" href=\"../../_axioms_.ipynb#iffDef\">proveit.logic.boolean.implication.iffDef</a></td></tr></table>"
      ],
      "text/plain": [
       "<proveit._core_.proof._ShowProof at 0x7f94eab459e8>"
      ]
     },
     "execution_count": 1,
     "metadata": {},
     "output_type": "execute_result"
    }
   ],
   "source": [
    "import proveit\n",
    "%show_proof"
   ]
  },
  {
   "cell_type": "code",
   "execution_count": null,
   "metadata": {},
   "outputs": [],
   "source": []
  }
 ],
 "metadata": {
  "kernelspec": {
   "display_name": "Python 3",
   "language": "python",
   "name": "python3"
  }
 },
 "nbformat": 4,
 "nbformat_minor": 0
}
