{
 "cells": [
  {
   "cell_type": "markdown",
   "metadata": {},
   "source": [
    "Expression of type <a class=\"ProveItLink\" href=\"../../../../../../../doc/html/api/proveit.ExprTuple.html\">ExprTuple</a>\n",
    "=======================\n",
    "# from context <a class=\"ProveItLink\" href=\"../../_context_.ipynb\">proveit.logic.boolean.implication</a>"
   ]
  },
  {
   "cell_type": "code",
   "execution_count": 1,
   "metadata": {},
   "outputs": [],
   "source": [
    "# import Expression classes needed to build the expression\n",
    "from proveit import ExprTuple\n",
    "from proveit._common_ import B\n",
    "from proveit.logic import Booleans, FALSE, Implies"
   ]
  },
  {
   "cell_type": "code",
   "execution_count": 2,
   "metadata": {},
   "outputs": [
    {
     "data": {
      "text/html": [
       "<strong id=\"expr\">expr:</strong> <a class=\"ProveItLink\" href=\"expr.ipynb\"><img src=\"data:image/png;base64,iVBORw0KGgoAAAANSUhEUgAAAGUAAAAVBAMAAACtcD09AAAAMFBMVEX////c3NwiIiJERESqqqqY\n",
       "mJh2dnZmZmYQEBDu7u4yMjJUVFTMzMyIiIi6uroAAAAs73DqAAAAAXRSTlMAQObYZgAAAYFJREFU\n",
       "OMtjYCAH8F0gSXkciDgNZspiVcC6//fuzevATLb1Vr+aTBgY2A8AOSvBQsexm8phwMBQ/wDMZOa7\n",
       "MGtaAgPDAgYG3guYeibAWeeBsuc3wPTwPgBqCAOaNAFTz0o4674AA0N8AkwPS8BOBoYZDAyvGDD1\n",
       "vIazLIBYYwLcnodApzI7MJRh0cMGD8rfDAxSlgwwPYeCgdrZChiWouhhVwKD71AtPL/vXldlgOlR\n",
       "+t8LpFkWMPRhsYeBBRK+DLwfGRgmbYDbw3sF6Da+BoZ/2PQwzIIYxdwA1PcVrofB4BnQ7g/Y9fAs\n",
       "g/ibH2gH6zckPcxgPS3Y/KMMjaHzAQwM3F9Q9QDdZorFHpYNSNEjvwASyTC3sS5gSMeiRwopeni6\n",
       "JjBwfoLoYa01AIf1IyC3SElJA+gguB5DKF38f/fuVUDncfYLgNLoZ40tQEGuBwwcApgp8wBGfkFS\n",
       "BEw7rAlEZBpWJHYuSoIkSg8nMEgYpInQg5SVuUHOZCQtb99hYAAAjWlrLy+R3yoAAAAASUVORK5C\n",
       "YII=\n",
       "\" style=\"display:inline;vertical-align:middle;\" /></a><br>"
      ],
      "text/plain": [
       "expr: (FALSE => B , BOOLEANS)"
      ]
     },
     "execution_count": 2,
     "metadata": {},
     "output_type": "execute_result"
    }
   ],
   "source": [
    "# build up the expression from sub-expressions\n",
    "expr = ExprTuple(Implies(FALSE, B), Booleans)"
   ]
  },
  {
   "cell_type": "code",
   "execution_count": 3,
   "metadata": {},
   "outputs": [
    {
     "name": "stdout",
     "output_type": "stream",
     "text": [
      "Passed sanity check: built 'expr' is the same as the stored Expression.\n"
     ]
    }
   ],
   "source": [
    "# check that the built expression is the same as the stored expression\n",
    "%check_expr"
   ]
  },
  {
   "cell_type": "code",
   "execution_count": 4,
   "metadata": {},
   "outputs": [
    {
     "data": {
      "text/html": [
       "<table><tr><th>&nbsp;</th><th>core type</th><th>sub-expressions</th><th>expression</th></tr>\n",
       "<tr><td>0</td><td>ExprTuple</td><td>1, 2</td><td><a class=\"ProveItLink\" href=\"expr.ipynb\"><img src=\"data:image/png;base64,iVBORw0KGgoAAAANSUhEUgAAAGUAAAAVBAMAAACtcD09AAAAMFBMVEX////c3NwiIiJERESqqqqY\n",
       "mJh2dnZmZmYQEBDu7u4yMjJUVFTMzMyIiIi6uroAAAAs73DqAAAAAXRSTlMAQObYZgAAAYFJREFU\n",
       "OMtjYCAH8F0gSXkciDgNZspiVcC6//fuzevATLb1Vr+aTBgY2A8AOSvBQsexm8phwMBQ/wDMZOa7\n",
       "MGtaAgPDAgYG3guYeibAWeeBsuc3wPTwPgBqCAOaNAFTz0o4674AA0N8AkwPS8BOBoYZDAyvGDD1\n",
       "vIazLIBYYwLcnodApzI7MJRh0cMGD8rfDAxSlgwwPYeCgdrZChiWouhhVwKD71AtPL/vXldlgOlR\n",
       "+t8LpFkWMPRhsYeBBRK+DLwfGRgmbYDbw3sF6Da+BoZ/2PQwzIIYxdwA1PcVrofB4BnQ7g/Y9fAs\n",
       "g/ibH2gH6zckPcxgPS3Y/KMMjaHzAQwM3F9Q9QDdZorFHpYNSNEjvwASyTC3sS5gSMeiRwopeni6\n",
       "JjBwfoLoYa01AIf1IyC3SElJA+gguB5DKF38f/fuVUDncfYLgNLoZ40tQEGuBwwcApgp8wBGfkFS\n",
       "BEw7rAlEZBpWJHYuSoIkSg8nMEgYpInQg5SVuUHOZCQtb99hYAAAjWlrLy+R3yoAAAAASUVORK5C\n",
       "YII=\n",
       "\" style=\"display:inline;vertical-align:middle;\" /></a></td></tr>\n",
       "<tr><td>1</td><td>Operation</td><td>operator:&nbsp;3<br>operands:&nbsp;4<br></td><td><a class=\"ProveItLink\" href=\"../6f60b7f2c9ff0a32b6e247c74b101c03fea000df0/expr.ipynb\"><img src=\"data:image/png;base64,iVBORw0KGgoAAAANSUhEUgAAAEAAAAAPBAMAAACmSdRUAAAAMFBMVEX///+YmJiqqqp2dnZUVFS6\n",
       "uroyMjLu7u5EREQQEBAiIiJmZmbMzMyIiIjc3NwAAAD9x+WiAAAAAXRSTlMAQObYZgAAALNJREFU\n",
       "GNNjYGBgeMuAFYj8d3FpCwCxTmNXwDCDgYH7K4YCdjiL5y8Qf8FQwFYAY/H+Y2Bg/IyhgNUBxuKY\n",
       "wMDANR3TDbYwBr8DA19GAbKCXatAYP0GKPe8791dAgxYfKEWAKHvP2BgX4JNAXsmREUnSJEAFgXH\n",
       "zCE0yIfyBphuWNUODYaPQMJfAdMEFaRg4PuG6Qa+BKRgOJkONnflqlUr4Ao4HkBo7v4vLm6JWGKI\n",
       "B40PAHB/OKjNNdtTAAAAAElFTkSuQmCC\n",
       "\" style=\"display:inline;vertical-align:middle;\" /></a></td></tr>\n",
       "<tr><td>2</td><td>Literal</td><td></td><td><a class=\"ProveItLink\" href=\"../../../__pv_it/46271c8230be96415d662709611f4ed2279d702b0/expr.ipynb\"><img src=\"data:image/png;base64,iVBORw0KGgoAAAANSUhEUgAAAA0AAAAOBAMAAAAGUYvhAAAAMFBMVEX///9mZmbMzMzc3NxUVFSY\n",
       "mJju7u6IiIi6urqqqqoiIiIQEBBEREQyMjJ2dnYAAAAQvcRZAAAAAXRSTlMAQObYZgAAAElJREFU\n",
       "CNdjePvn/u01ExgYGA60s117B6YZKngh9FSWBAjfBsxnWnoMRHet/10AkS+fA6F5OB5AaIYDqDRU\n",
       "PLCGgQFoz6ktExgAgLIl8DFvGtkAAAAASUVORK5CYII=\n",
       "\" style=\"display:inline;vertical-align:middle;\" /></a></td></tr>\n",
       "<tr><td>3</td><td>Literal</td><td></td><td><a class=\"ProveItLink\" href=\"../e5c030cabcb650938f92dee8256fe11cd12bf9b30/expr.ipynb\"><img src=\"data:image/png;base64,iVBORw0KGgoAAAANSUhEUgAAABMAAAANBAMAAAC5okgUAAAALVBMVEX////c3NxERETMzMwQEBCq\n",
       "qqoiIiJmZmaIiIh2dnZUVFS6uroyMjLu7u4AAACPpZJTAAAAAXRSTlMAQObYZgAAAD1JREFUCNdj\n",
       "YAABXgY44LkAZ3IvQAjPABFlaSCQV4AQjtkAZ/IegbNt5sLUpunC5aPgLMYDcCaTAJzJDCIA2yMN\n",
       "HCCUuIIAAAAASUVORK5CYII=\n",
       "\" style=\"display:inline;vertical-align:middle;\" /></a></td></tr>\n",
       "<tr><td>4</td><td>ExprTuple</td><td>5, 6</td><td><a class=\"ProveItLink\" href=\"../32fa11e0d460a97a7d19a4fd36e0b53258163d570/expr.ipynb\"><img src=\"data:image/png;base64,iVBORw0KGgoAAAANSUhEUgAAADYAAAAVBAMAAAD/UwB2AAAAMFBMVEX////c3NwiIiJERESqqqqY\n",
       "mJh2dnZmZmYQEBDu7u4yMjJUVFTMzMyIiIi6uroAAAAs73DqAAAAAXRSTlMAQObYZgAAAPtJREFU\n",
       "KM9jYMAH+C5gFWZ9ACROg1iMCAWs+3/v3ryOgaEGyF4JEuApQOjgMGBgqH/AwMXAwHsBXe48UOT8\n",
       "BgbWBAaOCehy9wUYGOITGDgbGF4xoMtZALEGUIcJQxmG3G8GBilLIJ3OsBRdjuf33euqIIYXQx+6\n",
       "HO9HBoZJG4CMFwz/0OWYG4DyX0HuxZTjB+ph/QaWa0GXOx/AwMD9BWymKZLcBJj35BcAGVFAl8Ll\n",
       "OD9BvcfTNQHsh0cMDOxKSkpNSkoGnP1ALcX/d+9eFQBStI6BQwApupDYoDADBikiepAjkO0CNI6w\n",
       "yM0CYmkEFyUFbESNcmTAe4ABAJ4xQRO/+5dLAAAAAElFTkSuQmCC\n",
       "\" style=\"display:inline;vertical-align:middle;\" /></a></td></tr>\n",
       "<tr><td>5</td><td>Literal</td><td></td><td><a class=\"ProveItLink\" href=\"../../../__pv_it/8f1f7fac882de28c72b62ab80a1700b6d8fd066b0/expr.ipynb\"><img src=\"data:image/png;base64,iVBORw0KGgoAAAANSUhEUgAAAA4AAAAOBAMAAADtZjDiAAAAG1BMVEX///9EREQQEBAiIiJmZmbM\n",
       "zMyIiIjc3NwAAACryk5kAAAAAXRSTlMAQObYZgAAABlJREFUCNdjYGBgKGOAgBBa0s7GxkbGxoYA\n",
       "FMUF2aBfHgoAAAAASUVORK5CYII=\n",
       "\" style=\"display:inline;vertical-align:middle;\" /></a></td></tr>\n",
       "<tr><td>6</td><td>Variable</td><td></td><td><a class=\"ProveItLink\" href=\"../../../../../__pv_it/077b2ff79244fb4582cbe22c6e3356fa92a52f2f0/expr.ipynb\"><img src=\"data:image/png;base64,iVBORw0KGgoAAAANSUhEUgAAABAAAAAOBAMAAADUAYG5AAAAMFBMVEX///+qqqru7u4iIiJ2dnbc\n",
       "3NyIiIjMzMxmZmYQEBC6uroyMjJERERUVFSYmJgAAADLUcuvAAAAAXRSTlMAQObYZgAAAGpJREFU\n",
       "CNdjYGB4+//u3dMLGIBgDgMDxy8gzf4NiP8CGWxfGRj4vgAZPBMYGJgnARn8FxhY9ygAGfXX0pof\n",
       "gDTlBzAw2YIYJ0EckBBI53sHoBH/gIz7AhBjWH9DjancBLTl/N+7t/cxMAAA3u4f/5xagjYAAAAA\n",
       "SUVORK5CYII=\n",
       "\" style=\"display:inline;vertical-align:middle;\" /></a></td></tr>\n",
       "</table>\n"
      ],
      "text/plain": [
       "0. (FALSE => B , BOOLEANS)\n",
       "   core type: ExprTuple\n",
       "   sub-expressions: 1, 2\n",
       "1. FALSE => B\n",
       "   core type: Operation\n",
       "   operator: 3\n",
       "   operands: 4\n",
       "2. BOOLEANS\n",
       "   core type: Literal\n",
       "   sub-expressions: \n",
       "3. =>\n",
       "   core type: Literal\n",
       "   sub-expressions: \n",
       "4. (FALSE , B)\n",
       "   core type: ExprTuple\n",
       "   sub-expressions: 5, 6\n",
       "5. FALSE\n",
       "   core type: Literal\n",
       "   sub-expressions: \n",
       "6. B\n",
       "   core type: Variable\n",
       "   sub-expressions: "
      ]
     },
     "execution_count": 4,
     "metadata": {},
     "output_type": "execute_result"
    }
   ],
   "source": [
    "# display the expression information\n",
    "expr.exprInfo()"
   ]
  },
  {
   "cell_type": "code",
   "execution_count": null,
   "metadata": {},
   "outputs": [],
   "source": []
  }
 ],
 "metadata": {
  "kernelspec": {
   "display_name": "Python 3",
   "language": "python",
   "name": "python3"
  }
 },
 "nbformat": 4,
 "nbformat_minor": 0
}
