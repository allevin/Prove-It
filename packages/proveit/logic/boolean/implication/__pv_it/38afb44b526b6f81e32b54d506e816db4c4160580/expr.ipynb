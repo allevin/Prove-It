{
 "cells": [
  {
   "cell_type": "markdown",
   "metadata": {},
   "source": [
    "Expression of type <a class=\"ProveItLink\" href=\"../../../../../../../doc/html/api/proveit.logic.Equals.html\">Equals</a>\n",
    "=======================\n",
    "# from context <a class=\"ProveItLink\" href=\"../../_context_.ipynb\">proveit.logic.boolean.implication</a>"
   ]
  },
  {
   "cell_type": "code",
   "execution_count": 1,
   "metadata": {},
   "outputs": [],
   "source": [
    "# import Expression classes needed to build the expression\n",
    "from proveit.logic import And, Equals, FALSE, Implies, TRUE"
   ]
  },
  {
   "cell_type": "code",
   "execution_count": 2,
   "metadata": {},
   "outputs": [
    {
     "data": {
      "text/html": [
       "<strong id=\"expr\">expr:</strong> <a class=\"ProveItLink\" href=\"expr.ipynb\"><img src=\"data:image/png;base64,iVBORw0KGgoAAAANSUhEUgAAAOcAAAAVBAMAAABPgOQBAAAAMFBMVEX////c3NwiIiJERESqqqqY\n",
       "mJh2dnZmZmYQEBDu7u4yMjJUVFTMzMyIiIi6uroAAAAs73DqAAAAAXRSTlMAQObYZgAAAgdJREFU\n",
       "SMfFVj1r21AUPf6UpdqK9xAIzhJPzZAO3Ty7i6cOgQRvpYPBZMiUwQlduhSPJpOWQNuhuHsJBkMD\n",
       "7VD/gAREphAo5BeE+n2i+/Su3U49cN4z0nnnWFdPVwL+C+KF//jvtSsrqeLfOiocieEngpbEHjlX\n",
       "n+JYHt7xrSxI31NNB4wjsCWGYLYcPsmIobUbqzmS8zXzd5U+0nTAOBq3BGgsqCTSv26RCw3d0Epf\n",
       "kYJzNG6vgdqYSuZtNb/Ph0ZjJzQcKVJwjsZtAjyASq7UJcZJPjSeOqHY1yRgHK1bqYMTKgmTopyD\n",
       "fj4UAzf0jSYB42jdqkNcUkm1F3RkKXskVG3k50MntKuJ4LOELAXjaN3KCT5QSREFWdha6rlSdFMa\n",
       "eq9JwDhat3iEJyo5BL6JecMbGn5MSegvTQLG0brVH11JWzzbbOiPt/jnUOOYDX1HJOXlHDVFeTue\n",
       "e9p6Caa82RbEOGbL+4JIxGkhQ6nnudJX7u490CRgHK1bJdE73kjmYthW+zoXajfE6keGccw+MndK\n",
       "opvZlemAsdJ9z7qVdJVELc9lLb9AkYBxXN6hXfn6iFLUmtkFcvvEYjjzdHn3ANMGGUeDia9hw7Tl\n",
       "taguFJ3XbH/1qoF5EeWR6e4sLjR9rzYWodgZm/5zhen60K+aDjZXLnrWtB8BeWytzWzMFP2fFRxu\n",
       "gD/tL5uHnDjXSQAAAABJRU5ErkJggg==\n",
       "\" style=\"display:inline;vertical-align:middle;\" /></a><br>"
      ],
      "text/plain": [
       "expr: (TRUE and (TRUE => FALSE)) = (TRUE and FALSE)"
      ]
     },
     "execution_count": 2,
     "metadata": {},
     "output_type": "execute_result"
    }
   ],
   "source": [
    "# build up the expression from sub-expressions\n",
    "expr = Equals(And(TRUE, Implies(TRUE, FALSE)), And(TRUE, FALSE))"
   ]
  },
  {
   "cell_type": "code",
   "execution_count": 3,
   "metadata": {},
   "outputs": [
    {
     "name": "stdout",
     "output_type": "stream",
     "text": [
      "Passed sanity check: built 'expr' is the same as the stored Expression.\n"
     ]
    }
   ],
   "source": [
    "# check that the built expression is the same as the stored expression\n",
    "%check_expr"
   ]
  },
  {
   "cell_type": "code",
   "execution_count": 4,
   "metadata": {},
   "outputs": [
    {
     "data": {
      "text/html": [
       "<table><tr><th>&nbsp;</th><th>core type</th><th>sub-expressions</th><th>expression</th></tr>\n",
       "<tr><td>0</td><td>Operation</td><td>operator:&nbsp;1<br>operands:&nbsp;2<br></td><td><a class=\"ProveItLink\" href=\"expr.ipynb\"><img src=\"data:image/png;base64,iVBORw0KGgoAAAANSUhEUgAAAOcAAAAVBAMAAABPgOQBAAAAMFBMVEX////c3NwiIiJERESqqqqY\n",
       "mJh2dnZmZmYQEBDu7u4yMjJUVFTMzMyIiIi6uroAAAAs73DqAAAAAXRSTlMAQObYZgAAAgdJREFU\n",
       "SMfFVj1r21AUPf6UpdqK9xAIzhJPzZAO3Ty7i6cOgQRvpYPBZMiUwQlduhSPJpOWQNuhuHsJBkMD\n",
       "7VD/gAREphAo5BeE+n2i+/Su3U49cN4z0nnnWFdPVwL+C+KF//jvtSsrqeLfOiocieEngpbEHjlX\n",
       "n+JYHt7xrSxI31NNB4wjsCWGYLYcPsmIobUbqzmS8zXzd5U+0nTAOBq3BGgsqCTSv26RCw3d0Epf\n",
       "kYJzNG6vgdqYSuZtNb/Ph0ZjJzQcKVJwjsZtAjyASq7UJcZJPjSeOqHY1yRgHK1bqYMTKgmTopyD\n",
       "fj4UAzf0jSYB42jdqkNcUkm1F3RkKXskVG3k50MntKuJ4LOELAXjaN3KCT5QSREFWdha6rlSdFMa\n",
       "eq9JwDhat3iEJyo5BL6JecMbGn5MSegvTQLG0brVH11JWzzbbOiPt/jnUOOYDX1HJOXlHDVFeTue\n",
       "e9p6Caa82RbEOGbL+4JIxGkhQ6nnudJX7u490CRgHK1bJdE73kjmYthW+zoXajfE6keGccw+MndK\n",
       "opvZlemAsdJ9z7qVdJVELc9lLb9AkYBxXN6hXfn6iFLUmtkFcvvEYjjzdHn3ANMGGUeDia9hw7Tl\n",
       "taguFJ3XbH/1qoF5EeWR6e4sLjR9rzYWodgZm/5zhen60K+aDjZXLnrWtB8BeWytzWzMFP2fFRxu\n",
       "gD/tL5uHnDjXSQAAAABJRU5ErkJggg==\n",
       "\" style=\"display:inline;vertical-align:middle;\" /></a></td></tr>\n",
       "<tr><td>1</td><td>Literal</td><td></td><td><a class=\"ProveItLink\" href=\"../../../../equality/__pv_it/2fb26078095930560931daa0500ce419a39ea6cd0/expr.ipynb\"><img src=\"data:image/png;base64,iVBORw0KGgoAAAANSUhEUgAAAA4AAAAFBAMAAACHocAhAAAAFVBMVEX///9EREQiIiJUVFQyMjJm\n",
       "ZmYAAADubVkoAAAAAXRSTlMAQObYZgAAABRJREFUCNdjCHEBAWcGXCBICQQUAUpuAwlgGKrkAAAA\n",
       "AElFTkSuQmCC\n",
       "\" style=\"display:inline;vertical-align:middle;\" /></a></td></tr>\n",
       "<tr><td>2</td><td>ExprTuple</td><td>3, 4</td><td><a class=\"ProveItLink\" href=\"../f89fb1ccacb5c3714492c45154e3b5845a5049bc0/expr.ipynb\"><img src=\"data:image/png;base64,iVBORw0KGgoAAAANSUhEUgAAAMgAAAAVBAMAAADx1rxcAAAAMFBMVEX////c3NwiIiJERESqqqqY\n",
       "mJh2dnZmZmYQEBDu7u4yMjJUVFTMzMyIiIi6uroAAAAs73DqAAAAAXRSTlMAQObYZgAAAglJREFU\n",
       "SMe9lb9Lw0AUx1/6O2kau6oIRRedFNHBrZugS6cOguIi4iAEESeHKi4uklG6mA6iLlJ3kUJBQQfz\n",
       "B1iITiII+g+Iubukzbu8mk4e3B33vZf3udy9ewfwL8VwaP0z9su1gfynXa95guw4LzNoTm/CDpcn\n",
       "qC/HWJNtBUPSA4DC17/v1Svu0gwmhv1es1j70Gd5QrfDi+p6UCysaQAFB5tc+H0HIhBVhlRJiGZi\n",
       "Lb0OOQuZ6LP+Oo6jEM2SIKckpD2FNbUGH9gk/yniwLCjEKMpQZJlCnLXkbQ52MMmdSiJo1yPQmBb\n",
       "gmRMAqLaCUnbhHNssgG7YmsqCCICbdrEkJRNQDKVbBlrS3CCTUowwvucS/wJLLkIYtQISAIUG2vv\n",
       "8INM0g7kefQPkRD10g1D9C8Csgpwi7VnCZKw2C3sC3ncgljIFLvfEuQImSx6tcG3q0ycyfgCxG5X\n",
       "yuu1orRd88ik4YMgWSH+ZFmKrrTdu6KBBwZImUhb8eIrNNRn+Mn1ohNBFJsK4bMSgrRF+OAQfhND\n",
       "cS3y7CR4ojGE3X0Ykix2926SJ06NmZ9+hz3AXZCTWNI85EnzGnLF8J3mLT/zg2hW1GVBpJVXpLk9\n",
       "P0FI1lj6Ikt1gKdCZIBKjFXG8VN9tISyYb+i2gNB6l4dpaeUZiwkz3e6EGd2032++jx+f5aXgZ7f\n",
       "Qgt+ATN5gnfE92N3AAAAAElFTkSuQmCC\n",
       "\" style=\"display:inline;vertical-align:middle;\" /></a></td></tr>\n",
       "<tr><td>3</td><td>Operation</td><td>operator:&nbsp;6<br>operands:&nbsp;5<br></td><td><a class=\"ProveItLink\" href=\"../d1f8352f282d267172e2b7b13c73341a2589c3e40/expr.ipynb\"><img src=\"data:image/png;base64,iVBORw0KGgoAAAANSUhEUgAAAHQAAAAVBAMAAABlHNfrAAAAMFBMVEX///8QEBCqqqqYmJiIiIi6\n",
       "urpUVFQyMjLu7u7c3Nx2dnbMzMxEREQiIiJmZmYAAABKII+GAAAAAXRSTlMAQObYZgAAAShJREFU\n",
       "OMtjYKAyYHUgpII5gIHh7V0QuIMqsY2BDyx89wAWXZxgc1+D2fvgojOgdAWI4H6A3UKIODua1joI\n",
       "xeKAqbUBTSvzAhSt3GchChgbMLVWoGnlEEDRyhYCCZ5wBkytYWhaGQ6haG1nuACmX2HRyuWApnUd\n",
       "itbFDI/AdDGKVmhg/0PTqo6i9QLDdDAtisVWBqZSVK2ByFqZHRjYNoAYX7FpZWgXRdG6H1krbwMD\n",
       "dwJOrdxVDbi16gFxJYghhM2vdxrwOLgSqp3hMBZbmRLQgskcSSs3KMHywsMdTet0BmyRswuaIAJg\n",
       "aTAWomQBstaTCNfLgrNFKXJOA5Mg/YwTMBP9BjQ+JCFiZsYFhLM0F44sXUFYazsO8WmEtWbiEOck\n",
       "WMCwbGAAAPfQZKPmBXzuAAAAAElFTkSuQmCC\n",
       "\" style=\"display:inline;vertical-align:middle;\" /></a></td></tr>\n",
       "<tr><td>4</td><td>Operation</td><td>operator:&nbsp;6<br>operands:&nbsp;9<br></td><td><a class=\"ProveItLink\" href=\"../e2145872ce7a5e525f16e68ca15389ecd4fefe540/expr.ipynb\"><img src=\"data:image/png;base64,iVBORw0KGgoAAAANSUhEUgAAADUAAAAPBAMAAAC2KZqIAAAAMFBMVEX///8QEBCqqqqYmJiIiIi6\n",
       "urpUVFQyMjLu7u7c3Nx2dnbMzMxEREQiIiJmZmYAAABKII+GAAAAAXRSTlMAQObYZgAAAHRJREFU\n",
       "GNNjeHsXBO4woAJOByhjH1xoBozB/QBDrg63HPfZBpxybCEOOOXaGS7glFvM8Ain3AWG6bjkmB0Y\n",
       "2DbgkONtYOBOwCGnB8SVOOQqofJY5LgPgMxFk9sF9XkAkGAB+p4PGPiyd+8eQAp7VjAZgBAAAJlk\n",
       "LJfjnjY9AAAAAElFTkSuQmCC\n",
       "\" style=\"display:inline;vertical-align:middle;\" /></a></td></tr>\n",
       "<tr><td>5</td><td>ExprTuple</td><td>10, 7</td><td><a class=\"ProveItLink\" href=\"../a1cf030e7b2634a0c1f416c17e60d7879d3875430/expr.ipynb\"><img src=\"data:image/png;base64,iVBORw0KGgoAAAANSUhEUgAAAGYAAAAVBAMAAABGR4Y+AAAAMFBMVEX////c3NwiIiJERESqqqqY\n",
       "mJh2dnZmZmYQEBDu7u4yMjJUVFTMzMyIiIi6uroAAAAs73DqAAAAAXRSTlMAQObYZgAAAO9JREFU\n",
       "OMtjYCAH8F0gSTnrAyBxmoFdCQwMwGJFYLYyNuWMYNNrgHgliMFTgCR3HIcVEEVcDAy8F/Dr4UTX\n",
       "w5rAwDEBvx6uCWh6OBsYXjHg18O3AU0PgwlDGQE9DLnoetIZluLWAwlC/QI0PV4MfYTsYfB6gKrn\n",
       "BcM/gno4VzxA0XOeCD2nMhnQ9LQQ8o+SJQO620yRuBOw2eONHm5RwJCDczk/YdHDuAAzrB9BuAkg\n",
       "Pf0CYM4xZD3MEDFwQm4CJ+R1DBwCSHEugCVhogsA0w5rAlLeICYDsV2A5gUS9MwCYmkEl6gcuxGe\n",
       "+4gGvAcYAGYLP737RYlRAAAAAElFTkSuQmCC\n",
       "\" style=\"display:inline;vertical-align:middle;\" /></a></td></tr>\n",
       "<tr><td>6</td><td>Literal</td><td></td><td><a class=\"ProveItLink\" href=\"../../../conjunction/__pv_it/76b5f4f4c45c0b6a9b59b297fc07dfa9555698f50/expr.ipynb\"><img src=\"data:image/png;base64,iVBORw0KGgoAAAANSUhEUgAAAAwAAAAOBAMAAADpk+DfAAAALVBMVEX///+qqqqYmJh2dnaIiIi6\n",
       "urpUVFQiIiJERETMzMxmZmYyMjLu7u7c3NwAAABvwqPxAAAAAXRSTlMAQObYZgAAAEtJREFUCNdj\n",
       "YGDgPcAAAtwLwNSMGjCV6gIieTawgyhmBS4BIMXOwLsBSKkwMGQCKaC6aQwMjEBd3BdACMScAVJd\n",
       "wJAKolwYAkAUKwAk0guX6efcigAAAABJRU5ErkJggg==\n",
       "\" style=\"display:inline;vertical-align:middle;\" /></a></td></tr>\n",
       "<tr><td>7</td><td>Operation</td><td>operator:&nbsp;8<br>operands:&nbsp;9<br></td><td><a class=\"ProveItLink\" href=\"../c65898187aa5a4404b8e436d28e20f1178f211670/expr.ipynb\"><img src=\"data:image/png;base64,iVBORw0KGgoAAAANSUhEUgAAAD8AAAAPBAMAAAChCwpBAAAALVBMVEX////c3NwQEBCqqqqIiIhU\n",
       "VFS6uroyMjLu7u52dnbMzMxEREQiIiJmZmYAAACG8MiSAAAAAXRSTlMAQObYZgAAAGJJREFUGNNj\n",
       "uHMGBE4zYAGMDlDGWgbsgOsCNgUchBSwNxBQwBZAQAHDFNwKIB46d4GACQzmCQQUcBQl4FewfAZ+\n",
       "N5zZQcANpgS8yViAqWAlsgJuAQjNC7RM58yZDZgxhMYHACe9L414BCJLAAAAAElFTkSuQmCC\n",
       "\" style=\"display:inline;vertical-align:middle;\" /></a></td></tr>\n",
       "<tr><td>8</td><td>Literal</td><td></td><td><a class=\"ProveItLink\" href=\"../e5c030cabcb650938f92dee8256fe11cd12bf9b30/expr.ipynb\"><img src=\"data:image/png;base64,iVBORw0KGgoAAAANSUhEUgAAABMAAAANBAMAAAC5okgUAAAALVBMVEX////c3NxERETMzMwQEBCq\n",
       "qqoiIiJmZmaIiIh2dnZUVFS6uroyMjLu7u4AAACPpZJTAAAAAXRSTlMAQObYZgAAAD1JREFUCNdj\n",
       "YAABXgY44LkAZ3IvQAjPABFlaSCQV4AQjtkAZ/IegbNt5sLUpunC5aPgLMYDcCaTAJzJDCIA2yMN\n",
       "HCCUuIIAAAAASUVORK5CYII=\n",
       "\" style=\"display:inline;vertical-align:middle;\" /></a></td></tr>\n",
       "<tr><td>9</td><td>ExprTuple</td><td>10, 11</td><td><a class=\"ProveItLink\" href=\"../0f60990fe1c69084ca218cead46950bf14732b6a0/expr.ipynb\"><img src=\"data:image/png;base64,iVBORw0KGgoAAAANSUhEUgAAADUAAAAVBAMAAAAUZLt1AAAAMFBMVEX////c3NwiIiJERESqqqqY\n",
       "mJh2dnZmZmYQEBDu7u4yMjJUVFTMzMyIiIi6uroAAAAs73DqAAAAAXRSTlMAQObYZgAAALFJREFU\n",
       "KM9jYMAH+C5gFY4DEacZ2JXAwAAmLAsi2A8AiZUgFk8BkpbjYHIBAwPvBRxyYQwMHBNwyM1gYHjF\n",
       "gEOO2YGhDJccWwHDUlxyLAsY+nDJ8TUw/MMlx/MBr1wLHjNNkeQmIMuxLmBIR8hxfkLzwyOIXAJI\n",
       "rl+AgaFISUlDSUmZgYHrAQOHAFJ0IbFBYcaagOCyIkdgLiyOMOU4gXHEII3gI6cAbpD5jNjTxB0G\n",
       "BgCWci1ZX87w6gAAAABJRU5ErkJggg==\n",
       "\" style=\"display:inline;vertical-align:middle;\" /></a></td></tr>\n",
       "<tr><td>10</td><td>Literal</td><td></td><td><a class=\"ProveItLink\" href=\"../../../__pv_it/68a87cc3370287d726c7086ace789e680e4461c30/expr.ipynb\"><img src=\"data:image/png;base64,iVBORw0KGgoAAAANSUhEUgAAAA4AAAAOBAMAAADtZjDiAAAAFVBMVEX///92dnbMzMxEREQiIiJm\n",
       "ZmYAAABAT6GXAAAAAXRSTlMAQObYZgAAABhJREFUCNdjCHEBAWcGIFBlgABa0YpADAAxegPJJk4d\n",
       "XAAAAABJRU5ErkJggg==\n",
       "\" style=\"display:inline;vertical-align:middle;\" /></a></td></tr>\n",
       "<tr><td>11</td><td>Literal</td><td></td><td><a class=\"ProveItLink\" href=\"../../../__pv_it/8f1f7fac882de28c72b62ab80a1700b6d8fd066b0/expr.ipynb\"><img src=\"data:image/png;base64,iVBORw0KGgoAAAANSUhEUgAAAA4AAAAOBAMAAADtZjDiAAAAG1BMVEX///9EREQQEBAiIiJmZmbM\n",
       "zMyIiIjc3NwAAACryk5kAAAAAXRSTlMAQObYZgAAABlJREFUCNdjYGBgKGOAgBBa0s7GxkbGxoYA\n",
       "FMUF2aBfHgoAAAAASUVORK5CYII=\n",
       "\" style=\"display:inline;vertical-align:middle;\" /></a></td></tr>\n",
       "</table>\n"
      ],
      "text/plain": [
       "0. (TRUE and (TRUE => FALSE)) = (TRUE and FALSE)\n",
       "   core type: Operation\n",
       "   operator: 1\n",
       "   operands: 2\n",
       "1. =\n",
       "   core type: Literal\n",
       "   sub-expressions: \n",
       "2. (TRUE and (TRUE => FALSE) , TRUE and FALSE)\n",
       "   core type: ExprTuple\n",
       "   sub-expressions: 3, 4\n",
       "3. TRUE and (TRUE => FALSE)\n",
       "   core type: Operation\n",
       "   operator: 6\n",
       "   operands: 5\n",
       "4. TRUE and FALSE\n",
       "   core type: Operation\n",
       "   operator: 6\n",
       "   operands: 9\n",
       "5. (TRUE , TRUE => FALSE)\n",
       "   core type: ExprTuple\n",
       "   sub-expressions: 10, 7\n",
       "6. and\n",
       "   core type: Literal\n",
       "   sub-expressions: \n",
       "7. TRUE => FALSE\n",
       "   core type: Operation\n",
       "   operator: 8\n",
       "   operands: 9\n",
       "8. =>\n",
       "   core type: Literal\n",
       "   sub-expressions: \n",
       "9. (TRUE , FALSE)\n",
       "   core type: ExprTuple\n",
       "   sub-expressions: 10, 11\n",
       "10. TRUE\n",
       "    core type: Literal\n",
       "    sub-expressions: \n",
       "11. FALSE\n",
       "    core type: Literal\n",
       "    sub-expressions: "
      ]
     },
     "execution_count": 4,
     "metadata": {},
     "output_type": "execute_result"
    }
   ],
   "source": [
    "# display the expression information\n",
    "expr.exprInfo()"
   ]
  },
  {
   "cell_type": "code",
   "execution_count": null,
   "metadata": {},
   "outputs": [],
   "source": []
  }
 ],
 "metadata": {
  "kernelspec": {
   "display_name": "Python 3",
   "language": "python",
   "name": "python3"
  }
 },
 "nbformat": 4,
 "nbformat_minor": 0
}
