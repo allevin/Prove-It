{
 "cells": [
  {
   "cell_type": "markdown",
   "metadata": {},
   "source": [
    "Show the Proof\n",
    "========"
   ]
  },
  {
   "cell_type": "code",
   "execution_count": 1,
   "metadata": {},
   "outputs": [
    {
     "data": {
      "text/html": [
       "<table><tr><th>&nbsp;</th><th>step type</th><th>requirements</th><th>statement</th></tr>\n",
       "<tr><td>0</td><td>specialization</td><td>1, 2</td><td><span style=\"font-size:20px;\"> <a class=\"ProveItLink\" href=\"proof.ipynb\" style=\"text-decoration: none\">&#x22A2;&nbsp;</a><a class=\"ProveItLink\" href=\"../317552d1bd4d4a25fa600872c1b52775bbf254580/expr.ipynb\"><img src=\"data:image/png;base64,iVBORw0KGgoAAAANSUhEUgAAAHUAAAAVBAMAAACK3rzVAAAAMFBMVEX////c3NwiIiJERESqqqqY\n",
       "mJh2dnZmZmYQEBDu7u4yMjJUVFTMzMyIiIi6uroAAAAs73DqAAAAAXRSTlMAQObYZgAAAUZJREFU\n",
       "OMtjYKAE8F0gpIL1AS6Z0wzsSmBggC4DF69Bk8j6vH6FsgOQsRLE4ynAbjBEnAtd2OAt58o0Bgbe\n",
       "C5h6J6DpZU3A0MtwD2ggxwRMvSvR9HI2QHhzFylpwfS6ck9geMWAqfc1ml4GEwhn6QQke4UZGMqw\n",
       "6GW7gKY3HUwKT0C4mUfVkoFhKYpeaNB+R9PrBSYNEf59pP8DaH4fFnsZWNah6n0B9rUBcljddWZg\n",
       "+IdNL8OsPhS958GJqAnoInhYMfMlYNfLs2wCpl6eDcj2MjMYMLRg86/yBGxuVkDXa4rFXpYNaGEV\n",
       "BSa3ougFujkdi14pBqxxNOkBkt7wywwMjyBqUFIdIjKg4pBgZ1x+AJ4XjLqBeYFDADMHHEDjw9Ik\n",
       "yy5oOMMyZwLhLM6GK4uvJKx3Fi4JacJ6N+KSYCRY5vAewC4OAGqhWUw1B9NIAAAAAElFTkSuQmCC\n",
       "\" style=\"display:inline;vertical-align:middle;\" /></a></span></td></tr>\n",
       "<tr><td>&nbsp;</td><td colspan=4 style=\"text-align:left\"><span style=\"font-size:20px;\"><a class=\"ProveItLink\" href=\"../../../../../__pv_it/2cbe72a7ad6f655694dd697106680215e8489b600/expr.ipynb\"><img src=\"data:image/png;base64,iVBORw0KGgoAAAANSUhEUgAAAA8AAAAOBAMAAAACpFvcAAAALVBMVEX///8QEBBERERUVFS6urqI\n",
       "iIhmZmaqqqrc3Nzu7u6YmJgyMjIiIiLMzMwAAADtIaYWAAAAAXRSTlMAQObYZgAAAFtJREFUCNdj\n",
       "YACBOwxQsA9Kc52bAGG05zVAGAFxDmCaZULdAjBjCsO9ADDDgaEvAUTzGhvbKYCVMDAwbgAxChgY\n",
       "eASANAeQwf0AyJgNxEwvGRia5HYwcOm9TgAA6BoR3jrzwFcAAAAASUVORK5CYII=\n",
       "\" style=\"display:inline;vertical-align:middle;\" /></a> : <a class=\"ProveItLink\" href=\"../c627666afcca6105555798c9bfcdd2c352e208580/expr.ipynb\"><img src=\"data:image/png;base64,iVBORw0KGgoAAAANSUhEUgAAAD8AAAAPBAMAAAChCwpBAAAALVBMVEX////c3NwQEBCqqqqIiIhU\n",
       "VFS6uroyMjLu7u52dnbMzMxEREQiIiJmZmYAAACG8MiSAAAAAXRSTlMAQObYZgAAAGBJREFUGNNj\n",
       "uHMGBE4zoANesPiZDSD2WgbsgOsClIGigIOQAvYGAgrYAggoYJiCWwHEQ+cuEDCBwTyBgAKOogT8\n",
       "CpbPwO+GMzsIuMGUgDcZCzAVrERWwC2AUDABawyh8QEfPjCGic2tqAAAAABJRU5ErkJggg==\n",
       "\" style=\"display:inline;vertical-align:middle;\" /></a></span></td></tr><tr><td>1</td><td>theorem</td><td></td><td><span style=\"font-size:20px;\"> <a class=\"ProveItLink\" href=\"../../../_proofs_/inBoolIfTrue.ipynb\" style=\"text-decoration: none\">&#x22A2;&nbsp;</a><a class=\"ProveItLink\" href=\"../../../__pv_it/cc0e652b3e50bfde974674c66b274bb1625600900/expr.ipynb\"><img src=\"data:image/png;base64,iVBORw0KGgoAAAANSUhEUgAAAIgAAAAXBAMAAAAipBr3AAAAMFBMVEX///8QEBC6urrMzMxUVFRm\n",
       "ZmZERETc3NwyMjKqqqp2dnaIiIiYmJgiIiLu7u4AAAAU9Wx4AAAAAXRSTlMAQObYZgAAAhdJREFU\n",
       "OMtjYKAGeECEGm18kjwKDAwXQIzTeM1gdoBQF1CFV3zrb7w2gYEhmIFhJYjfh9cQDohrOT6giSdo\n",
       "8/WtAoozMJQBeewJeA3ZDaHO/sMwhGET0ASeBWBrWCfgNUQOTLJP/Q7hvu69ewNmyByWBwx8Agw8\n",
       "y8vLa/GawdQApri5P0GCpucBkktAHslkYPiWlnYLryGsC8CUHucfMF32AOEd5jt5QHopA4MzA0M6\n",
       "WKwdYi88OAtgjAMgkk+B+TeYm44IE937HzcA6RkMDCoMfGD38kBcywZTcl4BymBUgBjO/hVsWAJy\n",
       "wO6eBqQVGRh4GbjBVj39g2IIX/wBKIsfbIiJi8s3sGGyd+8iApaNCehXe2CAHeAF+3LdVRRDuN4G\n",
       "oBgCJCSQUh7MEIYEsCF8DSZgyQ1pKIZYs8HczQhKAJxAfBHswgsYhiiCQsoJJMLCEItiiAMrTDUb\n",
       "yF+VQNwP5vqgGALyzgkgeypY9UmG/ciG8EzghqVyrgAGSNjng739VgHJkKPbIFHMwAiKJr6roRA1\n",
       "UEPehobBUjnTBQb2xB8FDMf+t4JTbqsBPAPmioC82gSyFKSZtYDB3gDJkHAG5s8wG8VREx+nBzR2\n",
       "YPEoAGPpAGPhAMIQJiD7D0zuFP7ShmsDlPHkGwO7/x24IXz+CQwlfw+gFgW4wAtMITZMIXYHvIa4\n",
       "E2UIQzU+M7gNiDOEZMBChh4Aa/SCMsrS/6MAAAAASUVORK5CYII=\n",
       "\" style=\"display:inline;vertical-align:middle;\" /></a></span></td></tr>\n",
       "<tr><td>&nbsp;</td><td colspan=4 style-\"text-align:left\"><a class=\"ProveItLink\" href=\"../../../_proofs_/inBoolIfTrue.ipynb\">proveit.logic.boolean.inBoolIfTrue</a></td></tr><tr><td>2</td><td>theorem</td><td></td><td><span style=\"font-size:20px;\"> <a class=\"ProveItLink\" href=\"../../_proofs_/trueImpliesTrue.ipynb\" style=\"text-decoration: none\">&#x22A2;&nbsp;</a><a class=\"ProveItLink\" href=\"../c627666afcca6105555798c9bfcdd2c352e208580/expr.ipynb\"><img src=\"data:image/png;base64,iVBORw0KGgoAAAANSUhEUgAAAD8AAAAPBAMAAAChCwpBAAAALVBMVEX////c3NwQEBCqqqqIiIhU\n",
       "VFS6uroyMjLu7u52dnbMzMxEREQiIiJmZmYAAACG8MiSAAAAAXRSTlMAQObYZgAAAGBJREFUGNNj\n",
       "uHMGBE4zoANesPiZDSD2WgbsgOsClIGigIOQAvYGAgrYAggoYJiCWwHEQ+cuEDCBwTyBgAKOogT8\n",
       "CpbPwO+GMzsIuMGUgDcZCzAVrERWwC2AUDABawyh8QEfPjCGic2tqAAAAABJRU5ErkJggg==\n",
       "\" style=\"display:inline;vertical-align:middle;\" /></a></span></td></tr>\n",
       "<tr><td>&nbsp;</td><td colspan=4 style-\"text-align:left\"><a class=\"ProveItLink\" href=\"../../_proofs_/trueImpliesTrue.ipynb\">proveit.logic.boolean.implication.trueImpliesTrue</a></td></tr></table>"
      ],
      "text/plain": [
       "<proveit._core_.proof._ShowProof at 0x7f94ebdb62e8>"
      ]
     },
     "execution_count": 1,
     "metadata": {},
     "output_type": "execute_result"
    }
   ],
   "source": [
    "import proveit\n",
    "%show_proof"
   ]
  },
  {
   "cell_type": "code",
   "execution_count": null,
   "metadata": {},
   "outputs": [],
   "source": []
  }
 ],
 "metadata": {
  "kernelspec": {
   "display_name": "Python 3",
   "language": "python",
   "name": "python3"
  }
 },
 "nbformat": 4,
 "nbformat_minor": 0
}
