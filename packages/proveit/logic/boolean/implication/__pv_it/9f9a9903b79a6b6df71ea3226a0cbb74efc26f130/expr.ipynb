{
 "cells": [
  {
   "cell_type": "markdown",
   "metadata": {},
   "source": [
    "Expression of type <a class=\"ProveItLink\" href=\"../../../../../../../doc/html/api/proveit.ExprTuple.html\">ExprTuple</a>\n",
    "=======================\n",
    "# from context <a class=\"ProveItLink\" href=\"../../_context_.ipynb\">proveit.logic.boolean.implication</a>"
   ]
  },
  {
   "cell_type": "code",
   "execution_count": 1,
   "metadata": {},
   "outputs": [],
   "source": [
    "# import Expression classes needed to build the expression\n",
    "from proveit import ExprTuple\n",
    "from proveit._common_ import A, B\n",
    "from proveit.logic import Implies, Not"
   ]
  },
  {
   "cell_type": "code",
   "execution_count": 2,
   "metadata": {},
   "outputs": [
    {
     "data": {
      "text/html": [
       "<strong id=\"expr\">expr:</strong> <a class=\"ProveItLink\" href=\"expr.ipynb\"><img src=\"data:image/png;base64,iVBORw0KGgoAAAANSUhEUgAAAGsAAAAVBAMAAACzuQ2OAAAAMFBMVEX////c3NwiIiJERESqqqqY\n",
       "mJh2dnZmZmYQEBDu7u4yMjJUVFTMzMyIiIi6uroAAAAs73DqAAAAAXRSTlMAQObYZgAAAaNJREFU\n",
       "OMudVD1PAkEQfYcgHx5IopUWJlpaqAWJsYF/oJWNidJRmRALWkmksUFKY2HOGExolNqLgViZUMAP\n",
       "0HChxAYLNUJEd2fv2I13kuglL7M7M292dmb2gH9+sdZfbLs20BD7ey9aQy53vkxzw0KwDgIqQn3j\n",
       "Raso6yPmPwQMEKIij8BKSXo4y6iSo/7JMAC2QQgJn9nDuPuQkBIq+sJivwGnIHSFttW2pMuzLbtK\n",
       "jhN5wHfMZIqQEyUrbW5Jl0k7uZxCm65Cu2SnT2YJZVKeo0muwUX63oVrWaE1754OeGS/QSiS0sJC\n",
       "VvHxX5MoOnHSQDuO8DLPK08YUplMs7aqVv6Mog2dKlaBdSbb7Di9RyBTjFXNUFj6VeknjdUee+kR\n",
       "rcD1rDq+vHK3JVH5gqTpr0zWUqMkE2yrsW2kp1ytKmRC0njbtD6fC4OQ4TfhffmQtDlbZhxFndr2\n",
       "wMfAbkAHmDm5QCDZl6Vcs2VnpAkmB+Yt9SNiEUJx9wTXneHysNnDFUj//ty8bPs2KmOesNsWNgQw\n",
       "P4bmtk3FBaCN+Sm4bY8C30DScYXE3wTAAAAAAElFTkSuQmCC\n",
       "\" style=\"display:inline;vertical-align:middle;\" /></a><br>"
      ],
      "text/plain": [
       "expr: (A => [not](B))"
      ]
     },
     "execution_count": 2,
     "metadata": {},
     "output_type": "execute_result"
    }
   ],
   "source": [
    "# build up the expression from sub-expressions\n",
    "expr = ExprTuple(Implies(A, Not(B)))"
   ]
  },
  {
   "cell_type": "code",
   "execution_count": 3,
   "metadata": {},
   "outputs": [
    {
     "name": "stdout",
     "output_type": "stream",
     "text": [
      "Passed sanity check: built 'expr' is the same as the stored Expression.\n"
     ]
    }
   ],
   "source": [
    "# check that the built expression is the same as the stored expression\n",
    "%check_expr"
   ]
  },
  {
   "cell_type": "code",
   "execution_count": 4,
   "metadata": {},
   "outputs": [
    {
     "data": {
      "text/html": [
       "<table><tr><th>&nbsp;</th><th>core type</th><th>sub-expressions</th><th>expression</th></tr>\n",
       "<tr><td>0</td><td>ExprTuple</td><td>1</td><td><a class=\"ProveItLink\" href=\"expr.ipynb\"><img src=\"data:image/png;base64,iVBORw0KGgoAAAANSUhEUgAAAGsAAAAVBAMAAACzuQ2OAAAAMFBMVEX////c3NwiIiJERESqqqqY\n",
       "mJh2dnZmZmYQEBDu7u4yMjJUVFTMzMyIiIi6uroAAAAs73DqAAAAAXRSTlMAQObYZgAAAaNJREFU\n",
       "OMudVD1PAkEQfYcgHx5IopUWJlpaqAWJsYF/oJWNidJRmRALWkmksUFKY2HOGExolNqLgViZUMAP\n",
       "0HChxAYLNUJEd2fv2I13kuglL7M7M292dmb2gH9+sdZfbLs20BD7ey9aQy53vkxzw0KwDgIqQn3j\n",
       "Raso6yPmPwQMEKIij8BKSXo4y6iSo/7JMAC2QQgJn9nDuPuQkBIq+sJivwGnIHSFttW2pMuzLbtK\n",
       "jhN5wHfMZIqQEyUrbW5Jl0k7uZxCm65Cu2SnT2YJZVKeo0muwUX63oVrWaE1754OeGS/QSiS0sJC\n",
       "VvHxX5MoOnHSQDuO8DLPK08YUplMs7aqVv6Mog2dKlaBdSbb7Di9RyBTjFXNUFj6VeknjdUee+kR\n",
       "rcD1rDq+vHK3JVH5gqTpr0zWUqMkE2yrsW2kp1ytKmRC0njbtD6fC4OQ4TfhffmQtDlbZhxFndr2\n",
       "wMfAbkAHmDm5QCDZl6Vcs2VnpAkmB+Yt9SNiEUJx9wTXneHysNnDFUj//ty8bPs2KmOesNsWNgQw\n",
       "P4bmtk3FBaCN+Sm4bY8C30DScYXE3wTAAAAAAElFTkSuQmCC\n",
       "\" style=\"display:inline;vertical-align:middle;\" /></a></td></tr>\n",
       "<tr><td>1</td><td>Operation</td><td>operator:&nbsp;2<br>operands:&nbsp;3<br></td><td><a class=\"ProveItLink\" href=\"../1a168b2410a985d9dd68a2f0e23bb53d61e193220/expr.ipynb\"><img src=\"data:image/png;base64,iVBORw0KGgoAAAANSUhEUgAAAF0AAAAVBAMAAADWVP/xAAAAMFBMVEX///92dnYQEBBERERUVFS6\n",
       "urqIiIhmZmaqqqrc3Nzu7u6YmJgyMjIiIiLMzMwAAACFkkdwAAAAAXRSTlMAQObYZgAAAWxJREFU\n",
       "KM9jYKAaYE1AF9kKY7zFpv4Jgrnlv4uLTQAD+wMo/zw29aeQ2MoMDOxfGRgOQHjc9xcgpGBMNiTn\n",
       "8H0D4i8MDBsh3Bn1EzCNZUIyg+0n0NCPDAyLINyE/ACEXAiUjkFyDrMCAwOvFpBuAAfEgv4NCDlG\n",
       "qDsKkdTzOzBwHgbax1gA4i1leA9Ww34XDL5D1JxGUv/eLa0WZCQH2MMBDPMLkCQ5joIpVZgBAgwM\n",
       "+RMYuK6AXKIA8ryLi78BckCuUQWRX2Fh48DAYASk84EW8H0AaQKGxQEk5XwHF6CrBwYlw34BqHqg\n",
       "n3kVkNx/GRKQGgj1fL+BtH8DxD2cQJrnA5LzHSC0NUI9KPg5/4AiFuiONaDw/YVQPwdKi8MEHoCD\n",
       "/xEoHoHhOVn/JAO3/R9EAFlC6Vi4CLv9FxcfcPDyBGAmM1gaZJqAKbcIT/LnFsAUE8OXX05hiHAd\n",
       "wKd+CoYIywR86jkx8mMeAwMAbe9eiI+A1Z8AAAAASUVORK5CYII=\n",
       "\" style=\"display:inline;vertical-align:middle;\" /></a></td></tr>\n",
       "<tr><td>2</td><td>Literal</td><td></td><td><a class=\"ProveItLink\" href=\"../e5c030cabcb650938f92dee8256fe11cd12bf9b30/expr.ipynb\"><img src=\"data:image/png;base64,iVBORw0KGgoAAAANSUhEUgAAABMAAAANBAMAAAC5okgUAAAALVBMVEX////c3NxERETMzMwQEBCq\n",
       "qqoiIiJmZmaIiIh2dnZUVFS6uroyMjLu7u4AAACPpZJTAAAAAXRSTlMAQObYZgAAAD1JREFUCNdj\n",
       "YAABXgY44LkAZ3IvQAjPABFlaSCQV4AQjtkAZ/IegbNt5sLUpunC5aPgLMYDcCaTAJzJDCIA2yMN\n",
       "HCCUuIIAAAAASUVORK5CYII=\n",
       "\" style=\"display:inline;vertical-align:middle;\" /></a></td></tr>\n",
       "<tr><td>3</td><td>ExprTuple</td><td>4, 5</td><td><a class=\"ProveItLink\" href=\"../5e68d7c274e461ce273f7542d0fe3ddbf39a254e0/expr.ipynb\"><img src=\"data:image/png;base64,iVBORw0KGgoAAAANSUhEUgAAAEMAAAAVBAMAAADvM06qAAAAMFBMVEX////c3NwiIiJERESqqqqY\n",
       "mJh2dnZmZmYQEBDu7u4yMjJUVFTMzMyIiIi6uroAAAAs73DqAAAAAXRSTlMAQObYZgAAAUpJREFU\n",
       "KM9jYCAC8F3AJxsHIk5D2IfQ5Fj3/969eR0D+wEgeyVEaD26fg4DBob6BwwLGBh4Ifaw6k9AU3Ie\n",
       "KHF+A0MYUDFESqReAE3JfaBAfALDDAaGVxCBC/cfoCmxAGKNCQzMDgxlEG9N8A9AU/KbgUHKkoGB\n",
       "rYBhKZg/D2w1MuD5ffe6KpBmWcDQBxZ4wCBfAJEqUgICNaA3PjIwTNoANL+B4R9Yy+7d+w2QjACG\n",
       "FXMDUNlXoNQHiBI+oM8WoCrhB5rA+g2spAUk5MDAwNSAquQ80PncX8AWmQJFGIFKuD4wMExAUgIK\n",
       "FnmgyawLGNKBIrOAmPknA+cnuHfAwcLTNQHs6UcMDML9CxlY7X8VcPYjQrj4/+7dq0BBxfWAgQMp\n",
       "4PkEMFMDMAJYE5ASAJYEk4tIDDiUcILCQhrBx5L+uEF2M+JNmHcYGADtDFGeUCocqwAAAABJRU5E\n",
       "rkJggg==\n",
       "\" style=\"display:inline;vertical-align:middle;\" /></a></td></tr>\n",
       "<tr><td>4</td><td>Variable</td><td></td><td><a class=\"ProveItLink\" href=\"../../../../../__pv_it/2cbe72a7ad6f655694dd697106680215e8489b600/expr.ipynb\"><img src=\"data:image/png;base64,iVBORw0KGgoAAAANSUhEUgAAAA8AAAAOBAMAAAACpFvcAAAALVBMVEX///8QEBBERERUVFS6urqI\n",
       "iIhmZmaqqqrc3Nzu7u6YmJgyMjIiIiLMzMwAAADtIaYWAAAAAXRSTlMAQObYZgAAAFtJREFUCNdj\n",
       "YACBOwxQsA9Kc52bAGG05zVAGAFxDmCaZULdAjBjCsO9ADDDgaEvAUTzGhvbKYCVMDAwbgAxChgY\n",
       "eASANAeQwf0AyJgNxEwvGRia5HYwcOm9TgAA6BoR3jrzwFcAAAAASUVORK5CYII=\n",
       "\" style=\"display:inline;vertical-align:middle;\" /></a></td></tr>\n",
       "<tr><td>5</td><td>Operation</td><td>operator:&nbsp;6<br>operand:&nbsp;7<br></td><td><a class=\"ProveItLink\" href=\"../1da4e2fe7c44632f084fa27ea32e26dc689384c20/expr.ipynb\"><img src=\"data:image/png;base64,iVBORw0KGgoAAAANSUhEUgAAAB0AAAAOBAMAAAAh/woJAAAAMFBMVEX///+qqqru7u7c3NyIiIgQ\n",
       "EBC6uroyMjJERESYmJhUVFTMzMx2dnYiIiJmZmYAAADtoHoAAAAAAXRSTlMAQObYZgAAAHpJREFU\n",
       "CNdjYIACzvW/Vq0oY0AA1gYGhvcJCP5+ByBegOD7GzAwzD+A4LcC8VUFBP8XA4N5E4LL/cvF7yaQ\n",
       "fnsXCO4wMLB8ZmDQhRm3i4GBIwAo9hPB5wfKcf5B8PdPYGDg+ojgg6y3L4AZDraeOxxh/Yv/q1aV\n",
       "A7UAAFRxJOZ+1MVPAAAAAElFTkSuQmCC\n",
       "\" style=\"display:inline;vertical-align:middle;\" /></a></td></tr>\n",
       "<tr><td>6</td><td>Literal</td><td></td><td><a class=\"ProveItLink\" href=\"../../../negation/__pv_it/7bea79645543c2413aa17e787cca04e21046fde60/expr.ipynb\"><img src=\"data:image/png;base64,iVBORw0KGgoAAAANSUhEUgAAAAwAAAAGBAMAAAAFwGKyAAAAFVBMVEX///9UVFTMzMx2dnYiIiJm\n",
       "ZmYAAACWz4ZEAAAAAXRSTlMAQObYZgAAABRJREFUCNdjCHEBAmcGMFDEQzEBAEl+Ai6uYJv/AAAA\n",
       "AElFTkSuQmCC\n",
       "\" style=\"display:inline;vertical-align:middle;\" /></a></td></tr>\n",
       "<tr><td>7</td><td>Variable</td><td></td><td><a class=\"ProveItLink\" href=\"../../../../../__pv_it/077b2ff79244fb4582cbe22c6e3356fa92a52f2f0/expr.ipynb\"><img src=\"data:image/png;base64,iVBORw0KGgoAAAANSUhEUgAAABAAAAAOBAMAAADUAYG5AAAAMFBMVEX///+qqqru7u4iIiJ2dnbc\n",
       "3NyIiIjMzMxmZmYQEBC6uroyMjJERERUVFSYmJgAAADLUcuvAAAAAXRSTlMAQObYZgAAAGpJREFU\n",
       "CNdjYGB4+//u3dMLGIBgDgMDxy8gzf4NiP8CGWxfGRj4vgAZPBMYGJgnARn8FxhY9ygAGfXX0pof\n",
       "gDTlBzAw2YIYJ0EckBBI53sHoBH/gIz7AhBjWH9DjancBLTl/N+7t/cxMAAA3u4f/5xagjYAAAAA\n",
       "SUVORK5CYII=\n",
       "\" style=\"display:inline;vertical-align:middle;\" /></a></td></tr>\n",
       "</table>\n"
      ],
      "text/plain": [
       "0. (A => [not](B))\n",
       "   core type: ExprTuple\n",
       "   sub-expressions: 1\n",
       "1. A => [not](B)\n",
       "   core type: Operation\n",
       "   operator: 2\n",
       "   operands: 3\n",
       "2. =>\n",
       "   core type: Literal\n",
       "   sub-expressions: \n",
       "3. (A , [not](B))\n",
       "   core type: ExprTuple\n",
       "   sub-expressions: 4, 5\n",
       "4. A\n",
       "   core type: Variable\n",
       "   sub-expressions: \n",
       "5. [not](B)\n",
       "   core type: Operation\n",
       "   operator: 6\n",
       "   operand: 7\n",
       "6. not\n",
       "   core type: Literal\n",
       "   sub-expressions: \n",
       "7. B\n",
       "   core type: Variable\n",
       "   sub-expressions: "
      ]
     },
     "execution_count": 4,
     "metadata": {},
     "output_type": "execute_result"
    }
   ],
   "source": [
    "# display the expression information\n",
    "expr.exprInfo()"
   ]
  },
  {
   "cell_type": "code",
   "execution_count": null,
   "metadata": {},
   "outputs": [],
   "source": []
  }
 ],
 "metadata": {
  "kernelspec": {
   "display_name": "Python 3",
   "language": "python",
   "name": "python3"
  }
 },
 "nbformat": 4,
 "nbformat_minor": 0
}
