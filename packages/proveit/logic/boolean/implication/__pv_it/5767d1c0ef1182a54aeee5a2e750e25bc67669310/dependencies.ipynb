{
 "cells": [
  {
   "cell_type": "markdown",
   "metadata": {},
   "source": [
    "Theorem Dependencies\n",
    "=======================\n",
    "\n",
    "## <a class=\"ProveItLink\" href=\"../../_context_.ipynb\">proveit.logic.boolean.implication</a>.<a class=\"ProveItLink\" href=\"../../_theorems_.ipynb#doubleNegateConsequent\">doubleNegateConsequent</a> \n",
    "***see <a class=\"ProveItLink\" href=\"../../_proofs_/doubleNegateConsequent.ipynb\">proof</a>***"
   ]
  },
  {
   "cell_type": "code",
   "execution_count": 1,
   "metadata": {},
   "outputs": [],
   "source": [
    "from proveit.logic.boolean.implication._theorems_ import doubleNegateConsequent"
   ]
  },
  {
   "cell_type": "code",
   "execution_count": 2,
   "metadata": {},
   "outputs": [
    {
     "data": {
      "text/html": [
       "<h3>Axioms required (directly or indirectly) to prove doubleNegateConsequent</h3>"
      ],
      "text/plain": [
       "<IPython.core.display.HTML object>"
      ]
     },
     "metadata": {},
     "output_type": "display_data"
    },
    {
     "data": {
      "text/html": [
       "<dl>"
      ],
      "text/plain": [
       "<IPython.core.display.HTML object>"
      ]
     },
     "metadata": {},
     "output_type": "display_data"
    },
    {
     "data": {
      "text/html": [
       "<dt><a class=\"ProveItLink\" href=\"../../../negation/_axioms_.ipynb#doubleNegationIntro\">proveit.logic.boolean.negation.doubleNegationIntro</a></dt><dd><a class=\"ProveItLink\" href=\"../../../negation/__pv_it/c783ed2d3615027403f4c746a0eb27b91754b1b10/expr.ipynb\"><img src=\"data:image/png;base64,iVBORw0KGgoAAAANSUhEUgAAAIoAAAAXBAMAAAAmUcrKAAAAMFBMVEX///8QEBC6urrMzMxUVFRm\n",
       "ZmZERETc3NwyMjKqqqp2dnaIiIiYmJgiIiLu7u4AAAAU9Wx4AAAAAXRSTlMAQObYZgAAAd5JREFU\n",
       "OMutlL9LAzEUx1/tT+z1FDcnKzg4KHRwE6lowbEFqYIgdWoRBG8QxUEsLi6iXQQ3u4i4yP0HvVFx\n",
       "sIuLKBZR6CIUheJQiy95qUltuIL4hS/5XC75cnlJDuBfVOk6osfWIcmIksvs4cYtZUKLqCn0PPmC\n",
       "PR+6pRxqEXWEDpE3sQmuuISEbR2y1TxhNYwidwjRX3BJ8VR0iNrOWABmP7dxvrW147agUS2i7BKW\n",
       "FVbJ9Wz23i1lSYu4X5VTB5sz8ixAjnfv08vWqJBF7YGceKCmPEOclemEPAJmnhfrnb8MtEbdRqkd\n",
       "wLo9MhVVBIjCbgqbYXIEwuzL4LXRlmJmHIJ30eGdVhG8iUSSbW2cHHYivPSXd20pvW8p1xRcuScv\n",
       "U8w8P5FeO9uWMhkQh2hQTlUQ8HBE+uWKIDfD3vhguS1l2l8mWJNTFQxiSqiGfCV8zIdfQ0lNMQrh\n",
       "GtFZq9wxFatsaFPuNHjYhpl36fWKkvKWXmgSjcvNlbg5tA/G+ieWbg/IBpvttyAeU1IWwfshjr0l\n",
       "b4DVcSbFDRAaA+hzZEoPckOsrSjvX7Ejpdcmc73UIZh8+Ekx8ShsfDld/gxMVeFfCnT0bGhRaE64\n",
       "a0rQ1qH448TI3VP+It9fJn0DNS92cX4hgpAAAAAASUVORK5CYII=\n",
       "\" style=\"display:inline;vertical-align:middle;\" /></a></dd>"
      ],
      "text/plain": [
       "<IPython.core.display.HTML object>"
      ]
     },
     "metadata": {},
     "output_type": "display_data"
    },
    {
     "data": {
      "text/html": [
       "</dl>"
      ],
      "text/plain": [
       "<IPython.core.display.HTML object>"
      ]
     },
     "metadata": {},
     "output_type": "display_data"
    },
    {
     "data": {
      "text/html": [
       "<h3>No theorems depend upon doubleNegateConsequent</h3>"
      ],
      "text/plain": [
       "<IPython.core.display.HTML object>"
      ]
     },
     "metadata": {},
     "output_type": "display_data"
    }
   ],
   "source": [
    "%dependencies doubleNegateConsequent"
   ]
  }
 ],
 "metadata": {
  "kernelspec": {
   "display_name": "Python 3",
   "language": "python",
   "name": "python3"
  }
 },
 "nbformat": 4,
 "nbformat_minor": 0
}
