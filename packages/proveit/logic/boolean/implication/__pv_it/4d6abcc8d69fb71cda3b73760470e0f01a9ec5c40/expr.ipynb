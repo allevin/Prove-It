{
 "cells": [
  {
   "cell_type": "markdown",
   "metadata": {},
   "source": [
    "Expression of type <a class=\"ProveItLink\" href=\"../../../../../../../doc/html/api/proveit.ExprTuple.html\">ExprTuple</a>\n",
    "=======================\n",
    "# from context <a class=\"ProveItLink\" href=\"../../_context_.ipynb\">proveit.logic.boolean.implication</a>"
   ]
  },
  {
   "cell_type": "code",
   "execution_count": 1,
   "metadata": {},
   "outputs": [],
   "source": [
    "# import Expression classes needed to build the expression\n",
    "from proveit import ExprTuple\n",
    "from proveit.logic import FALSE, Implies\n",
    "from proveit.logic.boolean.negation._theorems_ import notFalse"
   ]
  },
  {
   "cell_type": "code",
   "execution_count": 2,
   "metadata": {},
   "outputs": [
    {
     "data": {
      "text/html": [
       "<strong id=\"expr\">expr:</strong> <a class=\"ProveItLink\" href=\"expr.ipynb\"><img src=\"data:image/png;base64,iVBORw0KGgoAAAANSUhEUgAAAIQAAAAVBAMAAAB1UFtyAAAAMFBMVEX////c3NwiIiJERESqqqqY\n",
       "mJh2dnZmZmYQEBDu7u4yMjJUVFTMzMyIiIi6uroAAAAs73DqAAAAAXRSTlMAQObYZgAAAThJREFU\n",
       "OMtjYKAC4LsAwSiA9QGRusEKT0MxDDCCjavBqoHxAlaFK6EYBngKQCQXViMgcugKeS9AMJoMawJC\n",
       "ZAI+I4AKOYAKOCZgyHA2IERW4jMCqPAVkHqFxbEmCJHX+IwAKiwDkmVYjEhHiLBdwGdEOsNSILkU\n",
       "ixFeIIJdCQy+4zPCi6EPSPbBFCcgZF4gKWZZh8eIFwz/gOQ/mOAGhMx5ZJfN6sNtxHmijOBZNgGf\n",
       "ES1AsgWLES+QwkJ5Al6PmAJJUyxGRCEFxQZUXahOigJHHjwCD2CNVClUizk/oUXqIyD5CK4G5PIm\n",
       "JSUDBoZ1CCMMUeU4+wVQFXIA+SCMBpAT+AH04kEAVSEoPyHnKYwUiaWMQFeIntmhKYGBSCNACqWh\n",
       "GBVsxGPEBXSFoMKHEd3ZvAeILPiACgGOwFsWIONQUAAAAABJRU5ErkJggg==\n",
       "\" style=\"display:inline;vertical-align:middle;\" /></a><br>"
      ],
      "text/plain": [
       "expr: ([not](FALSE) => FALSE , FALSE)"
      ]
     },
     "execution_count": 2,
     "metadata": {},
     "output_type": "execute_result"
    }
   ],
   "source": [
    "# build up the expression from sub-expressions\n",
    "expr = ExprTuple(Implies(notFalse.expr, FALSE), FALSE)"
   ]
  },
  {
   "cell_type": "code",
   "execution_count": 3,
   "metadata": {},
   "outputs": [
    {
     "name": "stdout",
     "output_type": "stream",
     "text": [
      "Passed sanity check: built 'expr' is the same as the stored Expression.\n"
     ]
    }
   ],
   "source": [
    "# check that the built expression is the same as the stored expression\n",
    "%check_expr"
   ]
  },
  {
   "cell_type": "code",
   "execution_count": 4,
   "metadata": {},
   "outputs": [
    {
     "data": {
      "text/html": [
       "<table><tr><th>&nbsp;</th><th>core type</th><th>sub-expressions</th><th>expression</th></tr>\n",
       "<tr><td>0</td><td>ExprTuple</td><td>1, 6</td><td><a class=\"ProveItLink\" href=\"expr.ipynb\"><img src=\"data:image/png;base64,iVBORw0KGgoAAAANSUhEUgAAAIQAAAAVBAMAAAB1UFtyAAAAMFBMVEX////c3NwiIiJERESqqqqY\n",
       "mJh2dnZmZmYQEBDu7u4yMjJUVFTMzMyIiIi6uroAAAAs73DqAAAAAXRSTlMAQObYZgAAAThJREFU\n",
       "OMtjYKAC4LsAwSiA9QGRusEKT0MxDDCCjavBqoHxAlaFK6EYBngKQCQXViMgcugKeS9AMJoMawJC\n",
       "ZAI+I4AKOYAKOCZgyHA2IERW4jMCqPAVkHqFxbEmCJHX+IwAKiwDkmVYjEhHiLBdwGdEOsNSILkU\n",
       "ixFeIIJdCQy+4zPCi6EPSPbBFCcgZF4gKWZZh8eIFwz/gOQ/mOAGhMx5ZJfN6sNtxHmijOBZNgGf\n",
       "ES1AsgWLES+QwkJ5Al6PmAJJUyxGRCEFxQZUXahOigJHHjwCD2CNVClUizk/oUXqIyD5CK4G5PIm\n",
       "JSUDBoZ1CCMMUeU4+wVQFXIA+SCMBpAT+AH04kEAVSEoPyHnKYwUiaWMQFeIntmhKYGBSCNACqWh\n",
       "GBVsxGPEBXSFoMKHEd3ZvAeILPiACgGOwFsWIONQUAAAAABJRU5ErkJggg==\n",
       "\" style=\"display:inline;vertical-align:middle;\" /></a></td></tr>\n",
       "<tr><td>1</td><td>Operation</td><td>operator:&nbsp;2<br>operands:&nbsp;3<br></td><td><a class=\"ProveItLink\" href=\"../9a523330a0373ab001cacf42be23a8f9b213cc3c0/expr.ipynb\"><img src=\"data:image/png;base64,iVBORw0KGgoAAAANSUhEUgAAAFwAAAAVBAMAAAA5lpTPAAAAMFBMVEX////c3NwiIiJERESqqqqY\n",
       "mJh2dnZmZmYQEBDu7u4yMjJUVFTMzMyIiIi6uroAAAAs73DqAAAAAXRSTlMAQObYZgAAAOZJREFU\n",
       "KM9jYCAR8F1AE2B9gE/5aSQ2I1hrDXaFsmByJZIITwGI5MKu/DiI4L2AoZw1ASEyAU05xwQM5ZwN\n",
       "CJGVaMpfMWAoZzBBiLxGU16GRXk6QoTtAqrypViUe4EIdiUw+I6qvA8mkYBQ/gLJBJZ1KMr/wQze\n",
       "gFB+HtnGWX2kKOdZNgFZeQsW5S+Q3K48AcUxpliURyE5fQOqV+GBdgBrQEqhhfsjOBdke5OSkgED\n",
       "wzqEGkMoXaSkpAF0GQOHAEZaQk4EB9BTdwKGcrYLeNL7SgyRWfiyhzSGyEZ8yhnRreY9gFsxAMXs\n",
       "Op09R4MXAAAAAElFTkSuQmCC\n",
       "\" style=\"display:inline;vertical-align:middle;\" /></a></td></tr>\n",
       "<tr><td>2</td><td>Literal</td><td></td><td><a class=\"ProveItLink\" href=\"../e5c030cabcb650938f92dee8256fe11cd12bf9b30/expr.ipynb\"><img src=\"data:image/png;base64,iVBORw0KGgoAAAANSUhEUgAAABMAAAANBAMAAAC5okgUAAAALVBMVEX////c3NxERETMzMwQEBCq\n",
       "qqoiIiJmZmaIiIh2dnZUVFS6uroyMjLu7u4AAACPpZJTAAAAAXRSTlMAQObYZgAAAD1JREFUCNdj\n",
       "YAABXgY44LkAZ3IvQAjPABFlaSCQV4AQjtkAZ/IegbNt5sLUpunC5aPgLMYDcCaTAJzJDCIA2yMN\n",
       "HCCUuIIAAAAASUVORK5CYII=\n",
       "\" style=\"display:inline;vertical-align:middle;\" /></a></td></tr>\n",
       "<tr><td>3</td><td>ExprTuple</td><td>4, 6</td><td><a class=\"ProveItLink\" href=\"../c39c099b4a0a1de6ea43670396045975c69b98860/expr.ipynb\"><img src=\"data:image/png;base64,iVBORw0KGgoAAAANSUhEUgAAAEMAAAAVBAMAAADvM06qAAAAMFBMVEX////c3NwiIiJERESqqqqY\n",
       "mJh2dnZmZmYQEBDu7u4yMjJUVFTMzMyIiIi6uroAAAAs73DqAAAAAXRSTlMAQObYZgAAAMRJREFU\n",
       "KM9jYCAC8F3AJxsHIk4jCTAiK5cFEewHgMRKJFGeAiTOcTC5gIGB9wJ+JWEMDBwT8CuZwcDwigG/\n",
       "EmYHhjICStgKGJYSUMKygKEP6DElEEjAroSvgeEfzIAN2JXwfCBGSQsBJUCLTDGVTEBWwrqAIR2m\n",
       "6QBMCecnNE8/ghsM8liTkpIBZ78AA0ORkpKGkpIyAwPXAwYOAczkgSwEjADWBAwlrMicXLTEgKmE\n",
       "E5gYGKQxlCAnD24B9JSGAe4wMAAAzxEy3wrr3BgAAAAASUVORK5CYII=\n",
       "\" style=\"display:inline;vertical-align:middle;\" /></a></td></tr>\n",
       "<tr><td>4</td><td>Operation</td><td>operator:&nbsp;5<br>operand:&nbsp;6<br></td><td><a class=\"ProveItLink\" href=\"../../../negation/__pv_it/01165fd25131c0df966b8e8c1626e275fd04f3050/expr.ipynb\"><img src=\"data:image/png;base64,iVBORw0KGgoAAAANSUhEUgAAABwAAAAOBAMAAADOPWE3AAAAIVBMVEX///9EREQQEBCIiIjc3NxU\n",
       "VFTMzMx2dnYiIiJmZmYAAADo3DW1AAAAAXRSTlMAQObYZgAAACVJREFUCNdjYIADZwYUkEll7owO\n",
       "IGhHlU2lgMuGbhHQgqaOjkYA4xoNxELsxwMAAAAASUVORK5CYII=\n",
       "\" style=\"display:inline;vertical-align:middle;\" /></a></td></tr>\n",
       "<tr><td>5</td><td>Literal</td><td></td><td><a class=\"ProveItLink\" href=\"../../../negation/__pv_it/7bea79645543c2413aa17e787cca04e21046fde60/expr.ipynb\"><img src=\"data:image/png;base64,iVBORw0KGgoAAAANSUhEUgAAAAwAAAAGBAMAAAAFwGKyAAAAFVBMVEX///9UVFTMzMx2dnYiIiJm\n",
       "ZmYAAACWz4ZEAAAAAXRSTlMAQObYZgAAABRJREFUCNdjCHEBAmcGMFDEQzEBAEl+Ai6uYJv/AAAA\n",
       "AElFTkSuQmCC\n",
       "\" style=\"display:inline;vertical-align:middle;\" /></a></td></tr>\n",
       "<tr><td>6</td><td>Literal</td><td></td><td><a class=\"ProveItLink\" href=\"../../../__pv_it/8f1f7fac882de28c72b62ab80a1700b6d8fd066b0/expr.ipynb\"><img src=\"data:image/png;base64,iVBORw0KGgoAAAANSUhEUgAAAA4AAAAOBAMAAADtZjDiAAAAG1BMVEX///9EREQQEBAiIiJmZmbM\n",
       "zMyIiIjc3NwAAACryk5kAAAAAXRSTlMAQObYZgAAABlJREFUCNdjYGBgKGOAgBBa0s7GxkbGxoYA\n",
       "FMUF2aBfHgoAAAAASUVORK5CYII=\n",
       "\" style=\"display:inline;vertical-align:middle;\" /></a></td></tr>\n",
       "</table>\n"
      ],
      "text/plain": [
       "0. ([not](FALSE) => FALSE , FALSE)\n",
       "   core type: ExprTuple\n",
       "   sub-expressions: 1, 6\n",
       "1. [not](FALSE) => FALSE\n",
       "   core type: Operation\n",
       "   operator: 2\n",
       "   operands: 3\n",
       "2. =>\n",
       "   core type: Literal\n",
       "   sub-expressions: \n",
       "3. ([not](FALSE) , FALSE)\n",
       "   core type: ExprTuple\n",
       "   sub-expressions: 4, 6\n",
       "4. [not](FALSE)\n",
       "   core type: Operation\n",
       "   operator: 5\n",
       "   operand: 6\n",
       "5. not\n",
       "   core type: Literal\n",
       "   sub-expressions: \n",
       "6. FALSE\n",
       "   core type: Literal\n",
       "   sub-expressions: "
      ]
     },
     "execution_count": 4,
     "metadata": {},
     "output_type": "execute_result"
    }
   ],
   "source": [
    "# display the expression information\n",
    "expr.exprInfo()"
   ]
  },
  {
   "cell_type": "code",
   "execution_count": null,
   "metadata": {},
   "outputs": [],
   "source": []
  }
 ],
 "metadata": {
  "kernelspec": {
   "display_name": "Python 3",
   "language": "python",
   "name": "python3"
  }
 },
 "nbformat": 4,
 "nbformat_minor": 0
}
