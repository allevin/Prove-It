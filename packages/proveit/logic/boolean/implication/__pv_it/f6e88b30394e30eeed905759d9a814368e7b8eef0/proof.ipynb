{
 "cells": [
  {
   "cell_type": "markdown",
   "metadata": {},
   "source": [
    "Show the Proof\n",
    "========"
   ]
  },
  {
   "cell_type": "code",
   "execution_count": 1,
   "metadata": {},
   "outputs": [
    {
     "data": {
      "text/html": [
       "<table><tr><th>&nbsp;</th><th>step type</th><th>requirements</th><th>statement</th></tr>\n",
       "<tr><td>0</td><td>assumption</td><td></td><td><span style=\"font-size:20px;\"><a class=\"ProveItLink\" href=\"../8969a97b4ed4358197326a2f2229555a50cfd1960/expr.ipynb\"><img src=\"data:image/png;base64,iVBORw0KGgoAAAANSUhEUgAAAHEAAAAVBAMAAACDNRyvAAAAMFBMVEX////c3NxERESqqqpUVFS6\n",
       "urrMzMwyMjIQEBCIiIh2dnYiIiLu7u5mZmaYmJgAAABXZE4RAAAAAXRSTlMAQObYZgAAAcRJREFU\n",
       "OMtjYGDgu8dAImBbJQCieHaByEh02ad4tTaDSM4PIKYDisQGBgbeBCw6+Py/uDiVAhnXQTyuBiDB\n",
       "fgBZATvIsAJslnEoMDDcD2BgWAHXORNF/vUfIPEKweeBs/InALEDss4eZI2Mth+B5AkkN8BdNB8Y\n",
       "NO8XIOlkRXEaJ+dXIMlkABdghYeCBhDvOICkk3cBss4Y5n8g8QsIkZUwxhcGBnEdBqhOXqB97A+Q\n",
       "NPIEsP0EUsxgd9zeDQL7oaawfZk5dx+I8R5EZACDiiMAqgYUt6wMjH9BVAOSaeYBEH8AA+A0yOns\n",
       "QKNS2oAM/gCoihQQdnH5BDL/A7I7KsAqmICmcYK8wqAOdGVEAppOILsdXWf6GjDFD7SP7xeQwQ0K\n",
       "GBagfzgMEDqZQcEHdy3En7t1oNEJtInlM8yfXMCkxvQAoVMYSNWDUhpSTJkgRad8AQNSrMBjgI2B\n",
       "ByShfwAlVhgLENHJ1n4AWSfrBrgije8CDI/+1wKDLwCuk0kAQl/67+JSDnYeIvU1YiZupNTHhiGJ\n",
       "0PkKU+dKfBkUrJMPM5eBY7AAn05w/uTZCfKeA7ociwC+MqEVktEXAwlJdMlphMohAFU6d7XAJLSJ\n",
       "AAAAAElFTkSuQmCC\n",
       "\" style=\"display:inline;vertical-align:middle;\" /></a> <a class=\"ProveItLink\" href=\"proof.ipynb\" style=\"text-decoration: none\">&#x22A2;&nbsp;</a><a class=\"ProveItLink\" href=\"../a52f2e12941e42e61803c785c696b853841b533c0/expr.ipynb\"><img src=\"data:image/png;base64,iVBORw0KGgoAAAANSUhEUgAAAFwAAAAVBAMAAAA5lpTPAAAAMFBMVEX////c3NwiIiJERESqqqqY\n",
       "mJh2dnZmZmYQEBDu7u4yMjJUVFTMzMyIiIi6uroAAAAs73DqAAAAAXRSTlMAQObYZgAAAV9JREFU\n",
       "KM9jYCAR8F1AE2B9gE/5aRTeISCuwaYs+v/u3VZAg1aiiK4HYi6sxjYzMLD/Y+BFcQur/gQgkYAQ\n",
       "mABj8PwF4t8MHBOQlYvUCzAwcDYgBOB2834EmvON4RWKjRfug/xpghB4DWMwA81g6mQoQwmlCf4B\n",
       "QCodIcIGcyv/BgbGxRMYliIrn8dwHiTtBWKzK4HBd6jU+b13i4BG9cEkQP57wCBfAKReIJnAsg5C\n",
       "3xdg4NRmYPgH8/kGIN69e78ByCRkG2f1gSkLkJYAFOV8DAwcC9CU8yyDBN1vII5PYGhBUu4A9HwD\n",
       "zDFQtytDVPN8BRL7HRhMEcoZgcq5PgDZUUhO34AIdsZfSIF2gGEWKHh/ogakFFKwnwDG2SO4jHD/\n",
       "QgZW+1/AoFmHUG4Iodjtf+/eBQpzDgGMxIScCA6gp+4EDOVsF/Ck95UYIrPwZQ9pDJGN+JQzolvN\n",
       "ewC3YgDGg1kRpbQOUwAAAABJRU5ErkJggg==\n",
       "\" style=\"display:inline;vertical-align:middle;\" /></a></span></td></tr>\n",
       "</table>"
      ],
      "text/plain": [
       "<proveit._core_.proof._ShowProof at 0x7f94ea9851d0>"
      ]
     },
     "execution_count": 1,
     "metadata": {},
     "output_type": "execute_result"
    }
   ],
   "source": [
    "import proveit\n",
    "%show_proof"
   ]
  },
  {
   "cell_type": "code",
   "execution_count": null,
   "metadata": {},
   "outputs": [],
   "source": []
  }
 ],
 "metadata": {
  "kernelspec": {
   "display_name": "Python 3",
   "language": "python",
   "name": "python3"
  }
 },
 "nbformat": 4,
 "nbformat_minor": 0
}
