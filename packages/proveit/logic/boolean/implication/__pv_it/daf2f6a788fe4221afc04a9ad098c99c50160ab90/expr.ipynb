{
 "cells": [
  {
   "cell_type": "markdown",
   "metadata": {},
   "source": [
    "Expression of type <a class=\"ProveItLink\" href=\"../../../../../../../doc/html/api/proveit.ExprTuple.html\">ExprTuple</a>\n",
    "=======================\n",
    "# from context <a class=\"ProveItLink\" href=\"../../_context_.ipynb\">proveit.logic.boolean.implication</a>"
   ]
  },
  {
   "cell_type": "code",
   "execution_count": 1,
   "metadata": {},
   "outputs": [],
   "source": [
    "# import Expression classes needed to build the expression\n",
    "from proveit import ExprTuple\n",
    "from proveit._common_ import A, B, C\n",
    "from proveit.logic import Implies"
   ]
  },
  {
   "cell_type": "code",
   "execution_count": 2,
   "metadata": {},
   "outputs": [
    {
     "data": {
      "text/html": [
       "<strong id=\"expr\">expr:</strong> <a class=\"ProveItLink\" href=\"expr.ipynb\"><img src=\"data:image/png;base64,iVBORw0KGgoAAAANSUhEUgAAALAAAAAVBAMAAAAUSHkwAAAAMFBMVEX////c3NwiIiJERESqqqqY\n",
       "mJh2dnZmZmYQEBDu7u4yMjJUVFTMzMyIiIi6uroAAAAs73DqAAAAAXRSTlMAQObYZgAAAkBJREFU\n",
       "OMtjYKAZ4LtAfTNZHwCJ0xD2IWwKov/v3m31ABsHGXBe3l7KWADngkyqAeKVEO56rFY3MzCw/8PK\n",
       "QQIZAQx8FQFwLsgkLgYGXkhIsOpPQKiEM3n+AvFvbBygO2GMWZpAIl8AHgwgk1gTGDggpojUCyAM\n",
       "Xglj8H4EqvmGjQN0FMz6FSDGC7g42CTOBoZXEO6F+0ih9xrGYG5gYGDqxMYBRvoGCM3+BUSKw8Uh\n",
       "JpkwlEFUTfBHBBIDGyyh8G9gYFw8ARsHCHIhlPwCEDkHbh/EpHSGpWDuPIbzYMPYlcDgO1TV+b13\n",
       "i+AWIjhFYEX6kIRQH4ASk1CTvBj6wNwHDPIFSLIs6yD0fQEGTm2YIAoHBLzAoacvgGIw1KQXDOD0\n",
       "w7N7934DZOlZEPssQObBXITCAaeLFSCT/6MkJJhJ5yEG8zEwcCxA0sKzDKIQlLjiE6CCKBwQOJUJ\n",
       "IvvBXjwAC2KoSecZWkBcB2B8NyCFsTLEXJ6vQGK/AwM6BxLGSpZg8f0gtewwy2AmvWAwBZKMQC7X\n",
       "B6Qg3oBIuYy/oHkBxoEDb2icguIqExoYcJOigOkCGKKgVPoToUUKKeWeAOaW+QpIHBhghIYdKzAd\n",
       "PwfG6ycGZJPSGR4xMAj3L2Rgtf+FSBaG0KRv/3v3LlBynPERiQPPPLDUcHp1OdCdnP0CyCatY+AQ\n",
       "wCxVDqALPMRS9PCgF7/IBgGzNGsCEeVrADFlMDIHlHdX0sJgUFhLE9bDS0ytgVIRbQTFLg2qJt4D\n",
       "DACCpqvClQQK2QAAAABJRU5ErkJggg==\n",
       "\" style=\"display:inline;vertical-align:middle;\" /></a><br>"
      ],
      "text/plain": [
       "expr: (A => B , B => C , A)"
      ]
     },
     "execution_count": 2,
     "metadata": {},
     "output_type": "execute_result"
    }
   ],
   "source": [
    "# build up the expression from sub-expressions\n",
    "expr = ExprTuple(Implies(A, B), Implies(B, C), A)"
   ]
  },
  {
   "cell_type": "code",
   "execution_count": 3,
   "metadata": {},
   "outputs": [
    {
     "name": "stdout",
     "output_type": "stream",
     "text": [
      "Passed sanity check: built 'expr' is the same as the stored Expression.\n"
     ]
    }
   ],
   "source": [
    "# check that the built expression is the same as the stored expression\n",
    "%check_expr"
   ]
  },
  {
   "cell_type": "code",
   "execution_count": 4,
   "metadata": {},
   "outputs": [
    {
     "data": {
      "text/html": [
       "<table><tr><th>&nbsp;</th><th>core type</th><th>sub-expressions</th><th>expression</th></tr>\n",
       "<tr><td>0</td><td>ExprTuple</td><td>1, 2, 6</td><td><a class=\"ProveItLink\" href=\"expr.ipynb\"><img src=\"data:image/png;base64,iVBORw0KGgoAAAANSUhEUgAAALAAAAAVBAMAAAAUSHkwAAAAMFBMVEX////c3NwiIiJERESqqqqY\n",
       "mJh2dnZmZmYQEBDu7u4yMjJUVFTMzMyIiIi6uroAAAAs73DqAAAAAXRSTlMAQObYZgAAAkBJREFU\n",
       "OMtjYKAZ4LtAfTNZHwCJ0xD2IWwKov/v3m31ABsHGXBe3l7KWADngkyqAeKVEO56rFY3MzCw/8PK\n",
       "QQIZAQx8FQFwLsgkLgYGXkhIsOpPQKiEM3n+AvFvbBygO2GMWZpAIl8AHgwgk1gTGDggpojUCyAM\n",
       "Xglj8H4EqvmGjQN0FMz6FSDGC7g42CTOBoZXEO6F+0ih9xrGYG5gYGDqxMYBRvoGCM3+BUSKw8Uh\n",
       "JpkwlEFUTfBHBBIDGyyh8G9gYFw8ARsHCHIhlPwCEDkHbh/EpHSGpWDuPIbzYMPYlcDgO1TV+b13\n",
       "i+AWIjhFYEX6kIRQH4ASk1CTvBj6wNwHDPIFSLIs6yD0fQEGTm2YIAoHBLzAoacvgGIw1KQXDOD0\n",
       "w7N7934DZOlZEPssQObBXITCAaeLFSCT/6MkJJhJ5yEG8zEwcCxA0sKzDKIQlLjiE6CCKBwQOJUJ\n",
       "IvvBXjwAC2KoSecZWkBcB2B8NyCFsTLEXJ6vQGK/AwM6BxLGSpZg8f0gtewwy2AmvWAwBZKMQC7X\n",
       "B6Qg3oBIuYy/oHkBxoEDb2icguIqExoYcJOigOkCGKKgVPoToUUKKeWeAOaW+QpIHBhghIYdKzAd\n",
       "PwfG6ycGZJPSGR4xMAj3L2Rgtf+FSBaG0KRv/3v3LlBynPERiQPPPLDUcHp1OdCdnP0CyCatY+AQ\n",
       "wCxVDqALPMRS9PCgF7/IBgGzNGsCEeVrADFlMDIHlHdX0sJgUFhLE9bDS0ytgVIRbQTFLg2qJt4D\n",
       "DACCpqvClQQK2QAAAABJRU5ErkJggg==\n",
       "\" style=\"display:inline;vertical-align:middle;\" /></a></td></tr>\n",
       "<tr><td>1</td><td>Operation</td><td>operator:&nbsp;4<br>operands:&nbsp;3<br></td><td><a class=\"ProveItLink\" href=\"../48bda0a4ca92dc8bbf3ec9809bdb1d7b90d71c610/expr.ipynb\"><img src=\"data:image/png;base64,iVBORw0KGgoAAAANSUhEUgAAAEAAAAAPBAMAAACmSdRUAAAAMFBMVEX///92dnYQEBBERERUVFS6\n",
       "urqIiIhmZmaqqqrc3Nzu7u6YmJgyMjIiIiLMzMwAAACFkkdwAAAAAXRSTlMAQObYZgAAAOhJREFU\n",
       "GNNjYACBtwxYwJb/Li42ARD2eWwKGJQZGNi/glnc9xcghOFMvm9A/AXMnFE/AaHgFIzB9hOo9SOY\n",
       "mZAfgFAQAmMwKzAw8GqBWKwL+jcgFDAmQBn8Dgych8EWLmV4DxZkvwsG36EK3rul1UI0BjDML0By\n",
       "PMdRCJ0/gYHrCti1Li7+BsjeW6MKpoxAikBGsDIwMB1Akuc7CPEpyIf7BYBEA9CxCkhuuAyR5/sN\n",
       "JPyBkpxAzPMByQkOiGDg/AOyEeTlXwgFc5CC4REw1Cbrn2Tgtv+D8IYlhGK3/+LicxpbFD1A5QIA\n",
       "YgVCLvPPxacAAAAASUVORK5CYII=\n",
       "\" style=\"display:inline;vertical-align:middle;\" /></a></td></tr>\n",
       "<tr><td>2</td><td>Operation</td><td>operator:&nbsp;4<br>operands:&nbsp;5<br></td><td><a class=\"ProveItLink\" href=\"../b28def066691faa1a2b9bd3088e0c4e44c7fe0ff0/expr.ipynb\"><img src=\"data:image/png;base64,iVBORw0KGgoAAAANSUhEUgAAAEEAAAAPBAMAAABJi79qAAAAMFBMVEX///+qqqru7u4iIiJ2dnbc\n",
       "3NyIiIjMzMxmZmYQEBC6uroyMjJERERUVFSYmJgAAADLUcuvAAAAAXRSTlMAQObYZgAAAPhJREFU\n",
       "GNNjYGB4+//u3dMLGDABU86NPtYGEGsOAwPHLywqPB8wcHU+ADLYvwHxX4ROGEPbCEj4BwAJtq8M\n",
       "DHxf4Cq4FaCMnSDGShCLZwIDA/MkuAquCxCa4yOIjAAR/BcYWPcoIKx3g1DxG0CkOoiov5bW/AAs\n",
       "2GwMAvZg5zP0P4DryQ9gYLJF9oM02Ov2AXCBkyBVD5DDYSdIyX8wG2w7yKPvHZBUVDuByPkggrEA\n",
       "FBz/gMR9AYQ7jA+B1d0HaedggAYH628kI2QhVH0CkHCCBUflJoQC1g0Qmg8YHitAruU4//fu7X1I\n",
       "RvDA/FC7t0OAARtgR+MDAAhbPiSyASIoAAAAAElFTkSuQmCC\n",
       "\" style=\"display:inline;vertical-align:middle;\" /></a></td></tr>\n",
       "<tr><td>3</td><td>ExprTuple</td><td>6, 7</td><td><a class=\"ProveItLink\" href=\"../caee09fb4b5c95b986a9cee46a014afbad9bdc680/expr.ipynb\"><img src=\"data:image/png;base64,iVBORw0KGgoAAAANSUhEUgAAADUAAAAVBAMAAAAUZLt1AAAAMFBMVEX////c3NwiIiJERESqqqqY\n",
       "mJh2dnZmZmYQEBDu7u4yMjJUVFTMzMyIiIi6uroAAAAs73DqAAAAAXRSTlMAQObYZgAAATZJREFU\n",
       "KM9jYMAH+C5gFY4DEach7EMwQdb9v3dvXsfAfgDIXgkRWg/XwWHAwFD/gGEBAwMvxEhW/QkwufNA\n",
       "kfMbGMKAqiBiIvUCMLn7QFZ8AsMMBoZXEIEL9x/A5CyAWGMCA7MDQxnEsRP8A2ByvxkYpCwZGNgK\n",
       "GJaC+fPAtoABz++711WBNMsChj6wwAMG+QKoHO9HBoZJG4BGNTD8A6vdvXu/AVSOuQEo/xUo9gEi\n",
       "xwd07wKoHD9QD+s3sFwLiO/AwMDUAPMe0FHcX8BmmgK5jEA5rg8MDBNg3pMHGsK6gCEdyJ0FsuYn\n",
       "A+cnqPd4uiaA/fCIgUG4fyEDq/2vAs5+oJbi/7t3rwL5lesBA4cAUnQhsUFhxpqA4LIiR2AuIo7Q\n",
       "5ThBfpJG8JFTADfIfEbsaeIOAwMABOxNRsfkiy0AAAAASUVORK5CYII=\n",
       "\" style=\"display:inline;vertical-align:middle;\" /></a></td></tr>\n",
       "<tr><td>4</td><td>Literal</td><td></td><td><a class=\"ProveItLink\" href=\"../e5c030cabcb650938f92dee8256fe11cd12bf9b30/expr.ipynb\"><img src=\"data:image/png;base64,iVBORw0KGgoAAAANSUhEUgAAABMAAAANBAMAAAC5okgUAAAALVBMVEX////c3NxERETMzMwQEBCq\n",
       "qqoiIiJmZmaIiIh2dnZUVFS6uroyMjLu7u4AAACPpZJTAAAAAXRSTlMAQObYZgAAAD1JREFUCNdj\n",
       "YAABXgY44LkAZ3IvQAjPABFlaSCQV4AQjtkAZ/IegbNt5sLUpunC5aPgLMYDcCaTAJzJDCIA2yMN\n",
       "HCCUuIIAAAAASUVORK5CYII=\n",
       "\" style=\"display:inline;vertical-align:middle;\" /></a></td></tr>\n",
       "<tr><td>5</td><td>ExprTuple</td><td>7, 8</td><td><a class=\"ProveItLink\" href=\"../dad23c4ce051fb8a92f116e8b4d54eeb5e4476f70/expr.ipynb\"><img src=\"data:image/png;base64,iVBORw0KGgoAAAANSUhEUgAAADcAAAAVBAMAAAAQkWtIAAAAMFBMVEX////c3NwiIiJERESqqqqY\n",
       "mJh2dnZmZmYQEBDu7u4yMjJUVFTMzMyIiIi6uroAAAAs73DqAAAAAXRSTlMAQObYZgAAAUFJREFU\n",
       "KM9jYMAL+C5gF48DEaeBmHX/792b18GEOS9vL2UsYD8AZK4E8TkMGBjqH0AlMwIY+CoCGBYwMPCC\n",
       "TT0PJM9vgMjN0gQS+QIMYUA9E0AC9wUYGOITIJIrQCIvGBhmMDC8AgtYALEGWBkD+xcQKc7AwOzA\n",
       "UAYW+c3AIGUJ0Si/AETOYWBgK2BYCmLy/L57XRXqnPoAKINlAUMfiOb9yMAwCeoefQFYADQw/APR\n",
       "zA1ABV8hYv/BJNB+ng8QSX6gLtZvEMl+sJEHwJItYG8C7eH+ApHcD3I0O8RYU5g3ga7khIUHQyYo\n",
       "TBcwpEO9ydM1gWG+AkgMaMJzkKOAXnkEpIr/7969CmjyjI/gmFhd7gCiuR4wcAggRdND5DgDBh9r\n",
       "AhI/AFkyFxZlWCQ5QcEojeDzImvkBtnHiCOZ3GFgAADrEU9ADAe1sgAAAABJRU5ErkJggg==\n",
       "\" style=\"display:inline;vertical-align:middle;\" /></a></td></tr>\n",
       "<tr><td>6</td><td>Variable</td><td></td><td><a class=\"ProveItLink\" href=\"../../../../../__pv_it/2cbe72a7ad6f655694dd697106680215e8489b600/expr.ipynb\"><img src=\"data:image/png;base64,iVBORw0KGgoAAAANSUhEUgAAAA8AAAAOBAMAAAACpFvcAAAALVBMVEX///8QEBBERERUVFS6urqI\n",
       "iIhmZmaqqqrc3Nzu7u6YmJgyMjIiIiLMzMwAAADtIaYWAAAAAXRSTlMAQObYZgAAAFtJREFUCNdj\n",
       "YACBOwxQsA9Kc52bAGG05zVAGAFxDmCaZULdAjBjCsO9ADDDgaEvAUTzGhvbKYCVMDAwbgAxChgY\n",
       "eASANAeQwf0AyJgNxEwvGRia5HYwcOm9TgAA6BoR3jrzwFcAAAAASUVORK5CYII=\n",
       "\" style=\"display:inline;vertical-align:middle;\" /></a></td></tr>\n",
       "<tr><td>7</td><td>Variable</td><td></td><td><a class=\"ProveItLink\" href=\"../../../../../__pv_it/077b2ff79244fb4582cbe22c6e3356fa92a52f2f0/expr.ipynb\"><img src=\"data:image/png;base64,iVBORw0KGgoAAAANSUhEUgAAABAAAAAOBAMAAADUAYG5AAAAMFBMVEX///+qqqru7u4iIiJ2dnbc\n",
       "3NyIiIjMzMxmZmYQEBC6uroyMjJERERUVFSYmJgAAADLUcuvAAAAAXRSTlMAQObYZgAAAGpJREFU\n",
       "CNdjYGB4+//u3dMLGIBgDgMDxy8gzf4NiP8CGWxfGRj4vgAZPBMYGJgnARn8FxhY9ygAGfXX0pof\n",
       "gDTlBzAw2YIYJ0EckBBI53sHoBH/gIz7AhBjWH9DjancBLTl/N+7t/cxMAAA3u4f/5xagjYAAAAA\n",
       "SUVORK5CYII=\n",
       "\" style=\"display:inline;vertical-align:middle;\" /></a></td></tr>\n",
       "<tr><td>8</td><td>Variable</td><td></td><td><a class=\"ProveItLink\" href=\"../../../../../__pv_it/985a1bdf1540838275dec15f4ad6de261cca93ce0/expr.ipynb\"><img src=\"data:image/png;base64,iVBORw0KGgoAAAANSUhEUgAAAA8AAAAOBAMAAAACpFvcAAAAMFBMVEX////MzMyqqqoiIiIyMjK6\n",
       "uroQEBB2dnbc3NyYmJhmZmZUVFRERESIiIju7u4AAAB204erAAAAAXRSTlMAQObYZgAAAGZJREFU\n",
       "CNdjYGDgu7NrJccCBgaGsgkMrMsmMDA8sQNy6hsYGNweABlhDAxcn4A0QxcDQ78DiPGQgWH9BAYI\n",
       "sG+AMv6DSaCGfBDNJMDAsB+kmwuI5S8AiTog5gSaEwXWIO29SgFIAQBC+RaDQlidVgAAAABJRU5E\n",
       "rkJggg==\n",
       "\" style=\"display:inline;vertical-align:middle;\" /></a></td></tr>\n",
       "</table>\n"
      ],
      "text/plain": [
       "0. (A => B , B => C , A)\n",
       "   core type: ExprTuple\n",
       "   sub-expressions: 1, 2, 6\n",
       "1. A => B\n",
       "   core type: Operation\n",
       "   operator: 4\n",
       "   operands: 3\n",
       "2. B => C\n",
       "   core type: Operation\n",
       "   operator: 4\n",
       "   operands: 5\n",
       "3. (A , B)\n",
       "   core type: ExprTuple\n",
       "   sub-expressions: 6, 7\n",
       "4. =>\n",
       "   core type: Literal\n",
       "   sub-expressions: \n",
       "5. (B , C)\n",
       "   core type: ExprTuple\n",
       "   sub-expressions: 7, 8\n",
       "6. A\n",
       "   core type: Variable\n",
       "   sub-expressions: \n",
       "7. B\n",
       "   core type: Variable\n",
       "   sub-expressions: \n",
       "8. C\n",
       "   core type: Variable\n",
       "   sub-expressions: "
      ]
     },
     "execution_count": 4,
     "metadata": {},
     "output_type": "execute_result"
    }
   ],
   "source": [
    "# display the expression information\n",
    "expr.exprInfo()"
   ]
  },
  {
   "cell_type": "code",
   "execution_count": null,
   "metadata": {},
   "outputs": [],
   "source": []
  }
 ],
 "metadata": {
  "kernelspec": {
   "display_name": "Python 3",
   "language": "python",
   "name": "python3"
  }
 },
 "nbformat": 4,
 "nbformat_minor": 0
}
