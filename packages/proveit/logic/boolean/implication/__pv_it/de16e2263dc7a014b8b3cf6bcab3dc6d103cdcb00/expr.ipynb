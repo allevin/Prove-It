{
 "cells": [
  {
   "cell_type": "markdown",
   "metadata": {},
   "source": [
    "Expression of type <a class=\"ProveItLink\" href=\"../../../../../../../doc/html/api/proveit.logic.And.html\">And</a>\n",
    "=======================\n",
    "# from context <a class=\"ProveItLink\" href=\"../../_context_.ipynb\">proveit.logic.boolean.implication</a>"
   ]
  },
  {
   "cell_type": "code",
   "execution_count": 1,
   "metadata": {},
   "outputs": [],
   "source": [
    "# import Expression classes needed to build the expression\n",
    "from proveit import Variable\n",
    "from proveit.logic import And, FALSE, Implies, TRUE"
   ]
  },
  {
   "cell_type": "code",
   "execution_count": 2,
   "metadata": {},
   "outputs": [
    {
     "data": {
      "text/html": [
       "<strong id=\"expr\">expr:</strong> <a class=\"ProveItLink\" href=\"../118b2d7bfdb5c10ad8ad837ac93a5916bff43d7a0/expr.ipynb\"><img src=\"data:image/png;base64,iVBORw0KGgoAAAANSUhEUgAAAIwAAAAVBAMAAABmhxuGAAAAMFBMVEX///+6uroyMjLMzMwQEBAi\n",
       "IiKYmJhmZmZUVFSIiIh2dnbc3Nzu7u5ERESqqqoAAABZrPngAAAAAXRSTlMAQObYZgAAAWBJREFU\n",
       "OMtjYKATYJxASAWbABHGWDCwh4LBBSyS3GA7inHr5j4AZeiACOYC7Kog4ky4jWGCauScgGnMATRj\n",
       "2BbgNMY2BkKzHMA0RgfNGB4HnMY0zoTQQgyYxkigGcNwDx4UK7tfViKp5FFghTCqsBjDNQHNmOUw\n",
       "/imG1ARXZJUJ7A/ADDUUY6CR9h3NmEcw/gKG+QyPkYxhZeBWADMcsbiGgU8R1RgRROD3oijMZGBo\n",
       "BjM+YjOG4ZAjijH2CBlPFHUxoHSH0xhmrQM4jOH+zMCD5GqgNNMGEMsPW9jEHsDhqWzODwxzkBLf\n",
       "BohRDAzXsLiGrwEtiJNgEt94HbiR8qAtiAhAxCWqMZsYMCL87V0gOMBzc82qaQxQDijxgSTBCVAU\n",
       "ohwlud9G+NAVnGUVcaRhcNZnBGeGDZiyBmh8PJkBXpgsIFyWcE0grEaHsJJDRBRbOwgr6SbCGG6C\n",
       "LuY0YAAA+1dUN+CM9uUAAAAASUVORK5CYII=\n",
       "\" style=\"display:inline;vertical-align:middle;\" /></a><br>"
      ],
      "text/plain": [
       "expr: _x_ and (TRUE => FALSE)"
      ]
     },
     "execution_count": 2,
     "metadata": {},
     "output_type": "execute_result"
    }
   ],
   "source": [
    "# build up the expression from sub-expressions\n",
    "expr = And(Variable(\"_x_\", latexFormat = r\"{_{-}x_{-}}\"), Implies(TRUE, FALSE))"
   ]
  },
  {
   "cell_type": "code",
   "execution_count": 3,
   "metadata": {},
   "outputs": [
    {
     "name": "stdout",
     "output_type": "stream",
     "text": [
      "Passed sanity check: built 'expr' is the same as the stored Expression.\n"
     ]
    }
   ],
   "source": [
    "# check that the built expression is the same as the stored expression\n",
    "%check_expr"
   ]
  },
  {
   "cell_type": "code",
   "execution_count": 4,
   "metadata": {},
   "outputs": [
    {
     "data": {
      "text/html": [
       "<table><tr><th>&nbsp;</th><th>core type</th><th>sub-expressions</th><th>expression</th></tr>\n",
       "<tr><td>0</td><td>Operation</td><td>operator:&nbsp;1<br>operands:&nbsp;2<br></td><td><a class=\"ProveItLink\" href=\"../118b2d7bfdb5c10ad8ad837ac93a5916bff43d7a0/expr.ipynb\"><img src=\"data:image/png;base64,iVBORw0KGgoAAAANSUhEUgAAAIwAAAAVBAMAAABmhxuGAAAAMFBMVEX///+6uroyMjLMzMwQEBAi\n",
       "IiKYmJhmZmZUVFSIiIh2dnbc3Nzu7u5ERESqqqoAAABZrPngAAAAAXRSTlMAQObYZgAAAWBJREFU\n",
       "OMtjYKATYJxASAWbABHGWDCwh4LBBSyS3GA7inHr5j4AZeiACOYC7Kog4ky4jWGCauScgGnMATRj\n",
       "2BbgNMY2BkKzHMA0RgfNGB4HnMY0zoTQQgyYxkigGcNwDx4UK7tfViKp5FFghTCqsBjDNQHNmOUw\n",
       "/imG1ARXZJUJ7A/ADDUUY6CR9h3NmEcw/gKG+QyPkYxhZeBWADMcsbiGgU8R1RgRROD3oijMZGBo\n",
       "BjM+YjOG4ZAjijH2CBlPFHUxoHSH0xhmrQM4jOH+zMCD5GqgNNMGEMsPW9jEHsDhqWzODwxzkBLf\n",
       "BohRDAzXsLiGrwEtiJNgEt94HbiR8qAtiAhAxCWqMZsYMCL87V0gOMBzc82qaQxQDijxgSTBCVAU\n",
       "ohwlud9G+NAVnGUVcaRhcNZnBGeGDZiyBmh8PJkBXpgsIFyWcE0grEaHsJJDRBRbOwgr6SbCGG6C\n",
       "LuY0YAAA+1dUN+CM9uUAAAAASUVORK5CYII=\n",
       "\" style=\"display:inline;vertical-align:middle;\" /></a></td></tr>\n",
       "<tr><td>1</td><td>Literal</td><td></td><td><a class=\"ProveItLink\" href=\"../../../conjunction/__pv_it/76b5f4f4c45c0b6a9b59b297fc07dfa9555698f50/expr.ipynb\"><img src=\"data:image/png;base64,iVBORw0KGgoAAAANSUhEUgAAAAwAAAAOBAMAAADpk+DfAAAALVBMVEX///+qqqqYmJh2dnaIiIi6\n",
       "urpUVFQiIiJERETMzMxmZmYyMjLu7u7c3NwAAABvwqPxAAAAAXRSTlMAQObYZgAAAEtJREFUCNdj\n",
       "YGDgPcAAAtwLwNSMGjCV6gIieTawgyhmBS4BIMXOwLsBSKkwMGQCKaC6aQwMjEBd3BdACMScAVJd\n",
       "wJAKolwYAkAUKwAk0guX6efcigAAAABJRU5ErkJggg==\n",
       "\" style=\"display:inline;vertical-align:middle;\" /></a></td></tr>\n",
       "<tr><td>2</td><td>ExprTuple</td><td>3, 4</td><td><a class=\"ProveItLink\" href=\"../a3fe4d949b932a20d4b778b46af142c2c70b02980/expr.ipynb\"><img src=\"data:image/png;base64,iVBORw0KGgoAAAANSUhEUgAAAH0AAAAVBAMAAACZCfwhAAAAMFBMVEX////c3NwiIiJERESqqqqY\n",
       "mJh2dnZmZmYQEBDu7u4yMjJUVFTMzMyIiIi6uroAAAAs73DqAAAAAXRSTlMAQObYZgAAASpJREFU\n",
       "OMtjYKAU8F0gW2sciDiNW75ICQSUsUnJggj2A0BiJV4rjuMVX8DAwHuBeP2c6OJhDAwcE4jXzzUB\n",
       "TXwGA8MrBuL1821AE2d2YChDSIvdFrl+Aa//c9HE2QoYliJ8l8CqyqGAQz8kKvQLUMVZFjD0wZWy\n",
       "MfB+YDmAP/y9HqCI8zUw/EMKXW4DQvHHueIBsjjPByT9wLi4QEj/qUwGNP0tSLLyBxgm4PW/kiUD\n",
       "uvtN4UpZBe4z8ML1T8BmvzeauawLGNLhQv4BFpBkDfboJyz6GRdgxt8jYCwYA4Elw+Rr03IDYBzO\n",
       "fgGwimPI+pkF4J7RAOcrrgcMHAI4sjUWcR50AWD6ZU3Arp+VmAIgF3f+JUY/Jyg8pLHLEVMqcYP8\n",
       "yEh++XWHgQEAgb1KeMFWUN4AAAAASUVORK5CYII=\n",
       "\" style=\"display:inline;vertical-align:middle;\" /></a></td></tr>\n",
       "<tr><td>3</td><td>Variable</td><td></td><td><a class=\"ProveItLink\" href=\"../../../../__pv_it/5144cf74ae6a683b49b974f1b9302b432abf7e930/expr.ipynb\"><img src=\"data:image/png;base64,iVBORw0KGgoAAAANSUhEUgAAACUAAAAJBAMAAABH3vh9AAAAKlBMVEX////MzMwQEBAiIiKYmJhm\n",
       "ZmZUVFSIiIh2dnbc3Nzu7u5ERESqqqoAAABwkVEpAAAAAXRSTlMAQObYZgAAAEtJREFUCNdjYIAA\n",
       "zvbM4+EMqGAFg7ODMppYA0Mtw0E0sQUM2QyYQB1TiPMiAxeakCf7BYYqVCGeK9wKnAUw3undQLCA\n",
       "a3tXRwmMAwC3+RVNp6j0GAAAAABJRU5ErkJggg==\n",
       "\" style=\"display:inline;vertical-align:middle;\" /></a></td></tr>\n",
       "<tr><td>4</td><td>Operation</td><td>operator:&nbsp;5<br>operands:&nbsp;6<br></td><td><a class=\"ProveItLink\" href=\"../c65898187aa5a4404b8e436d28e20f1178f211670/expr.ipynb\"><img src=\"data:image/png;base64,iVBORw0KGgoAAAANSUhEUgAAAD8AAAAPBAMAAAChCwpBAAAALVBMVEX////c3NwQEBCqqqqIiIhU\n",
       "VFS6uroyMjLu7u52dnbMzMxEREQiIiJmZmYAAACG8MiSAAAAAXRSTlMAQObYZgAAAGJJREFUGNNj\n",
       "uHMGBE4zYAGMDlDGWgbsgOsCNgUchBSwNxBQwBZAQAHDFNwKIB46d4GACQzmCQQUcBQl4FewfAZ+\n",
       "N5zZQcANpgS8yViAqWAlsgJuAQjNC7RM58yZDZgxhMYHACe9L414BCJLAAAAAElFTkSuQmCC\n",
       "\" style=\"display:inline;vertical-align:middle;\" /></a></td></tr>\n",
       "<tr><td>5</td><td>Literal</td><td></td><td><a class=\"ProveItLink\" href=\"../e5c030cabcb650938f92dee8256fe11cd12bf9b30/expr.ipynb\"><img src=\"data:image/png;base64,iVBORw0KGgoAAAANSUhEUgAAABMAAAANBAMAAAC5okgUAAAALVBMVEX////c3NxERETMzMwQEBCq\n",
       "qqoiIiJmZmaIiIh2dnZUVFS6uroyMjLu7u4AAACPpZJTAAAAAXRSTlMAQObYZgAAAD1JREFUCNdj\n",
       "YAABXgY44LkAZ3IvQAjPABFlaSCQV4AQjtkAZ/IegbNt5sLUpunC5aPgLMYDcCaTAJzJDCIA2yMN\n",
       "HCCUuIIAAAAASUVORK5CYII=\n",
       "\" style=\"display:inline;vertical-align:middle;\" /></a></td></tr>\n",
       "<tr><td>6</td><td>ExprTuple</td><td>7, 8</td><td><a class=\"ProveItLink\" href=\"../0f60990fe1c69084ca218cead46950bf14732b6a0/expr.ipynb\"><img src=\"data:image/png;base64,iVBORw0KGgoAAAANSUhEUgAAADUAAAAVBAMAAAAUZLt1AAAAMFBMVEX////c3NwiIiJERESqqqqY\n",
       "mJh2dnZmZmYQEBDu7u4yMjJUVFTMzMyIiIi6uroAAAAs73DqAAAAAXRSTlMAQObYZgAAALFJREFU\n",
       "KM9jYMAH+C5gFY4DEacZ2JXAwAAmLAsi2A8AiZUgFk8BkpbjYHIBAwPvBRxyYQwMHBNwyM1gYHjF\n",
       "gEOO2YGhDJccWwHDUlxyLAsY+nDJ8TUw/MMlx/MBr1wLHjNNkeQmIMuxLmBIR8hxfkLzwyOIXAJI\n",
       "rl+AgaFISUlDSUmZgYHrAQOHAFJ0IbFBYcaagOCyIkdgLiyOMOU4gXHEII3gI6cAbpD5jNjTxB0G\n",
       "BgCWci1ZX87w6gAAAABJRU5ErkJggg==\n",
       "\" style=\"display:inline;vertical-align:middle;\" /></a></td></tr>\n",
       "<tr><td>7</td><td>Literal</td><td></td><td><a class=\"ProveItLink\" href=\"../../../__pv_it/68a87cc3370287d726c7086ace789e680e4461c30/expr.ipynb\"><img src=\"data:image/png;base64,iVBORw0KGgoAAAANSUhEUgAAAA4AAAAOBAMAAADtZjDiAAAAFVBMVEX///92dnbMzMxEREQiIiJm\n",
       "ZmYAAABAT6GXAAAAAXRSTlMAQObYZgAAABhJREFUCNdjCHEBAWcGIFBlgABa0YpADAAxegPJJk4d\n",
       "XAAAAABJRU5ErkJggg==\n",
       "\" style=\"display:inline;vertical-align:middle;\" /></a></td></tr>\n",
       "<tr><td>8</td><td>Literal</td><td></td><td><a class=\"ProveItLink\" href=\"../../../__pv_it/8f1f7fac882de28c72b62ab80a1700b6d8fd066b0/expr.ipynb\"><img src=\"data:image/png;base64,iVBORw0KGgoAAAANSUhEUgAAAA4AAAAOBAMAAADtZjDiAAAAG1BMVEX///9EREQQEBAiIiJmZmbM\n",
       "zMyIiIjc3NwAAACryk5kAAAAAXRSTlMAQObYZgAAABlJREFUCNdjYGBgKGOAgBBa0s7GxkbGxoYA\n",
       "FMUF2aBfHgoAAAAASUVORK5CYII=\n",
       "\" style=\"display:inline;vertical-align:middle;\" /></a></td></tr>\n",
       "</table>\n"
      ],
      "text/plain": [
       "0. _x_ and (TRUE => FALSE)\n",
       "   core type: Operation\n",
       "   operator: 1\n",
       "   operands: 2\n",
       "1. and\n",
       "   core type: Literal\n",
       "   sub-expressions: \n",
       "2. (_x_ , TRUE => FALSE)\n",
       "   core type: ExprTuple\n",
       "   sub-expressions: 3, 4\n",
       "3. _x_\n",
       "   core type: Variable\n",
       "   sub-expressions: \n",
       "4. TRUE => FALSE\n",
       "   core type: Operation\n",
       "   operator: 5\n",
       "   operands: 6\n",
       "5. =>\n",
       "   core type: Literal\n",
       "   sub-expressions: \n",
       "6. (TRUE , FALSE)\n",
       "   core type: ExprTuple\n",
       "   sub-expressions: 7, 8\n",
       "7. TRUE\n",
       "   core type: Literal\n",
       "   sub-expressions: \n",
       "8. FALSE\n",
       "   core type: Literal\n",
       "   sub-expressions: "
      ]
     },
     "execution_count": 4,
     "metadata": {},
     "output_type": "execute_result"
    }
   ],
   "source": [
    "# display the expression information\n",
    "expr.exprInfo()"
   ]
  },
  {
   "cell_type": "code",
   "execution_count": null,
   "metadata": {},
   "outputs": [],
   "source": []
  }
 ],
 "metadata": {
  "kernelspec": {
   "display_name": "Python 3",
   "language": "python",
   "name": "python3"
  }
 },
 "nbformat": 4,
 "nbformat_minor": 0
}
