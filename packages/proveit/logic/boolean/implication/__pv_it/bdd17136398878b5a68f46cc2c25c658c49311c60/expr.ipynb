{
 "cells": [
  {
   "cell_type": "markdown",
   "metadata": {},
   "source": [
    "Expression of type <a class=\"ProveItLink\" href=\"../../../../../../../doc/html/api/proveit.ExprTuple.html\">ExprTuple</a>\n",
    "=======================\n",
    "# from context <a class=\"ProveItLink\" href=\"../../_context_.ipynb\">proveit.logic.boolean.implication</a>"
   ]
  },
  {
   "cell_type": "code",
   "execution_count": 1,
   "metadata": {},
   "outputs": [],
   "source": [
    "# import Expression classes needed to build the expression\n",
    "from proveit import ExprTuple\n",
    "from proveit._common_ import A\n",
    "from proveit.logic import Booleans, FALSE, Implies, InSet"
   ]
  },
  {
   "cell_type": "code",
   "execution_count": 2,
   "metadata": {},
   "outputs": [
    {
     "data": {
      "text/html": [
       "<strong id=\"expr\">expr:</strong> <a class=\"ProveItLink\" href=\"../ecdb59783ddf13b1068200e417dd3196e4c7ef940/expr.ipynb\"><img src=\"data:image/png;base64,iVBORw0KGgoAAAANSUhEUgAAAIwAAAAVBAMAAABmhxuGAAAAMFBMVEX////c3NwiIiJERESqqqqY\n",
       "mJh2dnZmZmYQEBDu7u4yMjJUVFTMzMyIiIi6uroAAAAs73DqAAAAAXRSTlMAQObYZgAAAcJJREFU\n",
       "OMtjYKAS4LtAqQmsD4DEaQj7EKoU23qrX00mSAKHsJrACHZDDRCvhAisR1PAzHdh1rQEBH89VmN4\n",
       "CkAkFwMDL8RPrPoTMIzhfbAA4XAkeU50Y1gTGDgg0iL1AhAlt5SUFkCNYQnYCVcPkwdbPgHNGM4G\n",
       "hlcQ/oX7D8D0qUgk1zw0gKuHyYMjZQOaMQwmDGUQmQn+AeAgs0Ty1KFguLUweQjIRTcmnWEpmJ7H\n",
       "cB4cRswCCGOU/vfClcPki5RAQL8AzRgvhj4w/YBBHiwwGSWIr8A9BZOHAq8HqMa8YPgH5u3evR+s\n",
       "5QXIMlgQMxg8g6mGycPiasUDFGPOQ4zhY2DgAGs+jewaBgNmWNDA5KHgVCYDmjEtIMqBgYGpAcSY\n",
       "hN0YuDwkbJQsGdA9ZQqKH6Ayrg8gPncAijHPIEkNIQ8B3ugxFQWMKwaGWSBtP8Ge1kMyhrXWgGG+\n",
       "Aoo8JCMtwIzwRwwMwv0LGVjtf4FFpGrgWfOzxhYGhhkfUeWRUwU70HtNSkrAsF/HwCGAmpe8Fykh\n",
       "BybDQyz5EV0AmBlYE/AXJgFEFDhsF+AFBSXGgMJOGq8KXmKKv43wAowSwHuAAQCwonvm7neFCgAA\n",
       "AABJRU5ErkJggg==\n",
       "\" style=\"display:inline;vertical-align:middle;\" /></a><br>"
      ],
      "text/plain": [
       "expr: (A in BOOLEANS , A => FALSE)"
      ]
     },
     "execution_count": 2,
     "metadata": {},
     "output_type": "execute_result"
    }
   ],
   "source": [
    "# build up the expression from sub-expressions\n",
    "expr = ExprTuple(InSet(A, Booleans), Implies(A, FALSE))"
   ]
  },
  {
   "cell_type": "code",
   "execution_count": 3,
   "metadata": {},
   "outputs": [
    {
     "name": "stdout",
     "output_type": "stream",
     "text": [
      "Passed sanity check: built 'expr' is the same as the stored Expression.\n"
     ]
    }
   ],
   "source": [
    "# check that the built expression is the same as the stored expression\n",
    "%check_expr"
   ]
  },
  {
   "cell_type": "code",
   "execution_count": 4,
   "metadata": {},
   "outputs": [
    {
     "data": {
      "text/html": [
       "<table><tr><th>&nbsp;</th><th>core type</th><th>sub-expressions</th><th>expression</th></tr>\n",
       "<tr><td>0</td><td>ExprTuple</td><td>1, 2</td><td><a class=\"ProveItLink\" href=\"../ecdb59783ddf13b1068200e417dd3196e4c7ef940/expr.ipynb\"><img src=\"data:image/png;base64,iVBORw0KGgoAAAANSUhEUgAAAIwAAAAVBAMAAABmhxuGAAAAMFBMVEX////c3NwiIiJERESqqqqY\n",
       "mJh2dnZmZmYQEBDu7u4yMjJUVFTMzMyIiIi6uroAAAAs73DqAAAAAXRSTlMAQObYZgAAAcJJREFU\n",
       "OMtjYKAS4LtAqQmsD4DEaQj7EKoU23qrX00mSAKHsJrACHZDDRCvhAisR1PAzHdh1rQEBH89VmN4\n",
       "CkAkFwMDL8RPrPoTMIzhfbAA4XAkeU50Y1gTGDgg0iL1AhAlt5SUFkCNYQnYCVcPkwdbPgHNGM4G\n",
       "hlcQ/oX7D8D0qUgk1zw0gKuHyYMjZQOaMQwmDGUQmQn+AeAgs0Ty1KFguLUweQjIRTcmnWEpmJ7H\n",
       "cB4cRswCCGOU/vfClcPki5RAQL8AzRgvhj4w/YBBHiwwGSWIr8A9BZOHAq8HqMa8YPgH5u3evR+s\n",
       "5QXIMlgQMxg8g6mGycPiasUDFGPOQ4zhY2DgAGs+jewaBgNmWNDA5KHgVCYDmjEtIMqBgYGpAcSY\n",
       "hN0YuDwkbJQsGdA9ZQqKH6Ayrg8gPncAijHPIEkNIQ8B3ugxFQWMKwaGWSBtP8Ge1kMyhrXWgGG+\n",
       "Aoo8JCMtwIzwRwwMwv0LGVjtf4FFpGrgWfOzxhYGhhkfUeWRUwU70HtNSkrAsF/HwCGAmpe8Fykh\n",
       "BybDQyz5EV0AmBlYE/AXJgFEFDhsF+AFBSXGgMJOGq8KXmKKv43wAowSwHuAAQCwonvm7neFCgAA\n",
       "AABJRU5ErkJggg==\n",
       "\" style=\"display:inline;vertical-align:middle;\" /></a></td></tr>\n",
       "<tr><td>1</td><td>Operation</td><td>operator:&nbsp;3<br>operands:&nbsp;4<br></td><td><a class=\"ProveItLink\" href=\"../18d84e6b10643c76412edd0e67904c254c981c030/expr.ipynb\"><img src=\"data:image/png;base64,iVBORw0KGgoAAAANSUhEUgAAADYAAAAPBAMAAABdHiGLAAAAMFBMVEX///92dnYQEBBERERUVFS6\n",
       "urqIiIhmZmaqqqrc3Nzu7u6YmJgyMjIiIiLMzMwAAACFkkdwAAAAAXRSTlMAQObYZgAAANJJREFU\n",
       "GNNjYACBtwwogPG8zR9dCyjnPKocAzNrwpqFAmAm9/0FGHJsAQfAzBn1EyBiy87evQOV49jgBRZK\n",
       "yA8A03ynFyD0RRqAWKwL+jeAhSYvQJj5djOYs5ThfQJYyBJh393/amBWAMP8AhDNZYDslgwQj8/F\n",
       "xR9itu7du3C3MBgEgoQYGJjA7uVzQNLHYMAMZDQwMPAqgM28gC7HCZTj+QAW8kaRA5q5BsT+BRZa\n",
       "G4CQ4y4zYJisf5KB2/4P2KGcxx/AwvrzJQ+0MObwgbgTAgCMvTlc/0QYTQAAAABJRU5ErkJggg==\n",
       "\" style=\"display:inline;vertical-align:middle;\" /></a></td></tr>\n",
       "<tr><td>2</td><td>Operation</td><td>operator:&nbsp;5<br>operands:&nbsp;6<br></td><td><a class=\"ProveItLink\" href=\"../../../__pv_it/31eb47017a646663b6ffc27e27c315ea0661b7180/expr.ipynb\"><img src=\"data:image/png;base64,iVBORw0KGgoAAAANSUhEUgAAAD8AAAAPBAMAAAChCwpBAAAAMFBMVEX///92dnYQEBBERERUVFS6\n",
       "urqIiIhmZmaqqqrc3Nzu7u6YmJgyMjIiIiLMzMwAAACFkkdwAAAAAXRSTlMAQObYZgAAAKhJREFU\n",
       "GNNjYACBtwzYAGcCnHkeqwK+AhiL+/4CuCgXNgUz6ifARXkWYFGQkB8AF2V1wFTAuqB/A8JgMUwF\n",
       "Sxneg91bexcE7hdgKAhgmF+A5PieADQFfC4u/gZICrgOBaAqYGVgYDqApOCNFJoJDQwMvAoIN9y1\n",
       "QnMDJ1ABzweEAS3ovlgDxMy/EBFwAE3BZP2TDNz2f+DeYIYGKjvQMt27dw0wYwiNDwDqnDFBsIEk\n",
       "9AAAAABJRU5ErkJggg==\n",
       "\" style=\"display:inline;vertical-align:middle;\" /></a></td></tr>\n",
       "<tr><td>3</td><td>Literal</td><td></td><td><a class=\"ProveItLink\" href=\"../../../../set_theory/membership/__pv_it/088cbc857536a28d4119ad9639a84270ccb0545d0/expr.ipynb\"><img src=\"data:image/png;base64,iVBORw0KGgoAAAANSUhEUgAAAAwAAAAMBAMAAACkW0HUAAAALVBMVEX///+qqqpmZmZUVFQQEBC6\n",
       "urpERETc3NyYmJjMzMwiIiIyMjKIiIju7u4AAACYsrA9AAAAAXRSTlMAQObYZgAAADxJREFUCNdj\n",
       "YOA9vWrVBgaG2b0MQMCeCyIZ2ArA1DUwyRCyahVIyWQI7xaEYm4AU7xLIdxqTQgtvGvVBgCkcQ7e\n",
       "geM/tQAAAABJRU5ErkJggg==\n",
       "\" style=\"display:inline;vertical-align:middle;\" /></a></td></tr>\n",
       "<tr><td>4</td><td>ExprTuple</td><td>8, 7</td><td><a class=\"ProveItLink\" href=\"../0f38ce3f6d5bca20d60f2036d8f4eedb1ccd39680/expr.ipynb\"><img src=\"data:image/png;base64,iVBORw0KGgoAAAANSUhEUgAAADMAAAAVBAMAAAAZessyAAAAMFBMVEX////c3NwiIiJERESqqqqY\n",
       "mJh2dnZmZmYQEBDu7u4yMjJUVFTMzMyIiIi6uroAAAAs73DqAAAAAXRSTlMAQObYZgAAAR1JREFU\n",
       "KM9jYMAD+C5gE40DEach7EMQim291a8mEwYG9gNAzkqI2Hqocma+C7OmJTAwLGBg4IWYx6o/AS7F\n",
       "+wAoHsbAwAEREqkXgEuxBOxkYJjBwPAKInLh/gOErocGQNqBoQzizAn+AXCpQ8FAk9gKGJaCBeYx\n",
       "nL8Ak1L63wukWRYw9IEFHjDIFyAMvAI0kK+B4R+Iz7N7934DuBSDwTOg0AeIFB/QpQuQpJjBUi0g\n",
       "vgMDA1MDqhTQQFMglxEoxfWBgWECkoGsCxjSgdxZIKGfDJyfIFKstQZgxz9iYBDuX8jAav+rgLNf\n",
       "ABS8nzW2AJVwPWDgEECKHyQ2MKBYExBcVqQIy0VECpoUJ8gv0gg+Unxzg8xmxJoA7jAwAAA4lUto\n",
       "1aFFcAAAAABJRU5ErkJggg==\n",
       "\" style=\"display:inline;vertical-align:middle;\" /></a></td></tr>\n",
       "<tr><td>5</td><td>Literal</td><td></td><td><a class=\"ProveItLink\" href=\"../e5c030cabcb650938f92dee8256fe11cd12bf9b30/expr.ipynb\"><img src=\"data:image/png;base64,iVBORw0KGgoAAAANSUhEUgAAABMAAAANBAMAAAC5okgUAAAALVBMVEX////c3NxERETMzMwQEBCq\n",
       "qqoiIiJmZmaIiIh2dnZUVFS6uroyMjLu7u4AAACPpZJTAAAAAXRSTlMAQObYZgAAAD1JREFUCNdj\n",
       "YAABXgY44LkAZ3IvQAjPABFlaSCQV4AQjtkAZ/IegbNt5sLUpunC5aPgLMYDcCaTAJzJDCIA2yMN\n",
       "HCCUuIIAAAAASUVORK5CYII=\n",
       "\" style=\"display:inline;vertical-align:middle;\" /></a></td></tr>\n",
       "<tr><td>6</td><td>ExprTuple</td><td>8, 9</td><td><a class=\"ProveItLink\" href=\"../../../__pv_it/cabd8bc3982b14b9707e18c2e8918f8e5aaad0040/expr.ipynb\"><img src=\"data:image/png;base64,iVBORw0KGgoAAAANSUhEUgAAADUAAAAVBAMAAAAUZLt1AAAAMFBMVEX////c3NwiIiJERESqqqqY\n",
       "mJh2dnZmZmYQEBDu7u4yMjJUVFTMzMyIiIi6uroAAAAs73DqAAAAAXRSTlMAQObYZgAAAO1JREFU\n",
       "KM9jYMAH+C5gFY4DEach7EMIYVkQwX4ASKyECKxHyB0HkwsYGHghRrLqT0CTC2Ng4ICIidQLoMnN\n",
       "YGB4BeFfuP8ATY7ZgaEM4tgJ/gFocmwFDEvBjHkM5y+gybEsYOgDMx4wyBegyfE1MPwD0Ty7d+83\n",
       "QJPj+QCR4wO6dwGmXAuIdmBgYGrANNMUSDEC5bg+MDBMQJZjXcCQDqRmgbzzk4HzE5ofHjEwCPcv\n",
       "ZGC1/1XA2Q8MmyIlJQ0lJWWgQQ8YOASQoguJDQoz1gQElxU5AnMRcYQuxwnykzSCj5wCuEHmM2JP\n",
       "E3cYGAAdNjoVaLAEowAAAABJRU5ErkJggg==\n",
       "\" style=\"display:inline;vertical-align:middle;\" /></a></td></tr>\n",
       "<tr><td>7</td><td>Literal</td><td></td><td><a class=\"ProveItLink\" href=\"../../../__pv_it/46271c8230be96415d662709611f4ed2279d702b0/expr.ipynb\"><img src=\"data:image/png;base64,iVBORw0KGgoAAAANSUhEUgAAAA0AAAAOBAMAAAAGUYvhAAAAMFBMVEX///9mZmbMzMzc3NxUVFSY\n",
       "mJju7u6IiIi6urqqqqoiIiIQEBBEREQyMjJ2dnYAAAAQvcRZAAAAAXRSTlMAQObYZgAAAElJREFU\n",
       "CNdjePvn/u01ExgYGA60s117B6YZKngh9FSWBAjfBsxnWnoMRHet/10AkS+fA6F5OB5AaIYDqDRU\n",
       "PLCGgQFoz6ktExgAgLIl8DFvGtkAAAAASUVORK5CYII=\n",
       "\" style=\"display:inline;vertical-align:middle;\" /></a></td></tr>\n",
       "<tr><td>8</td><td>Variable</td><td></td><td><a class=\"ProveItLink\" href=\"../../../../../__pv_it/2cbe72a7ad6f655694dd697106680215e8489b600/expr.ipynb\"><img src=\"data:image/png;base64,iVBORw0KGgoAAAANSUhEUgAAAA8AAAAOBAMAAAACpFvcAAAALVBMVEX///8QEBBERERUVFS6urqI\n",
       "iIhmZmaqqqrc3Nzu7u6YmJgyMjIiIiLMzMwAAADtIaYWAAAAAXRSTlMAQObYZgAAAFtJREFUCNdj\n",
       "YACBOwxQsA9Kc52bAGG05zVAGAFxDmCaZULdAjBjCsO9ADDDgaEvAUTzGhvbKYCVMDAwbgAxChgY\n",
       "eASANAeQwf0AyJgNxEwvGRia5HYwcOm9TgAA6BoR3jrzwFcAAAAASUVORK5CYII=\n",
       "\" style=\"display:inline;vertical-align:middle;\" /></a></td></tr>\n",
       "<tr><td>9</td><td>Literal</td><td></td><td><a class=\"ProveItLink\" href=\"../../../__pv_it/8f1f7fac882de28c72b62ab80a1700b6d8fd066b0/expr.ipynb\"><img src=\"data:image/png;base64,iVBORw0KGgoAAAANSUhEUgAAAA4AAAAOBAMAAADtZjDiAAAAG1BMVEX///9EREQQEBAiIiJmZmbM\n",
       "zMyIiIjc3NwAAACryk5kAAAAAXRSTlMAQObYZgAAABlJREFUCNdjYGBgKGOAgBBa0s7GxkbGxoYA\n",
       "FMUF2aBfHgoAAAAASUVORK5CYII=\n",
       "\" style=\"display:inline;vertical-align:middle;\" /></a></td></tr>\n",
       "</table>\n"
      ],
      "text/plain": [
       "0. (A in BOOLEANS , A => FALSE)\n",
       "   core type: ExprTuple\n",
       "   sub-expressions: 1, 2\n",
       "1. A in BOOLEANS\n",
       "   core type: Operation\n",
       "   operator: 3\n",
       "   operands: 4\n",
       "2. A => FALSE\n",
       "   core type: Operation\n",
       "   operator: 5\n",
       "   operands: 6\n",
       "3. in\n",
       "   core type: Literal\n",
       "   sub-expressions: \n",
       "4. (A , BOOLEANS)\n",
       "   core type: ExprTuple\n",
       "   sub-expressions: 8, 7\n",
       "5. =>\n",
       "   core type: Literal\n",
       "   sub-expressions: \n",
       "6. (A , FALSE)\n",
       "   core type: ExprTuple\n",
       "   sub-expressions: 8, 9\n",
       "7. BOOLEANS\n",
       "   core type: Literal\n",
       "   sub-expressions: \n",
       "8. A\n",
       "   core type: Variable\n",
       "   sub-expressions: \n",
       "9. FALSE\n",
       "   core type: Literal\n",
       "   sub-expressions: "
      ]
     },
     "execution_count": 4,
     "metadata": {},
     "output_type": "execute_result"
    }
   ],
   "source": [
    "# display the expression information\n",
    "expr.exprInfo()"
   ]
  },
  {
   "cell_type": "code",
   "execution_count": null,
   "metadata": {},
   "outputs": [],
   "source": []
  }
 ],
 "metadata": {
  "kernelspec": {
   "display_name": "Python 3",
   "language": "python",
   "name": "python3"
  }
 },
 "nbformat": 4,
 "nbformat_minor": 0
}
