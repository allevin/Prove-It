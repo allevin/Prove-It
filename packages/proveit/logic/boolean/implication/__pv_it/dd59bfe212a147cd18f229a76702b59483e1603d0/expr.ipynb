{
 "cells": [
  {
   "cell_type": "markdown",
   "metadata": {},
   "source": [
    "Expression of type <a class=\"ProveItLink\" href=\"../../../../../../../doc/html/api/proveit.logic.Set.html\">Set</a>\n",
    "=======================\n",
    "# from context <a class=\"ProveItLink\" href=\"../../_context_.ipynb\">proveit.logic.boolean.implication</a>"
   ]
  },
  {
   "cell_type": "code",
   "execution_count": 1,
   "metadata": {},
   "outputs": [],
   "source": [
    "# import Expression classes needed to build the expression\n",
    "from proveit._common_ import A, B\n",
    "from proveit.logic import Implies, Not, Set"
   ]
  },
  {
   "cell_type": "code",
   "execution_count": 2,
   "metadata": {},
   "outputs": [
    {
     "data": {
      "text/html": [
       "<strong id=\"expr\">expr:</strong> <a class=\"ProveItLink\" href=\"expr.ipynb\"><img src=\"data:image/png;base64,iVBORw0KGgoAAAANSUhEUgAAAI8AAAAVBAMAAACNsKCFAAAAMFBMVEX////c3NxERESqqqpUVFS6\n",
       "urrMzMwyMjIQEBCIiIh2dnYiIiLu7u5mZmaYmJgAAABXZE4RAAAAAXRSTlMAQObYZgAAAhhJREFU\n",
       "OMulVDtIxEAQnfvlLmcud2AhVgoWWghaCFbCKelNqWBxhaDd2Yg24omojYWVYCEe2KgoWPoBvU7B\n",
       "Riy0EFQEEbTwdyKKv5lkL5lNAhYu7Mxk8/bN7nwWAPQL+N9Q1jKktB2Svd6/N4F7fDDdJKZJMtVH\n",
       "MrOSi02AVC7ItwvTu8tG1zDAKX2ckUgWUMRLHB8n7qEAIg5L1ANcmhAne8UhWpDw958o7txvrWJw\n",
       "WH4OZxb0okQ0y3lCHU8oDwMOwmFLGOGHImgFThST7qGqryjDrc5CTIRGgjXh3EIPDZwoVeREfZFv\n",
       "Wj92V1ZtJcHKADXNqDcqRCl0E79iCM1U3lFFLPfnuzT2bVIOU8oLi3tktON8IGMQKyFhii1UUzEI\n",
       "fZEqMPJ200oUg6kYxyO6cg95QEf902ikTbGhn6ZhPJPLR37KUdMDC6MflUKQp4VGPGtPzkOE9oyX\n",
       "aGAdPERpPI3+IYiqKHhRjEWi1UVEKBvO1ewY7TbbNchgeTxD9EVczYpREvshfOUiqlGNUw+wXLfZ\n",
       "isOojOoIcsvT76RaAY1+tpSk9IcEJ4NRGSkzJZ5+qyA3nT1Nbxm4/hnDTJgOUTgjCtKBwcmPYYxY\n",
       "BxyWWmTC36CsRZSKEQCTW4R3qKeapREAS85ViHT/M2J5+usZEePAeY+0bQpN1guIZgKI/DDopKtP\n",
       "2W/dMopaL2A+8Kn1wdSceLN/AdmKklVQlm4mAAAAAElFTkSuQmCC\n",
       "\" style=\"display:inline;vertical-align:middle;\" /></a><br>"
      ],
      "text/plain": [
       "expr: {[not](A) => [not](B)}"
      ]
     },
     "execution_count": 2,
     "metadata": {},
     "output_type": "execute_result"
    }
   ],
   "source": [
    "# build up the expression from sub-expressions\n",
    "expr = Set(Implies(Not(A), Not(B)))"
   ]
  },
  {
   "cell_type": "code",
   "execution_count": 3,
   "metadata": {},
   "outputs": [
    {
     "name": "stdout",
     "output_type": "stream",
     "text": [
      "Passed sanity check: built 'expr' is the same as the stored Expression.\n"
     ]
    }
   ],
   "source": [
    "# check that the built expression is the same as the stored expression\n",
    "%check_expr"
   ]
  },
  {
   "cell_type": "code",
   "execution_count": 4,
   "metadata": {},
   "outputs": [
    {
     "data": {
      "text/html": [
       "<table><tr><th>&nbsp;</th><th>core type</th><th>sub-expressions</th><th>expression</th></tr>\n",
       "<tr><td>0</td><td>Operation</td><td>operator:&nbsp;1<br>operands:&nbsp;2<br></td><td><a class=\"ProveItLink\" href=\"expr.ipynb\"><img src=\"data:image/png;base64,iVBORw0KGgoAAAANSUhEUgAAAI8AAAAVBAMAAACNsKCFAAAAMFBMVEX////c3NxERESqqqpUVFS6\n",
       "urrMzMwyMjIQEBCIiIh2dnYiIiLu7u5mZmaYmJgAAABXZE4RAAAAAXRSTlMAQObYZgAAAhhJREFU\n",
       "OMulVDtIxEAQnfvlLmcud2AhVgoWWghaCFbCKelNqWBxhaDd2Yg24omojYWVYCEe2KgoWPoBvU7B\n",
       "Riy0EFQEEbTwdyKKv5lkL5lNAhYu7Mxk8/bN7nwWAPQL+N9Q1jKktB2Svd6/N4F7fDDdJKZJMtVH\n",
       "MrOSi02AVC7ItwvTu8tG1zDAKX2ckUgWUMRLHB8n7qEAIg5L1ANcmhAne8UhWpDw958o7txvrWJw\n",
       "WH4OZxb0okQ0y3lCHU8oDwMOwmFLGOGHImgFThST7qGqryjDrc5CTIRGgjXh3EIPDZwoVeREfZFv\n",
       "Wj92V1ZtJcHKADXNqDcqRCl0E79iCM1U3lFFLPfnuzT2bVIOU8oLi3tktON8IGMQKyFhii1UUzEI\n",
       "fZEqMPJ200oUg6kYxyO6cg95QEf902ikTbGhn6ZhPJPLR37KUdMDC6MflUKQp4VGPGtPzkOE9oyX\n",
       "aGAdPERpPI3+IYiqKHhRjEWi1UVEKBvO1ewY7TbbNchgeTxD9EVczYpREvshfOUiqlGNUw+wXLfZ\n",
       "isOojOoIcsvT76RaAY1+tpSk9IcEJ4NRGSkzJZ5+qyA3nT1Nbxm4/hnDTJgOUTgjCtKBwcmPYYxY\n",
       "BxyWWmTC36CsRZSKEQCTW4R3qKeapREAS85ViHT/M2J5+usZEePAeY+0bQpN1guIZgKI/DDopKtP\n",
       "2W/dMopaL2A+8Kn1wdSceLN/AdmKklVQlm4mAAAAAElFTkSuQmCC\n",
       "\" style=\"display:inline;vertical-align:middle;\" /></a></td></tr>\n",
       "<tr><td>1</td><td>Literal</td><td></td><td><a class=\"ProveItLink\" href=\"../../../../set_theory/enumeration/__pv_it/07381ed5b23806e8d7914b78cb6667769e3708dd0/expr.ipynb\"><img src=\"data:image/png;base64,iVBORw0KGgoAAAANSUhEUgAAAB4AAAAOBAMAAADKyLEKAAAAMFBMVEX///8iIiIQEBCIiIjMzMzc\n",
       "3Nyqqqp2dnZEREQyMjK6urru7u5mZmZUVFSYmJgAAACI6eGPAAAAAXRSTlMAQObYZgAAALRJREFU\n",
       "CNdjYGDgu3Nm3wIGBJjHwN0PZW5yYGDgLWBgyITy8zcwMMQDxZyh/INAvD6BgcEFypcB4vjPDiBm\n",
       "TPFRrhs/LjMwMP//38rAwCbKEMPA9gEkE3fp0waG+AUMRxh4JkC01T9guPTOOICBEWgVH5C//wHD\n",
       "H5D4fqCz9oCMDGD4DLaegRXslLMMDMpAgxlOMmQxHDRgYG5gYLBk4D7KcIe7gOHC2rt9QCXsh40Z\n",
       "GCKMGQDRkC8N/Ph1XAAAAABJRU5ErkJggg==\n",
       "\" style=\"display:inline;vertical-align:middle;\" /></a></td></tr>\n",
       "<tr><td>2</td><td>ExprTuple</td><td>3</td><td><a class=\"ProveItLink\" href=\"../a7ade7ffc7e7c7a568c48c1873ae307f007e9dec0/expr.ipynb\"><img src=\"data:image/png;base64,iVBORw0KGgoAAAANSUhEUgAAAIkAAAAVBAMAAACArtDCAAAAMFBMVEX////c3NwiIiJERESqqqqY\n",
       "mJh2dnZmZmYQEBDu7u4yMjJUVFTMzMyIiIi6uroAAAAs73DqAAAAAXRSTlMAQObYZgAAAehJREFU\n",
       "OMutlL8vBFEQx2e5cz/scQkVhYRSgYRENNQaKgUJ110lEYVK4hIaDVvKFbIiJ9FwWhuxUUkUd38A\n",
       "uctVQkOBOPFj3rx392Z/iMYkn53d975v3o+ZtwD/Yx1licei1d+kXltUwI1C2xWyHhaFyRa+HWei\n",
       "CjEXCDhWaDtFkmFRuGwTh38B2ECkyhK2myELHxndYCnPZeYn8gEwB0Tckmjr3kgDJHLBJXBZ6hln\n",
       "egXYA+IBJNrKFXG0o7rhUXkua8VZWrbRTxFr2LTmSYQ1M4suq1va1E64rLMIxiGurW2FKGBTgUfZ\n",
       "h5IYNS3eY/1kb7KHy0oXd6tisohN7ODrTkMvjrQKfRgf7tmQyAk5LqukITEoVp4jMFsEHXwRcZzL\n",
       "YTEZX19ezOWRjaOv4GLMJ8IfpQNzYfuimEeWPwomGZYyzShb+LnFuvHMW3KNHalzGZApZjLzBf3l\n",
       "VHNHY/g5prsN7ElifJhnx1KUnslEuRh1UaI2keVZdSEvauHdm+ke5ZlMlMu1qEaV6Rq+1poDunYP\n",
       "IDpZx64THWVEeS2LTX4455T4ZJWIY7kLfMZvgNu4AUFZ4waIa8evnq9ePdc0KINlRfDPQBXy159B\n",
       "LdmWQK/Ca2dhUYKy9rQEjLLEYyk3LEpABreSH6p/jkKlUr1uAAAAAElFTkSuQmCC\n",
       "\" style=\"display:inline;vertical-align:middle;\" /></a></td></tr>\n",
       "<tr><td>3</td><td>Operation</td><td>operator:&nbsp;4<br>operands:&nbsp;5<br></td><td><a class=\"ProveItLink\" href=\"../ded3a0141eeb85ea08680f17e0e8686de7fdeea00/expr.ipynb\"><img src=\"data:image/png;base64,iVBORw0KGgoAAAANSUhEUgAAAHkAAAAVBAMAAACQ4lxbAAAAMFBMVEX////c3NwiIiJERESqqqqY\n",
       "mJh2dnZmZmYQEBDu7u4yMjJUVFTMzMyIiIi6uroAAAAs73DqAAAAAXRSTlMAQObYZgAAAb5JREFU\n",
       "OMulk79Lw1AQx7/R/rbVgk46CDo6qKAgLu3sopODgnZzEoqDk2BBF5eaUTpIRRRcal0N0uIkOLR/\n",
       "gNLgJLrUQcUWq3dpYi5JQcHAe9/H5XPv3bu7B/zv6626DH79TxhWeLp1mK5pbHXyFtjyl6bN6giW\n",
       "aX3mgM5pRDp5S2wHCLaAPBBzROQfV2lK2QbVVIlFP2k0gUUgpErvge04EM54j5RY7IVOeAMOgCdH\n",
       "fNUap2zKNjybKrFu2r1rjzSJTUdi1fkFkjXbEjAjllhfEcoxxRJI40R6H6LC9ByvgyPG997+I7HK\n",
       "1f0GH+LLI2txnCodw2mSR4H6CoZIrBZHeIwjzaBlJbJIQ9NKE7y5jCeX5VliM6Q1Ojxad5h7Kbd5\n",
       "l3f0VHV7U7GwmjK8d4U5SbnMWJGb9x5tl0pg0VfSUtKIfNo2K2SJ1Gm9JK5dbKvAuNxKg1srb1en\n",
       "jBzX8sNZsUFTBcblvuEuooo9/ID9+0fwJxqU9ILtPWmqjQUTTe3SKGBERyjueRCyU8tWp3ox7lT5\n",
       "JFz95Xg+XgzrnhdqVPi3F2qGyMUd8pgvOnl7sR6+jOKOM1bu5O3BcAd8A2d2dgqZB/CrAAAAAElF\n",
       "TkSuQmCC\n",
       "\" style=\"display:inline;vertical-align:middle;\" /></a></td></tr>\n",
       "<tr><td>4</td><td>Literal</td><td></td><td><a class=\"ProveItLink\" href=\"../e5c030cabcb650938f92dee8256fe11cd12bf9b30/expr.ipynb\"><img src=\"data:image/png;base64,iVBORw0KGgoAAAANSUhEUgAAABMAAAANBAMAAAC5okgUAAAALVBMVEX////c3NxERETMzMwQEBCq\n",
       "qqoiIiJmZmaIiIh2dnZUVFS6uroyMjLu7u4AAACPpZJTAAAAAXRSTlMAQObYZgAAAD1JREFUCNdj\n",
       "YAABXgY44LkAZ3IvQAjPABFlaSCQV4AQjtkAZ/IegbNt5sLUpunC5aPgLMYDcCaTAJzJDCIA2yMN\n",
       "HCCUuIIAAAAASUVORK5CYII=\n",
       "\" style=\"display:inline;vertical-align:middle;\" /></a></td></tr>\n",
       "<tr><td>5</td><td>ExprTuple</td><td>6, 7</td><td><a class=\"ProveItLink\" href=\"../00c05ccc47c117964962fd4a31bd37c34eda9df40/expr.ipynb\"><img src=\"data:image/png;base64,iVBORw0KGgoAAAANSUhEUgAAAFEAAAAVBAMAAADMaB9/AAAAMFBMVEX////c3NwiIiJERESqqqqY\n",
       "mJh2dnZmZmYQEBDu7u4yMjJUVFTMzMyIiIi6uroAAAAs73DqAAAAAXRSTlMAQObYZgAAAVdJREFU\n",
       "KM9jYCAe8F0gQlEciDiNInQITQnr/t+7N69jYD8AZK9EkVmPbhqHAQND/QOGBQwMvCiWs+pPQFN5\n",
       "Hih/fgNDGFAPipRIvQCayvtAgfgEhhkMDK9QxC/cf4Cm0gKINSYwMDswlKGEwwT/ADSVvxkYpCwZ\n",
       "GNgKGJYiC88DOwsZ8Py+e10VSLMsYOhjYGBXAoEEIP8Bg3wBREURSEgN6OGPDAyTNgBta2D4B9MM\n",
       "5PLs3r3fAMlAYFAzNwBVfwVKfUBRyQcMigWoKvmBwqzfwCpbkFQ6MDAwNaCqPA/0IfcXsO2mCJWM\n",
       "QJVcHxgYJiCpBAWnPNAe1gUM6TDhAwyzgCTzTwbOT3CPg4OTp2sCOJQewe0S7l/IwGr/q4CzHxFP\n",
       "xf93714FCmKuBwwcApjpEFMIFJusCRiirFgSaC5GqsOhkhMUeNIYwlgyATfIQYzE5I47DAwA/tdW\n",
       "XzreP5oAAAAASUVORK5CYII=\n",
       "\" style=\"display:inline;vertical-align:middle;\" /></a></td></tr>\n",
       "<tr><td>6</td><td>Operation</td><td>operator:&nbsp;9<br>operand:&nbsp;8<br></td><td><a class=\"ProveItLink\" href=\"../feaa1d0e6d92ad9ead8e5ffd1f92697e3912387a0/expr.ipynb\"><img src=\"data:image/png;base64,iVBORw0KGgoAAAANSUhEUgAAABwAAAAOBAMAAADOPWE3AAAAMFBMVEX///8QEBBERES6urqIiIiq\n",
       "qqrc3Nzu7u6YmJgyMjJUVFTMzMx2dnYiIiJmZmYAAADMbjvTAAAAAXRSTlMAQObYZgAAAGNJREFU\n",
       "CNdjYEAA7gsMyIDzAwq39zsyjy3uGzKXheUzMtec9QcSj92A+wsDw9u7QHAHyGVmYPsHldkFwqtW\n",
       "fULiGjAwSCK4rEDqIoKbCqTmw1zLwD4BSOkXwFyk+DOBoen/PABSrhtHsYt+gAAAAABJRU5ErkJg\n",
       "gg==\n",
       "\" style=\"display:inline;vertical-align:middle;\" /></a></td></tr>\n",
       "<tr><td>7</td><td>Operation</td><td>operator:&nbsp;9<br>operand:&nbsp;10<br></td><td><a class=\"ProveItLink\" href=\"../1da4e2fe7c44632f084fa27ea32e26dc689384c20/expr.ipynb\"><img src=\"data:image/png;base64,iVBORw0KGgoAAAANSUhEUgAAAB0AAAAOBAMAAAAh/woJAAAAMFBMVEX///+qqqru7u7c3NyIiIgQ\n",
       "EBC6uroyMjJERESYmJhUVFTMzMx2dnYiIiJmZmYAAADtoHoAAAAAAXRSTlMAQObYZgAAAHpJREFU\n",
       "CNdjYIACzvW/Vq0oY0AA1gYGhvcJCP5+ByBegOD7GzAwzD+A4LcC8VUFBP8XA4N5E4LL/cvF7yaQ\n",
       "fnsXCO4wMLB8ZmDQhRm3i4GBIwAo9hPB5wfKcf5B8PdPYGDg+ojgg6y3L4AZDraeOxxh/Yv/q1aV\n",
       "A7UAAFRxJOZ+1MVPAAAAAElFTkSuQmCC\n",
       "\" style=\"display:inline;vertical-align:middle;\" /></a></td></tr>\n",
       "<tr><td>8</td><td>Variable</td><td></td><td><a class=\"ProveItLink\" href=\"../../../../../__pv_it/2cbe72a7ad6f655694dd697106680215e8489b600/expr.ipynb\"><img src=\"data:image/png;base64,iVBORw0KGgoAAAANSUhEUgAAAA8AAAAOBAMAAAACpFvcAAAALVBMVEX///8QEBBERERUVFS6urqI\n",
       "iIhmZmaqqqrc3Nzu7u6YmJgyMjIiIiLMzMwAAADtIaYWAAAAAXRSTlMAQObYZgAAAFtJREFUCNdj\n",
       "YACBOwxQsA9Kc52bAGG05zVAGAFxDmCaZULdAjBjCsO9ADDDgaEvAUTzGhvbKYCVMDAwbgAxChgY\n",
       "eASANAeQwf0AyJgNxEwvGRia5HYwcOm9TgAA6BoR3jrzwFcAAAAASUVORK5CYII=\n",
       "\" style=\"display:inline;vertical-align:middle;\" /></a></td></tr>\n",
       "<tr><td>9</td><td>Literal</td><td></td><td><a class=\"ProveItLink\" href=\"../../../negation/__pv_it/7bea79645543c2413aa17e787cca04e21046fde60/expr.ipynb\"><img src=\"data:image/png;base64,iVBORw0KGgoAAAANSUhEUgAAAAwAAAAGBAMAAAAFwGKyAAAAFVBMVEX///9UVFTMzMx2dnYiIiJm\n",
       "ZmYAAACWz4ZEAAAAAXRSTlMAQObYZgAAABRJREFUCNdjCHEBAmcGMFDEQzEBAEl+Ai6uYJv/AAAA\n",
       "AElFTkSuQmCC\n",
       "\" style=\"display:inline;vertical-align:middle;\" /></a></td></tr>\n",
       "<tr><td>10</td><td>Variable</td><td></td><td><a class=\"ProveItLink\" href=\"../../../../../__pv_it/077b2ff79244fb4582cbe22c6e3356fa92a52f2f0/expr.ipynb\"><img src=\"data:image/png;base64,iVBORw0KGgoAAAANSUhEUgAAABAAAAAOBAMAAADUAYG5AAAAMFBMVEX///+qqqru7u4iIiJ2dnbc\n",
       "3NyIiIjMzMxmZmYQEBC6uroyMjJERERUVFSYmJgAAADLUcuvAAAAAXRSTlMAQObYZgAAAGpJREFU\n",
       "CNdjYGB4+//u3dMLGIBgDgMDxy8gzf4NiP8CGWxfGRj4vgAZPBMYGJgnARn8FxhY9ygAGfXX0pof\n",
       "gDTlBzAw2YIYJ0EckBBI53sHoBH/gIz7AhBjWH9DjancBLTl/N+7t/cxMAAA3u4f/5xagjYAAAAA\n",
       "SUVORK5CYII=\n",
       "\" style=\"display:inline;vertical-align:middle;\" /></a></td></tr>\n",
       "</table>\n"
      ],
      "text/plain": [
       "0. {[not](A) => [not](B)}\n",
       "   core type: Operation\n",
       "   operator: 1\n",
       "   operands: 2\n",
       "1. Set\n",
       "   core type: Literal\n",
       "   sub-expressions: \n",
       "2. ([not](A) => [not](B))\n",
       "   core type: ExprTuple\n",
       "   sub-expressions: 3\n",
       "3. [not](A) => [not](B)\n",
       "   core type: Operation\n",
       "   operator: 4\n",
       "   operands: 5\n",
       "4. =>\n",
       "   core type: Literal\n",
       "   sub-expressions: \n",
       "5. ([not](A) , [not](B))\n",
       "   core type: ExprTuple\n",
       "   sub-expressions: 6, 7\n",
       "6. [not](A)\n",
       "   core type: Operation\n",
       "   operator: 9\n",
       "   operand: 8\n",
       "7. [not](B)\n",
       "   core type: Operation\n",
       "   operator: 9\n",
       "   operand: 10\n",
       "8. A\n",
       "   core type: Variable\n",
       "   sub-expressions: \n",
       "9. not\n",
       "   core type: Literal\n",
       "   sub-expressions: \n",
       "10. B\n",
       "    core type: Variable\n",
       "    sub-expressions: "
      ]
     },
     "execution_count": 4,
     "metadata": {},
     "output_type": "execute_result"
    }
   ],
   "source": [
    "# display the expression information\n",
    "expr.exprInfo()"
   ]
  },
  {
   "cell_type": "code",
   "execution_count": null,
   "metadata": {},
   "outputs": [],
   "source": []
  }
 ],
 "metadata": {
  "kernelspec": {
   "display_name": "Python 3",
   "language": "python",
   "name": "python3"
  }
 },
 "nbformat": 4,
 "nbformat_minor": 0
}
