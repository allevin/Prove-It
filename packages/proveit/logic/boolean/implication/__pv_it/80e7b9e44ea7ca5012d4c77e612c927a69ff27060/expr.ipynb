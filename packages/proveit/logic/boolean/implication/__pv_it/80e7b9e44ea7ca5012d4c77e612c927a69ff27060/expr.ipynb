{
 "cells": [
  {
   "cell_type": "markdown",
   "metadata": {},
   "source": [
    "Expression of type <a class=\"ProveItLink\" href=\"../../../../../../../doc/html/api/proveit.ExprTuple.html\">ExprTuple</a>\n",
    "=======================\n",
    "# from context <a class=\"ProveItLink\" href=\"../../_context_.ipynb\">proveit.logic.boolean.implication</a>"
   ]
  },
  {
   "cell_type": "code",
   "execution_count": 1,
   "metadata": {},
   "outputs": [],
   "source": [
    "# import Expression classes needed to build the expression\n",
    "from proveit import ExprTuple\n",
    "from proveit.logic import Booleans\n",
    "from proveit.logic.boolean.implication._theorems_ import falseImpliesFalse"
   ]
  },
  {
   "cell_type": "code",
   "execution_count": 2,
   "metadata": {},
   "outputs": [
    {
     "data": {
      "text/html": [
       "<strong id=\"expr\">expr:</strong> <a class=\"ProveItLink\" href=\"expr.ipynb\"><img src=\"data:image/png;base64,iVBORw0KGgoAAAANSUhEUgAAAGQAAAAVBAMAAABCslYDAAAAMFBMVEX////c3NwiIiJERESqqqqY\n",
       "mJh2dnZmZmYQEBDu7u4yMjJUVFTMzMyIiIi6uroAAAAs73DqAAAAAXRSTlMAQObYZgAAARtJREFU\n",
       "OMtjYCAD8F0gRTXrAyBxGsRixKEPIZ71ef0KZQcGhhogeyVIgKcAuxYkcYO3nCvTGBi4GBh4L2Bq\n",
       "mYBdC8M9oHrWBAaOCZhaVuLQ4so9gYGzgeEVA6aW17hsEQbSJgxlWLSwXcCqhUfVEkinMyxFkWJX\n",
       "AoPv2LQ80v8BMsqLoQ+LLQws67A67K4zkH7B8A+bFoZZfdi0MPMlMDCcx66FZ9kErFoYDEBaWrD5\n",
       "RXkCA04tLxhMsdjCsgHV+xOQHRYFDDNMLVKo8cL5Caol/DI4kB9BXNOkpGQAV2iIcCVInLNfAJws\n",
       "jbqByZJhHQOHAGZiPICeP5DUABMMMJkRziRoKWMlaVpmAbE0YS3I+W8jngyJHfAeYAAAVgxTirEZ\n",
       "LW8AAAAASUVORK5CYII=\n",
       "\" style=\"display:inline;vertical-align:middle;\" /></a><br>"
      ],
      "text/plain": [
       "expr: (FALSE => FALSE , BOOLEANS)"
      ]
     },
     "execution_count": 2,
     "metadata": {},
     "output_type": "execute_result"
    }
   ],
   "source": [
    "# build up the expression from sub-expressions\n",
    "expr = ExprTuple(falseImpliesFalse.expr, Booleans)"
   ]
  },
  {
   "cell_type": "code",
   "execution_count": 3,
   "metadata": {},
   "outputs": [
    {
     "name": "stdout",
     "output_type": "stream",
     "text": [
      "Passed sanity check: built 'expr' is the same as the stored Expression.\n"
     ]
    }
   ],
   "source": [
    "# check that the built expression is the same as the stored expression\n",
    "%check_expr"
   ]
  },
  {
   "cell_type": "code",
   "execution_count": 4,
   "metadata": {},
   "outputs": [
    {
     "data": {
      "text/html": [
       "<table><tr><th>&nbsp;</th><th>core type</th><th>sub-expressions</th><th>expression</th></tr>\n",
       "<tr><td>0</td><td>ExprTuple</td><td>1, 2</td><td><a class=\"ProveItLink\" href=\"expr.ipynb\"><img src=\"data:image/png;base64,iVBORw0KGgoAAAANSUhEUgAAAGQAAAAVBAMAAABCslYDAAAAMFBMVEX////c3NwiIiJERESqqqqY\n",
       "mJh2dnZmZmYQEBDu7u4yMjJUVFTMzMyIiIi6uroAAAAs73DqAAAAAXRSTlMAQObYZgAAARtJREFU\n",
       "OMtjYCAD8F0gRTXrAyBxGsRixKEPIZ71ef0KZQcGhhogeyVIgKcAuxYkcYO3nCvTGBi4GBh4L2Bq\n",
       "mYBdC8M9oHrWBAaOCZhaVuLQ4so9gYGzgeEVA6aW17hsEQbSJgxlWLSwXcCqhUfVEkinMyxFkWJX\n",
       "AoPv2LQ80v8BMsqLoQ+LLQws67A67K4zkH7B8A+bFoZZfdi0MPMlMDCcx66FZ9kErFoYDEBaWrD5\n",
       "RXkCA04tLxhMsdjCsgHV+xOQHRYFDDNMLVKo8cL5Caol/DI4kB9BXNOkpGQAV2iIcCVInLNfAJws\n",
       "jbqByZJhHQOHAGZiPICeP5DUABMMMJkRziRoKWMlaVpmAbE0YS3I+W8jngyJHfAeYAAAVgxTirEZ\n",
       "LW8AAAAASUVORK5CYII=\n",
       "\" style=\"display:inline;vertical-align:middle;\" /></a></td></tr>\n",
       "<tr><td>1</td><td>Operation</td><td>operator:&nbsp;3<br>operands:&nbsp;4<br></td><td><a class=\"ProveItLink\" href=\"../da810ef09e21913fb06fd31fe44c3c5ef404387b0/expr.ipynb\"><img src=\"data:image/png;base64,iVBORw0KGgoAAAANSUhEUgAAAD8AAAAPBAMAAAChCwpBAAAALVBMVEX///+qqqp2dnZUVFS6uroy\n",
       "MjLu7u5EREQQEBAiIiJmZmbMzMyIiIjc3NwAAAAGhiwUAAAAAXRSTlMAQObYZgAAAGdJREFUGNNj\n",
       "YGBguMOAHfAegDJ24VDAvQCbAjZCClgTCChgMSCggEEHt4KVM0Fg3gICJjCIOhBQwBbhgF/BVjX8\n",
       "bphZRsANwgS8yRuApgBo7oyZM6fDRdkvQGguoGWdM2cWYMYQGh8A/EooJtywCMEAAAAASUVORK5C\n",
       "YII=\n",
       "\" style=\"display:inline;vertical-align:middle;\" /></a></td></tr>\n",
       "<tr><td>2</td><td>Literal</td><td></td><td><a class=\"ProveItLink\" href=\"../../../__pv_it/46271c8230be96415d662709611f4ed2279d702b0/expr.ipynb\"><img src=\"data:image/png;base64,iVBORw0KGgoAAAANSUhEUgAAAA0AAAAOBAMAAAAGUYvhAAAAMFBMVEX///9mZmbMzMzc3NxUVFSY\n",
       "mJju7u6IiIi6urqqqqoiIiIQEBBEREQyMjJ2dnYAAAAQvcRZAAAAAXRSTlMAQObYZgAAAElJREFU\n",
       "CNdjePvn/u01ExgYGA60s117B6YZKngh9FSWBAjfBsxnWnoMRHet/10AkS+fA6F5OB5AaIYDqDRU\n",
       "PLCGgQFoz6ktExgAgLIl8DFvGtkAAAAASUVORK5CYII=\n",
       "\" style=\"display:inline;vertical-align:middle;\" /></a></td></tr>\n",
       "<tr><td>3</td><td>Literal</td><td></td><td><a class=\"ProveItLink\" href=\"../e5c030cabcb650938f92dee8256fe11cd12bf9b30/expr.ipynb\"><img src=\"data:image/png;base64,iVBORw0KGgoAAAANSUhEUgAAABMAAAANBAMAAAC5okgUAAAALVBMVEX////c3NxERETMzMwQEBCq\n",
       "qqoiIiJmZmaIiIh2dnZUVFS6uroyMjLu7u4AAACPpZJTAAAAAXRSTlMAQObYZgAAAD1JREFUCNdj\n",
       "YAABXgY44LkAZ3IvQAjPABFlaSCQV4AQjtkAZ/IegbNt5sLUpunC5aPgLMYDcCaTAJzJDCIA2yMN\n",
       "HCCUuIIAAAAASUVORK5CYII=\n",
       "\" style=\"display:inline;vertical-align:middle;\" /></a></td></tr>\n",
       "<tr><td>4</td><td>ExprTuple</td><td>5, 5</td><td><a class=\"ProveItLink\" href=\"../0f765c86883f159901bd422ce2aa1574ee4b44270/expr.ipynb\"><img src=\"data:image/png;base64,iVBORw0KGgoAAAANSUhEUgAAADUAAAAVBAMAAAAUZLt1AAAAMFBMVEX////c3NwiIiJERESqqqqY\n",
       "mJh2dnZmZmYQEBDu7u4yMjJUVFTMzMyIiIi6uroAAAAs73DqAAAAAXRSTlMAQObYZgAAALNJREFU\n",
       "KM9jYMAH+C5gFY4DEadBBCOyAlkQwX4ASKwEsXgKkOSOg8kFDAy8F3DIhTEwcEzAITeDgeEVAw45\n",
       "ZgeGMlxybAUMS3HJsSxg6MMlx9fA8A+XHM8HvHIteMw0RZKbgCzHuoAhHSHH+QnND4+AwaqkpNSk\n",
       "pGTA2S/AwFCkpKShpKTMwMD1gIFDACm6kNigMGNNQHBZkSMwFxZHmHKcwDhikEbwkSOYWwA9yhHg\n",
       "DgMDAMpvLh492isZAAAAAElFTkSuQmCC\n",
       "\" style=\"display:inline;vertical-align:middle;\" /></a></td></tr>\n",
       "<tr><td>5</td><td>Literal</td><td></td><td><a class=\"ProveItLink\" href=\"../../../__pv_it/8f1f7fac882de28c72b62ab80a1700b6d8fd066b0/expr.ipynb\"><img src=\"data:image/png;base64,iVBORw0KGgoAAAANSUhEUgAAAA4AAAAOBAMAAADtZjDiAAAAG1BMVEX///9EREQQEBAiIiJmZmbM\n",
       "zMyIiIjc3NwAAACryk5kAAAAAXRSTlMAQObYZgAAABlJREFUCNdjYGBgKGOAgBBa0s7GxkbGxoYA\n",
       "FMUF2aBfHgoAAAAASUVORK5CYII=\n",
       "\" style=\"display:inline;vertical-align:middle;\" /></a></td></tr>\n",
       "</table>\n"
      ],
      "text/plain": [
       "0. (FALSE => FALSE , BOOLEANS)\n",
       "   core type: ExprTuple\n",
       "   sub-expressions: 1, 2\n",
       "1. FALSE => FALSE\n",
       "   core type: Operation\n",
       "   operator: 3\n",
       "   operands: 4\n",
       "2. BOOLEANS\n",
       "   core type: Literal\n",
       "   sub-expressions: \n",
       "3. =>\n",
       "   core type: Literal\n",
       "   sub-expressions: \n",
       "4. (FALSE , FALSE)\n",
       "   core type: ExprTuple\n",
       "   sub-expressions: 5, 5\n",
       "5. FALSE\n",
       "   core type: Literal\n",
       "   sub-expressions: "
      ]
     },
     "execution_count": 4,
     "metadata": {},
     "output_type": "execute_result"
    }
   ],
   "source": [
    "# display the expression information\n",
    "expr.exprInfo()"
   ]
  },
  {
   "cell_type": "code",
   "execution_count": null,
   "metadata": {},
   "outputs": [],
   "source": []
  }
 ],
 "metadata": {
  "kernelspec": {
   "display_name": "Python 3",
   "language": "python",
   "name": "python3"
  }
 },
 "nbformat": 4,
 "nbformat_minor": 0
}
