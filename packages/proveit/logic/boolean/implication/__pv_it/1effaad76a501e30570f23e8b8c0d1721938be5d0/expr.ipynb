{
 "cells": [
  {
   "cell_type": "markdown",
   "metadata": {},
   "source": [
    "Expression of type <a class=\"ProveItLink\" href=\"../../../../../../../doc/html/api/proveit.ExprTuple.html\">ExprTuple</a>\n",
    "=======================\n",
    "# from context <a class=\"ProveItLink\" href=\"../../_context_.ipynb\">proveit.logic.boolean.implication</a>"
   ]
  },
  {
   "cell_type": "code",
   "execution_count": 1,
   "metadata": {},
   "outputs": [],
   "source": [
    "# import Expression classes needed to build the expression\n",
    "from proveit import ExprTuple\n",
    "from proveit._common_ import B\n",
    "from proveit.logic import Implies, TRUE"
   ]
  },
  {
   "cell_type": "code",
   "execution_count": 2,
   "metadata": {},
   "outputs": [
    {
     "data": {
      "text/html": [
       "<strong id=\"expr\">expr:</strong> <a class=\"ProveItLink\" href=\"expr.ipynb\"><img src=\"data:image/png;base64,iVBORw0KGgoAAAANSUhEUgAAAE0AAAAVBAMAAADx+n4ZAAAAMFBMVEX////c3NwiIiJERESqqqqY\n",
       "mJh2dnZmZmYQEBDu7u4yMjJUVFTMzMyIiIi6uroAAAAs73DqAAAAAXRSTlMAQObYZgAAAR9JREFU\n",
       "KM9jYCAW8F0gqCQORJxmYFcCAwNMBaz7f+/evI6B/QCQvRIkwFOA3SQOoOb6BwwLGBh4L2CqmwBn\n",
       "nQfKnt/AEAbUMQFT3Uo4674AA0N8AsMMBoZXDJjqXsNZFkCsMYGB2YGhDIs6NngQ/GZgkLIEChQw\n",
       "LEVRB/X6d6gynt93r6sCaZYFDH1YzGNgWQeheT8yMEzaAAzjBoZ/2NQxzIJoZ24Aqv0KlP6AXR3P\n",
       "MkjQ8APNYv0GVteCzX3K0BA8H8DAwP0FbK8pFvNYNiAFnzwwMlgXMKRjUSeFFHw8XRPA4fIIoi4B\n",
       "WZ0hlC7+v3v3KqDVDFwPGDgEMGP/ALoAMN5YE4hIo7kokY4TcAK9wiBNWB03yG2MhNP9HQYGAFHS\n",
       "SISLS3YiAAAAAElFTkSuQmCC\n",
       "\" style=\"display:inline;vertical-align:middle;\" /></a><br>"
      ],
      "text/plain": [
       "expr: (TRUE => B)"
      ]
     },
     "execution_count": 2,
     "metadata": {},
     "output_type": "execute_result"
    }
   ],
   "source": [
    "# build up the expression from sub-expressions\n",
    "expr = ExprTuple(Implies(TRUE, B))"
   ]
  },
  {
   "cell_type": "code",
   "execution_count": 3,
   "metadata": {},
   "outputs": [
    {
     "name": "stdout",
     "output_type": "stream",
     "text": [
      "Passed sanity check: built 'expr' is the same as the stored Expression.\n"
     ]
    }
   ],
   "source": [
    "# check that the built expression is the same as the stored expression\n",
    "%check_expr"
   ]
  },
  {
   "cell_type": "code",
   "execution_count": 4,
   "metadata": {},
   "outputs": [
    {
     "data": {
      "text/html": [
       "<table><tr><th>&nbsp;</th><th>core type</th><th>sub-expressions</th><th>expression</th></tr>\n",
       "<tr><td>0</td><td>ExprTuple</td><td>1</td><td><a class=\"ProveItLink\" href=\"expr.ipynb\"><img src=\"data:image/png;base64,iVBORw0KGgoAAAANSUhEUgAAAE0AAAAVBAMAAADx+n4ZAAAAMFBMVEX////c3NwiIiJERESqqqqY\n",
       "mJh2dnZmZmYQEBDu7u4yMjJUVFTMzMyIiIi6uroAAAAs73DqAAAAAXRSTlMAQObYZgAAAR9JREFU\n",
       "KM9jYCAW8F0gqCQORJxmYFcCAwNMBaz7f+/evI6B/QCQvRIkwFOA3SQOoOb6BwwLGBh4L2CqmwBn\n",
       "nQfKnt/AEAbUMQFT3Uo4674AA0N8AsMMBoZXDJjqXsNZFkCsMYGB2YGhDIs6NngQ/GZgkLIEChQw\n",
       "LEVRB/X6d6gynt93r6sCaZYFDH1YzGNgWQeheT8yMEzaAAzjBoZ/2NQxzIJoZ24Aqv0KlP6AXR3P\n",
       "MkjQ8APNYv0GVteCzX3K0BA8H8DAwP0FbK8pFvNYNiAFnzwwMlgXMKRjUSeFFHw8XRPA4fIIoi4B\n",
       "WZ0hlC7+v3v3KqDVDFwPGDgEMGP/ALoAMN5YE4hIo7kokY4TcAK9wiBNWB03yG2MhNP9HQYGAFHS\n",
       "SISLS3YiAAAAAElFTkSuQmCC\n",
       "\" style=\"display:inline;vertical-align:middle;\" /></a></td></tr>\n",
       "<tr><td>1</td><td>Operation</td><td>operator:&nbsp;2<br>operands:&nbsp;3<br></td><td><a class=\"ProveItLink\" href=\"../4cd00297b289889ed5a94e56c71f882ab47904c90/expr.ipynb\"><img src=\"data:image/png;base64,iVBORw0KGgoAAAANSUhEUgAAAEAAAAAPBAMAAACmSdRUAAAAMFBMVEX///+YmJjc3NwQEBCqqqqI\n",
       "iIhUVFS6uroyMjLu7u52dnbMzMxEREQiIiJmZmYAAAB9sQEkAAAAAXRSTlMAQObYZgAAAK5JREFU\n",
       "GNNjeHsXBO4wYAKx/2lpJwpArH0M2IENAwPfdwwFnHAW91cg/oahgGMCjMX6iYGB8ReGAvYEGIvH\n",
       "gIGB1xLTDUthDP4EBqaeCcgKIB66/wDK3Z8a+laAAYsvPAogdLwCA+c1bAo4myEqDoMUCWBRsGMl\n",
       "hAb5UH4BphvunoQGw0cgke+AaYIbUjAw/cB0A1MDUjBs7gQzdyEr4FGA0Hznv6VlNGKJIW40PgDT\n",
       "pzys+cW/WwAAAABJRU5ErkJggg==\n",
       "\" style=\"display:inline;vertical-align:middle;\" /></a></td></tr>\n",
       "<tr><td>2</td><td>Literal</td><td></td><td><a class=\"ProveItLink\" href=\"../e5c030cabcb650938f92dee8256fe11cd12bf9b30/expr.ipynb\"><img src=\"data:image/png;base64,iVBORw0KGgoAAAANSUhEUgAAABMAAAANBAMAAAC5okgUAAAALVBMVEX////c3NxERETMzMwQEBCq\n",
       "qqoiIiJmZmaIiIh2dnZUVFS6uroyMjLu7u4AAACPpZJTAAAAAXRSTlMAQObYZgAAAD1JREFUCNdj\n",
       "YAABXgY44LkAZ3IvQAjPABFlaSCQV4AQjtkAZ/IegbNt5sLUpunC5aPgLMYDcCaTAJzJDCIA2yMN\n",
       "HCCUuIIAAAAASUVORK5CYII=\n",
       "\" style=\"display:inline;vertical-align:middle;\" /></a></td></tr>\n",
       "<tr><td>3</td><td>ExprTuple</td><td>4, 5</td><td><a class=\"ProveItLink\" href=\"../37daccb7f4d8f0c74c4d62e98fa64e0314d893720/expr.ipynb\"><img src=\"data:image/png;base64,iVBORw0KGgoAAAANSUhEUgAAADYAAAAVBAMAAAD/UwB2AAAAMFBMVEX////c3NwiIiJERESqqqqY\n",
       "mJh2dnZmZmYQEBDu7u4yMjJUVFTMzMyIiIi6uroAAAAs73DqAAAAAXRSTlMAQObYZgAAAPZJREFU\n",
       "KM9jYMAH+C5gFWZ9ACROM7ArgYEBVHD/792b1zEw1ADZK0ECPAUIHRxARfUPGLgYGHgvoMudB4qc\n",
       "38DAmsDAMQFd7r4AA0N8AgNnA8MrBnQ5CyDWAOowYSjDkPvNwCBlCaTTGZaiy/H8vntdFcTwYuhD\n",
       "l+P9yMAwaQOQ8YLhH7occwNQ/ivIvZhy/EA9rN/Aci3ocucDGBi4v4DNNEWSmwDznvwCICMK6FK4\n",
       "HOcnqPd4uiaA/fAIIpcAkusHain+v3v3qgCQ2DoGDgGk6EJig8KMNQEpzpAjkO0CNI6wyM0CYmkE\n",
       "FyUFbARiRuxpgvcAAwBqNEBOwzjo9wAAAABJRU5ErkJggg==\n",
       "\" style=\"display:inline;vertical-align:middle;\" /></a></td></tr>\n",
       "<tr><td>4</td><td>Literal</td><td></td><td><a class=\"ProveItLink\" href=\"../../../__pv_it/68a87cc3370287d726c7086ace789e680e4461c30/expr.ipynb\"><img src=\"data:image/png;base64,iVBORw0KGgoAAAANSUhEUgAAAA4AAAAOBAMAAADtZjDiAAAAFVBMVEX///92dnbMzMxEREQiIiJm\n",
       "ZmYAAABAT6GXAAAAAXRSTlMAQObYZgAAABhJREFUCNdjCHEBAWcGIFBlgABa0YpADAAxegPJJk4d\n",
       "XAAAAABJRU5ErkJggg==\n",
       "\" style=\"display:inline;vertical-align:middle;\" /></a></td></tr>\n",
       "<tr><td>5</td><td>Variable</td><td></td><td><a class=\"ProveItLink\" href=\"../../../../../__pv_it/077b2ff79244fb4582cbe22c6e3356fa92a52f2f0/expr.ipynb\"><img src=\"data:image/png;base64,iVBORw0KGgoAAAANSUhEUgAAABAAAAAOBAMAAADUAYG5AAAAMFBMVEX///+qqqru7u4iIiJ2dnbc\n",
       "3NyIiIjMzMxmZmYQEBC6uroyMjJERERUVFSYmJgAAADLUcuvAAAAAXRSTlMAQObYZgAAAGpJREFU\n",
       "CNdjYGB4+//u3dMLGIBgDgMDxy8gzf4NiP8CGWxfGRj4vgAZPBMYGJgnARn8FxhY9ygAGfXX0pof\n",
       "gDTlBzAw2YIYJ0EckBBI53sHoBH/gIz7AhBjWH9DjancBLTl/N+7t/cxMAAA3u4f/5xagjYAAAAA\n",
       "SUVORK5CYII=\n",
       "\" style=\"display:inline;vertical-align:middle;\" /></a></td></tr>\n",
       "</table>\n"
      ],
      "text/plain": [
       "0. (TRUE => B)\n",
       "   core type: ExprTuple\n",
       "   sub-expressions: 1\n",
       "1. TRUE => B\n",
       "   core type: Operation\n",
       "   operator: 2\n",
       "   operands: 3\n",
       "2. =>\n",
       "   core type: Literal\n",
       "   sub-expressions: \n",
       "3. (TRUE , B)\n",
       "   core type: ExprTuple\n",
       "   sub-expressions: 4, 5\n",
       "4. TRUE\n",
       "   core type: Literal\n",
       "   sub-expressions: \n",
       "5. B\n",
       "   core type: Variable\n",
       "   sub-expressions: "
      ]
     },
     "execution_count": 4,
     "metadata": {},
     "output_type": "execute_result"
    }
   ],
   "source": [
    "# display the expression information\n",
    "expr.exprInfo()"
   ]
  },
  {
   "cell_type": "code",
   "execution_count": null,
   "metadata": {},
   "outputs": [],
   "source": []
  }
 ],
 "metadata": {
  "kernelspec": {
   "display_name": "Python 3",
   "language": "python",
   "name": "python3"
  }
 },
 "nbformat": 4,
 "nbformat_minor": 0
}
