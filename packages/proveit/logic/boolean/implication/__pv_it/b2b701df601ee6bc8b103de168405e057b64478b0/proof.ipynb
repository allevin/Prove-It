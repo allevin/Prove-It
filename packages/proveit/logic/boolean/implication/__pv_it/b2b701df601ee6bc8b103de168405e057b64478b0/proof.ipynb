{
 "cells": [
  {
   "cell_type": "markdown",
   "metadata": {},
   "source": [
    "Show the Proof\n",
    "========"
   ]
  },
  {
   "cell_type": "code",
   "execution_count": 1,
   "metadata": {},
   "outputs": [
    {
     "data": {
      "text/html": [
       "<table><tr><th>&nbsp;</th><th>step type</th><th>requirements</th><th>statement</th></tr>\n",
       "<tr><td>0</td><td>assumption</td><td></td><td><span style=\"font-size:20px;\"><a class=\"ProveItLink\" href=\"../dd59bfe212a147cd18f229a76702b59483e1603d0/expr.ipynb\"><img src=\"data:image/png;base64,iVBORw0KGgoAAAANSUhEUgAAAI8AAAAVBAMAAACNsKCFAAAAMFBMVEX////c3NxERESqqqpUVFS6\n",
       "urrMzMwyMjIQEBCIiIh2dnYiIiLu7u5mZmaYmJgAAABXZE4RAAAAAXRSTlMAQObYZgAAAhhJREFU\n",
       "OMulVDtIxEAQnfvlLmcud2AhVgoWWghaCFbCKelNqWBxhaDd2Yg24omojYWVYCEe2KgoWPoBvU7B\n",
       "Riy0EFQEEbTwdyKKv5lkL5lNAhYu7Mxk8/bN7nwWAPQL+N9Q1jKktB2Svd6/N4F7fDDdJKZJMtVH\n",
       "MrOSi02AVC7ItwvTu8tG1zDAKX2ckUgWUMRLHB8n7qEAIg5L1ANcmhAne8UhWpDw958o7txvrWJw\n",
       "WH4OZxb0okQ0y3lCHU8oDwMOwmFLGOGHImgFThST7qGqryjDrc5CTIRGgjXh3EIPDZwoVeREfZFv\n",
       "Wj92V1ZtJcHKADXNqDcqRCl0E79iCM1U3lFFLPfnuzT2bVIOU8oLi3tktON8IGMQKyFhii1UUzEI\n",
       "fZEqMPJ200oUg6kYxyO6cg95QEf902ikTbGhn6ZhPJPLR37KUdMDC6MflUKQp4VGPGtPzkOE9oyX\n",
       "aGAdPERpPI3+IYiqKHhRjEWi1UVEKBvO1ewY7TbbNchgeTxD9EVczYpREvshfOUiqlGNUw+wXLfZ\n",
       "isOojOoIcsvT76RaAY1+tpSk9IcEJ4NRGSkzJZ5+qyA3nT1Nbxm4/hnDTJgOUTgjCtKBwcmPYYxY\n",
       "BxyWWmTC36CsRZSKEQCTW4R3qKeapREAS85ViHT/M2J5+usZEePAeY+0bQpN1guIZgKI/DDopKtP\n",
       "2W/dMopaL2A+8Kn1wdSceLN/AdmKklVQlm4mAAAAAElFTkSuQmCC\n",
       "\" style=\"display:inline;vertical-align:middle;\" /></a> <a class=\"ProveItLink\" href=\"proof.ipynb\" style=\"text-decoration: none\">&#x22A2;&nbsp;</a><a class=\"ProveItLink\" href=\"../ded3a0141eeb85ea08680f17e0e8686de7fdeea00/expr.ipynb\"><img src=\"data:image/png;base64,iVBORw0KGgoAAAANSUhEUgAAAHkAAAAVBAMAAACQ4lxbAAAAMFBMVEX////c3NwiIiJERESqqqqY\n",
       "mJh2dnZmZmYQEBDu7u4yMjJUVFTMzMyIiIi6uroAAAAs73DqAAAAAXRSTlMAQObYZgAAAb5JREFU\n",
       "OMulk79Lw1AQx7/R/rbVgk46CDo6qKAgLu3sopODgnZzEoqDk2BBF5eaUTpIRRRcal0N0uIkOLR/\n",
       "gNLgJLrUQcUWq3dpYi5JQcHAe9/H5XPv3bu7B/zv6626DH79TxhWeLp1mK5pbHXyFtjyl6bN6giW\n",
       "aX3mgM5pRDp5S2wHCLaAPBBzROQfV2lK2QbVVIlFP2k0gUUgpErvge04EM54j5RY7IVOeAMOgCdH\n",
       "fNUap2zKNjybKrFu2r1rjzSJTUdi1fkFkjXbEjAjllhfEcoxxRJI40R6H6LC9ByvgyPG997+I7HK\n",
       "1f0GH+LLI2txnCodw2mSR4H6CoZIrBZHeIwjzaBlJbJIQ9NKE7y5jCeX5VliM6Q1Ojxad5h7Kbd5\n",
       "l3f0VHV7U7GwmjK8d4U5SbnMWJGb9x5tl0pg0VfSUtKIfNo2K2SJ1Gm9JK5dbKvAuNxKg1srb1en\n",
       "jBzX8sNZsUFTBcblvuEuooo9/ID9+0fwJxqU9ILtPWmqjQUTTe3SKGBERyjueRCyU8tWp3ox7lT5\n",
       "JFz95Xg+XgzrnhdqVPi3F2qGyMUd8pgvOnl7sR6+jOKOM1bu5O3BcAd8A2d2dgqZB/CrAAAAAElF\n",
       "TkSuQmCC\n",
       "\" style=\"display:inline;vertical-align:middle;\" /></a></span></td></tr>\n",
       "</table>"
      ],
      "text/plain": [
       "<proveit._core_.proof._ShowProof at 0x7f950c6844e0>"
      ]
     },
     "execution_count": 1,
     "metadata": {},
     "output_type": "execute_result"
    }
   ],
   "source": [
    "import proveit\n",
    "%show_proof"
   ]
  },
  {
   "cell_type": "code",
   "execution_count": null,
   "metadata": {},
   "outputs": [],
   "source": []
  }
 ],
 "metadata": {
  "kernelspec": {
   "display_name": "Python 3",
   "language": "python",
   "name": "python3"
  }
 },
 "nbformat": 4,
 "nbformat_minor": 0
}
