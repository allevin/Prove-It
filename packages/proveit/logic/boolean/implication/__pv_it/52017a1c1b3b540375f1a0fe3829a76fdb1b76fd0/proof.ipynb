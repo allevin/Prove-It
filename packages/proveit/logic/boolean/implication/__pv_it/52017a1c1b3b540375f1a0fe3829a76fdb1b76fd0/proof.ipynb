{
 "cells": [
  {
   "cell_type": "markdown",
   "metadata": {},
   "source": [
    "Show the Proof\n",
    "========"
   ]
  },
  {
   "cell_type": "code",
   "execution_count": 1,
   "metadata": {},
   "outputs": [
    {
     "data": {
      "text/html": [
       "<table><tr><th>&nbsp;</th><th>step type</th><th>requirements</th><th>statement</th></tr>\n",
       "<tr><td>0</td><td>assumption</td><td></td><td><span style=\"font-size:20px;\"><a class=\"ProveItLink\" href=\"../ae89fd7e4aa536b495cb27693ab3cd97f8cd66230/expr.ipynb\"><img src=\"data:image/png;base64,iVBORw0KGgoAAAANSUhEUgAAAFMAAAAVBAMAAADInc9CAAAAMFBMVEX///9ERETc3NyqqqpUVFS6\n",
       "urrMzMwyMjIQEBCIiIh2dnYiIiLu7u5mZmaYmJgAAABJJ2g3AAAAAXRSTlMAQObYZgAAAStJREFU\n",
       "KM9jYGDgu8dACLCtUgBRPLsYCAO2ZhDJ+QHM0cSu5sl/FxfxAAaG6yAOVwNYLBeHeY0MDLxfGRhW\n",
       "EFbK9hOIv+BSyo7M4/wE9PcvXEpnAjGjApTDCJTl7sGhlK0ASDAVQHn8DgxMhQegSnkLUJVmdO8G\n",
       "gu8HILx8z5m3HwDp92CpABSlnDVgirUUwp2vwMCzBeSBCwwMKW0MyEp5GqFaNBzAlARIOchYcSAR\n",
       "kYBi6pELYIqpEsL9ArJ8AdBrQMzAguZW691gAAkCtn9Awt8A6lauDahKmUE282xCBCvTdwZc4XoZ\n",
       "ZFUAIlgzapCV3t69e8fu3Rsh0seBWBHC5JX/4uJex4BmKlK0A/EZ9LSAXSlWAFbKR5RScHrl2UlM\n",
       "LmgFU3yLictbAA1xVjACiBk2AAAAAElFTkSuQmCC\n",
       "\" style=\"display:inline;vertical-align:middle;\" /></a> <a class=\"ProveItLink\" href=\"proof.ipynb\" style=\"text-decoration: none\">&#x22A2;&nbsp;</a><a class=\"ProveItLink\" href=\"../c4acb0f010fe4368ae11d402d6ed8461e28a5c840/expr.ipynb\"><img src=\"data:image/png;base64,iVBORw0KGgoAAAANSUhEUgAAAEAAAAAPBAMAAACmSdRUAAAAMFBMVEX///92dnaYmJiqqqpUVFS6\n",
       "urru7u4yMjJEREQQEBAiIiJmZmbMzMyIiIjc3NwAAACFNIopAAAAAXRSTlMAQObYZgAAANJJREFU\n",
       "GNNjYGBgeMuAFaj8d3FpDwCxTmNXwDCDgYH7Kx4FPH+B+AuqAnZkHu8/Bgamj6gK7gIxxwMoh2MC\n",
       "AwPXNBQFPAVAgq8AyuN3YOCrSEBRcHLWKiD4ngDhnfe9u0uBAVkBbxmYYi2FcO8/YGBbgqyAbQZU\n",
       "4UsHMNUJUqSAbELKBjDFVwvhgnyoL4DiBqtVYADxBs8nIOFvgKKAGWQ22zpEMPB9Z0ANh81AzBKA\n",
       "CIaTQGfvWrVq5apVKyCC6UD8AsLk7v/i4l6EEfxAnIYqBABzzD/ECDea6AAAAABJRU5ErkJggg==\n",
       "\" style=\"display:inline;vertical-align:middle;\" /></a></span></td></tr>\n",
       "</table>"
      ],
      "text/plain": [
       "<proveit._core_.proof._ShowProof at 0x7f9500092828>"
      ]
     },
     "execution_count": 1,
     "metadata": {},
     "output_type": "execute_result"
    }
   ],
   "source": [
    "import proveit\n",
    "%show_proof"
   ]
  },
  {
   "cell_type": "code",
   "execution_count": null,
   "metadata": {},
   "outputs": [],
   "source": []
  }
 ],
 "metadata": {
  "kernelspec": {
   "display_name": "Python 3",
   "language": "python",
   "name": "python3"
  }
 },
 "nbformat": 4,
 "nbformat_minor": 0
}
