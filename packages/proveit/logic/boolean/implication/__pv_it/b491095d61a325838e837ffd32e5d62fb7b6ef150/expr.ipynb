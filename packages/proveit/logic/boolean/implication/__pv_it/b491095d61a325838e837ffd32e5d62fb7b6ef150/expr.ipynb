{
 "cells": [
  {
   "cell_type": "markdown",
   "metadata": {},
   "source": [
    "Expression of type <a class=\"ProveItLink\" href=\"../../../../../../../doc/html/api/proveit.logic.Equals.html\">Equals</a>\n",
    "=======================\n",
    "# from context <a class=\"ProveItLink\" href=\"../../_context_.ipynb\">proveit.logic.boolean.implication</a>"
   ]
  },
  {
   "cell_type": "code",
   "execution_count": 1,
   "metadata": {},
   "outputs": [],
   "source": [
    "# import Expression classes needed to build the expression\n",
    "from proveit.logic import And, Equals, FALSE, Implies, TRUE\n",
    "from proveit.logic.boolean.implication._theorems_ import falseImpliesTrue"
   ]
  },
  {
   "cell_type": "code",
   "execution_count": 2,
   "metadata": {},
   "outputs": [
    {
     "data": {
      "text/html": [
       "<strong id=\"expr\">expr:</strong> <a class=\"ProveItLink\" href=\"expr.ipynb\"><img src=\"data:image/png;base64,iVBORw0KGgoAAAANSUhEUgAAAPIAAAAVBAMAAACOB66tAAAAMFBMVEX////c3NwiIiJERESqqqqY\n",
       "mJh2dnZmZmYQEBDu7u4yMjJUVFTMzMyIiIi6uroAAAAs73DqAAAAAXRSTlMAQObYZgAAAiBJREFU\n",
       "SMfFljtLA0EQx8eY950xrREhJI2dD7CwSydokyqlpBGxCAQRCysFG5twZUh1KXxEQfIRUilokw8Q\n",
       "4bCMCHZ24s3unZfbmeWSyoXN7t3cb/63s7NzAfi/lhu6P5+Rj+2zXDSzrze/ut3s42yFMx+XsJUh\n",
       "NSBcSphK6xwmfCFDuECp5/ashbNnzbvJ+7Z3teSNyIHZjGRsnXUBg/YGRDmjeql5V7dyEJyibHFM\n",
       "TaecxsevqHLWUry05YW5KQ2CU5R7wDBtnfIYk8Wmyrm+4mW+IgbjU2bWGKjyBzCMx1HlU8yEOlWG\n",
       "huIlKUU6UASfU5WTQ4ZJNjXK1xjZakhZpvNaM+wlLgNzACfgc4Gyl+bfQBnJnd1je5i0tnDPHGbN\n",
       "sOuEvOTOxVCEAvgcye34IxDG4+iaf9y+yCpn7pxJL+YX/iaGYAx8jp6qTgtURnIzKb8cAVWOWV7Z\n",
       "YZXNG2t65UuMdoXZ59I2MNHecXvX58g+ly1dtP1SOGHdwuSvMmveU7IlITKl66kLTl1zvM8wCVuz\n",
       "5sPgwISU52zuVJlYpGM+pyoXYJZT9Y5BKYpwrAbhcOOQ/5s+yaKGyWA4fuF8l8r1SYcbwXZJX8hk\n",
       "HfoNEtY0KlzQ1zLVG6IK5sQUfaXzlBlwTFv3kUzUNVVdbQ2Gm4ZpaK298OdB1zI2w03BZGyteRnT\n",
       "qR/pxcgz3BSMkdea54a6vyOhNmK5aGakM/4C9+Ch/koCsqMAAAAASUVORK5CYII=\n",
       "\" style=\"display:inline;vertical-align:middle;\" /></a><br>"
      ],
      "text/plain": [
       "expr: ((FALSE => TRUE) and (TRUE => FALSE)) = FALSE"
      ]
     },
     "execution_count": 2,
     "metadata": {},
     "output_type": "execute_result"
    }
   ],
   "source": [
    "# build up the expression from sub-expressions\n",
    "expr = Equals(And(falseImpliesTrue.expr, Implies(TRUE, FALSE)), FALSE)"
   ]
  },
  {
   "cell_type": "code",
   "execution_count": 3,
   "metadata": {},
   "outputs": [
    {
     "name": "stdout",
     "output_type": "stream",
     "text": [
      "Passed sanity check: built 'expr' is the same as the stored Expression.\n"
     ]
    }
   ],
   "source": [
    "# check that the built expression is the same as the stored expression\n",
    "%check_expr"
   ]
  },
  {
   "cell_type": "code",
   "execution_count": 4,
   "metadata": {},
   "outputs": [
    {
     "data": {
      "text/html": [
       "<table><tr><th>&nbsp;</th><th>core type</th><th>sub-expressions</th><th>expression</th></tr>\n",
       "<tr><td>0</td><td>Operation</td><td>operator:&nbsp;1<br>operands:&nbsp;2<br></td><td><a class=\"ProveItLink\" href=\"expr.ipynb\"><img src=\"data:image/png;base64,iVBORw0KGgoAAAANSUhEUgAAAPIAAAAVBAMAAACOB66tAAAAMFBMVEX////c3NwiIiJERESqqqqY\n",
       "mJh2dnZmZmYQEBDu7u4yMjJUVFTMzMyIiIi6uroAAAAs73DqAAAAAXRSTlMAQObYZgAAAiBJREFU\n",
       "SMfFljtLA0EQx8eY950xrREhJI2dD7CwSydokyqlpBGxCAQRCysFG5twZUh1KXxEQfIRUilokw8Q\n",
       "4bCMCHZ24s3unZfbmeWSyoXN7t3cb/63s7NzAfi/lhu6P5+Rj+2zXDSzrze/ut3s42yFMx+XsJUh\n",
       "NSBcSphK6xwmfCFDuECp5/ashbNnzbvJ+7Z3teSNyIHZjGRsnXUBg/YGRDmjeql5V7dyEJyibHFM\n",
       "TaecxsevqHLWUry05YW5KQ2CU5R7wDBtnfIYk8Wmyrm+4mW+IgbjU2bWGKjyBzCMx1HlU8yEOlWG\n",
       "huIlKUU6UASfU5WTQ4ZJNjXK1xjZakhZpvNaM+wlLgNzACfgc4Gyl+bfQBnJnd1je5i0tnDPHGbN\n",
       "sOuEvOTOxVCEAvgcye34IxDG4+iaf9y+yCpn7pxJL+YX/iaGYAx8jp6qTgtURnIzKb8cAVWOWV7Z\n",
       "YZXNG2t65UuMdoXZ59I2MNHecXvX58g+ly1dtP1SOGHdwuSvMmveU7IlITKl66kLTl1zvM8wCVuz\n",
       "5sPgwISU52zuVJlYpGM+pyoXYJZT9Y5BKYpwrAbhcOOQ/5s+yaKGyWA4fuF8l8r1SYcbwXZJX8hk\n",
       "HfoNEtY0KlzQ1zLVG6IK5sQUfaXzlBlwTFv3kUzUNVVdbQ2Gm4ZpaK298OdB1zI2w03BZGyteRnT\n",
       "qR/pxcgz3BSMkdea54a6vyOhNmK5aGakM/4C9+Ch/koCsqMAAAAASUVORK5CYII=\n",
       "\" style=\"display:inline;vertical-align:middle;\" /></a></td></tr>\n",
       "<tr><td>1</td><td>Literal</td><td></td><td><a class=\"ProveItLink\" href=\"../../../../equality/__pv_it/2fb26078095930560931daa0500ce419a39ea6cd0/expr.ipynb\"><img src=\"data:image/png;base64,iVBORw0KGgoAAAANSUhEUgAAAA4AAAAFBAMAAACHocAhAAAAFVBMVEX///9EREQiIiJUVFQyMjJm\n",
       "ZmYAAADubVkoAAAAAXRSTlMAQObYZgAAABRJREFUCNdjCHEBAWcGXCBICQQUAUpuAwlgGKrkAAAA\n",
       "AElFTkSuQmCC\n",
       "\" style=\"display:inline;vertical-align:middle;\" /></a></td></tr>\n",
       "<tr><td>2</td><td>ExprTuple</td><td>3, 12</td><td><a class=\"ProveItLink\" href=\"../de89fae408105881c460fa28f9cd4465d6dc4bfd0/expr.ipynb\"><img src=\"data:image/png;base64,iVBORw0KGgoAAAANSUhEUgAAAOEAAAAVBAMAAABCnpRGAAAAMFBMVEX////c3NwiIiJERESqqqqY\n",
       "mJh2dnZmZmYQEBDu7u4yMjJUVFTMzMyIiIi6uroAAAAs73DqAAAAAXRSTlMAQObYZgAAAfhJREFU\n",
       "SMe9VjFLw1AQvtakbWpbMiuCtIvdFOzu7OTkIChunQRx6OQg0rlmlE5dKnQR3aUUCjp0MD9AQTqJ\n",
       "LuLiVnzv3bNNLpeXTB7cu7zLfd+9vvdyV4D/l4qPmiBHHM4s9hvPMtEKGZbirCqlBvkReTGBvHpV\n",
       "3WRQyHUedK3JQbEMtELpNGatT2rsaS5Pe40Y9BdZlrKPStEejd3HSVFHmTHot4+BYSl4qBQ9oLHX\n",
       "OBnX0Zox6HcugGH5AFSK/qSxSzvKDF/RacZo/zYwLC1hWgw655PYHC67l0WnGaP9zUhGwdIXph9C\n",
       "6yv4Q2ItdXVye3n8rWaM9u9GMgqWjjAdZr1g3YZjK+pQspDBS2vGaP97JKNgmQkz49DQ7YRiS19y\n",
       "PAR4UFMzRvufIxkFS2zG0o3HZKzrcpGAMWVsC9PmzqTmMbtqiZiiC4kY0642hGkw67XuSKwtz09m\n",
       "s1ScGaP9B4G6MGdpzi9xGL0C3Ncxlk/rkIgJfB3ON2GZCjPFbbkMVuWtBdEjljfZCYbySdWAKTIH\n",
       "69gfZsElr65z5ap+sCH7gWQpiHnBjdZi2iqwyqn+U1FVLgUGq1zFDbPIahuquHFyQppfCgzWIJuy\n",
       "DMJlO06cHnGkwHSBZlQsq1oTZJnuYgrMvRp9yiLbdSb5X8cL3+ZNUh5xLL8iEptKaeNIBAAAAABJ\n",
       "RU5ErkJggg==\n",
       "\" style=\"display:inline;vertical-align:middle;\" /></a></td></tr>\n",
       "<tr><td>3</td><td>Operation</td><td>operator:&nbsp;4<br>operands:&nbsp;5<br></td><td><a class=\"ProveItLink\" href=\"../6e7fbb0aa1475f8ee56bd3700d557b1fe713839b0/expr.ipynb\"><img src=\"data:image/png;base64,iVBORw0KGgoAAAANSUhEUgAAALUAAAAVBAMAAADyYbJ0AAAAMFBMVEX////c3NwiIiJERESqqqqY\n",
       "mJh2dnZmZmYQEBDu7u4yMjJUVFTMzMyIiIi6uroAAAAs73DqAAAAAXRSTlMAQObYZgAAAYdJREFU\n",
       "OMu1lTFLw0AUx581aas5i6sVobSLoxXc3fwGjtJFOgki0tmhc8gondqhShbpR3DSoUs+gEPpqAhu\n",
       "bsXeeyn1Lv+QQzDQvHt3/98/17vcC9F/XrWkUHLxV2bKzQM0ftPUV4sqz9bAlCo81DxCGHsxE3P+\n",
       "mvN46R+m2V4amVHXRcxOkvWObN15mj1KEMb0Rkw1ynrHtu5eEnUsYmFMb8S8U9b7w9ZtnnIIPuVP\n",
       "CmN6I6YHvMuJpSuLzYAaHHvAGzFjwzvd/m9L58lmXtItx7Hhnc+EYN7kPZm62h2HBtU5hmDeiFkg\n",
       "bxqEhk596bufUMBv+gJ5AwZ6q4cIeJciUpNcb8D00Xq3IrQmZ8vfSDf6aL0BcwLm7U2sffF5L0ep\n",
       "f8qY80ZMF3jXCb2DShePkk67wBsxc6lJh7omra72WvfC9+2ZPjmz1XGfi3fnt3d7Xd/Ea8lUd7PF\n",
       "xi57cuZr3NQPcGX8jkONvzJTZyYulm0NrQ5XZr9YF9hr4MpsFH+f3uwON+YHVNJ7lJAfIlEAAAAA\n",
       "SUVORK5CYII=\n",
       "\" style=\"display:inline;vertical-align:middle;\" /></a></td></tr>\n",
       "<tr><td>4</td><td>Literal</td><td></td><td><a class=\"ProveItLink\" href=\"../../../conjunction/__pv_it/76b5f4f4c45c0b6a9b59b297fc07dfa9555698f50/expr.ipynb\"><img src=\"data:image/png;base64,iVBORw0KGgoAAAANSUhEUgAAAAwAAAAOBAMAAADpk+DfAAAALVBMVEX///+qqqqYmJh2dnaIiIi6\n",
       "urpUVFQiIiJERETMzMxmZmYyMjLu7u7c3NwAAABvwqPxAAAAAXRSTlMAQObYZgAAAEtJREFUCNdj\n",
       "YGDgPcAAAtwLwNSMGjCV6gIieTawgyhmBS4BIMXOwLsBSKkwMGQCKaC6aQwMjEBd3BdACMScAVJd\n",
       "wJAKolwYAkAUKwAk0guX6efcigAAAABJRU5ErkJggg==\n",
       "\" style=\"display:inline;vertical-align:middle;\" /></a></td></tr>\n",
       "<tr><td>5</td><td>ExprTuple</td><td>6, 7</td><td><a class=\"ProveItLink\" href=\"../8ed484d90d713dd7af84ea602baf09b346f846ac0/expr.ipynb\"><img src=\"data:image/png;base64,iVBORw0KGgoAAAANSUhEUgAAAJcAAAAVBAMAAAC5yWGZAAAAMFBMVEX////c3NwiIiJERESqqqqY\n",
       "mJh2dnZmZmYQEBDu7u4yMjJUVFTMzMyIiIi6uroAAAAs73DqAAAAAXRSTlMAQObYZgAAASlJREFU\n",
       "OMtjYKAq4LtAHXPiQMRpMFMWm3yREggog9nsYLaSATZ1YM3sB4DESjD/OA77kMV5CvAqWsDAwHsB\n",
       "07AJxBiGoSiMgYFjAqZhK4kxDEPRDAaGV5iaGF4TYxiGImYHhjIshrFdIMIwDEVsBQxLUTRB4+w7\n",
       "XsNwKGJZwNCHxWUMLOuIiE10RXwNDP+wGcYwq4+IpIGmiOcDdsN4lk0gbBi6IqBhLdjCTHkCEWGG\n",
       "rgjoTVMsLmPZgBq2nNhchq6IgXUBQzoWw6TQktB8BSyGoSsCJY1HkAytAcvQIGCIUHcMnLY/QgxL\n",
       "QDbMEFEaQDRzPWDgEMDMuAfQBR4yEKEImJ1YE4goqwKIKdByUTMsRYZxAosgBmnC6niJcRg3KLwY\n",
       "qVRs32FgAABwBVpmKOh66QAAAABJRU5ErkJggg==\n",
       "\" style=\"display:inline;vertical-align:middle;\" /></a></td></tr>\n",
       "<tr><td>6</td><td>Operation</td><td>operator:&nbsp;9<br>operands:&nbsp;8<br></td><td><a class=\"ProveItLink\" href=\"../5c89411a8c468da13cdc01880daaa573c582a8db0/expr.ipynb\"><img src=\"data:image/png;base64,iVBORw0KGgoAAAANSUhEUgAAAD8AAAAPBAMAAAChCwpBAAAALVBMVEX///+qqqp2dnZUVFS6uroy\n",
       "MjLu7u5EREQQEBAiIiJmZmbMzMyIiIjc3NwAAAAGhiwUAAAAAXRSTlMAQObYZgAAAGVJREFUGNNj\n",
       "YGBguMOABXDNBIMCEHsXA3bAvQDKQFHARkgBawIBBSwGBBQw6OBWsBLs7nkLCJjAIOpAQAFbhAN+\n",
       "BVvV8LthZhkBNwgT8CZvAJoCoLkzZs6cDhdlv4BQoIA1htD4AF7PJ5Q+t8orAAAAAElFTkSuQmCC\n",
       "\" style=\"display:inline;vertical-align:middle;\" /></a></td></tr>\n",
       "<tr><td>7</td><td>Operation</td><td>operator:&nbsp;9<br>operands:&nbsp;10<br></td><td><a class=\"ProveItLink\" href=\"../c65898187aa5a4404b8e436d28e20f1178f211670/expr.ipynb\"><img src=\"data:image/png;base64,iVBORw0KGgoAAAANSUhEUgAAAD8AAAAPBAMAAAChCwpBAAAALVBMVEX////c3NwQEBCqqqqIiIhU\n",
       "VFS6uroyMjLu7u52dnbMzMxEREQiIiJmZmYAAACG8MiSAAAAAXRSTlMAQObYZgAAAGJJREFUGNNj\n",
       "uHMGBE4zYAGMDlDGWgbsgOsCNgUchBSwNxBQwBZAQAHDFNwKIB46d4GACQzmCQQUcBQl4FewfAZ+\n",
       "N5zZQcANpgS8yViAqWAlsgJuAQjNC7RM58yZDZgxhMYHACe9L414BCJLAAAAAElFTkSuQmCC\n",
       "\" style=\"display:inline;vertical-align:middle;\" /></a></td></tr>\n",
       "<tr><td>8</td><td>ExprTuple</td><td>12, 11</td><td><a class=\"ProveItLink\" href=\"../f33a8d5708d13f20cb034555a092a5521deab66a0/expr.ipynb\"><img src=\"data:image/png;base64,iVBORw0KGgoAAAANSUhEUgAAADUAAAAVBAMAAAAUZLt1AAAAMFBMVEX////c3NwiIiJERESqqqqY\n",
       "mJh2dnZmZmYQEBDu7u4yMjJUVFTMzMyIiIi6uroAAAAs73DqAAAAAXRSTlMAQObYZgAAALBJREFU\n",
       "KM9jYMAH+C5gFY4DEadBBCNcQZESCCgzsB8AclaCRHgKkLQcB5MLGBh4L+CQC2Ng4JiAQ24GA8Mr\n",
       "BhxyzA4MZbjk2AoYluKSY1nA0IdLjq+B4R8uOZ4PeOVa8JhpiiQ3AVmOdQFDOkKO8xOaHx4xMLAD\n",
       "A7dJScmAs18ALHoMTHI9YOAQQIouJDYozFgTEFxW5AjMhcURphwnMI4YpBF85BTALYAS5SjgDgMD\n",
       "AMUhLsE7xITaAAAAAElFTkSuQmCC\n",
       "\" style=\"display:inline;vertical-align:middle;\" /></a></td></tr>\n",
       "<tr><td>9</td><td>Literal</td><td></td><td><a class=\"ProveItLink\" href=\"../e5c030cabcb650938f92dee8256fe11cd12bf9b30/expr.ipynb\"><img src=\"data:image/png;base64,iVBORw0KGgoAAAANSUhEUgAAABMAAAANBAMAAAC5okgUAAAALVBMVEX////c3NxERETMzMwQEBCq\n",
       "qqoiIiJmZmaIiIh2dnZUVFS6uroyMjLu7u4AAACPpZJTAAAAAXRSTlMAQObYZgAAAD1JREFUCNdj\n",
       "YAABXgY44LkAZ3IvQAjPABFlaSCQV4AQjtkAZ/IegbNt5sLUpunC5aPgLMYDcCaTAJzJDCIA2yMN\n",
       "HCCUuIIAAAAASUVORK5CYII=\n",
       "\" style=\"display:inline;vertical-align:middle;\" /></a></td></tr>\n",
       "<tr><td>10</td><td>ExprTuple</td><td>11, 12</td><td><a class=\"ProveItLink\" href=\"../0f60990fe1c69084ca218cead46950bf14732b6a0/expr.ipynb\"><img src=\"data:image/png;base64,iVBORw0KGgoAAAANSUhEUgAAADUAAAAVBAMAAAAUZLt1AAAAMFBMVEX////c3NwiIiJERESqqqqY\n",
       "mJh2dnZmZmYQEBDu7u4yMjJUVFTMzMyIiIi6uroAAAAs73DqAAAAAXRSTlMAQObYZgAAALFJREFU\n",
       "KM9jYMAH+C5gFY4DEacZ2JXAwAAmLAsi2A8AiZUgFk8BkpbjYHIBAwPvBRxyYQwMHBNwyM1gYHjF\n",
       "gEOO2YGhDJccWwHDUlxyLAsY+nDJ8TUw/MMlx/MBr1wLHjNNkeQmIMuxLmBIR8hxfkLzwyOIXAJI\n",
       "rl+AgaFISUlDSUmZgYHrAQOHAFJ0IbFBYcaagOCyIkdgLiyOMOU4gXHEII3gI6cAbpD5jNjTxB0G\n",
       "BgCWci1ZX87w6gAAAABJRU5ErkJggg==\n",
       "\" style=\"display:inline;vertical-align:middle;\" /></a></td></tr>\n",
       "<tr><td>11</td><td>Literal</td><td></td><td><a class=\"ProveItLink\" href=\"../../../__pv_it/68a87cc3370287d726c7086ace789e680e4461c30/expr.ipynb\"><img src=\"data:image/png;base64,iVBORw0KGgoAAAANSUhEUgAAAA4AAAAOBAMAAADtZjDiAAAAFVBMVEX///92dnbMzMxEREQiIiJm\n",
       "ZmYAAABAT6GXAAAAAXRSTlMAQObYZgAAABhJREFUCNdjCHEBAWcGIFBlgABa0YpADAAxegPJJk4d\n",
       "XAAAAABJRU5ErkJggg==\n",
       "\" style=\"display:inline;vertical-align:middle;\" /></a></td></tr>\n",
       "<tr><td>12</td><td>Literal</td><td></td><td><a class=\"ProveItLink\" href=\"../../../__pv_it/8f1f7fac882de28c72b62ab80a1700b6d8fd066b0/expr.ipynb\"><img src=\"data:image/png;base64,iVBORw0KGgoAAAANSUhEUgAAAA4AAAAOBAMAAADtZjDiAAAAG1BMVEX///9EREQQEBAiIiJmZmbM\n",
       "zMyIiIjc3NwAAACryk5kAAAAAXRSTlMAQObYZgAAABlJREFUCNdjYGBgKGOAgBBa0s7GxkbGxoYA\n",
       "FMUF2aBfHgoAAAAASUVORK5CYII=\n",
       "\" style=\"display:inline;vertical-align:middle;\" /></a></td></tr>\n",
       "</table>\n"
      ],
      "text/plain": [
       "0. ((FALSE => TRUE) and (TRUE => FALSE)) = FALSE\n",
       "   core type: Operation\n",
       "   operator: 1\n",
       "   operands: 2\n",
       "1. =\n",
       "   core type: Literal\n",
       "   sub-expressions: \n",
       "2. ((FALSE => TRUE) and (TRUE => FALSE) , FALSE)\n",
       "   core type: ExprTuple\n",
       "   sub-expressions: 3, 12\n",
       "3. (FALSE => TRUE) and (TRUE => FALSE)\n",
       "   core type: Operation\n",
       "   operator: 4\n",
       "   operands: 5\n",
       "4. and\n",
       "   core type: Literal\n",
       "   sub-expressions: \n",
       "5. (FALSE => TRUE , TRUE => FALSE)\n",
       "   core type: ExprTuple\n",
       "   sub-expressions: 6, 7\n",
       "6. FALSE => TRUE\n",
       "   core type: Operation\n",
       "   operator: 9\n",
       "   operands: 8\n",
       "7. TRUE => FALSE\n",
       "   core type: Operation\n",
       "   operator: 9\n",
       "   operands: 10\n",
       "8. (FALSE , TRUE)\n",
       "   core type: ExprTuple\n",
       "   sub-expressions: 12, 11\n",
       "9. =>\n",
       "   core type: Literal\n",
       "   sub-expressions: \n",
       "10. (TRUE , FALSE)\n",
       "    core type: ExprTuple\n",
       "    sub-expressions: 11, 12\n",
       "11. TRUE\n",
       "    core type: Literal\n",
       "    sub-expressions: \n",
       "12. FALSE\n",
       "    core type: Literal\n",
       "    sub-expressions: "
      ]
     },
     "execution_count": 4,
     "metadata": {},
     "output_type": "execute_result"
    }
   ],
   "source": [
    "# display the expression information\n",
    "expr.exprInfo()"
   ]
  },
  {
   "cell_type": "code",
   "execution_count": null,
   "metadata": {},
   "outputs": [],
   "source": []
  }
 ],
 "metadata": {
  "kernelspec": {
   "display_name": "Python 3",
   "language": "python",
   "name": "python3"
  }
 },
 "nbformat": 4,
 "nbformat_minor": 0
}
