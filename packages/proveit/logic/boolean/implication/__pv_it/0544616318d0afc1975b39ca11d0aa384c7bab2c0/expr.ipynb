{
 "cells": [
  {
   "cell_type": "markdown",
   "metadata": {},
   "source": [
    "Expression of type <a class=\"ProveItLink\" href=\"../../../../../../../doc/html/api/proveit.logic.Set.html\">Set</a>\n",
    "=======================\n",
    "# from context <a class=\"ProveItLink\" href=\"../../_context_.ipynb\">proveit.logic.boolean.implication</a>"
   ]
  },
  {
   "cell_type": "code",
   "execution_count": 1,
   "metadata": {},
   "outputs": [],
   "source": [
    "# import Expression classes needed to build the expression\n",
    "from proveit._common_ import A, B\n",
    "from proveit.logic import Iff, Set"
   ]
  },
  {
   "cell_type": "code",
   "execution_count": 2,
   "metadata": {},
   "outputs": [
    {
     "data": {
      "text/html": [
       "<strong id=\"expr\">expr:</strong> <a class=\"ProveItLink\" href=\"expr.ipynb\"><img src=\"data:image/png;base64,iVBORw0KGgoAAAANSUhEUgAAAG0AAAAVBAMAAAC+p33JAAAAMFBMVEX///9ERETc3NyqqqpUVFS6\n",
       "urrMzMwyMjIQEBCIiIh2dnYiIiLu7u5mZmaYmJgAAABJJ2g3AAAAAXRSTlMAQObYZgAAAZFJREFU\n",
       "OMtjYGDgu8dAEmBbpQCieHYxkAjYmkEk5wcobwMWJXz+X1wcS9E510E8rgaIKPsHbGZzCDAw3A9A\n",
       "46xA1vf6DzZ9+ROA2AGNg6yPyfYTVJYdiHNh+uYDw+D9AjQOsj5Ozq9Q2ZlAzKgA5UgA8Y4DaBxk\n",
       "fTHM/6DhUwCyvQCq9AsDg7oMAxoHrI8XrIQngO0nRDKjezcQfIfYwfZl5tx98PCHcd6D1YFDi5WB\n",
       "6S/EvTVgihUS+JxAT5+GBQucw36BgSGlDSyW4uLyEWxvI1SRBlg1I9ATnFAPIHHEHzAwRCSAWEBL\n",
       "28GSRy5AgrcSTPEDdfP9guqDc7hBAcwC8h8zKKQgsta7wQASoPlAg1k+w6IPxgH7jwuUvpSBuB4i\n",
       "ywxyIM8mRIzpAw0+gMxBxAMPiCcPjabLIEcEwGOMrf0AA89vJA5CH5PEdwWGh/9rIWqPA7EihHnx\n",
       "v4tLOdB1PP0KCA5a+kRkEyA+gybGqoDMw64PG+BjwNDHR7o+cP7j2UmEvgkoHmmFmLWYjPIFAIBF\n",
       "fLvdtJgOAAAAAElFTkSuQmCC\n",
       "\" style=\"display:inline;vertical-align:middle;\" /></a><br>"
      ],
      "text/plain": [
       "expr: {A <=> B , B}"
      ]
     },
     "execution_count": 2,
     "metadata": {},
     "output_type": "execute_result"
    }
   ],
   "source": [
    "# build up the expression from sub-expressions\n",
    "expr = Set(Iff(A, B), B)"
   ]
  },
  {
   "cell_type": "code",
   "execution_count": 3,
   "metadata": {},
   "outputs": [
    {
     "name": "stdout",
     "output_type": "stream",
     "text": [
      "Passed sanity check: built 'expr' is the same as the stored Expression.\n"
     ]
    }
   ],
   "source": [
    "# check that the built expression is the same as the stored expression\n",
    "%check_expr"
   ]
  },
  {
   "cell_type": "code",
   "execution_count": 4,
   "metadata": {},
   "outputs": [
    {
     "data": {
      "text/html": [
       "<table><tr><th>&nbsp;</th><th>core type</th><th>sub-expressions</th><th>expression</th></tr>\n",
       "<tr><td>0</td><td>Operation</td><td>operator:&nbsp;1<br>operands:&nbsp;2<br></td><td><a class=\"ProveItLink\" href=\"expr.ipynb\"><img src=\"data:image/png;base64,iVBORw0KGgoAAAANSUhEUgAAAG0AAAAVBAMAAAC+p33JAAAAMFBMVEX///9ERETc3NyqqqpUVFS6\n",
       "urrMzMwyMjIQEBCIiIh2dnYiIiLu7u5mZmaYmJgAAABJJ2g3AAAAAXRSTlMAQObYZgAAAZFJREFU\n",
       "OMtjYGDgu8dAEmBbpQCieHYxkAjYmkEk5wcobwMWJXz+X1wcS9E510E8rgaIKPsHbGZzCDAw3A9A\n",
       "46xA1vf6DzZ9+ROA2AGNg6yPyfYTVJYdiHNh+uYDw+D9AjQOsj5Ozq9Q2ZlAzKgA5UgA8Y4DaBxk\n",
       "fTHM/6DhUwCyvQCq9AsDg7oMAxoHrI8XrIQngO0nRDKjezcQfIfYwfZl5tx98PCHcd6D1YFDi5WB\n",
       "6S/EvTVgihUS+JxAT5+GBQucw36BgSGlDSyW4uLyEWxvI1SRBlg1I9ATnFAPIHHEHzAwRCSAWEBL\n",
       "28GSRy5AgrcSTPEDdfP9guqDc7hBAcwC8h8zKKQgsta7wQASoPlAg1k+w6IPxgH7jwuUvpSBuB4i\n",
       "ywxyIM8mRIzpAw0+gMxBxAMPiCcPjabLIEcEwGOMrf0AA89vJA5CH5PEdwWGh/9rIWqPA7EihHnx\n",
       "v4tLOdB1PP0KCA5a+kRkEyA+gybGqoDMw64PG+BjwNDHR7o+cP7j2UmEvgkoHmmFmLWYjPIFAIBF\n",
       "fLvdtJgOAAAAAElFTkSuQmCC\n",
       "\" style=\"display:inline;vertical-align:middle;\" /></a></td></tr>\n",
       "<tr><td>1</td><td>Literal</td><td></td><td><a class=\"ProveItLink\" href=\"../../../../set_theory/enumeration/__pv_it/07381ed5b23806e8d7914b78cb6667769e3708dd0/expr.ipynb\"><img src=\"data:image/png;base64,iVBORw0KGgoAAAANSUhEUgAAAB4AAAAOBAMAAADKyLEKAAAAMFBMVEX///8iIiIQEBCIiIjMzMzc\n",
       "3Nyqqqp2dnZEREQyMjK6urru7u5mZmZUVFSYmJgAAACI6eGPAAAAAXRSTlMAQObYZgAAALRJREFU\n",
       "CNdjYGDgu3Nm3wIGBJjHwN0PZW5yYGDgLWBgyITy8zcwMMQDxZyh/INAvD6BgcEFypcB4vjPDiBm\n",
       "TPFRrhs/LjMwMP//38rAwCbKEMPA9gEkE3fp0waG+AUMRxh4JkC01T9guPTOOICBEWgVH5C//wHD\n",
       "H5D4fqCz9oCMDGD4DLaegRXslLMMDMpAgxlOMmQxHDRgYG5gYLBk4D7KcIe7gOHC2rt9QCXsh40Z\n",
       "GCKMGQDRkC8N/Ph1XAAAAABJRU5ErkJggg==\n",
       "\" style=\"display:inline;vertical-align:middle;\" /></a></td></tr>\n",
       "<tr><td>2</td><td>ExprTuple</td><td>3, 7</td><td><a class=\"ProveItLink\" href=\"../49c9f3750be89b1af7155bd39b8221ed180ed9320/expr.ipynb\"><img src=\"data:image/png;base64,iVBORw0KGgoAAAANSUhEUgAAAGcAAAAVBAMAAACphe0AAAAAMFBMVEX////c3NwiIiJERESqqqqY\n",
       "mJh2dnZmZmYQEBDu7u4yMjJUVFTMzMyIiIi6uroAAAAs73DqAAAAAXRSTlMAQObYZgAAAZ9JREFU\n",
       "OMtjYCAL8F0gTX0ciDgNYR/CpiD6/+7dVg9QOewHgOyVEKH1WI1tZmBg/4fGWcDAwAtxHav+BCx6\n",
       "eP4C8W80ThgDAwdEsUi9AFQOaBBPAZTN+xFo3Dc0zgwGhlcQkQv3oU4H22wIVcfcwMDA1InGYXZg\n",
       "KIME4QT/AIjUKRAhBVXHv4GBcfEENA5bAcNSsMA8hvMQv/F0KAGBPjR0zu+9WxQA8yCMw7KAoQ8s\n",
       "8IBBHuKPWxBzX0Ece1+AgVMbpgnG4WtgAAcoz+7d+w1AjBkGEAWM3WDKAqQWZhWMw/MBookPGIoL\n",
       "QAzO7RAFUhDHgkI7PgGqCcYBamoB8R2A4dIAlmFRAgNFiAe/Aon9DgyoHKDzTEGOATK5PkDkvEHE\n",
       "JAF4zDD+AtqPzGFgXcCQDqRmgWLhJ0QTO8jgfYiYOQEMyPkKSBxQkD9iYBDuX8jAav8LEnycQL8x\n",
       "QoKD3f737l2gKJnxEYnDwPWAgUMALb0BEzEnejp8iMwBJiPWBCLyUAAyJxeRNYjWBHI/gzRhPbzI\n",
       "HG6QfxhJzO53GBgAySh6w5PKXH8AAAAASUVORK5CYII=\n",
       "\" style=\"display:inline;vertical-align:middle;\" /></a></td></tr>\n",
       "<tr><td>3</td><td>Operation</td><td>operator:&nbsp;4<br>operands:&nbsp;5<br></td><td><a class=\"ProveItLink\" href=\"../60a870658ecf77b4b2ca5e56543d5830b362e85b0/expr.ipynb\"><img src=\"data:image/png;base64,iVBORw0KGgoAAAANSUhEUgAAAEAAAAAPBAMAAACmSdRUAAAAMFBMVEX///92dnYQEBBERERUVFS6\n",
       "urqIiIhmZmaqqqrc3Nzu7u6YmJgyMjIiIiLMzMwAAACFkkdwAAAAAXRSTlMAQObYZgAAAQhJREFU\n",
       "GNNjYACBtwxYwJb/Li42ARD2eWwKGJQZGNi/glnc9xdgkef7BsRfwMwZ9ROgggeAYgVQNttPoNaP\n",
       "YGZCPtQqtgQgYQlVwKzAwMCrBWKxLujfABF7AyLmQBXwOzBwHgbbvZThfQLEVqW7QHD/FETBe7e0\n",
       "WojGAIb5EHtzIG6NgViYP4GB6wpYn4uLvwGIscgAopVTBUwZgRSBjGBlYGA6ABLhcocomAOxEOTD\n",
       "/QJAogHoWAWwEMddMLgJcdBvIOEPlOQEYp4PEL0tIGLtBHgwcP4BMtaAvPwLooAdqJjBFREMj4Ae\n",
       "mqx/koHb/g/EG1xAt3BCnMpu/8XF5zRG+D8AKkKNFwBxhUYQlN1g7wAAAABJRU5ErkJggg==\n",
       "\" style=\"display:inline;vertical-align:middle;\" /></a></td></tr>\n",
       "<tr><td>4</td><td>Literal</td><td></td><td><a class=\"ProveItLink\" href=\"../9817cf888369307f52607b98db5e99fdc17b089e0/expr.ipynb\"><img src=\"data:image/png;base64,iVBORw0KGgoAAAANSUhEUgAAABQAAAANBAMAAABbflNtAAAAKlBMVEX///+qqqpUVFS6urru7u4i\n",
       "IiIQEBDc3NxERESIiIhmZmbMzMwyMjIAAAAneYQxAAAAAXRSTlMAQObYZgAAAFpJREFUCNdjYEAB\n",
       "BxgYuBeAWZwTgEQ7mLkHRNSACO60UCCIPQJkznEAy9kYMLg1QPSyJzGwaEGYNUDNjKFgEA7iC4EI\n",
       "1wIQySUAJJTBqliAtrFDNW8AcoEmAgB4jw/0RzyxkgAAAABJRU5ErkJggg==\n",
       "\" style=\"display:inline;vertical-align:middle;\" /></a></td></tr>\n",
       "<tr><td>5</td><td>ExprTuple</td><td>6, 7</td><td><a class=\"ProveItLink\" href=\"../caee09fb4b5c95b986a9cee46a014afbad9bdc680/expr.ipynb\"><img src=\"data:image/png;base64,iVBORw0KGgoAAAANSUhEUgAAADUAAAAVBAMAAAAUZLt1AAAAMFBMVEX////c3NwiIiJERESqqqqY\n",
       "mJh2dnZmZmYQEBDu7u4yMjJUVFTMzMyIiIi6uroAAAAs73DqAAAAAXRSTlMAQObYZgAAATZJREFU\n",
       "KM9jYMAH+C5gFY4DEach7EMwQdb9v3dvXsfAfgDIXgkRWg/XwWHAwFD/gGEBAwMvxEhW/QkwufNA\n",
       "kfMbGMKAqiBiIvUCMLn7QFZ8AsMMBoZXEIEL9x/A5CyAWGMCA7MDQxnEsRP8A2ByvxkYpCwZGNgK\n",
       "GJaC+fPAtoABz++711WBNMsChj6wwAMG+QKoHO9HBoZJG4BGNTD8A6vdvXu/AVSOuQEo/xUo9gEi\n",
       "xwd07wKoHD9QD+s3sFwLiO/AwMDUAPMe0FHcX8BmmgK5jEA5rg8MDBNg3pMHGsK6gCEdyJ0FsuYn\n",
       "A+cnqPd4uiaA/fCIgUG4fyEDq/2vAs5+oJbi/7t3rwL5lesBA4cAUnQhsUFhxpqA4LIiR2AuIo7Q\n",
       "5ThBfpJG8JFTADfIfEbsaeIOAwMABOxNRsfkiy0AAAAASUVORK5CYII=\n",
       "\" style=\"display:inline;vertical-align:middle;\" /></a></td></tr>\n",
       "<tr><td>6</td><td>Variable</td><td></td><td><a class=\"ProveItLink\" href=\"../../../../../__pv_it/2cbe72a7ad6f655694dd697106680215e8489b600/expr.ipynb\"><img src=\"data:image/png;base64,iVBORw0KGgoAAAANSUhEUgAAAA8AAAAOBAMAAAACpFvcAAAALVBMVEX///8QEBBERERUVFS6urqI\n",
       "iIhmZmaqqqrc3Nzu7u6YmJgyMjIiIiLMzMwAAADtIaYWAAAAAXRSTlMAQObYZgAAAFtJREFUCNdj\n",
       "YACBOwxQsA9Kc52bAGG05zVAGAFxDmCaZULdAjBjCsO9ADDDgaEvAUTzGhvbKYCVMDAwbgAxChgY\n",
       "eASANAeQwf0AyJgNxEwvGRia5HYwcOm9TgAA6BoR3jrzwFcAAAAASUVORK5CYII=\n",
       "\" style=\"display:inline;vertical-align:middle;\" /></a></td></tr>\n",
       "<tr><td>7</td><td>Variable</td><td></td><td><a class=\"ProveItLink\" href=\"../../../../../__pv_it/077b2ff79244fb4582cbe22c6e3356fa92a52f2f0/expr.ipynb\"><img src=\"data:image/png;base64,iVBORw0KGgoAAAANSUhEUgAAABAAAAAOBAMAAADUAYG5AAAAMFBMVEX///+qqqru7u4iIiJ2dnbc\n",
       "3NyIiIjMzMxmZmYQEBC6uroyMjJERERUVFSYmJgAAADLUcuvAAAAAXRSTlMAQObYZgAAAGpJREFU\n",
       "CNdjYGB4+//u3dMLGIBgDgMDxy8gzf4NiP8CGWxfGRj4vgAZPBMYGJgnARn8FxhY9ygAGfXX0pof\n",
       "gDTlBzAw2YIYJ0EckBBI53sHoBH/gIz7AhBjWH9DjancBLTl/N+7t/cxMAAA3u4f/5xagjYAAAAA\n",
       "SUVORK5CYII=\n",
       "\" style=\"display:inline;vertical-align:middle;\" /></a></td></tr>\n",
       "</table>\n"
      ],
      "text/plain": [
       "0. {A <=> B , B}\n",
       "   core type: Operation\n",
       "   operator: 1\n",
       "   operands: 2\n",
       "1. Set\n",
       "   core type: Literal\n",
       "   sub-expressions: \n",
       "2. (A <=> B , B)\n",
       "   core type: ExprTuple\n",
       "   sub-expressions: 3, 7\n",
       "3. A <=> B\n",
       "   core type: Operation\n",
       "   operator: 4\n",
       "   operands: 5\n",
       "4. <=>\n",
       "   core type: Literal\n",
       "   sub-expressions: \n",
       "5. (A , B)\n",
       "   core type: ExprTuple\n",
       "   sub-expressions: 6, 7\n",
       "6. A\n",
       "   core type: Variable\n",
       "   sub-expressions: \n",
       "7. B\n",
       "   core type: Variable\n",
       "   sub-expressions: "
      ]
     },
     "execution_count": 4,
     "metadata": {},
     "output_type": "execute_result"
    }
   ],
   "source": [
    "# display the expression information\n",
    "expr.exprInfo()"
   ]
  },
  {
   "cell_type": "code",
   "execution_count": null,
   "metadata": {},
   "outputs": [],
   "source": []
  }
 ],
 "metadata": {
  "kernelspec": {
   "display_name": "Python 3",
   "language": "python",
   "name": "python3"
  }
 },
 "nbformat": 4,
 "nbformat_minor": 0
}
