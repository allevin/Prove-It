{
 "cells": [
  {
   "cell_type": "markdown",
   "metadata": {},
   "source": [
    "Show the Proof\n",
    "========"
   ]
  },
  {
   "cell_type": "code",
   "execution_count": 1,
   "metadata": {},
   "outputs": [
    {
     "data": {
      "text/html": [
       "<table><tr><th>&nbsp;</th><th>step type</th><th>requirements</th><th>statement</th></tr>\n",
       "<tr><td>0</td><td>modus ponens</td><td>1, 2</td><td><span style=\"font-size:20px;\"><a class=\"ProveItLink\" href=\"../3700093cca603f2383fb4ce6e09159ea5b449dfa0/expr.ipynb\"><img src=\"data:image/png;base64,iVBORw0KGgoAAAANSUhEUgAAAFMAAAAVBAMAAADInc9CAAAAMFBMVEX////c3NxERESqqqpUVFS6\n",
       "urrMzMwyMjIQEBCIiIh2dnYiIiLu7u5mZmaYmJgAAABXZE4RAAAAAXRSTlMAQObYZgAAAQtJREFU\n",
       "KM9jYGDgu8dACLCtEgBRPLsYCAO2ZhDJ+YGB4fZuENiERc2T/y4u6gEMDNdBHK4GsFguDvOaGBh4\n",
       "vzIwrMCllAdh808g/oJHKfsBGIvzI9Dfv/AoZXWAsZiAstw9eJQyrIQx+B0YGIsOQJXyFqAohQTG\n",
       "/gtQbr7nzNsPgPR7ECcjAFsImENEGeYLMPBsAbkeqDeljQGbUp4KiFoNkHKQsepAIiIBm9L0NRD6\n",
       "C8jyBUCvATEDCza37taBBus/IOFvAHUr1wYsppogBSvjdwY8gcVYgBSsGTVoSrOQlTIJQGhe/S8u\n",
       "7nUMaEpR0xyGCE6lDNiV8hGlFJxeeXYSkwtawRTfYuLyFgDb8FKdNbJFvAAAAABJRU5ErkJggg==\n",
       "\" style=\"display:inline;vertical-align:middle;\" /></a> <a class=\"ProveItLink\" href=\"proof.ipynb\" style=\"text-decoration: none\">&#x22A2;&nbsp;</a><a class=\"ProveItLink\" href=\"../../../../../__pv_it/077b2ff79244fb4582cbe22c6e3356fa92a52f2f0/expr.ipynb\"><img src=\"data:image/png;base64,iVBORw0KGgoAAAANSUhEUgAAABAAAAAOBAMAAADUAYG5AAAAMFBMVEX///+qqqru7u4iIiJ2dnbc\n",
       "3NyIiIjMzMxmZmYQEBC6uroyMjJERERUVFSYmJgAAADLUcuvAAAAAXRSTlMAQObYZgAAAGpJREFU\n",
       "CNdjYGB4+//u3dMLGIBgDgMDxy8gzf4NiP8CGWxfGRj4vgAZPBMYGJgnARn8FxhY9ygAGfXX0pof\n",
       "gDTlBzAw2YIYJ0EckBBI53sHoBH/gIz7AhBjWH9DjancBLTl/N+7t/cxMAAA3u4f/5xagjYAAAAA\n",
       "SUVORK5CYII=\n",
       "\" style=\"display:inline;vertical-align:middle;\" /></a></span></td></tr>\n",
       "<tr><td>1</td><td>assumption</td><td></td><td><span style=\"font-size:20px;\"><a class=\"ProveItLink\" href=\"../3700093cca603f2383fb4ce6e09159ea5b449dfa0/expr.ipynb\"><img src=\"data:image/png;base64,iVBORw0KGgoAAAANSUhEUgAAAFMAAAAVBAMAAADInc9CAAAAMFBMVEX////c3NxERESqqqpUVFS6\n",
       "urrMzMwyMjIQEBCIiIh2dnYiIiLu7u5mZmaYmJgAAABXZE4RAAAAAXRSTlMAQObYZgAAAQtJREFU\n",
       "KM9jYGDgu8dACLCtEgBRPLsYCAO2ZhDJ+YGB4fZuENiERc2T/y4u6gEMDNdBHK4GsFguDvOaGBh4\n",
       "vzIwrMCllAdh808g/oJHKfsBGIvzI9Dfv/AoZXWAsZiAstw9eJQyrIQx+B0YGIsOQJXyFqAohQTG\n",
       "/gtQbr7nzNsPgPR7ECcjAFsImENEGeYLMPBsAbkeqDeljQGbUp4KiFoNkHKQsepAIiIBm9L0NRD6\n",
       "C8jyBUCvATEDCza37taBBus/IOFvAHUr1wYsppogBSvjdwY8gcVYgBSsGTVoSrOQlTIJQGhe/S8u\n",
       "7nUMaEpR0xyGCE6lDNiV8hGlFJxeeXYSkwtawRTfYuLyFgDb8FKdNbJFvAAAAABJRU5ErkJggg==\n",
       "\" style=\"display:inline;vertical-align:middle;\" /></a> <a class=\"ProveItLink\" href=\"../493e7b6cb390f428ee329339987b291dfde0e03c0/proof.ipynb\" style=\"text-decoration: none\">&#x22A2;&nbsp;</a><a class=\"ProveItLink\" href=\"../4cd00297b289889ed5a94e56c71f882ab47904c90/expr.ipynb\"><img src=\"data:image/png;base64,iVBORw0KGgoAAAANSUhEUgAAAEAAAAAPBAMAAACmSdRUAAAAMFBMVEX///+YmJjc3NwQEBCqqqqI\n",
       "iIhUVFS6uroyMjLu7u52dnbMzMxEREQiIiJmZmYAAAB9sQEkAAAAAXRSTlMAQObYZgAAAK5JREFU\n",
       "GNNjeHsXBO4wYAKx/2lpJwpArH0M2IENAwPfdwwFnHAW91cg/oahgGMCjMX6iYGB8ReGAvYEGIvH\n",
       "gIGB1xLTDUthDP4EBqaeCcgKIB66/wDK3Z8a+laAAYsvPAogdLwCA+c1bAo4myEqDoMUCWBRsGMl\n",
       "hAb5UH4BphvunoQGw0cgke+AaYIbUjAw/cB0A1MDUjBs7gQzdyEr4FGA0Hznv6VlNGKJIW40PgDT\n",
       "pzys+cW/WwAAAABJRU5ErkJggg==\n",
       "\" style=\"display:inline;vertical-align:middle;\" /></a></span></td></tr>\n",
       "<tr><td>2</td><td>axiom</td><td></td><td><span style=\"font-size:20px;\"> <a class=\"ProveItLink\" href=\"../../../_axioms_.ipynb#trueAxiom\" style=\"text-decoration: none\">&#x22A2;&nbsp;</a><a class=\"ProveItLink\" href=\"../../../__pv_it/68a87cc3370287d726c7086ace789e680e4461c30/expr.ipynb\"><img src=\"data:image/png;base64,iVBORw0KGgoAAAANSUhEUgAAAA4AAAAOBAMAAADtZjDiAAAAFVBMVEX///92dnbMzMxEREQiIiJm\n",
       "ZmYAAABAT6GXAAAAAXRSTlMAQObYZgAAABhJREFUCNdjCHEBAWcGIFBlgABa0YpADAAxegPJJk4d\n",
       "XAAAAABJRU5ErkJggg==\n",
       "\" style=\"display:inline;vertical-align:middle;\" /></a></span></td></tr>\n",
       "<tr><td>&nbsp;</td><td colspan=4 style-\"text-align:left\"><a class=\"ProveItLink\" href=\"../../../_axioms_.ipynb#trueAxiom\">proveit.logic.boolean.trueAxiom</a></td></tr></table>"
      ],
      "text/plain": [
       "<proveit._core_.proof._ShowProof at 0x7f94ead821d0>"
      ]
     },
     "execution_count": 1,
     "metadata": {},
     "output_type": "execute_result"
    }
   ],
   "source": [
    "import proveit\n",
    "%show_proof"
   ]
  },
  {
   "cell_type": "code",
   "execution_count": null,
   "metadata": {},
   "outputs": [],
   "source": []
  }
 ],
 "metadata": {
  "kernelspec": {
   "display_name": "Python 3",
   "language": "python",
   "name": "python3"
  }
 },
 "nbformat": 4,
 "nbformat_minor": 0
}
