{
 "cells": [
  {
   "cell_type": "markdown",
   "metadata": {},
   "source": [
    "Show the Proof\n",
    "========"
   ]
  },
  {
   "cell_type": "code",
   "execution_count": 1,
   "metadata": {},
   "outputs": [
    {
     "data": {
      "text/html": [
       "<table><tr><th>&nbsp;</th><th>step type</th><th>requirements</th><th>statement</th></tr>\n",
       "<tr><td>0</td><td>assumption</td><td></td><td><span style=\"font-size:20px;\"><a class=\"ProveItLink\" href=\"../121bb559e19d15d27268793963bf93c6a64b9a190/expr.ipynb\"><img src=\"data:image/png;base64,iVBORw0KGgoAAAANSUhEUgAAAG8AAAAVBAMAAAC6Uq30AAAAMFBMVEX////c3NxERESqqqpUVFS6\n",
       "urrMzMwyMjIQEBCIiIh2dnYiIiLu7u5mZmaYmJgAAABXZE4RAAAAAXRSTlMAQObYZgAAAUtJREFU\n",
       "OMtjYGDgu8dAGmBbJQCieHahiEbi18QXANLZDGJyfkAxzQFCbcDUwzgBRF4DEddBBFcDsiz7AQj1\n",
       "AYsLL4BlQMQKTI0zIdTrP7g08i3ArrEH4irbj7g08jRg1chaAKY4Ob/i0sigjFUj7wIwFcP8D6fG\n",
       "tTCNvAXIYfMA7JwAtp9gqXIwcEDRaA7E70GMDGDM3N4NBKD45AgAO5iB8S9OGyNA5gOZKW0wiRQg\n",
       "5gdrTHFx+YRTYz6IUAe6LCIBQyOQaMerkRsUFCwFSBo5DIAEMxDvAPtxNxgoYDgV7EeuDUgamUCB\n",
       "IwzE9ThtfI4RHWwgDlCSB+QE/QMEowM1AWxgYNT4LsDw6H8tqi6Qq7vBri7FnuQaCWVGHEmO4RUh\n",
       "jVwTYBr5sGUr3OA4PD/y7ETJrQ4ENDqCgqkVUhosRpaQxK+PMwFa5gAAcipghq+IfD4AAAAASUVO\n",
       "RK5CYII=\n",
       "\" style=\"display:inline;vertical-align:middle;\" /></a> <a class=\"ProveItLink\" href=\"proof.ipynb\" style=\"text-decoration: none\">&#x22A2;&nbsp;</a><a class=\"ProveItLink\" href=\"../9c439a0e523b487f229fdf4c6fb5ef2425afded20/expr.ipynb\"><img src=\"data:image/png;base64,iVBORw0KGgoAAAANSUhEUgAAAFoAAAAVBAMAAAA0iOSIAAAAMFBMVEX////c3NxERESqqqqYmJgQ\n",
       "EBDu7u4yMjKIiIi6urpUVFTMzMx2dnYiIiJmZmYAAABjE816AAAAAXRSTlMAQObYZgAAAPRJREFU\n",
       "KM9jYCAXzMAvzTIBmce9AEJdwFTI2AAiXyMLsSdAqA+YqrkfgGWQhToglO83XKpZDiAJhUEstfuI\n",
       "SzVbAEKEswBMcXD8xKWaQRkhwgexZxrzF5yqzyF50gFs2wTuH2C95WCwAEW1OcPbu0BwB8hkBQcn\n",
       "JwPjP5xmT4XwdgExP1j1rlWrPuFUvR9dNZAIJ0Y1qwGQYAbiq2B33wUDBVwuYQL5UhiI63Ga7Q7l\n",
       "ATEPUIQNFOb6CUSEIOcFBkbV7wIMTv/rUJWCHBULdlQlkmggoRSNHPMMPoRU8zRgpljcIB0lyS8g\n",
       "oHohCk8Cv2KODQwACUBIphoEPUcAAAAASUVORK5CYII=\n",
       "\" style=\"display:inline;vertical-align:middle;\" /></a></span></td></tr>\n",
       "</table>"
      ],
      "text/plain": [
       "<proveit._core_.proof._ShowProof at 0x7f94eb45d9e8>"
      ]
     },
     "execution_count": 1,
     "metadata": {},
     "output_type": "execute_result"
    }
   ],
   "source": [
    "import proveit\n",
    "%show_proof"
   ]
  },
  {
   "cell_type": "code",
   "execution_count": null,
   "metadata": {},
   "outputs": [],
   "source": []
  }
 ],
 "metadata": {
  "kernelspec": {
   "display_name": "Python 3",
   "language": "python",
   "name": "python3"
  }
 },
 "nbformat": 4,
 "nbformat_minor": 0
}
