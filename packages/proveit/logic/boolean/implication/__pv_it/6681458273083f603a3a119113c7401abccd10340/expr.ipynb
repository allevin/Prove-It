{
 "cells": [
  {
   "cell_type": "markdown",
   "metadata": {},
   "source": [
    "Expression of type <a class=\"ProveItLink\" href=\"../../../../../../../doc/html/api/proveit.Lambda.html\">Lambda</a>\n",
    "=======================\n",
    "# from context <a class=\"ProveItLink\" href=\"../../_context_.ipynb\">proveit.logic.boolean.implication</a>"
   ]
  },
  {
   "cell_type": "code",
   "execution_count": 1,
   "metadata": {},
   "outputs": [],
   "source": [
    "# import Expression classes needed to build the expression\n",
    "from proveit import Lambda\n",
    "from proveit._common_ import A, B\n",
    "from proveit.logic import Forall, Iff"
   ]
  },
  {
   "cell_type": "code",
   "execution_count": 2,
   "metadata": {},
   "outputs": [
    {
     "data": {
      "text/html": [
       "<strong id=\"expr\">expr:</strong> <a class=\"ProveItLink\" href=\"expr.ipynb\"><img src=\"data:image/png;base64,iVBORw0KGgoAAAANSUhEUgAAAPAAAAAZCAMAAAA4wFPqAAAANlBMVEX///92dnYUFBQNDQ0QEBBE\n",
       "RERUVFS6urqIiIhmZmaqqqrc3Nzu7u6YmJgyMjIiIiLMzMwAAACuIkBbAAAAAXRSTlMAQObYZgAA\n",
       "Av9JREFUWMPtmNmS4yAMRe0Z9l3//7MdAwbEUomz9HRXjV7ykIjogHQl2LYnjHrv9fbrjN/C3p/y\n",
       "9NtvNc3+Az8MbL4nDcUbFrF8Chz8JeD6ays+xhtygJYBsJtRxy+55yBlmAE7uAS8q+L4ucOuSxOa\n",
       "QocrxAXJTYCtB3MFWNNzEfoxXlFyJ4DInxeqsCLZfQDWSoK+Alx2X6qPAZNyBCIHZwE1lnxyQU4V\n",
       "qiIZMgCL25r8ErDddbTPaTZ3tfXniD0xswygs7NqkajqgLnZFNh+57IpNW1LQA97spc/YrIunTJZ\n",
       "O9ryhhKmdpPtapF2iYENr2Uy6bTMzIBZaDZXUZBSMhrqH44asqiZ0Tf/3tYSZkII6S3SYEL8aTAo\n",
       "J0ZSDgMfwWmQK2DD9ASYH97m3Fsbk06QmoWDhixrZvDNJcy7Eja+kSyBGHnfsDASJwg4HD2OQQ3x\n",
       "7x+PjKBYffMpzk2XcS1ela8HNhLsKnd735zHvC9hUZYwpFtfE4Y7OEIKgIDTwsQth0fGZ6PlAevP\n",
       "bfYxe6RfnvBuvDwTJsZQK3Tw7YHPZtSItGFImrUTwwE3SBhYnQq4ApZ6Okvf0jkUFYCjAm1Tph1w\n",
       "EBulaPApdTL65pRWJdx8sAwa/VQoCbFzj4RSWqth1PJ9rPPLA9Xl6DncVIW1ItoBs3KEO4nyTh3R\n",
       "K9+8gu26sAakxqoksel4ByTbiFaRHVpHLUxoVrclVbNwd0l9zALYqiPuY/eoqlkpzNwX9ZJSwoF0\n",
       "WlxmHlxyE6TaljQlEHPJUgAnL14PSdkZKlNyqjnwrX6ljH8vm5NUSVpH3/PGnrBoujk414veCYan\n",
       "2xlS1vCX78O2BJ+i5RDmwFEFQvxWU5mNipXvuZ/3ht3sYe7dAiaj5YsPADrmjvZyXsM8nU3SHuO0\n",
       "OWy3S98Nz/wv2y7eDLy7OCu5NilpM7fEfqgZpFEpzfqGrX3ffPM07jueeOidTDQPXM6eDLC30gD/\n",
       "FfCFR6h3vKaIsP0a4B/yiPfQuzT7abTHuzT7AhFjIlc9qIcYAAAAAElFTkSuQmCC\n",
       "\" style=\"display:inline;vertical-align:middle;\" /></a><br>"
      ],
      "text/plain": [
       "expr: A -> [forall_{B | A <=> B} (B <=> A)]"
      ]
     },
     "execution_count": 2,
     "metadata": {},
     "output_type": "execute_result"
    }
   ],
   "source": [
    "# build up the expression from sub-expressions\n",
    "expr = Lambda(A, Forall([B], Iff(B, A), conditions = [Iff(A, B)]))"
   ]
  },
  {
   "cell_type": "code",
   "execution_count": 3,
   "metadata": {},
   "outputs": [
    {
     "name": "stdout",
     "output_type": "stream",
     "text": [
      "Passed sanity check: built 'expr' is the same as the stored Expression.\n"
     ]
    }
   ],
   "source": [
    "# check that the built expression is the same as the stored expression\n",
    "%check_expr"
   ]
  },
  {
   "cell_type": "code",
   "execution_count": 4,
   "metadata": {},
   "outputs": [
    {
     "data": {
      "text/html": [
       "<table><tr><th>&nbsp;</th><th>core type</th><th>sub-expressions</th><th>expression</th></tr>\n",
       "<tr><td>0</td><td>Lambda</td><td>parameter:&nbsp;10<br>body:&nbsp;1<br></td><td><a class=\"ProveItLink\" href=\"expr.ipynb\"><img src=\"data:image/png;base64,iVBORw0KGgoAAAANSUhEUgAAAPAAAAAZCAMAAAA4wFPqAAAANlBMVEX///92dnYUFBQNDQ0QEBBE\n",
       "RERUVFS6urqIiIhmZmaqqqrc3Nzu7u6YmJgyMjIiIiLMzMwAAACuIkBbAAAAAXRSTlMAQObYZgAA\n",
       "Av9JREFUWMPtmNmS4yAMRe0Z9l3//7MdAwbEUomz9HRXjV7ykIjogHQl2LYnjHrv9fbrjN/C3p/y\n",
       "9NtvNc3+Az8MbL4nDcUbFrF8Chz8JeD6ays+xhtygJYBsJtRxy+55yBlmAE7uAS8q+L4ucOuSxOa\n",
       "QocrxAXJTYCtB3MFWNNzEfoxXlFyJ4DInxeqsCLZfQDWSoK+Alx2X6qPAZNyBCIHZwE1lnxyQU4V\n",
       "qiIZMgCL25r8ErDddbTPaTZ3tfXniD0xswygs7NqkajqgLnZFNh+57IpNW1LQA97spc/YrIunTJZ\n",
       "O9ryhhKmdpPtapF2iYENr2Uy6bTMzIBZaDZXUZBSMhrqH44asqiZ0Tf/3tYSZkII6S3SYEL8aTAo\n",
       "J0ZSDgMfwWmQK2DD9ASYH97m3Fsbk06QmoWDhixrZvDNJcy7Eja+kSyBGHnfsDASJwg4HD2OQQ3x\n",
       "7x+PjKBYffMpzk2XcS1ela8HNhLsKnd735zHvC9hUZYwpFtfE4Y7OEIKgIDTwsQth0fGZ6PlAevP\n",
       "bfYxe6RfnvBuvDwTJsZQK3Tw7YHPZtSItGFImrUTwwE3SBhYnQq4ApZ6Okvf0jkUFYCjAm1Tph1w\n",
       "EBulaPApdTL65pRWJdx8sAwa/VQoCbFzj4RSWqth1PJ9rPPLA9Xl6DncVIW1ItoBs3KEO4nyTh3R\n",
       "K9+8gu26sAakxqoksel4ByTbiFaRHVpHLUxoVrclVbNwd0l9zALYqiPuY/eoqlkpzNwX9ZJSwoF0\n",
       "WlxmHlxyE6TaljQlEHPJUgAnL14PSdkZKlNyqjnwrX6ljH8vm5NUSVpH3/PGnrBoujk414veCYan\n",
       "2xlS1vCX78O2BJ+i5RDmwFEFQvxWU5mNipXvuZ/3ht3sYe7dAiaj5YsPADrmjvZyXsM8nU3SHuO0\n",
       "OWy3S98Nz/wv2y7eDLy7OCu5NilpM7fEfqgZpFEpzfqGrX3ffPM07jueeOidTDQPXM6eDLC30gD/\n",
       "FfCFR6h3vKaIsP0a4B/yiPfQuzT7abTHuzT7AhFjIlc9qIcYAAAAAElFTkSuQmCC\n",
       "\" style=\"display:inline;vertical-align:middle;\" /></a></td></tr>\n",
       "<tr><td>1</td><td>Operation</td><td>operator:&nbsp;2<br>operand:&nbsp;3<br></td><td><a class=\"ProveItLink\" href=\"../e52569537312465bb549665900e3bb3cb92a73b10/expr.ipynb\"><img src=\"data:image/png;base64,iVBORw0KGgoAAAANSUhEUgAAALAAAAAXBAMAAABZgNg7AAAAMFBMVEX///8QEBC6urrMzMxUVFRm\n",
       "ZmZERETc3NwyMjKqqqp2dnaIiIiYmJgiIiLu7u4AAAAU9Wx4AAAAAXRSTlMAQObYZgAAAqBJREFU\n",
       "OMu1VD1oU1EU/pI0SU1ebiIIOtUIDoKDHUSEIgk1toNDA+bFSVIRU1xsBmkjUvN0qS42g0I36yAi\n",
       "OMRBEDI0bqJDdRLU0uiUJaWQoNaf6jnvvvdySQPxFT1w77vvfOd+59xzzr3A/5K6+y2H+1poceAN\n",
       "L1674fUlaedEOzV2szd+gsYZ4DGv77ghHuRDeiaBXLwnvsA2wAx9gpNuiKs8JSo0kj3TsEaOtSXT\n",
       "v7/shniIp+UCsLIkFQalJ+3AV3MEiRi0R7Ozc254vQbP52m8lYUPU/CYcvDKMmfoEvAln3/vhthv\n",
       "xtkGipel4jhPRcdv/X6NPg+Bk6a7XdN65oIJODUqdMgclPW8z9euPvtoNcnuVZI1u/6fzfRjETgI\n",
       "wYd7ATxlIGCTrag1t1HuB9aHvwJNWbvnMiGHLPM4SpzvA0AEYY4hAxwpKMQiV1OIbZQkygyBGJH/\n",
       "5N9PVkcF98j4U6kJ1iQIr0XY5wfgnBpxqEmORRI+M6U2ahNH+ZJ8NwM4JdXFCqxMegxJLIyjjLeg\n",
       "zavEIwFy7B8GxlWUU8G9maDjDGzK/K+a8k6iBEZiMhWYGmVPP6pjdZU46afL/iCfz98oKCgb1Kw2\n",
       "LhlScZenpkxUkIgHN2jxksY9fi5CBrQhhVgrhzdwjIMTp+sdlC3Tso19+yxX5vUalesGM2zJdoOH\n",
       "sxNIQ2wqxE09u4WsuXUx3kH5bBRH9ncqdcsuLjeV9SjM7J+HNv2NXPMDpfH2aBnelkJ8Fr4Wghd1\n",
       "Xc9WFJRlb/eVoUKIrtdXxOxVqY65dIfYS+FQNzWur68/UVGWV39xPUMVe7GgZ27DIRbUi1d+1fht\n",
       "oY5TUOfZ7CON7apA1ylFodsimOxPPN6PuKdc62sRHt4R8c5k4B/x/AFc0a0XD8jVfQAAAABJRU5E\n",
       "rkJggg==\n",
       "\" style=\"display:inline;vertical-align:middle;\" /></a></td></tr>\n",
       "<tr><td>2</td><td>Literal</td><td></td><td><a class=\"ProveItLink\" href=\"../../../quantification/universal/__pv_it/265f8c02ac1094d56e0e6410a1c1fd3500dc9f540/expr.ipynb\"><img src=\"data:image/png;base64,iVBORw0KGgoAAAANSUhEUgAAAAwAAAAQBAMAAADQT4M0AAAAMFBMVEX///8QEBC6urrMzMxUVFRm\n",
       "ZmZERETc3NwyMjKqqqp2dnaIiIiYmJgiIiLu7u4AAAAU9Wx4AAAAAXRSTlMAQObYZgAAAFhJREFU\n",
       "CNdjeMAABhdAxGmGlSCqj6EMSLInMHAAJVknMPAsLy+vBYp8S0u7BaScGRjSgZQKA18DkOJl4D4A\n",
       "pLgP8IJM4mswARuX7gSmpoKNZWDcAKZ4gCoAgTQTILaSE58AAAAASUVORK5CYII=\n",
       "\" style=\"display:inline;vertical-align:middle;\" /></a></td></tr>\n",
       "<tr><td>3</td><td>Lambda</td><td>parameter:&nbsp;11<br>body:&nbsp;4<br>conditions:&nbsp;5<br></td><td><a class=\"ProveItLink\" href=\"../f37308009a5d597c76dbfa0b6a7b0714f19f2b800/expr.ipynb\"><img src=\"data:image/png;base64,iVBORw0KGgoAAAANSUhEUgAAANkAAAAVCAMAAAD8SruLAAAANlBMVEX///8UFBQNDQ2qqqru7u4i\n",
       "IiJ2dnbc3NyIiIjMzMxmZmYQEBC6uroyMjJERERUVFSYmJgAAAC3B9V0AAAAAXRSTlMAQObYZgAA\n",
       "AilJREFUWMPNWFl2wyAMdAs2+3b/yxaHfTEQP7cNP0n8NGJGEkLOtn3UAui/GXD8gBPNm0cHf5an\n",
       "VsYou6RYdEzUTaCH7+6TkiVlwfyWECbdVmaNoYA3gR5uwpclZdF8YdV8iMH+U63AcazFN4E+srvx\n",
       "kdHHgrJkvlANNR9s3MnV5lgKTNzpCuiTQWgHjQD1qA2yubLMfO694SP9DjtbiQ5PRXQBjEmVnV6H\n",
       "7f5BgARTZbn51HvDx+UOCQm37gkABQGa8tMCX8GMaCTauMANGB2U0JmywnzqveZjqxJjTPfMQdWO\n",
       "VM5c6FTWDfB8ytgelhFVFUCeToMNmZgoK81n3hs+vjrhrq6UQZUlnvEB0D4stuPVhXD+QiakirOJ\n",
       "stJ85r3hE6oTp7R/f+3FYlmtp68dIPR9N3UApoqb8FxGxiCPlVXmM+8Nn9Aisw5XX44q2zIp6wBt\n",
       "eouzgwSuc2CzLhaVVeYz7zUfEhQqAy6U0bwLMRB5tcDz8BTZLvoXCK1rrRpr84n3hk+4BJARF+eM\n",
       "FJGRuro9cuBr81ghsNwagWqq0MMO0piPvbd8fHUSlh3OcuItO1Bs1T2gSzHoFLF1E3TIMFUMu35r\n",
       "PvTe8KHSTZFC6NVB3yV0AAycUH7ekWRGnEHVFiicpHqSzpT1zAfe7wjpTFfTtyg/xMPJSLMyXd33\n",
       "fuet53jI0YF/+f3s7SWeiRZce4v5y4XUI24U+jhlG3ri3wJM2kfPKfsBE6MdqeJOMhYAAAAASUVO\n",
       "RK5CYII=\n",
       "\" style=\"display:inline;vertical-align:middle;\" /></a></td></tr>\n",
       "<tr><td>4</td><td>Operation</td><td>operator:&nbsp;8<br>operands:&nbsp;6<br></td><td><a class=\"ProveItLink\" href=\"../159b0b16589589c804d76414a9189d21c26f17d80/expr.ipynb\"><img src=\"data:image/png;base64,iVBORw0KGgoAAAANSUhEUgAAAEAAAAAPBAMAAACmSdRUAAAAMFBMVEX///+qqqru7u4iIiJ2dnbc\n",
       "3NyIiIjMzMxmZmYQEBC6uroyMjJERERUVFSYmJgAAADLUcuvAAAAAXRSTlMAQObYZgAAAQVJREFU\n",
       "GNNjYGB4+//u3dMLGLABdgMwNYeBgeMXVgXcH8DKvgHxX6wKHn8CkWxfGRj4vkC1AHEFXJ5V4iuI\n",
       "4pnAwMA8CSKUBuIHwBSwsYFt5r/AwLpHAeKoDSB9G2AKFjH+A1H119KaH0BEKicbA8FviGoGpgUg\n",
       "5zEw5AcwMNlCjNwEprh2QRRwMbD+ANEnQYpARjDNgRodeQFM1d69+wdEg3z43gHE0m2AOH4bRB0w\n",
       "8GaDHAZyyH0BsJCwMRhAvMEIxJbQYGD9DdHDCDKbyRTCCQTi/dBgqNwEtb0RiHkh8cIE8u15BQaO\n",
       "83/v3t4H87k2EMdAHHLydwDDm/870KMPiJVQRACAa0REUvL7aQAAAABJRU5ErkJggg==\n",
       "\" style=\"display:inline;vertical-align:middle;\" /></a></td></tr>\n",
       "<tr><td>5</td><td>ExprTuple</td><td>7</td><td><a class=\"ProveItLink\" href=\"../af9df9aa386659ef3e5d68da3bbc5ea809ec016f0/expr.ipynb\"><img src=\"data:image/png;base64,iVBORw0KGgoAAAANSUhEUgAAAE0AAAAVBAMAAADx+n4ZAAAAMFBMVEX////c3NwiIiJERESqqqqY\n",
       "mJh2dnZmZmYQEBDu7u4yMjJUVFTMzMyIiIi6uroAAAAs73DqAAAAAXRSTlMAQObYZgAAAXdJREFU\n",
       "KM+NUj1Iw1AQ/qKNaWpaAzrVQezq0DoI4tLuDjq5CNrNSSgOrhZ0UAQtTsVBItLBSTfBoBUn0aGd\n",
       "RWlw7FQHBVus3r0LFkqwfZB7l7vv3X33A/R7YtWekBUWT6LfBwGWf1x3zoNxR/q5mC4CI20DRhtw\n",
       "gKik1ZOFAJj1TV8LWALC4h/bsn0fvbVyvh59pwifQBGoi6Va83wXx5/2cYN5YGCP7gw2pejCwqK4\n",
       "HlnEfdzIJbQzSjiUQ0kZTlARntZugk7SL65y87rB70MODpTBw4Rweha6dWFRs2FOcbo82iqK65ZT\n",
       "rBRTEkjbV9csYymg1RBcjOp2WDGvBBcXFtQSrGYVbof/M1RWXnlCCXUmhewHiXJG5Z3hLKRGGhJp\n",
       "nsWR/dc+rclTcLBG1zG36ktwBr3Bbad9D1w69eUNGD08hZ5uSsEm8dSkGiPdcq9V3yIewnbXTGk3\n",
       "zO5Z09z0bB87ut7Zq/8Oc8F4b9wwc9N67/0L8Av06VmxMv674wAAAABJRU5ErkJggg==\n",
       "\" style=\"display:inline;vertical-align:middle;\" /></a></td></tr>\n",
       "<tr><td>6</td><td>ExprTuple</td><td>11, 10</td><td><a class=\"ProveItLink\" href=\"../1d9a4008d5668a743cd8f9a815871ca1c5e3cf130/expr.ipynb\"><img src=\"data:image/png;base64,iVBORw0KGgoAAAANSUhEUgAAADYAAAAVBAMAAAD/UwB2AAAAMFBMVEX////c3NwiIiJERESqqqqY\n",
       "mJh2dnZmZmYQEBDu7u4yMjJUVFTMzMyIiIi6uroAAAAs73DqAAAAAXRSTlMAQObYZgAAAS5JREFU\n",
       "KM9jYMAH+C5gFWZ9ACROA3H0/927rR4gJA4BcQ0QrwRxmhkY2P8h5NYDMRcDAy/ISJ6/QPwbYZ7+\n",
       "BCCRwMABpBh4PwLZ3+ByIvUCDAycDQyvQBzmBgYGpk643IX7ILtNGMpAHP4NDIyLJ8BdPsE/AEil\n",
       "MywF8c7vvVsUANc2j+E8yBFeDH0g3n0BBk5tuNwDBvkCIPWCAexyC5A8TCPP7t37DUCGQeRAzo9P\n",
       "gFnHwMCxACzXAlL5FUjsd4DKAWmmBrCZplDvMf4CegkkxQiU4/oAZEQBXQrx3glg2M1XAHJmgQR+\n",
       "gv3wCBiS9r937wL5ZQZQv3D/QgZW+19Ah65j4BBAipiHSGxgmLEmIPEDkNhsF6BxhEUOZK80gsuL\n",
       "HPEbQW7GniZ4DzAAAJGlTQr2mfDRAAAAAElFTkSuQmCC\n",
       "\" style=\"display:inline;vertical-align:middle;\" /></a></td></tr>\n",
       "<tr><td>7</td><td>Operation</td><td>operator:&nbsp;8<br>operands:&nbsp;9<br></td><td><a class=\"ProveItLink\" href=\"../60a870658ecf77b4b2ca5e56543d5830b362e85b0/expr.ipynb\"><img src=\"data:image/png;base64,iVBORw0KGgoAAAANSUhEUgAAAEAAAAAPBAMAAACmSdRUAAAAMFBMVEX///92dnYQEBBERERUVFS6\n",
       "urqIiIhmZmaqqqrc3Nzu7u6YmJgyMjIiIiLMzMwAAACFkkdwAAAAAXRSTlMAQObYZgAAAQhJREFU\n",
       "GNNjYACBtwxYwJb/Li42ARD2eWwKGJQZGNi/glnc9xdgkef7BsRfwMwZ9ROgggeAYgVQNttPoNaP\n",
       "YGZCPtQqtgQgYQlVwKzAwMCrBWKxLujfABF7AyLmQBXwOzBwHgbbvZThfQLEVqW7QHD/FETBe7e0\n",
       "WojGAIb5EHtzIG6NgViYP4GB6wpYn4uLvwGIscgAopVTBUwZgRSBjGBlYGA6ABLhcocomAOxEOTD\n",
       "/QJAogHoWAWwEMddMLgJcdBvIOEPlOQEYp4PEL0tIGLtBHgwcP4BMtaAvPwLooAdqJjBFREMj4Ae\n",
       "mqx/koHb/g/EG1xAt3BCnMpu/8XF5zRG+D8AKkKNFwBxhUYQlN1g7wAAAABJRU5ErkJggg==\n",
       "\" style=\"display:inline;vertical-align:middle;\" /></a></td></tr>\n",
       "<tr><td>8</td><td>Literal</td><td></td><td><a class=\"ProveItLink\" href=\"../9817cf888369307f52607b98db5e99fdc17b089e0/expr.ipynb\"><img src=\"data:image/png;base64,iVBORw0KGgoAAAANSUhEUgAAABQAAAANBAMAAABbflNtAAAAKlBMVEX///+qqqpUVFS6urru7u4i\n",
       "IiIQEBDc3NxERESIiIhmZmbMzMwyMjIAAAAneYQxAAAAAXRSTlMAQObYZgAAAFpJREFUCNdjYEAB\n",
       "BxgYuBeAWZwTgEQ7mLkHRNSACO60UCCIPQJkznEAy9kYMLg1QPSyJzGwaEGYNUDNjKFgEA7iC4EI\n",
       "1wIQySUAJJTBqliAtrFDNW8AcoEmAgB4jw/0RzyxkgAAAABJRU5ErkJggg==\n",
       "\" style=\"display:inline;vertical-align:middle;\" /></a></td></tr>\n",
       "<tr><td>9</td><td>ExprTuple</td><td>10, 11</td><td><a class=\"ProveItLink\" href=\"../caee09fb4b5c95b986a9cee46a014afbad9bdc680/expr.ipynb\"><img src=\"data:image/png;base64,iVBORw0KGgoAAAANSUhEUgAAADUAAAAVBAMAAAAUZLt1AAAAMFBMVEX////c3NwiIiJERESqqqqY\n",
       "mJh2dnZmZmYQEBDu7u4yMjJUVFTMzMyIiIi6uroAAAAs73DqAAAAAXRSTlMAQObYZgAAATZJREFU\n",
       "KM9jYMAH+C5gFY4DEach7EMwQdb9v3dvXsfAfgDIXgkRWg/XwWHAwFD/gGEBAwMvxEhW/QkwufNA\n",
       "kfMbGMKAqiBiIvUCMLn7QFZ8AsMMBoZXEIEL9x/A5CyAWGMCA7MDQxnEsRP8A2ByvxkYpCwZGNgK\n",
       "GJaC+fPAtoABz++711WBNMsChj6wwAMG+QKoHO9HBoZJG4BGNTD8A6vdvXu/AVSOuQEo/xUo9gEi\n",
       "xwd07wKoHD9QD+s3sFwLiO/AwMDUAPMe0FHcX8BmmgK5jEA5rg8MDBNg3pMHGsK6gCEdyJ0FsuYn\n",
       "A+cnqPd4uiaA/fCIgUG4fyEDq/2vAs5+oJbi/7t3rwL5lesBA4cAUnQhsUFhxpqA4LIiR2AuIo7Q\n",
       "5ThBfpJG8JFTADfIfEbsaeIOAwMABOxNRsfkiy0AAAAASUVORK5CYII=\n",
       "\" style=\"display:inline;vertical-align:middle;\" /></a></td></tr>\n",
       "<tr><td>10</td><td>Variable</td><td></td><td><a class=\"ProveItLink\" href=\"../../../../../__pv_it/2cbe72a7ad6f655694dd697106680215e8489b600/expr.ipynb\"><img src=\"data:image/png;base64,iVBORw0KGgoAAAANSUhEUgAAAA8AAAAOBAMAAAACpFvcAAAALVBMVEX///8QEBBERERUVFS6urqI\n",
       "iIhmZmaqqqrc3Nzu7u6YmJgyMjIiIiLMzMwAAADtIaYWAAAAAXRSTlMAQObYZgAAAFtJREFUCNdj\n",
       "YACBOwxQsA9Kc52bAGG05zVAGAFxDmCaZULdAjBjCsO9ADDDgaEvAUTzGhvbKYCVMDAwbgAxChgY\n",
       "eASANAeQwf0AyJgNxEwvGRia5HYwcOm9TgAA6BoR3jrzwFcAAAAASUVORK5CYII=\n",
       "\" style=\"display:inline;vertical-align:middle;\" /></a></td></tr>\n",
       "<tr><td>11</td><td>Variable</td><td></td><td><a class=\"ProveItLink\" href=\"../../../../../__pv_it/077b2ff79244fb4582cbe22c6e3356fa92a52f2f0/expr.ipynb\"><img src=\"data:image/png;base64,iVBORw0KGgoAAAANSUhEUgAAABAAAAAOBAMAAADUAYG5AAAAMFBMVEX///+qqqru7u4iIiJ2dnbc\n",
       "3NyIiIjMzMxmZmYQEBC6uroyMjJERERUVFSYmJgAAADLUcuvAAAAAXRSTlMAQObYZgAAAGpJREFU\n",
       "CNdjYGB4+//u3dMLGIBgDgMDxy8gzf4NiP8CGWxfGRj4vgAZPBMYGJgnARn8FxhY9ygAGfXX0pof\n",
       "gDTlBzAw2YIYJ0EckBBI53sHoBH/gIz7AhBjWH9DjancBLTl/N+7t/cxMAAA3u4f/5xagjYAAAAA\n",
       "SUVORK5CYII=\n",
       "\" style=\"display:inline;vertical-align:middle;\" /></a></td></tr>\n",
       "</table>\n"
      ],
      "text/plain": [
       "0. A -> [forall_{B | A <=> B} (B <=> A)]\n",
       "   core type: Lambda\n",
       "   parameter: 10\n",
       "   body: 1\n",
       "1. forall_{B | A <=> B} (B <=> A)\n",
       "   core type: Operation\n",
       "   operator: 2\n",
       "   operand: 3\n",
       "2. forall\n",
       "   core type: Literal\n",
       "   sub-expressions: \n",
       "3. B -> (B <=> A) | A <=> B\n",
       "   core type: Lambda\n",
       "   parameter: 11\n",
       "   body: 4\n",
       "   conditions: 5\\n4. B <=> A\n",
       "   core type: Operation\n",
       "   operator: 8\n",
       "   operands: 6\n",
       "5. (A <=> B)\n",
       "   core type: ExprTuple\n",
       "   sub-expressions: 7\n",
       "6. (B , A)\n",
       "   core type: ExprTuple\n",
       "   sub-expressions: 11, 10\n",
       "7. A <=> B\n",
       "   core type: Operation\n",
       "   operator: 8\n",
       "   operands: 9\n",
       "8. <=>\n",
       "   core type: Literal\n",
       "   sub-expressions: \n",
       "9. (A , B)\n",
       "   core type: ExprTuple\n",
       "   sub-expressions: 10, 11\n",
       "10. A\n",
       "    core type: Variable\n",
       "    sub-expressions: \n",
       "11. B\n",
       "    core type: Variable\n",
       "    sub-expressions: "
      ]
     },
     "execution_count": 4,
     "metadata": {},
     "output_type": "execute_result"
    }
   ],
   "source": [
    "# display the expression information\n",
    "expr.exprInfo()"
   ]
  },
  {
   "cell_type": "code",
   "execution_count": null,
   "metadata": {},
   "outputs": [],
   "source": []
  }
 ],
 "metadata": {
  "kernelspec": {
   "display_name": "Python 3",
   "language": "python",
   "name": "python3"
  }
 },
 "nbformat": 4,
 "nbformat_minor": 0
}
