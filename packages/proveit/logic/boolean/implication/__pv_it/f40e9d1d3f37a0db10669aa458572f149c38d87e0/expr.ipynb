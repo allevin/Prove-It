{
 "cells": [
  {
   "cell_type": "markdown",
   "metadata": {},
   "source": [
    "Expression of type <a class=\"ProveItLink\" href=\"../../../../../../../doc/html/api/proveit.logic.Equals.html\">Equals</a>\n",
    "=======================\n",
    "# from context <a class=\"ProveItLink\" href=\"../../_context_.ipynb\">proveit.logic.boolean.implication</a>"
   ]
  },
  {
   "cell_type": "code",
   "execution_count": 1,
   "metadata": {},
   "outputs": [],
   "source": [
    "# import Expression classes needed to build the expression\n",
    "from proveit._common_ import A, B\n",
    "from proveit.logic import Equals, FALSE, Implies"
   ]
  },
  {
   "cell_type": "code",
   "execution_count": 2,
   "metadata": {},
   "outputs": [
    {
     "data": {
      "text/html": [
       "<strong id=\"expr\">expr:</strong> <a class=\"ProveItLink\" href=\"expr.ipynb\"><img src=\"data:image/png;base64,iVBORw0KGgoAAAANSUhEUgAAAHoAAAAVBAMAAAB71edYAAAAMFBMVEX////c3NwiIiJERESqqqqY\n",
       "mJh2dnZmZmYQEBDu7u4yMjJUVFTMzMyIiIi6uroAAAAs73DqAAAAAXRSTlMAQObYZgAAAXdJREFU\n",
       "OMtjYKAM8F0gqIT1AU6p00Ac/X/3biscSg4BcQ0WcVkwuRJENDMwsP/Drns9EHNhET8OInhBDuf5\n",
       "C8S/4RKcyK7WnwAkEnDo5pgAMuIjUMU3uATXBIQikXoBoHENOHS/AhHMQFmmTkRAbkAounAfFB4m\n",
       "OHSXgQj+DQyMi5EszEUYNME/AEil49C9FESc33u3KAAsVqQEAvoFMDXzGM6DAsYLxK5aBQKrkXX3\n",
       "gYj7Agyc2sgGe8Gi7wGDPMikFzjsBseTBciEACQpzhUQ7Ty7d+83ADkOn25QZMUjx8qpTKi3gZGy\n",
       "AI/uFpANX4HEfgeEv5UsoUqAYkwNMJdD5JSRdZtCo5vxF5K53lCaEaib6wOQEYXD7nRodJ9YiZBg\n",
       "XABlzAJJ/sQTY4+AKdz+9+5dS5EkmAUgtHD/QgZW+1/AQF+HphXoCQ2QJzgEMI3lQRfAllIhuSCB\n",
       "iDKADWcZsJII3bNwykgToXsjThlGwiUT7wEcEgDnoGOQThs1xgAAAABJRU5ErkJggg==\n",
       "\" style=\"display:inline;vertical-align:middle;\" /></a><br>"
      ],
      "text/plain": [
       "expr: (B => A) = FALSE"
      ]
     },
     "execution_count": 2,
     "metadata": {},
     "output_type": "execute_result"
    }
   ],
   "source": [
    "# build up the expression from sub-expressions\n",
    "expr = Equals(Implies(B, A), FALSE)"
   ]
  },
  {
   "cell_type": "code",
   "execution_count": 3,
   "metadata": {},
   "outputs": [
    {
     "name": "stdout",
     "output_type": "stream",
     "text": [
      "Passed sanity check: built 'expr' is the same as the stored Expression.\n"
     ]
    }
   ],
   "source": [
    "# check that the built expression is the same as the stored expression\n",
    "%check_expr"
   ]
  },
  {
   "cell_type": "code",
   "execution_count": 4,
   "metadata": {},
   "outputs": [
    {
     "data": {
      "text/html": [
       "<table><tr><th>&nbsp;</th><th>core type</th><th>sub-expressions</th><th>expression</th></tr>\n",
       "<tr><td>0</td><td>Operation</td><td>operator:&nbsp;1<br>operands:&nbsp;2<br></td><td><a class=\"ProveItLink\" href=\"expr.ipynb\"><img src=\"data:image/png;base64,iVBORw0KGgoAAAANSUhEUgAAAHoAAAAVBAMAAAB71edYAAAAMFBMVEX////c3NwiIiJERESqqqqY\n",
       "mJh2dnZmZmYQEBDu7u4yMjJUVFTMzMyIiIi6uroAAAAs73DqAAAAAXRSTlMAQObYZgAAAXdJREFU\n",
       "OMtjYKAM8F0gqIT1AU6p00Ac/X/3biscSg4BcQ0WcVkwuRJENDMwsP/Drns9EHNhET8OInhBDuf5\n",
       "C8S/4RKcyK7WnwAkEnDo5pgAMuIjUMU3uATXBIQikXoBoHENOHS/AhHMQFmmTkRAbkAounAfFB4m\n",
       "OHSXgQj+DQyMi5EszEUYNME/AEil49C9FESc33u3KAAsVqQEAvoFMDXzGM6DAsYLxK5aBQKrkXX3\n",
       "gYj7Agyc2sgGe8Gi7wGDPMikFzjsBseTBciEACQpzhUQ7Ty7d+83ADkOn25QZMUjx8qpTKi3gZGy\n",
       "AI/uFpANX4HEfgeEv5UsoUqAYkwNMJdD5JSRdZtCo5vxF5K53lCaEaib6wOQEYXD7nRodJ9YiZBg\n",
       "XABlzAJJ/sQTY4+AKdz+9+5dS5EkmAUgtHD/QgZW+1/AQF+HphXoCQ2QJzgEMI3lQRfAllIhuSCB\n",
       "iDKADWcZsJII3bNwykgToXsjThlGwiUT7wEcEgDnoGOQThs1xgAAAABJRU5ErkJggg==\n",
       "\" style=\"display:inline;vertical-align:middle;\" /></a></td></tr>\n",
       "<tr><td>1</td><td>Literal</td><td></td><td><a class=\"ProveItLink\" href=\"../../../../equality/__pv_it/2fb26078095930560931daa0500ce419a39ea6cd0/expr.ipynb\"><img src=\"data:image/png;base64,iVBORw0KGgoAAAANSUhEUgAAAA4AAAAFBAMAAACHocAhAAAAFVBMVEX///9EREQiIiJUVFQyMjJm\n",
       "ZmYAAADubVkoAAAAAXRSTlMAQObYZgAAABRJREFUCNdjCHEBAWcGXCBICQQUAUpuAwlgGKrkAAAA\n",
       "AElFTkSuQmCC\n",
       "\" style=\"display:inline;vertical-align:middle;\" /></a></td></tr>\n",
       "<tr><td>2</td><td>ExprTuple</td><td>3, 4</td><td><a class=\"ProveItLink\" href=\"../9170c384791c4d4c04ed82efb80ae147fe79b6010/expr.ipynb\"><img src=\"data:image/png;base64,iVBORw0KGgoAAAANSUhEUgAAAGYAAAAVBAMAAABGR4Y+AAAAMFBMVEX////c3NwiIiJERESqqqqY\n",
       "mJh2dnZmZmYQEBDu7u4yMjJUVFTMzMyIiIi6uroAAAAs73DqAAAAAXRSTlMAQObYZgAAAXFJREFU\n",
       "OMtjYCAH8F0gSTnrAyBxGoij/+/ebfUAqxoeBTiTEWx6DRCvBDGaGRjY/2HVw/UBob0ALMDAwAvS\n",
       "zPMXiH/DJScg6Qn6iaaHNYGBA6SA9yOQ/Q0uuRKhhdH9I5oezgaGVyCauYGBgakTLvkaoYeX9x+a\n",
       "HgYThjIQxb+BgXExwkVsiKB8yfIVXU86w1IQdX7v3aIAEINdCQy+w5RxPgB5FVWPF0MfiLovwMCp\n",
       "jeRxlnWwyGNg/I6u5wUD2LkWIH0BSJpm9UHo07t3f0bXcx6iBxTM8QlIEbkM6jlgPHdh6mkBcUD+\n",
       "3O+A8I8yVAsLEGtgus0UGj2Mv5C8swHKEAHi9cCQQNETBQw5SPScQIpIKVioLQAS9hMY5iughvUj\n",
       "oIPsf+/etRQpBAyhacDilwBD8P/lDDM+QlzdpKRkwMCwjoFDADNdHkAXeIjEBqYd1gQiMg1yNIAS\n",
       "yUoS9cwCYmnCWniRORvhuY9owHuAAQAKRWAV1kfiUwAAAABJRU5ErkJggg==\n",
       "\" style=\"display:inline;vertical-align:middle;\" /></a></td></tr>\n",
       "<tr><td>3</td><td>Operation</td><td>operator:&nbsp;5<br>operands:&nbsp;6<br></td><td><a class=\"ProveItLink\" href=\"../39edb9fe2b7411693ffcf43a9bf0fb98391840e40/expr.ipynb\"><img src=\"data:image/png;base64,iVBORw0KGgoAAAANSUhEUgAAAEAAAAAPBAMAAACmSdRUAAAAMFBMVEX///+qqqru7u4iIiJ2dnbc\n",
       "3NyIiIjMzMxmZmYQEBC6uroyMjJERERUVFSYmJgAAADLUcuvAAAAAXRSTlMAQObYZgAAAOhJREFU\n",
       "GNNjYGB4+//u3dMLGLABdgMwNYeBgeMXVgXcH8DKvgHxX7ggE5KCx59AJNtXBga+LwhdCnAmq8RX\n",
       "EMUzgYGBeRJclOsCnMnGBraZ/wID6x6ENgY3OGsR4z8QVX8trfkBWKDZGATsG2CuWQByHgNDfgAD\n",
       "ky2y26WhfuZiYP0Bok+CFD1AUsC0E6Ki9u7dPyAa5MP3DkgKqp0gNFDZbFAwgBxyXwDhBuNDEHlG\n",
       "ILaEBgPrbyQDZKF0IBDvhwZD5SaEPOsGqEtA9HkFBo7zf+/e3odkAE8ARN3J3wEMb/7vwBKDqFwA\n",
       "TPY/hyWgimwAAAAASUVORK5CYII=\n",
       "\" style=\"display:inline;vertical-align:middle;\" /></a></td></tr>\n",
       "<tr><td>4</td><td>Literal</td><td></td><td><a class=\"ProveItLink\" href=\"../../../__pv_it/8f1f7fac882de28c72b62ab80a1700b6d8fd066b0/expr.ipynb\"><img src=\"data:image/png;base64,iVBORw0KGgoAAAANSUhEUgAAAA4AAAAOBAMAAADtZjDiAAAAG1BMVEX///9EREQQEBAiIiJmZmbM\n",
       "zMyIiIjc3NwAAACryk5kAAAAAXRSTlMAQObYZgAAABlJREFUCNdjYGBgKGOAgBBa0s7GxkbGxoYA\n",
       "FMUF2aBfHgoAAAAASUVORK5CYII=\n",
       "\" style=\"display:inline;vertical-align:middle;\" /></a></td></tr>\n",
       "<tr><td>5</td><td>Literal</td><td></td><td><a class=\"ProveItLink\" href=\"../e5c030cabcb650938f92dee8256fe11cd12bf9b30/expr.ipynb\"><img src=\"data:image/png;base64,iVBORw0KGgoAAAANSUhEUgAAABMAAAANBAMAAAC5okgUAAAALVBMVEX////c3NxERETMzMwQEBCq\n",
       "qqoiIiJmZmaIiIh2dnZUVFS6uroyMjLu7u4AAACPpZJTAAAAAXRSTlMAQObYZgAAAD1JREFUCNdj\n",
       "YAABXgY44LkAZ3IvQAjPABFlaSCQV4AQjtkAZ/IegbNt5sLUpunC5aPgLMYDcCaTAJzJDCIA2yMN\n",
       "HCCUuIIAAAAASUVORK5CYII=\n",
       "\" style=\"display:inline;vertical-align:middle;\" /></a></td></tr>\n",
       "<tr><td>6</td><td>ExprTuple</td><td>7, 8</td><td><a class=\"ProveItLink\" href=\"../1d9a4008d5668a743cd8f9a815871ca1c5e3cf130/expr.ipynb\"><img src=\"data:image/png;base64,iVBORw0KGgoAAAANSUhEUgAAADYAAAAVBAMAAAD/UwB2AAAAMFBMVEX////c3NwiIiJERESqqqqY\n",
       "mJh2dnZmZmYQEBDu7u4yMjJUVFTMzMyIiIi6uroAAAAs73DqAAAAAXRSTlMAQObYZgAAAS5JREFU\n",
       "KM9jYMAH+C5gFWZ9ACROA3H0/927rR4gJA4BcQ0QrwRxmhkY2P8h5NYDMRcDAy/ISJ6/QPwbYZ7+\n",
       "BCCRwMABpBh4PwLZ3+ByIvUCDAycDQyvQBzmBgYGpk643IX7ILtNGMpAHP4NDIyLJ8BdPsE/AEil\n",
       "MywF8c7vvVsUANc2j+E8yBFeDH0g3n0BBk5tuNwDBvkCIPWCAexyC5A8TCPP7t37DUCGQeRAzo9P\n",
       "gFnHwMCxACzXAlL5FUjsd4DKAWmmBrCZplDvMf4CegkkxQiU4/oAZEQBXQrx3glg2M1XAHJmgQR+\n",
       "gv3wCBiS9r937wL5ZQZQv3D/QgZW+19Ah65j4BBAipiHSGxgmLEmIPEDkNhsF6BxhEUOZK80gsuL\n",
       "HPEbQW7GniZ4DzAAAJGlTQr2mfDRAAAAAElFTkSuQmCC\n",
       "\" style=\"display:inline;vertical-align:middle;\" /></a></td></tr>\n",
       "<tr><td>7</td><td>Variable</td><td></td><td><a class=\"ProveItLink\" href=\"../../../../../__pv_it/077b2ff79244fb4582cbe22c6e3356fa92a52f2f0/expr.ipynb\"><img src=\"data:image/png;base64,iVBORw0KGgoAAAANSUhEUgAAABAAAAAOBAMAAADUAYG5AAAAMFBMVEX///+qqqru7u4iIiJ2dnbc\n",
       "3NyIiIjMzMxmZmYQEBC6uroyMjJERERUVFSYmJgAAADLUcuvAAAAAXRSTlMAQObYZgAAAGpJREFU\n",
       "CNdjYGB4+//u3dMLGIBgDgMDxy8gzf4NiP8CGWxfGRj4vgAZPBMYGJgnARn8FxhY9ygAGfXX0pof\n",
       "gDTlBzAw2YIYJ0EckBBI53sHoBH/gIz7AhBjWH9DjancBLTl/N+7t/cxMAAA3u4f/5xagjYAAAAA\n",
       "SUVORK5CYII=\n",
       "\" style=\"display:inline;vertical-align:middle;\" /></a></td></tr>\n",
       "<tr><td>8</td><td>Variable</td><td></td><td><a class=\"ProveItLink\" href=\"../../../../../__pv_it/2cbe72a7ad6f655694dd697106680215e8489b600/expr.ipynb\"><img src=\"data:image/png;base64,iVBORw0KGgoAAAANSUhEUgAAAA8AAAAOBAMAAAACpFvcAAAALVBMVEX///8QEBBERERUVFS6urqI\n",
       "iIhmZmaqqqrc3Nzu7u6YmJgyMjIiIiLMzMwAAADtIaYWAAAAAXRSTlMAQObYZgAAAFtJREFUCNdj\n",
       "YACBOwxQsA9Kc52bAGG05zVAGAFxDmCaZULdAjBjCsO9ADDDgaEvAUTzGhvbKYCVMDAwbgAxChgY\n",
       "eASANAeQwf0AyJgNxEwvGRia5HYwcOm9TgAA6BoR3jrzwFcAAAAASUVORK5CYII=\n",
       "\" style=\"display:inline;vertical-align:middle;\" /></a></td></tr>\n",
       "</table>\n"
      ],
      "text/plain": [
       "0. (B => A) = FALSE\n",
       "   core type: Operation\n",
       "   operator: 1\n",
       "   operands: 2\n",
       "1. =\n",
       "   core type: Literal\n",
       "   sub-expressions: \n",
       "2. (B => A , FALSE)\n",
       "   core type: ExprTuple\n",
       "   sub-expressions: 3, 4\n",
       "3. B => A\n",
       "   core type: Operation\n",
       "   operator: 5\n",
       "   operands: 6\n",
       "4. FALSE\n",
       "   core type: Literal\n",
       "   sub-expressions: \n",
       "5. =>\n",
       "   core type: Literal\n",
       "   sub-expressions: \n",
       "6. (B , A)\n",
       "   core type: ExprTuple\n",
       "   sub-expressions: 7, 8\n",
       "7. B\n",
       "   core type: Variable\n",
       "   sub-expressions: \n",
       "8. A\n",
       "   core type: Variable\n",
       "   sub-expressions: "
      ]
     },
     "execution_count": 4,
     "metadata": {},
     "output_type": "execute_result"
    }
   ],
   "source": [
    "# display the expression information\n",
    "expr.exprInfo()"
   ]
  },
  {
   "cell_type": "code",
   "execution_count": null,
   "metadata": {},
   "outputs": [],
   "source": []
  }
 ],
 "metadata": {
  "kernelspec": {
   "display_name": "Python 3",
   "language": "python",
   "name": "python3"
  }
 },
 "nbformat": 4,
 "nbformat_minor": 0
}
