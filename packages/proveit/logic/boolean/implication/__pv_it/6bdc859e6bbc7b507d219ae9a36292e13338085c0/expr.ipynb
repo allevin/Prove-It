{
 "cells": [
  {
   "cell_type": "markdown",
   "metadata": {},
   "source": [
    "Expression of type <a class=\"ProveItLink\" href=\"../../../../../../../doc/html/api/proveit.logic.Implies.html\">Implies</a>\n",
    "=======================\n",
    "# from context <a class=\"ProveItLink\" href=\"../../_context_.ipynb\">proveit.logic.boolean.implication</a>"
   ]
  },
  {
   "cell_type": "code",
   "execution_count": 1,
   "metadata": {},
   "outputs": [],
   "source": [
    "# import Expression classes needed to build the expression\n",
    "from proveit._common_ import A, B\n",
    "from proveit.logic import Implies, Not"
   ]
  },
  {
   "cell_type": "code",
   "execution_count": 2,
   "metadata": {},
   "outputs": [
    {
     "data": {
      "text/html": [
       "<strong id=\"expr\">expr:</strong> <a class=\"ProveItLink\" href=\"expr.ipynb\"><img src=\"data:image/png;base64,iVBORw0KGgoAAAANSUhEUgAAAHsAAAAVBAMAAACUF4xmAAAAMFBMVEX///92dnYQEBBERERUVFS6\n",
       "urqIiIhmZmaqqqrc3Nzu7u6YmJgyMjIiIiLMzMwAAACFkkdwAAAAAXRSTlMAQObYZgAAAZhJREFU\n",
       "OMu1Uz1LA0EQfYma75yptA1IQGwUO1FIisNKyBWWCqksTfwBYv6BAS0sBINgl0JBa0/EQi0stBWD\n",
       "2EoiJIoa0N2bveyge3Y+eDeP3X27czO7wH9hqGSSCieKHp5N9iejPP6y7TkH0SY8ergx2a+MEmPC\n",
       "1wVcEAWSD3U97cuITphJWK+CHeAIRIGdjdrvk8J6SyYReRfHvQD7IAqUyo6eX1RxSQ8xiYEskJ4Q\n",
       "sUoUda1vHur5kMp0TQ8xieEC4ucim1CFCByg5Vmi9x7eaN21tjCJ1vzKujws5hIBB3sVtiB24YWc\n",
       "v1+GS5RrSNzJlLNEWLZdnOIda+Tkt+uXusAlpkUsi+OtNhFDorQuc1tn9T/somc4zTC7KF86y/79\n",
       "lto0rj1MWp8iFqs6+bjQqTb79QLFWe1hUrY93pNXzSU2ZDM/tH1XxVF/oMmlbPujvFmqcVuTl0jm\n",
       "e7r0Myou6x21jOY79oLXx5RD/An/GYX1RWayD3ZpjUhmTLKPEcVABDxYQsIlBmPbKBUGa8RgxEsm\n",
       "qbBK/AaZC3rii2eiKwAAAABJRU5ErkJggg==\n",
       "\" style=\"display:inline;vertical-align:middle;\" /></a><br>"
      ],
      "text/plain": [
       "expr: A => [not]([not](B))"
      ]
     },
     "execution_count": 2,
     "metadata": {},
     "output_type": "execute_result"
    }
   ],
   "source": [
    "# build up the expression from sub-expressions\n",
    "expr = Implies(A, Not(Not(B)))"
   ]
  },
  {
   "cell_type": "code",
   "execution_count": 3,
   "metadata": {},
   "outputs": [
    {
     "name": "stdout",
     "output_type": "stream",
     "text": [
      "Passed sanity check: built 'expr' is the same as the stored Expression.\n"
     ]
    }
   ],
   "source": [
    "# check that the built expression is the same as the stored expression\n",
    "%check_expr"
   ]
  },
  {
   "cell_type": "code",
   "execution_count": 4,
   "metadata": {},
   "outputs": [
    {
     "data": {
      "text/html": [
       "<table><tr><th>&nbsp;</th><th>core type</th><th>sub-expressions</th><th>expression</th></tr>\n",
       "<tr><td>0</td><td>Operation</td><td>operator:&nbsp;1<br>operands:&nbsp;2<br></td><td><a class=\"ProveItLink\" href=\"expr.ipynb\"><img src=\"data:image/png;base64,iVBORw0KGgoAAAANSUhEUgAAAHsAAAAVBAMAAACUF4xmAAAAMFBMVEX///92dnYQEBBERERUVFS6\n",
       "urqIiIhmZmaqqqrc3Nzu7u6YmJgyMjIiIiLMzMwAAACFkkdwAAAAAXRSTlMAQObYZgAAAZhJREFU\n",
       "OMu1Uz1LA0EQfYma75yptA1IQGwUO1FIisNKyBWWCqksTfwBYv6BAS0sBINgl0JBa0/EQi0stBWD\n",
       "2EoiJIoa0N2bveyge3Y+eDeP3X27czO7wH9hqGSSCieKHp5N9iejPP6y7TkH0SY8ergx2a+MEmPC\n",
       "1wVcEAWSD3U97cuITphJWK+CHeAIRIGdjdrvk8J6SyYReRfHvQD7IAqUyo6eX1RxSQ8xiYEskJ4Q\n",
       "sUoUda1vHur5kMp0TQ8xieEC4ucim1CFCByg5Vmi9x7eaN21tjCJ1vzKujws5hIBB3sVtiB24YWc\n",
       "v1+GS5RrSNzJlLNEWLZdnOIda+Tkt+uXusAlpkUsi+OtNhFDorQuc1tn9T/somc4zTC7KF86y/79\n",
       "lto0rj1MWp8iFqs6+bjQqTb79QLFWe1hUrY93pNXzSU2ZDM/tH1XxVF/oMmlbPujvFmqcVuTl0jm\n",
       "e7r0Myou6x21jOY79oLXx5RD/An/GYX1RWayD3ZpjUhmTLKPEcVABDxYQsIlBmPbKBUGa8RgxEsm\n",
       "qbBK/AaZC3rii2eiKwAAAABJRU5ErkJggg==\n",
       "\" style=\"display:inline;vertical-align:middle;\" /></a></td></tr>\n",
       "<tr><td>1</td><td>Literal</td><td></td><td><a class=\"ProveItLink\" href=\"../e5c030cabcb650938f92dee8256fe11cd12bf9b30/expr.ipynb\"><img src=\"data:image/png;base64,iVBORw0KGgoAAAANSUhEUgAAABMAAAANBAMAAAC5okgUAAAALVBMVEX////c3NxERETMzMwQEBCq\n",
       "qqoiIiJmZmaIiIh2dnZUVFS6uroyMjLu7u4AAACPpZJTAAAAAXRSTlMAQObYZgAAAD1JREFUCNdj\n",
       "YAABXgY44LkAZ3IvQAjPABFlaSCQV4AQjtkAZ/IegbNt5sLUpunC5aPgLMYDcCaTAJzJDCIA2yMN\n",
       "HCCUuIIAAAAASUVORK5CYII=\n",
       "\" style=\"display:inline;vertical-align:middle;\" /></a></td></tr>\n",
       "<tr><td>2</td><td>ExprTuple</td><td>3, 4</td><td><a class=\"ProveItLink\" href=\"../cfabb3e2e5ab84d17cf1855853c119b7906f21700/expr.ipynb\"><img src=\"data:image/png;base64,iVBORw0KGgoAAAANSUhEUgAAAGEAAAAVBAMAAACkm51HAAAAMFBMVEX////c3NwiIiJERESqqqqY\n",
       "mJh2dnZmZmYQEBDu7u4yMjJUVFTMzMyIiIi6uroAAAAs73DqAAAAAXRSTlMAQObYZgAAAZZJREFU\n",
       "OMuVk7FLw0AYxV+NsWnapgWdFKkIiptdBJ3sf2CnjtrNSSgKrq3gooMNTuIgcXCogxYcM1RcO7Sb\n",
       "i6XBURBUVNCC+uUuXC5pOxj40Xfvvne5fHcF/v8Y7cH+c9hY90CTj+9C84m6kGqjZ99cIXoLBmrc\n",
       "vg4ldNPXWhYoO7BIEkm+KXXRDCY6km5RTauOAklC45UT5XQwcSDpLs1tFHFCknjiZrvrBPthSYNl\n",
       "YsGEkoPLLi8w1/KBRLQoDXrA5AowVmJcMO+M7VX+cGmBRK9zP0e/oxbjiJkOMiU+vT1Lzzw0R0gk\n",
       "X4FjarZRYfywVWy7kZXe0ETKERIKVSY/qOqFwRIG9cwamkjR+uqnSOy7NjVhpBJIaDk/0aJvir+L\n",
       "XS2RG6FpnRYw/YSS9xPucWRoCypnk9xTQvlC7E10h3XSk+5xJA5N0d1HYLx6DnX1uxSr+uduzAi5\n",
       "82vbl+4rdYehSbfDkPRe//33bokqHa4qTRf6E1setcEJ3QwHYhYHU74nX5RIPZyIpzmIDPnXToeN\n",
       "B84fh0VtIHRpaqcAAAAASUVORK5CYII=\n",
       "\" style=\"display:inline;vertical-align:middle;\" /></a></td></tr>\n",
       "<tr><td>3</td><td>Variable</td><td></td><td><a class=\"ProveItLink\" href=\"../../../../../__pv_it/2cbe72a7ad6f655694dd697106680215e8489b600/expr.ipynb\"><img src=\"data:image/png;base64,iVBORw0KGgoAAAANSUhEUgAAAA8AAAAOBAMAAAACpFvcAAAALVBMVEX///8QEBBERERUVFS6urqI\n",
       "iIhmZmaqqqrc3Nzu7u6YmJgyMjIiIiLMzMwAAADtIaYWAAAAAXRSTlMAQObYZgAAAFtJREFUCNdj\n",
       "YACBOwxQsA9Kc52bAGG05zVAGAFxDmCaZULdAjBjCsO9ADDDgaEvAUTzGhvbKYCVMDAwbgAxChgY\n",
       "eASANAeQwf0AyJgNxEwvGRia5HYwcOm9TgAA6BoR3jrzwFcAAAAASUVORK5CYII=\n",
       "\" style=\"display:inline;vertical-align:middle;\" /></a></td></tr>\n",
       "<tr><td>4</td><td>Operation</td><td>operator:&nbsp;6<br>operand:&nbsp;5<br></td><td><a class=\"ProveItLink\" href=\"../41c8960de77a58031318d86cf94a9006394e01c80/expr.ipynb\"><img src=\"data:image/png;base64,iVBORw0KGgoAAAANSUhEUgAAADoAAAAVBAMAAADlb+D4AAAAMFBMVEX////c3NxERESqqqqYmJgQ\n",
       "EBDu7u4yMjKIiIi6urpUVFTMzMx2dnYiIiJmZmYAAABjE816AAAAAXRSTlMAQObYZgAAAPRJREFU\n",
       "KM9jYCAOzEAXYJmAYHMvQAiv/7VqUSUDw2uELHsCgs2qwMDwfgIDO0KkA8nM/Q1AvICB5QBcJAxJ\n",
       "tl+AgcH/AANbAEyAswBJVhWIrwJtUoYJ8B1Akv3FwCCuBqTPwR3lgOT8Xx19V0AMc4a3d4HgDgMr\n",
       "0HNQJgPHRwaGXJAHp0JU72Lgh3l9FwMDE9A1HF9Abscmyw/Ux/IHWZbVACG7H+gGrs/IJjM5IGRB\n",
       "3pUH+dAd6koGngcwB4O9yx2egOwjzgtwDz36v2pVOdioSrhYIGacIkKSwQdTlqcBawxCQTqCybgA\n",
       "Q3YhElsCXZJjAwMAx6pAxZFXv1cAAAAASUVORK5CYII=\n",
       "\" style=\"display:inline;vertical-align:middle;\" /></a></td></tr>\n",
       "<tr><td>5</td><td>Operation</td><td>operator:&nbsp;6<br>operand:&nbsp;7<br></td><td><a class=\"ProveItLink\" href=\"../1da4e2fe7c44632f084fa27ea32e26dc689384c20/expr.ipynb\"><img src=\"data:image/png;base64,iVBORw0KGgoAAAANSUhEUgAAAB0AAAAOBAMAAAAh/woJAAAAMFBMVEX///+qqqru7u7c3NyIiIgQ\n",
       "EBC6uroyMjJERESYmJhUVFTMzMx2dnYiIiJmZmYAAADtoHoAAAAAAXRSTlMAQObYZgAAAHpJREFU\n",
       "CNdjYIACzvW/Vq0oY0AA1gYGhvcJCP5+ByBegOD7GzAwzD+A4LcC8VUFBP8XA4N5E4LL/cvF7yaQ\n",
       "fnsXCO4wMLB8ZmDQhRm3i4GBIwAo9hPB5wfKcf5B8PdPYGDg+ojgg6y3L4AZDraeOxxh/Yv/q1aV\n",
       "A7UAAFRxJOZ+1MVPAAAAAElFTkSuQmCC\n",
       "\" style=\"display:inline;vertical-align:middle;\" /></a></td></tr>\n",
       "<tr><td>6</td><td>Literal</td><td></td><td><a class=\"ProveItLink\" href=\"../../../negation/__pv_it/7bea79645543c2413aa17e787cca04e21046fde60/expr.ipynb\"><img src=\"data:image/png;base64,iVBORw0KGgoAAAANSUhEUgAAAAwAAAAGBAMAAAAFwGKyAAAAFVBMVEX///9UVFTMzMx2dnYiIiJm\n",
       "ZmYAAACWz4ZEAAAAAXRSTlMAQObYZgAAABRJREFUCNdjCHEBAmcGMFDEQzEBAEl+Ai6uYJv/AAAA\n",
       "AElFTkSuQmCC\n",
       "\" style=\"display:inline;vertical-align:middle;\" /></a></td></tr>\n",
       "<tr><td>7</td><td>Variable</td><td></td><td><a class=\"ProveItLink\" href=\"../../../../../__pv_it/077b2ff79244fb4582cbe22c6e3356fa92a52f2f0/expr.ipynb\"><img src=\"data:image/png;base64,iVBORw0KGgoAAAANSUhEUgAAABAAAAAOBAMAAADUAYG5AAAAMFBMVEX///+qqqru7u4iIiJ2dnbc\n",
       "3NyIiIjMzMxmZmYQEBC6uroyMjJERERUVFSYmJgAAADLUcuvAAAAAXRSTlMAQObYZgAAAGpJREFU\n",
       "CNdjYGB4+//u3dMLGIBgDgMDxy8gzf4NiP8CGWxfGRj4vgAZPBMYGJgnARn8FxhY9ygAGfXX0pof\n",
       "gDTlBzAw2YIYJ0EckBBI53sHoBH/gIz7AhBjWH9DjancBLTl/N+7t/cxMAAA3u4f/5xagjYAAAAA\n",
       "SUVORK5CYII=\n",
       "\" style=\"display:inline;vertical-align:middle;\" /></a></td></tr>\n",
       "</table>\n"
      ],
      "text/plain": [
       "0. A => [not]([not](B))\n",
       "   core type: Operation\n",
       "   operator: 1\n",
       "   operands: 2\n",
       "1. =>\n",
       "   core type: Literal\n",
       "   sub-expressions: \n",
       "2. (A , [not]([not](B)))\n",
       "   core type: ExprTuple\n",
       "   sub-expressions: 3, 4\n",
       "3. A\n",
       "   core type: Variable\n",
       "   sub-expressions: \n",
       "4. [not]([not](B))\n",
       "   core type: Operation\n",
       "   operator: 6\n",
       "   operand: 5\n",
       "5. [not](B)\n",
       "   core type: Operation\n",
       "   operator: 6\n",
       "   operand: 7\n",
       "6. not\n",
       "   core type: Literal\n",
       "   sub-expressions: \n",
       "7. B\n",
       "   core type: Variable\n",
       "   sub-expressions: "
      ]
     },
     "execution_count": 4,
     "metadata": {},
     "output_type": "execute_result"
    }
   ],
   "source": [
    "# display the expression information\n",
    "expr.exprInfo()"
   ]
  },
  {
   "cell_type": "code",
   "execution_count": null,
   "metadata": {},
   "outputs": [],
   "source": []
  }
 ],
 "metadata": {
  "kernelspec": {
   "display_name": "Python 3",
   "language": "python",
   "name": "python3"
  }
 },
 "nbformat": 4,
 "nbformat_minor": 0
}
