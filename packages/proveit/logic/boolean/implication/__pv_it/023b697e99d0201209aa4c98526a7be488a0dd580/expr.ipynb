{
 "cells": [
  {
   "cell_type": "markdown",
   "metadata": {},
   "source": [
    "Expression of type <a class=\"ProveItLink\" href=\"../../../../../../../doc/html/api/proveit.logic.Not.html\">Not</a>\n",
    "=======================\n",
    "# from context <a class=\"ProveItLink\" href=\"../../_context_.ipynb\">proveit.logic.boolean.implication</a>"
   ]
  },
  {
   "cell_type": "code",
   "execution_count": 1,
   "metadata": {},
   "outputs": [],
   "source": [
    "# import Expression classes needed to build the expression\n",
    "from proveit import Variable\n",
    "from proveit._common_ import A, B\n",
    "from proveit.logic import And, Implies, Not"
   ]
  },
  {
   "cell_type": "code",
   "execution_count": 2,
   "metadata": {},
   "outputs": [
    {
     "data": {
      "text/html": [
       "<strong id=\"expr\">expr:</strong> <a class=\"ProveItLink\" href=\"../dbd72e11ed23840199d7b4c6e5aed0a5a6ffad190/expr.ipynb\"><img src=\"data:image/png;base64,iVBORw0KGgoAAAANSUhEUgAAAK4AAAAVBAMAAAAtL8hrAAAAMFBMVEX////c3NxERESqqqqYmJgQ\n",
       "EBDu7u4yMjKIiIi6urpUVFTMzMx2dnYiIiJmZmYAAABjE816AAAAAXRSTlMAQObYZgAAAjNJREFU\n",
       "OMu1VD1oFFEQnnXv9tbdu8tCwEgI+HumCkmXLh5pRDEoCordEQjXWCQiQkDMlkHFXJNEhMBZKdt4\n",
       "jY1NrrBIJSGYJigIlhqIISRekMR5+2aZie7dqzLw8WbezvvevpnvPYBjt5OhhsGumpkyNRl9IKD5\n",
       "qynZ1w6jqL8GxYaZ+IcMHhHQcltp2bcAii2ASQpPtefNCd8NNZSN7fJ8JXH834h9gOsUP+lQiCb7\n",
       "2YoGmjXy6+gx9MY4mfkDMEHbDFTa8jo32V8kKAa3xfOvEucEJhfu4DgUh97LDj2+wO5PAtqCvcPz\n",
       "+WR5Vx2sB/iP+W9xWIUjze172v2CN/rEHx4S8BQ1VUps0tfYDihh+e3sZhlHWzfuI3yXJ29mPmd5\n",
       "o2HYVEu/oHuPgCIG60Assaf1OBeAs6E+6+KtQo9IyoO7ZbMC51m6LQJGUbQtj1jV25UUN/6wH4sw\n",
       "E4InlOyAd1YsWU7jxdtyV+T4j3XjUWJwo5nwFirg1+Xu2TCd9zYBbMS6qO+apvVVL98NJXUYQUxJ\n",
       "3jMNlrqsw0UCdCNmRHnrLF9rT1Ug7tsUcSc3IZgDl3mv0FFJGgqOWjbIKT1Cvu/VJYl15qtqFpj3\n",
       "crkEpyFNZ0saVmkvgNFDvqTn9FAc3I/exDrMqdfKq9HVt8+jXYLx5/dXykkAMC3qHmj8a/89XxNa\n",
       "i9Rh4z1Wb4V8L9raijklH6a/k53MmTTnVGXQSzCYF5hzXsvACjUM9sxM6zbgL9d7i8jA+ltpAAAA\n",
       "AElFTkSuQmCC\n",
       "\" style=\"display:inline;vertical-align:middle;\" /></a><br>"
      ],
      "text/plain": [
       "expr: [not]((A => B) and _x_)"
      ]
     },
     "execution_count": 2,
     "metadata": {},
     "output_type": "execute_result"
    }
   ],
   "source": [
    "# build up the expression from sub-expressions\n",
    "expr = Not(And(Implies(A, B), Variable(\"_x_\", latexFormat = r\"{_{-}x_{-}}\")))"
   ]
  },
  {
   "cell_type": "code",
   "execution_count": 3,
   "metadata": {},
   "outputs": [
    {
     "name": "stdout",
     "output_type": "stream",
     "text": [
      "Passed sanity check: built 'expr' is the same as the stored Expression.\n"
     ]
    }
   ],
   "source": [
    "# check that the built expression is the same as the stored expression\n",
    "%check_expr"
   ]
  },
  {
   "cell_type": "code",
   "execution_count": 4,
   "metadata": {},
   "outputs": [
    {
     "data": {
      "text/html": [
       "<table><tr><th>&nbsp;</th><th>core type</th><th>sub-expressions</th><th>expression</th></tr>\n",
       "<tr><td>0</td><td>Operation</td><td>operator:&nbsp;1<br>operand:&nbsp;2<br></td><td><a class=\"ProveItLink\" href=\"../dbd72e11ed23840199d7b4c6e5aed0a5a6ffad190/expr.ipynb\"><img src=\"data:image/png;base64,iVBORw0KGgoAAAANSUhEUgAAAK4AAAAVBAMAAAAtL8hrAAAAMFBMVEX////c3NxERESqqqqYmJgQ\n",
       "EBDu7u4yMjKIiIi6urpUVFTMzMx2dnYiIiJmZmYAAABjE816AAAAAXRSTlMAQObYZgAAAjNJREFU\n",
       "OMu1VD1oFFEQnnXv9tbdu8tCwEgI+HumCkmXLh5pRDEoCordEQjXWCQiQkDMlkHFXJNEhMBZKdt4\n",
       "jY1NrrBIJSGYJigIlhqIISRekMR5+2aZie7dqzLw8WbezvvevpnvPYBjt5OhhsGumpkyNRl9IKD5\n",
       "qynZ1w6jqL8GxYaZ+IcMHhHQcltp2bcAii2ASQpPtefNCd8NNZSN7fJ8JXH834h9gOsUP+lQiCb7\n",
       "2YoGmjXy6+gx9MY4mfkDMEHbDFTa8jo32V8kKAa3xfOvEucEJhfu4DgUh97LDj2+wO5PAtqCvcPz\n",
       "+WR5Vx2sB/iP+W9xWIUjze172v2CN/rEHx4S8BQ1VUps0tfYDihh+e3sZhlHWzfuI3yXJ29mPmd5\n",
       "o2HYVEu/oHuPgCIG60Assaf1OBeAs6E+6+KtQo9IyoO7ZbMC51m6LQJGUbQtj1jV25UUN/6wH4sw\n",
       "E4InlOyAd1YsWU7jxdtyV+T4j3XjUWJwo5nwFirg1+Xu2TCd9zYBbMS6qO+apvVVL98NJXUYQUxJ\n",
       "3jMNlrqsw0UCdCNmRHnrLF9rT1Ug7tsUcSc3IZgDl3mv0FFJGgqOWjbIKT1Cvu/VJYl15qtqFpj3\n",
       "crkEpyFNZ0saVmkvgNFDvqTn9FAc3I/exDrMqdfKq9HVt8+jXYLx5/dXykkAMC3qHmj8a/89XxNa\n",
       "i9Rh4z1Wb4V8L9raijklH6a/k53MmTTnVGXQSzCYF5hzXsvACjUM9sxM6zbgL9d7i8jA+ltpAAAA\n",
       "AElFTkSuQmCC\n",
       "\" style=\"display:inline;vertical-align:middle;\" /></a></td></tr>\n",
       "<tr><td>1</td><td>Literal</td><td></td><td><a class=\"ProveItLink\" href=\"../../../negation/__pv_it/7bea79645543c2413aa17e787cca04e21046fde60/expr.ipynb\"><img src=\"data:image/png;base64,iVBORw0KGgoAAAANSUhEUgAAAAwAAAAGBAMAAAAFwGKyAAAAFVBMVEX///9UVFTMzMx2dnYiIiJm\n",
       "ZmYAAACWz4ZEAAAAAXRSTlMAQObYZgAAABRJREFUCNdjCHEBAmcGMFDEQzEBAEl+Ai6uYJv/AAAA\n",
       "AElFTkSuQmCC\n",
       "\" style=\"display:inline;vertical-align:middle;\" /></a></td></tr>\n",
       "<tr><td>2</td><td>Operation</td><td>operator:&nbsp;3<br>operands:&nbsp;4<br></td><td><a class=\"ProveItLink\" href=\"../7f1ff6bad3fb0278818ef5258e7ee312f1da02cd0/expr.ipynb\"><img src=\"data:image/png;base64,iVBORw0KGgoAAAANSUhEUgAAAIwAAAAVBAMAAABmhxuGAAAAMFBMVEX////c3NwiIiJERESqqqqY\n",
       "mJh2dnZmZmYQEBDu7u4yMjJUVFTMzMyIiIi6uroAAAAs73DqAAAAAXRSTlMAQObYZgAAAexJREFU\n",
       "OMtjYKAS4LtAUEkcEcachlCHsMlF/9+92+oBA/sBwsashFDrsUo2MzCw/2NgWADhMU7AaQovxE+s\n",
       "+gglnHAWz18g/s3AEAbhchXgNIYDol2kXgAuxAU3kfcj0IJvDAwzINzDmjiNeQWhLtx/gAj0DTAW\n",
       "cwMDA1MnkHYAc/fdxWlMGUTnBP8AhFgujMG/gYFxMdBtbGDfcC5gQtEqdlvkOiyal4LJeQznwQJF\n",
       "SiCgDwuD83vvFoGMZwGHMVsAuwOSKZwJrKocClBOH5h8wCCPHHxeUB/eF2Dg1AY5tgHEY2JgXICk\n",
       "iI2B9wMLLCn8A8fI7t37DZAtWgExxwJkFNA5PB9AvFgGhj3Iihi4EXrAxvABYwzZolOZEBoY1wzx\n",
       "CTBjNOFpFRbLiAzQAiKAXmZqQISNkiU02XwFEvsdoJ5iAXqbSwDZGPkDDLC0YQpKnUCVXB8Q0t5I\n",
       "yYbxFyhxgpwKMoIFKQRZBe4z8MKMSQfiWaAk8hMuDw9IULI5Acos4Ag/DBJSQBjjH2DBIAvjPGJg\n",
       "EO5fyMBq/wtuETPU5ez2v3fvAicILlCI7wOxQAmQxRgILBkmX5uWGwDjcAhgpEgeDJEZkEQBiQys\n",
       "gDWBiMIkl+iCAh/gXEBYjTRhJdwChNUwEi5E7xBUAQBA5G5+IN9QagAAAABJRU5ErkJggg==\n",
       "\" style=\"display:inline;vertical-align:middle;\" /></a></td></tr>\n",
       "<tr><td>3</td><td>Literal</td><td></td><td><a class=\"ProveItLink\" href=\"../../../conjunction/__pv_it/76b5f4f4c45c0b6a9b59b297fc07dfa9555698f50/expr.ipynb\"><img src=\"data:image/png;base64,iVBORw0KGgoAAAANSUhEUgAAAAwAAAAOBAMAAADpk+DfAAAALVBMVEX///+qqqqYmJh2dnaIiIi6\n",
       "urpUVFQiIiJERETMzMxmZmYyMjLu7u7c3NwAAABvwqPxAAAAAXRSTlMAQObYZgAAAEtJREFUCNdj\n",
       "YGDgPcAAAtwLwNSMGjCV6gIieTawgyhmBS4BIMXOwLsBSKkwMGQCKaC6aQwMjEBd3BdACMScAVJd\n",
       "wJAKolwYAkAUKwAk0guX6efcigAAAABJRU5ErkJggg==\n",
       "\" style=\"display:inline;vertical-align:middle;\" /></a></td></tr>\n",
       "<tr><td>4</td><td>ExprTuple</td><td>5, 6</td><td><a class=\"ProveItLink\" href=\"../5f3a367ccac033a710f029854b6427e64af011ee0/expr.ipynb\"><img src=\"data:image/png;base64,iVBORw0KGgoAAAANSUhEUgAAAH4AAAAVBAMAAAByPkciAAAAMFBMVEX////c3NwiIiJERESqqqqY\n",
       "mJh2dnZmZmYQEBDu7u4yMjJUVFTMzMyIiIi6uroAAAAs73DqAAAAAXRSTlMAQObYZgAAAa5JREFU\n",
       "OMtjYKAU8F0gWyvrAyBxGsI+hE1B9P/du60e4DagBohXQpjrsSpoZmBg/4dbPxcDAy/E+az6E+Ci\n",
       "nHAWz18g/o3HAwkMHBB9IvUCCFPhRvF+BKr5hls/ZwPDKwjrwn2EN/k2wFjMDQwMTJ14QtCEoQyi\n",
       "ZYJ/AEI0F8bg38DAuHgCig6x2yLXETGWzrAUTM9jOA8WLFICAf0CqPT5vXeLAlBdnMCqyqEA53ox\n",
       "9IHpBwzyBUiqvKCeuS/AwKmNop+NgfcDywE49wUDOHZ4du/eb4BsywqIARYgM1AcwMnAjazwPEQ/\n",
       "HwMDxwIk4VOZEBoUdfEJqEHGcQFFfwuIcgAGcwPC/0qW0Oj/CiT2O6Dqlz/AMAHJ/aZAkhGohOsD\n",
       "Qok3UvQz/mJAUs/AKnCfgRfBjwLGAAPDLFBU/4QLMi5Aiv4TKxk4PyH0+wdYMMgyIMXfIwYG4f6F\n",
       "DKz2v+ARwAxNiuz2v3fvAsYvZz9QgMUYCCwZJl+blhsA4zAwrGPgEMBIVDwYWVwAd/plTSAin+OS\n",
       "YLsAz79k6QcFnDRh/ThLqI2g0Ca//OI9wAAA0VdlW/qXyekAAAAASUVORK5CYII=\n",
       "\" style=\"display:inline;vertical-align:middle;\" /></a></td></tr>\n",
       "<tr><td>5</td><td>Operation</td><td>operator:&nbsp;7<br>operands:&nbsp;8<br></td><td><a class=\"ProveItLink\" href=\"../48bda0a4ca92dc8bbf3ec9809bdb1d7b90d71c610/expr.ipynb\"><img src=\"data:image/png;base64,iVBORw0KGgoAAAANSUhEUgAAAEAAAAAPBAMAAACmSdRUAAAAMFBMVEX///92dnYQEBBERERUVFS6\n",
       "urqIiIhmZmaqqqrc3Nzu7u6YmJgyMjIiIiLMzMwAAACFkkdwAAAAAXRSTlMAQObYZgAAAOhJREFU\n",
       "GNNjYACBtwxYwJb/Li42ARD2eWwKGJQZGNi/glnc9xcghOFMvm9A/AXMnFE/AaHgFIzB9hOo9SOY\n",
       "mZAfgFAQAmMwKzAw8GqBWKwL+jcgFDAmQBn8Dgych8EWLmV4DxZkvwsG36EK3rul1UI0BjDML0By\n",
       "PMdRCJ0/gYHrCti1Li7+BsjeW6MKpoxAikBGsDIwMB1Akuc7CPEpyIf7BYBEA9CxCkhuuAyR5/sN\n",
       "JPyBkpxAzPMByQkOiGDg/AOyEeTlXwgFc5CC4REw1Cbrn2Tgtv+D8IYlhGK3/+LicxpbFD1A5QIA\n",
       "YgVCLvPPxacAAAAASUVORK5CYII=\n",
       "\" style=\"display:inline;vertical-align:middle;\" /></a></td></tr>\n",
       "<tr><td>6</td><td>Variable</td><td></td><td><a class=\"ProveItLink\" href=\"../../../../__pv_it/5144cf74ae6a683b49b974f1b9302b432abf7e930/expr.ipynb\"><img src=\"data:image/png;base64,iVBORw0KGgoAAAANSUhEUgAAACUAAAAJBAMAAABH3vh9AAAAKlBMVEX////MzMwQEBAiIiKYmJhm\n",
       "ZmZUVFSIiIh2dnbc3Nzu7u5ERESqqqoAAABwkVEpAAAAAXRSTlMAQObYZgAAAEtJREFUCNdjYIAA\n",
       "zvbM4+EMqGAFg7ODMppYA0Mtw0E0sQUM2QyYQB1TiPMiAxeakCf7BYYqVCGeK9wKnAUw3undQLCA\n",
       "a3tXRwmMAwC3+RVNp6j0GAAAAABJRU5ErkJggg==\n",
       "\" style=\"display:inline;vertical-align:middle;\" /></a></td></tr>\n",
       "<tr><td>7</td><td>Literal</td><td></td><td><a class=\"ProveItLink\" href=\"../e5c030cabcb650938f92dee8256fe11cd12bf9b30/expr.ipynb\"><img src=\"data:image/png;base64,iVBORw0KGgoAAAANSUhEUgAAABMAAAANBAMAAAC5okgUAAAALVBMVEX////c3NxERETMzMwQEBCq\n",
       "qqoiIiJmZmaIiIh2dnZUVFS6uroyMjLu7u4AAACPpZJTAAAAAXRSTlMAQObYZgAAAD1JREFUCNdj\n",
       "YAABXgY44LkAZ3IvQAjPABFlaSCQV4AQjtkAZ/IegbNt5sLUpunC5aPgLMYDcCaTAJzJDCIA2yMN\n",
       "HCCUuIIAAAAASUVORK5CYII=\n",
       "\" style=\"display:inline;vertical-align:middle;\" /></a></td></tr>\n",
       "<tr><td>8</td><td>ExprTuple</td><td>9, 10</td><td><a class=\"ProveItLink\" href=\"../caee09fb4b5c95b986a9cee46a014afbad9bdc680/expr.ipynb\"><img src=\"data:image/png;base64,iVBORw0KGgoAAAANSUhEUgAAADUAAAAVBAMAAAAUZLt1AAAAMFBMVEX////c3NwiIiJERESqqqqY\n",
       "mJh2dnZmZmYQEBDu7u4yMjJUVFTMzMyIiIi6uroAAAAs73DqAAAAAXRSTlMAQObYZgAAATZJREFU\n",
       "KM9jYMAH+C5gFY4DEach7EMwQdb9v3dvXsfAfgDIXgkRWg/XwWHAwFD/gGEBAwMvxEhW/QkwufNA\n",
       "kfMbGMKAqiBiIvUCMLn7QFZ8AsMMBoZXEIEL9x/A5CyAWGMCA7MDQxnEsRP8A2ByvxkYpCwZGNgK\n",
       "GJaC+fPAtoABz++711WBNMsChj6wwAMG+QKoHO9HBoZJG4BGNTD8A6vdvXu/AVSOuQEo/xUo9gEi\n",
       "xwd07wKoHD9QD+s3sFwLiO/AwMDUAPMe0FHcX8BmmgK5jEA5rg8MDBNg3pMHGsK6gCEdyJ0FsuYn\n",
       "A+cnqPd4uiaA/fCIgUG4fyEDq/2vAs5+oJbi/7t3rwL5lesBA4cAUnQhsUFhxpqA4LIiR2AuIo7Q\n",
       "5ThBfpJG8JFTADfIfEbsaeIOAwMABOxNRsfkiy0AAAAASUVORK5CYII=\n",
       "\" style=\"display:inline;vertical-align:middle;\" /></a></td></tr>\n",
       "<tr><td>9</td><td>Variable</td><td></td><td><a class=\"ProveItLink\" href=\"../../../../../__pv_it/2cbe72a7ad6f655694dd697106680215e8489b600/expr.ipynb\"><img src=\"data:image/png;base64,iVBORw0KGgoAAAANSUhEUgAAAA8AAAAOBAMAAAACpFvcAAAALVBMVEX///8QEBBERERUVFS6urqI\n",
       "iIhmZmaqqqrc3Nzu7u6YmJgyMjIiIiLMzMwAAADtIaYWAAAAAXRSTlMAQObYZgAAAFtJREFUCNdj\n",
       "YACBOwxQsA9Kc52bAGG05zVAGAFxDmCaZULdAjBjCsO9ADDDgaEvAUTzGhvbKYCVMDAwbgAxChgY\n",
       "eASANAeQwf0AyJgNxEwvGRia5HYwcOm9TgAA6BoR3jrzwFcAAAAASUVORK5CYII=\n",
       "\" style=\"display:inline;vertical-align:middle;\" /></a></td></tr>\n",
       "<tr><td>10</td><td>Variable</td><td></td><td><a class=\"ProveItLink\" href=\"../../../../../__pv_it/077b2ff79244fb4582cbe22c6e3356fa92a52f2f0/expr.ipynb\"><img src=\"data:image/png;base64,iVBORw0KGgoAAAANSUhEUgAAABAAAAAOBAMAAADUAYG5AAAAMFBMVEX///+qqqru7u4iIiJ2dnbc\n",
       "3NyIiIjMzMxmZmYQEBC6uroyMjJERERUVFSYmJgAAADLUcuvAAAAAXRSTlMAQObYZgAAAGpJREFU\n",
       "CNdjYGB4+//u3dMLGIBgDgMDxy8gzf4NiP8CGWxfGRj4vgAZPBMYGJgnARn8FxhY9ygAGfXX0pof\n",
       "gDTlBzAw2YIYJ0EckBBI53sHoBH/gIz7AhBjWH9DjancBLTl/N+7t/cxMAAA3u4f/5xagjYAAAAA\n",
       "SUVORK5CYII=\n",
       "\" style=\"display:inline;vertical-align:middle;\" /></a></td></tr>\n",
       "</table>\n"
      ],
      "text/plain": [
       "0. [not]((A => B) and _x_)\n",
       "   core type: Operation\n",
       "   operator: 1\n",
       "   operand: 2\n",
       "1. not\n",
       "   core type: Literal\n",
       "   sub-expressions: \n",
       "2. (A => B) and _x_\n",
       "   core type: Operation\n",
       "   operator: 3\n",
       "   operands: 4\n",
       "3. and\n",
       "   core type: Literal\n",
       "   sub-expressions: \n",
       "4. (A => B , _x_)\n",
       "   core type: ExprTuple\n",
       "   sub-expressions: 5, 6\n",
       "5. A => B\n",
       "   core type: Operation\n",
       "   operator: 7\n",
       "   operands: 8\n",
       "6. _x_\n",
       "   core type: Variable\n",
       "   sub-expressions: \n",
       "7. =>\n",
       "   core type: Literal\n",
       "   sub-expressions: \n",
       "8. (A , B)\n",
       "   core type: ExprTuple\n",
       "   sub-expressions: 9, 10\n",
       "9. A\n",
       "   core type: Variable\n",
       "   sub-expressions: \n",
       "10. B\n",
       "    core type: Variable\n",
       "    sub-expressions: "
      ]
     },
     "execution_count": 4,
     "metadata": {},
     "output_type": "execute_result"
    }
   ],
   "source": [
    "# display the expression information\n",
    "expr.exprInfo()"
   ]
  },
  {
   "cell_type": "code",
   "execution_count": null,
   "metadata": {},
   "outputs": [],
   "source": []
  }
 ],
 "metadata": {
  "kernelspec": {
   "display_name": "Python 3",
   "language": "python",
   "name": "python3"
  }
 },
 "nbformat": 4,
 "nbformat_minor": 0
}
