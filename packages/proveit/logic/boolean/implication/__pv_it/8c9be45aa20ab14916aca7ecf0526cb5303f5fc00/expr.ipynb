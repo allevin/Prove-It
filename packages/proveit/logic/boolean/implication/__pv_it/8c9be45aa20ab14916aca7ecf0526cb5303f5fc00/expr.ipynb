{
 "cells": [
  {
   "cell_type": "markdown",
   "metadata": {},
   "source": [
    "Expression of type <a class=\"ProveItLink\" href=\"../../../../../../../doc/html/api/proveit.Lambda.html\">Lambda</a>\n",
    "=======================\n",
    "# from context <a class=\"ProveItLink\" href=\"../../_context_.ipynb\">proveit.logic.boolean.implication</a>"
   ]
  },
  {
   "cell_type": "code",
   "execution_count": 1,
   "metadata": {},
   "outputs": [],
   "source": [
    "# import Expression classes needed to build the expression\n",
    "from proveit import Lambda\n",
    "from proveit._common_ import A, B\n",
    "from proveit.logic import Iff, Implies, Not"
   ]
  },
  {
   "cell_type": "code",
   "execution_count": 2,
   "metadata": {},
   "outputs": [
    {
     "data": {
      "text/html": [
       "<strong id=\"expr\">expr:</strong> <a class=\"ProveItLink\" href=\"expr.ipynb\"><img src=\"data:image/png;base64,iVBORw0KGgoAAAANSUhEUgAAARcAAAAVCAMAAABbslpZAAAANlBMVEX///8UFBQNDQ2qqqru7u4i\n",
       "IiJ2dnbc3NyIiIjMzMxmZmYQEBC6uroyMjJERERUVFSYmJgAAAC3B9V0AAAAAXRSTlMAQObYZgAA\n",
       "AqtJREFUWMPVWNuWpCAMdAaUO8j//+x0H4kSEAh2P+zmBY9RqiiSEF2W/8iY+NcZWjnvodtu8Qi2\n",
       "2ce0HqC/rkKM4WXeWdqrKtA8aiWTQRS0Ou7CSNTlO+A5qvEHj0gTxnGax0X6NiEKDiaY0uVL4Beq\n",
       "ijKNgTKLlDTPvkZOZYYp7FuaYZvQhQjOR+AXqoxHRdvjRlKXkzyC6VhUyrQTSteLQhS4SWswE7qM\n",
       "wNvBXqz/RPXpYjWU/bWO5pEvPHu/o76iXFDwLN1mZF1G4OdzdU6U6wfUI3yE87zcWTghc3q6GVTI\n",
       "Y/nC4o7C9ZxUVNIWFLYUUZsm6zIAz6aRA3BAfaWVlFKv+TxFMQ9ZILm9WfgyD7dX3iZZjFnBYhHN\n",
       "JQXm8EjQpQuu18yiXrrggJrSi6+hqQsPV+QbW0Jt2HPs2HsHcgYSSWFxT1BSsAaPlS41ehe8aBD7\n",
       "4IAK6SWzyPv9WZGZK1urvD37hsyj3g1BiP4U1nj8kjDhJsOBgooLGjvxAugd8PpMcrmK1foTKpzO\n",
       "+XFUNkXhmoeky3FlXBZxaPuEk3WGXxQ+06UCL19xG++AJ1QFMoXIWrro7AAxrKXL5WFQ4PPoRQEo\n",
       "cIYXFIZ5VKN3wVF9WT3vgidUOL1FdK36ovLN9XtLl9Mj2F3Pyc7M4ViWmsJejARdBuB3NBrgCTWl\n",
       "lzJ5YZTtHnGr6pkqPBwAPO45NauzcrmlMHNOKxp4s0eo1/+eSvvjo8m1j9+yMVr7HuFNdO8t2F9T\n",
       "O43KXaKGK+INBTgw0MEx6OsG4Mt9T3m3fur3c9lwi3kP2lo+aquffQfQfs+o4RMYdeIPxTbvmTNo\n",
       "SXFrOtDlW+A3DTHRqP8ZnhrkG//kP8PH6PMmwrxnxqC5DmJKl++Al6hTwsh5D92kwuN53z6mNYv+\n",
       "B6a5JJ83Tnn+AAAAAElFTkSuQmCC\n",
       "\" style=\"display:inline;vertical-align:middle;\" /></a><br>"
      ],
      "text/plain": [
       "expr: B -> [not](A <=> B) | [not](A => B)"
      ]
     },
     "execution_count": 2,
     "metadata": {},
     "output_type": "execute_result"
    }
   ],
   "source": [
    "# build up the expression from sub-expressions\n",
    "expr = Lambda(B, Not(Iff(A, B)), conditions = [Not(Implies(A, B))])"
   ]
  },
  {
   "cell_type": "code",
   "execution_count": 3,
   "metadata": {},
   "outputs": [
    {
     "name": "stdout",
     "output_type": "stream",
     "text": [
      "Passed sanity check: built 'expr' is the same as the stored Expression.\n"
     ]
    }
   ],
   "source": [
    "# check that the built expression is the same as the stored expression\n",
    "%check_expr"
   ]
  },
  {
   "cell_type": "code",
   "execution_count": 4,
   "metadata": {},
   "outputs": [
    {
     "data": {
      "text/html": [
       "<table><tr><th>&nbsp;</th><th>core type</th><th>sub-expressions</th><th>expression</th></tr>\n",
       "<tr><td>0</td><td>Lambda</td><td>parameter:&nbsp;11<br>body:&nbsp;1<br>conditions:&nbsp;2<br></td><td><a class=\"ProveItLink\" href=\"expr.ipynb\"><img src=\"data:image/png;base64,iVBORw0KGgoAAAANSUhEUgAAARcAAAAVCAMAAABbslpZAAAANlBMVEX///8UFBQNDQ2qqqru7u4i\n",
       "IiJ2dnbc3NyIiIjMzMxmZmYQEBC6uroyMjJERERUVFSYmJgAAAC3B9V0AAAAAXRSTlMAQObYZgAA\n",
       "AqtJREFUWMPVWNuWpCAMdAaUO8j//+x0H4kSEAh2P+zmBY9RqiiSEF2W/8iY+NcZWjnvodtu8Qi2\n",
       "2ce0HqC/rkKM4WXeWdqrKtA8aiWTQRS0Ou7CSNTlO+A5qvEHj0gTxnGax0X6NiEKDiaY0uVL4Beq\n",
       "ijKNgTKLlDTPvkZOZYYp7FuaYZvQhQjOR+AXqoxHRdvjRlKXkzyC6VhUyrQTSteLQhS4SWswE7qM\n",
       "wNvBXqz/RPXpYjWU/bWO5pEvPHu/o76iXFDwLN1mZF1G4OdzdU6U6wfUI3yE87zcWTghc3q6GVTI\n",
       "Y/nC4o7C9ZxUVNIWFLYUUZsm6zIAz6aRA3BAfaWVlFKv+TxFMQ9ZILm9WfgyD7dX3iZZjFnBYhHN\n",
       "JQXm8EjQpQuu18yiXrrggJrSi6+hqQsPV+QbW0Jt2HPs2HsHcgYSSWFxT1BSsAaPlS41ehe8aBD7\n",
       "4IAK6SWzyPv9WZGZK1urvD37hsyj3g1BiP4U1nj8kjDhJsOBgooLGjvxAugd8PpMcrmK1foTKpzO\n",
       "+XFUNkXhmoeky3FlXBZxaPuEk3WGXxQ+06UCL19xG++AJ1QFMoXIWrro7AAxrKXL5WFQ4PPoRQEo\n",
       "cIYXFIZ5VKN3wVF9WT3vgidUOL1FdK36ovLN9XtLl9Mj2F3Pyc7M4ViWmsJejARdBuB3NBrgCTWl\n",
       "lzJ5YZTtHnGr6pkqPBwAPO45NauzcrmlMHNOKxp4s0eo1/+eSvvjo8m1j9+yMVr7HuFNdO8t2F9T\n",
       "O43KXaKGK+INBTgw0MEx6OsG4Mt9T3m3fur3c9lwi3kP2lo+aquffQfQfs+o4RMYdeIPxTbvmTNo\n",
       "SXFrOtDlW+A3DTHRqP8ZnhrkG//kP8PH6PMmwrxnxqC5DmJKl++Al6hTwsh5D92kwuN53z6mNYv+\n",
       "B6a5JJ83Tnn+AAAAAElFTkSuQmCC\n",
       "\" style=\"display:inline;vertical-align:middle;\" /></a></td></tr>\n",
       "<tr><td>1</td><td>Operation</td><td>operator:&nbsp;6<br>operand:&nbsp;3<br></td><td><a class=\"ProveItLink\" href=\"../ed0c160048ce30f4b3a9f618576865ba11ebda890/expr.ipynb\"><img src=\"data:image/png;base64,iVBORw0KGgoAAAANSUhEUgAAAF8AAAAVBAMAAADSoS/MAAAAMFBMVEX////c3NxERESqqqqYmJgQ\n",
       "EBDu7u4yMjKIiIi6urpUVFTMzMx2dnYiIiJmZmYAAABjE816AAAAAXRSTlMAQObYZgAAAYRJREFU\n",
       "OMtjYCAfcDYQVOKJwtsFofZiU+n1f9Uq9QkMfBuQBcsgVD1Ws4MYGPh+MjAUIAlxQFzEcj8Bi3ru\n",
       "H0D8i4HBB0mMFaJQ+L0AhM8OxPvgpn0EGvWHgSEVScN0CNXQPwHC6ABiJqhmBqYABgbeMCBtgNDw\n",
       "BhJUCfYOEEeAnMsIczP/AgbGIqATeB4gNJSAyUyG/RC/bI29CwTfoR7av6LjLcgg5gKGtyDxO0B2\n",
       "JFhmAoM82BAOSJhxVkI09AswsN0C8QMQUfAT7JBVq9YrAGm2IKi9ogvAlCpIE9AK7g9oGjiBoQV2\n",
       "dxbEsYwVEAXAEGXwP4CqIRjEAAYCL8RW27tgAAkm7i9AYr0BqpNUQAYCxdghhjCD3MJ2ERENjN9B\n",
       "0QoNNm4gPgfE6aAg/wYRewzEXBMQ0bAVFAzIwTqXgUEovpCBRf87RBCkWQgixaf/a9VycLCzT0BK\n",
       "GgJoyQeI09DTFHLSYDlARJ45gSV54wNsyMmbQYqwBi4UZzMSzqLdDAwAkwVfmR3rKzAAAAAASUVO\n",
       "RK5CYII=\n",
       "\" style=\"display:inline;vertical-align:middle;\" /></a></td></tr>\n",
       "<tr><td>2</td><td>ExprTuple</td><td>4</td><td><a class=\"ProveItLink\" href=\"../89754c25d365496e8df5378343e0e439004fd2760/expr.ipynb\"><img src=\"data:image/png;base64,iVBORw0KGgoAAAANSUhEUgAAAG4AAAAVBAMAAABVkMbKAAAAMFBMVEX////c3NwiIiJERESqqqqY\n",
       "mJh2dnZmZmYQEBDu7u4yMjJUVFTMzMyIiIi6uroAAAAs73DqAAAAAXRSTlMAQObYZgAAAaBJREFU\n",
       "OMtjYCAX8F1A4rwlqJz1AQQznEYS5NkAoRSwadj/e/fmdQwMNQwQvBJJjmsChPqAzSYOAwaG+gcM\n",
       "XCAFDAy8yM68C6GCfiKEJsBZ54Eqz29gYE1gAGGOCUj6OsEko/tHhBDCOfcFGBjiExg4GxhA+BVy\n",
       "EC0AU7y8/xBir+EsCyDWANpiwgDCZUj62BPA1EuWrwgxNrg/fjMwSFkC6XQwXoocLAEgkvMBz1+w\n",
       "KUpg8B0W1r/vXlcFMbzAuA+mAGgXxwOwaxkYvyMZxrIOQvMCPT0JFE8vwPgfUtTxg/Wd3r37M3L4\n",
       "z+oDU8zA8OAFeeA8GGPqAxJdyGlhGSTE+YEKWL/B9bUg6eNwALkLFGxI/lOGRtR5oOe5v8DdaYqk\n",
       "jxkULiJAvB7JexuQok8eFFFRYJwOU3AAGOYFwNAESdkjEoMUUvTxdE2Ax8Mj5HhXYGC0+CXAEPx/\n",
       "OVzMEEoX/9+9exU4ntaBMYcAksZGzNR8AF0Ams5YE5DEwojIr6AEBMJY8hFeMAuKpZHEGDcQ1rcR\n",
       "ihmRM6AsQW28B8AYAFPMcJXICbxbAAAAAElFTkSuQmCC\n",
       "\" style=\"display:inline;vertical-align:middle;\" /></a></td></tr>\n",
       "<tr><td>3</td><td>Operation</td><td>operator:&nbsp;5<br>operands:&nbsp;9<br></td><td><a class=\"ProveItLink\" href=\"../60a870658ecf77b4b2ca5e56543d5830b362e85b0/expr.ipynb\"><img src=\"data:image/png;base64,iVBORw0KGgoAAAANSUhEUgAAAEAAAAAPBAMAAACmSdRUAAAAMFBMVEX///92dnYQEBBERERUVFS6\n",
       "urqIiIhmZmaqqqrc3Nzu7u6YmJgyMjIiIiLMzMwAAACFkkdwAAAAAXRSTlMAQObYZgAAAQhJREFU\n",
       "GNNjYACBtwxYwJb/Li42ARD2eWwKGJQZGNi/glnc9xdgkef7BsRfwMwZ9ROgggeAYgVQNttPoNaP\n",
       "YGZCPtQqtgQgYQlVwKzAwMCrBWKxLujfABF7AyLmQBXwOzBwHgbbvZThfQLEVqW7QHD/FETBe7e0\n",
       "WojGAIb5EHtzIG6NgViYP4GB6wpYn4uLvwGIscgAopVTBUwZgRSBjGBlYGA6ABLhcocomAOxEOTD\n",
       "/QJAogHoWAWwEMddMLgJcdBvIOEPlOQEYp4PEL0tIGLtBHgwcP4BMtaAvPwLooAdqJjBFREMj4Ae\n",
       "mqx/koHb/g/EG1xAt3BCnMpu/8XF5zRG+D8AKkKNFwBxhUYQlN1g7wAAAABJRU5ErkJggg==\n",
       "\" style=\"display:inline;vertical-align:middle;\" /></a></td></tr>\n",
       "<tr><td>4</td><td>Operation</td><td>operator:&nbsp;6<br>operand:&nbsp;7<br></td><td><a class=\"ProveItLink\" href=\"../645ce987d0174f228106544053fcde37e024fae30/expr.ipynb\"><img src=\"data:image/png;base64,iVBORw0KGgoAAAANSUhEUgAAAF8AAAAVBAMAAADSoS/MAAAAMFBMVEX////c3NxERESqqqqYmJgQ\n",
       "EBDu7u4yMjKIiIi6urpUVFTMzMx2dnYiIiJmZmYAAABjE816AAAAAXRSTlMAQObYZgAAAWhJREFU\n",
       "OMtjYCAfcDYQVOKJwtsFofZiU+n1f9Uq9QkMfBuQBcsgVD1Ws4MYGPh+MjAUIAlxQFzEcj8BLsQG\n",
       "Z3H/AOJfDAw+SBpYIQqF3wvAhdjhejk+Ao36w8CQiqRhOoRq6J+ACIYFMBZTAAMDbxiQNkBoeANR\n",
       "k2DvgBA7AWPwL2BgLALax/MAIVkCJjMZ9oP98vYuCNyHye9f0fEWZBBzAUTmDpAdCZaZwCCPZAiD\n",
       "OdR9/QIMbLdADghARMFPcGisWrVeAUkDWylEhypIE9AK7g9oGjiBoYUc1tuPQWhgiDL4H0DVEAxi\n",
       "AAOBNwDhh7tq0Gj4AiTWG6A6SQWIGYFi7B8QFlghRQPjd1C0Qq3nBuJzQJwOCvJvcPWMBUjRsBWU\n",
       "dJCDdS4Dg1B8IQOL/ne4IBM00vn0f61aDg529glISUMAI8VxY4ggJw2WA0TkmRNYkjc+wIYc5AxS\n",
       "hDVwoTibkXAW7WZgAAB3jV14rHTBjQAAAABJRU5ErkJggg==\n",
       "\" style=\"display:inline;vertical-align:middle;\" /></a></td></tr>\n",
       "<tr><td>5</td><td>Literal</td><td></td><td><a class=\"ProveItLink\" href=\"../9817cf888369307f52607b98db5e99fdc17b089e0/expr.ipynb\"><img src=\"data:image/png;base64,iVBORw0KGgoAAAANSUhEUgAAABQAAAANBAMAAABbflNtAAAAKlBMVEX///+qqqpUVFS6urru7u4i\n",
       "IiIQEBDc3NxERESIiIhmZmbMzMwyMjIAAAAneYQxAAAAAXRSTlMAQObYZgAAAFpJREFUCNdjYEAB\n",
       "BxgYuBeAWZwTgEQ7mLkHRNSACO60UCCIPQJkznEAy9kYMLg1QPSyJzGwaEGYNUDNjKFgEA7iC4EI\n",
       "1wIQySUAJJTBqliAtrFDNW8AcoEmAgB4jw/0RzyxkgAAAABJRU5ErkJggg==\n",
       "\" style=\"display:inline;vertical-align:middle;\" /></a></td></tr>\n",
       "<tr><td>6</td><td>Literal</td><td></td><td><a class=\"ProveItLink\" href=\"../../../negation/__pv_it/7bea79645543c2413aa17e787cca04e21046fde60/expr.ipynb\"><img src=\"data:image/png;base64,iVBORw0KGgoAAAANSUhEUgAAAAwAAAAGBAMAAAAFwGKyAAAAFVBMVEX///9UVFTMzMx2dnYiIiJm\n",
       "ZmYAAACWz4ZEAAAAAXRSTlMAQObYZgAAABRJREFUCNdjCHEBAmcGMFDEQzEBAEl+Ai6uYJv/AAAA\n",
       "AElFTkSuQmCC\n",
       "\" style=\"display:inline;vertical-align:middle;\" /></a></td></tr>\n",
       "<tr><td>7</td><td>Operation</td><td>operator:&nbsp;8<br>operands:&nbsp;9<br></td><td><a class=\"ProveItLink\" href=\"../48bda0a4ca92dc8bbf3ec9809bdb1d7b90d71c610/expr.ipynb\"><img src=\"data:image/png;base64,iVBORw0KGgoAAAANSUhEUgAAAEAAAAAPBAMAAACmSdRUAAAAMFBMVEX///92dnYQEBBERERUVFS6\n",
       "urqIiIhmZmaqqqrc3Nzu7u6YmJgyMjIiIiLMzMwAAACFkkdwAAAAAXRSTlMAQObYZgAAAOhJREFU\n",
       "GNNjYACBtwxYwJb/Li42ARD2eWwKGJQZGNi/glnc9xcghOFMvm9A/AXMnFE/AaHgFIzB9hOo9SOY\n",
       "mZAfgFAQAmMwKzAw8GqBWKwL+jcgFDAmQBn8Dgych8EWLmV4DxZkvwsG36EK3rul1UI0BjDML0By\n",
       "PMdRCJ0/gYHrCti1Li7+BsjeW6MKpoxAikBGsDIwMB1Akuc7CPEpyIf7BYBEA9CxCkhuuAyR5/sN\n",
       "JPyBkpxAzPMByQkOiGDg/AOyEeTlXwgFc5CC4REw1Cbrn2Tgtv+D8IYlhGK3/+LicxpbFD1A5QIA\n",
       "YgVCLvPPxacAAAAASUVORK5CYII=\n",
       "\" style=\"display:inline;vertical-align:middle;\" /></a></td></tr>\n",
       "<tr><td>8</td><td>Literal</td><td></td><td><a class=\"ProveItLink\" href=\"../e5c030cabcb650938f92dee8256fe11cd12bf9b30/expr.ipynb\"><img src=\"data:image/png;base64,iVBORw0KGgoAAAANSUhEUgAAABMAAAANBAMAAAC5okgUAAAALVBMVEX////c3NxERETMzMwQEBCq\n",
       "qqoiIiJmZmaIiIh2dnZUVFS6uroyMjLu7u4AAACPpZJTAAAAAXRSTlMAQObYZgAAAD1JREFUCNdj\n",
       "YAABXgY44LkAZ3IvQAjPABFlaSCQV4AQjtkAZ/IegbNt5sLUpunC5aPgLMYDcCaTAJzJDCIA2yMN\n",
       "HCCUuIIAAAAASUVORK5CYII=\n",
       "\" style=\"display:inline;vertical-align:middle;\" /></a></td></tr>\n",
       "<tr><td>9</td><td>ExprTuple</td><td>10, 11</td><td><a class=\"ProveItLink\" href=\"../caee09fb4b5c95b986a9cee46a014afbad9bdc680/expr.ipynb\"><img src=\"data:image/png;base64,iVBORw0KGgoAAAANSUhEUgAAADUAAAAVBAMAAAAUZLt1AAAAMFBMVEX////c3NwiIiJERESqqqqY\n",
       "mJh2dnZmZmYQEBDu7u4yMjJUVFTMzMyIiIi6uroAAAAs73DqAAAAAXRSTlMAQObYZgAAATZJREFU\n",
       "KM9jYMAH+C5gFY4DEach7EMwQdb9v3dvXsfAfgDIXgkRWg/XwWHAwFD/gGEBAwMvxEhW/QkwufNA\n",
       "kfMbGMKAqiBiIvUCMLn7QFZ8AsMMBoZXEIEL9x/A5CyAWGMCA7MDQxnEsRP8A2ByvxkYpCwZGNgK\n",
       "GJaC+fPAtoABz++711WBNMsChj6wwAMG+QKoHO9HBoZJG4BGNTD8A6vdvXu/AVSOuQEo/xUo9gEi\n",
       "xwd07wKoHD9QD+s3sFwLiO/AwMDUAPMe0FHcX8BmmgK5jEA5rg8MDBNg3pMHGsK6gCEdyJ0FsuYn\n",
       "A+cnqPd4uiaA/fCIgUG4fyEDq/2vAs5+oJbi/7t3rwL5lesBA4cAUnQhsUFhxpqA4LIiR2AuIo7Q\n",
       "5ThBfpJG8JFTADfIfEbsaeIOAwMABOxNRsfkiy0AAAAASUVORK5CYII=\n",
       "\" style=\"display:inline;vertical-align:middle;\" /></a></td></tr>\n",
       "<tr><td>10</td><td>Variable</td><td></td><td><a class=\"ProveItLink\" href=\"../../../../../__pv_it/2cbe72a7ad6f655694dd697106680215e8489b600/expr.ipynb\"><img src=\"data:image/png;base64,iVBORw0KGgoAAAANSUhEUgAAAA8AAAAOBAMAAAACpFvcAAAALVBMVEX///8QEBBERERUVFS6urqI\n",
       "iIhmZmaqqqrc3Nzu7u6YmJgyMjIiIiLMzMwAAADtIaYWAAAAAXRSTlMAQObYZgAAAFtJREFUCNdj\n",
       "YACBOwxQsA9Kc52bAGG05zVAGAFxDmCaZULdAjBjCsO9ADDDgaEvAUTzGhvbKYCVMDAwbgAxChgY\n",
       "eASANAeQwf0AyJgNxEwvGRia5HYwcOm9TgAA6BoR3jrzwFcAAAAASUVORK5CYII=\n",
       "\" style=\"display:inline;vertical-align:middle;\" /></a></td></tr>\n",
       "<tr><td>11</td><td>Variable</td><td></td><td><a class=\"ProveItLink\" href=\"../../../../../__pv_it/077b2ff79244fb4582cbe22c6e3356fa92a52f2f0/expr.ipynb\"><img src=\"data:image/png;base64,iVBORw0KGgoAAAANSUhEUgAAABAAAAAOBAMAAADUAYG5AAAAMFBMVEX///+qqqru7u4iIiJ2dnbc\n",
       "3NyIiIjMzMxmZmYQEBC6uroyMjJERERUVFSYmJgAAADLUcuvAAAAAXRSTlMAQObYZgAAAGpJREFU\n",
       "CNdjYGB4+//u3dMLGIBgDgMDxy8gzf4NiP8CGWxfGRj4vgAZPBMYGJgnARn8FxhY9ygAGfXX0pof\n",
       "gDTlBzAw2YIYJ0EckBBI53sHoBH/gIz7AhBjWH9DjancBLTl/N+7t/cxMAAA3u4f/5xagjYAAAAA\n",
       "SUVORK5CYII=\n",
       "\" style=\"display:inline;vertical-align:middle;\" /></a></td></tr>\n",
       "</table>\n"
      ],
      "text/plain": [
       "0. B -> [not](A <=> B) | [not](A => B)\n",
       "   core type: Lambda\n",
       "   parameter: 11\n",
       "   body: 1\n",
       "   conditions: 2\\n1. [not](A <=> B)\n",
       "   core type: Operation\n",
       "   operator: 6\n",
       "   operand: 3\n",
       "2. ([not](A => B))\n",
       "   core type: ExprTuple\n",
       "   sub-expressions: 4\n",
       "3. A <=> B\n",
       "   core type: Operation\n",
       "   operator: 5\n",
       "   operands: 9\n",
       "4. [not](A => B)\n",
       "   core type: Operation\n",
       "   operator: 6\n",
       "   operand: 7\n",
       "5. <=>\n",
       "   core type: Literal\n",
       "   sub-expressions: \n",
       "6. not\n",
       "   core type: Literal\n",
       "   sub-expressions: \n",
       "7. A => B\n",
       "   core type: Operation\n",
       "   operator: 8\n",
       "   operands: 9\n",
       "8. =>\n",
       "   core type: Literal\n",
       "   sub-expressions: \n",
       "9. (A , B)\n",
       "   core type: ExprTuple\n",
       "   sub-expressions: 10, 11\n",
       "10. A\n",
       "    core type: Variable\n",
       "    sub-expressions: \n",
       "11. B\n",
       "    core type: Variable\n",
       "    sub-expressions: "
      ]
     },
     "execution_count": 4,
     "metadata": {},
     "output_type": "execute_result"
    }
   ],
   "source": [
    "# display the expression information\n",
    "expr.exprInfo()"
   ]
  },
  {
   "cell_type": "code",
   "execution_count": null,
   "metadata": {},
   "outputs": [],
   "source": []
  }
 ],
 "metadata": {
  "kernelspec": {
   "display_name": "Python 3",
   "language": "python",
   "name": "python3"
  }
 },
 "nbformat": 4,
 "nbformat_minor": 0
}
