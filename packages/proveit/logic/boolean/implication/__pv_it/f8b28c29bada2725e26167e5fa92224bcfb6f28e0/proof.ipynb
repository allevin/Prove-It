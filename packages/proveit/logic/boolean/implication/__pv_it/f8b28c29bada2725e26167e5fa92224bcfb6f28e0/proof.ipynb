{
 "cells": [
  {
   "cell_type": "markdown",
   "metadata": {},
   "source": [
    "Show the Proof\n",
    "========"
   ]
  },
  {
   "cell_type": "code",
   "execution_count": 1,
   "metadata": {},
   "outputs": [
    {
     "data": {
      "text/html": [
       "<table><tr><th>&nbsp;</th><th>step type</th><th>requirements</th><th>statement</th></tr>\n",
       "<tr><td>0</td><td>modus ponens</td><td>1, 2</td><td><span style=\"font-size:20px;\"><a class=\"ProveItLink\" href=\"../481822b36f23e4a4a63c0ad366093fbf772abb100/expr.ipynb\"><img src=\"data:image/png;base64,iVBORw0KGgoAAAANSUhEUgAAAJgAAAAVBAMAAABIwjoUAAAAMFBMVEX///9ERETc3NyqqqpUVFS6\n",
       "urrMzMwyMjIQEBCIiIh2dnYiIiLu7u5mZmaYmJgAAABJJ2g3AAAAAXRSTlMAQObYZgAAAbdJREFU\n",
       "OMtjYGDgu8dABZC1CETy7CJVXyS6wFMQkWEAJDg/QETYNmDVqYkhwuaAwgNq400AMngLgARXA0SU\n",
       "/QNWw3IxRNgPoPBA2uDmwAx7/QehggefYTNReGBtr9AMY7L9hNVyTMN6kDkQbSfQDOPk/IpQwuqA\n",
       "2zDWAmQeRBujAaphMcz/kNSsxG0Y7wJkHkQb1wWoOeBYYOAJYPsJlr29GwT2X8BpGPsDJA5UGzPQ\n",
       "DD5QTGQEgB3PwPQXWYt5AIZhYGt2MXAEwJlwbawgV9UyMKS0gVWmuLh8RDaMpyIAq8tSGPgD4Ey4\n",
       "NjaQqxjrGBgiQCmOAaiiHVlT+hoGYgyDagMbBnIpCyjMmIF4B1KY7ZZhwGUYhwHCMJg2kDfBYcYF\n",
       "ykbKQFyPpMcENTZ5kAxjfIAwDKaNrwApafCAXCePSKlMBaiGnYfnWzZwMoAy4drgSQNIMEl8V2B4\n",
       "+L8WbgKjAjwCd+zevZHhBFLuYIUbjNDGHoCWN1GKAnSBICR2E6Z69OyEHyAn1FeY0ith5vCRahhq\n",
       "EQSOnwJYTuLZSdgsTpSCwgFdmkUBnpP4FpNYbGMUvtOgdQAAu7GDouogkz4AAAAASUVORK5CYII=\n",
       "\" style=\"display:inline;vertical-align:middle;\" /></a> <a class=\"ProveItLink\" href=\"proof.ipynb\" style=\"text-decoration: none\">&#x22A2;&nbsp;</a><a class=\"ProveItLink\" href=\"../../../__pv_it/8f1f7fac882de28c72b62ab80a1700b6d8fd066b0/expr.ipynb\"><img src=\"data:image/png;base64,iVBORw0KGgoAAAANSUhEUgAAAA4AAAAOBAMAAADtZjDiAAAAG1BMVEX///9EREQQEBAiIiJmZmbM\n",
       "zMyIiIjc3NwAAACryk5kAAAAAXRSTlMAQObYZgAAABlJREFUCNdjYGBgKGOAgBBa0s7GxkbGxoYA\n",
       "FMUF2aBfHgoAAAAASUVORK5CYII=\n",
       "\" style=\"display:inline;vertical-align:middle;\" /></a></span></td></tr>\n",
       "<tr><td>1</td><td>assumption</td><td></td><td><span style=\"font-size:20px;\"><a class=\"ProveItLink\" href=\"../a3b7702c6c781aebe7790f2072ff7005644b78490/expr.ipynb\"><img src=\"data:image/png;base64,iVBORw0KGgoAAAANSUhEUgAAAFMAAAAVBAMAAADInc9CAAAAMFBMVEX///9ERETc3NyqqqpUVFS6\n",
       "urrMzMwyMjIQEBCIiIh2dnYiIiLu7u5mZmaYmJgAAABJJ2g3AAAAAXRSTlMAQObYZgAAAQFJREFU\n",
       "KM9jYGDgu8dACLCtUgBRPLsYCAO2ZhDJ+QHKzcaqiGkCmLoOIrgaoIL12M27AKZWICvl238ALs+D\n",
       "X6nyfQW4PPsBvEonzA+Ay7M64FPKesD+AcLalViV8haA2UcZ8sF+vb0bBPZfQFP6HkRkQOwNYNC/\n",
       "gORx8wBUpexAKqUNIuLi4i+ApJSnIgBFKYM40HkRCWCnMjBwFCApTV+Dair3AiDBAlZhAOQ1INy6\n",
       "WwabW7k2gKIPqJT9A8JQE9yBdRyIGf8gIr4Ap1LF/iIGPvnv8CBghEYcL9Ap3bt3C6DFFkoawRDB\n",
       "qZQBu1I+opSC0yvPTmJyQSskoS4mLm8BAFBxTl4IfWdSAAAAAElFTkSuQmCC\n",
       "\" style=\"display:inline;vertical-align:middle;\" /></a> <a class=\"ProveItLink\" href=\"../bc6e1b66eb4922dcf9ce62b6e70a05088d32eebb0/proof.ipynb\" style=\"text-decoration: none\">&#x22A2;&nbsp;</a><a class=\"ProveItLink\" href=\"../../../__pv_it/31eb47017a646663b6ffc27e27c315ea0661b7180/expr.ipynb\"><img src=\"data:image/png;base64,iVBORw0KGgoAAAANSUhEUgAAAD8AAAAPBAMAAAChCwpBAAAAMFBMVEX///92dnYQEBBERERUVFS6\n",
       "urqIiIhmZmaqqqrc3Nzu7u6YmJgyMjIiIiLMzMwAAACFkkdwAAAAAXRSTlMAQObYZgAAAKhJREFU\n",
       "GNNjYACBtwzYAGcCnHkeqwK+AhiL+/4CuCgXNgUz6ifARXkWYFGQkB8AF2V1wFTAuqB/A8JgMUwF\n",
       "Sxneg91bexcE7hdgKAhgmF+A5PieADQFfC4u/gZICrgOBaAqYGVgYDqApOCNFJoJDQwMvAoIN9y1\n",
       "QnMDJ1ABzweEAS3ovlgDxMy/EBFwAE3BZP2TDNz2f+DeYIYGKjvQMt27dw0wYwiNDwDqnDFBsIEk\n",
       "9AAAAABJRU5ErkJggg==\n",
       "\" style=\"display:inline;vertical-align:middle;\" /></a></span></td></tr>\n",
       "<tr><td>2</td><td>specialization</td><td>3, 4</td><td><span style=\"font-size:20px;\"><a class=\"ProveItLink\" href=\"../884efe5ec06f8c861a88d8e8d6d35f3217b2b5e60/expr.ipynb\"><img src=\"data:image/png;base64,iVBORw0KGgoAAAANSUhEUgAAAE4AAAAVBAMAAAAazcUaAAAAMFBMVEX////c3NxERESqqqpUVFS6\n",
       "urrMzMwyMjIQEBCIiIh2dnYiIiLu7u5mZmaYmJgAAABXZE4RAAAAAXRSTlMAQObYZgAAATJJREFU\n",
       "KM9jYGDgu8eAH2QtBJE8u5CEItHVPAURGQZAgvMDQpTNAVkN2wYGBt4EIIO3AEhwNSBk2A8gq2MH\n",
       "mQBXgqxuJoqdr/8AiVfY1PUgK2O0/QgkT2BRx1qArI6T8yuQZDLAVMe7AFldDPM/kPQFqBJehCHs\n",
       "D5CU8QSw/QRSzEBpPpCHMgIYGG7vBoJdDBwIJtARDIx/QRTIrFoGhpQ2mAEpDPwBcCYQu7h8AgUi\n",
       "yCymOgaGiATs6oDsdpg6kPksBXBJDgOEOmYgtQNqL9h9XBvgkkwPEOqEgVQ9EPMVoIcLGzgMoEwe\n",
       "kC36B5DCBTmcN8DjQuO7AMOj/0B/sgdgibdGzMSHLd7AkY4GVsKU8OFMV+BYKYBFGc9OpCTigK6O\n",
       "RQAaZUADFyOEJdHVTYPmDwBR51DC8IULxwAAAABJRU5ErkJggg==\n",
       "\" style=\"display:inline;vertical-align:middle;\" /></a> <a class=\"ProveItLink\" href=\"../9f105e66b32fc5a521b90e8d88577cac7ecd2d2e0/proof.ipynb\" style=\"text-decoration: none\">&#x22A2;&nbsp;</a><a class=\"ProveItLink\" href=\"../../../../../__pv_it/2cbe72a7ad6f655694dd697106680215e8489b600/expr.ipynb\"><img src=\"data:image/png;base64,iVBORw0KGgoAAAANSUhEUgAAAA8AAAAOBAMAAAACpFvcAAAALVBMVEX///8QEBBERERUVFS6urqI\n",
       "iIhmZmaqqqrc3Nzu7u6YmJgyMjIiIiLMzMwAAADtIaYWAAAAAXRSTlMAQObYZgAAAFtJREFUCNdj\n",
       "YACBOwxQsA9Kc52bAGG05zVAGAFxDmCaZULdAjBjCsO9ADDDgaEvAUTzGhvbKYCVMDAwbgAxChgY\n",
       "eASANAeQwf0AyJgNxEwvGRia5HYwcOm9TgAA6BoR3jrzwFcAAAAASUVORK5CYII=\n",
       "\" style=\"display:inline;vertical-align:middle;\" /></a></span></td></tr>\n",
       "<tr><td>&nbsp;</td><td colspan=4 style=\"text-align:left\"><span style=\"font-size:20px;\"><a class=\"ProveItLink\" href=\"../../../../../__pv_it/2cbe72a7ad6f655694dd697106680215e8489b600/expr.ipynb\"><img src=\"data:image/png;base64,iVBORw0KGgoAAAANSUhEUgAAAA8AAAAOBAMAAAACpFvcAAAALVBMVEX///8QEBBERERUVFS6urqI\n",
       "iIhmZmaqqqrc3Nzu7u6YmJgyMjIiIiLMzMwAAADtIaYWAAAAAXRSTlMAQObYZgAAAFtJREFUCNdj\n",
       "YACBOwxQsA9Kc52bAGG05zVAGAFxDmCaZULdAjBjCsO9ADDDgaEvAUTzGhvbKYCVMDAwbgAxChgY\n",
       "eASANAeQwf0AyJgNxEwvGRia5HYwcOm9TgAA6BoR3jrzwFcAAAAASUVORK5CYII=\n",
       "\" style=\"display:inline;vertical-align:middle;\" /></a> : <a class=\"ProveItLink\" href=\"../../../../../__pv_it/2cbe72a7ad6f655694dd697106680215e8489b600/expr.ipynb\"><img src=\"data:image/png;base64,iVBORw0KGgoAAAANSUhEUgAAAA8AAAAOBAMAAAACpFvcAAAALVBMVEX///8QEBBERERUVFS6urqI\n",
       "iIhmZmaqqqrc3Nzu7u6YmJgyMjIiIiLMzMwAAADtIaYWAAAAAXRSTlMAQObYZgAAAFtJREFUCNdj\n",
       "YACBOwxQsA9Kc52bAGG05zVAGAFxDmCaZULdAjBjCsO9ADDDgaEvAUTzGhvbKYCVMDAwbgAxChgY\n",
       "eASANAeQwf0AyJgNxEwvGRia5HYwcOm9TgAA6BoR3jrzwFcAAAAASUVORK5CYII=\n",
       "\" style=\"display:inline;vertical-align:middle;\" /></a></span></td></tr><tr><td>3</td><td>axiom</td><td></td><td><span style=\"font-size:20px;\"> <a class=\"ProveItLink\" href=\"../../../negation/_axioms_.ipynb#doubleNegationElim\" style=\"text-decoration: none\">&#x22A2;&nbsp;</a><a class=\"ProveItLink\" href=\"../../../negation/__pv_it/cf65897bab789d8e24ef7ffd8cdbf9ffa076bef00/expr.ipynb\"><img src=\"data:image/png;base64,iVBORw0KGgoAAAANSUhEUgAAAHEAAAAWBAMAAAAFoW4BAAAAMFBMVEX///8QEBC6urrMzMxUVFRm\n",
       "ZmZERETc3NwyMjKqqqp2dnaIiIiYmJgiIiLu7u4AAAAU9Wx4AAAAAXRSTlMAQObYZgAAAXhJREFU\n",
       "OMtjeMBALrgAIk6TqssWiFeCGH2k6uwH4jIgZk8gUSPPfaAnOYCYdQKJOivjC4Dal5eX15Lq2A37\n",
       "FYDkt7S0WzgUsBsg8xAOY3ow/wCQcmZgSAfz2yGiSGqrEEygpBWc84jBfgOQUmHgawD7+hNYlA1J\n",
       "JyLgQJJcCjCeAkN9AJDiZeAGWc3w9A+6Ts4NcCZIEmIBEDC7uPiDDOU+wAtOR+uuoutkK4AzwZLO\n",
       "MG8yMDCCTOFrMAEbtCENXScjnAWR3I0IKl4BECPdCUSyMMSi67SAsyCSKtAQB+rk+ABiTQUn3ZMM\n",
       "+xE6udLS0jJAKpcBGQ0wSahJL0Cq/oEdBQoIvquh+Q9Q7GRjmAILYagkRGeZfDsDT/4PUODygHSw\n",
       "FjDYG6DpVIPphEqqYU0uOgwM/AfQdL6F6YRKnsKm8ck3Bnb/Oyg6mRkgscVgAJMMwp+YkcKWGy0L\n",
       "NRCtkw812yIlKUI6GeagyLAQyHrI8jwouWwdqkIA4DVYFYu4wFQAAAAASUVORK5CYII=\n",
       "\" style=\"display:inline;vertical-align:middle;\" /></a></span></td></tr>\n",
       "<tr><td>&nbsp;</td><td colspan=4 style-\"text-align:left\"><a class=\"ProveItLink\" href=\"../../../negation/_axioms_.ipynb#doubleNegationElim\">proveit.logic.boolean.negation.doubleNegationElim</a></td></tr><tr><td>4</td><td>assumption</td><td></td><td><span style=\"font-size:20px;\"><a class=\"ProveItLink\" href=\"../884efe5ec06f8c861a88d8e8d6d35f3217b2b5e60/expr.ipynb\"><img src=\"data:image/png;base64,iVBORw0KGgoAAAANSUhEUgAAAE4AAAAVBAMAAAAazcUaAAAAMFBMVEX////c3NxERESqqqpUVFS6\n",
       "urrMzMwyMjIQEBCIiIh2dnYiIiLu7u5mZmaYmJgAAABXZE4RAAAAAXRSTlMAQObYZgAAATJJREFU\n",
       "KM9jYGDgu8eAH2QtBJE8u5CEItHVPAURGQZAgvMDQpTNAVkN2wYGBt4EIIO3AEhwNSBk2A8gq2MH\n",
       "mQBXgqxuJoqdr/8AiVfY1PUgK2O0/QgkT2BRx1qArI6T8yuQZDLAVMe7AFldDPM/kPQFqBJehCHs\n",
       "D5CU8QSw/QRSzEBpPpCHMgIYGG7vBoJdDBwIJtARDIx/QRTIrFoGhpQ2mAEpDPwBcCYQu7h8AgUi\n",
       "yCymOgaGiATs6oDsdpg6kPksBXBJDgOEOmYgtQNqL9h9XBvgkkwPEOqEgVQ9EPMVoIcLGzgMoEwe\n",
       "kC36B5DCBTmcN8DjQuO7AMOj/0B/sgdgibdGzMSHLd7AkY4GVsKU8OFMV+BYKYBFGc9OpCTigK6O\n",
       "RQAaZUADFyOEJdHVTYPmDwBR51DC8IULxwAAAABJRU5ErkJggg==\n",
       "\" style=\"display:inline;vertical-align:middle;\" /></a> <a class=\"ProveItLink\" href=\"../90f90a3eb0f47a891e6173ea864d5908c0e353450/proof.ipynb\" style=\"text-decoration: none\">&#x22A2;&nbsp;</a><a class=\"ProveItLink\" href=\"../../../__pv_it/690f844a8265fe01f189bf903fced7412f5ba46b0/expr.ipynb\"><img src=\"data:image/png;base64,iVBORw0KGgoAAAANSUhEUgAAADkAAAAVBAMAAAAOWFv7AAAAMFBMVEX////c3NxERESqqqqYmJgQ\n",
       "EBDu7u4yMjKIiIi6urpUVFTMzMx2dnYiIiJmZmYAAABjE816AAAAAXRSTlMAQObYZgAAAOFJREFU\n",
       "KM9jYCAOzEAX8ERicy9AluG+wMDAtwHBZ09AlmX/ACQKEPwOFFN9vwEJHwQ/DFmS0e4jkEyF8zkL\n",
       "kGU5OH4CSSYDGJ/vALLsNOYvQJLnAdwZDkiSbBO4fwAp5gKGt3eB4A4D6wQGGBNoDQPjPxAVAFG8\n",
       "i4F/AgOMCcSrVn0CefoDVlkgOxxFltUAIcsMpK6imMzkgJAVBlL1QMwC9SU3wvXcDGwgQf0EZB9x\n",
       "XoCHk+p3AQan/3VAX06A+zEQM04RIYkc5DBwAlcMgkMMKegZF6DLcgkgcSTQZbsZGAAzQjehLLGe\n",
       "5wAAAABJRU5ErkJggg==\n",
       "\" style=\"display:inline;vertical-align:middle;\" /></a></span></td></tr>\n",
       "</table>"
      ],
      "text/plain": [
       "<proveit._core_.proof._ShowProof at 0x7f94ead719e8>"
      ]
     },
     "execution_count": 1,
     "metadata": {},
     "output_type": "execute_result"
    }
   ],
   "source": [
    "import proveit\n",
    "%show_proof"
   ]
  },
  {
   "cell_type": "code",
   "execution_count": null,
   "metadata": {},
   "outputs": [],
   "source": []
  }
 ],
 "metadata": {
  "kernelspec": {
   "display_name": "Python 3",
   "language": "python",
   "name": "python3"
  }
 },
 "nbformat": 4,
 "nbformat_minor": 0
}
