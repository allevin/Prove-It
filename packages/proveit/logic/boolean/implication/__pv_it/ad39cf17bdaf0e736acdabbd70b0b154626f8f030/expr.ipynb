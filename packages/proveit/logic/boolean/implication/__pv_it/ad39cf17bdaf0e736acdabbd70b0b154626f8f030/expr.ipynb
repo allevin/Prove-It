{
 "cells": [
  {
   "cell_type": "markdown",
   "metadata": {},
   "source": [
    "Expression of type <a class=\"ProveItLink\" href=\"../../../../../../../doc/html/api/proveit.logic.Forall.html\">Forall</a>\n",
    "=======================\n",
    "# from context <a class=\"ProveItLink\" href=\"../../_context_.ipynb\">proveit.logic.boolean.implication</a>"
   ]
  },
  {
   "cell_type": "code",
   "execution_count": 1,
   "metadata": {},
   "outputs": [],
   "source": [
    "# import Expression classes needed to build the expression\n",
    "from proveit._common_ import Px, x\n",
    "from proveit.logic import Forall\n",
    "from proveit.logic._common_ import PofTrue"
   ]
  },
  {
   "cell_type": "code",
   "execution_count": 2,
   "metadata": {},
   "outputs": [
    {
     "data": {
      "text/html": [
       "<strong id=\"expr\">expr:</strong> <a class=\"ProveItLink\" href=\"expr.ipynb\"><img src=\"data:image/png;base64,iVBORw0KGgoAAAANSUhEUgAAAJMAAAAXBAMAAAD96mDoAAAAMFBMVEX///8QEBC6urrMzMxUVFRm\n",
       "ZmZERETc3NwyMjKqqqp2dnaIiIiYmJgiIiLu7u4AAAAU9Wx4AAAAAXRSTlMAQObYZgAAAkFJREFU\n",
       "OMutlb9rFEEUx7+3e3fZ29vbpJM0ckWwSbOCQhDkjiSYQJAc+KNRITZJkeK2SkQR9g8Qk8JUBrII\n",
       "kl8YBNOohatlLEylIAqbRmwEISFKCvXNzP54d/mBGx2YmffevfnMmzdv9oD/18J/WdybSG+obwrh\n",
       "bZb15dGdwYtDQtLruPFZtPcoOMCysN3PFEunB9x0STDkkc5KI9mmaOoYy4Sq+cACdbxEitpQ5MJs\n",
       "JtSrKvCuQcJJhtoCrMXp6bvZkt2kPkq7ax5DFcmwOz7+8ZA1HY4YS+3mn4C9S3PBZyiTwhwAJlK3\n",
       "qhxLzSuXyXhbKrrfStL3gPPifEbAUCUKsQe2l/pFF/AaeJIoj9qKYWfl8aIQclWG0rqACsrBPtQg\n",
       "JTYsPVXK11ZU8VdcFBylf6dNgkq4D/UJGEbRVUreaS2rzcNQtneGpNX+dSdF2duwPiBHyVzvHUBZ\n",
       "Rhd7oNaIULnZtgNiop+WhBfUDwql7a1cB/qAtfxYN7Q6mIcsK3VSnnZLJHyOAtZwjx/QlBfRQxcq\n",
       "bkkXWuKBZpwPs9FWDMjJ+H9wVFE6PRD5cCNU7GFf/T0SoTSVtHNyNESslthF79IZqlMe5RT103Cg\n",
       "SWPswdoJJm8lL9T0TIaqybv7RteyBB+Wj1tu4sHaBpNXY+HL82trKcqcuSSmSmhPzr0IUaiiFiQe\n",
       "rBlpFfEyb60rVdbRB8OgHhz4RuuJmHePRNmR8pAS5R743u8k0jMcicK8mmhv6xgf/jpXLFne5l/+\n",
       "k/wB/L6D9vZhfxIAAAAASUVORK5CYII=\n",
       "\" style=\"display:inline;vertical-align:middle;\" /></a><br>"
      ],
      "text/plain": [
       "expr: forall_{x | P(x) , x} P(TRUE)"
      ]
     },
     "execution_count": 2,
     "metadata": {},
     "output_type": "execute_result"
    }
   ],
   "source": [
    "# build up the expression from sub-expressions\n",
    "expr = Forall([x], PofTrue, conditions = [Px, x])"
   ]
  },
  {
   "cell_type": "code",
   "execution_count": 3,
   "metadata": {},
   "outputs": [
    {
     "name": "stdout",
     "output_type": "stream",
     "text": [
      "Passed sanity check: built 'expr' is the same as the stored Expression.\n"
     ]
    }
   ],
   "source": [
    "# check that the built expression is the same as the stored expression\n",
    "%check_expr"
   ]
  },
  {
   "cell_type": "code",
   "execution_count": 4,
   "metadata": {},
   "outputs": [
    {
     "data": {
      "text/html": [
       "<table><tr><th>&nbsp;</th><th>core type</th><th>sub-expressions</th><th>expression</th></tr>\n",
       "<tr><td>0</td><td>Operation</td><td>operator:&nbsp;1<br>operand:&nbsp;2<br></td><td><a class=\"ProveItLink\" href=\"expr.ipynb\"><img src=\"data:image/png;base64,iVBORw0KGgoAAAANSUhEUgAAAJMAAAAXBAMAAAD96mDoAAAAMFBMVEX///8QEBC6urrMzMxUVFRm\n",
       "ZmZERETc3NwyMjKqqqp2dnaIiIiYmJgiIiLu7u4AAAAU9Wx4AAAAAXRSTlMAQObYZgAAAkFJREFU\n",
       "OMutlb9rFEEUx7+3e3fZ29vbpJM0ckWwSbOCQhDkjiSYQJAc+KNRITZJkeK2SkQR9g8Qk8JUBrII\n",
       "kl8YBNOohatlLEylIAqbRmwEISFKCvXNzP54d/mBGx2YmffevfnMmzdv9oD/18J/WdybSG+obwrh\n",
       "bZb15dGdwYtDQtLruPFZtPcoOMCysN3PFEunB9x0STDkkc5KI9mmaOoYy4Sq+cACdbxEitpQ5MJs\n",
       "JtSrKvCuQcJJhtoCrMXp6bvZkt2kPkq7ax5DFcmwOz7+8ZA1HY4YS+3mn4C9S3PBZyiTwhwAJlK3\n",
       "qhxLzSuXyXhbKrrfStL3gPPifEbAUCUKsQe2l/pFF/AaeJIoj9qKYWfl8aIQclWG0rqACsrBPtQg\n",
       "JTYsPVXK11ZU8VdcFBylf6dNgkq4D/UJGEbRVUreaS2rzcNQtneGpNX+dSdF2duwPiBHyVzvHUBZ\n",
       "Rhd7oNaIULnZtgNiop+WhBfUDwql7a1cB/qAtfxYN7Q6mIcsK3VSnnZLJHyOAtZwjx/QlBfRQxcq\n",
       "bkkXWuKBZpwPs9FWDMjJ+H9wVFE6PRD5cCNU7GFf/T0SoTSVtHNyNESslthF79IZqlMe5RT103Cg\n",
       "SWPswdoJJm8lL9T0TIaqybv7RteyBB+Wj1tu4sHaBpNXY+HL82trKcqcuSSmSmhPzr0IUaiiFiQe\n",
       "rBlpFfEyb60rVdbRB8OgHhz4RuuJmHePRNmR8pAS5R743u8k0jMcicK8mmhv6xgf/jpXLFne5l/+\n",
       "k/wB/L6D9vZhfxIAAAAASUVORK5CYII=\n",
       "\" style=\"display:inline;vertical-align:middle;\" /></a></td></tr>\n",
       "<tr><td>1</td><td>Literal</td><td></td><td><a class=\"ProveItLink\" href=\"../../../quantification/universal/__pv_it/265f8c02ac1094d56e0e6410a1c1fd3500dc9f540/expr.ipynb\"><img src=\"data:image/png;base64,iVBORw0KGgoAAAANSUhEUgAAAAwAAAAQBAMAAADQT4M0AAAAMFBMVEX///8QEBC6urrMzMxUVFRm\n",
       "ZmZERETc3NwyMjKqqqp2dnaIiIiYmJgiIiLu7u4AAAAU9Wx4AAAAAXRSTlMAQObYZgAAAFhJREFU\n",
       "CNdjeMAABhdAxGmGlSCqj6EMSLInMHAAJVknMPAsLy+vBYp8S0u7BaScGRjSgZQKA18DkOJl4D4A\n",
       "pLgP8IJM4mswARuX7gSmpoKNZWDcAKZ4gCoAgTQTILaSE58AAAAASUVORK5CYII=\n",
       "\" style=\"display:inline;vertical-align:middle;\" /></a></td></tr>\n",
       "<tr><td>2</td><td>Lambda</td><td>parameter:&nbsp;8<br>body:&nbsp;3<br>conditions:&nbsp;4<br></td><td><a class=\"ProveItLink\" href=\"../4b86637fbd44e26c7d57245b736eec5a92eafbdd0/expr.ipynb\"><img src=\"data:image/png;base64,iVBORw0KGgoAAAANSUhEUgAAAL8AAAAVCAMAAAAgs8+8AAAANlBMVEX///+6uroUFBQNDQ0yMjJE\n",
       "RETMzMwQEBAiIiKYmJju7u5mZmaqqqpUVFSIiIh2dnbc3NwAAACltDI1AAAAAXRSTlMAQObYZgAA\n",
       "AeFJREFUSMfNl9dyhDAMAO0EV9z0/z8bXwHkIgNHyEQPx4zRLYuRG2N/GC6x/xk8tG2GN02Rn0cZ\n",
       "/ruqwQP4HNpvnSl9/pk1CvFokDv+JKqIFnMxYHpehFqfOtnt+fOWOO32/xBFYq6FhPgq5vc19yP6\n",
       "5NjfxB3/MYrEXCwgeFkYWFSV7ftbteM/RpGYayHgdfXg3iMOf2Dsz4Qb+49RJKaKFINPLsyhX3DO\n",
       "dWvWglgGWKT84zz2J1GlUo0pE2z+j9GGKb3c1GWut52alXqFTobyd9PQn0RVSq75KjghPgsxZ0nC\n",
       "3/pU1KyPMc5xa1Oc8udqPH9SqEqJNwMAJzx61wt89/tLF6GA45qthxiQ/hKG/iSqUqoxrbMqpq2q\n",
       "/5nHjwXNfst/iEJKrX+VkEC+X6rnP6dCqRlMyn1WP0MUVuK9CXRNMOlZSiwQ/jL0pmxcBuT4NcPx\n",
       "S6MqpRWzGqIEByav3/l9Ns3Q1NqoZsvp7cT8SaJqpQVjl4LDCVaEaGMM5sDSZWeRd1z1Es/x95J4\n",
       "MZg46T9C1UoLxip4lfIZ5wOhiG397v7hGAph+C0HCGqDFcNp/x4KYQy7JTqb3ke/7e+fj6Aw5ib/\n",
       "5HutPn3g36IQJtx1fkwdcmjPTYGfR4Xx8esHdmQYivWG+awAAAAASUVORK5CYII=\n",
       "\" style=\"display:inline;vertical-align:middle;\" /></a></td></tr>\n",
       "<tr><td>3</td><td>Operation</td><td>operator:&nbsp;7<br>operand:&nbsp;5<br></td><td><a class=\"ProveItLink\" href=\"../../../../__pv_it/e620067e5fc1a01f6e7ce2f053b97db25219d34a0/expr.ipynb\"><img src=\"data:image/png;base64,iVBORw0KGgoAAAANSUhEUgAAADEAAAAVBAMAAAAdjxsPAAAAMFBMVEX////u7u5mZmaYmJi6urqq\n",
       "qqp2dnbMzMwQEBBEREQyMjLc3NwiIiJUVFSIiIgAAAAeC3ydAAAAAXRSTlMAQObYZgAAAOtJREFU\n",
       "KM9jYCAK+MFZJmDy7f+7d89uADLYLzDonAGBkwxMBWCpXwwMnN1AmksAxCsCiy0AEezfGBhYgZjh\n",
       "HQNCxgxE8H1hYGD+BGQ0IslIgAjODwwMvF8ZGFgWIMlwBgAJfqCI/AQGBqYEJBk2BSBRn8DAfgjk\n",
       "AAMkGVaQAe+vpamBHM3hgCTD0gAk5gtAfMePLMMOtJzhDwMOGfZPUBmOADTTQN6BOBTZBcxAF3B+\n",
       "hMqAHYrkaqH5fx9AZFgOgKkyMMnlgBwJ3UhsCZToMUNi56HIcAnAmYwLUGS4L8CZvBtQY3sfnPWc\n",
       "gQEAcQM23zO0HfcAAAAASUVORK5CYII=\n",
       "\" style=\"display:inline;vertical-align:middle;\" /></a></td></tr>\n",
       "<tr><td>4</td><td>ExprTuple</td><td>6, 8</td><td><a class=\"ProveItLink\" href=\"../c92b80e180c3981004c7b73676f2541a4c8c3a1a0/expr.ipynb\"><img src=\"data:image/png;base64,iVBORw0KGgoAAAANSUhEUgAAAFQAAAAVBAMAAAAqQdQ7AAAAMFBMVEX////c3NwiIiJERESqqqqY\n",
       "mJh2dnZmZmYQEBDu7u4yMjJUVFTMzMyIiIi6uroAAAAs73DqAAAAAXRSTlMAQObYZgAAAbRJREFU\n",
       "KM+VUztIA0EQfSEfL59LUoiNBNOIhU0KBRuJtShGCwsLuSpiEUiVSiERGwslIMRgkzQWNmIQbNKk\n",
       "t/AaFYkStRJBiKIGP0RnLnu5y3Yu7M3MzmPnzds54B8rqNujZ2GXJZT7jj5ntOu/1epomJzAsUj1\n",
       "1STsGu1Ddr4AZ46sL2+myhLUB6hcP/ABuGjjtptalBloUPgetU1+i5ytbqooQb1ZPLF1NgH/G7Vo\n",
       "lXVOSdgxZNiECFKKUTMa4EhVZtcBT9rEDNT7r4jlCg44OtcQGGHuCaCAhcQGUTcLeDX3sBIFprHD\n",
       "YeM0mWGtFFJPQwMzxCUroB6oTRdJ94g2h3GhUYigeZywG2iat8IfMyp3oK+woMB2D5Rq6R3oJh+3\n",
       "zENu2/FDN1kEgKEalSIC40LWjkLU1rzaxDXJXDaKkxNuQCXoEmlAiE+zhTRc786sQxdilajzucQE\n",
       "ImCxHoC9+LeYrmAU3snV5AXrxrSLL8DuZSFFxXAEJWx/kpz0sPf2h6UxsC1rSFLGN9GNPboYwu6o\n",
       "mUPoLUvQfdqDdqjDHG2/wUu1MhXO9vwwEWFvpLlSa/gD3l1mLUTsNqYAAAAASUVORK5CYII=\n",
       "\" style=\"display:inline;vertical-align:middle;\" /></a></td></tr>\n",
       "<tr><td>5</td><td>Literal</td><td></td><td><a class=\"ProveItLink\" href=\"../../../__pv_it/68a87cc3370287d726c7086ace789e680e4461c30/expr.ipynb\"><img src=\"data:image/png;base64,iVBORw0KGgoAAAANSUhEUgAAAA4AAAAOBAMAAADtZjDiAAAAFVBMVEX///92dnbMzMxEREQiIiJm\n",
       "ZmYAAABAT6GXAAAAAXRSTlMAQObYZgAAABhJREFUCNdjCHEBAWcGIFBlgABa0YpADAAxegPJJk4d\n",
       "XAAAAABJRU5ErkJggg==\n",
       "\" style=\"display:inline;vertical-align:middle;\" /></a></td></tr>\n",
       "<tr><td>6</td><td>Operation</td><td>operator:&nbsp;7<br>operand:&nbsp;8<br></td><td><a class=\"ProveItLink\" href=\"../../../../../__pv_it/8c735c381b4cbf3c87e86ca2468da4e5c976f9b00/expr.ipynb\"><img src=\"data:image/png;base64,iVBORw0KGgoAAAANSUhEUgAAAC4AAAAVBAMAAADLKsFqAAAAMFBMVEX////u7u5mZmaYmJi6urqq\n",
       "qqp2dnbMzMwQEBBEREQyMjLc3NwiIiJUVFSIiIgAAAAeC3ydAAAAAXRSTlMAQObYZgAAAQlJREFU\n",
       "GNNjYCACsDyA0MwOIPLt/7t3z24AsWphCtTB5C8GBs5uEGMhTJwLRLB/Y2BgBWIGvgcwceYEEPcL\n",
       "kPEJyOAQgIkzNgAJzg8MDLxfgQwvhAumAjH/AgYG+QlAhhoQb3u79RHQuCQgsz6Bgf0QSNFioAEJ\n",
       "zIc5DjAwRAG576+lqYGd2cLAwMbA94G1gIHBA8idD7MOaD8jAy/IRIZ6IP7DgBAHOuoBVJz9E0y8\n",
       "FUTsL2AQAJvD9wUmPhnojw3vGfiA4lZA53+EiQMdF28wg2EfmCk0/y/M+z4MDJLPxPIMgMwlyMHM\n",
       "sQElHBhQQgsM2B6gxAs8nKVQ42svjHEbVZwbqp2vgAEAALg9cr1t3EsAAAAASUVORK5CYII=\n",
       "\" style=\"display:inline;vertical-align:middle;\" /></a></td></tr>\n",
       "<tr><td>7</td><td>Variable</td><td></td><td><a class=\"ProveItLink\" href=\"../../../../../__pv_it/6369c6c8083c513ca7161ace249642d040f9327d0/expr.ipynb\"><img src=\"data:image/png;base64,iVBORw0KGgoAAAANSUhEUgAAABAAAAAOBAMAAADUAYG5AAAAMFBMVEX////u7u5mZmaYmJi6urqq\n",
       "qqp2dnbMzMwQEBBEREQyMjLc3NwiIiJUVFSIiIgAAAAeC3ydAAAAAXRSTlMAQObYZgAAAGBJREFU\n",
       "CNdjYGB4+//u3bMbGIDgFwMDZzeQZv/GwMAKxAx8XxgYmD8BGZwfGBh4vwIZ/AsYGOQnABn1CQzs\n",
       "h0Ca3l9LUwPrni/AAAF/oDT7JygDZAwYcH6E0ELz/z4A0QBnpRnRyxnfJQAAAABJRU5ErkJggg==\n",
       "\" style=\"display:inline;vertical-align:middle;\" /></a></td></tr>\n",
       "<tr><td>8</td><td>Variable</td><td></td><td><a class=\"ProveItLink\" href=\"../../../../../__pv_it/530be409e3083890784cf1d7b28c9e67e90af9360/expr.ipynb\"><img src=\"data:image/png;base64,iVBORw0KGgoAAAANSUhEUgAAAAsAAAAJBAMAAAAWSsseAAAAKlBMVEX///9ERETMzMwQEBAiIiKY\n",
       "mJju7u5mZmaqqqpUVFSIiIh2dnbc3NwAAAA/vyDhAAAAAXRSTlMAQObYZgAAAENJREFUCNdjYDi9\n",
       "8sTyBQxsG1hdmR0YuBm4LnAoMLAxcAowgADzAjB1VoEhgYH1wFoGrgSG3gBhhlMMDImrs3cFMAAA\n",
       "t0YN+iTRa+sAAAAASUVORK5CYII=\n",
       "\" style=\"display:inline;vertical-align:middle;\" /></a></td></tr>\n",
       "</table>\n"
      ],
      "text/plain": [
       "0. forall_{x | P(x) , x} P(TRUE)\n",
       "   core type: Operation\n",
       "   operator: 1\n",
       "   operand: 2\n",
       "1. forall\n",
       "   core type: Literal\n",
       "   sub-expressions: \n",
       "2. x -> P(TRUE) | P(x) , x\n",
       "   core type: Lambda\n",
       "   parameter: 8\n",
       "   body: 3\n",
       "   conditions: 4\\n3. P(TRUE)\n",
       "   core type: Operation\n",
       "   operator: 7\n",
       "   operand: 5\n",
       "4. (P(x) , x)\n",
       "   core type: ExprTuple\n",
       "   sub-expressions: 6, 8\n",
       "5. TRUE\n",
       "   core type: Literal\n",
       "   sub-expressions: \n",
       "6. P(x)\n",
       "   core type: Operation\n",
       "   operator: 7\n",
       "   operand: 8\n",
       "7. P\n",
       "   core type: Variable\n",
       "   sub-expressions: \n",
       "8. x\n",
       "   core type: Variable\n",
       "   sub-expressions: "
      ]
     },
     "execution_count": 4,
     "metadata": {},
     "output_type": "execute_result"
    }
   ],
   "source": [
    "# display the expression information\n",
    "expr.exprInfo()"
   ]
  },
  {
   "cell_type": "code",
   "execution_count": null,
   "metadata": {},
   "outputs": [],
   "source": []
  }
 ],
 "metadata": {
  "kernelspec": {
   "display_name": "Python 3",
   "language": "python",
   "name": "python3"
  }
 },
 "nbformat": 4,
 "nbformat_minor": 0
}
