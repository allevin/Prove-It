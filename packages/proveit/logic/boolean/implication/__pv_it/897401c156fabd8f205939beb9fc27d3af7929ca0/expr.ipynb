{
 "cells": [
  {
   "cell_type": "markdown",
   "metadata": {},
   "source": [
    "Expression of type <a class=\"ProveItLink\" href=\"../../../../../../../doc/html/api/proveit.logic.Equals.html\">Equals</a>\n",
    "=======================\n",
    "# from context <a class=\"ProveItLink\" href=\"../../_context_.ipynb\">proveit.logic.boolean.implication</a>"
   ]
  },
  {
   "cell_type": "code",
   "execution_count": 1,
   "metadata": {},
   "outputs": [],
   "source": [
    "# import Expression classes needed to build the expression\n",
    "from proveit._common_ import A\n",
    "from proveit.logic import Equals, FALSE, Implies, Not"
   ]
  },
  {
   "cell_type": "code",
   "execution_count": 2,
   "metadata": {},
   "outputs": [
    {
     "data": {
      "text/html": [
       "<strong id=\"expr\">expr:</strong> <a class=\"ProveItLink\" href=\"expr.ipynb\"><img src=\"data:image/png;base64,iVBORw0KGgoAAAANSUhEUgAAAJcAAAAVBAMAAAC5yWGZAAAAMFBMVEX////c3NwiIiJERESqqqqY\n",
       "mJh2dnZmZmYQEBDu7u4yMjJUVFTMzMyIiIi6uroAAAAs73DqAAAAAXRSTlMAQObYZgAAAZdJREFU\n",
       "OMutVCFPw0AY/coy1i3dsgQcgqR/YBMgUKCHAD01tyBIFgSKhIWgYRpBhiABxBh6ggUJYv0HNKgF\n",
       "hQVB+O6+a+/69doZXvLa671773rf9Qrwr6gFxASKYbYhT3tT1HhBnljHOnJSuyZccK+o8YisWA1e\n",
       "DzI14aoGRGMZjQFeOvFzmYcZGnO5ihqrp3VM6MfPlQELMzTm+gSiRvAuKryhd2jMwgyNuY6BqL2D\n",
       "vX28dXXPIQ/rWr4J6boFYoxrmIkStkT7yBdo9FiY1EoPEmPTdQGSJWkTlQ1hXVjmRn4rTIbN029G\n",
       "rl8gyrE4jTeZPDexPTNGlu/CRNgs/c2Qi4fVcHOHzPB6AAvClOsciFHYDsBSP1oK1czfAssyqTB+\n",
       "U/Yo1yYQVZiD3ZUvbLf1tLt8N9upY6ZcXXOrp3CF18J3Yvud4cJPI3J9AJGwcnkDxe0f9IzivkKd\n",
       "7mJdZ3JdI5YVu1wc6tZTFTWOjJej8QPasZ7c5SD7p5WjpX9BURWykKOtKSbxlBOWo4m/p8NfvDrN\n",
       "NmRrf0aIdGOe7WNKAAAAAElFTkSuQmCC\n",
       "\" style=\"display:inline;vertical-align:middle;\" /></a><br>"
      ],
      "text/plain": [
       "expr: ([not](A) => FALSE) = A"
      ]
     },
     "execution_count": 2,
     "metadata": {},
     "output_type": "execute_result"
    }
   ],
   "source": [
    "# build up the expression from sub-expressions\n",
    "expr = Equals(Implies(Not(A), FALSE), A)"
   ]
  },
  {
   "cell_type": "code",
   "execution_count": 3,
   "metadata": {},
   "outputs": [
    {
     "name": "stdout",
     "output_type": "stream",
     "text": [
      "Passed sanity check: built 'expr' is the same as the stored Expression.\n"
     ]
    }
   ],
   "source": [
    "# check that the built expression is the same as the stored expression\n",
    "%check_expr"
   ]
  },
  {
   "cell_type": "code",
   "execution_count": 4,
   "metadata": {},
   "outputs": [
    {
     "data": {
      "text/html": [
       "<table><tr><th>&nbsp;</th><th>core type</th><th>sub-expressions</th><th>expression</th></tr>\n",
       "<tr><td>0</td><td>Operation</td><td>operator:&nbsp;1<br>operands:&nbsp;2<br></td><td><a class=\"ProveItLink\" href=\"expr.ipynb\"><img src=\"data:image/png;base64,iVBORw0KGgoAAAANSUhEUgAAAJcAAAAVBAMAAAC5yWGZAAAAMFBMVEX////c3NwiIiJERESqqqqY\n",
       "mJh2dnZmZmYQEBDu7u4yMjJUVFTMzMyIiIi6uroAAAAs73DqAAAAAXRSTlMAQObYZgAAAZdJREFU\n",
       "OMutVCFPw0AY/coy1i3dsgQcgqR/YBMgUKCHAD01tyBIFgSKhIWgYRpBhiABxBh6ggUJYv0HNKgF\n",
       "hQVB+O6+a+/69doZXvLa671773rf9Qrwr6gFxASKYbYhT3tT1HhBnljHOnJSuyZccK+o8YisWA1e\n",
       "DzI14aoGRGMZjQFeOvFzmYcZGnO5ihqrp3VM6MfPlQELMzTm+gSiRvAuKryhd2jMwgyNuY6BqL2D\n",
       "vX28dXXPIQ/rWr4J6boFYoxrmIkStkT7yBdo9FiY1EoPEmPTdQGSJWkTlQ1hXVjmRn4rTIbN029G\n",
       "rl8gyrE4jTeZPDexPTNGlu/CRNgs/c2Qi4fVcHOHzPB6AAvClOsciFHYDsBSP1oK1czfAssyqTB+\n",
       "U/Yo1yYQVZiD3ZUvbLf1tLt8N9upY6ZcXXOrp3CF18J3Yvud4cJPI3J9AJGwcnkDxe0f9IzivkKd\n",
       "7mJdZ3JdI5YVu1wc6tZTFTWOjJej8QPasZ7c5SD7p5WjpX9BURWykKOtKSbxlBOWo4m/p8NfvDrN\n",
       "NmRrf0aIdGOe7WNKAAAAAElFTkSuQmCC\n",
       "\" style=\"display:inline;vertical-align:middle;\" /></a></td></tr>\n",
       "<tr><td>1</td><td>Literal</td><td></td><td><a class=\"ProveItLink\" href=\"../../../../equality/__pv_it/2fb26078095930560931daa0500ce419a39ea6cd0/expr.ipynb\"><img src=\"data:image/png;base64,iVBORw0KGgoAAAANSUhEUgAAAA4AAAAFBAMAAACHocAhAAAAFVBMVEX///9EREQiIiJUVFQyMjJm\n",
       "ZmYAAADubVkoAAAAAXRSTlMAQObYZgAAABRJREFUCNdjCHEBAWcGXCBICQQUAUpuAwlgGKrkAAAA\n",
       "AElFTkSuQmCC\n",
       "\" style=\"display:inline;vertical-align:middle;\" /></a></td></tr>\n",
       "<tr><td>2</td><td>ExprTuple</td><td>3, 9</td><td><a class=\"ProveItLink\" href=\"../ae362dbe145926226d1c628c891c1d1fdc340cc10/expr.ipynb\"><img src=\"data:image/png;base64,iVBORw0KGgoAAAANSUhEUgAAAIQAAAAVBAMAAAB1UFtyAAAAMFBMVEX////c3NwiIiJERESqqqqY\n",
       "mJh2dnZmZmYQEBDu7u4yMjJUVFTMzMyIiIi6uroAAAAs73DqAAAAAXRSTlMAQObYZgAAAX1JREFU\n",
       "OMtjYKAC4LsAwSiA9QGRusEKT0MxAhwC4hqsGhgvYFW4EooRYD0Qc2E1gqcAm0LeCxCM5Db9CUAi\n",
       "ASEwAYcRMIUcQIpjArKMSL0AAwNnA0JgJQ4jYApfAdmvUJx34T4oiEwQAq9xGAFTWAYky1BiaIJ/\n",
       "AJBKR4iwXcBqBFzhUiC5FNmIeQznQVq8QGx2JTD4jtUIuMI+INkHUwwKwwcM8iCFL5AUs6zDZgRc\n",
       "4T8g+Q+mYgMQ79693wDIPo/ssll9mEYgFKIbwQeMoAVoRvAsm4BpBEJhC5BsQTLCgYGBqQHmEWhY\n",
       "KE/A4hGEQlMgaYowghEow/UByI5CCooNqMEJNhBJYTpyBB5gmAUkmX+iRqoUarrg/AQOHoTCR0Dy\n",
       "EVyNcP9CBlb7X0CV6xBGGEIokK+alJQMOPsFUBVyAPkgjAaQE/gB9OJBAFUhKD8h5ymMFImljEBX\n",
       "iJnZYV4lygiQQmkoRgUb8RhxAV0hqCRiRHc27wEiCz6gQgBYEHMEp+IcGgAAAABJRU5ErkJggg==\n",
       "\" style=\"display:inline;vertical-align:middle;\" /></a></td></tr>\n",
       "<tr><td>3</td><td>Operation</td><td>operator:&nbsp;4<br>operands:&nbsp;5<br></td><td><a class=\"ProveItLink\" href=\"../a87cb314a77b2b28d63a43f1f29e83e334a545040/expr.ipynb\"><img src=\"data:image/png;base64,iVBORw0KGgoAAAANSUhEUgAAAFsAAAAVBAMAAADbSo+2AAAAMFBMVEX////c3NwiIiJERESqqqqY\n",
       "mJh2dnZmZmYQEBDu7u4yMjJUVFTMzMyIiIi6uroAAAAs73DqAAAAAXRSTlMAQObYZgAAASNJREFU\n",
       "KM9jYCAR8F1AE2B9gE/5aRTeISCuwaqOEWLsShTB9UDMhVU5TwGI5EVxC6v+BCCRAOdzoivnmICs\n",
       "XKReAKimAc7nmoCm/BWKjRfug/xpggiHDWjKy1BCaYJ/AJBKR4jkoilfiqx8HsN5kFe8QOwiJRDQ\n",
       "L0BV3sfAwA6WAPnvAYM8SPAFkgleD1CU/4PxgK7k2b17vwGQfR5JOeeKB7iU8wEDagGa8lOZKKa3\n",
       "ICl3YGBgaoA5BuJ2JUtUt5silDMClXN9ALKjEIZ7o4UMPNAOMMwCksw/UQKScQGa8kdwvnD/QgZW\n",
       "+19A0XVwMWYBCA0KvCYlJQMGDgGMxISUCHjQ5ZDSEwywXcCT3ldiiMzClz2kMUQ24lPOiG417wHc\n",
       "igFg/0K2AuH1ZwAAAABJRU5ErkJggg==\n",
       "\" style=\"display:inline;vertical-align:middle;\" /></a></td></tr>\n",
       "<tr><td>4</td><td>Literal</td><td></td><td><a class=\"ProveItLink\" href=\"../e5c030cabcb650938f92dee8256fe11cd12bf9b30/expr.ipynb\"><img src=\"data:image/png;base64,iVBORw0KGgoAAAANSUhEUgAAABMAAAANBAMAAAC5okgUAAAALVBMVEX////c3NxERETMzMwQEBCq\n",
       "qqoiIiJmZmaIiIh2dnZUVFS6uroyMjLu7u4AAACPpZJTAAAAAXRSTlMAQObYZgAAAD1JREFUCNdj\n",
       "YAABXgY44LkAZ3IvQAjPABFlaSCQV4AQjtkAZ/IegbNt5sLUpunC5aPgLMYDcCaTAJzJDCIA2yMN\n",
       "HCCUuIIAAAAASUVORK5CYII=\n",
       "\" style=\"display:inline;vertical-align:middle;\" /></a></td></tr>\n",
       "<tr><td>5</td><td>ExprTuple</td><td>6, 7</td><td><a class=\"ProveItLink\" href=\"../3127e0ecabed0ebabf51bdf874c554612896706f0/expr.ipynb\"><img src=\"data:image/png;base64,iVBORw0KGgoAAAANSUhEUgAAAEMAAAAVBAMAAADvM06qAAAAMFBMVEX////c3NwiIiJERESqqqqY\n",
       "mJh2dnZmZmYQEBDu7u4yMjJUVFTMzMyIiIi6uroAAAAs73DqAAAAAXRSTlMAQObYZgAAAP9JREFU\n",
       "KM9jYCAC8F3AJxsHIk6jCB1CMGVBBPsBILESRcl6BPM4mFzAwMCLYg+r/gQ0JWEMDBwTkJWI1Aug\n",
       "KZnBwPAKxZ4L9x+gKWF2YChD8d0E/wA0JWwFDEuRlcxjOH8BTQnLAoY+oMeUQCAByH/AIF+ApoSv\n",
       "geEfVIBnAxDv3r3fAE0JzwcUJXxADy7AVNKCpMSBgYGpAdMiU4QSRqASrg8MDBOQlbAuYEiHaTrA\n",
       "MAsUDD8ZOD+hefoR3GDh/oUMrPa/Cjj7gSFcpKSkoaSkDDT2AQOHAGbyQBYCRgBrAoYSVmROLkZi\n",
       "QFfCCQoEaQwlyMmDG2QpI96EeYeBAQB99D7W42+NogAAAABJRU5ErkJggg==\n",
       "\" style=\"display:inline;vertical-align:middle;\" /></a></td></tr>\n",
       "<tr><td>6</td><td>Operation</td><td>operator:&nbsp;8<br>operand:&nbsp;9<br></td><td><a class=\"ProveItLink\" href=\"../feaa1d0e6d92ad9ead8e5ffd1f92697e3912387a0/expr.ipynb\"><img src=\"data:image/png;base64,iVBORw0KGgoAAAANSUhEUgAAABwAAAAOBAMAAADOPWE3AAAAMFBMVEX///8QEBBERES6urqIiIiq\n",
       "qqrc3Nzu7u6YmJgyMjJUVFTMzMx2dnYiIiJmZmYAAADMbjvTAAAAAXRSTlMAQObYZgAAAGNJREFU\n",
       "CNdjYEAA7gsMyIDzAwq39zsyjy3uGzKXheUzMtec9QcSj92A+wsDw9u7QHAHyGVmYPsHldkFwqtW\n",
       "fULiGjAwSCK4rEDqIoKbCqTmw1zLwD4BSOkXwFyk+DOBoen/PABSrhtHsYt+gAAAAABJRU5ErkJg\n",
       "gg==\n",
       "\" style=\"display:inline;vertical-align:middle;\" /></a></td></tr>\n",
       "<tr><td>7</td><td>Literal</td><td></td><td><a class=\"ProveItLink\" href=\"../../../__pv_it/8f1f7fac882de28c72b62ab80a1700b6d8fd066b0/expr.ipynb\"><img src=\"data:image/png;base64,iVBORw0KGgoAAAANSUhEUgAAAA4AAAAOBAMAAADtZjDiAAAAG1BMVEX///9EREQQEBAiIiJmZmbM\n",
       "zMyIiIjc3NwAAACryk5kAAAAAXRSTlMAQObYZgAAABlJREFUCNdjYGBgKGOAgBBa0s7GxkbGxoYA\n",
       "FMUF2aBfHgoAAAAASUVORK5CYII=\n",
       "\" style=\"display:inline;vertical-align:middle;\" /></a></td></tr>\n",
       "<tr><td>8</td><td>Literal</td><td></td><td><a class=\"ProveItLink\" href=\"../../../negation/__pv_it/7bea79645543c2413aa17e787cca04e21046fde60/expr.ipynb\"><img src=\"data:image/png;base64,iVBORw0KGgoAAAANSUhEUgAAAAwAAAAGBAMAAAAFwGKyAAAAFVBMVEX///9UVFTMzMx2dnYiIiJm\n",
       "ZmYAAACWz4ZEAAAAAXRSTlMAQObYZgAAABRJREFUCNdjCHEBAmcGMFDEQzEBAEl+Ai6uYJv/AAAA\n",
       "AElFTkSuQmCC\n",
       "\" style=\"display:inline;vertical-align:middle;\" /></a></td></tr>\n",
       "<tr><td>9</td><td>Variable</td><td></td><td><a class=\"ProveItLink\" href=\"../../../../../__pv_it/2cbe72a7ad6f655694dd697106680215e8489b600/expr.ipynb\"><img src=\"data:image/png;base64,iVBORw0KGgoAAAANSUhEUgAAAA8AAAAOBAMAAAACpFvcAAAALVBMVEX///8QEBBERERUVFS6urqI\n",
       "iIhmZmaqqqrc3Nzu7u6YmJgyMjIiIiLMzMwAAADtIaYWAAAAAXRSTlMAQObYZgAAAFtJREFUCNdj\n",
       "YACBOwxQsA9Kc52bAGG05zVAGAFxDmCaZULdAjBjCsO9ADDDgaEvAUTzGhvbKYCVMDAwbgAxChgY\n",
       "eASANAeQwf0AyJgNxEwvGRia5HYwcOm9TgAA6BoR3jrzwFcAAAAASUVORK5CYII=\n",
       "\" style=\"display:inline;vertical-align:middle;\" /></a></td></tr>\n",
       "</table>\n"
      ],
      "text/plain": [
       "0. ([not](A) => FALSE) = A\n",
       "   core type: Operation\n",
       "   operator: 1\n",
       "   operands: 2\n",
       "1. =\n",
       "   core type: Literal\n",
       "   sub-expressions: \n",
       "2. ([not](A) => FALSE , A)\n",
       "   core type: ExprTuple\n",
       "   sub-expressions: 3, 9\n",
       "3. [not](A) => FALSE\n",
       "   core type: Operation\n",
       "   operator: 4\n",
       "   operands: 5\n",
       "4. =>\n",
       "   core type: Literal\n",
       "   sub-expressions: \n",
       "5. ([not](A) , FALSE)\n",
       "   core type: ExprTuple\n",
       "   sub-expressions: 6, 7\n",
       "6. [not](A)\n",
       "   core type: Operation\n",
       "   operator: 8\n",
       "   operand: 9\n",
       "7. FALSE\n",
       "   core type: Literal\n",
       "   sub-expressions: \n",
       "8. not\n",
       "   core type: Literal\n",
       "   sub-expressions: \n",
       "9. A\n",
       "   core type: Variable\n",
       "   sub-expressions: "
      ]
     },
     "execution_count": 4,
     "metadata": {},
     "output_type": "execute_result"
    }
   ],
   "source": [
    "# display the expression information\n",
    "expr.exprInfo()"
   ]
  },
  {
   "cell_type": "code",
   "execution_count": null,
   "metadata": {},
   "outputs": [],
   "source": []
  }
 ],
 "metadata": {
  "kernelspec": {
   "display_name": "Python 3",
   "language": "python",
   "name": "python3"
  }
 },
 "nbformat": 4,
 "nbformat_minor": 0
}
