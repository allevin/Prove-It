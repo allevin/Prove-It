{
 "cells": [
  {
   "cell_type": "markdown",
   "metadata": {},
   "source": [
    "Expression of type <a class=\"ProveItLink\" href=\"../../../../../../../doc/html/api/proveit.Lambda.html\">Lambda</a>\n",
    "=======================\n",
    "# from context <a class=\"ProveItLink\" href=\"../../_context_.ipynb\">proveit.logic.boolean.implication</a>"
   ]
  },
  {
   "cell_type": "code",
   "execution_count": 1,
   "metadata": {},
   "outputs": [],
   "source": [
    "# import Expression classes needed to build the expression\n",
    "from proveit import Lambda\n",
    "from proveit._common_ import A\n",
    "from proveit.logic import Booleans, FALSE, Implies, InSet, Not"
   ]
  },
  {
   "cell_type": "code",
   "execution_count": 2,
   "metadata": {},
   "outputs": [
    {
     "data": {
      "text/html": [
       "<strong id=\"expr\">expr:</strong> <a class=\"ProveItLink\" href=\"../27256d2280d740a12e979360fcc1b637822011b70/expr.ipynb\"><img src=\"data:image/png;base64,iVBORw0KGgoAAAANSUhEUgAAAPAAAAAVCAMAAABPApORAAAANlBMVEX///92dnYUFBQNDQ0QEBBE\n",
       "RERUVFS6urqIiIhmZmaqqqrc3Nzu7u6YmJgyMjIiIiLMzMwAAACuIkBbAAAAAXRSTlMAQObYZgAA\n",
       "Aj9JREFUWMPlmNty4yAMhqHLGSHg/V9266RODRIGbz3t7JSbXPi3pC8ISViIu1aI4nctaW81Z91M\n",
       "kb7qsOQv6TngiUmJVWNFlXUgb5q5Y18uRBvpH4j1GnCn54CnJvW2k4AgZf8mLDjGK9vjSYbkCld4\n",
       "ez0DPDf5ABbO9rE7t+I4SVYAS8Ax+Hql7BA9BaYmwWF+X9gBhyRMG6WCFceg+AyAFWAnXL1SBYie\n",
       "AhNJwQT8DkfdVixcc0zP/uNtswBsQYSaDv9S23KI4V7PABNJ1MCmdMmpe+LluHofrUrPF0M3BYb3\n",
       "aEs96Lry2mUc1VNgKtGRO8M516q6CDGNeFur4XNffD6s6mfAW7DxKOuAwcRzPQUmEtDDouVC+0zZ\n",
       "HkKyVq0aTUFoT4GL2VY9eP3zlpulmtNI9QSYSqzajfVFa/tpkphUk70td1bLsO0BKnsC/HymcLjD\n",
       "wthzPQGmEm6WeAELvQTcWR0CF5RwssMfJSmrIbBvMprR98CMBPIysAo8cG/1kNLNGc60PB6BY6Bz\n",
       "URtccW0n5OaoBpiVmDQGfqT0K0qdWGBiNfHtK5jTKg37W/owF7nx7MLqW2BeAtnywMm7bYOh5mG7\n",
       "KaxVvi1FPOvDUauKW8ImXSv6+YQ10n8CDyUR23n/eXnQWZnwHJz2EcrmNcfIjkpd+/tI9mfJ1N98\n",
       "PQwGmyrdTxV7qGppyh2MlkV8y7rjPvw6ukkuuXTiB9etwKfXQ1Ip/lvgw4ZFM5ebn/2o5O79xBOn\n",
       "6er+6az+BQY7HSqKDAL8AAAAAElFTkSuQmCC\n",
       "\" style=\"display:inline;vertical-align:middle;\" /></a><br>"
      ],
      "text/plain": [
       "expr: A -> A | A in BOOLEANS , [not](A) => FALSE"
      ]
     },
     "execution_count": 2,
     "metadata": {},
     "output_type": "execute_result"
    }
   ],
   "source": [
    "# build up the expression from sub-expressions\n",
    "expr = Lambda(A, A, conditions = [InSet(A, Booleans), Implies(Not(A), FALSE)])"
   ]
  },
  {
   "cell_type": "code",
   "execution_count": 3,
   "metadata": {},
   "outputs": [
    {
     "name": "stdout",
     "output_type": "stream",
     "text": [
      "Passed sanity check: built 'expr' is the same as the stored Expression.\n"
     ]
    }
   ],
   "source": [
    "# check that the built expression is the same as the stored expression\n",
    "%check_expr"
   ]
  },
  {
   "cell_type": "code",
   "execution_count": 4,
   "metadata": {},
   "outputs": [
    {
     "data": {
      "text/html": [
       "<table><tr><th>&nbsp;</th><th>core type</th><th>sub-expressions</th><th>expression</th></tr>\n",
       "<tr><td>0</td><td>Lambda</td><td>parameter:&nbsp;12<br>body:&nbsp;12<br>conditions:&nbsp;1<br></td><td><a class=\"ProveItLink\" href=\"../27256d2280d740a12e979360fcc1b637822011b70/expr.ipynb\"><img src=\"data:image/png;base64,iVBORw0KGgoAAAANSUhEUgAAAPAAAAAVCAMAAABPApORAAAANlBMVEX///92dnYUFBQNDQ0QEBBE\n",
       "RERUVFS6urqIiIhmZmaqqqrc3Nzu7u6YmJgyMjIiIiLMzMwAAACuIkBbAAAAAXRSTlMAQObYZgAA\n",
       "Aj9JREFUWMPlmNty4yAMhqHLGSHg/V9266RODRIGbz3t7JSbXPi3pC8ISViIu1aI4nctaW81Z91M\n",
       "kb7qsOQv6TngiUmJVWNFlXUgb5q5Y18uRBvpH4j1GnCn54CnJvW2k4AgZf8mLDjGK9vjSYbkCld4\n",
       "ez0DPDf5ABbO9rE7t+I4SVYAS8Ax+Hql7BA9BaYmwWF+X9gBhyRMG6WCFceg+AyAFWAnXL1SBYie\n",
       "AhNJwQT8DkfdVixcc0zP/uNtswBsQYSaDv9S23KI4V7PABNJ1MCmdMmpe+LluHofrUrPF0M3BYb3\n",
       "aEs96Lry2mUc1VNgKtGRO8M516q6CDGNeFur4XNffD6s6mfAW7DxKOuAwcRzPQUmEtDDouVC+0zZ\n",
       "HkKyVq0aTUFoT4GL2VY9eP3zlpulmtNI9QSYSqzajfVFa/tpkphUk70td1bLsO0BKnsC/HymcLjD\n",
       "wthzPQGmEm6WeAELvQTcWR0CF5RwssMfJSmrIbBvMprR98CMBPIysAo8cG/1kNLNGc60PB6BY6Bz\n",
       "URtccW0n5OaoBpiVmDQGfqT0K0qdWGBiNfHtK5jTKg37W/owF7nx7MLqW2BeAtnywMm7bYOh5mG7\n",
       "KaxVvi1FPOvDUauKW8ImXSv6+YQ10n8CDyUR23n/eXnQWZnwHJz2EcrmNcfIjkpd+/tI9mfJ1N98\n",
       "PQwGmyrdTxV7qGppyh2MlkV8y7rjPvw6ukkuuXTiB9etwKfXQ1Ip/lvgw4ZFM5ebn/2o5O79xBOn\n",
       "6er+6az+BQY7HSqKDAL8AAAAAElFTkSuQmCC\n",
       "\" style=\"display:inline;vertical-align:middle;\" /></a></td></tr>\n",
       "<tr><td>1</td><td>ExprTuple</td><td>2, 3</td><td><a class=\"ProveItLink\" href=\"../91cc07bfe28148903007f8230d7c9bbebff590e10/expr.ipynb\"><img src=\"data:image/png;base64,iVBORw0KGgoAAAANSUhEUgAAAKoAAAAVBAMAAAAkxGgRAAAAMFBMVEX////c3NwiIiJERESqqqqY\n",
       "mJh2dnZmZmYQEBDu7u4yMjJUVFTMzMyIiIi6uroAAAAs73DqAAAAAXRSTlMAQObYZgAAAhJJREFU\n",
       "OMu1lD8sA1Ecx3/U0ZZrmjAxkJtMdGBgYa5BExNTt8YgEUOnChErGhKRDhyJRBd/EosYNEaGdjBZ\n",
       "XA3SmIiJAfd+v7t7f+6cROINvfd73+/vc6+/97sH8D8jUfuDR7N+NqN2S/NrWWo9Gf1YGXKjW0lj\n",
       "1kIgsAnfzrQyLZwohkiiVtrOOkFZkpg1HkjtmAfSdPpz2mDRR9Utk+a6VAC0alkvjqlUW4sSrWsp\n",
       "SZZ7wzAdakvmgsxR6Y1ojS17cbyoUG3tmeLaA9X/ZlrYaz1F82fpX5B1iB/lqUK1tTwpxckMlntE\n",
       "qMD1lLOLvNQPZM3xlTmVmoNDfO5CFWsXSXKq8bXmzA9FqmNNs/mCwcbgvEJNwzo+LejFhS3ptO6c\n",
       "CtieNszPcmtDeFHakqkN+MTo8vIKCQ2W654WpJ7I/OkmnXJrVaDGjiyJWqWMhH3OptzuSI34qa5V\n",
       "pN7MgkJdZY9xgGZslc1A6qpAda0NXldjBNQKDLOTt63xFxa3ZyTqE7X4MKd61hm+1Qm1B2awQ0qM\n",
       "8o4VGhCo2mIK9vrELqpwK++sJtPfWY8AnRv7oI194Ep3wbtd3vrPAXZe7eDRS+PWY14rpxtZm6wY\n",
       "Ropp0aT8/U8cGKYY19kXm/TdI8IX2xGgCddE4MgABHlaQ25lppV/pwZ4SiEpTOsJher46/echeSc\n",
       "efd3+PB59ErIRirwDU79mKMs7uX+AAAAAElFTkSuQmCC\n",
       "\" style=\"display:inline;vertical-align:middle;\" /></a></td></tr>\n",
       "<tr><td>2</td><td>Operation</td><td>operator:&nbsp;4<br>operands:&nbsp;5<br></td><td><a class=\"ProveItLink\" href=\"../../../../../__pv_it/ac467199a39fd6edccd82b9d62abb3b6598ff3180/expr.ipynb\"><img src=\"data:image/png;base64,iVBORw0KGgoAAAANSUhEUgAAADYAAAAPBAMAAABdHiGLAAAAMFBMVEX///92dnYQEBBERERUVFS6\n",
       "urqIiIhmZmaqqqrc3Nzu7u6YmJgyMjIiIiLMzMwAAACFkkdwAAAAAXRSTlMAQObYZgAAANJJREFU\n",
       "GNNjYACBtwwogPG8zR9dCyjnPKocAzNrwpqFAmAm9/0FGHJsAQfAzBn1EyBiy87evQOV49jgBRZK\n",
       "yA8A03ynFyD0RRqAWKwL+jeAhSYvQJj5djOYs5ThfQJYyBJh393/amBWAMP8AhDNZYDslgwQj8/F\n",
       "xR9itu7du3C3MBgEgoQYGJjA7uVzQNLHYMAMZDQwMPAqgM28gC7HCZTj+QAW8kaRA5q5BsT+BRZa\n",
       "G4CQ4y4zYJisf5KB2/4P2KGcxx/AwvrzJQ+0MObwgbgTAgCMvTlc/0QYTQAAAABJRU5ErkJggg==\n",
       "\" style=\"display:inline;vertical-align:middle;\" /></a></td></tr>\n",
       "<tr><td>3</td><td>Operation</td><td>operator:&nbsp;6<br>operands:&nbsp;7<br></td><td><a class=\"ProveItLink\" href=\"../a87cb314a77b2b28d63a43f1f29e83e334a545040/expr.ipynb\"><img src=\"data:image/png;base64,iVBORw0KGgoAAAANSUhEUgAAAFsAAAAVBAMAAADbSo+2AAAAMFBMVEX////c3NwiIiJERESqqqqY\n",
       "mJh2dnZmZmYQEBDu7u4yMjJUVFTMzMyIiIi6uroAAAAs73DqAAAAAXRSTlMAQObYZgAAASNJREFU\n",
       "KM9jYCAR8F1AE2B9gE/5aRTeISCuwaqOEWLsShTB9UDMhVU5TwGI5EVxC6v+BCCRAOdzoivnmICs\n",
       "XKReAKimAc7nmoCm/BWKjRfug/xpggiHDWjKy1BCaYJ/AJBKR4jkoilfiqx8HsN5kFe8QOwiJRDQ\n",
       "L0BV3sfAwA6WAPnvAYM8SPAFkgleD1CU/4PxgK7k2b17vwGQfR5JOeeKB7iU8wEDagGa8lOZKKa3\n",
       "ICl3YGBgaoA5BuJ2JUtUt5silDMClXN9ALKjEIZ7o4UMPNAOMMwCksw/UQKScQGa8kdwvnD/QgZW\n",
       "+19A0XVwMWYBCA0KvCYlJQMGDgGMxISUCHjQ5ZDSEwywXcCT3ldiiMzClz2kMUQ24lPOiG417wHc\n",
       "igFg/0K2AuH1ZwAAAABJRU5ErkJggg==\n",
       "\" style=\"display:inline;vertical-align:middle;\" /></a></td></tr>\n",
       "<tr><td>4</td><td>Literal</td><td></td><td><a class=\"ProveItLink\" href=\"../../../../set_theory/membership/__pv_it/088cbc857536a28d4119ad9639a84270ccb0545d0/expr.ipynb\"><img src=\"data:image/png;base64,iVBORw0KGgoAAAANSUhEUgAAAAwAAAAMBAMAAACkW0HUAAAALVBMVEX///+qqqpmZmZUVFQQEBC6\n",
       "urpERETc3NyYmJjMzMwiIiIyMjKIiIju7u4AAACYsrA9AAAAAXRSTlMAQObYZgAAADxJREFUCNdj\n",
       "YOA9vWrVBgaG2b0MQMCeCyIZ2ArA1DUwyRCyahVIyWQI7xaEYm4AU7xLIdxqTQgtvGvVBgCkcQ7e\n",
       "geM/tQAAAABJRU5ErkJggg==\n",
       "\" style=\"display:inline;vertical-align:middle;\" /></a></td></tr>\n",
       "<tr><td>5</td><td>ExprTuple</td><td>12, 8</td><td><a class=\"ProveItLink\" href=\"../../../../../__pv_it/3ae66a4c9284ffe7952dc6d66b3faebf144bbc0f0/expr.ipynb\"><img src=\"data:image/png;base64,iVBORw0KGgoAAAANSUhEUgAAADMAAAAVBAMAAAAZessyAAAAMFBMVEX////c3NwiIiJERESqqqqY\n",
       "mJh2dnZmZmYQEBDu7u4yMjJUVFTMzMyIiIi6uroAAAAs73DqAAAAAXRSTlMAQObYZgAAAR1JREFU\n",
       "KM9jYMAD+C5gE40DEach7EMQim291a8mEwYG9gNAzkqI2Hqocma+C7OmJTAwLGBg4IWYx6o/AS7F\n",
       "+wAoHsbAwAEREqkXgEuxBOxkYJjBwPAKInLh/gOErocGQNqBoQzizAn+AXCpQ8FAk9gKGJaCBeYx\n",
       "nL8Ak1L63wukWRYw9IEFHjDIFyAMvAI0kK+B4R+Iz7N7934DuBSDwTOg0AeIFB/QpQuQpJjBUi0g\n",
       "vgMDA1MDqhTQQFMglxEoxfWBgWECkoGsCxjSgdxZIKGfDJyfIFKstQZgxz9iYBDuX8jAav+rgLNf\n",
       "ABS8nzW2AJVwPWDgEECKHyQ2MKBYExBcVqQIy0VECpoUJ8gv0gg+Unxzg8xmxJoA7jAwAAA4lUto\n",
       "1aFFcAAAAABJRU5ErkJggg==\n",
       "\" style=\"display:inline;vertical-align:middle;\" /></a></td></tr>\n",
       "<tr><td>6</td><td>Literal</td><td></td><td><a class=\"ProveItLink\" href=\"../e5c030cabcb650938f92dee8256fe11cd12bf9b30/expr.ipynb\"><img src=\"data:image/png;base64,iVBORw0KGgoAAAANSUhEUgAAABMAAAANBAMAAAC5okgUAAAALVBMVEX////c3NxERETMzMwQEBCq\n",
       "qqoiIiJmZmaIiIh2dnZUVFS6uroyMjLu7u4AAACPpZJTAAAAAXRSTlMAQObYZgAAAD1JREFUCNdj\n",
       "YAABXgY44LkAZ3IvQAjPABFlaSCQV4AQjtkAZ/IegbNt5sLUpunC5aPgLMYDcCaTAJzJDCIA2yMN\n",
       "HCCUuIIAAAAASUVORK5CYII=\n",
       "\" style=\"display:inline;vertical-align:middle;\" /></a></td></tr>\n",
       "<tr><td>7</td><td>ExprTuple</td><td>9, 10</td><td><a class=\"ProveItLink\" href=\"../3127e0ecabed0ebabf51bdf874c554612896706f0/expr.ipynb\"><img src=\"data:image/png;base64,iVBORw0KGgoAAAANSUhEUgAAAEMAAAAVBAMAAADvM06qAAAAMFBMVEX////c3NwiIiJERESqqqqY\n",
       "mJh2dnZmZmYQEBDu7u4yMjJUVFTMzMyIiIi6uroAAAAs73DqAAAAAXRSTlMAQObYZgAAAP9JREFU\n",
       "KM9jYCAC8F3AJxsHIk6jCB1CMGVBBPsBILESRcl6BPM4mFzAwMCLYg+r/gQ0JWEMDBwTkJWI1Aug\n",
       "KZnBwPAKxZ4L9x+gKWF2YChD8d0E/wA0JWwFDEuRlcxjOH8BTQnLAoY+oMeUQCAByH/AIF+ApoSv\n",
       "geEfVIBnAxDv3r3fAE0JzwcUJXxADy7AVNKCpMSBgYGpAdMiU4QSRqASrg8MDBOQlbAuYEiHaTrA\n",
       "MAsUDD8ZOD+hefoR3GDh/oUMrPa/Cjj7gSFcpKSkoaSkDDT2AQOHAGbyQBYCRgBrAoYSVmROLkZi\n",
       "QFfCCQoEaQwlyMmDG2QpI96EeYeBAQB99D7W42+NogAAAABJRU5ErkJggg==\n",
       "\" style=\"display:inline;vertical-align:middle;\" /></a></td></tr>\n",
       "<tr><td>8</td><td>Literal</td><td></td><td><a class=\"ProveItLink\" href=\"../../../__pv_it/46271c8230be96415d662709611f4ed2279d702b0/expr.ipynb\"><img src=\"data:image/png;base64,iVBORw0KGgoAAAANSUhEUgAAAA0AAAAOBAMAAAAGUYvhAAAAMFBMVEX///9mZmbMzMzc3NxUVFSY\n",
       "mJju7u6IiIi6urqqqqoiIiIQEBBEREQyMjJ2dnYAAAAQvcRZAAAAAXRSTlMAQObYZgAAAElJREFU\n",
       "CNdjePvn/u01ExgYGA60s117B6YZKngh9FSWBAjfBsxnWnoMRHet/10AkS+fA6F5OB5AaIYDqDRU\n",
       "PLCGgQFoz6ktExgAgLIl8DFvGtkAAAAASUVORK5CYII=\n",
       "\" style=\"display:inline;vertical-align:middle;\" /></a></td></tr>\n",
       "<tr><td>9</td><td>Operation</td><td>operator:&nbsp;11<br>operand:&nbsp;12<br></td><td><a class=\"ProveItLink\" href=\"../../../../../__pv_it/9608d9b0b0e4a43e2cdecb0ebcda3b4ece1b76330/expr.ipynb\"><img src=\"data:image/png;base64,iVBORw0KGgoAAAANSUhEUgAAABwAAAAOBAMAAADOPWE3AAAAMFBMVEX///8QEBBERES6urqIiIiq\n",
       "qqrc3Nzu7u6YmJgyMjJUVFTMzMx2dnYiIiJmZmYAAADMbjvTAAAAAXRSTlMAQObYZgAAAGNJREFU\n",
       "CNdjYEAA7gsMyIDzAwq39zsyjy3uGzKXheUzMtec9QcSj92A+wsDw9u7QHAHyGVmYPsHldkFwqtW\n",
       "fULiGjAwSCK4rEDqIoKbCqTmw1zLwD4BSOkXwFyk+DOBoen/PABSrhtHsYt+gAAAAABJRU5ErkJg\n",
       "gg==\n",
       "\" style=\"display:inline;vertical-align:middle;\" /></a></td></tr>\n",
       "<tr><td>10</td><td>Literal</td><td></td><td><a class=\"ProveItLink\" href=\"../../../__pv_it/8f1f7fac882de28c72b62ab80a1700b6d8fd066b0/expr.ipynb\"><img src=\"data:image/png;base64,iVBORw0KGgoAAAANSUhEUgAAAA4AAAAOBAMAAADtZjDiAAAAG1BMVEX///9EREQQEBAiIiJmZmbM\n",
       "zMyIiIjc3NwAAACryk5kAAAAAXRSTlMAQObYZgAAABlJREFUCNdjYGBgKGOAgBBa0s7GxkbGxoYA\n",
       "FMUF2aBfHgoAAAAASUVORK5CYII=\n",
       "\" style=\"display:inline;vertical-align:middle;\" /></a></td></tr>\n",
       "<tr><td>11</td><td>Literal</td><td></td><td><a class=\"ProveItLink\" href=\"../../../negation/__pv_it/7bea79645543c2413aa17e787cca04e21046fde60/expr.ipynb\"><img src=\"data:image/png;base64,iVBORw0KGgoAAAANSUhEUgAAAAwAAAAGBAMAAAAFwGKyAAAAFVBMVEX///9UVFTMzMx2dnYiIiJm\n",
       "ZmYAAACWz4ZEAAAAAXRSTlMAQObYZgAAABRJREFUCNdjCHEBAmcGMFDEQzEBAEl+Ai6uYJv/AAAA\n",
       "AElFTkSuQmCC\n",
       "\" style=\"display:inline;vertical-align:middle;\" /></a></td></tr>\n",
       "<tr><td>12</td><td>Variable</td><td></td><td><a class=\"ProveItLink\" href=\"../../../../../__pv_it/2cbe72a7ad6f655694dd697106680215e8489b600/expr.ipynb\"><img src=\"data:image/png;base64,iVBORw0KGgoAAAANSUhEUgAAAA8AAAAOBAMAAAACpFvcAAAALVBMVEX///8QEBBERERUVFS6urqI\n",
       "iIhmZmaqqqrc3Nzu7u6YmJgyMjIiIiLMzMwAAADtIaYWAAAAAXRSTlMAQObYZgAAAFtJREFUCNdj\n",
       "YACBOwxQsA9Kc52bAGG05zVAGAFxDmCaZULdAjBjCsO9ADDDgaEvAUTzGhvbKYCVMDAwbgAxChgY\n",
       "eASANAeQwf0AyJgNxEwvGRia5HYwcOm9TgAA6BoR3jrzwFcAAAAASUVORK5CYII=\n",
       "\" style=\"display:inline;vertical-align:middle;\" /></a></td></tr>\n",
       "</table>\n"
      ],
      "text/plain": [
       "0. A -> A | A in BOOLEANS , [not](A) => FALSE\n",
       "   core type: Lambda\n",
       "   parameter: 12\n",
       "   body: 12\n",
       "   conditions: 1\\n1. (A in BOOLEANS , [not](A) => FALSE)\n",
       "   core type: ExprTuple\n",
       "   sub-expressions: 2, 3\n",
       "2. A in BOOLEANS\n",
       "   core type: Operation\n",
       "   operator: 4\n",
       "   operands: 5\n",
       "3. [not](A) => FALSE\n",
       "   core type: Operation\n",
       "   operator: 6\n",
       "   operands: 7\n",
       "4. in\n",
       "   core type: Literal\n",
       "   sub-expressions: \n",
       "5. (A , BOOLEANS)\n",
       "   core type: ExprTuple\n",
       "   sub-expressions: 12, 8\n",
       "6. =>\n",
       "   core type: Literal\n",
       "   sub-expressions: \n",
       "7. ([not](A) , FALSE)\n",
       "   core type: ExprTuple\n",
       "   sub-expressions: 9, 10\n",
       "8. BOOLEANS\n",
       "   core type: Literal\n",
       "   sub-expressions: \n",
       "9. [not](A)\n",
       "   core type: Operation\n",
       "   operator: 11\n",
       "   operand: 12\n",
       "10. FALSE\n",
       "    core type: Literal\n",
       "    sub-expressions: \n",
       "11. not\n",
       "    core type: Literal\n",
       "    sub-expressions: \n",
       "12. A\n",
       "    core type: Variable\n",
       "    sub-expressions: "
      ]
     },
     "execution_count": 4,
     "metadata": {},
     "output_type": "execute_result"
    }
   ],
   "source": [
    "# display the expression information\n",
    "expr.exprInfo()"
   ]
  },
  {
   "cell_type": "code",
   "execution_count": null,
   "metadata": {},
   "outputs": [],
   "source": []
  }
 ],
 "metadata": {
  "kernelspec": {
   "display_name": "Python 3",
   "language": "python",
   "name": "python3"
  }
 },
 "nbformat": 4,
 "nbformat_minor": 0
}
