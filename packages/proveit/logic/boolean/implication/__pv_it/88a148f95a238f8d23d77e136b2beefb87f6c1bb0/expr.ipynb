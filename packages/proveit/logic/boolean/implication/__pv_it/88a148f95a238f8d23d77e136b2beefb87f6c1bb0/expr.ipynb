{
 "cells": [
  {
   "cell_type": "markdown",
   "metadata": {},
   "source": [
    "Expression of type <a class=\"ProveItLink\" href=\"../../../../../../../doc/html/api/proveit.Lambda.html\">Lambda</a>\n",
    "=======================\n",
    "# from context <a class=\"ProveItLink\" href=\"../../_context_.ipynb\">proveit.logic.boolean.implication</a>"
   ]
  },
  {
   "cell_type": "code",
   "execution_count": 1,
   "metadata": {},
   "outputs": [],
   "source": [
    "# import Expression classes needed to build the expression\n",
    "from proveit import Lambda\n",
    "from proveit._common_ import B\n",
    "from proveit.logic import Booleans, Equals, FALSE, Iff, InSet"
   ]
  },
  {
   "cell_type": "code",
   "execution_count": 2,
   "metadata": {},
   "outputs": [
    {
     "data": {
      "text/html": [
       "<strong id=\"expr\">expr:</strong> <a class=\"ProveItLink\" href=\"expr.ipynb\"><img src=\"data:image/png;base64,iVBORw0KGgoAAAANSUhEUgAAARcAAAAVCAMAAABbslpZAAAANlBMVEX///8UFBQNDQ2qqqru7u4i\n",
       "IiJ2dnbc3NyIiIjMzMxmZmYQEBC6uroyMjJERERUVFSYmJgAAAC3B9V0AAAAAXRSTlMAQObYZgAA\n",
       "AnRJREFUWMPVmOl2gyAQhWkZdofl/V+2JtHIDtH0NJ0/5mj0Xj9mBoGQjwkqyL+PRV58gF+KU3z5\n",
       "tLf0LgS3hsVJa8o9fwp5TkSrAZc5UxyDxYCGWVq5KuRFDMbeDzrMgUE4EOlp3VQEh/kyZ8rekhcQ\n",
       "OK+Mn34tQXJFFeR2dDO3S3lGOhPxfMBl0tSdC5FLCfplLoWiDI+e5wOfwgpnpDMRMAMuVVMgka2B\n",
       "ORfqiYM5Lti8VijazSMzMNN08dSQ5CJ5R8i51Ewp9NDIF2Hn8uWZ7FaMHJJH3gi0kFPd59D4HTQ/\n",
       "xSUX4brPpWJKWKjXkWK+cqlmTj1fTODI4VpPUkrNfPQflt4SJyn6jrTGKFxSvJkIxS6Xmikrqv2F\n",
       "sRBMbeopuShj2B4Boa+41RUw1+QC7rBkljP5UogspsulYgpsu+9KOlNHMkGxpJ8AheJeVzIcg/P9\n",
       "xZIwx2wZTnEpRFTocqmYWp5jXfTd24GPuIDJ2Anjeor7tBR3/ixfiDtcn+NSiAy4VEwp18yX9UDs\n",
       "MF/AJScEyp6i2vm4QFtcdFTZhvb6S5xkNi7eXKRfRzVTwC5yWZtaUgSiq7hP2yJgq7+oGKz1J/Kl\n",
       "FPHdvls15XyHy72OYDQfUXdQFn2HW10pEzeltL0ncskEO8ulFOnP01VTwJYGF6/lLV0gsNH3i6Zl\n",
       "Z6gpavtYLSH62cU0iyvG5BVTi5pIvh6MubRMCczWm491o2XG0Udn3Qa9bQ5w/xYaOnw1zDt2Sobr\n",
       "gMYujcN0PsoHbehtAwtA3h2ev+EhXP7K/osnfxh4nTWM9xn+HxfhLj/CiV/hIsmfhriqL1V56pP2\n",
       "MX8AVw4kHFxTKacAAAAASUVORK5CYII=\n",
       "\" style=\"display:inline;vertical-align:middle;\" /></a><br>"
      ],
      "text/plain": [
       "expr: B -> (FALSE = B) | B in BOOLEANS , FALSE <=> B"
      ]
     },
     "execution_count": 2,
     "metadata": {},
     "output_type": "execute_result"
    }
   ],
   "source": [
    "# build up the expression from sub-expressions\n",
    "expr = Lambda(B, Equals(FALSE, B), conditions = [InSet(B, Booleans), Iff(FALSE, B)])"
   ]
  },
  {
   "cell_type": "code",
   "execution_count": 3,
   "metadata": {},
   "outputs": [
    {
     "name": "stdout",
     "output_type": "stream",
     "text": [
      "Passed sanity check: built 'expr' is the same as the stored Expression.\n"
     ]
    }
   ],
   "source": [
    "# check that the built expression is the same as the stored expression\n",
    "%check_expr"
   ]
  },
  {
   "cell_type": "code",
   "execution_count": 4,
   "metadata": {},
   "outputs": [
    {
     "data": {
      "text/html": [
       "<table><tr><th>&nbsp;</th><th>core type</th><th>sub-expressions</th><th>expression</th></tr>\n",
       "<tr><td>0</td><td>Lambda</td><td>parameter:&nbsp;12<br>body:&nbsp;1<br>conditions:&nbsp;2<br></td><td><a class=\"ProveItLink\" href=\"expr.ipynb\"><img src=\"data:image/png;base64,iVBORw0KGgoAAAANSUhEUgAAARcAAAAVCAMAAABbslpZAAAANlBMVEX///8UFBQNDQ2qqqru7u4i\n",
       "IiJ2dnbc3NyIiIjMzMxmZmYQEBC6uroyMjJERERUVFSYmJgAAAC3B9V0AAAAAXRSTlMAQObYZgAA\n",
       "AnRJREFUWMPVmOl2gyAQhWkZdofl/V+2JtHIDtH0NJ0/5mj0Xj9mBoGQjwkqyL+PRV58gF+KU3z5\n",
       "tLf0LgS3hsVJa8o9fwp5TkSrAZc5UxyDxYCGWVq5KuRFDMbeDzrMgUE4EOlp3VQEh/kyZ8rekhcQ\n",
       "OK+Mn34tQXJFFeR2dDO3S3lGOhPxfMBl0tSdC5FLCfplLoWiDI+e5wOfwgpnpDMRMAMuVVMgka2B\n",
       "ORfqiYM5Lti8VijazSMzMNN08dSQ5CJ5R8i51Ewp9NDIF2Hn8uWZ7FaMHJJH3gi0kFPd59D4HTQ/\n",
       "xSUX4brPpWJKWKjXkWK+cqlmTj1fTODI4VpPUkrNfPQflt4SJyn6jrTGKFxSvJkIxS6Xmikrqv2F\n",
       "sRBMbeopuShj2B4Boa+41RUw1+QC7rBkljP5UogspsulYgpsu+9KOlNHMkGxpJ8AheJeVzIcg/P9\n",
       "xZIwx2wZTnEpRFTocqmYWp5jXfTd24GPuIDJ2Anjeor7tBR3/ixfiDtcn+NSiAy4VEwp18yX9UDs\n",
       "MF/AJScEyp6i2vm4QFtcdFTZhvb6S5xkNi7eXKRfRzVTwC5yWZtaUgSiq7hP2yJgq7+oGKz1J/Kl\n",
       "FPHdvls15XyHy72OYDQfUXdQFn2HW10pEzeltL0ncskEO8ulFOnP01VTwJYGF6/lLV0gsNH3i6Zl\n",
       "Z6gpavtYLSH62cU0iyvG5BVTi5pIvh6MubRMCczWm491o2XG0Udn3Qa9bQ5w/xYaOnw1zDt2Sobr\n",
       "gMYujcN0PsoHbehtAwtA3h2ev+EhXP7K/osnfxh4nTWM9xn+HxfhLj/CiV/hIsmfhriqL1V56pP2\n",
       "MX8AVw4kHFxTKacAAAAASUVORK5CYII=\n",
       "\" style=\"display:inline;vertical-align:middle;\" /></a></td></tr>\n",
       "<tr><td>1</td><td>Operation</td><td>operator:&nbsp;3<br>operands:&nbsp;9<br></td><td><a class=\"ProveItLink\" href=\"../0c5a81d29ed0744290746d8837af20303cfd707f0/expr.ipynb\"><img src=\"data:image/png;base64,iVBORw0KGgoAAAANSUhEUgAAADsAAAAOBAMAAABjvHmeAAAAMFBMVEX///+qqqru7u52dna6urqY\n",
       "mJhUVFQyMjJEREQQEBAiIiJmZmbMzMyIiIjc3NwAAABlsgL7AAAAAXRSTlMAQObYZgAAAJBJREFU\n",
       "GNNjYGBgeMuACVjzv6VllICZp7FIM3A2MDDsd8Apff4CECfglL7/gIEh3gCndCcQr1TAKf2NgeF5\n",
       "E4rTtpeDQBmYzfPt7u2lDDhdzvuPgUErAac0xwSgkq84pfmBOlk/o0jvWgUCKyDeDmBgYPuIUzfI\n",
       "2+8LcEoDvc0zXQFs4kqYiQiw439aWjnQfABM7TYZts+yUAAAAABJRU5ErkJggg==\n",
       "\" style=\"display:inline;vertical-align:middle;\" /></a></td></tr>\n",
       "<tr><td>2</td><td>ExprTuple</td><td>4, 5</td><td><a class=\"ProveItLink\" href=\"../239d433ae26d968f90febed818e736ec3227068b0/expr.ipynb\"><img src=\"data:image/png;base64,iVBORw0KGgoAAAANSUhEUgAAAI8AAAAVBAMAAACNsKCFAAAAMFBMVEX////c3NwiIiJERESqqqqY\n",
       "mJh2dnZmZmYQEBDu7u4yMjJUVFTMzMyIiIi6uroAAAAs73DqAAAAAXRSTlMAQObYZgAAAe5JREFU\n",
       "OMtjYKAa4LtAuRlxIOI0EEf/373b6gGKHNt6q19NJnAuI3broBrZDwDZK0ECzQwM7P9Q1TDzXZg1\n",
       "LQHG4ynA7haoxgUMDLwgq3j+AvFvDIN4HywgYBBMYxgDA8cEIJ/3IwMD6zewFOctJaUFUINYAnZi\n",
       "MWgBEg+mcQYDwyuwpgYGBqZOsNSpSCQXPTTANAjsBUOYIqhGZgeGMhCffwMD4+IJ4EC1RPLaoeAJ\n",
       "mAadAhFSUA5MI1sBw1IQ//zeu0UBEO0CCIOU/vcyYBjE06EEBPorITyYRpYFDH0g/n0BBk5tsMxk\n",
       "lMC+gum1WxBHvoIkFphGvgYGcKRbgMTATnoBsg8W2AwGz9ANmgE1mrGbAVkjzweIQaCYj0+AJU+4\n",
       "ixgMmNEN4twOoaUgCRSmEWhQC0jVVyCx3wEkM4mAQQwsSmCgCBGFaQR6zRSaGhh/gaW4A1AMesbA\n",
       "iR5r3mD7BODJCKyRdQFDOjQ1nIDEA6cekkGstQYM8xXQDGIHuXwfIhmBNQKj/xFQyv737l1Loeqk\n",
       "auCZ9rPGFmDoAi1lB/qlSUkJEs6cwKhghDARGrkeMHAIoGUf70VKC5D5D9HzFzCnc05AEwNmEdYE\n",
       "AmVNADEFUi6sGKHQIJB3GaTxq+ElxkHcArjLPpLAHQYGAECQlOPi0xlKAAAAAElFTkSuQmCC\n",
       "\" style=\"display:inline;vertical-align:middle;\" /></a></td></tr>\n",
       "<tr><td>3</td><td>Literal</td><td></td><td><a class=\"ProveItLink\" href=\"../../../../equality/__pv_it/2fb26078095930560931daa0500ce419a39ea6cd0/expr.ipynb\"><img src=\"data:image/png;base64,iVBORw0KGgoAAAANSUhEUgAAAA4AAAAFBAMAAACHocAhAAAAFVBMVEX///9EREQiIiJUVFQyMjJm\n",
       "ZmYAAADubVkoAAAAAXRSTlMAQObYZgAAABRJREFUCNdjCHEBAWcGXCBICQQUAUpuAwlgGKrkAAAA\n",
       "AElFTkSuQmCC\n",
       "\" style=\"display:inline;vertical-align:middle;\" /></a></td></tr>\n",
       "<tr><td>4</td><td>Operation</td><td>operator:&nbsp;6<br>operands:&nbsp;7<br></td><td><a class=\"ProveItLink\" href=\"../41a86ef0ff9417c73c472e1bdfa161b308e2753e0/expr.ipynb\"><img src=\"data:image/png;base64,iVBORw0KGgoAAAANSUhEUgAAADcAAAAPBAMAAACy3Eq1AAAAMFBMVEX///+qqqru7u4iIiJ2dnbc\n",
       "3NyIiIjMzMxmZmYQEBC6uroyMjJERERUVFSYmJgAAADLUcuvAAAAAXRSTlMAQObYZgAAAOZJREFU\n",
       "GNNjYGB4+//u3dMLGJCB95/9O20EwMw5DAwcv1AkGQ4sY9rkAmKwfwPiv+iSDFncIAbbVwYGvi9g\n",
       "MbXNxtYwSTleBSCDZwIDA/MksBn7FJB0xoAY/BcYWPeARWMUEMay2x0CMeqvpTU/AAsdRdi52P5n\n",
       "AoiRH8DAZAtiMB1AdlCaDIhxEqQApJVrsrExwkE8XA5ABsgX70EM9gvIOnkYgAax/wNy7oOCg8kA\n",
       "QxLkTdbfYKF7KJIgY0HerNwEFlJegCT5IgcYquf/3r29DyLEuqMAHvCH5wqghigD422oayEAAEv1\n",
       "Sz0foy5uAAAAAElFTkSuQmCC\n",
       "\" style=\"display:inline;vertical-align:middle;\" /></a></td></tr>\n",
       "<tr><td>5</td><td>Operation</td><td>operator:&nbsp;8<br>operands:&nbsp;9<br></td><td><a class=\"ProveItLink\" href=\"../c4acb0f010fe4368ae11d402d6ed8461e28a5c840/expr.ipynb\"><img src=\"data:image/png;base64,iVBORw0KGgoAAAANSUhEUgAAAEAAAAAPBAMAAACmSdRUAAAAMFBMVEX///92dnaYmJiqqqpUVFS6\n",
       "urru7u4yMjJEREQQEBAiIiJmZmbMzMyIiIjc3NwAAACFNIopAAAAAXRSTlMAQObYZgAAANJJREFU\n",
       "GNNjYGBgeMuAFaj8d3FpDwCxTmNXwDCDgYH7Kx4FPH+B+AuqAnZkHu8/Bgamj6gK7gIxxwMoh2MC\n",
       "AwPXNBQFPAVAgq8AyuN3YOCrSEBRcHLWKiD4ngDhnfe9u0uBAVkBbxmYYi2FcO8/YGBbgqyAbQZU\n",
       "4UsHMNUJUqSAbELKBjDFVwvhgnyoL4DiBqtVYADxBs8nIOFvgKKAGWQ22zpEMPB9Z0ANh81AzBKA\n",
       "CIaTQGfvWrVq5apVKyCC6UD8AsLk7v/i4l6EEfxAnIYqBABzzD/ECDea6AAAAABJRU5ErkJggg==\n",
       "\" style=\"display:inline;vertical-align:middle;\" /></a></td></tr>\n",
       "<tr><td>6</td><td>Literal</td><td></td><td><a class=\"ProveItLink\" href=\"../../../../set_theory/membership/__pv_it/088cbc857536a28d4119ad9639a84270ccb0545d0/expr.ipynb\"><img src=\"data:image/png;base64,iVBORw0KGgoAAAANSUhEUgAAAAwAAAAMBAMAAACkW0HUAAAALVBMVEX///+qqqpmZmZUVFQQEBC6\n",
       "urpERETc3NyYmJjMzMwiIiIyMjKIiIju7u4AAACYsrA9AAAAAXRSTlMAQObYZgAAADxJREFUCNdj\n",
       "YOA9vWrVBgaG2b0MQMCeCyIZ2ArA1DUwyRCyahVIyWQI7xaEYm4AU7xLIdxqTQgtvGvVBgCkcQ7e\n",
       "geM/tQAAAABJRU5ErkJggg==\n",
       "\" style=\"display:inline;vertical-align:middle;\" /></a></td></tr>\n",
       "<tr><td>7</td><td>ExprTuple</td><td>12, 10</td><td><a class=\"ProveItLink\" href=\"../46fef8cd01e90537d7ca36d1ba2c809996ed4b3a0/expr.ipynb\"><img src=\"data:image/png;base64,iVBORw0KGgoAAAANSUhEUgAAADQAAAAVBAMAAAD7ptBLAAAAMFBMVEX////c3NwiIiJERESqqqqY\n",
       "mJh2dnZmZmYQEBDu7u4yMjJUVFTMzMyIiIi6uroAAAAs73DqAAAAAXRSTlMAQObYZgAAASVJREFU\n",
       "KM9jYMAD+C5gE2V9ACROA3H0/927rR6AxbI+r1+h7MDAUANkrwQJNDMwsP+DqDd4y7kyjYGBi4GB\n",
       "F2Qez18g/g2TYrgHFGdNYOCYAOTyfgSyv8GlXLknMHA2MLwCcZkbGBiYOhG6hIG0CUMZiMu/gYFx\n",
       "8QSYFI+qJZBOZ1gK4p7fe7coAOpsg0f6P0D2ezH0gbj3BRg4tRngBt51BtIvGMBOtgBJB8ClmPkS\n",
       "gCZBpEDujk9ASDEYgKRaQN76CiT2O6BKvWAwhXqL8RcDAyeygVFAN0K8dQIYYPMVIFLhl8GOfwQM\n",
       "Pfvfu3eBPDHjIzh4jbpBZq9j4BBAioqHCCYwoFgTkKQCEEy2C9BIwZSaBcTSCC4vkqqNQMyINQHw\n",
       "HmAAAHCOVkQeB6BvAAAAAElFTkSuQmCC\n",
       "\" style=\"display:inline;vertical-align:middle;\" /></a></td></tr>\n",
       "<tr><td>8</td><td>Literal</td><td></td><td><a class=\"ProveItLink\" href=\"../9817cf888369307f52607b98db5e99fdc17b089e0/expr.ipynb\"><img src=\"data:image/png;base64,iVBORw0KGgoAAAANSUhEUgAAABQAAAANBAMAAABbflNtAAAAKlBMVEX///+qqqpUVFS6urru7u4i\n",
       "IiIQEBDc3NxERESIiIhmZmbMzMwyMjIAAAAneYQxAAAAAXRSTlMAQObYZgAAAFpJREFUCNdjYEAB\n",
       "BxgYuBeAWZwTgEQ7mLkHRNSACO60UCCIPQJkznEAy9kYMLg1QPSyJzGwaEGYNUDNjKFgEA7iC4EI\n",
       "1wIQySUAJJTBqliAtrFDNW8AcoEmAgB4jw/0RzyxkgAAAABJRU5ErkJggg==\n",
       "\" style=\"display:inline;vertical-align:middle;\" /></a></td></tr>\n",
       "<tr><td>9</td><td>ExprTuple</td><td>11, 12</td><td><a class=\"ProveItLink\" href=\"../32fa11e0d460a97a7d19a4fd36e0b53258163d570/expr.ipynb\"><img src=\"data:image/png;base64,iVBORw0KGgoAAAANSUhEUgAAADYAAAAVBAMAAAD/UwB2AAAAMFBMVEX////c3NwiIiJERESqqqqY\n",
       "mJh2dnZmZmYQEBDu7u4yMjJUVFTMzMyIiIi6uroAAAAs73DqAAAAAXRSTlMAQObYZgAAAPtJREFU\n",
       "KM9jYMAH+C5gFWZ9ACROg1iMCAWs+3/v3ryOgaEGyF4JEuApQOjgMGBgqH/AwMXAwHsBXe48UOT8\n",
       "BgbWBAaOCehy9wUYGOITGDgbGF4xoMtZALEGUIcJQxmG3G8GBilLIJ3OsBRdjuf33euqIIYXQx+6\n",
       "HO9HBoZJG4CMFwz/0OWYG4DyX0HuxZTjB+ph/QaWa0GXOx/AwMD9BWymKZLcBJj35BcAGVFAl8Ll\n",
       "OD9BvcfTNQHsh0cMDOxKSkpNSkoGnP1ALcX/d+9eFQBStI6BQwApupDYoDADBikiepAjkO0CNI6w\n",
       "yM0CYmkEFyUFbESNcmTAe4ABAJ4xQRO/+5dLAAAAAElFTkSuQmCC\n",
       "\" style=\"display:inline;vertical-align:middle;\" /></a></td></tr>\n",
       "<tr><td>10</td><td>Literal</td><td></td><td><a class=\"ProveItLink\" href=\"../../../__pv_it/46271c8230be96415d662709611f4ed2279d702b0/expr.ipynb\"><img src=\"data:image/png;base64,iVBORw0KGgoAAAANSUhEUgAAAA0AAAAOBAMAAAAGUYvhAAAAMFBMVEX///9mZmbMzMzc3NxUVFSY\n",
       "mJju7u6IiIi6urqqqqoiIiIQEBBEREQyMjJ2dnYAAAAQvcRZAAAAAXRSTlMAQObYZgAAAElJREFU\n",
       "CNdjePvn/u01ExgYGA60s117B6YZKngh9FSWBAjfBsxnWnoMRHet/10AkS+fA6F5OB5AaIYDqDRU\n",
       "PLCGgQFoz6ktExgAgLIl8DFvGtkAAAAASUVORK5CYII=\n",
       "\" style=\"display:inline;vertical-align:middle;\" /></a></td></tr>\n",
       "<tr><td>11</td><td>Literal</td><td></td><td><a class=\"ProveItLink\" href=\"../../../__pv_it/8f1f7fac882de28c72b62ab80a1700b6d8fd066b0/expr.ipynb\"><img src=\"data:image/png;base64,iVBORw0KGgoAAAANSUhEUgAAAA4AAAAOBAMAAADtZjDiAAAAG1BMVEX///9EREQQEBAiIiJmZmbM\n",
       "zMyIiIjc3NwAAACryk5kAAAAAXRSTlMAQObYZgAAABlJREFUCNdjYGBgKGOAgBBa0s7GxkbGxoYA\n",
       "FMUF2aBfHgoAAAAASUVORK5CYII=\n",
       "\" style=\"display:inline;vertical-align:middle;\" /></a></td></tr>\n",
       "<tr><td>12</td><td>Variable</td><td></td><td><a class=\"ProveItLink\" href=\"../../../../../__pv_it/077b2ff79244fb4582cbe22c6e3356fa92a52f2f0/expr.ipynb\"><img src=\"data:image/png;base64,iVBORw0KGgoAAAANSUhEUgAAABAAAAAOBAMAAADUAYG5AAAAMFBMVEX///+qqqru7u4iIiJ2dnbc\n",
       "3NyIiIjMzMxmZmYQEBC6uroyMjJERERUVFSYmJgAAADLUcuvAAAAAXRSTlMAQObYZgAAAGpJREFU\n",
       "CNdjYGB4+//u3dMLGIBgDgMDxy8gzf4NiP8CGWxfGRj4vgAZPBMYGJgnARn8FxhY9ygAGfXX0pof\n",
       "gDTlBzAw2YIYJ0EckBBI53sHoBH/gIz7AhBjWH9DjancBLTl/N+7t/cxMAAA3u4f/5xagjYAAAAA\n",
       "SUVORK5CYII=\n",
       "\" style=\"display:inline;vertical-align:middle;\" /></a></td></tr>\n",
       "</table>\n"
      ],
      "text/plain": [
       "0. B -> (FALSE = B) | B in BOOLEANS , FALSE <=> B\n",
       "   core type: Lambda\n",
       "   parameter: 12\n",
       "   body: 1\n",
       "   conditions: 2\\n1. FALSE = B\n",
       "   core type: Operation\n",
       "   operator: 3\n",
       "   operands: 9\n",
       "2. (B in BOOLEANS , FALSE <=> B)\n",
       "   core type: ExprTuple\n",
       "   sub-expressions: 4, 5\n",
       "3. =\n",
       "   core type: Literal\n",
       "   sub-expressions: \n",
       "4. B in BOOLEANS\n",
       "   core type: Operation\n",
       "   operator: 6\n",
       "   operands: 7\n",
       "5. FALSE <=> B\n",
       "   core type: Operation\n",
       "   operator: 8\n",
       "   operands: 9\n",
       "6. in\n",
       "   core type: Literal\n",
       "   sub-expressions: \n",
       "7. (B , BOOLEANS)\n",
       "   core type: ExprTuple\n",
       "   sub-expressions: 12, 10\n",
       "8. <=>\n",
       "   core type: Literal\n",
       "   sub-expressions: \n",
       "9. (FALSE , B)\n",
       "   core type: ExprTuple\n",
       "   sub-expressions: 11, 12\n",
       "10. BOOLEANS\n",
       "    core type: Literal\n",
       "    sub-expressions: \n",
       "11. FALSE\n",
       "    core type: Literal\n",
       "    sub-expressions: \n",
       "12. B\n",
       "    core type: Variable\n",
       "    sub-expressions: "
      ]
     },
     "execution_count": 4,
     "metadata": {},
     "output_type": "execute_result"
    }
   ],
   "source": [
    "# display the expression information\n",
    "expr.exprInfo()"
   ]
  },
  {
   "cell_type": "code",
   "execution_count": null,
   "metadata": {},
   "outputs": [],
   "source": []
  }
 ],
 "metadata": {
  "kernelspec": {
   "display_name": "Python 3",
   "language": "python",
   "name": "python3"
  }
 },
 "nbformat": 4,
 "nbformat_minor": 0
}
