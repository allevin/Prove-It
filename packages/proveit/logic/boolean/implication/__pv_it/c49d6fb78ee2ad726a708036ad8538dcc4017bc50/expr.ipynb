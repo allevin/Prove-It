{
 "cells": [
  {
   "cell_type": "markdown",
   "metadata": {},
   "source": [
    "Expression of type <a class=\"ProveItLink\" href=\"../../../../../../../doc/html/api/proveit.logic.Not.html\">Not</a>\n",
    "=======================\n",
    "# from context <a class=\"ProveItLink\" href=\"../../_context_.ipynb\">proveit.logic.boolean.implication</a>"
   ]
  },
  {
   "cell_type": "code",
   "execution_count": 1,
   "metadata": {},
   "outputs": [],
   "source": [
    "# import Expression classes needed to build the expression\n",
    "from proveit import Variable\n",
    "from proveit._common_ import A, B\n",
    "from proveit.logic import And, Implies, Not"
   ]
  },
  {
   "cell_type": "code",
   "execution_count": 2,
   "metadata": {},
   "outputs": [
    {
     "data": {
      "text/html": [
       "<strong id=\"expr\">expr:</strong> <a class=\"ProveItLink\" href=\"expr.ipynb\"><img src=\"data:image/png;base64,iVBORw0KGgoAAAANSUhEUgAAAK4AAAAVBAMAAAAtL8hrAAAAMFBMVEX////c3NxERESqqqqYmJgQ\n",
       "EBDu7u4yMjKIiIi6urpUVFTMzMx2dnYiIiJmZmYAAABjE816AAAAAXRSTlMAQObYZgAAAlNJREFU\n",
       "OMtjYKA54GwgrGYGYSWeDAwsE5AFdhHWw70ASHj9X7VKfQJ2+QsMDHwbGBheIwuW4TaPMQFCs4Pp\n",
       "IKDmn1jVsX8AEgVAGkmMA08wsD+A0B1gR/0A4l9wuQQkdb7fgIQPMCAOIMRYE3Cbu+kahA4DO+Aj\n",
       "UOMfbN5ktANKMaQyMLAFIASn4wnXlR2QmC0AkUxATbxhcLlZSF7mAAUPkwEDgzJC8A2SvScWWrxA\n",
       "MpatgBdM84G9x7+AgbEI4TkeRPhNY/4CEgAG2jmE5hIEM4fB1yEWyVweBz4DcDA7gMj9Kzreghl8\n",
       "d8HgH9z6CaCgZ2AG+sqc4S1I6g6QG4kw5wBDP4M1krm8DIzgEGAFp65+AQa2W0iyzJWwDMDACLKD\n",
       "ExhOUxFJFynlJDAsQgleDwaG1eAQAJurCjLbAUk6HeqkXatWfQKlF2Bi24/VXAaGCBRzr0EzDcRc\n",
       "UBLzR0pI3DXQwAbKhmOaG4ycD34zsCF5FBgR7AKgcACFMjcobtYbIML3EtRYZiC+ihkOKgiDHDk+\n",
       "MLQh5QoBiNkMTA7Q5Mv4HcnWBVCGMBDXAzELMC7coV5hQE4azF+YAhiRct8mEHEBmoLAyXcrUmYQ\n",
       "hydGIKGfgJHO5gINVAICNQY2jWNnWhgYjEA8kB9XwrIwJ6hY0f+1ajlSmmRQhAad6ncBBqf/dUDv\n",
       "AcO5EikfC+DKbRMgiQgIArHIbkAXQMvHyGUFLuBDTDl+AiUP4i0n4TGYQFgNKJzTkQWkCOthXEBY\n",
       "DRcwPBeiaCKiHpIgrKQbmBQ3MAAA2lCOiQvoB3sAAAAASUVORK5CYII=\n",
       "\" style=\"display:inline;vertical-align:middle;\" /></a><br>"
      ],
      "text/plain": [
       "expr: [not](_x_ and (B => A))"
      ]
     },
     "execution_count": 2,
     "metadata": {},
     "output_type": "execute_result"
    }
   ],
   "source": [
    "# build up the expression from sub-expressions\n",
    "expr = Not(And(Variable(\"_x_\", latexFormat = r\"{_{-}x_{-}}\"), Implies(B, A)))"
   ]
  },
  {
   "cell_type": "code",
   "execution_count": 3,
   "metadata": {},
   "outputs": [
    {
     "name": "stdout",
     "output_type": "stream",
     "text": [
      "Passed sanity check: built 'expr' is the same as the stored Expression.\n"
     ]
    }
   ],
   "source": [
    "# check that the built expression is the same as the stored expression\n",
    "%check_expr"
   ]
  },
  {
   "cell_type": "code",
   "execution_count": 4,
   "metadata": {},
   "outputs": [
    {
     "data": {
      "text/html": [
       "<table><tr><th>&nbsp;</th><th>core type</th><th>sub-expressions</th><th>expression</th></tr>\n",
       "<tr><td>0</td><td>Operation</td><td>operator:&nbsp;1<br>operand:&nbsp;2<br></td><td><a class=\"ProveItLink\" href=\"expr.ipynb\"><img src=\"data:image/png;base64,iVBORw0KGgoAAAANSUhEUgAAAK4AAAAVBAMAAAAtL8hrAAAAMFBMVEX////c3NxERESqqqqYmJgQ\n",
       "EBDu7u4yMjKIiIi6urpUVFTMzMx2dnYiIiJmZmYAAABjE816AAAAAXRSTlMAQObYZgAAAlNJREFU\n",
       "OMtjYKA54GwgrGYGYSWeDAwsE5AFdhHWw70ASHj9X7VKfQJ2+QsMDHwbGBheIwuW4TaPMQFCs4Pp\n",
       "IKDmn1jVsX8AEgVAGkmMA08wsD+A0B1gR/0A4l9wuQQkdb7fgIQPMCAOIMRYE3Cbu+kahA4DO+Aj\n",
       "UOMfbN5ktANKMaQyMLAFIASn4wnXlR2QmC0AkUxATbxhcLlZSF7mAAUPkwEDgzJC8A2SvScWWrxA\n",
       "MpatgBdM84G9x7+AgbEI4TkeRPhNY/4CEgAG2jmE5hIEM4fB1yEWyVweBz4DcDA7gMj9Kzreghl8\n",
       "d8HgH9z6CaCgZ2AG+sqc4S1I6g6QG4kw5wBDP4M1krm8DIzgEGAFp65+AQa2W0iyzJWwDMDACLKD\n",
       "ExhOUxFJFynlJDAsQgleDwaG1eAQAJurCjLbAUk6HeqkXatWfQKlF2Bi24/VXAaGCBRzr0EzDcRc\n",
       "UBLzR0pI3DXQwAbKhmOaG4ycD34zsCF5FBgR7AKgcACFMjcobtYbIML3EtRYZiC+ihkOKgiDHDk+\n",
       "MLQh5QoBiNkMTA7Q5Mv4HcnWBVCGMBDXAzELMC7coV5hQE4azF+YAhiRct8mEHEBmoLAyXcrUmYQ\n",
       "hydGIKGfgJHO5gINVAICNQY2jWNnWhgYjEA8kB9XwrIwJ6hY0f+1ajlSmmRQhAad6ncBBqf/dUDv\n",
       "AcO5EikfC+DKbRMgiQgIArHIbkAXQMvHyGUFLuBDTDl+AiUP4i0n4TGYQFgNKJzTkQWkCOthXEBY\n",
       "DRcwPBeiaCKiHpIgrKQbmBQ3MAAA2lCOiQvoB3sAAAAASUVORK5CYII=\n",
       "\" style=\"display:inline;vertical-align:middle;\" /></a></td></tr>\n",
       "<tr><td>1</td><td>Literal</td><td></td><td><a class=\"ProveItLink\" href=\"../../../negation/__pv_it/7bea79645543c2413aa17e787cca04e21046fde60/expr.ipynb\"><img src=\"data:image/png;base64,iVBORw0KGgoAAAANSUhEUgAAAAwAAAAGBAMAAAAFwGKyAAAAFVBMVEX///9UVFTMzMx2dnYiIiJm\n",
       "ZmYAAACWz4ZEAAAAAXRSTlMAQObYZgAAABRJREFUCNdjCHEBAmcGMFDEQzEBAEl+Ai6uYJv/AAAA\n",
       "AElFTkSuQmCC\n",
       "\" style=\"display:inline;vertical-align:middle;\" /></a></td></tr>\n",
       "<tr><td>2</td><td>Operation</td><td>operator:&nbsp;3<br>operands:&nbsp;4<br></td><td><a class=\"ProveItLink\" href=\"../cc4a85fadaff8f3da9d40d1d439fb611c029db8e0/expr.ipynb\"><img src=\"data:image/png;base64,iVBORw0KGgoAAAANSUhEUgAAAI0AAAAVBAMAAACJRXC4AAAAMFBMVEX///+6uroyMjLMzMwQEBAi\n",
       "IiKYmJhmZmZUVFSIiIh2dnbc3Nzu7u5ERESqqqoAAABZrPngAAAAAXRSTlMAQObYZgAAAeNJREFU\n",
       "OMtjYKAXYJxAUEkiMeZYAHHG/46OSwJYpZkDGBjYDXBr5z4AZeiACF+g4o9Y1TF9ABIKuM1hKoDQ\n",
       "nCBvMf8E4h9wuQNI6lL/AIks3ObYxkBoFpAmzt8MDGy/4HI6SM5+DpRiOILbnMaZEFoIRPA6MDCw\n",
       "+sDlJBDKODlB3uV9ADd3ZffLSiRjeBRYIYwqEMHfwMCti/ANFyIKZfi+gQQKYPxTDKkJrkjmcCWw\n",
       "Q+xQAxH2nTNLE0AM9lAw+A63TgAUdAx88IBewDCf4TGSOawM3BA5RxAxfwMDTwSSLJ8iLHExcIPM\n",
       "ZHRAREEvSvBkMjA0gxng2L4CMisBSfqQIzRxdXT8BcXnB4SUJ4o5MZAECDUHFOX5C5ASnxY0sIBp\n",
       "0wnVHO7PDDxIDgcGHNMGEMsPpAwUlv0PEOETCzWGD4hDUPyVzfmBYQ5SKtwAMYuB4Ro0+XB/QrKl\n",
       "AcrYB8T6QMwGC2e+b7wO3EgZ0hZEBICI5dDkY4KU+DbBEweQuH8AHO9v7wLBAZ6ba1ZNY4ByQKkQ\n",
       "pAycEkWBnrn/o6NJDSnwbkOD4sqnDQy5/9WBzhfAkZoFIJEKyhcbMGUxsvcRwsUG2wIiypaVRKjR\n",
       "IayER4EIc3YQVsKxgQhzuAmXq5MZGAAv63Er31WRAwAAAABJRU5ErkJggg==\n",
       "\" style=\"display:inline;vertical-align:middle;\" /></a></td></tr>\n",
       "<tr><td>3</td><td>Literal</td><td></td><td><a class=\"ProveItLink\" href=\"../../../conjunction/__pv_it/76b5f4f4c45c0b6a9b59b297fc07dfa9555698f50/expr.ipynb\"><img src=\"data:image/png;base64,iVBORw0KGgoAAAANSUhEUgAAAAwAAAAOBAMAAADpk+DfAAAALVBMVEX///+qqqqYmJh2dnaIiIi6\n",
       "urpUVFQiIiJERETMzMxmZmYyMjLu7u7c3NwAAABvwqPxAAAAAXRSTlMAQObYZgAAAEtJREFUCNdj\n",
       "YGDgPcAAAtwLwNSMGjCV6gIieTawgyhmBS4BIMXOwLsBSKkwMGQCKaC6aQwMjEBd3BdACMScAVJd\n",
       "wJAKolwYAkAUKwAk0guX6efcigAAAABJRU5ErkJggg==\n",
       "\" style=\"display:inline;vertical-align:middle;\" /></a></td></tr>\n",
       "<tr><td>4</td><td>ExprTuple</td><td>5, 6</td><td><a class=\"ProveItLink\" href=\"../0c4c0f6bee7244bc92242b571d13fa2bec7aefc10/expr.ipynb\"><img src=\"data:image/png;base64,iVBORw0KGgoAAAANSUhEUgAAAH4AAAAVBAMAAAByPkciAAAAMFBMVEX////c3NwiIiJERESqqqqY\n",
       "mJh2dnZmZmYQEBDu7u4yMjJUVFTMzMyIiIi6uroAAAAs73DqAAAAAXRSTlMAQObYZgAAAa1JREFU\n",
       "OMtjYKAU8F0gWyvrAyBxGp+C/b93b16HXe4QENcA8Up8NnAYMDDUP8AqtR6IuRgYePE6/zxQ9vwG\n",
       "GI8T2Wn6E4BEAgPHBHz67wswMMQnwHhcSGpF6oFSnA0Mr/CGkAUQa8B18W1AyFy4D/KWCUMZQkjs\n",
       "tsh1NN/8ZmCQskRwcxGxNsE/AEilMyyFC3EmsKpyKKBo5/l997oqmFWkBAL6BTCZeeCgYfBi6IMr\n",
       "ZmPg/cByAEU/70cGhklIjmbwgsXFAwZ5kFkvGP4h7GfgNkDzPnMD0IyvSAKcKyAG8OzevR+k+DyS\n",
       "fmBso8clP9Bu1m9IAqcyod4HKl4A1t+CJCt/gAE1Ns8Dw4j7C8L/SrCwdGBgYGoAu98UkSIE7jPw\n",
       "wvVPgEW//AKEed5QmhGon+sDkBEFjAEY8A+wYJCFe/QTNPp5uhBOYoQZNQsUNj/B8feIgYHFGAgs\n",
       "GSZfm5YbAONw9gOtLv6/e/eqAKTgFIDQwv0LGVjtfwEjYB0DhwCObI1FnAddAJh+WRNwZF1iCgC2\n",
       "CzjzL1H6QeEgjV2KqFJpIyhQyS+/eA8wAADzHGYPcCiRNgAAAABJRU5ErkJggg==\n",
       "\" style=\"display:inline;vertical-align:middle;\" /></a></td></tr>\n",
       "<tr><td>5</td><td>Variable</td><td></td><td><a class=\"ProveItLink\" href=\"../5144cf74ae6a683b49b974f1b9302b432abf7e930/expr.ipynb\"><img src=\"data:image/png;base64,iVBORw0KGgoAAAANSUhEUgAAACUAAAAJBAMAAABH3vh9AAAAKlBMVEX////MzMwQEBAiIiKYmJhm\n",
       "ZmZUVFSIiIh2dnbc3Nzu7u5ERESqqqoAAABwkVEpAAAAAXRSTlMAQObYZgAAAEtJREFUCNdjYIAA\n",
       "zvbM4+EMqGAFg7ODMppYA0Mtw0E0sQUM2QyYQB1TiPMiAxeakCf7BYYqVCGeK9wKnAUw3undQLCA\n",
       "a3tXRwmMAwC3+RVNp6j0GAAAAABJRU5ErkJggg==\n",
       "\" style=\"display:inline;vertical-align:middle;\" /></a></td></tr>\n",
       "<tr><td>6</td><td>Operation</td><td>operator:&nbsp;7<br>operands:&nbsp;8<br></td><td><a class=\"ProveItLink\" href=\"../39edb9fe2b7411693ffcf43a9bf0fb98391840e40/expr.ipynb\"><img src=\"data:image/png;base64,iVBORw0KGgoAAAANSUhEUgAAAEAAAAAPBAMAAACmSdRUAAAAMFBMVEX///+qqqru7u4iIiJ2dnbc\n",
       "3NyIiIjMzMxmZmYQEBC6uroyMjJERERUVFSYmJgAAADLUcuvAAAAAXRSTlMAQObYZgAAAOhJREFU\n",
       "GNNjYGB4+//u3dMLGLABdgMwNYeBgeMXVgXcH8DKvgHxX7ggE5KCx59AJNtXBga+LwhdCnAmq8RX\n",
       "EMUzgYGBeRJclOsCnMnGBraZ/wID6x6ENgY3OGsR4z8QVX8trfkBWKDZGATsG2CuWQByHgNDfgAD\n",
       "ky2y26WhfuZiYP0Bok+CFD1AUsC0E6Ki9u7dPyAa5MP3DkgKqp0gNFDZbFAwgBxyXwDhBuNDEHlG\n",
       "ILaEBgPrbyQDZKF0IBDvhwZD5SaEPOsGqEtA9HkFBo7zf+/e3odkAE8ARN3J3wEMb/7vwBKDqFwA\n",
       "TPY/hyWgimwAAAAASUVORK5CYII=\n",
       "\" style=\"display:inline;vertical-align:middle;\" /></a></td></tr>\n",
       "<tr><td>7</td><td>Literal</td><td></td><td><a class=\"ProveItLink\" href=\"../e5c030cabcb650938f92dee8256fe11cd12bf9b30/expr.ipynb\"><img src=\"data:image/png;base64,iVBORw0KGgoAAAANSUhEUgAAABMAAAANBAMAAAC5okgUAAAALVBMVEX////c3NxERETMzMwQEBCq\n",
       "qqoiIiJmZmaIiIh2dnZUVFS6uroyMjLu7u4AAACPpZJTAAAAAXRSTlMAQObYZgAAAD1JREFUCNdj\n",
       "YAABXgY44LkAZ3IvQAjPABFlaSCQV4AQjtkAZ/IegbNt5sLUpunC5aPgLMYDcCaTAJzJDCIA2yMN\n",
       "HCCUuIIAAAAASUVORK5CYII=\n",
       "\" style=\"display:inline;vertical-align:middle;\" /></a></td></tr>\n",
       "<tr><td>8</td><td>ExprTuple</td><td>9, 10</td><td><a class=\"ProveItLink\" href=\"../1d9a4008d5668a743cd8f9a815871ca1c5e3cf130/expr.ipynb\"><img src=\"data:image/png;base64,iVBORw0KGgoAAAANSUhEUgAAADYAAAAVBAMAAAD/UwB2AAAAMFBMVEX////c3NwiIiJERESqqqqY\n",
       "mJh2dnZmZmYQEBDu7u4yMjJUVFTMzMyIiIi6uroAAAAs73DqAAAAAXRSTlMAQObYZgAAAS5JREFU\n",
       "KM9jYMAH+C5gFWZ9ACROA3H0/927rR4gJA4BcQ0QrwRxmhkY2P8h5NYDMRcDAy/ISJ6/QPwbYZ7+\n",
       "BCCRwMABpBh4PwLZ3+ByIvUCDAycDQyvQBzmBgYGpk643IX7ILtNGMpAHP4NDIyLJ8BdPsE/AEil\n",
       "MywF8c7vvVsUANc2j+E8yBFeDH0g3n0BBk5tuNwDBvkCIPWCAexyC5A8TCPP7t37DUCGQeRAzo9P\n",
       "gFnHwMCxACzXAlL5FUjsd4DKAWmmBrCZplDvMf4CegkkxQiU4/oAZEQBXQrx3glg2M1XAHJmgQR+\n",
       "gv3wCBiS9r937wL5ZQZQv3D/QgZW+19Ah65j4BBAipiHSGxgmLEmIPEDkNhsF6BxhEUOZK80gsuL\n",
       "HPEbQW7GniZ4DzAAAJGlTQr2mfDRAAAAAElFTkSuQmCC\n",
       "\" style=\"display:inline;vertical-align:middle;\" /></a></td></tr>\n",
       "<tr><td>9</td><td>Variable</td><td></td><td><a class=\"ProveItLink\" href=\"../../../../../__pv_it/077b2ff79244fb4582cbe22c6e3356fa92a52f2f0/expr.ipynb\"><img src=\"data:image/png;base64,iVBORw0KGgoAAAANSUhEUgAAABAAAAAOBAMAAADUAYG5AAAAMFBMVEX///+qqqru7u4iIiJ2dnbc\n",
       "3NyIiIjMzMxmZmYQEBC6uroyMjJERERUVFSYmJgAAADLUcuvAAAAAXRSTlMAQObYZgAAAGpJREFU\n",
       "CNdjYGB4+//u3dMLGIBgDgMDxy8gzf4NiP8CGWxfGRj4vgAZPBMYGJgnARn8FxhY9ygAGfXX0pof\n",
       "gDTlBzAw2YIYJ0EckBBI53sHoBH/gIz7AhBjWH9DjancBLTl/N+7t/cxMAAA3u4f/5xagjYAAAAA\n",
       "SUVORK5CYII=\n",
       "\" style=\"display:inline;vertical-align:middle;\" /></a></td></tr>\n",
       "<tr><td>10</td><td>Variable</td><td></td><td><a class=\"ProveItLink\" href=\"../../../../../__pv_it/2cbe72a7ad6f655694dd697106680215e8489b600/expr.ipynb\"><img src=\"data:image/png;base64,iVBORw0KGgoAAAANSUhEUgAAAA8AAAAOBAMAAAACpFvcAAAALVBMVEX///8QEBBERERUVFS6urqI\n",
       "iIhmZmaqqqrc3Nzu7u6YmJgyMjIiIiLMzMwAAADtIaYWAAAAAXRSTlMAQObYZgAAAFtJREFUCNdj\n",
       "YACBOwxQsA9Kc52bAGG05zVAGAFxDmCaZULdAjBjCsO9ADDDgaEvAUTzGhvbKYCVMDAwbgAxChgY\n",
       "eASANAeQwf0AyJgNxEwvGRia5HYwcOm9TgAA6BoR3jrzwFcAAAAASUVORK5CYII=\n",
       "\" style=\"display:inline;vertical-align:middle;\" /></a></td></tr>\n",
       "</table>\n"
      ],
      "text/plain": [
       "0. [not](_x_ and (B => A))\n",
       "   core type: Operation\n",
       "   operator: 1\n",
       "   operand: 2\n",
       "1. not\n",
       "   core type: Literal\n",
       "   sub-expressions: \n",
       "2. _x_ and (B => A)\n",
       "   core type: Operation\n",
       "   operator: 3\n",
       "   operands: 4\n",
       "3. and\n",
       "   core type: Literal\n",
       "   sub-expressions: \n",
       "4. (_x_ , B => A)\n",
       "   core type: ExprTuple\n",
       "   sub-expressions: 5, 6\n",
       "5. _x_\n",
       "   core type: Variable\n",
       "   sub-expressions: \n",
       "6. B => A\n",
       "   core type: Operation\n",
       "   operator: 7\n",
       "   operands: 8\n",
       "7. =>\n",
       "   core type: Literal\n",
       "   sub-expressions: \n",
       "8. (B , A)\n",
       "   core type: ExprTuple\n",
       "   sub-expressions: 9, 10\n",
       "9. B\n",
       "   core type: Variable\n",
       "   sub-expressions: \n",
       "10. A\n",
       "    core type: Variable\n",
       "    sub-expressions: "
      ]
     },
     "execution_count": 4,
     "metadata": {},
     "output_type": "execute_result"
    }
   ],
   "source": [
    "# display the expression information\n",
    "expr.exprInfo()"
   ]
  },
  {
   "cell_type": "code",
   "execution_count": null,
   "metadata": {},
   "outputs": [],
   "source": []
  }
 ],
 "metadata": {
  "kernelspec": {
   "display_name": "Python 3",
   "language": "python",
   "name": "python3"
  }
 },
 "nbformat": 4,
 "nbformat_minor": 0
}
