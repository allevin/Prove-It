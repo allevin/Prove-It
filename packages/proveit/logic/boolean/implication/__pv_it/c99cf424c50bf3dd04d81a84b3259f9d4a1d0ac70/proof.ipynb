{
 "cells": [
  {
   "cell_type": "markdown",
   "metadata": {},
   "source": [
    "Show the Proof\n",
    "========"
   ]
  },
  {
   "cell_type": "code",
   "execution_count": 1,
   "metadata": {},
   "outputs": [
    {
     "data": {
      "text/html": [
       "<table><tr><th>&nbsp;</th><th>step type</th><th>requirements</th><th>statement</th></tr>\n",
       "<tr><td>0</td><td>assumption</td><td></td><td><span style=\"font-size:20px;\"><a class=\"ProveItLink\" href=\"../6a9ad0b1688327ac9ac0b373edead7a7a0d61a5e0/expr.ipynb\"><img src=\"data:image/png;base64,iVBORw0KGgoAAAANSUhEUgAAAHEAAAAVBAMAAACDNRyvAAAAMFBMVEX////c3NxERESqqqpUVFS6\n",
       "urrMzMwyMjIQEBCIiIh2dnYiIiLu7u5mZmaYmJgAAABXZE4RAAAAAXRSTlMAQObYZgAAAXVJREFU\n",
       "OMtjYGDgu8dAImBbJQCieHaBSNYJaLJ8Afi0NoNIzg8gMgVFJhuIr2HVwwix4TqI4GoAkTUo8vVA\n",
       "zI7dtgtgagVcJyeKY/n2HwASC+B8Hjw6OQ4g6xS+DwwBngY4n/0Abp3hKE6aMB8UPMpwPqsDbp23\n",
       "kDWyHrB/AKTWIkRWYtXJWwAk6pB1HmXIB3nbHMS+vRsE9l9A0/keRGSAXNYKNAGsBhQsAQzyIPkI\n",
       "JMPMA1B1sgOplDYQ6ytMAugjNhcXfwUgOx9JJ09FAIpOBnWgfyIS0HSyAoO6AE1n+hpUO7lBbmMB\n",
       "qWpG0mkAlGiAuRbiz9062PzJtQFI6CF0MgJ1soNS5HOElSa4YwUeAwkMx4Ek0x+UWGEswK0zGi4l\n",
       "1F/IwKf/HaigFC7GJAChQcHfvXu3AkrqE8BI20ipjw1DEqETKXnDANcEPBkUrJMPSy4DgeP4SgVw\n",
       "/uTZCSJFMCQd8ZUJrZDcuBiR1xGAM4FAOQQA/RhoR5wnQiwAAAAASUVORK5CYII=\n",
       "\" style=\"display:inline;vertical-align:middle;\" /></a> <a class=\"ProveItLink\" href=\"proof.ipynb\" style=\"text-decoration: none\">&#x22A2;&nbsp;</a><a class=\"ProveItLink\" href=\"../a87cb314a77b2b28d63a43f1f29e83e334a545040/expr.ipynb\"><img src=\"data:image/png;base64,iVBORw0KGgoAAAANSUhEUgAAAFsAAAAVBAMAAADbSo+2AAAAMFBMVEX////c3NwiIiJERESqqqqY\n",
       "mJh2dnZmZmYQEBDu7u4yMjJUVFTMzMyIiIi6uroAAAAs73DqAAAAAXRSTlMAQObYZgAAASNJREFU\n",
       "KM9jYCAR8F1AE2B9gE/5aRTeISCuwaqOEWLsShTB9UDMhVU5TwGI5EVxC6v+BCCRAOdzoivnmICs\n",
       "XKReAKimAc7nmoCm/BWKjRfug/xpggiHDWjKy1BCaYJ/AJBKR4jkoilfiqx8HsN5kFe8QOwiJRDQ\n",
       "L0BV3sfAwA6WAPnvAYM8SPAFkgleD1CU/4PxgK7k2b17vwGQfR5JOeeKB7iU8wEDagGa8lOZKKa3\n",
       "ICl3YGBgaoA5BuJ2JUtUt5silDMClXN9ALKjEIZ7o4UMPNAOMMwCksw/UQKScQGa8kdwvnD/QgZW\n",
       "+19A0XVwMWYBCA0KvCYlJQMGDgGMxISUCHjQ5ZDSEwywXcCT3ldiiMzClz2kMUQ24lPOiG417wHc\n",
       "igFg/0K2AuH1ZwAAAABJRU5ErkJggg==\n",
       "\" style=\"display:inline;vertical-align:middle;\" /></a></span></td></tr>\n",
       "</table>"
      ],
      "text/plain": [
       "<proveit._core_.proof._ShowProof at 0x7f94ebd42f28>"
      ]
     },
     "execution_count": 1,
     "metadata": {},
     "output_type": "execute_result"
    }
   ],
   "source": [
    "import proveit\n",
    "%show_proof"
   ]
  },
  {
   "cell_type": "code",
   "execution_count": null,
   "metadata": {},
   "outputs": [],
   "source": []
  }
 ],
 "metadata": {
  "kernelspec": {
   "display_name": "Python 3",
   "language": "python",
   "name": "python3"
  }
 },
 "nbformat": 4,
 "nbformat_minor": 0
}
