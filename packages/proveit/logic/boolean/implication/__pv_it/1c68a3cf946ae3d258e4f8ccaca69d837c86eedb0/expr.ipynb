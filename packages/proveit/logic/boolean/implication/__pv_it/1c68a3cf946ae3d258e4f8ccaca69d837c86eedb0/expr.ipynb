{
 "cells": [
  {
   "cell_type": "markdown",
   "metadata": {},
   "source": [
    "Expression of type <a class=\"ProveItLink\" href=\"../../../../../../../doc/html/api/proveit.logic.Set.html\">Set</a>\n",
    "=======================\n",
    "# from context <a class=\"ProveItLink\" href=\"../../_context_.ipynb\">proveit.logic.boolean.implication</a>"
   ]
  },
  {
   "cell_type": "code",
   "execution_count": 1,
   "metadata": {},
   "outputs": [],
   "source": [
    "# import Expression classes needed to build the expression\n",
    "from proveit._common_ import A, B\n",
    "from proveit.logic import Booleans, Implies, InSet, Not, Set"
   ]
  },
  {
   "cell_type": "code",
   "execution_count": 2,
   "metadata": {},
   "outputs": [
    {
     "data": {
      "text/html": [
       "<strong id=\"expr\">expr:</strong> <a class=\"ProveItLink\" href=\"expr.ipynb\"><img src=\"data:image/png;base64,iVBORw0KGgoAAAANSUhEUgAAAMsAAAAVBAMAAAAa4QdfAAAAMFBMVEX///9ERETc3NyqqqpUVFS6\n",
       "urrMzMwyMjIQEBCIiIh2dnYiIiLu7u5mZmaYmJgAAABJJ2g3AAAAAXRSTlMAQObYZgAAApxJREFU\n",
       "SMe1Vk1oE0EUftlmd7Nxug14sGDAFQ/FkxEKPSlR9m6OKXroIVBv6aVYUGnxrxfBeBDJobTQQ7Uo\n",
       "6EFQF9p48tBLvdSDoPEk+ENbjfhvnZndmXkziSkVHJjs7Hvzzffm/W0AwH8J/3M4iwF7kMfdNg2b\n",
       "Ar+0Y56L7NfbSN7uddpSVOefaIXHxgHWsNrALGxOTtwvGAB4zt6yU7HU3ehA4zbUOpMDeFUCF6tN\n",
       "TG6YnFs0AHAL07z7qXYTsaijI6o1OovgzykRxiQ0cMM1ABqNdeRjh0tcRUfM0lCuzwGZkhKJITej\n",
       "aCyhOZpu6ACNxvM+qxPtJCT2GKLpp/MhPWK3lEjM6Ht0m/0mANOc6vmNjrwdP3qRg6AFMJCnz7tS\n",
       "IjBWXjnNWcqbAE7Tyy0mJecb172I2FhejZ3XRFnVqs8sscWQjKDApAJJc3L5a80ErLOf07wQbLB+\n",
       "4VgOcWmmlPDS2vJoHFaYM8vStQLzBKdA/bBwqQC41ObKFS6rhOEmpiETjKdP1GKFmkyd6zEnVcUe\n",
       "iSkzS0QKpOzE0xIAe6hTyiNsRc+bxjSjd8Cg6aOG+d8xjcRU8G1SkIvXErCL8aaZGT0sKVBsojiO\n",
       "mYKiqVKT0p+Q0xRmpSONBPDYZFnDOEDnJLrMYHLvpqJhVXCImfQGgFeGwqSbmIY6rSHKhgNkQhP2\n",
       "tk81Fiupl+yqyBpeBc50gyc0+QEahjxANB+ux3oFEDRW/5cAXm+dlzQiQ23VGp9theEZbvU4kGuB\n",
       "jhlYk61z76UC1yOA1tO0xiwWF9p1rNnYgSEcPBvhhqHr/0ojx9t2UZaWn7/NJ0bXcxq/Gw3+ECTj\n",
       "KeyUhn9vyKMu+61im+g4nbVtaDS9czmmnu8COGgKvJF/+S/wB4imzSy+Oh3MAAAAAElFTkSuQmCC\n",
       "\" style=\"display:inline;vertical-align:middle;\" /></a><br>"
      ],
      "text/plain": [
       "expr: {A => [not](B) , A in BOOLEANS , B}"
      ]
     },
     "execution_count": 2,
     "metadata": {},
     "output_type": "execute_result"
    }
   ],
   "source": [
    "# build up the expression from sub-expressions\n",
    "expr = Set(Implies(A, Not(B)), InSet(A, Booleans), B)"
   ]
  },
  {
   "cell_type": "code",
   "execution_count": 3,
   "metadata": {},
   "outputs": [
    {
     "name": "stdout",
     "output_type": "stream",
     "text": [
      "Passed sanity check: built 'expr' is the same as the stored Expression.\n"
     ]
    }
   ],
   "source": [
    "# check that the built expression is the same as the stored expression\n",
    "%check_expr"
   ]
  },
  {
   "cell_type": "code",
   "execution_count": 4,
   "metadata": {},
   "outputs": [
    {
     "data": {
      "text/html": [
       "<table><tr><th>&nbsp;</th><th>core type</th><th>sub-expressions</th><th>expression</th></tr>\n",
       "<tr><td>0</td><td>Operation</td><td>operator:&nbsp;1<br>operands:&nbsp;2<br></td><td><a class=\"ProveItLink\" href=\"expr.ipynb\"><img src=\"data:image/png;base64,iVBORw0KGgoAAAANSUhEUgAAAMsAAAAVBAMAAAAa4QdfAAAAMFBMVEX///9ERETc3NyqqqpUVFS6\n",
       "urrMzMwyMjIQEBCIiIh2dnYiIiLu7u5mZmaYmJgAAABJJ2g3AAAAAXRSTlMAQObYZgAAApxJREFU\n",
       "SMe1Vk1oE0EUftlmd7Nxug14sGDAFQ/FkxEKPSlR9m6OKXroIVBv6aVYUGnxrxfBeBDJobTQQ7Uo\n",
       "6EFQF9p48tBLvdSDoPEk+ENbjfhvnZndmXkziSkVHJjs7Hvzzffm/W0AwH8J/3M4iwF7kMfdNg2b\n",
       "Ar+0Y56L7NfbSN7uddpSVOefaIXHxgHWsNrALGxOTtwvGAB4zt6yU7HU3ehA4zbUOpMDeFUCF6tN\n",
       "TG6YnFs0AHAL07z7qXYTsaijI6o1OovgzykRxiQ0cMM1ABqNdeRjh0tcRUfM0lCuzwGZkhKJITej\n",
       "aCyhOZpu6ACNxvM+qxPtJCT2GKLpp/MhPWK3lEjM6Ht0m/0mANOc6vmNjrwdP3qRg6AFMJCnz7tS\n",
       "IjBWXjnNWcqbAE7Tyy0mJecb172I2FhejZ3XRFnVqs8sscWQjKDApAJJc3L5a80ErLOf07wQbLB+\n",
       "4VgOcWmmlPDS2vJoHFaYM8vStQLzBKdA/bBwqQC41ObKFS6rhOEmpiETjKdP1GKFmkyd6zEnVcUe\n",
       "iSkzS0QKpOzE0xIAe6hTyiNsRc+bxjSjd8Cg6aOG+d8xjcRU8G1SkIvXErCL8aaZGT0sKVBsojiO\n",
       "mYKiqVKT0p+Q0xRmpSONBPDYZFnDOEDnJLrMYHLvpqJhVXCImfQGgFeGwqSbmIY6rSHKhgNkQhP2\n",
       "tk81Fiupl+yqyBpeBc50gyc0+QEahjxANB+ux3oFEDRW/5cAXm+dlzQiQ23VGp9theEZbvU4kGuB\n",
       "jhlYk61z76UC1yOA1tO0xiwWF9p1rNnYgSEcPBvhhqHr/0ojx9t2UZaWn7/NJ0bXcxq/Gw3+ECTj\n",
       "KeyUhn9vyKMu+61im+g4nbVtaDS9czmmnu8COGgKvJF/+S/wB4imzSy+Oh3MAAAAAElFTkSuQmCC\n",
       "\" style=\"display:inline;vertical-align:middle;\" /></a></td></tr>\n",
       "<tr><td>1</td><td>Literal</td><td></td><td><a class=\"ProveItLink\" href=\"../../../../set_theory/enumeration/__pv_it/07381ed5b23806e8d7914b78cb6667769e3708dd0/expr.ipynb\"><img src=\"data:image/png;base64,iVBORw0KGgoAAAANSUhEUgAAAB4AAAAOBAMAAADKyLEKAAAAMFBMVEX///8iIiIQEBCIiIjMzMzc\n",
       "3Nyqqqp2dnZEREQyMjK6urru7u5mZmZUVFSYmJgAAACI6eGPAAAAAXRSTlMAQObYZgAAALRJREFU\n",
       "CNdjYGDgu3Nm3wIGBJjHwN0PZW5yYGDgLWBgyITy8zcwMMQDxZyh/INAvD6BgcEFypcB4vjPDiBm\n",
       "TPFRrhs/LjMwMP//38rAwCbKEMPA9gEkE3fp0waG+AUMRxh4JkC01T9guPTOOICBEWgVH5C//wHD\n",
       "H5D4fqCz9oCMDGD4DLaegRXslLMMDMpAgxlOMmQxHDRgYG5gYLBk4D7KcIe7gOHC2rt9QCXsh40Z\n",
       "GCKMGQDRkC8N/Ph1XAAAAABJRU5ErkJggg==\n",
       "\" style=\"display:inline;vertical-align:middle;\" /></a></td></tr>\n",
       "<tr><td>2</td><td>ExprTuple</td><td>3, 4, 13</td><td><a class=\"ProveItLink\" href=\"../295d5fc06a3f698344a8ca5c64b32c4ce1a8229c0/expr.ipynb\"><img src=\"data:image/png;base64,iVBORw0KGgoAAAANSUhEUgAAAMUAAAAVBAMAAAAEKDfsAAAAMFBMVEX////c3NwiIiJERESqqqqY\n",
       "mJh2dnZmZmYQEBDu7u4yMjJUVFTMzMyIiIi6uroAAAAs73DqAAAAAXRSTlMAQObYZgAAAm1JREFU\n",
       "SMe9lbFPFEEUxt/CHXeLu+clUmkhORsjhUsCiaGB/4BLTGxM9DoqE2JBR7wgjQW4sTCERD01p7lG\n",
       "KKCQjeFCZULBFZYa9igooIEYNR7x8M3Mzs7bneXINWyymdn35ve+2ZlvZwEu4so1usk96LY8B7ZF\n",
       "fytpwLbq3j/1vDEfMnWSjjF9K2OtuZEkoCZCK0kaNdJ/CpBpA1RIKM705hrLL0s6YIvlSN921VjZ\n",
       "tclSWf/wPgG4p0IRJtCw/YoOZMW4gSd5ffpZUsM+xqK/AZZUKGRevSvcCjRSxc86cCAijV1fwYdB\n",
       "e0DnWAboeYbtRBiSjFV11Xs0HR2YEQZyJ4tk84I1miEal1fBeI+1+qZD00nmiqvWauuuqwNVHngN\n",
       "O7xupsCvP2JYlWjsfPnxmJVMhZsuGRhW+1E4XUgAFnnAh+vTpGDqE28WpSh6ZTcP5hCbfVkOkozp\n",
       "0D3/Jp8I0OYr6nmbDnXIMpduS4usAtxhGM7LOpJByeTmcBZyz8HZD/IE4HVy6CFqfOuDG9dAF8LD\n",
       "EtEIGZYN3wOc3uCBAPPsGb3SUyb7cUNs3LzSsH5huzlB1ipkzMEkDQqMYtfAbv8R2Y5gZqNKg7nd\n",
       "aLEPrwImRJn1iMa+yFNgiq0+y/9VGleDdkoG6tztX9m3iVZ8MxhlXvhKIz3riDwF9tDfz99Ceryl\n",
       "jCXNuBdGMuMn3ga3cr8PS8dRxvhYl2fiz5trwPMRIJvXj0J5tibl2FnSjMVSG8JX8mrGgHTp7LM/\n",
       "KfcI7+I5/4xiHKh1GKznzEqXGhy41mGwnruEy2efI2HHATA6/Gv13Pdu/7UI/Adv/NDxF8/kSAAA\n",
       "AABJRU5ErkJggg==\n",
       "\" style=\"display:inline;vertical-align:middle;\" /></a></td></tr>\n",
       "<tr><td>3</td><td>Operation</td><td>operator:&nbsp;5<br>operands:&nbsp;6<br></td><td><a class=\"ProveItLink\" href=\"../1a168b2410a985d9dd68a2f0e23bb53d61e193220/expr.ipynb\"><img src=\"data:image/png;base64,iVBORw0KGgoAAAANSUhEUgAAAF0AAAAVBAMAAADWVP/xAAAAMFBMVEX///92dnYQEBBERERUVFS6\n",
       "urqIiIhmZmaqqqrc3Nzu7u6YmJgyMjIiIiLMzMwAAACFkkdwAAAAAXRSTlMAQObYZgAAAWxJREFU\n",
       "KM9jYKAaYE1AF9kKY7zFpv4Jgrnlv4uLTQAD+wMo/zw29aeQ2MoMDOxfGRgOQHjc9xcgpGBMNiTn\n",
       "8H0D4i8MDBsh3Bn1EzCNZUIyg+0n0NCPDAyLINyE/ACEXAiUjkFyDrMCAwOvFpBuAAfEgv4NCDlG\n",
       "qDsKkdTzOzBwHgbax1gA4i1leA9Ww34XDL5D1JxGUv/eLa0WZCQH2MMBDPMLkCQ5joIpVZgBAgwM\n",
       "+RMYuK6AXKIA8ryLi78BckCuUQWRX2Fh48DAYASk84EW8H0AaQKGxQEk5XwHF6CrBwYlw34BqHqg\n",
       "n3kVkNx/GRKQGgj1fL+BtH8DxD2cQJrnA5LzHSC0NUI9KPg5/4AiFuiONaDw/YVQPwdKi8MEHoCD\n",
       "/xEoHoHhOVn/JAO3/R9EAFlC6Vi4CLv9FxcfcPDyBGAmM1gaZJqAKbcIT/LnFsAUE8OXX05hiHAd\n",
       "wKd+CoYIywR86jkx8mMeAwMAbe9eiI+A1Z8AAAAASUVORK5CYII=\n",
       "\" style=\"display:inline;vertical-align:middle;\" /></a></td></tr>\n",
       "<tr><td>4</td><td>Operation</td><td>operator:&nbsp;7<br>operands:&nbsp;8<br></td><td><a class=\"ProveItLink\" href=\"../18d84e6b10643c76412edd0e67904c254c981c030/expr.ipynb\"><img src=\"data:image/png;base64,iVBORw0KGgoAAAANSUhEUgAAADYAAAAPBAMAAABdHiGLAAAAMFBMVEX///92dnYQEBBERERUVFS6\n",
       "urqIiIhmZmaqqqrc3Nzu7u6YmJgyMjIiIiLMzMwAAACFkkdwAAAAAXRSTlMAQObYZgAAANJJREFU\n",
       "GNNjYACBtwwogPG8zR9dCyjnPKocAzNrwpqFAmAm9/0FGHJsAQfAzBn1EyBiy87evQOV49jgBRZK\n",
       "yA8A03ynFyD0RRqAWKwL+jeAhSYvQJj5djOYs5ThfQJYyBJh393/amBWAMP8AhDNZYDslgwQj8/F\n",
       "xR9itu7du3C3MBgEgoQYGJjA7uVzQNLHYMAMZDQwMPAqgM28gC7HCZTj+QAW8kaRA5q5BsT+BRZa\n",
       "G4CQ4y4zYJisf5KB2/4P2KGcxx/AwvrzJQ+0MObwgbgTAgCMvTlc/0QYTQAAAABJRU5ErkJggg==\n",
       "\" style=\"display:inline;vertical-align:middle;\" /></a></td></tr>\n",
       "<tr><td>5</td><td>Literal</td><td></td><td><a class=\"ProveItLink\" href=\"../e5c030cabcb650938f92dee8256fe11cd12bf9b30/expr.ipynb\"><img src=\"data:image/png;base64,iVBORw0KGgoAAAANSUhEUgAAABMAAAANBAMAAAC5okgUAAAALVBMVEX////c3NxERETMzMwQEBCq\n",
       "qqoiIiJmZmaIiIh2dnZUVFS6uroyMjLu7u4AAACPpZJTAAAAAXRSTlMAQObYZgAAAD1JREFUCNdj\n",
       "YAABXgY44LkAZ3IvQAjPABFlaSCQV4AQjtkAZ/IegbNt5sLUpunC5aPgLMYDcCaTAJzJDCIA2yMN\n",
       "HCCUuIIAAAAASUVORK5CYII=\n",
       "\" style=\"display:inline;vertical-align:middle;\" /></a></td></tr>\n",
       "<tr><td>6</td><td>ExprTuple</td><td>10, 9</td><td><a class=\"ProveItLink\" href=\"../5e68d7c274e461ce273f7542d0fe3ddbf39a254e0/expr.ipynb\"><img src=\"data:image/png;base64,iVBORw0KGgoAAAANSUhEUgAAAEMAAAAVBAMAAADvM06qAAAAMFBMVEX////c3NwiIiJERESqqqqY\n",
       "mJh2dnZmZmYQEBDu7u4yMjJUVFTMzMyIiIi6uroAAAAs73DqAAAAAXRSTlMAQObYZgAAAUpJREFU\n",
       "KM9jYCAC8F3AJxsHIk5D2IfQ5Fj3/969eR0D+wEgeyVEaD26fg4DBob6BwwLGBh4Ifaw6k9AU3Ie\n",
       "KHF+A0MYUDFESqReAE3JfaBAfALDDAaGVxCBC/cfoCmxAGKNCQzMDgxlEG9N8A9AU/KbgUHKkoGB\n",
       "rYBhKZg/D2w1MuD5ffe6KpBmWcDQBxZ4wCBfAJEqUgICNaA3PjIwTNoANL+B4R9Yy+7d+w2QjACG\n",
       "FXMDUNlXoNQHiBI+oM8WoCrhB5rA+g2spAUk5MDAwNSAquQ80PncX8AWmQJFGIFKuD4wMExAUgIK\n",
       "FnmgyawLGNKBIrOAmPknA+cnuHfAwcLTNQHs6UcMDML9CxlY7X8VcPYjQrj4/+7dq0BBxfWAgQMp\n",
       "4PkEMFMDMAJYE5ASAJYEk4tIDDiUcILCQhrBx5L+uEF2M+JNmHcYGADtDFGeUCocqwAAAABJRU5E\n",
       "rkJggg==\n",
       "\" style=\"display:inline;vertical-align:middle;\" /></a></td></tr>\n",
       "<tr><td>7</td><td>Literal</td><td></td><td><a class=\"ProveItLink\" href=\"../../../../set_theory/membership/__pv_it/088cbc857536a28d4119ad9639a84270ccb0545d0/expr.ipynb\"><img src=\"data:image/png;base64,iVBORw0KGgoAAAANSUhEUgAAAAwAAAAMBAMAAACkW0HUAAAALVBMVEX///+qqqpmZmZUVFQQEBC6\n",
       "urpERETc3NyYmJjMzMwiIiIyMjKIiIju7u4AAACYsrA9AAAAAXRSTlMAQObYZgAAADxJREFUCNdj\n",
       "YOA9vWrVBgaG2b0MQMCeCyIZ2ArA1DUwyRCyahVIyWQI7xaEYm4AU7xLIdxqTQgtvGvVBgCkcQ7e\n",
       "geM/tQAAAABJRU5ErkJggg==\n",
       "\" style=\"display:inline;vertical-align:middle;\" /></a></td></tr>\n",
       "<tr><td>8</td><td>ExprTuple</td><td>10, 11</td><td><a class=\"ProveItLink\" href=\"../0f38ce3f6d5bca20d60f2036d8f4eedb1ccd39680/expr.ipynb\"><img src=\"data:image/png;base64,iVBORw0KGgoAAAANSUhEUgAAADMAAAAVBAMAAAAZessyAAAAMFBMVEX////c3NwiIiJERESqqqqY\n",
       "mJh2dnZmZmYQEBDu7u4yMjJUVFTMzMyIiIi6uroAAAAs73DqAAAAAXRSTlMAQObYZgAAAR1JREFU\n",
       "KM9jYMAD+C5gE40DEach7EMQim291a8mEwYG9gNAzkqI2Hqocma+C7OmJTAwLGBg4IWYx6o/AS7F\n",
       "+wAoHsbAwAEREqkXgEuxBOxkYJjBwPAKInLh/gOErocGQNqBoQzizAn+AXCpQ8FAk9gKGJaCBeYx\n",
       "nL8Ak1L63wukWRYw9IEFHjDIFyAMvAI0kK+B4R+Iz7N7934DuBSDwTOg0AeIFB/QpQuQpJjBUi0g\n",
       "vgMDA1MDqhTQQFMglxEoxfWBgWECkoGsCxjSgdxZIKGfDJyfIFKstQZgxz9iYBDuX8jAav+rgLNf\n",
       "ABS8nzW2AJVwPWDgEECKHyQ2MKBYExBcVqQIy0VECpoUJ8gv0gg+Unxzg8xmxJoA7jAwAAA4lUto\n",
       "1aFFcAAAAABJRU5ErkJggg==\n",
       "\" style=\"display:inline;vertical-align:middle;\" /></a></td></tr>\n",
       "<tr><td>9</td><td>Operation</td><td>operator:&nbsp;12<br>operand:&nbsp;13<br></td><td><a class=\"ProveItLink\" href=\"../1da4e2fe7c44632f084fa27ea32e26dc689384c20/expr.ipynb\"><img src=\"data:image/png;base64,iVBORw0KGgoAAAANSUhEUgAAAB0AAAAOBAMAAAAh/woJAAAAMFBMVEX///+qqqru7u7c3NyIiIgQ\n",
       "EBC6uroyMjJERESYmJhUVFTMzMx2dnYiIiJmZmYAAADtoHoAAAAAAXRSTlMAQObYZgAAAHpJREFU\n",
       "CNdjYIACzvW/Vq0oY0AA1gYGhvcJCP5+ByBegOD7GzAwzD+A4LcC8VUFBP8XA4N5E4LL/cvF7yaQ\n",
       "fnsXCO4wMLB8ZmDQhRm3i4GBIwAo9hPB5wfKcf5B8PdPYGDg+ojgg6y3L4AZDraeOxxh/Yv/q1aV\n",
       "A7UAAFRxJOZ+1MVPAAAAAElFTkSuQmCC\n",
       "\" style=\"display:inline;vertical-align:middle;\" /></a></td></tr>\n",
       "<tr><td>10</td><td>Variable</td><td></td><td><a class=\"ProveItLink\" href=\"../../../../../__pv_it/2cbe72a7ad6f655694dd697106680215e8489b600/expr.ipynb\"><img src=\"data:image/png;base64,iVBORw0KGgoAAAANSUhEUgAAAA8AAAAOBAMAAAACpFvcAAAALVBMVEX///8QEBBERERUVFS6urqI\n",
       "iIhmZmaqqqrc3Nzu7u6YmJgyMjIiIiLMzMwAAADtIaYWAAAAAXRSTlMAQObYZgAAAFtJREFUCNdj\n",
       "YACBOwxQsA9Kc52bAGG05zVAGAFxDmCaZULdAjBjCsO9ADDDgaEvAUTzGhvbKYCVMDAwbgAxChgY\n",
       "eASANAeQwf0AyJgNxEwvGRia5HYwcOm9TgAA6BoR3jrzwFcAAAAASUVORK5CYII=\n",
       "\" style=\"display:inline;vertical-align:middle;\" /></a></td></tr>\n",
       "<tr><td>11</td><td>Literal</td><td></td><td><a class=\"ProveItLink\" href=\"../../../__pv_it/46271c8230be96415d662709611f4ed2279d702b0/expr.ipynb\"><img src=\"data:image/png;base64,iVBORw0KGgoAAAANSUhEUgAAAA0AAAAOBAMAAAAGUYvhAAAAMFBMVEX///9mZmbMzMzc3NxUVFSY\n",
       "mJju7u6IiIi6urqqqqoiIiIQEBBEREQyMjJ2dnYAAAAQvcRZAAAAAXRSTlMAQObYZgAAAElJREFU\n",
       "CNdjePvn/u01ExgYGA60s117B6YZKngh9FSWBAjfBsxnWnoMRHet/10AkS+fA6F5OB5AaIYDqDRU\n",
       "PLCGgQFoz6ktExgAgLIl8DFvGtkAAAAASUVORK5CYII=\n",
       "\" style=\"display:inline;vertical-align:middle;\" /></a></td></tr>\n",
       "<tr><td>12</td><td>Literal</td><td></td><td><a class=\"ProveItLink\" href=\"../../../negation/__pv_it/7bea79645543c2413aa17e787cca04e21046fde60/expr.ipynb\"><img src=\"data:image/png;base64,iVBORw0KGgoAAAANSUhEUgAAAAwAAAAGBAMAAAAFwGKyAAAAFVBMVEX///9UVFTMzMx2dnYiIiJm\n",
       "ZmYAAACWz4ZEAAAAAXRSTlMAQObYZgAAABRJREFUCNdjCHEBAmcGMFDEQzEBAEl+Ai6uYJv/AAAA\n",
       "AElFTkSuQmCC\n",
       "\" style=\"display:inline;vertical-align:middle;\" /></a></td></tr>\n",
       "<tr><td>13</td><td>Variable</td><td></td><td><a class=\"ProveItLink\" href=\"../../../../../__pv_it/077b2ff79244fb4582cbe22c6e3356fa92a52f2f0/expr.ipynb\"><img src=\"data:image/png;base64,iVBORw0KGgoAAAANSUhEUgAAABAAAAAOBAMAAADUAYG5AAAAMFBMVEX///+qqqru7u4iIiJ2dnbc\n",
       "3NyIiIjMzMxmZmYQEBC6uroyMjJERERUVFSYmJgAAADLUcuvAAAAAXRSTlMAQObYZgAAAGpJREFU\n",
       "CNdjYGB4+//u3dMLGIBgDgMDxy8gzf4NiP8CGWxfGRj4vgAZPBMYGJgnARn8FxhY9ygAGfXX0pof\n",
       "gDTlBzAw2YIYJ0EckBBI53sHoBH/gIz7AhBjWH9DjancBLTl/N+7t/cxMAAA3u4f/5xagjYAAAAA\n",
       "SUVORK5CYII=\n",
       "\" style=\"display:inline;vertical-align:middle;\" /></a></td></tr>\n",
       "</table>\n"
      ],
      "text/plain": [
       "0. {A => [not](B) , A in BOOLEANS , B}\n",
       "   core type: Operation\n",
       "   operator: 1\n",
       "   operands: 2\n",
       "1. Set\n",
       "   core type: Literal\n",
       "   sub-expressions: \n",
       "2. (A => [not](B) , A in BOOLEANS , B)\n",
       "   core type: ExprTuple\n",
       "   sub-expressions: 3, 4, 13\n",
       "3. A => [not](B)\n",
       "   core type: Operation\n",
       "   operator: 5\n",
       "   operands: 6\n",
       "4. A in BOOLEANS\n",
       "   core type: Operation\n",
       "   operator: 7\n",
       "   operands: 8\n",
       "5. =>\n",
       "   core type: Literal\n",
       "   sub-expressions: \n",
       "6. (A , [not](B))\n",
       "   core type: ExprTuple\n",
       "   sub-expressions: 10, 9\n",
       "7. in\n",
       "   core type: Literal\n",
       "   sub-expressions: \n",
       "8. (A , BOOLEANS)\n",
       "   core type: ExprTuple\n",
       "   sub-expressions: 10, 11\n",
       "9. [not](B)\n",
       "   core type: Operation\n",
       "   operator: 12\n",
       "   operand: 13\n",
       "10. A\n",
       "    core type: Variable\n",
       "    sub-expressions: \n",
       "11. BOOLEANS\n",
       "    core type: Literal\n",
       "    sub-expressions: \n",
       "12. not\n",
       "    core type: Literal\n",
       "    sub-expressions: \n",
       "13. B\n",
       "    core type: Variable\n",
       "    sub-expressions: "
      ]
     },
     "execution_count": 4,
     "metadata": {},
     "output_type": "execute_result"
    }
   ],
   "source": [
    "# display the expression information\n",
    "expr.exprInfo()"
   ]
  },
  {
   "cell_type": "code",
   "execution_count": null,
   "metadata": {},
   "outputs": [],
   "source": []
  }
 ],
 "metadata": {
  "kernelspec": {
   "display_name": "Python 3",
   "language": "python",
   "name": "python3"
  }
 },
 "nbformat": 4,
 "nbformat_minor": 0
}
