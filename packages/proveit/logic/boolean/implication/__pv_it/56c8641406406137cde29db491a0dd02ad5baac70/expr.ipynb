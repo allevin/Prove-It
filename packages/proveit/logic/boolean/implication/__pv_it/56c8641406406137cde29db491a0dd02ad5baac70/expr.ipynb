{
 "cells": [
  {
   "cell_type": "markdown",
   "metadata": {},
   "source": [
    "Expression of type <a class=\"ProveItLink\" href=\"../../../../../../../doc/html/api/proveit.Lambda.html\">Lambda</a>\n",
    "=======================\n",
    "# from context <a class=\"ProveItLink\" href=\"../../_context_.ipynb\">proveit.logic.boolean.implication</a>"
   ]
  },
  {
   "cell_type": "code",
   "execution_count": 1,
   "metadata": {},
   "outputs": [],
   "source": [
    "# import Expression classes needed to build the expression\n",
    "from proveit import Lambda\n",
    "from proveit._common_ import B\n",
    "from proveit.logic import Booleans, FALSE, Implies, InSet"
   ]
  },
  {
   "cell_type": "code",
   "execution_count": 2,
   "metadata": {},
   "outputs": [
    {
     "data": {
      "text/html": [
       "<strong id=\"expr\">expr:</strong> <a class=\"ProveItLink\" href=\"expr.ipynb\"><img src=\"data:image/png;base64,iVBORw0KGgoAAAANSUhEUgAAAQgAAAAVCAMAAACNF4A8AAAANlBMVEX///8UFBQNDQ2qqqru7u4i\n",
       "IiJ2dnbc3NyIiIjMzMxmZmYQEBC6uroyMjJERERUVFSYmJgAAAC3B9V0AAAAAXRSTlMAQObYZgAA\n",
       "An9JREFUWMPdWNuu4yAMZJdrQszl/3/20E2ywWCK21SqdPziqpqM4wHbECF+hUn7pcCbw/6epe0u\n",
       "3GwfSSvFnGOxAEy+JWL/MOvej7guT9EGcoAMXgcpaHgjBC+hlvZhPuwRMk8JUNj/E2V9SXwcESbo\n",
       "8Nh7CpQxgoR3O4KXUENbksju8JGThHPYT4RQ1J7CEZNhCCHcdkjQwVshmAk1tOVn3ptNyoa1mgr7\n",
       "iRBAKNFEVB5L50AXg+aNZRJREfBeCDqhGW354yDWXnE6JWA/E2IjVqWNWJVpoYKk6KWzQfRwQggy\n",
       "oTmt2DeQhXABcRnKOvBqsJ/2CNP30TaiqZ62QZF7eNGJglNCEAlxaEslOedWnSqMxo/EigQS9qQQ\n",
       "q64sr12LaCLKSvhgqWIuLNk7Ak4IQSXEoT0qSuk4FELFi8Zv2DOmhmzmWBdxu6pehWFXczJ0cEoI\n",
       "KiEO7VlRLl8S/v2jkflrEJ2/Ml+IMqOQbF3EJV8txZ8x2672cKaFU0JQCXFozxlT99hmR4h4hXpD\n",
       "iAWM6mu4ilhltsTR0hUnAkcIKiEG7XLqFrMcCbFWBeYl9vMeoZs+1UesS0PPhXheGmRCDNpz6NoM\n",
       "ox6x1H0/JOynO0LGwSniipiq0DGN3/jYw+lpsyQTYtAeFbX4+uTjxofDc3bhGTYWwsLgFFFFrLmU\n",
       "3ug3TqsLnPFJJjSlXcN+QQFI3Kunxv6ogr0ZUb25mVtURDRVLOBr1X47CtpHScEbIYYJzWlfNW+x\n",
       "n91V55D2zCwjoPY+gXOv4RPa16/tRgjOVYlvxt2Df+h7xMtGXcPvmIKb8G8JYSP2dy3am/BvCfH/\n",
       "c5T9yKc6t9yFu9tC/AALDyU9/t1ofgAAAABJRU5ErkJggg==\n",
       "\" style=\"display:inline;vertical-align:middle;\" /></a><br>"
      ],
      "text/plain": [
       "expr: B -> ((FALSE => B) in BOOLEANS) | B in BOOLEANS"
      ]
     },
     "execution_count": 2,
     "metadata": {},
     "output_type": "execute_result"
    }
   ],
   "source": [
    "# build up the expression from sub-expressions\n",
    "expr = Lambda(B, InSet(Implies(FALSE, B), Booleans), conditions = [InSet(B, Booleans)])"
   ]
  },
  {
   "cell_type": "code",
   "execution_count": 3,
   "metadata": {},
   "outputs": [
    {
     "name": "stdout",
     "output_type": "stream",
     "text": [
      "Passed sanity check: built 'expr' is the same as the stored Expression.\n"
     ]
    }
   ],
   "source": [
    "# check that the built expression is the same as the stored expression\n",
    "%check_expr"
   ]
  },
  {
   "cell_type": "code",
   "execution_count": 4,
   "metadata": {},
   "outputs": [
    {
     "data": {
      "text/html": [
       "<table><tr><th>&nbsp;</th><th>core type</th><th>sub-expressions</th><th>expression</th></tr>\n",
       "<tr><td>0</td><td>Lambda</td><td>parameter:&nbsp;12<br>body:&nbsp;1<br>conditions:&nbsp;2<br></td><td><a class=\"ProveItLink\" href=\"expr.ipynb\"><img src=\"data:image/png;base64,iVBORw0KGgoAAAANSUhEUgAAAQgAAAAVCAMAAACNF4A8AAAANlBMVEX///8UFBQNDQ2qqqru7u4i\n",
       "IiJ2dnbc3NyIiIjMzMxmZmYQEBC6uroyMjJERERUVFSYmJgAAAC3B9V0AAAAAXRSTlMAQObYZgAA\n",
       "An9JREFUWMPdWNuu4yAMZJdrQszl/3/20E2ywWCK21SqdPziqpqM4wHbECF+hUn7pcCbw/6epe0u\n",
       "3GwfSSvFnGOxAEy+JWL/MOvej7guT9EGcoAMXgcpaHgjBC+hlvZhPuwRMk8JUNj/E2V9SXwcESbo\n",
       "8Nh7CpQxgoR3O4KXUENbksju8JGThHPYT4RQ1J7CEZNhCCHcdkjQwVshmAk1tOVn3ptNyoa1mgr7\n",
       "iRBAKNFEVB5L50AXg+aNZRJREfBeCDqhGW354yDWXnE6JWA/E2IjVqWNWJVpoYKk6KWzQfRwQggy\n",
       "oTmt2DeQhXABcRnKOvBqsJ/2CNP30TaiqZ62QZF7eNGJglNCEAlxaEslOedWnSqMxo/EigQS9qQQ\n",
       "q64sr12LaCLKSvhgqWIuLNk7Ak4IQSXEoT0qSuk4FELFi8Zv2DOmhmzmWBdxu6pehWFXczJ0cEoI\n",
       "KiEO7VlRLl8S/v2jkflrEJ2/Ml+IMqOQbF3EJV8txZ8x2672cKaFU0JQCXFozxlT99hmR4h4hXpD\n",
       "iAWM6mu4ilhltsTR0hUnAkcIKiEG7XLqFrMcCbFWBeYl9vMeoZs+1UesS0PPhXheGmRCDNpz6NoM\n",
       "ox6x1H0/JOynO0LGwSniipiq0DGN3/jYw+lpsyQTYtAeFbX4+uTjxofDc3bhGTYWwsLgFFFFrLmU\n",
       "3ug3TqsLnPFJJjSlXcN+QQFI3Kunxv6ogr0ZUb25mVtURDRVLOBr1X47CtpHScEbIYYJzWlfNW+x\n",
       "n91V55D2zCwjoPY+gXOv4RPa16/tRgjOVYlvxt2Df+h7xMtGXcPvmIKb8G8JYSP2dy3am/BvCfH/\n",
       "c5T9yKc6t9yFu9tC/AALDyU9/t1ofgAAAABJRU5ErkJggg==\n",
       "\" style=\"display:inline;vertical-align:middle;\" /></a></td></tr>\n",
       "<tr><td>1</td><td>Operation</td><td>operator:&nbsp;6<br>operands:&nbsp;3<br></td><td><a class=\"ProveItLink\" href=\"../a58c40d4bf04d82021e32187f1456b2f06b449f70/expr.ipynb\"><img src=\"data:image/png;base64,iVBORw0KGgoAAAANSUhEUgAAAHYAAAAVBAMAAABh6QfWAAAAMFBMVEX////c3NwiIiJERESqqqqY\n",
       "mJh2dnZmZmYQEBDu7u4yMjJUVFTMzMyIiIi6uroAAAAs73DqAAAAAXRSTlMAQObYZgAAAZpJREFU\n",
       "OMtjYKAE8F0gqIT1AQ6J0yCCEbsBrPt/7968joGhBlWYbb3VryYTIGMliMdTgN1gDgMGhvoHDFxo\n",
       "wsx8F2ZNS2DgvYCpdwKcdR4oe34DA2sChl7eBwsYOCZg6l0JZ90XYGCIT2DgbIBw5y5S0oLqZQnY\n",
       "yfCKAVPvazjLAog1gKabQFQtnYCw96EBQxkWvWzwkPvNwCBlCaTTwTzhCQg3HwqewLAURS+7Ehh8\n",
       "h6rh+X33uiqI4QXmGiL8q/S/l4GhD4u9DCzrIDTvRwaGSRuAjBcgHqcBclhdMWD4h00vwyyIkczA\n",
       "MOL9CgpvcCpqAjoJFlYMBs+w6+VZBvEZP9BO1m8wvTwbkOxlMGBmaMHmX2VooJwPYGDg/gJ3swKa\n",
       "XlMs9rJsQIpe+QVARhSYuxVF7zNo6KPqlUKKXp6uCfA4mvQAoZe11oDhEcShwGCAhyI8Lor/7969\n",
       "KgDEgoQ74/IDsLzwWWMLMLULYOaAA+gCsDTJsgsSzrBslkBEHmfDkcdXEqF3Fg5xaSL0bsQhzki4\n",
       "zOE9gFUYAES8b40jbIPJAAAAAElFTkSuQmCC\n",
       "\" style=\"display:inline;vertical-align:middle;\" /></a></td></tr>\n",
       "<tr><td>2</td><td>ExprTuple</td><td>4</td><td><a class=\"ProveItLink\" href=\"../bc5716cbdf8baf72c53055975f591c5351b6b51c0/expr.ipynb\"><img src=\"data:image/png;base64,iVBORw0KGgoAAAANSUhEUgAAAEQAAAAVBAMAAAAN71XTAAAAMFBMVEX////c3NwiIiJERESqqqqY\n",
       "mJh2dnZmZmYQEBDu7u4yMjJUVFTMzMyIiIi6uroAAAAs73DqAAAAAXRSTlMAQObYZgAAAUpJREFU\n",
       "KM9jYCAC8F3AJ8v6AEicBuLo/7t3Wz1Akcv6vH6FsgMDQw2QvRIk0MzAwP4PVb/BW86VaQwMXAwM\n",
       "vCB7eP4C8W90JQz3gPKsCQwcE4Bc3o9A9jewzNxFSlowJa7cExg4GxhegbjMDQwMTJ0gFs/SCUim\n",
       "CANpE4YyEJd/AwPjYrCc8ASERTyqlkA6nWEpiHt+792iALCEIcItj/R/gNzpxdAH4t4XYODUBjE4\n",
       "DZCde9cZSL9gAHvVAqQMZAxfk5ISwrnMfAlAGyBKQP6NTwC5dgOyKcwMBiAlLSCJr0BivwPIIgUM\n",
       "JS8YTKHBwvgLLLEVRQnIoiignyDBcgIcEQyTHiApCb8M9vQjYOzY/969aylEgnH5AXg0GnWD7F7H\n",
       "wCGAGjUsu6A+ggJgBLAm4E9ObBegiQE3mAXE0viVbAQ5EG/C5D3AAABDX1zcyGO8iwAAAABJRU5E\n",
       "rkJggg==\n",
       "\" style=\"display:inline;vertical-align:middle;\" /></a></td></tr>\n",
       "<tr><td>3</td><td>ExprTuple</td><td>5, 10</td><td><a class=\"ProveItLink\" href=\"../5a98020c5cd3427f786d46ab10a939c1c90129fc0/expr.ipynb\"><img src=\"data:image/png;base64,iVBORw0KGgoAAAANSUhEUgAAAGUAAAAVBAMAAACtcD09AAAAMFBMVEX////c3NwiIiJERESqqqqY\n",
       "mJh2dnZmZmYQEBDu7u4yMjJUVFTMzMyIiIi6uroAAAAs73DqAAAAAXRSTlMAQObYZgAAAYFJREFU\n",
       "OMtjYCAH8F0gSXkciDgNZspiVcC6//fuzevATLb1Vr+aTBgY2A8AOSvBQsexm8phwMBQ/wDMZOa7\n",
       "MGtaAgPDAgYG3guYeibAWeeBsuc3wPTwPgBqCAOaNAFTz0o4674AA0N8AkwPS8BOBoYZDAyvGDD1\n",
       "vIazLIBYYwLcnodApzI7MJRh0cMGD8rfDAxSlgwwPYeCgdrZChiWouhhVwKD71AtPL/vXldlgOlR\n",
       "+t8LpFkWMPRhsYeBBRK+DLwfGRgmbYDbw3sF6Da+BoZ/2PQwzIIYxdwA1PcVrofB4BnQ7g/Y9fAs\n",
       "g/ibH2gH6zckPcxgPS3Y/KMMjaHzAQwM3F9Q9QDdZorFHpYNSNEjvwASyTC3sS5gSMeiRwopeni6\n",
       "JjBwfoLoYa01AIf1IyC3SElJA+gguB5DKF38f/fuVUDncfYLgNLoZ40tQEGuBwwcApgp8wBGfkFS\n",
       "BEw7rAlEZBpWJHYuSoIkSg8nMEgYpInQg5SVuUHOZCQtb99hYAAAjWlrLy+R3yoAAAAASUVORK5C\n",
       "YII=\n",
       "\" style=\"display:inline;vertical-align:middle;\" /></a></td></tr>\n",
       "<tr><td>4</td><td>Operation</td><td>operator:&nbsp;6<br>operands:&nbsp;7<br></td><td><a class=\"ProveItLink\" href=\"../41a86ef0ff9417c73c472e1bdfa161b308e2753e0/expr.ipynb\"><img src=\"data:image/png;base64,iVBORw0KGgoAAAANSUhEUgAAADcAAAAPBAMAAACy3Eq1AAAAMFBMVEX///+qqqru7u4iIiJ2dnbc\n",
       "3NyIiIjMzMxmZmYQEBC6uroyMjJERERUVFSYmJgAAADLUcuvAAAAAXRSTlMAQObYZgAAAOZJREFU\n",
       "GNNjYGB4+//u3dMLGJCB95/9O20EwMw5DAwcv1AkGQ4sY9rkAmKwfwPiv+iSDFncIAbbVwYGvi9g\n",
       "MbXNxtYwSTleBSCDZwIDA/MksBn7FJB0xoAY/BcYWPeARWMUEMay2x0CMeqvpTU/AAsdRdi52P5n\n",
       "AoiRH8DAZAtiMB1AdlCaDIhxEqQApJVrsrExwkE8XA5ABsgX70EM9gvIOnkYgAax/wNy7oOCg8kA\n",
       "QxLkTdbfYKF7KJIgY0HerNwEFlJegCT5IgcYquf/3r29DyLEuqMAHvCH5wqghigD422oayEAAEv1\n",
       "Sz0foy5uAAAAAElFTkSuQmCC\n",
       "\" style=\"display:inline;vertical-align:middle;\" /></a></td></tr>\n",
       "<tr><td>5</td><td>Operation</td><td>operator:&nbsp;8<br>operands:&nbsp;9<br></td><td><a class=\"ProveItLink\" href=\"../6f60b7f2c9ff0a32b6e247c74b101c03fea000df0/expr.ipynb\"><img src=\"data:image/png;base64,iVBORw0KGgoAAAANSUhEUgAAAEAAAAAPBAMAAACmSdRUAAAAMFBMVEX///+YmJiqqqp2dnZUVFS6\n",
       "uroyMjLu7u5EREQQEBAiIiJmZmbMzMyIiIjc3NwAAAD9x+WiAAAAAXRSTlMAQObYZgAAALNJREFU\n",
       "GNNjYGBgeMuAFYj8d3FpCwCxTmNXwDCDgYH7K4YCdjiL5y8Qf8FQwFYAY/H+Y2Bg/IyhgNUBxuKY\n",
       "wMDANR3TDbYwBr8DA19GAbKCXatAYP0GKPe8791dAgxYfKEWAKHvP2BgX4JNAXsmREUnSJEAFgXH\n",
       "zCE0yIfyBphuWNUODYaPQMJfAdMEFaRg4PuG6Qa+BKRgOJkONnflqlUr4Ao4HkBo7v4vLm6JWGKI\n",
       "B40PAHB/OKjNNdtTAAAAAElFTkSuQmCC\n",
       "\" style=\"display:inline;vertical-align:middle;\" /></a></td></tr>\n",
       "<tr><td>6</td><td>Literal</td><td></td><td><a class=\"ProveItLink\" href=\"../../../../set_theory/membership/__pv_it/088cbc857536a28d4119ad9639a84270ccb0545d0/expr.ipynb\"><img src=\"data:image/png;base64,iVBORw0KGgoAAAANSUhEUgAAAAwAAAAMBAMAAACkW0HUAAAALVBMVEX///+qqqpmZmZUVFQQEBC6\n",
       "urpERETc3NyYmJjMzMwiIiIyMjKIiIju7u4AAACYsrA9AAAAAXRSTlMAQObYZgAAADxJREFUCNdj\n",
       "YOA9vWrVBgaG2b0MQMCeCyIZ2ArA1DUwyRCyahVIyWQI7xaEYm4AU7xLIdxqTQgtvGvVBgCkcQ7e\n",
       "geM/tQAAAABJRU5ErkJggg==\n",
       "\" style=\"display:inline;vertical-align:middle;\" /></a></td></tr>\n",
       "<tr><td>7</td><td>ExprTuple</td><td>12, 10</td><td><a class=\"ProveItLink\" href=\"../46fef8cd01e90537d7ca36d1ba2c809996ed4b3a0/expr.ipynb\"><img src=\"data:image/png;base64,iVBORw0KGgoAAAANSUhEUgAAADQAAAAVBAMAAAD7ptBLAAAAMFBMVEX////c3NwiIiJERESqqqqY\n",
       "mJh2dnZmZmYQEBDu7u4yMjJUVFTMzMyIiIi6uroAAAAs73DqAAAAAXRSTlMAQObYZgAAASVJREFU\n",
       "KM9jYMAD+C5gE2V9ACROA3H0/927rR6AxbI+r1+h7MDAUANkrwQJNDMwsP+DqDd4y7kyjYGBi4GB\n",
       "F2Qez18g/g2TYrgHFGdNYOCYAOTyfgSyv8GlXLknMHA2MLwCcZkbGBiYOhG6hIG0CUMZiMu/gYFx\n",
       "8QSYFI+qJZBOZ1gK4p7fe7coAOpsg0f6P0D2ezH0gbj3BRg4tRngBt51BtIvGMBOtgBJB8ClmPkS\n",
       "gCZBpEDujk9ASDEYgKRaQN76CiT2O6BKvWAwhXqL8RcDAyeygVFAN0K8dQIYYPMVIFLhl8GOfwQM\n",
       "Pfvfu3eBPDHjIzh4jbpBZq9j4BBAioqHCCYwoFgTkKQCEEy2C9BIwZSaBcTSCC4vkqqNQMyINQHw\n",
       "HmAAAHCOVkQeB6BvAAAAAElFTkSuQmCC\n",
       "\" style=\"display:inline;vertical-align:middle;\" /></a></td></tr>\n",
       "<tr><td>8</td><td>Literal</td><td></td><td><a class=\"ProveItLink\" href=\"../e5c030cabcb650938f92dee8256fe11cd12bf9b30/expr.ipynb\"><img src=\"data:image/png;base64,iVBORw0KGgoAAAANSUhEUgAAABMAAAANBAMAAAC5okgUAAAALVBMVEX////c3NxERETMzMwQEBCq\n",
       "qqoiIiJmZmaIiIh2dnZUVFS6uroyMjLu7u4AAACPpZJTAAAAAXRSTlMAQObYZgAAAD1JREFUCNdj\n",
       "YAABXgY44LkAZ3IvQAjPABFlaSCQV4AQjtkAZ/IegbNt5sLUpunC5aPgLMYDcCaTAJzJDCIA2yMN\n",
       "HCCUuIIAAAAASUVORK5CYII=\n",
       "\" style=\"display:inline;vertical-align:middle;\" /></a></td></tr>\n",
       "<tr><td>9</td><td>ExprTuple</td><td>11, 12</td><td><a class=\"ProveItLink\" href=\"../32fa11e0d460a97a7d19a4fd36e0b53258163d570/expr.ipynb\"><img src=\"data:image/png;base64,iVBORw0KGgoAAAANSUhEUgAAADYAAAAVBAMAAAD/UwB2AAAAMFBMVEX////c3NwiIiJERESqqqqY\n",
       "mJh2dnZmZmYQEBDu7u4yMjJUVFTMzMyIiIi6uroAAAAs73DqAAAAAXRSTlMAQObYZgAAAPtJREFU\n",
       "KM9jYMAH+C5gFWZ9ACROg1iMCAWs+3/v3ryOgaEGyF4JEuApQOjgMGBgqH/AwMXAwHsBXe48UOT8\n",
       "BgbWBAaOCehy9wUYGOITGDgbGF4xoMtZALEGUIcJQxmG3G8GBilLIJ3OsBRdjuf33euqIIYXQx+6\n",
       "HO9HBoZJG4CMFwz/0OWYG4DyX0HuxZTjB+ph/QaWa0GXOx/AwMD9BWymKZLcBJj35BcAGVFAl8Ll\n",
       "OD9BvcfTNQHsh0cMDOxKSkpNSkoGnP1ALcX/d+9eFQBStI6BQwApupDYoDADBikiepAjkO0CNI6w\n",
       "yM0CYmkEFyUFbESNcmTAe4ABAJ4xQRO/+5dLAAAAAElFTkSuQmCC\n",
       "\" style=\"display:inline;vertical-align:middle;\" /></a></td></tr>\n",
       "<tr><td>10</td><td>Literal</td><td></td><td><a class=\"ProveItLink\" href=\"../../../__pv_it/46271c8230be96415d662709611f4ed2279d702b0/expr.ipynb\"><img src=\"data:image/png;base64,iVBORw0KGgoAAAANSUhEUgAAAA0AAAAOBAMAAAAGUYvhAAAAMFBMVEX///9mZmbMzMzc3NxUVFSY\n",
       "mJju7u6IiIi6urqqqqoiIiIQEBBEREQyMjJ2dnYAAAAQvcRZAAAAAXRSTlMAQObYZgAAAElJREFU\n",
       "CNdjePvn/u01ExgYGA60s117B6YZKngh9FSWBAjfBsxnWnoMRHet/10AkS+fA6F5OB5AaIYDqDRU\n",
       "PLCGgQFoz6ktExgAgLIl8DFvGtkAAAAASUVORK5CYII=\n",
       "\" style=\"display:inline;vertical-align:middle;\" /></a></td></tr>\n",
       "<tr><td>11</td><td>Literal</td><td></td><td><a class=\"ProveItLink\" href=\"../../../__pv_it/8f1f7fac882de28c72b62ab80a1700b6d8fd066b0/expr.ipynb\"><img src=\"data:image/png;base64,iVBORw0KGgoAAAANSUhEUgAAAA4AAAAOBAMAAADtZjDiAAAAG1BMVEX///9EREQQEBAiIiJmZmbM\n",
       "zMyIiIjc3NwAAACryk5kAAAAAXRSTlMAQObYZgAAABlJREFUCNdjYGBgKGOAgBBa0s7GxkbGxoYA\n",
       "FMUF2aBfHgoAAAAASUVORK5CYII=\n",
       "\" style=\"display:inline;vertical-align:middle;\" /></a></td></tr>\n",
       "<tr><td>12</td><td>Variable</td><td></td><td><a class=\"ProveItLink\" href=\"../../../../../__pv_it/077b2ff79244fb4582cbe22c6e3356fa92a52f2f0/expr.ipynb\"><img src=\"data:image/png;base64,iVBORw0KGgoAAAANSUhEUgAAABAAAAAOBAMAAADUAYG5AAAAMFBMVEX///+qqqru7u4iIiJ2dnbc\n",
       "3NyIiIjMzMxmZmYQEBC6uroyMjJERERUVFSYmJgAAADLUcuvAAAAAXRSTlMAQObYZgAAAGpJREFU\n",
       "CNdjYGB4+//u3dMLGIBgDgMDxy8gzf4NiP8CGWxfGRj4vgAZPBMYGJgnARn8FxhY9ygAGfXX0pof\n",
       "gDTlBzAw2YIYJ0EckBBI53sHoBH/gIz7AhBjWH9DjancBLTl/N+7t/cxMAAA3u4f/5xagjYAAAAA\n",
       "SUVORK5CYII=\n",
       "\" style=\"display:inline;vertical-align:middle;\" /></a></td></tr>\n",
       "</table>\n"
      ],
      "text/plain": [
       "0. B -> ((FALSE => B) in BOOLEANS) | B in BOOLEANS\n",
       "   core type: Lambda\n",
       "   parameter: 12\n",
       "   body: 1\n",
       "   conditions: 2\\n1. (FALSE => B) in BOOLEANS\n",
       "   core type: Operation\n",
       "   operator: 6\n",
       "   operands: 3\n",
       "2. (B in BOOLEANS)\n",
       "   core type: ExprTuple\n",
       "   sub-expressions: 4\n",
       "3. (FALSE => B , BOOLEANS)\n",
       "   core type: ExprTuple\n",
       "   sub-expressions: 5, 10\n",
       "4. B in BOOLEANS\n",
       "   core type: Operation\n",
       "   operator: 6\n",
       "   operands: 7\n",
       "5. FALSE => B\n",
       "   core type: Operation\n",
       "   operator: 8\n",
       "   operands: 9\n",
       "6. in\n",
       "   core type: Literal\n",
       "   sub-expressions: \n",
       "7. (B , BOOLEANS)\n",
       "   core type: ExprTuple\n",
       "   sub-expressions: 12, 10\n",
       "8. =>\n",
       "   core type: Literal\n",
       "   sub-expressions: \n",
       "9. (FALSE , B)\n",
       "   core type: ExprTuple\n",
       "   sub-expressions: 11, 12\n",
       "10. BOOLEANS\n",
       "    core type: Literal\n",
       "    sub-expressions: \n",
       "11. FALSE\n",
       "    core type: Literal\n",
       "    sub-expressions: \n",
       "12. B\n",
       "    core type: Variable\n",
       "    sub-expressions: "
      ]
     },
     "execution_count": 4,
     "metadata": {},
     "output_type": "execute_result"
    }
   ],
   "source": [
    "# display the expression information\n",
    "expr.exprInfo()"
   ]
  },
  {
   "cell_type": "code",
   "execution_count": null,
   "metadata": {},
   "outputs": [],
   "source": []
  }
 ],
 "metadata": {
  "kernelspec": {
   "display_name": "Python 3",
   "language": "python",
   "name": "python3"
  }
 },
 "nbformat": 4,
 "nbformat_minor": 0
}
