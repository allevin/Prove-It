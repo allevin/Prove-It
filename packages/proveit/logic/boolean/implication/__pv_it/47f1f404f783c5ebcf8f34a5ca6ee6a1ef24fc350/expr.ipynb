{
 "cells": [
  {
   "cell_type": "markdown",
   "metadata": {},
   "source": [
    "Expression of type <a class=\"ProveItLink\" href=\"../../../../../../../doc/html/api/proveit.Lambda.html\">Lambda</a>\n",
    "=======================\n",
    "# from context <a class=\"ProveItLink\" href=\"../../_context_.ipynb\">proveit.logic.boolean.implication</a>"
   ]
  },
  {
   "cell_type": "code",
   "execution_count": 1,
   "metadata": {},
   "outputs": [],
   "source": [
    "# import Expression classes needed to build the expression\n",
    "from proveit import Lambda\n",
    "from proveit._common_ import A, B\n",
    "from proveit.logic import Iff, Implies, Not"
   ]
  },
  {
   "cell_type": "code",
   "execution_count": 2,
   "metadata": {},
   "outputs": [
    {
     "data": {
      "text/html": [
       "<strong id=\"expr\">expr:</strong> <a class=\"ProveItLink\" href=\"expr.ipynb\"><img src=\"data:image/png;base64,iVBORw0KGgoAAAANSUhEUgAAARgAAAAVCAMAAACquQHUAAAANlBMVEX///8UFBQNDQ2qqqru7u4i\n",
       "IiJ2dnbc3NyIiIjMzMxmZmYQEBC6uroyMjJERERUVFSYmJgAAAC3B9V0AAAAAXRSTlMAQObYZgAA\n",
       "AtBJREFUWMPVWEm24yAMTDdgZjD3v2wnz0wSkAh3Fv+zIc9KqFKhKX48ftFi8sdTdGrfQl+ng3tZ\n",
       "h7tN6w7881NMKT5X8I72Ux1pFi3IZAAFo6+nZScKU8C3/UF0O1gbrieJdpLnNItPdFaAgi8HbAnT\n",
       "wDf9wXQrrE4q75FygFI0yykSJ98WoHAe+YRjQ5gG/t6fFadGt8KqdJW1Mx2ky+Uki2QmoXKZr0Kb\n",
       "0StAgdvsg90QpoG/92cR7x3dChvyB2EpN+w8zaKeBN38TsPQXxCFwPJjRhamA3/vj5unRU+3wF4R\n",
       "J33g+G5Lo+z5mWVYAYvjD5ZOkC71UDloiygcOaYOQxamA5/4AyJvVgoA3Qz7TEWllBG9F6ifxA7C\n",
       "n8vq1Vm4a7medbFWlJVQPGMKzMOdIEwDn/ljRLfSmMqQbobNKclFXArDYwt+6zDUAS3XDbzurGeg\n",
       "gBYOtlJMwVm4D8KM6A185g8aFYdGDulm2JKSqov8v38EWLaVi6EH1uGls+jXIBFTqMragGqdjZMS\n",
       "Uyjo9AD7m4gp6A185g8OEG8dPATQzbClqfVFHI9msZ1DEub6ZH0XcyB+pVdjiWkU/kuYmT/oN/7g\n",
       "Q8B0dC9YXYSNia2EMV0bsWwlTLOw0hb6+AUhKGGJQRQ+ptKIXsGn/oAaI3BVxnQv2NL1ZfKrGqP7\n",
       "6w3nSphqkWw2+rKaPBzqMlI40U4QpoJP/ZnzWNG9YHNKattXR7UeFo+hpmtk4YVRgKOvYWNiPqYU\n",
       "dtq1Rl+d+gOyeCg4mO7rLBOuf1x+3YVxARfvLTLY5F+Xdj6P9mbCQMJCPKFQugboHh8GPLE6DM+S\n",
       "MFpndDf/fdYiI/ct4HL5pwH73l8C4usa/fEbEHbjhcWxb9lbZTaFM+oHYb4FvhiNv/na4e4qKcfv\n",
       "vnb4Dvz+knHfsrPKmB3lljDfAR9gt5RR+xb6Uhru9bm7TWsb/h+MEySftKa35gAAAABJRU5ErkJg\n",
       "gg==\n",
       "\" style=\"display:inline;vertical-align:middle;\" /></a><br>"
      ],
      "text/plain": [
       "expr: B -> [not](A <=> B) | [not](B => A)"
      ]
     },
     "execution_count": 2,
     "metadata": {},
     "output_type": "execute_result"
    }
   ],
   "source": [
    "# build up the expression from sub-expressions\n",
    "expr = Lambda(B, Not(Iff(A, B)), conditions = [Not(Implies(B, A))])"
   ]
  },
  {
   "cell_type": "code",
   "execution_count": 3,
   "metadata": {},
   "outputs": [
    {
     "name": "stdout",
     "output_type": "stream",
     "text": [
      "Passed sanity check: built 'expr' is the same as the stored Expression.\n"
     ]
    }
   ],
   "source": [
    "# check that the built expression is the same as the stored expression\n",
    "%check_expr"
   ]
  },
  {
   "cell_type": "code",
   "execution_count": 4,
   "metadata": {},
   "outputs": [
    {
     "data": {
      "text/html": [
       "<table><tr><th>&nbsp;</th><th>core type</th><th>sub-expressions</th><th>expression</th></tr>\n",
       "<tr><td>0</td><td>Lambda</td><td>parameter:&nbsp;11<br>body:&nbsp;1<br>conditions:&nbsp;2<br></td><td><a class=\"ProveItLink\" href=\"expr.ipynb\"><img src=\"data:image/png;base64,iVBORw0KGgoAAAANSUhEUgAAARgAAAAVCAMAAACquQHUAAAANlBMVEX///8UFBQNDQ2qqqru7u4i\n",
       "IiJ2dnbc3NyIiIjMzMxmZmYQEBC6uroyMjJERERUVFSYmJgAAAC3B9V0AAAAAXRSTlMAQObYZgAA\n",
       "AtBJREFUWMPVWEm24yAMTDdgZjD3v2wnz0wSkAh3Fv+zIc9KqFKhKX48ftFi8sdTdGrfQl+ng3tZ\n",
       "h7tN6w7881NMKT5X8I72Ux1pFi3IZAAFo6+nZScKU8C3/UF0O1gbrieJdpLnNItPdFaAgi8HbAnT\n",
       "wDf9wXQrrE4q75FygFI0yykSJ98WoHAe+YRjQ5gG/t6fFadGt8KqdJW1Mx2ky+Uki2QmoXKZr0Kb\n",
       "0StAgdvsg90QpoG/92cR7x3dChvyB2EpN+w8zaKeBN38TsPQXxCFwPJjRhamA3/vj5unRU+3wF4R\n",
       "J33g+G5Lo+z5mWVYAYvjD5ZOkC71UDloiygcOaYOQxamA5/4AyJvVgoA3Qz7TEWllBG9F6ifxA7C\n",
       "n8vq1Vm4a7medbFWlJVQPGMKzMOdIEwDn/ljRLfSmMqQbobNKclFXArDYwt+6zDUAS3XDbzurGeg\n",
       "gBYOtlJMwVm4D8KM6A185g8aFYdGDulm2JKSqov8v38EWLaVi6EH1uGls+jXIBFTqMragGqdjZMS\n",
       "Uyjo9AD7m4gp6A185g8OEG8dPATQzbClqfVFHI9msZ1DEub6ZH0XcyB+pVdjiWkU/kuYmT/oN/7g\n",
       "Q8B0dC9YXYSNia2EMV0bsWwlTLOw0hb6+AUhKGGJQRQ+ptKIXsGn/oAaI3BVxnQv2NL1ZfKrGqP7\n",
       "6w3nSphqkWw2+rKaPBzqMlI40U4QpoJP/ZnzWNG9YHNKattXR7UeFo+hpmtk4YVRgKOvYWNiPqYU\n",
       "dtq1Rl+d+gOyeCg4mO7rLBOuf1x+3YVxARfvLTLY5F+Xdj6P9mbCQMJCPKFQugboHh8GPLE6DM+S\n",
       "MFpndDf/fdYiI/ct4HL5pwH73l8C4usa/fEbEHbjhcWxb9lbZTaFM+oHYb4FvhiNv/na4e4qKcfv\n",
       "vnb4Dvz+knHfsrPKmB3lljDfAR9gt5RR+xb6Uhru9bm7TWsb/h+MEySftKa35gAAAABJRU5ErkJg\n",
       "gg==\n",
       "\" style=\"display:inline;vertical-align:middle;\" /></a></td></tr>\n",
       "<tr><td>1</td><td>Operation</td><td>operator:&nbsp;7<br>operand:&nbsp;3<br></td><td><a class=\"ProveItLink\" href=\"../ed0c160048ce30f4b3a9f618576865ba11ebda890/expr.ipynb\"><img src=\"data:image/png;base64,iVBORw0KGgoAAAANSUhEUgAAAF8AAAAVBAMAAADSoS/MAAAAMFBMVEX////c3NxERESqqqqYmJgQ\n",
       "EBDu7u4yMjKIiIi6urpUVFTMzMx2dnYiIiJmZmYAAABjE816AAAAAXRSTlMAQObYZgAAAYRJREFU\n",
       "OMtjYCAfcDYQVOKJwtsFofZiU+n1f9Uq9QkMfBuQBcsgVD1Ws4MYGPh+MjAUIAlxQFzEcj8Bi3ru\n",
       "H0D8i4HBB0mMFaJQ+L0AhM8OxPvgpn0EGvWHgSEVScN0CNXQPwHC6ABiJqhmBqYABgbeMCBtgNDw\n",
       "BhJUCfYOEEeAnMsIczP/AgbGIqATeB4gNJSAyUyG/RC/bI29CwTfoR7av6LjLcgg5gKGtyDxO0B2\n",
       "JFhmAoM82BAOSJhxVkI09AswsN0C8QMQUfAT7JBVq9YrAGm2IKi9ogvAlCpIE9AK7g9oGjiBoQV2\n",
       "dxbEsYwVEAXAEGXwP4CqIRjEAAYCL8RW27tgAAkm7i9AYr0BqpNUQAYCxdghhjCD3MJ2ERENjN9B\n",
       "0QoNNm4gPgfE6aAg/wYRewzEXBMQ0bAVFAzIwTqXgUEovpCBRf87RBCkWQgixaf/a9VycLCzT0BK\n",
       "GgJoyQeI09DTFHLSYDlARJ45gSV54wNsyMmbQYqwBi4UZzMSzqLdDAwAkwVfmR3rKzAAAAAASUVO\n",
       "RK5CYII=\n",
       "\" style=\"display:inline;vertical-align:middle;\" /></a></td></tr>\n",
       "<tr><td>2</td><td>ExprTuple</td><td>4</td><td><a class=\"ProveItLink\" href=\"../c800e36689dab8ba7bd736780a8d0d97c39cd5010/expr.ipynb\"><img src=\"data:image/png;base64,iVBORw0KGgoAAAANSUhEUgAAAG4AAAAVBAMAAABVkMbKAAAAMFBMVEX////c3NwiIiJERESqqqqY\n",
       "mJh2dnZmZmYQEBDu7u4yMjJUVFTMzMyIiIi6uroAAAAs73DqAAAAAXRSTlMAQObYZgAAAZxJREFU\n",
       "OMtjYCAX8F1A4rwlqJz1AQQznEYS5NkAFNz/e/fmddg1HQLiGiheiSTONQFIcBgwMNQ/wKpvPUgN\n",
       "BPMiO/MuiDgPFDm/AS42AcmN+kAOawIYcyCJM3SCiPsCDAzxCXAxJPeI1AOlOBvA+BVyEC0AkRZA\n",
       "rIEw7TVC/sJ9kPNNwLgMSR872JbfDAxSlghBNrhH+Cb4BwCpdDBeihwsIGGe33evq0KMUQKD7zDp\n",
       "eWCvM3iBcR9MHmgXB8gZvB8ZGCZtQDKNBRYpDxjkC4DUCzD+hxR1/CB9zEB/835FDv1ZfRAVu3fv\n",
       "NwCFNxhj6OMHxf035MSwDBJIfEAHLYDra0HSx+EAEgJ6kvsLkv+UoWELlGRqgLvTFEkfcwA0+uQX\n",
       "IHkP6ldGoD6uD0BGFBinw+QPAIO8ABJ9PF1IiUEK5kuQ33/C4+ERcrwrMDAU/9+9e1UAkqAhhBLu\n",
       "X8jAav8LaDIoeNcxcAggqWnEkpYPoPGh6Yw1AUksjIj8Cko/IIyRjwiAWVAsjSTGuIGwvo1QzIic\n",
       "AWUJauM9AMYAkU1ws81CDicAAAAASUVORK5CYII=\n",
       "\" style=\"display:inline;vertical-align:middle;\" /></a></td></tr>\n",
       "<tr><td>3</td><td>Operation</td><td>operator:&nbsp;5<br>operands:&nbsp;6<br></td><td><a class=\"ProveItLink\" href=\"../60a870658ecf77b4b2ca5e56543d5830b362e85b0/expr.ipynb\"><img src=\"data:image/png;base64,iVBORw0KGgoAAAANSUhEUgAAAEAAAAAPBAMAAACmSdRUAAAAMFBMVEX///92dnYQEBBERERUVFS6\n",
       "urqIiIhmZmaqqqrc3Nzu7u6YmJgyMjIiIiLMzMwAAACFkkdwAAAAAXRSTlMAQObYZgAAAQhJREFU\n",
       "GNNjYACBtwxYwJb/Li42ARD2eWwKGJQZGNi/glnc9xdgkef7BsRfwMwZ9ROgggeAYgVQNttPoNaP\n",
       "YGZCPtQqtgQgYQlVwKzAwMCrBWKxLujfABF7AyLmQBXwOzBwHgbbvZThfQLEVqW7QHD/FETBe7e0\n",
       "WojGAIb5EHtzIG6NgViYP4GB6wpYn4uLvwGIscgAopVTBUwZgRSBjGBlYGA6ABLhcocomAOxEOTD\n",
       "/QJAogHoWAWwEMddMLgJcdBvIOEPlOQEYp4PEL0tIGLtBHgwcP4BMtaAvPwLooAdqJjBFREMj4Ae\n",
       "mqx/koHb/g/EG1xAt3BCnMpu/8XF5zRG+D8AKkKNFwBxhUYQlN1g7wAAAABJRU5ErkJggg==\n",
       "\" style=\"display:inline;vertical-align:middle;\" /></a></td></tr>\n",
       "<tr><td>4</td><td>Operation</td><td>operator:&nbsp;7<br>operand:&nbsp;8<br></td><td><a class=\"ProveItLink\" href=\"../779ff1c58fe0aee92ef3c1921919f710e7728f770/expr.ipynb\"><img src=\"data:image/png;base64,iVBORw0KGgoAAAANSUhEUgAAAF8AAAAVBAMAAADSoS/MAAAAMFBMVEX////c3NxERESqqqqYmJgQ\n",
       "EBDu7u4yMjKIiIi6urpUVFTMzMx2dnYiIiJmZmYAAABjE816AAAAAXRSTlMAQObYZgAAAWJJREFU\n",
       "OMtjYCAfcDYQVOKJwtsFxF7/V61Sn4BVMfcFBga+DcgiZSAiCCj6E6sG9g9AogBJgAPkIu4fQPwL\n",
       "LsaGJO/7DUj4IAmwJoB0fWRgYPmDMDUBzmS0A0oxpCJpmA4imAIYGHjDEOGwAOEADpBLmQwQGt6A\n",
       "CP4FDIxFCGMZTsBZ05i/AEmeBwi5EhCxf0XHWwcw9+1dELgPU8A2AeQ9BuYCiMQdIDsSJN4vwMB2\n",
       "CzlszKFhzMnA+A9EBSCiAByYqiBNDkga2EohOnatWvUJFIof0DSAQtT/AJKG7ccgNFBbOJqGYBAf\n",
       "5LH1Bgg/3FWDKGAG4qtoTlKBRgPjdyQLrKC0MBDXAzELNKq5gfgcNBq2liHUM0Ll2UC0fgJqsM4F\n",
       "piL9X6uWlyBZwCQA0af6XYDB6X8dMOqREiarAJYUii6AnDRYDhCRZ05gJG/8gA05eTNIEdbAheJs\n",
       "RsJZtJuBAQDNwl47SVjYZQAAAABJRU5ErkJggg==\n",
       "\" style=\"display:inline;vertical-align:middle;\" /></a></td></tr>\n",
       "<tr><td>5</td><td>Literal</td><td></td><td><a class=\"ProveItLink\" href=\"../9817cf888369307f52607b98db5e99fdc17b089e0/expr.ipynb\"><img src=\"data:image/png;base64,iVBORw0KGgoAAAANSUhEUgAAABQAAAANBAMAAABbflNtAAAAKlBMVEX///+qqqpUVFS6urru7u4i\n",
       "IiIQEBDc3NxERESIiIhmZmbMzMwyMjIAAAAneYQxAAAAAXRSTlMAQObYZgAAAFpJREFUCNdjYEAB\n",
       "BxgYuBeAWZwTgEQ7mLkHRNSACO60UCCIPQJkznEAy9kYMLg1QPSyJzGwaEGYNUDNjKFgEA7iC4EI\n",
       "1wIQySUAJJTBqliAtrFDNW8AcoEmAgB4jw/0RzyxkgAAAABJRU5ErkJggg==\n",
       "\" style=\"display:inline;vertical-align:middle;\" /></a></td></tr>\n",
       "<tr><td>6</td><td>ExprTuple</td><td>12, 11</td><td><a class=\"ProveItLink\" href=\"../caee09fb4b5c95b986a9cee46a014afbad9bdc680/expr.ipynb\"><img src=\"data:image/png;base64,iVBORw0KGgoAAAANSUhEUgAAADUAAAAVBAMAAAAUZLt1AAAAMFBMVEX////c3NwiIiJERESqqqqY\n",
       "mJh2dnZmZmYQEBDu7u4yMjJUVFTMzMyIiIi6uroAAAAs73DqAAAAAXRSTlMAQObYZgAAATZJREFU\n",
       "KM9jYMAH+C5gFY4DEach7EMwQdb9v3dvXsfAfgDIXgkRWg/XwWHAwFD/gGEBAwMvxEhW/QkwufNA\n",
       "kfMbGMKAqiBiIvUCMLn7QFZ8AsMMBoZXEIEL9x/A5CyAWGMCA7MDQxnEsRP8A2ByvxkYpCwZGNgK\n",
       "GJaC+fPAtoABz++711WBNMsChj6wwAMG+QKoHO9HBoZJG4BGNTD8A6vdvXu/AVSOuQEo/xUo9gEi\n",
       "xwd07wKoHD9QD+s3sFwLiO/AwMDUAPMe0FHcX8BmmgK5jEA5rg8MDBNg3pMHGsK6gCEdyJ0FsuYn\n",
       "A+cnqPd4uiaA/fCIgUG4fyEDq/2vAs5+oJbi/7t3rwL5lesBA4cAUnQhsUFhxpqA4LIiR2AuIo7Q\n",
       "5ThBfpJG8JFTADfIfEbsaeIOAwMABOxNRsfkiy0AAAAASUVORK5CYII=\n",
       "\" style=\"display:inline;vertical-align:middle;\" /></a></td></tr>\n",
       "<tr><td>7</td><td>Literal</td><td></td><td><a class=\"ProveItLink\" href=\"../../../negation/__pv_it/7bea79645543c2413aa17e787cca04e21046fde60/expr.ipynb\"><img src=\"data:image/png;base64,iVBORw0KGgoAAAANSUhEUgAAAAwAAAAGBAMAAAAFwGKyAAAAFVBMVEX///9UVFTMzMx2dnYiIiJm\n",
       "ZmYAAACWz4ZEAAAAAXRSTlMAQObYZgAAABRJREFUCNdjCHEBAmcGMFDEQzEBAEl+Ai6uYJv/AAAA\n",
       "AElFTkSuQmCC\n",
       "\" style=\"display:inline;vertical-align:middle;\" /></a></td></tr>\n",
       "<tr><td>8</td><td>Operation</td><td>operator:&nbsp;9<br>operands:&nbsp;10<br></td><td><a class=\"ProveItLink\" href=\"../39edb9fe2b7411693ffcf43a9bf0fb98391840e40/expr.ipynb\"><img src=\"data:image/png;base64,iVBORw0KGgoAAAANSUhEUgAAAEAAAAAPBAMAAACmSdRUAAAAMFBMVEX///+qqqru7u4iIiJ2dnbc\n",
       "3NyIiIjMzMxmZmYQEBC6uroyMjJERERUVFSYmJgAAADLUcuvAAAAAXRSTlMAQObYZgAAAOhJREFU\n",
       "GNNjYGB4+//u3dMLGLABdgMwNYeBgeMXVgXcH8DKvgHxX7ggE5KCx59AJNtXBga+LwhdCnAmq8RX\n",
       "EMUzgYGBeRJclOsCnMnGBraZ/wID6x6ENgY3OGsR4z8QVX8trfkBWKDZGATsG2CuWQByHgNDfgAD\n",
       "ky2y26WhfuZiYP0Bok+CFD1AUsC0E6Ki9u7dPyAa5MP3DkgKqp0gNFDZbFAwgBxyXwDhBuNDEHlG\n",
       "ILaEBgPrbyQDZKF0IBDvhwZD5SaEPOsGqEtA9HkFBo7zf+/e3odkAE8ARN3J3wEMb/7vwBKDqFwA\n",
       "TPY/hyWgimwAAAAASUVORK5CYII=\n",
       "\" style=\"display:inline;vertical-align:middle;\" /></a></td></tr>\n",
       "<tr><td>9</td><td>Literal</td><td></td><td><a class=\"ProveItLink\" href=\"../e5c030cabcb650938f92dee8256fe11cd12bf9b30/expr.ipynb\"><img src=\"data:image/png;base64,iVBORw0KGgoAAAANSUhEUgAAABMAAAANBAMAAAC5okgUAAAALVBMVEX////c3NxERETMzMwQEBCq\n",
       "qqoiIiJmZmaIiIh2dnZUVFS6uroyMjLu7u4AAACPpZJTAAAAAXRSTlMAQObYZgAAAD1JREFUCNdj\n",
       "YAABXgY44LkAZ3IvQAjPABFlaSCQV4AQjtkAZ/IegbNt5sLUpunC5aPgLMYDcCaTAJzJDCIA2yMN\n",
       "HCCUuIIAAAAASUVORK5CYII=\n",
       "\" style=\"display:inline;vertical-align:middle;\" /></a></td></tr>\n",
       "<tr><td>10</td><td>ExprTuple</td><td>11, 12</td><td><a class=\"ProveItLink\" href=\"../1d9a4008d5668a743cd8f9a815871ca1c5e3cf130/expr.ipynb\"><img src=\"data:image/png;base64,iVBORw0KGgoAAAANSUhEUgAAADYAAAAVBAMAAAD/UwB2AAAAMFBMVEX////c3NwiIiJERESqqqqY\n",
       "mJh2dnZmZmYQEBDu7u4yMjJUVFTMzMyIiIi6uroAAAAs73DqAAAAAXRSTlMAQObYZgAAAS5JREFU\n",
       "KM9jYMAH+C5gFWZ9ACROA3H0/927rR4gJA4BcQ0QrwRxmhkY2P8h5NYDMRcDAy/ISJ6/QPwbYZ7+\n",
       "BCCRwMABpBh4PwLZ3+ByIvUCDAycDQyvQBzmBgYGpk643IX7ILtNGMpAHP4NDIyLJ8BdPsE/AEil\n",
       "MywF8c7vvVsUANc2j+E8yBFeDH0g3n0BBk5tuNwDBvkCIPWCAexyC5A8TCPP7t37DUCGQeRAzo9P\n",
       "gFnHwMCxACzXAlL5FUjsd4DKAWmmBrCZplDvMf4CegkkxQiU4/oAZEQBXQrx3glg2M1XAHJmgQR+\n",
       "gv3wCBiS9r937wL5ZQZQv3D/QgZW+19Ah65j4BBAipiHSGxgmLEmIPEDkNhsF6BxhEUOZK80gsuL\n",
       "HPEbQW7GniZ4DzAAAJGlTQr2mfDRAAAAAElFTkSuQmCC\n",
       "\" style=\"display:inline;vertical-align:middle;\" /></a></td></tr>\n",
       "<tr><td>11</td><td>Variable</td><td></td><td><a class=\"ProveItLink\" href=\"../../../../../__pv_it/077b2ff79244fb4582cbe22c6e3356fa92a52f2f0/expr.ipynb\"><img src=\"data:image/png;base64,iVBORw0KGgoAAAANSUhEUgAAABAAAAAOBAMAAADUAYG5AAAAMFBMVEX///+qqqru7u4iIiJ2dnbc\n",
       "3NyIiIjMzMxmZmYQEBC6uroyMjJERERUVFSYmJgAAADLUcuvAAAAAXRSTlMAQObYZgAAAGpJREFU\n",
       "CNdjYGB4+//u3dMLGIBgDgMDxy8gzf4NiP8CGWxfGRj4vgAZPBMYGJgnARn8FxhY9ygAGfXX0pof\n",
       "gDTlBzAw2YIYJ0EckBBI53sHoBH/gIz7AhBjWH9DjancBLTl/N+7t/cxMAAA3u4f/5xagjYAAAAA\n",
       "SUVORK5CYII=\n",
       "\" style=\"display:inline;vertical-align:middle;\" /></a></td></tr>\n",
       "<tr><td>12</td><td>Variable</td><td></td><td><a class=\"ProveItLink\" href=\"../../../../../__pv_it/2cbe72a7ad6f655694dd697106680215e8489b600/expr.ipynb\"><img src=\"data:image/png;base64,iVBORw0KGgoAAAANSUhEUgAAAA8AAAAOBAMAAAACpFvcAAAALVBMVEX///8QEBBERERUVFS6urqI\n",
       "iIhmZmaqqqrc3Nzu7u6YmJgyMjIiIiLMzMwAAADtIaYWAAAAAXRSTlMAQObYZgAAAFtJREFUCNdj\n",
       "YACBOwxQsA9Kc52bAGG05zVAGAFxDmCaZULdAjBjCsO9ADDDgaEvAUTzGhvbKYCVMDAwbgAxChgY\n",
       "eASANAeQwf0AyJgNxEwvGRia5HYwcOm9TgAA6BoR3jrzwFcAAAAASUVORK5CYII=\n",
       "\" style=\"display:inline;vertical-align:middle;\" /></a></td></tr>\n",
       "</table>\n"
      ],
      "text/plain": [
       "0. B -> [not](A <=> B) | [not](B => A)\n",
       "   core type: Lambda\n",
       "   parameter: 11\n",
       "   body: 1\n",
       "   conditions: 2\\n1. [not](A <=> B)\n",
       "   core type: Operation\n",
       "   operator: 7\n",
       "   operand: 3\n",
       "2. ([not](B => A))\n",
       "   core type: ExprTuple\n",
       "   sub-expressions: 4\n",
       "3. A <=> B\n",
       "   core type: Operation\n",
       "   operator: 5\n",
       "   operands: 6\n",
       "4. [not](B => A)\n",
       "   core type: Operation\n",
       "   operator: 7\n",
       "   operand: 8\n",
       "5. <=>\n",
       "   core type: Literal\n",
       "   sub-expressions: \n",
       "6. (A , B)\n",
       "   core type: ExprTuple\n",
       "   sub-expressions: 12, 11\n",
       "7. not\n",
       "   core type: Literal\n",
       "   sub-expressions: \n",
       "8. B => A\n",
       "   core type: Operation\n",
       "   operator: 9\n",
       "   operands: 10\n",
       "9. =>\n",
       "   core type: Literal\n",
       "   sub-expressions: \n",
       "10. (B , A)\n",
       "    core type: ExprTuple\n",
       "    sub-expressions: 11, 12\n",
       "11. B\n",
       "    core type: Variable\n",
       "    sub-expressions: \n",
       "12. A\n",
       "    core type: Variable\n",
       "    sub-expressions: "
      ]
     },
     "execution_count": 4,
     "metadata": {},
     "output_type": "execute_result"
    }
   ],
   "source": [
    "# display the expression information\n",
    "expr.exprInfo()"
   ]
  },
  {
   "cell_type": "code",
   "execution_count": null,
   "metadata": {},
   "outputs": [],
   "source": []
  }
 ],
 "metadata": {
  "kernelspec": {
   "display_name": "Python 3",
   "language": "python",
   "name": "python3"
  }
 },
 "nbformat": 4,
 "nbformat_minor": 0
}
