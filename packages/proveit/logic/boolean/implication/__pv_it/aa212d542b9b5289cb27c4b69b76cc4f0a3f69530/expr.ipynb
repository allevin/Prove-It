{
 "cells": [
  {
   "cell_type": "markdown",
   "metadata": {},
   "source": [
    "Theorem <a class=\"ProveItLink\" href=\"../../_theorems_.ipynb#notTrueViaContradiction\">notTrueViaContradiction</a> of type <a class=\"ProveItLink\" href=\"../../../../../../../doc/html/api/proveit.logic.Forall.html\">Forall</a>\n",
    "=======================\n",
    "# from context <a class=\"ProveItLink\" href=\"../../_context_.ipynb\">proveit.logic.boolean.implication</a>\n",
    "*** see <a class=\"ProveItLink\" href=\"dependencies.ipynb\">dependencies</a> ***"
   ]
  },
  {
   "cell_type": "code",
   "execution_count": 1,
   "metadata": {},
   "outputs": [],
   "source": [
    "# import the special expression\n",
    "from proveit.logic.boolean.implication._theorems_ import notTrueViaContradiction"
   ]
  },
  {
   "cell_type": "code",
   "execution_count": 2,
   "metadata": {},
   "outputs": [
    {
     "name": "stdout",
     "output_type": "stream",
     "text": [
      "Passed sanity check: built 'notTrueViaContradiction' is the same as the stored Expression.\n"
     ]
    }
   ],
   "source": [
    "# check that the built expression is the same as the stored expression\n",
    "%check_expr notTrueViaContradiction"
   ]
  },
  {
   "cell_type": "code",
   "execution_count": 3,
   "metadata": {},
   "outputs": [
    {
     "data": {
      "text/html": [
       "<table><tr><th>&nbsp;</th><th>core type</th><th>sub-expressions</th><th>expression</th></tr>\n",
       "<tr><td>0</td><td>Operation</td><td>operator:&nbsp;1<br>operand:&nbsp;2<br></td><td><a class=\"ProveItLink\" href=\"expr.ipynb\"><img src=\"data:image/png;base64,iVBORw0KGgoAAAANSUhEUgAAAKkAAAAXCAMAAABHy58YAAAAPFBMVEX///8LCwsYGBgNDQ0oKCgQ\n",
       "EBC6urrMzMxUVFRmZmZERETc3NwyMjKqqqp2dnaIiIiYmJgiIiLu7u4AAACwKje0AAAAAXRSTlMA\n",
       "QObYZgAAAf1JREFUSMfVV9mWpCAMpXuGJezL//9rGywVFJCeGev05MEjlUhuckNIEfLfSHyHE+bu\n",
       "bazqqjzDZzjW7imgXFSr0LJR+niHUIjEHziGYja9fiy99c46tWwEu8QHxTcYi9yCkk8BdRVZPqQ4\n",
       "TmkDqbdFwGCeQkpLZMpAUjMprZBGmuGqLOGx41SlyxGXGqgahJZIicQ8JokS7FNIodyZRWKSv9hI\n",
       "foPU4kJkK1lQokt6rgnQ6nvnqQAWl914OuoWdJbfv/ApBkgNEsPQIhYU+YqeCy++wV7XGMuU1WGr\n",
       "BDMprZEyurVUdwQeoaLn7PykvkdaBMYFSjpbMUHukPLc2hBlOM6njQEGzk9qY76BdH2jeqqcGkgX\n",
       "5otbhDsiZd/5WV0VeJv9PZbXS6D1bfT5cdxGY/YXZ0U7E/h93/mmBvkSTfkYqfR7K21fUp0TWiH1\n",
       "Kw+mgOaX7VzqIr2oETTwEVL78rgfWllfUu0qbXUpJGjvG0sRAlRbVc6v6ty2QQ2QsrBe1jTl5HmZ\n",
       "koaJpsfLPqxfpPvddfbJU4/QQ+1gEwFj9gkd9l8DM7MpvcS/1lTZh2RbHTex7uZEreNFV8LMCGdP\n",
       "E2lcW50SKfiG86Z67xr5iFF82PHU9ycp1TOX4c0wqCZSosRfplSof4B0SlT/7wSbGXA5eRfS94j4\n",
       "ITi+AFZxFymbMnmoAAAAAElFTkSuQmCC\n",
       "\" style=\"display:inline;vertical-align:middle;\" /></a></td></tr>\n",
       "<tr><td>1</td><td>Literal</td><td></td><td><a class=\"ProveItLink\" href=\"../../../quantification/universal/__pv_it/265f8c02ac1094d56e0e6410a1c1fd3500dc9f540/expr.ipynb\"><img src=\"data:image/png;base64,iVBORw0KGgoAAAANSUhEUgAAAAwAAAAQBAMAAADQT4M0AAAAMFBMVEX///8QEBC6urrMzMxUVFRm\n",
       "ZmZERETc3NwyMjKqqqp2dnaIiIiYmJgiIiLu7u4AAAAU9Wx4AAAAAXRSTlMAQObYZgAAAFhJREFU\n",
       "CNdjeMAABhdAxGmGlSCqj6EMSLInMHAAJVknMPAsLy+vBYp8S0u7BaScGRjSgZQKA18DkOJl4D4A\n",
       "pLgP8IJM4mswARuX7gSmpoKNZWDcAKZ4gCoAgTQTILaSE58AAAAASUVORK5CYII=\n",
       "\" style=\"display:inline;vertical-align:middle;\" /></a></td></tr>\n",
       "<tr><td>2</td><td>Lambda</td><td>parameter:&nbsp;11<br>body:&nbsp;3<br>conditions:&nbsp;4<br></td><td><a class=\"ProveItLink\" href=\"../156c420501b3461a5191754c8a762d030dd612190/expr.ipynb\"><img src=\"data:image/png;base64,iVBORw0KGgoAAAANSUhEUgAAANIAAAAVCAMAAAAEqkB8AAAAP1BMVEX///8LCwsYGBgoKCh2dnYU\n",
       "FBQNDQ0QEBBERERUVFS6urqIiIhmZmaqqqrc3Nzu7u6YmJgyMjIiIiLMzMwAAAAZdqEIAAAAAXRS\n",
       "TlMAQObYZgAAAddJREFUWMPNV+t6wiAM7WYndyiX93/Wra61AUzIpm7mh5+fck5ySAhhml7EnP9f\n",
       "/9owFs14kIvuV+snxJkTe6Vi4Hw8vtsETK4/ZJYkfkirw36fY+GCY2DgVBdjtgDEksQPqaHfiiGV\n",
       "wMMaw8D5SPpcZoYkLKTAk+SdLcwTKgID1yep8hnEWBIaUgwsSWYyhXdCdWTgshz4lG4oCQ1JK44k\n",
       "HSZXFqzWHfRvZwJ3jTgPfM52JAmjXhebsaTwRZgLWNi0GgVSHRcCZ+PFTuf1UxE+XRxIaqmrrlns\n",
       "UNLK5+G6RlJQR1ELTeCIJNU+tRhIwqj3HdG0pKxWK6D+zx+pMnFUNajvHscu9lxoSRj1dZOj0JSk\n",
       "7z9FRLMEGxiQ1OO22vR3S8Kod3icA0W/Hf4kUEkWxCgcgbtU/PvbMSf8svB66uosJRnIHfOuv6tr\n",
       "SRl2GLkQOCJJtaSFbA8o9SZY0fRhJ5fgrjb4db2335s4/CT9pImj1OhkAum9FOWyq4ssJVrOVZsG\n",
       "OCRJU4YXWtuxgKRhSLJxsNWkuFXtzIGIHpwcZ184AxE+oD78FdKNnLUlzvTb3f9PeS/xLYa7k8R7\n",
       "XPydeXVvkpR/MUm3HpDNHTl4cfWnwTxM0ifB1B4S2EFmmwAAAABJRU5ErkJggg==\n",
       "\" style=\"display:inline;vertical-align:middle;\" /></a></td></tr>\n",
       "<tr><td>3</td><td>Operation</td><td>operator:&nbsp;5<br>operands:&nbsp;6<br></td><td><a class=\"ProveItLink\" href=\"../42828bc6a94ba0c4dd58461c71196475bca119e90/expr.ipynb\"><img src=\"data:image/png;base64,iVBORw0KGgoAAAANSUhEUgAAADoAAAAUCAMAAADrw95cAAAAPFBMVEX///8LCwsYGBgNDQ0oKCh2\n",
       "dnYQEBBERERUVFS6urqIiIhmZmaqqqrc3Nzu7u6YmJgyMjIiIiLMzMwAAAAhTRy8AAAAAXRSTlMA\n",
       "QObYZgAAALNJREFUOMvFk8kOwyAMRN0lYTWb//9fWxJVIeDEUS6dAyA0j2ExAJImFC1QMjeLaRu7\n",
       "3Eg1pkQcqs0Q4fqZmCmchx6h6B3hldARtWCJsSkQURPAUxxsqoho+AYWsttdpkXvV231KVq3iuSu\n",
       "hHZo0VXUH8xoENH1fub+IRKKqF+7PO/r5vkY66ZD0fPlxIe2aPjtU+3LiT9pg6KaaVk+KqLk5FAo\n",
       "k/SRvIO7yuEu+ZdQMKLjA8BtCOWQWuqjAAAAAElFTkSuQmCC\n",
       "\" style=\"display:inline;vertical-align:middle;\" /></a></td></tr>\n",
       "<tr><td>4</td><td>ExprTuple</td><td>7</td><td><a class=\"ProveItLink\" href=\"../423e00f76e883eddf33ec9c3df010c9de4c903190/expr.ipynb\"><img src=\"data:image/png;base64,iVBORw0KGgoAAAANSUhEUgAAAEwAAAAVBAMAAAAeOBUnAAAAMFBMVEX////c3NwiIiJERESqqqqY\n",
       "mJh2dnZmZmYQEBDu7u4yMjJUVFTMzMyIiIi6uroAAAAs73DqAAAAAXRSTlMAQObYZgAAAQ5JREFU\n",
       "KM9jYCAS8F0gpIL1AZA4DWEfwqqCEWxGDRCvhAisx6qMpwBEcjEw8ELsZNWfAJfjRFfGmsDAAZEW\n",
       "qReAy3FNQFPG2cDwCsK/cP8BwlMb0JQxmDCUQWQm+AcgrMpFV5bOsBRMz2M4D3ZjkRII6BegKfNi\n",
       "6APTDxjkC5A86PUAVdkLhn9g3u7d+w2QlHGueICi7DxEGR8DA8cCJGWnMhnQlLWAKAcGBqYGhNuU\n",
       "LBnQLTUFRQlQGdcHhGHe6D6NAvqVgWEWEDP/RETkAswAecTAINy/kIHV/hfcq8zQCGEHWt+kpAT0\n",
       "2zoGDgHM+EYXAEYWMFoJArYL8ISED4DcLk1Y2UZ4AsUHeA8wAADkNT31Xiw/NwAAAABJRU5ErkJg\n",
       "gg==\n",
       "\" style=\"display:inline;vertical-align:middle;\" /></a></td></tr>\n",
       "<tr><td>5</td><td>Literal</td><td></td><td><a class=\"ProveItLink\" href=\"../../../../equality/__pv_it/43637204f35b46c076ae787093288c6a879642310/expr.ipynb\"><img src=\"data:image/png;base64,iVBORw0KGgoAAAANSUhEUgAAAA4AAAAUCAMAAACK2/weAAAAM1BMVEX///8LCwsYGBgNDQ0oKCju\n",
       "7u4iIiJmZmaqqqpERETMzMy6urpUVFQyMjLc3Nx2dnYAAAB8DqOrAAAAAXRSTlMAQObYZgAAAE5J\n",
       "REFUGNNjYEAAfj4kDgMfLzKPgYebaEkuThRJTi4wxc4LBizMIJIHTRIKuHlQdPLCHMTOBgRMjGxg\n",
       "wIkmiVcnGHCwo0iysRItyYDsMQCO9QJkhxsUAQAAAABJRU5ErkJggg==\n",
       "\" style=\"display:inline;vertical-align:middle;\" /></a></td></tr>\n",
       "<tr><td>6</td><td>ExprTuple</td><td>11, 8</td><td><a class=\"ProveItLink\" href=\"../../../__pv_it/6fa03ec90c111207cbc23d0663de8c4eab88bb8d0/expr.ipynb\"><img src=\"data:image/png;base64,iVBORw0KGgoAAAANSUhEUgAAADUAAAAVBAMAAAAUZLt1AAAAMFBMVEX////c3NwiIiJERESqqqqY\n",
       "mJh2dnZmZmYQEBDu7u4yMjJUVFTMzMyIiIi6uroAAAAs73DqAAAAAXRSTlMAQObYZgAAAOtJREFU\n",
       "KM9jYMAH+C5gFY4DEach7ENQsSIlEFBmYD8A5KyEiK1HaDkOJhcwMPBCjGTVn4AmF8bAwAERE6kX\n",
       "QJObwcDwCsK/cP8BmhyzA0MZxLET/APQ5NgKGJaCGfMYzl9Ak2NZwNAHZjxgkC9Ak+NrYPgHonl2\n",
       "795vgCbH8wEixwd07wJMuRYQ7cDAwNSAaaYpkGIEynF9YGCYgCzHuoAhHUjNAnnnJwPnJzQ/PGJg\n",
       "EO5fyMBq/6uAsx8SNsfAJNcDBg4BpOhCYoPCjDUBwWVFjsBcRByhy3GC/CSN4COnAG6Q+YzY08Qd\n",
       "BgYAF+g6uPnH9U4AAAAASUVORK5CYII=\n",
       "\" style=\"display:inline;vertical-align:middle;\" /></a></td></tr>\n",
       "<tr><td>7</td><td>Operation</td><td>operator:&nbsp;9<br>operands:&nbsp;10<br></td><td><a class=\"ProveItLink\" href=\"../../../__pv_it/31eb47017a646663b6ffc27e27c315ea0661b7180/expr.ipynb\"><img src=\"data:image/png;base64,iVBORw0KGgoAAAANSUhEUgAAAD8AAAAPBAMAAAChCwpBAAAAMFBMVEX///92dnYQEBBERERUVFS6\n",
       "urqIiIhmZmaqqqrc3Nzu7u6YmJgyMjIiIiLMzMwAAACFkkdwAAAAAXRSTlMAQObYZgAAAKhJREFU\n",
       "GNNjYACBtwzYAGcCnHkeqwK+AhiL+/4CuCgXNgUz6ifARXkWYFGQkB8AF2V1wFTAuqB/A8JgMUwF\n",
       "Sxneg91bexcE7hdgKAhgmF+A5PieADQFfC4u/gZICrgOBaAqYGVgYDqApOCNFJoJDQwMvAoIN9y1\n",
       "QnMDJ1ABzweEAS3ovlgDxMy/EBFwAE3BZP2TDNz2f+DeYIYGKjvQMt27dw0wYwiNDwDqnDFBsIEk\n",
       "9AAAAABJRU5ErkJggg==\n",
       "\" style=\"display:inline;vertical-align:middle;\" /></a></td></tr>\n",
       "<tr><td>8</td><td>Literal</td><td></td><td><a class=\"ProveItLink\" href=\"../../../__pv_it/68a87cc3370287d726c7086ace789e680e4461c30/expr.ipynb\"><img src=\"data:image/png;base64,iVBORw0KGgoAAAANSUhEUgAAAA4AAAAOBAMAAADtZjDiAAAAFVBMVEX///92dnbMzMxEREQiIiJm\n",
       "ZmYAAABAT6GXAAAAAXRSTlMAQObYZgAAABhJREFUCNdjCHEBAWcGIFBlgABa0YpADAAxegPJJk4d\n",
       "XAAAAABJRU5ErkJggg==\n",
       "\" style=\"display:inline;vertical-align:middle;\" /></a></td></tr>\n",
       "<tr><td>9</td><td>Literal</td><td></td><td><a class=\"ProveItLink\" href=\"../e5c030cabcb650938f92dee8256fe11cd12bf9b30/expr.ipynb\"><img src=\"data:image/png;base64,iVBORw0KGgoAAAANSUhEUgAAABMAAAANBAMAAAC5okgUAAAALVBMVEX////c3NxERETMzMwQEBCq\n",
       "qqoiIiJmZmaIiIh2dnZUVFS6uroyMjLu7u4AAACPpZJTAAAAAXRSTlMAQObYZgAAAD1JREFUCNdj\n",
       "YAABXgY44LkAZ3IvQAjPABFlaSCQV4AQjtkAZ/IegbNt5sLUpunC5aPgLMYDcCaTAJzJDCIA2yMN\n",
       "HCCUuIIAAAAASUVORK5CYII=\n",
       "\" style=\"display:inline;vertical-align:middle;\" /></a></td></tr>\n",
       "<tr><td>10</td><td>ExprTuple</td><td>11, 12</td><td><a class=\"ProveItLink\" href=\"../../../__pv_it/cabd8bc3982b14b9707e18c2e8918f8e5aaad0040/expr.ipynb\"><img src=\"data:image/png;base64,iVBORw0KGgoAAAANSUhEUgAAADUAAAAVBAMAAAAUZLt1AAAAMFBMVEX////c3NwiIiJERESqqqqY\n",
       "mJh2dnZmZmYQEBDu7u4yMjJUVFTMzMyIiIi6uroAAAAs73DqAAAAAXRSTlMAQObYZgAAAO1JREFU\n",
       "KM9jYMAH+C5gFY4DEach7EMIYVkQwX4ASKyECKxHyB0HkwsYGHghRrLqT0CTC2Ng4ICIidQLoMnN\n",
       "YGB4BeFfuP8ATY7ZgaEM4tgJ/gFocmwFDEvBjHkM5y+gybEsYOgDMx4wyBegyfE1MPwD0Ty7d+83\n",
       "QJPj+QCR4wO6dwGmXAuIdmBgYGrANNMUSDEC5bg+MDBMQJZjXcCQDqRmgbzzk4HzE5ofHjEwCPcv\n",
       "ZGC1/1XA2Q8MmyIlJQ0lJWWgQQ8YOASQoguJDQoz1gQElxU5AnMRcYQuxwnykzSCj5wCuEHmM2JP\n",
       "E3cYGAAdNjoVaLAEowAAAABJRU5ErkJggg==\n",
       "\" style=\"display:inline;vertical-align:middle;\" /></a></td></tr>\n",
       "<tr><td>11</td><td>Variable</td><td></td><td><a class=\"ProveItLink\" href=\"../../../../../__pv_it/2cbe72a7ad6f655694dd697106680215e8489b600/expr.ipynb\"><img src=\"data:image/png;base64,iVBORw0KGgoAAAANSUhEUgAAAA8AAAAOBAMAAAACpFvcAAAALVBMVEX///8QEBBERERUVFS6urqI\n",
       "iIhmZmaqqqrc3Nzu7u6YmJgyMjIiIiLMzMwAAADtIaYWAAAAAXRSTlMAQObYZgAAAFtJREFUCNdj\n",
       "YACBOwxQsA9Kc52bAGG05zVAGAFxDmCaZULdAjBjCsO9ADDDgaEvAUTzGhvbKYCVMDAwbgAxChgY\n",
       "eASANAeQwf0AyJgNxEwvGRia5HYwcOm9TgAA6BoR3jrzwFcAAAAASUVORK5CYII=\n",
       "\" style=\"display:inline;vertical-align:middle;\" /></a></td></tr>\n",
       "<tr><td>12</td><td>Literal</td><td></td><td><a class=\"ProveItLink\" href=\"../../../__pv_it/8f1f7fac882de28c72b62ab80a1700b6d8fd066b0/expr.ipynb\"><img src=\"data:image/png;base64,iVBORw0KGgoAAAANSUhEUgAAAA4AAAAOBAMAAADtZjDiAAAAG1BMVEX///9EREQQEBAiIiJmZmbM\n",
       "zMyIiIjc3NwAAACryk5kAAAAAXRSTlMAQObYZgAAABlJREFUCNdjYGBgKGOAgBBa0s7GxkbGxoYA\n",
       "FMUF2aBfHgoAAAAASUVORK5CYII=\n",
       "\" style=\"display:inline;vertical-align:middle;\" /></a></td></tr>\n",
       "</table>\n"
      ],
      "text/plain": [
       "0. forall_{A | A => FALSE} (A != TRUE)\n",
       "   core type: Operation\n",
       "   operator: 1\n",
       "   operand: 2\n",
       "1. forall\n",
       "   core type: Literal\n",
       "   sub-expressions: \n",
       "2. A -> (A != TRUE) | A => FALSE\n",
       "   core type: Lambda\n",
       "   parameter: 11\n",
       "   body: 3\n",
       "   conditions: 4\\n3. A != TRUE\n",
       "   core type: Operation\n",
       "   operator: 5\n",
       "   operands: 6\n",
       "4. (A => FALSE)\n",
       "   core type: ExprTuple\n",
       "   sub-expressions: 7\n",
       "5. !=\n",
       "   core type: Literal\n",
       "   sub-expressions: \n",
       "6. (A , TRUE)\n",
       "   core type: ExprTuple\n",
       "   sub-expressions: 11, 8\n",
       "7. A => FALSE\n",
       "   core type: Operation\n",
       "   operator: 9\n",
       "   operands: 10\n",
       "8. TRUE\n",
       "   core type: Literal\n",
       "   sub-expressions: \n",
       "9. =>\n",
       "   core type: Literal\n",
       "   sub-expressions: \n",
       "10. (A , FALSE)\n",
       "    core type: ExprTuple\n",
       "    sub-expressions: 11, 12\n",
       "11. A\n",
       "    core type: Variable\n",
       "    sub-expressions: \n",
       "12. FALSE\n",
       "    core type: Literal\n",
       "    sub-expressions: "
      ]
     },
     "execution_count": 3,
     "metadata": {},
     "output_type": "execute_result"
    }
   ],
   "source": [
    "# display the expression information\n",
    "notTrueViaContradiction.exprInfo()"
   ]
  },
  {
   "cell_type": "code",
   "execution_count": null,
   "metadata": {},
   "outputs": [],
   "source": []
  }
 ],
 "metadata": {
  "kernelspec": {
   "display_name": "Python 3",
   "language": "python",
   "name": "python3"
  }
 },
 "nbformat": 4,
 "nbformat_minor": 0
}
