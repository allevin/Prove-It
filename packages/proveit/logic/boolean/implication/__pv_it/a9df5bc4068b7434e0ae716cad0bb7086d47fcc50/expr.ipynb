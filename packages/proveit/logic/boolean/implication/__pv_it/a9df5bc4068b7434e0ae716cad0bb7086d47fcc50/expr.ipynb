{
 "cells": [
  {
   "cell_type": "markdown",
   "metadata": {},
   "source": [
    "Expression of type <a class=\"ProveItLink\" href=\"../../../../../../../doc/html/api/proveit.Lambda.html\">Lambda</a>\n",
    "=======================\n",
    "# from context <a class=\"ProveItLink\" href=\"../../_context_.ipynb\">proveit.logic.boolean.implication</a>"
   ]
  },
  {
   "cell_type": "code",
   "execution_count": 1,
   "metadata": {},
   "outputs": [],
   "source": [
    "# import Expression classes needed to build the expression\n",
    "from proveit import Lambda\n",
    "from proveit._common_ import B\n",
    "from proveit.logic import Booleans, Implies, InSet, TRUE"
   ]
  },
  {
   "cell_type": "code",
   "execution_count": 2,
   "metadata": {},
   "outputs": [
    {
     "data": {
      "text/html": [
       "<strong id=\"expr\">expr:</strong> <a class=\"ProveItLink\" href=\"expr.ipynb\"><img src=\"data:image/png;base64,iVBORw0KGgoAAAANSUhEUgAAAQgAAAAVCAMAAACNF4A8AAAANlBMVEX///8UFBQNDQ2qqqru7u4i\n",
       "IiJ2dnbc3NyIiIjMzMxmZmYQEBC6uroyMjJERERUVFSYmJgAAAC3B9V0AAAAAXRSTlMAQObYZgAA\n",
       "AnxJREFUWMPdWNuO6zAI9Dm+28GX///ZTbeJYhxc0/VKlZYXqmo6hIkBUyH+hEn7ocCbw37NyrYK\n",
       "N9uvpFVyrXm3BEw+n1sfdGPpJxGDf4k2UBNUiDpJQcM7IXgJ9bQPi8/nD5WnBCjsv0UJb4mPI8IE\n",
       "nR5nT4EyRpDw24ngJdTR7klUd/jMScI57CdCKOpM4YjFMIQQbjskuMF7IZgJdbT7x/psNqUa1ttU\n",
       "2E+EAEKJLqKKWDoHjzKD7ollEVkR8LsQdEIz2v2Lg1hHxemUgP1MiI14K33Epkx3KiiKfnX2aEEI\n",
       "TghBJjSnFc8DZCFdQFyGsg0cDPbTHmHus6WPaJpf26TIM+x1oeCUEERCHNq9kpxzQZcGo/FPckMC\n",
       "BXtSCDRKari1iC6ibIRPlirmnaVGR8AJIaiEOLRHRSmdh0KofNHEDXvG1JDdHLtF3K6qV2nY1ZxM\n",
       "NzglBJUQh/asKFcvCf//08jiNYjOT5UvxD6jkGy3iL5eLSWeMfuu9nCmh1NCUAlxaM8Z0/bY7kSI\n",
       "fIX6gRAejLrXcBOxyczn0avbnUgcIaiEGLT+1C1XORIiNAUWJfbzHqG7PnWP2JaGngvxujTIhBi0\n",
       "59C1FUY9wrd9PxXspydC5sEt4opYmtC5jJ/4OMPlZbMkE2LQHhXlY3vzcePL4Tm78AwbC2FhcIto\n",
       "IrZcSm/0E5fgEmd8kglNaUN6LigAhbt6auwPIYaX0n5uURHRVLGA16rndpR0zJKCd0IME5rTvmvR\n",
       "Yj/bVeeQ/s4sM6D2PoFz1/AJ7ftruxGCsyrxzbg1+C/9H/G2UWv4iilYhH9KCJuxX7VsF+GfEkJY\n",
       "h/2aOb8Kd8tCfAGIRSU3IZYslQAAAABJRU5ErkJggg==\n",
       "\" style=\"display:inline;vertical-align:middle;\" /></a><br>"
      ],
      "text/plain": [
       "expr: B -> ((TRUE => B) in BOOLEANS) | B in BOOLEANS"
      ]
     },
     "execution_count": 2,
     "metadata": {},
     "output_type": "execute_result"
    }
   ],
   "source": [
    "# build up the expression from sub-expressions\n",
    "expr = Lambda(B, InSet(Implies(TRUE, B), Booleans), conditions = [InSet(B, Booleans)])"
   ]
  },
  {
   "cell_type": "code",
   "execution_count": 3,
   "metadata": {},
   "outputs": [
    {
     "name": "stdout",
     "output_type": "stream",
     "text": [
      "Passed sanity check: built 'expr' is the same as the stored Expression.\n"
     ]
    }
   ],
   "source": [
    "# check that the built expression is the same as the stored expression\n",
    "%check_expr"
   ]
  },
  {
   "cell_type": "code",
   "execution_count": 4,
   "metadata": {},
   "outputs": [
    {
     "data": {
      "text/html": [
       "<table><tr><th>&nbsp;</th><th>core type</th><th>sub-expressions</th><th>expression</th></tr>\n",
       "<tr><td>0</td><td>Lambda</td><td>parameter:&nbsp;12<br>body:&nbsp;1<br>conditions:&nbsp;2<br></td><td><a class=\"ProveItLink\" href=\"expr.ipynb\"><img src=\"data:image/png;base64,iVBORw0KGgoAAAANSUhEUgAAAQgAAAAVCAMAAACNF4A8AAAANlBMVEX///8UFBQNDQ2qqqru7u4i\n",
       "IiJ2dnbc3NyIiIjMzMxmZmYQEBC6uroyMjJERERUVFSYmJgAAAC3B9V0AAAAAXRSTlMAQObYZgAA\n",
       "AnxJREFUWMPdWNuO6zAI9Dm+28GX///ZTbeJYhxc0/VKlZYXqmo6hIkBUyH+hEn7ocCbw37NyrYK\n",
       "N9uvpFVyrXm3BEw+n1sfdGPpJxGDf4k2UBNUiDpJQcM7IXgJ9bQPi8/nD5WnBCjsv0UJb4mPI8IE\n",
       "nR5nT4EyRpDw24ngJdTR7klUd/jMScI57CdCKOpM4YjFMIQQbjskuMF7IZgJdbT7x/psNqUa1ttU\n",
       "2E+EAEKJLqKKWDoHjzKD7ollEVkR8LsQdEIz2v2Lg1hHxemUgP1MiI14K33Epkx3KiiKfnX2aEEI\n",
       "TghBJjSnFc8DZCFdQFyGsg0cDPbTHmHus6WPaJpf26TIM+x1oeCUEERCHNq9kpxzQZcGo/FPckMC\n",
       "BXtSCDRKari1iC6ibIRPlirmnaVGR8AJIaiEOLRHRSmdh0KofNHEDXvG1JDdHLtF3K6qV2nY1ZxM\n",
       "NzglBJUQh/asKFcvCf//08jiNYjOT5UvxD6jkGy3iL5eLSWeMfuu9nCmh1NCUAlxaM8Z0/bY7kSI\n",
       "fIX6gRAejLrXcBOxyczn0avbnUgcIaiEGLT+1C1XORIiNAUWJfbzHqG7PnWP2JaGngvxujTIhBi0\n",
       "59C1FUY9wrd9PxXspydC5sEt4opYmtC5jJ/4OMPlZbMkE2LQHhXlY3vzcePL4Tm78AwbC2FhcIto\n",
       "IrZcSm/0E5fgEmd8kglNaUN6LigAhbt6auwPIYaX0n5uURHRVLGA16rndpR0zJKCd0IME5rTvmvR\n",
       "Yj/bVeeQ/s4sM6D2PoFz1/AJ7ftruxGCsyrxzbg1+C/9H/G2UWv4iilYhH9KCJuxX7VsF+GfEkJY\n",
       "h/2aOb8Kd8tCfAGIRSU3IZYslQAAAABJRU5ErkJggg==\n",
       "\" style=\"display:inline;vertical-align:middle;\" /></a></td></tr>\n",
       "<tr><td>1</td><td>Operation</td><td>operator:&nbsp;6<br>operands:&nbsp;3<br></td><td><a class=\"ProveItLink\" href=\"../8a0d9e8704a409b674609825a3da7c6ca5a9bb190/expr.ipynb\"><img src=\"data:image/png;base64,iVBORw0KGgoAAAANSUhEUgAAAHYAAAAVBAMAAABh6QfWAAAAMFBMVEX////c3NwiIiJERESqqqqY\n",
       "mJh2dnZmZmYQEBDu7u4yMjJUVFTMzMyIiIi6uroAAAAs73DqAAAAAXRSTlMAQObYZgAAAZdJREFU\n",
       "OMtjYKAE8F0gqIT1AQ6J0wzsSmBggEXT/t+7N69jYKhBFWZbb/WryQTIWAni8RRgN5gDaGD9AwYu\n",
       "NGFmvguzpiUw8F7A1DsBzjoPlD2/gYE1AUMv74MFDBwTMPWuhLPuCzAwxCcwcDZAuHMXKWlB9bIE\n",
       "7GR4xYCp9zWcZQHEGkDTTSCqlk5A2PvQgKEMi142eND/ZmCQsgTS6WCe8ASEmw8FT2BYiqIXGuTf\n",
       "oWp4ft+9rgpieIG5hgj/Kv3vZWDow2IvA8s6CM37kYFh0gYg4wWIx2mAHFZXDBj+YdPLMAtiJDMw\n",
       "jHi/gsIbnIqagE6ChRWDwTPsenmWQXzGD7ST9RtML88GJHsZDJgZWrD5VxkaKOcDGBi4v8DdrICm\n",
       "1xSLvSwbkKJXfgGQEQXmbkXR+wwa+qh6pZCil6drAjyOJj1A6GWtNWB4BNGLkuhgcVH8f/fuVQEg\n",
       "FiTcGZcfgOWFzxpbgKldADMHHEAXgKVJll2QcIZlswQi8jgbjjy+kgi9s3CISxOhdyMOcUbCZQ7v\n",
       "AazCAM4wbshGT5R0AAAAAElFTkSuQmCC\n",
       "\" style=\"display:inline;vertical-align:middle;\" /></a></td></tr>\n",
       "<tr><td>2</td><td>ExprTuple</td><td>4</td><td><a class=\"ProveItLink\" href=\"../bc5716cbdf8baf72c53055975f591c5351b6b51c0/expr.ipynb\"><img src=\"data:image/png;base64,iVBORw0KGgoAAAANSUhEUgAAAEQAAAAVBAMAAAAN71XTAAAAMFBMVEX////c3NwiIiJERESqqqqY\n",
       "mJh2dnZmZmYQEBDu7u4yMjJUVFTMzMyIiIi6uroAAAAs73DqAAAAAXRSTlMAQObYZgAAAUpJREFU\n",
       "KM9jYCAC8F3AJ8v6AEicBuLo/7t3Wz1Akcv6vH6FsgMDQw2QvRIk0MzAwP4PVb/BW86VaQwMXAwM\n",
       "vCB7eP4C8W90JQz3gPKsCQwcE4Bc3o9A9jewzNxFSlowJa7cExg4GxhegbjMDQwMTJ0gFs/SCUim\n",
       "CANpE4YyEJd/AwPjYrCc8ASERTyqlkA6nWEpiHt+792iALCEIcItj/R/gNzpxdAH4t4XYODUBjE4\n",
       "DZCde9cZSL9gAHvVAqQMZAxfk5ISwrnMfAlAGyBKQP6NTwC5dgOyKcwMBiAlLSCJr0BivwPIIgUM\n",
       "JS8YTKHBwvgLLLEVRQnIoiignyDBcgIcEQyTHiApCb8M9vQjYOzY/969aylEgnH5AXg0GnWD7F7H\n",
       "wCGAGjUsu6A+ggJgBLAm4E9ObBegiQE3mAXE0viVbAQ5EG/C5D3AAABDX1zcyGO8iwAAAABJRU5E\n",
       "rkJggg==\n",
       "\" style=\"display:inline;vertical-align:middle;\" /></a></td></tr>\n",
       "<tr><td>3</td><td>ExprTuple</td><td>5, 10</td><td><a class=\"ProveItLink\" href=\"../061e057f6b495fdbea3b7237980c14581eefb2520/expr.ipynb\"><img src=\"data:image/png;base64,iVBORw0KGgoAAAANSUhEUgAAAGUAAAAVBAMAAACtcD09AAAAMFBMVEX////c3NwiIiJERESqqqqY\n",
       "mJh2dnZmZmYQEBDu7u4yMjJUVFTMzMyIiIi6uroAAAAs73DqAAAAAXRSTlMAQObYZgAAAYBJREFU\n",
       "OMtjYCAH8F0gSXkciDjNwFCkBALKmApY9//evXkdmMm23upXkwkDA/sBIGclWOg4dlM5DBgY6h+A\n",
       "mcx8F2ZNS2BgWMDAwHsBU88EOOs8UPb8Bpge3gdADWFAkyZg6lkJZ90XYGCIT4DpYQnYycAwg4Hh\n",
       "FQOmntdwlgUQa0yA2/MQ6FRmB4YyLHrY4EH5m4FBypIBpudQMFA7WwHDUhQ97OAQVPoO1cLz++51\n",
       "VQaYHqX/vUCaZQFDHxZ7GFgg4cvA+5GBYdIGuD28V4Bu42tg+IdND8MsiFHMDUB9X+F6GAyeAe3+\n",
       "gF0PzzKIv/mBdrB+Q9LDDNbTgs0/ytAYOh/AwMD9BVUP0G2mWOxh2YAUPfILIJEMcxvrAoZ0LHqk\n",
       "kKKHp2sCA+cniB7WWgNwWD+CyB5D1mMIpYv/7969Cug8zn4BUBr9rLEFKMj1gIFDADNlHsDIL0iK\n",
       "gGmHNYGITMOKxM5FSZBE6eEEBgmDNBF6kLIyN8iZjKTl7TsMDABM/WvSq6w3agAAAABJRU5ErkJg\n",
       "gg==\n",
       "\" style=\"display:inline;vertical-align:middle;\" /></a></td></tr>\n",
       "<tr><td>4</td><td>Operation</td><td>operator:&nbsp;6<br>operands:&nbsp;7<br></td><td><a class=\"ProveItLink\" href=\"../41a86ef0ff9417c73c472e1bdfa161b308e2753e0/expr.ipynb\"><img src=\"data:image/png;base64,iVBORw0KGgoAAAANSUhEUgAAADcAAAAPBAMAAACy3Eq1AAAAMFBMVEX///+qqqru7u4iIiJ2dnbc\n",
       "3NyIiIjMzMxmZmYQEBC6uroyMjJERERUVFSYmJgAAADLUcuvAAAAAXRSTlMAQObYZgAAAOZJREFU\n",
       "GNNjYGB4+//u3dMLGJCB95/9O20EwMw5DAwcv1AkGQ4sY9rkAmKwfwPiv+iSDFncIAbbVwYGvi9g\n",
       "MbXNxtYwSTleBSCDZwIDA/MksBn7FJB0xoAY/BcYWPeARWMUEMay2x0CMeqvpTU/AAsdRdi52P5n\n",
       "AoiRH8DAZAtiMB1AdlCaDIhxEqQApJVrsrExwkE8XA5ABsgX70EM9gvIOnkYgAax/wNy7oOCg8kA\n",
       "QxLkTdbfYKF7KJIgY0HerNwEFlJegCT5IgcYquf/3r29DyLEuqMAHvCH5wqghigD422oayEAAEv1\n",
       "Sz0foy5uAAAAAElFTkSuQmCC\n",
       "\" style=\"display:inline;vertical-align:middle;\" /></a></td></tr>\n",
       "<tr><td>5</td><td>Operation</td><td>operator:&nbsp;8<br>operands:&nbsp;9<br></td><td><a class=\"ProveItLink\" href=\"../4cd00297b289889ed5a94e56c71f882ab47904c90/expr.ipynb\"><img src=\"data:image/png;base64,iVBORw0KGgoAAAANSUhEUgAAAEAAAAAPBAMAAACmSdRUAAAAMFBMVEX///+YmJjc3NwQEBCqqqqI\n",
       "iIhUVFS6uroyMjLu7u52dnbMzMxEREQiIiJmZmYAAAB9sQEkAAAAAXRSTlMAQObYZgAAAK5JREFU\n",
       "GNNjeHsXBO4wYAKx/2lpJwpArH0M2IENAwPfdwwFnHAW91cg/oahgGMCjMX6iYGB8ReGAvYEGIvH\n",
       "gIGB1xLTDUthDP4EBqaeCcgKIB66/wDK3Z8a+laAAYsvPAogdLwCA+c1bAo4myEqDoMUCWBRsGMl\n",
       "hAb5UH4BphvunoQGw0cgke+AaYIbUjAw/cB0A1MDUjBs7gQzdyEr4FGA0Hznv6VlNGKJIW40PgDT\n",
       "pzys+cW/WwAAAABJRU5ErkJggg==\n",
       "\" style=\"display:inline;vertical-align:middle;\" /></a></td></tr>\n",
       "<tr><td>6</td><td>Literal</td><td></td><td><a class=\"ProveItLink\" href=\"../../../../set_theory/membership/__pv_it/088cbc857536a28d4119ad9639a84270ccb0545d0/expr.ipynb\"><img src=\"data:image/png;base64,iVBORw0KGgoAAAANSUhEUgAAAAwAAAAMBAMAAACkW0HUAAAALVBMVEX///+qqqpmZmZUVFQQEBC6\n",
       "urpERETc3NyYmJjMzMwiIiIyMjKIiIju7u4AAACYsrA9AAAAAXRSTlMAQObYZgAAADxJREFUCNdj\n",
       "YOA9vWrVBgaG2b0MQMCeCyIZ2ArA1DUwyRCyahVIyWQI7xaEYm4AU7xLIdxqTQgtvGvVBgCkcQ7e\n",
       "geM/tQAAAABJRU5ErkJggg==\n",
       "\" style=\"display:inline;vertical-align:middle;\" /></a></td></tr>\n",
       "<tr><td>7</td><td>ExprTuple</td><td>12, 10</td><td><a class=\"ProveItLink\" href=\"../46fef8cd01e90537d7ca36d1ba2c809996ed4b3a0/expr.ipynb\"><img src=\"data:image/png;base64,iVBORw0KGgoAAAANSUhEUgAAADQAAAAVBAMAAAD7ptBLAAAAMFBMVEX////c3NwiIiJERESqqqqY\n",
       "mJh2dnZmZmYQEBDu7u4yMjJUVFTMzMyIiIi6uroAAAAs73DqAAAAAXRSTlMAQObYZgAAASVJREFU\n",
       "KM9jYMAD+C5gE2V9ACROA3H0/927rR6AxbI+r1+h7MDAUANkrwQJNDMwsP+DqDd4y7kyjYGBi4GB\n",
       "F2Qez18g/g2TYrgHFGdNYOCYAOTyfgSyv8GlXLknMHA2MLwCcZkbGBiYOhG6hIG0CUMZiMu/gYFx\n",
       "8QSYFI+qJZBOZ1gK4p7fe7coAOpsg0f6P0D2ezH0gbj3BRg4tRngBt51BtIvGMBOtgBJB8ClmPkS\n",
       "gCZBpEDujk9ASDEYgKRaQN76CiT2O6BKvWAwhXqL8RcDAyeygVFAN0K8dQIYYPMVIFLhl8GOfwQM\n",
       "Pfvfu3eBPDHjIzh4jbpBZq9j4BBAioqHCCYwoFgTkKQCEEy2C9BIwZSaBcTSCC4vkqqNQMyINQHw\n",
       "HmAAAHCOVkQeB6BvAAAAAElFTkSuQmCC\n",
       "\" style=\"display:inline;vertical-align:middle;\" /></a></td></tr>\n",
       "<tr><td>8</td><td>Literal</td><td></td><td><a class=\"ProveItLink\" href=\"../e5c030cabcb650938f92dee8256fe11cd12bf9b30/expr.ipynb\"><img src=\"data:image/png;base64,iVBORw0KGgoAAAANSUhEUgAAABMAAAANBAMAAAC5okgUAAAALVBMVEX////c3NxERETMzMwQEBCq\n",
       "qqoiIiJmZmaIiIh2dnZUVFS6uroyMjLu7u4AAACPpZJTAAAAAXRSTlMAQObYZgAAAD1JREFUCNdj\n",
       "YAABXgY44LkAZ3IvQAjPABFlaSCQV4AQjtkAZ/IegbNt5sLUpunC5aPgLMYDcCaTAJzJDCIA2yMN\n",
       "HCCUuIIAAAAASUVORK5CYII=\n",
       "\" style=\"display:inline;vertical-align:middle;\" /></a></td></tr>\n",
       "<tr><td>9</td><td>ExprTuple</td><td>11, 12</td><td><a class=\"ProveItLink\" href=\"../37daccb7f4d8f0c74c4d62e98fa64e0314d893720/expr.ipynb\"><img src=\"data:image/png;base64,iVBORw0KGgoAAAANSUhEUgAAADYAAAAVBAMAAAD/UwB2AAAAMFBMVEX////c3NwiIiJERESqqqqY\n",
       "mJh2dnZmZmYQEBDu7u4yMjJUVFTMzMyIiIi6uroAAAAs73DqAAAAAXRSTlMAQObYZgAAAPZJREFU\n",
       "KM9jYMAH+C5gFWZ9ACROM7ArgYEBVHD/792b1zEw1ADZK0ECPAUIHRxARfUPGLgYGHgvoMudB4qc\n",
       "38DAmsDAMQFd7r4AA0N8AgNnA8MrBnQ5CyDWAOowYSjDkPvNwCBlCaTTGZaiy/H8vntdFcTwYuhD\n",
       "l+P9yMAwaQOQ8YLhH7occwNQ/ivIvZhy/EA9rN/Aci3ocucDGBi4v4DNNEWSmwDznvwCICMK6FK4\n",
       "HOcnqPd4uiaA/fAIIpcAkusHain+v3v3qgCQ2DoGDgGk6EJig8KMNQEpzpAjkO0CNI6wyM0CYmkE\n",
       "FyUFbARiRuxpgvcAAwBqNEBOwzjo9wAAAABJRU5ErkJggg==\n",
       "\" style=\"display:inline;vertical-align:middle;\" /></a></td></tr>\n",
       "<tr><td>10</td><td>Literal</td><td></td><td><a class=\"ProveItLink\" href=\"../../../__pv_it/46271c8230be96415d662709611f4ed2279d702b0/expr.ipynb\"><img src=\"data:image/png;base64,iVBORw0KGgoAAAANSUhEUgAAAA0AAAAOBAMAAAAGUYvhAAAAMFBMVEX///9mZmbMzMzc3NxUVFSY\n",
       "mJju7u6IiIi6urqqqqoiIiIQEBBEREQyMjJ2dnYAAAAQvcRZAAAAAXRSTlMAQObYZgAAAElJREFU\n",
       "CNdjePvn/u01ExgYGA60s117B6YZKngh9FSWBAjfBsxnWnoMRHet/10AkS+fA6F5OB5AaIYDqDRU\n",
       "PLCGgQFoz6ktExgAgLIl8DFvGtkAAAAASUVORK5CYII=\n",
       "\" style=\"display:inline;vertical-align:middle;\" /></a></td></tr>\n",
       "<tr><td>11</td><td>Literal</td><td></td><td><a class=\"ProveItLink\" href=\"../../../__pv_it/68a87cc3370287d726c7086ace789e680e4461c30/expr.ipynb\"><img src=\"data:image/png;base64,iVBORw0KGgoAAAANSUhEUgAAAA4AAAAOBAMAAADtZjDiAAAAFVBMVEX///92dnbMzMxEREQiIiJm\n",
       "ZmYAAABAT6GXAAAAAXRSTlMAQObYZgAAABhJREFUCNdjCHEBAWcGIFBlgABa0YpADAAxegPJJk4d\n",
       "XAAAAABJRU5ErkJggg==\n",
       "\" style=\"display:inline;vertical-align:middle;\" /></a></td></tr>\n",
       "<tr><td>12</td><td>Variable</td><td></td><td><a class=\"ProveItLink\" href=\"../../../../../__pv_it/077b2ff79244fb4582cbe22c6e3356fa92a52f2f0/expr.ipynb\"><img src=\"data:image/png;base64,iVBORw0KGgoAAAANSUhEUgAAABAAAAAOBAMAAADUAYG5AAAAMFBMVEX///+qqqru7u4iIiJ2dnbc\n",
       "3NyIiIjMzMxmZmYQEBC6uroyMjJERERUVFSYmJgAAADLUcuvAAAAAXRSTlMAQObYZgAAAGpJREFU\n",
       "CNdjYGB4+//u3dMLGIBgDgMDxy8gzf4NiP8CGWxfGRj4vgAZPBMYGJgnARn8FxhY9ygAGfXX0pof\n",
       "gDTlBzAw2YIYJ0EckBBI53sHoBH/gIz7AhBjWH9DjancBLTl/N+7t/cxMAAA3u4f/5xagjYAAAAA\n",
       "SUVORK5CYII=\n",
       "\" style=\"display:inline;vertical-align:middle;\" /></a></td></tr>\n",
       "</table>\n"
      ],
      "text/plain": [
       "0. B -> ((TRUE => B) in BOOLEANS) | B in BOOLEANS\n",
       "   core type: Lambda\n",
       "   parameter: 12\n",
       "   body: 1\n",
       "   conditions: 2\\n1. (TRUE => B) in BOOLEANS\n",
       "   core type: Operation\n",
       "   operator: 6\n",
       "   operands: 3\n",
       "2. (B in BOOLEANS)\n",
       "   core type: ExprTuple\n",
       "   sub-expressions: 4\n",
       "3. (TRUE => B , BOOLEANS)\n",
       "   core type: ExprTuple\n",
       "   sub-expressions: 5, 10\n",
       "4. B in BOOLEANS\n",
       "   core type: Operation\n",
       "   operator: 6\n",
       "   operands: 7\n",
       "5. TRUE => B\n",
       "   core type: Operation\n",
       "   operator: 8\n",
       "   operands: 9\n",
       "6. in\n",
       "   core type: Literal\n",
       "   sub-expressions: \n",
       "7. (B , BOOLEANS)\n",
       "   core type: ExprTuple\n",
       "   sub-expressions: 12, 10\n",
       "8. =>\n",
       "   core type: Literal\n",
       "   sub-expressions: \n",
       "9. (TRUE , B)\n",
       "   core type: ExprTuple\n",
       "   sub-expressions: 11, 12\n",
       "10. BOOLEANS\n",
       "    core type: Literal\n",
       "    sub-expressions: \n",
       "11. TRUE\n",
       "    core type: Literal\n",
       "    sub-expressions: \n",
       "12. B\n",
       "    core type: Variable\n",
       "    sub-expressions: "
      ]
     },
     "execution_count": 4,
     "metadata": {},
     "output_type": "execute_result"
    }
   ],
   "source": [
    "# display the expression information\n",
    "expr.exprInfo()"
   ]
  },
  {
   "cell_type": "code",
   "execution_count": null,
   "metadata": {},
   "outputs": [],
   "source": []
  }
 ],
 "metadata": {
  "kernelspec": {
   "display_name": "Python 3",
   "language": "python",
   "name": "python3"
  }
 },
 "nbformat": 4,
 "nbformat_minor": 0
}
