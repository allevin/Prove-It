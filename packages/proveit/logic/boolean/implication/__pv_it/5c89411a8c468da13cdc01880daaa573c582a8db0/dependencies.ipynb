{
 "cells": [
  {
   "cell_type": "markdown",
   "metadata": {},
   "source": [
    "Theorem Dependencies\n",
    "=======================\n",
    "\n",
    "## <a class=\"ProveItLink\" href=\"../../_context_.ipynb\">proveit.logic.boolean.implication</a>.<a class=\"ProveItLink\" href=\"../../_theorems_.ipynb#falseImpliesTrue\">falseImpliesTrue</a> \n",
    "***see <a class=\"ProveItLink\" href=\"../../_proofs_/falseImpliesTrue.ipynb\">proof</a>***"
   ]
  },
  {
   "cell_type": "code",
   "execution_count": 1,
   "metadata": {},
   "outputs": [],
   "source": [
    "from proveit.logic.boolean.implication._theorems_ import falseImpliesTrue"
   ]
  },
  {
   "cell_type": "code",
   "execution_count": 2,
   "metadata": {},
   "outputs": [
    {
     "data": {
      "text/html": [
       "<h3>Axioms required (directly or indirectly) to prove falseImpliesTrue</h3>"
      ],
      "text/plain": [
       "<IPython.core.display.HTML object>"
      ]
     },
     "metadata": {},
     "output_type": "display_data"
    },
    {
     "data": {
      "text/html": [
       "<dl>"
      ],
      "text/plain": [
       "<IPython.core.display.HTML object>"
      ]
     },
     "metadata": {},
     "output_type": "display_data"
    },
    {
     "data": {
      "text/html": [
       "<dt><a class=\"ProveItLink\" href=\"../../../_axioms_.ipynb#trueAxiom\">proveit.logic.boolean.trueAxiom</a></dt><dd><a class=\"ProveItLink\" href=\"../../../__pv_it/68a87cc3370287d726c7086ace789e680e4461c30/expr.ipynb\"><img src=\"data:image/png;base64,iVBORw0KGgoAAAANSUhEUgAAAA4AAAAOBAMAAADtZjDiAAAAFVBMVEX///92dnbMzMxEREQiIiJm\n",
       "ZmYAAABAT6GXAAAAAXRSTlMAQObYZgAAABhJREFUCNdjCHEBAWcGIFBlgABa0YpADAAxegPJJk4d\n",
       "XAAAAABJRU5ErkJggg==\n",
       "\" style=\"display:inline;vertical-align:middle;\" /></a></dd>"
      ],
      "text/plain": [
       "<IPython.core.display.HTML object>"
      ]
     },
     "metadata": {},
     "output_type": "display_data"
    },
    {
     "data": {
      "text/html": [
       "</dl>"
      ],
      "text/plain": [
       "<IPython.core.display.HTML object>"
      ]
     },
     "metadata": {},
     "output_type": "display_data"
    },
    {
     "data": {
      "text/html": [
       "<h3>Theorems that depend directly on falseImpliesTrue</h3>"
      ],
      "text/plain": [
       "<IPython.core.display.HTML object>"
      ]
     },
     "metadata": {},
     "output_type": "display_data"
    },
    {
     "data": {
      "text/html": [
       "<dl>"
      ],
      "text/plain": [
       "<IPython.core.display.HTML object>"
      ]
     },
     "metadata": {},
     "output_type": "display_data"
    },
    {
     "data": {
      "text/html": [
       "<dt><a class=\"ProveItLink\" href=\"../../_proofs_/implicationClosure.ipynb\">proveit.logic.boolean.implication.implicationClosure</a></dt><dd><a class=\"ProveItLink\" href=\"../4e17fe59341997321c94d3de8826e06ad5569cf50/expr.ipynb\"><img src=\"data:image/png;base64,iVBORw0KGgoAAAANSUhEUgAAANEAAAAWBAMAAACs+WTQAAAAMFBMVEX///8QEBC6urrMzMxUVFRm\n",
       "ZmZERETc3NwyMjKqqqp2dnaIiIiYmJgiIiLu7u4AAAAU9Wx4AAAAAXRSTlMAQObYZgAAAzpJREFU\n",
       "SMe9Vk1oE0EU/pqfbpPdbosXC6KkIBRUbA4FRSgJGqpebKVEDyqmgqkFqTnZioihIBVB24MVj7mo\n",
       "EaEEtaL00NVDqRW1FfQgDaRQpQhVkSZWLa1vZnaTTbJ2veiDLzv7Zvd98755bzbAf7PMXz63Vcfa\n",
       "pvis/c8IU2zwwjaEMyjAhlNWFK2LoZY+oL3Y7R04tbSxC3D7gbvMcc2WqSojwIZfrR6oiADHfagq\n",
       "cVc6UvOfEkAcOEu3UsSWaVQH2csVK+0DKUIQSqKMSfYRzaRYqHvQlmmTDlrW0PeCuyDGWAx4nYBa\n",
       "y+/Ux+l0XGfyaAeAWRL4Tk/PBVsiR1yATJa/Ffyb86MOwjStuovf7XxlyqmBJKukZHLR6HtbJndC\n",
       "gGy7Z9m04yljtAj0dtP1Fs+726Re8zgtwNsG7AE6ubOf/97Ihlv85QWhCZAuPucvzp3mljVqc3F0\n",
       "ZIYNbvL4sQJTenUDXT1xJoDKZVGEKEotZKE1JpLJo0Zl+QRIQ0hZ0xI8feIq0+YtsC6oZ3cfiyri\n",
       "CannoJjVkPliPwhR3EE46C11JKzJXvW+3ok1PgGgKRTKmbOdXyciUiSZRQiwu3qWrlERiGyhnKk1\n",
       "ZK2a1+rwW/5KdQpuas1HDZ8zshfDWikT/dSZO/qKKPQaykf5aTA1mXNCpFIwqXHud6aifOqLHxMx\n",
       "KG1MEa9jRG+YikEBeFiJmfbpnf5AgJbk+mGot1DGxNRD527mcuEYn2ocfUiFw1tddh+cMV7QBHCO\n",
       "MGDapqCpnS4yvSZ4MK2IidRT2NwQP8eeY4xPJYGnGeziTF6061XMipSBF8+ZwsnQa2onZ13GqHL1\n",
       "jYlJORIRL6OCRVPfhkWAkyTgIJqj0WiKmBL64eKY4pA6lmIYX72UZ+rUr4dWQ6HLPBFRi73t+RM2\n",
       "N72ftQnbZIUxuGMI8DYirRv9mNNzMpiwXkeJlXWefhrh+lVRe4bN5kfbqHw0qR/SCiQqQldMMB02\n",
       "zoBJHXZWODSK7Z4xmMtBap1xLiOZDe+jGlNP8M69fdriq7GmzVu71Xjp96ywNton84wUFLCzvdZu\n",
       "V6zEsePPIc7rWNtkv7X/QalD+4d/WH4DPsTlkZ/P9zIAAAAASUVORK5CYII=\n",
       "\" style=\"display:inline;vertical-align:middle;\" /></a></dd>"
      ],
      "text/plain": [
       "<IPython.core.display.HTML object>"
      ]
     },
     "metadata": {},
     "output_type": "display_data"
    },
    {
     "data": {
      "text/html": [
       "<dt><a class=\"ProveItLink\" href=\"../../_proofs_/impliesFT.ipynb\">proveit.logic.boolean.implication.impliesFT</a></dt><dd><a class=\"ProveItLink\" href=\"../1d10038ee5ca5c7ed8be49e96b5b51c85f55b4b70/expr.ipynb\"><img src=\"data:image/png;base64,iVBORw0KGgoAAAANSUhEUgAAAHoAAAAVBAMAAAB71edYAAAAMFBMVEX////c3NwiIiJERESqqqqY\n",
       "mJh2dnZmZmYQEBDu7u4yMjJUVFTMzMyIiIi6uroAAAAs73DqAAAAAXRSTlMAQObYZgAAAO9JREFU\n",
       "OMtjYKAM8F0gqCQOt9RpMCmLTapICQSUGdgP4JJhWAnmHsdhNkR8AS4Z3guYuieg6w7DpZtjAqbu\n",
       "lei6Z+DS/YoBU/drdN3MDjh0l2HRzXYBTTdbAQ7dS1F0s4PDUuk7mm4WcLBVrQKB1cgyfVjsZmBZ\n",
       "h6qbrwGH3f+w6WaY1Yeim+cDKbp5lk0gTncLNn8rT8DmcngCQ8iYYrGbZQNaqLEuwGF3OhbdUgzE\n",
       "xtgjiJM0EE5iYDBEqDkGJrkeYOoGy3AIYEpgZKkZuDIoawIRZUAuTpmVhDVzLsApJU1YN7cATilG\n",
       "wiXTHVwSAJMMSnyRAZQFAAAAAElFTkSuQmCC\n",
       "\" style=\"display:inline;vertical-align:middle;\" /></a></dd>"
      ],
      "text/plain": [
       "<IPython.core.display.HTML object>"
      ]
     },
     "metadata": {},
     "output_type": "display_data"
    },
    {
     "data": {
      "text/html": [
       "</dl>"
      ],
      "text/plain": [
       "<IPython.core.display.HTML object>"
      ]
     },
     "metadata": {},
     "output_type": "display_data"
    }
   ],
   "source": [
    "%dependencies falseImpliesTrue"
   ]
  }
 ],
 "metadata": {
  "kernelspec": {
   "display_name": "Python 3",
   "language": "python",
   "name": "python3"
  }
 },
 "nbformat": 4,
 "nbformat_minor": 0
}
