{
 "cells": [
  {
   "cell_type": "markdown",
   "metadata": {},
   "source": [
    "Show the Proof\n",
    "========"
   ]
  },
  {
   "cell_type": "code",
   "execution_count": 1,
   "metadata": {},
   "outputs": [
    {
     "data": {
      "text/html": [
       "<table><tr><th>&nbsp;</th><th>step type</th><th>requirements</th><th>statement</th></tr>\n",
       "<tr><td>0</td><td>specialization</td><td>1, 2</td><td><span style=\"font-size:20px;\"> <a class=\"ProveItLink\" href=\"proof.ipynb\" style=\"text-decoration: none\">&#x22A2;&nbsp;</a><a class=\"ProveItLink\" href=\"../c63412b659c110dd5bd09c0558b9cf3885b24be90/expr.ipynb\"><img src=\"data:image/png;base64,iVBORw0KGgoAAAANSUhEUgAAAHUAAAAVBAMAAACK3rzVAAAAMFBMVEX////c3NwiIiJERESqqqqY\n",
       "mJh2dnZmZmYQEBDu7u4yMjJUVFTMzMyIiIi6uroAAAAs73DqAAAAAXRSTlMAQObYZgAAAWZJREFU\n",
       "OMtjYKAE8F0gpIL1AS6Z0yCCEZsB7EpgYMBQgyaR9Xn9CmUHIGMliMdTgN1giDgXurDBW86VaQwM\n",
       "vBcI62VNwNDLcA9oIMcENL0LkHkQFmcDhDd3kZIWTK8r9wSGVwyoesHuMETVy2AC4SydgGSvMAND\n",
       "GZreUyBCCk1vOpgUnoBwM4+qJQPDUlS9PB2goNVfiarXC0waIvz7SP8H0H19qHpvQcx+9QBF7wuw\n",
       "rw2Qw+quMwPDPxS9M6DyjN0oes+DE1ET0EXwsGLmS0DTy7kdQktdwNTLswHZXmYGA4YWVDezQNKS\n",
       "IgMWNyug6zVFC2dvEDFJAFVvFJjciqIX6OZ0NL3soHS6D2scTXqApDf8MgPDI0iabwKlebDLgOmK\n",
       "ER6iPJDUuA4SgMsPwPOCUTfQDg4BtLQKlOecgCoES5Msu6DhDMucCYSzOBuuLL6SsN5ZuCSkCevd\n",
       "iEuCkWCZw3sAuzgA8IpfNqH++l0AAAAASUVORK5CYII=\n",
       "\" style=\"display:inline;vertical-align:middle;\" /></a></span></td></tr>\n",
       "<tr><td>&nbsp;</td><td colspan=4 style=\"text-align:left\"><span style=\"font-size:20px;\"><a class=\"ProveItLink\" href=\"../../../../../__pv_it/2cbe72a7ad6f655694dd697106680215e8489b600/expr.ipynb\"><img src=\"data:image/png;base64,iVBORw0KGgoAAAANSUhEUgAAAA8AAAAOBAMAAAACpFvcAAAALVBMVEX///8QEBBERERUVFS6urqI\n",
       "iIhmZmaqqqrc3Nzu7u6YmJgyMjIiIiLMzMwAAADtIaYWAAAAAXRSTlMAQObYZgAAAFtJREFUCNdj\n",
       "YACBOwxQsA9Kc52bAGG05zVAGAFxDmCaZULdAjBjCsO9ADDDgaEvAUTzGhvbKYCVMDAwbgAxChgY\n",
       "eASANAeQwf0AyJgNxEwvGRia5HYwcOm9TgAA6BoR3jrzwFcAAAAASUVORK5CYII=\n",
       "\" style=\"display:inline;vertical-align:middle;\" /></a> : <a class=\"ProveItLink\" href=\"../28a616c9a18309ee688e04adb90aa8662ed6a11f0/expr.ipynb\"><img src=\"data:image/png;base64,iVBORw0KGgoAAAANSUhEUgAAAD8AAAAPBAMAAAChCwpBAAAALVBMVEX///92dnaqqqpUVFS6urru\n",
       "7u4yMjJEREQQEBAiIiJmZmbMzMyIiIjc3NwAAABajTjNAAAAAXRSTlMAQObYZgAAAIFJREFUGNNj\n",
       "YGBguMOABXDNBIMCEHsXA3bAvQDKIEEBGwoPi4IzQMx+AbcC7gQgwZuAW8GOTpDDnwXgUsCTCqZY\n",
       "UnAoYG2H8m8Y4DAhGCLAm4PTDZqQ0LuAUwETyGzWuXjCYREQMzugKlg5c+aMmTOnQ4TCgPg6IiQF\n",
       "MEMfiENRhQDGli3Ej4aUFgAAAABJRU5ErkJggg==\n",
       "\" style=\"display:inline;vertical-align:middle;\" /></a></span></td></tr><tr><td>1</td><td>theorem</td><td></td><td><span style=\"font-size:20px;\"> <a class=\"ProveItLink\" href=\"../../../_proofs_/inBoolIfFalse.ipynb\" style=\"text-decoration: none\">&#x22A2;&nbsp;</a><a class=\"ProveItLink\" href=\"../../../__pv_it/a8889ad68c7b4cf0e24624f2b3dd4b353b6fbb540/expr.ipynb\"><img src=\"data:image/png;base64,iVBORw0KGgoAAAANSUhEUgAAAJMAAAAXBAMAAAD96mDoAAAAMFBMVEX///8QEBC6urrMzMxUVFRm\n",
       "ZmZERETc3NwyMjKqqqp2dnaIiIiYmJgiIiLu7u4AAAAU9Wx4AAAAAXRSTlMAQObYZgAAAhdJREFU\n",
       "OMtjYKAeeECsQqYN+GQPAfEFEOM0EUaZQChbVFGu/owfspkMDKwGDAwrQQJ9RBgFVdOPJszGtOHF\n",
       "qwUMDA0MDGVALnsCYZO4If7juf8AwyhuBaA5pxgYOIBSrBMIG8UIMaIyvgDCf9179wbUKM4DfgwM\n",
       "D4HWLC8vryXCfxoQasN+BTDN3PMA4Sp1oK/YgM75lpZ2iwijoiDR+GD+ATCj7AHCg7bHgByuAAYG\n",
       "ZwaGdLBgO0QxqgntMEYPmHzEYA8Js3REWN39Lw2kOYHhpcLA1wAO0E8QKRSToIJAIAQmFRjqA0A0\n",
       "XwJysO8E8pgEGBh4GbjBbn76B4tRUEEgAJvJ7OLiDzaESfbuXXiwMyRoAaU+AGP5AC/Y3+uuYjEK\n",
       "KggzCuh7RrAXmB2QXMWQwAYxiq8BnI6ZN6RhGgUTBAJJEAGMJV4BsAcvoBsF8iBDuhNIiIUhFtMo\n",
       "mCAQ5ICSMtAojg9grg+KUUAP8oBcOxVsw0mG/UhGLUtLS2tACALBUiB+AZL/B+a+VUAYxROdAEkM\n",
       "DIyg6OW7Gpr/ANVVCQhBINAFpiX5dgae/B/gKGRvNYBl528XPYEMDpDZPCDVrAUM9gboRsEFQRYW\n",
       "oCY4Tg9IDMLAQzhLh4GB/wC6UXBBkIUL8OeG1TDGk28M7P53UI0yQAgSLoggyRyt0MCluASvUSwF\n",
       "JBjFjrdA3sxAglGkAxaydQIAdVKHuuxtmLQAAAAASUVORK5CYII=\n",
       "\" style=\"display:inline;vertical-align:middle;\" /></a></span></td></tr>\n",
       "<tr><td>&nbsp;</td><td colspan=4 style-\"text-align:left\"><a class=\"ProveItLink\" href=\"../../../_proofs_/inBoolIfFalse.ipynb\">proveit.logic.boolean.inBoolIfFalse</a></td></tr><tr><td>2</td><td>theorem</td><td></td><td><span style=\"font-size:20px;\"> <a class=\"ProveItLink\" href=\"../../_proofs_/falseIffTrueNegated.ipynb\" style=\"text-decoration: none\">&#x22A2;&nbsp;</a><a class=\"ProveItLink\" href=\"../8c9c423e916ef6d8729d812de4aea89cc4faa2ad0/expr.ipynb\"><img src=\"data:image/png;base64,iVBORw0KGgoAAAANSUhEUgAAAF4AAAAVBAMAAAA9Y0TyAAAAMFBMVEX////c3NxERESqqqqYmJgQ\n",
       "EBDu7u4yMjKIiIi6urpUVFTMzMx2dnYiIiJmZmYAAABjE816AAAAAXRSTlMAQObYZgAAAPdJREFU\n",
       "KM9jYCAbcDYQUsEyAZm3C0QwYtPEdxcMFBheI4uWgQjuB9iNhoizI4lwNBBWz3IAIcKagKa+AJkH\n",
       "YbEFINRPZ0BVD7ZPEVU9gzJC/Rs09dtBhDia+nMI9SWo6rlDQUFyvwxVvTnDW5DwHSAzElV9ewLE\n",
       "lRNQ1E9FBP1PFPWpChCaMQpF/X5c6tnWQWjxBlzqg1HdwwyJ04sMuNyjghY+ViAiVwBVvTuUBw8q\n",
       "hHo+AyCxEnd4zoWkq1hQugL7ABi/jApw9ZCUUImUHgTQkswGoJ4EVCHk9ICclnABngb09IwfpCNz\n",
       "pAirX4jMYSSYHzk2MAAAqvdUkq8BMZ8AAAAASUVORK5CYII=\n",
       "\" style=\"display:inline;vertical-align:middle;\" /></a></span></td></tr>\n",
       "<tr><td>&nbsp;</td><td colspan=4 style-\"text-align:left\"><a class=\"ProveItLink\" href=\"../../_proofs_/falseIffTrueNegated.ipynb\">proveit.logic.boolean.implication.falseIffTrueNegated</a></td></tr></table>"
      ],
      "text/plain": [
       "<proveit._core_.proof._ShowProof at 0x7f950c5b6668>"
      ]
     },
     "execution_count": 1,
     "metadata": {},
     "output_type": "execute_result"
    }
   ],
   "source": [
    "import proveit\n",
    "%show_proof"
   ]
  },
  {
   "cell_type": "code",
   "execution_count": null,
   "metadata": {},
   "outputs": [],
   "source": []
  }
 ],
 "metadata": {
  "kernelspec": {
   "display_name": "Python 3",
   "language": "python",
   "name": "python3"
  }
 },
 "nbformat": 4,
 "nbformat_minor": 0
}
