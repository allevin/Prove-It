{
 "cells": [
  {
   "cell_type": "markdown",
   "metadata": {},
   "source": [
    "Theorem Dependencies\n",
    "=======================\n",
    "\n",
    "## <a class=\"ProveItLink\" href=\"../../_context_.ipynb\">proveit.logic.boolean.implication</a>.<a class=\"ProveItLink\" href=\"../../_theorems_.ipynb#trueIffTrue\">trueIffTrue</a> \n",
    "***see <a class=\"ProveItLink\" href=\"../../_proofs_/trueIffTrue.ipynb\">proof</a>***"
   ]
  },
  {
   "cell_type": "code",
   "execution_count": 1,
   "metadata": {},
   "outputs": [],
   "source": [
    "from proveit.logic.boolean.implication._theorems_ import trueIffTrue"
   ]
  },
  {
   "cell_type": "code",
   "execution_count": 2,
   "metadata": {},
   "outputs": [
    {
     "data": {
      "text/html": [
       "<h3>Axioms required (directly or indirectly) to prove trueIffTrue</h3>"
      ],
      "text/plain": [
       "<IPython.core.display.HTML object>"
      ]
     },
     "metadata": {},
     "output_type": "display_data"
    },
    {
     "data": {
      "text/html": [
       "<dl>"
      ],
      "text/plain": [
       "<IPython.core.display.HTML object>"
      ]
     },
     "metadata": {},
     "output_type": "display_data"
    },
    {
     "data": {
      "text/html": [
       "<dt><a class=\"ProveItLink\" href=\"../../../conjunction/_axioms_.ipynb#andTT\">proveit.logic.boolean.conjunction.andTT</a></dt><dd><a class=\"ProveItLink\" href=\"../../../conjunction/__pv_it/51838eaba66011860e5e0b82c5dd05a6c42529320/expr.ipynb\"><img src=\"data:image/png;base64,iVBORw0KGgoAAAANSUhEUgAAAHAAAAAVBAMAAABs93eRAAAAMFBMVEX////c3NwiIiJERESqqqqY\n",
       "mJh2dnZmZmYQEBDu7u4yMjJUVFTMzMyIiIi6uroAAAAs73DqAAAAAXRSTlMAQObYZgAAAQRJREFU\n",
       "OMtjYCAb8F3AJxuHW+o0A7sSGBggixaBhZQZ2A+gq4fJMKwE8XgKYOKME2Cs42ByARa7wDK8F1A1\n",
       "chWgagzDpZFjAqrGw5qoGmfg0viKAVXjvruoGpkdcGgsQ9XIuYAJVSNbAQ6NS1E1sgWwO6BoZAGH\n",
       "TtUqEFiNLNOHqpGJgXEBika+Bhw2/kPVGMvAsAdFI88H4jRqglIEURpbUDSyAGkuAUynwpMLQsYU\n",
       "RSNIE0sBskbWBThsTEfReBhEKBAVHY8gGhOg0Q8ioEngGMQNDzA1gmU4BJCFwKr4kEVm4MpVrAn4\n",
       "s2suTpmVePVxLsApJY1XI7cATilGvEXHHVwSAK+LR/LZCB/YAAAAAElFTkSuQmCC\n",
       "\" style=\"display:inline;vertical-align:middle;\" /></a></dd>"
      ],
      "text/plain": [
       "<IPython.core.display.HTML object>"
      ]
     },
     "metadata": {},
     "output_type": "display_data"
    },
    {
     "data": {
      "text/html": [
       "<dt><a class=\"ProveItLink\" href=\"../../../_axioms_.ipynb#eqTrueElim\">proveit.logic.boolean.eqTrueElim</a></dt><dd><a class=\"ProveItLink\" href=\"../../../__pv_it/3e7bd867633eab3d515d0929d36506bc9b5772e10/expr.ipynb\"><img src=\"data:image/png;base64,iVBORw0KGgoAAAANSUhEUgAAAGgAAAAWBAMAAADeGsQjAAAAMFBMVEX///8QEBC6urrMzMxUVFRm\n",
       "ZmZERETc3NwyMjKqqqp2dnaIiIiYmJgiIiLu7u4AAAAU9Wx4AAAAAXRSTlMAQObYZgAAAUpJREFU\n",
       "OMtjeMBABrgAIk6ToIEZqGMliNFHgiaODwwMZUCaPYEETWf/ATUCPcU6gXg97FO/MzDwLC8vryXB\n",
       "Im7uT0DyW1raLRI06XH+AZLODAzpYG47mGSCe7gAmx4+BebfQEqFga8BxOX5BBZlg0mfV4AyWNPS\n",
       "xNKyoBwmBvavQIqXgfsAiPv0D4omvvgDCPMRoWvi4vIN5LMDvOBUse4qiiautwHYNAGtlwAZ2WAC\n",
       "jugNaSiarNkSsGjiBOKLIEa6E4hkYYhF0eTAeoHBowMINiBrqgTifhBjKjj5nWTYj6yJZwL3B0yb\n",
       "wEGWD/INI8gsvquhYA5M09vQsH8YmtgTfxQwHPvfCjIUpJi1gMHeAElTOAPzZ4YMDOehAh0GBv4D\n",
       "CE1MQPYfbKGHDJ58Y2D3vwPXxOefwFDy9wABTQjARk5Opp8mFiLUAADNR1FAr8G4iQAAAABJRU5E\n",
       "rkJggg==\n",
       "\" style=\"display:inline;vertical-align:middle;\" /></a></dd>"
      ],
      "text/plain": [
       "<IPython.core.display.HTML object>"
      ]
     },
     "metadata": {},
     "output_type": "display_data"
    },
    {
     "data": {
      "text/html": [
       "<dt><a class=\"ProveItLink\" href=\"../../../_axioms_.ipynb#eqTrueIntro\">proveit.logic.boolean.eqTrueIntro</a></dt><dd><a class=\"ProveItLink\" href=\"../../../__pv_it/d0cb838f1f1e44deadf0499da151f8dae5a0de4f0/expr.ipynb\"><img src=\"data:image/png;base64,iVBORw0KGgoAAAANSUhEUgAAAIwAAAAXBAMAAAArT7qNAAAAMFBMVEX///8QEBC6urrMzMxUVFRm\n",
       "ZmZERETc3NwyMjKqqqp2dnaIiIiYmJgiIiLu7u4AAAAU9Wx4AAAAAXRSTlMAQObYZgAAAaxJREFU\n",
       "OMtjYKAOeEBYCdMG/PI8CgwMF0CM03iVmUAoW3Rx1rtgkMAQzMCwEiTQh9cYqGw/FinmABDJwcBQ\n",
       "BqTYE/CZwg3xE8/9B7iM4VnAwAGUZJ2AzxhGiPbK+AJcxvAJMPAsLy+vxesnDQi1Yb8CLmMYMhkY\n",
       "vqWl3cJrTBQkuh7MP4DTmKUMDM4MDOlgdjtEOUxFO4zRAyYfMdiDw4i1AwwcUIyZwcCgwsDXAA6n\n",
       "T2ARNlhi+AQzRghMKjDUB+B0jSIDAy8DN9i1T/+gGAPlAgHYPGYXF/8EnMbYA+PzAC84KtZdRTEG\n",
       "yoUZA/QrYwM+Y/gawKmUeUMasjEwLhBIgghgkuAVQEm6aJ5iSHcCsVgYYpGNgXGBIAeUQIHGcHzA\n",
       "6ZoTQDwVnK1OMuxHNgbGhcQmwwuQzD98Ec7ACIpIvquh+Q8QxsC5QKALzDHy7Qw8+T8wo4p5AZhq\n",
       "AkUtSD1rAYO9AcIYOBdkTQGhkoRPAMbSYWDgP4AwBs6FZDwCgAtWID35xsDufwduDIJLuBiBhhwa\n",
       "YMMUKiFkjDtRxrATKES5DYgyhhzAQpYuAAUAaqwIkhhoAAAAAElFTkSuQmCC\n",
       "\" style=\"display:inline;vertical-align:middle;\" /></a></dd>"
      ],
      "text/plain": [
       "<IPython.core.display.HTML object>"
      ]
     },
     "metadata": {},
     "output_type": "display_data"
    },
    {
     "data": {
      "text/html": [
       "<dt><a class=\"ProveItLink\" href=\"../../_axioms_.ipynb#iffDef\">proveit.logic.boolean.implication.iffDef</a></dt><dd><a class=\"ProveItLink\" href=\"../a756da7a5c4731c8ee727591cf414442c56348d00/expr.ipynb\"><img src=\"data:image/png;base64,iVBORw0KGgoAAAANSUhEUgAAAXkAAAAWBAMAAADX+PE1AAAAMFBMVEX///8QEBC6urrMzMxUVFRm\n",
       "ZmZERETc3NwyMjKqqqp2dnaIiIiYmJgiIiLu7u4AAAAU9Wx4AAAAAXRSTlMAQObYZgAAA99JREFU\n",
       "WMPVl01IVFEUx4/zHJ86My9xIbmoXLgIyhrBqE041BBCC9u4KJB0kbaonCD8WFQW2ESFzSKjTeQm\n",
       "Mgx5YDsXWkT0QWSQBZE4hoGrEvGrEu1+nHPfzJs7zmRuPPB3nHfu775z7z333DsAm9riazk9tlQG\n",
       "e75xZJYMaZQ/eJumYRWK2UGd/8VqOHy6DLzBDSOrHJ/ODBYuZ0iP+cPuNNF3O77b2gYlrJNZgM7/\n",
       "Ji8lcOTTWP4MSAbVyj7MBn3wPluKmX9Cl2LGH6Y5gDfZkvF0ZJfDKR+aldDvuxWQDCqfdeiN6aPP\n",
       "iUsx6zgZwdEz7VNBLrLofgNMZkMmLbKLNM7GFad8NN/O6M0e5hIMyv+ore1imsTZiWJmD2MiDjHl\n",
       "UTx5RQCB7ewzlgXJrRz0ZO4uW3HKRxs55CypjycUZ0gLTU1f0kR/AsV6iD8YkZPEE86kbN0SAvMa\n",
       "m5rCY5lJYYW2npyW1UMy5CPrV//tKVgGyZAOAzQLV1T8vTtfd4QKwS0UwDeolu+t3DbObAn7rj46\n",
       "VM9jK+DD8V4XFtKT3nFh86AhAZ7AcfVG5QOoF8wEzY1VxreEYEjlYIke/HKX+4vAV4Sti1EAZXBZ\n",
       "dOGTieu5KhsMR8D6yL8XueY+lUQr0JOj0K445VN2D3PPA+Y8MqQA+MRAvy+LFt4QeBaRmkWBEQ7X\n",
       "8rpklaDnvMzFRv4uRhszruhTSGXTxRrSb0NukDjlc6rOFRl+VTi8AJIh+UYCIg8GxkSLgA3eUXcM\n",
       "HlYNxAJNyXk0b8oGvKy9710rekVSpbwR15AsAiOkoiefsgMDgOsIW13RW53iTDTsJtHiZxBeUUkp\n",
       "RQHb3AG5xPdl+soWBl+u2hiuP2Z2g55E76e4hoQe2naliT7K+/FzmHVMH1yZA82HRM2CetFk79DT\n",
       "czTmMygzhqcc64FPkfXZKdrmEl9592GrIR08lYziCASjfGR38LMDD27OkKBHJMprGBZN+gCeUbV6\n",
       "iJrmRXZFPuO1IbfMKdqV3aCpmDqSWzvoSIOvV4A45aMjCqdGFJeWeHLFhBxe0ayxuhYR9CmWPHT2\n",
       "VEi17oiCv2WJKrO8XfBkaJkL14gal+++U+lIbs1aUsyGuCRUJPpopDJNzcalCLxc7ZIMCfw8am8E\n",
       "qsWu/8WSh+p9TkQq6WrD9MN9rKXeFDQkt6CW9NCe1DKGjplMeutudsSNmFEwV8Aco4f+XqmM1u9+\n",
       "sF4ya6Y/kZ1aALP2K9vtffN1NTHdPXcts9a8If8TmSVDSh666/sFVAbLTV3v9ZJZMqQk2+/6btpS\n",
       "GWww9dF6ySyZQR07ssl+lP8FkGB7YFhFVksAAAAASUVORK5CYII=\n",
       "\" style=\"display:inline;vertical-align:middle;\" /></a></dd>"
      ],
      "text/plain": [
       "<IPython.core.display.HTML object>"
      ]
     },
     "metadata": {},
     "output_type": "display_data"
    },
    {
     "data": {
      "text/html": [
       "<dt><a class=\"ProveItLink\" href=\"../../../../equality/_axioms_.ipynb#equalsTransitivity\">proveit.logic.equality.equalsTransitivity</a></dt><dd><a class=\"ProveItLink\" href=\"../../../../equality/__pv_it/15953cfebb497c481d8be77ed0e16c42a27f82610/expr.ipynb\"><img src=\"data:image/png;base64,iVBORw0KGgoAAAANSUhEUgAAANEAAAAXBAMAAABnpbd1AAAAMFBMVEX///8QEBC6urrMzMxUVFRm\n",
       "ZmZERETc3NwyMjKqqqp2dnaIiIiYmJgiIiLu7u4AAAAU9Wx4AAAAAXRSTlMAQObYZgAAAoBJREFU\n",
       "SMe9VUtoE1EUPZOZZvLrJLQLFVFScKFUMcVC3UglhQotSFYiFiGrVqyLQcQoogQRKihF0Lqwm8GN\n",
       "n0AIWAO2ooNQBD+QlYggRBeKuokIdtOF976Zya+daOHhgXDe3Jt55913PwP8N1TlbdXv73pBvwov\n",
       "XssQUg/6+7pSwANezMpQCnW6njxwlkjPylBa6uR85Zyk64YMpe2dnJ+A2L1c7qIMoUC+kzdIwfye\n",
       "nPwgQ6nLojQUDs1PtDv6evQSIhlgBJjyO+aGCsIGvuOtvY0fjl5lXOGlfurxESBMEe+A4Rd3cCNK\n",
       "ShKw8Bw32+wGjMN06ATQjagtQyme5DEwuo7nDDdbDaTTXZWlBGxdJwcZV8nID9KqkF6gNg6UobDs\n",
       "gdnzDaXIQv+IN2+yopZdEoPh/Ve3RRRm/RfdFuH4R8Y74bgj5Oj2MJWm3aqj/M8fcXOA7ellq6FU\n",
       "1LJbNE7wNaO0otIbghwLtN3HvAugHLyM1vCsLaSwBY2aiWthrsJVdp2tl/agLNzfmm4vGfLyqH+u\n",
       "RLN1chPudT3VcXg1mKCKbsX+5TeXhZfCFr4VYR7DuNgy2ZynuOm9pVlaqUECp+vpqMCYLj582p6m\n",
       "TOwnHSbEO8Y4M2pCZXMPepn2YahJaQCpoHNXSlJJiYJWPIuaUr1zbPrLNHIwHMlHcM5Eb6BGpI7t\n",
       "ytaV1Np9WF7PpPZCnxHkYvDu7aYh6o+Ct/jyZKKIYRu3ynmiaGCzWVcypucWvTYIj5+AuirIRalv\n",
       "5l++Gu3DwdZNToDt2085TmPMoTXQO3wJNbP1o2kGrZ1MvkoneWAPObQWF/yVHrU+xhBesph8leYX\n",
       "OXKHpEKTudkfgDCcYn7TElEAAAAASUVORK5CYII=\n",
       "\" style=\"display:inline;vertical-align:middle;\" /></a></dd>"
      ],
      "text/plain": [
       "<IPython.core.display.HTML object>"
      ]
     },
     "metadata": {},
     "output_type": "display_data"
    },
    {
     "data": {
      "text/html": [
       "<dt><a class=\"ProveItLink\" href=\"../../../../equality/_axioms_.ipynb#substitution\">proveit.logic.equality.substitution</a></dt><dd><a class=\"ProveItLink\" href=\"../../../../equality/__pv_it/8d36a51e21a3e1f2d1a576f0cfdfe721d403af1e0/expr.ipynb\"><img src=\"data:image/png;base64,iVBORw0KGgoAAAANSUhEUgAAAO8AAAAXBAMAAAARnwX+AAAAMFBMVEX///8QEBC6urrMzMxUVFRm\n",
       "ZmZERETc3NwyMjKqqqp2dnaIiIiYmJgiIiLu7u4AAAAU9Wx4AAAAAXRSTlMAQObYZgAAAvdJREFU\n",
       "SMfFVj1oFEEUfvef293bHKayECJYpIk5wcYqRyRGTBPUQgyiNonCgVuI8QfNIggWEq5QsLttDglB\n",
       "OTAemhRZJIVoc7UorE0QLXIYMIUiznszO7O3uznJQfDBm/123jfzZt+99+YA/pd4vS5MNqLYGPw3\n",
       "/63QFr586MHxURzMyQmJUc7EEEOcTInrIr4s9OCY1mQXf3es74shhjk21xvskbu0e786RW7zcFVi\n",
       "irUTZYY577n2sR85U9294wQlRy2AKazFKDPM+cLVeDY3d7eHSA/ReCGASa5GmWFOtsr158zMxx4c\n",
       "n8dh/cC4j28v33rFolmPEBXHrDsw74E2BaTHAWYxSOON6O5dquMRjb98bDrGpwSrkKeUuA9JytDJ\n",
       "0ZJtWAPI21wPgYl5llmZiu7eJen24ZDb8rEGejvPiuRghKg4xzItmGEFXeRaAN1lhkLc13Vx/AOH\n",
       "fNvHJqSJPBohKo6XaODnp9pcdbeACdfv9eBYaymcaMQ7DnBqXmpLOTZt7CnGtWk0L40ts3glmyL7\n",
       "uWM+SW2vKctiPyVoWeH5ErZfCnXmMwlfHeCcA72oQg2zY2h4R6fzTiRYon/vt46oL6bJk5gtDWkA\n",
       "qKivRGxYa6B7YpvOgpcceECnMGyu8IRiQXWQ5Ml6bxiayrGY7DAI/uagj2vuZbgDceWkOHAWRlyQ\n",
       "5SSOVOG0bRpPwWTwN96Wu/gGgGEcRjwfb6x8W8IcvR9xrDiwsXrRYr1ykCsYniwPSBVT/GUg4Bgn\n",
       "r1CopYEdl20BrwN4p5bZwXmuWqa/4g/ATWtUszX2gIFkWzmmSSG+ga4Do1wJXw1auAsFOemWiSm2\n",
       "JBTEVzEP7sab6RfsAY+btnJMk0J8A11ziYVW8IpE+RpJrQCn4GQdoHZl2upk+Gu7HLs5K92IrWNp\n",
       "YHIdjLolsZCJsOMgJ796mj3TFldxga+zSk3x15SVdYbiG4g04CECUfWxXtq54/icl0LF/xEMuiEO\n",
       "yY7mxDuWhr2W8t5t/RfNBeNeS11EOAAAAABJRU5ErkJggg==\n",
       "\" style=\"display:inline;vertical-align:middle;\" /></a></dd>"
      ],
      "text/plain": [
       "<IPython.core.display.HTML object>"
      ]
     },
     "metadata": {},
     "output_type": "display_data"
    },
    {
     "data": {
      "text/html": [
       "</dl>"
      ],
      "text/plain": [
       "<IPython.core.display.HTML object>"
      ]
     },
     "metadata": {},
     "output_type": "display_data"
    },
    {
     "data": {
      "text/html": [
       "<h3>Theorems that depend directly on trueIffTrue</h3>"
      ],
      "text/plain": [
       "<IPython.core.display.HTML object>"
      ]
     },
     "metadata": {},
     "output_type": "display_data"
    },
    {
     "data": {
      "text/html": [
       "<dl>"
      ],
      "text/plain": [
       "<IPython.core.display.HTML object>"
      ]
     },
     "metadata": {},
     "output_type": "display_data"
    },
    {
     "data": {
      "text/html": [
       "<dt><a class=\"ProveItLink\" href=\"../../_proofs_/iffClosure.ipynb\">proveit.logic.boolean.implication.iffClosure</a></dt><dd><a class=\"ProveItLink\" href=\"../b74a8841c50c2c0e557e80b0a3c7cdfc466a9fc40/expr.ipynb\"><img src=\"data:image/png;base64,iVBORw0KGgoAAAANSUhEUgAAANEAAAAWBAMAAACs+WTQAAAAMFBMVEX///8QEBC6urrMzMxUVFRm\n",
       "ZmZERETc3NwyMjKqqqp2dnaIiIiYmJgiIiLu7u4AAAAU9Wx4AAAAAXRSTlMAQObYZgAAA1BJREFU\n",
       "SMe9VlFIFFEUve7sOO7OOBkECVGsEBgVuR9CEoiLbVY/acjWR0Vr0JoQNl9pRLQIYT+lHxp97k+1\n",
       "EchQGYYfTn2IFZUGEoRLK1hIYEXoZiXafe++cdd1cvqpC2fnzX1v7nn3zL1vFuC/Wfov1+0QWNu0\n",
       "gLP/KWKUDV64hpBCBDYcdaKonw3XdQA0rnT7u87Mb24BkIMAd5njuitTUZrAhl+dFhREAU4GoCjP\n",
       "Xegxpz8lAOIA5/FWiboyDQqgvVx0WlBjIkKgJVYxqQGkeU4blbtdmbYI4LZ6vwsfBpAa7AVDBsDr\n",
       "BOgl/E4fSKXigslnHQKYRIHvtLVdciXyxAloqvqNfCpmAc32iibEGO66hd9VvcrJqRwlK8RkMrHY\n",
       "O1cmOUFA2+VbIF8V+2m3V8ziuBWvt3jerTnqVQ/jBvyY/F57Y53898ZcpC64uiAsAuoSkH5RCa5P\n",
       "ob0XxSTNDvZPsMFNHt/IMqWWNuHVh4JsBZ3LopEoWgmopDWMJJPH7coKEFBDUOa4a4AqcRt1kIov\n",
       "b4Z1QRm7+7iiIh6jeh6MWQwq3+wHEkUOgQef0vsjlurX74tOXBcgAFSGwxl2nRT1qmygiBhJZRFq\n",
       "2F0ZS9euCIhux5yxNVSrmO+ub5w/UmyCjK35qPxzWvVDn5XPhD+lXMV9NNNu0gLMR/tpM1Xm5gTR\n",
       "QmLS49wvmTE+9SUIIwZorHpVv6dfHFYF3QTwsRLjLl+K21vRTrgl7w9bvZlVTEw9aK5lLi+c4FMV\n",
       "gw+xcHirq/LhCfsBiwAXEF3k6+ExjWw7XWZ6jfBg1gomVE9jc738HHsGQ3wqCfAkDXs4kx8aTXF+\n",
       "NRB48ZyjRHm/12bbSSpN21Wuv8lh0o5F6WEoYNH08QgFOI0CdkN1LBYzkSkhDhfPKIfSNG/A8NIV\n",
       "Ogfi2XPsyFI4fJUn0kFvr3H5hM2MHWRtwl6yxhhkA2p4G6HWFUGYEjnZTLBRINdwvZ7/0RGnEfRc\n",
       "o9qzbXJ5tBPLx1I6QVkEBYvQaxDTUaEeOyE53MxvOvvv2YOpDCj1E9ICJOciB1B//RTv3NtnHb4a\n",
       "a9q0s1uP53/PsnvD95Q7o4QIbrbf2e018hy7/xziosDapgad/Q/yHdY//MPyG0XU6STu3zC/AAAA\n",
       "AElFTkSuQmCC\n",
       "\" style=\"display:inline;vertical-align:middle;\" /></a></dd>"
      ],
      "text/plain": [
       "<IPython.core.display.HTML object>"
      ]
     },
     "metadata": {},
     "output_type": "display_data"
    },
    {
     "data": {
      "text/html": [
       "<dt><a class=\"ProveItLink\" href=\"../../_proofs_/iffTT.ipynb\">proveit.logic.boolean.implication.iffTT</a></dt><dd><a class=\"ProveItLink\" href=\"../1ea7b5da3b573cd5fbba17320bc9d9ce566310930/expr.ipynb\"><img src=\"data:image/png;base64,iVBORw0KGgoAAAANSUhEUgAAAHoAAAAVBAMAAAB71edYAAAAMFBMVEX////c3NwiIiJERESqqqqY\n",
       "mJh2dnZmZmYQEBDu7u4yMjJUVFTMzMyIiIi6uroAAAAs73DqAAAAAXRSTlMAQObYZgAAAQlJREFU\n",
       "OMtjYKAM8F0gqCQOt9RpBoYiJRBQxpCCibMfwCXDsBLMPY7DbIj4AlwyvBeI0B2GS4ZjAppuoD08\n",
       "BWi6Z+DS/YoBVTfYLYZoupkdcOguQ9N9CkRIoelmK8Cheymqbp4OUGDqr0TVzQIOtqpVILAaWaYP\n",
       "VfctSDC8eoCim68Bh93/UHTPMIDQjN0ounk+EKWbczuElrpAnO4WVJezgBORkiIDFpejJkmwjCla\n",
       "mHuDiEkCqLpZF+CwOx1NNzsoavcRG2OPIOxjMEFOoDWMBnA1EHGuB5i6wTIcAmiiwPzEOQFNbAau\n",
       "DMqaQEQZkItTZiVhzZwLcEpJE9bNLYBTipFwyXQHlwQAfKdQRGUYkG8AAAAASUVORK5CYII=\n",
       "\" style=\"display:inline;vertical-align:middle;\" /></a></dd>"
      ],
      "text/plain": [
       "<IPython.core.display.HTML object>"
      ]
     },
     "metadata": {},
     "output_type": "display_data"
    },
    {
     "data": {
      "text/html": [
       "</dl>"
      ],
      "text/plain": [
       "<IPython.core.display.HTML object>"
      ]
     },
     "metadata": {},
     "output_type": "display_data"
    }
   ],
   "source": [
    "%dependencies trueIffTrue"
   ]
  }
 ],
 "metadata": {
  "kernelspec": {
   "display_name": "Python 3",
   "language": "python",
   "name": "python3"
  }
 },
 "nbformat": 4,
 "nbformat_minor": 0
}
