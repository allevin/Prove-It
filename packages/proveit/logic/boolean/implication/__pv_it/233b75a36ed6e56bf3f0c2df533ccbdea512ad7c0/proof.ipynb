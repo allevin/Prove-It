{
 "cells": [
  {
   "cell_type": "markdown",
   "metadata": {},
   "source": [
    "Show the Proof\n",
    "========"
   ]
  },
  {
   "cell_type": "code",
   "execution_count": 1,
   "metadata": {},
   "outputs": [
    {
     "data": {
      "text/html": [
       "<table><tr><th>&nbsp;</th><th>step type</th><th>requirements</th><th>statement</th></tr>\n",
       "<tr><td>0</td><td>specialization</td><td>1</td><td><span style=\"font-size:20px;\"> <a class=\"ProveItLink\" href=\"proof.ipynb\" style=\"text-decoration: none\">&#x22A2;&nbsp;</a><a class=\"ProveItLink\" href=\"../a6b0f4ec24123280e5d1fe0b9134838472a0f85f0/expr.ipynb\"><img src=\"data:image/png;base64,iVBORw0KGgoAAAANSUhEUgAAATEAAAAVBAMAAADcAcTPAAAAMFBMVEX////c3NwiIiJERESqqqqY\n",
       "mJh2dnZmZmYQEBDu7u4yMjJUVFTMzMyIiIi6uroAAAAs73DqAAAAAXRSTlMAQObYZgAAAn5JREFU\n",
       "SMfNlj9IG1Ecx39nEpMzZ5q1ESE9Fze10MHNTaiLU0ZxEekQkFIcOrXFwVIIh5M4xUHbVCjZupVO\n",
       "CnG5WVo4HFOEbt2k773fs+b9fr/07jr1wfdecvf73O977z/A/1tqcWrIhnDvxionmTGb4S71xROB\n",
       "56Euc1D+yh4FfRTAbC7y8v6ZUMy7NGO4nkm0M+YDLsy1y+5PRai7iDTyoa17kI1Rmo4zOGux+9+t\n",
       "SBZ/HPkeK8zmMpHEKFUi4qzr/MPYQ+bsrRXJMhXJZPAYH2A2l+mBwCgNwXVmvmqJxBZW6EDuomiW\n",
       "Wl8mqzfYWEPgzA8QGKVd4mygLw0SO0k7u7yJYmOmLZNH0DT1ruBsMhYYpRPXWbCvJ85Cz40tmuZ5\n",
       "+VGXM9Nr66iRLDjlFnYkErbghalPHGdlg4S/gDNKHdfZFQ6EYeLE1l6RNqskKD7Pnopk03ZDR2gz\n",
       "KH4CxijdOs4OF7H23jmxwU/i7EGC4s78DwknSzFUzcp2KzmDow7LpuQ68z9j3Yj/1dngmUBORHZZ\n",
       "Fp0Fp5HkbM/tzSJ2/SMQ+mRk8a6soNg4C5clclXpWP/Yk8bZXCT25hMyN9f05aDuxpboJlBYR7Hv\n",
       "XwOJPLbubDaXKfYFRmmbOCvrlviStmrYic2yeF2JDPTondB/twVnDZBXjWts1DdhiIPfV+/2Fv/E\n",
       "nuPSntCVtolSXTg/ujsX6hJZTe6W8OvRZ7Ys3Q8HfJdmlCp1klTNIT8i9/ju9NqKHkFAImvmp7bH\n",
       "smFCziiVNjOc4drsTkvc51PJzNna7oY6rvh/OwXlIzNmM9xMemyV94HXR+UlM2YznJd+/v025vg5\n",
       "m5/MmE3pN+0j1jOmT/V2AAAAAElFTkSuQmCC\n",
       "\" style=\"display:inline;vertical-align:middle;\" /></a></span></td></tr>\n",
       "<tr><td>&nbsp;</td><td colspan=4 style=\"text-align:left\"><span style=\"font-size:20px;\"><a class=\"ProveItLink\" href=\"../../../../../__pv_it/2cbe72a7ad6f655694dd697106680215e8489b600/expr.ipynb\"><img src=\"data:image/png;base64,iVBORw0KGgoAAAANSUhEUgAAAA8AAAAOBAMAAAACpFvcAAAALVBMVEX///8QEBBERERUVFS6urqI\n",
       "iIhmZmaqqqrc3Nzu7u6YmJgyMjIiIiLMzMwAAADtIaYWAAAAAXRSTlMAQObYZgAAAFtJREFUCNdj\n",
       "YACBOwxQsA9Kc52bAGG05zVAGAFxDmCaZULdAjBjCsO9ADDDgaEvAUTzGhvbKYCVMDAwbgAxChgY\n",
       "eASANAeQwf0AyJgNxEwvGRia5HYwcOm9TgAA6BoR3jrzwFcAAAAASUVORK5CYII=\n",
       "\" style=\"display:inline;vertical-align:middle;\" /></a> : <a class=\"ProveItLink\" href=\"../../../__pv_it/8f1f7fac882de28c72b62ab80a1700b6d8fd066b0/expr.ipynb\"><img src=\"data:image/png;base64,iVBORw0KGgoAAAANSUhEUgAAAA4AAAAOBAMAAADtZjDiAAAAG1BMVEX///9EREQQEBAiIiJmZmbM\n",
       "zMyIiIjc3NwAAACryk5kAAAAAXRSTlMAQObYZgAAABlJREFUCNdjYGBgKGOAgBBa0s7GxkbGxoYA\n",
       "FMUF2aBfHgoAAAAASUVORK5CYII=\n",
       "\" style=\"display:inline;vertical-align:middle;\" /></a>, <a class=\"ProveItLink\" href=\"../../../../../__pv_it/077b2ff79244fb4582cbe22c6e3356fa92a52f2f0/expr.ipynb\"><img src=\"data:image/png;base64,iVBORw0KGgoAAAANSUhEUgAAABAAAAAOBAMAAADUAYG5AAAAMFBMVEX///+qqqru7u4iIiJ2dnbc\n",
       "3NyIiIjMzMxmZmYQEBC6uroyMjJERERUVFSYmJgAAADLUcuvAAAAAXRSTlMAQObYZgAAAGpJREFU\n",
       "CNdjYGB4+//u3dMLGIBgDgMDxy8gzf4NiP8CGWxfGRj4vgAZPBMYGJgnARn8FxhY9ygAGfXX0pof\n",
       "gDTlBzAw2YIYJ0EckBBI53sHoBH/gIz7AhBjWH9DjancBLTl/N+7t/cxMAAA3u4f/5xagjYAAAAA\n",
       "SUVORK5CYII=\n",
       "\" style=\"display:inline;vertical-align:middle;\" /></a> : <a class=\"ProveItLink\" href=\"../../../__pv_it/68a87cc3370287d726c7086ace789e680e4461c30/expr.ipynb\"><img src=\"data:image/png;base64,iVBORw0KGgoAAAANSUhEUgAAAA4AAAAOBAMAAADtZjDiAAAAFVBMVEX///92dnbMzMxEREQiIiJm\n",
       "ZmYAAABAT6GXAAAAAXRSTlMAQObYZgAAABhJREFUCNdjCHEBAWcGIFBlgABa0YpADAAxegPJJk4d\n",
       "XAAAAABJRU5ErkJggg==\n",
       "\" style=\"display:inline;vertical-align:middle;\" /></a></span></td></tr><tr><td>1</td><td>axiom</td><td></td><td><span style=\"font-size:20px;\"> <a class=\"ProveItLink\" href=\"../../_axioms_.ipynb#iffDef\" style=\"text-decoration: none\">&#x22A2;&nbsp;</a><a class=\"ProveItLink\" href=\"../a756da7a5c4731c8ee727591cf414442c56348d00/expr.ipynb\"><img src=\"data:image/png;base64,iVBORw0KGgoAAAANSUhEUgAAAXkAAAAWBAMAAADX+PE1AAAAMFBMVEX///8QEBC6urrMzMxUVFRm\n",
       "ZmZERETc3NwyMjKqqqp2dnaIiIiYmJgiIiLu7u4AAAAU9Wx4AAAAAXRSTlMAQObYZgAAA99JREFU\n",
       "WMPVl01IVFEUx4/zHJ86My9xIbmoXLgIyhrBqE041BBCC9u4KJB0kbaonCD8WFQW2ESFzSKjTeQm\n",
       "Mgx5YDsXWkT0QWSQBZE4hoGrEvGrEu1+nHPfzJs7zmRuPPB3nHfu775z7z333DsAm9riazk9tlQG\n",
       "e75xZJYMaZQ/eJumYRWK2UGd/8VqOHy6DLzBDSOrHJ/ODBYuZ0iP+cPuNNF3O77b2gYlrJNZgM7/\n",
       "Ji8lcOTTWP4MSAbVyj7MBn3wPluKmX9Cl2LGH6Y5gDfZkvF0ZJfDKR+aldDvuxWQDCqfdeiN6aPP\n",
       "iUsx6zgZwdEz7VNBLrLofgNMZkMmLbKLNM7GFad8NN/O6M0e5hIMyv+ore1imsTZiWJmD2MiDjHl\n",
       "UTx5RQCB7ewzlgXJrRz0ZO4uW3HKRxs55CypjycUZ0gLTU1f0kR/AsV6iD8YkZPEE86kbN0SAvMa\n",
       "m5rCY5lJYYW2npyW1UMy5CPrV//tKVgGyZAOAzQLV1T8vTtfd4QKwS0UwDeolu+t3DbObAn7rj46\n",
       "VM9jK+DD8V4XFtKT3nFh86AhAZ7AcfVG5QOoF8wEzY1VxreEYEjlYIke/HKX+4vAV4Sti1EAZXBZ\n",
       "dOGTieu5KhsMR8D6yL8XueY+lUQr0JOj0K445VN2D3PPA+Y8MqQA+MRAvy+LFt4QeBaRmkWBEQ7X\n",
       "8rpklaDnvMzFRv4uRhszruhTSGXTxRrSb0NukDjlc6rOFRl+VTi8AJIh+UYCIg8GxkSLgA3eUXcM\n",
       "HlYNxAJNyXk0b8oGvKy9710rekVSpbwR15AsAiOkoiefsgMDgOsIW13RW53iTDTsJtHiZxBeUUkp\n",
       "RQHb3AG5xPdl+soWBl+u2hiuP2Z2g55E76e4hoQe2naliT7K+/FzmHVMH1yZA82HRM2CetFk79DT\n",
       "czTmMygzhqcc64FPkfXZKdrmEl9592GrIR08lYziCASjfGR38LMDD27OkKBHJMprGBZN+gCeUbV6\n",
       "iJrmRXZFPuO1IbfMKdqV3aCpmDqSWzvoSIOvV4A45aMjCqdGFJeWeHLFhBxe0ayxuhYR9CmWPHT2\n",
       "VEi17oiCv2WJKrO8XfBkaJkL14gal+++U+lIbs1aUsyGuCRUJPpopDJNzcalCLxc7ZIMCfw8am8E\n",
       "qsWu/8WSh+p9TkQq6WrD9MN9rKXeFDQkt6CW9NCe1DKGjplMeutudsSNmFEwV8Aco4f+XqmM1u9+\n",
       "sF4ya6Y/kZ1aALP2K9vtffN1NTHdPXcts9a8If8TmSVDSh666/sFVAbLTV3v9ZJZMqQk2+/6btpS\n",
       "GWww9dF6ySyZQR07ssl+lP8FkGB7YFhFVksAAAAASUVORK5CYII=\n",
       "\" style=\"display:inline;vertical-align:middle;\" /></a></span></td></tr>\n",
       "<tr><td>&nbsp;</td><td colspan=4 style-\"text-align:left\"><a class=\"ProveItLink\" href=\"../../_axioms_.ipynb#iffDef\">proveit.logic.boolean.implication.iffDef</a></td></tr></table>"
      ],
      "text/plain": [
       "<proveit._core_.proof._ShowProof at 0x7f94eba5c5f8>"
      ]
     },
     "execution_count": 1,
     "metadata": {},
     "output_type": "execute_result"
    }
   ],
   "source": [
    "import proveit\n",
    "%show_proof"
   ]
  },
  {
   "cell_type": "code",
   "execution_count": null,
   "metadata": {},
   "outputs": [],
   "source": []
  }
 ],
 "metadata": {
  "kernelspec": {
   "display_name": "Python 3",
   "language": "python",
   "name": "python3"
  }
 },
 "nbformat": 4,
 "nbformat_minor": 0
}
