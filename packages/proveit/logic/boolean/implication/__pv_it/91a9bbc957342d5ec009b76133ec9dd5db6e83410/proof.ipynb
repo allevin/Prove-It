{
 "cells": [
  {
   "cell_type": "markdown",
   "metadata": {},
   "source": [
    "Show the Proof\n",
    "========"
   ]
  },
  {
   "cell_type": "code",
   "execution_count": 1,
   "metadata": {},
   "outputs": [
    {
     "data": {
      "text/html": [
       "<table><tr><th>&nbsp;</th><th>step type</th><th>requirements</th><th>statement</th></tr>\n",
       "<tr><td>0</td><td>specialization</td><td>1, 2</td><td><span style=\"font-size:20px;\"><a class=\"ProveItLink\" href=\"../ea43d3049d30f51dc709dd6c7b1435e552ef8f030/expr.ipynb\"><img src=\"data:image/png;base64,iVBORw0KGgoAAAANSUhEUgAAAHUAAAAVBAMAAACK3rzVAAAAMFBMVEX////c3NxERESqqqpUVFS6\n",
       "urrMzMwyMjIQEBCIiIh2dnYiIiLu7u5mZmaYmJgAAABXZE4RAAAAAXRSTlMAQObYZgAAAbZJREFU\n",
       "OMtjYGDgu8dAMmBbJQCieHahiEYS1McXANLcDGJyfkAx0AEo6f/FxakUu8ZsIL4GYlwHEVwNyHLs\n",
       "B4AEhwIDw/0ArHrrQWpAjBWYemeCiPwJQOwAFzuA5N79QA7fAux6e0DEfGBAvF8AF6tBSAvfB0rx\n",
       "NGDVy1oAIjWAeAfCthCE/IT5IK8oY9XLC7btCwODuA5CkGsC3OgD9g+A1FqYXt4C5KACSbF9mTl3\n",
       "H8So3WDwFyZ9FBwUDOZA/B7EzwiAqQHayQFyEudHBobTDkgmMsMiLIBB/gKQigDZAmSktCFHLT9I\n",
       "LxPQF5z/kEPweCtEhYuLvwIoHkAcdaATIxLQ9fKD0scv5ARTBQk4VqDDCqB6uUEhw1KApJfDACQF\n",
       "NJHlM5J/N0HDHCjJ3QB1M9i/XBuQ9DI9gEavPFIIMkP9zgjUyw5Kwc8x4wjoeK4LkOhla0dKTOIw\n",
       "X4PC4g9yHKGmDaAjLv13cSl/gCSoCKGE+gsZ+PS/A00vxZ4mG7Gk/wQ0Po40yfCKiIwPTmdgvXyY\n",
       "eZAAOA7Pvzw7kcUZHQjrdQRFCiS18C1GlpAkqJUzAVpeAQBFpHVsul/sRwAAAABJRU5ErkJggg==\n",
       "\" style=\"display:inline;vertical-align:middle;\" /></a> <a class=\"ProveItLink\" href=\"proof.ipynb\" style=\"text-decoration: none\">&#x22A2;&nbsp;</a><a class=\"ProveItLink\" href=\"../f40e9d1d3f37a0db10669aa458572f149c38d87e0/expr.ipynb\"><img src=\"data:image/png;base64,iVBORw0KGgoAAAANSUhEUgAAAHoAAAAVBAMAAAB71edYAAAAMFBMVEX////c3NwiIiJERESqqqqY\n",
       "mJh2dnZmZmYQEBDu7u4yMjJUVFTMzMyIiIi6uroAAAAs73DqAAAAAXRSTlMAQObYZgAAAXdJREFU\n",
       "OMtjYKAM8F0gqIT1AU6p00Ac/X/3biscSg4BcQ0WcVkwuRJENDMwsP/Drns9EHNhET8OInhBDuf5\n",
       "C8S/4RKcyK7WnwAkEnDo5pgAMuIjUMU3uATXBIQikXoBoHENOHS/AhHMQFmmTkRAbkAounAfFB4m\n",
       "OHSXgQj+DQyMi5EszEUYNME/AEil49C9FESc33u3KAAsVqQEAvoFMDXzGM6DAsYLxK5aBQKrkXX3\n",
       "gYj7Agyc2sgGe8Gi7wGDPMikFzjsBseTBciEACQpzhUQ7Ty7d+83ADkOn25QZMUjx8qpTKi3gZGy\n",
       "AI/uFpANX4HEfgeEv5UsoUqAYkwNMJdD5JSRdZtCo5vxF5K53lCaEaib6wOQEYXD7nRodJ9YiZBg\n",
       "XABlzAJJ/sQTY4+AKdz+9+5dS5EkmAUgtHD/QgZW+1/AQF+HphXoCQ2QJzgEMI3lQRfAllIhuSCB\n",
       "iDKADWcZsJII3bNwykgToXsjThlGwiUT7wEcEgDnoGOQThs1xgAAAABJRU5ErkJggg==\n",
       "\" style=\"display:inline;vertical-align:middle;\" /></a></span></td></tr>\n",
       "<tr><td>&nbsp;</td><td colspan=4 style=\"text-align:left\"><span style=\"font-size:20px;\"><a class=\"ProveItLink\" href=\"../../../../../__pv_it/2cbe72a7ad6f655694dd697106680215e8489b600/expr.ipynb\"><img src=\"data:image/png;base64,iVBORw0KGgoAAAANSUhEUgAAAA8AAAAOBAMAAAACpFvcAAAALVBMVEX///8QEBBERERUVFS6urqI\n",
       "iIhmZmaqqqrc3Nzu7u6YmJgyMjIiIiLMzMwAAADtIaYWAAAAAXRSTlMAQObYZgAAAFtJREFUCNdj\n",
       "YACBOwxQsA9Kc52bAGG05zVAGAFxDmCaZULdAjBjCsO9ADDDgaEvAUTzGhvbKYCVMDAwbgAxChgY\n",
       "eASANAeQwf0AyJgNxEwvGRia5HYwcOm9TgAA6BoR3jrzwFcAAAAASUVORK5CYII=\n",
       "\" style=\"display:inline;vertical-align:middle;\" /></a> : <a class=\"ProveItLink\" href=\"../39edb9fe2b7411693ffcf43a9bf0fb98391840e40/expr.ipynb\"><img src=\"data:image/png;base64,iVBORw0KGgoAAAANSUhEUgAAAEAAAAAPBAMAAACmSdRUAAAAMFBMVEX///+qqqru7u4iIiJ2dnbc\n",
       "3NyIiIjMzMxmZmYQEBC6uroyMjJERERUVFSYmJgAAADLUcuvAAAAAXRSTlMAQObYZgAAAOhJREFU\n",
       "GNNjYGB4+//u3dMLGLABdgMwNYeBgeMXVgXcH8DKvgHxX7ggE5KCx59AJNtXBga+LwhdCnAmq8RX\n",
       "EMUzgYGBeRJclOsCnMnGBraZ/wID6x6ENgY3OGsR4z8QVX8trfkBWKDZGATsG2CuWQByHgNDfgAD\n",
       "ky2y26WhfuZiYP0Bok+CFD1AUsC0E6Ki9u7dPyAa5MP3DkgKqp0gNFDZbFAwgBxyXwDhBuNDEHlG\n",
       "ILaEBgPrbyQDZKF0IBDvhwZD5SaEPOsGqEtA9HkFBo7zf+/e3odkAE8ARN3J3wEMb/7vwBKDqFwA\n",
       "TPY/hyWgimwAAAAASUVORK5CYII=\n",
       "\" style=\"display:inline;vertical-align:middle;\" /></a></span></td></tr><tr><td>1</td><td>axiom</td><td></td><td><span style=\"font-size:20px;\"> <a class=\"ProveItLink\" href=\"../../../negation/_axioms_.ipynb#negationElim\" style=\"text-decoration: none\">&#x22A2;&nbsp;</a><a class=\"ProveItLink\" href=\"../../../negation/__pv_it/3b08940eb52ec7364a09d58733ea5eec05fbe9620/expr.ipynb\"><img src=\"data:image/png;base64,iVBORw0KGgoAAAANSUhEUgAAAJcAAAAXBAMAAAD0AcCSAAAAMFBMVEX///8QEBC6urrMzMxUVFRm\n",
       "ZmZERETc3NwyMjKqqqp2dnaIiIiYmJgiIiLu7u4AAAAU9Wx4AAAAAXRSTlMAQObYZgAAAbxJREFU\n",
       "OMtjYKAmeECsQqYN+OUPAfEFEOM0EYaZQChbLFLVIILVgIFhJYjRR4RhUDX9WKRMwWQDA0MZkGJP\n",
       "IGwWN8SXPPcf4DLsFAMDB1CSdQJhwxghhlTGF+Ay7CHQquXl5bVE+FIDQm3Yr4DLMDagk76lpd0i\n",
       "wrAoSJQ+mH8Al2FcAQwMzgwM6WBOO0Q5qrp2GKMHTD5isAeHXUQHCLSgGMYJjAEVBr4GcNB+gjgW\n",
       "xSyoIBAIgUkFhvoAXC5jEmBg4GXgBrv86R8shkEFgQBsKrOLi38CLsOYPwDj/AAvOKLWXcViGFQQ\n",
       "ZhgwDBgb8BnG1wBO28wb0jANgwkCgSSIAMYXrwCIEXsXBK5heJMh3QnEZGGIxTQMJggEOaDEDTSM\n",
       "4wMul/GA3DwVnD1PMuxHMmxZWlpaA0IQCJYC8QuQ/D98SYOBERTZfFdD8x+guiwBIQgEusCcJ9/O\n",
       "wJP/Ay06gT6+CPYxByg584DUsxYw2BugGwYXBFlZQChZP4SzdBgY+A+gGwYXBFm5gJBhq2GMJ98Y\n",
       "2P3voBpmgBAkppjiw5Jm2HApLiFgGEsBCYaxEyi2NzOQYBg5gIUCvQCemG+1sUJnVwAAAABJRU5E\n",
       "rkJggg==\n",
       "\" style=\"display:inline;vertical-align:middle;\" /></a></span></td></tr>\n",
       "<tr><td>&nbsp;</td><td colspan=4 style-\"text-align:left\"><a class=\"ProveItLink\" href=\"../../../negation/_axioms_.ipynb#negationElim\">proveit.logic.boolean.negation.negationElim</a></td></tr><tr><td>2</td><td>assumption</td><td></td><td><span style=\"font-size:20px;\"><a class=\"ProveItLink\" href=\"../ea43d3049d30f51dc709dd6c7b1435e552ef8f030/expr.ipynb\"><img src=\"data:image/png;base64,iVBORw0KGgoAAAANSUhEUgAAAHUAAAAVBAMAAACK3rzVAAAAMFBMVEX////c3NxERESqqqpUVFS6\n",
       "urrMzMwyMjIQEBCIiIh2dnYiIiLu7u5mZmaYmJgAAABXZE4RAAAAAXRSTlMAQObYZgAAAbZJREFU\n",
       "OMtjYGDgu8dAMmBbJQCieHahiEYS1McXANLcDGJyfkAx0AEo6f/FxakUu8ZsIL4GYlwHEVwNyHLs\n",
       "B4AEhwIDw/0ArHrrQWpAjBWYemeCiPwJQOwAFzuA5N79QA7fAux6e0DEfGBAvF8AF6tBSAvfB0rx\n",
       "NGDVy1oAIjWAeAfCthCE/IT5IK8oY9XLC7btCwODuA5CkGsC3OgD9g+A1FqYXt4C5KACSbF9mTl3\n",
       "H8So3WDwFyZ9FBwUDOZA/B7EzwiAqQHayQFyEudHBobTDkgmMsMiLIBB/gKQigDZAmSktCFHLT9I\n",
       "LxPQF5z/kEPweCtEhYuLvwIoHkAcdaATIxLQ9fKD0scv5ARTBQk4VqDDCqB6uUEhw1KApJfDACQF\n",
       "NJHlM5J/N0HDHCjJ3QB1M9i/XBuQ9DI9gEavPFIIMkP9zgjUyw5Kwc8x4wjoeK4LkOhla0dKTOIw\n",
       "X4PC4g9yHKGmDaAjLv13cSl/gCSoCKGE+gsZ+PS/A00vxZ4mG7Gk/wQ0Po40yfCKiIwPTmdgvXyY\n",
       "eZAAOA7Pvzw7kcUZHQjrdQRFCiS18C1GlpAkqJUzAVpeAQBFpHVsul/sRwAAAABJRU5ErkJggg==\n",
       "\" style=\"display:inline;vertical-align:middle;\" /></a> <a class=\"ProveItLink\" href=\"../8efca6313a3f8e46cb40c92ad21ea5c02f15c6c20/proof.ipynb\" style=\"text-decoration: none\">&#x22A2;&nbsp;</a><a class=\"ProveItLink\" href=\"../779ff1c58fe0aee92ef3c1921919f710e7728f770/expr.ipynb\"><img src=\"data:image/png;base64,iVBORw0KGgoAAAANSUhEUgAAAF8AAAAVBAMAAADSoS/MAAAAMFBMVEX////c3NxERESqqqqYmJgQ\n",
       "EBDu7u4yMjKIiIi6urpUVFTMzMx2dnYiIiJmZmYAAABjE816AAAAAXRSTlMAQObYZgAAAWJJREFU\n",
       "OMtjYCAfcDYQVOKJwtsFxF7/V61Sn4BVMfcFBga+DcgiZSAiCCj6E6sG9g9AogBJgAPkIu4fQPwL\n",
       "LsaGJO/7DUj4IAmwJoB0fWRgYPmDMDUBzmS0A0oxpCJpmA4imAIYGHjDEOGwAOEADpBLmQwQGt6A\n",
       "CP4FDIxFCGMZTsBZ05i/AEmeBwi5EhCxf0XHWwcw9+1dELgPU8A2AeQ9BuYCiMQdIDsSJN4vwMB2\n",
       "CzlszKFhzMnA+A9EBSCiAByYqiBNDkga2EohOnatWvUJFIof0DSAQtT/AJKG7ccgNFBbOJqGYBAf\n",
       "5LH1Bgg/3FWDKGAG4qtoTlKBRgPjdyQLrKC0MBDXAzELNKq5gfgcNBq2liHUM0Ll2UC0fgJqsM4F\n",
       "piL9X6uWlyBZwCQA0af6XYDB6X8dMOqREiarAJYUii6AnDRYDhCRZ05gJG/8gA05eTNIEdbAheJs\n",
       "RsJZtJuBAQDNwl47SVjYZQAAAABJRU5ErkJggg==\n",
       "\" style=\"display:inline;vertical-align:middle;\" /></a></span></td></tr>\n",
       "</table>"
      ],
      "text/plain": [
       "<proveit._core_.proof._ShowProof at 0x7f94eb2f59e8>"
      ]
     },
     "execution_count": 1,
     "metadata": {},
     "output_type": "execute_result"
    }
   ],
   "source": [
    "import proveit\n",
    "%show_proof"
   ]
  },
  {
   "cell_type": "code",
   "execution_count": null,
   "metadata": {},
   "outputs": [],
   "source": []
  }
 ],
 "metadata": {
  "kernelspec": {
   "display_name": "Python 3",
   "language": "python",
   "name": "python3"
  }
 },
 "nbformat": 4,
 "nbformat_minor": 0
}
