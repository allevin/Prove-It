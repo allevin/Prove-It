{
 "cells": [
  {
   "cell_type": "markdown",
   "metadata": {},
   "source": [
    "Expression of type <a class=\"ProveItLink\" href=\"../../../../../../../doc/html/api/proveit.ExprTuple.html\">ExprTuple</a>\n",
    "=======================\n",
    "# from context <a class=\"ProveItLink\" href=\"../../_context_.ipynb\">proveit.logic.boolean.implication</a>"
   ]
  },
  {
   "cell_type": "code",
   "execution_count": 1,
   "metadata": {},
   "outputs": [],
   "source": [
    "# import Expression classes needed to build the expression\n",
    "from proveit import ExprTuple\n",
    "from proveit._common_ import A, B\n",
    "from proveit.logic import Booleans, Iff, InSet"
   ]
  },
  {
   "cell_type": "code",
   "execution_count": 2,
   "metadata": {},
   "outputs": [
    {
     "data": {
      "text/html": [
       "<strong id=\"expr\">expr:</strong> <a class=\"ProveItLink\" href=\"expr.ipynb\"><img src=\"data:image/png;base64,iVBORw0KGgoAAAANSUhEUgAAAM4AAAAVBAMAAAD8yMwbAAAAMFBMVEX////c3NwiIiJERESqqqqY\n",
       "mJh2dnZmZmYQEBDu7u4yMjJUVFTMzMyIiIi6uroAAAAs73DqAAAAAXRSTlMAQObYZgAAAnRJREFU\n",
       "SMe9VU1oE0EYfdskNpPurgvtQfBgjQiih9aiUL0kKCJ4sehB0IM5KXgqIp4Eg/VSBbt4U1GqUmoO\n",
       "tvHgpYu0eLHQQwKeY5eeqiBYi38pWudvZ9bsFIUSBybJy3v7fd9+PzPA/1puve0uMiH9WBC/X5sE\n",
       "59aD4HBoAmJdWp1+tquosd0LI3+N/q6Iv6aNkYwAnb+MQKz+j6RyQcPcJxj5HOCItGX6fIMb+yfd\n",
       "ayag7OBdTsNTP2DkMyVkhf2e654Mie43kcxZoZqvSfDwSX5vZOdYl4rQOr4CI0/K+CCY+qLMfIPu\n",
       "lPSJVBnoGE0Ae8KPxdutoncckdYkfwBXRdP5J4eEZJzFNS5lW6uwnvoJ0O3rvNi7Dyk/79NfYOYv\n",
       "YoLjR6iJOs3fyNPVlMLaq8bloegZDfbr/C/1fVdzQUJWQiN/Anc4DrFjmL+56D53SsgWPZB90TMK\n",
       "kP54nRtH1STC+rYBvwyeUTsIZhlJRiS/rcq/Bpn56IUUcNk7qzqn3JIULATBKsx8TfhxgSyvyYNh\n",
       "0TjPxZOsi89HZhSwq/F4U4jCp510C2a+hpsM0pHtKHPiSJ4v0XA2K+usnHcNSK/RT5ruPTDzyzjI\n",
       "wi+qUU6zWMhOPTFWE/DjgK6Xf9iheeGCHnWqJHicpR0H3GfTIUf5Ct1doZ6Y+QrI5xhg624Ys3Pm\n",
       "rRAQlviCb+JZXy/Rdh97jEyhKUrDfMrJ6yysBTO078mYpwEv3+ScOicHbhe5wBpseji9PmnigSlk\n",
       "vZYjje57rVdHiwbpGdlPGwhaeXruZEr/cH9sVrClru6Ftvphxdj+dz/1zQpesKK1/9525vAbQnjf\n",
       "f9zQg3cAAAAASUVORK5CYII=\n",
       "\" style=\"display:inline;vertical-align:middle;\" /></a><br>"
      ],
      "text/plain": [
       "expr: (A <=> B , B in BOOLEANS , A in BOOLEANS)"
      ]
     },
     "execution_count": 2,
     "metadata": {},
     "output_type": "execute_result"
    }
   ],
   "source": [
    "# build up the expression from sub-expressions\n",
    "expr = ExprTuple(Iff(A, B), InSet(B, Booleans), InSet(A, Booleans))"
   ]
  },
  {
   "cell_type": "code",
   "execution_count": 3,
   "metadata": {},
   "outputs": [
    {
     "name": "stdout",
     "output_type": "stream",
     "text": [
      "Passed sanity check: built 'expr' is the same as the stored Expression.\n"
     ]
    }
   ],
   "source": [
    "# check that the built expression is the same as the stored expression\n",
    "%check_expr"
   ]
  },
  {
   "cell_type": "code",
   "execution_count": 4,
   "metadata": {},
   "outputs": [
    {
     "data": {
      "text/html": [
       "<table><tr><th>&nbsp;</th><th>core type</th><th>sub-expressions</th><th>expression</th></tr>\n",
       "<tr><td>0</td><td>ExprTuple</td><td>1, 2, 3</td><td><a class=\"ProveItLink\" href=\"expr.ipynb\"><img src=\"data:image/png;base64,iVBORw0KGgoAAAANSUhEUgAAAM4AAAAVBAMAAAD8yMwbAAAAMFBMVEX////c3NwiIiJERESqqqqY\n",
       "mJh2dnZmZmYQEBDu7u4yMjJUVFTMzMyIiIi6uroAAAAs73DqAAAAAXRSTlMAQObYZgAAAnRJREFU\n",
       "SMe9VU1oE0EYfdskNpPurgvtQfBgjQiih9aiUL0kKCJ4sehB0IM5KXgqIp4Eg/VSBbt4U1GqUmoO\n",
       "tvHgpYu0eLHQQwKeY5eeqiBYi38pWudvZ9bsFIUSBybJy3v7fd9+PzPA/1puve0uMiH9WBC/X5sE\n",
       "59aD4HBoAmJdWp1+tquosd0LI3+N/q6Iv6aNkYwAnb+MQKz+j6RyQcPcJxj5HOCItGX6fIMb+yfd\n",
       "ayag7OBdTsNTP2DkMyVkhf2e654Mie43kcxZoZqvSfDwSX5vZOdYl4rQOr4CI0/K+CCY+qLMfIPu\n",
       "lPSJVBnoGE0Ae8KPxdutoncckdYkfwBXRdP5J4eEZJzFNS5lW6uwnvoJ0O3rvNi7Dyk/79NfYOYv\n",
       "YoLjR6iJOs3fyNPVlMLaq8bloegZDfbr/C/1fVdzQUJWQiN/Anc4DrFjmL+56D53SsgWPZB90TMK\n",
       "kP54nRtH1STC+rYBvwyeUTsIZhlJRiS/rcq/Bpn56IUUcNk7qzqn3JIULATBKsx8TfhxgSyvyYNh\n",
       "0TjPxZOsi89HZhSwq/F4U4jCp510C2a+hpsM0pHtKHPiSJ4v0XA2K+usnHcNSK/RT5ruPTDzyzjI\n",
       "wi+qUU6zWMhOPTFWE/DjgK6Xf9iheeGCHnWqJHicpR0H3GfTIUf5Ct1doZ6Y+QrI5xhg624Ys3Pm\n",
       "rRAQlviCb+JZXy/Rdh97jEyhKUrDfMrJ6yysBTO078mYpwEv3+ScOicHbhe5wBpseji9PmnigSlk\n",
       "vZYjje57rVdHiwbpGdlPGwhaeXruZEr/cH9sVrClru6Ftvphxdj+dz/1zQpesKK1/9525vAbQnjf\n",
       "f9zQg3cAAAAASUVORK5CYII=\n",
       "\" style=\"display:inline;vertical-align:middle;\" /></a></td></tr>\n",
       "<tr><td>1</td><td>Operation</td><td>operator:&nbsp;4<br>operands:&nbsp;5<br></td><td><a class=\"ProveItLink\" href=\"../60a870658ecf77b4b2ca5e56543d5830b362e85b0/expr.ipynb\"><img src=\"data:image/png;base64,iVBORw0KGgoAAAANSUhEUgAAAEAAAAAPBAMAAACmSdRUAAAAMFBMVEX///92dnYQEBBERERUVFS6\n",
       "urqIiIhmZmaqqqrc3Nzu7u6YmJgyMjIiIiLMzMwAAACFkkdwAAAAAXRSTlMAQObYZgAAAQhJREFU\n",
       "GNNjYACBtwxYwJb/Li42ARD2eWwKGJQZGNi/glnc9xdgkef7BsRfwMwZ9ROgggeAYgVQNttPoNaP\n",
       "YGZCPtQqtgQgYQlVwKzAwMCrBWKxLujfABF7AyLmQBXwOzBwHgbbvZThfQLEVqW7QHD/FETBe7e0\n",
       "WojGAIb5EHtzIG6NgViYP4GB6wpYn4uLvwGIscgAopVTBUwZgRSBjGBlYGA6ABLhcocomAOxEOTD\n",
       "/QJAogHoWAWwEMddMLgJcdBvIOEPlOQEYp4PEL0tIGLtBHgwcP4BMtaAvPwLooAdqJjBFREMj4Ae\n",
       "mqx/koHb/g/EG1xAt3BCnMpu/8XF5zRG+D8AKkKNFwBxhUYQlN1g7wAAAABJRU5ErkJggg==\n",
       "\" style=\"display:inline;vertical-align:middle;\" /></a></td></tr>\n",
       "<tr><td>2</td><td>Operation</td><td>operator:&nbsp;7<br>operands:&nbsp;6<br></td><td><a class=\"ProveItLink\" href=\"../41a86ef0ff9417c73c472e1bdfa161b308e2753e0/expr.ipynb\"><img src=\"data:image/png;base64,iVBORw0KGgoAAAANSUhEUgAAADcAAAAPBAMAAACy3Eq1AAAAMFBMVEX///+qqqru7u4iIiJ2dnbc\n",
       "3NyIiIjMzMxmZmYQEBC6uroyMjJERERUVFSYmJgAAADLUcuvAAAAAXRSTlMAQObYZgAAAOZJREFU\n",
       "GNNjYGB4+//u3dMLGJCB95/9O20EwMw5DAwcv1AkGQ4sY9rkAmKwfwPiv+iSDFncIAbbVwYGvi9g\n",
       "MbXNxtYwSTleBSCDZwIDA/MksBn7FJB0xoAY/BcYWPeARWMUEMay2x0CMeqvpTU/AAsdRdi52P5n\n",
       "AoiRH8DAZAtiMB1AdlCaDIhxEqQApJVrsrExwkE8XA5ABsgX70EM9gvIOnkYgAax/wNy7oOCg8kA\n",
       "QxLkTdbfYKF7KJIgY0HerNwEFlJegCT5IgcYquf/3r29DyLEuqMAHvCH5wqghigD422oayEAAEv1\n",
       "Sz0foy5uAAAAAElFTkSuQmCC\n",
       "\" style=\"display:inline;vertical-align:middle;\" /></a></td></tr>\n",
       "<tr><td>3</td><td>Operation</td><td>operator:&nbsp;7<br>operands:&nbsp;8<br></td><td><a class=\"ProveItLink\" href=\"../18d84e6b10643c76412edd0e67904c254c981c030/expr.ipynb\"><img src=\"data:image/png;base64,iVBORw0KGgoAAAANSUhEUgAAADYAAAAPBAMAAABdHiGLAAAAMFBMVEX///92dnYQEBBERERUVFS6\n",
       "urqIiIhmZmaqqqrc3Nzu7u6YmJgyMjIiIiLMzMwAAACFkkdwAAAAAXRSTlMAQObYZgAAANJJREFU\n",
       "GNNjYACBtwwogPG8zR9dCyjnPKocAzNrwpqFAmAm9/0FGHJsAQfAzBn1EyBiy87evQOV49jgBRZK\n",
       "yA8A03ynFyD0RRqAWKwL+jeAhSYvQJj5djOYs5ThfQJYyBJh393/amBWAMP8AhDNZYDslgwQj8/F\n",
       "xR9itu7du3C3MBgEgoQYGJjA7uVzQNLHYMAMZDQwMPAqgM28gC7HCZTj+QAW8kaRA5q5BsT+BRZa\n",
       "G4CQ4y4zYJisf5KB2/4P2KGcxx/AwvrzJQ+0MObwgbgTAgCMvTlc/0QYTQAAAABJRU5ErkJggg==\n",
       "\" style=\"display:inline;vertical-align:middle;\" /></a></td></tr>\n",
       "<tr><td>4</td><td>Literal</td><td></td><td><a class=\"ProveItLink\" href=\"../9817cf888369307f52607b98db5e99fdc17b089e0/expr.ipynb\"><img src=\"data:image/png;base64,iVBORw0KGgoAAAANSUhEUgAAABQAAAANBAMAAABbflNtAAAAKlBMVEX///+qqqpUVFS6urru7u4i\n",
       "IiIQEBDc3NxERESIiIhmZmbMzMwyMjIAAAAneYQxAAAAAXRSTlMAQObYZgAAAFpJREFUCNdjYEAB\n",
       "BxgYuBeAWZwTgEQ7mLkHRNSACO60UCCIPQJkznEAy9kYMLg1QPSyJzGwaEGYNUDNjKFgEA7iC4EI\n",
       "1wIQySUAJJTBqliAtrFDNW8AcoEmAgB4jw/0RzyxkgAAAABJRU5ErkJggg==\n",
       "\" style=\"display:inline;vertical-align:middle;\" /></a></td></tr>\n",
       "<tr><td>5</td><td>ExprTuple</td><td>10, 9</td><td><a class=\"ProveItLink\" href=\"../caee09fb4b5c95b986a9cee46a014afbad9bdc680/expr.ipynb\"><img src=\"data:image/png;base64,iVBORw0KGgoAAAANSUhEUgAAADUAAAAVBAMAAAAUZLt1AAAAMFBMVEX////c3NwiIiJERESqqqqY\n",
       "mJh2dnZmZmYQEBDu7u4yMjJUVFTMzMyIiIi6uroAAAAs73DqAAAAAXRSTlMAQObYZgAAATZJREFU\n",
       "KM9jYMAH+C5gFY4DEach7EMwQdb9v3dvXsfAfgDIXgkRWg/XwWHAwFD/gGEBAwMvxEhW/QkwufNA\n",
       "kfMbGMKAqiBiIvUCMLn7QFZ8AsMMBoZXEIEL9x/A5CyAWGMCA7MDQxnEsRP8A2ByvxkYpCwZGNgK\n",
       "GJaC+fPAtoABz++711WBNMsChj6wwAMG+QKoHO9HBoZJG4BGNTD8A6vdvXu/AVSOuQEo/xUo9gEi\n",
       "xwd07wKoHD9QD+s3sFwLiO/AwMDUAPMe0FHcX8BmmgK5jEA5rg8MDBNg3pMHGsK6gCEdyJ0FsuYn\n",
       "A+cnqPd4uiaA/fCIgUG4fyEDq/2vAs5+oJbi/7t3rwL5lesBA4cAUnQhsUFhxpqA4LIiR2AuIo7Q\n",
       "5ThBfpJG8JFTADfIfEbsaeIOAwMABOxNRsfkiy0AAAAASUVORK5CYII=\n",
       "\" style=\"display:inline;vertical-align:middle;\" /></a></td></tr>\n",
       "<tr><td>6</td><td>ExprTuple</td><td>9, 11</td><td><a class=\"ProveItLink\" href=\"../46fef8cd01e90537d7ca36d1ba2c809996ed4b3a0/expr.ipynb\"><img src=\"data:image/png;base64,iVBORw0KGgoAAAANSUhEUgAAADQAAAAVBAMAAAD7ptBLAAAAMFBMVEX////c3NwiIiJERESqqqqY\n",
       "mJh2dnZmZmYQEBDu7u4yMjJUVFTMzMyIiIi6uroAAAAs73DqAAAAAXRSTlMAQObYZgAAASVJREFU\n",
       "KM9jYMAD+C5gE2V9ACROA3H0/927rR6AxbI+r1+h7MDAUANkrwQJNDMwsP+DqDd4y7kyjYGBi4GB\n",
       "F2Qez18g/g2TYrgHFGdNYOCYAOTyfgSyv8GlXLknMHA2MLwCcZkbGBiYOhG6hIG0CUMZiMu/gYFx\n",
       "8QSYFI+qJZBOZ1gK4p7fe7coAOpsg0f6P0D2ezH0gbj3BRg4tRngBt51BtIvGMBOtgBJB8ClmPkS\n",
       "gCZBpEDujk9ASDEYgKRaQN76CiT2O6BKvWAwhXqL8RcDAyeygVFAN0K8dQIYYPMVIFLhl8GOfwQM\n",
       "Pfvfu3eBPDHjIzh4jbpBZq9j4BBAioqHCCYwoFgTkKQCEEy2C9BIwZSaBcTSCC4vkqqNQMyINQHw\n",
       "HmAAAHCOVkQeB6BvAAAAAElFTkSuQmCC\n",
       "\" style=\"display:inline;vertical-align:middle;\" /></a></td></tr>\n",
       "<tr><td>7</td><td>Literal</td><td></td><td><a class=\"ProveItLink\" href=\"../../../../set_theory/membership/__pv_it/088cbc857536a28d4119ad9639a84270ccb0545d0/expr.ipynb\"><img src=\"data:image/png;base64,iVBORw0KGgoAAAANSUhEUgAAAAwAAAAMBAMAAACkW0HUAAAALVBMVEX///+qqqpmZmZUVFQQEBC6\n",
       "urpERETc3NyYmJjMzMwiIiIyMjKIiIju7u4AAACYsrA9AAAAAXRSTlMAQObYZgAAADxJREFUCNdj\n",
       "YOA9vWrVBgaG2b0MQMCeCyIZ2ArA1DUwyRCyahVIyWQI7xaEYm4AU7xLIdxqTQgtvGvVBgCkcQ7e\n",
       "geM/tQAAAABJRU5ErkJggg==\n",
       "\" style=\"display:inline;vertical-align:middle;\" /></a></td></tr>\n",
       "<tr><td>8</td><td>ExprTuple</td><td>10, 11</td><td><a class=\"ProveItLink\" href=\"../0f38ce3f6d5bca20d60f2036d8f4eedb1ccd39680/expr.ipynb\"><img src=\"data:image/png;base64,iVBORw0KGgoAAAANSUhEUgAAADMAAAAVBAMAAAAZessyAAAAMFBMVEX////c3NwiIiJERESqqqqY\n",
       "mJh2dnZmZmYQEBDu7u4yMjJUVFTMzMyIiIi6uroAAAAs73DqAAAAAXRSTlMAQObYZgAAAR1JREFU\n",
       "KM9jYMAD+C5gE40DEach7EMQim291a8mEwYG9gNAzkqI2Hqocma+C7OmJTAwLGBg4IWYx6o/AS7F\n",
       "+wAoHsbAwAEREqkXgEuxBOxkYJjBwPAKInLh/gOErocGQNqBoQzizAn+AXCpQ8FAk9gKGJaCBeYx\n",
       "nL8Ak1L63wukWRYw9IEFHjDIFyAMvAI0kK+B4R+Iz7N7934DuBSDwTOg0AeIFB/QpQuQpJjBUi0g\n",
       "vgMDA1MDqhTQQFMglxEoxfWBgWECkoGsCxjSgdxZIKGfDJyfIFKstQZgxz9iYBDuX8jAav+rgLNf\n",
       "ABS8nzW2AJVwPWDgEECKHyQ2MKBYExBcVqQIy0VECpoUJ8gv0gg+Unxzg8xmxJoA7jAwAAA4lUto\n",
       "1aFFcAAAAABJRU5ErkJggg==\n",
       "\" style=\"display:inline;vertical-align:middle;\" /></a></td></tr>\n",
       "<tr><td>9</td><td>Variable</td><td></td><td><a class=\"ProveItLink\" href=\"../../../../../__pv_it/077b2ff79244fb4582cbe22c6e3356fa92a52f2f0/expr.ipynb\"><img src=\"data:image/png;base64,iVBORw0KGgoAAAANSUhEUgAAABAAAAAOBAMAAADUAYG5AAAAMFBMVEX///+qqqru7u4iIiJ2dnbc\n",
       "3NyIiIjMzMxmZmYQEBC6uroyMjJERERUVFSYmJgAAADLUcuvAAAAAXRSTlMAQObYZgAAAGpJREFU\n",
       "CNdjYGB4+//u3dMLGIBgDgMDxy8gzf4NiP8CGWxfGRj4vgAZPBMYGJgnARn8FxhY9ygAGfXX0pof\n",
       "gDTlBzAw2YIYJ0EckBBI53sHoBH/gIz7AhBjWH9DjancBLTl/N+7t/cxMAAA3u4f/5xagjYAAAAA\n",
       "SUVORK5CYII=\n",
       "\" style=\"display:inline;vertical-align:middle;\" /></a></td></tr>\n",
       "<tr><td>10</td><td>Variable</td><td></td><td><a class=\"ProveItLink\" href=\"../../../../../__pv_it/2cbe72a7ad6f655694dd697106680215e8489b600/expr.ipynb\"><img src=\"data:image/png;base64,iVBORw0KGgoAAAANSUhEUgAAAA8AAAAOBAMAAAACpFvcAAAALVBMVEX///8QEBBERERUVFS6urqI\n",
       "iIhmZmaqqqrc3Nzu7u6YmJgyMjIiIiLMzMwAAADtIaYWAAAAAXRSTlMAQObYZgAAAFtJREFUCNdj\n",
       "YACBOwxQsA9Kc52bAGG05zVAGAFxDmCaZULdAjBjCsO9ADDDgaEvAUTzGhvbKYCVMDAwbgAxChgY\n",
       "eASANAeQwf0AyJgNxEwvGRia5HYwcOm9TgAA6BoR3jrzwFcAAAAASUVORK5CYII=\n",
       "\" style=\"display:inline;vertical-align:middle;\" /></a></td></tr>\n",
       "<tr><td>11</td><td>Literal</td><td></td><td><a class=\"ProveItLink\" href=\"../../../__pv_it/46271c8230be96415d662709611f4ed2279d702b0/expr.ipynb\"><img src=\"data:image/png;base64,iVBORw0KGgoAAAANSUhEUgAAAA0AAAAOBAMAAAAGUYvhAAAAMFBMVEX///9mZmbMzMzc3NxUVFSY\n",
       "mJju7u6IiIi6urqqqqoiIiIQEBBEREQyMjJ2dnYAAAAQvcRZAAAAAXRSTlMAQObYZgAAAElJREFU\n",
       "CNdjePvn/u01ExgYGA60s117B6YZKngh9FSWBAjfBsxnWnoMRHet/10AkS+fA6F5OB5AaIYDqDRU\n",
       "PLCGgQFoz6ktExgAgLIl8DFvGtkAAAAASUVORK5CYII=\n",
       "\" style=\"display:inline;vertical-align:middle;\" /></a></td></tr>\n",
       "</table>\n"
      ],
      "text/plain": [
       "0. (A <=> B , B in BOOLEANS , A in BOOLEANS)\n",
       "   core type: ExprTuple\n",
       "   sub-expressions: 1, 2, 3\n",
       "1. A <=> B\n",
       "   core type: Operation\n",
       "   operator: 4\n",
       "   operands: 5\n",
       "2. B in BOOLEANS\n",
       "   core type: Operation\n",
       "   operator: 7\n",
       "   operands: 6\n",
       "3. A in BOOLEANS\n",
       "   core type: Operation\n",
       "   operator: 7\n",
       "   operands: 8\n",
       "4. <=>\n",
       "   core type: Literal\n",
       "   sub-expressions: \n",
       "5. (A , B)\n",
       "   core type: ExprTuple\n",
       "   sub-expressions: 10, 9\n",
       "6. (B , BOOLEANS)\n",
       "   core type: ExprTuple\n",
       "   sub-expressions: 9, 11\n",
       "7. in\n",
       "   core type: Literal\n",
       "   sub-expressions: \n",
       "8. (A , BOOLEANS)\n",
       "   core type: ExprTuple\n",
       "   sub-expressions: 10, 11\n",
       "9. B\n",
       "   core type: Variable\n",
       "   sub-expressions: \n",
       "10. A\n",
       "    core type: Variable\n",
       "    sub-expressions: \n",
       "11. BOOLEANS\n",
       "    core type: Literal\n",
       "    sub-expressions: "
      ]
     },
     "execution_count": 4,
     "metadata": {},
     "output_type": "execute_result"
    }
   ],
   "source": [
    "# display the expression information\n",
    "expr.exprInfo()"
   ]
  },
  {
   "cell_type": "code",
   "execution_count": null,
   "metadata": {},
   "outputs": [],
   "source": []
  }
 ],
 "metadata": {
  "kernelspec": {
   "display_name": "Python 3",
   "language": "python",
   "name": "python3"
  }
 },
 "nbformat": 4,
 "nbformat_minor": 0
}
