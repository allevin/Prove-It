{
 "cells": [
  {
   "cell_type": "markdown",
   "metadata": {},
   "source": [
    "Expression of type <a class=\"ProveItLink\" href=\"../../../../../../../doc/html/api/proveit.logic.Forall.html\">Forall</a>\n",
    "=======================\n",
    "# from context <a class=\"ProveItLink\" href=\"../../_context_.ipynb\">proveit.logic.boolean.implication</a>"
   ]
  },
  {
   "cell_type": "code",
   "execution_count": 1,
   "metadata": {},
   "outputs": [],
   "source": [
    "# import Expression classes needed to build the expression\n",
    "from proveit._common_ import A, B\n",
    "from proveit.logic import Forall, Iff, Implies"
   ]
  },
  {
   "cell_type": "code",
   "execution_count": 2,
   "metadata": {},
   "outputs": [
    {
     "data": {
      "text/html": [
       "<strong id=\"expr\">expr:</strong> <a class=\"ProveItLink\" href=\"expr.ipynb\"><img src=\"data:image/png;base64,iVBORw0KGgoAAAANSUhEUgAAALAAAAAXBAMAAABZgNg7AAAAMFBMVEX///8QEBC6urrMzMxUVFRm\n",
       "ZmZERETc3NwyMjKqqqp2dnaIiIiYmJgiIiLu7u4AAAAU9Wx4AAAAAXRSTlMAQObYZgAAAoVJREFU\n",
       "OMu1VDts02AQ/hI3SZs4TsQCUwkSGwMZEAtCsUrUDgyNRBwmlCJEIhaaAfUhVBK6FBhoFqRulAEh\n",
       "JIYwMGVo2BAMhYWBh4iYsqSqlPAoj8KdHdunECm4gpP+h//v7rv7778z8L+k6d3kyFANNQG85M0L\n",
       "L7yKTpbT3fTk8mD8JI0zwEPe3/ZCPMqX9M0A+cRAfJV1gDlaQjNeiOs8pWo09EEJVT/Qh7pu+g9U\n",
       "vRCP87RRAjbXnTNx5cU8QVoc6oP5+SUvvP4Kz+dpvHLjPOzitQ3O0CXgc6HwxgtxwIyzCyxcdg/D\n",
       "Ncdv826DlvvAKaAIjM0a2Qsm4LxRybVzUD5nO6Vbf/LO8vPelE+26kcz/VjjW2h8uafAYwaCtsam\n",
       "fHMb5Xrg88gXoK0LhTG79hIoZ2g5BEQR4RiywNGSINbyDWFnoyQxJg7GifyHzFBrn1Xk6fQ011iK\n",
       "8EaUH+EtcE5GHG6TY02HYqbURm3iGDfJN9k1t6yXpEz6KhaxVjnGAXagrkjiE0FyHEgCUxLlVHBt\n",
       "pug6Izsix697FUJgNG6lAsUJ9vS9PtmUxHqAmv1eoVC4XhIoKzR6ZVyuiBT38h0i4tFt2jyjcYd/\n",
       "F+EK1HFBrFYj2zjOwWmnmy7KmhmrjJUDot0W7Ewzw65VbvBxeQQz0HYEcdvI7SJnmq4lXJTvRnHk\n",
       "fqXTN+TjFq1l7uAK1Nmv5JqLRGXzWBX+jiA+C6WD0EXDMHI1gbLsH9A1yb5vLW7vyk0sZVxiP4VD\n",
       "1dS6trX1SKIsz/+iPZ1ODK8a2ZtwiDWqxSs/G1AyXHECdX6bQ6T151Gw74paqV8jpA8nnhpGPFCu\n",
       "DtWIJPdEvDcZ+Uc8vwEa7amEjzepMAAAAABJRU5ErkJggg==\n",
       "\" style=\"display:inline;vertical-align:middle;\" /></a><br>"
      ],
      "text/plain": [
       "expr: forall_{B | A <=> B} (B => A)"
      ]
     },
     "execution_count": 2,
     "metadata": {},
     "output_type": "execute_result"
    }
   ],
   "source": [
    "# build up the expression from sub-expressions\n",
    "expr = Forall([B], Implies(B, A), conditions = [Iff(A, B)])"
   ]
  },
  {
   "cell_type": "code",
   "execution_count": 3,
   "metadata": {},
   "outputs": [
    {
     "name": "stdout",
     "output_type": "stream",
     "text": [
      "Passed sanity check: built 'expr' is the same as the stored Expression.\n"
     ]
    }
   ],
   "source": [
    "# check that the built expression is the same as the stored expression\n",
    "%check_expr"
   ]
  },
  {
   "cell_type": "code",
   "execution_count": 4,
   "metadata": {},
   "outputs": [
    {
     "data": {
      "text/html": [
       "<table><tr><th>&nbsp;</th><th>core type</th><th>sub-expressions</th><th>expression</th></tr>\n",
       "<tr><td>0</td><td>Operation</td><td>operator:&nbsp;1<br>operand:&nbsp;2<br></td><td><a class=\"ProveItLink\" href=\"expr.ipynb\"><img src=\"data:image/png;base64,iVBORw0KGgoAAAANSUhEUgAAALAAAAAXBAMAAABZgNg7AAAAMFBMVEX///8QEBC6urrMzMxUVFRm\n",
       "ZmZERETc3NwyMjKqqqp2dnaIiIiYmJgiIiLu7u4AAAAU9Wx4AAAAAXRSTlMAQObYZgAAAoVJREFU\n",
       "OMu1VDts02AQ/hI3SZs4TsQCUwkSGwMZEAtCsUrUDgyNRBwmlCJEIhaaAfUhVBK6FBhoFqRulAEh\n",
       "JIYwMGVo2BAMhYWBh4iYsqSqlPAoj8KdHdunECm4gpP+h//v7rv7778z8L+k6d3kyFANNQG85M0L\n",
       "L7yKTpbT3fTk8mD8JI0zwEPe3/ZCPMqX9M0A+cRAfJV1gDlaQjNeiOs8pWo09EEJVT/Qh7pu+g9U\n",
       "vRCP87RRAjbXnTNx5cU8QVoc6oP5+SUvvP4Kz+dpvHLjPOzitQ3O0CXgc6HwxgtxwIyzCyxcdg/D\n",
       "Ncdv826DlvvAKaAIjM0a2Qsm4LxRybVzUD5nO6Vbf/LO8vPelE+26kcz/VjjW2h8uafAYwaCtsam\n",
       "fHMb5Xrg88gXoK0LhTG79hIoZ2g5BEQR4RiywNGSINbyDWFnoyQxJg7GifyHzFBrn1Xk6fQ011iK\n",
       "8EaUH+EtcE5GHG6TY02HYqbURm3iGDfJN9k1t6yXpEz6KhaxVjnGAXagrkjiE0FyHEgCUxLlVHBt\n",
       "pug6Izsix697FUJgNG6lAsUJ9vS9PtmUxHqAmv1eoVC4XhIoKzR6ZVyuiBT38h0i4tFt2jyjcYd/\n",
       "F+EK1HFBrFYj2zjOwWmnmy7KmhmrjJUDot0W7Ewzw65VbvBxeQQz0HYEcdvI7SJnmq4lXJTvRnHk\n",
       "fqXTN+TjFq1l7uAK1Nmv5JqLRGXzWBX+jiA+C6WD0EXDMHI1gbLsH9A1yb5vLW7vyk0sZVxiP4VD\n",
       "1dS6trX1SKIsz/+iPZ1ODK8a2ZtwiDWqxSs/G1AyXHECdX6bQ6T151Gw74paqV8jpA8nnhpGPFCu\n",
       "DtWIJPdEvDcZ+Uc8vwEa7amEjzepMAAAAABJRU5ErkJggg==\n",
       "\" style=\"display:inline;vertical-align:middle;\" /></a></td></tr>\n",
       "<tr><td>1</td><td>Literal</td><td></td><td><a class=\"ProveItLink\" href=\"../../../quantification/universal/__pv_it/265f8c02ac1094d56e0e6410a1c1fd3500dc9f540/expr.ipynb\"><img src=\"data:image/png;base64,iVBORw0KGgoAAAANSUhEUgAAAAwAAAAQBAMAAADQT4M0AAAAMFBMVEX///8QEBC6urrMzMxUVFRm\n",
       "ZmZERETc3NwyMjKqqqp2dnaIiIiYmJgiIiLu7u4AAAAU9Wx4AAAAAXRSTlMAQObYZgAAAFhJREFU\n",
       "CNdjeMAABhdAxGmGlSCqj6EMSLInMHAAJVknMPAsLy+vBYp8S0u7BaScGRjSgZQKA18DkOJl4D4A\n",
       "pLgP8IJM4mswARuX7gSmpoKNZWDcAKZ4gCoAgTQTILaSE58AAAAASUVORK5CYII=\n",
       "\" style=\"display:inline;vertical-align:middle;\" /></a></td></tr>\n",
       "<tr><td>2</td><td>Lambda</td><td>parameter:&nbsp;11<br>body:&nbsp;3<br>conditions:&nbsp;4<br></td><td><a class=\"ProveItLink\" href=\"../55671c4dae28ed4064daa38712ac7bf2ee326a9c0/expr.ipynb\"><img src=\"data:image/png;base64,iVBORw0KGgoAAAANSUhEUgAAANkAAAAVCAMAAAD8SruLAAAANlBMVEX///8UFBQNDQ2qqqru7u4i\n",
       "IiJ2dnbc3NyIiIjMzMxmZmYQEBC6uroyMjJERERUVFSYmJgAAAC3B9V0AAAAAXRSTlMAQObYZgAA\n",
       "Aj1JREFUWMPNWNmWpCAMdQYUZOf/f7a1ZUuCStfhzHReqsrODfeSBexl+VXGxP9mYOSEIMGQR5uZ\n",
       "yzP4GP1hzg4G3v2HwARfr0+1DynL7h8J0e5aKo4xtPxDYILH/GVIWXEfMMxnjzJ9+hG4LLX4DOQ3\n",
       "O7vG9JewDSir7gPVgPnIeHVuiNvQxpSVnoG2y0gwlVAL1+/KGvcFpnpXdM8xH5dWWPXI7phaRM9A\n",
       "060AeayfBTj2qqx1RyXjyCQlfK7cCev40u0ABgiomh8KhEQ7I9TwhcWQHdSbMuB+papwE6RPMZ+j\n",
       "KqWUam0CoHHkW+Y21LImwEWtjUVSMNzUbji2zL4og+7fa2pdw6N6J3xSdfLV3ynjvkm8Ng9AfPTi\n",
       "8+D8KYpgo1+UQfdzSSDGwPCET65OWdP+988KTDe1Xr92gCRHVhtwEp4WXdnkZ2XI/Rg5Ds0X7Ttt\n",
       "VvjkEdlMOHw4+mbJqqwDxGPYbhzn4Mi6HVSG3M/iAfUtrKRtVvnsWaGP7EaZaqeQZoUXBcI+W9Fo\n",
       "YXl0jVUjdv9+BuIL2GaITz4ERLQ3fbaDnXEBnR4tEDLz+GxCt4rwOEGIOwrKoTDKJ1XnrpvmlA+X\n",
       "iTKqe0BYK7jnMjDfKh6nPnVPVcE6LdLho9x1i7Q2jF70r4S+A+FJKpyO9nwSDqC9JOHJ2SjruUPF\n",
       "Ak6Tnwvp3K4G36L2N4eR29V9XM6X2Ra2SYHIHWX2+9mPzc7ZLT72FvMvTfgpYbz4dcoWMeO/BZL2\n",
       "oZyn7AuRWxzv6qJsLAAAAABJRU5ErkJggg==\n",
       "\" style=\"display:inline;vertical-align:middle;\" /></a></td></tr>\n",
       "<tr><td>3</td><td>Operation</td><td>operator:&nbsp;5<br>operands:&nbsp;6<br></td><td><a class=\"ProveItLink\" href=\"../39edb9fe2b7411693ffcf43a9bf0fb98391840e40/expr.ipynb\"><img src=\"data:image/png;base64,iVBORw0KGgoAAAANSUhEUgAAAEAAAAAPBAMAAACmSdRUAAAAMFBMVEX///+qqqru7u4iIiJ2dnbc\n",
       "3NyIiIjMzMxmZmYQEBC6uroyMjJERERUVFSYmJgAAADLUcuvAAAAAXRSTlMAQObYZgAAAOhJREFU\n",
       "GNNjYGB4+//u3dMLGLABdgMwNYeBgeMXVgXcH8DKvgHxX7ggE5KCx59AJNtXBga+LwhdCnAmq8RX\n",
       "EMUzgYGBeRJclOsCnMnGBraZ/wID6x6ENgY3OGsR4z8QVX8trfkBWKDZGATsG2CuWQByHgNDfgAD\n",
       "ky2y26WhfuZiYP0Bok+CFD1AUsC0E6Ki9u7dPyAa5MP3DkgKqp0gNFDZbFAwgBxyXwDhBuNDEHlG\n",
       "ILaEBgPrbyQDZKF0IBDvhwZD5SaEPOsGqEtA9HkFBo7zf+/e3odkAE8ARN3J3wEMb/7vwBKDqFwA\n",
       "TPY/hyWgimwAAAAASUVORK5CYII=\n",
       "\" style=\"display:inline;vertical-align:middle;\" /></a></td></tr>\n",
       "<tr><td>4</td><td>ExprTuple</td><td>7</td><td><a class=\"ProveItLink\" href=\"../af9df9aa386659ef3e5d68da3bbc5ea809ec016f0/expr.ipynb\"><img src=\"data:image/png;base64,iVBORw0KGgoAAAANSUhEUgAAAE0AAAAVBAMAAADx+n4ZAAAAMFBMVEX////c3NwiIiJERESqqqqY\n",
       "mJh2dnZmZmYQEBDu7u4yMjJUVFTMzMyIiIi6uroAAAAs73DqAAAAAXRSTlMAQObYZgAAAXdJREFU\n",
       "KM+NUj1Iw1AQ/qKNaWpaAzrVQezq0DoI4tLuDjq5CNrNSSgOrhZ0UAQtTsVBItLBSTfBoBUn0aGd\n",
       "RWlw7FQHBVus3r0LFkqwfZB7l7vv3X33A/R7YtWekBUWT6LfBwGWf1x3zoNxR/q5mC4CI20DRhtw\n",
       "gKik1ZOFAJj1TV8LWALC4h/bsn0fvbVyvh59pwifQBGoi6Va83wXx5/2cYN5YGCP7gw2pejCwqK4\n",
       "HlnEfdzIJbQzSjiUQ0kZTlARntZugk7SL65y87rB70MODpTBw4Rweha6dWFRs2FOcbo82iqK65ZT\n",
       "rBRTEkjbV9csYymg1RBcjOp2WDGvBBcXFtQSrGYVbof/M1RWXnlCCXUmhewHiXJG5Z3hLKRGGhJp\n",
       "nsWR/dc+rclTcLBG1zG36ktwBr3Bbad9D1w69eUNGD08hZ5uSsEm8dSkGiPdcq9V3yIewnbXTGk3\n",
       "zO5Z09z0bB87ut7Zq/8Oc8F4b9wwc9N67/0L8Av06VmxMv674wAAAABJRU5ErkJggg==\n",
       "\" style=\"display:inline;vertical-align:middle;\" /></a></td></tr>\n",
       "<tr><td>5</td><td>Literal</td><td></td><td><a class=\"ProveItLink\" href=\"../e5c030cabcb650938f92dee8256fe11cd12bf9b30/expr.ipynb\"><img src=\"data:image/png;base64,iVBORw0KGgoAAAANSUhEUgAAABMAAAANBAMAAAC5okgUAAAALVBMVEX////c3NxERETMzMwQEBCq\n",
       "qqoiIiJmZmaIiIh2dnZUVFS6uroyMjLu7u4AAACPpZJTAAAAAXRSTlMAQObYZgAAAD1JREFUCNdj\n",
       "YAABXgY44LkAZ3IvQAjPABFlaSCQV4AQjtkAZ/IegbNt5sLUpunC5aPgLMYDcCaTAJzJDCIA2yMN\n",
       "HCCUuIIAAAAASUVORK5CYII=\n",
       "\" style=\"display:inline;vertical-align:middle;\" /></a></td></tr>\n",
       "<tr><td>6</td><td>ExprTuple</td><td>11, 10</td><td><a class=\"ProveItLink\" href=\"../1d9a4008d5668a743cd8f9a815871ca1c5e3cf130/expr.ipynb\"><img src=\"data:image/png;base64,iVBORw0KGgoAAAANSUhEUgAAADYAAAAVBAMAAAD/UwB2AAAAMFBMVEX////c3NwiIiJERESqqqqY\n",
       "mJh2dnZmZmYQEBDu7u4yMjJUVFTMzMyIiIi6uroAAAAs73DqAAAAAXRSTlMAQObYZgAAAS5JREFU\n",
       "KM9jYMAH+C5gFWZ9ACROA3H0/927rR4gJA4BcQ0QrwRxmhkY2P8h5NYDMRcDAy/ISJ6/QPwbYZ7+\n",
       "BCCRwMABpBh4PwLZ3+ByIvUCDAycDQyvQBzmBgYGpk643IX7ILtNGMpAHP4NDIyLJ8BdPsE/AEil\n",
       "MywF8c7vvVsUANc2j+E8yBFeDH0g3n0BBk5tuNwDBvkCIPWCAexyC5A8TCPP7t37DUCGQeRAzo9P\n",
       "gFnHwMCxACzXAlL5FUjsd4DKAWmmBrCZplDvMf4CegkkxQiU4/oAZEQBXQrx3glg2M1XAHJmgQR+\n",
       "gv3wCBiS9r937wL5ZQZQv3D/QgZW+19Ah65j4BBAipiHSGxgmLEmIPEDkNhsF6BxhEUOZK80gsuL\n",
       "HPEbQW7GniZ4DzAAAJGlTQr2mfDRAAAAAElFTkSuQmCC\n",
       "\" style=\"display:inline;vertical-align:middle;\" /></a></td></tr>\n",
       "<tr><td>7</td><td>Operation</td><td>operator:&nbsp;8<br>operands:&nbsp;9<br></td><td><a class=\"ProveItLink\" href=\"../60a870658ecf77b4b2ca5e56543d5830b362e85b0/expr.ipynb\"><img src=\"data:image/png;base64,iVBORw0KGgoAAAANSUhEUgAAAEAAAAAPBAMAAACmSdRUAAAAMFBMVEX///92dnYQEBBERERUVFS6\n",
       "urqIiIhmZmaqqqrc3Nzu7u6YmJgyMjIiIiLMzMwAAACFkkdwAAAAAXRSTlMAQObYZgAAAQhJREFU\n",
       "GNNjYACBtwxYwJb/Li42ARD2eWwKGJQZGNi/glnc9xdgkef7BsRfwMwZ9ROgggeAYgVQNttPoNaP\n",
       "YGZCPtQqtgQgYQlVwKzAwMCrBWKxLujfABF7AyLmQBXwOzBwHgbbvZThfQLEVqW7QHD/FETBe7e0\n",
       "WojGAIb5EHtzIG6NgViYP4GB6wpYn4uLvwGIscgAopVTBUwZgRSBjGBlYGA6ABLhcocomAOxEOTD\n",
       "/QJAogHoWAWwEMddMLgJcdBvIOEPlOQEYp4PEL0tIGLtBHgwcP4BMtaAvPwLooAdqJjBFREMj4Ae\n",
       "mqx/koHb/g/EG1xAt3BCnMpu/8XF5zRG+D8AKkKNFwBxhUYQlN1g7wAAAABJRU5ErkJggg==\n",
       "\" style=\"display:inline;vertical-align:middle;\" /></a></td></tr>\n",
       "<tr><td>8</td><td>Literal</td><td></td><td><a class=\"ProveItLink\" href=\"../9817cf888369307f52607b98db5e99fdc17b089e0/expr.ipynb\"><img src=\"data:image/png;base64,iVBORw0KGgoAAAANSUhEUgAAABQAAAANBAMAAABbflNtAAAAKlBMVEX///+qqqpUVFS6urru7u4i\n",
       "IiIQEBDc3NxERESIiIhmZmbMzMwyMjIAAAAneYQxAAAAAXRSTlMAQObYZgAAAFpJREFUCNdjYEAB\n",
       "BxgYuBeAWZwTgEQ7mLkHRNSACO60UCCIPQJkznEAy9kYMLg1QPSyJzGwaEGYNUDNjKFgEA7iC4EI\n",
       "1wIQySUAJJTBqliAtrFDNW8AcoEmAgB4jw/0RzyxkgAAAABJRU5ErkJggg==\n",
       "\" style=\"display:inline;vertical-align:middle;\" /></a></td></tr>\n",
       "<tr><td>9</td><td>ExprTuple</td><td>10, 11</td><td><a class=\"ProveItLink\" href=\"../caee09fb4b5c95b986a9cee46a014afbad9bdc680/expr.ipynb\"><img src=\"data:image/png;base64,iVBORw0KGgoAAAANSUhEUgAAADUAAAAVBAMAAAAUZLt1AAAAMFBMVEX////c3NwiIiJERESqqqqY\n",
       "mJh2dnZmZmYQEBDu7u4yMjJUVFTMzMyIiIi6uroAAAAs73DqAAAAAXRSTlMAQObYZgAAATZJREFU\n",
       "KM9jYMAH+C5gFY4DEach7EMwQdb9v3dvXsfAfgDIXgkRWg/XwWHAwFD/gGEBAwMvxEhW/QkwufNA\n",
       "kfMbGMKAqiBiIvUCMLn7QFZ8AsMMBoZXEIEL9x/A5CyAWGMCA7MDQxnEsRP8A2ByvxkYpCwZGNgK\n",
       "GJaC+fPAtoABz++711WBNMsChj6wwAMG+QKoHO9HBoZJG4BGNTD8A6vdvXu/AVSOuQEo/xUo9gEi\n",
       "xwd07wKoHD9QD+s3sFwLiO/AwMDUAPMe0FHcX8BmmgK5jEA5rg8MDBNg3pMHGsK6gCEdyJ0FsuYn\n",
       "A+cnqPd4uiaA/fCIgUG4fyEDq/2vAs5+oJbi/7t3rwL5lesBA4cAUnQhsUFhxpqA4LIiR2AuIo7Q\n",
       "5ThBfpJG8JFTADfIfEbsaeIOAwMABOxNRsfkiy0AAAAASUVORK5CYII=\n",
       "\" style=\"display:inline;vertical-align:middle;\" /></a></td></tr>\n",
       "<tr><td>10</td><td>Variable</td><td></td><td><a class=\"ProveItLink\" href=\"../../../../../__pv_it/2cbe72a7ad6f655694dd697106680215e8489b600/expr.ipynb\"><img src=\"data:image/png;base64,iVBORw0KGgoAAAANSUhEUgAAAA8AAAAOBAMAAAACpFvcAAAALVBMVEX///8QEBBERERUVFS6urqI\n",
       "iIhmZmaqqqrc3Nzu7u6YmJgyMjIiIiLMzMwAAADtIaYWAAAAAXRSTlMAQObYZgAAAFtJREFUCNdj\n",
       "YACBOwxQsA9Kc52bAGG05zVAGAFxDmCaZULdAjBjCsO9ADDDgaEvAUTzGhvbKYCVMDAwbgAxChgY\n",
       "eASANAeQwf0AyJgNxEwvGRia5HYwcOm9TgAA6BoR3jrzwFcAAAAASUVORK5CYII=\n",
       "\" style=\"display:inline;vertical-align:middle;\" /></a></td></tr>\n",
       "<tr><td>11</td><td>Variable</td><td></td><td><a class=\"ProveItLink\" href=\"../../../../../__pv_it/077b2ff79244fb4582cbe22c6e3356fa92a52f2f0/expr.ipynb\"><img src=\"data:image/png;base64,iVBORw0KGgoAAAANSUhEUgAAABAAAAAOBAMAAADUAYG5AAAAMFBMVEX///+qqqru7u4iIiJ2dnbc\n",
       "3NyIiIjMzMxmZmYQEBC6uroyMjJERERUVFSYmJgAAADLUcuvAAAAAXRSTlMAQObYZgAAAGpJREFU\n",
       "CNdjYGB4+//u3dMLGIBgDgMDxy8gzf4NiP8CGWxfGRj4vgAZPBMYGJgnARn8FxhY9ygAGfXX0pof\n",
       "gDTlBzAw2YIYJ0EckBBI53sHoBH/gIz7AhBjWH9DjancBLTl/N+7t/cxMAAA3u4f/5xagjYAAAAA\n",
       "SUVORK5CYII=\n",
       "\" style=\"display:inline;vertical-align:middle;\" /></a></td></tr>\n",
       "</table>\n"
      ],
      "text/plain": [
       "0. forall_{B | A <=> B} (B => A)\n",
       "   core type: Operation\n",
       "   operator: 1\n",
       "   operand: 2\n",
       "1. forall\n",
       "   core type: Literal\n",
       "   sub-expressions: \n",
       "2. B -> (B => A) | A <=> B\n",
       "   core type: Lambda\n",
       "   parameter: 11\n",
       "   body: 3\n",
       "   conditions: 4\\n3. B => A\n",
       "   core type: Operation\n",
       "   operator: 5\n",
       "   operands: 6\n",
       "4. (A <=> B)\n",
       "   core type: ExprTuple\n",
       "   sub-expressions: 7\n",
       "5. =>\n",
       "   core type: Literal\n",
       "   sub-expressions: \n",
       "6. (B , A)\n",
       "   core type: ExprTuple\n",
       "   sub-expressions: 11, 10\n",
       "7. A <=> B\n",
       "   core type: Operation\n",
       "   operator: 8\n",
       "   operands: 9\n",
       "8. <=>\n",
       "   core type: Literal\n",
       "   sub-expressions: \n",
       "9. (A , B)\n",
       "   core type: ExprTuple\n",
       "   sub-expressions: 10, 11\n",
       "10. A\n",
       "    core type: Variable\n",
       "    sub-expressions: \n",
       "11. B\n",
       "    core type: Variable\n",
       "    sub-expressions: "
      ]
     },
     "execution_count": 4,
     "metadata": {},
     "output_type": "execute_result"
    }
   ],
   "source": [
    "# display the expression information\n",
    "expr.exprInfo()"
   ]
  },
  {
   "cell_type": "code",
   "execution_count": null,
   "metadata": {},
   "outputs": [],
   "source": []
  }
 ],
 "metadata": {
  "kernelspec": {
   "display_name": "Python 3",
   "language": "python",
   "name": "python3"
  }
 },
 "nbformat": 4,
 "nbformat_minor": 0
}
