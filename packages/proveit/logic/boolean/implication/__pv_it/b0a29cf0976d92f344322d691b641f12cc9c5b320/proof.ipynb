{
 "cells": [
  {
   "cell_type": "markdown",
   "metadata": {},
   "source": [
    "Show the Proof\n",
    "========"
   ]
  },
  {
   "cell_type": "code",
   "execution_count": 1,
   "metadata": {},
   "outputs": [
    {
     "data": {
      "text/html": [
       "<table><tr><th>&nbsp;</th><th>step type</th><th>requirements</th><th>statement</th></tr>\n",
       "<tr><td>0</td><td>specialization</td><td>1, 2, 3</td><td><span style=\"font-size:20px;\"><a class=\"ProveItLink\" href=\"../d70e77a9b7469c3fc7261fafc06fed0c96c1afb70/expr.ipynb\"><img src=\"data:image/png;base64,iVBORw0KGgoAAAANSUhEUgAAAJMAAAAVBAMAAACwIsHjAAAAMFBMVEX///9ERETc3NyqqqpUVFS6\n",
       "urrMzMwyMjIQEBCIiIh2dnYiIiLu7u5mZmaYmJgAAABJJ2g3AAAAAXRSTlMAQObYZgAAAdVJREFU\n",
       "OMtjYGDgu8dAKWBbpQCieHYxUA7YmkEk5wcoNxurIqYJKFo2oMou/1hfsdEAyLgO4nE1QIXrsdt3\n",
       "AZnH/gFNWiCSp2YVkF6BbBTf/gNwBTy4jHr9B8Mohqns6EYp31dAWH4Au1FMtp8gjJPVu7fDjLJj\n",
       "OYBm1IT5AXAtrA7YjeLk/AoRrDuA5CpFNFexHrB/gNCzErtRMcz/wLTiAYQH2fbJwIziLQCLHWXI\n",
       "B8fV7d0gsP8CNqN4Ath+ghlCiLCK3v8DpO89iJMB8VcAgz6y/eYBWIxiZWD6CzZSADnYZxqCQheo\n",
       "LKUNosPFxV8AySieigBMo1JcXD6CjewGOhwe7IysC4AMcWDwRCRALGTgKEAyKn0NFlcBTW8Hizkg\n",
       "u4qRAegGbpBxLGATgCmWuwERVrtlsIQVMxDvADt5A4ZR4LDiAokzGaCmZBO0GATHmDI8S/ihGAXy\n",
       "ICIxHAdiRkRKZipANYrnN4gACcqDDT0dgGTU24nI6Uqxv4iBT/473C+M0ITPC/QqMIgFePoVGJgk\n",
       "viswPPxfC7aqNgGenaVbDNAzDkoeRhdgVUDlM7tDYxAGcBqFAfgIKQAbxUcVo8DlFc9OIoyaQKgU\n",
       "bYXYuJg6ZTsAyDKHYYjlni8AAAAASUVORK5CYII=\n",
       "\" style=\"display:inline;vertical-align:middle;\" /></a> <a class=\"ProveItLink\" href=\"proof.ipynb\" style=\"text-decoration: none\">&#x22A2;&nbsp;</a><a class=\"ProveItLink\" href=\"../feaa1d0e6d92ad9ead8e5ffd1f92697e3912387a0/expr.ipynb\"><img src=\"data:image/png;base64,iVBORw0KGgoAAAANSUhEUgAAABwAAAAOBAMAAADOPWE3AAAAMFBMVEX///8QEBBERES6urqIiIiq\n",
       "qqrc3Nzu7u6YmJgyMjJUVFTMzMx2dnYiIiJmZmYAAADMbjvTAAAAAXRSTlMAQObYZgAAAGNJREFU\n",
       "CNdjYEAA7gsMyIDzAwq39zsyjy3uGzKXheUzMtec9QcSj92A+wsDw9u7QHAHyGVmYPsHldkFwqtW\n",
       "fULiGjAwSCK4rEDqIoKbCqTmw1zLwD4BSOkXwFyk+DOBoen/PABSrhtHsYt+gAAAAABJRU5ErkJg\n",
       "gg==\n",
       "\" style=\"display:inline;vertical-align:middle;\" /></a></span></td></tr>\n",
       "<tr><td>&nbsp;</td><td colspan=4 style=\"text-align:left\"><span style=\"font-size:20px;\"><a class=\"ProveItLink\" href=\"../../../../../__pv_it/2cbe72a7ad6f655694dd697106680215e8489b600/expr.ipynb\"><img src=\"data:image/png;base64,iVBORw0KGgoAAAANSUhEUgAAAA8AAAAOBAMAAAACpFvcAAAALVBMVEX///8QEBBERERUVFS6urqI\n",
       "iIhmZmaqqqrc3Nzu7u6YmJgyMjIiIiLMzMwAAADtIaYWAAAAAXRSTlMAQObYZgAAAFtJREFUCNdj\n",
       "YACBOwxQsA9Kc52bAGG05zVAGAFxDmCaZULdAjBjCsO9ADDDgaEvAUTzGhvbKYCVMDAwbgAxChgY\n",
       "eASANAeQwf0AyJgNxEwvGRia5HYwcOm9TgAA6BoR3jrzwFcAAAAASUVORK5CYII=\n",
       "\" style=\"display:inline;vertical-align:middle;\" /></a> : <a class=\"ProveItLink\" href=\"../../../../../__pv_it/2cbe72a7ad6f655694dd697106680215e8489b600/expr.ipynb\"><img src=\"data:image/png;base64,iVBORw0KGgoAAAANSUhEUgAAAA8AAAAOBAMAAAACpFvcAAAALVBMVEX///8QEBBERERUVFS6urqI\n",
       "iIhmZmaqqqrc3Nzu7u6YmJgyMjIiIiLMzMwAAADtIaYWAAAAAXRSTlMAQObYZgAAAFtJREFUCNdj\n",
       "YACBOwxQsA9Kc52bAGG05zVAGAFxDmCaZULdAjBjCsO9ADDDgaEvAUTzGhvbKYCVMDAwbgAxChgY\n",
       "eASANAeQwf0AyJgNxEwvGRia5HYwcOm9TgAA6BoR3jrzwFcAAAAASUVORK5CYII=\n",
       "\" style=\"display:inline;vertical-align:middle;\" /></a></span></td></tr><tr><td>1</td><td>theorem</td><td></td><td><span style=\"font-size:20px;\"> <a class=\"ProveItLink\" href=\"../../_proofs_/denyViaContradiction.ipynb\" style=\"text-decoration: none\">&#x22A2;&nbsp;</a><a class=\"ProveItLink\" href=\"../f587695ff863e59687e1a43c82141192138bb4960/expr.ipynb\"><img src=\"data:image/png;base64,iVBORw0KGgoAAAANSUhEUgAAAJ4AAAAXBAMAAAAIFOtYAAAAMFBMVEX///8QEBC6urrMzMxUVFRm\n",
       "ZmZERETc3NwyMjKqqqp2dnaIiIiYmJgiIiLu7u4AAAAU9Wx4AAAAAXRSTlMAQObYZgAAAiRJREFU\n",
       "OMtjYKAyeEC+VqYNaAI8CgwMF0CM02SZZ4LCswXiYAaGlSB2H1nmoerqB2IOBoYyIMWeQI5x3Cje\n",
       "5bkPDDmeBQwcQIp1AjnmMaIEfWV8AQMDnwADz/Ly8lqyvKuBwtuwHxgZDJkMDN/S0m6RZV4USlw/\n",
       "mH8ASC1lYHBmYEgHC7Wja1CAMdqxmteDzHnEYA8KzhkMDCoMfA3gAP0EDdiurtYDYBYslmAyEMAG\n",
       "YwgBA/4uCCwA210fAKQUGRh4GbjB2p/+ARKvQ2MYNix4rYRiHlgG0zyYLcwOQOzi4g9Sbg+M9gO8\n",
       "4IhadxXITqp7BzSP6w2KeSAZIOCcgNs8JmB0N0DM42sAp3PmDWkMDEfBMbVAOw7ZPLAMCKSjmieJ\n",
       "ZB7QKl4BiH8Z0p1AoiwMsQwM4IDcECqLEn4gGdY0IGg0QDEvB2EeO9A8jg9A9gkgngrOwicZ9jMw\n",
       "L4C4j9Ua2TyQDASEGiCbtxTGMGB4ARL/BxVjBEU039XQ/AfM19LSskHhx4VkHlgGotEsHNk8XXgU\n",
       "lcm3M/Dk/wBGcBMoOYBUsxYw2BvwOUDch2IeWIY7FAhCAlD8y1iAkST5BGAsHQYG/gMM7lD/ViOZ\n",
       "B5bhewcEq1Hjg2cBhnlcsCLiyTcGdv87DM8UwOk5DSk+oDLQeGQIS0tMS1uArbwCgRfoAsuA4QcH\n",
       "aKUYO3pRXoJhnjveDE+oVGRHL++5DSgyj1TgQIYeABPOjxVzQ9CDAAAAAElFTkSuQmCC\n",
       "\" style=\"display:inline;vertical-align:middle;\" /></a></span></td></tr>\n",
       "<tr><td>&nbsp;</td><td colspan=4 style-\"text-align:left\"><a class=\"ProveItLink\" href=\"../../_proofs_/denyViaContradiction.ipynb\">proveit.logic.boolean.implication.denyViaContradiction</a></td></tr><tr><td>2</td><td>assumption</td><td></td><td><span style=\"font-size:20px;\"><a class=\"ProveItLink\" href=\"../3612ec1dc3b8c98c2193921a926214e0c20eaba70/expr.ipynb\"><img src=\"data:image/png;base64,iVBORw0KGgoAAAANSUhEUgAAAEkAAAAVBAMAAAD4Ed5jAAAAMFBMVEX///9ERETc3NyqqqpUVFS6\n",
       "urrMzMwyMjIQEBCIiIh2dnYiIiLu7u5mZmaYmJgAAABJJ2g3AAAAAXRSTlMAQObYZgAAAS5JREFU\n",
       "KM9jYGDgu8eAB7CtUgBRPLsY8AK2ZhDJ+QHK24Aqu/xjfcVGAyDjOojH1QARZf+AZohAJE/NKiC9\n",
       "AlnV6z8YqhimsqOpYrL9BJHkmb57dwFUlR3LAVRVnJxfIarS3yCZpYhmVgzzP4iZMggb2fbJwFTx\n",
       "go3nCWD7CZZjVICrit7/YwKQfg/iZASASFYGpr9guYPIrp9pCPL8BQaGlDawUIqLy0cwI2L3boTr\n",
       "GVkXABniD4DCCSAhoIHtEOXIZjEyCDAwcINUsoA0MgPxDrDcaQxVYHdxgWJGGYjrwXIsD5BVgWyE\n",
       "hwQPyDz5A2DPbkVS9XYiUngxSXxXYHj4vxYsqX4NHtvSLQbo8QgHJtUQP8IAdlXoAKyKj5AqcPri\n",
       "2UkgrbaCKb7FBNM9AKQsUzxrU6Y9AAAAAElFTkSuQmCC\n",
       "\" style=\"display:inline;vertical-align:middle;\" /></a> <a class=\"ProveItLink\" href=\"../dc2523262ffa0ce1920b871c7f702fb73e741c290/proof.ipynb\" style=\"text-decoration: none\">&#x22A2;&nbsp;</a><a class=\"ProveItLink\" href=\"../18d84e6b10643c76412edd0e67904c254c981c030/expr.ipynb\"><img src=\"data:image/png;base64,iVBORw0KGgoAAAANSUhEUgAAADYAAAAPBAMAAABdHiGLAAAAMFBMVEX///92dnYQEBBERERUVFS6\n",
       "urqIiIhmZmaqqqrc3Nzu7u6YmJgyMjIiIiLMzMwAAACFkkdwAAAAAXRSTlMAQObYZgAAANJJREFU\n",
       "GNNjYACBtwwogPG8zR9dCyjnPKocAzNrwpqFAmAm9/0FGHJsAQfAzBn1EyBiy87evQOV49jgBRZK\n",
       "yA8A03ynFyD0RRqAWKwL+jeAhSYvQJj5djOYs5ThfQJYyBJh393/amBWAMP8AhDNZYDslgwQj8/F\n",
       "xR9itu7du3C3MBgEgoQYGJjA7uVzQNLHYMAMZDQwMPAqgM28gC7HCZTj+QAW8kaRA5q5BsT+BRZa\n",
       "G4CQ4y4zYJisf5KB2/4P2KGcxx/AwvrzJQ+0MObwgbgTAgCMvTlc/0QYTQAAAABJRU5ErkJggg==\n",
       "\" style=\"display:inline;vertical-align:middle;\" /></a></span></td></tr>\n",
       "<tr><td>3</td><td>assumption</td><td></td><td><span style=\"font-size:20px;\"><a class=\"ProveItLink\" href=\"../2b9656d370257be8964c4fcdff9aea577d8716400/expr.ipynb\"><img src=\"data:image/png;base64,iVBORw0KGgoAAAANSUhEUgAAAFMAAAAVBAMAAADInc9CAAAAMFBMVEX///9ERETc3NyqqqpUVFS6\n",
       "urrMzMwyMjIQEBCIiIh2dnYiIiLu7u5mZmaYmJgAAABJJ2g3AAAAAXRSTlMAQObYZgAAAQFJREFU\n",
       "KM9jYGDgu8dACLCtUgBRPLsYCAO2ZhDJ+QHKzcaqiGkCmLoOIrgaoIL12M27AKZWICvl238ALs+D\n",
       "X6nyfQW4PPsBvEonzA+Ay7M64FPKesD+AcLalViV8haA2UcZ8sF+vb0bBPZfQFP6HkRkQOwNYNC/\n",
       "gORx8wBUpexAKqUNIuLi4i+ApJSnIgBFKYM40HkRCWCnMjBwFCApTV+Dair3AiDBAlZhAOQ1INy6\n",
       "WwabW7k2gKIPqJT9A8JQE9yBdRyIGf8gIr4Ap1LF/iIGPvnv8CBghEYcL9Ap3bt3C6DFFkoawRDB\n",
       "qZQBu1I+opSC0yvPTmJyQSskoS4mLm8BAFBxTl4IfWdSAAAAAElFTkSuQmCC\n",
       "\" style=\"display:inline;vertical-align:middle;\" /></a> <a class=\"ProveItLink\" href=\"../bc6e1b66eb4922dcf9ce62b6e70a05088d32eebb0/proof.ipynb\" style=\"text-decoration: none\">&#x22A2;&nbsp;</a><a class=\"ProveItLink\" href=\"../4f26866d68e126534354d142bb7cbda24f94bb5b0/expr.ipynb\"><img src=\"data:image/png;base64,iVBORw0KGgoAAAANSUhEUgAAAD8AAAAPBAMAAAChCwpBAAAAMFBMVEX///92dnYQEBBERERUVFS6\n",
       "urqIiIhmZmaqqqrc3Nzu7u6YmJgyMjIiIiLMzMwAAACFkkdwAAAAAXRSTlMAQObYZgAAAKhJREFU\n",
       "GNNjYACBtwzYAGcCnHkeqwK+AhiL+/4CuCgXNgUz6ifARXkWYFGQkB8AF2V1wFTAuqB/A8JgMUwF\n",
       "Sxneg91bexcE7hdgKAhgmF+A5PieADQFfC4u/gZICrgOBaAqYGVgYDqApOCNFJoJDQwMvAoIN9y1\n",
       "QnMDJ1ABzweEAS3ovlgDxMy/EBFwAE3BZP2TDNz2f+DeYIYGKjvQMt27dw0wYwiNDwDqnDFBsIEk\n",
       "9AAAAABJRU5ErkJggg==\n",
       "\" style=\"display:inline;vertical-align:middle;\" /></a></span></td></tr>\n",
       "</table>"
      ],
      "text/plain": [
       "<proveit._core_.proof._ShowProof at 0x7f94ebd88240>"
      ]
     },
     "execution_count": 1,
     "metadata": {},
     "output_type": "execute_result"
    }
   ],
   "source": [
    "import proveit\n",
    "%show_proof"
   ]
  },
  {
   "cell_type": "code",
   "execution_count": null,
   "metadata": {},
   "outputs": [],
   "source": []
  }
 ],
 "metadata": {
  "kernelspec": {
   "display_name": "Python 3",
   "language": "python",
   "name": "python3"
  }
 },
 "nbformat": 4,
 "nbformat_minor": 0
}
