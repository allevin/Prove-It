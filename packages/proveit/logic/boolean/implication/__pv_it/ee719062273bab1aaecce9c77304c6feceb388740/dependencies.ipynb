{
 "cells": [
  {
   "cell_type": "markdown",
   "metadata": {},
   "source": [
    "Theorem Dependencies\n",
    "=======================\n",
    "\n",
    "## <a class=\"ProveItLink\" href=\"../../_context_.ipynb\">proveit.logic.boolean.implication</a>.<a class=\"ProveItLink\" href=\"../../_theorems_.ipynb#implicationTransitivity\">implicationTransitivity</a> \n",
    "***see <a class=\"ProveItLink\" href=\"../../_proofs_/implicationTransitivity.ipynb\">proof</a>***"
   ]
  },
  {
   "cell_type": "code",
   "execution_count": 1,
   "metadata": {},
   "outputs": [],
   "source": [
    "from proveit.logic.boolean.implication._theorems_ import implicationTransitivity"
   ]
  },
  {
   "cell_type": "code",
   "execution_count": 2,
   "metadata": {},
   "outputs": [
    {
     "data": {
      "text/html": [
       "<h3>Theorems that depend directly on implicationTransitivity</h3>"
      ],
      "text/plain": [
       "<IPython.core.display.HTML object>"
      ]
     },
     "metadata": {},
     "output_type": "display_data"
    },
    {
     "data": {
      "text/html": [
       "<dl>"
      ],
      "text/plain": [
       "<IPython.core.display.HTML object>"
      ]
     },
     "metadata": {},
     "output_type": "display_data"
    },
    {
     "data": {
      "text/html": [
       "<dt><a class=\"ProveItLink\" href=\"../../_proofs_/iffTransitivity.ipynb\">proveit.logic.boolean.implication.iffTransitivity</a></dt><dd><a class=\"ProveItLink\" href=\"../41603a761fb41c0a1bdaf047326ae87e68e279fc0/expr.ipynb\"><img src=\"data:image/png;base64,iVBORw0KGgoAAAANSUhEUgAAAQMAAAAXBAMAAAD9zzfBAAAAMFBMVEX///8QEBC6urrMzMxUVFRm\n",
       "ZmZERETc3NwyMjKqqqp2dnaIiIiYmJgiIiLu7u4AAAAU9Wx4AAAAAXRSTlMAQObYZgAAA7JJREFU\n",
       "SMfFVltsDGEU/rrT2Wl3t1MScXugEhIJYR/qEiLdoEg8tKJTiRBELCJhHlwqgiWk8UIfEI/Eg2tq\n",
       "hSBpwvAgVEQ9IHHdRoWQLtG07uWc88/OjrXUy3KS+a/nnPnOdQb4/5QqpPIxfXJco6eNF7cKg0CL\n",
       "qakt36V5oXqRUatHgRO83VsYCCXKxSXv8l0ecRCY5yABbKSdsbQwEFrUdLs3z92rpzScsdGqkOpN\n",
       "hYEwTEbjwAd3TxZrte56B3toBNAORI5t2rS1MAgCCZnC4fdqH07SsFKt9U88bgCCZH5PPP6wMBD0\n",
       "wzKNK/2q9pN5aFDr7QLvORAit8zIIGuU8WC3NSuqQFcvfGOzMV522Vn1peusuuU5AorOW80XXX5H\n",
       "Mr9C+6IKo/8Tomcq9Zc4GUWEZSRMQRRR7or0Q7ifSDwGlvEimFF+p8L3pqvA2Z8FFE1zEHS3RcIf\n",
       "gNEt20uqPkbL6bOMOQFiLkNYEL1Q7tJjCEj6jCfTDvohmB5ypjrisH8SUBq7yDC3wMrlZZUzZ/bw\n",
       "3O6eGgN4/J7pixpVbNgpE3jN9+S0LAmdW4k5lIapfgihTgqbGYMmIX4ELPYLdABT+EV0qSX9EGgY\n",
       "LBZUq9MGuR0uQYgqCGaiUvyejAvH2yhusHUh7idpP4SpQbKDu9lsVtiFSKNfYD5QTNMZvnObfhHX\n",
       "eik9d1XUnwg9kE0N8+huILByOp8Vu0aNbzm/Vozz2lUGQoyNPRKPx3fQqwJfWmalfAKhgfH4qkHA\n",
       "fV+sghy4zfTsU/v9PHSqJKhiXzRzKnEiHpAWfhNX5O44ZRrrLj+cAyHSFH6HiWyYOTeFUAKRYVkB\n",
       "bTUvOy7jsw8C15uk+joFVjrgdFcb9YVRtsuEIgZk3rMU4wpyLbMWEQQz6YPQadX3ol54DlUgWAtT\n",
       "uosS0MVzpTvBGfQmk5ptMJZ9tHH9+26Vzwnft6BylyU9uYQTJiJhsVEl1f1J1QJ04g2lfBAWQOuC\n",
       "scKyrHpCVt4kye8JbKRzaw1Q7/pXaFBOr4pm88Sjdm81lrQ6RiOMXhhUGg22OQQ46gtEgAJLZftq\n",
       "Wzp9mrtbCltrkRUwG9Pp18TS3oSQ16ha/6KFnsosOnpg1DzWvuJ4tzWHHFTl4EX1yVQWglmzFOu/\n",
       "OfyZobpEaJ9Vt4fKyBPABKlLmHULm3M/1n8i1RZ9FPFWvi4UzHGmaecT0ICXufqNWJ8Qiu2cg0me\n",
       "Qvt3EH4jkJ+29AnhXO6B86t1f4bg/Jsf3OIC6/8BzSwFlb8y3R4AAAAASUVORK5CYII=\n",
       "\" style=\"display:inline;vertical-align:middle;\" /></a></dd>"
      ],
      "text/plain": [
       "<IPython.core.display.HTML object>"
      ]
     },
     "metadata": {},
     "output_type": "display_data"
    },
    {
     "data": {
      "text/html": [
       "</dl>"
      ],
      "text/plain": [
       "<IPython.core.display.HTML object>"
      ]
     },
     "metadata": {},
     "output_type": "display_data"
    }
   ],
   "source": [
    "%dependencies implicationTransitivity"
   ]
  }
 ],
 "metadata": {
  "kernelspec": {
   "display_name": "Python 3",
   "language": "python",
   "name": "python3"
  }
 },
 "nbformat": 4,
 "nbformat_minor": 0
}
