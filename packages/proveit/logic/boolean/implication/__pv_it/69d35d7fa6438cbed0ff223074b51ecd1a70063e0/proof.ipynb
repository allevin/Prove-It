{
 "cells": [
  {
   "cell_type": "markdown",
   "metadata": {},
   "source": [
    "Show the Proof\n",
    "========"
   ]
  },
  {
   "cell_type": "code",
   "execution_count": 1,
   "metadata": {},
   "outputs": [
    {
     "data": {
      "text/html": [
       "<table><tr><th>&nbsp;</th><th>step type</th><th>requirements</th><th>statement</th></tr>\n",
       "<tr><td>0</td><td>specialization</td><td>1, 2</td><td><span style=\"font-size:20px;\"><a class=\"ProveItLink\" href=\"../b9713b405570857a29694d61fe5e2536eab03fc30/expr.ipynb\"><img src=\"data:image/png;base64,iVBORw0KGgoAAAANSUhEUgAAAHUAAAAVBAMAAACK3rzVAAAAMFBMVEX////c3NxERESqqqpUVFS6\n",
       "urrMzMwyMjIQEBCIiIh2dnYiIiLu7u5mZmaYmJgAAABXZE4RAAAAAXRSTlMAQObYZgAAAbZJREFU\n",
       "OMtjYGDgu8dAMmBbJQCieHahiEYS1McXANLcDGJyfkAx0AFCbcCmyf+Li1MpA8M1EOc6iOBqQJZn\n",
       "PwChPmCzkUOBgeF+AAM7iL0CU+9MCPX6D0LoAJyVPwGIHRj4FmDX2wMmGW0/IoRq4Kz5wAB6v4CB\n",
       "pwGrXtYCMMXJ+RUhFgJnaQDxDqAzlLHq5V0ApmKY/yHEuCbAWF8YGMR1gPRamF7eAuSgegCOtgC2\n",
       "n2Cp3WDwFxYHX2bO3QdimAPxexAjIwCmCGgnRwDY5QyMf5EMZC6F0JzAQDgNisMIkC0XGBhS2pCj\n",
       "lh+sN8XF5RNyAB5vBVNMQN9xgjyTD+KpA50YkYChF0i0I6eXKkg08QMV8P2C6uUGhQxLAZJeDgOQ\n",
       "G0HBieTfTdAYzgfaxPIZ6mawf7k2IOllAoWVMBDXI3nXASl65UE2PceMI6DjuYAhwAOS1kekJnGk\n",
       "6GVrP4AcR6hpYwMDo8Z3AYZH/2vhYopQ+tJ/F5dycByWYk+TjZg5IAFdAEeaZHhFRMYHJzSwXj5s\n",
       "eRAvOA7Pvzw7kcUZHQjrdQRFCiS58C1GlpAkqJUzAVpeAQCj4XXVPjLA8gAAAABJRU5ErkJggg==\n",
       "\" style=\"display:inline;vertical-align:middle;\" /></a> <a class=\"ProveItLink\" href=\"proof.ipynb\" style=\"text-decoration: none\">&#x22A2;&nbsp;</a><a class=\"ProveItLink\" href=\"../39edb9fe2b7411693ffcf43a9bf0fb98391840e40/expr.ipynb\"><img src=\"data:image/png;base64,iVBORw0KGgoAAAANSUhEUgAAAEAAAAAPBAMAAACmSdRUAAAAMFBMVEX///+qqqru7u4iIiJ2dnbc\n",
       "3NyIiIjMzMxmZmYQEBC6uroyMjJERERUVFSYmJgAAADLUcuvAAAAAXRSTlMAQObYZgAAAOhJREFU\n",
       "GNNjYGB4+//u3dMLGLABdgMwNYeBgeMXVgXcH8DKvgHxX7ggE5KCx59AJNtXBga+LwhdCnAmq8RX\n",
       "EMUzgYGBeRJclOsCnMnGBraZ/wID6x6ENgY3OGsR4z8QVX8trfkBWKDZGATsG2CuWQByHgNDfgAD\n",
       "ky2y26WhfuZiYP0Bok+CFD1AUsC0E6Ki9u7dPyAa5MP3DkgKqp0gNFDZbFAwgBxyXwDhBuNDEHlG\n",
       "ILaEBgPrbyQDZKF0IBDvhwZD5SaEPOsGqEtA9HkFBo7zf+/e3odkAE8ARN3J3wEMb/7vwBKDqFwA\n",
       "TPY/hyWgimwAAAAASUVORK5CYII=\n",
       "\" style=\"display:inline;vertical-align:middle;\" /></a></span></td></tr>\n",
       "<tr><td>&nbsp;</td><td colspan=4 style=\"text-align:left\"><span style=\"font-size:20px;\"><a class=\"ProveItLink\" href=\"../../../../../__pv_it/2cbe72a7ad6f655694dd697106680215e8489b600/expr.ipynb\"><img src=\"data:image/png;base64,iVBORw0KGgoAAAANSUhEUgAAAA8AAAAOBAMAAAACpFvcAAAALVBMVEX///8QEBBERERUVFS6urqI\n",
       "iIhmZmaqqqrc3Nzu7u6YmJgyMjIiIiLMzMwAAADtIaYWAAAAAXRSTlMAQObYZgAAAFtJREFUCNdj\n",
       "YACBOwxQsA9Kc52bAGG05zVAGAFxDmCaZULdAjBjCsO9ADDDgaEvAUTzGhvbKYCVMDAwbgAxChgY\n",
       "eASANAeQwf0AyJgNxEwvGRia5HYwcOm9TgAA6BoR3jrzwFcAAAAASUVORK5CYII=\n",
       "\" style=\"display:inline;vertical-align:middle;\" /></a> : <a class=\"ProveItLink\" href=\"../../../../../__pv_it/2cbe72a7ad6f655694dd697106680215e8489b600/expr.ipynb\"><img src=\"data:image/png;base64,iVBORw0KGgoAAAANSUhEUgAAAA8AAAAOBAMAAAACpFvcAAAALVBMVEX///8QEBBERERUVFS6urqI\n",
       "iIhmZmaqqqrc3Nzu7u6YmJgyMjIiIiLMzMwAAADtIaYWAAAAAXRSTlMAQObYZgAAAFtJREFUCNdj\n",
       "YACBOwxQsA9Kc52bAGG05zVAGAFxDmCaZULdAjBjCsO9ADDDgaEvAUTzGhvbKYCVMDAwbgAxChgY\n",
       "eASANAeQwf0AyJgNxEwvGRia5HYwcOm9TgAA6BoR3jrzwFcAAAAASUVORK5CYII=\n",
       "\" style=\"display:inline;vertical-align:middle;\" /></a>, <a class=\"ProveItLink\" href=\"../../../../../__pv_it/077b2ff79244fb4582cbe22c6e3356fa92a52f2f0/expr.ipynb\"><img src=\"data:image/png;base64,iVBORw0KGgoAAAANSUhEUgAAABAAAAAOBAMAAADUAYG5AAAAMFBMVEX///+qqqru7u4iIiJ2dnbc\n",
       "3NyIiIjMzMxmZmYQEBC6uroyMjJERERUVFSYmJgAAADLUcuvAAAAAXRSTlMAQObYZgAAAGpJREFU\n",
       "CNdjYGB4+//u3dMLGIBgDgMDxy8gzf4NiP8CGWxfGRj4vgAZPBMYGJgnARn8FxhY9ygAGfXX0pof\n",
       "gDTlBzAw2YIYJ0EckBBI53sHoBH/gIz7AhBjWH9DjancBLTl/N+7t/cxMAAA3u4f/5xagjYAAAAA\n",
       "SUVORK5CYII=\n",
       "\" style=\"display:inline;vertical-align:middle;\" /></a> : <a class=\"ProveItLink\" href=\"../../../../../__pv_it/077b2ff79244fb4582cbe22c6e3356fa92a52f2f0/expr.ipynb\"><img src=\"data:image/png;base64,iVBORw0KGgoAAAANSUhEUgAAABAAAAAOBAMAAADUAYG5AAAAMFBMVEX///+qqqru7u4iIiJ2dnbc\n",
       "3NyIiIjMzMxmZmYQEBC6uroyMjJERERUVFSYmJgAAADLUcuvAAAAAXRSTlMAQObYZgAAAGpJREFU\n",
       "CNdjYGB4+//u3dMLGIBgDgMDxy8gzf4NiP8CGWxfGRj4vgAZPBMYGJgnARn8FxhY9ygAGfXX0pof\n",
       "gDTlBzAw2YIYJ0EckBBI53sHoBH/gIz7AhBjWH9DjancBLTl/N+7t/cxMAAA3u4f/5xagjYAAAAA\n",
       "SUVORK5CYII=\n",
       "\" style=\"display:inline;vertical-align:middle;\" /></a></span></td></tr><tr><td>1</td><td>theorem</td><td></td><td><span style=\"font-size:20px;\"> <a class=\"ProveItLink\" href=\"../../_proofs_/negatedReflex.ipynb\" style=\"text-decoration: none\">&#x22A2;&nbsp;</a><a class=\"ProveItLink\" href=\"../09ba5ac32acc34f55c0fa248e2ddfca3f733fc910/expr.ipynb\"><img src=\"data:image/png;base64,iVBORw0KGgoAAAANSUhEUgAAANoAAAAXBAMAAACfRUyCAAAAMFBMVEX///8QEBC6urrMzMxUVFRm\n",
       "ZmZERETc3NwyMjKqqqp2dnaIiIiYmJgiIiLu7u4AAAAU9Wx4AAAAAXRSTlMAQObYZgAAAzhJREFU\n",
       "SMe9Vk1ME1EQ/mhpl7bbpYkHPSkmxosm9GAi0Zg2WtEbRCmeDDWGohdoogGNQaqX6kV6UIPxIBcV\n",
       "Y0JqIgfTAzVeEA/ggYuCNEYMMUGJ/IlWdObtbndZ21RT4kve2+mb2fnmfTPztsB/HdkN8rOrpIVc\n",
       "A4yz8KpsMHuQ3DUshuqvFtYfoHkceMTyjbLRqpijigjQUlNQ38s2QCc9pEjZaGleAimaQX1LMbM4\n",
       "TdHI/SIoR7JstK28DMeAsf51x9XGxRZSKT7ID7u6ussGs8V5PUXzdR7DFjT0qWEm+CywHI2+Kent\n",
       "XOHtPCcOcaJF4EK7oX1sBJO9l6HHfeAQ0Ca2EmK9vRSu9wsLk1dJOKuKGTuujnDTaezLs8bO7Ivp\n",
       "oUnx8+QUj+lGXf1epBR9wA4oggb5q5pPHzw+FpwmNFUeM5fbc+AJ3PpOBQueFWDORB/6dHUNehh5\n",
       "O+CFhwPDTE7lJAjbihXtrqixloxpqwmojalx0qhmv06K0pMz2ShXVDh7KNTAZR8gfcYrEjs4ITTe\n",
       "FBzjVjRBtXtOZeaOWN8SXyINBlo1d/h302t1g1ra6PBxFU2J7xH4qajQfPFjJGZFE9Tud6pt6WS1\n",
       "sgA5obUZM8n1EqCzV64aeZtqN4rJ61OZRNtB3qnkUGnUpp+2w4JmF4QF6czN0Wj0zCYO90e6PstJ\n",
       "1xKb0dqtJ268dlOvMUKrmidhhOYtQdxLDAvVABVA1kB7QO7jonPkpGdeK3e68NxxyNTRdZpDd6Pa\n",
       "bvYtRktLOvAse1tTOwAVXJzKRLhDGLYSmcn1Z4u4GG0u3LymHbU1BmcjlFUDzUYRN/8Kha6ZCsmp\n",
       "NUzntgTkjm8UD9/YMqM4YgiINiMXtX4Lmo0TdgL2BQyFaRzmikjCtgDs1G02F/gsWDcUny7tJgcZ\n",
       "KQFpDdKEJW8RhSK3UdQ5fKbxibnoyaKboh3VbUb/4npzpzThwzKkhkl7DgNL4aNJC5of76BQw5z/\n",
       "KXjiEnb3hpuu0/NYoSu42Ji1fl7/uD/U8cxsdNkk5ytQCpZGO2L5vbcI2sci77tSefFSSTCP37KR\n",
       "KYLmyhR2ULlhf4/WeXpR2GbwH33+BvwYy18VzUzqAAAAAElFTkSuQmCC\n",
       "\" style=\"display:inline;vertical-align:middle;\" /></a></span></td></tr>\n",
       "<tr><td>&nbsp;</td><td colspan=4 style-\"text-align:left\"><a class=\"ProveItLink\" href=\"../../_proofs_/negatedReflex.ipynb\">proveit.logic.boolean.implication.negatedReflex</a></td></tr><tr><td>2</td><td>assumption</td><td></td><td><span style=\"font-size:20px;\"><a class=\"ProveItLink\" href=\"../b9713b405570857a29694d61fe5e2536eab03fc30/expr.ipynb\"><img src=\"data:image/png;base64,iVBORw0KGgoAAAANSUhEUgAAAHUAAAAVBAMAAACK3rzVAAAAMFBMVEX////c3NxERESqqqpUVFS6\n",
       "urrMzMwyMjIQEBCIiIh2dnYiIiLu7u5mZmaYmJgAAABXZE4RAAAAAXRSTlMAQObYZgAAAbZJREFU\n",
       "OMtjYGDgu8dAMmBbJQCieHahiEYS1McXANLcDGJyfkAx0AFCbcCmyf+Li1MpA8M1EOc6iOBqQJZn\n",
       "PwChPmCzkUOBgeF+AAM7iL0CU+9MCPX6D0LoAJyVPwGIHRj4FmDX2wMmGW0/IoRq4Kz5wAB6v4CB\n",
       "pwGrXtYCMMXJ+RUhFgJnaQDxDqAzlLHq5V0ApmKY/yHEuCbAWF8YGMR1gPRamF7eAuSgegCOtgC2\n",
       "n2Cp3WDwFxYHX2bO3QdimAPxexAjIwCmCGgnRwDY5QyMf5EMZC6F0JzAQDgNisMIkC0XGBhS2pCj\n",
       "lh+sN8XF5RNyAB5vBVNMQN9xgjyTD+KpA50YkYChF0i0I6eXKkg08QMV8P2C6uUGhQxLAZJeDgOQ\n",
       "G0HBieTfTdAYzgfaxPIZ6mawf7k2IOllAoWVMBDXI3nXASl65UE2PceMI6DjuYAhwAOS1kekJnGk\n",
       "6GVrP4AcR6hpYwMDo8Z3AYZH/2vhYopQ+tJ/F5dycByWYk+TjZg5IAFdAEeaZHhFRMYHJzSwXj5s\n",
       "eRAvOA7Pvzw7kcUZHQjrdQRFCiS58C1GlpAkqJUzAVpeAQCj4XXVPjLA8gAAAABJRU5ErkJggg==\n",
       "\" style=\"display:inline;vertical-align:middle;\" /></a> <a class=\"ProveItLink\" href=\"../095ef9165a8cbbfe0c1f8f2f7054e7e65f4722ad0/proof.ipynb\" style=\"text-decoration: none\">&#x22A2;&nbsp;</a><a class=\"ProveItLink\" href=\"../645ce987d0174f228106544053fcde37e024fae30/expr.ipynb\"><img src=\"data:image/png;base64,iVBORw0KGgoAAAANSUhEUgAAAF8AAAAVBAMAAADSoS/MAAAAMFBMVEX////c3NxERESqqqqYmJgQ\n",
       "EBDu7u4yMjKIiIi6urpUVFTMzMx2dnYiIiJmZmYAAABjE816AAAAAXRSTlMAQObYZgAAAWhJREFU\n",
       "OMtjYCAfcDYQVOKJwtsFofZiU+n1f9Uq9QkMfBuQBcsgVD1Ws4MYGPh+MjAUIAlxQFzEcj8BLsQG\n",
       "Z3H/AOJfDAw+SBpYIQqF3wvAhdjhejk+Ao36w8CQiqRhOoRq6J+ACIYFMBZTAAMDbxiQNkBoeANR\n",
       "k2DvgBA7AWPwL2BgLALax/MAIVkCJjMZ9oP98vYuCNyHye9f0fEWZBBzAUTmDpAdCZaZwCCPZAiD\n",
       "OdR9/QIMbLdADghARMFPcGisWrVeAUkDWylEhypIE9AK7g9oGjiBoYUc1tuPQWhgiDL4H0DVEAxi\n",
       "AAOBNwDhh7tq0Gj4AiTWG6A6SQWIGYFi7B8QFlghRQPjd1C0Qq3nBuJzQJwOCvJvcPWMBUjRsBWU\n",
       "dJCDdS4Dg1B8IQOL/ne4IBM00vn0f61aDg529glISUMAI8VxY4ggJw2WA0TkmRNYkjc+wIYc5AxS\n",
       "hDVwoTibkXAW7WZgAAB3jV14rHTBjQAAAABJRU5ErkJggg==\n",
       "\" style=\"display:inline;vertical-align:middle;\" /></a></span></td></tr>\n",
       "</table>"
      ],
      "text/plain": [
       "<proveit._core_.proof._ShowProof at 0x7f94ebb35f28>"
      ]
     },
     "execution_count": 1,
     "metadata": {},
     "output_type": "execute_result"
    }
   ],
   "source": [
    "import proveit\n",
    "%show_proof"
   ]
  },
  {
   "cell_type": "code",
   "execution_count": null,
   "metadata": {},
   "outputs": [],
   "source": []
  }
 ],
 "metadata": {
  "kernelspec": {
   "display_name": "Python 3",
   "language": "python",
   "name": "python3"
  }
 },
 "nbformat": 4,
 "nbformat_minor": 0
}
