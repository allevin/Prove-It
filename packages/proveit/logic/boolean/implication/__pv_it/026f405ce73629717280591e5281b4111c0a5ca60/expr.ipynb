{
 "cells": [
  {
   "cell_type": "markdown",
   "metadata": {},
   "source": [
    "Expression of type <a class=\"ProveItLink\" href=\"../../../../../../../doc/html/api/proveit.Lambda.html\">Lambda</a>\n",
    "=======================\n",
    "# from context <a class=\"ProveItLink\" href=\"../../_context_.ipynb\">proveit.logic.boolean.implication</a>"
   ]
  },
  {
   "cell_type": "code",
   "execution_count": 1,
   "metadata": {},
   "outputs": [],
   "source": [
    "# import Expression classes needed to build the expression\n",
    "from proveit import Lambda\n",
    "from proveit._common_ import A, B\n",
    "from proveit.logic import Forall, Iff"
   ]
  },
  {
   "cell_type": "code",
   "execution_count": 2,
   "metadata": {},
   "outputs": [
    {
     "data": {
      "text/html": [
       "<strong id=\"expr\">expr:</strong> <a class=\"ProveItLink\" href=\"expr.ipynb\"><img src=\"data:image/png;base64,iVBORw0KGgoAAAANSUhEUgAAAL4AAAAZCAMAAAC4s2T5AAAANlBMVEX///92dnYUFBQNDQ0QEBBE\n",
       "RERUVFS6urqIiIhmZmaqqqrc3Nzu7u6YmJgyMjIiIiLMzMwAAACuIkBbAAAAAXRSTlMAQObYZgAA\n",
       "AihJREFUWMPlmOmO3CAMgJOWy5jz/V+2ASYcg5E2WW06Vf1nJGeMv+ADk227Idx7j9tfFnlA7Lcs\n",
       "/fYZguK/xTcfhh/8Jfz2b6uepa6gA76Ll/B3XQ0fDkQF7fGtj+YKPvJzEf4sfQPt8FFDxEule246\n",
       "6GcTvoF2+GpTUV7CtztmebgPdaANX5pNR9vl12CiNdU4I09y8+y4fVp1oBXfHO8Tolq2dmEIfBHy\n",
       "EVwiqXkEAMFD52mquUV2EraEagat+MkTRljiG4EzvkzW5oyTZTm0rJst3mtumZ2zLaWaQE/8IJLE\n",
       "zt/vX34Q1rv23a86Mw7yWrKr/zd8A312DjLbUqoJ9MQvaMyt5wIhiaEhofszrXyOKPjl7u/GwxnL\n",
       "jNKKZralVBPoC/9VmJ4t8QGpmedInFCrJ6Y0tX16j/hBbfylgZLRNSEJW0I1gxZ81POx699dkyMb\n",
       "xxoVGZVSgvclPuKLupc7yy2LO4ZLW0I1g+JQfLw7dkdes5g4dQvu7krBmQW+PVyr5DZw3RqCMgtb\n",
       "QjWDHvjIWcwhsjxGBxcHZlZfk0OJuabxj7wHyG6h21Lt5Mp2UhGg3573bUUpjmQMNH4unpCfIoeX\n",
       "cLW0JVQ/eV3BHE/0QOe+LC2zdE7j0CTZLWGLeYep5X4Qf3f5kHTDcMFbjudOjSL6TBygtc9325Be\n",
       "kVzu6cviepDOKWEWI4T9kLvuvXtAwH8a/+ubfxv/a9957i1+5TuP+AOpththqtZvBQAAAABJRU5E\n",
       "rkJggg==\n",
       "\" style=\"display:inline;vertical-align:middle;\" /></a><br>"
      ],
      "text/plain": [
       "expr: A -> [forall_{B | A <=> B , B} A]"
      ]
     },
     "execution_count": 2,
     "metadata": {},
     "output_type": "execute_result"
    }
   ],
   "source": [
    "# build up the expression from sub-expressions\n",
    "expr = Lambda(A, Forall([B], A, conditions = [Iff(A, B), B]))"
   ]
  },
  {
   "cell_type": "code",
   "execution_count": 3,
   "metadata": {},
   "outputs": [
    {
     "name": "stdout",
     "output_type": "stream",
     "text": [
      "Passed sanity check: built 'expr' is the same as the stored Expression.\n"
     ]
    }
   ],
   "source": [
    "# check that the built expression is the same as the stored expression\n",
    "%check_expr"
   ]
  },
  {
   "cell_type": "code",
   "execution_count": 4,
   "metadata": {},
   "outputs": [
    {
     "data": {
      "text/html": [
       "<table><tr><th>&nbsp;</th><th>core type</th><th>sub-expressions</th><th>expression</th></tr>\n",
       "<tr><td>0</td><td>Lambda</td><td>parameter:&nbsp;8<br>body:&nbsp;1<br></td><td><a class=\"ProveItLink\" href=\"expr.ipynb\"><img src=\"data:image/png;base64,iVBORw0KGgoAAAANSUhEUgAAAL4AAAAZCAMAAAC4s2T5AAAANlBMVEX///92dnYUFBQNDQ0QEBBE\n",
       "RERUVFS6urqIiIhmZmaqqqrc3Nzu7u6YmJgyMjIiIiLMzMwAAACuIkBbAAAAAXRSTlMAQObYZgAA\n",
       "AihJREFUWMPlmOmO3CAMgJOWy5jz/V+2ASYcg5E2WW06Vf1nJGeMv+ADk227Idx7j9tfFnlA7Lcs\n",
       "/fYZguK/xTcfhh/8Jfz2b6uepa6gA76Ll/B3XQ0fDkQF7fGtj+YKPvJzEf4sfQPt8FFDxEule246\n",
       "6GcTvoF2+GpTUV7CtztmebgPdaANX5pNR9vl12CiNdU4I09y8+y4fVp1oBXfHO8Tolq2dmEIfBHy\n",
       "EVwiqXkEAMFD52mquUV2EraEagat+MkTRljiG4EzvkzW5oyTZTm0rJst3mtumZ2zLaWaQE/8IJLE\n",
       "zt/vX34Q1rv23a86Mw7yWrKr/zd8A312DjLbUqoJ9MQvaMyt5wIhiaEhofszrXyOKPjl7u/GwxnL\n",
       "jNKKZralVBPoC/9VmJ4t8QGpmedInFCrJ6Y0tX16j/hBbfylgZLRNSEJW0I1gxZ81POx699dkyMb\n",
       "xxoVGZVSgvclPuKLupc7yy2LO4ZLW0I1g+JQfLw7dkdes5g4dQvu7krBmQW+PVyr5DZw3RqCMgtb\n",
       "QjWDHvjIWcwhsjxGBxcHZlZfk0OJuabxj7wHyG6h21Lt5Mp2UhGg3573bUUpjmQMNH4unpCfIoeX\n",
       "cLW0JVQ/eV3BHE/0QOe+LC2zdE7j0CTZLWGLeYep5X4Qf3f5kHTDcMFbjudOjSL6TBygtc9325Be\n",
       "kVzu6cviepDOKWEWI4T9kLvuvXtAwH8a/+ubfxv/a9957i1+5TuP+AOpththqtZvBQAAAABJRU5E\n",
       "rkJggg==\n",
       "\" style=\"display:inline;vertical-align:middle;\" /></a></td></tr>\n",
       "<tr><td>1</td><td>Operation</td><td>operator:&nbsp;2<br>operand:&nbsp;3<br></td><td><a class=\"ProveItLink\" href=\"../b019173acb0697eccf1edeb9246f3cad838548520/expr.ipynb\"><img src=\"data:image/png;base64,iVBORw0KGgoAAAANSUhEUgAAAH8AAAAWBAMAAAAbaF6yAAAAMFBMVEX///8QEBC6urrMzMxUVFRm\n",
       "ZmZERETc3NwyMjKqqqp2dnaIiIiYmJgiIiLu7u4AAAAU9Wx4AAAAAXRSTlMAQObYZgAAAdxJREFU\n",
       "OMullL8vQ1EUx7/60r5qX5/+BbzB3g7CIKKhQWLQoa8mIRHPRgchBtTUWOhCbJhUYqjEZvBsEgOL\n",
       "hcGLyeJH0vgVNM55fdorET+eJufem/s99/POPefcwsI/fyc8HLk83Ea2xYtFl4AlskkyecjdeeWC\n",
       "EuAn8+bcAaYH00TZnJqacXmDwr5G44NhnLk777HWTJo6gVGgdlxPDtvbmiP701XXqrpyr3dFnd1L\n",
       "tBdoaoSaoekA2LG3PxJ6rAkfq6hKGMGws6lhLkFTCEEOJAlE0gJAHTQFQEX1xuB5LO9J8XgfOwfN\n",
       "EHfjOTAgRhC4Jroag7QOUQ0V4D1xUgDUcOxqponHIpSsCGj10cJL1+3+pN5Gcegkh2ofsm8z2sG4\n",
       "l70uSwTE+EMbhmHMp0U1src7VnaQCeC/49UyhxTIQKkXAEoueIdmbjC11xLUPCW0jLoi85V4VcO1\n",
       "8CWgPguAaz1VQsp2XdUEdYRuYfftZEMWyvgTl0Fht7ocPEUB0A+pCHlE1/VUQVQJE4l+1VVzFmYS\n",
       "VYCHavhKYc7e3GxXVDkLuQT59KvzgSU9uYAKQKUCT7yZkBJcyQ9VekX+Xu/56eV9etpRqEJHK796\n",
       "It/8N7T8F2D+ChD725t+B31mg/QIS7IvAAAAAElFTkSuQmCC\n",
       "\" style=\"display:inline;vertical-align:middle;\" /></a></td></tr>\n",
       "<tr><td>2</td><td>Literal</td><td></td><td><a class=\"ProveItLink\" href=\"../../../quantification/universal/__pv_it/265f8c02ac1094d56e0e6410a1c1fd3500dc9f540/expr.ipynb\"><img src=\"data:image/png;base64,iVBORw0KGgoAAAANSUhEUgAAAAwAAAAQBAMAAADQT4M0AAAAMFBMVEX///8QEBC6urrMzMxUVFRm\n",
       "ZmZERETc3NwyMjKqqqp2dnaIiIiYmJgiIiLu7u4AAAAU9Wx4AAAAAXRSTlMAQObYZgAAAFhJREFU\n",
       "CNdjeMAABhdAxGmGlSCqj6EMSLInMHAAJVknMPAsLy+vBYp8S0u7BaScGRjSgZQKA18DkOJl4D4A\n",
       "pLgP8IJM4mswARuX7gSmpoKNZWDcAKZ4gCoAgTQTILaSE58AAAAASUVORK5CYII=\n",
       "\" style=\"display:inline;vertical-align:middle;\" /></a></td></tr>\n",
       "<tr><td>3</td><td>Lambda</td><td>parameter:&nbsp;9<br>body:&nbsp;8<br>conditions:&nbsp;4<br></td><td><a class=\"ProveItLink\" href=\"../0696194c4f20713ed5ea77ab98079a2ff1434ab00/expr.ipynb\"><img src=\"data:image/png;base64,iVBORw0KGgoAAAANSUhEUgAAAK4AAAAVCAMAAADo3yVqAAAANlBMVEX///8UFBQNDQ2qqqru7u4i\n",
       "IiJ2dnbc3NyIiIjMzMxmZmYQEBC6uroyMjJERERUVFSYmJgAAAC3B9V0AAAAAXRSTlMAQObYZgAA\n",
       "AbFJREFUSMftl2FzgyAMhtmAEkDA/P8/OzvFmUCw7tre7W58sV7e4iN5E1Cppw3t1F8at+lND5oL\n",
       "YllGTpee6O05LtP8hqETifn7EvAKb8JzXKYZDZmBRzzCdi0XcmLRnOFyzShXIkMTAVzLZMbbw7RO\n",
       "B3QnuI1mWe4NIXCtzNBEclyvNpqHcWGZZjrBbTQKYPuReR+RGZrIusouZcNXoTYpzUkmozTOY9xW\n",
       "4/dpXWLiDoMQWUwBAMEeZ2YVXdgkZvrxlITbanyMtg5Mhhq0ZRAimzmMLSKuKTR5dzSHYYjbaIAQ\n",
       "TqRl9RiESDUHHDL3+WHJiMSE/t4IC+YRLteYmFkhxtIaFHAWrLtHaoM4FiVv72XiC7f0wzTCbTSm\n",
       "kGy4BI1Be42BR3zFLqgl3EC8oGupDnB7Gk0S5ohBOwz9SO1rDpPkXQ+0nfa2LIrb1+g9/YbQNgxG\n",
       "jFRz+HisBKCVRm7qW2WyZRFcQaOC7pqLMxi0QiTk9QSR0vzYbpYjpvsLz8sfU+jiipr9NRwpu4bB\n",
       "xG1Nr9I9+wDpN56z7XN69en5uefdWf3jvgwXXv5NAm/4+PkCsvQYnkvYdvcAAAAASUVORK5CYII=\n",
       "\" style=\"display:inline;vertical-align:middle;\" /></a></td></tr>\n",
       "<tr><td>4</td><td>ExprTuple</td><td>5, 9</td><td><a class=\"ProveItLink\" href=\"../49c9f3750be89b1af7155bd39b8221ed180ed9320/expr.ipynb\"><img src=\"data:image/png;base64,iVBORw0KGgoAAAANSUhEUgAAAGcAAAAVBAMAAACphe0AAAAAMFBMVEX////c3NwiIiJERESqqqqY\n",
       "mJh2dnZmZmYQEBDu7u4yMjJUVFTMzMyIiIi6uroAAAAs73DqAAAAAXRSTlMAQObYZgAAAZ9JREFU\n",
       "OMtjYCAL8F0gTX0ciDgNYR/CpiD6/+7dVg9QOewHgOyVEKH1WI1tZmBg/4fGWcDAwAtxHav+BCx6\n",
       "eP4C8W80ThgDAwdEsUi9AFQOaBBPAZTN+xFo3Dc0zgwGhlcQkQv3oU4H22wIVcfcwMDA1InGYXZg\n",
       "KIME4QT/AIjUKRAhBVXHv4GBcfEENA5bAcNSsMA8hvMQv/F0KAGBPjR0zu+9WxQA8yCMw7KAoQ8s\n",
       "8IBBHuKPWxBzX0Ece1+AgVMbpgnG4WtgAAcoz+7d+w1AjBkGEAWM3WDKAqQWZhWMw/MBookPGIoL\n",
       "QAzO7RAFUhDHgkI7PgGqCcYBamoB8R2A4dIAlmFRAgNFiAe/Aon9DgyoHKDzTEGOATK5PkDkvEHE\n",
       "JAF4zDD+AtqPzGFgXcCQDqRmgWLhJ0QTO8jgfYiYOQEMyPkKSBxQkD9iYBDuX8jAav8LEnycQL8x\n",
       "QoKD3f737l2gKJnxEYnDwPWAgUMALb0BEzEnejp8iMwBJiPWBCLyUAAyJxeRNYjWBHI/gzRhPbzI\n",
       "HG6QfxhJzO53GBgAySh6w5PKXH8AAAAASUVORK5CYII=\n",
       "\" style=\"display:inline;vertical-align:middle;\" /></a></td></tr>\n",
       "<tr><td>5</td><td>Operation</td><td>operator:&nbsp;6<br>operands:&nbsp;7<br></td><td><a class=\"ProveItLink\" href=\"../60a870658ecf77b4b2ca5e56543d5830b362e85b0/expr.ipynb\"><img src=\"data:image/png;base64,iVBORw0KGgoAAAANSUhEUgAAAEAAAAAPBAMAAACmSdRUAAAAMFBMVEX///92dnYQEBBERERUVFS6\n",
       "urqIiIhmZmaqqqrc3Nzu7u6YmJgyMjIiIiLMzMwAAACFkkdwAAAAAXRSTlMAQObYZgAAAQhJREFU\n",
       "GNNjYACBtwxYwJb/Li42ARD2eWwKGJQZGNi/glnc9xdgkef7BsRfwMwZ9ROgggeAYgVQNttPoNaP\n",
       "YGZCPtQqtgQgYQlVwKzAwMCrBWKxLujfABF7AyLmQBXwOzBwHgbbvZThfQLEVqW7QHD/FETBe7e0\n",
       "WojGAIb5EHtzIG6NgViYP4GB6wpYn4uLvwGIscgAopVTBUwZgRSBjGBlYGA6ABLhcocomAOxEOTD\n",
       "/QJAogHoWAWwEMddMLgJcdBvIOEPlOQEYp4PEL0tIGLtBHgwcP4BMtaAvPwLooAdqJjBFREMj4Ae\n",
       "mqx/koHb/g/EG1xAt3BCnMpu/8XF5zRG+D8AKkKNFwBxhUYQlN1g7wAAAABJRU5ErkJggg==\n",
       "\" style=\"display:inline;vertical-align:middle;\" /></a></td></tr>\n",
       "<tr><td>6</td><td>Literal</td><td></td><td><a class=\"ProveItLink\" href=\"../9817cf888369307f52607b98db5e99fdc17b089e0/expr.ipynb\"><img src=\"data:image/png;base64,iVBORw0KGgoAAAANSUhEUgAAABQAAAANBAMAAABbflNtAAAAKlBMVEX///+qqqpUVFS6urru7u4i\n",
       "IiIQEBDc3NxERESIiIhmZmbMzMwyMjIAAAAneYQxAAAAAXRSTlMAQObYZgAAAFpJREFUCNdjYEAB\n",
       "BxgYuBeAWZwTgEQ7mLkHRNSACO60UCCIPQJkznEAy9kYMLg1QPSyJzGwaEGYNUDNjKFgEA7iC4EI\n",
       "1wIQySUAJJTBqliAtrFDNW8AcoEmAgB4jw/0RzyxkgAAAABJRU5ErkJggg==\n",
       "\" style=\"display:inline;vertical-align:middle;\" /></a></td></tr>\n",
       "<tr><td>7</td><td>ExprTuple</td><td>8, 9</td><td><a class=\"ProveItLink\" href=\"../caee09fb4b5c95b986a9cee46a014afbad9bdc680/expr.ipynb\"><img src=\"data:image/png;base64,iVBORw0KGgoAAAANSUhEUgAAADUAAAAVBAMAAAAUZLt1AAAAMFBMVEX////c3NwiIiJERESqqqqY\n",
       "mJh2dnZmZmYQEBDu7u4yMjJUVFTMzMyIiIi6uroAAAAs73DqAAAAAXRSTlMAQObYZgAAATZJREFU\n",
       "KM9jYMAH+C5gFY4DEach7EMwQdb9v3dvXsfAfgDIXgkRWg/XwWHAwFD/gGEBAwMvxEhW/QkwufNA\n",
       "kfMbGMKAqiBiIvUCMLn7QFZ8AsMMBoZXEIEL9x/A5CyAWGMCA7MDQxnEsRP8A2ByvxkYpCwZGNgK\n",
       "GJaC+fPAtoABz++711WBNMsChj6wwAMG+QKoHO9HBoZJG4BGNTD8A6vdvXu/AVSOuQEo/xUo9gEi\n",
       "xwd07wKoHD9QD+s3sFwLiO/AwMDUAPMe0FHcX8BmmgK5jEA5rg8MDBNg3pMHGsK6gCEdyJ0FsuYn\n",
       "A+cnqPd4uiaA/fCIgUG4fyEDq/2vAs5+oJbi/7t3rwL5lesBA4cAUnQhsUFhxpqA4LIiR2AuIo7Q\n",
       "5ThBfpJG8JFTADfIfEbsaeIOAwMABOxNRsfkiy0AAAAASUVORK5CYII=\n",
       "\" style=\"display:inline;vertical-align:middle;\" /></a></td></tr>\n",
       "<tr><td>8</td><td>Variable</td><td></td><td><a class=\"ProveItLink\" href=\"../../../../../__pv_it/2cbe72a7ad6f655694dd697106680215e8489b600/expr.ipynb\"><img src=\"data:image/png;base64,iVBORw0KGgoAAAANSUhEUgAAAA8AAAAOBAMAAAACpFvcAAAALVBMVEX///8QEBBERERUVFS6urqI\n",
       "iIhmZmaqqqrc3Nzu7u6YmJgyMjIiIiLMzMwAAADtIaYWAAAAAXRSTlMAQObYZgAAAFtJREFUCNdj\n",
       "YACBOwxQsA9Kc52bAGG05zVAGAFxDmCaZULdAjBjCsO9ADDDgaEvAUTzGhvbKYCVMDAwbgAxChgY\n",
       "eASANAeQwf0AyJgNxEwvGRia5HYwcOm9TgAA6BoR3jrzwFcAAAAASUVORK5CYII=\n",
       "\" style=\"display:inline;vertical-align:middle;\" /></a></td></tr>\n",
       "<tr><td>9</td><td>Variable</td><td></td><td><a class=\"ProveItLink\" href=\"../../../../../__pv_it/077b2ff79244fb4582cbe22c6e3356fa92a52f2f0/expr.ipynb\"><img src=\"data:image/png;base64,iVBORw0KGgoAAAANSUhEUgAAABAAAAAOBAMAAADUAYG5AAAAMFBMVEX///+qqqru7u4iIiJ2dnbc\n",
       "3NyIiIjMzMxmZmYQEBC6uroyMjJERERUVFSYmJgAAADLUcuvAAAAAXRSTlMAQObYZgAAAGpJREFU\n",
       "CNdjYGB4+//u3dMLGIBgDgMDxy8gzf4NiP8CGWxfGRj4vgAZPBMYGJgnARn8FxhY9ygAGfXX0pof\n",
       "gDTlBzAw2YIYJ0EckBBI53sHoBH/gIz7AhBjWH9DjancBLTl/N+7t/cxMAAA3u4f/5xagjYAAAAA\n",
       "SUVORK5CYII=\n",
       "\" style=\"display:inline;vertical-align:middle;\" /></a></td></tr>\n",
       "</table>\n"
      ],
      "text/plain": [
       "0. A -> [forall_{B | A <=> B , B} A]\n",
       "   core type: Lambda\n",
       "   parameter: 8\n",
       "   body: 1\n",
       "1. forall_{B | A <=> B , B} A\n",
       "   core type: Operation\n",
       "   operator: 2\n",
       "   operand: 3\n",
       "2. forall\n",
       "   core type: Literal\n",
       "   sub-expressions: \n",
       "3. B -> A | A <=> B , B\n",
       "   core type: Lambda\n",
       "   parameter: 9\n",
       "   body: 8\n",
       "   conditions: 4\\n4. (A <=> B , B)\n",
       "   core type: ExprTuple\n",
       "   sub-expressions: 5, 9\n",
       "5. A <=> B\n",
       "   core type: Operation\n",
       "   operator: 6\n",
       "   operands: 7\n",
       "6. <=>\n",
       "   core type: Literal\n",
       "   sub-expressions: \n",
       "7. (A , B)\n",
       "   core type: ExprTuple\n",
       "   sub-expressions: 8, 9\n",
       "8. A\n",
       "   core type: Variable\n",
       "   sub-expressions: \n",
       "9. B\n",
       "   core type: Variable\n",
       "   sub-expressions: "
      ]
     },
     "execution_count": 4,
     "metadata": {},
     "output_type": "execute_result"
    }
   ],
   "source": [
    "# display the expression information\n",
    "expr.exprInfo()"
   ]
  },
  {
   "cell_type": "code",
   "execution_count": null,
   "metadata": {},
   "outputs": [],
   "source": []
  }
 ],
 "metadata": {
  "kernelspec": {
   "display_name": "Python 3",
   "language": "python",
   "name": "python3"
  }
 },
 "nbformat": 4,
 "nbformat_minor": 0
}
