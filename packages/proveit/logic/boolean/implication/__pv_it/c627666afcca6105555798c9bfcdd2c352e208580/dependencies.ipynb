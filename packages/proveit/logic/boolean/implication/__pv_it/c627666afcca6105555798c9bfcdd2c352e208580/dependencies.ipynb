{
 "cells": [
  {
   "cell_type": "markdown",
   "metadata": {},
   "source": [
    "Theorem Dependencies\n",
    "=======================\n",
    "\n",
    "## <a class=\"ProveItLink\" href=\"../../_context_.ipynb\">proveit.logic.boolean.implication</a>.<a class=\"ProveItLink\" href=\"../../_theorems_.ipynb#trueImpliesTrue\">trueImpliesTrue</a> \n",
    "***see <a class=\"ProveItLink\" href=\"../../_proofs_/trueImpliesTrue.ipynb\">proof</a>***"
   ]
  },
  {
   "cell_type": "code",
   "execution_count": 1,
   "metadata": {},
   "outputs": [],
   "source": [
    "from proveit.logic.boolean.implication._theorems_ import trueImpliesTrue"
   ]
  },
  {
   "cell_type": "code",
   "execution_count": 2,
   "metadata": {},
   "outputs": [
    {
     "data": {
      "text/html": [
       "<h3>Theorems that depend directly on trueImpliesTrue</h3>"
      ],
      "text/plain": [
       "<IPython.core.display.HTML object>"
      ]
     },
     "metadata": {},
     "output_type": "display_data"
    },
    {
     "data": {
      "text/html": [
       "<dl>"
      ],
      "text/plain": [
       "<IPython.core.display.HTML object>"
      ]
     },
     "metadata": {},
     "output_type": "display_data"
    },
    {
     "data": {
      "text/html": [
       "<dt><a class=\"ProveItLink\" href=\"../../_proofs_/implicationClosure.ipynb\">proveit.logic.boolean.implication.implicationClosure</a></dt><dd><a class=\"ProveItLink\" href=\"../4e17fe59341997321c94d3de8826e06ad5569cf50/expr.ipynb\"><img src=\"data:image/png;base64,iVBORw0KGgoAAAANSUhEUgAAANEAAAAWBAMAAACs+WTQAAAAMFBMVEX///8QEBC6urrMzMxUVFRm\n",
       "ZmZERETc3NwyMjKqqqp2dnaIiIiYmJgiIiLu7u4AAAAU9Wx4AAAAAXRSTlMAQObYZgAAAzpJREFU\n",
       "SMe9Vk1oE0EU/pqfbpPdbosXC6KkIBRUbA4FRSgJGqpebKVEDyqmgqkFqTnZioihIBVB24MVj7mo\n",
       "EaEEtaL00NVDqRW1FfQgDaRQpQhVkSZWLa1vZnaTTbJ2veiDLzv7Zvd98755bzbAf7PMXz63Vcfa\n",
       "pvis/c8IU2zwwjaEMyjAhlNWFK2LoZY+oL3Y7R04tbSxC3D7gbvMcc2WqSojwIZfrR6oiADHfagq\n",
       "cVc6UvOfEkAcOEu3UsSWaVQH2csVK+0DKUIQSqKMSfYRzaRYqHvQlmmTDlrW0PeCuyDGWAx4nYBa\n",
       "y+/Ux+l0XGfyaAeAWRL4Tk/PBVsiR1yATJa/Ffyb86MOwjStuovf7XxlyqmBJKukZHLR6HtbJndC\n",
       "gGy7Z9m04yljtAj0dtP1Fs+726Re8zgtwNsG7AE6ubOf/97Ihlv85QWhCZAuPucvzp3mljVqc3F0\n",
       "ZIYNbvL4sQJTenUDXT1xJoDKZVGEKEotZKE1JpLJo0Zl+QRIQ0hZ0xI8feIq0+YtsC6oZ3cfiyri\n",
       "CannoJjVkPliPwhR3EE46C11JKzJXvW+3ok1PgGgKRTKmbOdXyciUiSZRQiwu3qWrlERiGyhnKk1\n",
       "ZK2a1+rwW/5KdQpuas1HDZ8zshfDWikT/dSZO/qKKPQaykf5aTA1mXNCpFIwqXHud6aifOqLHxMx\n",
       "KG1MEa9jRG+YikEBeFiJmfbpnf5AgJbk+mGot1DGxNRD527mcuEYn2ocfUiFw1tddh+cMV7QBHCO\n",
       "MGDapqCpnS4yvSZ4MK2IidRT2NwQP8eeY4xPJYGnGeziTF6061XMipSBF8+ZwsnQa2onZ13GqHL1\n",
       "jYlJORIRL6OCRVPfhkWAkyTgIJqj0WiKmBL64eKY4pA6lmIYX72UZ+rUr4dWQ6HLPBFRi73t+RM2\n",
       "N72ftQnbZIUxuGMI8DYirRv9mNNzMpiwXkeJlXWefhrh+lVRe4bN5kfbqHw0qR/SCiQqQldMMB02\n",
       "zoBJHXZWODSK7Z4xmMtBap1xLiOZDe+jGlNP8M69fdriq7GmzVu71Xjp96ywNton84wUFLCzvdZu\n",
       "V6zEsePPIc7rWNtkv7X/QalD+4d/WH4DPsTlkZ/P9zIAAAAASUVORK5CYII=\n",
       "\" style=\"display:inline;vertical-align:middle;\" /></a></dd>"
      ],
      "text/plain": [
       "<IPython.core.display.HTML object>"
      ]
     },
     "metadata": {},
     "output_type": "display_data"
    },
    {
     "data": {
      "text/html": [
       "<dt><a class=\"ProveItLink\" href=\"../../_proofs_/impliesTT.ipynb\">proveit.logic.boolean.implication.impliesTT</a></dt><dd><a class=\"ProveItLink\" href=\"../f6d083d5fe5bc7cc9cfbb1eecd58ac0bea53789c0/expr.ipynb\"><img src=\"data:image/png;base64,iVBORw0KGgoAAAANSUhEUgAAAHoAAAAVBAMAAAB71edYAAAAMFBMVEX////c3NwiIiJERESqqqqY\n",
       "mJh2dnZmZmYQEBDu7u4yMjJUVFTMzMyIiIi6uroAAAAs73DqAAAAAXRSTlMAQObYZgAAAOxJREFU\n",
       "OMtjYKAM8F0gqCQOt9RpBoYiJRBQxpCCibMfwCXDsBLMPY7DbIj4AlwyvBcwdU9A1x2GSzfHBEzd\n",
       "K9F1z8Cl+xUDpu7X6LqZHXDoLsOim+0Cmm62Ahy6l6LoZgeHpdJ3NN0s4GCrWgUCq5Fl+rDYzcCy\n",
       "DlU3XwMOu/9h080wqw9FN88HUnTzLJtAnO4WbP5WnoDN5ahJEixjisVulg1ooca6AIfd6Vh0SzEQ\n",
       "G2OPIOxjyBKGCCZEnOsBpm6wDIcApgRGlpqBK4OyJhBRBuTilFlJWDPnApxS0oR1cwvglGIkXDLd\n",
       "wSUBAAwnSx8aI9PtAAAAAElFTkSuQmCC\n",
       "\" style=\"display:inline;vertical-align:middle;\" /></a></dd>"
      ],
      "text/plain": [
       "<IPython.core.display.HTML object>"
      ]
     },
     "metadata": {},
     "output_type": "display_data"
    },
    {
     "data": {
      "text/html": [
       "<dt><a class=\"ProveItLink\" href=\"../../_proofs_/trueIffTrue.ipynb\">proveit.logic.boolean.implication.trueIffTrue</a></dt><dd><a class=\"ProveItLink\" href=\"../039b4c44326537bfa27b1d6e7a8d44995283b0750/expr.ipynb\"><img src=\"data:image/png;base64,iVBORw0KGgoAAAANSUhEUgAAAD8AAAAPBAMAAAChCwpBAAAALVBMVEX///+qqqpUVFS6urru7u4Q\n",
       "EBDc3NyIiIgyMjJ2dnbMzMxEREQiIiJmZmYAAABYjWgWAAAAAXRSTlMAQObYZgAAAHtJREFUGNNj\n",
       "uHMGBE4zoANesPiZDSD2WgbsgOsClEGCAg4UHhYF5UDMnYBbAVcDkGBrwK1gaQzI4S8ccClgbwFT\n",
       "zM04FLBEQ/mpCjhMcIIIsLXjdIMMJPQScCpgBJnNcgxPOFwEYiYDDAUr4Qo8gDgbEZITMEMfiF1Q\n",
       "hQA1TDKH0JX8uwAAAABJRU5ErkJggg==\n",
       "\" style=\"display:inline;vertical-align:middle;\" /></a></dd>"
      ],
      "text/plain": [
       "<IPython.core.display.HTML object>"
      ]
     },
     "metadata": {},
     "output_type": "display_data"
    },
    {
     "data": {
      "text/html": [
       "</dl>"
      ],
      "text/plain": [
       "<IPython.core.display.HTML object>"
      ]
     },
     "metadata": {},
     "output_type": "display_data"
    }
   ],
   "source": [
    "%dependencies trueImpliesTrue"
   ]
  }
 ],
 "metadata": {
  "kernelspec": {
   "display_name": "Python 3",
   "language": "python",
   "name": "python3"
  }
 },
 "nbformat": 4,
 "nbformat_minor": 0
}
