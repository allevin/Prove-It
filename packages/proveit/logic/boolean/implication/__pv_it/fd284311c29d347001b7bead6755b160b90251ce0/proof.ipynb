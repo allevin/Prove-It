{
 "cells": [
  {
   "cell_type": "markdown",
   "metadata": {},
   "source": [
    "Show the Proof\n",
    "========"
   ]
  },
  {
   "cell_type": "code",
   "execution_count": 1,
   "metadata": {},
   "outputs": [
    {
     "data": {
      "text/html": [
       "<table><tr><th>&nbsp;</th><th>step type</th><th>requirements</th><th>statement</th></tr>\n",
       "<tr><td>0</td><td>assumption</td><td></td><td><span style=\"font-size:20px;\"><a class=\"ProveItLink\" href=\"../4e2e796553e0d25b687710e31d41209627cf8d860/expr.ipynb\"><img src=\"data:image/png;base64,iVBORw0KGgoAAAANSUhEUgAAAFMAAAAVBAMAAADInc9CAAAAMFBMVEX////c3NxERESqqqpUVFS6\n",
       "urrMzMwyMjIQEBCIiIh2dnYiIiLu7u5mZmaYmJgAAABXZE4RAAAAAXRSTlMAQObYZgAAARJJREFU\n",
       "KM9jYGDgu8dACLCtEgBRPLsYCAO2ZhDJ+QFI8Pl/cXEqxaaIcQKYug4iuBpAJIcCA8P9AGzmXQBT\n",
       "KxBK84Ga8x3gCg7gUTof6O73C+AKavAo1QDiHQizQvAo/cLAIK6DcCHXBGxKeQtAAl9mzt0HFuPd\n",
       "DQZ/0ZS+BxEZIH9zfmRgOO2A5HHmUlSl7EAqpQ3EYgK6gvMfciAdb0VRyqD+gIEhIgHI4AeayPcL\n",
       "OTirDqAo5QaFDgvIrflAPSyfkdy66QAWt3JtgAarfAGSUx1wBhYwWNnaEcHKII4zXC/9d3Epf4Dk\n",
       "VEUGeMh1796tgBIFaCABXQC3UgasSvmIUgpOrzw7ickFkAjhW0xc3gIATY5X+GCwAfoAAAAASUVO\n",
       "RK5CYII=\n",
       "\" style=\"display:inline;vertical-align:middle;\" /></a> <a class=\"ProveItLink\" href=\"proof.ipynb\" style=\"text-decoration: none\">&#x22A2;&nbsp;</a><a class=\"ProveItLink\" href=\"../835b1d39462fab0430f60668935b15097d0255760/expr.ipynb\"><img src=\"data:image/png;base64,iVBORw0KGgoAAAANSUhEUgAAAEAAAAAPBAMAAACmSdRUAAAAMFBMVEX///+qqqru7u4iIiJ2dnbc\n",
       "3NyIiIjMzMxmZmYQEBC6uroyMjJERERUVFSYmJgAAADLUcuvAAAAAXRSTlMAQObYZgAAALhJREFU\n",
       "GNNjYGB4+//u3dMLGLCAMCg9h4GB4xc2BRUQiv0bEP+FizJhKGD7ysDA9wUuyq2AroBnAgMD8yS4\n",
       "KNcFdAX8FxhY9yC0MbihK6i/ltb8AMxqNgYB+wY0BfkBDEy2yI6XXoCq4CRI0QMkBUw7F6AoAPnw\n",
       "vQOSgmonFBPY/wGJ+wIINxgfQnUDKBhYfyMZIIvmC1AwVG5CyLNuQFXAcf7v3dv7kAzgCWCA+dnS\n",
       "2NgGM4bYUbkAa+cxxpnXojYAAAAASUVORK5CYII=\n",
       "\" style=\"display:inline;vertical-align:middle;\" /></a></span></td></tr>\n",
       "</table>"
      ],
      "text/plain": [
       "<proveit._core_.proof._ShowProof at 0x7f94ebd14710>"
      ]
     },
     "execution_count": 1,
     "metadata": {},
     "output_type": "execute_result"
    }
   ],
   "source": [
    "import proveit\n",
    "%show_proof"
   ]
  },
  {
   "cell_type": "code",
   "execution_count": null,
   "metadata": {},
   "outputs": [],
   "source": []
  }
 ],
 "metadata": {
  "kernelspec": {
   "display_name": "Python 3",
   "language": "python",
   "name": "python3"
  }
 },
 "nbformat": 4,
 "nbformat_minor": 0
}
