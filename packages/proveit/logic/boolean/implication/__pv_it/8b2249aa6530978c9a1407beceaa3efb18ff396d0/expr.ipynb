{
 "cells": [
  {
   "cell_type": "markdown",
   "metadata": {},
   "source": [
    "Expression of type <a class=\"ProveItLink\" href=\"../../../../../../../doc/html/api/proveit.logic.InSet.html\">InSet</a>\n",
    "=======================\n",
    "# from context <a class=\"ProveItLink\" href=\"../../_context_.ipynb\">proveit.logic.boolean.implication</a>"
   ]
  },
  {
   "cell_type": "code",
   "execution_count": 1,
   "metadata": {},
   "outputs": [],
   "source": [
    "# import Expression classes needed to build the expression\n",
    "from proveit.logic import Booleans, InSet\n",
    "from proveit.logic.boolean.implication._theorems_ import trueIffTrue"
   ]
  },
  {
   "cell_type": "code",
   "execution_count": 2,
   "metadata": {},
   "outputs": [
    {
     "data": {
      "text/html": [
       "<strong id=\"expr\">expr:</strong> <a class=\"ProveItLink\" href=\"expr.ipynb\"><img src=\"data:image/png;base64,iVBORw0KGgoAAAANSUhEUgAAAHUAAAAVBAMAAACK3rzVAAAAMFBMVEX////c3NwiIiJERESqqqqY\n",
       "mJh2dnZmZmYQEBDu7u4yMjJUVFTMzMyIiIi6uroAAAAs73DqAAAAAXRSTlMAQObYZgAAAWFJREFU\n",
       "OMtjYKAE8F0gpIL1AS6Z0wzsSmBggC4DF69Bk8j6vH6FsgOQsRLE4ynAbjBEnAtd2OAt58o0Bgbe\n",
       "C4T1siZg6GW4BzSQYwKa3gXIPAiLswHCm7tISQum15V7AsMrBlS9YHcYouplMIFwlk5AsleYgaEM\n",
       "Te8pECGFpjcdTApPQLiZR9WSgWEpql6eDlDQ6q9E1esFJg0R/n2k/wPovj5UvbcgZr96gKL3BdjX\n",
       "BshhddeZgeEfit4ZUHnGbhS958GJqAnoInhYMfMloOnl3A6hpS5g6uXZgGwvM4MBQwuqm1kgaUmR\n",
       "AYubFdD1mqKFszeImCSAqjcKTG5F0Qt0czqaXnZQOt2HNY4mPUDSG36ZgeERRA081XEC0xUjPESh\n",
       "4usgAbj8ADwvGHUD7eAQQEurQHnOCahCsDTJsgsazrDMmUA4i7PhyuIrCeudhUtCmrDejbgkGAmW\n",
       "ObwHsIsDAHoNXnEj1GTkAAAAAElFTkSuQmCC\n",
       "\" style=\"display:inline;vertical-align:middle;\" /></a><br>"
      ],
      "text/plain": [
       "expr: (TRUE <=> TRUE) in BOOLEANS"
      ]
     },
     "execution_count": 2,
     "metadata": {},
     "output_type": "execute_result"
    }
   ],
   "source": [
    "# build up the expression from sub-expressions\n",
    "expr = InSet(trueIffTrue.expr, Booleans)"
   ]
  },
  {
   "cell_type": "code",
   "execution_count": 3,
   "metadata": {},
   "outputs": [
    {
     "name": "stdout",
     "output_type": "stream",
     "text": [
      "Passed sanity check: built 'expr' is the same as the stored Expression.\n"
     ]
    }
   ],
   "source": [
    "# check that the built expression is the same as the stored expression\n",
    "%check_expr"
   ]
  },
  {
   "cell_type": "code",
   "execution_count": 4,
   "metadata": {},
   "outputs": [
    {
     "data": {
      "text/html": [
       "<table><tr><th>&nbsp;</th><th>core type</th><th>sub-expressions</th><th>expression</th></tr>\n",
       "<tr><td>0</td><td>Operation</td><td>operator:&nbsp;1<br>operands:&nbsp;2<br></td><td><a class=\"ProveItLink\" href=\"expr.ipynb\"><img src=\"data:image/png;base64,iVBORw0KGgoAAAANSUhEUgAAAHUAAAAVBAMAAACK3rzVAAAAMFBMVEX////c3NwiIiJERESqqqqY\n",
       "mJh2dnZmZmYQEBDu7u4yMjJUVFTMzMyIiIi6uroAAAAs73DqAAAAAXRSTlMAQObYZgAAAWFJREFU\n",
       "OMtjYKAE8F0gpIL1AS6Z0wzsSmBggC4DF69Bk8j6vH6FsgOQsRLE4ynAbjBEnAtd2OAt58o0Bgbe\n",
       "C4T1siZg6GW4BzSQYwKa3gXIPAiLswHCm7tISQum15V7AsMrBlS9YHcYouplMIFwlk5AsleYgaEM\n",
       "Te8pECGFpjcdTApPQLiZR9WSgWEpql6eDlDQ6q9E1esFJg0R/n2k/wPovj5UvbcgZr96gKL3BdjX\n",
       "BshhddeZgeEfit4ZUHnGbhS958GJqAnoInhYMfMloOnl3A6hpS5g6uXZgGwvM4MBQwuqm1kgaUmR\n",
       "AYubFdD1mqKFszeImCSAqjcKTG5F0Qt0czqaXnZQOt2HNY4mPUDSG36ZgeERRA081XEC0xUjPESh\n",
       "4usgAbj8ADwvGHUD7eAQQEurQHnOCahCsDTJsgsazrDMmUA4i7PhyuIrCeudhUtCmrDejbgkGAmW\n",
       "ObwHsIsDAHoNXnEj1GTkAAAAAElFTkSuQmCC\n",
       "\" style=\"display:inline;vertical-align:middle;\" /></a></td></tr>\n",
       "<tr><td>1</td><td>Literal</td><td></td><td><a class=\"ProveItLink\" href=\"../../../../set_theory/membership/__pv_it/088cbc857536a28d4119ad9639a84270ccb0545d0/expr.ipynb\"><img src=\"data:image/png;base64,iVBORw0KGgoAAAANSUhEUgAAAAwAAAAMBAMAAACkW0HUAAAALVBMVEX///+qqqpmZmZUVFQQEBC6\n",
       "urpERETc3NyYmJjMzMwiIiIyMjKIiIju7u4AAACYsrA9AAAAAXRSTlMAQObYZgAAADxJREFUCNdj\n",
       "YOA9vWrVBgaG2b0MQMCeCyIZ2ArA1DUwyRCyahVIyWQI7xaEYm4AU7xLIdxqTQgtvGvVBgCkcQ7e\n",
       "geM/tQAAAABJRU5ErkJggg==\n",
       "\" style=\"display:inline;vertical-align:middle;\" /></a></td></tr>\n",
       "<tr><td>2</td><td>ExprTuple</td><td>3, 4</td><td><a class=\"ProveItLink\" href=\"../0092c5e0d1e3d8fa76c1f3a8076f5c9d61aee0dc0/expr.ipynb\"><img src=\"data:image/png;base64,iVBORw0KGgoAAAANSUhEUgAAAGQAAAAVBAMAAABCslYDAAAAMFBMVEX////c3NwiIiJERESqqqqY\n",
       "mJh2dnZmZmYQEBDu7u4yMjJUVFTMzMyIiIi6uroAAAAs73DqAAAAAXRSTlMAQObYZgAAATVJREFU\n",
       "OMtjYCAD8F0gRTXrAyBxmoFdCQwM0KVRxLM+r1+h7MDAUANkrwQJ8BRgNxRJ3OAt58o0BgYuBgbe\n",
       "C0RrYbgHVM+awMAxAU1qATIPVYsr9wQGzgaGV2hSYFsNcdgiDKRNGMrQpE6BCCmsWnhULYF0OsNS\n",
       "VCmeDlAg6a/EouWR/g+QC7wY+lClboG9xvDqATaH3XUG0i8Y/qFIzYBGDmM3Ni3MfAkMDOfRtHBu\n",
       "h9BSF7BqYTAAaWlBlWKBxLgiA04tLxhM0aS8QcQkARQtE5AdFgUMM1Qt7MB0xLAPJZA5P0G1hF8G\n",
       "B/IjiFQCTBEnMPYZ4SkULM7ZLwBOlkbdIOPWMXAIoCWrA0A1E9DyB5IaYIJhTSAikyCx2S5AEz/x\n",
       "WmYBsTRhLcj5diMooknKyLwHGAD7V1cllmErVAAAAABJRU5ErkJggg==\n",
       "\" style=\"display:inline;vertical-align:middle;\" /></a></td></tr>\n",
       "<tr><td>3</td><td>Operation</td><td>operator:&nbsp;5<br>operands:&nbsp;6<br></td><td><a class=\"ProveItLink\" href=\"../039b4c44326537bfa27b1d6e7a8d44995283b0750/expr.ipynb\"><img src=\"data:image/png;base64,iVBORw0KGgoAAAANSUhEUgAAAD8AAAAPBAMAAAChCwpBAAAALVBMVEX///+qqqpUVFS6urru7u4Q\n",
       "EBDc3NyIiIgyMjJ2dnbMzMxEREQiIiJmZmYAAABYjWgWAAAAAXRSTlMAQObYZgAAAHtJREFUGNNj\n",
       "uHMGBE4zoANesPiZDSD2WgbsgOsClEGCAg4UHhYF5UDMnYBbAVcDkGBrwK1gaQzI4S8ccClgbwFT\n",
       "zM04FLBEQ/mpCjhMcIIIsLXjdIMMJPQScCpgBJnNcgxPOFwEYiYDDAUr4Qo8gDgbEZITMEMfiF1Q\n",
       "hQA1TDKH0JX8uwAAAABJRU5ErkJggg==\n",
       "\" style=\"display:inline;vertical-align:middle;\" /></a></td></tr>\n",
       "<tr><td>4</td><td>Literal</td><td></td><td><a class=\"ProveItLink\" href=\"../../../__pv_it/46271c8230be96415d662709611f4ed2279d702b0/expr.ipynb\"><img src=\"data:image/png;base64,iVBORw0KGgoAAAANSUhEUgAAAA0AAAAOBAMAAAAGUYvhAAAAMFBMVEX///9mZmbMzMzc3NxUVFSY\n",
       "mJju7u6IiIi6urqqqqoiIiIQEBBEREQyMjJ2dnYAAAAQvcRZAAAAAXRSTlMAQObYZgAAAElJREFU\n",
       "CNdjePvn/u01ExgYGA60s117B6YZKngh9FSWBAjfBsxnWnoMRHet/10AkS+fA6F5OB5AaIYDqDRU\n",
       "PLCGgQFoz6ktExgAgLIl8DFvGtkAAAAASUVORK5CYII=\n",
       "\" style=\"display:inline;vertical-align:middle;\" /></a></td></tr>\n",
       "<tr><td>5</td><td>Literal</td><td></td><td><a class=\"ProveItLink\" href=\"../9817cf888369307f52607b98db5e99fdc17b089e0/expr.ipynb\"><img src=\"data:image/png;base64,iVBORw0KGgoAAAANSUhEUgAAABQAAAANBAMAAABbflNtAAAAKlBMVEX///+qqqpUVFS6urru7u4i\n",
       "IiIQEBDc3NxERESIiIhmZmbMzMwyMjIAAAAneYQxAAAAAXRSTlMAQObYZgAAAFpJREFUCNdjYEAB\n",
       "BxgYuBeAWZwTgEQ7mLkHRNSACO60UCCIPQJkznEAy9kYMLg1QPSyJzGwaEGYNUDNjKFgEA7iC4EI\n",
       "1wIQySUAJJTBqliAtrFDNW8AcoEmAgB4jw/0RzyxkgAAAABJRU5ErkJggg==\n",
       "\" style=\"display:inline;vertical-align:middle;\" /></a></td></tr>\n",
       "<tr><td>6</td><td>ExprTuple</td><td>7, 7</td><td><a class=\"ProveItLink\" href=\"../53cd4c5ad99d49f1dd2daba2e4ef227137637f4c0/expr.ipynb\"><img src=\"data:image/png;base64,iVBORw0KGgoAAAANSUhEUgAAADUAAAAVBAMAAAAUZLt1AAAAMFBMVEX////c3NwiIiJERESqqqqY\n",
       "mJh2dnZmZmYQEBDu7u4yMjJUVFTMzMyIiIi6uroAAAAs73DqAAAAAXRSTlMAQObYZgAAAK1JREFU\n",
       "KM9jYMAH+C5gFY4DEacZ2JXAwAAsVgRmKzOwHwByVoJEeAqQtBwHkwsYGHgv4JALY2DgmIBDbgYD\n",
       "wysGHHLMDgxluOTYChiW4pJjWcDQh0uOr4HhHy45ng945VrwmGmKJDcBWY51AUM6Qo7zE5ofHkHk\n",
       "EkBy/QJgzjEwyfWAgUMAKbqQ2KAwY01AcFmRIzAXFkeYcpzAOGKQRvCRUwA3yHxG7GniDgMDAJEk\n",
       "LfwxNZicAAAAAElFTkSuQmCC\n",
       "\" style=\"display:inline;vertical-align:middle;\" /></a></td></tr>\n",
       "<tr><td>7</td><td>Literal</td><td></td><td><a class=\"ProveItLink\" href=\"../../../__pv_it/68a87cc3370287d726c7086ace789e680e4461c30/expr.ipynb\"><img src=\"data:image/png;base64,iVBORw0KGgoAAAANSUhEUgAAAA4AAAAOBAMAAADtZjDiAAAAFVBMVEX///92dnbMzMxEREQiIiJm\n",
       "ZmYAAABAT6GXAAAAAXRSTlMAQObYZgAAABhJREFUCNdjCHEBAWcGIFBlgABa0YpADAAxegPJJk4d\n",
       "XAAAAABJRU5ErkJggg==\n",
       "\" style=\"display:inline;vertical-align:middle;\" /></a></td></tr>\n",
       "</table>\n"
      ],
      "text/plain": [
       "0. (TRUE <=> TRUE) in BOOLEANS\n",
       "   core type: Operation\n",
       "   operator: 1\n",
       "   operands: 2\n",
       "1. in\n",
       "   core type: Literal\n",
       "   sub-expressions: \n",
       "2. (TRUE <=> TRUE , BOOLEANS)\n",
       "   core type: ExprTuple\n",
       "   sub-expressions: 3, 4\n",
       "3. TRUE <=> TRUE\n",
       "   core type: Operation\n",
       "   operator: 5\n",
       "   operands: 6\n",
       "4. BOOLEANS\n",
       "   core type: Literal\n",
       "   sub-expressions: \n",
       "5. <=>\n",
       "   core type: Literal\n",
       "   sub-expressions: \n",
       "6. (TRUE , TRUE)\n",
       "   core type: ExprTuple\n",
       "   sub-expressions: 7, 7\n",
       "7. TRUE\n",
       "   core type: Literal\n",
       "   sub-expressions: "
      ]
     },
     "execution_count": 4,
     "metadata": {},
     "output_type": "execute_result"
    }
   ],
   "source": [
    "# display the expression information\n",
    "expr.exprInfo()"
   ]
  },
  {
   "cell_type": "code",
   "execution_count": null,
   "metadata": {},
   "outputs": [],
   "source": []
  }
 ],
 "metadata": {
  "kernelspec": {
   "display_name": "Python 3",
   "language": "python",
   "name": "python3"
  }
 },
 "nbformat": 4,
 "nbformat_minor": 0
}
