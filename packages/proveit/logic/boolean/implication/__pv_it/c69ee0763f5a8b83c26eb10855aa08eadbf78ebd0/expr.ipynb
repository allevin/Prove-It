{
 "cells": [
  {
   "cell_type": "markdown",
   "metadata": {},
   "source": [
    "Expression of type <a class=\"ProveItLink\" href=\"../../../../../../../doc/html/api/proveit.ExprTuple.html\">ExprTuple</a>\n",
    "=======================\n",
    "# from context <a class=\"ProveItLink\" href=\"../../_context_.ipynb\">proveit.logic.boolean.implication</a>"
   ]
  },
  {
   "cell_type": "code",
   "execution_count": 1,
   "metadata": {},
   "outputs": [],
   "source": [
    "# import Expression classes needed to build the expression\n",
    "from proveit import ExprTuple\n",
    "from proveit._common_ import A, B\n",
    "from proveit.logic import Booleans, Implies, InSet, Not"
   ]
  },
  {
   "cell_type": "code",
   "execution_count": 2,
   "metadata": {},
   "outputs": [
    {
     "data": {
      "text/html": [
       "<strong id=\"expr\">expr:</strong> <a class=\"ProveItLink\" href=\"expr.ipynb\"><img src=\"data:image/png;base64,iVBORw0KGgoAAAANSUhEUgAAAOMAAAAVBAMAAABGa0R7AAAAMFBMVEX////c3NwiIiJERESqqqqY\n",
       "mJh2dnZmZmYQEBDu7u4yMjJUVFTMzMyIiIi6uroAAAAs73DqAAAAAXRSTlMAQObYZgAAAr1JREFU\n",
       "SMfFVk1oE0EUfmsSk0022wU9KUKIKIJgi1BovTQgIthLUKiIoDlZFArSQ08eKvZiBQ166c2iFJtT\n",
       "czaIPZZ6MOBNjMacVCi0Fv9abH3zt/Nmd2jakw8eb3byfe+bvzcTgP9gflO4ades2JXdwXYwTngj\n",
       "XdrV7UbjTBvSixa8Vze+CkBgkkft1vrC/NGShVCTruwe9m8BzFoks1XjaxUoTPKo9a24tRtxQr4p\n",
       "PBzKX/RNgBHd5apGy0h48Q8QmOKZkvAxGydkqsKV5dcAUj8BZiyTu0/zOecRqWGKx4b4vliclZLn\n",
       "ctUY4RsIV5aYBNiHuRN6E3y5hb6x2Pk8W8YQpnhoy1fILA/ECRMYJkimnjo4z3Fk+2/rvjER0hUq\n",
       "+TX5AwhM8XA2g3phvWODccIchjmS6e2r1ngZY5JPabzIrFfkzZYJzm2z3ZMwwsN5BKFkp/d3M054\n",
       "iAE9zXPjND4F4J5kqzhJ8l/gpz/TlmM4zn4H5xeFKR7AE3p8WmfD7QkJbH23SN0NMDoO11ulU5pn\n",
       "mj2q7HgpNxrrQGCKB/CFjUodn4SvdkMTopLsnF+vRCSXb0JUEtvTVFLx6L3CJKFPfmjCFIYpLemx\n",
       "LX5dUism9rIozkCmpCWTGE6QhQ15AI+tkoTQj6FfS7LycjawnSIVMSzroKwlD2JYEDBXlSXnAeTK\n",
       "VBIXlp9jQhjFMKowi7y8lmpgFIkj1cMuD1zWNSRq6WlBluWSuDfdU0Ty8jtwv7NOQuhgsxNmTw9t\n",
       "Nl7ymsnqK1qder8QDmJgI4BL2y84bGaN8tAO3Qmv9dMPSuA+CkxCBvNlgvgVTi48TzXu2mGfo53D\n",
       "z4r0ovIDk5CqCI/amOUlGbHDyl3eyFSUEH28ZCV2f7xC2F4kOeGwdNNylrUGp26D5bv9E2hG8zpN\n",
       "4aZ9sJKP7A62gyHhHw7k6xrxQoj5AAAAAElFTkSuQmCC\n",
       "\" style=\"display:inline;vertical-align:middle;\" /></a><br>"
      ],
      "text/plain": [
       "expr: ([not](B) => [not](A) , B in BOOLEANS , A)"
      ]
     },
     "execution_count": 2,
     "metadata": {},
     "output_type": "execute_result"
    }
   ],
   "source": [
    "# build up the expression from sub-expressions\n",
    "expr = ExprTuple(Implies(Not(B), Not(A)), InSet(B, Booleans), A)"
   ]
  },
  {
   "cell_type": "code",
   "execution_count": 3,
   "metadata": {},
   "outputs": [
    {
     "name": "stdout",
     "output_type": "stream",
     "text": [
      "Passed sanity check: built 'expr' is the same as the stored Expression.\n"
     ]
    }
   ],
   "source": [
    "# check that the built expression is the same as the stored expression\n",
    "%check_expr"
   ]
  },
  {
   "cell_type": "code",
   "execution_count": 4,
   "metadata": {},
   "outputs": [
    {
     "data": {
      "text/html": [
       "<table><tr><th>&nbsp;</th><th>core type</th><th>sub-expressions</th><th>expression</th></tr>\n",
       "<tr><td>0</td><td>ExprTuple</td><td>1, 2, 12</td><td><a class=\"ProveItLink\" href=\"expr.ipynb\"><img src=\"data:image/png;base64,iVBORw0KGgoAAAANSUhEUgAAAOMAAAAVBAMAAABGa0R7AAAAMFBMVEX////c3NwiIiJERESqqqqY\n",
       "mJh2dnZmZmYQEBDu7u4yMjJUVFTMzMyIiIi6uroAAAAs73DqAAAAAXRSTlMAQObYZgAAAr1JREFU\n",
       "SMfFVk1oE0EUfmsSk0022wU9KUKIKIJgi1BovTQgIthLUKiIoDlZFArSQ08eKvZiBQ166c2iFJtT\n",
       "czaIPZZ6MOBNjMacVCi0Fv9abH3zt/Nmd2jakw8eb3byfe+bvzcTgP9gflO4ades2JXdwXYwTngj\n",
       "XdrV7UbjTBvSixa8Vze+CkBgkkft1vrC/NGShVCTruwe9m8BzFoks1XjaxUoTPKo9a24tRtxQr4p\n",
       "PBzKX/RNgBHd5apGy0h48Q8QmOKZkvAxGydkqsKV5dcAUj8BZiyTu0/zOecRqWGKx4b4vliclZLn\n",
       "ctUY4RsIV5aYBNiHuRN6E3y5hb6x2Pk8W8YQpnhoy1fILA/ECRMYJkimnjo4z3Fk+2/rvjER0hUq\n",
       "+TX5AwhM8XA2g3phvWODccIchjmS6e2r1ngZY5JPabzIrFfkzZYJzm2z3ZMwwsN5BKFkp/d3M054\n",
       "iAE9zXPjND4F4J5kqzhJ8l/gpz/TlmM4zn4H5xeFKR7AE3p8WmfD7QkJbH23SN0NMDoO11ulU5pn\n",
       "mj2q7HgpNxrrQGCKB/CFjUodn4SvdkMTopLsnF+vRCSXb0JUEtvTVFLx6L3CJKFPfmjCFIYpLemx\n",
       "LX5dUism9rIozkCmpCWTGE6QhQ15AI+tkoTQj6FfS7LycjawnSIVMSzroKwlD2JYEDBXlSXnAeTK\n",
       "VBIXlp9jQhjFMKowi7y8lmpgFIkj1cMuD1zWNSRq6WlBluWSuDfdU0Ty8jtwv7NOQuhgsxNmTw9t\n",
       "Nl7ymsnqK1qder8QDmJgI4BL2y84bGaN8tAO3Qmv9dMPSuA+CkxCBvNlgvgVTi48TzXu2mGfo53D\n",
       "z4r0ovIDk5CqCI/amOUlGbHDyl3eyFSUEH28ZCV2f7xC2F4kOeGwdNNylrUGp26D5bv9E2hG8zpN\n",
       "4aZ9sJKP7A62gyHhHw7k6xrxQoj5AAAAAElFTkSuQmCC\n",
       "\" style=\"display:inline;vertical-align:middle;\" /></a></td></tr>\n",
       "<tr><td>1</td><td>Operation</td><td>operator:&nbsp;3<br>operands:&nbsp;4<br></td><td><a class=\"ProveItLink\" href=\"../1cb7d4d9e535dffc8c0d1a976e26c491544c5f510/expr.ipynb\"><img src=\"data:image/png;base64,iVBORw0KGgoAAAANSUhEUgAAAHkAAAAVBAMAAACQ4lxbAAAAMFBMVEX////c3NwiIiJERESqqqqY\n",
       "mJh2dnZmZmYQEBDu7u4yMjJUVFTMzMyIiIi6uroAAAAs73DqAAAAAXRSTlMAQObYZgAAAb5JREFU\n",
       "OMullL9Lw0AUx9/Z1iY1aTO4iVA6iODgJFQXuwm6FIUugnYTh4J0cK7oooM4Ogoi2snOBrGj2EH/\n",
       "AEuDm4JQERVbbL0fSe6lOXAw0L67bz7fdz/eXQD+9yQfBpU1JfeqxBqyv9q37TkH4nWF2agFemkQ\n",
       "WBWJu1TrAZwo3ImjQK8NHDPRxI0f+usCFKSke41mINfyN3BMQznNN4DYJ8CxYsh9bCYLlGTYCxIj\n",
       "FYAhikVyck/d5SYDqzHNHnBsG4mpGpBTOtjwltRKIsSL2P0c/QCOnSHx/rpZztMY5QOVM+yZFpkS\n",
       "ecTpDtshhh3SvByjyVsW6FNsmhWELjrsX3PcdBPsPZAvgfVQPbM0tuggRhsPdMHsKcftsuPRsO13\n",
       "4Bh202LBenHAfbcJg27aPhDuPek22Fbc5LyZi3VnZvlrLSfdURomxcxnpJuVm3RoO4bKs+QWMy/d\n",
       "ozRcCmzDw+q83LdVCFSMuIl8yQCdSfOisE8+GJ/v2le8gAlHHiDLPS1pP1+2Y8FK/5xjmhW+Eeik\n",
       "Gl5jR4nFimG5pLhjBTVWDan63zfUx8ZC4IhiMUBqSoyEvkyPyi/TuAL7BdKec4W7hfHjAAAAAElF\n",
       "TkSuQmCC\n",
       "\" style=\"display:inline;vertical-align:middle;\" /></a></td></tr>\n",
       "<tr><td>2</td><td>Operation</td><td>operator:&nbsp;5<br>operands:&nbsp;6<br></td><td><a class=\"ProveItLink\" href=\"../41a86ef0ff9417c73c472e1bdfa161b308e2753e0/expr.ipynb\"><img src=\"data:image/png;base64,iVBORw0KGgoAAAANSUhEUgAAADcAAAAPBAMAAACy3Eq1AAAAMFBMVEX///+qqqru7u4iIiJ2dnbc\n",
       "3NyIiIjMzMxmZmYQEBC6uroyMjJERERUVFSYmJgAAADLUcuvAAAAAXRSTlMAQObYZgAAAOZJREFU\n",
       "GNNjYGB4+//u3dMLGJCB95/9O20EwMw5DAwcv1AkGQ4sY9rkAmKwfwPiv+iSDFncIAbbVwYGvi9g\n",
       "MbXNxtYwSTleBSCDZwIDA/MksBn7FJB0xoAY/BcYWPeARWMUEMay2x0CMeqvpTU/AAsdRdi52P5n\n",
       "AoiRH8DAZAtiMB1AdlCaDIhxEqQApJVrsrExwkE8XA5ABsgX70EM9gvIOnkYgAax/wNy7oOCg8kA\n",
       "QxLkTdbfYKF7KJIgY0HerNwEFlJegCT5IgcYquf/3r29DyLEuqMAHvCH5wqghigD422oayEAAEv1\n",
       "Sz0foy5uAAAAAElFTkSuQmCC\n",
       "\" style=\"display:inline;vertical-align:middle;\" /></a></td></tr>\n",
       "<tr><td>3</td><td>Literal</td><td></td><td><a class=\"ProveItLink\" href=\"../e5c030cabcb650938f92dee8256fe11cd12bf9b30/expr.ipynb\"><img src=\"data:image/png;base64,iVBORw0KGgoAAAANSUhEUgAAABMAAAANBAMAAAC5okgUAAAALVBMVEX////c3NxERETMzMwQEBCq\n",
       "qqoiIiJmZmaIiIh2dnZUVFS6uroyMjLu7u4AAACPpZJTAAAAAXRSTlMAQObYZgAAAD1JREFUCNdj\n",
       "YAABXgY44LkAZ3IvQAjPABFlaSCQV4AQjtkAZ/IegbNt5sLUpunC5aPgLMYDcCaTAJzJDCIA2yMN\n",
       "HCCUuIIAAAAASUVORK5CYII=\n",
       "\" style=\"display:inline;vertical-align:middle;\" /></a></td></tr>\n",
       "<tr><td>4</td><td>ExprTuple</td><td>7, 8</td><td><a class=\"ProveItLink\" href=\"../860c09b40da9c65adf3efd8e19c2e8357497328d0/expr.ipynb\"><img src=\"data:image/png;base64,iVBORw0KGgoAAAANSUhEUgAAAFIAAAAVBAMAAAAnX6R8AAAAMFBMVEX////c3NwiIiJERESqqqqY\n",
       "mJh2dnZmZmYQEBDu7u4yMjJUVFTMzMyIiIi6uroAAAAs73DqAAAAAXRSTlMAQObYZgAAAU5JREFU\n",
       "KM9jYCAe8F0gQhHrAyBxGsGP/r97t9UDDGWHgLgGiFciiTUzMLD/w1C5Hoi5GBh4kSzn+QvEvzFs\n",
       "1p8AJBIYOCYgxHg/AoW+oasUqRdgYOBsYHiFJMbcwMDA1Imu8sJ9kNNNGMqQxPg3MDAunoAeNhP8\n",
       "A4BUOsNSJMHze+8WBaAbOY/hPMgrXgx9QO8qgUACA8N9AQZObYg8XIzhAYN8AZB6wQALFJ4NDAwW\n",
       "QPo+kqEgMZ7du/cbgOxDUQkKoPgEVJV8DAwcC8AqWxCiPF+B9H4HVJVALlMD2HZThCgoOBl/AcMO\n",
       "SSUjUCXXByA7Cuh7KDgADs4TwMidr4AQmwUK5p/gUHoEt4vd/vfuXaBAm/ERLibcv5CB1f4X0PPr\n",
       "GDgEMNPYQ0whYGyyJmAKB2AKsV1ATXW4VYLcK40hyosl0W8EYkZicgfvAQYAJP9WjE9idX0AAAAA\n",
       "SUVORK5CYII=\n",
       "\" style=\"display:inline;vertical-align:middle;\" /></a></td></tr>\n",
       "<tr><td>5</td><td>Literal</td><td></td><td><a class=\"ProveItLink\" href=\"../../../../set_theory/membership/__pv_it/088cbc857536a28d4119ad9639a84270ccb0545d0/expr.ipynb\"><img src=\"data:image/png;base64,iVBORw0KGgoAAAANSUhEUgAAAAwAAAAMBAMAAACkW0HUAAAALVBMVEX///+qqqpmZmZUVFQQEBC6\n",
       "urpERETc3NyYmJjMzMwiIiIyMjKIiIju7u4AAACYsrA9AAAAAXRSTlMAQObYZgAAADxJREFUCNdj\n",
       "YOA9vWrVBgaG2b0MQMCeCyIZ2ArA1DUwyRCyahVIyWQI7xaEYm4AU7xLIdxqTQgtvGvVBgCkcQ7e\n",
       "geM/tQAAAABJRU5ErkJggg==\n",
       "\" style=\"display:inline;vertical-align:middle;\" /></a></td></tr>\n",
       "<tr><td>6</td><td>ExprTuple</td><td>10, 9</td><td><a class=\"ProveItLink\" href=\"../46fef8cd01e90537d7ca36d1ba2c809996ed4b3a0/expr.ipynb\"><img src=\"data:image/png;base64,iVBORw0KGgoAAAANSUhEUgAAADQAAAAVBAMAAAD7ptBLAAAAMFBMVEX////c3NwiIiJERESqqqqY\n",
       "mJh2dnZmZmYQEBDu7u4yMjJUVFTMzMyIiIi6uroAAAAs73DqAAAAAXRSTlMAQObYZgAAASVJREFU\n",
       "KM9jYMAD+C5gE2V9ACROA3H0/927rR6AxbI+r1+h7MDAUANkrwQJNDMwsP+DqDd4y7kyjYGBi4GB\n",
       "F2Qez18g/g2TYrgHFGdNYOCYAOTyfgSyv8GlXLknMHA2MLwCcZkbGBiYOhG6hIG0CUMZiMu/gYFx\n",
       "8QSYFI+qJZBOZ1gK4p7fe7coAOpsg0f6P0D2ezH0gbj3BRg4tRngBt51BtIvGMBOtgBJB8ClmPkS\n",
       "gCZBpEDujk9ASDEYgKRaQN76CiT2O6BKvWAwhXqL8RcDAyeygVFAN0K8dQIYYPMVIFLhl8GOfwQM\n",
       "Pfvfu3eBPDHjIzh4jbpBZq9j4BBAioqHCCYwoFgTkKQCEEy2C9BIwZSaBcTSCC4vkqqNQMyINQHw\n",
       "HmAAAHCOVkQeB6BvAAAAAElFTkSuQmCC\n",
       "\" style=\"display:inline;vertical-align:middle;\" /></a></td></tr>\n",
       "<tr><td>7</td><td>Operation</td><td>operator:&nbsp;11<br>operand:&nbsp;10<br></td><td><a class=\"ProveItLink\" href=\"../1da4e2fe7c44632f084fa27ea32e26dc689384c20/expr.ipynb\"><img src=\"data:image/png;base64,iVBORw0KGgoAAAANSUhEUgAAAB0AAAAOBAMAAAAh/woJAAAAMFBMVEX///+qqqru7u7c3NyIiIgQ\n",
       "EBC6uroyMjJERESYmJhUVFTMzMx2dnYiIiJmZmYAAADtoHoAAAAAAXRSTlMAQObYZgAAAHpJREFU\n",
       "CNdjYIACzvW/Vq0oY0AA1gYGhvcJCP5+ByBegOD7GzAwzD+A4LcC8VUFBP8XA4N5E4LL/cvF7yaQ\n",
       "fnsXCO4wMLB8ZmDQhRm3i4GBIwAo9hPB5wfKcf5B8PdPYGDg+ojgg6y3L4AZDraeOxxh/Yv/q1aV\n",
       "A7UAAFRxJOZ+1MVPAAAAAElFTkSuQmCC\n",
       "\" style=\"display:inline;vertical-align:middle;\" /></a></td></tr>\n",
       "<tr><td>8</td><td>Operation</td><td>operator:&nbsp;11<br>operand:&nbsp;12<br></td><td><a class=\"ProveItLink\" href=\"../feaa1d0e6d92ad9ead8e5ffd1f92697e3912387a0/expr.ipynb\"><img src=\"data:image/png;base64,iVBORw0KGgoAAAANSUhEUgAAABwAAAAOBAMAAADOPWE3AAAAMFBMVEX///8QEBBERES6urqIiIiq\n",
       "qqrc3Nzu7u6YmJgyMjJUVFTMzMx2dnYiIiJmZmYAAADMbjvTAAAAAXRSTlMAQObYZgAAAGNJREFU\n",
       "CNdjYEAA7gsMyIDzAwq39zsyjy3uGzKXheUzMtec9QcSj92A+wsDw9u7QHAHyGVmYPsHldkFwqtW\n",
       "fULiGjAwSCK4rEDqIoKbCqTmw1zLwD4BSOkXwFyk+DOBoen/PABSrhtHsYt+gAAAAABJRU5ErkJg\n",
       "gg==\n",
       "\" style=\"display:inline;vertical-align:middle;\" /></a></td></tr>\n",
       "<tr><td>9</td><td>Literal</td><td></td><td><a class=\"ProveItLink\" href=\"../../../__pv_it/46271c8230be96415d662709611f4ed2279d702b0/expr.ipynb\"><img src=\"data:image/png;base64,iVBORw0KGgoAAAANSUhEUgAAAA0AAAAOBAMAAAAGUYvhAAAAMFBMVEX///9mZmbMzMzc3NxUVFSY\n",
       "mJju7u6IiIi6urqqqqoiIiIQEBBEREQyMjJ2dnYAAAAQvcRZAAAAAXRSTlMAQObYZgAAAElJREFU\n",
       "CNdjePvn/u01ExgYGA60s117B6YZKngh9FSWBAjfBsxnWnoMRHet/10AkS+fA6F5OB5AaIYDqDRU\n",
       "PLCGgQFoz6ktExgAgLIl8DFvGtkAAAAASUVORK5CYII=\n",
       "\" style=\"display:inline;vertical-align:middle;\" /></a></td></tr>\n",
       "<tr><td>10</td><td>Variable</td><td></td><td><a class=\"ProveItLink\" href=\"../../../../../__pv_it/077b2ff79244fb4582cbe22c6e3356fa92a52f2f0/expr.ipynb\"><img src=\"data:image/png;base64,iVBORw0KGgoAAAANSUhEUgAAABAAAAAOBAMAAADUAYG5AAAAMFBMVEX///+qqqru7u4iIiJ2dnbc\n",
       "3NyIiIjMzMxmZmYQEBC6uroyMjJERERUVFSYmJgAAADLUcuvAAAAAXRSTlMAQObYZgAAAGpJREFU\n",
       "CNdjYGB4+//u3dMLGIBgDgMDxy8gzf4NiP8CGWxfGRj4vgAZPBMYGJgnARn8FxhY9ygAGfXX0pof\n",
       "gDTlBzAw2YIYJ0EckBBI53sHoBH/gIz7AhBjWH9DjancBLTl/N+7t/cxMAAA3u4f/5xagjYAAAAA\n",
       "SUVORK5CYII=\n",
       "\" style=\"display:inline;vertical-align:middle;\" /></a></td></tr>\n",
       "<tr><td>11</td><td>Literal</td><td></td><td><a class=\"ProveItLink\" href=\"../../../negation/__pv_it/7bea79645543c2413aa17e787cca04e21046fde60/expr.ipynb\"><img src=\"data:image/png;base64,iVBORw0KGgoAAAANSUhEUgAAAAwAAAAGBAMAAAAFwGKyAAAAFVBMVEX///9UVFTMzMx2dnYiIiJm\n",
       "ZmYAAACWz4ZEAAAAAXRSTlMAQObYZgAAABRJREFUCNdjCHEBAmcGMFDEQzEBAEl+Ai6uYJv/AAAA\n",
       "AElFTkSuQmCC\n",
       "\" style=\"display:inline;vertical-align:middle;\" /></a></td></tr>\n",
       "<tr><td>12</td><td>Variable</td><td></td><td><a class=\"ProveItLink\" href=\"../../../../../__pv_it/2cbe72a7ad6f655694dd697106680215e8489b600/expr.ipynb\"><img src=\"data:image/png;base64,iVBORw0KGgoAAAANSUhEUgAAAA8AAAAOBAMAAAACpFvcAAAALVBMVEX///8QEBBERERUVFS6urqI\n",
       "iIhmZmaqqqrc3Nzu7u6YmJgyMjIiIiLMzMwAAADtIaYWAAAAAXRSTlMAQObYZgAAAFtJREFUCNdj\n",
       "YACBOwxQsA9Kc52bAGG05zVAGAFxDmCaZULdAjBjCsO9ADDDgaEvAUTzGhvbKYCVMDAwbgAxChgY\n",
       "eASANAeQwf0AyJgNxEwvGRia5HYwcOm9TgAA6BoR3jrzwFcAAAAASUVORK5CYII=\n",
       "\" style=\"display:inline;vertical-align:middle;\" /></a></td></tr>\n",
       "</table>\n"
      ],
      "text/plain": [
       "0. ([not](B) => [not](A) , B in BOOLEANS , A)\n",
       "   core type: ExprTuple\n",
       "   sub-expressions: 1, 2, 12\n",
       "1. [not](B) => [not](A)\n",
       "   core type: Operation\n",
       "   operator: 3\n",
       "   operands: 4\n",
       "2. B in BOOLEANS\n",
       "   core type: Operation\n",
       "   operator: 5\n",
       "   operands: 6\n",
       "3. =>\n",
       "   core type: Literal\n",
       "   sub-expressions: \n",
       "4. ([not](B) , [not](A))\n",
       "   core type: ExprTuple\n",
       "   sub-expressions: 7, 8\n",
       "5. in\n",
       "   core type: Literal\n",
       "   sub-expressions: \n",
       "6. (B , BOOLEANS)\n",
       "   core type: ExprTuple\n",
       "   sub-expressions: 10, 9\n",
       "7. [not](B)\n",
       "   core type: Operation\n",
       "   operator: 11\n",
       "   operand: 10\n",
       "8. [not](A)\n",
       "   core type: Operation\n",
       "   operator: 11\n",
       "   operand: 12\n",
       "9. BOOLEANS\n",
       "   core type: Literal\n",
       "   sub-expressions: \n",
       "10. B\n",
       "    core type: Variable\n",
       "    sub-expressions: \n",
       "11. not\n",
       "    core type: Literal\n",
       "    sub-expressions: \n",
       "12. A\n",
       "    core type: Variable\n",
       "    sub-expressions: "
      ]
     },
     "execution_count": 4,
     "metadata": {},
     "output_type": "execute_result"
    }
   ],
   "source": [
    "# display the expression information\n",
    "expr.exprInfo()"
   ]
  },
  {
   "cell_type": "code",
   "execution_count": null,
   "metadata": {},
   "outputs": [],
   "source": []
  }
 ],
 "metadata": {
  "kernelspec": {
   "display_name": "Python 3",
   "language": "python",
   "name": "python3"
  }
 },
 "nbformat": 4,
 "nbformat_minor": 0
}
