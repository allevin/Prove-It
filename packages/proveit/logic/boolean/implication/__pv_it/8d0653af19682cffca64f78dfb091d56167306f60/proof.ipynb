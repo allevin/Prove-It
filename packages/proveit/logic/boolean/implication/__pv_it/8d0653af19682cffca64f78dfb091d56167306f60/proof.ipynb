{
 "cells": [
  {
   "cell_type": "markdown",
   "metadata": {},
   "source": [
    "Show the Proof\n",
    "========"
   ]
  },
  {
   "cell_type": "code",
   "execution_count": 1,
   "metadata": {},
   "outputs": [
    {
     "data": {
      "text/html": [
       "<table><tr><th>&nbsp;</th><th>step type</th><th>requirements</th><th>statement</th></tr>\n",
       "<tr><td>0</td><td>assumption</td><td></td><td><span style=\"font-size:20px;\"><a class=\"ProveItLink\" href=\"../f781d910a519db6d9db607791427c10e1938d0500/expr.ipynb\"><img src=\"data:image/png;base64,iVBORw0KGgoAAAANSUhEUgAAAFMAAAAVBAMAAADInc9CAAAAMFBMVEX////c3NxERESqqqpUVFS6\n",
       "urrMzMwyMjIQEBCIiIh2dnYiIiLu7u5mZmaYmJgAAABXZE4RAAAAAXRSTlMAQObYZgAAAWtJREFU\n",
       "KM9jYGDgu8dACLCtEgBRPLsYCAO2ZhDJ+QFI8Pl/cXEqxa4sG0RcBxFcDSCSQ4GB4X4AVqX1IGIF\n",
       "Qmn+BCB2wKaSb/8BVKXzge5+vwAiWQB02wW4UuH7AqhKNYB4xwGwHCfQAgZFuNIJ8wNQlX5hYBDX\n",
       "gcilgwhxmErWA/YPYEp5C0CB8WXm3H3QcOnYDQT7a6BKj4K9wfAexM4Amc/5kYHhNMRX0yHOCIcG\n",
       "RwCDPMjd7EAipQ0kwAR0Bec/EOuEAkQJYwvEDhcXf7CIOtAZEQlABj/QRL5f4MjzhSgVnwBxKjDI\n",
       "QS7kBoUOC4iVD9TD8hksybwbDDZCdBgAVTXA3Mq1ARqs8gUQWRMQcVoA4gygUvYPKIEFDFa2doh/\n",
       "GHiB0gyuEPZxkD/+ICu99N/FpfwBNHh4gKYzQjwn1F/IwKf//QJKFCADoD95DqCJ4VCKDYCV8hGl\n",
       "FJxeeXYSkwtaIQlyMXF5CwD6uF3PCTZbJgAAAABJRU5ErkJggg==\n",
       "\" style=\"display:inline;vertical-align:middle;\" /></a> <a class=\"ProveItLink\" href=\"proof.ipynb\" style=\"text-decoration: none\">&#x22A2;&nbsp;</a><a class=\"ProveItLink\" href=\"../159b0b16589589c804d76414a9189d21c26f17d80/expr.ipynb\"><img src=\"data:image/png;base64,iVBORw0KGgoAAAANSUhEUgAAAEAAAAAPBAMAAACmSdRUAAAAMFBMVEX///+qqqru7u4iIiJ2dnbc\n",
       "3NyIiIjMzMxmZmYQEBC6uroyMjJERERUVFSYmJgAAADLUcuvAAAAAXRSTlMAQObYZgAAAQVJREFU\n",
       "GNNjYGB4+//u3dMLGLABdgMwNYeBgeMXVgXcH8DKvgHxX6wKHn8CkWxfGRj4vkC1AHEFXJ5V4iuI\n",
       "4pnAwMA8CSKUBuIHwBSwsYFt5r/AwLpHAeKoDSB9G2AKFjH+A1H119KaH0BEKicbA8FviGoGpgUg\n",
       "5zEw5AcwMNlCjNwEprh2QRRwMbD+ANEnQYpARjDNgRodeQFM1d69+wdEg3z43gHE0m2AOH4bRB0w\n",
       "8GaDHAZyyH0BsJCwMRhAvMEIxJbQYGD9DdHDCDKbyRTCCQTi/dBgqNwEtb0RiHkh8cIE8u15BQaO\n",
       "83/v3t4H87k2EMdAHHLydwDDm/870KMPiJVQRACAa0REUvL7aQAAAABJRU5ErkJggg==\n",
       "\" style=\"display:inline;vertical-align:middle;\" /></a></span></td></tr>\n",
       "</table>"
      ],
      "text/plain": [
       "<proveit._core_.proof._ShowProof at 0x7f94eba66da0>"
      ]
     },
     "execution_count": 1,
     "metadata": {},
     "output_type": "execute_result"
    }
   ],
   "source": [
    "import proveit\n",
    "%show_proof"
   ]
  },
  {
   "cell_type": "code",
   "execution_count": null,
   "metadata": {},
   "outputs": [],
   "source": []
  }
 ],
 "metadata": {
  "kernelspec": {
   "display_name": "Python 3",
   "language": "python",
   "name": "python3"
  }
 },
 "nbformat": 4,
 "nbformat_minor": 0
}
