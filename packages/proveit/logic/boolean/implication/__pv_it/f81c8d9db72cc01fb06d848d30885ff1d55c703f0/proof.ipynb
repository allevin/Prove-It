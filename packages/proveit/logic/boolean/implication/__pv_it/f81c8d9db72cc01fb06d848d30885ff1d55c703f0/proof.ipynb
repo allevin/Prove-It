{
 "cells": [
  {
   "cell_type": "markdown",
   "metadata": {},
   "source": [
    "Show the Proof\n",
    "========"
   ]
  },
  {
   "cell_type": "code",
   "execution_count": 1,
   "metadata": {},
   "outputs": [
    {
     "data": {
      "text/html": [
       "<table><tr><th>&nbsp;</th><th>step type</th><th>requirements</th><th>statement</th></tr>\n",
       "<tr><td>0</td><td>specialization</td><td>1, 2</td><td><span style=\"font-size:20px;\"><a class=\"ProveItLink\" href=\"../ae89fd7e4aa536b495cb27693ab3cd97f8cd66230/expr.ipynb\"><img src=\"data:image/png;base64,iVBORw0KGgoAAAANSUhEUgAAAFMAAAAVBAMAAADInc9CAAAAMFBMVEX///9ERETc3NyqqqpUVFS6\n",
       "urrMzMwyMjIQEBCIiIh2dnYiIiLu7u5mZmaYmJgAAABJJ2g3AAAAAXRSTlMAQObYZgAAAStJREFU\n",
       "KM9jYGDgu8dACLCtUgBRPLsYCAO2ZhDJ+QHM0cSu5sl/FxfxAAaG6yAOVwNYLBeHeY0MDLxfGRhW\n",
       "EFbK9hOIv+BSyo7M4/wE9PcvXEpnAjGjApTDCJTl7sGhlK0ASDAVQHn8DgxMhQegSnkLUJVmdO8G\n",
       "gu8HILx8z5m3HwDp92CpABSlnDVgirUUwp2vwMCzBeSBCwwMKW0MyEp5GqFaNBzAlARIOchYcSAR\n",
       "kYBi6pELYIqpEsL9ArJ8AdBrQMzAguZW691gAAkCtn9Awt8A6lauDahKmUE282xCBCvTdwZc4XoZ\n",
       "ZFUAIlgzapCV3t69e8fu3Rsh0seBWBHC5JX/4uJex4BmKlK0A/EZ9LSAXSlWAFbKR5RScHrl2UlM\n",
       "LmgFU3yLictbAA1xVjACiBk2AAAAAElFTkSuQmCC\n",
       "\" style=\"display:inline;vertical-align:middle;\" /></a> <a class=\"ProveItLink\" href=\"proof.ipynb\" style=\"text-decoration: none\">&#x22A2;&nbsp;</a><a class=\"ProveItLink\" href=\"../835b1d39462fab0430f60668935b15097d0255760/expr.ipynb\"><img src=\"data:image/png;base64,iVBORw0KGgoAAAANSUhEUgAAAEAAAAAPBAMAAACmSdRUAAAAMFBMVEX///+qqqru7u4iIiJ2dnbc\n",
       "3NyIiIjMzMxmZmYQEBC6uroyMjJERERUVFSYmJgAAADLUcuvAAAAAXRSTlMAQObYZgAAALhJREFU\n",
       "GNNjYGB4+//u3dMLGLCAMCg9h4GB4xc2BRUQiv0bEP+FizJhKGD7ysDA9wUuyq2AroBnAgMD8yS4\n",
       "KNcFdAX8FxhY9yC0MbihK6i/ltb8AMxqNgYB+wY0BfkBDEy2yI6XXoCq4CRI0QMkBUw7F6AoAPnw\n",
       "vQOSgmonFBPY/wGJ+wIINxgfQnUDKBhYfyMZIIvmC1AwVG5CyLNuQFXAcf7v3dv7kAzgCWCA+dnS\n",
       "2NgGM4bYUbkAa+cxxpnXojYAAAAASUVORK5CYII=\n",
       "\" style=\"display:inline;vertical-align:middle;\" /></a></span></td></tr>\n",
       "<tr><td>&nbsp;</td><td colspan=4 style=\"text-align:left\"><span style=\"font-size:20px;\"><a class=\"ProveItLink\" href=\"../../../../../__pv_it/2cbe72a7ad6f655694dd697106680215e8489b600/expr.ipynb\"><img src=\"data:image/png;base64,iVBORw0KGgoAAAANSUhEUgAAAA8AAAAOBAMAAAACpFvcAAAALVBMVEX///8QEBBERERUVFS6urqI\n",
       "iIhmZmaqqqrc3Nzu7u6YmJgyMjIiIiLMzMwAAADtIaYWAAAAAXRSTlMAQObYZgAAAFtJREFUCNdj\n",
       "YACBOwxQsA9Kc52bAGG05zVAGAFxDmCaZULdAjBjCsO9ADDDgaEvAUTzGhvbKYCVMDAwbgAxChgY\n",
       "eASANAeQwf0AyJgNxEwvGRia5HYwcOm9TgAA6BoR3jrzwFcAAAAASUVORK5CYII=\n",
       "\" style=\"display:inline;vertical-align:middle;\" /></a> : <a class=\"ProveItLink\" href=\"../../../__pv_it/8f1f7fac882de28c72b62ab80a1700b6d8fd066b0/expr.ipynb\"><img src=\"data:image/png;base64,iVBORw0KGgoAAAANSUhEUgAAAA4AAAAOBAMAAADtZjDiAAAAG1BMVEX///9EREQQEBAiIiJmZmbM\n",
       "zMyIiIjc3NwAAACryk5kAAAAAXRSTlMAQObYZgAAABlJREFUCNdjYGBgKGOAgBBa0s7GxkbGxoYA\n",
       "FMUF2aBfHgoAAAAASUVORK5CYII=\n",
       "\" style=\"display:inline;vertical-align:middle;\" /></a>, <a class=\"ProveItLink\" href=\"../../../../../__pv_it/077b2ff79244fb4582cbe22c6e3356fa92a52f2f0/expr.ipynb\"><img src=\"data:image/png;base64,iVBORw0KGgoAAAANSUhEUgAAABAAAAAOBAMAAADUAYG5AAAAMFBMVEX///+qqqru7u4iIiJ2dnbc\n",
       "3NyIiIjMzMxmZmYQEBC6uroyMjJERERUVFSYmJgAAADLUcuvAAAAAXRSTlMAQObYZgAAAGpJREFU\n",
       "CNdjYGB4+//u3dMLGIBgDgMDxy8gzf4NiP8CGWxfGRj4vgAZPBMYGJgnARn8FxhY9ygAGfXX0pof\n",
       "gDTlBzAw2YIYJ0EckBBI53sHoBH/gIz7AhBjWH9DjancBLTl/N+7t/cxMAAA3u4f/5xagjYAAAAA\n",
       "SUVORK5CYII=\n",
       "\" style=\"display:inline;vertical-align:middle;\" /></a> : <a class=\"ProveItLink\" href=\"../../../../../__pv_it/077b2ff79244fb4582cbe22c6e3356fa92a52f2f0/expr.ipynb\"><img src=\"data:image/png;base64,iVBORw0KGgoAAAANSUhEUgAAABAAAAAOBAMAAADUAYG5AAAAMFBMVEX///+qqqru7u4iIiJ2dnbc\n",
       "3NyIiIjMzMxmZmYQEBC6uroyMjJERERUVFSYmJgAAADLUcuvAAAAAXRSTlMAQObYZgAAAGpJREFU\n",
       "CNdjYGB4+//u3dMLGIBgDgMDxy8gzf4NiP8CGWxfGRj4vgAZPBMYGJgnARn8FxhY9ygAGfXX0pof\n",
       "gDTlBzAw2YIYJ0EckBBI53sHoBH/gIz7AhBjWH9DjancBLTl/N+7t/cxMAAA3u4f/5xagjYAAAAA\n",
       "SUVORK5CYII=\n",
       "\" style=\"display:inline;vertical-align:middle;\" /></a></span></td></tr><tr><td>1</td><td>theorem</td><td></td><td><span style=\"font-size:20px;\"> <a class=\"ProveItLink\" href=\"../../_proofs_/iffImpliesLeft.ipynb\" style=\"text-decoration: none\">&#x22A2;&nbsp;</a><a class=\"ProveItLink\" href=\"../daee5f8cd64120ac6a4f032996a3d425891831ae0/expr.ipynb\"><img src=\"data:image/png;base64,iVBORw0KGgoAAAANSUhEUgAAAMIAAAAXBAMAAACrPI2eAAAAMFBMVEX///8QEBC6urrMzMxUVFRm\n",
       "ZmZERETc3NwyMjKqqqp2dnaIiIiYmJgiIiLu7u4AAAAU9Wx4AAAAAXRSTlMAQObYZgAAAuxJREFU\n",
       "SMe1VT9ME1EY/9Gjd9hej246ISZumtDBqIkxvWhTTBxoIlcnA8ZQ4iIdDGgMUlyqi3RQwyYORoyG\n",
       "1ESnDpwb6gAOLAqhMZqwgET+K1a/9+4e92hK0KIvee+++77vfb/v7x3w31dxF3cP7aihNwITjHhX\n",
       "FYBikomWpVj8VmX5SdrngKeMvlsVQh2Lv6YdaGusKB9gOkA3PbT2qhAK7IjmaZuCZcgZmiEP9CHu\n",
       "iD9XFUIDO0bTwPjQlrDcdb2NREYY+pOent6qAHwZdl6k/X7Trs/05PlRlrzLwEoq9aEqBD/3fAm4\n",
       "dsVjPvMcKD606fEYOA10claWnw+WrXiEa2xGnvYM7OmyWi8JPjOgLBVeTfHXC9NszSSE6ideIgwC\n",
       "B2HwcPVvTn3CCIYZoQrVcblTXgMvXLKG8YOrwJyUGgwK7Ub0MbQDQAhB5gy+bDixm/CtyghGmy0Z\n",
       "aAWa3JjqmS2VvAluSApGvwOhxGItrEWjJLdDvFAjk1wSysM/ISME5sgVw4TC0/6R0gEJoZ5N3XcJ\n",
       "4fiIWwYKMuMgGJkjHDOf4pKvEYylZYQTKrnip9I0Mw8XoWdFlliPRynA2nWvDtOi6iQMhZ0sofMU\n",
       "49S6vjUVXjpKAsFkIT1KpVL9BOz7UYiL1lRtdxz6Ml4I99ynRgh1C0SM0b7Pk/IGo1w0TNUsSgh6\n",
       "LriAo8xd42wRgQz0BpG+hDMOyj5vzDQBNssslJxuRQ1rKmPS6uKKHZSonIQwZyVLSBbdNlETMNZF\n",
       "w5NnyV+x2G2pE1S3C7r3Z6F3rZEP7Kuos+v+NKJ8DOh+U0RCOA9lEVqHZVlJ8qQ+B9+iMLe3wue2\n",
       "nGGEBXWYbttaFloJ2qRUBx85SM04e3N+/jm99hXRuzlTb/9g8AN5l/i8Aq1lStnA8LJ1JuchGNTT\n",
       "V3/aUBKsYREYsFrvoNJnbrs1W/5Lkmh1iyQCI11+WzN3Rmguez+2LULFdWNHjWCkjGH/HcIuV+0/\n",
       "svMbyLm8JRIE9oYAAAAASUVORK5CYII=\n",
       "\" style=\"display:inline;vertical-align:middle;\" /></a></span></td></tr>\n",
       "<tr><td>&nbsp;</td><td colspan=4 style-\"text-align:left\"><a class=\"ProveItLink\" href=\"../../_proofs_/iffImpliesLeft.ipynb\">proveit.logic.boolean.implication.iffImpliesLeft</a></td></tr><tr><td>2</td><td>assumption</td><td></td><td><span style=\"font-size:20px;\"><a class=\"ProveItLink\" href=\"../ae89fd7e4aa536b495cb27693ab3cd97f8cd66230/expr.ipynb\"><img src=\"data:image/png;base64,iVBORw0KGgoAAAANSUhEUgAAAFMAAAAVBAMAAADInc9CAAAAMFBMVEX///9ERETc3NyqqqpUVFS6\n",
       "urrMzMwyMjIQEBCIiIh2dnYiIiLu7u5mZmaYmJgAAABJJ2g3AAAAAXRSTlMAQObYZgAAAStJREFU\n",
       "KM9jYGDgu8dACLCtUgBRPLsYCAO2ZhDJ+QHM0cSu5sl/FxfxAAaG6yAOVwNYLBeHeY0MDLxfGRhW\n",
       "EFbK9hOIv+BSyo7M4/wE9PcvXEpnAjGjApTDCJTl7sGhlK0ASDAVQHn8DgxMhQegSnkLUJVmdO8G\n",
       "gu8HILx8z5m3HwDp92CpABSlnDVgirUUwp2vwMCzBeSBCwwMKW0MyEp5GqFaNBzAlARIOchYcSAR\n",
       "kYBi6pELYIqpEsL9ArJ8AdBrQMzAguZW691gAAkCtn9Awt8A6lauDahKmUE282xCBCvTdwZc4XoZ\n",
       "ZFUAIlgzapCV3t69e8fu3Rsh0seBWBHC5JX/4uJex4BmKlK0A/EZ9LSAXSlWAFbKR5RScHrl2UlM\n",
       "LmgFU3yLictbAA1xVjACiBk2AAAAAElFTkSuQmCC\n",
       "\" style=\"display:inline;vertical-align:middle;\" /></a> <a class=\"ProveItLink\" href=\"../52017a1c1b3b540375f1a0fe3829a76fdb1b76fd0/proof.ipynb\" style=\"text-decoration: none\">&#x22A2;&nbsp;</a><a class=\"ProveItLink\" href=\"../c4acb0f010fe4368ae11d402d6ed8461e28a5c840/expr.ipynb\"><img src=\"data:image/png;base64,iVBORw0KGgoAAAANSUhEUgAAAEAAAAAPBAMAAACmSdRUAAAAMFBMVEX///92dnaYmJiqqqpUVFS6\n",
       "urru7u4yMjJEREQQEBAiIiJmZmbMzMyIiIjc3NwAAACFNIopAAAAAXRSTlMAQObYZgAAANJJREFU\n",
       "GNNjYGBgeMuAFaj8d3FpDwCxTmNXwDCDgYH7Kx4FPH+B+AuqAnZkHu8/Bgamj6gK7gIxxwMoh2MC\n",
       "AwPXNBQFPAVAgq8AyuN3YOCrSEBRcHLWKiD4ngDhnfe9u0uBAVkBbxmYYi2FcO8/YGBbgqyAbQZU\n",
       "4UsHMNUJUqSAbELKBjDFVwvhgnyoL4DiBqtVYADxBs8nIOFvgKKAGWQ22zpEMPB9Z0ANh81AzBKA\n",
       "CIaTQGfvWrVq5apVKyCC6UD8AsLk7v/i4l6EEfxAnIYqBABzzD/ECDea6AAAAABJRU5ErkJggg==\n",
       "\" style=\"display:inline;vertical-align:middle;\" /></a></span></td></tr>\n",
       "</table>"
      ],
      "text/plain": [
       "<proveit._core_.proof._ShowProof at 0x7f94ebe1af28>"
      ]
     },
     "execution_count": 1,
     "metadata": {},
     "output_type": "execute_result"
    }
   ],
   "source": [
    "import proveit\n",
    "%show_proof"
   ]
  },
  {
   "cell_type": "code",
   "execution_count": null,
   "metadata": {},
   "outputs": [],
   "source": []
  }
 ],
 "metadata": {
  "kernelspec": {
   "display_name": "Python 3",
   "language": "python",
   "name": "python3"
  }
 },
 "nbformat": 4,
 "nbformat_minor": 0
}
