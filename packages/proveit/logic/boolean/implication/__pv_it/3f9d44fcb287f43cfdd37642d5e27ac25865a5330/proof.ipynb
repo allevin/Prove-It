{
 "cells": [
  {
   "cell_type": "markdown",
   "metadata": {},
   "source": [
    "Show the Proof\n",
    "========"
   ]
  },
  {
   "cell_type": "code",
   "execution_count": 1,
   "metadata": {},
   "outputs": [
    {
     "data": {
      "text/html": [
       "<table><tr><th>&nbsp;</th><th>step type</th><th>requirements</th><th>statement</th></tr>\n",
       "<tr><td>0</td><td>specialization</td><td>1, 2, 3</td><td><span style=\"font-size:20px;\"><a class=\"ProveItLink\" href=\"../3cb880fa5ebc88af74a65033e56f3de2fd3af2330/expr.ipynb\"><img src=\"data:image/png;base64,iVBORw0KGgoAAAANSUhEUgAAAJUAAAAVBAMAAAC9PLGkAAAAMFBMVEX///9ERETc3NyqqqpUVFS6\n",
       "urrMzMwyMjIQEBCIiIh2dnYiIiLu7u5mZmaYmJgAAABJJ2g3AAAAAXRSTlMAQObYZgAAAe9JREFU\n",
       "OMtjYGDgu8dAMWBbpQCieHYxUAGwNYNIzg9QbjY2NU/+u7iIB2DjQMDyj/UVGw2AjOsgHlcDVLge\n",
       "q4WNDAy8X7FyIEAgkqdmFZBegWwW3/4DcAU8CLf/BOIv2DhwsximsqObpXxfAa6AHW4s5yegLb8w\n",
       "OSerd2+HmWXHcgDNrAnzESHB6gBjMQJluXswOGx1B5DcpYjmLtYD9g8QLl8JY/A7MDAVHsDgKB5A\n",
       "+JFtnwzMLN4CsNhRhvwJIPr2bhDYfwGqNN9z5m24HQiOECK8ovf/AGl8D+JkQLwWwKB/ASlIzaEe\n",
       "nq/AwLMFJgjn8Aggh/1MQ1AQA3WntEGiyMXFXwDJLJ4KiGESICNgDoNzWLuBboeHPSPrAiBDHCgR\n",
       "kQAOLgYGjgIks9LXQGhQCni/gAGNw+aA7C5GBqAruEHiLGAjgEmXuwERXrtloCnqH5DwN0Dn8GzA\n",
       "MAscXlwgcSagCvYPCGeZIKUopu8MDAeQOUDgh2IWyI+INHEclHr+wBUwFSClqIwaBp7fSBwQOB2A\n",
       "ZNbbicjpS7G/iIFP/js8IhmhWYBX/ouLex3QT/0KCA7YstoEeN6WbjFAz0MoJQi6AKsCmgCzOzQe\n",
       "YQCnWRiAj6AKsFl81DELXH7x7CTCrAkEy9VWiJ2LqVTeAwBL55sgRhhysQAAAABJRU5ErkJggg==\n",
       "\" style=\"display:inline;vertical-align:middle;\" /></a> <a class=\"ProveItLink\" href=\"proof.ipynb\" style=\"text-decoration: none\">&#x22A2;&nbsp;</a><a class=\"ProveItLink\" href=\"../6bdc859e6bbc7b507d219ae9a36292e13338085c0/expr.ipynb\"><img src=\"data:image/png;base64,iVBORw0KGgoAAAANSUhEUgAAAHsAAAAVBAMAAACUF4xmAAAAMFBMVEX///92dnYQEBBERERUVFS6\n",
       "urqIiIhmZmaqqqrc3Nzu7u6YmJgyMjIiIiLMzMwAAACFkkdwAAAAAXRSTlMAQObYZgAAAZhJREFU\n",
       "OMu1Uz1LA0EQfYma75yptA1IQGwUO1FIisNKyBWWCqksTfwBYv6BAS0sBINgl0JBa0/EQi0stBWD\n",
       "2EoiJIoa0N2bveyge3Y+eDeP3X27czO7wH9hqGSSCieKHp5N9iejPP6y7TkH0SY8ergx2a+MEmPC\n",
       "1wVcEAWSD3U97cuITphJWK+CHeAIRIGdjdrvk8J6SyYReRfHvQD7IAqUyo6eX1RxSQ8xiYEskJ4Q\n",
       "sUoUda1vHur5kMp0TQ8xieEC4ucim1CFCByg5Vmi9x7eaN21tjCJ1vzKujws5hIBB3sVtiB24YWc\n",
       "v1+GS5RrSNzJlLNEWLZdnOIda+Tkt+uXusAlpkUsi+OtNhFDorQuc1tn9T/somc4zTC7KF86y/79\n",
       "lto0rj1MWp8iFqs6+bjQqTb79QLFWe1hUrY93pNXzSU2ZDM/tH1XxVF/oMmlbPujvFmqcVuTl0jm\n",
       "e7r0Myou6x21jOY79oLXx5RD/An/GYX1RWayD3ZpjUhmTLKPEcVABDxYQsIlBmPbKBUGa8RgxEsm\n",
       "qbBK/AaZC3rii2eiKwAAAABJRU5ErkJggg==\n",
       "\" style=\"display:inline;vertical-align:middle;\" /></a></span></td></tr>\n",
       "<tr><td>&nbsp;</td><td colspan=4 style=\"text-align:left\"><span style=\"font-size:20px;\"><a class=\"ProveItLink\" href=\"../../../../../__pv_it/2cbe72a7ad6f655694dd697106680215e8489b600/expr.ipynb\"><img src=\"data:image/png;base64,iVBORw0KGgoAAAANSUhEUgAAAA8AAAAOBAMAAAACpFvcAAAALVBMVEX///8QEBBERERUVFS6urqI\n",
       "iIhmZmaqqqrc3Nzu7u6YmJgyMjIiIiLMzMwAAADtIaYWAAAAAXRSTlMAQObYZgAAAFtJREFUCNdj\n",
       "YACBOwxQsA9Kc52bAGG05zVAGAFxDmCaZULdAjBjCsO9ADDDgaEvAUTzGhvbKYCVMDAwbgAxChgY\n",
       "eASANAeQwf0AyJgNxEwvGRia5HYwcOm9TgAA6BoR3jrzwFcAAAAASUVORK5CYII=\n",
       "\" style=\"display:inline;vertical-align:middle;\" /></a> : <a class=\"ProveItLink\" href=\"../../../../../__pv_it/2cbe72a7ad6f655694dd697106680215e8489b600/expr.ipynb\"><img src=\"data:image/png;base64,iVBORw0KGgoAAAANSUhEUgAAAA8AAAAOBAMAAAACpFvcAAAALVBMVEX///8QEBBERERUVFS6urqI\n",
       "iIhmZmaqqqrc3Nzu7u6YmJgyMjIiIiLMzMwAAADtIaYWAAAAAXRSTlMAQObYZgAAAFtJREFUCNdj\n",
       "YACBOwxQsA9Kc52bAGG05zVAGAFxDmCaZULdAjBjCsO9ADDDgaEvAUTzGhvbKYCVMDAwbgAxChgY\n",
       "eASANAeQwf0AyJgNxEwvGRia5HYwcOm9TgAA6BoR3jrzwFcAAAAASUVORK5CYII=\n",
       "\" style=\"display:inline;vertical-align:middle;\" /></a>, <a class=\"ProveItLink\" href=\"../../../../../__pv_it/077b2ff79244fb4582cbe22c6e3356fa92a52f2f0/expr.ipynb\"><img src=\"data:image/png;base64,iVBORw0KGgoAAAANSUhEUgAAABAAAAAOBAMAAADUAYG5AAAAMFBMVEX///+qqqru7u4iIiJ2dnbc\n",
       "3NyIiIjMzMxmZmYQEBC6uroyMjJERERUVFSYmJgAAADLUcuvAAAAAXRSTlMAQObYZgAAAGpJREFU\n",
       "CNdjYGB4+//u3dMLGIBgDgMDxy8gzf4NiP8CGWxfGRj4vgAZPBMYGJgnARn8FxhY9ygAGfXX0pof\n",
       "gDTlBzAw2YIYJ0EckBBI53sHoBH/gIz7AhBjWH9DjancBLTl/N+7t/cxMAAA3u4f/5xagjYAAAAA\n",
       "SUVORK5CYII=\n",
       "\" style=\"display:inline;vertical-align:middle;\" /></a> : <a class=\"ProveItLink\" href=\"../../../../../__pv_it/077b2ff79244fb4582cbe22c6e3356fa92a52f2f0/expr.ipynb\"><img src=\"data:image/png;base64,iVBORw0KGgoAAAANSUhEUgAAABAAAAAOBAMAAADUAYG5AAAAMFBMVEX///+qqqru7u4iIiJ2dnbc\n",
       "3NyIiIjMzMxmZmYQEBC6uroyMjJERERUVFSYmJgAAADLUcuvAAAAAXRSTlMAQObYZgAAAGpJREFU\n",
       "CNdjYGB4+//u3dMLGIBgDgMDxy8gzf4NiP8CGWxfGRj4vgAZPBMYGJgnARn8FxhY9ygAGfXX0pof\n",
       "gDTlBzAw2YIYJ0EckBBI53sHoBH/gIz7AhBjWH9DjancBLTl/N+7t/cxMAAA3u4f/5xagjYAAAAA\n",
       "SUVORK5CYII=\n",
       "\" style=\"display:inline;vertical-align:middle;\" /></a></span></td></tr><tr><td>1</td><td>theorem</td><td></td><td><span style=\"font-size:20px;\"> <a class=\"ProveItLink\" href=\"../../_proofs_/doubleNegateConsequent.ipynb\" style=\"text-decoration: none\">&#x22A2;&nbsp;</a><a class=\"ProveItLink\" href=\"../5767d1c0ef1182a54aeee5a2e750e25bc67669310/expr.ipynb\"><img src=\"data:image/png;base64,iVBORw0KGgoAAAANSUhEUgAAASUAAAAXBAMAAAC/jERWAAAAMFBMVEX///8QEBC6urrMzMxUVFRm\n",
       "ZmZERETc3NwyMjKqqqp2dnaIiIiYmJgiIiLu7u4AAAAU9Wx4AAAAAXRSTlMAQObYZgAAA5tJREFU\n",
       "SMfNV01oE0EU/pLtJm2yWYOC4EEt4kFQaQTBg0iDxh/w0ILdCuK/dCsoJofiD6INghaL2FwUPJmL\n",
       "WhEkop56aBQFfw56sD34g6uoiNoq9ldbqzOzm8zLpg09BOqDt/O679uZb9578zIF/kOxyjudNzMt\n",
       "XzHsPtHn/MXTsnFaaQ9rSvhc5oO/sdj+aqgR5PU6f3++bJycmTpK+NwLzmVEfgJJ5PUwG/y7y0Up\n",
       "aOdEe2sVV0cw44YJUcaYDgJPkNdK9omaKhcnj03g2K5EcUw8lhtm8xthe/gNvENetWtHjpwoW+qW\n",
       "2EOmu1q+W1zoc5nwhYHQAjampA6b5suycdpmnyrrcla+C2Soz21iVhT+MyxugXqp64Bm4WwTz4tD\n",
       "xoaIsHJbrSR5qIobDftcOCrnxPM9agUP9Y2QIepzm6jd3LWD76AqKXUx9KSoy592eYYRDAsrV/jP\n",
       "SB5wD7jlwmnt7adzYZnt7Ka1nnxTdSrns0mmqYnuBPQXPLhhqSEExYwfx8WXahTeEcpJ30XygAag\n",
       "JkFwX43tyKS/LnLcYl9KLFZXcJI/z877uDtKTexhYzdbQvkhNZgNiVNws0fAQhmozymnQJ+950vi\n",
       "+QrYQXDBvSf7GafAN8rJyw5WklBS2q0SnAZ5KtKFnPSkaKpKxhSw7xE8SlBOq3224eNv9QFobQT3\n",
       "UJyy9NKdziLz+IMdnFCY1FOvJX02EWIqPD11qcLcoXktd1c4+6/punMIlFOUhaPRNM39c3gIxro2\n",
       "WAQnwpEx5ufSe5B3YLZA5Q9STlHpc4gQk7cn/ygvy6RUXBCpeoxuAetkdWwRTloq6MyvbmGJTEJb\n",
       "IHFK2o6TutpZ5AqvHh7UCcnpKPEJiVCTt6cVvK3SXgAPP7d6jxEXVJpYWlKEU5/R6MyvNCXgq4f+\n",
       "C3mc0muaB3g9BZw1lrMfq4Vt0OKj8uA1Sx+KTDU+GNskWkNltVRonIuaQK1oN2zFmgjhtBXKAO4a\n",
       "TNbzBpeCdwB5nB6145Tn5EkU99FIsW8yGPltcWQZWy/rb4N/Av4eUk9eVinj6GfyhYez1cKJekjc\n",
       "Rid3x51ptPTUPZ74JoPdICrkwzD8da/ZGegcMjalJCedNZqWP9nclSfQYTScBSTuU7XomWZ2skvI\n",
       "NO8qThtMSi3cCv3DdYE5OSnuKqsnKi0lOLWUglUkpBbIqhKcpsQViL/E3Zf4imG3iRZIdpqcsjP1\n",
       "30N0phb+B8aXLJccXCjCAAAAAElFTkSuQmCC\n",
       "\" style=\"display:inline;vertical-align:middle;\" /></a></span></td></tr>\n",
       "<tr><td>&nbsp;</td><td colspan=4 style-\"text-align:left\"><a class=\"ProveItLink\" href=\"../../_proofs_/doubleNegateConsequent.ipynb\">proveit.logic.boolean.implication.doubleNegateConsequent</a></td></tr><tr><td>2</td><td>assumption</td><td></td><td><span style=\"font-size:20px;\"><a class=\"ProveItLink\" href=\"../deaa9f16f2ea28509310ff5af5f09de65424d75e0/expr.ipynb\"><img src=\"data:image/png;base64,iVBORw0KGgoAAAANSUhEUgAAAFMAAAAVBAMAAADInc9CAAAAMFBMVEX///9ERETc3NyqqqpUVFS6\n",
       "urrMzMwyMjIQEBCIiIh2dnYiIiLu7u5mZmaYmJgAAABJJ2g3AAAAAXRSTlMAQObYZgAAAU9JREFU\n",
       "KM9jYGDgu8dACLCtUgBRPLsYCAO2ZhDJ+QHK24BFCZ//FxfHUiDjOojH1QARZf+AzTgOAQaG+wEM\n",
       "DCuQlb7+g1DAA2flTwBiB1SlTLafEErZD8BY84H+eb8AVSkn51eEUlYHGEsCiHccQFUaw/wPyYkr\n",
       "YYwvDAzqMgxQpbwFYNcFsP0Ey93eDQL7L0CD5cvMuftAjPcgIiMAbCUD019kn5sHQJwF9MBpkGvY\n",
       "gXpT2sBiKS4uH5GV8lSA1TICXccJdpn4AwaGiAQQCyjRjqw0fQ2Y4geayPcLyOAGhgIDC8itzCCP\n",
       "Irl1tww0WIFmsXyGuZULFKHKQFyPZKgJUrDqFzAgBRYPiCcPD3cGpgJEsLK1H0BSyiTxXYHh4f9a\n",
       "uFJGBQh98b+LS/kDBga0NICS5jBEcCplwK6Ujyil4PTKs5OYXNAKSemLictbAOAEWqBdr+e5AAAA\n",
       "AElFTkSuQmCC\n",
       "\" style=\"display:inline;vertical-align:middle;\" /></a> <a class=\"ProveItLink\" href=\"../515c80721e69293987ae4b168fefe99455c3d6f60/proof.ipynb\" style=\"text-decoration: none\">&#x22A2;&nbsp;</a><a class=\"ProveItLink\" href=\"../48bda0a4ca92dc8bbf3ec9809bdb1d7b90d71c610/expr.ipynb\"><img src=\"data:image/png;base64,iVBORw0KGgoAAAANSUhEUgAAAEAAAAAPBAMAAACmSdRUAAAAMFBMVEX///92dnYQEBBERERUVFS6\n",
       "urqIiIhmZmaqqqrc3Nzu7u6YmJgyMjIiIiLMzMwAAACFkkdwAAAAAXRSTlMAQObYZgAAAOhJREFU\n",
       "GNNjYACBtwxYwJb/Li42ARD2eWwKGJQZGNi/glnc9xcghOFMvm9A/AXMnFE/AaHgFIzB9hOo9SOY\n",
       "mZAfgFAQAmMwKzAw8GqBWKwL+jcgFDAmQBn8Dgych8EWLmV4DxZkvwsG36EK3rul1UI0BjDML0By\n",
       "PMdRCJ0/gYHrCti1Li7+BsjeW6MKpoxAikBGsDIwMB1Akuc7CPEpyIf7BYBEA9CxCkhuuAyR5/sN\n",
       "JPyBkpxAzPMByQkOiGDg/AOyEeTlXwgFc5CC4REw1Cbrn2Tgtv+D8IYlhGK3/+LicxpbFD1A5QIA\n",
       "YgVCLvPPxacAAAAASUVORK5CYII=\n",
       "\" style=\"display:inline;vertical-align:middle;\" /></a></span></td></tr>\n",
       "<tr><td>3</td><td>assumption</td><td></td><td><span style=\"font-size:20px;\"><a class=\"ProveItLink\" href=\"../914e2e75adaf19a4938e0413a1a8fbb4767549080/expr.ipynb\"><img src=\"data:image/png;base64,iVBORw0KGgoAAAANSUhEUgAAAEsAAAAVBAMAAAD85A5eAAAAMFBMVEX////c3NxERESqqqpUVFS6\n",
       "urrMzMwyMjIQEBCIiIh2dnYiIiLu7u5mZmaYmJgAAABXZE4RAAAAAXRSTlMAQObYZgAAAUJJREFU\n",
       "KM9jYGDgu8eAD7CtEgBRPLsY8AO2ZhDJ+QFEPvnv4qIegCK9/FN9xSYDIOM6iMfVABZsYmDg/Ypq\n",
       "jEIkT80qIL0CoYztJxB/QVfGMJUdVRnnR6BffoFlT1bv3g5TZsdyAEUZE5Dk7gGbW3cAyTQhVNP4\n",
       "HRgYi8DyQgcQlrLt04Ep4y0AkfmeM28/AEsqItwWvf/HBCD9HsTJAAfDfAEGni3gYFRA9sJMIyDN\n",
       "foGBIaUNLKQBUgoyjrV7926EF5hYFwAZ6kCJiASQECgs3oOE2ByQTWNiABrODRJnAbmN7R+Q8AcF\n",
       "Oc8GDGVgt3FtgAYb43ewpB+KMpCliAABBVtGDVjydACSsreTkMONV/+Li3sdRJKxNgEe9dotBqjB\n",
       "iwSY3aE+hQHsyjAAWBkfQWXg9Mazk1DqbQVTfIsJ5wUARE9btOyT4dIAAAAASUVORK5CYII=\n",
       "\" style=\"display:inline;vertical-align:middle;\" /></a> <a class=\"ProveItLink\" href=\"../c8fb2ead5ce9bf67050d1f45aa1e107c886568230/proof.ipynb\" style=\"text-decoration: none\">&#x22A2;&nbsp;</a><a class=\"ProveItLink\" href=\"../41a86ef0ff9417c73c472e1bdfa161b308e2753e0/expr.ipynb\"><img src=\"data:image/png;base64,iVBORw0KGgoAAAANSUhEUgAAADcAAAAPBAMAAACy3Eq1AAAAMFBMVEX///+qqqru7u4iIiJ2dnbc\n",
       "3NyIiIjMzMxmZmYQEBC6uroyMjJERERUVFSYmJgAAADLUcuvAAAAAXRSTlMAQObYZgAAAOZJREFU\n",
       "GNNjYGB4+//u3dMLGJCB95/9O20EwMw5DAwcv1AkGQ4sY9rkAmKwfwPiv+iSDFncIAbbVwYGvi9g\n",
       "MbXNxtYwSTleBSCDZwIDA/MksBn7FJB0xoAY/BcYWPeARWMUEMay2x0CMeqvpTU/AAsdRdi52P5n\n",
       "AoiRH8DAZAtiMB1AdlCaDIhxEqQApJVrsrExwkE8XA5ABsgX70EM9gvIOnkYgAax/wNy7oOCg8kA\n",
       "QxLkTdbfYKF7KJIgY0HerNwEFlJegCT5IgcYquf/3r29DyLEuqMAHvCH5wqghigD422oayEAAEv1\n",
       "Sz0foy5uAAAAAElFTkSuQmCC\n",
       "\" style=\"display:inline;vertical-align:middle;\" /></a></span></td></tr>\n",
       "</table>"
      ],
      "text/plain": [
       "<proveit._core_.proof._ShowProof at 0x7f94eb593d30>"
      ]
     },
     "execution_count": 1,
     "metadata": {},
     "output_type": "execute_result"
    }
   ],
   "source": [
    "import proveit\n",
    "%show_proof"
   ]
  },
  {
   "cell_type": "code",
   "execution_count": null,
   "metadata": {},
   "outputs": [],
   "source": []
  }
 ],
 "metadata": {
  "kernelspec": {
   "display_name": "Python 3",
   "language": "python",
   "name": "python3"
  }
 },
 "nbformat": 4,
 "nbformat_minor": 0
}
