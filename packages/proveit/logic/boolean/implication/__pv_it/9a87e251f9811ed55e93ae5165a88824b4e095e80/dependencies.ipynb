{
 "cells": [
  {
   "cell_type": "markdown",
   "metadata": {},
   "source": [
    "Axiom Dependencies\n",
    "=======================\n",
    "\n",
    "## <a class=\"ProveItLink\" href=\"../../_context_.ipynb\">proveit.logic.boolean.implication</a>.<a class=\"ProveItLink\" href=\"../../_axioms_.ipynb#untrueAntecedentImplication\">untrueAntecedentImplication</a> \n"
   ]
  },
  {
   "cell_type": "code",
   "execution_count": 1,
   "metadata": {},
   "outputs": [],
   "source": [
    "from proveit.logic.boolean.implication._axioms_ import untrueAntecedentImplication"
   ]
  },
  {
   "cell_type": "code",
   "execution_count": 2,
   "metadata": {},
   "outputs": [
    {
     "data": {
      "text/html": [
       "<h3>Theorems that depend directly on untrueAntecedentImplication</h3>"
      ],
      "text/plain": [
       "<IPython.core.display.HTML object>"
      ]
     },
     "metadata": {},
     "output_type": "display_data"
    },
    {
     "data": {
      "text/html": [
       "<dl>"
      ],
      "text/plain": [
       "<IPython.core.display.HTML object>"
      ]
     },
     "metadata": {},
     "output_type": "display_data"
    },
    {
     "data": {
      "text/html": [
       "<dt><a class=\"ProveItLink\" href=\"../../_proofs_/falseAntecedentImplication.ipynb\">proveit.logic.boolean.implication.falseAntecedentImplication</a></dt><dd><a class=\"ProveItLink\" href=\"../8be317972ff0b2b1f99933ef964216bcfdb5f6b20/expr.ipynb\"><img src=\"data:image/png;base64,iVBORw0KGgoAAAANSUhEUgAAAK8AAAAXBAMAAACPJQJeAAAAMFBMVEX///8QEBC6urrMzMxUVFRm\n",
       "ZmZERETc3NwyMjKqqqp2dnaIiIiYmJgiIiLu7u4AAAAU9Wx4AAAAAXRSTlMAQObYZgAAAnVJREFU\n",
       "OMu1VT9oE2EU/6WX66XNH4OD4KIZHBwUTxCcJEGDFBzSJYtQrINXBzEZxOogPRwMiGgWXe2iVgQJ\n",
       "6NYhURz8M9jBOIhiKgpultK09Q/V996X613uUpqj+OC+78v73ff7vvfe712A/2Wt0DsGapu+8pye\n",
       "OV68CUN8SE1HemEv/ubzZzPQTeAh/74Zhrjz8q2e4A5AXwRs4CL9MsZD8MZVJhKfWz3yqf2mZwl4\n",
       "DcTIqVdDEEcUy+VT5UAQdOoKHfkLmKfpweTklTCZ2KumWj3j+vY4i8E0kNxFM1112bI+hCE+qaTR\n",
       "uttwfcOOULblYFyjkIZHgWPAhDgrMt5pF4+bsrWbr+Isbsj4BVkh0z+JtTtg9sTsGB84ZHMYKVuq\n",
       "saiKkkY8LVF18XZQsu0yZjA16oGHrqq5XkbqHd+KU4K4BPXtj0B6DgMrQeIOSiYnaPl8oUtK39V5\n",
       "p5mc6LQFKmQjKXV+3BQoWYM+FyTuoA4x5Slie2DtutIKKQ1vpxVxypZW0mqWQD9MvCwHiB2UbCcP\n",
       "VPRk2pPj94pX47gKVZUKTBxlXxRjgh2YfXoeAWIHJTvHHUV7YwueFOdcGRurXBIO57ZE/gp1wWaA\n",
       "Zy2X+L5lWbaLkt3jjDK+5hJf8sj4IHcLyw0R1k2qWSwJ3xnKRrX7xuMuSrafPgO7K0iUVl1ZKL1C\n",
       "Ly3lR0SOMe6eBG/Ry8iKfH9SNkw/8TrK9ygHm8b0O+bXV/uoaxpGBcYajCb8xII6ip7uoz0fOYuv\n",
       "yzAKH6moM+3iSNVHbCo08MXZ2FK2z5HwrAc32nVhc+KoP12H+yE2Nv9reuJ3NPoh3qpFt7b9Hycq\n",
       "oineXiTpAAAAAElFTkSuQmCC\n",
       "\" style=\"display:inline;vertical-align:middle;\" /></a></dd>"
      ],
      "text/plain": [
       "<IPython.core.display.HTML object>"
      ]
     },
     "metadata": {},
     "output_type": "display_data"
    },
    {
     "data": {
      "text/html": [
       "<dt><a class=\"ProveItLink\" href=\"../../_proofs_/negatedReflex.ipynb\">proveit.logic.boolean.implication.negatedReflex</a></dt><dd><a class=\"ProveItLink\" href=\"../09ba5ac32acc34f55c0fa248e2ddfca3f733fc910/expr.ipynb\"><img src=\"data:image/png;base64,iVBORw0KGgoAAAANSUhEUgAAANoAAAAXBAMAAACfRUyCAAAAMFBMVEX///8QEBC6urrMzMxUVFRm\n",
       "ZmZERETc3NwyMjKqqqp2dnaIiIiYmJgiIiLu7u4AAAAU9Wx4AAAAAXRSTlMAQObYZgAAAzhJREFU\n",
       "SMe9Vk1ME1EQ/mhpl7bbpYkHPSkmxosm9GAi0Zg2WtEbRCmeDDWGohdoogGNQaqX6kV6UIPxIBcV\n",
       "Y0JqIgfTAzVeEA/ggYuCNEYMMUGJ/IlWdObtbndZ21RT4kve2+mb2fnmfTPztsB/HdkN8rOrpIVc\n",
       "A4yz8KpsMHuQ3DUshuqvFtYfoHkceMTyjbLRqpijigjQUlNQ38s2QCc9pEjZaGleAimaQX1LMbM4\n",
       "TdHI/SIoR7JstK28DMeAsf51x9XGxRZSKT7ID7u6ussGs8V5PUXzdR7DFjT0qWEm+CywHI2+Kent\n",
       "XOHtPCcOcaJF4EK7oX1sBJO9l6HHfeAQ0Ca2EmK9vRSu9wsLk1dJOKuKGTuujnDTaezLs8bO7Ivp\n",
       "oUnx8+QUj+lGXf1epBR9wA4oggb5q5pPHzw+FpwmNFUeM5fbc+AJ3PpOBQueFWDORB/6dHUNehh5\n",
       "O+CFhwPDTE7lJAjbihXtrqixloxpqwmojalx0qhmv06K0pMz2ShXVDh7KNTAZR8gfcYrEjs4ITTe\n",
       "FBzjVjRBtXtOZeaOWN8SXyINBlo1d/h302t1g1ra6PBxFU2J7xH4qajQfPFjJGZFE9Tud6pt6WS1\n",
       "sgA5obUZM8n1EqCzV64aeZtqN4rJ61OZRNtB3qnkUGnUpp+2w4JmF4QF6czN0Wj0zCYO90e6PstJ\n",
       "1xKb0dqtJ268dlOvMUKrmidhhOYtQdxLDAvVABVA1kB7QO7jonPkpGdeK3e68NxxyNTRdZpDd6Pa\n",
       "bvYtRktLOvAse1tTOwAVXJzKRLhDGLYSmcn1Z4u4GG0u3LymHbU1BmcjlFUDzUYRN/8Kha6ZCsmp\n",
       "NUzntgTkjm8UD9/YMqM4YgiINiMXtX4Lmo0TdgL2BQyFaRzmikjCtgDs1G02F/gsWDcUny7tJgcZ\n",
       "KQFpDdKEJW8RhSK3UdQ5fKbxibnoyaKboh3VbUb/4npzpzThwzKkhkl7DgNL4aNJC5of76BQw5z/\n",
       "KXjiEnb3hpuu0/NYoSu42Ji1fl7/uD/U8cxsdNkk5ytQCpZGO2L5vbcI2sci77tSefFSSTCP37KR\n",
       "KYLmyhR2ULlhf4/WeXpR2GbwH33+BvwYy18VzUzqAAAAAElFTkSuQmCC\n",
       "\" style=\"display:inline;vertical-align:middle;\" /></a></dd>"
      ],
      "text/plain": [
       "<IPython.core.display.HTML object>"
      ]
     },
     "metadata": {},
     "output_type": "display_data"
    },
    {
     "data": {
      "text/html": [
       "</dl>"
      ],
      "text/plain": [
       "<IPython.core.display.HTML object>"
      ]
     },
     "metadata": {},
     "output_type": "display_data"
    }
   ],
   "source": [
    "%dependencies untrueAntecedentImplication"
   ]
  }
 ],
 "metadata": {
  "kernelspec": {
   "display_name": "Python 3",
   "language": "python",
   "name": "python3"
  }
 },
 "nbformat": 4,
 "nbformat_minor": 0
}
