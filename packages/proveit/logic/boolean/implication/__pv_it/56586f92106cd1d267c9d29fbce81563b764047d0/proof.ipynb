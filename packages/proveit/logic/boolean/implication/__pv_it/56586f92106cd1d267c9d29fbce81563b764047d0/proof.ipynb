{
 "cells": [
  {
   "cell_type": "markdown",
   "metadata": {},
   "source": [
    "Show the Proof\n",
    "========"
   ]
  },
  {
   "cell_type": "code",
   "execution_count": 1,
   "metadata": {},
   "outputs": [
    {
     "data": {
      "text/html": [
       "<table><tr><th>&nbsp;</th><th>step type</th><th>requirements</th><th>statement</th></tr>\n",
       "<tr><td>0</td><td>specialization</td><td>1, 2</td><td><span style=\"font-size:20px;\"><a class=\"ProveItLink\" href=\"../2b9656d370257be8964c4fcdff9aea577d8716400/expr.ipynb\"><img src=\"data:image/png;base64,iVBORw0KGgoAAAANSUhEUgAAAFMAAAAVBAMAAADInc9CAAAAMFBMVEX///9ERETc3NyqqqpUVFS6\n",
       "urrMzMwyMjIQEBCIiIh2dnYiIiLu7u5mZmaYmJgAAABJJ2g3AAAAAXRSTlMAQObYZgAAAQFJREFU\n",
       "KM9jYGDgu8dACLCtUgBRPLsYCAO2ZhDJ+QHKzcaqiGkCmLoOIrgaoIL12M27AKZWICvl238ALs+D\n",
       "X6nyfQW4PPsBvEonzA+Ay7M64FPKesD+AcLalViV8haA2UcZ8sF+vb0bBPZfQFP6HkRkQOwNYNC/\n",
       "gORx8wBUpexAKqUNIuLi4i+ApJSnIgBFKYM40HkRCWCnMjBwFCApTV+Dair3AiDBAlZhAOQ1INy6\n",
       "WwabW7k2gKIPqJT9A8JQE9yBdRyIGf8gIr4Ap1LF/iIGPvnv8CBghEYcL9Ap3bt3C6DFFkoawRDB\n",
       "qZQBu1I+opSC0yvPTmJyQSskoS4mLm8BAFBxTl4IfWdSAAAAAElFTkSuQmCC\n",
       "\" style=\"display:inline;vertical-align:middle;\" /></a> <a class=\"ProveItLink\" href=\"proof.ipynb\" style=\"text-decoration: none\">&#x22A2;&nbsp;</a><a class=\"ProveItLink\" href=\"../4c1210aaf37dbe930ad39524bc6db19b7e17039e0/expr.ipynb\"><img src=\"data:image/png;base64,iVBORw0KGgoAAAANSUhEUgAAADoAAAAUCAMAAADrw95cAAAAPFBMVEX///8LCwsYGBgNDQ0oKCh2\n",
       "dnYQEBBERERUVFS6urqIiIhmZmaqqqrc3Nzu7u6YmJgyMjIiIiLMzMwAAAAhTRy8AAAAAXRSTlMA\n",
       "QObYZgAAALNJREFUOMvFk8kOwyAMRN0lYTWb//9fWxJVIeDEUS6dAyA0j2ExAJImFC1QMjeLaRu7\n",
       "3Eg1pkQcqs0Q4fqZmCmchx6h6B3hldARtWCJsSkQURPAUxxsqoho+AYWsttdpkXvV231KVq3iuSu\n",
       "hHZo0VXUH8xoENH1fub+IRKKqF+7PO/r5vkY66ZD0fPlxIe2aPjtU+3LiT9pg6KaaVk+KqLk5FAo\n",
       "k/SRvIO7yuEu+ZdQMKLjA8BtCOWQWuqjAAAAAElFTkSuQmCC\n",
       "\" style=\"display:inline;vertical-align:middle;\" /></a></span></td></tr>\n",
       "<tr><td>&nbsp;</td><td colspan=4 style=\"text-align:left\"><span style=\"font-size:20px;\"><a class=\"ProveItLink\" href=\"../../../../../__pv_it/2cbe72a7ad6f655694dd697106680215e8489b600/expr.ipynb\"><img src=\"data:image/png;base64,iVBORw0KGgoAAAANSUhEUgAAAA8AAAAOBAMAAAACpFvcAAAALVBMVEX///8QEBBERERUVFS6urqI\n",
       "iIhmZmaqqqrc3Nzu7u6YmJgyMjIiIiLMzMwAAADtIaYWAAAAAXRSTlMAQObYZgAAAFtJREFUCNdj\n",
       "YACBOwxQsA9Kc52bAGG05zVAGAFxDmCaZULdAjBjCsO9ADDDgaEvAUTzGhvbKYCVMDAwbgAxChgY\n",
       "eASANAeQwf0AyJgNxEwvGRia5HYwcOm9TgAA6BoR3jrzwFcAAAAASUVORK5CYII=\n",
       "\" style=\"display:inline;vertical-align:middle;\" /></a> : <a class=\"ProveItLink\" href=\"../../../../../__pv_it/2cbe72a7ad6f655694dd697106680215e8489b600/expr.ipynb\"><img src=\"data:image/png;base64,iVBORw0KGgoAAAANSUhEUgAAAA8AAAAOBAMAAAACpFvcAAAALVBMVEX///8QEBBERERUVFS6urqI\n",
       "iIhmZmaqqqrc3Nzu7u6YmJgyMjIiIiLMzMwAAADtIaYWAAAAAXRSTlMAQObYZgAAAFtJREFUCNdj\n",
       "YACBOwxQsA9Kc52bAGG05zVAGAFxDmCaZULdAjBjCsO9ADDDgaEvAUTzGhvbKYCVMDAwbgAxChgY\n",
       "eASANAeQwf0AyJgNxEwvGRia5HYwcOm9TgAA6BoR3jrzwFcAAAAASUVORK5CYII=\n",
       "\" style=\"display:inline;vertical-align:middle;\" /></a></span></td></tr><tr><td>1</td><td>theorem</td><td></td><td><span style=\"font-size:20px;\"> <a class=\"ProveItLink\" href=\"../../_proofs_/notTrueViaContradiction.ipynb\" style=\"text-decoration: none\">&#x22A2;&nbsp;</a><a class=\"ProveItLink\" href=\"../6be84b165e114d5f1e3038d103beff8da02da5950/expr.ipynb\"><img src=\"data:image/png;base64,iVBORw0KGgoAAAANSUhEUgAAAKkAAAAXCAMAAABHy58YAAAAPFBMVEX///8LCwsYGBgNDQ0oKCgQ\n",
       "EBC6urrMzMxUVFRmZmZERETc3NwyMjKqqqp2dnaIiIiYmJgiIiLu7u4AAACwKje0AAAAAXRSTlMA\n",
       "QObYZgAAAf1JREFUSMfVV9mWpCAMpXuGJezL//9rGywVFJCeGev05MEjlUhuckNIEfLfSHyHE+bu\n",
       "bazqqjzDZzjW7imgXFSr0LJR+niHUIjEHziGYja9fiy99c46tWwEu8QHxTcYi9yCkk8BdRVZPqQ4\n",
       "TmkDqbdFwGCeQkpLZMpAUjMprZBGmuGqLOGx41SlyxGXGqgahJZIicQ8JokS7FNIodyZRWKSv9hI\n",
       "foPU4kJkK1lQokt6rgnQ6nvnqQAWl914OuoWdJbfv/ApBkgNEsPQIhYU+YqeCy++wV7XGMuU1WGr\n",
       "BDMprZEyurVUdwQeoaLn7PykvkdaBMYFSjpbMUHukPLc2hBlOM6njQEGzk9qY76BdH2jeqqcGkgX\n",
       "5otbhDsiZd/5WV0VeJv9PZbXS6D1bfT5cdxGY/YXZ0U7E/h93/mmBvkSTfkYqfR7K21fUp0TWiH1\n",
       "Kw+mgOaX7VzqIr2oETTwEVL78rgfWllfUu0qbXUpJGjvG0sRAlRbVc6v6ty2QQ2QsrBe1jTl5HmZ\n",
       "koaJpsfLPqxfpPvddfbJU4/QQ+1gEwFj9gkd9l8DM7MpvcS/1lTZh2RbHTex7uZEreNFV8LMCGdP\n",
       "E2lcW50SKfiG86Z67xr5iFF82PHU9ycp1TOX4c0wqCZSosRfplSof4B0SlT/7wSbGXA5eRfS94j4\n",
       "ITi+AFZxFymbMnmoAAAAAElFTkSuQmCC\n",
       "\" style=\"display:inline;vertical-align:middle;\" /></a></span></td></tr>\n",
       "<tr><td>&nbsp;</td><td colspan=4 style-\"text-align:left\"><a class=\"ProveItLink\" href=\"../../_proofs_/notTrueViaContradiction.ipynb\">proveit.logic.boolean.implication.notTrueViaContradiction</a></td></tr><tr><td>2</td><td>assumption</td><td></td><td><span style=\"font-size:20px;\"><a class=\"ProveItLink\" href=\"../2b9656d370257be8964c4fcdff9aea577d8716400/expr.ipynb\"><img src=\"data:image/png;base64,iVBORw0KGgoAAAANSUhEUgAAAFMAAAAVBAMAAADInc9CAAAAMFBMVEX///9ERETc3NyqqqpUVFS6\n",
       "urrMzMwyMjIQEBCIiIh2dnYiIiLu7u5mZmaYmJgAAABJJ2g3AAAAAXRSTlMAQObYZgAAAQFJREFU\n",
       "KM9jYGDgu8dACLCtUgBRPLsYCAO2ZhDJ+QHKzcaqiGkCmLoOIrgaoIL12M27AKZWICvl238ALs+D\n",
       "X6nyfQW4PPsBvEonzA+Ay7M64FPKesD+AcLalViV8haA2UcZ8sF+vb0bBPZfQFP6HkRkQOwNYNC/\n",
       "gORx8wBUpexAKqUNIuLi4i+ApJSnIgBFKYM40HkRCWCnMjBwFCApTV+Dair3AiDBAlZhAOQ1INy6\n",
       "WwabW7k2gKIPqJT9A8JQE9yBdRyIGf8gIr4Ap1LF/iIGPvnv8CBghEYcL9Ap3bt3C6DFFkoawRDB\n",
       "qZQBu1I+opSC0yvPTmJyQSskoS4mLm8BAFBxTl4IfWdSAAAAAElFTkSuQmCC\n",
       "\" style=\"display:inline;vertical-align:middle;\" /></a> <a class=\"ProveItLink\" href=\"../bc6e1b66eb4922dcf9ce62b6e70a05088d32eebb0/proof.ipynb\" style=\"text-decoration: none\">&#x22A2;&nbsp;</a><a class=\"ProveItLink\" href=\"../4f26866d68e126534354d142bb7cbda24f94bb5b0/expr.ipynb\"><img src=\"data:image/png;base64,iVBORw0KGgoAAAANSUhEUgAAAD8AAAAPBAMAAAChCwpBAAAAMFBMVEX///92dnYQEBBERERUVFS6\n",
       "urqIiIhmZmaqqqrc3Nzu7u6YmJgyMjIiIiLMzMwAAACFkkdwAAAAAXRSTlMAQObYZgAAAKhJREFU\n",
       "GNNjYACBtwzYAGcCnHkeqwK+AhiL+/4CuCgXNgUz6ifARXkWYFGQkB8AF2V1wFTAuqB/A8JgMUwF\n",
       "Sxneg91bexcE7hdgKAhgmF+A5PieADQFfC4u/gZICrgOBaAqYGVgYDqApOCNFJoJDQwMvAoIN9y1\n",
       "QnMDJ1ABzweEAS3ovlgDxMy/EBFwAE3BZP2TDNz2f+DeYIYGKjvQMt27dw0wYwiNDwDqnDFBsIEk\n",
       "9AAAAABJRU5ErkJggg==\n",
       "\" style=\"display:inline;vertical-align:middle;\" /></a></span></td></tr>\n",
       "</table>"
      ],
      "text/plain": [
       "<proveit._core_.proof._ShowProof at 0x7f94eba81dd8>"
      ]
     },
     "execution_count": 1,
     "metadata": {},
     "output_type": "execute_result"
    }
   ],
   "source": [
    "import proveit\n",
    "%show_proof"
   ]
  },
  {
   "cell_type": "code",
   "execution_count": null,
   "metadata": {},
   "outputs": [],
   "source": []
  }
 ],
 "metadata": {
  "kernelspec": {
   "display_name": "Python 3",
   "language": "python",
   "name": "python3"
  }
 },
 "nbformat": 4,
 "nbformat_minor": 0
}
