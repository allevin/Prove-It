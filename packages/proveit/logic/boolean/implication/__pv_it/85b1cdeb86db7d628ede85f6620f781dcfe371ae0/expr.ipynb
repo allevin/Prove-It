{
 "cells": [
  {
   "cell_type": "markdown",
   "metadata": {},
   "source": [
    "Expression of type <a class=\"ProveItLink\" href=\"../../../../../../../doc/html/api/proveit.logic.Set.html\">Set</a>\n",
    "=======================\n",
    "# from context <a class=\"ProveItLink\" href=\"../../_context_.ipynb\">proveit.logic.boolean.implication</a>"
   ]
  },
  {
   "cell_type": "code",
   "execution_count": 1,
   "metadata": {},
   "outputs": [],
   "source": [
    "# import Expression classes needed to build the expression\n",
    "from proveit._common_ import A, B\n",
    "from proveit.logic import Booleans, Implies, InSet, Not, Set"
   ]
  },
  {
   "cell_type": "code",
   "execution_count": 2,
   "metadata": {},
   "outputs": [
    {
     "data": {
      "text/html": [
       "<strong id=\"expr\">expr:</strong> <a class=\"ProveItLink\" href=\"expr.ipynb\"><img src=\"data:image/png;base64,iVBORw0KGgoAAAANSUhEUgAAANkAAAAVBAMAAAA5ulaKAAAAMFBMVEX///9ERETc3NyqqqpUVFS6\n",
       "urrMzMwyMjIQEBCIiIh2dnYiIiLu7u5mZmaYmJgAAABJJ2g3AAAAAXRSTlMAQObYZgAAAqZJREFU\n",
       "SMe9Vj1oFEEUnr3bn+w5t15nwIArFsHKEwQrwwnbe2WCFhYHscs1YkAlwb80AWNh5ApRsFCDhRaC\n",
       "ZiFZOyGNNloIehY2/pBET/xPnP95M7fRi4ULuzfzve/N9+btm7eHEIpeov9w+XMx/cHzvZBHbODN\n",
       "puXO0me4ImZ3TevN1Ynxe1VJrRmOhFo+mrNidKiTHDy+AfaczkqTHA1WLNfKCD41J8ZBBi2M2szb\n",
       "QF8FoVf1fOwWVHv3s0sNXQ7EuGVYGPWtnmM1Gpshd81cR2JQrXDgo3C9kqZNoTbkij1NQ3dOfQz2\n",
       "qnZ+jZTC8nVTTWJQLQw/c+Poe7C3nXzoGWnjVKeqAE/tpp/cDzJTTWJQ7UhxjQc+oDPpL4hJ2QiX\n",
       "U0tPNHJbDjoIDQ5Yb0RiTK3M4sZ1/xuzObFSO7z4dUakqg28BbXI/F6k9FoUyn6ndXXBrnyJLdPH\n",
       "MVZCHir8YsZHsEpae0VZ1cW685rqTYIl9/M6DMkLXRJplXyFBSSkxgVmayTJKhsMU5KsEsfjKdwq\n",
       "i7qhqT48MXicMRwSQbgG8AbEtpEMDbNjSshTaj21NwdVutUE1VAbvcN5ZA/Rd1NNYVto5C7dSJHW\n",
       "DbMv5an1VbW3pPJM8veWisoYI9G7n0w1hbH3VqIdaxe5J5jdbUM1kklaz05be0tqBE7FPnC09hA8\n",
       "A2oS0ycA09kOxsH3gdqHSwj/gNXuayo4AYWmPlr+VMZ9BF9iWq3Q/yVGr9dPM8LgM9WVt5+rInyR\n",
       "xOapjq2pgW6H8tQ8XU+SEyQNzAeZmNUndVpOprB1eNTzTHcDBp3Lt21enNOx89XsrwgyW3BX/9jI\n",
       "J1ct6kUtyGwYNzerxr5v+OGf1VjzKtRs2I3/5mN3sPM8kBs9fOd328Dsv/wv+Q1EcdXmzxEUQgAA\n",
       "AABJRU5ErkJggg==\n",
       "\" style=\"display:inline;vertical-align:middle;\" /></a><br>"
      ],
      "text/plain": [
       "expr: {A in BOOLEANS , [not](A) => B , [not](B)}"
      ]
     },
     "execution_count": 2,
     "metadata": {},
     "output_type": "execute_result"
    }
   ],
   "source": [
    "# build up the expression from sub-expressions\n",
    "expr = Set(InSet(A, Booleans), Implies(Not(A), B), Not(B))"
   ]
  },
  {
   "cell_type": "code",
   "execution_count": 3,
   "metadata": {},
   "outputs": [
    {
     "name": "stdout",
     "output_type": "stream",
     "text": [
      "Passed sanity check: built 'expr' is the same as the stored Expression.\n"
     ]
    }
   ],
   "source": [
    "# check that the built expression is the same as the stored expression\n",
    "%check_expr"
   ]
  },
  {
   "cell_type": "code",
   "execution_count": 4,
   "metadata": {},
   "outputs": [
    {
     "data": {
      "text/html": [
       "<table><tr><th>&nbsp;</th><th>core type</th><th>sub-expressions</th><th>expression</th></tr>\n",
       "<tr><td>0</td><td>Operation</td><td>operator:&nbsp;1<br>operands:&nbsp;2<br></td><td><a class=\"ProveItLink\" href=\"expr.ipynb\"><img src=\"data:image/png;base64,iVBORw0KGgoAAAANSUhEUgAAANkAAAAVBAMAAAA5ulaKAAAAMFBMVEX///9ERETc3NyqqqpUVFS6\n",
       "urrMzMwyMjIQEBCIiIh2dnYiIiLu7u5mZmaYmJgAAABJJ2g3AAAAAXRSTlMAQObYZgAAAqZJREFU\n",
       "SMe9Vj1oFEEUnr3bn+w5t15nwIArFsHKEwQrwwnbe2WCFhYHscs1YkAlwb80AWNh5ApRsFCDhRaC\n",
       "ZiFZOyGNNloIehY2/pBET/xPnP95M7fRi4ULuzfzve/N9+btm7eHEIpeov9w+XMx/cHzvZBHbODN\n",
       "puXO0me4ImZ3TevN1Ynxe1VJrRmOhFo+mrNidKiTHDy+AfaczkqTHA1WLNfKCD41J8ZBBi2M2szb\n",
       "QF8FoVf1fOwWVHv3s0sNXQ7EuGVYGPWtnmM1Gpshd81cR2JQrXDgo3C9kqZNoTbkij1NQ3dOfQz2\n",
       "qnZ+jZTC8nVTTWJQLQw/c+Poe7C3nXzoGWnjVKeqAE/tpp/cDzJTTWJQ7UhxjQc+oDPpL4hJ2QiX\n",
       "U0tPNHJbDjoIDQ5Yb0RiTK3M4sZ1/xuzObFSO7z4dUakqg28BbXI/F6k9FoUyn6ndXXBrnyJLdPH\n",
       "MVZCHir8YsZHsEpae0VZ1cW685rqTYIl9/M6DMkLXRJplXyFBSSkxgVmayTJKhsMU5KsEsfjKdwq\n",
       "i7qhqT48MXicMRwSQbgG8AbEtpEMDbNjSshTaj21NwdVutUE1VAbvcN5ZA/Rd1NNYVto5C7dSJHW\n",
       "DbMv5an1VbW3pPJM8veWisoYI9G7n0w1hbH3VqIdaxe5J5jdbUM1kklaz05be0tqBE7FPnC09hA8\n",
       "A2oS0ycA09kOxsH3gdqHSwj/gNXuayo4AYWmPlr+VMZ9BF9iWq3Q/yVGr9dPM8LgM9WVt5+rInyR\n",
       "xOapjq2pgW6H8tQ8XU+SEyQNzAeZmNUndVpOprB1eNTzTHcDBp3Lt21enNOx89XsrwgyW3BX/9jI\n",
       "J1ct6kUtyGwYNzerxr5v+OGf1VjzKtRs2I3/5mN3sPM8kBs9fOd328Dsv/wv+Q1EcdXmzxEUQgAA\n",
       "AABJRU5ErkJggg==\n",
       "\" style=\"display:inline;vertical-align:middle;\" /></a></td></tr>\n",
       "<tr><td>1</td><td>Literal</td><td></td><td><a class=\"ProveItLink\" href=\"../../../../set_theory/enumeration/__pv_it/07381ed5b23806e8d7914b78cb6667769e3708dd0/expr.ipynb\"><img src=\"data:image/png;base64,iVBORw0KGgoAAAANSUhEUgAAAB4AAAAOBAMAAADKyLEKAAAAMFBMVEX///8iIiIQEBCIiIjMzMzc\n",
       "3Nyqqqp2dnZEREQyMjK6urru7u5mZmZUVFSYmJgAAACI6eGPAAAAAXRSTlMAQObYZgAAALRJREFU\n",
       "CNdjYGDgu3Nm3wIGBJjHwN0PZW5yYGDgLWBgyITy8zcwMMQDxZyh/INAvD6BgcEFypcB4vjPDiBm\n",
       "TPFRrhs/LjMwMP//38rAwCbKEMPA9gEkE3fp0waG+AUMRxh4JkC01T9guPTOOICBEWgVH5C//wHD\n",
       "H5D4fqCz9oCMDGD4DLaegRXslLMMDMpAgxlOMmQxHDRgYG5gYLBk4D7KcIe7gOHC2rt9QCXsh40Z\n",
       "GCKMGQDRkC8N/Ph1XAAAAABJRU5ErkJggg==\n",
       "\" style=\"display:inline;vertical-align:middle;\" /></a></td></tr>\n",
       "<tr><td>2</td><td>ExprTuple</td><td>3, 4, 5</td><td><a class=\"ProveItLink\" href=\"../90bf6fd840215d834a26377cde6f3b325846ac030/expr.ipynb\"><img src=\"data:image/png;base64,iVBORw0KGgoAAAANSUhEUgAAANMAAAAVBAMAAAAumMZDAAAAMFBMVEX////c3NwiIiJERESqqqqY\n",
       "mJh2dnZmZmYQEBDu7u4yMjJUVFTMzMyIiIi6uroAAAAs73DqAAAAAXRSTlMAQObYZgAAAqVJREFU\n",
       "SMe9VTFoFEEU/evd3t2eu+eBVlp4nI1o4QoJSJpcbeOBYKGg11kJwSKVYohpLIyHhYQDzaqckiY5\n",
       "QQuzSJZUQoq7wlLJnkUIsYmIihc0zsyf2ZnZXYxn4cDt/Xn//XmzM29mAf5jK/X+gWOGQ6pcpo81\n",
       "jFf1VG5pbDA9InprWo5Sb6SNd2nX98fCVCwfkHgBoaVYWabUaz1o8M6ClqLUYurcbwPkf6VjHoCD\n",
       "a2OeaiaknNDD2NHWj1HNhgSiSvsn+e3o4wjsAkABiYdulTH18En1BJfK1l8jVtCmwajWlASid3Y+\n",
       "kzl806UENgewhUhvHdfYbjflW/VdjLe0YqSOSOBTtBJEf9+d2OpwLFODSbRY81ydBQebcgFXz/PO\n",
       "pOZGpF5VLCTW90AHjKexjRBYbgLaDHgEXeSflntV3b3L47Zay6lnaZyvsvadp7pvPlyvx1whsKwH\n",
       "swwI4egE/bdc1RbveG9WDNqQ1E1luOwi/q+XwTqJYcQXWGkKmDdt319hw5amCUHYAtwNrBP+tTuS\n",
       "2lWn3sIJn6FyymtRvsDsbRymRFzmiWT0VuBmklKCqkrZz3CDqM+vNHQpgRGpGYrViEuYe61KmtSM\n",
       "Uiqom8peHUMl+yt5rNQ0qQgjCzhKQoOExW2WfaVJbYBF41FZGlEvKlvVkUfIGADWcL7AwPSYaVt0\n",
       "6B8sez+UUuZNF+YrqrEDSVXMflg5Qm/JeZ6vSL7AqNk/krN07zGY4wNmQeN5IK7bL8dfkkNOZkU5\n",
       "vEnqopTiByQ/vuMv03PBamIYFEMolPVzkF1GB4rWpxdTOXGxqhdTEE/2U27iOf3eTGvUuymcXG+P\n",
       "mni7lvhApJclOS0YTsqiB+TIH5Uc9kxyXuxZo7f9dA+Mv/jgJzhOMOQH/z3Ab3xe1XbIzSyeAAAA\n",
       "AElFTkSuQmCC\n",
       "\" style=\"display:inline;vertical-align:middle;\" /></a></td></tr>\n",
       "<tr><td>3</td><td>Operation</td><td>operator:&nbsp;6<br>operands:&nbsp;7<br></td><td><a class=\"ProveItLink\" href=\"../18d84e6b10643c76412edd0e67904c254c981c030/expr.ipynb\"><img src=\"data:image/png;base64,iVBORw0KGgoAAAANSUhEUgAAADYAAAAPBAMAAABdHiGLAAAAMFBMVEX///92dnYQEBBERERUVFS6\n",
       "urqIiIhmZmaqqqrc3Nzu7u6YmJgyMjIiIiLMzMwAAACFkkdwAAAAAXRSTlMAQObYZgAAANJJREFU\n",
       "GNNjYACBtwwogPG8zR9dCyjnPKocAzNrwpqFAmAm9/0FGHJsAQfAzBn1EyBiy87evQOV49jgBRZK\n",
       "yA8A03ynFyD0RRqAWKwL+jeAhSYvQJj5djOYs5ThfQJYyBJh393/amBWAMP8AhDNZYDslgwQj8/F\n",
       "xR9itu7du3C3MBgEgoQYGJjA7uVzQNLHYMAMZDQwMPAqgM28gC7HCZTj+QAW8kaRA5q5BsT+BRZa\n",
       "G4CQ4y4zYJisf5KB2/4P2KGcxx/AwvrzJQ+0MObwgbgTAgCMvTlc/0QYTQAAAABJRU5ErkJggg==\n",
       "\" style=\"display:inline;vertical-align:middle;\" /></a></td></tr>\n",
       "<tr><td>4</td><td>Operation</td><td>operator:&nbsp;8<br>operands:&nbsp;9<br></td><td><a class=\"ProveItLink\" href=\"../a52f2e12941e42e61803c785c696b853841b533c0/expr.ipynb\"><img src=\"data:image/png;base64,iVBORw0KGgoAAAANSUhEUgAAAFwAAAAVBAMAAAA5lpTPAAAAMFBMVEX////c3NwiIiJERESqqqqY\n",
       "mJh2dnZmZmYQEBDu7u4yMjJUVFTMzMyIiIi6uroAAAAs73DqAAAAAXRSTlMAQObYZgAAAV9JREFU\n",
       "KM9jYCAR8F1AE2B9gE/5aRTeISCuwaYs+v/u3VZAg1aiiK4HYi6sxjYzMLD/Y+BFcQur/gQgkYAQ\n",
       "mABj8PwF4t8MHBOQlYvUCzAwcDYgBOB2834EmvON4RWKjRfug/xpghB4DWMwA81g6mQoQwmlCf4B\n",
       "QCodIcIGcyv/BgbGxRMYliIrn8dwHiTtBWKzK4HBd6jU+b13i4BG9cEkQP57wCBfAKReIJnAsg5C\n",
       "3xdg4NRmYPgH8/kGIN69e78ByCRkG2f1gSkLkJYAFOV8DAwcC9CU8yyDBN1vII5PYGhBUu4A9HwD\n",
       "zDFQtytDVPN8BRL7HRhMEcoZgcq5PgDZUUhO34AIdsZfSIF2gGEWKHh/ogakFFKwnwDG2SO4jHD/\n",
       "QgZW+1/AoFmHUG4Iodjtf+/eBQpzDgGMxIScCA6gp+4EDOVsF/Ck95UYIrPwZQ9pDJGN+JQzolvN\n",
       "ewC3YgDGg1kRpbQOUwAAAABJRU5ErkJggg==\n",
       "\" style=\"display:inline;vertical-align:middle;\" /></a></td></tr>\n",
       "<tr><td>5</td><td>Operation</td><td>operator:&nbsp;13<br>operand:&nbsp;12<br></td><td><a class=\"ProveItLink\" href=\"../1da4e2fe7c44632f084fa27ea32e26dc689384c20/expr.ipynb\"><img src=\"data:image/png;base64,iVBORw0KGgoAAAANSUhEUgAAAB0AAAAOBAMAAAAh/woJAAAAMFBMVEX///+qqqru7u7c3NyIiIgQ\n",
       "EBC6uroyMjJERESYmJhUVFTMzMx2dnYiIiJmZmYAAADtoHoAAAAAAXRSTlMAQObYZgAAAHpJREFU\n",
       "CNdjYIACzvW/Vq0oY0AA1gYGhvcJCP5+ByBegOD7GzAwzD+A4LcC8VUFBP8XA4N5E4LL/cvF7yaQ\n",
       "fnsXCO4wMLB8ZmDQhRm3i4GBIwAo9hPB5wfKcf5B8PdPYGDg+ojgg6y3L4AZDraeOxxh/Yv/q1aV\n",
       "A7UAAFRxJOZ+1MVPAAAAAElFTkSuQmCC\n",
       "\" style=\"display:inline;vertical-align:middle;\" /></a></td></tr>\n",
       "<tr><td>6</td><td>Literal</td><td></td><td><a class=\"ProveItLink\" href=\"../../../../set_theory/membership/__pv_it/088cbc857536a28d4119ad9639a84270ccb0545d0/expr.ipynb\"><img src=\"data:image/png;base64,iVBORw0KGgoAAAANSUhEUgAAAAwAAAAMBAMAAACkW0HUAAAALVBMVEX///+qqqpmZmZUVFQQEBC6\n",
       "urpERETc3NyYmJjMzMwiIiIyMjKIiIju7u4AAACYsrA9AAAAAXRSTlMAQObYZgAAADxJREFUCNdj\n",
       "YOA9vWrVBgaG2b0MQMCeCyIZ2ArA1DUwyRCyahVIyWQI7xaEYm4AU7xLIdxqTQgtvGvVBgCkcQ7e\n",
       "geM/tQAAAABJRU5ErkJggg==\n",
       "\" style=\"display:inline;vertical-align:middle;\" /></a></td></tr>\n",
       "<tr><td>7</td><td>ExprTuple</td><td>14, 10</td><td><a class=\"ProveItLink\" href=\"../0f38ce3f6d5bca20d60f2036d8f4eedb1ccd39680/expr.ipynb\"><img src=\"data:image/png;base64,iVBORw0KGgoAAAANSUhEUgAAADMAAAAVBAMAAAAZessyAAAAMFBMVEX////c3NwiIiJERESqqqqY\n",
       "mJh2dnZmZmYQEBDu7u4yMjJUVFTMzMyIiIi6uroAAAAs73DqAAAAAXRSTlMAQObYZgAAAR1JREFU\n",
       "KM9jYMAD+C5gE40DEach7EMQim291a8mEwYG9gNAzkqI2Hqocma+C7OmJTAwLGBg4IWYx6o/AS7F\n",
       "+wAoHsbAwAEREqkXgEuxBOxkYJjBwPAKInLh/gOErocGQNqBoQzizAn+AXCpQ8FAk9gKGJaCBeYx\n",
       "nL8Ak1L63wukWRYw9IEFHjDIFyAMvAI0kK+B4R+Iz7N7934DuBSDwTOg0AeIFB/QpQuQpJjBUi0g\n",
       "vgMDA1MDqhTQQFMglxEoxfWBgWECkoGsCxjSgdxZIKGfDJyfIFKstQZgxz9iYBDuX8jAav+rgLNf\n",
       "ABS8nzW2AJVwPWDgEECKHyQ2MKBYExBcVqQIy0VECpoUJ8gv0gg+Unxzg8xmxJoA7jAwAAA4lUto\n",
       "1aFFcAAAAABJRU5ErkJggg==\n",
       "\" style=\"display:inline;vertical-align:middle;\" /></a></td></tr>\n",
       "<tr><td>8</td><td>Literal</td><td></td><td><a class=\"ProveItLink\" href=\"../e5c030cabcb650938f92dee8256fe11cd12bf9b30/expr.ipynb\"><img src=\"data:image/png;base64,iVBORw0KGgoAAAANSUhEUgAAABMAAAANBAMAAAC5okgUAAAALVBMVEX////c3NxERETMzMwQEBCq\n",
       "qqoiIiJmZmaIiIh2dnZUVFS6uroyMjLu7u4AAACPpZJTAAAAAXRSTlMAQObYZgAAAD1JREFUCNdj\n",
       "YAABXgY44LkAZ3IvQAjPABFlaSCQV4AQjtkAZ/IegbNt5sLUpunC5aPgLMYDcCaTAJzJDCIA2yMN\n",
       "HCCUuIIAAAAASUVORK5CYII=\n",
       "\" style=\"display:inline;vertical-align:middle;\" /></a></td></tr>\n",
       "<tr><td>9</td><td>ExprTuple</td><td>11, 12</td><td><a class=\"ProveItLink\" href=\"../ebf5636be815bb02f85ac03dbaee8f96b026f1d20/expr.ipynb\"><img src=\"data:image/png;base64,iVBORw0KGgoAAAANSUhEUgAAAEMAAAAVBAMAAADvM06qAAAAMFBMVEX////c3NwiIiJERESqqqqY\n",
       "mJh2dnZmZmYQEBDu7u4yMjJUVFTMzMyIiIi6uroAAAAs73DqAAAAAXRSTlMAQObYZgAAAUdJREFU\n",
       "KM9jYCAC8F3AJxsHIk6jCB2CMVj3/969eR0D+wEgeyWKkvVwFocBA0P9A4YFDAy8KPaw6k+AMc8D\n",
       "Jc5vYAgDKp6ArESkXgDGvA9kxScwzGBgeIViz4X7D2BMCyDWmMDA7MBQhuK7Cf4BMPZvBgYpSwYG\n",
       "tgKGpchK5oFdAAY8v+9eVwXSLAsY+hgY2JVAIAHIf8AgXwBVwvuRgWHSBqDBDQz/YLqAXJ7du/cb\n",
       "QPnMDUBlX4FiH1CU8AE9uADK5wfyWb+BlbQgKXFgYGBqgAUL0N3cX8AWmSKUMAKVcH1gYJgACxZ5\n",
       "oJGsCxjSYb45wDAL5ISfDJyfoMHC0zUB7OlHcB8L9y9kYLX/VcDZDzSg+P/u3atAYcT1gIFDADN5\n",
       "IAsBI4A1AUMJKzInFyMxoCvhBAWCNIYS5OTBDbKUEW/CvMPAAAC/jFIHxgZ0KQAAAABJRU5ErkJg\n",
       "gg==\n",
       "\" style=\"display:inline;vertical-align:middle;\" /></a></td></tr>\n",
       "<tr><td>10</td><td>Literal</td><td></td><td><a class=\"ProveItLink\" href=\"../../../__pv_it/46271c8230be96415d662709611f4ed2279d702b0/expr.ipynb\"><img src=\"data:image/png;base64,iVBORw0KGgoAAAANSUhEUgAAAA0AAAAOBAMAAAAGUYvhAAAAMFBMVEX///9mZmbMzMzc3NxUVFSY\n",
       "mJju7u6IiIi6urqqqqoiIiIQEBBEREQyMjJ2dnYAAAAQvcRZAAAAAXRSTlMAQObYZgAAAElJREFU\n",
       "CNdjePvn/u01ExgYGA60s117B6YZKngh9FSWBAjfBsxnWnoMRHet/10AkS+fA6F5OB5AaIYDqDRU\n",
       "PLCGgQFoz6ktExgAgLIl8DFvGtkAAAAASUVORK5CYII=\n",
       "\" style=\"display:inline;vertical-align:middle;\" /></a></td></tr>\n",
       "<tr><td>11</td><td>Operation</td><td>operator:&nbsp;13<br>operand:&nbsp;14<br></td><td><a class=\"ProveItLink\" href=\"../feaa1d0e6d92ad9ead8e5ffd1f92697e3912387a0/expr.ipynb\"><img src=\"data:image/png;base64,iVBORw0KGgoAAAANSUhEUgAAABwAAAAOBAMAAADOPWE3AAAAMFBMVEX///8QEBBERES6urqIiIiq\n",
       "qqrc3Nzu7u6YmJgyMjJUVFTMzMx2dnYiIiJmZmYAAADMbjvTAAAAAXRSTlMAQObYZgAAAGNJREFU\n",
       "CNdjYEAA7gsMyIDzAwq39zsyjy3uGzKXheUzMtec9QcSj92A+wsDw9u7QHAHyGVmYPsHldkFwqtW\n",
       "fULiGjAwSCK4rEDqIoKbCqTmw1zLwD4BSOkXwFyk+DOBoen/PABSrhtHsYt+gAAAAABJRU5ErkJg\n",
       "gg==\n",
       "\" style=\"display:inline;vertical-align:middle;\" /></a></td></tr>\n",
       "<tr><td>12</td><td>Variable</td><td></td><td><a class=\"ProveItLink\" href=\"../../../../../__pv_it/077b2ff79244fb4582cbe22c6e3356fa92a52f2f0/expr.ipynb\"><img src=\"data:image/png;base64,iVBORw0KGgoAAAANSUhEUgAAABAAAAAOBAMAAADUAYG5AAAAMFBMVEX///+qqqru7u4iIiJ2dnbc\n",
       "3NyIiIjMzMxmZmYQEBC6uroyMjJERERUVFSYmJgAAADLUcuvAAAAAXRSTlMAQObYZgAAAGpJREFU\n",
       "CNdjYGB4+//u3dMLGIBgDgMDxy8gzf4NiP8CGWxfGRj4vgAZPBMYGJgnARn8FxhY9ygAGfXX0pof\n",
       "gDTlBzAw2YIYJ0EckBBI53sHoBH/gIz7AhBjWH9DjancBLTl/N+7t/cxMAAA3u4f/5xagjYAAAAA\n",
       "SUVORK5CYII=\n",
       "\" style=\"display:inline;vertical-align:middle;\" /></a></td></tr>\n",
       "<tr><td>13</td><td>Literal</td><td></td><td><a class=\"ProveItLink\" href=\"../../../negation/__pv_it/7bea79645543c2413aa17e787cca04e21046fde60/expr.ipynb\"><img src=\"data:image/png;base64,iVBORw0KGgoAAAANSUhEUgAAAAwAAAAGBAMAAAAFwGKyAAAAFVBMVEX///9UVFTMzMx2dnYiIiJm\n",
       "ZmYAAACWz4ZEAAAAAXRSTlMAQObYZgAAABRJREFUCNdjCHEBAmcGMFDEQzEBAEl+Ai6uYJv/AAAA\n",
       "AElFTkSuQmCC\n",
       "\" style=\"display:inline;vertical-align:middle;\" /></a></td></tr>\n",
       "<tr><td>14</td><td>Variable</td><td></td><td><a class=\"ProveItLink\" href=\"../../../../../__pv_it/2cbe72a7ad6f655694dd697106680215e8489b600/expr.ipynb\"><img src=\"data:image/png;base64,iVBORw0KGgoAAAANSUhEUgAAAA8AAAAOBAMAAAACpFvcAAAALVBMVEX///8QEBBERERUVFS6urqI\n",
       "iIhmZmaqqqrc3Nzu7u6YmJgyMjIiIiLMzMwAAADtIaYWAAAAAXRSTlMAQObYZgAAAFtJREFUCNdj\n",
       "YACBOwxQsA9Kc52bAGG05zVAGAFxDmCaZULdAjBjCsO9ADDDgaEvAUTzGhvbKYCVMDAwbgAxChgY\n",
       "eASANAeQwf0AyJgNxEwvGRia5HYwcOm9TgAA6BoR3jrzwFcAAAAASUVORK5CYII=\n",
       "\" style=\"display:inline;vertical-align:middle;\" /></a></td></tr>\n",
       "</table>\n"
      ],
      "text/plain": [
       "0. {A in BOOLEANS , [not](A) => B , [not](B)}\n",
       "   core type: Operation\n",
       "   operator: 1\n",
       "   operands: 2\n",
       "1. Set\n",
       "   core type: Literal\n",
       "   sub-expressions: \n",
       "2. (A in BOOLEANS , [not](A) => B , [not](B))\n",
       "   core type: ExprTuple\n",
       "   sub-expressions: 3, 4, 5\n",
       "3. A in BOOLEANS\n",
       "   core type: Operation\n",
       "   operator: 6\n",
       "   operands: 7\n",
       "4. [not](A) => B\n",
       "   core type: Operation\n",
       "   operator: 8\n",
       "   operands: 9\n",
       "5. [not](B)\n",
       "   core type: Operation\n",
       "   operator: 13\n",
       "   operand: 12\n",
       "6. in\n",
       "   core type: Literal\n",
       "   sub-expressions: \n",
       "7. (A , BOOLEANS)\n",
       "   core type: ExprTuple\n",
       "   sub-expressions: 14, 10\n",
       "8. =>\n",
       "   core type: Literal\n",
       "   sub-expressions: \n",
       "9. ([not](A) , B)\n",
       "   core type: ExprTuple\n",
       "   sub-expressions: 11, 12\n",
       "10. BOOLEANS\n",
       "    core type: Literal\n",
       "    sub-expressions: \n",
       "11. [not](A)\n",
       "    core type: Operation\n",
       "    operator: 13\n",
       "    operand: 14\n",
       "12. B\n",
       "    core type: Variable\n",
       "    sub-expressions: \n",
       "13. not\n",
       "    core type: Literal\n",
       "    sub-expressions: \n",
       "14. A\n",
       "    core type: Variable\n",
       "    sub-expressions: "
      ]
     },
     "execution_count": 4,
     "metadata": {},
     "output_type": "execute_result"
    }
   ],
   "source": [
    "# display the expression information\n",
    "expr.exprInfo()"
   ]
  },
  {
   "cell_type": "code",
   "execution_count": null,
   "metadata": {},
   "outputs": [],
   "source": []
  }
 ],
 "metadata": {
  "kernelspec": {
   "display_name": "Python 3",
   "language": "python",
   "name": "python3"
  }
 },
 "nbformat": 4,
 "nbformat_minor": 0
}
