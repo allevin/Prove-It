{
 "cells": [
  {
   "cell_type": "markdown",
   "metadata": {},
   "source": [
    "Theorem Dependencies\n",
    "=======================\n",
    "\n",
    "## <a class=\"ProveItLink\" href=\"../../_context_.ipynb\">proveit.logic.boolean.implication</a>.<a class=\"ProveItLink\" href=\"../../_theorems_.ipynb#affirmViaContradiction\">affirmViaContradiction</a> \n",
    "***see <a class=\"ProveItLink\" href=\"../../_proofs_/affirmViaContradiction.ipynb\">proof</a>***"
   ]
  },
  {
   "cell_type": "code",
   "execution_count": 1,
   "metadata": {},
   "outputs": [],
   "source": [
    "from proveit.logic.boolean.implication._theorems_ import affirmViaContradiction"
   ]
  },
  {
   "cell_type": "code",
   "execution_count": 2,
   "metadata": {},
   "outputs": [
    {
     "data": {
      "text/html": [
       "<h3>Axioms required (directly or indirectly) to prove affirmViaContradiction</h3>"
      ],
      "text/plain": [
       "<IPython.core.display.HTML object>"
      ]
     },
     "metadata": {},
     "output_type": "display_data"
    },
    {
     "data": {
      "text/html": [
       "<dl>"
      ],
      "text/plain": [
       "<IPython.core.display.HTML object>"
      ]
     },
     "metadata": {},
     "output_type": "display_data"
    },
    {
     "data": {
      "text/html": [
       "<dt><a class=\"ProveItLink\" href=\"../../../_axioms_.ipynb#eqTrueElim\">proveit.logic.boolean.eqTrueElim</a></dt><dd><a class=\"ProveItLink\" href=\"../../../__pv_it/3e7bd867633eab3d515d0929d36506bc9b5772e10/expr.ipynb\"><img src=\"data:image/png;base64,iVBORw0KGgoAAAANSUhEUgAAAGgAAAAWBAMAAADeGsQjAAAAMFBMVEX///8QEBC6urrMzMxUVFRm\n",
       "ZmZERETc3NwyMjKqqqp2dnaIiIiYmJgiIiLu7u4AAAAU9Wx4AAAAAXRSTlMAQObYZgAAAUpJREFU\n",
       "OMtjeMBABrgAIk6ToIEZqGMliNFHgiaODwwMZUCaPYEETWf/ATUCPcU6gXg97FO/MzDwLC8vryXB\n",
       "Im7uT0DyW1raLRI06XH+AZLODAzpYG47mGSCe7gAmx4+BebfQEqFga8BxOX5BBZlg0mfV4AyWNPS\n",
       "xNKyoBwmBvavQIqXgfsAiPv0D4omvvgDCPMRoWvi4vIN5LMDvOBUse4qiiautwHYNAGtlwAZ2WAC\n",
       "jugNaSiarNkSsGjiBOKLIEa6E4hkYYhF0eTAeoHBowMINiBrqgTifhBjKjj5nWTYj6yJZwL3B0yb\n",
       "wEGWD/INI8gsvquhYA5M09vQsH8YmtgTfxQwHPvfCjIUpJi1gMHeAElTOAPzZ4YMDOehAh0GBv4D\n",
       "CE1MQPYfbKGHDJ58Y2D3vwPXxOefwFDy9wABTQjARk5Opp8mFiLUAADNR1FAr8G4iQAAAABJRU5E\n",
       "rkJggg==\n",
       "\" style=\"display:inline;vertical-align:middle;\" /></a></dd>"
      ],
      "text/plain": [
       "<IPython.core.display.HTML object>"
      ]
     },
     "metadata": {},
     "output_type": "display_data"
    },
    {
     "data": {
      "text/html": [
       "<dt><a class=\"ProveItLink\" href=\"../../../_axioms_.ipynb#eqTrueIntro\">proveit.logic.boolean.eqTrueIntro</a></dt><dd><a class=\"ProveItLink\" href=\"../../../__pv_it/d0cb838f1f1e44deadf0499da151f8dae5a0de4f0/expr.ipynb\"><img src=\"data:image/png;base64,iVBORw0KGgoAAAANSUhEUgAAAIwAAAAXBAMAAAArT7qNAAAAMFBMVEX///8QEBC6urrMzMxUVFRm\n",
       "ZmZERETc3NwyMjKqqqp2dnaIiIiYmJgiIiLu7u4AAAAU9Wx4AAAAAXRSTlMAQObYZgAAAaxJREFU\n",
       "OMtjYKAOeEBYCdMG/PI8CgwMF0CM03iVmUAoW3Rx1rtgkMAQzMCwEiTQh9cYqGw/FinmABDJwcBQ\n",
       "BqTYE/CZwg3xE8/9B7iM4VnAwAGUZJ2AzxhGiPbK+AJcxvAJMPAsLy+vxesnDQi1Yb8CLmMYMhkY\n",
       "vqWl3cJrTBQkuh7MP4DTmKUMDM4MDOlgdjtEOUxFO4zRAyYfMdiDw4i1AwwcUIyZwcCgwsDXAA6n\n",
       "T2ARNlhi+AQzRghMKjDUB+B0jSIDAy8DN9i1T/+gGAPlAgHYPGYXF/8EnMbYA+PzAC84KtZdRTEG\n",
       "yoUZA/QrYwM+Y/gawKmUeUMasjEwLhBIgghgkuAVQEm6aJ5iSHcCsVgYYpGNgXGBIAeUQIHGcHzA\n",
       "6ZoTQDwVnK1OMuxHNgbGhcQmwwuQzD98Ec7ACIpIvquh+Q8QxsC5QKALzDHy7Qw8+T8wo4p5AZhq\n",
       "AkUtSD1rAYO9AcIYOBdkTQGhkoRPAMbSYWDgP4AwBs6FZDwCgAtWID35xsDufwduDIJLuBiBhhwa\n",
       "YMMUKiFkjDtRxrATKES5DYgyhhzAQpYuAAUAaqwIkhhoAAAAAElFTkSuQmCC\n",
       "\" style=\"display:inline;vertical-align:middle;\" /></a></dd>"
      ],
      "text/plain": [
       "<IPython.core.display.HTML object>"
      ]
     },
     "metadata": {},
     "output_type": "display_data"
    },
    {
     "data": {
      "text/html": [
       "<dt><a class=\"ProveItLink\" href=\"../../_axioms_.ipynb#impliesFalseDef\">proveit.logic.boolean.implication.impliesFalseDef</a></dt><dd><a class=\"ProveItLink\" href=\"../0360c7ad947a096705c0fcf3db690f3dc937688f0/expr.ipynb\"><img src=\"data:image/png;base64,iVBORw0KGgoAAAANSUhEUgAAAOAAAAAVBAMAAACtXP94AAAAMFBMVEX///8QEBC6urrMzMxUVFRm\n",
       "ZmZERETc3NwyMjKqqqp2dnaIiIiYmJgiIiLu7u4AAAAU9Wx4AAAAAXRSTlMAQObYZgAAAnBJREFU\n",
       "SMe9Vc9rE0EUfukaE5PNtvTWQzGVHgQVcvAmkqCFHCtILuIvPGwRheYgrSJqCJRKkOql0Fv3EsWL\n",
       "7H/QvQgVL17agyguohKoiBQsHkR8MzubeTO7sxUPPvh2h/3mm2923psZgP8dYSY74ksoYVfNIjPH\n",
       "mDes8drU4ySBjNOI86n9C3xi6ZxQPWftFZPhCoGMx4hian/rHBg5oVpg87pq8Cv7EmRhPmAebC8t\n",
       "LZEh5RKqIr7yTwyGuVBCxp0rbQBnTF0Haki5hMp+trh4z7SiRwlk+BusKq7LD9OaIeWSqj3XfWsy\n",
       "vEAgKzdcD/DVl19KvmbYT6n3oeoswBz/tJzs9YhgGB+hzgzWWDv/nscPzTDiHvJo6KppcDo8qbsi\n",
       "ub3eUiD04xLR0KwaqvCADTtF5nCoqxpOJecuVRUo8/E//8LHTusi+N7OEdFrl4CPh9O1ZmZmWVXX\n",
       "6XCDccWwntwvUlUOKrwGX2xh+9r9b2hY+pphOIJF29EGtXrhPoZE5XT4MWL5LsBLXk7escui2wRB\n",
       "bIhbqDIWL5vI4XaYsqSCi/Y4Vc2dYV8OwCUAnky/NRnn8CaBMCygtPgd25skhQ2taDYTRx5VrfLj\n",
       "9BVsgOVFf5g/Jfr1CXjUYIDPg7/V0r8N+20LRZVj5epsteZDa9t1b7AclkS/EwRRLBxeBnv+J47b\n",
       "lcNF24qv4SRfw67mp6psloB8G+o1pxH94dAw15bQgh5ftQzOxBwHGA2gKZb0bnzgehJalHzzhWjm\n",
       "hsynPSjMvoMvVb7x3SD7eoqzYorB3zNPMYc0bhGo0cwwbP4DQ27wGOpNWTOLzBwyfwCulsldcIJz\n",
       "nAAAAABJRU5ErkJggg==\n",
       "\" style=\"display:inline;vertical-align:middle;\" /></a></dd>"
      ],
      "text/plain": [
       "<IPython.core.display.HTML object>"
      ]
     },
     "metadata": {},
     "output_type": "display_data"
    },
    {
     "data": {
      "text/html": [
       "<dt><a class=\"ProveItLink\" href=\"../../../../equality/_axioms_.ipynb#equalsSymmetry\">proveit.logic.equality.equalsSymmetry</a></dt><dd><a class=\"ProveItLink\" href=\"../../../../equality/__pv_it/00337eac3723871d5661da0e358240a663e29ee80/expr.ipynb\"><img src=\"data:image/png;base64,iVBORw0KGgoAAAANSUhEUgAAAN0AAAAWBAMAAAC2xYReAAAAMFBMVEX///8QEBC6urrMzMxUVFRm\n",
       "ZmZERETc3NwyMjKqqqp2dnaIiIiYmJgiIiLu7u4AAAAU9Wx4AAAAAXRSTlMAQObYZgAAAoFJREFU\n",
       "SMe9VjFoFEEU/bd7u5u7vdscppAgyhUWggQVbFJFIkTQRsQiGESrS6HFFmIEUbdQSBFCQK0s3CaI\n",
       "HgkHyoGc6GIjRISrLITA2qTQ5jCghRbOnz+7uZ2dubtGHzzu9r83f/Zm/p85gP+MWCcYLaIO7xWx\n",
       "o4PtyC4+fFQYTgrqYB3PhcxTg+3I5/iwqjCsauIpglxkLB5iZ7zJPpyredltEfXYykU6w+xb9E7W\n",
       "Wl4uxEQ9vuYih4bZGSvPlpbuKOQjgnrY8lsawTA78mej8UUhXyJ66yHck36m0zzzZAGgfF4uiTDV\n",
       "+iFSoB15GmBRMd8KsWz04B0+zy8j7uPXb/ApOghQCqT4WJRqYPHwMhasSIF25GHwVOuwjzhtdaEh\n",
       "SSEb/pAtX03e8nqq9UOkQDuyCm6kmO8HMS604HfuiJjj3daT4uP1VMvYKQXakW5UjfXzwdPY3M2J\n",
       "B7TzCS0DSpHM5wV4ijRnX7HmN9ppD0wKzoPL1+3yNuIzFcwueMl69sULa6kGFg9v88amFMl6wuIs\n",
       "29N4Dt3fx/0T4qWuCz4AWz6lPrg9eMs6Sd52O0q1DCgF2vmQx+wINXg9wt0paAvTuuBFOCZtb+mP\n",
       "XXNain5ggUTLgFIk/QAFrv/i0lk4J0xTgjudK77UT9c2X7zB8q/L/d5NtQwoBdr5kArumFkzqQsm\n",
       "kuL2iQAbI59n+3Vny8beeUaYKQdluOXDhJEUXSXkLHa9SU2S5ggnOEKkaPYP2Xm9sAkzETxqB9n7\n",
       "qBraoXo6b9T7iFKgXR4SOX4x3ewbnKXOBc3PK/q5kKO8bykF2qUhpm+He1cClpkz4AJ8qYjdHmyX\n",
       "hlTYq4T/+O/SX8R3y4z+LqoKAAAAAElFTkSuQmCC\n",
       "\" style=\"display:inline;vertical-align:middle;\" /></a></dd>"
      ],
      "text/plain": [
       "<IPython.core.display.HTML object>"
      ]
     },
     "metadata": {},
     "output_type": "display_data"
    },
    {
     "data": {
      "text/html": [
       "<dt><a class=\"ProveItLink\" href=\"../../../../equality/_axioms_.ipynb#equalsTransitivity\">proveit.logic.equality.equalsTransitivity</a></dt><dd><a class=\"ProveItLink\" href=\"../../../../equality/__pv_it/15953cfebb497c481d8be77ed0e16c42a27f82610/expr.ipynb\"><img src=\"data:image/png;base64,iVBORw0KGgoAAAANSUhEUgAAANEAAAAXBAMAAABnpbd1AAAAMFBMVEX///8QEBC6urrMzMxUVFRm\n",
       "ZmZERETc3NwyMjKqqqp2dnaIiIiYmJgiIiLu7u4AAAAU9Wx4AAAAAXRSTlMAQObYZgAAAoBJREFU\n",
       "SMe9VUtoE1EUPZOZZvLrJLQLFVFScKFUMcVC3UglhQotSFYiFiGrVqyLQcQoogQRKihF0Lqwm8GN\n",
       "n0AIWAO2ooNQBD+QlYggRBeKuokIdtOF976Zya+daOHhgXDe3Jt55913PwP8N1TlbdXv73pBvwov\n",
       "XssQUg/6+7pSwANezMpQCnW6njxwlkjPylBa6uR85Zyk64YMpe2dnJ+A2L1c7qIMoUC+kzdIwfye\n",
       "nPwgQ6nLojQUDs1PtDv6evQSIhlgBJjyO+aGCsIGvuOtvY0fjl5lXOGlfurxESBMEe+A4Rd3cCNK\n",
       "ShKw8Bw32+wGjMN06ATQjagtQyme5DEwuo7nDDdbDaTTXZWlBGxdJwcZV8nID9KqkF6gNg6UobDs\n",
       "gdnzDaXIQv+IN2+yopZdEoPh/Ve3RRRm/RfdFuH4R8Y74bgj5Oj2MJWm3aqj/M8fcXOA7ellq6FU\n",
       "1LJbNE7wNaO0otIbghwLtN3HvAugHLyM1vCsLaSwBY2aiWthrsJVdp2tl/agLNzfmm4vGfLyqH+u\n",
       "RLN1chPudT3VcXg1mKCKbsX+5TeXhZfCFr4VYR7DuNgy2ZynuOm9pVlaqUECp+vpqMCYLj582p6m\n",
       "TOwnHSbEO8Y4M2pCZXMPepn2YahJaQCpoHNXSlJJiYJWPIuaUr1zbPrLNHIwHMlHcM5Eb6BGpI7t\n",
       "ytaV1Np9WF7PpPZCnxHkYvDu7aYh6o+Ct/jyZKKIYRu3ynmiaGCzWVcypucWvTYIj5+AuirIRalv\n",
       "5l++Gu3DwdZNToDt2085TmPMoTXQO3wJNbP1o2kGrZ1MvkoneWAPObQWF/yVHrU+xhBesph8leYX\n",
       "OXKHpEKTudkfgDCcYn7TElEAAAAASUVORK5CYII=\n",
       "\" style=\"display:inline;vertical-align:middle;\" /></a></dd>"
      ],
      "text/plain": [
       "<IPython.core.display.HTML object>"
      ]
     },
     "metadata": {},
     "output_type": "display_data"
    },
    {
     "data": {
      "text/html": [
       "<dt><a class=\"ProveItLink\" href=\"../../../../equality/_axioms_.ipynb#substitution\">proveit.logic.equality.substitution</a></dt><dd><a class=\"ProveItLink\" href=\"../../../../equality/__pv_it/8d36a51e21a3e1f2d1a576f0cfdfe721d403af1e0/expr.ipynb\"><img src=\"data:image/png;base64,iVBORw0KGgoAAAANSUhEUgAAAO8AAAAXBAMAAAARnwX+AAAAMFBMVEX///8QEBC6urrMzMxUVFRm\n",
       "ZmZERETc3NwyMjKqqqp2dnaIiIiYmJgiIiLu7u4AAAAU9Wx4AAAAAXRSTlMAQObYZgAAAvdJREFU\n",
       "SMfFVj1oFEEUfvef293bHKayECJYpIk5wcYqRyRGTBPUQgyiNonCgVuI8QfNIggWEq5QsLttDglB\n",
       "OTAemhRZJIVoc7UorE0QLXIYMIUiznszO7O3uznJQfDBm/123jfzZt+99+YA/pd4vS5MNqLYGPw3\n",
       "/63QFr586MHxURzMyQmJUc7EEEOcTInrIr4s9OCY1mQXf3es74shhjk21xvskbu0e786RW7zcFVi\n",
       "irUTZYY577n2sR85U9294wQlRy2AKazFKDPM+cLVeDY3d7eHSA/ReCGASa5GmWFOtsr158zMxx4c\n",
       "n8dh/cC4j28v33rFolmPEBXHrDsw74E2BaTHAWYxSOON6O5dquMRjb98bDrGpwSrkKeUuA9JytDJ\n",
       "0ZJtWAPI21wPgYl5llmZiu7eJen24ZDb8rEGejvPiuRghKg4xzItmGEFXeRaAN1lhkLc13Vx/AOH\n",
       "fNvHJqSJPBohKo6XaODnp9pcdbeACdfv9eBYaymcaMQ7DnBqXmpLOTZt7CnGtWk0L40ts3glmyL7\n",
       "uWM+SW2vKctiPyVoWeH5ErZfCnXmMwlfHeCcA72oQg2zY2h4R6fzTiRYon/vt46oL6bJk5gtDWkA\n",
       "qKivRGxYa6B7YpvOgpcceECnMGyu8IRiQXWQ5Ml6bxiayrGY7DAI/uagj2vuZbgDceWkOHAWRlyQ\n",
       "5SSOVOG0bRpPwWTwN96Wu/gGgGEcRjwfb6x8W8IcvR9xrDiwsXrRYr1ykCsYniwPSBVT/GUg4Bgn\n",
       "r1CopYEdl20BrwN4p5bZwXmuWqa/4g/ATWtUszX2gIFkWzmmSSG+ga4Do1wJXw1auAsFOemWiSm2\n",
       "JBTEVzEP7sab6RfsAY+btnJMk0J8A11ziYVW8IpE+RpJrQCn4GQdoHZl2upk+Gu7HLs5K92IrWNp\n",
       "YHIdjLolsZCJsOMgJ796mj3TFldxga+zSk3x15SVdYbiG4g04CECUfWxXtq54/icl0LF/xEMuiEO\n",
       "yY7mxDuWhr2W8t5t/RfNBeNeS11EOAAAAABJRU5ErkJggg==\n",
       "\" style=\"display:inline;vertical-align:middle;\" /></a></dd>"
      ],
      "text/plain": [
       "<IPython.core.display.HTML object>"
      ]
     },
     "metadata": {},
     "output_type": "display_data"
    },
    {
     "data": {
      "text/html": [
       "</dl>"
      ],
      "text/plain": [
       "<IPython.core.display.HTML object>"
      ]
     },
     "metadata": {},
     "output_type": "display_data"
    },
    {
     "data": {
      "text/html": [
       "<h3>Theorems that depend directly on affirmViaContradiction</h3>"
      ],
      "text/plain": [
       "<IPython.core.display.HTML object>"
      ]
     },
     "metadata": {},
     "output_type": "display_data"
    },
    {
     "data": {
      "text/html": [
       "<dl>"
      ],
      "text/plain": [
       "<IPython.core.display.HTML object>"
      ]
     },
     "metadata": {},
     "output_type": "display_data"
    },
    {
     "data": {
      "text/html": [
       "<dt><a class=\"ProveItLink\" href=\"../../../disjunction/_proofs_/constrainedSingularConstructiveDilemma.ipynb\">proveit.logic.boolean.disjunction.constrainedSingularConstructiveDilemma</a></dt><dd><a class=\"ProveItLink\" href=\"../../../disjunction/__pv_it/91dcc92db0a0e2742101dd5cc04dcd13c4c9284e0/expr.ipynb\"><img src=\"data:image/png;base64,iVBORw0KGgoAAAANSUhEUgAAAP8AAAAWBAMAAAD9bVezAAAAMFBMVEX///8QEBC6urrMzMxUVFRm\n",
       "ZmZERETc3NwyMjKqqqp2dnaIiIiYmJgiIiLu7u4AAAAU9Wx4AAAAAXRSTlMAQObYZgAAAzFJREFU\n",
       "SMfFVk1IVFEUPv48X773fAqtCiqLWhU4C6mFhEMx1s6J5imIlRVOQZBvYRmEf1BILspNQruJoOyH\n",
       "8RVWCxe9FkHRpo0uSmqklGjCItGwpDrn3Pc3NBNGwTsw1/O+9813v3vuuXeEDIQcL2h4HsbM+oNY\n",
       "qxyHm5RfDMPAVRuK99lwGlO5LYT537/GYdSEVdgE0lAIBvqp+zYCaDe6urpDmF9aovEUfhaTyZch\n",
       "GOjto/EtfnYDHGNogMfhBaMhwpkaa8maud+qdpMBN/HpAZBizEg/xD/lHUbiaAD2RA/ZLrQZdDaj\n",
       "feFHrQrUKkpKpgAOC2hw8Lygu83qcIP0IIix04Yyxh8D3PVhX/SNt7YKUFl9ZlnsTRSKv1JSgwsb\n",
       "BsgarWClsptyDCBXpeUE6J4AR/E8Lp7ZCVTy6+iIYvzkkRpRtSv4NkxPCD8WSHQ56WtxqAP1SM8c\n",
       "GlA+5hhAroonp9On+wLldKSmU7haix5fARxg/IovSrGBubR7el8tF8dK8otPEXhKjpXPOMzBE8Ks\n",
       "1NaDQQPMxXyPT/cFuKNGSZjWpc+DJnqjzPREKRrprSS+sIvGUsdozfjYSa6EmIzbwzLW5fQAc++B\n",
       "HPXpApSSGP24rElvL76PN2SgCeHjqz1RinqqT5rTy1zCZ/CIn0awb8hcZYqXlRIVkOqCBpg7C6Wm\n",
       "T/cFAIwIfHPnUfpAW++c/P2OqGhZvAe2iNoVkRd9wuhgoXYsK+1iEXJ1q2QymTxBPaAEDAiuUt0Z\n",
       "oPsCANubgfY6y4WPg77kbFy7KUTFY+05w7mANd4NE+r5PC+JVgUJJ1MyelRUIMeA4OptzQG6AFUD\n",
       "IxEHaHLrWzlEJ+I+4TFXNO/FtA25tjwA8g+QsZvPmPoagGvcZ7wFZwMGmAtwB815dAHqcxi36RQM\n",
       "gRIhuDcD3XEg+AOu3BHNE+8WQW6cKlmGkQVjL1am3oaZ2C30OlvNF1Ey0ISCywfAp7sgVpqKpida\n",
       "0gQrl4zEBafkfFewaOHQvMy7KK9jD3iR87MtB3I7AGfywtCzkl+IHd6VaeZ9X+j/hgL0AvAfwv69\n",
       "FCsyoP0V/A8R/f8/y78A7Q8LPko7h8wAAAAASUVORK5CYII=\n",
       "\" style=\"display:inline;vertical-align:middle;\" /></a></dd>"
      ],
      "text/plain": [
       "<IPython.core.display.HTML object>"
      ]
     },
     "metadata": {},
     "output_type": "display_data"
    },
    {
     "data": {
      "text/html": [
       "<dt><a class=\"ProveItLink\" href=\"../../../disjunction/_proofs_/leftIfNotRight.ipynb\">proveit.logic.boolean.disjunction.leftIfNotRight</a></dt><dd><a class=\"ProveItLink\" href=\"../../../disjunction/__pv_it/343966fa875dce5408c8e426f0a7f1298a2b5be60/expr.ipynb\"><img src=\"data:image/png;base64,iVBORw0KGgoAAAANSUhEUgAAAKsAAAAWBAMAAABNknGBAAAAMFBMVEX///8QEBC6urrMzMxUVFRm\n",
       "ZmZERETc3NwyMjKqqqp2dnaIiIiYmJgiIiLu7u4AAAAU9Wx4AAAAAXRSTlMAQObYZgAAAi1JREFU\n",
       "OMu1lM9LFVEUx7++cRx5897kPxAN0S6htwhaRLyHSrWzzeCmUoKuQZCzEDWidBMPXKib2vZWZRAx\n",
       "SLsWTosgaePmtZCgR5QEikqgFYh47pm58+74A5TGA/fec8585jv3nnvnooETsUXZfc5U8gq119KZ\n",
       "ylR2mtoINWsgS9XCNypsOzVzJkvZh/0+ab8aHX2caQ2CeZf6LSGWslTNNV6ENHQDgxxXuX++6V0t\n",
       "7SFd5VSVs4fSw+8oBzScgzPBlf4dFbwDdkfkTU4+DdlTOxojKWpf6GL8Bg1F2Pzyz23OmhXk/gAr\n",
       "3k0EtZWzKVlCbBrshFKmhUZPT6/k7bDIf9rbOqeLAcxF2HeerJFsfjUlS4hNh2ZYUYlpYQ5okat3\n",
       "Ji7yVwLB6fUSPvn4yFtaO39bl2WE/GuKSkwL6bNFrsdgl+xbcYvTF96/ewBwtQPvdKq2jMzBqigq\n",
       "sWZokWz7hvSe8fQXMM/5WeBDw6hFszUv67KMLKPVjylK5YUQ95oh8Ita2470WuR5cOreED+4S0ua\n",
       "Mb4IcV/WNq/JRkjeHVZUPNU2LRw5U0Vh6K88CgUpZ/oo88n7R0sqOZVotinZCHEG+hTVlNXDlHUC\n",
       "p0KrCmsHVp13hYvwSJNlBHhDn4ypMT+SjcP99mMLVu9XYxuzm951Ws6yy7+D0LYsQnjXFVXmx4YK\n",
       "D7/TEu8l1Tax1L1paX54tGvi0sHpw65jwz+abHg82cL/3XWVY7+xCwdBstD1+LkzAAAAAElFTkSu\n",
       "QmCC\n",
       "\" style=\"display:inline;vertical-align:middle;\" /></a></dd>"
      ],
      "text/plain": [
       "<IPython.core.display.HTML object>"
      ]
     },
     "metadata": {},
     "output_type": "display_data"
    },
    {
     "data": {
      "text/html": [
       "<dt><a class=\"ProveItLink\" href=\"../../../disjunction/_proofs_/rightIfNotLeft.ipynb\">proveit.logic.boolean.disjunction.rightIfNotLeft</a></dt><dd><a class=\"ProveItLink\" href=\"../../../disjunction/__pv_it/592f1a13f46c732fb1dd2053ab93375a25e075e70/expr.ipynb\"><img src=\"data:image/png;base64,iVBORw0KGgoAAAANSUhEUgAAAKsAAAAWBAMAAABNknGBAAAAMFBMVEX///8QEBC6urrMzMxUVFRm\n",
       "ZmZERETc3NwyMjKqqqp2dnaIiIiYmJgiIiLu7u4AAAAU9Wx4AAAAAXRSTlMAQObYZgAAAoFJREFU\n",
       "OMu1VDFs00AUfY2TuMSO25EFFCE2kJIBiaFDLRqlbMkQlwWoAeEOSNRDRZFQaYRUBTpAFpgjhlIW\n",
       "ZCQYUIYaCSQQQ8tQBuiQAbqUAGrSokIp/Ds7sUOjShHmpLv79+//53/vf39U8V/GElveBAYnZxvp\n",
       "zA3gITvcDi7MHh0YTeAKiaIeHOygRVNFL5EbKQUHu2ACi2XIDyYnpwLM1TmabynUTcN4HyBsA7h6\n",
       "mfYhYIwriny9t6FlUn+ZJty913SFfeNa/kKbSdHdhUbl6QoTDkMp8NJYdyqkH1K/I83OzthcamZ0\n",
       "sYmP58DjtrpadwXpO1BTSYhD4s6ftrk+oiJEV2vaaVjltUN+WGXUBuWZzTyQNH2wrjMQpZAkdpDs\n",
       "OP/THi1zfdxCZAnS+etfCDb22Q8bq+XwjMqRgvkAnPFH6zoDfXQp/2AxFI5xUiyD67+m8MrESyZa\n",
       "5SNn/bADUR1RIGxCqUMu+lCbzlSy9PLwFpPGTrA17H4+WXlCieRsW9qBNm5V9owEJoDQz0rG30zC\n",
       "rdhZ2U5z77u8LbzGAtfPUz6qQtmJNjLgg5VL0jcoOoaJjgLkg0w3ZxhGwXPmZSvs51/sYWlQlrVx\n",
       "frpIPJSEd4ZxiXEb88HWtJEd4D6jNpqDstUMVfecMfI7nb7pPFFmmoiJQV6uZJ1MKaoTbRvsKQh1\n",
       "YJUs0VdCqO7Btpx3jaNka4tFiDsQKavDLgnXPNgQBUGVE3tB8nQVUzmIRfeWO3dC/bgJMbsibGN+\n",
       "QztJjWc1wX8Hw0uZktUx8ctmRYDYHS1/i0h0ijXlOO/VhFvSHHEL75m+YXYy33sc76zWuzPfNezu\n",
       "YO1/a3Zq1x5/AJlNttt+3hmaAAAAAElFTkSuQmCC\n",
       "\" style=\"display:inline;vertical-align:middle;\" /></a></dd>"
      ],
      "text/plain": [
       "<IPython.core.display.HTML object>"
      ]
     },
     "metadata": {},
     "output_type": "display_data"
    },
    {
     "data": {
      "text/html": [
       "<dt><a class=\"ProveItLink\" href=\"../../../_proofs_/fromNotFalse.ipynb\">proveit.logic.boolean.fromNotFalse</a></dt><dd><a class=\"ProveItLink\" href=\"../../../__pv_it/c3afa6afb70f3231cb9636f61c09621c1af021a20/expr.ipynb\"><img src=\"data:image/png;base64,iVBORw0KGgoAAAANSUhEUgAAAH0AAAAWCAMAAADabWOOAAAAOVBMVEX///8oKCgUFBQJCQkQEBC6\n",
       "urrMzMxUVFRmZmZERETc3NwyMjKqqqp2dnaIiIiYmJgiIiLu7u4AAACP9cC6AAAAAXRSTlMAQObY\n",
       "ZgAAAZxJREFUSMfFVotuwyAM9LYABsLD/v+PHRACpC2ZNk3UVRHEOc6cbVogeKfFNgt+Ja8sxG4/\n",
       "13apDJbzaHRdtskSC5FpPDLuC8nNjmxKFM4UiyuP7sGzKDPW2aJbSC4Idg5lqmQetRkqwvwIf66i\n",
       "EUP3G1CCSz5aTKj8wA4VwdfNg3Xpg2F49FShVwzK6Ytn7Iaxt7zvexNWUYA8Yib14NJciDl7x5Sa\n",
       "UnDHLlU2rq7MHHuzO4pHWF4LQ0QHe3oc5uwNAw9Z1NO0bVXtpLrs0UoPumAC9gp1IDzSlL1hjt0d\n",
       "3LHXzo5bi1V1VVMcWLrPDv2BuMWbvJ8YZbN9pa+fspt9vOxyNDjc9snps0M6GM+eKsnP2BumJXJ+\n",
       "9lbemk8tt7Zxyh9icchY7gHtz7zDTNCOKauL74Hd6I1LbwbNbGtqQ0spZpfk1DGkrmefs3eMTpp/\n",
       "fthb5e9ukUO10j7KXJU3E+VHzKXbfslORxMaxbnESIvhttH6dTqvmOTpMua8bXn42yXuat6fbXqk\n",
       "fcXPxZTdwhvZw5I/Cep/tvkGTTgSLUkEEJ4AAAAASUVORK5CYII=\n",
       "\" style=\"display:inline;vertical-align:middle;\" /></a></dd>"
      ],
      "text/plain": [
       "<IPython.core.display.HTML object>"
      ]
     },
     "metadata": {},
     "output_type": "display_data"
    },
    {
     "data": {
      "text/html": [
       "<dt><a class=\"ProveItLink\" href=\"../../_proofs_/denyViaContradiction.ipynb\">proveit.logic.boolean.implication.denyViaContradiction</a></dt><dd><a class=\"ProveItLink\" href=\"../f587695ff863e59687e1a43c82141192138bb4960/expr.ipynb\"><img src=\"data:image/png;base64,iVBORw0KGgoAAAANSUhEUgAAAJ4AAAAXBAMAAAAIFOtYAAAAMFBMVEX///8QEBC6urrMzMxUVFRm\n",
       "ZmZERETc3NwyMjKqqqp2dnaIiIiYmJgiIiLu7u4AAAAU9Wx4AAAAAXRSTlMAQObYZgAAAiRJREFU\n",
       "OMtjYKAyeEC+VqYNaAI8CgwMF0CM02SZZ4LCswXiYAaGlSB2H1nmoerqB2IOBoYyIMWeQI5x3Cje\n",
       "5bkPDDmeBQwcQIp1AjnmMaIEfWV8AQMDnwADz/Ly8lqyvKuBwtuwHxgZDJkMDN/S0m6RZV4USlw/\n",
       "mH8ASC1lYHBmYEgHC7Wja1CAMdqxmteDzHnEYA8KzhkMDCoMfA3gAP0EDdiurtYDYBYslmAyEMAG\n",
       "YwgBA/4uCCwA210fAKQUGRh4GbjB2p/+ARKvQ2MYNix4rYRiHlgG0zyYLcwOQOzi4g9Sbg+M9gO8\n",
       "4IhadxXITqp7BzSP6w2KeSAZIOCcgNs8JmB0N0DM42sAp3PmDWkMDEfBMbVAOw7ZPLAMCKSjmieJ\n",
       "ZB7QKl4BiH8Z0p1AoiwMsQwM4IDcECqLEn4gGdY0IGg0QDEvB2EeO9A8jg9A9gkgngrOwicZ9jMw\n",
       "L4C4j9Ua2TyQDASEGiCbtxTGMGB4ARL/BxVjBEU039XQ/AfM19LSskHhx4VkHlgGotEsHNk8XXgU\n",
       "lcm3M/Dk/wBGcBMoOYBUsxYw2BvwOUDch2IeWIY7FAhCAlD8y1iAkST5BGAsHQYG/gMM7lD/ViOZ\n",
       "B5bhewcEq1Hjg2cBhnlcsCLiyTcGdv87DM8UwOk5DSk+oDLQeGQIS0tMS1uArbwCgRfoAsuA4QcH\n",
       "aKUYO3pRXoJhnjveDE+oVGRHL++5DSgyj1TgQIYeABPOjxVzQ9CDAAAAAElFTkSuQmCC\n",
       "\" style=\"display:inline;vertical-align:middle;\" /></a></dd>"
      ],
      "text/plain": [
       "<IPython.core.display.HTML object>"
      ]
     },
     "metadata": {},
     "output_type": "display_data"
    },
    {
     "data": {
      "text/html": [
       "<dt><a class=\"ProveItLink\" href=\"../../_proofs_/modusTollensAffirmation.ipynb\">proveit.logic.boolean.implication.modusTollensAffirmation</a></dt><dd><a class=\"ProveItLink\" href=\"../1e53822dd2e5906bb78831332efe5d682d4a6abe0/expr.ipynb\"><img src=\"data:image/png;base64,iVBORw0KGgoAAAANSUhEUgAAAOoAAAAZBAMAAADNvK/KAAAAMFBMVEX///8QEBC6urrMzMxUVFRm\n",
       "ZmZERETc3NwyMjKqqqp2dnaIiIiYmJgiIiLu7u4AAAAU9Wx4AAAAAXRSTlMAQObYZgAAAyZJREFU\n",
       "SMfFlk9IFFEcx7/u7O64O+ModAmiWEK6FLkHD0EHlzLrlpATBBVWOAZRzkHc/qDtRSQPuYcMog5L\n",
       "B7NLTFAnhbZD0R+KDbKgMvZQIVkWiloY1vszO+9t665FKz2YN++9me/7/N77/d4foGQKjr9EuZNv\n",
       "/NUyf1RhJVLnf6Jml6EaK0LN0Nfj4lQ2Wt0pF1DJMOp1Wj5fnBpOkldltlzUyq+M2kVytbU4lX3r\n",
       "KtvkPllkVDqMQLJENNF52FcuqDo4z6j6tXi8u1QMP4rH45lyUTVtmq+cOct6VYpabVnHU0tYHZUq\n",
       "oT+lbg794NTtQDtr6Vua6o8iaAMXZ80mBvLxL6fFT31QZLNCHWbLEVH1hCQZEWWBU2thJNjqmOZf\n",
       "9P7+3rRE9cUwQZtroNWwTZJ/EQFIhVdlU+8CN0XNEzKL1VlOrYLGIO/p2CfN/XBSk+vlvSmDUZIH\n",
       "YvDNC2pIrGAqnJCpLUCd7dU8IUn1jY1znKqlq9hqvDFGyod7pgg1/EmmjuItLTkIZAQ1KLqlQj+f\n",
       "w0ssfw0ckJyUE5IUAVZzqpGoZ5uGYwH3aMlJbTwoUyeUGMm/RPHAFtQKsdtQoeYIW4wZ6FKMeEIe\n",
       "dM/c3b99G23xU/uYgx1zrexXBDuJiagbuXUCgrrF65UJifP3WpZ1dBV13sJIk7SXeULgFHkGXOog\n",
       "G/9D3HFD0UkFtsrUEJuuYRIlWUGtBYYIJsGFUBKuE/cA4QT0daQcpmZIQh61HVlOraCzY4yZHVnl\n",
       "hWUdo34N5510a2jWRuYqKagXcpHMhB5VabMRbIbxPXcrkITqoW827v/s5VSdWhKw0RA1Ynysv1Gf\n",
       "0oz0UxcV1A05KhPC14rbJkk7SFt1Er4ZQfWES5zqm8jfaex0Z/hMwamuLkIdk/z6OUflQj2FKZI+\n",
       "0mk7m0V3M066oSeEhdR3c1B3v8GHCNslrHQBdXjW3JWUqHy1IeoKAxG+Hqk7B8yWc0AD60ORhMVv\n",
       "MEPEr8vcYDhVy++pkr96pKZ0We9NnGrkH8mXCy8N9gpQcSWvMVbwm/4vd8TC+7Df7VWOy/Df3HB8\n",
       "489/ATf442jejRCQAAAAAElFTkSuQmCC\n",
       "\" style=\"display:inline;vertical-align:middle;\" /></a></dd>"
      ],
      "text/plain": [
       "<IPython.core.display.HTML object>"
      ]
     },
     "metadata": {},
     "output_type": "display_data"
    },
    {
     "data": {
      "text/html": [
       "</dl>"
      ],
      "text/plain": [
       "<IPython.core.display.HTML object>"
      ]
     },
     "metadata": {},
     "output_type": "display_data"
    }
   ],
   "source": [
    "%dependencies affirmViaContradiction"
   ]
  }
 ],
 "metadata": {
  "kernelspec": {
   "display_name": "Python 3",
   "language": "python",
   "name": "python3"
  }
 },
 "nbformat": 4,
 "nbformat_minor": 0
}
