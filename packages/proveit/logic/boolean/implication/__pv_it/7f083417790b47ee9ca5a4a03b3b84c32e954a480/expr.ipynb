{
 "cells": [
  {
   "cell_type": "markdown",
   "metadata": {},
   "source": [
    "Expression of type <a class=\"ProveItLink\" href=\"../../../../../../../doc/html/api/proveit.logic.Set.html\">Set</a>\n",
    "=======================\n",
    "# from context <a class=\"ProveItLink\" href=\"../../_context_.ipynb\">proveit.logic.boolean.implication</a>"
   ]
  },
  {
   "cell_type": "code",
   "execution_count": 1,
   "metadata": {},
   "outputs": [],
   "source": [
    "# import Expression classes needed to build the expression\n",
    "from proveit._common_ import B\n",
    "from proveit.logic import Booleans, FALSE, Implies, InSet, Set"
   ]
  },
  {
   "cell_type": "code",
   "execution_count": 2,
   "metadata": {},
   "outputs": [
    {
     "data": {
      "text/html": [
       "<strong id=\"expr\">expr:</strong> <a class=\"ProveItLink\" href=\"expr.ipynb\"><img src=\"data:image/png;base64,iVBORw0KGgoAAAANSUhEUgAAAJUAAAAVBAMAAAC9PLGkAAAAMFBMVEX////c3NxERESqqqpUVFS6\n",
       "urrMzMwyMjIQEBCIiIh2dnYiIiLu7u5mZmaYmJgAAABXZE4RAAAAAXRSTlMAQObYZgAAAc5JREFU\n",
       "OMtjYGDgu8dAMWBbJQCieHYxUAGwNYNIzg9Ags//i4tTKar08k/1FZsMoBxsCiCAcQKYug4iuBpA\n",
       "JIcCA8P9AFRVCpE8NatgHGwKIC66AKZWIMzKB5qe74BuFsNUdhgHVQEPPrPmA8Pu/QKw6Mnq3dth\n",
       "ZtmxHIBqQVIABOwH8JilAcQ7wArY6g4guUsIpgWhAARYHfCY9YWBQVwHLCh0AOFHtn06MA5CARis\n",
       "xGoWbwFI4MvMufsgcoqI8Ire/2MCTAdcwe3dILD/AppZ70FEBihyOD8yMJwGu5tHATnsZxpB2QgF\n",
       "UGAegGoWO5BKaQOxmIAe5fwHDoluoK3wsGdihQY3QgEsJisCUMxiUH/AwBCRAGTwA63k+wWWckB2\n",
       "FxMD1JkIBVCQvgbVXdwgS1lA4ZUPNJTlM9i+DVjNQiiAhNduHWzhxbUBmnrkC8CCfihmAf14gAFV\n",
       "ARiY4E4TwNTD1g5JDKcDkMx6O4mB5zcDqgJwJizAadal/y4u5Q+gymoT4Hlbu8WAgadfAFUBOCoE\n",
       "IDQv0LfAyFJASatIgNkdGo+wNC6AJUNjiGA3Cx3wEVWAgc3io45Z4PKLZycBVROIKldbIfYuplJ5\n",
       "DwCXzZlUoRpp2wAAAABJRU5ErkJggg==\n",
       "\" style=\"display:inline;vertical-align:middle;\" /></a><br>"
      ],
      "text/plain": [
       "expr: {B in BOOLEANS , B => FALSE}"
      ]
     },
     "execution_count": 2,
     "metadata": {},
     "output_type": "execute_result"
    }
   ],
   "source": [
    "# build up the expression from sub-expressions\n",
    "expr = Set(InSet(B, Booleans), Implies(B, FALSE))"
   ]
  },
  {
   "cell_type": "code",
   "execution_count": 3,
   "metadata": {},
   "outputs": [
    {
     "name": "stdout",
     "output_type": "stream",
     "text": [
      "Passed sanity check: built 'expr' is the same as the stored Expression.\n"
     ]
    }
   ],
   "source": [
    "# check that the built expression is the same as the stored expression\n",
    "%check_expr"
   ]
  },
  {
   "cell_type": "code",
   "execution_count": 4,
   "metadata": {},
   "outputs": [
    {
     "data": {
      "text/html": [
       "<table><tr><th>&nbsp;</th><th>core type</th><th>sub-expressions</th><th>expression</th></tr>\n",
       "<tr><td>0</td><td>Operation</td><td>operator:&nbsp;1<br>operands:&nbsp;2<br></td><td><a class=\"ProveItLink\" href=\"expr.ipynb\"><img src=\"data:image/png;base64,iVBORw0KGgoAAAANSUhEUgAAAJUAAAAVBAMAAAC9PLGkAAAAMFBMVEX////c3NxERESqqqpUVFS6\n",
       "urrMzMwyMjIQEBCIiIh2dnYiIiLu7u5mZmaYmJgAAABXZE4RAAAAAXRSTlMAQObYZgAAAc5JREFU\n",
       "OMtjYGDgu8dAMWBbJQCieHYxUAGwNYNIzg9Ags//i4tTKar08k/1FZsMoBxsCiCAcQKYug4iuBpA\n",
       "JIcCA8P9AFRVCpE8NatgHGwKIC66AKZWIMzKB5qe74BuFsNUdhgHVQEPPrPmA8Pu/QKw6Mnq3dth\n",
       "ZtmxHIBqQVIABOwH8JilAcQ7wArY6g4guUsIpgWhAARYHfCY9YWBQVwHLCh0AOFHtn06MA5CARis\n",
       "xGoWbwFI4MvMufsgcoqI8Ire/2MCTAdcwe3dILD/AppZ70FEBihyOD8yMJwGu5tHATnsZxpB2QgF\n",
       "UGAegGoWO5BKaQOxmIAe5fwHDoluoK3wsGdihQY3QgEsJisCUMxiUH/AwBCRAGTwA63k+wWWckB2\n",
       "FxMD1JkIBVCQvgbVXdwgS1lA4ZUPNJTlM9i+DVjNQiiAhNduHWzhxbUBmnrkC8CCfihmAf14gAFV\n",
       "ARiY4E4TwNTD1g5JDKcDkMx6O4mB5zcDqgJwJizAadal/y4u5Q+gymoT4Hlbu8WAgadfAFUBOCoE\n",
       "IDQv0LfAyFJASatIgNkdGo+wNC6AJUNjiGA3Cx3wEVWAgc3io45Z4PKLZycBVROIKldbIfYuplJ5\n",
       "DwCXzZlUoRpp2wAAAABJRU5ErkJggg==\n",
       "\" style=\"display:inline;vertical-align:middle;\" /></a></td></tr>\n",
       "<tr><td>1</td><td>Literal</td><td></td><td><a class=\"ProveItLink\" href=\"../../../../set_theory/enumeration/__pv_it/07381ed5b23806e8d7914b78cb6667769e3708dd0/expr.ipynb\"><img src=\"data:image/png;base64,iVBORw0KGgoAAAANSUhEUgAAAB4AAAAOBAMAAADKyLEKAAAAMFBMVEX///8iIiIQEBCIiIjMzMzc\n",
       "3Nyqqqp2dnZEREQyMjK6urru7u5mZmZUVFSYmJgAAACI6eGPAAAAAXRSTlMAQObYZgAAALRJREFU\n",
       "CNdjYGDgu3Nm3wIGBJjHwN0PZW5yYGDgLWBgyITy8zcwMMQDxZyh/INAvD6BgcEFypcB4vjPDiBm\n",
       "TPFRrhs/LjMwMP//38rAwCbKEMPA9gEkE3fp0waG+AUMRxh4JkC01T9guPTOOICBEWgVH5C//wHD\n",
       "H5D4fqCz9oCMDGD4DLaegRXslLMMDMpAgxlOMmQxHDRgYG5gYLBk4D7KcIe7gOHC2rt9QCXsh40Z\n",
       "GCKMGQDRkC8N/Ph1XAAAAABJRU5ErkJggg==\n",
       "\" style=\"display:inline;vertical-align:middle;\" /></a></td></tr>\n",
       "<tr><td>2</td><td>ExprTuple</td><td>3, 4</td><td><a class=\"ProveItLink\" href=\"../602eb175de166c5fa60d9896b9ad7ff7bf52a4440/expr.ipynb\"><img src=\"data:image/png;base64,iVBORw0KGgoAAAANSUhEUgAAAI8AAAAVBAMAAACNsKCFAAAAMFBMVEX////c3NwiIiJERESqqqqY\n",
       "mJh2dnZmZmYQEBDu7u4yMjJUVFTMzMyIiIi6uroAAAAs73DqAAAAAXRSTlMAQObYZgAAAddJREFU\n",
       "OMtjYKAa4LtAuRlxIOI0EEf/373b6gGKHNt6q19NJjAeFgVQIAsi2A8AiZUgVjOQ8w9VBTPfhVnT\n",
       "EmA8LAog4DiYXMDAwAvyGc9fIP6NYRDvgwVQDpqCCegGhTEwcIAEeT8yMLB+Awtx3lJSWgA1iCVg\n",
       "J1Q5kgIGmC+QDZrBwPAKrKmBgYGpEyx0KhLJRQ8NYByEAhB4jW4QswNDGYjm38DAuBjsXkZLJK8d\n",
       "Cob5AaEAEhMX0AxiK2BYCqLP771bFADRLoAwSOl/L4wDV8CuBAbf0QxiWcDQB6LvCzBwaoNFJqME\n",
       "9hWY1xAKIIBlHapBfA0M4Di1AKkF2/gCZB8ssBkMnkGVIxRAwaw+FIN4PkAMAkVsfAIsecJdxGDA\n",
       "DOUgFECTw7IJ6Aa1gKivQGK/A0hkElaDEAqgYaQ8AcNrptBUwvgLLMIdgGLQMwZOBlQFkCDagBbY\n",
       "rAsY0qGp5AQkkXHqIRnEWmvAMF8BVQEYSDFgRv8joHPtf+/etRSmpgaeaT9rbAGm2Y9oCkDAEEoX\n",
       "KSlpAP3JwMD1gIFDAC0Xei9SWoDMf4glpx5AFwBmEdYEAmVNADEFUi5qBiTbIE6QH6Txq+ElxkHc\n",
       "oPBhpEJRe4eBAQA3cZJwA6YNAwAAAABJRU5ErkJggg==\n",
       "\" style=\"display:inline;vertical-align:middle;\" /></a></td></tr>\n",
       "<tr><td>3</td><td>Operation</td><td>operator:&nbsp;5<br>operands:&nbsp;6<br></td><td><a class=\"ProveItLink\" href=\"../41a86ef0ff9417c73c472e1bdfa161b308e2753e0/expr.ipynb\"><img src=\"data:image/png;base64,iVBORw0KGgoAAAANSUhEUgAAADcAAAAPBAMAAACy3Eq1AAAAMFBMVEX///+qqqru7u4iIiJ2dnbc\n",
       "3NyIiIjMzMxmZmYQEBC6uroyMjJERERUVFSYmJgAAADLUcuvAAAAAXRSTlMAQObYZgAAAOZJREFU\n",
       "GNNjYGB4+//u3dMLGJCB95/9O20EwMw5DAwcv1AkGQ4sY9rkAmKwfwPiv+iSDFncIAbbVwYGvi9g\n",
       "MbXNxtYwSTleBSCDZwIDA/MksBn7FJB0xoAY/BcYWPeARWMUEMay2x0CMeqvpTU/AAsdRdi52P5n\n",
       "AoiRH8DAZAtiMB1AdlCaDIhxEqQApJVrsrExwkE8XA5ABsgX70EM9gvIOnkYgAax/wNy7oOCg8kA\n",
       "QxLkTdbfYKF7KJIgY0HerNwEFlJegCT5IgcYquf/3r29DyLEuqMAHvCH5wqghigD422oayEAAEv1\n",
       "Sz0foy5uAAAAAElFTkSuQmCC\n",
       "\" style=\"display:inline;vertical-align:middle;\" /></a></td></tr>\n",
       "<tr><td>4</td><td>Operation</td><td>operator:&nbsp;7<br>operands:&nbsp;8<br></td><td><a class=\"ProveItLink\" href=\"../835b1d39462fab0430f60668935b15097d0255760/expr.ipynb\"><img src=\"data:image/png;base64,iVBORw0KGgoAAAANSUhEUgAAAEAAAAAPBAMAAACmSdRUAAAAMFBMVEX///+qqqru7u4iIiJ2dnbc\n",
       "3NyIiIjMzMxmZmYQEBC6uroyMjJERERUVFSYmJgAAADLUcuvAAAAAXRSTlMAQObYZgAAALhJREFU\n",
       "GNNjYGB4+//u3dMLGLCAMCg9h4GB4xc2BRUQiv0bEP+FizJhKGD7ysDA9wUuyq2AroBnAgMD8yS4\n",
       "KNcFdAX8FxhY9yC0MbihK6i/ltb8AMxqNgYB+wY0BfkBDEy2yI6XXoCq4CRI0QMkBUw7F6AoAPnw\n",
       "vQOSgmonFBPY/wGJ+wIINxgfQnUDKBhYfyMZIIvmC1AwVG5CyLNuQFXAcf7v3dv7kAzgCWCA+dnS\n",
       "2NgGM4bYUbkAa+cxxpnXojYAAAAASUVORK5CYII=\n",
       "\" style=\"display:inline;vertical-align:middle;\" /></a></td></tr>\n",
       "<tr><td>5</td><td>Literal</td><td></td><td><a class=\"ProveItLink\" href=\"../../../../set_theory/membership/__pv_it/088cbc857536a28d4119ad9639a84270ccb0545d0/expr.ipynb\"><img src=\"data:image/png;base64,iVBORw0KGgoAAAANSUhEUgAAAAwAAAAMBAMAAACkW0HUAAAALVBMVEX///+qqqpmZmZUVFQQEBC6\n",
       "urpERETc3NyYmJjMzMwiIiIyMjKIiIju7u4AAACYsrA9AAAAAXRSTlMAQObYZgAAADxJREFUCNdj\n",
       "YOA9vWrVBgaG2b0MQMCeCyIZ2ArA1DUwyRCyahVIyWQI7xaEYm4AU7xLIdxqTQgtvGvVBgCkcQ7e\n",
       "geM/tQAAAABJRU5ErkJggg==\n",
       "\" style=\"display:inline;vertical-align:middle;\" /></a></td></tr>\n",
       "<tr><td>6</td><td>ExprTuple</td><td>10, 9</td><td><a class=\"ProveItLink\" href=\"../46fef8cd01e90537d7ca36d1ba2c809996ed4b3a0/expr.ipynb\"><img src=\"data:image/png;base64,iVBORw0KGgoAAAANSUhEUgAAADQAAAAVBAMAAAD7ptBLAAAAMFBMVEX////c3NwiIiJERESqqqqY\n",
       "mJh2dnZmZmYQEBDu7u4yMjJUVFTMzMyIiIi6uroAAAAs73DqAAAAAXRSTlMAQObYZgAAASVJREFU\n",
       "KM9jYMAD+C5gE2V9ACROA3H0/927rR6AxbI+r1+h7MDAUANkrwQJNDMwsP+DqDd4y7kyjYGBi4GB\n",
       "F2Qez18g/g2TYrgHFGdNYOCYAOTyfgSyv8GlXLknMHA2MLwCcZkbGBiYOhG6hIG0CUMZiMu/gYFx\n",
       "8QSYFI+qJZBOZ1gK4p7fe7coAOpsg0f6P0D2ezH0gbj3BRg4tRngBt51BtIvGMBOtgBJB8ClmPkS\n",
       "gCZBpEDujk9ASDEYgKRaQN76CiT2O6BKvWAwhXqL8RcDAyeygVFAN0K8dQIYYPMVIFLhl8GOfwQM\n",
       "Pfvfu3eBPDHjIzh4jbpBZq9j4BBAioqHCCYwoFgTkKQCEEy2C9BIwZSaBcTSCC4vkqqNQMyINQHw\n",
       "HmAAAHCOVkQeB6BvAAAAAElFTkSuQmCC\n",
       "\" style=\"display:inline;vertical-align:middle;\" /></a></td></tr>\n",
       "<tr><td>7</td><td>Literal</td><td></td><td><a class=\"ProveItLink\" href=\"../e5c030cabcb650938f92dee8256fe11cd12bf9b30/expr.ipynb\"><img src=\"data:image/png;base64,iVBORw0KGgoAAAANSUhEUgAAABMAAAANBAMAAAC5okgUAAAALVBMVEX////c3NxERETMzMwQEBCq\n",
       "qqoiIiJmZmaIiIh2dnZUVFS6uroyMjLu7u4AAACPpZJTAAAAAXRSTlMAQObYZgAAAD1JREFUCNdj\n",
       "YAABXgY44LkAZ3IvQAjPABFlaSCQV4AQjtkAZ/IegbNt5sLUpunC5aPgLMYDcCaTAJzJDCIA2yMN\n",
       "HCCUuIIAAAAASUVORK5CYII=\n",
       "\" style=\"display:inline;vertical-align:middle;\" /></a></td></tr>\n",
       "<tr><td>8</td><td>ExprTuple</td><td>10, 11</td><td><a class=\"ProveItLink\" href=\"../25967a172fcd6c24495155e4ca7b42be9ebe38700/expr.ipynb\"><img src=\"data:image/png;base64,iVBORw0KGgoAAAANSUhEUgAAADYAAAAVBAMAAAD/UwB2AAAAMFBMVEX////c3NwiIiJERESqqqqY\n",
       "mJh2dnZmZmYQEBDu7u4yMjJUVFTMzMyIiIi6uroAAAAs73DqAAAAAXRSTlMAQObYZgAAAPZJREFU\n",
       "KM9jYMAH+C5gFWZ9ACROA3H0/927rR7AhBnBqmuAeCWI0czAwP4PJsdTACK5GBh4QYp4/gLxb1Q5\n",
       "1gQGjglAmvcjkP0NVY6zgeEViGZuYGBg6kSVYzBhKANR/BsYGBdPQJNLZ1gKos7vvVsUwIAm58XQ\n",
       "B6LuCzBwaqPLvWAAu9wCJB+AJnceIgdyfnwChlwLiPMVSOx3wDDTFOo9xl8MDBNQ5KKALoV478RK\n",
       "Bs5PaH54BAxJ+9+7dwH9wtkvAOQoKSk1KSkZMDCsY+AQQIouJDYozFgTkOIMOQLZLkDjCIvcLCCW\n",
       "RnBRUsBGeCxjAN4DDAB9IEBfqvNStwAAAABJRU5ErkJggg==\n",
       "\" style=\"display:inline;vertical-align:middle;\" /></a></td></tr>\n",
       "<tr><td>9</td><td>Literal</td><td></td><td><a class=\"ProveItLink\" href=\"../../../__pv_it/46271c8230be96415d662709611f4ed2279d702b0/expr.ipynb\"><img src=\"data:image/png;base64,iVBORw0KGgoAAAANSUhEUgAAAA0AAAAOBAMAAAAGUYvhAAAAMFBMVEX///9mZmbMzMzc3NxUVFSY\n",
       "mJju7u6IiIi6urqqqqoiIiIQEBBEREQyMjJ2dnYAAAAQvcRZAAAAAXRSTlMAQObYZgAAAElJREFU\n",
       "CNdjePvn/u01ExgYGA60s117B6YZKngh9FSWBAjfBsxnWnoMRHet/10AkS+fA6F5OB5AaIYDqDRU\n",
       "PLCGgQFoz6ktExgAgLIl8DFvGtkAAAAASUVORK5CYII=\n",
       "\" style=\"display:inline;vertical-align:middle;\" /></a></td></tr>\n",
       "<tr><td>10</td><td>Variable</td><td></td><td><a class=\"ProveItLink\" href=\"../../../../../__pv_it/077b2ff79244fb4582cbe22c6e3356fa92a52f2f0/expr.ipynb\"><img src=\"data:image/png;base64,iVBORw0KGgoAAAANSUhEUgAAABAAAAAOBAMAAADUAYG5AAAAMFBMVEX///+qqqru7u4iIiJ2dnbc\n",
       "3NyIiIjMzMxmZmYQEBC6uroyMjJERERUVFSYmJgAAADLUcuvAAAAAXRSTlMAQObYZgAAAGpJREFU\n",
       "CNdjYGB4+//u3dMLGIBgDgMDxy8gzf4NiP8CGWxfGRj4vgAZPBMYGJgnARn8FxhY9ygAGfXX0pof\n",
       "gDTlBzAw2YIYJ0EckBBI53sHoBH/gIz7AhBjWH9DjancBLTl/N+7t/cxMAAA3u4f/5xagjYAAAAA\n",
       "SUVORK5CYII=\n",
       "\" style=\"display:inline;vertical-align:middle;\" /></a></td></tr>\n",
       "<tr><td>11</td><td>Literal</td><td></td><td><a class=\"ProveItLink\" href=\"../../../__pv_it/8f1f7fac882de28c72b62ab80a1700b6d8fd066b0/expr.ipynb\"><img src=\"data:image/png;base64,iVBORw0KGgoAAAANSUhEUgAAAA4AAAAOBAMAAADtZjDiAAAAG1BMVEX///9EREQQEBAiIiJmZmbM\n",
       "zMyIiIjc3NwAAACryk5kAAAAAXRSTlMAQObYZgAAABlJREFUCNdjYGBgKGOAgBBa0s7GxkbGxoYA\n",
       "FMUF2aBfHgoAAAAASUVORK5CYII=\n",
       "\" style=\"display:inline;vertical-align:middle;\" /></a></td></tr>\n",
       "</table>\n"
      ],
      "text/plain": [
       "0. {B in BOOLEANS , B => FALSE}\n",
       "   core type: Operation\n",
       "   operator: 1\n",
       "   operands: 2\n",
       "1. Set\n",
       "   core type: Literal\n",
       "   sub-expressions: \n",
       "2. (B in BOOLEANS , B => FALSE)\n",
       "   core type: ExprTuple\n",
       "   sub-expressions: 3, 4\n",
       "3. B in BOOLEANS\n",
       "   core type: Operation\n",
       "   operator: 5\n",
       "   operands: 6\n",
       "4. B => FALSE\n",
       "   core type: Operation\n",
       "   operator: 7\n",
       "   operands: 8\n",
       "5. in\n",
       "   core type: Literal\n",
       "   sub-expressions: \n",
       "6. (B , BOOLEANS)\n",
       "   core type: ExprTuple\n",
       "   sub-expressions: 10, 9\n",
       "7. =>\n",
       "   core type: Literal\n",
       "   sub-expressions: \n",
       "8. (B , FALSE)\n",
       "   core type: ExprTuple\n",
       "   sub-expressions: 10, 11\n",
       "9. BOOLEANS\n",
       "   core type: Literal\n",
       "   sub-expressions: \n",
       "10. B\n",
       "    core type: Variable\n",
       "    sub-expressions: \n",
       "11. FALSE\n",
       "    core type: Literal\n",
       "    sub-expressions: "
      ]
     },
     "execution_count": 4,
     "metadata": {},
     "output_type": "execute_result"
    }
   ],
   "source": [
    "# display the expression information\n",
    "expr.exprInfo()"
   ]
  },
  {
   "cell_type": "code",
   "execution_count": null,
   "metadata": {},
   "outputs": [],
   "source": []
  }
 ],
 "metadata": {
  "kernelspec": {
   "display_name": "Python 3",
   "language": "python",
   "name": "python3"
  }
 },
 "nbformat": 4,
 "nbformat_minor": 0
}
