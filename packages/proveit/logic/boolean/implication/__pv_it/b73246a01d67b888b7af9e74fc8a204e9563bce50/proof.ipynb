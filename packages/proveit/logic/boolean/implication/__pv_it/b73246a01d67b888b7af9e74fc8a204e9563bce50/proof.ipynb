{
 "cells": [
  {
   "cell_type": "markdown",
   "metadata": {},
   "source": [
    "Show the Proof\n",
    "========"
   ]
  },
  {
   "cell_type": "code",
   "execution_count": 1,
   "metadata": {},
   "outputs": [
    {
     "data": {
      "text/html": [
       "<table><tr><th>&nbsp;</th><th>step type</th><th>requirements</th><th>statement</th></tr>\n",
       "<tr><td>0</td><td>assumption</td><td></td><td><span style=\"font-size:20px;\"><a class=\"ProveItLink\" href=\"../3b18e78f8fa8a1e2b09ab0a1acc3b742dbc0eb5f0/expr.ipynb\"><img src=\"data:image/png;base64,iVBORw0KGgoAAAANSUhEUgAAAFUAAAAVBAMAAADFg78FAAAAMFBMVEX////c3NxERESqqqpUVFS6\n",
       "urrMzMwyMjIQEBCIiIh2dnYiIiLu7u5mZmaYmJgAAABXZE4RAAAAAXRSTlMAQObYZgAAAVNJREFU\n",
       "KM9jYGDgu8dAELCtEgBRPLsYiABszSCS8wOYc1Ll7gNZTDVT/ru4FCUAGddBPK4GMNnHwBDbh8XA\n",
       "7wwMzJ+B9Aq4Wp7qA0DWR7iKA3C7fwGJ+weQ1bL3AAnWBrjaGhiD8yuQyJ+ArPa+AZBgvABXGwJj\n",
       "MIF8I++ApJbxOzhEEuBquSZAGfwKIHNhankLgPgfXBXvbjD4C+WCrGd4vwCIQbyMAAYG7o/o3mcu\n",
       "hdDzQXb5A5WwAx2Y0gayCRzGPMiKj7eCKX0Q0QEi1B8wMEQAdXKA1Zohx1MVJNg+ATEfyIXcQHcw\n",
       "sADdy/IHJH4Byb2bIErZfgIJDpD/wO7l2gAV4jqA5FwHaPB+A9l+ACXe3hswsF5EcoI4UvCmg+1D\n",
       "qGVz972M7DNFCHVW/4uL0zUGVLXoIAFDBLdaBuxq+YhTC06/PDuJyheQqOFbTGR+AwCipl9JaOC+\n",
       "AAAAAABJRU5ErkJggg==\n",
       "\" style=\"display:inline;vertical-align:middle;\" /></a> <a class=\"ProveItLink\" href=\"proof.ipynb\" style=\"text-decoration: none\">&#x22A2;&nbsp;</a><a class=\"ProveItLink\" href=\"../6f3ac3ee98d7d73c5c4a060e1790921d9db969b00/expr.ipynb\"><img src=\"data:image/png;base64,iVBORw0KGgoAAAANSUhEUgAAAEAAAAAPBAMAAACmSdRUAAAAMFBMVEX////MzMyqqqoiIiIyMjK6\n",
       "uroQEBB2dnbc3NyYmJhmZmZUVFRERESIiIju7u4AAAB204erAAAAAXRSTlMAQObYZgAAAPdJREFU\n",
       "GNNjYGDgu7NrJccCBnTAu//37i0HQayyCQysyyZgKGDgd2Bg0FdgYHhiB+TUN8CE+eAK5AsYGLj+\n",
       "MTC4PQBywuDCLA9grPsBDAyMfxm4PoE4XXAFrBtgrPNAzPGbod8BxHmIsLoWxvgDxIy/GdYjnLfY\n",
       "GATsoR4Cms7AwPmdwb4B3fUqARBvfgQS3F8Z/oN5D5AU8LmBVfB8ABJsCQz5IA6TAJICkTpIMBwA\n",
       "EvMnMOwHaeZCcoPxOWgwXAASOVC6DskAbVgwAE3l8QO6ExgOUUgO5XBABAOjF4gh7b1KAckAHohi\n",
       "vjX/d+8+JYAZQwyMaHwAqVQ7u7auAMUAAAAASUVORK5CYII=\n",
       "\" style=\"display:inline;vertical-align:middle;\" /></a></span></td></tr>\n",
       "</table>"
      ],
      "text/plain": [
       "<proveit._core_.proof._ShowProof at 0x7f950002d2e8>"
      ]
     },
     "execution_count": 1,
     "metadata": {},
     "output_type": "execute_result"
    }
   ],
   "source": [
    "import proveit\n",
    "%show_proof"
   ]
  },
  {
   "cell_type": "code",
   "execution_count": null,
   "metadata": {},
   "outputs": [],
   "source": []
  }
 ],
 "metadata": {
  "kernelspec": {
   "display_name": "Python 3",
   "language": "python",
   "name": "python3"
  }
 },
 "nbformat": 4,
 "nbformat_minor": 0
}
