{
 "cells": [
  {
   "cell_type": "markdown",
   "metadata": {},
   "source": [
    "Expression of type <a class=\"ProveItLink\" href=\"../../../../../../../doc/html/api/proveit.logic.Forall.html\">Forall</a>\n",
    "=======================\n",
    "# from context <a class=\"ProveItLink\" href=\"../../_context_.ipynb\">proveit.logic.boolean.implication</a>"
   ]
  },
  {
   "cell_type": "code",
   "execution_count": 1,
   "metadata": {},
   "outputs": [],
   "source": [
    "# import Expression classes needed to build the expression\n",
    "from proveit._common_ import Px, Py, x, y\n",
    "from proveit.logic import Equals, Forall"
   ]
  },
  {
   "cell_type": "code",
   "execution_count": 2,
   "metadata": {},
   "outputs": [
    {
     "data": {
      "text/html": [
       "<strong id=\"expr\">expr:</strong> <a class=\"ProveItLink\" href=\"expr.ipynb\"><img src=\"data:image/png;base64,iVBORw0KGgoAAAANSUhEUgAAAKQAAAAXBAMAAAB3xfmpAAAAMFBMVEX///8QEBC6urrMzMxUVFRm\n",
       "ZmZERETc3NwyMjKqqqp2dnaIiIiYmJgiIiLu7u4AAAAU9Wx4AAAAAXRSTlMAQObYZgAAApZJREFU\n",
       "OMutlE9oE0EUxr9kt7vZzWYT7KF4kQhFhCDdgmDx0mCLQnsRxYuneLD1z6ELgkGLunhREMSDFaEH\n",
       "91KMFUoOMWB66IIXqQg56EVEimARPTSIsVZq9e3s7B8TIjR0IDNvvkx+mfnemwF2vq3sDCbHRy0L\n",
       "1N3gVZegyp/R0TcmBULel04CT9zxbreb+wlIfTQmgsMmgMs0yIUuicIvQKEPFgNJsxm/516XyOQ3\n",
       "YjQp2BNIegba42LxWrfnlhqAuAHErVA7D/yYmHjX4ReXWP+fI6QJtUau9dg0uVq58qwMzAEjwGSw\n",
       "Ju4ND5qnjpqQbTY53Bk5bEN46+bEoRPb2vsY1c9DoB96uG2Je5yBWvcnarYjcmls/rRbQzFaoiLZ\n",
       "UAxgL5BC0mlFinloW5jlhlsdkVO8dtKE1CGywhmmrDmplVZkyoFoBX6MdET+RoikvZY5UrcOkodV\n",
       "xFZC5JqB1yYyXGZFp1ZyPjpX4EUjNLkSYym8YbjXmw6OySPA17Q5GNnlwPycA8Hicr8rLYiF3eJt\n",
       "anf08rqQCcrSOxxZp5lLSBLyJc1nKE3XD6AaQZZY9vNcHnJn2YTvuPyxnvSum7TFJfU48Mg5g2mw\n",
       "IvIsGMN4BHnW7ZQ8l4c8v0zfQdEWmWufpr6Xee3RrlZrX566/3rTrRjXxF3ojSA32LoCl/cxbRCG\n",
       "xA5OJRMzWvLUF72QvPXGGyFSWGdf1rm8DPmW0CjB9pNhDLSmfjmI1LIf3a9aIbLUZLv4wOUTEDb1\n",
       "izM1v9aU8XOtyPBx++wHsunZI0XXPecyUbWoXvR8jzY5eIKPBSVu70cbctWTFaIeiuoX4u33adp/\n",
       "7gKXlUW7Hak4TBYpdKL6bG07D6D4z+wF6xe2+Yj+BRxBoDbJ4Qj6AAAAAElFTkSuQmCC\n",
       "\" style=\"display:inline;vertical-align:middle;\" /></a><br>"
      ],
      "text/plain": [
       "expr: forall_{y | P(y) , x = y} P(x)"
      ]
     },
     "execution_count": 2,
     "metadata": {},
     "output_type": "execute_result"
    }
   ],
   "source": [
    "# build up the expression from sub-expressions\n",
    "expr = Forall([y], Px, conditions = [Py, Equals(x, y)])"
   ]
  },
  {
   "cell_type": "code",
   "execution_count": 3,
   "metadata": {},
   "outputs": [
    {
     "name": "stdout",
     "output_type": "stream",
     "text": [
      "Passed sanity check: built 'expr' is the same as the stored Expression.\n"
     ]
    }
   ],
   "source": [
    "# check that the built expression is the same as the stored expression\n",
    "%check_expr"
   ]
  },
  {
   "cell_type": "code",
   "execution_count": 4,
   "metadata": {},
   "outputs": [
    {
     "data": {
      "text/html": [
       "<table><tr><th>&nbsp;</th><th>core type</th><th>sub-expressions</th><th>expression</th></tr>\n",
       "<tr><td>0</td><td>Operation</td><td>operator:&nbsp;1<br>operand:&nbsp;2<br></td><td><a class=\"ProveItLink\" href=\"expr.ipynb\"><img src=\"data:image/png;base64,iVBORw0KGgoAAAANSUhEUgAAAKQAAAAXBAMAAAB3xfmpAAAAMFBMVEX///8QEBC6urrMzMxUVFRm\n",
       "ZmZERETc3NwyMjKqqqp2dnaIiIiYmJgiIiLu7u4AAAAU9Wx4AAAAAXRSTlMAQObYZgAAApZJREFU\n",
       "OMutlE9oE0EUxr9kt7vZzWYT7KF4kQhFhCDdgmDx0mCLQnsRxYuneLD1z6ELgkGLunhREMSDFaEH\n",
       "91KMFUoOMWB66IIXqQg56EVEimARPTSIsVZq9e3s7B8TIjR0IDNvvkx+mfnemwF2vq3sDCbHRy0L\n",
       "1N3gVZegyp/R0TcmBULel04CT9zxbreb+wlIfTQmgsMmgMs0yIUuicIvQKEPFgNJsxm/516XyOQ3\n",
       "YjQp2BNIegba42LxWrfnlhqAuAHErVA7D/yYmHjX4ReXWP+fI6QJtUau9dg0uVq58qwMzAEjwGSw\n",
       "Ju4ND5qnjpqQbTY53Bk5bEN46+bEoRPb2vsY1c9DoB96uG2Je5yBWvcnarYjcmls/rRbQzFaoiLZ\n",
       "UAxgL5BC0mlFinloW5jlhlsdkVO8dtKE1CGywhmmrDmplVZkyoFoBX6MdET+RoikvZY5UrcOkodV\n",
       "xFZC5JqB1yYyXGZFp1ZyPjpX4EUjNLkSYym8YbjXmw6OySPA17Q5GNnlwPycA8Hicr8rLYiF3eJt\n",
       "anf08rqQCcrSOxxZp5lLSBLyJc1nKE3XD6AaQZZY9vNcHnJn2YTvuPyxnvSum7TFJfU48Mg5g2mw\n",
       "IvIsGMN4BHnW7ZQ8l4c8v0zfQdEWmWufpr6Xee3RrlZrX566/3rTrRjXxF3ojSA32LoCl/cxbRCG\n",
       "xA5OJRMzWvLUF72QvPXGGyFSWGdf1rm8DPmW0CjB9pNhDLSmfjmI1LIf3a9aIbLUZLv4wOUTEDb1\n",
       "izM1v9aU8XOtyPBx++wHsunZI0XXPecyUbWoXvR8jzY5eIKPBSVu70cbctWTFaIeiuoX4u33adp/\n",
       "7gKXlUW7Hak4TBYpdKL6bG07D6D4z+wF6xe2+Yj+BRxBoDbJ4Qj6AAAAAElFTkSuQmCC\n",
       "\" style=\"display:inline;vertical-align:middle;\" /></a></td></tr>\n",
       "<tr><td>1</td><td>Literal</td><td></td><td><a class=\"ProveItLink\" href=\"../../../quantification/universal/__pv_it/265f8c02ac1094d56e0e6410a1c1fd3500dc9f540/expr.ipynb\"><img src=\"data:image/png;base64,iVBORw0KGgoAAAANSUhEUgAAAAwAAAAQBAMAAADQT4M0AAAAMFBMVEX///8QEBC6urrMzMxUVFRm\n",
       "ZmZERETc3NwyMjKqqqp2dnaIiIiYmJgiIiLu7u4AAAAU9Wx4AAAAAXRSTlMAQObYZgAAAFhJREFU\n",
       "CNdjeMAABhdAxGmGlSCqj6EMSLInMHAAJVknMPAsLy+vBYp8S0u7BaScGRjSgZQKA18DkOJl4D4A\n",
       "pLgP8IJM4mswARuX7gSmpoKNZWDcAKZ4gCoAgTQTILaSE58AAAAASUVORK5CYII=\n",
       "\" style=\"display:inline;vertical-align:middle;\" /></a></td></tr>\n",
       "<tr><td>2</td><td>Lambda</td><td>parameter:&nbsp;11<br>body:&nbsp;3<br>conditions:&nbsp;4<br></td><td><a class=\"ProveItLink\" href=\"../141a2753964eef4b228f585b30112530f620744d0/expr.ipynb\"><img src=\"data:image/png;base64,iVBORw0KGgoAAAANSUhEUgAAAOAAAAAVCAMAAABorBJ5AAAANlBMVEX///8UFBQNDQ2YmJhUVFQy\n",
       "MjIQEBBEREQiIiKqqqrMzMyIiIi6urrc3NxmZmZ2dnbu7u4AAACrLjZHAAAAAXRSTlMAQObYZgAA\n",
       "AmZJREFUWMPVl+u2oyAMhZ3hLvf3f9kDgpYQRG1n9azhj6tKv+xtQoRl+c5QdvmPh9HwNzFoijdP\n",
       "KcT8ihdNY6RpSPpKyUr7WW69MDjAIAqGfGdEtl0EP6SxgCaxywwiDKawX/G3Rl8WVb2mbGg8i/gL\n",
       "gwgzoCDId2o0FqkkunqH4wQugV8YRJgBBUG+MkQsVxpV7Q3DShJqbrDHDCk95L0RvMulYGMYVb5S\n",
       "47UToth7QS0k6zW1SrtSat7NDfaYSoFiegiKcsuUX0zcaqY+k3AqDaO1s8ojNiMVmepNkoWX/ys2\n",
       "NYgwlQLFKIaFgyj5zbBmHI244axqcXm2EGODgVq4dqj36fW8bnJTkYWnSnM3fP6Z6DGF0okxaBF2\n",
       "UU47YcNJCeI533FP+t8/EgweDVg7fTOoj/NtKpoUTQ0iTKF0YnoIinJaoYCjcrA1ruMMLhRIi3IZ\n",
       "G9zSoO8aRJidAsRgg12Uydaw4bhc6fqohi60s3DtoHXPjzZkN164UaIYs1OAGDP6TrRR8h/aanvl\n",
       "tuWwHEzQscFVDz9fbbWV9kBsaQ26hCbTJoMxlQLFvCC7ny7K+Wg5Ll1MJEdwVPTTJVh7uUoAkV6Y\n",
       "1cuNzwTG7POBmAMSakn3Uc5HywlCaxdvHGeCE2mL3LONrBAfvNf7e2Lm1OAQY2rhADEHJPByq48y\n",
       "0dqZ8vL9nQK3b2zVZpRdTAsxb5wnK4fKjPpgUzTaE3v91GChADEthDzT1HJkIouP9u34oBOuj0tj\n",
       "SisGQB4abDkqFetnh2eLDrzUPje4UVoxLUQ/lPS5Kaiti6/xRkqbpxT9bw70PzgZHzKSuJDAAAAA\n",
       "AElFTkSuQmCC\n",
       "\" style=\"display:inline;vertical-align:middle;\" /></a></td></tr>\n",
       "<tr><td>3</td><td>Operation</td><td>operator:&nbsp;7<br>operand:&nbsp;10<br></td><td><a class=\"ProveItLink\" href=\"../../../../../__pv_it/8c735c381b4cbf3c87e86ca2468da4e5c976f9b00/expr.ipynb\"><img src=\"data:image/png;base64,iVBORw0KGgoAAAANSUhEUgAAAC4AAAAVBAMAAADLKsFqAAAAMFBMVEX////u7u5mZmaYmJi6urqq\n",
       "qqp2dnbMzMwQEBBEREQyMjLc3NwiIiJUVFSIiIgAAAAeC3ydAAAAAXRSTlMAQObYZgAAAQlJREFU\n",
       "GNNjYCACsDyA0MwOIPLt/7t3z24AsWphCtTB5C8GBs5uEGMhTJwLRLB/Y2BgBWIGvgcwceYEEPcL\n",
       "kPEJyOAQgIkzNgAJzg8MDLxfgQwvhAumAjH/AgYG+QlAhhoQb3u79RHQuCQgsz6Bgf0QSNFioAEJ\n",
       "zIc5DjAwRAG576+lqYGd2cLAwMbA94G1gIHBA8idD7MOaD8jAy/IRIZ6IP7DgBAHOuoBVJz9E0y8\n",
       "FUTsL2AQAJvD9wUmPhnojw3vGfiA4lZA53+EiQMdF28wg2EfmCk0/y/M+z4MDJLPxPIMgMwlyMHM\n",
       "sQElHBhQQgsM2B6gxAs8nKVQ42svjHEbVZwbqp2vgAEAALg9cr1t3EsAAAAASUVORK5CYII=\n",
       "\" style=\"display:inline;vertical-align:middle;\" /></a></td></tr>\n",
       "<tr><td>4</td><td>ExprTuple</td><td>5, 6</td><td><a class=\"ProveItLink\" href=\"../06a981405cc3d66d9340661b897488f856124ff40/expr.ipynb\"><img src=\"data:image/png;base64,iVBORw0KGgoAAAANSUhEUgAAAHoAAAAVBAMAAAB71edYAAAAMFBMVEX////c3NwiIiJERESqqqqY\n",
       "mJh2dnZmZmYQEBDu7u4yMjJUVFTMzMyIiIi6uroAAAAs73DqAAAAAXRSTlMAQObYZgAAAgxJREFU\n",
       "OMulkz1II1EQx//rxmRXdzfpRQwKZ2Ej+NFIMLUoRgsLq8VCueJALFLcnV48rrFQFwQVG21EVJCo\n",
       "YGNjYWfhNqIiQbnqOBCjnCfx65zZj9wmEhNwYN+bee/33zc7bxZ4n2mmN7q0p/KL4kKLOaDn7N/u\n",
       "bkOIHCXpbH0t4VxmVtm5B8RxmisMZ6eiBDUxKieu/AV89CCVTUsvIXUdEp+mPpN/R86EuyMniquJ\n",
       "+c2zmAYq/1AFl7JbzSWk3ow4T0FSLTYCAcpXHtJRY2DIRYRPm12jebLZOIQMiFnm6FCHUs91iAF+\n",
       "LY1zoCNLojf2nZ3Pa2zr7OpXUNPMTHF0vjMY5wuT6Ar3A2E0Ab9ctU7v6sw9WomOQGxk5pnDduei\n",
       "gqQ2JBNPlI6LGth+VS5MImgyY6lv8F+NbkN59KhBaL75MjjcY+YHZ3LnrEpR/j6oCU/mEB7pMLKR\n",
       "WrY6dgNLOAEzLc51WyZS1bACkfq1384a6KH6nOZ32TDawAzfjJhxVv3DNHzBVQzWukxf5LsVE4KZ\n",
       "pw4ktVsw8xOYa39wtrUwDTOpb1T/DVZPhyBHPg4evSpb5PgazEgh7/K4NQ64naqFCrWZP2wxub9D\n",
       "H3VsWKZK+q1sygtotzAftZnVnHIYKNNFeuEC3lJ/QCtspsq7LCThS42Rs2mFZgF11/GFw+QWtNqe\n",
       "1L3ifxgxL4Nxg20ANGjlAAAAAElFTkSuQmCC\n",
       "\" style=\"display:inline;vertical-align:middle;\" /></a></td></tr>\n",
       "<tr><td>5</td><td>Operation</td><td>operator:&nbsp;7<br>operand:&nbsp;11<br></td><td><a class=\"ProveItLink\" href=\"../../../../../__pv_it/c5f09cc3a2885e6789037be52d7dfbf4f0376cee0/expr.ipynb\"><img src=\"data:image/png;base64,iVBORw0KGgoAAAANSUhEUgAAAC0AAAAVBAMAAAAgHXppAAAAMFBMVEX////u7u5mZmaYmJi6urqq\n",
       "qqp2dnbMzMwQEBBEREQyMjLc3NwiIiJUVFSIiIgAAAAeC3ydAAAAAXRSTlMAQObYZgAAAR1JREFU\n",
       "GNNjYCACsDyA0CZg8u3/u3fPbgCxaqHyTAVg6hcDA2c3iLEQpnEBiGD/xsDACsQMfA9g4mYggu8L\n",
       "AwPzJyCDQwAmLgEiOD8wMPB+BTK84A7gDAAS/EDT5CcAGWoMDIxJCQz7BRjYFIDc+gQG9kMgVYsZ\n",
       "GNhYPjC8B1oHsvj9tTQ1sDNbGBhKmQ4wzAR6pAHInQ+zDmi/AMcDhn9AJwKtZPjDgBBniBdg/w4R\n",
       "Z/8EE28FYi0GvgaIOSDnQ8BkIF7EwHkB6B2gvZwfYeJJQKzL4G/AAHKn0Py/MO/7ALHkO32g27gc\n",
       "kIOZA+zaHFg4wAFzAgPvAUaQ7Xmo8bKQgSeBMwEYGgtQxfcysL5TAdK8G1DFuaEueM7AAADgEUAs\n",
       "2jlUwQAAAABJRU5ErkJggg==\n",
       "\" style=\"display:inline;vertical-align:middle;\" /></a></td></tr>\n",
       "<tr><td>6</td><td>Operation</td><td>operator:&nbsp;8<br>operands:&nbsp;9<br></td><td><a class=\"ProveItLink\" href=\"../11c10f4bba158f3c28c22f8b0eddbb73cf6480560/expr.ipynb\"><img src=\"data:image/png;base64,iVBORw0KGgoAAAANSUhEUgAAADMAAAANBAMAAAD2/0vEAAAAMFBMVEX///+6uroyMjJERETMzMwQ\n",
       "EBAiIiKYmJju7u5mZmaqqqpUVFSIiIh2dnbc3NwAAAAWgogoAAAAAXRSTlMAQObYZgAAAKRJREFU\n",
       "GNNjYHh7+tXJAwwogOPmBYb3DQwcF9jTWROAfE4lMNgAZPIyfmA4D6QYeD5wOaDq8uJMYDAGambg\n",
       "NmBAAw2sBxj+gBisB9ClGNY3sHwB0e8dGBpAdqWBAdiISQw8AQwM7A/OM/A0oOnSZGAGOmd9gSnD\n",
       "G3QDZzPIFzAwNJ/tvVOALtV8Zv4DBlzgGg5x7gSOKBxSbBeYL+CQ4jozEUgCABYeKl4jfnQmAAAA\n",
       "AElFTkSuQmCC\n",
       "\" style=\"display:inline;vertical-align:middle;\" /></a></td></tr>\n",
       "<tr><td>7</td><td>Variable</td><td></td><td><a class=\"ProveItLink\" href=\"../../../../../__pv_it/6369c6c8083c513ca7161ace249642d040f9327d0/expr.ipynb\"><img src=\"data:image/png;base64,iVBORw0KGgoAAAANSUhEUgAAABAAAAAOBAMAAADUAYG5AAAAMFBMVEX////u7u5mZmaYmJi6urqq\n",
       "qqp2dnbMzMwQEBBEREQyMjLc3NwiIiJUVFSIiIgAAAAeC3ydAAAAAXRSTlMAQObYZgAAAGBJREFU\n",
       "CNdjYGB4+//u3bMbGIDgFwMDZzeQZv/GwMAKxAx8XxgYmD8BGZwfGBh4vwIZ/AsYGOQnABn1CQzs\n",
       "h0Ca3l9LUwPrni/AAAF/oDT7JygDZAwYcH6E0ELz/z4A0QBnpRnRyxnfJQAAAABJRU5ErkJggg==\n",
       "\" style=\"display:inline;vertical-align:middle;\" /></a></td></tr>\n",
       "<tr><td>8</td><td>Literal</td><td></td><td><a class=\"ProveItLink\" href=\"../../../../equality/__pv_it/2fb26078095930560931daa0500ce419a39ea6cd0/expr.ipynb\"><img src=\"data:image/png;base64,iVBORw0KGgoAAAANSUhEUgAAAA4AAAAFBAMAAACHocAhAAAAFVBMVEX///9EREQiIiJUVFQyMjJm\n",
       "ZmYAAADubVkoAAAAAXRSTlMAQObYZgAAABRJREFUCNdjCHEBAWcGXCBICQQUAUpuAwlgGKrkAAAA\n",
       "AElFTkSuQmCC\n",
       "\" style=\"display:inline;vertical-align:middle;\" /></a></td></tr>\n",
       "<tr><td>9</td><td>ExprTuple</td><td>10, 11</td><td><a class=\"ProveItLink\" href=\"../a6a2ac9310c73e21661c7634808321702fb219240/expr.ipynb\"><img src=\"data:image/png;base64,iVBORw0KGgoAAAANSUhEUgAAACwAAAAVBAMAAADP3xFXAAAAMFBMVEX////c3NwiIiJERESqqqqY\n",
       "mJh2dnZmZmYQEBDu7u4yMjJUVFTMzMyIiIi6uroAAAAs73DqAAAAAXRSTlMAQObYZgAAAQtJREFU\n",
       "GNNjYMAB+C6gi7A+ABKnMVXWAPFKTGEuBgbeC5jCrAkMHBMwhTkbGF5hc4YJQxmQFLstch1i1rQy\n",
       "BsafDAzpDEuBehJYVTkUwMIJ7xl4PzAweDH0MTCwAZksB0CiPA5FDMwGDAwvGP4BVTNwG0DtYuhl\n",
       "4Acadx4kzMDAAXMly0+G8wdAwi0gnvwBBog72Rcw3GAAGWIKdL3AfQbeCWAJrgIGayAVBXQLg3+A\n",
       "BYMsA+cnkOoNfF8ZQA58xMAw+dq03AAGzn4BoJ221z8ChdcxcAjAQxjMYlMAex4YLLAAAuJNDDMc\n",
       "gFIXkAIWJKzGYAYkZwGxNEwY5Hbf66CY2QjEjBgBznuAAQAt5DtyKXSr1gAAAABJRU5ErkJggg==\n",
       "\" style=\"display:inline;vertical-align:middle;\" /></a></td></tr>\n",
       "<tr><td>10</td><td>Variable</td><td></td><td><a class=\"ProveItLink\" href=\"../../../../../__pv_it/530be409e3083890784cf1d7b28c9e67e90af9360/expr.ipynb\"><img src=\"data:image/png;base64,iVBORw0KGgoAAAANSUhEUgAAAAsAAAAJBAMAAAAWSsseAAAAKlBMVEX///9ERETMzMwQEBAiIiKY\n",
       "mJju7u5mZmaqqqpUVFSIiIh2dnbc3NwAAAA/vyDhAAAAAXRSTlMAQObYZgAAAENJREFUCNdjYDi9\n",
       "8sTyBQxsG1hdmR0YuBm4LnAoMLAxcAowgADzAjB1VoEhgYH1wFoGrgSG3gBhhlMMDImrs3cFMAAA\n",
       "t0YN+iTRa+sAAAAASUVORK5CYII=\n",
       "\" style=\"display:inline;vertical-align:middle;\" /></a></td></tr>\n",
       "<tr><td>11</td><td>Variable</td><td></td><td><a class=\"ProveItLink\" href=\"../../../../../__pv_it/f8b9edf8e16034727f0aad55bb83e392c3db40d40/expr.ipynb\"><img src=\"data:image/png;base64,iVBORw0KGgoAAAANSUhEUgAAAAsAAAANBAMAAACN24kIAAAAMFBMVEX///+YmJhUVFQyMjIQEBBE\n",
       "REQiIiKqqqrMzMyIiIi6urrc3NxmZmZ2dnbu7u4AAADXeCicAAAAAXRSTlMAQObYZgAAAFhJREFU\n",
       "CNdj4LtzgWH/AwZerg8M8xkY2nkSGEIZGB6wTGD4ycDAUP+A4weQOszA6QCkbBhYFYDUIYb1AkDq\n",
       "6czzGxhA4BoQMyXwuQMptgusF4AU+8xTQBIAUqMVoSp/SLMAAAAASUVORK5CYII=\n",
       "\" style=\"display:inline;vertical-align:middle;\" /></a></td></tr>\n",
       "</table>\n"
      ],
      "text/plain": [
       "0. forall_{y | P(y) , x = y} P(x)\n",
       "   core type: Operation\n",
       "   operator: 1\n",
       "   operand: 2\n",
       "1. forall\n",
       "   core type: Literal\n",
       "   sub-expressions: \n",
       "2. y -> P(x) | P(y) , x = y\n",
       "   core type: Lambda\n",
       "   parameter: 11\n",
       "   body: 3\n",
       "   conditions: 4\\n3. P(x)\n",
       "   core type: Operation\n",
       "   operator: 7\n",
       "   operand: 10\n",
       "4. (P(y) , x = y)\n",
       "   core type: ExprTuple\n",
       "   sub-expressions: 5, 6\n",
       "5. P(y)\n",
       "   core type: Operation\n",
       "   operator: 7\n",
       "   operand: 11\n",
       "6. x = y\n",
       "   core type: Operation\n",
       "   operator: 8\n",
       "   operands: 9\n",
       "7. P\n",
       "   core type: Variable\n",
       "   sub-expressions: \n",
       "8. =\n",
       "   core type: Literal\n",
       "   sub-expressions: \n",
       "9. (x , y)\n",
       "   core type: ExprTuple\n",
       "   sub-expressions: 10, 11\n",
       "10. x\n",
       "    core type: Variable\n",
       "    sub-expressions: \n",
       "11. y\n",
       "    core type: Variable\n",
       "    sub-expressions: "
      ]
     },
     "execution_count": 4,
     "metadata": {},
     "output_type": "execute_result"
    }
   ],
   "source": [
    "# display the expression information\n",
    "expr.exprInfo()"
   ]
  },
  {
   "cell_type": "code",
   "execution_count": null,
   "metadata": {},
   "outputs": [],
   "source": []
  }
 ],
 "metadata": {
  "kernelspec": {
   "display_name": "Python 3",
   "language": "python",
   "name": "python3"
  }
 },
 "nbformat": 4,
 "nbformat_minor": 0
}
