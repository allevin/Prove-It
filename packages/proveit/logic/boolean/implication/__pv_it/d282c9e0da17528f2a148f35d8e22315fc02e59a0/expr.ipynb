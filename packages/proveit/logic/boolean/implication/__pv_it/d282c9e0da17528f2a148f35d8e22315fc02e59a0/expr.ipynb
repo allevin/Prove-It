{
 "cells": [
  {
   "cell_type": "markdown",
   "metadata": {},
   "source": [
    "Expression of type <a class=\"ProveItLink\" href=\"../../../../../../../doc/html/api/proveit.ExprTuple.html\">ExprTuple</a>\n",
    "=======================\n",
    "# from context <a class=\"ProveItLink\" href=\"../../_context_.ipynb\">proveit.logic.boolean.implication</a>"
   ]
  },
  {
   "cell_type": "code",
   "execution_count": 1,
   "metadata": {},
   "outputs": [],
   "source": [
    "# import Expression classes needed to build the expression\n",
    "from proveit import ExprTuple, Variable\n",
    "from proveit.logic.boolean.implication._theorems_ import falseImpliesTrue"
   ]
  },
  {
   "cell_type": "code",
   "execution_count": 2,
   "metadata": {},
   "outputs": [
    {
     "data": {
      "text/html": [
       "<strong id=\"expr\">expr:</strong> <a class=\"ProveItLink\" href=\"expr.ipynb\"><img src=\"data:image/png;base64,iVBORw0KGgoAAAANSUhEUgAAAH0AAAAVBAMAAACZCfwhAAAAMFBMVEX////c3NwiIiJERESqqqqY\n",
       "mJh2dnZmZmYQEBDu7u4yMjJUVFTMzMyIiIi6uroAAAAs73DqAAAAAXRSTlMAQObYZgAAASlJREFU\n",
       "OMtjYKAU8F0gW2sciDiNV4ksNsEiJRBQZmA/AOSsxKv/OF7xBQwMvBeI18+JLh7GwMAxgXj9XBPQ\n",
       "xGcwMLxiIF4/3wY0cWYHhjKEtNhtkesX8Po/F02crYBhKcJ3CayqHAo49EOCXL8AVZxlAUMfXCkb\n",
       "A+8HlgP4w9/rAYo4XwPDP6TQ5TYgFH+cKx4gi/N8QNIPjIsLhPSfymRA09+CJCt/gGECXv8rWTKg\n",
       "u98UrpRV4D4DL1z/BGz2e6OZy7qAIR0u5B9ggUjunJ+w6GdcgBl/j4CxYAwElgyTr03LDYBxOPsF\n",
       "wI7WAOUTGGAWgDOPQRLkAwYOARzZGos4D7oAMP2yJmDXz0pMAZCLO/8So58TFB7S2OWIKZW4QX5k\n",
       "JL/8usPAAABydUp4PYUqOQAAAABJRU5ErkJggg==\n",
       "\" style=\"display:inline;vertical-align:middle;\" /></a><br>"
      ],
      "text/plain": [
       "expr: (_x_ , FALSE => TRUE)"
      ]
     },
     "execution_count": 2,
     "metadata": {},
     "output_type": "execute_result"
    }
   ],
   "source": [
    "# build up the expression from sub-expressions\n",
    "expr = ExprTuple(Variable(\"_x_\", latexFormat = r\"{_{-}x_{-}}\"), falseImpliesTrue.expr)"
   ]
  },
  {
   "cell_type": "code",
   "execution_count": 3,
   "metadata": {},
   "outputs": [
    {
     "name": "stdout",
     "output_type": "stream",
     "text": [
      "Passed sanity check: built 'expr' is the same as the stored Expression.\n"
     ]
    }
   ],
   "source": [
    "# check that the built expression is the same as the stored expression\n",
    "%check_expr"
   ]
  },
  {
   "cell_type": "code",
   "execution_count": 4,
   "metadata": {},
   "outputs": [
    {
     "data": {
      "text/html": [
       "<table><tr><th>&nbsp;</th><th>core type</th><th>sub-expressions</th><th>expression</th></tr>\n",
       "<tr><td>0</td><td>ExprTuple</td><td>1, 2</td><td><a class=\"ProveItLink\" href=\"expr.ipynb\"><img src=\"data:image/png;base64,iVBORw0KGgoAAAANSUhEUgAAAH0AAAAVBAMAAACZCfwhAAAAMFBMVEX////c3NwiIiJERESqqqqY\n",
       "mJh2dnZmZmYQEBDu7u4yMjJUVFTMzMyIiIi6uroAAAAs73DqAAAAAXRSTlMAQObYZgAAASlJREFU\n",
       "OMtjYKAU8F0gW2sciDiNV4ksNsEiJRBQZmA/AOSsxKv/OF7xBQwMvBeI18+JLh7GwMAxgXj9XBPQ\n",
       "xGcwMLxiIF4/3wY0cWYHhjKEtNhtkesX8Po/F02crYBhKcJ3CayqHAo49EOCXL8AVZxlAUMfXCkb\n",
       "A+8HlgP4w9/rAYo4XwPDP6TQ5TYgFH+cKx4gi/N8QNIPjIsLhPSfymRA09+CJCt/gGECXv8rWTKg\n",
       "u98UrpRV4D4DL1z/BGz2e6OZy7qAIR0u5B9ggUjunJ+w6GdcgBl/j4CxYAwElgyTr03LDYBxOPsF\n",
       "wI7WAOUTGGAWgDOPQRLkAwYOARzZGos4D7oAMP2yJmDXz0pMAZCLO/8So58TFB7S2OWIKZW4QX5k\n",
       "JL/8usPAAABydUp4PYUqOQAAAABJRU5ErkJggg==\n",
       "\" style=\"display:inline;vertical-align:middle;\" /></a></td></tr>\n",
       "<tr><td>1</td><td>Variable</td><td></td><td><a class=\"ProveItLink\" href=\"../5144cf74ae6a683b49b974f1b9302b432abf7e930/expr.ipynb\"><img src=\"data:image/png;base64,iVBORw0KGgoAAAANSUhEUgAAACUAAAAJBAMAAABH3vh9AAAAKlBMVEX////MzMwQEBAiIiKYmJhm\n",
       "ZmZUVFSIiIh2dnbc3Nzu7u5ERESqqqoAAABwkVEpAAAAAXRSTlMAQObYZgAAAEtJREFUCNdjYIAA\n",
       "zvbM4+EMqGAFg7ODMppYA0Mtw0E0sQUM2QyYQB1TiPMiAxeakCf7BYYqVCGeK9wKnAUw3undQLCA\n",
       "a3tXRwmMAwC3+RVNp6j0GAAAAABJRU5ErkJggg==\n",
       "\" style=\"display:inline;vertical-align:middle;\" /></a></td></tr>\n",
       "<tr><td>2</td><td>Operation</td><td>operator:&nbsp;3<br>operands:&nbsp;4<br></td><td><a class=\"ProveItLink\" href=\"../5c89411a8c468da13cdc01880daaa573c582a8db0/expr.ipynb\"><img src=\"data:image/png;base64,iVBORw0KGgoAAAANSUhEUgAAAD8AAAAPBAMAAAChCwpBAAAALVBMVEX///+qqqp2dnZUVFS6uroy\n",
       "MjLu7u5EREQQEBAiIiJmZmbMzMyIiIjc3NwAAAAGhiwUAAAAAXRSTlMAQObYZgAAAGVJREFUGNNj\n",
       "YGBguMOABXDNBIMCEHsXA3bAvQDKQFHARkgBawIBBSwGBBQw6OBWsBLs7nkLCJjAIOpAQAFbhAN+\n",
       "BVvV8LthZhkBNwgT8CZvAJoCoLkzZs6cDhdlv4BQoIA1htD4AF7PJ5Q+t8orAAAAAElFTkSuQmCC\n",
       "\" style=\"display:inline;vertical-align:middle;\" /></a></td></tr>\n",
       "<tr><td>3</td><td>Literal</td><td></td><td><a class=\"ProveItLink\" href=\"../e5c030cabcb650938f92dee8256fe11cd12bf9b30/expr.ipynb\"><img src=\"data:image/png;base64,iVBORw0KGgoAAAANSUhEUgAAABMAAAANBAMAAAC5okgUAAAALVBMVEX////c3NxERETMzMwQEBCq\n",
       "qqoiIiJmZmaIiIh2dnZUVFS6uroyMjLu7u4AAACPpZJTAAAAAXRSTlMAQObYZgAAAD1JREFUCNdj\n",
       "YAABXgY44LkAZ3IvQAjPABFlaSCQV4AQjtkAZ/IegbNt5sLUpunC5aPgLMYDcCaTAJzJDCIA2yMN\n",
       "HCCUuIIAAAAASUVORK5CYII=\n",
       "\" style=\"display:inline;vertical-align:middle;\" /></a></td></tr>\n",
       "<tr><td>4</td><td>ExprTuple</td><td>5, 6</td><td><a class=\"ProveItLink\" href=\"../f33a8d5708d13f20cb034555a092a5521deab66a0/expr.ipynb\"><img src=\"data:image/png;base64,iVBORw0KGgoAAAANSUhEUgAAADUAAAAVBAMAAAAUZLt1AAAAMFBMVEX////c3NwiIiJERESqqqqY\n",
       "mJh2dnZmZmYQEBDu7u4yMjJUVFTMzMyIiIi6uroAAAAs73DqAAAAAXRSTlMAQObYZgAAALBJREFU\n",
       "KM9jYMAH+C5gFY4DEadBBCNcQZESCCgzsB8AclaCRHgKkLQcB5MLGBh4L+CQC2Ng4JiAQ24GA8Mr\n",
       "BhxyzA4MZbjk2AoYluKSY1nA0IdLjq+B4R8uOZ4PeOVa8JhpiiQ3AVmOdQFDOkKO8xOaHx4xMLAD\n",
       "A7dJScmAs18ALHoMTHI9YOAQQIouJDYozFgTEFxW5AjMhcURphwnMI4YpBF85BTALYAS5SjgDgMD\n",
       "AMUhLsE7xITaAAAAAElFTkSuQmCC\n",
       "\" style=\"display:inline;vertical-align:middle;\" /></a></td></tr>\n",
       "<tr><td>5</td><td>Literal</td><td></td><td><a class=\"ProveItLink\" href=\"../../../__pv_it/8f1f7fac882de28c72b62ab80a1700b6d8fd066b0/expr.ipynb\"><img src=\"data:image/png;base64,iVBORw0KGgoAAAANSUhEUgAAAA4AAAAOBAMAAADtZjDiAAAAG1BMVEX///9EREQQEBAiIiJmZmbM\n",
       "zMyIiIjc3NwAAACryk5kAAAAAXRSTlMAQObYZgAAABlJREFUCNdjYGBgKGOAgBBa0s7GxkbGxoYA\n",
       "FMUF2aBfHgoAAAAASUVORK5CYII=\n",
       "\" style=\"display:inline;vertical-align:middle;\" /></a></td></tr>\n",
       "<tr><td>6</td><td>Literal</td><td></td><td><a class=\"ProveItLink\" href=\"../../../__pv_it/68a87cc3370287d726c7086ace789e680e4461c30/expr.ipynb\"><img src=\"data:image/png;base64,iVBORw0KGgoAAAANSUhEUgAAAA4AAAAOBAMAAADtZjDiAAAAFVBMVEX///92dnbMzMxEREQiIiJm\n",
       "ZmYAAABAT6GXAAAAAXRSTlMAQObYZgAAABhJREFUCNdjCHEBAWcGIFBlgABa0YpADAAxegPJJk4d\n",
       "XAAAAABJRU5ErkJggg==\n",
       "\" style=\"display:inline;vertical-align:middle;\" /></a></td></tr>\n",
       "</table>\n"
      ],
      "text/plain": [
       "0. (_x_ , FALSE => TRUE)\n",
       "   core type: ExprTuple\n",
       "   sub-expressions: 1, 2\n",
       "1. _x_\n",
       "   core type: Variable\n",
       "   sub-expressions: \n",
       "2. FALSE => TRUE\n",
       "   core type: Operation\n",
       "   operator: 3\n",
       "   operands: 4\n",
       "3. =>\n",
       "   core type: Literal\n",
       "   sub-expressions: \n",
       "4. (FALSE , TRUE)\n",
       "   core type: ExprTuple\n",
       "   sub-expressions: 5, 6\n",
       "5. FALSE\n",
       "   core type: Literal\n",
       "   sub-expressions: \n",
       "6. TRUE\n",
       "   core type: Literal\n",
       "   sub-expressions: "
      ]
     },
     "execution_count": 4,
     "metadata": {},
     "output_type": "execute_result"
    }
   ],
   "source": [
    "# display the expression information\n",
    "expr.exprInfo()"
   ]
  },
  {
   "cell_type": "code",
   "execution_count": null,
   "metadata": {},
   "outputs": [],
   "source": []
  }
 ],
 "metadata": {
  "kernelspec": {
   "display_name": "Python 3",
   "language": "python",
   "name": "python3"
  }
 },
 "nbformat": 4,
 "nbformat_minor": 0
}
