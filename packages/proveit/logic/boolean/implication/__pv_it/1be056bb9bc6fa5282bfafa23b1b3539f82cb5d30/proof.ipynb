{
 "cells": [
  {
   "cell_type": "markdown",
   "metadata": {},
   "source": [
    "Show the Proof\n",
    "========"
   ]
  },
  {
   "cell_type": "code",
   "execution_count": 1,
   "metadata": {},
   "outputs": [
    {
     "data": {
      "text/html": [
       "<table><tr><th>&nbsp;</th><th>step type</th><th>requirements</th><th>statement</th></tr>\n",
       "<tr><td>0</td><td>specialization</td><td>1, 2, 3</td><td><span style=\"font-size:20px;\"><a class=\"ProveItLink\" href=\"../c06cf4f76631c2e12de9190ed86d8df548070d150/expr.ipynb\"><img src=\"data:image/png;base64,iVBORw0KGgoAAAANSUhEUgAAAIsAAAAVBAMAAACEWwD/AAAAMFBMVEX////c3NxERESqqqpUVFS6\n",
       "urrMzMwyMjIQEBCIiIh2dnYiIiLu7u5mZmaYmJgAAABXZE4RAAAAAXRSTlMAQObYZgAAAb9JREFU\n",
       "OMtjYGDgu8dACWBbJQCieHYxUAbYmkEk5wcQ+eS/i4t6AIr08k/1FZsMkJRvYMAufx3E42oACzYx\n",
       "MPB+RVWnEMlTswrBZf/AgF1+BcIYtp9A/AVdGcNUdgT39R8G7PJIxnB+BIb1L7Dsyerd22HK7FgO\n",
       "wDQx2n5kwC6PZAwTkOTuAbur7gCSbUJwuzk5IX7GlEcyht+BgbEILC90AOFotn06cGNimP8xYJcH\n",
       "G8NbACLzPWfefgCWVET4PXr/jwkwDk8AKPiwyr8HcTLA0TxfgIFnC1i5AnIQzjSCcVgZGP/ikGe/\n",
       "wMCQ0gYW0gAZBXIOa/fu3YggZGJdANWT4uLyiQGHvDpQY0QCSAgU1+9BQmwOyLYxMcAsB7q5nQG7\n",
       "PDdIHwsobNhAwecPSpI8G7AawwzEOxiwy4PDhmsDNNkwfgdL+qEoAzoaHDPCQFyPXR4pwkHJJqMG\n",
       "LHk6AEnZ20kMPL9BbgA5Wf8ANnkkY3j1v7i410FTa20CPOtptxgw8PQLMDBqfBdgePS/Fps8SvJD\n",
       "Aszu0JiARbUAfnkcxqADPkIFDtgYPoqNAZc3PDsJqJpAqPRrhdi2mPKyGABSjJWedPem3wAAAABJ\n",
       "RU5ErkJggg==\n",
       "\" style=\"display:inline;vertical-align:middle;\" /></a> <a class=\"ProveItLink\" href=\"proof.ipynb\" style=\"text-decoration: none\">&#x22A2;&nbsp;</a><a class=\"ProveItLink\" href=\"../e14ad458274bde8ee1c6de8df285226366a6e9470/expr.ipynb\"><img src=\"data:image/png;base64,iVBORw0KGgoAAAANSUhEUgAAAHUAAAAVBAMAAACK3rzVAAAAMFBMVEX////c3NwiIiJERESqqqqY\n",
       "mJh2dnZmZmYQEBDu7u4yMjJUVFTMzMyIiIi6uroAAAAs73DqAAAAAXRSTlMAQObYZgAAAexJREFU\n",
       "OMtjYKAE8F0gpIL1AS6Z0xDqEDa56P+7d1s9YKhBE876vH6FsgOQsRLCX4/V4GYGBvZ/DFzowgZv\n",
       "OVemMTDwQpzMqj8Bi1aev0D8m4E1AUMvwz2ggRwQPSL1AhBhkB3HYWp4PwJN/cbA2QDhzl2kpAXT\n",
       "68o9geEVRPjCfWiA3AViZqg5DMxATUydDAwmEFcsnYBkrzADQxkksCf4B0DkFwAJxgVQNfwbGBgX\n",
       "AzWkg3nCExBu5lG1ZGBYCubMYzgP8feJJiUg+AVVdX7v3SKQmV5gniHCv4/0fwDV94E5DxjkC8Ae\n",
       "hIQ63zqImvsCDJzaQPoFiMNpgBxWd50ZGP6BXbp7936QDGczVFJiA5iyAOkHWnwebCDISfCwYuZL\n",
       "gOjlA4Y32I+zwbYzMK6FGPEbiOMToHp5NiDby8xgwNACYgPTCBMkHpyUwAAS0DxfgcR+B5ibFdD1\n",
       "moKsAUpzfQCLsoAM51RERC/jLyAjCszdiqIX6GZQ8M8CReVPiHAJEHM/QETvCVDoQeJo0gMkveGX\n",
       "GRgeAeOtfyEDq/0viFdB5ghDVLDb/969CxyHkGBnXH4AnheMuoFu5RBAS8JAPBMt+cLSJMsuaDjD\n",
       "MmcC4SzOhiuLrySsdxYuCWnCejfikmAkWObwHsAuDgBYuIBtTojr6wAAAABJRU5ErkJggg==\n",
       "\" style=\"display:inline;vertical-align:middle;\" /></a></span></td></tr>\n",
       "<tr><td>&nbsp;</td><td colspan=4 style=\"text-align:left\"><span style=\"font-size:20px;\"><a class=\"ProveItLink\" href=\"../../../../../__pv_it/2cbe72a7ad6f655694dd697106680215e8489b600/expr.ipynb\"><img src=\"data:image/png;base64,iVBORw0KGgoAAAANSUhEUgAAAA8AAAAOBAMAAAACpFvcAAAALVBMVEX///8QEBBERERUVFS6urqI\n",
       "iIhmZmaqqqrc3Nzu7u6YmJgyMjIiIiLMzMwAAADtIaYWAAAAAXRSTlMAQObYZgAAAFtJREFUCNdj\n",
       "YACBOwxQsA9Kc52bAGG05zVAGAFxDmCaZULdAjBjCsO9ADDDgaEvAUTzGhvbKYCVMDAwbgAxChgY\n",
       "eASANAeQwf0AyJgNxEwvGRia5HYwcOm9TgAA6BoR3jrzwFcAAAAASUVORK5CYII=\n",
       "\" style=\"display:inline;vertical-align:middle;\" /></a> : <a class=\"ProveItLink\" href=\"../../../../../__pv_it/2cbe72a7ad6f655694dd697106680215e8489b600/expr.ipynb\"><img src=\"data:image/png;base64,iVBORw0KGgoAAAANSUhEUgAAAA8AAAAOBAMAAAACpFvcAAAALVBMVEX///8QEBBERERUVFS6urqI\n",
       "iIhmZmaqqqrc3Nzu7u6YmJgyMjIiIiLMzMwAAADtIaYWAAAAAXRSTlMAQObYZgAAAFtJREFUCNdj\n",
       "YACBOwxQsA9Kc52bAGG05zVAGAFxDmCaZULdAjBjCsO9ADDDgaEvAUTzGhvbKYCVMDAwbgAxChgY\n",
       "eASANAeQwf0AyJgNxEwvGRia5HYwcOm9TgAA6BoR3jrzwFcAAAAASUVORK5CYII=\n",
       "\" style=\"display:inline;vertical-align:middle;\" /></a>, <a class=\"ProveItLink\" href=\"../../../../../__pv_it/077b2ff79244fb4582cbe22c6e3356fa92a52f2f0/expr.ipynb\"><img src=\"data:image/png;base64,iVBORw0KGgoAAAANSUhEUgAAABAAAAAOBAMAAADUAYG5AAAAMFBMVEX///+qqqru7u4iIiJ2dnbc\n",
       "3NyIiIjMzMxmZmYQEBC6uroyMjJERERUVFSYmJgAAADLUcuvAAAAAXRSTlMAQObYZgAAAGpJREFU\n",
       "CNdjYGB4+//u3dMLGIBgDgMDxy8gzf4NiP8CGWxfGRj4vgAZPBMYGJgnARn8FxhY9ygAGfXX0pof\n",
       "gDTlBzAw2YIYJ0EckBBI53sHoBH/gIz7AhBjWH9DjancBLTl/N+7t/cxMAAA3u4f/5xagjYAAAAA\n",
       "SUVORK5CYII=\n",
       "\" style=\"display:inline;vertical-align:middle;\" /></a> : <a class=\"ProveItLink\" href=\"../../../../../__pv_it/077b2ff79244fb4582cbe22c6e3356fa92a52f2f0/expr.ipynb\"><img src=\"data:image/png;base64,iVBORw0KGgoAAAANSUhEUgAAABAAAAAOBAMAAADUAYG5AAAAMFBMVEX///+qqqru7u4iIiJ2dnbc\n",
       "3NyIiIjMzMxmZmYQEBC6uroyMjJERERUVFSYmJgAAADLUcuvAAAAAXRSTlMAQObYZgAAAGpJREFU\n",
       "CNdjYGB4+//u3dMLGIBgDgMDxy8gzf4NiP8CGWxfGRj4vgAZPBMYGJgnARn8FxhY9ygAGfXX0pof\n",
       "gDTlBzAw2YIYJ0EckBBI53sHoBH/gIz7AhBjWH9DjancBLTl/N+7t/cxMAAA3u4f/5xagjYAAAAA\n",
       "SUVORK5CYII=\n",
       "\" style=\"display:inline;vertical-align:middle;\" /></a></span></td></tr><tr><td>1</td><td>theorem</td><td></td><td><span style=\"font-size:20px;\"> <a class=\"ProveItLink\" href=\"../../_proofs_/iffClosure.ipynb\" style=\"text-decoration: none\">&#x22A2;&nbsp;</a><a class=\"ProveItLink\" href=\"../b74a8841c50c2c0e557e80b0a3c7cdfc466a9fc40/expr.ipynb\"><img src=\"data:image/png;base64,iVBORw0KGgoAAAANSUhEUgAAANEAAAAWBAMAAACs+WTQAAAAMFBMVEX///8QEBC6urrMzMxUVFRm\n",
       "ZmZERETc3NwyMjKqqqp2dnaIiIiYmJgiIiLu7u4AAAAU9Wx4AAAAAXRSTlMAQObYZgAAA1BJREFU\n",
       "SMe9VlFIFFEUve7sOO7OOBkECVGsEBgVuR9CEoiLbVY/acjWR0Vr0JoQNl9pRLQIYT+lHxp97k+1\n",
       "EchQGYYfTn2IFZUGEoRLK1hIYEXoZiXafe++cdd1cvqpC2fnzX1v7nn3zL1vFuC/Wfov1+0QWNu0\n",
       "gLP/KWKUDV64hpBCBDYcdaKonw3XdQA0rnT7u87Mb24BkIMAd5njuitTUZrAhl+dFhREAU4GoCjP\n",
       "Xegxpz8lAOIA5/FWiboyDQqgvVx0WlBjIkKgJVYxqQGkeU4blbtdmbYI4LZ6vwsfBpAa7AVDBsDr\n",
       "BOgl/E4fSKXigslnHQKYRIHvtLVdciXyxAloqvqNfCpmAc32iibEGO66hd9VvcrJqRwlK8RkMrHY\n",
       "O1cmOUFA2+VbIF8V+2m3V8ziuBWvt3jerTnqVQ/jBvyY/F57Y53898ZcpC64uiAsAuoSkH5RCa5P\n",
       "ob0XxSTNDvZPsMFNHt/IMqWWNuHVh4JsBZ3LopEoWgmopDWMJJPH7coKEFBDUOa4a4AqcRt1kIov\n",
       "b4Z1QRm7+7iiIh6jeh6MWQwq3+wHEkUOgQef0vsjlurX74tOXBcgAFSGwxl2nRT1qmygiBhJZRFq\n",
       "2F0ZS9euCIhux5yxNVSrmO+ub5w/UmyCjK35qPxzWvVDn5XPhD+lXMV9NNNu0gLMR/tpM1Xm5gTR\n",
       "QmLS49wvmTE+9SUIIwZorHpVv6dfHFYF3QTwsRLjLl+K21vRTrgl7w9bvZlVTEw9aK5lLi+c4FMV\n",
       "gw+xcHirq/LhCfsBiwAXEF3k6+ExjWw7XWZ6jfBg1gomVE9jc738HHsGQ3wqCfAkDXs4kx8aTXF+\n",
       "NRB48ZyjRHm/12bbSSpN21Wuv8lh0o5F6WEoYNH08QgFOI0CdkN1LBYzkSkhDhfPKIfSNG/A8NIV\n",
       "Ogfi2XPsyFI4fJUn0kFvr3H5hM2MHWRtwl6yxhhkA2p4G6HWFUGYEjnZTLBRINdwvZ7/0RGnEfRc\n",
       "o9qzbXJ5tBPLx1I6QVkEBYvQaxDTUaEeOyE53MxvOvvv2YOpDCj1E9ICJOciB1B//RTv3NtnHb4a\n",
       "a9q0s1uP53/PsnvD95Q7o4QIbrbf2e018hy7/xziosDapgad/Q/yHdY//MPyG0XU6STu3zC/AAAA\n",
       "AElFTkSuQmCC\n",
       "\" style=\"display:inline;vertical-align:middle;\" /></a></span></td></tr>\n",
       "<tr><td>&nbsp;</td><td colspan=4 style-\"text-align:left\"><a class=\"ProveItLink\" href=\"../../_proofs_/iffClosure.ipynb\">proveit.logic.boolean.implication.iffClosure</a></td></tr><tr><td>2</td><td>assumption</td><td></td><td><span style=\"font-size:20px;\"><a class=\"ProveItLink\" href=\"../3612ec1dc3b8c98c2193921a926214e0c20eaba70/expr.ipynb\"><img src=\"data:image/png;base64,iVBORw0KGgoAAAANSUhEUgAAAEkAAAAVBAMAAAD4Ed5jAAAAMFBMVEX///9ERETc3NyqqqpUVFS6\n",
       "urrMzMwyMjIQEBCIiIh2dnYiIiLu7u5mZmaYmJgAAABJJ2g3AAAAAXRSTlMAQObYZgAAAS5JREFU\n",
       "KM9jYGDgu8eAB7CtUgBRPLsY8AK2ZhDJ+QHK24Aqu/xjfcVGAyDjOojH1QARZf+AZohAJE/NKiC9\n",
       "AlnV6z8YqhimsqOpYrL9BJHkmb57dwFUlR3LAVRVnJxfIarS3yCZpYhmVgzzP4iZMggb2fbJwFTx\n",
       "go3nCWD7CZZjVICrit7/YwKQfg/iZASASFYGpr9guYPIrp9pCPL8BQaGlDawUIqLy0cwI2L3boTr\n",
       "GVkXABniD4DCCSAhoIHtEOXIZjEyCDAwcINUsoA0MgPxDrDcaQxVYHdxgWJGGYjrwXIsD5BVgWyE\n",
       "hwQPyDz5A2DPbkVS9XYiUngxSXxXYHj4vxYsqX4NHtvSLQbo8QgHJtUQP8IAdlXoAKyKj5AqcPri\n",
       "2UkgrbaCKb7FBNM9AKQsUzxrU6Y9AAAAAElFTkSuQmCC\n",
       "\" style=\"display:inline;vertical-align:middle;\" /></a> <a class=\"ProveItLink\" href=\"../dc2523262ffa0ce1920b871c7f702fb73e741c290/proof.ipynb\" style=\"text-decoration: none\">&#x22A2;&nbsp;</a><a class=\"ProveItLink\" href=\"../18d84e6b10643c76412edd0e67904c254c981c030/expr.ipynb\"><img src=\"data:image/png;base64,iVBORw0KGgoAAAANSUhEUgAAADYAAAAPBAMAAABdHiGLAAAAMFBMVEX///92dnYQEBBERERUVFS6\n",
       "urqIiIhmZmaqqqrc3Nzu7u6YmJgyMjIiIiLMzMwAAACFkkdwAAAAAXRSTlMAQObYZgAAANJJREFU\n",
       "GNNjYACBtwwogPG8zR9dCyjnPKocAzNrwpqFAmAm9/0FGHJsAQfAzBn1EyBiy87evQOV49jgBRZK\n",
       "yA8A03ynFyD0RRqAWKwL+jeAhSYvQJj5djOYs5ThfQJYyBJh393/amBWAMP8AhDNZYDslgwQj8/F\n",
       "xR9itu7du3C3MBgEgoQYGJjA7uVzQNLHYMAMZDQwMPAqgM28gC7HCZTj+QAW8kaRA5q5BsT+BRZa\n",
       "G4CQ4y4zYJisf5KB2/4P2KGcxx/AwvrzJQ+0MObwgbgTAgCMvTlc/0QYTQAAAABJRU5ErkJggg==\n",
       "\" style=\"display:inline;vertical-align:middle;\" /></a></span></td></tr>\n",
       "<tr><td>3</td><td>assumption</td><td></td><td><span style=\"font-size:20px;\"><a class=\"ProveItLink\" href=\"../914e2e75adaf19a4938e0413a1a8fbb4767549080/expr.ipynb\"><img src=\"data:image/png;base64,iVBORw0KGgoAAAANSUhEUgAAAEsAAAAVBAMAAAD85A5eAAAAMFBMVEX////c3NxERESqqqpUVFS6\n",
       "urrMzMwyMjIQEBCIiIh2dnYiIiLu7u5mZmaYmJgAAABXZE4RAAAAAXRSTlMAQObYZgAAAUJJREFU\n",
       "KM9jYGDgu8eAD7CtEgBRPLsY8AO2ZhDJ+QFEPvnv4qIegCK9/FN9xSYDIOM6iMfVABZsYmDg/Ypq\n",
       "jEIkT80qIL0CoYztJxB/QVfGMJUdVRnnR6BffoFlT1bv3g5TZsdyAEUZE5Dk7gGbW3cAyTQhVNP4\n",
       "HRgYi8DyQgcQlrLt04Ep4y0AkfmeM28/AEsqItwWvf/HBCD9HsTJAAfDfAEGni3gYFRA9sJMIyDN\n",
       "foGBIaUNLKQBUgoyjrV7926EF5hYFwAZ6kCJiASQECgs3oOE2ByQTWNiABrODRJnAbmN7R+Q8AcF\n",
       "Oc8GDGVgt3FtgAYb43ewpB+KMpCliAABBVtGDVjydACSsreTkMONV/+Li3sdRJKxNgEe9dotBqjB\n",
       "iwSY3aE+hQHsyjAAWBkfQWXg9Mazk1DqbQVTfIsJ5wUARE9btOyT4dIAAAAASUVORK5CYII=\n",
       "\" style=\"display:inline;vertical-align:middle;\" /></a> <a class=\"ProveItLink\" href=\"../c8fb2ead5ce9bf67050d1f45aa1e107c886568230/proof.ipynb\" style=\"text-decoration: none\">&#x22A2;&nbsp;</a><a class=\"ProveItLink\" href=\"../41a86ef0ff9417c73c472e1bdfa161b308e2753e0/expr.ipynb\"><img src=\"data:image/png;base64,iVBORw0KGgoAAAANSUhEUgAAADcAAAAPBAMAAACy3Eq1AAAAMFBMVEX///+qqqru7u4iIiJ2dnbc\n",
       "3NyIiIjMzMxmZmYQEBC6uroyMjJERERUVFSYmJgAAADLUcuvAAAAAXRSTlMAQObYZgAAAOZJREFU\n",
       "GNNjYGB4+//u3dMLGJCB95/9O20EwMw5DAwcv1AkGQ4sY9rkAmKwfwPiv+iSDFncIAbbVwYGvi9g\n",
       "MbXNxtYwSTleBSCDZwIDA/MksBn7FJB0xoAY/BcYWPeARWMUEMay2x0CMeqvpTU/AAsdRdi52P5n\n",
       "AoiRH8DAZAtiMB1AdlCaDIhxEqQApJVrsrExwkE8XA5ABsgX70EM9gvIOnkYgAax/wNy7oOCg8kA\n",
       "QxLkTdbfYKF7KJIgY0HerNwEFlJegCT5IgcYquf/3r29DyLEuqMAHvCH5wqghigD422oayEAAEv1\n",
       "Sz0foy5uAAAAAElFTkSuQmCC\n",
       "\" style=\"display:inline;vertical-align:middle;\" /></a></span></td></tr>\n",
       "</table>"
      ],
      "text/plain": [
       "<proveit._core_.proof._ShowProof at 0x7f94eadfcb70>"
      ]
     },
     "execution_count": 1,
     "metadata": {},
     "output_type": "execute_result"
    }
   ],
   "source": [
    "import proveit\n",
    "%show_proof"
   ]
  },
  {
   "cell_type": "code",
   "execution_count": null,
   "metadata": {},
   "outputs": [],
   "source": []
  }
 ],
 "metadata": {
  "kernelspec": {
   "display_name": "Python 3",
   "language": "python",
   "name": "python3"
  }
 },
 "nbformat": 4,
 "nbformat_minor": 0
}
