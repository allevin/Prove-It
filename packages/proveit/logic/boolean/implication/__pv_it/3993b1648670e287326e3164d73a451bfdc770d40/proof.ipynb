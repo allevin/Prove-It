{
 "cells": [
  {
   "cell_type": "markdown",
   "metadata": {},
   "source": [
    "Show the Proof\n",
    "========"
   ]
  },
  {
   "cell_type": "code",
   "execution_count": 1,
   "metadata": {},
   "outputs": [
    {
     "data": {
      "text/html": [
       "<table><tr><th>&nbsp;</th><th>step type</th><th>requirements</th><th>statement</th></tr>\n",
       "<tr><td>0</td><td>specialization</td><td>1, 2</td><td><span style=\"font-size:20px;\"> <a class=\"ProveItLink\" href=\"proof.ipynb\" style=\"text-decoration: none\">&#x22A2;&nbsp;</a><a class=\"ProveItLink\" href=\"../b6ecdc44a2c366168055561f214dc13085354f2c0/expr.ipynb\"><img src=\"data:image/png;base64,iVBORw0KGgoAAAANSUhEUgAAAWgAAAAVBAMAAACZAGlNAAAAMFBMVEX////c3NwiIiJERESqqqqY\n",
       "mJh2dnZmZmYQEBDu7u4yMjJUVFTMzMyIiIi6uroAAAAs73DqAAAAAXRSTlMAQObYZgAAAmlJREFU\n",
       "SMfVVz1LA0EQnWhMLkc8UyuCaKOVClrYWWuTykIQ7MRCCBZWFio2NuHqVDaKsZDYSxAsBC3MHxBC\n",
       "KlGs7cS92Y2XnZkzue0c2LnsZt57c/txuwvwLy1o6fK3jbRpyycMguG4ZLUUjM9Y8tNoC0JkBjUO\n",
       "SWuxEflJifqX61DAGUXD6spYNwWKFfn1dLvffYVQP318PkI/jM//JGoOjKMtXWjSIQkf2TbUJuoV\n",
       "mEQBBEwXFxtVc2D0VHZeyJOuk/DCka49zOnnGZfwQwHTxcVG1RwY39XPd+BJf5BwWNK1pu6Q4JxL\n",
       "BA0Js0STpmoOjAfKHwhJ51okfEcP2PmQXhrbXAL2QMDs0KSJmgvjhfIXFo1Zql8kfE2/Szm/igNX\n",
       "tiT2ETJfETCIy1+jYcfZak6MVeWrQk9D9sYOf0M/BBkcRq8t9AustTnmjfY0UXNh/Fb+W0oaalUr\n",
       "/AX9FsBd9BwTJQpXbYZ5oUkTNRfGxKSLl6GQ9JzZG2SJp11InbQL46nyp9KcngmF6ZFVv/1SNJir\n",
       "wgycXoGE6dG74dpqTozLyi8LPZ1tkPBNXC0lLQPDZaFf1kHAbNKettWcGOOvkp30uPSxgYfITUVr\n",
       "vsIl9ILq+8mz1ZwYO8p3dLO14S7Gc+UExxU/Js3ufhtM4QjOqmn0CxkuxRKa68YUyzq9rG6Mnmr3\n",
       "SvyAck/qejvGxRJE7lg404CAEbZxS82JUT7UcMuRo+QGDIbJsSNokloaxrp1Okq0Gqn3nGX+xNQS\n",
       "jqbc0jBOmNLHbunVoDEY5pY3J6ilYYyuEJm+161ROsflKwbDcFyy2sCMP4U97fMMvC5XAAAAAElF\n",
       "TkSuQmCC\n",
       "\" style=\"display:inline;vertical-align:middle;\" /></a></span></td></tr>\n",
       "<tr><td>&nbsp;</td><td colspan=4 style=\"text-align:left\"><span style=\"font-size:20px;\"><a class=\"ProveItLink\" href=\"../25f6941e01c3f1a53c460cab763c2f3bbf4f84e30/expr.ipynb\"><img src=\"data:image/png;base64,iVBORw0KGgoAAAANSUhEUgAAAEUAAAAVBAMAAADiLT7tAAAAMFBMVEX///8yMjLMzMwQEBAiIiJm\n",
       "Zma6urqYmJiqqqp2dnZERETc3NyIiIhUVFTu7u4AAAAe+HC4AAAAAXRSTlMAQObYZgAAAQVJREFU\n",
       "KM9jYCAJ5GAVLYNQb89uAJJMF7CqYVUAUyv7C4Ak4wPsxguACL5vL0DUGRxOqAQRHB/AbDscah6D\n",
       "bXQAkWwCONRwNTAwsF/2DQCpnAAX5Z5zuycGzuMEyfIfADEZC+CiLxlKCkzgPA6QBfvBvmNOgItO\n",
       "YDjP0ATnsRkAiX4wkx+h5gHDLST3MIG8NAVdDQODDbqatWAmcwNCmPsTAx+qXRBNXAg3V/N8YDgH\n",
       "57ELgIIZ4UWIR75zGXAfQPE72z+IkcCQ7FoFBA/41sybeRzGAQYK0KE80AC2xh0XtTCHVOJQM4eB\n",
       "wfAJlI0jbfABramMhnkYexrj3YDM24NVzSEGBgDorz1wDkvJZwAAAABJRU5ErkJggg==\n",
       "\" style=\"display:inline;vertical-align:middle;\" /></a> : <a class=\"ProveItLink\" href=\"../e7b651fcf3f4fec42d703294e13e9196d48829aa0/expr.ipynb\"><img src=\"data:image/png;base64,iVBORw0KGgoAAAANSUhEUgAAAIwAAAAVBAMAAABmhxuGAAAAMFBMVEX///+6uroyMjLMzMwQEBAi\n",
       "IiKYmJhmZmZUVFSIiIh2dnbc3Nzu7u5ERESqqqoAAABZrPngAAAAAXRSTlMAQObYZgAAAWBJREFU\n",
       "OMtjYKATYJxASAWbABHGWIAIbmxmsYeCwQWGYty6uQ9AGToggrkAuyqIOBNuY5igGjknYBpzAM0Y\n",
       "tgU4jbGNgdAsBzCN0UEzhscBpzGNMyG0EAOmMRJoxjDcgwfFyu6XlUgqeRRYIYwqLMZwTUAzZjmM\n",
       "f4ohNcEVWWUC+wMwQw3FGGjkfEcz5hGMv4BhPsNjJGNYGbgVwAxHLK5h4FNENUYEEfi9KAozGRia\n",
       "wYyP2IxhOOSIYow9QsYTRV0MNN1hN4ZZ6wAOY7g/M/AguRoozbQBxPLDFjaxB3B4KpvzA8McpMS3\n",
       "AWIUA8M1LK7ha0AL4iSYxDdeB+R8YwsiAhBxiWrMJgaMCH97FwgO8Nxcs2oaA5QDSnwgSXACFIX4\n",
       "xBWUBWHgNsIYSDZQxJGGwVmfEZwZNmDKGqDx8WQGeGGygHBZwjWBsBodwkoOEVFs7SCspJsIY7gJ\n",
       "upjTgAEA+RdUNwmIJ3sAAAAASUVORK5CYII=\n",
       "\" style=\"display:inline;vertical-align:middle;\" /></a>, <a class=\"ProveItLink\" href=\"../../../../../__pv_it/530be409e3083890784cf1d7b28c9e67e90af9360/expr.ipynb\"><img src=\"data:image/png;base64,iVBORw0KGgoAAAANSUhEUgAAAAsAAAAJBAMAAAAWSsseAAAAKlBMVEX///9ERETMzMwQEBAiIiKY\n",
       "mJju7u5mZmaqqqpUVFSIiIh2dnbc3NwAAAA/vyDhAAAAAXRSTlMAQObYZgAAAENJREFUCNdjYDi9\n",
       "8sTyBQxsG1hdmR0YuBm4LnAoMLAxcAowgADzAjB1VoEhgYH1wFoGrgSG3gBhhlMMDImrs3cFMAAA\n",
       "t0YN+iTRa+sAAAAASUVORK5CYII=\n",
       "\" style=\"display:inline;vertical-align:middle;\" /></a> : <a class=\"ProveItLink\" href=\"../c65898187aa5a4404b8e436d28e20f1178f211670/expr.ipynb\"><img src=\"data:image/png;base64,iVBORw0KGgoAAAANSUhEUgAAAD8AAAAPBAMAAAChCwpBAAAALVBMVEX////c3NwQEBCqqqqIiIhU\n",
       "VFS6uroyMjLu7u52dnbMzMxEREQiIiJmZmYAAACG8MiSAAAAAXRSTlMAQObYZgAAAGJJREFUGNNj\n",
       "uHMGBE4zYAGMDlDGWgbsgOsCNgUchBSwNxBQwBZAQAHDFNwKIB46d4GACQzmCQQUcBQl4FewfAZ+\n",
       "N5zZQcANpgS8yViAqWAlsgJuAQjNC7RM58yZDZgxhMYHACe9L414BCJLAAAAAElFTkSuQmCC\n",
       "\" style=\"display:inline;vertical-align:middle;\" /></a>, <a class=\"ProveItLink\" href=\"../../../../../__pv_it/f8b9edf8e16034727f0aad55bb83e392c3db40d40/expr.ipynb\"><img src=\"data:image/png;base64,iVBORw0KGgoAAAANSUhEUgAAAAsAAAANBAMAAACN24kIAAAAMFBMVEX///+YmJhUVFQyMjIQEBBE\n",
       "REQiIiKqqqrMzMyIiIi6urrc3NxmZmZ2dnbu7u4AAADXeCicAAAAAXRSTlMAQObYZgAAAFhJREFU\n",
       "CNdj4LtzgWH/AwZerg8M8xkY2nkSGEIZGB6wTGD4ycDAUP+A4weQOszA6QCkbBhYFYDUIYb1AkDq\n",
       "6czzGxhA4BoQMyXwuQMptgusF4AU+8xTQBIAUqMVoSp/SLMAAAAASUVORK5CYII=\n",
       "\" style=\"display:inline;vertical-align:middle;\" /></a> : <a class=\"ProveItLink\" href=\"../../../__pv_it/8f1f7fac882de28c72b62ab80a1700b6d8fd066b0/expr.ipynb\"><img src=\"data:image/png;base64,iVBORw0KGgoAAAANSUhEUgAAAA4AAAAOBAMAAADtZjDiAAAAG1BMVEX///9EREQQEBAiIiJmZmbM\n",
       "zMyIiIjc3NwAAACryk5kAAAAAXRSTlMAQObYZgAAABlJREFUCNdjYGBgKGOAgBBa0s7GxkbGxoYA\n",
       "FMUF2aBfHgoAAAAASUVORK5CYII=\n",
       "\" style=\"display:inline;vertical-align:middle;\" /></a></span></td></tr><tr><td>1</td><td>axiom</td><td></td><td><span style=\"font-size:20px;\"> <a class=\"ProveItLink\" href=\"../../../../equality/_axioms_.ipynb#substitution\" style=\"text-decoration: none\">&#x22A2;&nbsp;</a><a class=\"ProveItLink\" href=\"../398f54eae8bb3b5e6faf9c5a7a2ed97d055770700/expr.ipynb\"><img src=\"data:image/png;base64,iVBORw0KGgoAAAANSUhEUgAAAO8AAAAXBAMAAAARnwX+AAAAMFBMVEX///8QEBC6urrMzMxUVFRm\n",
       "ZmZERETc3NwyMjKqqqp2dnaIiIiYmJgiIiLu7u4AAAAU9Wx4AAAAAXRSTlMAQObYZgAAAvdJREFU\n",
       "SMfFVj1oFEEUfvef293bHKayECJYpIk5wcYqRyRGTBPUQgyiNonCgVuI8QfNIggWEq5QsLttDglB\n",
       "OTAemhRZJIVoc7UorE0QLXIYMIUiznszO7O3uznJQfDBm/123jfzZt+99+YA/pd4vS5MNqLYGPw3\n",
       "/63QFr586MHxURzMyQmJUc7EEEOcTInrIr4s9OCY1mQXf3es74shhjk21xvskbu0e786RW7zcFVi\n",
       "irUTZYY577n2sR85U9294wQlRy2AKazFKDPM+cLVeDY3d7eHSA/ReCGASa5GmWFOtsr158zMxx4c\n",
       "n8dh/cC4j28v33rFolmPEBXHrDsw74E2BaTHAWYxSOON6O5dquMRjb98bDrGpwSrkKeUuA9JytDJ\n",
       "0ZJtWAPI21wPgYl5llmZiu7eJen24ZDb8rEGejvPiuRghKg4xzItmGEFXeRaAN1lhkLc13Vx/AOH\n",
       "fNvHJqSJPBohKo6XaODnp9pcdbeACdfv9eBYaymcaMQ7DnBqXmpLOTZt7CnGtWk0L40ts3glmyL7\n",
       "uWM+SW2vKctiPyVoWeH5ErZfCnXmMwlfHeCcA72oQg2zY2h4R6fzTiRYon/vt46oL6bJk5gtDWkA\n",
       "qKivRGxYa6B7YpvOgpcceECnMGyu8IRiQXWQ5Ml6bxiayrGY7DAI/uagj2vuZbgDceWkOHAWRlyQ\n",
       "5SSOVOG0bRpPwWTwN96Wu/gGgGEcRjwfb6x8W8IcvR9xrDiwsXrRYr1ykCsYniwPSBVT/GUg4Bgn\n",
       "r1CopYEdl20BrwN4p5bZwXmuWqa/4g/ATWtUszX2gIFkWzmmSSG+ga4Do1wJXw1auAsFOemWiSm2\n",
       "JBTEVzEP7sab6RfsAY+btnJMk0J8A11ziYVW8IpE+RpJrQCn4GQdoHZl2upk+Gu7HLs5K92IrWNp\n",
       "YHIdjLolsZCJsOMgJ796mj3TFldxga+zSk3x15SVdYbiG4g04CECUfWxXtq54/icl0LF/xEMuiEO\n",
       "yY7mxDuWhr2W8t5t/RfNBeNeS11EOAAAAABJRU5ErkJggg==\n",
       "\" style=\"display:inline;vertical-align:middle;\" /></a></span></td></tr>\n",
       "<tr><td>&nbsp;</td><td colspan=4 style-\"text-align:left\"><a class=\"ProveItLink\" href=\"../../../../equality/_axioms_.ipynb#substitution\">proveit.logic.equality.substitution</a></td></tr><tr><td>2</td><td>theorem</td><td></td><td><span style=\"font-size:20px;\"> <a class=\"ProveItLink\" href=\"../../_proofs_/impliesTF.ipynb\" style=\"text-decoration: none\">&#x22A2;&nbsp;</a><a class=\"ProveItLink\" href=\"../76865972868ae2117b91baf7b7211dfd07f02eb10/expr.ipynb\"><img src=\"data:image/png;base64,iVBORw0KGgoAAAANSUhEUgAAAHoAAAAVBAMAAAB71edYAAAAMFBMVEX////c3NwiIiJERESqqqqY\n",
       "mJh2dnZmZmYQEBDu7u4yMjJUVFTMzMyIiIi6uroAAAAs73DqAAAAAXRSTlMAQObYZgAAAPBJREFU\n",
       "OMtjYKAM8F0gqCQOt9RpBoYiJRBQxiYrCyLYD+CSYVgJJo/jMBsivgCXDO8FTN0T0HWH4dLNMQFT\n",
       "90p03TNw6X7FgKn7NbpuZgccusuw6Ga7gKabrQCH7qUoutnBoa/0HU03CzjYqlaBwGpkmT4sdjOw\n",
       "rEPVzdeAw+5/2HQzzOpD0c3zgRTdPMsmEKe7BZu/lSdgczlqkgTLmGKxm2UDWqixLsBhdzoW3VIM\n",
       "xMbYIwj7GLKEIZQGOlUD7FSuB2haYTIcApjGYmSpGbgyKGsCEWVALk6ZlYQ1cy7AKSVNWDe3AE4p\n",
       "RsIl0x1cEgBJHknZQwu+sgAAAABJRU5ErkJggg==\n",
       "\" style=\"display:inline;vertical-align:middle;\" /></a></span></td></tr>\n",
       "<tr><td>&nbsp;</td><td colspan=4 style-\"text-align:left\"><a class=\"ProveItLink\" href=\"../../_proofs_/impliesTF.ipynb\">proveit.logic.boolean.implication.impliesTF</a></td></tr></table>"
      ],
      "text/plain": [
       "<proveit._core_.proof._ShowProof at 0x7f94ebfac748>"
      ]
     },
     "execution_count": 1,
     "metadata": {},
     "output_type": "execute_result"
    }
   ],
   "source": [
    "import proveit\n",
    "%show_proof"
   ]
  },
  {
   "cell_type": "code",
   "execution_count": null,
   "metadata": {},
   "outputs": [],
   "source": []
  }
 ],
 "metadata": {
  "kernelspec": {
   "display_name": "Python 3",
   "language": "python",
   "name": "python3"
  }
 },
 "nbformat": 4,
 "nbformat_minor": 0
}
