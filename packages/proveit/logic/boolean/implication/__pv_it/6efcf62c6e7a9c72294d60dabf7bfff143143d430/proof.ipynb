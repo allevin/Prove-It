{
 "cells": [
  {
   "cell_type": "markdown",
   "metadata": {},
   "source": [
    "Show the Proof\n",
    "========"
   ]
  },
  {
   "cell_type": "code",
   "execution_count": 1,
   "metadata": {},
   "outputs": [
    {
     "data": {
      "text/html": [
       "<table><tr><th>&nbsp;</th><th>step type</th><th>requirements</th><th>statement</th></tr>\n",
       "<tr><td>0</td><td>specialization</td><td>1, 2</td><td><span style=\"font-size:20px;\"> <a class=\"ProveItLink\" href=\"proof.ipynb\" style=\"text-decoration: none\">&#x22A2;&nbsp;</a><a class=\"ProveItLink\" href=\"../742849410df299216dcf8c3e449e22d8631e32170/expr.ipynb\"><img src=\"data:image/png;base64,iVBORw0KGgoAAAANSUhEUgAAAHUAAAAVBAMAAACK3rzVAAAAMFBMVEX////c3NwiIiJERESqqqqY\n",
       "mJh2dnZmZmYQEBDu7u4yMjJUVFTMzMyIiIi6uroAAAAs73DqAAAAAXRSTlMAQObYZgAAAUpJREFU\n",
       "OMtjYKAE8F0gpIL1AS6Z0wzsSmBggEWSEWxwDZpo1uf1K5QdgIyVIB5PAXaDIeJc6MIGbzlXpjEw\n",
       "8F7A1DsBTS9rAoZehntAAzkmYOpdiaaXswHCm7tISQum15V7AsMrBky9r9H0MphAOEsnINkrzMBQ\n",
       "hkUv2wU0velgUngCws08qpYMDEtR9EKD/DuaXi8waYjw7yP9H0Dz+7DYy8CyDlXvC7CvDZDD6q4z\n",
       "A8M/bHoZZvWh6D0PTkRNQBfBw4qZLwG7Xp5lEzD18mxAtpeZwYChBZt/lSdgc7MCul5TLPaybEAL\n",
       "qygwuRVFL9DN6Vj0SjFgjaNJD5D0hl9mYHgEUYOS6gwRHmgC5xFIsDMuPwDPC0bdwLzAIYCZAw6g\n",
       "8WFpkmUXNJxhmTOBcBZnw5XFVxLWOwuXhDRhvRtxSTASLHN4D2AXBwDOploRC7LbQAAAAABJRU5E\n",
       "rkJggg==\n",
       "\" style=\"display:inline;vertical-align:middle;\" /></a></span></td></tr>\n",
       "<tr><td>&nbsp;</td><td colspan=4 style=\"text-align:left\"><span style=\"font-size:20px;\"><a class=\"ProveItLink\" href=\"../../../../../__pv_it/2cbe72a7ad6f655694dd697106680215e8489b600/expr.ipynb\"><img src=\"data:image/png;base64,iVBORw0KGgoAAAANSUhEUgAAAA8AAAAOBAMAAAACpFvcAAAALVBMVEX///8QEBBERERUVFS6urqI\n",
       "iIhmZmaqqqrc3Nzu7u6YmJgyMjIiIiLMzMwAAADtIaYWAAAAAXRSTlMAQObYZgAAAFtJREFUCNdj\n",
       "YACBOwxQsA9Kc52bAGG05zVAGAFxDmCaZULdAjBjCsO9ADDDgaEvAUTzGhvbKYCVMDAwbgAxChgY\n",
       "eASANAeQwf0AyJgNxEwvGRia5HYwcOm9TgAA6BoR3jrzwFcAAAAASUVORK5CYII=\n",
       "\" style=\"display:inline;vertical-align:middle;\" /></a> : <a class=\"ProveItLink\" href=\"../c65898187aa5a4404b8e436d28e20f1178f211670/expr.ipynb\"><img src=\"data:image/png;base64,iVBORw0KGgoAAAANSUhEUgAAAD8AAAAPBAMAAAChCwpBAAAALVBMVEX////c3NwQEBCqqqqIiIhU\n",
       "VFS6uroyMjLu7u52dnbMzMxEREQiIiJmZmYAAACG8MiSAAAAAXRSTlMAQObYZgAAAGJJREFUGNNj\n",
       "uHMGBE4zYAGMDlDGWgbsgOsCNgUchBSwNxBQwBZAQAHDFNwKIB46d4GACQzmCQQUcBQl4FewfAZ+\n",
       "N5zZQcANpgS8yViAqWAlsgJuAQjNC7RM58yZDZgxhMYHACe9L414BCJLAAAAAElFTkSuQmCC\n",
       "\" style=\"display:inline;vertical-align:middle;\" /></a></span></td></tr><tr><td>1</td><td>theorem</td><td></td><td><span style=\"font-size:20px;\"> <a class=\"ProveItLink\" href=\"../../../_proofs_/inBoolIfFalse.ipynb\" style=\"text-decoration: none\">&#x22A2;&nbsp;</a><a class=\"ProveItLink\" href=\"../../../__pv_it/a8889ad68c7b4cf0e24624f2b3dd4b353b6fbb540/expr.ipynb\"><img src=\"data:image/png;base64,iVBORw0KGgoAAAANSUhEUgAAAJMAAAAXBAMAAAD96mDoAAAAMFBMVEX///8QEBC6urrMzMxUVFRm\n",
       "ZmZERETc3NwyMjKqqqp2dnaIiIiYmJgiIiLu7u4AAAAU9Wx4AAAAAXRSTlMAQObYZgAAAhdJREFU\n",
       "OMtjYKAeeECsQqYN+GQPAfEFEOM0EUaZQChbVFGu/owfspkMDKwGDAwrQQJ9RBgFVdOPJszGtOHF\n",
       "qwUMDA0MDGVALnsCYZO4If7juf8AwyhuBaA5pxgYOIBSrBMIG8UIMaIyvgDCf9179wbUKM4DfgwM\n",
       "D4HWLC8vryXCfxoQasN+BTDN3PMA4Sp1oK/YgM75lpZ2iwijoiDR+GD+ATCj7AHCg7bHgByuAAYG\n",
       "ZwaGdLBgO0QxqgntMEYPmHzEYA8Js3REWN39Lw2kOYHhpcLA1wAO0E8QKRSToIJAIAQmFRjqA0A0\n",
       "XwJysO8E8pgEGBh4GbjBbn76B4tRUEEgAJvJ7OLiDzaESfbuXXiwMyRoAaU+AGP5AC/Y3+uuYjEK\n",
       "KggzCuh7RrAXmB2QXMWQwAYxiq8BnI6ZN6RhGgUTBAJJEAGMJV4BsAcvoBsF8iBDuhNIiIUhFtMo\n",
       "mCAQ5ICSMtAojg9grg+KUUAP8oBcOxVsw0mG/UhGLUtLS2tACALBUiB+AZL/B+a+VUAYxROdAEkM\n",
       "DIyg6OW7Gpr/ANVVCQhBINAFpiX5dgae/B/gKGRvNYBl528XPYEMDpDZPCDVrAUM9gboRsEFQRYW\n",
       "oCY4Tg9IDMLAQzhLh4GB/wC6UXBBkIUL8OeG1TDGk28M7P53UI0yQAgSLoggyRyt0MCluASvUSwF\n",
       "JBjFjrdA3sxAglGkAxaydQIAdVKHuuxtmLQAAAAASUVORK5CYII=\n",
       "\" style=\"display:inline;vertical-align:middle;\" /></a></span></td></tr>\n",
       "<tr><td>&nbsp;</td><td colspan=4 style-\"text-align:left\"><a class=\"ProveItLink\" href=\"../../../_proofs_/inBoolIfFalse.ipynb\">proveit.logic.boolean.inBoolIfFalse</a></td></tr><tr><td>2</td><td>theorem</td><td></td><td><span style=\"font-size:20px;\"> <a class=\"ProveItLink\" href=\"../../_proofs_/trueImpliesFalseNegated.ipynb\" style=\"text-decoration: none\">&#x22A2;&nbsp;</a><a class=\"ProveItLink\" href=\"../19695fac098af60dda073aa331eb160163f4f0fc0/expr.ipynb\"><img src=\"data:image/png;base64,iVBORw0KGgoAAAANSUhEUgAAAF4AAAAVBAMAAAA9Y0TyAAAAMFBMVEX////c3NxERESqqqqYmJgQ\n",
       "EBDu7u4yMjKIiIi6urpUVFTMzMx2dnYiIiJmZmYAAABjE816AAAAAXRSTlMAQObYZgAAANtJREFU\n",
       "KM9jYCAbcDYQUsEyAZm3i4HvLhgoYFHKCDbsNbJQGYjgfoDdaIg4O5IIRwOm+gQ09SwHEHKsCZjq\n",
       "y9DUswUg5KYzYKqfhaaeQRkh9waLep4GNPXnEHIlKOqhQfUPTb05w1uQ8B0gMxKL+QzMlajqp8KC\n",
       "noHhJzb1DOmRKOr3E1DPXZOAS30wNvdfSsDpHhUs5jMvQPOvO5QHDypU9eIMuMNzLkT8ALJ6RYTj\n",
       "YsHpsBIpPQhgprINaHzk9MBygHAW4WnAmrhwgnRkjhRh9QsxsxA+wLGBAQB4llFjYC946gAAAABJ\n",
       "RU5ErkJggg==\n",
       "\" style=\"display:inline;vertical-align:middle;\" /></a></span></td></tr>\n",
       "<tr><td>&nbsp;</td><td colspan=4 style-\"text-align:left\"><a class=\"ProveItLink\" href=\"../../_proofs_/trueImpliesFalseNegated.ipynb\">proveit.logic.boolean.implication.trueImpliesFalseNegated</a></td></tr></table>"
      ],
      "text/plain": [
       "<proveit._core_.proof._ShowProof at 0x7f94ebf9b860>"
      ]
     },
     "execution_count": 1,
     "metadata": {},
     "output_type": "execute_result"
    }
   ],
   "source": [
    "import proveit\n",
    "%show_proof"
   ]
  },
  {
   "cell_type": "code",
   "execution_count": null,
   "metadata": {},
   "outputs": [],
   "source": []
  }
 ],
 "metadata": {
  "kernelspec": {
   "display_name": "Python 3",
   "language": "python",
   "name": "python3"
  }
 },
 "nbformat": 4,
 "nbformat_minor": 0
}
