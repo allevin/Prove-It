{
 "cells": [
  {
   "cell_type": "markdown",
   "metadata": {},
   "source": [
    "Show the Proof\n",
    "========"
   ]
  },
  {
   "cell_type": "code",
   "execution_count": 1,
   "metadata": {},
   "outputs": [
    {
     "data": {
      "text/html": [
       "<table><tr><th>&nbsp;</th><th>step type</th><th>requirements</th><th>statement</th></tr>\n",
       "<tr><td>0</td><td>specialization</td><td>1, 2</td><td><span style=\"font-size:20px;\"><a class=\"ProveItLink\" href=\"../edd8455a49d47780786b5faa6e783100cb7d31cc0/expr.ipynb\"><img src=\"data:image/png;base64,iVBORw0KGgoAAAANSUhEUgAAADAAAAAVBAMAAADyTXAxAAAAMFBMVEX///9ERETc3NyqqqpUVFS6\n",
       "urrMzMwyMjIQEBCIiIh2dnYiIiLu7u5mZmaYmJgAAABJJ2g3AAAAAXRSTlMAQObYZgAAALxJREFU\n",
       "KM9jYGDgu8eABrIWgUieXQwYIMMASHB+QBFj2wAkeAuABFcDigT7B5gYmsTrP9glmGw/YZfg5PyK\n",
       "XSKG+R9MDOwCGOAJYPsJpPhALsgIYGC4vRsIQP5hZWD6C1JQy8CQ0gZTnQLCLi4fQWzGOgaGiAQk\n",
       "CaDudhAbpJulACHBDKR2wOzg2oCQUAZS9RjOZWPgAWmWP4DhDyaJ7woMD//XYg8rMMAvwYdFAhwa\n",
       "PDuxxGAAiORbjC3OAaHOM6CzgdAAAAAAAElFTkSuQmCC\n",
       "\" style=\"display:inline;vertical-align:middle;\" /></a> <a class=\"ProveItLink\" href=\"proof.ipynb\" style=\"text-decoration: none\">&#x22A2;&nbsp;</a><a class=\"ProveItLink\" href=\"../4c1210aaf37dbe930ad39524bc6db19b7e17039e0/expr.ipynb\"><img src=\"data:image/png;base64,iVBORw0KGgoAAAANSUhEUgAAADoAAAAUCAMAAADrw95cAAAAPFBMVEX///8LCwsYGBgNDQ0oKCh2\n",
       "dnYQEBBERERUVFS6urqIiIhmZmaqqqrc3Nzu7u6YmJgyMjIiIiLMzMwAAAAhTRy8AAAAAXRSTlMA\n",
       "QObYZgAAALNJREFUOMvFk8kOwyAMRN0lYTWb//9fWxJVIeDEUS6dAyA0j2ExAJImFC1QMjeLaRu7\n",
       "3Eg1pkQcqs0Q4fqZmCmchx6h6B3hldARtWCJsSkQURPAUxxsqoho+AYWsttdpkXvV231KVq3iuSu\n",
       "hHZo0VXUH8xoENH1fub+IRKKqF+7PO/r5vkY66ZD0fPlxIe2aPjtU+3LiT9pg6KaaVk+KqLk5FAo\n",
       "k/SRvIO7yuEu+ZdQMKLjA8BtCOWQWuqjAAAAAElFTkSuQmCC\n",
       "\" style=\"display:inline;vertical-align:middle;\" /></a></span></td></tr>\n",
       "<tr><td>&nbsp;</td><td colspan=4 style=\"text-align:left\"><span style=\"font-size:20px;\"><a class=\"ProveItLink\" href=\"../../../../../__pv_it/2cbe72a7ad6f655694dd697106680215e8489b600/expr.ipynb\"><img src=\"data:image/png;base64,iVBORw0KGgoAAAANSUhEUgAAAA8AAAAOBAMAAAACpFvcAAAALVBMVEX///8QEBBERERUVFS6urqI\n",
       "iIhmZmaqqqrc3Nzu7u6YmJgyMjIiIiLMzMwAAADtIaYWAAAAAXRSTlMAQObYZgAAAFtJREFUCNdj\n",
       "YACBOwxQsA9Kc52bAGG05zVAGAFxDmCaZULdAjBjCsO9ADDDgaEvAUTzGhvbKYCVMDAwbgAxChgY\n",
       "eASANAeQwf0AyJgNxEwvGRia5HYwcOm9TgAA6BoR3jrzwFcAAAAASUVORK5CYII=\n",
       "\" style=\"display:inline;vertical-align:middle;\" /></a> : <a class=\"ProveItLink\" href=\"../../../../../__pv_it/2cbe72a7ad6f655694dd697106680215e8489b600/expr.ipynb\"><img src=\"data:image/png;base64,iVBORw0KGgoAAAANSUhEUgAAAA8AAAAOBAMAAAACpFvcAAAALVBMVEX///8QEBBERERUVFS6urqI\n",
       "iIhmZmaqqqrc3Nzu7u6YmJgyMjIiIiLMzMwAAADtIaYWAAAAAXRSTlMAQObYZgAAAFtJREFUCNdj\n",
       "YACBOwxQsA9Kc52bAGG05zVAGAFxDmCaZULdAjBjCsO9ADDDgaEvAUTzGhvbKYCVMDAwbgAxChgY\n",
       "eASANAeQwf0AyJgNxEwvGRia5HYwcOm9TgAA6BoR3jrzwFcAAAAASUVORK5CYII=\n",
       "\" style=\"display:inline;vertical-align:middle;\" /></a></span></td></tr><tr><td>1</td><td>theorem</td><td></td><td><span style=\"font-size:20px;\"> <a class=\"ProveItLink\" href=\"../../../negation/_proofs_/untrueFromNegation.ipynb\" style=\"text-decoration: none\">&#x22A2;&nbsp;</a><a class=\"ProveItLink\" href=\"../../../negation/__pv_it/490c148b705a435cc350dcd45aef3fb19d06d7950/expr.ipynb\"><img src=\"data:image/png;base64,iVBORw0KGgoAAAANSUhEUgAAAJcAAAAXCAMAAAAx8S2TAAAAPFBMVEX///8LCwsYGBgNDQ0oKCgQ\n",
       "EBC6urrMzMxUVFRmZmZERETc3NwyMjKqqqp2dnaIiIiYmJgiIiLu7u4AAACwKje0AAAAAXRSTlMA\n",
       "QObYZgAAAdJJREFUSMfNlul2hCAMhenCDrK9/7tWYEaCRqSnTtv88OjMNX5cQoCQfxrx/pTMXWsW\n",
       "ffqXZ/ka2rO7B4uL7ilgGm3avQwgVP6BZ3D7/N/cZF2fxyRMI9hhNBK8k8nVcwjqHizX2e5DimO7\n",
       "EC6/gOFJew8XhRzayqRn7Oq4Ii1wukS4qeg7KxxxCWFApgZyEZU9SipHWO7hkjAPi8Qmf9AofsG1\n",
       "5AdRVArYbaD1bFjjh0kyACOu7/LU6k2aEp8f+SoGXDabzrIiAvt9Z/1oOfjjJFHWD0knOWNXz8Xo\n",
       "s4W5NswoO+sHXDtlCUDKRY60T8AEueLipblkptBW0RKDnOPaKfdc9Y6ay7k/4VrnEPRo7ohSU1x7\n",
       "ZcXY2s3jJtC+s7+/tc4+nse15kFDEfn9Ka69ssr91rrwho/b1XP56rEF6f2aziWca1E1DK5sSxwu\n",
       "JNU3fLy6sD6Rzd/W8loxUnapEL8UrqzfDXVTo6kY41VKRl7bRTjse+YxfX7LLnUpO37NdVQ+xqhH\n",
       "Dc/KmbMXPewitTrg8j/hQpRg0z2NMHNoWXYnrlibjRYp+BEXx5UT56U5u8zMhvft448WP7RL6Jdw\n",
       "EX1+8GUzBzhOXsP1OyH+5KtfxagUrnrqUXwAAAAASUVORK5CYII=\n",
       "\" style=\"display:inline;vertical-align:middle;\" /></a></span></td></tr>\n",
       "<tr><td>&nbsp;</td><td colspan=4 style-\"text-align:left\"><a class=\"ProveItLink\" href=\"../../../negation/_proofs_/untrueFromNegation.ipynb\">proveit.logic.boolean.negation.untrueFromNegation</a></td></tr><tr><td>2</td><td>assumption</td><td></td><td><span style=\"font-size:20px;\"><a class=\"ProveItLink\" href=\"../edd8455a49d47780786b5faa6e783100cb7d31cc0/expr.ipynb\"><img src=\"data:image/png;base64,iVBORw0KGgoAAAANSUhEUgAAADAAAAAVBAMAAADyTXAxAAAAMFBMVEX///9ERETc3NyqqqpUVFS6\n",
       "urrMzMwyMjIQEBCIiIh2dnYiIiLu7u5mZmaYmJgAAABJJ2g3AAAAAXRSTlMAQObYZgAAALxJREFU\n",
       "KM9jYGDgu8eABrIWgUieXQwYIMMASHB+QBFj2wAkeAuABFcDigT7B5gYmsTrP9glmGw/YZfg5PyK\n",
       "XSKG+R9MDOwCGOAJYPsJpPhALsgIYGC4vRsIQP5hZWD6C1JQy8CQ0gZTnQLCLi4fQWzGOgaGiAQk\n",
       "CaDudhAbpJulACHBDKR2wOzg2oCQUAZS9RjOZWPgAWmWP4DhDyaJ7woMD//XYg8rMMAvwYdFAhwa\n",
       "PDuxxGAAiORbjC3OAaHOM6CzgdAAAAAAAElFTkSuQmCC\n",
       "\" style=\"display:inline;vertical-align:middle;\" /></a> <a class=\"ProveItLink\" href=\"../04d7501518712e5b9d432219fd2131665990c4a50/proof.ipynb\" style=\"text-decoration: none\">&#x22A2;&nbsp;</a><a class=\"ProveItLink\" href=\"../feaa1d0e6d92ad9ead8e5ffd1f92697e3912387a0/expr.ipynb\"><img src=\"data:image/png;base64,iVBORw0KGgoAAAANSUhEUgAAABwAAAAOBAMAAADOPWE3AAAAMFBMVEX///8QEBBERES6urqIiIiq\n",
       "qqrc3Nzu7u6YmJgyMjJUVFTMzMx2dnYiIiJmZmYAAADMbjvTAAAAAXRSTlMAQObYZgAAAGNJREFU\n",
       "CNdjYEAA7gsMyIDzAwq39zsyjy3uGzKXheUzMtec9QcSj92A+wsDw9u7QHAHyGVmYPsHldkFwqtW\n",
       "fULiGjAwSCK4rEDqIoKbCqTmw1zLwD4BSOkXwFyk+DOBoen/PABSrhtHsYt+gAAAAABJRU5ErkJg\n",
       "gg==\n",
       "\" style=\"display:inline;vertical-align:middle;\" /></a></span></td></tr>\n",
       "</table>"
      ],
      "text/plain": [
       "<proveit._core_.proof._ShowProof at 0x7f94ebe2c828>"
      ]
     },
     "execution_count": 1,
     "metadata": {},
     "output_type": "execute_result"
    }
   ],
   "source": [
    "import proveit\n",
    "%show_proof"
   ]
  },
  {
   "cell_type": "code",
   "execution_count": null,
   "metadata": {},
   "outputs": [],
   "source": []
  }
 ],
 "metadata": {
  "kernelspec": {
   "display_name": "Python 3",
   "language": "python",
   "name": "python3"
  }
 },
 "nbformat": 4,
 "nbformat_minor": 0
}
