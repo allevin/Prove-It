{
 "cells": [
  {
   "cell_type": "markdown",
   "metadata": {},
   "source": [
    "Expression of type <a class=\"ProveItLink\" href=\"../../../../../../../doc/html/api/proveit.logic.Set.html\">Set</a>\n",
    "=======================\n",
    "# from context <a class=\"ProveItLink\" href=\"../../_context_.ipynb\">proveit.logic.boolean.implication</a>"
   ]
  },
  {
   "cell_type": "code",
   "execution_count": 1,
   "metadata": {},
   "outputs": [],
   "source": [
    "# import Expression classes needed to build the expression\n",
    "from proveit._common_ import A\n",
    "from proveit.logic import FALSE, Implies, Not, Set"
   ]
  },
  {
   "cell_type": "code",
   "execution_count": 2,
   "metadata": {},
   "outputs": [
    {
     "data": {
      "text/html": [
       "<strong id=\"expr\">expr:</strong> <a class=\"ProveItLink\" href=\"../4bf67496faaae71e18c0b81b02464d41f75298970/expr.ipynb\"><img src=\"data:image/png;base64,iVBORw0KGgoAAAANSUhEUgAAAJgAAAAVBAMAAABIwjoUAAAAMFBMVEX///9ERETc3NyqqqpUVFS6\n",
       "urrMzMwyMjIQEBCIiIh2dnYiIiLu7u5mZmaYmJgAAABJJ2g3AAAAAXRSTlMAQObYZgAAAbdJREFU\n",
       "OMtjYGDgu8dABZC1CETy7CJVXyS6wFMQkWEAJDg/QETYNmDVqYkhwuaAwgNq400AMngLgARXA0SU\n",
       "/QNWw3IxRNgPoPBA2uDmwAx7/QehggefYTNReGBtr9AMY7L9hNVyTMN6kDkQbSfQDOPk/IpQwuqA\n",
       "2zDWAmQeRBujAaphMcz/kNSsxG0Y7wJkHkQb1wWoOeBYYOAJYPsJlr29GwT2X8BpGPsDJA5UGzPQ\n",
       "DD5QTGQEgB3PwPQXWYt5AIZhYGt2MXAEwJlwbawgV9UyMKS0gVWmuLh8RDaMpyIAq8tSGPgD4Ey4\n",
       "NjaQqxjrGBgiQCmOAaiiHVlT+hoGYgyDagMbBnIpCyjMmIF4B1KY7ZZhwGUYhwHCMJg2kDfBYcYF\n",
       "ykbKQFyPpMcENTZ5kAxjfIAwDKaNrwApafCAXCePSKlMBaiGnYfnWzZwMoAy4drgSQNIMEl8V2B4\n",
       "+L8WbgKjAjwCd+zevZHhBFLuYIUbjNDGHoCWN1GKAnSBICR2E6Z69OyEHyAn1FeY0ith5vCRahhq\n",
       "EQSOnwJYTuLZSdgsTpSCwgFdmkUBnpP4FpNYbGMUvtOgdQAAu7GDouogkz4AAAAASUVORK5CYII=\n",
       "\" style=\"display:inline;vertical-align:middle;\" /></a><br>"
      ],
      "text/plain": [
       "expr: {A => FALSE , [not]([not](A))}"
      ]
     },
     "execution_count": 2,
     "metadata": {},
     "output_type": "execute_result"
    }
   ],
   "source": [
    "# build up the expression from sub-expressions\n",
    "expr = Set(Implies(A, FALSE), Not(Not(A)))"
   ]
  },
  {
   "cell_type": "code",
   "execution_count": 3,
   "metadata": {},
   "outputs": [
    {
     "name": "stdout",
     "output_type": "stream",
     "text": [
      "Passed sanity check: built 'expr' is the same as the stored Expression.\n"
     ]
    }
   ],
   "source": [
    "# check that the built expression is the same as the stored expression\n",
    "%check_expr"
   ]
  },
  {
   "cell_type": "code",
   "execution_count": 4,
   "metadata": {},
   "outputs": [
    {
     "data": {
      "text/html": [
       "<table><tr><th>&nbsp;</th><th>core type</th><th>sub-expressions</th><th>expression</th></tr>\n",
       "<tr><td>0</td><td>Operation</td><td>operator:&nbsp;1<br>operands:&nbsp;2<br></td><td><a class=\"ProveItLink\" href=\"../4bf67496faaae71e18c0b81b02464d41f75298970/expr.ipynb\"><img src=\"data:image/png;base64,iVBORw0KGgoAAAANSUhEUgAAAJgAAAAVBAMAAABIwjoUAAAAMFBMVEX///9ERETc3NyqqqpUVFS6\n",
       "urrMzMwyMjIQEBCIiIh2dnYiIiLu7u5mZmaYmJgAAABJJ2g3AAAAAXRSTlMAQObYZgAAAbdJREFU\n",
       "OMtjYGDgu8dABZC1CETy7CJVXyS6wFMQkWEAJDg/QETYNmDVqYkhwuaAwgNq400AMngLgARXA0SU\n",
       "/QNWw3IxRNgPoPBA2uDmwAx7/QehggefYTNReGBtr9AMY7L9hNVyTMN6kDkQbSfQDOPk/IpQwuqA\n",
       "2zDWAmQeRBujAaphMcz/kNSsxG0Y7wJkHkQb1wWoOeBYYOAJYPsJlr29GwT2X8BpGPsDJA5UGzPQ\n",
       "DD5QTGQEgB3PwPQXWYt5AIZhYGt2MXAEwJlwbawgV9UyMKS0gVWmuLh8RDaMpyIAq8tSGPgD4Ey4\n",
       "NjaQqxjrGBgiQCmOAaiiHVlT+hoGYgyDagMbBnIpCyjMmIF4B1KY7ZZhwGUYhwHCMJg2kDfBYcYF\n",
       "ykbKQFyPpMcENTZ5kAxjfIAwDKaNrwApafCAXCePSKlMBaiGnYfnWzZwMoAy4drgSQNIMEl8V2B4\n",
       "+L8WbgKjAjwCd+zevZHhBFLuYIUbjNDGHoCWN1GKAnSBICR2E6Z69OyEHyAn1FeY0ith5vCRahhq\n",
       "EQSOnwJYTuLZSdgsTpSCwgFdmkUBnpP4FpNYbGMUvtOgdQAAu7GDouogkz4AAAAASUVORK5CYII=\n",
       "\" style=\"display:inline;vertical-align:middle;\" /></a></td></tr>\n",
       "<tr><td>1</td><td>Literal</td><td></td><td><a class=\"ProveItLink\" href=\"../../../../set_theory/enumeration/__pv_it/07381ed5b23806e8d7914b78cb6667769e3708dd0/expr.ipynb\"><img src=\"data:image/png;base64,iVBORw0KGgoAAAANSUhEUgAAAB4AAAAOBAMAAADKyLEKAAAAMFBMVEX///8iIiIQEBCIiIjMzMzc\n",
       "3Nyqqqp2dnZEREQyMjK6urru7u5mZmZUVFSYmJgAAACI6eGPAAAAAXRSTlMAQObYZgAAALRJREFU\n",
       "CNdjYGDgu3Nm3wIGBJjHwN0PZW5yYGDgLWBgyITy8zcwMMQDxZyh/INAvD6BgcEFypcB4vjPDiBm\n",
       "TPFRrhs/LjMwMP//38rAwCbKEMPA9gEkE3fp0waG+AUMRxh4JkC01T9guPTOOICBEWgVH5C//wHD\n",
       "H5D4fqCz9oCMDGD4DLaegRXslLMMDMpAgxlOMmQxHDRgYG5gYLBk4D7KcIe7gOHC2rt9QCXsh40Z\n",
       "GCKMGQDRkC8N/Ph1XAAAAABJRU5ErkJggg==\n",
       "\" style=\"display:inline;vertical-align:middle;\" /></a></td></tr>\n",
       "<tr><td>2</td><td>ExprTuple</td><td>3, 4</td><td><a class=\"ProveItLink\" href=\"../761f2c0186d7c89ea0940861465f7a051c6ffc2f0/expr.ipynb\"><img src=\"data:image/png;base64,iVBORw0KGgoAAAANSUhEUgAAAJIAAAAVBAMAAABf4KrdAAAAMFBMVEX////c3NwiIiJERESqqqqY\n",
       "mJh2dnZmZmYQEBDu7u4yMjJUVFTMzMyIiIi6uroAAAAs73DqAAAAAXRSTlMAQObYZgAAAYdJREFU\n",
       "OMtjYKAe4LtAoXrWBxDMcBrCP4RVGyOmNadReCBtNVC8EiK0HqtJPAUYQitReCBtXBDMC7GVVX8C\n",
       "QnoCHpN4UVwJ1saaAMYcEG0i9QLYrMU0iWMCMg+sjbMBjF9BhC7cf4CQf43HpFcoPIg2EzAug0TI\n",
       "BP8AhDzbBdwmlaHEI0RbOhgvBQvNYzgP1s2uBAbfcZu0FJkD1eYFxn1goQcM8sh6WNZhmASxIwGk\n",
       "HsaEa3sBxv/AGnbv3m+AbNmsPqxu4tkAUQ9hwrWdB2OwDB8wThYg61g2gRiTYNogJrWAhB0YGJga\n",
       "kMJJeQIDLpNakEyCaYP4zhSUJ4BCXB+QgmkDaohPQDLJFMGEa4sCY1AMzgJi5p8Ik6RQ0xPnJzj/\n",
       "AFg9lAnXBkkFjxgYhPsXMrDa/0J4xBARXU1KSgac/Ujp/xGchdAGiul1DBwCmPn2AHpBgqQGi3po\n",
       "bgFlP0KAFZmNqR6UJUB4JWkmYVE/C4qlCZuEUpBgqt8IxYwklr4Y6nkPgDEA65t3xVmxEEMAAAAA\n",
       "SUVORK5CYII=\n",
       "\" style=\"display:inline;vertical-align:middle;\" /></a></td></tr>\n",
       "<tr><td>3</td><td>Operation</td><td>operator:&nbsp;5<br>operands:&nbsp;6<br></td><td><a class=\"ProveItLink\" href=\"../../../__pv_it/31eb47017a646663b6ffc27e27c315ea0661b7180/expr.ipynb\"><img src=\"data:image/png;base64,iVBORw0KGgoAAAANSUhEUgAAAD8AAAAPBAMAAAChCwpBAAAAMFBMVEX///92dnYQEBBERERUVFS6\n",
       "urqIiIhmZmaqqqrc3Nzu7u6YmJgyMjIiIiLMzMwAAACFkkdwAAAAAXRSTlMAQObYZgAAAKhJREFU\n",
       "GNNjYACBtwzYAGcCnHkeqwK+AhiL+/4CuCgXNgUz6ifARXkWYFGQkB8AF2V1wFTAuqB/A8JgMUwF\n",
       "Sxneg91bexcE7hdgKAhgmF+A5PieADQFfC4u/gZICrgOBaAqYGVgYDqApOCNFJoJDQwMvAoIN9y1\n",
       "QnMDJ1ABzweEAS3ovlgDxMy/EBFwAE3BZP2TDNz2f+DeYIYGKjvQMt27dw0wYwiNDwDqnDFBsIEk\n",
       "9AAAAABJRU5ErkJggg==\n",
       "\" style=\"display:inline;vertical-align:middle;\" /></a></td></tr>\n",
       "<tr><td>4</td><td>Operation</td><td>operator:&nbsp;9<br>operand:&nbsp;7<br></td><td><a class=\"ProveItLink\" href=\"../../../__pv_it/690f844a8265fe01f189bf903fced7412f5ba46b0/expr.ipynb\"><img src=\"data:image/png;base64,iVBORw0KGgoAAAANSUhEUgAAADkAAAAVBAMAAAAOWFv7AAAAMFBMVEX////c3NxERESqqqqYmJgQ\n",
       "EBDu7u4yMjKIiIi6urpUVFTMzMx2dnYiIiJmZmYAAABjE816AAAAAXRSTlMAQObYZgAAAOFJREFU\n",
       "KM9jYCAOzEAX8ERicy9AluG+wMDAtwHBZ09AlmX/ACQKEPwOFFN9vwEJHwQ/DFmS0e4jkEyF8zkL\n",
       "kGU5OH4CSSYDGJ/vALLsNOYvQJLnAdwZDkiSbBO4fwAp5gKGt3eB4A4D6wQGGBNoDQPjPxAVAFG8\n",
       "i4F/AgOMCcSrVn0CefoDVlkgOxxFltUAIcsMpK6imMzkgJAVBlL1QMwC9SU3wvXcDGwgQf0EZB9x\n",
       "XoCHk+p3AQan/3VAX06A+zEQM04RIYkc5DBwAlcMgkMMKegZF6DLcgkgcSTQZbsZGAAzQjehLLGe\n",
       "5wAAAABJRU5ErkJggg==\n",
       "\" style=\"display:inline;vertical-align:middle;\" /></a></td></tr>\n",
       "<tr><td>5</td><td>Literal</td><td></td><td><a class=\"ProveItLink\" href=\"../e5c030cabcb650938f92dee8256fe11cd12bf9b30/expr.ipynb\"><img src=\"data:image/png;base64,iVBORw0KGgoAAAANSUhEUgAAABMAAAANBAMAAAC5okgUAAAALVBMVEX////c3NxERETMzMwQEBCq\n",
       "qqoiIiJmZmaIiIh2dnZUVFS6uroyMjLu7u4AAACPpZJTAAAAAXRSTlMAQObYZgAAAD1JREFUCNdj\n",
       "YAABXgY44LkAZ3IvQAjPABFlaSCQV4AQjtkAZ/IegbNt5sLUpunC5aPgLMYDcCaTAJzJDCIA2yMN\n",
       "HCCUuIIAAAAASUVORK5CYII=\n",
       "\" style=\"display:inline;vertical-align:middle;\" /></a></td></tr>\n",
       "<tr><td>6</td><td>ExprTuple</td><td>10, 8</td><td><a class=\"ProveItLink\" href=\"../../../__pv_it/cabd8bc3982b14b9707e18c2e8918f8e5aaad0040/expr.ipynb\"><img src=\"data:image/png;base64,iVBORw0KGgoAAAANSUhEUgAAADUAAAAVBAMAAAAUZLt1AAAAMFBMVEX////c3NwiIiJERESqqqqY\n",
       "mJh2dnZmZmYQEBDu7u4yMjJUVFTMzMyIiIi6uroAAAAs73DqAAAAAXRSTlMAQObYZgAAAO1JREFU\n",
       "KM9jYMAH+C5gFY4DEach7EMIYVkQwX4ASKyECKxHyB0HkwsYGHghRrLqT0CTC2Ng4ICIidQLoMnN\n",
       "YGB4BeFfuP8ATY7ZgaEM4tgJ/gFocmwFDEvBjHkM5y+gybEsYOgDMx4wyBegyfE1MPwD0Ty7d+83\n",
       "QJPj+QCR4wO6dwGmXAuIdmBgYGrANNMUSDEC5bg+MDBMQJZjXcCQDqRmgbzzk4HzE5ofHjEwCPcv\n",
       "ZGC1/1XA2Q8MmyIlJQ0lJWWgQQ8YOASQoguJDQoz1gQElxU5AnMRcYQuxwnykzSCj5wCuEHmM2JP\n",
       "E3cYGAAdNjoVaLAEowAAAABJRU5ErkJggg==\n",
       "\" style=\"display:inline;vertical-align:middle;\" /></a></td></tr>\n",
       "<tr><td>7</td><td>Operation</td><td>operator:&nbsp;9<br>operand:&nbsp;10<br></td><td><a class=\"ProveItLink\" href=\"../../../__pv_it/feaa1d0e6d92ad9ead8e5ffd1f92697e3912387a0/expr.ipynb\"><img src=\"data:image/png;base64,iVBORw0KGgoAAAANSUhEUgAAABwAAAAOBAMAAADOPWE3AAAAMFBMVEX///8QEBBERES6urqIiIiq\n",
       "qqrc3Nzu7u6YmJgyMjJUVFTMzMx2dnYiIiJmZmYAAADMbjvTAAAAAXRSTlMAQObYZgAAAGNJREFU\n",
       "CNdjYEAA7gsMyIDzAwq39zsyjy3uGzKXheUzMtec9QcSj92A+wsDw9u7QHAHyGVmYPsHldkFwqtW\n",
       "fULiGjAwSCK4rEDqIoKbCqTmw1zLwD4BSOkXwFyk+DOBoen/PABSrhtHsYt+gAAAAABJRU5ErkJg\n",
       "gg==\n",
       "\" style=\"display:inline;vertical-align:middle;\" /></a></td></tr>\n",
       "<tr><td>8</td><td>Literal</td><td></td><td><a class=\"ProveItLink\" href=\"../../../__pv_it/8f1f7fac882de28c72b62ab80a1700b6d8fd066b0/expr.ipynb\"><img src=\"data:image/png;base64,iVBORw0KGgoAAAANSUhEUgAAAA4AAAAOBAMAAADtZjDiAAAAG1BMVEX///9EREQQEBAiIiJmZmbM\n",
       "zMyIiIjc3NwAAACryk5kAAAAAXRSTlMAQObYZgAAABlJREFUCNdjYGBgKGOAgBBa0s7GxkbGxoYA\n",
       "FMUF2aBfHgoAAAAASUVORK5CYII=\n",
       "\" style=\"display:inline;vertical-align:middle;\" /></a></td></tr>\n",
       "<tr><td>9</td><td>Literal</td><td></td><td><a class=\"ProveItLink\" href=\"../../../negation/__pv_it/7bea79645543c2413aa17e787cca04e21046fde60/expr.ipynb\"><img src=\"data:image/png;base64,iVBORw0KGgoAAAANSUhEUgAAAAwAAAAGBAMAAAAFwGKyAAAAFVBMVEX///9UVFTMzMx2dnYiIiJm\n",
       "ZmYAAACWz4ZEAAAAAXRSTlMAQObYZgAAABRJREFUCNdjCHEBAmcGMFDEQzEBAEl+Ai6uYJv/AAAA\n",
       "AElFTkSuQmCC\n",
       "\" style=\"display:inline;vertical-align:middle;\" /></a></td></tr>\n",
       "<tr><td>10</td><td>Variable</td><td></td><td><a class=\"ProveItLink\" href=\"../../../../../__pv_it/2cbe72a7ad6f655694dd697106680215e8489b600/expr.ipynb\"><img src=\"data:image/png;base64,iVBORw0KGgoAAAANSUhEUgAAAA8AAAAOBAMAAAACpFvcAAAALVBMVEX///8QEBBERERUVFS6urqI\n",
       "iIhmZmaqqqrc3Nzu7u6YmJgyMjIiIiLMzMwAAADtIaYWAAAAAXRSTlMAQObYZgAAAFtJREFUCNdj\n",
       "YACBOwxQsA9Kc52bAGG05zVAGAFxDmCaZULdAjBjCsO9ADDDgaEvAUTzGhvbKYCVMDAwbgAxChgY\n",
       "eASANAeQwf0AyJgNxEwvGRia5HYwcOm9TgAA6BoR3jrzwFcAAAAASUVORK5CYII=\n",
       "\" style=\"display:inline;vertical-align:middle;\" /></a></td></tr>\n",
       "</table>\n"
      ],
      "text/plain": [
       "0. {A => FALSE , [not]([not](A))}\n",
       "   core type: Operation\n",
       "   operator: 1\n",
       "   operands: 2\n",
       "1. Set\n",
       "   core type: Literal\n",
       "   sub-expressions: \n",
       "2. (A => FALSE , [not]([not](A)))\n",
       "   core type: ExprTuple\n",
       "   sub-expressions: 3, 4\n",
       "3. A => FALSE\n",
       "   core type: Operation\n",
       "   operator: 5\n",
       "   operands: 6\n",
       "4. [not]([not](A))\n",
       "   core type: Operation\n",
       "   operator: 9\n",
       "   operand: 7\n",
       "5. =>\n",
       "   core type: Literal\n",
       "   sub-expressions: \n",
       "6. (A , FALSE)\n",
       "   core type: ExprTuple\n",
       "   sub-expressions: 10, 8\n",
       "7. [not](A)\n",
       "   core type: Operation\n",
       "   operator: 9\n",
       "   operand: 10\n",
       "8. FALSE\n",
       "   core type: Literal\n",
       "   sub-expressions: \n",
       "9. not\n",
       "   core type: Literal\n",
       "   sub-expressions: \n",
       "10. A\n",
       "    core type: Variable\n",
       "    sub-expressions: "
      ]
     },
     "execution_count": 4,
     "metadata": {},
     "output_type": "execute_result"
    }
   ],
   "source": [
    "# display the expression information\n",
    "expr.exprInfo()"
   ]
  },
  {
   "cell_type": "code",
   "execution_count": null,
   "metadata": {},
   "outputs": [],
   "source": []
  }
 ],
 "metadata": {
  "kernelspec": {
   "display_name": "Python 3",
   "language": "python",
   "name": "python3"
  }
 },
 "nbformat": 4,
 "nbformat_minor": 0
}
