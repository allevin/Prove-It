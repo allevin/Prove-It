{
 "cells": [
  {
   "cell_type": "markdown",
   "metadata": {},
   "source": [
    "Show the Proof\n",
    "========"
   ]
  },
  {
   "cell_type": "code",
   "execution_count": 1,
   "metadata": {},
   "outputs": [
    {
     "data": {
      "text/html": [
       "<table><tr><th>&nbsp;</th><th>step type</th><th>requirements</th><th>statement</th></tr>\n",
       "<tr><td>0</td><td>hypothetical reasoning</td><td>1</td><td><span style=\"font-size:20px;\"><a class=\"ProveItLink\" href=\"../958dbffdaffe6c08c097b25a1a1617d7cda14ff20/expr.ipynb\"><img src=\"data:image/png;base64,iVBORw0KGgoAAAANSUhEUgAAAE8AAAAVBAMAAAD1D64kAAAAMFBMVEX////c3NxERESqqqpUVFS6\n",
       "urrMzMwyMjIQEBCIiIh2dnYiIiLu7u5mZmaYmJgAAABXZE4RAAAAAXRSTlMAQObYZgAAAORJREFU\n",
       "KM9jYGDgu8eAH7CtEgBRPLsYCAG2ZhDJ+QFI8Pl/cXEqRZPn3Q0GCgwM10FcrgYQyQHk3g/ANOsC\n",
       "mFqBUJg/AYgdiFA4H+je9wuIUKgBxDsOEKHwCwODuA4DXoW8BSCBLzPn7oN4tRwMHFAUvgcRGSC/\n",
       "cn5kYDjtgNNEdiCV0gZiMQHt5/yHUyGD+gMGhogEIIMfaBrfL5wKuUHhwQJyYz5QB8tn1OhAdyPX\n",
       "BmgwyhcwEA4eYDCytR8grPDSfxeX8gfY0s0C9ADHD0hTyEeEQnB65NlJOIW3gim+xcTkGQDdy06N\n",
       "dVe8nQAAAABJRU5ErkJggg==\n",
       "\" style=\"display:inline;vertical-align:middle;\" /></a> <a class=\"ProveItLink\" href=\"proof.ipynb\" style=\"text-decoration: none\">&#x22A2;&nbsp;</a><a class=\"ProveItLink\" href=\"../09b284db6904d541e92de23421e45aa485e45bf10/expr.ipynb\"><img src=\"data:image/png;base64,iVBORw0KGgoAAAANSUhEUgAAAHsAAAAVBAMAAACUF4xmAAAAMFBMVEX///92dnYQEBBERERUVFS6\n",
       "urqIiIhmZmaqqqrc3Nzu7u6YmJgyMjIiIiLMzMwAAACFkkdwAAAAAXRSTlMAQObYZgAAAXpJREFU\n",
       "OMtjYKAVYE0goGArjPEWm+wTIN7y38XFJgBNovYuCFxmYH8AFTiPTfspEKHMwMD+FVPuOZg8AOFw\n",
       "31+AkIEx2UBu5/sGxF9wad8I4cyon4BmKRAwgcxh+wk0/CMu7YsgnIR8JO+FQOkYEMGswMDAq4VL\n",
       "O3MDOIgX9G9AyDBCA7wQRPA7MHAeXoBLO2MBiFzK8B6shR0cone/Q1ScBhHv3dJqIUbXnAGBIyja\n",
       "OcBhF8AwvwDJZI6jYEoVRORPYOC6woDLdlYFUOi6uPgbIMutAesER5cRyIgNuLTzfQCZAQzlA0hS\n",
       "fAcXwLWD4my/AF7twODjVUDy+2VIUGmA5H8DCf8G5KSG7nhOoCzPBySvO0Boa2i0c/7B6XduoKPX\n",
       "gCLwF0JmDpQWh0b7o1MMeCJusv5JBm77P4igt4TSsUDf2H9x8TmNLT88BJM8AZgysGzENIFgll6E\n",
       "R45bgKB2MXySpwjp5jqAT3YKIe0seL3HSaiwymNgAACikXQ7Zi6c2gAAAABJRU5ErkJggg==\n",
       "\" style=\"display:inline;vertical-align:middle;\" /></a></span></td></tr>\n",
       "<tr><td>1</td><td>assumption</td><td></td><td><span style=\"font-size:20px;\"><a class=\"ProveItLink\" href=\"../958dbffdaffe6c08c097b25a1a1617d7cda14ff20/expr.ipynb\"><img src=\"data:image/png;base64,iVBORw0KGgoAAAANSUhEUgAAAE8AAAAVBAMAAAD1D64kAAAAMFBMVEX////c3NxERESqqqpUVFS6\n",
       "urrMzMwyMjIQEBCIiIh2dnYiIiLu7u5mZmaYmJgAAABXZE4RAAAAAXRSTlMAQObYZgAAAORJREFU\n",
       "KM9jYGDgu8eAH7CtEgBRPLsYCAG2ZhDJ+QFI8Pl/cXEqRZPn3Q0GCgwM10FcrgYQyQHk3g/ANOsC\n",
       "mFqBUJg/AYgdiFA4H+je9wuIUKgBxDsOEKHwCwODuA4DXoW8BSCBLzPn7oN4tRwMHFAUvgcRGSC/\n",
       "cn5kYDjtgNNEdiCV0gZiMQHt5/yHUyGD+gMGhogEIIMfaBrfL5wKuUHhwQJyYz5QB8tn1OhAdyPX\n",
       "BmgwyhcwEA4eYDCytR8grPDSfxeX8gfY0s0C9ADHD0hTyEeEQnB65NlJOIW3gim+xcTkGQDdy06N\n",
       "dVe8nQAAAABJRU5ErkJggg==\n",
       "\" style=\"display:inline;vertical-align:middle;\" /></a> <a class=\"ProveItLink\" href=\"../785a16660ee5bff8da2f602919e43126a9f9c8640/proof.ipynb\" style=\"text-decoration: none\">&#x22A2;&nbsp;</a><a class=\"ProveItLink\" href=\"../832229df1740961f676ef0929f5b88a1d2e69c8f0/expr.ipynb\"><img src=\"data:image/png;base64,iVBORw0KGgoAAAANSUhEUgAAADwAAAAOBAMAAACBYGLnAAAAMFBMVEX///+qqqru7u4iIiJ2dnbc\n",
       "3NyIiIjMzMxmZmYQEBC6uroyMjJERERUVFSYmJgAAADLUcuvAAAAAXRSTlMAQObYZgAAAItJREFU\n",
       "GNNjYGB4+//u3dMLGFBBszEI2ICYcxgYOH4xYIAKCMX+DYj/4pRm+8rAwPcFpzTPBAYG5kk4pfkv\n",
       "MLDuUcApXX8trfkBmNW9GwT2okrnBzAw2TLg1H0SpOQBTmmQn9474JJm/wck7gugBRVcGuRt1t84\n",
       "7QZ5u3ITLmmO83/v3t6HRZahBIgBOGYufu9fDlQAAAAASUVORK5CYII=\n",
       "\" style=\"display:inline;vertical-align:middle;\" /></a></span></td></tr>\n",
       "</table>"
      ],
      "text/plain": [
       "<proveit._core_.proof._ShowProof at 0x7f94ea9932e8>"
      ]
     },
     "execution_count": 1,
     "metadata": {},
     "output_type": "execute_result"
    }
   ],
   "source": [
    "import proveit\n",
    "%show_proof"
   ]
  },
  {
   "cell_type": "code",
   "execution_count": null,
   "metadata": {},
   "outputs": [],
   "source": []
  }
 ],
 "metadata": {
  "kernelspec": {
   "display_name": "Python 3",
   "language": "python",
   "name": "python3"
  }
 },
 "nbformat": 4,
 "nbformat_minor": 0
}
