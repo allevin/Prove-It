{
 "cells": [
  {
   "cell_type": "markdown",
   "metadata": {},
   "source": [
    "Show the Proof\n",
    "========"
   ]
  },
  {
   "cell_type": "code",
   "execution_count": 1,
   "metadata": {},
   "outputs": [
    {
     "data": {
      "text/html": [
       "<table><tr><th>&nbsp;</th><th>step type</th><th>requirements</th><th>statement</th></tr>\n",
       "<tr><td>0</td><td>specialization</td><td>1, 2, 3</td><td><span style=\"font-size:20px;\"><a class=\"ProveItLink\" href=\"../ea43d3049d30f51dc709dd6c7b1435e552ef8f030/expr.ipynb\"><img src=\"data:image/png;base64,iVBORw0KGgoAAAANSUhEUgAAAHUAAAAVBAMAAACK3rzVAAAAMFBMVEX////c3NxERESqqqpUVFS6\n",
       "urrMzMwyMjIQEBCIiIh2dnYiIiLu7u5mZmaYmJgAAABXZE4RAAAAAXRSTlMAQObYZgAAAbZJREFU\n",
       "OMtjYGDgu8dAMmBbJQCieHahiEYS1McXANLcDGJyfkAx0AEo6f/FxakUu8ZsIL4GYlwHEVwNyHLs\n",
       "B4AEhwIDw/0ArHrrQWpAjBWYemeCiPwJQOwAFzuA5N79QA7fAux6e0DEfGBAvF8AF6tBSAvfB0rx\n",
       "NGDVy1oAIjWAeAfCthCE/IT5IK8oY9XLC7btCwODuA5CkGsC3OgD9g+A1FqYXt4C5KACSbF9mTl3\n",
       "H8So3WDwFyZ9FBwUDOZA/B7EzwiAqQHayQFyEudHBobTDkgmMsMiLIBB/gKQigDZAmSktCFHLT9I\n",
       "LxPQF5z/kEPweCtEhYuLvwIoHkAcdaATIxLQ9fKD0scv5ARTBQk4VqDDCqB6uUEhw1KApJfDACQF\n",
       "NJHlM5J/N0HDHCjJ3QB1M9i/XBuQ9DI9gEavPFIIMkP9zgjUyw5Kwc8x4wjoeK4LkOhla0dKTOIw\n",
       "X4PC4g9yHKGmDaAjLv13cSl/gCSoCKGE+gsZ+PS/A00vxZ4mG7Gk/wQ0Po40yfCKiIwPTmdgvXyY\n",
       "eZAAOA7Pvzw7kcUZHQjrdQRFCiS18C1GlpAkqJUzAVpeAQBFpHVsul/sRwAAAABJRU5ErkJggg==\n",
       "\" style=\"display:inline;vertical-align:middle;\" /></a> <a class=\"ProveItLink\" href=\"proof.ipynb\" style=\"text-decoration: none\">&#x22A2;&nbsp;</a><a class=\"ProveItLink\" href=\"../1b5cd2f5e0a0b7b7c3b484b47e93a74fd7a13b570/expr.ipynb\"><img src=\"data:image/png;base64,iVBORw0KGgoAAAANSUhEUgAAAJYAAAAVBAMAAABWCwqnAAAAMFBMVEX////c3NxERESqqqqYmJgQ\n",
       "EBDu7u4yMjKIiIi6urpUVFTMzMx2dnYiIiJmZmYAAABjE816AAAAAXRSTlMAQObYZgAAAf1JREFU\n",
       "OMu1lD1Iw0AUx19M7YexteAgdFJscbSbmxQXP1AUBaVbFulapAiCqGPBwS4qCEKdtHGwFFy61NFJ\n",
       "imAHUeiuBRWxKqK+Sy69d9agDj64y+V3d3/y/vcuAP8SvrW/cRKjAK4MBUUIXJvRLS8sYhv7MIy+\n",
       "zLc6WhkgkAe4oXDRnKnar4pO+TRuePlWy3OHXRKfhHnXZC1PlXDtGdtrY61O9k08YTeOSZ4I1qrL\n",
       "WoUK4d57XPwmp8A/fxCnYB7APSXgNshauTThLbjQP9tYu0PS8bLUW6IAvQLeylrupJ/wjiwoCyKz\n",
       "dnG0W+ojA7jtTGilZK32WCAqeOkgXYuxAT/qd3uXO8OsBBXNH4Aam7rC17is5QclaQ5MvhEE9yUx\n",
       "XF2yiw8UputDDzZFCb3IWiMAh+bA5BGmFyNiiTjfaRgPbBsWRslRq2JRzlk5TJJD15a5eVi/c81a\n",
       "M5KWik9PEDjXmL9HUeHXOZdSsV005xiWtJiOao7DvLyUOrErywed2FaxudDbYf7JYB+prVVgXRk4\n",
       "Z+V1TAq0q1E42PXrTTWxa2lxU3KsS3Me6H819lPE+R5e85F6EIY+VjAN9G2J3KEgvbEZ68CbuBX5\n",
       "r+DLHaJ3k4YTl+JUugvShQX4BSfBfEtQEHJYGPpZqw192KNAcfgXKz//o9exbPLwCbAEkShkKzjR\n",
       "AAAAAElFTkSuQmCC\n",
       "\" style=\"display:inline;vertical-align:middle;\" /></a></span></td></tr>\n",
       "<tr><td>&nbsp;</td><td colspan=4 style=\"text-align:left\"><span style=\"font-size:20px;\"><a class=\"ProveItLink\" href=\"../fd4b0a418766985890fb332a124e981d1643d8330/expr.ipynb\"><img src=\"data:image/png;base64,iVBORw0KGgoAAAANSUhEUgAAAEkAAAAVBAMAAAD4Ed5jAAAAMFBMVEX////u7u5mZmaYmJi6urqq\n",
       "qqp2dnbMzMwQEBBEREQyMjLc3NwiIiJUVFSIiIgAAAAeC3ydAAAAAXRSTlMAQObYZgAAAR1JREFU\n",
       "KM9jYCAZsDzAJmoCJt/+v3v37AYQqxarXqYCMPWLgYGzG8RYiN2KBSCC/RsDAysQM/A9wK7KDETw\n",
       "fWFgYP4EZHAIYFclASI4PzAw8H4FMrxweIozAEjwA+2VnwBkqCEktr3d+ghuP5sCkKhPYGA/BOIt\n",
       "hitiTGA+zHEAxmMFOf/9tTQ1cEC0wFWxMfB9YC2AB2MDkJgPc/QXhFkMvBMQ1rMDHc7whwFDFdC/\n",
       "D1BVsX+C8VqRVO0vYBBAtpEPbsRkuBrmDe8Z+OCqmIGu5/wI4yXBVcUbzGDYx4AUEkLz/8Kc4AP0\n",
       "9EwgmMgg+UwszwDGYeByQA5jjg14YgjhmgTsqvJQudhTDuMCVP5erKp40RzCjTWBPWdgAADdXkSh\n",
       "Sa6TGQAAAABJRU5ErkJggg==\n",
       "\" style=\"display:inline;vertical-align:middle;\" /></a> : <a class=\"ProveItLink\" href=\"../926aea968292ca94a6333e2268b6c1fe90624a9c0/expr.ipynb\"><img src=\"data:image/png;base64,iVBORw0KGgoAAAANSUhEUgAAAG4AAAAVBAMAAABVkMbKAAAAMFBMVEX////c3NxERESqqqqYmJgQ\n",
       "EBDu7u4yMjKIiIi6urpUVFTMzMx2dnYiIiJmZmYAAABjE816AAAAAXRSTlMAQObYZgAAAShJREFU\n",
       "OMtjYKAczCBWIcsEZB73Aoa3d0HgEkGNr5E57Akgch+cL4ZbHzsyp4MBVV8dHoceQOKEoerj1k3A\n",
       "qY8tAMHmLEDVxzWjAbeFyggm3wFUfekMF5BVynQJ9yEMOofkVwdUfUcYHiO77ADLFVaEQeaQoL8D\n",
       "ZLJOQNV3gUEcSR8PA8cH5g1w7lQItQuI+VH1sTQwcG1Aso+BSwHJmP049fEmgBICEmBtwK6P1QBF\n",
       "nx0QFyLrk9/AkIDNnUyo4VII1QtztkA/AwdCnzs0jkE+f4CsjxvkG16EPnsHVQYJBmzxwAkJ5T3Q\n",
       "WAf5lgPoJWYlIFBjSOrJOeEA4zAwVCJ5IBDZN5xgcgIR6YzBh/icytOAkY+IAunIHMYFROtbiMKT\n",
       "IFYbxwYGAL5qRYGHGMrHAAAAAElFTkSuQmCC\n",
       "\" style=\"display:inline;vertical-align:middle;\" /></a>, <a class=\"ProveItLink\" href=\"../../../../../__pv_it/530be409e3083890784cf1d7b28c9e67e90af9360/expr.ipynb\"><img src=\"data:image/png;base64,iVBORw0KGgoAAAANSUhEUgAAAAsAAAAJBAMAAAAWSsseAAAAKlBMVEX///9ERETMzMwQEBAiIiKY\n",
       "mJju7u5mZmaqqqpUVFSIiIh2dnbc3NwAAAA/vyDhAAAAAXRSTlMAQObYZgAAAENJREFUCNdjYDi9\n",
       "8sTyBQxsG1hdmR0YuBm4LnAoMLAxcAowgADzAjB1VoEhgYH1wFoGrgSG3gBhhlMMDImrs3cFMAAA\n",
       "t0YN+iTRa+sAAAAASUVORK5CYII=\n",
       "\" style=\"display:inline;vertical-align:middle;\" /></a> : <a class=\"ProveItLink\" href=\"../39edb9fe2b7411693ffcf43a9bf0fb98391840e40/expr.ipynb\"><img src=\"data:image/png;base64,iVBORw0KGgoAAAANSUhEUgAAAEAAAAAPBAMAAACmSdRUAAAAMFBMVEX///+qqqru7u4iIiJ2dnbc\n",
       "3NyIiIjMzMxmZmYQEBC6uroyMjJERERUVFSYmJgAAADLUcuvAAAAAXRSTlMAQObYZgAAAOhJREFU\n",
       "GNNjYGB4+//u3dMLGLABdgMwNYeBgeMXVgXcH8DKvgHxX7ggE5KCx59AJNtXBga+LwhdCnAmq8RX\n",
       "EMUzgYGBeRJclOsCnMnGBraZ/wID6x6ENgY3OGsR4z8QVX8trfkBWKDZGATsG2CuWQByHgNDfgAD\n",
       "ky2y26WhfuZiYP0Bok+CFD1AUsC0E6Ki9u7dPyAa5MP3DkgKqp0gNFDZbFAwgBxyXwDhBuNDEHlG\n",
       "ILaEBgPrbyQDZKF0IBDvhwZD5SaEPOsGqEtA9HkFBo7zf+/e3odkAE8ARN3J3wEMb/7vwBKDqFwA\n",
       "TPY/hyWgimwAAAAASUVORK5CYII=\n",
       "\" style=\"display:inline;vertical-align:middle;\" /></a></span></td></tr><tr><td>1</td><td>theorem</td><td></td><td><span style=\"font-size:20px;\"> <a class=\"ProveItLink\" href=\"../../../../equality/_proofs_/substituteFalsehood.ipynb\" style=\"text-decoration: none\">&#x22A2;&nbsp;</a><a class=\"ProveItLink\" href=\"../1d1deba862c90ad7a095be6803bec640d55fe7610/expr.ipynb\"><img src=\"data:image/png;base64,iVBORw0KGgoAAAANSUhEUgAAAK4AAAAXBAMAAABg52lgAAAAMFBMVEX///8QEBC6urrMzMxUVFRm\n",
       "ZmZERETc3NwyMjKqqqp2dnaIiIiYmJgiIiLu7u4AAAAU9Wx4AAAAAXRSTlMAQObYZgAAAopJREFU\n",
       "OMu1lE1oE0EUx//ZTbLdzXaTW/EiEbz1soLgMaENVTwV/Dioh/SyQTwkIFi0iIuXXkS9FIQeXAS/\n",
       "Wiw5xEProREvogd7UAQpkotBvBjU+lHqx5vZ3dnNZovi6kAys/+Z+c2b99484D+1zj9kjXq9XgTW\n",
       "2OBpElrrZ6XyvEEDuexLh4C7rL+cyMyvQHaE+iFx9yHgDHVKNQlW3gRU+uGBkHSHH5K5moSb+0Cg\n",
       "DRrsFJJRgH57evp8Ijdke0D6GyDZgXYS+GxZr36z87TXq7GzeeK9J09mHPo41zp7vwncBMaBGm2p\n",
       "HzlcCy0uuiCuKo7vSSeOW3Igv2DBapMDHH09RSl2DdgNg13gIXAvtNiLJFez/Lbs70Ycd/XgwjGW\n",
       "ZimyRUOup5rALmAYOToIFeBZZ4DL1XnBfRvHrXvb8sQ1kOY7SxTO9jCbWAcODNrL1Zrgps0Y7ncE\n",
       "XLK66XENey/LjI/QX9I9WqPjIa6rFgQ31xS0xbGWe4i84Skpnq0XTFYayA+ojdGftLlwgrqldHVH\n",
       "iMtV2RZcSbxUrTPhcnj6uvlG7tQbq8gR9zF9z7ESobnJV2RBDbhcdWGcy4+4ZVmWLeGSj/vhHzUJ\n",
       "XG9PYQY8z1yPZCc9JzXCXK6qEa43/cUdval/8pwjkX3dlXeLzLKL7DGzsOW9p7wHZojLVaka+KEq\n",
       "uHJBjgZwJPyO/eQmO5VZuXcHTojLVBhrgqs7yqw7XdJsLcp9IkaaH1/tCpVMecs4NbfSCbhcBV4D\n",
       "R60py3KQKcpbfNrsLh9finKDOhnJc30gf3lbRqiu6tuXEUVky/7+iX3x3K4YzfetGWgzfuWMPJ92\n",
       "PFcVerlvzd+0cvjjkXgMf7z/F2K8m8Fs520bAAAAAElFTkSuQmCC\n",
       "\" style=\"display:inline;vertical-align:middle;\" /></a></span></td></tr>\n",
       "<tr><td>&nbsp;</td><td colspan=4 style-\"text-align:left\"><a class=\"ProveItLink\" href=\"../../../../equality/_proofs_/substituteFalsehood.ipynb\">proveit.logic.equality.substituteFalsehood</a></td></tr><tr><td>2</td><td>theorem</td><td></td><td><span style=\"font-size:20px;\"> <a class=\"ProveItLink\" href=\"../../../conjunction/_proofs_/trueAndFalseNegated.ipynb\" style=\"text-decoration: none\">&#x22A2;&nbsp;</a><a class=\"ProveItLink\" href=\"../cc49fe8d1673bacfdb743a3e9cfcf0c71d964ff10/expr.ipynb\"><img src=\"data:image/png;base64,iVBORw0KGgoAAAANSUhEUgAAAFYAAAAVBAMAAAAutAQGAAAAMFBMVEX////c3NxERESqqqqYmJgQ\n",
       "EBDu7u4yMjKIiIi6urpUVFTMzMx2dnYiIiJmZmYAAABjE816AAAAAXRSTlMAQObYZgAAAPZJREFU\n",
       "KM9jYCAPzMAnyTIBmce9gOHtXRC4hKaMsQFEvkYWYk8AkfvgKhLghjwASyOr7WBAUcv+AFUtywEk\n",
       "tWGoajddQ1XLFoBQylmAqnZlB6paBmWEWr4DKGrZCnjR1J5D8poDiloeBz4DVLXmkGC6A2SyTkBR\n",
       "y8vAWICqdiqEtwuI+VHVejAwrEZVux+n2msQUexqWQ2Q1TID5dkFcLmBCcVvIHXMD1DUukN5II8/\n",
       "QFa7CURcwBVmnBCZPdCYgMU6HzCYYu/eVWBgqESK40DkxAH2KCeyCHIcM/jgT908DRhpEidIR0nS\n",
       "C/CqXYjCk8CnlGMDAwCLNUoXqiDatAAAAABJRU5ErkJggg==\n",
       "\" style=\"display:inline;vertical-align:middle;\" /></a></span></td></tr>\n",
       "<tr><td>&nbsp;</td><td colspan=4 style-\"text-align:left\"><a class=\"ProveItLink\" href=\"../../../conjunction/_proofs_/trueAndFalseNegated.ipynb\">proveit.logic.boolean.conjunction.trueAndFalseNegated</a></td></tr><tr><td>3</td><td>assumption</td><td></td><td><span style=\"font-size:20px;\"><a class=\"ProveItLink\" href=\"../ea43d3049d30f51dc709dd6c7b1435e552ef8f030/expr.ipynb\"><img src=\"data:image/png;base64,iVBORw0KGgoAAAANSUhEUgAAAHUAAAAVBAMAAACK3rzVAAAAMFBMVEX////c3NxERESqqqpUVFS6\n",
       "urrMzMwyMjIQEBCIiIh2dnYiIiLu7u5mZmaYmJgAAABXZE4RAAAAAXRSTlMAQObYZgAAAbZJREFU\n",
       "OMtjYGDgu8dAMmBbJQCieHahiEYS1McXANLcDGJyfkAx0AEo6f/FxakUu8ZsIL4GYlwHEVwNyHLs\n",
       "B4AEhwIDw/0ArHrrQWpAjBWYemeCiPwJQOwAFzuA5N79QA7fAux6e0DEfGBAvF8AF6tBSAvfB0rx\n",
       "NGDVy1oAIjWAeAfCthCE/IT5IK8oY9XLC7btCwODuA5CkGsC3OgD9g+A1FqYXt4C5KACSbF9mTl3\n",
       "H8So3WDwFyZ9FBwUDOZA/B7EzwiAqQHayQFyEudHBobTDkgmMsMiLIBB/gKQigDZAmSktCFHLT9I\n",
       "LxPQF5z/kEPweCtEhYuLvwIoHkAcdaATIxLQ9fKD0scv5ARTBQk4VqDDCqB6uUEhw1KApJfDACQF\n",
       "NJHlM5J/N0HDHCjJ3QB1M9i/XBuQ9DI9gEavPFIIMkP9zgjUyw5Kwc8x4wjoeK4LkOhla0dKTOIw\n",
       "X4PC4g9yHKGmDaAjLv13cSl/gCSoCKGE+gsZ+PS/A00vxZ4mG7Gk/wQ0Po40yfCKiIwPTmdgvXyY\n",
       "eZAAOA7Pvzw7kcUZHQjrdQRFCiS18C1GlpAkqJUzAVpeAQBFpHVsul/sRwAAAABJRU5ErkJggg==\n",
       "\" style=\"display:inline;vertical-align:middle;\" /></a> <a class=\"ProveItLink\" href=\"../8efca6313a3f8e46cb40c92ad21ea5c02f15c6c20/proof.ipynb\" style=\"text-decoration: none\">&#x22A2;&nbsp;</a><a class=\"ProveItLink\" href=\"../779ff1c58fe0aee92ef3c1921919f710e7728f770/expr.ipynb\"><img src=\"data:image/png;base64,iVBORw0KGgoAAAANSUhEUgAAAF8AAAAVBAMAAADSoS/MAAAAMFBMVEX////c3NxERESqqqqYmJgQ\n",
       "EBDu7u4yMjKIiIi6urpUVFTMzMx2dnYiIiJmZmYAAABjE816AAAAAXRSTlMAQObYZgAAAWJJREFU\n",
       "OMtjYCAfcDYQVOKJwtsFxF7/V61Sn4BVMfcFBga+DcgiZSAiCCj6E6sG9g9AogBJgAPkIu4fQPwL\n",
       "LsaGJO/7DUj4IAmwJoB0fWRgYPmDMDUBzmS0A0oxpCJpmA4imAIYGHjDEOGwAOEADpBLmQwQGt6A\n",
       "CP4FDIxFCGMZTsBZ05i/AEmeBwi5EhCxf0XHWwcw9+1dELgPU8A2AeQ9BuYCiMQdIDsSJN4vwMB2\n",
       "CzlszKFhzMnA+A9EBSCiAByYqiBNDkga2EohOnatWvUJFIof0DSAQtT/AJKG7ccgNFBbOJqGYBAf\n",
       "5LH1Bgg/3FWDKGAG4qtoTlKBRgPjdyQLrKC0MBDXAzELNKq5gfgcNBq2liHUM0Ll2UC0fgJqsM4F\n",
       "piL9X6uWlyBZwCQA0af6XYDB6X8dMOqREiarAJYUii6AnDRYDhCRZ05gJG/8gA05eTNIEdbAheJs\n",
       "RsJZtJuBAQDNwl47SVjYZQAAAABJRU5ErkJggg==\n",
       "\" style=\"display:inline;vertical-align:middle;\" /></a></span></td></tr>\n",
       "</table>"
      ],
      "text/plain": [
       "<proveit._core_.proof._ShowProof at 0x7f94ebc5cdd8>"
      ]
     },
     "execution_count": 1,
     "metadata": {},
     "output_type": "execute_result"
    }
   ],
   "source": [
    "import proveit\n",
    "%show_proof"
   ]
  },
  {
   "cell_type": "code",
   "execution_count": null,
   "metadata": {},
   "outputs": [],
   "source": []
  }
 ],
 "metadata": {
  "kernelspec": {
   "display_name": "Python 3",
   "language": "python",
   "name": "python3"
  }
 },
 "nbformat": 4,
 "nbformat_minor": 0
}
