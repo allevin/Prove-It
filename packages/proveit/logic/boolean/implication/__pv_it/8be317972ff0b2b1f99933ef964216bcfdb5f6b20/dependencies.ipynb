{
 "cells": [
  {
   "cell_type": "markdown",
   "metadata": {},
   "source": [
    "Theorem Dependencies\n",
    "=======================\n",
    "\n",
    "## <a class=\"ProveItLink\" href=\"../../_context_.ipynb\">proveit.logic.boolean.implication</a>.<a class=\"ProveItLink\" href=\"../../_theorems_.ipynb#falseAntecedentImplication\">falseAntecedentImplication</a> \n",
    "***see <a class=\"ProveItLink\" href=\"../../_proofs_/falseAntecedentImplication.ipynb\">proof</a>***"
   ]
  },
  {
   "cell_type": "code",
   "execution_count": 1,
   "metadata": {},
   "outputs": [],
   "source": [
    "from proveit.logic.boolean.implication._theorems_ import falseAntecedentImplication"
   ]
  },
  {
   "cell_type": "code",
   "execution_count": 2,
   "metadata": {},
   "outputs": [
    {
     "data": {
      "text/html": [
       "<h3>Axioms required (directly or indirectly) to prove falseAntecedentImplication</h3>"
      ],
      "text/plain": [
       "<IPython.core.display.HTML object>"
      ]
     },
     "metadata": {},
     "output_type": "display_data"
    },
    {
     "data": {
      "text/html": [
       "<dl>"
      ],
      "text/plain": [
       "<IPython.core.display.HTML object>"
      ]
     },
     "metadata": {},
     "output_type": "display_data"
    },
    {
     "data": {
      "text/html": [
       "<dt><a class=\"ProveItLink\" href=\"../../../_axioms_.ipynb#eqTrueElim\">proveit.logic.boolean.eqTrueElim</a></dt><dd><a class=\"ProveItLink\" href=\"../../../__pv_it/3e7bd867633eab3d515d0929d36506bc9b5772e10/expr.ipynb\"><img src=\"data:image/png;base64,iVBORw0KGgoAAAANSUhEUgAAAGgAAAAWBAMAAADeGsQjAAAAMFBMVEX///8QEBC6urrMzMxUVFRm\n",
       "ZmZERETc3NwyMjKqqqp2dnaIiIiYmJgiIiLu7u4AAAAU9Wx4AAAAAXRSTlMAQObYZgAAAUpJREFU\n",
       "OMtjeMBABrgAIk6ToIEZqGMliNFHgiaODwwMZUCaPYEETWf/ATUCPcU6gXg97FO/MzDwLC8vryXB\n",
       "Im7uT0DyW1raLRI06XH+AZLODAzpYG47mGSCe7gAmx4+BebfQEqFga8BxOX5BBZlg0mfV4AyWNPS\n",
       "xNKyoBwmBvavQIqXgfsAiPv0D4omvvgDCPMRoWvi4vIN5LMDvOBUse4qiiautwHYNAGtlwAZ2WAC\n",
       "jugNaSiarNkSsGjiBOKLIEa6E4hkYYhF0eTAeoHBowMINiBrqgTifhBjKjj5nWTYj6yJZwL3B0yb\n",
       "wEGWD/INI8gsvquhYA5M09vQsH8YmtgTfxQwHPvfCjIUpJi1gMHeAElTOAPzZ4YMDOehAh0GBv4D\n",
       "CE1MQPYfbKGHDJ58Y2D3vwPXxOefwFDy9wABTQjARk5Opp8mFiLUAADNR1FAr8G4iQAAAABJRU5E\n",
       "rkJggg==\n",
       "\" style=\"display:inline;vertical-align:middle;\" /></a></dd>"
      ],
      "text/plain": [
       "<IPython.core.display.HTML object>"
      ]
     },
     "metadata": {},
     "output_type": "display_data"
    },
    {
     "data": {
      "text/html": [
       "<dt><a class=\"ProveItLink\" href=\"../../../_axioms_.ipynb#eqTrueIntro\">proveit.logic.boolean.eqTrueIntro</a></dt><dd><a class=\"ProveItLink\" href=\"../../../__pv_it/d0cb838f1f1e44deadf0499da151f8dae5a0de4f0/expr.ipynb\"><img src=\"data:image/png;base64,iVBORw0KGgoAAAANSUhEUgAAAIwAAAAXBAMAAAArT7qNAAAAMFBMVEX///8QEBC6urrMzMxUVFRm\n",
       "ZmZERETc3NwyMjKqqqp2dnaIiIiYmJgiIiLu7u4AAAAU9Wx4AAAAAXRSTlMAQObYZgAAAaxJREFU\n",
       "OMtjYKAOeEBYCdMG/PI8CgwMF0CM03iVmUAoW3Rx1rtgkMAQzMCwEiTQh9cYqGw/FinmABDJwcBQ\n",
       "BqTYE/CZwg3xE8/9B7iM4VnAwAGUZJ2AzxhGiPbK+AJcxvAJMPAsLy+vxesnDQi1Yb8CLmMYMhkY\n",
       "vqWl3cJrTBQkuh7MP4DTmKUMDM4MDOlgdjtEOUxFO4zRAyYfMdiDw4i1AwwcUIyZwcCgwsDXAA6n\n",
       "T2ARNlhi+AQzRghMKjDUB+B0jSIDAy8DN9i1T/+gGAPlAgHYPGYXF/8EnMbYA+PzAC84KtZdRTEG\n",
       "yoUZA/QrYwM+Y/gawKmUeUMasjEwLhBIgghgkuAVQEm6aJ5iSHcCsVgYYpGNgXGBIAeUQIHGcHzA\n",
       "6ZoTQDwVnK1OMuxHNgbGhcQmwwuQzD98Ec7ACIpIvquh+Q8QxsC5QKALzDHy7Qw8+T8wo4p5AZhq\n",
       "AkUtSD1rAYO9AcIYOBdkTQGhkoRPAMbSYWDgP4AwBs6FZDwCgAtWID35xsDufwduDIJLuBiBhhwa\n",
       "YMMUKiFkjDtRxrATKES5DYgyhhzAQpYuAAUAaqwIkhhoAAAAAElFTkSuQmCC\n",
       "\" style=\"display:inline;vertical-align:middle;\" /></a></dd>"
      ],
      "text/plain": [
       "<IPython.core.display.HTML object>"
      ]
     },
     "metadata": {},
     "output_type": "display_data"
    },
    {
     "data": {
      "text/html": [
       "<dt><a class=\"ProveItLink\" href=\"../../../_axioms_.ipynb#falseNotTrue\">proveit.logic.boolean.falseNotTrue</a></dt><dd><a class=\"ProveItLink\" href=\"../../../__pv_it/f59624db7a785c6991878af6495d446012e672150/expr.ipynb\"><img src=\"data:image/png;base64,iVBORw0KGgoAAAANSUhEUgAAADoAAAAUCAMAAADrw95cAAAAOVBMVEX///8LCwsYGBgNDQ0oKCju\n",
       "7u6qqqq6urpUVFQyMjJ2dnZEREQQEBAiIiJmZmbMzMyIiIjc3NwAAAAE5KaWAAAAAXRSTlMAQObY\n",
       "ZgAAAIBJREFUOMvFk90OwBAMRrtff1Pz/i+7TCQzdOjNvguR6skhKYBWtP8+9yd5op492iQmFh1S\n",
       "qBR5Jesl0VQ6iJbSXtQZ4KLGDaOoQtblXiXHWpP2oUICF1WegYa5maf33AxY69IetP7SpDeO9FFe\n",
       "jZCC063PtiNwYzcu+YsURLPjAkzNBut5ZocxAAAAAElFTkSuQmCC\n",
       "\" style=\"display:inline;vertical-align:middle;\" /></a></dd>"
      ],
      "text/plain": [
       "<IPython.core.display.HTML object>"
      ]
     },
     "metadata": {},
     "output_type": "display_data"
    },
    {
     "data": {
      "text/html": [
       "<dt><a class=\"ProveItLink\" href=\"../../_axioms_.ipynb#untrueAntecedentImplication\">proveit.logic.boolean.implication.untrueAntecedentImplication</a></dt><dd><a class=\"ProveItLink\" href=\"../9a87e251f9811ed55e93ae5165a88824b4e095e80/expr.ipynb\"><img src=\"data:image/png;base64,iVBORw0KGgoAAAANSUhEUgAAAL0AAAAXCAMAAABpjr6KAAAAOVBMVEX///8oKCgUFBQJCQkQEBC6\n",
       "urrMzMxUVFRmZmZERETc3NwyMjKqqqp2dnaIiIiYmJgiIiLu7u4AAACP9cC6AAAAAXRSTlMAQObY\n",
       "ZgAAAntJREFUWMPVV4m2nSAMtC3IEtb8/8eWRTSoqO27tS3nXPUqkSEzTHCa/usW/8KY3H39HZ7n\n",
       "Y9j+u5fAz6L7Fx4DFogiNQUZuZzTwZr2EN6ioR8I8HkkU+UkMcOH9NNqebJe/OnmOo59wPhU0TO6\n",
       "5ZzZ85ZkQpqX0DMKTBuJ+p6gZd5LV48ZeGRlCrq08NaShQ5QgsRPu4njPcXqOdQEqJxvVLkF+xJ6\n",
       "SQficTLoT/vZo4kUwUwaVOXFynQQc5kI4Q/ItVEopRRqJkMeaabkR329ZgnYyDcxl5kF0lAeZC+c\n",
       "czK0FxhoHEXCp++49IUuxwiBByvrAoqVycwny4c9p4z3edAHlGvigJ/JPoZFVJw1y3dbRqLsuJSl\n",
       "Lydra4++D9BiPM1CPyfGnxsOzS4Cneoqe7cMNxevzcjDtsRtDDQbwVVOx7nvA5R+jL5eMRhVNbDx\n",
       "KPtmOQ19Ug0pf7ObFBk2YhaCp8regeoDuJ2u0bPVmU1zkHPdBxV3sl8YFmiIclK6xJYQ0SeaY1op\n",
       "onvRDlQLEJDbj/RzV+iVX63+stgaMXB7jQtZvp4NgetN7kdkAXXpxhH6PsD56Sb3VjZRt16nxVbD\n",
       "wO1n1gpZexNbTStJWEr6PiWrfswAVB8Qu2en6Hmo+xKGRY1eIcKJ66id76YxyhYNNsdtluRXtFIX\n",
       "hW3uXmFzcqcHtQWopJnv3+BOORPTjzai93t7dkhMnVheH7qkRpes6s6F1HlA75Zj9P5DVX1fjGP1\n",
       "Xi0w1bOyxC2USgvmHFQXkJ/EB+g/tBWPcPM1MLg/rC7mWVa1+AR6cS3AWf8qeng4sP7AV5ybfy/1\n",
       "Q/T+rS+Er3H2zyD5CbkSG3s19W3vAAAAAElFTkSuQmCC\n",
       "\" style=\"display:inline;vertical-align:middle;\" /></a></dd>"
      ],
      "text/plain": [
       "<IPython.core.display.HTML object>"
      ]
     },
     "metadata": {},
     "output_type": "display_data"
    },
    {
     "data": {
      "text/html": [
       "<dt><a class=\"ProveItLink\" href=\"../../../negation/_axioms_.ipynb#negationElim\">proveit.logic.boolean.negation.negationElim</a></dt><dd><a class=\"ProveItLink\" href=\"../../../negation/__pv_it/3b08940eb52ec7364a09d58733ea5eec05fbe9620/expr.ipynb\"><img src=\"data:image/png;base64,iVBORw0KGgoAAAANSUhEUgAAAJcAAAAXBAMAAAD0AcCSAAAAMFBMVEX///8QEBC6urrMzMxUVFRm\n",
       "ZmZERETc3NwyMjKqqqp2dnaIiIiYmJgiIiLu7u4AAAAU9Wx4AAAAAXRSTlMAQObYZgAAAbxJREFU\n",
       "OMtjYKAmeECsQqYN+OUPAfEFEOM0EYaZQChbLFLVIILVgIFhJYjRR4RhUDX9WKRMwWQDA0MZkGJP\n",
       "IGwWN8SXPPcf4DLsFAMDB1CSdQJhwxghhlTGF+Ay7CHQquXl5bVE+FIDQm3Yr4DLMDagk76lpd0i\n",
       "wrAoSJQ+mH8Al2FcAQwMzgwM6WBOO0Q5qrp2GKMHTD5isAeHXUQHCLSgGMYJjAEVBr4GcNB+gjgW\n",
       "xSyoIBAIgUkFhvoAXC5jEmBg4GXgBrv86R8shkEFgQBsKrOLi38CLsOYPwDj/AAvOKLWXcViGFQQ\n",
       "ZhgwDBgb8BnG1wBO28wb0jANgwkCgSSIAMYXrwCIEXsXBK5heJMh3QnEZGGIxTQMJggEOaDEDTSM\n",
       "4wMul/GA3DwVnD1PMuxHMmxZWlpaA0IQCJYC8QuQ/D98SYOBERTZfFdD8x+guiwBIQgEusCcJ9/O\n",
       "wJP/Ay06gT6+CPYxByg584DUsxYw2BugGwYXBFlZQChZP4SzdBgY+A+gGwYXBFm5gJBhq2GMJ98Y\n",
       "2P3voBpmgBAkppjiw5Jm2HApLiFgGEsBCYaxEyi2NzOQYBg5gIUCvQCemG+1sUJnVwAAAABJRU5E\n",
       "rkJggg==\n",
       "\" style=\"display:inline;vertical-align:middle;\" /></a></dd>"
      ],
      "text/plain": [
       "<IPython.core.display.HTML object>"
      ]
     },
     "metadata": {},
     "output_type": "display_data"
    },
    {
     "data": {
      "text/html": [
       "<dt><a class=\"ProveItLink\" href=\"../../../../equality/_axioms_.ipynb#equalsTransitivity\">proveit.logic.equality.equalsTransitivity</a></dt><dd><a class=\"ProveItLink\" href=\"../../../../equality/__pv_it/15953cfebb497c481d8be77ed0e16c42a27f82610/expr.ipynb\"><img src=\"data:image/png;base64,iVBORw0KGgoAAAANSUhEUgAAANEAAAAXBAMAAABnpbd1AAAAMFBMVEX///8QEBC6urrMzMxUVFRm\n",
       "ZmZERETc3NwyMjKqqqp2dnaIiIiYmJgiIiLu7u4AAAAU9Wx4AAAAAXRSTlMAQObYZgAAAoBJREFU\n",
       "SMe9VUtoE1EUPZOZZvLrJLQLFVFScKFUMcVC3UglhQotSFYiFiGrVqyLQcQoogQRKihF0Lqwm8GN\n",
       "n0AIWAO2ooNQBD+QlYggRBeKuokIdtOF976Zya+daOHhgXDe3Jt55913PwP8N1TlbdXv73pBvwov\n",
       "XssQUg/6+7pSwANezMpQCnW6njxwlkjPylBa6uR85Zyk64YMpe2dnJ+A2L1c7qIMoUC+kzdIwfye\n",
       "nPwgQ6nLojQUDs1PtDv6evQSIhlgBJjyO+aGCsIGvuOtvY0fjl5lXOGlfurxESBMEe+A4Rd3cCNK\n",
       "ShKw8Bw32+wGjMN06ATQjagtQyme5DEwuo7nDDdbDaTTXZWlBGxdJwcZV8nID9KqkF6gNg6UobDs\n",
       "gdnzDaXIQv+IN2+yopZdEoPh/Ve3RRRm/RfdFuH4R8Y74bgj5Oj2MJWm3aqj/M8fcXOA7ellq6FU\n",
       "1LJbNE7wNaO0otIbghwLtN3HvAugHLyM1vCsLaSwBY2aiWthrsJVdp2tl/agLNzfmm4vGfLyqH+u\n",
       "RLN1chPudT3VcXg1mKCKbsX+5TeXhZfCFr4VYR7DuNgy2ZynuOm9pVlaqUECp+vpqMCYLj582p6m\n",
       "TOwnHSbEO8Y4M2pCZXMPepn2YahJaQCpoHNXSlJJiYJWPIuaUr1zbPrLNHIwHMlHcM5Eb6BGpI7t\n",
       "ytaV1Np9WF7PpPZCnxHkYvDu7aYh6o+Ct/jyZKKIYRu3ynmiaGCzWVcypucWvTYIj5+AuirIRalv\n",
       "5l++Gu3DwdZNToDt2085TmPMoTXQO3wJNbP1o2kGrZ1MvkoneWAPObQWF/yVHrU+xhBesph8leYX\n",
       "OXKHpEKTudkfgDCcYn7TElEAAAAASUVORK5CYII=\n",
       "\" style=\"display:inline;vertical-align:middle;\" /></a></dd>"
      ],
      "text/plain": [
       "<IPython.core.display.HTML object>"
      ]
     },
     "metadata": {},
     "output_type": "display_data"
    },
    {
     "data": {
      "text/html": [
       "<dt><a class=\"ProveItLink\" href=\"../../../../equality/_axioms_.ipynb#substitution\">proveit.logic.equality.substitution</a></dt><dd><a class=\"ProveItLink\" href=\"../../../../equality/__pv_it/8d36a51e21a3e1f2d1a576f0cfdfe721d403af1e0/expr.ipynb\"><img src=\"data:image/png;base64,iVBORw0KGgoAAAANSUhEUgAAAO8AAAAXBAMAAAARnwX+AAAAMFBMVEX///8QEBC6urrMzMxUVFRm\n",
       "ZmZERETc3NwyMjKqqqp2dnaIiIiYmJgiIiLu7u4AAAAU9Wx4AAAAAXRSTlMAQObYZgAAAvdJREFU\n",
       "SMfFVj1oFEEUfvef293bHKayECJYpIk5wcYqRyRGTBPUQgyiNonCgVuI8QfNIggWEq5QsLttDglB\n",
       "OTAemhRZJIVoc7UorE0QLXIYMIUiznszO7O3uznJQfDBm/123jfzZt+99+YA/pd4vS5MNqLYGPw3\n",
       "/63QFr586MHxURzMyQmJUc7EEEOcTInrIr4s9OCY1mQXf3es74shhjk21xvskbu0e786RW7zcFVi\n",
       "irUTZYY577n2sR85U9294wQlRy2AKazFKDPM+cLVeDY3d7eHSA/ReCGASa5GmWFOtsr158zMxx4c\n",
       "n8dh/cC4j28v33rFolmPEBXHrDsw74E2BaTHAWYxSOON6O5dquMRjb98bDrGpwSrkKeUuA9JytDJ\n",
       "0ZJtWAPI21wPgYl5llmZiu7eJen24ZDb8rEGejvPiuRghKg4xzItmGEFXeRaAN1lhkLc13Vx/AOH\n",
       "fNvHJqSJPBohKo6XaODnp9pcdbeACdfv9eBYaymcaMQ7DnBqXmpLOTZt7CnGtWk0L40ts3glmyL7\n",
       "uWM+SW2vKctiPyVoWeH5ErZfCnXmMwlfHeCcA72oQg2zY2h4R6fzTiRYon/vt46oL6bJk5gtDWkA\n",
       "qKivRGxYa6B7YpvOgpcceECnMGyu8IRiQXWQ5Ml6bxiayrGY7DAI/uagj2vuZbgDceWkOHAWRlyQ\n",
       "5SSOVOG0bRpPwWTwN96Wu/gGgGEcRjwfb6x8W8IcvR9xrDiwsXrRYr1ykCsYniwPSBVT/GUg4Bgn\n",
       "r1CopYEdl20BrwN4p5bZwXmuWqa/4g/ATWtUszX2gIFkWzmmSSG+ga4Do1wJXw1auAsFOemWiSm2\n",
       "JBTEVzEP7sab6RfsAY+btnJMk0J8A11ziYVW8IpE+RpJrQCn4GQdoHZl2upk+Gu7HLs5K92IrWNp\n",
       "YHIdjLolsZCJsOMgJ796mj3TFldxga+zSk3x15SVdYbiG4g04CECUfWxXtq54/icl0LF/xEMuiEO\n",
       "yY7mxDuWhr2W8t5t/RfNBeNeS11EOAAAAABJRU5ErkJggg==\n",
       "\" style=\"display:inline;vertical-align:middle;\" /></a></dd>"
      ],
      "text/plain": [
       "<IPython.core.display.HTML object>"
      ]
     },
     "metadata": {},
     "output_type": "display_data"
    },
    {
     "data": {
      "text/html": [
       "</dl>"
      ],
      "text/plain": [
       "<IPython.core.display.HTML object>"
      ]
     },
     "metadata": {},
     "output_type": "display_data"
    },
    {
     "data": {
      "text/html": [
       "<h3>Theorems that depend directly on falseAntecedentImplication</h3>"
      ],
      "text/plain": [
       "<IPython.core.display.HTML object>"
      ]
     },
     "metadata": {},
     "output_type": "display_data"
    },
    {
     "data": {
      "text/html": [
       "<dl>"
      ],
      "text/plain": [
       "<IPython.core.display.HTML object>"
      ]
     },
     "metadata": {},
     "output_type": "display_data"
    },
    {
     "data": {
      "text/html": [
       "<dt><a class=\"ProveItLink\" href=\"../../../conjunction/_proofs_/leftFromAndExplicit.ipynb\">proveit.logic.boolean.conjunction.leftFromAndExplicit</a></dt><dd><a class=\"ProveItLink\" href=\"../../../conjunction/__pv_it/d17b3b3361cac813f71ef27699985edc2c8db0330/expr.ipynb\"><img src=\"data:image/png;base64,iVBORw0KGgoAAAANSUhEUgAAAI0AAAAWBAMAAAAP0QIWAAAAMFBMVEX///8QEBC6urrMzMxUVFRm\n",
       "ZmZERETc3NwyMjKqqqp2dnaIiIiYmJgiIiLu7u4AAAAU9Wx4AAAAAXRSTlMAQObYZgAAAjtJREFU\n",
       "OMutVEFr1FAQ/po0yZpk0/4BdRFvCrsHRbBIFy3Vk93DRi9qRTE9CN09SItI273IYg82F726J60X\n",
       "ieCth8aDoHiwl3rQgkFUhFoVl1bF7eK8SbabylqR9MG8N5k3+WbeN/MeAmzPWBDT82QYR0juC+Vm\n",
       "MpwZkjES7XwiGPMNkZMiUdxEOFeHywR2b3x8ItmxvPkMzWuO8yoRjBTc8Wk5Bozwd5Xn26v2YO4P\n",
       "z0y0psqRsqNkFy+2dt+i36NlL6wKs/UtJK0XRm+oTU9f91lrleFFCxCPgYftKFMFWtIw2Pt9g61K\n",
       "HtJ3YNk+A6+2vCeOYw0Lx5pQi0A2Sk4eGBgSDoaf5p5+sMjmtAdlAcaFyc+Eo3+K4+grFFdeEupr\n",
       "4GyLHqBLHMiqHGBYz2HzlxyelvGE61Dbdy6O06eSon4U/9RhViMc6pk0EzFyVMzdUYDs3KNRgBnz\n",
       "7J2b+MlTojhskk36NTcYXUyNcFJfhXaLr9gzzLN9lkgM5FqYj9IXwzFdg/xHRQy9AnNXiCPSU5tC\n",
       "6xJVsxbtEke4REdz5ZeOc1nwo8dwVuxTTcgFigi1AOsnG8d2V2GWfoiCmeJ/pYx+bhvazuasfJjP\n",
       "JpzTkOvoDqACPS6kesem3E+bvlaF1oRGhTsenetaG0ciXho4SAV2MRVgotAJ5t0atKEluYHZVfsE\n",
       "Mfchw33otHm2qEmurPsnxac+YxdvbPkCbGh3iZ+NEXtWypFsPQ51Nv/38+RvE85fRv7fLr8BYO6Y\n",
       "y4lNU68AAAAASUVORK5CYII=\n",
       "\" style=\"display:inline;vertical-align:middle;\" /></a></dd>"
      ],
      "text/plain": [
       "<IPython.core.display.HTML object>"
      ]
     },
     "metadata": {},
     "output_type": "display_data"
    },
    {
     "data": {
      "text/html": [
       "<dt><a class=\"ProveItLink\" href=\"../../../conjunction/_proofs_/rightFromAndExplicit.ipynb\">proveit.logic.boolean.conjunction.rightFromAndExplicit</a></dt><dd><a class=\"ProveItLink\" href=\"../../../conjunction/__pv_it/fbe78acfb15e476b8fe50bf8d915d4c31916acb50/expr.ipynb\"><img src=\"data:image/png;base64,iVBORw0KGgoAAAANSUhEUgAAAI8AAAAWBAMAAAALJNIrAAAAMFBMVEX///8QEBC6urrMzMxUVFRm\n",
       "ZmZERETc3NwyMjKqqqp2dnaIiIiYmJgiIiLu7u4AAAAU9Wx4AAAAAXRSTlMAQObYZgAAAghJREFU\n",
       "OMutlDFI3GAUx/82l4tccldHF+EobhW8oeJQxGAPdapd4mRbFRoHwd5UC6IeglxxKLfonEntUjK0\n",
       "Q3EwHQqWFqqDHYrDDW0XtYKcFovYvu99l5DI2Vrig3z5fy8//rzvfY+ggiuKTbF8iGFgDFTzvXPA\n",
       "C7F5HqeUhmHgYRZPSGrDcYy6XXpMNFKT1HIco/UC8MmBsTI5OR2ryyP0bFE5x7b9JZZRFXg6Qe87\n",
       "wBgnSrwuHVm9uXNo1hclX4Qopbr2ekeIVmSKfI2H8jaboDdJtbAw77Hy76KGRCjoP4F9k0QaOuPf\n",
       "TjmvmrhGn3atIbjO7o2IESOpECUiSYa6+KB7aZ7ul9ucT7tQN6GPzvwgo9RexIiRLi+gOK5TNcYv\n",
       "EpniLT6qa3P+IIeNAt4J6To3H4SNJDJRDCg5RmScOBFqrEesCdznfPvaK7oC7pprtUR6xIjifAyo\n",
       "YIxmmV/kGt9jnfOrwNuK4siK1NthI0aSlUafCsZIaWbd4IoDbluPefeI6i4rn217XPQoFTKSSAeM\n",
       "co3i7ODvfP6ZLNwQBmoB3TwYdNr2XMaUFUWMJHKXt0zVHc82ar+nlaCdQaO76asdbSpkxIhyD3jj\n",
       "U3Xi6zG0gR3lFKtHVj/V/D3LA2mHmi2RBJWf9Km//KQCtUw9CiL0l9Fqzz+is376/39X3lUZXRDm\n",
       "JZg/T9ii0bCZRQMAAAAASUVORK5CYII=\n",
       "\" style=\"display:inline;vertical-align:middle;\" /></a></dd>"
      ],
      "text/plain": [
       "<IPython.core.display.HTML object>"
      ]
     },
     "metadata": {},
     "output_type": "display_data"
    },
    {
     "data": {
      "text/html": [
       "<dt><a class=\"ProveItLink\" href=\"../../../disjunction/_proofs_/demorgansLawAndToOrBinExplicit.ipynb\">proveit.logic.boolean.disjunction.demorgansLawAndToOrBinExplicit</a></dt><dd><a class=\"ProveItLink\" href=\"../../../disjunction/__pv_it/3f128eb8aa42c4906b681dddf02c5b3afd650eed0/expr.ipynb\"><img src=\"data:image/png;base64,iVBORw0KGgoAAAANSUhEUgAAARAAAAAXBAMAAAAxVg0qAAAAMFBMVEX///8QEBC6urrMzMxUVFRm\n",
       "ZmZERETc3NwyMjKqqqp2dnaIiIiYmJgiIiLu7u4AAAAU9Wx4AAAAAXRSTlMAQObYZgAAA+tJREFU\n",
       "SMfNVl1oFFcU/nZnf5LdyRj6ZB/UVaQIKpmHFkWrWXSJPpmAWUGpmlYcFa1ZUNQqmiDIqojmQUVQ\n",
       "cBH8gyIr6EPJQ1ZEUHxo+qAPGnQoKgGrLRq1/qCec+7M7MyoEcEVL7sz595vztzv3PPdMxf4Wpr9\n",
       "ZaaJlodD9QzQz8bVmhP5Xt1mhBm0DuVatgPzgdPc31tzIs4M+2R1xDTlGukAlmZQB2ygXrKj1jzS\n",
       "KjP6bVZCzKyONNOtOQu9hDqC4j21JhJRUvxtaYGuGsfdoEb6aODPEoxG6Cc3btxa88xMULdyX4Zv\n",
       "RfofUCM/0/8v4rQKeGpZNz7hlesok6avXx+AgkAVW6S2jn20AodEUQFDwKa1dD8OzAZWAB508Em+\n",
       "xQxNnqmayRKwudotQiv5IUWhM9++jIEqtkeuf4skJC2akqU21Ht+gI1DwHgY3SKkR0pPjUg3Kmv3\n",
       "7h0SAHxaTgS67HPMD6l2ATgrgId94wTU1eZIN6aCSz8DHmTJGEv0kJbp7r4SKJ5FlND7+Z9QLt0f\n",
       "FyZymAKu1ib2GWSjpCCntQNNBQYG3REJUsvlWtWr+l0kQTGneeJmuleUgM9cE6ihjHg/0r9se0hE\n",
       "Uv+EiVAWEwWvxz68GbUBuAnmdhNYLEDM9BOh+hGRxcdC/K7GR9Bq6C8UEaNbqp5WtgT618TlAi6J\n",
       "xksTl4SJUAQRryM+XBASgwpSzXgMvShA2l28b/lCRaJBPbRJFXSan5IRe65SgxWzeCjGQVBr6j1H\n",
       "Khbi5fyosEY0AqZ6PfGJUlDT9IpAznflZW+LLQBj0tawmIlI3X/K8UeHIZeRLna8zJtJ2F1Bn0Cn\n",
       "SGu2knu5FJ9eJXLCsqxufvN4x3Z8mMBaYk5QioZXAqlu6KMF8MjR7hRZJF6reH61vTKijbSdByLM\n",
       "zriW7xRwOWWnR7tuWatZI6nginTUE5H9ju348HxtxKk+6+6dRBuM50Eik+lbMqYIvfN/2TbYoYYX\n",
       "vMnldsqqb+c9yATiBTSLsugNTaaRVSvyDpEomd+5RJQPDcVsmj/a4RIZ0YPoY/BA1PWMFIKVaWao\n",
       "UhmewCaRfyVZRPI1krQV5jip2RIiYlAaH7hExIe/Vz+QMnuMfpdIl42tFDgBulvRPOMDLeWq+s5T\n",
       "JFsHtFc49SQ/l0R1LyMFzQqJ1cQt73NlKh/EM5gnz9xS6UdqX759Fy9yhn/BY8CH2mD4nOJZJ0gj\n",
       "XvNt3z84+IAPHSV43QsMhYE6r7N+eCJzQv0p73/MR+Qe5TN4ejnsg8JAtdgmhz0qpsNft8pHidTT\n",
       "I0cCYNYPhYDsZz5N+N93kRLo55+y/VAQSH3CyfwtuSsLv7mURRcAAAAASUVORK5CYII=\n",
       "\" style=\"display:inline;vertical-align:middle;\" /></a></dd>"
      ],
      "text/plain": [
       "<IPython.core.display.HTML object>"
      ]
     },
     "metadata": {},
     "output_type": "display_data"
    },
    {
     "data": {
      "text/html": [
       "<dt><a class=\"ProveItLink\" href=\"../../_proofs_/eqFromIff.ipynb\">proveit.logic.boolean.implication.eqFromIff</a></dt><dd><a class=\"ProveItLink\" href=\"../bc3078bb4119ca4e5b08127967cce4c7bbc9215e0/expr.ipynb\"><img src=\"data:image/png;base64,iVBORw0KGgoAAAANSUhEUgAAANEAAAAXBAMAAABnpbd1AAAAMFBMVEX///8QEBC6urrMzMxUVFRm\n",
       "ZmZERETc3NwyMjKqqqp2dnaIiIiYmJgiIiLu7u4AAAAU9Wx4AAAAAXRSTlMAQObYZgAAAtxJREFU\n",
       "SMe9VU1oE1EQ/prNdpPsNu3J9qIE8VaxOVQEPTRoqN4qSMSD1VZwqxRsTq1S1FAsKT1oL/Wck1YE\n",
       "WVBPBRsFRStiPLQHqZBCq2A1irT1r7TOm7dJNtlKwBQH3nvz3nyZb2feTB7w3yS7JV6aK9if0MgI\n",
       "5WWVREpELhmXxehYjrYPQQ0Dd8T+epVMPpkZ31e3qaYLOB1CAuinndZVJdOkXF6tu01tFo0IpuXn\n",
       "qGNVMu3gWRv/7jZNxYHXKcxTIm8PDFyuksiT4EXXv7lt3TTeZFFLwaya5tsqmdQUL3v8a27bMnDx\n",
       "AhA4ChwCevgsyfPNlVh7uAwdyitJx6ED6EuLORhSfvP2xIiQa7IclycfztHqp7B3IcjBGzJ0owF6\n",
       "g9RGR4fZBfIFYzizUwSihj/FA23FFZJOV/eZesBD0Dro7G9Rhq5G4CHrUuwkrNTSzhKmRWd2bKCQ\n",
       "emZqjUZXXUy1xKDTzxRqAD1dx91wb4ZNdRbUDPQzV3LEFPhUwsSQBWB/EehgoqnJxVRP8Ri/JFMw\n",
       "0coJtUw2fQnjeRxPhWqlmk85mSTkGOCNF4Aye6JL/KLIeNv5TsisbCfKl/enzB56DoojLzrZ1DL5\n",
       "gEqFb86KbS+5J4YEtpnmucYCUKZIwC7RuLFpO10lb4bwOM45eIEpNk0Aj7NKSsakHnAyCYhyXmgL\n",
       "j2ygNIgS5rLqy27STkpTVkJQY4kSnYlJ2FnKy5gya5q94p4CDiaGqByHf8gG2p2bgdb9I45nG8Nl\n",
       "RMc3otEREbFPXKUhGNQ42rg7KKct4WBExlTCJCH9MZLePNB22FixuecL2m4qk7SWhLYOjSrssJ29\n",
       "QQcTQxBM5nIf6SttoJTpikx388rCKrSOOWUNEyuxI5ST9yHuXNNRERIC7OVCzwNLXo2/i/xzcPZ9\n",
       "Qbtl9haPSx4VBfhQ7kiLVGDyxssO9m2Oq/x8DVaw3y8/SP8r01ZJZCuc/AGUONqjiDWMHAAAAABJ\n",
       "RU5ErkJggg==\n",
       "\" style=\"display:inline;vertical-align:middle;\" /></a></dd>"
      ],
      "text/plain": [
       "<IPython.core.display.HTML object>"
      ]
     },
     "metadata": {},
     "output_type": "display_data"
    },
    {
     "data": {
      "text/html": [
       "</dl>"
      ],
      "text/plain": [
       "<IPython.core.display.HTML object>"
      ]
     },
     "metadata": {},
     "output_type": "display_data"
    }
   ],
   "source": [
    "%dependencies falseAntecedentImplication"
   ]
  }
 ],
 "metadata": {
  "kernelspec": {
   "display_name": "Python 3",
   "language": "python",
   "name": "python3"
  }
 },
 "nbformat": 4,
 "nbformat_minor": 0
}
