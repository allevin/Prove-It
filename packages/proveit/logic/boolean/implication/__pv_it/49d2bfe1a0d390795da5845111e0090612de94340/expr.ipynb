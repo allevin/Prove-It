{
 "cells": [
  {
   "cell_type": "markdown",
   "metadata": {},
   "source": [
    "Expression of type <a class=\"ProveItLink\" href=\"../../../../../../../doc/html/api/proveit.Lambda.html\">Lambda</a>\n",
    "=======================\n",
    "# from context <a class=\"ProveItLink\" href=\"../../_context_.ipynb\">proveit.logic.boolean.implication</a>"
   ]
  },
  {
   "cell_type": "code",
   "execution_count": 1,
   "metadata": {},
   "outputs": [],
   "source": [
    "# import Expression classes needed to build the expression\n",
    "from proveit import Lambda\n",
    "from proveit._common_ import A, B\n",
    "from proveit.logic import And, Forall"
   ]
  },
  {
   "cell_type": "code",
   "execution_count": 2,
   "metadata": {},
   "outputs": [
    {
     "data": {
      "text/html": [
       "<strong id=\"expr\">expr:</strong> <a class=\"ProveItLink\" href=\"expr.ipynb\"><img src=\"data:image/png;base64,iVBORw0KGgoAAAANSUhEUgAAAPMAAAAZCAMAAADT9+jpAAAANlBMVEX///92dnYUFBQNDQ0QEBBE\n",
       "RERUVFS6urqIiIhmZmaqqqrc3Nzu7u6YmJgyMjIiIiLMzMwAAACuIkBbAAAAAXRSTlMAQObYZgAA\n",
       "AsJJREFUWMPtmOmS2yAMgHFrcV96/5etAxibK2vibJudKX8yGRmhDx0ICHlhgHNOkc8ZbLNn+eY1\n",
       "HPm4oeh/ZkKkejuzfl9k8penGjZmXtgFBd7NMB8fG34L2dMZIwxFpNsAG5CEn2Ou1VucYV5knnfP\n",
       "5eX02gjVKF8h/AgMTHaOuVJvHOoJZgX7anALmfOnRlhRewp5+g2UZplhrtQrKVDN1LDdP0LeYl6f\n",
       "GuHBVY7g6QODgVavE8y1er5pYzPMZlFh3CvizJJnRlDGq2oBCdKlzQJ5nblSzzSRaI6QKsu+7J1V\n",
       "CI9xsxkQ5+mVEZsXbXMwxpBWFpL/F3GZuVKv2ZEpnROY6g4zDTUTYrBIQCEEBX9aoti2Vh4394RY\n",
       "G7HZberc2dKYcy5cnibtVeZa/UOuUIyYNVUtM6PJEzG/Qszx9RSFZflo5DGdGRkakYql7aSzdjsj\n",
       "W68yV+r948ijeFj5+5crxlqkmTt++L7hIizKTjWiZG7lMVQZGRqRTn7qO+nM9yD1eJG5Vh/Fqx12\n",
       "l5R1es8Hby6rLtgn3MjPrbxmboxIyoumBdOfVLYnmCv1ci+FI2ahev32FtfZHo0PbxirBswdebQh\n",
       "Z2trhExxeJrkd/dSlHOxXalXsmlSSmbP+3cMUNn/DLfSQuFc6wrmjjx+ZMjQiJ1ViuZ0VpjryLUa\n",
       "VqnPZQiOJqWE1IN7lTxCdbGxUOkBc0d+Pmp6RnhoPZDS2a+5Y712VpXqFawYNtQAYtPpfXGXXPPe\n",
       "gIgRLAfMHXm67sf+tWPEUUP2vkRAvGDY0wkX7xrPmV9hHDKb7LYIw9APmDvytG3DhpcNjvoyBGd6\n",
       "z/e+GagQkcqJQT735Gnb7vVxC/9XzIsNXZYtIhe+kL/jKqon75Lf/TZ08Y556yUr94c/i5mo199Z\n",
       "uB/vHP9k5h/y7nnpfZv+NeDH+/bEan8AYoggGjRN14sAAAAASUVORK5CYII=\n",
       "\" style=\"display:inline;vertical-align:middle;\" /></a><br>"
      ],
      "text/plain": [
       "expr: A -> [forall_{B | B} (A and B)] | A"
      ]
     },
     "execution_count": 2,
     "metadata": {},
     "output_type": "execute_result"
    }
   ],
   "source": [
    "# build up the expression from sub-expressions\n",
    "subExpr1 = [B]\n",
    "expr = Lambda(A, Forall(subExpr1, And(A, B), conditions = subExpr1), conditions = [A])"
   ]
  },
  {
   "cell_type": "code",
   "execution_count": 3,
   "metadata": {},
   "outputs": [
    {
     "name": "stdout",
     "output_type": "stream",
     "text": [
      "Passed sanity check: built 'expr' is the same as the stored Expression.\n"
     ]
    }
   ],
   "source": [
    "# check that the built expression is the same as the stored expression\n",
    "%check_expr"
   ]
  },
  {
   "cell_type": "code",
   "execution_count": 4,
   "metadata": {},
   "outputs": [
    {
     "data": {
      "text/html": [
       "<table><tr><th>&nbsp;</th><th>core type</th><th>sub-expressions</th><th>expression</th></tr>\n",
       "<tr><td>0</td><td>Lambda</td><td>parameter:&nbsp;9<br>body:&nbsp;1<br>conditions:&nbsp;2<br></td><td><a class=\"ProveItLink\" href=\"expr.ipynb\"><img src=\"data:image/png;base64,iVBORw0KGgoAAAANSUhEUgAAAPMAAAAZCAMAAADT9+jpAAAANlBMVEX///92dnYUFBQNDQ0QEBBE\n",
       "RERUVFS6urqIiIhmZmaqqqrc3Nzu7u6YmJgyMjIiIiLMzMwAAACuIkBbAAAAAXRSTlMAQObYZgAA\n",
       "AsJJREFUWMPtmOmS2yAMgHFrcV96/5etAxibK2vibJudKX8yGRmhDx0ICHlhgHNOkc8ZbLNn+eY1\n",
       "HPm4oeh/ZkKkejuzfl9k8penGjZmXtgFBd7NMB8fG34L2dMZIwxFpNsAG5CEn2Ou1VucYV5knnfP\n",
       "5eX02gjVKF8h/AgMTHaOuVJvHOoJZgX7anALmfOnRlhRewp5+g2UZplhrtQrKVDN1LDdP0LeYl6f\n",
       "GuHBVY7g6QODgVavE8y1er5pYzPMZlFh3CvizJJnRlDGq2oBCdKlzQJ5nblSzzSRaI6QKsu+7J1V\n",
       "CI9xsxkQ5+mVEZsXbXMwxpBWFpL/F3GZuVKv2ZEpnROY6g4zDTUTYrBIQCEEBX9aoti2Vh4394RY\n",
       "G7HZberc2dKYcy5cnibtVeZa/UOuUIyYNVUtM6PJEzG/Qszx9RSFZflo5DGdGRkakYql7aSzdjsj\n",
       "W68yV+r948ijeFj5+5crxlqkmTt++L7hIizKTjWiZG7lMVQZGRqRTn7qO+nM9yD1eJG5Vh/Fqx12\n",
       "l5R1es8Hby6rLtgn3MjPrbxmboxIyoumBdOfVLYnmCv1ci+FI2ahev32FtfZHo0PbxirBswdebQh\n",
       "Z2trhExxeJrkd/dSlHOxXalXsmlSSmbP+3cMUNn/DLfSQuFc6wrmjjx+ZMjQiJ1ViuZ0VpjryLUa\n",
       "VqnPZQiOJqWE1IN7lTxCdbGxUOkBc0d+Pmp6RnhoPZDS2a+5Y712VpXqFawYNtQAYtPpfXGXXPPe\n",
       "gIgRLAfMHXm67sf+tWPEUUP2vkRAvGDY0wkX7xrPmV9hHDKb7LYIw9APmDvytG3DhpcNjvoyBGd6\n",
       "z/e+GagQkcqJQT735Gnb7vVxC/9XzIsNXZYtIhe+kL/jKqon75Lf/TZ08Y556yUr94c/i5mo199Z\n",
       "uB/vHP9k5h/y7nnpfZv+NeDH+/bEan8AYoggGjRN14sAAAAASUVORK5CYII=\n",
       "\" style=\"display:inline;vertical-align:middle;\" /></a></td></tr>\n",
       "<tr><td>1</td><td>Operation</td><td>operator:&nbsp;3<br>operand:&nbsp;4<br></td><td><a class=\"ProveItLink\" href=\"../b96ac618b3b54c3922a99c865e19152d1d7522460/expr.ipynb\"><img src=\"data:image/png;base64,iVBORw0KGgoAAAANSUhEUgAAAIoAAAAXBAMAAAAmUcrKAAAAMFBMVEX///8QEBC6urrMzMxUVFRm\n",
       "ZmZERETc3NwyMjKqqqp2dnaIiIiYmJgiIiLu7u4AAAAU9Wx4AAAAAXRSTlMAQObYZgAAAlJJREFU\n",
       "OMutlD9oU0Ecx7/518S8e6/ByS42goMgkgyukoc+olsDJoKCtCK2CNpmkLYONaEgVRCbpeLWLMUK\n",
       "DinolKF1KzgYBxcVfDh1EcWm1qpUf/eveZR6hOLBe7/f3e/uc/f7cwf8l+Z3MSfcMFlZGmhx5ZWZ\n",
       "clKKU7uXD7S9/DRwHnjK+w/NFGWeVd07ejw0BAymkQDGqRcfMkIs6RD7qLy/qw05MuRcsDoSZIrV\n",
       "jJSQXH17sCxk5KaO5TINvK7DSYE9mZiYMjt0TIrGclrI6HEd7Cv0vSHkdeD78PA7M+WSTJQ/vyKU\n",
       "NZkRam1gcpTkAnAGGAEOjJWKV4VJbvhoo5TPqskPxP+TCAO1Z7goxyPt5osPXHkMHIVTJe0lsCRs\n",
       "MtIsBSulKAcVvVIQSguTKuqbwGeXlCOADYuftAhkyh1KzEV4U1G+iY09b0CYWANRecoe2sb6zXNF\n",
       "csXmMX8PXA6cxW4g1gpSwpSrqrD4iLhivJcE+ykpTpWXprMONhOgfMlitawoffxHxWALF+fokzNz\n",
       "5EN0S3qEkdN8q1/NvB+gZJrPR3WObvDCJEriKxRhbqdcKvx8q3yInzxZBTscoCxSvHVxLYj0Uhy2\n",
       "eXy43dblEjnkqwkhnsCeApytAOUaOaUr+gTdk/4ZsLEflKRoWt+JC388754ooWkedI7rrSG8HqAQ\n",
       "MaPrJVQOvhKBolLN0SWBio+pQocS30b87c4LUDfXdlLfiORsqXgfHcriRulcbffL8K+2tsfYHq/E\n",
       "LTPlbHeUuPHFtLLdUfbR3H2s+Qs4wYudyrAiiwAAAABJRU5ErkJggg==\n",
       "\" style=\"display:inline;vertical-align:middle;\" /></a></td></tr>\n",
       "<tr><td>2</td><td>ExprTuple</td><td>9</td><td><a class=\"ProveItLink\" href=\"../b7d96af9ad4b1093cdfbc7f0db04afd2340d5b5e0/expr.ipynb\"><img src=\"data:image/png;base64,iVBORw0KGgoAAAANSUhEUgAAABwAAAAVBAMAAACnLJNvAAAAMFBMVEX////c3NwiIiJERESqqqqY\n",
       "mJh2dnZmZmYQEBDu7u4yMjJUVFTMzMyIiIi6uroAAAAs73DqAAAAAXRSTlMAQObYZgAAAMBJREFU\n",
       "GNNjYEADfBdgLNYHQOI0hH0IiGuAeCWEux6IuRgYeCFqWfUnAIkEBo4JYK5IvQADA2cDwyuI2gv3\n",
       "QeaYMJRBjJ/gHwCk0hmWgrnzGM6DzPBi6ANzHzDIFwCpFwz/QDye3bv3GwDp8xAuHwMDxwIwtwXE\n",
       "dWBgYGoAKzYFkoxALtcHICMKaDYDwywgZv4JtugRA4Nw/0IGVvtfQKPXMXAIIPwKdCTQ2XDAdgHu\n",
       "QQaoGdII7kaQLfDA4T3AAAAlziv4kp0h2wAAAABJRU5ErkJggg==\n",
       "\" style=\"display:inline;vertical-align:middle;\" /></a></td></tr>\n",
       "<tr><td>3</td><td>Literal</td><td></td><td><a class=\"ProveItLink\" href=\"../../../quantification/universal/__pv_it/265f8c02ac1094d56e0e6410a1c1fd3500dc9f540/expr.ipynb\"><img src=\"data:image/png;base64,iVBORw0KGgoAAAANSUhEUgAAAAwAAAAQBAMAAADQT4M0AAAAMFBMVEX///8QEBC6urrMzMxUVFRm\n",
       "ZmZERETc3NwyMjKqqqp2dnaIiIiYmJgiIiLu7u4AAAAU9Wx4AAAAAXRSTlMAQObYZgAAAFhJREFU\n",
       "CNdjeMAABhdAxGmGlSCqj6EMSLInMHAAJVknMPAsLy+vBYp8S0u7BaScGRjSgZQKA18DkOJl4D4A\n",
       "pLgP8IJM4mswARuX7gSmpoKNZWDcAKZ4gCoAgTQTILaSE58AAAAASUVORK5CYII=\n",
       "\" style=\"display:inline;vertical-align:middle;\" /></a></td></tr>\n",
       "<tr><td>4</td><td>Lambda</td><td>parameter:&nbsp;10<br>body:&nbsp;5<br>conditions:&nbsp;6<br></td><td><a class=\"ProveItLink\" href=\"../57c64d77054a0a438c0f1b8668588723e1e866560/expr.ipynb\"><img src=\"data:image/png;base64,iVBORw0KGgoAAAANSUhEUgAAAKAAAAAVCAMAAAD2FhXZAAAANlBMVEX///8UFBQNDQ2qqqru7u4i\n",
       "IiJ2dnbc3NyIiIjMzMxmZmYQEBC6uroyMjJERERUVFSYmJgAAAC3B9V0AAAAAXRSTlMAQObYZgAA\n",
       "AdpJREFUSMfNltl2hCAMhm1B2Ze8/8vWqmgSFJyxc065cQs/n9lgGP7DEOrPJb1+e2r21avJd6Yk\n",
       "gDSPGPzNRUwiT+NL+tZ0AE94XFwuFm4SBkmegH5VkttT/dD1IOcxoLdrusWnSYDzCJQoWO5wqp+n\n",
       "DmDFo2HN0gzTLUCHgZSwQJLcxJG5kOlL1wGseOI2Y3TyVoWQGOlZjyyQvGYlxPWjaANWPKsnVYgH\n",
       "H80TQRQt9rOXg4CMXsh5Kqsarj/ZNiC3n0OttbYjXoYtkbBrAzKU/kiZbbX5qxU0pZi+CE3Ayn4L\n",
       "uRzTJaBMKM0c0vu9VWDZr6lwklKHvndNwMq+hFyjUH1/jWQ4lGfo1vz2qwQR1fTizWROUmrXN9AE\n",
       "rOxLMeMi5r03IQ0EuN455LC1gkknr/Q7gNzeFNAE4grQ4kbidjNRqu0opy3aQaGU4vrtEFf2peso\n",
       "CFc5aEjfiHlvgdVWUsCErbraoZ+bRVLZbyE3Dm9gtJPR9li6hCzrxH0rMbH+w1q/3WaYvY3rzhxw\n",
       "8+g06mVxFR0s/sqzQtndjlQtzfpMnx9KMOAbPCdb3eX5zZ/estHd6h6PPD2aPulPA7Lj1otD9o9b\n",
       "j4dKDyYn9XnAQb1/5NemfnUN+AMHvBe5b4H2yAAAAABJRU5ErkJggg==\n",
       "\" style=\"display:inline;vertical-align:middle;\" /></a></td></tr>\n",
       "<tr><td>5</td><td>Operation</td><td>operator:&nbsp;7<br>operands:&nbsp;8<br></td><td><a class=\"ProveItLink\" href=\"../b857516d9472d306ebc35d0187621f69815d22bc0/expr.ipynb\"><img src=\"data:image/png;base64,iVBORw0KGgoAAAANSUhEUgAAADcAAAAPBAMAAACy3Eq1AAAAMFBMVEX///92dnYQEBBERERUVFS6\n",
       "urqIiIhmZmaqqqrc3Nzu7u6YmJgyMjIiIiLMzMwAAACFkkdwAAAAAXRSTlMAQObYZgAAAPtJREFU\n",
       "GNNjYACBtwyogNv/i4vzUSjnPJSeBZNlMmBgqA+AKLy/ACJ2HCb5PgGIHcDMGfUTwDSfLVQRQz5Q\n",
       "YL8AmJmQDzGBJSwBKmkExJfAKlkX9G8AC61huACV/MLAMMcKzFoKtgIIpBkqIHJ8X9LSb0OYAQzz\n",
       "C8CMCwxzICJsPxkY1oLdw+fi4m8AdnQCA8sDsCSzAlDBb7CVQG8dADF4FzDwQZzPD6S4P4JYDUBh\n",
       "BRCjHYhPQrwJdCDLDyCDEyjJ84EBKtEO9+b8A2D3A+34BbIbZDEvzJt8OkBvTtY/ycBt/wfoXBZQ\n",
       "SLCBPFX838XlzAaUqGCF+gsBAFd8PNYBN2/JAAAAAElFTkSuQmCC\n",
       "\" style=\"display:inline;vertical-align:middle;\" /></a></td></tr>\n",
       "<tr><td>6</td><td>ExprTuple</td><td>10</td><td><a class=\"ProveItLink\" href=\"../a1a19f6677ed3601feaa5e06d5228e69f2c236a10/expr.ipynb\"><img src=\"data:image/png;base64,iVBORw0KGgoAAAANSUhEUgAAAB0AAAAVBAMAAABI7vhRAAAAMFBMVEX////c3NwiIiJERESqqqqY\n",
       "mJh2dnZmZmYQEBDu7u4yMjJUVFTMzMyIiIi6uroAAAAs73DqAAAAAXRSTlMAQObYZgAAANhJREFU\n",
       "GNNjYEAHfBfgzDgQcRqIo//v3m31gIH9AJC9EiTYzMDA/o+BYQEDAy9IOc9fIP7NwBDGwMAxAcjn\n",
       "/cjAwPqNgWEGA8MrkHLmBgYGpk4g7cBQBuLzb2BgXAxUyFbAsBTEP7/3blEAkGZZwNAH4t8XYODU\n",
       "BrmlgeEfiG8BEgMq4PkA4QOtYohPAPNbQNZ/BRL7HcDqTaHWM/4CMlgXMKRDrT8BcjfQvkdAl9v/\n",
       "3r0LbC/XAwYOASS/A93LmoDEz4X5FwI4gf5lkEbwuUF6GRHhdYeBAQDRdzVsr93CgQAAAABJRU5E\n",
       "rkJggg==\n",
       "\" style=\"display:inline;vertical-align:middle;\" /></a></td></tr>\n",
       "<tr><td>7</td><td>Literal</td><td></td><td><a class=\"ProveItLink\" href=\"../../../conjunction/__pv_it/76b5f4f4c45c0b6a9b59b297fc07dfa9555698f50/expr.ipynb\"><img src=\"data:image/png;base64,iVBORw0KGgoAAAANSUhEUgAAAAwAAAAOBAMAAADpk+DfAAAALVBMVEX///+qqqqYmJh2dnaIiIi6\n",
       "urpUVFQiIiJERETMzMxmZmYyMjLu7u7c3NwAAABvwqPxAAAAAXRSTlMAQObYZgAAAEtJREFUCNdj\n",
       "YGDgPcAAAtwLwNSMGjCV6gIieTawgyhmBS4BIMXOwLsBSKkwMGQCKaC6aQwMjEBd3BdACMScAVJd\n",
       "wJAKolwYAkAUKwAk0guX6efcigAAAABJRU5ErkJggg==\n",
       "\" style=\"display:inline;vertical-align:middle;\" /></a></td></tr>\n",
       "<tr><td>8</td><td>ExprTuple</td><td>9, 10</td><td><a class=\"ProveItLink\" href=\"../caee09fb4b5c95b986a9cee46a014afbad9bdc680/expr.ipynb\"><img src=\"data:image/png;base64,iVBORw0KGgoAAAANSUhEUgAAADUAAAAVBAMAAAAUZLt1AAAAMFBMVEX////c3NwiIiJERESqqqqY\n",
       "mJh2dnZmZmYQEBDu7u4yMjJUVFTMzMyIiIi6uroAAAAs73DqAAAAAXRSTlMAQObYZgAAATZJREFU\n",
       "KM9jYMAH+C5gFY4DEach7EMwQdb9v3dvXsfAfgDIXgkRWg/XwWHAwFD/gGEBAwMvxEhW/QkwufNA\n",
       "kfMbGMKAqiBiIvUCMLn7QFZ8AsMMBoZXEIEL9x/A5CyAWGMCA7MDQxnEsRP8A2ByvxkYpCwZGNgK\n",
       "GJaC+fPAtoABz++711WBNMsChj6wwAMG+QKoHO9HBoZJG4BGNTD8A6vdvXu/AVSOuQEo/xUo9gEi\n",
       "xwd07wKoHD9QD+s3sFwLiO/AwMDUAPMe0FHcX8BmmgK5jEA5rg8MDBNg3pMHGsK6gCEdyJ0FsuYn\n",
       "A+cnqPd4uiaA/fCIgUG4fyEDq/2vAs5+oJbi/7t3rwL5lesBA4cAUnQhsUFhxpqA4LIiR2AuIo7Q\n",
       "5ThBfpJG8JFTADfIfEbsaeIOAwMABOxNRsfkiy0AAAAASUVORK5CYII=\n",
       "\" style=\"display:inline;vertical-align:middle;\" /></a></td></tr>\n",
       "<tr><td>9</td><td>Variable</td><td></td><td><a class=\"ProveItLink\" href=\"../../../../../__pv_it/2cbe72a7ad6f655694dd697106680215e8489b600/expr.ipynb\"><img src=\"data:image/png;base64,iVBORw0KGgoAAAANSUhEUgAAAA8AAAAOBAMAAAACpFvcAAAALVBMVEX///8QEBBERERUVFS6urqI\n",
       "iIhmZmaqqqrc3Nzu7u6YmJgyMjIiIiLMzMwAAADtIaYWAAAAAXRSTlMAQObYZgAAAFtJREFUCNdj\n",
       "YACBOwxQsA9Kc52bAGG05zVAGAFxDmCaZULdAjBjCsO9ADDDgaEvAUTzGhvbKYCVMDAwbgAxChgY\n",
       "eASANAeQwf0AyJgNxEwvGRia5HYwcOm9TgAA6BoR3jrzwFcAAAAASUVORK5CYII=\n",
       "\" style=\"display:inline;vertical-align:middle;\" /></a></td></tr>\n",
       "<tr><td>10</td><td>Variable</td><td></td><td><a class=\"ProveItLink\" href=\"../../../../../__pv_it/077b2ff79244fb4582cbe22c6e3356fa92a52f2f0/expr.ipynb\"><img src=\"data:image/png;base64,iVBORw0KGgoAAAANSUhEUgAAABAAAAAOBAMAAADUAYG5AAAAMFBMVEX///+qqqru7u4iIiJ2dnbc\n",
       "3NyIiIjMzMxmZmYQEBC6uroyMjJERERUVFSYmJgAAADLUcuvAAAAAXRSTlMAQObYZgAAAGpJREFU\n",
       "CNdjYGB4+//u3dMLGIBgDgMDxy8gzf4NiP8CGWxfGRj4vgAZPBMYGJgnARn8FxhY9ygAGfXX0pof\n",
       "gDTlBzAw2YIYJ0EckBBI53sHoBH/gIz7AhBjWH9DjancBLTl/N+7t/cxMAAA3u4f/5xagjYAAAAA\n",
       "SUVORK5CYII=\n",
       "\" style=\"display:inline;vertical-align:middle;\" /></a></td></tr>\n",
       "</table>\n"
      ],
      "text/plain": [
       "0. A -> [forall_{B | B} (A and B)] | A\n",
       "   core type: Lambda\n",
       "   parameter: 9\n",
       "   body: 1\n",
       "   conditions: 2\\n1. forall_{B | B} (A and B)\n",
       "   core type: Operation\n",
       "   operator: 3\n",
       "   operand: 4\n",
       "2. (A)\n",
       "   core type: ExprTuple\n",
       "   sub-expressions: 9\n",
       "3. forall\n",
       "   core type: Literal\n",
       "   sub-expressions: \n",
       "4. B -> (A and B) | B\n",
       "   core type: Lambda\n",
       "   parameter: 10\n",
       "   body: 5\n",
       "   conditions: 6\\n5. A and B\n",
       "   core type: Operation\n",
       "   operator: 7\n",
       "   operands: 8\n",
       "6. (B)\n",
       "   core type: ExprTuple\n",
       "   sub-expressions: 10\n",
       "7. and\n",
       "   core type: Literal\n",
       "   sub-expressions: \n",
       "8. (A , B)\n",
       "   core type: ExprTuple\n",
       "   sub-expressions: 9, 10\n",
       "9. A\n",
       "   core type: Variable\n",
       "   sub-expressions: \n",
       "10. B\n",
       "    core type: Variable\n",
       "    sub-expressions: "
      ]
     },
     "execution_count": 4,
     "metadata": {},
     "output_type": "execute_result"
    }
   ],
   "source": [
    "# display the expression information\n",
    "expr.exprInfo()"
   ]
  },
  {
   "cell_type": "code",
   "execution_count": null,
   "metadata": {},
   "outputs": [],
   "source": []
  }
 ],
 "metadata": {
  "kernelspec": {
   "display_name": "Python 3",
   "language": "python",
   "name": "python3"
  }
 },
 "nbformat": 4,
 "nbformat_minor": 0
}
