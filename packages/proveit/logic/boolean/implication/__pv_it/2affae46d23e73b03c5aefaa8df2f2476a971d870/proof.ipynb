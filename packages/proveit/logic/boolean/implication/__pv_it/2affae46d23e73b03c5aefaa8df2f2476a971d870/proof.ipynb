{
 "cells": [
  {
   "cell_type": "markdown",
   "metadata": {},
   "source": [
    "Show the Proof\n",
    "========"
   ]
  },
  {
   "cell_type": "code",
   "execution_count": 1,
   "metadata": {},
   "outputs": [
    {
     "data": {
      "text/html": [
       "<table><tr><th>&nbsp;</th><th>step type</th><th>requirements</th><th>statement</th></tr>\n",
       "<tr><td>0</td><td>specialization</td><td>1, 2</td><td><span style=\"font-size:20px;\"><a class=\"ProveItLink\" href=\"../b9713b405570857a29694d61fe5e2536eab03fc30/expr.ipynb\"><img src=\"data:image/png;base64,iVBORw0KGgoAAAANSUhEUgAAAHUAAAAVBAMAAACK3rzVAAAAMFBMVEX////c3NxERESqqqpUVFS6\n",
       "urrMzMwyMjIQEBCIiIh2dnYiIiLu7u5mZmaYmJgAAABXZE4RAAAAAXRSTlMAQObYZgAAAbZJREFU\n",
       "OMtjYGDgu8dAMmBbJQCieHahiEYS1McXANLcDGJyfkAx0AFCbcCmyf+Li1MpA8M1EOc6iOBqQJZn\n",
       "PwChPmCzkUOBgeF+AAM7iL0CU+9MCPX6D0LoAJyVPwGIHRj4FmDX2wMmGW0/IoRq4Kz5wAB6v4CB\n",
       "pwGrXtYCMMXJ+RUhFgJnaQDxDqAzlLHq5V0ApmKY/yHEuCbAWF8YGMR1gPRamF7eAuSgegCOtgC2\n",
       "n2Cp3WDwFxYHX2bO3QdimAPxexAjIwCmCGgnRwDY5QyMf5EMZC6F0JzAQDgNisMIkC0XGBhS2pCj\n",
       "lh+sN8XF5RNyAB5vBVNMQN9xgjyTD+KpA50YkYChF0i0I6eXKkg08QMV8P2C6uUGhQxLAZJeDgOQ\n",
       "G0HBieTfTdAYzgfaxPIZ6mawf7k2IOllAoWVMBDXI3nXASl65UE2PceMI6DjuYAhwAOS1kekJnGk\n",
       "6GVrP4AcR6hpYwMDo8Z3AYZH/2vhYopQ+tJ/F5dycByWYk+TjZg5IAFdAEeaZHhFRMYHJzSwXj5s\n",
       "eRAvOA7Pvzw7kcUZHQjrdQRFCiS58C1GlpAkqJUzAVpeAQCj4XXVPjLA8gAAAABJRU5ErkJggg==\n",
       "\" style=\"display:inline;vertical-align:middle;\" /></a> <a class=\"ProveItLink\" href=\"proof.ipynb\" style=\"text-decoration: none\">&#x22A2;&nbsp;</a><a class=\"ProveItLink\" href=\"../337455f948d88f33b05b33e74f542cbe0a5e30e80/expr.ipynb\"><img src=\"data:image/png;base64,iVBORw0KGgoAAAANSUhEUgAAAF8AAAAVBAMAAADSoS/MAAAAMFBMVEX////c3NxERESqqqqYmJgQ\n",
       "EBDu7u4yMjKIiIi6urpUVFTMzMx2dnYiIiJmZmYAAABjE816AAAAAXRSTlMAQObYZgAAAX5JREFU\n",
       "OMtjYCAfcDYQVOKJwtsFxF7/V61Sn4BVMfcFBga+DcgiZSAiCCj6E6sG9g9AogBJgAPkIu4fQPwL\n",
       "qwbfb0DCB0mANQGk6yMDA8sfqJFAvA8uzWgHlGJIRdIwHUQwBTAw8IZBBDpAfAG4AzhALmUyQGh4\n",
       "AyL4FzAwFiVAPAlyLyPc0dOYvwBJngcIDSUgYv+KjrcOEP7W2LtA8B2im4FtAsh7DMwFDG9BwneA\n",
       "7EiQeL8AA9stiBPKIJFTCY0kBsZ/ICoAEQXgwFQFaQJZwRYEtVh0AUTFqlWfQO78gKYBFKL+B0Cs\n",
       "LIhrGSsgKoCRGY6mIRjEB3lsPSQkbO+CASSYmIH4KpqTVKDRwPgdIsYMcgvbRQhHGIjrgZgFGmrc\n",
       "QHwOGg1by6CufwzEXJB0xQZSp5+AGqxzgalI/9eq5SUwgXQgFoJ4RPW7AIPT/zpg7CMlTFYB9OQJ\n",
       "xGloYshJg+UAEXnmBEbyxg/YkJM3gxRhDVwozmYknEW7GRgA5xlgXAZDpx4AAAAASUVORK5CYII=\n",
       "\" style=\"display:inline;vertical-align:middle;\" /></a></span></td></tr>\n",
       "<tr><td>&nbsp;</td><td colspan=4 style=\"text-align:left\"><span style=\"font-size:20px;\"><a class=\"ProveItLink\" href=\"../../../../../__pv_it/2cbe72a7ad6f655694dd697106680215e8489b600/expr.ipynb\"><img src=\"data:image/png;base64,iVBORw0KGgoAAAANSUhEUgAAAA8AAAAOBAMAAAACpFvcAAAALVBMVEX///8QEBBERERUVFS6urqI\n",
       "iIhmZmaqqqrc3Nzu7u6YmJgyMjIiIiLMzMwAAADtIaYWAAAAAXRSTlMAQObYZgAAAFtJREFUCNdj\n",
       "YACBOwxQsA9Kc52bAGG05zVAGAFxDmCaZULdAjBjCsO9ADDDgaEvAUTzGhvbKYCVMDAwbgAxChgY\n",
       "eASANAeQwf0AyJgNxEwvGRia5HYwcOm9TgAA6BoR3jrzwFcAAAAASUVORK5CYII=\n",
       "\" style=\"display:inline;vertical-align:middle;\" /></a> : <a class=\"ProveItLink\" href=\"../../../../../__pv_it/077b2ff79244fb4582cbe22c6e3356fa92a52f2f0/expr.ipynb\"><img src=\"data:image/png;base64,iVBORw0KGgoAAAANSUhEUgAAABAAAAAOBAMAAADUAYG5AAAAMFBMVEX///+qqqru7u4iIiJ2dnbc\n",
       "3NyIiIjMzMxmZmYQEBC6uroyMjJERERUVFSYmJgAAADLUcuvAAAAAXRSTlMAQObYZgAAAGpJREFU\n",
       "CNdjYGB4+//u3dMLGIBgDgMDxy8gzf4NiP8CGWxfGRj4vgAZPBMYGJgnARn8FxhY9ygAGfXX0pof\n",
       "gDTlBzAw2YIYJ0EckBBI53sHoBH/gIz7AhBjWH9DjancBLTl/N+7t/cxMAAA3u4f/5xagjYAAAAA\n",
       "SUVORK5CYII=\n",
       "\" style=\"display:inline;vertical-align:middle;\" /></a>, <a class=\"ProveItLink\" href=\"../../../../../__pv_it/077b2ff79244fb4582cbe22c6e3356fa92a52f2f0/expr.ipynb\"><img src=\"data:image/png;base64,iVBORw0KGgoAAAANSUhEUgAAABAAAAAOBAMAAADUAYG5AAAAMFBMVEX///+qqqru7u4iIiJ2dnbc\n",
       "3NyIiIjMzMxmZmYQEBC6uroyMjJERERUVFSYmJgAAADLUcuvAAAAAXRSTlMAQObYZgAAAGpJREFU\n",
       "CNdjYGB4+//u3dMLGIBgDgMDxy8gzf4NiP8CGWxfGRj4vgAZPBMYGJgnARn8FxhY9ygAGfXX0pof\n",
       "gDTlBzAw2YIYJ0EckBBI53sHoBH/gIz7AhBjWH9DjancBLTl/N+7t/cxMAAA3u4f/5xagjYAAAAA\n",
       "SUVORK5CYII=\n",
       "\" style=\"display:inline;vertical-align:middle;\" /></a> : <a class=\"ProveItLink\" href=\"../../../../../__pv_it/2cbe72a7ad6f655694dd697106680215e8489b600/expr.ipynb\"><img src=\"data:image/png;base64,iVBORw0KGgoAAAANSUhEUgAAAA8AAAAOBAMAAAACpFvcAAAALVBMVEX///8QEBBERERUVFS6urqI\n",
       "iIhmZmaqqqrc3Nzu7u6YmJgyMjIiIiLMzMwAAADtIaYWAAAAAXRSTlMAQObYZgAAAFtJREFUCNdj\n",
       "YACBOwxQsA9Kc52bAGG05zVAGAFxDmCaZULdAjBjCsO9ADDDgaEvAUTzGhvbKYCVMDAwbgAxChgY\n",
       "eASANAeQwf0AyJgNxEwvGRia5HYwcOm9TgAA6BoR3jrzwFcAAAAASUVORK5CYII=\n",
       "\" style=\"display:inline;vertical-align:middle;\" /></a></span></td></tr><tr><td>1</td><td>theorem</td><td></td><td><span style=\"font-size:20px;\"> <a class=\"ProveItLink\" href=\"../../_proofs_/notIffViaNotLeftImpl.ipynb\" style=\"text-decoration: none\">&#x22A2;&nbsp;</a><a class=\"ProveItLink\" href=\"../6742cf490b993905ecf887a97c27449b35a87a190/expr.ipynb\"><img src=\"data:image/png;base64,iVBORw0KGgoAAAANSUhEUgAAAPcAAAAXBAMAAAAl5sTiAAAAMFBMVEX///8QEBC6urrMzMxUVFRm\n",
       "ZmZERETc3NwyMjKqqqp2dnaIiIiYmJgiIiLu7u4AAAAU9Wx4AAAAAXRSTlMAQObYZgAAA01JREFU\n",
       "SMfFVk9IFGEUf+44O44zThsEeoo9SARF7UEq6uBim3RTotWTuB5ab7ZQpCHRFISdag/ZpYunMgRZ\n",
       "qKDw4FQQZYR2kEC0VqhulpR/+mPa+773jfPt7GwetujBm+9733u83/fe9973DcD/pPxf8bKnpBBI\n",
       "TwRPMeFlmdhKvFhQpgIMzZalRPNlUGPA+S5bu1YmeFW+WKhaDLKsSAF0RsHGKfI5HLRUmeBjAcKr\n",
       "9SDLxhxyHCZwOkH7VLNlgu8sFrTBVSFjhEqrqxzPAEwOwTxOkc07vb0XysQO2cWCYXwh2cBYodvV\n",
       "diG/zkMYw2W8kk7PbOn+TPCyyJg6JK0JYZ++RvIh9ulztUs47wGobiU+6u5rgH9vLiebYzwCyaE2\n",
       "JCk2CysDh8XMkZe5YEWVn1T02+eQ3omSVpbGHsziqNvE9WDxRJmUJjMCRoRNwpLDsKxwaTIK1VEq\n",
       "YRw6GMaMENjWtWWue0i1v5ssDSyEBWzFUIS4Bgy+1w+UJjUOoVU/+C1ZIcjqdMS2YVtUrDVsCg2J\n",
       "xAob50UjaTsoCgQ0EEhZJDacGr650WmursmBOuUH75YVOp109QKdWTA4fur4Fo+Rpi9Hlhi1+cMD\n",
       "t+wGfhq5NFd/jsHzjB88IitEiRwJp9yershK4FzQWVHzJX2O0xvR5pjkyu9e2qG7iS1XQgdX7x+7\n",
       "3wM+cMV2FWoa6RKvuzjLQz2ZOhI4F84jX6e1G+yzkPHa/CJ6MwXDIE/mCxjn6mGAx3kP/DaC2aG4\n",
       "rABIIrqZNRZFH/GmoV0KgdfCabLmN1iT1+ZKXd5rNahgx2FNJ8n4FCY4Wxh5So/LCoAD7RhLsm3d\n",
       "BQ/JbwgKWte3DDzbuEKFaXv3d9tGInGVZaYqSgwmA1Uz0MiziQeyP+YDD6VchZFEOsm23A7KV4Bd\n",
       "ZFErt2Ct7yZCb5b/4RbXq6C9WImONgDaOmjTvjNPWRgZKaxPSCMsPtz/Gn8cADaHAKEEjQjm9H4F\n",
       "tJZZZQ2Gl5PHsz7wGLwFScHea6slBWd/OXCi9JP6J2JHYdn+t953q7n0SDbSJOfCgSb/TBQIwVSZ\n",
       "IS6ggyXAP5ZwoufEpF9e7d8S/J7gAnJKgOtOiQj+1Z9lgeOnwTaj5UH8BkBp8HGzb7pvAAAAAElF\n",
       "TkSuQmCC\n",
       "\" style=\"display:inline;vertical-align:middle;\" /></a></span></td></tr>\n",
       "<tr><td>&nbsp;</td><td colspan=4 style-\"text-align:left\"><a class=\"ProveItLink\" href=\"../../_proofs_/notIffViaNotLeftImpl.ipynb\">proveit.logic.boolean.implication.notIffViaNotLeftImpl</a></td></tr><tr><td>2</td><td>assumption</td><td></td><td><span style=\"font-size:20px;\"><a class=\"ProveItLink\" href=\"../b9713b405570857a29694d61fe5e2536eab03fc30/expr.ipynb\"><img src=\"data:image/png;base64,iVBORw0KGgoAAAANSUhEUgAAAHUAAAAVBAMAAACK3rzVAAAAMFBMVEX////c3NxERESqqqpUVFS6\n",
       "urrMzMwyMjIQEBCIiIh2dnYiIiLu7u5mZmaYmJgAAABXZE4RAAAAAXRSTlMAQObYZgAAAbZJREFU\n",
       "OMtjYGDgu8dAMmBbJQCieHahiEYS1McXANLcDGJyfkAx0AFCbcCmyf+Li1MpA8M1EOc6iOBqQJZn\n",
       "PwChPmCzkUOBgeF+AAM7iL0CU+9MCPX6D0LoAJyVPwGIHRj4FmDX2wMmGW0/IoRq4Kz5wAB6v4CB\n",
       "pwGrXtYCMMXJ+RUhFgJnaQDxDqAzlLHq5V0ApmKY/yHEuCbAWF8YGMR1gPRamF7eAuSgegCOtgC2\n",
       "n2Cp3WDwFxYHX2bO3QdimAPxexAjIwCmCGgnRwDY5QyMf5EMZC6F0JzAQDgNisMIkC0XGBhS2pCj\n",
       "lh+sN8XF5RNyAB5vBVNMQN9xgjyTD+KpA50YkYChF0i0I6eXKkg08QMV8P2C6uUGhQxLAZJeDgOQ\n",
       "G0HBieTfTdAYzgfaxPIZ6mawf7k2IOllAoWVMBDXI3nXASl65UE2PceMI6DjuYAhwAOS1kekJnGk\n",
       "6GVrP4AcR6hpYwMDo8Z3AYZH/2vhYopQ+tJ/F5dycByWYk+TjZg5IAFdAEeaZHhFRMYHJzSwXj5s\n",
       "eRAvOA7Pvzw7kcUZHQjrdQRFCiS58C1GlpAkqJUzAVpeAQCj4XXVPjLA8gAAAABJRU5ErkJggg==\n",
       "\" style=\"display:inline;vertical-align:middle;\" /></a> <a class=\"ProveItLink\" href=\"../095ef9165a8cbbfe0c1f8f2f7054e7e65f4722ad0/proof.ipynb\" style=\"text-decoration: none\">&#x22A2;&nbsp;</a><a class=\"ProveItLink\" href=\"../645ce987d0174f228106544053fcde37e024fae30/expr.ipynb\"><img src=\"data:image/png;base64,iVBORw0KGgoAAAANSUhEUgAAAF8AAAAVBAMAAADSoS/MAAAAMFBMVEX////c3NxERESqqqqYmJgQ\n",
       "EBDu7u4yMjKIiIi6urpUVFTMzMx2dnYiIiJmZmYAAABjE816AAAAAXRSTlMAQObYZgAAAWhJREFU\n",
       "OMtjYCAfcDYQVOKJwtsFofZiU+n1f9Uq9QkMfBuQBcsgVD1Ws4MYGPh+MjAUIAlxQFzEcj8BLsQG\n",
       "Z3H/AOJfDAw+SBpYIQqF3wvAhdjhejk+Ao36w8CQiqRhOoRq6J+ACIYFMBZTAAMDbxiQNkBoeANR\n",
       "k2DvgBA7AWPwL2BgLALax/MAIVkCJjMZ9oP98vYuCNyHye9f0fEWZBBzAUTmDpAdCZaZwCCPZAiD\n",
       "OdR9/QIMbLdADghARMFPcGisWrVeAUkDWylEhypIE9AK7g9oGjiBoYUc1tuPQWhgiDL4H0DVEAxi\n",
       "AAOBNwDhh7tq0Gj4AiTWG6A6SQWIGYFi7B8QFlghRQPjd1C0Qq3nBuJzQJwOCvJvcPWMBUjRsBWU\n",
       "dJCDdS4Dg1B8IQOL/ne4IBM00vn0f61aDg529glISUMAI8VxY4ggJw2WA0TkmRNYkjc+wIYc5AxS\n",
       "hDVwoTibkXAW7WZgAAB3jV14rHTBjQAAAABJRU5ErkJggg==\n",
       "\" style=\"display:inline;vertical-align:middle;\" /></a></span></td></tr>\n",
       "</table>"
      ],
      "text/plain": [
       "<proveit._core_.proof._ShowProof at 0x7f94ebf9b3c8>"
      ]
     },
     "execution_count": 1,
     "metadata": {},
     "output_type": "execute_result"
    }
   ],
   "source": [
    "import proveit\n",
    "%show_proof"
   ]
  },
  {
   "cell_type": "code",
   "execution_count": null,
   "metadata": {},
   "outputs": [],
   "source": []
  }
 ],
 "metadata": {
  "kernelspec": {
   "display_name": "Python 3",
   "language": "python",
   "name": "python3"
  }
 },
 "nbformat": 4,
 "nbformat_minor": 0
}
