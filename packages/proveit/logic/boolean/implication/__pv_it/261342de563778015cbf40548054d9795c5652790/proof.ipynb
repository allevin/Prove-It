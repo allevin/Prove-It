{
 "cells": [
  {
   "cell_type": "markdown",
   "metadata": {},
   "source": [
    "Show the Proof\n",
    "========"
   ]
  },
  {
   "cell_type": "code",
   "execution_count": 1,
   "metadata": {},
   "outputs": [
    {
     "data": {
      "text/html": [
       "<table><tr><th>&nbsp;</th><th>step type</th><th>requirements</th><th>statement</th></tr>\n",
       "<tr><td>0</td><td>specialization</td><td>1, 2, 3</td><td><span style=\"font-size:20px;\"> <a class=\"ProveItLink\" href=\"proof.ipynb\" style=\"text-decoration: none\">&#x22A2;&nbsp;</a><a class=\"ProveItLink\" href=\"../76865972868ae2117b91baf7b7211dfd07f02eb10/expr.ipynb\"><img src=\"data:image/png;base64,iVBORw0KGgoAAAANSUhEUgAAAHoAAAAVBAMAAAB71edYAAAAMFBMVEX////c3NwiIiJERESqqqqY\n",
       "mJh2dnZmZmYQEBDu7u4yMjJUVFTMzMyIiIi6uroAAAAs73DqAAAAAXRSTlMAQObYZgAAAPBJREFU\n",
       "OMtjYKAM8F0gqCQOt9RpBoYiJRBQxiYrCyLYD+CSYVgJJo/jMBsivgCXDO8FTN0T0HWH4dLNMQFT\n",
       "90p03TNw6X7FgKn7NbpuZgccusuw6Ga7gKabrQCH7qUoutnBoa/0HU03CzjYqlaBwGpkmT4sdjOw\n",
       "rEPVzdeAw+5/2HQzzOpD0c3zgRTdPMsmEKe7BZu/lSdgczlqkgTLmGKxm2UDWqixLsBhdzoW3VIM\n",
       "xMbYIwj7GLKEIZQGOlUD7FSuB2haYTIcApjGYmSpGbgyKGsCEWVALk6ZlYQ1cy7AKSVNWDe3AE4p\n",
       "RsIl0x1cEgBJHknZQwu+sgAAAABJRU5ErkJggg==\n",
       "\" style=\"display:inline;vertical-align:middle;\" /></a></span></td></tr>\n",
       "<tr><td>&nbsp;</td><td colspan=4 style=\"text-align:left\"><span style=\"font-size:20px;\"><a class=\"ProveItLink\" href=\"../59054e3b170c2edab43c1eaadffb56823fb303bf0/expr.ipynb\"><img src=\"data:image/png;base64,iVBORw0KGgoAAAANSUhEUgAAAEkAAAAVBAMAAAD4Ed5jAAAAMFBMVEX////u7u5mZmaYmJi6urqq\n",
       "qqp2dnbMzMwQEBBEREQyMjLc3NwiIiJUVFSIiIgAAAAeC3ydAAAAAXRSTlMAQObYZgAAAR1JREFU\n",
       "KM9jYCAZsDzAJmoCJt/+v3v37AYQqxarXqYCMPWLgYGzG8RYiN2KBSCC/RsDAysQM/A9wK7KDETw\n",
       "fWFgYP4EZHAIYFclASI4PzAw8H4FMrxweIozAEjwA+2VnwBkqCEktr3d+ghuP5sCkKhPYGA/BOIt\n",
       "hitiTGA+zHEAxmMFOf/9tTQ1cEC0wFWxMfB9YC2AB2MDkJgPc/QXhFkMvBMQ1rMDHc7whwFDFdC/\n",
       "D1BVsX+C8VqRVO0vYBBAtpEPbsRkuBrmDe8Z+OCqmIGu5/wI4yXBVcUbzGDYx4AUEkLz/8Kc4AP0\n",
       "9EwgmMgg+UwszwDGYeByQA5jjg14YgjhmgTsqvJQudhTDuMCVP5erKp40RzCjTWBPWdgAADdXkSh\n",
       "Sa6TGQAAAABJRU5ErkJggg==\n",
       "\" style=\"display:inline;vertical-align:middle;\" /></a> : <a class=\"ProveItLink\" href=\"../129806c969e64f2476170f98bde992147dfa3d340/expr.ipynb\"><img src=\"data:image/png;base64,iVBORw0KGgoAAAANSUhEUgAAAJEAAAAVBAMAAAC01xHeAAAAMFBMVEX////c3NwiIiJERESqqqqY\n",
       "mJh2dnZmZmYQEBDu7u4yMjJUVFTMzMyIiIi6uroAAAAs73DqAAAAAXRSTlMAQObYZgAAASNJREFU\n",
       "OMtjYKAe4LtAimrWB7jlThNrCCPYyhqcMgwriTWJpwBEcuGU4cXvOU509awJuEzimIDXJK4JaOo5\n",
       "G3CZ9IpAfGxAU89ggsukMoSA2G2R6xh+zUU3KR2XSUsRQZLAqsqhgJAvUgIB/QI0k7xABPsqMNiA\n",
       "LNMH18nGwPuB5QCGhV4PUE16gctN/5CiidsAW+yteIBi0nnCJgHjEVuKOJXJQJxJLUgi8gcYJqCH\n",
       "k5IlAxbfsUPkDJBlTBFZSuA+Ay9G6vJGj7soXG5CRKp/gAWDLEaWWkB0KnjEwMBiDASWDJOvTcsN\n",
       "gHFggFkAQoO80wT2zjo0Y+AyHAL4sy1GVDbgLHASSCvO2HDn+JWkmTQLt5Q0aSZtJFQUEgt4D+CS\n",
       "AQAUjkbAlnR/6gAAAABJRU5ErkJggg==\n",
       "\" style=\"display:inline;vertical-align:middle;\" /></a>, <a class=\"ProveItLink\" href=\"../../../../../__pv_it/530be409e3083890784cf1d7b28c9e67e90af9360/expr.ipynb\"><img src=\"data:image/png;base64,iVBORw0KGgoAAAANSUhEUgAAAAsAAAAJBAMAAAAWSsseAAAAKlBMVEX///9ERETMzMwQEBAiIiKY\n",
       "mJju7u5mZmaqqqpUVFSIiIh2dnbc3NwAAAA/vyDhAAAAAXRSTlMAQObYZgAAAENJREFUCNdjYDi9\n",
       "8sTyBQxsG1hdmR0YuBm4LnAoMLAxcAowgADzAjB1VoEhgYH1wFoGrgSG3gBhhlMMDImrs3cFMAAA\n",
       "t0YN+iTRa+sAAAAASUVORK5CYII=\n",
       "\" style=\"display:inline;vertical-align:middle;\" /></a> : <a class=\"ProveItLink\" href=\"../../../negation/__pv_it/01165fd25131c0df966b8e8c1626e275fd04f3050/expr.ipynb\"><img src=\"data:image/png;base64,iVBORw0KGgoAAAANSUhEUgAAABwAAAAOBAMAAADOPWE3AAAAIVBMVEX///9EREQQEBCIiIjc3NxU\n",
       "VFTMzMx2dnYiIiJmZmYAAADo3DW1AAAAAXRSTlMAQObYZgAAACVJREFUCNdjYIADZwYUkEll7owO\n",
       "IGhHlU2lgMuGbhHQgqaOjkYA4xoNxELsxwMAAAAASUVORK5CYII=\n",
       "\" style=\"display:inline;vertical-align:middle;\" /></a></span></td></tr><tr><td>1</td><td>theorem</td><td></td><td><span style=\"font-size:20px;\"> <a class=\"ProveItLink\" href=\"../../../../equality/_proofs_/substituteInTrue.ipynb\" style=\"text-decoration: none\">&#x22A2;&nbsp;</a><a class=\"ProveItLink\" href=\"../3a696a27b1f070de66f16ee5991ade69f2b12ac30/expr.ipynb\"><img src=\"data:image/png;base64,iVBORw0KGgoAAAANSUhEUgAAAKMAAAAXBAMAAACVGeLQAAAAMFBMVEX///8QEBC6urrMzMxUVFRm\n",
       "ZmZERETc3NwyMjKqqqp2dnaIiIiYmJgiIiLu7u4AAAAU9Wx4AAAAAXRSTlMAQObYZgAAAlZJREFU\n",
       "OMutVb9rFFEQ/m737rK3t7dJJzZyRbBJs4KCCHJLElQQyYE/GhXOJldY3FZGFGH/ANEUplJwESSa\n",
       "YBBMoxaelrEwlYIobBqxEQRDlBTqzHu7d7ObiHpk4O2b9+1335t5M28P2HmLd0JkrOe9orHKzutB\n",
       "dKpT65MnjrJn+jj/ke0tSh7wkLEbA8U2HAIXAnIsleoBBRJ2iaah1kCSjQi4SwPP0Zdc0TuUZgeS\n",
       "fFEH3jTJ2SMk1wBnfmbm2mBF6dCYomiMUEiWCdiYnn7/l98Oefys5OEfgLtBcykSkjaFPQG0id85\n",
       "faot6HX1TNAramFGWUVzEzjMeVtdIVmhkEfhcuAvgUeCnxRMo8niXq6J1hfuz7NTqAtJYwSoocq7\n",
       "TNJRx1skFVp5rBefs5Lln2kzSUnzK23WrbHUB+DY1igVWg70ouhl23L1T5JuuJ889xucdzQvji97\n",
       "fUmNFujQl8cmUFXRpgw0molkYTaXONrj7G0unON6xUc0QUtq9CCwVGzthuFLhmpLfQKyPA4XZo4T\n",
       "sHVvGbguE9foKDUAV9UMJQOd9OjtZq6JUOB8ymkW36WkRm/xeQWJZMpwz/w6nvzE0Id6SD0tjt3h\n",
       "3YaTO2mOmEJSo3tp7IMHoyUZwnYJf63/CeCqXg4admgLSYXiC5XxASI4kWQIWxH+YurYN0+yQvfT\n",
       "07NLfUmNoha7F+eexSjVJUOY1W9oN8y96+b7Ul+T5FCsDEN+A/yeWwxytzbYVtJNFrczDGlXe96T\n",
       "3BsH20rijp78DOO/zc9spa6L/Y//fL8BkpCUKV3ASD0AAAAASUVORK5CYII=\n",
       "\" style=\"display:inline;vertical-align:middle;\" /></a></span></td></tr>\n",
       "<tr><td>&nbsp;</td><td colspan=4 style-\"text-align:left\"><a class=\"ProveItLink\" href=\"../../../../equality/_proofs_/substituteInTrue.ipynb\">proveit.logic.equality.substituteInTrue</a></td></tr><tr><td>2</td><td>specialization</td><td>4, 5</td><td><span style=\"font-size:20px;\"> <a class=\"ProveItLink\" href=\"../fc02e0b987f84a97663680c73c4990a3d7bb2eaf0/proof.ipynb\" style=\"text-decoration: none\">&#x22A2;&nbsp;</a><a class=\"ProveItLink\" href=\"../0daaf7da80ada2780feba17f4df6c1f0361b7c780/expr.ipynb\"><img src=\"data:image/png;base64,iVBORw0KGgoAAAANSUhEUgAAAJgAAAAVBAMAAABIwjoUAAAAMFBMVEX////c3NwiIiJERESqqqqY\n",
       "mJh2dnZmZmYQEBDu7u4yMjJUVFTMzMyIiIi6uroAAAAs73DqAAAAAXRSTlMAQObYZgAAAU5JREFU\n",
       "OMtjYKAq4LsAJN6ii8bh0YFH7jQQ82xAEpAFEewHsCrGLQeWYVgJxFwTkISPg8kFWA3DLQeW4QX5\n",
       "8i6mhjCEwAQ8cqgyHCClnZiGzUAIrMQjhyrzChQHCzANY3aAC7zGI4cqUwYK0QRMw9gK4AJsF3DL\n",
       "ocosBYV/AKZhLCDXsiuBwXdscgxVq0BgNbJMHyjcHjAwFIF0qSE08DUgjGdZh2oYshyKzD8g5n+A\n",
       "lOagGng+IKmc1YdiGIocqYbxLJtAnGEtIG86YBoG9go0zJQnYPNmEUQOWcYUFNUBmIaxIpILywa0\n",
       "CGBdgMNl6chRzYM1+qUYiE0aj0DOVoCLAd2uAXY71wO4mCEeOVQZDgEgpxHTJqQscwCPHCpgTcCe\n",
       "c3PxFGi45TCKIDDgXIDbLDxy0kDMuAFdlFsAt2F45BgvwMtJJHAHjy9xygEACY1kuHw7tjMAAAAA\n",
       "SUVORK5CYII=\n",
       "\" style=\"display:inline;vertical-align:middle;\" /></a></span></td></tr>\n",
       "<tr><td>&nbsp;</td><td colspan=4 style=\"text-align:left\"><span style=\"font-size:20px;\"><a class=\"ProveItLink\" href=\"../../../../../__pv_it/2cbe72a7ad6f655694dd697106680215e8489b600/expr.ipynb\"><img src=\"data:image/png;base64,iVBORw0KGgoAAAANSUhEUgAAAA8AAAAOBAMAAAACpFvcAAAALVBMVEX///8QEBBERERUVFS6urqI\n",
       "iIhmZmaqqqrc3Nzu7u6YmJgyMjIiIiLMzMwAAADtIaYWAAAAAXRSTlMAQObYZgAAAFtJREFUCNdj\n",
       "YACBOwxQsA9Kc52bAGG05zVAGAFxDmCaZULdAjBjCsO9ADDDgaEvAUTzGhvbKYCVMDAwbgAxChgY\n",
       "eASANAeQwf0AyJgNxEwvGRia5HYwcOm9TgAA6BoR3jrzwFcAAAAASUVORK5CYII=\n",
       "\" style=\"display:inline;vertical-align:middle;\" /></a> : <a class=\"ProveItLink\" href=\"../../../__pv_it/8f1f7fac882de28c72b62ab80a1700b6d8fd066b0/expr.ipynb\"><img src=\"data:image/png;base64,iVBORw0KGgoAAAANSUhEUgAAAA4AAAAOBAMAAADtZjDiAAAAG1BMVEX///9EREQQEBAiIiJmZmbM\n",
       "zMyIiIjc3NwAAACryk5kAAAAAXRSTlMAQObYZgAAABlJREFUCNdjYGBgKGOAgBBa0s7GxkbGxoYA\n",
       "FMUF2aBfHgoAAAAASUVORK5CYII=\n",
       "\" style=\"display:inline;vertical-align:middle;\" /></a></span></td></tr><tr><td>3</td><td>theorem</td><td></td><td><span style=\"font-size:20px;\"> <a class=\"ProveItLink\" href=\"../../../negation/_proofs_/notFalse.ipynb\" style=\"text-decoration: none\">&#x22A2;&nbsp;</a><a class=\"ProveItLink\" href=\"../../../negation/__pv_it/01165fd25131c0df966b8e8c1626e275fd04f3050/expr.ipynb\"><img src=\"data:image/png;base64,iVBORw0KGgoAAAANSUhEUgAAABwAAAAOBAMAAADOPWE3AAAAIVBMVEX///9EREQQEBCIiIjc3NxU\n",
       "VFTMzMx2dnYiIiJmZmYAAADo3DW1AAAAAXRSTlMAQObYZgAAACVJREFUCNdjYIADZwYUkEll7owO\n",
       "IGhHlU2lgMuGbhHQgqaOjkYA4xoNxELsxwMAAAAASUVORK5CYII=\n",
       "\" style=\"display:inline;vertical-align:middle;\" /></a></span></td></tr>\n",
       "<tr><td>&nbsp;</td><td colspan=4 style-\"text-align:left\"><a class=\"ProveItLink\" href=\"../../../negation/_proofs_/notFalse.ipynb\">proveit.logic.boolean.negation.notFalse</a></td></tr><tr><td>4</td><td>axiom</td><td></td><td><span style=\"font-size:20px;\"> <a class=\"ProveItLink\" href=\"../../_axioms_.ipynb#impliesFalseDef\" style=\"text-decoration: none\">&#x22A2;&nbsp;</a><a class=\"ProveItLink\" href=\"../0360c7ad947a096705c0fcf3db690f3dc937688f0/expr.ipynb\"><img src=\"data:image/png;base64,iVBORw0KGgoAAAANSUhEUgAAAOAAAAAVBAMAAACtXP94AAAAMFBMVEX///8QEBC6urrMzMxUVFRm\n",
       "ZmZERETc3NwyMjKqqqp2dnaIiIiYmJgiIiLu7u4AAAAU9Wx4AAAAAXRSTlMAQObYZgAAAnBJREFU\n",
       "SMe9Vc9rE0EUfukaE5PNtvTWQzGVHgQVcvAmkqCFHCtILuIvPGwRheYgrSJqCJRKkOql0Fv3EsWL\n",
       "7H/QvQgVL17agyguohKoiBQsHkR8MzubeTO7sxUPPvh2h/3mm2923psZgP8dYSY74ksoYVfNIjPH\n",
       "mDes8drU4ySBjNOI86n9C3xi6ZxQPWftFZPhCoGMx4hian/rHBg5oVpg87pq8Cv7EmRhPmAebC8t\n",
       "LZEh5RKqIr7yTwyGuVBCxp0rbQBnTF0Haki5hMp+trh4z7SiRwlk+BusKq7LD9OaIeWSqj3XfWsy\n",
       "vEAgKzdcD/DVl19KvmbYT6n3oeoswBz/tJzs9YhgGB+hzgzWWDv/nscPzTDiHvJo6KppcDo8qbsi\n",
       "ub3eUiD04xLR0KwaqvCADTtF5nCoqxpOJecuVRUo8/E//8LHTusi+N7OEdFrl4CPh9O1ZmZmWVXX\n",
       "6XCDccWwntwvUlUOKrwGX2xh+9r9b2hY+pphOIJF29EGtXrhPoZE5XT4MWL5LsBLXk7escui2wRB\n",
       "bIhbqDIWL5vI4XaYsqSCi/Y4Vc2dYV8OwCUAnky/NRnn8CaBMCygtPgd25skhQ2taDYTRx5VrfLj\n",
       "9BVsgOVFf5g/Jfr1CXjUYIDPg7/V0r8N+20LRZVj5epsteZDa9t1b7AclkS/EwRRLBxeBnv+J47b\n",
       "lcNF24qv4SRfw67mp6psloB8G+o1pxH94dAw15bQgh5ftQzOxBwHGA2gKZb0bnzgehJalHzzhWjm\n",
       "hsynPSjMvoMvVb7x3SD7eoqzYorB3zNPMYc0bhGo0cwwbP4DQ27wGOpNWTOLzBwyfwCulsldcIJz\n",
       "nAAAAABJRU5ErkJggg==\n",
       "\" style=\"display:inline;vertical-align:middle;\" /></a></span></td></tr>\n",
       "<tr><td>&nbsp;</td><td colspan=4 style-\"text-align:left\"><a class=\"ProveItLink\" href=\"../../_axioms_.ipynb#impliesFalseDef\">proveit.logic.boolean.implication.impliesFalseDef</a></td></tr><tr><td>5</td><td>theorem</td><td></td><td><span style=\"font-size:20px;\"> <a class=\"ProveItLink\" href=\"../../../_proofs_/falseInBool.ipynb\" style=\"text-decoration: none\">&#x22A2;&nbsp;</a><a class=\"ProveItLink\" href=\"../../../__pv_it/5ddcdc170ae135aa2397d35b7606cd81f952c91a0/expr.ipynb\"><img src=\"data:image/png;base64,iVBORw0KGgoAAAANSUhEUgAAADYAAAAPBAMAAABdHiGLAAAAMFBMVEX///92dnaqqqpUVFS6urqY\n",
       "mJgyMjLu7u5EREQQEBAiIiJmZmbMzMyIiIjc3NwAAABz/qQtAAAAAXRSTlMAQObYZgAAAJVJREFU\n",
       "GNNjYGBgeMuABhjz277NagIzT6PLMXCwXCgrFMApx+uQgCLHfm3VqgSoHFOAOYrcsXAkfX4NyHJ8\n",
       "7UhmnoooQJbjeICQW/V/Loo7K1DccgnFTM9VqxBuYWhwRJY7jKyPoYEDWa4KjxxzAIocipnsS5Dk\n",
       "WPc2MOxatWrlqlUrwELP9sDD+sdKI7RwVM6CuBMCADjtOPFI200aAAAAAElFTkSuQmCC\n",
       "\" style=\"display:inline;vertical-align:middle;\" /></a></span></td></tr>\n",
       "<tr><td>&nbsp;</td><td colspan=4 style-\"text-align:left\"><a class=\"ProveItLink\" href=\"../../../_proofs_/falseInBool.ipynb\">proveit.logic.boolean.falseInBool</a></td></tr></table>"
      ],
      "text/plain": [
       "<proveit._core_.proof._ShowProof at 0x7f950009d390>"
      ]
     },
     "execution_count": 1,
     "metadata": {},
     "output_type": "execute_result"
    }
   ],
   "source": [
    "import proveit\n",
    "%show_proof"
   ]
  },
  {
   "cell_type": "code",
   "execution_count": null,
   "metadata": {},
   "outputs": [],
   "source": []
  }
 ],
 "metadata": {
  "kernelspec": {
   "display_name": "Python 3",
   "language": "python",
   "name": "python3"
  }
 },
 "nbformat": 4,
 "nbformat_minor": 0
}
