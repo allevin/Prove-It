{
 "cells": [
  {
   "cell_type": "markdown",
   "metadata": {},
   "source": [
    "Expression of type <a class=\"ProveItLink\" href=\"../../../../../../../doc/html/api/proveit.ExprTuple.html\">ExprTuple</a>\n",
    "=======================\n",
    "# from context <a class=\"ProveItLink\" href=\"../../_context_.ipynb\">proveit.logic.boolean.implication</a>"
   ]
  },
  {
   "cell_type": "code",
   "execution_count": 1,
   "metadata": {},
   "outputs": [],
   "source": [
    "# import Expression classes needed to build the expression\n",
    "from proveit import ExprTuple\n",
    "from proveit._common_ import A, B\n",
    "from proveit.logic import Implies, Not"
   ]
  },
  {
   "cell_type": "code",
   "execution_count": 2,
   "metadata": {},
   "outputs": [
    {
     "data": {
      "text/html": [
       "<strong id=\"expr\">expr:</strong> <a class=\"ProveItLink\" href=\"expr.ipynb\"><img src=\"data:image/png;base64,iVBORw0KGgoAAAANSUhEUgAAAIkAAAAVBAMAAACArtDCAAAAMFBMVEX////c3NwiIiJERESqqqqY\n",
       "mJh2dnZmZmYQEBDu7u4yMjJUVFTMzMyIiIi6uroAAAAs73DqAAAAAXRSTlMAQObYZgAAAe9JREFU\n",
       "OMutlL9LAzEUx99pa6/1aju4iSAdRHBwKlQXuwm6FAUXQbsVh4I4OCu66CAdHQUR7WRnD7Gj6GD/\n",
       "AMXDTUFQRMUWq9/8uEuuBlx88G1eks990yTvjuh/oq8hFI5FI/tkwjh6JSVj4dt1JzyK1Q0mTi3U\n",
       "GyKOcbQq5ccmxttE+waXRCXUeyaBQcmGULDCF9QimldDcT+5DXnOfpLAILsi5EfyhSj6TrRn+Avb\n",
       "uok1BZJj0CMJ+dG9TtQFvDuvzl8eR19ol8lkmwQGrSFd0yZTNbIOsHjPihoriyZW1F0eIm8kMOgQ\n",
       "6aE2eX12u1pAG+ELr2ZYjAnHREHj4h47QY5Bu0ihGMex2F2a4qPs769rj0x77Nf2pO0wmyfrQ2IQ\n",
       "21xbq4cc2jss6jzrCx8zm5Qnu7zEXPeVBAZ1uuCSaanY4XK5TJ0uyHeUyxbSLeXisCM7z/s7EueS\n",
       "GefTdl65RNCMqB1lkWaVCysXq4k8ql3rjCyCgnLpR3MiMaiEtOTjdV4uF1UK3bQlDYMhh+JsaLIS\n",
       "3PQ9uvfBA7HJlnvKLz7hqUJMy6obCnxzzTTNfR8JDLKB2Onfb572Bjh+smHGoGhRqDPKhnd63oyV\n",
       "DV8GWSF/fxl8jKMDUuHoNWySrJoJ46jVEArHjfGLOWjCoB+SK4u9rQ9ODQAAAABJRU5ErkJggg==\n",
       "\" style=\"display:inline;vertical-align:middle;\" /></a><br>"
      ],
      "text/plain": [
       "expr: ([not](B) => [not](A))"
      ]
     },
     "execution_count": 2,
     "metadata": {},
     "output_type": "execute_result"
    }
   ],
   "source": [
    "# build up the expression from sub-expressions\n",
    "expr = ExprTuple(Implies(Not(B), Not(A)))"
   ]
  },
  {
   "cell_type": "code",
   "execution_count": 3,
   "metadata": {},
   "outputs": [
    {
     "name": "stdout",
     "output_type": "stream",
     "text": [
      "Passed sanity check: built 'expr' is the same as the stored Expression.\n"
     ]
    }
   ],
   "source": [
    "# check that the built expression is the same as the stored expression\n",
    "%check_expr"
   ]
  },
  {
   "cell_type": "code",
   "execution_count": 4,
   "metadata": {},
   "outputs": [
    {
     "data": {
      "text/html": [
       "<table><tr><th>&nbsp;</th><th>core type</th><th>sub-expressions</th><th>expression</th></tr>\n",
       "<tr><td>0</td><td>ExprTuple</td><td>1</td><td><a class=\"ProveItLink\" href=\"expr.ipynb\"><img src=\"data:image/png;base64,iVBORw0KGgoAAAANSUhEUgAAAIkAAAAVBAMAAACArtDCAAAAMFBMVEX////c3NwiIiJERESqqqqY\n",
       "mJh2dnZmZmYQEBDu7u4yMjJUVFTMzMyIiIi6uroAAAAs73DqAAAAAXRSTlMAQObYZgAAAe9JREFU\n",
       "OMutlL9LAzEUx99pa6/1aju4iSAdRHBwKlQXuwm6FAUXQbsVh4I4OCu66CAdHQUR7WRnD7Gj6GD/\n",
       "AMXDTUFQRMUWq9/8uEuuBlx88G1eks990yTvjuh/oq8hFI5FI/tkwjh6JSVj4dt1JzyK1Q0mTi3U\n",
       "GyKOcbQq5ccmxttE+waXRCXUeyaBQcmGULDCF9QimldDcT+5DXnOfpLAILsi5EfyhSj6TrRn+Avb\n",
       "uok1BZJj0CMJ+dG9TtQFvDuvzl8eR19ol8lkmwQGrSFd0yZTNbIOsHjPihoriyZW1F0eIm8kMOgQ\n",
       "6aE2eX12u1pAG+ELr2ZYjAnHREHj4h47QY5Bu0ihGMex2F2a4qPs769rj0x77Nf2pO0wmyfrQ2IQ\n",
       "21xbq4cc2jss6jzrCx8zm5Qnu7zEXPeVBAZ1uuCSaanY4XK5TJ0uyHeUyxbSLeXisCM7z/s7EueS\n",
       "GefTdl65RNCMqB1lkWaVCysXq4k8ql3rjCyCgnLpR3MiMaiEtOTjdV4uF1UK3bQlDYMhh+JsaLIS\n",
       "3PQ9uvfBA7HJlnvKLz7hqUJMy6obCnxzzTTNfR8JDLKB2Onfb572Bjh+smHGoGhRqDPKhnd63oyV\n",
       "DV8GWSF/fxl8jKMDUuHoNWySrJoJ46jVEArHjfGLOWjCoB+SK4u9rQ9ODQAAAABJRU5ErkJggg==\n",
       "\" style=\"display:inline;vertical-align:middle;\" /></a></td></tr>\n",
       "<tr><td>1</td><td>Operation</td><td>operator:&nbsp;2<br>operands:&nbsp;3<br></td><td><a class=\"ProveItLink\" href=\"../1cb7d4d9e535dffc8c0d1a976e26c491544c5f510/expr.ipynb\"><img src=\"data:image/png;base64,iVBORw0KGgoAAAANSUhEUgAAAHkAAAAVBAMAAACQ4lxbAAAAMFBMVEX////c3NwiIiJERESqqqqY\n",
       "mJh2dnZmZmYQEBDu7u4yMjJUVFTMzMyIiIi6uroAAAAs73DqAAAAAXRSTlMAQObYZgAAAb5JREFU\n",
       "OMullL9Lw0AUx9/Z1iY1aTO4iVA6iODgJFQXuwm6FIUugnYTh4J0cK7oooM4Ogoi2snOBrGj2EH/\n",
       "AEuDm4JQERVbbL0fSe6lOXAw0L67bz7fdz/eXQD+9yQfBpU1JfeqxBqyv9q37TkH4nWF2agFemkQ\n",
       "WBWJu1TrAZwo3ImjQK8NHDPRxI0f+usCFKSke41mINfyN3BMQznNN4DYJ8CxYsh9bCYLlGTYCxIj\n",
       "FYAhikVyck/d5SYDqzHNHnBsG4mpGpBTOtjwltRKIsSL2P0c/QCOnSHx/rpZztMY5QOVM+yZFpkS\n",
       "ecTpDtshhh3SvByjyVsW6FNsmhWELjrsX3PcdBPsPZAvgfVQPbM0tuggRhsPdMHsKcftsuPRsO13\n",
       "4Bh202LBenHAfbcJg27aPhDuPek22Fbc5LyZi3VnZvlrLSfdURomxcxnpJuVm3RoO4bKs+QWMy/d\n",
       "ozRcCmzDw+q83LdVCFSMuIl8yQCdSfOisE8+GJ/v2le8gAlHHiDLPS1pP1+2Y8FK/5xjmhW+Eeik\n",
       "Gl5jR4nFimG5pLhjBTVWDan63zfUx8ZC4IhiMUBqSoyEvkyPyi/TuAL7BdKec4W7hfHjAAAAAElF\n",
       "TkSuQmCC\n",
       "\" style=\"display:inline;vertical-align:middle;\" /></a></td></tr>\n",
       "<tr><td>2</td><td>Literal</td><td></td><td><a class=\"ProveItLink\" href=\"../e5c030cabcb650938f92dee8256fe11cd12bf9b30/expr.ipynb\"><img src=\"data:image/png;base64,iVBORw0KGgoAAAANSUhEUgAAABMAAAANBAMAAAC5okgUAAAALVBMVEX////c3NxERETMzMwQEBCq\n",
       "qqoiIiJmZmaIiIh2dnZUVFS6uroyMjLu7u4AAACPpZJTAAAAAXRSTlMAQObYZgAAAD1JREFUCNdj\n",
       "YAABXgY44LkAZ3IvQAjPABFlaSCQV4AQjtkAZ/IegbNt5sLUpunC5aPgLMYDcCaTAJzJDCIA2yMN\n",
       "HCCUuIIAAAAASUVORK5CYII=\n",
       "\" style=\"display:inline;vertical-align:middle;\" /></a></td></tr>\n",
       "<tr><td>3</td><td>ExprTuple</td><td>4, 5</td><td><a class=\"ProveItLink\" href=\"../860c09b40da9c65adf3efd8e19c2e8357497328d0/expr.ipynb\"><img src=\"data:image/png;base64,iVBORw0KGgoAAAANSUhEUgAAAFIAAAAVBAMAAAAnX6R8AAAAMFBMVEX////c3NwiIiJERESqqqqY\n",
       "mJh2dnZmZmYQEBDu7u4yMjJUVFTMzMyIiIi6uroAAAAs73DqAAAAAXRSTlMAQObYZgAAAU5JREFU\n",
       "KM9jYCAe8F0gQhHrAyBxGsGP/r97t9UDDGWHgLgGiFciiTUzMLD/w1C5Hoi5GBh4kSzn+QvEvzFs\n",
       "1p8AJBIYOCYgxHg/AoW+oasUqRdgYOBsYHiFJMbcwMDA1Imu8sJ9kNNNGMqQxPg3MDAunoAeNhP8\n",
       "A4BUOsNSJMHze+8WBaAbOY/hPMgrXgx9QO8qgUACA8N9AQZObYg8XIzhAYN8AZB6wQALFJ4NDAwW\n",
       "QPo+kqEgMZ7du/cbgOxDUQkKoPgEVJV8DAwcC8AqWxCiPF+B9H4HVJVALlMD2HZThCgoOBl/AcMO\n",
       "SSUjUCXXByA7Cuh7KDgADs4TwMidr4AQmwUK5p/gUHoEt4vd/vfuXaBAm/ERLibcv5CB1f4X0PPr\n",
       "GDgEMNPYQ0whYGyyJmAKB2AKsV1ATXW4VYLcK40hyosl0W8EYkZicgfvAQYAJP9WjE9idX0AAAAA\n",
       "SUVORK5CYII=\n",
       "\" style=\"display:inline;vertical-align:middle;\" /></a></td></tr>\n",
       "<tr><td>4</td><td>Operation</td><td>operator:&nbsp;7<br>operand:&nbsp;6<br></td><td><a class=\"ProveItLink\" href=\"../1da4e2fe7c44632f084fa27ea32e26dc689384c20/expr.ipynb\"><img src=\"data:image/png;base64,iVBORw0KGgoAAAANSUhEUgAAAB0AAAAOBAMAAAAh/woJAAAAMFBMVEX///+qqqru7u7c3NyIiIgQ\n",
       "EBC6uroyMjJERESYmJhUVFTMzMx2dnYiIiJmZmYAAADtoHoAAAAAAXRSTlMAQObYZgAAAHpJREFU\n",
       "CNdjYIACzvW/Vq0oY0AA1gYGhvcJCP5+ByBegOD7GzAwzD+A4LcC8VUFBP8XA4N5E4LL/cvF7yaQ\n",
       "fnsXCO4wMLB8ZmDQhRm3i4GBIwAo9hPB5wfKcf5B8PdPYGDg+ojgg6y3L4AZDraeOxxh/Yv/q1aV\n",
       "A7UAAFRxJOZ+1MVPAAAAAElFTkSuQmCC\n",
       "\" style=\"display:inline;vertical-align:middle;\" /></a></td></tr>\n",
       "<tr><td>5</td><td>Operation</td><td>operator:&nbsp;7<br>operand:&nbsp;8<br></td><td><a class=\"ProveItLink\" href=\"../feaa1d0e6d92ad9ead8e5ffd1f92697e3912387a0/expr.ipynb\"><img src=\"data:image/png;base64,iVBORw0KGgoAAAANSUhEUgAAABwAAAAOBAMAAADOPWE3AAAAMFBMVEX///8QEBBERES6urqIiIiq\n",
       "qqrc3Nzu7u6YmJgyMjJUVFTMzMx2dnYiIiJmZmYAAADMbjvTAAAAAXRSTlMAQObYZgAAAGNJREFU\n",
       "CNdjYEAA7gsMyIDzAwq39zsyjy3uGzKXheUzMtec9QcSj92A+wsDw9u7QHAHyGVmYPsHldkFwqtW\n",
       "fULiGjAwSCK4rEDqIoKbCqTmw1zLwD4BSOkXwFyk+DOBoen/PABSrhtHsYt+gAAAAABJRU5ErkJg\n",
       "gg==\n",
       "\" style=\"display:inline;vertical-align:middle;\" /></a></td></tr>\n",
       "<tr><td>6</td><td>Variable</td><td></td><td><a class=\"ProveItLink\" href=\"../../../../../__pv_it/077b2ff79244fb4582cbe22c6e3356fa92a52f2f0/expr.ipynb\"><img src=\"data:image/png;base64,iVBORw0KGgoAAAANSUhEUgAAABAAAAAOBAMAAADUAYG5AAAAMFBMVEX///+qqqru7u4iIiJ2dnbc\n",
       "3NyIiIjMzMxmZmYQEBC6uroyMjJERERUVFSYmJgAAADLUcuvAAAAAXRSTlMAQObYZgAAAGpJREFU\n",
       "CNdjYGB4+//u3dMLGIBgDgMDxy8gzf4NiP8CGWxfGRj4vgAZPBMYGJgnARn8FxhY9ygAGfXX0pof\n",
       "gDTlBzAw2YIYJ0EckBBI53sHoBH/gIz7AhBjWH9DjancBLTl/N+7t/cxMAAA3u4f/5xagjYAAAAA\n",
       "SUVORK5CYII=\n",
       "\" style=\"display:inline;vertical-align:middle;\" /></a></td></tr>\n",
       "<tr><td>7</td><td>Literal</td><td></td><td><a class=\"ProveItLink\" href=\"../../../negation/__pv_it/7bea79645543c2413aa17e787cca04e21046fde60/expr.ipynb\"><img src=\"data:image/png;base64,iVBORw0KGgoAAAANSUhEUgAAAAwAAAAGBAMAAAAFwGKyAAAAFVBMVEX///9UVFTMzMx2dnYiIiJm\n",
       "ZmYAAACWz4ZEAAAAAXRSTlMAQObYZgAAABRJREFUCNdjCHEBAmcGMFDEQzEBAEl+Ai6uYJv/AAAA\n",
       "AElFTkSuQmCC\n",
       "\" style=\"display:inline;vertical-align:middle;\" /></a></td></tr>\n",
       "<tr><td>8</td><td>Variable</td><td></td><td><a class=\"ProveItLink\" href=\"../../../../../__pv_it/2cbe72a7ad6f655694dd697106680215e8489b600/expr.ipynb\"><img src=\"data:image/png;base64,iVBORw0KGgoAAAANSUhEUgAAAA8AAAAOBAMAAAACpFvcAAAALVBMVEX///8QEBBERERUVFS6urqI\n",
       "iIhmZmaqqqrc3Nzu7u6YmJgyMjIiIiLMzMwAAADtIaYWAAAAAXRSTlMAQObYZgAAAFtJREFUCNdj\n",
       "YACBOwxQsA9Kc52bAGG05zVAGAFxDmCaZULdAjBjCsO9ADDDgaEvAUTzGhvbKYCVMDAwbgAxChgY\n",
       "eASANAeQwf0AyJgNxEwvGRia5HYwcOm9TgAA6BoR3jrzwFcAAAAASUVORK5CYII=\n",
       "\" style=\"display:inline;vertical-align:middle;\" /></a></td></tr>\n",
       "</table>\n"
      ],
      "text/plain": [
       "0. ([not](B) => [not](A))\n",
       "   core type: ExprTuple\n",
       "   sub-expressions: 1\n",
       "1. [not](B) => [not](A)\n",
       "   core type: Operation\n",
       "   operator: 2\n",
       "   operands: 3\n",
       "2. =>\n",
       "   core type: Literal\n",
       "   sub-expressions: \n",
       "3. ([not](B) , [not](A))\n",
       "   core type: ExprTuple\n",
       "   sub-expressions: 4, 5\n",
       "4. [not](B)\n",
       "   core type: Operation\n",
       "   operator: 7\n",
       "   operand: 6\n",
       "5. [not](A)\n",
       "   core type: Operation\n",
       "   operator: 7\n",
       "   operand: 8\n",
       "6. B\n",
       "   core type: Variable\n",
       "   sub-expressions: \n",
       "7. not\n",
       "   core type: Literal\n",
       "   sub-expressions: \n",
       "8. A\n",
       "   core type: Variable\n",
       "   sub-expressions: "
      ]
     },
     "execution_count": 4,
     "metadata": {},
     "output_type": "execute_result"
    }
   ],
   "source": [
    "# display the expression information\n",
    "expr.exprInfo()"
   ]
  },
  {
   "cell_type": "code",
   "execution_count": null,
   "metadata": {},
   "outputs": [],
   "source": []
  }
 ],
 "metadata": {
  "kernelspec": {
   "display_name": "Python 3",
   "language": "python",
   "name": "python3"
  }
 },
 "nbformat": 4,
 "nbformat_minor": 0
}
