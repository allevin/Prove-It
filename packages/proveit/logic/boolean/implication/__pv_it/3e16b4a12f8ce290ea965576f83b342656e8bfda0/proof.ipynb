{
 "cells": [
  {
   "cell_type": "markdown",
   "metadata": {},
   "source": [
    "Show the Proof\n",
    "========"
   ]
  },
  {
   "cell_type": "code",
   "execution_count": 1,
   "metadata": {},
   "outputs": [
    {
     "data": {
      "text/html": [
       "<table><tr><th>&nbsp;</th><th>step type</th><th>requirements</th><th>statement</th></tr>\n",
       "<tr><td>0</td><td>specialization</td><td>1, 2</td><td><span style=\"font-size:20px;\"><a class=\"ProveItLink\" href=\"../ea43d3049d30f51dc709dd6c7b1435e552ef8f030/expr.ipynb\"><img src=\"data:image/png;base64,iVBORw0KGgoAAAANSUhEUgAAAHUAAAAVBAMAAACK3rzVAAAAMFBMVEX////c3NxERESqqqpUVFS6\n",
       "urrMzMwyMjIQEBCIiIh2dnYiIiLu7u5mZmaYmJgAAABXZE4RAAAAAXRSTlMAQObYZgAAAbZJREFU\n",
       "OMtjYGDgu8dAMmBbJQCieHahiEYS1McXANLcDGJyfkAx0AEo6f/FxakUu8ZsIL4GYlwHEVwNyHLs\n",
       "B4AEhwIDw/0ArHrrQWpAjBWYemeCiPwJQOwAFzuA5N79QA7fAux6e0DEfGBAvF8AF6tBSAvfB0rx\n",
       "NGDVy1oAIjWAeAfCthCE/IT5IK8oY9XLC7btCwODuA5CkGsC3OgD9g+A1FqYXt4C5KACSbF9mTl3\n",
       "H8So3WDwFyZ9FBwUDOZA/B7EzwiAqQHayQFyEudHBobTDkgmMsMiLIBB/gKQigDZAmSktCFHLT9I\n",
       "LxPQF5z/kEPweCtEhYuLvwIoHkAcdaATIxLQ9fKD0scv5ARTBQk4VqDDCqB6uUEhw1KApJfDACQF\n",
       "NJHlM5J/N0HDHCjJ3QB1M9i/XBuQ9DI9gEavPFIIMkP9zgjUyw5Kwc8x4wjoeK4LkOhla0dKTOIw\n",
       "X4PC4g9yHKGmDaAjLv13cSl/gCSoCKGE+gsZ+PS/A00vxZ4mG7Gk/wQ0Po40yfCKiIwPTmdgvXyY\n",
       "eZAAOA7Pvzw7kcUZHQjrdQRFCiS18C1GlpAkqJUzAVpeAQBFpHVsul/sRwAAAABJRU5ErkJggg==\n",
       "\" style=\"display:inline;vertical-align:middle;\" /></a> <a class=\"ProveItLink\" href=\"proof.ipynb\" style=\"text-decoration: none\">&#x22A2;&nbsp;</a><a class=\"ProveItLink\" href=\"../48bda0a4ca92dc8bbf3ec9809bdb1d7b90d71c610/expr.ipynb\"><img src=\"data:image/png;base64,iVBORw0KGgoAAAANSUhEUgAAAEAAAAAPBAMAAACmSdRUAAAAMFBMVEX///92dnYQEBBERERUVFS6\n",
       "urqIiIhmZmaqqqrc3Nzu7u6YmJgyMjIiIiLMzMwAAACFkkdwAAAAAXRSTlMAQObYZgAAAOhJREFU\n",
       "GNNjYACBtwxYwJb/Li42ARD2eWwKGJQZGNi/glnc9xcghOFMvm9A/AXMnFE/AaHgFIzB9hOo9SOY\n",
       "mZAfgFAQAmMwKzAw8GqBWKwL+jcgFDAmQBn8Dgych8EWLmV4DxZkvwsG36EK3rul1UI0BjDML0By\n",
       "PMdRCJ0/gYHrCti1Li7+BsjeW6MKpoxAikBGsDIwMB1Akuc7CPEpyIf7BYBEA9CxCkhuuAyR5/sN\n",
       "JPyBkpxAzPMByQkOiGDg/AOyEeTlXwgFc5CC4REw1Cbrn2Tgtv+D8IYlhGK3/+LicxpbFD1A5QIA\n",
       "YgVCLvPPxacAAAAASUVORK5CYII=\n",
       "\" style=\"display:inline;vertical-align:middle;\" /></a></span></td></tr>\n",
       "<tr><td>&nbsp;</td><td colspan=4 style=\"text-align:left\"><span style=\"font-size:20px;\"><a class=\"ProveItLink\" href=\"../../../../../__pv_it/2cbe72a7ad6f655694dd697106680215e8489b600/expr.ipynb\"><img src=\"data:image/png;base64,iVBORw0KGgoAAAANSUhEUgAAAA8AAAAOBAMAAAACpFvcAAAALVBMVEX///8QEBBERERUVFS6urqI\n",
       "iIhmZmaqqqrc3Nzu7u6YmJgyMjIiIiLMzMwAAADtIaYWAAAAAXRSTlMAQObYZgAAAFtJREFUCNdj\n",
       "YACBOwxQsA9Kc52bAGG05zVAGAFxDmCaZULdAjBjCsO9ADDDgaEvAUTzGhvbKYCVMDAwbgAxChgY\n",
       "eASANAeQwf0AyJgNxEwvGRia5HYwcOm9TgAA6BoR3jrzwFcAAAAASUVORK5CYII=\n",
       "\" style=\"display:inline;vertical-align:middle;\" /></a> : <a class=\"ProveItLink\" href=\"../../../../../__pv_it/077b2ff79244fb4582cbe22c6e3356fa92a52f2f0/expr.ipynb\"><img src=\"data:image/png;base64,iVBORw0KGgoAAAANSUhEUgAAABAAAAAOBAMAAADUAYG5AAAAMFBMVEX///+qqqru7u4iIiJ2dnbc\n",
       "3NyIiIjMzMxmZmYQEBC6uroyMjJERERUVFSYmJgAAADLUcuvAAAAAXRSTlMAQObYZgAAAGpJREFU\n",
       "CNdjYGB4+//u3dMLGIBgDgMDxy8gzf4NiP8CGWxfGRj4vgAZPBMYGJgnARn8FxhY9ygAGfXX0pof\n",
       "gDTlBzAw2YIYJ0EckBBI53sHoBH/gIz7AhBjWH9DjancBLTl/N+7t/cxMAAA3u4f/5xagjYAAAAA\n",
       "SUVORK5CYII=\n",
       "\" style=\"display:inline;vertical-align:middle;\" /></a>, <a class=\"ProveItLink\" href=\"../../../../../__pv_it/077b2ff79244fb4582cbe22c6e3356fa92a52f2f0/expr.ipynb\"><img src=\"data:image/png;base64,iVBORw0KGgoAAAANSUhEUgAAABAAAAAOBAMAAADUAYG5AAAAMFBMVEX///+qqqru7u4iIiJ2dnbc\n",
       "3NyIiIjMzMxmZmYQEBC6uroyMjJERERUVFSYmJgAAADLUcuvAAAAAXRSTlMAQObYZgAAAGpJREFU\n",
       "CNdjYGB4+//u3dMLGIBgDgMDxy8gzf4NiP8CGWxfGRj4vgAZPBMYGJgnARn8FxhY9ygAGfXX0pof\n",
       "gDTlBzAw2YIYJ0EckBBI53sHoBH/gIz7AhBjWH9DjancBLTl/N+7t/cxMAAA3u4f/5xagjYAAAAA\n",
       "SUVORK5CYII=\n",
       "\" style=\"display:inline;vertical-align:middle;\" /></a> : <a class=\"ProveItLink\" href=\"../../../../../__pv_it/2cbe72a7ad6f655694dd697106680215e8489b600/expr.ipynb\"><img src=\"data:image/png;base64,iVBORw0KGgoAAAANSUhEUgAAAA8AAAAOBAMAAAACpFvcAAAALVBMVEX///8QEBBERERUVFS6urqI\n",
       "iIhmZmaqqqrc3Nzu7u6YmJgyMjIiIiLMzMwAAADtIaYWAAAAAXRSTlMAQObYZgAAAFtJREFUCNdj\n",
       "YACBOwxQsA9Kc52bAGG05zVAGAFxDmCaZULdAjBjCsO9ADDDgaEvAUTzGhvbKYCVMDAwbgAxChgY\n",
       "eASANAeQwf0AyJgNxEwvGRia5HYwcOm9TgAA6BoR3jrzwFcAAAAASUVORK5CYII=\n",
       "\" style=\"display:inline;vertical-align:middle;\" /></a></span></td></tr><tr><td>1</td><td>theorem</td><td></td><td><span style=\"font-size:20px;\"> <a class=\"ProveItLink\" href=\"../../_proofs_/negatedReflex.ipynb\" style=\"text-decoration: none\">&#x22A2;&nbsp;</a><a class=\"ProveItLink\" href=\"../09ba5ac32acc34f55c0fa248e2ddfca3f733fc910/expr.ipynb\"><img src=\"data:image/png;base64,iVBORw0KGgoAAAANSUhEUgAAANoAAAAXBAMAAACfRUyCAAAAMFBMVEX///8QEBC6urrMzMxUVFRm\n",
       "ZmZERETc3NwyMjKqqqp2dnaIiIiYmJgiIiLu7u4AAAAU9Wx4AAAAAXRSTlMAQObYZgAAAzhJREFU\n",
       "SMe9Vk1ME1EQ/mhpl7bbpYkHPSkmxosm9GAi0Zg2WtEbRCmeDDWGohdoogGNQaqX6kV6UIPxIBcV\n",
       "Y0JqIgfTAzVeEA/ggYuCNEYMMUGJ/IlWdObtbndZ21RT4kve2+mb2fnmfTPztsB/HdkN8rOrpIVc\n",
       "A4yz8KpsMHuQ3DUshuqvFtYfoHkceMTyjbLRqpijigjQUlNQ38s2QCc9pEjZaGleAimaQX1LMbM4\n",
       "TdHI/SIoR7JstK28DMeAsf51x9XGxRZSKT7ID7u6ussGs8V5PUXzdR7DFjT0qWEm+CywHI2+Kent\n",
       "XOHtPCcOcaJF4EK7oX1sBJO9l6HHfeAQ0Ca2EmK9vRSu9wsLk1dJOKuKGTuujnDTaezLs8bO7Ivp\n",
       "oUnx8+QUj+lGXf1epBR9wA4oggb5q5pPHzw+FpwmNFUeM5fbc+AJ3PpOBQueFWDORB/6dHUNehh5\n",
       "O+CFhwPDTE7lJAjbihXtrqixloxpqwmojalx0qhmv06K0pMz2ShXVDh7KNTAZR8gfcYrEjs4ITTe\n",
       "FBzjVjRBtXtOZeaOWN8SXyINBlo1d/h302t1g1ra6PBxFU2J7xH4qajQfPFjJGZFE9Tud6pt6WS1\n",
       "sgA5obUZM8n1EqCzV64aeZtqN4rJ61OZRNtB3qnkUGnUpp+2w4JmF4QF6czN0Wj0zCYO90e6PstJ\n",
       "1xKb0dqtJ268dlOvMUKrmidhhOYtQdxLDAvVABVA1kB7QO7jonPkpGdeK3e68NxxyNTRdZpDd6Pa\n",
       "bvYtRktLOvAse1tTOwAVXJzKRLhDGLYSmcn1Z4u4GG0u3LymHbU1BmcjlFUDzUYRN/8Kha6ZCsmp\n",
       "NUzntgTkjm8UD9/YMqM4YgiINiMXtX4Lmo0TdgL2BQyFaRzmikjCtgDs1G02F/gsWDcUny7tJgcZ\n",
       "KQFpDdKEJW8RhSK3UdQ5fKbxibnoyaKboh3VbUb/4npzpzThwzKkhkl7DgNL4aNJC5of76BQw5z/\n",
       "KXjiEnb3hpuu0/NYoSu42Ji1fl7/uD/U8cxsdNkk5ytQCpZGO2L5vbcI2sci77tSefFSSTCP37KR\n",
       "KYLmyhR2ULlhf4/WeXpR2GbwH33+BvwYy18VzUzqAAAAAElFTkSuQmCC\n",
       "\" style=\"display:inline;vertical-align:middle;\" /></a></span></td></tr>\n",
       "<tr><td>&nbsp;</td><td colspan=4 style-\"text-align:left\"><a class=\"ProveItLink\" href=\"../../_proofs_/negatedReflex.ipynb\">proveit.logic.boolean.implication.negatedReflex</a></td></tr><tr><td>2</td><td>assumption</td><td></td><td><span style=\"font-size:20px;\"><a class=\"ProveItLink\" href=\"../ea43d3049d30f51dc709dd6c7b1435e552ef8f030/expr.ipynb\"><img src=\"data:image/png;base64,iVBORw0KGgoAAAANSUhEUgAAAHUAAAAVBAMAAACK3rzVAAAAMFBMVEX////c3NxERESqqqpUVFS6\n",
       "urrMzMwyMjIQEBCIiIh2dnYiIiLu7u5mZmaYmJgAAABXZE4RAAAAAXRSTlMAQObYZgAAAbZJREFU\n",
       "OMtjYGDgu8dAMmBbJQCieHahiEYS1McXANLcDGJyfkAx0AEo6f/FxakUu8ZsIL4GYlwHEVwNyHLs\n",
       "B4AEhwIDw/0ArHrrQWpAjBWYemeCiPwJQOwAFzuA5N79QA7fAux6e0DEfGBAvF8AF6tBSAvfB0rx\n",
       "NGDVy1oAIjWAeAfCthCE/IT5IK8oY9XLC7btCwODuA5CkGsC3OgD9g+A1FqYXt4C5KACSbF9mTl3\n",
       "H8So3WDwFyZ9FBwUDOZA/B7EzwiAqQHayQFyEudHBobTDkgmMsMiLIBB/gKQigDZAmSktCFHLT9I\n",
       "LxPQF5z/kEPweCtEhYuLvwIoHkAcdaATIxLQ9fKD0scv5ARTBQk4VqDDCqB6uUEhw1KApJfDACQF\n",
       "NJHlM5J/N0HDHCjJ3QB1M9i/XBuQ9DI9gEavPFIIMkP9zgjUyw5Kwc8x4wjoeK4LkOhla0dKTOIw\n",
       "X4PC4g9yHKGmDaAjLv13cSl/gCSoCKGE+gsZ+PS/A00vxZ4mG7Gk/wQ0Po40yfCKiIwPTmdgvXyY\n",
       "eZAAOA7Pvzw7kcUZHQjrdQRFCiS18C1GlpAkqJUzAVpeAQBFpHVsul/sRwAAAABJRU5ErkJggg==\n",
       "\" style=\"display:inline;vertical-align:middle;\" /></a> <a class=\"ProveItLink\" href=\"../8efca6313a3f8e46cb40c92ad21ea5c02f15c6c20/proof.ipynb\" style=\"text-decoration: none\">&#x22A2;&nbsp;</a><a class=\"ProveItLink\" href=\"../779ff1c58fe0aee92ef3c1921919f710e7728f770/expr.ipynb\"><img src=\"data:image/png;base64,iVBORw0KGgoAAAANSUhEUgAAAF8AAAAVBAMAAADSoS/MAAAAMFBMVEX////c3NxERESqqqqYmJgQ\n",
       "EBDu7u4yMjKIiIi6urpUVFTMzMx2dnYiIiJmZmYAAABjE816AAAAAXRSTlMAQObYZgAAAWJJREFU\n",
       "OMtjYCAfcDYQVOKJwtsFxF7/V61Sn4BVMfcFBga+DcgiZSAiCCj6E6sG9g9AogBJgAPkIu4fQPwL\n",
       "LsaGJO/7DUj4IAmwJoB0fWRgYPmDMDUBzmS0A0oxpCJpmA4imAIYGHjDEOGwAOEADpBLmQwQGt6A\n",
       "CP4FDIxFCGMZTsBZ05i/AEmeBwi5EhCxf0XHWwcw9+1dELgPU8A2AeQ9BuYCiMQdIDsSJN4vwMB2\n",
       "CzlszKFhzMnA+A9EBSCiAByYqiBNDkga2EohOnatWvUJFIof0DSAQtT/AJKG7ccgNFBbOJqGYBAf\n",
       "5LH1Bgg/3FWDKGAG4qtoTlKBRgPjdyQLrKC0MBDXAzELNKq5gfgcNBq2liHUM0Ll2UC0fgJqsM4F\n",
       "piL9X6uWlyBZwCQA0af6XYDB6X8dMOqREiarAJYUii6AnDRYDhCRZ05gJG/8gA05eTNIEdbAheJs\n",
       "RsJZtJuBAQDNwl47SVjYZQAAAABJRU5ErkJggg==\n",
       "\" style=\"display:inline;vertical-align:middle;\" /></a></span></td></tr>\n",
       "</table>"
      ],
      "text/plain": [
       "<proveit._core_.proof._ShowProof at 0x7f94ead71ba8>"
      ]
     },
     "execution_count": 1,
     "metadata": {},
     "output_type": "execute_result"
    }
   ],
   "source": [
    "import proveit\n",
    "%show_proof"
   ]
  },
  {
   "cell_type": "code",
   "execution_count": null,
   "metadata": {},
   "outputs": [],
   "source": []
  }
 ],
 "metadata": {
  "kernelspec": {
   "display_name": "Python 3",
   "language": "python",
   "name": "python3"
  }
 },
 "nbformat": 4,
 "nbformat_minor": 0
}
