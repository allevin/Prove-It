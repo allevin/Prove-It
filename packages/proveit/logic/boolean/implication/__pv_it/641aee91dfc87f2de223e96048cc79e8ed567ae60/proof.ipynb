{
 "cells": [
  {
   "cell_type": "markdown",
   "metadata": {},
   "source": [
    "Show the Proof\n",
    "========"
   ]
  },
  {
   "cell_type": "code",
   "execution_count": 1,
   "metadata": {},
   "outputs": [
    {
     "data": {
      "text/html": [
       "<table><tr><th>&nbsp;</th><th>step type</th><th>requirements</th><th>statement</th></tr>\n",
       "<tr><td>0</td><td>modus ponens</td><td>1, 2</td><td><span style=\"font-size:20px;\"><a class=\"ProveItLink\" href=\"../478cad2b56d4680b76272ca935df8d52cdec87ce0/expr.ipynb\"><img src=\"data:image/png;base64,iVBORw0KGgoAAAANSUhEUgAAAJgAAAAVBAMAAABIwjoUAAAAMFBMVEX////c3NxERESqqqpUVFS6\n",
       "urrMzMwyMjIQEBCIiIh2dnYiIiLu7u5mZmaYmJgAAABXZE4RAAAAAXRSTlMAQObYZgAAAgRJREFU\n",
       "OMutVTtLA0EQHnPJJRcu54GFWKmdhWD+gBDkelNYKFikSCE2phFBfMRCbQRTCRaiYmUnVj5A0inY\n",
       "iK2gItho4Ssivp3Z7O3u7UVB8WBnNzPffrs78+0GAJxT+IdvcJWsvUO2Tw9e/pZtII3GukVjZlS/\n",
       "uQGQytWY4HRXvK7hkJvwkCqgSRbRxMtqME78hVrLJ1oAzrK6l+EZDzOLgeD1G5or+VuuNFTCltHJ\n",
       "GF6Szamxus47tAfSMSZGyy7AzYrGVcULsljgTJb1iDaSFo4eMWrDtlXWyKp4QZYKLNZvfJD/SDiS\n",
       "JX9UAWhs10/J8UVehfi5ErOz5jN2Bu02tcu+d79slcWlPZ2L4x2qwgAWJ4HthGaR5mJQR5NjRYk3\n",
       "uBwsTM4hz7+Oh3GA/Az29X6189Q87552causvj/NugguYH0ofgUPkQmA3pxGhuNZjcwcrSa9Hnfl\n",
       "vGhkHA+0yyjmJpGWQYMK5h+T52yTF3AIcxt9CJL5eJazJN6FyLkMNmA3SUEpFyOjyKy5oKhYwQtp\n",
       "CBmYYBNHRzkgjUZFZuZsGexXqIEXot0Qam57cuHiEysTl1ewlffHn543goew590wXl6nqfCdVq5T\n",
       "6AGJuWG8JLsKB9d/eLsc+IbMCT9BTNeFX5Kx98zepqOHnpWo+wNZqdZLy3LsrKFp0mMLf/gP+ALO\n",
       "QZKtL5ZmTQAAAABJRU5ErkJggg==\n",
       "\" style=\"display:inline;vertical-align:middle;\" /></a> <a class=\"ProveItLink\" href=\"proof.ipynb\" style=\"text-decoration: none\">&#x22A2;&nbsp;</a><a class=\"ProveItLink\" href=\"../../../../../__pv_it/077b2ff79244fb4582cbe22c6e3356fa92a52f2f0/expr.ipynb\"><img src=\"data:image/png;base64,iVBORw0KGgoAAAANSUhEUgAAABAAAAAOBAMAAADUAYG5AAAAMFBMVEX///+qqqru7u4iIiJ2dnbc\n",
       "3NyIiIjMzMxmZmYQEBC6uroyMjJERERUVFSYmJgAAADLUcuvAAAAAXRSTlMAQObYZgAAAGpJREFU\n",
       "CNdjYGB4+//u3dMLGIBgDgMDxy8gzf4NiP8CGWxfGRj4vgAZPBMYGJgnARn8FxhY9ygAGfXX0pof\n",
       "gDTlBzAw2YIYJ0EckBBI53sHoBH/gIz7AhBjWH9DjancBLTl/N+7t/cxMAAA3u4f/5xagjYAAAAA\n",
       "SUVORK5CYII=\n",
       "\" style=\"display:inline;vertical-align:middle;\" /></a></span></td></tr>\n",
       "<tr><td>1</td><td>assumption</td><td></td><td><span style=\"font-size:20px;\"><a class=\"ProveItLink\" href=\"../8969a97b4ed4358197326a2f2229555a50cfd1960/expr.ipynb\"><img src=\"data:image/png;base64,iVBORw0KGgoAAAANSUhEUgAAAHEAAAAVBAMAAACDNRyvAAAAMFBMVEX////c3NxERESqqqpUVFS6\n",
       "urrMzMwyMjIQEBCIiIh2dnYiIiLu7u5mZmaYmJgAAABXZE4RAAAAAXRSTlMAQObYZgAAAcRJREFU\n",
       "OMtjYGDgu8dAImBbJQCieHaByEh02ad4tTaDSM4PIKYDisQGBgbeBCw6+Py/uDiVAhnXQTyuBiDB\n",
       "fgBZATvIsAJslnEoMDDcD2BgWAHXORNF/vUfIPEKweeBs/InALEDss4eZI2Mth+B5AkkN8BdNB8Y\n",
       "NO8XIOlkRXEaJ+dXIMlkABdghYeCBhDvOICkk3cBss4Y5n8g8QsIkZUwxhcGBnEdBqhOXqB97A+Q\n",
       "NPIEsP0EUsxgd9zeDQL7oaawfZk5dx+I8R5EZACDiiMAqgYUt6wMjH9BVAOSaeYBEH8AA+A0yOns\n",
       "QKNS2oAM/gCoihQQdnH5BDL/A7I7KsAqmICmcYK8wqAOdGVEAppOILsdXWf6GjDFD7SP7xeQwQ0K\n",
       "GBagfzgMEDqZQcEHdy3En7t1oNEJtInlM8yfXMCkxvQAoVMYSNWDUhpSTJkgRad8AQNSrMBjgI2B\n",
       "ByShfwAlVhgLENHJ1n4AWSfrBrgije8CDI/+1wKDLwCuk0kAQl/67+JSDnYeIvU1YiZupNTHhiGJ\n",
       "0PkKU+dKfBkUrJMPM5eBY7AAn05w/uTZCfKeA7ociwC+MqEVktEXAwlJdMlphMohAFU6d7XAJLSJ\n",
       "AAAAAElFTkSuQmCC\n",
       "\" style=\"display:inline;vertical-align:middle;\" /></a> <a class=\"ProveItLink\" href=\"../f6e88b30394e30eeed905759d9a814368e7b8eef0/proof.ipynb\" style=\"text-decoration: none\">&#x22A2;&nbsp;</a><a class=\"ProveItLink\" href=\"../a52f2e12941e42e61803c785c696b853841b533c0/expr.ipynb\"><img src=\"data:image/png;base64,iVBORw0KGgoAAAANSUhEUgAAAFwAAAAVBAMAAAA5lpTPAAAAMFBMVEX////c3NwiIiJERESqqqqY\n",
       "mJh2dnZmZmYQEBDu7u4yMjJUVFTMzMyIiIi6uroAAAAs73DqAAAAAXRSTlMAQObYZgAAAV9JREFU\n",
       "KM9jYCAR8F1AE2B9gE/5aRTeISCuwaYs+v/u3VZAg1aiiK4HYi6sxjYzMLD/Y+BFcQur/gQgkYAQ\n",
       "mABj8PwF4t8MHBOQlYvUCzAwcDYgBOB2834EmvON4RWKjRfug/xpghB4DWMwA81g6mQoQwmlCf4B\n",
       "QCodIcIGcyv/BgbGxRMYliIrn8dwHiTtBWKzK4HBd6jU+b13i4BG9cEkQP57wCBfAKReIJnAsg5C\n",
       "3xdg4NRmYPgH8/kGIN69e78ByCRkG2f1gSkLkJYAFOV8DAwcC9CU8yyDBN1vII5PYGhBUu4A9HwD\n",
       "zDFQtytDVPN8BRL7HRhMEcoZgcq5PgDZUUhO34AIdsZfSIF2gGEWKHh/ogakFFKwnwDG2SO4jHD/\n",
       "QgZW+1/AoFmHUG4Iodjtf+/eBQpzDgGMxIScCA6gp+4EDOVsF/Ck95UYIrPwZQ9pDJGN+JQzolvN\n",
       "ewC3YgDGg1kRpbQOUwAAAABJRU5ErkJggg==\n",
       "\" style=\"display:inline;vertical-align:middle;\" /></a></span></td></tr>\n",
       "<tr><td>2</td><td>assumption</td><td></td><td><span style=\"font-size:20px;\"><a class=\"ProveItLink\" href=\"../edd8455a49d47780786b5faa6e783100cb7d31cc0/expr.ipynb\"><img src=\"data:image/png;base64,iVBORw0KGgoAAAANSUhEUgAAADAAAAAVBAMAAADyTXAxAAAAMFBMVEX///9ERETc3NyqqqpUVFS6\n",
       "urrMzMwyMjIQEBCIiIh2dnYiIiLu7u5mZmaYmJgAAABJJ2g3AAAAAXRSTlMAQObYZgAAALxJREFU\n",
       "KM9jYGDgu8eABrIWgUieXQwYIMMASHB+QBFj2wAkeAuABFcDigT7B5gYmsTrP9glmGw/YZfg5PyK\n",
       "XSKG+R9MDOwCGOAJYPsJpPhALsgIYGC4vRsIQP5hZWD6C1JQy8CQ0gZTnQLCLi4fQWzGOgaGiAQk\n",
       "CaDudhAbpJulACHBDKR2wOzg2oCQUAZS9RjOZWPgAWmWP4DhDyaJ7woMD//XYg8rMMAvwYdFAhwa\n",
       "PDuxxGAAiORbjC3OAaHOM6CzgdAAAAAAAElFTkSuQmCC\n",
       "\" style=\"display:inline;vertical-align:middle;\" /></a> <a class=\"ProveItLink\" href=\"../04d7501518712e5b9d432219fd2131665990c4a50/proof.ipynb\" style=\"text-decoration: none\">&#x22A2;&nbsp;</a><a class=\"ProveItLink\" href=\"../feaa1d0e6d92ad9ead8e5ffd1f92697e3912387a0/expr.ipynb\"><img src=\"data:image/png;base64,iVBORw0KGgoAAAANSUhEUgAAABwAAAAOBAMAAADOPWE3AAAAMFBMVEX///8QEBBERES6urqIiIiq\n",
       "qqrc3Nzu7u6YmJgyMjJUVFTMzMx2dnYiIiJmZmYAAADMbjvTAAAAAXRSTlMAQObYZgAAAGNJREFU\n",
       "CNdjYEAA7gsMyIDzAwq39zsyjy3uGzKXheUzMtec9QcSj92A+wsDw9u7QHAHyGVmYPsHldkFwqtW\n",
       "fULiGjAwSCK4rEDqIoKbCqTmw1zLwD4BSOkXwFyk+DOBoen/PABSrhtHsYt+gAAAAABJRU5ErkJg\n",
       "gg==\n",
       "\" style=\"display:inline;vertical-align:middle;\" /></a></span></td></tr>\n",
       "</table>"
      ],
      "text/plain": [
       "<proveit._core_.proof._ShowProof at 0x7f94ea348c88>"
      ]
     },
     "execution_count": 1,
     "metadata": {},
     "output_type": "execute_result"
    }
   ],
   "source": [
    "import proveit\n",
    "%show_proof"
   ]
  },
  {
   "cell_type": "code",
   "execution_count": null,
   "metadata": {},
   "outputs": [],
   "source": []
  }
 ],
 "metadata": {
  "kernelspec": {
   "display_name": "Python 3",
   "language": "python",
   "name": "python3"
  }
 },
 "nbformat": 4,
 "nbformat_minor": 0
}
