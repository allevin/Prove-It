{
 "cells": [
  {
   "cell_type": "markdown",
   "metadata": {},
   "source": [
    "Show the Proof\n",
    "========"
   ]
  },
  {
   "cell_type": "code",
   "execution_count": 1,
   "metadata": {},
   "outputs": [
    {
     "data": {
      "text/html": [
       "<table><tr><th>&nbsp;</th><th>step type</th><th>requirements</th><th>statement</th></tr>\n",
       "<tr><td>0</td><td>specialization</td><td>1, 2</td><td><span style=\"font-size:20px;\"><a class=\"ProveItLink\" href=\"../b9713b405570857a29694d61fe5e2536eab03fc30/expr.ipynb\"><img src=\"data:image/png;base64,iVBORw0KGgoAAAANSUhEUgAAAHUAAAAVBAMAAACK3rzVAAAAMFBMVEX////c3NxERESqqqpUVFS6\n",
       "urrMzMwyMjIQEBCIiIh2dnYiIiLu7u5mZmaYmJgAAABXZE4RAAAAAXRSTlMAQObYZgAAAbZJREFU\n",
       "OMtjYGDgu8dAMmBbJQCieHahiEYS1McXANLcDGJyfkAx0AFCbcCmyf+Li1MpA8M1EOc6iOBqQJZn\n",
       "PwChPmCzkUOBgeF+AAM7iL0CU+9MCPX6D0LoAJyVPwGIHRj4FmDX2wMmGW0/IoRq4Kz5wAB6v4CB\n",
       "pwGrXtYCMMXJ+RUhFgJnaQDxDqAzlLHq5V0ApmKY/yHEuCbAWF8YGMR1gPRamF7eAuSgegCOtgC2\n",
       "n2Cp3WDwFxYHX2bO3QdimAPxexAjIwCmCGgnRwDY5QyMf5EMZC6F0JzAQDgNisMIkC0XGBhS2pCj\n",
       "lh+sN8XF5RNyAB5vBVNMQN9xgjyTD+KpA50YkYChF0i0I6eXKkg08QMV8P2C6uUGhQxLAZJeDgOQ\n",
       "G0HBieTfTdAYzgfaxPIZ6mawf7k2IOllAoWVMBDXI3nXASl65UE2PceMI6DjuYAhwAOS1kekJnGk\n",
       "6GVrP4AcR6hpYwMDo8Z3AYZH/2vhYopQ+tJ/F5dycByWYk+TjZg5IAFdAEeaZHhFRMYHJzSwXj5s\n",
       "eRAvOA7Pvzw7kcUZHQjrdQRFCiS58C1GlpAkqJUzAVpeAQCj4XXVPjLA8gAAAABJRU5ErkJggg==\n",
       "\" style=\"display:inline;vertical-align:middle;\" /></a> <a class=\"ProveItLink\" href=\"proof.ipynb\" style=\"text-decoration: none\">&#x22A2;&nbsp;</a><a class=\"ProveItLink\" href=\"../c9d2f2552d0b7f30ff062a30fc5729340f4d26d40/expr.ipynb\"><img src=\"data:image/png;base64,iVBORw0KGgoAAAANSUhEUgAAAJsAAAAVBAMAAACj9YEXAAAAMFBMVEX////c3NwiIiJERESqqqqY\n",
       "mJh2dnZmZmYQEBDu7u4yMjJUVFTMzMyIiIi6uroAAAAs73DqAAAAAXRSTlMAQObYZgAAAdJJREFU\n",
       "OMtjYKAy4LuAxHlLUDnrAwjGBU4jsXk2QCgFbObs/7178zoGhhoGCEYB7EpgYMDAsBJJlGsChPqA\n",
       "zV4OoOL6BwxcIAVYpHkKQCQvsl/vQqignwihCXDWeaDK8xsYWBMYwBi7cRwTkIQ6wSSj+0eEEMLx\n",
       "9wUYGOITGDgbGMAYu3GvkGNlAZji5f2HEHsNZ1kAsQbQchMGCMZqXBlygEL88JLlK0KMDR4YvxkY\n",
       "pCyBdDoUYzVuKXJMBIBIzgc8f5Fi6ztM+e+711VBDC8oZmBfBQYbkI3rg+kDuowDnJ74GBi/I9nB\n",
       "sg5C8wIDdBJI6wsoxuq6f0hJjh9s3Onduz8jq5vVB6aYgcHPCwqF81BMpHFAogtZ2TJI3PMDFbB+\n",
       "I2RcC5JxHA4gz4EiECnslKEp6TwwYLm/IHsWkRUQxpkiGccMigoRIF6PFHQbkJKdPCglRUExVtfB\n",
       "o/wAMFEARThBOuwRaVsKKdnxdE0glFAeISdjBQZGi18CDMH/l8PFDKF08f/du1eBE9I6KEY3Dpxo\n",
       "OQSQhBoxVR1AF8CVyaDlDnJuDiOifARlE7YLOKWxFFB4wSwoxgGkkdiMGwgbtxGKcQBGZIfLEjSN\n",
       "9wAEYwcAtn19imdkCP8AAAAASUVORK5CYII=\n",
       "\" style=\"display:inline;vertical-align:middle;\" /></a></span></td></tr>\n",
       "<tr><td>&nbsp;</td><td colspan=4 style=\"text-align:left\"><span style=\"font-size:20px;\"><a class=\"ProveItLink\" href=\"../../../../../__pv_it/2cbe72a7ad6f655694dd697106680215e8489b600/expr.ipynb\"><img src=\"data:image/png;base64,iVBORw0KGgoAAAANSUhEUgAAAA8AAAAOBAMAAAACpFvcAAAALVBMVEX///8QEBBERERUVFS6urqI\n",
       "iIhmZmaqqqrc3Nzu7u6YmJgyMjIiIiLMzMwAAADtIaYWAAAAAXRSTlMAQObYZgAAAFtJREFUCNdj\n",
       "YACBOwxQsA9Kc52bAGG05zVAGAFxDmCaZULdAjBjCsO9ADDDgaEvAUTzGhvbKYCVMDAwbgAxChgY\n",
       "eASANAeQwf0AyJgNxEwvGRia5HYwcOm9TgAA6BoR3jrzwFcAAAAASUVORK5CYII=\n",
       "\" style=\"display:inline;vertical-align:middle;\" /></a> : <a class=\"ProveItLink\" href=\"../645ce987d0174f228106544053fcde37e024fae30/expr.ipynb\"><img src=\"data:image/png;base64,iVBORw0KGgoAAAANSUhEUgAAAF8AAAAVBAMAAADSoS/MAAAAMFBMVEX////c3NxERESqqqqYmJgQ\n",
       "EBDu7u4yMjKIiIi6urpUVFTMzMx2dnYiIiJmZmYAAABjE816AAAAAXRSTlMAQObYZgAAAWhJREFU\n",
       "OMtjYCAfcDYQVOKJwtsFofZiU+n1f9Uq9QkMfBuQBcsgVD1Ws4MYGPh+MjAUIAlxQFzEcj8BLsQG\n",
       "Z3H/AOJfDAw+SBpYIQqF3wvAhdjhejk+Ao36w8CQiqRhOoRq6J+ACIYFMBZTAAMDbxiQNkBoeANR\n",
       "k2DvgBA7AWPwL2BgLALax/MAIVkCJjMZ9oP98vYuCNyHye9f0fEWZBBzAUTmDpAdCZaZwCCPZAiD\n",
       "OdR9/QIMbLdADghARMFPcGisWrVeAUkDWylEhypIE9AK7g9oGjiBoYUc1tuPQWhgiDL4H0DVEAxi\n",
       "AAOBNwDhh7tq0Gj4AiTWG6A6SQWIGYFi7B8QFlghRQPjd1C0Qq3nBuJzQJwOCvJvcPWMBUjRsBWU\n",
       "dJCDdS4Dg1B8IQOL/ne4IBM00vn0f61aDg529glISUMAI8VxY4ggJw2WA0TkmRNYkjc+wIYc5AxS\n",
       "hDVwoTibkXAW7WZgAAB3jV14rHTBjQAAAABJRU5ErkJggg==\n",
       "\" style=\"display:inline;vertical-align:middle;\" /></a></span></td></tr><tr><td>1</td><td>axiom</td><td></td><td><span style=\"font-size:20px;\"> <a class=\"ProveItLink\" href=\"../../../_axioms_.ipynb#eqTrueIntro\" style=\"text-decoration: none\">&#x22A2;&nbsp;</a><a class=\"ProveItLink\" href=\"../../../__pv_it/d0cb838f1f1e44deadf0499da151f8dae5a0de4f0/expr.ipynb\"><img src=\"data:image/png;base64,iVBORw0KGgoAAAANSUhEUgAAAIwAAAAXBAMAAAArT7qNAAAAMFBMVEX///8QEBC6urrMzMxUVFRm\n",
       "ZmZERETc3NwyMjKqqqp2dnaIiIiYmJgiIiLu7u4AAAAU9Wx4AAAAAXRSTlMAQObYZgAAAaxJREFU\n",
       "OMtjYKAOeEBYCdMG/PI8CgwMF0CM03iVmUAoW3Rx1rtgkMAQzMCwEiTQh9cYqGw/FinmABDJwcBQ\n",
       "BqTYE/CZwg3xE8/9B7iM4VnAwAGUZJ2AzxhGiPbK+AJcxvAJMPAsLy+vxesnDQi1Yb8CLmMYMhkY\n",
       "vqWl3cJrTBQkuh7MP4DTmKUMDM4MDOlgdjtEOUxFO4zRAyYfMdiDw4i1AwwcUIyZwcCgwsDXAA6n\n",
       "T2ARNlhi+AQzRghMKjDUB+B0jSIDAy8DN9i1T/+gGAPlAgHYPGYXF/8EnMbYA+PzAC84KtZdRTEG\n",
       "yoUZA/QrYwM+Y/gawKmUeUMasjEwLhBIgghgkuAVQEm6aJ5iSHcCsVgYYpGNgXGBIAeUQIHGcHzA\n",
       "6ZoTQDwVnK1OMuxHNgbGhcQmwwuQzD98Ec7ACIpIvquh+Q8QxsC5QKALzDHy7Qw8+T8wo4p5AZhq\n",
       "AkUtSD1rAYO9AcIYOBdkTQGhkoRPAMbSYWDgP4AwBs6FZDwCgAtWID35xsDufwduDIJLuBiBhhwa\n",
       "YMMUKiFkjDtRxrATKES5DYgyhhzAQpYuAAUAaqwIkhhoAAAAAElFTkSuQmCC\n",
       "\" style=\"display:inline;vertical-align:middle;\" /></a></span></td></tr>\n",
       "<tr><td>&nbsp;</td><td colspan=4 style-\"text-align:left\"><a class=\"ProveItLink\" href=\"../../../_axioms_.ipynb#eqTrueIntro\">proveit.logic.boolean.eqTrueIntro</a></td></tr><tr><td>2</td><td>assumption</td><td></td><td><span style=\"font-size:20px;\"><a class=\"ProveItLink\" href=\"../b9713b405570857a29694d61fe5e2536eab03fc30/expr.ipynb\"><img src=\"data:image/png;base64,iVBORw0KGgoAAAANSUhEUgAAAHUAAAAVBAMAAACK3rzVAAAAMFBMVEX////c3NxERESqqqpUVFS6\n",
       "urrMzMwyMjIQEBCIiIh2dnYiIiLu7u5mZmaYmJgAAABXZE4RAAAAAXRSTlMAQObYZgAAAbZJREFU\n",
       "OMtjYGDgu8dAMmBbJQCieHahiEYS1McXANLcDGJyfkAx0AFCbcCmyf+Li1MpA8M1EOc6iOBqQJZn\n",
       "PwChPmCzkUOBgeF+AAM7iL0CU+9MCPX6D0LoAJyVPwGIHRj4FmDX2wMmGW0/IoRq4Kz5wAB6v4CB\n",
       "pwGrXtYCMMXJ+RUhFgJnaQDxDqAzlLHq5V0ApmKY/yHEuCbAWF8YGMR1gPRamF7eAuSgegCOtgC2\n",
       "n2Cp3WDwFxYHX2bO3QdimAPxexAjIwCmCGgnRwDY5QyMf5EMZC6F0JzAQDgNisMIkC0XGBhS2pCj\n",
       "lh+sN8XF5RNyAB5vBVNMQN9xgjyTD+KpA50YkYChF0i0I6eXKkg08QMV8P2C6uUGhQxLAZJeDgOQ\n",
       "G0HBieTfTdAYzgfaxPIZ6mawf7k2IOllAoWVMBDXI3nXASl65UE2PceMI6DjuYAhwAOS1kekJnGk\n",
       "6GVrP4AcR6hpYwMDo8Z3AYZH/2vhYopQ+tJ/F5dycByWYk+TjZg5IAFdAEeaZHhFRMYHJzSwXj5s\n",
       "eRAvOA7Pvzw7kcUZHQjrdQRFCiS58C1GlpAkqJUzAVpeAQCj4XXVPjLA8gAAAABJRU5ErkJggg==\n",
       "\" style=\"display:inline;vertical-align:middle;\" /></a> <a class=\"ProveItLink\" href=\"../095ef9165a8cbbfe0c1f8f2f7054e7e65f4722ad0/proof.ipynb\" style=\"text-decoration: none\">&#x22A2;&nbsp;</a><a class=\"ProveItLink\" href=\"../645ce987d0174f228106544053fcde37e024fae30/expr.ipynb\"><img src=\"data:image/png;base64,iVBORw0KGgoAAAANSUhEUgAAAF8AAAAVBAMAAADSoS/MAAAAMFBMVEX////c3NxERESqqqqYmJgQ\n",
       "EBDu7u4yMjKIiIi6urpUVFTMzMx2dnYiIiJmZmYAAABjE816AAAAAXRSTlMAQObYZgAAAWhJREFU\n",
       "OMtjYCAfcDYQVOKJwtsFofZiU+n1f9Uq9QkMfBuQBcsgVD1Ws4MYGPh+MjAUIAlxQFzEcj8BLsQG\n",
       "Z3H/AOJfDAw+SBpYIQqF3wvAhdjhejk+Ao36w8CQiqRhOoRq6J+ACIYFMBZTAAMDbxiQNkBoeANR\n",
       "k2DvgBA7AWPwL2BgLALax/MAIVkCJjMZ9oP98vYuCNyHye9f0fEWZBBzAUTmDpAdCZaZwCCPZAiD\n",
       "OdR9/QIMbLdADghARMFPcGisWrVeAUkDWylEhypIE9AK7g9oGjiBoYUc1tuPQWhgiDL4H0DVEAxi\n",
       "AAOBNwDhh7tq0Gj4AiTWG6A6SQWIGYFi7B8QFlghRQPjd1C0Qq3nBuJzQJwOCvJvcPWMBUjRsBWU\n",
       "dJCDdS4Dg1B8IQOL/ne4IBM00vn0f61aDg529glISUMAI8VxY4ggJw2WA0TkmRNYkjc+wIYc5AxS\n",
       "hDVwoTibkXAW7WZgAAB3jV14rHTBjQAAAABJRU5ErkJggg==\n",
       "\" style=\"display:inline;vertical-align:middle;\" /></a></span></td></tr>\n",
       "</table>"
      ],
      "text/plain": [
       "<proveit._core_.proof._ShowProof at 0x7f94ebadef60>"
      ]
     },
     "execution_count": 1,
     "metadata": {},
     "output_type": "execute_result"
    }
   ],
   "source": [
    "import proveit\n",
    "%show_proof"
   ]
  },
  {
   "cell_type": "code",
   "execution_count": null,
   "metadata": {},
   "outputs": [],
   "source": []
  }
 ],
 "metadata": {
  "kernelspec": {
   "display_name": "Python 3",
   "language": "python",
   "name": "python3"
  }
 },
 "nbformat": 4,
 "nbformat_minor": 0
}
