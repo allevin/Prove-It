{
 "cells": [
  {
   "cell_type": "markdown",
   "metadata": {},
   "source": [
    "Expression of type <a class=\"ProveItLink\" href=\"../../../../../../../doc/html/api/proveit.logic.Set.html\">Set</a>\n",
    "=======================\n",
    "# from context <a class=\"ProveItLink\" href=\"../../_context_.ipynb\">proveit.logic.boolean.implication</a>"
   ]
  },
  {
   "cell_type": "code",
   "execution_count": 1,
   "metadata": {},
   "outputs": [],
   "source": [
    "# import Expression classes needed to build the expression\n",
    "from proveit._common_ import A, B\n",
    "from proveit.logic import Implies, Not, Set"
   ]
  },
  {
   "cell_type": "code",
   "execution_count": 2,
   "metadata": {},
   "outputs": [
    {
     "data": {
      "text/html": [
       "<strong id=\"expr\">expr:</strong> <a class=\"ProveItLink\" href=\"../8969a97b4ed4358197326a2f2229555a50cfd1960/expr.ipynb\"><img src=\"data:image/png;base64,iVBORw0KGgoAAAANSUhEUgAAAHEAAAAVBAMAAACDNRyvAAAAMFBMVEX////c3NxERESqqqpUVFS6\n",
       "urrMzMwyMjIQEBCIiIh2dnYiIiLu7u5mZmaYmJgAAABXZE4RAAAAAXRSTlMAQObYZgAAAcRJREFU\n",
       "OMtjYGDgu8dAImBbJQCieHaByEh02ad4tTaDSM4PIKYDisQGBgbeBCw6+Py/uDiVAhnXQTyuBiDB\n",
       "fgBZATvIsAJslnEoMDDcD2BgWAHXORNF/vUfIPEKweeBs/InALEDss4eZI2Mth+B5AkkN8BdNB8Y\n",
       "NO8XIOlkRXEaJ+dXIMlkABdghYeCBhDvOICkk3cBss4Y5n8g8QsIkZUwxhcGBnEdBqhOXqB97A+Q\n",
       "NPIEsP0EUsxgd9zeDQL7oaawfZk5dx+I8R5EZACDiiMAqgYUt6wMjH9BVAOSaeYBEH8AA+A0yOns\n",
       "QKNS2oAM/gCoihQQdnH5BDL/A7I7KsAqmICmcYK8wqAOdGVEAppOILsdXWf6GjDFD7SP7xeQwQ0K\n",
       "GBagfzgMEDqZQcEHdy3En7t1oNEJtInlM8yfXMCkxvQAoVMYSNWDUhpSTJkgRad8AQNSrMBjgI2B\n",
       "ByShfwAlVhgLENHJ1n4AWSfrBrgije8CDI/+1wKDLwCuk0kAQl/67+JSDnYeIvU1YiZupNTHhiGJ\n",
       "0PkKU+dKfBkUrJMPM5eBY7AAn05w/uTZCfKeA7ociwC+MqEVktEXAwlJdMlphMohAFU6d7XAJLSJ\n",
       "AAAAAElFTkSuQmCC\n",
       "\" style=\"display:inline;vertical-align:middle;\" /></a><br>"
      ],
      "text/plain": [
       "expr: {[not](A) => B}"
      ]
     },
     "execution_count": 2,
     "metadata": {},
     "output_type": "execute_result"
    }
   ],
   "source": [
    "# build up the expression from sub-expressions\n",
    "expr = Set(Implies(Not(A), B))"
   ]
  },
  {
   "cell_type": "code",
   "execution_count": 3,
   "metadata": {},
   "outputs": [
    {
     "name": "stdout",
     "output_type": "stream",
     "text": [
      "Passed sanity check: built 'expr' is the same as the stored Expression.\n"
     ]
    }
   ],
   "source": [
    "# check that the built expression is the same as the stored expression\n",
    "%check_expr"
   ]
  },
  {
   "cell_type": "code",
   "execution_count": 4,
   "metadata": {},
   "outputs": [
    {
     "data": {
      "text/html": [
       "<table><tr><th>&nbsp;</th><th>core type</th><th>sub-expressions</th><th>expression</th></tr>\n",
       "<tr><td>0</td><td>Operation</td><td>operator:&nbsp;1<br>operands:&nbsp;2<br></td><td><a class=\"ProveItLink\" href=\"../8969a97b4ed4358197326a2f2229555a50cfd1960/expr.ipynb\"><img src=\"data:image/png;base64,iVBORw0KGgoAAAANSUhEUgAAAHEAAAAVBAMAAACDNRyvAAAAMFBMVEX////c3NxERESqqqpUVFS6\n",
       "urrMzMwyMjIQEBCIiIh2dnYiIiLu7u5mZmaYmJgAAABXZE4RAAAAAXRSTlMAQObYZgAAAcRJREFU\n",
       "OMtjYGDgu8dAImBbJQCieHaByEh02ad4tTaDSM4PIKYDisQGBgbeBCw6+Py/uDiVAhnXQTyuBiDB\n",
       "fgBZATvIsAJslnEoMDDcD2BgWAHXORNF/vUfIPEKweeBs/InALEDss4eZI2Mth+B5AkkN8BdNB8Y\n",
       "NO8XIOlkRXEaJ+dXIMlkABdghYeCBhDvOICkk3cBss4Y5n8g8QsIkZUwxhcGBnEdBqhOXqB97A+Q\n",
       "NPIEsP0EUsxgd9zeDQL7oaawfZk5dx+I8R5EZACDiiMAqgYUt6wMjH9BVAOSaeYBEH8AA+A0yOns\n",
       "QKNS2oAM/gCoihQQdnH5BDL/A7I7KsAqmICmcYK8wqAOdGVEAppOILsdXWf6GjDFD7SP7xeQwQ0K\n",
       "GBagfzgMEDqZQcEHdy3En7t1oNEJtInlM8yfXMCkxvQAoVMYSNWDUhpSTJkgRad8AQNSrMBjgI2B\n",
       "ByShfwAlVhgLENHJ1n4AWSfrBrgije8CDI/+1wKDLwCuk0kAQl/67+JSDnYeIvU1YiZupNTHhiGJ\n",
       "0PkKU+dKfBkUrJMPM5eBY7AAn05w/uTZCfKeA7ociwC+MqEVktEXAwlJdMlphMohAFU6d7XAJLSJ\n",
       "AAAAAElFTkSuQmCC\n",
       "\" style=\"display:inline;vertical-align:middle;\" /></a></td></tr>\n",
       "<tr><td>1</td><td>Literal</td><td></td><td><a class=\"ProveItLink\" href=\"../../../../set_theory/enumeration/__pv_it/07381ed5b23806e8d7914b78cb6667769e3708dd0/expr.ipynb\"><img src=\"data:image/png;base64,iVBORw0KGgoAAAANSUhEUgAAAB4AAAAOBAMAAADKyLEKAAAAMFBMVEX///8iIiIQEBCIiIjMzMzc\n",
       "3Nyqqqp2dnZEREQyMjK6urru7u5mZmZUVFSYmJgAAACI6eGPAAAAAXRSTlMAQObYZgAAALRJREFU\n",
       "CNdjYGDgu3Nm3wIGBJjHwN0PZW5yYGDgLWBgyITy8zcwMMQDxZyh/INAvD6BgcEFypcB4vjPDiBm\n",
       "TPFRrhs/LjMwMP//38rAwCbKEMPA9gEkE3fp0waG+AUMRxh4JkC01T9guPTOOICBEWgVH5C//wHD\n",
       "H5D4fqCz9oCMDGD4DLaegRXslLMMDMpAgxlOMmQxHDRgYG5gYLBk4D7KcIe7gOHC2rt9QCXsh40Z\n",
       "GCKMGQDRkC8N/Ph1XAAAAABJRU5ErkJggg==\n",
       "\" style=\"display:inline;vertical-align:middle;\" /></a></td></tr>\n",
       "<tr><td>2</td><td>ExprTuple</td><td>3</td><td><a class=\"ProveItLink\" href=\"../a9d43d38d9bc4bff05feca9b792dfe5a359296930/expr.ipynb\"><img src=\"data:image/png;base64,iVBORw0KGgoAAAANSUhEUgAAAGsAAAAVBAMAAACzuQ2OAAAAMFBMVEX////c3NwiIiJERESqqqqY\n",
       "mJh2dnZmZmYQEBDu7u4yMjJUVFTMzMyIiIi6uroAAAAs73DqAAAAAXRSTlMAQObYZgAAAbdJREFU\n",
       "OMudUz1LA0EQfaf5NokBrbQQtLRQwYDYJLWNVhYKms5KCBapBAOmsYkpQwqJSASbGFsPyWElWOR+\n",
       "gJKQSrSJhYoJfszu3mX3YkjhwNuZ29s3N/tmDvinhU0Bh7kbAxhbbLm3IO2WsN/v/OaPri834DUo\n",
       "vrAg7ZIQ6PudQ8D7DRSBkCmgFDiXoyUhN3J2EPwidIB1wJcTkDZ+EAH8abnRrSX0SvnegTzwDAFp\n",
       "Zp3psSg3XuxgmHINHZGPI0WPKYeyudU1cjtyx2PfYbQC7Ywq8yRRoseSSjtBjR1bYbF3mtuH9ap2\n",
       "87jHUrqKyJLL2geYDg1MJck9KZlcZeHrEfhnWUFpkJ4cXKkKQder8yyzWkEhy90So9Lngq0/tDAJ\n",
       "W+yhBc+F1KQ9thOclqEwo9DiJFbaLtK624xgBd9oqcZ5kVEKo5Km0W6gRfGGcrWKbJvWZgNR5EJ3\n",
       "xTZQYO35dDZgQmnbHes9NaBJrtk9MXZ8CnesTVKWJW1BOG+so1/zXgUa8NEkMfSYOlxG78u8mFl1\n",
       "bnsno5/t9v1xeKcGsPysQZMWnHY1gDbC7qSZAg4LGQNoD8Av6stxSXkXEusAAAAASUVORK5CYII=\n",
       "\" style=\"display:inline;vertical-align:middle;\" /></a></td></tr>\n",
       "<tr><td>3</td><td>Operation</td><td>operator:&nbsp;4<br>operands:&nbsp;5<br></td><td><a class=\"ProveItLink\" href=\"../../../__pv_it/d6dab84f92fa55f5cdee6c7b5ad44d882041dfad0/expr.ipynb\"><img src=\"data:image/png;base64,iVBORw0KGgoAAAANSUhEUgAAAFwAAAAVBAMAAAA5lpTPAAAAMFBMVEX////c3NwiIiJERESqqqqY\n",
       "mJh2dnZmZmYQEBDu7u4yMjJUVFTMzMyIiIi6uroAAAAs73DqAAAAAXRSTlMAQObYZgAAAV9JREFU\n",
       "KM9jYCAR8F1AE2B9gE/5aRTeISCuwaYs+v/u3VZAg1aiiK4HYi6sxjYzMLD/Y+BFcQur/gQgkYAQ\n",
       "mABj8PwF4t8MHBOQlYvUCzAwcDYgBOB2834EmvON4RWKjRfug/xpghB4DWMwA81g6mQoQwmlCf4B\n",
       "QCodIcIGcyv/BgbGxRMYliIrn8dwHiTtBWKzK4HBd6jU+b13i4BG9cEkQP57wCBfAKReIJnAsg5C\n",
       "3xdg4NRmYPgH8/kGIN69e78ByCRkG2f1gSkLkJYAFOV8DAwcC9CU8yyDBN1vII5PYGhBUu4A9HwD\n",
       "zDFQtytDVPN8BRL7HRhMEcoZgcq5PgDZUUhO34AIdsZfSIF2gGEWKHh/ogakFFKwnwDG2SO4jHD/\n",
       "QgZW+1/AoFmHUG4Iodjtf+/eBQpzDgGMxIScCA6gp+4EDOVsF/Ck95UYIrPwZQ9pDJGN+JQzolvN\n",
       "ewC3YgDGg1kRpbQOUwAAAABJRU5ErkJggg==\n",
       "\" style=\"display:inline;vertical-align:middle;\" /></a></td></tr>\n",
       "<tr><td>4</td><td>Literal</td><td></td><td><a class=\"ProveItLink\" href=\"../e5c030cabcb650938f92dee8256fe11cd12bf9b30/expr.ipynb\"><img src=\"data:image/png;base64,iVBORw0KGgoAAAANSUhEUgAAABMAAAANBAMAAAC5okgUAAAALVBMVEX////c3NxERETMzMwQEBCq\n",
       "qqoiIiJmZmaIiIh2dnZUVFS6uroyMjLu7u4AAACPpZJTAAAAAXRSTlMAQObYZgAAAD1JREFUCNdj\n",
       "YAABXgY44LkAZ3IvQAjPABFlaSCQV4AQjtkAZ/IegbNt5sLUpunC5aPgLMYDcCaTAJzJDCIA2yMN\n",
       "HCCUuIIAAAAASUVORK5CYII=\n",
       "\" style=\"display:inline;vertical-align:middle;\" /></a></td></tr>\n",
       "<tr><td>5</td><td>ExprTuple</td><td>6, 7</td><td><a class=\"ProveItLink\" href=\"../../../__pv_it/ebf5636be815bb02f85ac03dbaee8f96b026f1d20/expr.ipynb\"><img src=\"data:image/png;base64,iVBORw0KGgoAAAANSUhEUgAAAEMAAAAVBAMAAADvM06qAAAAMFBMVEX////c3NwiIiJERESqqqqY\n",
       "mJh2dnZmZmYQEBDu7u4yMjJUVFTMzMyIiIi6uroAAAAs73DqAAAAAXRSTlMAQObYZgAAAUdJREFU\n",
       "KM9jYCAC8F3AJxsHIk6jCB2CMVj3/969eR0D+wEgeyWKkvVwFocBA0P9A4YFDAy8KPaw6k+AMc8D\n",
       "Jc5vYAgDKp6ArESkXgDGvA9kxScwzGBgeIViz4X7D2BMCyDWmMDA7MBQhuK7Cf4BMPZvBgYpSwYG\n",
       "tgKGpchK5oFdAAY8v+9eVwXSLAsY+hgY2JVAIAHIf8AgXwBVwvuRgWHSBqDBDQz/YLqAXJ7du/cb\n",
       "QPnMDUBlX4FiH1CU8AE9uADK5wfyWb+BlbQgKXFgYGBqgAUL0N3cX8AWmSKUMAKVcH1gYJgACxZ5\n",
       "oJGsCxjSYb45wDAL5ISfDJyfoMHC0zUB7OlHcB8L9y9kYLX/VcDZDzSg+P/u3atAYcT1gIFDADN5\n",
       "IAsBI4A1AUMJKzInFyMxoCvhBAWCNIYS5OTBDbKUEW/CvMPAAAC/jFIHxgZ0KQAAAABJRU5ErkJg\n",
       "gg==\n",
       "\" style=\"display:inline;vertical-align:middle;\" /></a></td></tr>\n",
       "<tr><td>6</td><td>Operation</td><td>operator:&nbsp;8<br>operand:&nbsp;9<br></td><td><a class=\"ProveItLink\" href=\"../../../__pv_it/feaa1d0e6d92ad9ead8e5ffd1f92697e3912387a0/expr.ipynb\"><img src=\"data:image/png;base64,iVBORw0KGgoAAAANSUhEUgAAABwAAAAOBAMAAADOPWE3AAAAMFBMVEX///8QEBBERES6urqIiIiq\n",
       "qqrc3Nzu7u6YmJgyMjJUVFTMzMx2dnYiIiJmZmYAAADMbjvTAAAAAXRSTlMAQObYZgAAAGNJREFU\n",
       "CNdjYEAA7gsMyIDzAwq39zsyjy3uGzKXheUzMtec9QcSj92A+wsDw9u7QHAHyGVmYPsHldkFwqtW\n",
       "fULiGjAwSCK4rEDqIoKbCqTmw1zLwD4BSOkXwFyk+DOBoen/PABSrhtHsYt+gAAAAABJRU5ErkJg\n",
       "gg==\n",
       "\" style=\"display:inline;vertical-align:middle;\" /></a></td></tr>\n",
       "<tr><td>7</td><td>Variable</td><td></td><td><a class=\"ProveItLink\" href=\"../../../../../__pv_it/077b2ff79244fb4582cbe22c6e3356fa92a52f2f0/expr.ipynb\"><img src=\"data:image/png;base64,iVBORw0KGgoAAAANSUhEUgAAABAAAAAOBAMAAADUAYG5AAAAMFBMVEX///+qqqru7u4iIiJ2dnbc\n",
       "3NyIiIjMzMxmZmYQEBC6uroyMjJERERUVFSYmJgAAADLUcuvAAAAAXRSTlMAQObYZgAAAGpJREFU\n",
       "CNdjYGB4+//u3dMLGIBgDgMDxy8gzf4NiP8CGWxfGRj4vgAZPBMYGJgnARn8FxhY9ygAGfXX0pof\n",
       "gDTlBzAw2YIYJ0EckBBI53sHoBH/gIz7AhBjWH9DjancBLTl/N+7t/cxMAAA3u4f/5xagjYAAAAA\n",
       "SUVORK5CYII=\n",
       "\" style=\"display:inline;vertical-align:middle;\" /></a></td></tr>\n",
       "<tr><td>8</td><td>Literal</td><td></td><td><a class=\"ProveItLink\" href=\"../../../negation/__pv_it/7bea79645543c2413aa17e787cca04e21046fde60/expr.ipynb\"><img src=\"data:image/png;base64,iVBORw0KGgoAAAANSUhEUgAAAAwAAAAGBAMAAAAFwGKyAAAAFVBMVEX///9UVFTMzMx2dnYiIiJm\n",
       "ZmYAAACWz4ZEAAAAAXRSTlMAQObYZgAAABRJREFUCNdjCHEBAmcGMFDEQzEBAEl+Ai6uYJv/AAAA\n",
       "AElFTkSuQmCC\n",
       "\" style=\"display:inline;vertical-align:middle;\" /></a></td></tr>\n",
       "<tr><td>9</td><td>Variable</td><td></td><td><a class=\"ProveItLink\" href=\"../../../../../__pv_it/2cbe72a7ad6f655694dd697106680215e8489b600/expr.ipynb\"><img src=\"data:image/png;base64,iVBORw0KGgoAAAANSUhEUgAAAA8AAAAOBAMAAAACpFvcAAAALVBMVEX///8QEBBERERUVFS6urqI\n",
       "iIhmZmaqqqrc3Nzu7u6YmJgyMjIiIiLMzMwAAADtIaYWAAAAAXRSTlMAQObYZgAAAFtJREFUCNdj\n",
       "YACBOwxQsA9Kc52bAGG05zVAGAFxDmCaZULdAjBjCsO9ADDDgaEvAUTzGhvbKYCVMDAwbgAxChgY\n",
       "eASANAeQwf0AyJgNxEwvGRia5HYwcOm9TgAA6BoR3jrzwFcAAAAASUVORK5CYII=\n",
       "\" style=\"display:inline;vertical-align:middle;\" /></a></td></tr>\n",
       "</table>\n"
      ],
      "text/plain": [
       "0. {[not](A) => B}\n",
       "   core type: Operation\n",
       "   operator: 1\n",
       "   operands: 2\n",
       "1. Set\n",
       "   core type: Literal\n",
       "   sub-expressions: \n",
       "2. ([not](A) => B)\n",
       "   core type: ExprTuple\n",
       "   sub-expressions: 3\n",
       "3. [not](A) => B\n",
       "   core type: Operation\n",
       "   operator: 4\n",
       "   operands: 5\n",
       "4. =>\n",
       "   core type: Literal\n",
       "   sub-expressions: \n",
       "5. ([not](A) , B)\n",
       "   core type: ExprTuple\n",
       "   sub-expressions: 6, 7\n",
       "6. [not](A)\n",
       "   core type: Operation\n",
       "   operator: 8\n",
       "   operand: 9\n",
       "7. B\n",
       "   core type: Variable\n",
       "   sub-expressions: \n",
       "8. not\n",
       "   core type: Literal\n",
       "   sub-expressions: \n",
       "9. A\n",
       "   core type: Variable\n",
       "   sub-expressions: "
      ]
     },
     "execution_count": 4,
     "metadata": {},
     "output_type": "execute_result"
    }
   ],
   "source": [
    "# display the expression information\n",
    "expr.exprInfo()"
   ]
  },
  {
   "cell_type": "code",
   "execution_count": null,
   "metadata": {},
   "outputs": [],
   "source": []
  }
 ],
 "metadata": {
  "kernelspec": {
   "display_name": "Python 3",
   "language": "python",
   "name": "python3"
  }
 },
 "nbformat": 4,
 "nbformat_minor": 0
}
