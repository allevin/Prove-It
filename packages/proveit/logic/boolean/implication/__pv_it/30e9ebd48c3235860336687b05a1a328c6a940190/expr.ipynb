{
 "cells": [
  {
   "cell_type": "markdown",
   "metadata": {},
   "source": [
    "Expression of type <a class=\"ProveItLink\" href=\"../../../../../../../doc/html/api/proveit.logic.Forall.html\">Forall</a>\n",
    "=======================\n",
    "# from context <a class=\"ProveItLink\" href=\"../../_context_.ipynb\">proveit.logic.boolean.implication</a>"
   ]
  },
  {
   "cell_type": "code",
   "execution_count": 1,
   "metadata": {},
   "outputs": [],
   "source": [
    "# import Expression classes needed to build the expression\n",
    "from proveit._common_ import A, B, C\n",
    "from proveit.logic import Forall, Implies"
   ]
  },
  {
   "cell_type": "code",
   "execution_count": 2,
   "metadata": {},
   "outputs": [
    {
     "data": {
      "text/html": [
       "<strong id=\"expr\">expr:</strong> <a class=\"ProveItLink\" href=\"expr.ipynb\"><img src=\"data:image/png;base64,iVBORw0KGgoAAAANSUhEUgAAAK8AAAAXBAMAAACPJQJeAAAAMFBMVEX///8QEBC6urrMzMxUVFRm\n",
       "ZmZERETc3NwyMjKqqqp2dnaIiIiYmJgiIiLu7u4AAAAU9Wx4AAAAAXRSTlMAQObYZgAAApNJREFU\n",
       "OMu1VE1oE0EU/pJ0s0k22fbmz0Er6EmwOQQRRAzaiDcjdBWKoj2Y3upetIiICehVc7DFY8WD1UIa\n",
       "sOihl9WDSEWIBz2ItQkiCIUqSqpVaX1vdpKMSSRu0Qc7M+/tm+/9D/C/qOz9ys6OGo/pK/HhmRfc\n",
       "QNLdSu1+mg9SJ/S0FgfuMnvNC3DIDTL0qd3PWw78Rx1kgfPE6ae9AM+62/NVxc/a4cNbWqZtzLn2\n",
       "tbwX4C1i1ce+tgQB5PiwDagA0Tujo5e84PqzYjOMz4rMTTu0FV7PAUFydTmTee0FWJsQ267wT0U4\n",
       "5W6XhdF3QCQNHASG2YPU4KLNxl2V8ap1KK7cnLEKD2XYjshqb+CHYE/OMy2kBXPKkephsrAdJq2B\n",
       "N8AQi4Lun2gPjJ4G7j4HQcn6ekXw0KtqHDeFdMGu5YaUYzDITh+5N64Aa0n4G9XxfyEnZOt0C4hE\n",
       "f//yb/2bY/FabeYC1IuGEyvD3EyCvQpwrAhNTECYO6ZCeQ0UVWBaNqrAewq8bhU34i6wmU1Qsrnb\n",
       "lxTgj3E8dePiAkyzT7KlfGwpTN8LJcfzI4I5wjqaTAWGD5CD9RGRwH2zMyPQMkQ5cuCV4luQC3SB\n",
       "vuuK8Ia77eeo2Pcot8cYhdw90QQ8CTySLlpxfFcwuJO43DjbeL/0rCw59fEOWyrBR2Z8BGwWFeAz\n",
       "lA05j7uPgyuwWCtkCfrQNxtP1q42oqh1Q+KKJW6FuBBRHmpKRaSsAK9woxgW0QAZPyYjFLShzYPX\n",
       "LKjUu2UTcFtJhb4K/SXMJSIeqkoekfq4zP3FeE7VT+9T98oK8GTVOpxvvL7mwGCh9cX5M5nZVlmw\n",
       "iddbYPRkR+AuuzNwG7rYUeM+1gW8Pur6Rzi/AHSfoPAtHJx0AAAAAElFTkSuQmCC\n",
       "\" style=\"display:inline;vertical-align:middle;\" /></a><br>"
      ],
      "text/plain": [
       "expr: forall_{C | B => C} (A => C)"
      ]
     },
     "execution_count": 2,
     "metadata": {},
     "output_type": "execute_result"
    }
   ],
   "source": [
    "# build up the expression from sub-expressions\n",
    "expr = Forall([C], Implies(A, C), conditions = [Implies(B, C)])"
   ]
  },
  {
   "cell_type": "code",
   "execution_count": 3,
   "metadata": {},
   "outputs": [
    {
     "name": "stdout",
     "output_type": "stream",
     "text": [
      "Passed sanity check: built 'expr' is the same as the stored Expression.\n"
     ]
    }
   ],
   "source": [
    "# check that the built expression is the same as the stored expression\n",
    "%check_expr"
   ]
  },
  {
   "cell_type": "code",
   "execution_count": 4,
   "metadata": {},
   "outputs": [
    {
     "data": {
      "text/html": [
       "<table><tr><th>&nbsp;</th><th>core type</th><th>sub-expressions</th><th>expression</th></tr>\n",
       "<tr><td>0</td><td>Operation</td><td>operator:&nbsp;1<br>operand:&nbsp;2<br></td><td><a class=\"ProveItLink\" href=\"expr.ipynb\"><img src=\"data:image/png;base64,iVBORw0KGgoAAAANSUhEUgAAAK8AAAAXBAMAAACPJQJeAAAAMFBMVEX///8QEBC6urrMzMxUVFRm\n",
       "ZmZERETc3NwyMjKqqqp2dnaIiIiYmJgiIiLu7u4AAAAU9Wx4AAAAAXRSTlMAQObYZgAAApNJREFU\n",
       "OMu1VE1oE0EU/pJ0s0k22fbmz0Er6EmwOQQRRAzaiDcjdBWKoj2Y3upetIiICehVc7DFY8WD1UIa\n",
       "sOihl9WDSEWIBz2ItQkiCIUqSqpVaX1vdpKMSSRu0Qc7M+/tm+/9D/C/qOz9ys6OGo/pK/HhmRfc\n",
       "QNLdSu1+mg9SJ/S0FgfuMnvNC3DIDTL0qd3PWw78Rx1kgfPE6ae9AM+62/NVxc/a4cNbWqZtzLn2\n",
       "tbwX4C1i1ce+tgQB5PiwDagA0Tujo5e84PqzYjOMz4rMTTu0FV7PAUFydTmTee0FWJsQ267wT0U4\n",
       "5W6XhdF3QCQNHASG2YPU4KLNxl2V8ap1KK7cnLEKD2XYjshqb+CHYE/OMy2kBXPKkephsrAdJq2B\n",
       "N8AQi4Lun2gPjJ4G7j4HQcn6ekXw0KtqHDeFdMGu5YaUYzDITh+5N64Aa0n4G9XxfyEnZOt0C4hE\n",
       "f//yb/2bY/FabeYC1IuGEyvD3EyCvQpwrAhNTECYO6ZCeQ0UVWBaNqrAewq8bhU34i6wmU1Qsrnb\n",
       "lxTgj3E8dePiAkyzT7KlfGwpTN8LJcfzI4I5wjqaTAWGD5CD9RGRwH2zMyPQMkQ5cuCV4luQC3SB\n",
       "vuuK8Ia77eeo2Pcot8cYhdw90QQ8CTySLlpxfFcwuJO43DjbeL/0rCw59fEOWyrBR2Z8BGwWFeAz\n",
       "lA05j7uPgyuwWCtkCfrQNxtP1q42oqh1Q+KKJW6FuBBRHmpKRaSsAK9woxgW0QAZPyYjFLShzYPX\n",
       "LKjUu2UTcFtJhb4K/SXMJSIeqkoekfq4zP3FeE7VT+9T98oK8GTVOpxvvL7mwGCh9cX5M5nZVlmw\n",
       "iddbYPRkR+AuuzNwG7rYUeM+1gW8Pur6Rzi/AHSfoPAtHJx0AAAAAElFTkSuQmCC\n",
       "\" style=\"display:inline;vertical-align:middle;\" /></a></td></tr>\n",
       "<tr><td>1</td><td>Literal</td><td></td><td><a class=\"ProveItLink\" href=\"../../../quantification/universal/__pv_it/265f8c02ac1094d56e0e6410a1c1fd3500dc9f540/expr.ipynb\"><img src=\"data:image/png;base64,iVBORw0KGgoAAAANSUhEUgAAAAwAAAAQBAMAAADQT4M0AAAAMFBMVEX///8QEBC6urrMzMxUVFRm\n",
       "ZmZERETc3NwyMjKqqqp2dnaIiIiYmJgiIiLu7u4AAAAU9Wx4AAAAAXRSTlMAQObYZgAAAFhJREFU\n",
       "CNdjeMAABhdAxGmGlSCqj6EMSLInMHAAJVknMPAsLy+vBYp8S0u7BaScGRjSgZQKA18DkOJl4D4A\n",
       "pLgP8IJM4mswARuX7gSmpoKNZWDcAKZ4gCoAgTQTILaSE58AAAAASUVORK5CYII=\n",
       "\" style=\"display:inline;vertical-align:middle;\" /></a></td></tr>\n",
       "<tr><td>2</td><td>Lambda</td><td>parameter:&nbsp;11<br>body:&nbsp;3<br>conditions:&nbsp;4<br></td><td><a class=\"ProveItLink\" href=\"../425a02c60fffd87f6a6f773f3f461735c4e9d3470/expr.ipynb\"><img src=\"data:image/png;base64,iVBORw0KGgoAAAANSUhEUgAAANgAAAAVCAMAAAATiNC1AAAANlBMVEX///8UFBQNDQ3MzMyqqqoi\n",
       "IiIyMjK6uroQEBB2dnbc3NyYmJhmZmZUVFRERESIiIju7u4AAAAKhZlwAAAAAXRSTlMAQObYZgAA\n",
       "AjRJREFUWMPNWNl26yAMdMu+o///2aZeYhAykNT3trw49rFnGCENIsvyhwa3vz0DlX6O4VTzyKi7\n",
       "J5pTDN67xfqp11mo7sR7RJ4NhLkAEB4jSvWmEKPdug5+uw6HzNUdTOuqieRwxXRcLx7UO/hZin2i\n",
       "BqaSPFWJ6ARkMnjtE0TkzEAYg7RfwwwBxpf6eEXpqbjoEtJyT4dDNsSYKOuBsLQjOzAzBAjfA39O\n",
       "cqrEVJVC6UFPJorCUW6JIu8Li7tyofMEAcK3cM4zP8u5Tn9eTcCX4VN54UBXpqmtkyAyvi9sy0Ar\n",
       "Y54gwPienBYyulAiy+KDrM5KWEWLYoCvA9oQcdkV9iitlJIX5XfXBBhfkBWChOVQvKQLerWG6iqD\n",
       "eenTBBGuaSRsL7EswjJBgPEBKJ/5/BDV0EUdFT/Z9zYTIF5uK/KMAkHEoCvsKLEEboIA4+vznrOr\n",
       "FVtCQVkI235pebWRS3PGiiAaCDtMnjZFTIDxw7kL+ctU9OUq66eV8MO06BIQVdETRP1UZMdChdPu\n",
       "OgQY/yz9IrpIGKvsJ7rnFtZtPXggd9uCyHXN49jFSrvrEDT4bouHqlYldfb4w6TzwRfJ1sPi6bRE\n",
       "fbvfS4xpSbs9JmjwWZCPxpHPt/brctqoQa6NUQSQhC9G2/bOiAg3t6UwH7cOWMor52gIXhXStlRT\n",
       "HSUbt+KjluqnBC+fpMw9OCb98/PYi+Mi6V89BI6PLf972HAHSrB/Tthib/hrILU1km4U9gWFoxme\n",
       "61x0wwAAAABJRU5ErkJggg==\n",
       "\" style=\"display:inline;vertical-align:middle;\" /></a></td></tr>\n",
       "<tr><td>3</td><td>Operation</td><td>operator:&nbsp;8<br>operands:&nbsp;5<br></td><td><a class=\"ProveItLink\" href=\"../cc3b13257f5588456e49a05c8416d0590ae330be0/expr.ipynb\"><img src=\"data:image/png;base64,iVBORw0KGgoAAAANSUhEUgAAAD8AAAAPBAMAAAChCwpBAAAAMFBMVEX///92dnYQEBBERERUVFS6\n",
       "urqIiIhmZmaqqqrc3Nzu7u6YmJgyMjIiIiLMzMwAAACFkkdwAAAAAXRSTlMAQObYZgAAAOFJREFU\n",
       "GNNjYACBtwxYAFeyezVnAYR9HpsCoQ0MrEUbwEzu+wsQ+mCMNbeAhPwEMHtG/QS4Ah6Y2kMgRhCE\n",
       "nZAfAFfA6gCh2X+AyOkQsQX9GxBWi0Go+QdA5DoweynD+wQQXXsXBO5DHF6PpCeAYX4Bkut7wPbd\n",
       "RziLz8XF3wDZ/4dAKv6D2WAXszIwMB1AUvBGCkTqgwiOByCygYGBVwHhhrtWYGX+IM3sIBYnUAHP\n",
       "B4QBLRAK7G6wWWuAmPkXXJ4Tahs3MBzCQQ6drH+Sgdv+D9wbzDDXPzlS3oAtivjQ+AD0rD2U4WZv\n",
       "AQAAAABJRU5ErkJggg==\n",
       "\" style=\"display:inline;vertical-align:middle;\" /></a></td></tr>\n",
       "<tr><td>4</td><td>ExprTuple</td><td>6</td><td><a class=\"ProveItLink\" href=\"../d6589e123fc61db7c719f637a0dbba4c776d3c100/expr.ipynb\"><img src=\"data:image/png;base64,iVBORw0KGgoAAAANSUhEUgAAAE0AAAAVBAMAAADx+n4ZAAAAMFBMVEX////c3NwiIiJERESqqqqY\n",
       "mJh2dnZmZmYQEBDu7u4yMjJUVFTMzMyIiIi6uroAAAAs73DqAAAAAXRSTlMAQObYZgAAAWRJREFU\n",
       "KM9jYCAW8F0gqCQORJwG4uj/u3dbPcCigvPy9lLGAvYDQOZKEL+ZgYH9HxZ1GQEMfBUBDAsYGHhB\n",
       "1vL8BeLfCFNgjFmaQCJfgCGMgYFjApDJ+5GBgfUbXB3XBChjBYjxgoFhBgPDKxCfuYGBgakT4bUN\n",
       "EJr9C4gUB8o7MJSBmPwbGBgXT0A4KxdCyS8AkXMYGNgKGJaCmOf33i0KAEsVKYGAfgGYUx8A1cey\n",
       "gKEPRN8XYODURvanFziQ9AVgDmlgAIeGBUhtAHK4rQAp/A9mA93D8wGiDhQk8QlI6k5lgsh+sJ0H\n",
       "wOpaQMH3FUjsd0C4T8kSrHo/yGvsEHtNocHH+AvJOG8IdR4UByCTWRcwpEOD78RKhDLGBRCaFRh+\n",
       "z0F+AYbLI6DJ9r9371qKZBwzzJ+nV5eDXcP1gIFDADP2edAFgPHGmkBEGs2FpSv8gBPkXmnC6rhB\n",
       "bmMknO7vMDAAAIfVVKa6eW0EAAAAAElFTkSuQmCC\n",
       "\" style=\"display:inline;vertical-align:middle;\" /></a></td></tr>\n",
       "<tr><td>5</td><td>ExprTuple</td><td>7, 11</td><td><a class=\"ProveItLink\" href=\"../64d36ff9aa3116e2d1fb41c420506ad5fe919f950/expr.ipynb\"><img src=\"data:image/png;base64,iVBORw0KGgoAAAANSUhEUgAAADUAAAAVBAMAAAAUZLt1AAAAMFBMVEX////c3NwiIiJERESqqqqY\n",
       "mJh2dnZmZmYQEBDu7u4yMjJUVFTMzMyIiIi6uroAAAAs73DqAAAAAXRSTlMAQObYZgAAAS1JREFU\n",
       "KM9jYMAH+C5gFY4DEach7ENwUc7L20sZC9gPAJkrISLr4XIZAQx8FQEMCxgYeCFGsupPgErN0gQS\n",
       "+QIMYQwMHBAxkXoBqNwKkMALBoYZDAyvICIX7j+AMNi/gEhxBgZmB4YyiGMn+AdA5OQXgMg5DAxs\n",
       "BQxLwSLzGM5DvVIPVcPAsoChD8x4wCBfABHSh9nL18DwD0Tz7N693wAi9B9MAt3D8wEixwd07wKI\n",
       "XD/YvANguRYQ24GBgakBIrcf5AV2iJmmQIoRKMf1AWwSxE2ZoNBYwJAOCgogZv7JwPkJJAT033OQ\n",
       "e4B+eMTAINy/kIHV/lcBZz9I7PTqcgeQ4VwPGDgEkKILiQ0KM9YEBJcVOQJzEXGELscJ8pM0go+c\n",
       "ArhB5jNiTxN3GBgAYvhEoGDobKYAAAAASUVORK5CYII=\n",
       "\" style=\"display:inline;vertical-align:middle;\" /></a></td></tr>\n",
       "<tr><td>6</td><td>Operation</td><td>operator:&nbsp;8<br>operands:&nbsp;9<br></td><td><a class=\"ProveItLink\" href=\"../b28def066691faa1a2b9bd3088e0c4e44c7fe0ff0/expr.ipynb\"><img src=\"data:image/png;base64,iVBORw0KGgoAAAANSUhEUgAAAEEAAAAPBAMAAABJi79qAAAAMFBMVEX///+qqqru7u4iIiJ2dnbc\n",
       "3NyIiIjMzMxmZmYQEBC6uroyMjJERERUVFSYmJgAAADLUcuvAAAAAXRSTlMAQObYZgAAAPhJREFU\n",
       "GNNjYGB4+//u3dMLGDABU86NPtYGEGsOAwPHLywqPB8wcHU+ADLYvwHxX4ROGEPbCEj4BwAJtq8M\n",
       "DHxf4Cq4FaCMnSDGShCLZwIDA/MkuAquCxCa4yOIjAAR/BcYWPcoIKx3g1DxG0CkOoiov5bW/AAs\n",
       "2GwMAvZg5zP0P4DryQ9gYLJF9oM02Ov2AXCBkyBVD5DDYSdIyX8wG2w7yKPvHZBUVDuByPkggrEA\n",
       "FBz/gMR9AYQ7jA+B1d0HaedggAYH628kI2QhVH0CkHCCBUflJoQC1g0Qmg8YHitAruU4//fu7X1I\n",
       "RvDA/FC7t0OAARtgR+MDAAhbPiSyASIoAAAAAElFTkSuQmCC\n",
       "\" style=\"display:inline;vertical-align:middle;\" /></a></td></tr>\n",
       "<tr><td>7</td><td>Variable</td><td></td><td><a class=\"ProveItLink\" href=\"../../../../../__pv_it/2cbe72a7ad6f655694dd697106680215e8489b600/expr.ipynb\"><img src=\"data:image/png;base64,iVBORw0KGgoAAAANSUhEUgAAAA8AAAAOBAMAAAACpFvcAAAALVBMVEX///8QEBBERERUVFS6urqI\n",
       "iIhmZmaqqqrc3Nzu7u6YmJgyMjIiIiLMzMwAAADtIaYWAAAAAXRSTlMAQObYZgAAAFtJREFUCNdj\n",
       "YACBOwxQsA9Kc52bAGG05zVAGAFxDmCaZULdAjBjCsO9ADDDgaEvAUTzGhvbKYCVMDAwbgAxChgY\n",
       "eASANAeQwf0AyJgNxEwvGRia5HYwcOm9TgAA6BoR3jrzwFcAAAAASUVORK5CYII=\n",
       "\" style=\"display:inline;vertical-align:middle;\" /></a></td></tr>\n",
       "<tr><td>8</td><td>Literal</td><td></td><td><a class=\"ProveItLink\" href=\"../e5c030cabcb650938f92dee8256fe11cd12bf9b30/expr.ipynb\"><img src=\"data:image/png;base64,iVBORw0KGgoAAAANSUhEUgAAABMAAAANBAMAAAC5okgUAAAALVBMVEX////c3NxERETMzMwQEBCq\n",
       "qqoiIiJmZmaIiIh2dnZUVFS6uroyMjLu7u4AAACPpZJTAAAAAXRSTlMAQObYZgAAAD1JREFUCNdj\n",
       "YAABXgY44LkAZ3IvQAjPABFlaSCQV4AQjtkAZ/IegbNt5sLUpunC5aPgLMYDcCaTAJzJDCIA2yMN\n",
       "HCCUuIIAAAAASUVORK5CYII=\n",
       "\" style=\"display:inline;vertical-align:middle;\" /></a></td></tr>\n",
       "<tr><td>9</td><td>ExprTuple</td><td>10, 11</td><td><a class=\"ProveItLink\" href=\"../dad23c4ce051fb8a92f116e8b4d54eeb5e4476f70/expr.ipynb\"><img src=\"data:image/png;base64,iVBORw0KGgoAAAANSUhEUgAAADcAAAAVBAMAAAAQkWtIAAAAMFBMVEX////c3NwiIiJERESqqqqY\n",
       "mJh2dnZmZmYQEBDu7u4yMjJUVFTMzMyIiIi6uroAAAAs73DqAAAAAXRSTlMAQObYZgAAAUFJREFU\n",
       "KM9jYMAL+C5gF48DEaeBmHX/792b18GEOS9vL2UsYD8AZK4E8TkMGBjqH0AlMwIY+CoCGBYwMPCC\n",
       "TT0PJM9vgMjN0gQS+QIMYUA9E0AC9wUYGOITIJIrQCIvGBhmMDC8AgtYALEGWBkD+xcQKc7AwOzA\n",
       "UAYW+c3AIGUJ0Si/AETOYWBgK2BYCmLy/L57XRXqnPoAKINlAUMfiOb9yMAwCeoefQFYADQw/APR\n",
       "zA1ABV8hYv/BJNB+ng8QSX6gLtZvEMl+sJEHwJItYG8C7eH+ApHcD3I0O8RYU5g3ga7khIUHQyYo\n",
       "TBcwpEO9ydM1gWG+AkgMaMJzkKOAXnkEpIr/7969CmjyjI/gmFhd7gCiuR4wcAggRdND5DgDBh9r\n",
       "AhI/AFkyFxZlWCQ5QcEojeDzImvkBtnHiCOZ3GFgAADrEU9ADAe1sgAAAABJRU5ErkJggg==\n",
       "\" style=\"display:inline;vertical-align:middle;\" /></a></td></tr>\n",
       "<tr><td>10</td><td>Variable</td><td></td><td><a class=\"ProveItLink\" href=\"../../../../../__pv_it/077b2ff79244fb4582cbe22c6e3356fa92a52f2f0/expr.ipynb\"><img src=\"data:image/png;base64,iVBORw0KGgoAAAANSUhEUgAAABAAAAAOBAMAAADUAYG5AAAAMFBMVEX///+qqqru7u4iIiJ2dnbc\n",
       "3NyIiIjMzMxmZmYQEBC6uroyMjJERERUVFSYmJgAAADLUcuvAAAAAXRSTlMAQObYZgAAAGpJREFU\n",
       "CNdjYGB4+//u3dMLGIBgDgMDxy8gzf4NiP8CGWxfGRj4vgAZPBMYGJgnARn8FxhY9ygAGfXX0pof\n",
       "gDTlBzAw2YIYJ0EckBBI53sHoBH/gIz7AhBjWH9DjancBLTl/N+7t/cxMAAA3u4f/5xagjYAAAAA\n",
       "SUVORK5CYII=\n",
       "\" style=\"display:inline;vertical-align:middle;\" /></a></td></tr>\n",
       "<tr><td>11</td><td>Variable</td><td></td><td><a class=\"ProveItLink\" href=\"../../../../../__pv_it/985a1bdf1540838275dec15f4ad6de261cca93ce0/expr.ipynb\"><img src=\"data:image/png;base64,iVBORw0KGgoAAAANSUhEUgAAAA8AAAAOBAMAAAACpFvcAAAAMFBMVEX////MzMyqqqoiIiIyMjK6\n",
       "uroQEBB2dnbc3NyYmJhmZmZUVFRERESIiIju7u4AAAB204erAAAAAXRSTlMAQObYZgAAAGZJREFU\n",
       "CNdjYGDgu7NrJccCBgaGsgkMrMsmMDA8sQNy6hsYGNweABlhDAxcn4A0QxcDQ78DiPGQgWH9BAYI\n",
       "sG+AMv6DSaCGfBDNJMDAsB+kmwuI5S8AiTog5gSaEwXWIO29SgFIAQBC+RaDQlidVgAAAABJRU5E\n",
       "rkJggg==\n",
       "\" style=\"display:inline;vertical-align:middle;\" /></a></td></tr>\n",
       "</table>\n"
      ],
      "text/plain": [
       "0. forall_{C | B => C} (A => C)\n",
       "   core type: Operation\n",
       "   operator: 1\n",
       "   operand: 2\n",
       "1. forall\n",
       "   core type: Literal\n",
       "   sub-expressions: \n",
       "2. C -> (A => C) | B => C\n",
       "   core type: Lambda\n",
       "   parameter: 11\n",
       "   body: 3\n",
       "   conditions: 4\\n3. A => C\n",
       "   core type: Operation\n",
       "   operator: 8\n",
       "   operands: 5\n",
       "4. (B => C)\n",
       "   core type: ExprTuple\n",
       "   sub-expressions: 6\n",
       "5. (A , C)\n",
       "   core type: ExprTuple\n",
       "   sub-expressions: 7, 11\n",
       "6. B => C\n",
       "   core type: Operation\n",
       "   operator: 8\n",
       "   operands: 9\n",
       "7. A\n",
       "   core type: Variable\n",
       "   sub-expressions: \n",
       "8. =>\n",
       "   core type: Literal\n",
       "   sub-expressions: \n",
       "9. (B , C)\n",
       "   core type: ExprTuple\n",
       "   sub-expressions: 10, 11\n",
       "10. B\n",
       "    core type: Variable\n",
       "    sub-expressions: \n",
       "11. C\n",
       "    core type: Variable\n",
       "    sub-expressions: "
      ]
     },
     "execution_count": 4,
     "metadata": {},
     "output_type": "execute_result"
    }
   ],
   "source": [
    "# display the expression information\n",
    "expr.exprInfo()"
   ]
  },
  {
   "cell_type": "code",
   "execution_count": null,
   "metadata": {},
   "outputs": [],
   "source": []
  }
 ],
 "metadata": {
  "kernelspec": {
   "display_name": "Python 3",
   "language": "python",
   "name": "python3"
  }
 },
 "nbformat": 4,
 "nbformat_minor": 0
}
