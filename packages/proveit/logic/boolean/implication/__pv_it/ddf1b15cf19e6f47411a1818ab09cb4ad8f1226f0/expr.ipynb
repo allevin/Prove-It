{
 "cells": [
  {
   "cell_type": "markdown",
   "metadata": {},
   "source": [
    "Expression of type <a class=\"ProveItLink\" href=\"../../../../../../../doc/html/api/proveit.logic.Forall.html\">Forall</a>\n",
    "=======================\n",
    "# from context <a class=\"ProveItLink\" href=\"../../_context_.ipynb\">proveit.logic.boolean.implication</a>"
   ]
  },
  {
   "cell_type": "code",
   "execution_count": 1,
   "metadata": {},
   "outputs": [],
   "source": [
    "# import Expression classes needed to build the expression\n",
    "from proveit._common_ import A, B, C\n",
    "from proveit.logic import Forall, Iff"
   ]
  },
  {
   "cell_type": "code",
   "execution_count": 2,
   "metadata": {},
   "outputs": [
    {
     "data": {
      "text/html": [
       "<strong id=\"expr\">expr:</strong> <a class=\"ProveItLink\" href=\"expr.ipynb\"><img src=\"data:image/png;base64,iVBORw0KGgoAAAANSUhEUgAAAK8AAAAXBAMAAACPJQJeAAAAMFBMVEX///8QEBC6urrMzMxUVFRm\n",
       "ZmZERETc3NwyMjKqqqp2dnaIiIiYmJgiIiLu7u4AAAAU9Wx4AAAAAXRSTlMAQObYZgAAArpJREFU\n",
       "OMu1VE1oE0EU/vKz2aZptj21KqgR9CTYCPWiiEFb8WZFI1gE7cG0ItT1YIuIGIviQdBc2ptQ8WBV\n",
       "aAMWPRRk9SBSEeJBBbGaYESxUEXpn0rrezOTdIjBuEUfzJt5O2+/9z/A/6Ks+1/WV9R4SCvDhydu\n",
       "cH0xuWXKXVp3Ww6arUYUuMniZTfAVTLIqi/lLq858O5xkAS6STIPuwEeldvT+TJ3H98QG7YxJu0b\n",
       "KTfAqwQ3+2YKEdDapM7nOJo1QA6oudHTc8YNrjcptlDoqxZBwBZHY475SZLJ1elE4pUbYGNAbBuC\n",
       "P1Ut2ZAprZ0V2zuguhXYAXSwBy1tE2zWK9X7p+I7oxrcSHzonorcEdWP+H5IeePKcaJZUdFDjlIP\n",
       "koW1sIj7XgPt/Ckgb2rqEKpbxN3qIKBET0QkBOaUTInsKG8v87d2IV+kHEaI7DSSe/0asBGDd2Yx\n",
       "r9/ICdU6tQK4qbl5Wnher1ROcHcvFGbOR70YcsJZWCvowxYNOJyGQROQBzaTlKO8+tI6MLFlQsy3\n",
       "yia5xHy1SENUAlvJJko2d/ukBvw5iscU117AT9sw+6aG38O9GaT1TMpXxwWJJOxmHUOlAh3bycHi\n",
       "iCjgxtGRLrJXn0h0NgAvtDIGuECnaF1RdeIcWC/FeRtHNcQl4vboo5BrB0qAB4EHWd9REex9fNeA\n",
       "uZO43DiuQjhAyx+RJac+XmcrJXjIjIeArbQGfISykTK6hEu94ApMFAqZgdk+a+PRwgU1xpAPg6jp\n",
       "+biY4io2VMNDTamozmrAc6JRuuNEx4D9KkJBDaWvXaE8GuWKr91y4LqWCnMe5nP6fHFy8hPlNJdC\n",
       "dXFcxv5iPG8XT+9bbmU14MGp+K6UfFzybHdf21Dps/knspK/fwuUhvmhVMOMVQT225WAy9Lpihp3\n",
       "sCTgpZH/H+H8Ald3qAbrJvxbAAAAAElFTkSuQmCC\n",
       "\" style=\"display:inline;vertical-align:middle;\" /></a><br>"
      ],
      "text/plain": [
       "expr: forall_{C | B <=> C} (A <=> C)"
      ]
     },
     "execution_count": 2,
     "metadata": {},
     "output_type": "execute_result"
    }
   ],
   "source": [
    "# build up the expression from sub-expressions\n",
    "expr = Forall([C], Iff(A, C), conditions = [Iff(B, C)])"
   ]
  },
  {
   "cell_type": "code",
   "execution_count": 3,
   "metadata": {},
   "outputs": [
    {
     "name": "stdout",
     "output_type": "stream",
     "text": [
      "Passed sanity check: built 'expr' is the same as the stored Expression.\n"
     ]
    }
   ],
   "source": [
    "# check that the built expression is the same as the stored expression\n",
    "%check_expr"
   ]
  },
  {
   "cell_type": "code",
   "execution_count": 4,
   "metadata": {},
   "outputs": [
    {
     "data": {
      "text/html": [
       "<table><tr><th>&nbsp;</th><th>core type</th><th>sub-expressions</th><th>expression</th></tr>\n",
       "<tr><td>0</td><td>Operation</td><td>operator:&nbsp;1<br>operand:&nbsp;2<br></td><td><a class=\"ProveItLink\" href=\"expr.ipynb\"><img src=\"data:image/png;base64,iVBORw0KGgoAAAANSUhEUgAAAK8AAAAXBAMAAACPJQJeAAAAMFBMVEX///8QEBC6urrMzMxUVFRm\n",
       "ZmZERETc3NwyMjKqqqp2dnaIiIiYmJgiIiLu7u4AAAAU9Wx4AAAAAXRSTlMAQObYZgAAArpJREFU\n",
       "OMu1VE1oE0EU/vKz2aZptj21KqgR9CTYCPWiiEFb8WZFI1gE7cG0ItT1YIuIGIviQdBc2ptQ8WBV\n",
       "aAMWPRRk9SBSEeJBBbGaYESxUEXpn0rrezOTdIjBuEUfzJt5O2+/9z/A/6Ks+1/WV9R4SCvDhydu\n",
       "cH0xuWXKXVp3Ww6arUYUuMniZTfAVTLIqi/lLq858O5xkAS6STIPuwEeldvT+TJ3H98QG7YxJu0b\n",
       "KTfAqwQ3+2YKEdDapM7nOJo1QA6oudHTc8YNrjcptlDoqxZBwBZHY475SZLJ1elE4pUbYGNAbBuC\n",
       "P1Ut2ZAprZ0V2zuguhXYAXSwBy1tE2zWK9X7p+I7oxrcSHzonorcEdWP+H5IeePKcaJZUdFDjlIP\n",
       "koW1sIj7XgPt/Ckgb2rqEKpbxN3qIKBET0QkBOaUTInsKG8v87d2IV+kHEaI7DSSe/0asBGDd2Yx\n",
       "r9/ICdU6tQK4qbl5Wnher1ROcHcvFGbOR70YcsJZWCvowxYNOJyGQROQBzaTlKO8+tI6MLFlQsy3\n",
       "yia5xHy1SENUAlvJJko2d/ukBvw5iscU117AT9sw+6aG38O9GaT1TMpXxwWJJOxmHUOlAh3bycHi\n",
       "iCjgxtGRLrJXn0h0NgAvtDIGuECnaF1RdeIcWC/FeRtHNcQl4vboo5BrB0qAB4EHWd9REex9fNeA\n",
       "uZO43DiuQjhAyx+RJac+XmcrJXjIjIeArbQGfISykTK6hEu94ApMFAqZgdk+a+PRwgU1xpAPg6jp\n",
       "+biY4io2VMNDTamozmrAc6JRuuNEx4D9KkJBDaWvXaE8GuWKr91y4LqWCnMe5nP6fHFy8hPlNJdC\n",
       "dXFcxv5iPG8XT+9bbmU14MGp+K6UfFzybHdf21Dps/knspK/fwuUhvmhVMOMVQT225WAy9Lpihp3\n",
       "sCTgpZH/H+H8Ald3qAbrJvxbAAAAAElFTkSuQmCC\n",
       "\" style=\"display:inline;vertical-align:middle;\" /></a></td></tr>\n",
       "<tr><td>1</td><td>Literal</td><td></td><td><a class=\"ProveItLink\" href=\"../../../quantification/universal/__pv_it/265f8c02ac1094d56e0e6410a1c1fd3500dc9f540/expr.ipynb\"><img src=\"data:image/png;base64,iVBORw0KGgoAAAANSUhEUgAAAAwAAAAQBAMAAADQT4M0AAAAMFBMVEX///8QEBC6urrMzMxUVFRm\n",
       "ZmZERETc3NwyMjKqqqp2dnaIiIiYmJgiIiLu7u4AAAAU9Wx4AAAAAXRSTlMAQObYZgAAAFhJREFU\n",
       "CNdjeMAABhdAxGmGlSCqj6EMSLInMHAAJVknMPAsLy+vBYp8S0u7BaScGRjSgZQKA18DkOJl4D4A\n",
       "pLgP8IJM4mswARuX7gSmpoKNZWDcAKZ4gCoAgTQTILaSE58AAAAASUVORK5CYII=\n",
       "\" style=\"display:inline;vertical-align:middle;\" /></a></td></tr>\n",
       "<tr><td>2</td><td>Lambda</td><td>parameter:&nbsp;11<br>body:&nbsp;3<br>conditions:&nbsp;4<br></td><td><a class=\"ProveItLink\" href=\"../d3031ad3462c6504fb2faa1e327357a8ac1e786f0/expr.ipynb\"><img src=\"data:image/png;base64,iVBORw0KGgoAAAANSUhEUgAAANgAAAAVCAMAAAATiNC1AAAANlBMVEX///8UFBQNDQ3MzMyqqqoi\n",
       "IiIyMjK6uroQEBB2dnbc3NyYmJhmZmZUVFRERESIiIju7u4AAAAKhZlwAAAAAXRSTlMAQObYZgAA\n",
       "AkdJREFUWMPNWOu6nCAMtAUBuef9X/ZsFTSJKOwe2x7+uPrJTCY34k7TD1rS/m8LdPo+htOnR4t+\n",
       "2tCcYvDeTdYPvS4CuZs/I/KiI8wFgPBaUekPhSzGrXHw27W7VCZ3MKyLEqluxExcLx70J/hZzcXQ\n",
       "BYaSPJFEdDPkQXcyIrd0hAlI5Ro+wVemGqbNkIEGC7HSc3eUSAie15wom46wVJAdLCMEDN+D3I0c\n",
       "KjFNUii96HU7oJEKPhNFeS8sFuUzceUVAcO3cNiZBfNJbcPEAI/dp/MkgVSm2PdagtIgWvy9sC0D\n",
       "rYp5gIDje2g1DNboAkZWaEPWRyUUWmPmugB3mQaRVLfCXqWVUvIz3XdFwPHnZsNgwnJALxlEr1dX\n",
       "Iccn0jE1atQNIl7TTFgpsTzj1nFJwPEBNetjy+9fM1kG1RH6Kf4cMwHiDmAiNdWacEMk4FZYLbF0\n",
       "xOKGgOOb416Kq4hNAVEiYdsvg5I7kLKx6sjSBlFHWG3yuCleE3D8cJxC/jIVPY6y2VuJrE0L1w2J\n",
       "NNrXILpPRVEDFUAOEHD8o/SXfCVMkBM5uv0Ia40eck++jHW1iNxt86inGG53NwQnfLf5Q5Oo0CGX\n",
       "Tha1SefKF+no4WUjf5tE9+2+lJgwik02FwQnfBHUa3CU46P9Gk4bDah1MIoAypPJpgQ0nmZnRsSH\n",
       "WyzMx20CVsqdR6c2wbtCziNVZ6IsrSH3RsjuSPVdgre/pJZncJb017/H3lzqEVfl/mfLv142PIES\n",
       "7I8TNtkH/hpI4vzoQWFfSDQbPGQfw0cAAAAASUVORK5CYII=\n",
       "\" style=\"display:inline;vertical-align:middle;\" /></a></td></tr>\n",
       "<tr><td>3</td><td>Operation</td><td>operator:&nbsp;8<br>operands:&nbsp;5<br></td><td><a class=\"ProveItLink\" href=\"../e21a5671a49146e3cda19b952eed1e52f243a05c0/expr.ipynb\"><img src=\"data:image/png;base64,iVBORw0KGgoAAAANSUhEUgAAAD8AAAAPBAMAAAChCwpBAAAAMFBMVEX///92dnYQEBBERERUVFS6\n",
       "urqIiIhmZmaqqqrc3Nzu7u6YmJgyMjIiIiLMzMwAAACFkkdwAAAAAXRSTlMAQObYZgAAAP9JREFU\n",
       "GNNjYACBtwxYAFeyezVnAYR9HpsCoQ0MrEUbwEzu+wsw5dfcAhLyE8DsGfUQmoEHiJ9DFRwCaQqC\n",
       "sBPyAyCMNCBmhihm/wEip4PZrAv6IVbxHQASnAfA7Plgah2YvZThfQKY8Uj3LhD8ATuofgPCOQEM\n",
       "88G+YTsFMfAoiLw/AS7P5+LibwDytzJUYJIDkPgPZoINY2VgYAJbuAQSKpzHQKQ+iOB4ACIbGBh4\n",
       "FcBSvXfBAGy4P0gzO1gDUAHPB7ACDpDZXDfBbLC7pcAhBvL7L4jtFUDMAgkTbmA4hIPMmqx/koHb\n",
       "/g/EepDiyVCnPjlS3oAR/nxAvApVCAAHXkPskD0oeAAAAABJRU5ErkJggg==\n",
       "\" style=\"display:inline;vertical-align:middle;\" /></a></td></tr>\n",
       "<tr><td>4</td><td>ExprTuple</td><td>6</td><td><a class=\"ProveItLink\" href=\"../17987bd85b6a144bfdf9b00e898c6e446b3be5f70/expr.ipynb\"><img src=\"data:image/png;base64,iVBORw0KGgoAAAANSUhEUgAAAE0AAAAVBAMAAADx+n4ZAAAAMFBMVEX////c3NwiIiJERESqqqqY\n",
       "mJh2dnZmZmYQEBDu7u4yMjJUVFTMzMyIiIi6uroAAAAs73DqAAAAAXRSTlMAQObYZgAAAYBJREFU\n",
       "KM9jYCAW8F0gqCQORJwG4uj/u3dbPcCigvPy9lLGAvYDQOZKEL+ZgYH9HxZ1GQEMfBUBDAsYGHhB\n",
       "1vL8BeLfmMpmaQKJfAGGMAYGjglAJu9HBgbWbxA5LiA+DlW3AiT5goFhBgPDKxCfuYGBgakTIncX\n",
       "xBcAM9m/gEhxIN+BoQzE5N/AwLh4AliOB+gWBsYFYLY8mJrDwMBWwLAUxDy/925RAMS4E01KQPAL\n",
       "rKkeKsbAsoChD0TfF2Dg1AaL8K6EBOo6EKkvAAvjBgZwaFiA1II0czZDZSQ2AIn/YCbQaJ4PEHWg\n",
       "IIlPALFmF4DlGNeCyH6wnQfA6lpAbv8KJPY7gFU4KYEB2Mb9IFeyQ+w1hQYf4y+ok0EWciqC2edB\n",
       "cZAJxKwLGNKhwXdiJdRlJUDMDYlrVmD4PQeZDAyXR0CT7X/v3rUUHldALAxln15dDnYN1wMGDgG0\n",
       "OOUB4ploYsB4Y00gIo3mwtIVfsAJij9pwuq4QW5jJJzu7zAwAABH41pDi7QWjgAAAABJRU5ErkJg\n",
       "gg==\n",
       "\" style=\"display:inline;vertical-align:middle;\" /></a></td></tr>\n",
       "<tr><td>5</td><td>ExprTuple</td><td>7, 11</td><td><a class=\"ProveItLink\" href=\"../64d36ff9aa3116e2d1fb41c420506ad5fe919f950/expr.ipynb\"><img src=\"data:image/png;base64,iVBORw0KGgoAAAANSUhEUgAAADUAAAAVBAMAAAAUZLt1AAAAMFBMVEX////c3NwiIiJERESqqqqY\n",
       "mJh2dnZmZmYQEBDu7u4yMjJUVFTMzMyIiIi6uroAAAAs73DqAAAAAXRSTlMAQObYZgAAAS1JREFU\n",
       "KM9jYMAH+C5gFY4DEach7ENwUc7L20sZC9gPAJkrISLr4XIZAQx8FQEMCxgYeCFGsupPgErN0gQS\n",
       "+QIMYQwMHBAxkXoBqNwKkMALBoYZDAyvICIX7j+AMNi/gEhxBgZmB4YyiGMn+AdA5OQXgMg5DAxs\n",
       "BQxLwSLzGM5DvVIPVcPAsoChD8x4wCBfABHSh9nL18DwD0Tz7N693wAi9B9MAt3D8wEixwd07wKI\n",
       "XD/YvANguRYQ24GBgakBIrcf5AV2iJmmQIoRKMf1AWwSxE2ZoNBYwJAOCgogZv7JwPkJJAT033OQ\n",
       "e4B+eMTAINy/kIHV/lcBZz9I7PTqcgeQ4VwPGDgEkKILiQ0KM9YEBJcVOQJzEXGELscJ8pM0go+c\n",
       "ArhB5jNiTxN3GBgAYvhEoGDobKYAAAAASUVORK5CYII=\n",
       "\" style=\"display:inline;vertical-align:middle;\" /></a></td></tr>\n",
       "<tr><td>6</td><td>Operation</td><td>operator:&nbsp;8<br>operands:&nbsp;9<br></td><td><a class=\"ProveItLink\" href=\"../484b78cf8dc9defa336031a8ff4fcb5b68b81f190/expr.ipynb\"><img src=\"data:image/png;base64,iVBORw0KGgoAAAANSUhEUgAAAEEAAAAPBAMAAABJi79qAAAAMFBMVEX///+qqqru7u4iIiJ2dnbc\n",
       "3NyIiIjMzMxmZmYQEBC6uroyMjJERERUVFSYmJgAAADLUcuvAAAAAXRSTlMAQObYZgAAARRJREFU\n",
       "GNNjYGB4+//u3dMLGDABU86NPtYGEGsOAwPHLywqPB8wcHU+ADLYvwHxX0wF2kZAwj8ASLB9ZWDg\n",
       "+wIR5QbiCqiKnQpAYiWIxTOBgYF5EkQ0DcQPADM5PoLICBDBf4GBdY8CWJR9A5Bg3QBmx4MpdRBR\n",
       "fy2t+QHEiMrJxkDwG6y8/wHcRfkBDEy2YBbbJjDFtQtE2gfAVZwEqQJpYJoDFYm8ACT+g5lg40Ae\n",
       "fe8AYumCg4eBdRuInA8iGAtArvsHJO4LgOWEjcEAbP59kHYOBmhwsP6GGM8IMp7JFMyuTwASTrDg\n",
       "qNwEdUEjEPNC4ogPGB4rQKZxnP979/Y+eEgDcQyUXbu3QwAzLtiBWAlVCABer0Lhy+cU3AAAAABJ\n",
       "RU5ErkJggg==\n",
       "\" style=\"display:inline;vertical-align:middle;\" /></a></td></tr>\n",
       "<tr><td>7</td><td>Variable</td><td></td><td><a class=\"ProveItLink\" href=\"../../../../../__pv_it/2cbe72a7ad6f655694dd697106680215e8489b600/expr.ipynb\"><img src=\"data:image/png;base64,iVBORw0KGgoAAAANSUhEUgAAAA8AAAAOBAMAAAACpFvcAAAALVBMVEX///8QEBBERERUVFS6urqI\n",
       "iIhmZmaqqqrc3Nzu7u6YmJgyMjIiIiLMzMwAAADtIaYWAAAAAXRSTlMAQObYZgAAAFtJREFUCNdj\n",
       "YACBOwxQsA9Kc52bAGG05zVAGAFxDmCaZULdAjBjCsO9ADDDgaEvAUTzGhvbKYCVMDAwbgAxChgY\n",
       "eASANAeQwf0AyJgNxEwvGRia5HYwcOm9TgAA6BoR3jrzwFcAAAAASUVORK5CYII=\n",
       "\" style=\"display:inline;vertical-align:middle;\" /></a></td></tr>\n",
       "<tr><td>8</td><td>Literal</td><td></td><td><a class=\"ProveItLink\" href=\"../9817cf888369307f52607b98db5e99fdc17b089e0/expr.ipynb\"><img src=\"data:image/png;base64,iVBORw0KGgoAAAANSUhEUgAAABQAAAANBAMAAABbflNtAAAAKlBMVEX///+qqqpUVFS6urru7u4i\n",
       "IiIQEBDc3NxERESIiIhmZmbMzMwyMjIAAAAneYQxAAAAAXRSTlMAQObYZgAAAFpJREFUCNdjYEAB\n",
       "BxgYuBeAWZwTgEQ7mLkHRNSACO60UCCIPQJkznEAy9kYMLg1QPSyJzGwaEGYNUDNjKFgEA7iC4EI\n",
       "1wIQySUAJJTBqliAtrFDNW8AcoEmAgB4jw/0RzyxkgAAAABJRU5ErkJggg==\n",
       "\" style=\"display:inline;vertical-align:middle;\" /></a></td></tr>\n",
       "<tr><td>9</td><td>ExprTuple</td><td>10, 11</td><td><a class=\"ProveItLink\" href=\"../dad23c4ce051fb8a92f116e8b4d54eeb5e4476f70/expr.ipynb\"><img src=\"data:image/png;base64,iVBORw0KGgoAAAANSUhEUgAAADcAAAAVBAMAAAAQkWtIAAAAMFBMVEX////c3NwiIiJERESqqqqY\n",
       "mJh2dnZmZmYQEBDu7u4yMjJUVFTMzMyIiIi6uroAAAAs73DqAAAAAXRSTlMAQObYZgAAAUFJREFU\n",
       "KM9jYMAL+C5gF48DEaeBmHX/792b18GEOS9vL2UsYD8AZK4E8TkMGBjqH0AlMwIY+CoCGBYwMPCC\n",
       "TT0PJM9vgMjN0gQS+QIMYUA9E0AC9wUYGOITIJIrQCIvGBhmMDC8AgtYALEGWBkD+xcQKc7AwOzA\n",
       "UAYW+c3AIGUJ0Si/AETOYWBgK2BYCmLy/L57XRXqnPoAKINlAUMfiOb9yMAwCeoefQFYADQw/APR\n",
       "zA1ABV8hYv/BJNB+ng8QSX6gLtZvEMl+sJEHwJItYG8C7eH+ApHcD3I0O8RYU5g3ga7khIUHQyYo\n",
       "TBcwpEO9ydM1gWG+AkgMaMJzkKOAXnkEpIr/7969CmjyjI/gmFhd7gCiuR4wcAggRdND5DgDBh9r\n",
       "AhI/AFkyFxZlWCQ5QcEojeDzImvkBtnHiCOZ3GFgAADrEU9ADAe1sgAAAABJRU5ErkJggg==\n",
       "\" style=\"display:inline;vertical-align:middle;\" /></a></td></tr>\n",
       "<tr><td>10</td><td>Variable</td><td></td><td><a class=\"ProveItLink\" href=\"../../../../../__pv_it/077b2ff79244fb4582cbe22c6e3356fa92a52f2f0/expr.ipynb\"><img src=\"data:image/png;base64,iVBORw0KGgoAAAANSUhEUgAAABAAAAAOBAMAAADUAYG5AAAAMFBMVEX///+qqqru7u4iIiJ2dnbc\n",
       "3NyIiIjMzMxmZmYQEBC6uroyMjJERERUVFSYmJgAAADLUcuvAAAAAXRSTlMAQObYZgAAAGpJREFU\n",
       "CNdjYGB4+//u3dMLGIBgDgMDxy8gzf4NiP8CGWxfGRj4vgAZPBMYGJgnARn8FxhY9ygAGfXX0pof\n",
       "gDTlBzAw2YIYJ0EckBBI53sHoBH/gIz7AhBjWH9DjancBLTl/N+7t/cxMAAA3u4f/5xagjYAAAAA\n",
       "SUVORK5CYII=\n",
       "\" style=\"display:inline;vertical-align:middle;\" /></a></td></tr>\n",
       "<tr><td>11</td><td>Variable</td><td></td><td><a class=\"ProveItLink\" href=\"../../../../../__pv_it/985a1bdf1540838275dec15f4ad6de261cca93ce0/expr.ipynb\"><img src=\"data:image/png;base64,iVBORw0KGgoAAAANSUhEUgAAAA8AAAAOBAMAAAACpFvcAAAAMFBMVEX////MzMyqqqoiIiIyMjK6\n",
       "uroQEBB2dnbc3NyYmJhmZmZUVFRERESIiIju7u4AAAB204erAAAAAXRSTlMAQObYZgAAAGZJREFU\n",
       "CNdjYGDgu7NrJccCBgaGsgkMrMsmMDA8sQNy6hsYGNweABlhDAxcn4A0QxcDQ78DiPGQgWH9BAYI\n",
       "sG+AMv6DSaCGfBDNJMDAsB+kmwuI5S8AiTog5gSaEwXWIO29SgFIAQBC+RaDQlidVgAAAABJRU5E\n",
       "rkJggg==\n",
       "\" style=\"display:inline;vertical-align:middle;\" /></a></td></tr>\n",
       "</table>\n"
      ],
      "text/plain": [
       "0. forall_{C | B <=> C} (A <=> C)\n",
       "   core type: Operation\n",
       "   operator: 1\n",
       "   operand: 2\n",
       "1. forall\n",
       "   core type: Literal\n",
       "   sub-expressions: \n",
       "2. C -> (A <=> C) | B <=> C\n",
       "   core type: Lambda\n",
       "   parameter: 11\n",
       "   body: 3\n",
       "   conditions: 4\\n3. A <=> C\n",
       "   core type: Operation\n",
       "   operator: 8\n",
       "   operands: 5\n",
       "4. (B <=> C)\n",
       "   core type: ExprTuple\n",
       "   sub-expressions: 6\n",
       "5. (A , C)\n",
       "   core type: ExprTuple\n",
       "   sub-expressions: 7, 11\n",
       "6. B <=> C\n",
       "   core type: Operation\n",
       "   operator: 8\n",
       "   operands: 9\n",
       "7. A\n",
       "   core type: Variable\n",
       "   sub-expressions: \n",
       "8. <=>\n",
       "   core type: Literal\n",
       "   sub-expressions: \n",
       "9. (B , C)\n",
       "   core type: ExprTuple\n",
       "   sub-expressions: 10, 11\n",
       "10. B\n",
       "    core type: Variable\n",
       "    sub-expressions: \n",
       "11. C\n",
       "    core type: Variable\n",
       "    sub-expressions: "
      ]
     },
     "execution_count": 4,
     "metadata": {},
     "output_type": "execute_result"
    }
   ],
   "source": [
    "# display the expression information\n",
    "expr.exprInfo()"
   ]
  },
  {
   "cell_type": "code",
   "execution_count": null,
   "metadata": {},
   "outputs": [],
   "source": []
  }
 ],
 "metadata": {
  "kernelspec": {
   "display_name": "Python 3",
   "language": "python",
   "name": "python3"
  }
 },
 "nbformat": 4,
 "nbformat_minor": 0
}
