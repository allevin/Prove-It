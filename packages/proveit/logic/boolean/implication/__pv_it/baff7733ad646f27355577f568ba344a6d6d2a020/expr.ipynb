{
 "cells": [
  {
   "cell_type": "markdown",
   "metadata": {},
   "source": [
    "Expression of type <a class=\"ProveItLink\" href=\"../../../../../../../doc/html/api/proveit.Lambda.html\">Lambda</a>\n",
    "=======================\n",
    "# from context <a class=\"ProveItLink\" href=\"../../_context_.ipynb\">proveit.logic.boolean.implication</a>"
   ]
  },
  {
   "cell_type": "code",
   "execution_count": 1,
   "metadata": {},
   "outputs": [],
   "source": [
    "# import Expression classes needed to build the expression\n",
    "from proveit import Lambda\n",
    "from proveit._common_ import A, B\n",
    "from proveit.logic import Forall, Iff"
   ]
  },
  {
   "cell_type": "code",
   "execution_count": 2,
   "metadata": {},
   "outputs": [
    {
     "data": {
      "text/html": [
       "<strong id=\"expr\">expr:</strong> <a class=\"ProveItLink\" href=\"expr.ipynb\"><img src=\"data:image/png;base64,iVBORw0KGgoAAAANSUhEUgAAANUAAAAZCAMAAACRtJt+AAAANlBMVEX///92dnYUFBQNDQ0QEBBE\n",
       "RERUVFS6urqIiIhmZmaqqqrc3Nzu7u6YmJgyMjIiIiLMzMwAAACuIkBbAAAAAXRSTlMAQObYZgAA\n",
       "AmlJREFUWMPlmO2ynCAMhrUlQPjO/d9sBVQQ5Syeru1Omz/OrGbhMXmT4DTdN/De6+nPmljWnB9d\n",
       "wU9/xTT/P6iUfjeV+QCqWbz2Cv4OVXnYymcoLCfii4ETN6haCkd3qGa1+z0WNgbpgiTGqRoK68nc\n",
       "oNKwJQY8BRVIrlc+TNVQaIWk71SLLUSonqKS64YszaNULYVc/kTcobKzTvZcRQS2rsfMKFVDIcyk\n",
       "yJbsPFZQdVXZCaI92BvXxHNgRqtFQ2FESeOLlsTNBRUP6YXmgCsgROQQqiXOSu6k+IVzlpOUEr0d\n",
       "ruwtRbytCXtUhuszlYirmC2qNqWLZFUCnZTcTfGzc5GV8XyUqqEIsS9wKvv4+cMfjNUb8tVVbm8S\n",
       "05qi0mpLZbBKjqOdnStZydXtJVVLke8y1x2KuLiYmCKR33LTp8Cj78dqNh630KdNFEWenXdZ7SXw\n",
       "NVVDobZa06NCfTUHLtkXtpUMRVHYWjkNVZATrD9hFtCe1hfOUSBrZDmpIaqGQqtTW/bthi6nW9B7\n",
       "DAUtyuZQV5WGiu/BmFmqnuCY7jqXbqXJDemqodgFD6UtHzFMZ2ZXJWdml1VvelRWxY3GVwSqFCFp\n",
       "Os67rALb2v3XVEcKDYxS6C0QObx3EmE7PWBOJdWhWjSFmBbEKiYqD64XzsuzabR1zo7M7N+g6FPZ\n",
       "fYN5R4JChyopM6TbGnA1kF3nt51EfufUqFPyao8dXYn8xnMBME6baLPtO38C1ezScOAOkxVUTTw1\n",
       "Ec0pDwoBS33vOH9ErC6H0y/OGInq5vn846nedMKX/yTVe78xjX0PfOsm4vfA8T/8BQArHMAmHYAJ\n",
       "AAAAAElFTkSuQmCC\n",
       "\" style=\"display:inline;vertical-align:middle;\" /></a><br>"
      ],
      "text/plain": [
       "expr: A -> [forall_{B | A <=> B} B] | A"
      ]
     },
     "execution_count": 2,
     "metadata": {},
     "output_type": "execute_result"
    }
   ],
   "source": [
    "# build up the expression from sub-expressions\n",
    "expr = Lambda(A, Forall([B], B, conditions = [Iff(A, B)]), conditions = [A])"
   ]
  },
  {
   "cell_type": "code",
   "execution_count": 3,
   "metadata": {},
   "outputs": [
    {
     "name": "stdout",
     "output_type": "stream",
     "text": [
      "Passed sanity check: built 'expr' is the same as the stored Expression.\n"
     ]
    }
   ],
   "source": [
    "# check that the built expression is the same as the stored expression\n",
    "%check_expr"
   ]
  },
  {
   "cell_type": "code",
   "execution_count": 4,
   "metadata": {},
   "outputs": [
    {
     "data": {
      "text/html": [
       "<table><tr><th>&nbsp;</th><th>core type</th><th>sub-expressions</th><th>expression</th></tr>\n",
       "<tr><td>0</td><td>Lambda</td><td>parameter:&nbsp;9<br>body:&nbsp;1<br>conditions:&nbsp;2<br></td><td><a class=\"ProveItLink\" href=\"expr.ipynb\"><img src=\"data:image/png;base64,iVBORw0KGgoAAAANSUhEUgAAANUAAAAZCAMAAACRtJt+AAAANlBMVEX///92dnYUFBQNDQ0QEBBE\n",
       "RERUVFS6urqIiIhmZmaqqqrc3Nzu7u6YmJgyMjIiIiLMzMwAAACuIkBbAAAAAXRSTlMAQObYZgAA\n",
       "AmlJREFUWMPlmO2ynCAMhrUlQPjO/d9sBVQQ5Syeru1Omz/OrGbhMXmT4DTdN/De6+nPmljWnB9d\n",
       "wU9/xTT/P6iUfjeV+QCqWbz2Cv4OVXnYymcoLCfii4ETN6haCkd3qGa1+z0WNgbpgiTGqRoK68nc\n",
       "oNKwJQY8BRVIrlc+TNVQaIWk71SLLUSonqKS64YszaNULYVc/kTcobKzTvZcRQS2rsfMKFVDIcyk\n",
       "yJbsPFZQdVXZCaI92BvXxHNgRqtFQ2FESeOLlsTNBRUP6YXmgCsgROQQqiXOSu6k+IVzlpOUEr0d\n",
       "ruwtRbytCXtUhuszlYirmC2qNqWLZFUCnZTcTfGzc5GV8XyUqqEIsS9wKvv4+cMfjNUb8tVVbm8S\n",
       "05qi0mpLZbBKjqOdnStZydXtJVVLke8y1x2KuLiYmCKR33LTp8Cj78dqNh630KdNFEWenXdZ7SXw\n",
       "NVVDobZa06NCfTUHLtkXtpUMRVHYWjkNVZATrD9hFtCe1hfOUSBrZDmpIaqGQqtTW/bthi6nW9B7\n",
       "DAUtyuZQV5WGiu/BmFmqnuCY7jqXbqXJDemqodgFD6UtHzFMZ2ZXJWdml1VvelRWxY3GVwSqFCFp\n",
       "Os67rALb2v3XVEcKDYxS6C0QObx3EmE7PWBOJdWhWjSFmBbEKiYqD64XzsuzabR1zo7M7N+g6FPZ\n",
       "fYN5R4JChyopM6TbGnA1kF3nt51EfufUqFPyao8dXYn8xnMBME6baLPtO38C1ezScOAOkxVUTTw1\n",
       "Ec0pDwoBS33vOH9ErC6H0y/OGInq5vn846nedMKX/yTVe78xjX0PfOsm4vfA8T/8BQArHMAmHYAJ\n",
       "AAAAAElFTkSuQmCC\n",
       "\" style=\"display:inline;vertical-align:middle;\" /></a></td></tr>\n",
       "<tr><td>1</td><td>Operation</td><td>operator:&nbsp;3<br>operand:&nbsp;4<br></td><td><a class=\"ProveItLink\" href=\"../19a77e13920e6e9b0552fb6800b1d9a6b5615f3c0/expr.ipynb\"><img src=\"data:image/png;base64,iVBORw0KGgoAAAANSUhEUgAAAG4AAAAWBAMAAADTBLRkAAAAMFBMVEX///8QEBC6urrMzMxUVFRm\n",
       "ZmZERETc3NwyMjKqqqp2dnaIiIiYmJgiIiLu7u4AAAAU9Wx4AAAAAXRSTlMAQObYZgAAAcdJREFU\n",
       "OMudlDEsA2EUx/96ztHenU5sYjBKWgmLpQ2NSAxtojdKiDhEojfVJMSgkQgWZhsWqcTWhEoMxMCg\n",
       "C4YbKhIDCdWigvfdBV+TJnq95Hvfey/f73vv3nt3MFHdc8HEmQPg+CsUmmjFDtNXnERqAsQnxEmT\n",
       "hh1gQpFWDvX0guKaA85TAOR3yFszM7NO0qzzAkoLkNf1KydcYxDSIiXZC4wDDTEtOmr5W38OJLjD\n",
       "Gy9an99WAwOpoTTtbVDnaTsC9iz/T43kJ46TvfB4bfXQgHpJuwIPw6OAz+C52w+OE4NwFWx1hLFE\n",
       "eNIKm5lrYKgk3m6GRBboZoaShHhh+3O0zjdBWXaSpj5DTvCckNRJDgK1LItHP04M28/SCLPGjfeQ\n",
       "cBVTfSbP1bLw7iZdn2gmy5fan/5rn/TKtHWWgHsecgvPneIQwiTTsgfANhXO/G1fhzWXNUlmRqC+\n",
       "cZya0WKmaMVoWADGKFVrqMRYLtS/bNeYXdS4Btczx4kGAn7ENXqmyKQrff5yUzBnYjbCce10VRpq\n",
       "4uHhnmoufULKlMPcq1p0CX9cNg8pfAN0Wa3A9ovW/9/sl3xTAnBX4dwOV/njqJYLVnTqG6NBdU81\n",
       "84q4AAAAAElFTkSuQmCC\n",
       "\" style=\"display:inline;vertical-align:middle;\" /></a></td></tr>\n",
       "<tr><td>2</td><td>ExprTuple</td><td>9</td><td><a class=\"ProveItLink\" href=\"../b7d96af9ad4b1093cdfbc7f0db04afd2340d5b5e0/expr.ipynb\"><img src=\"data:image/png;base64,iVBORw0KGgoAAAANSUhEUgAAABwAAAAVBAMAAACnLJNvAAAAMFBMVEX////c3NwiIiJERESqqqqY\n",
       "mJh2dnZmZmYQEBDu7u4yMjJUVFTMzMyIiIi6uroAAAAs73DqAAAAAXRSTlMAQObYZgAAAMBJREFU\n",
       "GNNjYEADfBdgLNYHQOI0hH0IiGuAeCWEux6IuRgYeCFqWfUnAIkEBo4JYK5IvQADA2cDwyuI2gv3\n",
       "QeaYMJRBjJ/gHwCk0hmWgrnzGM6DzPBi6ANzHzDIFwCpFwz/QDye3bv3GwDp8xAuHwMDxwIwtwXE\n",
       "dWBgYGoAKzYFkoxALtcHICMKaDYDwywgZv4JtugRA4Nw/0IGVvtfQKPXMXAIIPwKdCTQ2XDAdgHu\n",
       "QQaoGdII7kaQLfDA4T3AAAAlziv4kp0h2wAAAABJRU5ErkJggg==\n",
       "\" style=\"display:inline;vertical-align:middle;\" /></a></td></tr>\n",
       "<tr><td>3</td><td>Literal</td><td></td><td><a class=\"ProveItLink\" href=\"../../../quantification/universal/__pv_it/265f8c02ac1094d56e0e6410a1c1fd3500dc9f540/expr.ipynb\"><img src=\"data:image/png;base64,iVBORw0KGgoAAAANSUhEUgAAAAwAAAAQBAMAAADQT4M0AAAAMFBMVEX///8QEBC6urrMzMxUVFRm\n",
       "ZmZERETc3NwyMjKqqqp2dnaIiIiYmJgiIiLu7u4AAAAU9Wx4AAAAAXRSTlMAQObYZgAAAFhJREFU\n",
       "CNdjeMAABhdAxGmGlSCqj6EMSLInMHAAJVknMPAsLy+vBYp8S0u7BaScGRjSgZQKA18DkOJl4D4A\n",
       "pLgP8IJM4mswARuX7gSmpoKNZWDcAKZ4gCoAgTQTILaSE58AAAAASUVORK5CYII=\n",
       "\" style=\"display:inline;vertical-align:middle;\" /></a></td></tr>\n",
       "<tr><td>4</td><td>Lambda</td><td>parameter:&nbsp;10<br>body:&nbsp;10<br>conditions:&nbsp;5<br></td><td><a class=\"ProveItLink\" href=\"../0320fbe8c64f2b30197782b294a2c120e7329db70/expr.ipynb\"><img src=\"data:image/png;base64,iVBORw0KGgoAAAANSUhEUgAAAJUAAAAVCAMAAAB4zFylAAAANlBMVEX///8UFBQNDQ2qqqru7u4i\n",
       "IiJ2dnbc3NyIiIjMzMxmZmYQEBC6uroyMjJERERUVFSYmJgAAAC3B9V0AAAAAXRSTlMAQObYZgAA\n",
       "AX9JREFUSMftlt2SgyAMhd0FmgAGzPu/7NpVWgKxMlOnsxebG0bHc/wgPzpNl4WB6Q/Gbb7Wb8nM\n",
       "eY1E8xsClcq7NyBi+l0Cj+5XEahUxOOH03p6xn3NYwaaQKNaHNtRqM4TeavUhW9jDppAoQITuOkB\n",
       "2hHCuWeK2+ri4M40gUKF66vkXcTiAKee25kBJdtsqTS9aRx6gUY128nwIrL08AWaTjzXTCJicJVB\n",
       "0zrZNiXQCRQqOz+LZdfF6EownXjuGbUuH1HZDEoJ1AKF6n4NXBUQCpBZzqHOs2QUn8f9/eVERFEf\n",
       "iqCn8vfpkzk9dhZT0wsxv/IsrVh1VDv88tyXQNOzLdV2Gak6cNF4QPjK0xe6zOaAKoAsgV7QUZnS\n",
       "UfU9cf6vPcugAKaDuvKoTpZa0FKB0Ya7eeTMSqjec8+oj1UxSgyrThYhaKhs4U1yuAejlkTnGdL2\n",
       "VSRaxibokaCighSZ7ntf1mcpKLSQhjw/9Sfjdzo7fSau/r/6p/p04HVUPwHZFTlofxjyAAAAAElF\n",
       "TkSuQmCC\n",
       "\" style=\"display:inline;vertical-align:middle;\" /></a></td></tr>\n",
       "<tr><td>5</td><td>ExprTuple</td><td>6</td><td><a class=\"ProveItLink\" href=\"../af9df9aa386659ef3e5d68da3bbc5ea809ec016f0/expr.ipynb\"><img src=\"data:image/png;base64,iVBORw0KGgoAAAANSUhEUgAAAE0AAAAVBAMAAADx+n4ZAAAAMFBMVEX////c3NwiIiJERESqqqqY\n",
       "mJh2dnZmZmYQEBDu7u4yMjJUVFTMzMyIiIi6uroAAAAs73DqAAAAAXRSTlMAQObYZgAAAXdJREFU\n",
       "KM+NUj1Iw1AQ/qKNaWpaAzrVQezq0DoI4tLuDjq5CNrNSSgOrhZ0UAQtTsVBItLBSTfBoBUn0aGd\n",
       "RWlw7FQHBVus3r0LFkqwfZB7l7vv3X33A/R7YtWekBUWT6LfBwGWf1x3zoNxR/q5mC4CI20DRhtw\n",
       "gKik1ZOFAJj1TV8LWALC4h/bsn0fvbVyvh59pwifQBGoi6Va83wXx5/2cYN5YGCP7gw2pejCwqK4\n",
       "HlnEfdzIJbQzSjiUQ0kZTlARntZugk7SL65y87rB70MODpTBw4Rweha6dWFRs2FOcbo82iqK65ZT\n",
       "rBRTEkjbV9csYymg1RBcjOp2WDGvBBcXFtQSrGYVbof/M1RWXnlCCXUmhewHiXJG5Z3hLKRGGhJp\n",
       "nsWR/dc+rclTcLBG1zG36ktwBr3Bbad9D1w69eUNGD08hZ5uSsEm8dSkGiPdcq9V3yIewnbXTGk3\n",
       "zO5Z09z0bB87ut7Zq/8Oc8F4b9wwc9N67/0L8Av06VmxMv674wAAAABJRU5ErkJggg==\n",
       "\" style=\"display:inline;vertical-align:middle;\" /></a></td></tr>\n",
       "<tr><td>6</td><td>Operation</td><td>operator:&nbsp;7<br>operands:&nbsp;8<br></td><td><a class=\"ProveItLink\" href=\"../60a870658ecf77b4b2ca5e56543d5830b362e85b0/expr.ipynb\"><img src=\"data:image/png;base64,iVBORw0KGgoAAAANSUhEUgAAAEAAAAAPBAMAAACmSdRUAAAAMFBMVEX///92dnYQEBBERERUVFS6\n",
       "urqIiIhmZmaqqqrc3Nzu7u6YmJgyMjIiIiLMzMwAAACFkkdwAAAAAXRSTlMAQObYZgAAAQhJREFU\n",
       "GNNjYACBtwxYwJb/Li42ARD2eWwKGJQZGNi/glnc9xdgkef7BsRfwMwZ9ROgggeAYgVQNttPoNaP\n",
       "YGZCPtQqtgQgYQlVwKzAwMCrBWKxLujfABF7AyLmQBXwOzBwHgbbvZThfQLEVqW7QHD/FETBe7e0\n",
       "WojGAIb5EHtzIG6NgViYP4GB6wpYn4uLvwGIscgAopVTBUwZgRSBjGBlYGA6ABLhcocomAOxEOTD\n",
       "/QJAogHoWAWwEMddMLgJcdBvIOEPlOQEYp4PEL0tIGLtBHgwcP4BMtaAvPwLooAdqJjBFREMj4Ae\n",
       "mqx/koHb/g/EG1xAt3BCnMpu/8XF5zRG+D8AKkKNFwBxhUYQlN1g7wAAAABJRU5ErkJggg==\n",
       "\" style=\"display:inline;vertical-align:middle;\" /></a></td></tr>\n",
       "<tr><td>7</td><td>Literal</td><td></td><td><a class=\"ProveItLink\" href=\"../9817cf888369307f52607b98db5e99fdc17b089e0/expr.ipynb\"><img src=\"data:image/png;base64,iVBORw0KGgoAAAANSUhEUgAAABQAAAANBAMAAABbflNtAAAAKlBMVEX///+qqqpUVFS6urru7u4i\n",
       "IiIQEBDc3NxERESIiIhmZmbMzMwyMjIAAAAneYQxAAAAAXRSTlMAQObYZgAAAFpJREFUCNdjYEAB\n",
       "BxgYuBeAWZwTgEQ7mLkHRNSACO60UCCIPQJkznEAy9kYMLg1QPSyJzGwaEGYNUDNjKFgEA7iC4EI\n",
       "1wIQySUAJJTBqliAtrFDNW8AcoEmAgB4jw/0RzyxkgAAAABJRU5ErkJggg==\n",
       "\" style=\"display:inline;vertical-align:middle;\" /></a></td></tr>\n",
       "<tr><td>8</td><td>ExprTuple</td><td>9, 10</td><td><a class=\"ProveItLink\" href=\"../caee09fb4b5c95b986a9cee46a014afbad9bdc680/expr.ipynb\"><img src=\"data:image/png;base64,iVBORw0KGgoAAAANSUhEUgAAADUAAAAVBAMAAAAUZLt1AAAAMFBMVEX////c3NwiIiJERESqqqqY\n",
       "mJh2dnZmZmYQEBDu7u4yMjJUVFTMzMyIiIi6uroAAAAs73DqAAAAAXRSTlMAQObYZgAAATZJREFU\n",
       "KM9jYMAH+C5gFY4DEach7EMwQdb9v3dvXsfAfgDIXgkRWg/XwWHAwFD/gGEBAwMvxEhW/QkwufNA\n",
       "kfMbGMKAqiBiIvUCMLn7QFZ8AsMMBoZXEIEL9x/A5CyAWGMCA7MDQxnEsRP8A2ByvxkYpCwZGNgK\n",
       "GJaC+fPAtoABz++711WBNMsChj6wwAMG+QKoHO9HBoZJG4BGNTD8A6vdvXu/AVSOuQEo/xUo9gEi\n",
       "xwd07wKoHD9QD+s3sFwLiO/AwMDUAPMe0FHcX8BmmgK5jEA5rg8MDBNg3pMHGsK6gCEdyJ0FsuYn\n",
       "A+cnqPd4uiaA/fCIgUG4fyEDq/2vAs5+oJbi/7t3rwL5lesBA4cAUnQhsUFhxpqA4LIiR2AuIo7Q\n",
       "5ThBfpJG8JFTADfIfEbsaeIOAwMABOxNRsfkiy0AAAAASUVORK5CYII=\n",
       "\" style=\"display:inline;vertical-align:middle;\" /></a></td></tr>\n",
       "<tr><td>9</td><td>Variable</td><td></td><td><a class=\"ProveItLink\" href=\"../../../../../__pv_it/2cbe72a7ad6f655694dd697106680215e8489b600/expr.ipynb\"><img src=\"data:image/png;base64,iVBORw0KGgoAAAANSUhEUgAAAA8AAAAOBAMAAAACpFvcAAAALVBMVEX///8QEBBERERUVFS6urqI\n",
       "iIhmZmaqqqrc3Nzu7u6YmJgyMjIiIiLMzMwAAADtIaYWAAAAAXRSTlMAQObYZgAAAFtJREFUCNdj\n",
       "YACBOwxQsA9Kc52bAGG05zVAGAFxDmCaZULdAjBjCsO9ADDDgaEvAUTzGhvbKYCVMDAwbgAxChgY\n",
       "eASANAeQwf0AyJgNxEwvGRia5HYwcOm9TgAA6BoR3jrzwFcAAAAASUVORK5CYII=\n",
       "\" style=\"display:inline;vertical-align:middle;\" /></a></td></tr>\n",
       "<tr><td>10</td><td>Variable</td><td></td><td><a class=\"ProveItLink\" href=\"../../../../../__pv_it/077b2ff79244fb4582cbe22c6e3356fa92a52f2f0/expr.ipynb\"><img src=\"data:image/png;base64,iVBORw0KGgoAAAANSUhEUgAAABAAAAAOBAMAAADUAYG5AAAAMFBMVEX///+qqqru7u4iIiJ2dnbc\n",
       "3NyIiIjMzMxmZmYQEBC6uroyMjJERERUVFSYmJgAAADLUcuvAAAAAXRSTlMAQObYZgAAAGpJREFU\n",
       "CNdjYGB4+//u3dMLGIBgDgMDxy8gzf4NiP8CGWxfGRj4vgAZPBMYGJgnARn8FxhY9ygAGfXX0pof\n",
       "gDTlBzAw2YIYJ0EckBBI53sHoBH/gIz7AhBjWH9DjancBLTl/N+7t/cxMAAA3u4f/5xagjYAAAAA\n",
       "SUVORK5CYII=\n",
       "\" style=\"display:inline;vertical-align:middle;\" /></a></td></tr>\n",
       "</table>\n"
      ],
      "text/plain": [
       "0. A -> [forall_{B | A <=> B} B] | A\n",
       "   core type: Lambda\n",
       "   parameter: 9\n",
       "   body: 1\n",
       "   conditions: 2\\n1. forall_{B | A <=> B} B\n",
       "   core type: Operation\n",
       "   operator: 3\n",
       "   operand: 4\n",
       "2. (A)\n",
       "   core type: ExprTuple\n",
       "   sub-expressions: 9\n",
       "3. forall\n",
       "   core type: Literal\n",
       "   sub-expressions: \n",
       "4. B -> B | A <=> B\n",
       "   core type: Lambda\n",
       "   parameter: 10\n",
       "   body: 10\n",
       "   conditions: 5\\n5. (A <=> B)\n",
       "   core type: ExprTuple\n",
       "   sub-expressions: 6\n",
       "6. A <=> B\n",
       "   core type: Operation\n",
       "   operator: 7\n",
       "   operands: 8\n",
       "7. <=>\n",
       "   core type: Literal\n",
       "   sub-expressions: \n",
       "8. (A , B)\n",
       "   core type: ExprTuple\n",
       "   sub-expressions: 9, 10\n",
       "9. A\n",
       "   core type: Variable\n",
       "   sub-expressions: \n",
       "10. B\n",
       "    core type: Variable\n",
       "    sub-expressions: "
      ]
     },
     "execution_count": 4,
     "metadata": {},
     "output_type": "execute_result"
    }
   ],
   "source": [
    "# display the expression information\n",
    "expr.exprInfo()"
   ]
  },
  {
   "cell_type": "code",
   "execution_count": null,
   "metadata": {},
   "outputs": [],
   "source": []
  }
 ],
 "metadata": {
  "kernelspec": {
   "display_name": "Python 3",
   "language": "python",
   "name": "python3"
  }
 },
 "nbformat": 4,
 "nbformat_minor": 0
}
