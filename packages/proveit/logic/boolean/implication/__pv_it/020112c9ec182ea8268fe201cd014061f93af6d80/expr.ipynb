{
 "cells": [
  {
   "cell_type": "markdown",
   "metadata": {},
   "source": [
    "Expression of type <a class=\"ProveItLink\" href=\"../../../../../../../doc/html/api/proveit.logic.Not.html\">Not</a>\n",
    "=======================\n",
    "# from context <a class=\"ProveItLink\" href=\"../../_context_.ipynb\">proveit.logic.boolean.implication</a>"
   ]
  },
  {
   "cell_type": "code",
   "execution_count": 1,
   "metadata": {},
   "outputs": [],
   "source": [
    "# import Expression classes needed to build the expression\n",
    "from proveit._common_ import A, B\n",
    "from proveit.logic import And, Implies, Not"
   ]
  },
  {
   "cell_type": "code",
   "execution_count": 2,
   "metadata": {},
   "outputs": [
    {
     "data": {
      "text/html": [
       "<strong id=\"expr\">expr:</strong> <a class=\"ProveItLink\" href=\"expr.ipynb\"><img src=\"data:image/png;base64,iVBORw0KGgoAAAANSUhEUgAAANcAAAAVBAMAAAAnc2Y5AAAAMFBMVEX////c3NxERESqqqqYmJgQ\n",
       "EBDu7u4yMjKIiIi6urpUVFTMzMx2dnYiIiJmZmYAAABjE816AAAAAXRSTlMAQObYZgAAAntJREFU\n",
       "SMfFlc9rE0EUx7/bTTeJ+WGwNy96aPWY3AQPWjypVAwWlJ7cSxBvUbRHzTHgoTnVk9Cbdj1UCiIE\n",
       "pD1JTtKLPYil/QMs/kAaU8T6ZubtzuzOavbmgy+78775ZCZv5k2A/xPFjtKYuJLGZWDiXJ9F8TaN\n",
       "uHoUBGd7qL5K5PvaS4vSFiQT5xZZFI9TsRtEjIC2Gjm+wYVeSuS/QjFtI1noKFHkdv0o7ekl/iQd\n",
       "AnP8JXuaizwLAq4dQDFzRnLSV6KY+lLTC4vmLXyjZfwCWmq4vq25yLMgOBfIkkzLmOwpi6KzpMtf\n",
       "XAnfJppA5SY9G3K42tVc5FkQCgVRXcEwJ+Mziz7qX5zV+UH4cnwFzn1aclnWz2tXNBd5FoRl9wcU\n",
       "U97T/gMWcBcbcu/2d0Tshp/ZeNHdF4tw5U6XZ6uNiIs8C/J6YjslQ5LmJxovsIAeThmLwDmu6VIN\n",
       "3kfxw5tiVIGjjteC6VlQEc5vZhSnWmXEQikI1k4bnPdQgTPiS2n5JXGWcRl4KdMj07OgfhB8h2IU\n",
       "l5isSCfM7Ik379RTnOzrmyG0Hd4AI9OzIJryVspk8yzQVlSauvw7Z7jNxEavNbgcLhU6Lxtk3vSS\n",
       "kEv6kFLGaZbT4K7nOG+0mTMULS9+tpjIlTs7bXpJaIqvI8HkuFwl0nvWHdEWB7op20abvV7kY4x1\n",
       "kdoCM5GXgDzxrPv20X+mdOL2PeTqw8iY4MukWj8MnstjnhdbvyreusxpLw45M8MaLh09UkzeuKgn\n",
       "a0rJS9vKtHjj5VFKZWwoeV3lNpXGxiA+zMwM/vIX86/w2olERibOnWSNiWPJsmVk4pzTURoTT5KJ\n",
       "jAzpD6+C1iW3jJUOAAAAAElFTkSuQmCC\n",
       "\" style=\"display:inline;vertical-align:middle;\" /></a><br>"
      ],
      "text/plain": [
       "expr: [not]((A => B) and (B => A))"
      ]
     },
     "execution_count": 2,
     "metadata": {},
     "output_type": "execute_result"
    }
   ],
   "source": [
    "# build up the expression from sub-expressions\n",
    "expr = Not(And(Implies(A, B), Implies(B, A)))"
   ]
  },
  {
   "cell_type": "code",
   "execution_count": 3,
   "metadata": {},
   "outputs": [
    {
     "name": "stdout",
     "output_type": "stream",
     "text": [
      "Passed sanity check: built 'expr' is the same as the stored Expression.\n"
     ]
    }
   ],
   "source": [
    "# check that the built expression is the same as the stored expression\n",
    "%check_expr"
   ]
  },
  {
   "cell_type": "code",
   "execution_count": 4,
   "metadata": {},
   "outputs": [
    {
     "data": {
      "text/html": [
       "<table><tr><th>&nbsp;</th><th>core type</th><th>sub-expressions</th><th>expression</th></tr>\n",
       "<tr><td>0</td><td>Operation</td><td>operator:&nbsp;1<br>operand:&nbsp;2<br></td><td><a class=\"ProveItLink\" href=\"expr.ipynb\"><img src=\"data:image/png;base64,iVBORw0KGgoAAAANSUhEUgAAANcAAAAVBAMAAAAnc2Y5AAAAMFBMVEX////c3NxERESqqqqYmJgQ\n",
       "EBDu7u4yMjKIiIi6urpUVFTMzMx2dnYiIiJmZmYAAABjE816AAAAAXRSTlMAQObYZgAAAntJREFU\n",
       "SMfFlc9rE0EUx7/bTTeJ+WGwNy96aPWY3AQPWjypVAwWlJ7cSxBvUbRHzTHgoTnVk9Cbdj1UCiIE\n",
       "pD1JTtKLPYil/QMs/kAaU8T6ZubtzuzOavbmgy+78775ZCZv5k2A/xPFjtKYuJLGZWDiXJ9F8TaN\n",
       "uHoUBGd7qL5K5PvaS4vSFiQT5xZZFI9TsRtEjIC2Gjm+wYVeSuS/QjFtI1noKFHkdv0o7ekl/iQd\n",
       "AnP8JXuaizwLAq4dQDFzRnLSV6KY+lLTC4vmLXyjZfwCWmq4vq25yLMgOBfIkkzLmOwpi6KzpMtf\n",
       "XAnfJppA5SY9G3K42tVc5FkQCgVRXcEwJ+Mziz7qX5zV+UH4cnwFzn1aclnWz2tXNBd5FoRl9wcU\n",
       "U97T/gMWcBcbcu/2d0Tshp/ZeNHdF4tw5U6XZ6uNiIs8C/J6YjslQ5LmJxovsIAeThmLwDmu6VIN\n",
       "3kfxw5tiVIGjjteC6VlQEc5vZhSnWmXEQikI1k4bnPdQgTPiS2n5JXGWcRl4KdMj07OgfhB8h2IU\n",
       "l5isSCfM7Ik379RTnOzrmyG0Hd4AI9OzIJryVspk8yzQVlSauvw7Z7jNxEavNbgcLhU6Lxtk3vSS\n",
       "kEv6kFLGaZbT4K7nOG+0mTMULS9+tpjIlTs7bXpJaIqvI8HkuFwl0nvWHdEWB7op20abvV7kY4x1\n",
       "kdoCM5GXgDzxrPv20X+mdOL2PeTqw8iY4MukWj8MnstjnhdbvyreusxpLw45M8MaLh09UkzeuKgn\n",
       "a0rJS9vKtHjj5VFKZWwoeV3lNpXGxiA+zMwM/vIX86/w2olERibOnWSNiWPJsmVk4pzTURoTT5KJ\n",
       "jAzpD6+C1iW3jJUOAAAAAElFTkSuQmCC\n",
       "\" style=\"display:inline;vertical-align:middle;\" /></a></td></tr>\n",
       "<tr><td>1</td><td>Literal</td><td></td><td><a class=\"ProveItLink\" href=\"../../../negation/__pv_it/7bea79645543c2413aa17e787cca04e21046fde60/expr.ipynb\"><img src=\"data:image/png;base64,iVBORw0KGgoAAAANSUhEUgAAAAwAAAAGBAMAAAAFwGKyAAAAFVBMVEX///9UVFTMzMx2dnYiIiJm\n",
       "ZmYAAACWz4ZEAAAAAXRSTlMAQObYZgAAABRJREFUCNdjCHEBAmcGMFDEQzEBAEl+Ai6uYJv/AAAA\n",
       "AElFTkSuQmCC\n",
       "\" style=\"display:inline;vertical-align:middle;\" /></a></td></tr>\n",
       "<tr><td>2</td><td>Operation</td><td>operator:&nbsp;3<br>operands:&nbsp;4<br></td><td><a class=\"ProveItLink\" href=\"../97f3e75ef936ed315a18eb50027c82e125359cc10/expr.ipynb\"><img src=\"data:image/png;base64,iVBORw0KGgoAAAANSUhEUgAAALUAAAAVBAMAAADyYbJ0AAAAMFBMVEX////c3NwiIiJERESqqqqY\n",
       "mJh2dnZmZmYQEBDu7u4yMjJUVFTMzMyIiIi6uroAAAAs73DqAAAAAXRSTlMAQObYZgAAAmdJREFU\n",
       "OMu1VUFrE0EU/jYmTdJsYsBerAdDvRQ8VAWhekluBT0oCl4E7UWKh0Io0qsBe7GHmqP0IAlS6140\n",
       "ZxepeBJzaH6A0tCbFaEiWppi2pn35u2O60KC4IPlzdvvfW9m3nyzC/xPK3QGptz5V06bx+/jEm4f\n",
       "+v7lLtLvIu/bIRZnbgnM8Th+HZv1SCX1gYYJTxrvWViMje6COHneXmqqHmLB0P2tngPglonX2RFH\n",
       "MGNZq/aNfRAnw4XGHhZDzJNB/rua9Rfw1Ex1gZOJI5isNVybM6MgzdnhuLNlte6rDI7VgMRj5SsU\n",
       "5r7xJndsTI63FQzzed0qxVlkpH7telh7RGRwvAXnuVrQSJXCVZTIL9qY2Hww+pL8CeKsUfgMm1Qv\n",
       "PUG2Z7I2335e0HMm+TDv4QH5NRsDFogzVZXOd/VRaM4KxV2crlqHkXzFfquI7Fm9rRqFJYyTX7Gx\n",
       "wK6Yrhbg7DGHVOT6/sY5O2+Vp5zWNdTi3F3SUgc5UnrfxkKlvOTibd//AeL0eSpkGrb4X3AjtcTu\n",
       "zkrtRB1uK6gtWGAf78P0AMtce0mHSgaJmtXvM1za1WeyUZGezKinqQdLNib9nrhk+qmeSe7JRS3I\n",
       "irlL0u5WKG+np7tBm2qa+sQJMLGrxo+ZS644c6QtJcf9MG3ckvcHD0aDrj6RhH4/Z2NyYUxPs9qX\n",
       "WbfbwIknTaTKvVAo59mlywf+G9LbqD6lXFeu+7aNyTr4XjvTvSJuHq4TJ1P8+1sT/ezxnS/IScVy\n",
       "3BhOanaIb/z8n+HQHG9wWrYReTEs59TgvFy0B8NynMH/p0/RF8NxjgA0rLSiuV21VgAAAABJRU5E\n",
       "rkJggg==\n",
       "\" style=\"display:inline;vertical-align:middle;\" /></a></td></tr>\n",
       "<tr><td>3</td><td>Literal</td><td></td><td><a class=\"ProveItLink\" href=\"../../../conjunction/__pv_it/76b5f4f4c45c0b6a9b59b297fc07dfa9555698f50/expr.ipynb\"><img src=\"data:image/png;base64,iVBORw0KGgoAAAANSUhEUgAAAAwAAAAOBAMAAADpk+DfAAAALVBMVEX///+qqqqYmJh2dnaIiIi6\n",
       "urpUVFQiIiJERETMzMxmZmYyMjLu7u7c3NwAAABvwqPxAAAAAXRSTlMAQObYZgAAAEtJREFUCNdj\n",
       "YGDgPcAAAtwLwNSMGjCV6gIieTawgyhmBS4BIMXOwLsBSKkwMGQCKaC6aQwMjEBd3BdACMScAVJd\n",
       "wJAKolwYAkAUKwAk0guX6efcigAAAABJRU5ErkJggg==\n",
       "\" style=\"display:inline;vertical-align:middle;\" /></a></td></tr>\n",
       "<tr><td>4</td><td>ExprTuple</td><td>5, 6</td><td><a class=\"ProveItLink\" href=\"../909f5e21e8b4c154fee22352f362c28123f6d7070/expr.ipynb\"><img src=\"data:image/png;base64,iVBORw0KGgoAAAANSUhEUgAAAJcAAAAVBAMAAAC5yWGZAAAAMFBMVEX////c3NwiIiJERESqqqqY\n",
       "mJh2dnZmZmYQEBDu7u4yMjJUVFTMzMyIiIi6uroAAAAs73DqAAAAAXRSTlMAQObYZgAAAgRJREFU\n",
       "OMtjYKAq4LtAHXPiQMRpCPsQNgXR/3fvtnqAjYMKeBQYGNgPABkrIfz1WFU1AxX9w8pBAVwfgMQC\n",
       "BgZeiC9Z9Scg5OBMnr9A/Bsbh4GBE8mwoJ9AIoyBgQOiU6ReACG3Esbg/Qi05hs2DtA1CNsZ3YFS\n",
       "DDMYGF5B+BfuI4XGaxiDuYGBgakTGwcYcRvgTF5ekO+ZHRjKIDIT/AMQhrHBIph/AwPj4gnYOECQ\n",
       "C2e9ZPkK0lXAsBTMncdwHmwAuxIYfIeqOr/3bhHcEgSnCKxIvwAWeg9AwcnAsoChD8x/wCBfgBSg\n",
       "LOsg9H0BBk5tmCAKBwS8oCHDx8AIsp2vgQEc1zy7d+83QFY3C2KHBcgMmNNQOGAXrYCYdnr37s8g\n",
       "Qz5ADOMDxuoC5ES4DBI2oIQQnwAVROGAwKlMBqi3GLoghrWAuA7AeGpACjNliFk8oHDd78CAzoGE\n",
       "mZIlNEyAWAPiTVNQOnGAJmJYkG1ApCzGX9D0CePAgTeUFoHmH9YFDOmgEAKlkp8IZVJIKesEMAXP\n",
       "V0DiwFMqNFw4QbT9BHDSeMTAINy/kIHV/hciOg0hFLv97927QElnxkckDjxBQ7IMo8UvAYbg/8uB\n",
       "fnvAwCGAmW8PoAs8xFZSoAsAsxNrAhFlVQAxBVoucq6m0DBw2EkTVsdLjMO4QeHFSKVi+w4DAwC5\n",
       "M5N0vb8tBgAAAABJRU5ErkJggg==\n",
       "\" style=\"display:inline;vertical-align:middle;\" /></a></td></tr>\n",
       "<tr><td>5</td><td>Operation</td><td>operator:&nbsp;8<br>operands:&nbsp;7<br></td><td><a class=\"ProveItLink\" href=\"../48bda0a4ca92dc8bbf3ec9809bdb1d7b90d71c610/expr.ipynb\"><img src=\"data:image/png;base64,iVBORw0KGgoAAAANSUhEUgAAAEAAAAAPBAMAAACmSdRUAAAAMFBMVEX///92dnYQEBBERERUVFS6\n",
       "urqIiIhmZmaqqqrc3Nzu7u6YmJgyMjIiIiLMzMwAAACFkkdwAAAAAXRSTlMAQObYZgAAAOhJREFU\n",
       "GNNjYACBtwxYwJb/Li42ARD2eWwKGJQZGNi/glnc9xcghOFMvm9A/AXMnFE/AaHgFIzB9hOo9SOY\n",
       "mZAfgFAQAmMwKzAw8GqBWKwL+jcgFDAmQBn8Dgych8EWLmV4DxZkvwsG36EK3rul1UI0BjDML0By\n",
       "PMdRCJ0/gYHrCti1Li7+BsjeW6MKpoxAikBGsDIwMB1Akuc7CPEpyIf7BYBEA9CxCkhuuAyR5/sN\n",
       "JPyBkpxAzPMByQkOiGDg/AOyEeTlXwgFc5CC4REw1Cbrn2Tgtv+D8IYlhGK3/+LicxpbFD1A5QIA\n",
       "YgVCLvPPxacAAAAASUVORK5CYII=\n",
       "\" style=\"display:inline;vertical-align:middle;\" /></a></td></tr>\n",
       "<tr><td>6</td><td>Operation</td><td>operator:&nbsp;8<br>operands:&nbsp;9<br></td><td><a class=\"ProveItLink\" href=\"../39edb9fe2b7411693ffcf43a9bf0fb98391840e40/expr.ipynb\"><img src=\"data:image/png;base64,iVBORw0KGgoAAAANSUhEUgAAAEAAAAAPBAMAAACmSdRUAAAAMFBMVEX///+qqqru7u4iIiJ2dnbc\n",
       "3NyIiIjMzMxmZmYQEBC6uroyMjJERERUVFSYmJgAAADLUcuvAAAAAXRSTlMAQObYZgAAAOhJREFU\n",
       "GNNjYGB4+//u3dMLGLABdgMwNYeBgeMXVgXcH8DKvgHxX7ggE5KCx59AJNtXBga+LwhdCnAmq8RX\n",
       "EMUzgYGBeRJclOsCnMnGBraZ/wID6x6ENgY3OGsR4z8QVX8trfkBWKDZGATsG2CuWQByHgNDfgAD\n",
       "ky2y26WhfuZiYP0Bok+CFD1AUsC0E6Ki9u7dPyAa5MP3DkgKqp0gNFDZbFAwgBxyXwDhBuNDEHlG\n",
       "ILaEBgPrbyQDZKF0IBDvhwZD5SaEPOsGqEtA9HkFBo7zf+/e3odkAE8ARN3J3wEMb/7vwBKDqFwA\n",
       "TPY/hyWgimwAAAAASUVORK5CYII=\n",
       "\" style=\"display:inline;vertical-align:middle;\" /></a></td></tr>\n",
       "<tr><td>7</td><td>ExprTuple</td><td>11, 10</td><td><a class=\"ProveItLink\" href=\"../caee09fb4b5c95b986a9cee46a014afbad9bdc680/expr.ipynb\"><img src=\"data:image/png;base64,iVBORw0KGgoAAAANSUhEUgAAADUAAAAVBAMAAAAUZLt1AAAAMFBMVEX////c3NwiIiJERESqqqqY\n",
       "mJh2dnZmZmYQEBDu7u4yMjJUVFTMzMyIiIi6uroAAAAs73DqAAAAAXRSTlMAQObYZgAAATZJREFU\n",
       "KM9jYMAH+C5gFY4DEach7EMwQdb9v3dvXsfAfgDIXgkRWg/XwWHAwFD/gGEBAwMvxEhW/QkwufNA\n",
       "kfMbGMKAqiBiIvUCMLn7QFZ8AsMMBoZXEIEL9x/A5CyAWGMCA7MDQxnEsRP8A2ByvxkYpCwZGNgK\n",
       "GJaC+fPAtoABz++711WBNMsChj6wwAMG+QKoHO9HBoZJG4BGNTD8A6vdvXu/AVSOuQEo/xUo9gEi\n",
       "xwd07wKoHD9QD+s3sFwLiO/AwMDUAPMe0FHcX8BmmgK5jEA5rg8MDBNg3pMHGsK6gCEdyJ0FsuYn\n",
       "A+cnqPd4uiaA/fCIgUG4fyEDq/2vAs5+oJbi/7t3rwL5lesBA4cAUnQhsUFhxpqA4LIiR2AuIo7Q\n",
       "5ThBfpJG8JFTADfIfEbsaeIOAwMABOxNRsfkiy0AAAAASUVORK5CYII=\n",
       "\" style=\"display:inline;vertical-align:middle;\" /></a></td></tr>\n",
       "<tr><td>8</td><td>Literal</td><td></td><td><a class=\"ProveItLink\" href=\"../e5c030cabcb650938f92dee8256fe11cd12bf9b30/expr.ipynb\"><img src=\"data:image/png;base64,iVBORw0KGgoAAAANSUhEUgAAABMAAAANBAMAAAC5okgUAAAALVBMVEX////c3NxERETMzMwQEBCq\n",
       "qqoiIiJmZmaIiIh2dnZUVFS6uroyMjLu7u4AAACPpZJTAAAAAXRSTlMAQObYZgAAAD1JREFUCNdj\n",
       "YAABXgY44LkAZ3IvQAjPABFlaSCQV4AQjtkAZ/IegbNt5sLUpunC5aPgLMYDcCaTAJzJDCIA2yMN\n",
       "HCCUuIIAAAAASUVORK5CYII=\n",
       "\" style=\"display:inline;vertical-align:middle;\" /></a></td></tr>\n",
       "<tr><td>9</td><td>ExprTuple</td><td>10, 11</td><td><a class=\"ProveItLink\" href=\"../1d9a4008d5668a743cd8f9a815871ca1c5e3cf130/expr.ipynb\"><img src=\"data:image/png;base64,iVBORw0KGgoAAAANSUhEUgAAADYAAAAVBAMAAAD/UwB2AAAAMFBMVEX////c3NwiIiJERESqqqqY\n",
       "mJh2dnZmZmYQEBDu7u4yMjJUVFTMzMyIiIi6uroAAAAs73DqAAAAAXRSTlMAQObYZgAAAS5JREFU\n",
       "KM9jYMAH+C5gFWZ9ACROA3H0/927rR4gJA4BcQ0QrwRxmhkY2P8h5NYDMRcDAy/ISJ6/QPwbYZ7+\n",
       "BCCRwMABpBh4PwLZ3+ByIvUCDAycDQyvQBzmBgYGpk643IX7ILtNGMpAHP4NDIyLJ8BdPsE/AEil\n",
       "MywF8c7vvVsUANc2j+E8yBFeDH0g3n0BBk5tuNwDBvkCIPWCAexyC5A8TCPP7t37DUCGQeRAzo9P\n",
       "gFnHwMCxACzXAlL5FUjsd4DKAWmmBrCZplDvMf4CegkkxQiU4/oAZEQBXQrx3glg2M1XAHJmgQR+\n",
       "gv3wCBiS9r937wL5ZQZQv3D/QgZW+19Ah65j4BBAipiHSGxgmLEmIPEDkNhsF6BxhEUOZK80gsuL\n",
       "HPEbQW7GniZ4DzAAAJGlTQr2mfDRAAAAAElFTkSuQmCC\n",
       "\" style=\"display:inline;vertical-align:middle;\" /></a></td></tr>\n",
       "<tr><td>10</td><td>Variable</td><td></td><td><a class=\"ProveItLink\" href=\"../../../../../__pv_it/077b2ff79244fb4582cbe22c6e3356fa92a52f2f0/expr.ipynb\"><img src=\"data:image/png;base64,iVBORw0KGgoAAAANSUhEUgAAABAAAAAOBAMAAADUAYG5AAAAMFBMVEX///+qqqru7u4iIiJ2dnbc\n",
       "3NyIiIjMzMxmZmYQEBC6uroyMjJERERUVFSYmJgAAADLUcuvAAAAAXRSTlMAQObYZgAAAGpJREFU\n",
       "CNdjYGB4+//u3dMLGIBgDgMDxy8gzf4NiP8CGWxfGRj4vgAZPBMYGJgnARn8FxhY9ygAGfXX0pof\n",
       "gDTlBzAw2YIYJ0EckBBI53sHoBH/gIz7AhBjWH9DjancBLTl/N+7t/cxMAAA3u4f/5xagjYAAAAA\n",
       "SUVORK5CYII=\n",
       "\" style=\"display:inline;vertical-align:middle;\" /></a></td></tr>\n",
       "<tr><td>11</td><td>Variable</td><td></td><td><a class=\"ProveItLink\" href=\"../../../../../__pv_it/2cbe72a7ad6f655694dd697106680215e8489b600/expr.ipynb\"><img src=\"data:image/png;base64,iVBORw0KGgoAAAANSUhEUgAAAA8AAAAOBAMAAAACpFvcAAAALVBMVEX///8QEBBERERUVFS6urqI\n",
       "iIhmZmaqqqrc3Nzu7u6YmJgyMjIiIiLMzMwAAADtIaYWAAAAAXRSTlMAQObYZgAAAFtJREFUCNdj\n",
       "YACBOwxQsA9Kc52bAGG05zVAGAFxDmCaZULdAjBjCsO9ADDDgaEvAUTzGhvbKYCVMDAwbgAxChgY\n",
       "eASANAeQwf0AyJgNxEwvGRia5HYwcOm9TgAA6BoR3jrzwFcAAAAASUVORK5CYII=\n",
       "\" style=\"display:inline;vertical-align:middle;\" /></a></td></tr>\n",
       "</table>\n"
      ],
      "text/plain": [
       "0. [not]((A => B) and (B => A))\n",
       "   core type: Operation\n",
       "   operator: 1\n",
       "   operand: 2\n",
       "1. not\n",
       "   core type: Literal\n",
       "   sub-expressions: \n",
       "2. (A => B) and (B => A)\n",
       "   core type: Operation\n",
       "   operator: 3\n",
       "   operands: 4\n",
       "3. and\n",
       "   core type: Literal\n",
       "   sub-expressions: \n",
       "4. (A => B , B => A)\n",
       "   core type: ExprTuple\n",
       "   sub-expressions: 5, 6\n",
       "5. A => B\n",
       "   core type: Operation\n",
       "   operator: 8\n",
       "   operands: 7\n",
       "6. B => A\n",
       "   core type: Operation\n",
       "   operator: 8\n",
       "   operands: 9\n",
       "7. (A , B)\n",
       "   core type: ExprTuple\n",
       "   sub-expressions: 11, 10\n",
       "8. =>\n",
       "   core type: Literal\n",
       "   sub-expressions: \n",
       "9. (B , A)\n",
       "   core type: ExprTuple\n",
       "   sub-expressions: 10, 11\n",
       "10. B\n",
       "    core type: Variable\n",
       "    sub-expressions: \n",
       "11. A\n",
       "    core type: Variable\n",
       "    sub-expressions: "
      ]
     },
     "execution_count": 4,
     "metadata": {},
     "output_type": "execute_result"
    }
   ],
   "source": [
    "# display the expression information\n",
    "expr.exprInfo()"
   ]
  },
  {
   "cell_type": "code",
   "execution_count": null,
   "metadata": {},
   "outputs": [],
   "source": []
  }
 ],
 "metadata": {
  "kernelspec": {
   "display_name": "Python 3",
   "language": "python",
   "name": "python3"
  }
 },
 "nbformat": 4,
 "nbformat_minor": 0
}
