{
 "cells": [
  {
   "cell_type": "markdown",
   "metadata": {},
   "source": [
    "Show the Proof\n",
    "========"
   ]
  },
  {
   "cell_type": "code",
   "execution_count": 1,
   "metadata": {},
   "outputs": [
    {
     "data": {
      "text/html": [
       "<table><tr><th>&nbsp;</th><th>step type</th><th>requirements</th><th>statement</th></tr>\n",
       "<tr><td>0</td><td>assumption</td><td></td><td><span style=\"font-size:20px;\"><a class=\"ProveItLink\" href=\"../6853ceb0fe98a1245a555c06053064c3428e731a0/expr.ipynb\"><img src=\"data:image/png;base64,iVBORw0KGgoAAAANSUhEUgAAAFMAAAAVBAMAAADInc9CAAAAMFBMVEX////c3NxERESqqqpUVFS6\n",
       "urrMzMwyMjIQEBCIiIh2dnYiIiLu7u5mZmaYmJgAAABXZE4RAAAAAXRSTlMAQObYZgAAAXdJREFU\n",
       "KM9jYGDgu8dACLCtEgBRPLsYCAO2ZhDJ+QFI8Pl/cXEqxabopMrdB7IMDNdBbK4GEMmhwMBwPwBT\n",
       "JVcfA0MsEK9AKM2fAMQOGCp5qg8AVXxEUTof6O73CyDyBUC3XYAw2XuABGsDilININ5xACzNCbSA\n",
       "QRGi9L4BkGC8gKL0CwODuA5EOh1EiIOZjN/BrkiAKuUtAAXGl5lz90HDpWM3EOyvAcv9gzn6PYjI\n",
       "APmbE+jy0xBfTYc4IxwkzP0RppQd6IiUNhCLCegKTrARJxQgcowtQIL/A9gBIEL9AQNDRAJIDGgi\n",
       "3y+wuC9EqTjIcxxgpWYg80GhwwJyaz5QD8tnsBrm3WCwEcRm+QMiL8DcyrUBGqzyBRDzTEDEaXD6\n",
       "YPsJUgByPCKwgMHK1g7xDwMvKCxdoR43YGC9yICs9NJ/F5fyB7DIBJrOCPUcm7vvZQYUpagA6E+e\n",
       "A2hiOJRiA2ClfEQpBadXnp3E5IJWMMW3mLi8BQBfQmHb9LMuUQAAAABJRU5ErkJggg==\n",
       "\" style=\"display:inline;vertical-align:middle;\" /></a> <a class=\"ProveItLink\" href=\"proof.ipynb\" style=\"text-decoration: none\">&#x22A2;&nbsp;</a><a class=\"ProveItLink\" href=\"../484b78cf8dc9defa336031a8ff4fcb5b68b81f190/expr.ipynb\"><img src=\"data:image/png;base64,iVBORw0KGgoAAAANSUhEUgAAAEEAAAAPBAMAAABJi79qAAAAMFBMVEX///+qqqru7u4iIiJ2dnbc\n",
       "3NyIiIjMzMxmZmYQEBC6uroyMjJERERUVFSYmJgAAADLUcuvAAAAAXRSTlMAQObYZgAAARRJREFU\n",
       "GNNjYGB4+//u3dMLGDABU86NPtYGEGsOAwPHLywqPB8wcHU+ADLYvwHxX0wF2kZAwj8ASLB9ZWDg\n",
       "+wIR5QbiCqiKnQpAYiWIxTOBgYF5EkQ0DcQPADM5PoLICBDBf4GBdY8CWJR9A5Bg3QBmx4MpdRBR\n",
       "fy2t+QHEiMrJxkDwG6y8/wHcRfkBDEy2YBbbJjDFtQtE2gfAVZwEqQJpYJoDFYm8ACT+g5lg40Ae\n",
       "fe8AYumCg4eBdRuInA8iGAtArvsHJO4LgOWEjcEAbP59kHYOBmhwsP6GGM8IMp7JFMyuTwASTrDg\n",
       "qNwEdUEjEPNC4ogPGB4rQKZxnP979/Y+eEgDcQyUXbu3QwAzLtiBWAlVCABer0Lhy+cU3AAAAABJ\n",
       "RU5ErkJggg==\n",
       "\" style=\"display:inline;vertical-align:middle;\" /></a></span></td></tr>\n",
       "</table>"
      ],
      "text/plain": [
       "<proveit._core_.proof._ShowProof at 0x7f94eae45c50>"
      ]
     },
     "execution_count": 1,
     "metadata": {},
     "output_type": "execute_result"
    }
   ],
   "source": [
    "import proveit\n",
    "%show_proof"
   ]
  },
  {
   "cell_type": "code",
   "execution_count": null,
   "metadata": {},
   "outputs": [],
   "source": []
  }
 ],
 "metadata": {
  "kernelspec": {
   "display_name": "Python 3",
   "language": "python",
   "name": "python3"
  }
 },
 "nbformat": 4,
 "nbformat_minor": 0
}
