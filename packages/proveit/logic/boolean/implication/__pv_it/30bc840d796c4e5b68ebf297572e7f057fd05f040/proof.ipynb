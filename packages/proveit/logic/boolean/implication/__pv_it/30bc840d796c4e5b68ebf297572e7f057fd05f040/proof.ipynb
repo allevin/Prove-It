{
 "cells": [
  {
   "cell_type": "markdown",
   "metadata": {},
   "source": [
    "Show the Proof\n",
    "========"
   ]
  },
  {
   "cell_type": "code",
   "execution_count": 1,
   "metadata": {},
   "outputs": [
    {
     "data": {
      "text/html": [
       "<table><tr><th>&nbsp;</th><th>step type</th><th>requirements</th><th>statement</th></tr>\n",
       "<tr><td>0</td><td>specialization</td><td>1, 2</td><td><span style=\"font-size:20px;\"><a class=\"ProveItLink\" href=\"../6853ceb0fe98a1245a555c06053064c3428e731a0/expr.ipynb\"><img src=\"data:image/png;base64,iVBORw0KGgoAAAANSUhEUgAAAFMAAAAVBAMAAADInc9CAAAAMFBMVEX////c3NxERESqqqpUVFS6\n",
       "urrMzMwyMjIQEBCIiIh2dnYiIiLu7u5mZmaYmJgAAABXZE4RAAAAAXRSTlMAQObYZgAAAXdJREFU\n",
       "KM9jYGDgu8dACLCtEgBRPLsYCAO2ZhDJ+QFI8Pl/cXEqxabopMrdB7IMDNdBbK4GEMmhwMBwPwBT\n",
       "JVcfA0MsEK9AKM2fAMQOGCp5qg8AVXxEUTof6O73CyDyBUC3XYAw2XuABGsDilININ5xACzNCbSA\n",
       "QRGi9L4BkGC8gKL0CwODuA5EOh1EiIOZjN/BrkiAKuUtAAXGl5lz90HDpWM3EOyvAcv9gzn6PYjI\n",
       "APmbE+jy0xBfTYc4IxwkzP0RppQd6IiUNhCLCegKTrARJxQgcowtQIL/A9gBIEL9AQNDRAJIDGgi\n",
       "3y+wuC9EqTjIcxxgpWYg80GhwwJyaz5QD8tnsBrm3WCwEcRm+QMiL8DcyrUBGqzyBRDzTEDEaXD6\n",
       "YPsJUgByPCKwgMHK1g7xDwMvKCxdoR43YGC9yICs9NJ/F5fyB7DIBJrOCPUcm7vvZQYUpagA6E+e\n",
       "A2hiOJRiA2ClfEQpBadXnp3E5IJWMMW3mLi8BQBfQmHb9LMuUQAAAABJRU5ErkJggg==\n",
       "\" style=\"display:inline;vertical-align:middle;\" /></a> <a class=\"ProveItLink\" href=\"proof.ipynb\" style=\"text-decoration: none\">&#x22A2;&nbsp;</a><a class=\"ProveItLink\" href=\"../36b4eb3cdb5a5b1599684449874466284fd20b6f0/expr.ipynb\"><img src=\"data:image/png;base64,iVBORw0KGgoAAAANSUhEUgAAAEAAAAAPBAMAAACmSdRUAAAAMFBMVEX////MzMyqqqoiIiIyMjK6\n",
       "uroQEBB2dnbc3NyYmJhmZmZUVFRERESIiIju7u4AAAB204erAAAAAXRSTlMAQObYZgAAAPZJREFU\n",
       "GNNjYGDgu7NrJccCBgww+//u3UcCgIyyCQysyyZgKmDIYWDg+srA8MQOyK5vgInyweUZ/wLxbwYG\n",
       "twdAThhcmOUBjMX7g4GB8zsD1ycQpwuugHUDjMWTwMDAnMfQ7wDiPETYXAtj8G9g4PB5wLAe4bzF\n",
       "xiBgD/OQ/N67i4GS9g3ojlcJgND3Gxj4rBkY/oM5D5AU8LlBVBwDKZrAkA9iMwkgKRCpg9BAHzLM\n",
       "L2DYD9LMheQG43PQYPgJJPYrMMhfANJ1SAZoIwUDxxdgUADDIQrJoRwOSMEg5gdkSHuvUkAygAeq\n",
       "mOv8791bPLHEECMaHwAk/j3c2V7H/gAAAABJRU5ErkJggg==\n",
       "\" style=\"display:inline;vertical-align:middle;\" /></a></span></td></tr>\n",
       "<tr><td>&nbsp;</td><td colspan=4 style=\"text-align:left\"><span style=\"font-size:20px;\"><a class=\"ProveItLink\" href=\"../../../../../__pv_it/2cbe72a7ad6f655694dd697106680215e8489b600/expr.ipynb\"><img src=\"data:image/png;base64,iVBORw0KGgoAAAANSUhEUgAAAA8AAAAOBAMAAAACpFvcAAAALVBMVEX///8QEBBERERUVFS6urqI\n",
       "iIhmZmaqqqrc3Nzu7u6YmJgyMjIiIiLMzMwAAADtIaYWAAAAAXRSTlMAQObYZgAAAFtJREFUCNdj\n",
       "YACBOwxQsA9Kc52bAGG05zVAGAFxDmCaZULdAjBjCsO9ADDDgaEvAUTzGhvbKYCVMDAwbgAxChgY\n",
       "eASANAeQwf0AyJgNxEwvGRia5HYwcOm9TgAA6BoR3jrzwFcAAAAASUVORK5CYII=\n",
       "\" style=\"display:inline;vertical-align:middle;\" /></a> : <a class=\"ProveItLink\" href=\"../../../../../__pv_it/077b2ff79244fb4582cbe22c6e3356fa92a52f2f0/expr.ipynb\"><img src=\"data:image/png;base64,iVBORw0KGgoAAAANSUhEUgAAABAAAAAOBAMAAADUAYG5AAAAMFBMVEX///+qqqru7u4iIiJ2dnbc\n",
       "3NyIiIjMzMxmZmYQEBC6uroyMjJERERUVFSYmJgAAADLUcuvAAAAAXRSTlMAQObYZgAAAGpJREFU\n",
       "CNdjYGB4+//u3dMLGIBgDgMDxy8gzf4NiP8CGWxfGRj4vgAZPBMYGJgnARn8FxhY9ygAGfXX0pof\n",
       "gDTlBzAw2YIYJ0EckBBI53sHoBH/gIz7AhBjWH9DjancBLTl/N+7t/cxMAAA3u4f/5xagjYAAAAA\n",
       "SUVORK5CYII=\n",
       "\" style=\"display:inline;vertical-align:middle;\" /></a>, <a class=\"ProveItLink\" href=\"../../../../../__pv_it/077b2ff79244fb4582cbe22c6e3356fa92a52f2f0/expr.ipynb\"><img src=\"data:image/png;base64,iVBORw0KGgoAAAANSUhEUgAAABAAAAAOBAMAAADUAYG5AAAAMFBMVEX///+qqqru7u4iIiJ2dnbc\n",
       "3NyIiIjMzMxmZmYQEBC6uroyMjJERERUVFSYmJgAAADLUcuvAAAAAXRSTlMAQObYZgAAAGpJREFU\n",
       "CNdjYGB4+//u3dMLGIBgDgMDxy8gzf4NiP8CGWxfGRj4vgAZPBMYGJgnARn8FxhY9ygAGfXX0pof\n",
       "gDTlBzAw2YIYJ0EckBBI53sHoBH/gIz7AhBjWH9DjancBLTl/N+7t/cxMAAA3u4f/5xagjYAAAAA\n",
       "SUVORK5CYII=\n",
       "\" style=\"display:inline;vertical-align:middle;\" /></a> : <a class=\"ProveItLink\" href=\"../../../../../__pv_it/985a1bdf1540838275dec15f4ad6de261cca93ce0/expr.ipynb\"><img src=\"data:image/png;base64,iVBORw0KGgoAAAANSUhEUgAAAA8AAAAOBAMAAAACpFvcAAAAMFBMVEX////MzMyqqqoiIiIyMjK6\n",
       "uroQEBB2dnbc3NyYmJhmZmZUVFRERESIiIju7u4AAAB204erAAAAAXRSTlMAQObYZgAAAGZJREFU\n",
       "CNdjYGDgu7NrJccCBgaGsgkMrMsmMDA8sQNy6hsYGNweABlhDAxcn4A0QxcDQ78DiPGQgWH9BAYI\n",
       "sG+AMv6DSaCGfBDNJMDAsB+kmwuI5S8AiTog5gSaEwXWIO29SgFIAQBC+RaDQlidVgAAAABJRU5E\n",
       "rkJggg==\n",
       "\" style=\"display:inline;vertical-align:middle;\" /></a></span></td></tr><tr><td>1</td><td>theorem</td><td></td><td><span style=\"font-size:20px;\"> <a class=\"ProveItLink\" href=\"../../_proofs_/iffImpliesLeft.ipynb\" style=\"text-decoration: none\">&#x22A2;&nbsp;</a><a class=\"ProveItLink\" href=\"../daee5f8cd64120ac6a4f032996a3d425891831ae0/expr.ipynb\"><img src=\"data:image/png;base64,iVBORw0KGgoAAAANSUhEUgAAAMIAAAAXBAMAAACrPI2eAAAAMFBMVEX///8QEBC6urrMzMxUVFRm\n",
       "ZmZERETc3NwyMjKqqqp2dnaIiIiYmJgiIiLu7u4AAAAU9Wx4AAAAAXRSTlMAQObYZgAAAuxJREFU\n",
       "SMe1VT9ME1EY/9Gjd9hej246ISZumtDBqIkxvWhTTBxoIlcnA8ZQ4iIdDGgMUlyqi3RQwyYORoyG\n",
       "1ESnDpwb6gAOLAqhMZqwgET+K1a/9+4e92hK0KIvee+++77vfb/v7x3w31dxF3cP7aihNwITjHhX\n",
       "FYBikomWpVj8VmX5SdrngKeMvlsVQh2Lv6YdaGusKB9gOkA3PbT2qhAK7IjmaZuCZcgZmiEP9CHu\n",
       "iD9XFUIDO0bTwPjQlrDcdb2NREYY+pOent6qAHwZdl6k/X7Trs/05PlRlrzLwEoq9aEqBD/3fAm4\n",
       "dsVjPvMcKD606fEYOA10claWnw+WrXiEa2xGnvYM7OmyWi8JPjOgLBVeTfHXC9NszSSE6ideIgwC\n",
       "B2HwcPVvTn3CCIYZoQrVcblTXgMvXLKG8YOrwJyUGgwK7Ub0MbQDQAhB5gy+bDixm/CtyghGmy0Z\n",
       "aAWa3JjqmS2VvAluSApGvwOhxGItrEWjJLdDvFAjk1wSysM/ISME5sgVw4TC0/6R0gEJoZ5N3XcJ\n",
       "4fiIWwYKMuMgGJkjHDOf4pKvEYylZYQTKrnip9I0Mw8XoWdFlliPRynA2nWvDtOi6iQMhZ0sofMU\n",
       "49S6vjUVXjpKAsFkIT1KpVL9BOz7UYiL1lRtdxz6Ml4I99ynRgh1C0SM0b7Pk/IGo1w0TNUsSgh6\n",
       "LriAo8xd42wRgQz0BpG+hDMOyj5vzDQBNssslJxuRQ1rKmPS6uKKHZSonIQwZyVLSBbdNlETMNZF\n",
       "w5NnyV+x2G2pE1S3C7r3Z6F3rZEP7Kuos+v+NKJ8DOh+U0RCOA9lEVqHZVlJ8qQ+B9+iMLe3wue2\n",
       "nGGEBXWYbttaFloJ2qRUBx85SM04e3N+/jm99hXRuzlTb/9g8AN5l/i8Aq1lStnA8LJ1JuchGNTT\n",
       "V3/aUBKsYREYsFrvoNJnbrs1W/5Lkmh1iyQCI11+WzN3Rmguez+2LULFdWNHjWCkjGH/HcIuV+0/\n",
       "svMbyLm8JRIE9oYAAAAASUVORK5CYII=\n",
       "\" style=\"display:inline;vertical-align:middle;\" /></a></span></td></tr>\n",
       "<tr><td>&nbsp;</td><td colspan=4 style-\"text-align:left\"><a class=\"ProveItLink\" href=\"../../_proofs_/iffImpliesLeft.ipynb\">proveit.logic.boolean.implication.iffImpliesLeft</a></td></tr><tr><td>2</td><td>assumption</td><td></td><td><span style=\"font-size:20px;\"><a class=\"ProveItLink\" href=\"../6853ceb0fe98a1245a555c06053064c3428e731a0/expr.ipynb\"><img src=\"data:image/png;base64,iVBORw0KGgoAAAANSUhEUgAAAFMAAAAVBAMAAADInc9CAAAAMFBMVEX////c3NxERESqqqpUVFS6\n",
       "urrMzMwyMjIQEBCIiIh2dnYiIiLu7u5mZmaYmJgAAABXZE4RAAAAAXRSTlMAQObYZgAAAXdJREFU\n",
       "KM9jYGDgu8dACLCtEgBRPLsYCAO2ZhDJ+QFI8Pl/cXEqxabopMrdB7IMDNdBbK4GEMmhwMBwPwBT\n",
       "JVcfA0MsEK9AKM2fAMQOGCp5qg8AVXxEUTof6O73CyDyBUC3XYAw2XuABGsDilININ5xACzNCbSA\n",
       "QRGi9L4BkGC8gKL0CwODuA5EOh1EiIOZjN/BrkiAKuUtAAXGl5lz90HDpWM3EOyvAcv9gzn6PYjI\n",
       "APmbE+jy0xBfTYc4IxwkzP0RppQd6IiUNhCLCegKTrARJxQgcowtQIL/A9gBIEL9AQNDRAJIDGgi\n",
       "3y+wuC9EqTjIcxxgpWYg80GhwwJyaz5QD8tnsBrm3WCwEcRm+QMiL8DcyrUBGqzyBRDzTEDEaXD6\n",
       "YPsJUgByPCKwgMHK1g7xDwMvKCxdoR43YGC9yICs9NJ/F5fyB7DIBJrOCPUcm7vvZQYUpagA6E+e\n",
       "A2hiOJRiA2ClfEQpBadXnp3E5IJWMMW3mLi8BQBfQmHb9LMuUQAAAABJRU5ErkJggg==\n",
       "\" style=\"display:inline;vertical-align:middle;\" /></a> <a class=\"ProveItLink\" href=\"../fd8d6d26d1ecc191313ee58630d877df32edd3bd0/proof.ipynb\" style=\"text-decoration: none\">&#x22A2;&nbsp;</a><a class=\"ProveItLink\" href=\"../484b78cf8dc9defa336031a8ff4fcb5b68b81f190/expr.ipynb\"><img src=\"data:image/png;base64,iVBORw0KGgoAAAANSUhEUgAAAEEAAAAPBAMAAABJi79qAAAAMFBMVEX///+qqqru7u4iIiJ2dnbc\n",
       "3NyIiIjMzMxmZmYQEBC6uroyMjJERERUVFSYmJgAAADLUcuvAAAAAXRSTlMAQObYZgAAARRJREFU\n",
       "GNNjYGB4+//u3dMLGDABU86NPtYGEGsOAwPHLywqPB8wcHU+ADLYvwHxX0wF2kZAwj8ASLB9ZWDg\n",
       "+wIR5QbiCqiKnQpAYiWIxTOBgYF5EkQ0DcQPADM5PoLICBDBf4GBdY8CWJR9A5Bg3QBmx4MpdRBR\n",
       "fy2t+QHEiMrJxkDwG6y8/wHcRfkBDEy2YBbbJjDFtQtE2gfAVZwEqQJpYJoDFYm8ACT+g5lg40Ae\n",
       "fe8AYumCg4eBdRuInA8iGAtArvsHJO4LgOWEjcEAbP59kHYOBmhwsP6GGM8IMp7JFMyuTwASTrDg\n",
       "qNwEdUEjEPNC4ogPGB4rQKZxnP979/Y+eEgDcQyUXbu3QwAzLtiBWAlVCABer0Lhy+cU3AAAAABJ\n",
       "RU5ErkJggg==\n",
       "\" style=\"display:inline;vertical-align:middle;\" /></a></span></td></tr>\n",
       "</table>"
      ],
      "text/plain": [
       "<proveit._core_.proof._ShowProof at 0x7f94ebd2df60>"
      ]
     },
     "execution_count": 1,
     "metadata": {},
     "output_type": "execute_result"
    }
   ],
   "source": [
    "import proveit\n",
    "%show_proof"
   ]
  },
  {
   "cell_type": "code",
   "execution_count": null,
   "metadata": {},
   "outputs": [],
   "source": []
  }
 ],
 "metadata": {
  "kernelspec": {
   "display_name": "Python 3",
   "language": "python",
   "name": "python3"
  }
 },
 "nbformat": 4,
 "nbformat_minor": 0
}
