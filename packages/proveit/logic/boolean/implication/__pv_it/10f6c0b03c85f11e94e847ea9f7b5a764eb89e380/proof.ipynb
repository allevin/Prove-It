{
 "cells": [
  {
   "cell_type": "markdown",
   "metadata": {},
   "source": [
    "Show the Proof\n",
    "========"
   ]
  },
  {
   "cell_type": "code",
   "execution_count": 1,
   "metadata": {},
   "outputs": [
    {
     "data": {
      "text/html": [
       "<table><tr><th>&nbsp;</th><th>step type</th><th>requirements</th><th>statement</th></tr>\n",
       "<tr><td>0</td><td>specialization</td><td>1, 2</td><td><span style=\"font-size:20px;\"> <a class=\"ProveItLink\" href=\"proof.ipynb\" style=\"text-decoration: none\">&#x22A2;&nbsp;</a><a class=\"ProveItLink\" href=\"../fe045491760ab944ef81446ebc48e60dd4342cf50/expr.ipynb\"><img src=\"data:image/png;base64,iVBORw0KGgoAAAANSUhEUgAAAF4AAAAVBAMAAAA9Y0TyAAAAMFBMVEX////c3NxERESqqqqYmJgQ\n",
       "EBDu7u4yMjKIiIi6urpUVFTMzMx2dnYiIiJmZmYAAABjE816AAAAAXRSTlMAQObYZgAAAPdJREFU\n",
       "KM9jYCAbcDYQUsEyAZm3i4HvLhgoYFHKCDbsNbJQGYjgfoDdaIg4O5IIRwNh9SwHECKsCWjqC5B5\n",
       "EBZbAEL9dAZU9WD7FFHVMygj1L9BU78dRIijqT+HUF+Cqp47FBRU98tQ1ZszvAUJ3wEyI1HVtydA\n",
       "XDkBRf1UWNAzMPxEUZ8KjQTGKBT1+3GpZ1sHocUbcKkPRnUPMySuLzLgco8KWvhYgYhcAVT17lAe\n",
       "PKgQ6vkMgMRK3OE5FyIOj3E2YPwyQnwNSoex4HRYiZQeBNCSzAagngRUIeT0gJyWcAGeBvT0jB+k\n",
       "I3OkCKtfiJmF8AGODQwAvedUkjOrxu4AAAAASUVORK5CYII=\n",
       "\" style=\"display:inline;vertical-align:middle;\" /></a></span></td></tr>\n",
       "<tr><td>&nbsp;</td><td colspan=4 style=\"text-align:left\"><span style=\"font-size:20px;\"><a class=\"ProveItLink\" href=\"../../../../../__pv_it/2cbe72a7ad6f655694dd697106680215e8489b600/expr.ipynb\"><img src=\"data:image/png;base64,iVBORw0KGgoAAAANSUhEUgAAAA8AAAAOBAMAAAACpFvcAAAALVBMVEX///8QEBBERERUVFS6urqI\n",
       "iIhmZmaqqqrc3Nzu7u6YmJgyMjIiIiLMzMwAAADtIaYWAAAAAXRSTlMAQObYZgAAAFtJREFUCNdj\n",
       "YACBOwxQsA9Kc52bAGG05zVAGAFxDmCaZULdAjBjCsO9ADDDgaEvAUTzGhvbKYCVMDAwbgAxChgY\n",
       "eASANAeQwf0AyJgNxEwvGRia5HYwcOm9TgAA6BoR3jrzwFcAAAAASUVORK5CYII=\n",
       "\" style=\"display:inline;vertical-align:middle;\" /></a> : <a class=\"ProveItLink\" href=\"../b94bbf86d4310ead15323c87dc9df59b296268150/expr.ipynb\"><img src=\"data:image/png;base64,iVBORw0KGgoAAAANSUhEUgAAAD8AAAAPBAMAAAChCwpBAAAALVBMVEX///+qqqpUVFS6urru7u4Q\n",
       "EBDc3NyIiIgyMjJ2dnbMzMxEREQiIiJmZmYAAABYjWgWAAAAAXRSTlMAQObYZgAAAHxJREFUGNNj\n",
       "uHMGBE4zYAFsBVDGWgbsgOsC6Qo4UHhYFJQDMXcCbgVcDSCnNeBWsDQG5KMXDrgUsLeAKeZmHApY\n",
       "oqH8VAUcJjhBBNjacbpBBhyqZxJwKmAEmc1yDE84XARiJgMMBSvhCjyAOBvC5AXaBfT1BrTQB2IX\n",
       "VCEApTox8zcl5nkAAAAASUVORK5CYII=\n",
       "\" style=\"display:inline;vertical-align:middle;\" /></a></span></td></tr><tr><td>1</td><td>axiom</td><td></td><td><span style=\"font-size:20px;\"> <a class=\"ProveItLink\" href=\"../../../negation/_axioms_.ipynb#negationIntro\" style=\"text-decoration: none\">&#x22A2;&nbsp;</a><a class=\"ProveItLink\" href=\"../../../negation/__pv_it/799eb3b565b99e60491a24b404f1db01d8e6476d0/expr.ipynb\"><img src=\"data:image/png;base64,iVBORw0KGgoAAAANSUhEUgAAAIUAAAAXBAMAAADXWpFHAAAAMFBMVEX///8QEBC6urrMzMxUVFRm\n",
       "ZmZERETc3NwyMjKqqqp2dnaIiIiYmJgiIiLu7u4AAAAU9Wx4AAAAAXRSTlMAQObYZgAAActJREFU\n",
       "OMtjYKACeECacm10gUNAfAHEOE2sEcwOKDygZlYDBoaVIE4fsWZwoDib4wOQaGBgKANS7AnEmrEb\n",
       "hXf2H5A4BTGZdQKxZsghc9infgeSDxkYeJaXl9cSawRTAzKPm/sTkGQDOuBbWtotYs1gXYDM0+P8\n",
       "AyS5AhgYnBkY0sFC7RCr4AFWgCVIDyBx+BSYfwMpTqDbVBj4wC7k+QSWYYMpOa+AUA4Lc0agWOxd\n",
       "ILgFto39K4gSYGDgZeAGm/70D4oZfPEHMM3gh5lrAsIuLt9AiQQYwdwHeMGRvu4qihlcbwMImAFk\n",
       "S0DN4GswAae5DWkoZlizJWDxywSEGZxA6iLULwzpTiBRFoZYFDMcWC8weHQAwQYkM9gOIMyoBFL9\n",
       "oHAEheZUcJY5ybAf2QyeCdwfMN3BBfMfMyQi8h9AxRhBNvFdDc1/gGTG29Cwf5hmMF2Ap9HEHwUM\n",
       "x/63AuMbFEY8IL2sBQz2BkhmhDMwf2bIQPcLgzhmmnkIZ+kAA/0AwgwmIPsPpjtAGQwdrIYxnnxj\n",
       "YPe/AzeDzz+BoeQvNABZ09LE0rKw5X2w0gZMY9nwZhh2B3QRlgJSzWCoRhfYzECyGUQBFtK1AAB+\n",
       "a2tdy7eWbQAAAABJRU5ErkJggg==\n",
       "\" style=\"display:inline;vertical-align:middle;\" /></a></span></td></tr>\n",
       "<tr><td>&nbsp;</td><td colspan=4 style-\"text-align:left\"><a class=\"ProveItLink\" href=\"../../../negation/_axioms_.ipynb#negationIntro\">proveit.logic.boolean.negation.negationIntro</a></td></tr><tr><td>2</td><td>theorem</td><td></td><td><span style=\"font-size:20px;\"> <a class=\"ProveItLink\" href=\"../../_proofs_/iffTF.ipynb\" style=\"text-decoration: none\">&#x22A2;&nbsp;</a><a class=\"ProveItLink\" href=\"../da575ca4d375b4321325852fd9becce0d5d5024b0/expr.ipynb\"><img src=\"data:image/png;base64,iVBORw0KGgoAAAANSUhEUgAAAHoAAAAVBAMAAAB71edYAAAAMFBMVEX////c3NwiIiJERESqqqqY\n",
       "mJh2dnZmZmYQEBDu7u4yMjJUVFTMzMyIiIi6uroAAAAs73DqAAAAAXRSTlMAQObYZgAAAQ1JREFU\n",
       "OMtjYKAM8F0gqCQOt9RpBoYiJRBQxiYrCyLYD+CSYVgJJo/jMBsivgCXDO8FInSH4ZLhmICmG2gP\n",
       "TwGa7hm4dL9iQNUNdoshmm5mBxy6y9B0nwIRUmi62Qpw6F6KqpunAxT8+itRdbOAg61qFQisRpbp\n",
       "Q9V9CxIMrx6g6OZrwGH3PxTdMwwgNGM3im6eD0Tp5twOoaUuEKe7BdXlLOBkp6TIgMXlqEkSLGOK\n",
       "FubeIGKSAKpu1gU47E5H080Oitp9xMbYIwj7GEyQE2gNIzTsgE7VADuV6wGaVpgMhwCaBDA/cU5A\n",
       "E5uBK4OyJhBRBuTilFlJWDPnApxS0oR1cwvglGIkXDLdwSUBALmeTv77giohAAAAAElFTkSuQmCC\n",
       "\" style=\"display:inline;vertical-align:middle;\" /></a></span></td></tr>\n",
       "<tr><td>&nbsp;</td><td colspan=4 style-\"text-align:left\"><a class=\"ProveItLink\" href=\"../../_proofs_/iffTF.ipynb\">proveit.logic.boolean.implication.iffTF</a></td></tr></table>"
      ],
      "text/plain": [
       "<proveit._core_.proof._ShowProof at 0x7f94eadfc550>"
      ]
     },
     "execution_count": 1,
     "metadata": {},
     "output_type": "execute_result"
    }
   ],
   "source": [
    "import proveit\n",
    "%show_proof"
   ]
  },
  {
   "cell_type": "code",
   "execution_count": null,
   "metadata": {},
   "outputs": [],
   "source": []
  }
 ],
 "metadata": {
  "kernelspec": {
   "display_name": "Python 3",
   "language": "python",
   "name": "python3"
  }
 },
 "nbformat": 4,
 "nbformat_minor": 0
}
