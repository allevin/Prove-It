{
 "cells": [
  {
   "cell_type": "markdown",
   "metadata": {},
   "source": [
    "Expression of type <a class=\"ProveItLink\" href=\"../../../../../../../doc/html/api/proveit.ExprTuple.html\">ExprTuple</a>\n",
    "=======================\n",
    "# from context <a class=\"ProveItLink\" href=\"../../_context_.ipynb\">proveit.logic.boolean.implication</a>"
   ]
  },
  {
   "cell_type": "code",
   "execution_count": 1,
   "metadata": {},
   "outputs": [],
   "source": [
    "# import Expression classes needed to build the expression\n",
    "from proveit import ExprTuple\n",
    "from proveit.logic import And, FALSE, Implies, TRUE\n",
    "from proveit.logic.boolean.implication._theorems_ import falseImpliesTrue"
   ]
  },
  {
   "cell_type": "code",
   "execution_count": 2,
   "metadata": {},
   "outputs": [
    {
     "data": {
      "text/html": [
       "<strong id=\"expr\">expr:</strong> <a class=\"ProveItLink\" href=\"expr.ipynb\"><img src=\"data:image/png;base64,iVBORw0KGgoAAAANSUhEUgAAAQkAAAAVBAMAAACnJQYDAAAAMFBMVEX////c3NwiIiJERESqqqqY\n",
       "mJh2dnZmZmYQEBDu7u4yMjJUVFTMzMyIiIi6uroAAAAs73DqAAAAAXRSTlMAQObYZgAAAglJREFU\n",
       "SMfNlb9OAkEQxkfk+CMnoQVjQqCxFBN6O9/A0tAYKhNjDLUFNV5pqKBAQmN4BCstaO4BLAglxsTY\n",
       "2BH3dvbudpZZOaycZBju7vd9+bIstwD/o4o+9oa64HTbauzUTDXAIcfc1IKqQ/bZeDCDrHxUO+Zk\n",
       "0ivWWNCYmqgGeLWExfsDdVVWU2rc60QaipbXqX0f20zhmY7n6mqMAzU0hVVD0fE6lfOwzRQT0/FB\n",
       "mZ0gjBqawqahKUIHnVoCtpni3XTcPZWj8IELt4T1FDYNRUMHneqI0WFSZHzDMYMufajK2WFS2DQU\n",
       "DR10aiTGiKRQ+/nbcEzjVruEWzlHxPp3DU0ROuhUT4wesxaQfqJs8U6OKlTk7DFrYdNQNHTQqZUY\n",
       "Ky4F9HuEdT+DT8eHgnwLrLgUvIamiBx0yprCffQYx5QH7tSagtfQFJGDTnXF6HL7ou5xq3smegiR\n",
       "xtgXvIamiBx0qilGk1mL9NTYaY7caUPlozR0LXiNR1NEDjrVFqPNpKgA969zg5MgBZGGpmA1+S+S\n",
       "InbQqYUYCzy1joJTK6xG7PgiP/fmwRtnHr68F+jZ0lM04hMQvQJN/r6ko7GDTuUEkyutH0fmEYpv\n",
       "46L8GhhtoSFk7KBTTgt7Y13Ry+QaJwk1oceQrfID40ZijZOEOlC9oQrmL5BY4yehdnzsDfVm3viL\n",
       "xkb9ADQ3tcGoyjzLAAAAAElFTkSuQmCC\n",
       "\" style=\"display:inline;vertical-align:middle;\" /></a><br>"
      ],
      "text/plain": [
       "expr: ((FALSE => TRUE) and (TRUE => FALSE) , TRUE and FALSE)"
      ]
     },
     "execution_count": 2,
     "metadata": {},
     "output_type": "execute_result"
    }
   ],
   "source": [
    "# build up the expression from sub-expressions\n",
    "expr = ExprTuple(And(falseImpliesTrue.expr, Implies(TRUE, FALSE)), And(TRUE, FALSE))"
   ]
  },
  {
   "cell_type": "code",
   "execution_count": 3,
   "metadata": {},
   "outputs": [
    {
     "name": "stdout",
     "output_type": "stream",
     "text": [
      "Passed sanity check: built 'expr' is the same as the stored Expression.\n"
     ]
    }
   ],
   "source": [
    "# check that the built expression is the same as the stored expression\n",
    "%check_expr"
   ]
  },
  {
   "cell_type": "code",
   "execution_count": 4,
   "metadata": {},
   "outputs": [
    {
     "data": {
      "text/html": [
       "<table><tr><th>&nbsp;</th><th>core type</th><th>sub-expressions</th><th>expression</th></tr>\n",
       "<tr><td>0</td><td>ExprTuple</td><td>1, 2</td><td><a class=\"ProveItLink\" href=\"expr.ipynb\"><img src=\"data:image/png;base64,iVBORw0KGgoAAAANSUhEUgAAAQkAAAAVBAMAAACnJQYDAAAAMFBMVEX////c3NwiIiJERESqqqqY\n",
       "mJh2dnZmZmYQEBDu7u4yMjJUVFTMzMyIiIi6uroAAAAs73DqAAAAAXRSTlMAQObYZgAAAglJREFU\n",
       "SMfNlb9OAkEQxkfk+CMnoQVjQqCxFBN6O9/A0tAYKhNjDLUFNV5pqKBAQmN4BCstaO4BLAglxsTY\n",
       "2BH3dvbudpZZOaycZBju7vd9+bIstwD/o4o+9oa64HTbauzUTDXAIcfc1IKqQ/bZeDCDrHxUO+Zk\n",
       "0ivWWNCYmqgGeLWExfsDdVVWU2rc60QaipbXqX0f20zhmY7n6mqMAzU0hVVD0fE6lfOwzRQT0/FB\n",
       "mZ0gjBqawqahKUIHnVoCtpni3XTcPZWj8IELt4T1FDYNRUMHneqI0WFSZHzDMYMufajK2WFS2DQU\n",
       "DR10aiTGiKRQ+/nbcEzjVruEWzlHxPp3DU0ROuhUT4wesxaQfqJs8U6OKlTk7DFrYdNQNHTQqZUY\n",
       "Ky4F9HuEdT+DT8eHgnwLrLgUvIamiBx0yprCffQYx5QH7tSagtfQFJGDTnXF6HL7ou5xq3smegiR\n",
       "xtgXvIamiBx0qilGk1mL9NTYaY7caUPlozR0LXiNR1NEDjrVFqPNpKgA969zg5MgBZGGpmA1+S+S\n",
       "InbQqYUYCzy1joJTK6xG7PgiP/fmwRtnHr68F+jZ0lM04hMQvQJN/r6ko7GDTuUEkyutH0fmEYpv\n",
       "46L8GhhtoSFk7KBTTgt7Y13Ry+QaJwk1oceQrfID40ZijZOEOlC9oQrmL5BY4yehdnzsDfVm3viL\n",
       "xkb9ADQ3tcGoyjzLAAAAAElFTkSuQmCC\n",
       "\" style=\"display:inline;vertical-align:middle;\" /></a></td></tr>\n",
       "<tr><td>1</td><td>Operation</td><td>operator:&nbsp;4<br>operands:&nbsp;3<br></td><td><a class=\"ProveItLink\" href=\"../6e7fbb0aa1475f8ee56bd3700d557b1fe713839b0/expr.ipynb\"><img src=\"data:image/png;base64,iVBORw0KGgoAAAANSUhEUgAAALUAAAAVBAMAAADyYbJ0AAAAMFBMVEX////c3NwiIiJERESqqqqY\n",
       "mJh2dnZmZmYQEBDu7u4yMjJUVFTMzMyIiIi6uroAAAAs73DqAAAAAXRSTlMAQObYZgAAAYdJREFU\n",
       "OMu1lTFLw0AUx581aas5i6sVobSLoxXc3fwGjtJFOgki0tmhc8gondqhShbpR3DSoUs+gEPpqAhu\n",
       "bsXeeyn1Lv+QQzDQvHt3/98/17vcC9F/XrWkUHLxV2bKzQM0ftPUV4sqz9bAlCo81DxCGHsxE3P+\n",
       "mvN46R+m2V4amVHXRcxOkvWObN15mj1KEMb0Rkw1ynrHtu5eEnUsYmFMb8S8U9b7w9ZtnnIIPuVP\n",
       "CmN6I6YHvMuJpSuLzYAaHHvAGzFjwzvd/m9L58lmXtItx7Hhnc+EYN7kPZm62h2HBtU5hmDeiFkg\n",
       "bxqEhk596bufUMBv+gJ5AwZ6q4cIeJciUpNcb8D00Xq3IrQmZ8vfSDf6aL0BcwLm7U2sffF5L0ep\n",
       "f8qY80ZMF3jXCb2DShePkk67wBsxc6lJh7omra72WvfC9+2ZPjmz1XGfi3fnt3d7Xd/Ea8lUd7PF\n",
       "xi57cuZr3NQPcGX8jkONvzJTZyYulm0NrQ5XZr9YF9hr4MpsFH+f3uwON+YHVNJ7lJAfIlEAAAAA\n",
       "SUVORK5CYII=\n",
       "\" style=\"display:inline;vertical-align:middle;\" /></a></td></tr>\n",
       "<tr><td>2</td><td>Operation</td><td>operator:&nbsp;4<br>operands:&nbsp;9<br></td><td><a class=\"ProveItLink\" href=\"../e2145872ce7a5e525f16e68ca15389ecd4fefe540/expr.ipynb\"><img src=\"data:image/png;base64,iVBORw0KGgoAAAANSUhEUgAAADUAAAAPBAMAAAC2KZqIAAAAMFBMVEX///8QEBCqqqqYmJiIiIi6\n",
       "urpUVFQyMjLu7u7c3Nx2dnbMzMxEREQiIiJmZmYAAABKII+GAAAAAXRSTlMAQObYZgAAAHRJREFU\n",
       "GNNjeHsXBO4woAJOByhjH1xoBozB/QBDrg63HPfZBpxybCEOOOXaGS7glFvM8Ain3AWG6bjkmB0Y\n",
       "2DbgkONtYOBOwCGnB8SVOOQqofJY5LgPgMxFk9sF9XkAkGAB+p4PGPiyd+8eQAp7VjAZgBAAAJlk\n",
       "LJfjnjY9AAAAAElFTkSuQmCC\n",
       "\" style=\"display:inline;vertical-align:middle;\" /></a></td></tr>\n",
       "<tr><td>3</td><td>ExprTuple</td><td>5, 6</td><td><a class=\"ProveItLink\" href=\"../8ed484d90d713dd7af84ea602baf09b346f846ac0/expr.ipynb\"><img src=\"data:image/png;base64,iVBORw0KGgoAAAANSUhEUgAAAJcAAAAVBAMAAAC5yWGZAAAAMFBMVEX////c3NwiIiJERESqqqqY\n",
       "mJh2dnZmZmYQEBDu7u4yMjJUVFTMzMyIiIi6uroAAAAs73DqAAAAAXRSTlMAQObYZgAAASlJREFU\n",
       "OMtjYKAq4LtAHXPiQMRpMFMWm3yREggog9nsYLaSATZ1YM3sB4DESjD/OA77kMV5CvAqWsDAwHsB\n",
       "07AJxBiGoSiMgYFjAqZhK4kxDEPRDAaGV5iaGF4TYxiGImYHhjIshrFdIMIwDEVsBQxLUTRB4+w7\n",
       "XsNwKGJZwNCHxWUMLOuIiE10RXwNDP+wGcYwq4+IpIGmiOcDdsN4lk0gbBi6IqBhLdjCTHkCEWGG\n",
       "rgjoTVMsLmPZgBq2nNhchq6IgXUBQzoWw6TQktB8BSyGoSsCJY1HkAytAcvQIGCIUHcMnLY/QgxL\n",
       "QDbMEFEaQDRzPWDgEMDMuAfQBR4yEKEImJ1YE4goqwKIKdByUTMsRYZxAosgBmnC6niJcRg3KLwY\n",
       "qVRs32FgAABwBVpmKOh66QAAAABJRU5ErkJggg==\n",
       "\" style=\"display:inline;vertical-align:middle;\" /></a></td></tr>\n",
       "<tr><td>4</td><td>Literal</td><td></td><td><a class=\"ProveItLink\" href=\"../../../conjunction/__pv_it/76b5f4f4c45c0b6a9b59b297fc07dfa9555698f50/expr.ipynb\"><img src=\"data:image/png;base64,iVBORw0KGgoAAAANSUhEUgAAAAwAAAAOBAMAAADpk+DfAAAALVBMVEX///+qqqqYmJh2dnaIiIi6\n",
       "urpUVFQiIiJERETMzMxmZmYyMjLu7u7c3NwAAABvwqPxAAAAAXRSTlMAQObYZgAAAEtJREFUCNdj\n",
       "YGDgPcAAAtwLwNSMGjCV6gIieTawgyhmBS4BIMXOwLsBSKkwMGQCKaC6aQwMjEBd3BdACMScAVJd\n",
       "wJAKolwYAkAUKwAk0guX6efcigAAAABJRU5ErkJggg==\n",
       "\" style=\"display:inline;vertical-align:middle;\" /></a></td></tr>\n",
       "<tr><td>5</td><td>Operation</td><td>operator:&nbsp;8<br>operands:&nbsp;7<br></td><td><a class=\"ProveItLink\" href=\"../5c89411a8c468da13cdc01880daaa573c582a8db0/expr.ipynb\"><img src=\"data:image/png;base64,iVBORw0KGgoAAAANSUhEUgAAAD8AAAAPBAMAAAChCwpBAAAALVBMVEX///+qqqp2dnZUVFS6uroy\n",
       "MjLu7u5EREQQEBAiIiJmZmbMzMyIiIjc3NwAAAAGhiwUAAAAAXRSTlMAQObYZgAAAGVJREFUGNNj\n",
       "YGBguMOABXDNBIMCEHsXA3bAvQDKQFHARkgBawIBBSwGBBQw6OBWsBLs7nkLCJjAIOpAQAFbhAN+\n",
       "BVvV8LthZhkBNwgT8CZvAJoCoLkzZs6cDhdlv4BQoIA1htD4AF7PJ5Q+t8orAAAAAElFTkSuQmCC\n",
       "\" style=\"display:inline;vertical-align:middle;\" /></a></td></tr>\n",
       "<tr><td>6</td><td>Operation</td><td>operator:&nbsp;8<br>operands:&nbsp;9<br></td><td><a class=\"ProveItLink\" href=\"../c65898187aa5a4404b8e436d28e20f1178f211670/expr.ipynb\"><img src=\"data:image/png;base64,iVBORw0KGgoAAAANSUhEUgAAAD8AAAAPBAMAAAChCwpBAAAALVBMVEX////c3NwQEBCqqqqIiIhU\n",
       "VFS6uroyMjLu7u52dnbMzMxEREQiIiJmZmYAAACG8MiSAAAAAXRSTlMAQObYZgAAAGJJREFUGNNj\n",
       "uHMGBE4zYAGMDlDGWgbsgOsCNgUchBSwNxBQwBZAQAHDFNwKIB46d4GACQzmCQQUcBQl4FewfAZ+\n",
       "N5zZQcANpgS8yViAqWAlsgJuAQjNC7RM58yZDZgxhMYHACe9L414BCJLAAAAAElFTkSuQmCC\n",
       "\" style=\"display:inline;vertical-align:middle;\" /></a></td></tr>\n",
       "<tr><td>7</td><td>ExprTuple</td><td>11, 10</td><td><a class=\"ProveItLink\" href=\"../f33a8d5708d13f20cb034555a092a5521deab66a0/expr.ipynb\"><img src=\"data:image/png;base64,iVBORw0KGgoAAAANSUhEUgAAADUAAAAVBAMAAAAUZLt1AAAAMFBMVEX////c3NwiIiJERESqqqqY\n",
       "mJh2dnZmZmYQEBDu7u4yMjJUVFTMzMyIiIi6uroAAAAs73DqAAAAAXRSTlMAQObYZgAAALBJREFU\n",
       "KM9jYMAH+C5gFY4DEadBBCNcQZESCCgzsB8AclaCRHgKkLQcB5MLGBh4L+CQC2Ng4JiAQ24GA8Mr\n",
       "BhxyzA4MZbjk2AoYluKSY1nA0IdLjq+B4R8uOZ4PeOVa8JhpiiQ3AVmOdQFDOkKO8xOaHx4xMLAD\n",
       "A7dJScmAs18ALHoMTHI9YOAQQIouJDYozFgTEFxW5AjMhcURphwnMI4YpBF85BTALYAS5SjgDgMD\n",
       "AMUhLsE7xITaAAAAAElFTkSuQmCC\n",
       "\" style=\"display:inline;vertical-align:middle;\" /></a></td></tr>\n",
       "<tr><td>8</td><td>Literal</td><td></td><td><a class=\"ProveItLink\" href=\"../e5c030cabcb650938f92dee8256fe11cd12bf9b30/expr.ipynb\"><img src=\"data:image/png;base64,iVBORw0KGgoAAAANSUhEUgAAABMAAAANBAMAAAC5okgUAAAALVBMVEX////c3NxERETMzMwQEBCq\n",
       "qqoiIiJmZmaIiIh2dnZUVFS6uroyMjLu7u4AAACPpZJTAAAAAXRSTlMAQObYZgAAAD1JREFUCNdj\n",
       "YAABXgY44LkAZ3IvQAjPABFlaSCQV4AQjtkAZ/IegbNt5sLUpunC5aPgLMYDcCaTAJzJDCIA2yMN\n",
       "HCCUuIIAAAAASUVORK5CYII=\n",
       "\" style=\"display:inline;vertical-align:middle;\" /></a></td></tr>\n",
       "<tr><td>9</td><td>ExprTuple</td><td>10, 11</td><td><a class=\"ProveItLink\" href=\"../0f60990fe1c69084ca218cead46950bf14732b6a0/expr.ipynb\"><img src=\"data:image/png;base64,iVBORw0KGgoAAAANSUhEUgAAADUAAAAVBAMAAAAUZLt1AAAAMFBMVEX////c3NwiIiJERESqqqqY\n",
       "mJh2dnZmZmYQEBDu7u4yMjJUVFTMzMyIiIi6uroAAAAs73DqAAAAAXRSTlMAQObYZgAAALFJREFU\n",
       "KM9jYMAH+C5gFY4DEacZ2JXAwAAmLAsi2A8AiZUgFk8BkpbjYHIBAwPvBRxyYQwMHBNwyM1gYHjF\n",
       "gEOO2YGhDJccWwHDUlxyLAsY+nDJ8TUw/MMlx/MBr1wLHjNNkeQmIMuxLmBIR8hxfkLzwyOIXAJI\n",
       "rl+AgaFISUlDSUmZgYHrAQOHAFJ0IbFBYcaagOCyIkdgLiyOMOU4gXHEII3gI6cAbpD5jNjTxB0G\n",
       "BgCWci1ZX87w6gAAAABJRU5ErkJggg==\n",
       "\" style=\"display:inline;vertical-align:middle;\" /></a></td></tr>\n",
       "<tr><td>10</td><td>Literal</td><td></td><td><a class=\"ProveItLink\" href=\"../../../__pv_it/68a87cc3370287d726c7086ace789e680e4461c30/expr.ipynb\"><img src=\"data:image/png;base64,iVBORw0KGgoAAAANSUhEUgAAAA4AAAAOBAMAAADtZjDiAAAAFVBMVEX///92dnbMzMxEREQiIiJm\n",
       "ZmYAAABAT6GXAAAAAXRSTlMAQObYZgAAABhJREFUCNdjCHEBAWcGIFBlgABa0YpADAAxegPJJk4d\n",
       "XAAAAABJRU5ErkJggg==\n",
       "\" style=\"display:inline;vertical-align:middle;\" /></a></td></tr>\n",
       "<tr><td>11</td><td>Literal</td><td></td><td><a class=\"ProveItLink\" href=\"../../../__pv_it/8f1f7fac882de28c72b62ab80a1700b6d8fd066b0/expr.ipynb\"><img src=\"data:image/png;base64,iVBORw0KGgoAAAANSUhEUgAAAA4AAAAOBAMAAADtZjDiAAAAG1BMVEX///9EREQQEBAiIiJmZmbM\n",
       "zMyIiIjc3NwAAACryk5kAAAAAXRSTlMAQObYZgAAABlJREFUCNdjYGBgKGOAgBBa0s7GxkbGxoYA\n",
       "FMUF2aBfHgoAAAAASUVORK5CYII=\n",
       "\" style=\"display:inline;vertical-align:middle;\" /></a></td></tr>\n",
       "</table>\n"
      ],
      "text/plain": [
       "0. ((FALSE => TRUE) and (TRUE => FALSE) , TRUE and FALSE)\n",
       "   core type: ExprTuple\n",
       "   sub-expressions: 1, 2\n",
       "1. (FALSE => TRUE) and (TRUE => FALSE)\n",
       "   core type: Operation\n",
       "   operator: 4\n",
       "   operands: 3\n",
       "2. TRUE and FALSE\n",
       "   core type: Operation\n",
       "   operator: 4\n",
       "   operands: 9\n",
       "3. (FALSE => TRUE , TRUE => FALSE)\n",
       "   core type: ExprTuple\n",
       "   sub-expressions: 5, 6\n",
       "4. and\n",
       "   core type: Literal\n",
       "   sub-expressions: \n",
       "5. FALSE => TRUE\n",
       "   core type: Operation\n",
       "   operator: 8\n",
       "   operands: 7\n",
       "6. TRUE => FALSE\n",
       "   core type: Operation\n",
       "   operator: 8\n",
       "   operands: 9\n",
       "7. (FALSE , TRUE)\n",
       "   core type: ExprTuple\n",
       "   sub-expressions: 11, 10\n",
       "8. =>\n",
       "   core type: Literal\n",
       "   sub-expressions: \n",
       "9. (TRUE , FALSE)\n",
       "   core type: ExprTuple\n",
       "   sub-expressions: 10, 11\n",
       "10. TRUE\n",
       "    core type: Literal\n",
       "    sub-expressions: \n",
       "11. FALSE\n",
       "    core type: Literal\n",
       "    sub-expressions: "
      ]
     },
     "execution_count": 4,
     "metadata": {},
     "output_type": "execute_result"
    }
   ],
   "source": [
    "# display the expression information\n",
    "expr.exprInfo()"
   ]
  },
  {
   "cell_type": "code",
   "execution_count": null,
   "metadata": {},
   "outputs": [],
   "source": []
  }
 ],
 "metadata": {
  "kernelspec": {
   "display_name": "Python 3",
   "language": "python",
   "name": "python3"
  }
 },
 "nbformat": 4,
 "nbformat_minor": 0
}
