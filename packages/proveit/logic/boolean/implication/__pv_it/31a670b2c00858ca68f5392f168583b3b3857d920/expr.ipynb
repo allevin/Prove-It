{
 "cells": [
  {
   "cell_type": "markdown",
   "metadata": {},
   "source": [
    "Expression of type <a class=\"ProveItLink\" href=\"../../../../../../../doc/html/api/proveit.logic.Implies.html\">Implies</a>\n",
    "=======================\n",
    "# from context <a class=\"ProveItLink\" href=\"../../_context_.ipynb\">proveit.logic.boolean.implication</a>"
   ]
  },
  {
   "cell_type": "code",
   "execution_count": 1,
   "metadata": {},
   "outputs": [],
   "source": [
    "# import Expression classes needed to build the expression\n",
    "from proveit._common_ import B\n",
    "from proveit.logic import Implies"
   ]
  },
  {
   "cell_type": "code",
   "execution_count": 2,
   "metadata": {},
   "outputs": [
    {
     "data": {
      "text/html": [
       "<strong id=\"expr\">expr:</strong> <a class=\"ProveItLink\" href=\"expr.ipynb\"><img src=\"data:image/png;base64,iVBORw0KGgoAAAANSUhEUgAAAEEAAAAPBAMAAABJi79qAAAAMFBMVEX///+qqqru7u4iIiJ2dnbc\n",
       "3NyIiIjMzMxmZmYQEBC6uroyMjJERERUVFSYmJgAAADLUcuvAAAAAXRSTlMAQObYZgAAAO9JREFU\n",
       "GNNjYGB4+//u3dMLGDAA3/2/d+/sAjPnMDBw/MJUwcB5gIGhH6SV/RsQ/4WLK8BZ9QlAfAHIYPsK\n",
       "NPELXHwTnJUfwMDw3gHI4JnAwMA8CS6+Fs46CcSWICP5LzCw7kGYzZIAYwFtjj4Etu5aWvMDEIPD\n",
       "GAx+QBWw/03LsINZx2SL5AVGiA/B7lO+ALMu/wGSEu1ZYArkPrZ/UOsgToaZvgXiKKD7IH5kBym7\n",
       "L4Bwhw3U1fVAc3k/Qq1j/Y3kjAtIwRG/AWpdJSKYGKKRgoN9NtA8jvN/797eh+TOo1C6Bxihux9g\n",
       "iS6GAjQ+AIDSSihpVbkQAAAAAElFTkSuQmCC\n",
       "\" style=\"display:inline;vertical-align:middle;\" /></a><br>"
      ],
      "text/plain": [
       "expr: B => B"
      ]
     },
     "execution_count": 2,
     "metadata": {},
     "output_type": "execute_result"
    }
   ],
   "source": [
    "# build up the expression from sub-expressions\n",
    "expr = Implies(B, B)"
   ]
  },
  {
   "cell_type": "code",
   "execution_count": 3,
   "metadata": {},
   "outputs": [
    {
     "name": "stdout",
     "output_type": "stream",
     "text": [
      "Passed sanity check: built 'expr' is the same as the stored Expression.\n"
     ]
    }
   ],
   "source": [
    "# check that the built expression is the same as the stored expression\n",
    "%check_expr"
   ]
  },
  {
   "cell_type": "code",
   "execution_count": 4,
   "metadata": {},
   "outputs": [
    {
     "data": {
      "text/html": [
       "<table><tr><th>&nbsp;</th><th>core type</th><th>sub-expressions</th><th>expression</th></tr>\n",
       "<tr><td>0</td><td>Operation</td><td>operator:&nbsp;1<br>operands:&nbsp;2<br></td><td><a class=\"ProveItLink\" href=\"expr.ipynb\"><img src=\"data:image/png;base64,iVBORw0KGgoAAAANSUhEUgAAAEEAAAAPBAMAAABJi79qAAAAMFBMVEX///+qqqru7u4iIiJ2dnbc\n",
       "3NyIiIjMzMxmZmYQEBC6uroyMjJERERUVFSYmJgAAADLUcuvAAAAAXRSTlMAQObYZgAAAO9JREFU\n",
       "GNNjYGB4+//u3dMLGDAA3/2/d+/sAjPnMDBw/MJUwcB5gIGhH6SV/RsQ/4WLK8BZ9QlAfAHIYPsK\n",
       "NPELXHwTnJUfwMDw3gHI4JnAwMA8CS6+Fs46CcSWICP5LzCw7kGYzZIAYwFtjj4Etu5aWvMDEIPD\n",
       "GAx+QBWw/03LsINZx2SL5AVGiA/B7lO+ALMu/wGSEu1ZYArkPrZ/UOsgToaZvgXiKKD7IH5kBym7\n",
       "L4Bwhw3U1fVAc3k/Qq1j/Y3kjAtIwRG/AWpdJSKYGKKRgoN9NtA8jvN/797eh+TOo1C6Bxihux9g\n",
       "iS6GAjQ+AIDSSihpVbkQAAAAAElFTkSuQmCC\n",
       "\" style=\"display:inline;vertical-align:middle;\" /></a></td></tr>\n",
       "<tr><td>1</td><td>Literal</td><td></td><td><a class=\"ProveItLink\" href=\"../e5c030cabcb650938f92dee8256fe11cd12bf9b30/expr.ipynb\"><img src=\"data:image/png;base64,iVBORw0KGgoAAAANSUhEUgAAABMAAAANBAMAAAC5okgUAAAALVBMVEX////c3NxERETMzMwQEBCq\n",
       "qqoiIiJmZmaIiIh2dnZUVFS6uroyMjLu7u4AAACPpZJTAAAAAXRSTlMAQObYZgAAAD1JREFUCNdj\n",
       "YAABXgY44LkAZ3IvQAjPABFlaSCQV4AQjtkAZ/IegbNt5sLUpunC5aPgLMYDcCaTAJzJDCIA2yMN\n",
       "HCCUuIIAAAAASUVORK5CYII=\n",
       "\" style=\"display:inline;vertical-align:middle;\" /></a></td></tr>\n",
       "<tr><td>2</td><td>ExprTuple</td><td>3, 3</td><td><a class=\"ProveItLink\" href=\"../b0e454d7727b6ebee4a9cf884c6c498cdc7d01710/expr.ipynb\"><img src=\"data:image/png;base64,iVBORw0KGgoAAAANSUhEUgAAADcAAAAVBAMAAAAQkWtIAAAAMFBMVEX////c3NwiIiJERESqqqqY\n",
       "mJh2dnZmZmYQEBDu7u4yMjJUVFTMzMyIiIi6uroAAAAs73DqAAAAAXRSTlMAQObYZgAAAQ1JREFU\n",
       "KM9jYMAL+C5gF48DEaeBOPr/7t1WD6CiUA77ASB7JUigmYGB/R9MD5SzgIGBF2Qqz18g/g2Vg3HC\n",
       "GBg4JgD5vB8ZGFi/QSVhnBkMDK9AfOYGBgamTqgkjMPswFAG4vNvYGBcPAEqCeOwFTAsBfHP771b\n",
       "FABzD4zDsoChD8S/L8DAqQ2ThHH4GhjAHrAAicG0wjg8HyCSIF/EJ0AlYRygZAvIZ1+BxH4HqDdh\n",
       "HKCxplCfMf5iYOBkQOIwsC5gSIf67AQwGOcrIHFAXnkEDEj737t3gbw04yMSh4HrAQOHAFI0PUSO\n",
       "M2DwsSYg8QOQJXNhUYZFkhMYZQzSCD4vskZukH2MOJLJHQYGAKmkVn6OCCB1AAAAAElFTkSuQmCC\n",
       "\" style=\"display:inline;vertical-align:middle;\" /></a></td></tr>\n",
       "<tr><td>3</td><td>Variable</td><td></td><td><a class=\"ProveItLink\" href=\"../../../../../__pv_it/077b2ff79244fb4582cbe22c6e3356fa92a52f2f0/expr.ipynb\"><img src=\"data:image/png;base64,iVBORw0KGgoAAAANSUhEUgAAABAAAAAOBAMAAADUAYG5AAAAMFBMVEX///+qqqru7u4iIiJ2dnbc\n",
       "3NyIiIjMzMxmZmYQEBC6uroyMjJERERUVFSYmJgAAADLUcuvAAAAAXRSTlMAQObYZgAAAGpJREFU\n",
       "CNdjYGB4+//u3dMLGIBgDgMDxy8gzf4NiP8CGWxfGRj4vgAZPBMYGJgnARn8FxhY9ygAGfXX0pof\n",
       "gDTlBzAw2YIYJ0EckBBI53sHoBH/gIz7AhBjWH9DjancBLTl/N+7t/cxMAAA3u4f/5xagjYAAAAA\n",
       "SUVORK5CYII=\n",
       "\" style=\"display:inline;vertical-align:middle;\" /></a></td></tr>\n",
       "</table>\n"
      ],
      "text/plain": [
       "0. B => B\n",
       "   core type: Operation\n",
       "   operator: 1\n",
       "   operands: 2\n",
       "1. =>\n",
       "   core type: Literal\n",
       "   sub-expressions: \n",
       "2. (B , B)\n",
       "   core type: ExprTuple\n",
       "   sub-expressions: 3, 3\n",
       "3. B\n",
       "   core type: Variable\n",
       "   sub-expressions: "
      ]
     },
     "execution_count": 4,
     "metadata": {},
     "output_type": "execute_result"
    }
   ],
   "source": [
    "# display the expression information\n",
    "expr.exprInfo()"
   ]
  },
  {
   "cell_type": "code",
   "execution_count": null,
   "metadata": {},
   "outputs": [],
   "source": []
  }
 ],
 "metadata": {
  "kernelspec": {
   "display_name": "Python 3",
   "language": "python",
   "name": "python3"
  }
 },
 "nbformat": 4,
 "nbformat_minor": 0
}
