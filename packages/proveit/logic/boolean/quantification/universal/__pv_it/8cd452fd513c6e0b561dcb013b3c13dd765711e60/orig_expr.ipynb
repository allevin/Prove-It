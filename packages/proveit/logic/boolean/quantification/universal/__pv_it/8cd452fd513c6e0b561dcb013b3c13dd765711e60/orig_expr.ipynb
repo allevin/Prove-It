{
 "cells": [
  {
   "cell_type": "markdown",
   "metadata": {},
   "source": [
    "Temporary notebook for <a class=\"ProveItLink\" href=\"../../_theorems_.ipynb#forallInduction\">forallInduction</a> of type <a href=\"../../../../../../../../doc/html/api/proveit.logic.Forall.html\">Forall</a>\n",
    "=======================\n",
    "# a not-yet-official Theorem from context <a class=\"ProveItLink\" href=\"../../_context_.ipynb\">proveit.logic.boolean.quantification.universal</a>"
   ]
  },
  {
   "cell_type": "code",
   "execution_count": null,
   "metadata": {},
   "outputs": [],
   "source": [
    "# import Expression classes needed to build the expression\n",
    "from proveit import Function\n",
	"from proveit._common_ import P, l, xx\n",
	"from proveit.logic import And, Equals, Forall, Implies\n",
	"from proveit.number import Add, Len, Naturals, one"
   ]
  },
  {
   "cell_type": "code",
   "execution_count": null,
   "metadata": {},
   "outputs": [],
   "source": [
    "# build up the expression from sub-expressions\n",
    "subExpr1 = []\n",
	"subExpr2 = [l]\n",
	"subExpr3 = [xx]\n",
	"subExpr4 = Len(xx)\n",
	"subExpr5 = Function(P, subExpr3)\n",
	"subExpr6 = Forall(subExpr3, subExpr5, conditions = [Equals(subExpr4, l)])\n",
	"expr = Forall([P], Implies(And(Function(P, [subExpr1]), Forall(subExpr2, Implies(subExpr6, Forall(subExpr3, subExpr5, conditions = [Equals(subExpr4, Add(l, one))])).withWrappingAt(2), domain = Naturals, conditions = subExpr1)), Forall(subExpr2, subExpr6, domain = Naturals, conditions = subExpr1)).withWrappingAt(1), conditions = subExpr1)"
   ]
  },
  {
   "cell_type": "code",
   "execution_count": null,
   "metadata": {},
   "outputs": [],
   "source": [
    "# check that the built expression is the same as the stored expression\n",
    "%check_expr"
   ]
  },
  {
   "cell_type": "code",
   "execution_count": null,
   "metadata": {},
   "outputs": [],
   "source": [
    "# display the expression information\n",
    "expr.exprInfo()"
   ]
  },
  {
   "cell_type": "code",
   "execution_count": null,
   "metadata": {},
   "outputs": [],
   "source": []
  }
 ],
 "metadata": {
  "kernelspec": {
   "display_name": "Python 3",
   "language": "python",
   "name": "python3"
  }
 },
 "nbformat": 4,
 "nbformat_minor": 0
}
