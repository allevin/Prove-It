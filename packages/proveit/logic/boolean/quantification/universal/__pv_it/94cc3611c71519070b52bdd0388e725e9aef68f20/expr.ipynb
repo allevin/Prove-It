{
 "cells": [
  {
   "cell_type": "markdown",
   "metadata": {},
   "source": [
    "Expression of type <a class=\"ProveItLink\" href=\"../../../../../../../../doc/html/api/proveit.ExprTuple.html\">ExprTuple</a>\n",
    "=======================\n",
    "# from context <a class=\"ProveItLink\" href=\"../../_context_.ipynb\">proveit.logic.boolean.quantification.universal</a>"
   ]
  },
  {
   "cell_type": "code",
   "execution_count": 1,
   "metadata": {},
   "outputs": [],
   "source": [
    "# import Expression classes needed to build the expression\n",
    "from proveit import ExprTuple\n",
    "from proveit._common_ import n\n",
    "from proveit.number import NaturalsPos"
   ]
  },
  {
   "cell_type": "code",
   "execution_count": 2,
   "metadata": {},
   "outputs": [
    {
     "data": {
      "text/html": [
       "<strong id=\"expr\">expr:</strong> <a class=\"ProveItLink\" href=\"expr.ipynb\"><img src=\"data:image/png;base64,iVBORw0KGgoAAAANSUhEUgAAAEAAAAAbBAMAAAA+DpTZAAAAMFBMVEX///+qqqp2dnYiIiJERESI\n",
       "iIhmZmYQEBDc3NyYmJgyMjLu7u5UVFTMzMy6uroAAACGxKilAAAAAXRSTlMAQObYZgAAAVxJREFU\n",
       "KM+F0j1Lw0AYB/B/Uq2Jl9R8ATGjo5O4CHFwUEQCWlwcBDcFCX4BMziIk4IfoIsKqcPNWVKqi4VK\n",
       "EMeCnR18oYJKqXgXmjfM6cE9l7v73XPJ5QBBkdLH50IwwoPJg94Qgw4PPhWDUZuFW4gB5gDFyQ77\n",
       "78sU2z0jBptAeSu3cEm3gFe0vEvPY/kDirFuDlyHVcBJtiid4DG/9V1dCzOgbGEjD9odUs8Ale0G\n",
       "VNaPqs0YSPZDBlT6WAFk7RxBOATYU20OtKirD3DBzrpkIejGQKPt9MuVb8wClM1O0RiQhp8C8sYB\n",
       "n23F7wDc67kMV6zZAb5IAlTDSsEAN6zZh9qXQYcA0ymofGItyiNbk6THR1b56dQSwM7hhTEHyqJB\n",
       "Dlzg6YOtJimQa5gIk3Tu758+bkMzk3QFtyJwoc/8Bc5YXYg7dgGYZ/UY4qLy2ySZYnAYxVMx2MX/\n",
       "5QcYXFhfcnNwuwAAAABJRU5ErkJggg==\n",
       "\" style=\"display:inline;vertical-align:middle;\" /></a><br>"
      ],
      "text/plain": [
       "expr: (n , NaturalsPos)"
      ]
     },
     "execution_count": 2,
     "metadata": {},
     "output_type": "execute_result"
    }
   ],
   "source": [
    "# build up the expression from sub-expressions\n",
    "expr = ExprTuple(n, NaturalsPos)"
   ]
  },
  {
   "cell_type": "code",
   "execution_count": 3,
   "metadata": {},
   "outputs": [
    {
     "name": "stdout",
     "output_type": "stream",
     "text": [
      "Passed sanity check: built 'expr' is the same as the stored Expression.\n"
     ]
    }
   ],
   "source": [
    "# check that the built expression is the same as the stored expression\n",
    "%check_expr"
   ]
  },
  {
   "cell_type": "code",
   "execution_count": 4,
   "metadata": {},
   "outputs": [
    {
     "data": {
      "text/html": [
       "<table><tr><th>&nbsp;</th><th>core type</th><th>sub-expressions</th><th>expression</th></tr>\n",
       "<tr><td>0</td><td>ExprTuple</td><td>1, 2</td><td><a class=\"ProveItLink\" href=\"expr.ipynb\"><img src=\"data:image/png;base64,iVBORw0KGgoAAAANSUhEUgAAAEAAAAAbBAMAAAA+DpTZAAAAMFBMVEX///+qqqp2dnYiIiJERESI\n",
       "iIhmZmYQEBDc3NyYmJgyMjLu7u5UVFTMzMy6uroAAACGxKilAAAAAXRSTlMAQObYZgAAAVxJREFU\n",
       "KM+F0j1Lw0AYB/B/Uq2Jl9R8ATGjo5O4CHFwUEQCWlwcBDcFCX4BMziIk4IfoIsKqcPNWVKqi4VK\n",
       "EMeCnR18oYJKqXgXmjfM6cE9l7v73XPJ5QBBkdLH50IwwoPJg94Qgw4PPhWDUZuFW4gB5gDFyQ77\n",
       "78sU2z0jBptAeSu3cEm3gFe0vEvPY/kDirFuDlyHVcBJtiid4DG/9V1dCzOgbGEjD9odUs8Ale0G\n",
       "VNaPqs0YSPZDBlT6WAFk7RxBOATYU20OtKirD3DBzrpkIejGQKPt9MuVb8wClM1O0RiQhp8C8sYB\n",
       "n23F7wDc67kMV6zZAb5IAlTDSsEAN6zZh9qXQYcA0ymofGItyiNbk6THR1b56dQSwM7hhTEHyqJB\n",
       "Dlzg6YOtJimQa5gIk3Tu758+bkMzk3QFtyJwoc/8Bc5YXYg7dgGYZ/UY4qLy2ySZYnAYxVMx2MX/\n",
       "5QcYXFhfcnNwuwAAAABJRU5ErkJggg==\n",
       "\" style=\"display:inline;vertical-align:middle;\" /></a></td></tr>\n",
       "<tr><td>1</td><td>Variable</td><td></td><td><a class=\"ProveItLink\" href=\"../../../../../../__pv_it/39dbcd3ca0390345b51c6ef7785756419e2c14390/expr.ipynb\"><img src=\"data:image/png;base64,iVBORw0KGgoAAAANSUhEUgAAAAwAAAAJBAMAAAD0ltBnAAAAMFBMVEX///8QEBCYmJhmZmaqqqoi\n",
       "IiLMzMzu7u4yMjJ2dnZUVFTc3NxERESIiIi6uroAAABbPXqjAAAAAXRSTlMAQObYZgAAAERJREFU\n",
       "CNdj4Luz++5KBgZOrl6G+gSGd6wHGOofMBQAsX8BAwivYGBgsGBg+MTOwCDJwPSdk4H7HwPnATcG\n",
       "PgEG7rMOAGtQEUwHZIDZAAAAAElFTkSuQmCC\n",
       "\" style=\"display:inline;vertical-align:middle;\" /></a></td></tr>\n",
       "<tr><td>2</td><td>Literal</td><td></td><td><a class=\"ProveItLink\" href=\"../../../../../../number/sets/integer/__pv_it/42d4bc2e45d5054d807f2641a228c1b440fb8de30/expr.ipynb\"><img src=\"data:image/png;base64,iVBORw0KGgoAAAANSUhEUgAAABsAAAATBAMAAACTqWsLAAAAMFBMVEX////c3Nx2dna6uroQEBCI\n",
       "iIhUVFTMzMyYmJiqqqoiIiJmZmZEREQyMjLu7u4AAADjlg78AAAAAXRSTlMAQObYZgAAAHZJREFU\n",
       "GNNjYIADTgYUwEMy9+2fsw8Ydv2aAJM9wX6AgeEDQ+7dK3fvBjAwZBWEMjA4wPUm32MrQOKml/Hd\n",
       "Q+ZyBtQgcxk2cwSAuGxQLtuDdAe47ekMfAlvkbkMRewoXI4JB5C5DIoI7mEg5r4A49l+AcrwwbgA\n",
       "axoiJO4Xc9gAAAAASUVORK5CYII=\n",
       "\" style=\"display:inline;vertical-align:middle;\" /></a></td></tr>\n",
       "</table>\n"
      ],
      "text/plain": [
       "0. (n , NaturalsPos)\n",
       "   core type: ExprTuple\n",
       "   sub-expressions: 1, 2\n",
       "1. n\n",
       "   core type: Variable\n",
       "   sub-expressions: \n",
       "2. NaturalsPos\n",
       "   core type: Literal\n",
       "   sub-expressions: "
      ]
     },
     "execution_count": 4,
     "metadata": {},
     "output_type": "execute_result"
    }
   ],
   "source": [
    "# display the expression information\n",
    "expr.exprInfo()"
   ]
  },
  {
   "cell_type": "code",
   "execution_count": null,
   "metadata": {},
   "outputs": [],
   "source": []
  }
 ],
 "metadata": {
  "kernelspec": {
   "display_name": "Python 3",
   "language": "python",
   "name": "python3"
  }
 },
 "nbformat": 4,
 "nbformat_minor": 0
}
