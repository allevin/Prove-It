{
 "cells": [
  {
   "cell_type": "markdown",
   "metadata": {},
   "source": [
    "Expression of type <a class=\"ProveItLink\" href=\"../../../../../../../../doc/html/api/proveit.ExprTuple.html\">ExprTuple</a>\n",
    "=======================\n",
    "# from context <a class=\"ProveItLink\" href=\"../../_context_.ipynb\">proveit.logic.boolean.quantification.universal</a>"
   ]
  },
  {
   "cell_type": "code",
   "execution_count": 1,
   "metadata": {},
   "outputs": [],
   "source": [
    "# import Expression classes needed to build the expression\n",
    "from proveit import ExprTuple\n",
    "from proveit._common_ import l, xx\n",
    "from proveit.logic import Equals\n",
    "from proveit.number import Add, Len, one"
   ]
  },
  {
   "cell_type": "code",
   "execution_count": 2,
   "metadata": {},
   "outputs": [
    {
     "data": {
      "text/html": [
       "<strong id=\"expr\">expr:</strong> <a class=\"ProveItLink\" href=\"expr.ipynb\"><img src=\"data:image/png;base64,iVBORw0KGgoAAAANSUhEUgAAAHsAAAAVBAMAAACUF4xmAAAAMFBMVEX////c3NwiIiJERESqqqqY\n",
       "mJh2dnZmZmYQEBDu7u4yMjJUVFTMzMyIiIi6uroAAAAs73DqAAAAAXRSTlMAQObYZgAAAZVJREFU\n",
       "OMuN1L9Lw0AUB/AX2qSJaWpGQaRSXcTBLg7iov9Bpm5qN+lgEUGRTgouCmrBQUHEUHAwinQsuHR3\n",
       "8DYdtBbHgtBF8EdNvbxLW9ucpw++7eXSDzneXQpAaxZa1Rn9t2IEsu2LbOD2C1/N+4EbEPFoEZSJ\n",
       "as/kFECkzALnQt6XB1jomTt4px82i0GE/JEmx4aayb6Prz2eYlHzQr5Ns8uGYeLPGR4/YqkxdFi4\n",
       "rI0HeYyuT2rweGgGs4ZcG4X9sScS4JE0gFzncWUZc4Zct6BJmhbjOcerC+ycBaAneTxsY/aQKyA1\n",
       "zbng4lW6Zyrh8dgGxvUbJr/xWtdP+W2Zx6N1TIvrn7/xe2yC4xR2HKfYy7cQhdPqFxgm4ysJr0Zw\n",
       "8bS/05pg8ZPIT924CwPBp4do614VHpdtzCLyeLLkSldB7m1P40Swcc/IjUSm5FQ5x2YY4C7TzSPr\n",
       "H6t0S6sY1RQe2s3OsP10LP/QymkhT3X9MfyoJT9/v7C80mwWGBRyqcjnuskCEoFKe7YS+N0Qnz+w\n",
       "fAPziIjpLoIa+gAAAABJRU5ErkJggg==\n",
       "\" style=\"display:inline;vertical-align:middle;\" /></a><br>"
      ],
      "text/plain": [
       "expr: (|x| = (l + 1))"
      ]
     },
     "execution_count": 2,
     "metadata": {},
     "output_type": "execute_result"
    }
   ],
   "source": [
    "# build up the expression from sub-expressions\n",
    "expr = ExprTuple(Equals(Len(xx), Add(l, one)))"
   ]
  },
  {
   "cell_type": "code",
   "execution_count": 3,
   "metadata": {},
   "outputs": [
    {
     "name": "stdout",
     "output_type": "stream",
     "text": [
      "Passed sanity check: built 'expr' is the same as the stored Expression.\n"
     ]
    }
   ],
   "source": [
    "# check that the built expression is the same as the stored expression\n",
    "%check_expr"
   ]
  },
  {
   "cell_type": "code",
   "execution_count": 4,
   "metadata": {},
   "outputs": [
    {
     "data": {
      "text/html": [
       "<table><tr><th>&nbsp;</th><th>core type</th><th>sub-expressions</th><th>expression</th></tr>\n",
       "<tr><td>0</td><td>ExprTuple</td><td>1</td><td><a class=\"ProveItLink\" href=\"expr.ipynb\"><img src=\"data:image/png;base64,iVBORw0KGgoAAAANSUhEUgAAAHsAAAAVBAMAAACUF4xmAAAAMFBMVEX////c3NwiIiJERESqqqqY\n",
       "mJh2dnZmZmYQEBDu7u4yMjJUVFTMzMyIiIi6uroAAAAs73DqAAAAAXRSTlMAQObYZgAAAZVJREFU\n",
       "OMuN1L9Lw0AUB/AX2qSJaWpGQaRSXcTBLg7iov9Bpm5qN+lgEUGRTgouCmrBQUHEUHAwinQsuHR3\n",
       "8DYdtBbHgtBF8EdNvbxLW9ucpw++7eXSDzneXQpAaxZa1Rn9t2IEsu2LbOD2C1/N+4EbEPFoEZSJ\n",
       "as/kFECkzALnQt6XB1jomTt4px82i0GE/JEmx4aayb6Prz2eYlHzQr5Ns8uGYeLPGR4/YqkxdFi4\n",
       "rI0HeYyuT2rweGgGs4ZcG4X9sScS4JE0gFzncWUZc4Zct6BJmhbjOcerC+ycBaAneTxsY/aQKyA1\n",
       "zbng4lW6Zyrh8dgGxvUbJr/xWtdP+W2Zx6N1TIvrn7/xe2yC4xR2HKfYy7cQhdPqFxgm4ysJr0Zw\n",
       "8bS/05pg8ZPIT924CwPBp4do614VHpdtzCLyeLLkSldB7m1P40Swcc/IjUSm5FQ5x2YY4C7TzSPr\n",
       "H6t0S6sY1RQe2s3OsP10LP/QymkhT3X9MfyoJT9/v7C80mwWGBRyqcjnuskCEoFKe7YS+N0Qnz+w\n",
       "fAPziIjpLoIa+gAAAABJRU5ErkJggg==\n",
       "\" style=\"display:inline;vertical-align:middle;\" /></a></td></tr>\n",
       "<tr><td>1</td><td>Operation</td><td>operator:&nbsp;2<br>operands:&nbsp;3<br></td><td><a class=\"ProveItLink\" href=\"../b1a68e7e30df7d987d393522c79985b01d5a7d360/expr.ipynb\"><img src=\"data:image/png;base64,iVBORw0KGgoAAAANSUhEUgAAAGsAAAAVBAMAAACzuQ2OAAAAMFBMVEX///9ERESYmJgQEBBUVFTM\n",
       "zMwiIiIyMjJmZmbu7u6IiIi6urp2dnbc3NyqqqoAAACBuYI2AAAAAXRSTlMAQObYZgAAAVdJREFU\n",
       "OMtjeMsAAwgWEeA0FhYM7MKuRRu/NlYHBp78DWiCkgwMHAF4tbFPYGDQRxOb+BNIFODVtgqI2yFM\n",
       "zgsQeooLSJsOXm2WQGwFYfItgIpxgbRNBiueUVa6PQVTGzfQLbxfsWljfABUzJnHYJ+5fgGGNo4D\n",
       "DAxMH7Bp42kAKmZRYPi/4L8CRFt7OQiUgENEgYGBRQCbNr4CoGIeBt7/F7QwHckMDHvmBdi0cRuA\n",
       "FTN9xhYk/EBt8QHYtLF+ACtm+YJL22KwJ8vLy8zLyx1QtfEdYP7FwHUBoq0tDQQSwY58wMAgwonT\n",
       "kfN/3//NcBnTNkZgkHziwaaNCRQk9wWcf/NWY2oDBjPD11k4I4Ar7aRz+QYs0Z3AwLDiJKo2jubv\n",
       "TcCo2YAvcdkimHDbwGAy3jSpg2QzirZTBDMONsCJP+PwOmDXxgLMRavhvNUY8rewa1vKwAAAJj56\n",
       "hkOWEN8AAAAASUVORK5CYII=\n",
       "\" style=\"display:inline;vertical-align:middle;\" /></a></td></tr>\n",
       "<tr><td>2</td><td>Literal</td><td></td><td><a class=\"ProveItLink\" href=\"../../../../../equality/__pv_it/2fb26078095930560931daa0500ce419a39ea6cd0/expr.ipynb\"><img src=\"data:image/png;base64,iVBORw0KGgoAAAANSUhEUgAAAA4AAAAFBAMAAACHocAhAAAAFVBMVEX///9EREQiIiJUVFQyMjJm\n",
       "ZmYAAADubVkoAAAAAXRSTlMAQObYZgAAABRJREFUCNdjCHEBAWcGXCBICQQUAUpuAwlgGKrkAAAA\n",
       "AElFTkSuQmCC\n",
       "\" style=\"display:inline;vertical-align:middle;\" /></a></td></tr>\n",
       "<tr><td>3</td><td>ExprTuple</td><td>4, 5</td><td><a class=\"ProveItLink\" href=\"../8396317a51af253830679ba63e29cf7f3de6e18f0/expr.ipynb\"><img src=\"data:image/png;base64,iVBORw0KGgoAAAANSUhEUgAAAFkAAAAVBAMAAADfv1+LAAAAMFBMVEX////c3NwiIiJERESqqqqY\n",
       "mJh2dnZmZmYQEBDu7u4yMjJUVFTMzMyIiIi6uroAAAAs73DqAAAAAXRSTlMAQObYZgAAAV9JREFU\n",
       "KM99079Lw0AUB/BvMD+NCRkFh4K4iINdHMRF/4NObmo36WBxUcTJwUnQCg4KIoaCg0HEseDS3cHb\n",
       "dJAaHDsVQfBHTbxcmmsaL33Dvdzx4bh79wLQWEIS/a+csAmqfFIdAlej4QH/tTrrZ+g8oDVpvhZo\n",
       "rGXwyRcdXMAiIr0bJ8OJ8/l9pJcB/VikD+Mkk97civQZ0I7Naf2mPcO11BXpkUVsM21MoTb9yquj\n",
       "dERa3cQV02YJIQlLiTaLIi27OGJahRQ6K/wkOhFpew9B727KZ+qWj02RHutwbf6k9HM0aJ5XP/C8\n",
       "u7TeZ0Yu67+wnEQvGDknmWP6MigEGGd70/rjQxVpxcU604ViI5BuWS3f6UL3IqeCb0xbk5WG5zNd\n",
       "o6/9VBnU2s73FjDqQ3cyL287/Wbie7OgL6+UM1oZ7P1UbAg6Vsn7GwzasZjIaJKnzeiIEkGLr7SG\n",
       "/GkvwB8idm80jvwUvQAAAABJRU5ErkJggg==\n",
       "\" style=\"display:inline;vertical-align:middle;\" /></a></td></tr>\n",
       "<tr><td>4</td><td>Operation</td><td>operator:&nbsp;6<br>operand:&nbsp;7<br></td><td><a class=\"ProveItLink\" href=\"../0c91cbaef4d017c215abd96b3877763bb2b4ca290/expr.ipynb\"><img src=\"data:image/png;base64,iVBORw0KGgoAAAANSUhEUgAAABYAAAAVBAMAAACwDgOmAAAAMFBMVEX///9ERESYmJgQEBBUVFTM\n",
       "zMwiIiIyMjJmZmbu7u6IiIi6urp2dnbc3NyqqqoAAACBuYI2AAAAAXRSTlMAQObYZgAAAGVJREFU\n",
       "CNdjeMsAA28ZTsPZp8lhzygr3Z4CYXPmMdhnrl8AZrMoMPxf8F8BzOZh4P1/QQuml+kzwhyWLzA2\n",
       "3wHmXwxcF8Ds+b/v/2a4DBG/L+D8m7cawuZKO+lcvoEcd66Gs1cDALq5OYTdDpAdAAAAAElFTkSu\n",
       "QmCC\n",
       "\" style=\"display:inline;vertical-align:middle;\" /></a></td></tr>\n",
       "<tr><td>5</td><td>Operation</td><td>operator:&nbsp;8<br>operands:&nbsp;9<br></td><td><a class=\"ProveItLink\" href=\"../dc6624705b5cfbb97d335b72f62eb2a53fae59840/expr.ipynb\"><img src=\"data:image/png;base64,iVBORw0KGgoAAAANSUhEUgAAACkAAAAQBAMAAAB5O0ugAAAAMFBMVEX///+qqqru7u5ERERUVFTM\n",
       "zMzc3NyIiIgQEBAyMjJmZmaYmJi6uroiIiJ2dnYAAAD2HuJxAAAAAXRSTlMAQObYZgAAAG9JREFU\n",
       "GNNjYHj7hwEVMCsACe4PqIJM9iBRrgkQnhpU0MUfJMpRAOGKwxTXg0TzA7CJ7mfAJuqMVbQdmyjr\n",
       "V2yi7A0g1sqZM2/MnDkFLsrsoIBFLf+GB9hEg7D5gn0dmgmr+mdtQISKOAM2cByJDQDRnRu9zQk/\n",
       "mAAAAABJRU5ErkJggg==\n",
       "\" style=\"display:inline;vertical-align:middle;\" /></a></td></tr>\n",
       "<tr><td>6</td><td>Literal</td><td></td><td><a class=\"ProveItLink\" href=\"../../../../../../number/sets/integer/__pv_it/0a9286fafc7688968c9f0b1c9372a7c495b9f9510/expr.ipynb\"><img src=\"data:image/png;base64,iVBORw0KGgoAAAANSUhEUgAAADsAAAASBAMAAAAXqLt+AAAAMFBMVEX///+qqqru7u5ERERUVFTM\n",
       "zMzc3NyIiIgQEBAyMjJmZmaYmJi6uroiIiJ2dnYAAAD2HuJxAAAAAXRSTlMAQObYZgAAAURJREFU\n",
       "KM99kT9LAnEYxz93Xmnn33fgvYJ0iISWhIJ0k95ABw2BixcFkhC1RFu4BU03lNIibg0N3hDUlhA0\n",
       "xlFDQQgmaBQOPXc5BGoPHPf93ef3fJ/vw0FnyKRSc23/He5OYEcwZ/tSr45jpQfxhC9D1jjWxfje\n",
       "8GWpMI6jYtz5lS15iq81bhe3dl2JUn9P3ywvWJxd7ZiCVmTUI0XcvKX24ZySTVLSfZl6VvCx+Dtc\n",
       "RJwH1CHhnpfpUlr6aGmYkY7cddlUhUngUJYNkyc/XVRmBQ/he7SMViWZYN9z8ZiYEsgafI72jzeN\n",
       "A5MllC5myuENQz653vggIZeW4coeH3JTcUSchE3i6xZ7qDXP6kUppAxtgGbPk0ftx6StYRCrl+EO\n",
       "NreJrFXazGYsTqHxPOFXBWyml0MqMZ3qA1b/aVYylebf8w8ORloN8BKQFQAAAABJRU5ErkJggg==\n",
       "\" style=\"display:inline;vertical-align:middle;\" /></a></td></tr>\n",
       "<tr><td>7</td><td>Variable</td><td></td><td><a class=\"ProveItLink\" href=\"../../../../../../__pv_it/7a540faade4b95df4e25b93ec64921746d67c7a50/expr.ipynb\"><img src=\"data:image/png;base64,iVBORw0KGgoAAAANSUhEUgAAAA0AAAAKBAMAAACdwMn3AAAAMFBMVEX///9ERETc3Nx2dnaYmJiI\n",
       "iIgQEBCqqqpUVFS6urrMzMwiIiIyMjJmZmbu7u4AAAAYebpBAAAAAXRSTlMAQObYZgAAAFNJREFU\n",
       "CNdjYHh7+tScHQwMfNsZ8vfFBzBwODD8D/jvwMDMwPRfwZUBCFi+MYABxw8QyW7A9pWBVYHh/U/9\n",
       "nwxqDAz6Am0/mU4yMLDutms7M4EBAKnKFqcheKyGAAAAAElFTkSuQmCC\n",
       "\" style=\"display:inline;vertical-align:middle;\" /></a></td></tr>\n",
       "<tr><td>8</td><td>Literal</td><td></td><td><a class=\"ProveItLink\" href=\"../../../../../../number/addition/__pv_it/3e6688136fa3c7aefbebe51301b7c3ebf0b69c440/expr.ipynb\"><img src=\"data:image/png;base64,iVBORw0KGgoAAAANSUhEUgAAAA4AAAAOBAMAAADtZjDiAAAAJFBMVEX///+6urpUVFQQEBAiIiIy\n",
       "MjJmZmaIiIiqqqrc3Nzu7u4AAACgHpL+AAAAAXRSTlMAQObYZgAAAB5JREFUCNdjYGBgWMkAAe2k\n",
       "0Kmhoc6hoUGk6BMHYgAHOwjcado9fwAAAABJRU5ErkJggg==\n",
       "\" style=\"display:inline;vertical-align:middle;\" /></a></td></tr>\n",
       "<tr><td>9</td><td>ExprTuple</td><td>10, 11</td><td><a class=\"ProveItLink\" href=\"../4482f0705465461cbd9e313ceafc42aaf543dc330/expr.ipynb\"><img src=\"data:image/png;base64,iVBORw0KGgoAAAANSUhEUgAAACUAAAAVBAMAAAAzyjqdAAAAMFBMVEX////c3NwiIiJERESqqqqY\n",
       "mJh2dnZmZmYQEBDu7u4yMjJUVFTMzMyIiIi6uroAAAAs73DqAAAAAXRSTlMAQObYZgAAANVJREFU\n",
       "GNNjYMAG+C6gcONAxGkGhqR/UAFLBgb2A0B6JQMD6weI0OSfQGIBAwMvUCv7ArDQ7N0gsTAGBo4J\n",
       "QAw1khckNoOB4RWQkj+AJMbswFAGpOIZkMTYChiWAqnNyGIsCxj6gFQvshhfAwPQaTx/kMV4PoDE\n",
       "eBvQxFqANm2YgKrXlIGBPyCBYQJcjHUBQzpQ7OQFzk/IbnkEZJZN4OwXAHqx4lcpAwPXAwYOAUiI\n",
       "CcACC+g31gQwixUegLmQsEIW4wSFkTSYCQ9sbpAhjKhhf4eBAQCmszhGkNd4vwAAAABJRU5ErkJg\n",
       "gg==\n",
       "\" style=\"display:inline;vertical-align:middle;\" /></a></td></tr>\n",
       "<tr><td>10</td><td>Variable</td><td></td><td><a class=\"ProveItLink\" href=\"../../../../../../__pv_it/3e5d49a51123592869b160296a6e123a424e07a70/expr.ipynb\"><img src=\"data:image/png;base64,iVBORw0KGgoAAAANSUhEUgAAAAYAAAAOBAMAAAD+sXAWAAAALVBMVEX////u7u5ERERUVFTMzMzc\n",
       "3NyIiIgQEBAyMjJmZmaYmJi6uroiIiJ2dnYAAACuOh6BAAAAAXRSTlMAQObYZgAAAD9JREFUCNdj\n",
       "YLjzmoGB6wEDA2cDAwN7AgNDnAMDwzoGBgYjIC5jYGB5wsDAVsDAwGQgwMC34AIDn2MCA9tcAQAo\n",
       "GAoWIEgceAAAAABJRU5ErkJggg==\n",
       "\" style=\"display:inline;vertical-align:middle;\" /></a></td></tr>\n",
       "<tr><td>11</td><td>Literal</td><td></td><td><a class=\"ProveItLink\" href=\"../../../../../../number/numeral/__pv_it/9be8badea4c35b9724062cecc501d17a3158d1d20/expr.ipynb\"><img src=\"data:image/png;base64,iVBORw0KGgoAAAANSUhEUgAAAAgAAAAPBAMAAAArJJMAAAAAHlBMVEX///+YmJgyMjIQEBBmZmaI\n",
       "iIhUVFTu7u5EREQAAAAw+MI4AAAAAXRSTlMAQObYZgAAACFJREFUCNdjYGBoZ2BgqJjOwFCWBiQY\n",
       "WEklWJwnOTKAAACjEQo8HvEr3AAAAABJRU5ErkJggg==\n",
       "\" style=\"display:inline;vertical-align:middle;\" /></a></td></tr>\n",
       "</table>\n"
      ],
      "text/plain": [
       "0. (|x| = (l + 1))\n",
       "   core type: ExprTuple\n",
       "   sub-expressions: 1\n",
       "1. |x| = (l + 1)\n",
       "   core type: Operation\n",
       "   operator: 2\n",
       "   operands: 3\n",
       "2. =\n",
       "   core type: Literal\n",
       "   sub-expressions: \n",
       "3. (|x| , l + 1)\n",
       "   core type: ExprTuple\n",
       "   sub-expressions: 4, 5\n",
       "4. |x|\n",
       "   core type: Operation\n",
       "   operator: 6\n",
       "   operand: 7\n",
       "5. l + 1\n",
       "   core type: Operation\n",
       "   operator: 8\n",
       "   operands: 9\n",
       "6. length\n",
       "   core type: Literal\n",
       "   sub-expressions: \n",
       "7. x\n",
       "   core type: Variable\n",
       "   sub-expressions: \n",
       "8. +\n",
       "   core type: Literal\n",
       "   sub-expressions: \n",
       "9. (l , 1)\n",
       "   core type: ExprTuple\n",
       "   sub-expressions: 10, 11\n",
       "10. l\n",
       "    core type: Variable\n",
       "    sub-expressions: \n",
       "11. 1\n",
       "    core type: Literal\n",
       "    sub-expressions: "
      ]
     },
     "execution_count": 4,
     "metadata": {},
     "output_type": "execute_result"
    }
   ],
   "source": [
    "# display the expression information\n",
    "expr.exprInfo()"
   ]
  },
  {
   "cell_type": "code",
   "execution_count": null,
   "metadata": {},
   "outputs": [],
   "source": []
  }
 ],
 "metadata": {
  "kernelspec": {
   "display_name": "Python 3",
   "language": "python",
   "name": "python3"
  }
 },
 "nbformat": 4,
 "nbformat_minor": 0
}
