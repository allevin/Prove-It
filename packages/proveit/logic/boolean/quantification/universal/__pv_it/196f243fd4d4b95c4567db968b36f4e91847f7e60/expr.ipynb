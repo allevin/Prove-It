{
 "cells": [
  {
   "cell_type": "markdown",
   "metadata": {},
   "source": [
    "Expression of type <a class=\"ProveItLink\" href=\"../../../../../../../../doc/html/api/proveit.Lambda.html\">Lambda</a>\n",
    "=======================\n",
    "# from context <a class=\"ProveItLink\" href=\"../../_context_.ipynb\">proveit.logic.boolean.quantification.universal</a>"
   ]
  },
  {
   "cell_type": "code",
   "execution_count": 1,
   "metadata": {},
   "outputs": [],
   "source": [
    "# import Expression classes needed to build the expression\n",
    "from proveit import Function, Lambda\n",
    "from proveit._common_ import P, l, xx\n",
    "from proveit.logic import Equals\n",
    "from proveit.number import Len"
   ]
  },
  {
   "cell_type": "code",
   "execution_count": 2,
   "metadata": {},
   "outputs": [
    {
     "data": {
      "text/html": [
       "<strong id=\"expr\">expr:</strong> <a class=\"ProveItLink\" href=\"expr.ipynb\"><img src=\"data:image/png;base64,iVBORw0KGgoAAAANSUhEUgAAALEAAAAVCAMAAAA+ev8PAAAANlBMVEX///8UFBQNDQ1ERETc3Nx2\n",
       "dnaYmJiIiIgQEBCqqqpUVFS6urrMzMwiIiIyMjJmZmbu7u4AAABkL6SaAAAAAXRSTlMAQObYZgAA\n",
       "AdRJREFUSMfNVu2SgyAM5A4QCJ95/5c9Fc9CyBSnYzvNHx0g65JsYoT4oDnFvz9be5d5Q1cWP57S\n",
       "nn9/tnaHGUCE1SKcIQkwHsvhfsY64muXwrQ/pP2nnApzKr0hxgu+RDigrrI7nsIYFl3fzzin12Rx\n",
       "pGbBXBcsF2JR7P2M7R6bklNMwacIFxnLIzWArpbdcXEKJN2Uce8yZaxwK44SV2CLsRg0rAKd42Vc\n",
       "UB6pqukfgHSeMSYuU8ZVxrBsJFYPxOXYiP05KJyMQ/wnlKrfAOTSjDFxeezn1Ngj97DHSO/RRiWW\n",
       "s34I4wKqlzForbM+F2390ADk7YwxcZnG2JpHtDvw35/Yme26oERSaM1uBxTwSuU1LjPGAc8eD9hV\n",
       "HYmxgA4J6XbDuAO6xrhxmTE29W5Ob+Lfwm0Uzzir/qK0oKzjgeaqIC6NjtsUyzO7IMpW8ehXKa1n\n",
       "leVjHAzbjRuZLLV1UKBlVnnUZRbjtTz1JnwpYBOqSuf5nmKh3Zj+L2oXG4Gm3Y26TBmHsucjRl3A\n",
       "pnRlxihZrmMQ+Sn7mpMBaEAcVEFcpjrOutwzzVn1qb/0XTbOPPv3zfcyZqfN8o5p8zZTzBAF6psZ\n",
       "CzUowASmcjz//mxtsD+ucxlTJkP85gAAAABJRU5ErkJggg==\n",
       "\" style=\"display:inline;vertical-align:middle;\" /></a><br>"
      ],
      "text/plain": [
       "expr: x -> P(x) | |x| = l"
      ]
     },
     "execution_count": 2,
     "metadata": {},
     "output_type": "execute_result"
    }
   ],
   "source": [
    "# build up the expression from sub-expressions\n",
    "expr = Lambda(xx, Function(P, [xx]), conditions = [Equals(Len(xx), l)])"
   ]
  },
  {
   "cell_type": "code",
   "execution_count": 3,
   "metadata": {},
   "outputs": [
    {
     "name": "stdout",
     "output_type": "stream",
     "text": [
      "Passed sanity check: built 'expr' is the same as the stored Expression.\n"
     ]
    }
   ],
   "source": [
    "# check that the built expression is the same as the stored expression\n",
    "%check_expr"
   ]
  },
  {
   "cell_type": "code",
   "execution_count": 4,
   "metadata": {},
   "outputs": [
    {
     "data": {
      "text/html": [
       "<table><tr><th>&nbsp;</th><th>core type</th><th>sub-expressions</th><th>expression</th></tr>\n",
       "<tr><td>0</td><td>Lambda</td><td>parameter:&nbsp;11<br>body:&nbsp;1<br>conditions:&nbsp;2<br></td><td><a class=\"ProveItLink\" href=\"expr.ipynb\"><img src=\"data:image/png;base64,iVBORw0KGgoAAAANSUhEUgAAALEAAAAVCAMAAAA+ev8PAAAANlBMVEX///8UFBQNDQ1ERETc3Nx2\n",
       "dnaYmJiIiIgQEBCqqqpUVFS6urrMzMwiIiIyMjJmZmbu7u4AAABkL6SaAAAAAXRSTlMAQObYZgAA\n",
       "AdRJREFUSMfNVu2SgyAM5A4QCJ95/5c9Fc9CyBSnYzvNHx0g65JsYoT4oDnFvz9be5d5Q1cWP57S\n",
       "nn9/tnaHGUCE1SKcIQkwHsvhfsY64muXwrQ/pP2nnApzKr0hxgu+RDigrrI7nsIYFl3fzzin12Rx\n",
       "pGbBXBcsF2JR7P2M7R6bklNMwacIFxnLIzWArpbdcXEKJN2Uce8yZaxwK44SV2CLsRg0rAKd42Vc\n",
       "UB6pqukfgHSeMSYuU8ZVxrBsJFYPxOXYiP05KJyMQ/wnlKrfAOTSjDFxeezn1Ngj97DHSO/RRiWW\n",
       "s34I4wKqlzForbM+F2390ADk7YwxcZnG2JpHtDvw35/Yme26oERSaM1uBxTwSuU1LjPGAc8eD9hV\n",
       "HYmxgA4J6XbDuAO6xrhxmTE29W5Ob+Lfwm0Uzzir/qK0oKzjgeaqIC6NjtsUyzO7IMpW8ehXKa1n\n",
       "leVjHAzbjRuZLLV1UKBlVnnUZRbjtTz1JnwpYBOqSuf5nmKh3Zj+L2oXG4Gm3Y26TBmHsucjRl3A\n",
       "pnRlxihZrmMQ+Sn7mpMBaEAcVEFcpjrOutwzzVn1qb/0XTbOPPv3zfcyZqfN8o5p8zZTzBAF6psZ\n",
       "CzUowASmcjz//mxtsD+ucxlTJkP85gAAAABJRU5ErkJggg==\n",
       "\" style=\"display:inline;vertical-align:middle;\" /></a></td></tr>\n",
       "<tr><td>1</td><td>Operation</td><td>operator:&nbsp;3<br>operands:&nbsp;4<br></td><td><a class=\"ProveItLink\" href=\"../268e55fee527fee8d72ac7cd549eebd509bba70d0/expr.ipynb\"><img src=\"data:image/png;base64,iVBORw0KGgoAAAANSUhEUgAAADAAAAAVBAMAAADyTXAxAAAAMFBMVEX////u7u5mZmaYmJi6urqq\n",
       "qqp2dnbMzMwQEBBEREQyMjLc3NwiIiJUVFSIiIgAAAAeC3ydAAAAAXRSTlMAQObYZgAAARNJREFU\n",
       "KM9jYCAGsDyAMpgdQOTb/3fvnt0AYtXClaiDyV8MDJzdIMZCuAQXiGD/xsDACsQMfA/gEswJIP4X\n",
       "IOMTkMEhAJdgbAASnB8YGHi/AhleQCy0ZrnXWSA9FYj5FzAwyE8AMtSAKo8y9B98DzQyCcivT2Bg\n",
       "PwTSvxio04Dh/4P/BgwMUUD++2tpamDXtjAwsDFw/99gB2R7APF8mJ1fwO75AWbXA/EfBmQJ3r8w\n",
       "CfZPMIlWoH8SOP4x8G0AG8X3BSYxGei6L/u/MOwAsq2A3vgIkwA6cf+EG1+4l4DZQvP/wkLCB6j9\n",
       "TOKNVaCgXYIc6hwbUIMENeQggO0BSkQhgl0KNQb3wlm3USW4YQbwFTAAAGl+R/AGp+YpAAAAAElF\n",
       "TkSuQmCC\n",
       "\" style=\"display:inline;vertical-align:middle;\" /></a></td></tr>\n",
       "<tr><td>2</td><td>ExprTuple</td><td>5</td><td><a class=\"ProveItLink\" href=\"../da94bc1f9e2188c093233efe4235edbfa52756250/expr.ipynb\"><img src=\"data:image/png;base64,iVBORw0KGgoAAAANSUhEUgAAAEcAAAAVBAMAAADm2O7QAAAAMFBMVEX////c3NwiIiJERESqqqqY\n",
       "mJh2dnZmZmYQEBDu7u4yMjJUVFTMzMyIiIi6uroAAAAs73DqAAAAAXRSTlMAQObYZgAAASZJREFU\n",
       "KM9jYAACRwYYQLBQAd8Fhjw4Jw9TPg5EnGbAo4hN/wH7ASC9Ep8ihngGhgUMDLwX8CqqYmAIY2Dg\n",
       "mIBXUS8DwwwGhlcQqemL1rzSxlTE+IeBgdmBoQysiFOFoV/z/gUMRawfgI4vYFgKVsQdwPD/wv8A\n",
       "iKKqVSCwGsTkNmBgYFnA0AdWxMbA+F8gFtM6DqC3+BoY/kGdy/oDm8PPAwOJ5wNcEfdvbIpuMIAV\n",
       "tYClWBI4/jLwCkAUFSmBgDKIac0Jts4UrGj+P/l/DBKYJn1lAzpkAUM6WJG8wY5/jOswFf2ZCw6C\n",
       "R2BFvEqZO1Y9wFR0PZOBgesBA4cAA/6kAooW1gRCinIJJhUGBk5gUmGQJqCIWwAU0RcY7sFF7mEq\n",
       "usPAAAA+9VLjpOe3agAAAABJRU5ErkJggg==\n",
       "\" style=\"display:inline;vertical-align:middle;\" /></a></td></tr>\n",
       "<tr><td>3</td><td>Variable</td><td></td><td><a class=\"ProveItLink\" href=\"../../../../../../__pv_it/6369c6c8083c513ca7161ace249642d040f9327d0/expr.ipynb\"><img src=\"data:image/png;base64,iVBORw0KGgoAAAANSUhEUgAAABAAAAAOBAMAAADUAYG5AAAAMFBMVEX////u7u5mZmaYmJi6urqq\n",
       "qqp2dnbMzMwQEBBEREQyMjLc3NwiIiJUVFSIiIgAAAAeC3ydAAAAAXRSTlMAQObYZgAAAGBJREFU\n",
       "CNdjYGB4+//u3bMbGIDgFwMDZzeQZv/GwMAKxAx8XxgYmD8BGZwfGBh4vwIZ/AsYGOQnABn1CQzs\n",
       "h0Ca3l9LUwPrni/AAAF/oDT7JygDZAwYcH6E0ELz/z4A0QBnpRnRyxnfJQAAAABJRU5ErkJggg==\n",
       "\" style=\"display:inline;vertical-align:middle;\" /></a></td></tr>\n",
       "<tr><td>4</td><td>ExprTuple</td><td>11</td><td><a class=\"ProveItLink\" href=\"../a265b96051c7c25a76c051199a22fe6d24220f870/expr.ipynb\"><img src=\"data:image/png;base64,iVBORw0KGgoAAAANSUhEUgAAABoAAAAVBAMAAACqMuMoAAAAMFBMVEX////c3NwiIiJERESqqqqY\n",
       "mJh2dnZmZmYQEBDu7u4yMjJUVFTMzMyIiIi6uroAAAAs73DqAAAAAXRSTlMAQObYZgAAALlJREFU\n",
       "GNNjYEAFfBegDNYHQOI0XLwGiFfCeVwMDLwX4DzWBAaOCXAeZwPDKyA1fdGaV9pA2oShDCimwtCv\n",
       "eR+oI51hKQMDdwDD/wv/AxgYvBj6GBjYGBj/C8QCVb5g+Ac27QfYmPMQHvdvKK+FgYElgeMvA68A\n",
       "SKUpA8P8f/L/GCSAclFAUxnkDXb8Y1zHALLhEdBxSpk7VoE8sI6BQwDZZUCnwgDbBWQfzQJiaThv\n",
       "IxAzwjzIe4ABAKGlLmDq6elFAAAAAElFTkSuQmCC\n",
       "\" style=\"display:inline;vertical-align:middle;\" /></a></td></tr>\n",
       "<tr><td>5</td><td>Operation</td><td>operator:&nbsp;6<br>operands:&nbsp;7<br></td><td><a class=\"ProveItLink\" href=\"../4e1a908731dbb1255f22a656fc099e9350e2d50a0/expr.ipynb\"><img src=\"data:image/png;base64,iVBORw0KGgoAAAANSUhEUgAAADkAAAAVBAMAAAAOWFv7AAAAMFBMVEX///9ERESYmJgQEBBUVFTM\n",
       "zMwiIiIyMjJmZmbu7u6IiIi6urp2dnbc3NyqqqoAAACBuYI2AAAAAXRSTlMAQObYZgAAAKxJREFU\n",
       "KM9jeMsAAwgWApzGwiJGlid/Az69+nhNbscrawUWm1FWuj0FU5b3K0iMM4/BPnP9AgxZpg8gWRYF\n",
       "hv8L/itAZNvLQaAExGQRAMnyMPD+v6CFaTLzAogY02dsrooPgIixfMEmuxgsxneA+RcD1wWIbFsa\n",
       "CCSCmCKcINn5v+//ZriMqfcTD0jsvoDzb95qTNmvs0BiXGknncs3YMquOEl+DFIquxoLCw4AqI9J\n",
       "6seSS1sAAAAASUVORK5CYII=\n",
       "\" style=\"display:inline;vertical-align:middle;\" /></a></td></tr>\n",
       "<tr><td>6</td><td>Literal</td><td></td><td><a class=\"ProveItLink\" href=\"../../../../../equality/__pv_it/2fb26078095930560931daa0500ce419a39ea6cd0/expr.ipynb\"><img src=\"data:image/png;base64,iVBORw0KGgoAAAANSUhEUgAAAA4AAAAFBAMAAACHocAhAAAAFVBMVEX///9EREQiIiJUVFQyMjJm\n",
       "ZmYAAADubVkoAAAAAXRSTlMAQObYZgAAABRJREFUCNdjCHEBAWcGXCBICQQUAUpuAwlgGKrkAAAA\n",
       "AElFTkSuQmCC\n",
       "\" style=\"display:inline;vertical-align:middle;\" /></a></td></tr>\n",
       "<tr><td>7</td><td>ExprTuple</td><td>8, 9</td><td><a class=\"ProveItLink\" href=\"../1cfba94b04c9cd2dfd3b0619c29a290920a40d3a0/expr.ipynb\"><img src=\"data:image/png;base64,iVBORw0KGgoAAAANSUhEUgAAADUAAAAVBAMAAAAUZLt1AAAAMFBMVEX////c3NwiIiJERESqqqqY\n",
       "mJh2dnZmZmYQEBDu7u4yMjJUVFTMzMyIiIi6uroAAAAs73DqAAAAAXRSTlMAQObYZgAAAR9JREFU\n",
       "KM9t0SFPw1AQwPF/w1paSptKEsQSgiEIZlAY+AZTOGCOTEBQCBQCC8OBITQkCAhBT+IR1IEg0CCn\n",
       "FhISEkbL2619XUpPtNf75b3evQcq1sijyCT8iF39UWSbw8cj/81aiicf1PumwtiCELyoyg5gHezT\n",
       "KjuGc+iNKmdXd71FbcYAJlbZF3Pm6Sy8647Nvupnj2sxt0kapc3c3AbUQk7ELIw02NB72qpB/5Ak\n",
       "68D8HuvlSQ033dfm/ozZC2JHUqm17F+8ILcVR/ZcFrtM6gkzsk7Ny5elfhKyLVZvdBPjXqb5VIXB\n",
       "hczwIebNtbu3sVgngOc2TMXYQenM/GCUqjMzWyUzs3Sn4o4yc9QdMVuyKDu24dZGxJu2InuFP/ci\n",
       "UFgOmXjBAAAAAElFTkSuQmCC\n",
       "\" style=\"display:inline;vertical-align:middle;\" /></a></td></tr>\n",
       "<tr><td>8</td><td>Operation</td><td>operator:&nbsp;10<br>operand:&nbsp;11<br></td><td><a class=\"ProveItLink\" href=\"../0c91cbaef4d017c215abd96b3877763bb2b4ca290/expr.ipynb\"><img src=\"data:image/png;base64,iVBORw0KGgoAAAANSUhEUgAAABYAAAAVBAMAAACwDgOmAAAAMFBMVEX///9ERESYmJgQEBBUVFTM\n",
       "zMwiIiIyMjJmZmbu7u6IiIi6urp2dnbc3NyqqqoAAACBuYI2AAAAAXRSTlMAQObYZgAAAGVJREFU\n",
       "CNdjeMsAA28ZTsPZp8lhzygr3Z4CYXPmMdhnrl8AZrMoMPxf8F8BzOZh4P1/QQuml+kzwhyWLzA2\n",
       "3wHmXwxcF8Ds+b/v/2a4DBG/L+D8m7cawuZKO+lcvoEcd66Gs1cDALq5OYTdDpAdAAAAAElFTkSu\n",
       "QmCC\n",
       "\" style=\"display:inline;vertical-align:middle;\" /></a></td></tr>\n",
       "<tr><td>9</td><td>Variable</td><td></td><td><a class=\"ProveItLink\" href=\"../../../../../../__pv_it/3e5d49a51123592869b160296a6e123a424e07a70/expr.ipynb\"><img src=\"data:image/png;base64,iVBORw0KGgoAAAANSUhEUgAAAAYAAAAOBAMAAAD+sXAWAAAALVBMVEX////u7u5ERERUVFTMzMzc\n",
       "3NyIiIgQEBAyMjJmZmaYmJi6uroiIiJ2dnYAAACuOh6BAAAAAXRSTlMAQObYZgAAAD9JREFUCNdj\n",
       "YLjzmoGB6wEDA2cDAwN7AgNDnAMDwzoGBgYjIC5jYGB5wsDAVsDAwGQgwMC34AIDn2MCA9tcAQAo\n",
       "GAoWIEgceAAAAABJRU5ErkJggg==\n",
       "\" style=\"display:inline;vertical-align:middle;\" /></a></td></tr>\n",
       "<tr><td>10</td><td>Literal</td><td></td><td><a class=\"ProveItLink\" href=\"../../../../../../number/sets/integer/__pv_it/0a9286fafc7688968c9f0b1c9372a7c495b9f9510/expr.ipynb\"><img src=\"data:image/png;base64,iVBORw0KGgoAAAANSUhEUgAAADsAAAASBAMAAAAXqLt+AAAAMFBMVEX///+qqqru7u5ERERUVFTM\n",
       "zMzc3NyIiIgQEBAyMjJmZmaYmJi6uroiIiJ2dnYAAAD2HuJxAAAAAXRSTlMAQObYZgAAAURJREFU\n",
       "KM99kT9LAnEYxz93Xmnn33fgvYJ0iISWhIJ0k95ABw2BixcFkhC1RFu4BU03lNIibg0N3hDUlhA0\n",
       "xlFDQQgmaBQOPXc5BGoPHPf93ef3fJ/vw0FnyKRSc23/He5OYEcwZ/tSr45jpQfxhC9D1jjWxfje\n",
       "8GWpMI6jYtz5lS15iq81bhe3dl2JUn9P3ywvWJxd7ZiCVmTUI0XcvKX24ZySTVLSfZl6VvCx+Dtc\n",
       "RJwH1CHhnpfpUlr6aGmYkY7cddlUhUngUJYNkyc/XVRmBQ/he7SMViWZYN9z8ZiYEsgafI72jzeN\n",
       "A5MllC5myuENQz653vggIZeW4coeH3JTcUSchE3i6xZ7qDXP6kUppAxtgGbPk0ftx6StYRCrl+EO\n",
       "NreJrFXazGYsTqHxPOFXBWyml0MqMZ3qA1b/aVYylebf8w8ORloN8BKQFQAAAABJRU5ErkJggg==\n",
       "\" style=\"display:inline;vertical-align:middle;\" /></a></td></tr>\n",
       "<tr><td>11</td><td>Variable</td><td></td><td><a class=\"ProveItLink\" href=\"../../../../../../__pv_it/7a540faade4b95df4e25b93ec64921746d67c7a50/expr.ipynb\"><img src=\"data:image/png;base64,iVBORw0KGgoAAAANSUhEUgAAAA0AAAAKBAMAAACdwMn3AAAAMFBMVEX///9ERETc3Nx2dnaYmJiI\n",
       "iIgQEBCqqqpUVFS6urrMzMwiIiIyMjJmZmbu7u4AAAAYebpBAAAAAXRSTlMAQObYZgAAAFNJREFU\n",
       "CNdjYHh7+tScHQwMfNsZ8vfFBzBwODD8D/jvwMDMwPRfwZUBCFi+MYABxw8QyW7A9pWBVYHh/U/9\n",
       "nwxqDAz6Am0/mU4yMLDutms7M4EBAKnKFqcheKyGAAAAAElFTkSuQmCC\n",
       "\" style=\"display:inline;vertical-align:middle;\" /></a></td></tr>\n",
       "</table>\n"
      ],
      "text/plain": [
       "0. x -> P(x) | |x| = l\n",
       "   core type: Lambda\n",
       "   parameter: 11\n",
       "   body: 1\n",
       "   conditions: 2\\n1. P(x)\n",
       "   core type: Operation\n",
       "   operator: 3\n",
       "   operands: 4\n",
       "2. (|x| = l)\n",
       "   core type: ExprTuple\n",
       "   sub-expressions: 5\n",
       "3. P\n",
       "   core type: Variable\n",
       "   sub-expressions: \n",
       "4. (x)\n",
       "   core type: ExprTuple\n",
       "   sub-expressions: 11\n",
       "5. |x| = l\n",
       "   core type: Operation\n",
       "   operator: 6\n",
       "   operands: 7\n",
       "6. =\n",
       "   core type: Literal\n",
       "   sub-expressions: \n",
       "7. (|x| , l)\n",
       "   core type: ExprTuple\n",
       "   sub-expressions: 8, 9\n",
       "8. |x|\n",
       "   core type: Operation\n",
       "   operator: 10\n",
       "   operand: 11\n",
       "9. l\n",
       "   core type: Variable\n",
       "   sub-expressions: \n",
       "10. length\n",
       "    core type: Literal\n",
       "    sub-expressions: \n",
       "11. x\n",
       "    core type: Variable\n",
       "    sub-expressions: "
      ]
     },
     "execution_count": 4,
     "metadata": {},
     "output_type": "execute_result"
    }
   ],
   "source": [
    "# display the expression information\n",
    "expr.exprInfo()"
   ]
  },
  {
   "cell_type": "code",
   "execution_count": null,
   "metadata": {},
   "outputs": [],
   "source": []
  }
 ],
 "metadata": {
  "kernelspec": {
   "display_name": "Python 3",
   "language": "python",
   "name": "python3"
  }
 },
 "nbformat": 4,
 "nbformat_minor": 0
}
