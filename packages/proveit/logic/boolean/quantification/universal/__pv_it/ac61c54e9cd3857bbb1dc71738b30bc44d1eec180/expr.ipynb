{
 "cells": [
  {
   "cell_type": "markdown",
   "metadata": {},
   "source": [
    "Expression of type <a class=\"ProveItLink\" href=\"../../../../../../../../doc/html/api/proveit.ExprTuple.html\">ExprTuple</a>\n",
    "=======================\n",
    "# from context <a class=\"ProveItLink\" href=\"../../_context_.ipynb\">proveit.logic.boolean.quantification.universal</a>"
   ]
  },
  {
   "cell_type": "code",
   "execution_count": 1,
   "metadata": {},
   "outputs": [],
   "source": [
    "# import Expression classes needed to build the expression\n",
    "from proveit import ExprTuple\n",
    "from proveit._common_ import k\n",
    "from proveit.logic import InSet\n",
    "from proveit.number import NaturalsPos"
   ]
  },
  {
   "cell_type": "code",
   "execution_count": 2,
   "metadata": {},
   "outputs": [
    {
     "data": {
      "text/html": [
       "<strong id=\"expr\">expr:</strong> <a class=\"ProveItLink\" href=\"expr.ipynb\"><img src=\"data:image/png;base64,iVBORw0KGgoAAAANSUhEUgAAAFAAAAAbBAMAAAAZoBUxAAAAMFBMVEX///+qqqp2dnYiIiJERESI\n",
       "iIhmZmYQEBDc3NyYmJgyMjLu7u5UVFTMzMy6uroAAACGxKilAAAAAXRSTlMAQObYZgAAAY9JREFU\n",
       "OMuNkr9Lw0AUx7+1VpMmafIndBSnQkFEEOqmIhIQcdCh6ChIwX+gQycnBXG1KFTaOgTFpYMptCAt\n",
       "RII4FszsYC0VFKTFu2vzoxlMHtz73o/P3Xvv7oAAi7jdj3/BaeqS1En1YLBDXU0LBmMqcS0Eg1gE\n",
       "uBwgPKV8y7WvdQ0HfcUG94CZLNF41n/QmpQBPtGu3FQqJK6uYdYi07LiBxvmNpBzQkdP8Ua1axf0\n",
       "cJ1eYp3nqmh6wJkMdqjOjzmpbO8wOkLVA/IkC6pXuBhSLThXZUTUVw+Y+MUGEWF499ij41UnRwNH\n",
       "vEpBcRRqgBJ9z4HKhkLGA4qakXOG3BALNNW+NQpwnE6PizEg1GsuKPQYGN1taL5nN4AXaeLEWyK6\n",
       "KSt5ui/lBXnFzYQboEnkErrFflLLC2LOBRM/2CLShJxn5dxb9somTb3ogOQeu0TKiO2zJLmSOVp4\n",
       "/yanCS44VYRsTnz89rhqn8VViEmEMD0PKRUGPCdtJQy4TNpJCI6nHzsSIskC82fB4CHC2x8BLmYC\n",
       "m2mUXgAAAABJRU5ErkJggg==\n",
       "\" style=\"display:inline;vertical-align:middle;\" /></a><br>"
      ],
      "text/plain": [
       "expr: (k in NaturalsPos)"
      ]
     },
     "execution_count": 2,
     "metadata": {},
     "output_type": "execute_result"
    }
   ],
   "source": [
    "# build up the expression from sub-expressions\n",
    "expr = ExprTuple(InSet(k, NaturalsPos))"
   ]
  },
  {
   "cell_type": "code",
   "execution_count": 3,
   "metadata": {},
   "outputs": [
    {
     "name": "stdout",
     "output_type": "stream",
     "text": [
      "Passed sanity check: built 'expr' is the same as the stored Expression.\n"
     ]
    }
   ],
   "source": [
    "# check that the built expression is the same as the stored expression\n",
    "%check_expr"
   ]
  },
  {
   "cell_type": "code",
   "execution_count": 4,
   "metadata": {},
   "outputs": [
    {
     "data": {
      "text/html": [
       "<table><tr><th>&nbsp;</th><th>core type</th><th>sub-expressions</th><th>expression</th></tr>\n",
       "<tr><td>0</td><td>ExprTuple</td><td>1</td><td><a class=\"ProveItLink\" href=\"expr.ipynb\"><img src=\"data:image/png;base64,iVBORw0KGgoAAAANSUhEUgAAAFAAAAAbBAMAAAAZoBUxAAAAMFBMVEX///+qqqp2dnYiIiJERESI\n",
       "iIhmZmYQEBDc3NyYmJgyMjLu7u5UVFTMzMy6uroAAACGxKilAAAAAXRSTlMAQObYZgAAAY9JREFU\n",
       "OMuNkr9Lw0AUx7+1VpMmafIndBSnQkFEEOqmIhIQcdCh6ChIwX+gQycnBXG1KFTaOgTFpYMptCAt\n",
       "RII4FszsYC0VFKTFu2vzoxlMHtz73o/P3Xvv7oAAi7jdj3/BaeqS1En1YLBDXU0LBmMqcS0Eg1gE\n",
       "uBwgPKV8y7WvdQ0HfcUG94CZLNF41n/QmpQBPtGu3FQqJK6uYdYi07LiBxvmNpBzQkdP8Ua1axf0\n",
       "cJ1eYp3nqmh6wJkMdqjOjzmpbO8wOkLVA/IkC6pXuBhSLThXZUTUVw+Y+MUGEWF499ij41UnRwNH\n",
       "vEpBcRRqgBJ9z4HKhkLGA4qakXOG3BALNNW+NQpwnE6PizEg1GsuKPQYGN1taL5nN4AXaeLEWyK6\n",
       "KSt5ui/lBXnFzYQboEnkErrFflLLC2LOBRM/2CLShJxn5dxb9somTb3ogOQeu0TKiO2zJLmSOVp4\n",
       "/yanCS44VYRsTnz89rhqn8VViEmEMD0PKRUGPCdtJQy4TNpJCI6nHzsSIskC82fB4CHC2x8BLmYC\n",
       "m2mUXgAAAABJRU5ErkJggg==\n",
       "\" style=\"display:inline;vertical-align:middle;\" /></a></td></tr>\n",
       "<tr><td>1</td><td>Operation</td><td>operator:&nbsp;2<br>operands:&nbsp;3<br></td><td><a class=\"ProveItLink\" href=\"../8f2ed919f7208adc5dee99c3988f34215345e3820/expr.ipynb\"><img src=\"data:image/png;base64,iVBORw0KGgoAAAANSUhEUgAAAD8AAAAUBAMAAADIGvgZAAAAMFBMVEX///9ERETc3NyIiIjMzMyY\n",
       "mJh2dna6urqqqqpmZmYyMjIiIiIQEBBUVFTu7u4AAAD6+w4kAAAAAXRSTlMAQObYZgAAAP1JREFU\n",
       "KM9jYMADOBgIAEY6KeC7swFN+NVHqQcMs383wEzgmoCuUZRFgIHhA8OtVWtWrTJgYOBvQFdw28GY\n",
       "geEA3A31D6Dij1fv3gVmXF/H64CkIAsqz7IUpvKKL986JAXLGCK/g2hFmDzDFQ4DR4QCvu/Pnv8A\n",
       "MYTgbrjCMJ3VAKSAFxzeXwzAonwCSAp4H1w5AONx/i4A0+ynd++GOvIKA9+FV3AF3Ha3wZazXEAy\n",
       "gcGNBa7gvQN/gwLIig3IClgb4DbGM7wvSAAxriIrYEiCK7jIwK8AdubrApiQOMhpC2C8pQzM08CO\n",
       "YFrpABGp+gPUzbcASwK7BfUFCgAAezZKa4PBM0IAAAAASUVORK5CYII=\n",
       "\" style=\"display:inline;vertical-align:middle;\" /></a></td></tr>\n",
       "<tr><td>2</td><td>Literal</td><td></td><td><a class=\"ProveItLink\" href=\"../../../../../set_theory/membership/__pv_it/088cbc857536a28d4119ad9639a84270ccb0545d0/expr.ipynb\"><img src=\"data:image/png;base64,iVBORw0KGgoAAAANSUhEUgAAAAwAAAAMBAMAAACkW0HUAAAALVBMVEX///+qqqpmZmZUVFQQEBC6\n",
       "urpERETc3NyYmJjMzMwiIiIyMjKIiIju7u4AAACYsrA9AAAAAXRSTlMAQObYZgAAADxJREFUCNdj\n",
       "YOA9vWrVBgaG2b0MQMCeCyIZ2ArA1DUwyRCyahVIyWQI7xaEYm4AU7xLIdxqTQgtvGvVBgCkcQ7e\n",
       "geM/tQAAAABJRU5ErkJggg==\n",
       "\" style=\"display:inline;vertical-align:middle;\" /></a></td></tr>\n",
       "<tr><td>3</td><td>ExprTuple</td><td>4, 5</td><td><a class=\"ProveItLink\" href=\"../e5a1a807af56eca907cf73e6b04b4ffe3afb54db0/expr.ipynb\"><img src=\"data:image/png;base64,iVBORw0KGgoAAAANSUhEUgAAAD8AAAAbBAMAAAA5TErMAAAAMFBMVEX///+qqqp2dnYiIiJERESI\n",
       "iIhmZmYQEBDc3NyYmJgyMjLu7u5UVFTMzMy6uroAAACGxKilAAAAAXRSTlMAQObYZgAAAWhJREFU\n",
       "KM+Fk7FLw0AUxr9aWxuvNfkTMopTJ8GtjopIQMTBpaiz5D8ws4u4dFUEFVOHwzGDLbQgFipBHIVm\n",
       "drBKBQWx+C5NLpV4epB89+797r6XlwRQjEwyff4VmKRrIpyVmkpglPK4EsC6uN1CDWQdoGAD7KYc\n",
       "LXtvyxzbAyMCcuSRr9JkuhpvXCpVgBd03HPXtcA+gamAlnUjBlo++dqxBRaAntC+LPSuXvTHgB1g\n",
       "Q+icrK37yOpjwBHQEXqC2jACMtbDGEBHr5Cw4dX1awRgV7MEUAzDno8z0fcvS1qgyLu2dDwIME+S\n",
       "HwQJwJpeAjSMEMhutrgEcF/6ccKl4HzdcCSgGZUE8NEOH6YRmOARgNkE6DtYI2lDdyw2ECuroqRj\n",
       "CVAf+iQXyG1xtkcuT++0myUAdVD342DGSb/0U2qIGQdaOs8+6LMq/wFootzFOLLSQFb470M9auEP\n",
       "YCrzhVFDDpVAnuP/8Q1NH185+bQcowAAAABJRU5ErkJggg==\n",
       "\" style=\"display:inline;vertical-align:middle;\" /></a></td></tr>\n",
       "<tr><td>4</td><td>Variable</td><td></td><td><a class=\"ProveItLink\" href=\"../../../../../../__pv_it/1a7356cf6caf039e07a5436d90e972cbb5e92b0a0/expr.ipynb\"><img src=\"data:image/png;base64,iVBORw0KGgoAAAANSUhEUgAAAAoAAAAOBAMAAADkjZCYAAAAMFBMVEX///9ERETc3NyIiIjMzMyY\n",
       "mJh2dna6urqqqqpmZmYyMjIiIiIQEBBUVFTu7u4AAAD6+w4kAAAAAXRSTlMAQObYZgAAAFBJREFU\n",
       "CNdj4LuzgQEIuCaASP4GEFn/AERmgQiGZQyR3xn4vj97/oOB44sBUIDzdwGQ5La7DVT03oG/QYEh\n",
       "nuF9QQLDRQZ+BQOGpQzM0x4AAD+VFjuIiDKbAAAAAElFTkSuQmCC\n",
       "\" style=\"display:inline;vertical-align:middle;\" /></a></td></tr>\n",
       "<tr><td>5</td><td>Literal</td><td></td><td><a class=\"ProveItLink\" href=\"../../../../../../number/sets/integer/__pv_it/42d4bc2e45d5054d807f2641a228c1b440fb8de30/expr.ipynb\"><img src=\"data:image/png;base64,iVBORw0KGgoAAAANSUhEUgAAABsAAAATBAMAAACTqWsLAAAAMFBMVEX////c3Nx2dna6uroQEBCI\n",
       "iIhUVFTMzMyYmJiqqqoiIiJmZmZEREQyMjLu7u4AAADjlg78AAAAAXRSTlMAQObYZgAAAHZJREFU\n",
       "GNNjYIADTgYUwEMy9+2fsw8Ydv2aAJM9wX6AgeEDQ+7dK3fvBjAwZBWEMjA4wPUm32MrQOKml/Hd\n",
       "Q+ZyBtQgcxk2cwSAuGxQLtuDdAe47ekMfAlvkbkMRewoXI4JB5C5DIoI7mEg5r4A49l+AcrwwbgA\n",
       "axoiJO4Xc9gAAAAASUVORK5CYII=\n",
       "\" style=\"display:inline;vertical-align:middle;\" /></a></td></tr>\n",
       "</table>\n"
      ],
      "text/plain": [
       "0. (k in NaturalsPos)\n",
       "   core type: ExprTuple\n",
       "   sub-expressions: 1\n",
       "1. k in NaturalsPos\n",
       "   core type: Operation\n",
       "   operator: 2\n",
       "   operands: 3\n",
       "2. in\n",
       "   core type: Literal\n",
       "   sub-expressions: \n",
       "3. (k , NaturalsPos)\n",
       "   core type: ExprTuple\n",
       "   sub-expressions: 4, 5\n",
       "4. k\n",
       "   core type: Variable\n",
       "   sub-expressions: \n",
       "5. NaturalsPos\n",
       "   core type: Literal\n",
       "   sub-expressions: "
      ]
     },
     "execution_count": 4,
     "metadata": {},
     "output_type": "execute_result"
    }
   ],
   "source": [
    "# display the expression information\n",
    "expr.exprInfo()"
   ]
  },
  {
   "cell_type": "code",
   "execution_count": null,
   "metadata": {},
   "outputs": [],
   "source": []
  }
 ],
 "metadata": {
  "kernelspec": {
   "display_name": "Python 3",
   "language": "python",
   "name": "python3"
  }
 },
 "nbformat": 4,
 "nbformat_minor": 0
}
