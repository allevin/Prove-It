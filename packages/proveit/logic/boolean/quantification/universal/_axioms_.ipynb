{
 "cells": [
  {
   "cell_type": "markdown",
   "metadata": {},
   "source": [
    "Axioms for context <a href=\"_context_.ipynb\" class=\"ProveItLink\">proveit.logic.boolean.quantification.universal</a>\n",
    "========\n",
    "\n",
    "Note that $\\forall$ is a core concept of **Prove-It** pertaining to the *specialization* and *generalization* derivation steps.  As such, axioms are not needed to define the fundamentals of $\\forall$.  These axioms just add some extra properties that are not intrinsic to those core fundamentals."
   ]
  },
  {
   "cell_type": "code",
   "execution_count": 1,
   "metadata": {},
   "outputs": [
    {
     "name": "stdout",
     "output_type": "stream",
     "text": [
      "Defining axioms for context 'proveit.logic.boolean.quantification.universal'\n",
      "Subsequent end-of-cell assignments will define axioms\n",
      "%end_axioms will finalize the definitions\n"
     ]
    }
   ],
   "source": [
    "from proveit.logic import Forall, inBool, Equals\n",
    "from proveit.number import Naturals, NaturalsPos\n",
    "from proveit._common_ import k, l, P\n",
    "from proveit.logic._common_ import iterQ1k\n",
    "from proveit.logic.boolean.quantification.universal._common_ import generalForall_Px\n",
    "%begin axioms"
   ]
  },
  {
   "cell_type": "markdown",
   "metadata": {},
   "source": [
    "**If a $\\forall$ statement is not true (the instance expression is not true for all valid instances) then it is defined to be false:**"
   ]
  },
  {
   "cell_type": "code",
   "execution_count": 2,
   "metadata": {},
   "outputs": [
    {
     "data": {
      "text/html": [
       "<strong id=\"forallInBool\">forallInBool:</strong> <a class=\"ProveItLink\" href=\"__pv_it/23389ee80d63e692259186aaa40454a9ba5ab2ae0/expr.ipynb\"><img src=\"data:image/png;base64,iVBORw0KGgoAAAANSUhEUgAAAuwAAAAaBAMAAAAeWhTiAAAAMFBMVEX///8QEBC6urrMzMxUVFRm\n",
       "ZmZERETc3NwyMjKqqqp2dnaIiIiYmJgiIiLu7u4AAAAU9Wx4AAAAAXRSTlMAQObYZgAACJJJREFU\n",
       "aN7tmglsFFUYx7/d2d3ZnZlO632SbhQFNYb1SEQMdtGKR1QIQiJ4bdS0GiWskdDGC6LiWcp6xURN\n",
       "XI1E1FgH5ZCIMtqIEa8aQZC4zWoqISq2FmiBguv33pvjzcx2ZztqUo2TdHZ23vt/873ffO97xxYg\n",
       "6DG3kA2sPQEgVtgC/90jXNhWviBfqbCaoyu4VEgD1MB/+5hf/vbZRmExOPbA0h1Fgl3998SuNqLq\n",
       "H1XALmuskAbtZ4GwB5ZeDgQ7jXdFG7WwV5YaGzdl7RCt+oimvNilpbfsHXMrXmxh2F8jH+2BsAeV\n",
       "inUUu5TDj3hx9Ab5XhyBjgrSxkVloj0W1nb8jJl9JcO+gHDIBMIeVBqdTrFT6YLRS13YD5DYbyWG\n",
       "ERwby2OXk/g+eou0kIRbNBcIe1BpKEmx0yCaPXqxy/2YA/cQf0faI3/gsP+ypLDVwJ7Qr8R267RQ\n",
       "ebWl5d5gQ2pQaQMw7BtbWlq6Ri/2WB9AZB9ejMe/n5Y8MH5Txerq1VvPXJJmypyFXWgr2tE+Dvt3\n",
       "NMPeyUBT07Zg2INKVxjYa5ua5uZHL/ZakhIIpDnI9Duo715fMdnszIUO/jLExs/pFvYFRTvJTN6A\n",
       "X5Q+hv1CgGa8utM2UCFvSA7shnSkxyUG9kgKYsGWXHf6lFfKfGKqsjZhdco8CJvJRRu6qkNJK+mV\n",
       "p2e1Q7UHmIlFFvZmO7cXSseRyegfDPtYULGWmIcVNPLUacVJFUZDB3YmTcybNbOZpbGvLyzX+94t\n",
       "HO5o6s0G9nAadlQDOWlmSdO86NdHPC3gXLvLbyQ1ja+/7PU5NCoOJeEmlrI4VxaGn0HkYeEgTod7\n",
       "EGu4zsSuZvghdS1+E3Yx7DUg41uM4QVr3ukgGe2cOCspH8E6ibB4Bqy43o2dSeFDgDfJOz4yq85L\n",
       "ev15ohm29/M3FhvY0cS6arAz1znzMT+F5HKDd8136vWy8TnPzA/UeeV3gmFmpbHoKzIxDmMNoc/E\n",
       "Hh5TKFhDKmROxZDpZ9hlvQbtP29MbQCW0RBWV83SlUwHdBgmN0hFqejGzqTQiE/EzxexQQu9biUG\n",
       "8FkH+TubTezroLt67Jz55/0UpAX8wWkTvrNBswdaPlPskd1UXQn7tLSR123sQpqLdshgvKj7GHZ1\n",
       "0dksB53Oyttozl497rei8lkUsZ+CbzoFn2vTpWK08YrGSznsTArf03StlhB97R8eZ3rJrVKxHPYd\n",
       "tle+2Hnz/gOKM9nxWv/RJMIyorDHvHEM4s6HhkDOVsL+HNRrsAbiuiPJdLmxm9EOzRfgCSsuC68m\n",
       "cAYB3gOFrGiUc8/ROsjM/GOAzqfu9kY7k6q7QMElr0TCoXbQ485bBG2Jb+yDJvbYfOz4PXPnPOIZ\n",
       "5dSpm5c/4MDOm6/zVb3nzDmcNuQybh2WRWN1JFuJ8XaMnf6F/XAHi3a6l0RI0Qvzm1oaV0ri+rsW\n",
       "W6rYQ+rlDuwkyRi5HZ4h2Qgrtj3ZixKhjgyVcZrOUh2dmGRmk3fQKf06yYudSCG8//VrSXtI72no\n",
       "g4hrcVGP0wqhBBG73081sSeuw9M34d0L025VTWrCxbthom5j58wTZ31UY53rM0NLplATzWpwpdNP\n",
       "alFooyM95WR13GWYoTJT+sX7GfZegp5kIHJhfRMHIvXJ1iSc4ZxA7kza2JVrsCXhQQN7SGOP2sPe\n",
       "dYa4NolhlyT0LXoRXndC/hUvdiIFiQGl0fRWWnjJ1YtJoGO4JaZbd943sQPOqERN3ndvzq26G9Y/\n",
       "+x3EUjZ2zjw666ea6JyBMy08A/SFsGqTjnLOK6lFuImFIK6P5u02RwHMvnKhY8ojSYb9B7SmHkkW\n",
       "oxnjpNajH+9v6zkaX8xqstGUtLCLi1PmVtjA1yRBm/N2UBBnIg3C8W30rWjE6clNTU2akhK/xDFP\n",
       "/p5iv2enFzuRQowBpbmzPgU1buxYJ7SL30WYYGH/0gort4rOI0JckuHMJ9K+Khd2Q0t2Ip62Jinu\n",
       "n1moxToTO99Z7KfQ3D7OuzNs17jNtTmQuITNZKyEx++ThTMY5mcI5BlnAZwMPSza4cQPAD6O5Aj2\n",
       "8Hnoq+jEzhrFgMZ39dwYHfKiWHr+1OQNGtT8uNISpID7meOxUJeou1Xx/Bi4x9wny7jMo7N+qpOd\n",
       "9w1t92lpUsKqubFTi2R7LuyeYip5J3bvqkmxLw/Dxr0x/H47xDWuEEfcmDZZhtZsr0x20CJZhl3p\n",
       "IKPrbIIdNhbdmwPGao7Ubc0KB2fUTNMpF/FhaC2K7eT0MDRsTm7CxVvok1+tqUKewy7sn5CJ5Zyq\n",
       "1mzDywNwK93JM7Fz5tFZW9WaZQ/CE6fa6Lhvao+/T4ed6DCthth5P5lFQljxLMbaq8eu9mls+joc\n",
       "djJ+2oXdEM/G3oYGPfIawAxQbyRbQHhKw0lk3z78UBIiUBa7tPQqwl6H+WOWticoF+EAvgthkJwO\n",
       "gDhl695iDsavtNeBXXy0T73920ddKvSi6YtbcnABP2+3zZPZvqVq0NmDBoFXzXDcN7ThxzE74UqD\n",
       "VUPsDj+pxQhm5ahnyWdREpfv0UD2suTWApflWMwOh32Dw+Ba41M3tuklzO2+W2H8QYSRoZmMi+KM\n",
       "g2mr0rAubkU7CTX3b6lOlRFP3bpjXWmZX8ur9HKqRe77RCvr7TrI1hizxeMnGkQn495tnJFtuL8D\n",
       "FbB/4yjcbgRitqqFnBc7FcqlQRBWYHc5x7pPr9bjbOZi6W3rZqsHu1MlGCn7mqwDu2V+O6cSsmVU\n",
       "2ALXfaKNZN9I2rsk5x2bc/uJkb6mijVwVccw2OmCyC5M6PZLj8DIsVOheEjOEXfm1R3HuPYL8mX/\n",
       "c0AvM0Lx2C3zCb1cWuVUEc99SwsvlHsin6/T/yT2Ba7CTruooyq7hb/wfzKfIvbq/0/Gy6HTR1Gp\n",
       "BYrPxq9U/BughwvD/CZyfaXC/49/+PgT30gJRwqiS5gAAAAASUVORK5CYII=\n",
       "\" style=\"display:inline;vertical-align:middle;\" /></a><br>"
      ],
      "text/plain": [
       "forallInBool: forall_{(k, l) in Naturals * NaturalsPos} [forall_{P, Q_1,...,Q_k} ([forall_{x_1,...,x_l | Q_1(x_1,...,x_l) ,  ...  , Q_k(x_1,...,x_l)} P(x_1,...,x_l)] in BOOLEANS)]"
      ]
     },
     "execution_count": 2,
     "metadata": {},
     "output_type": "execute_result"
    }
   ],
   "source": [
    "forallInBool = Forall((k, l), Forall((P, iterQ1k), inBool(generalForall_Px)),\n",
    "                      domains=[Naturals, NaturalsPos])"
   ]
  },
  {
   "cell_type": "markdown",
   "metadata": {},
   "source": [
    "This is applicable to any universal quantification.  Note that there is no guarantee that it can be proven to be true or false, but it must be one of these according to this axiom."
   ]
  },
  {
   "cell_type": "code",
   "execution_count": 3,
   "metadata": {},
   "outputs": [
    {
     "name": "stdout",
     "output_type": "stream",
     "text": [
      "Axioms may be imported from autogenerated _axioms_.py\n"
     ]
    }
   ],
   "source": [
    "%end axioms"
   ]
  },
  {
   "cell_type": "code",
   "execution_count": null,
   "metadata": {},
   "outputs": [],
   "source": []
  },
  {
   "cell_type": "code",
   "execution_count": null,
   "metadata": {},
   "outputs": [],
   "source": []
  }
 ],
 "metadata": {
  "kernelspec": {
   "display_name": "Python 3",
   "language": "python",
   "name": "python3"
  }
 },
 "nbformat": 4,
 "nbformat_minor": 0
}
