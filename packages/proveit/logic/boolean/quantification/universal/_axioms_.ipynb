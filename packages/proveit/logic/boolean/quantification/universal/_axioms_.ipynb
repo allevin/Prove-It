{
 "cells": [
  {
   "cell_type": "markdown",
   "metadata": {},
   "source": [
    "Axioms for context <a href=\"_context_.ipynb\" class=\"ProveItLink\">proveit.logic.boolean.quantification.universal</a>\n",
    "========\n",
    "\n",
    "Note that $\\forall$ is a core concept of **Prove-It** pertaining to the *specialization* and *generalization* derivation steps.  As such, axioms are not needed to define the fundamentals of $\\forall$.  These axioms just add some extra properties that are not intrinsic to those core fundamentals."
   ]
  },
  {
   "cell_type": "code",
   "execution_count": null,
   "metadata": {},
   "outputs": [],
   "source": [
    "from proveit.logic import Forall, inBool, Equals\n",
    "from proveit.number import Naturals, NaturalsPos\n",
    "from proveit._common_ import k, l, P\n",
    "from proveit.logic._common_ import iterQ1k\n",
    "from proveit.logic.boolean.quantification.universal._common_ import generalForall_Px\n",
    "%begin axioms"
   ]
  },
  {
   "cell_type": "markdown",
   "metadata": {},
   "source": [
    "**If a $\\forall$ statement is not true (the instance expression is not true for all valid instances) then it is defined to be false:**"
   ]
  },
  {
   "cell_type": "code",
   "execution_count": null,
   "metadata": {},
   "outputs": [],
   "source": [
    "forallInBool = Forall((k, l), Forall((P, iterQ1k), inBool(generalForall_Px)),\n",
    "                      domains=[Naturals, NaturalsPos])"
   ]
  },
  {
   "cell_type": "markdown",
   "metadata": {},
   "source": [
    "This is applicable to any universal quantification.  Note that there is no guarantee that it can be proven to be true or false, but it must be one of these according to this axiom."
   ]
  },
  {
   "cell_type": "code",
   "execution_count": null,
   "metadata": {},
   "outputs": [],
   "source": [
    "%end axioms"
   ]
  },
  {
   "cell_type": "code",
   "execution_count": null,
   "metadata": {},
   "outputs": [],
   "source": []
  },
  {
   "cell_type": "code",
   "execution_count": null,
   "metadata": {},
   "outputs": [],
   "source": []
  }
 ],
 "metadata": {
  "kernelspec": {
   "display_name": "Python 3",
   "language": "python",
   "name": "python3"
  }
 },
 "nbformat": 4,
 "nbformat_minor": 0
}
