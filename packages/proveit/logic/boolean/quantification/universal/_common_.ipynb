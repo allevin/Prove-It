{
 "cells": [
  {
   "cell_type": "markdown",
   "metadata": {
    "collapsed": true
   },
   "source": [
    "Common expressions for context <a href=\"_context_.ipynb\" class=\"ProveItLink\">proveit.logic.boolean.quantification.universal</a>\n",
    "========"
   ]
  },
  {
   "cell_type": "code",
   "execution_count": 1,
   "metadata": {},
   "outputs": [
    {
     "name": "stdout",
     "output_type": "stream",
     "text": [
      "Defining common sub-expressions for context 'proveit.logic.boolean.quantification.universal'\n",
      "Subsequent end-of-cell assignments will define common sub-expressions\n",
      "%end_common will finalize the definitions\n"
     ]
    }
   ],
   "source": [
    "from proveit.logic import TRUE, inBool, And, Forall, Equals, NotEquals\n",
    "from proveit.number import Naturals, NaturalsPos, Len\n",
    "from proveit._common_ import m, n, P, S, QQ, xx\n",
    "from proveit.logic._common_ import xIter1l, yIter1l, yIter1n, zIter1l\n",
    "from proveit.logic._common_ import P_xIter1l, P_xIter1l_yIter1n, P_yIter1l\n",
    "from proveit.logic._common_ import iterQ1k, iterQ1k_xIter1l, iterQ1k_yIter1l, iterQ1k_zIter1l\n",
    "from proveit.logic._common_ import R_xIter1l, R_zIter1l, iterR1m, iterR1m_xIter1l_yIter1n\n",
    "%begin common"
   ]
  },
  {
   "cell_type": "code",
   "execution_count": 2,
   "metadata": {},
   "outputs": [
    {
     "data": {
      "text/html": [
       "<strong id=\"generalForall_Px\">generalForall_Px:</strong> <a class=\"ProveItLink\" href=\"__pv_it/96cc621b1f7ba123b33bbc09cae79e302e2e3c290/expr.ipynb\"><img src=\"__pv_it/96cc621b1f7ba123b33bbc09cae79e302e2e3c290/expr.png\" style=\"display:inline;vertical-align:middle;\" /></a><br>"
      ],
      "text/plain": [
       "generalForall_Px: forall_{x_1,...,x_l | Q_1(x_1,...,x_l) ,  ...  , Q_k(x_1,...,x_l)} P(x_1,...,x_l)"
      ]
     },
     "execution_count": 2,
     "metadata": {},
     "output_type": "execute_result"
    }
   ],
   "source": [
    "generalForall_Px = Forall(xIter1l, P_xIter1l, conditions=[iterQ1k_xIter1l])"
   ]
  },
  {
   "cell_type": "code",
   "execution_count": 3,
   "metadata": {},
   "outputs": [
    {
     "data": {
      "text/html": [
       "<strong id=\"consolidatedConditionForall_Px\">consolidatedConditionForall_Px:</strong> <a class=\"ProveItLink\" href=\"__pv_it/9613065cbbba40d96e2b5bf5e1e40be363f9e6b80/expr.ipynb\"><img src=\"__pv_it/9613065cbbba40d96e2b5bf5e1e40be363f9e6b80/expr.png\" style=\"display:inline;vertical-align:middle;\" /></a><br>"
      ],
      "text/plain": [
       "consolidatedConditionForall_Px: forall_{x_1,...,x_l | Q_1(x_1,...,x_l) and  ...  and Q_k(x_1,...,x_l)} P(x_1,...,x_l)"
      ]
     },
     "execution_count": 3,
     "metadata": {},
     "output_type": "execute_result"
    }
   ],
   "source": [
    "consolidatedConditionForall_Px = Forall(xIter1l, P_xIter1l, conditions=[And(iterQ1k_xIter1l)])"
   ]
  },
  {
   "cell_type": "code",
   "execution_count": 4,
   "metadata": {},
   "outputs": [
    {
     "name": "stdout",
     "output_type": "stream",
     "text": [
      "WARNING: Duplicate of generalForall_Px\n"
     ]
    },
    {
     "data": {
      "text/html": [
       "<strong id=\"generalForall_Py\">generalForall_Py:</strong> <a class=\"ProveItLink\" href=\"__pv_it/32c7503505c4715e0d692648b9f67dc7e8ebe4910/expr.ipynb\"><img src=\"__pv_it/32c7503505c4715e0d692648b9f67dc7e8ebe4910/expr.png\" style=\"display:inline;vertical-align:middle;\" /></a><br>"
      ],
      "text/plain": [
       "generalForall_Py: forall_{y_1,...,y_l | Q_1(y_1,...,y_l) ,  ...  , Q_k(y_1,...,y_l)} P(y_1,...,y_l)"
      ]
     },
     "execution_count": 4,
     "metadata": {},
     "output_type": "execute_result"
    }
   ],
   "source": [
    "generalForall_Py = Forall(yIter1l, P_yIter1l, conditions=[iterQ1k_yIter1l])"
   ]
  },
  {
   "cell_type": "code",
   "execution_count": 5,
   "metadata": {},
   "outputs": [
    {
     "data": {
      "text/html": [
       "<strong id=\"generalForall_Rz\">generalForall_Rz:</strong> <a class=\"ProveItLink\" href=\"__pv_it/a38dfa8af79aae52a544cfc459c9dfdcc4c920ba0/expr.ipynb\"><img src=\"__pv_it/a38dfa8af79aae52a544cfc459c9dfdcc4c920ba0/expr.png\" style=\"display:inline;vertical-align:middle;\" /></a><br>"
      ],
      "text/plain": [
       "generalForall_Rz: forall_{z_1,...,z_l | Q_1(z_1,...,z_l) ,  ...  , Q_k(z_1,...,z_l)} R(z_1,...,z_l)"
      ]
     },
     "execution_count": 5,
     "metadata": {},
     "output_type": "execute_result"
    }
   ],
   "source": [
    "generalForall_Rz = Forall(zIter1l, R_zIter1l, conditions=[iterQ1k_zIter1l])"
   ]
  },
  {
   "cell_type": "code",
   "execution_count": 6,
   "metadata": {},
   "outputs": [
    {
     "data": {
      "text/html": [
       "<strong id=\"generalForall_Rx_given_Px\">generalForall_Rx_given_Px:</strong> <a class=\"ProveItLink\" href=\"__pv_it/3c8e29d9531b5dcdcdf32298f1cd9a290f1e965e0/expr.ipynb\"><img src=\"__pv_it/3c8e29d9531b5dcdcdf32298f1cd9a290f1e965e0/expr.png\" style=\"display:inline;vertical-align:middle;\" /></a><br>"
      ],
      "text/plain": [
       "generalForall_Rx_given_Px: forall_{x_1,...,x_l | P(x_1,...,x_l) , Q_1(x_1,...,x_l) ,  ...  , Q_k(x_1,...,x_l)} R(x_1,...,x_l)"
      ]
     },
     "execution_count": 6,
     "metadata": {},
     "output_type": "execute_result"
    }
   ],
   "source": [
    "generalForall_Rx_given_Px = Forall([xIter1l], R_xIter1l, conditions=[P_xIter1l, iterQ1k_xIter1l])"
   ]
  },
  {
   "cell_type": "code",
   "execution_count": 7,
   "metadata": {},
   "outputs": [
    {
     "data": {
      "text/html": [
       "<strong id=\"generalForall_PyNotT\">generalForall_PyNotT:</strong> <a class=\"ProveItLink\" href=\"__pv_it/12d4613962afe387a3ec92cd1a673c9d57e64b960/expr.ipynb\"><img src=\"__pv_it/12d4613962afe387a3ec92cd1a673c9d57e64b960/expr.png\" style=\"display:inline;vertical-align:middle;\" /></a><br>"
      ],
      "text/plain": [
       "generalForall_PyNotT: forall_{y_1,...,y_l | Q_1(y_1,...,y_l) ,  ...  , Q_k(y_1,...,y_l)} (P(y_1,...,y_l) != TRUE)"
      ]
     },
     "execution_count": 7,
     "metadata": {},
     "output_type": "execute_result"
    }
   ],
   "source": [
    "generalForall_PyNotT = Forall(yIter1l, NotEquals(P_yIter1l, TRUE), conditions=[iterQ1k_yIter1l])"
   ]
  },
  {
   "cell_type": "code",
   "execution_count": 8,
   "metadata": {},
   "outputs": [
    {
     "data": {
      "text/html": [
       "<strong id=\"generalNestedForall_Pxy\">generalNestedForall_Pxy:</strong> <a class=\"ProveItLink\" href=\"__pv_it/3ed131236bf25d45277aae963327b2b17ed5179e0/expr.ipynb\"><img src=\"__pv_it/3ed131236bf25d45277aae963327b2b17ed5179e0/expr.png\" style=\"display:inline;vertical-align:middle;\" /></a><br>"
      ],
      "text/plain": [
       "generalNestedForall_Pxy: forall_{x_1,...,x_l | Q_1(x_1,...,x_l) ,  ...  , Q_k(x_1,...,x_l)} [forall_{y_1,...,y_n | R_1(x_1 ,  ...  , x_l , y_1 ,  ...  , y_n) ,  ...  , R_m(x_1 ,  ...  , x_l , y_1 ,  ...  , y_n)} P(x_1 ,  ...  , x_l , y_1 ,  ...  , y_n)]"
      ]
     },
     "execution_count": 8,
     "metadata": {},
     "output_type": "execute_result"
    }
   ],
   "source": [
    "generalNestedForall_Pxy = Forall(xIter1l, Forall(yIter1n, P_xIter1l_yIter1n,\n",
    "                                                 conditions=[iterR1m_xIter1l_yIter1n]),\n",
    "                                 conditions=[iterQ1k_xIter1l])"
   ]
  },
  {
   "cell_type": "code",
   "execution_count": 9,
   "metadata": {},
   "outputs": [
    {
     "name": "stdout",
     "output_type": "stream",
     "text": [
      "WARNING: Duplicate of generalNestedForall_Pxy\n"
     ]
    },
    {
     "data": {
      "text/html": [
       "<strong id=\"generalBundledForall_Pxy\">generalBundledForall_Pxy:</strong> <a class=\"ProveItLink\" href=\"__pv_it/c1c96758e295aba765c3971026b976daecc4d3d90/expr.ipynb\"><img src=\"__pv_it/c1c96758e295aba765c3971026b976daecc4d3d90/expr.png\" style=\"display:inline;vertical-align:middle;\" /></a><br>"
      ],
      "text/plain": [
       "generalBundledForall_Pxy: forall_{x_1,...,x_l, y_1,...,y_n | Q_1(x_1,...,x_l) ,  ...  , Q_k(x_1,...,x_l) , R_1(x_1 ,  ...  , x_l , y_1 ,  ...  , y_n) ,  ...  , R_m(x_1 ,  ...  , x_l , y_1 ,  ...  , y_n)} P(x_1 ,  ...  , x_l , y_1 ,  ...  , y_n)"
      ]
     },
     "execution_count": 9,
     "metadata": {},
     "output_type": "execute_result"
    }
   ],
   "source": [
    "generalBundledForall_Pxy = Forall([xIter1l, yIter1n], P_xIter1l_yIter1n,\n",
    "                                  conditions=[iterQ1k_xIter1l, iterR1m_xIter1l_yIter1n])"
   ]
  },
  {
   "cell_type": "code",
   "execution_count": 10,
   "metadata": {},
   "outputs": [
    {
     "name": "stdout",
     "output_type": "stream",
     "text": [
      "Common expressions may be imported from autogenerated _common_.py\n"
     ]
    }
   ],
   "source": [
    "%end common"
   ]
  },
  {
   "cell_type": "code",
   "execution_count": null,
   "metadata": {},
   "outputs": [],
   "source": []
  }
 ],
 "metadata": {
  "kernelspec": {
   "display_name": "Python 3",
   "language": "python",
   "name": "python3"
  },
  "language_info": {
   "codemirror_mode": {
    "name": "ipython",
    "version": 3
   },
   "file_extension": ".py",
   "mimetype": "text/x-python",
   "name": "python",
   "nbconvert_exporter": "python",
   "pygments_lexer": "ipython3",
   "version": "3.7.0"
  }
 },
 "nbformat": 4,
 "nbformat_minor": 1
}
