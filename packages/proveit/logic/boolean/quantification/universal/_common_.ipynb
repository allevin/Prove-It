{
 "cells": [
  {
   "cell_type": "markdown",
   "metadata": {},
   "source": [
    "Common expressions for context <a href=\"_context_.ipynb\" class=\"ProveItLink\">proveit.logic.boolean.quantification.universal</a>\n",
    "========"
   ]
  },
  {
   "cell_type": "code",
   "execution_count": 1,
   "metadata": {},
   "outputs": [
    {
     "name": "stdout",
     "output_type": "stream",
     "text": [
      "Defining common sub-expressions for context 'proveit.logic.boolean.quantification.universal'\n",
      "Subsequent end-of-cell assignments will define common sub-expressions\n",
      "%end_common will finalize the definitions\n"
     ]
    }
   ],
   "source": [
    "from proveit.logic import TRUE, inBool, And, Forall, Equals, NotEquals\n",
    "from proveit.number import Naturals, NaturalsPos, Len\n",
    "from proveit._common_ import m, n, P, S, QQ, xx\n",
    "from proveit.logic._common_ import xIter1l, yIter1l, yIter1n, zIter1l\n",
    "from proveit.logic._common_ import P_xIter1l, P_xIter1l_yIter1n, P_yIter1l\n",
    "from proveit.logic._common_ import iterQ1k, iterQ1k_xIter1l, iterQ1k_yIter1l, iterQ1k_zIter1l\n",
    "from proveit.logic._common_ import R_xIter1l, R_zIter1l, iterR1m, iterR1m_xIter1l_yIter1n\n",
    "%begin common"
   ]
  },
  {
   "cell_type": "code",
   "execution_count": 2,
   "metadata": {},
   "outputs": [
    {
     "data": {
      "text/html": [
       "<strong id=\"generalForall_Px\">generalForall_Px:</strong> <a class=\"ProveItLink\" href=\"__pv_it/32f8d9994cd9febc0dce8b7e4238907e484919c10/expr.ipynb\"><img src=\"data:image/png;base64,iVBORw0KGgoAAAANSUhEUgAAAbYAAAAXBAMAAACVEHe8AAAAMFBMVEX///8QEBC6urrMzMxUVFRm\n",
       "ZmZERETc3NwyMjKqqqp2dnaIiIiYmJgiIiLu7u4AAAAU9Wx4AAAAAXRSTlMAQObYZgAABG1JREFU\n",
       "WMPdWF+IVFUY/+7eu3N3vTN3Nx8UI9kJxAQJBwpcDJnRDTeIWjEJspfRYDUwPKHoUtkO+qDWus1D\n",
       "UlDgKIhaYNNTRA97oRdRwon+LAYuK1gEFZvbupuuNn3n373n3rl/diRi6sDc853vfL/znd/5+50B\n",
       "+B+nyf9KR9uqTZmnswA1KlxuWUbWwMyTz/RT6fEmkc8BnKf5aOtOV1cJYDu5jz52AOzHzCy2Lrd8\n",
       "BeAk/qxqk8B0BTpww7WXW5fbGO6bK5sBtGYPBrsb0mcPHDjYwkfIHvwN4NivwvzH44dXfRtvrpi8\n",
       "DDA7OPjDfXk1c/H1sYthbzy205X+xBmYxXwb5lehZ2Isdm2qJmcA+gB2LoBJlme/HP+6T2heS0Cs\n",
       "CyoUrFmJx+qyXr8DsB6XJIwAGA7Uq3UH9OjjQZjYA7iC3wdYAXZpAdx4e51LiL0nq2qi06JsYC4U\n",
       "bCrJ3Wl5B8x8dOYsFRZjg2DWyWXQt9aifXITeBTlhwEyYDkL5nYSs2HedGfSwRUcMgULHyS5+1nk\n",
       "qb+EMM3OvpvMcy3ueLwp1iPkcWSczORCudl1NO3i7lIkCdLnp6pgk3eBITZzV03lZswkcuMmI5yb\n",
       "XcIb39703bnDDXY3Xtl2NKdyW0SBXXNMofnrQ1Bf+JeLgoXuCI+uVl5n+c2iZhlyqmjzYJE4btJk\n",
       "jq9J2LkRF2ZuTT/6ftZv+U3bzHBB5abdpu5+BwOnoFfWG5MRqBU+tcSyE6IU4VFoMXoseNcbS7sB\n",
       "pqaHp+FVPm82GwkZELuCMNG7Ub6IvxNo+jqMvXcV1i31H/JV6/bBsj7icWPD/klBP0Voz0X9KRKB\n",
       "6vUHTxwLT/Geh3oU2l6HsufXmxw43EHDxQ3T5iHObYrOHf3Y91RBmFhFsee0qtvIeGCK2U5+SeFG\n",
       "yz05yCCdd2V9hkSgAtwE9gRdOoUoj0ybyglu9vP1p4UeTz7r2oUNR7Oc23U6UtexU/YSKfQQ1yRF\n",
       "KR2iJwu21lFZDm80eHpLq5kOdHvcOv64saN9ntNZKeuD3FzUSn/sKrAv0HkrRnjkWo1Z+JPmeWH7\n",
       "7ZHGR5BnoT3GYi6xZU/P0hhlHMwjMDRpjtLPEf3OmmKqLAJp9tXvbckMOJzbb8DraSEcdUnRDxGJ\n",
       "nVhdALvmeYQhwpH4IVy7n0W6DaGvj1vjvZX2xCkLzy55RxmDX+0qU0/6XcgTfY5+7sKm3d8fk41y\n",
       "hvuWvzPaybnhzcHqaSEctUXR5x2JfehNStDzCHmHI/HjcO0lDN+zwa67bxzz3K1qAjfjvHdDyjSu\n",
       "WgjJyPqiEGN+K+dmyXiRFkJRJVXvCGzb23Svfa54VLoppI3s9RVI+/xv1sbzPxBL9PuLTzxYhrVu\n",
       "SUiZX33crPoc6J/iuNhCwwphKBq4uHqdCKzljCKDnxSPOvEZYZpwQgIXs7kHnBUSyTcMYvtnPm7m\n",
       "A3K+PkxAGao+LbEG+ZgedU7YWpLSiwQK/+Y7qtFZOuGNcyGu8suEOPuf+Ivqb9GkmYeTvabAAAAA\n",
       "AElFTkSuQmCC\n",
       "\" style=\"display:inline;vertical-align:middle;\" /></a><br>"
      ],
      "text/plain": [
       "generalForall_Px: forall_{x_1,...,x_l | Q_1(x_1,...,x_l) ,  ...  , Q_k(x_1,...,x_l)} P(x_1,...,x_l)"
      ]
     },
     "execution_count": 2,
     "metadata": {},
     "output_type": "execute_result"
    }
   ],
   "source": [
    "generalForall_Px = Forall(xIter1l, P_xIter1l, conditions=[iterQ1k_xIter1l])"
   ]
  },
  {
   "cell_type": "code",
   "execution_count": 3,
   "metadata": {},
   "outputs": [
    {
     "data": {
      "text/html": [
       "<strong id=\"consolidatedConditionForall_Px\">consolidatedConditionForall_Px:</strong> <a class=\"ProveItLink\" href=\"__pv_it/c168ed0433d8673dd36c91670acbfacd6211bb400/expr.ipynb\"><img src=\"data:image/png;base64,iVBORw0KGgoAAAANSUhEUgAAAcIAAAAXBAMAAABqslJeAAAAMFBMVEX///8QEBC6urrMzMxUVFRm\n",
       "ZmZERETc3NwyMjKqqqp2dnaIiIiYmJgiIiLu7u4AAAAU9Wx4AAAAAXRSTlMAQObYZgAABNNJREFU\n",
       "WMPdWF1oHFUU/nZnd2c3uzuJL1XEuiuIFYp0UaslItlaaQStG6qI2pdVIVVQM6LYYK27tA+t2qT7\n",
       "UhRFui2UWoW6PpUikgFftCKN+BNbakghSqFKNYasbRLXc+bOnZ/MbiZrfYgOzJ1z5t7znfvde869\n",
       "dwb4318T/7H+rm6rdSoLjLLw5TKnlSxM37uplyUl357lQ8BRfg4v95nrLANP6CTE24y5OPAyPdTi\n",
       "cmfYUwUO0I1P2jRMVc1BiVaWO8MRyqdTfSRc36ah1oXUkW3bdiz79WWA7gLNQ5iiVXv0h1uHFk/H\n",
       "n4Z23fytEJ8BZvr7z/wjry8G1FeuGCJhS38SsRl6RilSf62E5i/MLjpxp5EZH6mZ8mFgA7B1CXyy\n",
       "4nFh6OsNQlKrARbdzV87CIEQiqxXLgN3c5DGDeABdM52zgF3tLSLGGjUGoZWoAx8G7gRWnkJDMVi\n",
       "lFihawOCbCzIoiPbdF4chGCIQ3K3mP7g8BEWQmRZRameqmHtptaeoTZ02gFvIfkGII2ksWSGB+hR\n",
       "MrdQvBuY5DxwnlmqehGCIc5bz9hfctcwx+ZUF5fvLbaE/m5FKHpofIz0xFIZag1q2incBYc2BaNy\n",
       "1h10Z70IwRCRnEVs1MOwkA9iGJnmcq9gqJVvp2Ljd+/v8rWbfO7xPTk3ww427KybL7q89c7U2VC0\n",
       "d8XOu2pYcSMQRHO/9ttkzdoO+6yaEC1f7yBTw/HFGCaqoVkkddRFlGLrPRSquTW95PtBb8tvwtOl\n",
       "vJth6BK7+w2RCShlWR/xhoAFBc5wdKdcGcCKRDDntNzCrw0RzjvboRgkg6JgVSOrdgmG7FqDW+Di\n",
       "4lRpCi9A4WD+nO79FALbMfLWaXRf7XGk1pKXdlSUvQ5Dc/A/yisHdXZu1R/UPVYCah0xWwc8D9cq\n",
       "xoqFgPtE/5v6dSAUy3pADmJHH9SZSCY7mDUZavPMZ9QlmEWpuH5K3Ylk0crFUM0GGVsw3WaGP+Vi\n",
       "yHomh7SORF7Wp/WF2zNBxXLMUOnDF04asiIR9nMw5Vv5lRCCofZI437rfZj6/+mZyWt2ijzUMuT7\n",
       "HHVNWwEh4BwNYfLHY+v3ZBFjYtwyRWjx6kq86vP0RmhUNdDlMIz/MflkdNYkFS7K+gUMBVSIpJs4\n",
       "gJ0dwVQkwmPc3WILvzZE2Hdgds02R2lY9yXhKlsK3Wae2qxUPjTD55sxqLsxOKEOc7FbubymGKtY\n",
       "x3KzVOY3pwuGyVAbhahnxbEa1AUUH+hPYi2NZ0WgDQtFIoyvzjOE7ReDumzngkj5jgQnvQxT/mXG\n",
       "SfyLSQrrmhzf/q+errAnZQ49ulLnYg4bn/3+delF8Hxp5b7hhAjMcYh6VhyrHkNAcU82mytIUaDV\n",
       "hSIRrnuNaTp+0WPIdi6IqO/Q4Hw9vbJvSwDDyFFnR5XXmNvGkiJZF0NSZx8WDE/YK5/utrIc0PpM\n",
       "6wrHkB1HUmGE8Jucgydcfl09cyDivv6r3iN3zf+x7FV7vepd11Zwp61ZUvoXD8Nkow7lYxqdn+UC\n",
       "woptpViExg0kai0+2AkhaQwbDgT7VfQmEE0OPdvb+zmQW2ySLSl63MNQvcr6ZkgYzazkZG7REWnh\n",
       "lREi+odZL4QvdhiizV8WV3b5nX0WYHEsGDQAouPf+E32N978n3/lA/vfAAAAAElFTkSuQmCC\n",
       "\" style=\"display:inline;vertical-align:middle;\" /></a><br>"
      ],
      "text/plain": [
       "consolidatedConditionForall_Px: forall_{x_1,...,x_l | Q_1(x_1,...,x_l) and  ...  and Q_k(x_1,...,x_l)} P(x_1,...,x_l)"
      ]
     },
     "execution_count": 3,
     "metadata": {},
     "output_type": "execute_result"
    }
   ],
   "source": [
    "consolidatedConditionForall_Px = Forall(xIter1l, P_xIter1l, conditions=[And(iterQ1k_xIter1l)])"
   ]
  },
  {
   "cell_type": "code",
   "execution_count": 4,
   "metadata": {},
   "outputs": [
    {
     "name": "stdout",
     "output_type": "stream",
     "text": [
      "WARNING: Duplicate of generalForall_Px\n"
     ]
    },
    {
     "data": {
      "text/html": [
       "<strong id=\"generalForall_Py\">generalForall_Py:</strong> <a class=\"ProveItLink\" href=\"__pv_it/dfd8206ee3d9ce8882d990c9e1c88022864ef91c0/expr.ipynb\"><img src=\"data:image/png;base64,iVBORw0KGgoAAAANSUhEUgAAAa4AAAAXBAMAAAChabagAAAAMFBMVEX///8QEBC6urrMzMxUVFRm\n",
       "ZmZERETc3NwyMjKqqqp2dnaIiIiYmJgiIiLu7u4AAAAU9Wx4AAAAAXRSTlMAQObYZgAABI9JREFU\n",
       "WMPdV12IG1UU/pJJMtlkMl1/UBR1I4gKvkRQt1Q00YoLypqioA992IjQVXzoiGBXpTQV0RftRlAU\n",
       "tGwUllIfbJT6h0IGfFDah+6DYlloTUWLDy2brstmrduN59x7J5lJJpNGQaKBmTk593xz73fuOeee\n",
       "Af6nv9p/Y5m3DGJspIEFFo4OJ5lkfuW+yQmWtNxAwEeAg/zcN6S7tKkIPG6REB8srOLAc/TQC0PK\n",
       "K1sG5ujCV4PhjLLwRLQ0pLyqlCjHtpFw3WA4cxTGgV27dg9rtdhJV56cHqZ4TOy1kVoIsnZZPAWs\n",
       "7tix+Hfm1DOBwyNBg88Gv7oVPmvk+lV6RikW50MNzNWDYC6LeWArMN2fRVht8BcnLld8XggGaOXO\n",
       "2GhD9XIwdovzjvPAXRyGcZtCa08DUwXcERB8wuKXDZLfAW6AWezPKyYfb0zj9LIU+9WaDzr+u6Cx\n",
       "PtBEWtX5lQ/nD7AQSkOrHCrip8rtk709KS3CHInXAykk7YvlNUJBoV+QYqUP4reOuGxD8W6/tFeO\n",
       "jm049Z6JjlXMZgb7A3DCIsEbnCWn2KnaxfJa4omawjxm9UFEvPnngvaP+62KzoKLl9a0wk0E8ZIW\n",
       "cVvyMou3UfpMls1runLKpZS8DvGx3xSMQhTBizhl9wQlvRvqgmK0B7alVMdVdpsaCFElMc4hsRbI\n",
       "S1pssmQcYvpe4Gy8bqwj4t04qXTzGiuxV4CHgM0wF2ZxzGbZFxT2tj4OlP1a9McqJRNsH19ydtIa\n",
       "a4ifl7xMp7FtCeImLW7lv9/R9Rbt9vN7CpGG9r43tqTyNRcv9ndiBVuu5Kn1t1eRt1j2BWneaqSg\n",
       "kaJg7IuVys02O00eX46fOWf0c6guS15LtGLzglsQN2nxmarzCHHAVEuhUaQ6ckYon3DzoolCvwM/\n",
       "Am9SpP2BS4TsC+rkJaEjtMKRXA+sUMYyipf5aPNBJ7g50fZfu3ND8jrVoNErWCgowRyzHIunGfAS\n",
       "b19NuGYp18VLKEddvGbvvj89VRHruZHLlbnSzcsBhb0HgYJyy8YjvlihpMTll3t/tLHhDB9fMr9u\n",
       "6j5fLcfisozoo9QvD5qUeM1Y+j7M1PhmCaXqiSWv7A/p7zl5aD1nqeLVo38K2RdklPVXlbJGkoKm\n",
       "fj5MeeSHJRuh5Eb8SOeySTFX1zmWBa/ug8mAsjDr5PdEq2bNHB/LMK+srTWQtfhmC6VRdvHS7zm+\n",
       "ViuJ9dDhoL++V8akLyia1taV0iJJQUPfngFOwgfLNqxkTg93fXjUUC3vvpS6nNntPXlJiwdKrrPT\n",
       "fIzDneOwDbGFMpL2tgj5T3NiPckSfrUok0Qs+YHicrL2tAJ682ESvoQf1pBKqs7oaoD0HKInFp0y\n",
       "kuyu8bxBbYuJVsauR5ehfXwQWivFNEsoU2e8vKoUDHdeXYJZQNWeSgvZF0RNxXhr2nEH+nWchk7D\n",
       "DzsulSdtv17mxYG+s1stgf7Ky1bbsUoSyujnXl7PXKWE9zDz5AR6g3KebXSgE4lPqCDaflil3G4h\n",
       "8u99CXVPZQR/pySCmrNvgif76J+v9y+IR8HHfyiONgAAAABJRU5ErkJggg==\n",
       "\" style=\"display:inline;vertical-align:middle;\" /></a><br>"
      ],
      "text/plain": [
       "generalForall_Py: forall_{y_1,...,y_l | Q_1(y_1,...,y_l) ,  ...  , Q_k(y_1,...,y_l)} P(y_1,...,y_l)"
      ]
     },
     "execution_count": 4,
     "metadata": {},
     "output_type": "execute_result"
    }
   ],
   "source": [
    "generalForall_Py = Forall(yIter1l, P_yIter1l, conditions=[iterQ1k_yIter1l])"
   ]
  },
  {
   "cell_type": "code",
   "execution_count": 5,
   "metadata": {},
   "outputs": [
    {
     "data": {
      "text/html": [
       "<strong id=\"generalForall_Rz\">generalForall_Rz:</strong> <a class=\"ProveItLink\" href=\"__pv_it/c0c892eaa3de29bafb09c5ef174a86fb5ac0041e0/expr.ipynb\"><img src=\"data:image/png;base64,iVBORw0KGgoAAAANSUhEUgAAAagAAAAXBAMAAACsd8bnAAAAMFBMVEX///8QEBC6urrMzMxUVFRm\n",
       "ZmZERETc3NwyMjKqqqp2dnaIiIiYmJgiIiLu7u4AAAAU9Wx4AAAAAXRSTlMAQObYZgAABENJREFU\n",
       "WMPdV11oHFUU/rKzu5PNbCZZlNZK624h1IdSWPCvVHBX4x+I2VqtKEUbKzQKQkbQNFTUoA8Frbtb\n",
       "sOCDJXkR0YLmRRT60PFFpKaQgiVFMW6giPgXa9JsNT/jOfdOdmdm2dmZIrI6sHfOnLnfzvnu+e65\n",
       "9wL/x6vyXwhye4i+yQwwzcZX7chEKyze/cwkW0o+DO5h4AO+F9syPz2D0K9jozOUnDqBEbqpg21J\n",
       "KkdpKpCYcCoULDkhRiFWbktSp7NAiX64IRRM70Xy/UOHXm7P8vAUzaZFukfGqBlZMuZ8VagOD+mS\n",
       "/bPA0sGD31zFF9Ws7+vyPwAlQie4UMQmqElbl7/1hXVY1hOirOA9oB8YakkhYmf2s++utSM67A/Y\n",
       "5XX8/Na5foSCKounHhJRdpo0UZ6bOrsbuLU57IupqfPQC5TNd4A+6GMtScXl7dgQfvhDmi1qS1fG\n",
       "/ZzYYOjDmVBQbQ2JBZED6bgHuOVBP2CUWO+g+1agG5oZkFRiibSzKs3JFrPVM1DjxOTV6VDQeK9Q\n",
       "IJV2QWqURXjCT9VvSOkhRwNidlcCkppfo8YSveNGC0S/O1BG9awhDLQnD7VOKrIZLUht5dwclaT0\n",
       "sZvJ2HH5p4YBjHz/5EkXqY95ZbdETB1NMDWne23p4uh6qggDzZlI/iUAXDqOZZHwJZW4hmtMVcoP\n",
       "Q3dRc+kCfXbAs6JvKeVdpNL074ol+u1sgpFO8FR1laY/OcrfhR0USstUbJn3pnEuFBuBvZIUK0WH\n",
       "0xDN5wZiuxWSLL6k33GWeqVrArs2esSND6EcdZDiJNGYc7++Jhjh3GnK0B3jU5WJvh/BocM0NZZV\n",
       "eu6iAjCeSqVnBSmdJ/X8tMMQTeJSKrVa0QbtedXBOVcPUDPj+coIiflpJykam44F0e/tZhh2xrMN\n",
       "pHg6pbM4jqBQ/VHrAeAxlmKEYt6k7l+sSFJpGto5Cl7fAGlgrsoafdEaQJy5vMZ7JU5jX0Wb9H4l\n",
       "MkDy7nWQKt1xb2b/pIhmWxOMcPKs2ebeZC5cPEBawuMIDaWrnlKWX6Sx0NxYk/lNYptkz7LVNGlr\n",
       "BuoRjFbUIjdHMH7Oqtp7XUkqdz7z9Yoc4l/rGIwaEkGNIZy8ST7jciure7oLpKTZ7fkgUM91xkUq\n",
       "2VgkamvSvEZqXS9Bo78VXudglRXkDKXKzYpavHglm5xwkFLvvHClUhakaBlYx1CZkghqTOHkIPa4\n",
       "3HhhS6lI1WvzK2YQqPcwsb7mHC7t8ycVpZPUj+53M06EtKIZ546CjgKf5EU/rVzH1P/Ttricjnnd\n",
       "0eVHEHkzHwzqmWyuQ2LjWqC5nu5zPd1+fRm31Z6k1f2Lm9Rpkg330wfrGKUmctuaNXnb4HFrVpUW\n",
       "+qIZBOq9XgpzYM42T6RtxT51k3p+k228C09OHdY+A9EGt5oqI2qczASB/jtX44eS/ueHj/yOplcP\n",
       "DXb9DdcPgU+ga4hNAAAAAElFTkSuQmCC\n",
       "\" style=\"display:inline;vertical-align:middle;\" /></a><br>"
      ],
      "text/plain": [
       "generalForall_Rz: forall_{z_1,...,z_l | Q_1(z_1,...,z_l) ,  ...  , Q_k(z_1,...,z_l)} R(z_1,...,z_l)"
      ]
     },
     "execution_count": 5,
     "metadata": {},
     "output_type": "execute_result"
    }
   ],
   "source": [
    "generalForall_Rz = Forall(zIter1l, R_zIter1l, conditions=[iterQ1k_zIter1l])"
   ]
  },
  {
   "cell_type": "code",
   "execution_count": 6,
   "metadata": {},
   "outputs": [
    {
     "data": {
      "text/html": [
       "<strong id=\"generalForall_Rx_given_Px\">generalForall_Rx_given_Px:</strong> <a class=\"ProveItLink\" href=\"__pv_it/d2a8eb578632adcdce0ed69c952c4813cb1952440/expr.ipynb\"><img src=\"data:image/png;base64,iVBORw0KGgoAAAANSUhEUgAAAhEAAAAXBAMAAABHdgAVAAAAMFBMVEX///8QEBC6urrMzMxUVFRm\n",
       "ZmZERETc3NwyMjKqqqp2dnaIiIiYmJgiIiLu7u4AAAAU9Wx4AAAAAXRSTlMAQObYZgAABSBJREFU\n",
       "WMPtWG1oW1UYfpJ709s2yU1UmJ+j+THcQKRRhJX5o9kqVVScjAk6fxgVO8VJr2xsRTcb3I9Na2t+\n",
       "OAUnrA6GnYOZ4ccQkV70X8cw4sfcxJJCJ8Icq10/qFkb3/OR5H4kuYk//BE8kHvf897znPe+zznv\n",
       "e94b4P8mW6453fJnGhr+Df2yTDjTJP5/Vrivd4hL9zQGDMSB40wYaZatsABMpf6NRwTaTTct2SRE\n",
       "KHlAnSUhmGkQOQG0UqIIpJuEieBVcoh+8DWa/qaA0Ed79uxrluBoiQLdCRLW0e/i8P51P9Ycrj/+\n",
       "y93DCYGkzbDQ13ehYZM7az9uaxiBWttSi9dpLpJA269M2EZunkfH5HjNKLmc9i1fynOx/VGgB9he\n",
       "z7Ekbu/OP9ZrQBv1iFf5/NLw9z3SGQ8ENjgVZSxeQX3m0P3Q57dy4S3KFyYKmYIJpXoSfBiRfOQa\n",
       "pleITEqZa6Cn6tl44haKoj1b7FRvR8VarTL0/pgVXr21xxzrXMYiWZ85YDyHI3z/XE8TQisYZ6Bs\n",
       "zVaFjWJwMZSBn0b4Ka7CCJr1M6EmEFrBYa/Rf/DrEXJhULyIJ8K5HBZsW6Y+c8DTPECozfJV+4uj\n",
       "szWA30VlZCgzlG/NcK5+JsIm1JR3OKlsZfQCTRxZ4QrvAOyxE2PBthh1maM2R+yVmVDnPJnYzEa3\n",
       "moIJPUX1mN7709h+9zpZtJKJK3GcNRD1AvDzvJ29SWSRPyHup1/adjBe3cRX9mCxYH3V3q80oywf\n",
       "lGu0yjxn3EwMjPryCBq1mHgfHRmcRsQQ0YHtm2ip4533k+1H7COl1spE58fHKAmlvAB+xrVviSWx\n",
       "Gag5hsAP/jlaMDVXxcQam76IZa2r2vuJGYvmRDnxVEYnaQet2ezgLF4We0IvfmGVBHbRC2sLMS2K\n",
       "u1gkseA8RENfxfh757HhRrsloe0yLUyMScMeAOa5WNJPEsqHBkNomeDSvjTrVDbRZdNLLB4QHFU0\n",
       "J2ekc0IRSaaFmBvP7CXpGIVJcuOs9rpg4gpjYxkWgV20BbUjNhDDFzJXwMe3Vj9j6pxz/zBtS9zC\n",
       "xHM89BJeAMEEC/OOOMKGQLSwftioYsLBhMQeots7Vd+Pz/hskYmL/XMZBIaYO3fSBvnt5MaDMcHE\n",
       "FPGqr2KlZFIKege9x9cXpm8irl5kuYIdUyGy0Tq6GntdloTWZ42OJb4nkl4APzv4Wq9OPxPIc+dZ\n",
       "/01fVjOdTJRN3G7XS+wT4kllc2LGqDRnC66yFZ4n1rrro/KIG+K82pYlydEFvMAtDRjaCAZy7GII\n",
       "7W4LEwrPYXrWCxAapZ6yvCW82eRMEEL5uzNJNS11KpuYsOmL2Mk7ErhseT/tgByR0w6IGdnnY8hZ\n",
       "t1kUnAl3nRAqJ+0Z2kUnSsdQ39nn09yxbpO87TbYxRTaCQsTY/M8VCa9AIEY9bBr9dsjbSIgJoHe\n",
       "HT+/wTuVTWyx6YvY216jbZQrm6PjQYwwSOIzMqcDMaejpa9ybWw+U5sJPJh2F5fnbPRJaZO7SPzS\n",
       "C9Aqe2p+q2CihGCdiiZSTj3D+ocowQTTFnMhpy9qTJizt132b1T3CWqv1lRH9rr3ljSUkq4oTZou\n",
       "Jn73AhyWvWBhEcqp42UE61REUCHp0DNs0BwxoSct5taXXkJK4T8rVbBaY39QfFpB5+IcTxouJtpM\n",
       "D0BC9rTr0nUiVJeeYVXjBC35BxbTrv0UOA0k/stPf9XW+9bjc8pdv3sgcLLGs1C8YXONt38AAR7x\n",
       "MhFeB1sAAAAASUVORK5CYII=\n",
       "\" style=\"display:inline;vertical-align:middle;\" /></a><br>"
      ],
      "text/plain": [
       "generalForall_Rx_given_Px: forall_{x_1,...,x_l | P(x_1,...,x_l) , Q_1(x_1,...,x_l) ,  ...  , Q_k(x_1,...,x_l)} R(x_1,...,x_l)"
      ]
     },
     "execution_count": 6,
     "metadata": {},
     "output_type": "execute_result"
    }
   ],
   "source": [
    "generalForall_Rx_given_Px = Forall([xIter1l], R_xIter1l, conditions=[P_xIter1l, iterQ1k_xIter1l])"
   ]
  },
  {
   "cell_type": "code",
   "execution_count": 7,
   "metadata": {},
   "outputs": [
    {
     "data": {
      "text/html": [
       "<strong id=\"generalForall_PyNotT\">generalForall_PyNotT:</strong> <a class=\"ProveItLink\" href=\"__pv_it/c89a63f4250135c192004bdebe9f78585fc8822a0/expr.ipynb\"><img src=\"data:image/png;base64,iVBORw0KGgoAAAANSUhEUgAAAe0AAAAXCAMAAAARFOcCAAAAPFBMVEX///8LCwsYGBgNDQ0oKCgQ\n",
       "EBC6urrMzMxUVFRmZmZERETc3NwyMjKqqqp2dnaIiIiYmJgiIiLu7u4AAACwKje0AAAAAXRSTlMA\n",
       "QObYZgAABJ9JREFUaN7tWumarCYQNQv7Du//rhEQgQZxYby5+dL86O6xijrKqYXCWZbv+B8N+12C\n",
       "iQHVM9nc0PBAINnJHJP/Vl/2bg6E47fCzuF1GMwa2RuDoO5lxgsVUwya5kiR5Pwb5ndHXjIXF5oC\n",
       "9kuWk3ev4ibmEannMJocg37ZuznUng2Rk+FbbN+l7JVcLk9Cu8N2mJN8kIgvfTcH2MNXuRhW2pFG\n",
       "9spuC1wK7YrtMEdLFob5snd3i5ZjibptwZ2oZZIDHbZHE8vbs0Hb2ESd5FyyHec46oeRv2yVGJqZ\n",
       "LX4bWJKXbCvb1tFaJskCHPMZ3j0nu2dDkkaPohO2wxwctCj7GX+vE47ixgBc3wab8yt0Or2L+gIs\n",
       "1x9lGxlSy9bkyZxnigQ3QE+2RpUNi12sECLnFcLD+Psv/4kHbIc50GtY/jNxWz2PAN6HLHXwUOWJ\n",
       "r8OTKOyivgALYC7bWEpJinY3ypBaZAh749S68vhJOq9sLHAzAcGV0K7ZjnO8AaV/nm2x5TXmyqcU\n",
       "s5vVE8fso74Bm92JOnskA54j65znQjws3oWNlMHRZ2WA3fa+YjvO8Uwb++Nsr7e3GXXlYsyXDDwq\n",
       "wAeob8Bmtp058gQUkjCMJfch26WNVD0atjm7yPbqtdvBD8R+s2bBeaAfaRZsS5fcLdzt7qjTSMNW\n",
       "9gD1Nmyr2sACsS9js2dKMu1AuCk+wXZpIz1TkcnDqdmff+RTs3EmX/0+tmrWLNx56/4J8SjaK80D\n",
       "tkHqRlD07GgQ8WkkiIdZr0ZNj30TtoPbwFL90W13ZDpwxOMubmd7R77yo7SBEsmaXwntmu1tjiDx\n",
       "Nphgvujh1YGQBKPUV2py3Wd7j60QbslgXLMpJDQq3DXqgnlJ1XXYDm4Du3dBbdneZczHpXLRHRLb\n",
       "1t34UdlQtN+BHQVA24H5gFC7l66RAeLebVzosma1GazYtincUDYo8DTSCdsVqtie8D5sg9vAxv2x\n",
       "JdQ5rLqywDAwdLupnW2wuaQFdDn8kQtRtkETDodXQrvuG9McbQsvtbHynSxG1gQHmZw7ZDGFa58Y\n",
       "bzEahHQaCY6aqQ/UdB58H7bBbWFH2WGTQe8oZGsTct2GF/aMu05hAyDUOzkV5NFpK3ZLWqe4GMx7\n",
       "DfNn6ftHuJQ167cptNwCGgIXg1PliwatmUYKx/tH6h+oxkKFb8Ie4LZvIvTgwCbKwvkXS9Uls32l\n",
       "39V7S7nbsG6JkSPrXHKpo5LN5pZxw6vEi/yqIceKj3Apa9aPXFLPMDDcrcsnCrbTnU0gEThUr1CB\n",
       "ZlbfhD3AJe2pzuitZpCpdWvFTDxqYZI7ou6zXdrA8QX1R+9/LbSb+mcJS1VtT3S6ex9ZE48PyrBT\n",
       "BJcGlZhF4iP1GhVylQr2Hdgubme3wAbdQZT59kg2PnHlpEdVLVZtA7P7oY1ZuzHRa/IKoaNAdCPU\n",
       "Vhh/KWsaq0dsr3vJkMd2g5ZOIm2nYgfqNarSa4zpu7Bd3O5hHBvwxl57w63Q6OXEtTkheVH+4QMH\n",
       "EZQ1iWIjthkAH6+PhJ5DwuehvaOuE6WCd2G7uC/+49F/dlxZEz316lE+PeP9l2B/p/EP2W1Uztwz\n",
       "9lAAAAAASUVORK5CYII=\n",
       "\" style=\"display:inline;vertical-align:middle;\" /></a><br>"
      ],
      "text/plain": [
       "generalForall_PyNotT: forall_{y_1,...,y_l | Q_1(y_1,...,y_l) ,  ...  , Q_k(y_1,...,y_l)} (P(y_1,...,y_l) != TRUE)"
      ]
     },
     "execution_count": 7,
     "metadata": {},
     "output_type": "execute_result"
    }
   ],
   "source": [
    "generalForall_PyNotT = Forall(yIter1l, NotEquals(P_yIter1l, TRUE), conditions=[iterQ1k_yIter1l])"
   ]
  },
  {
   "cell_type": "code",
   "execution_count": 8,
   "metadata": {},
   "outputs": [
    {
     "data": {
      "text/html": [
       "<strong id=\"generalNestedForall_Pxy\">generalNestedForall_Pxy:</strong> <a class=\"ProveItLink\" href=\"__pv_it/84a68c34c5ad7b886b7969a5fa8f41fbfc1bd4c80/expr.ipynb\"><img src=\"data:image/png;base64,iVBORw0KGgoAAAANSUhEUgAAA/QAAAAZBAMAAABtOXiQAAAAMFBMVEX///8QEBC6urrMzMxUVFRm\n",
       "ZmZERETc3NwyMjKqqqp2dnaIiIiYmJgiIiLu7u4AAAAU9Wx4AAAAAXRSTlMAQObYZgAACE9JREFU\n",
       "aN7tWmtsFFUUPrsz2+12ttPiDyRG7P5AMMHHBl9EY7paAyaKrcSo6A9WTRCjhDESqQ/sAkZRadkf\n",
       "EBKx6UpCECGwaiJRNJ2g/qkx1PhAm7RuEyAk2LSUpgu0dL2vmblzZzt3xW3cRG7S2fs453xnznff\n",
       "U4AKT2v6DbiSyp6C/X0V72PvFZpmJq2DXMVTn/u/kbJwpgGOUurJqPqhkqmvdA/Lk7TmsfuXLcU5\n",
       "JTHTWKE4oX4fzndUMvWV7mGZUl0K4Gm8r6me+WkuRah/BT3DyUqmvtI9LFNqzAB0oT84MvNYPYR6\n",
       "3MdC6UqmvtI9LFPqjgEca0GZ62Yea5BQH927fv2Git7mVbqHZUpr0V8z6uFBNBvrT/y+qN1/yT/Z\n",
       "vvmGX+xSzUYTan0PQy6JqjSmHsZXreqraOor3cMypfOI8XG8B0OT/lA6cOnMhJ+0/gc0DHRnreKe\n",
       "QB66RvwUXBI1LYT6JoDnLsvXlyXtfnN0OO6vG+Gpv2wPpTDyFJlpACtKykWAe/B8X20CPAR1E3WT\n",
       "fmqqCYVswbQ6Qn1bHlb67YfcEpEUoX4e6KkSXIzRnzPtPzWxt85INO4SKxxdeE2iq2Q46kv0EIL0\n",
       "55HCrFlNpcHIkyK+JWe9LABWlLSxT/bsxZkAinQG2vJRNKTvmH7+hnDB+AH0ZnIcULKHUvBn1kfe\n",
       "kmCRqifU14JmluAi7TCR2Ya+lvaCKplGTUwYQI4uSDfsuznqS/TQ8ig6BkrBKA1GnnYLZc56WQCs\n",
       "KFVNWYc8UnEMkQO3L/NRjJ7Fz5tYqSGrF+K+8kTC6ggjhHrNrM2VTH0X+mmjm4VdMg1xqHK6kaxM\n",
       "+TRHfYkeWtSraKZsMEuDkafT4kxrWy8PgBWlul4X9c1kk9fpN+WPkSWccVkwggVfeSbhol5P3Qal\n",
       "Uq8XEAd1tH/Kl98m9ztyulXSTzJq3KG+RA8t6mvPAevfVWX48qMKq7ljvUwALEqNLawcQKv/B2iM\n",
       "wmE/KiOZwARoBmy1p4Ca877UMwnXhA/P3Yeiu+TXjzd7xE+seXJLnKe+Bve0ujypqHe3OxTbptx3\n",
       "E7xuQIqoZR3qiYfBZRn9Wo/8vD4YNAXqh0fg1GSJMIIFOzQOmCYMbMc6BSgaA65W6vcR51hP38JE\n",
       "fWtBIRaup1TiCU8HlrFLw6Nto/ASQJ5WRc9D9UUqr/NiTolKfP/ZV3g6idJtHuzAy2n8lqWImofd\n",
       "Dv4cHGtLKFsd6gMXcP8cATUHSoq144JrWBBTi028PeOTpfsA+lksRQwmOOqxh0PVI9FJEUvv3QbH\n",
       "ROq7Zq85bxDLchjLgtBOwSh1wvGaWadp8TQx4ACkfrMorc05B6/wuNoQa40RKvVLmOhelrFLbcl7\n",
       "R8ObQKmnVeGz0D1KqbdlccYpEQn96CT87BzuIID69evQvfMPuOtq98klq13YkIZnHerJoD2UUD4y\n",
       "cEhoOy7wiZqqipPAcInpwg76uhJEJcVRjz18tS2p5kWs8M5xaDYE6g9lYFuMWJbDMAtCOwVjy6Kw\n",
       "Y6HWrcE7TQw4AKnfJEr6Y4UHrRkHvfE3fSfmbKJrvd6A5AZR9PXZwB6DyDWt/+C9W2KgJakAdM5d\n",
       "O0Wpx61ULMkejkT4TArPE1Ado9RHc3avOy6unlN0Zrepx+WGONQaEElY7bXigodNBcBDPdNdgX62\n",
       "SxFd1BMPu9OBeg+WdgFmiWs9YqY5SyxvL+HFqAWxnYAVpZ5Zp2n7tDFwAGR+LxYXA64bYiqD3v3E\n",
       "AgcmSwWCcXJo73S32uuXLaFm8TLPLnJpqs7MhTc8EXgv0Bs22ZcT8qw+d+KZ0AR502CStYuvRU3h\n",
       "by7z3fVMd2BhArdIEINJjnrWoYYTnhBWTelj8P2u73jq0XYSb8GPQwkwzIKHegwWXfF1gnMEeOsI\n",
       "8sYVBKBoDHgAmd/zRaJ63NRHvVs2Z28SuJUKdI2E8Ymz091qb/FsiUA81IJG/H6O+sbd4/A8jkD4\n",
       "HWjNhTvw4x3l4i3JqnQ041CvXFpe22wS6vVeoO244Gi1GtRUD3kHvt7SvfZNE4Y4RGg1KF4HjxjN\n",
       "iNQ3w8qsGwvl1BHUm3YlAxz1ClrZCukObFkKY1lwtaMcAYt8gYdtNOMCZNYRZOx6DFAsBhwAM+Xn\n",
       "d49IFPfRVkr9sEYFujMbrgJf6qlEGwQWxemB0qJeXfXj6jSOgDIJjYaSx49JWPLib++CGuPO9evm\n",
       "buuI0PltAGg7LjhajSY1hfbksNxVz3SD76OhhM7pNiI0mhQvzyOGYiL1rb/TlcblYbh94zl0/mrl\n",
       "qN9YGIDOOSa2LIWxLLjaUY6CNYVT2BEXILOuxofw/xEggCIx4AAsUz5+L/dcDtsby9e2PQXgvTrQ\n",
       "uKPnPioQ6u/LMXnN21UcifkQOoC0DI56lo7znYzlav9y3VupE49S6r+0t/QGr8X63IBJ/iHAXY91\n",
       "NbPDBC3NITrdlEOsBoF6/XG8OrqxonDSwAspfH2z934RWZbDMAvudjApWK92NIcd8YQEXzDugF7u\n",
       "PUS/bABT6rf3jvr1mf5S9Dl4qL/7mjTcaZdYLnTYRb1WyIPyKepsp6ybIVywtRS2qD1lkKsudz3W\n",
       "VY39MdCTHKJiFEHcJVKvTYZGBSyU6zZXxpAnPaaHemxZDsMsuNsVg4DpyegB4ognJPjl98ELcRvA\n",
       "45cFwEz5+F2OG8fLSut81hGzyEUumo5msZ4eMYtpcSuT6qm3deFDYSXyICZE6sNvv2V4PWxdvdRz\n",
       "m8clKQxngR+UDhh2ZLqQCADFxKJSv1WoGOqnSwlPzbcSjYN+3x4kHztr7K1Of+n/h6/+Y5gSvq74\n",
       "fz349wAH/xvig/2//A0iT8HN+3L2FgAAAABJRU5ErkJggg==\n",
       "\" style=\"display:inline;vertical-align:middle;\" /></a><br>"
      ],
      "text/plain": [
       "generalNestedForall_Pxy: forall_{x_1,...,x_l | Q_1(x_1,...,x_l) ,  ...  , Q_k(x_1,...,x_l)} [forall_{y_1,...,y_n | R_1(x_1 ,  ...  , x_l , y_1 ,  ...  , y_n) ,  ...  , R_m(x_1 ,  ...  , x_l , y_1 ,  ...  , y_n)} P(x_1 ,  ...  , x_l , y_1 ,  ...  , y_n)]"
      ]
     },
     "execution_count": 8,
     "metadata": {},
     "output_type": "execute_result"
    }
   ],
   "source": [
    "generalNestedForall_Pxy = Forall(xIter1l, Forall(yIter1n, P_xIter1l_yIter1n,\n",
    "                                                 conditions=[iterR1m_xIter1l_yIter1n]),\n",
    "                                 conditions=[iterQ1k_xIter1l])"
   ]
  },
  {
   "cell_type": "code",
   "execution_count": 9,
   "metadata": {},
   "outputs": [
    {
     "name": "stdout",
     "output_type": "stream",
     "text": [
      "WARNING: Duplicate of generalNestedForall_Pxy\n"
     ]
    },
    {
     "data": {
      "text/html": [
       "<strong id=\"generalBundledForall_Pxy\">generalBundledForall_Pxy:</strong> <a class=\"ProveItLink\" href=\"__pv_it/1795bf4ccb5772aeb0323b9a96da023b60c35df80/expr.ipynb\"><img src=\"data:image/png;base64,iVBORw0KGgoAAAANSUhEUgAAA8QAAAAYBAMAAADOlikNAAAAMFBMVEX///8QEBC6urrMzMxUVFRm\n",
       "ZmZERETc3NwyMjKqqqp2dnaIiIiYmJgiIiLu7u4AAAAU9Wx4AAAAAXRSTlMAQObYZgAAB8tJREFU\n",
       "aN7tGm1sE2X4aa/drbv2tvED0UBWEwQSP2jwgwVjVpxhJopFNCrwg6oJYITsjEQmii1gBD+29QdE\n",
       "I5JVEoJTAtUfEgWzC0hiRgw1qIMlzJIAMcFlYyzbYIP6ftxd33uvveviOqPZk9zd+/F8P+/7vB8t\n",
       "wBT83yEz5YJ/EdypEgvwBwHSuHBqytmTCVJk8LGlDbj0QMllPQPQjr8tU26fVKiMA7yoTIrjywHe\n",
       "QB8xOuX1SYW6JEAbeqRUyUX5k1COFmNvYsrrkwodaIU8vQzAVfqdkFwF/gObNm2ZcvrkQiN6Imhe\n",
       "zcMxeOHsguawLfql5u3zfjVqFVtVCKTt8E0YrwAMrVnTPeX0yYURFNkh9F2Jnt6E6+aVUduJeA5q\n",
       "ejqMnL7fNQxt/XYEJoz9APUAa0tkyesO/Xbrgxiyp/WNm8IZEv/MnKIFCDcAHkF5Gj5Cz5NQOVo5\n",
       "ZkflUSGbyqpG5o0Nw+qobW5mMT4BmA1yfEICGqSfK82/1Gs+TzpQLOIbcrSw2YFWoMyfzlZX1xdH\n",
       "4QwWfRjuRZhTtABp8Mv9B3BhGnqSEBv2oyn6UOG8C2JWOQVyhKzcQupwHP5I2eDrGBTuBAiApE5I\n",
       "iOmw8U1X5EYa7TInioogNzNztOC4yd9HN4yDIGSV4ihgvPqw3Iswp2gBZbe0+gB5n65CrweX2m2L\n",
       "r+L3vVqtJiVnQ7b4BEPfvaMhpQYyExjiNvSJ0aV+j+Nuj0sfDK3P8TjxJ01iKMXVqMVRwHj1YbgX\n",
       "Y07RAirTphBHyGZrr12qHtRWVTJJs4o7a4uvYRghluMTdMVCQixn0XippKPUeYmvNzuAoS1TnGg9\n",
       "ZJgGroE2YJ0pYJz6sNxhYnYsVEDdMq16O3o+RXMOjtiFzJd0jYKkkJWbTumKEdsQaxhGooa1jyLv\n",
       "Lvnti+0W1IsbVu6kBrqXJuWZlv7Z3XBBNYe4Ao+3ymHSUFWAba71qDmNMbQuVnpenei1QV8/XB7T\n",
       "KZys4BTWgLHtKNeV407Mya8SI9XRTUeNYzGB9Xhcz80GxSoaMpxOZeALfQOxAXgNYJhW/SNQfiOH\n",
       "n4eIYpz85nucHn5Cz26UNgKh+Q3IwU+ZdTvjHoyFBTx4esv7/WPgMWd0Od0Kp7kQu67jUdqPUYV4\n",
       "Aba0tVbFWz0WdNrH0adWk87LzOnkJumtbfqGEYVIqHW2QlOY66e20WBwwdG40+wXL6BSzhxnN1EB\n",
       "jZncgUYc8tQEm4IkZPJNHNA0X4hFFw+I20CoolXxKnQM5PCtRBRDPj4GZ7T07kLT4S3o+PgcLLrN\n",
       "fApJSde3JOBlVHwzFvUMC5+bc6H48RBEFHOIySQ8HMaoKAZ52WqtZSESFgY0WthNfEGlW2QaOglk\n",
       "XTuchNYgkTDb2QqqMK8OsY0Wa7kQU+7aDA0XUClnjrObsAD5uewTWhfeQP3QfXHGNroWyzUI7QLy\n",
       "ozwdtAJukc4fWrwzCFKUVmHvrMZbOfwcLikQSzCGeCWO5z1g3v6MMbK6OBPJ1q+K5JaEqwoC3HIn\n",
       "XYdqbi0mS2lNCKP6woXYklaXxaU67Qr02aVL52UaOtEQowhEUkTCriKsoArz/cS2vCHWuNMVMVxQ\n",
       "Jd0cZzdxAlwMJk68bst+gmkpS9GqO0QOvfnxYS7oGJ6Uu4pcYFIoT86Cty3Gf+BKiyr9jaIx0xe2\n",
       "6F52Sx6Ek3t+ZEJcfu3iS95R4gZ3tABb2op//5hjbtdoe+4O4x4i3SLT0MlN5KEdGt7ydhFejlYQ\n",
       "hS0hxrb5VxwL8/ro3JGF96wg8vKqlDPH2U2cAH/SHGK/defEjIf7abWtX8QHufz4oBoYrpB3WRAq\n",
       "9CFat28IX2Z2gbgDmjJiC37tEG7Mj5YlkBpNCkRgdQrrzvaDpx9FZE/UxYRYuLk8EFFJiOV0ji1i\n",
       "QYnQS6GtnQi709Su0858R4VeoNJ5mYZOyD2oXUDrTzbRgiX0Qj5xDIWuMK8Osc33LZ7nnWb7NO7I\n",
       "wuBd2Jx8KjHmFOGmTi4gLeMIcZ9Eqx3JLdPANsQUIwauBSHtbIlPIGt+XpfAxgtjUKcIw/g1BkvW\n",
       "//4+eIJQp0LTWZp9Tf1i89Zr6PDSxJ6LN85qbfHRZNaTY4tYUCL0Umkr2sfDclO7Ruv+EM0ndFYn\n",
       "0i0ydZ3AG0S1rdke2DtDxRIQRR5xDIWuMK8Ota1ejGN9TLI07p5QL/5ZvQfyqcSYU4SblnMB2WiU\n",
       "NreuArAe7ZkWTzutes93ZwriS2BgzAHvQYAGDqGLHRhaKfAXGhry83g5wXFj+y8peOWBY/eZbpc8\n",
       "o89S1O8YtqCaxhmCHvSN8+2YVlJbVJD0+2JepqFTOduOJBgUZnEMhaYwrw61LS0dz2B9/NYJFEAb\n",
       "wLSaM8esEmOOs5v4uxWx1D8YS9wZ7+E7ErDQqGkl7xEQFGnMOwDC1+1g6u9QVwfhMnSqphBL2WGK\n",
       "eplhKxjrk15apeALKa4d03qUr4Iga9wsMnWd8GXTQlZxnYITx1BoCvPqENvkqP8guSCzyMJ2tMOr\n",
       "IcMcs0qMOc5u8pX+LwBFgJqn5AfxvXcVa3/TugbLBSYamdXafPKp+dYUZv3wWNoNWvjMQScIm2oc\n",
       "hT8fBaOwP69tnkKyLOZYskRxbvLAfxvClpYTDhSH7G7eHX4arMiMl8IZDtl3n4ASCygN/A1PcIxc\n",
       "hESFZwAAAABJRU5ErkJggg==\n",
       "\" style=\"display:inline;vertical-align:middle;\" /></a><br>"
      ],
      "text/plain": [
       "generalBundledForall_Pxy: forall_{x_1,...,x_l, y_1,...,y_n | Q_1(x_1,...,x_l) ,  ...  , Q_k(x_1,...,x_l) , R_1(x_1 ,  ...  , x_l , y_1 ,  ...  , y_n) ,  ...  , R_m(x_1 ,  ...  , x_l , y_1 ,  ...  , y_n)} P(x_1 ,  ...  , x_l , y_1 ,  ...  , y_n)"
      ]
     },
     "execution_count": 9,
     "metadata": {},
     "output_type": "execute_result"
    }
   ],
   "source": [
    "generalBundledForall_Pxy = Forall([xIter1l, yIter1n], P_xIter1l_yIter1n,\n",
    "                                  conditions=[iterQ1k_xIter1l, iterR1m_xIter1l_yIter1n])"
   ]
  },
  {
   "cell_type": "code",
   "execution_count": 10,
   "metadata": {},
   "outputs": [
    {
     "name": "stdout",
     "output_type": "stream",
     "text": [
      "Common expressions may be imported from autogenerated _common_.py\n"
     ]
    }
   ],
   "source": [
    "%end common"
   ]
  },
  {
   "cell_type": "code",
   "execution_count": null,
   "metadata": {},
   "outputs": [],
   "source": []
  }
 ],
 "metadata": {
  "kernelspec": {
   "display_name": "Python 3",
   "language": "python",
   "name": "python3"
  }
 },
 "nbformat": 4,
 "nbformat_minor": 0
}
