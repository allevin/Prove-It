{
 "cells": [
  {
   "cell_type": "markdown",
   "metadata": {},
   "source": [
    "Proof of <a class=\"ProveItLink\" href=\"../../../../../_context_.ipynb\">proveit</a>.<a class=\"ProveItLink\" href=\"../../../../_context_.ipynb\">logic</a>.<a class=\"ProveItLink\" href=\"../../../_context_.ipynb\">boolean</a>.<a class=\"ProveItLink\" href=\"../../_context_.ipynb\">quantification</a>.<a class=\"ProveItLink\" href=\"../_context_.ipynb\">universal</a>.<a class=\"ProveItLink\" href=\"../_theorems_.ipynb#bundledEquiv\">bundledEquiv</a> theorem\n",
    "========"
   ]
  },
  {
   "cell_type": "code",
   "execution_count": 1,
   "metadata": {},
   "outputs": [],
   "source": [
    "import proveit\n",
    "context = proveit.Context('..') # the theorem's context is in the parent directory"
   ]
  },
  {
   "cell_type": "code",
   "execution_count": 2,
   "metadata": {},
   "outputs": [
    {
     "name": "stdout",
     "output_type": "stream",
     "text": [
      "Beginning proof of bundledEquiv\n",
      "Recorded 'presuming' information\n",
      "Presuming previous theorems (applied transitively).\n"
     ]
    },
    {
     "data": {
      "text/html": [
       "<strong id=\"bundledEquiv\">bundledEquiv:</strong> <a class=\"ProveItLink\" href=\"../__pv_it/f0905520a591c69168d0cf260850d4510958925c0/expr.ipynb\"><img src=\"data:image/png;base64,iVBORw0KGgoAAAANSUhEUgAABbYAAAAzBAMAAAC59EMeAAAAMFBMVEX///8QEBC6urrMzMxUVFRm\n",
       "ZmZERETc3NwyMjKqqqp2dnaIiIiYmJgiIiLu7u4AAAAU9Wx4AAAAAXRSTlMAQObYZgAAEzRJREFU\n",
       "eNrtnQlsXMUdxv972Os97WDKTb0ICkiUZiG0XCpeSAQVLbWhoHI2K5ACFFAeKiIpl81NW0g2LYiq\n",
       "FGWLSMtVshwFWlJ5y9FWoW0WEQJEdVhKiKhIaucgzr2d682bmTfvineD7Xgke3fnzfne782bN+/b\n",
       "bwEmSGgdfA8mw4QP4cGVjS6yq76tKWlHERJZ6WN68rjvHeEGxy2raxSMer0DYHF9vc8CD5x2mu/K\n",
       "g6QdRbgYJtmeZFsa0+eRl8y0kxHbH09b4LPAzgCVd+6RLibyNrZrkwf+Cw3HNLuC19zZhr+z10gH\n",
       "/n/cuGX7UbCxXcWvb00ytmfDi/UZM5YbmKh8s6tqybmzHe2dEGzHOu1sP4lf503StofDFnQjvz96\n",
       "bWv+dbPfnW04cEKw3Vays30jZr4wCdueDZFtAHG8evBq8+ta6sH2gtpEYHthzc42HjhaipO07dmQ\n",
       "3ACQ+hy9+XLz6/rIg+223onA9kFgZzv1uzlzbp2EbQ+H1mE00d0KEEYThsyF7x//gPu0+5MH7jx6\n",
       "ufXxiUMABl3XDG6vQLpq1lV0Zzs8MgHYTu3SsA2bZ81aOQnbHg7tiOkhNBNsQbPEdcXQzs+2u6XO\n",
       "fABdqwbKnNzeLiNed8uwKDQCC4d5cne24e4JwHY6r2N7OsCVTarwRx7b3aZCsZx73njw6jxD3ONW\n",
       "PDfaCniHu0sQeRfPByoA34H27e07AL7hvJRRgXq5Xsn00DnlR7G60bIZIo53SZmOvhGYaW6O95ts\n",
       "X3gfDnepyZfVxj/bU7M6to+ATH9Dimelf/bA29MZCyWPHKeoEVZeuMnrbowW3tK1fsq+OX/Ved/h\n",
       "qSWcW58yZTr/dNOodxHv8MDZT12MlwBDaKeVoG8kVYavn+M8xQBE81sAx9KPpya2QHp75PyqYz/K\n",
       "i/vhQ3OcD3d4jNvt5fHP9rmgYzsNyUpDiqfjRHw/IzObYt7qlUNRAIh5wXPp5jE26OShe8Rfdd7h\n",
       "MXUWtwkidUPu4GgC7/BsdlffTiKWEawedZtOkmfhi9in0HYY2gjxqnP6rnKmbl5lIsMebEer45/t\n",
       "L2nZTlbStQayvRC99NG9/ohXDvWCIeSNl70yf0pfeioQ2uGvOu/wqXrUUcld5pnv3STw3eGdILLd\n",
       "k/diO7oJ/7/fnNGMwNRhN7bRCRnmE3JPtuMj457tyFYt25n+E6BxbGfq6ERppzet3tP46fKRF/K2\n",
       "Gl55o3Rc+jCHxzB/1YHPMq39sxGs8c+7SeC3w5HPzREYzcB/hUZZeNmN7XgJjdRJA0bMCXIHoEmH\n",
       "C9tomEfzljef/1NempNcNojDCtsZt33cs53cpWUbrjwDde/Md5+407Z59XUX38eO7BEr4SPb1EWO\n",
       "JGwn8ADTTg9Ch1SCsC95ZfKTCzFvyLNNyTI9HyAzu8Kq0+cQYrW9CJ9TyhzCdpEyNA8Nw5od5oeQ\n",
       "Q3eC7CbWYby8Tc+XCurBUfVsrIOyTa6g+F9GfDO0oW8DXE/oIwmW9cP8EmGbJ5MzpbZA27bMazvg\n",
       "Hfyh32PchhUi2zW/vNYCsF1rMtutHXq2H0L7KJ2behYi67vy5nfCm/ryEXwlzFTnw7KKsp1FSmyH\n",
       "8MWhexiiNYj0sxLwB6lWUtlJFXwfKwYz77fQy0mebQqTC3l8/awP7wVWnT6HVZ22F7CubTjFAA4r\n",
       "K0kL97tuCx+tT3LoTpDdxDrcustan4ttjnZl52YJ2xk8VyH/hqrCm77C6Rtid0CyQKOgryNZzxK2\n",
       "eTI5U2w9DGyIfdZPRnrPNUDoEdn2JzDqDKBE6my+ailU0LMdQoPVzTDw8Adwyv7ymlc5ufXWIlyB\n",
       "3z68GXoMdTuJlNkmw+7ifOQ3BgaFloA/iIFW1pojuIj36zQvPEQh8GhThMxdE9ugbQOw6rQ5hOq0\n",
       "vYAf9xWi7GofUW4AFpdgPr/fPcKhO0F2E+3wJ7M3sQtEGB30P69cfcAddL6d6ULpMvvhdb6C+QY1\n",
       "LTn47On3ZaG1TBNA/O0VaPqG2cZbSTIrE0nx6KGzd0G0jKcj0Jb1YnvAENj2JzDqDKBE6my+ammo\n",
       "pGc7VeN37uq3cMj4Qvqc3ApTbNtppMw2ztGVg7QB8bxZQlqdqeLKQmBjm+W9CL086NkmyiECO7od\n",
       "eHXaHLw6fS9goBjq0LONwO7h05QHHbvjfzedpDZNOA3wnCRsn9MfZQ1O01iCw6FlM9D59lG29DhF\n",
       "OIeXt0O5lt6s9zN3dHkqCmz7Exh1BlAidTZftTS1omebIFI6FG6xHZSfhqqxCm1S667MJtt2Evnm\n",
       "I28IbLdtXH15C4UtXGAlqDDQynB3j5TjWd5Vx+TxFo82hc1zCS+T0Or0Oazq9L1A6A/lUxctyZtl\n",
       "WgGNjl0V3MOvXkQaq+1OkN10pHoElspsp+yHzTpqQ0maIF6HvhHGtv2Y4hQLh2N1A/ogdDy6Wj3t\n",
       "yXZ3WWDbn8CoM4ASqbP5qqVlRWe2ux/bDFfjgxK7F+bWYvPwv3sj26YWWoupEo6MDmPq0EGba9Ct\n",
       "88zIRwohge3IzvPSPRUCW6YKtAT8wSp3rkErW0qOrBhv5j3ktgqsE9ok1snbBOhvrgHdVWjf2laj\n",
       "1WlygFWdthe4jB6YWY6/hAfeVEnsP+oMwrs4D/Uw+xU0L9d2R7+bpGKE3bRUPQKWxvWm+Zd4sB19\n",
       "kiZIbou9nYXYE5+XndgeKN26Dz6RWp5h647ubA/1Cmz7Exh1BlAidTZftTSQc2Y7OuufVxXxQYns\n",
       "gG4jMoL/7YAzr13xE4hmcWTsgds3Eiq6K3TriBkZzc0V17dvOHT+vDi9bq8CWgL+YJXbXaGVnYES\n",
       "nyfFs7zhn6ERNF2z2iTVabYJWrIovq1rZy3+9v2sOk0OsKrT9gK9g7nvo4nQ9Fg/LlPq/+31VfDo\n",
       "AZVobh2eMKImabqj303SdmE3nacegZh892pfQk+CPcFlg8/qt5opWgZX8nMmaniy3V4Q1wB9CYzw\n",
       "up5fJVKQtLsZZhrObLPwnjhysHfptfjtJwaek74njiMsMg1LviawjXbm9vMp23/k1RhiuayAVRUi\n",
       "m5fjcd5kZV4FkkWhTWKdvE1tYrxUnZRDqE7bC6hkvo+nw9XkazVcpq3/eC89BFWhSXJ39LtJ3C7s\n",
       "pn7bIbi52Uu/L4An26F+kW0qMHqu5MmrmxKppE0bn33B+ThL5pXBfXXiHEFzIckppCALIdhKT82L\n",
       "7VMPKsKJ/BN71/IyfjtQmZkl2yOGtZ1EroGlFYntZH0EIs+hgW6N+dAIf+DlmgVcYpAnfXI8zhs1\n",
       "ns5CpiC0SayTt+kRqyi5OjmHUJ22FxEjuaNlA6ov9Qwp09Z/XPCTcE2ON0nujsNuErdbu6kBjzZ3\n",
       "L7izTeSwnG0qMEpnbc/+7j4PnvuBwCtJmOnRrl33Kmwz1dJfAH6PXhZcCWs2aJ5RCZoLEOUU8qRL\n",
       "EkIIq5hKp+z+JBXNO/R27lVnKaOZGCmxHZvCBrh4RVeuMKWM2uJ5Xvi1MoW0tSmvzk7F6jSjr0Mv\n",
       "UhC75y7DKlPbf3uTvHZTRbubol8M2eHB5e5sd4hsU4HRkIzsZxdcCn9N1BI1gVea8FjtCaCyzVRL\n",
       "M4jqML4ZHemdmvWaAtdcEGC5nEIKkhDCme2Ghrwt5nWPHM+6bEt5CEoTtcDVeYaE++Oz1Kg1rs/C\n",
       "mAxtEttUYCQjm7z8tv/BP8q9Ets04SLtCaCyzVRL/wb8ZG5oF12DUoKoucDBklPIZ6IohNCxfd2g\n",
       "AWM8TJpeNSccO1hSnKZktqnAaFH4JUQalqS8egV6JWPHL26W2KYJ79ecAOfPWD6jKLFN02Y2Quo9\n",
       "8nwOsW0DUNRcgCSnkFd1RCGEju3q2D8Gk8ZATQpkbeYGxzkJERjB/T8fMgBLUpbDG+we+PXE2lNE\n",
       "tmlCzGLqkmMel08AddymacPbnroUvXQVsVTRJo4QNRcgyimUmYsohDDXSWoS25lxwHZtL6Mu3Ox7\n",
       "zVRWy7Z0L0kERvA5vupjScpGNOugX9p4HUqPS2zjhCTb2qmVdE46AWxsk0ITdJ0ID9lokFbFD6Lm\n",
       "AkQ5hRwkIYRuDbDKnreXxzTbe4cxEDfigROaXtf3dGzLa4BEYBQ5hMw1omUU/ROIrJg16xrE9i3r\n",
       "JLZxwiReQrjtFWg3pBPAxjZOC600Gs+rQxttz29FzQWIcgo5SEIIFqRnN1VI4AlRW21Ms72XGAOZ\n",
       "Rjx7oKttOrblZzdEYJQsHBfBROaShdhwNpOn2IZPldjGCVsJZt+Gw+QTwMY2US2100n4/NPOzM4s\n",
       "28URguYCRDmFHCQhhLlcmJXYJgKIG8f2nGTvMAbiRjzJ5l9FsVrBxrb0zJ3dyJe/mYzdC31o5E4V\n",
       "SnAWW4daKrFNxuNp9OMFYekEMFS2SehG0ajU7nezy/HdoCJ+EDUXkpzCRQjBgqSVqtJB4qKxzfbe\n",
       "YQzEjXhCzb+KZjo0bEtaKTaGGq3PR3bAkZDORX5owBo0LobvyVoL9JzXoSTmcxg6D7efAGraxHw0\n",
       "JcIihNPf31KziyNEzYUkp3ARQpitKMlsL50zZ051bLO9dxgDmUY8cDTYbHZ0eMpePZLPjjZIVj1X\n",
       "a9iWNK7iIG+9/S2abmh5jT6JOAwX4OKK/QSwjdtWqT1/yOvEEVxzIcspnIUQ5tWjILPdPmvWdaUx\n",
       "vga4VxgDmUY82B1dsdnRBcWrR/LZ0QXZqmeRhm3puwlCONG5UInXisMJoGeblDpQN3TiCK65kOUU\n",
       "zkIIc3jokNmO5nbz6627YYtjBf9+PKMzBmqgUc7udcQz8N1kGvHgxyDMZgcizncZzKtn9S42yaA+\n",
       "O87OPcyqh4VfatiWvlOmYdaD14gHRQrbpNTrD1QvDbLmIgX6hjg0SfoucJV8OfBTH4cgzK6ElnTL\n",
       "py2OcBW18gbw4wliDEQbKSrHGmiUw4KsS2ug049pxAP7cJsdF2Md06snTFMwnx0X5x5q1WN+OkzD\n",
       "9n4ObPvkNQWB2G7K7fhWmW30t8TPbJC+CNItz4UL1cJGyBvAjyeIMRArVlCOjX51RXUGknVpDXT6\n",
       "MY14gOwjarPjZqxDvXoS5jIb9dlxcTehVj3mRcLO9gTwcJC8d/CuW4K/PeATG0G65dsWh198BdlX\n",
       "AD+eIMZAjDRLOdZIoxx+6RZ1aQ10+uGKOMI2tdlxZZt49bSxk5757LiwTa16nNlOjX/vHckzDe+6\n",
       "T339IAXFRpBu+bbF4Qs0guwrgB9PEGMgxralHGugUQ4Pki6tcU4/3IgH/4KBabPjwjbz6mlnPaQ+\n",
       "O25sE6seKvnQzkkmgmfa1JzMdusNWU93HBMbQbrl1xaHB1H2FcCPhxsDCeY4wgxbiqSNFJRjPoxy\n",
       "tMVqjHJ4EyVdWuOcfrgRD1zLbXZcjHVMr57jWBTx2bGce0ic5NxDrXqo5IP8dJPKdntp/LOd7pXZ\n",
       "jl8Gnu44JjaCdMuvLQ4PLG+0HwL58XBjIGqOo2QQHHOsiZOlHPNhlKMtVmOUw6dWtHQ2E2ic0w83\n",
       "4sHrc8xmx8VYx/TqeYlGUZ8dy7mHxEnOPdSqh0g+9GuAE8GjODUssw0Hg6c7jomNIN3ya4vDA8sb\n",
       "7yWH07cfDzcGIuY4agbBMYc3UlCO+TDK0RZrN8qx7i1J6cC5bJDTj2XEg78PwGx23Ix1mFfPNTQB\n",
       "89nhzj04mezcw6x6sOQDhTvsbFND7nH+myAHK2z/iw8bju44nO0al275tcWx2KZ58cPzIH48ljEQ\n",
       "McdRM1iOObyRgnLMj1GOtlhnoxxWOhvE89Bwpx8IWW1xMdYxicnRBNRnx825h1r1YMmH9pn7hPhN\n",
       "EFigsI2DhzuOiY0g3fJri8MDy5v+z4uB/HjSAi1DeRuElmMOb6SgHPNjlKMt1tkoh5aOqjzjzWJT\n",
       "nH6IkElk2778aS0lZ4aZOwn12XFx7qFWPVTyAYmyje3WCfFbTsJv8JlsW3YyOrsaCxtBuuXHFkdS\n",
       "brG8ob+t9efHY2Mbm+OoTRQcc6xGcuWYt1EOK0HdLhvlSBXS0v/7EuwT7m2Q0496gLjG1c1Yh4Wz\n",
       "izQB9dlxce6hVj1U8kHWHRW2D6tNBLZj+9vHbW4no7OrsbARpFt+bHFk7xma9+gXwZ8fj41tYo6j\n",
       "NFFwzDEbKRrxeBrlmCWo2yWjHLFCs/TpmSqWvjfE6Uc9QLLVgoOxjpJA8NlxcO6xrHqAaPUUtj+A\n",
       "icA2FhOobDOODL1dDQgP4Ezpli9bHEUngPMuaVvr049HYZua4yhNFBxzQHlKiFN6G+VUrGKdjXJs\n",
       "+wRVGe9Npxrl9KMOPs0WcCdzNrZbJsZvXvN+qGxjsZXWrkbExpRu+bLFUZRbOO9Zied9+vEobBNz\n",
       "HLWJgmOOwjYp2tMoh5Vg2y4Z5dj3CSo4UWx9oVFOP19IkNk2x7tgbB847TTf9QVJO4pwjcO4DQ52\n",
       "NSI2pnTLly2OMpLxvL78eBS2uTmOg2MO6NQdXkY5Ygnidskox2mfQKOcfr54tsN0jp+ZdjJi++Np\n",
       "C3yW0VXf5ru+IGlHM3CbU7xB3/4kdi+k3bDFsYJ/P550AH+S4I30Dh5GOc12+mlaOHYwLzhNraGt\n",
       "SNTriO3F9fX/B3VCZtPm38+EAAAAAElFTkSuQmCC\n",
       "\" style=\"display:inline;vertical-align:middle;\" /></a><br>(see <a class=\"ProveItLink\" href=\"../__pv_it/f0905520a591c69168d0cf260850d4510958925c0/dependencies.ipynb\">dependencies</a>)<br>"
      ],
      "text/plain": [
       "bundledEquiv: forall_{k, m in Naturals} [forall_{l, n in NaturalsPos} [forall_{P, Q_1,...,Q_k, R_1,...,R_m} ([forall_{x_1,...,x_l, y_1,...,y_n | Q_1(x_1,...,x_l) ,  ...  , Q_k(x_1,...,x_l) , R_1(x_1 ,  ...  , x_l , y_1 ,  ...  , y_n) ,  ...  , R_m(x_1 ,  ...  , x_l , y_1 ,  ...  , y_n)} P(x_1 ,  ...  , x_l , y_1 ,  ...  , y_n)] =  \\\\ [forall_{x_1,...,x_l | Q_1(x_1,...,x_l) ,  ...  , Q_k(x_1,...,x_l)} [forall_{y_1,...,y_n | R_1(x_1 ,  ...  , x_l , y_1 ,  ...  , y_n) ,  ...  , R_m(x_1 ,  ...  , x_l , y_1 ,  ...  , y_n)} P(x_1 ,  ...  , x_l , y_1 ,  ...  , y_n)]])]]"
      ]
     },
     "execution_count": 2,
     "metadata": {},
     "output_type": "execute_result"
    }
   ],
   "source": [
    "%proving bundledEquiv presuming []"
   ]
  },
  {
   "cell_type": "code",
   "execution_count": null,
   "metadata": {},
   "outputs": [],
   "source": []
  }
 ],
 "metadata": {
  "kernelspec": {
   "display_name": "Python 3",
   "language": "python",
   "name": "python3"
  }
 },
 "nbformat": 4,
 "nbformat_minor": 0
}
