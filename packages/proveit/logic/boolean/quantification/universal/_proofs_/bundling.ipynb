{
 "cells": [
  {
   "cell_type": "markdown",
   "metadata": {},
   "source": [
    "Proof of <a class=\"ProveItLink\" href=\"../../../../../_context_.ipynb\">proveit</a>.<a class=\"ProveItLink\" href=\"../../../../_context_.ipynb\">logic</a>.<a class=\"ProveItLink\" href=\"../../../_context_.ipynb\">boolean</a>.<a class=\"ProveItLink\" href=\"../../_context_.ipynb\">quantification</a>.<a class=\"ProveItLink\" href=\"../_context_.ipynb\">universal</a>.<a class=\"ProveItLink\" href=\"../_theorems_.ipynb#bundling\">bundling</a> theorem\n",
    "========"
   ]
  },
  {
   "cell_type": "code",
   "execution_count": 1,
   "metadata": {},
   "outputs": [],
   "source": [
    "import proveit\n",
    "context = proveit.Context('..') # the theorem's context is in the parent directory"
   ]
  },
  {
   "cell_type": "code",
   "execution_count": 2,
   "metadata": {},
   "outputs": [
    {
     "name": "stdout",
     "output_type": "stream",
     "text": [
      "Beginning proof of bundling\n",
      "Recorded 'presuming' information\n",
      "Presuming previous theorem (applied transitively).\n"
     ]
    },
    {
     "data": {
      "text/html": [
       "<strong id=\"bundling\">bundling:</strong> <a class=\"ProveItLink\" href=\"../__pv_it/b39b9371d76096a4a322fbbf4938f95fb4947a0c0/expr.ipynb\"><img src=\"data:image/png;base64,iVBORw0KGgoAAAANSUhEUgAABbYAAAAzBAMAAAC59EMeAAAAMFBMVEX///8QEBC6urrMzMxUVFRm\n",
       "ZmZERETc3NwyMjKqqqp2dnaIiIiYmJgiIiLu7u4AAAAU9Wx4AAAAAXRSTlMAQObYZgAAEzhJREFU\n",
       "eNrtnQlsHNUZx789vPeuHdxyFepFpAGJ0ixNW0JQ8UIiqGipzaWWAI0FUoACzSKiJuXyckMbkqUF\n",
       "gZqibBG0HC1ZjgItqbzlaFFoG6OGK6rDpgREBakdJ8S5t++Y43tv3uybtb1gb/Ik2zsz757fvHnz\n",
       "5r9/A0z6cOVAbqJXMTTwFuwP4x+OHSiCf2Dd2DLpqO5sSNwxhFja+NA/8c9Bcj+GjQnhLPm10NjY\n",
       "WOFgVKttACurmz3mcciMkzyXV0/cMYS5sJ/t/Wxjtv1L2Z/UjBMI2+/NuNtjHu11lNf+qbQqlrXZ\n",
       "Tk0Ctiv7GHX+UoMLSKRltuFV42+gjf4+btKy/QDYbLNhMVGa0Gyzu8trzU70M9U5c9ayx5+vNbys\n",
       "sx1sB7ubgu1wO2I7ViB/IpUJzfaj9O/Sph+ut5MH54M+naZGHGzDIU3BdqSI2A73kD8/nthzElo9\n",
       "Vs+mDoGdAFG6lBBv/F00UXSwfXelGdheUUFss0HivInNNr2ttBSane34MGHuE/LB1/i7aKrNwXak\n",
       "uxnYPhQw26sXLVrUP7HZTvx20aLrm35KEhois94d5MPR5Of9u24+em1tPL//9lfvytrrAzeWIVnz\n",
       "PD5yGMCAuXGZg23/SBOwndgrsN06f/6VxYnNNmybP39d07PdmgcYpDOvuQTcd6BjfV/Nucmmgm/P\n",
       "R7uszYd9I7BiqEb8WHdHLlq1ojvYhlubgO1kVmA7mIHQqF5OhjO1j0drHbxak3lBYHs2wCWjfG7O\n",
       "jLW7NHOhq8eav9VNnUUIvEE/LCEnpQzVUrUMAfenjO9A667W3bBxrzHJ6B2BeT3wDdf4G8LVXMs2\n",
       "c+t+J9trKpOf7elpgW1/Fj70kMpv3AmfH/icgcs1umcj+W6A0oZ1d4pZAttTIZUHz5Vs6dg8xWsl\n",
       "9WGWtI1z99AQ/SOkmUPf6Y/NZYPMAWSQBULiaxA4x32WUYTekUQJ/DxGoLQyD++Wvn6Ga/wTY9sh\n",
       "aY3zRzjZbi1NfrbPBIFt8rPKy2zQeJq+BD4Y5h+1CxcPStsobUiX1lIFMLaTEC+D90quyULniMdK\n",
       "gveagCN3Dw3RB7ObFpiPkKyPEuy1d7TWDHpNG5tqGFsdpVQ1g15dOIJvFwxusW4STraD/ZOf7c9L\n",
       "bK+C9Z6xiZKbWngP/6hdqZJuBygtLNc+yOcx2/FyslIH211l8O32WEnwXhOQc/fSEH0wu2kPYLaD\n",
       "W7Vsd1E4I8ZFH6jm/FWoxTa5IKcP1WA7OjLp2Q7skNj+MJD1jM0gnd1VGWf6SXpQnOuitB5mz7Mx\n",
       "26m8t1d1BtvvZswRKjQOMsfZ0radO4z6MUDRTYFPzB2HEM6KZJSN52qx/UsyUsNz0Gq0kIzzZNJR\n",
       "i20yzK/MJ84/5iGXOUlq16RnO75XYju0kNx1N1459w7HY1fq1DceuVnAZiXtjyrrTp943A5WVtI7\n",
       "CJQW2rQlvoDZhktOIZPpM4qpwxwzbGEnr2SqCqkFfDjzuZSD9iqzhanrYIMxIr4gVdHOnTVE3Qlo\n",
       "L8pKWW+jm+LD5rEryDgw3DsMV/Fxmyl+KuYvcytVPaqaDrdRCtmuxHaI7ORsW9FSQqI1eVhW/Hh6\n",
       "OUnb/aqTbXgTs13xymulDrYrDWY71CaxHb2Q/PqXf2tvFoJi4cnM9NO2wsyyjU1Hgd79AL4LMNM8\n",
       "TjdwYFkFlrCnVByMtEFyjw/ktSVOFdi+l1R0U2QosVtOwHdKE6fN89+9HVjMmS7l2JVUZ5vqXwZr\n",
       "DCCnSlMrnrtxE8y7dILdECMr6Tiqt9FNob1ofa635+Th8E2c7UHKN52wsF/mVnhbsCO9OA3P8l0Q\n",
       "3gx9w4xtK5qdkm31tsWr6Rue5yO9Yg0QujDb3jQ87XWIfdobLwzy9UhswxdIO0vxHdcXAr8Wb+HX\n",
       "Qt9970AoY2NDh93YVph1EDvl/Pisg8RVN5YVXMwJRsFIG+1mp1NX4kyBbR8Z237S2xMckROwnRLb\n",
       "sZ0QGQYWc6pLOXYl1dmG79sGXcaumdKzJcsdLC6VnYAawrOSj6N68256f8FW8zZ3LBnEB544+Y40\n",
       "Z3sDiZc6EIxfG8jpS3WQqv153caDCf2X8wiE6sMX7OVs06M0Go/LEtEY0dffJDPCb9PpCMBNCrb7\n",
       "cohtbxqe9jrEPu2NFwYNFmW2/2kNG0l5ekqf3X0IGzpd9pHJ5lsA91jP9vL3YlhWbU62eVr68jya\n",
       "1ZYosp2g5fQVfG2OBGynyDZBL7iLZ32PazlmJV2yje+AKaBk28jdGMSzbp1gdx3PSj5u1zsgP6z6\n",
       "7Lqw+fZRzrVOO0Z7hkfwZ+jyNpuT+J0PGTTGkUCXt9vhXL/ynTvAigJi25uGp70OsU9744VB08sy\n",
       "2zT81NcfLstnOFI8HK4zhFQcm2UnnZqeV2Jnapp5XD5tLCvaAr/YCiNt8j/PsCOaEqcJbBu0DGYd\n",
       "ENKdifNWZVElW/eyhQwac5pLOXYlXbIN7U1thVeWv4xrAih3UuQprxRoQ9SdgLqOZeVg2663Xz7Z\n",
       "iaLItnP5M2FPnoZKPMKKoTC9MT4gHLUCiRGtQu8IhIeg/Uhy8ykp2O4sIba9aXja6xD7tDdeGLSm\n",
       "oGA7sHN6T6hAz/DiXHgpLK7QX7nOB7fBZbAaYdP5Rnrtbj5KbSJb7DjdsFKFb+dZ0fOTKIZvN7Kq\n",
       "kE9GWt/fPiZzUFSiHQmXuNrJdhfQS0OsItsZfZaPwGYl+6F1R6RCcd2kLAdV0shBPg7BoZZdsLzH\n",
       "x2oiFMhz/++zcIC/mzZE0Qmo68ys5OOo3omifIqsu3b4kU9KtdmG0ws8Ql/x+gMArll2vhvb8Z3h\n",
       "19P0Qppb5uuODrYHuxHb3jQ87XWIfdobLwzqy6jG7VOvePNONtR1lgMj0Jmjv8rB+f+4tACnIGzC\n",
       "J7+9vVJgZypZAX6cblipArt5VkEyWWxJky2eVY58MtIe/QzJZz0q0Y6ESzzLyfbitzsychX5ztnh\n",
       "vF3JSMeeSvT1JWwoJpVUlIMqaeYgHw/fdeMWCGYWs5rgAs3cZ6f6qfR9vaoTUNeZWcnHUb1b5JdD\n",
       "AnAESuc5LDkjtAysqyiPWjEuHHjC2nGaiu3WHrwG6EnDQ9f1vIp96ok7yjAvp2Lb4CiHRwnj03q0\n",
       "TkJHzz9k2ZmKW+P/W/i+aQwayY+ZAD4hDjU07aoIOfRHXGJCVWLewXbqe3TeKlWR7+yPv1gRKmlm\n",
       "bVVSLAdVsmxni4+/n6OTcFj1FVYTR5+QIqPdyQRqiNAJqCFGVvJxVO+I4xSFGy3gjmdUbPvymG2u\n",
       "4XmyqOW1ltinqIwbXXDuOTQJEmEI4aO7XrdfKogaBzucWZ0yRX710FVxZTvw5KMQsNA3P52fE7Dp\n",
       "I9O6Ew8tQMqcJtINO9XxRo2eY+/sjgdhP017WuwpgA9QiXYkVKL9QtFiO767ZdhRRbYz1ZP4Hchs\n",
       "s6zNSorloEoaOTiO95XnpUktV5dpTZx9QjKOFUJP2w0ROwE1xMhKPo7qvRw+m+Bgm0lkLba5hifp\n",
       "uKkEbj0LnvwB4pVFTHUp1667JbYNYdBfAH4PgghDWGU9MJdaYJcraBzQvGwrfRcrsY03Bhz+JAnV\n",
       "pA5jc5Xx5SP4lTIVmhxmHSOZlTZaFieDjhKDdo+b/iTh227JOapo7XSw7aykYvQVcsDHF196ml0T\n",
       "tz6RGqKMhrJyqXf2s0H72IEs+AewRjzZhtnmGp5BEdmPzr0A/hqrxCqIVx7xWOUFILNtCIPmMNUh\n",
       "FmHgsIIMSL32qCtoHBAhZF9HuQbb3kPQeeFo5KOxWm+hXtIU98SnVEl90NTkpbHmH6vABAkRgW2u\n",
       "4RGRjV90w//g76VugW0e8WHlBSCzbQiD/g3wLVGEgd+b0V2t9ttzQeOArsQtQMVhdbE9Caym9ocx\n",
       "B5WjlMg21/A87H+WkPbKU3/KvnAx+cuu5l9cK7DNIy5RXADnzFk7pyCwzeOmtkDiLVGEgS92qhJr\n",
       "HbFRxxoHtKozBB/Iw7mO7f79J36fCAudI6HANtPwwJKfD+Yg9eJuWAsvGw/4L8U+noXZ5hEpi1yI\n",
       "hS8Aedzmcf07H7sABAEHDj4q5uscoiM7m/XZCgpx5nLgldvl62JeRcd2Zf+J/0zDMY0u4EUXtoVn\n",
       "SabhgU/YispHedhCZh38axQvQfEhgW0akSXjQix8ATjYZpnG+CIYEnDgwIZsMqbfawzjtoJCCCuL\n",
       "sCxdaw1Qyfa+YXUz0YJlveNJcjym0JJRsi2uATINT+AwNtcIlsjuOyHw5vz5lxO2r9sksE0jxumC\n",
       "FBNiCReAg20aF0J8NxJwCGzTqXZHxjRfQAoKIRCwu+S10r6Mju19xOpmogXTeudTMELKK9kW390w\n",
       "DU+857gAJTIT7wkPpVNZjq3/RIFtGjHEMKNCLOECcLDNhEGtfBKOBBzCtH/Lxovom9z1x2QN1E0F\n",
       "hRDIldFRprKIL9sOJGvSqtamENv7htXNRAuW9c4LjS9rtZJt4Z07D6HSN+Ph26GXjNyJniJ7nUlX\n",
       "hlYLbLPxeAbfPNcvXAA5mW0WOsluW4QhyxECe85KdpGHx8NuKNsah4osigjsIXgXli7v8aW/ZGU8\n",
       "vaxc/6nYbO8bVjcTLVjWO19sfFkblGwLWikDi1zoqcBumAbJTOCHOfiAjIv+29L2WqvF62Cc8smE\n",
       "WI4LQI4bW3Y2gC3CcMgRFh6+bGkU/D/LAtI4yKKIG6vr4YGDy8HMJj7P4LUoKteEsjbb+4bVzUQL\n",
       "pvWOn04Y6rbeEYx1lAHHCBVUbAsaVxTQm6jfkOmGktfgo4RDLsRyXACOcdvO1RRwSO/VgrvOgXh5\n",
       "aRntV4om6Muge6HfiuRTzzYeR2uA+4TVzUQLpvVOS3EU1juisY4qCDHol+OdbAvfTUDhePdcBV7L\n",
       "LheAmm1LhKGQK8SrIxDMPZ6296tFE1Tz8Chcbj1BCt8po+HCARre7bbZnj0u33FVBp0XTs2pkMbn\n",
       "Jlp3Cn2Ijq05+mA12LTeoV9cr9t6xzDWqRFfsN6J5lVsC98pUzCr4TWgWYCT2Ga5miIMaUQOTyk4\n",
       "bhmgFk2I87q96v33py22vVrdaINh2IN0XTovHNnpBqfV+dwYLjZIODaOzjhmEOVn42jtY1rv+NKj\n",
       "sN7hxjq14gvWO/42FdsHurDtkdcE1MV2Q57Hd7hM4G5Mm2x7tbrRzyH5KIF0XbrlF9npBqfV+twY\n",
       "Lja2cGwcnXGsMyjIz8a+mmQ12LTeaWU76rXe4cY6teJj653AkILtJvBwELx3UJj5hDVue7W68cg2\n",
       "0nVpvXDkGwbWhGnFoIaLjS0cG0dnHOuhCcvPxtPaxxTEcbbrtd7hxjq14mPrHSXbicnvvSN4ptnz\n",
       "7YEf2fNtr1Y33tjGui69F44oNxc0YdpnAMPFxhaOjZ8zjhUE+dk4WvtY1ju+wmisd5ixTk22sfWO\n",
       "ck7SDJ5p05XPP/egdRKmaNEY6+g9ZUy2sa5L74UjvrkQNGFanxvuYoOEYx6ccXSOPvI/MRDkZ77R\n",
       "dpPT2sey3gmVXax3hA+y9Q4z1rHjOxMJ1jsJ1bNka3Hys53sVj3w5zHbVNGiMdbRe8qYbJu6Lm9e\n",
       "OKLTDdaE6X1u/Fl2I7eEYx6ccbSOPjxPNEnC8rOZo+wmhbWPZb1DZ9BK6x3hg2y9w4x1rPiKRIL1\n",
       "jnINsBk8ihMqB3L77kq7hipaNMY6ek8Zk21D1+XRC0d0A8GaML/W54Y7fdjCMX0KvaOP7B4iyM+m\n",
       "jrKbnNY+tvUOXflQWu+ITjqS9Q431jHjo7g9hhmPYL0TSSvYvgUmP9vUR8q5egKYbaZoqW2so/eU\n",
       "sdg2dF3evHAktpEmTO9zwzm0hWNenHF0jj4y24L87J7RdpO7tQ8AugxcrHfQHtN6hxvr1LLqwdY7\n",
       "qnfuTfE/QaD2P301H0c0xjp6TxmTbVPX5c0LR3S6wZowvc8Nd7GxhWNenHF0jj6yM44gP5s22m5y\n",
       "t/ZBziyu1jv2HtN6hxvr1LLqEax3HlewHWqK/+WE/gdfDbZrG+t48JQx2TZ1XZ68cLhdjeXFgzVh\n",
       "Wp8b4F46tnBMnwJZ77g746D2S/Iz7D+kbI6ym2RrH/n0WHN/N+sdtMew3uHGOrWserD1Dlt3lNk+\n",
       "otIMbIcP8sJ2bWMdD54y1vo213V588KBswQvHqwJ0/rcUBcbQTimT4Gsd9ydcXD7RfkZ9h9SNkfZ\n",
       "TbK1j3x6xKdXp/VOXLFpG+u4WfUg651gTsH2O9AMbNN/5KNn2whuxjp6Txmw3wtSXZdHL5y8bAhh\n",
       "a8K0PjcRkIRj2hTYekfdigioTCYM+ZngP6RsjrKbZGsfkJ90GxyeBifbLc3xP6+tdnhg29VYR+8p\n",
       "g9imui5vXjj0TZ/oxWNpwvQ+N8tBEo5pUyDrHXdnHEf7LfmZ4D+kao66myRrn88mLFSPd/WxfciM\n",
       "kzwXWE/cMYTLvY/b4GKso/eUQWxbui6tF07QMUzaabU+N1lZsKNNkdA6+mRd2u+tOepukqx9JgLb\n",
       "fv4dwtSMEwjb782422MmHdWdngusJ+5YBu60+7GBcfQnqd8Lp6bTjcbnRuFi02hnnIZb+zQqiI5S\n",
       "5EbE2xmrVgnbK6ub/w+qJ31mPdea3gAAAABJRU5ErkJggg==\n",
       "\" style=\"display:inline;vertical-align:middle;\" /></a><br>(see <a class=\"ProveItLink\" href=\"../__pv_it/b39b9371d76096a4a322fbbf4938f95fb4947a0c0/dependencies.ipynb\">dependencies</a>)<br>"
      ],
      "text/plain": [
       "bundling: forall_{k, m in Naturals} [forall_{l, n in NaturalsPos} [forall_{P, Q_1,...,Q_k, R_1,...,R_m} ([forall_{x_1,...,x_l | Q_1(x_1,...,x_l) ,  ...  , Q_k(x_1,...,x_l)} [forall_{y_1,...,y_n | R_1(x_1 ,  ...  , x_l , y_1 ,  ...  , y_n) ,  ...  , R_m(x_1 ,  ...  , x_l , y_1 ,  ...  , y_n)} P(x_1 ,  ...  , x_l , y_1 ,  ...  , y_n)]] \\\\  => [forall_{x_1,...,x_l, y_1,...,y_n | Q_1(x_1,...,x_l) ,  ...  , Q_k(x_1,...,x_l) , R_1(x_1 ,  ...  , x_l , y_1 ,  ...  , y_n) ,  ...  , R_m(x_1 ,  ...  , x_l , y_1 ,  ...  , y_n)} P(x_1 ,  ...  , x_l , y_1 ,  ...  , y_n)])]]"
      ]
     },
     "execution_count": 2,
     "metadata": {},
     "output_type": "execute_result"
    }
   ],
   "source": [
    "%proving bundling presuming []"
   ]
  },
  {
   "cell_type": "code",
   "execution_count": null,
   "metadata": {},
   "outputs": [],
   "source": []
  }
 ],
 "metadata": {
  "kernelspec": {
   "display_name": "Python 3",
   "language": "python",
   "name": "python3"
  }
 },
 "nbformat": 4,
 "nbformat_minor": 0
}
