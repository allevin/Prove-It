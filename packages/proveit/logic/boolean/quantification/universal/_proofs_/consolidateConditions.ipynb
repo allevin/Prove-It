{
 "cells": [
  {
   "cell_type": "markdown",
   "metadata": {},
   "source": [
    "Proof of <a class=\"ProveItLink\" href=\"../../../../../_context_.ipynb\">proveit</a>.<a class=\"ProveItLink\" href=\"../../../../_context_.ipynb\">logic</a>.<a class=\"ProveItLink\" href=\"../../../_context_.ipynb\">boolean</a>.<a class=\"ProveItLink\" href=\"../../_context_.ipynb\">quantification</a>.<a class=\"ProveItLink\" href=\"../_context_.ipynb\">universal</a>.<a class=\"ProveItLink\" href=\"../_theorems_.ipynb#consolidateConditions\">consolidateConditions</a> theorem\n",
    "========"
   ]
  },
  {
   "cell_type": "code",
   "execution_count": 1,
   "metadata": {},
   "outputs": [],
   "source": [
    "import proveit\n",
    "context = proveit.Context('..') # the theorem's context is in the parent directory"
   ]
  },
  {
   "cell_type": "code",
   "execution_count": 2,
   "metadata": {},
   "outputs": [
    {
     "name": "stdout",
     "output_type": "stream",
     "text": [
      "Beginning proof of consolidateConditions\n",
      "Recorded 'presuming' information\n"
     ]
    },
    {
     "data": {
      "text/html": [
       "<strong id=\"consolidateConditions\">consolidateConditions:</strong> <a class=\"ProveItLink\" href=\"../__pv_it/b39f16f7d28bf426b4fb49d63979f0e65ea176ef0/expr.ipynb\"><img src=\"data:image/png;base64,iVBORw0KGgoAAAANSUhEUgAAAt4AAAAzBAMAAABS/xIZAAAAMFBMVEX///8QEBC6urrMzMxUVFRm\n",
       "ZmZERETc3NwyMjKqqqp2dnaIiIiYmJgiIiLu7u4AAAAU9Wx4AAAAAXRSTlMAQObYZgAAC5JJREFU\n",
       "eNrlnH2MFGcdx3+7sy+3r3cWbYu2vU0kQNIYrraGs4beIUi1aeGCkChq3GI8NC1liESItXK2MdTK\n",
       "y9a0aaImPUkbaxuPbaVUA3qj/cMEanuNUFriXRY9G5KCB3ccVzi49XmbZ55nnpmdZ/fOyZU+Cbsz\n",
       "c8/v2dnPPs/veZ7vfheAcEti8DhcvSU6eGKGWmqtXppW/F72nIOru2zxuphfSZ/3Vc/ptjP31jum\n",
       "cxvx3g8zb1hYIU//vvVx3XbmTO82ngHOO//ByQ7luqr/1Z93tocd3BIO79SAw5v08Gx51lLeX12+\n",
       "/KiJj26rcwy3+fKGL4TLe3ObwztdQk9Nldnbrd9Hs/p1+GB3nYE9/rwjpVB5PwYO72QRPX1/9uI2\n",
       "0MIghRcHmXrH4GEXb6FPpW4Kk3dqSuBNus1XZy/vzChKd+O4T9Y7Bk+6eIvj4ydh8o70irwPb926\n",
       "dWD28k6cBYhdxIsK9O8/ux5ZeLRm9fxX3v70rk4aWZJ5zxOOF5kh8n6jIvJu7u7e2Dt7eTejNDyC\n",
       "c946BPMdaB3qr5lXzpQiV96bJIfpLpl3Wghs6gqRt9BDEO9YGyTMhtr5XsDfSzX+lmwLyHn2QUcv\n",
       "GMfwwU50qxZUy1ULjKJv3N3QPNl8GYZRykz12Lzjg6SMCyvCqfB4R0cl3tFOOKUTVqBP7+16cxlD\n",
       "FjQqbndfcGLhB0HTpN14/13PryPd4RrUQyFZNY+AscY///XC9gm0uo2iGtEW1/ok9bBzPBke73iL\n",
       "xBsG4JBOGO1TqWvN/CaKPhEUkS64+qwTC0VdxWGTnfxIL8mek/cPXtmyheUS46x7PXjqGn54T3i8\n",
       "I10y70MwpM/7afS0nb7dXwZF5HvkcyE2Fbi4s8fcFRB5x84H8l6FZ8smy4O38ZgzcT1thsa7oyTz\n",
       "PmV0avPOV9EtN9PktyEwZJmMX4gNnjFiNMEbPOnORZx7I5OQMWvx/gW0luEVaDbFfMLy91vCinKk\n",
       "HBrv/orMO7EFjfHhjeseVaaw/Ipjzz0i8U7j/tU8QS60BEYdlNOLEBtxNc4Lb5FtbzJ8srkfQRrd\n",
       "Pgqbaf/O21sYcmCf5asLqoVkCwGZ7ZH7d0rsVrki5V3R5t3wFvxekHmnvoEe/hE9v70TYnKjubZF\n",
       "d56HdsvhHcEr4Y6zuKLRExg1T85jLPaL6KndrgYr5ZsjLRo7yTROBgLfmz2LklFx6WjyYcp7BDPH\n",
       "yQYf8LPkhVhrYVsBDnisB7dJw+cs5U1GyhEd3po11XKtizd8At1nOXPxoZLxa3mYPwj9T70DiTaH\n",
       "N+me+zpxRQQkKKpdXknTWHiS7j1otduvk5eJpEX4FpCPE21wNp23M/2nUGcf7Fv6aIHyPolay+O3\n",
       "crLIHvKt6D7+dGL4evSJ3IdzeEHmLeW/zATl/Vs9ZQbx1qypzmKX3Lxf5x0p506reHUQEfIJSb+t\n",
       "bbgiGZ61o1y8WSwWD57gSw/390ukxRabtzg8TFnfXKAudJ0ac9rU/byU+FIXKW+sHCWLOrw1a6p3\n",
       "ddnNm0hYkYGk5SbX1Hsj/NAWs8hLNY0Nr49PEsTRYmDUfPk6ix26uRP/hVZz8yYt4rcVdb+1bK/M\n",
       "21LeWdbpU2fRqHjBXx9EH+ck5Y2V0XhJh7dmTfWuLnrwNi4tKiZKmFxyB2yrJHejh21mx94L8F2i\n",
       "s9m8jSurc6sswjs/IERtM0kIfhCiDkvX7dgbfmTBGZTJSTXE23nF5A7aIkabVXZTfCwnnxsv1+YN\n",
       "d5XoatSXd36c8s7+ZuvWh7TmS82aquA25tW/V9z/1k8JRuMydJjGBHrosGLdf/9OCT4vrr+33Lhn\n",
       "d4qmkCEhqsMiIfhBiFotXWex0Z+hRJSrAK2GeDuviI5IizGUeeMF943L7DLqO5PX9DGzFm+4wNaD\n",
       "F7q7T2jx1qypbi8nvHizU1PsJawHDVnSjjA2uYZW/KMYZXlF9biv49iMtduCDB+Yx8VXZEe502j4\n",
       "qpJLfQL476Em7+sZ72X+G4m0zJvWTG1au2aDS5yQBs4fBj8qzRSxKV/exotoEl7Mz1ha/pop8c5U\n",
       "J2jFd4Uow/SIQptI13UcGzNfKEDebu1zHy85r2gfxV/R2L1qFX/eg4z3PJJ4XiTZa3hK7pkyb1oT\n",
       "/gLwO5c4IZbHN8C7o+rK0+at+k8sj3Qo8k5+hPXNlOWVOoWomHKdx8KvvF5RzMmdM0A7Ougvlr/J\n",
       "eOfQgEOPhFyU7Vvb1xYyH6u4edOasJwK2oI4Ia17UJ5KXvHlXUdRAbwaENFXa9YO0GPTFfj/lh8z\n",
       "3hkLzSUwUrEV8/zLa61ssQ/fvIs3rQn/BLxjE8UJsYzgS9VKLd4bB0242ovqtLJ553tuo5sppnId\n",
       "WPDfSvZIHPriy+9Z/iWRN62ZH4PscVmcEMs+3C2rZi3eA/BhKFt88glswCupZ6MHcH81IYvF0+xn\n",
       "F5fV/k1rRi89/3VZ2JBKK0qYRhVizm4tPqXwrnzA2N1cX3VP5489X8KTuL/t/PmISU6baLLre9WD\n",
       "N6mZ7gGXsCEV3LVR3091ea8HKe+GpZhQC3f+6OnHwjrDy/ljrwchgpeZ42Q6OcC+k8q2pdMrVd6k\n",
       "ZqILXMKGzBtLGWPiRlTa71DejUoxIRfb+VO3O8lrp2nvdyCLWjNu2IlP7wNY0t3dXc62JV8fUnnj\n",
       "mtBcApewIZU9d6wofLMMuX/t5yuDUYV3o1JMuIU7fw7WG3lY5W3v51kfLN5iUJVrmC2ePvlnhMTF\n",
       "m5QODNgRJyQFBB11HCscvYy6+N9Oe+pVlHejUky4hTt/bqo38qTK29armChZXpJJ7sAqF1EBEO9s\n",
       "n7Kfp+vUPV/G0C1B2JD0iOTSt9+vlGDhfm89lvJuVIoJt9jOnyhOD9Ny/gh6LJMuzcRLCBZWudaj\n",
       "04Xr3duNOR6bQi5suDZ1q17uhENNvH9L3zew9WCDUky4xXb+xHun6/wB5/sGRV5Mo/ztrVeJo8MU\n",
       "hQ2XHtGP1ih3pl/iF+9VeS/T+fbXq2jbdhpvguc52/mDdyWNOn9cuxCJ9+IAfdD90XBxwqVHbJ4r\n",
       "V+6vKLznKd4F712aIoFp23b8RbSgJrhryHb+RArTdv6gRooKb0ufd12lo6TwZlJMYAZVJLDARc1e\n",
       "z6uiiBbUBHcN2c6fZnJhes6fMP0Qot+H8WZSjB5vQQLTs+2kJXwuES2wCT7ybNWN8p6W8wd9FuH5\n",
       "fUQ/G+NNpRhN3oIEpmfbWSKOHXwiimjBTTBVnzt/8I8TGnX+8BKiny06pupVWIoJMOBw3oIEpmfb\n",
       "eUCcG/CJKKJFfFxDztWDzvKb3oVVy/ljH9Ry/qByKTzecEzljaWYAAMO580kMFxRy7Zj9L4mTqCv\n",
       "ySJau49ryGmCuYa48wdnZF/nDz+o5fwJ148Mb6i8sRQTYMDhvJkEhitq2XYSFeG7SHIiimjzfFxD\n",
       "ThPUxeI4f/CKw9f5Qw/w4rqG8wdd6QyRd6Ss8CZSTG0DjsObSmC4opZt5zOQdVZE5EQU0Z4AP9eQ\n",
       "3US7+/6Fz9bH+SNc8XL+hPx7klSLwpt85rUNOJw3k8BwRS3bzkpxzUdORBFtvo9ryGlivpf8JPJW\n",
       "l7LOFR/nz7chRN7C7wFF3tyA47h0RAMO580kMFxRx7ZjdGHrBPsTPRFFtDOeXiOxicPu23f0WD/n\n",
       "j3DF0/kTDfX3gLDZ9OLNDTiOS0c04HDeTALDFXVsO3geTNh/oieiiIaa8PAaiU2sVhQAWUtSnT+u\n",
       "K6rzJxfu711TPV68WTkOqicid1rcX1IJDFfUse1gFZkryfyEi2i8CQ+ljTahKg0P1vd2VefPWgiV\n",
       "N389D97YgOO4dAQDjsgbS2C4YuO2HS6i2U14KW2kidTM/LZ/i1d/0+Y9zf+PI1H279/gYWmT9RNB\n",
       "AmvYtuOIaEFNxGDGedf//3FM9/+bEXPioLb/RH3rM2DbCWqibyZoS06r/AP0eV/13P8AuJm3Kk4G\n",
       "Fg4AAAAASUVORK5CYII=\n",
       "\" style=\"display:inline;vertical-align:middle;\" /></a><br>(see <a class=\"ProveItLink\" href=\"../__pv_it/b39f16f7d28bf426b4fb49d63979f0e65ea176ef0/dependencies.ipynb\">dependencies</a>)<br>"
      ],
      "text/plain": [
       "consolidateConditions: forall_{k, l in NaturalsPos} [forall_{P, Q_1,...,Q_k} ([forall_{x_1,...,x_l | Q_1(x_1,...,x_l) ,  ...  , Q_k(x_1,...,x_l)} P(x_1,...,x_l)] =>  \\\\ [forall_{x_1,...,x_l | Q_1(x_1,...,x_l) and  ...  and Q_k(x_1,...,x_l)} P(x_1,...,x_l)])]"
      ]
     },
     "execution_count": 2,
     "metadata": {},
     "output_type": "execute_result"
    }
   ],
   "source": [
    "%proving consolidateConditions presuming []"
   ]
  },
  {
   "cell_type": "code",
   "execution_count": null,
   "metadata": {},
   "outputs": [],
   "source": []
  }
 ],
 "metadata": {
  "kernelspec": {
   "display_name": "Python 3",
   "language": "python",
   "name": "python3"
  }
 },
 "nbformat": 4,
 "nbformat_minor": 0
}
