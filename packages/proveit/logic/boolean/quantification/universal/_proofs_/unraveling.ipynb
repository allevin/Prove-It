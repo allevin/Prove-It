{
 "cells": [
  {
   "cell_type": "markdown",
   "metadata": {},
   "source": [
    "Proof of <a class=\"ProveItLink\" href=\"../../../../../_context_.ipynb\">proveit</a>.<a class=\"ProveItLink\" href=\"../../../../_context_.ipynb\">logic</a>.<a class=\"ProveItLink\" href=\"../../../_context_.ipynb\">boolean</a>.<a class=\"ProveItLink\" href=\"../../_context_.ipynb\">quantification</a>.<a class=\"ProveItLink\" href=\"../_context_.ipynb\">universal</a>.<a class=\"ProveItLink\" href=\"../_theorems_.ipynb#unraveling\">unraveling</a> theorem\n",
    "========"
   ]
  },
  {
   "cell_type": "code",
   "execution_count": 1,
   "metadata": {},
   "outputs": [],
   "source": [
    "import proveit\n",
    "context = proveit.Context('..') # the theorem's context is in the parent directory"
   ]
  },
  {
   "cell_type": "code",
   "execution_count": 2,
   "metadata": {},
   "outputs": [
    {
     "name": "stdout",
     "output_type": "stream",
     "text": [
      "Beginning proof of unraveling\n",
      "Recorded 'presuming' information\n",
      "Presuming previous theorems (applied transitively).\n"
     ]
    },
    {
     "data": {
      "text/html": [
       "<strong id=\"unraveling\">unraveling:</strong> <a class=\"ProveItLink\" href=\"../__pv_it/d73562bca483adfc8e66cdb2432c2ac6c87514940/expr.ipynb\"><img src=\"data:image/png;base64,iVBORw0KGgoAAAANSUhEUgAABbYAAAAzBAMAAAC59EMeAAAAMFBMVEX///8QEBC6urrMzMxUVFRm\n",
       "ZmZERETc3NwyMjKqqqp2dnaIiIiYmJgiIiLu7u4AAAAU9Wx4AAAAAXRSTlMAQObYZgAAE25JREFU\n",
       "eNrtXQuQXFWZ/vsx/e47E0bBKDhNySJVbExj3BWhZBqSIlsiOyPC7hJk02pV0EVMW6ZMFGEGfOAj\n",
       "JB1XSsqYSksZBXRJgyy6a6zpBdm14u6mKcMr5YTOGlJskTiTB5m82/O6957X7XNvpjvMTOZUTfe9\n",
       "5/7nP4/73XP/e+7X3wDMjBQbfRFm04xP4dEdbffZ1zzWEdtJpFSO38vOnvezI63wPrS7QYHRbPYA\n",
       "bG7u9+lx7oKrfNcexHYSaQnMYnsW28KkvoZ8WQs+gLD9xwXrfHrsDVB77xnpY6ogY7sxe+Lf1HRp\n",
       "pyt42oBt+C37jvTgz8umLbY3gIztOv7+3SzGzmhKDxxadP1iAqhCp+vqyhuwHR2cEdiO9yrYfgR/\n",
       "r5mF25lN3cMAHy+hjUTn75vDBmzD3BmB7URFwfYXMOSLs2g7s6kfnYiN+GT8qvN1bRWxbSkG6xoz\n",
       "AdsbGwq28cTRVZ5F25lNIzmAbTgWeGfn69olYlu9UyQGZwK23w4KtjM/WbnyrlmwneG0HP0NoBkl\n",
       "jAIG6x9eeu/9rcPuV+//yiXb3QWBe2qQrbdcMuAtYmUB22GlqvDEDMB25pSKbTi8bNmOWbCd4XQE\n",
       "QfowftBDccm+cujk68dbWVsvQ9/Okaq9uyk0ARvHWxUQLFKDYrz9U8X8azMA29mCBtsLAW7rUH2f\n",
       "NxxvFQrF863LJgOXMKek4Ul80hXYHY4cA/ggjgQSNYAPQ/fx7hMAf+29klGDZrVZswZIOGH1DE3A\n",
       "0mILe9uC9WrYxvatozi9Mijbb2tMf2zPz2mwfRFYw23xzpy/fv9zCxkWKoYSV8gZbln4kqFshDr/\n",
       "SHPOnIX+SphTRG4w570tFdgdTh96dNNP8EYIDVoFhiYyVfir671DDIg3S78DmEdbWd08DK9UW9gz\n",
       "Czvk6JHWSR6UYdBdnf7Y/ghosJ2FdK0t3uk8kTy3ZC2ngxczlUhJg8yVBePSzUM0zDoEkWbJXwlz\n",
       "ekgO4lzvbanA7nDMDg67ScY2gqoNraJJ8ip8E9vrq1rNfEt7asGQPi5h27pHGvdoffpj+606bKdr\n",
       "2UYbsb0RfQ3Rx5j1phLyDYMrm6yaCr9GTwu6mffV/JUwp9fkYMDx3p4K7A531wVsDxRM2I4ewp+r\n",
       "GVibpXCzpT2z8MD25Y/JsdjEtMd25KgO29bw+6B92Laa6ELpptOSOYxfKJ55rmysZCobJfNS9iCw\n",
       "GcpcwpyiUkTtem9TBazD/XbIG0IR+PfRLAu/aIXVZCV0HNIlmHAm8dSRltimFs8+8e8FISah8fbo\n",
       "Z5VL7vi0x3b6lA7bcNs1qHfXPv/wV5QCu+9Y8g12Zi/aAbuU0EXMJNhO4Qmmm56EHsEDN5ROZeKb\n",
       "C75syNimNJlGx8ZhzwmfJTx6Eb6+Yp3PRkiaml3vtAJtd7hczpV+mFiHR+ygIFZDF8+7m7l4D8Uq\n",
       "voOSlysN4PbGDgwdgM8R8OGszBFIHKP2Fm/m7hEL6+kT8Hu8MyzO299VkfECj+2GX7w2AmC70WFs\n",
       "x3q02H4A3SCz+fmLEbL+Vjz8+/ChoUIE3wmt+lrYVpOOs0wB2yF8b+gfh2gDIsPMA94RaiWVXV7D\n",
       "z7F8ssv+Db5vGtsUJjfyjefecaREjC4/zV7AvsR4hgE4LC0kMe/sVu7RHa4C6ko6zg8T6/Dyhrs+\n",
       "Fz8c7cutyhGsWicxkutsw9kbKl59IH4vpIs0K74fRg5QbDu2eMPdIxbx14fJTC+tAcY1KwcDPLb9\n",
       "MYx6A1CRejtPWwoVtdgOocnqThj53stwxXnimlc1ffSuMnwSb37vMAyU5OMkU8Q2mXY3FyI/LGGg\n",
       "UA94h0+0sliewIV/XKdl4QEKAkObIuQcba7A2hwxuug0ewFfHCpG2d0+Ip136t2efj26w1VAXCnH\n",
       "uWEiHbb+rnmdfc9A5/zXO3a/7V4ab1t9yG4XGkjrXGAfu1DT0qOPXf2NHMSq1AA2XLD8FMU2PkrN\n",
       "iuyDs4hWcTgCiZyAbV1oNVLisO2PYdQbgIrU23na0lhFi+1Mw5lK5F/hkOd50uX0UZijHKeZIrZx\n",
       "ib48ZEuQLNgesvJw4spCoGCblb3ZvnG2bBPFIYLeQJUYffd0ewEj5VCPHtvMu3sv13fHrYC4ko9z\n",
       "w3S5fAa46wxjNawC793u3LSAGoTzZPF6g3jUCbEci1C+azCnvHOPaJCxscxh2x/DqDcAFam387Sl\n",
       "+TUttnFKVC6ALytn/VuherxGWxQ7ZR1SjpPMZ9f/hsN24uDuT3QdJ+c/XGQe5JNNK8O9vVjMZ2V3\n",
       "XlrARwxtCpP60OMnXsh4EXyU8OgFuiDGCpmbtxRsn26i3lEP//JmUoG2O3wF2JVynBumi+UzsFXE\n",
       "dkY9a+5JG0tTg43jcbwwuUE86jxHOhZDEHpvnr6HXNEaGf1VDtv+GEa9AahIvZ2nLW0re2K7/6HD\n",
       "8Gl81uP3wapGfA3+uC9ybH4xVs5UcGZ0HKNOPE4z1xdDHLYjJ2/IDtQItq06UA94Z1WJFkIfJVrZ\n",
       "VnJm+Xy77Pl312CfqU2QqaD8CIoum+U1GK58CdetvhdCtSjaXFpNPoUnXuLT7R/zjnqY+wtcgdsd\n",
       "bZOYK/k4P0xb5TPgMpe+tPYWA7ajj1CDkcpd5zB7D2xTi4uh62ds3dGA7bFBDtv+GEa9AahIvZ2n\n",
       "LY3kPbEdXfY/nyrjsx45Af2lyAT+OAHXfuaFb0I0hzPj999zUDlOMqP5Vfz69ooL1q5J0vv2TqAe\n",
       "8E5/jRZCHzVa2TXI+AYhn5UNfxvNoNmGoU3QlUN79zR3woa31TBc+RKuW30vxGpXvYQCoYX4GYv4\n",
       "dOti3qP5fTheRBU43dE2yXYlH+eG6Qb5DMTFp1d1CT0NikHX6I6G/qjGAqIlM7a7i/waoC+GEV7X\n",
       "80tFCmJ7mmlpyRPbLL3IzxxsK7sXb75awjGpdJxkZmHLezhso8E8fiPF9r851ZT4CYZt7awR2ryY\n",
       "j8uma2tqkC6b2pTg85GRUMJ1q+8FX6319zgcrqefbog+M+4oPQB1rkm4O9omMVfycW6Y1DWKOzu9\n",
       "8vtzMGM7NMxjmzKMHq8Y8dqKilTR2iaX33QjLmL9cvQtOnYOR7pAV2jf/jk6K5EJwVZ6GgZsX/n2\n",
       "Mrzf2WNbXb/AmyO1pTnlOMncA1trArbTzQmIPI4muj320wvaiTjXlb11Swm/6ZPycdlo6ac5sIqm\n",
       "Nq0HNx8bCSVct/pe8NWmT3QdQKUzPxN9ult70Kx9e96pgPRN1yTmSjnuDlM73p2eVjJgm/BhHWxT\n",
       "hlE2p7z7+9oN8Pg/cnglhtaAdu16UMI2oy39B8C/oK91t8GeA5qXVBzpAgfRBeif0LyZEpgQ3Cqm\n",
       "2CdVn6Sm2UKbqz61WD3uZArYjs9hE1yyBuokyIeUUSXfKQs/MLWpIAebPwBddfpe8NXGv/7Vks6n\n",
       "EsqamsS70g9T9M1Bdnh0uwHbPTy2KcNoTITs6zd9DP4z1Ug1OLxSw3naC0DGNqMtLSKsw+RhdKpP\n",
       "atZrig7pggC2BqETqpXAhPDEdltTQcl5xlDisRbHMgZCaaoRtIQ5pVq/PZt8BY/B1EwJAduUYSRC\n",
       "Nv2Ju/8E/10dFLBNDTdpLwAZ24y29AfAr+bGTtFFKCnxpAucXsnD2EHNlcgzIXTYvmO0BFM8zape\n",
       "dSbNG61IUlMitinDaFP4KYQ0zEn51SfRN5mr/vlOAdvUcLXmArhx0fZFZQHb1NY6CJkXyQs6hG0F\n",
       "gDzpgkAdrOU1zaoOz4TQYbs+9c/BrDJQhxJZnFnhGZMQhhGs/s5YCTAnZTv8hj0EP5PaewWPbWqI\n",
       "sZi55dIfiReAPG9T2/CxRz+GvvrKmKuosCN40gWOafcve+U+UCgOIhPCXidpCNi2pgG2G2cZ6sKd\n",
       "ftjM5LTYFp4lCcMI3sB3fcxJOYiiDvqrjWeg8iMB29iQFNs7v5bNCxeAgm3iNEUXivCUjSZpmf3A\n",
       "ky6w8TFIoEfzH8o4FpgQujXAOnvhXp3S2D47lIGebC5atJ2cnPd1vK6P6rAtrgEShlHkfBJrRKso\n",
       "+5sQeWHZstsRtr+8T8A2NkzjNYS7fwndJeECULCNbSFGs3FcHTqovCHmSRc4UjoA0eMaioPAhGBJ\n",
       "eHdThxQOiBKNKY3ts0QZ6Ag66+edma4mdNgW390QhlG6eBlmnoTy6WJ8PGcVKGzDVwrYxoYxArPr\n",
       "4ELxAlCwTWhL3TQIX3vVtbmlVQXbPOmCQh0vkyjYFpgQ9nJhTsA2YUB8YWrHJGeHMhD+aXASy/im\n",
       "O38XxXQFBdvCO3f2IF/9YDp+HwyhmTtTrMBitu61VcA2mY8X0N2bwsIFUJKxTVI/ykZe+5/PbcdP\n",
       "gxL7gSddrCpBfx26jyYaMoVBZEKwJHCl6nSSuHlqY/vsUAZKH0CYewPjpPN3UatHg22BK8Xm0FLs\n",
       "icgJuBiy+cg/lWAPmhfDX8+5K/QOXsfSGJ/j0Psu9QKQbVNrUUiEWQhXv3SkUVbZDxzpor+W6DvZ\n",
       "SD63WqEwiEwIuxUVEdtbV65cWZ/a2D47lIFi4yiwxWsEl4Css6OFpyjWY5biefh8gFF759MabAsc\n",
       "V36Sdzd/jMINLV6jjyAchouwpKZeAMq87Xod+NeCwn4AjnTh5mspDg4Twr57FEVsdy9bdkdliq8B\n",
       "nhXKQFj5cgyfnCWKzo4uSWI9Rime1GBfKen8NHiTBtvCbxO49H5vpwJeax4XgB7bxOtIs6SwH4Aj\n",
       "XTj5eoqDw4Swp4ceEdvR/Gn+vjW4Lg6X/AvyTE4ZqH1KOafZEWNyhqm/ApHn8cZqR2cHIt5PGUys\n",
       "Z/cpFmSYpHh2xZulrsP23oMabAu/KdNg1oDXiAFFEraJ18/NlW8NIukiA/qGeDRJ+C1wnfw68DUf\n",
       "pyDM7oQudcunLg53F3XLBhDkCaIMRBvJM8fap5RjJ5GXZuyI+RHS9jDyoUeXEHic4+jsRG70jjKY\n",
       "WE+YWpileK5MHYGsM89fqMH2uR7Y9onXDATCdkcex4+K2EZ/W/xEg/SLo24ZFy5kDRuubABBniDK\n",
       "QMwtxxyb/OqKLA0k8tJikz8h9jA5Pw0mY0R1dpKtImgi1pOyl9mMUjyh4xwvo1/F9gzQcBC0d/DQ\n",
       "bcE/H/AJG4665VcXx735crSvAII8QZSBGNJc5lgblXLcWzfPS1s/+fNhD5PDiCPYpjo7LbFNxHoS\n",
       "7KI3S/GgC3L+eAtsZ6a/9o6gmYaH7jVf/5GCwoajbvnVxXEXaDjaVwBBniDKQAzbLnOsjUo5ThJ4\n",
       "aW0QCGXDFHnDzpjr6uy0wDYT6+lmPTRL8aBpfvMwpXxoY5KZoJk2Py9iO7YiZ5THsWHDUbf86uI4\n",
       "iad9BRDkcZSBtJI2YiZtJMcca6NSjtNEgZfW4zEIXK5PqZ+0w9L/jKOzQ7CtqvDgDVus5zKWxUnx\n",
       "OGaiJs+2YVhboZQP8q+bZGx3V6Y/trODIraTt4JRHseGDUfd8quL4yRWNjoMgQR5HGUgraQNJ5nj\n",
       "Bk4uc6yNSjlOaEW9s0hg2GMQ3I74lfpxlC/x+hzT2SHYVlV48IYt1vMUU9xxpXg0Kjxkb6gn3cwR\n",
       "yod+DXAmaBRnxkVswzvAKI9jw4ajbvnVxXESK5scJKfTtyCPowyklbThJHOcRnLMsbYp5XDPlsQ7\n",
       "OLjUDgLXEZ9SP68uP2Tf5uY5OjsE246yjiOvQ5R1mFjP7dSAk+JxpHtc/R5ikXzuBRQRYsoHSveq\n",
       "2P4qTH9sYywL2P5fZ9rwlMdxsN1wqFt+dXFcbNOy+OV5EEEeVxlIK2njSuY4jeSYYx1QymHe2SRe\n",
       "8BoEd+iCSv1AyG0Libf1yjo2YvLUgJPi8ZDueRfg5W1M+dC+c58R/xME1knYxskgj2PDhqNu+dXF\n",
       "cRIrm/2/JwMJ8mQ5tGgkbVzJHKeRHHOsA0o51Duq8ppny7gj+kHghi6o1A8hMvHYVpc/3aVka7xK\n",
       "DTgpHr28SbIJQxNAKR+QqirYjs2I/+XE/Q8+G9smeRwbNhx1y6hyI2vYsLKh/9orCvK4RqIgj4Jt\n",
       "W9LGQzLHbaTDHGuTUo5QIfX+/0/BOeFB3BHNIHBD50vqRz5BDsc1/vAb1dbYhg+VqQEnxaPHdvpY\n",
       "/LkcUMoHWXeUsH1hYyZgO36eOm8b5HFs2HDULaPKjaxhw8pe8iSIgjyukSjIo2DblrTxkMyxG8kx\n",
       "x9qklMNXaHtfaNUx9X2nbhC4ofMl9SOfIFFrwUNZRzLghHY8pHtuHXV/hLxYxfbLMBOwjckEMrYZ\n",
       "jrzkcbgXcDZ1y6xyo2rY4LJbEnslQZ6MrsZhBduupA3XRE4yB6S3hNiyTUo5ypigKpOD2QzXEZXM\n",
       "RjviS+pHnnw6TeBO5xVsd82M/3nt9EPGtqc8Dg8bm7plVrlRNWxw2cWpJ0RBHtdIFOSRse1I2nhI\n",
       "5kjYJq7bo5SjjglynCrHfu52RENmox3xJfXzpiQR2/Z8Fwzbcxdc5bu+ILaTSLd7zNvgIY/Dw8am\n",
       "bplVbgrKTOaU5QV5lDmfvCQDBduOpI2HZA7o2B1tUcrxGhPwoSzkS+rnzcd2mMb41oIPIGz/ccE6\n",
       "nz76msd81xfEdjITtx3ijfrWJ1HFkILr4nDJvyBPNoA+SfBGmpNBKeeZyfo3SP10LM0bLXBSU3to\n",
       "K1LNJsL25ub+PwPXI2hsb9covAAAAABJRU5ErkJggg==\n",
       "\" style=\"display:inline;vertical-align:middle;\" /></a><br>(see <a class=\"ProveItLink\" href=\"../__pv_it/d73562bca483adfc8e66cdb2432c2ac6c87514940/dependencies.ipynb\">dependencies</a>)<br>"
      ],
      "text/plain": [
       "unraveling: forall_{k, m in Naturals} [forall_{l, n in NaturalsPos} [forall_{P, Q_1,...,Q_k, R_1,...,R_m} ([forall_{x_1,...,x_l, y_1,...,y_n | Q_1(x_1,...,x_l) ,  ...  , Q_k(x_1,...,x_l) , R_1(x_1 ,  ...  , x_l , y_1 ,  ...  , y_n) ,  ...  , R_m(x_1 ,  ...  , x_l , y_1 ,  ...  , y_n)} P(x_1 ,  ...  , x_l , y_1 ,  ...  , y_n)] =>  \\\\ [forall_{x_1,...,x_l | Q_1(x_1,...,x_l) ,  ...  , Q_k(x_1,...,x_l)} [forall_{y_1,...,y_n | R_1(x_1 ,  ...  , x_l , y_1 ,  ...  , y_n) ,  ...  , R_m(x_1 ,  ...  , x_l , y_1 ,  ...  , y_n)} P(x_1 ,  ...  , x_l , y_1 ,  ...  , y_n)]])]]"
      ]
     },
     "execution_count": 2,
     "metadata": {},
     "output_type": "execute_result"
    }
   ],
   "source": [
    "%proving unraveling presuming []"
   ]
  },
  {
   "cell_type": "code",
   "execution_count": null,
   "metadata": {},
   "outputs": [],
   "source": []
  }
 ],
 "metadata": {
  "kernelspec": {
   "display_name": "Python 3",
   "language": "python",
   "name": "python3"
  }
 },
 "nbformat": 4,
 "nbformat_minor": 0
}
