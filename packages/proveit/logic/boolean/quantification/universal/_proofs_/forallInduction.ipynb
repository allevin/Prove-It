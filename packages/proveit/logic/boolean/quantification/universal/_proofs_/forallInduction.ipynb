{
 "cells": [
  {
   "cell_type": "markdown",
   "metadata": {},
   "source": [
    "Proof of <a class=\"ProveItLink\" href=\"../../../../../_context_.ipynb\">proveit</a>.<a class=\"ProveItLink\" href=\"../../../../_context_.ipynb\">logic</a>.<a class=\"ProveItLink\" href=\"../../../_context_.ipynb\">boolean</a>.<a class=\"ProveItLink\" href=\"../../_context_.ipynb\">quantification</a>.<a class=\"ProveItLink\" href=\"../_context_.ipynb\">universal</a>.<a class=\"ProveItLink\" href=\"../_theorems_.ipynb#forallInduction\">forallInduction</a> theorem\n",
    "========"
   ]
  },
  {
   "cell_type": "code",
   "execution_count": 1,
   "metadata": {},
   "outputs": [],
   "source": [
    "import proveit\n",
    "context = proveit.Context('..') # the theorem's context is in the parent directory"
   ]
  },
  {
   "cell_type": "code",
   "execution_count": 2,
   "metadata": {},
   "outputs": [
    {
     "name": "stdout",
     "output_type": "stream",
     "text": [
      "Beginning proof of forallInduction\n",
      "Recorded 'presuming' information\n",
      "Presuming previous theorems (applied transitively).\n"
     ]
    },
    {
     "data": {
      "text/html": [
       "<strong id=\"forallInduction\">forallInduction:</strong> <a class=\"ProveItLink\" href=\"../__pv_it/8cd452fd513c6e0b561dcb013b3c13dd765711e60/expr.ipynb\"><img src=\"data:image/png;base64,iVBORw0KGgoAAAANSUhEUgAAAfkAAABLCAMAAABEHQ4cAAAAM1BMVEX///+wsLAQEBC6urrMzMxU\n",
       "VFRmZmZERETc3NwyMjKqqqp2dnaIiIiYmJgiIiLu7u4AAAAtx4K2AAAAAXRSTlMAQObYZgAADAdJ\n",
       "REFUeNrtnevahRoQgNtyCIX7v9rdSREjdFh9+9n9aR1LXjOYMaZpyg/aQt/Itrn5QGY85MWLRIvF\n",
       "lFJd85GjHQtT9pSaaO8Rp3pCsW+coyPXStlzsEnI26sECYyxvnaNeLFU862jFEvL3WrRYzUJFPvG\n",
       "PQi9UkJsIEmR5P76QPjyJYBiTeT167LdHz8Z2lqBHI4SiBH0zdY+kLhQeNUDX4gnpOg6eahYypP7\n",
       "ob+75D0xhoyHIruk4AhdimtV8VGCN/KwbAtU39glxLe7QTwfIA8Wa3oOuYkAf0D8zSJ6DHXJu/Dq\n",
       "TvggwTv5BpRtXq2XOwNeUzZfJA8WayLfMftY7P6i43VkKrYRah9VLINMkk80yYMEO+RB2camdhDO\n",
       "IJEXRn+RPFws5QohFfcXvV8reTBW98ZxaJQkn9JGnALkD9/kADwboZgBQvSIyF8mDxdLLfLWzccT\n",
       "QxRm1k7Xqsl21euacsVxy9XKmokU+ZakcHQA+RYah7emrpEzBA00nxH5q+QTxVpgGzYd6olmu3bz\n",
       "2jB/dqmVmOwUSvdm0f6SJvt52WcKvUseFnpe1coxaFRRpPki+USxlgog8/XZAyadta6w2hDwRV+S\n",
       "6WRG6mZVoIIH5KlyDkPzWrZHHmzzQ5XQU1iHtF8knyqW2nWpBua/LfA69r7RxK/r3hApJZV7jaHl\n",
       "P3IeKI81aWeSLToZ2wsOPobpAfLeN/5fWL0CizQJ1HyRfKpYaj/1wOCFAa9j7ycL7KGbPwqd0wwH\n",
       "g1ztcDar0xwB7ImCyBNIqxNTruEGsB0h+knyqWKtFTNRV/oO8tK/mQlq3iFPDCkgj7nU4NylA8gL\n",
       "CLCo8IMw6GLYiC+STxZLWXGKWtYqyPPBvzcFDC9CTgO8SYb6DtL2Xj+vGDx61o4w+uQ1rO6Lx3ga\n",
       "/Etv9BfJJ4tln4V1pF07aqao5ByD5N1fhOR9sejDIQYbllo07djNt5N5cVWlPCnzIjl4Vgwg735z\n",
       "FODSShXgIJOdd/PWVzGdrZdiaDPJV7arZLEseUFtj4/HESHpHD18JO/+YnpPuD36oN7Dbt7O3sYR\n",
       "FkEj+c6O29Kzuo4nn5EYiLzzzVEgSp0UBFSeyGteKV/FcrZeCorzyFd6VhDLIN+g5ZJdP9WJ6JSA\n",
       "yHu/CC7dO59oysYq6ONDwF4pqQni24B9eQGRP5lx9ruqOZDv4b6Zl2peSHnq45gB9lWsZ3vrYxE6\n",
       "HSVf51nRyaHMRn7QkKBG+vntFwF5dt4mURTFifUWnyliAZAXoKAaUwa+MwicNg9Rg0/oq7Dn1Uux\n",
       "nUHL00K+zrMCm5p9PWLvLRs0ftgNIHn3F9N75mp7hE8V2CATNrrKBTN4V90H8hhU6rzQ+iJAE8DR\n",
       "LAT7Kux5befb2RaWHSdY6wivyrOStlap0ObWTk/IQG3v/YIFCqY5F/qYxtL1XtrlvhQgr8FhGS3s\n",
       "6CWoPPvDYBH0VbSbdrf1yzw4pD06MlfyVZ6VPjmGDS5FGBsU4wLW9u4vAikg8rxVxujawVDtIrld\n",
       "Hg/km4Sklt2LgSJ0NOpCvgpnRZw1e3jmj6n5q/isrsazQpPGqoxGVDafz+oxA2HrcXONPOIQecTB\n",
       "brBsRo9AETpYrEFfhWPsENw/L81gCPS5Je94Vo4G8sRcRH+NfKE+yDmUgsgrBfYQRUO88ef6fE65\n",
       "aFnAV9Hs1ucW+ecNxmH6asm7nhXfQI45nZaB94jqdLH+q+QRSB40Z5gi0z2GG8qhimFfxT6mxMY/\n",
       "73N1gqM2PMezsvYQuqeUjp8MrJnM2qFp+4T8+Xp7AryOvb92TOvtK6/IQfIcJK+KrO0C7hwOVQz7\n",
       "KtLkl3G9b0XfyDuelaXP6FnbaT1+MowthpaR/1SURWbDkDeS50WD+x62/PhVDPsqnCWhEW0v1r/x\n",
       "Lkbe8azMqmrYbjJggceRUwl51fy5A+wMarQ9KXLXSdijTz31Dvoq9vMeDOAEBVjigsbI756V5QH3\n",
       "/w14pD7gkDxNr778r5AvH+GNNUMKnCEEXhTkT59AX4U7hws/wSzGZSe/eVZmAzmWLvlGNpLo/Fnd\n",
       "fCX9ObqJCByYfMWsbpRiXuAMYbCGcEwmSV+FMyq37op9nRHZXrnWHMdLu3pWFgM5VvMEf3o9ke8G\n",
       "HS6vgC05ym9g9wfYnPedhRE4MPkKS85YM6rAGZIYFQyndmDrq7DniPXWuUQbJW89K7OBXBNP5psW\n",
       "9zq/WDP0ZwNszm1vRRE4cCBGhfV2WQyW7QxRMPm0a2S+1cFDY1cSyzNpC1dmrAbyXVZm8uOVdX6x\n",
       "lPfATwTYZEySiyJwYFdehcdmvKlp8p0hCMarz4eKvpfWein0qaM4siZnMZBrtgp0y5dXpKBYyisT\n",
       "FT8gXxiBA5Kv8dKOMmGafGdIgnx6CYRX8OVsBZZ0FeS3YcrazzflxVKrOD0XYHNuHyyLwAHJV6zM\n",
       "sORznSEmYffJWI1lfRXzwpYVZ3++HuzSOjywWMoOgW4MsOlSJRVQN58bgQOSr1iNNZOfFIwXZiKY\n",
       "oZSSyBKgFPm/tgJzJZ8MsCkKsxjJyLgraZmsYhnv5rMjcEDyCFyBmVDEeCHvh5kM898jUfIp8n9t\n",
       "1bWdZKYCbArdNcybtNr7YroGPBy36imNwIHI16y63sj7YSaELOMOHZJP9Kl/LNJCOed7AmxE75ml\n",
       "9h+sW3Yc21dpBA5EfgAjLYaEP+6flbwXZqLmiiC8SOb/WnSVJX9fgM3cZezLDwLyBxdkcQQORL4i\n",
       "usqReTfMRM92r0GV9fPjkAF/kTxULFsp+5NfDbOYK32XspC8P1svjsCByLsT10NEpTwnvztDprqa\n",
       "up8hOqtLrmekXyQPFUvtoro++dUwC+7XfEje3wChOAIHIF8RRe3M6hxnyNhV8Zr5/HSjT5IHirWP\n",
       "xNYnvxpmMXN1Yi1C8pinu/mTCByAvLfhkb9zAmkyyG/OkLFIoOyqtIkW9V8kDxRLxb6/EmYxx74t\n",
       "ZqVZF6BVF0TJ10TgxMlX7JZyIL+HmcAq/WQdh0CfJB8vluOms1bla2EWLWu8WIuItj81cyYjcOLk\n",
       "GbhDEkv2viIMmoE3uEx5aW3dfZB8vFgqfO5LYRaNVn6sRUh+OK2eZAROlHwL7orWpnc8HIKpheSG\n",
       "wkur04O4DnVfJB8tVjjhuRhmMc8NnViLzQ041ejMjp4HNKUicKLkFbgTohInxs2SmEp6Fpgh+BfJ\n",
       "R4uV46Mpm8/34uQHGZWTisCJfUnB3U/pyUxLFu2Vc/5rSr9IPlas+8lr/yMStfGdoocjcCLkBbjj\n",
       "8akM0qLwquFcQ7D7x/d37HIeFut+8o1IL065vDw/IF+zy/nec5cMylpzPnqn38xsEBQrI8qiOMxi\n",
       "SGknea3xRgIxNAMzG7DTm/HTRVReozMPGWvKZbg+TuKbiSzKM1pclqciETXmI3WmfvLXR45Nh3fk\n",
       "zdsWolRP7XP5P/mXyZeqb1LUOTxNXlf/9ZMpTF4l3xZukdQb+iHydXESn01h8ir5UpKt4R8iXxcn\n",
       "8dkUJq+SL9Xe+ieDew2Qr4uT+GwKk1fJq9KxuvrF4D4iMRfiJD6bwuRN8tqU+lXlL4Z4kWQeF+Ik\n",
       "PpvC5E3yrSGP/+OOQ0K215o4ic+mMHmTfIUEG/RS2dLJPMI4ieztsjJSmFxKZFGdwuRN8rw8LoY8\n",
       "tcI2fRyTeUTiJHK3y8pIYXIpkUV1CpMXyeuKdCatkb8gf0zmEYmTyN0u6/YUJodEFtUpTF4kX5XC\n",
       "CP3E+nlM5hGJk8jdLuv2FCZ+Iov6FCYvkuc1k/P+JXWfTuYRxklkb5cVpDC5N5FFfQqT98h3VaZY\n",
       "/YPRfZjMI4yTyN4uK0hhcm8ii/oUJu+Rl3VWGWre9ndEknkEcRL522UdU5jcmciiuZLC5D3yqHY3\n",
       "9bfHeJG5Vxgnkb1d1jGFSQRXdSKLSylMXiM/1BpiJXqZPG4S5Iu3ywpSmDyfyCIvhclr5Ovj3dFv\n",
       "JnZx8psmyt0u6weJLPJSmLxF/kLmaGH058jnb5f1i0QWWSlMXiKv0QXXCyHfI79J0tl2Wb/Y1D4r\n",
       "hclL5CW/1Gzaz5K/46+/SWHyDnl8LQIOI/0/+bvmrO+SVxdXJLT4x+TrF81/M5HFhYwWZe3MBf8v\n",
       "S7yRfQoXllUAAAAASUVORK5CYII=\n",
       "\" style=\"display:inline;vertical-align:middle;\" /></a><br>(see <a class=\"ProveItLink\" href=\"../__pv_it/8cd452fd513c6e0b561dcb013b3c13dd765711e60/dependencies.ipynb\">dependencies</a>)<br>"
      ],
      "text/plain": [
       "forallInduction: forall_{P} ((P(()) and [forall_{l in Naturals} ([forall_{x | |x| = l} P(x)] =>  \\\\ [forall_{x | |x| = (l + 1)} P(x)])]) \\\\  => [forall_{l in Naturals} [forall_{x | |x| = l} P(x)]])"
      ]
     },
     "execution_count": 2,
     "metadata": {},
     "output_type": "execute_result"
    }
   ],
   "source": [
    "%proving forallInduction presuming []"
   ]
  },
  {
   "cell_type": "code",
   "execution_count": null,
   "metadata": {},
   "outputs": [],
   "source": []
  }
 ],
 "metadata": {
  "kernelspec": {
   "display_name": "Python 3",
   "language": "python",
   "name": "python3"
  }
 },
 "nbformat": 4,
 "nbformat_minor": 0
}
