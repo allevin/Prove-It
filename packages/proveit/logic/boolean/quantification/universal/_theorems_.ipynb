{
 "cells": [
  {
   "cell_type": "markdown",
   "metadata": {},
   "source": [
    "Theorems for context <a href=\"_context_.ipynb\" class=\"ProveItLink\">proveit.logic.boolean.quantification.universal</a>\n",
    "========"
   ]
  },
  {
   "cell_type": "code",
   "execution_count": null,
   "metadata": {},
   "outputs": [],
   "source": [
    "import proveit\n",
    "# Automation is not needed when building theorem expressions:\n",
    "proveit.defaults.automation = False # This will speed things up.\n",
    "from proveit import Function\n",
    "from proveit.logic import Forall, Implies, Booleans, And, Equals, TRUE, NotExists, Not, FALSE\n",
    "from proveit.number import Add, num\n",
    "from proveit._common_ import k, l, m, n, xx, y, P, Q, Qy\n",
    "from proveit.logic._common_ import xIter1l, P_xIter1l, P_xIter1l_y, iterQ1k, iterQ1k_xIter1l, iterQ1k_xIter1l_y\n",
    "from proveit.logic._common_ import iterR1m, PofTrue, PofFalse\n",
    "from proveit.logic.boolean.quantification.universal._common_ import generalForall_Px, consolidatedConditionForall_Px, generalNestedForall_Pxy, generalBundledForall_Pxy\n",
    "from proveit.number import Naturals, NaturalsPos\n",
    "from proveit.iteration import Len\n",
    "%begin theorems"
   ]
  },
  {
   "cell_type": "code",
   "execution_count": null,
   "metadata": {},
   "outputs": [],
   "source": [
    "consolidateConditions = Forall((k, l), Forall((P, iterQ1k),\n",
    "                                              Implies(generalForall_Px, \n",
    "                                                      consolidatedConditionForall_Px).withWrapAfterOperator()),\n",
    "                               domain=NaturalsPos)"
   ]
  },
  {
   "cell_type": "markdown",
   "metadata": {},
   "source": [
    "**A statement of nested $\\forall$ expressions may be bundled together into a single $\\forall$:**"
   ]
  },
  {
   "cell_type": "code",
   "execution_count": null,
   "metadata": {},
   "outputs": [],
   "source": [
    "bundling = Forall((k, m),\n",
    "                  Forall((l, n),\n",
    "                         Forall((P, iterQ1k, iterR1m),\n",
    "                                Implies(generalNestedForall_Pxy, generalBundledForall_Pxy).withWrapBeforeOperator()),\n",
    "                         domain=NaturalsPos),\n",
    "                  domain=Naturals)"
   ]
  },
  {
   "cell_type": "markdown",
   "metadata": {},
   "source": [
    "**A statement of a $\\forall$ with multiple instance variables and disjoint conditions may be unravelled into nested $\\forall$ expressions:**"
   ]
  },
  {
   "cell_type": "code",
   "execution_count": null,
   "metadata": {},
   "outputs": [],
   "source": [
    "unraveling = Forall((k, m),\n",
    "                    Forall((l, n), \n",
    "                           Forall((P, iterQ1k, iterR1m), \n",
    "                                  Implies(generalBundledForall_Pxy, generalNestedForall_Pxy).withWrapAfterOperator()),\n",
    "                           domain=NaturalsPos),\n",
    "                    domain=Naturals)"
   ]
  },
  {
   "cell_type": "markdown",
   "metadata": {},
   "source": [
    "**A statement of a $\\forall$ with multiple instance variables is equivalent to one with nested $\\forall$ expressions:**"
   ]
  },
  {
   "cell_type": "code",
   "execution_count": null,
   "metadata": {},
   "outputs": [],
   "source": [
    "bundledEquiv = Forall((k, m),\n",
    "                      Forall((l, n),\n",
    "                             Forall((P, iterQ1k, iterR1m),\n",
    "                                    Equals(generalBundledForall_Pxy, generalNestedForall_Pxy).withWrapAfterOperator()),\n",
    "                             domain=NaturalsPos),\n",
    "                      domain=Naturals)"
   ]
  },
  {
   "cell_type": "markdown",
   "metadata": {},
   "source": [
    "** Induction to any number of $\\forall$ instance variables: **"
   ]
  },
  {
   "cell_type": "code",
   "execution_count": null,
   "metadata": {},
   "outputs": [],
   "source": [
    "forallInduction = Forall(P, \n",
    "                                Implies(And(Function(P, [()]),\n",
    "                                            Forall(l, Implies(Forall(xx, Function(P, [xx]), conditions=[Equals(Len(xx), l)]),\n",
    "                                                              Forall(xx, Function(P, [xx]), conditions=[Equals(Len(xx), Add(l, num(1)))])).withWrapAfterOperator(),\n",
    "                                                   domain=Naturals)),\n",
    "                                        Forall(l, Forall(xx, Function(P, [xx]), conditions=[Equals(Len(xx), l)]),\n",
    "                                               domain=Naturals)).withWrapBeforeOperator())"
   ]
  },
  {
   "cell_type": "code",
   "execution_count": null,
   "metadata": {},
   "outputs": [],
   "source": [
    "%end theorems"
   ]
  },
  {
   "cell_type": "code",
   "execution_count": null,
   "metadata": {},
   "outputs": [],
   "source": []
  }
 ],
 "metadata": {
  "kernelspec": {
   "display_name": "Python 3",
   "language": "python",
   "name": "python3"
  }
 },
 "nbformat": 4,
 "nbformat_minor": 0
}
