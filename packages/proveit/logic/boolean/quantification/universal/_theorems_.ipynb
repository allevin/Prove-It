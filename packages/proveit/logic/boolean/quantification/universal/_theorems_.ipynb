{
 "cells": [
  {
   "cell_type": "markdown",
   "metadata": {
    "collapsed": true
   },
   "source": [
    "Theorems for context <a href=\"_context_.ipynb\" class=\"ProveItLink\">proveit.logic.boolean.quantification.universal</a>\n",
    "========"
   ]
  },
  {
   "cell_type": "code",
   "execution_count": 1,
   "metadata": {},
   "outputs": [
    {
     "name": "stdout",
     "output_type": "stream",
     "text": [
      "Defining theorems for context 'proveit.logic.boolean.quantification.universal'\n",
      "Subsequent end-of-cell assignments will define theorems\n",
      "'%end theorems' will finalize the definitions\n"
     ]
    }
   ],
   "source": [
    "from proveit import Function\n",
    "from proveit.logic import Forall, Implies, Booleans, And, Equals, TRUE, NotExists, Not, FALSE\n",
    "from proveit.number import Add, Len, num\n",
    "from proveit._common_ import k, l, m, n, xx, y, P, Q, Qy\n",
    "from proveit.logic._common_ import xIter1l, P_xIter1l, P_xIter1l_y, iterQ1k, iterQ1k_xIter1l, iterQ1k_xIter1l_y\n",
    "from proveit.logic._common_ import iterR1m, PofTrue, PofFalse\n",
    "from proveit.logic.boolean.quantification.universal._common_ import generalForall_Px, consolidatedConditionForall_Px, generalNestedForall_Pxy, generalBundledForall_Pxy\n",
    "from proveit.number import Naturals, NaturalsPos\n",
    "%begin theorems"
   ]
  },
  {
   "cell_type": "code",
   "execution_count": 2,
   "metadata": {},
   "outputs": [
    {
     "data": {
      "text/html": [
       "<strong id=\"consolidateConditions\"><a class=\"ProveItLink\" href=\"_proofs_/consolidateConditions.ipynb\">consolidateConditions</a>:</strong> <a class=\"ProveItLink\" href=\"__pv_it/76722e50d598129328fb0471033b7310a390073c0/expr.ipynb\"><img src=\"__pv_it/76722e50d598129328fb0471033b7310a390073c0/expr.png\" style=\"display:inline;vertical-align:middle;\" /></a><br>"
      ],
      "text/plain": [
       "consolidateConditions: forall_{k, l in NaturalsPos} [forall_{P, Q_(1),...,Q_(k)} ([forall_{x_(1),...,x_(l) | Q_(1)(x_(1),...,x_(l)) ,  ...  , Q_(k)(x_(1),...,x_(l))} P(x_(1),...,x_(l))] =>  \\\\ [forall_{x_(1),...,x_(l) | Q_(1)(x_(1),...,x_(l)) and  ...  and Q_(k)(x_(1),...,x_(l))} P(x_(1),...,x_(l))])]"
      ]
     },
     "execution_count": 2,
     "metadata": {},
     "output_type": "execute_result"
    }
   ],
   "source": [
    "consolidateConditions = Forall((k, l), Forall((P, iterQ1k),\n",
    "                                              Implies(generalForall_Px, \n",
    "                                                      consolidatedConditionForall_Px).withWrapAfterOperator()),\n",
    "                               domain=NaturalsPos)"
   ]
  },
  {
   "cell_type": "markdown",
   "metadata": {},
   "source": [
    "**A statement of nested $\\forall$ expressions may be bundled together into a single $\\forall$:**"
   ]
  },
  {
   "cell_type": "code",
   "execution_count": 3,
   "metadata": {},
   "outputs": [
    {
     "data": {
      "text/html": [
       "<strong id=\"bundling\"><a class=\"ProveItLink\" href=\"_proofs_/bundling.ipynb\">bundling</a>:</strong> <a class=\"ProveItLink\" href=\"__pv_it/c556f4d12c547d62d6e93852093d2b3d1dce757a0/expr.ipynb\"><img src=\"__pv_it/c556f4d12c547d62d6e93852093d2b3d1dce757a0/expr.png\" style=\"display:inline;vertical-align:middle;\" /></a><br>"
      ],
      "text/plain": [
       "bundling: forall_{k, m in Naturals} [forall_{l, n in NaturalsPos} [forall_{P, Q_(1),...,Q_(k), R_(1),...,R_(m)} ([forall_{x_(1),...,x_(l) | Q_(1)(x_(1),...,x_(l)) ,  ...  , Q_(k)(x_(1),...,x_(l))} [forall_{y_(1),...,y_(n) | R_(1)(x_(1) ,  ...  , x_(l) , y_(1) ,  ...  , y_(n)) ,  ...  , R_(m)(x_(1) ,  ...  , x_(l) , y_(1) ,  ...  , y_(n))} P(x_(1) ,  ...  , x_(l) , y_(1) ,  ...  , y_(n))]] \\\\  => [forall_{x_(1),...,x_(l), y_(1),...,y_(n) | Q_(1)(x_(1),...,x_(l)) ,  ...  , Q_(k)(x_(1),...,x_(l)) , R_(1)(x_(1) ,  ...  , x_(l) , y_(1) ,  ...  , y_(n)) ,  ...  , R_(m)(x_(1) ,  ...  , x_(l) , y_(1) ,  ...  , y_(n))} P(x_(1) ,  ...  , x_(l) , y_(1) ,  ...  , y_(n))])]]"
      ]
     },
     "execution_count": 3,
     "metadata": {},
     "output_type": "execute_result"
    }
   ],
   "source": [
    "bundling = Forall((k, m),\n",
    "                  Forall((l, n),\n",
    "                         Forall((P, iterQ1k, iterR1m),\n",
    "                                Implies(generalNestedForall_Pxy, generalBundledForall_Pxy).withWrapBeforeOperator()),\n",
    "                         domain=NaturalsPos),\n",
    "                  domain=Naturals)"
   ]
  },
  {
   "cell_type": "markdown",
   "metadata": {},
   "source": [
    "**A statement of a $\\forall$ with multiple instance variables and disjoint conditions may be unravelled into nested $\\forall$ expressions:**"
   ]
  },
  {
   "cell_type": "code",
   "execution_count": 4,
   "metadata": {},
   "outputs": [
    {
     "data": {
      "text/html": [
       "<strong id=\"unraveling\"><a class=\"ProveItLink\" href=\"_proofs_/unraveling.ipynb\">unraveling</a>:</strong> <a class=\"ProveItLink\" href=\"__pv_it/684f68b789eb6a0aea7d00612882d04ed60d428f0/expr.ipynb\"><img src=\"__pv_it/684f68b789eb6a0aea7d00612882d04ed60d428f0/expr.png\" style=\"display:inline;vertical-align:middle;\" /></a><br>(alternate proof for <a class=\"ProveItLink\" href=\"#bundling\">bundling</a>)<br>"
      ],
      "text/plain": [
       "unraveling: forall_{k, m in Naturals} [forall_{l, n in NaturalsPos} [forall_{P, Q_(1),...,Q_(k), R_(1),...,R_(m)} ([forall_{x_(1),...,x_(l), y_(1),...,y_(n) | Q_(1)(x_(1),...,x_(l)) ,  ...  , Q_(k)(x_(1),...,x_(l)) , R_(1)(x_(1) ,  ...  , x_(l) , y_(1) ,  ...  , y_(n)) ,  ...  , R_(m)(x_(1) ,  ...  , x_(l) , y_(1) ,  ...  , y_(n))} P(x_(1) ,  ...  , x_(l) , y_(1) ,  ...  , y_(n))] =>  \\\\ [forall_{x_(1),...,x_(l) | Q_(1)(x_(1),...,x_(l)) ,  ...  , Q_(k)(x_(1),...,x_(l))} [forall_{y_(1),...,y_(n) | R_(1)(x_(1) ,  ...  , x_(l) , y_(1) ,  ...  , y_(n)) ,  ...  , R_(m)(x_(1) ,  ...  , x_(l) , y_(1) ,  ...  , y_(n))} P(x_(1) ,  ...  , x_(l) , y_(1) ,  ...  , y_(n))]])]]"
      ]
     },
     "execution_count": 4,
     "metadata": {},
     "output_type": "execute_result"
    }
   ],
   "source": [
    "unraveling = Forall((k, m),\n",
    "                    Forall((l, n), \n",
    "                           Forall((P, iterQ1k, iterR1m), \n",
    "                                  Implies(generalBundledForall_Pxy, generalNestedForall_Pxy).withWrapAfterOperator()),\n",
    "                           domain=NaturalsPos),\n",
    "                    domain=Naturals)"
   ]
  },
  {
   "cell_type": "markdown",
   "metadata": {},
   "source": [
    "**A statement of a $\\forall$ with multiple instance variables is equivalent to one with nested $\\forall$ expressions:**"
   ]
  },
  {
   "cell_type": "code",
   "execution_count": 5,
   "metadata": {},
   "outputs": [
    {
     "data": {
      "text/html": [
       "<strong id=\"bundledEquiv\"><a class=\"ProveItLink\" href=\"_proofs_/bundledEquiv.ipynb\">bundledEquiv</a>:</strong> <a class=\"ProveItLink\" href=\"__pv_it/93279413058a26fd50735b207a3723fca900e5670/expr.ipynb\"><img src=\"__pv_it/93279413058a26fd50735b207a3723fca900e5670/expr.png\" style=\"display:inline;vertical-align:middle;\" /></a><br>"
      ],
      "text/plain": [
       "bundledEquiv: forall_{k, m in Naturals} [forall_{l, n in NaturalsPos} [forall_{P, Q_(1),...,Q_(k), R_(1),...,R_(m)} ([forall_{x_(1),...,x_(l), y_(1),...,y_(n) | Q_(1)(x_(1),...,x_(l)) ,  ...  , Q_(k)(x_(1),...,x_(l)) , R_(1)(x_(1) ,  ...  , x_(l) , y_(1) ,  ...  , y_(n)) ,  ...  , R_(m)(x_(1) ,  ...  , x_(l) , y_(1) ,  ...  , y_(n))} P(x_(1) ,  ...  , x_(l) , y_(1) ,  ...  , y_(n))] =  \\\\ [forall_{x_(1),...,x_(l) | Q_(1)(x_(1),...,x_(l)) ,  ...  , Q_(k)(x_(1),...,x_(l))} [forall_{y_(1),...,y_(n) | R_(1)(x_(1) ,  ...  , x_(l) , y_(1) ,  ...  , y_(n)) ,  ...  , R_(m)(x_(1) ,  ...  , x_(l) , y_(1) ,  ...  , y_(n))} P(x_(1) ,  ...  , x_(l) , y_(1) ,  ...  , y_(n))]])]]"
      ]
     },
     "execution_count": 5,
     "metadata": {},
     "output_type": "execute_result"
    }
   ],
   "source": [
    "bundledEquiv = Forall((k, m),\n",
    "                      Forall((l, n),\n",
    "                             Forall((P, iterQ1k, iterR1m),\n",
    "                                    Equals(generalBundledForall_Pxy, generalNestedForall_Pxy).withWrapAfterOperator()),\n",
    "                             domain=NaturalsPos),\n",
    "                      domain=Naturals)"
   ]
  },
  {
   "cell_type": "markdown",
   "metadata": {},
   "source": [
    "** Induction to any number of $\\forall$ instance variables: **"
   ]
  },
  {
   "cell_type": "code",
   "execution_count": 6,
   "metadata": {},
   "outputs": [
    {
     "data": {
      "text/html": [
       "<strong id=\"forallInduction\"><a class=\"ProveItLink\" href=\"_proofs_/forallInduction.ipynb\">forallInduction</a>:</strong> <a class=\"ProveItLink\" href=\"__pv_it/c419823d923f90e48f3a62ad34e5f1f0fe4280630/expr.ipynb\"><img src=\"__pv_it/c419823d923f90e48f3a62ad34e5f1f0fe4280630/expr.png\" style=\"display:inline;vertical-align:middle;\" /></a><br>"
      ],
      "text/plain": [
       "forallInduction: forall_{P} ((P(()) and [forall_{l in Naturals} ([forall_{x | |x| = l} P(x)] =>  \\\\ [forall_{x | |x| = (l + 1)} P(x)])]) \\\\  => [forall_{l in Naturals} [forall_{x | |x| = l} P(x)]])"
      ]
     },
     "execution_count": 6,
     "metadata": {},
     "output_type": "execute_result"
    }
   ],
   "source": [
    "forallInduction = Forall(P, \n",
    "                                Implies(And(Function(P, [()]),\n",
    "                                            Forall(l, Implies(Forall(xx, Function(P, [xx]), conditions=[Equals(Len(xx), l)]),\n",
    "                                                              Forall(xx, Function(P, [xx]), conditions=[Equals(Len(xx), Add(l, num(1)))])).withWrapAfterOperator(),\n",
    "                                                   domain=Naturals)),\n",
    "                                        Forall(l, Forall(xx, Function(P, [xx]), conditions=[Equals(Len(xx), l)]),\n",
    "                                               domain=Naturals)).withWrapBeforeOperator())"
   ]
  },
  {
   "cell_type": "code",
   "execution_count": 7,
   "metadata": {},
   "outputs": [
    {
     "name": "stdout",
     "output_type": "stream",
     "text": [
      "Modifying theorem forallInduction in proveit.logic.boolean.quantification.universal context\n",
      "forallInduction expression notebook is being updated\n",
      "Theorems may be imported from autogenerated _theorems_.py\n"
     ]
    }
   ],
   "source": [
    "%end theorems"
   ]
  },
  {
   "cell_type": "code",
   "execution_count": null,
   "metadata": {},
   "outputs": [],
   "source": []
  }
 ],
 "metadata": {
  "kernelspec": {
   "display_name": "Python 3",
   "language": "python",
   "name": "python3"
  },
  "language_info": {
   "codemirror_mode": {
    "name": "ipython",
    "version": 3
   },
   "file_extension": ".py",
   "mimetype": "text/x-python",
   "name": "python",
   "nbconvert_exporter": "python",
   "pygments_lexer": "ipython3",
   "version": "3.7.1"
  }
 },
 "nbformat": 4,
 "nbformat_minor": 1
}
