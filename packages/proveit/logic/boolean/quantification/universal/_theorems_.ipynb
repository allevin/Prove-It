{
 "cells": [
  {
   "cell_type": "markdown",
   "metadata": {
    "collapsed": true,
    "deletable": true,
    "editable": true
   },
   "source": [
    "Theorems for context <a href=\"_context_.ipynb\" class=\"ProveItLink\">proveit.logic.boolean.quantification.universal</a>\n",
    "========"
   ]
  },
  {
   "cell_type": "code",
   "execution_count": 1,
   "metadata": {
    "collapsed": false,
    "deletable": true,
    "editable": true
   },
   "outputs": [
    {
     "name": "stdout",
     "output_type": "stream",
     "text": [
      "Defining theorems for context 'proveit.logic.boolean.quantification.universal'\n",
      "Subsequent end-of-cell assignments will define theorems\n",
      "'%end theorems' will finalize the definitions\n"
     ]
    }
   ],
   "source": [
    "from proveit import Function\n",
    "from proveit.logic import Forall, Implies, Booleans, And, Equals, TRUE, NotExists, Not, FALSE\n",
    "from proveit._common_ import k, l, m, n, xx, y, P, Q, Qy\n",
    "from proveit.logic._common_ import xIter1l, P_xIter1l, P_xIter1l_y, iterQ1k, iterQ1k_xIter1l, iterQ1k_xIter1l_y\n",
    "from proveit.logic._common_ import iterR1m, PofTrue, PofFalse\n",
    "from proveit.logic.boolean.quantification.universal._common_ import generalForall_Px, consolidatedConditionForall_Px, generalNestedForall_Pxy, generalBundledForall_Pxy\n",
    "from proveit.number import Naturals, NaturalsPos\n",
    "%begin theorems"
   ]
  },
  {
   "cell_type": "code",
   "execution_count": 2,
   "metadata": {
    "collapsed": true,
    "deletable": true,
    "editable": true
   },
   "outputs": [],
   "source": []
  },
  {
   "cell_type": "code",
   "execution_count": 2,
   "metadata": {
    "collapsed": false,
    "deletable": true,
    "editable": true
   },
   "outputs": [
    {
     "data": {
      "text/html": [
       "<strong id=\"consolidateConditions\"><a class=\"ProveItLink\" href=\"_proofs_/consolidateConditions.ipynb\">consolidateConditions</a>:</strong> <a class=\"ProveItLink\" href=\"__pv_it/2ea5b23f8e3e08d16c77bfb3af612d44c32ab1ad0/expr.ipynb\"><img src=\"__pv_it/2ea5b23f8e3e08d16c77bfb3af612d44c32ab1ad0/expr.png\" style=\"display:inline;vertical-align:middle;\" /></a><br>"
      ],
      "text/plain": [
       "consolidateConditions: forall_{k, l} [forall_{P, Q_(1),...,Q_(k) in NaturalsPos} ([forall_{x_(1),...,x_(l) | Q_(1)(x_(1),...,x_(l)) ,  ...  , Q_(k)(x_(1),...,x_(l))} P(x_(1),...,x_(l))] =>  \\\\ [forall_{x_(1),...,x_(l) | Q_(1)(x_(1),...,x_(l)) and  ...  and Q_(k)(x_(1),...,x_(l))} P(x_(1),...,x_(l))])]"
      ]
     },
     "execution_count": 2,
     "metadata": {},
     "output_type": "execute_result"
    }
   ],
   "source": [
    "consolidateConditions = Forall((k, l), Forall((P, iterQ1k),\n",
    "                                              Implies(generalForall_Px, \n",
    "                                                      consolidatedConditionForall_Px).withWrapAfterOperator(),\n",
    "                               domain=NaturalsPos))"
   ]
  },
  {
   "cell_type": "markdown",
   "metadata": {
    "deletable": true,
    "editable": true
   },
   "source": [
    "**A statement of nested $\\forall$ expressions may be bundled together into a single $\\forall$:**"
   ]
  },
  {
   "cell_type": "code",
   "execution_count": 3,
   "metadata": {
    "collapsed": false,
    "deletable": true,
    "editable": true
   },
   "outputs": [
    {
     "data": {
      "text/html": [
       "<strong id=\"bundling\"><a class=\"ProveItLink\" href=\"_proofs_/bundling.ipynb\">bundling</a>:</strong> <a class=\"ProveItLink\" href=\"__pv_it/3e082614a9e12c46e1c920fac5ba33af307154ec0/expr.ipynb\"><img src=\"__pv_it/3e082614a9e12c46e1c920fac5ba33af307154ec0/expr.png\" style=\"display:inline;vertical-align:middle;\" /></a><br>"
      ],
      "text/plain": [
       "bundling: forall_{k, m in Naturals} [forall_{l, n in NaturalsPos} [forall_{P, Q_(1),...,Q_(k), R_(1),...,R_(m)} ([forall_{x_(1),...,x_(l) | Q_(1)(x_(1),...,x_(l)) ,  ...  , Q_(k)(x_(1),...,x_(l))} [forall_{y_(1),...,y_(n) | R_(1)(x_(1) ,  ...  , x_(l) , y_(1) ,  ...  , y_(n)) ,  ...  , R_(m)(x_(1) ,  ...  , x_(l) , y_(1) ,  ...  , y_(n))} P(x_(1) ,  ...  , x_(l) , y_(1) ,  ...  , y_(n))]] \\\\  => [forall_{x_(1),...,x_(l), y_(1),...,y_(n) | Q_(1)(x_(1),...,x_(l)) ,  ...  , Q_(k)(x_(1),...,x_(l)) , R_(1)(x_(1) ,  ...  , x_(l) , y_(1) ,  ...  , y_(n)) ,  ...  , R_(m)(x_(1) ,  ...  , x_(l) , y_(1) ,  ...  , y_(n))} P(x_(1) ,  ...  , x_(l) , y_(1) ,  ...  , y_(n))])]]"
      ]
     },
     "execution_count": 3,
     "metadata": {},
     "output_type": "execute_result"
    }
   ],
   "source": [
    "bundling = Forall((k, m),\n",
    "                  Forall((l, n),\n",
    "                         Forall((P, iterQ1k, iterR1m),\n",
    "                                Implies(generalNestedForall_Pxy, generalBundledForall_Pxy).withWrapBeforeOperator()),\n",
    "                         domain=NaturalsPos),\n",
    "                  domain=Naturals)"
   ]
  },
  {
   "cell_type": "code",
   "execution_count": 4,
   "metadata": {
    "collapsed": true,
    "deletable": true,
    "editable": true
   },
   "outputs": [],
   "source": []
  },
  {
   "cell_type": "markdown",
   "metadata": {
    "deletable": true,
    "editable": true
   },
   "source": [
    "**A statement of a $\\forall$ with multiple instance variables and disjoint conditions may be unravelled into nested $\\forall$ expressions:**"
   ]
  },
  {
   "cell_type": "code",
   "execution_count": 4,
   "metadata": {
    "collapsed": false,
    "deletable": true,
    "editable": true
   },
   "outputs": [
    {
     "data": {
      "text/html": [
       "<strong id=\"unraveling\"><a class=\"ProveItLink\" href=\"_proofs_/unraveling.ipynb\">unraveling</a>:</strong> <a class=\"ProveItLink\" href=\"__pv_it/60a6cf375fd9906ce0cd2b380f8e81f1b0bba2a60/expr.ipynb\"><img src=\"__pv_it/60a6cf375fd9906ce0cd2b380f8e81f1b0bba2a60/expr.png\" style=\"display:inline;vertical-align:middle;\" /></a><br>"
      ],
      "text/plain": [
       "unraveling: forall_{k, m in Naturals} [forall_{l, n in NaturalsPos} [forall_{P, Q_(1),...,Q_(k), R_(1),...,R_(m)} ([forall_{x_(1),...,x_(l), y_(1),...,y_(n) | Q_(1)(x_(1),...,x_(l)) ,  ...  , Q_(k)(x_(1),...,x_(l)) , R_(1)(x_(1) ,  ...  , x_(l) , y_(1) ,  ...  , y_(n)) ,  ...  , R_(m)(x_(1) ,  ...  , x_(l) , y_(1) ,  ...  , y_(n))} P(x_(1) ,  ...  , x_(l) , y_(1) ,  ...  , y_(n))] =>  \\\\ [forall_{x_(1),...,x_(l) | Q_(1)(x_(1),...,x_(l)) ,  ...  , Q_(k)(x_(1),...,x_(l))} [forall_{y_(1),...,y_(n) | R_(1)(x_(1) ,  ...  , x_(l) , y_(1) ,  ...  , y_(n)) ,  ...  , R_(m)(x_(1) ,  ...  , x_(l) , y_(1) ,  ...  , y_(n))} P(x_(1) ,  ...  , x_(l) , y_(1) ,  ...  , y_(n))]])]]"
      ]
     },
     "execution_count": 4,
     "metadata": {},
     "output_type": "execute_result"
    }
   ],
   "source": [
    "unraveling = Forall((k, m),\n",
    "                    Forall((l, n), \n",
    "                           Forall((P, iterQ1k, iterR1m), \n",
    "                                  Implies(generalBundledForall_Pxy, generalNestedForall_Pxy).withWrapAfterOperator()),\n",
    "                           domain=NaturalsPos),\n",
    "                    domain=Naturals)"
   ]
  },
  {
   "cell_type": "markdown",
   "metadata": {
    "deletable": true,
    "editable": true
   },
   "source": [
    "**A statement of a $\\forall$ with multiple instance variables is equivalent to one with nested $\\forall$ expressions:**"
   ]
  },
  {
   "cell_type": "code",
   "execution_count": 5,
   "metadata": {
    "collapsed": false,
    "deletable": true,
    "editable": true
   },
   "outputs": [
    {
     "data": {
      "text/html": [
       "<strong id=\"bundledEquiv\"><a class=\"ProveItLink\" href=\"_proofs_/bundledEquiv.ipynb\">bundledEquiv</a>:</strong> <a class=\"ProveItLink\" href=\"__pv_it/42884c51f62630964f1d4af1caa61c63c6a426980/expr.ipynb\"><img src=\"__pv_it/42884c51f62630964f1d4af1caa61c63c6a426980/expr.png\" style=\"display:inline;vertical-align:middle;\" /></a><br>"
      ],
      "text/plain": [
       "bundledEquiv: forall_{k, m in Naturals} [forall_{l, n in NaturalsPos} [forall_{P, Q_(1),...,Q_(k), R_(1),...,R_(m)} ([forall_{x_(1),...,x_(l), y_(1),...,y_(n) | Q_(1)(x_(1),...,x_(l)) ,  ...  , Q_(k)(x_(1),...,x_(l)) , R_(1)(x_(1) ,  ...  , x_(l) , y_(1) ,  ...  , y_(n)) ,  ...  , R_(m)(x_(1) ,  ...  , x_(l) , y_(1) ,  ...  , y_(n))} P(x_(1) ,  ...  , x_(l) , y_(1) ,  ...  , y_(n))] =  \\\\ [forall_{x_(1),...,x_(l) | Q_(1)(x_(1),...,x_(l)) ,  ...  , Q_(k)(x_(1),...,x_(l))} [forall_{y_(1),...,y_(n) | R_(1)(x_(1) ,  ...  , x_(l) , y_(1) ,  ...  , y_(n)) ,  ...  , R_(m)(x_(1) ,  ...  , x_(l) , y_(1) ,  ...  , y_(n))} P(x_(1) ,  ...  , x_(l) , y_(1) ,  ...  , y_(n))]])]]"
      ]
     },
     "execution_count": 5,
     "metadata": {},
     "output_type": "execute_result"
    }
   ],
   "source": [
    "bundledEquiv = Forall((k, m),\n",
    "                      Forall((l, n),\n",
    "                             Forall((P, iterQ1k, iterR1m),\n",
    "                                    Equals(generalBundledForall_Pxy, generalNestedForall_Pxy).withWrapAfterOperator()),\n",
    "                             domain=NaturalsPos),\n",
    "                      domain=Naturals)"
   ]
  },
  {
   "cell_type": "markdown",
   "metadata": {
    "deletable": true,
    "editable": true
   },
   "source": [
    "** Induction to any number of $\\forall$ instance variables: **"
   ]
  },
  {
   "cell_type": "code",
   "execution_count": 6,
   "metadata": {
    "collapsed": false,
    "deletable": true,
    "editable": true
   },
   "outputs": [
    {
     "data": {
      "text/html": [
       "<strong id=\"forallInduction\"><a class=\"ProveItLink\" href=\"_proofs_/forallInduction.ipynb\">forallInduction</a>:</strong> <a class=\"ProveItLink\" href=\"__pv_it/df95824327f25885324fd3576e8aee5af583b2eb0/expr.ipynb\"><img src=\"__pv_it/df95824327f25885324fd3576e8aee5af583b2eb0/expr.png\" style=\"display:inline;vertical-align:middle;\" /></a><br>"
      ],
      "text/plain": [
       "forallInduction: forall_{k in Naturals} [forall_{P, Q_(1),...,Q_(k)} ((P() and [forall_{l in Naturals} ([forall_{x_(1),...,x_(l) | Q_(1)(x_(1),...,x_(l)) ,  ...  , Q_(k)(x_(1),...,x_(l))} P(x_(1),...,x_(l))] =>  \\\\ [forall_{x_(1),...,x_(l), y | Q_(1)(x_(1) ,  ...  , x_(l) , y) ,  ...  , Q_(k)(x_(1) ,  ...  , x_(l) , y)} P(x_(1) ,  ...  , x_(l) , y)])]) \\\\  => [forall_{l in Naturals} [forall_{x_(1),...,x_(l) | Q_(1)(x_(1),...,x_(l)) ,  ...  , Q_(k)(x_(1),...,x_(l))} P(x_(1),...,x_(l))]])]"
      ]
     },
     "execution_count": 6,
     "metadata": {},
     "output_type": "execute_result"
    }
   ],
   "source": [
    "forallInduction = Forall(k, \n",
    "                         Forall((P, iterQ1k), \n",
    "                                Implies(And(Function(P, []),\n",
    "                                            Forall(l, Implies(Forall(xIter1l, P_xIter1l, conditions=[iterQ1k_xIter1l]),\n",
    "                                                              Forall((xIter1l, y), P_xIter1l_y, conditions=[iterQ1k_xIter1l_y])).withWrapAfterOperator(),\n",
    "                                                   domain=Naturals)),\n",
    "                                        Forall(l, Forall(xIter1l, P_xIter1l, conditions=[iterQ1k_xIter1l]),\n",
    "                                               domain=Naturals)).withWrapBeforeOperator()),\n",
    "                        domain=Naturals)"
   ]
  },
  {
   "cell_type": "code",
   "execution_count": 7,
   "metadata": {
    "collapsed": false,
    "deletable": true,
    "editable": true
   },
   "outputs": [
    {
     "name": "stdout",
     "output_type": "stream",
     "text": [
      "Theorems may be imported from autogenerated _theorems_.py\n"
     ]
    }
   ],
   "source": [
    "%end theorems"
   ]
  },
  {
   "cell_type": "code",
   "execution_count": 8,
   "metadata": {
    "collapsed": true,
    "deletable": true,
    "editable": true
   },
   "outputs": [],
   "source": []
  }
 ],
 "metadata": {
  "kernelspec": {
   "display_name": "Python 2",
   "language": "python",
   "name": "python2"
  },
  "language_info": {
   "codemirror_mode": {
    "name": "ipython",
    "version": 2
   },
   "file_extension": ".py",
   "mimetype": "text/x-python",
   "name": "python",
   "nbconvert_exporter": "python",
   "pygments_lexer": "ipython2",
   "version": "2.7.11"
  }
 },
 "nbformat": 4,
 "nbformat_minor": 0
}
