{
 "cells": [
  {
   "cell_type": "markdown",
   "metadata": {},
   "source": [
    "Axioms for context <a href=\"_context_.ipynb\" class=\"ProveItLink\">proveit.logic.boolean.quantification.existential</a>\n",
    "========\n",
    "\n",
    "Unlike `Forall`, `Exists` is not fundamentally defined in the core of **Prove-It**.  It must be defined via its relationship with `Forall`."
   ]
  },
  {
   "cell_type": "code",
   "execution_count": 1,
   "metadata": {},
   "outputs": [
    {
     "name": "stdout",
     "output_type": "stream",
     "text": [
      "Defining axioms for context 'proveit.logic.boolean.quantification.existential'\n",
      "Subsequent end-of-cell assignments will define axioms\n",
      "%end_axioms will finalize the definitions\n"
     ]
    }
   ],
   "source": [
    "from proveit.logic import TRUE, inBool, Forall, Exists, NotExists, Not, Equals, NotEquals\n",
    "from proveit.number import Naturals, NaturalsPos\n",
    "from proveit._common_ import k, l, P\n",
    "from proveit.logic._common_ import iterQ1k\n",
    "from proveit.logic.boolean.quantification.universal._common_ import generalForall_Py, generalForall_PyNotT\n",
    "from proveit.logic.boolean.quantification.existential._common_ import generalExists_Px, generalExists_Py, generalNotExists_Px\n",
    "%begin axioms"
   ]
  },
  {
   "cell_type": "markdown",
   "metadata": {},
   "source": [
    "**Defines the $\\exists$ operation generically for any number of instance variables or conditions by equating it to an equivalent expression in terms of $\\forall$**:"
   ]
  },
  {
   "cell_type": "code",
   "execution_count": 2,
   "metadata": {},
   "outputs": [
    {
     "data": {
      "text/html": [
       "<strong id=\"existsDef\">existsDef:</strong> <a class=\"ProveItLink\" href=\"__pv_it/66b5914e5f5e2a2fdef7b5fd5c1466a0a410937d0/expr.ipynb\"><img src=\"data:image/png;base64,iVBORw0KGgoAAAANSUhEUgAAA0EAAAAzCAMAAABmIfO8AAAAPFBMVEX///8LCwsYGBgNDQ0oKCgQ\n",
       "EBC6urrMzMxUVFRmZmZERETc3NwyMjKqqqp2dnaIiIiYmJgiIiLu7u4AAACwKje0AAAAAXRSTlMA\n",
       "QObYZgAADOxJREFUeNrtXdmigyoSdOaOgCvb///rsCq7ikvOjeHhLIZQEbvobmwrTfNr262nlA6/\n",
       "afhXNiCu3fxl59Ry0T54UjM4+g76M8R/cxvQJcMwxHw7knbcfoRBE4SQfWw+u+Pk/THoxyDpzkbP\n",
       "apkw4+kzDIKfnM65YjoVgwbbfiZ5WYSFbxycgKsZ1JAxPALfx6Cpxp+o9yDTWvYz/eMNI87l7FG0\n",
       "rkAQ3QrZwasZ1KDu9QwaqsA91vU/J1TVuF7A+3aZv/HmtWi8nEEiA3k7g8aqHYwfg843aDaPpmUT\n",
       "CeObIcl8OYOmIAJ5HYMmzn4M+lAYx3VeQriNhG4Ph1l7OYOasXs3g9q6TfQfg863nptUgptACJgg\n",
       "i3UjHSEY6Rk7Tw/ST5czCPDhzQwidS7ox6Dr0iDGe5vo69WM0UneIqQM8/qoLjPI3F3OoMAJvY1B\n",
       "tcucYtBMdeMPMmg4OVXTnwE2aRCkiwGORPsk+YsLw+dcHYB9BZw/CENmpZzGmEHd6LQKe/BX4Zcx\n",
       "CHBwgkFX+yD/szA8Utoif2qGs5UbcHOAJO4NwJijeZ67eZ28Vk+A7DhwsSwR6T1gh2puN/iDNMCM\n",
       "AdrrfVDjebmXMairPd1bGOSttVMrh2W9z/H+NMhWBVMa9wbgPgqgHUjiFMdMtQUgziAmehOO7wYG\n",
       "eRR/GYPa7q8yaDLZwcBdqOn8di8bywRK4t4BzCNiOAxCHJ1nkDOICRDvYdDkhvHvYhDk0x9lEON2\n",
       "hebuUn0FEipNdgb3BmDIo9XL3JycZrkHICmLh2oGBYNYG09FcR11Wo2vZW4Y9y4GYc6uYhBDPe3m\n",
       "cdxxJtmuztWbl+WTuwtcW3z/PqzibcsMrgY+eZI+MI5T0J4YEgORwQBZLuL5oOVaxX9Eh4JBFrMm\n",
       "4w0+qHF5J6DYpxj0PHBfvV5EDKKwARwN2gBR8VScrtBGFyGDWusdIefriHAM3r8FlcICJesJcJGJ\n",
       "vDTwyZP0geM0yCQrg4gjUSuMfxiByyBmw774j/hQMAju/XzoYgYh7jFoNQ6CH2XQ88Btf4pBo93N\n",
       "Zs2A5ao6DfIuBJzbUszjdm16mGbQ4gGUU7AjKhs8AJXEgqVEyMdtJhNpaeM/eZIOMOt6zlF4lc2G\n",
       "GaZ0ZqgdDYEWBrXmszF72ZY/3EOmkz9Ib6HMmBczCDv+WjBoXnKDkT3KoMeBWf1TfanQfF1VNx9f\n",
       "Xbq2TY5BtgOH64gTOg4VYW0wyMPtzCVZgM+cJBw37SA55JIHgT3JWLJTC6EhWHMHgyYnnxYMGuyF\n",
       "HPrmUQY9Dgw4uYxB49y04uBAto3L6eqfqfPPyKHIJEDTmSRVjwj6g1ApLFCa3QCXMoDR+p5zJwk2\n",
       "LyuZiwzadbVIcqls9DTO+BYGQWcrQaZc1gN007MMehyYVG/FRQyCfAZyH1jXXWnjGsZB/mDOD3nI\n",
       "7eqbjJuPctqBhiLLcT0io/uhsljyd65/iNuSgRELnEI+CrzREsHHMI+8w+cY1CAd37Abnm7QDO08\n",
       "BpFZP3n53JPMhkFPA2MOr2JQg/qe0H6cHHuH0gwhH5wf6pDTFWVvlw6opSMXFuWOKHzCbqgslmBI\n",
       "vr+PC0ZsTE0BJ5CPAm+0omXvSo6LnZZn+S5mUMN7j0Hif9ke1DOxu9kPA3f1BW1lktsAh2wtkZRl\n",
       "9uLsHg/ukDsing5AZbDG7f4WFxPhFUga2CIfBd6g0J17SBg2NzGoHX0G6Vtf9iZauqSwMv6Ziwzy\n",
       "gKeed12Hlnt56XqtvGfd7o6qbwcVGQRxq4MGGBM0ONThocQgzPXe2DIi6/dDZbB0dUG5v8UVa/aM\n",
       "QQp4QT4K/Dfa1Qyi1GeQ2ru0MaMqKcTuYzSq0BXWOYquyCAPuCFq42Q2Hy5Tr5XdHtnR3d3GPzxl\n",
       "O/TiyK5DBQYNbfgM8UT2R//prmhH/xj3MuA/0KRe3NUMan0GqRUWE/eyUuB9hCYqFIRjJ+Nc3Has\n",
       "dLjMIA+4QUin+0xvGCbrtfL7izu6n2DQLW3PZSUnyzfmWrf7MeB/QxtDBkkjpuaBCqw3G9zzVzd2\n",
       "ratgWMRaoj/p1SSFExUc3mCQAyz+UFTSt8Vz9VrZzZE93SsY9NMqfV3bI3EaMUiww+oO6TQEeCu5\n",
       "rtLQKQbuwcCYsFJCsOSHpAqY1lXLOdwpaSOEpjyDHGDBAvV+bbC5eq3cgrerewWDfkqLb2ybaVMU\n",
       "xQne2C3I1nodgHu7mmujVIWCpFu9/AQHrJ2NuqGjX3IPb/sgB7gBXD6AZUK6dJ1Yfm8kXd4V7cXl\n",
       "RskK/0kG/dThTi3puO61c43k0uF52PEew6DsINFOgqyHojaPMV5nAsyu5qaPSvtHN06eGYGaKoJC\n",
       "hlve4W0GLcDi3FyzT9eJZVumvCtiUGaUvPAfbT5Rv/dFzU7t03qLXTqNGxwji55yiAQau1wuGO5m\n",
       "y0PY2R0TFum+1xS6SnI5O3IyZpub2TiHzmo5+oc3GbQAC3fUeZRI1YkVGJQs7wpa9o5qvi5P7aE8\n",
       "Xzj4RTn3MmUP6y2mwxAUuRXYxe9ZorjcLa3wjqo0fHMyuqQQtsQpwzeFropBVN0DlUckVQbCzD4A\n",
       "pmRl0Hp4m0FknWHX7NN1YvnpSpd3hW46s9VdeIJGMugDhYNf09apfVpvMVlTNMSUcBkUCTRmCpPC\n",
       "qh4vMu2N1xEvwMXeoX2JIc8HNQBixQARwqEpPiw+yxaD1k9iQ6xUvdZGOViuvCsMuzOVpQXhP+qu\n",
       "lc8VDn5NW6f2ab1F1u5yQR6DolJuln6gLKws9XCp8TqQypIjaZ620FXxcY1i9f0CohIelQNp+3IP\n",
       "5+c1ZpCsJzSPlcT1WpvlYLnyrnDpSC4pYNzYi3u+cPBrthHWqc3qLc5jS4Ls/HBLjdHH611KR8tl\n",
       "UCzQ2CcXzeDphsBkpOnLZb3HtiLRFLqqQkHWA3v++i9VC98teZd7+BCDPAe8LBlhndjR8q4QNxmG\n",
       "lb5OiJqw9+HCwW9pztTm9BbnrlFPyU28/n53cow5ziB6uMGg6JHWuUsn1EOeQWFJIQnTrNnkQad8\n",
       "e5FBcb3WznKwuLwrnMGkUx7JFoP8wsEH2jm5w+nPwK5Tm9NbFHGSknkTKWzfVKotemOEYouKrFpd\n",
       "8X//JDQWPQZFAo1TMj4JnvIOPk2fMc8rCwXLDCrUax0u7wrXjlRwaYT/nM3NOWCQX793NrLx5/sG\n",
       "ncUPqSwmYFuwTn1abxHiZlbuiYrcolJt0RsjFFvccEE+gyJpH5Bcc9u+wKCgpHD958q9+7+ldhXt\n",
       "0Dn3Kej6C5NrPsQDOosfUlmMYVeAgt6iEqliXN1qqNWKc8YIxBYdeiRN2GNQJC8HeTKfLqtdpUsK\n",
       "Ly0U/FuKizsY5NXvXcigm3QWP6SyGMOuU5vXW4QqAAM6halkkDtGILbohJTDRQwi71VcTKv+RqFf\n",
       "zCC3fu9CBt2ms/ghlcUIdpnavN6i0erVYVgtg9wxArHFJUD/73+SGosVUdybVX9BqiqhJ5sMWuv3\n",
       "AJJZEmu3Q7pcz506i6eQTqgs7oeNu0awy9Rm9Ral9Uu7H/VOw8KggtxiQnfRGSMUW9xwQT6DIoFG\n",
       "kvLm3k2R1337SSKMi3csYcQgW7/HqLhO8orJy18sd3V6VuksnkKqV1ncD5vAjWCXqc3qLcpYslXb\n",
       "qMBlUEFuMaG76I4Rii2Ws6Ca3exXf/uJOPvEUlqIHJaXTP3eMEl1zAZJFZENDcK1Z43O4jmkEyqL\n",
       "u2ETuBGsntqi3qJkTUt7E1AuDMrLLbq6i4sPXccIxRY3XJC/gxgJNI6JPRl/P/x93wKZiG8KhrIw\n",
       "aKnfw3IFb/WjveXEYe1Zp7N4AumMyuJ+2Ag3hi1x0LwG1IcwmxtrHnRIbtEZIxRbXIKIPVshe6p6\n",
       "Xv4tkM2UOOGCsFnsnmQ8wnQmsWFgS88qncVTSCdUFg/ARrgxbEkzTr+m6ggG6xdXBh0Ri3PGiMQW\n",
       "7YXcs5MaCTTOifW2f/k3EUtxzfgY288geT/a2l5JaNHpWaOzeA5J/c51L6os7oPN4Cb4UnqCQb2G\n",
       "RV4+UH171VFbPMQgd4xQbPGICwqfbkjdFQBBQez7GDQkAosB7WfQMNLRC7pyQotrzyqdxVNIqoYx\n",
       "372ksrgLNoOb0FgsPTCtX5NbzfHdxmNyi/EYaDjugiKBRpTwwTS49/E+BiVLnQa8l0GsG2yWsCG0\n",
       "uPas01k8gzSWuvuoocriTtgkbir7Kmkq3qe3iAMLA4feYxiEE2bahc7shQyKJ6HZsRe3Js9EBC5q\n",
       "id8QWlx71uksnkAy1QVFBcicyuI+2CTu9C0PwecdZ7z8fohBE4Twc09MHygtp3EQ14+Bc8+s9Ime\n",
       "aQZldBZPIKFtF5RVWdwHm8RFzbczCPhpHRNmPH2GQWL94x982qYDuxl0vV7c/TqLH1JZ/BKNxYLE\n",
       "Kev9U5ylHbf/B1Qk5U0GrSvYAAAAAElFTkSuQmCC\n",
       "\" style=\"display:inline;vertical-align:middle;\" /></a><br>"
      ],
      "text/plain": [
       "existsDef: forall_{(k, l) in Naturals * NaturalsPos} [forall_{P, Q_1,...,Q_k} ([exists_{x_1,...,x_l | Q_1(x_1,...,x_l) ,  ...  , Q_k(x_1,...,x_l)} P(x_1,...,x_l)] =  \\\\ [not](forall_{y_1,...,y_l | Q_1(y_1,...,y_l) ,  ...  , Q_k(y_1,...,y_l)} (P(y_1,...,y_l) != TRUE)))]"
      ]
     },
     "execution_count": 2,
     "metadata": {},
     "output_type": "execute_result"
    }
   ],
   "source": [
    "existsDef = Forall((k, l), Forall((P, iterQ1k), \n",
    "                                  Equals(generalExists_Px, Not(generalForall_PyNotT)).withWrapAfterOperator()),\n",
    "                  domains=[Naturals, NaturalsPos])"
   ]
  },
  {
   "cell_type": "markdown",
   "metadata": {},
   "source": [
    "The equivalent expression to saying \"there exists an instance of $x_1, \\ldots, x_l$ variables for which the set of $Q_{1}, \\ldots, Q_{k}$ conditions are satisfied such that $P(x_1, \\ldots, x_l)$ is true\" is to say that the following is *not* true: \"for all occurrences of $x_1, \\ldots, x_l$ for which the set of $Q_{1}, \\ldots, Q_{k}$ conditions are satisfied,$P(x_1, \\ldots, x_l)$ is not equal to `TRUE`\".  That is, \"there exists appropriately constrained operands of $P$ for which the $P$ operation is true\" means that \"it is *not* the case that all appropriately constrained operands of $P$ cause the $P$ operation to *not* evaluate to true\".  This is expressed in a way that does not assume that the $P$ operation returns a Boolean, exploiting the fact that `Equals` ($=$) is defined to always evaluate to a Boolean and therefore `NotEquals` ($\\neq$) as well.  Existence in this context means that the $P$ operation evaluates to true for some instance of appropriately constrained operands but it does not mean that the $P$ operation always evaluates to a Boolean under this constraint."
   ]
  },
  {
   "cell_type": "markdown",
   "metadata": {},
   "source": [
    "**Defines the $\\nexists$ operation generically for any number of instance variables or conditions by equating it to the negation of the corresponding $\\exists$ operation**:"
   ]
  },
  {
   "cell_type": "code",
   "execution_count": 3,
   "metadata": {},
   "outputs": [
    {
     "data": {
      "text/html": [
       "<strong id=\"notExistsDef\">notExistsDef:</strong> <a class=\"ProveItLink\" href=\"__pv_it/47a1fee95fb1ee8ddc2c9bfa4b7f46b4bd38f3a60/expr.ipynb\"><img src=\"data:image/png;base64,iVBORw0KGgoAAAANSUhEUgAAAwEAAAAzBAMAAAA9axkdAAAAMFBMVEX///8QEBC6urrMzMxUVFRm\n",
       "ZmZERETc3NwyMjKqqqp2dnaIiIiYmJgiIiLu7u4AAAAU9Wx4AAAAAXRSTlMAQObYZgAADV1JREFU\n",
       "eNrlXAuMXFUZ/mfuvB93BxAQbNkhoNQQ0kFQSgnulK6tomXXCmoh2BHjFgKkl9CwVcBd3oh9DCJg\n",
       "QNKR2FAglgF5SED3xgYlRdhp5FEap52a0jSBusu23W27bcfzuveec+5jdmaWzLaeZO/c13/uuec7\n",
       "5z///803C9DyEip/gLbRChyTxV/e8llV7atWC83Yx9JsJ0m2kWMUAYBlDud20LeNVaupJhB46Lym\n",
       "Ou1KEBBIwv8TAv5V5EM978JmEMg01a5YlkMg3Nv7SO9R4VOKdd3+NzcE4E32qbQOgSeAQyDQ2bl5\n",
       "ztR1Qy9WOzvf1fDe+fUZBjNuCAS6W41A+AQQvdDckDZ1h/5+FC+cjHdW1WnY74YAnNJqBCIFCYHS\n",
       "FEZAOYhiNfQH8WKdlhtdEXiw0mIE1lREBMK5KYxAfAQgsQ+/c72ecrsrApHuFiNwKogIJIpTGIHQ\n",
       "MHLcB9DODPT30cq7Zrzrebv6w81fWUkDjVDeDQH/WGsRSByREAhkpjACbcidD+VoBK1+CO1bBzy9\n",
       "0e687/DH4zTi63ZDAO5pLQLJrIBArLytvK0hBG6ucT3vFQ3UeIOosdNRAOU9vLMCDRUdqsWqDkrO\n",
       "1e470Dbedgh2oFEW7TcQCN5PivXeg5WWIjAzLc2BXTCROcCsPl65aS7rxFpp+Wz5hGULP6+1ABuV\n",
       "D1z6zJWkdcejwQLhqvYWKJeXXO0K0DeWKIIf3eFPuc6BtmJLEfguSAg8NiEE6LiLnqSpSykYoQlz\n",
       "H8a4tmwhV8v4Sfa51FiAR4gH/ZRUVPIwHEwxD6QMuyIQKLUUgRNlBJ6uA4E16KOPdsDjtSzUfikG\n",
       "s2yjNUPLXezzMPAIBPbWRKALO5uI7olAdKyVCCgHZARWTRwBtYqGZBtdypfUNJkrAsLZ1n5ggL6i\n",
       "so9Lo6IF3zjENS8EHoP2IrwCbRrvhYJlUqx5p463EoH4ERmBEuoQdd576+6y3bvjxivvz/AIxPAY\n",
       "bKPBXEq8br2eWdVrolPibH38bY5PZAlYfMS4cgOKiUb6RuAmOgdUfK5ibIwjtXpWNR1OwbnYY/W7\n",
       "zgF4nyFQaQIBteEAOyUhoGQRAsnMzPmohy4T7/2Xf29fVllhIeDDE6hjGAIVUPrZdXwgxFqkqlnI\n",
       "D5wpNprZfhN9zDJuc32inwX15nhZi1xYbs5I+E6KwBBGAbsosjGOwqOB9vTyNLzsHY1CF0OATKa3\n",
       "GkOA5VIN2OZEBCKbppe3VW6FgUc/hNkniyFjMX7g9jz8xEKADOHnssrvNdxF9Do+4AutKpQh/cwH\n",
       "INQWHgaCTY0nKmQR+WjpXuMVz0ETorx+zv1pisB2VJt6ErDNdtQ6tR214y9bdnweYXQ9XgvS7ggM\n",
       "aBSBpxshnBgCMRxtN/LVylBBmgPM45Kg4wN5whyh7sZEAB+3I/yRM84a15OyU8dV+cCGALNdhD5+\n",
       "U/OJSr/8ztZTyDpwlj3Vte44IePFSqCgIE8RuIWQMo0hQOxuaSQd0CUEkpStmw632frjAV8prLMW\n",
       "km1kz45rguOk0/05dl1GgFaFm/Yl8Tyz3Xp2Fl+p8US/3C+JgoiAbk/2raVoGM2cZz0Q6ChSBPAQ\n",
       "DuYbXInx3FnUgO1gXkKAxH0dT47Cdbg/wvfB8kp4Fd7cpxycmQvl2auTHlEOL0x26QQBtQT0Oj6w\n",
       "rJZrtKqNhJ1crtGq0EYzbKf9Qofd3BOtm/gnJmz5nukswuv2Fb0RgEvzNBZ2Q2ComyKQeKq39/ZG\n",
       "Y6GNvb29pQZsBzLySkyCv563r83j/lAOQYemjOHNIZh3w/u/hECayweWTV+9Kkodz1ag1/GBZdWh\n",
       "06ouQTcvhA6dVoU2OrP1/wq5r2TFeqJ1E//EYFpuuNibcfubiYtiQPNAoC3HotHRnp4tjSLQ1tNz\n",
       "Y6EB28WaHI1y5QN+JLG95CdCFhsYv5wi8KpZicZbsbG5VSffkejCeWwb11fpEM9zT7Ru4p4YsVNJ\n",
       "9YUdfwIPBHz9DIG5NK+5eUJsVkxEAC2gOK95ZN8V8zSRcxGC8z+XPydG7F0VdwQuOjUPF5hHbC/4\n",
       "ioBAvDoGyvMoiNhppHj4wLRSGMBXaTjxVTThPLYNaM+mQc1xT7Ru4p74OExGcUMgWWIInEm8VbgA\n",
       "z5PRrHZVZrvXFhQRQNEg9uCJFMRKIufClweXwM4ReyhstqQsxyLSqJVZCdTa49goiepOVpwzDtgm\n",
       "lGkLv3P031yN2Unof3/Z7cuEZIohkERzklBcyTSLeQ02a9YV6fiJdLQq9yyE539kQwBlE6/j18wS\n",
       "wp/jXAQCZBS99mF3BOoo9i7ZUMNivce1RI2sPlaBz7JEDATiOlqS8IQbqrC8D88J9aUr9ERuvfkG\n",
       "f49VcINkBF7HayEkdQj0C5yLsObjU9XKhBAI2efDMVLs2jkTAbX/fEpxnUMvrCBLw8tn/beSeCuI\n",
       "EPgyGSz/LHbHKsHOBZ3fEhDYpeBhOZSBtzWBc+HLc/iWqjYhBI5d3ZZ9PTC9ECy5hGaAa/0v44E6\n",
       "htmsBI5VExdeUFyPk4U30Gx/6FanORBahj3WzGfW6gJfI5R25HeVKp4lVizE33K2iAAKcHu1qd+f\n",
       "Z9dzs6HcSqSdVmJ4uETz7xW/HtKMxTlC/eT6DcgLLcJwbIh9MtsBgejVeHcdSHyNUPDwR/Mj2u0c\n",
       "jSpZEYFOVE6bot0e79rbuWC+rdU1i6nc+p5TNAq+ImUB91FGNoe5lNkUgVjsMmT+DbLiFf7ggAB8\n",
       "AW9+ChJfIyKAGZo9QuLNZ2QRh8h0yVQd+fg7+x9r9bNhRm4cccrIIIEqi2ZBmUYY4FARI3BxT09P\n",
       "MZEJv4MW2vi/CQK37XZC4B28OQASXyOU1V+fl15chOR/XrRYCW42vgZHEQIdKGJfU7B97VCzGMot\n",
       "nucwWAm2UufQ4D8XcwO+8zCbtYNFa2f8FeCNQB4j4L8IIRCWESAzErsfi3MRKBq01/Fe+t1D6P5/\n",
       "fOLIzJ12NCEwgIbOYLfc6trF4EjVlJ2ZY2lrCQ3+i+OoH4fiGDFCaCAEEuvxoryIxN0bKzZWgpZ1\n",
       "2H+ZnItI0aC98JzN+yt5mPGiIzvt7z+aEFiKA7k8bXXsDp2upq5l3TSAMo2yDeXWdXZ2mpWtENFC\n",
       "L6B+DDyN2Sz1GnRuxjU4B/oiXkj896ZxeumMgMi5SBQN2et6KQuvR6w5wH1DEywcTQjsR4N1lLV6\n",
       "rW8M1gx7ZXTd7Vq0ynYZAmu5+aQJCLzK5+QYYLQO1GbmuGJyLiJFQ/cGUDw0P/aClXhZkzGiSwj8\n",
       "sVwujzXSOzXEW01ot0zpFpbwXtxNW62m+sZgcQ6+5u56wlUtOKpiEsxUbv1WSoosBHZy/RidEAEo\n",
       "ISByLhKxc9MpUlRnZc4+5FmvxiqCLfXNAbaWT1y81YR2y5Ruxfc+s/Yp1mql+Fw/bCt+dYGr2UWx\n",
       "/ZAcJ5muqZk43bp8kogAo7gSjM2qH4G6CqdWaTPCovPrQ4D6sTrEW81otwzplvmdPWl1e1GtZrif\n",
       "oti7aByG9hDHY+qGOizGWFarbJgYmzU5CHCKreYQqEO81Yx2y5ButZW4VitVzV8FLwQ6xmDmMKZ5\n",
       "nBBItFSxxakWffkmEKhLvNWEdosJCaCjm2t14lNAbsYLgcEUIE815uyFWqxanGkah3RHBM7cAtt1\n",
       "2Yo/SRCQxFveRp7aLf+CgjoN3GyN384MpLlWJ/ZD5CBFAMfpRDxlarjIzmA/rC7QrNdYid+0Jn+h\n",
       "pQgku62QzVgbeATU0moY1CUpFT05S7cQEMVbNYw8tVu7I8OJQzKpaNr6GQtkSnhxq8OfwsAIQcAU\n",
       "bFkaLnLUl4pX05jmcYpGW6xeT5hxtL8kRaMrUVx0JPzoKHRpspSKnAxlLAQk8Za3kad262d9ucCY\n",
       "TCqatlQ4pH6/+m2+1U9MX3qEIoB1WliwRVVbRL6Fq49uer9awTSPpdy606z8bmgpApTRI+Vkh4wM\n",
       "zfsDcJxNyENO+jgvJIm3vI28tVsDeV/KRmkZtjbpFm61P4PTAeKF/PaFBIu5zoDgKKF5HFiJVv+K\n",
       "CR4USCs7AqEj6l5bZ5KTt3AISOItbyNP7RZyMENZGwKGrU26hVu9ZjiMifcnQPhimsuDUD6MkjZM\n",
       "85jKrZgZdYVa/Us+69esTuw0ihSGcfeIUip6ciOHgCjeqmG0UdB0SdotlKFi/lYiFQ1bu3QLtXqg\n",
       "cPvxKJlbfZUbAvGD4U1pwDSPqdzaZV4/vdJiBMKm8wlnnRAIr7xjj01KRU5ewucDonjL22ihoOmS\n",
       "tFuwfDP1ZiKpyGzt0i3U6mB5izF47PkEEXNdXWaplancmm/e8CG0GAGOILnVCYGPNOSWZSkVOblV\n",
       "F9JYXrzlbdQva1J47Zb6A7yEyKSiYWuXbgmtrlkM5Vbc7LNgy/+rgdkEKUo1iUN9cdompSInr9IE\n",
       "BHjxlqcRTnwvsPGIhnYrfig4YicVDdtJkW4tcxqASgv/u831nggsv3Y+x/ixYWueBGfxlqdRAGRN\n",
       "F6/dCt97t2YnFQ3b7GQjMDn/3abJ//Bk963gqJ9zKfZOqSHeakK7NRnSLVE7t5PWiP/D0/8A9eP0\n",
       "t27E218AAAAASUVORK5CYII=\n",
       "\" style=\"display:inline;vertical-align:middle;\" /></a><br>"
      ],
      "text/plain": [
       "notExistsDef: forall_{(k, l) in Naturals * NaturalsPos} [forall_{P, Q_1,...,Q_k} ([notexists_{x_1,...,x_l | Q_1(x_1,...,x_l) ,  ...  , Q_k(x_1,...,x_l)} P(x_1,...,x_l)] =  \\\\ [not](exists_{y_1,...,y_l | Q_1(y_1,...,y_l) ,  ...  , Q_k(y_1,...,y_l)} P(y_1,...,y_l)))]"
      ]
     },
     "execution_count": 3,
     "metadata": {},
     "output_type": "execute_result"
    }
   ],
   "source": [
    "notExistsDef = Forall((k, l), Forall((P, iterQ1k), \n",
    "                                     Equals(generalNotExists_Px, Not(generalExists_Py)).withWrapAfterOperator()),\n",
    "                      domains=[Naturals, NaturalsPos])"
   ]
  },
  {
   "cell_type": "code",
   "execution_count": 4,
   "metadata": {},
   "outputs": [
    {
     "name": "stdout",
     "output_type": "stream",
     "text": [
      "Axioms may be imported from autogenerated _axioms_.py\n"
     ]
    }
   ],
   "source": [
    "%end axioms"
   ]
  },
  {
   "cell_type": "code",
   "execution_count": null,
   "metadata": {},
   "outputs": [],
   "source": []
  }
 ],
 "metadata": {
  "kernelspec": {
   "display_name": "Python 3",
   "language": "python",
   "name": "python3"
  }
 },
 "nbformat": 4,
 "nbformat_minor": 0
}
