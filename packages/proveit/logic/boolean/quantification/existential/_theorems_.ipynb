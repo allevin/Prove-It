{
 "cells": [
  {
   "cell_type": "markdown",
   "metadata": {
    "collapsed": true
   },
   "source": [
    "Theorems for context <a href=\"_context_.ipynb\" class=\"ProveItLink\">proveit.logic.boolean.quantification.existential</a>\n",
    "========"
   ]
  },
  {
   "cell_type": "code",
   "execution_count": 1,
   "metadata": {},
   "outputs": [
    {
     "name": "stdout",
     "output_type": "stream",
     "text": [
      "Defining theorems for context 'proveit.logic.boolean.quantification.existential'\n",
      "Subsequent end-of-cell assignments will define theorems\n",
      "'%end theorems' will finalize the definitions\n"
     ]
    }
   ],
   "source": [
    "from proveit.logic import Forall, Exists, NotExists\n",
    "from proveit.logic import Implies, Equals, TRUE, NotEquals, Not, And, inBool, SubsetEq\n",
    "from proveit.number import Naturals, NaturalsPos, one, Less, LessEq, LesserSequence\n",
    "from proveit._common_ import i, j, k, l, A, B, P, R\n",
    "from proveit.logic._common_ import yIter1l, P_xIter1l, P_yIter1l, iterQ1k, iterQ1k_yIter1l\n",
    "from proveit.logic.boolean.quantification.universal._common_ import generalForall_Px, generalForall_Py, generalForall_PyNotT, generalForall_Rx_given_Px\n",
    "from proveit.logic.boolean.quantification.existential._common_ import generalExists_Px, generalExists_Py, generalExistsInA_Px, generalExistsInB_Py, exists_Px_Q1i_Qjk, generalExists_Rz\n",
    "from proveit.logic.boolean.quantification.existential._common_ import generalNotExists_Px, generalNotExists_Py, generalExists_notPx, generalExists_notPy, generalNotExists_notPx, generalNotExists_notPy\n",
    "%begin theorems"
   ]
  },
  {
   "cell_type": "markdown",
   "metadata": {},
   "source": [
    "**By our definition for $\\exists$, such an expression is always a Boolean (it acquires this property from $\\forall$):**"
   ]
  },
  {
   "cell_type": "code",
   "execution_count": 2,
   "metadata": {},
   "outputs": [
    {
     "data": {
      "text/html": [
       "<strong id=\"existsInBool\"><a class=\"ProveItLink\" href=\"_proofs_/existsInBool.ipynb\">existsInBool</a>:</strong> <a class=\"ProveItLink\" href=\"__pv_it/0ac00133f3baa4c4525a73ae498cdd75af3f1ad20/expr.ipynb\"><img src=\"__pv_it/0ac00133f3baa4c4525a73ae498cdd75af3f1ad20/expr.png\" style=\"display:inline;vertical-align:middle;\" /></a><br>"
      ],
      "text/plain": [
       "existsInBool: forall_{(k, l) in Naturals * NaturalsPos} [forall_{P, Q_1,...,Q_k} ([exists_{x_1,...,x_l | Q_1(x_1,...,x_l) ,  ...  , Q_k(x_1,...,x_l)} P(x_1,...,x_l)] in BOOLEANS)]"
      ]
     },
     "execution_count": 2,
     "metadata": {},
     "output_type": "execute_result"
    }
   ],
   "source": [
    "existsInBool = Forall((k, l), Forall((P, iterQ1k), inBool(generalExists_Px)),\n",
    "                      domains=[Naturals, NaturalsPos])"
   ]
  },
  {
   "cell_type": "code",
   "execution_count": null,
   "metadata": {},
   "outputs": [],
   "source": [
    "existsInBool = Forall((k, l), Forall((P, QQ), inBool(generalExists_Px)),\n",
    "                      domains=[Naturals, NaturalsPos])"
   ]
  },
  {
   "cell_type": "markdown",
   "metadata": {},
   "source": [
    "**Providing a legitimate example is one way to prove that something exists:**"
   ]
  },
  {
   "cell_type": "code",
   "execution_count": 3,
   "metadata": {},
   "outputs": [
    {
     "data": {
      "text/html": [
       "<strong id=\"existenceByExample\"><a class=\"ProveItLink\" href=\"_proofs_/existenceByExample.ipynb\">existenceByExample</a>:</strong> <a class=\"ProveItLink\" href=\"__pv_it/abf683d7fc18af955e533a436eb905cc573be7120/expr.ipynb\"><img src=\"__pv_it/abf683d7fc18af955e533a436eb905cc573be7120/expr.png\" style=\"display:inline;vertical-align:middle;\" /></a><br>"
      ],
      "text/plain": [
       "existenceByExample: forall_{(k, l) in Naturals * NaturalsPos} [forall_{P, Q_1,...,Q_k} [forall_{y_1,...,y_l | Q_1(y_1,...,y_l) ,  ...  , Q_k(y_1,...,y_l)} (P(y_1,...,y_l) =>  \\\\ [exists_{x_1,...,x_l | Q_1(x_1,...,x_l) ,  ...  , Q_k(x_1,...,x_l)} P(x_1,...,x_l)])]]"
      ]
     },
     "execution_count": 3,
     "metadata": {},
     "output_type": "execute_result"
    }
   ],
   "source": [
    "existenceByExample = Forall((k, l), \n",
    "                            Forall((P, iterQ1k),\n",
    "                                    Forall(yIter1l,\n",
    "                                           Implies(P_yIter1l, generalExists_Px).withWrapAfterOperator(),\n",
    "                                           conditions=[iterQ1k_yIter1l])),\n",
    "                            domains=[Naturals, NaturalsPos])"
   ]
  },
  {
   "cell_type": "markdown",
   "metadata": {},
   "source": [
    "**If the negation of some instance exists, then it cannot always be true:**"
   ]
  },
  {
   "cell_type": "code",
   "execution_count": 4,
   "metadata": {},
   "outputs": [
    {
     "data": {
      "text/html": [
       "<strong id=\"existsNotImpliesNotForall\"><a class=\"ProveItLink\" href=\"_proofs_/existsNotImpliesNotForall.ipynb\">existsNotImpliesNotForall</a>:</strong> <a class=\"ProveItLink\" href=\"__pv_it/0719586623662f83443b9a6a96582b49956256c30/expr.ipynb\"><img src=\"__pv_it/0719586623662f83443b9a6a96582b49956256c30/expr.png\" style=\"display:inline;vertical-align:middle;\" /></a><br>"
      ],
      "text/plain": [
       "existsNotImpliesNotForall: forall_{(k, l) in Naturals * NaturalsPos} [forall_{P, Q_1,...,Q_k} ([exists_{x_1,...,x_l | Q_1(x_1,...,x_l) ,  ...  , Q_k(x_1,...,x_l)} [not](P(x_1,...,x_l))] =>  \\\\ [not](forall_{y_1,...,y_l | Q_1(y_1,...,y_l) ,  ...  , Q_k(y_1,...,y_l)} P(y_1,...,y_l)))]"
      ]
     },
     "execution_count": 4,
     "metadata": {},
     "output_type": "execute_result"
    }
   ],
   "source": [
    "existsNotImpliesNotForall = Forall((k, l), Forall((P, iterQ1k), \n",
    "                                     Implies(generalExists_notPx, Not(generalForall_Py)).withWrapAfterOperator()),\n",
    "                      domains=[Naturals, NaturalsPos])"
   ]
  },
  {
   "cell_type": "markdown",
   "metadata": {},
   "source": [
    "**Negating both sides of existsDef:**"
   ]
  },
  {
   "cell_type": "code",
   "execution_count": 5,
   "metadata": {},
   "outputs": [
    {
     "data": {
      "text/html": [
       "<strong id=\"existsDefNegation\"><a class=\"ProveItLink\" href=\"_proofs_/existsDefNegation.ipynb\">existsDefNegation</a>:</strong> <a class=\"ProveItLink\" href=\"__pv_it/afd692c57a555013331e5a697f5336f9615c21740/expr.ipynb\"><img src=\"__pv_it/afd692c57a555013331e5a697f5336f9615c21740/expr.png\" style=\"display:inline;vertical-align:middle;\" /></a><br>"
      ],
      "text/plain": [
       "existsDefNegation: forall_{(k, l) in Naturals * NaturalsPos} [forall_{P, Q_1,...,Q_k} ([notexists_{x_1,...,x_l | Q_1(x_1,...,x_l) ,  ...  , Q_k(x_1,...,x_l)} P(x_1,...,x_l)] =  \\\\ [forall_{y_1,...,y_l | Q_1(y_1,...,y_l) ,  ...  , Q_k(y_1,...,y_l)} (P(y_1,...,y_l) != TRUE)])]"
      ]
     },
     "execution_count": 5,
     "metadata": {},
     "output_type": "execute_result"
    }
   ],
   "source": [
    "existsDefNegation = Forall((k, l), Forall((P, iterQ1k),\n",
    "                                          Equals(generalNotExists_Px, generalForall_PyNotT).withWrapAfterOperator()),\n",
    "                           domains=[Naturals, NaturalsPos])"
   ]
  },
  {
   "cell_type": "markdown",
   "metadata": {},
   "source": [
    "**\"Unfold\" $\\nexists$ to $\\lnot \\exists$:**"
   ]
  },
  {
   "cell_type": "code",
   "execution_count": 6,
   "metadata": {},
   "outputs": [
    {
     "data": {
      "text/html": [
       "<strong id=\"notExistsUnfolding\"><a class=\"ProveItLink\" href=\"_proofs_/notExistsUnfolding.ipynb\">notExistsUnfolding</a>:</strong> <a class=\"ProveItLink\" href=\"__pv_it/ebd2f7453227248be3321843fd8a3af1ae843abd0/expr.ipynb\"><img src=\"__pv_it/ebd2f7453227248be3321843fd8a3af1ae843abd0/expr.png\" style=\"display:inline;vertical-align:middle;\" /></a><br>"
      ],
      "text/plain": [
       "notExistsUnfolding: forall_{(k, l) in Naturals * NaturalsPos} [forall_{P, Q_1,...,Q_k} ([notexists_{x_1,...,x_l | Q_1(x_1,...,x_l) ,  ...  , Q_k(x_1,...,x_l)} P(x_1,...,x_l)] =>  \\\\ [not](exists_{y_1,...,y_l | Q_1(y_1,...,y_l) ,  ...  , Q_k(y_1,...,y_l)} P(y_1,...,y_l)))]"
      ]
     },
     "execution_count": 6,
     "metadata": {},
     "output_type": "execute_result"
    }
   ],
   "source": [
    "notExistsUnfolding = Forall((k, l), Forall((P, iterQ1k), \n",
    "                                           Implies(generalNotExists_Px, Not(generalExists_Py)).withWrapAfterOperator()),\n",
    "                           domains=[Naturals, NaturalsPos])"
   ]
  },
  {
   "cell_type": "markdown",
   "metadata": {},
   "source": [
    "**\"Fold\" $\\lnot \\exists$ into $\\nexists$:**"
   ]
  },
  {
   "cell_type": "code",
   "execution_count": 7,
   "metadata": {},
   "outputs": [
    {
     "data": {
      "text/html": [
       "<strong id=\"notExistsFolding\"><a class=\"ProveItLink\" href=\"_proofs_/notExistsFolding.ipynb\">notExistsFolding</a>:</strong> <a class=\"ProveItLink\" href=\"__pv_it/f071c68118049c5b46acd142bb23d05d8d31161e0/expr.ipynb\"><img src=\"__pv_it/f071c68118049c5b46acd142bb23d05d8d31161e0/expr.png\" style=\"display:inline;vertical-align:middle;\" /></a><br>"
      ],
      "text/plain": [
       "notExistsFolding: forall_{(k, l) in Naturals * NaturalsPos} [forall_{P, Q_1,...,Q_k} ([not](exists_{x_1,...,x_l | Q_1(x_1,...,x_l) ,  ...  , Q_k(x_1,...,x_l)} P(x_1,...,x_l)) =>  \\\\ [notexists_{y_1,...,y_l | Q_1(y_1,...,y_l) ,  ...  , Q_k(y_1,...,y_l)} P(y_1,...,y_l)])]"
      ]
     },
     "execution_count": 7,
     "metadata": {},
     "output_type": "execute_result"
    }
   ],
   "source": [
    "notExistsFolding = Forall((k, l), Forall((P, iterQ1k),\n",
    "                                         Implies(Not(generalExists_Px), generalNotExists_Py).withWrapAfterOperator()),\n",
    "                          domains=[Naturals, NaturalsPos])"
   ]
  },
  {
   "cell_type": "markdown",
   "metadata": {},
   "source": [
    "**If all instances are true, then there exists no counter-example:**"
   ]
  },
  {
   "cell_type": "code",
   "execution_count": 8,
   "metadata": {},
   "outputs": [
    {
     "data": {
      "text/html": [
       "<strong id=\"forallImpliesNotExistsNot\"><a class=\"ProveItLink\" href=\"_proofs_/forallImpliesNotExistsNot.ipynb\">forallImpliesNotExistsNot</a>:</strong> <a class=\"ProveItLink\" href=\"__pv_it/1eaae7cccf310f591fc7be27cf58b9010113c3b90/expr.ipynb\"><img src=\"__pv_it/1eaae7cccf310f591fc7be27cf58b9010113c3b90/expr.png\" style=\"display:inline;vertical-align:middle;\" /></a><br>"
      ],
      "text/plain": [
       "forallImpliesNotExistsNot: forall_{(k, l) in Naturals * NaturalsPos} [forall_{P, Q_1,...,Q_k} ([forall_{x_1,...,x_l | Q_1(x_1,...,x_l) ,  ...  , Q_k(x_1,...,x_l)} P(x_1,...,x_l)] =>  \\\\ [notexists_{y_1,...,y_l | Q_1(y_1,...,y_l) ,  ...  , Q_k(y_1,...,y_l)} [not](P(y_1,...,y_l))])]"
      ]
     },
     "execution_count": 8,
     "metadata": {},
     "output_type": "execute_result"
    }
   ],
   "source": [
    "forallImpliesNotExistsNot = Forall((k, l), Forall((P, iterQ1k),\n",
    "                                                  Implies(generalForall_Px, \n",
    "                                                          generalNotExists_notPy).withWrapAfterOperator()),\n",
    "                                  domains=[Naturals, NaturalsPos])"
   ]
  },
  {
   "cell_type": "markdown",
   "metadata": {},
   "source": [
    "**If elements exists in $A$ that satisfies some criteria, they also exist in $B$ given that $A \\subseteq B$ (simply because all elements in $A$ also exist in $B$):**"
   ]
  },
  {
   "cell_type": "code",
   "execution_count": 9,
   "metadata": {},
   "outputs": [
    {
     "data": {
      "text/html": [
       "<strong id=\"existsInSuperset\"><a class=\"ProveItLink\" href=\"_proofs_/existsInSuperset.ipynb\">existsInSuperset</a>:</strong> <a class=\"ProveItLink\" href=\"__pv_it/1017b25a751240d996da04b39ec389601fda71dc0/expr.ipynb\"><img src=\"__pv_it/1017b25a751240d996da04b39ec389601fda71dc0/expr.png\" style=\"display:inline;vertical-align:middle;\" /></a><br>"
      ],
      "text/plain": [
       "existsInSuperset: forall_{(k, l) in Naturals * NaturalsPos} [forall_{P, A, B, Q_1,...,Q_k | A subseteq B} ([exists_{x_1,...,x_l in A | Q_1(x_1,...,x_l) ,  ...  , Q_k(x_1,...,x_l)} P(x_1,...,x_l)] =>  \\\\ [exists_{y_1,...,y_l in B | Q_1(y_1,...,y_l) ,  ...  , Q_k(y_1,...,y_l)} P(y_1,...,y_l)])]"
      ]
     },
     "execution_count": 9,
     "metadata": {},
     "output_type": "execute_result"
    }
   ],
   "source": [
    "existsInSuperset = Forall((k, l), Forall((P, A, B, iterQ1k),\n",
    "                                         Implies(generalExistsInA_Px, generalExistsInB_Py).withWrapAfterOperator(),\n",
    "                                         conditions=[SubsetEq(A, B)]),\n",
    "                         domains=[Naturals, NaturalsPos])"
   ]
  },
  {
   "cell_type": "markdown",
   "metadata": {},
   "source": [
    "**If an element exists satisfies some criteria under a certain set of conditions, it also exists under less restrictive criteria:**"
   ]
  },
  {
   "cell_type": "code",
   "execution_count": 10,
   "metadata": {},
   "outputs": [
    {
     "data": {
      "text/html": [
       "<strong id=\"existsMoreGenerally\"><a class=\"ProveItLink\" href=\"_proofs_/existsMoreGenerally.ipynb\">existsMoreGenerally</a>:</strong> <a class=\"ProveItLink\" href=\"__pv_it/928153c0d112c175ef52cd49c8da46be436f96b70/expr.ipynb\"><img src=\"__pv_it/928153c0d112c175ef52cd49c8da46be436f96b70/expr.png\" style=\"display:inline;vertical-align:middle;\" /></a><br>"
      ],
      "text/plain": [
       "existsMoreGenerally: forall_{i, j, k in Naturals | 1 <= i < j <= k} [forall_{l in NaturalsPos} [forall_{P, Q_1,...,Q_k} ([exists_{x_1,...,x_l | Q_1(x_1,...,x_l) ,  ...  , Q_k(x_1,...,x_l)} P(x_1,...,x_l)] =>  \\\\ [exists_{x_1,...,x_l | Q_1(x_1,...,x_l) ,  ...  , Q_i(x_1,...,x_l) , Q_j(x_1,...,x_l) ,  ...  , Q_k(x_1,...,x_l)} P(x_1,...,x_l)])]]"
      ]
     },
     "execution_count": 10,
     "metadata": {},
     "output_type": "execute_result"
    }
   ],
   "source": [
    "LessOp = Less._operator_\n",
    "LessEqOp = LessEq._operator_\n",
    "existsMoreGenerally = Forall((i, j, k), \n",
    "                             Forall(l, Forall((P, iterQ1k), \n",
    "                                              Implies(generalExists_Px,\n",
    "                                                      exists_Px_Q1i_Qjk).withWrapAfterOperator()),\n",
    "                                    domain=NaturalsPos),\n",
    "                             domain=Naturals, \n",
    "                             conditions=[LesserSequence((LessEqOp, LessOp, LessEqOp),\n",
    "                                                        (one, i, j, k))])"
   ]
  },
  {
   "cell_type": "markdown",
   "metadata": {},
   "source": [
    "** If $P(x_{1},\\ldots,x_{l})$ given $R(x_1,\\ldots,x_{l})$ for all appropriately conditioned instances, then existence of a satisfying instance of the former implies existence of a satisfying instance of the latter (e.g., the same instance). **"
   ]
  },
  {
   "cell_type": "code",
   "execution_count": 11,
   "metadata": {},
   "outputs": [
    {
     "data": {
      "text/html": [
       "<strong id=\"existentialImplication\"><a class=\"ProveItLink\" href=\"_proofs_/existentialImplication.ipynb\">existentialImplication</a>:</strong> <a class=\"ProveItLink\" href=\"__pv_it/572c04392f5546d5bca871d8ad089c0782ab82300/expr.ipynb\"><img src=\"__pv_it/572c04392f5546d5bca871d8ad089c0782ab82300/expr.png\" style=\"display:inline;vertical-align:middle;\" /></a><br>"
      ],
      "text/plain": [
       "existentialImplication: forall_{(k, l) in Naturals * NaturalsPos} [forall_{P, Q_1,...,Q_k, R} ([forall_{x_1,...,x_l | P(x_1,...,x_l) , Q_1(x_1,...,x_l) ,  ...  , Q_k(x_1,...,x_l)} R(x_1,...,x_l)] =>  \\\\ ([exists_{y_1,...,y_l | Q_1(y_1,...,y_l) ,  ...  , Q_k(y_1,...,y_l)} P(y_1,...,y_l)] =>  \\\\ [exists_{z_1,...,z_l | Q_1(z_1,...,z_l) ,  ...  , Q_k(z_1,...,z_l)} R(z_1,...,z_l)]))]"
      ]
     },
     "execution_count": 11,
     "metadata": {},
     "output_type": "execute_result"
    }
   ],
   "source": [
    "existentialImplication = Forall((k, l), Forall((P, iterQ1k, R),\n",
    "                                               Implies(generalForall_Rx_given_Px,\n",
    "                                                       Implies(generalExists_Py,\n",
    "                                                               generalExists_Rz).withWrapAfterOperator()).withWrapAfterOperator()),\n",
    "                                domains=[Naturals, NaturalsPos])"
   ]
  },
  {
   "cell_type": "code",
   "execution_count": 12,
   "metadata": {
    "scrolled": false
   },
   "outputs": [
    {
     "name": "stdout",
     "output_type": "stream",
     "text": [
      "Theorems may be imported from autogenerated _theorems_.py\n"
     ]
    }
   ],
   "source": [
    "%end theorems"
   ]
  },
  {
   "cell_type": "code",
   "execution_count": 13,
   "metadata": {
    "collapsed": true
   },
   "outputs": [],
   "source": []
  },
  {
   "cell_type": "code",
   "execution_count": 13,
   "metadata": {
    "collapsed": true
   },
   "outputs": [],
   "source": []
  }
 ],
 "metadata": {
  "kernelspec": {
   "display_name": "Python 3",
   "language": "python",
   "name": "python3"
  },
  "language_info": {
   "codemirror_mode": {
    "name": "ipython",
    "version": 3
   },
   "file_extension": ".py",
   "mimetype": "text/x-python",
   "name": "python",
   "nbconvert_exporter": "python",
   "pygments_lexer": "ipython3",
   "version": "3.7.3"
  }
 },
 "nbformat": 4,
 "nbformat_minor": 1
}
