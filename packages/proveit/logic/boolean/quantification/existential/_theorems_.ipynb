{
 "cells": [
  {
   "cell_type": "markdown",
   "metadata": {},
   "source": [
    "Theorems for context <a href=\"_context_.ipynb\" class=\"ProveItLink\">proveit.logic.boolean.quantification.existential</a>\n",
    "========"
   ]
  },
  {
   "cell_type": "code",
   "execution_count": null,
   "metadata": {},
   "outputs": [],
   "source": [
    "import proveit\n",
    "# Automation is not needed when building theorem expressions:\n",
    "proveit.defaults.automation = False # This will speed things up.\n",
    "from proveit.logic import Forall, Exists, NotExists\n",
    "from proveit.logic import Implies, Equals, TRUE, NotEquals, Not, And, inBool, SubsetEq\n",
    "from proveit.number import Naturals, NaturalsPos, one, Less, LessEq, LesserSequence\n",
    "from proveit._common_ import i, j, k, l, A, B, P, R\n",
    "from proveit.logic._common_ import yIter1l, P_xIter1l, P_yIter1l, iterQ1k, iterQ1k_yIter1l\n",
    "from proveit.logic.boolean.quantification.universal._common_ import generalForall_Px, generalForall_Py, generalForall_PyNotT, generalForall_Rx_given_Px\n",
    "from proveit.logic.boolean.quantification.existential._common_ import generalExists_Px, generalExists_Py, generalExistsInA_Px, generalExistsInB_Py, exists_Px_Q1i_Qjk, generalExists_Rz\n",
    "from proveit.logic.boolean.quantification.existential._common_ import generalNotExists_Px, generalNotExists_Py, generalExists_notPx, generalExists_notPy, generalNotExists_notPx, generalNotExists_notPy\n",
    "%begin theorems"
   ]
  },
  {
   "cell_type": "markdown",
   "metadata": {},
   "source": [
    "**By our definition for $\\exists$, such an expression is always a Boolean (it acquires this property from $\\forall$):**"
   ]
  },
  {
   "cell_type": "code",
   "execution_count": null,
   "metadata": {},
   "outputs": [],
   "source": [
    "existsInBool = Forall((k, l), Forall((P, iterQ1k), inBool(generalExists_Px)),\n",
    "                      domains=[Naturals, NaturalsPos])"
   ]
  },
  {
   "cell_type": "markdown",
   "metadata": {},
   "source": [
    "**Providing a legitimate example is one way to prove that something exists:**"
   ]
  },
  {
   "cell_type": "code",
   "execution_count": null,
   "metadata": {},
   "outputs": [],
   "source": [
    "existenceByExample = Forall((k, l), \n",
    "                            Forall((P, iterQ1k),\n",
    "                                    Forall(yIter1l,\n",
    "                                           Implies(P_yIter1l, generalExists_Px).withWrapAfterOperator(),\n",
    "                                           conditions=[iterQ1k_yIter1l])),\n",
    "                            domains=[Naturals, NaturalsPos])"
   ]
  },
  {
   "cell_type": "markdown",
   "metadata": {},
   "source": [
    "**If the negation of some instance exists, then it cannot always be true:**"
   ]
  },
  {
   "cell_type": "code",
   "execution_count": null,
   "metadata": {},
   "outputs": [],
   "source": [
    "existsNotImpliesNotForall = Forall((k, l), Forall((P, iterQ1k), \n",
    "                                     Implies(generalExists_notPx, Not(generalForall_Py)).withWrapAfterOperator()),\n",
    "                      domains=[Naturals, NaturalsPos])"
   ]
  },
  {
   "cell_type": "markdown",
   "metadata": {},
   "source": [
    "**Negating both sides of existsDef:**"
   ]
  },
  {
   "cell_type": "code",
   "execution_count": null,
   "metadata": {},
   "outputs": [],
   "source": [
    "existsDefNegation = Forall((k, l), Forall((P, iterQ1k),\n",
    "                                          Equals(generalNotExists_Px, generalForall_PyNotT).withWrapAfterOperator()),\n",
    "                           domains=[Naturals, NaturalsPos])"
   ]
  },
  {
   "cell_type": "markdown",
   "metadata": {},
   "source": [
    "**\"Unfold\" $\\nexists$ to $\\lnot \\exists$:**"
   ]
  },
  {
   "cell_type": "code",
   "execution_count": null,
   "metadata": {},
   "outputs": [],
   "source": [
    "notExistsUnfolding = Forall((k, l), Forall((P, iterQ1k), \n",
    "                                           Implies(generalNotExists_Px, Not(generalExists_Py)).withWrapAfterOperator()),\n",
    "                           domains=[Naturals, NaturalsPos])"
   ]
  },
  {
   "cell_type": "markdown",
   "metadata": {},
   "source": [
    "**\"Fold\" $\\lnot \\exists$ into $\\nexists$:**"
   ]
  },
  {
   "cell_type": "code",
   "execution_count": null,
   "metadata": {},
   "outputs": [],
   "source": [
    "notExistsFolding = Forall((k, l), Forall((P, iterQ1k),\n",
    "                                         Implies(Not(generalExists_Px), generalNotExists_Py).withWrapAfterOperator()),\n",
    "                          domains=[Naturals, NaturalsPos])"
   ]
  },
  {
   "cell_type": "markdown",
   "metadata": {},
   "source": [
    "**If all instances are true, then there exists no counter-example:**"
   ]
  },
  {
   "cell_type": "code",
   "execution_count": null,
   "metadata": {},
   "outputs": [],
   "source": [
    "forallImpliesNotExistsNot = Forall((k, l), Forall((P, iterQ1k),\n",
    "                                                  Implies(generalForall_Px, \n",
    "                                                          generalNotExists_notPy).withWrapAfterOperator()),\n",
    "                                  domains=[Naturals, NaturalsPos])"
   ]
  },
  {
   "cell_type": "markdown",
   "metadata": {},
   "source": [
    "**If elements exists in $A$ that satisfies some criteria, they also exist in $B$ given that $A \\subseteq B$ (simply because all elements in $A$ also exist in $B$):**"
   ]
  },
  {
   "cell_type": "code",
   "execution_count": null,
   "metadata": {},
   "outputs": [],
   "source": [
    "existsInSuperset = Forall((k, l), Forall((P, A, B, iterQ1k),\n",
    "                                         Implies(generalExistsInA_Px, generalExistsInB_Py).withWrapAfterOperator(),\n",
    "                                         conditions=[SubsetEq(A, B)]),\n",
    "                         domains=[Naturals, NaturalsPos])"
   ]
  },
  {
   "cell_type": "markdown",
   "metadata": {},
   "source": [
    "**If an element exists satisfies some criteria under a certain set of conditions, it also exists under less restrictive criteria:**"
   ]
  },
  {
   "cell_type": "code",
   "execution_count": null,
   "metadata": {},
   "outputs": [],
   "source": [
    "LessOp = Less._operator_\n",
    "LessEqOp = LessEq._operator_\n",
    "existsMoreGenerally = Forall((i, j, k), \n",
    "                             Forall(l, Forall((P, iterQ1k), \n",
    "                                              Implies(generalExists_Px,\n",
    "                                                      exists_Px_Q1i_Qjk).withWrapAfterOperator()),\n",
    "                                    domain=NaturalsPos),\n",
    "                             domain=Naturals, \n",
    "                             conditions=[LesserSequence((LessEqOp, LessOp, LessEqOp),\n",
    "                                                        (one, i, j, k))])"
   ]
  },
  {
   "cell_type": "markdown",
   "metadata": {},
   "source": [
    "** If $P(x_{1},\\ldots,x_{l})$ given $R(x_1,\\ldots,x_{l})$ for all appropriately conditioned instances, then existence of a satisfying instance of the former implies existence of a satisfying instance of the latter (e.g., the same instance). **"
   ]
  },
  {
   "cell_type": "code",
   "execution_count": null,
   "metadata": {},
   "outputs": [],
   "source": [
    "existentialImplication = Forall((k, l), Forall((P, iterQ1k, R),\n",
    "                                               Implies(generalForall_Rx_given_Px,\n",
    "                                                       Implies(generalExists_Py,\n",
    "                                                               generalExists_Rz).withWrapAfterOperator()).withWrapAfterOperator()),\n",
    "                                domains=[Naturals, NaturalsPos])"
   ]
  },
  {
   "cell_type": "code",
   "execution_count": null,
   "metadata": {},
   "outputs": [],
   "source": [
    "%end theorems"
   ]
  },
  {
   "cell_type": "code",
   "execution_count": null,
   "metadata": {},
   "outputs": [],
   "source": []
  },
  {
   "cell_type": "code",
   "execution_count": null,
   "metadata": {},
   "outputs": [],
   "source": []
  }
 ],
 "metadata": {
  "kernelspec": {
   "display_name": "Python 3",
   "language": "python",
   "name": "python3"
  }
 },
 "nbformat": 4,
 "nbformat_minor": 0
}
