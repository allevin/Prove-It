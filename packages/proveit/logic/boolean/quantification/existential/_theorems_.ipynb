{
 "cells": [
  {
   "cell_type": "markdown",
   "metadata": {},
   "source": [
    "Theorems for context <a href=\"_context_.ipynb\" class=\"ProveItLink\">proveit.logic.boolean.quantification.existential</a>\n",
    "========"
   ]
  },
  {
   "cell_type": "code",
   "execution_count": 1,
   "metadata": {},
   "outputs": [
    {
     "name": "stdout",
     "output_type": "stream",
     "text": [
      "Defining theorems for context 'proveit.logic.boolean.quantification.existential'\n",
      "Subsequent end-of-cell assignments will define theorems\n",
      "'%end theorems' will finalize the definitions\n"
     ]
    }
   ],
   "source": [
    "from proveit.logic import Forall, Exists, NotExists\n",
    "from proveit.logic import Implies, Equals, TRUE, NotEquals, Not, And, inBool, SubsetEq\n",
    "from proveit.number import Naturals, NaturalsPos, one, Less, LessEq, LesserSequence\n",
    "from proveit._common_ import i, j, k, l, A, B, P, R\n",
    "from proveit.logic._common_ import yIter1l, P_xIter1l, P_yIter1l, iterQ1k, iterQ1k_yIter1l\n",
    "from proveit.logic.boolean.quantification.universal._common_ import generalForall_Px, generalForall_Py, generalForall_PyNotT, generalForall_Rx_given_Px\n",
    "from proveit.logic.boolean.quantification.existential._common_ import generalExists_Px, generalExists_Py, generalExistsInA_Px, generalExistsInB_Py, exists_Px_Q1i_Qjk, generalExists_Rz\n",
    "from proveit.logic.boolean.quantification.existential._common_ import generalNotExists_Px, generalNotExists_Py, generalExists_notPx, generalExists_notPy, generalNotExists_notPx, generalNotExists_notPy\n",
    "%begin theorems"
   ]
  },
  {
   "cell_type": "markdown",
   "metadata": {},
   "source": [
    "**By our definition for $\\exists$, such an expression is always a Boolean (it acquires this property from $\\forall$):**"
   ]
  },
  {
   "cell_type": "code",
   "execution_count": 2,
   "metadata": {},
   "outputs": [
    {
     "data": {
      "text/html": [
       "<strong id=\"existsInBool\"><a class=\"ProveItLink\" href=\"_proofs_/existsInBool.ipynb\">existsInBool</a>:</strong> <a class=\"ProveItLink\" href=\"__pv_it/07f3637e9096289dafdd87f98ed96d8ecb0455ed0/expr.ipynb\"><img src=\"data:image/png;base64,iVBORw0KGgoAAAANSUhEUgAAAuwAAAAaBAMAAAAeWhTiAAAAMFBMVEX///8QEBC6urrMzMxUVFRm\n",
       "ZmZERETc3NwyMjKqqqp2dnaIiIiYmJgiIiLu7u4AAAAU9Wx4AAAAAXRSTlMAQObYZgAACGFJREFU\n",
       "aN7tmglsFFUYx7/d2d3ZY7qtF57YjQeghrAeiViDXaSCGrQNQiJocIOmhQhhDQQaL4iKZynrQUzE\n",
       "xJVIBI1lQA4JKqMNGMEDAsgRt1lMJUTA1gItUGD93ntzvJnZ7rSjJtY4SXdm33v/b773m2++d2wB\n",
       "3B4zsinX2qsAAtk98N89vNn9hSsyxSp7c2x3LxUSACXw3z5mFy6+Ra3MucfuWnooR7HPxSPVL2JX\n",
       "7lPzr4tgj8iskgbtNlfYXUvHAsVehceV/17Ya/JVVbtSRoj2+vDH7djDi6aeHDgNL/Yw7CvIqdEV\n",
       "drdSsQz0JFP3Lw7ykzgCXeymj/MLRHvAKx/6DTP7GoZ9DuGQdIXdrdRf0y+wC6cBQqf1xNCHY2th\n",
       "7JEYPo+2HK0M4smfdoXdrdQT6xfYIx0A0gnib18HsQMc9sMLs3tV7CHlfuy3QiulD+fOfcbdkOpW\n",
       "Wgn9AnugHcB3Ci+G4N+vC58fsqto8+iDe29amGDKtI5daMgZ0T4YU4M/yZ5JZ23tfnfY3UpX9Q/s\n",
       "pSQlEEiTkOk+KG/ZVDTZHE17zh7uZuNnjY59Ts5IMiO24BepnWEfxfo+yzBQJG+ETdhHucN2t4r9\n",
       "k2w22+WKyCyH+mKZT4wX14b0lzIDwm5y0YBRr0BezivFp2el3aVnmIn5OvY6I7dn85eTyeg5hv0a\n",
       "iGIrMQOrMvRdqc5VFBkNTdiZNDRzwvg6lsZ2jCr09n2WvdDU1cf6GO0xLUtq5sWMg8LWA861J51G\n",
       "Us34pns/mkTnj+eTcBPzKZwrCz3PIDIwr0uSoRWxess07NEkP6RuwG/CMYa9BCL4FAN4wbo3FMJq\n",
       "P4dPiEUuYi+JsGAcrJpsxc6k8BUGLnnGA1LRmTG7P6/XwcEOvmBBH7Ez1znzASdF2OIG75rj1Gup\n",
       "ep6p5QfqvPQHwTC+2Nr8RzIx9mILoV3D7h2Ib7Q2pELyegyZDoY9opSg/SXq1AZgGQ3h6NoJipRs\n",
       "gibV5JZwLpyzYmdSqMI74vk97NA8u1uhTrzXWb5ktyvsnPklTgrSA/7gtCHH2eAh9az7TLH7jlN1\n",
       "MezVCTWvG9iFBBftkMR4iZ5i2KPzb2HdH8rqG2jOXjf495y0zY/Yr8MnHYfv5Jpwzl91X9U9HHYm\n",
       "hZ9puo7mEX3pOZszbaQon/ur2HnzziJzsuO1AcftCB/LiMIJreBSxJ3xdEMkVQz7O1Auw3oIKqYk\n",
       "s92KXYt2qLsTP7DhMu86AgcHuY0gkRWNdNutchOZmW8GaH7zKXu0M2n0GEi45A2TcCi1D5EryQPP\n",
       "8519wYS9dcakl22jXHT07uXPm7Dz5tFZB9VGc87htB6Lcf3QLaqro4ieGKdj7HTM64AnWLRHSRkh\n",
       "RS+0b9H84HwM19+l2FPJGFLHmrCTJKPmdlhMshE2bHijDSVCGRkqgzSdxZuaMclMJM+gOXykwo6d\n",
       "SMF7+qOHSX/I21PZDj7L4qIcpxVCHnzGez/ahH2n9/i8hFVVEh825jgMVwzsnHnirIPqGvP6TNWS\n",
       "KdRwrRncb/aTWhTwXfeqk2/9xV2GGSo5skN8jmFvI+hJBiIX+jex01ceq4/BjeYJ5NGYgV16CHvi\n",
       "7VKxe2R2qxPsWSeJaxUMeziMvvnvwutmyHxgx06kEGZAaTStTAjvW95iEugYbqEaveQLFftCHG7O\n",
       "iXLk1DNpq+op2PT2PgjEDeyceXTWSTXcPANnWlgM9IGwZhUXm+eV1CI8ykIQ10czj2ujAGbfSLZp\n",
       "5Msxhv0AWosOIIvRpPoRLUc/vtjfegk+mHVYFozp2MUFcW0rrHMHSdDavB0kxBlKgHBFA30qMnF6\n",
       "RG1trSzFxR9a8JY/U+xPH7VjJ1IIMKA0d5bHocSKHdt4jvG7CMO4aNfCyqqi8wgPl2Q486GEo8qC\n",
       "XdVOxNNb+iTF+jMLtVimYedfFuMuNLcPtu8MGy0et2wOhO5mMxk94fH7ZN4khvmNArnHzQCDoJVF\n",
       "O1z9JcBmX5pg996Ovopm7KxTDGjwWOsUf7cdxaI7RscekaHklzW6IM5jf9WzXVSsqmBmIDxN99o0\n",
       "7Jx5dNZJNchcrmpbbkiQGtbMip1aJDt7XusUU8qYsdtXTZJxeQF27uOe99shKHOVOOIG5BERqE+1\n",
       "RcgOmi/FsEtNZHSdSLDD1px1c0BdzZG29Snh7LiSaoVyEV+C+pzYSD5egsrdsV24ePN8c0SfKmQ4\n",
       "7MLpYclA2qyqT1Uu7YRpdCdPw86ZR2cNVX2K3Qg/ONVWU7mmveJZBY6iw7QZYuf9ZBYJYcm2GGvs\n",
       "PfZou8ymrz1hJ+OnUdkCwVRgNVQqvhUA4yA6hWwB4UcCriX79t4XY+CDgtjDix4g7BWYPXBRY4hy\n",
       "Ec7gsxC6yMcZEEfuPZlLw5A1xjpwOx/to6f/9IpFhV7Ufj81DXfy83bDPDprqCoVdqMu4FXjTOWq\n",
       "1vsaZidcabBmiN3kJ7Xow6zsty35dEri8hMyROwsubXAvWkWsz1h32IyuEE9K+o2fRhzu+NWGH8Q\n",
       "oa97POMimeOgem0CPg/q0U5CzfpbqlmlxlOLYlpX6uY38CqlkGq+tZxoI0qjAhF9jNlj8xMNopNB\n",
       "+zZO3zbcP4Ui2HeaKg+qgZjq1ULOjp0KI/kuEFbh63KrXk6vNuFsZkx4tV5Yb8NuVglqyn4oZcKu\n",
       "mz/IqYRUARX2wFJOtL7UxzFjl+T2y9JWPzHS1/diDdyrowfsdEFkVIYU46H7oO/YqVA8L22KO+3q\n",
       "iUst+wWZgv85oBQYoXjsuvmQUiitciqfrVzXwruF7sjn68Q/iX2OpbLZqGrqld3sX/g/mW8Re+//\n",
       "T8bOodlBUawHksPGbzj3N0D3Znv4TWRyscr/j3/4+BOmCgh5jeWq8wAAAABJRU5ErkJggg==\n",
       "\" style=\"display:inline;vertical-align:middle;\" /></a><br>"
      ],
      "text/plain": [
       "existsInBool: forall_{(k, l) in Naturals * NaturalsPos} [forall_{P, Q_1,...,Q_k} ([exists_{x_1,...,x_l | Q_1(x_1,...,x_l) ,  ...  , Q_k(x_1,...,x_l)} P(x_1,...,x_l)] in BOOLEANS)]"
      ]
     },
     "execution_count": 2,
     "metadata": {},
     "output_type": "execute_result"
    }
   ],
   "source": [
    "existsInBool = Forall((k, l), Forall((P, iterQ1k), inBool(generalExists_Px)),\n",
    "                      domains=[Naturals, NaturalsPos])"
   ]
  },
  {
   "cell_type": "markdown",
   "metadata": {},
   "source": [
    "**Providing a legitimate example is one way to prove that something exists:**"
   ]
  },
  {
   "cell_type": "code",
   "execution_count": 3,
   "metadata": {},
   "outputs": [
    {
     "data": {
      "text/html": [
       "<strong id=\"existenceByExample\"><a class=\"ProveItLink\" href=\"_proofs_/existenceByExample.ipynb\">existenceByExample</a>:</strong> <a class=\"ProveItLink\" href=\"__pv_it/32e84316ed789d375cf73d89863ba48be2b45a740/expr.ipynb\"><img src=\"data:image/png;base64,iVBORw0KGgoAAAANSUhEUgAABDcAAAAyBAMAAAC64S1EAAAAMFBMVEX///8QEBC6urrMzMxUVFRm\n",
       "ZmZERETc3NwyMjKqqqp2dnaIiIiYmJgiIiLu7u4AAAAU9Wx4AAAAAXRSTlMAQObYZgAADTVJREFU\n",
       "eNrtnQ+MVMUdx3/75/b/vju1iFXw1pQCjSGsxVbE0FuQQv/BnVjaorFsbXpo1PKMxLuK9A6sf9ry\n",
       "56hYSanhSnoRNTkWo1hT2tvkYmuOKmeqBUkP1xaJidA7joMDDtjOb+b9mXlv973dhbf820nYe8zO\n",
       "b2bfm8/7zW/m+2YXoNTkymbbz4dt+VIoBpdVkuaxv1uzh8nJZ7M1pVflenZK5nzYli/dBZdZmsg6\n",
       "5b9T1hFSptx6NnDEz49t+RxHwuEGbiymcKQMbizSqhzchC+eChz50wuO1BquH5o1dw69+MXBd2cZ\n",
       "TvnrFTgKS/6rnKm3mtyeP5LJQaC4kTVQhnN2tVXgKKwzHAqZ60i9m7DuPxfp8/XPIzl1zsHrK3AU\n",
       "lDY5FDJ3keBhVwM5uL7IuYTeV4GMUyf9ZAWOgtK1DtW7hPyrJ+7bTYaX0Io0RHsto2K9xP1aptux\n",
       "UHmyXIGjEC9+xqGKjxMncIz8rSLDRIdrGDYNWJXmSnToua84NpY2VOAoIEUdujs9JwGmYxcE0mSk\n",
       "aBmGRUn4qsVYQkvsR1I3YMY9fZg+anD2lqjAYeNgHVpXCA+93PEivQYx8KS2tsJHqa/MzY8SK+HG\n",
       "geUGLn+DU6seIxU4Ckh3OFSvTx2uqrF/a1NSNm65okJLhNBT1PEeZYVDdMytwFFAGuVQvdW9HBye\n",
       "rOzOWi63sRJkCBLhmNrp1BxNrsBhHxqccKjiOjVcwAWnyGEIHbeEg5WoltVhhcUcfT916rz7UxU4\n",
       "7EMDpyYrXep44CPeIHIcAicZHHRhK8Mf0BdWgnbW23ol652Lw5M8HJmz6GDpLGwzFzYcvhqHKl6i\n",
       "njjGEf7D0DXI4Ognw410mj+gL6zEdnEq62917Ly9AzwcdAjcWVoHR6njS5VkW3K75UmupCPVSt/L\n",
       "fls5pDOQF8YuOcPg+HiYvHs1HiSVA6lWVks8gAYrdXJl5zzmMA/HS/h3TWlwhFCnKWUtl9iW3G55\n",
       "Un+7402MJoDEcZmDxRwTTAXcslriqriwfO5x7kMFT/BwPIpuKlkaHNTu0dJsS263TMscaceb6CFz\n",
       "gwF/VlbgMDcYAaWENEC8cyhVjvP2jPBw4I1f1VZiUIl3/sLSbEtutzxpl/MfjVyBrvblVwI8tvbu\n",
       "vHCwEt8in+bTspy3dJSHI/JiU9PyUmccPU1NTb2l2ZbcbnlSl/PzKX8Cqvr2qoNy2FwAXYVeYk55\n",
       "TvyYMJU91ti4t1Q4qhsbH2ov0bbUdsuTFsnOt7GsqEixTLP/awQ4bgdYTA4f0d+38KghsYO9cRo5\n",
       "//bogtl4MT9b/d7tuVzVn/o+FzfBobRb/A1nfZWC58a2/gKfajuW+gQ4xoFEps3+dthGfYBUn5mW\n",
       "37RK7GB3gg6FkRoIkdEleLUsLYmZjdYthgODJjhYu3bJbeLrMZuIyuTJOGQLt62/TNmA9wQ4ohAm\n",
       "sZCPHLB+naTt15i6IBYexe4gz5PzYdsPTXBAL+zAlZME1Xo3kclHizkECZJhzH/aBAdr13YxysSX\n",
       "3Qxns7F5DtnCbXk4fH27L2UcJvXx99MKAY5wOkoA2Eim9oyDDnpHS68vSEeSnaAKPH8LZUIZMxw7\n",
       "YB95jabB2wpSlhSoNi8792NWNmOEg7VbGBwcX0G7GZ0xqueQLcKWhyN6iTsLEhnng0NqvRno8D+J\n",
       "vbuKhgPbJ/wvE9lZReD4Ehk24vCPVEMoUzVr7qxvCnB8Sp+v74/DOzKEhshh9bCp7a1YJCsb4WDt\n",
       "FgYHx5ft6qBXjCt4ZIuwvWzhEIcVWDyTvJCDDvd2vPzD+Fx0BLXDyK23pDpxMeItgO5nl+XyHL6l\n",
       "6LAnv9xBRggXLq7VDYDX4BBq21B5Rt8i2mK77rnt0hjTpx23Fz5O83BwfLnsjMKie+CRdQlVc4GN\n",
       "WqFuuygjwOEnc/ami6Gj3cUtldGtUgIcYkAKzxGf6yE9t+o3/bIao9JNEpF4ZzcZVhYiKd2hg9Ny\n",
       "wBG8Bw+30AzaA1sTnj8Y7k/sVNJFwQaDLbZ7KDAQOWXESepdC7vSU9M6HApfMI8EQnZG7oQY3ijI\n",
       "fgODKKUUzBM/Ia3Qs4p/cpefyhI4vLNmzZpx4U5g9J1SNxdpeacRDnEqC64UuypHqU8NJ/EiTmNw\n",
       "hELkMlbhPqhuaP9jDjjgOnz5CYMDfXdtHKJGOIid64iwHEptsd2ftSS9w0ac/M8fg3rZF9fhUPia\n",
       "NhrBtTHyiHMgBVl4Dp2LUgrr4ROtEH4MnC2/CKYMKz75wnUY2k6pYtWqgBEOcREMIqTzggnwjFlF\n",
       "L0EK4Zje2NiYisT975J4M/xvCsfjh3LB8S6+sAdjAkf231s1AiY41n5tdmxRCqL/eU20xXahq81V\n",
       "Y7IIn4ArcAzQ4WB8wW72KIOlkREOBVlc5V+vlALj7INWWMPb7opdVHCoO6XCxQowuFWKh0NcPleG\n",
       "qiRxGTeh2ueaAjAe9jPPAV/4K8Bb3jaEw30b6SG/EQ5aC96czbLn9PxofZrC4X8amjP+NfjyNNR9\n",
       "EHv/FCn/94M5bJdk+hOmfvadkYYUQc/H84WdOt7OyC3OV1Vk992YQFtaygQHVogqoG7LC28XARzq\n",
       "TilXsUMfar08HKLwpo7YxGVMD5Mu7g+jXuiVGRyRToxNFyIc0JMxrVWwtAUHpLo0LB27dk2QwuE5\n",
       "BXUyYYa8nAL/jD3HM20w8bVctvWATsWAk3eAdGcPB4fCF3bqITsjci80yyxzDYfsmJ+n0ZaWwnr4\n",
       "MrRCvIf0LYe8ZH8RwKHulJqIffmDPV9enbAs/snqJya+zw7vF+EQJXsl7YOA7HuVdLH3JYD5IN1L\n",
       "8iaSlwR8kQwmcfdTMfBCHjhYwlvNO/JdNqxEdL9FEXg9ATsCuTxH8x4WpYg4rV5xBGZycCh8Yafi\n",
       "4oilUVWMnAXLHNaRdf86QW1pKaxHKIMVemPUVv2EyYsKDnWnFH6lyKE21+nPRizdxYdQu68rpSxr\n",
       "CXCID/so6U2ui4GMvCESc1h/HgMcHrx04ewweLYRvG7R8ulRF4ko54ReNdtK38cQwIjTJzIJAfZx\n",
       "sxWFL+zUcJuNUQB4+VtFNpxek0ZbWooOK1wZWmH0IL+TnX9MkMARwp1EJcFhI+eA5aMBj1jbalqQ\n",
       "tlMKw8bvQPVINfGz+bdKedOQTWXTEgpIG0Q4xMcElXSA6+JgQVGNAQ7aT/4r2jjG9KOHP5/HNnyq\n",
       "atCMU1d6UQzulgU4kK/briVkJG2MNipnISLrlV+JoS0thfXwZWiFVW/QdWL1g50pyXMoUlDhcg6Y\n",
       "hCxORvK3W9tqWpC2U+pK8q8dWoYjKbDYKhUCf1beyZY9bxDhYB7TAEcwrXexF0qAo6ik2fqf+oVs\n",
       "xqn5vjniCinP1+9tjBKmQU1DlthqVfNltAr1q8RvTSgCDmW1vwg5x/TFY5yM5LNrbrMWjCsHzHAX\n",
       "7VarrVKRw8qQgrtheDhyb03o1gt0lg8O22QGNWJtG7KK14uwHXUWcBQj5xilaV6m3GjXnKoFaTul\n",
       "GBz1CTs4vEOKUmKEY1dlU1MB6Y7S4ShKzgHDEzC8TGn7vIuqBWk7pdC9/g5qU/CGFRzBdtcIhGVU\n",
       "SozDSmU7ZCFpctwMhzT7gy1PmEruf+iuZ+I8HAY5h38/h5XhC354mbIGcreo5aprXtpOqQcRzQnZ\n",
       "mL+GwYGQmbdL9Q+2DMLDrPffFuE4WYGjgBRtMMMRjU+eMwRGZeaf7qGWhGeVDgevQE5V3jfJkZrV\n",
       "ODGfkyk9rZC7RZbL6UjaTimcmB7z1saaYxQOcZeUdtCSnDHoX0mVEsNUtvIVDIWtKw/wcARwKptZ\n",
       "Bl3PfwgGZcafCp9Y3obKjAoHr0COU943SUGa1VSxXU6mJF2fs0UlV9ORuJ1SOP/4y97916xkMQfd\n",
       "F6XtkqIHmBPu65zxTIwqJbhVioMjkKjAUUi6zug5tFvUuPhO5wo1HBycArlefd+42q9ZGeHIaDJl\n",
       "MJGvRZpr1pFIHtcKDituU8jD5aBSYlg+r3ztU2FpnRmOQPtYeNzUVb9y9frTyv4sCgevQI5X3jfB\n",
       "oVmNF/M5mdKdzNMiyzXrSMJXDlI4ImaPyMW+YbZVioOD6esVOOyS/lWTGhx1m4+hFrFbEHU8Jycn\n",
       "fW1Kr1A4OAUSDgF73ygF6VY9eWVKqVdvUdCCWG6PyAJLumRPt0pZwoFKCU6GdTjcla+aLCz5R5vg\n",
       "8Da+cx9VeARRZ/aD//oleGPcOoeuQKKcQ983SUGa1fz8MuU+vUVBC2K5M3ktSE1Lxf+aV1kMOXME\n",
       "OKKVL6ktMG3IEXPQtNu0BgtUmeHWNDUFMqwuzuaQI5lVa36Z8k2uRaMiAaqOZEC6uAc66FYpHY4F\n",
       "UIGjsFTVkBsOVGYMwiJQZYaDQ1MgJSUqyCVHUitcQs0nUx7gWjToRSQxHelc+EgVjmDrOYPjkv9J\n",
       "jQdUOMz7VtI5jng4eDnH2soL+WXKYDpXrMBFDYlzcZqT+tRqzuFPalzyP8ZjHtFtU9FSkLWQ1W1t\n",
       "Gzq3d5ikfNOY9mM8/wevP9VZldkDcwAAAABJRU5ErkJggg==\n",
       "\" style=\"display:inline;vertical-align:middle;\" /></a><br>"
      ],
      "text/plain": [
       "existenceByExample: forall_{(k, l) in Naturals * NaturalsPos} [forall_{P, Q_1,...,Q_k} [forall_{y_1,...,y_l | Q_1(y_1,...,y_l) ,  ...  , Q_k(y_1,...,y_l)} (P(y_1,...,y_l) =>  \\\\ [exists_{x_1,...,x_l | Q_1(x_1,...,x_l) ,  ...  , Q_k(x_1,...,x_l)} P(x_1,...,x_l)])]]"
      ]
     },
     "execution_count": 3,
     "metadata": {},
     "output_type": "execute_result"
    }
   ],
   "source": [
    "existenceByExample = Forall((k, l), \n",
    "                            Forall((P, iterQ1k),\n",
    "                                    Forall(yIter1l,\n",
    "                                           Implies(P_yIter1l, generalExists_Px).withWrapAfterOperator(),\n",
    "                                           conditions=[iterQ1k_yIter1l])),\n",
    "                            domains=[Naturals, NaturalsPos])"
   ]
  },
  {
   "cell_type": "markdown",
   "metadata": {},
   "source": [
    "**If the negation of some instance exists, then it cannot always be true:**"
   ]
  },
  {
   "cell_type": "code",
   "execution_count": 4,
   "metadata": {},
   "outputs": [
    {
     "data": {
      "text/html": [
       "<strong id=\"existsNotImpliesNotForall\"><a class=\"ProveItLink\" href=\"_proofs_/existsNotImpliesNotForall.ipynb\">existsNotImpliesNotForall</a>:</strong> <a class=\"ProveItLink\" href=\"__pv_it/af6f9fa70fbfc829fbca678eeecccaa019e84f950/expr.ipynb\"><img src=\"data:image/png;base64,iVBORw0KGgoAAAANSUhEUgAAAyEAAAAzBAMAAAByNhrNAAAAMFBMVEX///8QEBC6urrMzMxUVFRm\n",
       "ZmZERETc3NwyMjKqqqp2dnaIiIiYmJgiIiLu7u4AAAAU9Wx4AAAAAXRSTlMAQObYZgAADe5JREFU\n",
       "eNrtXAtsHMUZ/u/he9/aQCFAAz5ECqlQZFOQCEHUFzBJSxvsBtI2QZQrFQYENIuIiFugPqA8SvM4\n",
       "SimoD+WKGhFACgflUQStV41okSnkovKMeumlClEkSO3mYSdxwnX+mdnd2Z19+M7Bl5SOtOe92fn3\n",
       "Md/MP///7XcGaHaJVN6Dz06ZVSl+aucO1GqTOnkiw/6m4TNVolmHSuUy3ie1WtskEHn4nOpkbm0J\n",
       "/B8Ro8xkXamcc/5kEOmc1J0lsiYi0eWkHMG9eJZDXbBU1ylSGba5IJLK851Q8xD5DZiIhLu7u+dW\n",
       "j1hAQmYnJnv2dC+Yj3vn1nmSy/nmjAhc0nREoseB1WtF1CMWkZgwWFrJYP4u3uqqek/CNxdEAoVm\n",
       "IxIrHj2IvCLsd5H7XkO2ZKnOk6SKbBMREZCOn9psRNZUjx5EThX2B8lasLGXPH29TlZpY5uIiDjP\n",
       "7m02IifDUYNIMC98WUq2HuJhZpK/H668Z+bb3jB8+/0vreQQ3MA2EZEZQtMOtbmIpD45ehBpEdOu\n",
       "faSbR1nsrnwA7VsGPb3XzkLg0EfjbH8t20REEoJxrLe5iKSzIiKJSqXyz4YQifrcRMHr4K3etnG9\n",
       "rzQh7DoAcCH23QoSIWpQK9U0COVcT/F1aB1vPQjbcPw9xjaGSEuFlr3SGG0aIh2ZRuYIN/po5aaL\n",
       "ec0PfSzm2CsE26gP5RDixwPksldh/20mC/qep9Y+gZXHknEE0Zr6BoSuKLueoggDY6kSBLHFaWyz\n",
       "xFrxu8398eYi8g1oBBE2GOMnqMrSjFjjT9UYXSDYRvwu9zgPePVzkBQkonvbXXRc/4ees+xxjo3Y\n",
       "wwmcVV1ss0a/O441dhc0F5HjJ4HIGvJngPVC3C8GVfK2EM+0hV/5XW6HjEhrWUQkvMcXkZ6s7vec\n",
       "EAk9aIZsa9RmIhLa3zgiSo08ResnEzS62AqQYAvX+dmGOy3JGyLS1cv3TyJIFAPjkFS9EPkltJfg\n",
       "JWhV7V6LryPvCjH0cKmZiCQ/cUBEmffOunukpttuXvJAp4hIAgdm6xi7B+txB6tXrE5MsIU2cL6i\n",
       "UcuzwIhmIjKoz5ebSBfuGtgFt7A5olBDPevTd5TambVMtA3Oxu+vs02cI3FxvqRzHJHqJBBRGrWN\n",
       "tDkgku7smE967DJr078H9wxkQytMRAI4v7pGIEzufDY/Tr84Ws2w3jO3/Qo+ex6cr8hqZ2sQZB2W\n",
       "0OdFiKQj+nVIHDuQm7srejdDZBjnCX4oh4Sd6Gi4PdOfgRddot9+y4wc4YjQKfdGY4jQzkyVGrDN\n",
       "WRCJYfRbvR0GH/0A5kyzhrel5P47C/A9ExE6xJ/Jhn6rYn+z4/SLo9VsSz23hUcw8cuC4xV5baQT\n",
       "MaMZouGVlG/WvsZ3Z5EpVFk/94EMQ2QrnngruT/lBH2nndzSHzdvO5FgdiNa3M02ERGL30yOcUSe\n",
       "hAZoM45IomDj4SZahovSHKEJMZ7K/kaRhjdtAiL4vZ0MB/LEP9ePp1UXKxsi3Hax7jIcr0hrA6Aj\n",
       "AtOcnt68IF1HzpRTfbPFcZ3OLIrF28b3c0RuwyGVawwRandbI+mI5oBIrHgK3CH1z4OBclTjN0g/\n",
       "Y7u3XdMyzkA4gx+XEDGszrDym9x2y1lZCOZcrshqyWMFebcMuRCHIiKa3MJcmEZKLD/HzYX7JViM\n",
       "c0RwiLcUGlzZcW4tbsB2Y8EBka7HR5H4eQ+i90N/NboKP+4PHejIRQr8+dnad2hhukdjiOwEdhy/\n",
       "OFsNCfX9qm47/UcaKGXzitCvMkvyobLaIbPXHb2A4Vai6/aWvBGBSwsslMbNFRFlL0ck9cTy5Xc2\n",
       "GmsNLV++vNyA7WCnAyLhvjevL2D/hA5Clxoaw4+DMO+md38C4YyQjyw7ZfWqOEMkXWXH8Yuz1UKh\n",
       "vkvjtsGfYrdsMa8IXRqzJB8aq72IDFQeWDl24jJr8Cg3sC2v8/nmigiM6tHvaF/f5kYRae3ru7nY\n",
       "gO3VquM6Qst74vDie+mPLRl6ePwKhkhSn2v4xdEqL9Zr3DaprSK7LwtXFMY439ui0RdMfK13YNTq\n",
       "C2iSnWzzQOREHZGL2Zp/64TouYQVEZJDYZL2i72L5qlW0sgyH/9Q+Zw1ZeipuiJywckFOM/4xvda\n",
       "XrIgkqyNQehZEpMovIZ+cbLCpN6oD6ncNqw+TYb/duGKIdXSiJQrVf+kviFu1BWRio7IDEo1RIvw\n",
       "LB3tSk91jgczbUWERJDoG1NtkChbSSOxPHQdbN9lRUQM/2W9luawJyISPUYfNL/2sQqL31JW27jm\n",
       "5PQF95/9FACZVXE96yYdkTSZxJR2S2d4pK3Tc7MXZZLHs9EcunchPPsdCRGSzbyKz52lZLJIGolh\n",
       "HXGQ0UOuiNRR5IdJ+RAH670ObvBhKaswpeUuHZGkRtZHnKHDVZ6N4pxRXlikpXLrjUf6S6KKd2hH\n",
       "5FWyPhIsNQjnraSRmHxgVa1aFyI3V47cl7yTK8HKZj9ElPy5LH2cxQ6soEvLi2f+u5p6o4Ug8kU6\n",
       "Ev9W6k1UW7oXdH/VgsgOqpwZ7oQ3VStpJJRnsElNrQuRMvzvlmV+Xguuu4ilt2uDL+JAHkN6LoVc\n",
       "Tur880rrMVl5jczwh293miORZejhOp5aq1kJJ7G0E8cdquEsMmMtJ4dwlgUR5SgZ8vWEXFRCh4j8\n",
       "2XNlh0fKjDBY8bNhVV/sY8xJr99AvNZihGdD4uM5DojEr8LddWAnnMSC04PMn3ivc/RrBDlZCyIN\n",
       "c2ZTUZ6vdXe/rXI+uI5yOUekpdMr+oVAiQZNsJc2S+aQDJrDEEkkLiPml9BVsPg7B0Tg8/hxLdgJ\n",
       "JwsiyBLtthADgw53ZMmMy41zZlNS9hH3MK1+RjCme628V4YIqSql3ULTKeUdKSEiF/b19ZVSndG3\n",
       "yMKd/AdF5I6dToi8hR/7wU44iWX1l+dlri5B+l/PmyyKQ4z8inUdaZgzm4qCAoj4AahbSEd5mWXO\n",
       "VJnBonB3mCOT4+wQdvQ5SM9t46Hl6X8CeC1cQESCFxBEonZE6FnQXZmkkY1jgq53Mm8fJO3/+rEj\n",
       "06iXU20re6Oc2VSUJEmvUtiDdQrpkPyliGz1YBp50zKZHBcmSb8OJxHBsMoQSa3HRX4xjd2HqhKL\n",
       "wso69HcGaSRxTNG57++rFmDm885svD4m8jZEGuXMpqJERkgShp4BhXTrpvNV2bWYLW7giERkXsRg\n",
       "43nZAjE18hzybE8iPadcg5e7BpOyL+BCFLwvQ/NfR0SspJETx9TzQhZejZlzRHxjpbMBRRsijXJm\n",
       "U1FQjz2Mz7AEXzG2q/GaZ6pptljLEUn0yvNuzIrIyyIBQa6XIOuIP9MoTjpVJJxsHNMgibfmJ54z\n",
       "x5j8fj+m2RDhnFn9xUcY5/XmwUeQp2vqUI8deocnb1ujNbVlFEI5VzPWQkEy7zGOSFxe2o23urxs\n",
       "F/o1PqHlyoaIlTSycUy3nGQbD3JmH8iYOjWKCOfM/AqPEUyS008Y5yWq8xHk6Zo6GLz0qSV0tBwL\n",
       "cEFiH6THvXR0rAXNwE/jiATlIcn8hokIp91SOj1XNyL1xSr7ZUegh1/n6jk748z8ChuaAsnpJ4zz\n",
       "EtXlfGy5ps4UQCCBGhiH4d2eqi3WAj1WF0ckNCKTTXZ10IYJ0nOHBRFRQeeKCOPMJoaIQHL6cege\n",
       "ojpf56BPWoM3RUS6xqBjxBMR1mKFNyIbm6qgE1Wm+ukKdkR2WLJ4T0REktNXGOcuqvNdt7imLmQo\n",
       "qNEbb2yDZ/KeiLAWY95eq8kq0w7JOKLZEaGc2YzNsFVKXsRKiohIcrZBcEFRmQ6uRu6iugA42xqV\n",
       "PCFMGm97bsL+zsPqIkMEnZlVR0c/aAva169zRFLyyn6guYike+UQUV9jdESQM1PKq2GjZtO4scrZ\n",
       "momIQHKG8rAzNpI6aCc8TSN3Ud1scLallajHC7JZa+ix6dow0JasZZiyUZTPmao61gLpKY/ot9m/\n",
       "VkhJfjRYtkW/lDOLPjoKPapdVUcrI50mIgLJSTrtBwO58JgkqjOM3EV1BCtHW1qJejym4Ppw6R59\n",
       "wcH4Kb7pXeL5KCKomrPo6Ji0jrZAeorK6BCRmEQjxbLNRYQxlJYyTUIEObPkfjhGUlTRyoDgtQSS\n",
       "E4Vxg4VAm0SvGUbuojoU5Dna0so2U1NndgJpeDqQdIR5raC8EKG0jrZAesqDRWn2r97gIalmSEKE\n",
       "OQhlj4QIrbxNQEQgOVH2trQ6nJV61TByF9WdAS62WInUZzAnU4ckGx8Y44ik5AclbpK1QHqK/swN\n",
       "EXlaanctNBmRmJTH2dh4I5PF7rKq6ljlkICIQHIqZXxFiVyz6mI0ZNHLiaK6nWDaim1opf7zZ2tZ\n",
       "BckD0U0ZrqNzRoS1QHpqB2fjFWlhDzb919NRSUxrkc0YiERX3rVbUtXRyovEfERQ1ZEkpv995sGc\n",
       "jRZa9HKiqA4FB7qtpQ1Woh6vRXL/y5BpMBI4OZ+h0jqjxXxuEpa8W7rp/2GAMjzWcrsTIh+qxIPb\n",
       "VXW0cotmSbMNkvNlUL6Fa4+d8DSM8naSxxDVJQuCrdCGVqIeLyaPrHpekFAJHSLye+nQImg6Ii29\n",
       "XkcNRAa1qzOSqo5WXqlaEDFIzu2QPNiySyY8dSOSmNv0coaoTsmZtmIbWokqvsOiqXNSPhjMY6iJ\n",
       "/83pxgkh0n/9fJm7NCrBQVUX16L3/Vh1NwpL7wpEQZ5hK7YxKrOfFiKH5785TfI/nsk+WSiVCeu1\n",
       "5E7yEcZ5sXY+grzDoakLVhz+TYTyfX6BWq3tvwTeFFEqti4KAAAAAElFTkSuQmCC\n",
       "\" style=\"display:inline;vertical-align:middle;\" /></a><br>"
      ],
      "text/plain": [
       "existsNotImpliesNotForall: forall_{(k, l) in Naturals * NaturalsPos} [forall_{P, Q_1,...,Q_k} ([exists_{x_1,...,x_l | Q_1(x_1,...,x_l) ,  ...  , Q_k(x_1,...,x_l)} [not](P(x_1,...,x_l))] =>  \\\\ [not](forall_{y_1,...,y_l | Q_1(y_1,...,y_l) ,  ...  , Q_k(y_1,...,y_l)} P(y_1,...,y_l)))]"
      ]
     },
     "execution_count": 4,
     "metadata": {},
     "output_type": "execute_result"
    }
   ],
   "source": [
    "existsNotImpliesNotForall = Forall((k, l), Forall((P, iterQ1k), \n",
    "                                     Implies(generalExists_notPx, Not(generalForall_Py)).withWrapAfterOperator()),\n",
    "                      domains=[Naturals, NaturalsPos])"
   ]
  },
  {
   "cell_type": "markdown",
   "metadata": {},
   "source": [
    "**Negating both sides of existsDef:**"
   ]
  },
  {
   "cell_type": "code",
   "execution_count": 5,
   "metadata": {},
   "outputs": [
    {
     "data": {
      "text/html": [
       "<strong id=\"existsDefNegation\"><a class=\"ProveItLink\" href=\"_proofs_/existsDefNegation.ipynb\">existsDefNegation</a>:</strong> <a class=\"ProveItLink\" href=\"__pv_it/92dd8f39a47eb0774ff19f5f58903a584ca713060/expr.ipynb\"><img src=\"data:image/png;base64,iVBORw0KGgoAAAANSUhEUgAAAx8AAAAzCAMAAADB/EVHAAAAPFBMVEX///8LCwsYGBgNDQ0oKCgQ\n",
       "EBC6urrMzMxUVFRmZmZERETc3NwyMjKqqqp2dnaIiIiYmJgiIiLu7u4AAACwKje0AAAAAXRSTlMA\n",
       "QObYZgAADKRJREFUeNrtXY3WoyoSdPcuP4KIwPu/64KAAgISNea7MZwzM44hlGIXNE1b6bpf2RQi\n",
       "hKDumMlff/ybCtTPbvx33wJQunzwHka4U0EEx8OPH/+2QvGhr0kcPerRWCn4CD8YQuhzZtfvUlMU\n",
       "jn/lm/nRwWgslNpI2Wf4gT7Ze+N+71lOUFMYofRncVf5PvyNjU/wLD+6aUhOoOfxgzVMCLYKNkUM\n",
       "GPw8rNcLx0rN/YfX4QXht0L26Cw/Otw/nR+0BTygEEYd+U0gR4qygzEB9K6l3HCaH9r1fzg/hpa4\n",
       "gIgOf/w4UpCLwLAlEsP5myGn8TQ/WOwsPI4fTMmX+EHJjx8HHSxl1wOT8j7L2/1UCU7zoxv6R/MD\n",
       "NIWVV35M/MePY4Uo56Aq57JA5/7IfhADgoM4sxrJN0LYaX5ARR/Mj6lp+gj4oZcfP36cWX5IRfzy\n",
       "2Q5NUjCzAyYkV8f9rUIjY3+aH/EE8jR+NI5Zlh+jEEKZP/fxg57sGfZngN3yA4nF3IbJjjjmH6XN\n",
       "Wqn5BCIH4OJGJHbDHhu2/OiHoDQ8/mgIfRg/oIIv8MOMU6bDL5o/YmjJByEAjnuCnk0qQLsNZHHf\n",
       "AMwVHsexH9e+A7YDTEWq9JhjXNcO9fjIBmzcSAddGxCcnz+6cEZ6GD/6xttdHhkbr+MHieMkplVJ\n",
       "YsKS0yB7qTN53DcAk40nG0BOQd4GO5qgEDTi/Co9aV3Aj5CwD+MH6F/kx8jeww/mvHKqQutg5wOg\n",
       "cqjTI4v7DmC1MfuAH1jh8/wIGnGu2zX8YIE//Sx+IMVe5Me8o3U9P6Tyo6sKh9krgHCtbwu4bwBG\n",
       "ajMUua03MyWD2Yfh9DA/kka8Ref8q14EpWWelIGD9Sx+cCVf5Ifw1iMxEf04DA1XXqoaPJtxGfpU\n",
       "uPgH1e+3QVU34Qq4bwDm25UemRxFoV45QJPJEM0fy6NZn5EsHSSNLFY8DRfMH13AIt2y/BQ/7gcm\n",
       "raOB54dNGDL8EEgv7jG19oWrlx5URX7iT/gB/ESGlFobREP6/QNQsGYbCS52PtEbgLfLD7dIoNrD\n",
       "w0CbNh1gyA/pHbLlIHPKHySNcBKvQ07yA6uQH/Fe2I38uB8YkJf4MQgAzKSsHzXlZkhk1ITd0Qhq\n",
       "7khYtSMoy49l9J4HdN+gtbCTUKi2AIlxO+Z8oKuBZU+UwulDdUEmLsQoMRgcPRZ+AHdtcnlKy1Fw\n",
       "4CrFjRAP5do8yQ++zq2aHyOLnO37+HE7sGx+J0vkfOp1SBR77vpSFXQFfvjPFVobZPgCqB1+RLi9\n",
       "ewLvB7YVs00u6w/YsgjKVgIIOfp0V/CDrctUzQ/qnxsl3a38uB0YqulFfqxT3DB2QP+PTvu2E1SN\n",
       "7iw4HhTSHjzsercUtA1CcgEUrHVmgisk5PgWYOsmjFV+ND2cKTvudbYbR34JP9C6QDcrGz969+xe\n",
       "ftwOPLWGrzwv1pglUiM0oVGb4DPbDh2o+UvGf9GoamQRJHwCooedwJ6w1hilKEDlsEpQ5t/SpaW4\n",
       "YKJyuhJ4p2T8BDoOqufn+NFh64rIC/LbLd/6kB/TOL8oR+97kdTx425grtBr/OjW+piQSZCBreaM\n",
       "jJEhReO/pqgqhnl+6CcIxKC0vbDQmREyD5XDKkFp+y9fWowLB+4M6SrgnVK126Y1aLXS8ibWSX50\n",
       "S8qYjYwpYsqNog8+vnszcN+cSLXDWGfO0+74JmQ+fuXjJLzHYYOclaByWHmoYf/SPC6f9Ig+XQu8\n",
       "Q5B3BmI46i7iBxgifthVqN8jymeqHXSBxio/ImBGVN/3eNmqyicKlSfF/eq4dfujzg/EwTyfowzb\n",
       "knM9pxV+cGXjSb7BTpICVA4rD2V3wuuX5nH1eDtyeCnw3yhn+SFExI85vOedtzlTjYevSczZkejY\n",
       "IN9X+REBd9McfRjdtRUShYoxh4bqQVx7t4PEbvymYfpIAj6bxwiStzk7NrVj5avihkvb4l4G/AeK\n",
       "0b86yw8Q8WMeLvkUPkUBI8Ruk3+Ght44nBz0sna6zo8IuMPYLqKljbFlE4XKIbmG6u38eEtpeWjT\n",
       "ycyC8Wik/GPAf7EMCT+MiQqXQc/tCj683XlX0g/zkmsvSNefyNwnab8kp3f4EQDrg5kodk+3lChU\n",
       "jDi0VC/yg7RMF7/yVaUms5jyQ9u+l16x7j+MRmGbQGBde04glVLb4DRxY/2GCJCtQ1Bwup/VXTBm\n",
       "ZX4EwNrG5+9bQy0lCpVGr6bqRX78JOAeWYrLlNS/0qzwUTrgZwzIiR+JrcnN+WdTv07IDFFuJ4p5\n",
       "A8N+FJ7enz8C4A4q8z6Nc7byCUrlgEM+r2gTv5IVfvxErk4Nx/zYZ+fKVFptjrThO2V+iIQfrBd+\n",
       "/eBmDAalH4ldnXkxPYQO6ygnZImgCeKYE53e58cCrG8pNOp8glKxFPKKNvygFX58IA/te4r3Au5W\n",
       "hevzyyYa2NImv31fRi6J75ozPIgoaXsLcV12pKFOEMUy3tTYjW5g773wXHx6lx8LsJ5K+sjgcwlK\n",
       "FX5k84qSUtwfnKnxgTy0L1rRLl12sypc3lPAm3kF9dvvFPmR7A8as3b3YDPVEJiCxGyXHTnzQ8w7\n",
       "euaMIQKdpFtdczGt/FhP7/NjWjs2NOp8glK5l/J5RenMWgr+zvz4QB7a15T13Y+7VeGyWS10y5qQ\n",
       "H3syckl+SeQqEjdj6A/QYs3IfyRxNH90EPHZvrVzhdn2tL6EPX6sN+Cdn1yiUDkbqJpXlPrBpfxE\n",
       "EY1z9+WhfU1Zld/uVoWToGn6iPixl+ab5CdGcMLNGEiYXBdjfD47cmbd6lbagPk0LzTmtYc1q/B0\n",
       "uTu3/DBpau49gm2iUCUbqJ5XlI4LY40f9+ehfc3ifB2vi6pw4wCmeO37csk2QbajWU4xKOTHnoxc\n",
       "nN+emIoxbDMkE+4T3Vx25Jx/Jgn0t22P5vToflkrhadf4kc0Zy7jQJqg9GpeUYpLavy4Pw/tW0rw\n",
       "gyolVbix7+Z3m5g6vEmbb2LcuvAE7fBj5zXD+P2o5DNWMD6/qhnd+uPUdFzlxzZRqJYNVM0rSjsO\n",
       "VPkR56HdUM6JsrE/A7suVkuqcNqlmeWq9AqRdMc04aImFkU4Lwk3U9FqwP3vn4wSXMQPVn9NPX6/\n",
       "NrkKUjC+K/PP6vyoJAq9nFeUDgyyxo84HeyszxF36xvU4D6kBZeBBXDt4bwqHOLdOE8tQvv2xzTh\n",
       "oibWHWwIWqaPmB87MnKAlPmRZKqt/7kyiP3X9H3C1wX5dA3WDWpwH9KC28KuABVVuFmOR6o5xn5Q\n",
       "8ypoYnGrUOqv5QUqIn7UZbJ29H3ymWqX5p/9NX04/7SidLAL+fEmNbgPacFtYVd+lFXh0OwbQbt2\n",
       "OMaPsInFpdvwY6An+TE9Vh+upC8q1id/2WbvHWpwH9KC28Aubm1ZFc6pgVoP6SA/wiYWGw78q3mn\n",
       "/L//ySrBveBfPVhfFOZ30MVqOy50DrEJY0mw72yVajaqwbUDZaqe0II7c4MbWDIty4+CKpwxbmPW\n",
       "g12/bzThylJwwUHQxGq36U9q5qePmB91GblwF+Bxv2/QV/nh08Gk0I/BPBDzcKu5kUHNSAyuUQ2u\n",
       "HSiHdFwL7tQNbmCXxUBRFc54eWCOMMKAHy1ScEGloIlFES6N75a6pD2+++TfN9A3X+WHTwejzCj0\n",
       "ddjIEewopa0148BJmxpcO1AO6YQW3Jkb3MDaYFJVFc5wAgjiXL1UEy4rBZdqwoVNrDsMA2yZPuKo\n",
       "W1VGLooMP+/31XiVH0s6GDejL7BvV9Yd9rUm6Er8qKjBtQNtkc5owZ24wS1sjWHuMzhfhAsZHNOE\n",
       "C5rwinBpfglrEeiv5pc8+/fVOgaq/OjCQKW0HvyO+Sw147zGVjW4dqAt0gktuDM3uIWtaV/Zz+ZN\n",
       "b+rntEOacEETiyLcIgnnn2RL9LEqI0ee/fuc2d93zvDD7KF6y6qpwQU1YyNpVIPbAL2CdFwLrg23\n",
       "Apv2asUu58+4XvVSYTcLD2rChU24nKc01tw2fdTy2+HDf9+5oxlfIMMPOoghdIcqqZG+Ji5u/tXU\n",
       "4FKgV5BOaME14VZg0+6qRArsZyb4utlEe00TLtMEpq9PH1UZORHvID+PH2HCTpkfsqfeO99Rg1tr\n",
       "RmJwrWpwGaB2pBNacI24FdiEBBVTf58qHE8MCb70nQw/+mQCeiA/Nn2Q4wfXI2c/xyL31ODWmpEY\n",
       "XKsa3BaoHemMFlwbbgX2C8qWH5ux80P8YAihz73Eukk/Fhn3igzx3F0apbc1C/zIq8Flvt6MdEYL\n",
       "rg23AvuN/IDRMkpqI2Wf4Yce1NQHX7NIHWjxBv2r96vBfUgL7kuU4DIyi5JEtzYaKwX/B21r4kW+\n",
       "8pO3AAAAAElFTkSuQmCC\n",
       "\" style=\"display:inline;vertical-align:middle;\" /></a><br>"
      ],
      "text/plain": [
       "existsDefNegation: forall_{(k, l) in Naturals * NaturalsPos} [forall_{P, Q_1,...,Q_k} ([notexists_{x_1,...,x_l | Q_1(x_1,...,x_l) ,  ...  , Q_k(x_1,...,x_l)} P(x_1,...,x_l)] =  \\\\ [forall_{y_1,...,y_l | Q_1(y_1,...,y_l) ,  ...  , Q_k(y_1,...,y_l)} (P(y_1,...,y_l) != TRUE)])]"
      ]
     },
     "execution_count": 5,
     "metadata": {},
     "output_type": "execute_result"
    }
   ],
   "source": [
    "existsDefNegation = Forall((k, l), Forall((P, iterQ1k),\n",
    "                                          Equals(generalNotExists_Px, generalForall_PyNotT).withWrapAfterOperator()),\n",
    "                           domains=[Naturals, NaturalsPos])"
   ]
  },
  {
   "cell_type": "markdown",
   "metadata": {},
   "source": [
    "**\"Unfold\" $\\nexists$ to $\\lnot \\exists$:**"
   ]
  },
  {
   "cell_type": "code",
   "execution_count": 6,
   "metadata": {},
   "outputs": [
    {
     "data": {
      "text/html": [
       "<strong id=\"notExistsUnfolding\"><a class=\"ProveItLink\" href=\"_proofs_/notExistsUnfolding.ipynb\">notExistsUnfolding</a>:</strong> <a class=\"ProveItLink\" href=\"__pv_it/9a565cf05297b008e21f68e6c394c2933f21ae170/expr.ipynb\"><img src=\"data:image/png;base64,iVBORw0KGgoAAAANSUhEUgAAAwMAAAAzBAMAAAA5nskgAAAAMFBMVEX///8QEBC6urrMzMxUVFRm\n",
       "ZmZERETc3NwyMjKqqqp2dnaIiIiYmJgiIiLu7u4AAAAU9Wx4AAAAAXRSTlMAQObYZgAADXBJREFU\n",
       "eNrlnA+MFNUdx3+3s7f/dzix2mpF1pQijSGs0dYTY28RhP4J3hWlDZCWLY2nRi1jJB71Tzm1/qnl\n",
       "z1r/pmrYkhJBk2OxSkskvUmJrTmqHKkKku6xNEhIKr3jBI5/sn2/997MvDd/dm73MHvQSZibffN+\n",
       "OzPv897v/d53fgtAvbdQcSfZR0twbm6Ti/kv7LsbyuURfXksxf4m6T5yriKAcMalUL2JN0K53DQC\n",
       "BM9cNaJmmw8igiT8XyGASazt1KuuHQmC9IjuLJaxEIQ7Op7vOBuaM1Coqnoi5Ykg0ckPlPoheAUs\n",
       "BMEZM3ZNG72eKN56eMbsWXh0dZWWN3sigBvrjiB8PkiOaHpIG72dfwzpsj/F+1tZpWHEG0FDrt4I\n",
       "InkZQe9oRtBCbnY1+RcvVGmYyMsIhJEevbTeCFaXJATh7GhG0E18+vY28sjVOku1SUYgjqLH6o3g\n",
       "YpAQJAqjGcFi8q+VOI5J5O8nKx6d9EHl6kKVO2QEE4RaU7T6IkiclhEE06MZwTHSn4+yOFr9GMb3\n",
       "dVd0SGKVtTKCmGAYaasvgmRGRBAr7inuqQlB2OcmcpVO3lvZNmocKCcArscGW076ig7lQlkHJetp\n",
       "x6uorcRtvWggaCzS7YijF9YNwZSUPAoOwHBGATf6z4od03nJ/T4WU+0Fgm3YZ3GvGOfjh19b+yoe\n",
       "jCW9BcJlbRsot/R6r3hYFZhMji+zRUTRR6zjk/VF8AOQEfxuWAhYz4teqKmLU2KJvwpiNoFgG/K7\n",
       "3Br+N2R4zUHaew/RL+qt5GYPcScELfag9MBY83B2fRFcYEOwvgoEq8mfZawFon5RotppC8QsW3jJ\n",
       "73IHjGVBr4ggeNgXAauy3AWB8pQVVK3W6olAOW5DsHL4CNQyeYoxrGP6G02XiQi2cJufbZA/YUsb\n",
       "L7iINH2+4STEtUoIjCpDoiPic8FHQljbX6gngvhpG4Je0prqzA/XPeqouu/u+U+mRQQx7GJjhtg9\n",
       "yOddrN6W/ZJgC03gfkWz1FiJdRve7C7SboPLBuEeNgpUWttYcpkHvApt23flURAVR0QyyxGURoBA\n",
       "rdU21CQjUDIEQTI9ZRZpopvkqv8MHF6WUZZbCBpwBLUMQJDceTM/Tz+4Wk2Q75nbfgev2QnuV2Sl\n",
       "zToEeIMtNr6cePdl2WmD4UcYgn4cCbhTPxcPeJV41hmULpUG2QBHQAfUttoQ8FVVDbZZCUFkx7ji\n",
       "ntID0P3CxzD1y3LUWYgffygHP7MQ0E68IaP8XsMGZufpB1erZlnsYbbwHPlDGtj1irw0lEZI2Lt/\n",
       "WP4+P0NinHixa9qTKYZgL37bXnJT6oXGwXjNrBLCdnlERiD5vvgQR7AeapCfOIIYht21vGzpz8uj\n",
       "gHtd2t122kfMaeo0LAT4eTzhT572WeN8UvOwsiHgtvMMp+B6RVraAByB+MjWVehccLnjwQJWjYar\n",
       "nAKF5DGjxzmC+6hCUxsCandfLcsCXUaQZMrdOHjQ0SBPNfSGdX6DdB/5bN+ixpOs1Sfy8w4EptVE\n",
       "WRzktn1XZCCQ9bgiKyWPFci6qG4iAt0ZjgrdLM5Wwx5KKWn8kxwBduLGXI3TMY6eeTXYbs/JCGj4\n",
       "17LmKGoqOyH8BCwthVfi7gnlxJRsKMefnc1fn89JtuoMwUFg5/GDu1WPUL5UM2wv+aUOaq91RViq\n",
       "MUuy01hpj9TidpktvO5IwQdBcD17Lk8E6hGOIPFqR8dDtUZEPR0dHb21SI9p23RM77n9vdtz2CDK\n",
       "KWjRlCHcnYKZd330awimhHXBknGrVkYZgmSJnccP7lZzhPIWndsGfoPN0mddEVp0Zkl2Oiu9gfTM\n",
       "lP2+l8hxnfPBbPPirEoI4KgRlB5tb99dK4Ix7e1352uwXajZglJh2yn2JX6U/FRaCwdP3sIQxI3R\n",
       "hB9crTrFcp3bxvWV5HCzcEWhQ/OjPp2+cLFJUtWFHvF0RQRfMRBMZxP1vcPStmIyAjKN4uro+SNz\n",
       "Z2qyACONuD8XvySH7q0lTwTXXZyDa8xP/KjxTxKCeHkIlI1koKu8hH5ws8Lls1muaNw2qL1OOvh+\n",
       "4YqKJlUi2wLNf/k8PCXRE0HRQDCBruLDedhI+7PaWprq/X2NMgIS2KG7SzRBrFcWYMTt6dtg/6CM\n",
       "QAzDi46IRHc5EhGEzzN6ycs+VkHxU0K2jepuPlzw5pkzQWBy0fNrdhgIkmRcUs0qmeLBr6FtNc9N\n",
       "xS9g/VV5bA5s/IkDAVlVbMEHzVDpVRRgxOCL+Lzw554IqticD5PwWaJ3VTq51UfiK8EXuz1sIIjr\n",
       "ZFLDQddf4ktAHBXqW3P1RLbLfIa/xUp4S3YEW8ikRuDpEOyUBRhxEYBF5dKwEIScQ+Jc2ZxpdSYC\n",
       "tfNqtm6bzE4sp9PDpsv/W0psayQIvkH72j8KbbFS44zZM74rITigYM/sT8N7mizACNsGrFLWhoXg\n",
       "3M3ocpkUTEcEt93AFpJrA5uwqw6htpVAcTBx7TWFLlw0vEMG7TMPuI2C0BJ0WlNeW6vL4o24jSfO\n",
       "VynjOLEiIrGKmB/F8ro6zoK8riuqqfxXjiCRcp2O4blethZf/tt+zZihI8zRdm0ljmge8tga+3Sq\n",
       "C4Loj/FwHdjFG3HDAUBGSLTNPSiV8qNYXteM0ZrXZSV1KVXN1Y1GdHqza1AKDQUa2sAROrWhwNfM\n",
       "Xvgl0rHYTcT+Rjp15f/gggC+irtbwS7eSAhQcflMWoKLSzNJoOKOaNS+yzeTuqpUxjo5gojr0gwS\n",
       "JapZKZdQRRgFvma4vr29vZBIh98ns238XxTBgwfdELyPu+NgF2/EbdW3Z6YWFiD57zctgUIYkFJ+\n",
       "1GhHYCR12d5D+G49HIGoeZgCBffHWdL9r1S4wDcR9vGI72t/AXgnmEMEgesIgrAdAf0W9ECWAGPT\n",
       "a6Dlw9QHp0j9v3/qKtNJ+VGjHYGR1AWXVme3lyNQm1xkOk6kl3T/6+OkIVHg6yHrR4Yg0YUz8zwa\n",
       "Q/eUHAIF29ahCzMFGIdeE56261gpB5PedBerJ8FZhMBI6goQzxJ7WIdkRYXMqhHK8YjoDhexmm99\n",
       "ENFCb6BItR61LXURNs4iXA19HWeTwOMputJ0RSALMG56TetbGdgSsUaB+Mpm/tmEwEjqaiR9aG3D\n",
       "EKweqFTbqhFr4wjWCh54SEawWVzbI2IyF/jLdKL6rYnijU2v6SZR0azYG9YKTBiPy20IYsVibXld\n",
       "Pmld0UonfbK6jEjCTOqK6MSnLBuChVn4lqcVr7GPhCnRTo7gRUHNHpAR7BcaMjosPdCGQBZgbHrN\n",
       "PRfZgjthDT3WSC/IVzUKAg4J0CetS8l7q4d+WV2GamYmdTWkQCls6IQ9hW/O9r4iqxEgrihgvD67\n",
       "DGyuwELANauEoW1VjaCqTUxiMQQ8GmkPH0HIIQFmfSzWeKuHflldhmpmJnWNwYLxBbWctn6r4rLR\n",
       "GuiElAGOoEWYEO1JLFuHqW2dEQRiKteIEAgSoO/YPeCtHvrJ0kZGmJnUhQiUshYoQyUErAZxWq4I\n",
       "ttc1lUtMaLxoJAgECdDXJpj2VA99s7r4axAzqQt/I5M4BLFjFRGwGmM0d0dU54TGKZbxXa4IArPz\n",
       "6iUO/y8UhuwSYAPAhN2wV/c0sv1GRlQPmzxszcK3rWUBuzopTRyDyAmGwJnPRXesxpXAft1HEbxr\n",
       "ffmJ+iJIWoKRGaalRQQHIwOJU3bFjxbytK6QKAFiNlYzWdysgu26PTPLNApkvNRDpdPdlhU262ZG\n",
       "mJnURYPMQ9A9yBA487nojtXY5B6U1ju5PWHF05NtQWkEg9LSL5Zlg0N2xY8W8rSukCgBYjbWBAi/\n",
       "cBRaNXtmlmlkSwsS1EMCx9WWFYbSPB1JSOrCKAdeGbf4NEOASV1WPhce0KQuVuNODGJTHIGV3B7J\n",
       "1BcBk/fY92jOpRmO+VxDk0NuooVNIgImAeIb+GeJqzkO5zkzswwjOwJLPcSsLldbWkg8nC0jjGyE\n",
       "VSCNywI2F7gndbEa56ddBYp6/9AJnrYGRN4VweJSf8aBAAt5WldIlACx6SZizKgediIwjGyZWYJ6\n",
       "iGdcbWkh5qpNdNHdVg+EcSS9Iq+DxHUSraEOkPt7nSMQful0K9QZgfWjVzexGjUNwPbRpCQrWsiR\n",
       "MQRcAsSmO4jrTVRqbZlZplEi76Ueqr2WrVSHFvZwpVO+/xJ05x8iy8r7Vy3wRMBqfC/HglpEYAXG\n",
       "gbr/6DVsed0lrgiW7mKvHsQkK1rI07oYAi4BYrMnSxBe8fBnjsws06gx5ake9oFpK9fBQnypOMdx\n",
       "/xmypt9tzM4eSV1mDap6IoJZ1pPW/affglgSLrggUH+ErhkdkaB10EKe1mUuaFECxGaP5+ATjXh9\n",
       "e2aWaRTxVg83g2Ur1qGFfTp75SJvD1TzsH/k1OJWm82FuiNobHMNVs2J8FTjIFX8xCQrWsjTukwE\n",
       "KAFiNpaahW59YcqRmWUaveStHu4Hy1asQwsXaMNUzfwGvhgURzvPBIIR/mc4d1ZEEH78V5rVXfmR\n",
       "WSgiMCXAl2Hp7bPA2yjjrR5GdctWrGMUBuFMIzgz/xnOCP9LKGfSLLim1nnJDc4JsPKwrJiZ5ZPV\n",
       "1XUGCEhpderP+U2Vy03/A9Fn8hizHYKGAAAAAElFTkSuQmCC\n",
       "\" style=\"display:inline;vertical-align:middle;\" /></a><br>"
      ],
      "text/plain": [
       "notExistsUnfolding: forall_{(k, l) in Naturals * NaturalsPos} [forall_{P, Q_1,...,Q_k} ([notexists_{x_1,...,x_l | Q_1(x_1,...,x_l) ,  ...  , Q_k(x_1,...,x_l)} P(x_1,...,x_l)] =>  \\\\ [not](exists_{y_1,...,y_l | Q_1(y_1,...,y_l) ,  ...  , Q_k(y_1,...,y_l)} P(y_1,...,y_l)))]"
      ]
     },
     "execution_count": 6,
     "metadata": {},
     "output_type": "execute_result"
    }
   ],
   "source": [
    "notExistsUnfolding = Forall((k, l), Forall((P, iterQ1k), \n",
    "                                           Implies(generalNotExists_Px, Not(generalExists_Py)).withWrapAfterOperator()),\n",
    "                           domains=[Naturals, NaturalsPos])"
   ]
  },
  {
   "cell_type": "markdown",
   "metadata": {},
   "source": [
    "**\"Fold\" $\\lnot \\exists$ into $\\nexists$:**"
   ]
  },
  {
   "cell_type": "code",
   "execution_count": 7,
   "metadata": {},
   "outputs": [
    {
     "data": {
      "text/html": [
       "<strong id=\"notExistsFolding\"><a class=\"ProveItLink\" href=\"_proofs_/notExistsFolding.ipynb\">notExistsFolding</a>:</strong> <a class=\"ProveItLink\" href=\"__pv_it/9d12248cd44e882813c918391c4c130ad4b7a47b0/expr.ipynb\"><img src=\"data:image/png;base64,iVBORw0KGgoAAAANSUhEUgAAAyQAAAAzBAMAAACUH9GJAAAAMFBMVEX///8QEBC6urrMzMxUVFRm\n",
       "ZmZERETc3NwyMjKqqqp2dnaIiIiYmJgiIiLu7u4AAAAU9Wx4AAAAAXRSTlMAQObYZgAADatJREFU\n",
       "eNrtnAtsW9UZxz/7Or5+J8CgwCgxWgedUFUz2OiKWFwa2g2tJAOqrSBWi2kBBKxGVCQbsAQYj7E+\n",
       "zHhNPFQPrVoBLTUMylDZYq1iQ2XQoPEo1dyarVSVaJc0tE3TtPXOd865955zn7ZTcIo4Uuybc8/n\n",
       "63t+53znO39/NsCkKsHS+/D5Lf7Slk/19X2VSn4i9pGkTWUcPt9lqdOJxKXseW1lzwSQPHRueSLv\n",
       "7kr4AolQprPO/O+5D04ASWpCby6S1o7OlpF0k5I9JtxQoabmf+NIYknb07E+fnBOw5A8pR0oaRlJ\n",
       "OymnT14QL1ba29+hQ+a82gybUnyWXG5//uJGI1FP0I5CZavjunYST44DJAiZggcrajTs40hCDv2Z\n",
       "azCSkB4arIdjColyECBM/iBaqNFyI0cSE6IiYTiGT28wklX6mzn92EISHSGdug/vv9bg5kOOJNFi\n",
       "1Ikz7Z4GIzlVXyT7ji0kwWGAwBiGSOTvo+V3T3/HtXnih5u/vpytlsEcj7iuN05PE5rOzDYUSeyI\n",
       "vurljy0kzWQIDWVYEJ/4AFq3Drg6sN053+GPx1mM2cmRrBbiTsE41NlQJHE9zAoVTUj+WCqVRut6\n",
       "0Vs8zufcwg2PuwlrB215UN7Fg2VkthShUqgUQck42n0PmsebD8F2MgTDfRzJb+lQLNGyzzJMG4Vk\n",
       "ph6c+8jR1fjmttQ4S/grfLz87bm8V73EhNnmCsMWfu61qmsvPnDJs1dSD3M8GeOgVrJvgHLFoKNd\n",
       "HnpHYwXwkxb+Fo7kDBH1XcbxeEORfN9wBBqc82pEwkZm+KRsYgl7iWCtEo5gCxkv46f58xJtVR+h\n",
       "I5vKH+FBF8NNLdxpKcMcSZt4eufx+uGChiI58WghWUWeelmPPOFlkegzRX2Gbdgzot3Jnw+DiCSw\n",
       "1xNJR5q7Z1skygNG4LYq20Akyphlh1QfkkSF3FHzkSqN5sqEBNugp4QTYLer6M7/FIIi7xuHaNYN\n",
       "yePQWoCXoTlrdlx8LXlPCKWHCg1EEj1iBJVFWyTbb7ryfssFEvPeXXO3hCSCo7SZRQMt8nkbq/Wy\n",
       "HxNsfWB/RaOW7wyjI9qZG0kfjvSOwM1sliS0nR890P5LVM6qJNUW2s8xbXl/XfCdkpqUYUjKE0CS\n",
       "qDu4N3ZLkU5t5khI/uXf25uGgPzu4qmZ8/fCrKKBxIfTrW0YGyp9/DxcCg5W0+Qb4LbfIU+zwP6K\n",
       "rFYh0ZWfby70wURC2d7MnBH1LoZkCLGgV8MD/T91f6A12ZOEdQ5BcI80EYcZEjrn3qgPCe3AWKEO\n",
       "W2M19Q+aguDlZDofUQvRsTtyyu9kf3IbDDz2AQRTBhI6yNemsSHpM3Z+9hRwsJol7zCYLTxCt2z2\n",
       "V2S18GNA4rg3XLJXu90ZZMqU+ufcn2RIPiSvljgJN+kZ/pBoJa/1ly3bTybQbsD1JMmRCEGW5Gyj\n",
       "owzJM/UoaBxJJGeWDassQ0K8OsVmq6gNx7jZxWO84xMcF10KWlPYkPoAGg9ZPpjUrExIuO0i8vSw\n",
       "4xVpbYuGRLx/oyVdS86y3KXfaHFCyl5QkTxleIwhuRXHQqY+JNTu1nq2JUVZjbMiecA3qBbNHRTK\n",
       "T4XbtQvS9xz6ZPs1TeO0J/0Zft6MxLA6U67ntlvPTuMZ2yuyWrxPv7mPBPWQIilaJQpjORsmc+s5\n",
       "jiTi5FaUcYYEB3lTrs7lHWfXojpsNwkXtBPnQTk4MxPMYQep90FPWV1BHnqybU/vh+s1hrSLlMOX\n",
       "xTuKFEliENh5RNKTpSb4IFhtlOo129N+UYTdtldU72O12Psxy0ZUdy3qmn0FdyRwSY6F4EuFcNoa\n",
       "h+xjSGJ/6O6+o96Ia2N3d/dgHbYDwoRV03azZN6N7/2K9rRyCNqyyih5aCsGut68LgcXifuSpVNX\n",
       "rggzf7MV2HlE0lakJvggWF0m1XNb/6/JG4iX7a5IjmhtgKwCTUnzTcgf2katdynPhkCW28x37Jb9\n",
       "PAje39W1pV4kzV1dN+XrsF2clZZfu7WE/ZsVxxofh1uL0n47MH4Fa/iK1u59yY0IVn3merSNFlcU\n",
       "IZqzvSI/iu+y++BJrS2u+RPHGHXePJzMkcxl6/4tVclzERkJ2T/hJuvRfQvnZWXNSJqQfy59SX4f\n",
       "HU4hgYxEeZ4EH+fr/3GOV2UlJNHKKGu4g1dccGpObytZkS26qR5tA9nnkpDI2F1RO2p6uQptoKqy\n",
       "1PVsiSOZRr2cmofn6XhPdJRnOxs1yUhI4ImeMdYCkUFZMxLLg9fCjhEZiaNCbM3jKtq4ZhGJehwf\n",
       "QuGinRsXrAKWet0WnrS7org+pI8CEH/J/cOVtzmSOJm6VLOLJ3m8rclzsxYmoyey8azccxk8/yML\n",
       "ErKreRXvNU2VZUEzkmI74iLVw9UhEay8YmtrH23wsOh3ORfz0CIiZfj0y50cSbRI1jacl0NlvivF\n",
       "WZN4aWExlunXb+PvkTK+KzOSV8miSmAWIdAnaUbSJgSrKuWqkbCMx9Bn0QefdZlRyleDJNF3HttG\n",
       "zmD1y+jysu6s/5VjbzQRJF+jQ+ifhc5Iual9Qft3JSQ7acrPUArezEqakVjWYpNKtmokcbuF/nNS\n",
       "1HQ1jguuvYjtT1f71+HIHEV5LobKU+xb5xf6cdPyGnEKD91mN0uCS9HJzXx2dVHSm6TSSvy1UsF5\n",
       "ZERcZXckanf3o92Tv4PPrqUxTalzR6It7/DIIJMLlv1miAxlpQVX/BDzr/0biONahHw2RHbNtkES\n",
       "vhoP14BJb5IKThAyg8KdDkGwDZJAe/vmOZPVc+nJdUptS/7lnki0IBh8BaZz7mMidAa1oNkMSSRy\n",
       "KcFwMV0687+3QQJfxoefgElvkpGgwvSJJBEMpDwd19zgpM1C1ZLralzuQp5ItK0ixMpUt1dOW0YX\n",
       "1wIiubCrq6sQS6lvkdU7+m+K5PbddkjewocxMOlNUln57XnJxQWI/+dFQ1BJeiIZnLRI9OS69bXZ\n",
       "oSTjikQTVHjEnCHT4xz8yMJ3Lspz23lg+JW/ArwWyCES/wUEiWpGQt8jeixDMzLJRND2bvKdQ6T9\n",
       "P3bZyo72SNTMpEWiJ9fVmLmMCrArEk125M0HyfS4MEo6diiK8hwVZAiSWD+u9ItozL+xbBFUWFmD\n",
       "Lk/XjCwykTpn84FyDqa/KMTFeS8kscKkRaIl12FSYOTOIsRdVT6hxfUeSDRxnpetEMoGX0CR7hmU\n",
       "5xLXkLrp1+CG7KuY9O2/N4mbX3sksmZkJxN1vJSGV0PGLPFlvJAEUpMWiZZc10TG1WrfKKwadmst\n",
       "tFjtgUT7CIuXV0QJAfGTtcRbdhRnXVbUm0wy0QCJuuZHXjAGWos7kkhpW2lbPUg8MuTCbic9MvP0\n",
       "6ERLrgsViS/qHYXFGfimi7eiLTC1DlPqXJFoH/TyskPo2HBVEqcJiawZmWSim08xjYcjXrNkZxVJ\n",
       "I+C3yJoeGXJK3lkR9crM05U/LbnOlwSlsLYPthW+scD5iqwF/Tj7DA8kzHfoSLhmF+PyXO1Iagta\n",
       "xryQPF4NkqBF1sx4WDztrIh6ZebpiXlach3NQGstJCop4/tLNoW2oEkfbR5IzElDG6qT544OEiG1\n",
       "zgHJM9UjEWRNz/m901kR9VLf9cQ8TUFFJEol66+AGxLWgmY+eyHZ1MjUOiEB1QHJiuqRCLKmp00g\n",
       "5aiIembm8Y+C9OQ6TAqM7YHIAVckrAWm1nk6rsYmoM5MeSAhQXnWvyCfOM2yfgiVQbOs6QOYtgU+\n",
       "LDoamb46JSqiLQ62euV6Y1vCrk5qYwcgdJAhkXPrytoDa0H7+XUPJAcbiiTe6Y5ESRMku0PDsUNm\n",
       "FZNWKssEJFzWxIy6WWSDtRI2Fc3ZdbqRP+2kiCp99rasUkjM05PrcH1Q98DACEMi5dbRA/rAWqyr\n",
       "Ighu8JcZYsOuSEJvTy1tK/+sNxMYNauYtBJz3XQkXNbEjLppoD62Hzqy5uw63ciUjSUoogSWrS2r\n",
       "NBLzjOQ6GkU9NXXJEYZEyq2jBzS3jrXA1DpMqXNDEko3FAmTK51nCfP5Azlfi0Uyo5UtIhIma2IW\n",
       "xMPEr4zBcdbsOs3IjMRQRDEzz9aWVloT84AmBfpTuC1ha4l9bh1rgal1XoJKg78YBw+6I4nzcHMo\n",
       "bUGClTwXMCjKmtiVZ6JfSey1ItGMTAlygiKKZ2xtaaU1MQ9oUuCqYRVn2lPyXkzcq9EWNLUOU+rc\n",
       "kDA9fTJ8ydoWCQtWOwD7KyslxNFKnufGkHBZE7tyN26BUY02ZdfpRrG8kyKaGLSzJW1oJUvMM99D\n",
       "GQbydxxPNqgrr3JEwlpckmP35ILE3+gvWatT3Jd3etSzmX38IiXEYWUgKSDhsiZ2ZbwM6vI7P7Fk\n",
       "1+lGTUlHRXQr2NhiG6xkiXnme0hDU2mLFn045NYZLea7I4k3+qcI2HconYNgGuz8AF07Oi5Bn6GV\n",
       "8V3yhhtlTezKaA4+ypJVw5xdpxuFnBXRV8DONsYqeWKeqdxWk6afckeyEBqNpKnTE0n0UNMIVTHF\n",
       "hDhaibluIhKUNTGjLpGBgeLipCW7Tjd6wlkR3QF2tuezSpaYN/HijCTcdxSQTPDHn27wRKLe+8us\n",
       "MZz5kV4pItFlzSeh57r54GyUdlZEw0U7W6MyAJ8qkqPy408T/Ik0a96zhqTqX66z9pJHhpxrgpxH\n",
       "Zl7/USAyo+SEJPFTridU9vwfU3oEM3AW+pEAAAAASUVORK5CYII=\n",
       "\" style=\"display:inline;vertical-align:middle;\" /></a><br>"
      ],
      "text/plain": [
       "notExistsFolding: forall_{(k, l) in Naturals * NaturalsPos} [forall_{P, Q_1,...,Q_k} ([not](exists_{x_1,...,x_l | Q_1(x_1,...,x_l) ,  ...  , Q_k(x_1,...,x_l)} P(x_1,...,x_l)) =>  \\\\ [notexists_{y_1,...,y_l | Q_1(y_1,...,y_l) ,  ...  , Q_k(y_1,...,y_l)} P(y_1,...,y_l)])]"
      ]
     },
     "execution_count": 7,
     "metadata": {},
     "output_type": "execute_result"
    }
   ],
   "source": [
    "notExistsFolding = Forall((k, l), Forall((P, iterQ1k),\n",
    "                                         Implies(Not(generalExists_Px), generalNotExists_Py).withWrapAfterOperator()),\n",
    "                          domains=[Naturals, NaturalsPos])"
   ]
  },
  {
   "cell_type": "markdown",
   "metadata": {},
   "source": [
    "**If all instances are true, then there exists no counter-example:**"
   ]
  },
  {
   "cell_type": "code",
   "execution_count": 8,
   "metadata": {},
   "outputs": [
    {
     "data": {
      "text/html": [
       "<strong id=\"forallImpliesNotExistsNot\"><a class=\"ProveItLink\" href=\"_proofs_/forallImpliesNotExistsNot.ipynb\">forallImpliesNotExistsNot</a>:</strong> <a class=\"ProveItLink\" href=\"__pv_it/5d67e61f307a1dca3599b4671f785e6e73ae8b3e0/expr.ipynb\"><img src=\"data:image/png;base64,iVBORw0KGgoAAAANSUhEUgAAAwMAAAAzBAMAAAA5nskgAAAAMFBMVEX///8QEBC6urrMzMxUVFRm\n",
       "ZmZERETc3NwyMjKqqqp2dnaIiIiYmJgiIiLu7u4AAAAU9Wx4AAAAAXRSTlMAQObYZgAADX1JREFU\n",
       "eNrlnA+MFNUdx3+7s7d/Z4dTq1QrsqYUaQxhDW09MfaWckJrg3dFaQOmZWvjoRHLGIlHRcuJ9U8t\n",
       "wln/pmrYml4Em5yrUVtT05uE2Jqzypn6B0kX1gYJSaF3nMDxf/t+897MvPdmZmdvD7Onfcntzrx5\n",
       "v/nzPu/f7zu/PYBGp2jpQ/gCp5mlwmd27lClMq6TJzP0Ow1f7BTLeWRqV7NKqFSax4Hgkdnl8dza\n",
       "Uvg/RgAzaN1psy8bD4LsuO4smXMQlD8v1Rkujqm4mvFFoHazDaVxCJ4BB8Egfr81YSs+1X6wbeEC\n",
       "3PrGGC2v8UUAVzYcQewsDsEW/N4wcRv/JNJkf6rXcY9xfwShnkYjiBc4BLfjneYnLoJWcrObyF+q\n",
       "OEZDtSAi4EbcxAWNRrCpzCGIk52mnomLoJ+M6ds6yCOPddLSmkUEfC+6t9EIzgMOgfpcV9ddE3gW\n",
       "Xkn+2kkTmUG+P3nonhnvVS/OFblJRDCNKzVLbywC9RSPAA53du6YwAiOkPZ8mK6jtY9g6s7+qgMS\n",
       "X6RXRJDkDOMdjUWQzgkI5gEsr29WD7iJqqPbbdVtE9aGcgzgCqyw9QARAyrFigGK/9TFimjtZNh6\n",
       "0kLQVDLTIVcrbBiCWRkBwTTQumuwYkb/eejdeSznjgCLOXIGZxsLcO4V63jq4PO9z+HGmaQdQ6yi\n",
       "vwXKtYP+Hg8tAjPJ9oXSiiixztk+3lgEPwABQRpSRg1WtOUlztG1lRk+J1gFsauAs40GXe5Z9h21\n",
       "Rs0Rs/UeME80WG2YPcAGIWiVF6V7z7Q3FzYWwdkigpSRLteMYBP5WktrIBG0SpQ7F2cLTwVdbq/l\n",
       "FgzyCCIHAxHQIus9ECgPOs+5SW8kAuWoiEDrrsnvNBFoFfIUk2jDjOpBJvNEIpxt8OwTYU/Y2sEy\n",
       "ziVVXwgdh5ReDYFVZJQfiNhc8AHX0oaKjUSQOiUigOXfIfUz//3N97iK7r5l6QNZHkESm9ikUXoP\n",
       "4nEPq7+I4xJnC80+V7RzLU+s3xrNVpB6G1k7ArfSXqCZpS2Xy95gRcy6fVPsBQm+R6TzDEF5HAi0\n",
       "em2jzRKCx8gTpbOzFpAqulos+s/wwbU5Zb2DIIQ9qHUYIuTOW9hxc8fTapp4z8z2u/js3T5XpLkt\n",
       "BoRZha20Tk5G97X5uSOxdRTBEPYE/NBO8husSCrvXpSuFjrZMENQt0RGEJi1pxbrsM1LCELkJGug\n",
       "/4mPYM5kcdVZTB29qwd+5iAwG/ELOeX3OlYwPW7ueFq1iGIPtYXHyBepYM8rstxoFiFh6/5h5fvs\n",
       "CFnjpEp9cx/IUAQf49k+JjelnWNtTNXtIlGsl3UiAmHsS40yBHVLZARBEpfd8Tr60VBBQqCW7eYm\n",
       "v0Mz1yPNHALcn0r4k6d91Dqe1n2sJATMdok1KHhe0cwNAUPAP7JzFXMuuMj1YGGnRGi2W6AQRszE\n",
       "UYagbomMIDDtbq/HLTAkBFS5mwJ3uirkwdBgzGA3aH7GP919fdNxWuvT2XEXAttquigOMtudF+cg\n",
       "nPe5Is0ljxXOe6huPAL3QlrlmlmKesM+Simp/OMMQd0SGU7H2HuW1GG7rccDQeuzh1FT+RBi98Pq\n",
       "cmwDftyvHJuVj/awZ6fz18lF6XaDItgP9DjueFsNcPmrdcv2/F8aoA06V4TVOrUkHzrNHRBqXJbZ\n",
       "YpsPFQMQRLbQZa0vAu0QQ1C3RIYIBrq6ugbrkR6zHgginW/f2IMVopyAVl0ZxY8TMH/FB7+GSIbz\n",
       "C1ZN2bghQREQb8I8jjveVou4/FaD2YZ/g9Wy07kitBrUknwYNJcs0Zoy8n2vEtd17geT5sUF1RDA\n",
       "YWtRWq9EhggmdXbeUqjDdpnugYClD/m2xLbS+wRfOHL8WoogZfUm3PG06ubzDWabMjaQzde4K3IN\n",
       "mm3tNMwXLpIkNbalRypbFcGXLQRMIrutJm0rKSIgzgt6R48fWjxfFwUYocf9ufQlceneXvZFcPl5\n",
       "PXCpvce2mv4kIEhVRkF5kXR0jeWYO15W6D7b+YrObCP6H0kD38NdUdGFQiRdpwe7z7Upib4IShYC\n",
       "KpHFCvCi2Z619vIc//M1iQjIwg6HO7UZkoOiAMOnh5fDnhERAb8Md8cRGR5bPILYGVYreTrAKsLv\n",
       "qaJtwvAaw7nRPHc6CMws+Z7mXQsBlciiZCPDFr+WttWyOJM6m7ZX5d5F8OJPXAiIV/E6PmjOlF55\n",
       "AYZffJExL3bSF4FVqoa1rfth1AAXva/awa0BEl8ZPtt0t4WASmSk0w2VmQuIvUJ7ZbGh5vvsZ/hb\n",
       "soy3JCN4nUxqBJ4BkW5RgOGdAMyqlP0R3FLS63MvPm9JiqyzEVCJbDnVt6nARwb0Vy/6b1l9q4kg\n",
       "+LrZ1v5R7EiWm9oWtn1PQLBXwZY5lIW3dVGA4dILWKSi+yMY9JqVv5BJnBfsgciUyNCR7A2/ii1x\n",
       "FLUtFcVB9bJLi33oNLxBOu0ja7x6QXQVDlqznu81RPGGT1PJ4KtUsJ84K6KyiCDW1fV410StN8/4\n",
       "rYvHcgYM6fII67KnY1MiQ198/W+HdGuGjtOBtm8rGYiWII+tyX1zPBAkfoybm0EWb/iEHYD0kESH\n",
       "96IUEUTa2rbPnagjEaejv1xpa3sP710Z21R9DXiFddmLUlMiQ1HwkDm1ocDXQl/4qdlk8mpS7Vea\n",
       "U1fhDx4I4Cv4cQPI4o2AABWXTwUXvD/rGojmBWv/DUq8gHaEdPzJYxfG4uAV1mW7ZqZElsiBcr6p\n",
       "CKPA1wJXdHZ2FtVs7B0y26b+ZSK4c78Xgnfw4yjI4g2fNn57fmZZEdL/ftkRKDIuBIMTFQEfv4Uv\n",
       "8hPkT3oNETwSFdxhXY5Awca7PGn+lyhM4JsOu9mK76t/BXgj0oMIwpcTBDEZgXkWHIEcAUbSa6D1\n",
       "/cx7J0j5v+/zlOkoglh+oiLg47dSxL1RseYuGNs5UDGVVVNHpmNlBknzvyJFKhIFvgHiP1IEah/O\n",
       "zEvMNfRA2SVQ0LQZhzBbgHHpNbG524+Ue2DGy95iNUWgFicqghm8BD5MnCDS58Nk6kzebUC6qkDG\n",
       "lbgJXGFdjljN0k6I69GXUKTagtqWdj1e/Hr0hr5Ghp9s+L6M6Wl6IhAFGC+9pv2VHLwed3pBKC8j\n",
       "iGQnKoKl3DbG9w6Re28iTag3NAqbhqtZciV6wfUGzXllw9JrvG+PjMlcECzT8d1K58UbSa/pJ6ui\n",
       "BcmXnNbULCJIlnaVdtWDICCUK1HtYEAkl7V6WM/ltRZAeR+nPYOMK2tHYVkevlVl9DFL7MZVypPA\n",
       "hXVZ4smwiGAPV5GJmvRACYEowEh6za3nSlPcKbkX7K0hGgLCLtkvIJRLKfgrhkGRXJZSdqYV/kDK\n",
       "91/1/FK8zVAGlOIL3bCr+M2F/henJcL4eBeCO6yLDgUOAqZZqZa2NWYEY0p8EAtF8LtaEERdsl8+\n",
       "wOJZf8UwKJLLUsosgRFdAetF/iQ8NrWoVbLOT1U8klkiif5QK7hjilxBLFtr1LZOCwI+lIsi2FI7\n",
       "Ak72C+yve/0VwyAp2ooC4xFYYiMiUCp6uALVENASccMHwbaGhnLxAY0UwYbaEXCyX6BNJOurGAZG\n",
       "crFXH+c6CBQrKhd/IqMegOSRqghoiUm6z0DU4IDGWVkJAVkU6+GFBe181/jPZUZl2S8kHncbSb+L\n",
       "4RVDFGJ2wMeGry1zv1Y4CFJWj4gSK/UIxI9RBGI4l71HS1yCu2+CK6wLjjUWQbpDRECeL6rvjw+r\n",
       "J2SVz8xkoVxRXvbDCKwWdtzXKJzzUwyVbuIMbYRthhzJZduyKLBe60DWie/F8T12APpHKAIhnMvZ\n",
       "oyVe9VmUNjq4XR0WEMTfnVLaVf7F2nxkVFb5zEwWyhXlZT+MwJrGjvsaSaFAnGJI4MSeOAztuhzJ\n",
       "ZduyEKSZ9pFPVh5kncpc5TwzZeUpigBjuuxwLiemi5a4GQ3WgSusK55rLAIq7zm9gI7Z/T2hZpfE\n",
       "ZGY28wio7Idv3R8NMpIROIohRnKljsIZ7kguy5YhCHnNNwRbOItuAZ0LvGO6aImzst4CRaN/6AQP\n",
       "iwjoC5uV5aGcqzYxk4VyRXnZD6tuepCRFI3FKYZ4JHpKO+hGYNlOdyQ2VxoA4vfGsFM9I7pBvJtk\n",
       "ltCGizSkSw7rugEajCBeEBDQxWM7YP3oQvSVmcmqgSJgsh9W3f4gI/JnR2mJiqGGfW8YlV0pksu2\n",
       "HfAQq+3bL0N/4S7itd2x8TpfBLTEVT308aSwrnDDf/QamyxOx+bG6u30dYMQfYWZLJSLImCyH1Yd\n",
       "vvWuatSUcaK0JMVwJznTQ3d/6orksm0Xsdtb5XX7OeIy77DWAD4xXU6JBeAK60o3/KffpmrCvy/A\n",
       "1dyPcGgWVT7DzGShXLZDi7IfVl2qJ8AoDnIQi60YvkbmV52M+nIkl21rTSOe8VtrxvTKIesO61oM\n",
       "DUfQ1OFCkDrRNCKpfIpuZrJQLhsByn4YgaXlA4yeAi5KS1QM95BtY1nGFcll2SaKcNqTgyDRfToQ\n",
       "jPOf4dzsQhC771e6pPKpXCaHwJb9ng4wysnxjI5pggw5Ny7g+odkG4HPEsHp+Wc44/yXUE7QbKlU\n",
       "o07trpWAUK6q0VgBkVx9p5+AE1mn/ZzdYKXS/D++HgG5vwSW0AAAAABJRU5ErkJggg==\n",
       "\" style=\"display:inline;vertical-align:middle;\" /></a><br>"
      ],
      "text/plain": [
       "forallImpliesNotExistsNot: forall_{(k, l) in Naturals * NaturalsPos} [forall_{P, Q_1,...,Q_k} ([forall_{x_1,...,x_l | Q_1(x_1,...,x_l) ,  ...  , Q_k(x_1,...,x_l)} P(x_1,...,x_l)] =>  \\\\ [notexists_{y_1,...,y_l | Q_1(y_1,...,y_l) ,  ...  , Q_k(y_1,...,y_l)} [not](P(y_1,...,y_l))])]"
      ]
     },
     "execution_count": 8,
     "metadata": {},
     "output_type": "execute_result"
    }
   ],
   "source": [
    "forallImpliesNotExistsNot = Forall((k, l), Forall((P, iterQ1k),\n",
    "                                                  Implies(generalForall_Px, \n",
    "                                                          generalNotExists_notPy).withWrapAfterOperator()),\n",
    "                                  domains=[Naturals, NaturalsPos])"
   ]
  },
  {
   "cell_type": "markdown",
   "metadata": {},
   "source": [
    "**If elements exists in $A$ that satisfies some criteria, they also exist in $B$ given that $A \\subseteq B$ (simply because all elements in $A$ also exist in $B$):**"
   ]
  },
  {
   "cell_type": "code",
   "execution_count": 9,
   "metadata": {},
   "outputs": [
    {
     "data": {
      "text/html": [
       "<strong id=\"existsInSuperset\"><a class=\"ProveItLink\" href=\"_proofs_/existsInSuperset.ipynb\">existsInSuperset</a>:</strong> <a class=\"ProveItLink\" href=\"__pv_it/4e77cc6066455d9ea92abc338a545e41d5c818930/expr.ipynb\"><img src=\"data:image/png;base64,iVBORw0KGgoAAAANSUhEUgAAA3cAAAAzBAMAAADGPOzCAAAAMFBMVEX///8QEBC6urrMzMxUVFRm\n",
       "ZmZERETc3NwyMjKqqqp2dnaIiIiYmJgiIiLu7u4AAAAU9Wx4AAAAAXRSTlMAQObYZgAADlhJREFU\n",
       "eNrtnAlsHNUZx789Z8/x0iP0gHoRNEnVRl4KLSGIegNu0tIGWxTTAqUsQV1AHNkIRFyOeglHKMqx\n",
       "LW2JCihbREpCVbOgAEXQequUNg2FOGqcQMSGTRUiJAg2iWOH2Hj7vvfezLw5N+sj0igdyeuZ2fne\n",
       "zM7vHd/7z38XwGXLzZUcnBjLnEpx2sr21GrF4/hRnuD/++CEWaS01d59VfovUqslJgHv4bOqx++D\n",
       "BIr/h8cW72r6Tz7r3MnASx3PD/IkaPCWkcV1fedXGzo6lrSFB1v4f59b4IX7BHhtZPmSK4hF24fa\n",
       "Fi2kdzrdWOQP7OH5O1wGb2kK9N3mde5ob015gGuwlwg1OMSE7OHB510G7yFwJ7xWMlSvw+H65QYD\n",
       "Y0U9PFl475dVV8ELj7sUXi8Zu7ZhN9doNy8n9PDElhvqcBU8T9Gl8JaQv/YCSRFJ9yn/6M2vr3Ie\n",
       "+t5dde/sHWz1Bj08r7g+4ip426ouhXeEMBvmM50DBc8n7486Nre3oHlPb4murzeMeX8U1u93Fbwd\n",
       "IML7U6VSGZn0JKrO5Yed3ry1TuEFJZs/CnA+dnKhMsD3oWm0aQzgm7Zh/jLUSrWy3E7q6loV3lUV\n",
       "XN7pMNZll8DzHoQJt7wVrARetf9c+Qy/7DvqxPmKxmahxUrFOsHzlKnC0NPrn6I3i4x9RegeiZXg\n",
       "G4tswyIg1XKvAcwh66cZs821SS2HLbkIXiAxYXgxxj3I87TrYD+vCJl6kU8YtoXYYL3YCL/RQSXR\n",
       "aqI7ttHP8bjT5X7Eu0xoNcKT71Hp+ftcBM/T0Tg8+fnOMqYAY8LtDpPhR/qErZbqFfCeoRvVYuHR\n",
       "uifPc2Z9Onjt6Xrw/EP4utIK3twe7VpGXASvtdA4vBdmfYgjQ0+/AG8AG0KNDhjBuvqaX//5hNhj\n",
       "aPYX8gtXap2HfILfQXMJXnSCFy56RiGagxFdt8nGvMotQt0YdRG83qoFvH03X/Gg6RLkBf0b7qX9\n",
       "D58LlbICvGfwbtQoNo9wrG5Ri43q26YQCwmoc3ZlTt6r9HTBMsi1WbWklGDwqsq8m74oWwMHuw/C\n",
       "UkZli6Hl/Vo80U4OrzoJePJxgncNWMD7j3eoOw1+/fXHUy0Lh2BumcpL2HzgKgFeM6n/vhrAxaQT\n",
       "Uo7FDXGhxfpW6mdWWqyfdIi+PNQ5O5zBp3nK+5EOkIb9zcmuJIUnY/870Mdf1K3uzPyD0nKIZsxT\n",
       "BSkvnqidw6M347WJwYvTOl6adngz9PBWkU5kXCpFP7674Pu9vvu7E3ofeQuCKSXf+xf0CvCw4USG\n",
       "YN7J9O6yY3FDnEHQYuFahkhYeGy4g2Ktc3asGwTKZbXvKfkyuey/7N73ueVszJObSeBeZIQvMn6+\n",
       "vaSvjFZ65j+YhCDe0eV6ePpuvjfH4G3EjdUTgxcpQOOSa+OLfNTc8pRULm4cu7Cykz7x/Gw2WwK5\n",
       "v5NVfg4P3zsEsIv3QvS9XYYCaLEJMzwWGyAfOZyud3YGT1yEKoLdptc85M7S7uxZZnnMpzt2XYHB\n",
       "ux2rW2Zi8Gjc7dM/zRuzgveQp08qG29fqHgq3IWXtI/NMXLQmtLgrfnWguTVJcprpnKsER4tFj+Y\n",
       "V39TeGz8v5voO85nx+L1y1Y9vJj5U5a13ChKGnnJ/qkCSYRKDB42nEBhggkLttjLpx1e7GMLeL6j\n",
       "LZlgAW9fV05aDV1VfMm1PjEMN+Cd8tPb+jWSpJc1eK39yR1jrLEdIFv0WNxQS5BWsGJR048VpRW8\n",
       "2CpZ47Gef34Acp9wdu0g4ewiK85V7Z/uWHNlHXj+jWyiYg9voIPBiz21bNndE802ty5btmz6fQnR\n",
       "Q1Ytb8FNO39BO67Wsm8EWnP4UvZnX7++ABeQbmcxZo7DILW/rcGT5r95pFqgvOJVYMfihlqCb4wV\n",
       "6yd5RSBJtlixObLGY2dvIuXsEc6uHSScHS4xqXF6EOY8IarfXOgIrynDpwrD2ezuicJrymZvLk47\n",
       "vMCI5ZjHErycWGf52h7yP4JjnjaQqXna82nKK6p2NrvEWs9bRPwD+jhUax8xJfaVEHnrJfHsMauz\n",
       "500f4s7G6mvKEZ4nz+FdyCadt5plVUv1TQePTGSD0+8m8Y/bwvM9uxF86hUoa1earkmF10uyxvO+\n",
       "UABZGdFwQyvhHF5dXqQyyjmg24+xCyPPAewXzq4dJJw9PCUZuD28eB+HdwYVc6QiPEvbkNxenefQ\n",
       "CPTwSNKMnfNvD3cuyAkyMG6zGez7q7ZfaJU/aiKvphor0foSEN6gEFox+TZjFmu28JZyDwE8ZlmC\n",
       "1oghbWrSamy4bDVWCWf3TwW7ORV7eAkOLw7RMv10cSYHzFFl1bmdyehn2UDru/8SePYnJnikHbyC\n",
       "l52ASJ8gA5PtKNVuwjNy8pKk+eSCyCvcWYyWLstmbxFKMMGbYOM1Z0F1BKKI0wxoc53T9UxzXxRS\n",
       "4EXLZPDGTmKAXe562hJR141letTL+Eekih/HCO8VHLzBn4YY7dq4DBxI86e960jn1G3OaESRV4CH\n",
       "0TNz+hJs4QUru+AEWKxt0yo8OX8201rnsDdW0mEQdd3YawEC7yu0lv671BGpBtoWtX1XB+89ammL\n",
       "l6lspMrA8RIEEJmMM9umcXOmK4i8AjwSrQxFSgn28OJwYiyWA5/abcJ1FzBJYb33BbyfIyirUl03\n",
       "du45pR6cBL5KOoqH77RqecHbsFMcSMHrOUEGJttbcDuCDziazA+9RZFXg4fRShKolMCa4bg1PAnd\n",
       "t+5C4W0kk7F33qoJC/ymj2lBK381kFNymBAbFno2k27zciS5OfLBPAt4Yar7tjy9vizKwC0vb6IP\n",
       "MDw4u24dNOq3osgrwMNo5UilBPNUQYDnb2trm191AbJNtba2HbQunt1QnK3zVp0qgKfEJPTD7ElI\n",
       "BpW5eQxeJHIxuXffpkN08UkLePBFfNkAehmYbP+tqjS6Z9JG/VYUeQV4GB3gRyolmCfphm4z6Arf\n",
       "+xFyoSc3LiLbOm/VSTrEqlRr9Z2ykt6NEsKjum4sJb1B8pHo2xTeXQes4L2BLz/lEwBFBibbA9j/\n",
       "0eGuOWXSbwWRV4NHo5UkXCkBhBzWvfDQhxRGdT3a2PzP6Lw1yWO8L86QJnemj0vaM5muS/KU0/8K\n",
       "8Kq/gPC855FbLhnh0YVrj6oMTLZbcCV0aN/iwKhZfBdEXg0ei16hltiSshSm3QgvSmpf7DDes8Y6\n",
       "eeOjBZMwzQ/rI03u/Ch05VDS3sp0XQIv1oO5y+V0ZrO1apLHeMXC3rErx2RgaQVI4yD14x7fJ5fE\n",
       "28ug12/1Iq8Gj4nIt9OmzEtQLu6oy+EFSbrsxxo+G0eEUwAqjjPMe8osIzE5b9VFeSTElz0QygWf\n",
       "Q2l3I8qqVNedvRh1hi+TRpHyPpA0TnQ1eBtwtGwtMxnYN0a2O79TwD1w26lrVocN+q1B5FXgKSLy\n",
       "33GSzktQlhkuh4dfNxnAYeoKfKbenAvXnI5e7xmBdYN8zm0NT3kYy5eXRLEnb9R17YRpsJCJ9FqT\n",
       "f/RSo36rF3nhGJx011jDi6AXdbLw6phvw5OIVatfaxF8/XwOvVeq5QLD4MvY95XdI3B1Zh/mC2tt\n",
       "4Ck2CL7sF8TVY5NVDfBUcVcv1EZrIwb91iDyHgu83uokW54qlTZsvnXy3taLVTXi3ouevoJe56cA\n",
       "zoscgfio71LbJ2m+0jN5eKeExgmz81bsijR4PM2LHbusaoAXsxZqpZMKRslXL/Lq4Ukky83eYhqf\n",
       "C5OEp0qljZtvHby39WIVjVjzIWGgZxQGDgnfFjUvzSW5lopgQtlqDc9k/dvcqKw6dda/upVFNN02\n",
       "Cu/9zh8LUmnj5lsH7229WMV6C6qMi/BaR6Bl0Amer5bz1ui3G+zgxdxkug0kJgwvuvjnHwpSaePm\n",
       "Wwfvbd1Y/jTMd1jZgd3NtgSQftEBXuwjIF1rU86+23SV3d17yAGed1FRPsUUoex8VS+VWplvnQtw\n",
       "8N6S2DN2w96ybezL2jSPLTchvDysKVJ4quFW8+DiSuwIhI7Cmbi5xRpeU9FF8KDfAd6B0GBszCif\n",
       "0p1onc3rpVIr861zAd60rSw7l0yP18C2stG3q8Zy6636dRP6DZLuRLSWpPBUw63quqUr0kfQexBe\n",
       "cJgquOorXrDNEl4IpwrVn3Vn/CNG+ZTuhGuVZFGVSq3Mt44FOHhvSaz0yDC05wy+XS2WuTffXTKk\n",
       "tF586hbevpN0uwgPfbbUcMtctxluxoXHT10yDjfi8cut4d0HboLnKdm1PEzEC56ESYGjOxPg25nN\n",
       "3ihIpZbmW6cCHLy3GBv9GE4y+3aVWJP11kNOcjqQaR4b82aZBwhygDdFpnnw6ZStPOayrzWHEw7w\n",
       "llQH0qZ7jzulDMhpvVRqZb51LMDBe4uxwXF5yAxPiZ1poTSHa0Am4Qxe2ZysoPY1SObx8mDJ1nkb\n",
       "dNcPCgg/5WGG1w54N/XmW7oTRfmFeqnUynyrFiD6Z9UCyJ/gydXJsgfwIT8K76JvVzy5yXoLqyF6\n",
       "VNqeBGnD4ZIdvN7i3WQyf1HB1nl7WtVd8Jbm7OF1vcmeOonmW7oTrbP7k1R8VaRSK/OtWoDon1UL\n",
       "CCR1nlxRliWx0qp7Dul9u+LJTdZbuA2/bqfMo6Pmz4nDQ6CymydPNs7bt8Bd8MJ5W3jyD3HYMZhv\n",
       "6U60zsIfsjeChZgjmG+1AmIWBYRMopEqy5LYd3NkdNP7doXYvFkNbeSBno3zNuC2n6+CTlt40bHA\n",
       "QZP5lu5E66xxuFBzCs18qxYgyrJqAY+C0ZOryrIktrd8ddLg29Vip8R6a4a3FqYA3nH9ycZgyQ6e\n",
       "9MB9Ob26StbUnXbwBPOtdmzZooC0yZOrybKPQdf1C8H25FNivTXBm5qfbDy+P5ZqHD/iE/JtNmy+\n",
       "dfTe1omdCuut2Ta9n10R/ljq/wAx1XW6ZWsTwAAAAABJRU5ErkJggg==\n",
       "\" style=\"display:inline;vertical-align:middle;\" /></a><br>"
      ],
      "text/plain": [
       "existsInSuperset: forall_{(k, l) in Naturals * NaturalsPos} [forall_{P, A, B, Q_1,...,Q_k | A subseteq B} ([exists_{x_1,...,x_l in A | Q_1(x_1,...,x_l) ,  ...  , Q_k(x_1,...,x_l)} P(x_1,...,x_l)] =>  \\\\ [exists_{y_1,...,y_l in B | Q_1(y_1,...,y_l) ,  ...  , Q_k(y_1,...,y_l)} P(y_1,...,y_l)])]"
      ]
     },
     "execution_count": 9,
     "metadata": {},
     "output_type": "execute_result"
    }
   ],
   "source": [
    "existsInSuperset = Forall((k, l), Forall((P, A, B, iterQ1k),\n",
    "                                         Implies(generalExistsInA_Px, generalExistsInB_Py).withWrapAfterOperator(),\n",
    "                                         conditions=[SubsetEq(A, B)]),\n",
    "                         domains=[Naturals, NaturalsPos])"
   ]
  },
  {
   "cell_type": "markdown",
   "metadata": {},
   "source": [
    "**If an element exists satisfies some criteria under a certain set of conditions, it also exists under less restrictive criteria:**"
   ]
  },
  {
   "cell_type": "code",
   "execution_count": 10,
   "metadata": {},
   "outputs": [
    {
     "data": {
      "text/html": [
       "<strong id=\"existsMoreGenerally\"><a class=\"ProveItLink\" href=\"_proofs_/existsMoreGenerally.ipynb\">existsMoreGenerally</a>:</strong> <a class=\"ProveItLink\" href=\"__pv_it/21c39b90fd8194c5be52e18f6cafc8739e598bdf0/expr.ipynb\"><img src=\"data:image/png;base64,iVBORw0KGgoAAAANSUhEUgAABEsAAAAzBAMAAACdyJv3AAAAMFBMVEX///8QEBC6urrMzMxUVFRm\n",
       "ZmZERETc3NwyMjKqqqp2dnaIiIiYmJgiIiLu7u4AAAAU9Wx4AAAAAXRSTlMAQObYZgAADapJREFU\n",
       "eNrtnQ9wFFcdx393e7nL/dvEVmnRtjnHVphxGK6iQulADknBQUsySBhLqx5UDxlaOUamydAWIp3a\n",
       "FiFcra0dleHsENvSKRxqadXanKJOB7SkNUCLXuYYgWFKaWgIBBLI+f7sn/d2N9m9u+XgzryZ3O29\n",
       "vN++d/s++97vvd9+E4D/s+TOHKrgb+fMHC6btjpyuaRpobrcYFGVPFegXbDCb4PVdpxEnE/fd+Y+\n",
       "AvDlcrWXBZOnpmRNC42fMrOYOqqSY5hcPkxgIu3A/055EjEz5bbLg0nYQqFri6tjGxSOSQtK8bKY\n",
       "QlJ5Ff+LfZgE2qSDW/GLUK6YeLuKwKQBpZuuXjh+l2to6CYYfyHPETZsGyZwR0VgsipcBCY4LbuK\n",
       "B5HzyNG+Dh+052nYZh8mjkQlYLIBKhcTAfn2Xuzf+1N5Wu7VYJItvBHemyoAE+9wBWPi70O+wVl8\n",
       "HfPt5iMaTNqLaMWjFYCJI1nBmLhPA7gu4OUG+jm26ZGJ3aMvXr/x7uc3Rahlgsfk5iJaMTle/pjs\n",
       "z1YwJjXIxeiNooPFiIH3oK6nc9TJ51TCcenkEDn0NfGY+FKFt6K6qfwx6YZiMHk5k8kMFGT8A5Pf\n",
       "J0b5ncfkqnjlg/okCAfwwUY0qqQhl8qlQYiOaPc1qBmquQhH0TzsbZMxqcqQdLaIJfFw2WPi7INS\n",
       "jCYh+nZy09uzpZ42m+umazNUW1hj5rnKJ++ct30xGfGvQeMBeHLxfSAsHHkDIAnrBgIpcKISzlrN\n",
       "Sse7vvALNVT2mFTVlgQTegd7x8XFlZQYt5mFL6QZIVRbiJoZy+GHlfKMSm6GwEfkRKPtE+2vlSYc\n",
       "4bR2QXzimoIv1J1lj4mjqYSYbEVv62gv/cLMQmzjPzO2XlM/4YT0fglYTFz9ppg0Yge2Om2AibCh\n",
       "cCdua7zcMalPlA4TMYeudM2wRaPZPDWMrds0POCil01QHIrxCI+kYwj88dEw+TnUpeBVqImzk47k\n",
       "mxwsYuekN1XumHRmbcDk6P2LH9c1VJxz4IVHOEx8+G6uoR4vulomVn/k5yDG1qE5uZKUM0q7aX7F\n",
       "8boP9VXfuj5YRUcTEefhb04O5E9ibkIu5Kkl/Rlo40cTb6SIixyMsphkLwsmohVMCq56CdiAyb+c\n",
       "/esi4OIbEQxPntsP09IqJg68g1F/GhcUUC+YWPE7FbLtV9DbNLkYzOcbRM4ooFWNU9r8ULYOO9CM\n",
       "FZ3V51lPMenFqOAZCR8onzznXHWh1hDsNlgQtxbTi67TLCZkNNtnNyakMwKp0TEpuOpxxWGyCQ3H\n",
       "w56U/8LDCeFX/FzwIHT+7D1wh1VMyGCwM4ILon40s5rG74BQW3iabnXRYtOv49fJ5IxwLxAKAY6t\n",
       "7Jcv2yQ0tGR2zHo8RDE5gs4m4q9+JCq9iHWoHX86fPR6BNIK7J+EeEyK2hzyD7CYvIjf2+3GxIe9\n",
       "h+rs6JgUWrU4WPxoIt+2Qa3LgNcZDmbSIa5FXRgXJGP46FYaTCTbu9DbT5VFjPbpOXLGWhkT9jqq\n",
       "tRDfZIJ+Z0AtcW1Yv1kfLqYXvRdYTB7AREftxoSc8QGTSafQqp0X7cBkg6PLk9Z2eHXyRnhIbjhp\n",
       "WvWZo0urhggZzqip1Wf5fMm253MR/BtaTIsJOSO+DE7tpQgkeUzS+j0w9dY5jcagl8C2CDFiY4jF\n",
       "BN/yVQm7MSGDxF0mmBRadeCCDZgIg5Oj7gTucM9j0Jr1tKOX1nj9c+dgOYm0ypgIlxYEG9MEE7GL\n",
       "sWqNExP8wljt5fJl2xvWpuEU8lJIMYSJWqPnMXpGTERAt3mnjLSeF86mRscE5iXoctw2TMSzLCaB\n",
       "51taHrZ/pbO3paWlywSTQqv2n7FjNJlz38EnSO8LF6E+Lgygl/q0K/bP7yXgy+y+yeobN7d76TzT\n",
       "w1jVp4kJfmGsFnD5kq3zx2i2CmaBFkOYqDWiI3JGF/IqqkLatvJd7td/Gd75c8XtxATOcQvic7HY\n",
       "YfsxqYnF7k+aLYgLrLpqwA5MpI9x9p6U7teeNLdv6hpaSAv+nrVKG1m1afOxrT/dnga/MmweYmuU\n",
       "joIfoMFV11ZPfqG734KtmFzPYTLb9nApxsQVNthQSmowoVV7VzYvJC1gAiBs0mW7hm3DRNiF/Oip\n",
       "yiepxXfHOUz8uQFa8DhjJcQNrLwpbT62dcVfCoEon+32TybUGuWjqlct7PFaSvZhkuEwuZnMaT66\n",
       "//0O+tmlHwXocPgldd9I3S1/Rz5QzTAmaPF4AkjYkklNGkxo1fBngJeBD4CwHrcum67oC8VEr9NJ\n",
       "G0z1LCaej0kjgTdt5BYwVi5dvmILvzSqkfU3IjZ0rTPTbRsmb3OYBNGgqCytcKuDcp9Maw75P5FV\n",
       "LtgXaTAInsnKpdcq3xPlKWZ0F7YLXgcStsTVPLoAdn1LjwmtGhroAyRMAIRN+uyiMMkj6fttj4nF\n",
       "jtEcb5PlqS8LV1f6IYeJPx3kG9hLNoRfaU4HojukL07vqy3k9dk35ILHlMkK5/VmOUxexw4fHnVO\n",
       "Nt8Df/dl8VXQYiJV/R/A+5RsAIR1uPXZHCaVreIrbZqUSY6Iidimec5/En7ZPeHDbGBflR6TNxW3\n",
       "6n3lYQaSN4nzTeCEECFhS//StR/CP1JNvuzChu6GBIcJrVo8A4FDfACEvcn02RwmwbHetS95IiNO\n",
       "OrAMreScu0mpDjwHdDh3ZwP4xg/cNjWlxeQ1XIKU9j8hW5A8YsZg4l6NJqGaOPyNDNZPPWg0mpCq\n",
       "wTm4/R7ggiecP8zEReSVzjCPSdnIs0qa8tSCBUJaTHgXFp5GE/9JHIcGnxN7lBt/0huvprPpjj0a\n",
       "TLaQ4QCX9m8EyYLmETMGE+83aSVtBBPfB9ONMMFVg48UYYMnbGLjIkYL4qtfnlXS5G/sb7hzLj7K\n",
       "UwsGX9diwi+IwYGwW0smlBYfLnY2LD2tFwj7fPN5TN5fSlzXLSD8G2QLmkfMGEzgU3jqkh7d2wPJ\n",
       "bUaY4KrBTbOZ4AmHCRMXMdpeKwN5VkkTfuB6Cb6E+QbLqrWY8NtrEMCj/ArqD6LpQ7gBjRMzYrFY\n",
       "KhD2vNWjmXROLgdSWlwUUixIHjFjMXmLlBMOxmIrECYPnTLChFRdQ0cjJnjCtZ6Ji8jjY98YJiOm\n",
       "enRfbk0WoAXDsQIWE36zXsobJl2Lpx5/9FYBjkpLuM+8oXVhsUuCS4uLFAuSR8xYTAgLYTFCRxPn\n",
       "7YiIuBYT+sVwthoA0URZ2LiIPOteHMNkxNSJbt/9TQVowcRaHhM+9CdtHLUlUd+gzNa4OzXDT8MD\n",
       "CJOAfkEc2IhLo1M2xOXT4DxipsEEhy3nSvsNezXNVjDxbcazohIA0UZZ2LiIfNrBMUxGTCvRT2PC\n",
       "qhaMLbKcx4R/kEBaCa3AUSjkS9Snq+Pu34CI/Y2JS+UtJoLJms13U/ssKo2NvxMH8tAUySNm2tFk\n",
       "XgKOI7qdPwrhDUpjTJjtSCV4EtBlk7iInMaNYTJiOo9uI+xVWNOCsUU6eEz4x5KYyYl4KFJn+JBv\n",
       "ov4qaliHcK/s0/CJfxb21zGjMlpMlACIQZRFiYvIaQmPyRWRZ5mpsxI2WFhvqaIFwzr1GdgHtKYF\n",
       "k4qIjWisf5bHhH/IUU1T3RNuYiJXbBqpHmxhhskISYMJHwBJG2cr82+2oNFE4sweedYaa6bia5mP\n",
       "h/OyMKrMtKWKFszfv73jeXxgTQsmFSF7o5/mMXFEjTFJu7eFtdEvLSbPoBVQTO0kbKHNK7EA40rJ\n",
       "s6LWTJ9cBsf7IB8Lo8rMWyprwZQHrq1qwWiRDnxVeUwKEGBE8urFksq5rpA8y1SdRU29yE3wUH2W\n",
       "RQujyiy0VNaC1XSxmFjQgtEiG/WY7C97ORcrDr1C8ixzdRYx7cWFc9k8LIwqs9BSSQsG9fIdZE0L\n",
       "JhcZ0E865S8OdZ4xwKS08izHCKZqLjHdia97Lp6HhVFluKXGWjAlV95N65RnLiMtGC8IwwdSEcLB\n",
       "mzwmg2WPCRwwwKSE8qwgUVoYmqrqLGJah7woIQdYw2PRQlcZjnmilhprwZSWOqUOVnTqBlowXhBG\n",
       "DqQi/qhuQVwBf7gC9nOYlFyeJeIuNTZV1VnEFA8keFiwbqGrDMc8UUsNtWBqS6nIR1yU+6r0GwMt\n",
       "GJWAyYIwogWTirjxWLSew6Q6Uv6YOFLa0QRKKc8Cqs4yNpXVWRQTfB46RVq00FWGY56kpYZaMLml\n",
       "xWnBHFN0m/WV8Ee1vLV6TEonz/L+gfzC0FRVZxHTzTPnhL6dgsBfLVtoKyMxT9RSYy2Y0tKitGDQ\n",
       "66d/gYvB5LtQ/pgwf/DzCsizArcAnDKskFVn7cX59QdC3RcBpp6ybGEY80QtVbRgxi0tTgvmepEu\n",
       "qVVMnJXwBz9hVVw3mpROnoX9iGDWqEJWnbUA53tmvXs+i9zYWyxbGMc8e1QtmHFLi9aCkRitikmw\n",
       "Iv58sLdN75vQjyWQZ4ldCVWdxVfIqLPapE+Nr0SIqt66BVcZjXkqLT0Exi0tWgvmD3OYNEMlYKJ8\n",
       "jSshzxJXZBV1Fl8ho87Cm67kUyde7aAZwLoFVxmNecotxVoww5baowVTMFFuw8uJSQn+UYo7ZTya\n",
       "AJRInmWmznLJn1aNB2FmVz4W+srMWxqxF5OS/KOUUvzbpQUyJtZ1OvpLWYQ8y0ydxZr6m8N5WuTb\n",
       "Unu0YJMy0iUSv0/flX+79D9oNxDxWJZf9AAAAABJRU5ErkJggg==\n",
       "\" style=\"display:inline;vertical-align:middle;\" /></a><br>"
      ],
      "text/plain": [
       "existsMoreGenerally: forall_{i, j, k in Naturals | 1 <= i < j <= k} [forall_{l in NaturalsPos} [forall_{P, Q_1,...,Q_k} ([exists_{x_1,...,x_l | Q_1(x_1,...,x_l) ,  ...  , Q_k(x_1,...,x_l)} P(x_1,...,x_l)] =>  \\\\ [exists_{x_1,...,x_l | Q_1(x_1,...,x_l) ,  ...  , Q_i(x_1,...,x_l) , Q_j(x_1,...,x_l) ,  ...  , Q_k(x_1,...,x_l)} P(x_1,...,x_l)])]]"
      ]
     },
     "execution_count": 10,
     "metadata": {},
     "output_type": "execute_result"
    }
   ],
   "source": [
    "LessOp = Less._operator_\n",
    "LessEqOp = LessEq._operator_\n",
    "existsMoreGenerally = Forall((i, j, k), \n",
    "                             Forall(l, Forall((P, iterQ1k), \n",
    "                                              Implies(generalExists_Px,\n",
    "                                                      exists_Px_Q1i_Qjk).withWrapAfterOperator()),\n",
    "                                    domain=NaturalsPos),\n",
    "                             domain=Naturals, \n",
    "                             conditions=[LesserSequence((LessEqOp, LessOp, LessEqOp),\n",
    "                                                        (one, i, j, k))])"
   ]
  },
  {
   "cell_type": "markdown",
   "metadata": {},
   "source": [
    "** If $P(x_{1},\\ldots,x_{l})$ given $R(x_1,\\ldots,x_{l})$ for all appropriately conditioned instances, then existence of a satisfying instance of the former implies existence of a satisfying instance of the latter (e.g., the same instance). **"
   ]
  },
  {
   "cell_type": "code",
   "execution_count": 11,
   "metadata": {},
   "outputs": [
    {
     "data": {
      "text/html": [
       "<strong id=\"existentialImplication\"><a class=\"ProveItLink\" href=\"_proofs_/existentialImplication.ipynb\">existentialImplication</a>:</strong> <a class=\"ProveItLink\" href=\"__pv_it/5173a860b771ef2654dc90955ec32316d088ffeb0/expr.ipynb\"><img src=\"data:image/png;base64,iVBORw0KGgoAAAANSUhEUgAAA3kAAABMCAMAAADncY5kAAAAP1BMVEX///+Tk5OwsLDOzs4WFha/\n",
       "v78QEBC6urrMzMxUVFRmZmZERETc3NwyMjKqqqp2dnaIiIiYmJgiIiLu7u4AAACMR8Y5AAAAAXRS\n",
       "TlMAQObYZgAAEkRJREFUeNrtnekanCoShp2ZMygiiuD9X+som6DsaNrMAz+Sjk0ohfqgWHy761ry\n",
       "JEQpnVo1tHRJ/e4Xy19678PGE/zWXY29/W/anKwld5pgeU4qnP9XyhvJnuZP1SbBXVNeSw8rr4Pj\n",
       "5cJ6uD78mfKGD47Dk0t5rLnZ3xQIkjdLX/sC5THgGmDWprxTZ7dGo/bAt5Lm2Z+KUeA+X4EQ4bNd\n",
       "hpfnL+OQr7xuBqwpL5CWe2zJryy6x8Jt+PtY2pAYVPAfayJcoLwOw6a8QOC+zW7lTUjlQM3VvzY/\n",
       "EKMd3GQUSF6PStYlqDzmuc++Kc+bkGM5hVr96Dg3X/9YuCm9CCtvAq9HJQwElecZcx3O1ZSnZubb\n",
       "6lPeukw8tZXOryUEpDNJGfQyFmQjpnjoMa2Z9XkKQXNIeb3n8j2gasqzG9GlvH02caS/du/0/3ia\n",
       "x/181ktjo2giRnc/BxtlZCuPPn2FLGNwnre4LWLalOe7n8WvPMjvFb1/mmWqrJT5DxiZf/V0s6PR\n",
       "ICEjOH0di7gFHn9tu2A2EcgMJRN0uxAGNxlHzvimvJEaaRud08PboNeUJytvm/zK4yEEw48FtpY/\n",
       "oW0cR8hlPdWOqoNdACOYUgDtmq41MsT/v9PuC4YJV8N8uhIQVXtknLa9Rfk20DDCknmCXUjXqzJ6\n",
       "EBzzDmn2ruEZNeW54xanrqjxN1kfC2ztFuAtybc06tdOF7PRZ3DomSF7YQ09asPpek67LxiWM4Tz\n",
       "DKJhcd3O6cNcOkM3CllG7bkR5e19NLhXEbx27U15shpISHmH6ih7R3kQihtg3Vy/JG4OzLPsZqfN\n",
       "dLx6I7HB3233DcNCcpNTedA4E1ysPKMQvKYqb8ALc9XK0pTnEoMz2NTK29v8wcMRtvIob1KIn5lI\n",
       "niEe29TMRH94aLYKg03nsfuC4UHM4tbTp+UxrXk51kYOpZOpWHmXQrSDOKJNa55HkbuL3mhTnstb\n",
       "3G1DT7eBojtlENFxwTjh7r1ZkW36+H49XkYCD1g4t5IX3V9vZrcCMm048oa3qz12XzAsd/PGQx7C\n",
       "29Eqtd/vM7S9wSZgjXmnJFj0w6WQQYedKw6OeTP0du5DU54jFBjDyptH+ZEOXb9BGeDAYABqZB3w\n",
       "6lNevy3LMq48SnnAwrmfBNRq2iDeRxFFCSMZNhxG+uDwf7ELsYrBHjeMNilA0k2rMRmb9nAXgl00\n",
       "k1zrkMo7+1f9yf/hUghBlwmfR3mTNxS/7nA05Yl4fg4rr5NL1xM5qnCejr2eYQGhAMrM2qHBp7xF\n",
       "N5Xwq0oLgy5Ojzh8EFJFcSMZNlxGhuBEz7a791nG0z1omI1o2yBvlRGrwVAuQBJKFwYBVouMSnlA\n",
       "3RoDyP9BZrILQVo2slCP8vwx9XBZxGvKE/00iyhvZUZXqz5H31fXWYE32kTjPU6psGAqT30jqloU\n",
       "pY1k2LgaiSnPsquO3L1vmOdzFqnneX3KXNOZCQyDUmYXUt4QqpimvFv3uoEuojzd4y0d2K+K6Cbs\n",
       "OkZW+6y19Y9ztO3RAxZ6XTjehn2m1ItpkC5KfJ9hw2GkD+4PXOxS1hP4Rwxzd16CykvaGFqdCwGd\n",
       "HPTUGZUpe8UN27ssTXnduQ4eV96wLf2RWRze464z4en4g9l/TFZW2yGQVaB2P0Y9FlwmfBb43zz/\n",
       "sNGx7yhU51FFUdxIog2fkdOGI//VLlgntj5pOOLe9+BlWvA2kjrldVC+K8aK3hLq9EpQU95lOW5J\n",
       "HfMgQitFeD6dma9tcwGZf6xWVujbyz6cQleE2DG8W3CZ8FngJBmx3D5BQPG2u6JZlDCSZsNn5LTh\n",
       "ym/b7TGB3aOGI+FLSBBJO4rhTHAqVt5qU4ea8vh0Yk5Vnv315O0k7WuUedc2zTaffRZcJtwW8OVL\n",
       "uJERmkXdjQRsuI3ghPzKLln3YWh91nAXW5h5L5GhK1Zeb29dNeWdaxCZyhsI4CHI4JiuXK6NZEpQ\n",
       "HkMeCy4TbgvyoMj5JdnEWqMu6mokZMNt5GbDlV/Z3ceIhfSPGv7I2kC28pi9xNKUZ566uCkvhbe5\n",
       "Jl6LKq+b13QT7qzw+uUErvgdn5Hkx4Ap+e92HzP8gXTwNvPvxj5Z0JSnt5r/WPK32VpZKUvK2dJK\n",
       "I0vx+dWfGf5IotakpinvWNosftv8fny+Uan/upRHjGawtAfA1uJmU94xJyl99W5cMtdkWvpmypm1\n",
       "9aV8M2gtoR/KY79T3icCiGUrfHVsge41mUml5tJPDEmvLawUcWv1men8ftraVjiU9wuUq1TeJyiy\n",
       "0HNeOhql+mhlUCbQ+JyZ0YdA10IKz07rTXZtEbfWgWtP7eHxRXm/QLlK5X2CIou2Ik7BBAaP8nTB\n",
       "bdDLTdI50XkA81XHKDyRAopgNMRaTziU9wuUq1TeJyiyuIxQhQPMpKa8UrcQlXq+wf0uuzbCrfXN\n",
       "huaiaGa1jgfzFZYfoFzVCssXKLK0SHmzcxOwKa8u3JSnilc9AXg3Yo+8eeAdcPFY5DHbVXk/QLkq\n",
       "5X2BIgu2ErgRcIaoTXmVgb+aesueWLFrFwzE+w0VjuIqI8yt9b4E3G8FTdvflfcDlKveVfgARbZI\n",
       "eav73EtT3hPTPKZXm+W+zTJ2/I3VueLQg7OMCLfWB64tGvRcyrNRrm4iaWE4uESU98cosoHm3gqe\n",
       "zXN6SPz6kIKe/rGnqoPIzl+xK6d5A9V+LTAQe1DI0ZfdyCVZRK61ytDgWge3NgVc6+t4Y8pjV+VZ\n",
       "KFdOJCVmMMXvcygblsaI8izTJvZVWHYyU/21688uikbkIeX1W9/9oTGvjz9iJUT2V/Dam12ywYNK\n",
       "s5z1JsiVA5FL8seUvJBca5WhwbVRbq0HXNsVrA0MDuVZKFfRoVDTHr/Py0mpAY/H+1IEjCx0OaY8\n",
       "myJrYF/FGpKTmeqtpFB2UbQrSihR3pjyFvszykPxR6xdGP4VvPZqF91GEm2QA/jYxt2mlJ9plKHA\n",
       "tXFurRtc2xWo36k8A+Uq3sVgVh3w+1QDEyP74LHnXxE/xHo9yHq57FHef//5j+rnTIrsiX0Vi0FO\n",
       "Zqp/7SiUHSJfhW0F/RcYf6K8l+i1v4LXXu3eG04pb+CBopwpFSrPLEPB4OLKc4Nr9yrJbtx/W8r7\n",
       "1z+qCtRZAeEuvfVw4j5FrEFQPzG2F7Gu5NDVcV+9GDT4YXTj8siPI0A4h8Y8iyJ7Yl87PzPV14zh\n",
       "7OIHZ8AzY96Q9C7t48p7jV77K3itbXe4T6rUnrXYC5OnQAqVZ5ahdOOKNpPAtSy/u3aOeSfKVWKe\n",
       "9lGuJ9qouE++qbnqylmHeZiIGNz4dpz4yrycEm0apk3sa+dnpvpCl2B2UfQIn5nnEe8bfVfl9fBY\n",
       "t2UgYfnUkxVFHxGE/nuSpQp4bdUD2nbJfZqAVuWnh16wWIEpIdfaZWhwbYRb6wfXdhQ9ozyNcpVk\n",
       "NbzOPVPVPIBzMeSMD/YRbmHrICS2S09q0rqcojxt2sS+irDcxWoNRPFOxKoumpAF9MH/mDEOgS5N\n",
       "eYzuTX1U8xp9ACOrRcZF3ke06LVVlsrhtXUPaNu9T/P0fIzj4cgmpFlCrrXL0ODayK6CH1zbwez9\n",
       "DdeuQqdRrqouDDCPvs+jpo3lqCO2XLpF1vaojpHalxOU150/gLZgeyxysVq9yYNYNYsm2O1Y2ft5\n",
       "AIWUh9WKNOum+YAV81+SiaJdz6wWGRfFakQicmssVcBrqx7QsGuga69re0JtgCI5aBSRa60y9Bp3\n",
       "mFsbiqdJ9kTPozyFchXD6wBWo9uV98mVR/nO93HlkNi0Mrk6Quh6Ku+8nKK8kyKLRrvBXazWgH84\n",
       "Eauq6IVPi51qyVYe856xpo4WOn57FCQ8gJEVdB7lhei1FZZq4LU1D5jMru25YbnQU0iuNcpQ4NrY\n",
       "6bEhtOo0P6M8/TWSo9weYiq78j6Prxi0xrz9aQhvlT3UhPP98v5MceUZTWw9jJvV6k0exKpZtHsv\n",
       "IP/EdO/V6l15RwjFxEQp5pg6q3V+HMVqRAFgKyxVwGurHjCVXcvPnUxq7C0j1xplaHBtObd29+Bc\n",
       "r5nvJ6YvwbgY5QZ63N3BHFX3ySvhfHNKYDVWPqHjczzRF5qXQ/c9uC5qmqGf1ZqLWOXf7V8e94No\n",
       "NwwOf8jdEF69/R11zgeUy4Yf4MxqIV2RWUFeem2dpXJ4bd0DprJryd5EExXT9FJyrVmGBNdWcGt3\n",
       "VYzZXkNDyhN7a0c9oYPWJpij4j45aJQhuUrRY/GJ937iJo65oXk5U3kG9jXAas1FrPLvjqKPfNS1\n",
       "iJf/ZizxsiyoY5JOsRUcBh5AZbXIuOawEKDXVlmqgNdWPWAyu/ZY6b915pnk2nsZFdxax+8vx70G\n",
       "B5V3JZKe/Yo6Ni7neVUpymHxs1pzEavRntF+Sz8ljd7Z9U157FC8mAXFHuDMapFx0b2ncNJrayxV\n",
       "wGurHvC37Noabu3+ILlQCJs6clfehUh6MkcfBY3GlBdgteYiVocpq0ZSEvTu7NN7R7fuQu1THuDM\n",
       "apFx0b1IJ722wlINvLbmAT/Dri1RXvYLS3cOy3UiuLqHvEd5GDHlBZipuYjV6GRgzWaP+fdy6D3Y\n",
       "RBhOSQ/gyOpUnodeW2GpBl5b84CfYdcWKQ9ke80SVp6HSPosaPRL1L9+A88p73neZopT1EFkfwWv\n",
       "/Qi7towY3eFcr8HWinjjbfKV5seUdxuwGvn2b0o50Nts5QHrcFxTXpd4LLRMeY18+7el5MAzO9ps\n",
       "v6twr8PE9/+MuTLLUl5D3z41Jr21JFMAvc1dYZnabwk5hrA1V3lTlvIa+jY/SeotwobYXqTe5kNv\n",
       "c3cVenshrynvaOTcrXSSfPd2v9iQSFnRGV/VZYaHv0m9zT7OkrsXdfGyprx7b5QQmySHp015FS5C\n",
       "ZESiKvtV6m0MentN2afHLpFVU153+zXPFKmuTXnvRyIShqxd5dVgPfbagq9jyFhNmJryIpWSINWl\n",
       "Ke/tJN8+HvTJj14HhGg7XjquEaKjiAj09ppy3xJil13jprwjLblLLAA15b0+zeMSmKkeWvSvFYJt\n",
       "TyOtiT0dRcSgt7chOa8x+8vp4KY8V62k9sepyvvT6NsqAO38Dav7WEfICAxtqHe1V7TuiY4V1lxF\n",
       "zDhLebk0iGvv3pQn+tfMXVGSuqH3/Jj3Ovg2zr19A3vroN4yHtMZ1BDz0RV8ZChnfooiNG46Dr0t\n",
       "C3tUv3FxmaY82YENmbc//0p574NvY9zbd7C3N+otMGJO8fHMMcmfUCvkTZtFaNRLAvTWmrblBbvs\n",
       "ugnRlCfDzcwOG4xfUN474NsI9/Yl7O2Neiu4Tk7l9Sc4sJQ3fRaRgZu2hJPXljeMQVOeVFJmA47g\n",
       "A8p7C3wb5N6+hr29Um9X4Z9nl6hfUprFr/XOFcozilDTx7xoM3esxVvXlOeeuOXdT5+Y36G8nm4j\n",
       "WxJGCHfGVPBtup1bzuCOdRB7+5xV2SCc2iIFrqm3gkc2jqbykli3+pNZhHqKNWuFJTNImm777k15\n",
       "qifPXN1MXFpzKG87mCbcWgTdqzJa3NtU8G2GnZuhIPc2hL190Kr8DUuyK29arbBw3sCRNmqxN1NY\n",
       "t/qTWYTGTWftKuT+itdyC06b8lT4mFmViRUnmtpA3/KOdzk6zCi6V2W0uLep4NsMOzdDQQpmCHv7\n",
       "lFWDejtiPRbKpZA96JzG/WtmzvM00DYAvT0zmUVo3HQEensJHjM7agC7pjzfoJe7xkLSlXeJPBS+\n",
       "LfbOrMoIOp/yQuDbdDtXQxHlhbC3b1kVGR0lFlJvjfokSpZduvL67PWVqSnPGw9kbunNoFB5/dHV\n",
       "8o484psqo8W9TQffJtu5GQryZ8PY27esCmddAsrLYm+acpYE1izoLcrcxncshTflnbWTOejhpUh5\n",
       "80aBpHhx3/RyYXVG2+FSwbdXOxmGjr8LsbeVVmNVzh5XnsI4Z0Fve5A7NWFNeYFBLHOmN4GpQHm7\n",
       "6zG44TM69HFhz4zQu00eAN/e7GQYGvtS7G2t1ViVX1Vx8qYzqbdnkhjnLOgtzTws7fqJs6Y8ow0y\n",
       "Z80zLlCe9eXk7a3Naxb3Nhl8e7eTbAjHc3uwt/VWI9J76w29LOjtmBlrLrhrygt3Tbk4lrFGeQoM\n",
       "G+bLdhfubTL49mYn2ZA4jVKEva22+vsUV96c+R714AyOfqc8nuCnpDfkvvEVh9wnnHRYE6/5lOcB\n",
       "35Ybggm5Pdjbaqt/gfL6XCbFLTalwvl/NL4QnvpPKU/8wlrWqBd7gOfJt6+Db4v5s7+x+qwDxKG3\n",
       "DGXe6XSbFK7C+bv/AVg7eRkgXQ24AAAAAElFTkSuQmCC\n",
       "\" style=\"display:inline;vertical-align:middle;\" /></a><br>"
      ],
      "text/plain": [
       "existentialImplication: forall_{(k, l) in Naturals * NaturalsPos} [forall_{P, Q_1,...,Q_k, R} ([forall_{x_1,...,x_l | P(x_1,...,x_l) , Q_1(x_1,...,x_l) ,  ...  , Q_k(x_1,...,x_l)} R(x_1,...,x_l)] =>  \\\\ ([exists_{y_1,...,y_l | Q_1(y_1,...,y_l) ,  ...  , Q_k(y_1,...,y_l)} P(y_1,...,y_l)] =>  \\\\ [exists_{z_1,...,z_l | Q_1(z_1,...,z_l) ,  ...  , Q_k(z_1,...,z_l)} R(z_1,...,z_l)]))]"
      ]
     },
     "execution_count": 11,
     "metadata": {},
     "output_type": "execute_result"
    }
   ],
   "source": [
    "existentialImplication = Forall((k, l), Forall((P, iterQ1k, R),\n",
    "                                               Implies(generalForall_Rx_given_Px,\n",
    "                                                       Implies(generalExists_Py,\n",
    "                                                               generalExists_Rz).withWrapAfterOperator()).withWrapAfterOperator()),\n",
    "                                domains=[Naturals, NaturalsPos])"
   ]
  },
  {
   "cell_type": "code",
   "execution_count": 12,
   "metadata": {},
   "outputs": [
    {
     "name": "stdout",
     "output_type": "stream",
     "text": [
      "Theorems may be imported from autogenerated _theorems_.py\n"
     ]
    }
   ],
   "source": [
    "%end theorems"
   ]
  },
  {
   "cell_type": "code",
   "execution_count": null,
   "metadata": {},
   "outputs": [],
   "source": []
  },
  {
   "cell_type": "code",
   "execution_count": null,
   "metadata": {},
   "outputs": [],
   "source": []
  }
 ],
 "metadata": {
  "kernelspec": {
   "display_name": "Python 3",
   "language": "python",
   "name": "python3"
  }
 },
 "nbformat": 4,
 "nbformat_minor": 0
}
