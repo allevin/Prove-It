{
 "cells": [
  {
   "cell_type": "markdown",
   "metadata": {},
   "source": [
    "Proof of <a class=\"ProveItLink\" href=\"../../../../../_context_.ipynb\">proveit</a>.<a class=\"ProveItLink\" href=\"../../../../_context_.ipynb\">logic</a>.<a class=\"ProveItLink\" href=\"../../../_context_.ipynb\">boolean</a>.<a class=\"ProveItLink\" href=\"../../_context_.ipynb\">quantification</a>.<a class=\"ProveItLink\" href=\"../_context_.ipynb\">existential</a>.<a class=\"ProveItLink\" href=\"../_theorems_.ipynb#existsInSuperset\">existsInSuperset</a> theorem\n",
    "========"
   ]
  },
  {
   "cell_type": "code",
   "execution_count": 1,
   "metadata": {},
   "outputs": [],
   "source": [
    "import proveit\n",
    "context = proveit.Context('..') # the theorem's context is in the parent directory"
   ]
  },
  {
   "cell_type": "code",
   "execution_count": 2,
   "metadata": {},
   "outputs": [
    {
     "name": "stdout",
     "output_type": "stream",
     "text": [
      "Beginning proof of existsInSuperset\n",
      "Recorded 'presuming' information\n",
      "Presuming previous theorems (applied transitively).\n"
     ]
    },
    {
     "data": {
      "text/html": [
       "<strong id=\"existsInSuperset\">existsInSuperset:</strong> <a class=\"ProveItLink\" href=\"../__pv_it/4e77cc6066455d9ea92abc338a545e41d5c818930/expr.ipynb\"><img src=\"data:image/png;base64,iVBORw0KGgoAAAANSUhEUgAAA3cAAAAzBAMAAADGPOzCAAAAMFBMVEX///8QEBC6urrMzMxUVFRm\n",
       "ZmZERETc3NwyMjKqqqp2dnaIiIiYmJgiIiLu7u4AAAAU9Wx4AAAAAXRSTlMAQObYZgAADlhJREFU\n",
       "eNrtnAlsHNUZx789Z8/x0iP0gHoRNEnVRl4KLSGIegNu0tIGWxTTAqUsQV1AHNkIRFyOeglHKMqx\n",
       "LW2JCihbREpCVbOgAEXQequUNg2FOGqcQMSGTRUiJAg2iWOH2Hj7vvfezLw5N+sj0igdyeuZ2fne\n",
       "zM7vHd/7z38XwGXLzZUcnBjLnEpx2sr21GrF4/hRnuD/++CEWaS01d59VfovUqslJgHv4bOqx++D\n",
       "BIr/h8cW72r6Tz7r3MnASx3PD/IkaPCWkcV1fedXGzo6lrSFB1v4f59b4IX7BHhtZPmSK4hF24fa\n",
       "Fi2kdzrdWOQP7OH5O1wGb2kK9N3mde5ob015gGuwlwg1OMSE7OHB510G7yFwJ7xWMlSvw+H65QYD\n",
       "Y0U9PFl475dVV8ELj7sUXi8Zu7ZhN9doNy8n9PDElhvqcBU8T9Gl8JaQv/YCSRFJ9yn/6M2vr3Ie\n",
       "+t5dde/sHWz1Bj08r7g+4ip426ouhXeEMBvmM50DBc8n7486Nre3oHlPb4murzeMeX8U1u93Fbwd\n",
       "IML7U6VSGZn0JKrO5Yed3ry1TuEFJZs/CnA+dnKhMsD3oWm0aQzgm7Zh/jLUSrWy3E7q6loV3lUV\n",
       "XN7pMNZll8DzHoQJt7wVrARetf9c+Qy/7DvqxPmKxmahxUrFOsHzlKnC0NPrn6I3i4x9RegeiZXg\n",
       "G4tswyIg1XKvAcwh66cZs821SS2HLbkIXiAxYXgxxj3I87TrYD+vCJl6kU8YtoXYYL3YCL/RQSXR\n",
       "aqI7ttHP8bjT5X7Eu0xoNcKT71Hp+ftcBM/T0Tg8+fnOMqYAY8LtDpPhR/qErZbqFfCeoRvVYuHR\n",
       "uifPc2Z9Onjt6Xrw/EP4utIK3twe7VpGXASvtdA4vBdmfYgjQ0+/AG8AG0KNDhjBuvqaX//5hNhj\n",
       "aPYX8gtXap2HfILfQXMJXnSCFy56RiGagxFdt8nGvMotQt0YdRG83qoFvH03X/Gg6RLkBf0b7qX9\n",
       "D58LlbICvGfwbtQoNo9wrG5Ri43q26YQCwmoc3ZlTt6r9HTBMsi1WbWklGDwqsq8m74oWwMHuw/C\n",
       "UkZli6Hl/Vo80U4OrzoJePJxgncNWMD7j3eoOw1+/fXHUy0Lh2BumcpL2HzgKgFeM6n/vhrAxaQT\n",
       "Uo7FDXGhxfpW6mdWWqyfdIi+PNQ5O5zBp3nK+5EOkIb9zcmuJIUnY/870Mdf1K3uzPyD0nKIZsxT\n",
       "BSkvnqidw6M347WJwYvTOl6adngz9PBWkU5kXCpFP7674Pu9vvu7E3ofeQuCKSXf+xf0CvCw4USG\n",
       "YN7J9O6yY3FDnEHQYuFahkhYeGy4g2Ktc3asGwTKZbXvKfkyuey/7N73ueVszJObSeBeZIQvMn6+\n",
       "vaSvjFZ65j+YhCDe0eV6ePpuvjfH4G3EjdUTgxcpQOOSa+OLfNTc8pRULm4cu7Cykz7x/Gw2WwK5\n",
       "v5NVfg4P3zsEsIv3QvS9XYYCaLEJMzwWGyAfOZyud3YGT1yEKoLdptc85M7S7uxZZnnMpzt2XYHB\n",
       "ux2rW2Zi8Gjc7dM/zRuzgveQp08qG29fqHgq3IWXtI/NMXLQmtLgrfnWguTVJcprpnKsER4tFj+Y\n",
       "V39TeGz8v5voO85nx+L1y1Y9vJj5U5a13ChKGnnJ/qkCSYRKDB42nEBhggkLttjLpx1e7GMLeL6j\n",
       "LZlgAW9fV05aDV1VfMm1PjEMN+Cd8tPb+jWSpJc1eK39yR1jrLEdIFv0WNxQS5BWsGJR048VpRW8\n",
       "2CpZ47Gef34Acp9wdu0g4ewiK85V7Z/uWHNlHXj+jWyiYg9voIPBiz21bNndE802ty5btmz6fQnR\n",
       "Q1Ytb8FNO39BO67Wsm8EWnP4UvZnX7++ABeQbmcxZo7DILW/rcGT5r95pFqgvOJVYMfihlqCb4wV\n",
       "6yd5RSBJtlixObLGY2dvIuXsEc6uHSScHS4xqXF6EOY8IarfXOgIrynDpwrD2ezuicJrymZvLk47\n",
       "vMCI5ZjHErycWGf52h7yP4JjnjaQqXna82nKK6p2NrvEWs9bRPwD+jhUax8xJfaVEHnrJfHsMauz\n",
       "500f4s7G6mvKEZ4nz+FdyCadt5plVUv1TQePTGSD0+8m8Y/bwvM9uxF86hUoa1earkmF10uyxvO+\n",
       "UABZGdFwQyvhHF5dXqQyyjmg24+xCyPPAewXzq4dJJw9PCUZuD28eB+HdwYVc6QiPEvbkNxenefQ\n",
       "CPTwSNKMnfNvD3cuyAkyMG6zGez7q7ZfaJU/aiKvphor0foSEN6gEFox+TZjFmu28JZyDwE8ZlmC\n",
       "1oghbWrSamy4bDVWCWf3TwW7ORV7eAkOLw7RMv10cSYHzFFl1bmdyehn2UDru/8SePYnJnikHbyC\n",
       "l52ASJ8gA5PtKNVuwjNy8pKk+eSCyCvcWYyWLstmbxFKMMGbYOM1Z0F1BKKI0wxoc53T9UxzXxRS\n",
       "4EXLZPDGTmKAXe562hJR141letTL+Eekih/HCO8VHLzBn4YY7dq4DBxI86e960jn1G3OaESRV4CH\n",
       "0TNz+hJs4QUru+AEWKxt0yo8OX8201rnsDdW0mEQdd3YawEC7yu0lv671BGpBtoWtX1XB+89ammL\n",
       "l6lspMrA8RIEEJmMM9umcXOmK4i8AjwSrQxFSgn28OJwYiyWA5/abcJ1FzBJYb33BbyfIyirUl03\n",
       "du45pR6cBL5KOoqH77RqecHbsFMcSMHrOUEGJttbcDuCDziazA+9RZFXg4fRShKolMCa4bg1PAnd\n",
       "t+5C4W0kk7F33qoJC/ymj2lBK381kFNymBAbFno2k27zciS5OfLBPAt4Yar7tjy9vizKwC0vb6IP\n",
       "MDw4u24dNOq3osgrwMNo5UilBPNUQYDnb2trm191AbJNtba2HbQunt1QnK3zVp0qgKfEJPTD7ElI\n",
       "BpW5eQxeJHIxuXffpkN08UkLePBFfNkAehmYbP+tqjS6Z9JG/VYUeQV4GB3gRyolmCfphm4z6Arf\n",
       "+xFyoSc3LiLbOm/VSTrEqlRr9Z2ykt6NEsKjum4sJb1B8pHo2xTeXQes4L2BLz/lEwBFBibbA9j/\n",
       "0eGuOWXSbwWRV4NHo5UkXCkBhBzWvfDQhxRGdT3a2PzP6Lw1yWO8L86QJnemj0vaM5muS/KU0/8K\n",
       "8Kq/gPC855FbLhnh0YVrj6oMTLZbcCV0aN/iwKhZfBdEXg0ei16hltiSshSm3QgvSmpf7DDes8Y6\n",
       "eeOjBZMwzQ/rI03u/Ch05VDS3sp0XQIv1oO5y+V0ZrO1apLHeMXC3rErx2RgaQVI4yD14x7fJ5fE\n",
       "28ug12/1Iq8Gj4nIt9OmzEtQLu6oy+EFSbrsxxo+G0eEUwAqjjPMe8osIzE5b9VFeSTElz0QygWf\n",
       "Q2l3I8qqVNedvRh1hi+TRpHyPpA0TnQ1eBtwtGwtMxnYN0a2O79TwD1w26lrVocN+q1B5FXgKSLy\n",
       "33GSzktQlhkuh4dfNxnAYeoKfKbenAvXnI5e7xmBdYN8zm0NT3kYy5eXRLEnb9R17YRpsJCJ9FqT\n",
       "f/RSo36rF3nhGJx011jDi6AXdbLw6phvw5OIVatfaxF8/XwOvVeq5QLD4MvY95XdI3B1Zh/mC2tt\n",
       "4Ck2CL7sF8TVY5NVDfBUcVcv1EZrIwb91iDyHgu83uokW54qlTZsvnXy3taLVTXi3ouevoJe56cA\n",
       "zoscgfio71LbJ2m+0jN5eKeExgmz81bsijR4PM2LHbusaoAXsxZqpZMKRslXL/Lq4Ukky83eYhqf\n",
       "C5OEp0qljZtvHby39WIVjVjzIWGgZxQGDgnfFjUvzSW5lopgQtlqDc9k/dvcqKw6dda/upVFNN02\n",
       "Cu/9zh8LUmnj5lsH7229WMV6C6qMi/BaR6Bl0Amer5bz1ui3G+zgxdxkug0kJgwvuvjnHwpSaePm\n",
       "Wwfvbd1Y/jTMd1jZgd3NtgSQftEBXuwjIF1rU86+23SV3d17yAGed1FRPsUUoex8VS+VWplvnQtw\n",
       "8N6S2DN2w96ybezL2jSPLTchvDysKVJ4quFW8+DiSuwIhI7Cmbi5xRpeU9FF8KDfAd6B0GBszCif\n",
       "0p1onc3rpVIr861zAd60rSw7l0yP18C2stG3q8Zy6636dRP6DZLuRLSWpPBUw63quqUr0kfQexBe\n",
       "cJgquOorXrDNEl4IpwrVn3Vn/CNG+ZTuhGuVZFGVSq3Mt44FOHhvSaz0yDC05wy+XS2WuTffXTKk\n",
       "tF586hbevpN0uwgPfbbUcMtctxluxoXHT10yDjfi8cut4d0HboLnKdm1PEzEC56ESYGjOxPg25nN\n",
       "3ihIpZbmW6cCHLy3GBv9GE4y+3aVWJP11kNOcjqQaR4b82aZBwhygDdFpnnw6ZStPOayrzWHEw7w\n",
       "llQH0qZ7jzulDMhpvVRqZb51LMDBe4uxwXF5yAxPiZ1poTSHa0Am4Qxe2ZysoPY1SObx8mDJ1nkb\n",
       "dNcPCgg/5WGG1w54N/XmW7oTRfmFeqnUynyrFiD6Z9UCyJ/gydXJsgfwIT8K76JvVzy5yXoLqyF6\n",
       "VNqeBGnD4ZIdvN7i3WQyf1HB1nl7WtVd8Jbm7OF1vcmeOonmW7oTrbP7k1R8VaRSK/OtWoDon1UL\n",
       "CCR1nlxRliWx0qp7Dul9u+LJTdZbuA2/bqfMo6Pmz4nDQ6CymydPNs7bt8Bd8MJ5W3jyD3HYMZhv\n",
       "6U60zsIfsjeChZgjmG+1AmIWBYRMopEqy5LYd3NkdNP7doXYvFkNbeSBno3zNuC2n6+CTlt40bHA\n",
       "QZP5lu5E66xxuFBzCs18qxYgyrJqAY+C0ZOryrIktrd8ddLg29Vip8R6a4a3FqYA3nH9ycZgyQ6e\n",
       "9MB9Ob26StbUnXbwBPOtdmzZooC0yZOrybKPQdf1C8H25FNivTXBm5qfbDy+P5ZqHD/iE/JtNmy+\n",
       "dfTe1omdCuut2Ta9n10R/ljq/wAx1XW6ZWsTwAAAAABJRU5ErkJggg==\n",
       "\" style=\"display:inline;vertical-align:middle;\" /></a><br>(see <a class=\"ProveItLink\" href=\"../__pv_it/4e77cc6066455d9ea92abc338a545e41d5c818930/dependencies.ipynb\">dependencies</a>)<br>"
      ],
      "text/plain": [
       "existsInSuperset: forall_{(k, l) in Naturals * NaturalsPos} [forall_{P, A, B, Q_1,...,Q_k | A subseteq B} ([exists_{x_1,...,x_l in A | Q_1(x_1,...,x_l) ,  ...  , Q_k(x_1,...,x_l)} P(x_1,...,x_l)] =>  \\\\ [exists_{y_1,...,y_l in B | Q_1(y_1,...,y_l) ,  ...  , Q_k(y_1,...,y_l)} P(y_1,...,y_l)])]"
      ]
     },
     "execution_count": 2,
     "metadata": {},
     "output_type": "execute_result"
    }
   ],
   "source": [
    "%proving existsInSuperset presuming []"
   ]
  },
  {
   "cell_type": "code",
   "execution_count": null,
   "metadata": {},
   "outputs": [],
   "source": []
  }
 ],
 "metadata": {
  "kernelspec": {
   "display_name": "Python 3",
   "language": "python",
   "name": "python3"
  }
 },
 "nbformat": 4,
 "nbformat_minor": 0
}
