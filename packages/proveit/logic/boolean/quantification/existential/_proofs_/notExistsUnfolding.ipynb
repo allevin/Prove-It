{
 "cells": [
  {
   "cell_type": "markdown",
   "metadata": {},
   "source": [
    "Proof of <a class=\"ProveItLink\" href=\"../../../../../_context_.ipynb\">proveit</a>.<a class=\"ProveItLink\" href=\"../../../../_context_.ipynb\">logic</a>.<a class=\"ProveItLink\" href=\"../../../_context_.ipynb\">boolean</a>.<a class=\"ProveItLink\" href=\"../../_context_.ipynb\">quantification</a>.<a class=\"ProveItLink\" href=\"../_context_.ipynb\">existential</a>.<a class=\"ProveItLink\" href=\"../_theorems_.ipynb#notExistsUnfolding\">notExistsUnfolding</a> theorem\n",
    "========"
   ]
  },
  {
   "cell_type": "code",
   "execution_count": 1,
   "metadata": {},
   "outputs": [],
   "source": [
    "import proveit\n",
    "context = proveit.Context('..') # the theorem's context is in the parent directory"
   ]
  },
  {
   "cell_type": "code",
   "execution_count": 2,
   "metadata": {},
   "outputs": [
    {
     "name": "stdout",
     "output_type": "stream",
     "text": [
      "Beginning proof of notExistsUnfolding\n",
      "Recorded 'presuming' information\n",
      "Presuming previous theorems (applied transitively).\n"
     ]
    },
    {
     "data": {
      "text/html": [
       "<strong id=\"notExistsUnfolding\">notExistsUnfolding:</strong> <a class=\"ProveItLink\" href=\"../__pv_it/9a565cf05297b008e21f68e6c394c2933f21ae170/expr.ipynb\"><img src=\"data:image/png;base64,iVBORw0KGgoAAAANSUhEUgAAAwMAAAAzBAMAAAA5nskgAAAAMFBMVEX///8QEBC6urrMzMxUVFRm\n",
       "ZmZERETc3NwyMjKqqqp2dnaIiIiYmJgiIiLu7u4AAAAU9Wx4AAAAAXRSTlMAQObYZgAADXBJREFU\n",
       "eNrlnA+MFNUdx3+3s7f/dzix2mpF1pQijSGs0dYTY28RhP4J3hWlDZCWLY2nRi1jJB71Tzm1/qnl\n",
       "z1r/pmrYkhJBk2OxSkskvUmJrTmqHKkKku6xNEhIKr3jBI5/sn2/997MvDd/dm73MHvQSZibffN+\n",
       "OzPv897v/d53fgtAvbdQcSfZR0twbm6Ti/kv7LsbyuURfXksxf4m6T5yriKAcMalUL2JN0K53DQC\n",
       "BM9cNaJmmw8igiT8XyGASazt1KuuHQmC9IjuLJaxEIQ7Op7vOBuaM1Coqnoi5Ykg0ckPlPoheAUs\n",
       "BMEZM3ZNG72eKN56eMbsWXh0dZWWN3sigBvrjiB8PkiOaHpIG72dfwzpsj/F+1tZpWHEG0FDrt4I\n",
       "InkZQe9oRtBCbnY1+RcvVGmYyMsIhJEevbTeCFaXJATh7GhG0E18+vY28sjVOku1SUYgjqLH6o3g\n",
       "YpAQJAqjGcFi8q+VOI5J5O8nKx6d9EHl6kKVO2QEE4RaU7T6IkiclhEE06MZwTHSn4+yOFr9GMb3\n",
       "dVd0SGKVtTKCmGAYaasvgmRGRBAr7inuqQlB2OcmcpVO3lvZNmocKCcArscGW076ig7lQlkHJetp\n",
       "x6uorcRtvWggaCzS7YijF9YNwZSUPAoOwHBGATf6z4od03nJ/T4WU+0Fgm3YZ3GvGOfjh19b+yoe\n",
       "jCW9BcJlbRsot/R6r3hYFZhMji+zRUTRR6zjk/VF8AOQEfxuWAhYz4teqKmLU2KJvwpiNoFgG/K7\n",
       "3Br+N2R4zUHaew/RL+qt5GYPcScELfag9MBY83B2fRFcYEOwvgoEq8mfZawFon5RotppC8QsW3jJ\n",
       "73IHjGVBr4ggeNgXAauy3AWB8pQVVK3W6olAOW5DsHL4CNQyeYoxrGP6G02XiQi2cJufbZA/YUsb\n",
       "L7iINH2+4STEtUoIjCpDoiPic8FHQljbX6gngvhpG4Je0prqzA/XPeqouu/u+U+mRQQx7GJjhtg9\n",
       "yOddrN6W/ZJgC03gfkWz1FiJdRve7C7SboPLBuEeNgpUWttYcpkHvApt23flURAVR0QyyxGURoBA\n",
       "rdU21CQjUDIEQTI9ZRZpopvkqv8MHF6WUZZbCBpwBLUMQJDceTM/Tz+4Wk2Q75nbfgev2QnuV2Sl\n",
       "zToEeIMtNr6cePdl2WmD4UcYgn4cCbhTPxcPeJV41hmULpUG2QBHQAfUttoQ8FVVDbZZCUFkx7ji\n",
       "ntID0P3CxzD1y3LUWYgffygHP7MQ0E68IaP8XsMGZufpB1erZlnsYbbwHPlDGtj1irw0lEZI2Lt/\n",
       "WP4+P0NinHixa9qTKYZgL37bXnJT6oXGwXjNrBLCdnlERiD5vvgQR7AeapCfOIIYht21vGzpz8uj\n",
       "gHtd2t122kfMaeo0LAT4eTzhT572WeN8UvOwsiHgtvMMp+B6RVraAByB+MjWVehccLnjwQJWjYar\n",
       "nAKF5DGjxzmC+6hCUxsCandfLcsCXUaQZMrdOHjQ0SBPNfSGdX6DdB/5bN+ixpOs1Sfy8w4EptVE\n",
       "WRzktn1XZCCQ9bgiKyWPFci6qG4iAt0ZjgrdLM5Wwx5KKWn8kxwBduLGXI3TMY6eeTXYbs/JCGj4\n",
       "17LmKGoqOyH8BCwthVfi7gnlxJRsKMefnc1fn89JtuoMwUFg5/GDu1WPUL5UM2wv+aUOaq91RViq\n",
       "MUuy01hpj9TidpktvO5IwQdBcD17Lk8E6hGOIPFqR8dDtUZEPR0dHb21SI9p23RM77n9vdtz2CDK\n",
       "KWjRlCHcnYKZd330awimhHXBknGrVkYZgmSJnccP7lZzhPIWndsGfoPN0mddEVp0Zkl2Oiu9gfTM\n",
       "lP2+l8hxnfPBbPPirEoI4KgRlB5tb99dK4Ix7e1352uwXajZglJh2yn2JX6U/FRaCwdP3sIQxI3R\n",
       "hB9crTrFcp3bxvWV5HCzcEWhQ/OjPp2+cLFJUtWFHvF0RQRfMRBMZxP1vcPStmIyAjKN4uro+SNz\n",
       "Z2qyACONuD8XvySH7q0lTwTXXZyDa8xP/KjxTxKCeHkIlI1koKu8hH5ws8Lls1muaNw2qL1OOvh+\n",
       "4YqKJlUi2wLNf/k8PCXRE0HRQDCBruLDedhI+7PaWprq/X2NMgIS2KG7SzRBrFcWYMTt6dtg/6CM\n",
       "QAzDi46IRHc5EhGEzzN6ycs+VkHxU0K2jepuPlzw5pkzQWBy0fNrdhgIkmRcUs0qmeLBr6FtNc9N\n",
       "xS9g/VV5bA5s/IkDAVlVbMEHzVDpVRRgxOCL+Lzw554IqticD5PwWaJ3VTq51UfiK8EXuz1sIIjr\n",
       "ZFLDQddf4ktAHBXqW3P1RLbLfIa/xUp4S3YEW8ikRuDpEOyUBRhxEYBF5dKwEIScQ+Jc2ZxpdSYC\n",
       "tfNqtm6bzE4sp9PDpsv/W0psayQIvkH72j8KbbFS44zZM74rITigYM/sT8N7mizACNsGrFLWhoXg\n",
       "3M3ocpkUTEcEt93AFpJrA5uwqw6htpVAcTBx7TWFLlw0vEMG7TMPuI2C0BJ0WlNeW6vL4o24jSfO\n",
       "VynjOLEiIrGKmB/F8ro6zoK8riuqqfxXjiCRcp2O4blethZf/tt+zZihI8zRdm0ljmge8tga+3Sq\n",
       "C4Loj/FwHdjFG3HDAUBGSLTNPSiV8qNYXteM0ZrXZSV1KVXN1Y1GdHqza1AKDQUa2sAROrWhwNfM\n",
       "Xvgl0rHYTcT+Rjp15f/gggC+irtbwS7eSAhQcflMWoKLSzNJoOKOaNS+yzeTuqpUxjo5gojr0gwS\n",
       "JapZKZdQRRgFvma4vr29vZBIh98ns238XxTBgwfdELyPu+NgF2/EbdW3Z6YWFiD57zctgUIYkFJ+\n",
       "1GhHYCR12d5D+G49HIGoeZgCBffHWdL9r1S4wDcR9vGI72t/AXgnmEMEgesIgrAdAf0W9ECWAGPT\n",
       "a6Dlw9QHp0j9v3/qKtNJ+VGjHYGR1AWXVme3lyNQm1xkOk6kl3T/6+OkIVHg6yHrR4Yg0YUz8zwa\n",
       "Q/eUHAIF29ahCzMFGIdeE56261gpB5PedBerJ8FZhMBI6goQzxJ7WIdkRYXMqhHK8YjoDhexmm99\n",
       "ENFCb6BItR61LXURNs4iXA19HWeTwOMputJ0RSALMG56TetbGdgSsUaB+Mpm/tmEwEjqaiR9aG3D\n",
       "EKweqFTbqhFr4wjWCh54SEawWVzbI2IyF/jLdKL6rYnijU2v6SZR0azYG9YKTBiPy20IYsVibXld\n",
       "Pmld0UonfbK6jEjCTOqK6MSnLBuChVn4lqcVr7GPhCnRTo7gRUHNHpAR7BcaMjosPdCGQBZgbHrN\n",
       "PRfZgjthDT3WSC/IVzUKAg4J0CetS8l7q4d+WV2GamYmdTWkQCls6IQ9hW/O9r4iqxEgrihgvD67\n",
       "DGyuwELANauEoW1VjaCqTUxiMQQ8GmkPH0HIIQFmfSzWeKuHflldhmpmJnWNwYLxBbWctn6r4rLR\n",
       "GuiElAGOoEWYEO1JLFuHqW2dEQRiKteIEAgSoO/YPeCtHvrJ0kZGmJnUhQiUshYoQyUErAZxWq4I\n",
       "ttc1lUtMaLxoJAgECdDXJpj2VA99s7r4axAzqQt/I5M4BLFjFRGwGmM0d0dU54TGKZbxXa4IArPz\n",
       "6iUO/y8UhuwSYAPAhN2wV/c0sv1GRlQPmzxszcK3rWUBuzopTRyDyAmGwJnPRXesxpXAft1HEbxr\n",
       "ffmJ+iJIWoKRGaalRQQHIwOJU3bFjxbytK6QKAFiNlYzWdysgu26PTPLNApkvNRDpdPdlhU262ZG\n",
       "mJnURYPMQ9A9yBA487nojtXY5B6U1ju5PWHF05NtQWkEg9LSL5Zlg0N2xY8W8rSukCgBYjbWBAi/\n",
       "cBRaNXtmlmlkSwsS1EMCx9WWFYbSPB1JSOrCKAdeGbf4NEOASV1WPhce0KQuVuNODGJTHIGV3B7J\n",
       "1BcBk/fY92jOpRmO+VxDk0NuooVNIgImAeIb+GeJqzkO5zkzswwjOwJLPcSsLldbWkg8nC0jjGyE\n",
       "VSCNywI2F7gndbEa56ddBYp6/9AJnrYGRN4VweJSf8aBAAt5WldIlACx6SZizKgediIwjGyZWYJ6\n",
       "iGdcbWkh5qpNdNHdVg+EcSS9Iq+DxHUSraEOkPt7nSMQful0K9QZgfWjVzexGjUNwPbRpCQrWsiR\n",
       "MQRcAsSmO4jrTVRqbZlZplEi76Ueqr2WrVSHFvZwpVO+/xJ05x8iy8r7Vy3wRMBqfC/HglpEYAXG\n",
       "gbr/6DVsed0lrgiW7mKvHsQkK1rI07oYAi4BYrMnSxBe8fBnjsws06gx5ake9oFpK9fBQnypOMdx\n",
       "/xmypt9tzM4eSV1mDap6IoJZ1pPW/affglgSLrggUH+ErhkdkaB10EKe1mUuaFECxGaP5+ATjXh9\n",
       "e2aWaRTxVg83g2Ur1qGFfTp75SJvD1TzsH/k1OJWm82FuiNobHMNVs2J8FTjIFX8xCQrWsjTukwE\n",
       "KAFiNpaahW59YcqRmWUaveStHu4Hy1asQwsXaMNUzfwGvhgURzvPBIIR/mc4d1ZEEH78V5rVXfmR\n",
       "WSgiMCXAl2Hp7bPA2yjjrR5GdctWrGMUBuFMIzgz/xnOCP9LKGfSLLim1nnJDc4JsPKwrJiZ5ZPV\n",
       "1XUGCEhpderP+U2Vy03/A9Fn8hizHYKGAAAAAElFTkSuQmCC\n",
       "\" style=\"display:inline;vertical-align:middle;\" /></a><br>(see <a class=\"ProveItLink\" href=\"../__pv_it/9a565cf05297b008e21f68e6c394c2933f21ae170/dependencies.ipynb\">dependencies</a>)<br>"
      ],
      "text/plain": [
       "notExistsUnfolding: forall_{(k, l) in Naturals * NaturalsPos} [forall_{P, Q_1,...,Q_k} ([notexists_{x_1,...,x_l | Q_1(x_1,...,x_l) ,  ...  , Q_k(x_1,...,x_l)} P(x_1,...,x_l)] =>  \\\\ [not](exists_{y_1,...,y_l | Q_1(y_1,...,y_l) ,  ...  , Q_k(y_1,...,y_l)} P(y_1,...,y_l)))]"
      ]
     },
     "execution_count": 2,
     "metadata": {},
     "output_type": "execute_result"
    }
   ],
   "source": [
    "%proving notExistsUnfolding presuming []"
   ]
  },
  {
   "cell_type": "code",
   "execution_count": null,
   "metadata": {},
   "outputs": [],
   "source": []
  }
 ],
 "metadata": {
  "kernelspec": {
   "display_name": "Python 3",
   "language": "python",
   "name": "python3"
  }
 },
 "nbformat": 4,
 "nbformat_minor": 0
}
