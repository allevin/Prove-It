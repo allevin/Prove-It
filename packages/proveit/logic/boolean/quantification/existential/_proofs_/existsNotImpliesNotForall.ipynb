{
 "cells": [
  {
   "cell_type": "markdown",
   "metadata": {
    "collapsed": true,
    "deletable": true,
    "editable": true
   },
   "source": [
    "Proof of <a class=\"ProveItLink\" href=\"../../../../../_context_.ipynb\">proveit</a>.<a class=\"ProveItLink\" href=\"../../../../_context_.ipynb\">logic</a>.<a class=\"ProveItLink\" href=\"../../../_context_.ipynb\">boolean</a>.<a class=\"ProveItLink\" href=\"../../_context_.ipynb\">quantification</a>.<a class=\"ProveItLink\" href=\"../_context_.ipynb\">existential</a>.<a href=\"../_theorems_.ipynb#existsNotImpliesNotForall\" class=\"ProveItLink\">existsNotImpliesNotForall</a> theorem\n",
    "========\n",
    "*** see <a href=\"../__pv_it/d4bc3a79fce958a589b27184855c0498ae128f210/dependencies.ipynb\" class=\"ProveItLink\">dependencies</a> ***"
   ]
  },
  {
   "cell_type": "code",
   "execution_count": 1,
   "metadata": {
    "collapsed": true,
    "deletable": true,
    "editable": true
   },
   "outputs": [
    {
     "name": "stdout",
     "output_type": "stream",
     "text": [
      "Beginning proof of existsNotImpliesNotForall\n",
      "Recorded 'presuming' information\n",
      "Presuming previous theorems (applied transitively).\n"
     ]
    },
    {
     "data": {
      "text/html": [
       "<strong id=\"existsNotImpliesNotForall\">existsNotImpliesNotForall:</strong> <a class=\"ProveItLink\" href=\"../__pv_it/0719586623662f83443b9a6a96582b49956256c30/expr.ipynb\"><img src=\"../__pv_it/0719586623662f83443b9a6a96582b49956256c30/expr.png\" style=\"display:inline;vertical-align:middle;\" /></a><br>(see <a class=\"ProveItLink\" href=\"../__pv_it/0719586623662f83443b9a6a96582b49956256c30/dependencies.ipynb\">dependencies</a>)<br>"
      ],
      "text/plain": [
       "existsNotImpliesNotForall: forall_{(k, l) in Naturals * NaturalsPos} [forall_{P, Q_1,...,Q_k} ([exists_{x_1,...,x_l | Q_1(x_1,...,x_l) ,  ...  , Q_k(x_1,...,x_l)} [not](P(x_1,...,x_l))] =>  \\\\ [not](forall_{y_1,...,y_l | Q_1(y_1,...,y_l) ,  ...  , Q_k(y_1,...,y_l)} P(y_1,...,y_l)))]"
      ]
     },
     "execution_count": 1,
     "metadata": {},
     "output_type": "execute_result"
    }
   ],
   "source": [
    "import proveit\n",
    "%proving existsNotImpliesNotForall presuming []"
   ]
  },
  {
   "cell_type": "code",
   "execution_count": 2,
   "metadata": {
    "collapsed": true,
    "deletable": true,
    "editable": true
   },
   "outputs": [],
   "source": []
  }
 ],
 "metadata": {
  "kernelspec": {
   "display_name": "Python 3",
   "language": "python",
   "name": "python3"
  },
  "language_info": {
   "codemirror_mode": {
    "name": "ipython",
    "version": 3
   },
   "file_extension": ".py",
   "mimetype": "text/x-python",
   "name": "python",
   "nbconvert_exporter": "python",
   "pygments_lexer": "ipython3",
   "version": "3.7.0"
  }
 },
 "nbformat": 4,
 "nbformat_minor": 0
}
