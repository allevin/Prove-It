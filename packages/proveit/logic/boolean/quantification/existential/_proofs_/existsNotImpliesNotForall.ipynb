{
 "cells": [
  {
   "cell_type": "markdown",
   "metadata": {},
   "source": [
    "Proof of <a class=\"ProveItLink\" href=\"../../../../../_context_.ipynb\">proveit</a>.<a class=\"ProveItLink\" href=\"../../../../_context_.ipynb\">logic</a>.<a class=\"ProveItLink\" href=\"../../../_context_.ipynb\">boolean</a>.<a class=\"ProveItLink\" href=\"../../_context_.ipynb\">quantification</a>.<a class=\"ProveItLink\" href=\"../_context_.ipynb\">existential</a>.<a href=\"../_theorems_.ipynb#existsNotImpliesNotForall\" class=\"ProveItLink\">existsNotImpliesNotForall</a> theorem\n",
    "========\n",
    "*** see <a href=\"../__pv_it/d4bc3a79fce958a589b27184855c0498ae128f210/dependencies.ipynb\" class=\"ProveItLink\">dependencies</a> ***"
   ]
  },
  {
   "cell_type": "code",
   "execution_count": 1,
   "metadata": {},
   "outputs": [
    {
     "name": "stdout",
     "output_type": "stream",
     "text": [
      "Beginning proof of existsNotImpliesNotForall\n",
      "Recorded 'presuming' information\n",
      "Presuming previous theorems (applied transitively).\n"
     ]
    },
    {
     "data": {
      "text/html": [
       "<strong id=\"existsNotImpliesNotForall\">existsNotImpliesNotForall:</strong> <a class=\"ProveItLink\" href=\"../__pv_it/af6f9fa70fbfc829fbca678eeecccaa019e84f950/expr.ipynb\"><img src=\"data:image/png;base64,iVBORw0KGgoAAAANSUhEUgAAAyEAAAAzBAMAAAByNhrNAAAAMFBMVEX///8QEBC6urrMzMxUVFRm\n",
       "ZmZERETc3NwyMjKqqqp2dnaIiIiYmJgiIiLu7u4AAAAU9Wx4AAAAAXRSTlMAQObYZgAADe5JREFU\n",
       "eNrtXAtsHMUZ/u/he9/aQCFAAz5ECqlQZFOQCEHUFzBJSxvsBtI2QZQrFQYENIuIiFugPqA8SvM4\n",
       "SimoD+WKGhFACgflUQStV41okSnkovKMeumlClEkSO3mYSdxwnX+mdnd2Z19+M7Bl5SOtOe92fn3\n",
       "Md/MP///7XcGaHaJVN6Dz06ZVSl+aucO1GqTOnkiw/6m4TNVolmHSuUy3ie1WtskEHn4nOpkbm0J\n",
       "/B8Ro8xkXamcc/5kEOmc1J0lsiYi0eWkHMG9eJZDXbBU1ylSGba5IJLK851Q8xD5DZiIhLu7u+dW\n",
       "j1hAQmYnJnv2dC+Yj3vn1nmSy/nmjAhc0nREoseB1WtF1CMWkZgwWFrJYP4u3uqqek/CNxdEAoVm\n",
       "IxIrHj2IvCLsd5H7XkO2ZKnOk6SKbBMREZCOn9psRNZUjx5EThX2B8lasLGXPH29TlZpY5uIiDjP\n",
       "7m02IifDUYNIMC98WUq2HuJhZpK/H668Z+bb3jB8+/0vreQQ3MA2EZEZQtMOtbmIpD45ehBpEdOu\n",
       "faSbR1nsrnwA7VsGPb3XzkLg0EfjbH8t20REEoJxrLe5iKSzIiKJSqXyz4YQifrcRMHr4K3etnG9\n",
       "rzQh7DoAcCH23QoSIWpQK9U0COVcT/F1aB1vPQjbcPw9xjaGSEuFlr3SGG0aIh2ZRuYIN/po5aaL\n",
       "ec0PfSzm2CsE26gP5RDixwPksldh/20mC/qep9Y+gZXHknEE0Zr6BoSuKLueoggDY6kSBLHFaWyz\n",
       "xFrxu8398eYi8g1oBBE2GOMnqMrSjFjjT9UYXSDYRvwu9zgPePVzkBQkonvbXXRc/4ees+xxjo3Y\n",
       "wwmcVV1ss0a/O441dhc0F5HjJ4HIGvJngPVC3C8GVfK2EM+0hV/5XW6HjEhrWUQkvMcXkZ6s7vec\n",
       "EAk9aIZsa9RmIhLa3zgiSo08ResnEzS62AqQYAvX+dmGOy3JGyLS1cv3TyJIFAPjkFS9EPkltJfg\n",
       "JWhV7V6LryPvCjH0cKmZiCQ/cUBEmffOunukpttuXvJAp4hIAgdm6xi7B+txB6tXrE5MsIU2cL6i\n",
       "UcuzwIhmIjKoz5ebSBfuGtgFt7A5olBDPevTd5TambVMtA3Oxu+vs02cI3FxvqRzHJHqJBBRGrWN\n",
       "tDkgku7smE967DJr078H9wxkQytMRAI4v7pGIEzufDY/Tr84Ws2w3jO3/Qo+ex6cr8hqZ2sQZB2W\n",
       "0OdFiKQj+nVIHDuQm7srejdDZBjnCX4oh4Sd6Gi4PdOfgRddot9+y4wc4YjQKfdGY4jQzkyVGrDN\n",
       "WRCJYfRbvR0GH/0A5kyzhrel5P47C/A9ExE6xJ/Jhn6rYn+z4/SLo9VsSz23hUcw8cuC4xV5baQT\n",
       "MaMZouGVlG/WvsZ3Z5EpVFk/94EMQ2QrnngruT/lBH2nndzSHzdvO5FgdiNa3M02ERGL30yOcUSe\n",
       "hAZoM45IomDj4SZahovSHKEJMZ7K/kaRhjdtAiL4vZ0MB/LEP9ePp1UXKxsi3Hax7jIcr0hrA6Aj\n",
       "AtOcnt68IF1HzpRTfbPFcZ3OLIrF28b3c0RuwyGVawwRandbI+mI5oBIrHgK3CH1z4OBclTjN0g/\n",
       "Y7u3XdMyzkA4gx+XEDGszrDym9x2y1lZCOZcrshqyWMFebcMuRCHIiKa3MJcmEZKLD/HzYX7JViM\n",
       "c0RwiLcUGlzZcW4tbsB2Y8EBka7HR5H4eQ+i90N/NboKP+4PHejIRQr8+dnad2hhukdjiOwEdhy/\n",
       "OFsNCfX9qm47/UcaKGXzitCvMkvyobLaIbPXHb2A4Vai6/aWvBGBSwsslMbNFRFlL0ck9cTy5Xc2\n",
       "GmsNLV++vNyA7WCnAyLhvjevL2D/hA5Clxoaw4+DMO+md38C4YyQjyw7ZfWqOEMkXWXH8Yuz1UKh\n",
       "vkvjtsGfYrdsMa8IXRqzJB8aq72IDFQeWDl24jJr8Cg3sC2v8/nmigiM6tHvaF/f5kYRae3ru7nY\n",
       "gO3VquM6Qst74vDie+mPLRl6ePwKhkhSn2v4xdEqL9Zr3DaprSK7LwtXFMY439ui0RdMfK13YNTq\n",
       "C2iSnWzzQOREHZGL2Zp/64TouYQVEZJDYZL2i72L5qlW0sgyH/9Q+Zw1ZeipuiJywckFOM/4xvda\n",
       "XrIgkqyNQehZEpMovIZ+cbLCpN6oD6ncNqw+TYb/duGKIdXSiJQrVf+kviFu1BWRio7IDEo1RIvw\n",
       "LB3tSk91jgczbUWERJDoG1NtkChbSSOxPHQdbN9lRUQM/2W9luawJyISPUYfNL/2sQqL31JW27jm\n",
       "5PQF95/9FACZVXE96yYdkTSZxJR2S2d4pK3Tc7MXZZLHs9EcunchPPsdCRGSzbyKz52lZLJIGolh\n",
       "HXGQ0UOuiNRR5IdJ+RAH670ObvBhKaswpeUuHZGkRtZHnKHDVZ6N4pxRXlikpXLrjUf6S6KKd2hH\n",
       "5FWyPhIsNQjnraSRmHxgVa1aFyI3V47cl7yTK8HKZj9ElPy5LH2cxQ6soEvLi2f+u5p6o4Ug8kU6\n",
       "Ev9W6k1UW7oXdH/VgsgOqpwZ7oQ3VStpJJRnsElNrQuRMvzvlmV+Xguuu4ilt2uDL+JAHkN6LoVc\n",
       "Tur880rrMVl5jczwh293miORZejhOp5aq1kJJ7G0E8cdquEsMmMtJ4dwlgUR5SgZ8vWEXFRCh4j8\n",
       "2XNlh0fKjDBY8bNhVV/sY8xJr99AvNZihGdD4uM5DojEr8LddWAnnMSC04PMn3ivc/RrBDlZCyIN\n",
       "c2ZTUZ6vdXe/rXI+uI5yOUekpdMr+oVAiQZNsJc2S+aQDJrDEEkkLiPml9BVsPg7B0Tg8/hxLdgJ\n",
       "JwsiyBLtthADgw53ZMmMy41zZlNS9hH3MK1+RjCme628V4YIqSql3ULTKeUdKSEiF/b19ZVSndG3\n",
       "yMKd/AdF5I6dToi8hR/7wU44iWX1l+dlri5B+l/PmyyKQ4z8inUdaZgzm4qCAoj4AahbSEd5mWXO\n",
       "VJnBonB3mCOT4+wQdvQ5SM9t46Hl6X8CeC1cQESCFxBEonZE6FnQXZmkkY1jgq53Mm8fJO3/+rEj\n",
       "06iXU20re6Oc2VSUJEmvUtiDdQrpkPyliGz1YBp50zKZHBcmSb8OJxHBsMoQSa3HRX4xjd2HqhKL\n",
       "wso69HcGaSRxTNG57++rFmDm885svD4m8jZEGuXMpqJERkgShp4BhXTrpvNV2bWYLW7giERkXsRg\n",
       "43nZAjE18hzybE8iPadcg5e7BpOyL+BCFLwvQ/NfR0SspJETx9TzQhZejZlzRHxjpbMBRRsijXJm\n",
       "U1FQjz2Mz7AEXzG2q/GaZ6pptljLEUn0yvNuzIrIyyIBQa6XIOuIP9MoTjpVJJxsHNMgibfmJ54z\n",
       "x5j8fj+m2RDhnFn9xUcY5/XmwUeQp2vqUI8deocnb1ujNbVlFEI5VzPWQkEy7zGOSFxe2o23urxs\n",
       "F/o1PqHlyoaIlTSycUy3nGQbD3JmH8iYOjWKCOfM/AqPEUyS008Y5yWq8xHk6Zo6GLz0qSV0tBwL\n",
       "cEFiH6THvXR0rAXNwE/jiATlIcn8hokIp91SOj1XNyL1xSr7ZUegh1/n6jk748z8ChuaAsnpJ4zz\n",
       "EtXlfGy5ps4UQCCBGhiH4d2eqi3WAj1WF0ckNCKTTXZ10IYJ0nOHBRFRQeeKCOPMJoaIQHL6cege\n",
       "ojpf56BPWoM3RUS6xqBjxBMR1mKFNyIbm6qgE1Wm+ukKdkR2WLJ4T0REktNXGOcuqvNdt7imLmQo\n",
       "qNEbb2yDZ/KeiLAWY95eq8kq0w7JOKLZEaGc2YzNsFVKXsRKiohIcrZBcEFRmQ6uRu6iugA42xqV\n",
       "PCFMGm97bsL+zsPqIkMEnZlVR0c/aAva169zRFLyyn6guYike+UQUV9jdESQM1PKq2GjZtO4scrZ\n",
       "momIQHKG8rAzNpI6aCc8TSN3Ud1scLallajHC7JZa+ix6dow0JasZZiyUZTPmao61gLpKY/ot9m/\n",
       "VkhJfjRYtkW/lDOLPjoKPapdVUcrI50mIgLJSTrtBwO58JgkqjOM3EV1BCtHW1qJejym4Ppw6R59\n",
       "wcH4Kb7pXeL5KCKomrPo6Ji0jrZAeorK6BCRmEQjxbLNRYQxlJYyTUIEObPkfjhGUlTRyoDgtQSS\n",
       "E4Vxg4VAm0SvGUbuojoU5Dna0so2U1NndgJpeDqQdIR5raC8EKG0jrZAesqDRWn2r97gIalmSEKE\n",
       "OQhlj4QIrbxNQEQgOVH2trQ6nJV61TByF9WdAS62WInUZzAnU4ckGx8Y44ik5AclbpK1QHqK/swN\n",
       "EXlaanctNBmRmJTH2dh4I5PF7rKq6ljlkICIQHIqZXxFiVyz6mI0ZNHLiaK6nWDaim1opf7zZ2tZ\n",
       "BckD0U0ZrqNzRoS1QHpqB2fjFWlhDzb919NRSUxrkc0YiERX3rVbUtXRyovEfERQ1ZEkpv995sGc\n",
       "jRZa9HKiqA4FB7qtpQ1Woh6vRXL/y5BpMBI4OZ+h0jqjxXxuEpa8W7rp/2GAMjzWcrsTIh+qxIPb\n",
       "VXW0cotmSbMNkvNlUL6Fa4+d8DSM8naSxxDVJQuCrdCGVqIeLyaPrHpekFAJHSLye+nQImg6Ii29\n",
       "XkcNRAa1qzOSqo5WXqlaEDFIzu2QPNiySyY8dSOSmNv0coaoTsmZtmIbWokqvsOiqXNSPhjMY6iJ\n",
       "/83pxgkh0n/9fJm7NCrBQVUX16L3/Vh1NwpL7wpEQZ5hK7YxKrOfFiKH5785TfI/nsk+WSiVCeu1\n",
       "5E7yEcZ5sXY+grzDoakLVhz+TYTyfX6BWq3tvwTeFFEqti4KAAAAAElFTkSuQmCC\n",
       "\" style=\"display:inline;vertical-align:middle;\" /></a><br>(see <a class=\"ProveItLink\" href=\"../__pv_it/af6f9fa70fbfc829fbca678eeecccaa019e84f950/dependencies.ipynb\">dependencies</a>)<br>"
      ],
      "text/plain": [
       "existsNotImpliesNotForall: forall_{(k, l) in Naturals * NaturalsPos} [forall_{P, Q_1,...,Q_k} ([exists_{x_1,...,x_l | Q_1(x_1,...,x_l) ,  ...  , Q_k(x_1,...,x_l)} [not](P(x_1,...,x_l))] =>  \\\\ [not](forall_{y_1,...,y_l | Q_1(y_1,...,y_l) ,  ...  , Q_k(y_1,...,y_l)} P(y_1,...,y_l)))]"
      ]
     },
     "execution_count": 1,
     "metadata": {},
     "output_type": "execute_result"
    }
   ],
   "source": [
    "import proveit\n",
    "%proving existsNotImpliesNotForall presuming []"
   ]
  },
  {
   "cell_type": "code",
   "execution_count": null,
   "metadata": {},
   "outputs": [],
   "source": []
  }
 ],
 "metadata": {
  "kernelspec": {
   "display_name": "Python 3",
   "language": "python",
   "name": "python3"
  }
 },
 "nbformat": 4,
 "nbformat_minor": 0
}
