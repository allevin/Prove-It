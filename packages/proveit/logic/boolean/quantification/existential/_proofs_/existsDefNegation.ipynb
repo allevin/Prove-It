{
 "cells": [
  {
   "cell_type": "markdown",
   "metadata": {
    "collapsed": true,
    "deletable": true,
    "editable": true
   },
   "source": [
    "Proof of <a class=\"ProveItLink\" href=\"../../../../../_context_.ipynb\">proveit</a>.<a class=\"ProveItLink\" href=\"../../../../_context_.ipynb\">logic</a>.<a class=\"ProveItLink\" href=\"../../../_context_.ipynb\">boolean</a>.<a class=\"ProveItLink\" href=\"../../_context_.ipynb\">quantification</a>.<a class=\"ProveItLink\" href=\"../_context_.ipynb\">existential</a>.<a class=\"ProveItLink\" href=\"../_theorems_.ipynb#existsDefNegation\">existsDefNegation</a> theorem\n",
    "========"
   ]
  },
  {
   "cell_type": "code",
   "execution_count": 1,
   "metadata": {
    "collapsed": true,
    "deletable": true,
    "editable": true
   },
   "outputs": [],
   "source": [
    "import proveit\n",
    "context = proveit.Context('..') # the theorem's context is in the parent directory"
   ]
  },
  {
   "cell_type": "code",
   "execution_count": 2,
   "metadata": {
    "collapsed": true,
    "deletable": true,
    "editable": true
   },
   "outputs": [
    {
     "name": "stdout",
     "output_type": "stream",
     "text": [
      "Beginning proof of existsDefNegation\n",
      "Recorded 'presuming' information\n",
      "Presuming previous theorems (applied transitively).\n"
     ]
    },
    {
     "data": {
      "text/html": [
       "<strong id=\"existsDefNegation\">existsDefNegation:</strong> <a class=\"ProveItLink\" href=\"../__pv_it/afd692c57a555013331e5a697f5336f9615c21740/expr.ipynb\"><img src=\"../__pv_it/afd692c57a555013331e5a697f5336f9615c21740/expr.png\" style=\"display:inline;vertical-align:middle;\" /></a><br>(see <a class=\"ProveItLink\" href=\"../__pv_it/afd692c57a555013331e5a697f5336f9615c21740/dependencies.ipynb\">dependencies</a>)<br>"
      ],
      "text/plain": [
       "existsDefNegation: forall_{(k, l) in Naturals * NaturalsPos} [forall_{P, Q_1,...,Q_k} ([notexists_{x_1,...,x_l | Q_1(x_1,...,x_l) ,  ...  , Q_k(x_1,...,x_l)} P(x_1,...,x_l)] =  \\\\ [forall_{y_1,...,y_l | Q_1(y_1,...,y_l) ,  ...  , Q_k(y_1,...,y_l)} (P(y_1,...,y_l) != TRUE)])]"
      ]
     },
     "execution_count": 2,
     "metadata": {},
     "output_type": "execute_result"
    }
   ],
   "source": [
    "%proving existsDefNegation presuming []"
   ]
  },
  {
   "cell_type": "code",
   "execution_count": 3,
   "metadata": {
    "collapsed": true,
    "deletable": true,
    "editable": true
   },
   "outputs": [],
   "source": []
  }
 ],
 "metadata": {
  "kernelspec": {
   "display_name": "Python 3",
   "language": "python",
   "name": "python3"
  },
  "language_info": {
   "codemirror_mode": {
    "name": "ipython",
    "version": 3
   },
   "file_extension": ".py",
   "mimetype": "text/x-python",
   "name": "python",
   "nbconvert_exporter": "python",
   "pygments_lexer": "ipython3",
   "version": "3.7.0"
  }
 },
 "nbformat": 4,
 "nbformat_minor": 0
}
