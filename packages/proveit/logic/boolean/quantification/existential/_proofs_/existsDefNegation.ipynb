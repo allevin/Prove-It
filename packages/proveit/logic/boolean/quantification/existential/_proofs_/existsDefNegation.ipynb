{
 "cells": [
  {
   "cell_type": "markdown",
   "metadata": {},
   "source": [
    "Proof of <a class=\"ProveItLink\" href=\"../../../../../_context_.ipynb\">proveit</a>.<a class=\"ProveItLink\" href=\"../../../../_context_.ipynb\">logic</a>.<a class=\"ProveItLink\" href=\"../../../_context_.ipynb\">boolean</a>.<a class=\"ProveItLink\" href=\"../../_context_.ipynb\">quantification</a>.<a class=\"ProveItLink\" href=\"../_context_.ipynb\">existential</a>.<a class=\"ProveItLink\" href=\"../_theorems_.ipynb#existsDefNegation\">existsDefNegation</a> theorem\n",
    "========"
   ]
  },
  {
   "cell_type": "code",
   "execution_count": 1,
   "metadata": {},
   "outputs": [],
   "source": [
    "import proveit\n",
    "context = proveit.Context('..') # the theorem's context is in the parent directory"
   ]
  },
  {
   "cell_type": "code",
   "execution_count": 2,
   "metadata": {},
   "outputs": [
    {
     "name": "stdout",
     "output_type": "stream",
     "text": [
      "Beginning proof of existsDefNegation\n",
      "Recorded 'presuming' information\n",
      "Presuming previous theorems (applied transitively).\n"
     ]
    },
    {
     "data": {
      "text/html": [
       "<strong id=\"existsDefNegation\">existsDefNegation:</strong> <a class=\"ProveItLink\" href=\"../__pv_it/92dd8f39a47eb0774ff19f5f58903a584ca713060/expr.ipynb\"><img src=\"data:image/png;base64,iVBORw0KGgoAAAANSUhEUgAAAx8AAAAzCAMAAADB/EVHAAAAPFBMVEX///8LCwsYGBgNDQ0oKCgQ\n",
       "EBC6urrMzMxUVFRmZmZERETc3NwyMjKqqqp2dnaIiIiYmJgiIiLu7u4AAACwKje0AAAAAXRSTlMA\n",
       "QObYZgAADKRJREFUeNrtXY3WoyoSdPcuP4KIwPu/64KAAgISNea7MZwzM44hlGIXNE1b6bpf2RQi\n",
       "hKDumMlff/ybCtTPbvx33wJQunzwHka4U0EEx8OPH/+2QvGhr0kcPerRWCn4CD8YQuhzZtfvUlMU\n",
       "jn/lm/nRwWgslNpI2Wf4gT7Ze+N+71lOUFMYofRncVf5PvyNjU/wLD+6aUhOoOfxgzVMCLYKNkUM\n",
       "GPw8rNcLx0rN/YfX4QXht0L26Cw/Otw/nR+0BTygEEYd+U0gR4qygzEB9K6l3HCaH9r1fzg/hpa4\n",
       "gIgOf/w4UpCLwLAlEsP5myGn8TQ/WOwsPI4fTMmX+EHJjx8HHSxl1wOT8j7L2/1UCU7zoxv6R/MD\n",
       "NIWVV35M/MePY4Uo56Aq57JA5/7IfhADgoM4sxrJN0LYaX5ARR/Mj6lp+gj4oZcfP36cWX5IRfzy\n",
       "2Q5NUjCzAyYkV8f9rUIjY3+aH/EE8jR+NI5Zlh+jEEKZP/fxg57sGfZngN3yA4nF3IbJjjjmH6XN\n",
       "Wqn5BCIH4OJGJHbDHhu2/OiHoDQ8/mgIfRg/oIIv8MOMU6bDL5o/YmjJByEAjnuCnk0qQLsNZHHf\n",
       "AMwVHsexH9e+A7YDTEWq9JhjXNcO9fjIBmzcSAddGxCcnz+6cEZ6GD/6xttdHhkbr+MHieMkplVJ\n",
       "YsKS0yB7qTN53DcAk40nG0BOQd4GO5qgEDTi/Co9aV3Aj5CwD+MH6F/kx8jeww/mvHKqQutg5wOg\n",
       "cqjTI4v7DmC1MfuAH1jh8/wIGnGu2zX8YIE//Sx+IMVe5Me8o3U9P6Tyo6sKh9krgHCtbwu4bwBG\n",
       "ajMUua03MyWD2Yfh9DA/kka8Ref8q14EpWWelIGD9Sx+cCVf5Ifw1iMxEf04DA1XXqoaPJtxGfpU\n",
       "uPgH1e+3QVU34Qq4bwDm25UemRxFoV45QJPJEM0fy6NZn5EsHSSNLFY8DRfMH13AIt2y/BQ/7gcm\n",
       "raOB54dNGDL8EEgv7jG19oWrlx5URX7iT/gB/ESGlFobREP6/QNQsGYbCS52PtEbgLfLD7dIoNrD\n",
       "w0CbNh1gyA/pHbLlIHPKHySNcBKvQ07yA6uQH/Fe2I38uB8YkJf4MQgAzKSsHzXlZkhk1ITd0Qhq\n",
       "7khYtSMoy49l9J4HdN+gtbCTUKi2AIlxO+Z8oKuBZU+UwulDdUEmLsQoMRgcPRZ+AHdtcnlKy1Fw\n",
       "4CrFjRAP5do8yQ++zq2aHyOLnO37+HE7sGx+J0vkfOp1SBR77vpSFXQFfvjPFVobZPgCqB1+RLi9\n",
       "ewLvB7YVs00u6w/YsgjKVgIIOfp0V/CDrctUzQ/qnxsl3a38uB0YqulFfqxT3DB2QP+PTvu2E1SN\n",
       "7iw4HhTSHjzsercUtA1CcgEUrHVmgisk5PgWYOsmjFV+ND2cKTvudbYbR34JP9C6QDcrGz969+xe\n",
       "ftwOPLWGrzwv1pglUiM0oVGb4DPbDh2o+UvGf9GoamQRJHwCooedwJ6w1hilKEDlsEpQ5t/SpaW4\n",
       "YKJyuhJ4p2T8BDoOqufn+NFh64rIC/LbLd/6kB/TOL8oR+97kdTx425grtBr/OjW+piQSZCBreaM\n",
       "jJEhReO/pqgqhnl+6CcIxKC0vbDQmREyD5XDKkFp+y9fWowLB+4M6SrgnVK126Y1aLXS8ibWSX50\n",
       "S8qYjYwpYsqNog8+vnszcN+cSLXDWGfO0+74JmQ+fuXjJLzHYYOclaByWHmoYf/SPC6f9Ig+XQu8\n",
       "Q5B3BmI46i7iBxgifthVqN8jymeqHXSBxio/ImBGVN/3eNmqyicKlSfF/eq4dfujzg/EwTyfowzb\n",
       "knM9pxV+cGXjSb7BTpICVA4rD2V3wuuX5nH1eDtyeCnw3yhn+SFExI85vOedtzlTjYevSczZkejY\n",
       "IN9X+REBd9McfRjdtRUShYoxh4bqQVx7t4PEbvymYfpIAj6bxwiStzk7NrVj5avihkvb4l4G/AeK\n",
       "0b86yw8Q8WMeLvkUPkUBI8Ruk3+Ght44nBz0sna6zo8IuMPYLqKljbFlE4XKIbmG6u38eEtpeWjT\n",
       "ycyC8Wik/GPAf7EMCT+MiQqXQc/tCj683XlX0g/zkmsvSNefyNwnab8kp3f4EQDrg5kodk+3lChU\n",
       "jDi0VC/yg7RMF7/yVaUms5jyQ9u+l16x7j+MRmGbQGBde04glVLb4DRxY/2GCJCtQ1Bwup/VXTBm\n",
       "ZX4EwNrG5+9bQy0lCpVGr6bqRX78JOAeWYrLlNS/0qzwUTrgZwzIiR+JrcnN+WdTv07IDFFuJ4p5\n",
       "A8N+FJ7enz8C4A4q8z6Nc7byCUrlgEM+r2gTv5IVfvxErk4Nx/zYZ+fKVFptjrThO2V+iIQfrBd+\n",
       "/eBmDAalH4ldnXkxPYQO6ygnZImgCeKYE53e58cCrG8pNOp8glKxFPKKNvygFX58IA/te4r3Au5W\n",
       "hevzyyYa2NImv31fRi6J75ozPIgoaXsLcV12pKFOEMUy3tTYjW5g773wXHx6lx8LsJ5K+sjgcwlK\n",
       "FX5k84qSUtwfnKnxgTy0L1rRLl12sypc3lPAm3kF9dvvFPmR7A8as3b3YDPVEJiCxGyXHTnzQ8w7\n",
       "euaMIQKdpFtdczGt/FhP7/NjWjs2NOp8glK5l/J5RenMWgr+zvz4QB7a15T13Y+7VeGyWS10y5qQ\n",
       "H3syckl+SeQqEjdj6A/QYs3IfyRxNH90EPHZvrVzhdn2tL6EPX6sN+Cdn1yiUDkbqJpXlPrBpfxE\n",
       "EY1z9+WhfU1Zld/uVoWToGn6iPixl+ab5CdGcMLNGEiYXBdjfD47cmbd6lbagPk0LzTmtYc1q/B0\n",
       "uTu3/DBpau49gm2iUCUbqJ5XlI4LY40f9+ehfc3ifB2vi6pw4wCmeO37csk2QbajWU4xKOTHnoxc\n",
       "nN+emIoxbDMkE+4T3Vx25Jx/Jgn0t22P5vToflkrhadf4kc0Zy7jQJqg9GpeUYpLavy4Pw/tW0rw\n",
       "gyolVbix7+Z3m5g6vEmbb2LcuvAE7fBj5zXD+P2o5DNWMD6/qhnd+uPUdFzlxzZRqJYNVM0rSjsO\n",
       "VPkR56HdUM6JsrE/A7suVkuqcNqlmeWq9AqRdMc04aImFkU4Lwk3U9FqwP3vn4wSXMQPVn9NPX6/\n",
       "NrkKUjC+K/PP6vyoJAq9nFeUDgyyxo84HeyszxF36xvU4D6kBZeBBXDt4bwqHOLdOE8tQvv2xzTh\n",
       "oibWHWwIWqaPmB87MnKAlPmRZKqt/7kyiP3X9H3C1wX5dA3WDWpwH9KC28KuABVVuFmOR6o5xn5Q\n",
       "8ypoYnGrUOqv5QUqIn7UZbJ29H3ymWqX5p/9NX04/7SidLAL+fEmNbgPacFtYVd+lFXh0OwbQbt2\n",
       "OMaPsInFpdvwY6An+TE9Vh+upC8q1id/2WbvHWpwH9KC28Aubm1ZFc6pgVoP6SA/wiYWGw78q3mn\n",
       "/L//ySrBveBfPVhfFOZ30MVqOy50DrEJY0mw72yVajaqwbUDZaqe0II7c4MbWDIty4+CKpwxbmPW\n",
       "g12/bzThylJwwUHQxGq36U9q5qePmB91GblwF+Bxv2/QV/nh08Gk0I/BPBDzcKu5kUHNSAyuUQ2u\n",
       "HSiHdFwL7tQNbmCXxUBRFc54eWCOMMKAHy1ScEGloIlFES6N75a6pD2+++TfN9A3X+WHTwejzCj0\n",
       "ddjIEewopa0148BJmxpcO1AO6YQW3Jkb3MDaYFJVFc5wAgjiXL1UEy4rBZdqwoVNrDsMA2yZPuKo\n",
       "W1VGLooMP+/31XiVH0s6GDejL7BvV9Yd9rUm6Er8qKjBtQNtkc5owZ24wS1sjWHuMzhfhAsZHNOE\n",
       "C5rwinBpfglrEeiv5pc8+/fVOgaq/OjCQKW0HvyO+Sw147zGVjW4dqAt0gktuDM3uIWtaV/Zz+ZN\n",
       "b+rntEOacEETiyLcIgnnn2RL9LEqI0ee/fuc2d93zvDD7KF6y6qpwQU1YyNpVIPbAL2CdFwLrg23\n",
       "Apv2asUu58+4XvVSYTcLD2rChU24nKc01tw2fdTy2+HDf9+5oxlfIMMPOoghdIcqqZG+Ji5u/tXU\n",
       "4FKgV5BOaME14VZg0+6qRArsZyb4utlEe00TLtMEpq9PH1UZORHvID+PH2HCTpkfsqfeO99Rg1tr\n",
       "RmJwrWpwGaB2pBNacI24FdiEBBVTf58qHE8MCb70nQw/+mQCeiA/Nn2Q4wfXI2c/xyL31ODWmpEY\n",
       "XKsa3BaoHemMFlwbbgX2C8qWH5ux80P8YAihz73Eukk/Fhn3igzx3F0apbc1C/zIq8Flvt6MdEYL\n",
       "rg23AvuN/IDRMkpqI2Wf4Yce1NQHX7NIHWjxBv2r96vBfUgL7kuU4DIyi5JEtzYaKwX/B21r4kW+\n",
       "8pO3AAAAAElFTkSuQmCC\n",
       "\" style=\"display:inline;vertical-align:middle;\" /></a><br>(see <a class=\"ProveItLink\" href=\"../__pv_it/92dd8f39a47eb0774ff19f5f58903a584ca713060/dependencies.ipynb\">dependencies</a>)<br>"
      ],
      "text/plain": [
       "existsDefNegation: forall_{(k, l) in Naturals * NaturalsPos} [forall_{P, Q_1,...,Q_k} ([notexists_{x_1,...,x_l | Q_1(x_1,...,x_l) ,  ...  , Q_k(x_1,...,x_l)} P(x_1,...,x_l)] =  \\\\ [forall_{y_1,...,y_l | Q_1(y_1,...,y_l) ,  ...  , Q_k(y_1,...,y_l)} (P(y_1,...,y_l) != TRUE)])]"
      ]
     },
     "execution_count": 2,
     "metadata": {},
     "output_type": "execute_result"
    }
   ],
   "source": [
    "%proving existsDefNegation presuming []"
   ]
  },
  {
   "cell_type": "code",
   "execution_count": null,
   "metadata": {},
   "outputs": [],
   "source": []
  }
 ],
 "metadata": {
  "kernelspec": {
   "display_name": "Python 3",
   "language": "python",
   "name": "python3"
  }
 },
 "nbformat": 4,
 "nbformat_minor": 0
}
