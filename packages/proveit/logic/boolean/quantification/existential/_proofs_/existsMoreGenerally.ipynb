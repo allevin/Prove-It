{
 "cells": [
  {
   "cell_type": "markdown",
   "metadata": {},
   "source": [
    "Proof of <a class=\"ProveItLink\" href=\"../../../../../_context_.ipynb\">proveit</a>.<a class=\"ProveItLink\" href=\"../../../../_context_.ipynb\">logic</a>.<a class=\"ProveItLink\" href=\"../../../_context_.ipynb\">boolean</a>.<a class=\"ProveItLink\" href=\"../../_context_.ipynb\">quantification</a>.<a class=\"ProveItLink\" href=\"../_context_.ipynb\">existential</a>.<a class=\"ProveItLink\" href=\"../_theorems_.ipynb#existsMoreGenerally\">existsMoreGenerally</a> theorem\n",
    "========"
   ]
  },
  {
   "cell_type": "code",
   "execution_count": 1,
   "metadata": {},
   "outputs": [],
   "source": [
    "import proveit\n",
    "context = proveit.Context('..') # the theorem's context is in the parent directory"
   ]
  },
  {
   "cell_type": "code",
   "execution_count": 2,
   "metadata": {},
   "outputs": [
    {
     "name": "stdout",
     "output_type": "stream",
     "text": [
      "Beginning proof of existsMoreGenerally\n",
      "Recorded 'presuming' information\n",
      "Presuming previous theorems (applied transitively).\n"
     ]
    },
    {
     "data": {
      "text/html": [
       "<strong id=\"existsMoreGenerally\">existsMoreGenerally:</strong> <a class=\"ProveItLink\" href=\"../__pv_it/21c39b90fd8194c5be52e18f6cafc8739e598bdf0/expr.ipynb\"><img src=\"data:image/png;base64,iVBORw0KGgoAAAANSUhEUgAABEsAAAAzBAMAAACdyJv3AAAAMFBMVEX///8QEBC6urrMzMxUVFRm\n",
       "ZmZERETc3NwyMjKqqqp2dnaIiIiYmJgiIiLu7u4AAAAU9Wx4AAAAAXRSTlMAQObYZgAADapJREFU\n",
       "eNrtnQ9wFFcdx393e7nL/dvEVmnRtjnHVphxGK6iQulADknBQUsySBhLqx5UDxlaOUamydAWIp3a\n",
       "FiFcra0dleHsENvSKRxqadXanKJOB7SkNUCLXuYYgWFKaWgIBBLI+f7sn/d2N9m9u+XgzryZ3O29\n",
       "vN++d/s++97vvd9+E4D/s+TOHKrgb+fMHC6btjpyuaRpobrcYFGVPFegXbDCb4PVdpxEnE/fd+Y+\n",
       "AvDlcrWXBZOnpmRNC42fMrOYOqqSY5hcPkxgIu3A/055EjEz5bbLg0nYQqFri6tjGxSOSQtK8bKY\n",
       "QlJ5Ff+LfZgE2qSDW/GLUK6YeLuKwKQBpZuuXjh+l2to6CYYfyHPETZsGyZwR0VgsipcBCY4LbuK\n",
       "B5HzyNG+Dh+052nYZh8mjkQlYLIBKhcTAfn2Xuzf+1N5Wu7VYJItvBHemyoAE+9wBWPi70O+wVl8\n",
       "HfPt5iMaTNqLaMWjFYCJI1nBmLhPA7gu4OUG+jm26ZGJ3aMvXr/x7uc3Rahlgsfk5iJaMTle/pjs\n",
       "z1YwJjXIxeiNooPFiIH3oK6nc9TJ51TCcenkEDn0NfGY+FKFt6K6qfwx6YZiMHk5k8kMFGT8A5Pf\n",
       "J0b5ncfkqnjlg/okCAfwwUY0qqQhl8qlQYiOaPc1qBmquQhH0TzsbZMxqcqQdLaIJfFw2WPi7INS\n",
       "jCYh+nZy09uzpZ42m+umazNUW1hj5rnKJ++ct30xGfGvQeMBeHLxfSAsHHkDIAnrBgIpcKISzlrN\n",
       "Sse7vvALNVT2mFTVlgQTegd7x8XFlZQYt5mFL6QZIVRbiJoZy+GHlfKMSm6GwEfkRKPtE+2vlSYc\n",
       "4bR2QXzimoIv1J1lj4mjqYSYbEVv62gv/cLMQmzjPzO2XlM/4YT0fglYTFz9ppg0Yge2Om2AibCh\n",
       "cCdua7zcMalPlA4TMYeudM2wRaPZPDWMrds0POCil01QHIrxCI+kYwj88dEw+TnUpeBVqImzk47k\n",
       "mxwsYuekN1XumHRmbcDk6P2LH9c1VJxz4IVHOEx8+G6uoR4vulomVn/k5yDG1qE5uZKUM0q7aX7F\n",
       "8boP9VXfuj5YRUcTEefhb04O5E9ibkIu5Kkl/Rlo40cTb6SIixyMsphkLwsmohVMCq56CdiAyb+c\n",
       "/esi4OIbEQxPntsP09IqJg68g1F/GhcUUC+YWPE7FbLtV9DbNLkYzOcbRM4ooFWNU9r8ULYOO9CM\n",
       "FZ3V51lPMenFqOAZCR8onzznXHWh1hDsNlgQtxbTi67TLCZkNNtnNyakMwKp0TEpuOpxxWGyCQ3H\n",
       "w56U/8LDCeFX/FzwIHT+7D1wh1VMyGCwM4ILon40s5rG74BQW3iabnXRYtOv49fJ5IxwLxAKAY6t\n",
       "7Jcv2yQ0tGR2zHo8RDE5gs4m4q9+JCq9iHWoHX86fPR6BNIK7J+EeEyK2hzyD7CYvIjf2+3GxIe9\n",
       "h+rs6JgUWrU4WPxoIt+2Qa3LgNcZDmbSIa5FXRgXJGP46FYaTCTbu9DbT5VFjPbpOXLGWhkT9jqq\n",
       "tRDfZIJ+Z0AtcW1Yv1kfLqYXvRdYTB7AREftxoSc8QGTSafQqp0X7cBkg6PLk9Z2eHXyRnhIbjhp\n",
       "WvWZo0urhggZzqip1Wf5fMm253MR/BtaTIsJOSO+DE7tpQgkeUzS+j0w9dY5jcagl8C2CDFiY4jF\n",
       "BN/yVQm7MSGDxF0mmBRadeCCDZgIg5Oj7gTucM9j0Jr1tKOX1nj9c+dgOYm0ypgIlxYEG9MEE7GL\n",
       "sWqNExP8wljt5fJl2xvWpuEU8lJIMYSJWqPnMXpGTERAt3mnjLSeF86mRscE5iXoctw2TMSzLCaB\n",
       "51taHrZ/pbO3paWlywSTQqv2n7FjNJlz38EnSO8LF6E+Lgygl/q0K/bP7yXgy+y+yeobN7d76TzT\n",
       "w1jVp4kJfmGsFnD5kq3zx2i2CmaBFkOYqDWiI3JGF/IqqkLatvJd7td/Gd75c8XtxATOcQvic7HY\n",
       "YfsxqYnF7k+aLYgLrLpqwA5MpI9x9p6U7teeNLdv6hpaSAv+nrVKG1m1afOxrT/dnga/MmweYmuU\n",
       "joIfoMFV11ZPfqG734KtmFzPYTLb9nApxsQVNthQSmowoVV7VzYvJC1gAiBs0mW7hm3DRNiF/Oip\n",
       "yiepxXfHOUz8uQFa8DhjJcQNrLwpbT62dcVfCoEon+32TybUGuWjqlct7PFaSvZhkuEwuZnMaT66\n",
       "//0O+tmlHwXocPgldd9I3S1/Rz5QzTAmaPF4AkjYkklNGkxo1fBngJeBD4CwHrcum67oC8VEr9NJ\n",
       "G0z1LCaej0kjgTdt5BYwVi5dvmILvzSqkfU3IjZ0rTPTbRsmb3OYBNGgqCytcKuDcp9Maw75P5FV\n",
       "LtgXaTAInsnKpdcq3xPlKWZ0F7YLXgcStsTVPLoAdn1LjwmtGhroAyRMAIRN+uyiMMkj6fttj4nF\n",
       "jtEcb5PlqS8LV1f6IYeJPx3kG9hLNoRfaU4HojukL07vqy3k9dk35ILHlMkK5/VmOUxexw4fHnVO\n",
       "Nt8Df/dl8VXQYiJV/R/A+5RsAIR1uPXZHCaVreIrbZqUSY6Iidimec5/En7ZPeHDbGBflR6TNxW3\n",
       "6n3lYQaSN4nzTeCEECFhS//StR/CP1JNvuzChu6GBIcJrVo8A4FDfACEvcn02RwmwbHetS95IiNO\n",
       "OrAMreScu0mpDjwHdDh3ZwP4xg/cNjWlxeQ1XIKU9j8hW5A8YsZg4l6NJqGaOPyNDNZPPWg0mpCq\n",
       "wTm4/R7ggiecP8zEReSVzjCPSdnIs0qa8tSCBUJaTHgXFp5GE/9JHIcGnxN7lBt/0huvprPpjj0a\n",
       "TLaQ4QCX9m8EyYLmETMGE+83aSVtBBPfB9ONMMFVg48UYYMnbGLjIkYL4qtfnlXS5G/sb7hzLj7K\n",
       "UwsGX9diwi+IwYGwW0smlBYfLnY2LD2tFwj7fPN5TN5fSlzXLSD8G2QLmkfMGEzgU3jqkh7d2wPJ\n",
       "bUaY4KrBTbOZ4AmHCRMXMdpeKwN5VkkTfuB6Cb6E+QbLqrWY8NtrEMCj/ArqD6LpQ7gBjRMzYrFY\n",
       "KhD2vNWjmXROLgdSWlwUUixIHjFjMXmLlBMOxmIrECYPnTLChFRdQ0cjJnjCtZ6Ji8jjY98YJiOm\n",
       "enRfbk0WoAXDsQIWE36zXsobJl2Lpx5/9FYBjkpLuM+8oXVhsUuCS4uLFAuSR8xYTAgLYTFCRxPn\n",
       "7YiIuBYT+sVwthoA0URZ2LiIPOteHMNkxNSJbt/9TQVowcRaHhM+9CdtHLUlUd+gzNa4OzXDT8MD\n",
       "CJOAfkEc2IhLo1M2xOXT4DxipsEEhy3nSvsNezXNVjDxbcazohIA0UZZ2LiIfNrBMUxGTCvRT2PC\n",
       "qhaMLbKcx4R/kEBaCa3AUSjkS9Snq+Pu34CI/Y2JS+UtJoLJms13U/ssKo2NvxMH8tAUySNm2tFk\n",
       "XgKOI7qdPwrhDUpjTJjtSCV4EtBlk7iInMaNYTJiOo9uI+xVWNOCsUU6eEz4x5KYyYl4KFJn+JBv\n",
       "ov4qaliHcK/s0/CJfxb21zGjMlpMlACIQZRFiYvIaQmPyRWRZ5mpsxI2WFhvqaIFwzr1GdgHtKYF\n",
       "k4qIjWisf5bHhH/IUU1T3RNuYiJXbBqpHmxhhskISYMJHwBJG2cr82+2oNFE4sweedYaa6bia5mP\n",
       "h/OyMKrMtKWKFszfv73jeXxgTQsmFSF7o5/mMXFEjTFJu7eFtdEvLSbPoBVQTO0kbKHNK7EA40rJ\n",
       "s6LWTJ9cBsf7IB8Lo8rMWyprwZQHrq1qwWiRDnxVeUwKEGBE8urFksq5rpA8y1SdRU29yE3wUH2W\n",
       "RQujyiy0VNaC1XSxmFjQgtEiG/WY7C97ORcrDr1C8ixzdRYx7cWFc9k8LIwqs9BSSQsG9fIdZE0L\n",
       "JhcZ0E865S8OdZ4xwKS08izHCKZqLjHdia97Lp6HhVFluKXGWjAlV95N65RnLiMtGC8IwwdSEcLB\n",
       "mzwmg2WPCRwwwKSE8qwgUVoYmqrqLGJah7woIQdYw2PRQlcZjnmilhprwZSWOqUOVnTqBlowXhBG\n",
       "DqQi/qhuQVwBf7gC9nOYlFyeJeIuNTZV1VnEFA8keFiwbqGrDMc8UUsNtWBqS6nIR1yU+6r0GwMt\n",
       "GJWAyYIwogWTirjxWLSew6Q6Uv6YOFLa0QRKKc8Cqs4yNpXVWRQTfB46RVq00FWGY56kpYZaMLml\n",
       "xWnBHFN0m/WV8Ee1vLV6TEonz/L+gfzC0FRVZxHTzTPnhL6dgsBfLVtoKyMxT9RSYy2Y0tKitGDQ\n",
       "66d/gYvB5LtQ/pgwf/DzCsizArcAnDKskFVn7cX59QdC3RcBpp6ybGEY80QtVbRgxi0tTgvmepEu\n",
       "qVVMnJXwBz9hVVw3mpROnoX9iGDWqEJWnbUA53tmvXs+i9zYWyxbGMc8e1QtmHFLi9aCkRitikmw\n",
       "Iv58sLdN75vQjyWQZ4ldCVWdxVfIqLPapE+Nr0SIqt66BVcZjXkqLT0Exi0tWgvmD3OYNEMlYKJ8\n",
       "jSshzxJXZBV1Fl8ho87Cm67kUyde7aAZwLoFVxmNecotxVoww5baowVTMFFuw8uJSQn+UYo7ZTya\n",
       "AJRInmWmznLJn1aNB2FmVz4W+srMWxqxF5OS/KOUUvzbpQUyJtZ1OvpLWYQ8y0ydxZr6m8N5WuTb\n",
       "Unu0YJMy0iUSv0/flX+79D9oNxDxWJZf9AAAAABJRU5ErkJggg==\n",
       "\" style=\"display:inline;vertical-align:middle;\" /></a><br>(see <a class=\"ProveItLink\" href=\"../__pv_it/21c39b90fd8194c5be52e18f6cafc8739e598bdf0/dependencies.ipynb\">dependencies</a>)<br>"
      ],
      "text/plain": [
       "existsMoreGenerally: forall_{i, j, k in Naturals | 1 <= i < j <= k} [forall_{l in NaturalsPos} [forall_{P, Q_1,...,Q_k} ([exists_{x_1,...,x_l | Q_1(x_1,...,x_l) ,  ...  , Q_k(x_1,...,x_l)} P(x_1,...,x_l)] =>  \\\\ [exists_{x_1,...,x_l | Q_1(x_1,...,x_l) ,  ...  , Q_i(x_1,...,x_l) , Q_j(x_1,...,x_l) ,  ...  , Q_k(x_1,...,x_l)} P(x_1,...,x_l)])]]"
      ]
     },
     "execution_count": 2,
     "metadata": {},
     "output_type": "execute_result"
    }
   ],
   "source": [
    "%proving existsMoreGenerally presuming []"
   ]
  },
  {
   "cell_type": "code",
   "execution_count": null,
   "metadata": {},
   "outputs": [],
   "source": []
  }
 ],
 "metadata": {
  "kernelspec": {
   "display_name": "Python 3",
   "language": "python",
   "name": "python3"
  }
 },
 "nbformat": 4,
 "nbformat_minor": 0
}
