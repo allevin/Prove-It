{
 "cells": [
  {
   "cell_type": "markdown",
   "metadata": {
    "collapsed": true,
    "deletable": true,
    "editable": true
   },
   "source": [
    "Proof of <a class=\"ProveItLink\" href=\"../../../../../_context_.ipynb\">proveit</a>.<a class=\"ProveItLink\" href=\"../../../../_context_.ipynb\">logic</a>.<a class=\"ProveItLink\" href=\"../../../_context_.ipynb\">boolean</a>.<a class=\"ProveItLink\" href=\"../../_context_.ipynb\">quantification</a>.<a class=\"ProveItLink\" href=\"../_context_.ipynb\">existential</a>.<a class=\"ProveItLink\" href=\"../_theorems_.ipynb#existsMoreGenerally\">existsMoreGenerally</a> theorem\n",
    "========"
   ]
  },
  {
   "cell_type": "code",
   "execution_count": 1,
   "metadata": {
    "collapsed": true,
    "deletable": true,
    "editable": true
   },
   "outputs": [],
   "source": [
    "import proveit\n",
    "context = proveit.Context('..') # the theorem's context is in the parent directory"
   ]
  },
  {
   "cell_type": "code",
   "execution_count": 2,
   "metadata": {
    "collapsed": true,
    "deletable": true,
    "editable": true
   },
   "outputs": [
    {
     "name": "stdout",
     "output_type": "stream",
     "text": [
      "Beginning proof of existsMoreGenerally\n",
      "Recorded 'presuming' information\n"
     ]
    },
    {
     "name": "stdout",
     "output_type": "stream",
     "text": [
      "Presuming previous theorem(s) in this context (and any of their dependencies).\n"
     ]
    },
    {
     "data": {
      "text/html": [
       "<strong id=\"existsMoreGenerally\">existsMoreGenerally:</strong> <a class=\"ProveItLink\" href=\"../__pv_it/a6d8fa8a072708bf665a9cda71da238e026f11b40/expr.ipynb\"><img src=\"../__pv_it/a6d8fa8a072708bf665a9cda71da238e026f11b40/expr.png\" style=\"display:inline;vertical-align:middle;\" /></a><br>(see <a class=\"ProveItLink\" href=\"../__pv_it/a6d8fa8a072708bf665a9cda71da238e026f11b40/dependencies.ipynb\">dependencies</a>)<br>"
      ],
      "text/plain": [
       "existsMoreGenerally: forall_{i, j, k in Naturals | 1 <= i < j <= k} [forall_{l in NaturalsPos} [forall_{P, Q_(1),...,Q_(k)} ([exists_{x_(1),...,x_(l) | Q_(1)(x_(1),...,x_(l)) ,  ...  , Q_(k)(x_(1),...,x_(l))} P(x_(1),...,x_(l))] =>  \\\\ [exists_{x_(1),...,x_(l) | Q_(1)(x_(1),...,x_(l)) ,  ...  , Q_(i)(x_(1),...,x_(l)) , Q_(j)(x_(1),...,x_(l)) ,  ...  , Q_(k)(x_(1),...,x_(l))} P(x_(1),...,x_(l))])]]"
      ]
     },
     "execution_count": 2,
     "metadata": {},
     "output_type": "execute_result"
    }
   ],
   "source": [
    "%proving existsMoreGenerally presuming []"
   ]
  },
  {
   "cell_type": "code",
   "execution_count": 3,
   "metadata": {
    "collapsed": true,
    "deletable": true,
    "editable": true
   },
   "outputs": [],
   "source": []
  }
 ],
 "metadata": {
  "kernelspec": {
   "display_name": "Python 3",
   "language": "python",
   "name": "python3"
  },
  "language_info": {
   "codemirror_mode": {
    "name": "ipython",
    "version": 3
   },
   "file_extension": ".py",
   "mimetype": "text/x-python",
   "name": "python",
   "nbconvert_exporter": "python",
   "pygments_lexer": "ipython3",
   "version": "3.7.0"
  }
 },
 "nbformat": 4,
 "nbformat_minor": 0
}
