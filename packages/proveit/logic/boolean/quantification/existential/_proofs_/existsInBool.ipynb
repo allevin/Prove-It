{
 "cells": [
  {
   "cell_type": "markdown",
   "metadata": {},
   "source": [
    "Proof of <a class=\"ProveItLink\" href=\"../../../../../_context_.ipynb\">proveit</a>.<a class=\"ProveItLink\" href=\"../../../../_context_.ipynb\">logic</a>.<a class=\"ProveItLink\" href=\"../../../_context_.ipynb\">boolean</a>.<a class=\"ProveItLink\" href=\"../../_context_.ipynb\">quantification</a>.<a class=\"ProveItLink\" href=\"../_context_.ipynb\">existential</a>.<a href=\"../_theorems_.ipynb#existsInBool\" class=\"ProveItLink\">existsInBool</a> theorem\n",
    "========\n",
    "*** see <a href=\"../__pv_it/84700d9fefa54ea1d425e5f5147806a4ff4396650/dependencies.ipynb\" class=\"ProveItLink\">dependencies</a> ***"
   ]
  },
  {
   "cell_type": "code",
   "execution_count": 1,
   "metadata": {},
   "outputs": [
    {
     "name": "stdout",
     "output_type": "stream",
     "text": [
      "Beginning proof of existsInBool\n",
      "Recorded 'presuming' information\n"
     ]
    },
    {
     "data": {
      "text/html": [
       "<strong id=\"existsInBool\">existsInBool:</strong> <a class=\"ProveItLink\" href=\"../__pv_it/07f3637e9096289dafdd87f98ed96d8ecb0455ed0/expr.ipynb\"><img src=\"data:image/png;base64,iVBORw0KGgoAAAANSUhEUgAAAuwAAAAaBAMAAAAeWhTiAAAAMFBMVEX///8QEBC6urrMzMxUVFRm\n",
       "ZmZERETc3NwyMjKqqqp2dnaIiIiYmJgiIiLu7u4AAAAU9Wx4AAAAAXRSTlMAQObYZgAACGFJREFU\n",
       "aN7tmglsFFUYx7/d2d3ZY7qtF57YjQeghrAeiViDXaSCGrQNQiJocIOmhQhhDQQaL4iKZynrQUzE\n",
       "xJVIBI1lQA4JKqMNGMEDAsgRt1lMJUTA1gItUGD93ntzvJnZ7rSjJtY4SXdm33v/b773m2++d2wB\n",
       "3B4zsinX2qsAAtk98N89vNn9hSsyxSp7c2x3LxUSACXw3z5mFy6+Ra3MucfuWnooR7HPxSPVL2JX\n",
       "7lPzr4tgj8iskgbtNlfYXUvHAsVehceV/17Ya/JVVbtSRoj2+vDH7djDi6aeHDgNL/Yw7CvIqdEV\n",
       "drdSsQz0JFP3Lw7ykzgCXeymj/MLRHvAKx/6DTP7GoZ9DuGQdIXdrdRf0y+wC6cBQqf1xNCHY2th\n",
       "7JEYPo+2HK0M4smfdoXdrdQT6xfYIx0A0gnib18HsQMc9sMLs3tV7CHlfuy3QiulD+fOfcbdkOpW\n",
       "Wgn9AnugHcB3Ci+G4N+vC58fsqto8+iDe29amGDKtI5daMgZ0T4YU4M/yZ5JZ23tfnfY3UpX9Q/s\n",
       "pSQlEEiTkOk+KG/ZVDTZHE17zh7uZuNnjY59Ts5IMiO24BepnWEfxfo+yzBQJG+ETdhHucN2t4r9\n",
       "k2w22+WKyCyH+mKZT4wX14b0lzIDwm5y0YBRr0BezivFp2el3aVnmIn5OvY6I7dn85eTyeg5hv0a\n",
       "iGIrMQOrMvRdqc5VFBkNTdiZNDRzwvg6lsZ2jCr09n2WvdDU1cf6GO0xLUtq5sWMg8LWA861J51G\n",
       "Us34pns/mkTnj+eTcBPzKZwrCz3PIDIwr0uSoRWxess07NEkP6RuwG/CMYa9BCL4FAN4wbo3FMJq\n",
       "P4dPiEUuYi+JsGAcrJpsxc6k8BUGLnnGA1LRmTG7P6/XwcEOvmBBH7Ez1znzASdF2OIG75rj1Gup\n",
       "ep6p5QfqvPQHwTC+2Nr8RzIx9mILoV3D7h2Ib7Q2pELyegyZDoY9opSg/SXq1AZgGQ3h6NoJipRs\n",
       "gibV5JZwLpyzYmdSqMI74vk97NA8u1uhTrzXWb5ktyvsnPklTgrSA/7gtCHH2eAh9az7TLH7jlN1\n",
       "MezVCTWvG9iFBBftkMR4iZ5i2KPzb2HdH8rqG2jOXjf495y0zY/Yr8MnHYfv5Jpwzl91X9U9HHYm\n",
       "hZ9puo7mEX3pOZszbaQon/ur2HnzziJzsuO1AcftCB/LiMIJreBSxJ3xdEMkVQz7O1Auw3oIKqYk\n",
       "s92KXYt2qLsTP7DhMu86AgcHuY0gkRWNdNutchOZmW8GaH7zKXu0M2n0GEi45A2TcCi1D5EryQPP\n",
       "8519wYS9dcakl22jXHT07uXPm7Dz5tFZB9VGc87htB6Lcf3QLaqro4ieGKdj7HTM64AnWLRHSRkh\n",
       "RS+0b9H84HwM19+l2FPJGFLHmrCTJKPmdlhMshE2bHijDSVCGRkqgzSdxZuaMclMJM+gOXykwo6d\n",
       "SMF7+qOHSX/I21PZDj7L4qIcpxVCHnzGez/ahH2n9/i8hFVVEh825jgMVwzsnHnirIPqGvP6TNWS\n",
       "KdRwrRncb/aTWhTwXfeqk2/9xV2GGSo5skN8jmFvI+hJBiIX+jex01ceq4/BjeYJ5NGYgV16CHvi\n",
       "7VKxe2R2qxPsWSeJaxUMeziMvvnvwutmyHxgx06kEGZAaTStTAjvW95iEugYbqEaveQLFftCHG7O\n",
       "iXLk1DNpq+op2PT2PgjEDeyceXTWSTXcPANnWlgM9IGwZhUXm+eV1CI8ykIQ10czj2ujAGbfSLZp\n",
       "5Msxhv0AWosOIIvRpPoRLUc/vtjfegk+mHVYFozp2MUFcW0rrHMHSdDavB0kxBlKgHBFA30qMnF6\n",
       "RG1trSzFxR9a8JY/U+xPH7VjJ1IIMKA0d5bHocSKHdt4jvG7CMO4aNfCyqqi8wgPl2Q486GEo8qC\n",
       "XdVOxNNb+iTF+jMLtVimYedfFuMuNLcPtu8MGy0et2wOhO5mMxk94fH7ZN4khvmNArnHzQCDoJVF\n",
       "O1z9JcBmX5pg996Ovopm7KxTDGjwWOsUf7cdxaI7RscekaHklzW6IM5jf9WzXVSsqmBmIDxN99o0\n",
       "7Jx5dNZJNchcrmpbbkiQGtbMip1aJDt7XusUU8qYsdtXTZJxeQF27uOe99shKHOVOOIG5BERqE+1\n",
       "RcgOmi/FsEtNZHSdSLDD1px1c0BdzZG29Snh7LiSaoVyEV+C+pzYSD5egsrdsV24ePN8c0SfKmQ4\n",
       "7MLpYclA2qyqT1Uu7YRpdCdPw86ZR2cNVX2K3Qg/ONVWU7mmveJZBY6iw7QZYuf9ZBYJYcm2GGvs\n",
       "PfZou8ymrz1hJ+OnUdkCwVRgNVQqvhUA4yA6hWwB4UcCriX79t4XY+CDgtjDix4g7BWYPXBRY4hy\n",
       "Ec7gsxC6yMcZEEfuPZlLw5A1xjpwOx/to6f/9IpFhV7Ufj81DXfy83bDPDprqCoVdqMu4FXjTOWq\n",
       "1vsaZidcabBmiN3kJ7Xow6zsty35dEri8hMyROwsubXAvWkWsz1h32IyuEE9K+o2fRhzu+NWGH8Q\n",
       "oa97POMimeOgem0CPg/q0U5CzfpbqlmlxlOLYlpX6uY38CqlkGq+tZxoI0qjAhF9jNlj8xMNopNB\n",
       "+zZO3zbcP4Ui2HeaKg+qgZjq1ULOjp0KI/kuEFbh63KrXk6vNuFsZkx4tV5Yb8NuVglqyn4oZcKu\n",
       "mz/IqYRUARX2wFJOtL7UxzFjl+T2y9JWPzHS1/diDdyrowfsdEFkVIYU46H7oO/YqVA8L22KO+3q\n",
       "iUst+wWZgv85oBQYoXjsuvmQUiitciqfrVzXwruF7sjn68Q/iX2OpbLZqGrqld3sX/g/mW8Re+//\n",
       "T8bOodlBUawHksPGbzj3N0D3Znv4TWRyscr/j3/4+BOmCgh5jeWq8wAAAABJRU5ErkJggg==\n",
       "\" style=\"display:inline;vertical-align:middle;\" /></a><br>(see <a class=\"ProveItLink\" href=\"../__pv_it/07f3637e9096289dafdd87f98ed96d8ecb0455ed0/dependencies.ipynb\">dependencies</a>)<br>"
      ],
      "text/plain": [
       "existsInBool: forall_{(k, l) in Naturals * NaturalsPos} [forall_{P, Q_1,...,Q_k} ([exists_{x_1,...,x_l | Q_1(x_1,...,x_l) ,  ...  , Q_k(x_1,...,x_l)} P(x_1,...,x_l)] in BOOLEANS)]"
      ]
     },
     "execution_count": 1,
     "metadata": {},
     "output_type": "execute_result"
    }
   ],
   "source": [
    "import proveit\n",
    "%proving existsInBool presuming []"
   ]
  },
  {
   "cell_type": "code",
   "execution_count": null,
   "metadata": {},
   "outputs": [],
   "source": []
  }
 ],
 "metadata": {
  "kernelspec": {
   "display_name": "Python 3",
   "language": "python",
   "name": "python3"
  }
 },
 "nbformat": 4,
 "nbformat_minor": 0
}
