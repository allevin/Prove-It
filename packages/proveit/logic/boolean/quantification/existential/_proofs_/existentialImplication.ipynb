{
 "cells": [
  {
   "cell_type": "markdown",
   "metadata": {},
   "source": [
    "Proof of <a class=\"ProveItLink\" href=\"../../../../../_context_.ipynb\">proveit</a>.<a class=\"ProveItLink\" href=\"../../../../_context_.ipynb\">logic</a>.<a class=\"ProveItLink\" href=\"../../../_context_.ipynb\">boolean</a>.<a class=\"ProveItLink\" href=\"../../_context_.ipynb\">quantification</a>.<a class=\"ProveItLink\" href=\"../_context_.ipynb\">existential</a>.<a class=\"ProveItLink\" href=\"../_theorems_.ipynb#existentialImplication\">existentialImplication</a> theorem\n",
    "========"
   ]
  },
  {
   "cell_type": "code",
   "execution_count": 1,
   "metadata": {},
   "outputs": [],
   "source": [
    "import proveit\n",
    "context = proveit.Context('..') # the theorem's context is in the parent directory"
   ]
  },
  {
   "cell_type": "code",
   "execution_count": 2,
   "metadata": {},
   "outputs": [
    {
     "name": "stdout",
     "output_type": "stream",
     "text": [
      "Beginning proof of existentialImplication\n",
      "Recorded 'presuming' information\n",
      "Presuming previous theorems (applied transitively).\n"
     ]
    },
    {
     "data": {
      "text/html": [
       "<strong id=\"existentialImplication\">existentialImplication:</strong> <a class=\"ProveItLink\" href=\"../__pv_it/5173a860b771ef2654dc90955ec32316d088ffeb0/expr.ipynb\"><img src=\"data:image/png;base64,iVBORw0KGgoAAAANSUhEUgAAA3kAAABMCAMAAADncY5kAAAAP1BMVEX///+Tk5OwsLDOzs4WFha/\n",
       "v78QEBC6urrMzMxUVFRmZmZERETc3NwyMjKqqqp2dnaIiIiYmJgiIiLu7u4AAACMR8Y5AAAAAXRS\n",
       "TlMAQObYZgAAEkRJREFUeNrtnekanCoShp2ZMygiiuD9X+som6DsaNrMAz+Sjk0ohfqgWHy761ry\n",
       "JEQpnVo1tHRJ/e4Xy19678PGE/zWXY29/W/anKwld5pgeU4qnP9XyhvJnuZP1SbBXVNeSw8rr4Pj\n",
       "5cJ6uD78mfKGD47Dk0t5rLnZ3xQIkjdLX/sC5THgGmDWprxTZ7dGo/bAt5Lm2Z+KUeA+X4EQ4bNd\n",
       "hpfnL+OQr7xuBqwpL5CWe2zJryy6x8Jt+PtY2pAYVPAfayJcoLwOw6a8QOC+zW7lTUjlQM3VvzY/\n",
       "EKMd3GQUSF6PStYlqDzmuc++Kc+bkGM5hVr96Dg3X/9YuCm9CCtvAq9HJQwElecZcx3O1ZSnZubb\n",
       "6lPeukw8tZXOryUEpDNJGfQyFmQjpnjoMa2Z9XkKQXNIeb3n8j2gasqzG9GlvH02caS/du/0/3ia\n",
       "x/181ktjo2giRnc/BxtlZCuPPn2FLGNwnre4LWLalOe7n8WvPMjvFb1/mmWqrJT5DxiZf/V0s6PR\n",
       "ICEjOH0di7gFHn9tu2A2EcgMJRN0uxAGNxlHzvimvJEaaRud08PboNeUJytvm/zK4yEEw48FtpY/\n",
       "oW0cR8hlPdWOqoNdACOYUgDtmq41MsT/v9PuC4YJV8N8uhIQVXtknLa9Rfk20DDCknmCXUjXqzJ6\n",
       "EBzzDmn2ruEZNeW54xanrqjxN1kfC2ztFuAtybc06tdOF7PRZ3DomSF7YQ09asPpek67LxiWM4Tz\n",
       "DKJhcd3O6cNcOkM3CllG7bkR5e19NLhXEbx27U15shpISHmH6ih7R3kQihtg3Vy/JG4OzLPsZqfN\n",
       "dLx6I7HB3233DcNCcpNTedA4E1ysPKMQvKYqb8ALc9XK0pTnEoMz2NTK29v8wcMRtvIob1KIn5lI\n",
       "niEe29TMRH94aLYKg03nsfuC4UHM4tbTp+UxrXk51kYOpZOpWHmXQrSDOKJNa55HkbuL3mhTnstb\n",
       "3G1DT7eBojtlENFxwTjh7r1ZkW36+H49XkYCD1g4t5IX3V9vZrcCMm048oa3qz12XzAsd/PGQx7C\n",
       "29Eqtd/vM7S9wSZgjXmnJFj0w6WQQYedKw6OeTP0du5DU54jFBjDyptH+ZEOXb9BGeDAYABqZB3w\n",
       "6lNevy3LMq48SnnAwrmfBNRq2iDeRxFFCSMZNhxG+uDwf7ELsYrBHjeMNilA0k2rMRmb9nAXgl00\n",
       "k1zrkMo7+1f9yf/hUghBlwmfR3mTNxS/7nA05Yl4fg4rr5NL1xM5qnCejr2eYQGhAMrM2qHBp7xF\n",
       "N5Xwq0oLgy5Ojzh8EFJFcSMZNlxGhuBEz7a791nG0z1omI1o2yBvlRGrwVAuQBJKFwYBVouMSnlA\n",
       "3RoDyP9BZrILQVo2slCP8vwx9XBZxGvKE/00iyhvZUZXqz5H31fXWYE32kTjPU6psGAqT30jqloU\n",
       "pY1k2LgaiSnPsquO3L1vmOdzFqnneX3KXNOZCQyDUmYXUt4QqpimvFv3uoEuojzd4y0d2K+K6Cbs\n",
       "OkZW+6y19Y9ztO3RAxZ6XTjehn2m1ItpkC5KfJ9hw2GkD+4PXOxS1hP4Rwxzd16CykvaGFqdCwGd\n",
       "HPTUGZUpe8UN27ssTXnduQ4eV96wLf2RWRze464z4en4g9l/TFZW2yGQVaB2P0Y9FlwmfBb43zz/\n",
       "sNGx7yhU51FFUdxIog2fkdOGI//VLlgntj5pOOLe9+BlWvA2kjrldVC+K8aK3hLq9EpQU95lOW5J\n",
       "HfMgQitFeD6dma9tcwGZf6xWVujbyz6cQleE2DG8W3CZ8FngJBmx3D5BQPG2u6JZlDCSZsNn5LTh\n",
       "ym/b7TGB3aOGI+FLSBBJO4rhTHAqVt5qU4ea8vh0Yk5Vnv315O0k7WuUedc2zTaffRZcJtwW8OVL\n",
       "uJERmkXdjQRsuI3ghPzKLln3YWh91nAXW5h5L5GhK1Zeb29dNeWdaxCZyhsI4CHI4JiuXK6NZEpQ\n",
       "HkMeCy4TbgvyoMj5JdnEWqMu6mokZMNt5GbDlV/Z3ceIhfSPGv7I2kC28pi9xNKUZ566uCkvhbe5\n",
       "Jl6LKq+b13QT7qzw+uUErvgdn5Hkx4Ap+e92HzP8gXTwNvPvxj5Z0JSnt5r/WPK32VpZKUvK2dJK\n",
       "I0vx+dWfGf5IotakpinvWNosftv8fny+Uan/upRHjGawtAfA1uJmU94xJyl99W5cMtdkWvpmypm1\n",
       "9aV8M2gtoR/KY79T3icCiGUrfHVsge41mUml5tJPDEmvLawUcWv1men8ftraVjiU9wuUq1TeJyiy\n",
       "0HNeOhql+mhlUCbQ+JyZ0YdA10IKz07rTXZtEbfWgWtP7eHxRXm/QLlK5X2CIou2Ik7BBAaP8nTB\n",
       "bdDLTdI50XkA81XHKDyRAopgNMRaTziU9wuUq1TeJyiyuIxQhQPMpKa8UrcQlXq+wf0uuzbCrfXN\n",
       "huaiaGa1jgfzFZYfoFzVCssXKLK0SHmzcxOwKa8u3JSnilc9AXg3Yo+8eeAdcPFY5DHbVXk/QLkq\n",
       "5X2BIgu2ErgRcIaoTXmVgb+aesueWLFrFwzE+w0VjuIqI8yt9b4E3G8FTdvflfcDlKveVfgARbZI\n",
       "eav73EtT3hPTPKZXm+W+zTJ2/I3VueLQg7OMCLfWB64tGvRcyrNRrm4iaWE4uESU98cosoHm3gqe\n",
       "zXN6SPz6kIKe/rGnqoPIzl+xK6d5A9V+LTAQe1DI0ZfdyCVZRK61ytDgWge3NgVc6+t4Y8pjV+VZ\n",
       "KFdOJCVmMMXvcygblsaI8izTJvZVWHYyU/21688uikbkIeX1W9/9oTGvjz9iJUT2V/Dam12ywYNK\n",
       "s5z1JsiVA5FL8seUvJBca5WhwbVRbq0HXNsVrA0MDuVZKFfRoVDTHr/Py0mpAY/H+1IEjCx0OaY8\n",
       "myJrYF/FGpKTmeqtpFB2UbQrSihR3pjyFvszykPxR6xdGP4VvPZqF91GEm2QA/jYxt2mlJ9plKHA\n",
       "tXFurRtc2xWo36k8A+Uq3sVgVh3w+1QDEyP74LHnXxE/xHo9yHq57FHef//5j+rnTIrsiX0Vi0FO\n",
       "Zqp/7SiUHSJfhW0F/RcYf6K8l+i1v4LXXu3eG04pb+CBopwpFSrPLEPB4OLKc4Nr9yrJbtx/W8r7\n",
       "1z+qCtRZAeEuvfVw4j5FrEFQPzG2F7Gu5NDVcV+9GDT4YXTj8siPI0A4h8Y8iyJ7Yl87PzPV14zh\n",
       "7OIHZ8AzY96Q9C7t48p7jV77K3itbXe4T6rUnrXYC5OnQAqVZ5ahdOOKNpPAtSy/u3aOeSfKVWKe\n",
       "9lGuJ9qouE++qbnqylmHeZiIGNz4dpz4yrycEm0apk3sa+dnpvpCl2B2UfQIn5nnEe8bfVfl9fBY\n",
       "t2UgYfnUkxVFHxGE/nuSpQp4bdUD2nbJfZqAVuWnh16wWIEpIdfaZWhwbYRb6wfXdhQ9ozyNcpVk\n",
       "NbzOPVPVPIBzMeSMD/YRbmHrICS2S09q0rqcojxt2sS+irDcxWoNRPFOxKoumpAF9MH/mDEOgS5N\n",
       "eYzuTX1U8xp9ACOrRcZF3ke06LVVlsrhtXUPaNu9T/P0fIzj4cgmpFlCrrXL0ODayK6CH1zbwez9\n",
       "DdeuQqdRrqouDDCPvs+jpo3lqCO2XLpF1vaojpHalxOU150/gLZgeyxysVq9yYNYNYsm2O1Y2ft5\n",
       "AIWUh9WKNOum+YAV81+SiaJdz6wWGRfFakQicmssVcBrqx7QsGuga69re0JtgCI5aBSRa60y9Bp3\n",
       "mFsbiqdJ9kTPozyFchXD6wBWo9uV98mVR/nO93HlkNi0Mrk6Quh6Ku+8nKK8kyKLRrvBXazWgH84\n",
       "Eauq6IVPi51qyVYe856xpo4WOn57FCQ8gJEVdB7lhei1FZZq4LU1D5jMru25YbnQU0iuNcpQ4NrY\n",
       "6bEhtOo0P6M8/TWSo9weYiq78j6Prxi0xrz9aQhvlT3UhPP98v5MceUZTWw9jJvV6k0exKpZtHsv\n",
       "IP/EdO/V6l15RwjFxEQp5pg6q3V+HMVqRAFgKyxVwGurHjCVXcvPnUxq7C0j1xplaHBtObd29+Bc\n",
       "r5nvJ6YvwbgY5QZ63N3BHFX3ySvhfHNKYDVWPqHjczzRF5qXQ/c9uC5qmqGf1ZqLWOXf7V8e94No\n",
       "NwwOf8jdEF69/R11zgeUy4Yf4MxqIV2RWUFeem2dpXJ4bd0DprJryd5EExXT9FJyrVmGBNdWcGt3\n",
       "VYzZXkNDyhN7a0c9oYPWJpij4j45aJQhuUrRY/GJ937iJo65oXk5U3kG9jXAas1FrPLvjqKPfNS1\n",
       "iJf/ZizxsiyoY5JOsRUcBh5AZbXIuOawEKDXVlmqgNdWPWAyu/ZY6b915pnk2nsZFdxax+8vx70G\n",
       "B5V3JZKe/Yo6Ni7neVUpymHxs1pzEavRntF+Sz8ljd7Z9U157FC8mAXFHuDMapFx0b2ncNJrayxV\n",
       "wGurHvC37Noabu3+ILlQCJs6clfehUh6MkcfBY3GlBdgteYiVocpq0ZSEvTu7NN7R7fuQu1THuDM\n",
       "apFx0b1IJ722wlINvLbmAT/Dri1RXvYLS3cOy3UiuLqHvEd5GDHlBZipuYjV6GRgzWaP+fdy6D3Y\n",
       "RBhOSQ/gyOpUnodeW2GpBl5b84CfYdcWKQ9ke80SVp6HSPosaPRL1L9+A88p73neZopT1EFkfwWv\n",
       "/Qi7towY3eFcr8HWinjjbfKV5seUdxuwGvn2b0o50Nts5QHrcFxTXpd4LLRMeY18+7el5MAzO9ps\n",
       "v6twr8PE9/+MuTLLUl5D3z41Jr21JFMAvc1dYZnabwk5hrA1V3lTlvIa+jY/SeotwobYXqTe5kNv\n",
       "c3cVenshrynvaOTcrXSSfPd2v9iQSFnRGV/VZYaHv0m9zT7OkrsXdfGyprx7b5QQmySHp015FS5C\n",
       "ZESiKvtV6m0MentN2afHLpFVU153+zXPFKmuTXnvRyIShqxd5dVgPfbagq9jyFhNmJryIpWSINWl\n",
       "Ke/tJN8+HvTJj14HhGg7XjquEaKjiAj09ppy3xJil13jprwjLblLLAA15b0+zeMSmKkeWvSvFYJt\n",
       "TyOtiT0dRcSgt7chOa8x+8vp4KY8V62k9sepyvvT6NsqAO38Dav7WEfICAxtqHe1V7TuiY4V1lxF\n",
       "zDhLebk0iGvv3pQn+tfMXVGSuqH3/Jj3Ovg2zr19A3vroN4yHtMZ1BDz0RV8ZChnfooiNG46Dr0t\n",
       "C3tUv3FxmaY82YENmbc//0p574NvY9zbd7C3N+otMGJO8fHMMcmfUCvkTZtFaNRLAvTWmrblBbvs\n",
       "ugnRlCfDzcwOG4xfUN474NsI9/Yl7O2Neiu4Tk7l9Sc4sJQ3fRaRgZu2hJPXljeMQVOeVFJmA47g\n",
       "A8p7C3wb5N6+hr29Um9X4Z9nl6hfUprFr/XOFcozilDTx7xoM3esxVvXlOeeuOXdT5+Y36G8nm4j\n",
       "WxJGCHfGVPBtup1bzuCOdRB7+5xV2SCc2iIFrqm3gkc2jqbykli3+pNZhHqKNWuFJTNImm777k15\n",
       "qifPXN1MXFpzKG87mCbcWgTdqzJa3NtU8G2GnZuhIPc2hL190Kr8DUuyK29arbBw3sCRNmqxN1NY\n",
       "t/qTWYTGTWftKuT+itdyC06b8lT4mFmViRUnmtpA3/KOdzk6zCi6V2W0uLep4NsMOzdDQQpmCHv7\n",
       "lFWDejtiPRbKpZA96JzG/WtmzvM00DYAvT0zmUVo3HQEensJHjM7agC7pjzfoJe7xkLSlXeJPBS+\n",
       "LfbOrMoIOp/yQuDbdDtXQxHlhbC3b1kVGR0lFlJvjfokSpZduvL67PWVqSnPGw9kbunNoFB5/dHV\n",
       "8o484psqo8W9TQffJtu5GQryZ8PY27esCmddAsrLYm+acpYE1izoLcrcxncshTflnbWTOejhpUh5\n",
       "80aBpHhx3/RyYXVG2+FSwbdXOxmGjr8LsbeVVmNVzh5XnsI4Z0Fve5A7NWFNeYFBLHOmN4GpQHm7\n",
       "6zG44TM69HFhz4zQu00eAN/e7GQYGvtS7G2t1ViVX1Vx8qYzqbdnkhjnLOgtzTws7fqJs6Y8ow0y\n",
       "Z80zLlCe9eXk7a3Naxb3Nhl8e7eTbAjHc3uwt/VWI9J76w29LOjtmBlrLrhrygt3Tbk4lrFGeQoM\n",
       "G+bLdhfubTL49mYn2ZA4jVKEva22+vsUV96c+R714AyOfqc8nuCnpDfkvvEVh9wnnHRYE6/5lOcB\n",
       "35Ybggm5Pdjbaqt/gfL6XCbFLTalwvl/NL4QnvpPKU/8wlrWqBd7gOfJt6+Db4v5s7+x+qwDxKG3\n",
       "DGXe6XSbFK7C+bv/AVg7eRkgXQ24AAAAAElFTkSuQmCC\n",
       "\" style=\"display:inline;vertical-align:middle;\" /></a><br>(see <a class=\"ProveItLink\" href=\"../__pv_it/5173a860b771ef2654dc90955ec32316d088ffeb0/dependencies.ipynb\">dependencies</a>)<br>"
      ],
      "text/plain": [
       "existentialImplication: forall_{(k, l) in Naturals * NaturalsPos} [forall_{P, Q_1,...,Q_k, R} ([forall_{x_1,...,x_l | P(x_1,...,x_l) , Q_1(x_1,...,x_l) ,  ...  , Q_k(x_1,...,x_l)} R(x_1,...,x_l)] =>  \\\\ ([exists_{y_1,...,y_l | Q_1(y_1,...,y_l) ,  ...  , Q_k(y_1,...,y_l)} P(y_1,...,y_l)] =>  \\\\ [exists_{z_1,...,z_l | Q_1(z_1,...,z_l) ,  ...  , Q_k(z_1,...,z_l)} R(z_1,...,z_l)]))]"
      ]
     },
     "execution_count": 2,
     "metadata": {},
     "output_type": "execute_result"
    }
   ],
   "source": [
    "%proving existentialImplication presuming []"
   ]
  },
  {
   "cell_type": "code",
   "execution_count": null,
   "metadata": {},
   "outputs": [],
   "source": []
  }
 ],
 "metadata": {
  "kernelspec": {
   "display_name": "Python 3",
   "language": "python",
   "name": "python3"
  }
 },
 "nbformat": 4,
 "nbformat_minor": 0
}
