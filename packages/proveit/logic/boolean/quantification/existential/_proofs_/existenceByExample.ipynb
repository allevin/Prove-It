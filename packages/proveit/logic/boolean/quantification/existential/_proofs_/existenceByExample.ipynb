{
 "cells": [
  {
   "cell_type": "markdown",
   "metadata": {},
   "source": [
    "Proof of <a class=\"ProveItLink\" href=\"../../../../../_context_.ipynb\">proveit</a>.<a class=\"ProveItLink\" href=\"../../../../_context_.ipynb\">logic</a>.<a class=\"ProveItLink\" href=\"../../../_context_.ipynb\">boolean</a>.<a class=\"ProveItLink\" href=\"../../_context_.ipynb\">quantification</a>.<a class=\"ProveItLink\" href=\"../_context_.ipynb\">existential</a>.<a href=\"../_theorems_.ipynb#existenceByExample\" class=\"ProveItLink\">existenceByExample</a> theorem\n",
    "========\n",
    "*** see <a href=\"../__pv_it/bc2bd06df4a38a6f1f0897e25770909436175d1b0/dependencies.ipynb\" class=\"ProveItLink\">dependencies</a> ***"
   ]
  },
  {
   "cell_type": "code",
   "execution_count": 1,
   "metadata": {},
   "outputs": [
    {
     "name": "stdout",
     "output_type": "stream",
     "text": [
      "Beginning proof of existenceByExample\n",
      "Recorded 'presuming' information\n",
      "Presuming previous theorem (applied transitively).\n"
     ]
    },
    {
     "data": {
      "text/html": [
       "<strong id=\"existenceByExample\">existenceByExample:</strong> <a class=\"ProveItLink\" href=\"../__pv_it/32e84316ed789d375cf73d89863ba48be2b45a740/expr.ipynb\"><img src=\"data:image/png;base64,iVBORw0KGgoAAAANSUhEUgAABDcAAAAyBAMAAAC64S1EAAAAMFBMVEX///8QEBC6urrMzMxUVFRm\n",
       "ZmZERETc3NwyMjKqqqp2dnaIiIiYmJgiIiLu7u4AAAAU9Wx4AAAAAXRSTlMAQObYZgAADTVJREFU\n",
       "eNrtnQ+MVMUdx3/75/b/vju1iFXw1pQCjSGsxVbE0FuQQv/BnVjaorFsbXpo1PKMxLuK9A6sf9ry\n",
       "56hYSanhSnoRNTkWo1hT2tvkYmuOKmeqBUkP1xaJidA7joMDDtjOb+b9mXlv973dhbf820nYe8zO\n",
       "b2bfm8/7zW/m+2YXoNTkymbbz4dt+VIoBpdVkuaxv1uzh8nJZ7M1pVflenZK5nzYli/dBZdZmsg6\n",
       "5b9T1hFSptx6NnDEz49t+RxHwuEGbiymcKQMbizSqhzchC+eChz50wuO1BquH5o1dw69+MXBd2cZ\n",
       "TvnrFTgKS/6rnKm3mtyeP5LJQaC4kTVQhnN2tVXgKKwzHAqZ60i9m7DuPxfp8/XPIzl1zsHrK3AU\n",
       "lDY5FDJ3keBhVwM5uL7IuYTeV4GMUyf9ZAWOgtK1DtW7hPyrJ+7bTYaX0Io0RHsto2K9xP1aptux\n",
       "UHmyXIGjEC9+xqGKjxMncIz8rSLDRIdrGDYNWJXmSnToua84NpY2VOAoIEUdujs9JwGmYxcE0mSk\n",
       "aBmGRUn4qsVYQkvsR1I3YMY9fZg+anD2lqjAYeNgHVpXCA+93PEivQYx8KS2tsJHqa/MzY8SK+HG\n",
       "geUGLn+DU6seIxU4Ckh3OFSvTx2uqrF/a1NSNm65okJLhNBT1PEeZYVDdMytwFFAGuVQvdW9HBye\n",
       "rOzOWi63sRJkCBLhmNrp1BxNrsBhHxqccKjiOjVcwAWnyGEIHbeEg5WoltVhhcUcfT916rz7UxU4\n",
       "7EMDpyYrXep44CPeIHIcAicZHHRhK8Mf0BdWgnbW23ol652Lw5M8HJmz6GDpLGwzFzYcvhqHKl6i\n",
       "njjGEf7D0DXI4Ognw410mj+gL6zEdnEq62917Ly9AzwcdAjcWVoHR6njS5VkW3K75UmupCPVSt/L\n",
       "fls5pDOQF8YuOcPg+HiYvHs1HiSVA6lWVks8gAYrdXJl5zzmMA/HS/h3TWlwhFCnKWUtl9iW3G55\n",
       "Un+7402MJoDEcZmDxRwTTAXcslriqriwfO5x7kMFT/BwPIpuKlkaHNTu0dJsS263TMscaceb6CFz\n",
       "gwF/VlbgMDcYAaWENEC8cyhVjvP2jPBw4I1f1VZiUIl3/sLSbEtutzxpl/MfjVyBrvblVwI8tvbu\n",
       "vHCwEt8in+bTspy3dJSHI/JiU9PyUmccPU1NTb2l2ZbcbnlSl/PzKX8Cqvr2qoNy2FwAXYVeYk55\n",
       "TvyYMJU91ti4t1Q4qhsbH2ov0bbUdsuTFsnOt7GsqEixTLP/awQ4bgdYTA4f0d+38KghsYO9cRo5\n",
       "//bogtl4MT9b/d7tuVzVn/o+FzfBobRb/A1nfZWC58a2/gKfajuW+gQ4xoFEps3+dthGfYBUn5mW\n",
       "37RK7GB3gg6FkRoIkdEleLUsLYmZjdYthgODJjhYu3bJbeLrMZuIyuTJOGQLt62/TNmA9wQ4ohAm\n",
       "sZCPHLB+naTt15i6IBYexe4gz5PzYdsPTXBAL+zAlZME1Xo3kclHizkECZJhzH/aBAdr13YxysSX\n",
       "3Qxns7F5DtnCbXk4fH27L2UcJvXx99MKAY5wOkoA2Eim9oyDDnpHS68vSEeSnaAKPH8LZUIZMxw7\n",
       "YB95jabB2wpSlhSoNi8792NWNmOEg7VbGBwcX0G7GZ0xqueQLcKWhyN6iTsLEhnng0NqvRno8D+J\n",
       "vbuKhgPbJ/wvE9lZReD4Ehk24vCPVEMoUzVr7qxvCnB8Sp+v74/DOzKEhshh9bCp7a1YJCsb4WDt\n",
       "FgYHx5ft6qBXjCt4ZIuwvWzhEIcVWDyTvJCDDvd2vPzD+Fx0BLXDyK23pDpxMeItgO5nl+XyHL6l\n",
       "6LAnv9xBRggXLq7VDYDX4BBq21B5Rt8i2mK77rnt0hjTpx23Fz5O83BwfLnsjMKie+CRdQlVc4GN\n",
       "WqFuuygjwOEnc/ami6Gj3cUtldGtUgIcYkAKzxGf6yE9t+o3/bIao9JNEpF4ZzcZVhYiKd2hg9Ny\n",
       "wBG8Bw+30AzaA1sTnj8Y7k/sVNJFwQaDLbZ7KDAQOWXESepdC7vSU9M6HApfMI8EQnZG7oQY3ijI\n",
       "fgODKKUUzBM/Ia3Qs4p/cpefyhI4vLNmzZpx4U5g9J1SNxdpeacRDnEqC64UuypHqU8NJ/EiTmNw\n",
       "hELkMlbhPqhuaP9jDjjgOnz5CYMDfXdtHKJGOIid64iwHEptsd2ftSS9w0ac/M8fg3rZF9fhUPia\n",
       "NhrBtTHyiHMgBVl4Dp2LUgrr4ROtEH4MnC2/CKYMKz75wnUY2k6pYtWqgBEOcREMIqTzggnwjFlF\n",
       "L0EK4Zje2NiYisT975J4M/xvCsfjh3LB8S6+sAdjAkf231s1AiY41n5tdmxRCqL/eU20xXahq81V\n",
       "Y7IIn4ArcAzQ4WB8wW72KIOlkREOBVlc5V+vlALj7INWWMPb7opdVHCoO6XCxQowuFWKh0NcPleG\n",
       "qiRxGTeh2ueaAjAe9jPPAV/4K8Bb3jaEw30b6SG/EQ5aC96czbLn9PxofZrC4X8amjP+NfjyNNR9\n",
       "EHv/FCn/94M5bJdk+hOmfvadkYYUQc/H84WdOt7OyC3OV1Vk992YQFtaygQHVogqoG7LC28XARzq\n",
       "TilXsUMfar08HKLwpo7YxGVMD5Mu7g+jXuiVGRyRToxNFyIc0JMxrVWwtAUHpLo0LB27dk2QwuE5\n",
       "BXUyYYa8nAL/jD3HM20w8bVctvWATsWAk3eAdGcPB4fCF3bqITsjci80yyxzDYfsmJ+n0ZaWwnr4\n",
       "MrRCvIf0LYe8ZH8RwKHulJqIffmDPV9enbAs/snqJya+zw7vF+EQJXsl7YOA7HuVdLH3JYD5IN1L\n",
       "8iaSlwR8kQwmcfdTMfBCHjhYwlvNO/JdNqxEdL9FEXg9ATsCuTxH8x4WpYg4rV5xBGZycCh8Yafi\n",
       "4oilUVWMnAXLHNaRdf86QW1pKaxHKIMVemPUVv2EyYsKDnWnFH6lyKE21+nPRizdxYdQu68rpSxr\n",
       "CXCID/so6U2ui4GMvCESc1h/HgMcHrx04ewweLYRvG7R8ulRF4ko54ReNdtK38cQwIjTJzIJAfZx\n",
       "sxWFL+zUcJuNUQB4+VtFNpxek0ZbWooOK1wZWmH0IL+TnX9MkMARwp1EJcFhI+eA5aMBj1jbalqQ\n",
       "tlMKw8bvQPVINfGz+bdKedOQTWXTEgpIG0Q4xMcElXSA6+JgQVGNAQ7aT/4r2jjG9KOHP5/HNnyq\n",
       "atCMU1d6UQzulgU4kK/briVkJG2MNipnISLrlV+JoS0thfXwZWiFVW/QdWL1g50pyXMoUlDhcg6Y\n",
       "hCxORvK3W9tqWpC2U+pK8q8dWoYjKbDYKhUCf1beyZY9bxDhYB7TAEcwrXexF0qAo6ik2fqf+oVs\n",
       "xqn5vjniCinP1+9tjBKmQU1DlthqVfNltAr1q8RvTSgCDmW1vwg5x/TFY5yM5LNrbrMWjCsHzHAX\n",
       "7VarrVKRw8qQgrtheDhyb03o1gt0lg8O22QGNWJtG7KK14uwHXUWcBQj5xilaV6m3GjXnKoFaTul\n",
       "GBz1CTs4vEOKUmKEY1dlU1MB6Y7S4ShKzgHDEzC8TGn7vIuqBWk7pdC9/g5qU/CGFRzBdtcIhGVU\n",
       "SozDSmU7ZCFpctwMhzT7gy1PmEruf+iuZ+I8HAY5h38/h5XhC354mbIGcreo5aprXtpOqQcRzQnZ\n",
       "mL+GwYGQmbdL9Q+2DMLDrPffFuE4WYGjgBRtMMMRjU+eMwRGZeaf7qGWhGeVDgevQE5V3jfJkZrV\n",
       "ODGfkyk9rZC7RZbL6UjaTimcmB7z1saaYxQOcZeUdtCSnDHoX0mVEsNUtvIVDIWtKw/wcARwKptZ\n",
       "Bl3PfwgGZcafCp9Y3obKjAoHr0COU943SUGa1VSxXU6mJF2fs0UlV9ORuJ1SOP/4y97916xkMQfd\n",
       "F6XtkqIHmBPu65zxTIwqJbhVioMjkKjAUUi6zug5tFvUuPhO5wo1HBycArlefd+42q9ZGeHIaDJl\n",
       "MJGvRZpr1pFIHtcKDituU8jD5aBSYlg+r3ztU2FpnRmOQPtYeNzUVb9y9frTyv4sCgevQI5X3jfB\n",
       "oVmNF/M5mdKdzNMiyzXrSMJXDlI4ImaPyMW+YbZVioOD6esVOOyS/lWTGhx1m4+hFrFbEHU8Jycn\n",
       "fW1Kr1A4OAUSDgF73ygF6VY9eWVKqVdvUdCCWG6PyAJLumRPt0pZwoFKCU6GdTjcla+aLCz5R5vg\n",
       "8Da+cx9VeARRZ/aD//oleGPcOoeuQKKcQ983SUGa1fz8MuU+vUVBC2K5M3ktSE1Lxf+aV1kMOXME\n",
       "OKKVL6ktMG3IEXPQtNu0BgtUmeHWNDUFMqwuzuaQI5lVa36Z8k2uRaMiAaqOZEC6uAc66FYpHY4F\n",
       "UIGjsFTVkBsOVGYMwiJQZYaDQ1MgJSUqyCVHUitcQs0nUx7gWjToRSQxHelc+EgVjmDrOYPjkv9J\n",
       "jQdUOMz7VtI5jng4eDnH2soL+WXKYDpXrMBFDYlzcZqT+tRqzuFPalzyP8ZjHtFtU9FSkLWQ1W1t\n",
       "Gzq3d5ikfNOY9mM8/wevP9VZldkDcwAAAABJRU5ErkJggg==\n",
       "\" style=\"display:inline;vertical-align:middle;\" /></a><br>(see <a class=\"ProveItLink\" href=\"../__pv_it/32e84316ed789d375cf73d89863ba48be2b45a740/dependencies.ipynb\">dependencies</a>)<br>"
      ],
      "text/plain": [
       "existenceByExample: forall_{(k, l) in Naturals * NaturalsPos} [forall_{P, Q_1,...,Q_k} [forall_{y_1,...,y_l | Q_1(y_1,...,y_l) ,  ...  , Q_k(y_1,...,y_l)} (P(y_1,...,y_l) =>  \\\\ [exists_{x_1,...,x_l | Q_1(x_1,...,x_l) ,  ...  , Q_k(x_1,...,x_l)} P(x_1,...,x_l)])]]"
      ]
     },
     "execution_count": 1,
     "metadata": {},
     "output_type": "execute_result"
    }
   ],
   "source": [
    "import proveit\n",
    "%proving existenceByExample presuming []"
   ]
  },
  {
   "cell_type": "code",
   "execution_count": null,
   "metadata": {},
   "outputs": [],
   "source": []
  }
 ],
 "metadata": {
  "kernelspec": {
   "display_name": "Python 3",
   "language": "python",
   "name": "python3"
  }
 },
 "nbformat": 4,
 "nbformat_minor": 0
}
