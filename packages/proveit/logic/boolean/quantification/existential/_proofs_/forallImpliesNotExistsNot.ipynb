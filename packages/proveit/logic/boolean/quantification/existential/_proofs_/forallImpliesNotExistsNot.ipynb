{
 "cells": [
  {
   "cell_type": "markdown",
   "metadata": {},
   "source": [
    "Proof of <a class=\"ProveItLink\" href=\"../../../../../_context_.ipynb\">proveit</a>.<a class=\"ProveItLink\" href=\"../../../../_context_.ipynb\">logic</a>.<a class=\"ProveItLink\" href=\"../../../_context_.ipynb\">boolean</a>.<a class=\"ProveItLink\" href=\"../../_context_.ipynb\">quantification</a>.<a class=\"ProveItLink\" href=\"../_context_.ipynb\">existential</a>.<a class=\"ProveItLink\" href=\"../_theorems_.ipynb#forallImpliesNotExistsNot\">forallImpliesNotExistsNot</a> theorem\n",
    "========"
   ]
  },
  {
   "cell_type": "code",
   "execution_count": 1,
   "metadata": {},
   "outputs": [],
   "source": [
    "import proveit\n",
    "context = proveit.Context('..') # the theorem's context is in the parent directory"
   ]
  },
  {
   "cell_type": "code",
   "execution_count": 2,
   "metadata": {},
   "outputs": [
    {
     "name": "stdout",
     "output_type": "stream",
     "text": [
      "Beginning proof of forallImpliesNotExistsNot\n",
      "Recorded 'presuming' information\n",
      "Presuming previous theorems (applied transitively).\n"
     ]
    },
    {
     "data": {
      "text/html": [
       "<strong id=\"forallImpliesNotExistsNot\">forallImpliesNotExistsNot:</strong> <a class=\"ProveItLink\" href=\"../__pv_it/5d67e61f307a1dca3599b4671f785e6e73ae8b3e0/expr.ipynb\"><img src=\"data:image/png;base64,iVBORw0KGgoAAAANSUhEUgAAAwMAAAAzBAMAAAA5nskgAAAAMFBMVEX///8QEBC6urrMzMxUVFRm\n",
       "ZmZERETc3NwyMjKqqqp2dnaIiIiYmJgiIiLu7u4AAAAU9Wx4AAAAAXRSTlMAQObYZgAADX1JREFU\n",
       "eNrlnA+MFNUdx3+7s7d/Z4dTq1QrsqYUaQxhDW09MfaWckJrg3dFaQOmZWvjoRHLGIlHRcuJ9U8t\n",
       "wln/pmrYml4Em5yrUVtT05uE2Jqzypn6B0kX1gYJSaF3nMDxf/t+897MvPdmZmdvD7Onfcntzrx5\n",
       "v/nzPu/f7zu/PYBGp2jpQ/gCp5mlwmd27lClMq6TJzP0Ow1f7BTLeWRqV7NKqFSax4Hgkdnl8dza\n",
       "Uvg/RgAzaN1psy8bD4LsuO4smXMQlD8v1Rkujqm4mvFFoHazDaVxCJ4BB8Egfr81YSs+1X6wbeEC\n",
       "3PrGGC2v8UUAVzYcQewsDsEW/N4wcRv/JNJkf6rXcY9xfwShnkYjiBc4BLfjneYnLoJWcrObyF+q\n",
       "OEZDtSAi4EbcxAWNRrCpzCGIk52mnomLoJ+M6ds6yCOPddLSmkUEfC+6t9EIzgMOgfpcV9ddE3gW\n",
       "Xkn+2kkTmUG+P3nonhnvVS/OFblJRDCNKzVLbywC9RSPAA53du6YwAiOkPZ8mK6jtY9g6s7+qgMS\n",
       "X6RXRJDkDOMdjUWQzgkI5gEsr29WD7iJqqPbbdVtE9aGcgzgCqyw9QARAyrFigGK/9TFimjtZNh6\n",
       "0kLQVDLTIVcrbBiCWRkBwTTQumuwYkb/eejdeSznjgCLOXIGZxsLcO4V63jq4PO9z+HGmaQdQ6yi\n",
       "vwXKtYP+Hg8tAjPJ9oXSiiixztk+3lgEPwABQRpSRg1WtOUlztG1lRk+J1gFsauAs40GXe5Z9h21\n",
       "Rs0Rs/UeME80WG2YPcAGIWiVF6V7z7Q3FzYWwdkigpSRLteMYBP5WktrIBG0SpQ7F2cLTwVdbq/l\n",
       "FgzyCCIHAxHQIus9ECgPOs+5SW8kAuWoiEDrrsnvNBFoFfIUk2jDjOpBJvNEIpxt8OwTYU/Y2sEy\n",
       "ziVVXwgdh5ReDYFVZJQfiNhc8AHX0oaKjUSQOiUigOXfIfUz//3N97iK7r5l6QNZHkESm9ikUXoP\n",
       "4nEPq7+I4xJnC80+V7RzLU+s3xrNVpB6G1k7ArfSXqCZpS2Xy95gRcy6fVPsBQm+R6TzDEF5HAi0\n",
       "em2jzRKCx8gTpbOzFpAqulos+s/wwbU5Zb2DIIQ9qHUYIuTOW9hxc8fTapp4z8z2u/js3T5XpLkt\n",
       "BoRZha20Tk5G97X5uSOxdRTBEPYE/NBO8husSCrvXpSuFjrZMENQt0RGEJi1pxbrsM1LCELkJGug\n",
       "/4mPYM5kcdVZTB29qwd+5iAwG/ELOeX3OlYwPW7ueFq1iGIPtYXHyBepYM8rstxoFiFh6/5h5fvs\n",
       "CFnjpEp9cx/IUAQf49k+JjelnWNtTNXtIlGsl3UiAmHsS40yBHVLZARBEpfd8Tr60VBBQqCW7eYm\n",
       "v0Mz1yPNHALcn0r4k6d91Dqe1n2sJATMdok1KHhe0cwNAUPAP7JzFXMuuMj1YGGnRGi2W6AQRszE\n",
       "UYagbomMIDDtbq/HLTAkBFS5mwJ3uirkwdBgzGA3aH7GP919fdNxWuvT2XEXAttquigOMtudF+cg\n",
       "nPe5Is0ljxXOe6huPAL3QlrlmlmKesM+Simp/OMMQd0SGU7H2HuW1GG7rccDQeuzh1FT+RBi98Pq\n",
       "cmwDftyvHJuVj/awZ6fz18lF6XaDItgP9DjueFsNcPmrdcv2/F8aoA06V4TVOrUkHzrNHRBqXJbZ\n",
       "YpsPFQMQRLbQZa0vAu0QQ1C3RIYIBrq6ugbrkR6zHgginW/f2IMVopyAVl0ZxY8TMH/FB7+GSIbz\n",
       "C1ZN2bghQREQb8I8jjveVou4/FaD2YZ/g9Wy07kitBrUknwYNJcs0Zoy8n2vEtd17geT5sUF1RDA\n",
       "YWtRWq9EhggmdXbeUqjDdpnugYClD/m2xLbS+wRfOHL8WoogZfUm3PG06ubzDWabMjaQzde4K3IN\n",
       "mm3tNMwXLpIkNbalRypbFcGXLQRMIrutJm0rKSIgzgt6R48fWjxfFwUYocf9ufQlceneXvZFcPl5\n",
       "PXCpvce2mv4kIEhVRkF5kXR0jeWYO15W6D7b+YrObCP6H0kD38NdUdGFQiRdpwe7z7Upib4IShYC\n",
       "KpHFCvCi2Z619vIc//M1iQjIwg6HO7UZkoOiAMOnh5fDnhERAb8Md8cRGR5bPILYGVYreTrAKsLv\n",
       "qaJtwvAaw7nRPHc6CMws+Z7mXQsBlciiZCPDFr+WttWyOJM6m7ZX5d5F8OJPXAiIV/E6PmjOlF55\n",
       "AYZffJExL3bSF4FVqoa1rfth1AAXva/awa0BEl8ZPtt0t4WASmSk0w2VmQuIvUJ7ZbGh5vvsZ/hb\n",
       "soy3JCN4nUxqBJ4BkW5RgOGdAMyqlP0R3FLS63MvPm9JiqyzEVCJbDnVt6nARwb0Vy/6b1l9q4kg\n",
       "+LrZ1v5R7EiWm9oWtn1PQLBXwZY5lIW3dVGA4dILWKSi+yMY9JqVv5BJnBfsgciUyNCR7A2/ii1x\n",
       "FLUtFcVB9bJLi33oNLxBOu0ja7x6QXQVDlqznu81RPGGT1PJ4KtUsJ84K6KyiCDW1fV410StN8/4\n",
       "rYvHcgYM6fII67KnY1MiQ198/W+HdGuGjtOBtm8rGYiWII+tyX1zPBAkfoybm0EWb/iEHYD0kESH\n",
       "96IUEUTa2rbPnagjEaejv1xpa3sP710Z21R9DXiFddmLUlMiQ1HwkDm1ocDXQl/4qdlk8mpS7Vea\n",
       "U1fhDx4I4Cv4cQPI4o2AABWXTwUXvD/rGojmBWv/DUq8gHaEdPzJYxfG4uAV1mW7ZqZElsiBcr6p\n",
       "CKPA1wJXdHZ2FtVs7B0y26b+ZSK4c78Xgnfw4yjI4g2fNn57fmZZEdL/ftkRKDIuBIMTFQEfv4Uv\n",
       "8hPkT3oNETwSFdxhXY5Awca7PGn+lyhM4JsOu9mK76t/BXgj0oMIwpcTBDEZgXkWHIEcAUbSa6D1\n",
       "/cx7J0j5v+/zlOkoglh+oiLg47dSxL1RseYuGNs5UDGVVVNHpmNlBknzvyJFKhIFvgHiP1IEah/O\n",
       "zEvMNfRA2SVQ0LQZhzBbgHHpNbG524+Ue2DGy95iNUWgFicqghm8BD5MnCDS58Nk6kzebUC6qkDG\n",
       "lbgJXGFdjljN0k6I69GXUKTagtqWdj1e/Hr0hr5Ghp9s+L6M6Wl6IhAFGC+9pv2VHLwed3pBKC8j\n",
       "iGQnKoKl3DbG9w6Re28iTag3NAqbhqtZciV6wfUGzXllw9JrvG+PjMlcECzT8d1K58UbSa/pJ6ui\n",
       "BcmXnNbULCJIlnaVdtWDICCUK1HtYEAkl7V6WM/ltRZAeR+nPYOMK2tHYVkevlVl9DFL7MZVypPA\n",
       "hXVZ4smwiGAPV5GJmvRACYEowEh6za3nSlPcKbkX7K0hGgLCLtkvIJRLKfgrhkGRXJZSdqYV/kDK\n",
       "91/1/FK8zVAGlOIL3bCr+M2F/henJcL4eBeCO6yLDgUOAqZZqZa2NWYEY0p8EAtF8LtaEERdsl8+\n",
       "wOJZf8UwKJLLUsosgRFdAetF/iQ8NrWoVbLOT1U8klkiif5QK7hjilxBLFtr1LZOCwI+lIsi2FI7\n",
       "Ak72C+yve/0VwyAp2ooC4xFYYiMiUCp6uALVENASccMHwbaGhnLxAY0UwYbaEXCyX6BNJOurGAZG\n",
       "crFXH+c6CBQrKhd/IqMegOSRqghoiUm6z0DU4IDGWVkJAVkU6+GFBe181/jPZUZl2S8kHncbSb+L\n",
       "4RVDFGJ2wMeGry1zv1Y4CFJWj4gSK/UIxI9RBGI4l71HS1yCu2+CK6wLjjUWQbpDRECeL6rvjw+r\n",
       "J2SVz8xkoVxRXvbDCKwWdtzXKJzzUwyVbuIMbYRthhzJZduyKLBe60DWie/F8T12APpHKAIhnMvZ\n",
       "oyVe9VmUNjq4XR0WEMTfnVLaVf7F2nxkVFb5zEwWyhXlZT+MwJrGjvsaSaFAnGJI4MSeOAztuhzJ\n",
       "ZduyEKSZ9pFPVh5kncpc5TwzZeUpigBjuuxwLiemi5a4GQ3WgSusK55rLAIq7zm9gI7Z/T2hZpfE\n",
       "ZGY28wio7Idv3R8NMpIROIohRnKljsIZ7kguy5YhCHnNNwRbOItuAZ0LvGO6aImzst4CRaN/6AQP\n",
       "iwjoC5uV5aGcqzYxk4VyRXnZD6tuepCRFI3FKYZ4JHpKO+hGYNlOdyQ2VxoA4vfGsFM9I7pBvJtk\n",
       "ltCGizSkSw7rugEajCBeEBDQxWM7YP3oQvSVmcmqgSJgsh9W3f4gI/JnR2mJiqGGfW8YlV0pksu2\n",
       "HfAQq+3bL0N/4S7itd2x8TpfBLTEVT308aSwrnDDf/QamyxOx+bG6u30dYMQfYWZLJSLImCyH1Yd\n",
       "vvWuatSUcaK0JMVwJznTQ3d/6orksm0Xsdtb5XX7OeIy77DWAD4xXU6JBeAK60o3/KffpmrCvy/A\n",
       "1dyPcGgWVT7DzGShXLZDi7IfVl2qJ8AoDnIQi60YvkbmV52M+nIkl21rTSOe8VtrxvTKIesO61oM\n",
       "DUfQ1OFCkDrRNCKpfIpuZrJQLhsByn4YgaXlA4yeAi5KS1QM95BtY1nGFcll2SaKcNqTgyDRfToQ\n",
       "jPOf4dzsQhC771e6pPKpXCaHwJb9ng4wysnxjI5pggw5Ny7g+odkG4HPEsHp+Wc44/yXUE7QbKlU\n",
       "o07trpWAUK6q0VgBkVx9p5+AE1mn/ZzdYKXS/D++HgG5vwSW0AAAAABJRU5ErkJggg==\n",
       "\" style=\"display:inline;vertical-align:middle;\" /></a><br>(see <a class=\"ProveItLink\" href=\"../__pv_it/5d67e61f307a1dca3599b4671f785e6e73ae8b3e0/dependencies.ipynb\">dependencies</a>)<br>"
      ],
      "text/plain": [
       "forallImpliesNotExistsNot: forall_{(k, l) in Naturals * NaturalsPos} [forall_{P, Q_1,...,Q_k} ([forall_{x_1,...,x_l | Q_1(x_1,...,x_l) ,  ...  , Q_k(x_1,...,x_l)} P(x_1,...,x_l)] =>  \\\\ [notexists_{y_1,...,y_l | Q_1(y_1,...,y_l) ,  ...  , Q_k(y_1,...,y_l)} [not](P(y_1,...,y_l))])]"
      ]
     },
     "execution_count": 2,
     "metadata": {},
     "output_type": "execute_result"
    }
   ],
   "source": [
    "%proving forallImpliesNotExistsNot presuming []"
   ]
  },
  {
   "cell_type": "code",
   "execution_count": null,
   "metadata": {},
   "outputs": [],
   "source": []
  }
 ],
 "metadata": {
  "kernelspec": {
   "display_name": "Python 3",
   "language": "python",
   "name": "python3"
  }
 },
 "nbformat": 4,
 "nbformat_minor": 0
}
