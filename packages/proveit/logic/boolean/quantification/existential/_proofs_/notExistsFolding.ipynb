{
 "cells": [
  {
   "cell_type": "markdown",
   "metadata": {
    "collapsed": true,
    "deletable": true,
    "editable": true
   },
   "source": [
    "Proof of <a class=\"ProveItLink\" href=\"../../../../../_context_.ipynb\">proveit</a>.<a class=\"ProveItLink\" href=\"../../../../_context_.ipynb\">logic</a>.<a class=\"ProveItLink\" href=\"../../../_context_.ipynb\">boolean</a>.<a class=\"ProveItLink\" href=\"../../_context_.ipynb\">quantification</a>.<a class=\"ProveItLink\" href=\"../_context_.ipynb\">existential</a>.<a class=\"ProveItLink\" href=\"../_theorems_.ipynb#notExistsFolding\">notExistsFolding</a> theorem\n",
    "========"
   ]
  },
  {
   "cell_type": "code",
   "execution_count": 1,
   "metadata": {
    "collapsed": true,
    "deletable": true,
    "editable": true
   },
   "outputs": [],
   "source": [
    "import proveit\n",
    "context = proveit.Context('..') # the theorem's context is in the parent directory"
   ]
  },
  {
   "cell_type": "code",
   "execution_count": 2,
   "metadata": {
    "collapsed": true,
    "deletable": true,
    "editable": true
   },
   "outputs": [
    {
     "name": "stdout",
     "output_type": "stream",
     "text": [
      "Beginning proof of notExistsFolding\n",
      "Recorded 'presuming' information\n",
      "Presuming previous theorems (applied transitively).\n"
     ]
    },
    {
     "data": {
      "text/html": [
       "<strong id=\"notExistsFolding\">notExistsFolding:</strong> <a class=\"ProveItLink\" href=\"../__pv_it/f071c68118049c5b46acd142bb23d05d8d31161e0/expr.ipynb\"><img src=\"../__pv_it/f071c68118049c5b46acd142bb23d05d8d31161e0/expr.png\" style=\"display:inline;vertical-align:middle;\" /></a><br>(see <a class=\"ProveItLink\" href=\"../__pv_it/f071c68118049c5b46acd142bb23d05d8d31161e0/dependencies.ipynb\">dependencies</a>)<br>"
      ],
      "text/plain": [
       "notExistsFolding: forall_{(k, l) in Naturals * NaturalsPos} [forall_{P, Q_1,...,Q_k} ([not](exists_{x_1,...,x_l | Q_1(x_1,...,x_l) ,  ...  , Q_k(x_1,...,x_l)} P(x_1,...,x_l)) =>  \\\\ [notexists_{y_1,...,y_l | Q_1(y_1,...,y_l) ,  ...  , Q_k(y_1,...,y_l)} P(y_1,...,y_l)])]"
      ]
     },
     "execution_count": 2,
     "metadata": {},
     "output_type": "execute_result"
    }
   ],
   "source": [
    "%proving notExistsFolding presuming []"
   ]
  },
  {
   "cell_type": "code",
   "execution_count": 3,
   "metadata": {
    "collapsed": true,
    "deletable": true,
    "editable": true
   },
   "outputs": [],
   "source": []
  }
 ],
 "metadata": {
  "kernelspec": {
   "display_name": "Python 3",
   "language": "python",
   "name": "python3"
  },
  "language_info": {
   "codemirror_mode": {
    "name": "ipython",
    "version": 3
   },
   "file_extension": ".py",
   "mimetype": "text/x-python",
   "name": "python",
   "nbconvert_exporter": "python",
   "pygments_lexer": "ipython3",
   "version": "3.7.0"
  }
 },
 "nbformat": 4,
 "nbformat_minor": 0
}
