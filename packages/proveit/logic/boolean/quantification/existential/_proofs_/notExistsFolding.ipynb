{
 "cells": [
  {
   "cell_type": "markdown",
   "metadata": {},
   "source": [
    "Proof of <a class=\"ProveItLink\" href=\"../../../../../_context_.ipynb\">proveit</a>.<a class=\"ProveItLink\" href=\"../../../../_context_.ipynb\">logic</a>.<a class=\"ProveItLink\" href=\"../../../_context_.ipynb\">boolean</a>.<a class=\"ProveItLink\" href=\"../../_context_.ipynb\">quantification</a>.<a class=\"ProveItLink\" href=\"../_context_.ipynb\">existential</a>.<a class=\"ProveItLink\" href=\"../_theorems_.ipynb#notExistsFolding\">notExistsFolding</a> theorem\n",
    "========"
   ]
  },
  {
   "cell_type": "code",
   "execution_count": 1,
   "metadata": {},
   "outputs": [],
   "source": [
    "import proveit\n",
    "context = proveit.Context('..') # the theorem's context is in the parent directory"
   ]
  },
  {
   "cell_type": "code",
   "execution_count": 2,
   "metadata": {},
   "outputs": [
    {
     "name": "stdout",
     "output_type": "stream",
     "text": [
      "Beginning proof of notExistsFolding\n",
      "Recorded 'presuming' information\n",
      "Presuming previous theorems (applied transitively).\n"
     ]
    },
    {
     "data": {
      "text/html": [
       "<strong id=\"notExistsFolding\">notExistsFolding:</strong> <a class=\"ProveItLink\" href=\"../__pv_it/9d12248cd44e882813c918391c4c130ad4b7a47b0/expr.ipynb\"><img src=\"data:image/png;base64,iVBORw0KGgoAAAANSUhEUgAAAyQAAAAzBAMAAACUH9GJAAAAMFBMVEX///8QEBC6urrMzMxUVFRm\n",
       "ZmZERETc3NwyMjKqqqp2dnaIiIiYmJgiIiLu7u4AAAAU9Wx4AAAAAXRSTlMAQObYZgAADatJREFU\n",
       "eNrtnAtsW9UZxz/7Or5+J8CgwCgxWgedUFUz2OiKWFwa2g2tJAOqrSBWi2kBBKxGVCQbsAQYj7E+\n",
       "zHhNPFQPrVoBLTUMylDZYq1iQ2XQoPEo1dyarVSVaJc0tE3TtPXOd865955zn7ZTcIo4Uuybc8/n\n",
       "63t+53znO39/NsCkKsHS+/D5Lf7Slk/19X2VSn4i9pGkTWUcPt9lqdOJxKXseW1lzwSQPHRueSLv\n",
       "7kr4AolQprPO/O+5D04ASWpCby6S1o7OlpF0k5I9JtxQoabmf+NIYknb07E+fnBOw5A8pR0oaRlJ\n",
       "OymnT14QL1ba29+hQ+a82gybUnyWXG5//uJGI1FP0I5CZavjunYST44DJAiZggcrajTs40hCDv2Z\n",
       "azCSkB4arIdjColyECBM/iBaqNFyI0cSE6IiYTiGT28wklX6mzn92EISHSGdug/vv9bg5kOOJNFi\n",
       "1Ikz7Z4GIzlVXyT7ji0kwWGAwBiGSOTvo+V3T3/HtXnih5u/vpytlsEcj7iuN05PE5rOzDYUSeyI\n",
       "vurljy0kzWQIDWVYEJ/4AFq3Drg6sN053+GPx1mM2cmRrBbiTsE41NlQJHE9zAoVTUj+WCqVRut6\n",
       "0Vs8zufcwg2PuwlrB215UN7Fg2VkthShUqgUQck42n0PmsebD8F2MgTDfRzJb+lQLNGyzzJMG4Vk\n",
       "ph6c+8jR1fjmttQ4S/grfLz87bm8V73EhNnmCsMWfu61qmsvPnDJs1dSD3M8GeOgVrJvgHLFoKNd\n",
       "HnpHYwXwkxb+Fo7kDBH1XcbxeEORfN9wBBqc82pEwkZm+KRsYgl7iWCtEo5gCxkv46f58xJtVR+h\n",
       "I5vKH+FBF8NNLdxpKcMcSZt4eufx+uGChiI58WghWUWeelmPPOFlkegzRX2Gbdgzot3Jnw+DiCSw\n",
       "1xNJR5q7Z1skygNG4LYq20Akyphlh1QfkkSF3FHzkSqN5sqEBNugp4QTYLer6M7/FIIi7xuHaNYN\n",
       "yePQWoCXoTlrdlx8LXlPCKWHCg1EEj1iBJVFWyTbb7ryfssFEvPeXXO3hCSCo7SZRQMt8nkbq/Wy\n",
       "HxNsfWB/RaOW7wyjI9qZG0kfjvSOwM1sliS0nR890P5LVM6qJNUW2s8xbXl/XfCdkpqUYUjKE0CS\n",
       "qDu4N3ZLkU5t5khI/uXf25uGgPzu4qmZ8/fCrKKBxIfTrW0YGyp9/DxcCg5W0+Qb4LbfIU+zwP6K\n",
       "rFYh0ZWfby70wURC2d7MnBH1LoZkCLGgV8MD/T91f6A12ZOEdQ5BcI80EYcZEjrn3qgPCe3AWKEO\n",
       "W2M19Q+aguDlZDofUQvRsTtyyu9kf3IbDDz2AQRTBhI6yNemsSHpM3Z+9hRwsJol7zCYLTxCt2z2\n",
       "V2S18GNA4rg3XLJXu90ZZMqU+ufcn2RIPiSvljgJN+kZ/pBoJa/1ly3bTybQbsD1JMmRCEGW5Gyj\n",
       "owzJM/UoaBxJJGeWDassQ0K8OsVmq6gNx7jZxWO84xMcF10KWlPYkPoAGg9ZPpjUrExIuO0i8vSw\n",
       "4xVpbYuGRLx/oyVdS86y3KXfaHFCyl5QkTxleIwhuRXHQqY+JNTu1nq2JUVZjbMiecA3qBbNHRTK\n",
       "T4XbtQvS9xz6ZPs1TeO0J/0Zft6MxLA6U67ntlvPTuMZ2yuyWrxPv7mPBPWQIilaJQpjORsmc+s5\n",
       "jiTi5FaUcYYEB3lTrs7lHWfXojpsNwkXtBPnQTk4MxPMYQep90FPWV1BHnqybU/vh+s1hrSLlMOX\n",
       "xTuKFEliENh5RNKTpSb4IFhtlOo129N+UYTdtldU72O12Psxy0ZUdy3qmn0FdyRwSY6F4EuFcNoa\n",
       "h+xjSGJ/6O6+o96Ia2N3d/dgHbYDwoRV03azZN6N7/2K9rRyCNqyyih5aCsGut68LgcXifuSpVNX\n",
       "rggzf7MV2HlE0lakJvggWF0m1XNb/6/JG4iX7a5IjmhtgKwCTUnzTcgf2katdynPhkCW28x37Jb9\n",
       "PAje39W1pV4kzV1dN+XrsF2clZZfu7WE/ZsVxxofh1uL0n47MH4Fa/iK1u59yY0IVn3merSNFlcU\n",
       "IZqzvSI/iu+y++BJrS2u+RPHGHXePJzMkcxl6/4tVclzERkJ2T/hJuvRfQvnZWXNSJqQfy59SX4f\n",
       "HU4hgYxEeZ4EH+fr/3GOV2UlJNHKKGu4g1dccGpObytZkS26qR5tA9nnkpDI2F1RO2p6uQptoKqy\n",
       "1PVsiSOZRr2cmofn6XhPdJRnOxs1yUhI4ImeMdYCkUFZMxLLg9fCjhEZiaNCbM3jKtq4ZhGJehwf\n",
       "QuGinRsXrAKWet0WnrS7org+pI8CEH/J/cOVtzmSOJm6VLOLJ3m8rclzsxYmoyey8azccxk8/yML\n",
       "ErKreRXvNU2VZUEzkmI74iLVw9UhEay8YmtrH23wsOh3ORfz0CIiZfj0y50cSbRI1jacl0NlvivF\n",
       "WZN4aWExlunXb+PvkTK+KzOSV8miSmAWIdAnaUbSJgSrKuWqkbCMx9Bn0QefdZlRyleDJNF3HttG\n",
       "zmD1y+jysu6s/5VjbzQRJF+jQ+ifhc5Iual9Qft3JSQ7acrPUArezEqakVjWYpNKtmokcbuF/nNS\n",
       "1HQ1jguuvYjtT1f71+HIHEV5LobKU+xb5xf6cdPyGnEKD91mN0uCS9HJzXx2dVHSm6TSSvy1UsF5\n",
       "ZERcZXckanf3o92Tv4PPrqUxTalzR6It7/DIIJMLlv1miAxlpQVX/BDzr/0biONahHw2RHbNtkES\n",
       "vhoP14BJb5IKThAyg8KdDkGwDZJAe/vmOZPVc+nJdUptS/7lnki0IBh8BaZz7mMidAa1oNkMSSRy\n",
       "KcFwMV0687+3QQJfxoefgElvkpGgwvSJJBEMpDwd19zgpM1C1ZLralzuQp5ItK0ixMpUt1dOW0YX\n",
       "1wIiubCrq6sQS6lvkdU7+m+K5PbddkjewocxMOlNUln57XnJxQWI/+dFQ1BJeiIZnLRI9OS69bXZ\n",
       "oSTjikQTVHjEnCHT4xz8yMJ3Lspz23lg+JW/ArwWyCES/wUEiWpGQt8jeixDMzLJRND2bvKdQ6T9\n",
       "P3bZyo72SNTMpEWiJ9fVmLmMCrArEk125M0HyfS4MEo6diiK8hwVZAiSWD+u9ItozL+xbBFUWFmD\n",
       "Lk/XjCwykTpn84FyDqa/KMTFeS8kscKkRaIl12FSYOTOIsRdVT6hxfUeSDRxnpetEMoGX0CR7hmU\n",
       "5xLXkLrp1+CG7KuY9O2/N4mbX3sksmZkJxN1vJSGV0PGLPFlvJAEUpMWiZZc10TG1WrfKKwadmst\n",
       "tFjtgUT7CIuXV0QJAfGTtcRbdhRnXVbUm0wy0QCJuuZHXjAGWos7kkhpW2lbPUg8MuTCbic9MvP0\n",
       "6ERLrgsViS/qHYXFGfimi7eiLTC1DlPqXJFoH/TyskPo2HBVEqcJiawZmWSim08xjYcjXrNkZxVJ\n",
       "I+C3yJoeGXJK3lkR9crM05U/LbnOlwSlsLYPthW+scD5iqwF/Tj7DA8kzHfoSLhmF+PyXO1Iagta\n",
       "xryQPF4NkqBF1sx4WDztrIh6ZebpiXlach3NQGstJCop4/tLNoW2oEkfbR5IzElDG6qT544OEiG1\n",
       "zgHJM9UjEWRNz/m901kR9VLf9cQ8TUFFJEol66+AGxLWgmY+eyHZ1MjUOiEB1QHJiuqRCLKmp00g\n",
       "5aiIembm8Y+C9OQ6TAqM7YHIAVckrAWm1nk6rsYmoM5MeSAhQXnWvyCfOM2yfgiVQbOs6QOYtgU+\n",
       "LDoamb46JSqiLQ62euV6Y1vCrk5qYwcgdJAhkXPrytoDa0H7+XUPJAcbiiTe6Y5ESRMku0PDsUNm\n",
       "FZNWKssEJFzWxIy6WWSDtRI2Fc3ZdbqRP+2kiCp99rasUkjM05PrcH1Q98DACEMi5dbRA/rAWqyr\n",
       "Ighu8JcZYsOuSEJvTy1tK/+sNxMYNauYtBJz3XQkXNbEjLppoD62Hzqy5uw63ciUjSUoogSWrS2r\n",
       "NBLzjOQ6GkU9NXXJEYZEyq2jBzS3jrXA1DpMqXNDEko3FAmTK51nCfP5Azlfi0Uyo5UtIhIma2IW\n",
       "xMPEr4zBcdbsOs3IjMRQRDEzz9aWVloT84AmBfpTuC1ha4l9bh1rgal1XoJKg78YBw+6I4nzcHMo\n",
       "bUGClTwXMCjKmtiVZ6JfSey1ItGMTAlygiKKZ2xtaaU1MQ9oUuCqYRVn2lPyXkzcq9EWNLUOU+rc\n",
       "kDA9fTJ8ydoWCQtWOwD7KyslxNFKnufGkHBZE7tyN26BUY02ZdfpRrG8kyKaGLSzJW1oJUvMM99D\n",
       "GQbydxxPNqgrr3JEwlpckmP35ILE3+gvWatT3Jd3etSzmX38IiXEYWUgKSDhsiZ2ZbwM6vI7P7Fk\n",
       "1+lGTUlHRXQr2NhiG6xkiXnme0hDU2mLFn045NYZLea7I4k3+qcI2HconYNgGuz8AF07Oi5Bn6GV\n",
       "8V3yhhtlTezKaA4+ypJVw5xdpxuFnBXRV8DONsYqeWKeqdxWk6afckeyEBqNpKnTE0n0UNMIVTHF\n",
       "hDhaibluIhKUNTGjLpGBgeLipCW7Tjd6wlkR3QF2tuezSpaYN/HijCTcdxSQTPDHn27wRKLe+8us\n",
       "MZz5kV4pItFlzSeh57r54GyUdlZEw0U7W6MyAJ8qkqPy408T/Ik0a96zhqTqX66z9pJHhpxrgpxH\n",
       "Zl7/USAyo+SEJPFTridU9vwfU3oEM3AW+pEAAAAASUVORK5CYII=\n",
       "\" style=\"display:inline;vertical-align:middle;\" /></a><br>(see <a class=\"ProveItLink\" href=\"../__pv_it/9d12248cd44e882813c918391c4c130ad4b7a47b0/dependencies.ipynb\">dependencies</a>)<br>"
      ],
      "text/plain": [
       "notExistsFolding: forall_{(k, l) in Naturals * NaturalsPos} [forall_{P, Q_1,...,Q_k} ([not](exists_{x_1,...,x_l | Q_1(x_1,...,x_l) ,  ...  , Q_k(x_1,...,x_l)} P(x_1,...,x_l)) =>  \\\\ [notexists_{y_1,...,y_l | Q_1(y_1,...,y_l) ,  ...  , Q_k(y_1,...,y_l)} P(y_1,...,y_l)])]"
      ]
     },
     "execution_count": 2,
     "metadata": {},
     "output_type": "execute_result"
    }
   ],
   "source": [
    "%proving notExistsFolding presuming []"
   ]
  },
  {
   "cell_type": "code",
   "execution_count": null,
   "metadata": {},
   "outputs": [],
   "source": []
  }
 ],
 "metadata": {
  "kernelspec": {
   "display_name": "Python 3",
   "language": "python",
   "name": "python3"
  }
 },
 "nbformat": 4,
 "nbformat_minor": 0
}
