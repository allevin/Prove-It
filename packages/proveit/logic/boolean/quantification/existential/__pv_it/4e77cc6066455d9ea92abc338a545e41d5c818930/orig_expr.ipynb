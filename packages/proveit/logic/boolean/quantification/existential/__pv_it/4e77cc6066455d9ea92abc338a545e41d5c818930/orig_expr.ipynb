{
 "cells": [
  {
   "cell_type": "markdown",
   "metadata": {},
   "source": [
    "Temporary notebook for <a class=\"ProveItLink\" href=\"../../_theorems_.ipynb#existsInSuperset\">existsInSuperset</a> of type <a href=\"../../../../../../../../doc/html/api/proveit.logic.Forall.html\">Forall</a>\n",
    "=======================\n",
    "# a not-yet-official Theorem from context <a class=\"ProveItLink\" href=\"../../_context_.ipynb\">proveit.logic.boolean.quantification.existential</a>"
   ]
  },
  {
   "cell_type": "code",
   "execution_count": null,
   "metadata": {},
   "outputs": [],
   "source": [
    "# import Expression classes needed to build the expression\n",
    "from proveit._common_ import A, B, P, k, l\n",
	"from proveit.logic import Forall, Implies, SubsetEq\n",
	"from proveit.logic._common_ import iterQ1k\n",
	"from proveit.logic.boolean.quantification.existential._common_ import generalExistsInA_Px, generalExistsInB_Py\n",
	"from proveit.number import Naturals, NaturalsPos"
   ]
  },
  {
   "cell_type": "code",
   "execution_count": null,
   "metadata": {},
   "outputs": [],
   "source": [
    "# build up the expression from sub-expressions\n",
    "expr = Forall([k, l], Forall([P, A, B, iterQ1k], Implies(generalExistsInA_Px, generalExistsInB_Py).withWrappingAt(2), conditions = [SubsetEq(A, B)]), domains = [Naturals, NaturalsPos], conditions = [])"
   ]
  },
  {
   "cell_type": "code",
   "execution_count": null,
   "metadata": {},
   "outputs": [],
   "source": [
    "# check that the built expression is the same as the stored expression\n",
    "%check_expr"
   ]
  },
  {
   "cell_type": "code",
   "execution_count": null,
   "metadata": {},
   "outputs": [],
   "source": [
    "# display the expression information\n",
    "expr.exprInfo()"
   ]
  },
  {
   "cell_type": "code",
   "execution_count": null,
   "metadata": {},
   "outputs": [],
   "source": []
  }
 ],
 "metadata": {
  "kernelspec": {
   "display_name": "Python 3",
   "language": "python",
   "name": "python3"
  }
 },
 "nbformat": 4,
 "nbformat_minor": 0
}
