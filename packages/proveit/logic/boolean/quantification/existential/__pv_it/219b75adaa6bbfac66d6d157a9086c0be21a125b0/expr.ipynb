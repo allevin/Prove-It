{
 "cells": [
  {
   "cell_type": "markdown",
   "metadata": {},
   "source": [
    "Expression of type <a class=\"ProveItLink\" href=\"../../../../../../../../doc/html/api/proveit.ExprTuple.html\">ExprTuple</a>\n",
    "=======================\n",
    "# from context <a class=\"ProveItLink\" href=\"../../_context_.ipynb\">proveit.logic.boolean.quantification.existential</a>"
   ]
  },
  {
   "cell_type": "code",
   "execution_count": 1,
   "metadata": {},
   "outputs": [],
   "source": [
    "# import Expression classes needed to build the expression\n",
    "from proveit import ExprTuple\n",
    "from proveit._common_ import i, j, k\n",
    "from proveit.logic import InSet\n",
    "from proveit.number import Less, LessEq, LesserSequence, Naturals, one"
   ]
  },
  {
   "cell_type": "code",
   "execution_count": 2,
   "metadata": {},
   "outputs": [
    {
     "data": {
      "text/html": [
       "<strong id=\"expr\">expr:</strong> <a class=\"ProveItLink\" href=\"expr.ipynb\"><img src=\"data:image/png;base64,iVBORw0KGgoAAAANSUhEUgAAAMMAAAAVBAMAAAAJNkerAAAAMFBMVEX////c3NwiIiJERESqqqqY\n",
       "mJh2dnZmZmYQEBDu7u4yMjJUVFTMzMyIiIi6uroAAAAs73DqAAAAAXRSTlMAQObYZgAAAp5JREFU\n",
       "SMe9VU1oE0EUfstmN9lkdw324KEHy+IPiomRoiB4yLkgDSJeRF16kR6EGmgRL5XqVV0sVGmQBrHE\n",
       "IthcPBiLLPRSqIJ4kYKF1Zu5tJWKVErp2/nZSWZNyaUu7M7Mm5nve+97b2YB/sNjf95P9OvhZxmg\n",
       "MiFNGPP9c5A8fYQNz8d2qtWY6UZWMhDUpI+fOXxrMYjSIsABNpjcEhNWns7HQ78qul8C0hBU9MUK\n",
       "F2/K6zOn0J5i3rwXFFO5GPQhX5ZgiPET1CsAKQ/TEWE8f+GcJBRNb4FTgBVNPz0aY1h+IzOUSyzJ\n",
       "ZNszgCY2OlfWnPVYFB/r016MovdljKG5IBmURpH1KKpahDFs0q42TuTr8bhQ/kWzIFMIh6fGWGfg\n",
       "Nvd9ldaE2Qj4Ioqqj8AsDmZ+Dq8R7jNRLvxkcE2imLwQuequsbwOc4sOREOjX2SGoiaq8AgHg5+Y\n",
       "KwVBAe8yS+0UVo7HaBbLpB0SdbUCvynpSmSiqPY92MFmPM8SNOE4LN0+VIxXklDaMcZhwEPqciQK\n",
       "ZO0N2rkUBUZRzXVCkaucoN7VW6Iw3SU53YkaO16JLSZ8MeLQ++T0UFSkeIDebMOmQtzqa6GAy2qs\n",
       "aO3XVOp0ncaj8AJF04hUZAwVhTqLAqwbOzoxv22l0HsAvHYKMGk6DwcuP2Zc+xkR0CKpC4aqVeEm\n",
       "4hVgwyKTT7i4ati5C8YviQLMDySTSuQ9137QazmO4W6GikX7A2MswVe6UKlRIez5+/idBuMxip+8\n",
       "83dUvsJWRX+AbinLh5KhpgNItV2QiQatqEj8bLe39vEOdrxANHevjVqXBN+V7Q4zt9hl3hXFQSd8\n",
       "8v9aZv5RaUEpZI0jzosRXlS9e1F0+Uc0zo12mMmESiv7+mP9BrALqy+zBmWDa5gAAAAASUVORK5C\n",
       "YII=\n",
       "\" style=\"display:inline;vertical-align:middle;\" /></a><br>"
      ],
      "text/plain": [
       "expr: (k in Naturals , 1 <= i < j <= k)"
      ]
     },
     "execution_count": 2,
     "metadata": {},
     "output_type": "execute_result"
    }
   ],
   "source": [
    "# build up the expression from sub-expressions\n",
    "expr = ExprTuple(InSet(k, Naturals), LesserSequence([LessEq._operator_, Less._operator_, LessEq._operator_], [one, i, j, k]))"
   ]
  },
  {
   "cell_type": "code",
   "execution_count": 3,
   "metadata": {},
   "outputs": [
    {
     "name": "stdout",
     "output_type": "stream",
     "text": [
      "Passed sanity check: built 'expr' is the same as the stored Expression.\n"
     ]
    }
   ],
   "source": [
    "# check that the built expression is the same as the stored expression\n",
    "%check_expr"
   ]
  },
  {
   "cell_type": "code",
   "execution_count": 4,
   "metadata": {},
   "outputs": [
    {
     "data": {
      "text/html": [
       "<table><tr><th>&nbsp;</th><th>core type</th><th>sub-expressions</th><th>expression</th></tr>\n",
       "<tr><td>0</td><td>ExprTuple</td><td>1, 2</td><td><a class=\"ProveItLink\" href=\"expr.ipynb\"><img src=\"data:image/png;base64,iVBORw0KGgoAAAANSUhEUgAAAMMAAAAVBAMAAAAJNkerAAAAMFBMVEX////c3NwiIiJERESqqqqY\n",
       "mJh2dnZmZmYQEBDu7u4yMjJUVFTMzMyIiIi6uroAAAAs73DqAAAAAXRSTlMAQObYZgAAAp5JREFU\n",
       "SMe9VU1oE0EUfstmN9lkdw324KEHy+IPiomRoiB4yLkgDSJeRF16kR6EGmgRL5XqVV0sVGmQBrHE\n",
       "IthcPBiLLPRSqIJ4kYKF1Zu5tJWKVErp2/nZSWZNyaUu7M7Mm5nve+97b2YB/sNjf95P9OvhZxmg\n",
       "MiFNGPP9c5A8fYQNz8d2qtWY6UZWMhDUpI+fOXxrMYjSIsABNpjcEhNWns7HQ78qul8C0hBU9MUK\n",
       "F2/K6zOn0J5i3rwXFFO5GPQhX5ZgiPET1CsAKQ/TEWE8f+GcJBRNb4FTgBVNPz0aY1h+IzOUSyzJ\n",
       "ZNszgCY2OlfWnPVYFB/r016MovdljKG5IBmURpH1KKpahDFs0q42TuTr8bhQ/kWzIFMIh6fGWGfg\n",
       "Nvd9ldaE2Qj4Ioqqj8AsDmZ+Dq8R7jNRLvxkcE2imLwQuequsbwOc4sOREOjX2SGoiaq8AgHg5+Y\n",
       "KwVBAe8yS+0UVo7HaBbLpB0SdbUCvynpSmSiqPY92MFmPM8SNOE4LN0+VIxXklDaMcZhwEPqciQK\n",
       "ZO0N2rkUBUZRzXVCkaucoN7VW6Iw3SU53YkaO16JLSZ8MeLQ++T0UFSkeIDebMOmQtzqa6GAy2qs\n",
       "aO3XVOp0ncaj8AJF04hUZAwVhTqLAqwbOzoxv22l0HsAvHYKMGk6DwcuP2Zc+xkR0CKpC4aqVeEm\n",
       "4hVgwyKTT7i4ati5C8YviQLMDySTSuQ9137QazmO4W6GikX7A2MswVe6UKlRIez5+/idBuMxip+8\n",
       "83dUvsJWRX+AbinLh5KhpgNItV2QiQatqEj8bLe39vEOdrxANHevjVqXBN+V7Q4zt9hl3hXFQSd8\n",
       "8v9aZv5RaUEpZI0jzosRXlS9e1F0+Uc0zo12mMmESiv7+mP9BrALqy+zBmWDa5gAAAAASUVORK5C\n",
       "YII=\n",
       "\" style=\"display:inline;vertical-align:middle;\" /></a></td></tr>\n",
       "<tr><td>1</td><td>Operation</td><td>operator:&nbsp;3<br>operands:&nbsp;4<br></td><td><a class=\"ProveItLink\" href=\"../e09ca6f75e0c57b0dc94dcfcf473d980986784820/expr.ipynb\"><img src=\"data:image/png;base64,iVBORw0KGgoAAAANSUhEUgAAADMAAAAPBAMAAAC7N+rPAAAAMFBMVEX///9ERETc3NyIiIjMzMyY\n",
       "mJh2dna6urqqqqpmZmYyMjIiIiIQEBBUVFTu7u4AAAD6+w4kAAAAAXRSTlMAQObYZgAAAOhJREFU\n",
       "GNNj4LuzgQEVvPoo9YBh9u8GBgauCWhSDKIsAgwMH4AM/gZ0qdsOxgwMB4CM+gdQkcerd+8CM66v\n",
       "43UAS2VBZViWwtRc8eVbB5ZaxhD5HSSgCJNhuMJh4AiS4vv+7PkPkIAQ3K4rDNNZDYBSHF8MwHw+\n",
       "ASQp3gdXgFKcvwvAfPbTu3dDnXGFge/CK6AUt91tsCUsF5B0MbixAKXeO/A3KIAM3IAsxdoAND+e\n",
       "4X1BAkjgKrIUQxJQ6iIDvwLYIa8LYFLiQMy5gIFhKQPzNLBlTCsdIDJVf4A6+BYgBx3HLagLoQAA\n",
       "a0VGmR4qtXkAAAAASUVORK5CYII=\n",
       "\" style=\"display:inline;vertical-align:middle;\" /></a></td></tr>\n",
       "<tr><td>2</td><td>Operation</td><td>operators:&nbsp;5<br>operands:&nbsp;6<br></td><td><a class=\"ProveItLink\" href=\"../e5030e4295332a4fad71ffcd4076ac5849f0a8660/expr.ipynb\"><img src=\"data:image/png;base64,iVBORw0KGgoAAAANSUhEUgAAAHgAAAASBAMAAABiJQfdAAAAMFBMVEX////MzMyqqqrc3Nx2dna6\n",
       "uroiIiKYmJgyMjIQEBBmZmaIiIhUVFTu7u5EREQAAAD6xDySAAAAAXRSTlMAQObYZgAAAVZJREFU\n",
       "OMtjYGB4y4AO+BowhOoNUPm8JxNA1L2/CCHuVIjmDRiaa9DVcCwAEnfOIDRfycbQZCWAJgBTw68A\n",
       "Ngmu+VY6hl6ZVjQBuJr4CyiabZow9EYcRBNAqPFgQNaMsOTKEihDYzEseHa/RXdIC0PVV7jmew/h\n",
       "4g7xEHqbL0yEhSEdTQ3v1ytXP8E1c2dfgIozKiwD026IMN/L8B1VDQPTxw3IzmZPgcrwMswGU+8C\n",
       "4JoNWD+jqmHg+haAEmBMXdCEwAQRYTyhANfNkoCmhm3vsQsoUcXaA4lUjgMQ85mXFcCkwEkCWc19\n",
       "AX4FA2TNDIzvwDL2AQ5QD7jthcrcV0BTU89wH6QKSTMD41EQqc8Mt7EMGuD6F9DUnGPgN9jAwLXy\n",
       "x3L0fLEbwdaAuHIZevJpZ+BecoGBOJDFQDYIZv6IX4FZGgikYpNi/MW3gJAanID3yXLsEgCAgGaP\n",
       "CQrbBgAAAABJRU5ErkJggg==\n",
       "\" style=\"display:inline;vertical-align:middle;\" /></a></td></tr>\n",
       "<tr><td>3</td><td>Literal</td><td></td><td><a class=\"ProveItLink\" href=\"../../../../../set_theory/membership/__pv_it/088cbc857536a28d4119ad9639a84270ccb0545d0/expr.ipynb\"><img src=\"data:image/png;base64,iVBORw0KGgoAAAANSUhEUgAAAAwAAAAMBAMAAACkW0HUAAAALVBMVEX///+qqqpmZmZUVFQQEBC6\n",
       "urpERETc3NyYmJjMzMwiIiIyMjKIiIju7u4AAACYsrA9AAAAAXRSTlMAQObYZgAAADxJREFUCNdj\n",
       "YOA9vWrVBgaG2b0MQMCeCyIZ2ArA1DUwyRCyahVIyWQI7xaEYm4AU7xLIdxqTQgtvGvVBgCkcQ7e\n",
       "geM/tQAAAABJRU5ErkJggg==\n",
       "\" style=\"display:inline;vertical-align:middle;\" /></a></td></tr>\n",
       "<tr><td>4</td><td>ExprTuple</td><td>13, 7</td><td><a class=\"ProveItLink\" href=\"../1c7a7d6cc66465b467de9a7d12bece86993b62090/expr.ipynb\"><img src=\"data:image/png;base64,iVBORw0KGgoAAAANSUhEUgAAADAAAAAVBAMAAADyTXAxAAAAMFBMVEX////c3NwiIiJERESqqqqY\n",
       "mJh2dnZmZmYQEBDu7u4yMjJUVFTMzMyIiIi6uroAAAAs73DqAAAAAXRSTlMAQObYZgAAASNJREFU\n",
       "KM9jYMAJ+C5girE+ABKnGRhmN0EFONcbr2Rg11dhqAFyVgLxcphS5oDDDAz8DAxcDAy8IJO+wCS4\n",
       "dYB8DqBZCQwcE4DW/IRLvJqwByTB2cDwCshlWwCXOLNh1gSgBIMJQxmQ5EpgrX8AkTjgy2MAkkhn\n",
       "WAok57/MfO8AlWB/EAuS8GLoA5L+Z+FGHWDYyX0CyHjB8A9I1ushSczmXAFknAdL6M7WREjwJJwA\n",
       "S7QA3faH4QsjXIIhhBlslCnQNx84/7ExcMIk2ISBjCiguxi4DRg+8jLMVwAFCcjVVWDnPgJ6I4Dh\n",
       "eibDjI/AIFjfDBScBcTrGDgEYC56iBTuwCABBhcUBCBJsF2ABDuGBMg0aSibFzkKNwIxI5ao5T3A\n",
       "AACTrkcGgEmEYgAAAABJRU5ErkJggg==\n",
       "\" style=\"display:inline;vertical-align:middle;\" /></a></td></tr>\n",
       "<tr><td>5</td><td>ExprTuple</td><td>9, 8, 9</td><td><a class=\"ProveItLink\" href=\"../36dc3c1c0c13113087417d547793617ac7eaef600/expr.ipynb\"><img src=\"data:image/png;base64,iVBORw0KGgoAAAANSUhEUgAAAE8AAAAVBAMAAAD1D64kAAAAMFBMVEX////c3NwiIiJERESqqqqY\n",
       "mJh2dnZmZmYQEBDu7u4yMjJUVFTMzMyIiIi6uroAAAAs73DqAAAAAXRSTlMAQObYZgAAASdJREFU\n",
       "KM9jYCAa8F0grCYORJwmwjD2A0BiJZRz6QEOVbx6DAwLgBTEZs4kFBeIH4Azp+kCiTAGBo4JYHVF\n",
       "AcjqTq+DM6ergsgZDAyvQDTjLgdkda/2wJnSS8AUswNDGZDi2YXiPq9CDKPZChiWAu01PoCs7lIm\n",
       "nDnZBspgWcDQB5K6iaQO2Ve8uhOggd3A8A9EByEM4TRGdgarGkQlzweIQmRn8aB4jGW5AFRhC4ZH\n",
       "GVGCim/1AYjVplCBw0B3Qx3EmQRy8wSYDSCvsi5gSIeHxAPOTzA20M0IDs8+cPA8QtjC2S8AD8oD\n",
       "SBwg4HrAwIHE50OWQ+EAo5A1ASkwkMMdhZMLTmaMSmDwAFOhEFhCj4FzASjaEXIoKQ2Zww1yBiMR\n",
       "WeEOAwMA1HFHO9JzCv0AAAAASUVORK5CYII=\n",
       "\" style=\"display:inline;vertical-align:middle;\" /></a></td></tr>\n",
       "<tr><td>6</td><td>ExprTuple</td><td>10, 11, 12, 13</td><td><a class=\"ProveItLink\" href=\"../beb52b6a6aa9ad5f8e38e9c1a15767aa418cefab0/expr.ipynb\"><img src=\"data:image/png;base64,iVBORw0KGgoAAAANSUhEUgAAAE0AAAAVBAMAAADx+n4ZAAAAMFBMVEX////c3NwiIiJERESqqqqY\n",
       "mJh2dnZmZmYQEBDu7u4yMjJUVFTMzMyIiIi6uroAAAAs73DqAAAAAXRSTlMAQObYZgAAAWNJREFU\n",
       "KM+Nkj9Lw0AYh3+hTZrrn9DFyaWLiIPioqBQ7DdoJxdBu5UOQhDUsSLONmOhQ7NIET+Cgw5uInQT\n",
       "QbG66WIqFRFK8d7ce5IKtR7k9z45HnJ3eQ/473A6E5VNimv5xDw9taphKxuW5qGMxKWMU0Cs/Xh5\n",
       "DRtc2xQ+kOlAnF94Y9fsU6wDNimPYz3ni7IBvOJPz/IpYwXsRT1RKTM8rChIls1aF5aLk6hnOQED\n",
       "ZhS0XqpvBcR9HEe9q0ROwR0+FBRvwl0eYBj1PJt/etbpKagtUKaDUQ9FDRZ/eL45p7yjEe9MMCRd\n",
       "dZ4B+ka47pL2SDWGFpTZKoRgBkJOwfRRYU+8yxoPptDK8QYIUovoZUD/5VlO7tfbJVGnxuc7aIQn\n",
       "2EEIyRJuq7J0YWd1hzQ8UcxqAPfN5A7A1JMlaRgDBTy21b367aU/Y27UE9TkaX7R11puWyzvKuCR\n",
       "oi0Zk+/9PfANorRfCxbCI90AAAAASUVORK5CYII=\n",
       "\" style=\"display:inline;vertical-align:middle;\" /></a></td></tr>\n",
       "<tr><td>7</td><td>Literal</td><td></td><td><a class=\"ProveItLink\" href=\"../../../../../../number/sets/integer/__pv_it/e5d9bd86b06b357eee742ad868997123619e09700/expr.ipynb\"><img src=\"data:image/png;base64,iVBORw0KGgoAAAANSUhEUgAAAA8AAAAOBAMAAAACpFvcAAAAMFBMVEX////c3Nx2dna6uroQEBCI\n",
       "iIhUVFTMzMyYmJiqqqoiIiJmZmZEREQyMjLu7u4AAADjlg78AAAAAXRSTlMAQObYZgAAAGBJREFU\n",
       "CNdjePvn7AOGXb8mMDCcYD/AwPCBgYEhqyCUgcEByEi+x1YAZqSX8d2DMDgDaiAMhs0cARAG24N0\n",
       "CIMv4S2EwVDEDmVwTDgAYTAoghiHgZj7AgOD7Rcgj+8CAwA9oh2B0HK+MAAAAABJRU5ErkJggg==\n",
       "\" style=\"display:inline;vertical-align:middle;\" /></a></td></tr>\n",
       "<tr><td>8</td><td>Literal</td><td></td><td><a class=\"ProveItLink\" href=\"../../../../../../number/ordering/__pv_it/7c444b9b2efa607ed6397b492680dde2810212f00/expr.ipynb\"><img src=\"data:image/png;base64,iVBORw0KGgoAAAANSUhEUgAAAA4AAAAMBAMAAACgrpHpAAAALVBMVEX///+YmJhERETu7u52dnYi\n",
       "IiKIiIiqqqq6uroyMjJUVFTMzMxmZmbc3NwAAADmAst+AAAAAXRSTlMAQObYZgAAAD5JREFUCNdj\n",
       "YAAB3tNgintlA4jimLUBRLHPuQCi2EIMQBRLGFgJg5EGhGbYNR3KuBMIZZiEGUAYjCFQBvtsABzC\n",
       "Cm98G6SsAAAAAElFTkSuQmCC\n",
       "\" style=\"display:inline;vertical-align:middle;\" /></a></td></tr>\n",
       "<tr><td>9</td><td>Literal</td><td></td><td><a class=\"ProveItLink\" href=\"../../../../../../number/ordering/__pv_it/aa616d6a8fe3483e4e64187262e9c7dfe6a536a30/expr.ipynb\"><img src=\"data:image/png;base64,iVBORw0KGgoAAAANSUhEUgAAAA4AAAARBAMAAAAf5oCsAAAALVBMVEX///9ERETMzMyqqqoyMjJU\n",
       "VFTc3NyYmJhmZmZ2dnbu7u66uroiIiKIiIgAAAAFyQXGAAAAAXRSTlMAQObYZgAAAEBJREFUCNdj\n",
       "YEAGvKfB1MqzYGrFcTCV6gymVL3B1EIhqNKzCyAM9pNQBrNHAoTB7aoAYTAJwhjRDLhAzhkQOA0A\n",
       "iskPUSt9tJUAAAAASUVORK5CYII=\n",
       "\" style=\"display:inline;vertical-align:middle;\" /></a></td></tr>\n",
       "<tr><td>10</td><td>Literal</td><td></td><td><a class=\"ProveItLink\" href=\"../../../../../../number/numeral/__pv_it/9be8badea4c35b9724062cecc501d17a3158d1d20/expr.ipynb\"><img src=\"data:image/png;base64,iVBORw0KGgoAAAANSUhEUgAAAAgAAAAPBAMAAAArJJMAAAAAHlBMVEX///+YmJgyMjIQEBBmZmaI\n",
       "iIhUVFTu7u5EREQAAAAw+MI4AAAAAXRSTlMAQObYZgAAACFJREFUCNdjYGBoZ2BgqJjOwFCWBiQY\n",
       "WEklWJwnOTKAAACjEQo8HvEr3AAAAABJRU5ErkJggg==\n",
       "\" style=\"display:inline;vertical-align:middle;\" /></a></td></tr>\n",
       "<tr><td>11</td><td>Variable</td><td></td><td><a class=\"ProveItLink\" href=\"../../../../../../__pv_it/4cc43b4ba7e5ae9f0f864f240ab9735c1604d8200/expr.ipynb\"><img src=\"data:image/png;base64,iVBORw0KGgoAAAANSUhEUgAAAAcAAAAOBAMAAAARcxsoAAAAMFBMVEX///+YmJjc3NxUVFQQEBAi\n",
       "IiKqqqrMzMy6urpmZmZ2dnbu7u6IiIgyMjJEREQAAADwIkbYAAAAAXRSTlMAQObYZgAAADtJREFU\n",
       "CNdjYGB4ywAEbxjQAffKBQwMXBwfGBjKOAMYGDawHAAK5m8AEpe5GRiYfnAxMLB9UARpPcAAAFud\n",
       "DDeiFOVzAAAAAElFTkSuQmCC\n",
       "\" style=\"display:inline;vertical-align:middle;\" /></a></td></tr>\n",
       "<tr><td>12</td><td>Variable</td><td></td><td><a class=\"ProveItLink\" href=\"../../../../../../__pv_it/612356038763a16ceac85a062629d016c986635c0/expr.ipynb\"><img src=\"data:image/png;base64,iVBORw0KGgoAAAANSUhEUgAAAAoAAAASBAMAAACQmVJ4AAAALVBMVEX////MzMyqqqpmZmYyMjK6\n",
       "uroiIiJ2dnZERESIiIju7u5UVFTc3NyYmJgAAAAeP2GyAAAAAXRSTlMAQObYZgAAAE1JREFUCNdj\n",
       "YGBg4H3DACI3MGADK2csAJIFbBcYGDgX8AFJHoa4AyCJMrC0M4jgegQimV6BSOYEEMlmwMDAeuCc\n",
       "AAODnEEzkL+iGKgTAMbaDxjCuhcwAAAAAElFTkSuQmCC\n",
       "\" style=\"display:inline;vertical-align:middle;\" /></a></td></tr>\n",
       "<tr><td>13</td><td>Variable</td><td></td><td><a class=\"ProveItLink\" href=\"../../../../../../__pv_it/1a7356cf6caf039e07a5436d90e972cbb5e92b0a0/expr.ipynb\"><img src=\"data:image/png;base64,iVBORw0KGgoAAAANSUhEUgAAAAoAAAAOBAMAAADkjZCYAAAAMFBMVEX///9ERETc3NyIiIjMzMyY\n",
       "mJh2dna6urqqqqpmZmYyMjIiIiIQEBBUVFTu7u4AAAD6+w4kAAAAAXRSTlMAQObYZgAAAFBJREFU\n",
       "CNdj4LuzgQEIuCaASP4GEFn/AERmgQiGZQyR3xn4vj97/oOB44sBUIDzdwGQ5La7DVT03oG/QYEh\n",
       "nuF9QQLDRQZ+BQOGpQzM0x4AAD+VFjuIiDKbAAAAAElFTkSuQmCC\n",
       "\" style=\"display:inline;vertical-align:middle;\" /></a></td></tr>\n",
       "</table>\n"
      ],
      "text/plain": [
       "0. (k in Naturals , 1 <= i < j <= k)\n",
       "   core type: ExprTuple\n",
       "   sub-expressions: 1, 2\n",
       "1. k in Naturals\n",
       "   core type: Operation\n",
       "   operator: 3\n",
       "   operands: 4\n",
       "2. 1 <= i < j <= k\n",
       "   core type: Operation\n",
       "   operators: 5\n",
       "   operands: 6\n",
       "3. in\n",
       "   core type: Literal\n",
       "   sub-expressions: \n",
       "4. (k , Naturals)\n",
       "   core type: ExprTuple\n",
       "   sub-expressions: 13, 7\n",
       "5. (<= , < , <=)\n",
       "   core type: ExprTuple\n",
       "   sub-expressions: 9, 8, 9\n",
       "6. (1 , i , j , k)\n",
       "   core type: ExprTuple\n",
       "   sub-expressions: 10, 11, 12, 13\n",
       "7. Naturals\n",
       "   core type: Literal\n",
       "   sub-expressions: \n",
       "8. <\n",
       "   core type: Literal\n",
       "   sub-expressions: \n",
       "9. <=\n",
       "   core type: Literal\n",
       "   sub-expressions: \n",
       "10. 1\n",
       "    core type: Literal\n",
       "    sub-expressions: \n",
       "11. i\n",
       "    core type: Variable\n",
       "    sub-expressions: \n",
       "12. j\n",
       "    core type: Variable\n",
       "    sub-expressions: \n",
       "13. k\n",
       "    core type: Variable\n",
       "    sub-expressions: "
      ]
     },
     "execution_count": 4,
     "metadata": {},
     "output_type": "execute_result"
    }
   ],
   "source": [
    "# display the expression information\n",
    "expr.exprInfo()"
   ]
  },
  {
   "cell_type": "code",
   "execution_count": null,
   "metadata": {},
   "outputs": [],
   "source": []
  }
 ],
 "metadata": {
  "kernelspec": {
   "display_name": "Python 3",
   "language": "python",
   "name": "python3"
  }
 },
 "nbformat": 4,
 "nbformat_minor": 0
}
