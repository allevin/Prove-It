{
 "cells": [
  {
   "cell_type": "markdown",
   "metadata": {},
   "source": [
    "Expression of type <a class=\"ProveItLink\" href=\"../../../../../../../../doc/html/api/proveit.ExprTuple.html\">ExprTuple</a>\n",
    "=======================\n",
    "# from context <a class=\"ProveItLink\" href=\"../../_context_.ipynb\">proveit.logic.boolean.quantification.existential</a>"
   ]
  },
  {
   "cell_type": "code",
   "execution_count": 1,
   "metadata": {},
   "outputs": [],
   "source": [
    "# import Expression classes needed to build the expression\n",
    "from proveit import ExprTuple\n",
    "from proveit._common_ import i\n",
    "from proveit.logic import InSet\n",
    "from proveit.number import Naturals"
   ]
  },
  {
   "cell_type": "code",
   "execution_count": 2,
   "metadata": {},
   "outputs": [
    {
     "data": {
      "text/html": [
       "<strong id=\"expr\">expr:</strong> <a class=\"ProveItLink\" href=\"expr.ipynb\"><img src=\"data:image/png;base64,iVBORw0KGgoAAAANSUhEUgAAADsAAAAVBAMAAAAKrYvGAAAAMFBMVEX////c3NwiIiJERESqqqqY\n",
       "mJh2dnZmZmYQEBDu7u4yMjJUVFTMzMyIiIi6uroAAAAs73DqAAAAAXRSTlMAQObYZgAAATdJREFU\n",
       "KM9jYCAA+C7gkokDEaeB2ApFeNZnqwkMRZ8c2A8AOSuB2BZVmymPAQPDBwaGBQwMvFjM3nTgLgND\n",
       "AwNDGAMDxwS4KOctJaUFIMa+ldwHQNIzGBheITSdioQy9pzmXAmSZnZgKAPqSk8ACTJawtTtYblw\n",
       "GCTNVsCwFEjyfQAJMgvApRnqWC8ApVkWMPQxMBxhVwAJTmZASHNP2AOU5mtg+MfAMIED7PoXSkpQ\n",
       "p+1h4NwwCyjN8wEkzeA/ARY+MN0Mx3gg0i1A7mpOkOAkZGlWBwOw4aZAJ/9jAwlyByBJMyQCpVkX\n",
       "MKQDHfhBFBwqejBpOyBmXwD22CNQkEMCVqoGIvvqB1AnJ1Ca6wEDhwAi2LwXQVwOA8BAZU3AnRRy\n",
       "oRGKHYDMZ5DGKc0NspcRZ2K6w8AAAMMkS9lKpUNbAAAAAElFTkSuQmCC\n",
       "\" style=\"display:inline;vertical-align:middle;\" /></a><br>"
      ],
      "text/plain": [
       "expr: (i in Naturals)"
      ]
     },
     "execution_count": 2,
     "metadata": {},
     "output_type": "execute_result"
    }
   ],
   "source": [
    "# build up the expression from sub-expressions\n",
    "expr = ExprTuple(InSet(i, Naturals))"
   ]
  },
  {
   "cell_type": "code",
   "execution_count": 3,
   "metadata": {},
   "outputs": [
    {
     "name": "stdout",
     "output_type": "stream",
     "text": [
      "Passed sanity check: built 'expr' is the same as the stored Expression.\n"
     ]
    }
   ],
   "source": [
    "# check that the built expression is the same as the stored expression\n",
    "%check_expr"
   ]
  },
  {
   "cell_type": "code",
   "execution_count": 4,
   "metadata": {},
   "outputs": [
    {
     "data": {
      "text/html": [
       "<table><tr><th>&nbsp;</th><th>core type</th><th>sub-expressions</th><th>expression</th></tr>\n",
       "<tr><td>0</td><td>ExprTuple</td><td>1</td><td><a class=\"ProveItLink\" href=\"expr.ipynb\"><img src=\"data:image/png;base64,iVBORw0KGgoAAAANSUhEUgAAADsAAAAVBAMAAAAKrYvGAAAAMFBMVEX////c3NwiIiJERESqqqqY\n",
       "mJh2dnZmZmYQEBDu7u4yMjJUVFTMzMyIiIi6uroAAAAs73DqAAAAAXRSTlMAQObYZgAAATdJREFU\n",
       "KM9jYCAA+C7gkokDEaeB2ApFeNZnqwkMRZ8c2A8AOSuB2BZVmymPAQPDBwaGBQwMvFjM3nTgLgND\n",
       "AwNDGAMDxwS4KOctJaUFIMa+ldwHQNIzGBheITSdioQy9pzmXAmSZnZgKAPqSk8ACTJawtTtYblw\n",
       "GCTNVsCwFEjyfQAJMgvApRnqWC8ApVkWMPQxMBxhVwAJTmZASHNP2AOU5mtg+MfAMIED7PoXSkpQ\n",
       "p+1h4NwwCyjN8wEkzeA/ARY+MN0Mx3gg0i1A7mpOkOAkZGlWBwOw4aZAJ/9jAwlyByBJMyQCpVkX\n",
       "MKQDHfhBFBwqejBpOyBmXwD22CNQkEMCVqoGIvvqB1AnJ1Ca6wEDhwAi2LwXQVwOA8BAZU3AnRRy\n",
       "oRGKHYDMZ5DGKc0NspcRZ2K6w8AAAMMkS9lKpUNbAAAAAElFTkSuQmCC\n",
       "\" style=\"display:inline;vertical-align:middle;\" /></a></td></tr>\n",
       "<tr><td>1</td><td>Operation</td><td>operator:&nbsp;2<br>operands:&nbsp;3<br></td><td><a class=\"ProveItLink\" href=\"../9254222cf4dab0553daae545951b183c55ff995e0/expr.ipynb\"><img src=\"data:image/png;base64,iVBORw0KGgoAAAANSUhEUgAAAC8AAAAPBAMAAACGpYupAAAAMFBMVEX///+YmJjc3NxUVFQQEBAi\n",
       "IiKqqqrMzMy6urpmZmZ2dnbu7u6IiIgyMjJEREQAAADwIkbYAAAAAXRSTlMAQObYZgAAAMlJREFU\n",
       "GNNjYGB4y4AM9v57u4Fh6tcEIPMNigTDQ/YHDAwfGDCBacEZBgYHBJ/7bGjoBRDD4jZzAbJErTSU\n",
       "YV7MfRskwb1yAYjL9BqmwpztQB1IgosDbBGfAlyCYQbjAaBEGWcAiLuPASHBvMEcKLGB5QCI2xIa\n",
       "CrXcnIHbYC/I8vwNIG4xkg6GKnaQxGVuEHcrsgRjAtCPTD+4QFxmASQJhkVACbYPimD/RcAkXgAx\n",
       "J8i2N2DLGXSnQ8R7vwBVc19ACqPkq6HIXACjfjUjYoOmLAAAAABJRU5ErkJggg==\n",
       "\" style=\"display:inline;vertical-align:middle;\" /></a></td></tr>\n",
       "<tr><td>2</td><td>Literal</td><td></td><td><a class=\"ProveItLink\" href=\"../../../../../set_theory/membership/__pv_it/088cbc857536a28d4119ad9639a84270ccb0545d0/expr.ipynb\"><img src=\"data:image/png;base64,iVBORw0KGgoAAAANSUhEUgAAAAwAAAAMBAMAAACkW0HUAAAALVBMVEX///+qqqpmZmZUVFQQEBC6\n",
       "urpERETc3NyYmJjMzMwiIiIyMjKIiIju7u4AAACYsrA9AAAAAXRSTlMAQObYZgAAADxJREFUCNdj\n",
       "YOA9vWrVBgaG2b0MQMCeCyIZ2ArA1DUwyRCyahVIyWQI7xaEYm4AU7xLIdxqTQgtvGvVBgCkcQ7e\n",
       "geM/tQAAAABJRU5ErkJggg==\n",
       "\" style=\"display:inline;vertical-align:middle;\" /></a></td></tr>\n",
       "<tr><td>3</td><td>ExprTuple</td><td>4, 5</td><td><a class=\"ProveItLink\" href=\"../044456d6633cfc00a0fe892a67c7546b35c8d4bf0/expr.ipynb\"><img src=\"data:image/png;base64,iVBORw0KGgoAAAANSUhEUgAAACsAAAAVBAMAAAAtAwouAAAAMFBMVEX////c3NwiIiJERESqqqqY\n",
       "mJh2dnZmZmYQEBDu7u4yMjJUVFTMzMyIiIi6uroAAAAs73DqAAAAAXRSTlMAQObYZgAAAQxJREFU\n",
       "GNN10TFLw1AQwPF/sWnyTBpcnFz8CF26FJR8A50cRadOBXFwlA7O8sbSxSwOwUWciwQUly75AArq\n",
       "6BR1cSreS170qRi4R+7HcZd7gX+euPgtu+aYSwyqdPo+0By+JX4uSSaxUZf1ox6UkELX6XGVP8AY\n",
       "diDQ33ydhbnhCbw4s2ZzlRleSjgCNdyz3C5uDHcOOJczLi1z7BXC7ZRTuPXXGw71TDgeswAdFA2r\n",
       "y6lwVBpmSzfMXVTziaQX6ou9pFc16UNr0UFZZl/YSxnK4HKVMzN1U8JPqw98NldSMHmVzT6kUgkv\n",
       "PxKs1H2fnG1lec9uuO3wyF7sTzZ9WKteu05xaPq2/vy0e/gEmhRFqurJy3oAAAAASUVORK5CYII=\n",
       "\" style=\"display:inline;vertical-align:middle;\" /></a></td></tr>\n",
       "<tr><td>4</td><td>Variable</td><td></td><td><a class=\"ProveItLink\" href=\"../../../../../../__pv_it/4cc43b4ba7e5ae9f0f864f240ab9735c1604d8200/expr.ipynb\"><img src=\"data:image/png;base64,iVBORw0KGgoAAAANSUhEUgAAAAcAAAAOBAMAAAARcxsoAAAAMFBMVEX///+YmJjc3NxUVFQQEBAi\n",
       "IiKqqqrMzMy6urpmZmZ2dnbu7u6IiIgyMjJEREQAAADwIkbYAAAAAXRSTlMAQObYZgAAADtJREFU\n",
       "CNdjYGB4ywAEbxjQAffKBQwMXBwfGBjKOAMYGDawHAAK5m8AEpe5GRiYfnAxMLB9UARpPcAAAFud\n",
       "DDeiFOVzAAAAAElFTkSuQmCC\n",
       "\" style=\"display:inline;vertical-align:middle;\" /></a></td></tr>\n",
       "<tr><td>5</td><td>Literal</td><td></td><td><a class=\"ProveItLink\" href=\"../../../../../../number/sets/integer/__pv_it/e5d9bd86b06b357eee742ad868997123619e09700/expr.ipynb\"><img src=\"data:image/png;base64,iVBORw0KGgoAAAANSUhEUgAAAA8AAAAOBAMAAAACpFvcAAAAMFBMVEX////c3Nx2dna6uroQEBCI\n",
       "iIhUVFTMzMyYmJiqqqoiIiJmZmZEREQyMjLu7u4AAADjlg78AAAAAXRSTlMAQObYZgAAAGBJREFU\n",
       "CNdjePvn7AOGXb8mMDCcYD/AwPCBgYEhqyCUgcEByEi+x1YAZqSX8d2DMDgDaiAMhs0cARAG24N0\n",
       "CIMv4S2EwVDEDmVwTDgAYTAoghiHgZj7AgOD7Rcgj+8CAwA9oh2B0HK+MAAAAABJRU5ErkJggg==\n",
       "\" style=\"display:inline;vertical-align:middle;\" /></a></td></tr>\n",
       "</table>\n"
      ],
      "text/plain": [
       "0. (i in Naturals)\n",
       "   core type: ExprTuple\n",
       "   sub-expressions: 1\n",
       "1. i in Naturals\n",
       "   core type: Operation\n",
       "   operator: 2\n",
       "   operands: 3\n",
       "2. in\n",
       "   core type: Literal\n",
       "   sub-expressions: \n",
       "3. (i , Naturals)\n",
       "   core type: ExprTuple\n",
       "   sub-expressions: 4, 5\n",
       "4. i\n",
       "   core type: Variable\n",
       "   sub-expressions: \n",
       "5. Naturals\n",
       "   core type: Literal\n",
       "   sub-expressions: "
      ]
     },
     "execution_count": 4,
     "metadata": {},
     "output_type": "execute_result"
    }
   ],
   "source": [
    "# display the expression information\n",
    "expr.exprInfo()"
   ]
  },
  {
   "cell_type": "code",
   "execution_count": null,
   "metadata": {},
   "outputs": [],
   "source": []
  }
 ],
 "metadata": {
  "kernelspec": {
   "display_name": "Python 3",
   "language": "python",
   "name": "python3"
  }
 },
 "nbformat": 4,
 "nbformat_minor": 0
}
