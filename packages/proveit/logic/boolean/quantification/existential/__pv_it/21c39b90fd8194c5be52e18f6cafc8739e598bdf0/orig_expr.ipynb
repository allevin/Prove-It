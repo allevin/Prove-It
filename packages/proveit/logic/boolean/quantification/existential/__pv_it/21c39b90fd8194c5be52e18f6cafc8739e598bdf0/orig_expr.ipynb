{
 "cells": [
  {
   "cell_type": "markdown",
   "metadata": {},
   "source": [
    "Temporary notebook for <a class=\"ProveItLink\" href=\"../../_theorems_.ipynb#existsMoreGenerally\">existsMoreGenerally</a> of type <a href=\"../../../../../../../../doc/html/api/proveit.logic.Forall.html\">Forall</a>\n",
    "=======================\n",
    "# a not-yet-official Theorem from context <a class=\"ProveItLink\" href=\"../../_context_.ipynb\">proveit.logic.boolean.quantification.existential</a>"
   ]
  },
  {
   "cell_type": "code",
   "execution_count": null,
   "metadata": {},
   "outputs": [],
   "source": [
    "# import Expression classes needed to build the expression\n",
    "from proveit._common_ import P, i, j, k, l\n",
	"from proveit.logic import Forall, Implies\n",
	"from proveit.logic._common_ import iterQ1k\n",
	"from proveit.logic.boolean.quantification.existential._common_ import exists_Px_Q1i_Qjk, generalExists_Px\n",
	"from proveit.number import Less, LessEq, LesserSequence, Naturals, NaturalsPos, one"
   ]
  },
  {
   "cell_type": "code",
   "execution_count": null,
   "metadata": {},
   "outputs": [],
   "source": [
    "# build up the expression from sub-expressions\n",
    "subExpr1 = []\n",
	"expr = Forall([i, j, k], Forall([l], Forall([P, iterQ1k], Implies(generalExists_Px, exists_Px_Q1i_Qjk).withWrappingAt(2), conditions = subExpr1), domain = NaturalsPos, conditions = subExpr1), domain = Naturals, conditions = [LesserSequence([LessEq._operator_, Less._operator_, LessEq._operator_], [one, i, j, k])])"
   ]
  },
  {
   "cell_type": "code",
   "execution_count": null,
   "metadata": {},
   "outputs": [],
   "source": [
    "# check that the built expression is the same as the stored expression\n",
    "%check_expr"
   ]
  },
  {
   "cell_type": "code",
   "execution_count": null,
   "metadata": {},
   "outputs": [],
   "source": [
    "# display the expression information\n",
    "expr.exprInfo()"
   ]
  },
  {
   "cell_type": "code",
   "execution_count": null,
   "metadata": {},
   "outputs": [],
   "source": []
  }
 ],
 "metadata": {
  "kernelspec": {
   "display_name": "Python 3",
   "language": "python",
   "name": "python3"
  }
 },
 "nbformat": 4,
 "nbformat_minor": 0
}
