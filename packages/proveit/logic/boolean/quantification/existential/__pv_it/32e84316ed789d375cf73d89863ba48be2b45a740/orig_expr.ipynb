{
 "cells": [
  {
   "cell_type": "markdown",
   "metadata": {},
   "source": [
    "Temporary notebook for <a class=\"ProveItLink\" href=\"../../_theorems_.ipynb#existenceByExample\">existenceByExample</a> of type <a href=\"../../../../../../../../doc/html/api/proveit.logic.Forall.html\">Forall</a>\n",
    "=======================\n",
    "# a not-yet-official Theorem from context <a class=\"ProveItLink\" href=\"../../_context_.ipynb\">proveit.logic.boolean.quantification.existential</a>"
   ]
  },
  {
   "cell_type": "code",
   "execution_count": null,
   "metadata": {},
   "outputs": [],
   "source": [
    "# import Expression classes needed to build the expression\n",
    "from proveit._common_ import P, k, l\n",
	"from proveit.logic import Forall, Implies\n",
	"from proveit.logic._common_ import P_yIter1l, iterQ1k, iterQ1k_yIter1l, yIter1l\n",
	"from proveit.logic.boolean.quantification.existential._common_ import generalExists_Px\n",
	"from proveit.number import Naturals, NaturalsPos"
   ]
  },
  {
   "cell_type": "code",
   "execution_count": null,
   "metadata": {},
   "outputs": [],
   "source": [
    "# build up the expression from sub-expressions\n",
    "subExpr1 = []\n",
	"expr = Forall([k, l], Forall([P, iterQ1k], Forall([yIter1l], Implies(P_yIter1l, generalExists_Px).withWrappingAt(2), conditions = [iterQ1k_yIter1l]), conditions = subExpr1), domains = [Naturals, NaturalsPos], conditions = subExpr1)"
   ]
  },
  {
   "cell_type": "code",
   "execution_count": null,
   "metadata": {},
   "outputs": [],
   "source": [
    "# check that the built expression is the same as the stored expression\n",
    "%check_expr"
   ]
  },
  {
   "cell_type": "code",
   "execution_count": null,
   "metadata": {},
   "outputs": [],
   "source": [
    "# display the expression information\n",
    "expr.exprInfo()"
   ]
  },
  {
   "cell_type": "code",
   "execution_count": null,
   "metadata": {},
   "outputs": [],
   "source": []
  }
 ],
 "metadata": {
  "kernelspec": {
   "display_name": "Python 3",
   "language": "python",
   "name": "python3"
  }
 },
 "nbformat": 4,
 "nbformat_minor": 0
}
