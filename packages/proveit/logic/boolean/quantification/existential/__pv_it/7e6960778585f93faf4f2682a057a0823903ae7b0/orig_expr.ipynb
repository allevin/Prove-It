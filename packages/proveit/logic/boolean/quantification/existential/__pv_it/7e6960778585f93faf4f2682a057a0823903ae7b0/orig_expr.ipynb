{
 "cells": [
  {
   "cell_type": "markdown",
   "metadata": {},
   "source": [
    "Temporary notebook for <a class=\"ProveItLink\" href=\"../../_common_.ipynb#generalExists_notPy\">generalExists_notPy</a> of type <a href=\"../../../../../../../../doc/html/api/proveit.logic.Exists.html\">Exists</a>\n",
    "=======================\n",
    "# a not-yet-official Common Expression from context <a class=\"ProveItLink\" href=\"../../_context_.ipynb\">proveit.logic.boolean.quantification.existential</a>"
   ]
  },
  {
   "cell_type": "code",
   "execution_count": null,
   "metadata": {},
   "outputs": [],
   "source": [
    "# import Expression classes needed to build the expression\n",
    "from proveit.logic import Exists, Not\n",
	"from proveit.logic._common_ import P_yIter1l, iterQ1k_yIter1l, yIter1l"
   ]
  },
  {
   "cell_type": "code",
   "execution_count": null,
   "metadata": {},
   "outputs": [],
   "source": [
    "# build up the expression from sub-expressions\n",
    "expr = Exists([yIter1l], Not(P_yIter1l), conditions = [iterQ1k_yIter1l])"
   ]
  },
  {
   "cell_type": "code",
   "execution_count": null,
   "metadata": {},
   "outputs": [],
   "source": [
    "# check that the built expression is the same as the stored expression\n",
    "%check_expr"
   ]
  },
  {
   "cell_type": "code",
   "execution_count": null,
   "metadata": {},
   "outputs": [],
   "source": [
    "# display the expression information\n",
    "expr.exprInfo()"
   ]
  },
  {
   "cell_type": "code",
   "execution_count": null,
   "metadata": {},
   "outputs": [],
   "source": []
  }
 ],
 "metadata": {
  "kernelspec": {
   "display_name": "Python 3",
   "language": "python",
   "name": "python3"
  }
 },
 "nbformat": 4,
 "nbformat_minor": 0
}
