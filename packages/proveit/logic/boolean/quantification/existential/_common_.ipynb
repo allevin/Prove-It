{
 "cells": [
  {
   "cell_type": "markdown",
   "metadata": {},
   "source": [
    "Common expressions for context <a href=\"_context_.ipynb\" class=\"ProveItLink\">proveit.logic.boolean.quantification.existential</a>\n",
    "========"
   ]
  },
  {
   "cell_type": "code",
   "execution_count": 1,
   "metadata": {},
   "outputs": [
    {
     "name": "stdout",
     "output_type": "stream",
     "text": [
      "Defining common sub-expressions for context 'proveit.logic.boolean.quantification.existential'\n",
      "Subsequent end-of-cell assignments will define common sub-expressions\n",
      "%end_common will finalize the definitions\n"
     ]
    }
   ],
   "source": [
    "from proveit.logic import Exists, NotExists, Not, inBool, Equals\n",
    "from proveit.number import Naturals, NaturalsPos, Len\n",
    "from proveit._common_ import m, n, A, B, P, S, QQ, xx\n",
    "from proveit.logic._common_ import xIter1l, yIter1l, yIter1n, zIter1l\n",
    "from proveit.logic._common_ import P_xIter1l, P_xIter1l_yIter1n, P_yIter1l\n",
    "from proveit.logic._common_ import iterQ1k, iterQ1k_xIter1l, iterQ1k_zIter1l, iterQ1i_xIter1l, iterQjk_xIter1l, iterQ1k_yIter1l\n",
    "from proveit.logic._common_ import R_zIter1l, iterR1m_xIter1l_yIter1n\n",
    "%begin common"
   ]
  },
  {
   "cell_type": "code",
   "execution_count": 2,
   "metadata": {},
   "outputs": [
    {
     "data": {
      "text/html": [
       "<strong id=\"generalExists_Px\">generalExists_Px:</strong> <a class=\"ProveItLink\" href=\"__pv_it/97431012ed5e6c48455afb9b1bf52f6a601681910/expr.ipynb\"><img src=\"data:image/png;base64,iVBORw0KGgoAAAANSUhEUgAAAbYAAAAXBAMAAACVEHe8AAAAMFBMVEX///+YmJiqqqqIiIi6urrM\n",
       "zMxmZmYyMjIiIiJ2dnZERETu7u4QEBBUVFTc3NwAAAC9dFJmAAAAAXRSTlMAQObYZgAABD1JREFU\n",
       "WMPdWFtoE0EUve122zSb3S6IaL+MCPqlBv0VG/CjUnwERKofGvHxoSC0WlEpaCgoxWoNWiqiaBRF\n",
       "EdGIoCJKq/ihIjagRal9rIjUd62tr77izM7M7myy2W1QJDqQmTt37tk7Z553AvAfJ+UTSv9CRwsC\n",
       "WZnnBQHkrq6uznjOMhJ6Rrued2NpVZbIDaTwark7XSVVABdx/2qzBBblPrdwFGA2+gmBLIF50Zzn\n",
       "Vob2zZQ1AL5s943UmvPcLqNfjx+gHJXXdmwrP+Bszpmc/g1uSsi53e/U+NoZm29I39EMDKFyIyrr\n",
       "oK2hzHFt8ibNUFxfX39wHNyCpLi6Y3871bx1QaxMVXBYJeqMFVm7+BNgBVqSUI2OdBWSgaQKYiwj\n",
       "jppIPWgFzxj3vJHv5T/UpMtBXpM5FQdT5oLDet3cNbE7YPRo8wks3EMfBCWpTQBxcySzT2ICC5G8\n",
       "KEtus1HRRz6d73ZwSVXWOoeFaW7urtPSO0yFQf3sG9E9R5yOxxGyHtEJmx03KYnmumR4nKB2K1UO\n",
       "C5fcsDLdzCURnps86sqNmFRz3KSOvUe2pdndPr9xe4jnVoyBJWO6wmdtt0HNtS4XDgutYO/R0LLr\n",
       "LLyGttxFnKK+ARA0J27MZIxbk57Q0m7k+4XVck/BaF+C5+b7gt19BhlNQSVrl+MZUIstaobVT4gq\n",
       "sPdItSh6TJjXm55OAbQM9g3CBzJvkj4SOIvzAjUR8d02iXJ7BWWz6mDlY+shHxC+vPGL1SY3fdhP\n",
       "JsTjGu45bT+uZUBVWoMngoVnpOe2Hqm2UsXsyfXGBg7toL5Y56BSQ7i14LnDmfSDF6iJENMRRfgO\n",
       "iNOPNKZMsb6Tz3LccL0tBB5EZyZr92gZUCncKHY6XjoJyOBR13pDlJu0KfmE6tHJJ9Qf69weJNxu\n",
       "4ZG6hTolPWRCm2aYePGKrmGBZfQ+vEzztNMXUVRoNbkVfb19pnCA0Klg7ancDFSFNXal2LV43mIZ\n",
       "PBKtT7ewJp/pRd9vS9IfQaaFb7kRc6F90DSEY5RGUHZBb1ypxdku8efSmNevxExu4o/1nh6VcLsB\n",
       "pB1X7FGlnL5XY9iGBQmQIqZH6NUIEmUa0b4zIt200Nfgpqaf/qbYIqCzi91R8oXJ5/zYk9gPYU0c\n",
       "w1k/dJzat4V9lDD8eH93bT7h5omTdlyxR63n9GGVYe+8xwRNjxBWCRJlKtGWAhQGU7tuvHGUI98C\n",
       "LtzkQ+YNyVIjb0ElOWiJQuSBzYSbwOJFXLFFVfF6lWILtuK9NofzyHWTSk+N1xeXPlrfrOnnf0os\n",
       "0W2tLnvgh9VGjUqeKxZuQnIMxHloXCSq0St2KBy4GHpRo1hBrUUMbnIeRc1ihFKDahO4KNk94ASb\n",
       "SD5tEAvnW7gpj9h8TXVBybw+j2Fl7TA+6lS7tcSkdRok/uY7Kt1Znssb55hT40SXOPtP/IPzC2yr\n",
       "sFxWJCo5AAAAAElFTkSuQmCC\n",
       "\" style=\"display:inline;vertical-align:middle;\" /></a><br>"
      ],
      "text/plain": [
       "generalExists_Px: exists_{x_1,...,x_l | Q_1(x_1,...,x_l) ,  ...  , Q_k(x_1,...,x_l)} P(x_1,...,x_l)"
      ]
     },
     "execution_count": 2,
     "metadata": {},
     "output_type": "execute_result"
    }
   ],
   "source": [
    "generalExists_Px = Exists(xIter1l, P_xIter1l, conditions=[iterQ1k_xIter1l])"
   ]
  },
  {
   "cell_type": "code",
   "execution_count": 3,
   "metadata": {},
   "outputs": [
    {
     "name": "stdout",
     "output_type": "stream",
     "text": [
      "WARNING: Duplicate of generalExists_Px\n"
     ]
    },
    {
     "data": {
      "text/html": [
       "<strong id=\"generalExists_Py\">generalExists_Py:</strong> <a class=\"ProveItLink\" href=\"__pv_it/ed5be7b22719e4d58318a46e0c948997bf8559560/expr.ipynb\"><img src=\"data:image/png;base64,iVBORw0KGgoAAAANSUhEUgAAAa4AAAAXBAMAAAChabagAAAAMFBMVEX////MzMxmZmaIiIiqqqqY\n",
       "mJi6uroyMjIiIiJ2dnZERETu7u4QEBBUVFTc3NwAAACMxkeOAAAAAXRSTlMAQObYZgAABGZJREFU\n",
       "WMPdV12IG1UU/ia7+dtJpkEfalU2lYIPPrjBnwpizYCIfVB3fBJfbMAHQVTyYhGt7tKXphRtWEQQ\n",
       "xUYUfJF2EKqlVHYFFf83RZBVu7sjCltFbER3t+12E8+5904yk5lMGgUJDmTm5Lvnm3u/e8859w7w\n",
       "P72M3+ka/mE+MohzvARkFxcXz9jDKWZkeXNxYYktrT4Q8Tr5GHOGdJW2lIF3eHDJwWY+OeS68lVg\n",
       "kn64eTBevDrcuoqUKHu2k/HFYDx9brh1HaPfsgkkKB7T+yykpqO8PR5v/XNdRi6yeTSq8cfoV5uu\n",
       "sU5Tf5GeMYqrmUwTk40omsdjBulKpXK4v66EWuDbKl8pPb9EE7Rqd2x0qEY1mrvNfccF4CoOw6RF\n",
       "oXWuiYkaro4IPuHxwQbZ91zueo3Jx71HcXJNmrU+jJe7/nuoY32o6ZKq85uvzLzORqYErXCkjMOF\n",
       "KxZ6z6T0SHAkPj6YrlEKCuO8NAt9GO93xWWHirv6pX1Zdbrh1nsWOl/QWznsjuAJjzQvcH4wXbPc\n",
       "Ucu+LE7Wn38eKo726+20kjPt0aW1nEQLUbqkB8VsR1dioap/HMgpDyh1HeFtvyUUZYAnDuKU1ZM0\n",
       "4l9QDxVzPbhtUG1X+e2qIUOVJH4J6fVIXdJji+OJwxPJRnwVWf+uLkGvrnmTZwX4AdgKfXoKeyy2\n",
       "Q0kJ/9HHpfK8lsO5CmSBne1L9k5ofB3JC1KXzpjtNcRNelzLfx9Uun4+V8s2tdf8sSXBpzy6eL7T\n",
       "m9j2NXdt3H8Ryw7boSSt7MMVNVsWikO5Etxq8aTJ7cudZ84Z4xKKa1LXLMWnft5riJv0uF3W+STX\n",
       "eRtFMzOHVFfOCPANry7qKPMH8CJwH0XaX/hS2KGkbl2SOkojHK334ApwLKd06Te0vnGDmxNt96fH\n",
       "NqSuU01q/ZyNmjL0ecf1eJMJe9s7uz1bD+gS4JxH19Q135cmCmI8j3G50jeDulxSwr8RKGrMlC2h\n",
       "XAFS4vLL/RctbCLH25fMryeD+6vjenyYa5+j+LQC6pR0rTjGs1ix+eYI0Kh5dOX3l17g5KHxnKCK\n",
       "14j9KexQUrxqPK9AmyxFTb23i/IojEs+AvyV3v9Q97AJmGwYHMtClxWsGVAeeoPmPd2uWSsH5nOs\n",
       "K29pTeQdvlkCdI/GMgPOHFi3TTGelA3j6X0yJkNJsZK2qkCHLEXNPHwcOIQQLvswyJquD3x4UKZU\n",
       "z35Cp5ypHT11SY/vTM/eqd/I4c5x2KFYAsyW/EeE5ZvqYjwjJt51KJNELIWRkrKzTreC+uguMm5B\n",
       "GDcuwW/JLAcOo3XEKgfdMjISrPG8QB2PpXbGrsbWoN3xErR2immOAFPH/bqKFAxXfmZCr6FoTZSE\n",
       "HUqiQ8V4u9txl3prkppOIow7LsFDVthZ5qeBvrPbRwLjmeeczsQqS4CxO/26fvtIGXdj5e0l9CbV\n",
       "fcvoUpfSO6kgWmFcBe5wkP3vvoSCXcWjv1PSUV/uD0R39uq/H+/fN4DWptLg24EAAAAASUVORK5C\n",
       "YII=\n",
       "\" style=\"display:inline;vertical-align:middle;\" /></a><br>"
      ],
      "text/plain": [
       "generalExists_Py: exists_{y_1,...,y_l | Q_1(y_1,...,y_l) ,  ...  , Q_k(y_1,...,y_l)} P(y_1,...,y_l)"
      ]
     },
     "execution_count": 3,
     "metadata": {},
     "output_type": "execute_result"
    }
   ],
   "source": [
    "generalExists_Py = Exists(yIter1l, P_yIter1l, conditions=[iterQ1k_yIter1l])"
   ]
  },
  {
   "cell_type": "code",
   "execution_count": 4,
   "metadata": {},
   "outputs": [
    {
     "data": {
      "text/html": [
       "<strong id=\"generalExists_Rz\">generalExists_Rz:</strong> <a class=\"ProveItLink\" href=\"__pv_it/010cb64c566229974367ad13159bcd096ba31aa60/expr.ipynb\"><img src=\"data:image/png;base64,iVBORw0KGgoAAAANSUhEUgAAAagAAAAXBAMAAACsd8bnAAAAMFBMVEX///+YmJjMzMyqqqqIiIhm\n",
       "Zma6uroyMjIiIiJ2dnZERETu7u4QEBBUVFTc3NwAAAApXBupAAAAAXRSTlMAQObYZgAABCJJREFU\n",
       "WMPdV11oFFcUPjs72WR3spPJU5vSh0VaRAvd9UHMgyV5SPGtSqtW2kr2wYcQYokiRQlkfVASSEyE\n",
       "6kPpQ7ctpC8lGUHoj5HE+lCNW3eRtkpj3HloCab+JUZNTbLjOffuz9zZZDITSll6Ye6ce/Z+O+e7\n",
       "57tn7gD8H5v6AFulB3nAw1xfHCA8NTV1W69EJnJ2eeqbZrKkjBfcu/wWMioyP3VJUH4mo9rToldX\n",
       "NKkopimLYoIWTzDf6UomtTMCkMALrnmCKeOVTOpb3E3LeA90Yjfz3Bh1VKE6Mqxw9l+vm5Qacfw5\n",
       "9i9AkVAjFYoq0lPafHLCEVZrmvtYWYGzEOzt7R1ck1Qgn9kdvb/kI7rrDNhkd5w/2n8DPEGl5ZaP\n",
       "WJTVGm6UL+tf3gWweXXYK/X1J0HJYja3ucxUiN+2D8OPT7mZdAYE4+LYP2EoI3FPUHkR/HMsB9zx\n",
       "G8Drt5yAYWTdhvcOT6T8z1E7C9xsXmO3dorjJmTy8LgnaGicKRBLOyM1TSJsdFL1MSY9rJqeSI0t\n",
       "YmfqriA3xEAJVbcIXqB1GVBLpAKXYA1SHahSOGQl1fbkh7IFDAx+eEYg9QW92U0WUy1eK2GKTvHd\n",
       "EqTo6nLgBRrVwPcPA1Dp2B4BvyMp/09UY3JW+S314GMnbW/0K4mMQCqN/y6ZbN5GHK6E4U5sB8XS\n",
       "9JiifMRst1B8TVXNA2Y4RIXiOsAeToqUooDVYN2rBlTtkugd9VKBlB48DZuu28QNn4F0yEKKkoRr\n",
       "TvPowSthmHOjxkO3rE+OJ/omuIeOYK2YV3EcxALQlEql+xgphTb12HGLwTr/Uiq1oMtJtq+qqaTr\n",
       "oA7haMD2lBkU81dWUrg2tXNs3lu0M1fCkDMUKSNF2ykdga3gFqp8YP4K8D5JMYAxX1Zbl3VOKo1L\n",
       "O4rBKxPADRjNkUb/MichRPr9pPCHB3W52f6UwCTKe9xCKvHGH/HWZhZN+yoY5qRd0y4eMucuDqGW\n",
       "4D3wDMVWSinJL1BeaD4uynxD8ZiEyVtIo7YGQO2GaV3toq4bmvrNnJq0kIqejJ+a5Uv8fQkD0wZH\n",
       "YGcw5wzOaRDc0sLemiwqqe9Axg3U1hoEUr7yIqEVjDEZ1VooQdMXsocpWGkWooaUo25W7br4LFI4\n",
       "8nJ93O55pscYqRq9iMEyxRHYacxJQewV3HD/SqILq9elvzU3UPvHROHQdzex25lU+FOA78TfBqwI\n",
       "boXj1hMFfgq8nWHz5FgJU/rPvPU7Xp12d3h+PwSOZNxBbZtN+EgsfxfIwuiOMHrtagzeLI64VXNO\n",
       "JLUTZUPzlGQJIxVFnrf6NDo22NyymQNZ69LcQO3tTy8fzJHVE5m3qt4RSd27nDe2gC2nFmu3AeEy\n",
       "t5qKQdg4E3cD/W9a+YN8zt8Pnzt9mq4f6q69AGtbj3ahFGlBAAAAAElFTkSuQmCC\n",
       "\" style=\"display:inline;vertical-align:middle;\" /></a><br>"
      ],
      "text/plain": [
       "generalExists_Rz: exists_{z_1,...,z_l | Q_1(z_1,...,z_l) ,  ...  , Q_k(z_1,...,z_l)} R(z_1,...,z_l)"
      ]
     },
     "execution_count": 4,
     "metadata": {},
     "output_type": "execute_result"
    }
   ],
   "source": [
    "generalExists_Rz = Exists(zIter1l, R_zIter1l, conditions=[iterQ1k_zIter1l])"
   ]
  },
  {
   "cell_type": "code",
   "execution_count": 5,
   "metadata": {},
   "outputs": [
    {
     "data": {
      "text/html": [
       "<strong id=\"exists_Px_Q1i_Qjk\">exists_Px_Q1i_Qjk:</strong> <a class=\"ProveItLink\" href=\"__pv_it/75d68e5203c2b15c507dae60aa214d7fa0d103470/expr.ipynb\"><img src=\"data:image/png;base64,iVBORw0KGgoAAAANSUhEUgAAApAAAAAYBAMAAAC/59D/AAAAMFBMVEX///+YmJiqqqqIiIi6urrM\n",
       "zMxmZmYyMjIiIiJ2dnZERETu7u4QEBBUVFTc3NwAAAC9dFJmAAAAAXRSTlMAQObYZgAABbNJREFU\n",
       "WMPtmWtoHFUUx88+Jrub2d0MiGg+aFf6QQW16wMfYJsFoRWx7YKPWgvdQKOiIKaS0kigWQq20dgY\n",
       "pFSkYtcXikizoUVLaUjwi7U+EtFCiXmMFImVakyT0jSarOfcOzP3zu5kZ0aqn/ZAZu5jfvee+7/v\n",
       "DUDNrowl/0CryVBuD/j6OpABSIyPj48Va8qRhSYXx89MUEgZ8Uc+xV/1ek1EZg2tAJ+SGBGfQytS\n",
       "E9JmuV6AVfgHd/oEA701IWVrwrVuRTMGvvYJqkM1IWXrw7/JFEAYp7j6zN5H26svlZ+171i3jwff\n",
       "qwkp2yXUbwHfdThTj6Xi80dmqw7D3TDc3ZRm4QMQ6+rqev1fCfmLS36qypkr6xf1T3j3NGgGlMsA\n",
       "T9DMjmgA30PDbMNMNS6hQSld0lj4Rs8jMsNfR9pfO200rdeF2FyeINhz3lD1nq5vs74IabgI1s1T\n",
       "xcwPLb514B0KxLG1vTC9FMDh9uSyXAySJf0qUCdxi3/Ys5AF3nmndLWPa1rvRsQyZR0v2II39JbD\n",
       "cHwO/BDCJNbV0/3Gu/4v8xjESltBO8jjZ6pt1n/T80Ha730KuQpf03kWXOm6k7Xa44INpj2hQVyu\n",
       "kvPgg5B6TbDunn5u6pe3CTnJtpqbqk3uRb4++hZSLeEobuD9dtgVOW1vqmDd62PoIH1cKvoghEms\n",
       "u6cJYw3INRsJcVxyb4bhNKypJmSwNz4LIR22g5ja6uieN3dUfDnw8bM7s7KQMeqBhiWWMGTPF4JZ\n",
       "RdlPtRIbXwYVqQw9RCOipPsghEkseurcPCs1lBbHSC6Ihv2+oZRJDnEhqUNUkAP0GJybnoPzANSm\n",
       "awwho9mNE9jQn+w1vRxenB5Rtgsh4xeo3/6ERBGUViOfIrLxojbhZrbelm6yUYBNy6CiQoYO47hQ\n",
       "Suhe1ishzGAT6CV66tw8y9OwcVzsMwuPNUNyITGcmcowIVVaIwbzUoA9pgtjc8k2UIbY9I7Q8ad4\n",
       "Fppu2w2bv7MfOdKhC7+m4EMhJBtQh0aUt3WqnOdTRDZeFDaeWi/fYzlLfbl+GVRUyFAaUDSOvRPC\n",
       "DDaIkxU9dWye8FRhC6z6XOkHIyeMMt37ysCXbXyNVIextBOogHoKeABOYGtCXQfHdmYgRPE2cain\n",
       "3ugpG/xsGxuShKT4cBaiOgRHzPxo+fpFReFcLBfSYNFuXRY1K+RCUjkXwQchCcnZOhyYzFPH5pme\n",
       "Kq3lGZLkNLXDlUv0BuFB2roi4gm09yT8XFHTS/F8UksWhJCRiwMf1M2y5oQLRn5523hRv2HoIXs6\n",
       "Z4P3sQxHVFTI0M4to5kX0hC4zjMhzGCjR1eTp87NszwNVxyuGu1CBip3Gk2sWY/h4DdPFbn9C3Rd\n",
       "7IHkLpgqJjvosUu5vLFQnzJ+2GB1KfMt0UmNCanmgedTRFBTOi+qkXkzpfOi8KEbbGAt3r4cUbnC\n",
       "RkrP7cnsw6vF1mOeCSvdZOPX95OnVvNsHlmeBipO7NLPaK5CDobEAQoSn1z7UYpqUmYgpytL9JiB\n",
       "0XdffRES8hn695OdHUE+wbqB51NEUDmNF/UjftwCOY0XhQ/NZHE9ixadULnCFkpPju29VESv1nom\n",
       "RLrBrlsN5KnVPJtHlqd1mYobqfVrxbnObQCVp9iQdHh6A2CiLLtHFt8IRfttV4vE7PNcyDuszU+X\n",
       "KaOnuvHdKvebZrBqPgWhlCMqVdhqxCbvxhaho94JkU7s7ZF+ydMeKPeIexqpHHBn/f20XnYue+Sr\n",
       "FGy1Ykaobo1NyFBpCZT7sW3HzZsqRSxKMdawbTrdRhTdlk6s+n4R1IITKlVIFxkWa6LdtwN8ECKd\n",
       "2InYXcJTal6ZR9zTlfAfmOYQkoVMfmMMjqDmREmrSaJijFjsDS4VJszY+S9A2ZL3Q4h0ZCs9DTiE\n",
       "YAT+R6us7GoX4mCVy37WOxp6OuuT8Otp7Er87+8fxoOHVfS16NcAAAAASUVORK5CYII=\n",
       "\" style=\"display:inline;vertical-align:middle;\" /></a><br>"
      ],
      "text/plain": [
       "exists_Px_Q1i_Qjk: exists_{x_1,...,x_l | Q_1(x_1,...,x_l) ,  ...  , Q_i(x_1,...,x_l) , Q_j(x_1,...,x_l) ,  ...  , Q_k(x_1,...,x_l)} P(x_1,...,x_l)"
      ]
     },
     "execution_count": 5,
     "metadata": {},
     "output_type": "execute_result"
    }
   ],
   "source": [
    "exists_Px_Q1i_Qjk = Exists(xIter1l, P_xIter1l, conditions=[iterQ1i_xIter1l, iterQjk_xIter1l])"
   ]
  },
  {
   "cell_type": "code",
   "execution_count": 6,
   "metadata": {},
   "outputs": [
    {
     "data": {
      "text/html": [
       "<strong id=\"generalExistsInA_Px\">generalExistsInA_Px:</strong> <a class=\"ProveItLink\" href=\"__pv_it/9b84255da406b3abd7a9e4cfba2aa36f0d7d1a6f0/expr.ipynb\"><img src=\"data:image/png;base64,iVBORw0KGgoAAAANSUhEUgAAAc0AAAAXBAMAAACbuQnTAAAAMFBMVEX///+YmJiqqqqIiIi6urrM\n",
       "zMxmZmYyMjIiIiJ2dnZERETu7u4QEBBUVFTc3NwAAAC9dFJmAAAAAXRSTlMAQObYZgAABNhJREFU\n",
       "WMPlWGuIG1UUPslk8prMZMAH+qsjguAPbVAEEekG/FERbAMVakHNqqXSQjVVS1cCNRTUtesj2NKi\n",
       "LZrairKIjSzoYnfpKpbWIiaiRa27zYjIqnXd3War21038T7mztyZSWY2UJDgQOY+5nznu9+9574C\n",
       "8D95lD/R022NDqU6Mr8S/eSJiYnxcleoE2pLE9+fw7kHOwOGMzSN690xjMkcwPu4rfkOgbnu0pkt\n",
       "AqxEPyHVIfDa7tLZkwZY0QuQ6HSejXSXzqPoV9MAVqP0o77tq1/2tJYee+G+vioVqF0mnb/4fNe8\n",
       "VvyMNzZo5v5GjV9A6WaU7oLKQI9n/A5rifmhOsnGeiHW39//6nJ1RqhhmpaG+l46YzS16APc4Kyw\n",
       "sPCbD1ZkzsVLAPejsIVtaJtQoZlqqiCW2uK+hmQ9OQuji6ircp2N5wqqkPoOntalo7Qi7geMpR1j\n",
       "ZGGh5Afey/aVpdf3vYkznyOHoDT1K0DcWmgLK8J0I5CCELIIjS1T59Cmh3HEP6FyLVuJkmlKc70f\n",
       "XsrZyxw26Lt4fmyk8UUjM4dfgX8IuuA1LGM0ZkGcWZ5O4cj5Yxgy3GvplJpo1UtS6g98I+GMXTaH\n",
       "9e9k2ZjAyQKvU17y1VnDq1BE5XRKZ5/fv91lN/re5h2E42paXhcvWTpjmCfZIBVjnK1Nj+n2VnsY\n",
       "c9gEb9aSnW2X2V7jy2dIXzFRB0H30nkjVFKwCpI6F7fRzNpziPtHu+VzoaXpKneeqIYLls7EBUw9\n",
       "A3IZxByzle07m+EWPffa6hkWP+tNs3bsoaq1fZLnEMDxuek5+IOOp4TryuzFSlJzTTOtjMEDOMbZ\n",
       "OvQz9Ny8CzZ8ZV/wU8KFXzVxG1vxApowY+kkw/FWVTyo44YYtgftQUjdrleJGv4AR7HwHe0Bb3bS\n",
       "jWT7ZJ24D03u0vic8jTVeRxrnQfjxUrKglxJT6bhDjpHI3hfKRtOXnEMPZn574C4e3DwMNqQNm1Z\n",
       "5HTifCUDURQ8VWYbdU427Daecek0sDeg5CZTQht2Q6e0pfmN8eFuFMv9B8Z3pKnOEdRr0mkwXiOo\n",
       "dVIFteP2F0dPop44jOcoi4RI8RT85GJ6JlFQVDT5JBo4j4N40dIZuTh6JFwn0kIlZuvQSd2iGQj3\n",
       "2OsN7CP0izc7cW8Pe4uFzM817oubZXEiY5770FzZuwBvYyZlJ0yWlTx+7RQvrS3FNQWxkMtQCIXf\n",
       "rKVTnN8YralEp1QAaosLlodJnbr9nZyk+XqGHbirCsMcO0zqlDvPswecpxCuguhUXToD1lI4g1ax\n",
       "PebSPXjNuxpmEmchq4sN/JqFs4d2P0mcfoLGXaqVYGpetfbPqVPP5oM0VAeA2uKC5SGrUrf4trDR\n",
       "Vs+wn55HIVC22CGrUu4Gzx5OO2WY9zJl/18pb53wg+bavTFTwGkrY5Y38Pw0HxZHcn0r1XmLucDq\n",
       "vAeD/1u6YtvrMTb0FJoQgsaxW03m2CMuGVP23d29p9jPHrJj1Vj3hQYPmSUjF/3Q5YXpFJoNEO98\n",
       "DY03O4HigulBNNwPqOTQY6/HWEHNqyCVOHZRb8HuPm0pnV1Ab2tRpzpz4VVtdSpfGmMRVFt5YAP4\n",
       "qA6yqx5jZX0PGq7rWsYbx179r+6BbuKrfBAHPL4FfO5lscvx79W/cTnNbizkYZgAAAAASUVORK5C\n",
       "YII=\n",
       "\" style=\"display:inline;vertical-align:middle;\" /></a><br>"
      ],
      "text/plain": [
       "generalExistsInA_Px: exists_{x_1,...,x_l in A | Q_1(x_1,...,x_l) ,  ...  , Q_k(x_1,...,x_l)} P(x_1,...,x_l)"
      ]
     },
     "execution_count": 6,
     "metadata": {},
     "output_type": "execute_result"
    }
   ],
   "source": [
    "generalExistsInA_Px = Exists(xIter1l, P_xIter1l, domain=A, conditions=[iterQ1k_xIter1l])"
   ]
  },
  {
   "cell_type": "code",
   "execution_count": 7,
   "metadata": {},
   "outputs": [
    {
     "data": {
      "text/html": [
       "<strong id=\"generalExistsInB_Py\">generalExistsInB_Py:</strong> <a class=\"ProveItLink\" href=\"__pv_it/f70004fbac9d7c7ce98954cf321aaf88cc6c56940/expr.ipynb\"><img src=\"data:image/png;base64,iVBORw0KGgoAAAANSUhEUgAAAcYAAAAXBAMAAABjWfIkAAAAMFBMVEX////MzMxmZmaIiIiqqqqY\n",
       "mJi6uroyMjIiIiJ2dnZERETu7u4QEBBUVFTc3NwAAACMxkeOAAAAAXRSTlMAQObYZgAABNVJREFU\n",
       "WMPlWFuIG2UU/ibZTC6TzAZ9KFXZ1S0KvrjBagVx3YCIRdSOvhRBNOCDIGrzoohWd9mXppbaUMTi\n",
       "BRpdUVihG5RqWSu7BRWv3fiibW22IwrrDRu33UubbuL5L3NJ0sxsUJDgD5s5c+Z85z/f/Oec/58F\n",
       "/gdD/5NGd4X8cCfGoQyQKJfLJ4tdwGyoXi7vNklQSh3hrhKXmNkNy7dMgR6la7izFQl3EUflHNBD\n",
       "f9jYGS6U7x6OwSWKd4GErzrDaTPdwzFWoeZxFlCzQHS7gciol7XL4q1/h6Oe9Hzc4/XwR2/XaUvo\n",
       "JW7TBSBAubc3XsOWihfMZbEX0Vwut2dNHO9cGDjBuagyCW7KfSO5/epTSvnm/HGget4bu94S+vNQ\n",
       "xlgPMSj9TtcwWMBlHgnKLT6uknxHB+sYmkGQ53ZM3N91AFNLQiz4QF9uundBYz7QaEYKw8dfuZbF\n",
       "Gc9ASe3PYk/qkmPt36qwUFm2PrY2ju8PXE1JUoJac8LqOU+LsCLElA/+w6bcdaC4za9lZKUwKbeM\n",
       "XkZ6NqXVk9jsgeMW0StZAqyJY/Dt3z8CIikERh2O0ywP6sU1vaNEY726oDjglz7fyusKHI5K3VTr\n",
       "8OIoLCivHY7qsbz2abOdrbxPRJbEVtPhuJ8dN+pcEXfZXtRBsHGhXVBQ9j++E4eNZqytlNuhsiAf\n",
       "xKkLhS4guuzJUVj0mq5cPRSuhBaRaDxBCCUNkS7bNg696yqh2TR7W8APwDrLtp0DtfH4ZUFZ6Flo\n",
       "oyN4yGB+3CkqlIyssz2K2UkbWkb4nOCoMV3REuw7YXEFu90qOf58upCoKa835pxQPmm1xX3AA0WH\n",
       "I1uH6CrWH+VheDpgTNxDQhNZzl6/5zxOmcyPezfiynUGf4F80qrVhKjG9AsYXhIcp6l8tBUpOHfC\n",
       "4maxd4TZ3lHEcDo+g0hTXXHlG1BemJgYB94kF2kXR+Ib/wt4Ebjbsm3joIWjgPZQtD20wsGz+Jr7\n",
       "aegBTBlLWhzfm1yV+c575ebPJ6uC42Fqg9qXTCjIH23WtCzGGeAp2F1rutQSIlfOQBOZRmeMbUmH\n",
       "48jlJzKDKR7boz4OoDZuLhIaSIsnsaq22sKRK6nQufOGQQuuJtn2KOrxiZZaVE3L4kjSPsvROAWa\n",
       "lEKcN/VnMV9kPyZX6uRrjmdPFfqYqx77xzK7WbFRbIf8HITy+vNSWSRJQiMfDFHdUdetBM5wPzaW\n",
       "bLjyN3J8fzMFUmyp6CzfOUejtd9AWmgVWoOo3e/md8wmWYj9hlJDv8l+DK5kx/YptiXtWxj4Pu3i\n",
       "qJ/csVxM89giRR8HgYyyKJUmSRIaf/AgsIs8Pb1d5LyNZTZMyfhd0/KxRJWV/+UzOl2NbGjLUVgc\n",
       "T7v2Zu06VhIs1RyIwZUJxu/ViXF3GtmLf32JxxZM+zgIi4mdEDj0kSESbqBaM6lqea4ajg1Xfmc3\n",
       "dXc7KiGQ22l18GDrvsEWzrGYsyt8MbAE5ZaXoNgVpZhcGTnY+gVgtxRKmEu/IIIFHwd0mOmz4X0W\n",
       "9MYwPZoi2RjMcD8Otk8odxkXO0P91NEnmX380J95znRespS4MnBre45/fCKF230clBqW14LORTdR\n",
       "Y6WMfmcOTVip3GAi8d98ybVOG/L+top6/XfiXu/JXvvn8f4NG9r7EZFf0ggAAAAASUVORK5CYII=\n",
       "\" style=\"display:inline;vertical-align:middle;\" /></a><br>"
      ],
      "text/plain": [
       "generalExistsInB_Py: exists_{y_1,...,y_l in B | Q_1(y_1,...,y_l) ,  ...  , Q_k(y_1,...,y_l)} P(y_1,...,y_l)"
      ]
     },
     "execution_count": 7,
     "metadata": {},
     "output_type": "execute_result"
    }
   ],
   "source": [
    "generalExistsInB_Py = Exists(yIter1l, P_yIter1l, domain=B, conditions=[iterQ1k_yIter1l])"
   ]
  },
  {
   "cell_type": "code",
   "execution_count": 8,
   "metadata": {},
   "outputs": [
    {
     "data": {
      "text/html": [
       "<strong id=\"generalNotExists_Px\">generalNotExists_Px:</strong> <a class=\"ProveItLink\" href=\"__pv_it/936974f2bb34df072412158bdd357185ba15ab6a0/expr.ipynb\"><img src=\"data:image/png;base64,iVBORw0KGgoAAAANSUhEUgAAAbYAAAAZBAMAAACvGhbMAAAAMFBMVEX///+6urpmZmZ2dnaIiIiY\n",
       "mJjMzMwQEBBUVFRERETc3NwiIiIyMjLu7u6qqqoAAACijr81AAAAAXRSTlMAQObYZgAABHtJREFU\n",
       "WMPdWF1oHFUUPkkms7Ozmc0+CFpbSEulpC+ySQsF6c8+CAUfzECkLy24EJGigY2ISAw0K0iSpi3Z\n",
       "PlTRFjvQH2tMyeKD0cQ0CZo8tNm6iJKIgSzagi2FGJuYNNVuz517786d3dmZrIisGZh7zz3nfHPu\n",
       "N/dnzh0AgGAaNuxVs4G5BTYqMbW//07//6GjFZGS3KtDAEpPz9fd5Tsppb7VnhO9RDpaInKHWXb5\n",
       "jfIdrtpxgA9I/1Kl7iJmmSxnbrEwwALeUqREYHWYrLhEOXNrwnXz8lYAX6nrRmsjBCPlzO083n0Z\n",
       "gC1Yf39jasuX7u6Cy8d4K9F/xk2NutszbsbL7thgTvoLR+AB1tuxvgado02uc1N0aYSqkbGRsXVw\n",
       "C9HqhxtDXUxzwQPRkq8QsGrYHStzu3wf4HWckjCJg6BDNpLVQU4UxTEXrQ9n8D1sz8F6xo0+L9hu\n",
       "aOdDoqb4VRXKGwsB6/cK18C/Aau7Gp8jwhv4QFCzxksg1yeLx6QusBnlJ/H+tQRuC1gN0kcHvTYu\n",
       "bdzeFrBwyyvcHKv9fzNh0dz7VszISbftcYXOR9xh8d6/fm5aFse6lobzBnXZqQpY+MgLq7DFXJsU\n",
       "uSmrntyoyyTjlsJuasc/3ztV4Dd7dvt0VORWRYC1a6bCZ7c7oJ63TxcBC23gHDGn5Z+z2FZmOYac\n",
       "wr4lkAw3btxljc3JJHILROt6MfYpu+cXFauDcZGb7xEJ9zsoOASt3K6ki6Cesqk51twhxsE5ItNi\n",
       "9hi3Pm/mdQZgfnFwET6h46aZb4IUaVFgLjL5th3BOHHkdhGa7l6Dlnfsm3xEevRZRp60uJmv/UBc\n",
       "3mOQnjP7HqMIqtWePFEsnKQ9d4zItK06YU8/b/zF4QoaTHQvqhOU2zwZO1JoD0WBuUgJE1Ez1DEy\n",
       "lmYPGc4bYnMlvy9wI+3OKASQzm/cHjCKoPK4MewvZOrEoUhEU+uPMm7azux7TI87nzSyr3s6RLnN\n",
       "kDc1g53S2rnQaeRc/GRGT7BVWxPugEsFkb7xJVUd2ixuNX/Onq5conQ2cXs+txxqkz13Zdhnybgl\n",
       "ikSkWp/pYb98VhRzvT1deAiyPHyv0pzLPJnGGh6QHGUY1OswkFZTpLgu369L+DNqwuImP9wW6NMp\n",
       "t5+B2knDGdUs6AcMjh19Ig5a0ooIAwZFYmFQ7acs0y1IfQVueuHub4nzEu5dEfYlUT48fC5DIsnL\n",
       "EDPkNVIsw/EzX93kD6UMr3R8lwpSboE0tZOGM2qboI/pHPvWVULQiggxnSKx0Km2GaAylN/13BlH\n",
       "3ftHxIObsp/ykgXzsOjBJCVky0KUpXrKTeL5Imk4osZFvc6wFd+StfaiEFHoJpPe5acv8bpiP7MW\n",
       "7v95uUSvvfnKmxl4LddiUuBHGzcpuwbyQXwvGtOYDScUSVxyetlgWElPIYOfhIiyYXPCa1R3SFzU\n",
       "0g5wkkMmX/ASK1+wcVPf5uN12wOliPpqjlWM3WSr053mEpeeMSD+X56jCoNVe5xx9rkZD3nk2f/G\n",
       "H5zHOiS0i4TaUKUAAAAASUVORK5CYII=\n",
       "\" style=\"display:inline;vertical-align:middle;\" /></a><br>"
      ],
      "text/plain": [
       "generalNotExists_Px: notexists_{x_1,...,x_l | Q_1(x_1,...,x_l) ,  ...  , Q_k(x_1,...,x_l)} P(x_1,...,x_l)"
      ]
     },
     "execution_count": 8,
     "metadata": {},
     "output_type": "execute_result"
    }
   ],
   "source": [
    "generalNotExists_Px = NotExists(xIter1l, P_xIter1l, conditions=[iterQ1k_xIter1l])"
   ]
  },
  {
   "cell_type": "code",
   "execution_count": 9,
   "metadata": {},
   "outputs": [
    {
     "name": "stdout",
     "output_type": "stream",
     "text": [
      "WARNING: Duplicate of generalNotExists_Px\n"
     ]
    },
    {
     "data": {
      "text/html": [
       "<strong id=\"generalNotExists_Py\">generalNotExists_Py:</strong> <a class=\"ProveItLink\" href=\"__pv_it/56ee7c31cdebe90c733f3070172843815a1b52f00/expr.ipynb\"><img src=\"data:image/png;base64,iVBORw0KGgoAAAANSUhEUgAAAa4AAAAZBAMAAACbY9fQAAAAMFBMVEX///9mZma6urp2dnaIiIiY\n",
       "mJjMzMwQEBBUVFRERETc3NwiIiIyMjLu7u6qqqoAAAAupgqpAAAAAXRSTlMAQObYZgAABJZJREFU\n",
       "WMPdWF+IG0UY/5K93SSbbFqkFPTl8iD4Bx9y+iAItrFUrCJmQfBBhEYqiNdKDqVVW+wFlfa8Q5IH\n",
       "USjiLSiK52EjfVDMlQuC1CrlUqHU0sItaKla4cK1Z6/pXdPvm5lNdpPJ5qIg4QIz+fKb77czv5nv\n",
       "m5kNAEC8AuvyE1unuqLrUZQ+NfXnVP8P885enNUEQHhsbOZwnwbiQH55bGKcLC3XE3Ezqw9FrD5d\n",
       "pQ1lgA+t3reAGKuLfasrmwRYwALbe+OpxNELfasrjYmycyMab/bGM0ZIXKpvdU1iydsAQYxH5YQJ\n",
       "0aKft8vjYyzhzL/SpWd8m+N+jZ/5P9p2jBWc+uv4HcC4GgrVYKHqR3N5DIFSmi3NdtcVFAv8ZOl1\n",
       "oecTf4KWbI2NJlVP+nN3Oc+4ArCbwjBmYmgdrcFgAV7yCT7m8esq2n9juQBrWK8I/7p0BM4tcrPQ\n",
       "hXF/y28XNdKFqiTEPr/8wNBDZIQSoKW2lmE29fxE55nkHkGKxLuw/LZ2XXEMCv0GN1NdGBda4rJJ\n",
       "hd+7pX1ZdLrq7PckdDRl1DNw2YfHPBRa4CyWLWvXNU8d1dlZ0pUT9uafiwpHuvV2SMgpunRpdStY\n",
       "Bz9d3ANjlus6hWMMTiSNvW055QK5rq107NeZohDA3cfgrNmRNOBdUBcVRjpwG6A4rrIbRUMIdxL1\n",
       "Gigrvrq4xwZLxGERdZ2PVdUlCHtPdQ66dY3aNCsA7wHsAaM4BztNsqWkoPfq41BpXstyrgBJYPP4\n",
       "4r0jqq5A7ArXZRBWcRus4h4v0s/n2NUrYn11tBCuaQ96Y4uDP7h00Xwry7BrP3Wt/3Ud8hbZUpJW\n",
       "9uCCGi4zxVIuB/eYNGn8+HLmmXJGvwbpRa5rHuPTuOE2WMU9Huf7fOybA6XZCqTt0AhEW3KGgR+4\n",
       "dWFHoX8AvgP4AyPtJrzGbCmpVRenxnGE8VwHLgMjGaHLuL3+jhPclGiXD0yucl1na9j6BhkFYRij\n",
       "luPxPhG+d/J7sjKfa9PFwBGXrrmX300Mpth47qHtylhu1+WQgt6DQFADNm+RchmIiUsP935wYYMZ\n",
       "Or54ft3bfr5ajse+DL9H8bfKPGCnqGva0k/BdIUqi4F6waUr+3XiW0oeHM95nJFq4CqzpSQ1qf8k\n",
       "wApaghr9ZQfmkYyLPgz8Ap//dOuwEVio6hTLTJfZvmeA8DCqOO9KyjlnpmdGM6Qra2o1yFpUmQxU\n",
       "ky5d+uGZlYrNxhOtgP7zCR6TUlIgoS0J0EJLUEPPngE4DhIu+RBImm6T/FWRTn75Ct5y5jZ11MU9\n",
       "3ra5Jo3F8h0U7hSHTYrJwHDCe0XIP5Jj4xmw4bSFmcRiSUaK8c6a3TLqfTvQeApkXJWDb6FZbruM\n",
       "5iBQOuZsIwPtezwdKk2P8UbGLgUWQXtsC2iNFNMsBkbPeHWlMRheeNUGowBpczDBbCkJLxXDjW6H\n",
       "HeqjMWw6BzLuMAePm7K7zKc9vWc3rgT6yR+t5sQKi4GBJ7y6Pj8ojIsw/dE4dCblPMvoUMeVbbgh\n",
       "mjKuADdZEP7/3oTau1L931MUvzf3Z/w7e/i/j/cWjq3eeuiPz44AAAAASUVORK5CYII=\n",
       "\" style=\"display:inline;vertical-align:middle;\" /></a><br>"
      ],
      "text/plain": [
       "generalNotExists_Py: notexists_{y_1,...,y_l | Q_1(y_1,...,y_l) ,  ...  , Q_k(y_1,...,y_l)} P(y_1,...,y_l)"
      ]
     },
     "execution_count": 9,
     "metadata": {},
     "output_type": "execute_result"
    }
   ],
   "source": [
    "generalNotExists_Py = NotExists(yIter1l, P_yIter1l, conditions=[iterQ1k_yIter1l])"
   ]
  },
  {
   "cell_type": "code",
   "execution_count": 10,
   "metadata": {},
   "outputs": [
    {
     "data": {
      "text/html": [
       "<strong id=\"generalExists_notPx\">generalExists_notPx:</strong> <a class=\"ProveItLink\" href=\"__pv_it/f243be145be89a0b9b02e600c66d86def72414340/expr.ipynb\"><img src=\"data:image/png;base64,iVBORw0KGgoAAAANSUhEUgAAAdQAAAAXBAMAAABAAqPxAAAAMFBMVEX///+YmJiqqqqIiIi6urrM\n",
       "zMxmZmYyMjIiIiJ2dnZERETu7u4QEBBUVFTc3NwAAAC9dFJmAAAAAXRSTlMAQObYZgAABONJREFU\n",
       "WMPlWH2IG0UUf7lk73LZ7GZBRftXI4LiH9pgEUSkt9A/KkXbgMJZUFNsRSsUUm3pyUENBTX19Ay2\n",
       "XJEWTf1AEbGRgi1yR6Mo1ipNRIta72OlyPlV76459XrnXXxvZ3Z3NtlkL4gYcCCzb97M7735zbz5\n",
       "CsD/J6m/YWrj/q310IUSLZm4HH8BHUAZGxsbLbQtU6lsi8GJxbFvxkm6rzUbnUnMHmRyxGhbql3C\n",
       "LMTSAG9TV/tbNJImQ21PdbUgp3IAq/AXTLRoZAVFcK7dqX4myD243lZuBoi2ut6G8ScX25xqKC0U\n",
       "juJvIg6wDr/v9e1a91xTqPzQ03f3sZUeQRC88g+oqsnm9fFmlT80x3ZYO0pOUP6J/Z/H7zb87oXS\n",
       "QE/TQD4Rj84dq5hiN4YCDEF3Npt9fhlUdfY51vfsWa75yQexqVYhYNWcz8bL67s0QXcJ4B7q9A48\n",
       "NzSoJqoaSPmGJr6AWCU2AyMLOHAUG9cte1aZzY7ThnxUFzWNU7deM1MCNuLn7gD7RLH9wzgZ2X24\n",
       "Gy2+OPQSKT9C26BWjctA2p5paCEHU0uBBISwRYjW6R0tUl2FnylmvsNvH5TT7rKAhWv83B3n54s1\n",
       "XHiURha4PEtZ4C+zE5kmNlYWefBK07R/t0ZVruLmF1tYJuism7mAhXf8sEqyjmosI1JVFn2pTpT5\n",
       "EnBRlc89dXBXXduRN7ftTopUu8l+bInFlrveA7XaHc8CForg7dHW8rMzGneopjZz+UOkmItWIGg0\n",
       "o3o9lBKwBmJGTQCHkxvHsSvfuVs/GVqcKotUoxdpeKZBwQnqteqVQgPUnS61hTV3mDR4e+Ra7B0/\n",
       "JjSHao81w0cATs5OzcKvbFZlc4woKwiCXN1Q1dUi3EvBTkvpSk71PPTcuBc2nXGfJongxR/j0g6H\n",
       "qjkpL5elwwYR4fWHjQaoXpeeY+FrRsTTI9f2ajQY9jFhDg4eq9aQDuGaz4/OqjsZ1ZM0s5TJc4Kg\n",
       "zislfVKHW53DposOmwI3NFgTBOZO8LpAlcqlJISR3Q1WfdhogKqhyrHX0hKjOfP0aGojSYtqyA5Q\n",
       "+ZHql1y8HeM7e2h0t86oDtMYDmP/5NOWUMIu3bJv5BMcjFdpvVI87LRu1blT8H2d48ejGVWDokO1\n",
       "6/eR1zorjN16q76Wqo1a7764c+wDxCDfwCPTRs0WZjrjsQqjjkNzrW6ov2Q5LT5Oui6GuIYOzNPN\n",
       "aRDUPTBZUPsp2yNd2piPxNW8Q1Wa2xqe0BjVE8DqqeCNWiHoJw0LO7C2DHLG8QiTBkNiZjDtz/bt\n",
       "3Lyp16ZAzk1Vq2/h7HPTuL/tpyC2zkblraveiJNjaQZShrRE2QycO/LMo5ZhRvjCqSf6OxjVcIHV\n",
       "U8EbtVXQpzQL+8EvxNfxCCmNITHTmBb5der1jzg72Y849eAfieZU4ds4O+CP1zQZFFtxSdFddyOl\n",
       "sp1RDVrnABU8UWlRr3Fs6DFapzcJHoWucukr+3kJatmD6gVXKVjfwH27USicx90t7vo0DvfbJS6F\n",
       "33VRDVaXQLrtBQwNrjELXii6Ttl6yeDYoNaPhN4XPEqGqxGmAc25Tp33emi09mC9mVx7vE3qhrhz\n",
       "jYuq+rk1m1f7oBRRH7CwirGfdk7NK9osaYsB5f/w5VjvO+DziDvUrPIKn6fCv/Bv1995a8mC8gtu\n",
       "rgAAAABJRU5ErkJggg==\n",
       "\" style=\"display:inline;vertical-align:middle;\" /></a><br>"
      ],
      "text/plain": [
       "generalExists_notPx: exists_{x_1,...,x_l | Q_1(x_1,...,x_l) ,  ...  , Q_k(x_1,...,x_l)} [not](P(x_1,...,x_l))"
      ]
     },
     "execution_count": 10,
     "metadata": {},
     "output_type": "execute_result"
    }
   ],
   "source": [
    "generalExists_notPx = Exists(xIter1l, Not(P_xIter1l), conditions=[iterQ1k_xIter1l])"
   ]
  },
  {
   "cell_type": "code",
   "execution_count": 11,
   "metadata": {},
   "outputs": [
    {
     "name": "stdout",
     "output_type": "stream",
     "text": [
      "WARNING: Duplicate of generalExists_notPx\n"
     ]
    },
    {
     "data": {
      "text/html": [
       "<strong id=\"generalExists_notPy\">generalExists_notPy:</strong> <a class=\"ProveItLink\" href=\"__pv_it/7e6960778585f93faf4f2682a057a0823903ae7b0/expr.ipynb\"><img src=\"data:image/png;base64,iVBORw0KGgoAAAANSUhEUgAAAcsAAAAXBAMAAACWp3mUAAAAMFBMVEX////MzMxmZmaIiIiqqqqY\n",
       "mJi6uroyMjIiIiJ2dnZERETu7u4QEBBUVFTc3NwAAACMxkeOAAAAAXRSTlMAQObYZgAABKlJREFU\n",
       "WMPlWF2IG1UUPpPdTH4mmQ36UOvPZqEg4oMb/0GsGRChD+qOL0Jf7IAPQkGZF0G0uosvzVK0oYog\n",
       "io344Iu0QaiWsrIRVPztpgiy1u7uSIVVERvR3W273cR77rmTufOTSVYEA144MyffnG/u/e4992cC\n",
       "8P8o+u+sDGvjHh8Y7FUeFZZfWlo6Vx9OlUqz646sbC0tLgfAAUqiQIYl6wynzJTU/WM2wHtOAByg\n",
       "2MKGWObtkl+sAkxVA+AAZa+wIZb5leSXLYB9EwFwgDInbHhlqrb04zizFYPAzAET0jNxVC8ia5D9\n",
       "U5l6IfbxaNzDH+NfbYjloyphGwDaZQEeybVhqhX3Bi8iM8EtU6lUDveXqdJNu7vyjZD3S59VshoA\n",
       "JKpejefuFCuQKb3uEsA1EwRqjQttmKzBtT1fICI+2mTdbZMNNppZuj14DE6tk1vrw3gt8FuiZvtQ\n",
       "Mxa/5djtJjYKlVm2oWy9fuQtASqlozYcLl212LuPKUJlaas2yLYjc5SljX6R3FIfxoeBJPaocH8f\n",
       "qka9P2aJ3zew+jfdjQXBhZLWKcCemFfwCExYpUW2HZnzWFmnPhAn75+7EhWO9avtTEjm2IwkU+k4\n",
       "agfiZFIEZr1PprpY1T4NzUcJJJlH8QTS4QJzAE/OwpzZkzTiH26JCo0e3C5Ie2PO8GQWJ4SPYPIK\n",
       "ZDZiZVLEmBNI2pOpVnIN8v4DBoGyzAUDOwrgB4AdoM1Mwz4T/UiS6j+UuVTsajuaK0DUS3Wansyy\n",
       "O7IIJjcgdYlkaojVZYdfKOJ69GwyLvOnC7V8W3nTn4gEPi3JxNHIbMHO09gS/eHLsOKgH0lSbB8u\n",
       "qHmbd0Akl8AdJvahuxdQv7Bt0x0BBPUrUF4nmfMsmbWLssMvFHGPt6GkcEOpQ9nINSAdmG8cfFuW\n",
       "ySrL/QHwMsBDLC3/gq+5H0kKyiTqKKt1tNmDy8FswZWpdk8A2s2db91JgeCez49vksy5Nnv6JTo1\n",
       "4WgLjhvxDm5AFpk4ZNTnmyGZHGxIMqevO2tNlnjz9uPqp22FZbok1b/jCGrCoCeRXA6ySY8vx3I6\n",
       "atoxUC3gtklz86nwFu+4ER8XfIc9PEcBawOTueroz8FqHS8OB/WaJLP4ovUSTjzWvJNsLW0l/uR+\n",
       "JClZ1V8QYJ15gpr+YDebg1FcFsPBX72z9t4eZ/Gplo5zgMs0w8sPiAitxUbkFSCjsnpwoYAyi6bS\n",
       "hqKDF5ODyaokUz93cKNu8Oal66A/c4ASOJKUsJQ1ATrME9TcYycADkEEF2MQRG03hj/E5K+zcvXn\n",
       "z9gxbHpXT5kU8b3Bt2CtO320W3CqYNJ6NJODect/cFm5rcmbN2LA+w6bhTzxokgpqtCrmlOf2M2c\n",
       "OyCKmyTwO+8DUY/6gmZgojLrdsBIOAA3sm5E3iET0WuJdVDufRWULqQ4HEyf8Msss3S5+gvWTTUo\n",
       "m5MW9yNJ7Kgz3q163KXemWKPTkEUd5zAQ6Z3wjoflbXnt/OBcasw0UXPPu943S48Dibu88v87RPh\n",
       "PACr7y5Db1LTN8gudTlzF1tqzSiuAHc5kP/Pvv3CNSfjP8Qycf9lPBJf2Rv/evP/Bj6h8EU5gnX8\n",
       "AAAAAElFTkSuQmCC\n",
       "\" style=\"display:inline;vertical-align:middle;\" /></a><br>"
      ],
      "text/plain": [
       "generalExists_notPy: exists_{y_1,...,y_l | Q_1(y_1,...,y_l) ,  ...  , Q_k(y_1,...,y_l)} [not](P(y_1,...,y_l))"
      ]
     },
     "execution_count": 11,
     "metadata": {},
     "output_type": "execute_result"
    }
   ],
   "source": [
    "generalExists_notPy = Exists(yIter1l, Not(P_yIter1l), conditions=[iterQ1k_yIter1l])"
   ]
  },
  {
   "cell_type": "code",
   "execution_count": 12,
   "metadata": {},
   "outputs": [
    {
     "data": {
      "text/html": [
       "<strong id=\"generalNotExists_notPx\">generalNotExists_notPx:</strong> <a class=\"ProveItLink\" href=\"__pv_it/cb8f44b6296f615ae1eb424c54e2eb1f4ef1704c0/expr.ipynb\"><img src=\"data:image/png;base64,iVBORw0KGgoAAAANSUhEUgAAAdQAAAAZBAMAAAB6CMKBAAAAMFBMVEX///+6urpmZmZ2dnaIiIiY\n",
       "mJjMzMwQEBBUVFRERETc3NwiIiIyMjLu7u6qqqoAAACijr81AAAAAXRSTlMAQObYZgAABRBJREFU\n",
       "WMPlWG9oW1UUP2mTl5eXvCQfBro52MZEJhPJ6mAg28yHoTjBPpn4RWGRCRMtpCIqW9VG1LarSiM4\n",
       "xT+4B06dtdLgwGm7rhm6fVgXDTJpZYUFp6AirHWt9o9bPOfd+/LuS17yGkGM9MK979xz7++e+7v3\n",
       "3H8PACCch+USQsuHanCZ8FT6+3/pb+D+rXDQeeJ1NXEPRl8UQO7pOd7duB4spUqit2+u56Vekh6u\n",
       "r42mBCY3GGJXQP9f7CORLMAb1NVcnY1kqSFDyjQw1R2CnIwBXMLojdfZyC7y4Bit1nQDU31GkFtx\n",
       "ve1eC+Cvd72NY1TbiW+8cal6skLmEMa+AsBq/H47dnr15zWh6k3HHxxjKz2AIHgXo5z4Z1SVRO3y\n",
       "Qq3CD2pjw+aOEhOUf2H/5/G7Hr8noHOktaYjny/4F8/NGGIzugK0QPPw6PDoEqhG2efc2LEurnnP\n",
       "BbGnXCFglZjLxsvLQ5qguwzwKHX6FE6PBsV4UQMpXbWJFyEyE5mFiSs4cOQbv2GchKXMKmszvE9X\n",
       "D0VFTfXQHC2bKQEbcDO3iX38WH/jMIajuBvN3dJyKykfw7ZBKer3grQhU7WFGAwu+OLgwRoeWqfX\n",
       "YLxYB9VL+BlkzYfd9kE1a88LWPjRzdwkP1/M4cKjNHCFy9OU+P40OpGp0cbudu680hTt3xi3L52q\n",
       "WsTNL8JMuoO67MwFLLzlhpUTFVQjGZGqPOdKtS/Fl0CJag57rR74dOvpiroTb68/mxCpNlP7kQXm\n",
       "W/ZyB9QOuz8LWGgHZ4slLT87/QWLanItl59FijH/DHj1WlQvQmccdkJEFxw4g1SDiTW92JVX7LU/\n",
       "88wNpkSq/qs0PFMg4wS1meVyvgrqWpvaxBo7TBacLXIt9o4fE5pFtdWc4YMAF6YHp+FDNquqMUaU\n",
       "5AVBLa4qRpV22EvOTkvpAeOWGdAPQ+uvJ2DPfvtpEvde/bggnbKoGpNyW0raohMRXr5Fr4Jqs+k5\n",
       "Fl5mRBwtcm2bRoNROiaMwcFj1RzSFlzz6e5p5SSjeoFmlhJ1URCUebkzOhCFO63DJnSsY3g0zxsa\n",
       "KnMCYyd4XaBK+c4EBJHdz2Z5UK+CKqPKsT/QEqM5c7RoaAMJk6qn5KDqjcUXuHgd+vfwtu6zUUZ1\n",
       "nMZwHPun7jOFTuzSXUcnnsbBeI3WK/nDSb4BhGId8H6F4S/9GUWDdotq6I+JV5tmGLuVZnk51RJq\n",
       "pf3izrE3E4N0FYtM6zdqGGG/wyr0WwaNtbqq8pJl1XgyYV0MjYd5ctM83ZyGQDkDA3klR8kZ6fKa\n",
       "dKCgpC2q0uK6YJ/GqJ4HVk4ZZ9QuQT+gm9iRFSlQM5ZFGNAZEhOdaT/it3N+Uy8PvpidqlZZw9rn\n",
       "pnB/20xOHOcnmPzm/e8UyLA0C0ldWqBkFg4c/OJrs2FG+EjHN7kwoxrMs3LKOKPWCfqkZmKf+IT4\n",
       "WhYhqTEkJhrTIr+maI2fQaVHnLL193htqvB8gR3wk2zBl8KQWItLctR2N5JnNjCqXvMcoIwjKivq\n",
       "NY71fEXr9G7BotBVLj1nPi+RTMqB6hFbzltZwX67kcmde+01Hnq8AI+UclwKfmej6i0ugHTHdnQN\n",
       "rjEyTii6TpX0ks6xXi2HhL4XLEq6rRKGEc26Th12emjU92C9nUw7vE0qhrhpp42q8pQ5mz+5oGRR\n",
       "7zOxsr6Zdk7NydtM6XodUv/hy7HSts/lEbetVuF9Lk+Ff+Fv19+HR88LhP7sjAAAAABJRU5ErkJg\n",
       "gg==\n",
       "\" style=\"display:inline;vertical-align:middle;\" /></a><br>"
      ],
      "text/plain": [
       "generalNotExists_notPx: notexists_{x_1,...,x_l | Q_1(x_1,...,x_l) ,  ...  , Q_k(x_1,...,x_l)} [not](P(x_1,...,x_l))"
      ]
     },
     "execution_count": 12,
     "metadata": {},
     "output_type": "execute_result"
    }
   ],
   "source": [
    "generalNotExists_notPx = NotExists(xIter1l, Not(P_xIter1l), conditions=[iterQ1k_xIter1l])"
   ]
  },
  {
   "cell_type": "code",
   "execution_count": 13,
   "metadata": {},
   "outputs": [
    {
     "name": "stdout",
     "output_type": "stream",
     "text": [
      "WARNING: Duplicate of generalNotExists_notPx\n"
     ]
    },
    {
     "data": {
      "text/html": [
       "<strong id=\"generalNotExists_notPy\">generalNotExists_notPy:</strong> <a class=\"ProveItLink\" href=\"__pv_it/509a0b64024c4208bc2c9b69e81e0ce6aaa429fe0/expr.ipynb\"><img src=\"data:image/png;base64,iVBORw0KGgoAAAANSUhEUgAAAcsAAAAZBAMAAACsrRjkAAAAMFBMVEX///9mZma6urp2dnaIiIiY\n",
       "mJjMzMwQEBBUVFRERETc3NwiIiIyMjLu7u6qqqoAAAAupgqpAAAAAXRSTlMAQObYZgAABNNJREFU\n",
       "WMPlWF2IG1UUPplsJskkk12kL+rD5sEHFR9SFQTBNoo/VcQMCj740kgFda0kKFZtqRtU2nUXSR5E\n",
       "oQg7YFFcFxvZB8Vs2bxI/aFsWihraWEHVNT2YcPWbbfprvHce+5k7iSTSSqCgb1wZk6+Od/c+917\n",
       "7s8EACBRg61Q4ltDZmwLaNRmZv6cGdTG3dI32K08KSwyMTF/eECzVi203KHi+sTUZBvYRwlkybAc\n",
       "ipqDv2gMVwE+Mq9/JakKAygPqswHJT+XAlhJtYF9lKeEgVYaVJkHJT+TBNg90gb2UZaEQSg9oDKV\n",
       "qvRjGq1oERg8YUCs7Ed1IqIWGUSy/0qmlvV9nPB7+Kn/qy2xfKQkbANAvyrA7eEGrNT93uBEBEe4\n",
       "BSsLlYXeMhW66Y9X3hDyPumxSqbaAImqpfy5e8QKZEivuwTw0giBev5YA0ZL8GLXF4iInzexu6tk\n",
       "cB76GM0o3X4/AmdXyS31YNzZ9luiRntQg0l+C+Pt5gqWOdxQ1u/afq8A1fTOKiykn53q3scUoWDa\n",
       "Knky+KV/mQlMG+0auekejPNtSexQ4dceVJ0m5XBS/H4B69+0NxYGjqf1ZhYu+ryCR7CEVetksKN/\n",
       "mcussibfuHpyIu65K1HhSK/aDnXIHC5LMtWmqTTBTyZFsKxvyTyJTVamUvprHfNRAknmTnYCaXKB\n",
       "YYBb52DJ6Eoacg+3RIV8F24LpL0xbDkycyPCZ2DoCgQ3fGVSxLApJW0ZZZ6L10NrEHEfMAiUZY5b\n",
       "rKMA3gfYC3p5EXYbzPckKe5DmU1lXV315gqQ6aU6DUdmxh5ZBoY2IH6JZOoMq8kOv1DE88yrkuEZ\n",
       "MWp+eawUaaj3uBORwO8kmWw0guuwZz9riXbhKhRN5nuS1KoLF9RIlXeAJ5fAvQbrQ3svoH7BbdMe\n",
       "AQZqVyCzSjKXMZn1a7LDLxTxqLOhxL8+UFmoQcYK5yHWNt84+KEsEysLXwb4FuAPTMu/4XXue5La\n",
       "ZRI1gbUmCl24HIxmbZlK6wSg39h8154UDLx4YHqTZC418OmbzCkJRx837YgP2AaUJKOlYrq2XOiQ\n",
       "ycG8JHPx5feSo2nevNvY6qevd8q0SYp7xxHUgEVPPLkcxEnPXs7Kfq9ph6CSZdsmzc3bO7d4047Y\n",
       "l3UOe/RRXQRsA8qcNbWTMFtjF5ODWkmSmfsq+Q2beNi8c9hB9cBf3PckhVLajwKsoSeosdO7cA56\n",
       "cTGGg5/bZ+3WreMsvlLX2BzgMo3O5QdEhF7HEbkbyGh/m50fzzKZOUNtQM5kF4ODoZQkUzs8v1Gz\n",
       "ePNiNdB+OkEJ7EkKJNU1AZroCWr4mTMAx8GDy2IYyLTd4PPvDYKZ1Bev4DFscVtXmRTxjsW3YL4N\n",
       "qzz5b2JThSWtQzM4GEm6Dy7F+wu8eUMWnDJxFvLE8yLFqUKnak69Yxc6T4AXN0Tg260PRNC8vqAR\n",
       "DFTm7A4Y6gxgG1krImKSiei1wCqoj+wAtQWpJgdjZ9wyM5guz72K3VSCjDGa5L4nCY86Y62qx2zq\n",
       "Q3F8dBa8uGMEHjecE9ZRr6w9ej0fGA8LE130w/em0+3C42DgMbfMz94Szm8w+/EkdCcVXINsUyeD\n",
       "D+BSa3hxBbjNhMj/9u3XWXPI/0Ms6PdfxtP+ld33nzf/H8wF+xraWwjKAAAAAElFTkSuQmCC\n",
       "\" style=\"display:inline;vertical-align:middle;\" /></a><br>"
      ],
      "text/plain": [
       "generalNotExists_notPy: notexists_{y_1,...,y_l | Q_1(y_1,...,y_l) ,  ...  , Q_k(y_1,...,y_l)} [not](P(y_1,...,y_l))"
      ]
     },
     "execution_count": 13,
     "metadata": {},
     "output_type": "execute_result"
    }
   ],
   "source": [
    "generalNotExists_notPy = NotExists(yIter1l, Not(P_yIter1l), conditions=[iterQ1k_yIter1l])"
   ]
  },
  {
   "cell_type": "code",
   "execution_count": 14,
   "metadata": {},
   "outputs": [
    {
     "data": {
      "text/html": [
       "<strong id=\"generalNestedExists_Pxy\">generalNestedExists_Pxy:</strong> <a class=\"ProveItLink\" href=\"__pv_it/6661c5dbc6f65335d3b469a0d9791501cfe133b80/expr.ipynb\"><img src=\"data:image/png;base64,iVBORw0KGgoAAAANSUhEUgAAA/QAAAAZBAMAAABtOXiQAAAAMFBMVEX///+YmJiqqqqIiIi6urrM\n",
       "zMxmZmYyMjIiIiJ2dnZERETu7u4QEBBUVFTc3NwAAAC9dFJmAAAAAXRSTlMAQObYZgAACAdJREFU\n",
       "aN7tWmtsFFUUPruz09fsTCcRif1hWENi6g/oIpqoMXQNiRoMsIko4g/bAInRqCwKoVqkDQmyWIHl\n",
       "EYzByPqKxBi7hgQaAqEkJiASu0aJBIGOElNQsS0tKbR013vn3pm5c2c7t9Rt3B+9SXfv45zznXu+\n",
       "+94ClHjanzRgKhU9hZJbSt7H1imaJiddBe0flEqa+lL3sOhp/mQDTCPUqxcuXDifKWXqS93D4iSp\n",
       "e/TC2Ys4J2cnG6ssblKPU5VRytSXuodFStUJgK9wN8snf5gnpqgvpdSQAqhDfzB38rFqpqgvpVQf\n",
       "A5jRiDLfTz7WkSnqSym1o7/uCLp2odVYeXHzkib/Lf9g09onttqlyvU6VPhehlwSVZEp6ksoDSHG\n",
       "h/EZDC36HZHwjQMDftLKRuhqq49axT3hHNT1+Sm4JCobMfWVyWRy+4QC+4egPeLTpsX9dYMM9RP3\n",
       "UAgjTsHJBrCiJN8EeA6v9+U6wI9QPVDd76em6pCP5nVrIHT25mBV2m+ouCSCiduZ9THydaDpvTO0\n",
       "1ymBxjK+wtGFKwJdOTWBWR8iX6/kT58+Mz4YcZL5XjLWiwJgRUka/WDPRzgTRpFOQW8ugKb082Ov\n",
       "36DljTtA6TavA3J0XwK2R33kLQkaqc7boZ4MmOApQ2kno6BKpFEZ4yaQowtpkfLuCVBPPQqMgpw3\n",
       "xgcjTru5MmO9KABWlKpGrEueWTEDkQPPnvVRDNzCn0/SUldUycd95U0JayD03T71deirl7AxU6Sh\n",
       "JNxlRjcYFSkfmjj1Klopu/TxwYjTIX6lta0XB8CKUnWri/pu85BX67fkj5pbOOUyb4TyvvJUYsLU\n",
       "K3m0vlST8fm1UOWMu4+MrhhQjU+Y+orrQMd3MQ6HKrebO9aLBECj1NBIy2G0+9+H5ijM86MymAoP\n",
       "gGTAansJqBzypZ5KeBd85dw776/1iB/d/9K6OEt9JR5p1TmzotPd7lBsm3K/TbC6YVasIKIU5agP\n",
       "nU0pxz3yC7fAEZ2j/lgfHO4fJwxnwQ6NAyZxE9uxTgAKxoCpFfo917nWk17oaGwtyse0TkIl3swV\n",
       "oBm7dGywdxD+BsiRqsAQlN8k8gor5pSIxPQHHsbLSYA55lXEF19E1PzqdnBTaLQ3K692qA9fw+Oz\n",
       "D9QMyAnajguuaWGaWoo6ttBVb+n+gr6WWmJjIoayHPUd5X2Bfh5LaW2BGTz1daf2DxmmZTGMZYFr\n",
       "J2CEOu56Ta2TtHSMGDAAQr9plNozzsVLG1a7Yj0xk0rlBia6lWbsUm/6/KC2BuROUqXdgvpBQr0t\n",
       "izNOyZRQpvXDJvtyV46vTplLUD97Iyz7wX1ziUrXLkfgc4d6c9Luy8ofGjgkpB0X2ERMVcXNwDCJ\n",
       "6sK9pLsCRDlhU088/L03reZ4LG32MHQbHPX7UtASMy2LYagFrh1MMLotcicWYt2avGPEgAEQ+m1G\n",
       "SXk5/5O14iCyHtpy9MQastcrXUjuCIq+cgroxxHkmpTce35dDKQ0EYDak+0jhHrcSsTS9MOR0A4k\n",
       "8DoB5TFr1tujbhu/e46Qld2mHpe74lBhQDBrtVfwGx42FQYP9VR3OfqaJURkqLceOiPhTg+WdA1O\n",
       "83s9YqY7alqeNY6OEQt8uwlWkHpqnaRZY8bAARD5vZTfDJhhiKkMec8TixyYKBEIxc1Le6271d6/\n",
       "bAk1ird55iEXDYPUSfjNE4E3w62arqUd6suvH/2sbMDsaShN2/luEVN/otwCdz3VbZufxS0CxFCa\n",
       "p749cyzrCWHViDIK02fezVKPjpP4CL4NxgFDLXiox2CB5XOyjCPAWkeQjy03AQrGgAUQ+b2AJ6rG\n",
       "TX3Ae2RzzibhZ4hAXZ+Gb5y17lb7iGdLhONljWjG72Kob9g9DJ/gCGgboCejNeOPDfLNxemqSCDl\n",
       "UC/fWFnRrZvUK61A2nHB0eoxiKkasw9svaV7/C8dOhhE6DEIXjOLGEjx1HfDqqgbC+XUPjSaZqbD\n",
       "DPUy2tnykWZsWQhjWXC1o5wJFnwET9tAygVIrSPI2OMYoFAMGABqys/vGp4o5kdbIfXHJCJQn7r8\n",
       "LfhSTyR6IbwkTi6UFvXql3d9EcERkPuhwZBz+KMfzn387uugxph7/dWTLc1Bsr61AWnHBUerQSem\n",
       "fkbCK131VDf0BppKFRkHERp0gpdjEctiPPU9m8lO4/JQa1p/Hd2/ehjq1+fboPaEji0LYSwLrnaU\n",
       "I2BntAR2xAVIravxDthpAhSIAQNgmfLxe6Xncdg+WF5pWQHgfTqQmKvnTiJQltySofKSd6g4Egug\n",
       "bAfSMoDd6820jR1kNFfxjevdSh14lVB/v32kN1gtOubadPMfAtz1WFfSm3WQIgyiM0wZxHLgqFde\n",
       "w7ujGysABw28kcKcp7zvi8iyGIZacLeDTsBapWkZ7IgnJEgXnVZbmX7wftkAutDvhIepS5P9S9GD\n",
       "4KH+6e8i8IJdormyeS7qpXwO5EfRYDtsvQzhgq0l001thWE+dbnrsa5q7IqBkmYQZaMA4kyeeqm/\n",
       "bJDDQrl6fVUMeVKje6jHlsUw1IK7XTZMMCUd2GE64gkJ7vxO+DRuA3j8sgCoKR+/i/HiOKF01Wcf\n",
       "0Qs85KLl6DQd6UG9kBazM6meelsX7uF2Ig9ilqdee+ttw+thzxcXPa95TBLCMBbYSemAYUfGCgkH\n",
       "UEgsIPRbhZKhfqzk/ceBOwUae/1+exD82FlpH3WS4/8/fPW2Ycbx64r/P8r9d4C9/w/xoeTWfwEB\n",
       "2uqlVVlRlgAAAABJRU5ErkJggg==\n",
       "\" style=\"display:inline;vertical-align:middle;\" /></a><br>"
      ],
      "text/plain": [
       "generalNestedExists_Pxy: exists_{x_1,...,x_l | Q_1(x_1,...,x_l) ,  ...  , Q_k(x_1,...,x_l)} [exists_{y_1,...,y_n | R_1(x_1 ,  ...  , x_l , y_1 ,  ...  , y_n) ,  ...  , R_m(x_1 ,  ...  , x_l , y_1 ,  ...  , y_n)} P(x_1 ,  ...  , x_l , y_1 ,  ...  , y_n)]"
      ]
     },
     "execution_count": 14,
     "metadata": {},
     "output_type": "execute_result"
    }
   ],
   "source": [
    "generalNestedExists_Pxy = Exists(xIter1l, Exists(yIter1n, P_xIter1l_yIter1n, \n",
    "                                             conditions=[iterR1m_xIter1l_yIter1n]),\n",
    "                             conditions=[iterQ1k_xIter1l])"
   ]
  },
  {
   "cell_type": "code",
   "execution_count": 15,
   "metadata": {},
   "outputs": [
    {
     "name": "stdout",
     "output_type": "stream",
     "text": [
      "WARNING: Duplicate of generalNestedExists_Pxy\n"
     ]
    },
    {
     "data": {
      "text/html": [
       "<strong id=\"generalBundledExists_Pxy\">generalBundledExists_Pxy:</strong> <a class=\"ProveItLink\" href=\"__pv_it/de5690e9b36c90bed463d002ec3bb6e4fc1c58510/expr.ipynb\"><img src=\"data:image/png;base64,iVBORw0KGgoAAAANSUhEUgAAA8QAAAAYBAMAAADOlikNAAAAMFBMVEX///+YmJiqqqqIiIi6urrM\n",
       "zMxmZmYyMjIiIiJ2dnZERETu7u4QEBBUVFTc3NwAAAC9dFJmAAAAAXRSTlMAQObYZgAAB6NJREFU\n",
       "aN7tWmtsFFUUPvuYdtvZnU4ioP1hWEOi+AO6iD/UGLrGRAwKbCJaMZESwBiMSlUI1SLdkCDFalkq\n",
       "wRiMLD4CMcauIcGGQFoMCUgau0YbCdLuqjEFFdvSkkKhu97HPO7cmZ2Zxi6NpjeZnfs453zfuec+\n",
       "pwWYTv/3JP2N0nQ3TFHyR4oM4IkChHp7e8+npjv7ZiZfZrz3bB/OPVt0rOfoqzw73e03NVXUAXyB\n",
       "O72h6FCl0yGeklSbAKhCjy9SdChPYjrEU5Gq0Q45ezVAsPg7pNg5HeKpSG3oyYQBFuMYPL9jRX3a\n",
       "VvxI/abF72qlsi0yBOJ28gaJj6dDPBVpFEV2DL3Xo6c9HLx6eNh2Im6D7uZqbU3fG8xB1aCdgkFi\n",
       "L5Q1NTXtKlKIf3doD9td5mL2ut4Jazin8L9zxzWAcA3gabROwyvo+R4qhiuG7LRCMuQjeVlbeQdy\n",
       "sCFpuzazEndN4iyO0tfh+nd6lD5POGis5Ct0XbjooCtQ4y/mu7p63Gk4JxMfxroLd1wD+MY/2PsR\n",
       "zpxETwIGch40RZ8pvO6ClM/eAmKG7NxCZH8d7IrYyKsSND0+iSGmw8Z7Jiu20WiXO2mURbmZqetC\n",
       "0kl5Dz0wjoOQz7rTgInyYa27cMc1QPl1pTxCfmfjE9FTZ+2OxTfw76NKqTsi5mO28kRCPb1Peoir\n",
       "0GuAbvVzHE97dcYyo+t1vE58TRcxtMR1y+40YKJ8GOtu3HENUBE3hDhDDltz7Zbqcbqr0kmaz/rz\n",
       "tvKKRJFCLObRalJBR+mXjio9xg5gdJ0phcgwDVwBZcBOhhM9XFm37sodtwC1q5XiN+i5G805WGQX\n",
       "Mm8iOAy+LNm56ZQuG7UNsSJhXKjFc2+9v8kkevzQ+s3UQf/ZhHjC1L50JxyTjSEuw+OtIkcqOsHa\n",
       "rF670LiMMbpBFt2SE/1s0DEIR4dUDScvOMJKYnxbyDXp1ok71pQYVMduWqhdi0k6gMf1snxU6qQh\n",
       "w5utCHymY2RgBP4CyNGiZxRKr+nyFkpUYta99+Pl4VYlxIHY8j7UwT8buW33jw+kBTx42ksHPUMQ\n",
       "Mt7UxXgjzOZCHLyMR+kgFhXqwNosra1BmksN9aruT+hVo6DzmDonP1neqs4cGs0ShBoAJy8Uwlw7\n",
       "9Y0GgwuOYp2ufnUFKOnuOHcTBWhLaRcakMZC3dH+KAmZeBUHNM5nBpLnR6SNIHTSonQDqkd0ebMS\n",
       "lRBnDMF2glGKL02p36B6/jZY+Z3xFhLxXb4Qhs9Q9teBZCgnfGhcC6X5Y5DJGkNMJuH+NBZFMbA0\n",
       "q9SWx0hYmKTowp2kLyi6CVPjJJB9bX8CGqMEYSmAkxeUME+H+EazNVyIqXVlhqYLUNLdce4mDCC+\n",
       "kP9BacIHqPt2Hj+1ke7FYjcSO4b6UTwDSgbX+Jr2nd8cBV+SFmHu6bbrurwuSzLEEywhHa7D8x42\n",
       "6h9c8Mhq4VwkRz/yBaw6HOyEALfd+S5DF7cXk620O4ZFvelCZklt0NSlqu4a9JqnovOYGicaYhSB\n",
       "TIQgzHPhBSXMtxPfLEOsWKc7YrogJdUd527iAIKMJF54/abzBFNTHqFFf4xceq3lYRmoEqGIv1P7\n",
       "gAlQmjgNv5icfz0Yl2QpSb3oSJu4l18Xx2HWnNuZEJdeOf5pyTDpBn+ygFla+wfKLTHWK7rND6dx\n",
       "C0E3YWqc/AQPndDwkbeF2HL0ghA2hRj75lmzIM3zUa0jDx9aQ/AsKenuOHcTB+BJGEPsMZ+cmPHw\n",
       "JC1WDUr4ImctD7ImEYyVrI5CmTpEa/eM4Y+ZLSBthf6U1IB/tgrXlifLw4hGfxYysCGCubPtEBpE\n",
       "EZmTDDIhFq6uC2RkEmIxrptFJqgS+snS2kokXWmoV3VP/ClDO1B0HlPjhLoH1Qto/8mHGzBCO1jB\n",
       "MRoqYZ4O8c37AJ7nlUb/FOvIw+gj2B0rSow7LrqpkgtIwwRC3OGjxerEhZNgG2IqMQDBFTHlbolv\n",
       "IJ/fdjCMnReGoDYr5PDPEJw78ParEIpCrQz9O+jqa2iX6rdcQZeXfvZefOl0Y4OXLmbNullkgiqh\n",
       "H5nW/oiE1xnqFV3/a2g+BVIU3YSpcoKSKCptyTfD3FMyRkAaFnCMhkqYp0N965HqMB8DlmI9FGuH\n",
       "VuyOFSXGHRfdtI4LyCUtd7FxLYD5as/UhFppsaRpZ6qgvA80iSVQshugjxNoYQeGkgt8hYaG+DLe\n",
       "TnDc2PYjWbzzwILHDF+XQsMvUdF7GLMgG8YZSs3oXcfXY12f3CCDT/1ezGNqnErZeoSgaRjhGA2F\n",
       "ME+H+hb3zUhhPh7zBAqgA2Bc1t0xUmLcce4m/tuKVOw/GPu4O94T34ZhlVZSciWLQMj6hkpGQHiw\n",
       "FQzt1fKGKByFStkQYl8+R0WPMmYFbX9Sc2uz+IMUV491Q9n3oiAq1kyYKif8sWkVS1zV4OAYDYUw\n",
       "T4f4JiY9u8kHMhMW9qMVPolp7hgpMe44d5O3+P8C4CLJFjkPSG+8mTW39x/sM33ARCOzS5lPXtlq\n",
       "T2H2j5CpXtOFOxw4QdpQ4jQ8VhoMYY+lb6FCWCZ3TKuEu24KwX87mf+sPdNBY5/dl3eHPw2WpSaq\n",
       "4Zz22TfPhCIDFCf9A96/sdnSHpFsAAAAAElFTkSuQmCC\n",
       "\" style=\"display:inline;vertical-align:middle;\" /></a><br>"
      ],
      "text/plain": [
       "generalBundledExists_Pxy: exists_{x_1,...,x_l, y_1,...,y_n | Q_1(x_1,...,x_l) ,  ...  , Q_k(x_1,...,x_l) , R_1(x_1 ,  ...  , x_l , y_1 ,  ...  , y_n) ,  ...  , R_m(x_1 ,  ...  , x_l , y_1 ,  ...  , y_n)} P(x_1 ,  ...  , x_l , y_1 ,  ...  , y_n)"
      ]
     },
     "execution_count": 15,
     "metadata": {},
     "output_type": "execute_result"
    }
   ],
   "source": [
    "generalBundledExists_Pxy = Exists([xIter1l, yIter1n], P_xIter1l_yIter1n,\n",
    "                              conditions=[iterQ1k_xIter1l, iterR1m_xIter1l_yIter1n])"
   ]
  },
  {
   "cell_type": "code",
   "execution_count": 16,
   "metadata": {},
   "outputs": [
    {
     "name": "stdout",
     "output_type": "stream",
     "text": [
      "Common expressions may be imported from autogenerated _common_.py\n"
     ]
    }
   ],
   "source": [
    "%end common"
   ]
  },
  {
   "cell_type": "code",
   "execution_count": null,
   "metadata": {},
   "outputs": [],
   "source": []
  }
 ],
 "metadata": {
  "kernelspec": {
   "display_name": "Python 3",
   "language": "python",
   "name": "python3"
  }
 },
 "nbformat": 4,
 "nbformat_minor": 0
}
