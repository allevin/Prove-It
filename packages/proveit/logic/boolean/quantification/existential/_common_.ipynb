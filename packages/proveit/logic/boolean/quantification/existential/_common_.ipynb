{
 "cells": [
  {
   "cell_type": "markdown",
   "metadata": {
    "collapsed": true,
    "deletable": true,
    "editable": true
   },
   "source": [
    "Common expressions for context <a href=\"_context_.ipynb\" class=\"ProveItLink\">proveit.logic.boolean.quantification.existential</a>\n",
    "========"
   ]
  },
  {
   "cell_type": "code",
   "execution_count": 1,
   "metadata": {
    "collapsed": false,
    "deletable": true,
    "editable": true
   },
   "outputs": [
    {
     "name": "stdout",
     "output_type": "stream",
     "text": [
      "Defining common sub-expressions for context 'proveit.logic.boolean.quantification.existential'\n",
      "Subsequent end-of-cell assignments will define common sub-expressions\n",
      "%end_common will finalize the definitions\n"
     ]
    }
   ],
   "source": [
    "from proveit.logic import Exists, NotExists, Not, inBool, Equals\n",
    "from proveit.number import Naturals, NaturalsPos, Len\n",
    "from proveit._common_ import m, n, A, B, P, S, QQ, xx\n",
    "from proveit.logic._common_ import xIter1l, yIter1l, yIter1n, zIter1l\n",
    "from proveit.logic._common_ import P_xIter1l, P_xIter1l_yIter1n, P_yIter1l\n",
    "from proveit.logic._common_ import iterQ1k, iterQ1k_xIter1l, iterQ1k_zIter1l, iterQ1i_xIter1l, iterQjk_xIter1l, iterQ1k_yIter1l\n",
    "from proveit.logic._common_ import R_zIter1l, iterR1m_xIter1l_yIter1n\n",
    "%begin common"
   ]
  },
  {
   "cell_type": "code",
   "execution_count": 2,
   "metadata": {
    "collapsed": false,
    "deletable": true,
    "editable": true
   },
   "outputs": [
    {
     "data": {
      "text/html": [
       "<strong id=\"generalExists_Px\">generalExists_Px:</strong> <a class=\"ProveItLink\" href=\"__pv_it/a8311e2111a205ec3c3e4da809d3940892334aee0/expr.ipynb\"><img src=\"__pv_it/a8311e2111a205ec3c3e4da809d3940892334aee0/expr.png\" style=\"display:inline;vertical-align:middle;\" /></a><br>"
      ],
      "text/plain": [
       "generalExists_Px: exists_{x_(1),...,x_(l) | Q_(1)(x_(1),...,x_(l)) ,  ...  , Q_(k)(x_(1),...,x_(l))} P(x_(1),...,x_(l))"
      ]
     },
     "execution_count": 2,
     "metadata": {},
     "output_type": "execute_result"
    }
   ],
   "source": [
    "generalExists_Px = Exists(xIter1l, P_xIter1l, conditions=[iterQ1k_xIter1l])"
   ]
  },
  {
   "cell_type": "code",
   "execution_count": 3,
   "metadata": {
    "collapsed": false
   },
   "outputs": [
    {
     "data": {
      "text/html": [
       "<strong id=\"generalExists_Py\">generalExists_Py:</strong> <a class=\"ProveItLink\" href=\"__pv_it/e6150744b8f3d3f1f572661a0d4b5ab475bd76e60/expr.ipynb\"><img src=\"__pv_it/e6150744b8f3d3f1f572661a0d4b5ab475bd76e60/expr.png\" style=\"display:inline;vertical-align:middle;\" /></a><br>"
      ],
      "text/plain": [
       "generalExists_Py: exists_{y_(1),...,y_(l) | Q_(1)(y_(1),...,y_(l)) ,  ...  , Q_(k)(y_(1),...,y_(l))} P(y_(1),...,y_(l))"
      ]
     },
     "execution_count": 3,
     "metadata": {},
     "output_type": "execute_result"
    }
   ],
   "source": [
    "generalExists_Py = Exists(yIter1l, P_yIter1l, conditions=[iterQ1k_yIter1l])"
   ]
  },
  {
   "cell_type": "code",
   "execution_count": 4,
   "metadata": {
    "collapsed": false
   },
   "outputs": [
    {
     "data": {
      "text/html": [
       "<strong id=\"generalExists_Rz\">generalExists_Rz:</strong> <a class=\"ProveItLink\" href=\"__pv_it/e2a754418d988b4f99fb5559546ce202b7d3744f0/expr.ipynb\"><img src=\"__pv_it/e2a754418d988b4f99fb5559546ce202b7d3744f0/expr.png\" style=\"display:inline;vertical-align:middle;\" /></a><br>"
      ],
      "text/plain": [
       "generalExists_Rz: exists_{z_(1),...,z_(l) | Q_(1)(z_(1),...,z_(l)) ,  ...  , Q_(k)(z_(1),...,z_(l))} R(z_(1),...,z_(l))"
      ]
     },
     "execution_count": 4,
     "metadata": {},
     "output_type": "execute_result"
    }
   ],
   "source": [
    "generalExists_Rz = Exists(zIter1l, R_zIter1l, conditions=[iterQ1k_zIter1l])"
   ]
  },
  {
   "cell_type": "code",
   "execution_count": 5,
   "metadata": {
    "collapsed": false
   },
   "outputs": [
    {
     "data": {
      "text/html": [
       "<strong id=\"exists_Px_Q1i_Qjk\">exists_Px_Q1i_Qjk:</strong> <a class=\"ProveItLink\" href=\"__pv_it/21c6cf0fbf9862baf97b9ad15fab16176aa8b8ed0/expr.ipynb\"><img src=\"__pv_it/21c6cf0fbf9862baf97b9ad15fab16176aa8b8ed0/expr.png\" style=\"display:inline;vertical-align:middle;\" /></a><br>"
      ],
      "text/plain": [
       "exists_Px_Q1i_Qjk: exists_{x_(1),...,x_(l) | Q_(1)(x_(1),...,x_(l)) ,  ...  , Q_(i)(x_(1),...,x_(l)) , Q_(j)(x_(1),...,x_(l)) ,  ...  , Q_(k)(x_(1),...,x_(l))} P(x_(1),...,x_(l))"
      ]
     },
     "execution_count": 5,
     "metadata": {},
     "output_type": "execute_result"
    }
   ],
   "source": [
    "exists_Px_Q1i_Qjk = Exists(xIter1l, P_xIter1l, conditions=[iterQ1i_xIter1l, iterQjk_xIter1l])"
   ]
  },
  {
   "cell_type": "code",
   "execution_count": 6,
   "metadata": {
    "collapsed": false
   },
   "outputs": [
    {
     "data": {
      "text/html": [
       "<strong id=\"generalExistsInA_Px\">generalExistsInA_Px:</strong> <a class=\"ProveItLink\" href=\"__pv_it/081301e4d06b0a03c791fdf236f40752cef32a550/expr.ipynb\"><img src=\"__pv_it/081301e4d06b0a03c791fdf236f40752cef32a550/expr.png\" style=\"display:inline;vertical-align:middle;\" /></a><br>"
      ],
      "text/plain": [
       "generalExistsInA_Px: exists_{x_(1),...,x_(l) in A | Q_(1)(x_(1),...,x_(l)) ,  ...  , Q_(k)(x_(1),...,x_(l))} P(x_(1),...,x_(l))"
      ]
     },
     "execution_count": 6,
     "metadata": {},
     "output_type": "execute_result"
    }
   ],
   "source": [
    "generalExistsInA_Px = Exists(xIter1l, P_xIter1l, domain=A, conditions=[iterQ1k_xIter1l])"
   ]
  },
  {
   "cell_type": "code",
   "execution_count": 7,
   "metadata": {
    "collapsed": false
   },
   "outputs": [
    {
     "data": {
      "text/html": [
       "<strong id=\"generalExistsInB_Py\">generalExistsInB_Py:</strong> <a class=\"ProveItLink\" href=\"__pv_it/8ee81a39f74a678ce1111670ddfa727a096e4d070/expr.ipynb\"><img src=\"__pv_it/8ee81a39f74a678ce1111670ddfa727a096e4d070/expr.png\" style=\"display:inline;vertical-align:middle;\" /></a><br>"
      ],
      "text/plain": [
       "generalExistsInB_Py: exists_{y_(1),...,y_(l) in B | Q_(1)(y_(1),...,y_(l)) ,  ...  , Q_(k)(y_(1),...,y_(l))} P(y_(1),...,y_(l))"
      ]
     },
     "execution_count": 7,
     "metadata": {},
     "output_type": "execute_result"
    }
   ],
   "source": [
    "generalExistsInB_Py = Exists(yIter1l, P_yIter1l, domain=B, conditions=[iterQ1k_yIter1l])"
   ]
  },
  {
   "cell_type": "code",
   "execution_count": 8,
   "metadata": {
    "collapsed": false,
    "deletable": true,
    "editable": true
   },
   "outputs": [
    {
     "data": {
      "text/html": [
       "<strong id=\"generalNotExists_Px\">generalNotExists_Px:</strong> <a class=\"ProveItLink\" href=\"__pv_it/e22de10c7ebef309ef66f8da905f45c71e3d57740/expr.ipynb\"><img src=\"__pv_it/e22de10c7ebef309ef66f8da905f45c71e3d57740/expr.png\" style=\"display:inline;vertical-align:middle;\" /></a><br>"
      ],
      "text/plain": [
       "generalNotExists_Px: notexists_{x_(1),...,x_(l) | Q_(1)(x_(1),...,x_(l)) ,  ...  , Q_(k)(x_(1),...,x_(l))} P(x_(1),...,x_(l))"
      ]
     },
     "execution_count": 8,
     "metadata": {},
     "output_type": "execute_result"
    }
   ],
   "source": [
    "generalNotExists_Px = NotExists(xIter1l, P_xIter1l, conditions=[iterQ1k_xIter1l])"
   ]
  },
  {
   "cell_type": "code",
   "execution_count": 9,
   "metadata": {
    "collapsed": false
   },
   "outputs": [
    {
     "data": {
      "text/html": [
       "<strong id=\"generalNotExists_Py\">generalNotExists_Py:</strong> <a class=\"ProveItLink\" href=\"__pv_it/d02dd544f03a90d504760e07d6d8a876e9d39a5b0/expr.ipynb\"><img src=\"__pv_it/d02dd544f03a90d504760e07d6d8a876e9d39a5b0/expr.png\" style=\"display:inline;vertical-align:middle;\" /></a><br>"
      ],
      "text/plain": [
       "generalNotExists_Py: notexists_{y_(1),...,y_(l) | Q_(1)(y_(1),...,y_(l)) ,  ...  , Q_(k)(y_(1),...,y_(l))} P(y_(1),...,y_(l))"
      ]
     },
     "execution_count": 9,
     "metadata": {},
     "output_type": "execute_result"
    }
   ],
   "source": [
    "generalNotExists_Py = NotExists(yIter1l, P_yIter1l, conditions=[iterQ1k_yIter1l])"
   ]
  },
  {
   "cell_type": "code",
   "execution_count": 10,
   "metadata": {
    "collapsed": false,
    "deletable": true,
    "editable": true
   },
   "outputs": [
    {
     "data": {
      "text/html": [
       "<strong id=\"generalExists_notPx\">generalExists_notPx:</strong> <a class=\"ProveItLink\" href=\"__pv_it/013e4418b7b5b25d015b6711b850a18237dde8d40/expr.ipynb\"><img src=\"__pv_it/013e4418b7b5b25d015b6711b850a18237dde8d40/expr.png\" style=\"display:inline;vertical-align:middle;\" /></a><br>"
      ],
      "text/plain": [
       "generalExists_notPx: exists_{x_(1),...,x_(l) | Q_(1)(x_(1),...,x_(l)) ,  ...  , Q_(k)(x_(1),...,x_(l))} [not](P(x_(1),...,x_(l)))"
      ]
     },
     "execution_count": 10,
     "metadata": {},
     "output_type": "execute_result"
    }
   ],
   "source": [
    "generalExists_notPx = Exists(xIter1l, Not(P_xIter1l), conditions=[iterQ1k_xIter1l])"
   ]
  },
  {
   "cell_type": "code",
   "execution_count": 11,
   "metadata": {
    "collapsed": false
   },
   "outputs": [
    {
     "data": {
      "text/html": [
       "<strong id=\"generalExists_notPy\">generalExists_notPy:</strong> <a class=\"ProveItLink\" href=\"__pv_it/a3634bf381f3ffc038ef15806d061e50403dd66e0/expr.ipynb\"><img src=\"__pv_it/a3634bf381f3ffc038ef15806d061e50403dd66e0/expr.png\" style=\"display:inline;vertical-align:middle;\" /></a><br>"
      ],
      "text/plain": [
       "generalExists_notPy: exists_{y_(1),...,y_(l) | Q_(1)(y_(1),...,y_(l)) ,  ...  , Q_(k)(y_(1),...,y_(l))} [not](P(y_(1),...,y_(l)))"
      ]
     },
     "execution_count": 11,
     "metadata": {},
     "output_type": "execute_result"
    }
   ],
   "source": [
    "generalExists_notPy = Exists(yIter1l, Not(P_yIter1l), conditions=[iterQ1k_yIter1l])"
   ]
  },
  {
   "cell_type": "code",
   "execution_count": 12,
   "metadata": {
    "collapsed": false
   },
   "outputs": [
    {
     "data": {
      "text/html": [
       "<strong id=\"generalNotExists_notPx\">generalNotExists_notPx:</strong> <a class=\"ProveItLink\" href=\"__pv_it/881e3eaab8b99ab8490254b474aa158037c624410/expr.ipynb\"><img src=\"__pv_it/881e3eaab8b99ab8490254b474aa158037c624410/expr.png\" style=\"display:inline;vertical-align:middle;\" /></a><br>"
      ],
      "text/plain": [
       "generalNotExists_notPx: notexists_{x_(1),...,x_(l) | Q_(1)(x_(1),...,x_(l)) ,  ...  , Q_(k)(x_(1),...,x_(l))} [not](P(x_(1),...,x_(l)))"
      ]
     },
     "execution_count": 12,
     "metadata": {},
     "output_type": "execute_result"
    }
   ],
   "source": [
    "generalNotExists_notPx = NotExists(xIter1l, Not(P_xIter1l), conditions=[iterQ1k_xIter1l])"
   ]
  },
  {
   "cell_type": "code",
   "execution_count": 13,
   "metadata": {
    "collapsed": false
   },
   "outputs": [
    {
     "data": {
      "text/html": [
       "<strong id=\"generalNotExists_notPy\">generalNotExists_notPy:</strong> <a class=\"ProveItLink\" href=\"__pv_it/b6f2c3963c3fd56c380d1baf9a25c9ecd0b5634b0/expr.ipynb\"><img src=\"__pv_it/b6f2c3963c3fd56c380d1baf9a25c9ecd0b5634b0/expr.png\" style=\"display:inline;vertical-align:middle;\" /></a><br>"
      ],
      "text/plain": [
       "generalNotExists_notPy: notexists_{y_(1),...,y_(l) | Q_(1)(y_(1),...,y_(l)) ,  ...  , Q_(k)(y_(1),...,y_(l))} [not](P(y_(1),...,y_(l)))"
      ]
     },
     "execution_count": 13,
     "metadata": {},
     "output_type": "execute_result"
    }
   ],
   "source": [
    "generalNotExists_notPy = NotExists(yIter1l, Not(P_yIter1l), conditions=[iterQ1k_yIter1l])"
   ]
  },
  {
   "cell_type": "code",
   "execution_count": 14,
   "metadata": {
    "collapsed": false,
    "deletable": true,
    "editable": true
   },
   "outputs": [
    {
     "data": {
      "text/html": [
       "<strong id=\"generalNestedExists_Pxy\">generalNestedExists_Pxy:</strong> <a class=\"ProveItLink\" href=\"__pv_it/c88b69bdb48f16d7833fecf26cf48c94a05b5af20/expr.ipynb\"><img src=\"__pv_it/c88b69bdb48f16d7833fecf26cf48c94a05b5af20/expr.png\" style=\"display:inline;vertical-align:middle;\" /></a><br>"
      ],
      "text/plain": [
       "generalNestedExists_Pxy: exists_{x_(1),...,x_(l) | Q_(1)(x_(1),...,x_(l)) ,  ...  , Q_(k)(x_(1),...,x_(l))} [exists_{y_(1),...,y_(n) | R_(1)(x_(1) ,  ...  , x_(l) , y_(1) ,  ...  , y_(n)) ,  ...  , R_(m)(x_(1) ,  ...  , x_(l) , y_(1) ,  ...  , y_(n))} P(x_(1) ,  ...  , x_(l) , y_(1) ,  ...  , y_(n))]"
      ]
     },
     "execution_count": 14,
     "metadata": {},
     "output_type": "execute_result"
    }
   ],
   "source": [
    "generalNestedExists_Pxy = Exists(xIter1l, Exists(yIter1n, P_xIter1l_yIter1n, \n",
    "                                             conditions=[iterR1m_xIter1l_yIter1n]),\n",
    "                             conditions=[iterQ1k_xIter1l])"
   ]
  },
  {
   "cell_type": "code",
   "execution_count": 15,
   "metadata": {
    "collapsed": false,
    "deletable": true,
    "editable": true
   },
   "outputs": [
    {
     "data": {
      "text/html": [
       "<strong id=\"generalBundledExists_Pxy\">generalBundledExists_Pxy:</strong> <a class=\"ProveItLink\" href=\"__pv_it/087608fe2f34b67ae82fe9ab237a2e3f8fef51180/expr.ipynb\"><img src=\"__pv_it/087608fe2f34b67ae82fe9ab237a2e3f8fef51180/expr.png\" style=\"display:inline;vertical-align:middle;\" /></a><br>"
      ],
      "text/plain": [
       "generalBundledExists_Pxy: exists_{x_(1),...,x_(l), y_(1),...,y_(n) | Q_(1)(x_(1),...,x_(l)) ,  ...  , Q_(k)(x_(1),...,x_(l)) , R_(1)(x_(1) ,  ...  , x_(l) , y_(1) ,  ...  , y_(n)) ,  ...  , R_(m)(x_(1) ,  ...  , x_(l) , y_(1) ,  ...  , y_(n))} P(x_(1) ,  ...  , x_(l) , y_(1) ,  ...  , y_(n))"
      ]
     },
     "execution_count": 15,
     "metadata": {},
     "output_type": "execute_result"
    }
   ],
   "source": [
    "generalBundledExists_Pxy = Exists([xIter1l, yIter1n], P_xIter1l_yIter1n,\n",
    "                              conditions=[iterQ1k_xIter1l, iterR1m_xIter1l_yIter1n])"
   ]
  },
  {
   "cell_type": "code",
   "execution_count": 16,
   "metadata": {
    "collapsed": false,
    "deletable": true,
    "editable": true
   },
   "outputs": [
    {
     "name": "stdout",
     "output_type": "stream",
     "text": [
      "generalExists_Px expression notebook is being updated\n",
      "generalExists_Py expression notebook is being updated\n",
      "generalExists_Rz expression notebook is being updated\n",
      "exists_Px_Q1i_Qjk expression notebook is being updated\n",
      "generalExistsInA_Px expression notebook is being updated\n",
      "generalExistsInB_Py expression notebook is being updated\n",
      "generalNotExists_Px expression notebook is being updated\n",
      "generalNotExists_Py expression notebook is being updated\n",
      "generalExists_notPx expression notebook is being updated\n",
      "generalExists_notPy expression notebook is being updated\n",
      "generalNotExists_notPx expression notebook is being updated\n",
      "generalNotExists_notPy expression notebook is being updated\n",
      "generalNestedExists_Pxy expression notebook is being updated\n",
      "generalBundledExists_Pxy expression notebook is being updated\n",
      "Common expressions may be imported from autogenerated _common_.py\n"
     ]
    }
   ],
   "source": [
    "%end common"
   ]
  },
  {
   "cell_type": "code",
   "execution_count": 17,
   "metadata": {
    "collapsed": true,
    "deletable": true,
    "editable": true
   },
   "outputs": [],
   "source": []
  }
 ],
 "metadata": {
  "kernelspec": {
   "display_name": "Python 3",
   "language": "python",
   "name": "python3"
  },
  "language_info": {
   "codemirror_mode": {
    "name": "ipython",
    "version": 3
   },
   "file_extension": ".py",
   "mimetype": "text/x-python",
   "name": "python",
   "nbconvert_exporter": "python",
   "pygments_lexer": "ipython3",
   "version": "3.7.0"
  }
 },
 "nbformat": 4,
 "nbformat_minor": 0
}
