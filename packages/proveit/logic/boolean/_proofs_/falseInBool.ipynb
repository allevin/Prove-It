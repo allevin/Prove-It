{
 "cells": [
  {
   "cell_type": "markdown",
   "metadata": {
    "collapsed": true
   },
   "source": [
    "Proof of <a class=\"ProveItLink\" href=\"../../../_context_.ipynb\">proveit</a>.<a class=\"ProveItLink\" href=\"../../_context_.ipynb\">logic</a>.<a class=\"ProveItLink\" href=\"../_context_.ipynb\">boolean</a>.<a class=\"ProveItLink\" href=\"../_theorems_.ipynb#falseInBool\">falseInBool</a> theorem\n",
    "========"
   ]
  },
  {
   "cell_type": "code",
   "execution_count": 1,
   "metadata": {},
   "outputs": [],
   "source": [
    "import proveit\n",
    "from proveit._common_ import A\n",
    "from proveit.logic import TRUE, FALSE, Or, Equals\n",
    "from proveit.logic.boolean._theorems_ import foldInBool\n",
    "from proveit.logic.boolean.disjunction._theorems_ import falseOrTrue\n",
    "from proveit.logic.equality._theorems_ import unfoldNotEquals, subLeftSideInto\n",
    "context = proveit.Context('..') # the theorem's context is in the parent directory"
   ]
  },
  {
   "cell_type": "code",
   "execution_count": 2,
   "metadata": {},
   "outputs": [
    {
     "name": "stdout",
     "output_type": "stream",
     "text": [
      "Beginning proof of falseInBool\n",
      "Recorded 'presuming' information\n"
     ]
    },
    {
     "name": "stdout",
     "output_type": "stream",
     "text": [
      "Presuming proveit.logic.boolean.disjunction.falseOrTrue, proveit.logic.equality.unfoldNotEquals theorems (applied transitively).\n",
      "Presuming previous theorems (applied transitively).\n"
     ]
    },
    {
     "data": {
      "text/html": [
       "<strong id=\"falseInBool\">falseInBool:</strong> <a class=\"ProveItLink\" href=\"../__pv_it/9f85861a2422bfaf1627227c7d0968a483b71e9d0/expr.ipynb\"><img src=\"../__pv_it/9f85861a2422bfaf1627227c7d0968a483b71e9d0/expr.png\" style=\"display:inline;vertical-align:middle;\" /></a><br>(see <a class=\"ProveItLink\" href=\"../__pv_it/9f85861a2422bfaf1627227c7d0968a483b71e9d0/dependencies.ipynb\">dependencies</a>)<br>"
      ],
      "text/plain": [
       "falseInBool: FALSE in BOOLEANS"
      ]
     },
     "execution_count": 2,
     "metadata": {},
     "output_type": "execute_result"
    }
   ],
   "source": [
    "%proving falseInBool presuming [falseOrTrue, unfoldNotEquals]"
   ]
  },
  {
   "cell_type": "code",
   "execution_count": 3,
   "metadata": {},
   "outputs": [
    {
     "data": {
      "text/html": [
       "<span style=\"font-size:20px;\"> &#x22A2;&nbsp;<a class=\"ProveItLink\" href=\"../__pv_it/b979d3fddb89057d4f0a79714f75e2bc71c0bf560/expr.ipynb\"><img src=\"../__pv_it/b979d3fddb89057d4f0a79714f75e2bc71c0bf560/expr.png\" style=\"display:inline;vertical-align:middle;\" /></a></span>"
      ],
      "text/plain": [
       "|= forall_{A | (A = TRUE) or (A = FALSE)} (A in BOOLEANS)"
      ]
     },
     "execution_count": 3,
     "metadata": {},
     "output_type": "execute_result"
    }
   ],
   "source": [
    "foldInBool"
   ]
  },
  {
   "cell_type": "code",
   "execution_count": 4,
   "metadata": {},
   "outputs": [
    {
     "data": {
      "text/html": [
       "<span style=\"font-size:20px;\"> &#x22A2;&nbsp;<a class=\"ProveItLink\" href=\"../disjunction/__pv_it/1da6b0e09dcd4642d4419ced0432f25c508208780/expr.ipynb\"><img src=\"../disjunction/__pv_it/1da6b0e09dcd4642d4419ced0432f25c508208780/expr.png\" style=\"display:inline;vertical-align:middle;\" /></a></span>"
      ],
      "text/plain": [
       "|= FALSE or TRUE"
      ]
     },
     "execution_count": 4,
     "metadata": {},
     "output_type": "execute_result"
    }
   ],
   "source": [
    "falseOrTrue"
   ]
  },
  {
   "cell_type": "code",
   "execution_count": 5,
   "metadata": {},
   "outputs": [
    {
     "data": {
      "text/html": [
       "<strong id=\"FeqT_eval\">FeqT_eval:</strong> <span style=\"font-size:20px;\"> &#x22A2;&nbsp;<a class=\"ProveItLink\" href=\"../__pv_it/9beaec41c58b9131a40fd44049387e5e7aa7bb930/expr.ipynb\"><img src=\"../__pv_it/9beaec41c58b9131a40fd44049387e5e7aa7bb930/expr.png\" style=\"display:inline;vertical-align:middle;\" /></a></span><br>"
      ],
      "text/plain": [
       "FeqT_eval: |= (FALSE = TRUE) = FALSE"
      ]
     },
     "execution_count": 5,
     "metadata": {},
     "output_type": "execute_result"
    }
   ],
   "source": [
    "FeqT_eval = Equals(FALSE, TRUE).evaluation()"
   ]
  },
  {
   "cell_type": "code",
   "execution_count": 6,
   "metadata": {},
   "outputs": [
    {
     "data": {
      "text/html": [
       "<strong id=\"FeqF_eval\">FeqF_eval:</strong> <span style=\"font-size:20px;\"> &#x22A2;&nbsp;<a class=\"ProveItLink\" href=\"../__pv_it/3e310c8893cc1d871bb3079859a1fc6a4879b04f0/expr.ipynb\"><img src=\"../__pv_it/3e310c8893cc1d871bb3079859a1fc6a4879b04f0/expr.png\" style=\"display:inline;vertical-align:middle;\" /></a></span><br>"
      ],
      "text/plain": [
       "FeqF_eval: |= (FALSE = FALSE) = TRUE"
      ]
     },
     "execution_count": 6,
     "metadata": {},
     "output_type": "execute_result"
    }
   ],
   "source": [
    "FeqF_eval = Equals(FALSE, FALSE).evaluation()"
   ]
  },
  {
   "cell_type": "code",
   "execution_count": 7,
   "metadata": {},
   "outputs": [
    {
     "data": {
      "text/html": [
       "<strong id=\"FeqT_or_T\">FeqT_or_T:</strong> <span style=\"font-size:20px;\"> &#x22A2;&nbsp;<a class=\"ProveItLink\" href=\"../__pv_it/45a5131d69cf5d964e8d9a45818eeba0fc6b08040/expr.ipynb\"><img src=\"../__pv_it/45a5131d69cf5d964e8d9a45818eeba0fc6b08040/expr.png\" style=\"display:inline;vertical-align:middle;\" /></a></span><br>"
      ],
      "text/plain": [
       "FeqT_or_T: |= (FALSE = TRUE) or TRUE"
      ]
     },
     "execution_count": 7,
     "metadata": {},
     "output_type": "execute_result"
    }
   ],
   "source": [
    "FeqT_or_T = FeqT_eval.subLeftSideInto(falseOrTrue)"
   ]
  },
  {
   "cell_type": "code",
   "execution_count": 8,
   "metadata": {},
   "outputs": [
    {
     "data": {
      "text/html": [
       "<strong id=\"innerExpr\">innerExpr:</strong> <a class=\"ProveItLink\" href=\"../__pv_it/5a3d8cca69d917da97da861442c9ae55e2c64c7a0/expr.ipynb\"><img src=\"../__pv_it/5a3d8cca69d917da97da861442c9ae55e2c64c7a0/expr.png\" style=\"display:inline;vertical-align:middle;\" /></a><br>"
      ],
      "text/plain": [
       "innerExpr: {lambda:[_x_ -> ((FALSE = TRUE) or _x_)], _x_:TRUE}"
      ]
     },
     "execution_count": 8,
     "metadata": {},
     "output_type": "execute_result"
    }
   ],
   "source": [
    "# just replace TRUE to the right of the logical Or\n",
    "innerExpr = FeqT_or_T.innerExpr().operands[1]"
   ]
  },
  {
   "cell_type": "code",
   "execution_count": 9,
   "metadata": {},
   "outputs": [
    {
     "data": {
      "text/html": [
       "<span style=\"font-size:20px;\"> &#x22A2;&nbsp;<a class=\"ProveItLink\" href=\"../__pv_it/76a4cbe43600b8880f0a4423cbb1460f091858e60/expr.ipynb\"><img src=\"../__pv_it/76a4cbe43600b8880f0a4423cbb1460f091858e60/expr.png\" style=\"display:inline;vertical-align:middle;\" /></a></span>"
      ],
      "text/plain": [
       "|= (FALSE = TRUE) or (FALSE = FALSE)"
      ]
     },
     "execution_count": 9,
     "metadata": {},
     "output_type": "execute_result"
    }
   ],
   "source": [
    "FeqF_eval.subLeftSideInto(innerExpr) "
   ]
  },
  {
   "cell_type": "code",
   "execution_count": 10,
   "metadata": {},
   "outputs": [
    {
     "name": "stdout",
     "output_type": "stream",
     "text": [
      "falseInBool has been proven.  Now simply execute \"%qed\".\n"
     ]
    },
    {
     "data": {
      "text/html": [
       "<span style=\"font-size:20px;\"> &#x22A2;&nbsp;<a class=\"ProveItLink\" href=\"../__pv_it/9f85861a2422bfaf1627227c7d0968a483b71e9d0/expr.ipynb\"><img src=\"../__pv_it/9f85861a2422bfaf1627227c7d0968a483b71e9d0/expr.png\" style=\"display:inline;vertical-align:middle;\" /></a></span>"
      ],
      "text/plain": [
       "|= FALSE in BOOLEANS"
      ]
     },
     "execution_count": 10,
     "metadata": {},
     "output_type": "execute_result"
    }
   ],
   "source": [
    "foldInBool.specialize({A:FALSE})"
   ]
  },
  {
   "cell_type": "code",
   "execution_count": 11,
   "metadata": {},
   "outputs": [
    {
     "data": {
      "text/html": [
       "<table><tr><th>&nbsp;</th><th>step type</th><th>requirements</th><th>statement</th></tr>\n",
       "<tr><td>0</td><td>specialization</td><td>1, 2</td><td><span style=\"font-size:20px;\"> &#x22A2;&nbsp;<a class=\"ProveItLink\" href=\"../__pv_it/9f85861a2422bfaf1627227c7d0968a483b71e9d0/expr.ipynb\"><img src=\"../__pv_it/9f85861a2422bfaf1627227c7d0968a483b71e9d0/expr.png\" style=\"display:inline;vertical-align:middle;\" /></a></span></td></tr>\n",
       "<tr><td>&nbsp;</td><td colspan=4 style=\"text-align:left\"><span style=\"font-size:20px;\"><a class=\"ProveItLink\" href=\"../__pv_it/3a48ad38f9f79e85e53cbeddb5fadd1cbc25d4930/expr.ipynb\"><img src=\"../__pv_it/3a48ad38f9f79e85e53cbeddb5fadd1cbc25d4930/expr.png\" style=\"display:inline;vertical-align:middle;\" /></a></span></td></tr><tr><td>1</td><td>theorem</td><td></td><td><span style=\"font-size:20px;\"> &#x22A2;&nbsp;<a class=\"ProveItLink\" href=\"../__pv_it/b979d3fddb89057d4f0a79714f75e2bc71c0bf560/expr.ipynb\"><img src=\"../__pv_it/b979d3fddb89057d4f0a79714f75e2bc71c0bf560/expr.png\" style=\"display:inline;vertical-align:middle;\" /></a></span></td></tr>\n",
       "<tr><td>&nbsp;</td><td colspan=4 style-\"text-align:left\"><a class=\"ProveItLink\" href=\"foldInBool.ipynb\">proveit.logic.boolean.foldInBool</a></td></tr><tr><td>2</td><td>specialization</td><td>3, 4, 5</td><td><span style=\"font-size:20px;\"> &#x22A2;&nbsp;<a class=\"ProveItLink\" href=\"../__pv_it/76a4cbe43600b8880f0a4423cbb1460f091858e60/expr.ipynb\"><img src=\"../__pv_it/76a4cbe43600b8880f0a4423cbb1460f091858e60/expr.png\" style=\"display:inline;vertical-align:middle;\" /></a></span></td></tr>\n",
       "<tr><td>&nbsp;</td><td colspan=4 style=\"text-align:left\"><span style=\"font-size:20px;\"><a class=\"ProveItLink\" href=\"../__pv_it/542a017b1d25c1f4c66addd5383f240396e62f150/expr.ipynb\"><img src=\"../__pv_it/542a017b1d25c1f4c66addd5383f240396e62f150/expr.png\" style=\"display:inline;vertical-align:middle;\" /></a>, <a class=\"ProveItLink\" href=\"../__pv_it/dd68974b48d8509d629929eb27b5fa135a70f0020/expr.ipynb\"><img src=\"../__pv_it/dd68974b48d8509d629929eb27b5fa135a70f0020/expr.png\" style=\"display:inline;vertical-align:middle;\" /></a></span></td></tr><tr><td>3</td><td>theorem</td><td></td><td><span style=\"font-size:20px;\"> &#x22A2;&nbsp;<a class=\"ProveItLink\" href=\"../../equality/__pv_it/852e1ee2fa958d278b508802e036ae808ae8febe0/expr.ipynb\"><img src=\"../../equality/__pv_it/852e1ee2fa958d278b508802e036ae808ae8febe0/expr.png\" style=\"display:inline;vertical-align:middle;\" /></a></span></td></tr>\n",
       "<tr><td>&nbsp;</td><td colspan=4 style-\"text-align:left\"><a class=\"ProveItLink\" href=\"../../equality/_proofs_/substituteTruth.ipynb\">proveit.logic.equality.substituteTruth</a></td></tr><tr><td>4</td><td>specialization</td><td>6, 7, 8</td><td><span style=\"font-size:20px;\"> &#x22A2;&nbsp;<a class=\"ProveItLink\" href=\"../__pv_it/45a5131d69cf5d964e8d9a45818eeba0fc6b08040/expr.ipynb\"><img src=\"../__pv_it/45a5131d69cf5d964e8d9a45818eeba0fc6b08040/expr.png\" style=\"display:inline;vertical-align:middle;\" /></a></span></td></tr>\n",
       "<tr><td>&nbsp;</td><td colspan=4 style=\"text-align:left\"><span style=\"font-size:20px;\"><a class=\"ProveItLink\" href=\"../__pv_it/b1dab820a18e657960cbab257ba1d7302c95133b0/expr.ipynb\"><img src=\"../__pv_it/b1dab820a18e657960cbab257ba1d7302c95133b0/expr.png\" style=\"display:inline;vertical-align:middle;\" /></a>, <a class=\"ProveItLink\" href=\"../__pv_it/cd99246ec40000fad89663707bc0916fa63964230/expr.ipynb\"><img src=\"../__pv_it/cd99246ec40000fad89663707bc0916fa63964230/expr.png\" style=\"display:inline;vertical-align:middle;\" /></a></span></td></tr><tr><td>5</td><td>theorem</td><td></td><td><span style=\"font-size:20px;\"> &#x22A2;&nbsp;<a class=\"ProveItLink\" href=\"../__pv_it/8ea916c02b75ccfcfc2b0e367a466f2a5eea21560/expr.ipynb\"><img src=\"../__pv_it/8ea916c02b75ccfcfc2b0e367a466f2a5eea21560/expr.png\" style=\"display:inline;vertical-align:middle;\" /></a></span></td></tr>\n",
       "<tr><td>&nbsp;</td><td colspan=4 style-\"text-align:left\"><a class=\"ProveItLink\" href=\"falseEqFalse.ipynb\">proveit.logic.boolean.falseEqFalse</a></td></tr><tr><td>6</td><td>theorem</td><td></td><td><span style=\"font-size:20px;\"> &#x22A2;&nbsp;<a class=\"ProveItLink\" href=\"../../equality/__pv_it/c9f60a12cf66cdd6e93a0a14db2852a9185d17cc0/expr.ipynb\"><img src=\"../../equality/__pv_it/c9f60a12cf66cdd6e93a0a14db2852a9185d17cc0/expr.png\" style=\"display:inline;vertical-align:middle;\" /></a></span></td></tr>\n",
       "<tr><td>&nbsp;</td><td colspan=4 style-\"text-align:left\"><a class=\"ProveItLink\" href=\"../../equality/_proofs_/substituteFalsehood.ipynb\">proveit.logic.equality.substituteFalsehood</a></td></tr><tr><td>7</td><td>theorem</td><td></td><td><span style=\"font-size:20px;\"> &#x22A2;&nbsp;<a class=\"ProveItLink\" href=\"../disjunction/__pv_it/1da6b0e09dcd4642d4419ced0432f25c508208780/expr.ipynb\"><img src=\"../disjunction/__pv_it/1da6b0e09dcd4642d4419ced0432f25c508208780/expr.png\" style=\"display:inline;vertical-align:middle;\" /></a></span></td></tr>\n",
       "<tr><td>&nbsp;</td><td colspan=4 style-\"text-align:left\"><a class=\"ProveItLink\" href=\"../disjunction/_proofs_/falseOrTrue.ipynb\">proveit.logic.boolean.disjunction.falseOrTrue</a></td></tr><tr><td>8</td><td>specialization</td><td>9, 10</td><td><span style=\"font-size:20px;\"> &#x22A2;&nbsp;<a class=\"ProveItLink\" href=\"../__pv_it/4a7fac630c98e589f1cf925673e60a8bb595d7ac0/expr.ipynb\"><img src=\"../__pv_it/4a7fac630c98e589f1cf925673e60a8bb595d7ac0/expr.png\" style=\"display:inline;vertical-align:middle;\" /></a></span></td></tr>\n",
       "<tr><td>&nbsp;</td><td colspan=4 style=\"text-align:left\"><span style=\"font-size:20px;\"><a class=\"ProveItLink\" href=\"../__pv_it/05a335a1185b6f32b84e2c0c3c73ce8517b1ecb20/expr.ipynb\"><img src=\"../__pv_it/05a335a1185b6f32b84e2c0c3c73ce8517b1ecb20/expr.png\" style=\"display:inline;vertical-align:middle;\" /></a>, <a class=\"ProveItLink\" href=\"../__pv_it/e2d34118030cab93bf6f44c81e70311fd8c0c86a0/expr.ipynb\"><img src=\"../__pv_it/e2d34118030cab93bf6f44c81e70311fd8c0c86a0/expr.png\" style=\"display:inline;vertical-align:middle;\" /></a></span></td></tr><tr><td>9</td><td>theorem</td><td></td><td><span style=\"font-size:20px;\"> &#x22A2;&nbsp;<a class=\"ProveItLink\" href=\"../../equality/__pv_it/f9d207e192d579db6f280d162f39b8df3d44c2310/expr.ipynb\"><img src=\"../../equality/__pv_it/f9d207e192d579db6f280d162f39b8df3d44c2310/expr.png\" style=\"display:inline;vertical-align:middle;\" /></a></span></td></tr>\n",
       "<tr><td>&nbsp;</td><td colspan=4 style-\"text-align:left\"><a class=\"ProveItLink\" href=\"../../equality/_proofs_/unfoldNotEquals.ipynb\">proveit.logic.equality.unfoldNotEquals</a></td></tr><tr><td>10</td><td>axiom</td><td></td><td><span style=\"font-size:20px;\"> &#x22A2;&nbsp;<a class=\"ProveItLink\" href=\"../__pv_it/3e28545b304b5eec31fcc9e7531755af827b4bfc0/expr.ipynb\"><img src=\"../__pv_it/3e28545b304b5eec31fcc9e7531755af827b4bfc0/expr.png\" style=\"display:inline;vertical-align:middle;\" /></a></span></td></tr>\n",
       "<tr><td>&nbsp;</td><td colspan=4 style-\"text-align:left\"><a class=\"ProveItLink\" href=\"../_axioms_.ipynb#falseNotTrue\">proveit.logic.boolean.falseNotTrue</a></td></tr></table>"
      ],
      "text/plain": [
       "\tstep type\trequirements\tstatement\n",
       "0\tspecialization\t1, 2\t|= FALSE in BOOLEANS\n",
       "\tA -> FALSE\n",
       "1\ttheorem\t\t|= forall_{A | (A = TRUE) or (A = FALSE)} (A in BOOLEANS)\n",
       "\tproveit.logic.boolean.foldInBool\n",
       "2\tspecialization\t3, 4, 5\t|= (FALSE = TRUE) or (FALSE = FALSE)\n",
       "\tP -> [_x_ -> ((FALSE = TRUE) or _x_)], x -> (FALSE = FALSE)\n",
       "3\ttheorem\t\t|= forall_{P, x | P(TRUE) , x} P(x)\n",
       "\tproveit.logic.equality.substituteTruth\n",
       "4\tspecialization\t6, 7, 8\t|= (FALSE = TRUE) or TRUE\n",
       "\tP -> [_x_ -> (_x_ or TRUE)], x -> (FALSE = TRUE)\n",
       "5\ttheorem\t\t|= FALSE = FALSE\n",
       "\tproveit.logic.boolean.falseEqFalse\n",
       "6\ttheorem\t\t|= forall_{P, x | P(FALSE) , [not](x)} P(x)\n",
       "\tproveit.logic.equality.substituteFalsehood\n",
       "7\ttheorem\t\t|= FALSE or TRUE\n",
       "\tproveit.logic.boolean.disjunction.falseOrTrue\n",
       "8\tspecialization\t9, 10\t|= [not](FALSE = TRUE)\n",
       "\tx -> FALSE, y -> TRUE\n",
       "9\ttheorem\t\t|= forall_{x, y | x != y} [not](x = y)\n",
       "\tproveit.logic.equality.unfoldNotEquals\n",
       "10\taxiom\t\t|= FALSE != TRUE\n",
       "\tproveit.logic.boolean.falseNotTrue"
      ]
     },
     "execution_count": 11,
     "metadata": {},
     "output_type": "execute_result"
    }
   ],
   "source": [
    "%qed"
   ]
  },
  {
   "cell_type": "code",
   "execution_count": null,
   "metadata": {},
   "outputs": [],
   "source": []
  }
 ],
 "metadata": {
  "kernelspec": {
   "display_name": "Python 3",
   "language": "python",
   "name": "python3"
  },
  "language_info": {
   "codemirror_mode": {
    "name": "ipython",
    "version": 3
   },
   "file_extension": ".py",
   "mimetype": "text/x-python",
   "name": "python",
   "nbconvert_exporter": "python",
   "pygments_lexer": "ipython3",
   "version": "3.7.0"
  }
 },
 "nbformat": 4,
 "nbformat_minor": 1
}
