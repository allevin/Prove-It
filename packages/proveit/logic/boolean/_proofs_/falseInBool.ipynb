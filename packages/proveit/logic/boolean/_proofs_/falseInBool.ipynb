{
 "cells": [
  {
   "cell_type": "markdown",
   "metadata": {},
   "source": [
    "Proof of <a class=\"ProveItLink\" href=\"../../../_context_.ipynb\">proveit</a>.<a class=\"ProveItLink\" href=\"../../_context_.ipynb\">logic</a>.<a class=\"ProveItLink\" href=\"../_context_.ipynb\">boolean</a>.<a class=\"ProveItLink\" href=\"../_theorems_.ipynb#falseInBool\">falseInBool</a> theorem\n",
    "========"
   ]
  },
  {
   "cell_type": "code",
   "execution_count": 1,
   "metadata": {},
   "outputs": [],
   "source": [
    "import proveit\n",
    "from proveit._common_ import A\n",
    "from proveit.logic import TRUE, FALSE, Or, Equals\n",
    "from proveit.logic.boolean._theorems_ import foldInBool\n",
    "from proveit.logic.boolean.disjunction._theorems_ import falseOrTrue\n",
    "from proveit.logic.equality._theorems_ import unfoldNotEquals, subLeftSideInto\n",
    "context = proveit.Context('..') # the theorem's context is in the parent directory"
   ]
  },
  {
   "cell_type": "code",
   "execution_count": 2,
   "metadata": {},
   "outputs": [
    {
     "name": "stdout",
     "output_type": "stream",
     "text": [
      "Beginning proof of falseInBool\n",
      "Recorded 'presuming' information\n",
      "Presuming proveit.logic.boolean.disjunction.falseOrTrue, proveit.logic.equality.unfoldNotEquals theorems (applied transitively).\n",
      "Presuming previous theorems (applied transitively).\n"
     ]
    },
    {
     "data": {
      "text/html": [
       "<strong id=\"falseInBool\">falseInBool:</strong> <a class=\"ProveItLink\" href=\"../__pv_it/5ddcdc170ae135aa2397d35b7606cd81f952c91a0/expr.ipynb\"><img src=\"data:image/png;base64,iVBORw0KGgoAAAANSUhEUgAAADYAAAAPBAMAAABdHiGLAAAAMFBMVEX///92dnaqqqpUVFS6urqY\n",
       "mJgyMjLu7u5EREQQEBAiIiJmZmbMzMyIiIjc3NwAAABz/qQtAAAAAXRSTlMAQObYZgAAAJVJREFU\n",
       "GNNjYGBgeMuABhjz277NagIzT6PLMXCwXCgrFMApx+uQgCLHfm3VqgSoHFOAOYrcsXAkfX4NyHJ8\n",
       "7UhmnoooQJbjeICQW/V/Loo7K1DccgnFTM9VqxBuYWhwRJY7jKyPoYEDWa4KjxxzAIocipnsS5Dk\n",
       "WPc2MOxatWrlqlUrwELP9sDD+sdKI7RwVM6CuBMCADjtOPFI200aAAAAAElFTkSuQmCC\n",
       "\" style=\"display:inline;vertical-align:middle;\" /></a><br>(see <a class=\"ProveItLink\" href=\"../__pv_it/5ddcdc170ae135aa2397d35b7606cd81f952c91a0/dependencies.ipynb\">dependencies</a>)<br>"
      ],
      "text/plain": [
       "falseInBool: FALSE in BOOLEANS"
      ]
     },
     "execution_count": 2,
     "metadata": {},
     "output_type": "execute_result"
    }
   ],
   "source": [
    "%proving falseInBool presuming [falseOrTrue, unfoldNotEquals]"
   ]
  },
  {
   "cell_type": "code",
   "execution_count": 3,
   "metadata": {},
   "outputs": [
    {
     "data": {
      "text/html": [
       "<span style=\"font-size:20px;\"> <a class=\"ProveItLink\" href=\"foldInBool.ipynb\" style=\"text-decoration: none\">&#x22A2;&nbsp;</a><a class=\"ProveItLink\" href=\"../__pv_it/768c25286834e2d519e3c28d5b79fe169910e93c0/expr.ipynb\"><img src=\"data:image/png;base64,iVBORw0KGgoAAAANSUhEUgAAAO0AAAAXBAMAAAAVatXDAAAAMFBMVEX///8QEBC6urrMzMxUVFRm\n",
       "ZmZERETc3NwyMjKqqqp2dnaIiIiYmJgiIiLu7u4AAAAU9Wx4AAAAAXRSTlMAQObYZgAAAr9JREFU\n",
       "SMfFVj1oFEEUfne7t/eze5tgJxLcIqiIwhYWNiGHBlQQk0YFRVybPQUhWxwJCsFrJILRWGil4CGI\n",
       "iCKLVlY5LAS1iUVAxMONqAQlGCyOFKK+mdndmfvZOZETH9zOzPfNzPfmzZuZA/hPFvyTWdO+jH2G\n",
       "v0VSedVv3V2sGGlFC/On14fOAGRsgPsEuNpv3XDC+TZYS/srX2oAVYApbGadPsvqLMzG+6BDV7dQ\n",
       "9CVADqnMtT7rppjeuZMea3+90ngT6ubrhwCW0ad709Mz/Q7zNlb4CxYtlbmAr3crBlfDhTZd923n\n",
       "yKzdZbr8n9LHWFIHt+u0MhXwOI88x0ZhAmAvQJmCs6wz63FegGJTalGtBz1Hvx9glO1zme9v49cm\n",
       "4iHu8TCYVZoE3xnFejgChHbEPeW6NbgTtdvocFhMb6BfCy5MkNJ0xLx6iq30IEARdBqNTz8E3bwv\n",
       "QBxfAZ1kazIdGnVIGRsbp4rpoUYjzitwtiO1hrPUizT8j5YEXc0TII6rto4ZUUmmRV3csRSNpFIS\n",
       "1guOxnTNKr1cFN8VdFMixHE8l7iCfRKa2UbyQQ+LgzTOi+26JM5Q3kN9hROC7u4IUi+hXY7wdAke\n",
       "Q7YkoZmdJSmPurk12jzYootxNkgcblB3XsCCoDssQhxXqvAZVE9CM7sbbrb2kzZXLa5rHHfYOYIU\n",
       "iY65dHgy4LrXRahl4oJVkdHMduKZ3TwLxuQ6TejsRTt6F5qvD2AlRxwxyOiMB6M2190SQVprIB08\n",
       "FEdldHhPem03yn6Wz5Etx7UdAAN1rrsqQnxBBt4MD0tSGloqCfYgqnxsQnb8HdfFo8UhPnEG4/PN\n",
       "7qTDayVjtb2DCWZWOzGmq3d/oXJks+Q0s4pUV/WSdM3uL/LNyGE5jc5J/+c8gSRduNV1QHzx9KD/\n",
       "wtQwM7o9dIX43PSge9tvpYXIP1vpZ/sAAAAASUVORK5CYII=\n",
       "\" style=\"display:inline;vertical-align:middle;\" /></a></span>"
      ],
      "text/plain": [
       "|- forall_{A | (A = TRUE) or (A = FALSE)} (A in BOOLEANS)"
      ]
     },
     "execution_count": 3,
     "metadata": {},
     "output_type": "execute_result"
    }
   ],
   "source": [
    "foldInBool"
   ]
  },
  {
   "cell_type": "code",
   "execution_count": 4,
   "metadata": {},
   "outputs": [
    {
     "data": {
      "text/html": [
       "<span style=\"font-size:20px;\"> <a class=\"ProveItLink\" href=\"../disjunction/_proofs_/falseOrTrue.ipynb\" style=\"text-decoration: none\">&#x22A2;&nbsp;</a><a class=\"ProveItLink\" href=\"../disjunction/__pv_it/f442276f834cda47790ded243b38294647dfe1df0/expr.ipynb\"><img src=\"data:image/png;base64,iVBORw0KGgoAAAANSUhEUgAAADUAAAAPBAMAAAC2KZqIAAAAMFBMVEX///+YmJh2dnaqqqoyMjLu\n",
       "7u5UVFS6urpEREQQEBAiIiJmZmbMzMyIiIjc3NwAAAD1oEhMAAAAAXRSTlMAQObYZgAAAHtJREFU\n",
       "GNNjYGBgeMuACrhXgUEDiH0aIsQOJg+ASZ4NUHVQOTaQMO8FrHI8IEO4ArDKMfgBsTUDdjlrqDw2\n",
       "OaB5YHOxyQHdwVaAQ45hAUMIAy65zQyKOOWeAHXikmM7eAGnHE9XAIrcrlWrVq5atQIi5A1XpcCA\n",
       "Do6i8AAHVSocMnjJgQAAAABJRU5ErkJggg==\n",
       "\" style=\"display:inline;vertical-align:middle;\" /></a></span>"
      ],
      "text/plain": [
       "|- FALSE or TRUE"
      ]
     },
     "execution_count": 4,
     "metadata": {},
     "output_type": "execute_result"
    }
   ],
   "source": [
    "falseOrTrue"
   ]
  },
  {
   "cell_type": "code",
   "execution_count": 5,
   "metadata": {},
   "outputs": [
    {
     "data": {
      "text/html": [
       "<strong id=\"FeqT_eval\">FeqT_eval:</strong> <span style=\"font-size:20px;\"> <a class=\"ProveItLink\" href=\"../__pv_it/36ae147e183645948ab1fecc5a869f326ae601090/proof.ipynb\" style=\"text-decoration: none\">&#x22A2;&nbsp;</a><a class=\"ProveItLink\" href=\"../__pv_it/cffa0daa5dfb85b96b7b82a53eeebe10380a99740/expr.ipynb\"><img src=\"data:image/png;base64,iVBORw0KGgoAAAANSUhEUgAAAHUAAAAVBAMAAACK3rzVAAAAMFBMVEX////c3NwiIiJERESqqqqY\n",
       "mJh2dnZmZmYQEBDu7u4yMjJUVFTMzMyIiIi6uroAAAAs73DqAAAAAXRSTlMAQObYZgAAALhJREFU\n",
       "OMtjYKAE8F3AL8/6ALfcaRDBiGkAuxIYGDDUYNEEVb8SRPAUYDMWIsqFU4b3AiG9rAm4ZDgmENLL\n",
       "2YBL5hUDIb0MJrhkygjrTcclsxRFL/sqMNiAotcLl0wfYXtf4JL5R1jveVrobUH1LywxYbgZm4wp\n",
       "YXujcMmkUxBHjyDOaYI7B1kFJDWuw5JLwOo5BAhlUmxpEpo9EwjpZcOdwVcS0jsLt5Q0Ib0bcUsx\n",
       "EihzeA/gkgEAKZ06sKO/yYkAAAAASUVORK5CYII=\n",
       "\" style=\"display:inline;vertical-align:middle;\" /></a></span><br>"
      ],
      "text/plain": [
       "FeqT_eval: |- (FALSE = TRUE) = FALSE"
      ]
     },
     "execution_count": 5,
     "metadata": {},
     "output_type": "execute_result"
    }
   ],
   "source": [
    "FeqT_eval = Equals(FALSE, TRUE).evaluation()"
   ]
  },
  {
   "cell_type": "code",
   "execution_count": 6,
   "metadata": {},
   "outputs": [
    {
     "data": {
      "text/html": [
       "<strong id=\"FeqF_eval\">FeqF_eval:</strong> <span style=\"font-size:20px;\"> <a class=\"ProveItLink\" href=\"../__pv_it/8866dba793eaf920312f33661038dddf42331e000/proof.ipynb\" style=\"text-decoration: none\">&#x22A2;&nbsp;</a><a class=\"ProveItLink\" href=\"../__pv_it/37f7d74aafae9fec2cf7981a2ff2d88473332c100/expr.ipynb\"><img src=\"data:image/png;base64,iVBORw0KGgoAAAANSUhEUgAAAHUAAAAVBAMAAACK3rzVAAAAMFBMVEX////c3NwiIiJERESqqqqY\n",
       "mJh2dnZmZmYQEBDu7u4yMjJUVFTMzMyIiIi6uroAAAAs73DqAAAAAXRSTlMAQObYZgAAALhJREFU\n",
       "OMtjYKAE8F3AL8/6ALfcaRDBiNUAiGgNujC7EhgYMDCsBHF5CrDphYhy4ZThvUBIL2sCLhmOCYT0\n",
       "cjbgknnFQEgvgwkumTLCetNxySxF0cu+Cgw2oOj1wiXTR9jeF7hk/hHWe54WeltQ/QtPMuhuxiZj\n",
       "StjeKFwy6RTE0SOIc5rgzkFO8RDRdVj0gtMphwChTIotTUKzZwIhvWy4M/hKQnpn4ZaSJqR3I24p\n",
       "RgJlDu8BXDIAPZ86sO/7s1MAAAAASUVORK5CYII=\n",
       "\" style=\"display:inline;vertical-align:middle;\" /></a></span><br>"
      ],
      "text/plain": [
       "FeqF_eval: |- (FALSE = FALSE) = TRUE"
      ]
     },
     "execution_count": 6,
     "metadata": {},
     "output_type": "execute_result"
    }
   ],
   "source": [
    "FeqF_eval = Equals(FALSE, FALSE).evaluation()"
   ]
  },
  {
   "cell_type": "code",
   "execution_count": 7,
   "metadata": {},
   "outputs": [
    {
     "data": {
      "text/html": [
       "<strong id=\"FeqT_or_T\">FeqT_or_T:</strong> <span style=\"font-size:20px;\"> <a class=\"ProveItLink\" href=\"../__pv_it/fa4fa53b223acee6f252ba41b77ef7d3b286f7b60/proof.ipynb\" style=\"text-decoration: none\">&#x22A2;&nbsp;</a><a class=\"ProveItLink\" href=\"../__pv_it/5c48b682c8c2b7c72838145036251acdab8d27f10/expr.ipynb\"><img src=\"data:image/png;base64,iVBORw0KGgoAAAANSUhEUgAAAHAAAAAVBAMAAABs93eRAAAAMFBMVEX////c3NwiIiJERESqqqqY\n",
       "mJh2dnZmZmYQEBDu7u4yMjJUVFTMzMyIiIi6uroAAAAs73DqAAAAAXRSTlMAQObYZgAAAQRJREFU\n",
       "OMtjYCAb8F3AL8/6AIfEaRDBiKmbXQkMDBhqUMWLwMLKDAwrQTyeAmxmQkS5wGywvTwQ8eMggvcC\n",
       "IY2sCSByD4i4i6SRYwIhjZwNIPIwiNBE0viKgZBGBhOwgwUYGFgKkDSWEdaYDiJAmkCa4RqXomhk\n",
       "XwUGG1A0ejFAnXmYAUljH2EbXzBAA2YfssZ/hDWeB5NMDJwLyNLI7sAWgKyxBdWPsOSC6VTGBUwM\n",
       "yBpNCdsYBeHtiUXRmE5kdADDVBNF4yOI+5rg7kPWCE5sDOsgPC644cfASU6AUL6DJDmgMRNQs1sC\n",
       "IY1sODLsSkIaZ+EQlyakcSMOcUYCRQfvAazCADljRGmuxW8MAAAAAElFTkSuQmCC\n",
       "\" style=\"display:inline;vertical-align:middle;\" /></a></span><br>"
      ],
      "text/plain": [
       "FeqT_or_T: |- (FALSE = TRUE) or TRUE"
      ]
     },
     "execution_count": 7,
     "metadata": {},
     "output_type": "execute_result"
    }
   ],
   "source": [
    "FeqT_or_T = FeqT_eval.subLeftSideInto(falseOrTrue)"
   ]
  },
  {
   "cell_type": "code",
   "execution_count": 8,
   "metadata": {},
   "outputs": [
    {
     "data": {
      "text/html": [
       "<strong id=\"innerExpr\">innerExpr:</strong> <a class=\"ProveItLink\" href=\"../__pv_it/69ff1040363cfb4acdf6b0395f127f469071c31f0/expr.ipynb\"><img src=\"data:image/png;base64,iVBORw0KGgoAAAANSUhEUgAAAXMAAAAyCAMAAACZF8vdAAAANlBMVEX///8UFBQNDQ0QEBAyMjK6\n",
       "urp2dnYiIiLMzMyIiIiYmJjc3NxERESqqqpUVFRmZmbu7u4AAABG+8EjAAAAAXRSTlMAQObYZgAA\n",
       "BFNJREFUeNrtnNuaoyAMgN0FgXDm/V92BTyAVUorujv7kRumVmL4E0NAO8MwizV66HKfMKz2h5ST\n",
       "ooO5UziSNj/g4HPPjTsvWTbaN32AYtZ0JCPk7ddExjZgoxqO6as+S2mKhznzQlRjUkZu9p2UdOqN\n",
       "TWRsfMfqvJ1EVNE3NBHpD7SJhUXN0UCFk8kn6Q4ClL5L8HTvKPs4c2zzNsTCBy5LzsXJzZOc8bFF\n",
       "hYESl6jLHLA64h1z/NeZA+TtFeZ8u60121/gg+xCzgfKHElY6Z/JHNm8vcLcou3wGoLUfmrSrOZw\n",
       "oDbJxj+V+Yjz9hLzQW7G47k6UOZzo6KaE+a6ijkHMCT4HhkGIGFQALHWxGb6UvO5vCcAY2S+dFk9\n",
       "L4vMBQEtFBgoJshlnk69ulwlvdr3zMn2YWGNz+rngs1RzRXmik6XNWHcWHJ/KmG+mg8HkFhOE8hf\n",
       "AwLzpMusnZaY2wkYp3xA9GSmzj/q5G7HPG8PmRuciC4wV4l3Y05h8iyBFGyOaq4w536qHV2AGzJV\n",
       "OJWFCTiOQHjQWK5/pl1m9cXcQoKzJltZFXOrN8VozNtrcT6i/eSszzJhyeao5lJuGUYCscaRgWtY\n",
       "PKXMvRdEXFKJOZ+vXWryufeIludcfv+imSC36lj+ck2YM7fztMWnE2XB5qjmCnOBp5uZFZkjPEU1\n",
       "35gnXWrnUFQoyfa3bxJ8NzI300gIL9ZMcBdzjCNia6vjPOlSyVwEdbaKuUmmNaTy9jif71ecNbll\n",
       "CpxXb9fZfDm32ABTOTayM+bMRxndUnvapYY5FyE1DlDFnKXRJXneXotznqUSzfj5zVeymV+eQ5GO\n",
       "a1YlDpiHUkqa9YAJcZ50qahb1JSW/Ox8uk0CL5n0pbojpnGtGGqW8/VQ0eYLtSLTzk0lgpAGwBIM\n",
       "4TNT0iEzAHZ+A0xaX5/H+1roUJ/7LZi1y1l9ruQi06isBGIJAT7sv6lYE9GsnbMIOsoiJ8zTwh6P\n",
       "hRVfvc1RzZdxfoe0XvuLvL0iFu38Ya+o+X+ZL/tSnDQwDdqMEOqYC2d+JvOjvdxvwxw3MciW9nKH\n",
       "hDl/uzf1rzIXOm+/F93m0eSi5nigeMtflD6EfABK2z6bW0oHcTEzQBuzZjXTMMfjgmcJ7pN1epf2\n",
       "oufZnrixw3hKpIducX/J4knhCAZBte0knhNF/cxjUM8tj4lBrM+hDyNfH+VcrRVL26VdEpmfM8Q1\n",
       "UYvswkyH+m7Z7JK1P+nMn5Dk3S3bZL+lM38n7fcVO/NWzLl0Tg3MObkrbtJHEZ154zgn/qXd18Vq\n",
       "+sitM2+dWyQ+3HazPbfcx3zKIrzn84fnUFVVv3fmLZkbgmxn/ihzYn1K78wfZO5f47DI9LrlfuYu\n",
       "ClCHfUZ3EpZDZ/U56VSfXod26cz/ReZJ+nV90/sJSX+rePyb3C6tBdJ1DnO95nggtSCcewA6k7uR\n",
       "U7T/xxb9lYt7RaGXF1mF7vPorfMnXfcJ/wAyCzr77lucDAAAAABJRU5ErkJggg==\n",
       "\" style=\"display:inline;vertical-align:middle;\" /></a><br>"
      ],
      "text/plain": [
       "innerExpr: {lambda:[_x_ -> ((FALSE = TRUE) or _x_)], _x_:TRUE}"
      ]
     },
     "execution_count": 8,
     "metadata": {},
     "output_type": "execute_result"
    }
   ],
   "source": [
    "# just replace TRUE to the right of the logical Or\n",
    "innerExpr = FeqT_or_T.innerExpr().operands[1]"
   ]
  },
  {
   "cell_type": "code",
   "execution_count": 9,
   "metadata": {},
   "outputs": [
    {
     "data": {
      "text/html": [
       "<span style=\"font-size:20px;\"> <a class=\"ProveItLink\" href=\"../__pv_it/4ede5e63dc8788de0b4b9fa1744de055e5c2fc1d0/proof.ipynb\" style=\"text-decoration: none\">&#x22A2;&nbsp;</a><a class=\"ProveItLink\" href=\"../__pv_it/be9578c2ff32bfa3887f9d8851a73a42eb84ac9d0/expr.ipynb\"><img src=\"data:image/png;base64,iVBORw0KGgoAAAANSUhEUgAAAKsAAAAVBAMAAADLBgMvAAAAMFBMVEX////c3NwiIiJERESqqqqY\n",
       "mJh2dnZmZmYQEBDu7u4yMjJUVFTMzMyIiIi6uroAAAAs73DqAAAAAXRSTlMAQObYZgAAAYpJREFU\n",
       "OMu1lTFLw1AQx/+pTZPGNHYXQXSxm4PumZ06dRCUbk5CcXAQhyouLpKxOGVxUEHiXqTg4OBgP4BC\n",
       "cBJB8BOIvXtN60tDLos3/F/ukvfr3fXyAvyTecP8+2acjnwJxF2SZxJjlm2tsK3jOHXDjUiXMokc\n",
       "tQYjueZHO1kPqajD15yzy35A+pSJVdEQqA0lrNkm7ZO8TSQX2wLsQMJWu6SPJA2ScxHbAz4hYbHB\n",
       "pdeBMvleKGLnfBzK2D0SQhIaVlvEVjq40rDWDVukYbcwbgA3wmlq2CPecKthyyEu5Gw/MP6nHmi1\n",
       "YzFbr4sfGfvCWkKVu7ogY93v4ljLrzSLY8/03iav1mwTjLDEq+1r2APesJpuwqac7bby+jtqeppi\n",
       "tmaopqfAgI3moJFMT4EBe1eVn04q/4tVI3qnPEfxvGWufG1aOab9UFEnhl2XTk718o5+JFDriXjW\n",
       "9pKDJM8qqUOzJWL3k4Mxzy5TvhNI5dF8L0rY+5RvRMKG+Xr2h0Gz2iDzE5Bjr8Avvt5rXMav9zAA\n",
       "AAAASUVORK5CYII=\n",
       "\" style=\"display:inline;vertical-align:middle;\" /></a></span>"
      ],
      "text/plain": [
       "|- (FALSE = TRUE) or (FALSE = FALSE)"
      ]
     },
     "execution_count": 9,
     "metadata": {},
     "output_type": "execute_result"
    }
   ],
   "source": [
    "FeqF_eval.subLeftSideInto(innerExpr) "
   ]
  },
  {
   "cell_type": "code",
   "execution_count": 10,
   "metadata": {},
   "outputs": [
    {
     "name": "stdout",
     "output_type": "stream",
     "text": [
      "falseInBool has been proven.  Now simply execute \"%qed\".\n"
     ]
    },
    {
     "data": {
      "text/html": [
       "<span style=\"font-size:20px;\"> <a class=\"ProveItLink\" href=\"../__pv_it/f67175cdc0ee19c7dd989b77a67a464bc7eadfc10/proof.ipynb\" style=\"text-decoration: none\">&#x22A2;&nbsp;</a><a class=\"ProveItLink\" href=\"../__pv_it/5ddcdc170ae135aa2397d35b7606cd81f952c91a0/expr.ipynb\"><img src=\"data:image/png;base64,iVBORw0KGgoAAAANSUhEUgAAADYAAAAPBAMAAABdHiGLAAAAMFBMVEX///92dnaqqqpUVFS6urqY\n",
       "mJgyMjLu7u5EREQQEBAiIiJmZmbMzMyIiIjc3NwAAABz/qQtAAAAAXRSTlMAQObYZgAAAJVJREFU\n",
       "GNNjYGBgeMuABhjz277NagIzT6PLMXCwXCgrFMApx+uQgCLHfm3VqgSoHFOAOYrcsXAkfX4NyHJ8\n",
       "7UhmnoooQJbjeICQW/V/Loo7K1DccgnFTM9VqxBuYWhwRJY7jKyPoYEDWa4KjxxzAIocipnsS5Dk\n",
       "WPc2MOxatWrlqlUrwELP9sDD+sdKI7RwVM6CuBMCADjtOPFI200aAAAAAElFTkSuQmCC\n",
       "\" style=\"display:inline;vertical-align:middle;\" /></a></span>"
      ],
      "text/plain": [
       "|- FALSE in BOOLEANS"
      ]
     },
     "execution_count": 10,
     "metadata": {},
     "output_type": "execute_result"
    }
   ],
   "source": [
    "foldInBool.specialize({A:FALSE})"
   ]
  },
  {
   "cell_type": "code",
   "execution_count": 11,
   "metadata": {},
   "outputs": [
    {
     "data": {
      "text/html": [
       "<table><tr><th>&nbsp;</th><th>step type</th><th>requirements</th><th>statement</th></tr>\n",
       "<tr><td>0</td><td>specialization</td><td>1, 2</td><td><span style=\"font-size:20px;\"> <a class=\"ProveItLink\" href=\"../__pv_it/f67175cdc0ee19c7dd989b77a67a464bc7eadfc10/proof.ipynb\" style=\"text-decoration: none\">&#x22A2;&nbsp;</a><a class=\"ProveItLink\" href=\"../__pv_it/5ddcdc170ae135aa2397d35b7606cd81f952c91a0/expr.ipynb\"><img src=\"data:image/png;base64,iVBORw0KGgoAAAANSUhEUgAAADYAAAAPBAMAAABdHiGLAAAAMFBMVEX///92dnaqqqpUVFS6urqY\n",
       "mJgyMjLu7u5EREQQEBAiIiJmZmbMzMyIiIjc3NwAAABz/qQtAAAAAXRSTlMAQObYZgAAAJVJREFU\n",
       "GNNjYGBgeMuABhjz277NagIzT6PLMXCwXCgrFMApx+uQgCLHfm3VqgSoHFOAOYrcsXAkfX4NyHJ8\n",
       "7UhmnoooQJbjeICQW/V/Loo7K1DccgnFTM9VqxBuYWhwRJY7jKyPoYEDWa4KjxxzAIocipnsS5Dk\n",
       "WPc2MOxatWrlqlUrwELP9sDD+sdKI7RwVM6CuBMCADjtOPFI200aAAAAAElFTkSuQmCC\n",
       "\" style=\"display:inline;vertical-align:middle;\" /></a></span></td></tr>\n",
       "<tr><td>&nbsp;</td><td colspan=4 style=\"text-align:left\"><span style=\"font-size:20px;\"><a class=\"ProveItLink\" href=\"../../../__pv_it/2cbe72a7ad6f655694dd697106680215e8489b600/expr.ipynb\"><img src=\"data:image/png;base64,iVBORw0KGgoAAAANSUhEUgAAAA8AAAAOBAMAAAACpFvcAAAALVBMVEX///8QEBBERERUVFS6urqI\n",
       "iIhmZmaqqqrc3Nzu7u6YmJgyMjIiIiLMzMwAAADtIaYWAAAAAXRSTlMAQObYZgAAAFtJREFUCNdj\n",
       "YACBOwxQsA9Kc52bAGG05zVAGAFxDmCaZULdAjBjCsO9ADDDgaEvAUTzGhvbKYCVMDAwbgAxChgY\n",
       "eASANAeQwf0AyJgNxEwvGRia5HYwcOm9TgAA6BoR3jrzwFcAAAAASUVORK5CYII=\n",
       "\" style=\"display:inline;vertical-align:middle;\" /></a> : <a class=\"ProveItLink\" href=\"../__pv_it/8f1f7fac882de28c72b62ab80a1700b6d8fd066b0/expr.ipynb\"><img src=\"data:image/png;base64,iVBORw0KGgoAAAANSUhEUgAAAA4AAAAOBAMAAADtZjDiAAAAG1BMVEX///9EREQQEBAiIiJmZmbM\n",
       "zMyIiIjc3NwAAACryk5kAAAAAXRSTlMAQObYZgAAABlJREFUCNdjYGBgKGOAgBBa0s7GxkbGxoYA\n",
       "FMUF2aBfHgoAAAAASUVORK5CYII=\n",
       "\" style=\"display:inline;vertical-align:middle;\" /></a></span></td></tr><tr><td>1</td><td>theorem</td><td></td><td><span style=\"font-size:20px;\"> <a class=\"ProveItLink\" href=\"foldInBool.ipynb\" style=\"text-decoration: none\">&#x22A2;&nbsp;</a><a class=\"ProveItLink\" href=\"../__pv_it/768c25286834e2d519e3c28d5b79fe169910e93c0/expr.ipynb\"><img src=\"data:image/png;base64,iVBORw0KGgoAAAANSUhEUgAAAO0AAAAXBAMAAAAVatXDAAAAMFBMVEX///8QEBC6urrMzMxUVFRm\n",
       "ZmZERETc3NwyMjKqqqp2dnaIiIiYmJgiIiLu7u4AAAAU9Wx4AAAAAXRSTlMAQObYZgAAAr9JREFU\n",
       "SMfFVj1oFEEUfne7t/eze5tgJxLcIqiIwhYWNiGHBlQQk0YFRVybPQUhWxwJCsFrJILRWGil4CGI\n",
       "iCKLVlY5LAS1iUVAxMONqAQlGCyOFKK+mdndmfvZOZETH9zOzPfNzPfmzZuZA/hPFvyTWdO+jH2G\n",
       "v0VSedVv3V2sGGlFC/On14fOAGRsgPsEuNpv3XDC+TZYS/srX2oAVYApbGadPsvqLMzG+6BDV7dQ\n",
       "9CVADqnMtT7rppjeuZMea3+90ngT6ubrhwCW0ad709Mz/Q7zNlb4CxYtlbmAr3crBlfDhTZd923n\n",
       "yKzdZbr8n9LHWFIHt+u0MhXwOI88x0ZhAmAvQJmCs6wz63FegGJTalGtBz1Hvx9glO1zme9v49cm\n",
       "4iHu8TCYVZoE3xnFejgChHbEPeW6NbgTtdvocFhMb6BfCy5MkNJ0xLx6iq30IEARdBqNTz8E3bwv\n",
       "QBxfAZ1kazIdGnVIGRsbp4rpoUYjzitwtiO1hrPUizT8j5YEXc0TII6rto4ZUUmmRV3csRSNpFIS\n",
       "1guOxnTNKr1cFN8VdFMixHE8l7iCfRKa2UbyQQ+LgzTOi+26JM5Q3kN9hROC7u4IUi+hXY7wdAke\n",
       "Q7YkoZmdJSmPurk12jzYootxNkgcblB3XsCCoDssQhxXqvAZVE9CM7sbbrb2kzZXLa5rHHfYOYIU\n",
       "iY65dHgy4LrXRahl4oJVkdHMduKZ3TwLxuQ6TejsRTt6F5qvD2AlRxwxyOiMB6M2190SQVprIB08\n",
       "FEdldHhPem03yn6Wz5Etx7UdAAN1rrsqQnxBBt4MD0tSGloqCfYgqnxsQnb8HdfFo8UhPnEG4/PN\n",
       "7qTDayVjtb2DCWZWOzGmq3d/oXJks+Q0s4pUV/WSdM3uL/LNyGE5jc5J/+c8gSRduNV1QHzx9KD/\n",
       "wtQwM7o9dIX43PSge9tvpYXIP1vpZ/sAAAAASUVORK5CYII=\n",
       "\" style=\"display:inline;vertical-align:middle;\" /></a></span></td></tr>\n",
       "<tr><td>&nbsp;</td><td colspan=4 style-\"text-align:left\"><a class=\"ProveItLink\" href=\"foldInBool.ipynb\">proveit.logic.boolean.foldInBool</a></td></tr><tr><td>2</td><td>specialization</td><td>3, 4, 5</td><td><span style=\"font-size:20px;\"> <a class=\"ProveItLink\" href=\"../__pv_it/4ede5e63dc8788de0b4b9fa1744de055e5c2fc1d0/proof.ipynb\" style=\"text-decoration: none\">&#x22A2;&nbsp;</a><a class=\"ProveItLink\" href=\"../__pv_it/be9578c2ff32bfa3887f9d8851a73a42eb84ac9d0/expr.ipynb\"><img src=\"data:image/png;base64,iVBORw0KGgoAAAANSUhEUgAAAKsAAAAVBAMAAADLBgMvAAAAMFBMVEX////c3NwiIiJERESqqqqY\n",
       "mJh2dnZmZmYQEBDu7u4yMjJUVFTMzMyIiIi6uroAAAAs73DqAAAAAXRSTlMAQObYZgAAAYpJREFU\n",
       "OMu1lTFLw1AQx/+pTZPGNHYXQXSxm4PumZ06dRCUbk5CcXAQhyouLpKxOGVxUEHiXqTg4OBgP4BC\n",
       "cBJB8BOIvXtN60tDLos3/F/ukvfr3fXyAvyTecP8+2acjnwJxF2SZxJjlm2tsK3jOHXDjUiXMokc\n",
       "tQYjueZHO1kPqajD15yzy35A+pSJVdEQqA0lrNkm7ZO8TSQX2wLsQMJWu6SPJA2ScxHbAz4hYbHB\n",
       "pdeBMvleKGLnfBzK2D0SQhIaVlvEVjq40rDWDVukYbcwbgA3wmlq2CPecKthyyEu5Gw/MP6nHmi1\n",
       "YzFbr4sfGfvCWkKVu7ogY93v4ljLrzSLY8/03iav1mwTjLDEq+1r2APesJpuwqac7bby+jtqeppi\n",
       "tmaopqfAgI3moJFMT4EBe1eVn04q/4tVI3qnPEfxvGWufG1aOab9UFEnhl2XTk718o5+JFDriXjW\n",
       "9pKDJM8qqUOzJWL3k4Mxzy5TvhNI5dF8L0rY+5RvRMKG+Xr2h0Gz2iDzE5Bjr8Avvt5rXMav9zAA\n",
       "AAAASUVORK5CYII=\n",
       "\" style=\"display:inline;vertical-align:middle;\" /></a></span></td></tr>\n",
       "<tr><td>&nbsp;</td><td colspan=4 style=\"text-align:left\"><span style=\"font-size:20px;\"><a class=\"ProveItLink\" href=\"../__pv_it/fd4b0a418766985890fb332a124e981d1643d8330/expr.ipynb\"><img src=\"data:image/png;base64,iVBORw0KGgoAAAANSUhEUgAAAEkAAAAVBAMAAAD4Ed5jAAAAMFBMVEX////u7u5mZmaYmJi6urqq\n",
       "qqp2dnbMzMwQEBBEREQyMjLc3NwiIiJUVFSIiIgAAAAeC3ydAAAAAXRSTlMAQObYZgAAAR1JREFU\n",
       "KM9jYCAZsDzAJmoCJt/+v3v37AYQqxarXqYCMPWLgYGzG8RYiN2KBSCC/RsDAysQM/A9wK7KDETw\n",
       "fWFgYP4EZHAIYFclASI4PzAw8H4FMrxweIozAEjwA+2VnwBkqCEktr3d+ghuP5sCkKhPYGA/BOIt\n",
       "hitiTGA+zHEAxmMFOf/9tTQ1cEC0wFWxMfB9YC2AB2MDkJgPc/QXhFkMvBMQ1rMDHc7whwFDFdC/\n",
       "D1BVsX+C8VqRVO0vYBBAtpEPbsRkuBrmDe8Z+OCqmIGu5/wI4yXBVcUbzGDYx4AUEkLz/8Kc4AP0\n",
       "9EwgmMgg+UwszwDGYeByQA5jjg14YgjhmgTsqvJQudhTDuMCVP5erKp40RzCjTWBPWdgAADdXkSh\n",
       "Sa6TGQAAAABJRU5ErkJggg==\n",
       "\" style=\"display:inline;vertical-align:middle;\" /></a> : <a class=\"ProveItLink\" href=\"../__pv_it/c6cdbd6ab0651ccaa3da7102d78af670d48d7cca0/expr.ipynb\"><img src=\"data:image/png;base64,iVBORw0KGgoAAAANSUhEUgAAAIcAAAAVBAMAAACeZ+BxAAAAMFBMVEX////c3NwiIiJERESqqqqY\n",
       "mJh2dnZmZmYQEBDu7u4yMjJUVFTMzMyIiIi6uroAAAAs73DqAAAAAXRSTlMAQObYZgAAATlJREFU\n",
       "OMtjYKAK4LuAX571ARGGnAYRjJgmsSuBgQFDDRGGrAQRPAXYpCCiXGA22D08OMzgvUDIENYEELkH\n",
       "RNzFYQjHBEKGcDaAyMMgQhOHIa8YCBnCYAL2lAADA0sBDkPKCBuSDiJABoAMggHG3I2+tTDOUhRD\n",
       "2FeBwQYUQ7wYoF45jGTBNIaggCYYp4+wS14wQAN1H5JcAsN9Bh8Y5x9hQ86DSSYGzgVIchMYNiM4\n",
       "RBvC7sAWgCLbi2C2oIYJLJlieodxAROKGYx/GDhhbFPCLomC8PbEIssF8n5guAnjpBMZxcC4QU5q\n",
       "LF+ZGxAZ7hHED01wPyAbAk7wDOsgPC6Ikc7GQDCB0zYz7SqMw8AhQCiHQpI90MgJuIuLBEKGsF0g\n",
       "sijAB2YRUZ5IE1KwkQhDGAm4lvcAQSMAk9hKsIwYsYUAAAAASUVORK5CYII=\n",
       "\" style=\"display:inline;vertical-align:middle;\" /></a>, <a class=\"ProveItLink\" href=\"../../../__pv_it/530be409e3083890784cf1d7b28c9e67e90af9360/expr.ipynb\"><img src=\"data:image/png;base64,iVBORw0KGgoAAAANSUhEUgAAAAsAAAAJBAMAAAAWSsseAAAAKlBMVEX///9ERETMzMwQEBAiIiKY\n",
       "mJju7u5mZmaqqqpUVFSIiIh2dnbc3NwAAAA/vyDhAAAAAXRSTlMAQObYZgAAAENJREFUCNdjYDi9\n",
       "8sTyBQxsG1hdmR0YuBm4LnAoMLAxcAowgADzAjB1VoEhgYH1wFoGrgSG3gBhhlMMDImrs3cFMAAA\n",
       "t0YN+iTRa+sAAAAASUVORK5CYII=\n",
       "\" style=\"display:inline;vertical-align:middle;\" /></a> : <a class=\"ProveItLink\" href=\"../__pv_it/18c95b2992919fa7e4626908cfff0c5404d5ce7b0/expr.ipynb\"><img src=\"data:image/png;base64,iVBORw0KGgoAAAANSUhEUgAAADoAAAAOBAMAAACMfhKgAAAAIVBMVEX///9UVFQyMjJEREQQEBAi\n",
       "IiJmZmbMzMyIiIjc3NwAAAA3+jG2AAAAAXRSTlMAQObYZgAAADFJREFUGNNjYGBgmMGADcBEy7DK\n",
       "lg0S2SQlEFCku72poSAQTC2TgcaFIIxjQFgCEgUAQXIUj1VTIM4AAAAASUVORK5CYII=\n",
       "\" style=\"display:inline;vertical-align:middle;\" /></a></span></td></tr><tr><td>3</td><td>theorem</td><td></td><td><span style=\"font-size:20px;\"> <a class=\"ProveItLink\" href=\"../../equality/_proofs_/substituteTruth.ipynb\" style=\"text-decoration: none\">&#x22A2;&nbsp;</a><a class=\"ProveItLink\" href=\"../../equality/__pv_it/9bdc5b840ab58180416de24b39e9a69a9440cc6d0/expr.ipynb\"><img src=\"data:image/png;base64,iVBORw0KGgoAAAANSUhEUgAAAKIAAAAXBAMAAAB624nuAAAAMFBMVEX///8QEBC6urrMzMxUVFRm\n",
       "ZmZERETc3NwyMjKqqqp2dnaIiIiYmJgiIiLu7u4AAAAU9Wx4AAAAAXRSTlMAQObYZgAAAnVJREFU\n",
       "OMutlE9o03AUx781Wf8kaVY8KLtVGCKIWEFQvGy4ouJJ1F2Gh3qwxT/QgMOhIhYvXkS9TAQP5jKs\n",
       "FUcP9eA8LOJFFLEHRZAhvTjEy4padUOn75fkl77GgRr2IHkvLy+f3+/9+QVYdWmtCmVN3dNGFmgK\n",
       "43k0TuNXPv/KEtZ26ToE3BX6asStfQfi63sASeAMqUQhGlBZAlJ0Qa9Ll2EjSYXsux6NqH8iRIeM\n",
       "WNANMwPjzsTEhYhJx9uAukjGpq7vOPC1WHz7ly9P+zqcSn8FWBAVG6PrXOPsA0p+ChgBSlSO8ujh\n",
       "EpsGT93ojO6xkLB9764QcciG8loYVyhd25iL0eDcBAZh0lJ4DNxn+fh1zkBr0kNfsbiueAJatpc4\n",
       "u7825g7PWkCD3k7lgA1AGrpDzjzwshUmqsMwlnFLmCI5d2kmZfkBdciE6k7MEDXMSYsXc8C+P/aY\n",
       "dqBWUJJEUSEuP9ElUsPrPtGsiIE3P8N4Q3tvbB5hxIUcXljIBMRH4iZjoHQkcUDcLubEkaasUdot\n",
       "WrFUO0JqWi0MMOLW2pQDpRIQB8Fi3HH05BSV3JqFTsSn9DgpjrbmlSibdHjWVbfvwwFxJ49BfFkS\n",
       "aWRuO0dx3jO9/OMH/BGzOPGYuKVCRBnzvvxFHr4twPzMx3tipUtiRERj+v3p3YYcIy66eywExI08\n",
       "hknMYqdQDiv5EpeVdhV2l6h8c4OaAfEZj2FiBA5Nblu7Rj825Yd5cnKm1SVWO+5m3gXEgzyGS/A3\n",
       "+xBaKjyPnjwMrAqP4TIujb29/h0rE+elkarzGC4JP1k9VGFnZWJK+tWemP8Ttefpia+n/+XT39vX\n",
       "l85p8q+GAAAAAElFTkSuQmCC\n",
       "\" style=\"display:inline;vertical-align:middle;\" /></a></span></td></tr>\n",
       "<tr><td>&nbsp;</td><td colspan=4 style-\"text-align:left\"><a class=\"ProveItLink\" href=\"../../equality/_proofs_/substituteTruth.ipynb\">proveit.logic.equality.substituteTruth</a></td></tr><tr><td>4</td><td>specialization</td><td>6, 7, 8</td><td><span style=\"font-size:20px;\"> <a class=\"ProveItLink\" href=\"../__pv_it/fa4fa53b223acee6f252ba41b77ef7d3b286f7b60/proof.ipynb\" style=\"text-decoration: none\">&#x22A2;&nbsp;</a><a class=\"ProveItLink\" href=\"../__pv_it/5c48b682c8c2b7c72838145036251acdab8d27f10/expr.ipynb\"><img src=\"data:image/png;base64,iVBORw0KGgoAAAANSUhEUgAAAHAAAAAVBAMAAABs93eRAAAAMFBMVEX////c3NwiIiJERESqqqqY\n",
       "mJh2dnZmZmYQEBDu7u4yMjJUVFTMzMyIiIi6uroAAAAs73DqAAAAAXRSTlMAQObYZgAAAQRJREFU\n",
       "OMtjYCAb8F3AL8/6AIfEaRDBiKmbXQkMDBhqUMWLwMLKDAwrQTyeAmxmQkS5wGywvTwQ8eMggvcC\n",
       "IY2sCSByD4i4i6SRYwIhjZwNIPIwiNBE0viKgZBGBhOwgwUYGFgKkDSWEdaYDiJAmkCa4RqXomhk\n",
       "XwUGG1A0ejFAnXmYAUljH2EbXzBAA2YfssZ/hDWeB5NMDJwLyNLI7sAWgKyxBdWPsOSC6VTGBUwM\n",
       "yBpNCdsYBeHtiUXRmE5kdADDVBNF4yOI+5rg7kPWCE5sDOsgPC644cfASU6AUL6DJDmgMRNQs1sC\n",
       "IY1sODLsSkIaZ+EQlyakcSMOcUYCRQfvAazCADljRGmuxW8MAAAAAElFTkSuQmCC\n",
       "\" style=\"display:inline;vertical-align:middle;\" /></a></span></td></tr>\n",
       "<tr><td>&nbsp;</td><td colspan=4 style=\"text-align:left\"><span style=\"font-size:20px;\"><a class=\"ProveItLink\" href=\"../__pv_it/fd4b0a418766985890fb332a124e981d1643d8330/expr.ipynb\"><img src=\"data:image/png;base64,iVBORw0KGgoAAAANSUhEUgAAAEkAAAAVBAMAAAD4Ed5jAAAAMFBMVEX////u7u5mZmaYmJi6urqq\n",
       "qqp2dnbMzMwQEBBEREQyMjLc3NwiIiJUVFSIiIgAAAAeC3ydAAAAAXRSTlMAQObYZgAAAR1JREFU\n",
       "KM9jYCAZsDzAJmoCJt/+v3v37AYQqxarXqYCMPWLgYGzG8RYiN2KBSCC/RsDAysQM/A9wK7KDETw\n",
       "fWFgYP4EZHAIYFclASI4PzAw8H4FMrxweIozAEjwA+2VnwBkqCEktr3d+ghuP5sCkKhPYGA/BOIt\n",
       "hitiTGA+zHEAxmMFOf/9tTQ1cEC0wFWxMfB9YC2AB2MDkJgPc/QXhFkMvBMQ1rMDHc7whwFDFdC/\n",
       "D1BVsX+C8VqRVO0vYBBAtpEPbsRkuBrmDe8Z+OCqmIGu5/wI4yXBVcUbzGDYx4AUEkLz/8Kc4AP0\n",
       "9EwgmMgg+UwszwDGYeByQA5jjg14YgjhmgTsqvJQudhTDuMCVP5erKp40RzCjTWBPWdgAADdXkSh\n",
       "Sa6TGQAAAABJRU5ErkJggg==\n",
       "\" style=\"display:inline;vertical-align:middle;\" /></a> : <a class=\"ProveItLink\" href=\"../__pv_it/cc488d3a6369ec40ef682ec431c5dbf985ef3c790/expr.ipynb\"><img src=\"data:image/png;base64,iVBORw0KGgoAAAANSUhEUgAAAE0AAAAPBAMAAABTt1/kAAAAMFBMVEX///8yMjK6urrMzMwQEBAi\n",
       "IiKYmJhmZmZUVFSIiIh2dnbc3Nzu7u5ERESqqqoAAACmCtjVAAAAAXRSTlMAQObYZgAAAKxJREFU\n",
       "KM9jYMAP2EPB4AIOaSYwaQAmmQtwG8MBUsI5gaA6ZpBFrAcIqmOQBuLnDJjquFd2v6xE4j+HqkVX\n",
       "d4ohNcEViQ+0k/kCFnULGOYzPEbiA/3AoYBF3QGGXlQHBjAcZGDA5g9PVHV1DMuwquP+zMCDzN8I\n",
       "NBGLumzODwxzUELabAIWdXzfeB24J6CE9NUDKOre3gWCAzw316yaBuNApMXhOhbgTSk2KDwAaQov\n",
       "+mRd8LAAAAAASUVORK5CYII=\n",
       "\" style=\"display:inline;vertical-align:middle;\" /></a>, <a class=\"ProveItLink\" href=\"../../../__pv_it/530be409e3083890784cf1d7b28c9e67e90af9360/expr.ipynb\"><img src=\"data:image/png;base64,iVBORw0KGgoAAAANSUhEUgAAAAsAAAAJBAMAAAAWSsseAAAAKlBMVEX///9ERETMzMwQEBAiIiKY\n",
       "mJju7u5mZmaqqqpUVFSIiIh2dnbc3NwAAAA/vyDhAAAAAXRSTlMAQObYZgAAAENJREFUCNdjYDi9\n",
       "8sTyBQxsG1hdmR0YuBm4LnAoMLAxcAowgADzAjB1VoEhgYH1wFoGrgSG3gBhhlMMDImrs3cFMAAA\n",
       "t0YN+iTRa+sAAAAASUVORK5CYII=\n",
       "\" style=\"display:inline;vertical-align:middle;\" /></a> : <a class=\"ProveItLink\" href=\"../__pv_it/78dab4105ea6264e71849fd670cc3ef2fcc5c7a20/expr.ipynb\"><img src=\"data:image/png;base64,iVBORw0KGgoAAAANSUhEUgAAADoAAAAOBAMAAACMfhKgAAAAJFBMVEX///92dnZUVFQyMjJEREQQ\n",
       "EBAiIiJmZmbMzMyIiIjc3NwAAAAgGs2GAAAAAXRSTlMAQObYZgAAADRJREFUGNNjYGBgWMmAAcrS\n",
       "QCAFxGxnwAba0eiBki02BgEjutuLFEDUMBloXCrCOCTQCMQAwI0X/rEJW0EAAAAASUVORK5CYII=\n",
       "\" style=\"display:inline;vertical-align:middle;\" /></a></span></td></tr><tr><td>5</td><td>theorem</td><td></td><td><span style=\"font-size:20px;\"> <a class=\"ProveItLink\" href=\"falseEqFalse.ipynb\" style=\"text-decoration: none\">&#x22A2;&nbsp;</a><a class=\"ProveItLink\" href=\"../__pv_it/18c95b2992919fa7e4626908cfff0c5404d5ce7b0/expr.ipynb\"><img src=\"data:image/png;base64,iVBORw0KGgoAAAANSUhEUgAAADoAAAAOBAMAAACMfhKgAAAAIVBMVEX///9UVFQyMjJEREQQEBAi\n",
       "IiJmZmbMzMyIiIjc3NwAAAA3+jG2AAAAAXRSTlMAQObYZgAAADFJREFUGNNjYGBgmMGADcBEy7DK\n",
       "lg0S2SQlEFCku72poSAQTC2TgcaFIIxjQFgCEgUAQXIUj1VTIM4AAAAASUVORK5CYII=\n",
       "\" style=\"display:inline;vertical-align:middle;\" /></a></span></td></tr>\n",
       "<tr><td>&nbsp;</td><td colspan=4 style-\"text-align:left\"><a class=\"ProveItLink\" href=\"falseEqFalse.ipynb\">proveit.logic.boolean.falseEqFalse</a></td></tr><tr><td>6</td><td>theorem</td><td></td><td><span style=\"font-size:20px;\"> <a class=\"ProveItLink\" href=\"../../equality/_proofs_/substituteFalsehood.ipynb\" style=\"text-decoration: none\">&#x22A2;&nbsp;</a><a class=\"ProveItLink\" href=\"../../equality/__pv_it/1d1deba862c90ad7a095be6803bec640d55fe7610/expr.ipynb\"><img src=\"data:image/png;base64,iVBORw0KGgoAAAANSUhEUgAAAK4AAAAXBAMAAABg52lgAAAAMFBMVEX///8QEBC6urrMzMxUVFRm\n",
       "ZmZERETc3NwyMjKqqqp2dnaIiIiYmJgiIiLu7u4AAAAU9Wx4AAAAAXRSTlMAQObYZgAAAopJREFU\n",
       "OMu1lE1oE0EUx//ZTbLdzXaTW/EiEbz1soLgMaENVTwV/Dioh/SyQTwkIFi0iIuXXkS9FIQeXAS/\n",
       "Wiw5xEProREvogd7UAQpkotBvBjU+lHqx5vZ3dnNZovi6kAys/+Z+c2b99484D+1zj9kjXq9XgTW\n",
       "2OBpElrrZ6XyvEEDuexLh4C7rL+cyMyvQHaE+iFx9yHgDHVKNQlW3gRU+uGBkHSHH5K5moSb+0Cg\n",
       "DRrsFJJRgH57evp8Ijdke0D6GyDZgXYS+GxZr36z87TXq7GzeeK9J09mHPo41zp7vwncBMaBGm2p\n",
       "HzlcCy0uuiCuKo7vSSeOW3Igv2DBapMDHH09RSl2DdgNg13gIXAvtNiLJFez/Lbs70Ycd/XgwjGW\n",
       "ZimyRUOup5rALmAYOToIFeBZZ4DL1XnBfRvHrXvb8sQ1kOY7SxTO9jCbWAcODNrL1Zrgps0Y7ncE\n",
       "XLK66XENey/LjI/QX9I9WqPjIa6rFgQ31xS0xbGWe4i84Skpnq0XTFYayA+ojdGftLlwgrqldHVH\n",
       "iMtV2RZcSbxUrTPhcnj6uvlG7tQbq8gR9zF9z7ESobnJV2RBDbhcdWGcy4+4ZVmWLeGSj/vhHzUJ\n",
       "XG9PYQY8z1yPZCc9JzXCXK6qEa43/cUdval/8pwjkX3dlXeLzLKL7DGzsOW9p7wHZojLVaka+KEq\n",
       "uHJBjgZwJPyO/eQmO5VZuXcHTojLVBhrgqs7yqw7XdJsLcp9IkaaH1/tCpVMecs4NbfSCbhcBV4D\n",
       "R60py3KQKcpbfNrsLh9finKDOhnJc30gf3lbRqiu6tuXEUVky/7+iX3x3K4YzfetGWgzfuWMPJ92\n",
       "PFcVerlvzd+0cvjjkXgMf7z/F2K8m8Fs520bAAAAAElFTkSuQmCC\n",
       "\" style=\"display:inline;vertical-align:middle;\" /></a></span></td></tr>\n",
       "<tr><td>&nbsp;</td><td colspan=4 style-\"text-align:left\"><a class=\"ProveItLink\" href=\"../../equality/_proofs_/substituteFalsehood.ipynb\">proveit.logic.equality.substituteFalsehood</a></td></tr><tr><td>7</td><td>theorem</td><td></td><td><span style=\"font-size:20px;\"> <a class=\"ProveItLink\" href=\"../disjunction/_proofs_/falseOrTrue.ipynb\" style=\"text-decoration: none\">&#x22A2;&nbsp;</a><a class=\"ProveItLink\" href=\"../disjunction/__pv_it/f442276f834cda47790ded243b38294647dfe1df0/expr.ipynb\"><img src=\"data:image/png;base64,iVBORw0KGgoAAAANSUhEUgAAADUAAAAPBAMAAAC2KZqIAAAAMFBMVEX///+YmJh2dnaqqqoyMjLu\n",
       "7u5UVFS6urpEREQQEBAiIiJmZmbMzMyIiIjc3NwAAAD1oEhMAAAAAXRSTlMAQObYZgAAAHtJREFU\n",
       "GNNjYGBgeMuACrhXgUEDiH0aIsQOJg+ASZ4NUHVQOTaQMO8FrHI8IEO4ArDKMfgBsTUDdjlrqDw2\n",
       "OaB5YHOxyQHdwVaAQ45hAUMIAy65zQyKOOWeAHXikmM7eAGnHE9XAIrcrlWrVq5atQIi5A1XpcCA\n",
       "Do6i8AAHVSocMnjJgQAAAABJRU5ErkJggg==\n",
       "\" style=\"display:inline;vertical-align:middle;\" /></a></span></td></tr>\n",
       "<tr><td>&nbsp;</td><td colspan=4 style-\"text-align:left\"><a class=\"ProveItLink\" href=\"../disjunction/_proofs_/falseOrTrue.ipynb\">proveit.logic.boolean.disjunction.falseOrTrue</a></td></tr><tr><td>8</td><td>specialization</td><td>9, 10</td><td><span style=\"font-size:20px;\"> <a class=\"ProveItLink\" href=\"../__pv_it/358697b7481d1cd3b6f8ff51f1adcbebf33622d80/proof.ipynb\" style=\"text-decoration: none\">&#x22A2;&nbsp;</a><a class=\"ProveItLink\" href=\"../__pv_it/810bf6d9285789e7a18e77c415f5066c9e3114310/expr.ipynb\"><img src=\"data:image/png;base64,iVBORw0KGgoAAAANSUhEUgAAAFoAAAAVBAMAAAA0iOSIAAAAMFBMVEX////c3NxERESqqqqYmJgQ\n",
       "EBDu7u4yMjKIiIi6urpUVFTMzMx2dnYiIiJmZmYAAABjE816AAAAAXRSTlMAQObYZgAAALBJREFU\n",
       "KM9jYCATcDbgl2eZgMzbBSIYMbXw3QUDBYbXyKJlIIL7ATZjIaLsSCIcDYRUsxxAiLAmEFLNFoAQ\n",
       "mc5ASDWDMkLkDWHV5xAiJSiq+crBYAGKanOGt6DQuQNkRhI2eyoiqH8SVr2fXNXBqO6GRSAOl6gQ\n",
       "NtsdyoMHD7EhOBdifSzcemTVkDivRIp5AUJJGjnmkdMMdsDTgJ5i8YF0ZI4UIdULkTmMBHIaxwYG\n",
       "AMntR+XSiDTmAAAAAElFTkSuQmCC\n",
       "\" style=\"display:inline;vertical-align:middle;\" /></a></span></td></tr>\n",
       "<tr><td>&nbsp;</td><td colspan=4 style=\"text-align:left\"><span style=\"font-size:20px;\"><a class=\"ProveItLink\" href=\"../../../__pv_it/530be409e3083890784cf1d7b28c9e67e90af9360/expr.ipynb\"><img src=\"data:image/png;base64,iVBORw0KGgoAAAANSUhEUgAAAAsAAAAJBAMAAAAWSsseAAAAKlBMVEX///9ERETMzMwQEBAiIiKY\n",
       "mJju7u5mZmaqqqpUVFSIiIh2dnbc3NwAAAA/vyDhAAAAAXRSTlMAQObYZgAAAENJREFUCNdjYDi9\n",
       "8sTyBQxsG1hdmR0YuBm4LnAoMLAxcAowgADzAjB1VoEhgYH1wFoGrgSG3gBhhlMMDImrs3cFMAAA\n",
       "t0YN+iTRa+sAAAAASUVORK5CYII=\n",
       "\" style=\"display:inline;vertical-align:middle;\" /></a> : <a class=\"ProveItLink\" href=\"../__pv_it/8f1f7fac882de28c72b62ab80a1700b6d8fd066b0/expr.ipynb\"><img src=\"data:image/png;base64,iVBORw0KGgoAAAANSUhEUgAAAA4AAAAOBAMAAADtZjDiAAAAG1BMVEX///9EREQQEBAiIiJmZmbM\n",
       "zMyIiIjc3NwAAACryk5kAAAAAXRSTlMAQObYZgAAABlJREFUCNdjYGBgKGOAgBBa0s7GxkbGxoYA\n",
       "FMUF2aBfHgoAAAAASUVORK5CYII=\n",
       "\" style=\"display:inline;vertical-align:middle;\" /></a>, <a class=\"ProveItLink\" href=\"../../../__pv_it/f8b9edf8e16034727f0aad55bb83e392c3db40d40/expr.ipynb\"><img src=\"data:image/png;base64,iVBORw0KGgoAAAANSUhEUgAAAAsAAAANBAMAAACN24kIAAAAMFBMVEX///+YmJhUVFQyMjIQEBBE\n",
       "REQiIiKqqqrMzMyIiIi6urrc3NxmZmZ2dnbu7u4AAADXeCicAAAAAXRSTlMAQObYZgAAAFhJREFU\n",
       "CNdj4LtzgWH/AwZerg8M8xkY2nkSGEIZGB6wTGD4ycDAUP+A4weQOszA6QCkbBhYFYDUIYb1AkDq\n",
       "6czzGxhA4BoQMyXwuQMptgusF4AU+8xTQBIAUqMVoSp/SLMAAAAASUVORK5CYII=\n",
       "\" style=\"display:inline;vertical-align:middle;\" /></a> : <a class=\"ProveItLink\" href=\"../__pv_it/68a87cc3370287d726c7086ace789e680e4461c30/expr.ipynb\"><img src=\"data:image/png;base64,iVBORw0KGgoAAAANSUhEUgAAAA4AAAAOBAMAAADtZjDiAAAAFVBMVEX///92dnbMzMxEREQiIiJm\n",
       "ZmYAAABAT6GXAAAAAXRSTlMAQObYZgAAABhJREFUCNdjCHEBAWcGIFBlgABa0YpADAAxegPJJk4d\n",
       "XAAAAABJRU5ErkJggg==\n",
       "\" style=\"display:inline;vertical-align:middle;\" /></a></span></td></tr><tr><td>9</td><td>theorem</td><td></td><td><span style=\"font-size:20px;\"> <a class=\"ProveItLink\" href=\"../../equality/_proofs_/unfoldNotEquals.ipynb\" style=\"text-decoration: none\">&#x22A2;&nbsp;</a><a class=\"ProveItLink\" href=\"../../equality/__pv_it/38779c63c7ca10709484d9771bf5465a3e774ee90/expr.ipynb\"><img src=\"data:image/png;base64,iVBORw0KGgoAAAANSUhEUgAAAL8AAAAXCAMAAABte263AAAAOVBMVEX///8oKCgUFBQJCQkQEBC6\n",
       "urrMzMxUVFRmZmZERETc3NwyMjKqqqp2dnaIiIiYmJgiIiLu7u4AAACP9cC6AAAAAXRSTlMAQObY\n",
       "ZgAAAmJJREFUWMPVV4lu5CAMZXfDffP/H7uYAIEZSEg7kVpLlRuM4YGfbQahXy7+8R2wuWs4F4tb\n",
       "7Y5x8wh8Qu8aroSRRmtVhuUzoZgu+/X9ZKMFzx/1n8+KMXcNCwzSjS7XwNQj+Dd/17CQs1ujrRZJ\n",
       "3DPJK+8aVoSrRgcO4vQj+Jm+MAhtqFCGXbDJ6+QgQoqaZvto0jSlMxcLl3m2wdhf2lkO2owrMsBZ\n",
       "tNXwM9lILVEa4QBJE9KXysFLGsMkvxJOvlDUXlm+n5m5Kroz6AxKkfMirOISgGCHgHMC7BoMxn4P\n",
       "v5gU84AnVT8bgA70uvLFaRswLOw0IwE1GrA7/z38M/pd4U+hWKmkCphPAhngj9wpq8ZkwoaS0t95\n",
       "X+da/N1MhPXYA21qgv8wiASq+jRUc+7YkQHBTcebqrmgmY0egpmX9gYFgcg2vP86k6Y8+xf/zMAD\n",
       "cTvBnw1W7DlpruIvodTw7GxlpxVztcAcBUN4HIcNH+LvZpbsefeola45QGtQwSIezysuKcQidBxs\n",
       "v2rRDQNDQ2QaWUHNjP/HTM9nHgjP2uJu8Nxor/VC9YgzDStbStxrW6MHwSdt8dvIBH+eySNz/v6R\n",
       "iT/vHvFr1le2hYbzItoN3g8tpIC0TDVZSFg9IsFhWH+OmX3tfPU43lrTR9iaUAdwVakdvW5ipFgM\n",
       "KOCDiCpquBziP2bC8JF7rx4fez9D2+P5xKXXnvbciF+IFzKP6786LvLN46SzzQ3DTSL7S8egotfD\n",
       "hi3SeftXIj/9NYEGHgnnrLaIr/0CMKTXs+uHM+vr/mtVd0vPPGM/I/TnQfoP0pMahBS79IEAAAAA\n",
       "SUVORK5CYII=\n",
       "\" style=\"display:inline;vertical-align:middle;\" /></a></span></td></tr>\n",
       "<tr><td>&nbsp;</td><td colspan=4 style-\"text-align:left\"><a class=\"ProveItLink\" href=\"../../equality/_proofs_/unfoldNotEquals.ipynb\">proveit.logic.equality.unfoldNotEquals</a></td></tr><tr><td>10</td><td>axiom</td><td></td><td><span style=\"font-size:20px;\"> <a class=\"ProveItLink\" href=\"../_axioms_.ipynb#falseNotTrue\" style=\"text-decoration: none\">&#x22A2;&nbsp;</a><a class=\"ProveItLink\" href=\"../__pv_it/f59624db7a785c6991878af6495d446012e672150/expr.ipynb\"><img src=\"data:image/png;base64,iVBORw0KGgoAAAANSUhEUgAAADoAAAAUCAMAAADrw95cAAAAOVBMVEX///8LCwsYGBgNDQ0oKCju\n",
       "7u6qqqq6urpUVFQyMjJ2dnZEREQQEBAiIiJmZmbMzMyIiIjc3NwAAAAE5KaWAAAAAXRSTlMAQObY\n",
       "ZgAAAIBJREFUOMvFk90OwBAMRrtff1Pz/i+7TCQzdOjNvguR6skhKYBWtP8+9yd5op492iQmFh1S\n",
       "qBR5Jesl0VQ6iJbSXtQZ4KLGDaOoQtblXiXHWpP2oUICF1WegYa5maf33AxY69IetP7SpDeO9FFe\n",
       "jZCC063PtiNwYzcu+YsURLPjAkzNBut5ZocxAAAAAElFTkSuQmCC\n",
       "\" style=\"display:inline;vertical-align:middle;\" /></a></span></td></tr>\n",
       "<tr><td>&nbsp;</td><td colspan=4 style-\"text-align:left\"><a class=\"ProveItLink\" href=\"../_axioms_.ipynb#falseNotTrue\">proveit.logic.boolean.falseNotTrue</a></td></tr></table>"
      ],
      "text/plain": [
       "\tstep type\trequirements\tstatement\n",
       "0\tspecialization\t1, 2\t|- FALSE in BOOLEANS\n",
       "\tA : FALSE\n",
       "1\ttheorem\t\t|- forall_{A | (A = TRUE) or (A = FALSE)} (A in BOOLEANS)\n",
       "\tproveit.logic.boolean.foldInBool\n",
       "2\tspecialization\t3, 4, 5\t|- (FALSE = TRUE) or (FALSE = FALSE)\n",
       "\tP(_x_) : (FALSE = TRUE) or _x_, x : FALSE = FALSE\n",
       "3\ttheorem\t\t|- forall_{P, x | P(TRUE) , x} P(x)\n",
       "\tproveit.logic.equality.substituteTruth\n",
       "4\tspecialization\t6, 7, 8\t|- (FALSE = TRUE) or TRUE\n",
       "\tP(_x_) : _x_ or TRUE, x : FALSE = TRUE\n",
       "5\ttheorem\t\t|- FALSE = FALSE\n",
       "\tproveit.logic.boolean.falseEqFalse\n",
       "6\ttheorem\t\t|- forall_{P, x | P(FALSE) , [not](x)} P(x)\n",
       "\tproveit.logic.equality.substituteFalsehood\n",
       "7\ttheorem\t\t|- FALSE or TRUE\n",
       "\tproveit.logic.boolean.disjunction.falseOrTrue\n",
       "8\tspecialization\t9, 10\t|- [not](FALSE = TRUE)\n",
       "\tx : FALSE, y : TRUE\n",
       "9\ttheorem\t\t|- forall_{x, y | x != y} [not](x = y)\n",
       "\tproveit.logic.equality.unfoldNotEquals\n",
       "10\taxiom\t\t|- FALSE != TRUE\n",
       "\tproveit.logic.boolean.falseNotTrue"
      ]
     },
     "execution_count": 11,
     "metadata": {},
     "output_type": "execute_result"
    }
   ],
   "source": [
    "%qed"
   ]
  },
  {
   "cell_type": "code",
   "execution_count": null,
   "metadata": {},
   "outputs": [],
   "source": []
  }
 ],
 "metadata": {
  "kernelspec": {
   "display_name": "Python 3",
   "language": "python",
   "name": "python3"
  }
 },
 "nbformat": 4,
 "nbformat_minor": 0
}
