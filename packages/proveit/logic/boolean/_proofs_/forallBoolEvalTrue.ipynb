{
 "cells": [
  {
   "cell_type": "markdown",
   "metadata": {},
   "source": [
    "Proof of <a class=\"ProveItLink\" href=\"../../../_context_.ipynb\">proveit</a>.<a class=\"ProveItLink\" href=\"../../_context_.ipynb\">logic</a>.<a class=\"ProveItLink\" href=\"../_context_.ipynb\">boolean</a>.<a class=\"ProveItLink\" href=\"../_theorems_.ipynb#forallBoolEvalTrue\">forallBoolEvalTrue</a> theorem\n",
    "========"
   ]
  },
  {
   "cell_type": "code",
   "execution_count": 1,
   "metadata": {},
   "outputs": [],
   "source": [
    "import proveit\n",
    "context = proveit.Context('..') # the theorem's context is in the parent directory"
   ]
  },
  {
   "cell_type": "code",
   "execution_count": 2,
   "metadata": {},
   "outputs": [
    {
     "name": "stdout",
     "output_type": "stream",
     "text": [
      "Beginning proof of forallBoolEvalTrue\n",
      "Recorded 'presuming' information\n",
      "Presuming previous theorems (applied transitively).\n"
     ]
    },
    {
     "data": {
      "text/html": [
       "<strong id=\"forallBoolEvalTrue\">forallBoolEvalTrue:</strong> <a class=\"ProveItLink\" href=\"../__pv_it/2d9c3db9a17f850590a280e4b4cc190bc211bca80/expr.ipynb\"><img src=\"data:image/png;base64,iVBORw0KGgoAAAANSUhEUgAAAWoAAAAXBAMAAADQPRh7AAAAMFBMVEX///8QEBC6urrMzMxUVFRm\n",
       "ZmZERETc3NwyMjKqqqp2dnaIiIiYmJgiIiLu7u4AAAAU9Wx4AAAAAXRSTlMAQObYZgAABCNJREFU\n",
       "WMPVl12IE1cUx/8xyWZ3MhsXH4Q+FKOICLWYB0FRygZdXEFkgxofxGosONtWYQOKUqVtUGRFRfdB\n",
       "RVBwEFbXBWVepYgpIvhB6dJiC8W2QaosqK34sX4g2nM/M5NM7u5LFA8kc3PP/875zb3nnrkBPkir\n",
       "NPn+kzxc2lOZqFSanQau/dJAxpwjrHGzedTzgNPGIMmep10ruqWU2Wf0WQU2LGjxP7kVmPMc6zjU\n",
       "POpDLLwxyOQSsLFYFRymT2sINVk0B+HcTpdEoWnQSY+FNwbpdIFTrpCyBPib8sl2DdTkbCVNfKBp\n",
       "1JEKC28Mcpny9OeckJJ9s4HmPdVhoCanfXbHjm+blyCz+VIbg/TRp2dASMk89hT4ykDNnGOO80fD\n",
       "oFvltfFiJDLi2hbuXisS1BTkBc3emJRSIamcKtNl0ERNziVALwXty6/u5aOE/9iz/NIiEq6ULwyJ\n",
       "JiQ71Q3dUKSDgloEIeuvJ3lFZSMnpcAddLL8Pi6p4/u4ZQPU5JyJFG1i/AicZz0tsih2wBqhH3HH\n",
       "mep8DSutgqxxNjqOW5UU1Bg9NXKIsCnCI4PAfixvv3//3rLcr0+HB88qKZDG9wxtummuydmOJBvf\n",
       "RVuiUqWOZWG/wQnWZFwipjCpEJI2T/WM+u5eLRePBbUMgruv6et+fh089/4Mebs3PimiXV09bHSn\n",
       "iZqcyXI7o70NLPMxtZcRK4lV5QhL6qm5pKWoemIZA7UMggu3qP3Fd/8StfVAlusRPzUlaKQ0AepU\n",
       "ib2TUk9g/+5j+i+Dn4ro0Ag/1FNzSUT3JL0w6o8EtQiCqOcAV3mlcD9ZL8t1zidl2769w5ch+oVY\n",
       "kyHoXcye8dXwOj/T3OHBMqIljTATMbYrDviouWSBHjMpi2VM4gWot8iM50EQw+cAv6mX/7hcLdda\n",
       "miDq1kfUuGaaa3LiKFsiqxScySEJohAW1M/1kHga1RMthc31oKTmQXAdl2Wx8dz4IlmuKz7pqEr0\n",
       "8SofInxD5YJMm3gNNlJzyZFxqD+V1DxI6la+rxL9zXE2s7y2+HtuzdvlVen2af2w+14Qy+5walFe\n",
       "d7MqxB528kCQ6SWf64JGmIWW2gx5Kfp1hhTwZX2GRIoiPA8SL6Izk8qKuRbU/pd/sdpu8EavOuWe\n",
       "KAaoo8+5e0RT3wjOdaJfSh7qMbYbNteBY9Acmp0yumWG7Ko9N/tuYHkGakvte+vwqgD10DNex/7S\n",
       "CCuD1NHXUkIFTb534ukwanFSFfbPGBI9t3Evzd8yTjnkUKtsFAbq0fquFv+Pi7pVqp0YdRLVJ5TW\n",
       "8BDb6sOfobxuIFXWbaLuHof6nmq0eTWy+SrH9LSeaHC6on9gv07sfJjQQZK0jJca/QNLZsahblOr\n",
       "GKuV6eU9qRrZ9/nvN8h3RV4vNNTb8smtyjuE/B/Hxjg29gBNiAAAAABJRU5ErkJggg==\n",
       "\" style=\"display:inline;vertical-align:middle;\" /></a><br>(see <a class=\"ProveItLink\" href=\"../__pv_it/2d9c3db9a17f850590a280e4b4cc190bc211bca80/dependencies.ipynb\">dependencies</a>)<br>"
      ],
      "text/plain": [
       "forallBoolEvalTrue: forall_{P | P(TRUE) = TRUE , P(FALSE) = TRUE} ([forall_{A in BOOLEANS} P(A)] = TRUE)"
      ]
     },
     "execution_count": 2,
     "metadata": {},
     "output_type": "execute_result"
    }
   ],
   "source": [
    "%proving forallBoolEvalTrue presuming []"
   ]
  },
  {
   "cell_type": "code",
   "execution_count": null,
   "metadata": {},
   "outputs": [],
   "source": []
  }
 ],
 "metadata": {
  "kernelspec": {
   "display_name": "Python 3",
   "language": "python",
   "name": "python3"
  }
 },
 "nbformat": 4,
 "nbformat_minor": 0
}
