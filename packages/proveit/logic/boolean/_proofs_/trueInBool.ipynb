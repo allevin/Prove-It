{
 "cells": [
  {
   "cell_type": "markdown",
   "metadata": {
    "collapsed": true
   },
   "source": [
    "Proof of <a class=\"ProveItLink\" href=\"../../../_context_.ipynb\">proveit</a>.<a class=\"ProveItLink\" href=\"../../_context_.ipynb\">logic</a>.<a class=\"ProveItLink\" href=\"../_context_.ipynb\">boolean</a>.<a class=\"ProveItLink\" href=\"../_theorems_.ipynb#trueInBool\">trueInBool</a> theorem\n",
    "========"
   ]
  },
  {
   "cell_type": "code",
   "execution_count": 1,
   "metadata": {},
   "outputs": [],
   "source": [
    "import proveit\n",
    "from proveit._common_ import A\n",
    "from proveit.logic import TRUE, FALSE, Or, Equals\n",
    "from proveit.logic.boolean._theorems_ import foldInBool\n",
    "from proveit.logic.boolean.disjunction._theorems_ import trueOrFalse\n",
    "from proveit.logic.equality._theorems_ import unfoldNotEquals, subLeftSideInto\n",
    "context = proveit.Context('..') # the theorem's context is in the parent directory"
   ]
  },
  {
   "cell_type": "code",
   "execution_count": 2,
   "metadata": {},
   "outputs": [
    {
     "name": "stdout",
     "output_type": "stream",
     "text": [
      "Beginning proof of trueInBool\n",
      "Recorded 'presuming' information\n",
      "Presuming proveit.logic.boolean.disjunction.trueOrFalse, proveit.logic.equality.unfoldNotEquals theorems (applied transitively).\n",
      "Presuming previous theorems (applied transitively).\n"
     ]
    },
    {
     "data": {
      "text/html": [
       "<strong id=\"trueInBool\">trueInBool:</strong> <a class=\"ProveItLink\" href=\"../__pv_it/3e7350f116816f72fa422609af12e912bbd1845d0/expr.ipynb\"><img src=\"../__pv_it/3e7350f116816f72fa422609af12e912bbd1845d0/expr.png\" style=\"display:inline;vertical-align:middle;\" /></a><br>(see <a class=\"ProveItLink\" href=\"../__pv_it/3e7350f116816f72fa422609af12e912bbd1845d0/dependencies.ipynb\">dependencies</a>)<br>"
      ],
      "text/plain": [
       "trueInBool: TRUE in BOOLEANS"
      ]
     },
     "execution_count": 2,
     "metadata": {},
     "output_type": "execute_result"
    }
   ],
   "source": [
    "%proving trueInBool presuming [trueOrFalse, unfoldNotEquals]"
   ]
  },
  {
   "cell_type": "code",
   "execution_count": 3,
   "metadata": {},
   "outputs": [
    {
     "data": {
      "text/html": [
       "<span style=\"font-size:20px;\"> &#x22A2;&nbsp;<a class=\"ProveItLink\" href=\"../__pv_it/5a0b735eb2c903e1707180f4353a8ea9547060900/expr.ipynb\"><img src=\"../__pv_it/5a0b735eb2c903e1707180f4353a8ea9547060900/expr.png\" style=\"display:inline;vertical-align:middle;\" /></a></span>"
      ],
      "text/plain": [
       "|= forall_{A | (A = TRUE) or (A = FALSE)} (A in BOOLEANS)"
      ]
     },
     "execution_count": 3,
     "metadata": {},
     "output_type": "execute_result"
    }
   ],
   "source": [
    "foldInBool"
   ]
  },
  {
   "cell_type": "code",
   "execution_count": 4,
   "metadata": {},
   "outputs": [
    {
     "data": {
      "text/html": [
       "<span style=\"font-size:20px;\"> &#x22A2;&nbsp;<a class=\"ProveItLink\" href=\"../disjunction/__pv_it/eec5dacd574712698e86760b8b62868c1668cdd80/expr.ipynb\"><img src=\"../disjunction/__pv_it/eec5dacd574712698e86760b8b62868c1668cdd80/expr.png\" style=\"display:inline;vertical-align:middle;\" /></a></span>"
      ],
      "text/plain": [
       "|= TRUE or FALSE"
      ]
     },
     "execution_count": 4,
     "metadata": {},
     "output_type": "execute_result"
    }
   ],
   "source": [
    "trueOrFalse"
   ]
  },
  {
   "cell_type": "code",
   "execution_count": 5,
   "metadata": {},
   "outputs": [
    {
     "data": {
      "text/html": [
       "<strong id=\"TeqT_eval\">TeqT_eval:</strong> <span style=\"font-size:20px;\"> &#x22A2;&nbsp;<a class=\"ProveItLink\" href=\"../__pv_it/0c5d44311c8662f403d113df2e26e3c504f697990/expr.ipynb\"><img src=\"../__pv_it/0c5d44311c8662f403d113df2e26e3c504f697990/expr.png\" style=\"display:inline;vertical-align:middle;\" /></a></span><br>"
      ],
      "text/plain": [
       "TeqT_eval: |= (TRUE = TRUE) = TRUE"
      ]
     },
     "execution_count": 5,
     "metadata": {},
     "output_type": "execute_result"
    }
   ],
   "source": [
    "TeqT_eval = Equals(TRUE, TRUE).evaluation()"
   ]
  },
  {
   "cell_type": "code",
   "execution_count": 6,
   "metadata": {},
   "outputs": [
    {
     "data": {
      "text/html": [
       "<strong id=\"TeqF_eval\">TeqF_eval:</strong> <span style=\"font-size:20px;\"> &#x22A2;&nbsp;<a class=\"ProveItLink\" href=\"../__pv_it/5907fd36ce68ee2249a7694a531d27bb334248380/expr.ipynb\"><img src=\"../__pv_it/5907fd36ce68ee2249a7694a531d27bb334248380/expr.png\" style=\"display:inline;vertical-align:middle;\" /></a></span><br>"
      ],
      "text/plain": [
       "TeqF_eval: |= (TRUE = FALSE) = FALSE"
      ]
     },
     "execution_count": 6,
     "metadata": {},
     "output_type": "execute_result"
    }
   ],
   "source": [
    "TeqF_eval = Equals(TRUE, FALSE).evaluation()"
   ]
  },
  {
   "cell_type": "code",
   "execution_count": 7,
   "metadata": {},
   "outputs": [
    {
     "data": {
      "text/html": [
       "<strong id=\"TeqT_or_F\">TeqT_or_F:</strong> <span style=\"font-size:20px;\"> &#x22A2;&nbsp;<a class=\"ProveItLink\" href=\"../__pv_it/a59e47fbfa0e1f1334d90b250046cc60f14d35310/expr.ipynb\"><img src=\"../__pv_it/a59e47fbfa0e1f1334d90b250046cc60f14d35310/expr.png\" style=\"display:inline;vertical-align:middle;\" /></a></span><br>"
      ],
      "text/plain": [
       "TeqT_or_F: |= (TRUE = TRUE) or FALSE"
      ]
     },
     "execution_count": 7,
     "metadata": {},
     "output_type": "execute_result"
    }
   ],
   "source": [
    "TeqT_or_F = TeqT_eval.subLeftSideInto(trueOrFalse)"
   ]
  },
  {
   "cell_type": "code",
   "execution_count": 8,
   "metadata": {},
   "outputs": [
    {
     "data": {
      "text/html": [
       "<span style=\"font-size:20px;\"> &#x22A2;&nbsp;<a class=\"ProveItLink\" href=\"../__pv_it/311769ff8de2a297fe40673d08d26ffc9d783ac70/expr.ipynb\"><img src=\"../__pv_it/311769ff8de2a297fe40673d08d26ffc9d783ac70/expr.png\" style=\"display:inline;vertical-align:middle;\" /></a></span>"
      ],
      "text/plain": [
       "|= (TRUE = TRUE) or (TRUE = FALSE)"
      ]
     },
     "execution_count": 8,
     "metadata": {},
     "output_type": "execute_result"
    }
   ],
   "source": [
    "TeqF_eval.subLeftSideInto(TeqT_or_F)"
   ]
  },
  {
   "cell_type": "code",
   "execution_count": 9,
   "metadata": {},
   "outputs": [
    {
     "name": "stdout",
     "output_type": "stream",
     "text": [
      "trueInBool has been proven.  Now simply execute \"%qed\".\n"
     ]
    },
    {
     "data": {
      "text/html": [
       "<span style=\"font-size:20px;\"> &#x22A2;&nbsp;<a class=\"ProveItLink\" href=\"../__pv_it/3e7350f116816f72fa422609af12e912bbd1845d0/expr.ipynb\"><img src=\"../__pv_it/3e7350f116816f72fa422609af12e912bbd1845d0/expr.png\" style=\"display:inline;vertical-align:middle;\" /></a></span>"
      ],
      "text/plain": [
       "|= TRUE in BOOLEANS"
      ]
     },
     "execution_count": 9,
     "metadata": {},
     "output_type": "execute_result"
    }
   ],
   "source": [
    "foldInBool.specialize({A:TRUE})"
   ]
  },
  {
   "cell_type": "code",
   "execution_count": 10,
   "metadata": {},
   "outputs": [
    {
     "data": {
      "text/html": [
       "<table><tr><th>&nbsp;</th><th>step type</th><th>requirements</th><th>statement</th></tr>\n",
       "<tr><td>0</td><td>specialization</td><td>1, 2</td><td><span style=\"font-size:20px;\"> &#x22A2;&nbsp;<a class=\"ProveItLink\" href=\"../__pv_it/3e7350f116816f72fa422609af12e912bbd1845d0/expr.ipynb\"><img src=\"../__pv_it/3e7350f116816f72fa422609af12e912bbd1845d0/expr.png\" style=\"display:inline;vertical-align:middle;\" /></a></span></td></tr>\n",
       "<tr><td>&nbsp;</td><td colspan=4 style=\"text-align:left\"><span style=\"font-size:20px;\"><a class=\"ProveItLink\" href=\"../__pv_it/463a137102dd78a0748c60e948e9522c70c8c3ee0/expr.ipynb\"><img src=\"../__pv_it/463a137102dd78a0748c60e948e9522c70c8c3ee0/expr.png\" style=\"display:inline;vertical-align:middle;\" /></a></span></td></tr><tr><td>1</td><td>theorem</td><td></td><td><span style=\"font-size:20px;\"> &#x22A2;&nbsp;<a class=\"ProveItLink\" href=\"../__pv_it/5a0b735eb2c903e1707180f4353a8ea9547060900/expr.ipynb\"><img src=\"../__pv_it/5a0b735eb2c903e1707180f4353a8ea9547060900/expr.png\" style=\"display:inline;vertical-align:middle;\" /></a></span></td></tr>\n",
       "<tr><td>&nbsp;</td><td colspan=4 style-\"text-align:left\"><a class=\"ProveItLink\" href=\"foldInBool.ipynb\">proveit.logic.boolean.foldInBool</a></td></tr><tr><td>2</td><td>specialization</td><td>3, 4, 5</td><td><span style=\"font-size:20px;\"> &#x22A2;&nbsp;<a class=\"ProveItLink\" href=\"../__pv_it/311769ff8de2a297fe40673d08d26ffc9d783ac70/expr.ipynb\"><img src=\"../__pv_it/311769ff8de2a297fe40673d08d26ffc9d783ac70/expr.png\" style=\"display:inline;vertical-align:middle;\" /></a></span></td></tr>\n",
       "<tr><td>&nbsp;</td><td colspan=4 style=\"text-align:left\"><span style=\"font-size:20px;\"><a class=\"ProveItLink\" href=\"../__pv_it/1f73e735c8f287bf68f63454a68af0c6ccd4c1b20/expr.ipynb\"><img src=\"../__pv_it/1f73e735c8f287bf68f63454a68af0c6ccd4c1b20/expr.png\" style=\"display:inline;vertical-align:middle;\" /></a>, <a class=\"ProveItLink\" href=\"../__pv_it/248b4d681b5d0e9ba5509c105a517a6aceab6de70/expr.ipynb\"><img src=\"../__pv_it/248b4d681b5d0e9ba5509c105a517a6aceab6de70/expr.png\" style=\"display:inline;vertical-align:middle;\" /></a></span></td></tr><tr><td>3</td><td>theorem</td><td></td><td><span style=\"font-size:20px;\"> &#x22A2;&nbsp;<a class=\"ProveItLink\" href=\"../../equality/__pv_it/34d800ff7ea301ab48c11ae7efeae8d673343a320/expr.ipynb\"><img src=\"../../equality/__pv_it/34d800ff7ea301ab48c11ae7efeae8d673343a320/expr.png\" style=\"display:inline;vertical-align:middle;\" /></a></span></td></tr>\n",
       "<tr><td>&nbsp;</td><td colspan=4 style-\"text-align:left\"><a class=\"ProveItLink\" href=\"../../equality/_proofs_/substituteFalsehood.ipynb\">proveit.logic.equality.substituteFalsehood</a></td></tr><tr><td>4</td><td>specialization</td><td>6, 7, 8</td><td><span style=\"font-size:20px;\"> &#x22A2;&nbsp;<a class=\"ProveItLink\" href=\"../__pv_it/a59e47fbfa0e1f1334d90b250046cc60f14d35310/expr.ipynb\"><img src=\"../__pv_it/a59e47fbfa0e1f1334d90b250046cc60f14d35310/expr.png\" style=\"display:inline;vertical-align:middle;\" /></a></span></td></tr>\n",
       "<tr><td>&nbsp;</td><td colspan=4 style=\"text-align:left\"><span style=\"font-size:20px;\"><a class=\"ProveItLink\" href=\"../__pv_it/4df4ee3aeb2e4b0f7f4f43de4f5860888fd53ca30/expr.ipynb\"><img src=\"../__pv_it/4df4ee3aeb2e4b0f7f4f43de4f5860888fd53ca30/expr.png\" style=\"display:inline;vertical-align:middle;\" /></a>, <a class=\"ProveItLink\" href=\"../__pv_it/b4323db48aa87bc9ed4ce37529c8bc876d1fc1c30/expr.ipynb\"><img src=\"../__pv_it/b4323db48aa87bc9ed4ce37529c8bc876d1fc1c30/expr.png\" style=\"display:inline;vertical-align:middle;\" /></a></span></td></tr><tr><td>5</td><td>specialization</td><td>9, 10</td><td><span style=\"font-size:20px;\"> &#x22A2;&nbsp;<a class=\"ProveItLink\" href=\"../__pv_it/37fb4ed9c5ef0fb16a5113a92d7f31d90f8defe10/expr.ipynb\"><img src=\"../__pv_it/37fb4ed9c5ef0fb16a5113a92d7f31d90f8defe10/expr.png\" style=\"display:inline;vertical-align:middle;\" /></a></span></td></tr>\n",
       "<tr><td>&nbsp;</td><td colspan=4 style=\"text-align:left\"><span style=\"font-size:20px;\"><a class=\"ProveItLink\" href=\"../__pv_it/e448f960b7106a2d2022867f5b2e1112db5b506f0/expr.ipynb\"><img src=\"../__pv_it/e448f960b7106a2d2022867f5b2e1112db5b506f0/expr.png\" style=\"display:inline;vertical-align:middle;\" /></a>, <a class=\"ProveItLink\" href=\"../__pv_it/02b053dc5acb5b623fdb7ee0fca80913f34c6cb00/expr.ipynb\"><img src=\"../__pv_it/02b053dc5acb5b623fdb7ee0fca80913f34c6cb00/expr.png\" style=\"display:inline;vertical-align:middle;\" /></a></span></td></tr><tr><td>6</td><td>theorem</td><td></td><td><span style=\"font-size:20px;\"> &#x22A2;&nbsp;<a class=\"ProveItLink\" href=\"../../equality/__pv_it/1e114d79aed6c8943f89c10304527d77560f33e20/expr.ipynb\"><img src=\"../../equality/__pv_it/1e114d79aed6c8943f89c10304527d77560f33e20/expr.png\" style=\"display:inline;vertical-align:middle;\" /></a></span></td></tr>\n",
       "<tr><td>&nbsp;</td><td colspan=4 style-\"text-align:left\"><a class=\"ProveItLink\" href=\"../../equality/_proofs_/substituteTruth.ipynb\">proveit.logic.equality.substituteTruth</a></td></tr><tr><td>7</td><td>theorem</td><td></td><td><span style=\"font-size:20px;\"> &#x22A2;&nbsp;<a class=\"ProveItLink\" href=\"../disjunction/__pv_it/eec5dacd574712698e86760b8b62868c1668cdd80/expr.ipynb\"><img src=\"../disjunction/__pv_it/eec5dacd574712698e86760b8b62868c1668cdd80/expr.png\" style=\"display:inline;vertical-align:middle;\" /></a></span></td></tr>\n",
       "<tr><td>&nbsp;</td><td colspan=4 style-\"text-align:left\"><a class=\"ProveItLink\" href=\"../disjunction/_proofs_/trueOrFalse.ipynb\">proveit.logic.boolean.disjunction.trueOrFalse</a></td></tr><tr><td>8</td><td>theorem</td><td></td><td><span style=\"font-size:20px;\"> &#x22A2;&nbsp;<a class=\"ProveItLink\" href=\"../__pv_it/39b7bb11d9285a053f62e0eb2edba7c6180380300/expr.ipynb\"><img src=\"../__pv_it/39b7bb11d9285a053f62e0eb2edba7c6180380300/expr.png\" style=\"display:inline;vertical-align:middle;\" /></a></span></td></tr>\n",
       "<tr><td>&nbsp;</td><td colspan=4 style-\"text-align:left\"><a class=\"ProveItLink\" href=\"trueEqTrue.ipynb\">proveit.logic.boolean.trueEqTrue</a></td></tr><tr><td>9</td><td>theorem</td><td></td><td><span style=\"font-size:20px;\"> &#x22A2;&nbsp;<a class=\"ProveItLink\" href=\"../../equality/__pv_it/bcabcb85241bffa03b17eb193708721b3448e0000/expr.ipynb\"><img src=\"../../equality/__pv_it/bcabcb85241bffa03b17eb193708721b3448e0000/expr.png\" style=\"display:inline;vertical-align:middle;\" /></a></span></td></tr>\n",
       "<tr><td>&nbsp;</td><td colspan=4 style-\"text-align:left\"><a class=\"ProveItLink\" href=\"../../equality/_proofs_/unfoldNotEquals.ipynb\">proveit.logic.equality.unfoldNotEquals</a></td></tr><tr><td>10</td><td>theorem</td><td></td><td><span style=\"font-size:20px;\"> &#x22A2;&nbsp;<a class=\"ProveItLink\" href=\"../__pv_it/b021c743ee41463bf5901121b5b091f2d2a9a6ee0/expr.ipynb\"><img src=\"../__pv_it/b021c743ee41463bf5901121b5b091f2d2a9a6ee0/expr.png\" style=\"display:inline;vertical-align:middle;\" /></a></span></td></tr>\n",
       "<tr><td>&nbsp;</td><td colspan=4 style-\"text-align:left\"><a class=\"ProveItLink\" href=\"trueNotFalse.ipynb\">proveit.logic.boolean.trueNotFalse</a></td></tr></table>"
      ],
      "text/plain": [
       "\tstep type\trequirements\tstatement\n",
       "0\tspecialization\t1, 2\t|= TRUE in BOOLEANS\n",
       "\tA -> TRUE\n",
       "1\ttheorem\t\t|= forall_{A | (A = TRUE) or (A = FALSE)} (A in BOOLEANS)\n",
       "\tproveit.logic.boolean.foldInBool\n",
       "2\tspecialization\t3, 4, 5\t|= (TRUE = TRUE) or (TRUE = FALSE)\n",
       "\t{P -> [_x_ -> ((TRUE = TRUE) or _x_)]}, {x -> (TRUE = FALSE)}\n",
       "3\ttheorem\t\t|= forall_{P, x | P(FALSE) , [not](x)} P(x)\n",
       "\tproveit.logic.equality.substituteFalsehood\n",
       "4\tspecialization\t6, 7, 8\t|= (TRUE = TRUE) or FALSE\n",
       "\t{P -> [_x_ -> (_x_ or FALSE)]}, {x -> (TRUE = TRUE)}\n",
       "5\tspecialization\t9, 10\t|= [not](TRUE = FALSE)\n",
       "\t{x -> TRUE}, {y -> FALSE}\n",
       "6\ttheorem\t\t|= forall_{P, x | P(TRUE) , x} P(x)\n",
       "\tproveit.logic.equality.substituteTruth\n",
       "7\ttheorem\t\t|= TRUE or FALSE\n",
       "\tproveit.logic.boolean.disjunction.trueOrFalse\n",
       "8\ttheorem\t\t|= TRUE = TRUE\n",
       "\tproveit.logic.boolean.trueEqTrue\n",
       "9\ttheorem\t\t|= forall_{x, y | x != y} [not](x = y)\n",
       "\tproveit.logic.equality.unfoldNotEquals\n",
       "10\ttheorem\t\t|= TRUE != FALSE\n",
       "\tproveit.logic.boolean.trueNotFalse"
      ]
     },
     "execution_count": 10,
     "metadata": {},
     "output_type": "execute_result"
    }
   ],
   "source": [
    "%qed"
   ]
  },
  {
   "cell_type": "code",
   "execution_count": null,
   "metadata": {},
   "outputs": [],
   "source": []
  }
 ],
 "metadata": {
  "kernelspec": {
   "display_name": "Python 3",
   "language": "python",
   "name": "python3"
  },
  "language_info": {
   "codemirror_mode": {
    "name": "ipython",
    "version": 3
   },
   "file_extension": ".py",
   "mimetype": "text/x-python",
   "name": "python",
   "nbconvert_exporter": "python",
   "pygments_lexer": "ipython3",
   "version": "3.7.0"
  }
 },
 "nbformat": 4,
 "nbformat_minor": 1
}
