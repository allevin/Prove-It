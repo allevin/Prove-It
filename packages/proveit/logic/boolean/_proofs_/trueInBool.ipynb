{
 "cells": [
  {
   "cell_type": "markdown",
   "metadata": {},
   "source": [
    "Proof of <a class=\"ProveItLink\" href=\"../../../_context_.ipynb\">proveit</a>.<a class=\"ProveItLink\" href=\"../../_context_.ipynb\">logic</a>.<a class=\"ProveItLink\" href=\"../_context_.ipynb\">boolean</a>.<a class=\"ProveItLink\" href=\"../_theorems_.ipynb#trueInBool\">trueInBool</a> theorem\n",
    "========"
   ]
  },
  {
   "cell_type": "code",
   "execution_count": 1,
   "metadata": {},
   "outputs": [],
   "source": [
    "import proveit\n",
    "from proveit._common_ import A\n",
    "from proveit.logic import TRUE, FALSE, Or, Equals\n",
    "from proveit.logic.boolean._theorems_ import foldInBool\n",
    "from proveit.logic.boolean.disjunction._theorems_ import trueOrFalse\n",
    "from proveit.logic.equality._theorems_ import unfoldNotEquals, subLeftSideInto\n",
    "context = proveit.Context('..') # the theorem's context is in the parent directory"
   ]
  },
  {
   "cell_type": "code",
   "execution_count": 2,
   "metadata": {},
   "outputs": [
    {
     "name": "stdout",
     "output_type": "stream",
     "text": [
      "Beginning proof of trueInBool\n",
      "Recorded 'presuming' information\n",
      "Presuming proveit.logic.boolean.disjunction.trueOrFalse, proveit.logic.equality.unfoldNotEquals theorems (applied transitively).\n",
      "Presuming previous theorems (applied transitively).\n"
     ]
    },
    {
     "data": {
      "text/html": [
       "<strong id=\"trueInBool\">trueInBool:</strong> <a class=\"ProveItLink\" href=\"../__pv_it/9f5690849bd61b8821dafe2919824d2ac18aea6c0/expr.ipynb\"><img src=\"data:image/png;base64,iVBORw0KGgoAAAANSUhEUgAAADYAAAAPBAMAAABdHiGLAAAAMFBMVEX///+qqqpUVFQQEBC6urrc\n",
       "3NyYmJgyMjKIiIju7u52dnbMzMxEREQiIiJmZmYAAADNQpwIAAAAAXRSTlMAQObYZgAAAJBJREFU\n",
       "GNNjeHsXBO4wIAOu+uPfbQ+CmfsY0AEPS8P0WQtwynE4FKDIcbbfvVsAlWNM0ESR256JpM/1ALIc\n",
       "60kkM/fmTECW4wlAyN39b4HizjkobmlEMdMZ5FOYWxgOeCHLbULWx3CAB1luLh45pgQUORQzOa8g\n",
       "ybG9ALtlF0wo/DU8rP9cVkQLR6FaiDshAAC+xzqFv6q7bgAAAABJRU5ErkJggg==\n",
       "\" style=\"display:inline;vertical-align:middle;\" /></a><br>(see <a class=\"ProveItLink\" href=\"../__pv_it/9f5690849bd61b8821dafe2919824d2ac18aea6c0/dependencies.ipynb\">dependencies</a>)<br>"
      ],
      "text/plain": [
       "trueInBool: TRUE in BOOLEANS"
      ]
     },
     "execution_count": 2,
     "metadata": {},
     "output_type": "execute_result"
    }
   ],
   "source": [
    "%proving trueInBool presuming [trueOrFalse, unfoldNotEquals]"
   ]
  },
  {
   "cell_type": "code",
   "execution_count": 3,
   "metadata": {},
   "outputs": [
    {
     "data": {
      "text/html": [
       "<span style=\"font-size:20px;\"> <a class=\"ProveItLink\" href=\"foldInBool.ipynb\" style=\"text-decoration: none\">&#x22A2;&nbsp;</a><a class=\"ProveItLink\" href=\"../__pv_it/768c25286834e2d519e3c28d5b79fe169910e93c0/expr.ipynb\"><img src=\"data:image/png;base64,iVBORw0KGgoAAAANSUhEUgAAAO0AAAAXBAMAAAAVatXDAAAAMFBMVEX///8QEBC6urrMzMxUVFRm\n",
       "ZmZERETc3NwyMjKqqqp2dnaIiIiYmJgiIiLu7u4AAAAU9Wx4AAAAAXRSTlMAQObYZgAAAr9JREFU\n",
       "SMfFVj1oFEEUfne7t/eze5tgJxLcIqiIwhYWNiGHBlQQk0YFRVybPQUhWxwJCsFrJILRWGil4CGI\n",
       "iCKLVlY5LAS1iUVAxMONqAQlGCyOFKK+mdndmfvZOZETH9zOzPfNzPfmzZuZA/hPFvyTWdO+jH2G\n",
       "v0VSedVv3V2sGGlFC/On14fOAGRsgPsEuNpv3XDC+TZYS/srX2oAVYApbGadPsvqLMzG+6BDV7dQ\n",
       "9CVADqnMtT7rppjeuZMea3+90ngT6ubrhwCW0ad709Mz/Q7zNlb4CxYtlbmAr3crBlfDhTZd923n\n",
       "yKzdZbr8n9LHWFIHt+u0MhXwOI88x0ZhAmAvQJmCs6wz63FegGJTalGtBz1Hvx9glO1zme9v49cm\n",
       "4iHu8TCYVZoE3xnFejgChHbEPeW6NbgTtdvocFhMb6BfCy5MkNJ0xLx6iq30IEARdBqNTz8E3bwv\n",
       "QBxfAZ1kazIdGnVIGRsbp4rpoUYjzitwtiO1hrPUizT8j5YEXc0TII6rto4ZUUmmRV3csRSNpFIS\n",
       "1guOxnTNKr1cFN8VdFMixHE8l7iCfRKa2UbyQQ+LgzTOi+26JM5Q3kN9hROC7u4IUi+hXY7wdAke\n",
       "Q7YkoZmdJSmPurk12jzYootxNkgcblB3XsCCoDssQhxXqvAZVE9CM7sbbrb2kzZXLa5rHHfYOYIU\n",
       "iY65dHgy4LrXRahl4oJVkdHMduKZ3TwLxuQ6TejsRTt6F5qvD2AlRxwxyOiMB6M2190SQVprIB08\n",
       "FEdldHhPem03yn6Wz5Etx7UdAAN1rrsqQnxBBt4MD0tSGloqCfYgqnxsQnb8HdfFo8UhPnEG4/PN\n",
       "7qTDayVjtb2DCWZWOzGmq3d/oXJks+Q0s4pUV/WSdM3uL/LNyGE5jc5J/+c8gSRduNV1QHzx9KD/\n",
       "wtQwM7o9dIX43PSge9tvpYXIP1vpZ/sAAAAASUVORK5CYII=\n",
       "\" style=\"display:inline;vertical-align:middle;\" /></a></span>"
      ],
      "text/plain": [
       "|- forall_{A | (A = TRUE) or (A = FALSE)} (A in BOOLEANS)"
      ]
     },
     "execution_count": 3,
     "metadata": {},
     "output_type": "execute_result"
    }
   ],
   "source": [
    "foldInBool"
   ]
  },
  {
   "cell_type": "code",
   "execution_count": 4,
   "metadata": {},
   "outputs": [
    {
     "data": {
      "text/html": [
       "<span style=\"font-size:20px;\"> <a class=\"ProveItLink\" href=\"../disjunction/_proofs_/trueOrFalse.ipynb\" style=\"text-decoration: none\">&#x22A2;&nbsp;</a><a class=\"ProveItLink\" href=\"../disjunction/__pv_it/7ee56ac56fe7319585c441261a5a8301695cb6a90/expr.ipynb\"><img src=\"data:image/png;base64,iVBORw0KGgoAAAANSUhEUgAAADUAAAAPBAMAAAC2KZqIAAAAMFBMVEX///8QEBCYmJiqqqrc3Nwy\n",
       "MjLu7u6IiIhUVFS6urp2dnbMzMxEREQiIiJmZmYAAADfOGkeAAAAAXRSTlMAQObYZgAAAHhJREFU\n",
       "GNNjeHsXBO4woAKWAihjH4TiBJMbwCT3A1Q5DpAwewFWOe4DQII3AascQwgQ2zFgl7ODymOTA5oH\n",
       "NhebHNAdHBNwyDFcYEhlwCX3mGERTjlXoE5cchybCnDKcZ9NQJfbBQ/iODDJBwx82bt3D6AG/zYU\n",
       "HgBsMC5BQDKFNgAAAABJRU5ErkJggg==\n",
       "\" style=\"display:inline;vertical-align:middle;\" /></a></span>"
      ],
      "text/plain": [
       "|- TRUE or FALSE"
      ]
     },
     "execution_count": 4,
     "metadata": {},
     "output_type": "execute_result"
    }
   ],
   "source": [
    "trueOrFalse"
   ]
  },
  {
   "cell_type": "code",
   "execution_count": 5,
   "metadata": {},
   "outputs": [
    {
     "data": {
      "text/html": [
       "<strong id=\"TeqT_eval\">TeqT_eval:</strong> <span style=\"font-size:20px;\"> <a class=\"ProveItLink\" href=\"../__pv_it/72649977548c8a1851081586114ba099938f7b3c0/proof.ipynb\" style=\"text-decoration: none\">&#x22A2;&nbsp;</a><a class=\"ProveItLink\" href=\"../__pv_it/4e7c91b59f96ca39a8701217757e44a55388997f0/expr.ipynb\"><img src=\"data:image/png;base64,iVBORw0KGgoAAAANSUhEUgAAAHUAAAAVBAMAAACK3rzVAAAAMFBMVEX////c3NwiIiJERESqqqqY\n",
       "mJh2dnZmZmYQEBDu7u4yMjJUVFTMzMyIiIi6uroAAAAs73DqAAAAAXRSTlMAQObYZgAAALFJREFU\n",
       "OMtjYKAE8F3AL8/6ALfcaQZ2JTAwQBWHi9ag60CoXwni8hRgMxYiyoVThvcCIb2sCbhkOCYQ0svZ\n",
       "gEvmFQMhvQwmuGTKCOtNxyWzFEUv+yow2ICi1wuXTB9he1/gkvlHWO95WuhtQfUvShJDdjM2GVPC\n",
       "9kbhkkmnII4eQdgJWPVCRNfhkuEQIJRJsaVJaPZMIKSXDXcGX0lI7yzcUtKE9G7ELcVIoMzhPYBL\n",
       "BgBhhDkmDaR8qQAAAABJRU5ErkJggg==\n",
       "\" style=\"display:inline;vertical-align:middle;\" /></a></span><br>"
      ],
      "text/plain": [
       "TeqT_eval: |- (TRUE = TRUE) = TRUE"
      ]
     },
     "execution_count": 5,
     "metadata": {},
     "output_type": "execute_result"
    }
   ],
   "source": [
    "TeqT_eval = Equals(TRUE, TRUE).evaluation()"
   ]
  },
  {
   "cell_type": "code",
   "execution_count": 6,
   "metadata": {},
   "outputs": [
    {
     "data": {
      "text/html": [
       "<strong id=\"TeqF_eval\">TeqF_eval:</strong> <span style=\"font-size:20px;\"> <a class=\"ProveItLink\" href=\"../__pv_it/670475e1069176a128e43b05d0a34173b1ccf78d0/proof.ipynb\" style=\"text-decoration: none\">&#x22A2;&nbsp;</a><a class=\"ProveItLink\" href=\"../__pv_it/9fadd989480f0e9ed6af670a7b5009f5590004630/expr.ipynb\"><img src=\"data:image/png;base64,iVBORw0KGgoAAAANSUhEUgAAAHUAAAAVBAMAAACK3rzVAAAAMFBMVEX////c3NwiIiJERESqqqqY\n",
       "mJh2dnZmZmYQEBDu7u4yMjJUVFTMzMyIiIi6uroAAAAs73DqAAAAAXRSTlMAQObYZgAAALZJREFU\n",
       "OMtjYKAE8F3AL8/6ALfcaQZ2JTAwwJBiBBtbg0UTRIZhJYjgKcBmLESUC6cM7wVCelkTcMlwTCCk\n",
       "l7MBl8wrBkJ6GUxwyZQR1puOS2Ypil72VWCwAUWvFy6ZPsL2vsAl84+w3vO00NuC6l+UJIbsZmwy\n",
       "poTtjcIlk05BHD2CsDHTHciRTWBHrsMlwyFAKJNiS5PQ7JlASC8b7gy+kpDeWbilpAnp3YhbipFA\n",
       "mcN7AJcMABivOrC0WkZ0AAAAAElFTkSuQmCC\n",
       "\" style=\"display:inline;vertical-align:middle;\" /></a></span><br>"
      ],
      "text/plain": [
       "TeqF_eval: |- (TRUE = FALSE) = FALSE"
      ]
     },
     "execution_count": 6,
     "metadata": {},
     "output_type": "execute_result"
    }
   ],
   "source": [
    "TeqF_eval = Equals(TRUE, FALSE).evaluation()"
   ]
  },
  {
   "cell_type": "code",
   "execution_count": 7,
   "metadata": {},
   "outputs": [
    {
     "data": {
      "text/html": [
       "<strong id=\"TeqT_or_F\">TeqT_or_F:</strong> <span style=\"font-size:20px;\"> <a class=\"ProveItLink\" href=\"../__pv_it/230fb1a0401d51a08ea36703a1fba71ab08effa90/proof.ipynb\" style=\"text-decoration: none\">&#x22A2;&nbsp;</a><a class=\"ProveItLink\" href=\"../__pv_it/782f5f4410ff344eebb0d6e4c59da1b4a496aed00/expr.ipynb\"><img src=\"data:image/png;base64,iVBORw0KGgoAAAANSUhEUgAAAHAAAAAVBAMAAABs93eRAAAAMFBMVEX////c3NwiIiJERESqqqqY\n",
       "mJh2dnZmZmYQEBDu7u4yMjJUVFTMzMyIiIi6uroAAAAs73DqAAAAAXRSTlMAQObYZgAAAQJJREFU\n",
       "OMtjYCAb8F3AL8/6AIfEaQZ2JTAwQBWHi9ZgaJEFkytBBE8BNjMholxgNtheHoj4cRDBe4GQRtYE\n",
       "ELkHRNxF0sgxgZBGzgYQeRhEaCJpfMVASCODCdjBAgwMLAVIGssIa0wHESBNIM1wjUtRNLKvAoMN\n",
       "KBq9GKDOPMyApLGPsI0vGKABsw9Z4z/CGs+DSSYGzgVkaWR3YAtA1tiC6keURITiVMYFTAzIGk0J\n",
       "2xgF4e2JRdGYTmR0AMNUE0XjI4iSBKwaIaLrIDwuiDFFSkoaSkrKDBwChPIdJMkBjZmAmt0SCGlk\n",
       "w5FhVxLSOAuHuDQhjRtxiDMSKDp4D2AVBgDJakMB1AuzPAAAAABJRU5ErkJggg==\n",
       "\" style=\"display:inline;vertical-align:middle;\" /></a></span><br>"
      ],
      "text/plain": [
       "TeqT_or_F: |- (TRUE = TRUE) or FALSE"
      ]
     },
     "execution_count": 7,
     "metadata": {},
     "output_type": "execute_result"
    }
   ],
   "source": [
    "TeqT_or_F = TeqT_eval.subLeftSideInto(trueOrFalse)"
   ]
  },
  {
   "cell_type": "code",
   "execution_count": 8,
   "metadata": {},
   "outputs": [
    {
     "data": {
      "text/html": [
       "<span style=\"font-size:20px;\"> <a class=\"ProveItLink\" href=\"../__pv_it/1ac088ac3b46562be07af75f4fda8c6a77e62f550/proof.ipynb\" style=\"text-decoration: none\">&#x22A2;&nbsp;</a><a class=\"ProveItLink\" href=\"../__pv_it/438a9a402401fd8e7fc0e70f123de7efd96fa1e90/expr.ipynb\"><img src=\"data:image/png;base64,iVBORw0KGgoAAAANSUhEUgAAAKsAAAAVBAMAAADLBgMvAAAAMFBMVEX////c3NwiIiJERESqqqqY\n",
       "mJh2dnZmZmYQEBDu7u4yMjJUVFTMzMyIiIi6uroAAAAs73DqAAAAAXRSTlMAQObYZgAAAYlJREFU\n",
       "OMtjYKAR4LuAX571AbrIWwImxoGI0wzsSmBggCoJF61B08WzgaEILKWMaaIsWOcBILESrLQAm7UQ\n",
       "US4wG+xmHjB/Aog8jtWhENEFDAy8FwgZy5oAIveAiLtwAq+xYQwMHBMIGcvZACIPgwhNENFJ0NgZ\n",
       "DAyvGAgZy2AC9roAAwMLiM+3gKCxzA4MZYSNTQcRICNBRjOwJxA0lq2AYSmKseyrwGADirFeDNAA\n",
       "AAcEVwCKsVVgDatRjGVZwNBH2LUvGKAxtQ9Eczwg6Fq+BoZ/hI09DyaZGDjBocpP2FieD8Qby+7A\n",
       "FkC8sS2oYYuS4VACgXEBE5jmcEAxFjXDwQPBlLBroyC8PbGQ1BNA0LWsCyCph4gEBkwHmrDUQ0QC\n",
       "ewQxIAGrsRDRdRAeF8Q8PgUwdQxTOTA8NMDhwfWAgUOAUMkJybxASyZA6EaCZe0MWEGCD7ChFchh\n",
       "BI3NhRWM+MAsND7XBELeA6VvaULGbkTjM24goIEbFK6MBCod3gNYqwA84A4DAwA56Gs600DsrAAA\n",
       "AABJRU5ErkJggg==\n",
       "\" style=\"display:inline;vertical-align:middle;\" /></a></span>"
      ],
      "text/plain": [
       "|- (TRUE = TRUE) or (TRUE = FALSE)"
      ]
     },
     "execution_count": 8,
     "metadata": {},
     "output_type": "execute_result"
    }
   ],
   "source": [
    "TeqF_eval.subLeftSideInto(TeqT_or_F)"
   ]
  },
  {
   "cell_type": "code",
   "execution_count": 9,
   "metadata": {},
   "outputs": [
    {
     "name": "stdout",
     "output_type": "stream",
     "text": [
      "trueInBool has been proven.  Now simply execute \"%qed\".\n"
     ]
    },
    {
     "data": {
      "text/html": [
       "<span style=\"font-size:20px;\"> <a class=\"ProveItLink\" href=\"../__pv_it/b541a099248708a5fe8e5a4a25c871fb5e68ad5a0/proof.ipynb\" style=\"text-decoration: none\">&#x22A2;&nbsp;</a><a class=\"ProveItLink\" href=\"../__pv_it/9f5690849bd61b8821dafe2919824d2ac18aea6c0/expr.ipynb\"><img src=\"data:image/png;base64,iVBORw0KGgoAAAANSUhEUgAAADYAAAAPBAMAAABdHiGLAAAAMFBMVEX///+qqqpUVFQQEBC6urrc\n",
       "3NyYmJgyMjKIiIju7u52dnbMzMxEREQiIiJmZmYAAADNQpwIAAAAAXRSTlMAQObYZgAAAJBJREFU\n",
       "GNNjeHsXBO4wIAOu+uPfbQ+CmfsY0AEPS8P0WQtwynE4FKDIcbbfvVsAlWNM0ESR256JpM/1ALIc\n",
       "60kkM/fmTECW4wlAyN39b4HizjkobmlEMdMZ5FOYWxgOeCHLbULWx3CAB1luLh45pgQUORQzOa8g\n",
       "ybG9ALtlF0wo/DU8rP9cVkQLR6FaiDshAAC+xzqFv6q7bgAAAABJRU5ErkJggg==\n",
       "\" style=\"display:inline;vertical-align:middle;\" /></a></span>"
      ],
      "text/plain": [
       "|- TRUE in BOOLEANS"
      ]
     },
     "execution_count": 9,
     "metadata": {},
     "output_type": "execute_result"
    }
   ],
   "source": [
    "foldInBool.specialize({A:TRUE})"
   ]
  },
  {
   "cell_type": "code",
   "execution_count": 10,
   "metadata": {},
   "outputs": [
    {
     "data": {
      "text/html": [
       "<table><tr><th>&nbsp;</th><th>step type</th><th>requirements</th><th>statement</th></tr>\n",
       "<tr><td>0</td><td>specialization</td><td>1, 2</td><td><span style=\"font-size:20px;\"> <a class=\"ProveItLink\" href=\"../__pv_it/b541a099248708a5fe8e5a4a25c871fb5e68ad5a0/proof.ipynb\" style=\"text-decoration: none\">&#x22A2;&nbsp;</a><a class=\"ProveItLink\" href=\"../__pv_it/9f5690849bd61b8821dafe2919824d2ac18aea6c0/expr.ipynb\"><img src=\"data:image/png;base64,iVBORw0KGgoAAAANSUhEUgAAADYAAAAPBAMAAABdHiGLAAAAMFBMVEX///+qqqpUVFQQEBC6urrc\n",
       "3NyYmJgyMjKIiIju7u52dnbMzMxEREQiIiJmZmYAAADNQpwIAAAAAXRSTlMAQObYZgAAAJBJREFU\n",
       "GNNjeHsXBO4wIAOu+uPfbQ+CmfsY0AEPS8P0WQtwynE4FKDIcbbfvVsAlWNM0ESR256JpM/1ALIc\n",
       "60kkM/fmTECW4wlAyN39b4HizjkobmlEMdMZ5FOYWxgOeCHLbULWx3CAB1luLh45pgQUORQzOa8g\n",
       "ybG9ALtlF0wo/DU8rP9cVkQLR6FaiDshAAC+xzqFv6q7bgAAAABJRU5ErkJggg==\n",
       "\" style=\"display:inline;vertical-align:middle;\" /></a></span></td></tr>\n",
       "<tr><td>&nbsp;</td><td colspan=4 style=\"text-align:left\"><span style=\"font-size:20px;\"><a class=\"ProveItLink\" href=\"../../../__pv_it/2cbe72a7ad6f655694dd697106680215e8489b600/expr.ipynb\"><img src=\"data:image/png;base64,iVBORw0KGgoAAAANSUhEUgAAAA8AAAAOBAMAAAACpFvcAAAALVBMVEX///8QEBBERERUVFS6urqI\n",
       "iIhmZmaqqqrc3Nzu7u6YmJgyMjIiIiLMzMwAAADtIaYWAAAAAXRSTlMAQObYZgAAAFtJREFUCNdj\n",
       "YACBOwxQsA9Kc52bAGG05zVAGAFxDmCaZULdAjBjCsO9ADDDgaEvAUTzGhvbKYCVMDAwbgAxChgY\n",
       "eASANAeQwf0AyJgNxEwvGRia5HYwcOm9TgAA6BoR3jrzwFcAAAAASUVORK5CYII=\n",
       "\" style=\"display:inline;vertical-align:middle;\" /></a> : <a class=\"ProveItLink\" href=\"../__pv_it/68a87cc3370287d726c7086ace789e680e4461c30/expr.ipynb\"><img src=\"data:image/png;base64,iVBORw0KGgoAAAANSUhEUgAAAA4AAAAOBAMAAADtZjDiAAAAFVBMVEX///92dnbMzMxEREQiIiJm\n",
       "ZmYAAABAT6GXAAAAAXRSTlMAQObYZgAAABhJREFUCNdjCHEBAWcGIFBlgABa0YpADAAxegPJJk4d\n",
       "XAAAAABJRU5ErkJggg==\n",
       "\" style=\"display:inline;vertical-align:middle;\" /></a></span></td></tr><tr><td>1</td><td>theorem</td><td></td><td><span style=\"font-size:20px;\"> <a class=\"ProveItLink\" href=\"foldInBool.ipynb\" style=\"text-decoration: none\">&#x22A2;&nbsp;</a><a class=\"ProveItLink\" href=\"../__pv_it/768c25286834e2d519e3c28d5b79fe169910e93c0/expr.ipynb\"><img src=\"data:image/png;base64,iVBORw0KGgoAAAANSUhEUgAAAO0AAAAXBAMAAAAVatXDAAAAMFBMVEX///8QEBC6urrMzMxUVFRm\n",
       "ZmZERETc3NwyMjKqqqp2dnaIiIiYmJgiIiLu7u4AAAAU9Wx4AAAAAXRSTlMAQObYZgAAAr9JREFU\n",
       "SMfFVj1oFEEUfne7t/eze5tgJxLcIqiIwhYWNiGHBlQQk0YFRVybPQUhWxwJCsFrJILRWGil4CGI\n",
       "iCKLVlY5LAS1iUVAxMONqAQlGCyOFKK+mdndmfvZOZETH9zOzPfNzPfmzZuZA/hPFvyTWdO+jH2G\n",
       "v0VSedVv3V2sGGlFC/On14fOAGRsgPsEuNpv3XDC+TZYS/srX2oAVYApbGadPsvqLMzG+6BDV7dQ\n",
       "9CVADqnMtT7rppjeuZMea3+90ngT6ubrhwCW0ad709Mz/Q7zNlb4CxYtlbmAr3crBlfDhTZd923n\n",
       "yKzdZbr8n9LHWFIHt+u0MhXwOI88x0ZhAmAvQJmCs6wz63FegGJTalGtBz1Hvx9glO1zme9v49cm\n",
       "4iHu8TCYVZoE3xnFejgChHbEPeW6NbgTtdvocFhMb6BfCy5MkNJ0xLx6iq30IEARdBqNTz8E3bwv\n",
       "QBxfAZ1kazIdGnVIGRsbp4rpoUYjzitwtiO1hrPUizT8j5YEXc0TII6rto4ZUUmmRV3csRSNpFIS\n",
       "1guOxnTNKr1cFN8VdFMixHE8l7iCfRKa2UbyQQ+LgzTOi+26JM5Q3kN9hROC7u4IUi+hXY7wdAke\n",
       "Q7YkoZmdJSmPurk12jzYootxNkgcblB3XsCCoDssQhxXqvAZVE9CM7sbbrb2kzZXLa5rHHfYOYIU\n",
       "iY65dHgy4LrXRahl4oJVkdHMduKZ3TwLxuQ6TejsRTt6F5qvD2AlRxwxyOiMB6M2190SQVprIB08\n",
       "FEdldHhPem03yn6Wz5Etx7UdAAN1rrsqQnxBBt4MD0tSGloqCfYgqnxsQnb8HdfFo8UhPnEG4/PN\n",
       "7qTDayVjtb2DCWZWOzGmq3d/oXJks+Q0s4pUV/WSdM3uL/LNyGE5jc5J/+c8gSRduNV1QHzx9KD/\n",
       "wtQwM7o9dIX43PSge9tvpYXIP1vpZ/sAAAAASUVORK5CYII=\n",
       "\" style=\"display:inline;vertical-align:middle;\" /></a></span></td></tr>\n",
       "<tr><td>&nbsp;</td><td colspan=4 style-\"text-align:left\"><a class=\"ProveItLink\" href=\"foldInBool.ipynb\">proveit.logic.boolean.foldInBool</a></td></tr><tr><td>2</td><td>specialization</td><td>3, 4, 5</td><td><span style=\"font-size:20px;\"> <a class=\"ProveItLink\" href=\"../__pv_it/1ac088ac3b46562be07af75f4fda8c6a77e62f550/proof.ipynb\" style=\"text-decoration: none\">&#x22A2;&nbsp;</a><a class=\"ProveItLink\" href=\"../__pv_it/438a9a402401fd8e7fc0e70f123de7efd96fa1e90/expr.ipynb\"><img src=\"data:image/png;base64,iVBORw0KGgoAAAANSUhEUgAAAKsAAAAVBAMAAADLBgMvAAAAMFBMVEX////c3NwiIiJERESqqqqY\n",
       "mJh2dnZmZmYQEBDu7u4yMjJUVFTMzMyIiIi6uroAAAAs73DqAAAAAXRSTlMAQObYZgAAAYlJREFU\n",
       "OMtjYKAR4LuAX571AbrIWwImxoGI0wzsSmBggCoJF61B08WzgaEILKWMaaIsWOcBILESrLQAm7UQ\n",
       "US4wG+xmHjB/Aog8jtWhENEFDAy8FwgZy5oAIveAiLtwAq+xYQwMHBMIGcvZACIPgwhNENFJ0NgZ\n",
       "DAyvGAgZy2AC9roAAwMLiM+3gKCxzA4MZYSNTQcRICNBRjOwJxA0lq2AYSmKseyrwGADirFeDNAA\n",
       "AAcEVwCKsVVgDatRjGVZwNBH2LUvGKAxtQ9Eczwg6Fq+BoZ/hI09DyaZGDjBocpP2FieD8Qby+7A\n",
       "FkC8sS2oYYuS4VACgXEBE5jmcEAxFjXDwQPBlLBroyC8PbGQ1BNA0LWsCyCph4gEBkwHmrDUQ0QC\n",
       "ewQxIAGrsRDRdRAeF8Q8PgUwdQxTOTA8NMDhwfWAgUOAUMkJybxASyZA6EaCZe0MWEGCD7ChFchh\n",
       "BI3NhRWM+MAsND7XBELeA6VvaULGbkTjM24goIEbFK6MBCod3gNYqwA84A4DAwA56Gs600DsrAAA\n",
       "AABJRU5ErkJggg==\n",
       "\" style=\"display:inline;vertical-align:middle;\" /></a></span></td></tr>\n",
       "<tr><td>&nbsp;</td><td colspan=4 style=\"text-align:left\"><span style=\"font-size:20px;\"><a class=\"ProveItLink\" href=\"../__pv_it/fd4b0a418766985890fb332a124e981d1643d8330/expr.ipynb\"><img src=\"data:image/png;base64,iVBORw0KGgoAAAANSUhEUgAAAEkAAAAVBAMAAAD4Ed5jAAAAMFBMVEX////u7u5mZmaYmJi6urqq\n",
       "qqp2dnbMzMwQEBBEREQyMjLc3NwiIiJUVFSIiIgAAAAeC3ydAAAAAXRSTlMAQObYZgAAAR1JREFU\n",
       "KM9jYCAZsDzAJmoCJt/+v3v37AYQqxarXqYCMPWLgYGzG8RYiN2KBSCC/RsDAysQM/A9wK7KDETw\n",
       "fWFgYP4EZHAIYFclASI4PzAw8H4FMrxweIozAEjwA+2VnwBkqCEktr3d+ghuP5sCkKhPYGA/BOIt\n",
       "hitiTGA+zHEAxmMFOf/9tTQ1cEC0wFWxMfB9YC2AB2MDkJgPc/QXhFkMvBMQ1rMDHc7whwFDFdC/\n",
       "D1BVsX+C8VqRVO0vYBBAtpEPbsRkuBrmDe8Z+OCqmIGu5/wI4yXBVcUbzGDYx4AUEkLz/8Kc4AP0\n",
       "9EwgmMgg+UwszwDGYeByQA5jjg14YgjhmgTsqvJQudhTDuMCVP5erKp40RzCjTWBPWdgAADdXkSh\n",
       "Sa6TGQAAAABJRU5ErkJggg==\n",
       "\" style=\"display:inline;vertical-align:middle;\" /></a> : <a class=\"ProveItLink\" href=\"../__pv_it/d11a0af5f98eccf4eb580431a99afeb32de368350/expr.ipynb\"><img src=\"data:image/png;base64,iVBORw0KGgoAAAANSUhEUgAAAIcAAAAVBAMAAACeZ+BxAAAAMFBMVEX////c3NwiIiJERESqqqqY\n",
       "mJh2dnZmZmYQEBDu7u4yMjJUVFTMzMyIiIi6uroAAAAs73DqAAAAAXRSTlMAQObYZgAAATZJREFU\n",
       "OMtjYKAK4LuAX571ARGGnGZgVwIDA1RxuGgNEYasBBE8BdikIKJcYDbYPTw4zOC9QMgQ1gQQuQdE\n",
       "3MVhCMcEQoZwNoDIwyBCE4chrxgIGcJgAvaUAAMDSwEOQ8oIG5IOIkAGgAyCAcbcjb61MM5SFEPY\n",
       "V4HBBhRDvBigXjmMZME0hqCAJhinj7BLXjBAA3UfklwCw30GHxjnH2FDzoNJJgbOBUhyExg2IzhE\n",
       "G8LuwBaAItuLYLaghglK4kXxDuMCJhQzGP8wcMLYpoRdEgXh7YlFlgvk/cBwE8ZJJzKKgXGDnNRY\n",
       "vjI3MMKz7iOI8gSshkBE10F4XBAjnY2BYAKnbWbaVRiHgUOAUA6FJHugkRNwFxcJhAxhu0BkUYAP\n",
       "zCKiPJEmpGAjEYYwEnAt7wGCRgAACqdJ66W4pCoAAAAASUVORK5CYII=\n",
       "\" style=\"display:inline;vertical-align:middle;\" /></a>, <a class=\"ProveItLink\" href=\"../../../__pv_it/530be409e3083890784cf1d7b28c9e67e90af9360/expr.ipynb\"><img src=\"data:image/png;base64,iVBORw0KGgoAAAANSUhEUgAAAAsAAAAJBAMAAAAWSsseAAAAKlBMVEX///9ERETMzMwQEBAiIiKY\n",
       "mJju7u5mZmaqqqpUVFSIiIh2dnbc3NwAAAA/vyDhAAAAAXRSTlMAQObYZgAAAENJREFUCNdjYDi9\n",
       "8sTyBQxsG1hdmR0YuBm4LnAoMLAxcAowgADzAjB1VoEhgYH1wFoGrgSG3gBhhlMMDImrs3cFMAAA\n",
       "t0YN+iTRa+sAAAAASUVORK5CYII=\n",
       "\" style=\"display:inline;vertical-align:middle;\" /></a> : <a class=\"ProveItLink\" href=\"../__pv_it/1a0bc146f0378d9884089136710b6fb67bb49da80/expr.ipynb\"><img src=\"data:image/png;base64,iVBORw0KGgoAAAANSUhEUgAAADoAAAAOBAMAAACMfhKgAAAAJFBMVEX///8QEBCIiIjc3NxUVFQy\n",
       "MjJ2dnbMzMxEREQiIiJmZmYAAABUTmY3AAAAAXRSTlMAQObYZgAAAC9JREFUGNNjWDkTBGYwYAAj\n",
       "KF3FgA1UDRLZpaEgEEJ3e1GDjRoml2FKAS2ZCLQEAMKUG23qUbOcAAAAAElFTkSuQmCC\n",
       "\" style=\"display:inline;vertical-align:middle;\" /></a></span></td></tr><tr><td>3</td><td>theorem</td><td></td><td><span style=\"font-size:20px;\"> <a class=\"ProveItLink\" href=\"../../equality/_proofs_/substituteFalsehood.ipynb\" style=\"text-decoration: none\">&#x22A2;&nbsp;</a><a class=\"ProveItLink\" href=\"../../equality/__pv_it/1d1deba862c90ad7a095be6803bec640d55fe7610/expr.ipynb\"><img src=\"data:image/png;base64,iVBORw0KGgoAAAANSUhEUgAAAK4AAAAXBAMAAABg52lgAAAAMFBMVEX///8QEBC6urrMzMxUVFRm\n",
       "ZmZERETc3NwyMjKqqqp2dnaIiIiYmJgiIiLu7u4AAAAU9Wx4AAAAAXRSTlMAQObYZgAAAopJREFU\n",
       "OMu1lE1oE0EUx//ZTbLdzXaTW/EiEbz1soLgMaENVTwV/Dioh/SyQTwkIFi0iIuXXkS9FIQeXAS/\n",
       "Wiw5xEProREvogd7UAQpkotBvBjU+lHqx5vZ3dnNZovi6kAys/+Z+c2b99484D+1zj9kjXq9XgTW\n",
       "2OBpElrrZ6XyvEEDuexLh4C7rL+cyMyvQHaE+iFx9yHgDHVKNQlW3gRU+uGBkHSHH5K5moSb+0Cg\n",
       "DRrsFJJRgH57evp8Ijdke0D6GyDZgXYS+GxZr36z87TXq7GzeeK9J09mHPo41zp7vwncBMaBGm2p\n",
       "HzlcCy0uuiCuKo7vSSeOW3Igv2DBapMDHH09RSl2DdgNg13gIXAvtNiLJFez/Lbs70Ycd/XgwjGW\n",
       "ZimyRUOup5rALmAYOToIFeBZZ4DL1XnBfRvHrXvb8sQ1kOY7SxTO9jCbWAcODNrL1Zrgps0Y7ncE\n",
       "XLK66XENey/LjI/QX9I9WqPjIa6rFgQ31xS0xbGWe4i84Skpnq0XTFYayA+ojdGftLlwgrqldHVH\n",
       "iMtV2RZcSbxUrTPhcnj6uvlG7tQbq8gR9zF9z7ESobnJV2RBDbhcdWGcy4+4ZVmWLeGSj/vhHzUJ\n",
       "XG9PYQY8z1yPZCc9JzXCXK6qEa43/cUdval/8pwjkX3dlXeLzLKL7DGzsOW9p7wHZojLVaka+KEq\n",
       "uHJBjgZwJPyO/eQmO5VZuXcHTojLVBhrgqs7yqw7XdJsLcp9IkaaH1/tCpVMecs4NbfSCbhcBV4D\n",
       "R60py3KQKcpbfNrsLh9finKDOhnJc30gf3lbRqiu6tuXEUVky/7+iX3x3K4YzfetGWgzfuWMPJ92\n",
       "PFcVerlvzd+0cvjjkXgMf7z/F2K8m8Fs520bAAAAAElFTkSuQmCC\n",
       "\" style=\"display:inline;vertical-align:middle;\" /></a></span></td></tr>\n",
       "<tr><td>&nbsp;</td><td colspan=4 style-\"text-align:left\"><a class=\"ProveItLink\" href=\"../../equality/_proofs_/substituteFalsehood.ipynb\">proveit.logic.equality.substituteFalsehood</a></td></tr><tr><td>4</td><td>specialization</td><td>6, 7, 8</td><td><span style=\"font-size:20px;\"> <a class=\"ProveItLink\" href=\"../__pv_it/230fb1a0401d51a08ea36703a1fba71ab08effa90/proof.ipynb\" style=\"text-decoration: none\">&#x22A2;&nbsp;</a><a class=\"ProveItLink\" href=\"../__pv_it/782f5f4410ff344eebb0d6e4c59da1b4a496aed00/expr.ipynb\"><img src=\"data:image/png;base64,iVBORw0KGgoAAAANSUhEUgAAAHAAAAAVBAMAAABs93eRAAAAMFBMVEX////c3NwiIiJERESqqqqY\n",
       "mJh2dnZmZmYQEBDu7u4yMjJUVFTMzMyIiIi6uroAAAAs73DqAAAAAXRSTlMAQObYZgAAAQJJREFU\n",
       "OMtjYCAb8F3AL8/6AIfEaQZ2JTAwQBWHi9ZgaJEFkytBBE8BNjMholxgNtheHoj4cRDBe4GQRtYE\n",
       "ELkHRNxF0sgxgZBGzgYQeRhEaCJpfMVASCODCdjBAgwMLAVIGssIa0wHESBNIM1wjUtRNLKvAoMN\n",
       "KBq9GKDOPMyApLGPsI0vGKABsw9Z4z/CGs+DSSYGzgVkaWR3YAtA1tiC6keURITiVMYFTAzIGk0J\n",
       "2xgF4e2JRdGYTmR0AMNUE0XjI4iSBKwaIaLrIDwuiDFFSkoaSkrKDBwChPIdJMkBjZmAmt0SCGlk\n",
       "w5FhVxLSOAuHuDQhjRtxiDMSKDp4D2AVBgDJakMB1AuzPAAAAABJRU5ErkJggg==\n",
       "\" style=\"display:inline;vertical-align:middle;\" /></a></span></td></tr>\n",
       "<tr><td>&nbsp;</td><td colspan=4 style=\"text-align:left\"><span style=\"font-size:20px;\"><a class=\"ProveItLink\" href=\"../__pv_it/fd4b0a418766985890fb332a124e981d1643d8330/expr.ipynb\"><img src=\"data:image/png;base64,iVBORw0KGgoAAAANSUhEUgAAAEkAAAAVBAMAAAD4Ed5jAAAAMFBMVEX////u7u5mZmaYmJi6urqq\n",
       "qqp2dnbMzMwQEBBEREQyMjLc3NwiIiJUVFSIiIgAAAAeC3ydAAAAAXRSTlMAQObYZgAAAR1JREFU\n",
       "KM9jYCAZsDzAJmoCJt/+v3v37AYQqxarXqYCMPWLgYGzG8RYiN2KBSCC/RsDAysQM/A9wK7KDETw\n",
       "fWFgYP4EZHAIYFclASI4PzAw8H4FMrxweIozAEjwA+2VnwBkqCEktr3d+ghuP5sCkKhPYGA/BOIt\n",
       "hitiTGA+zHEAxmMFOf/9tTQ1cEC0wFWxMfB9YC2AB2MDkJgPc/QXhFkMvBMQ1rMDHc7whwFDFdC/\n",
       "D1BVsX+C8VqRVO0vYBBAtpEPbsRkuBrmDe8Z+OCqmIGu5/wI4yXBVcUbzGDYx4AUEkLz/8Kc4AP0\n",
       "9EwgmMgg+UwszwDGYeByQA5jjg14YgjhmgTsqvJQudhTDuMCVP5erKp40RzCjTWBPWdgAADdXkSh\n",
       "Sa6TGQAAAABJRU5ErkJggg==\n",
       "\" style=\"display:inline;vertical-align:middle;\" /></a> : <a class=\"ProveItLink\" href=\"../__pv_it/d113ec9cccd6426ec83c48ebbe647aa1eb8da2500/expr.ipynb\"><img src=\"data:image/png;base64,iVBORw0KGgoAAAANSUhEUgAAAE0AAAAPBAMAAABTt1/kAAAAMFBMVEX///8yMjK6urrMzMwQEBAi\n",
       "IiKYmJhmZmZUVFSIiIh2dnbc3Nzu7u5ERESqqqoAAACmCtjVAAAAAXRSTlMAQObYZgAAAK9JREFU\n",
       "KM9jYCAIuCfglmMCkwZgkrkAtzoOkBLOCQTVMV8AEqwHCKpjkAbi5wyY6rhXdr+sROI/h6pFV3eK\n",
       "ITXBFYkPtBNsN7q6BQzzGR4j8YF+4FDAou4AQy+qAwMYDjIwYPOHJ6q6OoZlWNVxf2bgQeZvBJqI\n",
       "RV025weGOSghbTYBizq+b7wOqPHIfPUAirq3d4HgAM/NNaumwTgQaXEwyR4aGuoaGnoBd4zYoPAA\n",
       "3tcv4gERPfEAAAAASUVORK5CYII=\n",
       "\" style=\"display:inline;vertical-align:middle;\" /></a>, <a class=\"ProveItLink\" href=\"../../../__pv_it/530be409e3083890784cf1d7b28c9e67e90af9360/expr.ipynb\"><img src=\"data:image/png;base64,iVBORw0KGgoAAAANSUhEUgAAAAsAAAAJBAMAAAAWSsseAAAAKlBMVEX///9ERETMzMwQEBAiIiKY\n",
       "mJju7u5mZmaqqqpUVFSIiIh2dnbc3NwAAAA/vyDhAAAAAXRSTlMAQObYZgAAAENJREFUCNdjYDi9\n",
       "8sTyBQxsG1hdmR0YuBm4LnAoMLAxcAowgADzAjB1VoEhgYH1wFoGrgSG3gBhhlMMDImrs3cFMAAA\n",
       "t0YN+iTRa+sAAAAASUVORK5CYII=\n",
       "\" style=\"display:inline;vertical-align:middle;\" /></a> : <a class=\"ProveItLink\" href=\"../__pv_it/b61faf68579dfd168a6d68fc65de147af91ada740/expr.ipynb\"><img src=\"data:image/png;base64,iVBORw0KGgoAAAANSUhEUgAAADoAAAAOBAMAAACMfhKgAAAAG1BMVEX///9UVFQyMjJ2dnbMzMxE\n",
       "REQiIiJmZmYAAABH86hhAAAAAXRSTlMAQObYZgAAACxJREFUGNNjKEsDgVQGVIAk6s6ADbij0QMl\n",
       "W6QEAop0txc12KhhsjNWWZAoAMYCEPeA4IdqAAAAAElFTkSuQmCC\n",
       "\" style=\"display:inline;vertical-align:middle;\" /></a></span></td></tr><tr><td>5</td><td>specialization</td><td>9, 10</td><td><span style=\"font-size:20px;\"> <a class=\"ProveItLink\" href=\"../__pv_it/73a36aec8a6ba54bb94afc99048e4a46971ba2c90/proof.ipynb\" style=\"text-decoration: none\">&#x22A2;&nbsp;</a><a class=\"ProveItLink\" href=\"../__pv_it/9d336fcfb6d0060e5c156a1aea1443071ecf534d0/expr.ipynb\"><img src=\"data:image/png;base64,iVBORw0KGgoAAAANSUhEUgAAAFoAAAAVBAMAAAA0iOSIAAAAMFBMVEX////c3NxERESqqqqYmJgQ\n",
       "EBDu7u4yMjKIiIi6urpUVFTMzMx2dnYiIiJmZmYAAABjE816AAAAAXRSTlMAQObYZgAAALJJREFU\n",
       "KM9jYCATcDbgl2eZgMzbxcB3FwwUMBQygg16jSxUBiK4H2AzFiLKjiTC0UBINcsBhAhrAiHVbAEI\n",
       "kekMhFQzKCNE3hBWfQ4hUoKimq8cDBagqDZneAsKsztAZiRhs6fCgpqB4Sdh1fvJVR2M6m6UaMV0\n",
       "iQphs92hPHjwEBuCcyHiBzCUghwVC3ZUJVLMCxBK0sgxz3KAkGqeBvQUiw+kI3OkCKleiJlBcAOO\n",
       "DQwA20lH5dl4e4UAAAAASUVORK5CYII=\n",
       "\" style=\"display:inline;vertical-align:middle;\" /></a></span></td></tr>\n",
       "<tr><td>&nbsp;</td><td colspan=4 style=\"text-align:left\"><span style=\"font-size:20px;\"><a class=\"ProveItLink\" href=\"../../../__pv_it/530be409e3083890784cf1d7b28c9e67e90af9360/expr.ipynb\"><img src=\"data:image/png;base64,iVBORw0KGgoAAAANSUhEUgAAAAsAAAAJBAMAAAAWSsseAAAAKlBMVEX///9ERETMzMwQEBAiIiKY\n",
       "mJju7u5mZmaqqqpUVFSIiIh2dnbc3NwAAAA/vyDhAAAAAXRSTlMAQObYZgAAAENJREFUCNdjYDi9\n",
       "8sTyBQxsG1hdmR0YuBm4LnAoMLAxcAowgADzAjB1VoEhgYH1wFoGrgSG3gBhhlMMDImrs3cFMAAA\n",
       "t0YN+iTRa+sAAAAASUVORK5CYII=\n",
       "\" style=\"display:inline;vertical-align:middle;\" /></a> : <a class=\"ProveItLink\" href=\"../__pv_it/68a87cc3370287d726c7086ace789e680e4461c30/expr.ipynb\"><img src=\"data:image/png;base64,iVBORw0KGgoAAAANSUhEUgAAAA4AAAAOBAMAAADtZjDiAAAAFVBMVEX///92dnbMzMxEREQiIiJm\n",
       "ZmYAAABAT6GXAAAAAXRSTlMAQObYZgAAABhJREFUCNdjCHEBAWcGIFBlgABa0YpADAAxegPJJk4d\n",
       "XAAAAABJRU5ErkJggg==\n",
       "\" style=\"display:inline;vertical-align:middle;\" /></a>, <a class=\"ProveItLink\" href=\"../../../__pv_it/f8b9edf8e16034727f0aad55bb83e392c3db40d40/expr.ipynb\"><img src=\"data:image/png;base64,iVBORw0KGgoAAAANSUhEUgAAAAsAAAANBAMAAACN24kIAAAAMFBMVEX///+YmJhUVFQyMjIQEBBE\n",
       "REQiIiKqqqrMzMyIiIi6urrc3NxmZmZ2dnbu7u4AAADXeCicAAAAAXRSTlMAQObYZgAAAFhJREFU\n",
       "CNdj4LtzgWH/AwZerg8M8xkY2nkSGEIZGB6wTGD4ycDAUP+A4weQOszA6QCkbBhYFYDUIYb1AkDq\n",
       "6czzGxhA4BoQMyXwuQMptgusF4AU+8xTQBIAUqMVoSp/SLMAAAAASUVORK5CYII=\n",
       "\" style=\"display:inline;vertical-align:middle;\" /></a> : <a class=\"ProveItLink\" href=\"../__pv_it/8f1f7fac882de28c72b62ab80a1700b6d8fd066b0/expr.ipynb\"><img src=\"data:image/png;base64,iVBORw0KGgoAAAANSUhEUgAAAA4AAAAOBAMAAADtZjDiAAAAG1BMVEX///9EREQQEBAiIiJmZmbM\n",
       "zMyIiIjc3NwAAACryk5kAAAAAXRSTlMAQObYZgAAABlJREFUCNdjYGBgKGOAgBBa0s7GxkbGxoYA\n",
       "FMUF2aBfHgoAAAAASUVORK5CYII=\n",
       "\" style=\"display:inline;vertical-align:middle;\" /></a></span></td></tr><tr><td>6</td><td>theorem</td><td></td><td><span style=\"font-size:20px;\"> <a class=\"ProveItLink\" href=\"../../equality/_proofs_/substituteTruth.ipynb\" style=\"text-decoration: none\">&#x22A2;&nbsp;</a><a class=\"ProveItLink\" href=\"../../equality/__pv_it/9bdc5b840ab58180416de24b39e9a69a9440cc6d0/expr.ipynb\"><img src=\"data:image/png;base64,iVBORw0KGgoAAAANSUhEUgAAAKIAAAAXBAMAAAB624nuAAAAMFBMVEX///8QEBC6urrMzMxUVFRm\n",
       "ZmZERETc3NwyMjKqqqp2dnaIiIiYmJgiIiLu7u4AAAAU9Wx4AAAAAXRSTlMAQObYZgAAAnVJREFU\n",
       "OMutlE9o03AUx781Wf8kaVY8KLtVGCKIWEFQvGy4ouJJ1F2Gh3qwxT/QgMOhIhYvXkS9TAQP5jKs\n",
       "FUcP9eA8LOJFFLEHRZAhvTjEy4padUOn75fkl77GgRr2IHkvLy+f3+/9+QVYdWmtCmVN3dNGFmgK\n",
       "43k0TuNXPv/KEtZ26ToE3BX6asStfQfi63sASeAMqUQhGlBZAlJ0Qa9Ll2EjSYXsux6NqH8iRIeM\n",
       "WNANMwPjzsTEhYhJx9uAukjGpq7vOPC1WHz7ly9P+zqcSn8FWBAVG6PrXOPsA0p+ChgBSlSO8ujh\n",
       "EpsGT93ojO6xkLB9764QcciG8loYVyhd25iL0eDcBAZh0lJ4DNxn+fh1zkBr0kNfsbiueAJatpc4\n",
       "u7825g7PWkCD3k7lgA1AGrpDzjzwshUmqsMwlnFLmCI5d2kmZfkBdciE6k7MEDXMSYsXc8C+P/aY\n",
       "dqBWUJJEUSEuP9ElUsPrPtGsiIE3P8N4Q3tvbB5hxIUcXljIBMRH4iZjoHQkcUDcLubEkaasUdot\n",
       "WrFUO0JqWi0MMOLW2pQDpRIQB8Fi3HH05BSV3JqFTsSn9DgpjrbmlSibdHjWVbfvwwFxJ49BfFkS\n",
       "aWRuO0dx3jO9/OMH/BGzOPGYuKVCRBnzvvxFHr4twPzMx3tipUtiRERj+v3p3YYcIy66eywExI08\n",
       "hknMYqdQDiv5EpeVdhV2l6h8c4OaAfEZj2FiBA5Nblu7Rj825Yd5cnKm1SVWO+5m3gXEgzyGS/A3\n",
       "+xBaKjyPnjwMrAqP4TIujb29/h0rE+elkarzGC4JP1k9VGFnZWJK+tWemP8Ttefpia+n/+XT39vX\n",
       "l85p8q+GAAAAAElFTkSuQmCC\n",
       "\" style=\"display:inline;vertical-align:middle;\" /></a></span></td></tr>\n",
       "<tr><td>&nbsp;</td><td colspan=4 style-\"text-align:left\"><a class=\"ProveItLink\" href=\"../../equality/_proofs_/substituteTruth.ipynb\">proveit.logic.equality.substituteTruth</a></td></tr><tr><td>7</td><td>theorem</td><td></td><td><span style=\"font-size:20px;\"> <a class=\"ProveItLink\" href=\"../disjunction/_proofs_/trueOrFalse.ipynb\" style=\"text-decoration: none\">&#x22A2;&nbsp;</a><a class=\"ProveItLink\" href=\"../disjunction/__pv_it/7ee56ac56fe7319585c441261a5a8301695cb6a90/expr.ipynb\"><img src=\"data:image/png;base64,iVBORw0KGgoAAAANSUhEUgAAADUAAAAPBAMAAAC2KZqIAAAAMFBMVEX///8QEBCYmJiqqqrc3Nwy\n",
       "MjLu7u6IiIhUVFS6urp2dnbMzMxEREQiIiJmZmYAAADfOGkeAAAAAXRSTlMAQObYZgAAAHhJREFU\n",
       "GNNjeHsXBO4woAKWAihjH4TiBJMbwCT3A1Q5DpAwewFWOe4DQII3AascQwgQ2zFgl7ODymOTA5oH\n",
       "NhebHNAdHBNwyDFcYEhlwCX3mGERTjlXoE5cchybCnDKcZ9NQJfbBQ/iODDJBwx82bt3D6AG/zYU\n",
       "HgBsMC5BQDKFNgAAAABJRU5ErkJggg==\n",
       "\" style=\"display:inline;vertical-align:middle;\" /></a></span></td></tr>\n",
       "<tr><td>&nbsp;</td><td colspan=4 style-\"text-align:left\"><a class=\"ProveItLink\" href=\"../disjunction/_proofs_/trueOrFalse.ipynb\">proveit.logic.boolean.disjunction.trueOrFalse</a></td></tr><tr><td>8</td><td>theorem</td><td></td><td><span style=\"font-size:20px;\"> <a class=\"ProveItLink\" href=\"trueEqTrue.ipynb\" style=\"text-decoration: none\">&#x22A2;&nbsp;</a><a class=\"ProveItLink\" href=\"../__pv_it/b61faf68579dfd168a6d68fc65de147af91ada740/expr.ipynb\"><img src=\"data:image/png;base64,iVBORw0KGgoAAAANSUhEUgAAADoAAAAOBAMAAACMfhKgAAAAG1BMVEX///9UVFQyMjJ2dnbMzMxE\n",
       "REQiIiJmZmYAAABH86hhAAAAAXRSTlMAQObYZgAAACxJREFUGNNjKEsDgVQGVIAk6s6ADbij0QMl\n",
       "W6QEAop0txc12KhhsjNWWZAoAMYCEPeA4IdqAAAAAElFTkSuQmCC\n",
       "\" style=\"display:inline;vertical-align:middle;\" /></a></span></td></tr>\n",
       "<tr><td>&nbsp;</td><td colspan=4 style-\"text-align:left\"><a class=\"ProveItLink\" href=\"trueEqTrue.ipynb\">proveit.logic.boolean.trueEqTrue</a></td></tr><tr><td>9</td><td>theorem</td><td></td><td><span style=\"font-size:20px;\"> <a class=\"ProveItLink\" href=\"../../equality/_proofs_/unfoldNotEquals.ipynb\" style=\"text-decoration: none\">&#x22A2;&nbsp;</a><a class=\"ProveItLink\" href=\"../../equality/__pv_it/38779c63c7ca10709484d9771bf5465a3e774ee90/expr.ipynb\"><img src=\"data:image/png;base64,iVBORw0KGgoAAAANSUhEUgAAAL8AAAAXCAMAAABte263AAAAOVBMVEX///8oKCgUFBQJCQkQEBC6\n",
       "urrMzMxUVFRmZmZERETc3NwyMjKqqqp2dnaIiIiYmJgiIiLu7u4AAACP9cC6AAAAAXRSTlMAQObY\n",
       "ZgAAAmJJREFUWMPVV4lu5CAMZXfDffP/H7uYAIEZSEg7kVpLlRuM4YGfbQahXy7+8R2wuWs4F4tb\n",
       "7Y5x8wh8Qu8aroSRRmtVhuUzoZgu+/X9ZKMFzx/1n8+KMXcNCwzSjS7XwNQj+Dd/17CQs1ujrRZJ\n",
       "3DPJK+8aVoSrRgcO4vQj+Jm+MAhtqFCGXbDJ6+QgQoqaZvto0jSlMxcLl3m2wdhf2lkO2owrMsBZ\n",
       "tNXwM9lILVEa4QBJE9KXysFLGsMkvxJOvlDUXlm+n5m5Kroz6AxKkfMirOISgGCHgHMC7BoMxn4P\n",
       "v5gU84AnVT8bgA70uvLFaRswLOw0IwE1GrA7/z38M/pd4U+hWKmkCphPAhngj9wpq8ZkwoaS0t95\n",
       "X+da/N1MhPXYA21qgv8wiASq+jRUc+7YkQHBTcebqrmgmY0egpmX9gYFgcg2vP86k6Y8+xf/zMAD\n",
       "cTvBnw1W7DlpruIvodTw7GxlpxVztcAcBUN4HIcNH+LvZpbsefeola45QGtQwSIezysuKcQidBxs\n",
       "v2rRDQNDQ2QaWUHNjP/HTM9nHgjP2uJu8Nxor/VC9YgzDStbStxrW6MHwSdt8dvIBH+eySNz/v6R\n",
       "iT/vHvFr1le2hYbzItoN3g8tpIC0TDVZSFg9IsFhWH+OmX3tfPU43lrTR9iaUAdwVakdvW5ipFgM\n",
       "KOCDiCpquBziP2bC8JF7rx4fez9D2+P5xKXXnvbciF+IFzKP6786LvLN46SzzQ3DTSL7S8egotfD\n",
       "hi3SeftXIj/9NYEGHgnnrLaIr/0CMKTXs+uHM+vr/mtVd0vPPGM/I/TnQfoP0pMahBS79IEAAAAA\n",
       "SUVORK5CYII=\n",
       "\" style=\"display:inline;vertical-align:middle;\" /></a></span></td></tr>\n",
       "<tr><td>&nbsp;</td><td colspan=4 style-\"text-align:left\"><a class=\"ProveItLink\" href=\"../../equality/_proofs_/unfoldNotEquals.ipynb\">proveit.logic.equality.unfoldNotEquals</a></td></tr><tr><td>10</td><td>theorem</td><td></td><td><span style=\"font-size:20px;\"> <a class=\"ProveItLink\" href=\"trueNotFalse.ipynb\" style=\"text-decoration: none\">&#x22A2;&nbsp;</a><a class=\"ProveItLink\" href=\"../__pv_it/1e6afdac209ee0bf3ba666f4e9f1a57764e8a0b60/expr.ipynb\"><img src=\"data:image/png;base64,iVBORw0KGgoAAAANSUhEUgAAADoAAAAUCAMAAADrw95cAAAAOVBMVEX///8QEBCIiIgLCwsYGBgN\n",
       "DQ0oKCju7u6qqqq6urpUVFQyMjLc3Nx2dnbMzMxEREQiIiJmZmYAAABFgl9CAAAAAXRSTlMAQObY\n",
       "ZgAAAH5JREFUOMvFk90KgCAMRtd//uv7v2wkBeU2XLvpuxCcHg8DB9BL8NxJyY8kfO4dqoyvbSzc\n",
       "09a0leYui2KpGMVSKRqJ7oVoip/R4mrW5VytxkpJZaixoEWdV6D1j80T+cckVloqQelOMRok0mtU\n",
       "Bm5U7uwFtMmblvxFCqZ74wArxAe2MytVagAAAABJRU5ErkJggg==\n",
       "\" style=\"display:inline;vertical-align:middle;\" /></a></span></td></tr>\n",
       "<tr><td>&nbsp;</td><td colspan=4 style-\"text-align:left\"><a class=\"ProveItLink\" href=\"trueNotFalse.ipynb\">proveit.logic.boolean.trueNotFalse</a></td></tr></table>"
      ],
      "text/plain": [
       "\tstep type\trequirements\tstatement\n",
       "0\tspecialization\t1, 2\t|- TRUE in BOOLEANS\n",
       "\tA : TRUE\n",
       "1\ttheorem\t\t|- forall_{A | (A = TRUE) or (A = FALSE)} (A in BOOLEANS)\n",
       "\tproveit.logic.boolean.foldInBool\n",
       "2\tspecialization\t3, 4, 5\t|- (TRUE = TRUE) or (TRUE = FALSE)\n",
       "\tP(_x_) : (TRUE = TRUE) or _x_, x : TRUE = FALSE\n",
       "3\ttheorem\t\t|- forall_{P, x | P(FALSE) , [not](x)} P(x)\n",
       "\tproveit.logic.equality.substituteFalsehood\n",
       "4\tspecialization\t6, 7, 8\t|- (TRUE = TRUE) or FALSE\n",
       "\tP(_x_) : _x_ or FALSE, x : TRUE = TRUE\n",
       "5\tspecialization\t9, 10\t|- [not](TRUE = FALSE)\n",
       "\tx : TRUE, y : FALSE\n",
       "6\ttheorem\t\t|- forall_{P, x | P(TRUE) , x} P(x)\n",
       "\tproveit.logic.equality.substituteTruth\n",
       "7\ttheorem\t\t|- TRUE or FALSE\n",
       "\tproveit.logic.boolean.disjunction.trueOrFalse\n",
       "8\ttheorem\t\t|- TRUE = TRUE\n",
       "\tproveit.logic.boolean.trueEqTrue\n",
       "9\ttheorem\t\t|- forall_{x, y | x != y} [not](x = y)\n",
       "\tproveit.logic.equality.unfoldNotEquals\n",
       "10\ttheorem\t\t|- TRUE != FALSE\n",
       "\tproveit.logic.boolean.trueNotFalse"
      ]
     },
     "execution_count": 10,
     "metadata": {},
     "output_type": "execute_result"
    }
   ],
   "source": [
    "%qed"
   ]
  },
  {
   "cell_type": "code",
   "execution_count": null,
   "metadata": {},
   "outputs": [],
   "source": []
  }
 ],
 "metadata": {
  "kernelspec": {
   "display_name": "Python 3",
   "language": "python",
   "name": "python3"
  }
 },
 "nbformat": 4,
 "nbformat_minor": 0
}
