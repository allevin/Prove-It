{
 "cells": [
  {
   "cell_type": "markdown",
   "metadata": {},
   "source": [
    "Proof of <a class=\"ProveItLink\" href=\"../../../_context_.ipynb\">proveit</a>.<a class=\"ProveItLink\" href=\"../../_context_.ipynb\">logic</a>.<a class=\"ProveItLink\" href=\"../_context_.ipynb\">boolean</a>.<a class=\"ProveItLink\" href=\"../_theorems_.ipynb#unfoldForallOverBool\">unfoldForallOverBool</a> theorem\n",
    "========"
   ]
  },
  {
   "cell_type": "code",
   "execution_count": 1,
   "metadata": {},
   "outputs": [],
   "source": [
    "import proveit\n",
    "context = proveit.Context('..') # the theorem's context is in the parent directory"
   ]
  },
  {
   "cell_type": "code",
   "execution_count": 2,
   "metadata": {},
   "outputs": [
    {
     "name": "stdout",
     "output_type": "stream",
     "text": [
      "Beginning proof of unfoldForallOverBool\n",
      "Recorded 'presuming' information\n",
      "Presuming previous theorems (applied transitively).\n"
     ]
    },
    {
     "data": {
      "text/html": [
       "<strong id=\"unfoldForallOverBool\">unfoldForallOverBool:</strong> <a class=\"ProveItLink\" href=\"../__pv_it/4b03b75f86c55fabb87852f3a50b3ba2b445243f0/expr.ipynb\"><img src=\"data:image/png;base64,iVBORw0KGgoAAAANSUhEUgAAAVUAAAAVBAMAAAAEDWDFAAAAMFBMVEX///8QEBC6urrMzMxUVFRm\n",
       "ZmZERETc3NwyMjKqqqp2dnaIiIiYmJgiIiLu7u4AAAAU9Wx4AAAAAXRSTlMAQObYZgAABERJREFU\n",
       "SMfVV01oXFUU/mZe5v8noZviojqVLoQqZKHdlDKhHUhRJAM1Lkqr0cUEUZhZlFYpbR8tpRAkzabQ\n",
       "XQchFiPKgO5CySgIsS6s1VaQpn2KlUJFS0xCDdX2nvt/30/otgfOm/fe+c53v/veeefeAZ4gC2Lu\n",
       "pXu4dCp4rHQGlVauAYtXN4REE5Jsuz772vIrdOM7F/ki8FFsQFlpbKXx6qiEku1ivg+UFjWCfPmw\n",
       "0fipI64yS9wmeEI8qzdCx6N0yAwb/4RuTLtJ0zRoXEDboA+81TGAs8zzCVo55D6Q3ayvvCZkAlku\n",
       "CLPm+Z2X+E3f+GECT7jz69GgMQFj9S5woSug9DpvMfJy19EaWGzw1oHCurqSWimBa26GWDEPo/Wy\n",
       "cZpCZsYRkgpo0JiAsQVWa983BZTZB2+yp1EdcrROW2woLTNpq+pKaqUEsh03Q6x42tL6q/HyxSNH\n",
       "jrlCnuMvMyZgrM18bEZAmfVoFLzjaN1msSF7Dxj4V11JrZRAtns+xJr2La3ZGeNrrdYvrpD9ovCi\n",
       "AWOs/KprEsq4gwt99jPraC32DBuvxL8ndILUOsuPVb8SYs10La3FpvE9wCQrpvb4a5My5UOhVQSY\n",
       "nYlIpfLb1ZRQ4DfUSdh5qVV+6KuGjSrRu6avlNbzQkxflppmzfctrQXf+DY2MXbrK+AzqWST0CoD\n",
       "KC/Lfjg1dbovv5eVudmLCgrUcIKG2Or2gcJJzYaFl+f2d0yC1LqVHyvI+S5rqmZpTQ8Zr6BEChqs\n",
       "rOWnuyy0ygBuP2CHu+MH0OvefVYgsv/DQOE1GmP0fuuhnnVnk4a0AztBaa1D9vA9LuugrdW7Z7zU\n",
       "rxDRDWAvHK0ygM/Zyyu9ffwvprX4pyS7Yg+dZk/Cj2r1pgIN+Q/JWm+qFUWzJmqt+oSs/oPyzxL6\n",
       "lNAqAvB6LeAb/rV3t78hG2HTgoJVW2XIqgFZr9cDDfFWYSc4NVBg5/mOw5qaSagBTO6mO+tzBxTf\n",
       "e3IB4gEM4KBYONAb39I3jVBDc4w5zyaNRee5FkYMpLRsc2uti3wl6Ai9FmvW/rbKvnGco0df9M0o\n",
       "s1IrD+BbLMDriuea2SkbYWBB76hSc3vW+xZEV6JsU3bP2gG1K9GsxWZCz0KK+k22aUZ5QWrlgeq1\n",
       "8XbgXW+13qV6LfKG+PrDVwz08DNnUG7fZ/knHa2TBnK7vdKzuCHnDt4o+Mubd1jTTPrBpaUfWB2x\n",
       "514zjjJNZ9BaTVMdMSgPZDqoD1dHxHMVWuFClYXW2OEYSDSBGp74PG3bbJ1ba6zaNlgczibkeTaP\n",
       "PkZlDRwNaVXbD7VQxeyzbEg0Id4uW+efWi7Szu4L7wmF/b6G3NgN/FHja0GrH7vhk+10oz1hUkK8\n",
       "5c1Gn9Yj5XF2KDrox6xeE6DKRhO0HtooId5yI/p0oGM8Fsr+w/z4eH+Bcvo9lliBXrq6ISSakGSm\n",
       "1r4w/ggvPWnyW7w74wAAAABJRU5ErkJggg==\n",
       "\" style=\"display:inline;vertical-align:middle;\" /></a><br>(see <a class=\"ProveItLink\" href=\"../__pv_it/4b03b75f86c55fabb87852f3a50b3ba2b445243f0/dependencies.ipynb\">dependencies</a>)<br>"
      ],
      "text/plain": [
       "unfoldForallOverBool: forall_{P} ([forall_{A in BOOLEANS} P(A)] => (P(TRUE) and P(FALSE)))"
      ]
     },
     "execution_count": 2,
     "metadata": {},
     "output_type": "execute_result"
    }
   ],
   "source": [
    "%proving unfoldForallOverBool presuming []"
   ]
  },
  {
   "cell_type": "code",
   "execution_count": null,
   "metadata": {},
   "outputs": [],
   "source": []
  }
 ],
 "metadata": {
  "kernelspec": {
   "display_name": "Python 3",
   "language": "python",
   "name": "python3"
  }
 },
 "nbformat": 4,
 "nbformat_minor": 0
}
