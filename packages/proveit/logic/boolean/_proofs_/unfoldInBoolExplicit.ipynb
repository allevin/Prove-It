{
 "cells": [
  {
   "cell_type": "markdown",
   "metadata": {
    "collapsed": true
   },
   "source": [
    "Proof of <a class=\"ProveItLink\" href=\"../../../_context_.ipynb\">proveit</a>.<a class=\"ProveItLink\" href=\"../../_context_.ipynb\">logic</a>.<a class=\"ProveItLink\" href=\"../_context_.ipynb\">boolean</a>.<a class=\"ProveItLink\" href=\"../_theorems_.ipynb#unfoldInBoolExplicit\">unfoldInBoolExplicit</a> theorem\n",
    "========"
   ]
  },
  {
   "cell_type": "code",
   "execution_count": 1,
   "metadata": {},
   "outputs": [],
   "source": [
    "import proveit\n",
    "from proveit import defaults\n",
    "from proveit.logic.boolean._axioms_ import boolsDef\n",
    "context = proveit.Context('..') # the theorem's context is in the parent directory"
   ]
  },
  {
   "cell_type": "code",
   "execution_count": 2,
   "metadata": {},
   "outputs": [
    {
     "name": "stdout",
     "output_type": "stream",
     "text": [
      "Beginning proof of unfoldInBoolExplicit\n",
      "Recorded 'presuming' information\n",
      "Presuming previous theorems (applied transitively).\n"
     ]
    },
    {
     "data": {
      "text/html": [
       "<strong id=\"unfoldInBoolExplicit\">unfoldInBoolExplicit:</strong> <a class=\"ProveItLink\" href=\"../__pv_it/bd42870e69b1a4d4d0aeb2f95773ef905efb68970/expr.ipynb\"><img src=\"../__pv_it/bd42870e69b1a4d4d0aeb2f95773ef905efb68970/expr.png\" style=\"display:inline;vertical-align:middle;\" /></a><br>(see <a class=\"ProveItLink\" href=\"../__pv_it/bd42870e69b1a4d4d0aeb2f95773ef905efb68970/dependencies.ipynb\">dependencies</a>)<br>"
      ],
      "text/plain": [
       "unfoldInBoolExplicit: forall_{A in BOOLEANS} ((A = TRUE) or (A = FALSE))"
      ]
     },
     "execution_count": 2,
     "metadata": {},
     "output_type": "execute_result"
    }
   ],
   "source": [
    "%proving unfoldInBoolExplicit presuming []"
   ]
  },
  {
   "cell_type": "code",
   "execution_count": 3,
   "metadata": {},
   "outputs": [
    {
     "data": {
      "text/html": [
       "<strong id=\"AinBool\">AinBool:</strong> <a class=\"ProveItLink\" href=\"../__pv_it/7837821d5a6b48e91a78e6fc66f6982c08b02a650/expr.ipynb\"><img src=\"../__pv_it/7837821d5a6b48e91a78e6fc66f6982c08b02a650/expr.png\" style=\"display:inline;vertical-align:middle;\" /></a><br>"
      ],
      "text/plain": [
       "AinBool: A in BOOLEANS"
      ]
     },
     "execution_count": 3,
     "metadata": {},
     "output_type": "execute_result"
    }
   ],
   "source": [
    "AinBool = unfoldInBoolExplicit.conditions[0]"
   ]
  },
  {
   "cell_type": "code",
   "execution_count": 4,
   "metadata": {},
   "outputs": [
    {
     "data": {
      "text/html": [
       "<strong id=\"defaults.assumptions\">defaults.assumptions:</strong> <a class=\"ProveItLink\" href=\"../__pv_it/e3dccca28d4aa81eddfb38c9a8ab6b6bbe722b9e0/expr.ipynb\"><img src=\"../__pv_it/e3dccca28d4aa81eddfb38c9a8ab6b6bbe722b9e0/expr.png\" style=\"display:inline;vertical-align:middle;\" /></a><br>"
      ],
      "text/plain": [
       "defaults.assumptions: (A in BOOLEANS)"
      ]
     },
     "execution_count": 4,
     "metadata": {},
     "output_type": "execute_result"
    }
   ],
   "source": [
    "defaults.assumptions = [AinBool]"
   ]
  },
  {
   "cell_type": "code",
   "execution_count": 5,
   "metadata": {},
   "outputs": [
    {
     "data": {
      "text/html": [
       "<span style=\"font-size:20px;\"> &#x22A2;&nbsp;<a class=\"ProveItLink\" href=\"../__pv_it/aa5390c906b6d4813c3789ada2f606bc3134f1390/expr.ipynb\"><img src=\"../__pv_it/aa5390c906b6d4813c3789ada2f606bc3134f1390/expr.png\" style=\"display:inline;vertical-align:middle;\" /></a></span>"
      ],
      "text/plain": [
       "|= BOOLEANS = {TRUE , FALSE}"
      ]
     },
     "execution_count": 5,
     "metadata": {},
     "output_type": "execute_result"
    }
   ],
   "source": [
    "boolsDef"
   ]
  },
  {
   "cell_type": "code",
   "execution_count": 6,
   "metadata": {},
   "outputs": [
    {
     "data": {
      "text/html": [
       "<strong id=\"AinTFset\">AinTFset:</strong> <span style=\"font-size:20px;\"><a class=\"ProveItLink\" href=\"../__pv_it/a54570eacc2cdfc354a22076eb1ab1c1fc77fd870/expr.ipynb\"><img src=\"../__pv_it/a54570eacc2cdfc354a22076eb1ab1c1fc77fd870/expr.png\" style=\"display:inline;vertical-align:middle;\" /></a> &#x22A2;&nbsp;<a class=\"ProveItLink\" href=\"../__pv_it/8dec59ef3f1f1868f096955eadd8c8ee657c93490/expr.ipynb\"><img src=\"../__pv_it/8dec59ef3f1f1868f096955eadd8c8ee657c93490/expr.png\" style=\"display:inline;vertical-align:middle;\" /></a></span><br>"
      ],
      "text/plain": [
       "AinTFset: {A in BOOLEANS} |= A in {TRUE , FALSE}"
      ]
     },
     "execution_count": 6,
     "metadata": {},
     "output_type": "execute_result"
    }
   ],
   "source": [
    "AinTFset = boolsDef.subRightSideInto(AinBool)"
   ]
  },
  {
   "cell_type": "code",
   "execution_count": 7,
   "metadata": {},
   "outputs": [
    {
     "data": {
      "text/html": [
       "<table><tr><th>&nbsp;</th><th>step type</th><th>requirements</th><th>statement</th></tr>\n",
       "<tr><td>0</td><td>generalizaton</td><td>1</td><td><span style=\"font-size:20px;\"> &#x22A2;&nbsp;<a class=\"ProveItLink\" href=\"../__pv_it/bd42870e69b1a4d4d0aeb2f95773ef905efb68970/expr.ipynb\"><img src=\"../__pv_it/bd42870e69b1a4d4d0aeb2f95773ef905efb68970/expr.png\" style=\"display:inline;vertical-align:middle;\" /></a></span></td></tr>\n",
       "<tr><td>1</td><td>specialization</td><td>2, 3, 4, 5</td><td><span style=\"font-size:20px;\"><a class=\"ProveItLink\" href=\"../__pv_it/a54570eacc2cdfc354a22076eb1ab1c1fc77fd870/expr.ipynb\"><img src=\"../__pv_it/a54570eacc2cdfc354a22076eb1ab1c1fc77fd870/expr.png\" style=\"display:inline;vertical-align:middle;\" /></a> &#x22A2;&nbsp;<a class=\"ProveItLink\" href=\"../__pv_it/1c6a94bc3b8eaae2e256f029ad0abda795dee51e0/expr.ipynb\"><img src=\"../__pv_it/1c6a94bc3b8eaae2e256f029ad0abda795dee51e0/expr.png\" style=\"display:inline;vertical-align:middle;\" /></a></span></td></tr>\n",
       "<tr><td>&nbsp;</td><td colspan=4 style=\"text-align:left\"><span style=\"font-size:20px;\"><a class=\"ProveItLink\" href=\"../../../__pv_it/3e5d49a51123592869b160296a6e123a424e07a70/expr.ipynb\"><img src=\"../../../__pv_it/3e5d49a51123592869b160296a6e123a424e07a70/expr.png\" style=\"display:inline;vertical-align:middle;\" /></a> : <a class=\"ProveItLink\" href=\"../../../number/numeral/__pv_it/77d407a64829263cdc16415becd4c2293f77a4bf0/expr.ipynb\"><img src=\"../../../number/numeral/__pv_it/77d407a64829263cdc16415becd4c2293f77a4bf0/expr.png\" style=\"display:inline;vertical-align:middle;\" /></a>, <a class=\"ProveItLink\" href=\"../../../__pv_it/530be409e3083890784cf1d7b28c9e67e90af9360/expr.ipynb\"><img src=\"../../../__pv_it/530be409e3083890784cf1d7b28c9e67e90af9360/expr.png\" style=\"display:inline;vertical-align:middle;\" /></a> : <a class=\"ProveItLink\" href=\"../../../__pv_it/2cbe72a7ad6f655694dd697106680215e8489b600/expr.ipynb\"><img src=\"../../../__pv_it/2cbe72a7ad6f655694dd697106680215e8489b600/expr.png\" style=\"display:inline;vertical-align:middle;\" /></a>, <a class=\"ProveItLink\" href=\"../../../__pv_it/23a8703a0497efbbce779bb784cd8c2fbbfa1f580/expr.ipynb\"><img src=\"../../../__pv_it/23a8703a0497efbbce779bb784cd8c2fbbfa1f580/expr.png\" style=\"display:inline;vertical-align:middle;\" /></a> : <a class=\"ProveItLink\" href=\"../__pv_it/b277d0a72830431f0d90e343e95dce0dbc04e6570/expr.ipynb\"><img src=\"../__pv_it/b277d0a72830431f0d90e343e95dce0dbc04e6570/expr.png\" style=\"display:inline;vertical-align:middle;\" /></a></span></td></tr><tr><td>2</td><td>theorem</td><td></td><td><span style=\"font-size:20px;\"> &#x22A2;&nbsp;<a class=\"ProveItLink\" href=\"../../set_theory/enumeration/__pv_it/362604233ab7496012b6f3180a6b00cd231d8e2d0/expr.ipynb\"><img src=\"../../set_theory/enumeration/__pv_it/362604233ab7496012b6f3180a6b00cd231d8e2d0/expr.png\" style=\"display:inline;vertical-align:middle;\" /></a></span></td></tr>\n",
       "<tr><td>&nbsp;</td><td colspan=4 style-\"text-align:left\"><a class=\"ProveItLink\" href=\"../../set_theory/enumeration/_proofs_/unfold.ipynb\">proveit.logic.set_theory.enumeration.unfold</a></td></tr><tr><td>3</td><td>theorem</td><td></td><td><span style=\"font-size:20px;\"> &#x22A2;&nbsp;<a class=\"ProveItLink\" href=\"../../../number/numeral/deci/__pv_it/286f0443dba55bdb259c90cef1db0ca273fac95e0/expr.ipynb\"><img src=\"../../../number/numeral/deci/__pv_it/286f0443dba55bdb259c90cef1db0ca273fac95e0/expr.png\" style=\"display:inline;vertical-align:middle;\" /></a></span></td></tr>\n",
       "<tr><td>&nbsp;</td><td colspan=4 style-\"text-align:left\"><a class=\"ProveItLink\" href=\"../../../number/numeral/deci/_proofs_/nat2.ipynb\">proveit.number.numeral.deci.nat2</a></td></tr><tr><td>4</td><td>specialization</td><td>6, 7, 8</td><td><span style=\"font-size:20px;\"><a class=\"ProveItLink\" href=\"../__pv_it/a54570eacc2cdfc354a22076eb1ab1c1fc77fd870/expr.ipynb\"><img src=\"../__pv_it/a54570eacc2cdfc354a22076eb1ab1c1fc77fd870/expr.png\" style=\"display:inline;vertical-align:middle;\" /></a> &#x22A2;&nbsp;<a class=\"ProveItLink\" href=\"../__pv_it/8dec59ef3f1f1868f096955eadd8c8ee657c93490/expr.ipynb\"><img src=\"../__pv_it/8dec59ef3f1f1868f096955eadd8c8ee657c93490/expr.png\" style=\"display:inline;vertical-align:middle;\" /></a></span></td></tr>\n",
       "<tr><td>&nbsp;</td><td colspan=4 style=\"text-align:left\"><span style=\"font-size:20px;\"><a class=\"ProveItLink\" href=\"../__pv_it/fd4b0a418766985890fb332a124e981d1643d8330/expr.ipynb\"><img src=\"../__pv_it/fd4b0a418766985890fb332a124e981d1643d8330/expr.png\" style=\"display:inline;vertical-align:middle;\" /></a> : <a class=\"ProveItLink\" href=\"../__pv_it/41f9e38048f67195e9a29aee3095f06d0ce4be710/expr.ipynb\"><img src=\"../__pv_it/41f9e38048f67195e9a29aee3095f06d0ce4be710/expr.png\" style=\"display:inline;vertical-align:middle;\" /></a>, <a class=\"ProveItLink\" href=\"../../../__pv_it/530be409e3083890784cf1d7b28c9e67e90af9360/expr.ipynb\"><img src=\"../../../__pv_it/530be409e3083890784cf1d7b28c9e67e90af9360/expr.png\" style=\"display:inline;vertical-align:middle;\" /></a> : <a class=\"ProveItLink\" href=\"../__pv_it/46271c8230be96415d662709611f4ed2279d702b0/expr.ipynb\"><img src=\"../__pv_it/46271c8230be96415d662709611f4ed2279d702b0/expr.png\" style=\"display:inline;vertical-align:middle;\" /></a>, <a class=\"ProveItLink\" href=\"../../../__pv_it/f8b9edf8e16034727f0aad55bb83e392c3db40d40/expr.ipynb\"><img src=\"../../../__pv_it/f8b9edf8e16034727f0aad55bb83e392c3db40d40/expr.png\" style=\"display:inline;vertical-align:middle;\" /></a> : <a class=\"ProveItLink\" href=\"../__pv_it/6b71f75708a95fba8c42bfdee2db7f3c0aecc5160/expr.ipynb\"><img src=\"../__pv_it/6b71f75708a95fba8c42bfdee2db7f3c0aecc5160/expr.png\" style=\"display:inline;vertical-align:middle;\" /></a></span></td></tr><tr><td>5</td><td>theorem</td><td></td><td><span style=\"font-size:20px;\"> &#x22A2;&nbsp;<a class=\"ProveItLink\" href=\"../../../number/numeral/deci/__pv_it/c5d3f2ba07647aec518bec1929b16561d1a340400/expr.ipynb\"><img src=\"../../../number/numeral/deci/__pv_it/c5d3f2ba07647aec518bec1929b16561d1a340400/expr.png\" style=\"display:inline;vertical-align:middle;\" /></a></span></td></tr>\n",
       "<tr><td>&nbsp;</td><td colspan=4 style-\"text-align:left\"><a class=\"ProveItLink\" href=\"../../../number/numeral/deci/_proofs_/add_1_1.ipynb\">proveit.number.numeral.deci.add_1_1</a></td></tr><tr><td>6</td><td>theorem</td><td></td><td><span style=\"font-size:20px;\"> &#x22A2;&nbsp;<a class=\"ProveItLink\" href=\"../../equality/__pv_it/d2795a85c0a66aceb345def59505c50a35921a020/expr.ipynb\"><img src=\"../../equality/__pv_it/d2795a85c0a66aceb345def59505c50a35921a020/expr.png\" style=\"display:inline;vertical-align:middle;\" /></a></span></td></tr>\n",
       "<tr><td>&nbsp;</td><td colspan=4 style-\"text-align:left\"><a class=\"ProveItLink\" href=\"../../equality/_proofs_/subRightSideInto.ipynb\">proveit.logic.equality.subRightSideInto</a></td></tr><tr><td>7</td><td>assumption</td><td></td><td><span style=\"font-size:20px;\"><a class=\"ProveItLink\" href=\"../__pv_it/a54570eacc2cdfc354a22076eb1ab1c1fc77fd870/expr.ipynb\"><img src=\"../__pv_it/a54570eacc2cdfc354a22076eb1ab1c1fc77fd870/expr.png\" style=\"display:inline;vertical-align:middle;\" /></a> &#x22A2;&nbsp;<a class=\"ProveItLink\" href=\"../__pv_it/7837821d5a6b48e91a78e6fc66f6982c08b02a650/expr.ipynb\"><img src=\"../__pv_it/7837821d5a6b48e91a78e6fc66f6982c08b02a650/expr.png\" style=\"display:inline;vertical-align:middle;\" /></a></span></td></tr>\n",
       "<tr><td>8</td><td>axiom</td><td></td><td><span style=\"font-size:20px;\"> &#x22A2;&nbsp;<a class=\"ProveItLink\" href=\"../__pv_it/aa5390c906b6d4813c3789ada2f606bc3134f1390/expr.ipynb\"><img src=\"../__pv_it/aa5390c906b6d4813c3789ada2f606bc3134f1390/expr.png\" style=\"display:inline;vertical-align:middle;\" /></a></span></td></tr>\n",
       "<tr><td>&nbsp;</td><td colspan=4 style-\"text-align:left\"><a class=\"ProveItLink\" href=\"../_axioms_.ipynb#boolsDef\">proveit.logic.boolean.boolsDef</a></td></tr></table>"
      ],
      "text/plain": [
       "\tstep type\trequirements\tstatement\n",
       "0\tgeneralizaton\t1\t|= forall_{A in BOOLEANS} ((A = TRUE) or (A = FALSE))\n",
       "1\tspecialization\t2, 3, 4, 5\t{A in BOOLEANS} |= (A = TRUE) or (A = FALSE)\n",
       "\tl : 2, x : A, y : (TRUE , FALSE)\n",
       "2\ttheorem\t\t|= forall_{l in Naturals} [forall_{x, y_(1),...,y_(l) | x in {y_(1) ,  ...  , y_(l)}} ((x = y_(1)) or  ...  or (x = y_(l)))]\n",
       "\tproveit.logic.set_theory.enumeration.unfold\n",
       "3\ttheorem\t\t|= 2 in Naturals\n",
       "\tproveit.number.numeral.deci.nat2\n",
       "4\tspecialization\t6, 7, 8\t{A in BOOLEANS} |= A in {TRUE , FALSE}\n",
       "\tP(_x_) : A in _x_, x : BOOLEANS, y : {TRUE , FALSE}\n",
       "5\ttheorem\t\t|= (1 + 1) = 2\n",
       "\tproveit.number.numeral.deci.add_1_1\n",
       "6\ttheorem\t\t|= forall_{P, x, y | P(x) , x = y} P(y)\n",
       "\tproveit.logic.equality.subRightSideInto\n",
       "7\tassumption\t\t{A in BOOLEANS} |= A in BOOLEANS\n",
       "8\taxiom\t\t|= BOOLEANS = {TRUE , FALSE}\n",
       "\tproveit.logic.boolean.boolsDef"
      ]
     },
     "execution_count": 7,
     "metadata": {},
     "output_type": "execute_result"
    }
   ],
   "source": [
    "%qed # unfolding the enumerated set via automation"
   ]
  },
  {
   "cell_type": "code",
   "execution_count": null,
   "metadata": {},
   "outputs": [],
   "source": []
  }
 ],
 "metadata": {
  "kernelspec": {
   "display_name": "Python 3",
   "language": "python",
   "name": "python3"
  },
  "language_info": {
   "codemirror_mode": {
    "name": "ipython",
    "version": 3
   },
   "file_extension": ".py",
   "mimetype": "text/x-python",
   "name": "python",
   "nbconvert_exporter": "python",
   "pygments_lexer": "ipython3",
   "version": "3.7.3"
  }
 },
 "nbformat": 4,
 "nbformat_minor": 1
}
