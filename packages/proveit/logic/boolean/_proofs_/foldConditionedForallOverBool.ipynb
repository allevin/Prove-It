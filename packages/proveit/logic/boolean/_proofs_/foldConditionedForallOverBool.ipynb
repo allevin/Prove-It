{
 "cells": [
  {
   "cell_type": "markdown",
   "metadata": {
    "collapsed": true
   },
   "source": [
    "# Proof of <a class=\"ProveItLink\" href=\"../../../_context_.ipynb\">proveit</a>.<a class=\"ProveItLink\" href=\"../../_context_.ipynb\">logic</a>.<a class=\"ProveItLink\" href=\"../_context_.ipynb\">boolean</a>.<a class=\"ProveItLink\" href=\"../_theorems_.ipynb#foldConditionedForallOverBool\">foldConditionedForallOverBool</a> theorem\n",
    "========"
   ]
  },
  {
   "cell_type": "code",
   "execution_count": 1,
   "metadata": {},
   "outputs": [],
   "source": [
    "import proveit\n",
    "from proveit import defaults\n",
    "from proveit.logic import Implies, Forall, Booleans\n",
    "from proveit._common_ import PofA, QofA, P, A, Q\n",
    "from proveit.logic._common_ import QimplPofTrue, QimplPofFalse, PofTrue, PofFalse\n",
    "from proveit.logic.boolean._theorems_ import foldForallOverBool\n",
    "context = proveit.Context('..') # the theorem's context is in the parent directory"
   ]
  },
  {
   "cell_type": "code",
   "execution_count": 2,
   "metadata": {},
   "outputs": [
    {
     "name": "stdout",
     "output_type": "stream",
     "text": [
      "Beginning proof of foldConditionedForallOverBool\n",
      "Recorded 'presuming' information\n",
      "Presuming previous theorems (applied transitively).\n"
     ]
    },
    {
     "data": {
      "text/html": [
       "<strong id=\"foldConditionedForallOverBool\">foldConditionedForallOverBool:</strong> <a class=\"ProveItLink\" href=\"../__pv_it/6bccdff4779765f1d15f135c0a8dcc90a2fd6c830/expr.ipynb\"><img src=\"../__pv_it/6bccdff4779765f1d15f135c0a8dcc90a2fd6c830/expr.png\" style=\"display:inline;vertical-align:middle;\" /></a><br>(see <a class=\"ProveItLink\" href=\"../__pv_it/6bccdff4779765f1d15f135c0a8dcc90a2fd6c830/dependencies.ipynb\">dependencies</a>)<br>"
      ],
      "text/plain": [
       "foldConditionedForallOverBool: forall_{P, Q | Q(TRUE) => P(TRUE) , Q(FALSE) => P(FALSE)} [forall_{A in BOOLEANS | Q(A)} P(A)]"
      ]
     },
     "execution_count": 2,
     "metadata": {},
     "output_type": "execute_result"
    }
   ],
   "source": [
    "%proving foldConditionedForallOverBool presuming []"
   ]
  },
  {
   "cell_type": "code",
   "execution_count": 3,
   "metadata": {},
   "outputs": [
    {
     "data": {
      "text/html": [
       "<strong id=\"defaults.assumptions\">defaults.assumptions:</strong> <a class=\"ProveItLink\" href=\"../__pv_it/6626e6f1c17d4dba25ca155a4440297691bde94b0/expr.ipynb\"><img src=\"../__pv_it/6626e6f1c17d4dba25ca155a4440297691bde94b0/expr.png\" style=\"display:inline;vertical-align:middle;\" /></a><br>"
      ],
      "text/plain": [
       "defaults.assumptions: (Q(TRUE) => P(TRUE) , Q(FALSE) => P(FALSE) , A in BOOLEANS , Q(A))"
      ]
     },
     "execution_count": 3,
     "metadata": {},
     "output_type": "execute_result"
    }
   ],
   "source": [
    "defaults.assumptions = foldConditionedForallOverBool.instanceExpr.conditions + foldConditionedForallOverBool.instanceExpr.instanceExpr.conditions"
   ]
  },
  {
   "cell_type": "code",
   "execution_count": 4,
   "metadata": {},
   "outputs": [
    {
     "data": {
      "text/html": [
       "<span style=\"font-size:20px;\"> &#x22A2;&nbsp;<a class=\"ProveItLink\" href=\"../__pv_it/aee6960d17505c798b9d1f24ff6ef5d96fac5a9a0/expr.ipynb\"><img src=\"../__pv_it/aee6960d17505c798b9d1f24ff6ef5d96fac5a9a0/expr.png\" style=\"display:inline;vertical-align:middle;\" /></a></span>"
      ],
      "text/plain": [
       "|- forall_{P | P(TRUE) , P(FALSE)} [forall_{A in BOOLEANS} P(A)]"
      ]
     },
     "execution_count": 4,
     "metadata": {},
     "output_type": "execute_result"
    }
   ],
   "source": [
    "foldForallOverBool"
   ]
  },
  {
   "cell_type": "code",
   "execution_count": 5,
   "metadata": {},
   "outputs": [
    {
     "data": {
      "text/html": [
       "<strong id=\"foldForallOverBool_spec\">foldForallOverBool_spec:</strong> <span style=\"font-size:20px;\"><a class=\"ProveItLink\" href=\"../__pv_it/808246b2b00e7ffbf9ee7e7c7b678ac5d44b74980/expr.ipynb\"><img src=\"../__pv_it/808246b2b00e7ffbf9ee7e7c7b678ac5d44b74980/expr.png\" style=\"display:inline;vertical-align:middle;\" /></a> &#x22A2;&nbsp;<a class=\"ProveItLink\" href=\"../__pv_it/ca5296c1b0d5faed1d8ea2a72c5ea27a9d4747210/expr.ipynb\"><img src=\"../__pv_it/ca5296c1b0d5faed1d8ea2a72c5ea27a9d4747210/expr.png\" style=\"display:inline;vertical-align:middle;\" /></a></span><br>"
      ],
      "text/plain": [
       "foldForallOverBool_spec: {Q(TRUE) => P(TRUE) , Q(FALSE) => P(FALSE)} |- forall_{A in BOOLEANS} (Q(A) => P(A))"
      ]
     },
     "execution_count": 5,
     "metadata": {},
     "output_type": "execute_result"
    }
   ],
   "source": [
    "foldForallOverBool_spec = foldForallOverBool.specialize({PofA:Implies(QofA,PofA)})"
   ]
  },
  {
   "cell_type": "code",
   "execution_count": 6,
   "metadata": {},
   "outputs": [
    {
     "data": {
      "text/html": [
       "<strong id=\"QAimplPA\">QAimplPA:</strong> <span style=\"font-size:20px;\"> &#x22A2;&nbsp;<a class=\"ProveItLink\" href=\"../__pv_it/a57def36d72efeecc55fed266d7242f3c6af75ec0/expr.ipynb\"><img src=\"../__pv_it/a57def36d72efeecc55fed266d7242f3c6af75ec0/expr.png\" style=\"display:inline;vertical-align:middle;\" /></a></span><br>"
      ],
      "text/plain": [
       "QAimplPA: |- forall_{P, Q | Q(TRUE) => P(TRUE) , Q(FALSE) => P(FALSE)} [forall_{A in BOOLEANS} (Q(A) => P(A))]"
      ]
     },
     "execution_count": 6,
     "metadata": {},
     "output_type": "execute_result"
    }
   ],
   "source": [
    "QAimplPA = foldForallOverBool_spec.generalize((P, Q), conditions=foldForallOverBool_spec.assumptions)"
   ]
  },
  {
   "cell_type": "code",
   "execution_count": 7,
   "metadata": {},
   "outputs": [
    {
     "data": {
      "text/html": [
       "<span style=\"font-size:20px;\"><a class=\"ProveItLink\" href=\"../__pv_it/7c68e7cce2f3d962fdc5459b2f6ffb929fc31f4a0/expr.ipynb\"><img src=\"../__pv_it/7c68e7cce2f3d962fdc5459b2f6ffb929fc31f4a0/expr.png\" style=\"display:inline;vertical-align:middle;\" /></a> &#x22A2;&nbsp;<a class=\"ProveItLink\" href=\"../__pv_it/12e118d2787086b369c0b9654bab4efb813f9c8c0/expr.ipynb\"><img src=\"../__pv_it/12e118d2787086b369c0b9654bab4efb813f9c8c0/expr.png\" style=\"display:inline;vertical-align:middle;\" /></a></span>"
      ],
      "text/plain": [
       "{Q(TRUE) => P(TRUE) , Q(FALSE) => P(FALSE) , A in BOOLEANS} |- Q(A) => P(A)"
      ]
     },
     "execution_count": 7,
     "metadata": {},
     "output_type": "execute_result"
    }
   ],
   "source": [
    "QAimplPA.specialize().specialize()"
   ]
  },
  {
   "cell_type": "code",
   "execution_count": 8,
   "metadata": {},
   "outputs": [
    {
     "data": {
      "text/html": [
       "<table><tr><th>&nbsp;</th><th>step type</th><th>requirements</th><th>statement</th></tr>\n",
       "<tr><td>0</td><td>generalizaton</td><td>1</td><td><span style=\"font-size:20px;\"> &#x22A2;&nbsp;<a class=\"ProveItLink\" href=\"../__pv_it/6bccdff4779765f1d15f135c0a8dcc90a2fd6c830/expr.ipynb\"><img src=\"../__pv_it/6bccdff4779765f1d15f135c0a8dcc90a2fd6c830/expr.png\" style=\"display:inline;vertical-align:middle;\" /></a></span></td></tr>\n",
       "<tr><td>1</td><td>modus ponens</td><td>2, 3</td><td><span style=\"font-size:20px;\"><a class=\"ProveItLink\" href=\"../__pv_it/e9ccdec9f7753c7085207027ccf2bd6bbcb26eef0/expr.ipynb\"><img src=\"../__pv_it/e9ccdec9f7753c7085207027ccf2bd6bbcb26eef0/expr.png\" style=\"display:inline;vertical-align:middle;\" /></a> &#x22A2;&nbsp;<a class=\"ProveItLink\" href=\"../../../__pv_it/d2c2aa3c0d5707e464a75d67a5b95d12c40fc6e30/expr.ipynb\"><img src=\"../../../__pv_it/d2c2aa3c0d5707e464a75d67a5b95d12c40fc6e30/expr.png\" style=\"display:inline;vertical-align:middle;\" /></a></span></td></tr>\n",
       "<tr><td>2</td><td>specialization</td><td>4, 5</td><td><span style=\"font-size:20px;\"><a class=\"ProveItLink\" href=\"../__pv_it/7c68e7cce2f3d962fdc5459b2f6ffb929fc31f4a0/expr.ipynb\"><img src=\"../__pv_it/7c68e7cce2f3d962fdc5459b2f6ffb929fc31f4a0/expr.png\" style=\"display:inline;vertical-align:middle;\" /></a> &#x22A2;&nbsp;<a class=\"ProveItLink\" href=\"../__pv_it/12e118d2787086b369c0b9654bab4efb813f9c8c0/expr.ipynb\"><img src=\"../__pv_it/12e118d2787086b369c0b9654bab4efb813f9c8c0/expr.png\" style=\"display:inline;vertical-align:middle;\" /></a></span></td></tr>\n",
       "<tr><td>&nbsp;</td><td colspan=4 style=\"text-align:left\"><span style=\"font-size:20px;\"><a class=\"ProveItLink\" href=\"../../../__pv_it/2cbe72a7ad6f655694dd697106680215e8489b600/expr.ipynb\"><img src=\"../../../__pv_it/2cbe72a7ad6f655694dd697106680215e8489b600/expr.png\" style=\"display:inline;vertical-align:middle;\" /></a> : <a class=\"ProveItLink\" href=\"../../../__pv_it/2cbe72a7ad6f655694dd697106680215e8489b600/expr.ipynb\"><img src=\"../../../__pv_it/2cbe72a7ad6f655694dd697106680215e8489b600/expr.png\" style=\"display:inline;vertical-align:middle;\" /></a></span></td></tr><tr><td>3</td><td>assumption</td><td></td><td><span style=\"font-size:20px;\"><a class=\"ProveItLink\" href=\"../__pv_it/54c921e8668fac2cbe15ce86c47ac8b431fc6c530/expr.ipynb\"><img src=\"../__pv_it/54c921e8668fac2cbe15ce86c47ac8b431fc6c530/expr.png\" style=\"display:inline;vertical-align:middle;\" /></a> &#x22A2;&nbsp;<a class=\"ProveItLink\" href=\"../../../__pv_it/cdde746c2742536efa2c676f92c97c50cbb392360/expr.ipynb\"><img src=\"../../../__pv_it/cdde746c2742536efa2c676f92c97c50cbb392360/expr.png\" style=\"display:inline;vertical-align:middle;\" /></a></span></td></tr>\n",
       "<tr><td>4</td><td>specialization</td><td>6, 7, 8</td><td><span style=\"font-size:20px;\"><a class=\"ProveItLink\" href=\"../__pv_it/808246b2b00e7ffbf9ee7e7c7b678ac5d44b74980/expr.ipynb\"><img src=\"../__pv_it/808246b2b00e7ffbf9ee7e7c7b678ac5d44b74980/expr.png\" style=\"display:inline;vertical-align:middle;\" /></a> &#x22A2;&nbsp;<a class=\"ProveItLink\" href=\"../__pv_it/ca5296c1b0d5faed1d8ea2a72c5ea27a9d4747210/expr.ipynb\"><img src=\"../__pv_it/ca5296c1b0d5faed1d8ea2a72c5ea27a9d4747210/expr.png\" style=\"display:inline;vertical-align:middle;\" /></a></span></td></tr>\n",
       "<tr><td>&nbsp;</td><td colspan=4 style=\"text-align:left\"><span style=\"font-size:20px;\"><a class=\"ProveItLink\" href=\"../../../__pv_it/d2c2aa3c0d5707e464a75d67a5b95d12c40fc6e30/expr.ipynb\"><img src=\"../../../__pv_it/d2c2aa3c0d5707e464a75d67a5b95d12c40fc6e30/expr.png\" style=\"display:inline;vertical-align:middle;\" /></a> : <a class=\"ProveItLink\" href=\"../__pv_it/12e118d2787086b369c0b9654bab4efb813f9c8c0/expr.ipynb\"><img src=\"../__pv_it/12e118d2787086b369c0b9654bab4efb813f9c8c0/expr.png\" style=\"display:inline;vertical-align:middle;\" /></a></span></td></tr><tr><td>5</td><td>assumption</td><td></td><td><span style=\"font-size:20px;\"><a class=\"ProveItLink\" href=\"../__pv_it/a54570eacc2cdfc354a22076eb1ab1c1fc77fd870/expr.ipynb\"><img src=\"../__pv_it/a54570eacc2cdfc354a22076eb1ab1c1fc77fd870/expr.png\" style=\"display:inline;vertical-align:middle;\" /></a> &#x22A2;&nbsp;<a class=\"ProveItLink\" href=\"../__pv_it/7837821d5a6b48e91a78e6fc66f6982c08b02a650/expr.ipynb\"><img src=\"../__pv_it/7837821d5a6b48e91a78e6fc66f6982c08b02a650/expr.png\" style=\"display:inline;vertical-align:middle;\" /></a></span></td></tr>\n",
       "<tr><td>6</td><td>theorem</td><td></td><td><span style=\"font-size:20px;\"> &#x22A2;&nbsp;<a class=\"ProveItLink\" href=\"../__pv_it/aee6960d17505c798b9d1f24ff6ef5d96fac5a9a0/expr.ipynb\"><img src=\"../__pv_it/aee6960d17505c798b9d1f24ff6ef5d96fac5a9a0/expr.png\" style=\"display:inline;vertical-align:middle;\" /></a></span></td></tr>\n",
       "<tr><td>&nbsp;</td><td colspan=4 style-\"text-align:left\"><a class=\"ProveItLink\" href=\"foldForallOverBool.ipynb\">proveit.logic.boolean.foldForallOverBool</a></td></tr><tr><td>7</td><td>assumption</td><td></td><td><span style=\"font-size:20px;\"><a class=\"ProveItLink\" href=\"../__pv_it/c9254bc758172c83a2102604606d8f4f2dfd84b10/expr.ipynb\"><img src=\"../__pv_it/c9254bc758172c83a2102604606d8f4f2dfd84b10/expr.png\" style=\"display:inline;vertical-align:middle;\" /></a> &#x22A2;&nbsp;<a class=\"ProveItLink\" href=\"../../__pv_it/c23bff255c761f01e52a091ba3f1fdf4285d319a0/expr.ipynb\"><img src=\"../../__pv_it/c23bff255c761f01e52a091ba3f1fdf4285d319a0/expr.png\" style=\"display:inline;vertical-align:middle;\" /></a></span></td></tr>\n",
       "<tr><td>8</td><td>assumption</td><td></td><td><span style=\"font-size:20px;\"><a class=\"ProveItLink\" href=\"../__pv_it/202207473c8f42ea58a77d344585aee893c7dc4d0/expr.ipynb\"><img src=\"../__pv_it/202207473c8f42ea58a77d344585aee893c7dc4d0/expr.png\" style=\"display:inline;vertical-align:middle;\" /></a> &#x22A2;&nbsp;<a class=\"ProveItLink\" href=\"../../__pv_it/1d123c26ccfeb4cf8fca953853d9541ba3d4e4650/expr.ipynb\"><img src=\"../../__pv_it/1d123c26ccfeb4cf8fca953853d9541ba3d4e4650/expr.png\" style=\"display:inline;vertical-align:middle;\" /></a></span></td></tr>\n",
       "</table>"
      ],
      "text/plain": [
       "\tstep type\trequirements\tstatement\n",
       "0\tgeneralizaton\t1\t|- forall_{P, Q | Q(TRUE) => P(TRUE) , Q(FALSE) => P(FALSE)} [forall_{A in BOOLEANS | Q(A)} P(A)]\n",
       "1\tmodus ponens\t2, 3\t{Q(TRUE) => P(TRUE) , Q(FALSE) => P(FALSE) , A in BOOLEANS , Q(A)} |- P(A)\n",
       "2\tspecialization\t4, 5\t{Q(TRUE) => P(TRUE) , Q(FALSE) => P(FALSE) , A in BOOLEANS} |- Q(A) => P(A)\n",
       "\tA : A\n",
       "3\tassumption\t\t{Q(A)} |- Q(A)\n",
       "4\tspecialization\t6, 7, 8\t{Q(TRUE) => P(TRUE) , Q(FALSE) => P(FALSE)} |- forall_{A in BOOLEANS} (Q(A) => P(A))\n",
       "\tP(A) : Q(A) => P(A)\n",
       "5\tassumption\t\t{A in BOOLEANS} |- A in BOOLEANS\n",
       "6\ttheorem\t\t|- forall_{P | P(TRUE) , P(FALSE)} [forall_{A in BOOLEANS} P(A)]\n",
       "\tproveit.logic.boolean.foldForallOverBool\n",
       "7\tassumption\t\t{Q(TRUE) => P(TRUE)} |- Q(TRUE) => P(TRUE)\n",
       "8\tassumption\t\t{Q(FALSE) => P(FALSE)} |- Q(FALSE) => P(FALSE)"
      ]
     },
     "execution_count": 8,
     "metadata": {},
     "output_type": "execute_result"
    }
   ],
   "source": [
    "%qed"
   ]
  },
  {
   "cell_type": "code",
   "execution_count": null,
   "metadata": {},
   "outputs": [],
   "source": []
  }
 ],
 "metadata": {
  "kernelspec": {
   "display_name": "Python 3",
   "language": "python",
   "name": "python3"
  },
  "language_info": {
   "codemirror_mode": {
    "name": "ipython",
    "version": 3
   },
   "file_extension": ".py",
   "mimetype": "text/x-python",
   "name": "python",
   "nbconvert_exporter": "python",
   "pygments_lexer": "ipython3",
   "version": "3.7.1"
  }
 },
 "nbformat": 4,
 "nbformat_minor": 1
}
