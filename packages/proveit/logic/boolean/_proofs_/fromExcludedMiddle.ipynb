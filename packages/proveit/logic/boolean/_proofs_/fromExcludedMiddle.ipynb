{
 "cells": [
  {
   "cell_type": "markdown",
   "metadata": {
    "collapsed": true
   },
   "source": [
    "Proof of <a class=\"ProveItLink\" href=\"../../../_context_.ipynb\">proveit</a>.<a class=\"ProveItLink\" href=\"../../_context_.ipynb\">logic</a>.<a class=\"ProveItLink\" href=\"../_context_.ipynb\">boolean</a>.<a class=\"ProveItLink\" href=\"../_theorems_.ipynb#fromExcludedMiddle\">fromExcludedMiddle</a> theorem\n",
    "========"
   ]
  },
  {
   "cell_type": "code",
   "execution_count": 1,
   "metadata": {},
   "outputs": [],
   "source": [
    "import proveit\n",
    "from proveit import defaults\n",
    "from proveit._common_ import A, C\n",
    "from proveit.logic import inBool, Implies\n",
    "from proveit.logic.boolean._theorems_ import unfoldInBool\n",
    "context = proveit.Context('..') # the theorem's context is in the parent directory"
   ]
  },
  {
   "cell_type": "code",
   "execution_count": 2,
   "metadata": {},
   "outputs": [
    {
     "name": "stdout",
     "output_type": "stream",
     "text": [
      "Beginning proof of fromExcludedMiddle\n",
      "Recorded 'presuming' information\n"
     ]
    },
    {
     "name": "stdout",
     "output_type": "stream",
     "text": [
      "Presuming proveit.logic.boolean.disjunction.singularConstructiveDilemma theorem (applied transitively).\n",
      "Presuming previous theorems (applied transitively).\n"
     ]
    },
    {
     "data": {
      "text/html": [
       "<strong id=\"fromExcludedMiddle\">fromExcludedMiddle:</strong> <a class=\"ProveItLink\" href=\"../__pv_it/13f17c292a4efcf346c1f230d9ad40b111c9c7a40/expr.ipynb\"><img src=\"../__pv_it/13f17c292a4efcf346c1f230d9ad40b111c9c7a40/expr.png\" style=\"display:inline;vertical-align:middle;\" /></a><br>(see <a class=\"ProveItLink\" href=\"../__pv_it/13f17c292a4efcf346c1f230d9ad40b111c9c7a40/dependencies.ipynb\">dependencies</a>)<br>"
      ],
      "text/plain": [
       "fromExcludedMiddle: forall_{C} [forall_{A in BOOLEANS | A => C , [not](A) => C} C]"
      ]
     },
     "execution_count": 2,
     "metadata": {},
     "output_type": "execute_result"
    }
   ],
   "source": [
    "%proving fromExcludedMiddle presuming [proveit.logic.boolean.disjunction.singularConstructiveDilemma]"
   ]
  },
  {
   "cell_type": "code",
   "execution_count": 3,
   "metadata": {},
   "outputs": [
    {
     "data": {
      "text/html": [
       "<strong id=\"defaults.assumptions\">defaults.assumptions:</strong> <a class=\"ProveItLink\" href=\"../__pv_it/add0f5d7aaa6f4cb2f37a3fea0d6f832c54f72850/expr.ipynb\"><img src=\"../__pv_it/add0f5d7aaa6f4cb2f37a3fea0d6f832c54f72850/expr.png\" style=\"display:inline;vertical-align:middle;\" /></a><br>"
      ],
      "text/plain": [
       "defaults.assumptions: (A in BOOLEANS , A => C , [not](A) => C)"
      ]
     },
     "execution_count": 3,
     "metadata": {},
     "output_type": "execute_result"
    }
   ],
   "source": [
    "defaults.assumptions = fromExcludedMiddle.instanceExpr.conditions"
   ]
  },
  {
   "cell_type": "code",
   "execution_count": 4,
   "metadata": {},
   "outputs": [
    {
     "data": {
      "text/html": [
       "<span style=\"font-size:20px;\"> &#x22A2;&nbsp;<a class=\"ProveItLink\" href=\"../__pv_it/4fb5bc72bb793d3fe0bbf07e51b7bad308e903a40/expr.ipynb\"><img src=\"../__pv_it/4fb5bc72bb793d3fe0bbf07e51b7bad308e903a40/expr.png\" style=\"display:inline;vertical-align:middle;\" /></a></span>"
      ],
      "text/plain": [
       "|= forall_{A in BOOLEANS} (A or [not](A))"
      ]
     },
     "execution_count": 4,
     "metadata": {},
     "output_type": "execute_result"
    }
   ],
   "source": [
    "unfoldInBool"
   ]
  },
  {
   "cell_type": "code",
   "execution_count": 5,
   "metadata": {},
   "outputs": [
    {
     "data": {
      "text/html": [
       "<strong id=\"A_or_notA\">A_or_notA:</strong> <span style=\"font-size:20px;\"><a class=\"ProveItLink\" href=\"../__pv_it/a54570eacc2cdfc354a22076eb1ab1c1fc77fd870/expr.ipynb\"><img src=\"../__pv_it/a54570eacc2cdfc354a22076eb1ab1c1fc77fd870/expr.png\" style=\"display:inline;vertical-align:middle;\" /></a> &#x22A2;&nbsp;<a class=\"ProveItLink\" href=\"../__pv_it/5e0f1fecc33243e3f89e2f824cc9ebed175239310/expr.ipynb\"><img src=\"../__pv_it/5e0f1fecc33243e3f89e2f824cc9ebed175239310/expr.png\" style=\"display:inline;vertical-align:middle;\" /></a></span><br>"
      ],
      "text/plain": [
       "A_or_notA: {A in BOOLEANS} |= A or [not](A)"
      ]
     },
     "execution_count": 5,
     "metadata": {},
     "output_type": "execute_result"
    }
   ],
   "source": [
    "A_or_notA = unfoldInBool.specialize()"
   ]
  },
  {
   "cell_type": "code",
   "execution_count": 6,
   "metadata": {},
   "outputs": [
    {
     "data": {
      "text/html": [
       "<strong id=\"Ctruth\">Ctruth:</strong> <span style=\"font-size:20px;\"><a class=\"ProveItLink\" href=\"../__pv_it/6c33ca11300165ff33b7c24f40c5a895bdb8aa5a0/expr.ipynb\"><img src=\"../__pv_it/6c33ca11300165ff33b7c24f40c5a895bdb8aa5a0/expr.png\" style=\"display:inline;vertical-align:middle;\" /></a> &#x22A2;&nbsp;<a class=\"ProveItLink\" href=\"../../../__pv_it/985a1bdf1540838275dec15f4ad6de261cca93ce0/expr.ipynb\"><img src=\"../../../__pv_it/985a1bdf1540838275dec15f4ad6de261cca93ce0/expr.png\" style=\"display:inline;vertical-align:middle;\" /></a></span><br>"
      ],
      "text/plain": [
       "Ctruth: {A in BOOLEANS , A => C , [not](A) => C} |= C"
      ]
     },
     "execution_count": 6,
     "metadata": {},
     "output_type": "execute_result"
    }
   ],
   "source": [
    "Ctruth = A_or_notA.deriveViaDilemma(C)"
   ]
  },
  {
   "cell_type": "code",
   "execution_count": 7,
   "metadata": {},
   "outputs": [
    {
     "data": {
      "text/html": [
       "<table><tr><th>&nbsp;</th><th>step type</th><th>requirements</th><th>statement</th></tr>\n",
       "<tr><td>0</td><td>generalizaton</td><td>1</td><td><span style=\"font-size:20px;\"> &#x22A2;&nbsp;<a class=\"ProveItLink\" href=\"../__pv_it/13f17c292a4efcf346c1f230d9ad40b111c9c7a40/expr.ipynb\"><img src=\"../__pv_it/13f17c292a4efcf346c1f230d9ad40b111c9c7a40/expr.png\" style=\"display:inline;vertical-align:middle;\" /></a></span></td></tr>\n",
       "<tr><td>1</td><td>specialization</td><td>2, 9, 3, 4, 5, 6</td><td><span style=\"font-size:20px;\"><a class=\"ProveItLink\" href=\"../__pv_it/6c33ca11300165ff33b7c24f40c5a895bdb8aa5a0/expr.ipynb\"><img src=\"../__pv_it/6c33ca11300165ff33b7c24f40c5a895bdb8aa5a0/expr.png\" style=\"display:inline;vertical-align:middle;\" /></a> &#x22A2;&nbsp;<a class=\"ProveItLink\" href=\"../../../__pv_it/985a1bdf1540838275dec15f4ad6de261cca93ce0/expr.ipynb\"><img src=\"../../../__pv_it/985a1bdf1540838275dec15f4ad6de261cca93ce0/expr.png\" style=\"display:inline;vertical-align:middle;\" /></a></span></td></tr>\n",
       "<tr><td>&nbsp;</td><td colspan=4 style=\"text-align:left\"><span style=\"font-size:20px;\"><a class=\"ProveItLink\" href=\"../__pv_it/203fa1913171f34868010b79c79c4d3572375c850/expr.ipynb\"><img src=\"../__pv_it/203fa1913171f34868010b79c79c4d3572375c850/expr.png\" style=\"display:inline;vertical-align:middle;\" /></a>, <a class=\"ProveItLink\" href=\"../__pv_it/56de4f4dfedb4fbc6465306f3e040d4dd10ce6110/expr.ipynb\"><img src=\"../__pv_it/56de4f4dfedb4fbc6465306f3e040d4dd10ce6110/expr.png\" style=\"display:inline;vertical-align:middle;\" /></a></span></td></tr><tr><td>2</td><td>theorem</td><td></td><td><span style=\"font-size:20px;\"> &#x22A2;&nbsp;<a class=\"ProveItLink\" href=\"../disjunction/__pv_it/5b87c0eedca27defcfd8384ce049aeb3741a3a240/expr.ipynb\"><img src=\"../disjunction/__pv_it/5b87c0eedca27defcfd8384ce049aeb3741a3a240/expr.png\" style=\"display:inline;vertical-align:middle;\" /></a></span></td></tr>\n",
       "<tr><td>&nbsp;</td><td colspan=4 style-\"text-align:left\"><a class=\"ProveItLink\" href=\"../disjunction/_proofs_/singularConstructiveDilemma.ipynb\">proveit.logic.boolean.disjunction.singularConstructiveDilemma</a></td></tr><tr><td>3</td><td>specialization</td><td>7, 9</td><td><span style=\"font-size:20px;\"><a class=\"ProveItLink\" href=\"../__pv_it/a54570eacc2cdfc354a22076eb1ab1c1fc77fd870/expr.ipynb\"><img src=\"../__pv_it/a54570eacc2cdfc354a22076eb1ab1c1fc77fd870/expr.png\" style=\"display:inline;vertical-align:middle;\" /></a> &#x22A2;&nbsp;<a class=\"ProveItLink\" href=\"../__pv_it/d6a86d88df256144550e1447bc2740af10be4b810/expr.ipynb\"><img src=\"../__pv_it/d6a86d88df256144550e1447bc2740af10be4b810/expr.png\" style=\"display:inline;vertical-align:middle;\" /></a></span></td></tr>\n",
       "<tr><td>&nbsp;</td><td colspan=4 style=\"text-align:left\"><span style=\"font-size:20px;\"><a class=\"ProveItLink\" href=\"../__pv_it/e2ee195baea449ecf67452694c66cbd67b2c19580/expr.ipynb\"><img src=\"../__pv_it/e2ee195baea449ecf67452694c66cbd67b2c19580/expr.png\" style=\"display:inline;vertical-align:middle;\" /></a></span></td></tr><tr><td>4</td><td>specialization</td><td>8, 9</td><td><span style=\"font-size:20px;\"><a class=\"ProveItLink\" href=\"../__pv_it/a54570eacc2cdfc354a22076eb1ab1c1fc77fd870/expr.ipynb\"><img src=\"../__pv_it/a54570eacc2cdfc354a22076eb1ab1c1fc77fd870/expr.png\" style=\"display:inline;vertical-align:middle;\" /></a> &#x22A2;&nbsp;<a class=\"ProveItLink\" href=\"../__pv_it/5e0f1fecc33243e3f89e2f824cc9ebed175239310/expr.ipynb\"><img src=\"../__pv_it/5e0f1fecc33243e3f89e2f824cc9ebed175239310/expr.png\" style=\"display:inline;vertical-align:middle;\" /></a></span></td></tr>\n",
       "<tr><td>&nbsp;</td><td colspan=4 style=\"text-align:left\"><span style=\"font-size:20px;\"><a class=\"ProveItLink\" href=\"../__pv_it/e2ee195baea449ecf67452694c66cbd67b2c19580/expr.ipynb\"><img src=\"../__pv_it/e2ee195baea449ecf67452694c66cbd67b2c19580/expr.png\" style=\"display:inline;vertical-align:middle;\" /></a></span></td></tr><tr><td>5</td><td>assumption</td><td></td><td><span style=\"font-size:20px;\"><a class=\"ProveItLink\" href=\"../__pv_it/2b397a206fb82d71f2761db12bdc37b0a3e181fb0/expr.ipynb\"><img src=\"../__pv_it/2b397a206fb82d71f2761db12bdc37b0a3e181fb0/expr.png\" style=\"display:inline;vertical-align:middle;\" /></a> &#x22A2;&nbsp;<a class=\"ProveItLink\" href=\"../__pv_it/331937d6d92fa85ce5f21643895017d27da16a970/expr.ipynb\"><img src=\"../__pv_it/331937d6d92fa85ce5f21643895017d27da16a970/expr.png\" style=\"display:inline;vertical-align:middle;\" /></a></span></td></tr>\n",
       "<tr><td>6</td><td>assumption</td><td></td><td><span style=\"font-size:20px;\"><a class=\"ProveItLink\" href=\"../__pv_it/7a6ae1ed263a27055eff985a0021efd83d7d7f980/expr.ipynb\"><img src=\"../__pv_it/7a6ae1ed263a27055eff985a0021efd83d7d7f980/expr.png\" style=\"display:inline;vertical-align:middle;\" /></a> &#x22A2;&nbsp;<a class=\"ProveItLink\" href=\"../__pv_it/f4855fd1c789ec0c819834fb4210b1e107cfa4a50/expr.ipynb\"><img src=\"../__pv_it/f4855fd1c789ec0c819834fb4210b1e107cfa4a50/expr.png\" style=\"display:inline;vertical-align:middle;\" /></a></span></td></tr>\n",
       "<tr><td>7</td><td>theorem</td><td></td><td><span style=\"font-size:20px;\"> &#x22A2;&nbsp;<a class=\"ProveItLink\" href=\"../negation/__pv_it/2bf039a75462a829870dcf59b07f81bfb03962800/expr.ipynb\"><img src=\"../negation/__pv_it/2bf039a75462a829870dcf59b07f81bfb03962800/expr.png\" style=\"display:inline;vertical-align:middle;\" /></a></span></td></tr>\n",
       "<tr><td>&nbsp;</td><td colspan=4 style-\"text-align:left\"><a class=\"ProveItLink\" href=\"../negation/_proofs_/closure.ipynb\">proveit.logic.boolean.negation.closure</a></td></tr><tr><td>8</td><td>theorem</td><td></td><td><span style=\"font-size:20px;\"> &#x22A2;&nbsp;<a class=\"ProveItLink\" href=\"../__pv_it/4fb5bc72bb793d3fe0bbf07e51b7bad308e903a40/expr.ipynb\"><img src=\"../__pv_it/4fb5bc72bb793d3fe0bbf07e51b7bad308e903a40/expr.png\" style=\"display:inline;vertical-align:middle;\" /></a></span></td></tr>\n",
       "<tr><td>&nbsp;</td><td colspan=4 style-\"text-align:left\"><a class=\"ProveItLink\" href=\"unfoldInBool.ipynb\">proveit.logic.boolean.unfoldInBool</a></td></tr><tr><td>9</td><td>assumption</td><td></td><td><span style=\"font-size:20px;\"><a class=\"ProveItLink\" href=\"../__pv_it/a54570eacc2cdfc354a22076eb1ab1c1fc77fd870/expr.ipynb\"><img src=\"../__pv_it/a54570eacc2cdfc354a22076eb1ab1c1fc77fd870/expr.png\" style=\"display:inline;vertical-align:middle;\" /></a> &#x22A2;&nbsp;<a class=\"ProveItLink\" href=\"../__pv_it/7837821d5a6b48e91a78e6fc66f6982c08b02a650/expr.ipynb\"><img src=\"../__pv_it/7837821d5a6b48e91a78e6fc66f6982c08b02a650/expr.png\" style=\"display:inline;vertical-align:middle;\" /></a></span></td></tr>\n",
       "</table>"
      ],
      "text/plain": [
       "\tstep type\trequirements\tstatement\n",
       "0\tgeneralizaton\t1\t|= forall_{C} [forall_{A in BOOLEANS | A => C , [not](A) => C} C]\n",
       "1\tspecialization\t2, 9, 3, 4, 5, 6\t{A in BOOLEANS , A => C , [not](A) => C} |= C\n",
       "\t{A -> A , B -> [not](A)}, {C -> C}\n",
       "2\ttheorem\t\t|= forall_{A, B in BOOLEANS | A or B} [forall_{C | A => C , B => C} C]\n",
       "\tproveit.logic.boolean.disjunction.singularConstructiveDilemma\n",
       "3\tspecialization\t7, 9\t{A in BOOLEANS} |= [not](A) in BOOLEANS\n",
       "\tA -> A\n",
       "4\tspecialization\t8, 9\t{A in BOOLEANS} |= A or [not](A)\n",
       "\tA -> A\n",
       "5\tassumption\t\t{A => C} |= A => C\n",
       "6\tassumption\t\t{[not](A) => C} |= [not](A) => C\n",
       "7\ttheorem\t\t|= forall_{A in BOOLEANS} ([not](A) in BOOLEANS)\n",
       "\tproveit.logic.boolean.negation.closure\n",
       "8\ttheorem\t\t|= forall_{A in BOOLEANS} (A or [not](A))\n",
       "\tproveit.logic.boolean.unfoldInBool\n",
       "9\tassumption\t\t{A in BOOLEANS} |= A in BOOLEANS"
      ]
     },
     "execution_count": 7,
     "metadata": {},
     "output_type": "execute_result"
    }
   ],
   "source": [
    "%qed"
   ]
  },
  {
   "cell_type": "code",
   "execution_count": null,
   "metadata": {},
   "outputs": [],
   "source": []
  }
 ],
 "metadata": {
  "kernelspec": {
   "display_name": "Python 3",
   "language": "python",
   "name": "python3"
  },
  "language_info": {
   "codemirror_mode": {
    "name": "ipython",
    "version": 3
   },
   "file_extension": ".py",
   "mimetype": "text/x-python",
   "name": "python",
   "nbconvert_exporter": "python",
   "pygments_lexer": "ipython3",
   "version": "3.7.0"
  }
 },
 "nbformat": 4,
 "nbformat_minor": 1
}
