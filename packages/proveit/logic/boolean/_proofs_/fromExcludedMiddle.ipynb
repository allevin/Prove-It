{
 "cells": [
  {
   "cell_type": "markdown",
   "metadata": {},
   "source": [
    "Proof of <a class=\"ProveItLink\" href=\"../../../_context_.ipynb\">proveit</a>.<a class=\"ProveItLink\" href=\"../../_context_.ipynb\">logic</a>.<a class=\"ProveItLink\" href=\"../_context_.ipynb\">boolean</a>.<a class=\"ProveItLink\" href=\"../_theorems_.ipynb#fromExcludedMiddle\">fromExcludedMiddle</a> theorem\n",
    "========"
   ]
  },
  {
   "cell_type": "code",
   "execution_count": 1,
   "metadata": {},
   "outputs": [],
   "source": [
    "import proveit\n",
    "from proveit import defaults\n",
    "from proveit._common_ import A, C\n",
    "from proveit.logic import inBool, Implies\n",
    "from proveit.logic.boolean._theorems_ import unfoldInBool\n",
    "context = proveit.Context('..') # the theorem's context is in the parent directory"
   ]
  },
  {
   "cell_type": "code",
   "execution_count": 2,
   "metadata": {},
   "outputs": [
    {
     "name": "stdout",
     "output_type": "stream",
     "text": [
      "Beginning proof of fromExcludedMiddle\n",
      "Recorded 'presuming' information\n"
     ]
    },
    {
     "name": "stdout",
     "output_type": "stream",
     "text": [
      "Presuming proveit.logic.boolean.disjunction.singularConstructiveDilemma theorem (applied transitively).\n",
      "Presuming previous theorems (applied transitively).\n"
     ]
    },
    {
     "data": {
      "text/html": [
       "<strong id=\"fromExcludedMiddle\">fromExcludedMiddle:</strong> <a class=\"ProveItLink\" href=\"../__pv_it/a34aadc5d2a4092d51d83d0e250fd83dbcb4aeef0/expr.ipynb\"><img src=\"data:image/png;base64,iVBORw0KGgoAAAANSUhEUgAAAPoAAAAZBAMAAADqEi4iAAAAMFBMVEX///8QEBC6urrMzMxUVFRm\n",
       "ZmZERETc3NwyMjKqqqp2dnaIiIiYmJgiIiLu7u4AAAAU9Wx4AAAAAXRSTlMAQObYZgAAA0VJREFU\n",
       "SMfFlk1IVFEUx//Omw/nvZmn20rCRR+boFlERCIOidBOK8dBSZwixhZJA5nTJrBVq2IgatNmICgr\n",
       "mIbIIhJ60KYMahbZQjQm0BBEkQSNMumcO2981/eeBtbUXdx3P865v3fOPffeA7iUvskUKl88k+Ou\n",
       "4wX8m9L/n+lFV7r+j+jCzrd2epg/oXylsLNnYsZFpt/n3nU7Xc3Qp7pYIbhaB+yuY/oA9QIJO12M\n",
       "DFQIrl8js9RlprOBvowj6tgbnRWiV+/k81bL9NC9dPqyM+ZH0+l0pUK/h40NtIkTt5RMjjvpNclk\n",
       "X3YLK1+QOxlXkcA34f6IoDcDvdTTWrpmUxbdG4FfdKvt1159uXFVHn0Syz3jla0/JsXDcBGBb0W6\n",
       "bXZBHwSUCeCUZLsnihnRfm/SXg8NnRSNcoSGvkorNxrw00bCbw2RolrvIoLwskQPQzOA/eSIW/Jd\n",
       "V8CIcFAPTerDMUNT9cf1Mn16RbqyF4EgT9y2ApsU2SyHCGoWxHyJrhnhIvTt1GmQ6SP4JI7mHEXH\n",
       "073zRU1FzpDpuTHxCfLmfiaHK3w39VpnmhWbXURQJeg3SnR98ADJ8si8TJ9Rotxs8CcQauO4UD3D\n",
       "RYmu5JOlBgMfsTE8W7tGZ0W8cBGBd5XrNvOV6T1C7k/YXxl/v/Bz1FdANTc037EJed+96IYvSeUK\n",
       "7dlHU1GxXM2KFFMOERL6wa4pmvSbfMCydnqwW4RWRlsohS55/kReor/BS1M6FsH38uZGoRLtrKmI\n",
       "Q04RjscMPPHyC1tFi1YRXc+ve2F3cDUX61hFIy2YJ3o2a9H1sdh58xk4GAdHzSz/stgtjnyhuEaX\n",
       "RNj4oy2da+97iO/ahOkMi/6OqziURUyZtst0XwpNES1GpZ12sIOjkG1PlOlCEXvgEHHLLvRtwB1n\n",
       "duGhKF+BN1WixyXP76PdMvR5Kg85oDNQI7iU0gsmvaSIUdhENshtplseFB10vTWB/p+GflrcNnfP\n",
       "WVE3tYRAq4hCcTT09i6yq8konVIopiKOwyaylcyKIslKNGyvcUBKAgw8Xz856BD507wuseGMksKX\n",
       "dQPB/F/PKjemh4hnyAPeLeW0k5vl89FNF3wld3K/yec//AI0vQIRsK/SQwAAAABJRU5ErkJggg==\n",
       "\" style=\"display:inline;vertical-align:middle;\" /></a><br>(see <a class=\"ProveItLink\" href=\"../__pv_it/a34aadc5d2a4092d51d83d0e250fd83dbcb4aeef0/dependencies.ipynb\">dependencies</a>)<br>"
      ],
      "text/plain": [
       "fromExcludedMiddle: forall_{C} [forall_{A in BOOLEANS | A => C , [not](A) => C} C]"
      ]
     },
     "execution_count": 2,
     "metadata": {},
     "output_type": "execute_result"
    }
   ],
   "source": [
    "%proving fromExcludedMiddle presuming [proveit.logic.boolean.disjunction.singularConstructiveDilemma]"
   ]
  },
  {
   "cell_type": "code",
   "execution_count": 3,
   "metadata": {},
   "outputs": [
    {
     "data": {
      "text/html": [
       "<strong id=\"defaults.assumptions\">defaults.assumptions:</strong> <a class=\"ProveItLink\" href=\"../__pv_it/7d02bb84a8cc34dd7d94e46eadeb27e045fb89700/expr.ipynb\"><img src=\"data:image/png;base64,iVBORw0KGgoAAAANSUhEUgAAAPMAAAAVBAMAAABhxcWTAAAAMFBMVEX////c3NwiIiJERESqqqqY\n",
       "mJh2dnZmZmYQEBDu7u4yMjJUVFTMzMyIiIi6uroAAAAs73DqAAAAAXRSTlMAQObYZgAAAu9JREFU\n",
       "SMfFVk1oE0EUfmv+02S7oFBQxBBBqhcjKIgezM2Lh8WCR81NPRSjqPVSWos9VNAGD1KKxVCoVQTb\n",
       "g1JsDwavOVjQo8LWQ+sPQmstYkDjzHszOzObHwoWHMj+vO/75pud92YmAP+x2Ytb1NG3YOBsGzJi\n",
       "VXpOZQwoOnOsNnRYCwRw0SaO97ldgjALAXqs0kySeDt3zSoi9oQiyVWTEbIXx+8X1HsQpwEOA6wM\n",
       "C0JJR5BebmZ9wQX7hsuxtJjv078arNOeptVxaZKYZE/RNXr5YMiRfqZRAuP72eWSw7E4Ba2TooeJ\n",
       "yewBYR12X/pSHwc1UZAc4bUySC8jujPRxxol8Jj7fULsC0XS6T+Uo6mS+uqlnC+VOLav4j6Q5y5F\n",
       "qlZjdokeyjdIYj/4tQux6xT6HN7A+/aSmvDXPSp9EqcUU5KsGs46FVOsoFsTPVoMSmAPjvABYlOU\n",
       "NS/1Gx8OqVxn63dUWQo8lsX2k9w29Lpy9SomergclMCApDHsLk0XWIglcnqZvfPfJC51z/h1m5Z+\n",
       "iHsAV7jHPkWXZaAkcNCRPQ4CpbC6sLCOgSEmlmUGuWUplLhfp3zEnbjeEhTp9CRV0VOrQQnUZb0z\n",
       "jKyZ7ra5L6B1SL5JXG4Yj3gVxLHnU02sBV23JgmM4gxUELuFz+zXjZ+QaWrt4yJxe7GbDlzqopTi\n",
       "eWUt6TjhhgRe8VuMsCM8sIP9ZhB6YVgvi+lUOI2E5gZLKVqi/SLkKmtJj5SDEnjDK/0iYef5t3LK\n",
       "CRzWPU9ZR/pz8DBj4th2ivu5PNiXGfxdX0gpRdcWl5RE2LpecYj/ka3PozUHeurTuFanK/L4WO9+\n",
       "zjadNRM3VmBqfu4qH9ko68v2U6XoSa9BAtWnfZgahsUdc+8Oz1OFy7bU5AQInkg27+NmI2+stYRj\n",
       "kUL7U9jdxEkdAfOskK23jaZX39j/0do8NEGWSIuG2K62vaY38/8E92drNhjucFpLELO26g/S7mDg\n",
       "fRsyw/4CLs7cuFVuS14AAAAASUVORK5CYII=\n",
       "\" style=\"display:inline;vertical-align:middle;\" /></a><br>"
      ],
      "text/plain": [
       "defaults.assumptions: (A in BOOLEANS , A => C , [not](A) => C)"
      ]
     },
     "execution_count": 3,
     "metadata": {},
     "output_type": "execute_result"
    }
   ],
   "source": [
    "defaults.assumptions = fromExcludedMiddle.allConditions()"
   ]
  },
  {
   "cell_type": "code",
   "execution_count": 4,
   "metadata": {},
   "outputs": [
    {
     "data": {
      "text/html": [
       "<span style=\"font-size:20px;\"> <a class=\"ProveItLink\" href=\"unfoldInBool.ipynb\" style=\"text-decoration: none\">&#x22A2;&nbsp;</a><a class=\"ProveItLink\" href=\"../__pv_it/f3e4ac83929f0bec3f4ece5ccac055d5592377730/expr.ipynb\"><img src=\"data:image/png;base64,iVBORw0KGgoAAAANSUhEUgAAAJsAAAAVBAMAAACj9YEXAAAAMFBMVEX///8QEBC6urrMzMxUVFRm\n",
       "ZmZERETc3NwyMjKqqqp2dnaIiIiYmJgiIiLu7u4AAAAU9Wx4AAAAAXRSTlMAQObYZgAAAjRJREFU\n",
       "OMutVD1oFEEUfrnNZu9n77RLGuUQu4ikCNdYeJiApddcZ0QtNoVFrjJISNgmCCn0mvRXKSLIgmUK\n",
       "l4ABE4SziEXQcILaRCQEPIUEdd7fTS7Z1RR58M3sft/stzNv3gzA6Ubn3/LoCelVQRtfNtLcnCp3\n",
       "7URa34zqjjGeIfEozS7Lk8/uYlumbw/ROgjVkHHfdN7tNLsV7t7+xnaix6z0DSJ1nYE/cptpduep\n",
       "9ZZ/YlfBZtvSEqx+YvhPZ2fn09wyIXWFwh4tqgGQq1lagtWhJqMbBFtpdm6Lusu5A+zQCi2VlmA1\n",
       "X2OYjEwT/TBhJ2JsS2VnH2ShFUtLiJoLGRehRHP391j2l5YWdfgAbWYGvB+6MdeUnvpoYsuqmbOM\n",
       "IhTo6y845Z36TYhaOxfE7gzZjU9Odum1KH9mGhWrOruMQlykKnqxaZ7vLnw3dvlvfXamGeFUNvPx\n",
       "MTtR1a4UjlN5RgHAa3yKWqO3dLFYQTmDd1wSYdHSYqeqLhamKR+DMMWlDVH9nOZuCB8eGDzm94kN\n",
       "S4udqn7IgGU6kG/gFTgtnp17RYbjzlO6ZvhUVbZ7NJ9Wq2qhwECE271Zn+k474PgHuYur2XcBu/O\n",
       "rwas/VnkwqkprSeip2bLDPDxz24Dro6Vqjy7nh0MH7lJOok02EMmccnsVwzXZbFzSq8nn5YE+rmA\n",
       "4nMXvBsf4GuZyjiIj1xQKffW4bMRSpb74onJXd9tUU20O04PNhj/ibkT0i8ZfwHwzaFeUWDKCQAA\n",
       "AABJRU5ErkJggg==\n",
       "\" style=\"display:inline;vertical-align:middle;\" /></a></span>"
      ],
      "text/plain": [
       "|- forall_{A in BOOLEANS} (A or [not](A))"
      ]
     },
     "execution_count": 4,
     "metadata": {},
     "output_type": "execute_result"
    }
   ],
   "source": [
    "unfoldInBool"
   ]
  },
  {
   "cell_type": "code",
   "execution_count": 5,
   "metadata": {},
   "outputs": [
    {
     "data": {
      "text/html": [
       "<strong id=\"A_or_notA\">A_or_notA:</strong> <span style=\"font-size:20px;\"><a class=\"ProveItLink\" href=\"../__pv_it/1476e6741668a570a935371d1f30474b118f19fc0/expr.ipynb\"><img src=\"data:image/png;base64,iVBORw0KGgoAAAANSUhEUgAAAEkAAAAVBAMAAAD4Ed5jAAAAMFBMVEX///9ERETc3NyqqqpUVFS6\n",
       "urrMzMwyMjIQEBCIiIh2dnYiIiLu7u5mZmaYmJgAAABJJ2g3AAAAAXRSTlMAQObYZgAAAS5JREFU\n",
       "KM9jYGDgu8eAB7CtUgBRPLsY8AK2ZhDJ+QHK24Aqu/xjfcVGAyDjOojH1QARZf+AZohAJE/NKiC9\n",
       "AlnV6z8YqhimsqOpYrL9BJHkmb57dwFUlR3LAVRVnJxfIarS3yCZpYhmVgzzP4iZMggb2fbJwFTx\n",
       "go3nCWD7CZZjVICrit7/YwKQfg/iZASASFYGpr9guYPIrp9pCPL8BQaGlDawUIqLy0cwI2L3boTr\n",
       "GVkXABniD4DCCSAhoIHtEOXIZjEyCDAwcINUsoA0MgPxDrDcaQxVYHdxgWJGGYjrwXIsD5BVgWyE\n",
       "hwQPyDz5A2DPbkVS9XYiUngxSXxXYHj4vxYsqX4NHtvSLQbo8QgHJtUQP8IAdlXoAKyKj5AqcPri\n",
       "2UkgrbaCKb7FBNM9AKQsUzxrU6Y9AAAAAElFTkSuQmCC\n",
       "\" style=\"display:inline;vertical-align:middle;\" /></a> <a class=\"ProveItLink\" href=\"../__pv_it/c9c8a8af5299f5c533debe9694301601387128ee0/proof.ipynb\" style=\"text-decoration: none\">&#x22A2;&nbsp;</a><a class=\"ProveItLink\" href=\"../__pv_it/a991ce20ddbccfbe76e68970a1f1170834349e5a0/expr.ipynb\"><img src=\"data:image/png;base64,iVBORw0KGgoAAAANSUhEUgAAAFIAAAAVBAMAAAAnX6R8AAAAMFBMVEX///92dnYQEBBERERUVFS6\n",
       "urqIiIhmZmaqqqrc3Nzu7u6YmJgyMjIiIiLMzMwAAACFkkdwAAAAAXRSTlMAQObYZgAAATpJREFU\n",
       "KM9jYKAMsCagCXAHQBlv0SSeoPBAsnVQ9nmwQWDmAxBxCkUlSJYHavb9BUCSBaSILQFGIGwGyXIL\n",
       "gNkz6icAST4DIMEL0sO0AFklWJZLAcxOyAc7+CQQt4MYMSiWQ2QtwA5c0L+BAaoKpJqhECUcILLi\n",
       "IPZShvdghwFtBruA4TSySqhsD4gdwDC/gAHiERawM1QZGNjvgoAAQjYI5BMXF3+wUQwXGNaA6a9Q\n",
       "4/gcELLvIeHIdAAsU8EgjaESJgtS2QB0ISQM5gBNBQENJJUwWaDtnEA2zwewDMtrSJBbI1TCZfcw\n",
       "gJ3G/AsiYwsJcnGYvx8gZMUZJuufZOC2/wP2PMNxiIJYeBAhZI+ipqFXEIppAkY6hMYmOoAmB2TA\n",
       "mIA9JZ/CEFmDI81PwRDxxKGSE90utgcMAGvYUE5HD+bTAAAAAElFTkSuQmCC\n",
       "\" style=\"display:inline;vertical-align:middle;\" /></a></span><br>"
      ],
      "text/plain": [
       "A_or_notA: {A in BOOLEANS} |- A or [not](A)"
      ]
     },
     "execution_count": 5,
     "metadata": {},
     "output_type": "execute_result"
    }
   ],
   "source": [
    "A_or_notA = unfoldInBool.specialize()"
   ]
  },
  {
   "cell_type": "code",
   "execution_count": 6,
   "metadata": {},
   "outputs": [
    {
     "data": {
      "text/html": [
       "<strong id=\"Ctruth\">Ctruth:</strong> <span style=\"font-size:20px;\"><a class=\"ProveItLink\" href=\"../__pv_it/6436cc290bfabab4c0b5220f7c1ca912340988df0/expr.ipynb\"><img src=\"data:image/png;base64,iVBORw0KGgoAAAANSUhEUgAAAPkAAAAVBAMAAAB251VaAAAAMFBMVEX///9ERETc3NyqqqpUVFS6\n",
       "urrMzMwyMjIQEBCIiIh2dnYiIiLu7u5mZmaYmJgAAABJJ2g3AAAAAXRSTlMAQObYZgAAAv5JREFU\n",
       "SMfFVk1oE0EUfo35adLNGlDwYNEUBU+lEYq9aZGCp9LixUgp5BCo0EOKKARaTKDWk5j0IOLJggdr\n",
       "abEePGjE1INW8WBRqKK0zc2L0lqRKoo6783OzszOGnsI+CCzM/O+977ZN9/sBADsVfgPFp5J4sN6\n",
       "0KiEobJnwu6vRz+ObXTDGQ7r3lufC/m7KWVi2C+HNdm7Glji/azmQfiyL+/z3Su1doA32I8VncmC\n",
       "B5Q4bY3NKOOCX6bpGoTe1nh/TPMgPOIXErsCMMh+0yq7XV3wssNVJVz1W6Kz+JA1d2gHIaoVnuD2\n",
       "lBlijTJHbNPDfmCNJ7GuVSojDvvRoGQUfrSImM5jJ837zdrqCW4VzZDIZZRI0cNevsE1MvRRefc2\n",
       "mU74SV/d/Bn/gm07H5zSKsfhu4wQWEMtoVRU9tDCMdq+QKusfPhRq4x2/Nxu80cHFekpH7zT9M/h\n",
       "c0ZIYIsKnHHY45QBnkCO9q3JrW9ioPpNbqXwv6+gVbnM15QFwQWV3YF3GSHxXwKyjs0ZXtB+6CD3\n",
       "Y1V11w+7I+F3rIuiqkllaoKlJp4pCU8bIS2brhIYIHuJn/2enr4EdtIYL1TXFBKidf1CuXnM9Zv6\n",
       "jp6+Cmi3hOeMkJ0b7gnYwyqXztA+Mc2O6J8MZAfB6PodG5rFtoTNjozJLuA5I6SZ2I9gFfDNgpSU\n",
       "CbGF5PfCn931802scDn24WvHHci4wi7gaSMk+BPbJbHvsXlUIoNHaFXBmsrOKk91lX5unfxBypp1\n",
       "CrlPsrvwD0ZI+DtyYlJ54hZR7bQq657C/mkSrB+g+fmxcTbBZud9kCnv5bx6ujISPmeEwHoKQq9A\n",
       "ZW8rnQV7/xaJ+tCye8vsvZgCq5TU/dqxzJ5bwY/HMxTygMsk4efBCAmf6H0NGrtmnaMVVV+hpM/t\n",
       "6J04iXoygcqXNmxeUL7s3kt6O1c7ikW5UtzrrFwnhtjtRrF7blghl78a3e/W/fqJy9sgj1J70Jg/\n",
       "Xu+/zQR/uZsN+mcV8C40mvnH/7o/2xDo3lu+VnEAAAAASUVORK5CYII=\n",
       "\" style=\"display:inline;vertical-align:middle;\" /></a> <a class=\"ProveItLink\" href=\"../__pv_it/74ffc7e0b7e905bebd3072d4e381833ea8e468eb0/proof.ipynb\" style=\"text-decoration: none\">&#x22A2;&nbsp;</a><a class=\"ProveItLink\" href=\"../../../__pv_it/985a1bdf1540838275dec15f4ad6de261cca93ce0/expr.ipynb\"><img src=\"data:image/png;base64,iVBORw0KGgoAAAANSUhEUgAAAA8AAAAOBAMAAAACpFvcAAAAMFBMVEX////MzMyqqqoiIiIyMjK6\n",
       "uroQEBB2dnbc3NyYmJhmZmZUVFRERESIiIju7u4AAAB204erAAAAAXRSTlMAQObYZgAAAGZJREFU\n",
       "CNdjYGDgu7NrJccCBgaGsgkMrMsmMDA8sQNy6hsYGNweABlhDAxcn4A0QxcDQ78DiPGQgWH9BAYI\n",
       "sG+AMv6DSaCGfBDNJMDAsB+kmwuI5S8AiTog5gSaEwXWIO29SgFIAQBC+RaDQlidVgAAAABJRU5E\n",
       "rkJggg==\n",
       "\" style=\"display:inline;vertical-align:middle;\" /></a></span><br>"
      ],
      "text/plain": [
       "Ctruth: {A in BOOLEANS , A => C , [not](A) => C} |- C"
      ]
     },
     "execution_count": 6,
     "metadata": {},
     "output_type": "execute_result"
    }
   ],
   "source": [
    "Ctruth = A_or_notA.deriveViaDilemma(C)"
   ]
  },
  {
   "cell_type": "code",
   "execution_count": 7,
   "metadata": {},
   "outputs": [
    {
     "data": {
      "text/html": [
       "<table><tr><th>&nbsp;</th><th>step type</th><th>requirements</th><th>statement</th></tr>\n",
       "<tr><td>0</td><td>generalizaton</td><td>1</td><td><span style=\"font-size:20px;\"> <a class=\"ProveItLink\" href=\"../__pv_it/23e3c0759dd9bad6f5dd699360fa2d05dfef97e30/proof.ipynb\" style=\"text-decoration: none\">&#x22A2;&nbsp;</a><a class=\"ProveItLink\" href=\"../__pv_it/a34aadc5d2a4092d51d83d0e250fd83dbcb4aeef0/expr.ipynb\"><img src=\"data:image/png;base64,iVBORw0KGgoAAAANSUhEUgAAAPoAAAAZBAMAAADqEi4iAAAAMFBMVEX///8QEBC6urrMzMxUVFRm\n",
       "ZmZERETc3NwyMjKqqqp2dnaIiIiYmJgiIiLu7u4AAAAU9Wx4AAAAAXRSTlMAQObYZgAAA0VJREFU\n",
       "SMfFlk1IVFEUx//Omw/nvZmn20rCRR+boFlERCIOidBOK8dBSZwixhZJA5nTJrBVq2IgatNmICgr\n",
       "mIbIIhJ60KYMahbZQjQm0BBEkQSNMumcO2981/eeBtbUXdx3P865v3fOPffeA7iUvskUKl88k+Ou\n",
       "4wX8m9L/n+lFV7r+j+jCzrd2epg/oXylsLNnYsZFpt/n3nU7Xc3Qp7pYIbhaB+yuY/oA9QIJO12M\n",
       "DFQIrl8js9RlprOBvowj6tgbnRWiV+/k81bL9NC9dPqyM+ZH0+l0pUK/h40NtIkTt5RMjjvpNclk\n",
       "X3YLK1+QOxlXkcA34f6IoDcDvdTTWrpmUxbdG4FfdKvt1159uXFVHn0Syz3jla0/JsXDcBGBb0W6\n",
       "bXZBHwSUCeCUZLsnihnRfm/SXg8NnRSNcoSGvkorNxrw00bCbw2RolrvIoLwskQPQzOA/eSIW/Jd\n",
       "V8CIcFAPTerDMUNT9cf1Mn16RbqyF4EgT9y2ApsU2SyHCGoWxHyJrhnhIvTt1GmQ6SP4JI7mHEXH\n",
       "073zRU1FzpDpuTHxCfLmfiaHK3w39VpnmhWbXURQJeg3SnR98ADJ8si8TJ9Rotxs8CcQauO4UD3D\n",
       "RYmu5JOlBgMfsTE8W7tGZ0W8cBGBd5XrNvOV6T1C7k/YXxl/v/Bz1FdANTc037EJed+96IYvSeUK\n",
       "7dlHU1GxXM2KFFMOERL6wa4pmvSbfMCydnqwW4RWRlsohS55/kReor/BS1M6FsH38uZGoRLtrKmI\n",
       "Q04RjscMPPHyC1tFi1YRXc+ve2F3cDUX61hFIy2YJ3o2a9H1sdh58xk4GAdHzSz/stgtjnyhuEaX\n",
       "RNj4oy2da+97iO/ahOkMi/6OqziURUyZtst0XwpNES1GpZ12sIOjkG1PlOlCEXvgEHHLLvRtwB1n\n",
       "duGhKF+BN1WixyXP76PdMvR5Kg85oDNQI7iU0gsmvaSIUdhENshtplseFB10vTWB/p+GflrcNnfP\n",
       "WVE3tYRAq4hCcTT09i6yq8konVIopiKOwyaylcyKIslKNGyvcUBKAgw8Xz856BD507wuseGMksKX\n",
       "dQPB/F/PKjemh4hnyAPeLeW0k5vl89FNF3wld3K/yec//AI0vQIRsK/SQwAAAABJRU5ErkJggg==\n",
       "\" style=\"display:inline;vertical-align:middle;\" /></a></span></td></tr>\n",
       "<tr><td>1</td><td>specialization</td><td>2, 9, 3, 4, 5, 6</td><td><span style=\"font-size:20px;\"><a class=\"ProveItLink\" href=\"../__pv_it/6436cc290bfabab4c0b5220f7c1ca912340988df0/expr.ipynb\"><img src=\"data:image/png;base64,iVBORw0KGgoAAAANSUhEUgAAAPkAAAAVBAMAAAB251VaAAAAMFBMVEX///9ERETc3NyqqqpUVFS6\n",
       "urrMzMwyMjIQEBCIiIh2dnYiIiLu7u5mZmaYmJgAAABJJ2g3AAAAAXRSTlMAQObYZgAAAv5JREFU\n",
       "SMfFVk1oE0EUfo35adLNGlDwYNEUBU+lEYq9aZGCp9LixUgp5BCo0EOKKARaTKDWk5j0IOLJggdr\n",
       "abEePGjE1INW8WBRqKK0zc2L0lqRKoo6783OzszOGnsI+CCzM/O+977ZN9/sBADsVfgPFp5J4sN6\n",
       "0KiEobJnwu6vRz+ObXTDGQ7r3lufC/m7KWVi2C+HNdm7Glji/azmQfiyL+/z3Su1doA32I8VncmC\n",
       "B5Q4bY3NKOOCX6bpGoTe1nh/TPMgPOIXErsCMMh+0yq7XV3wssNVJVz1W6Kz+JA1d2gHIaoVnuD2\n",
       "lBlijTJHbNPDfmCNJ7GuVSojDvvRoGQUfrSImM5jJ837zdrqCW4VzZDIZZRI0cNevsE1MvRRefc2\n",
       "mU74SV/d/Bn/gm07H5zSKsfhu4wQWEMtoVRU9tDCMdq+QKusfPhRq4x2/Nxu80cHFekpH7zT9M/h\n",
       "c0ZIYIsKnHHY45QBnkCO9q3JrW9ioPpNbqXwv6+gVbnM15QFwQWV3YF3GSHxXwKyjs0ZXtB+6CD3\n",
       "Y1V11w+7I+F3rIuiqkllaoKlJp4pCU8bIS2brhIYIHuJn/2enr4EdtIYL1TXFBKidf1CuXnM9Zv6\n",
       "jp6+Cmi3hOeMkJ0b7gnYwyqXztA+Mc2O6J8MZAfB6PodG5rFtoTNjozJLuA5I6SZ2I9gFfDNgpSU\n",
       "CbGF5PfCn931802scDn24WvHHci4wi7gaSMk+BPbJbHvsXlUIoNHaFXBmsrOKk91lX5unfxBypp1\n",
       "CrlPsrvwD0ZI+DtyYlJ54hZR7bQq657C/mkSrB+g+fmxcTbBZud9kCnv5bx6ujISPmeEwHoKQq9A\n",
       "ZW8rnQV7/xaJ+tCye8vsvZgCq5TU/dqxzJ5bwY/HMxTygMsk4efBCAmf6H0NGrtmnaMVVV+hpM/t\n",
       "6J04iXoygcqXNmxeUL7s3kt6O1c7ikW5UtzrrFwnhtjtRrF7blghl78a3e/W/fqJy9sgj1J70Jg/\n",
       "Xu+/zQR/uZsN+mcV8C40mvnH/7o/2xDo3lu+VnEAAAAASUVORK5CYII=\n",
       "\" style=\"display:inline;vertical-align:middle;\" /></a> <a class=\"ProveItLink\" href=\"../__pv_it/74ffc7e0b7e905bebd3072d4e381833ea8e468eb0/proof.ipynb\" style=\"text-decoration: none\">&#x22A2;&nbsp;</a><a class=\"ProveItLink\" href=\"../../../__pv_it/985a1bdf1540838275dec15f4ad6de261cca93ce0/expr.ipynb\"><img src=\"data:image/png;base64,iVBORw0KGgoAAAANSUhEUgAAAA8AAAAOBAMAAAACpFvcAAAAMFBMVEX////MzMyqqqoiIiIyMjK6\n",
       "uroQEBB2dnbc3NyYmJhmZmZUVFRERESIiIju7u4AAAB204erAAAAAXRSTlMAQObYZgAAAGZJREFU\n",
       "CNdjYGDgu7NrJccCBgaGsgkMrMsmMDA8sQNy6hsYGNweABlhDAxcn4A0QxcDQ78DiPGQgWH9BAYI\n",
       "sG+AMv6DSaCGfBDNJMDAsB+kmwuI5S8AiTog5gSaEwXWIO29SgFIAQBC+RaDQlidVgAAAABJRU5E\n",
       "rkJggg==\n",
       "\" style=\"display:inline;vertical-align:middle;\" /></a></span></td></tr>\n",
       "<tr><td>&nbsp;</td><td colspan=4 style=\"text-align:left\"><span style=\"font-size:20px;\"><a class=\"ProveItLink\" href=\"../../../__pv_it/2cbe72a7ad6f655694dd697106680215e8489b600/expr.ipynb\"><img src=\"data:image/png;base64,iVBORw0KGgoAAAANSUhEUgAAAA8AAAAOBAMAAAACpFvcAAAALVBMVEX///8QEBBERERUVFS6urqI\n",
       "iIhmZmaqqqrc3Nzu7u6YmJgyMjIiIiLMzMwAAADtIaYWAAAAAXRSTlMAQObYZgAAAFtJREFUCNdj\n",
       "YACBOwxQsA9Kc52bAGG05zVAGAFxDmCaZULdAjBjCsO9ADDDgaEvAUTzGhvbKYCVMDAwbgAxChgY\n",
       "eASANAeQwf0AyJgNxEwvGRia5HYwcOm9TgAA6BoR3jrzwFcAAAAASUVORK5CYII=\n",
       "\" style=\"display:inline;vertical-align:middle;\" /></a> : <a class=\"ProveItLink\" href=\"../../../__pv_it/2cbe72a7ad6f655694dd697106680215e8489b600/expr.ipynb\"><img src=\"data:image/png;base64,iVBORw0KGgoAAAANSUhEUgAAAA8AAAAOBAMAAAACpFvcAAAALVBMVEX///8QEBBERERUVFS6urqI\n",
       "iIhmZmaqqqrc3Nzu7u6YmJgyMjIiIiLMzMwAAADtIaYWAAAAAXRSTlMAQObYZgAAAFtJREFUCNdj\n",
       "YACBOwxQsA9Kc52bAGG05zVAGAFxDmCaZULdAjBjCsO9ADDDgaEvAUTzGhvbKYCVMDAwbgAxChgY\n",
       "eASANAeQwf0AyJgNxEwvGRia5HYwcOm9TgAA6BoR3jrzwFcAAAAASUVORK5CYII=\n",
       "\" style=\"display:inline;vertical-align:middle;\" /></a>, <a class=\"ProveItLink\" href=\"../../../__pv_it/077b2ff79244fb4582cbe22c6e3356fa92a52f2f0/expr.ipynb\"><img src=\"data:image/png;base64,iVBORw0KGgoAAAANSUhEUgAAABAAAAAOBAMAAADUAYG5AAAAMFBMVEX///+qqqru7u4iIiJ2dnbc\n",
       "3NyIiIjMzMxmZmYQEBC6uroyMjJERERUVFSYmJgAAADLUcuvAAAAAXRSTlMAQObYZgAAAGpJREFU\n",
       "CNdjYGB4+//u3dMLGIBgDgMDxy8gzf4NiP8CGWxfGRj4vgAZPBMYGJgnARn8FxhY9ygAGfXX0pof\n",
       "gDTlBzAw2YIYJ0EckBBI53sHoBH/gIz7AhBjWH9DjancBLTl/N+7t/cxMAAA3u4f/5xagjYAAAAA\n",
       "SUVORK5CYII=\n",
       "\" style=\"display:inline;vertical-align:middle;\" /></a> : <a class=\"ProveItLink\" href=\"../__pv_it/feaa1d0e6d92ad9ead8e5ffd1f92697e3912387a0/expr.ipynb\"><img src=\"data:image/png;base64,iVBORw0KGgoAAAANSUhEUgAAABwAAAAOBAMAAADOPWE3AAAAMFBMVEX///8QEBBERES6urqIiIiq\n",
       "qqrc3Nzu7u6YmJgyMjJUVFTMzMx2dnYiIiJmZmYAAADMbjvTAAAAAXRSTlMAQObYZgAAAGNJREFU\n",
       "CNdjYEAA7gsMyIDzAwq39zsyjy3uGzKXheUzMtec9QcSj92A+wsDw9u7QHAHyGVmYPsHldkFwqtW\n",
       "fULiGjAwSCK4rEDqIoKbCqTmw1zLwD4BSOkXwFyk+DOBoen/PABSrhtHsYt+gAAAAABJRU5ErkJg\n",
       "gg==\n",
       "\" style=\"display:inline;vertical-align:middle;\" /></a>, <a class=\"ProveItLink\" href=\"../../../__pv_it/985a1bdf1540838275dec15f4ad6de261cca93ce0/expr.ipynb\"><img src=\"data:image/png;base64,iVBORw0KGgoAAAANSUhEUgAAAA8AAAAOBAMAAAACpFvcAAAAMFBMVEX////MzMyqqqoiIiIyMjK6\n",
       "uroQEBB2dnbc3NyYmJhmZmZUVFRERESIiIju7u4AAAB204erAAAAAXRSTlMAQObYZgAAAGZJREFU\n",
       "CNdjYGDgu7NrJccCBgaGsgkMrMsmMDA8sQNy6hsYGNweABlhDAxcn4A0QxcDQ78DiPGQgWH9BAYI\n",
       "sG+AMv6DSaCGfBDNJMDAsB+kmwuI5S8AiTog5gSaEwXWIO29SgFIAQBC+RaDQlidVgAAAABJRU5E\n",
       "rkJggg==\n",
       "\" style=\"display:inline;vertical-align:middle;\" /></a> : <a class=\"ProveItLink\" href=\"../../../__pv_it/985a1bdf1540838275dec15f4ad6de261cca93ce0/expr.ipynb\"><img src=\"data:image/png;base64,iVBORw0KGgoAAAANSUhEUgAAAA8AAAAOBAMAAAACpFvcAAAAMFBMVEX////MzMyqqqoiIiIyMjK6\n",
       "uroQEBB2dnbc3NyYmJhmZmZUVFRERESIiIju7u4AAAB204erAAAAAXRSTlMAQObYZgAAAGZJREFU\n",
       "CNdjYGDgu7NrJccCBgaGsgkMrMsmMDA8sQNy6hsYGNweABlhDAxcn4A0QxcDQ78DiPGQgWH9BAYI\n",
       "sG+AMv6DSaCGfBDNJMDAsB+kmwuI5S8AiTog5gSaEwXWIO29SgFIAQBC+RaDQlidVgAAAABJRU5E\n",
       "rkJggg==\n",
       "\" style=\"display:inline;vertical-align:middle;\" /></a></span></td></tr><tr><td>2</td><td>theorem</td><td></td><td><span style=\"font-size:20px;\"> <a class=\"ProveItLink\" href=\"../disjunction/_proofs_/singularConstructiveDilemma.ipynb\" style=\"text-decoration: none\">&#x22A2;&nbsp;</a><a class=\"ProveItLink\" href=\"../disjunction/__pv_it/d57de25fb482cc9f3cea56d72db03aa47a9d88e20/expr.ipynb\"><img src=\"data:image/png;base64,iVBORw0KGgoAAAANSUhEUgAAASwAAAAZBAMAAAB5kw7sAAAAMFBMVEX///8QEBC6urrMzMxUVFRm\n",
       "ZmZERETc3NwyMjKqqqp2dnaIiIiYmJgiIiLu7u4AAAAU9Wx4AAAAAXRSTlMAQObYZgAAA7lJREFU\n",
       "SMfNV11IFFEUPu66Ts7OjkJPFZVFPRW4D1IPEi7FWm9utKMkVlvhGIQ5D+YG4R8Ukg+1Lwm9GUHZ\n",
       "D9sWVg8KTQ9BPxA+pA+mtVKJZFgkGpZU556Z2fnxB2M26MDevXPOd+Z+99xzz70D4F7qRxXIpnhG\n",
       "h7PxmgHItjT+r7TS2aAlZp0WTfWlS1oB9iek3PMRH4ZruAjSusmeLrqkxSfwb1UWAn9VBc9+FWk1\n",
       "4QMXc0mLXtDkntXEW2zuKkiLzdGXcJvyLNwH3dNqZwHfxHJLuBGPN7veiS/i8bj7DembY+1pKhCz\n",
       "sjzsmlaBLNd3u6bV2sba90RrD0AdKTuo7ZqRyoMOeJHR6TA6NhTSyg1CHiv1vVLy0eIeYFrzG6To\n",
       "cYvaH66epHPiiGqW0y0gEknhG2mEQvAXar3OzvMaztgROsSG0mh5QjCBvV0q5BUu7mG1PgG4Z6q9\n",
       "IwBHqfdOMWkFwE+Df5zX1jcEnu8Ak1INpLonN9toIcTPZpdBmVV+APqR3DSGIubwMI+6jDUKUGwe\n",
       "o8UY9i7q/aY2TbT8aoAKTnKQlIEU+AbAf6xlCmnxn220EOJPaHMhlIVWP+DeHsP08qYcHkzy2VY3\n",
       "rW8ADpH+Cquga7EppceNhA3SCGJbCYUyJZPpSxCeKfCUdVPd2w5baREE+3sNlIXWhDeEFYeNknZ6\n",
       "MGHZm7GK0yBoOcfykf+KnSl6rGBWn35U1+1mqlx9AsV9vacAKNtS0npbbhHkPnAhA2WhldeIWT6U\n",
       "UVk8fDJKe9Bi9fzsK09DJapPrMbAm7W8jMUyqdO6TKvxHB6TqQczMu3t1qLlK7UOQpBxyFV0lJVW\n",
       "PpvUDyct46UAUtC08m0gbNAr1QEoMAuLgHVrq6LTymEcxUGpgcapxRVKeIdk+STLLd4yiAbhixoN\n",
       "lO1isw5/LEsmF3iQ7KgyrXkREOf0Va5VcpCWqJ/yJeekhHHfEmhFFSijQjTHtoYY0qJlo6VBxFiV\n",
       "gbLReoW/Sn0NbB5+CSUasVgLEmxXPmD6MIIQy6eXuAZuR7TKdQD3C7hBympaxLOWQQgCcAcp6yjn\n",
       "NXAsAXzQ6SFOodzOWM8o0JqG5ggw9SeMkrgG4NoSt9MPs8BVjHjnoWdG2odxHC+icipbUl6D0CY0\n",
       "UE5aYrQ6CQs9cK1CGWuZyl+Sohf0RaPaFr6VXv7SLGR61zG3nAmsCbeSS7PjpsRZxlUt+paV3eV3\n",
       "Lo6K/fVdfmkP70q+khy01H9PS8jel09oefPowu/EkLvvxNd/AKI4QYFUFwNPAAAAAElFTkSuQmCC\n",
       "\" style=\"display:inline;vertical-align:middle;\" /></a></span></td></tr>\n",
       "<tr><td>&nbsp;</td><td colspan=4 style-\"text-align:left\"><a class=\"ProveItLink\" href=\"../disjunction/_proofs_/singularConstructiveDilemma.ipynb\">proveit.logic.boolean.disjunction.singularConstructiveDilemma</a></td></tr><tr><td>3</td><td>specialization</td><td>7, 9</td><td><span style=\"font-size:20px;\"><a class=\"ProveItLink\" href=\"../__pv_it/1476e6741668a570a935371d1f30474b118f19fc0/expr.ipynb\"><img src=\"data:image/png;base64,iVBORw0KGgoAAAANSUhEUgAAAEkAAAAVBAMAAAD4Ed5jAAAAMFBMVEX///9ERETc3NyqqqpUVFS6\n",
       "urrMzMwyMjIQEBCIiIh2dnYiIiLu7u5mZmaYmJgAAABJJ2g3AAAAAXRSTlMAQObYZgAAAS5JREFU\n",
       "KM9jYGDgu8eAB7CtUgBRPLsY8AK2ZhDJ+QHK24Aqu/xjfcVGAyDjOojH1QARZf+AZohAJE/NKiC9\n",
       "AlnV6z8YqhimsqOpYrL9BJHkmb57dwFUlR3LAVRVnJxfIarS3yCZpYhmVgzzP4iZMggb2fbJwFTx\n",
       "go3nCWD7CZZjVICrit7/YwKQfg/iZASASFYGpr9guYPIrp9pCPL8BQaGlDawUIqLy0cwI2L3boTr\n",
       "GVkXABniD4DCCSAhoIHtEOXIZjEyCDAwcINUsoA0MgPxDrDcaQxVYHdxgWJGGYjrwXIsD5BVgWyE\n",
       "hwQPyDz5A2DPbkVS9XYiUngxSXxXYHj4vxYsqX4NHtvSLQbo8QgHJtUQP8IAdlXoAKyKj5AqcPri\n",
       "2UkgrbaCKb7FBNM9AKQsUzxrU6Y9AAAAAElFTkSuQmCC\n",
       "\" style=\"display:inline;vertical-align:middle;\" /></a> <a class=\"ProveItLink\" href=\"../__pv_it/3bcc93c056ce12f4e41488c491db1f9a01692f380/proof.ipynb\" style=\"text-decoration: none\">&#x22A2;&nbsp;</a><a class=\"ProveItLink\" href=\"../__pv_it/248e8ce033b3d30f9190d2824fd9158e513933650/expr.ipynb\"><img src=\"data:image/png;base64,iVBORw0KGgoAAAANSUhEUgAAAFIAAAAVBAMAAAAnX6R8AAAAMFBMVEX////c3NwiIiJERESqqqqY\n",
       "mJh2dnZmZmYQEBDu7u4yMjJUVFTMzMyIiIi6uroAAAAs73DqAAAAAXRSTlMAQObYZgAAAVBJREFU\n",
       "KM9jYCAe8F1AE2B9gEPlaRTeISCuQVXAtt7qV5MJkLESRXg9EHOhmcXMd2HWtAQGXhTLWfUnAIkE\n",
       "DJW8DxYwcExAFhSpF2Bg4GyAcOYuUtKCqmQJ2MnwCkX7hfsg75iA2TxLJyDMfGjAUIYSDhP8A4BU\n",
       "OpgjPAFh+6HgCQxLkVXOYzgPcrYXmGOIcKfS/14Ghj4GBnYlEAB54wGDfAGQegGS5zRA9tEVA4Z/\n",
       "UC7PBiDevXs/SP482CVNQO0wHzEYPENRycfAwLEAphIkADeTwYCZoQVJpQMDA1MD3HYFNJWmCJWM\n",
       "QJVcH4DsKLDIVhSVz6AhAgQHGGaBRH/CQ2nSA4RK1loDhkfwIBLuX8jAav8L6Pl1YD7j8gOwFPJZ\n",
       "YwvQCwIYqQsWmyy7IH6HpYkEDJVsF7Cnz5UYIrNwpGRpDJGNOFQyotvFewCrOgDNBVc5K9T2IgAA\n",
       "AABJRU5ErkJggg==\n",
       "\" style=\"display:inline;vertical-align:middle;\" /></a></span></td></tr>\n",
       "<tr><td>&nbsp;</td><td colspan=4 style=\"text-align:left\"><span style=\"font-size:20px;\"><a class=\"ProveItLink\" href=\"../../../__pv_it/2cbe72a7ad6f655694dd697106680215e8489b600/expr.ipynb\"><img src=\"data:image/png;base64,iVBORw0KGgoAAAANSUhEUgAAAA8AAAAOBAMAAAACpFvcAAAALVBMVEX///8QEBBERERUVFS6urqI\n",
       "iIhmZmaqqqrc3Nzu7u6YmJgyMjIiIiLMzMwAAADtIaYWAAAAAXRSTlMAQObYZgAAAFtJREFUCNdj\n",
       "YACBOwxQsA9Kc52bAGG05zVAGAFxDmCaZULdAjBjCsO9ADDDgaEvAUTzGhvbKYCVMDAwbgAxChgY\n",
       "eASANAeQwf0AyJgNxEwvGRia5HYwcOm9TgAA6BoR3jrzwFcAAAAASUVORK5CYII=\n",
       "\" style=\"display:inline;vertical-align:middle;\" /></a> : <a class=\"ProveItLink\" href=\"../../../__pv_it/2cbe72a7ad6f655694dd697106680215e8489b600/expr.ipynb\"><img src=\"data:image/png;base64,iVBORw0KGgoAAAANSUhEUgAAAA8AAAAOBAMAAAACpFvcAAAALVBMVEX///8QEBBERERUVFS6urqI\n",
       "iIhmZmaqqqrc3Nzu7u6YmJgyMjIiIiLMzMwAAADtIaYWAAAAAXRSTlMAQObYZgAAAFtJREFUCNdj\n",
       "YACBOwxQsA9Kc52bAGG05zVAGAFxDmCaZULdAjBjCsO9ADDDgaEvAUTzGhvbKYCVMDAwbgAxChgY\n",
       "eASANAeQwf0AyJgNxEwvGRia5HYwcOm9TgAA6BoR3jrzwFcAAAAASUVORK5CYII=\n",
       "\" style=\"display:inline;vertical-align:middle;\" /></a></span></td></tr><tr><td>4</td><td>specialization</td><td>8, 9</td><td><span style=\"font-size:20px;\"><a class=\"ProveItLink\" href=\"../__pv_it/1476e6741668a570a935371d1f30474b118f19fc0/expr.ipynb\"><img src=\"data:image/png;base64,iVBORw0KGgoAAAANSUhEUgAAAEkAAAAVBAMAAAD4Ed5jAAAAMFBMVEX///9ERETc3NyqqqpUVFS6\n",
       "urrMzMwyMjIQEBCIiIh2dnYiIiLu7u5mZmaYmJgAAABJJ2g3AAAAAXRSTlMAQObYZgAAAS5JREFU\n",
       "KM9jYGDgu8eAB7CtUgBRPLsY8AK2ZhDJ+QHK24Aqu/xjfcVGAyDjOojH1QARZf+AZohAJE/NKiC9\n",
       "AlnV6z8YqhimsqOpYrL9BJHkmb57dwFUlR3LAVRVnJxfIarS3yCZpYhmVgzzP4iZMggb2fbJwFTx\n",
       "go3nCWD7CZZjVICrit7/YwKQfg/iZASASFYGpr9guYPIrp9pCPL8BQaGlDawUIqLy0cwI2L3boTr\n",
       "GVkXABniD4DCCSAhoIHtEOXIZjEyCDAwcINUsoA0MgPxDrDcaQxVYHdxgWJGGYjrwXIsD5BVgWyE\n",
       "hwQPyDz5A2DPbkVS9XYiUngxSXxXYHj4vxYsqX4NHtvSLQbo8QgHJtUQP8IAdlXoAKyKj5AqcPri\n",
       "2UkgrbaCKb7FBNM9AKQsUzxrU6Y9AAAAAElFTkSuQmCC\n",
       "\" style=\"display:inline;vertical-align:middle;\" /></a> <a class=\"ProveItLink\" href=\"../__pv_it/c9c8a8af5299f5c533debe9694301601387128ee0/proof.ipynb\" style=\"text-decoration: none\">&#x22A2;&nbsp;</a><a class=\"ProveItLink\" href=\"../__pv_it/a991ce20ddbccfbe76e68970a1f1170834349e5a0/expr.ipynb\"><img src=\"data:image/png;base64,iVBORw0KGgoAAAANSUhEUgAAAFIAAAAVBAMAAAAnX6R8AAAAMFBMVEX///92dnYQEBBERERUVFS6\n",
       "urqIiIhmZmaqqqrc3Nzu7u6YmJgyMjIiIiLMzMwAAACFkkdwAAAAAXRSTlMAQObYZgAAATpJREFU\n",
       "KM9jYKAMsCagCXAHQBlv0SSeoPBAsnVQ9nmwQWDmAxBxCkUlSJYHavb9BUCSBaSILQFGIGwGyXIL\n",
       "gNkz6icAST4DIMEL0sO0AFklWJZLAcxOyAc7+CQQt4MYMSiWQ2QtwA5c0L+BAaoKpJqhECUcILLi\n",
       "IPZShvdghwFtBruA4TSySqhsD4gdwDC/gAHiERawM1QZGNjvgoAAQjYI5BMXF3+wUQwXGNaA6a9Q\n",
       "4/gcELLvIeHIdAAsU8EgjaESJgtS2QB0ISQM5gBNBQENJJUwWaDtnEA2zwewDMtrSJBbI1TCZfcw\n",
       "gJ3G/AsiYwsJcnGYvx8gZMUZJuufZOC2/wP2PMNxiIJYeBAhZI+ipqFXEIppAkY6hMYmOoAmB2TA\n",
       "mIA9JZ/CEFmDI81PwRDxxKGSE90utgcMAGvYUE5HD+bTAAAAAElFTkSuQmCC\n",
       "\" style=\"display:inline;vertical-align:middle;\" /></a></span></td></tr>\n",
       "<tr><td>&nbsp;</td><td colspan=4 style=\"text-align:left\"><span style=\"font-size:20px;\"><a class=\"ProveItLink\" href=\"../../../__pv_it/2cbe72a7ad6f655694dd697106680215e8489b600/expr.ipynb\"><img src=\"data:image/png;base64,iVBORw0KGgoAAAANSUhEUgAAAA8AAAAOBAMAAAACpFvcAAAALVBMVEX///8QEBBERERUVFS6urqI\n",
       "iIhmZmaqqqrc3Nzu7u6YmJgyMjIiIiLMzMwAAADtIaYWAAAAAXRSTlMAQObYZgAAAFtJREFUCNdj\n",
       "YACBOwxQsA9Kc52bAGG05zVAGAFxDmCaZULdAjBjCsO9ADDDgaEvAUTzGhvbKYCVMDAwbgAxChgY\n",
       "eASANAeQwf0AyJgNxEwvGRia5HYwcOm9TgAA6BoR3jrzwFcAAAAASUVORK5CYII=\n",
       "\" style=\"display:inline;vertical-align:middle;\" /></a> : <a class=\"ProveItLink\" href=\"../../../__pv_it/2cbe72a7ad6f655694dd697106680215e8489b600/expr.ipynb\"><img src=\"data:image/png;base64,iVBORw0KGgoAAAANSUhEUgAAAA8AAAAOBAMAAAACpFvcAAAALVBMVEX///8QEBBERERUVFS6urqI\n",
       "iIhmZmaqqqrc3Nzu7u6YmJgyMjIiIiLMzMwAAADtIaYWAAAAAXRSTlMAQObYZgAAAFtJREFUCNdj\n",
       "YACBOwxQsA9Kc52bAGG05zVAGAFxDmCaZULdAjBjCsO9ADDDgaEvAUTzGhvbKYCVMDAwbgAxChgY\n",
       "eASANAeQwf0AyJgNxEwvGRia5HYwcOm9TgAA6BoR3jrzwFcAAAAASUVORK5CYII=\n",
       "\" style=\"display:inline;vertical-align:middle;\" /></a></span></td></tr><tr><td>5</td><td>assumption</td><td></td><td><span style=\"font-size:20px;\"><a class=\"ProveItLink\" href=\"../__pv_it/de84fccd7730ff90e7b70ccea124bf3f0a35e8bf0/expr.ipynb\"><img src=\"data:image/png;base64,iVBORw0KGgoAAAANSUhEUgAAAFMAAAAVBAMAAADInc9CAAAAMFBMVEX///9ERETc3NyqqqpUVFS6\n",
       "urrMzMwyMjIQEBCIiIh2dnYiIiLu7u5mZmaYmJgAAABJJ2g3AAAAAXRSTlMAQObYZgAAAUJJREFU\n",
       "KM9jYGDgu8dACLCtUgBRPLsYCAO2ZhDJ+QHKzcamhmei7z2mCwwM10EcrgaoaD02pSseMLDeeACk\n",
       "kZXy7T+AMAvGOL4HSKxXQFOqfF8BrpQdpqsCxIhgQFM6YX4AXCmrA4Tm/QwiddGUsh6wf4Bw4koI\n",
       "pV8AIo/BlPKCuQxHGfIngOjbu0Fg/wWw4H247vcgIgNibwCD/gUkn5uDRffDnc8OlExpg4Sxi4u/\n",
       "AHJ4VoDU/gezwX4UB1oQkQB2KgMDRwGS0vQ1ILIfRDCDFHAvABIsYBUGQF4Dwq27ZcAa/EEG8sLd\n",
       "yrUBSDABlbJ/QBhqAqHAPgWbjwis40DM+AeukgnqFj5guMYqoChV7C9i4JP/Dg8CRpjPU0ruGjAw\n",
       "oMcWSprDTDa4lDJgV8pHlFJweuXZSUwuaIV4czFxeQsAPC5XQUSVqZcAAAAASUVORK5CYII=\n",
       "\" style=\"display:inline;vertical-align:middle;\" /></a> <a class=\"ProveItLink\" href=\"../__pv_it/be7b17369be962fc00f4fbceea68f97ced8b2db20/proof.ipynb\" style=\"text-decoration: none\">&#x22A2;&nbsp;</a><a class=\"ProveItLink\" href=\"../__pv_it/666bca2c98a55cab9264db49b27aa7da3ed1ce280/expr.ipynb\"><img src=\"data:image/png;base64,iVBORw0KGgoAAAANSUhEUgAAAD8AAAAPBAMAAAChCwpBAAAAMFBMVEX///92dnYQEBBERERUVFS6\n",
       "urqIiIhmZmaqqqrc3Nzu7u6YmJgyMjIiIiLMzMwAAACFkkdwAAAAAXRSTlMAQObYZgAAAOFJREFU\n",
       "GNNjYACBtwxYAFeyezVnAYR9HpsCoQ0MrEUbwEzu+wsQ+mCMNbeAhPwEMHtG/QS4Ah6Y2kMgRhCE\n",
       "nZAfAFfA6gCh2X+AyOkQsQX9GxBWi0Go+QdA5DoweynD+wQQXXsXBO5DHF6PpCeAYX4Bkut7wPbd\n",
       "RziLz8XF3wDZ/4dAKv6D2WAXszIwMB1AUvBGCkTqgwiOByCygYGBVwHhhrtWYGX+IM3sIBYnUAHP\n",
       "B4QBLRAK7G6wWWuAmPkXXJ4Tahs3MBzCQQ6drH+Sgdv+D9wbzDDXPzlS3oAtivjQ+AD0rD2U4WZv\n",
       "AQAAAABJRU5ErkJggg==\n",
       "\" style=\"display:inline;vertical-align:middle;\" /></a></span></td></tr>\n",
       "<tr><td>6</td><td>assumption</td><td></td><td><span style=\"font-size:20px;\"><a class=\"ProveItLink\" href=\"../__pv_it/c29ee832a7fd07d31e22eb92b3db8743f18040190/expr.ipynb\"><img src=\"data:image/png;base64,iVBORw0KGgoAAAANSUhEUgAAAHEAAAAVBAMAAACDNRyvAAAAMFBMVEX////c3NxERESqqqpUVFS6\n",
       "urrMzMwyMjIQEBCIiIh2dnYiIiLu7u5mZmaYmJgAAABXZE4RAAAAAXRSTlMAQObYZgAAAbhJREFU\n",
       "OMtjYGDgu8dAImBbJQCieHaBSNYJaLJ8Afi0NoNIzg8gMgVFJhuIr2HTwjPJ9x7jBQaG6yAOVwOI\n",
       "rEFRUA/E7Nh0rnjAwHrjAZCG6+REcSzf/gNAYgHCJhjj+B4gsV4AWSfHAWSdwveBkjwNcD47TLYC\n",
       "xIhgQNYZjuKmCfNBwaMM57M6QGjezyBSFkXnLWSNrAfsgV5hWIsQWQmh5AtA5DGYTl4Qtw5Z51GG\n",
       "fJC3zUHs27tBYP8FsMT9BzAl70FEBshlrUATwGpAwRLAIH8B6h8YMAfH7n4BuM+BClLaQKyvsCgG\n",
       "+ojNxcVfAcjOR47HCpDW/2A2OLjUgdZHJKDpZAUGdQGazvQ1ILIfRDCD1HOD3MYCUtWMpNMAKNEA\n",
       "cy3En7t1wLL+IOt44f7k2gAk9BA6GYE62UEp8jnCShMIBQ44sO2IWIHHQALDcSDJ9AclVhgLoGkL\n",
       "GJ+xAqg6o+GqhPoLGfj0vwPDrhQuxgQL05SSuwYMqDo5BDCzBSL1sWGmfLhOpOQNA1wT8GRQsE4+\n",
       "LLkMnC/wlQrg/MmzE0SKYEg64isTWiEhthgUfOhu40wgUA4BAIqucMvg6uzRAAAAAElFTkSuQmCC\n",
       "\" style=\"display:inline;vertical-align:middle;\" /></a> <a class=\"ProveItLink\" href=\"../__pv_it/7ca9477fef548529366fd23572f1c875849610210/proof.ipynb\" style=\"text-decoration: none\">&#x22A2;&nbsp;</a><a class=\"ProveItLink\" href=\"../__pv_it/2749f54d069ba9188c5a2428ff910860dbf870e90/expr.ipynb\"><img src=\"data:image/png;base64,iVBORw0KGgoAAAANSUhEUgAAAFsAAAAVBAMAAADbSo+2AAAAMFBMVEX////c3NwiIiJERESqqqqY\n",
       "mJh2dnZmZmYQEBDu7u4yMjJUVFTMzMyIiIi6uroAAAAs73DqAAAAAXRSTlMAQObYZgAAAWFJREFU\n",
       "KM9jYCAR8F1AE2B9gE/5aRTeISCuwaaM8/L2UsYCBoaVKKLrgZgLm/KMAAa+igAGXhS3sOpPABIJ\n",
       "CDNhjFmaQCJfgIFjArJykXoBoJoGOJ8LJrsCxHjBwPAKxcoL90H+NEGEwwYIzf4FRIozMJShhNIE\n",
       "/wAglY4QyYVQ8gtA5BwGhqXIyucxnAd5xQvELlICAf0CsER9AFRFH9AmsATIfw8Y5AsgboQDL3As\n",
       "6AtAuf+gNA/QlTy7d+83ALLPI4f3CpD6/2D2BFTlfAwMHAvQlJ/KBJH9IILlAANDC5JyBwYGpgaY\n",
       "YyBuV7IEy+4HhSM7EJsilDMClXN9ALKjEIZ7QyhwCGQiB9oBhllAkvknSkAyLoDGNjDcn4O8+wgu\n",
       "Jdy/kIHV/hcwaNbBxZhhIXJ6dbkDiOYQwEx8iETAgy6HlJ5ggO0CnvS+EkNkFr7sIY0hshGfckZ0\n",
       "q3kP4FYMAAyoT/PLcj0EAAAAAElFTkSuQmCC\n",
       "\" style=\"display:inline;vertical-align:middle;\" /></a></span></td></tr>\n",
       "<tr><td>7</td><td>theorem</td><td></td><td><span style=\"font-size:20px;\"> <a class=\"ProveItLink\" href=\"../negation/_proofs_/closure.ipynb\" style=\"text-decoration: none\">&#x22A2;&nbsp;</a><a class=\"ProveItLink\" href=\"../negation/__pv_it/72b98988c14db13303ee78323c7b5433c84d23350/expr.ipynb\"><img src=\"data:image/png;base64,iVBORw0KGgoAAAANSUhEUgAAAJsAAAAVBAMAAACj9YEXAAAAMFBMVEX///8QEBC6urrMzMxUVFRm\n",
       "ZmZERETc3NwyMjKqqqp2dnaIiIiYmJgiIiLu7u4AAAAU9Wx4AAAAAXRSTlMAQObYZgAAAnlJREFU\n",
       "OMutVEtoE0EY/pI0SZNs1uJNJBhFUHxADt6kpGihCmIFycXn4mFjUWgOkiKiBqEUSm29CN7cSxUR\n",
       "ZMGTpy6C4uNSDxURg1tRCVZFegg9iPr/M7O7ea1e/OBj55/559v/MTPA/4X719WoLdkGLd/b+TFx\n",
       "kQcvw+T2KAYYJB5td0rPnV3LjQHxAnCPJ2bD5Ga7FueI/R1eiajd+GIBNaBKZtIIUcvYki2Jvqfq\n",
       "aFaXXCZPWi/oT7QcvxEiF3ElA1w8XQH0AWmsXK+/UXIp5zCwTH+6OzFxOSzX7YoB7AXuw5gYx2bc\n",
       "ILptlGGCwmqa5tswuWOKQafd2w595oVRdYNkB5+SkT4C7AfKYnKqW25G0ccHFLmUt4RRDmpX/72R\n",
       "vimq31boNVHkVVXs6elJR/mtl4zXGVz/PK5SBNjMi7rR2opHZEWppllkxO5PP7m4pROwrZUtym9V\n",
       "UVRqiDg8PMoiRZF4jv7htQLGDlr+QQfByYoaPFii8Zkr30ku/TVELkqNrnlyPOFHByMh5fSaOPYx\n",
       "2wSeiOZZO08pvw2K3m7qXHbAT3axU46TRXkfT/XhpDjWJFfKebU7r6jkkiTXTxHgmZg51CZHyWq8\n",
       "/6b4y3MsIGbJ6OJ7ld+8fygIBTR46y9/7ls+kNOOG/KgIMKt15dK427stWme49qlld9uRYnqpilo\n",
       "42u055qwk5MF7wlovjrId5n1Ne5EvIJiQR+S0flykYpkB7xLljogO+th2R/tAtY5GFHJXvIuvNV9\n",
       "3zkcu/cluu8NPjaRHH2Hz3lxjE0n/IFiNHqryevQijtUu1ZcUGzHSG+5vsq/nv6kLdn+ChZ6Oz8E\n",
       "/gA3Vqps4Em40QAAAABJRU5ErkJggg==\n",
       "\" style=\"display:inline;vertical-align:middle;\" /></a></span></td></tr>\n",
       "<tr><td>&nbsp;</td><td colspan=4 style-\"text-align:left\"><a class=\"ProveItLink\" href=\"../negation/_proofs_/closure.ipynb\">proveit.logic.boolean.negation.closure</a></td></tr><tr><td>8</td><td>theorem</td><td></td><td><span style=\"font-size:20px;\"> <a class=\"ProveItLink\" href=\"unfoldInBool.ipynb\" style=\"text-decoration: none\">&#x22A2;&nbsp;</a><a class=\"ProveItLink\" href=\"../__pv_it/f3e4ac83929f0bec3f4ece5ccac055d5592377730/expr.ipynb\"><img src=\"data:image/png;base64,iVBORw0KGgoAAAANSUhEUgAAAJsAAAAVBAMAAACj9YEXAAAAMFBMVEX///8QEBC6urrMzMxUVFRm\n",
       "ZmZERETc3NwyMjKqqqp2dnaIiIiYmJgiIiLu7u4AAAAU9Wx4AAAAAXRSTlMAQObYZgAAAjRJREFU\n",
       "OMutVD1oFEEUfrnNZu9n77RLGuUQu4ikCNdYeJiApddcZ0QtNoVFrjJISNgmCCn0mvRXKSLIgmUK\n",
       "l4ABE4SziEXQcILaRCQEPIUEdd7fTS7Z1RR58M3sft/stzNv3gzA6Ubn3/LoCelVQRtfNtLcnCp3\n",
       "7URa34zqjjGeIfEozS7Lk8/uYlumbw/ROgjVkHHfdN7tNLsV7t7+xnaix6z0DSJ1nYE/cptpduep\n",
       "9ZZ/YlfBZtvSEqx+YvhPZ2fn09wyIXWFwh4tqgGQq1lagtWhJqMbBFtpdm6Lusu5A+zQCi2VlmA1\n",
       "X2OYjEwT/TBhJ2JsS2VnH2ShFUtLiJoLGRehRHP391j2l5YWdfgAbWYGvB+6MdeUnvpoYsuqmbOM\n",
       "IhTo6y845Z36TYhaOxfE7gzZjU9Odum1KH9mGhWrOruMQlykKnqxaZ7vLnw3dvlvfXamGeFUNvPx\n",
       "MTtR1a4UjlN5RgHAa3yKWqO3dLFYQTmDd1wSYdHSYqeqLhamKR+DMMWlDVH9nOZuCB8eGDzm94kN\n",
       "S4udqn7IgGU6kG/gFTgtnp17RYbjzlO6ZvhUVbZ7NJ9Wq2qhwECE271Zn+k474PgHuYur2XcBu/O\n",
       "rwas/VnkwqkprSeip2bLDPDxz24Dro6Vqjy7nh0MH7lJOok02EMmccnsVwzXZbFzSq8nn5YE+rmA\n",
       "4nMXvBsf4GuZyjiIj1xQKffW4bMRSpb74onJXd9tUU20O04PNhj/ibkT0i8ZfwHwzaFeUWDKCQAA\n",
       "AABJRU5ErkJggg==\n",
       "\" style=\"display:inline;vertical-align:middle;\" /></a></span></td></tr>\n",
       "<tr><td>&nbsp;</td><td colspan=4 style-\"text-align:left\"><a class=\"ProveItLink\" href=\"unfoldInBool.ipynb\">proveit.logic.boolean.unfoldInBool</a></td></tr><tr><td>9</td><td>assumption</td><td></td><td><span style=\"font-size:20px;\"><a class=\"ProveItLink\" href=\"../__pv_it/1476e6741668a570a935371d1f30474b118f19fc0/expr.ipynb\"><img src=\"data:image/png;base64,iVBORw0KGgoAAAANSUhEUgAAAEkAAAAVBAMAAAD4Ed5jAAAAMFBMVEX///9ERETc3NyqqqpUVFS6\n",
       "urrMzMwyMjIQEBCIiIh2dnYiIiLu7u5mZmaYmJgAAABJJ2g3AAAAAXRSTlMAQObYZgAAAS5JREFU\n",
       "KM9jYGDgu8eAB7CtUgBRPLsY8AK2ZhDJ+QHK24Aqu/xjfcVGAyDjOojH1QARZf+AZohAJE/NKiC9\n",
       "AlnV6z8YqhimsqOpYrL9BJHkmb57dwFUlR3LAVRVnJxfIarS3yCZpYhmVgzzP4iZMggb2fbJwFTx\n",
       "go3nCWD7CZZjVICrit7/YwKQfg/iZASASFYGpr9guYPIrp9pCPL8BQaGlDawUIqLy0cwI2L3boTr\n",
       "GVkXABniD4DCCSAhoIHtEOXIZjEyCDAwcINUsoA0MgPxDrDcaQxVYHdxgWJGGYjrwXIsD5BVgWyE\n",
       "hwQPyDz5A2DPbkVS9XYiUngxSXxXYHj4vxYsqX4NHtvSLQbo8QgHJtUQP8IAdlXoAKyKj5AqcPri\n",
       "2UkgrbaCKb7FBNM9AKQsUzxrU6Y9AAAAAElFTkSuQmCC\n",
       "\" style=\"display:inline;vertical-align:middle;\" /></a> <a class=\"ProveItLink\" href=\"../__pv_it/02d3acaf2e8167eaa5bf12a0ab70bd0b652c35ca0/proof.ipynb\" style=\"text-decoration: none\">&#x22A2;&nbsp;</a><a class=\"ProveItLink\" href=\"../__pv_it/923805f01821a06014dd29c5f79c5e4c92605ad50/expr.ipynb\"><img src=\"data:image/png;base64,iVBORw0KGgoAAAANSUhEUgAAADYAAAAPBAMAAABdHiGLAAAAMFBMVEX///92dnYQEBBERERUVFS6\n",
       "urqIiIhmZmaqqqrc3Nzu7u6YmJgyMjIiIiLMzMwAAACFkkdwAAAAAXRSTlMAQObYZgAAANJJREFU\n",
       "GNNjYACBtwwogPG8zR9dCyjnPKocAzNrwpqFAmAm9/0FGHJsAQfAzBn1EyBiy87evQOV49jgBRZK\n",
       "yA8A03ynFyD0RRqAWKwL+jeAhSYvQJj5djOYs5ThfQJYyBJh393/amBWAMP8AhDNZYDslgwQj8/F\n",
       "xR9itu7du3C3MBgEgoQYGJjA7uVzQNLHYMAMZDQwMPAqgM28gC7HCZTj+QAW8kaRA5q5BsT+BRZa\n",
       "G4CQ4y4zYJisf5KB2/4P2KGcxx/AwvrzJQ+0MObwgbgTAgCMvTlc/0QYTQAAAABJRU5ErkJggg==\n",
       "\" style=\"display:inline;vertical-align:middle;\" /></a></span></td></tr>\n",
       "</table>"
      ],
      "text/plain": [
       "\tstep type\trequirements\tstatement\n",
       "0\tgeneralizaton\t1\t|- forall_{C} [forall_{A in BOOLEANS | A => C , [not](A) => C} C]\n",
       "1\tspecialization\t2, 9, 3, 4, 5, 6\t{A in BOOLEANS , A => C , [not](A) => C} |- C\n",
       "\tA : A, B : [not](A), C : C\n",
       "2\ttheorem\t\t|- forall_{A, B in BOOLEANS | A or B} [forall_{C | A => C , B => C} C]\n",
       "\tproveit.logic.boolean.disjunction.singularConstructiveDilemma\n",
       "3\tspecialization\t7, 9\t{A in BOOLEANS} |- [not](A) in BOOLEANS\n",
       "\tA : A\n",
       "4\tspecialization\t8, 9\t{A in BOOLEANS} |- A or [not](A)\n",
       "\tA : A\n",
       "5\tassumption\t\t{A => C} |- A => C\n",
       "6\tassumption\t\t{[not](A) => C} |- [not](A) => C\n",
       "7\ttheorem\t\t|- forall_{A in BOOLEANS} ([not](A) in BOOLEANS)\n",
       "\tproveit.logic.boolean.negation.closure\n",
       "8\ttheorem\t\t|- forall_{A in BOOLEANS} (A or [not](A))\n",
       "\tproveit.logic.boolean.unfoldInBool\n",
       "9\tassumption\t\t{A in BOOLEANS} |- A in BOOLEANS"
      ]
     },
     "execution_count": 7,
     "metadata": {},
     "output_type": "execute_result"
    }
   ],
   "source": [
    "%qed"
   ]
  },
  {
   "cell_type": "code",
   "execution_count": null,
   "metadata": {},
   "outputs": [],
   "source": []
  }
 ],
 "metadata": {
  "kernelspec": {
   "display_name": "Python 3",
   "language": "python",
   "name": "python3"
  }
 },
 "nbformat": 4,
 "nbformat_minor": 0
}
