{
 "cells": [
  {
   "cell_type": "markdown",
   "metadata": {
    "collapsed": true,
    "deletable": true,
    "editable": true
   },
   "source": [
    "Proof of <a class=\"ProveItLink\" href=\"../../../_context_.ipynb\">proveit</a>.<a class=\"ProveItLink\" href=\"../../_context_.ipynb\">logic</a>.<a class=\"ProveItLink\" href=\"../_context_.ipynb\">boolean</a>.<a class=\"ProveItLink\" href=\"../_theorems_.ipynb#forallBoolEvalFalseViaTF\">forallBoolEvalFalseViaTF</a> theorem\n",
    "========"
   ]
  },
  {
   "cell_type": "code",
   "execution_count": 1,
   "metadata": {
    "collapsed": true,
    "deletable": true,
    "editable": true
   },
   "outputs": [],
   "source": [
    "import proveit\n",
    "context = proveit.Context('..') # the theorem's context is in the parent directory"
   ]
  },
  {
   "cell_type": "code",
   "execution_count": 2,
   "metadata": {
    "collapsed": true,
    "deletable": true,
    "editable": true
   },
   "outputs": [
    {
     "name": "stdout",
     "output_type": "stream",
     "text": [
      "Beginning proof of forallBoolEvalFalseViaTF\n",
      "Recorded 'presuming' information\n"
     ]
    },
    {
     "name": "stdout",
     "output_type": "stream",
     "text": [
      "Presuming previous theorems (applied transitively).\n"
     ]
    },
    {
     "data": {
      "text/html": [
       "<strong id=\"forallBoolEvalFalseViaTF\">forallBoolEvalFalseViaTF:</strong> <a class=\"ProveItLink\" href=\"../__pv_it/bb94aa092f0cf06421cafe1311c6ff8586ca26ae0/expr.ipynb\"><img src=\"../__pv_it/bb94aa092f0cf06421cafe1311c6ff8586ca26ae0/expr.png\" style=\"display:inline;vertical-align:middle;\" /></a><br>(see <a class=\"ProveItLink\" href=\"../__pv_it/bb94aa092f0cf06421cafe1311c6ff8586ca26ae0/dependencies.ipynb\">dependencies</a>)<br>"
      ],
      "text/plain": [
       "forallBoolEvalFalseViaTF: forall_{P} (((P(TRUE) = TRUE) and (P(FALSE) = FALSE)) => ([forall_{A in BOOLEANS} P(A)] = FALSE))"
      ]
     },
     "execution_count": 2,
     "metadata": {},
     "output_type": "execute_result"
    }
   ],
   "source": [
    "%proving forallBoolEvalFalseViaTF presuming []"
   ]
  },
  {
   "cell_type": "code",
   "execution_count": 3,
   "metadata": {
    "collapsed": true,
    "deletable": true,
    "editable": true
   },
   "outputs": [],
   "source": []
  }
 ],
 "metadata": {
  "kernelspec": {
   "display_name": "Python 3",
   "language": "python",
   "name": "python3"
  },
  "language_info": {
   "codemirror_mode": {
    "name": "ipython",
    "version": 3
   },
   "file_extension": ".py",
   "mimetype": "text/x-python",
   "name": "python",
   "nbconvert_exporter": "python",
   "pygments_lexer": "ipython3",
   "version": "3.7.0"
  }
 },
 "nbformat": 4,
 "nbformat_minor": 0
}
