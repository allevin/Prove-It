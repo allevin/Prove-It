{
 "cells": [
  {
   "cell_type": "markdown",
   "metadata": {},
   "source": [
    "Proof of <a class=\"ProveItLink\" href=\"../../../_context_.ipynb\">proveit</a>.<a class=\"ProveItLink\" href=\"../../_context_.ipynb\">logic</a>.<a class=\"ProveItLink\" href=\"../_context_.ipynb\">boolean</a>.<a class=\"ProveItLink\" href=\"../_theorems_.ipynb#forallBoolEvalFalseViaTF\">forallBoolEvalFalseViaTF</a> theorem\n",
    "========"
   ]
  },
  {
   "cell_type": "code",
   "execution_count": 1,
   "metadata": {},
   "outputs": [],
   "source": [
    "import proveit\n",
    "context = proveit.Context('..') # the theorem's context is in the parent directory"
   ]
  },
  {
   "cell_type": "code",
   "execution_count": 2,
   "metadata": {},
   "outputs": [
    {
     "name": "stdout",
     "output_type": "stream",
     "text": [
      "Beginning proof of forallBoolEvalFalseViaTF\n",
      "Recorded 'presuming' information\n",
      "Presuming previous theorems (applied transitively).\n"
     ]
    },
    {
     "data": {
      "text/html": [
       "<strong id=\"forallBoolEvalFalseViaTF\">forallBoolEvalFalseViaTF:</strong> <a class=\"ProveItLink\" href=\"../__pv_it/71eb6e3b38099a0e7e79859fade8b175c18efbc40/expr.ipynb\"><img src=\"data:image/png;base64,iVBORw0KGgoAAAANSUhEUgAAAgkAAAAVBAMAAAA+x2ACAAAAMFBMVEX///8QEBC6urrMzMxUVFRm\n",
       "ZmZERETc3NwyMjKqqqp2dnaIiIiYmJgiIiLu7u4AAAAU9Wx4AAAAAXRSTlMAQObYZgAABUlJREFU\n",
       "WMPtWF9oW1UY/5K0SXrvzW3xZYgwryAoDKEPOkSpCTUwUaSR2k2HY9GHFGGaPJQGKWIUQR90y4PC\n",
       "3paXutniCM75ssHinkoGLoJOkXVrRSEv09J1Yxa3ec53zrn3nJv7tVFfPfA1+77fPef7fb97/t0B\n",
       "/N9YW4mIxZuBmVHRHI8arRfZRXjnSUbnSXQX2D891V9ZBlnnY2+bXB3uXDCxRzX76m4+/31FRAeX\n",
       "sRVhMjwaiSRyAPbERv75PcoDmMMeoxGkfCQSZb0tL4OVNaOL0sliG2PGKFneNrk+585h84HDmsEt\n",
       "gOQO/6FEgf9NR3E0kJScY2n+O1wDeLWiPHgMkVrEGAEShbLelmfV/XEimkkW4IigFKWCkWuWUy4a\n",
       "uN0MDBKbAEObMqpqdRqUCgpJF8TvGf4ny4LHGsqT+dukCm0TddU/zvBykOssIUKILDhXV5ASrYLM\n",
       "xWUdrBt4bCUwsNfZODdkVNXqjlAqKGT3FfG7k/85x0hcLChP5l8lVVg1Uf/F78SXyt/yy4QKIbLw\n",
       "1sEKUqJVkLmc49Xq2yb+sGaQXAMY+FN5slZ4nVJBIePitcdxZpeZTdSVJ/Mn6xQzjmhoPAf+WKyc\n",
       "drVa7RAqhMhCk+vPKNEqqFw3S6WfTXy/Zrim/ygqT9U6T6ogELeWEbtmQ65W96bvyfxWgWLGER1d\n",
       "BH8sVs5wqfRGg1AhRDa+cqyFlGgVVK6nAabZaipPvTgt8Y8042s68YOK+rUeRVofYstBDwJWS6yy\n",
       "dEuu1rGC8lT+IZwYL+EQ7xvMOCLQA3jyXBUj896snIFRSOIxkK70VBYi+wtkm0hJqLBVrgfZi2Pu\n",
       "NwBfSPwezeDcswv7Kyrq1/oAORcEkoEUlhHj6e2Nhfnjvqfyx0eo98MRAz3qqd6sHLZAuhi9KF/w\n",
       "0okTr8gHQ2Q9eKeAlOi5oHJlwOavKM+GldvQumZQVnvTul5rllRBIBdwjrEpytMn76gJq6uQWKOY\n",
       "ccRA3Xc92ZuX04GzGDzIaLunp1q25X4pqzTJJvL5iSJSolVQuexWhve9DPAMRKhwG/6NClfkvQXr\n",
       "Hu78RxUePwmaCmcBzx/rGkv49UO/r9gWnBRLLUQ2zuZPrU8V3Brn614H50eJ36tZ4gZoUXPe+xfG\n",
       "HmSoIJdtjO8OWbXTxeo9K0Ks/EvEihDo8pt+b15OV9xAn0wWweEj21b8tJgDIbLs+cyItiK2zDU9\n",
       "zr3NBbW44JBm9roe9WtdIufCktq4uBKQbMnrgjiW9N3RqVHvhyM6+knQm5eTnMHxcoMdcVO1B1+4\n",
       "HFwXArIppkJ6DSnRc8HP9SmfsJaWdV4zf03LI7C/k3I3yC8UPPD81SqPv394UqZqQW9eztABpF+3\n",
       "1+AJrN2CSXFVNMl2VaSfkxJifIikxumRwH4rbzS1KKtVHNXvRaigIePq8hzvgLv37nPq/tPBafkd\n",
       "Tst0mJmBaGiyEvTGcu7j3rWpvXdgrFQqNZkKDcxtkp29/wNwyrcKnJK1fS4HP3i0m1ysEpgZ9Tft\n",
       "EeqLViCe3JwAdhio7q2SX8WhG3RC643lfMudfZC4Dr/KudAIX6NCZC2vv1xZrRv/IlJmRlWzmtSo\n",
       "YaRNeoukCosE2tY+DuNsk/gLBipChX1hPiGytApGLuvIJPVlbURl65IVdHu/hqM9t0ZOpxqB4pe1\n",
       "fIZdBGZut9zX8Nb02aGeZ02ypApkLtZmNDOjsu0hVQgjqRzhDVSoITgSiaZyPeVYbF8gSwgokSqQ\n",
       "uXi6ZmBmVJ5Io1QFvcgc4Z0ihTxFonNgL4/29z9uBll72ds619/MdcPqcoyY4AAAAABJRU5ErkJg\n",
       "gg==\n",
       "\" style=\"display:inline;vertical-align:middle;\" /></a><br>(see <a class=\"ProveItLink\" href=\"../__pv_it/71eb6e3b38099a0e7e79859fade8b175c18efbc40/dependencies.ipynb\">dependencies</a>)<br>"
      ],
      "text/plain": [
       "forallBoolEvalFalseViaTF: forall_{P} (((P(TRUE) = TRUE) and (P(FALSE) = FALSE)) => ([forall_{A in BOOLEANS} P(A)] = FALSE))"
      ]
     },
     "execution_count": 2,
     "metadata": {},
     "output_type": "execute_result"
    }
   ],
   "source": [
    "%proving forallBoolEvalFalseViaTF presuming []"
   ]
  },
  {
   "cell_type": "code",
   "execution_count": null,
   "metadata": {},
   "outputs": [],
   "source": []
  }
 ],
 "metadata": {
  "kernelspec": {
   "display_name": "Python 3",
   "language": "python",
   "name": "python3"
  }
 },
 "nbformat": 4,
 "nbformat_minor": 0
}
