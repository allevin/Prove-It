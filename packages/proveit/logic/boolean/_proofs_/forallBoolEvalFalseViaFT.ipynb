{
 "cells": [
  {
   "cell_type": "markdown",
   "metadata": {},
   "source": [
    "Proof of <a class=\"ProveItLink\" href=\"../../../_context_.ipynb\">proveit</a>.<a class=\"ProveItLink\" href=\"../../_context_.ipynb\">logic</a>.<a class=\"ProveItLink\" href=\"../_context_.ipynb\">boolean</a>.<a class=\"ProveItLink\" href=\"../_theorems_.ipynb#forallBoolEvalFalseViaFT\">forallBoolEvalFalseViaFT</a> theorem\n",
    "========"
   ]
  },
  {
   "cell_type": "code",
   "execution_count": 1,
   "metadata": {},
   "outputs": [],
   "source": [
    "import proveit\n",
    "context = proveit.Context('..') # the theorem's context is in the parent directory"
   ]
  },
  {
   "cell_type": "code",
   "execution_count": 2,
   "metadata": {},
   "outputs": [
    {
     "name": "stdout",
     "output_type": "stream",
     "text": [
      "Beginning proof of forallBoolEvalFalseViaFT\n",
      "Recorded 'presuming' information\n"
     ]
    },
    {
     "name": "stdout",
     "output_type": "stream",
     "text": [
      "Presuming previous theorems (applied transitively).\n"
     ]
    },
    {
     "data": {
      "text/html": [
       "<strong id=\"forallBoolEvalFalseViaFT\">forallBoolEvalFalseViaFT:</strong> <a class=\"ProveItLink\" href=\"../__pv_it/cd01592e20af6820e6d9808a36763cf060c3f4930/expr.ipynb\"><img src=\"data:image/png;base64,iVBORw0KGgoAAAANSUhEUgAAAgkAAAAVBAMAAAA+x2ACAAAAMFBMVEX///8QEBC6urrMzMxUVFRm\n",
       "ZmZERETc3NwyMjKqqqp2dnaIiIiYmJgiIiLu7u4AAAAU9Wx4AAAAAXRSTlMAQObYZgAABVxJREFU\n",
       "WMPtWE1oXFUUPjOT+cl7k5fgpohYRxAUipBFLVKJGeJARZGMxLRaLI1dTBCqmUVIkCCOIuhC21ko\n",
       "dNfZxNYEy2CtmxY6dhVSsCP4hzRtIgrZVEOalhps6z3n3vveve+9E0fdeuHMzLnfu/d857u/bwD+\n",
       "L6Isx9Qlm4HZtbLkC1xvUWQH411gGV1g0R3g/vhkZ2lZZPMfFv4mVhudiza207Av7pZK31ZlbXqJ\n",
       "yhiMxHSYpbhhJFUEcIc3Ss/t0R7ADH6k+8MdHKDOvyckisrWTqGHMmvGJ2WSpTIgKTkxKvgs0D5F\n",
       "54j9wBHD4BZAZpv/UKqMn7k4jhaSVXMsh9+9NYBXqtqDxwipxfQRIHGoaO0UnLrfT0yxyQIclZTi\n",
       "VLBiTSHlMQt3m4FBahOge1PV6lzzDU4FjeTK8vssfgyKyuMN7an4i6wKizbq6R9nMR3iOsWIECIL\n",
       "+avLRIlXQcVCWdN1C08sBwbuuujnhqrVuXp9nAoa2XVFfm/Hj/OCxKWy9lT8FVaFFRv1B347DSqO\n",
       "8kuMCiGy8MbBKlHiVVCx8iemp9+08UcMg8waQNcf2lO5wqucChoZksOepJk9IWy4rj0VP1PnmCFi\n",
       "oMki+H2JdBanp6fbjAohstBE/QUlXgUd62al8pON7zeM1vTvY9rTuc6yKkjEq9EuBumGWq3eTd9T\n",
       "8Z0yxwwRE50Hvy+RTm+l8lqDUSFENrl8vEWUeBV0rKcAxsVqmhh9YVzhHxiGazr1na71cz1GtN6n\n",
       "UoQIAk5LrrJcS63WgbL2dPxumhgvUhfvWswQkag8Nq7KnrG1SKerHzJ0DOSqkcxCZH+GwSZRkips\n",
       "FeshMXDC/QrgM4XfYxicf2Zuf1XX+rk+yM4FifRAltJIYHh3Y272hO/p+Mk+bnwQsdBjBd1apCMW\n",
       "yCrVXlIDvHDy5MvqwRDZArxVJkr8XNCxesDFISqJbtU2tG4YTOi9ad3MdZBVQSIXaY6JKYrhM3f0\n",
       "hDVVSK1xzBCxUO/tgmqN6bThHFUeFLS9M6Mt1/E+V1naZFOl0vAYUeJV0LHcVg+2vQzwNMSocBv+\n",
       "jQpX1L2F8u5t/0cVHj8FhgrngM4f55oI+OXDvy27DpySSy1ENinmT61DFbwa8vWuQ/4Hhd9rWOoG\n",
       "GLX2vPevkhGku6yWbQJ3h0G90yXqkRWhL4zxK0KiS6/7rTGdVXkDfSIzBnns2XWSZ+QcCJEVz/f0\n",
       "GStiy1jjQ+htzunFBYcNc9fNWj/XBXYuLOiNC5WATEtdF+SxZO6O+Ro3PoiY6EdBa0wnM0n9FdNt\n",
       "eVN1089fDq4LAdmsUCG3RpT4ueDH+hgnrGNEnTXMX9PqCOzspNwF6g2FDjx/tarj7x+elNla0BrT\n",
       "6T5A9OvuGuym3B0YkVdFm+yqrunkpIQEdpExOD0a2K8TG02jVuQqj+p3Ql3i4rifFgchQ/rynGyD\n",
       "t/fus/r+06Zp+Q1Ny1wMs93ySCxYaKYatKZ07kPv2ujeOzBQqVSaQoUGsbLJTj3wHuQnbpWRUkQF\n",
       "iwXFytMLj3GTS1QDs2v9TbuPe6OVSEFtTgDbLNT0Vti34tANOmW0pnS+RmcfpK7DL2ouNMLXqBBZ\n",
       "p9BZrEGjGb4RabNrdXGaXK9hZJH15lkV5hl00Xg5TIpN4k/oqkoV9oX5hMjyKlixnKMj3Ju1VavK\n",
       "KpvBavRtON7zaux0qjEovVmrZ8RFYPJ2yztEt6ZPDkeetcmyKrCxRJk0zK5VZQ+rQhjJFhmvq8p1\n",
       "gUgsmi1G0nHEvsCmEFBiVWBjqb+NtIX/TKKV2M9lEEVmGO80K+RpFp0Bd6m/s3/cLLLuUmHrWH8B\n",
       "DTfDCVOCltwAAAAASUVORK5CYII=\n",
       "\" style=\"display:inline;vertical-align:middle;\" /></a><br>(see <a class=\"ProveItLink\" href=\"../__pv_it/cd01592e20af6820e6d9808a36763cf060c3f4930/dependencies.ipynb\">dependencies</a>)<br>"
      ],
      "text/plain": [
       "forallBoolEvalFalseViaFT: forall_{P} (((P(TRUE) = FALSE) and (P(FALSE) = TRUE)) => ([forall_{A in BOOLEANS} P(A)] = FALSE))"
      ]
     },
     "execution_count": 2,
     "metadata": {},
     "output_type": "execute_result"
    }
   ],
   "source": [
    "%proving forallBoolEvalFalseViaFT presuming []"
   ]
  },
  {
   "cell_type": "code",
   "execution_count": null,
   "metadata": {},
   "outputs": [],
   "source": []
  }
 ],
 "metadata": {
  "kernelspec": {
   "display_name": "Python 3",
   "language": "python",
   "name": "python3"
  }
 },
 "nbformat": 4,
 "nbformat_minor": 0
}
