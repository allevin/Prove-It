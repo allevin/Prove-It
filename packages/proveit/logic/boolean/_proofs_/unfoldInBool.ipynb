{
 "cells": [
  {
   "cell_type": "markdown",
   "metadata": {
    "collapsed": true,
    "deletable": true,
    "editable": true
   },
   "source": [
    "Proof of <a class=\"ProveItLink\" href=\"../../../_context_.ipynb\">proveit</a>.<a class=\"ProveItLink\" href=\"../../_context_.ipynb\">logic</a>.<a class=\"ProveItLink\" href=\"../_context_.ipynb\">boolean</a>.<a class=\"ProveItLink\" href=\"../_theorems_.ipynb#unfoldInBool\">unfoldInBool</a> theorem\n",
    "========"
   ]
  },
  {
   "cell_type": "code",
   "execution_count": 1,
   "metadata": {
    "collapsed": true,
    "deletable": true,
    "editable": true
   },
   "outputs": [],
   "source": [
    "import proveit\n",
    "from proveit import defaults\n",
    "from proveit.logic.boolean._theorems_ import unfoldInBoolExplicit\n",
    "from proveit.logic.boolean.negation._theorems_ import closure\n",
    "negClosure = closure\n",
    "from proveit.logic.boolean.disjunction._theorems_ import constructiveDilemma\n",
    "context = proveit.Context('..') # the theorem's context is in the parent directory"
   ]
  },
  {
   "cell_type": "code",
   "execution_count": 2,
   "metadata": {
    "collapsed": false,
    "deletable": true,
    "editable": true
   },
   "outputs": [
    {
     "name": "stdout",
     "output_type": "stream",
     "text": [
      "Beginning proof of unfoldInBool\n",
      "Recorded 'presuming' information\n",
      "Presuming proveit.logic.boolean.disjunction.constructiveDilemma, proveit.logic.boolean.negation.closure theorem(s) (and any of their dependencies).\n",
      "Presuming previous theorem(s) in this context (and any of their dependencies).\n"
     ]
    },
    {
     "data": {
      "text/html": [
       "<strong id=\"unfoldInBool\">unfoldInBool:</strong> <a class=\"ProveItLink\" href=\"../__pv_it/4fb5bc72bb793d3fe0bbf07e51b7bad308e903a40/expr.ipynb\"><img src=\"../__pv_it/4fb5bc72bb793d3fe0bbf07e51b7bad308e903a40/expr.png\" style=\"display:inline;vertical-align:middle;\" /></a><br>(see <a class=\"ProveItLink\" href=\"../__pv_it/4fb5bc72bb793d3fe0bbf07e51b7bad308e903a40/dependencies.ipynb\">dependencies</a>)<br>"
      ],
      "text/plain": [
       "unfoldInBool: forall_{A in BOOLEANS} (A or [not](A))"
      ]
     },
     "execution_count": 2,
     "metadata": {},
     "output_type": "execute_result"
    }
   ],
   "source": [
    "%proving unfoldInBool presuming [negClosure, constructiveDilemma]"
   ]
  },
  {
   "cell_type": "code",
   "execution_count": 3,
   "metadata": {
    "collapsed": false,
    "deletable": true,
    "editable": true
   },
   "outputs": [
    {
     "data": {
      "text/html": [
       "<strong id=\"defaults.assumptions\">defaults.assumptions:</strong> <a class=\"ProveItLink\" href=\"../__pv_it/e3dccca28d4aa81eddfb38c9a8ab6b6bbe722b9e0/expr.ipynb\"><img src=\"../__pv_it/e3dccca28d4aa81eddfb38c9a8ab6b6bbe722b9e0/expr.png\" style=\"display:inline;vertical-align:middle;\" /></a><br>"
      ],
      "text/plain": [
       "defaults.assumptions: (A in BOOLEANS)"
      ]
     },
     "execution_count": 3,
     "metadata": {},
     "output_type": "execute_result"
    }
   ],
   "source": [
    "defaults.assumptions = unfoldInBool.conditions"
   ]
  },
  {
   "cell_type": "code",
   "execution_count": 4,
   "metadata": {
    "collapsed": false,
    "deletable": true,
    "editable": true
   },
   "outputs": [
    {
     "data": {
      "text/html": [
       "<span style=\"font-size:20px;\"> &#x22A2;&nbsp;<a class=\"ProveItLink\" href=\"../__pv_it/1979d13edd9c0543cc94aa76a589e0cb6645ed2a0/expr.ipynb\"><img src=\"../__pv_it/1979d13edd9c0543cc94aa76a589e0cb6645ed2a0/expr.png\" style=\"display:inline;vertical-align:middle;\" /></a></span>"
      ],
      "text/plain": [
       "|= forall_{A in BOOLEANS} ((A = TRUE) or (A = FALSE))"
      ]
     },
     "execution_count": 4,
     "metadata": {},
     "output_type": "execute_result"
    }
   ],
   "source": [
    "unfoldInBoolExplicit"
   ]
  },
  {
   "cell_type": "code",
   "execution_count": 5,
   "metadata": {
    "collapsed": false,
    "deletable": true,
    "editable": true
   },
   "outputs": [
    {
     "data": {
      "text/html": [
       "<strong id=\"explicitForm\">explicitForm:</strong> <span style=\"font-size:20px;\"><a class=\"ProveItLink\" href=\"../__pv_it/a54570eacc2cdfc354a22076eb1ab1c1fc77fd870/expr.ipynb\"><img src=\"../__pv_it/a54570eacc2cdfc354a22076eb1ab1c1fc77fd870/expr.png\" style=\"display:inline;vertical-align:middle;\" /></a> &#x22A2;&nbsp;<a class=\"ProveItLink\" href=\"../__pv_it/1c6a94bc3b8eaae2e256f029ad0abda795dee51e0/expr.ipynb\"><img src=\"../__pv_it/1c6a94bc3b8eaae2e256f029ad0abda795dee51e0/expr.png\" style=\"display:inline;vertical-align:middle;\" /></a></span><br>"
      ],
      "text/plain": [
       "explicitForm: {A in BOOLEANS} |= (A = TRUE) or (A = FALSE)"
      ]
     },
     "execution_count": 5,
     "metadata": {},
     "output_type": "execute_result"
    }
   ],
   "source": [
    "explicitForm = unfoldInBoolExplicit.specialize()"
   ]
  },
  {
   "cell_type": "code",
   "execution_count": 6,
   "metadata": {
    "collapsed": false,
    "deletable": true,
    "editable": true
   },
   "outputs": [
    {
     "data": {
      "text/html": [
       "<span style=\"font-size:20px;\"><a class=\"ProveItLink\" href=\"../__pv_it/a54570eacc2cdfc354a22076eb1ab1c1fc77fd870/expr.ipynb\"><img src=\"../__pv_it/a54570eacc2cdfc354a22076eb1ab1c1fc77fd870/expr.png\" style=\"display:inline;vertical-align:middle;\" /></a> &#x22A2;&nbsp;<a class=\"ProveItLink\" href=\"../__pv_it/5e0f1fecc33243e3f89e2f824cc9ebed175239310/expr.ipynb\"><img src=\"../__pv_it/5e0f1fecc33243e3f89e2f824cc9ebed175239310/expr.png\" style=\"display:inline;vertical-align:middle;\" /></a></span>"
      ],
      "text/plain": [
       "{A in BOOLEANS} |= A or [not](A)"
      ]
     },
     "execution_count": 6,
     "metadata": {},
     "output_type": "execute_result"
    }
   ],
   "source": [
    "explicitForm.deriveViaMultiDilemma(unfoldInBool.instanceExpr)"
   ]
  },
  {
   "cell_type": "code",
   "execution_count": 7,
   "metadata": {
    "collapsed": false,
    "deletable": true,
    "editable": true
   },
   "outputs": [
    {
     "data": {
      "text/html": [
       "<table><tr><th>&nbsp;</th><th>step type</th><th>requirements</th><th>statement</th></tr>\n",
       "<tr><td>0</td><td>generalizaton</td><td>1</td><td><span style=\"font-size:20px;\"> &#x22A2;&nbsp;<a class=\"ProveItLink\" href=\"../__pv_it/4fb5bc72bb793d3fe0bbf07e51b7bad308e903a40/expr.ipynb\"><img src=\"../__pv_it/4fb5bc72bb793d3fe0bbf07e51b7bad308e903a40/expr.png\" style=\"display:inline;vertical-align:middle;\" /></a></span></td></tr>\n",
       "<tr><td>1</td><td>specialization</td><td>2, 3, 4, 21, 5, 15, 6, 7</td><td><span style=\"font-size:20px;\"><a class=\"ProveItLink\" href=\"../__pv_it/a54570eacc2cdfc354a22076eb1ab1c1fc77fd870/expr.ipynb\"><img src=\"../__pv_it/a54570eacc2cdfc354a22076eb1ab1c1fc77fd870/expr.png\" style=\"display:inline;vertical-align:middle;\" /></a> &#x22A2;&nbsp;<a class=\"ProveItLink\" href=\"../__pv_it/5e0f1fecc33243e3f89e2f824cc9ebed175239310/expr.ipynb\"><img src=\"../__pv_it/5e0f1fecc33243e3f89e2f824cc9ebed175239310/expr.png\" style=\"display:inline;vertical-align:middle;\" /></a></span></td></tr>\n",
       "<tr><td>&nbsp;</td><td colspan=4 style=\"text-align:left\"><span style=\"font-size:20px;\"><a class=\"ProveItLink\" href=\"../__pv_it/9f8752f58d996398eb4ed5a0b97a7a837f5125530/expr.ipynb\"><img src=\"../__pv_it/9f8752f58d996398eb4ed5a0b97a7a837f5125530/expr.png\" style=\"display:inline;vertical-align:middle;\" /></a>, <a class=\"ProveItLink\" href=\"../__pv_it/7a64539ec999f968d57e268ef098d2b879350d790/expr.ipynb\"><img src=\"../__pv_it/7a64539ec999f968d57e268ef098d2b879350d790/expr.png\" style=\"display:inline;vertical-align:middle;\" /></a>, <a class=\"ProveItLink\" href=\"../__pv_it/f5bda95417ce7ad57302047628c0ad6b31a6cea00/expr.ipynb\"><img src=\"../__pv_it/f5bda95417ce7ad57302047628c0ad6b31a6cea00/expr.png\" style=\"display:inline;vertical-align:middle;\" /></a>, <a class=\"ProveItLink\" href=\"../__pv_it/232f3f2f88d10ce1b2130daa3a6efed3348db7eb0/expr.ipynb\"><img src=\"../__pv_it/232f3f2f88d10ce1b2130daa3a6efed3348db7eb0/expr.png\" style=\"display:inline;vertical-align:middle;\" /></a></span></td></tr><tr><td>2</td><td>theorem</td><td></td><td><span style=\"font-size:20px;\"> &#x22A2;&nbsp;<a class=\"ProveItLink\" href=\"../disjunction/__pv_it/9a082ebbf13415ad7005d8649b68a4c58660aa360/expr.ipynb\"><img src=\"../disjunction/__pv_it/9a082ebbf13415ad7005d8649b68a4c58660aa360/expr.png\" style=\"display:inline;vertical-align:middle;\" /></a></span></td></tr>\n",
       "<tr><td>&nbsp;</td><td colspan=4 style-\"text-align:left\"><a class=\"ProveItLink\" href=\"../disjunction/_proofs_/constructiveDilemma.ipynb\">proveit.logic.boolean.disjunction.constructiveDilemma</a></td></tr><tr><td>3</td><td>specialization</td><td>8, 10</td><td><span style=\"font-size:20px;\"><a class=\"ProveItLink\" href=\"../__pv_it/a54570eacc2cdfc354a22076eb1ab1c1fc77fd870/expr.ipynb\"><img src=\"../__pv_it/a54570eacc2cdfc354a22076eb1ab1c1fc77fd870/expr.png\" style=\"display:inline;vertical-align:middle;\" /></a> &#x22A2;&nbsp;<a class=\"ProveItLink\" href=\"../__pv_it/5ca53fe37cfb7ea87b7d26b5ecf99bf0b67fb0a40/expr.ipynb\"><img src=\"../__pv_it/5ca53fe37cfb7ea87b7d26b5ecf99bf0b67fb0a40/expr.png\" style=\"display:inline;vertical-align:middle;\" /></a></span></td></tr>\n",
       "<tr><td>&nbsp;</td><td colspan=4 style=\"text-align:left\"><span style=\"font-size:20px;\"><a class=\"ProveItLink\" href=\"../__pv_it/9f8752f58d996398eb4ed5a0b97a7a837f5125530/expr.ipynb\"><img src=\"../__pv_it/9f8752f58d996398eb4ed5a0b97a7a837f5125530/expr.png\" style=\"display:inline;vertical-align:middle;\" /></a>, <a class=\"ProveItLink\" href=\"../__pv_it/7a64539ec999f968d57e268ef098d2b879350d790/expr.ipynb\"><img src=\"../__pv_it/7a64539ec999f968d57e268ef098d2b879350d790/expr.png\" style=\"display:inline;vertical-align:middle;\" /></a></span></td></tr><tr><td>4</td><td>specialization</td><td>9, 10</td><td><span style=\"font-size:20px;\"><a class=\"ProveItLink\" href=\"../__pv_it/a54570eacc2cdfc354a22076eb1ab1c1fc77fd870/expr.ipynb\"><img src=\"../__pv_it/a54570eacc2cdfc354a22076eb1ab1c1fc77fd870/expr.png\" style=\"display:inline;vertical-align:middle;\" /></a> &#x22A2;&nbsp;<a class=\"ProveItLink\" href=\"../__pv_it/09cb06ded97cbf2ae8e1775da02f1688a100142d0/expr.ipynb\"><img src=\"../__pv_it/09cb06ded97cbf2ae8e1775da02f1688a100142d0/expr.png\" style=\"display:inline;vertical-align:middle;\" /></a></span></td></tr>\n",
       "<tr><td>&nbsp;</td><td colspan=4 style=\"text-align:left\"><span style=\"font-size:20px;\"><a class=\"ProveItLink\" href=\"../__pv_it/9f8752f58d996398eb4ed5a0b97a7a837f5125530/expr.ipynb\"><img src=\"../__pv_it/9f8752f58d996398eb4ed5a0b97a7a837f5125530/expr.png\" style=\"display:inline;vertical-align:middle;\" /></a>, <a class=\"ProveItLink\" href=\"../__pv_it/7a64539ec999f968d57e268ef098d2b879350d790/expr.ipynb\"><img src=\"../__pv_it/7a64539ec999f968d57e268ef098d2b879350d790/expr.png\" style=\"display:inline;vertical-align:middle;\" /></a></span></td></tr><tr><td>5</td><td>specialization</td><td>11, 21</td><td><span style=\"font-size:20px;\"><a class=\"ProveItLink\" href=\"../__pv_it/a54570eacc2cdfc354a22076eb1ab1c1fc77fd870/expr.ipynb\"><img src=\"../__pv_it/a54570eacc2cdfc354a22076eb1ab1c1fc77fd870/expr.png\" style=\"display:inline;vertical-align:middle;\" /></a> &#x22A2;&nbsp;<a class=\"ProveItLink\" href=\"../__pv_it/d6a86d88df256144550e1447bc2740af10be4b810/expr.ipynb\"><img src=\"../__pv_it/d6a86d88df256144550e1447bc2740af10be4b810/expr.png\" style=\"display:inline;vertical-align:middle;\" /></a></span></td></tr>\n",
       "<tr><td>&nbsp;</td><td colspan=4 style=\"text-align:left\"><span style=\"font-size:20px;\"><a class=\"ProveItLink\" href=\"../__pv_it/e2ee195baea449ecf67452694c66cbd67b2c19580/expr.ipynb\"><img src=\"../__pv_it/e2ee195baea449ecf67452694c66cbd67b2c19580/expr.png\" style=\"display:inline;vertical-align:middle;\" /></a></span></td></tr><tr><td>6</td><td>hypothetical reasoning</td><td>12</td><td><span style=\"font-size:20px;\"> &#x22A2;&nbsp;<a class=\"ProveItLink\" href=\"../__pv_it/b87b5eda8346ede61ae3ac7279837b3e3d314d390/expr.ipynb\"><img src=\"../__pv_it/b87b5eda8346ede61ae3ac7279837b3e3d314d390/expr.png\" style=\"display:inline;vertical-align:middle;\" /></a></span></td></tr>\n",
       "<tr><td>7</td><td>hypothetical reasoning</td><td>13</td><td><span style=\"font-size:20px;\"> &#x22A2;&nbsp;<a class=\"ProveItLink\" href=\"../__pv_it/7bc5bb1c4722d31d84ce94c5bca0834451ba32430/expr.ipynb\"><img src=\"../__pv_it/7bc5bb1c4722d31d84ce94c5bca0834451ba32430/expr.png\" style=\"display:inline;vertical-align:middle;\" /></a></span></td></tr>\n",
       "<tr><td>8</td><td>axiom</td><td></td><td><span style=\"font-size:20px;\"> &#x22A2;&nbsp;<a class=\"ProveItLink\" href=\"../disjunction/__pv_it/bde50ad9e36b4ffca0348858851f2ab49dd462d80/expr.ipynb\"><img src=\"../disjunction/__pv_it/bde50ad9e36b4ffca0348858851f2ab49dd462d80/expr.png\" style=\"display:inline;vertical-align:middle;\" /></a></span></td></tr>\n",
       "<tr><td>&nbsp;</td><td colspan=4 style-\"text-align:left\"><a class=\"ProveItLink\" href=\"../disjunction/_axioms_.ipynb#leftInBool\">proveit.logic.boolean.disjunction.leftInBool</a></td></tr><tr><td>9</td><td>axiom</td><td></td><td><span style=\"font-size:20px;\"> &#x22A2;&nbsp;<a class=\"ProveItLink\" href=\"../disjunction/__pv_it/30c52e2f6bddaee0007f0657eafd92263e83474d0/expr.ipynb\"><img src=\"../disjunction/__pv_it/30c52e2f6bddaee0007f0657eafd92263e83474d0/expr.png\" style=\"display:inline;vertical-align:middle;\" /></a></span></td></tr>\n",
       "<tr><td>&nbsp;</td><td colspan=4 style-\"text-align:left\"><a class=\"ProveItLink\" href=\"../disjunction/_axioms_.ipynb#rightInBool\">proveit.logic.boolean.disjunction.rightInBool</a></td></tr><tr><td>10</td><td>specialization</td><td>14, 15</td><td><span style=\"font-size:20px;\"><a class=\"ProveItLink\" href=\"../__pv_it/a54570eacc2cdfc354a22076eb1ab1c1fc77fd870/expr.ipynb\"><img src=\"../__pv_it/a54570eacc2cdfc354a22076eb1ab1c1fc77fd870/expr.png\" style=\"display:inline;vertical-align:middle;\" /></a> &#x22A2;&nbsp;<a class=\"ProveItLink\" href=\"../__pv_it/acfa95754aa4e7a3cca1048a9ae5b99f8b0ab9d30/expr.ipynb\"><img src=\"../__pv_it/acfa95754aa4e7a3cca1048a9ae5b99f8b0ab9d30/expr.png\" style=\"display:inline;vertical-align:middle;\" /></a></span></td></tr>\n",
       "<tr><td>&nbsp;</td><td colspan=4 style=\"text-align:left\"><span style=\"font-size:20px;\"><a class=\"ProveItLink\" href=\"../__pv_it/3972f74df33eda9f86acddf811714f3cdf9550c20/expr.ipynb\"><img src=\"../__pv_it/3972f74df33eda9f86acddf811714f3cdf9550c20/expr.png\" style=\"display:inline;vertical-align:middle;\" /></a></span></td></tr><tr><td>11</td><td>theorem</td><td></td><td><span style=\"font-size:20px;\"> &#x22A2;&nbsp;<a class=\"ProveItLink\" href=\"../negation/__pv_it/2bf039a75462a829870dcf59b07f81bfb03962800/expr.ipynb\"><img src=\"../negation/__pv_it/2bf039a75462a829870dcf59b07f81bfb03962800/expr.png\" style=\"display:inline;vertical-align:middle;\" /></a></span></td></tr>\n",
       "<tr><td>&nbsp;</td><td colspan=4 style-\"text-align:left\"><a class=\"ProveItLink\" href=\"../negation/_proofs_/closure.ipynb\">proveit.logic.boolean.negation.closure</a></td></tr><tr><td>12</td><td>specialization</td><td>16, 17</td><td><span style=\"font-size:20px;\"><a class=\"ProveItLink\" href=\"../__pv_it/b1adb8bbd9fdec361bc7afbc91534bd7d285e4100/expr.ipynb\"><img src=\"../__pv_it/b1adb8bbd9fdec361bc7afbc91534bd7d285e4100/expr.png\" style=\"display:inline;vertical-align:middle;\" /></a> &#x22A2;&nbsp;<a class=\"ProveItLink\" href=\"../../../__pv_it/2cbe72a7ad6f655694dd697106680215e8489b600/expr.ipynb\"><img src=\"../../../__pv_it/2cbe72a7ad6f655694dd697106680215e8489b600/expr.png\" style=\"display:inline;vertical-align:middle;\" /></a></span></td></tr>\n",
       "<tr><td>&nbsp;</td><td colspan=4 style=\"text-align:left\"><span style=\"font-size:20px;\"><a class=\"ProveItLink\" href=\"../__pv_it/e2ee195baea449ecf67452694c66cbd67b2c19580/expr.ipynb\"><img src=\"../__pv_it/e2ee195baea449ecf67452694c66cbd67b2c19580/expr.png\" style=\"display:inline;vertical-align:middle;\" /></a></span></td></tr><tr><td>13</td><td>specialization</td><td>18, 19</td><td><span style=\"font-size:20px;\"><a class=\"ProveItLink\" href=\"../__pv_it/84e3d9e3d115c9cb2cd01229dd798b80d0475bf40/expr.ipynb\"><img src=\"../__pv_it/84e3d9e3d115c9cb2cd01229dd798b80d0475bf40/expr.png\" style=\"display:inline;vertical-align:middle;\" /></a> &#x22A2;&nbsp;<a class=\"ProveItLink\" href=\"../__pv_it/feaa1d0e6d92ad9ead8e5ffd1f92697e3912387a0/expr.ipynb\"><img src=\"../__pv_it/feaa1d0e6d92ad9ead8e5ffd1f92697e3912387a0/expr.png\" style=\"display:inline;vertical-align:middle;\" /></a></span></td></tr>\n",
       "<tr><td>&nbsp;</td><td colspan=4 style=\"text-align:left\"><span style=\"font-size:20px;\"><a class=\"ProveItLink\" href=\"../__pv_it/e2ee195baea449ecf67452694c66cbd67b2c19580/expr.ipynb\"><img src=\"../__pv_it/e2ee195baea449ecf67452694c66cbd67b2c19580/expr.png\" style=\"display:inline;vertical-align:middle;\" /></a></span></td></tr><tr><td>14</td><td>theorem</td><td></td><td><span style=\"font-size:20px;\"> &#x22A2;&nbsp;<a class=\"ProveItLink\" href=\"../__pv_it/cea60384d98dcd1f1843cfa91aaf2df1f412afdf0/expr.ipynb\"><img src=\"../__pv_it/cea60384d98dcd1f1843cfa91aaf2df1f412afdf0/expr.png\" style=\"display:inline;vertical-align:middle;\" /></a></span></td></tr>\n",
       "<tr><td>&nbsp;</td><td colspan=4 style-\"text-align:left\"><a class=\"ProveItLink\" href=\"inBoolIfTrue.ipynb\">proveit.logic.boolean.inBoolIfTrue</a></td></tr><tr><td>15</td><td>specialization</td><td>20, 21</td><td><span style=\"font-size:20px;\"><a class=\"ProveItLink\" href=\"../__pv_it/a54570eacc2cdfc354a22076eb1ab1c1fc77fd870/expr.ipynb\"><img src=\"../__pv_it/a54570eacc2cdfc354a22076eb1ab1c1fc77fd870/expr.png\" style=\"display:inline;vertical-align:middle;\" /></a> &#x22A2;&nbsp;<a class=\"ProveItLink\" href=\"../__pv_it/1c6a94bc3b8eaae2e256f029ad0abda795dee51e0/expr.ipynb\"><img src=\"../__pv_it/1c6a94bc3b8eaae2e256f029ad0abda795dee51e0/expr.png\" style=\"display:inline;vertical-align:middle;\" /></a></span></td></tr>\n",
       "<tr><td>&nbsp;</td><td colspan=4 style=\"text-align:left\"><span style=\"font-size:20px;\"><a class=\"ProveItLink\" href=\"../__pv_it/e2ee195baea449ecf67452694c66cbd67b2c19580/expr.ipynb\"><img src=\"../__pv_it/e2ee195baea449ecf67452694c66cbd67b2c19580/expr.png\" style=\"display:inline;vertical-align:middle;\" /></a></span></td></tr><tr><td>16</td><td>axiom</td><td></td><td><span style=\"font-size:20px;\"> &#x22A2;&nbsp;<a class=\"ProveItLink\" href=\"../__pv_it/1abd0401f7baebea707022eba957f2c3d2c647cd0/expr.ipynb\"><img src=\"../__pv_it/1abd0401f7baebea707022eba957f2c3d2c647cd0/expr.png\" style=\"display:inline;vertical-align:middle;\" /></a></span></td></tr>\n",
       "<tr><td>&nbsp;</td><td colspan=4 style-\"text-align:left\"><a class=\"ProveItLink\" href=\"../_axioms_.ipynb#eqTrueElim\">proveit.logic.boolean.eqTrueElim</a></td></tr><tr><td>17</td><td>assumption</td><td></td><td><span style=\"font-size:20px;\"><a class=\"ProveItLink\" href=\"../__pv_it/b1adb8bbd9fdec361bc7afbc91534bd7d285e4100/expr.ipynb\"><img src=\"../__pv_it/b1adb8bbd9fdec361bc7afbc91534bd7d285e4100/expr.png\" style=\"display:inline;vertical-align:middle;\" /></a> &#x22A2;&nbsp;<a class=\"ProveItLink\" href=\"../__pv_it/09ebc2ea01ecf2a438ce94bebdce9b190b7a79220/expr.ipynb\"><img src=\"../__pv_it/09ebc2ea01ecf2a438ce94bebdce9b190b7a79220/expr.png\" style=\"display:inline;vertical-align:middle;\" /></a></span></td></tr>\n",
       "<tr><td>18</td><td>axiom</td><td></td><td><span style=\"font-size:20px;\"> &#x22A2;&nbsp;<a class=\"ProveItLink\" href=\"../negation/__pv_it/07247e05a1947299288ef312670c6e912da6cc800/expr.ipynb\"><img src=\"../negation/__pv_it/07247e05a1947299288ef312670c6e912da6cc800/expr.png\" style=\"display:inline;vertical-align:middle;\" /></a></span></td></tr>\n",
       "<tr><td>&nbsp;</td><td colspan=4 style-\"text-align:left\"><a class=\"ProveItLink\" href=\"../negation/_axioms_.ipynb#negationIntro\">proveit.logic.boolean.negation.negationIntro</a></td></tr><tr><td>19</td><td>assumption</td><td></td><td><span style=\"font-size:20px;\"><a class=\"ProveItLink\" href=\"../__pv_it/84e3d9e3d115c9cb2cd01229dd798b80d0475bf40/expr.ipynb\"><img src=\"../__pv_it/84e3d9e3d115c9cb2cd01229dd798b80d0475bf40/expr.png\" style=\"display:inline;vertical-align:middle;\" /></a> &#x22A2;&nbsp;<a class=\"ProveItLink\" href=\"../__pv_it/30b1ade828de18bfe5f2ffe442492b3db1c911ac0/expr.ipynb\"><img src=\"../__pv_it/30b1ade828de18bfe5f2ffe442492b3db1c911ac0/expr.png\" style=\"display:inline;vertical-align:middle;\" /></a></span></td></tr>\n",
       "<tr><td>20</td><td>theorem</td><td></td><td><span style=\"font-size:20px;\"> &#x22A2;&nbsp;<a class=\"ProveItLink\" href=\"../__pv_it/1979d13edd9c0543cc94aa76a589e0cb6645ed2a0/expr.ipynb\"><img src=\"../__pv_it/1979d13edd9c0543cc94aa76a589e0cb6645ed2a0/expr.png\" style=\"display:inline;vertical-align:middle;\" /></a></span></td></tr>\n",
       "<tr><td>&nbsp;</td><td colspan=4 style-\"text-align:left\"><a class=\"ProveItLink\" href=\"unfoldInBoolExplicit.ipynb\">proveit.logic.boolean.unfoldInBoolExplicit</a></td></tr><tr><td>21</td><td>assumption</td><td></td><td><span style=\"font-size:20px;\"><a class=\"ProveItLink\" href=\"../__pv_it/a54570eacc2cdfc354a22076eb1ab1c1fc77fd870/expr.ipynb\"><img src=\"../__pv_it/a54570eacc2cdfc354a22076eb1ab1c1fc77fd870/expr.png\" style=\"display:inline;vertical-align:middle;\" /></a> &#x22A2;&nbsp;<a class=\"ProveItLink\" href=\"../__pv_it/7837821d5a6b48e91a78e6fc66f6982c08b02a650/expr.ipynb\"><img src=\"../__pv_it/7837821d5a6b48e91a78e6fc66f6982c08b02a650/expr.png\" style=\"display:inline;vertical-align:middle;\" /></a></span></td></tr>\n",
       "</table>"
      ],
      "text/plain": [
       "\tstep type\trequirements\tstatement\n",
       "0\tgeneralizaton\t1\t|= forall_{A in BOOLEANS} (A or [not](A))\n",
       "1\tspecialization\t2, 3, 4, 21, 5, 15, 6, 7\t{A in BOOLEANS} |= A or [not](A)\n",
       "\tA -> (A = TRUE), B -> (A = FALSE), C -> A, D -> [not](A)\n",
       "2\ttheorem\t\t|= forall_{A, B, C, D in BOOLEANS | A or B , A => C , B => D} (C or D)\n",
       "\tproveit.logic.boolean.disjunction.constructiveDilemma\n",
       "3\tspecialization\t8, 10\t{A in BOOLEANS} |= (A = TRUE) in BOOLEANS\n",
       "\tA -> (A = TRUE), B -> (A = FALSE)\n",
       "4\tspecialization\t9, 10\t{A in BOOLEANS} |= (A = FALSE) in BOOLEANS\n",
       "\tA -> (A = TRUE), B -> (A = FALSE)\n",
       "5\tspecialization\t11, 21\t{A in BOOLEANS} |= [not](A) in BOOLEANS\n",
       "\tA -> A\n",
       "6\thypothetical reasoning\t12\t|= (A = TRUE) => A\n",
       "7\thypothetical reasoning\t13\t|= (A = FALSE) => [not](A)\n",
       "8\taxiom\t\t|= forall_{A, B | (A or B) in BOOLEANS} (A in BOOLEANS)\n",
       "\tproveit.logic.boolean.disjunction.leftInBool\n",
       "9\taxiom\t\t|= forall_{A, B | (A or B) in BOOLEANS} (B in BOOLEANS)\n",
       "\tproveit.logic.boolean.disjunction.rightInBool\n",
       "10\tspecialization\t14, 15\t{A in BOOLEANS} |= ((A = TRUE) or (A = FALSE)) in BOOLEANS\n",
       "\tA -> ((A = TRUE) or (A = FALSE))\n",
       "11\ttheorem\t\t|= forall_{A in BOOLEANS} ([not](A) in BOOLEANS)\n",
       "\tproveit.logic.boolean.negation.closure\n",
       "12\tspecialization\t16, 17\t{A = TRUE} |= A\n",
       "\tA -> A\n",
       "13\tspecialization\t18, 19\t{A = FALSE} |= [not](A)\n",
       "\tA -> A\n",
       "14\ttheorem\t\t|= forall_{A | A} (A in BOOLEANS)\n",
       "\tproveit.logic.boolean.inBoolIfTrue\n",
       "15\tspecialization\t20, 21\t{A in BOOLEANS} |= (A = TRUE) or (A = FALSE)\n",
       "\tA -> A\n",
       "16\taxiom\t\t|= forall_{A | A = TRUE} A\n",
       "\tproveit.logic.boolean.eqTrueElim\n",
       "17\tassumption\t\t{A = TRUE} |= A = TRUE\n",
       "18\taxiom\t\t|= forall_{A | A = FALSE} [not](A)\n",
       "\tproveit.logic.boolean.negation.negationIntro\n",
       "19\tassumption\t\t{A = FALSE} |= A = FALSE\n",
       "20\ttheorem\t\t|= forall_{A in BOOLEANS} ((A = TRUE) or (A = FALSE))\n",
       "\tproveit.logic.boolean.unfoldInBoolExplicit\n",
       "21\tassumption\t\t{A in BOOLEANS} |= A in BOOLEANS"
      ]
     },
     "execution_count": 7,
     "metadata": {},
     "output_type": "execute_result"
    }
   ],
   "source": [
    "%qed"
   ]
  },
  {
   "cell_type": "code",
   "execution_count": 8,
   "metadata": {
    "collapsed": true,
    "deletable": true,
    "editable": true
   },
   "outputs": [],
   "source": []
  }
 ],
 "metadata": {
  "kernelspec": {
   "display_name": "Python 2",
   "language": "python",
   "name": "python2"
  },
  "language_info": {
   "codemirror_mode": {
    "name": "ipython",
    "version": 2
   },
   "file_extension": ".py",
   "mimetype": "text/x-python",
   "name": "python",
   "nbconvert_exporter": "python",
   "pygments_lexer": "ipython2",
   "version": "2.7.11"
  }
 },
 "nbformat": 4,
 "nbformat_minor": 0
}
