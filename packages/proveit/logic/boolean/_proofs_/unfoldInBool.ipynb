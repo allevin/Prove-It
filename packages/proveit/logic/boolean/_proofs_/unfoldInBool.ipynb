{
 "cells": [
  {
   "cell_type": "markdown",
   "metadata": {
    "collapsed": true
   },
   "source": [
    "Proof of <a class=\"ProveItLink\" href=\"../../../_context_.ipynb\">proveit</a>.<a class=\"ProveItLink\" href=\"../../_context_.ipynb\">logic</a>.<a class=\"ProveItLink\" href=\"../_context_.ipynb\">boolean</a>.<a class=\"ProveItLink\" href=\"../_theorems_.ipynb#unfoldInBool\">unfoldInBool</a> theorem\n",
    "========"
   ]
  },
  {
   "cell_type": "code",
   "execution_count": 1,
   "metadata": {},
   "outputs": [],
   "source": [
    "import proveit\n",
    "from proveit import defaults\n",
    "from proveit.logic.boolean._theorems_ import unfoldInBoolExplicit\n",
    "from proveit.logic.boolean.negation._theorems_ import closure\n",
    "negClosure = closure\n",
    "from proveit.logic.boolean.disjunction._theorems_ import constructiveDilemma\n",
    "context = proveit.Context('..') # the theorem's context is in the parent directory"
   ]
  },
  {
   "cell_type": "code",
   "execution_count": 2,
   "metadata": {},
   "outputs": [
    {
     "name": "stdout",
     "output_type": "stream",
     "text": [
      "Beginning proof of unfoldInBool\n",
      "Recorded 'presuming' information\n",
      "Presuming proveit.logic.boolean.disjunction.constructiveDilemma, proveit.logic.boolean.negation.closure theorems (applied transitively).\n",
      "Presuming previous theorems (applied transitively).\n"
     ]
    },
    {
     "data": {
      "text/html": [
       "<strong id=\"unfoldInBool\">unfoldInBool:</strong> <a class=\"ProveItLink\" href=\"../__pv_it/21d49c0e1ae23750aed6f0e613c7c8f4da11999e0/expr.ipynb\"><img src=\"../__pv_it/21d49c0e1ae23750aed6f0e613c7c8f4da11999e0/expr.png\" style=\"display:inline;vertical-align:middle;\" /></a><br>(see <a class=\"ProveItLink\" href=\"../__pv_it/21d49c0e1ae23750aed6f0e613c7c8f4da11999e0/dependencies.ipynb\">dependencies</a>)<br>"
      ],
      "text/plain": [
       "unfoldInBool: forall_{A in BOOLEANS} (A or [not](A))"
      ]
     },
     "execution_count": 2,
     "metadata": {},
     "output_type": "execute_result"
    }
   ],
   "source": [
    "%proving unfoldInBool presuming [negClosure, constructiveDilemma]"
   ]
  },
  {
   "cell_type": "code",
   "execution_count": 3,
   "metadata": {},
   "outputs": [
    {
     "data": {
      "text/html": [
       "<strong id=\"defaults.assumptions\">defaults.assumptions:</strong> <a class=\"ProveItLink\" href=\"../__pv_it/e3dccca28d4aa81eddfb38c9a8ab6b6bbe722b9e0/expr.ipynb\"><img src=\"../__pv_it/e3dccca28d4aa81eddfb38c9a8ab6b6bbe722b9e0/expr.png\" style=\"display:inline;vertical-align:middle;\" /></a><br>"
      ],
      "text/plain": [
       "defaults.assumptions: (A in BOOLEANS)"
      ]
     },
     "execution_count": 3,
     "metadata": {},
     "output_type": "execute_result"
    }
   ],
   "source": [
    "defaults.assumptions = unfoldInBool.conditions"
   ]
  },
  {
   "cell_type": "code",
   "execution_count": 4,
   "metadata": {},
   "outputs": [
    {
     "data": {
      "text/html": [
       "<span style=\"font-size:20px;\"> &#x22A2;&nbsp;<a class=\"ProveItLink\" href=\"../__pv_it/bd42870e69b1a4d4d0aeb2f95773ef905efb68970/expr.ipynb\"><img src=\"../__pv_it/bd42870e69b1a4d4d0aeb2f95773ef905efb68970/expr.png\" style=\"display:inline;vertical-align:middle;\" /></a></span>"
      ],
      "text/plain": [
       "|= forall_{A in BOOLEANS} ((A = TRUE) or (A = FALSE))"
      ]
     },
     "execution_count": 4,
     "metadata": {},
     "output_type": "execute_result"
    }
   ],
   "source": [
    "unfoldInBoolExplicit"
   ]
  },
  {
   "cell_type": "code",
   "execution_count": 5,
   "metadata": {},
   "outputs": [
    {
     "data": {
      "text/html": [
       "<strong id=\"explicitForm\">explicitForm:</strong> <span style=\"font-size:20px;\"><a class=\"ProveItLink\" href=\"../__pv_it/a54570eacc2cdfc354a22076eb1ab1c1fc77fd870/expr.ipynb\"><img src=\"../__pv_it/a54570eacc2cdfc354a22076eb1ab1c1fc77fd870/expr.png\" style=\"display:inline;vertical-align:middle;\" /></a> &#x22A2;&nbsp;<a class=\"ProveItLink\" href=\"../__pv_it/1c6a94bc3b8eaae2e256f029ad0abda795dee51e0/expr.ipynb\"><img src=\"../__pv_it/1c6a94bc3b8eaae2e256f029ad0abda795dee51e0/expr.png\" style=\"display:inline;vertical-align:middle;\" /></a></span><br>"
      ],
      "text/plain": [
       "explicitForm: {A in BOOLEANS} |= (A = TRUE) or (A = FALSE)"
      ]
     },
     "execution_count": 5,
     "metadata": {},
     "output_type": "execute_result"
    }
   ],
   "source": [
    "explicitForm = unfoldInBoolExplicit.specialize()"
   ]
  },
  {
   "cell_type": "code",
   "execution_count": 6,
   "metadata": {},
   "outputs": [
    {
     "data": {
      "text/html": [
       "<span style=\"font-size:20px;\"><a class=\"ProveItLink\" href=\"../__pv_it/a54570eacc2cdfc354a22076eb1ab1c1fc77fd870/expr.ipynb\"><img src=\"../__pv_it/a54570eacc2cdfc354a22076eb1ab1c1fc77fd870/expr.png\" style=\"display:inline;vertical-align:middle;\" /></a> &#x22A2;&nbsp;<a class=\"ProveItLink\" href=\"../__pv_it/5e0f1fecc33243e3f89e2f824cc9ebed175239310/expr.ipynb\"><img src=\"../__pv_it/5e0f1fecc33243e3f89e2f824cc9ebed175239310/expr.png\" style=\"display:inline;vertical-align:middle;\" /></a></span>"
      ],
      "text/plain": [
       "{A in BOOLEANS} |= A or [not](A)"
      ]
     },
     "execution_count": 6,
     "metadata": {},
     "output_type": "execute_result"
    }
   ],
   "source": [
    "explicitForm.deriveViaMultiDilemma(unfoldInBool.instanceExpr)"
   ]
  },
  {
   "cell_type": "code",
   "execution_count": 7,
   "metadata": {},
   "outputs": [
    {
     "data": {
      "text/html": [
       "<table><tr><th>&nbsp;</th><th>step type</th><th>requirements</th><th>statement</th></tr>\n",
       "<tr><td>0</td><td>generalizaton</td><td>1</td><td><span style=\"font-size:20px;\"> &#x22A2;&nbsp;<a class=\"ProveItLink\" href=\"../__pv_it/21d49c0e1ae23750aed6f0e613c7c8f4da11999e0/expr.ipynb\"><img src=\"../__pv_it/21d49c0e1ae23750aed6f0e613c7c8f4da11999e0/expr.png\" style=\"display:inline;vertical-align:middle;\" /></a></span></td></tr>\n",
       "<tr><td>1</td><td>specialization</td><td>2, 3, 4, 5, 13, 6, 7, 8</td><td><span style=\"font-size:20px;\"><a class=\"ProveItLink\" href=\"../__pv_it/a54570eacc2cdfc354a22076eb1ab1c1fc77fd870/expr.ipynb\"><img src=\"../__pv_it/a54570eacc2cdfc354a22076eb1ab1c1fc77fd870/expr.png\" style=\"display:inline;vertical-align:middle;\" /></a> &#x22A2;&nbsp;<a class=\"ProveItLink\" href=\"../__pv_it/5e0f1fecc33243e3f89e2f824cc9ebed175239310/expr.ipynb\"><img src=\"../__pv_it/5e0f1fecc33243e3f89e2f824cc9ebed175239310/expr.png\" style=\"display:inline;vertical-align:middle;\" /></a></span></td></tr>\n",
       "<tr><td>&nbsp;</td><td colspan=4 style=\"text-align:left\"><span style=\"font-size:20px;\"><a class=\"ProveItLink\" href=\"../__pv_it/d5a85ff561cfc8b0e2b27abdb53ba219b0f061120/expr.ipynb\"><img src=\"../__pv_it/d5a85ff561cfc8b0e2b27abdb53ba219b0f061120/expr.png\" style=\"display:inline;vertical-align:middle;\" /></a>, <a class=\"ProveItLink\" href=\"../__pv_it/67f2a46f0f55e079962c9685e826a2b97865da9e0/expr.ipynb\"><img src=\"../__pv_it/67f2a46f0f55e079962c9685e826a2b97865da9e0/expr.png\" style=\"display:inline;vertical-align:middle;\" /></a>, <a class=\"ProveItLink\" href=\"../__pv_it/06ccd6b40acc556b95bb4a9747e1275db095c1b40/expr.ipynb\"><img src=\"../__pv_it/06ccd6b40acc556b95bb4a9747e1275db095c1b40/expr.png\" style=\"display:inline;vertical-align:middle;\" /></a>, <a class=\"ProveItLink\" href=\"../__pv_it/6e77cd47af71d951426f1991c606904df860cf950/expr.ipynb\"><img src=\"../__pv_it/6e77cd47af71d951426f1991c606904df860cf950/expr.png\" style=\"display:inline;vertical-align:middle;\" /></a></span></td></tr><tr><td>2</td><td>theorem</td><td></td><td><span style=\"font-size:20px;\"> &#x22A2;&nbsp;<a class=\"ProveItLink\" href=\"../disjunction/__pv_it/8931a5ce5cb5c22a7cd0723cd5f9afa3d54cac3e0/expr.ipynb\"><img src=\"../disjunction/__pv_it/8931a5ce5cb5c22a7cd0723cd5f9afa3d54cac3e0/expr.png\" style=\"display:inline;vertical-align:middle;\" /></a></span></td></tr>\n",
       "<tr><td>&nbsp;</td><td colspan=4 style-\"text-align:left\"><a class=\"ProveItLink\" href=\"../disjunction/_proofs_/constructiveDilemma.ipynb\">proveit.logic.boolean.disjunction.constructiveDilemma</a></td></tr><tr><td>3</td><td>specialization</td><td>9</td><td><span style=\"font-size:20px;\"> &#x22A2;&nbsp;<a class=\"ProveItLink\" href=\"../__pv_it/5ca53fe37cfb7ea87b7d26b5ecf99bf0b67fb0a40/expr.ipynb\"><img src=\"../__pv_it/5ca53fe37cfb7ea87b7d26b5ecf99bf0b67fb0a40/expr.png\" style=\"display:inline;vertical-align:middle;\" /></a></span></td></tr>\n",
       "<tr><td>&nbsp;</td><td colspan=4 style=\"text-align:left\"><span style=\"font-size:20px;\"><a class=\"ProveItLink\" href=\"../__pv_it/ddbb78c48cf0f4f331e9fa14c32a8922f13304780/expr.ipynb\"><img src=\"../__pv_it/ddbb78c48cf0f4f331e9fa14c32a8922f13304780/expr.png\" style=\"display:inline;vertical-align:middle;\" /></a>, <a class=\"ProveItLink\" href=\"../__pv_it/8465eaf8ba8d7d105eb3029d81447fc2453757400/expr.ipynb\"><img src=\"../__pv_it/8465eaf8ba8d7d105eb3029d81447fc2453757400/expr.png\" style=\"display:inline;vertical-align:middle;\" /></a></span></td></tr><tr><td>4</td><td>specialization</td><td>9</td><td><span style=\"font-size:20px;\"> &#x22A2;&nbsp;<a class=\"ProveItLink\" href=\"../__pv_it/09cb06ded97cbf2ae8e1775da02f1688a100142d0/expr.ipynb\"><img src=\"../__pv_it/09cb06ded97cbf2ae8e1775da02f1688a100142d0/expr.png\" style=\"display:inline;vertical-align:middle;\" /></a></span></td></tr>\n",
       "<tr><td>&nbsp;</td><td colspan=4 style=\"text-align:left\"><span style=\"font-size:20px;\"><a class=\"ProveItLink\" href=\"../__pv_it/ddbb78c48cf0f4f331e9fa14c32a8922f13304780/expr.ipynb\"><img src=\"../__pv_it/ddbb78c48cf0f4f331e9fa14c32a8922f13304780/expr.png\" style=\"display:inline;vertical-align:middle;\" /></a>, <a class=\"ProveItLink\" href=\"../__pv_it/02b053dc5acb5b623fdb7ee0fca80913f34c6cb00/expr.ipynb\"><img src=\"../__pv_it/02b053dc5acb5b623fdb7ee0fca80913f34c6cb00/expr.png\" style=\"display:inline;vertical-align:middle;\" /></a></span></td></tr><tr><td>5</td><td>specialization</td><td>10, 13</td><td><span style=\"font-size:20px;\"><a class=\"ProveItLink\" href=\"../__pv_it/a54570eacc2cdfc354a22076eb1ab1c1fc77fd870/expr.ipynb\"><img src=\"../__pv_it/a54570eacc2cdfc354a22076eb1ab1c1fc77fd870/expr.png\" style=\"display:inline;vertical-align:middle;\" /></a> &#x22A2;&nbsp;<a class=\"ProveItLink\" href=\"../__pv_it/1c6a94bc3b8eaae2e256f029ad0abda795dee51e0/expr.ipynb\"><img src=\"../__pv_it/1c6a94bc3b8eaae2e256f029ad0abda795dee51e0/expr.png\" style=\"display:inline;vertical-align:middle;\" /></a></span></td></tr>\n",
       "<tr><td>&nbsp;</td><td colspan=4 style=\"text-align:left\"><span style=\"font-size:20px;\"><a class=\"ProveItLink\" href=\"../__pv_it/e2ee195baea449ecf67452694c66cbd67b2c19580/expr.ipynb\"><img src=\"../__pv_it/e2ee195baea449ecf67452694c66cbd67b2c19580/expr.png\" style=\"display:inline;vertical-align:middle;\" /></a></span></td></tr><tr><td>6</td><td>hypothetical reasoning</td><td>11</td><td><span style=\"font-size:20px;\"> &#x22A2;&nbsp;<a class=\"ProveItLink\" href=\"../__pv_it/b87b5eda8346ede61ae3ac7279837b3e3d314d390/expr.ipynb\"><img src=\"../__pv_it/b87b5eda8346ede61ae3ac7279837b3e3d314d390/expr.png\" style=\"display:inline;vertical-align:middle;\" /></a></span></td></tr>\n",
       "<tr><td>7</td><td>specialization</td><td>12, 13</td><td><span style=\"font-size:20px;\"><a class=\"ProveItLink\" href=\"../__pv_it/a54570eacc2cdfc354a22076eb1ab1c1fc77fd870/expr.ipynb\"><img src=\"../__pv_it/a54570eacc2cdfc354a22076eb1ab1c1fc77fd870/expr.png\" style=\"display:inline;vertical-align:middle;\" /></a> &#x22A2;&nbsp;<a class=\"ProveItLink\" href=\"../__pv_it/d6a86d88df256144550e1447bc2740af10be4b810/expr.ipynb\"><img src=\"../__pv_it/d6a86d88df256144550e1447bc2740af10be4b810/expr.png\" style=\"display:inline;vertical-align:middle;\" /></a></span></td></tr>\n",
       "<tr><td>&nbsp;</td><td colspan=4 style=\"text-align:left\"><span style=\"font-size:20px;\"><a class=\"ProveItLink\" href=\"../__pv_it/e2ee195baea449ecf67452694c66cbd67b2c19580/expr.ipynb\"><img src=\"../__pv_it/e2ee195baea449ecf67452694c66cbd67b2c19580/expr.png\" style=\"display:inline;vertical-align:middle;\" /></a></span></td></tr><tr><td>8</td><td>hypothetical reasoning</td><td>14</td><td><span style=\"font-size:20px;\"> &#x22A2;&nbsp;<a class=\"ProveItLink\" href=\"../__pv_it/7bc5bb1c4722d31d84ce94c5bca0834451ba32430/expr.ipynb\"><img src=\"../__pv_it/7bc5bb1c4722d31d84ce94c5bca0834451ba32430/expr.png\" style=\"display:inline;vertical-align:middle;\" /></a></span></td></tr>\n",
       "<tr><td>9</td><td>axiom</td><td></td><td><span style=\"font-size:20px;\"> &#x22A2;&nbsp;<a class=\"ProveItLink\" href=\"../../equality/__pv_it/40d65510253ebe9c23b6d82fc4fef69ccf2845ac0/expr.ipynb\"><img src=\"../../equality/__pv_it/40d65510253ebe9c23b6d82fc4fef69ccf2845ac0/expr.png\" style=\"display:inline;vertical-align:middle;\" /></a></span></td></tr>\n",
       "<tr><td>&nbsp;</td><td colspan=4 style-\"text-align:left\"><a class=\"ProveItLink\" href=\"../../equality/_axioms_.ipynb#equalityInBool\">proveit.logic.equality.equalityInBool</a></td></tr><tr><td>10</td><td>theorem</td><td></td><td><span style=\"font-size:20px;\"> &#x22A2;&nbsp;<a class=\"ProveItLink\" href=\"../__pv_it/bd42870e69b1a4d4d0aeb2f95773ef905efb68970/expr.ipynb\"><img src=\"../__pv_it/bd42870e69b1a4d4d0aeb2f95773ef905efb68970/expr.png\" style=\"display:inline;vertical-align:middle;\" /></a></span></td></tr>\n",
       "<tr><td>&nbsp;</td><td colspan=4 style-\"text-align:left\"><a class=\"ProveItLink\" href=\"unfoldInBoolExplicit.ipynb\">proveit.logic.boolean.unfoldInBoolExplicit</a></td></tr><tr><td>11</td><td>specialization</td><td>15, 16</td><td><span style=\"font-size:20px;\"><a class=\"ProveItLink\" href=\"../__pv_it/b1adb8bbd9fdec361bc7afbc91534bd7d285e4100/expr.ipynb\"><img src=\"../__pv_it/b1adb8bbd9fdec361bc7afbc91534bd7d285e4100/expr.png\" style=\"display:inline;vertical-align:middle;\" /></a> &#x22A2;&nbsp;<a class=\"ProveItLink\" href=\"../../../__pv_it/2cbe72a7ad6f655694dd697106680215e8489b600/expr.ipynb\"><img src=\"../../../__pv_it/2cbe72a7ad6f655694dd697106680215e8489b600/expr.png\" style=\"display:inline;vertical-align:middle;\" /></a></span></td></tr>\n",
       "<tr><td>&nbsp;</td><td colspan=4 style=\"text-align:left\"><span style=\"font-size:20px;\"><a class=\"ProveItLink\" href=\"../__pv_it/e2ee195baea449ecf67452694c66cbd67b2c19580/expr.ipynb\"><img src=\"../__pv_it/e2ee195baea449ecf67452694c66cbd67b2c19580/expr.png\" style=\"display:inline;vertical-align:middle;\" /></a></span></td></tr><tr><td>12</td><td>theorem</td><td></td><td><span style=\"font-size:20px;\"> &#x22A2;&nbsp;<a class=\"ProveItLink\" href=\"../negation/__pv_it/7b5911b87c2403d7522694ec07544fccac09289d0/expr.ipynb\"><img src=\"../negation/__pv_it/7b5911b87c2403d7522694ec07544fccac09289d0/expr.png\" style=\"display:inline;vertical-align:middle;\" /></a></span></td></tr>\n",
       "<tr><td>&nbsp;</td><td colspan=4 style-\"text-align:left\"><a class=\"ProveItLink\" href=\"../negation/_proofs_/closure.ipynb\">proveit.logic.boolean.negation.closure</a></td></tr><tr><td>13</td><td>assumption</td><td></td><td><span style=\"font-size:20px;\"><a class=\"ProveItLink\" href=\"../__pv_it/a54570eacc2cdfc354a22076eb1ab1c1fc77fd870/expr.ipynb\"><img src=\"../__pv_it/a54570eacc2cdfc354a22076eb1ab1c1fc77fd870/expr.png\" style=\"display:inline;vertical-align:middle;\" /></a> &#x22A2;&nbsp;<a class=\"ProveItLink\" href=\"../__pv_it/7837821d5a6b48e91a78e6fc66f6982c08b02a650/expr.ipynb\"><img src=\"../__pv_it/7837821d5a6b48e91a78e6fc66f6982c08b02a650/expr.png\" style=\"display:inline;vertical-align:middle;\" /></a></span></td></tr>\n",
       "<tr><td>14</td><td>specialization</td><td>17, 18</td><td><span style=\"font-size:20px;\"><a class=\"ProveItLink\" href=\"../__pv_it/84e3d9e3d115c9cb2cd01229dd798b80d0475bf40/expr.ipynb\"><img src=\"../__pv_it/84e3d9e3d115c9cb2cd01229dd798b80d0475bf40/expr.png\" style=\"display:inline;vertical-align:middle;\" /></a> &#x22A2;&nbsp;<a class=\"ProveItLink\" href=\"../__pv_it/feaa1d0e6d92ad9ead8e5ffd1f92697e3912387a0/expr.ipynb\"><img src=\"../__pv_it/feaa1d0e6d92ad9ead8e5ffd1f92697e3912387a0/expr.png\" style=\"display:inline;vertical-align:middle;\" /></a></span></td></tr>\n",
       "<tr><td>&nbsp;</td><td colspan=4 style=\"text-align:left\"><span style=\"font-size:20px;\"><a class=\"ProveItLink\" href=\"../__pv_it/e2ee195baea449ecf67452694c66cbd67b2c19580/expr.ipynb\"><img src=\"../__pv_it/e2ee195baea449ecf67452694c66cbd67b2c19580/expr.png\" style=\"display:inline;vertical-align:middle;\" /></a></span></td></tr><tr><td>15</td><td>axiom</td><td></td><td><span style=\"font-size:20px;\"> &#x22A2;&nbsp;<a class=\"ProveItLink\" href=\"../__pv_it/464b3c7344f9d4c18e61245dc2e5438b3dda88b90/expr.ipynb\"><img src=\"../__pv_it/464b3c7344f9d4c18e61245dc2e5438b3dda88b90/expr.png\" style=\"display:inline;vertical-align:middle;\" /></a></span></td></tr>\n",
       "<tr><td>&nbsp;</td><td colspan=4 style-\"text-align:left\"><a class=\"ProveItLink\" href=\"../_axioms_.ipynb#eqTrueElim\">proveit.logic.boolean.eqTrueElim</a></td></tr><tr><td>16</td><td>assumption</td><td></td><td><span style=\"font-size:20px;\"><a class=\"ProveItLink\" href=\"../__pv_it/b1adb8bbd9fdec361bc7afbc91534bd7d285e4100/expr.ipynb\"><img src=\"../__pv_it/b1adb8bbd9fdec361bc7afbc91534bd7d285e4100/expr.png\" style=\"display:inline;vertical-align:middle;\" /></a> &#x22A2;&nbsp;<a class=\"ProveItLink\" href=\"../__pv_it/09ebc2ea01ecf2a438ce94bebdce9b190b7a79220/expr.ipynb\"><img src=\"../__pv_it/09ebc2ea01ecf2a438ce94bebdce9b190b7a79220/expr.png\" style=\"display:inline;vertical-align:middle;\" /></a></span></td></tr>\n",
       "<tr><td>17</td><td>axiom</td><td></td><td><span style=\"font-size:20px;\"> &#x22A2;&nbsp;<a class=\"ProveItLink\" href=\"../negation/__pv_it/bd349bf529bb24ca3489b99b360030e1baddcd2c0/expr.ipynb\"><img src=\"../negation/__pv_it/bd349bf529bb24ca3489b99b360030e1baddcd2c0/expr.png\" style=\"display:inline;vertical-align:middle;\" /></a></span></td></tr>\n",
       "<tr><td>&nbsp;</td><td colspan=4 style-\"text-align:left\"><a class=\"ProveItLink\" href=\"../negation/_axioms_.ipynb#negationIntro\">proveit.logic.boolean.negation.negationIntro</a></td></tr><tr><td>18</td><td>assumption</td><td></td><td><span style=\"font-size:20px;\"><a class=\"ProveItLink\" href=\"../__pv_it/84e3d9e3d115c9cb2cd01229dd798b80d0475bf40/expr.ipynb\"><img src=\"../__pv_it/84e3d9e3d115c9cb2cd01229dd798b80d0475bf40/expr.png\" style=\"display:inline;vertical-align:middle;\" /></a> &#x22A2;&nbsp;<a class=\"ProveItLink\" href=\"../__pv_it/30b1ade828de18bfe5f2ffe442492b3db1c911ac0/expr.ipynb\"><img src=\"../__pv_it/30b1ade828de18bfe5f2ffe442492b3db1c911ac0/expr.png\" style=\"display:inline;vertical-align:middle;\" /></a></span></td></tr>\n",
       "</table>"
      ],
      "text/plain": [
       "\tstep type\trequirements\tstatement\n",
       "0\tgeneralizaton\t1\t|= forall_{A in BOOLEANS} (A or [not](A))\n",
       "1\tspecialization\t2, 3, 4, 5, 13, 6, 7, 8\t{A in BOOLEANS} |= A or [not](A)\n",
       "\t{A -> (A = TRUE)}, {B -> (A = FALSE)}, {C -> A}, {D -> [not](A)}\n",
       "2\ttheorem\t\t|= forall_{A, B, C, D in BOOLEANS | A or B , A => C , B => D} (C or D)\n",
       "\tproveit.logic.boolean.disjunction.constructiveDilemma\n",
       "3\tspecialization\t9\t|= (A = TRUE) in BOOLEANS\n",
       "\t{x -> A}, {y -> TRUE}\n",
       "4\tspecialization\t9\t|= (A = FALSE) in BOOLEANS\n",
       "\t{x -> A}, {y -> FALSE}\n",
       "5\tspecialization\t10, 13\t{A in BOOLEANS} |= (A = TRUE) or (A = FALSE)\n",
       "\tA -> A\n",
       "6\thypothetical reasoning\t11\t|= (A = TRUE) => A\n",
       "7\tspecialization\t12, 13\t{A in BOOLEANS} |= [not](A) in BOOLEANS\n",
       "\tA -> A\n",
       "8\thypothetical reasoning\t14\t|= (A = FALSE) => [not](A)\n",
       "9\taxiom\t\t|= forall_{x, y} ((x = y) in BOOLEANS)\n",
       "\tproveit.logic.equality.equalityInBool\n",
       "10\ttheorem\t\t|= forall_{A in BOOLEANS} ((A = TRUE) or (A = FALSE))\n",
       "\tproveit.logic.boolean.unfoldInBoolExplicit\n",
       "11\tspecialization\t15, 16\t{A = TRUE} |= A\n",
       "\tA -> A\n",
       "12\ttheorem\t\t|= forall_{A in BOOLEANS} ([not](A) in BOOLEANS)\n",
       "\tproveit.logic.boolean.negation.closure\n",
       "13\tassumption\t\t{A in BOOLEANS} |= A in BOOLEANS\n",
       "14\tspecialization\t17, 18\t{A = FALSE} |= [not](A)\n",
       "\tA -> A\n",
       "15\taxiom\t\t|= forall_{A | A = TRUE} A\n",
       "\tproveit.logic.boolean.eqTrueElim\n",
       "16\tassumption\t\t{A = TRUE} |= A = TRUE\n",
       "17\taxiom\t\t|= forall_{A | A = FALSE} [not](A)\n",
       "\tproveit.logic.boolean.negation.negationIntro\n",
       "18\tassumption\t\t{A = FALSE} |= A = FALSE"
      ]
     },
     "execution_count": 7,
     "metadata": {},
     "output_type": "execute_result"
    }
   ],
   "source": [
    "%qed"
   ]
  },
  {
   "cell_type": "code",
   "execution_count": 8,
   "metadata": {
    "collapsed": true
   },
   "outputs": [],
   "source": []
  }
 ],
 "metadata": {
  "kernelspec": {
   "display_name": "Python 3",
   "language": "python",
   "name": "python3"
  },
  "language_info": {
   "codemirror_mode": {
    "name": "ipython",
    "version": 3
   },
   "file_extension": ".py",
   "mimetype": "text/x-python",
   "name": "python",
   "nbconvert_exporter": "python",
   "pygments_lexer": "ipython3",
   "version": "3.7.3"
  }
 },
 "nbformat": 4,
 "nbformat_minor": 1
}
