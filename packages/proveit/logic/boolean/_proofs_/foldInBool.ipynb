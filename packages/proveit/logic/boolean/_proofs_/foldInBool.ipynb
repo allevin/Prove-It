{
 "cells": [
  {
   "cell_type": "markdown",
   "metadata": {},
   "source": [
    "Proof of <a class=\"ProveItLink\" href=\"../../../_context_.ipynb\">proveit</a>.<a class=\"ProveItLink\" href=\"../../_context_.ipynb\">logic</a>.<a class=\"ProveItLink\" href=\"../_context_.ipynb\">boolean</a>.<a class=\"ProveItLink\" href=\"../_theorems_.ipynb#foldInBool\">foldInBool</a> theorem\n",
    "========"
   ]
  },
  {
   "cell_type": "code",
   "execution_count": 1,
   "metadata": {},
   "outputs": [],
   "source": [
    "import proveit\n",
    "from proveit import defaults\n",
    "from proveit._common_ import A\n",
    "from proveit.logic import InSet\n",
    "from proveit.logic.boolean._axioms_ import boolsDef\n",
    "context = proveit.Context('..') # the theorem's context is in the parent directory"
   ]
  },
  {
   "cell_type": "code",
   "execution_count": 2,
   "metadata": {},
   "outputs": [
    {
     "name": "stdout",
     "output_type": "stream",
     "text": [
      "Beginning proof of foldInBool\n"
     ]
    },
    {
     "name": "stdout",
     "output_type": "stream",
     "text": [
      "Recorded 'presuming' information\n",
      "Presuming proveit.logic.equality.subLeftSideInto, proveit.logic.set_theory.enumeration.fold, proveit.number.numeral.deci.add_1_1, proveit.number.numeral.deci.nat2 theorems (applied transitively).\n",
      "Presuming previous theorems (applied transitively).\n"
     ]
    },
    {
     "data": {
      "text/html": [
       "<strong id=\"foldInBool\">foldInBool:</strong> <a class=\"ProveItLink\" href=\"../__pv_it/768c25286834e2d519e3c28d5b79fe169910e93c0/expr.ipynb\"><img src=\"data:image/png;base64,iVBORw0KGgoAAAANSUhEUgAAAO0AAAAXBAMAAAAVatXDAAAAMFBMVEX///8QEBC6urrMzMxUVFRm\n",
       "ZmZERETc3NwyMjKqqqp2dnaIiIiYmJgiIiLu7u4AAAAU9Wx4AAAAAXRSTlMAQObYZgAAAr9JREFU\n",
       "SMfFVj1oFEEUfne7t/eze5tgJxLcIqiIwhYWNiGHBlQQk0YFRVybPQUhWxwJCsFrJILRWGil4CGI\n",
       "iCKLVlY5LAS1iUVAxMONqAQlGCyOFKK+mdndmfvZOZETH9zOzPfNzPfmzZuZA/hPFvyTWdO+jH2G\n",
       "v0VSedVv3V2sGGlFC/On14fOAGRsgPsEuNpv3XDC+TZYS/srX2oAVYApbGadPsvqLMzG+6BDV7dQ\n",
       "9CVADqnMtT7rppjeuZMea3+90ngT6ubrhwCW0ad709Mz/Q7zNlb4CxYtlbmAr3crBlfDhTZd923n\n",
       "yKzdZbr8n9LHWFIHt+u0MhXwOI88x0ZhAmAvQJmCs6wz63FegGJTalGtBz1Hvx9glO1zme9v49cm\n",
       "4iHu8TCYVZoE3xnFejgChHbEPeW6NbgTtdvocFhMb6BfCy5MkNJ0xLx6iq30IEARdBqNTz8E3bwv\n",
       "QBxfAZ1kazIdGnVIGRsbp4rpoUYjzitwtiO1hrPUizT8j5YEXc0TII6rto4ZUUmmRV3csRSNpFIS\n",
       "1guOxnTNKr1cFN8VdFMixHE8l7iCfRKa2UbyQQ+LgzTOi+26JM5Q3kN9hROC7u4IUi+hXY7wdAke\n",
       "Q7YkoZmdJSmPurk12jzYootxNkgcblB3XsCCoDssQhxXqvAZVE9CM7sbbrb2kzZXLa5rHHfYOYIU\n",
       "iY65dHgy4LrXRahl4oJVkdHMduKZ3TwLxuQ6TejsRTt6F5qvD2AlRxwxyOiMB6M2190SQVprIB08\n",
       "FEdldHhPem03yn6Wz5Etx7UdAAN1rrsqQnxBBt4MD0tSGloqCfYgqnxsQnb8HdfFo8UhPnEG4/PN\n",
       "7qTDayVjtb2DCWZWOzGmq3d/oXJks+Q0s4pUV/WSdM3uL/LNyGE5jc5J/+c8gSRduNV1QHzx9KD/\n",
       "wtQwM7o9dIX43PSge9tvpYXIP1vpZ/sAAAAASUVORK5CYII=\n",
       "\" style=\"display:inline;vertical-align:middle;\" /></a><br>(see <a class=\"ProveItLink\" href=\"../__pv_it/768c25286834e2d519e3c28d5b79fe169910e93c0/dependencies.ipynb\">dependencies</a>)<br>"
      ],
      "text/plain": [
       "foldInBool: forall_{A | (A = TRUE) or (A = FALSE)} (A in BOOLEANS)"
      ]
     },
     "execution_count": 2,
     "metadata": {},
     "output_type": "execute_result"
    }
   ],
   "source": [
    "%proving foldInBool presuming [proveit.logic.set_theory.enumeration.fold, proveit.logic.equality.subLeftSideInto, proveit.number.numeral.deci.nat2, proveit.number.numeral.deci.add_1_1]"
   ]
  },
  {
   "cell_type": "code",
   "execution_count": 3,
   "metadata": {},
   "outputs": [
    {
     "data": {
      "text/html": [
       "<strong id=\"defaults.assumptions\">defaults.assumptions:</strong> <a class=\"ProveItLink\" href=\"../__pv_it/01a68d102acabf0f531b37c7639a1410ce4588d70/expr.ipynb\"><img src=\"data:image/png;base64,iVBORw0KGgoAAAANSUhEUgAAALoAAAAVBAMAAAADaun5AAAAMFBMVEX////c3NwiIiJERESqqqqY\n",
       "mJh2dnZmZmYQEBDu7u4yMjJUVFTMzMyIiIi6uroAAAAs73DqAAAAAXRSTlMAQObYZgAAAd1JREFU\n",
       "OMu1VT1LA0EQnRgvOXNJCGilhRJ/gEG01i5go5WFhdhIKiGIpBDBINYxZbCQpAhiBD/qFAZBRSxy\n",
       "P0AwWEmqtFoEZ2eWmLvc7lYOvLd3l3nvNrOzewD/G0mXoYvtIJEurA4D3iQwHv1J+2kR8xBt+X5Q\n",
       "CTBC9OIjiSsJjNuA5BfiKk2YLulFGkE8LzjGSLgM8XcWyir3TUGOMKZcnYDdrR2CjQk2J00dp1Tu\n",
       "FdJlkMZErk7A7hNFQhcvu/zc/eio3MOrgmuILBgE7A5LhAJygfugvL6hco+QJCvfoBVI9xyhjlyn\n",
       "+wtoUzkPGyKuPe7jtKxYFaqOTxAlQePO475GKCGX6L4Ds3nV3JNF4MV0qBY6gXT/IvSR+/S02XzI\n",
       "qNzjPRrm4JxGnUC6twkDd+xmu2pwP4DdP3eFwON+iiwA2BVjxeENOloZmMbZw4ggSoJ0JqAyy8gC\n",
       "IUyO9VRzt3iSzhNvI51Aum8RcrJ7REHD3/qOhPhiedBuKoGnIz+REZNnNbBWfkZ74Jk4JrfNJQ9K\n",
       "gSjSCRXpBgRs3Mx2ynRMV+T4yoNZIE8CedwYYs93fBsFEZcxdAKrZ+LvPJOAVkVgRkIXjr8SJgHc\n",
       "S4hvScjwIXsP/gCpI9Ei/AJ3fpxFCv+CIQAAAABJRU5ErkJggg==\n",
       "\" style=\"display:inline;vertical-align:middle;\" /></a><br>"
      ],
      "text/plain": [
       "defaults.assumptions: ((A = TRUE) or (A = FALSE))"
      ]
     },
     "execution_count": 3,
     "metadata": {},
     "output_type": "execute_result"
    }
   ],
   "source": [
    "defaults.assumptions = foldInBool.conditions"
   ]
  },
  {
   "cell_type": "code",
   "execution_count": 4,
   "metadata": {},
   "outputs": [
    {
     "data": {
      "text/html": [
       "<span style=\"font-size:20px;\"> <a class=\"ProveItLink\" href=\"../_axioms_.ipynb#boolsDef\" style=\"text-decoration: none\">&#x22A2;&nbsp;</a><a class=\"ProveItLink\" href=\"../__pv_it/c0a9a9ba48c75637a24f44e2198ce7c84ad8105e0/expr.ipynb\"><img src=\"data:image/png;base64,iVBORw0KGgoAAAANSUhEUgAAAGYAAAAVBAMAAABGR4Y+AAAAMFBMVEX///9mZmbMzMzc3NxUVFSY\n",
       "mJju7u6IiIi6urqqqqoiIiIQEBBEREQyMjJ2dnYAAAAQvcRZAAAAAXRSTlMAQObYZgAAAPFJREFU\n",
       "OMtjYMAOWEWxi+s9ZsAF2NbhktGewMDw9s/922smoMuwf2BgYFwFBgdgYuZgkvECkDjQznbtHboe\n",
       "vg1gikkASUwRIXOgnaGCl3Q9U1kSSLfHhmR7mJYeI1VP1/rfBSCe7F0QuIIIHax6WD9A3FY+ByMW\n",
       "GnDpYbgI0cPD8QBVi8omBpx6eK5C9DAcQLOnWwGnnnUMSHqkwNG+BizBQtA/GG5j4FuApCcBW/wE\n",
       "1uALa7Zf6HqAafTUlgm49IDsZ9tvAHb4arDDoTJYAIoMhwEuGdx6WBmI0sOKUw80hWDLp8uROAVY\n",
       "UghWi17iLg8AeW5exuSYeDQAAAAASUVORK5CYII=\n",
       "\" style=\"display:inline;vertical-align:middle;\" /></a></span>"
      ],
      "text/plain": [
       "|- BOOLEANS = {TRUE , FALSE}"
      ]
     },
     "execution_count": 4,
     "metadata": {},
     "output_type": "execute_result"
    }
   ],
   "source": [
    "boolsDef"
   ]
  },
  {
   "cell_type": "code",
   "execution_count": 5,
   "metadata": {},
   "outputs": [
    {
     "data": {
      "text/html": [
       "<strong id=\"A_in_TorF\">A_in_TorF:</strong> <span style=\"font-size:20px;\"><a class=\"ProveItLink\" href=\"../__pv_it/f196426e43f670b102d5a3a298566accd29fd1e70/expr.ipynb\"><img src=\"data:image/png;base64,iVBORw0KGgoAAAANSUhEUgAAAMEAAAAVBAMAAAANw5eWAAAAMFBMVEX////c3NxERESqqqpUVFS6\n",
       "urrMzMwyMjIQEBCIiIh2dnYiIiLu7u5mZmaYmJgAAABXZE4RAAAAAXRSTlMAQObYZgAAAgtJREFU\n",
       "SMe1VT1IAzEUftbr37U9igqOFhwcBHVzKip0t5sFlxs6iH9tQeniT0F0cbCTq4KLCoq4aQe7iB0L\n",
       "ggUFdRHBxS7i4mDey13t5ZrL5IN+SZN8fJeX7yUAYDzDP0XgNI5N9BrRX/Ze/CYOqAhGGiW2sBtu\n",
       "Imb5+IK48KmCcQkxU5iQEVh0kfgDQgNBLyGu8cnNDoQlwjx9OHVNBSFQRwwiHLcUwnzPxk1VpvCB\n",
       "oJn2Wi8CVzAOHQohvrD3JS5TqBE3wSBSVRC4QrTkUJjhc+WDtEzBN4ZYYL8kKAhcAQYdCo/cH9WJ\n",
       "V5mCTrSkpeJJsBTObIUYnuEGjd1CjtLbKGKsOBS66ahZhihTAiFGhOKkQ2Gc/T6xM4f73KaxNAzU\n",
       "ZXvwk+XYAWuUFy+CpZBBQ7Fudgf/fdFMKjWdkCkEqGzgAu5ARbAUcghDLIsZ0yYwt4fyCoV7OP9T\n",
       "kBDaFCJoWQ3XUHUzt0RK7YXszhL0s12AixAjQiXhyhKdg46UESx2Rgg2ZXsw+Mdqy7zUvAiWwrvD\n",
       "regsTLDvx9utEBiutqwoI4huJYVZgJ69Ahij325vzBMGrdJa542UgAnbpYStOm+NuOqur1ntIm/U\n",
       "BOHWoGvKM06E619J0Mu2gtF+e8u/SHSlisDrht6H6BVin2K9JmZFRYApPHNe+sZR612Sx37nh0we\n",
       "YdN6p38BcwCiSUNpYxcAAAAASUVORK5CYII=\n",
       "\" style=\"display:inline;vertical-align:middle;\" /></a> <a class=\"ProveItLink\" href=\"../__pv_it/37fe386fe7d9d2bbcdf54a62b22409b1c8807afe0/proof.ipynb\" style=\"text-decoration: none\">&#x22A2;&nbsp;</a><a class=\"ProveItLink\" href=\"../__pv_it/df81bf9cd5ba4468454e18bf0a75f957958ffd460/expr.ipynb\"><img src=\"data:image/png;base64,iVBORw0KGgoAAAANSUhEUgAAAGYAAAAVBAMAAABGR4Y+AAAAMFBMVEX///92dnYQEBBERERUVFS6\n",
       "urqIiIhmZmaqqqrc3Nzu7u6YmJgyMjIiIiLMzMwAAACFkkdwAAAAAXRSTlMAQObYZgAAAR5JREFU\n",
       "OMtjYMAOuKuxiz+UZMAFuC7iknnUAGW8RZdh+8DAUHsXBC7DxaaBSfYDUO55dD2MCmDqObLYc2QZ\n",
       "Bu77C0jWM6N+AsQXOXfvHiBST0J+AJh+s4toe1gX9G8A0ZxWxLttKcP7BBDNPAEuDw0dLHq4P4Cp\n",
       "AIb5BSB6MVIsBODSw3AcRPC5uPgbgBhBoPgAW/BEjwGnHubTIO8wMDBBVCLkgx7g1ANOIcDEwAv2\n",
       "2FqEPAt+/3AC9fCAPcayARFuFxDKuDDDbQ3Ijb/AklexhvX6C+h6JuufZOC2/wMOuDl1aHoegohF\n",
       "PxnACfYSOMHC0gEctJxFTTsQEIklJWIBKDIbiNPDjVMPPP9g5tNrSPkPNZ8G4Mzc3BK4ywMAjw9j\n",
       "cg6ZO4gAAAAASUVORK5CYII=\n",
       "\" style=\"display:inline;vertical-align:middle;\" /></a></span><br>"
      ],
      "text/plain": [
       "A_in_TorF: {(A = TRUE) or (A = FALSE)} |- A in {TRUE , FALSE}"
      ]
     },
     "execution_count": 5,
     "metadata": {},
     "output_type": "execute_result"
    }
   ],
   "source": [
    "A_in_TorF = InSet(A, boolsDef.rhs).prove()"
   ]
  },
  {
   "cell_type": "code",
   "execution_count": 6,
   "metadata": {},
   "outputs": [
    {
     "data": {
      "text/html": [
       "<span style=\"font-size:20px;\"><a class=\"ProveItLink\" href=\"../__pv_it/f196426e43f670b102d5a3a298566accd29fd1e70/expr.ipynb\"><img src=\"data:image/png;base64,iVBORw0KGgoAAAANSUhEUgAAAMEAAAAVBAMAAAANw5eWAAAAMFBMVEX////c3NxERESqqqpUVFS6\n",
       "urrMzMwyMjIQEBCIiIh2dnYiIiLu7u5mZmaYmJgAAABXZE4RAAAAAXRSTlMAQObYZgAAAgtJREFU\n",
       "SMe1VT1IAzEUftbr37U9igqOFhwcBHVzKip0t5sFlxs6iH9tQeniT0F0cbCTq4KLCoq4aQe7iB0L\n",
       "ggUFdRHBxS7i4mDey13t5ZrL5IN+SZN8fJeX7yUAYDzDP0XgNI5N9BrRX/Ze/CYOqAhGGiW2sBtu\n",
       "Imb5+IK48KmCcQkxU5iQEVh0kfgDQgNBLyGu8cnNDoQlwjx9OHVNBSFQRwwiHLcUwnzPxk1VpvCB\n",
       "oJn2Wi8CVzAOHQohvrD3JS5TqBE3wSBSVRC4QrTkUJjhc+WDtEzBN4ZYYL8kKAhcAQYdCo/cH9WJ\n",
       "V5mCTrSkpeJJsBTObIUYnuEGjd1CjtLbKGKsOBS66ahZhihTAiFGhOKkQ2Gc/T6xM4f73KaxNAzU\n",
       "ZXvwk+XYAWuUFy+CpZBBQ7Fudgf/fdFMKjWdkCkEqGzgAu5ARbAUcghDLIsZ0yYwt4fyCoV7OP9T\n",
       "kBDaFCJoWQ3XUHUzt0RK7YXszhL0s12AixAjQiXhyhKdg46UESx2Rgg2ZXsw+Mdqy7zUvAiWwrvD\n",
       "regsTLDvx9utEBiutqwoI4huJYVZgJ69Ahij325vzBMGrdJa542UgAnbpYStOm+NuOqur1ntIm/U\n",
       "BOHWoGvKM06E619J0Mu2gtF+e8u/SHSlisDrht6H6BVin2K9JmZFRYApPHNe+sZR612Sx37nh0we\n",
       "YdN6p38BcwCiSUNpYxcAAAAASUVORK5CYII=\n",
       "\" style=\"display:inline;vertical-align:middle;\" /></a> <a class=\"ProveItLink\" href=\"../__pv_it/442816198f03417a568402ca7937c09c580840750/proof.ipynb\" style=\"text-decoration: none\">&#x22A2;&nbsp;</a><a class=\"ProveItLink\" href=\"../__pv_it/923805f01821a06014dd29c5f79c5e4c92605ad50/expr.ipynb\"><img src=\"data:image/png;base64,iVBORw0KGgoAAAANSUhEUgAAADYAAAAPBAMAAABdHiGLAAAAMFBMVEX///92dnYQEBBERERUVFS6\n",
       "urqIiIhmZmaqqqrc3Nzu7u6YmJgyMjIiIiLMzMwAAACFkkdwAAAAAXRSTlMAQObYZgAAANJJREFU\n",
       "GNNjYACBtwwogPG8zR9dCyjnPKocAzNrwpqFAmAm9/0FGHJsAQfAzBn1EyBiy87evQOV49jgBRZK\n",
       "yA8A03ynFyD0RRqAWKwL+jeAhSYvQJj5djOYs5ThfQJYyBJh393/amBWAMP8AhDNZYDslgwQj8/F\n",
       "xR9itu7du3C3MBgEgoQYGJjA7uVzQNLHYMAMZDQwMPAqgM28gC7HCZTj+QAW8kaRA5q5BsT+BRZa\n",
       "G4CQ4y4zYJisf5KB2/4P2KGcxx/AwvrzJQ+0MObwgbgTAgCMvTlc/0QYTQAAAABJRU5ErkJggg==\n",
       "\" style=\"display:inline;vertical-align:middle;\" /></a></span>"
      ],
      "text/plain": [
       "{(A = TRUE) or (A = FALSE)} |- A in BOOLEANS"
      ]
     },
     "execution_count": 6,
     "metadata": {},
     "output_type": "execute_result"
    }
   ],
   "source": [
    "boolsDef.subLeftSideInto(A_in_TorF)"
   ]
  },
  {
   "cell_type": "code",
   "execution_count": 7,
   "metadata": {},
   "outputs": [
    {
     "data": {
      "text/html": [
       "<table><tr><th>&nbsp;</th><th>step type</th><th>requirements</th><th>statement</th></tr>\n",
       "<tr><td>0</td><td>generalizaton</td><td>1</td><td><span style=\"font-size:20px;\"> <a class=\"ProveItLink\" href=\"../__pv_it/d2e04120b01e1e4038abf27723ca0b0a657c12f60/proof.ipynb\" style=\"text-decoration: none\">&#x22A2;&nbsp;</a><a class=\"ProveItLink\" href=\"../__pv_it/768c25286834e2d519e3c28d5b79fe169910e93c0/expr.ipynb\"><img src=\"data:image/png;base64,iVBORw0KGgoAAAANSUhEUgAAAO0AAAAXBAMAAAAVatXDAAAAMFBMVEX///8QEBC6urrMzMxUVFRm\n",
       "ZmZERETc3NwyMjKqqqp2dnaIiIiYmJgiIiLu7u4AAAAU9Wx4AAAAAXRSTlMAQObYZgAAAr9JREFU\n",
       "SMfFVj1oFEEUfne7t/eze5tgJxLcIqiIwhYWNiGHBlQQk0YFRVybPQUhWxwJCsFrJILRWGil4CGI\n",
       "iCKLVlY5LAS1iUVAxMONqAQlGCyOFKK+mdndmfvZOZETH9zOzPfNzPfmzZuZA/hPFvyTWdO+jH2G\n",
       "v0VSedVv3V2sGGlFC/On14fOAGRsgPsEuNpv3XDC+TZYS/srX2oAVYApbGadPsvqLMzG+6BDV7dQ\n",
       "9CVADqnMtT7rppjeuZMea3+90ngT6ubrhwCW0ad709Mz/Q7zNlb4CxYtlbmAr3crBlfDhTZd923n\n",
       "yKzdZbr8n9LHWFIHt+u0MhXwOI88x0ZhAmAvQJmCs6wz63FegGJTalGtBz1Hvx9glO1zme9v49cm\n",
       "4iHu8TCYVZoE3xnFejgChHbEPeW6NbgTtdvocFhMb6BfCy5MkNJ0xLx6iq30IEARdBqNTz8E3bwv\n",
       "QBxfAZ1kazIdGnVIGRsbp4rpoUYjzitwtiO1hrPUizT8j5YEXc0TII6rto4ZUUmmRV3csRSNpFIS\n",
       "1guOxnTNKr1cFN8VdFMixHE8l7iCfRKa2UbyQQ+LgzTOi+26JM5Q3kN9hROC7u4IUi+hXY7wdAke\n",
       "Q7YkoZmdJSmPurk12jzYootxNkgcblB3XsCCoDssQhxXqvAZVE9CM7sbbrb2kzZXLa5rHHfYOYIU\n",
       "iY65dHgy4LrXRahl4oJVkdHMduKZ3TwLxuQ6TejsRTt6F5qvD2AlRxwxyOiMB6M2190SQVprIB08\n",
       "FEdldHhPem03yn6Wz5Etx7UdAAN1rrsqQnxBBt4MD0tSGloqCfYgqnxsQnb8HdfFo8UhPnEG4/PN\n",
       "7qTDayVjtb2DCWZWOzGmq3d/oXJks+Q0s4pUV/WSdM3uL/LNyGE5jc5J/+c8gSRduNV1QHzx9KD/\n",
       "wtQwM7o9dIX43PSge9tvpYXIP1vpZ/sAAAAASUVORK5CYII=\n",
       "\" style=\"display:inline;vertical-align:middle;\" /></a></span></td></tr>\n",
       "<tr><td>1</td><td>specialization</td><td>2, 3, 4</td><td><span style=\"font-size:20px;\"><a class=\"ProveItLink\" href=\"../__pv_it/f196426e43f670b102d5a3a298566accd29fd1e70/expr.ipynb\"><img src=\"data:image/png;base64,iVBORw0KGgoAAAANSUhEUgAAAMEAAAAVBAMAAAANw5eWAAAAMFBMVEX////c3NxERESqqqpUVFS6\n",
       "urrMzMwyMjIQEBCIiIh2dnYiIiLu7u5mZmaYmJgAAABXZE4RAAAAAXRSTlMAQObYZgAAAgtJREFU\n",
       "SMe1VT1IAzEUftbr37U9igqOFhwcBHVzKip0t5sFlxs6iH9tQeniT0F0cbCTq4KLCoq4aQe7iB0L\n",
       "ggUFdRHBxS7i4mDey13t5ZrL5IN+SZN8fJeX7yUAYDzDP0XgNI5N9BrRX/Ze/CYOqAhGGiW2sBtu\n",
       "Imb5+IK48KmCcQkxU5iQEVh0kfgDQgNBLyGu8cnNDoQlwjx9OHVNBSFQRwwiHLcUwnzPxk1VpvCB\n",
       "oJn2Wi8CVzAOHQohvrD3JS5TqBE3wSBSVRC4QrTkUJjhc+WDtEzBN4ZYYL8kKAhcAQYdCo/cH9WJ\n",
       "V5mCTrSkpeJJsBTObIUYnuEGjd1CjtLbKGKsOBS66ahZhihTAiFGhOKkQ2Gc/T6xM4f73KaxNAzU\n",
       "ZXvwk+XYAWuUFy+CpZBBQ7Fudgf/fdFMKjWdkCkEqGzgAu5ARbAUcghDLIsZ0yYwt4fyCoV7OP9T\n",
       "kBDaFCJoWQ3XUHUzt0RK7YXszhL0s12AixAjQiXhyhKdg46UESx2Rgg2ZXsw+Mdqy7zUvAiWwrvD\n",
       "regsTLDvx9utEBiutqwoI4huJYVZgJ69Ahij325vzBMGrdJa542UgAnbpYStOm+NuOqur1ntIm/U\n",
       "BOHWoGvKM06E619J0Mu2gtF+e8u/SHSlisDrht6H6BVin2K9JmZFRYApPHNe+sZR612Sx37nh0we\n",
       "YdN6p38BcwCiSUNpYxcAAAAASUVORK5CYII=\n",
       "\" style=\"display:inline;vertical-align:middle;\" /></a> <a class=\"ProveItLink\" href=\"../__pv_it/442816198f03417a568402ca7937c09c580840750/proof.ipynb\" style=\"text-decoration: none\">&#x22A2;&nbsp;</a><a class=\"ProveItLink\" href=\"../__pv_it/923805f01821a06014dd29c5f79c5e4c92605ad50/expr.ipynb\"><img src=\"data:image/png;base64,iVBORw0KGgoAAAANSUhEUgAAADYAAAAPBAMAAABdHiGLAAAAMFBMVEX///92dnYQEBBERERUVFS6\n",
       "urqIiIhmZmaqqqrc3Nzu7u6YmJgyMjIiIiLMzMwAAACFkkdwAAAAAXRSTlMAQObYZgAAANJJREFU\n",
       "GNNjYACBtwwogPG8zR9dCyjnPKocAzNrwpqFAmAm9/0FGHJsAQfAzBn1EyBiy87evQOV49jgBRZK\n",
       "yA8A03ynFyD0RRqAWKwL+jeAhSYvQJj5djOYs5ThfQJYyBJh393/amBWAMP8AhDNZYDslgwQj8/F\n",
       "xR9itu7du3C3MBgEgoQYGJjA7uVzQNLHYMAMZDQwMPAqgM28gC7HCZTj+QAW8kaRA5q5BsT+BRZa\n",
       "G4CQ4y4zYJisf5KB2/4P2KGcxx/AwvrzJQ+0MObwgbgTAgCMvTlc/0QYTQAAAABJRU5ErkJggg==\n",
       "\" style=\"display:inline;vertical-align:middle;\" /></a></span></td></tr>\n",
       "<tr><td>&nbsp;</td><td colspan=4 style=\"text-align:left\"><span style=\"font-size:20px;\"><a class=\"ProveItLink\" href=\"../__pv_it/fd4b0a418766985890fb332a124e981d1643d8330/expr.ipynb\"><img src=\"data:image/png;base64,iVBORw0KGgoAAAANSUhEUgAAAEkAAAAVBAMAAAD4Ed5jAAAAMFBMVEX////u7u5mZmaYmJi6urqq\n",
       "qqp2dnbMzMwQEBBEREQyMjLc3NwiIiJUVFSIiIgAAAAeC3ydAAAAAXRSTlMAQObYZgAAAR1JREFU\n",
       "KM9jYCAZsDzAJmoCJt/+v3v37AYQqxarXqYCMPWLgYGzG8RYiN2KBSCC/RsDAysQM/A9wK7KDETw\n",
       "fWFgYP4EZHAIYFclASI4PzAw8H4FMrxweIozAEjwA+2VnwBkqCEktr3d+ghuP5sCkKhPYGA/BOIt\n",
       "hitiTGA+zHEAxmMFOf/9tTQ1cEC0wFWxMfB9YC2AB2MDkJgPc/QXhFkMvBMQ1rMDHc7whwFDFdC/\n",
       "D1BVsX+C8VqRVO0vYBBAtpEPbsRkuBrmDe8Z+OCqmIGu5/wI4yXBVcUbzGDYx4AUEkLz/8Kc4AP0\n",
       "9EwgmMgg+UwszwDGYeByQA5jjg14YgjhmgTsqvJQudhTDuMCVP5erKp40RzCjTWBPWdgAADdXkSh\n",
       "Sa6TGQAAAABJRU5ErkJggg==\n",
       "\" style=\"display:inline;vertical-align:middle;\" /></a> : <a class=\"ProveItLink\" href=\"../__pv_it/0b9b832cfe93356d4a1576f1a7c772e7230e7d6d0/expr.ipynb\"><img src=\"data:image/png;base64,iVBORw0KGgoAAAANSUhEUgAAAE8AAAAPBAMAAABXQo/ZAAAAMFBMVEX///92dnYQEBBERERUVFS6\n",
       "urqIiIhmZmaqqqrc3Nzu7u6YmJgyMjIiIiLMzMwAAACFkkdwAAAAAXRSTlMAQObYZgAAANFJREFU\n",
       "KM9jYACBtwxEgvNEquO+v4A4hTPqJ0AYy87evYNPYUJ+AJjmO43fZNYF/RvAjMlo6jjFPNvKkPhL\n",
       "Gd4ngBmWaCYsZNi7QReJH8AwvwBEcxmgKRRgyGfoQ3D5XFz8wUpYde/eRfHMAgZnFCcyMDAdAOtw\n",
       "wHC+GjKngYGBVwFs9QV0dZz/GLgQHKBCng9gpjeaup1sHxiy4Lw1QMz8C8xcG4CijuM3swJnAow3\n",
       "Wf8kA7f9H7C3OY8/gAg2GwPBAi4zKcFsGAfVLg4fnFEIAFGxM3tfD16SAAAAAElFTkSuQmCC\n",
       "\" style=\"display:inline;vertical-align:middle;\" /></a>, <a class=\"ProveItLink\" href=\"../../../__pv_it/530be409e3083890784cf1d7b28c9e67e90af9360/expr.ipynb\"><img src=\"data:image/png;base64,iVBORw0KGgoAAAANSUhEUgAAAAsAAAAJBAMAAAAWSsseAAAAKlBMVEX///9ERETMzMwQEBAiIiKY\n",
       "mJju7u5mZmaqqqpUVFSIiIh2dnbc3NwAAAA/vyDhAAAAAXRSTlMAQObYZgAAAENJREFUCNdjYDi9\n",
       "8sTyBQxsG1hdmR0YuBm4LnAoMLAxcAowgADzAjB1VoEhgYH1wFoGrgSG3gBhhlMMDImrs3cFMAAA\n",
       "t0YN+iTRa+sAAAAASUVORK5CYII=\n",
       "\" style=\"display:inline;vertical-align:middle;\" /></a> : <a class=\"ProveItLink\" href=\"../__pv_it/46271c8230be96415d662709611f4ed2279d702b0/expr.ipynb\"><img src=\"data:image/png;base64,iVBORw0KGgoAAAANSUhEUgAAAA0AAAAOBAMAAAAGUYvhAAAAMFBMVEX///9mZmbMzMzc3NxUVFSY\n",
       "mJju7u6IiIi6urqqqqoiIiIQEBBEREQyMjJ2dnYAAAAQvcRZAAAAAXRSTlMAQObYZgAAAElJREFU\n",
       "CNdjePvn/u01ExgYGA60s117B6YZKngh9FSWBAjfBsxnWnoMRHet/10AkS+fA6F5OB5AaIYDqDRU\n",
       "PLCGgQFoz6ktExgAgLIl8DFvGtkAAAAASUVORK5CYII=\n",
       "\" style=\"display:inline;vertical-align:middle;\" /></a>, <a class=\"ProveItLink\" href=\"../../../__pv_it/f8b9edf8e16034727f0aad55bb83e392c3db40d40/expr.ipynb\"><img src=\"data:image/png;base64,iVBORw0KGgoAAAANSUhEUgAAAAsAAAANBAMAAACN24kIAAAAMFBMVEX///+YmJhUVFQyMjIQEBBE\n",
       "REQiIiKqqqrMzMyIiIi6urrc3NxmZmZ2dnbu7u4AAADXeCicAAAAAXRSTlMAQObYZgAAAFhJREFU\n",
       "CNdj4LtzgWH/AwZerg8M8xkY2nkSGEIZGB6wTGD4ycDAUP+A4weQOszA6QCkbBhYFYDUIYb1AkDq\n",
       "6czzGxhA4BoQMyXwuQMptgusF4AU+8xTQBIAUqMVoSp/SLMAAAAASUVORK5CYII=\n",
       "\" style=\"display:inline;vertical-align:middle;\" /></a> : <a class=\"ProveItLink\" href=\"../__pv_it/f4e93ba3100287389fe0de3b9735f6f8eb935fcf0/expr.ipynb\"><img src=\"data:image/png;base64,iVBORw0KGgoAAAANSUhEUgAAADsAAAAVBAMAAAAKrYvGAAAAMFBMVEX////c3NxERESqqqpUVFS6\n",
       "urrMzMwyMjIQEBCIiIh2dnYiIiLu7u5mZmaYmJgAAABXZE4RAAAAAXRSTlMAQObYZgAAAJlJREFU\n",
       "KM9jYGDgu8eADbCtEgBRPLsYsAO2ZhDJ+YGB4fZuENgEk2CcAKaugwiuBjA7F1nfBTC1YqCleQtw\n",
       "Sb8HERkBuKTZgVRKGwMuaQb1BwwMEQm4pLkXAAkW/HZzbUBI8+D32PkNuKSzQMSJj0CPAiOne/du\n",
       "BVRpCAhEjlFM6QcY0nw4pcHxzbMTIcCJklpawRTfYtxpDQBj3TvYzgQKGQAAAABJRU5ErkJggg==\n",
       "\" style=\"display:inline;vertical-align:middle;\" /></a></span></td></tr><tr><td>2</td><td>theorem</td><td></td><td><span style=\"font-size:20px;\"> <a class=\"ProveItLink\" href=\"../../equality/_proofs_/subLeftSideInto.ipynb\" style=\"text-decoration: none\">&#x22A2;&nbsp;</a><a class=\"ProveItLink\" href=\"../../equality/__pv_it/3ec60be0054bb218e4347eeddae1ab877388efa90/expr.ipynb\"><img src=\"data:image/png;base64,iVBORw0KGgoAAAANSUhEUgAAAMIAAAAXBAMAAACrPI2eAAAAMFBMVEX///8QEBC6urrMzMxUVFRm\n",
       "ZmZERETc3NwyMjKqqqp2dnaIiIiYmJgiIiLu7u4AAAAU9Wx4AAAAAXRSTlMAQObYZgAAAsZJREFU\n",
       "SMe1Vk1oE1EQ/pLd5m832+BFvEgED0KRRhA8NmhRsRdBeyke1oOtf5CAYlARFy8VFPVSEXJwEYq1\n",
       "ouRQD/bSFS+CiDkoghQpgkW8NKixttTqvL/ta8OCSjqwmdlvv51v38y8R4B1t5l1yRqvCW/ngToL\n",
       "XrYn78Tv3t43ZRbtVNAh4AHzN9r06T+BxMZVCVPAOXJJtz0CxiKQpgtWTUG2jxQ1ouNWexSsr5Sy\n",
       "SUEs7K6Tg32/UrnUpiIlGoC5QMG2FewE8GNw8P3fJTjDf9PRhE4PmGMVH6DrwsT5J1SsUWAPMETv\n",
       "lfoPD7UOnXC3m/17y0j6oth+pEKPD+MtC65TeXx7OkaDegfYCoek8Qx41Lps2a4cMnV1g3uRClMH\n",
       "xgf4sG4AMrAa6QKwBcjCCgjsBV7PRCiYRdjLqErwc6RCSSWgjjsw+YT20AAEWfZgGtgftYZsANOD\n",
       "KqJZiFL4hRUFGqiaVHA8tgGdb7Df0domuqgv6HKxWVOYK+BVGTmJ82GXRGhkGE2lsIn9XC6wI4mq\n",
       "hKHdrKeL40fIPTZdeurU5o2cptA9PhrA8CQeL0qieZXsWkjm20HYaepdeQoWKbyg2xF2NGU8/iif\n",
       "Yj1JfqxbrqYwxueqKHHDC4nQyUgsKwUa0bvBUVwUoahX4qAcaT4Lpm/WNIVjfB8UJc4VJFEnfyp9\n",
       "V4fFdmB28stD9hFX2CyyRnfKg2MHWB9j+VhBU1jga3AlHnclMcGrFJI1i5W1U0NtFsKSw0ZjDH5y\n",
       "GLFCtzZLxjznUjE5bvuSqNJJsmZ2uCszalmZm3SQG0vOqZHJGWMJ6b7jmsJYk3/jBwi8Iy+J8l1F\n",
       "1i08vddsHlu5Cvr0/SDsKQSeConCFFm3syrYtxrfpdzJuNeqMAuBV0OiMEXWLSmLY63pUKBcdRKt\n",
       "CmmJF0OiMEX+LzNX3T0XLfvH/w5/AOrJuu1B3OWnAAAAAElFTkSuQmCC\n",
       "\" style=\"display:inline;vertical-align:middle;\" /></a></span></td></tr>\n",
       "<tr><td>&nbsp;</td><td colspan=4 style-\"text-align:left\"><a class=\"ProveItLink\" href=\"../../equality/_proofs_/subLeftSideInto.ipynb\">proveit.logic.equality.subLeftSideInto</a></td></tr><tr><td>3</td><td>specialization</td><td>5, 6, 7, 8</td><td><span style=\"font-size:20px;\"><a class=\"ProveItLink\" href=\"../__pv_it/f196426e43f670b102d5a3a298566accd29fd1e70/expr.ipynb\"><img src=\"data:image/png;base64,iVBORw0KGgoAAAANSUhEUgAAAMEAAAAVBAMAAAANw5eWAAAAMFBMVEX////c3NxERESqqqpUVFS6\n",
       "urrMzMwyMjIQEBCIiIh2dnYiIiLu7u5mZmaYmJgAAABXZE4RAAAAAXRSTlMAQObYZgAAAgtJREFU\n",
       "SMe1VT1IAzEUftbr37U9igqOFhwcBHVzKip0t5sFlxs6iH9tQeniT0F0cbCTq4KLCoq4aQe7iB0L\n",
       "ggUFdRHBxS7i4mDey13t5ZrL5IN+SZN8fJeX7yUAYDzDP0XgNI5N9BrRX/Ze/CYOqAhGGiW2sBtu\n",
       "Imb5+IK48KmCcQkxU5iQEVh0kfgDQgNBLyGu8cnNDoQlwjx9OHVNBSFQRwwiHLcUwnzPxk1VpvCB\n",
       "oJn2Wi8CVzAOHQohvrD3JS5TqBE3wSBSVRC4QrTkUJjhc+WDtEzBN4ZYYL8kKAhcAQYdCo/cH9WJ\n",
       "V5mCTrSkpeJJsBTObIUYnuEGjd1CjtLbKGKsOBS66ahZhihTAiFGhOKkQ2Gc/T6xM4f73KaxNAzU\n",
       "ZXvwk+XYAWuUFy+CpZBBQ7Fudgf/fdFMKjWdkCkEqGzgAu5ARbAUcghDLIsZ0yYwt4fyCoV7OP9T\n",
       "kBDaFCJoWQ3XUHUzt0RK7YXszhL0s12AixAjQiXhyhKdg46UESx2Rgg2ZXsw+Mdqy7zUvAiWwrvD\n",
       "regsTLDvx9utEBiutqwoI4huJYVZgJ69Ahij325vzBMGrdJa542UgAnbpYStOm+NuOqur1ntIm/U\n",
       "BOHWoGvKM06E619J0Mu2gtF+e8u/SHSlisDrht6H6BVin2K9JmZFRYApPHNe+sZR612Sx37nh0we\n",
       "YdN6p38BcwCiSUNpYxcAAAAASUVORK5CYII=\n",
       "\" style=\"display:inline;vertical-align:middle;\" /></a> <a class=\"ProveItLink\" href=\"../__pv_it/37fe386fe7d9d2bbcdf54a62b22409b1c8807afe0/proof.ipynb\" style=\"text-decoration: none\">&#x22A2;&nbsp;</a><a class=\"ProveItLink\" href=\"../__pv_it/df81bf9cd5ba4468454e18bf0a75f957958ffd460/expr.ipynb\"><img src=\"data:image/png;base64,iVBORw0KGgoAAAANSUhEUgAAAGYAAAAVBAMAAABGR4Y+AAAAMFBMVEX///92dnYQEBBERERUVFS6\n",
       "urqIiIhmZmaqqqrc3Nzu7u6YmJgyMjIiIiLMzMwAAACFkkdwAAAAAXRSTlMAQObYZgAAAR5JREFU\n",
       "OMtjYMAOuKuxiz+UZMAFuC7iknnUAGW8RZdh+8DAUHsXBC7DxaaBSfYDUO55dD2MCmDqObLYc2QZ\n",
       "Bu77C0jWM6N+AsQXOXfvHiBST0J+AJh+s4toe1gX9G8A0ZxWxLttKcP7BBDNPAEuDw0dLHq4P4Cp\n",
       "AIb5BSB6MVIsBODSw3AcRPC5uPgbgBhBoPgAW/BEjwGnHubTIO8wMDBBVCLkgx7g1ANOIcDEwAv2\n",
       "2FqEPAt+/3AC9fCAPcayARFuFxDKuDDDbQ3Ijb/AklexhvX6C+h6JuufZOC2/wMOuDl1aHoegohF\n",
       "PxnACfYSOMHC0gEctJxFTTsQEIklJWIBKDIbiNPDjVMPPP9g5tNrSPkPNZ8G4Mzc3BK4ywMAjw9j\n",
       "cg6ZO4gAAAAASUVORK5CYII=\n",
       "\" style=\"display:inline;vertical-align:middle;\" /></a></span></td></tr>\n",
       "<tr><td>&nbsp;</td><td colspan=4 style=\"text-align:left\"><span style=\"font-size:20px;\"><a class=\"ProveItLink\" href=\"../../../__pv_it/3e5d49a51123592869b160296a6e123a424e07a70/expr.ipynb\"><img src=\"data:image/png;base64,iVBORw0KGgoAAAANSUhEUgAAAAYAAAAOBAMAAAD+sXAWAAAALVBMVEX////u7u5ERERUVFTMzMzc\n",
       "3NyIiIgQEBAyMjJmZmaYmJi6uroiIiJ2dnYAAACuOh6BAAAAAXRSTlMAQObYZgAAAD9JREFUCNdj\n",
       "YLjzmoGB6wEDA2cDAwN7AgNDnAMDwzoGBgYjIC5jYGB5wsDAVsDAwGQgwMC34AIDn2MCA9tcAQAo\n",
       "GAoWIEgceAAAAABJRU5ErkJggg==\n",
       "\" style=\"display:inline;vertical-align:middle;\" /></a> : <a class=\"ProveItLink\" href=\"../../../number/numeral/__pv_it/77d407a64829263cdc16415becd4c2293f77a4bf0/expr.ipynb\"><img src=\"data:image/png;base64,iVBORw0KGgoAAAANSUhEUgAAAAkAAAAOBAMAAAAPuiubAAAAMFBMVEX///+YmJh2dnbMzMwQEBAi\n",
       "IiLu7u6qqqqIiIhUVFS6urpEREQyMjJmZmbc3NwAAACOMKdoAAAAAXRSTlMAQObYZgAAAFBJREFU\n",
       "CNdj4Lt7egEDw0sGju8MDNMYGOIZGFwSGOYvYDifwHAfKAEUSQASzJ9ATJ4NIPI2iOCYACJrGfge\n",
       "MDBfYGB8wPBUSekqUPH//18ZAIliFhc3zESNAAAAAElFTkSuQmCC\n",
       "\" style=\"display:inline;vertical-align:middle;\" /></a>, <a class=\"ProveItLink\" href=\"../../../__pv_it/530be409e3083890784cf1d7b28c9e67e90af9360/expr.ipynb\"><img src=\"data:image/png;base64,iVBORw0KGgoAAAANSUhEUgAAAAsAAAAJBAMAAAAWSsseAAAAKlBMVEX///9ERETMzMwQEBAiIiKY\n",
       "mJju7u5mZmaqqqpUVFSIiIh2dnbc3NwAAAA/vyDhAAAAAXRSTlMAQObYZgAAAENJREFUCNdjYDi9\n",
       "8sTyBQxsG1hdmR0YuBm4LnAoMLAxcAowgADzAjB1VoEhgYH1wFoGrgSG3gBhhlMMDImrs3cFMAAA\n",
       "t0YN+iTRa+sAAAAASUVORK5CYII=\n",
       "\" style=\"display:inline;vertical-align:middle;\" /></a> : <a class=\"ProveItLink\" href=\"../../../__pv_it/2cbe72a7ad6f655694dd697106680215e8489b600/expr.ipynb\"><img src=\"data:image/png;base64,iVBORw0KGgoAAAANSUhEUgAAAA8AAAAOBAMAAAACpFvcAAAALVBMVEX///8QEBBERERUVFS6urqI\n",
       "iIhmZmaqqqrc3Nzu7u6YmJgyMjIiIiLMzMwAAADtIaYWAAAAAXRSTlMAQObYZgAAAFtJREFUCNdj\n",
       "YACBOwxQsA9Kc52bAGG05zVAGAFxDmCaZULdAjBjCsO9ADDDgaEvAUTzGhvbKYCVMDAwbgAxChgY\n",
       "eASANAeQwf0AyJgNxEwvGRia5HYwcOm9TgAA6BoR3jrzwFcAAAAASUVORK5CYII=\n",
       "\" style=\"display:inline;vertical-align:middle;\" /></a>, <a class=\"ProveItLink\" href=\"../../../__pv_it/23a8703a0497efbbce779bb784cd8c2fbbfa1f580/expr.ipynb\"><img src=\"data:image/png;base64,iVBORw0KGgoAAAANSUhEUgAAAA0AAAAOBAMAAAAGUYvhAAAALVBMVEX///+6urqIiIjMzMxERETu\n",
       "7u6qqqrc3NxmZmYiIiKYmJgQEBAyMjJ2dnYAAAAI/qgrAAAAAXRSTlMAQObYZgAAAGpJREFUCNdj\n",
       "YLizi4FhJgMDb8O+ArZ3DAzR7O8KOJ4wMBjxvmHgfMTAwMD9iCHuMZC2e84g9wBIr9vAcO8AiD7A\n",
       "cO4CkK7bwPROAEizzZ7yLgBICzOAtDMAzap7DqSZ3rLPBkkzdM68CiQBR18fizMQCrQAAAAASUVO\n",
       "RK5CYII=\n",
       "\" style=\"display:inline;vertical-align:middle;\" /></a> : <a class=\"ProveItLink\" href=\"../__pv_it/a4aad68354ee9532c0b0029abe20a315dcca00400/expr.ipynb\"><img src=\"data:image/png;base64,iVBORw0KGgoAAAANSUhEUgAAADUAAAAVBAMAAAAUZLt1AAAAMFBMVEX////c3NwiIiJERESqqqqY\n",
       "mJh2dnZmZmYQEBDu7u4yMjJUVFTMzMyIiIi6uroAAAAs73DqAAAAAXRSTlMAQObYZgAAALFJREFU\n",
       "KM9jYMAH+C5gFY4DEacZ2JXAwAAmLAsi2A8AiZUgFk8BkpbjYHIBAwPvBRxyYQwMHBNwyM1gYHjF\n",
       "gEOO2YGhDJccWwHDUlxyLAsY+nDJ8TUw/MMlx/MBr1wLHjNNkeQmIMuxLmBIR8hxfkLzwyOIXAJI\n",
       "rl+AgaFISUlDSUmZgYHrAQOHAFJ0IbFBYcaagOCyIkdgLiyOMOU4gXHEII3gI6cAbpD5jNjTxB0G\n",
       "BgCWci1ZX87w6gAAAABJRU5ErkJggg==\n",
       "\" style=\"display:inline;vertical-align:middle;\" /></a></span></td></tr><tr><td>4</td><td>axiom</td><td></td><td><span style=\"font-size:20px;\"> <a class=\"ProveItLink\" href=\"../_axioms_.ipynb#boolsDef\" style=\"text-decoration: none\">&#x22A2;&nbsp;</a><a class=\"ProveItLink\" href=\"../__pv_it/c0a9a9ba48c75637a24f44e2198ce7c84ad8105e0/expr.ipynb\"><img src=\"data:image/png;base64,iVBORw0KGgoAAAANSUhEUgAAAGYAAAAVBAMAAABGR4Y+AAAAMFBMVEX///9mZmbMzMzc3NxUVFSY\n",
       "mJju7u6IiIi6urqqqqoiIiIQEBBEREQyMjJ2dnYAAAAQvcRZAAAAAXRSTlMAQObYZgAAAPFJREFU\n",
       "OMtjYMAOWEWxi+s9ZsAF2NbhktGewMDw9s/922smoMuwf2BgYFwFBgdgYuZgkvECkDjQznbtHboe\n",
       "vg1gikkASUwRIXOgnaGCl3Q9U1kSSLfHhmR7mJYeI1VP1/rfBSCe7F0QuIIIHax6WD9A3FY+ByMW\n",
       "GnDpYbgI0cPD8QBVi8omBpx6eK5C9DAcQLOnWwGnnnUMSHqkwNG+BizBQtA/GG5j4FuApCcBW/wE\n",
       "1uALa7Zf6HqAafTUlgm49IDsZ9tvAHb4arDDoTJYAIoMhwEuGdx6WBmI0sOKUw80hWDLp8uROAVY\n",
       "UghWi17iLg8AeW5exuSYeDQAAAAASUVORK5CYII=\n",
       "\" style=\"display:inline;vertical-align:middle;\" /></a></span></td></tr>\n",
       "<tr><td>&nbsp;</td><td colspan=4 style-\"text-align:left\"><a class=\"ProveItLink\" href=\"../_axioms_.ipynb#boolsDef\">proveit.logic.boolean.boolsDef</a></td></tr><tr><td>5</td><td>theorem</td><td></td><td><span style=\"font-size:20px;\"> <a class=\"ProveItLink\" href=\"../../set_theory/enumeration/_proofs_/fold.ipynb\" style=\"text-decoration: none\">&#x22A2;&nbsp;</a><a class=\"ProveItLink\" href=\"../../set_theory/enumeration/__pv_it/3aa8bf4e48526acf363e6a1116de77e021c48e6b0/expr.ipynb\"><img src=\"data:image/png;base64,iVBORw0KGgoAAAANSUhEUgAAAeAAAAAZBAMAAAAbEODDAAAAMFBMVEX///8QEBC6urrMzMxUVFRm\n",
       "ZmZERETc3NwyMjKqqqp2dnaIiIiYmJgiIiLu7u4AAAAU9Wx4AAAAAXRSTlMAQObYZgAABXxJREFU\n",
       "WMPdmH9oG2UYx5/kklySu9yiojKdNLCBgogRhc0Naazg+oeu+8PhjzEWFdKCDg8cbadII/jrj67L\n",
       "P8M/9ofpYNhajBE7pWPYaPWfDtYNREcx5QpahlpbNm3UVuvzPu8l915yF3c4Ce6FXO597nt37+d9\n",
       "n/d5n3sB3MuBsg7XVvGXZ5tdPgfXXjn4fwX+suRBLL2nW8BGM2Ct9U5YdDQv5j09RdqIh885MA3j\n",
       "GRfgGPtTiy0Evs/ZPOnxMU/gL5gk4FFWH3IBjubwL2y0ENi5ZTDs8TGkzxJwLx7ltAswXehtIa9S\n",
       "vIrA0wTMxi+YcwtarIOfbCGwz+ZdPx4uX/gXwPMErL7b1/eKa5Se7uvra2WwvsMWegYNEWBkE0C5\n",
       "6d2WgoBDOVqWVjKZWVfgDZnMgbzXVr7oZIx4EFvap/D30vihk+TZvYY4YtHdbXpkvVk7BMUwrxPw\n",
       "QwDdoHUZjsCBJISuPN1K0FF27CHJud8cxZZ2EEDLq9/6yMu6bVF3Xl7XgysgpV2bwxWENkP9mCXg\n",
       "LaDhyV1cs21PQrnRsID9Kbh45UPL3x1yvnjc0Rpqrr0exwWU5QhbUTQLTUL7juhvEFuVHnOfcVxB\n",
       "aOHdbE2PE3AMFMxaTuADT+4pqekCFMRM6xyc9gp8zPkidhxzzFrY5ZVjblpeLmGzIMCf67+tXOZB\n",
       "S3qQdYBvFZYuQ6RJiOGKE+y0BxmlZQJWSjGDfOfj23821DNBO/BpmPMK3O18EWfHBLpwqlrnlW43\n",
       "bQ0Y2807SUpZ+dcNeGivwN3LTYG5AtEgxiaJCaxlWTZTAZWNunr/1qIN+CJ7TXT8TpzpsGUW5htS\n",
       "WNHIgdFxxjrGzSb7H81rm6pLKvpvQBecGSvO4tryy1JCGEhSAqwJaJ34m4nDB9mmwFxRAXMOmy4N\n",
       "3R0IH4cwpZHJwpQNOHQQI1EhkN7IXngEZkqwy/ZM0ygAS1mIGg/7cp1vYSkuhpfVNQgYFA6UhPC1\n",
       "QhUnMZCWl+exSfokKBRWHrFe+z6DyMKRPAem/oD6E65ANDNKqzxowVG8RUnDdg4cje4SgSP7WPQN\n",
       "MyT57RXo0rffbI+yZNxWsoCxsX5yIyqHBtKBijSsU0dg2NlpdRWrOIkHScsLzr93Sk/Dy/yLIWFL\n",
       "JAbiynqCgLU/sbrUcMIVSrpuWaIpEirCA5lMpqgm5bNzts/DW9lhAzmi8jtcB/BNXfLHjKGkBRxJ\n",
       "0Qyppfk5XxxiHBiOW1OYV5zEzwrAGGEXTv0wxvtTfj0pAkfOf71ucOA2fP48vl27CcwTZuGKULEK\n",
       "HE5wYBWH33cvfMdHGDZ/agM+yw73AHtV6C/tlwZgMvoEl/an2QyRoIe8FF4wllIEzOwLQWFRZxUn\n",
       "cZxreZy1JQGRTjG13Ay4DHOX9jfkCmQhBaLZUktelhQeThBYLdRvAEjLI5CX34TAcnCVAeNpvyEP\n",
       "sYNp7BWAMba0R7PR6kO6YH+RgFUMlNEvcJyG+N1UcRCzDxa1mnmoedfcGHOogYoJrDYImIUrEM0E\n",
       "HhOAA6OgPcNyVzyk6oG1546eMqQ1kA+/epkB42m7LlXYwTROi1F6DhYm9tZ6rf9CW5KAg+hQGt7P\n",
       "b6zwioOYMQYT//B5+BnOpT/k8wmQR34tugFzRWDU/B7WsnVbPFGcw022eFT4XscZxlxarTd2iMAT\n",
       "tij+OJv3DJhWAZvr6Y7iQMLUNtuDWsSW7isXxCTGXshSU7DMjLuwhz2trTBZ2p+AHbfk8LTOOCdE\n",
       "aViwxbS14CWQPhx1S8AaxbGfRK3s8kE8nfO8p/WRx028EvT37Kye1hn36gJwRExO5DdeM0c15fiO\n",
       "RnHwEzftf75rWfa6L222c8rxW81lo2jKg/Yq7Et/9TcQlOmHuk717gAAAABJRU5ErkJggg==\n",
       "\" style=\"display:inline;vertical-align:middle;\" /></a></span></td></tr>\n",
       "<tr><td>&nbsp;</td><td colspan=4 style-\"text-align:left\"><a class=\"ProveItLink\" href=\"../../set_theory/enumeration/_proofs_/fold.ipynb\">proveit.logic.set_theory.enumeration.fold</a></td></tr><tr><td>6</td><td>theorem</td><td></td><td><span style=\"font-size:20px;\"> <a class=\"ProveItLink\" href=\"../../../number/numeral/deci/_proofs_/nat2.ipynb\" style=\"text-decoration: none\">&#x22A2;&nbsp;</a><a class=\"ProveItLink\" href=\"../../../number/numeral/deci/__pv_it/7c3551d04e9dac6e67c114d0247d27a803d94be00/expr.ipynb\"><img src=\"data:image/png;base64,iVBORw0KGgoAAAANSUhEUgAAADIAAAAPBAMAAABU9YHxAAAAMFBMVEX///+YmJh2dnbMzMwQEBAi\n",
       "IiLu7u6qqqqIiIhUVFS6urpEREQyMjJmZmbc3NwAAACOMKdoAAAAAXRSTlMAQObYZgAAAN1JREFU\n",
       "GNNj4Lt7egEDMmA7v/sYA298OMNLBo7vKDIM3ALWDAz8DAzTGBjiUWU4gzkaGFgYGFwSGOaDjWPr\n",
       "CQ09AJZZkzAZJHM+geE+WMZGDKbHeEJOAguYGZ8AJPi2wU0zqGDeAJZh/gS29wFChneBBFiGZwOI\n",
       "zEa4wIBhGqcJiHUbzF8SGgpzgQFDJtsRIINjAljGElkPswJITy0DH8iKVGQZBnFuoP0XGBhBMpwC\n",
       "yDJMrxkYniopXQV7NAoeOiDv3QF65v//r2CBN5chElznvYFkDnJ4VR6FuA0KAHkWNBgmUR4YAAAA\n",
       "AElFTkSuQmCC\n",
       "\" style=\"display:inline;vertical-align:middle;\" /></a></span></td></tr>\n",
       "<tr><td>&nbsp;</td><td colspan=4 style-\"text-align:left\"><a class=\"ProveItLink\" href=\"../../../number/numeral/deci/_proofs_/nat2.ipynb\">proveit.number.numeral.deci.nat2</a></td></tr><tr><td>7</td><td>assumption</td><td></td><td><span style=\"font-size:20px;\"><a class=\"ProveItLink\" href=\"../__pv_it/f196426e43f670b102d5a3a298566accd29fd1e70/expr.ipynb\"><img src=\"data:image/png;base64,iVBORw0KGgoAAAANSUhEUgAAAMEAAAAVBAMAAAANw5eWAAAAMFBMVEX////c3NxERESqqqpUVFS6\n",
       "urrMzMwyMjIQEBCIiIh2dnYiIiLu7u5mZmaYmJgAAABXZE4RAAAAAXRSTlMAQObYZgAAAgtJREFU\n",
       "SMe1VT1IAzEUftbr37U9igqOFhwcBHVzKip0t5sFlxs6iH9tQeniT0F0cbCTq4KLCoq4aQe7iB0L\n",
       "ggUFdRHBxS7i4mDey13t5ZrL5IN+SZN8fJeX7yUAYDzDP0XgNI5N9BrRX/Ze/CYOqAhGGiW2sBtu\n",
       "Imb5+IK48KmCcQkxU5iQEVh0kfgDQgNBLyGu8cnNDoQlwjx9OHVNBSFQRwwiHLcUwnzPxk1VpvCB\n",
       "oJn2Wi8CVzAOHQohvrD3JS5TqBE3wSBSVRC4QrTkUJjhc+WDtEzBN4ZYYL8kKAhcAQYdCo/cH9WJ\n",
       "V5mCTrSkpeJJsBTObIUYnuEGjd1CjtLbKGKsOBS66ahZhihTAiFGhOKkQ2Gc/T6xM4f73KaxNAzU\n",
       "ZXvwk+XYAWuUFy+CpZBBQ7Fudgf/fdFMKjWdkCkEqGzgAu5ARbAUcghDLIsZ0yYwt4fyCoV7OP9T\n",
       "kBDaFCJoWQ3XUHUzt0RK7YXszhL0s12AixAjQiXhyhKdg46UESx2Rgg2ZXsw+Mdqy7zUvAiWwrvD\n",
       "regsTLDvx9utEBiutqwoI4huJYVZgJ69Ahij325vzBMGrdJa542UgAnbpYStOm+NuOqur1ntIm/U\n",
       "BOHWoGvKM06E619J0Mu2gtF+e8u/SHSlisDrht6H6BVin2K9JmZFRYApPHNe+sZR612Sx37nh0we\n",
       "YdN6p38BcwCiSUNpYxcAAAAASUVORK5CYII=\n",
       "\" style=\"display:inline;vertical-align:middle;\" /></a> <a class=\"ProveItLink\" href=\"../__pv_it/0e63c2cddcbffa5bbe3d4c6047d483f5703ad2b60/proof.ipynb\" style=\"text-decoration: none\">&#x22A2;&nbsp;</a><a class=\"ProveItLink\" href=\"../__pv_it/90fc205bf09704b1ac7487d0b0912b502ed1410b0/expr.ipynb\"><img src=\"data:image/png;base64,iVBORw0KGgoAAAANSUhEUgAAAKoAAAAVBAMAAAAkxGgRAAAAMFBMVEX////c3NwiIiJERESqqqqY\n",
       "mJh2dnZmZmYQEBDu7u4yMjJUVFTMzMyIiIi6uroAAAAs73DqAAAAAXRSTlMAQObYZgAAAbZJREFU\n",
       "OMu1VL9LQ0EMjq2vrX1tKeikg1L/AIvorFvBRScHB3ERJ6GIOIhgEWftWBykHUSs4I+5g0VQEYf2\n",
       "DxAsTuLUVQcxlxxPe23ucDBwyb13+b67S3IB+B9JNe3ry38FeC1UTzy/NRc3MkrGIVo3FiQASh9t\n",
       "uIPjjH9c9nB6IF2mA9KUNrAAEnml4wBJvo83UZRYF5XyFSH52gDM6q1AjBeHdtMSa4n8s6hCytcG\n",
       "YNaBArzzd/OlJbGGZ5Wu4MipiQ3ArDAFW5zX4vyCxBoh15xmtgI06xqckD2GBoVru6rkvIO1n9KF\n",
       "t6coGIAoAapXHaxzcEC2BaN56aypAnCSfLqzDaBZ3+CLvmq1m6zEmmiTGYMjsjaAZm2wE1ZjrOxg\n",
       "3YTVH1YBELDuK4NZDhV+P6juCMAwnlZJJyBKgEzWiMC0emjoFG9LZ/X4UP4dl78NoFmXsAqAAhb+\n",
       "sFcWJCaLumxkQFBZrwCDhxXwZj67c3pPOq7L/ZSNCFDB2KNgXEAs7WqVJW0f2bgB+GKxFThk3Wif\n",
       "TkCkGTQ2eWezglwAivqIw8c3b+wCwHXQv2V57t3wZUnW4Rt79IRJOuqnygAAAABJRU5ErkJggg==\n",
       "\" style=\"display:inline;vertical-align:middle;\" /></a></span></td></tr>\n",
       "<tr><td>8</td><td>theorem</td><td></td><td><span style=\"font-size:20px;\"> <a class=\"ProveItLink\" href=\"../../../number/numeral/deci/_proofs_/add_1_1.ipynb\" style=\"text-decoration: none\">&#x22A2;&nbsp;</a><a class=\"ProveItLink\" href=\"../../../number/numeral/deci/__pv_it/10ea9a44c639fcc49e957d670ca706739b30851d0/expr.ipynb\"><img src=\"data:image/png;base64,iVBORw0KGgoAAAANSUhEUgAAAGEAAAAVBAMAAACkm51HAAAAMFBMVEX////c3NwiIiJERESqqqqY\n",
       "mJh2dnZmZmYQEBDu7u4yMjJUVFTMzMyIiIi6uroAAAAs73DqAAAAAXRSTlMAQObYZgAAASJJREFU\n",
       "OMtjYCAd8F3AIRGHS8dpIGaegC5qycDAfgBdkLF88QMgtZKBgdMeXcfkn0BiAboOaQbeLwwMvBcY\n",
       "OHfvh+mYCKFm7wbpCEPXsZOBQZ+BgQOk+D5Mhy+U5gXpmIGuo2MCw/4HDK8YcOpgdkDTsX4CQ/0D\n",
       "hjLcOtgKMMNJfwLDUtw6WMBeZ18FBhvA4jzfGBj6cOvga8CwgsuAgeEfbh08HzB0FDOg6KhatUpj\n",
       "1arVeHTwgtzWQshV7EpgYABiuzMwCjCY4tbBih7pPAUMrAIM6SSErlBaWhEDwyMgq7x/eQCKDvaK\n",
       "X6XAgHmAHhn//38CphIBZDFfZM4M7ImdNQGZ9xaZk4sjf6zElXE4F+CQkMalg1sAhwQjrlx7B7sw\n",
       "AEBiXJeAxxXvAAAAAElFTkSuQmCC\n",
       "\" style=\"display:inline;vertical-align:middle;\" /></a></span></td></tr>\n",
       "<tr><td>&nbsp;</td><td colspan=4 style-\"text-align:left\"><a class=\"ProveItLink\" href=\"../../../number/numeral/deci/_proofs_/add_1_1.ipynb\">proveit.number.numeral.deci.add_1_1</a></td></tr></table>"
      ],
      "text/plain": [
       "\tstep type\trequirements\tstatement\n",
       "0\tgeneralizaton\t1\t|- forall_{A | (A = TRUE) or (A = FALSE)} (A in BOOLEANS)\n",
       "1\tspecialization\t2, 3, 4\t{(A = TRUE) or (A = FALSE)} |- A in BOOLEANS\n",
       "\tP(_x_) : A in _x_, x : BOOLEANS, y : {TRUE , FALSE}\n",
       "2\ttheorem\t\t|- forall_{P, x, y | P(y) , x = y} P(x)\n",
       "\tproveit.logic.equality.subLeftSideInto\n",
       "3\tspecialization\t5, 6, 7, 8\t{(A = TRUE) or (A = FALSE)} |- A in {TRUE , FALSE}\n",
       "\tl : 2, x : A, y : (TRUE , FALSE)\n",
       "4\taxiom\t\t|- BOOLEANS = {TRUE , FALSE}\n",
       "\tproveit.logic.boolean.boolsDef\n",
       "5\ttheorem\t\t|- forall_{l in Naturals} [forall_{x, y_1,...,y_l | (x = y_1) or  ...  or (x = y_l)} (x in {y_1 ,  ...  , y_l})]\n",
       "\tproveit.logic.set_theory.enumeration.fold\n",
       "6\ttheorem\t\t|- 2 in Naturals\n",
       "\tproveit.number.numeral.deci.nat2\n",
       "7\tassumption\t\t{(A = TRUE) or (A = FALSE)} |- (A = TRUE) or (A = FALSE)\n",
       "8\ttheorem\t\t|- (1 + 1) = 2\n",
       "\tproveit.number.numeral.deci.add_1_1"
      ]
     },
     "execution_count": 7,
     "metadata": {},
     "output_type": "execute_result"
    }
   ],
   "source": [
    "%qed"
   ]
  },
  {
   "cell_type": "code",
   "execution_count": null,
   "metadata": {},
   "outputs": [],
   "source": []
  }
 ],
 "metadata": {
  "kernelspec": {
   "display_name": "Python 3",
   "language": "python",
   "name": "python3"
  }
 },
 "nbformat": 4,
 "nbformat_minor": 0
}
