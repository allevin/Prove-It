{
 "cells": [
  {
   "cell_type": "markdown",
   "metadata": {},
   "source": [
    "Proof of <a class=\"ProveItLink\" href=\"../../../_context_.ipynb\">proveit</a>.<a class=\"ProveItLink\" href=\"../../_context_.ipynb\">logic</a>.<a class=\"ProveItLink\" href=\"../_context_.ipynb\">boolean</a>.<a class=\"ProveItLink\" href=\"../_theorems_.ipynb#forallBoolEvalFalseViaFF\">forallBoolEvalFalseViaFF</a> theorem\n",
    "========"
   ]
  },
  {
   "cell_type": "code",
   "execution_count": 1,
   "metadata": {},
   "outputs": [],
   "source": [
    "import proveit\n",
    "context = proveit.Context('..') # the theorem's context is in the parent directory"
   ]
  },
  {
   "cell_type": "code",
   "execution_count": 2,
   "metadata": {},
   "outputs": [
    {
     "name": "stdout",
     "output_type": "stream",
     "text": [
      "Beginning proof of forallBoolEvalFalseViaFF\n",
      "Recorded 'presuming' information\n",
      "Presuming previous theorems (applied transitively).\n"
     ]
    },
    {
     "data": {
      "text/html": [
       "<strong id=\"forallBoolEvalFalseViaFF\">forallBoolEvalFalseViaFF:</strong> <a class=\"ProveItLink\" href=\"../__pv_it/c5d129f4f0ec6158ab0450b54c2714d15f46d80b0/expr.ipynb\"><img src=\"data:image/png;base64,iVBORw0KGgoAAAANSUhEUgAAAgkAAAAVBAMAAAA+x2ACAAAAMFBMVEX///8QEBC6urrMzMxUVFRm\n",
       "ZmZERETc3NwyMjKqqqp2dnaIiIiYmJgiIiLu7u4AAAAU9Wx4AAAAAXRSTlMAQObYZgAABVRJREFU\n",
       "WMPtWF1oXEUUPrub/cm9m5vgSxGxXkFQKEIetIgSs8SFiiJZiWm1WBp92CBUsw8hQYK4iqAP2u6D\n",
       "Qt+6L7E1wbJY60sLXfsUUrAr+Ic0bSIKeamGNC012NY5Z2bunbl7T7LqqwNnd898d+Z858w5M3MX\n",
       "4P8m2nJMX7IRit0rW97nZmtHdjHaeZbReRbdBe5PT3bmlkU2/5G/ja0WKhds7BFDvrxTLH5Xkb3p\n",
       "JWpjMBIzYZbsRpFUAcAd3ig+t0drADP4ke6PmSNAYlEx2vF7yLNGvFMmWWoDkpLjb2PrM1QO2w8c\n",
       "NgRuAmR2BA+lSviZi+NoIVmVYzn87q0CvFLRGjxKSDVmjhCJQ8Vox3dqwTwxzSYLcERSiouCZWsK\n",
       "KY9ZuNsIBVKbAN2bqlf7mq9zUdBIriS/z+DHoOg8Vteasr/IRmHRRj394wy6Q1ynmCBEyEL+yjJR\n",
       "4qOgbGFY0zULTyyHAu66mOe66tW+en1cFDSy+7L83okf5wSJiyWtKfsrbBRWbDRY+J20qLjKLzFR\n",
       "iJCFNw9WiBIfBWUrf3x6+i0bf8gQyKwBdP2pNeUrvMZFQSNDctmTlNkTQoZrWlP2MzWOGSIGmixA\n",
       "MJdwZ3F6errFRCFCFhoYf0GJj4K2daNc/tnG9xtCNf3HmNa0r7NsFCTiVWkXg3RdVat3I9CUfafE\n",
       "MUPEROchmEu401suv15nohAhm1w+1iRKfBS0racAxkU1TYy+MK7wDw3Bmk59r3sDX48SrQ+oFaAN\n",
       "AacpqyzXVNU6UNKatt9NifEiTfGexQwRiR6gM+mKnBlHC3e6+iFDx0Cu0uZZhOwvMNggSjIKW9l6\n",
       "QCycUL8G+FzhdxkC556Z21/RvYGv97O5IJEeyJIbCTTvbszNHg80bT/Zx60PIhZ61NejhTuiQFap\n",
       "96Ja4IUTJ15WD0bI+vB2iSjxuaBt9YCLS1QU06ptaN0QmNB707rp6yAbBYlcoBwTKYrmM7d1wppR\n",
       "SK1xzBCxUO8dX41Gd1pwljoPCtre6dGm63hfKC9tsqlicXiMKPFR0LbcZg+OvQTwNMRE4Rb8myhc\n",
       "VvcW8ru39R+j8NhJMKJwFuj8ca4Kg189+Puy68BJWWoRskmRP9UOo+BVka93DfI/KvxuQ1LXwei1\n",
       "8z64SrYh3SVVtgncHQb1TpeotVWErPwfmIqQ6NIbwWh0Z1XeQJ/IjEEeZ3ad5GmZAxGy4vmePqMi\n",
       "trQ1PoTa5pwuLjhkiLtu9ga+LrC5sKA3LowEZJrquiCPJXN3zFe59UHERD8OR6M7mUmar5BuyZuq\n",
       "m37+UnhdCMlmRRRya0SJz4XA1ieYsI5hddaQoKbVEdjZSbkb1BsKHXhBtarj7x+elNlqOBrd6T5A\n",
       "9GvuGjxOvjswIq+KNtlV3dPJSQkJnCJjcHo4lN8mNhpGr/BVHtXvRqbE4riXioOQIX15TrbA23vn\n",
       "WX3/aVFafktpmYsysxADzVTC0eTOPahdHd17GwbK5XJDRKFOrGyyU/e9D/mJmyWk5GxvK08vPMZN\n",
       "LlEJxe4NNu0+7o1WIr7anAB2WKiprbBvxZEbdMoYTe58g8o+SF2DX1Uu1KPXqAhZx+/M1qAxDN+I\n",
       "tNi9ujkNbtYosshq82wU5hl00Xg5TIpN4i/oqsgo7IvyiZDlo2DZco6McG/WVq9qq6wHq+1vw/Ga\n",
       "V2XTqcqg9GatnhEXgclbTe9VujV9eqjtWZssGwXWlmiThti9qu1hoxBFsgVG66pwUyASi2YLbe44\n",
       "Yl9gXQgpsVFgbam/jbRE/0yiSuznPGhHZhjtFBvIUyw6A+5Sf2f/uFlk3SV/a1t/AzOpwz5l/iQm\n",
       "AAAAAElFTkSuQmCC\n",
       "\" style=\"display:inline;vertical-align:middle;\" /></a><br>(see <a class=\"ProveItLink\" href=\"../__pv_it/c5d129f4f0ec6158ab0450b54c2714d15f46d80b0/dependencies.ipynb\">dependencies</a>)<br>"
      ],
      "text/plain": [
       "forallBoolEvalFalseViaFF: forall_{P} (((P(TRUE) = FALSE) and (P(FALSE) = FALSE)) => ([forall_{A in BOOLEANS} P(A)] = FALSE))"
      ]
     },
     "execution_count": 2,
     "metadata": {},
     "output_type": "execute_result"
    }
   ],
   "source": [
    "%proving forallBoolEvalFalseViaFF presuming []"
   ]
  },
  {
   "cell_type": "code",
   "execution_count": null,
   "metadata": {},
   "outputs": [],
   "source": []
  }
 ],
 "metadata": {
  "kernelspec": {
   "display_name": "Python 3",
   "language": "python",
   "name": "python3"
  }
 },
 "nbformat": 4,
 "nbformat_minor": 0
}
