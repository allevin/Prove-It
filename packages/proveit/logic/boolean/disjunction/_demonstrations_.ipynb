{
 "cells": [
  {
   "cell_type": "markdown",
   "metadata": {
    "collapsed": true
   },
   "source": [
    "Demonstrations for context <a class=\"ProveItLink\" href=\"_context_.ipynb\">proveit.logic.boolean.disjunction</a>\n",
    "========"
   ]
  },
  {
   "cell_type": "code",
   "execution_count": 1,
   "metadata": {},
   "outputs": [],
   "source": [
    "import proveit\n",
    "from proveit._common_ import A, B, C, D, E,F,G,H,I,J,K,L,AA, m\n",
    "from proveit.number import num, Naturals\n",
    "from proveit.logic import Booleans, inBool, InSet, Or, TRUE, FALSE, Not, Implies, Equals\n",
    "from proveit.logic.boolean.disjunction._theorems_ import closure, eachInBool\n",
    "%begin demonstrations"
   ]
  },
  {
   "cell_type": "code",
   "execution_count": 2,
   "metadata": {},
   "outputs": [
    {
     "data": {
      "text/html": [
       "<span style=\"font-size:20px;\"> &#x22A2;&nbsp;<a class=\"ProveItLink\" href=\"__pv_it/2cb505713778067a1b94f558521c476c9ef7d74f0/expr.ipynb\"><img src=\"__pv_it/2cb505713778067a1b94f558521c476c9ef7d74f0/expr.png\" style=\"display:inline;vertical-align:middle;\" /></a></span>"
      ],
      "text/plain": [
       "|= forall_{m in Naturals} [forall_{A in BOOLEANS^{m}} ((A_(1) or  ...  or A_(m)) in BOOLEANS)]"
      ]
     },
     "execution_count": 2,
     "metadata": {},
     "output_type": "execute_result"
    }
   ],
   "source": [
    "closure"
   ]
  },
  {
   "cell_type": "code",
   "execution_count": 3,
   "metadata": {},
   "outputs": [
    {
     "data": {
      "text/html": [
       "<strong id=\"closure_spec\">closure_spec:</strong> <span style=\"font-size:20px;\"><a class=\"ProveItLink\" href=\"__pv_it/d7fa17de759a2f1be899d7b171ce7193ca5d80370/expr.ipynb\"><img src=\"__pv_it/d7fa17de759a2f1be899d7b171ce7193ca5d80370/expr.png\" style=\"display:inline;vertical-align:middle;\" /></a> &#x22A2;&nbsp;<a class=\"ProveItLink\" href=\"__pv_it/98e2f5b0f3559030ca1ce54b53c4b1e665dc547f0/expr.ipynb\"><img src=\"__pv_it/98e2f5b0f3559030ca1ce54b53c4b1e665dc547f0/expr.png\" style=\"display:inline;vertical-align:middle;\" /></a></span><br>"
      ],
      "text/plain": [
       "closure_spec: {m in Naturals} |= forall_{A in BOOLEANS^{m}} ((A_(1) or  ...  or A_(m)) in BOOLEANS)"
      ]
     },
     "execution_count": 3,
     "metadata": {},
     "output_type": "execute_result"
    }
   ],
   "source": [
    "closure_spec = closure.specialize({m:m}, assumptions=[InSet(m, Naturals)])"
   ]
  },
  {
   "cell_type": "code",
   "execution_count": null,
   "metadata": {},
   "outputs": [
    {
     "data": {
      "text/html": [
       "<span style=\"font-size:20px;\"> &#x22A2;&nbsp;<a class=\"ProveItLink\" href=\"__pv_it/b6398adac10e02d9c85c35607d7c59ccd85ec1610/expr.ipynb\"><img src=\"__pv_it/b6398adac10e02d9c85c35607d7c59ccd85ec1610/expr.png\" style=\"display:inline;vertical-align:middle;\" /></a></span>"
      ],
      "text/plain": [
       "|= forall_{C in BOOLEANS^{4}} ((C_(1) or  ...  or C_(4)) in BOOLEANS)"
      ]
     },
     "execution_count": 4,
     "metadata": {},
     "output_type": "execute_result"
    }
   ],
   "source": [
    "closure.specialize({m:num(4)}, relabelMap={AA:C}, assumptions=[C])"
   ]
  },
  {
   "cell_type": "code",
   "execution_count": null,
   "metadata": {},
   "outputs": [
    {
     "data": {
      "text/html": [
       "<strong id=\"demo1\">demo1:</strong> <span style=\"font-size:20px;\"><a class=\"ProveItLink\" href=\"__pv_it/f28f9b812246a6c4975e6f67667fe62b1fba502a0/expr.ipynb\"><img src=\"__pv_it/f28f9b812246a6c4975e6f67667fe62b1fba502a0/expr.png\" style=\"display:inline;vertical-align:middle;\" /></a> &#x22A2;&nbsp;<a class=\"ProveItLink\" href=\"__pv_it/542994d0ed684b4561089fa3677eb846adb2d58d0/expr.ipynb\"><img src=\"__pv_it/542994d0ed684b4561089fa3677eb846adb2d58d0/expr.png\" style=\"display:inline;vertical-align:middle;\" /></a></span><br>"
      ],
      "text/plain": [
       "demo1: {A in BOOLEANS , B in BOOLEANS , C in BOOLEANS , D in BOOLEANS} |= (A or B or C or D) in BOOLEANS"
      ]
     },
     "execution_count": 5,
     "metadata": {},
     "output_type": "execute_result"
    }
   ],
   "source": [
    "demo1 = closure.specialize({m:num(4), AA:[A, B, C, D]}, assumptions = [inBool(A), inBool(B), inBool(C), inBool(D)])"
   ]
  },
  {
   "cell_type": "code",
   "execution_count": null,
   "metadata": {},
   "outputs": [
    {
     "data": {
      "text/html": [
       "<table><tr><th>&nbsp;</th><th>step type</th><th>requirements</th><th>statement</th></tr>\n",
       "<tr><td>0</td><td>specialization</td><td>1, 2, 3, 4, 5, 6</td><td><span style=\"font-size:20px;\"><a class=\"ProveItLink\" href=\"__pv_it/f28f9b812246a6c4975e6f67667fe62b1fba502a0/expr.ipynb\"><img src=\"__pv_it/f28f9b812246a6c4975e6f67667fe62b1fba502a0/expr.png\" style=\"display:inline;vertical-align:middle;\" /></a> &#x22A2;&nbsp;<a class=\"ProveItLink\" href=\"__pv_it/542994d0ed684b4561089fa3677eb846adb2d58d0/expr.ipynb\"><img src=\"__pv_it/542994d0ed684b4561089fa3677eb846adb2d58d0/expr.png\" style=\"display:inline;vertical-align:middle;\" /></a></span></td></tr>\n",
       "<tr><td>&nbsp;</td><td colspan=4 style=\"text-align:left\"><span style=\"font-size:20px;\"><a class=\"ProveItLink\" href=\"../../../__pv_it/78af03acba5349fd70398a32ce59bae1da52f0870/expr.ipynb\"><img src=\"../../../__pv_it/78af03acba5349fd70398a32ce59bae1da52f0870/expr.png\" style=\"display:inline;vertical-align:middle;\" /></a> : <a class=\"ProveItLink\" href=\"../../../number/numeral/__pv_it/23412ce59ea7e77353d2f9225e02248e73651ca00/expr.ipynb\"><img src=\"../../../number/numeral/__pv_it/23412ce59ea7e77353d2f9225e02248e73651ca00/expr.png\" style=\"display:inline;vertical-align:middle;\" /></a>, <a class=\"ProveItLink\" href=\"../../../__pv_it/eb438fefc4bd0ac977777d6dfd3e8a72dfbedbd50/expr.ipynb\"><img src=\"../../../__pv_it/eb438fefc4bd0ac977777d6dfd3e8a72dfbedbd50/expr.png\" style=\"display:inline;vertical-align:middle;\" /></a> : <a class=\"ProveItLink\" href=\"__pv_it/ba51a0fc910408dc1211c29b03a29f7cec842b550/expr.ipynb\"><img src=\"__pv_it/ba51a0fc910408dc1211c29b03a29f7cec842b550/expr.png\" style=\"display:inline;vertical-align:middle;\" /></a></span></td></tr><tr><td>1</td><td>theorem</td><td></td><td><span style=\"font-size:20px;\"> &#x22A2;&nbsp;<a class=\"ProveItLink\" href=\"__pv_it/2cb505713778067a1b94f558521c476c9ef7d74f0/expr.ipynb\"><img src=\"__pv_it/2cb505713778067a1b94f558521c476c9ef7d74f0/expr.png\" style=\"display:inline;vertical-align:middle;\" /></a></span></td></tr>\n",
       "<tr><td>&nbsp;</td><td colspan=4 style-\"text-align:left\"><a class=\"ProveItLink\" href=\"_proofs_/closure.ipynb\">proveit.logic.boolean.disjunction.closure</a></td></tr><tr><td>2</td><td>theorem</td><td></td><td><span style=\"font-size:20px;\"> &#x22A2;&nbsp;<a class=\"ProveItLink\" href=\"../../../number/numeral/deci/__pv_it/3fc93db3b3fd1b15204240d9de18a48656bfb08c0/expr.ipynb\"><img src=\"../../../number/numeral/deci/__pv_it/3fc93db3b3fd1b15204240d9de18a48656bfb08c0/expr.png\" style=\"display:inline;vertical-align:middle;\" /></a></span></td></tr>\n",
       "<tr><td>&nbsp;</td><td colspan=4 style-\"text-align:left\"><a class=\"ProveItLink\" href=\"../../../number/numeral/deci/_proofs_/nat4.ipynb\">proveit.number.numeral.deci.nat4</a></td></tr><tr><td>3</td><td>specialization</td><td>7, 8, 9, 10, 11</td><td><span style=\"font-size:20px;\"><a class=\"ProveItLink\" href=\"__pv_it/f28f9b812246a6c4975e6f67667fe62b1fba502a0/expr.ipynb\"><img src=\"__pv_it/f28f9b812246a6c4975e6f67667fe62b1fba502a0/expr.png\" style=\"display:inline;vertical-align:middle;\" /></a> &#x22A2;&nbsp;<a class=\"ProveItLink\" href=\"__pv_it/c7afd1ead8211492267b3cefac34659a98e80ce80/expr.ipynb\"><img src=\"__pv_it/c7afd1ead8211492267b3cefac34659a98e80ce80/expr.png\" style=\"display:inline;vertical-align:middle;\" /></a></span></td></tr>\n",
       "<tr><td>&nbsp;</td><td colspan=4 style=\"text-align:left\"><span style=\"font-size:20px;\"><a class=\"ProveItLink\" href=\"../../../__pv_it/abeee18594afe51bfb1be95d9591fbba24ac53f30/expr.ipynb\"><img src=\"../../../__pv_it/abeee18594afe51bfb1be95d9591fbba24ac53f30/expr.png\" style=\"display:inline;vertical-align:middle;\" /></a> : <a class=\"ProveItLink\" href=\"../__pv_it/46271c8230be96415d662709611f4ed2279d702b0/expr.ipynb\"><img src=\"../__pv_it/46271c8230be96415d662709611f4ed2279d702b0/expr.png\" style=\"display:inline;vertical-align:middle;\" /></a>, <a class=\"ProveItLink\" href=\"../../../__pv_it/07527342713064c87612d00d8557c53d53d5324a0/expr.ipynb\"><img src=\"../../../__pv_it/07527342713064c87612d00d8557c53d53d5324a0/expr.png\" style=\"display:inline;vertical-align:middle;\" /></a> : <a class=\"ProveItLink\" href=\"../../../__pv_it/2cbe72a7ad6f655694dd697106680215e8489b600/expr.ipynb\"><img src=\"../../../__pv_it/2cbe72a7ad6f655694dd697106680215e8489b600/expr.png\" style=\"display:inline;vertical-align:middle;\" /></a>, <a class=\"ProveItLink\" href=\"../../../__pv_it/6840a4fa6c106149dc16a131294d0c5e44f1b0480/expr.ipynb\"><img src=\"../../../__pv_it/6840a4fa6c106149dc16a131294d0c5e44f1b0480/expr.png\" style=\"display:inline;vertical-align:middle;\" /></a> : <a class=\"ProveItLink\" href=\"../../../__pv_it/077b2ff79244fb4582cbe22c6e3356fa92a52f2f0/expr.ipynb\"><img src=\"../../../__pv_it/077b2ff79244fb4582cbe22c6e3356fa92a52f2f0/expr.png\" style=\"display:inline;vertical-align:middle;\" /></a>, <a class=\"ProveItLink\" href=\"../../../__pv_it/cbdfda466482236edba0ce44ac7ef39cda0af7a40/expr.ipynb\"><img src=\"../../../__pv_it/cbdfda466482236edba0ce44ac7ef39cda0af7a40/expr.png\" style=\"display:inline;vertical-align:middle;\" /></a> : <a class=\"ProveItLink\" href=\"../../../__pv_it/985a1bdf1540838275dec15f4ad6de261cca93ce0/expr.ipynb\"><img src=\"../../../__pv_it/985a1bdf1540838275dec15f4ad6de261cca93ce0/expr.png\" style=\"display:inline;vertical-align:middle;\" /></a>, <a class=\"ProveItLink\" href=\"../../../__pv_it/3a5de44ed6135dbbdbbeec6704c741e238f127300/expr.ipynb\"><img src=\"../../../__pv_it/3a5de44ed6135dbbdbbeec6704c741e238f127300/expr.png\" style=\"display:inline;vertical-align:middle;\" /></a> : <a class=\"ProveItLink\" href=\"../../../__pv_it/185e6d30f167ee2ee5ef3321098dc98e0d77bc590/expr.ipynb\"><img src=\"../../../__pv_it/185e6d30f167ee2ee5ef3321098dc98e0d77bc590/expr.png\" style=\"display:inline;vertical-align:middle;\" /></a></span></td></tr><tr><td>4</td><td>theorem</td><td></td><td><span style=\"font-size:20px;\"> &#x22A2;&nbsp;<a class=\"ProveItLink\" href=\"../../../number/numeral/deci/__pv_it/c5d3f2ba07647aec518bec1929b16561d1a340400/expr.ipynb\"><img src=\"../../../number/numeral/deci/__pv_it/c5d3f2ba07647aec518bec1929b16561d1a340400/expr.png\" style=\"display:inline;vertical-align:middle;\" /></a></span></td></tr>\n",
       "<tr><td>&nbsp;</td><td colspan=4 style-\"text-align:left\"><a class=\"ProveItLink\" href=\"../../../number/numeral/deci/_proofs_/add_1_1.ipynb\">proveit.number.numeral.deci.add_1_1</a></td></tr><tr><td>5</td><td>theorem</td><td></td><td><span style=\"font-size:20px;\"> &#x22A2;&nbsp;<a class=\"ProveItLink\" href=\"../../../number/numeral/deci/__pv_it/21aa4b60034093b61b7d779cdd54bc7d2d51c73e0/expr.ipynb\"><img src=\"../../../number/numeral/deci/__pv_it/21aa4b60034093b61b7d779cdd54bc7d2d51c73e0/expr.png\" style=\"display:inline;vertical-align:middle;\" /></a></span></td></tr>\n",
       "<tr><td>&nbsp;</td><td colspan=4 style-\"text-align:left\"><a class=\"ProveItLink\" href=\"../../../number/numeral/deci/_proofs_/add_2_1.ipynb\">proveit.number.numeral.deci.add_2_1</a></td></tr><tr><td>6</td><td>theorem</td><td></td><td><span style=\"font-size:20px;\"> &#x22A2;&nbsp;<a class=\"ProveItLink\" href=\"../../../number/numeral/deci/__pv_it/dacb710858c5d508d55e05fa21bc52e5449bb54c0/expr.ipynb\"><img src=\"../../../number/numeral/deci/__pv_it/dacb710858c5d508d55e05fa21bc52e5449bb54c0/expr.png\" style=\"display:inline;vertical-align:middle;\" /></a></span></td></tr>\n",
       "<tr><td>&nbsp;</td><td colspan=4 style-\"text-align:left\"><a class=\"ProveItLink\" href=\"../../../number/numeral/deci/_proofs_/add_3_1.ipynb\">proveit.number.numeral.deci.add_3_1</a></td></tr><tr><td>7</td><td>theorem</td><td></td><td><span style=\"font-size:20px;\"> &#x22A2;&nbsp;<a class=\"ProveItLink\" href=\"../../set_theory/membership/__pv_it/f8871096ab31a54eeeb7d5201addc96bdbcd44530/expr.ipynb\"><img src=\"../../set_theory/membership/__pv_it/f8871096ab31a54eeeb7d5201addc96bdbcd44530/expr.png\" style=\"display:inline;vertical-align:middle;\" /></a></span></td></tr>\n",
       "<tr><td>&nbsp;</td><td colspan=4 style-\"text-align:left\"><a class=\"ProveItLink\" href=\"../../set_theory/membership/_proofs_/exp_set_4.ipynb\">proveit.logic.set_theory.membership.exp_set_4</a></td></tr><tr><td>8</td><td>assumption</td><td></td><td><span style=\"font-size:20px;\"><a class=\"ProveItLink\" href=\"__pv_it/017ca8cfa034181c90ba15dd10869f0f4e516d6a0/expr.ipynb\"><img src=\"__pv_it/017ca8cfa034181c90ba15dd10869f0f4e516d6a0/expr.png\" style=\"display:inline;vertical-align:middle;\" /></a> &#x22A2;&nbsp;<a class=\"ProveItLink\" href=\"__pv_it/03a5c2b5cc6fc2c3cd686b4bcf84379b893abe210/expr.ipynb\"><img src=\"__pv_it/03a5c2b5cc6fc2c3cd686b4bcf84379b893abe210/expr.png\" style=\"display:inline;vertical-align:middle;\" /></a></span></td></tr>\n",
       "<tr><td>9</td><td>assumption</td><td></td><td><span style=\"font-size:20px;\"><a class=\"ProveItLink\" href=\"__pv_it/2c2e947402f53b9e11cd7769e1b5b3378595750e0/expr.ipynb\"><img src=\"__pv_it/2c2e947402f53b9e11cd7769e1b5b3378595750e0/expr.png\" style=\"display:inline;vertical-align:middle;\" /></a> &#x22A2;&nbsp;<a class=\"ProveItLink\" href=\"__pv_it/fe5c91c77f0659f9ea07a2e3257797875d6868370/expr.ipynb\"><img src=\"__pv_it/fe5c91c77f0659f9ea07a2e3257797875d6868370/expr.png\" style=\"display:inline;vertical-align:middle;\" /></a></span></td></tr>\n",
       "<tr><td>10</td><td>assumption</td><td></td><td><span style=\"font-size:20px;\"><a class=\"ProveItLink\" href=\"__pv_it/549ecf82a9d4ac5ca0750c6c3aaf83e6e7209ca90/expr.ipynb\"><img src=\"__pv_it/549ecf82a9d4ac5ca0750c6c3aaf83e6e7209ca90/expr.png\" style=\"display:inline;vertical-align:middle;\" /></a> &#x22A2;&nbsp;<a class=\"ProveItLink\" href=\"__pv_it/2cec3c732aceb253233bb533d4e43cc3f34f4f660/expr.ipynb\"><img src=\"__pv_it/2cec3c732aceb253233bb533d4e43cc3f34f4f660/expr.png\" style=\"display:inline;vertical-align:middle;\" /></a></span></td></tr>\n",
       "<tr><td>11</td><td>assumption</td><td></td><td><span style=\"font-size:20px;\"><a class=\"ProveItLink\" href=\"__pv_it/aa3618fdfba9edc866f19a2dbc2f7cde292ff1c70/expr.ipynb\"><img src=\"__pv_it/aa3618fdfba9edc866f19a2dbc2f7cde292ff1c70/expr.png\" style=\"display:inline;vertical-align:middle;\" /></a> &#x22A2;&nbsp;<a class=\"ProveItLink\" href=\"__pv_it/3891b823dfb55f51d513cc7144556dc1bfd425b70/expr.ipynb\"><img src=\"__pv_it/3891b823dfb55f51d513cc7144556dc1bfd425b70/expr.png\" style=\"display:inline;vertical-align:middle;\" /></a></span></td></tr>\n",
       "</table>"
      ],
      "text/plain": [
       "\tstep type\trequirements\tstatement\n",
       "0\tspecialization\t1, 2, 3, 4, 5, 6\t{A in BOOLEANS , B in BOOLEANS , C in BOOLEANS , D in BOOLEANS} |= (A or B or C or D) in BOOLEANS\n",
       "\tm : 4, A : (A , B , C , D)\n",
       "1\ttheorem\t\t|= forall_{m in Naturals} [forall_{A in BOOLEANS^{m}} ((A_(1) or  ...  or A_(m)) in BOOLEANS)]\n",
       "\tproveit.logic.boolean.disjunction.closure\n",
       "2\ttheorem\t\t|= 4 in Naturals\n",
       "\tproveit.number.numeral.deci.nat4\n",
       "3\tspecialization\t7, 8, 9, 10, 11\t{A in BOOLEANS , B in BOOLEANS , C in BOOLEANS , D in BOOLEANS} |= (A , B , C , D) in BOOLEANS^{4}\n",
       "\tS : BOOLEANS, a : A, b : B, c : C, d : D\n",
       "4\ttheorem\t\t|= (1 + 1) = 2\n",
       "\tproveit.number.numeral.deci.add_1_1\n",
       "5\ttheorem\t\t|= (2 + 1) = 3\n",
       "\tproveit.number.numeral.deci.add_2_1\n",
       "6\ttheorem\t\t|= (3 + 1) = 4\n",
       "\tproveit.number.numeral.deci.add_3_1\n",
       "7\ttheorem\t\t|= forall_{S} [forall_{a, b, c, d in S} ((a , b , c , d) in S^{4})]\n",
       "\tproveit.logic.set_theory.membership.exp_set_4\n",
       "8\tassumption\t\t{A in BOOLEANS} |= A in BOOLEANS\n",
       "9\tassumption\t\t{B in BOOLEANS} |= B in BOOLEANS\n",
       "10\tassumption\t\t{C in BOOLEANS} |= C in BOOLEANS\n",
       "11\tassumption\t\t{D in BOOLEANS} |= D in BOOLEANS"
      ]
     },
     "execution_count": 6,
     "metadata": {},
     "output_type": "execute_result"
    }
   ],
   "source": [
    "demo1.proof()"
   ]
  },
  {
   "cell_type": "code",
   "execution_count": null,
   "metadata": {},
   "outputs": [],
   "source": [
    "demo1.element.deducePartInBool(1, assumptions=[demo1.expr, inBool(Or(A,B,C))])"
   ]
  },
  {
   "cell_type": "code",
   "execution_count": null,
   "metadata": {},
   "outputs": [],
   "source": [
    "eachInBool"
   ]
  },
  {
   "cell_type": "code",
   "execution_count": null,
   "metadata": {},
   "outputs": [],
   "source": []
  },
  {
   "cell_type": "code",
   "execution_count": null,
   "metadata": {},
   "outputs": [],
   "source": []
  },
  {
   "cell_type": "code",
   "execution_count": null,
   "metadata": {},
   "outputs": [],
   "source": [
    "Or(TRUE,TRUE).prove().proof()"
   ]
  },
  {
   "cell_type": "code",
   "execution_count": null,
   "metadata": {},
   "outputs": [],
   "source": [
    "Or(TRUE,FALSE).prove().proof()"
   ]
  },
  {
   "cell_type": "code",
   "execution_count": null,
   "metadata": {},
   "outputs": [],
   "source": [
    "Or(FALSE,TRUE).prove().proof()"
   ]
  },
  {
   "cell_type": "code",
   "execution_count": null,
   "metadata": {},
   "outputs": [],
   "source": [
    "Not(Or(FALSE,FALSE)).prove().proof()"
   ]
  },
  {
   "cell_type": "code",
   "execution_count": null,
   "metadata": {},
   "outputs": [],
   "source": [
    "Or(A,B).prove([A,B]).proof()"
   ]
  },
  {
   "cell_type": "code",
   "execution_count": null,
   "metadata": {},
   "outputs": [],
   "source": [
    "Or(A,B).prove([A,Not(B)]).proof()"
   ]
  },
  {
   "cell_type": "code",
   "execution_count": null,
   "metadata": {},
   "outputs": [],
   "source": [
    "Or(A,B).prove([B,Not(A)]).proof()"
   ]
  },
  {
   "cell_type": "code",
   "execution_count": null,
   "metadata": {},
   "outputs": [],
   "source": [
    "Not(Or(A,B)).prove([Not(A), Not(B)]).proof()"
   ]
  },
  {
   "cell_type": "code",
   "execution_count": null,
   "metadata": {},
   "outputs": [],
   "source": [
    "Or(A,B).deriveContradiction([Not(A),Not(B), Or(A,B)]).proof()"
   ]
  },
  {
   "cell_type": "code",
   "execution_count": null,
   "metadata": {},
   "outputs": [],
   "source": [
    "Or(A,B).deriveLeftIfNotRight([inBool(A), inBool(B), Not(B), Or(A,B)]).proof()"
   ]
  },
  {
   "cell_type": "code",
   "execution_count": null,
   "metadata": {},
   "outputs": [],
   "source": [
    "Or(A,B).deriveRightIfNotLeft([*inBool(A,B), Not(A), Or(A,B)]).proof()"
   ]
  },
  {
   "cell_type": "code",
   "execution_count": null,
   "metadata": {},
   "outputs": [],
   "source": [
    "Or(A,B).deriveViaDilemma(C,assumptions=[Or(A,B),inBool(B),Implies(A,C), Implies(B,C), inBool(A), Implies(A,Or(C,D)), Implies(B, Or(C,D))]).proof()"
   ]
  },
  {
   "cell_type": "code",
   "execution_count": null,
   "metadata": {},
   "outputs": [],
   "source": [
    "Or(A,B).deriveViaDilemma(C,assumptions=[Or(A,B),Implies(A,C), Implies(B,C), inBool(A), Implies(A,Or(C,D)), Implies(B, Or(C,D))]).proof()"
   ]
  },
  {
   "cell_type": "code",
   "execution_count": null,
   "metadata": {},
   "outputs": [],
   "source": [
    "Or(A,B,C,D).deriveViaDilemma(E,[Or(A,B,C,D),Implies(A,E), Implies(B,E), Implies(C,E), Implies(D,E), inBool(A) ,inBool(B),inBool(C),inBool(D)]).proof()"
   ]
  },
  {
   "cell_type": "code",
   "execution_count": null,
   "metadata": {},
   "outputs": [],
   "source": [
    "Or(A,B).prove([inBool(B), A, inBool(A)]).proof()"
   ]
  },
  {
   "cell_type": "code",
   "execution_count": null,
   "metadata": {},
   "outputs": [],
   "source": [
    "Or(A,B).prove([inBool(A), inBool(B), B]).proof()"
   ]
  },
  {
   "cell_type": "code",
   "execution_count": null,
   "metadata": {},
   "outputs": [],
   "source": [
    "Or(C,D).deriveViaDilemma(Or(C,D),[Or(A,B), Or(C,D),Implies(A,C), Implies(A,C),Implies(B,D), inBool(A), inBool(B), inBool(C), inBool(D)]).proof()"
   ]
  },
  {
   "cell_type": "code",
   "execution_count": null,
   "metadata": {},
   "outputs": [],
   "source": [
    "Or(A,B,C,D).deriveViaMultiDilemma(Or(H,I,J,K),[Or(A,B,C,D), Implies(A,H), Implies(B,I), Implies(C,J), Implies(D,K),inBool(A), inBool(B), inBool(C), inBool(D), inBool(H), inBool(I), inBool(J), inBool(K)]).proof()"
   ]
  },
  {
   "cell_type": "code",
   "execution_count": null,
   "metadata": {},
   "outputs": [],
   "source": [
    "Or(H, I, J, K).deducePartInBool(2, inBool(H,I,J,K)).proof()"
   ]
  },
  {
   "cell_type": "markdown",
   "metadata": {},
   "source": [
    "destructiveDilemma"
   ]
  },
  {
   "cell_type": "code",
   "execution_count": null,
   "metadata": {},
   "outputs": [],
   "source": [
    "Or(Not(C),Not(D)).deriveViaDilemma(Or(Not(A),Not(B)),[Or(Not(C),Not(D)), Implies(A,C), Implies(B,D),inBool(A),inBool(B),inBool(C),inBool(D)]).proof()"
   ]
  },
  {
   "cell_type": "code",
   "execution_count": null,
   "metadata": {},
   "outputs": [],
   "source": [
    "Or(Not(H), Not(I), Not(J), Not(K)).deriveViaDilemma(Or(Not(A), Not(B), Not(C), Not(D)),[Or(Not(H), Not(I), Not(J), Not(K)),Implies(A,H), Implies(B,I), Implies(C,J), Implies(D,K),inBool(A), inBool(B), inBool(C), inBool(D), inBool(H), inBool(I), inBool(J), inBool(K)]).proof()"
   ]
  },
  {
   "cell_type": "code",
   "execution_count": null,
   "metadata": {},
   "outputs": [],
   "source": [
    "Not(A).prove([Not(Or(A,B))]).proof()"
   ]
  },
  {
   "cell_type": "code",
   "execution_count": null,
   "metadata": {},
   "outputs": [],
   "source": [
    "Not(B).prove([Not(Or(A,B))]).proof()"
   ]
  },
  {
   "cell_type": "code",
   "execution_count": null,
   "metadata": {},
   "outputs": [],
   "source": [
    "Or(A).deduceUnaryEquiv([inBool(A)]).proof()"
   ]
  },
  {
   "cell_type": "code",
   "execution_count": null,
   "metadata": {},
   "outputs": [],
   "source": [
    "inBool(B).prove([inBool(Or(A,B,C))]).proof()"
   ]
  },
  {
   "cell_type": "code",
   "execution_count": null,
   "metadata": {},
   "outputs": [],
   "source": [
    "Or(A,B,C).prove([A,inBool(A),inBool(B),inBool(C)]).proof()"
   ]
  },
  {
   "cell_type": "code",
   "execution_count": null,
   "metadata": {},
   "outputs": [],
   "source": [
    "Not(Or(A,B,C)).prove([Not(A), Not(B), Not(C)]).proof()"
   ]
  },
  {
   "cell_type": "code",
   "execution_count": null,
   "metadata": {},
   "outputs": [],
   "source": [
    "Or(A,B,C).deriveContradiction([Or(A,B,C), Not(A), Not(B), Not(C)]).proof()"
   ]
  },
  {
   "cell_type": "code",
   "execution_count": 2,
   "metadata": {},
   "outputs": [
    {
     "data": {
      "text/html": [
       "<table><tr><th>&nbsp;</th><th>step type</th><th>requirements</th><th>statement</th></tr>\n",
       "<tr><td>0</td><td>specialization</td><td>1, 2, 3, 4, 5, 6, 7, 8, 9</td><td><span style=\"font-size:20px;\"><a class=\"ProveItLink\" href=\"__pv_it/ba4c8eb784fa52adfd8e2877b83622e1dc46b96e0/expr.ipynb\"><img src=\"__pv_it/ba4c8eb784fa52adfd8e2877b83622e1dc46b96e0/expr.png\" style=\"display:inline;vertical-align:middle;\" /></a> &#x22A2;&nbsp;<a class=\"ProveItLink\" href=\"__pv_it/2ccc2388c191f2016513ea5605f8803bd4be36260/expr.ipynb\"><img src=\"__pv_it/2ccc2388c191f2016513ea5605f8803bd4be36260/expr.png\" style=\"display:inline;vertical-align:middle;\" /></a></span></td></tr>\n",
       "<tr><td>&nbsp;</td><td colspan=4 style=\"text-align:left\"><span style=\"font-size:20px;\"><a class=\"ProveItLink\" href=\"../../../__pv_it/3e5d49a51123592869b160296a6e123a424e07a70/expr.ipynb\"><img src=\"../../../__pv_it/3e5d49a51123592869b160296a6e123a424e07a70/expr.png\" style=\"display:inline;vertical-align:middle;\" /></a> : <a class=\"ProveItLink\" href=\"../../../number/numeral/__pv_it/77d407a64829263cdc16415becd4c2293f77a4bf0/expr.ipynb\"><img src=\"../../../number/numeral/__pv_it/77d407a64829263cdc16415becd4c2293f77a4bf0/expr.png\" style=\"display:inline;vertical-align:middle;\" /></a>, <a class=\"ProveItLink\" href=\"../../../__pv_it/78af03acba5349fd70398a32ce59bae1da52f0870/expr.ipynb\"><img src=\"../../../__pv_it/78af03acba5349fd70398a32ce59bae1da52f0870/expr.png\" style=\"display:inline;vertical-align:middle;\" /></a> : <a class=\"ProveItLink\" href=\"../../../number/numeral/__pv_it/77d407a64829263cdc16415becd4c2293f77a4bf0/expr.ipynb\"><img src=\"../../../number/numeral/__pv_it/77d407a64829263cdc16415becd4c2293f77a4bf0/expr.png\" style=\"display:inline;vertical-align:middle;\" /></a>, <a class=\"ProveItLink\" href=\"../../../__pv_it/39dbcd3ca0390345b51c6ef7785756419e2c14390/expr.ipynb\"><img src=\"../../../__pv_it/39dbcd3ca0390345b51c6ef7785756419e2c14390/expr.png\" style=\"display:inline;vertical-align:middle;\" /></a> : <a class=\"ProveItLink\" href=\"../../../number/numeral/__pv_it/9176d93c83afa2c995b614976e3cb49207102fa70/expr.ipynb\"><img src=\"../../../number/numeral/__pv_it/9176d93c83afa2c995b614976e3cb49207102fa70/expr.png\" style=\"display:inline;vertical-align:middle;\" /></a>, <a class=\"ProveItLink\" href=\"../../../__pv_it/eb438fefc4bd0ac977777d6dfd3e8a72dfbedbd50/expr.ipynb\"><img src=\"../../../__pv_it/eb438fefc4bd0ac977777d6dfd3e8a72dfbedbd50/expr.png\" style=\"display:inline;vertical-align:middle;\" /></a> : <a class=\"ProveItLink\" href=\"__pv_it/06a72e8706d1c13b268a9445a249c41d479d50850/expr.ipynb\"><img src=\"__pv_it/06a72e8706d1c13b268a9445a249c41d479d50850/expr.png\" style=\"display:inline;vertical-align:middle;\" /></a>, <a class=\"ProveItLink\" href=\"../../../__pv_it/a275d402e75fbbde925e8ebdcbfd239a2138849c0/expr.ipynb\"><img src=\"../../../__pv_it/a275d402e75fbbde925e8ebdcbfd239a2138849c0/expr.png\" style=\"display:inline;vertical-align:middle;\" /></a> : <a class=\"ProveItLink\" href=\"__pv_it/dc9e854469e5d863dc8ee464da9a7271b5b344fd0/expr.ipynb\"><img src=\"__pv_it/dc9e854469e5d863dc8ee464da9a7271b5b344fd0/expr.png\" style=\"display:inline;vertical-align:middle;\" /></a>, <a class=\"ProveItLink\" href=\"../../../__pv_it/9242e69d4f2c65d04fc0527b82418c7c22c6da370/expr.ipynb\"><img src=\"../../../__pv_it/9242e69d4f2c65d04fc0527b82418c7c22c6da370/expr.png\" style=\"display:inline;vertical-align:middle;\" /></a> : <a class=\"ProveItLink\" href=\"__pv_it/4f564a6edd3380d4737ba8e7cbab9cad8a2a54bb0/expr.ipynb\"><img src=\"__pv_it/4f564a6edd3380d4737ba8e7cbab9cad8a2a54bb0/expr.png\" style=\"display:inline;vertical-align:middle;\" /></a></span></td></tr><tr><td>1</td><td>theorem</td><td></td><td><span style=\"font-size:20px;\"> &#x22A2;&nbsp;<a class=\"ProveItLink\" href=\"__pv_it/516b6956e07219f19759a6f46ce67a13da6eacaf0/expr.ipynb\"><img src=\"__pv_it/516b6956e07219f19759a6f46ce67a13da6eacaf0/expr.png\" style=\"display:inline;vertical-align:middle;\" /></a></span></td></tr>\n",
       "<tr><td>&nbsp;</td><td colspan=4 style-\"text-align:left\"><a class=\"ProveItLink\" href=\"_proofs_/group.ipynb\">proveit.logic.boolean.disjunction.group</a></td></tr><tr><td>2</td><td>theorem</td><td></td><td><span style=\"font-size:20px;\"> &#x22A2;&nbsp;<a class=\"ProveItLink\" href=\"../../../number/numeral/deci/__pv_it/286f0443dba55bdb259c90cef1db0ca273fac95e0/expr.ipynb\"><img src=\"../../../number/numeral/deci/__pv_it/286f0443dba55bdb259c90cef1db0ca273fac95e0/expr.png\" style=\"display:inline;vertical-align:middle;\" /></a></span></td></tr>\n",
       "<tr><td>&nbsp;</td><td colspan=4 style-\"text-align:left\"><a class=\"ProveItLink\" href=\"../../../number/numeral/deci/_proofs_/nat2.ipynb\">proveit.number.numeral.deci.nat2</a></td></tr><tr><td>3</td><td>theorem</td><td></td><td><span style=\"font-size:20px;\"> &#x22A2;&nbsp;<a class=\"ProveItLink\" href=\"../../../number/numeral/deci/__pv_it/106bf174ef7755d5609db086689abcc208d6bf3d0/expr.ipynb\"><img src=\"../../../number/numeral/deci/__pv_it/106bf174ef7755d5609db086689abcc208d6bf3d0/expr.png\" style=\"display:inline;vertical-align:middle;\" /></a></span></td></tr>\n",
       "<tr><td>&nbsp;</td><td colspan=4 style-\"text-align:left\"><a class=\"ProveItLink\" href=\"../../../number/numeral/deci/_proofs_/nat3.ipynb\">proveit.number.numeral.deci.nat3</a></td></tr><tr><td>4</td><td>specialization</td><td>12, 10, 11</td><td><span style=\"font-size:20px;\"><a class=\"ProveItLink\" href=\"__pv_it/1cfd36f54dadf8eaa971948fe28d325742cb751f0/expr.ipynb\"><img src=\"__pv_it/1cfd36f54dadf8eaa971948fe28d325742cb751f0/expr.png\" style=\"display:inline;vertical-align:middle;\" /></a> &#x22A2;&nbsp;<a class=\"ProveItLink\" href=\"__pv_it/2658b8bdcda9f2f0acb9b0205b2797e3d0c12c210/expr.ipynb\"><img src=\"__pv_it/2658b8bdcda9f2f0acb9b0205b2797e3d0c12c210/expr.png\" style=\"display:inline;vertical-align:middle;\" /></a></span></td></tr>\n",
       "<tr><td>&nbsp;</td><td colspan=4 style=\"text-align:left\"><span style=\"font-size:20px;\"><a class=\"ProveItLink\" href=\"../../../__pv_it/abeee18594afe51bfb1be95d9591fbba24ac53f30/expr.ipynb\"><img src=\"../../../__pv_it/abeee18594afe51bfb1be95d9591fbba24ac53f30/expr.png\" style=\"display:inline;vertical-align:middle;\" /></a> : <a class=\"ProveItLink\" href=\"../__pv_it/46271c8230be96415d662709611f4ed2279d702b0/expr.ipynb\"><img src=\"../__pv_it/46271c8230be96415d662709611f4ed2279d702b0/expr.png\" style=\"display:inline;vertical-align:middle;\" /></a>, <a class=\"ProveItLink\" href=\"../../../__pv_it/07527342713064c87612d00d8557c53d53d5324a0/expr.ipynb\"><img src=\"../../../__pv_it/07527342713064c87612d00d8557c53d53d5324a0/expr.png\" style=\"display:inline;vertical-align:middle;\" /></a> : <a class=\"ProveItLink\" href=\"../../../__pv_it/2cbe72a7ad6f655694dd697106680215e8489b600/expr.ipynb\"><img src=\"../../../__pv_it/2cbe72a7ad6f655694dd697106680215e8489b600/expr.png\" style=\"display:inline;vertical-align:middle;\" /></a>, <a class=\"ProveItLink\" href=\"../../../__pv_it/6840a4fa6c106149dc16a131294d0c5e44f1b0480/expr.ipynb\"><img src=\"../../../__pv_it/6840a4fa6c106149dc16a131294d0c5e44f1b0480/expr.png\" style=\"display:inline;vertical-align:middle;\" /></a> : <a class=\"ProveItLink\" href=\"../../../__pv_it/077b2ff79244fb4582cbe22c6e3356fa92a52f2f0/expr.ipynb\"><img src=\"../../../__pv_it/077b2ff79244fb4582cbe22c6e3356fa92a52f2f0/expr.png\" style=\"display:inline;vertical-align:middle;\" /></a></span></td></tr><tr><td>5</td><td>specialization</td><td>12, 13, 14</td><td><span style=\"font-size:20px;\"><a class=\"ProveItLink\" href=\"__pv_it/0f32bcc9f2a496786139e05c6acd4be91e68beb70/expr.ipynb\"><img src=\"__pv_it/0f32bcc9f2a496786139e05c6acd4be91e68beb70/expr.png\" style=\"display:inline;vertical-align:middle;\" /></a> &#x22A2;&nbsp;<a class=\"ProveItLink\" href=\"__pv_it/736c9fb123aa517a2bbeba9689091348a4ddfcf00/expr.ipynb\"><img src=\"__pv_it/736c9fb123aa517a2bbeba9689091348a4ddfcf00/expr.png\" style=\"display:inline;vertical-align:middle;\" /></a></span></td></tr>\n",
       "<tr><td>&nbsp;</td><td colspan=4 style=\"text-align:left\"><span style=\"font-size:20px;\"><a class=\"ProveItLink\" href=\"../../../__pv_it/abeee18594afe51bfb1be95d9591fbba24ac53f30/expr.ipynb\"><img src=\"../../../__pv_it/abeee18594afe51bfb1be95d9591fbba24ac53f30/expr.png\" style=\"display:inline;vertical-align:middle;\" /></a> : <a class=\"ProveItLink\" href=\"../__pv_it/46271c8230be96415d662709611f4ed2279d702b0/expr.ipynb\"><img src=\"../__pv_it/46271c8230be96415d662709611f4ed2279d702b0/expr.png\" style=\"display:inline;vertical-align:middle;\" /></a>, <a class=\"ProveItLink\" href=\"../../../__pv_it/07527342713064c87612d00d8557c53d53d5324a0/expr.ipynb\"><img src=\"../../../__pv_it/07527342713064c87612d00d8557c53d53d5324a0/expr.png\" style=\"display:inline;vertical-align:middle;\" /></a> : <a class=\"ProveItLink\" href=\"../../../__pv_it/985a1bdf1540838275dec15f4ad6de261cca93ce0/expr.ipynb\"><img src=\"../../../__pv_it/985a1bdf1540838275dec15f4ad6de261cca93ce0/expr.png\" style=\"display:inline;vertical-align:middle;\" /></a>, <a class=\"ProveItLink\" href=\"../../../__pv_it/6840a4fa6c106149dc16a131294d0c5e44f1b0480/expr.ipynb\"><img src=\"../../../__pv_it/6840a4fa6c106149dc16a131294d0c5e44f1b0480/expr.png\" style=\"display:inline;vertical-align:middle;\" /></a> : <a class=\"ProveItLink\" href=\"../../../__pv_it/185e6d30f167ee2ee5ef3321098dc98e0d77bc590/expr.ipynb\"><img src=\"../../../__pv_it/185e6d30f167ee2ee5ef3321098dc98e0d77bc590/expr.png\" style=\"display:inline;vertical-align:middle;\" /></a></span></td></tr><tr><td>6</td><td>specialization</td><td>15, 16, 17, 18</td><td><span style=\"font-size:20px;\"><a class=\"ProveItLink\" href=\"__pv_it/7a487b80a3a1aef3c6393f00e058be6d03948b470/expr.ipynb\"><img src=\"__pv_it/7a487b80a3a1aef3c6393f00e058be6d03948b470/expr.png\" style=\"display:inline;vertical-align:middle;\" /></a> &#x22A2;&nbsp;<a class=\"ProveItLink\" href=\"__pv_it/c08f2b73c2f1ab418e611403612f2d051a58b13b0/expr.ipynb\"><img src=\"__pv_it/c08f2b73c2f1ab418e611403612f2d051a58b13b0/expr.png\" style=\"display:inline;vertical-align:middle;\" /></a></span></td></tr>\n",
       "<tr><td>&nbsp;</td><td colspan=4 style=\"text-align:left\"><span style=\"font-size:20px;\"><a class=\"ProveItLink\" href=\"../../../__pv_it/abeee18594afe51bfb1be95d9591fbba24ac53f30/expr.ipynb\"><img src=\"../../../__pv_it/abeee18594afe51bfb1be95d9591fbba24ac53f30/expr.png\" style=\"display:inline;vertical-align:middle;\" /></a> : <a class=\"ProveItLink\" href=\"../__pv_it/46271c8230be96415d662709611f4ed2279d702b0/expr.ipynb\"><img src=\"../__pv_it/46271c8230be96415d662709611f4ed2279d702b0/expr.png\" style=\"display:inline;vertical-align:middle;\" /></a>, <a class=\"ProveItLink\" href=\"../../../__pv_it/07527342713064c87612d00d8557c53d53d5324a0/expr.ipynb\"><img src=\"../../../__pv_it/07527342713064c87612d00d8557c53d53d5324a0/expr.png\" style=\"display:inline;vertical-align:middle;\" /></a> : <a class=\"ProveItLink\" href=\"../../../__pv_it/9995c55100c62d7d8a012a35bafc852acbe03cf00/expr.ipynb\"><img src=\"../../../__pv_it/9995c55100c62d7d8a012a35bafc852acbe03cf00/expr.png\" style=\"display:inline;vertical-align:middle;\" /></a>, <a class=\"ProveItLink\" href=\"../../../__pv_it/6840a4fa6c106149dc16a131294d0c5e44f1b0480/expr.ipynb\"><img src=\"../../../__pv_it/6840a4fa6c106149dc16a131294d0c5e44f1b0480/expr.png\" style=\"display:inline;vertical-align:middle;\" /></a> : <a class=\"ProveItLink\" href=\"../../../__pv_it/6d1586c49fb5fd7602fde2bbc54560e7304e8ccf0/expr.ipynb\"><img src=\"../../../__pv_it/6d1586c49fb5fd7602fde2bbc54560e7304e8ccf0/expr.png\" style=\"display:inline;vertical-align:middle;\" /></a>, <a class=\"ProveItLink\" href=\"../../../__pv_it/cbdfda466482236edba0ce44ac7ef39cda0af7a40/expr.ipynb\"><img src=\"../../../__pv_it/cbdfda466482236edba0ce44ac7ef39cda0af7a40/expr.png\" style=\"display:inline;vertical-align:middle;\" /></a> : <a class=\"ProveItLink\" href=\"../../../__pv_it/994260d00d104a1ab9cf940a007fb6a4ff36f79e0/expr.ipynb\"><img src=\"../../../__pv_it/994260d00d104a1ab9cf940a007fb6a4ff36f79e0/expr.png\" style=\"display:inline;vertical-align:middle;\" /></a></span></td></tr><tr><td>7</td><td>assumption</td><td></td><td><span style=\"font-size:20px;\"><a class=\"ProveItLink\" href=\"__pv_it/a53480ed0192ee20c6decc5120d71f15350222130/expr.ipynb\"><img src=\"__pv_it/a53480ed0192ee20c6decc5120d71f15350222130/expr.png\" style=\"display:inline;vertical-align:middle;\" /></a> &#x22A2;&nbsp;<a class=\"ProveItLink\" href=\"__pv_it/28d041147b683f342affadc4e5474be7841fc4d90/expr.ipynb\"><img src=\"__pv_it/28d041147b683f342affadc4e5474be7841fc4d90/expr.png\" style=\"display:inline;vertical-align:middle;\" /></a></span></td></tr>\n",
       "<tr><td>8</td><td>theorem</td><td></td><td><span style=\"font-size:20px;\"> &#x22A2;&nbsp;<a class=\"ProveItLink\" href=\"../../../number/numeral/deci/__pv_it/c5d3f2ba07647aec518bec1929b16561d1a340400/expr.ipynb\"><img src=\"../../../number/numeral/deci/__pv_it/c5d3f2ba07647aec518bec1929b16561d1a340400/expr.png\" style=\"display:inline;vertical-align:middle;\" /></a></span></td></tr>\n",
       "<tr><td>&nbsp;</td><td colspan=4 style-\"text-align:left\"><a class=\"ProveItLink\" href=\"../../../number/numeral/deci/_proofs_/add_1_1.ipynb\">proveit.number.numeral.deci.add_1_1</a></td></tr><tr><td>9</td><td>theorem</td><td></td><td><span style=\"font-size:20px;\"> &#x22A2;&nbsp;<a class=\"ProveItLink\" href=\"../../../number/numeral/deci/__pv_it/21aa4b60034093b61b7d779cdd54bc7d2d51c73e0/expr.ipynb\"><img src=\"../../../number/numeral/deci/__pv_it/21aa4b60034093b61b7d779cdd54bc7d2d51c73e0/expr.png\" style=\"display:inline;vertical-align:middle;\" /></a></span></td></tr>\n",
       "<tr><td>&nbsp;</td><td colspan=4 style-\"text-align:left\"><a class=\"ProveItLink\" href=\"../../../number/numeral/deci/_proofs_/add_2_1.ipynb\">proveit.number.numeral.deci.add_2_1</a></td></tr><tr><td>10</td><td>assumption</td><td></td><td><span style=\"font-size:20px;\"><a class=\"ProveItLink\" href=\"__pv_it/017ca8cfa034181c90ba15dd10869f0f4e516d6a0/expr.ipynb\"><img src=\"__pv_it/017ca8cfa034181c90ba15dd10869f0f4e516d6a0/expr.png\" style=\"display:inline;vertical-align:middle;\" /></a> &#x22A2;&nbsp;<a class=\"ProveItLink\" href=\"__pv_it/03a5c2b5cc6fc2c3cd686b4bcf84379b893abe210/expr.ipynb\"><img src=\"__pv_it/03a5c2b5cc6fc2c3cd686b4bcf84379b893abe210/expr.png\" style=\"display:inline;vertical-align:middle;\" /></a></span></td></tr>\n",
       "<tr><td>11</td><td>assumption</td><td></td><td><span style=\"font-size:20px;\"><a class=\"ProveItLink\" href=\"__pv_it/2c2e947402f53b9e11cd7769e1b5b3378595750e0/expr.ipynb\"><img src=\"__pv_it/2c2e947402f53b9e11cd7769e1b5b3378595750e0/expr.png\" style=\"display:inline;vertical-align:middle;\" /></a> &#x22A2;&nbsp;<a class=\"ProveItLink\" href=\"__pv_it/fe5c91c77f0659f9ea07a2e3257797875d6868370/expr.ipynb\"><img src=\"__pv_it/fe5c91c77f0659f9ea07a2e3257797875d6868370/expr.png\" style=\"display:inline;vertical-align:middle;\" /></a></span></td></tr>\n",
       "<tr><td>12</td><td>theorem</td><td></td><td><span style=\"font-size:20px;\"> &#x22A2;&nbsp;<a class=\"ProveItLink\" href=\"../../set_theory/membership/__pv_it/9ac424c71798aca56b25ebe33a7a41dbaa332c490/expr.ipynb\"><img src=\"../../set_theory/membership/__pv_it/9ac424c71798aca56b25ebe33a7a41dbaa332c490/expr.png\" style=\"display:inline;vertical-align:middle;\" /></a></span></td></tr>\n",
       "<tr><td>&nbsp;</td><td colspan=4 style-\"text-align:left\"><a class=\"ProveItLink\" href=\"../../set_theory/membership/_proofs_/exp_set_2.ipynb\">proveit.logic.set_theory.membership.exp_set_2</a></td></tr><tr><td>13</td><td>assumption</td><td></td><td><span style=\"font-size:20px;\"><a class=\"ProveItLink\" href=\"__pv_it/549ecf82a9d4ac5ca0750c6c3aaf83e6e7209ca90/expr.ipynb\"><img src=\"__pv_it/549ecf82a9d4ac5ca0750c6c3aaf83e6e7209ca90/expr.png\" style=\"display:inline;vertical-align:middle;\" /></a> &#x22A2;&nbsp;<a class=\"ProveItLink\" href=\"__pv_it/2cec3c732aceb253233bb533d4e43cc3f34f4f660/expr.ipynb\"><img src=\"__pv_it/2cec3c732aceb253233bb533d4e43cc3f34f4f660/expr.png\" style=\"display:inline;vertical-align:middle;\" /></a></span></td></tr>\n",
       "<tr><td>14</td><td>assumption</td><td></td><td><span style=\"font-size:20px;\"><a class=\"ProveItLink\" href=\"__pv_it/aa3618fdfba9edc866f19a2dbc2f7cde292ff1c70/expr.ipynb\"><img src=\"__pv_it/aa3618fdfba9edc866f19a2dbc2f7cde292ff1c70/expr.png\" style=\"display:inline;vertical-align:middle;\" /></a> &#x22A2;&nbsp;<a class=\"ProveItLink\" href=\"__pv_it/3891b823dfb55f51d513cc7144556dc1bfd425b70/expr.ipynb\"><img src=\"__pv_it/3891b823dfb55f51d513cc7144556dc1bfd425b70/expr.png\" style=\"display:inline;vertical-align:middle;\" /></a></span></td></tr>\n",
       "<tr><td>15</td><td>theorem</td><td></td><td><span style=\"font-size:20px;\"> &#x22A2;&nbsp;<a class=\"ProveItLink\" href=\"../../set_theory/membership/__pv_it/a49ce01e1a7921a9d6b58e9c03dee6f569af69c80/expr.ipynb\"><img src=\"../../set_theory/membership/__pv_it/a49ce01e1a7921a9d6b58e9c03dee6f569af69c80/expr.png\" style=\"display:inline;vertical-align:middle;\" /></a></span></td></tr>\n",
       "<tr><td>&nbsp;</td><td colspan=4 style-\"text-align:left\"><a class=\"ProveItLink\" href=\"../../set_theory/membership/_proofs_/exp_set_3.ipynb\">proveit.logic.set_theory.membership.exp_set_3</a></td></tr><tr><td>16</td><td>assumption</td><td></td><td><span style=\"font-size:20px;\"><a class=\"ProveItLink\" href=\"__pv_it/45550be27f6913c17dce44dfc83cc77bc2a041d30/expr.ipynb\"><img src=\"__pv_it/45550be27f6913c17dce44dfc83cc77bc2a041d30/expr.png\" style=\"display:inline;vertical-align:middle;\" /></a> &#x22A2;&nbsp;<a class=\"ProveItLink\" href=\"__pv_it/655d89e4e0e0d371b0b02d7fde2b0e184bd7586c0/expr.ipynb\"><img src=\"__pv_it/655d89e4e0e0d371b0b02d7fde2b0e184bd7586c0/expr.png\" style=\"display:inline;vertical-align:middle;\" /></a></span></td></tr>\n",
       "<tr><td>17</td><td>assumption</td><td></td><td><span style=\"font-size:20px;\"><a class=\"ProveItLink\" href=\"__pv_it/0ba4cd246cef7b00b186d3d56b6671849ced26320/expr.ipynb\"><img src=\"__pv_it/0ba4cd246cef7b00b186d3d56b6671849ced26320/expr.png\" style=\"display:inline;vertical-align:middle;\" /></a> &#x22A2;&nbsp;<a class=\"ProveItLink\" href=\"__pv_it/62029ad82d8302e3a31ed4ae162b3ad65f0484420/expr.ipynb\"><img src=\"__pv_it/62029ad82d8302e3a31ed4ae162b3ad65f0484420/expr.png\" style=\"display:inline;vertical-align:middle;\" /></a></span></td></tr>\n",
       "<tr><td>18</td><td>assumption</td><td></td><td><span style=\"font-size:20px;\"><a class=\"ProveItLink\" href=\"__pv_it/0104e7b63dbe24a8f1a4dc3aa342b211184372700/expr.ipynb\"><img src=\"__pv_it/0104e7b63dbe24a8f1a4dc3aa342b211184372700/expr.png\" style=\"display:inline;vertical-align:middle;\" /></a> &#x22A2;&nbsp;<a class=\"ProveItLink\" href=\"__pv_it/9c241f611ffe152dbed9d35a15444f5e8bde21190/expr.ipynb\"><img src=\"__pv_it/9c241f611ffe152dbed9d35a15444f5e8bde21190/expr.png\" style=\"display:inline;vertical-align:middle;\" /></a></span></td></tr>\n",
       "</table>"
      ],
      "text/plain": [
       "\tstep type\trequirements\tstatement\n",
       "0\tspecialization\t1, 2, 3, 4, 5, 6, 7, 8, 9\t{A or B or C or D or E or F or G , A in BOOLEANS , B in BOOLEANS , C in BOOLEANS , D in BOOLEANS , E in BOOLEANS , F in BOOLEANS , G in BOOLEANS} |= A or B or (C or D) or E or F or G\n",
       "\tl : 2, m : 2, n : 3, A : (A , B), B : (C , D), C : (E , F , G)\n",
       "1\ttheorem\t\t|= forall_{l, m, n in Naturals} [forall_{(A, B, C) in BOOLEANS^{l} * BOOLEANS^{m} * BOOLEANS^{n} | A_(1) or  ...  or A_(l) or B_(1) or  ...  or B_(m) or C_(1) or  ...  or C_(n)} (A_(1) or  ...  or A_(l) or (B_(1) or  ...  or B_(m)) or C_(1) or  ...  or C_(n))]\n",
       "\tproveit.logic.boolean.disjunction.group\n",
       "2\ttheorem\t\t|= 2 in Naturals\n",
       "\tproveit.number.numeral.deci.nat2\n",
       "3\ttheorem\t\t|= 3 in Naturals\n",
       "\tproveit.number.numeral.deci.nat3\n",
       "4\tspecialization\t12, 10, 11\t{A in BOOLEANS , B in BOOLEANS} |= (A , B) in BOOLEANS^{2}\n",
       "\tS : BOOLEANS, a : A, b : B\n",
       "5\tspecialization\t12, 13, 14\t{C in BOOLEANS , D in BOOLEANS} |= (C , D) in BOOLEANS^{2}\n",
       "\tS : BOOLEANS, a : C, b : D\n",
       "6\tspecialization\t15, 16, 17, 18\t{E in BOOLEANS , F in BOOLEANS , G in BOOLEANS} |= (E , F , G) in BOOLEANS^{3}\n",
       "\tS : BOOLEANS, a : E, b : F, c : G\n",
       "7\tassumption\t\t{A or B or C or D or E or F or G} |= A or B or C or D or E or F or G\n",
       "8\ttheorem\t\t|= (1 + 1) = 2\n",
       "\tproveit.number.numeral.deci.add_1_1\n",
       "9\ttheorem\t\t|= (2 + 1) = 3\n",
       "\tproveit.number.numeral.deci.add_2_1\n",
       "10\tassumption\t\t{A in BOOLEANS} |= A in BOOLEANS\n",
       "11\tassumption\t\t{B in BOOLEANS} |= B in BOOLEANS\n",
       "12\ttheorem\t\t|= forall_{S} [forall_{a, b in S} ((a , b) in S^{2})]\n",
       "\tproveit.logic.set_theory.membership.exp_set_2\n",
       "13\tassumption\t\t{C in BOOLEANS} |= C in BOOLEANS\n",
       "14\tassumption\t\t{D in BOOLEANS} |= D in BOOLEANS\n",
       "15\ttheorem\t\t|= forall_{S} [forall_{a, b, c in S} ((a , b , c) in S^{3})]\n",
       "\tproveit.logic.set_theory.membership.exp_set_3\n",
       "16\tassumption\t\t{E in BOOLEANS} |= E in BOOLEANS\n",
       "17\tassumption\t\t{F in BOOLEANS} |= F in BOOLEANS\n",
       "18\tassumption\t\t{G in BOOLEANS} |= G in BOOLEANS"
      ]
     },
     "execution_count": 2,
     "metadata": {},
     "output_type": "execute_result"
    }
   ],
   "source": [
    "Or(A,B,C,D,E,F,G).deriveGroup(2,4,[Or(A,B,Or(C,D),E,F,G),Or(A,B,C,D,E,F,G),inBool(A), inBool(B),inBool(C),inBool(D),inBool(E),inBool(F),inBool(G)]).proof()"
   ]
  },
  {
   "cell_type": "code",
   "execution_count": 4,
   "metadata": {},
   "outputs": [
    {
     "ename": "Exception",
     "evalue": "Side effect failure for A or B or C or I or J or G or H or D or E or F or K or L: ExprList index out of range",
     "output_type": "error",
     "traceback": [
      "\u001b[0;31m---------------------------------------------------------------------------\u001b[0m",
      "\u001b[0;31mProofFailure\u001b[0m                              Traceback (most recent call last)",
      "\u001b[0;32m/home/jmadri/Prove-It/packages/proveit/_core_/expression/expr.py\u001b[0m in \u001b[0;36mprove\u001b[0;34m(self, assumptions, automation)\u001b[0m\n\u001b[1;32m    409\u001b[0m                     \u001b[0;31m# first attempt to prove via implication\u001b[0m\u001b[0;34m\u001b[0m\u001b[0;34m\u001b[0m\u001b[0;34m\u001b[0m\u001b[0m\n\u001b[0;32m--> 410\u001b[0;31m                     \u001b[0mconcludedTruth\u001b[0m \u001b[0;34m=\u001b[0m \u001b[0mself\u001b[0m\u001b[0;34m.\u001b[0m\u001b[0mconcludeViaImplication\u001b[0m\u001b[0;34m(\u001b[0m\u001b[0massumptions\u001b[0m\u001b[0;34m)\u001b[0m\u001b[0;34m\u001b[0m\u001b[0;34m\u001b[0m\u001b[0m\n\u001b[0m\u001b[1;32m    411\u001b[0m                 \u001b[0;32mexcept\u001b[0m \u001b[0mProofFailure\u001b[0m\u001b[0;34m:\u001b[0m\u001b[0;34m\u001b[0m\u001b[0;34m\u001b[0m\u001b[0m\n",
      "\u001b[0;32m/home/jmadri/Prove-It/packages/proveit/_core_/expression/expr.py\u001b[0m in \u001b[0;36mconcludeViaImplication\u001b[0;34m(self, assumptions)\u001b[0m\n\u001b[1;32m    458\u001b[0m         \u001b[0;32mfrom\u001b[0m \u001b[0mproveit\u001b[0m\u001b[0;34m.\u001b[0m\u001b[0mlogic\u001b[0m \u001b[0;32mimport\u001b[0m \u001b[0mconcludeViaImplication\u001b[0m\u001b[0;34m\u001b[0m\u001b[0;34m\u001b[0m\u001b[0m\n\u001b[0;32m--> 459\u001b[0;31m         \u001b[0;32mreturn\u001b[0m \u001b[0mconcludeViaImplication\u001b[0m\u001b[0;34m(\u001b[0m\u001b[0mself\u001b[0m\u001b[0;34m,\u001b[0m \u001b[0massumptions\u001b[0m\u001b[0;34m)\u001b[0m\u001b[0;34m\u001b[0m\u001b[0;34m\u001b[0m\u001b[0m\n\u001b[0m\u001b[1;32m    460\u001b[0m \u001b[0;34m\u001b[0m\u001b[0m\n",
      "\u001b[0;32m/home/jmadri/Prove-It/packages/proveit/logic/boolean/implication/implies.py\u001b[0m in \u001b[0;36mconcludeViaImplication\u001b[0;34m(consequent, assumptions)\u001b[0m\n\u001b[1;32m    287\u001b[0m                         \u001b[0mqueue\u001b[0m\u001b[0;34m.\u001b[0m\u001b[0mappend\u001b[0m\u001b[0;34m(\u001b[0m\u001b[0mlocal_antecedent\u001b[0m\u001b[0;34m)\u001b[0m\u001b[0;34m\u001b[0m\u001b[0;34m\u001b[0m\u001b[0m\n\u001b[0;32m--> 288\u001b[0;31m     \u001b[0;32mraise\u001b[0m \u001b[0mProofFailure\u001b[0m\u001b[0;34m(\u001b[0m\u001b[0mconsequent\u001b[0m\u001b[0;34m,\u001b[0m \u001b[0massumptions\u001b[0m\u001b[0;34m,\u001b[0m \u001b[0;34m'Unable to conclude via implications'\u001b[0m\u001b[0;34m)\u001b[0m\u001b[0;34m\u001b[0m\u001b[0;34m\u001b[0m\u001b[0m\n\u001b[0m\u001b[1;32m    289\u001b[0m \u001b[0;34m\u001b[0m\u001b[0m\n",
      "\u001b[0;31mProofFailure\u001b[0m: Unable to prove (A or B or C or I or J or G or H or D or E or F or K or L) in BOOLEANS assuming {A or B or C or D or E or F or G or H or I or J or K or L, A or B or C or I or J or G or H or D or E or F or K or L, A in BOOLEANS, B in BOOLEANS, C in BOOLEANS, D in BOOLEANS, E in BOOLEANS, F in BOOLEANS, G in BOOLEANS, H in BOOLEANS, I in BOOLEANS, J in BOOLEANS, K in BOOLEANS, L in BOOLEANS}: Unable to conclude via implications",
      "\nDuring handling of the above exception, another exception occurred:\n",
      "\u001b[0;31mIndexError\u001b[0m                                Traceback (most recent call last)",
      "\u001b[0;32m/home/jmadri/Prove-It/packages/proveit/_core_/known_truth.py\u001b[0m in \u001b[0;36mderiveSideEffects\u001b[0;34m(self)\u001b[0m\n\u001b[1;32m    186\u001b[0m                         \u001b[0;31m# assumptions utilized in the last derivation step.\u001b[0m\u001b[0;34m\u001b[0m\u001b[0;34m\u001b[0m\u001b[0;34m\u001b[0m\u001b[0m\n\u001b[0;32m--> 187\u001b[0;31m                         \u001b[0msideEffect\u001b[0m\u001b[0;34m(\u001b[0m\u001b[0massumptions\u001b[0m\u001b[0;34m=\u001b[0m\u001b[0mdefaults\u001b[0m\u001b[0;34m.\u001b[0m\u001b[0massumptions\u001b[0m\u001b[0;34m)\u001b[0m\u001b[0;34m\u001b[0m\u001b[0;34m\u001b[0m\u001b[0m\n\u001b[0m\u001b[1;32m    188\u001b[0m                     \u001b[0;32mexcept\u001b[0m \u001b[0mProofFailure\u001b[0m\u001b[0;34m:\u001b[0m\u001b[0;34m\u001b[0m\u001b[0;34m\u001b[0m\u001b[0m\n",
      "\u001b[0;32m/home/jmadri/Prove-It/packages/proveit/logic/boolean/disjunction/or_op.py\u001b[0m in \u001b[0;36mderiveInBool\u001b[0;34m(self, assumptions)\u001b[0m\n\u001b[1;32m    136\u001b[0m         '''\n\u001b[0;32m--> 137\u001b[0;31m         \u001b[0;32mreturn\u001b[0m \u001b[0minBool\u001b[0m\u001b[0;34m(\u001b[0m\u001b[0mself\u001b[0m\u001b[0;34m)\u001b[0m\u001b[0;34m.\u001b[0m\u001b[0mprove\u001b[0m\u001b[0;34m(\u001b[0m\u001b[0massumptions\u001b[0m\u001b[0;34m=\u001b[0m\u001b[0massumptions\u001b[0m\u001b[0;34m)\u001b[0m\u001b[0;34m\u001b[0m\u001b[0;34m\u001b[0m\u001b[0m\n\u001b[0m\u001b[1;32m    138\u001b[0m \u001b[0;34m\u001b[0m\u001b[0m\n",
      "\u001b[0;32m/home/jmadri/Prove-It/packages/proveit/_core_/expression/expr.py\u001b[0m in \u001b[0;36mprove\u001b[0;34m(self, assumptions, automation)\u001b[0m\n\u001b[1;32m    412\u001b[0m                     \u001b[0;31m# try the 'conclude' method of the specific Expression class\u001b[0m\u001b[0;34m\u001b[0m\u001b[0;34m\u001b[0m\u001b[0;34m\u001b[0m\u001b[0m\n\u001b[0;32m--> 413\u001b[0;31m                     \u001b[0mconcludedTruth\u001b[0m \u001b[0;34m=\u001b[0m \u001b[0mself\u001b[0m\u001b[0;34m.\u001b[0m\u001b[0mconclude\u001b[0m\u001b[0;34m(\u001b[0m\u001b[0massumptions\u001b[0m\u001b[0;34m)\u001b[0m\u001b[0;34m\u001b[0m\u001b[0;34m\u001b[0m\u001b[0m\n\u001b[0m\u001b[1;32m    414\u001b[0m             \u001b[0;32mif\u001b[0m \u001b[0mconcludedTruth\u001b[0m \u001b[0;32mis\u001b[0m \u001b[0;32mNone\u001b[0m\u001b[0;34m:\u001b[0m\u001b[0;34m\u001b[0m\u001b[0;34m\u001b[0m\u001b[0m\n",
      "\u001b[0;32m/home/jmadri/Prove-It/packages/proveit/logic/set_theory/membership/in_set.py\u001b[0m in \u001b[0;36mconclude\u001b[0;34m(self, assumptions)\u001b[0m\n\u001b[1;32m     83\u001b[0m         \u001b[0;32mif\u001b[0m \u001b[0mhasattr\u001b[0m\u001b[0;34m(\u001b[0m\u001b[0mself\u001b[0m\u001b[0;34m,\u001b[0m \u001b[0;34m'membershipObject'\u001b[0m\u001b[0;34m)\u001b[0m\u001b[0;34m:\u001b[0m\u001b[0;34m\u001b[0m\u001b[0;34m\u001b[0m\u001b[0m\n\u001b[0;32m---> 84\u001b[0;31m             \u001b[0;32mreturn\u001b[0m \u001b[0mself\u001b[0m\u001b[0;34m.\u001b[0m\u001b[0mmembershipObject\u001b[0m\u001b[0;34m.\u001b[0m\u001b[0mconclude\u001b[0m\u001b[0;34m(\u001b[0m\u001b[0massumptions\u001b[0m\u001b[0;34m)\u001b[0m\u001b[0;34m\u001b[0m\u001b[0;34m\u001b[0m\u001b[0m\n\u001b[0m\u001b[1;32m     85\u001b[0m \u001b[0;34m\u001b[0m\u001b[0m\n",
      "\u001b[0;32m/home/jmadri/Prove-It/packages/proveit/logic/boolean/booleans.py\u001b[0m in \u001b[0;36mconclude\u001b[0;34m(self, assumptions)\u001b[0m\n\u001b[1;32m    136\u001b[0m         \u001b[0;32mif\u001b[0m \u001b[0mhasattr\u001b[0m\u001b[0;34m(\u001b[0m\u001b[0melement\u001b[0m\u001b[0;34m,\u001b[0m \u001b[0;34m'deduceInBool'\u001b[0m\u001b[0;34m)\u001b[0m\u001b[0;34m:\u001b[0m\u001b[0;34m\u001b[0m\u001b[0;34m\u001b[0m\u001b[0m\n\u001b[0;32m--> 137\u001b[0;31m             \u001b[0;32mreturn\u001b[0m \u001b[0melement\u001b[0m\u001b[0;34m.\u001b[0m\u001b[0mdeduceInBool\u001b[0m\u001b[0;34m(\u001b[0m\u001b[0massumptions\u001b[0m\u001b[0;34m=\u001b[0m\u001b[0massumptions\u001b[0m\u001b[0;34m)\u001b[0m\u001b[0;34m\u001b[0m\u001b[0;34m\u001b[0m\u001b[0m\n\u001b[0m\u001b[1;32m    138\u001b[0m         \u001b[0;32mraise\u001b[0m \u001b[0mProofFailure\u001b[0m\u001b[0;34m(\u001b[0m\u001b[0minBool\u001b[0m\u001b[0;34m(\u001b[0m\u001b[0melement\u001b[0m\u001b[0;34m)\u001b[0m\u001b[0;34m,\u001b[0m \u001b[0massumptions\u001b[0m\u001b[0;34m,\u001b[0m \u001b[0mstr\u001b[0m\u001b[0;34m(\u001b[0m\u001b[0melement\u001b[0m\u001b[0;34m)\u001b[0m \u001b[0;34m+\u001b[0m \u001b[0;34m' not proven to be equal to TRUE or FALSE.'\u001b[0m\u001b[0;34m)\u001b[0m\u001b[0;34m\u001b[0m\u001b[0;34m\u001b[0m\u001b[0m\n",
      "\u001b[0;32m/home/jmadri/Prove-It/packages/proveit/logic/boolean/disjunction/or_op.py\u001b[0m in \u001b[0;36mdeduceInBool\u001b[0;34m(self, assumptions)\u001b[0m\n\u001b[1;32m    362\u001b[0m         \u001b[0;32melse\u001b[0m\u001b[0;34m:\u001b[0m\u001b[0;34m\u001b[0m\u001b[0;34m\u001b[0m\u001b[0m\n\u001b[0;32m--> 363\u001b[0;31m             \u001b[0;32mreturn\u001b[0m \u001b[0mclosure\u001b[0m\u001b[0;34m.\u001b[0m\u001b[0mspecialize\u001b[0m\u001b[0;34m(\u001b[0m\u001b[0;34m{\u001b[0m\u001b[0mm\u001b[0m\u001b[0;34m:\u001b[0m\u001b[0mnum\u001b[0m\u001b[0;34m(\u001b[0m\u001b[0mlen\u001b[0m\u001b[0;34m(\u001b[0m\u001b[0mself\u001b[0m\u001b[0;34m.\u001b[0m\u001b[0moperands\u001b[0m\u001b[0;34m)\u001b[0m\u001b[0;34m)\u001b[0m\u001b[0;34m,\u001b[0m \u001b[0mAA\u001b[0m\u001b[0;34m:\u001b[0m\u001b[0mself\u001b[0m\u001b[0;34m.\u001b[0m\u001b[0moperands\u001b[0m\u001b[0;34m}\u001b[0m\u001b[0;34m,\u001b[0m \u001b[0massumptions\u001b[0m\u001b[0;34m=\u001b[0m\u001b[0massumptions\u001b[0m\u001b[0;34m)\u001b[0m\u001b[0;34m\u001b[0m\u001b[0;34m\u001b[0m\u001b[0m\n\u001b[0m\u001b[1;32m    364\u001b[0m \u001b[0;34m\u001b[0m\u001b[0m\n",
      "\u001b[0;32m/home/jmadri/Prove-It/packages/proveit/_core_/known_truth.py\u001b[0m in \u001b[0;36mspecialize\u001b[0;34m(self, specializeMap, relabelMap, assumptions)\u001b[0m\n\u001b[1;32m    756\u001b[0m \u001b[0;34m\u001b[0m\u001b[0m\n\u001b[0;32m--> 757\u001b[0;31m         \u001b[0;32mreturn\u001b[0m \u001b[0mself\u001b[0m\u001b[0;34m.\u001b[0m\u001b[0m_checkedTruth\u001b[0m\u001b[0;34m(\u001b[0m\u001b[0mSpecialization\u001b[0m\u001b[0;34m(\u001b[0m\u001b[0mself\u001b[0m\u001b[0;34m,\u001b[0m \u001b[0mnumForallEliminations\u001b[0m\u001b[0;34m=\u001b[0m\u001b[0mnumForallEliminations\u001b[0m\u001b[0;34m,\u001b[0m \u001b[0mspecializeMap\u001b[0m\u001b[0;34m=\u001b[0m\u001b[0mprocessedSubMap\u001b[0m\u001b[0;34m,\u001b[0m \u001b[0mrelabelMap\u001b[0m\u001b[0;34m=\u001b[0m\u001b[0mrelabelMap\u001b[0m\u001b[0;34m,\u001b[0m \u001b[0massumptions\u001b[0m\u001b[0;34m=\u001b[0m\u001b[0massumptions\u001b[0m\u001b[0;34m)\u001b[0m\u001b[0;34m)\u001b[0m\u001b[0;34m\u001b[0m\u001b[0;34m\u001b[0m\u001b[0m\n\u001b[0m\u001b[1;32m    758\u001b[0m \u001b[0;34m\u001b[0m\u001b[0m\n",
      "\u001b[0;32m/home/jmadri/Prove-It/packages/proveit/_core_/proof.py\u001b[0m in \u001b[0;36m__init__\u001b[0;34m(self, generalTruth, numForallEliminations, specializeMap, relabelMap, assumptions)\u001b[0m\n\u001b[1;32m    726\u001b[0m             \u001b[0;31m# perform the appropriate substitution/relabeling\u001b[0m\u001b[0;34m\u001b[0m\u001b[0;34m\u001b[0m\u001b[0;34m\u001b[0m\u001b[0m\n\u001b[0;32m--> 727\u001b[0;31m             \u001b[0mspecializedExpr\u001b[0m\u001b[0;34m,\u001b[0m \u001b[0mrequirements\u001b[0m\u001b[0;34m,\u001b[0m \u001b[0mmappedVarLists\u001b[0m\u001b[0;34m,\u001b[0m \u001b[0mmappings\u001b[0m \u001b[0;34m=\u001b[0m \u001b[0mSpecialization\u001b[0m\u001b[0;34m.\u001b[0m\u001b[0m_specialized_expr\u001b[0m\u001b[0;34m(\u001b[0m\u001b[0mgeneralExpr\u001b[0m\u001b[0;34m,\u001b[0m \u001b[0mnumForallEliminations\u001b[0m\u001b[0;34m,\u001b[0m \u001b[0mspecializeMap\u001b[0m\u001b[0;34m,\u001b[0m \u001b[0mrelabelMap\u001b[0m\u001b[0;34m,\u001b[0m \u001b[0massumptions\u001b[0m\u001b[0;34m)\u001b[0m\u001b[0;34m\u001b[0m\u001b[0;34m\u001b[0m\u001b[0m\n\u001b[0m\u001b[1;32m    728\u001b[0m             \u001b[0;31m# obtain the KnownTruths for the substituted conditions\u001b[0m\u001b[0;34m\u001b[0m\u001b[0;34m\u001b[0m\u001b[0;34m\u001b[0m\u001b[0m\n",
      "\u001b[0;32m/home/jmadri/Prove-It/packages/proveit/_core_/proof.py\u001b[0m in \u001b[0;36m_specialized_expr\u001b[0;34m(generalExpr, numForallEliminations, specializeMap, relabelMap, assumptions)\u001b[0m\n\u001b[1;32m    873\u001b[0m \u001b[0;34m\u001b[0m\u001b[0m\n\u001b[0;32m--> 874\u001b[0;31m         \u001b[0msubbed_expr\u001b[0m \u001b[0;34m=\u001b[0m \u001b[0mexpr\u001b[0m\u001b[0;34m.\u001b[0m\u001b[0msubstituted\u001b[0m\u001b[0;34m(\u001b[0m\u001b[0mspecializeMap\u001b[0m\u001b[0;34m,\u001b[0m \u001b[0mrelabelMap\u001b[0m\u001b[0;34m,\u001b[0m \u001b[0massumptions\u001b[0m\u001b[0;34m=\u001b[0m\u001b[0massumptions\u001b[0m\u001b[0;34m,\u001b[0m \u001b[0mrequirements\u001b[0m\u001b[0;34m=\u001b[0m\u001b[0mrequirements\u001b[0m\u001b[0;34m)\u001b[0m\u001b[0;34m\u001b[0m\u001b[0;34m\u001b[0m\u001b[0m\n\u001b[0m\u001b[1;32m    875\u001b[0m \u001b[0;34m\u001b[0m\u001b[0m\n",
      "\u001b[0;32m/home/jmadri/Prove-It/packages/proveit/_core_/expression/operation/operation.py\u001b[0m in \u001b[0;36msubstituted\u001b[0;34m(self, exprMap, relabelMap, reservedVars, assumptions, requirements)\u001b[0m\n\u001b[1;32m    349\u001b[0m             \u001b[0;32mreturn\u001b[0m \u001b[0mexprMap\u001b[0m\u001b[0;34m[\u001b[0m\u001b[0mself\u001b[0m\u001b[0;34m]\u001b[0m\u001b[0;34m.\u001b[0m\u001b[0m_restrictionChecked\u001b[0m\u001b[0;34m(\u001b[0m\u001b[0mreservedVars\u001b[0m\u001b[0;34m)\u001b[0m\u001b[0;34m\u001b[0m\u001b[0;34m\u001b[0m\u001b[0m\n\u001b[0;32m--> 350\u001b[0;31m         \u001b[0msubbed_operand_or_operands\u001b[0m \u001b[0;34m=\u001b[0m \u001b[0mself\u001b[0m\u001b[0;34m.\u001b[0m\u001b[0moperand_or_operands\u001b[0m\u001b[0;34m.\u001b[0m\u001b[0msubstituted\u001b[0m\u001b[0;34m(\u001b[0m\u001b[0mexprMap\u001b[0m\u001b[0;34m,\u001b[0m \u001b[0mrelabelMap\u001b[0m\u001b[0;34m,\u001b[0m \u001b[0mreservedVars\u001b[0m\u001b[0;34m,\u001b[0m \u001b[0massumptions\u001b[0m\u001b[0;34m,\u001b[0m \u001b[0mrequirements\u001b[0m\u001b[0;34m)\u001b[0m\u001b[0;34m\u001b[0m\u001b[0;34m\u001b[0m\u001b[0m\n\u001b[0m\u001b[1;32m    351\u001b[0m         \u001b[0msubbed_operands\u001b[0m \u001b[0;34m=\u001b[0m \u001b[0mcompositeExpression\u001b[0m\u001b[0;34m(\u001b[0m\u001b[0msubbed_operand_or_operands\u001b[0m\u001b[0;34m)\u001b[0m\u001b[0;34m\u001b[0m\u001b[0;34m\u001b[0m\u001b[0m\n",
      "\u001b[0;32m/home/jmadri/Prove-It/packages/proveit/_core_/expression/composite/expr_list.py\u001b[0m in \u001b[0;36msubstituted\u001b[0;34m(self, exprMap, relabelMap, reservedVars, assumptions, requirements)\u001b[0m\n\u001b[1;32m    334\u001b[0m         \u001b[0;32mfor\u001b[0m \u001b[0mexpr\u001b[0m \u001b[0;32min\u001b[0m \u001b[0mself\u001b[0m\u001b[0;34m:\u001b[0m\u001b[0;34m\u001b[0m\u001b[0;34m\u001b[0m\u001b[0m\n\u001b[0;32m--> 335\u001b[0;31m             \u001b[0msubbed_expr\u001b[0m \u001b[0;34m=\u001b[0m \u001b[0mexpr\u001b[0m\u001b[0;34m.\u001b[0m\u001b[0msubstituted\u001b[0m\u001b[0;34m(\u001b[0m\u001b[0mexprMap\u001b[0m\u001b[0;34m,\u001b[0m \u001b[0mrelabelMap\u001b[0m\u001b[0;34m,\u001b[0m \u001b[0mreservedVars\u001b[0m\u001b[0;34m,\u001b[0m \u001b[0massumptions\u001b[0m\u001b[0;34m,\u001b[0m \u001b[0mrequirements\u001b[0m\u001b[0;34m)\u001b[0m\u001b[0;34m\u001b[0m\u001b[0;34m\u001b[0m\u001b[0m\n\u001b[0m\u001b[1;32m    336\u001b[0m             \u001b[0;32mif\u001b[0m \u001b[0misinstance\u001b[0m\u001b[0;34m(\u001b[0m\u001b[0mexpr\u001b[0m\u001b[0;34m,\u001b[0m \u001b[0mIter\u001b[0m\u001b[0;34m)\u001b[0m \u001b[0;32mand\u001b[0m \u001b[0misinstance\u001b[0m\u001b[0;34m(\u001b[0m\u001b[0msubbed_expr\u001b[0m\u001b[0;34m,\u001b[0m \u001b[0mExprList\u001b[0m\u001b[0;34m)\u001b[0m\u001b[0;34m:\u001b[0m\u001b[0;34m\u001b[0m\u001b[0;34m\u001b[0m\u001b[0m\n",
      "\u001b[0;32m/home/jmadri/Prove-It/packages/proveit/_core_/expression/operation/operation.py\u001b[0m in \u001b[0;36msubstituted\u001b[0;34m(self, exprMap, relabelMap, reservedVars, assumptions, requirements)\u001b[0m\n\u001b[1;32m    349\u001b[0m             \u001b[0;32mreturn\u001b[0m \u001b[0mexprMap\u001b[0m\u001b[0;34m[\u001b[0m\u001b[0mself\u001b[0m\u001b[0;34m]\u001b[0m\u001b[0;34m.\u001b[0m\u001b[0m_restrictionChecked\u001b[0m\u001b[0;34m(\u001b[0m\u001b[0mreservedVars\u001b[0m\u001b[0;34m)\u001b[0m\u001b[0;34m\u001b[0m\u001b[0;34m\u001b[0m\u001b[0m\n\u001b[0;32m--> 350\u001b[0;31m         \u001b[0msubbed_operand_or_operands\u001b[0m \u001b[0;34m=\u001b[0m \u001b[0mself\u001b[0m\u001b[0;34m.\u001b[0m\u001b[0moperand_or_operands\u001b[0m\u001b[0;34m.\u001b[0m\u001b[0msubstituted\u001b[0m\u001b[0;34m(\u001b[0m\u001b[0mexprMap\u001b[0m\u001b[0;34m,\u001b[0m \u001b[0mrelabelMap\u001b[0m\u001b[0;34m,\u001b[0m \u001b[0mreservedVars\u001b[0m\u001b[0;34m,\u001b[0m \u001b[0massumptions\u001b[0m\u001b[0;34m,\u001b[0m \u001b[0mrequirements\u001b[0m\u001b[0;34m)\u001b[0m\u001b[0;34m\u001b[0m\u001b[0;34m\u001b[0m\u001b[0m\n\u001b[0m\u001b[1;32m    351\u001b[0m         \u001b[0msubbed_operands\u001b[0m \u001b[0;34m=\u001b[0m \u001b[0mcompositeExpression\u001b[0m\u001b[0;34m(\u001b[0m\u001b[0msubbed_operand_or_operands\u001b[0m\u001b[0;34m)\u001b[0m\u001b[0;34m\u001b[0m\u001b[0;34m\u001b[0m\u001b[0m\n",
      "\u001b[0;32m/home/jmadri/Prove-It/packages/proveit/_core_/expression/composite/expr_list.py\u001b[0m in \u001b[0;36msubstituted\u001b[0;34m(self, exprMap, relabelMap, reservedVars, assumptions, requirements)\u001b[0m\n\u001b[1;32m    334\u001b[0m         \u001b[0;32mfor\u001b[0m \u001b[0mexpr\u001b[0m \u001b[0;32min\u001b[0m \u001b[0mself\u001b[0m\u001b[0;34m:\u001b[0m\u001b[0;34m\u001b[0m\u001b[0;34m\u001b[0m\u001b[0m\n\u001b[0;32m--> 335\u001b[0;31m             \u001b[0msubbed_expr\u001b[0m \u001b[0;34m=\u001b[0m \u001b[0mexpr\u001b[0m\u001b[0;34m.\u001b[0m\u001b[0msubstituted\u001b[0m\u001b[0;34m(\u001b[0m\u001b[0mexprMap\u001b[0m\u001b[0;34m,\u001b[0m \u001b[0mrelabelMap\u001b[0m\u001b[0;34m,\u001b[0m \u001b[0mreservedVars\u001b[0m\u001b[0;34m,\u001b[0m \u001b[0massumptions\u001b[0m\u001b[0;34m,\u001b[0m \u001b[0mrequirements\u001b[0m\u001b[0;34m)\u001b[0m\u001b[0;34m\u001b[0m\u001b[0;34m\u001b[0m\u001b[0m\n\u001b[0m\u001b[1;32m    336\u001b[0m             \u001b[0;32mif\u001b[0m \u001b[0misinstance\u001b[0m\u001b[0;34m(\u001b[0m\u001b[0mexpr\u001b[0m\u001b[0;34m,\u001b[0m \u001b[0mIter\u001b[0m\u001b[0;34m)\u001b[0m \u001b[0;32mand\u001b[0m \u001b[0misinstance\u001b[0m\u001b[0;34m(\u001b[0m\u001b[0msubbed_expr\u001b[0m\u001b[0;34m,\u001b[0m \u001b[0mExprList\u001b[0m\u001b[0;34m)\u001b[0m\u001b[0;34m:\u001b[0m\u001b[0;34m\u001b[0m\u001b[0;34m\u001b[0m\u001b[0m\n",
      "\u001b[0;32m/home/jmadri/Prove-It/packages/proveit/_core_/expression/composite/iteration.py\u001b[0m in \u001b[0;36msubstituted\u001b[0;34m(self, exprMap, relabelMap, reservedVars, assumptions, requirements)\u001b[0m\n\u001b[1;32m    280\u001b[0m \u001b[0;34m\u001b[0m\u001b[0m\n\u001b[0;32m--> 281\u001b[0;31m             \u001b[0;32mfor\u001b[0m \u001b[0miter_range\u001b[0m \u001b[0;32min\u001b[0m \u001b[0mself\u001b[0m\u001b[0;34m.\u001b[0m\u001b[0mlambda_map\u001b[0m\u001b[0;34m.\u001b[0m\u001b[0mbody\u001b[0m\u001b[0;34m.\u001b[0m\u001b[0m_expandingIterRanges\u001b[0m\u001b[0;34m(\u001b[0m\u001b[0miter_params\u001b[0m\u001b[0;34m,\u001b[0m \u001b[0msubbed_start\u001b[0m\u001b[0;34m,\u001b[0m \u001b[0msubbed_end\u001b[0m\u001b[0;34m,\u001b[0m \u001b[0minner_expr_map\u001b[0m\u001b[0;34m,\u001b[0m \u001b[0mrelabelMap\u001b[0m\u001b[0;34m,\u001b[0m \u001b[0minner_reservations\u001b[0m\u001b[0;34m,\u001b[0m \u001b[0minner_assumptions\u001b[0m\u001b[0;34m,\u001b[0m \u001b[0mnew_requirements\u001b[0m\u001b[0;34m)\u001b[0m\u001b[0;34m:\u001b[0m\u001b[0;34m\u001b[0m\u001b[0;34m\u001b[0m\u001b[0m\n\u001b[0m\u001b[1;32m    282\u001b[0m                 \u001b[0miter_ranges\u001b[0m\u001b[0;34m.\u001b[0m\u001b[0madd\u001b[0m\u001b[0;34m(\u001b[0m\u001b[0miter_range\u001b[0m\u001b[0;34m)\u001b[0m\u001b[0;34m\u001b[0m\u001b[0;34m\u001b[0m\u001b[0m\n",
      "\u001b[0;32m/home/jmadri/Prove-It/packages/proveit/_core_/expression/composite/indexed.py\u001b[0m in \u001b[0;36m_expandingIterRanges\u001b[0;34m(self, iterParams, startArgs, endArgs, exprMap, relabelMap, reservedVars, assumptions, requirements)\u001b[0m\n\u001b[1;32m    150\u001b[0m \u001b[0;34m\u001b[0m\u001b[0m\n\u001b[0;32m--> 151\u001b[0;31m             \u001b[0;32mfor\u001b[0m \u001b[0;34m(\u001b[0m\u001b[0mintersection_start\u001b[0m\u001b[0;34m,\u001b[0m \u001b[0mintersection_end\u001b[0m\u001b[0;34m)\u001b[0m \u001b[0;32min\u001b[0m \u001b[0mentryRangeGenerator\u001b[0m\u001b[0;34m:\u001b[0m\u001b[0;34m\u001b[0m\u001b[0;34m\u001b[0m\u001b[0m\n\u001b[0m\u001b[1;32m    152\u001b[0m                 \u001b[0;31m# We must put it terms of iter parameter values (arguments) via inverting the index_expr.\u001b[0m\u001b[0;34m\u001b[0m\u001b[0;34m\u001b[0m\u001b[0;34m\u001b[0m\u001b[0m\n",
      "\u001b[0;32m/home/jmadri/Prove-It/packages/proveit/_core_/expression/composite/expr_list.py\u001b[0m in \u001b[0;36mentryRanges\u001b[0;34m(self, base, start_index, end_index, assumptions, requirements)\u001b[0m\n\u001b[1;32m    320\u001b[0m         \u001b[0;32mif\u001b[0m \u001b[0;32mnot\u001b[0m \u001b[0marrived_at_end\u001b[0m\u001b[0;34m:\u001b[0m\u001b[0;34m\u001b[0m\u001b[0;34m\u001b[0m\u001b[0m\n\u001b[0;32m--> 321\u001b[0;31m             \u001b[0;32mraise\u001b[0m \u001b[0mIndexError\u001b[0m\u001b[0;34m(\u001b[0m\u001b[0;34m\"ExprList index out of range\"\u001b[0m\u001b[0;34m)\u001b[0m\u001b[0;34m\u001b[0m\u001b[0;34m\u001b[0m\u001b[0m\n\u001b[0m\u001b[1;32m    322\u001b[0m \u001b[0;34m\u001b[0m\u001b[0m\n",
      "\u001b[0;31mIndexError\u001b[0m: ExprList index out of range",
      "\nDuring handling of the above exception, another exception occurred:\n",
      "\u001b[0;31mException\u001b[0m                                 Traceback (most recent call last)",
      "\u001b[0;32m<ipython-input-4-38e80e7913df>\u001b[0m in \u001b[0;36m<module>\u001b[0;34m\u001b[0m\n\u001b[0;32m----> 1\u001b[0;31m \u001b[0mOr\u001b[0m\u001b[0;34m(\u001b[0m\u001b[0mA\u001b[0m\u001b[0;34m,\u001b[0m\u001b[0mB\u001b[0m\u001b[0;34m,\u001b[0m\u001b[0mC\u001b[0m\u001b[0;34m,\u001b[0m\u001b[0mD\u001b[0m\u001b[0;34m,\u001b[0m\u001b[0mE\u001b[0m\u001b[0;34m,\u001b[0m\u001b[0mF\u001b[0m\u001b[0;34m,\u001b[0m\u001b[0mG\u001b[0m\u001b[0;34m,\u001b[0m\u001b[0mH\u001b[0m\u001b[0;34m,\u001b[0m\u001b[0mI\u001b[0m\u001b[0;34m,\u001b[0m\u001b[0mJ\u001b[0m\u001b[0;34m,\u001b[0m\u001b[0mK\u001b[0m\u001b[0;34m,\u001b[0m\u001b[0mL\u001b[0m\u001b[0;34m)\u001b[0m\u001b[0;34m.\u001b[0m\u001b[0mderiveSwap\u001b[0m\u001b[0;34m(\u001b[0m\u001b[0;36m3\u001b[0m\u001b[0;34m,\u001b[0m\u001b[0;36m6\u001b[0m\u001b[0;34m,\u001b[0m\u001b[0;36m8\u001b[0m\u001b[0;34m,\u001b[0m\u001b[0;36m10\u001b[0m\u001b[0;34m,\u001b[0m \u001b[0;34m[\u001b[0m\u001b[0mOr\u001b[0m\u001b[0;34m(\u001b[0m\u001b[0mA\u001b[0m\u001b[0;34m,\u001b[0m\u001b[0mB\u001b[0m\u001b[0;34m,\u001b[0m\u001b[0mC\u001b[0m\u001b[0;34m,\u001b[0m\u001b[0mD\u001b[0m\u001b[0;34m,\u001b[0m\u001b[0mE\u001b[0m\u001b[0;34m,\u001b[0m\u001b[0mF\u001b[0m\u001b[0;34m,\u001b[0m\u001b[0mG\u001b[0m\u001b[0;34m,\u001b[0m\u001b[0mH\u001b[0m\u001b[0;34m,\u001b[0m\u001b[0mI\u001b[0m\u001b[0;34m,\u001b[0m\u001b[0mJ\u001b[0m\u001b[0;34m,\u001b[0m\u001b[0mK\u001b[0m\u001b[0;34m,\u001b[0m\u001b[0mL\u001b[0m\u001b[0;34m)\u001b[0m\u001b[0;34m,\u001b[0m\u001b[0mOr\u001b[0m\u001b[0;34m(\u001b[0m\u001b[0mA\u001b[0m\u001b[0;34m,\u001b[0m\u001b[0mB\u001b[0m\u001b[0;34m,\u001b[0m\u001b[0mC\u001b[0m\u001b[0;34m,\u001b[0m\u001b[0mI\u001b[0m\u001b[0;34m,\u001b[0m\u001b[0mJ\u001b[0m\u001b[0;34m,\u001b[0m\u001b[0mG\u001b[0m\u001b[0;34m,\u001b[0m\u001b[0mH\u001b[0m\u001b[0;34m,\u001b[0m\u001b[0mD\u001b[0m\u001b[0;34m,\u001b[0m\u001b[0mE\u001b[0m\u001b[0;34m,\u001b[0m\u001b[0mF\u001b[0m\u001b[0;34m,\u001b[0m\u001b[0mK\u001b[0m\u001b[0;34m,\u001b[0m\u001b[0mL\u001b[0m\u001b[0;34m)\u001b[0m\u001b[0;34m,\u001b[0m \u001b[0;34m*\u001b[0m\u001b[0minBool\u001b[0m\u001b[0;34m(\u001b[0m\u001b[0mA\u001b[0m\u001b[0;34m,\u001b[0m\u001b[0mB\u001b[0m\u001b[0;34m,\u001b[0m\u001b[0mC\u001b[0m\u001b[0;34m,\u001b[0m\u001b[0mD\u001b[0m\u001b[0;34m,\u001b[0m\u001b[0mE\u001b[0m\u001b[0;34m,\u001b[0m\u001b[0mF\u001b[0m\u001b[0;34m,\u001b[0m\u001b[0mG\u001b[0m\u001b[0;34m,\u001b[0m\u001b[0mH\u001b[0m\u001b[0;34m,\u001b[0m\u001b[0mI\u001b[0m\u001b[0;34m,\u001b[0m\u001b[0mJ\u001b[0m\u001b[0;34m,\u001b[0m\u001b[0mK\u001b[0m\u001b[0;34m,\u001b[0m\u001b[0mL\u001b[0m\u001b[0;34m)\u001b[0m\u001b[0;34m]\u001b[0m\u001b[0;34m)\u001b[0m\u001b[0;34m.\u001b[0m\u001b[0mproof\u001b[0m\u001b[0;34m(\u001b[0m\u001b[0;34m)\u001b[0m\u001b[0;34m\u001b[0m\u001b[0;34m\u001b[0m\u001b[0m\n\u001b[0m",
      "\u001b[0;32m/home/jmadri/Prove-It/packages/proveit/logic/boolean/disjunction/or_op.py\u001b[0m in \u001b[0;36mderiveSwap\u001b[0;34m(self, beg1, end1, beg2, end2, assumptions)\u001b[0m\n\u001b[1;32m    331\u001b[0m             \u001b[0;32mif\u001b[0m \u001b[0mbeg1\u001b[0m \u001b[0;34m+\u001b[0m \u001b[0;34m(\u001b[0m\u001b[0mend1\u001b[0m \u001b[0;34m-\u001b[0m \u001b[0mbeg1\u001b[0m\u001b[0;34m)\u001b[0m \u001b[0;34m+\u001b[0m \u001b[0;34m(\u001b[0m\u001b[0mbeg2\u001b[0m \u001b[0;34m-\u001b[0m \u001b[0mend1\u001b[0m\u001b[0;34m)\u001b[0m \u001b[0;34m+\u001b[0m \u001b[0;34m(\u001b[0m\u001b[0mend2\u001b[0m \u001b[0;34m-\u001b[0m \u001b[0mbeg2\u001b[0m\u001b[0;34m)\u001b[0m \u001b[0;34m+\u001b[0m \u001b[0mlen\u001b[0m\u001b[0;34m(\u001b[0m\u001b[0mself\u001b[0m\u001b[0;34m.\u001b[0m\u001b[0moperands\u001b[0m\u001b[0;34m)\u001b[0m\u001b[0;34m-\u001b[0m\u001b[0mend2\u001b[0m \u001b[0;34m!=\u001b[0m \u001b[0mlen\u001b[0m\u001b[0;34m(\u001b[0m\u001b[0mself\u001b[0m\u001b[0;34m.\u001b[0m\u001b[0moperands\u001b[0m\u001b[0;34m)\u001b[0m\u001b[0;34m:\u001b[0m\u001b[0;34m\u001b[0m\u001b[0;34m\u001b[0m\u001b[0m\n\u001b[1;32m    332\u001b[0m                 \u001b[0;32mraise\u001b[0m \u001b[0mIndexError\u001b[0m\u001b[0;34m(\u001b[0m\u001b[0;34m\"ExprList index out of range. The different 'chunks' between the beginnings and ends must add up to the length of the expression.\"\u001b[0m\u001b[0;34m)\u001b[0m\u001b[0;34m\u001b[0m\u001b[0;34m\u001b[0m\u001b[0m\n\u001b[0;32m--> 333\u001b[0;31m             \u001b[0;32mreturn\u001b[0m \u001b[0mswap\u001b[0m\u001b[0;34m.\u001b[0m\u001b[0mspecialize\u001b[0m\u001b[0;34m(\u001b[0m\u001b[0;34m{\u001b[0m\u001b[0mi\u001b[0m\u001b[0;34m:\u001b[0m \u001b[0mnum\u001b[0m\u001b[0;34m(\u001b[0m\u001b[0mbeg1\u001b[0m\u001b[0;34m)\u001b[0m\u001b[0;34m,\u001b[0m \u001b[0mj\u001b[0m\u001b[0;34m:\u001b[0m \u001b[0mnum\u001b[0m\u001b[0;34m(\u001b[0m\u001b[0mend1\u001b[0m \u001b[0;34m-\u001b[0m \u001b[0mbeg1\u001b[0m\u001b[0;34m)\u001b[0m\u001b[0;34m,\u001b[0m \u001b[0mk\u001b[0m\u001b[0;34m:\u001b[0m \u001b[0mnum\u001b[0m\u001b[0;34m(\u001b[0m\u001b[0mbeg2\u001b[0m \u001b[0;34m-\u001b[0m \u001b[0mend1\u001b[0m\u001b[0;34m)\u001b[0m\u001b[0;34m,\u001b[0m \u001b[0ml\u001b[0m\u001b[0;34m:\u001b[0m \u001b[0mnum\u001b[0m\u001b[0;34m(\u001b[0m\u001b[0mend2\u001b[0m \u001b[0;34m-\u001b[0m \u001b[0mbeg2\u001b[0m\u001b[0;34m)\u001b[0m\u001b[0;34m,\u001b[0m \u001b[0mm\u001b[0m\u001b[0;34m:\u001b[0m \u001b[0mnum\u001b[0m\u001b[0;34m(\u001b[0m\u001b[0mlen\u001b[0m\u001b[0;34m(\u001b[0m\u001b[0mself\u001b[0m\u001b[0;34m.\u001b[0m\u001b[0moperands\u001b[0m\u001b[0;34m)\u001b[0m \u001b[0;34m-\u001b[0m \u001b[0mend2\u001b[0m\u001b[0;34m)\u001b[0m\u001b[0;34m,\u001b[0m \u001b[0mAA\u001b[0m\u001b[0;34m:\u001b[0m \u001b[0mself\u001b[0m\u001b[0;34m.\u001b[0m\u001b[0moperands\u001b[0m\u001b[0;34m[\u001b[0m\u001b[0;34m:\u001b[0m\u001b[0mbeg1\u001b[0m\u001b[0;34m]\u001b[0m\u001b[0;34m,\u001b[0m \u001b[0mBB\u001b[0m\u001b[0;34m:\u001b[0m \u001b[0mself\u001b[0m\u001b[0;34m.\u001b[0m\u001b[0moperands\u001b[0m\u001b[0;34m[\u001b[0m\u001b[0mbeg1\u001b[0m\u001b[0;34m:\u001b[0m\u001b[0mend1\u001b[0m\u001b[0;34m]\u001b[0m\u001b[0;34m,\u001b[0m \u001b[0mCC\u001b[0m\u001b[0;34m:\u001b[0m \u001b[0mself\u001b[0m\u001b[0;34m.\u001b[0m\u001b[0moperands\u001b[0m\u001b[0;34m[\u001b[0m\u001b[0mend1\u001b[0m\u001b[0;34m:\u001b[0m\u001b[0mbeg2\u001b[0m\u001b[0;34m]\u001b[0m\u001b[0;34m,\u001b[0m \u001b[0mDD\u001b[0m\u001b[0;34m:\u001b[0m \u001b[0mself\u001b[0m\u001b[0;34m.\u001b[0m\u001b[0moperands\u001b[0m\u001b[0;34m[\u001b[0m\u001b[0mbeg2\u001b[0m\u001b[0;34m:\u001b[0m\u001b[0mend2\u001b[0m\u001b[0;34m]\u001b[0m\u001b[0;34m,\u001b[0m \u001b[0mEE\u001b[0m\u001b[0;34m:\u001b[0m \u001b[0mself\u001b[0m\u001b[0;34m.\u001b[0m\u001b[0moperands\u001b[0m\u001b[0;34m[\u001b[0m\u001b[0mend2\u001b[0m\u001b[0;34m:\u001b[0m\u001b[0;34m]\u001b[0m\u001b[0;34m}\u001b[0m\u001b[0;34m,\u001b[0m \u001b[0massumptions\u001b[0m\u001b[0;34m=\u001b[0m\u001b[0massumptions\u001b[0m\u001b[0;34m)\u001b[0m\u001b[0;34m\u001b[0m\u001b[0;34m\u001b[0m\u001b[0m\n\u001b[0m\u001b[1;32m    334\u001b[0m         \u001b[0;32melse\u001b[0m\u001b[0;34m:\u001b[0m\u001b[0;34m\u001b[0m\u001b[0;34m\u001b[0m\u001b[0m\n\u001b[1;32m    335\u001b[0m             \u001b[0;32mraise\u001b[0m \u001b[0mIndexError\u001b[0m\u001b[0;34m(\u001b[0m\u001b[0;34m\"Beginnings and ends must be of the type: a<b<c<d.\"\u001b[0m\u001b[0;34m)\u001b[0m\u001b[0;34m\u001b[0m\u001b[0;34m\u001b[0m\u001b[0m\n",
      "\u001b[0;32m/home/jmadri/Prove-It/packages/proveit/_core_/known_truth.py\u001b[0m in \u001b[0;36mspecialize\u001b[0;34m(self, specializeMap, relabelMap, assumptions)\u001b[0m\n\u001b[1;32m    713\u001b[0m \u001b[0;34m\u001b[0m\u001b[0m\n\u001b[1;32m    714\u001b[0m         \u001b[0;31m# Include the KnownTruth assumptions along with any provided assumptions\u001b[0m\u001b[0;34m\u001b[0m\u001b[0;34m\u001b[0m\u001b[0;34m\u001b[0m\u001b[0m\n\u001b[0;32m--> 715\u001b[0;31m         \u001b[0massumptions\u001b[0m \u001b[0;34m=\u001b[0m \u001b[0mdefaults\u001b[0m\u001b[0;34m.\u001b[0m\u001b[0mcheckedAssumptions\u001b[0m\u001b[0;34m(\u001b[0m\u001b[0massumptions\u001b[0m\u001b[0;34m)\u001b[0m\u001b[0;34m\u001b[0m\u001b[0;34m\u001b[0m\u001b[0m\n\u001b[0m\u001b[1;32m    716\u001b[0m         \u001b[0massumptions\u001b[0m \u001b[0;34m+=\u001b[0m \u001b[0mself\u001b[0m\u001b[0;34m.\u001b[0m\u001b[0massumptions\u001b[0m\u001b[0;34m\u001b[0m\u001b[0;34m\u001b[0m\u001b[0m\n\u001b[1;32m    717\u001b[0m \u001b[0;34m\u001b[0m\u001b[0m\n",
      "\u001b[0;32m/home/jmadri/Prove-It/packages/proveit/_core_/defaults.py\u001b[0m in \u001b[0;36mcheckedAssumptions\u001b[0;34m(self, assumptions)\u001b[0m\n\u001b[1;32m     30\u001b[0m                 \u001b[0mDefaults\u001b[0m\u001b[0;34m.\u001b[0m\u001b[0mprovingAssumptions\u001b[0m\u001b[0;34m.\u001b[0m\u001b[0madd\u001b[0m\u001b[0;34m(\u001b[0m\u001b[0massumption\u001b[0m\u001b[0;34m)\u001b[0m\u001b[0;34m\u001b[0m\u001b[0;34m\u001b[0m\u001b[0m\n\u001b[1;32m     31\u001b[0m                 \u001b[0;31m# Note that while we only need THE assumption to prove itself,\u001b[0m\u001b[0;34m\u001b[0m\u001b[0;34m\u001b[0m\u001b[0;34m\u001b[0m\u001b[0m\n\u001b[0;32m---> 32\u001b[0;31m                 \u001b[0mAssumption\u001b[0m\u001b[0;34m.\u001b[0m\u001b[0mmakeAssumption\u001b[0m\u001b[0;34m(\u001b[0m\u001b[0massumption\u001b[0m\u001b[0;34m,\u001b[0m \u001b[0massumptions\u001b[0m\u001b[0;34m)\u001b[0m \u001b[0;31m# having the other assumptions around can be useful for deriving side-effects.\u001b[0m\u001b[0;34m\u001b[0m\u001b[0;34m\u001b[0m\u001b[0m\n\u001b[0m\u001b[1;32m     33\u001b[0m                 \u001b[0mDefaults\u001b[0m\u001b[0;34m.\u001b[0m\u001b[0mprovingAssumptions\u001b[0m\u001b[0;34m.\u001b[0m\u001b[0mremove\u001b[0m\u001b[0;34m(\u001b[0m\u001b[0massumption\u001b[0m\u001b[0;34m)\u001b[0m\u001b[0;34m\u001b[0m\u001b[0;34m\u001b[0m\u001b[0m\n\u001b[1;32m     34\u001b[0m         \u001b[0;32mreturn\u001b[0m \u001b[0massumptions\u001b[0m\u001b[0;34m\u001b[0m\u001b[0;34m\u001b[0m\u001b[0m\n",
      "\u001b[0;32m/home/jmadri/Prove-It/packages/proveit/_core_/proof.py\u001b[0m in \u001b[0;36mmakeAssumption\u001b[0;34m(expr, assumptions)\u001b[0m\n\u001b[1;32m    355\u001b[0m                 \u001b[0mpreexisting\u001b[0m\u001b[0;34m.\u001b[0m\u001b[0mprovenTruth\u001b[0m\u001b[0;34m.\u001b[0m\u001b[0mderiveSideEffects\u001b[0m\u001b[0;34m(\u001b[0m\u001b[0;34m)\u001b[0m\u001b[0;34m\u001b[0m\u001b[0;34m\u001b[0m\u001b[0m\n\u001b[1;32m    356\u001b[0m             \u001b[0;32mreturn\u001b[0m \u001b[0mpreexisting\u001b[0m\u001b[0;34m\u001b[0m\u001b[0;34m\u001b[0m\u001b[0m\n\u001b[0;32m--> 357\u001b[0;31m         \u001b[0;32mreturn\u001b[0m \u001b[0mAssumption\u001b[0m\u001b[0;34m(\u001b[0m\u001b[0mexpr\u001b[0m\u001b[0;34m,\u001b[0m \u001b[0massumptions\u001b[0m\u001b[0;34m)\u001b[0m\u001b[0;34m\u001b[0m\u001b[0;34m\u001b[0m\u001b[0m\n\u001b[0m\u001b[1;32m    358\u001b[0m \u001b[0;34m\u001b[0m\u001b[0m\n\u001b[1;32m    359\u001b[0m     \u001b[0;32mdef\u001b[0m \u001b[0mstepType\u001b[0m\u001b[0;34m(\u001b[0m\u001b[0mself\u001b[0m\u001b[0;34m)\u001b[0m\u001b[0;34m:\u001b[0m\u001b[0;34m\u001b[0m\u001b[0;34m\u001b[0m\u001b[0m\n",
      "\u001b[0;32m/home/jmadri/Prove-It/packages/proveit/_core_/proof.py\u001b[0m in \u001b[0;36m__init__\u001b[0;34m(self, expr, assumptions)\u001b[0m\n\u001b[1;32m    332\u001b[0m         \u001b[0mdefaults\u001b[0m\u001b[0;34m.\u001b[0m\u001b[0massumptions\u001b[0m \u001b[0;34m=\u001b[0m \u001b[0massumptions\u001b[0m \u001b[0;31m# these assumptions will be used for deriving any side-effects\u001b[0m\u001b[0;34m\u001b[0m\u001b[0;34m\u001b[0m\u001b[0m\n\u001b[1;32m    333\u001b[0m         \u001b[0;32mtry\u001b[0m\u001b[0;34m:\u001b[0m\u001b[0;34m\u001b[0m\u001b[0;34m\u001b[0m\u001b[0m\n\u001b[0;32m--> 334\u001b[0;31m             \u001b[0mProof\u001b[0m\u001b[0;34m.\u001b[0m\u001b[0m__init__\u001b[0m\u001b[0;34m(\u001b[0m\u001b[0mself\u001b[0m\u001b[0;34m,\u001b[0m \u001b[0mKnownTruth\u001b[0m\u001b[0;34m(\u001b[0m\u001b[0mexpr\u001b[0m\u001b[0;34m,\u001b[0m \u001b[0;34m{\u001b[0m\u001b[0mexpr\u001b[0m\u001b[0;34m}\u001b[0m\u001b[0;34m)\u001b[0m\u001b[0;34m,\u001b[0m \u001b[0;34m[\u001b[0m\u001b[0;34m]\u001b[0m\u001b[0;34m)\u001b[0m\u001b[0;34m\u001b[0m\u001b[0;34m\u001b[0m\u001b[0m\n\u001b[0m\u001b[1;32m    335\u001b[0m         \u001b[0;32mfinally\u001b[0m\u001b[0;34m:\u001b[0m\u001b[0;34m\u001b[0m\u001b[0;34m\u001b[0m\u001b[0m\n\u001b[1;32m    336\u001b[0m             \u001b[0;31m# restore the original default assumptions\u001b[0m\u001b[0;34m\u001b[0m\u001b[0;34m\u001b[0m\u001b[0;34m\u001b[0m\u001b[0m\n",
      "\u001b[0;32m/home/jmadri/Prove-It/packages/proveit/_core_/proof.py\u001b[0m in \u001b[0;36m__init__\u001b[0;34m(self, provenTruth, requiredTruths)\u001b[0m\n\u001b[1;32m    124\u001b[0m             \u001b[0;32mif\u001b[0m \u001b[0;34m(\u001b[0m\u001b[0mprovenTruth\u001b[0m\u001b[0;34m,\u001b[0m \u001b[0mdefaults\u001b[0m\u001b[0;34m.\u001b[0m\u001b[0massumptions\u001b[0m\u001b[0;34m)\u001b[0m \u001b[0;32mnot\u001b[0m \u001b[0;32min\u001b[0m \u001b[0mKnownTruth\u001b[0m\u001b[0;34m.\u001b[0m\u001b[0msideeffect_processed\u001b[0m\u001b[0;34m:\u001b[0m\u001b[0;34m\u001b[0m\u001b[0;34m\u001b[0m\u001b[0m\n\u001b[1;32m    125\u001b[0m                 \u001b[0;31m# may derive any side-effects that are obvious consequences arising from this truth:\u001b[0m\u001b[0;34m\u001b[0m\u001b[0;34m\u001b[0m\u001b[0;34m\u001b[0m\u001b[0m\n\u001b[0;32m--> 126\u001b[0;31m                 \u001b[0mprovenTruth\u001b[0m\u001b[0;34m.\u001b[0m\u001b[0mderiveSideEffects\u001b[0m\u001b[0;34m(\u001b[0m\u001b[0;34m)\u001b[0m\u001b[0;34m\u001b[0m\u001b[0;34m\u001b[0m\u001b[0m\n\u001b[0m\u001b[1;32m    127\u001b[0m \u001b[0;34m\u001b[0m\u001b[0m\n\u001b[1;32m    128\u001b[0m     \u001b[0;32mdef\u001b[0m \u001b[0m_updateDependencies\u001b[0m\u001b[0;34m(\u001b[0m\u001b[0mself\u001b[0m\u001b[0;34m,\u001b[0m \u001b[0mnewproof\u001b[0m\u001b[0;34m)\u001b[0m\u001b[0;34m:\u001b[0m\u001b[0;34m\u001b[0m\u001b[0;34m\u001b[0m\u001b[0m\n",
      "\u001b[0;32m/home/jmadri/Prove-It/packages/proveit/_core_/known_truth.py\u001b[0m in \u001b[0;36mderiveSideEffects\u001b[0;34m(self)\u001b[0m\n\u001b[1;32m    189\u001b[0m                         \u001b[0;32mpass\u001b[0m\u001b[0;34m\u001b[0m\u001b[0;34m\u001b[0m\u001b[0m\n\u001b[1;32m    190\u001b[0m                     \u001b[0;32mexcept\u001b[0m \u001b[0mException\u001b[0m \u001b[0;32mas\u001b[0m \u001b[0me\u001b[0m\u001b[0;34m:\u001b[0m\u001b[0;34m\u001b[0m\u001b[0;34m\u001b[0m\u001b[0m\n\u001b[0;32m--> 191\u001b[0;31m                         \u001b[0;32mraise\u001b[0m \u001b[0mException\u001b[0m\u001b[0;34m(\u001b[0m\u001b[0;34m\"Side effect failure for %s: \"\u001b[0m\u001b[0;34m%\u001b[0m\u001b[0mstr\u001b[0m\u001b[0;34m(\u001b[0m\u001b[0mself\u001b[0m\u001b[0;34m.\u001b[0m\u001b[0mexpr\u001b[0m\u001b[0;34m)\u001b[0m \u001b[0;34m+\u001b[0m \u001b[0mstr\u001b[0m\u001b[0;34m(\u001b[0m\u001b[0me\u001b[0m\u001b[0;34m)\u001b[0m\u001b[0;34m)\u001b[0m\u001b[0;34m\u001b[0m\u001b[0;34m\u001b[0m\u001b[0m\n\u001b[0m\u001b[1;32m    192\u001b[0m             \u001b[0;32mfinally\u001b[0m\u001b[0;34m:\u001b[0m\u001b[0;34m\u001b[0m\u001b[0;34m\u001b[0m\u001b[0m\n\u001b[1;32m    193\u001b[0m                 \u001b[0mKnownTruth\u001b[0m\u001b[0;34m.\u001b[0m\u001b[0min_progress_to_derive_sideeffects\u001b[0m\u001b[0;34m.\u001b[0m\u001b[0mremove\u001b[0m\u001b[0;34m(\u001b[0m\u001b[0mself\u001b[0m\u001b[0;34m)\u001b[0m\u001b[0;34m\u001b[0m\u001b[0;34m\u001b[0m\u001b[0m\n",
      "\u001b[0;31mException\u001b[0m: Side effect failure for A or B or C or I or J or G or H or D or E or F or K or L: ExprList index out of range"
     ]
    }
   ],
   "source": [
    "Or(A,B,C,D,E,F,G,H,I,J,K,L).deriveSwap(3,6,8,10, [Or(A,B,C,D,E,F,G,H,I,J,K,L),Or(A,B,C,I,J,G,H,D,E,F,K,L), *inBool(A,B,C,D,E,F,G,H,I,J,K,L)]).proof()"
   ]
  },
  {
   "cell_type": "markdown",
   "metadata": {},
   "source": [
    "***GroupSwap***"
   ]
  },
  {
   "cell_type": "markdown",
   "metadata": {},
   "source": [
    "trueEval"
   ]
  },
  {
   "cell_type": "code",
   "execution_count": null,
   "metadata": {},
   "outputs": [],
   "source": [
    "Or(FALSE,FALSE,TRUE,FALSE,FALSE).evaluation().proof()"
   ]
  },
  {
   "cell_type": "code",
   "execution_count": null,
   "metadata": {},
   "outputs": [],
   "source": [
    "Or(A,B,TRUE,C,D).evaluation([inBool(A), inBool(B), inBool(C), inBool(D)]).proof()"
   ]
  },
  {
   "cell_type": "markdown",
   "metadata": {},
   "source": [
    "falseEval"
   ]
  },
  {
   "cell_type": "code",
   "execution_count": null,
   "metadata": {},
   "outputs": [],
   "source": [
    "Equals(Or(A,B,C,D),FALSE).prove([Equals(A,FALSE), Equals(B,FALSE),Equals(C,FALSE),Equals(D,FALSE)]).proof()"
   ]
  },
  {
   "cell_type": "code",
   "execution_count": null,
   "metadata": {},
   "outputs": [],
   "source": [
    "inBool(Or(A,B)).prove([inBool(A), inBool(B)]).proof()"
   ]
  },
  {
   "cell_type": "code",
   "execution_count": null,
   "metadata": {},
   "outputs": [],
   "source": [
    "inBool(Or(A,B,C,D)).prove([inBool(A), inBool(B), inBool(C), inBool(D)]).proof()"
   ]
  },
  {
   "cell_type": "code",
   "execution_count": null,
   "metadata": {},
   "outputs": [],
   "source": [
    "%end demonstrations"
   ]
  }
 ],
 "metadata": {
  "kernelspec": {
   "display_name": "Python 3",
   "language": "python",
   "name": "python3"
  },
  "language_info": {
   "codemirror_mode": {
    "name": "ipython",
    "version": 3
   },
   "file_extension": ".py",
   "mimetype": "text/x-python",
   "name": "python",
   "nbconvert_exporter": "python",
   "pygments_lexer": "ipython3",
   "version": "3.7.3"
  }
 },
 "nbformat": 4,
 "nbformat_minor": 1
}
