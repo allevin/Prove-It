{
 "cells": [
  {
   "cell_type": "markdown",
   "metadata": {},
   "source": [
    "Demonstrations for context <a class=\"ProveItLink\" href=\"_context_.ipynb\">proveit.logic.boolean.disjunction</a>\n",
    "========"
   ]
  },
  {
   "cell_type": "code",
   "execution_count": null,
   "metadata": {},
   "outputs": [],
   "source": [
    "import proveit\n",
    "from proveit._common_ import A, B, C, D, E,F,G,H,I,J,K,L,AA, m\n",
    "from proveit.number import num, Naturals\n",
    "from proveit.logic import Booleans, inBool, InSet, Or, And, TRUE, FALSE, Not, Implies, Equals\n",
    "from proveit.logic.boolean.disjunction._theorems_ import closure, eachInBool\n",
    "%begin demonstrations"
   ]
  },
  {
   "cell_type": "code",
   "execution_count": null,
   "metadata": {},
   "outputs": [],
   "source": [
    "closure"
   ]
  },
  {
   "cell_type": "code",
   "execution_count": null,
   "metadata": {},
   "outputs": [],
   "source": [
    "closure"
   ]
  },
  {
   "cell_type": "code",
   "execution_count": null,
   "metadata": {},
   "outputs": [],
   "source": [
    "closure_spec = closure.specialize({m:m}, assumptions=[InSet(m, Naturals)])"
   ]
  },
  {
   "cell_type": "code",
   "execution_count": null,
   "metadata": {},
   "outputs": [],
   "source": [
    "closure.specialize({m:num(4)}, relabelMap={AA:C}, assumptions=[C])"
   ]
  },
  {
   "cell_type": "code",
   "execution_count": null,
   "metadata": {},
   "outputs": [],
   "source": [
    "# demo1 = closure.specialize({m:num(4), AA:[A, B, C, D]}, assumptions = [inBool(A), inBool(B), inBool(C), inBool(D)])"
   ]
  },
  {
   "cell_type": "code",
   "execution_count": null,
   "metadata": {},
   "outputs": [],
   "source": [
    "# demo1.proof()"
   ]
  },
  {
   "cell_type": "code",
   "execution_count": null,
   "metadata": {},
   "outputs": [],
   "source": [
    "# demo1.element.deducePartInBool(1, assumptions=[demo1.expr, inBool(Or(A,B,C))])"
   ]
  },
  {
   "cell_type": "code",
   "execution_count": null,
   "metadata": {},
   "outputs": [],
   "source": [
    "eachInBool"
   ]
  },
  {
   "cell_type": "code",
   "execution_count": null,
   "metadata": {},
   "outputs": [],
   "source": [
    "Or(TRUE,TRUE).prove().proof()"
   ]
  },
  {
   "cell_type": "code",
   "execution_count": null,
   "metadata": {},
   "outputs": [],
   "source": [
    "Or(TRUE,FALSE).prove().proof()"
   ]
  },
  {
   "cell_type": "code",
   "execution_count": null,
   "metadata": {},
   "outputs": [],
   "source": [
    "Or(FALSE,TRUE).prove().proof()"
   ]
  },
  {
   "cell_type": "code",
   "execution_count": null,
   "metadata": {},
   "outputs": [],
   "source": [
    "Not(Or(FALSE,FALSE)).prove().proof()"
   ]
  },
  {
   "cell_type": "code",
   "execution_count": null,
   "metadata": {},
   "outputs": [],
   "source": [
    "Or(A,B).prove([A,B]).proof()"
   ]
  },
  {
   "cell_type": "code",
   "execution_count": null,
   "metadata": {},
   "outputs": [],
   "source": [
    "Or(A,B).prove([A,Not(B)]).proof()"
   ]
  },
  {
   "cell_type": "code",
   "execution_count": null,
   "metadata": {},
   "outputs": [],
   "source": [
    "Or(A,B).prove([B,Not(A)]).proof()"
   ]
  },
  {
   "cell_type": "code",
   "execution_count": null,
   "metadata": {},
   "outputs": [],
   "source": [
    "Not(Or(A,B)).prove([Not(A), Not(B)]).proof()"
   ]
  },
  {
   "cell_type": "code",
   "execution_count": null,
   "metadata": {},
   "outputs": [],
   "source": [
    "Or(A,B).deriveContradiction([Not(A),Not(B), Or(A,B)]).proof()"
   ]
  },
  {
   "cell_type": "code",
   "execution_count": null,
   "metadata": {},
   "outputs": [],
   "source": [
    "Or(A,B).deriveLeftIfNotRight([inBool(A), inBool(B), Not(B), Or(A,B)]).proof()"
   ]
  },
  {
   "cell_type": "code",
   "execution_count": null,
   "metadata": {},
   "outputs": [],
   "source": [
    "Or(A,B).deriveRightIfNotLeft([*inBool(A,B), Not(A), Or(A,B)]).proof()"
   ]
  },
  {
   "cell_type": "code",
   "execution_count": null,
   "metadata": {},
   "outputs": [],
   "source": [
    "Or(A,B).deriveViaDilemma(C,assumptions=[Or(A,B),inBool(B),Implies(A,C), Implies(B,C), inBool(A), Implies(A,Or(C,D)), Implies(B, Or(C,D))]).proof()"
   ]
  },
  {
   "cell_type": "code",
   "execution_count": null,
   "metadata": {},
   "outputs": [],
   "source": [
    "# Or(A,B,C,D).deriveViaDilemma(E,[Or(A,B,C,D),Implies(A,E), Implies(B,E), Implies(C,E), Implies(D,E), inBool(A) ,inBool(B),inBool(C),inBool(D)]).proof()"
   ]
  },
  {
   "cell_type": "code",
   "execution_count": null,
   "metadata": {},
   "outputs": [],
   "source": [
    "Or(A,B).prove([inBool(B), A, inBool(A)]).proof()"
   ]
  },
  {
   "cell_type": "code",
   "execution_count": null,
   "metadata": {},
   "outputs": [],
   "source": [
    "Or(A,B).prove([inBool(A), inBool(B), B]).proof()"
   ]
  },
  {
   "cell_type": "code",
   "execution_count": null,
   "metadata": {},
   "outputs": [],
   "source": [
    "Or(C,D).deriveViaDilemma(Or(C,D),[Or(A,B), Or(C,D),Implies(A,C), Implies(A,C),Implies(B,D), inBool(A), inBool(B), inBool(C), inBool(D)]).proof()"
   ]
  },
  {
   "cell_type": "code",
   "execution_count": null,
   "metadata": {},
   "outputs": [],
   "source": [
    "# Or(A,B,C,D).deriveViaMultiDilemma(Or(H,I,J,K),[Or(A,B,C,D), Implies(A,H), Implies(B,I), Implies(C,J), Implies(D,K),inBool(A), inBool(B), inBool(C), inBool(D), inBool(H), inBool(I), inBool(J), inBool(K)]).proof()"
   ]
  },
  {
   "cell_type": "code",
   "execution_count": null,
   "metadata": {},
   "outputs": [],
   "source": [
    "# Or(A,B,C,D).deriveViaDilemma(Or(H,I,J,K),[Or(A,B,C,D), Implies(A,H), Implies(B,I), Implies(C,J), Implies(D,K),inBool(A), inBool(B), inBool(C), inBool(D), inBool(H), inBool(I), inBool(J), inBool(K)]).proof()"
   ]
  },
  {
   "cell_type": "code",
   "execution_count": null,
   "metadata": {},
   "outputs": [],
   "source": [
    "# Or(H, I, J, K).deducePartInBool(2, inBool(H,I,J,K)).proof()"
   ]
  },
  {
   "cell_type": "markdown",
   "metadata": {},
   "source": [
    "destructiveDilemma"
   ]
  },
  {
   "cell_type": "code",
   "execution_count": null,
   "metadata": {},
   "outputs": [],
   "source": [
    "Or(Not(C),Not(D)).deriveViaDilemma(Or(Not(A),Not(B)),[Or(Not(C),Not(D)), Implies(A,C), Implies(B,D),inBool(A),inBool(B),inBool(C),inBool(D)]).proof()"
   ]
  },
  {
   "cell_type": "code",
   "execution_count": null,
   "metadata": {},
   "outputs": [],
   "source": [
    "# Or(Not(A), Not(B), Not(C), Not(D)).deriveViaDilemma(Or(Not(H), Not(I), Not(J), Not(K)),[Or(Not(A), Not(B), Not(C), Not(D)),Implies(A,H), Implies(B,I), Implies(C,J), Implies(D,K),inBool(A), inBool(B), inBool(C), inBool(D), inBool(H), inBool(I), inBool(J), inBool(K)]).proof()"
   ]
  },
  {
   "cell_type": "code",
   "execution_count": null,
   "metadata": {},
   "outputs": [],
   "source": [
    "Not(A).prove([Not(Or(A,B))]).proof()"
   ]
  },
  {
   "cell_type": "code",
   "execution_count": null,
   "metadata": {},
   "outputs": [],
   "source": [
    "Not(B).prove([Not(Or(A,B))]).proof()"
   ]
  },
  {
   "cell_type": "code",
   "execution_count": null,
   "metadata": {},
   "outputs": [],
   "source": [
    "Or(A).deduceUnaryEquiv([inBool(A)]).proof()"
   ]
  },
  {
   "cell_type": "code",
   "execution_count": null,
   "metadata": {},
   "outputs": [],
   "source": [
    "# inBool(B).prove([inBool(Or(A,B,C))]).proof()"
   ]
  },
  {
   "cell_type": "code",
   "execution_count": null,
   "metadata": {},
   "outputs": [],
   "source": [
    "Or(A,B,C).prove([A,inBool(A),inBool(B),inBool(C)]).proof()"
   ]
  },
  {
   "cell_type": "code",
   "execution_count": null,
   "metadata": {},
   "outputs": [],
   "source": [
    "Not(Or(A,B,C)).prove([Not(A), Not(B), Not(C)]).proof()"
   ]
  },
  {
   "cell_type": "code",
   "execution_count": null,
   "metadata": {},
   "outputs": [],
   "source": [
    "Or(A,B,C).deriveContradiction([Or(A,B,C), Not(A), Not(B), Not(C)]).proof()"
   ]
  },
  {
   "cell_type": "code",
   "execution_count": null,
   "metadata": {},
   "outputs": [],
   "source": [
    "Or(A,B,C,D,E,F,G).deriveGroup(2,4,[Or(A,B,Or(C,D),E,F,G),Or(A,B,C,D,E,F,G),inBool(A), inBool(B),inBool(C),inBool(D),inBool(E),inBool(F),inBool(G)]).proof()"
   ]
  },
  {
   "cell_type": "code",
   "execution_count": null,
   "metadata": {},
   "outputs": [],
   "source": [
    "Or(A,B,C,D,E).deriveSwap(1,3, [Or(A,B,C,D,E), *inBool(A,B,C,D,E)]).proof()"
   ]
  },
  {
   "cell_type": "code",
   "execution_count": null,
   "metadata": {},
   "outputs": [],
   "source": [
    "Or(A,B,C,D,E,F,G,H,I).deriveSwap(3,5, [Or(A,B,C,D,E,F,G,H,I), *inBool(A,B,C,D,E,F,G,H,I)]).proof()"
   ]
  },
  {
   "cell_type": "code",
   "execution_count": null,
   "metadata": {},
   "outputs": [],
   "source": [
    "Or(A,B,C,D,E,F,G,H).deriveInBool(inBool(A,B,C,D,E,F,G,H)).proof()"
   ]
  },
  {
   "cell_type": "markdown",
   "metadata": {},
   "source": [
    "***GroupSwap***"
   ]
  },
  {
   "cell_type": "markdown",
   "metadata": {},
   "source": [
    "trueEval"
   ]
  },
  {
   "cell_type": "code",
   "execution_count": null,
   "metadata": {},
   "outputs": [],
   "source": [
    "Or(FALSE,FALSE,TRUE,FALSE,FALSE).evaluation().proof()"
   ]
  },
  {
   "cell_type": "code",
   "execution_count": null,
   "metadata": {},
   "outputs": [],
   "source": [
    "Or(A,B,TRUE,C,D).evaluation([inBool(A), inBool(B), inBool(C), inBool(D)]).proof()"
   ]
  },
  {
   "cell_type": "markdown",
   "metadata": {},
   "source": [
    "falseEval"
   ]
  },
  {
   "cell_type": "code",
   "execution_count": null,
   "metadata": {},
   "outputs": [],
   "source": [
    "Equals(Or(A,B,C,D),FALSE).prove([Equals(A,FALSE), Equals(B,FALSE),Equals(C,FALSE),Equals(D,FALSE)]).proof()"
   ]
  },
  {
   "cell_type": "code",
   "execution_count": null,
   "metadata": {},
   "outputs": [],
   "source": [
    "inBool(Or(A,B)).prove([inBool(A), inBool(B)]).proof()"
   ]
  },
  {
   "cell_type": "code",
   "execution_count": null,
   "metadata": {},
   "outputs": [],
   "source": [
    "inBool(Or(A,B,C,D)).prove([inBool(A), inBool(B), inBool(C), inBool(D)]).proof()"
   ]
  },
  {
   "cell_type": "code",
   "execution_count": null,
   "metadata": {},
   "outputs": [],
   "source": [
    "Or(A,B).deduceDemorgansEquiv([Not(And(Not(A), Not(B)))]).proof()"
   ]
  },
  {
   "cell_type": "code",
   "execution_count": null,
   "metadata": {},
   "outputs": [],
   "source": [
    "Or(A, B, C).deduceDemorgansEquiv([Not(And(Not(A),Not(B),Not(C)))]).proof()"
   ]
  },
  {
   "cell_type": "code",
   "execution_count": null,
   "metadata": {},
   "outputs": [],
   "source": [
    "%end demonstrations"
   ]
  },
  {
   "cell_type": "code",
   "execution_count": null,
   "metadata": {},
   "outputs": [],
   "source": []
  }
 ],
 "metadata": {
  "kernelspec": {
   "display_name": "Python 3",
   "language": "python",
   "name": "python3"
  }
 },
 "nbformat": 4,
 "nbformat_minor": 0
}
