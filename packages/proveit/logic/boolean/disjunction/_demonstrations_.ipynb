{
 "cells": [
  {
   "cell_type": "markdown",
   "metadata": {
    "collapsed": true
   },
   "source": [
    "Demonstrations for context <a class=\"ProveItLink\" href=\"_context_.ipynb\">proveit.logic.boolean.disjunction</a>\n",
    "========"
   ]
  },
  {
   "cell_type": "code",
   "execution_count": 1,
   "metadata": {},
   "outputs": [],
   "source": [
    "import proveit\n",
    "from proveit._common_ import A, B, C, D, AA, m\n",
    "from proveit.number import num, Naturals\n",
    "from proveit.logic import Booleans, inBool, InSet\n",
    "from proveit.logic.boolean.disjunction._theorems_ import closure, eachInBool\n",
    "%begin demonstrations"
   ]
  },
  {
   "cell_type": "code",
   "execution_count": 2,
   "metadata": {},
   "outputs": [
    {
     "data": {
      "text/html": [
       "<span style=\"font-size:20px;\"> &#x22A2;&nbsp;<a class=\"ProveItLink\" href=\"__pv_it/2cb505713778067a1b94f558521c476c9ef7d74f0/expr.ipynb\"><img src=\"__pv_it/2cb505713778067a1b94f558521c476c9ef7d74f0/expr.png\" style=\"display:inline;vertical-align:middle;\" /></a></span>"
      ],
      "text/plain": [
       "|= forall_{m in Naturals} [forall_{A in BOOLEANS^{m}} ((A_(1) or  ...  or A_(m)) in BOOLEANS)]"
      ]
     },
     "execution_count": 2,
     "metadata": {},
     "output_type": "execute_result"
    }
   ],
   "source": [
    "closure"
   ]
  },
  {
   "cell_type": "code",
   "execution_count": 3,
   "metadata": {},
   "outputs": [
    {
     "data": {
      "text/html": [
       "<strong id=\"closure_spec\">closure_spec:</strong> <span style=\"font-size:20px;\"><a class=\"ProveItLink\" href=\"__pv_it/d7fa17de759a2f1be899d7b171ce7193ca5d80370/expr.ipynb\"><img src=\"__pv_it/d7fa17de759a2f1be899d7b171ce7193ca5d80370/expr.png\" style=\"display:inline;vertical-align:middle;\" /></a> &#x22A2;&nbsp;<a class=\"ProveItLink\" href=\"__pv_it/98e2f5b0f3559030ca1ce54b53c4b1e665dc547f0/expr.ipynb\"><img src=\"__pv_it/98e2f5b0f3559030ca1ce54b53c4b1e665dc547f0/expr.png\" style=\"display:inline;vertical-align:middle;\" /></a></span><br>"
      ],
      "text/plain": [
       "closure_spec: {m in Naturals} |= forall_{A in BOOLEANS^{m}} ((A_(1) or  ...  or A_(m)) in BOOLEANS)"
      ]
     },
     "execution_count": 3,
     "metadata": {},
     "output_type": "execute_result"
    }
   ],
   "source": [
    "closure_spec = closure.specialize({m:m}, assumptions=[InSet(m, Naturals)])"
   ]
  },
  {
   "cell_type": "code",
   "execution_count": 4,
   "metadata": {},
   "outputs": [
    {
     "data": {
      "text/html": [
       "<span style=\"font-size:20px;\"> &#x22A2;&nbsp;<a class=\"ProveItLink\" href=\"__pv_it/b6398adac10e02d9c85c35607d7c59ccd85ec1610/expr.ipynb\"><img src=\"__pv_it/b6398adac10e02d9c85c35607d7c59ccd85ec1610/expr.png\" style=\"display:inline;vertical-align:middle;\" /></a></span>"
      ],
      "text/plain": [
       "|= forall_{C in BOOLEANS^{4}} ((C_(1) or  ...  or C_(4)) in BOOLEANS)"
      ]
     },
     "execution_count": 4,
     "metadata": {},
     "output_type": "execute_result"
    }
   ],
   "source": [
    "closure.specialize({m:num(4)}, relabelMap={AA:C}, assumptions=[C])"
   ]
  },
  {
   "cell_type": "code",
   "execution_count": 5,
   "metadata": {},
   "outputs": [
    {
     "data": {
      "text/html": [
       "<strong id=\"demo1\">demo1:</strong> <span style=\"font-size:20px;\"><a class=\"ProveItLink\" href=\"__pv_it/f28f9b812246a6c4975e6f67667fe62b1fba502a0/expr.ipynb\"><img src=\"__pv_it/f28f9b812246a6c4975e6f67667fe62b1fba502a0/expr.png\" style=\"display:inline;vertical-align:middle;\" /></a> &#x22A2;&nbsp;<a class=\"ProveItLink\" href=\"__pv_it/542994d0ed684b4561089fa3677eb846adb2d58d0/expr.ipynb\"><img src=\"__pv_it/542994d0ed684b4561089fa3677eb846adb2d58d0/expr.png\" style=\"display:inline;vertical-align:middle;\" /></a></span><br>"
      ],
      "text/plain": [
       "demo1: {A in BOOLEANS , B in BOOLEANS , C in BOOLEANS , D in BOOLEANS} |= (A or B or C or D) in BOOLEANS"
      ]
     },
     "execution_count": 5,
     "metadata": {},
     "output_type": "execute_result"
    }
   ],
   "source": [
    "demo1 = closure.specialize({m:num(4), AA:[A, B, C, D]}, assumptions = [inBool(A), inBool(B), inBool(C), inBool(D)])"
   ]
  },
  {
   "cell_type": "code",
   "execution_count": 6,
   "metadata": {},
   "outputs": [
    {
     "data": {
      "text/html": [
       "<table><tr><th>&nbsp;</th><th>step type</th><th>requirements</th><th>statement</th></tr>\n",
       "<tr><td>0</td><td>specialization</td><td>1, 2, 3, 4, 5, 6</td><td><span style=\"font-size:20px;\"><a class=\"ProveItLink\" href=\"__pv_it/f28f9b812246a6c4975e6f67667fe62b1fba502a0/expr.ipynb\"><img src=\"__pv_it/f28f9b812246a6c4975e6f67667fe62b1fba502a0/expr.png\" style=\"display:inline;vertical-align:middle;\" /></a> &#x22A2;&nbsp;<a class=\"ProveItLink\" href=\"__pv_it/542994d0ed684b4561089fa3677eb846adb2d58d0/expr.ipynb\"><img src=\"__pv_it/542994d0ed684b4561089fa3677eb846adb2d58d0/expr.png\" style=\"display:inline;vertical-align:middle;\" /></a></span></td></tr>\n",
       "<tr><td>&nbsp;</td><td colspan=4 style=\"text-align:left\"><span style=\"font-size:20px;\"><a class=\"ProveItLink\" href=\"../../../__pv_it/78af03acba5349fd70398a32ce59bae1da52f0870/expr.ipynb\"><img src=\"../../../__pv_it/78af03acba5349fd70398a32ce59bae1da52f0870/expr.png\" style=\"display:inline;vertical-align:middle;\" /></a> : <a class=\"ProveItLink\" href=\"../../../number/numeral/__pv_it/23412ce59ea7e77353d2f9225e02248e73651ca00/expr.ipynb\"><img src=\"../../../number/numeral/__pv_it/23412ce59ea7e77353d2f9225e02248e73651ca00/expr.png\" style=\"display:inline;vertical-align:middle;\" /></a>, <a class=\"ProveItLink\" href=\"../../../__pv_it/eb438fefc4bd0ac977777d6dfd3e8a72dfbedbd50/expr.ipynb\"><img src=\"../../../__pv_it/eb438fefc4bd0ac977777d6dfd3e8a72dfbedbd50/expr.png\" style=\"display:inline;vertical-align:middle;\" /></a> : <a class=\"ProveItLink\" href=\"__pv_it/ba51a0fc910408dc1211c29b03a29f7cec842b550/expr.ipynb\"><img src=\"__pv_it/ba51a0fc910408dc1211c29b03a29f7cec842b550/expr.png\" style=\"display:inline;vertical-align:middle;\" /></a></span></td></tr><tr><td>1</td><td>theorem</td><td></td><td><span style=\"font-size:20px;\"> &#x22A2;&nbsp;<a class=\"ProveItLink\" href=\"__pv_it/2cb505713778067a1b94f558521c476c9ef7d74f0/expr.ipynb\"><img src=\"__pv_it/2cb505713778067a1b94f558521c476c9ef7d74f0/expr.png\" style=\"display:inline;vertical-align:middle;\" /></a></span></td></tr>\n",
       "<tr><td>&nbsp;</td><td colspan=4 style-\"text-align:left\"><a class=\"ProveItLink\" href=\"_proofs_/closure.ipynb\">proveit.logic.boolean.disjunction.closure</a></td></tr><tr><td>2</td><td>theorem</td><td></td><td><span style=\"font-size:20px;\"> &#x22A2;&nbsp;<a class=\"ProveItLink\" href=\"../../../number/numeral/deci/__pv_it/3fc93db3b3fd1b15204240d9de18a48656bfb08c0/expr.ipynb\"><img src=\"../../../number/numeral/deci/__pv_it/3fc93db3b3fd1b15204240d9de18a48656bfb08c0/expr.png\" style=\"display:inline;vertical-align:middle;\" /></a></span></td></tr>\n",
       "<tr><td>&nbsp;</td><td colspan=4 style-\"text-align:left\"><a class=\"ProveItLink\" href=\"../../../number/numeral/deci/_proofs_/nat4.ipynb\">proveit.number.numeral.deci.nat4</a></td></tr><tr><td>3</td><td>specialization</td><td>7, 8, 9, 10, 11</td><td><span style=\"font-size:20px;\"><a class=\"ProveItLink\" href=\"__pv_it/f28f9b812246a6c4975e6f67667fe62b1fba502a0/expr.ipynb\"><img src=\"__pv_it/f28f9b812246a6c4975e6f67667fe62b1fba502a0/expr.png\" style=\"display:inline;vertical-align:middle;\" /></a> &#x22A2;&nbsp;<a class=\"ProveItLink\" href=\"__pv_it/c7afd1ead8211492267b3cefac34659a98e80ce80/expr.ipynb\"><img src=\"__pv_it/c7afd1ead8211492267b3cefac34659a98e80ce80/expr.png\" style=\"display:inline;vertical-align:middle;\" /></a></span></td></tr>\n",
       "<tr><td>&nbsp;</td><td colspan=4 style=\"text-align:left\"><span style=\"font-size:20px;\"><a class=\"ProveItLink\" href=\"../../../__pv_it/abeee18594afe51bfb1be95d9591fbba24ac53f30/expr.ipynb\"><img src=\"../../../__pv_it/abeee18594afe51bfb1be95d9591fbba24ac53f30/expr.png\" style=\"display:inline;vertical-align:middle;\" /></a> : <a class=\"ProveItLink\" href=\"../__pv_it/46271c8230be96415d662709611f4ed2279d702b0/expr.ipynb\"><img src=\"../__pv_it/46271c8230be96415d662709611f4ed2279d702b0/expr.png\" style=\"display:inline;vertical-align:middle;\" /></a>, <a class=\"ProveItLink\" href=\"../../../__pv_it/07527342713064c87612d00d8557c53d53d5324a0/expr.ipynb\"><img src=\"../../../__pv_it/07527342713064c87612d00d8557c53d53d5324a0/expr.png\" style=\"display:inline;vertical-align:middle;\" /></a> : <a class=\"ProveItLink\" href=\"../../../__pv_it/2cbe72a7ad6f655694dd697106680215e8489b600/expr.ipynb\"><img src=\"../../../__pv_it/2cbe72a7ad6f655694dd697106680215e8489b600/expr.png\" style=\"display:inline;vertical-align:middle;\" /></a>, <a class=\"ProveItLink\" href=\"../../../__pv_it/6840a4fa6c106149dc16a131294d0c5e44f1b0480/expr.ipynb\"><img src=\"../../../__pv_it/6840a4fa6c106149dc16a131294d0c5e44f1b0480/expr.png\" style=\"display:inline;vertical-align:middle;\" /></a> : <a class=\"ProveItLink\" href=\"../../../__pv_it/077b2ff79244fb4582cbe22c6e3356fa92a52f2f0/expr.ipynb\"><img src=\"../../../__pv_it/077b2ff79244fb4582cbe22c6e3356fa92a52f2f0/expr.png\" style=\"display:inline;vertical-align:middle;\" /></a>, <a class=\"ProveItLink\" href=\"../../../__pv_it/cbdfda466482236edba0ce44ac7ef39cda0af7a40/expr.ipynb\"><img src=\"../../../__pv_it/cbdfda466482236edba0ce44ac7ef39cda0af7a40/expr.png\" style=\"display:inline;vertical-align:middle;\" /></a> : <a class=\"ProveItLink\" href=\"../../../__pv_it/985a1bdf1540838275dec15f4ad6de261cca93ce0/expr.ipynb\"><img src=\"../../../__pv_it/985a1bdf1540838275dec15f4ad6de261cca93ce0/expr.png\" style=\"display:inline;vertical-align:middle;\" /></a>, <a class=\"ProveItLink\" href=\"../../../__pv_it/3a5de44ed6135dbbdbbeec6704c741e238f127300/expr.ipynb\"><img src=\"../../../__pv_it/3a5de44ed6135dbbdbbeec6704c741e238f127300/expr.png\" style=\"display:inline;vertical-align:middle;\" /></a> : <a class=\"ProveItLink\" href=\"../../../__pv_it/185e6d30f167ee2ee5ef3321098dc98e0d77bc590/expr.ipynb\"><img src=\"../../../__pv_it/185e6d30f167ee2ee5ef3321098dc98e0d77bc590/expr.png\" style=\"display:inline;vertical-align:middle;\" /></a></span></td></tr><tr><td>4</td><td>theorem</td><td></td><td><span style=\"font-size:20px;\"> &#x22A2;&nbsp;<a class=\"ProveItLink\" href=\"../../../number/numeral/deci/__pv_it/c5d3f2ba07647aec518bec1929b16561d1a340400/expr.ipynb\"><img src=\"../../../number/numeral/deci/__pv_it/c5d3f2ba07647aec518bec1929b16561d1a340400/expr.png\" style=\"display:inline;vertical-align:middle;\" /></a></span></td></tr>\n",
       "<tr><td>&nbsp;</td><td colspan=4 style-\"text-align:left\"><a class=\"ProveItLink\" href=\"../../../number/numeral/deci/_proofs_/add_1_1.ipynb\">proveit.number.numeral.deci.add_1_1</a></td></tr><tr><td>5</td><td>theorem</td><td></td><td><span style=\"font-size:20px;\"> &#x22A2;&nbsp;<a class=\"ProveItLink\" href=\"../../../number/numeral/deci/__pv_it/21aa4b60034093b61b7d779cdd54bc7d2d51c73e0/expr.ipynb\"><img src=\"../../../number/numeral/deci/__pv_it/21aa4b60034093b61b7d779cdd54bc7d2d51c73e0/expr.png\" style=\"display:inline;vertical-align:middle;\" /></a></span></td></tr>\n",
       "<tr><td>&nbsp;</td><td colspan=4 style-\"text-align:left\"><a class=\"ProveItLink\" href=\"../../../number/numeral/deci/_proofs_/add_2_1.ipynb\">proveit.number.numeral.deci.add_2_1</a></td></tr><tr><td>6</td><td>theorem</td><td></td><td><span style=\"font-size:20px;\"> &#x22A2;&nbsp;<a class=\"ProveItLink\" href=\"../../../number/numeral/deci/__pv_it/dacb710858c5d508d55e05fa21bc52e5449bb54c0/expr.ipynb\"><img src=\"../../../number/numeral/deci/__pv_it/dacb710858c5d508d55e05fa21bc52e5449bb54c0/expr.png\" style=\"display:inline;vertical-align:middle;\" /></a></span></td></tr>\n",
       "<tr><td>&nbsp;</td><td colspan=4 style-\"text-align:left\"><a class=\"ProveItLink\" href=\"../../../number/numeral/deci/_proofs_/add_3_1.ipynb\">proveit.number.numeral.deci.add_3_1</a></td></tr><tr><td>7</td><td>theorem</td><td></td><td><span style=\"font-size:20px;\"> &#x22A2;&nbsp;<a class=\"ProveItLink\" href=\"../../set_theory/membership/__pv_it/f8871096ab31a54eeeb7d5201addc96bdbcd44530/expr.ipynb\"><img src=\"../../set_theory/membership/__pv_it/f8871096ab31a54eeeb7d5201addc96bdbcd44530/expr.png\" style=\"display:inline;vertical-align:middle;\" /></a></span></td></tr>\n",
       "<tr><td>&nbsp;</td><td colspan=4 style-\"text-align:left\"><a class=\"ProveItLink\" href=\"../../set_theory/membership/_proofs_/exp_set_4.ipynb\">proveit.logic.set_theory.membership.exp_set_4</a></td></tr><tr><td>8</td><td>assumption</td><td></td><td><span style=\"font-size:20px;\"><a class=\"ProveItLink\" href=\"__pv_it/017ca8cfa034181c90ba15dd10869f0f4e516d6a0/expr.ipynb\"><img src=\"__pv_it/017ca8cfa034181c90ba15dd10869f0f4e516d6a0/expr.png\" style=\"display:inline;vertical-align:middle;\" /></a> &#x22A2;&nbsp;<a class=\"ProveItLink\" href=\"__pv_it/03a5c2b5cc6fc2c3cd686b4bcf84379b893abe210/expr.ipynb\"><img src=\"__pv_it/03a5c2b5cc6fc2c3cd686b4bcf84379b893abe210/expr.png\" style=\"display:inline;vertical-align:middle;\" /></a></span></td></tr>\n",
       "<tr><td>9</td><td>assumption</td><td></td><td><span style=\"font-size:20px;\"><a class=\"ProveItLink\" href=\"__pv_it/2c2e947402f53b9e11cd7769e1b5b3378595750e0/expr.ipynb\"><img src=\"__pv_it/2c2e947402f53b9e11cd7769e1b5b3378595750e0/expr.png\" style=\"display:inline;vertical-align:middle;\" /></a> &#x22A2;&nbsp;<a class=\"ProveItLink\" href=\"__pv_it/fe5c91c77f0659f9ea07a2e3257797875d6868370/expr.ipynb\"><img src=\"__pv_it/fe5c91c77f0659f9ea07a2e3257797875d6868370/expr.png\" style=\"display:inline;vertical-align:middle;\" /></a></span></td></tr>\n",
       "<tr><td>10</td><td>assumption</td><td></td><td><span style=\"font-size:20px;\"><a class=\"ProveItLink\" href=\"__pv_it/549ecf82a9d4ac5ca0750c6c3aaf83e6e7209ca90/expr.ipynb\"><img src=\"__pv_it/549ecf82a9d4ac5ca0750c6c3aaf83e6e7209ca90/expr.png\" style=\"display:inline;vertical-align:middle;\" /></a> &#x22A2;&nbsp;<a class=\"ProveItLink\" href=\"__pv_it/2cec3c732aceb253233bb533d4e43cc3f34f4f660/expr.ipynb\"><img src=\"__pv_it/2cec3c732aceb253233bb533d4e43cc3f34f4f660/expr.png\" style=\"display:inline;vertical-align:middle;\" /></a></span></td></tr>\n",
       "<tr><td>11</td><td>assumption</td><td></td><td><span style=\"font-size:20px;\"><a class=\"ProveItLink\" href=\"__pv_it/aa3618fdfba9edc866f19a2dbc2f7cde292ff1c70/expr.ipynb\"><img src=\"__pv_it/aa3618fdfba9edc866f19a2dbc2f7cde292ff1c70/expr.png\" style=\"display:inline;vertical-align:middle;\" /></a> &#x22A2;&nbsp;<a class=\"ProveItLink\" href=\"__pv_it/3891b823dfb55f51d513cc7144556dc1bfd425b70/expr.ipynb\"><img src=\"__pv_it/3891b823dfb55f51d513cc7144556dc1bfd425b70/expr.png\" style=\"display:inline;vertical-align:middle;\" /></a></span></td></tr>\n",
       "</table>"
      ],
      "text/plain": [
       "\tstep type\trequirements\tstatement\n",
       "0\tspecialization\t1, 2, 3, 4, 5, 6\t{A in BOOLEANS , B in BOOLEANS , C in BOOLEANS , D in BOOLEANS} |= (A or B or C or D) in BOOLEANS\n",
       "\tm : 4, A : (A , B , C , D)\n",
       "1\ttheorem\t\t|= forall_{m in Naturals} [forall_{A in BOOLEANS^{m}} ((A_(1) or  ...  or A_(m)) in BOOLEANS)]\n",
       "\tproveit.logic.boolean.disjunction.closure\n",
       "2\ttheorem\t\t|= 4 in Naturals\n",
       "\tproveit.number.numeral.deci.nat4\n",
       "3\tspecialization\t7, 8, 9, 10, 11\t{A in BOOLEANS , B in BOOLEANS , C in BOOLEANS , D in BOOLEANS} |= (A , B , C , D) in BOOLEANS^{4}\n",
       "\tS : BOOLEANS, a : A, b : B, c : C, d : D\n",
       "4\ttheorem\t\t|= (1 + 1) = 2\n",
       "\tproveit.number.numeral.deci.add_1_1\n",
       "5\ttheorem\t\t|= (2 + 1) = 3\n",
       "\tproveit.number.numeral.deci.add_2_1\n",
       "6\ttheorem\t\t|= (3 + 1) = 4\n",
       "\tproveit.number.numeral.deci.add_3_1\n",
       "7\ttheorem\t\t|= forall_{S} [forall_{a, b, c, d in S} ((a , b , c , d) in S^{4})]\n",
       "\tproveit.logic.set_theory.membership.exp_set_4\n",
       "8\tassumption\t\t{A in BOOLEANS} |= A in BOOLEANS\n",
       "9\tassumption\t\t{B in BOOLEANS} |= B in BOOLEANS\n",
       "10\tassumption\t\t{C in BOOLEANS} |= C in BOOLEANS\n",
       "11\tassumption\t\t{D in BOOLEANS} |= D in BOOLEANS"
      ]
     },
     "execution_count": 6,
     "metadata": {},
     "output_type": "execute_result"
    }
   ],
   "source": [
    "demo1.proof()"
   ]
  },
  {
   "cell_type": "code",
   "execution_count": 7,
   "metadata": {},
   "outputs": [
    {
     "data": {
      "text/html": [
       "<span style=\"font-size:20px;\"><a class=\"ProveItLink\" href=\"__pv_it/5d984fe3b716014c27a7b6bfc0104d77104379830/expr.ipynb\"><img src=\"__pv_it/5d984fe3b716014c27a7b6bfc0104d77104379830/expr.png\" style=\"display:inline;vertical-align:middle;\" /></a> &#x22A2;&nbsp;<a class=\"ProveItLink\" href=\"__pv_it/fe5c91c77f0659f9ea07a2e3257797875d6868370/expr.ipynb\"><img src=\"__pv_it/fe5c91c77f0659f9ea07a2e3257797875d6868370/expr.png\" style=\"display:inline;vertical-align:middle;\" /></a></span>"
      ],
      "text/plain": [
       "{(A or B or C or D) in BOOLEANS} |= B in BOOLEANS"
      ]
     },
     "execution_count": 7,
     "metadata": {},
     "output_type": "execute_result"
    }
   ],
   "source": [
    "demo1.element.deducePartInBool(1, assumptions=[demo1.expr])"
   ]
  },
  {
   "cell_type": "code",
   "execution_count": 8,
   "metadata": {},
   "outputs": [
    {
     "data": {
      "text/html": [
       "<span style=\"font-size:20px;\"> &#x22A2;&nbsp;<a class=\"ProveItLink\" href=\"__pv_it/cd30baf5ab2620c9803897366acf4394ab8c82330/expr.ipynb\"><img src=\"__pv_it/cd30baf5ab2620c9803897366acf4394ab8c82330/expr.png\" style=\"display:inline;vertical-align:middle;\" /></a></span>"
      ],
      "text/plain": [
       "|= forall_{m, n in Naturals} [forall_{A, B, C | (A_(1) or  ...  or A_(m) or B or C_(1) or  ...  or C_(n)) in BOOLEANS} (B in BOOLEANS)]"
      ]
     },
     "execution_count": 8,
     "metadata": {},
     "output_type": "execute_result"
    }
   ],
   "source": [
    "eachInBool"
   ]
  },
  {
   "cell_type": "code",
   "execution_count": 9,
   "metadata": {},
   "outputs": [],
   "source": [
    "%end demonstrations"
   ]
  }
 ],
 "metadata": {
  "kernelspec": {
   "display_name": "Python 3",
   "language": "python",
   "name": "python3"
  },
  "language_info": {
   "codemirror_mode": {
    "name": "ipython",
    "version": 3
   },
   "file_extension": ".py",
   "mimetype": "text/x-python",
   "name": "python",
   "nbconvert_exporter": "python",
   "pygments_lexer": "ipython3",
   "version": "3.7.0"
  }
 },
 "nbformat": 4,
 "nbformat_minor": 1
}
